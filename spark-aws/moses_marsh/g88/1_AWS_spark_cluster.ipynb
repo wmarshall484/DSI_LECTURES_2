{
 "cells": [
  {
   "cell_type": "markdown",
   "metadata": {},
   "source": [
    "# Starting a Spark cluster on AWS"
   ]
  },
  {
   "cell_type": "markdown",
   "metadata": {},
   "source": [
    "## 0. Setup (review from [here](https://github.com/gSchool/DSI_Lectures/blob/master/high-performance-python/moses_marsh/aws_lecture.ipynb))"
   ]
  },
  {
   "cell_type": "markdown",
   "metadata": {},
   "source": [
    "### 0.1 AWS Credentials\n",
    "- sign in to your AWS console: https://console.aws.amazon.com\n",
    "\n",
    "- click on your name in the upper right, then click `My Security Credentials`\n",
    "\n",
    "- A dialog will pop up, asking you to either `Continue to Security Credentials` or `Get started with IAM users`. Click **`Continue to Security Credentials`**. IAM is a way of managing multiple user roles, which we won't worry about.\n",
    "\n",
    "- click `Access Keys`, then `Create New Access Key`\n",
    "\n",
    "- `Download Key File` will save the keys in a text file, and `show access key` will display the keys for quick copy/pasting. **This is your only chance to save these keys**. If you lose them immediately (such as closing your browser and deleting the downloaded file), you cannot recover them. You will have to generate a new pair. \n",
    "\n",
    "- in your terminal, install the AWS command line tools with `pip install awscli` (yes this is weird that we're installing a command line utility with `pip`, the python package installer. thanks amazon.)\n",
    "- then type `aws configure`\n",
    "    - paste your AWS Access Key ID and AWS Secret Access Key when prompted\n",
    "    - for Default Region Name, enter `us-east-1`\n",
    "    - for Default Output Format, enter `json` (or leave it as `None`, this doesn't matter to us for now)\n",
    "- this created a folder, `~/.aws`, containing two files: `config` and `credentials`. You can use these to manage multiple profiles. For now, we're cool.    \n"
   ]
  },
  {
   "cell_type": "markdown",
   "metadata": {},
   "source": [
    "### 0.2 Managing buckets with the AWS command line interface\n",
    "\n",
    "[AWS CLI S3 documentation](https://docs.aws.amazon.com/cli/latest/userguide/using-s3-commands.html)\n",
    "\n",
    "- `aws s3 ls` to list your buckets\n",
    "- `aws s3 ls s3://BUCKETNAME/` to list contents of a bucket\n",
    "- `aws s3 ls s3://BUCKETNAME/FOLDERNAME/` to list contents of a directory in the bucket (the trailing `/` is necessary)\n",
    "- `aws s3 mb s3://BUCKETNAME` to create a new bucket\n",
    "- `aws s3 rb s3://BUCKETNAME` to delete a bucket (the bucket must be empty)\n",
    "    - `aws s3 rb s3://BUCKETNAME --force` to delete a non-empty bucket\n",
    "- `aws s3 cp LOCALFILE s3://BUCKETNAME/` to upload a local file to a bucket\n",
    "- `aws s3 cp s3://BUCKETNAME/FILENAME .` to download a `FILENAME` to the current directory\n",
    "    - just like the UNIX `cp`, use the `--recursive` flag for copying directories\n",
    "    - you can also use `rm` and `mv` the same way\n",
    "- see the `aws s3 sync` command in the docs above for more examples of how to keep a local directory & a remote bucket directory synchronized\n"
   ]
  },
  {
   "cell_type": "markdown",
   "metadata": {},
   "source": [
    "## 0.3 Starting a single EC2 instance using the AWS Console GUI\n",
    "- Login to the AWS console, click `Services`, then, under \"Compute\", click `EC2`\n",
    "- In the upper right corner of the page, make sure your region is `N. Virginia`\n",
    "- Click the blue `Launch Instance` button\n",
    "- scroll down to the first entry that says `ubuntu` and click `select`\n",
    "- by default, the `t2.micro` instance (free tier) is selected. leave it, then click `Next: Configure instance details`\n",
    "- leave `IAM role` as `None`, then clicke `Next: Add Storage`\n",
    "- here we can add EBS (think of it as more hard drive space). The default disk size is 8 GB. Change it to 20 (which still qualifies for the free tier).\n",
    "- click `Next` until you are at the `Configure Security Group` screen. Make sure there is an entry with `Type: SSH`, `Protocol: TCP`, `Port Range: 22`, and `Source: Anywhere`. (If not, create one with `Add Rule`)\n",
    "- Now click `Review and Launch`, then `Launch`\n",
    "- This brings up a window asking you to select a secure key pair to access this instance. Select `create a new key pair`, give it a name (for example, `my_first_key`), then click `Download Key Pair`\n",
    "    - **this is your only chance to download it**. if you lose this file, you'll have to generate a new one, and you'll lose access to any EC2 instances that need the old key pair. \n",
    "- Click `launch instance`\n",
    "\n",
    "##### is there an AWS CLI way to start EC2 instances?\n",
    "yes, good luck: https://docs.aws.amazon.com/cli/latest/userguide/cli-using-ec2.html"
   ]
  },
  {
   "cell_type": "markdown",
   "metadata": {},
   "source": [
    "## 0.4 Accessing your EC2 instance using SSH\n",
    "We are going to set up convenient SSH access to your cloud computer\n",
    "- move the `pem` file from wherever you downloaded it to your `~/.ssh` folder (if this folder doesn't exist, create it)\n",
    "    - example: `mv ~/Downloads/my_first_key.pem ~/.ssh`\n",
    "- SSH requires that your key file be accessible only to you, so change the permissions with:\n",
    "    - `chmod 400 ~/.ssh/my_first_key.pem`\n",
    "- back on the EC2 dashboard of the AWS web console, click on your instance (you should see it running [here](https://console.aws.amazon.com/ec2/v2/home?region=us-east-1#Instances:sort=instanceId)\n",
    "- copy its public DNS (which looks something like `ec2-52-90-35-125.compute-1.amazonaws.com`)\n",
    "- in the `~/.ssh` folder, create a file named `config` (you can create a blank file by typing `touch config`) and enter the following text:\n",
    "\n",
    "```\n",
    "Host my_first_ec2\n",
    "    Hostname PUBLICDNS\n",
    "    User ubuntu\n",
    "    IdentityFile ~/.ssh/my_first_key.pem\n",
    "\n",
    "```\n",
    "\n",
    "- now we can connect your local terminal to a terminal running on the remote computer with\n",
    "    - `ssh my_first_ec2`  \n",
    "- you now have a terminal open to enter shell commands on a remote computer! wow! the following commands are to be run on the remote computer, NOT on a local terminal\n",
    "- let's install the AWS CLI on this system. To do so, in this case:\n",
    "    - `sudo apt update`\n",
    "    - `sudo apt upgrade`\n",
    "    - `sudo apt install awscli`\n",
    "- Try `aws s3 ls`. If this gives you an authentication error, you'll have to copy your AWS keys over with `aws configure`."
   ]
  },
  {
   "cell_type": "markdown",
   "metadata": {},
   "source": [
    "## 0.5 Copying a file to a remote computer (EC2 instance)\n",
    "- To copy a file `myfile.txt` to EC2, use a command like this.\n",
    "    - `scp myfile.txt my_first_ec2:`\n",
    "- To copy a file from the EC2 to the current directory on the local machine, try\n",
    "    - `scp my_first_ec2:path/to/remote_file .`\n",
    "- To copy a directory `mydir` to EC2, use a command like this. \n",
    "    - `scp -r mydir my_first_ec2:`"
   ]
  },
  {
   "cell_type": "markdown",
   "metadata": {},
   "source": [
    "## 1. Starting a cluster using the AWS Console GUI\n",
    "\n",
    "### 1.1 starting the cluster\n",
    "- Login to the AWS console, click Services, then, under \"Analytics\", click EMR\n",
    "- In the upper right corner of the page, make sure your region is N. Virginia\n",
    "- Click the blue \"Create Cluster\" button\n",
    "- Use the following settings. Items marked with an asterisk (`*`) indicate changes to the default values that you need to make before launching the cluster.\n",
    "\n",
    "| *Setting* | *Value* |\n",
    "| ------- | ----- |\n",
    "| Cluster name (`*`) | First Spark Cluster |\n",
    "| Launch Mode | Cluster |\n",
    "| Release | emr-5.22.0 |\n",
    "| Applications (`*`) | Spark: Spark 2.4.0 on Hadoop 2.8.5 YARN with Ganglia 3.7.2 and Zeppelin 0.8.1 |\n",
    "| Instance type | m3.xlarge |\n",
    "| Number of instances | 3 |\n",
    "| EC2 key pair (`*`) | spark **`<-- choose a pem key that you have locally in your .ssh folder`** |\n",
    "| Permissions | Default |\n",
    "| EMR Role | EMR_DefaultRole |\n",
    "| EC2 instance profile | EMR_EC2_DefaultRole |\n",
    "\n",
    "- Click Create Cluster at the bottom of the page. It will take a few minutes for your cluster to launch, so now is a good time to take a 5-minute break.\n",
    "\n",
    "  - NOTE: Occasionally your cluster will fail to launch with the error message Terminated with errors: Failed to provision ec2 instances because 'The requested instance profile EMR_AutoScaling_DefaultRole is invalid'. If this happens, just try and launch the cluster again and it should work."
   ]
  },
  {
   "cell_type": "markdown",
   "metadata": {},
   "source": [
    "### 1.2 Connecting to the master node of the cluster using SSH\n",
    "- When the cluster status changes to Waiting, you are ready to begin working with the cluster:\n",
    "- Find the hostname of your cluster's master node in the EMR console. It should be listed under **Master public DNS**, and look something like `ec2-54-80-24-220.compute-1.amazonaws.com`\n",
    "- Open your SSH configuration file (e.g. code ~/.ssh/config, or use your favorite text editor) and add the following, but substitute your cluster master's host name.\n",
    "\n",
    "```\n",
    "# First Spark Cluster\n",
    "Host sparkparty\n",
    "  HostName ec2-XX-XXX-X-XX.compute-1.amazonaws.com\n",
    "  User hadoop\n",
    "  IdentityFile ~/.ssh/mykey.pem\n",
    "```\n",
    "- Note that it is essential to use the username `hadoop` (not `ec2-user` or `ubuntu`) in order to have access to the Spark environment.\n",
    "- In the [AWS EMR Console](http://console.aws.amazon.com/elasticmapreduce/home), click on the link by **Security groups for Master**, click the row for  **ElasticMapReduce-master**, click the **Inbound** tab, and click the **Edit** button. Ensure that there is a rule allowing SSH connections on TCP Port 22, from anywhere. If this rule does not exist, create it and click Save.\n",
    "- Connect to the cluster using SSH and open a PySpark shell on the cluster:\n",
    "```\n",
    "(local terminal): ssh sparkparty\n",
    "(remote terminal): pyspark\n",
    "(remote pyspark shell): yelp_business_url = 's3a://learn-assets.galvanize.com/gSchool/ds-curriculum/course-data/spark/yelp_academic_dataset_business.json.gz'\n",
    "(remote pyspark shell): yelp_business_df = spark.read.json(yelp_business_url)\n",
    "(remote pyspark shell): yelp_business_df.printSchema()\n",
    "```\n",
    "- If the above ran without errors, congratulations, you have now run your first lines of Spark code on a remote computer.\n",
    "- Now let's shut down this cluster.\n",
    " - Return to the [AWS EMR console](http://console.aws.amazon.com/elasticmapreduce/home), select the checkbox to the left of \"First Spark Cluster\", and click the Terminate button above the list. Goodnight cluster."
   ]
  },
  {
   "cell_type": "markdown",
   "metadata": {},
   "source": [
    "## 2. Starting a cluster using the AWS CLI with the provided script\n",
    "\n",
    "Take a look at the `launch_cluster.sh` script included in the scripts folder (make sure to `cd` into the scripts folder to run this script). The documentation at the top of the script details how to use it. \n",
    "\n",
    "```\n",
    "# Takes three arguments:\n",
    "#   bucket name - one that has already been created\n",
    "#   name of key file - without .pem extension\n",
    "#   number of worker instances\n",
    "#      ex. bash launch_cluster.sh mybucket mykey 2\n",
    "\n",
    "# This script assumes that the file bootstrap-emr.sh is \n",
    "#   in your current directory.\n",
    "```\n",
    "\n",
    "\n",
    "Note that you you will need to have the `awscli` set up including specifying a default region. You should not include the `.pem` extension when passing the name of your identity file. This cluster will be launched with a bootstrap action that installs Anaconda on each cluster node, enabling you to use data science libraries on the cluster.\n",
    "\n",
    "You will be using this cluster in today's exercise, where it is advised you have a cluster with at least 6 workers. Consider this when you go to use the `launch_cluster.sh` script.\n",
    "- run the command `bash launch_cluster.sh bucketname mykey 4` from the `scripts` folder\n",
    "- go to the [AWS EMR console](http://console.aws.amazon.com/elasticmapreduce/home) and click on your cluster\n",
    "- copy the **Master Public DNS** and paste it into your `~/.ssh/config` file as follows:\n",
    "```\n",
    "Host cluck\n",
    "   HostName ec2-XX-XXX-X-XX.compute-1.amazonaws.com \n",
    "   User hadoop\n",
    "   IdentityFile ~/.ssh/mykey.pem\n",
    "```"
   ]
  },
  {
   "cell_type": "markdown",
   "metadata": {},
   "source": [
    "## 3. Running Jupyter Lab on the cluster"
   ]
  },
  {
   "cell_type": "markdown",
   "metadata": {},
   "source": [
    "- use `scp` to copy the script `jupyspark-emr.sh` to your master node\n",
    " - `scp jupyspark-emr.sh cluck:`\n",
    "- open a terminal on the remote machine\n",
    " - `ssh cluck`\n",
    "- in that terminal, start a jupyter lab server with\n",
    " - `bash jupyspark-emr.sh`\n",
    "- **On your local machine**, run the following command to ssh tunnel port 48888, the port at which your notebook server is now running on the master node, to your localhost's port 48888.\n",
    " - `ssh -NfL 48888:localhost:48888 cluck`\n",
    "- Now you can access the remote jupyter server **from your browser** by going to the URL `localhost:48888` "
   ]
  },
  {
   "cell_type": "markdown",
   "metadata": {},
   "source": [
    "### 3.1: tmux\n",
    "Many processes are tied to your terminal. If you `ssh` into your remote machine and run a process in that terminal, that process will stop if you suddenly lose your connection.\n",
    "\n",
    "`tmux` is a tool for \"terminal multiplexing\". It's great for managing many processes in many terminals. Here's the process for starting a process in a terminal that is detached from your `ssh`ed terminal using `tmux`:\n",
    "\n",
    "- `ssh` into your remote machine\n",
    "- start a tmux session with `tmux new -s some_name`\n",
    "- start your process (notebook or script or whatever)\n",
    "- type `<ctrl>-b d` to detach (now you are back in your `ssh`ed terminal)\n",
    "- exit or shut down or go to sleep or whatever\n",
    "- `ssh` back in to your remote machine\n",
    "- type `tmux a -t some_name` to check on that process\n",
    "- [handy tmux reference](https://gist.github.com/MohamedAlaa/2961058)"
   ]
  }
 ],
 "metadata": {
  "kernelspec": {
   "display_name": "Python 3",
   "language": "python",
   "name": "python3"
  },
  "language_info": {
   "codemirror_mode": {
    "name": "ipython",
    "version": 3
   },
   "file_extension": ".py",
   "mimetype": "text/x-python",
   "name": "python",
   "nbconvert_exporter": "python",
   "pygments_lexer": "ipython3",
   "version": "3.7.1"
  }
 },
 "nbformat": 4,
 "nbformat_minor": 2
}
