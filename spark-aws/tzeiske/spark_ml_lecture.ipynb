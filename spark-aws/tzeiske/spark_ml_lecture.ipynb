{
 "metadata": {
  "kernelspec": {
   "display_name": "Python 2",
   "language": "python",
   "name": "python2"
  },
  "language_info": {
   "codemirror_mode": {
    "name": "ipython",
    "version": 2
   },
   "file_extension": ".py",
   "mimetype": "text/x-python",
   "name": "python",
   "nbconvert_exporter": "python",
   "pygments_lexer": "ipython2",
   "version": "2.7.11"
  },
  "name": "",
  "signature": "sha256:757739c98908da90cd0169c09f38bd02627503a63facd27bebff03bc44a99168"
 },
 "nbformat": 3,
 "nbformat_minor": 0,
 "worksheets": [
  {
   "cells": [
    {
     "cell_type": "markdown",
     "metadata": {
      "slideshow": {
       "slide_type": "slide"
      }
     },
     "source": [
      "# Spark-ML\n",
      "\n",
      "Machine learning at a scale!"
     ]
    },
    {
     "cell_type": "markdown",
     "metadata": {
      "slideshow": {
       "slide_type": "subslide"
      }
     },
     "source": [
      "# Objectives\n",
      "\n",
      "At the end of this lecture you should be able to:\n",
      "\n",
      "1. Chain spark dataframe methods together to do data munging.\n",
      "2. Be able to describe the Spark-ML API, and recognize differences to sk-learn.\n",
      "3. Chain Spark-ML Transformers and Estimators together to compose ML pipelines."
     ]
    },
    {
     "cell_type": "code",
     "collapsed": true,
     "input": [
      "import pyspark.sql.functions as F\n",
      "import sys\n",
      "#sys.tracebacklimit = 0"
     ],
     "language": "python",
     "metadata": {
      "slideshow": {
       "slide_type": "subslide"
      }
     },
     "outputs": [],
     "prompt_number": 6
    },
    {
     "cell_type": "code",
     "collapsed": true,
     "input": [
      "import pyspark as ps\n",
      "\n",
      "spark = ps.sql.SparkSession.builder \\\n",
      "            .master(\"local[4]\") \\\n",
      "            .appName(\"df lecture\") \\\n",
      "            .getOrCreate()\n"
     ],
     "language": "python",
     "metadata": {
      "scrolled": true,
      "slideshow": {
       "slide_type": "fragment"
      }
     },
     "outputs": [],
     "prompt_number": 8
    },
    {
     "cell_type": "markdown",
     "metadata": {
      "slideshow": {
       "slide_type": "slide"
      }
     },
     "source": [
      "# Supervised Machine Learning on DataFrames\n",
      "\n",
      "http://spark.apache.org/docs/latest/ml-features.html"
     ]
    },
    {
     "cell_type": "markdown",
     "metadata": {
      "slideshow": {
       "slide_type": "slide"
      }
     },
     "source": [
      "## Why does this difference matter?\n",
      "\n",
      "Let's try to run Spark-ML's built-in [min-max scaler](https://spark.apache.org/docs/latest/ml-features.html#minmaxscaler) the close column in our `appl_df`."
     ]
    },
    {
     "cell_type": "code",
     "collapsed": false,
     "input": [
      "# read CSV\n",
      "aapl_df = spark.read.csv('data/aapl.csv',\n",
      "                         header=True,       # use headers or not\n",
      "                         quote='\"',         # char for quotes\n",
      "                         sep=\",\",           # char for separation\n",
      "                         inferSchema=True)  # do we infer schema or not ?\n",
      "\n",
      "from pyspark.ml.feature import MinMaxScaler, VectorAssembler\n",
      "\n",
      "# Assemble values in a vector\n",
      "vectorAssembler = VectorAssembler(inputCols=[\"Close\"], \n",
      "                                  outputCol=\"Features\")\n",
      "\n",
      "vector_df = vectorAssembler.transform(aapl_df)\n",
      "print(aapl_df.columns)\n",
      "print(vector_df.columns)\n",
      "vector_df.select('Features').show(5)"
     ],
     "language": "python",
     "metadata": {
      "slideshow": {
       "slide_type": "subslide"
      }
     },
     "outputs": [
      {
       "output_type": "stream",
       "stream": "stdout",
       "text": [
        "['Date', 'Open', 'High', 'Low', 'Close', 'Volume', 'Adj Close']\n",
        "['Date', 'Open', 'High', 'Low', 'Close', 'Volume', 'Adj Close', 'Features']\n",
        "+------------+\n",
        "|    Features|\n",
        "+------------+\n",
        "|    [118.25]|\n",
        "|[117.650002]|\n",
        "|[116.599998]|\n",
        "|[117.059998]|\n",
        "|[117.120003]|\n",
        "+------------+\n",
        "only showing top 5 rows\n"
       ]
      },
      {
       "output_type": "stream",
       "stream": "stdout",
       "text": [
        "\n"
       ]
      }
     ],
     "prompt_number": 14
    },
    {
     "cell_type": "code",
     "collapsed": false,
     "input": [
      "#this won't work!\n",
      "fail_scaler = MinMaxScaler(inputCol=\"Close\", outputCol=\"Scaled Close\")\n",
      "\n",
      "fail_scaler_model = fail_scaler.fit(aapl_df)\n",
      "\n",
      "scaled_close = fail_scaler_model.transform(aapl_df)\n",
      "scaled_close.show(5)"
     ],
     "language": "python",
     "metadata": {
      "scrolled": false,
      "slideshow": {
       "slide_type": "fragment"
      }
     },
     "outputs": [
      {
       "ename": "IllegalArgumentException",
       "evalue": "u'Field \"Features\" does not exist.'",
       "output_type": "pyerr",
       "traceback": [
        "\u001b[0;31m---------------------------------------------------------------------------\u001b[0m\n\u001b[0;31mIllegalArgumentException\u001b[0m                  Traceback (most recent call last)",
        "\u001b[0;32m<ipython-input-16-d241178a0c0d>\u001b[0m in \u001b[0;36m<module>\u001b[0;34m()\u001b[0m\n\u001b[1;32m      1\u001b[0m \u001b[0mfail_scaler\u001b[0m \u001b[0;34m=\u001b[0m \u001b[0mMinMaxScaler\u001b[0m\u001b[0;34m(\u001b[0m\u001b[0minputCol\u001b[0m\u001b[0;34m=\u001b[0m\u001b[0;34m\"Features\"\u001b[0m\u001b[0;34m,\u001b[0m \u001b[0moutputCol\u001b[0m\u001b[0;34m=\u001b[0m\u001b[0;34m\"Scaled Close\"\u001b[0m\u001b[0;34m)\u001b[0m\u001b[0;34m\u001b[0m\u001b[0m\n\u001b[1;32m      2\u001b[0m \u001b[0;34m\u001b[0m\u001b[0m\n\u001b[0;32m----> 3\u001b[0;31m \u001b[0mfail_scaler_model\u001b[0m \u001b[0;34m=\u001b[0m \u001b[0mfail_scaler\u001b[0m\u001b[0;34m.\u001b[0m\u001b[0mfit\u001b[0m\u001b[0;34m(\u001b[0m\u001b[0maapl_df\u001b[0m\u001b[0;34m)\u001b[0m\u001b[0;34m\u001b[0m\u001b[0m\n\u001b[0m\u001b[1;32m      4\u001b[0m \u001b[0;34m\u001b[0m\u001b[0m\n\u001b[1;32m      5\u001b[0m \u001b[0mscaled_close\u001b[0m \u001b[0;34m=\u001b[0m \u001b[0mfail_scaler_model\u001b[0m\u001b[0;34m.\u001b[0m\u001b[0mtransform\u001b[0m\u001b[0;34m(\u001b[0m\u001b[0maapl_df\u001b[0m\u001b[0;34m)\u001b[0m\u001b[0;34m\u001b[0m\u001b[0m\n",
        "\u001b[0;32m/home/tim/spark-2.2.0-bin-hadoop2.7/python/lib/pyspark.zip/pyspark/ml/base.py\u001b[0m in \u001b[0;36mfit\u001b[0;34m(self, dataset, params)\u001b[0m\n\u001b[1;32m     62\u001b[0m                 \u001b[0;32mreturn\u001b[0m \u001b[0mself\u001b[0m\u001b[0;34m.\u001b[0m\u001b[0mcopy\u001b[0m\u001b[0;34m(\u001b[0m\u001b[0mparams\u001b[0m\u001b[0;34m)\u001b[0m\u001b[0;34m.\u001b[0m\u001b[0m_fit\u001b[0m\u001b[0;34m(\u001b[0m\u001b[0mdataset\u001b[0m\u001b[0;34m)\u001b[0m\u001b[0;34m\u001b[0m\u001b[0m\n\u001b[1;32m     63\u001b[0m             \u001b[0;32melse\u001b[0m\u001b[0;34m:\u001b[0m\u001b[0;34m\u001b[0m\u001b[0m\n\u001b[0;32m---> 64\u001b[0;31m                 \u001b[0;32mreturn\u001b[0m \u001b[0mself\u001b[0m\u001b[0;34m.\u001b[0m\u001b[0m_fit\u001b[0m\u001b[0;34m(\u001b[0m\u001b[0mdataset\u001b[0m\u001b[0;34m)\u001b[0m\u001b[0;34m\u001b[0m\u001b[0m\n\u001b[0m\u001b[1;32m     65\u001b[0m         \u001b[0;32melse\u001b[0m\u001b[0;34m:\u001b[0m\u001b[0;34m\u001b[0m\u001b[0m\n\u001b[1;32m     66\u001b[0m             raise ValueError(\"Params must be either a param map or a list/tuple of param maps, \"\n",
        "\u001b[0;32m/home/tim/spark-2.2.0-bin-hadoop2.7/python/lib/pyspark.zip/pyspark/ml/wrapper.py\u001b[0m in \u001b[0;36m_fit\u001b[0;34m(self, dataset)\u001b[0m\n\u001b[1;32m    263\u001b[0m \u001b[0;34m\u001b[0m\u001b[0m\n\u001b[1;32m    264\u001b[0m     \u001b[0;32mdef\u001b[0m \u001b[0m_fit\u001b[0m\u001b[0;34m(\u001b[0m\u001b[0mself\u001b[0m\u001b[0;34m,\u001b[0m \u001b[0mdataset\u001b[0m\u001b[0;34m)\u001b[0m\u001b[0;34m:\u001b[0m\u001b[0;34m\u001b[0m\u001b[0m\n\u001b[0;32m--> 265\u001b[0;31m         \u001b[0mjava_model\u001b[0m \u001b[0;34m=\u001b[0m \u001b[0mself\u001b[0m\u001b[0;34m.\u001b[0m\u001b[0m_fit_java\u001b[0m\u001b[0;34m(\u001b[0m\u001b[0mdataset\u001b[0m\u001b[0;34m)\u001b[0m\u001b[0;34m\u001b[0m\u001b[0m\n\u001b[0m\u001b[1;32m    266\u001b[0m         \u001b[0;32mreturn\u001b[0m \u001b[0mself\u001b[0m\u001b[0;34m.\u001b[0m\u001b[0m_create_model\u001b[0m\u001b[0;34m(\u001b[0m\u001b[0mjava_model\u001b[0m\u001b[0;34m)\u001b[0m\u001b[0;34m\u001b[0m\u001b[0m\n\u001b[1;32m    267\u001b[0m \u001b[0;34m\u001b[0m\u001b[0m\n",
        "\u001b[0;32m/home/tim/spark-2.2.0-bin-hadoop2.7/python/lib/pyspark.zip/pyspark/ml/wrapper.py\u001b[0m in \u001b[0;36m_fit_java\u001b[0;34m(self, dataset)\u001b[0m\n\u001b[1;32m    260\u001b[0m         \"\"\"\n\u001b[1;32m    261\u001b[0m         \u001b[0mself\u001b[0m\u001b[0;34m.\u001b[0m\u001b[0m_transfer_params_to_java\u001b[0m\u001b[0;34m(\u001b[0m\u001b[0;34m)\u001b[0m\u001b[0;34m\u001b[0m\u001b[0m\n\u001b[0;32m--> 262\u001b[0;31m         \u001b[0;32mreturn\u001b[0m \u001b[0mself\u001b[0m\u001b[0;34m.\u001b[0m\u001b[0m_java_obj\u001b[0m\u001b[0;34m.\u001b[0m\u001b[0mfit\u001b[0m\u001b[0;34m(\u001b[0m\u001b[0mdataset\u001b[0m\u001b[0;34m.\u001b[0m\u001b[0m_jdf\u001b[0m\u001b[0;34m)\u001b[0m\u001b[0;34m\u001b[0m\u001b[0m\n\u001b[0m\u001b[1;32m    263\u001b[0m \u001b[0;34m\u001b[0m\u001b[0m\n\u001b[1;32m    264\u001b[0m     \u001b[0;32mdef\u001b[0m \u001b[0m_fit\u001b[0m\u001b[0;34m(\u001b[0m\u001b[0mself\u001b[0m\u001b[0;34m,\u001b[0m \u001b[0mdataset\u001b[0m\u001b[0;34m)\u001b[0m\u001b[0;34m:\u001b[0m\u001b[0;34m\u001b[0m\u001b[0m\n",
        "\u001b[0;32m/home/tim/spark-2.2.0-bin-hadoop2.7/python/lib/py4j-0.10.4-src.zip/py4j/java_gateway.py\u001b[0m in \u001b[0;36m__call__\u001b[0;34m(self, *args)\u001b[0m\n\u001b[1;32m   1131\u001b[0m         \u001b[0manswer\u001b[0m \u001b[0;34m=\u001b[0m \u001b[0mself\u001b[0m\u001b[0;34m.\u001b[0m\u001b[0mgateway_client\u001b[0m\u001b[0;34m.\u001b[0m\u001b[0msend_command\u001b[0m\u001b[0;34m(\u001b[0m\u001b[0mcommand\u001b[0m\u001b[0;34m)\u001b[0m\u001b[0;34m\u001b[0m\u001b[0m\n\u001b[1;32m   1132\u001b[0m         return_value = get_return_value(\n\u001b[0;32m-> 1133\u001b[0;31m             answer, self.gateway_client, self.target_id, self.name)\n\u001b[0m\u001b[1;32m   1134\u001b[0m \u001b[0;34m\u001b[0m\u001b[0m\n\u001b[1;32m   1135\u001b[0m         \u001b[0;32mfor\u001b[0m \u001b[0mtemp_arg\u001b[0m \u001b[0;32min\u001b[0m \u001b[0mtemp_args\u001b[0m\u001b[0;34m:\u001b[0m\u001b[0;34m\u001b[0m\u001b[0m\n",
        "\u001b[0;32m/home/tim/spark-2.2.0-bin-hadoop2.7/python/lib/pyspark.zip/pyspark/sql/utils.py\u001b[0m in \u001b[0;36mdeco\u001b[0;34m(*a, **kw)\u001b[0m\n\u001b[1;32m     77\u001b[0m                 \u001b[0;32mraise\u001b[0m \u001b[0mQueryExecutionException\u001b[0m\u001b[0;34m(\u001b[0m\u001b[0ms\u001b[0m\u001b[0;34m.\u001b[0m\u001b[0msplit\u001b[0m\u001b[0;34m(\u001b[0m\u001b[0;34m': '\u001b[0m\u001b[0;34m,\u001b[0m \u001b[0;36m1\u001b[0m\u001b[0;34m)\u001b[0m\u001b[0;34m[\u001b[0m\u001b[0;36m1\u001b[0m\u001b[0;34m]\u001b[0m\u001b[0;34m,\u001b[0m \u001b[0mstackTrace\u001b[0m\u001b[0;34m)\u001b[0m\u001b[0;34m\u001b[0m\u001b[0m\n\u001b[1;32m     78\u001b[0m             \u001b[0;32mif\u001b[0m \u001b[0ms\u001b[0m\u001b[0;34m.\u001b[0m\u001b[0mstartswith\u001b[0m\u001b[0;34m(\u001b[0m\u001b[0;34m'java.lang.IllegalArgumentException: '\u001b[0m\u001b[0;34m)\u001b[0m\u001b[0;34m:\u001b[0m\u001b[0;34m\u001b[0m\u001b[0m\n\u001b[0;32m---> 79\u001b[0;31m                 \u001b[0;32mraise\u001b[0m \u001b[0mIllegalArgumentException\u001b[0m\u001b[0;34m(\u001b[0m\u001b[0ms\u001b[0m\u001b[0;34m.\u001b[0m\u001b[0msplit\u001b[0m\u001b[0;34m(\u001b[0m\u001b[0;34m': '\u001b[0m\u001b[0;34m,\u001b[0m \u001b[0;36m1\u001b[0m\u001b[0;34m)\u001b[0m\u001b[0;34m[\u001b[0m\u001b[0;36m1\u001b[0m\u001b[0;34m]\u001b[0m\u001b[0;34m,\u001b[0m \u001b[0mstackTrace\u001b[0m\u001b[0;34m)\u001b[0m\u001b[0;34m\u001b[0m\u001b[0m\n\u001b[0m\u001b[1;32m     80\u001b[0m             \u001b[0;32mraise\u001b[0m\u001b[0;34m\u001b[0m\u001b[0m\n\u001b[1;32m     81\u001b[0m     \u001b[0;32mreturn\u001b[0m \u001b[0mdeco\u001b[0m\u001b[0;34m\u001b[0m\u001b[0m\n",
        "\u001b[0;31mIllegalArgumentException\u001b[0m: u'Field \"Features\" does not exist.'"
       ]
      }
     ],
     "prompt_number": 16
    },
    {
     "cell_type": "heading",
     "level": 3,
     "metadata": {
      "slideshow": {
       "slide_type": "fragment"
      }
     },
     "source": [
      "Gotta have the column be a vector..."
     ]
    },
    {
     "cell_type": "code",
     "collapsed": false,
     "input": [
      "scaler = MinMaxScaler(inputCol=\"Features\", outputCol=\"Scaled Features\")\n",
      "\n",
      "# Compute summary statistics and generate MinMaxScalerModel\n",
      "scaler_model = scaler.fit(vector_df)\n",
      "# Notice how we didn't specify the column, we already did above\n",
      "\n",
      "# Rescale each feature to range [min, max], returns a dataframe\n",
      "scaled_data = scaler_model.transform(vector_df)\n",
      "scaled_data.select(\"Features\", \"Scaled Features\").show(5)"
     ],
     "language": "python",
     "metadata": {
      "slideshow": {
       "slide_type": "subslide"
      }
     },
     "outputs": [
      {
       "output_type": "stream",
       "stream": "stdout",
       "text": [
        "+------------+--------------------+\n",
        "|    Features|     Scaled Features|\n",
        "+------------+--------------------+\n",
        "|    [118.25]| [0.865963404782699]|\n",
        "|[117.650002]|[0.8473472730564975]|\n",
        "|[116.599998]|[0.8147688098332226]|\n",
        "|[117.059998]|[0.8290412250646944]|\n",
        "|[117.120003]|[0.8309029995776607]|\n",
        "+------------+--------------------+\n",
        "only showing top 5 rows\n",
        "\n"
       ]
      }
     ],
     "prompt_number": 21
    },
    {
     "cell_type": "heading",
     "level": 1,
     "metadata": {
      "slideshow": {
       "slide_type": "slide"
      }
     },
     "source": [
      "Transformers and Estimators"
     ]
    },
    {
     "cell_type": "markdown",
     "metadata": {
      "slideshow": {
       "slide_type": "subslide"
      }
     },
     "source": [
      "# Transformers\n",
      "\n",
      "The `VectorAssembler` class above is an example of a generic type in Spark, called a [Transformer](http://spark.apache.org/docs/latest/ml-pipeline.html#transformers). Important things to know about this type:\n",
      "\n",
      "* They implement a `transform` method.\n",
      "* They convert one `DataFrame` into another, usually by adding columns.\n",
      "\n",
      "Examples of Transformers: [`VectorAssembler`](http://spark.apache.org/docs/latest/ml-features.html#vectorassembler), [`Tokenizer`](http://spark.apache.org/docs/latest/ml-features.html#tokenizer), [`StopWordsRemover`](http://spark.apache.org/docs/latest/ml-features.html#stopwordsremover), and [many more](http://spark.apache.org/docs/latest/ml-features.html).\n",
      "\n"
     ]
    },
    {
     "cell_type": "markdown",
     "metadata": {
      "slideshow": {
       "slide_type": "subslide"
      }
     },
     "source": [
      "# Estimators\n",
      "\n",
      "According to the docs: \"An [Estimator](http://spark.apache.org/docs/latest/ml-pipeline.html#estimators) abstracts the concept of a learning algorithm or any algorithm that fits or trains on data\". Important things to know about this type:\n",
      "\n",
      "* They implement a `fit` method whose argument is a `DataFrame`.\n",
      "* The output of `fit` is another type called `Model`, which is a `Transformer`.\n",
      "\n",
      "Examples of Estimators: [`LogisticRegression`](http://spark.apache.org/docs/latest/ml-classification-regression.html#logistic-regression), [`DecisionTreeRegressor`](http://spark.apache.org/docs/latest/ml-classification-regression.html#decision-tree-regression), and [many more](http://spark.apache.org/docs/latest/ml-classification-regression.html).\n"
     ]
    },
    {
     "cell_type": "code",
     "collapsed": true,
     "input": [
      "from pyspark.ml import Pipeline\n",
      "from pyspark.ml.classification import LogisticRegression\n",
      "from pyspark.ml.feature import RegexTokenizer, HashingTF\n",
      "\n",
      "# Prepare training documents from a list of (id, text, label (about big data?)) tuples.\n",
      "train_df = spark.createDataFrame([\n",
      "             (0, \"spark is like hadoop mapreduce\", 1.0),\n",
      "             (1, \"sparks light fire!!!\", 0.0),\n",
      "             (2, \"elephants like simba\", 0.0),\n",
      "             (3, \"hadoop is an elephant\", 1.0),\n",
      "             (4, \"hadoop mapreduce\", 1.0)], \n",
      "             [\"id\", \"text\", \"label\"])"
     ],
     "language": "python",
     "metadata": {
      "slideshow": {
       "slide_type": "subslide"
      }
     },
     "outputs": [],
     "prompt_number": 22
    },
    {
     "cell_type": "code",
     "collapsed": true,
     "input": [
      "regexTokenizer = RegexTokenizer(inputCol=\"text\", outputCol=\"tokens\", pattern=\"\\\\W\") # Transformer #finds words\n",
      "hashingTF = HashingTF(inputCol=\"tokens\", outputCol=\"features\") # Transformer #gets term frequencies\n",
      "lr = LogisticRegression(maxIter=10, regParam=0.001) # Estimator\n",
      "\n",
      "tokens_df = regexTokenizer.transform(train_df)\n",
      "print tokens_df.take(2)\n",
      "hashes_df = hashingTF.transform(tokens_df)\n",
      "print hashes_df.take(2)\n",
      "logistic_model = lr.fit(hashes_df) # Uses columns named features/label by default\n",
      "# logistic_model is now a transformer"
     ],
     "language": "python",
     "metadata": {
      "slideshow": {
       "slide_type": "fragment"
      }
     },
     "outputs": [
      {
       "output_type": "stream",
       "stream": "stdout",
       "text": [
        "[Row(id=0, text=u'spark is like hadoop mapreduce', label=1.0, tokens=[u'spark', u'is', u'like', u'hadoop', u'mapreduce']), Row(id=1, text=u'sparks light fire!!!', label=0.0, tokens=[u'sparks', u'light', u'fire'])]\n",
        "[Row(id=0, text=u'spark is like hadoop mapreduce', label=1.0, tokens=[u'spark', u'is', u'like', u'hadoop', u'mapreduce'], features=SparseVector(262144, {15889: 1.0, 42633: 1.0, 155117: 1.0, 208258: 1.0, 234657: 1.0})), Row(id=1, text=u'sparks light fire!!!', label=0.0, tokens=[u'sparks', u'light', u'fire'], features=SparseVector(262144, {34036: 1.0, 91799: 1.0, 142979: 1.0}))]"
       ]
      },
      {
       "output_type": "stream",
       "stream": "stdout",
       "text": [
        "\n"
       ]
      }
     ],
     "prompt_number": 29
    },
    {
     "cell_type": "heading",
     "level": 3,
     "metadata": {
      "slideshow": {
       "slide_type": "fragment"
      }
     },
     "source": [
      "Now we can predict on new text"
     ]
    },
    {
     "cell_type": "code",
     "collapsed": true,
     "input": [
      "# Prepare test documents, which are unlabeled (id, text) tuples.\n",
      "test_df = spark.createDataFrame([\n",
      "            (5, \"simba has a spark\"),\n",
      "            (6, \"hadoop\"),\n",
      "            (7, \"mapreduce in spark\"),\n",
      "            (8, \"apache hadoop\")], \n",
      "            [\"id\", \"text\"])"
     ],
     "language": "python",
     "metadata": {
      "slideshow": {
       "slide_type": "subslide"
      }
     },
     "outputs": [],
     "prompt_number": 30
    },
    {
     "cell_type": "heading",
     "level": 3,
     "metadata": {
      "slideshow": {
       "slide_type": "fragment"
      }
     },
     "source": [
      "What do we need to do to this to get a prediction?"
     ]
    },
    {
     "cell_type": "code",
     "collapsed": false,
     "input": [
      "preds_df = logistic_model.transform(\n",
      "                hashingTF.transform(\n",
      "           regexTokenizer.transform(test_df)))\n",
      "\n",
      "preds_df.select('text', 'prediction', 'probability').show()"
     ],
     "language": "python",
     "metadata": {
      "slideshow": {
       "slide_type": "fragment"
      }
     },
     "outputs": [
      {
       "output_type": "stream",
       "stream": "stdout",
       "text": [
        "+------------------+----------+--------------------+\n",
        "|              text|prediction|         probability|\n",
        "+------------------+----------+--------------------+\n",
        "| simba has a spark|       0.0|[0.78819302361551...|\n",
        "|            hadoop|       1.0|[0.02995590605364...|\n",
        "|mapreduce in spark|       1.0|[0.02401898451752...|\n",
        "|     apache hadoop|       1.0|[0.02995590605364...|\n",
        "+------------------+----------+--------------------+\n",
        "\n"
       ]
      }
     ],
     "prompt_number": 35
    },
    {
     "cell_type": "markdown",
     "metadata": {
      "slideshow": {
       "slide_type": "slide"
      }
     },
     "source": [
      "# Pipelines\n",
      "\n",
      "Many data science workflows can be described as sequential application of various `Transforms` and `Estimators`. In `sklearn` we know that this idea has been formalized into a class, [`Pipeline`](http://scikit-learn.org/stable/modules/generated/sklearn.pipeline.Pipeline.html).\n",
      "\n",
      "This way of thinking about things was so popular that Spark decided to implement it exactly."
     ]
    },
    {
     "cell_type": "markdown",
     "metadata": {
      "slideshow": {
       "slide_type": "fragment"
      }
     },
     "source": [
      "![http://spark.apache.org/docs/latest/img/ml-Pipeline.png](http://spark.apache.org/docs/latest/img/ml-Pipeline.png)\n",
      "\n",
      "Let's see two ways to implement the above flow!"
     ]
    },
    {
     "cell_type": "markdown",
     "metadata": {
      "slideshow": {
       "slide_type": "subslide"
      }
     },
     "source": [
      "## Configure an ML pipeline, which consists of three stages:\n",
      "* tokenizer,\n",
      "* hashingTF, and\n",
      "* logistic regression"
     ]
    },
    {
     "cell_type": "code",
     "collapsed": true,
     "input": [
      "regexTokenizer = RegexTokenizer(inputCol=\"text\", outputCol=\"tokens\", pattern=\"\\\\W\")\n",
      "hashingTF = HashingTF(inputCol=\"tokens\", outputCol=\"features\")\n",
      "lr = LogisticRegression(maxIter=10, regParam=0.001)\n",
      "pipeline = Pipeline(stages=[regexTokenizer, hashingTF, lr])\n",
      "\n",
      "# Fit the pipeline to training documents\n",
      "model = pipeline.fit(train_df)"
     ],
     "language": "python",
     "metadata": {
      "slideshow": {
       "slide_type": "fragment"
      }
     },
     "outputs": [],
     "prompt_number": 36
    },
    {
     "cell_type": "heading",
     "level": 3,
     "metadata": {
      "slideshow": {
       "slide_type": "subslide"
      }
     },
     "source": [
      "And now `model` is a transformer representing the entire pipeline. So it's simple to run our `test_df` through."
     ]
    },
    {
     "cell_type": "code",
     "collapsed": false,
     "input": [
      "prediction = model.transform(test_df)\n",
      "prediction.select(['text', 'prediction', 'probability']).show()"
     ],
     "language": "python",
     "metadata": {
      "slideshow": {
       "slide_type": "fragment"
      }
     },
     "outputs": [
      {
       "output_type": "stream",
       "stream": "stdout",
       "text": [
        "+------------------+----------+--------------------+\n",
        "|              text|prediction|         probability|\n",
        "+------------------+----------+--------------------+\n",
        "| simba has a spark|       0.0|[0.78819302361551...|\n",
        "|            hadoop|       1.0|[0.02995590605364...|\n",
        "|mapreduce in spark|       1.0|[0.02401898451752...|\n",
        "|     apache hadoop|       1.0|[0.02995590605364...|\n",
        "+------------------+----------+--------------------+\n",
        "\n"
       ]
      }
     ],
     "prompt_number": 37
    },
    {
     "cell_type": "markdown",
     "metadata": {
      "collapsed": true,
      "slideshow": {
       "slide_type": "slide"
      }
     },
     "source": [
      "# Unsupervised Machine Learning on DataFrames\n",
      "\n",
      "We can similarly do unsupervised learning in Spark ML. And we can still use pipelines!"
     ]
    },
    {
     "cell_type": "code",
     "collapsed": false,
     "input": [
      "# Read CSV\n",
      "iris_df = spark.read.csv('data/iris.csv',\n",
      "                              header=True,       # parse the first line as a header?\n",
      "                              quote='\"',         # quote character\n",
      "                              sep=\",\",           # separation character\n",
      "                              inferSchema=True)  # infer schema?\n",
      "iris_df.show(5)"
     ],
     "language": "python",
     "metadata": {
      "slideshow": {
       "slide_type": "subslide"
      }
     },
     "outputs": [
      {
       "output_type": "stream",
       "stream": "stdout",
       "text": [
        "+-----------------+----------------+-----------------+----------------+\n",
        "|sepal length (cm)|sepal width (cm)|petal length (cm)|petal width (cm)|\n",
        "+-----------------+----------------+-----------------+----------------+\n",
        "|              5.1|             3.5|              1.4|             0.2|\n",
        "|              4.9|             3.0|              1.4|             0.2|\n",
        "|              4.7|             3.2|              1.3|             0.2|\n",
        "|              4.6|             3.1|              1.5|             0.2|\n",
        "|              5.0|             3.6|              1.4|             0.2|\n",
        "+-----------------+----------------+-----------------+----------------+\n",
        "only showing top 5 rows\n",
        "\n"
       ]
      }
     ],
     "prompt_number": 39
    },
    {
     "cell_type": "code",
     "collapsed": false,
     "input": [
      "from pyspark.ml.feature import PCA\n",
      "\n",
      "col_names = [\"sepal length (cm)\", \"sepal width (cm)\", \n",
      "             \"petal length (cm)\", \"petal width (cm)\"]\n",
      "pcaVectorAssembler = VectorAssembler(inputCols=col_names, outputCol=\"features\")\n",
      "pca = PCA(k=3, inputCol=\"features\", outputCol=\"pcaFeatures\")\n",
      "pipeline = Pipeline(stages=[pcaVectorAssembler, pca])\n",
      "\n",
      "fitted_pipeline = pipeline.fit(iris_df)\n",
      "\n",
      "fitted_pipeline.transform(iris_df).select(\"pcaFeatures\").take(5)"
     ],
     "language": "python",
     "metadata": {
      "slideshow": {
       "slide_type": "subslide"
      }
     },
     "outputs": [
      {
       "metadata": {},
       "output_type": "pyout",
       "prompt_number": 46,
       "text": [
        "[Row(pcaFeatures=DenseVector([-2.8271, -5.6413, 0.6643])),\n",
        " Row(pcaFeatures=DenseVector([-2.796, -5.1452, 0.8463])),\n",
        " Row(pcaFeatures=DenseVector([-2.6215, -5.1774, 0.6181])),\n",
        " Row(pcaFeatures=DenseVector([-2.7649, -5.0036, 0.6051])),\n",
        " Row(pcaFeatures=DenseVector([-2.7828, -5.6486, 0.5465]))]"
       ]
      }
     ],
     "prompt_number": 46
    },
    {
     "cell_type": "markdown",
     "metadata": {
      "slideshow": {
       "slide_type": "slide"
      }
     },
     "source": [
      "## Inspecting Pipelines\n",
      "\n",
      "We can even access the individual, fitted, parts of a pipeline if there's an attribute on them that we're in"
     ]
    },
    {
     "cell_type": "code",
     "collapsed": false,
     "input": [
      "fitted_pipeline.stages[-1].explainedVariance"
     ],
     "language": "python",
     "metadata": {
      "slideshow": {
       "slide_type": "fragment"
      }
     },
     "outputs": [
      {
       "metadata": {},
       "output_type": "pyout",
       "prompt_number": 19,
       "text": [
        "DenseVector([0.9246, 0.053, 0.0172])"
       ]
      }
     ],
     "prompt_number": 19
    }
   ],
   "metadata": {}
  }
 ]
}