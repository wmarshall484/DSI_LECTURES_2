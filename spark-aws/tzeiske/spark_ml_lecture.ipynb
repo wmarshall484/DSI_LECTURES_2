{
 "cells": [
  {
   "cell_type": "markdown",
   "metadata": {
    "slideshow": {
     "slide_type": "slide"
    }
   },
   "source": [
    "# Spark-ML\n",
    "\n",
    "Machine learning at a scale!"
   ]
  },
  {
   "cell_type": "markdown",
   "metadata": {
    "slideshow": {
     "slide_type": "subslide"
    }
   },
   "source": [
    "# Objectives\n",
    "\n",
    "At the end of this lecture you should be able to:\n",
    "\n",
    "1. Chain spark dataframe methods together to do data munging.\n",
    "2. Be able to describe the Spark-ML API, and recognize differences to sk-learn.\n",
    "3. Chain Spark-ML Transformers and Estimators together to compose ML pipelines."
   ]
  },
  {
   "cell_type": "code",
   "execution_count": 1,
   "metadata": {
    "collapsed": true,
    "slideshow": {
     "slide_type": "subslide"
    }
   },
   "outputs": [],
   "source": [
    "import pyspark.sql.functions as F\n",
    "import sys\n",
    "#sys.tracebacklimit = 0"
   ]
  },
  {
   "cell_type": "code",
   "execution_count": 2,
   "metadata": {
    "collapsed": true,
    "scrolled": true,
    "slideshow": {
     "slide_type": "fragment"
    }
   },
   "outputs": [],
   "source": [
    "import pyspark as ps\n",
    "\n",
    "spark = ps.sql.SparkSession.builder \\\n",
    "            .master(\"local[4]\") \\\n",
    "            .appName(\"df lecture\") \\\n",
    "            .getOrCreate()\n"
   ]
  },
  {
   "cell_type": "markdown",
   "metadata": {
    "slideshow": {
     "slide_type": "slide"
    }
   },
   "source": [
    "# Supervised Machine Learning on DataFrames\n",
    "\n",
    "http://spark.apache.org/docs/latest/ml-features.html"
   ]
  },
  {
   "cell_type": "markdown",
   "metadata": {
    "slideshow": {
     "slide_type": "slide"
    }
   },
   "source": [
    "## Why does this difference matter?\n",
    "\n",
    "Let's try to run Spark-ML's built-in [min-max scaler](https://spark.apache.org/docs/latest/ml-features.html#minmaxscaler) the close column in our `appl_df`."
   ]
  },
  {
   "cell_type": "code",
   "execution_count": 12,
   "metadata": {
    "slideshow": {
     "slide_type": "subslide"
    }
   },
   "outputs": [
    {
     "name": "stdout",
     "output_type": "stream",
     "text": [
      "['Date', 'Open', 'High', 'Low', 'Close', 'Volume', 'Adj Close']\n",
      "['Date', 'Open', 'High', 'Low', 'Close', 'Volume', 'Adj Close', 'Features']\n",
      "+------------+\n",
      "|    Features|\n",
      "+------------+\n",
      "|    [118.25]|\n",
      "|[117.650002]|\n",
      "|[116.599998]|\n",
      "|[117.059998]|\n",
      "|[117.120003]|\n",
      "+------------+\n",
      "only showing top 5 rows\n",
      "\n"
     ]
    }
   ],
   "source": [
    "# read CSV\n",
    "aapl_df = spark.read.csv('data/aapl.csv',\n",
    "                         header=True,       # use headers or not\n",
    "                         quote='\"',         # char for quotes\n",
    "                         sep=\",\",           # char for separation\n",
    "                         inferSchema=True)  # do we infer schema or not ?\n",
    "\n",
    "from pyspark.ml.feature import MinMaxScaler, VectorAssembler\n",
    "\n",
    "# Assemble values in a vector\n",
    "vectorAssembler = VectorAssembler(inputCols=[\"Close\"], \n",
    "                                  outputCol=\"Features\")\n",
    "\n",
    "vector_df = vectorAssembler.transform(aapl_df)\n",
    "print(aapl_df.columns)\n",
    "print(vector_df.columns)\n",
    "vector_df.select('Features').show(5) #features are vectors of length 1, if we added open, close, high low etc it could be a larger vector"
   ]
  },
  {
   "cell_type": "code",
   "execution_count": 6,
   "metadata": {
    "scrolled": false,
    "slideshow": {
     "slide_type": "fragment"
    }
   },
   "outputs": [
    {
     "ename": "NameError",
     "evalue": "name 'MinMaxScaler' is not defined",
     "output_type": "error",
     "traceback": [
      "\u001b[0;31m---------------------------------------------------------------------------\u001b[0m",
      "\u001b[0;31mNameError\u001b[0m                                 Traceback (most recent call last)",
      "\u001b[0;32m<ipython-input-6-b4897d537996>\u001b[0m in \u001b[0;36m<module>\u001b[0;34m()\u001b[0m\n\u001b[1;32m      1\u001b[0m \u001b[0;31m#this won't work!\u001b[0m\u001b[0;34m\u001b[0m\u001b[0;34m\u001b[0m\u001b[0m\n\u001b[0;32m----> 2\u001b[0;31m \u001b[0mfail_scaler\u001b[0m \u001b[0;34m=\u001b[0m \u001b[0mMinMaxScaler\u001b[0m\u001b[0;34m(\u001b[0m\u001b[0minputCol\u001b[0m\u001b[0;34m=\u001b[0m\u001b[0;34m\"Close\"\u001b[0m\u001b[0;34m,\u001b[0m \u001b[0moutputCol\u001b[0m\u001b[0;34m=\u001b[0m\u001b[0;34m\"Scaled Close\"\u001b[0m\u001b[0;34m)\u001b[0m\u001b[0;34m\u001b[0m\u001b[0m\n\u001b[0m\u001b[1;32m      3\u001b[0m \u001b[0;34m\u001b[0m\u001b[0m\n\u001b[1;32m      4\u001b[0m \u001b[0mfail_scaler_model\u001b[0m \u001b[0;34m=\u001b[0m \u001b[0mfail_scaler\u001b[0m\u001b[0;34m.\u001b[0m\u001b[0mfit\u001b[0m\u001b[0;34m(\u001b[0m\u001b[0maapl_df\u001b[0m\u001b[0;34m)\u001b[0m\u001b[0;34m\u001b[0m\u001b[0m\n\u001b[1;32m      5\u001b[0m \u001b[0;34m\u001b[0m\u001b[0m\n",
      "\u001b[0;31mNameError\u001b[0m: name 'MinMaxScaler' is not defined"
     ]
    }
   ],
   "source": [
    "#this won't work!\n",
    "fail_scaler = MinMaxScaler(inputCol=\"Close\", outputCol=\"Scaled Close\")\n",
    "\n",
    "fail_scaler_model = fail_scaler.fit(aapl_df)\n",
    "\n",
    "scaled_close = fail_scaler_model.transform(aapl_df)\n",
    "scaled_close.show(5)"
   ]
  },
  {
   "cell_type": "markdown",
   "metadata": {
    "slideshow": {
     "slide_type": "fragment"
    }
   },
   "source": [
    "### Gotta have the column be a vector..."
   ]
  },
  {
   "cell_type": "code",
   "execution_count": 10,
   "metadata": {
    "slideshow": {
     "slide_type": "subslide"
    }
   },
   "outputs": [
    {
     "name": "stdout",
     "output_type": "stream",
     "text": [
      "+------------+--------------------+\n",
      "|    Features|     Scaled Features|\n",
      "+------------+--------------------+\n",
      "|    [118.25]| [0.865963404782699]|\n",
      "|[117.650002]|[0.8473472730564975]|\n",
      "|[116.599998]|[0.8147688098332226]|\n",
      "|[117.059998]|[0.8290412250646944]|\n",
      "|[117.120003]|[0.8309029995776607]|\n",
      "+------------+--------------------+\n",
      "only showing top 5 rows\n",
      "\n"
     ]
    }
   ],
   "source": [
    "scaler = MinMaxScaler(inputCol=\"Features\", outputCol=\"Scaled Features\")\n",
    "\n",
    "# Compute summary statistics and generate MinMaxScalerModel\n",
    "scaler_model = scaler.fit(vector_df)\n",
    "# Notice how we didn't specify the column, we already did above\n",
    "\n",
    "# Rescale each feature to range [min, max], returns a dataframe\n",
    "scaled_data = scaler_model.transform(vector_df)\n",
    "scaled_data.select(\"Features\", \"Scaled Features\").show(5)"
   ]
  },
  {
   "cell_type": "markdown",
   "metadata": {
    "slideshow": {
     "slide_type": "slide"
    }
   },
   "source": [
    "# Transformers and Estimators"
   ]
  },
  {
   "cell_type": "markdown",
   "metadata": {
    "slideshow": {
     "slide_type": "subslide"
    }
   },
   "source": [
    "# Transformers\n",
    "\n",
    "The `VectorAssembler` class above is an example of a generic type in Spark, called a [Transformer](http://spark.apache.org/docs/latest/ml-pipeline.html#transformers). Important things to know about this type:\n",
    "\n",
    "* They implement a `transform` method.\n",
    "* They convert one `DataFrame` into another, usually by adding columns.\n",
    "\n",
    "Examples of Transformers: [`VectorAssembler`](http://spark.apache.org/docs/latest/ml-features.html#vectorassembler), [`Tokenizer`](http://spark.apache.org/docs/latest/ml-features.html#tokenizer), [`StopWordsRemover`](http://spark.apache.org/docs/latest/ml-features.html#stopwordsremover), and [many more](http://spark.apache.org/docs/latest/ml-features.html).\n",
    "\n"
   ]
  },
  {
   "cell_type": "markdown",
   "metadata": {
    "slideshow": {
     "slide_type": "subslide"
    }
   },
   "source": [
    "# Estimators\n",
    "\n",
    "According to the docs: \"An [Estimator](http://spark.apache.org/docs/latest/ml-pipeline.html#estimators) abstracts the concept of a learning algorithm or any algorithm that fits or trains on data\". Important things to know about this type:\n",
    "\n",
    "* They implement a `fit` method whose argument is a `DataFrame`.\n",
    "* The output of `fit` is another type called `Model`, which is a `Transformer`.\n",
    "\n",
    "Examples of Estimators: [`LogisticRegression`](http://spark.apache.org/docs/latest/ml-classification-regression.html#logistic-regression), [`DecisionTreeRegressor`](http://spark.apache.org/docs/latest/ml-classification-regression.html#decision-tree-regression), and [many more](http://spark.apache.org/docs/latest/ml-classification-regression.html).\n"
   ]
  },
  {
   "cell_type": "code",
   "execution_count": 3,
   "metadata": {
    "collapsed": true,
    "slideshow": {
     "slide_type": "subslide"
    }
   },
   "outputs": [],
   "source": [
    "from pyspark.ml import Pipeline\n",
    "from pyspark.ml.classification import LogisticRegression\n",
    "from pyspark.ml.feature import RegexTokenizer, HashingTF\n",
    "\n",
    "# Prepare training documents from a list of (id, text, label (about big data?)) tuples.\n",
    "train_df = spark.createDataFrame([\n",
    "             (0, \"spark is like hadoop mapreduce\", 1.0),\n",
    "             (1, \"sparks light fire!!!\", 0.0),\n",
    "             (2, \"elephants like simba\", 0.0),\n",
    "             (3, \"hadoop is an elephant\", 1.0),\n",
    "             (4, \"hadoop mapreduce\", 1.0)], \n",
    "             [\"id\", \"text\", \"label\"])"
   ]
  },
  {
   "cell_type": "code",
   "execution_count": 4,
   "metadata": {
    "slideshow": {
     "slide_type": "fragment"
    }
   },
   "outputs": [
    {
     "name": "stdout",
     "output_type": "stream",
     "text": [
      "[Row(id=0, text=u'spark is like hadoop mapreduce', label=1.0, tokens=[u'spark', u'is', u'like', u'hadoop', u'mapreduce']), Row(id=1, text=u'sparks light fire!!!', label=0.0, tokens=[u'sparks', u'light', u'fire'])]\n",
      "[Row(id=0, text=u'spark is like hadoop mapreduce', label=1.0, tokens=[u'spark', u'is', u'like', u'hadoop', u'mapreduce'], features=SparseVector(262144, {15889: 1.0, 42633: 1.0, 155117: 1.0, 208258: 1.0, 234657: 1.0})), Row(id=1, text=u'sparks light fire!!!', label=0.0, tokens=[u'sparks', u'light', u'fire'], features=SparseVector(262144, {34036: 1.0, 91799: 1.0, 142979: 1.0}))]\n"
     ]
    }
   ],
   "source": [
    "regexTokenizer = RegexTokenizer(inputCol=\"text\", outputCol=\"tokens\", pattern=\"\\\\W\") # Transformer #finds words\n",
    "hashingTF = HashingTF(inputCol=\"tokens\", outputCol=\"features\") # Transformer #gets term frequencies\n",
    "lr = LogisticRegression(maxIter=10, regParam=0.001) # Estimator\n",
    "\n",
    "tokens_df = regexTokenizer.transform(train_df)\n",
    "print tokens_df.take(2)\n",
    "hashes_df = hashingTF.transform(tokens_df)\n",
    "print hashes_df.take(2)\n",
    "logistic_model = lr.fit(hashes_df) # Uses columns named features/label by default\n",
    "# logistic_model is now a transformer"
   ]
  },
  {
   "cell_type": "markdown",
   "metadata": {
    "slideshow": {
     "slide_type": "fragment"
    }
   },
   "source": [
    "### Now we can predict on new text"
   ]
  },
  {
   "cell_type": "code",
   "execution_count": 30,
   "metadata": {
    "collapsed": true,
    "slideshow": {
     "slide_type": "subslide"
    }
   },
   "outputs": [],
   "source": [
    "# Prepare test documents, which are unlabeled (id, text) tuples.\n",
    "test_df = spark.createDataFrame([\n",
    "            (5, \"simba has a spark\"),\n",
    "            (6, \"hadoop\"),\n",
    "            (7, \"mapreduce in spark\"),\n",
    "            (8, \"apache hadoop\")], \n",
    "            [\"id\", \"text\"])"
   ]
  },
  {
   "cell_type": "markdown",
   "metadata": {
    "slideshow": {
     "slide_type": "fragment"
    }
   },
   "source": [
    "### What do we need to do to this to get a prediction?"
   ]
  },
  {
   "cell_type": "code",
   "execution_count": 35,
   "metadata": {
    "slideshow": {
     "slide_type": "fragment"
    }
   },
   "outputs": [
    {
     "name": "stdout",
     "output_type": "stream",
     "text": [
      "+------------------+----------+--------------------+\n",
      "|              text|prediction|         probability|\n",
      "+------------------+----------+--------------------+\n",
      "| simba has a spark|       0.0|[0.78819302361551...|\n",
      "|            hadoop|       1.0|[0.02995590605364...|\n",
      "|mapreduce in spark|       1.0|[0.02401898451752...|\n",
      "|     apache hadoop|       1.0|[0.02995590605364...|\n",
      "+------------------+----------+--------------------+\n",
      "\n"
     ]
    }
   ],
   "source": [
    "preds_df = logistic_model.transform(\n",
    "                hashingTF.transform(\n",
    "           regexTokenizer.transform(test_df)))\n",
    "\n",
    "preds_df.select('text', 'prediction', 'probability').show()"
   ]
  },
  {
   "cell_type": "markdown",
   "metadata": {
    "slideshow": {
     "slide_type": "slide"
    }
   },
   "source": [
    "# Pipelines\n",
    "\n",
    "Many data science workflows can be described as sequential application of various `Transforms` and `Estimators`. In `sklearn` we know that this idea has been formalized into a class, [`Pipeline`](http://scikit-learn.org/stable/modules/generated/sklearn.pipeline.Pipeline.html).\n",
    "\n",
    "This way of thinking about things was so popular that Spark decided to implement it exactly."
   ]
  },
  {
   "cell_type": "markdown",
   "metadata": {
    "slideshow": {
     "slide_type": "fragment"
    }
   },
   "source": [
    "![http://spark.apache.org/docs/latest/img/ml-Pipeline.png](http://spark.apache.org/docs/latest/img/ml-Pipeline.png)\n",
    "\n",
    "Let's see two ways to implement the above flow!"
   ]
  },
  {
   "cell_type": "markdown",
   "metadata": {
    "slideshow": {
     "slide_type": "subslide"
    }
   },
   "source": [
    "## Configure an ML pipeline, which consists of three stages:\n",
    "* tokenizer,\n",
    "* hashingTF, and\n",
    "* logistic regression"
   ]
  },
  {
   "cell_type": "code",
   "execution_count": 36,
   "metadata": {
    "collapsed": true,
    "slideshow": {
     "slide_type": "fragment"
    }
   },
   "outputs": [],
   "source": [
    "regexTokenizer = RegexTokenizer(inputCol=\"text\", outputCol=\"tokens\", pattern=\"\\\\W\")\n",
    "hashingTF = HashingTF(inputCol=\"tokens\", outputCol=\"features\")\n",
    "lr = LogisticRegression(maxIter=10, regParam=0.001)\n",
    "pipeline = Pipeline(stages=[regexTokenizer, hashingTF, lr])\n",
    "\n",
    "# Fit the pipeline to training documents\n",
    "model = pipeline.fit(train_df)"
   ]
  },
  {
   "cell_type": "markdown",
   "metadata": {
    "slideshow": {
     "slide_type": "subslide"
    }
   },
   "source": [
    "### And now `model` is a transformer representing the entire pipeline. So it's simple to run our `test_df` through."
   ]
  },
  {
   "cell_type": "code",
   "execution_count": 37,
   "metadata": {
    "slideshow": {
     "slide_type": "fragment"
    }
   },
   "outputs": [
    {
     "name": "stdout",
     "output_type": "stream",
     "text": [
      "+------------------+----------+--------------------+\n",
      "|              text|prediction|         probability|\n",
      "+------------------+----------+--------------------+\n",
      "| simba has a spark|       0.0|[0.78819302361551...|\n",
      "|            hadoop|       1.0|[0.02995590605364...|\n",
      "|mapreduce in spark|       1.0|[0.02401898451752...|\n",
      "|     apache hadoop|       1.0|[0.02995590605364...|\n",
      "+------------------+----------+--------------------+\n",
      "\n"
     ]
    }
   ],
   "source": [
    "prediction = model.transform(test_df)\n",
    "prediction.select(['text', 'prediction', 'probability']).show()"
   ]
  },
  {
   "cell_type": "markdown",
   "metadata": {
    "collapsed": true,
    "slideshow": {
     "slide_type": "slide"
    }
   },
   "source": [
    "# Unsupervised Machine Learning on DataFrames\n",
    "\n",
    "We can similarly do unsupervised learning in Spark ML. And we can still use pipelines!"
   ]
  },
  {
   "cell_type": "code",
   "execution_count": 14,
   "metadata": {
    "slideshow": {
     "slide_type": "subslide"
    }
   },
   "outputs": [
    {
     "name": "stdout",
     "output_type": "stream",
     "text": [
      "+-----------------+----------------+-----------------+----------------+\n",
      "|sepal length (cm)|sepal width (cm)|petal length (cm)|petal width (cm)|\n",
      "+-----------------+----------------+-----------------+----------------+\n",
      "|              5.1|             3.5|              1.4|             0.2|\n",
      "|              4.9|             3.0|              1.4|             0.2|\n",
      "|              4.7|             3.2|              1.3|             0.2|\n",
      "|              4.6|             3.1|              1.5|             0.2|\n",
      "|              5.0|             3.6|              1.4|             0.2|\n",
      "+-----------------+----------------+-----------------+----------------+\n",
      "only showing top 5 rows\n",
      "\n"
     ]
    }
   ],
   "source": [
    "# Read CSV\n",
    "iris_df = spark.read.csv('data/iris.csv',\n",
    "                              header=True,       # parse the first line as a header?\n",
    "                              quote='\"',         # quote character\n",
    "                              sep=\",\",           # separation character\n",
    "                              inferSchema=True)  # infer schema?\n",
    "iris_df.show(5)"
   ]
  },
  {
   "cell_type": "code",
   "execution_count": 21,
   "metadata": {
    "slideshow": {
     "slide_type": "subslide"
    }
   },
   "outputs": [
    {
     "data": {
      "text/plain": [
       "[Row(pcaFeatures=DenseVector([-2.8271, -5.6413, 0.6643])),\n",
       " Row(pcaFeatures=DenseVector([-2.796, -5.1452, 0.8463])),\n",
       " Row(pcaFeatures=DenseVector([-2.6215, -5.1774, 0.6181])),\n",
       " Row(pcaFeatures=DenseVector([-2.7649, -5.0036, 0.6051])),\n",
       " Row(pcaFeatures=DenseVector([-2.7828, -5.6486, 0.5465]))]"
      ]
     },
     "execution_count": 21,
     "metadata": {},
     "output_type": "execute_result"
    }
   ],
   "source": [
    "from pyspark.ml.feature import PCA\n",
    "\n",
    "col_names = [\"sepal length (cm)\", \"sepal width (cm)\", \n",
    "             \"petal length (cm)\", \"petal width (cm)\"]\n",
    "pcaVectorAssembler = VectorAssembler(inputCols=col_names, outputCol=\"features\")\n",
    "pca = PCA(k=3, inputCol=\"features\", outputCol=\"pcaFeatures\")\n",
    "pipeline = Pipeline(stages=[pcaVectorAssembler, pca])\n",
    "\n",
    "fitted_pipeline = pipeline.fit(iris_df)\n",
    "\n",
    "fitted_pipeline.transform(iris_df).select(\"pcaFeatures\").take(5)"
   ]
  },
  {
   "cell_type": "markdown",
   "metadata": {
    "slideshow": {
     "slide_type": "slide"
    }
   },
   "source": [
    "## Inspecting Pipelines\n",
    "\n",
    "We can even access the individual, fitted, parts of a pipeline if there's an attribute on them that we're in"
   ]
  },
  {
   "cell_type": "code",
   "execution_count": 34,
   "metadata": {
    "slideshow": {
     "slide_type": "fragment"
    }
   },
   "outputs": [
    {
     "name": "stdout",
     "output_type": "stream",
     "text": [
      "[0.924616207174,0.0530155678505,0.017185139525]\n",
      "DenseMatrix([[-0.36158968, -0.65653988,  0.58099728],\n",
      "             [ 0.08226889, -0.72971237, -0.59641809],\n",
      "             [-0.85657211,  0.1757674 , -0.07252408],\n",
      "             [-0.35884393,  0.07470647, -0.54906091]])\n"
     ]
    }
   ],
   "source": [
    "pca_model = fitted_pipeline.stages[-1]\n",
    "print pca_model.explainedVariance\n",
    "print pca_model.pc"
   ]
  },
  {
   "cell_type": "code",
   "execution_count": 28,
   "metadata": {},
   "outputs": [
    {
     "data": {
      "text/plain": [
       "DenseMatrix(4, 3, [-0.3616, 0.0823, -0.8566, -0.3588, -0.6565, -0.7297, 0.1758, 0.0747, 0.581, -0.5964, -0.0725, -0.5491], 0)"
      ]
     },
     "execution_count": 28,
     "metadata": {},
     "output_type": "execute_result"
    }
   ],
   "source": []
  },
  {
   "cell_type": "code",
   "execution_count": null,
   "metadata": {
    "collapsed": true
   },
   "outputs": [],
   "source": []
  }
 ],
 "metadata": {
  "kernelspec": {
   "display_name": "Python 2",
   "language": "python",
   "name": "python2"
  },
  "language_info": {
   "codemirror_mode": {
    "name": "ipython",
    "version": 2
   },
   "file_extension": ".py",
   "mimetype": "text/x-python",
   "name": "python",
   "nbconvert_exporter": "python",
   "pygments_lexer": "ipython2",
   "version": "2.7.13"
  }
 },
 "nbformat": 4,
 "nbformat_minor": 1
}
