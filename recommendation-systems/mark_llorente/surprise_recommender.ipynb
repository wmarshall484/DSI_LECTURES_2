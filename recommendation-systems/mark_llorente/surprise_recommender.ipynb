{
 "cells": [
  {
   "cell_type": "code",
   "execution_count": 2,
   "metadata": {},
   "outputs": [],
   "source": [
    "import numpy as np\n",
    "from surprise import SVD\n",
    "from surprise import Dataset # comes with built in play data! \n",
    "from surprise.model_selection import cross_validate\n"
   ]
  },
  {
   "cell_type": "code",
   "execution_count": 5,
   "metadata": {},
   "outputs": [
    {
     "name": "stdout",
     "output_type": "stream",
     "text": [
      "[('196', '242', 3.0, '881250949'), ('186', '302', 3.0, '891717742'), ('22', '377', 1.0, '878887116'), ('244', '51', 2.0, '880606923'), ('166', '346', 1.0, '886397596')] \n",
      " <class 'list'>\n"
     ]
    }
   ],
   "source": [
    "data = Dataset.load_builtin('ml-100k')\n",
    "raw_ratings = data.raw_ratings\n",
    "print(raw_ratings[:5], '\\n', type(raw_ratings))"
   ]
  },
  {
   "cell_type": "code",
   "execution_count": 20,
   "metadata": {},
   "outputs": [
    {
     "name": "stdout",
     "output_type": "stream",
     "text": [
      "  user movie  rating     tmstmp\n",
      "0  196   242     3.0  881250949\n",
      "1  186   302     3.0  891717742\n",
      "2   22   377     1.0  878887116\n",
      "3  244    51     2.0  880606923\n",
      "4  166   346     1.0  886397596\n",
      "          user movie  rating\n",
      "tmstmp                      \n",
      "874724710  259   255     4.0\n",
      "874724727  259   286     4.0\n",
      "874724754  259   298     4.0\n",
      "874724781  259   185     4.0\n",
      "874724843  259   173     4.0\n"
     ]
    }
   ],
   "source": [
    "raw_df = pd.DataFrame(raw_ratings, columns = ['user','movie','rating','tmstmp'])\n",
    "print(raw_df.head())\n",
    "raw_df.set_index('tmstmp', inplace=True)\n",
    "raw_df.sort_index(inplace=True)\n",
    "print(raw_df.head())"
   ]
  },
  {
   "cell_type": "markdown",
   "metadata": {},
   "source": [
    "Here's Surprise's version of the FunkSVD model:\n",
    "https://surprise.readthedocs.io/en/stable/matrix_factorization.html?highlight=svd \n",
    "\n",
    "And from their getting started page:\n",
    "https://surprise.readthedocs.io/en/stable/getting_started.html"
   ]
  },
  {
   "cell_type": "code",
   "execution_count": 7,
   "metadata": {},
   "outputs": [
    {
     "name": "stdout",
     "output_type": "stream",
     "text": [
      "RMSE: 0.9442\n"
     ]
    },
    {
     "data": {
      "text/plain": [
       "0.9442396140560069"
      ]
     },
     "execution_count": 7,
     "metadata": {},
     "output_type": "execute_result"
    }
   ],
   "source": [
    "from surprise import accuracy\n",
    "from surprise.model_selection import train_test_split\n",
    "\n",
    "\n",
    "# sample random trainset and testset\n",
    "# test set is made of 25% of the ratings.\n",
    "trainset, testset = train_test_split(data, test_size=.25)\n",
    "\n",
    "# We'll use the famous SVD algorithm.\n",
    "algo = SVD()\n",
    "\n",
    "# Train the algorithm on the trainset, and predict ratings for the testset\n",
    "algo.fit(trainset)\n",
    "predictions = algo.test(testset)\n",
    "\n",
    "# Then compute RMSE\n",
    "accuracy.rmse(predictions)"
   ]
  },
  {
   "cell_type": "code",
   "execution_count": 19,
   "metadata": {},
   "outputs": [
    {
     "data": {
      "text/plain": [
       "{'fit_time': (0.1152808666229248,\n",
       "  0.15630888938903809,\n",
       "  0.13222026824951172,\n",
       "  0.13597488403320312,\n",
       "  0.15244388580322266,\n",
       "  0.14197802543640137,\n",
       "  0.1411740779876709,\n",
       "  0.14772701263427734,\n",
       "  0.13224387168884277,\n",
       "  0.1460111141204834),\n",
       " 'test_mae': array([1.22555997, 1.21991467, 1.21458678, 1.21797677, 1.23084651,\n",
       "        1.20643889, 1.23626158, 1.22134486, 1.22889777, 1.21578468]),\n",
       " 'test_rmse': array([1.52612628, 1.51704517, 1.51156922, 1.51663395, 1.53162476,\n",
       "        1.5003961 , 1.53598223, 1.51638514, 1.53004993, 1.51123425]),\n",
       " 'test_time': (0.05736088752746582,\n",
       "  0.13531804084777832,\n",
       "  0.04775595664978027,\n",
       "  0.05068707466125488,\n",
       "  0.05751800537109375,\n",
       "  0.05187702178955078,\n",
       "  0.04990887641906738,\n",
       "  0.04981827735900879,\n",
       "  0.12294316291809082,\n",
       "  0.04957294464111328)}"
      ]
     },
     "execution_count": 19,
     "metadata": {},
     "output_type": "execute_result"
    }
   ],
   "source": [
    "import pandas as pd\n",
    "\n",
    "from surprise import NormalPredictor\n",
    "from surprise import Dataset\n",
    "from surprise import Reader\n",
    "from surprise.model_selection import cross_validate\n",
    "\n",
    "# A reader is still needed but only the rating_scale param is requiered.\n",
    "reader = Reader(rating_scale=(1, 5))\n",
    "\n",
    "# The columns must correspond to user id, item id and ratings (in that order).\n",
    "data = Dataset.load_from_df(raw_df[['user','movie','rating']], reader)\n",
    "\n",
    "# We can now use this dataset as we please, e.g. calling cross_validate\n",
    "cross_validate(NormalPredictor(), data, cv=10)"
   ]
  },
  {
   "cell_type": "code",
   "execution_count": null,
   "metadata": {},
   "outputs": [],
   "source": []
  }
 ],
 "metadata": {
  "kernelspec": {
   "display_name": "Python 3",
   "language": "python",
   "name": "python3"
  },
  "language_info": {
   "codemirror_mode": {
    "name": "ipython",
    "version": 3
   },
   "file_extension": ".py",
   "mimetype": "text/x-python",
   "name": "python",
   "nbconvert_exporter": "python",
   "pygments_lexer": "ipython3",
   "version": "3.6.3"
  }
 },
 "nbformat": 4,
 "nbformat_minor": 2
}
