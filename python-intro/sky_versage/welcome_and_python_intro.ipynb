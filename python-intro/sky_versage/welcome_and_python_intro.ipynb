{
 "cells": [
  {
   "cell_type": "markdown",
   "metadata": {},
   "source": [
    "# Welcome\n",
    "\n",
    "## Galvanize Phoenix DSI Cohort 2"
   ]
  },
  {
   "cell_type": "markdown",
   "metadata": {},
   "source": [
    "# Purpose\n",
    "## High Level View\n",
    "* Course schedule\n",
    "* Daily schedule\n",
    "* Introduce the instructors\n",
    "\n",
    "## Course Expectations\n",
    "* Attendance\n",
    "* Assignments and Assessments\n",
    "* Resources and Communication\n",
    "\n",
    "## Getting started\n",
    "* Git\n",
    "* Python\n",
    "* Pair-Programming\n"
   ]
  },
  {
   "cell_type": "markdown",
   "metadata": {},
   "source": [
    "# High Level View\n",
    "## Daily Schedule\n",
    "\n",
    "| Time | Activity |\n",
    "|-|-|\n",
    "| 8:45-9:00 | Warmup Exercise / Review Session |\n",
    "| 9:00-10:00 | Morning Lecture / Breakout |\n",
    "| 10:00-12:00 | Individual Exercise |\n",
    "| 12:00-1:00 | Lunch |\n",
    "| 1:00-2:00\t| Afternoon Lecture / Breakout |\n",
    "| 2:00-5:00 | Pair Exercise |"
   ]
  },
  {
   "cell_type": "markdown",
   "metadata": {},
   "source": [
    "# High Level View\n",
    "## Introduce the Instructors\n",
    "\n",
    "| Name | Role | Email | Slack Handle |\n",
    "| ---- | ---- | ----- | ------------ |\n",
    "| Aniket Majumdar | Lead Instructor | aniket.majumdar@galvanize.com | aniketbabu |\n",
    "| Skylar Versag | Associate Instructor | skylar.versage@galvanize.com | sversage |\n",
    "| Maria Montoya | Career Services Manager | maria.montoya@galvanize.com | mariadll |\n",
    "| Meryl Krich | Program Director | meryl.krich@galvanize.com | merylkrich |"
   ]
  },
  {
   "cell_type": "markdown",
   "metadata": {},
   "source": [
    "# Course Expectations\n",
    "## Attendance\n",
    "Detailed attendance requirements are detailed in the student agreement you signed. Key takeaways:\n",
    "\n",
    "1. It's important that you be here.\n",
    "1. If you can't make it, we are understanding, but need to be informed in advance.\n",
    "    1. Up to 2 unexcused absences will be tolerated.\n",
    "    1. 3 partial unexcused absences (later than 9:30) will be considered an unexcused absence.\n",
    "    1. Excused & unexcused absences should not exceed 15% of the course, 9 days.\n",
    "    \n",
    "If you are going to be late or absent, please let the **lead instructor (Aniket) ** know as soon as possible.  Slack is a good way to accomplish this."
   ]
  },
  {
   "cell_type": "markdown",
   "metadata": {},
   "source": [
    "# Course Expectations\n",
    "## Assignments & Assessments\n",
    "\n",
    "* Review Sessions (most mornings)\n",
    "* Individual Exercise \n",
    "* Pair Exercise\n",
    "* Assessments (roughly weekly)\n",
    "    * These assessments will be graded!\n",
    "    * There is a standard of performance required (see the agreement you signed)"
   ]
  },
  {
   "cell_type": "markdown",
   "metadata": {},
   "source": [
    "# Course Expectations\n",
    "## Resources and Communication\n",
    "\n",
    "* Sign up for slack `gstudent.slack.com` for ephemeral communication.\n",
    "* Email for non-ephemeral communication.\n",
    "* `members.galvanize.com`\n",
    "* `http://www.galvanize.com/regulatory-information`"
   ]
  },
  {
   "cell_type": "markdown",
   "metadata": {},
   "source": [
    "# Getting Started\n",
    "\n",
    "## Git\n",
    "\n",
    "We use `git` and GitHub to manage class materials and exercises.\n",
    "\n",
    "* `git` is the leading version control software in industry.\n",
    "* GitHub builds a nice UI around `git`.\n",
    "\n",
    "### Good for\n",
    "\n",
    "* Collaborating with others\n",
    "* Synchronizing changes across many machines\n",
    "* Managing source code, documentation, text files\n",
    " * Not large data\n",
    "* Backups\n",
    "* Reproducible research"
   ]
  },
  {
   "cell_type": "markdown",
   "metadata": {},
   "source": [
    "# Essential git\n",
    "\n",
    "## Interacting with a remote repository.\n",
    "\n",
    "* `git clone https://github.com/gSchool/Galvanize-DSI-Austin-5.git`\n",
    " * Copy the files in a repo to your local filesystem (so you can use, or maybe contribute)\n",
    " * **Only used one time for each repository, the first time you need to grab it.**\n",
    "* `git pull`\n",
    " * Sync with an upstream repository\n",
    " * Will require manual intervention if there is a conflict.\n",
    " * Can specify which branch/repo\n",
    "* `git push`\n",
    " * Transfer your changes to an upstream repo.\n",
    " * Must merge upstream changes before you can push.\n",
    " \n",
    "## Interacting with your local repository\n",
    " \n",
    "* `git status`\n",
    " * Check the state of your repo.\n",
    "* `git log`\n",
    " * Check the history of commits in your repo\n",
    "* `git add`\n",
    " * \"I intend to keep the changes I made to this file.\"\n",
    " * Can be undone, easily.\n",
    " * Used to group changes into small commit.\n",
    "* `git commit`\n",
    " * \"I am keeping all the changes I made to this file for all time.\"\n",
    " * Can not be undone. Ever.\n",
    " * Used to hard save changes into bitesize chunks.\n"
   ]
  },
  {
   "cell_type": "markdown",
   "metadata": {},
   "source": [
    "# A Good Workflow\n",
    "\n",
    "1. Fork the subject repo on github (find a fork button and click it)\n",
    "1. Clone that fork onto your local machine\n",
    " * `git clone https://github.com/joe/myforkedrepo`\n",
    "1. Commit your work (as often as possible)\n",
    " * `git add file1.py file2.py`\n",
    " * `git commit -m \"implement feature\"`\n",
    " * `git push origin master`\n",
    "1. In github\n",
    " * Click Pull Requests\n",
    " * Click New Pull Request\n"
   ]
  },
  {
   "cell_type": "markdown",
   "metadata": {},
   "source": [
    "# Why Pair Programming\n",
    "\n",
    "Pair programming is every day for the first 8 weeks. (Sometimes all-day!)\n",
    "\n",
    "There are _at least_ 6 reasons we do pair programming:\n",
    "1. Practice articulating your ideas.\n",
    "2. Practice hearing your partner's ideas.\n",
    "3. Receive help from your partner on concepts which confuse you.\n",
    "4. Help your partner when they are confused--the best way to learn is to teach!\n",
    "5. See alternate workflows. Everyone's workflow is different; you can pick up extra tricks by watching others.\n",
    "6. Practice using `git`."
   ]
  },
  {
   "cell_type": "markdown",
   "metadata": {},
   "source": [
    "# The Zen of Python"
   ]
  },
  {
   "cell_type": "code",
   "execution_count": 1,
   "metadata": {},
   "outputs": [
    {
     "name": "stdout",
     "output_type": "stream",
     "text": [
      "The Zen of Python, by Tim Peters\n",
      "\n",
      "Beautiful is better than ugly.\n",
      "Explicit is better than implicit.\n",
      "Simple is better than complex.\n",
      "Complex is better than complicated.\n",
      "Flat is better than nested.\n",
      "Sparse is better than dense.\n",
      "Readability counts.\n",
      "Special cases aren't special enough to break the rules.\n",
      "Although practicality beats purity.\n",
      "Errors should never pass silently.\n",
      "Unless explicitly silenced.\n",
      "In the face of ambiguity, refuse the temptation to guess.\n",
      "There should be one-- and preferably only one --obvious way to do it.\n",
      "Although that way may not be obvious at first unless you're Dutch.\n",
      "Now is better than never.\n",
      "Although never is often better than *right* now.\n",
      "If the implementation is hard to explain, it's a bad idea.\n",
      "If the implementation is easy to explain, it may be a good idea.\n",
      "Namespaces are one honking great idea -- let's do more of those!\n"
     ]
    }
   ],
   "source": [
    "import this"
   ]
  },
  {
   "cell_type": "markdown",
   "metadata": {},
   "source": [
    "# Python Idioms\n",
    "\n",
    "Much of this section is inspired by this video: [Transforming Code into Beautiful, Idiomatic Python](https://youtu.be/OSGv2VnC0go)  \n",
    "(video by a python core developer and great speaker; highly recommended to watch)\n",
    "\n",
    "We will cover:\n",
    "- Python's core looping idioms\n",
    "- Dictionary skills"
   ]
  },
  {
   "cell_type": "markdown",
   "metadata": {},
   "source": [
    "## What do we always do (or at least what do I do)!?\n",
    "from __future__ import print_function, divison"
   ]
  },
  {
   "cell_type": "markdown",
   "metadata": {},
   "source": [
    "### Loop over a collection"
   ]
  },
  {
   "cell_type": "code",
   "execution_count": 1,
   "metadata": {},
   "outputs": [
    {
     "name": "stdout",
     "output_type": "stream",
     "text": [
      "red\n",
      "green\n",
      "blue\n",
      "yellow\n",
      "red\n",
      "green\n",
      "blue\n",
      "yellow\n"
     ]
    }
   ],
   "source": [
    "colors = ['red', 'green', 'blue', 'yellow']\n",
    "\n",
    "\n",
    "# If you're a c programmer:\n",
    "\n",
    "for i in range(len(colors)):\n",
    "    print colors[i]\n",
    "\n",
    "\n",
    "# If you're a python programmer:\n",
    "\n",
    "for color in colors:\n",
    "    print color"
   ]
  },
  {
   "cell_type": "markdown",
   "metadata": {},
   "source": [
    "### How to loop backwards"
   ]
  },
  {
   "cell_type": "code",
   "execution_count": 2,
   "metadata": {},
   "outputs": [
    {
     "name": "stdout",
     "output_type": "stream",
     "text": [
      "yellow\n",
      "blue\n",
      "green\n",
      "red\n",
      "yellow\n",
      "blue\n",
      "green\n",
      "red\n"
     ]
    }
   ],
   "source": [
    "# If you're a c programmer:\n",
    "\n",
    "for i in range(len(colors)-1, -1, -1):\n",
    "    print colors[i]\n",
    "    \n",
    "\n",
    "# If you're a python programmer:\n",
    "\n",
    "for color in reversed(colors):\n",
    "    print color"
   ]
  },
  {
   "cell_type": "markdown",
   "metadata": {},
   "source": [
    "### Loop over a collection elements _and_ indices "
   ]
  },
  {
   "cell_type": "code",
   "execution_count": 3,
   "metadata": {},
   "outputs": [
    {
     "name": "stdout",
     "output_type": "stream",
     "text": [
      "0 --> red\n",
      "1 --> green\n",
      "2 --> blue\n",
      "3 --> yellow\n",
      "0 --> red\n",
      "1 --> green\n",
      "2 --> blue\n",
      "3 --> yellow\n"
     ]
    }
   ],
   "source": [
    "# If you're a c programmer:\n",
    "\n",
    "for i in range(len(colors)):\n",
    "    print i, '-->', colors[i]\n",
    "    \n",
    "\n",
    "# If you're a python programmer:\n",
    "\n",
    "for i, color in enumerate(colors):\n",
    "    print i, '-->', color"
   ]
  },
  {
   "cell_type": "markdown",
   "metadata": {},
   "source": [
    "### Loop over two collections at once"
   ]
  },
  {
   "cell_type": "code",
   "execution_count": 5,
   "metadata": {},
   "outputs": [
    {
     "name": "stdout",
     "output_type": "stream",
     "text": [
      "red aniket\n",
      "green skylar\n",
      "blue maria\n",
      "yellow meryl\n",
      "red aniket\n",
      "green skylar\n",
      "blue maria\n",
      "yellow meryl\n"
     ]
    }
   ],
   "source": [
    "colors = ['red', 'green', 'blue', 'yellow']\n",
    "names = ['aniket', 'skylar', 'maria', 'meryl', 'test']\n",
    "\n",
    "\n",
    "# If you're a c programmer:\n",
    "\n",
    "for i in range(min(len(colors), len(names))):\n",
    "    print colors[i], names[i]\n",
    "    \n",
    "\n",
    "# If you're a python programmer:\n",
    "\n",
    "for color, name in zip(colors, names):\n",
    "    print color, name"
   ]
  },
  {
   "cell_type": "markdown",
   "metadata": {},
   "source": [
    "### Looping in sorted-order"
   ]
  },
  {
   "cell_type": "code",
   "execution_count": 6,
   "metadata": {},
   "outputs": [
    {
     "name": "stdout",
     "output_type": "stream",
     "text": [
      "blue\n",
      "green\n",
      "red\n",
      "yellow\n",
      "yellow\n",
      "red\n",
      "green\n",
      "blue\n"
     ]
    }
   ],
   "source": [
    "for color in sorted(colors):\n",
    "    print color\n",
    "    \n",
    "for color in sorted(colors, reverse=True):\n",
    "    print color"
   ]
  },
  {
   "cell_type": "markdown",
   "metadata": {},
   "source": [
    "### Dictionary skills\n",
    "\n",
    "> Fundamental tool for expressing relationships, linking, counting, and grouping.\n",
    "\n",
    "... and they are super-fast for item insertion, removal, and membership-checking."
   ]
  },
  {
   "cell_type": "code",
   "execution_count": 1,
   "metadata": {
    "collapsed": true
   },
   "outputs": [],
   "source": [
    "d = {'aniket': 'lead instructor', \n",
    "     'skylar': 'instructor', \n",
    "     'meryl': 'program director', \n",
    "     'maria': 'career services manager'}"
   ]
  },
  {
   "cell_type": "code",
   "execution_count": 2,
   "metadata": {},
   "outputs": [
    {
     "ename": "NameError",
     "evalue": "name 'random' is not defined",
     "output_type": "error",
     "traceback": [
      "\u001b[0;31m---------------------------------------------------------------------------\u001b[0m",
      "\u001b[0;31mNameError\u001b[0m                                 Traceback (most recent call last)",
      "\u001b[0;32m<ipython-input-2-c01c5e0b1aa0>\u001b[0m in \u001b[0;36m<module>\u001b[0;34m()\u001b[0m\n\u001b[0;32m----> 1\u001b[0;31m \u001b[0mhash\u001b[0m\u001b[0;34m(\u001b[0m\u001b[0;34m'Aa'\u001b[0m\u001b[0;34m)\u001b[0m \u001b[0;34m%\u001b[0m \u001b[0mrandom\u001b[0m\u001b[0;34m\u001b[0m\u001b[0m\n\u001b[0m",
      "\u001b[0;31mNameError\u001b[0m: name 'random' is not defined"
     ]
    }
   ],
   "source": [
    "hash('Aa') % random"
   ]
  },
  {
   "cell_type": "markdown",
   "metadata": {},
   "source": [
    "#### Loop over keys"
   ]
  },
  {
   "cell_type": "code",
   "execution_count": 8,
   "metadata": {},
   "outputs": [
    {
     "name": "stdout",
     "output_type": "stream",
     "text": [
      "chris\n",
      "scott\n",
      "nicole\n",
      "ryan\n",
      "chris\n",
      "scott\n",
      "nicole\n",
      "ryan\n"
     ]
    }
   ],
   "source": [
    "# Do this:\n",
    "\n",
    "for k in d:\n",
    "    print k\n",
    "\n",
    "\n",
    "# NOT THIS!\n",
    "\n",
    "for k in d.keys():\n",
    "    print k"
   ]
  },
  {
   "cell_type": "markdown",
   "metadata": {},
   "source": [
    "#### Loop over key-value pairs"
   ]
  },
  {
   "cell_type": "code",
   "execution_count": 9,
   "metadata": {},
   "outputs": [
    {
     "name": "stdout",
     "output_type": "stream",
     "text": [
      "aniket --> lead instructor\n",
      "skylar --> instructor\n",
      "meryl --> program director\n",
      "maria --> career services manager\n",
      "aniket --> lead instructor\n",
      "skylar --> instructor\n",
      "meryl --> program director\n",
      "maria --> career services manager\n"
     ]
    }
   ],
   "source": [
    "# Do this:\n",
    "\n",
    "for k, v in d.iteritems():\n",
    "    print k, '-->', v\n",
    "\n",
    "\n",
    "# NOT THIS!\n",
    "\n",
    "for k in d:\n",
    "    print k, '-->', d[k]"
   ]
  },
  {
   "cell_type": "markdown",
   "metadata": {},
   "source": [
    "#### Check membership"
   ]
  },
  {
   "cell_type": "code",
   "execution_count": 10,
   "metadata": {},
   "outputs": [
    {
     "name": "stdout",
     "output_type": "stream",
     "text": [
      "True\n",
      "False\n",
      "True\n",
      "False\n"
     ]
    }
   ],
   "source": [
    "# Do this:\n",
    "\n",
    "print 'aniket' in d             # <-- SUPER FAST\n",
    "print 'zack' in d             # <-- SUPER FAST\n",
    "\n",
    "\n",
    "# EXTRA EXTRA EXTRA NOT THIS!\n",
    "\n",
    "print 'aniket' in d.keys()      # <-- SUPER SLOW  (we'll discuss on the whiteboard)\n",
    "print 'zack' in d.keys()      # <-- SUPER SLOW"
   ]
  },
  {
   "cell_type": "markdown",
   "metadata": {},
   "source": [
    "#### Speedup Example 1"
   ]
  },
  {
   "cell_type": "code",
   "execution_count": 4,
   "metadata": {
    "collapsed": true
   },
   "outputs": [],
   "source": [
    "from string import punctuation"
   ]
  },
  {
   "cell_type": "code",
   "execution_count": 5,
   "metadata": {},
   "outputs": [
    {
     "name": "stdout",
     "output_type": "stream",
     "text": [
      "CPU times: user 4.62 s, sys: 69.4 ms, total: 4.69 s\n",
      "Wall time: 5.04 s\n"
     ]
    }
   ],
   "source": [
    "def invalid_words(wordlist, f):\n",
    "    '''\n",
    "    Given a list of all the valid words and a document filename, return a list\n",
    "    of words from the document that are not valid words.\n",
    "    '''\n",
    "    result = []\n",
    "    for line in f:\n",
    "        words = line.strip().split()\n",
    "        for word in words:\n",
    "            if word.lower().strip(punctuation) not in wordlist:\n",
    "                result.append(word)\n",
    "    return result\n",
    "\n",
    "\n",
    "with open('data/wordlist.txt') as f:\n",
    "    words = [line.lower().strip() for line in f]\n",
    "\n",
    "\n",
    "%time invalid = invalid_words(words, open('data/frankenstein_small.txt'))"
   ]
  },
  {
   "cell_type": "code",
   "execution_count": 21,
   "metadata": {},
   "outputs": [
    {
     "ename": "SyntaxError",
     "evalue": "invalid syntax (<ipython-input-21-756d1fab8417>, line 18)",
     "output_type": "error",
     "traceback": [
      "\u001b[0;36m  File \u001b[0;32m\"<ipython-input-21-756d1fab8417>\"\u001b[0;36m, line \u001b[0;32m18\u001b[0m\n\u001b[0;31m    %%timeit invalid_words_faster(words, open('data/frankenstein_small.txt'))\u001b[0m\n\u001b[0m    ^\u001b[0m\n\u001b[0;31mSyntaxError\u001b[0m\u001b[0;31m:\u001b[0m invalid syntax\n"
     ]
    }
   ],
   "source": [
    "def invalid_words_faster(wordlist, f):\n",
    "    '''\n",
    "    Given a list of all the valid words and a document filename, return a list\n",
    "    of words from the document that are not valid words.\n",
    "    '''\n",
    "    wordset = set(wordlist)\n",
    "    result = []\n",
    "    for line in f:\n",
    "        words = line.strip().split()\n",
    "        for word in words:\n",
    "            if word.lower().strip(punctuation) not in wordset:\n",
    "                result.append(word)\n",
    "    return result\n",
    "\n",
    "with open('data/wordlist.txt') as f:\n",
    "    words = [line.lower().strip() for line in f]\n",
    "\n",
    "%%timeit invalid_words_faster(words, open('data/frankenstein_small.txt'))"
   ]
  },
  {
   "cell_type": "markdown",
   "metadata": {},
   "source": [
    "#### Speedup Example 2"
   ]
  },
  {
   "cell_type": "code",
   "execution_count": 7,
   "metadata": {
    "collapsed": true
   },
   "outputs": [],
   "source": [
    "import string\n",
    "import random\n",
    "\n",
    "mystring = \"\".join(random.choice(string.lowercase) for i in xrange(100000))"
   ]
  },
  {
   "cell_type": "code",
   "execution_count": 8,
   "metadata": {},
   "outputs": [
    {
     "name": "stdout",
     "output_type": "stream",
     "text": [
      "CPU times: user 10.2 s, sys: 106 ms, total: 10.3 s\n",
      "Wall time: 10.6 s\n"
     ]
    },
    {
     "data": {
      "text/plain": [
       "['a', 'f', 'h', 'k', 'm', 'p', 'r', 's', 't', 'u', 'x', 'z']"
      ]
     },
     "execution_count": 8,
     "metadata": {},
     "output_type": "execute_result"
    }
   ],
   "source": [
    "def common_characters(s, num):\n",
    "    '''\n",
    "    Return the list of characters which appear in the string s more than `num`\n",
    "    times.\n",
    "    '''\n",
    "    result = []\n",
    "    for char in s:\n",
    "        if s.count(char) > num:\n",
    "            if char not in result:\n",
    "                result.append(char)\n",
    "    return result\n",
    "\n",
    "%time common = common_characters(mystring, len(mystring)/26)\n",
    "sorted(common)"
   ]
  },
  {
   "cell_type": "code",
   "execution_count": 9,
   "metadata": {},
   "outputs": [
    {
     "name": "stdout",
     "output_type": "stream",
     "text": [
      "CPU times: user 33.1 ms, sys: 17.8 ms, total: 50.9 ms\n",
      "Wall time: 50.9 ms\n"
     ]
    },
    {
     "data": {
      "text/plain": [
       "['a', 'f', 'h', 'k', 'm', 'p', 'r', 's', 't', 'u', 'x', 'z']"
      ]
     },
     "execution_count": 9,
     "metadata": {},
     "output_type": "execute_result"
    }
   ],
   "source": [
    "from collections import Counter\n",
    "\n",
    "def common_characters_faster(s, num):\n",
    "    '''\n",
    "    Return the list of characters which appear in the string s more than `num`\n",
    "    times.\n",
    "    '''\n",
    "    c = Counter(s)\n",
    "    return [key for key, value in c.iteritems() if value > num]\n",
    "\n",
    "\n",
    "\n",
    "\n",
    "%time common = common_characters_faster(mystring, len(mystring)/26)\n",
    "sorted(common)"
   ]
  },
  {
   "cell_type": "markdown",
   "metadata": {},
   "source": [
    "#### Speedup Example 3"
   ]
  },
  {
   "cell_type": "code",
   "execution_count": 11,
   "metadata": {
    "collapsed": true
   },
   "outputs": [],
   "source": [
    "mylist = [random.randrange(-1,100000) for i in xrange(10000)]"
   ]
  },
  {
   "cell_type": "code",
   "execution_count": 12,
   "metadata": {},
   "outputs": [
    {
     "name": "stdout",
     "output_type": "stream",
     "text": [
      "CPU times: user 2.78 s, sys: 32.9 ms, total: 2.82 s\n",
      "Wall time: 2.86 s\n"
     ]
    }
   ],
   "source": [
    "def sum_to_zero(lst):\n",
    "    '''\n",
    "    Return a tuple of two values from the input list that sum to zero.\n",
    "    If none exist, return None.\n",
    "    '''\n",
    "\n",
    "    for i, item1 in enumerate(lst):\n",
    "        for item2 in lst[i + 1:]:\n",
    "            if item1 + item2 == 0:\n",
    "                return item1, item2\n",
    "\n",
    "%time v = sum_to_zero(mylist)\n",
    "v"
   ]
  },
  {
   "cell_type": "code",
   "execution_count": 16,
   "metadata": {},
   "outputs": [
    {
     "name": "stdout",
     "output_type": "stream",
     "text": [
      "CPU times: user 6.99 ms, sys: 434 µs, total: 7.42 ms\n",
      "Wall time: 7.54 ms\n"
     ]
    }
   ],
   "source": [
    "def sum_to_zero_faster(lst):\n",
    "    '''\n",
    "    Return a tuple of two values from the input list that sum to zero.\n",
    "    If none exist, return None.\n",
    "    '''\n",
    "    # Writing this carefully so that it's both fast AND will give the\n",
    "    # same result as our first (slow) version.\n",
    "    s = Counter(lst)\n",
    "    for i in lst:\n",
    "        if i == 0 and s[i] >= 2:\n",
    "            return (0, 0)\n",
    "        elif i != 0 and -i in s:\n",
    "            return (i, -i)\n",
    "\n",
    "%time v = sum_to_zero_faster(mylist)\n",
    "v"
   ]
  },
  {
   "cell_type": "code",
   "execution_count": 17,
   "metadata": {},
   "outputs": [
    {
     "name": "stdout",
     "output_type": "stream",
     "text": [
      "Forgoing the galvanize matplotlib style...\n"
     ]
    }
   ],
   "source": [
    "import numpy as np\n",
    "\n",
    "import matplotlib\n",
    "import matplotlib.pyplot as plt\n",
    "%matplotlib inline\n",
    "\n",
    "if 'galvanize' in plt.style.available:\n",
    "    plt.style.use('galvanize')\n",
    "else:\n",
    "    print 'Forgoing the galvanize matplotlib style...'\n",
    "\n",
    "from timeit import Timer\n",
    "\n",
    "def build_input(n):\n",
    "    # This input will never have a 'True' result. This will force worst-case runtimes.\n",
    "    return [random.randrange(1,100000) for i in xrange(n)]\n",
    "\n",
    "def get_times(samples, func):\n",
    "    t = Timer(lambda: func(samples))\n",
    "    return t.timeit(number=10)\n",
    "\n",
    "sizes_slow = range(10, 2000, 100)\n",
    "times_slow = [get_times(build_input(n), sum_to_zero) for n in sizes_slow]\n",
    "\n",
    "sizes_fast = range(10, 10000, 1000)\n",
    "times_fast = [get_times(build_input(n), sum_to_zero_faster) for n in sizes_fast]"
   ]
  },
  {
   "cell_type": "code",
   "execution_count": 18,
   "metadata": {},
   "outputs": [
    {
     "data": {
      "text/plain": [
       "<matplotlib.text.Text at 0x11853a590>"
      ]
     },
     "execution_count": 18,
     "metadata": {},
     "output_type": "execute_result"
    },
    {
     "data": {
      "image/png": "[encoded data removed]",
      "text/plain": [
       "<matplotlib.figure.Figure at 0x117fec6d0>"
      ]
     },
     "metadata": {},
     "output_type": "display_data"
    }
   ],
   "source": [
    "plt.plot(sizes_slow, times_slow)\n",
    "plt.title(\"sum_to_zero() timings\")\n",
    "plt.xlabel(\"input size\")\n",
    "plt.ylabel(\"time (seconds)\")"
   ]
  },
  {
   "cell_type": "code",
   "execution_count": 38,
   "metadata": {},
   "outputs": [
    {
     "data": {
      "text/plain": [
       "<matplotlib.text.Text at 0x114bd80d0>"
      ]
     },
     "execution_count": 38,
     "metadata": {},
     "output_type": "execute_result"
    },
    {
     "data": {
      "image/png": "[encoded data removed]",
      "text/plain": [
       "<matplotlib.figure.Figure at 0x114fd5c90>"
      ]
     },
     "metadata": {},
     "output_type": "display_data"
    }
   ],
   "source": [
    "plt.plot(sizes_fast, times_fast)\n",
    "plt.title(\"sum_to_zero_fast() timings\")\n",
    "plt.xlabel(\"input size\")\n",
    "plt.ylabel(\"time (seconds)\")"
   ]
  },
  {
   "cell_type": "markdown",
   "metadata": {},
   "source": [
    "### Takeaway #1\n",
    "\n",
    "> Beautiful is better than ugly.\n",
    "\n",
    "There is a _beautiful_ way to do what you're trying to do. Find _that_ way if you don't know it already. Programming is an artform and must be practiced. But that's why we love it: [Build your Castles](https://gist.github.com/acu192/44582a272508c69541867f371490df25)\n",
    "\n",
    "### Takeaway #2\n",
    "\n",
    "Use sets/dictionaries where appropriate:\n",
    "\n",
    "Rules applying to sets _and_ dictionaries, use when:\n",
    " - checking for membership\n",
    " - inserting / removing items often\n",
    " - item order does not matter\n",
    "\n",
    "Rules applying to dictionaries, use when:\n",
    " - there is a natural key-value relationship\n",
    "\n",
    "Rules applying to sets, use when:\n",
    " - you don't need to store duplicate items\n",
    " \n",
    "Use lists where appropriate, when:\n",
    " - item order matters\n",
    " - you need to allow duplicate items\n",
    " - you do not need to insert/remove items in the middle of list\n",
    " - you do not need to check for membership"
   ]
  },
  {
   "cell_type": "code",
   "execution_count": 30,
   "metadata": {},
   "outputs": [
    {
     "name": "stdout",
     "output_type": "stream",
     "text": [
      "10 loops, best of 3: 2.5 µs per loop\n"
     ]
    }
   ],
   "source": [
    "%timeit -n 10 [x for x in range(10)]"
   ]
  },
  {
   "cell_type": "code",
   "execution_count": null,
   "metadata": {
    "collapsed": true
   },
   "outputs": [],
   "source": []
  }
 ],
 "metadata": {
  "anaconda-cloud": {},
  "kernelspec": {
   "display_name": "Python 2",
   "language": "python",
   "name": "python2"
  },
  "language_info": {
   "codemirror_mode": {
    "name": "ipython",
    "version": 2
   },
   "file_extension": ".py",
   "mimetype": "text/x-python",
   "name": "python",
   "nbconvert_exporter": "python",
   "pygments_lexer": "ipython2",
   "version": "2.7.13"
  }
 },
 "nbformat": 4,
 "nbformat_minor": 1
}
