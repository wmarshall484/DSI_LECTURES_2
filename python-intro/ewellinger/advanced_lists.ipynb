{
 "cells": [
  {
   "cell_type": "markdown",
   "metadata": {},
   "source": [
    "# Tricks and tricks with lists\n",
    "\n",
    "Python Lists are a flexible container that holds other objects\n",
    "\n",
    "   * **lambda** - shorthand to create an anonymous function\n",
    "   * **zip** - take iterables and zip them into tuples\n",
    "   * **map** - applies a function over an iterable\n"
   ]
  },
  {
   "cell_type": "code",
   "execution_count": 55,
   "metadata": {
    "collapsed": false
   },
   "outputs": [
    {
     "data": {
      "text/plain": [
       "<function __main__.<lambda>>"
      ]
     },
     "execution_count": 55,
     "metadata": {},
     "output_type": "execute_result"
    }
   ],
   "source": [
    "lst = [1,2,3]\n",
    "lambda x: max(x)\n",
    "\n",
    "def func(x):\n",
    "    return max(x)"
   ]
  },
  {
   "cell_type": "markdown",
   "metadata": {},
   "source": [
    "## Simple list comprehensions"
   ]
  },
  {
   "cell_type": "code",
   "execution_count": 56,
   "metadata": {
    "collapsed": false
   },
   "outputs": [
    {
     "name": "stdout",
     "output_type": "stream",
     "text": [
      "True [5, 4, 3, 2, 1, 0, 1, 2, 3, 4]\n",
      "True [25, 16, 9, 4, 1, 0, 1, 4, 9, 16]\n"
     ]
    }
   ],
   "source": [
    "a = range(-5,5)\n",
    "\n",
    "## with builtins\n",
    "b = map(abs,a)\n",
    "c = [abs(x) for x in a]\n",
    "print b==c,b\n",
    "\n",
    "## with your own function\n",
    "b = [x**2 for x in a]\n",
    "c = map(lambda x: x**2, a)\n",
    "print b==c,b"
   ]
  },
  {
   "cell_type": "markdown",
   "metadata": {},
   "source": [
    "## Filtering list comprehensions"
   ]
  },
  {
   "cell_type": "code",
   "execution_count": 5,
   "metadata": {
    "collapsed": false
   },
   "outputs": [
    {
     "name": "stdout",
     "output_type": "stream",
     "text": [
      "True ['fee', 'fi', 'foo', 'fum']\n",
      "True [1, 81, 0, 16]\n"
     ]
    }
   ],
   "source": [
    "import types\n",
    "\n",
    "## filter\n",
    "a = ['', 'fee', '', '', '', 'fi', '', '', '', '', 'foo', '', '', '', '', '', 'fum']\n",
    "b = filter(lambda x: len(x) > 0,a)\n",
    "c = [x for x in a if len(x) > 0]\n",
    "print b==c,b\n",
    "\n",
    "## square only the ints and filter the rest                                                                                                                                                                           \n",
    "a = [1, '4', 9, 'a', 0, 4]\n",
    "b = [x**2 for x in a if type(x)==types.IntType]\n",
    "c = [x**2 for x in a if type(x)==int]\n",
    "d = map(lambda x: x**2, filter(lambda x: isinstance(x,int), a))\n",
    "print b==c==d,b\n"
   ]
  },
  {
   "cell_type": "markdown",
   "metadata": {},
   "source": [
    "## Nested list comprehensions"
   ]
  },
  {
   "cell_type": "code",
   "execution_count": 4,
   "metadata": {
    "collapsed": false
   },
   "outputs": [
    {
     "data": {
      "text/plain": [
       "True"
      ]
     },
     "execution_count": 4,
     "metadata": {},
     "output_type": "execute_result"
    }
   ],
   "source": [
    "nest_lst = [[1,2,3], [4,5,6], [7,8]]\n",
    "\n",
    "flat_lst = []\n",
    "for lst in nest_lst:\n",
    "    for item in lst:\n",
    "        flat_lst.append(item)\n",
    "\n",
    "flat_lst2 = [item for lst in nest_lst for item in lst]\n",
    "\n",
    "flat_lst == flat_lst2"
   ]
  },
  {
   "cell_type": "markdown",
   "metadata": {
    "collapsed": true
   },
   "source": [
    "## Having fun with Zip"
   ]
  },
  {
   "cell_type": "code",
   "execution_count": 13,
   "metadata": {
    "collapsed": false
   },
   "outputs": [
    {
     "name": "stdout",
     "output_type": "stream",
     "text": [
      "[(1, 'a'), (2, 'b'), (3, 'c')]\n",
      "[(1, 'a'), (2, 'b'), (3, 'c')]\n",
      "('b', 'f')\n"
     ]
    }
   ],
   "source": [
    "a1,a2 = [1,2,3],['a','b','c']\n",
    "print zip(a1,a2)    \n",
    "print zip(*[a1,a2])\n",
    "\n",
    "lst = [['a','b','c'], ['e','f','g']]\n",
    "print zip(*lst)[1]\n",
    "\n",
    "lst = ['x','y','z']"
   ]
  },
  {
   "cell_type": "code",
   "execution_count": 59,
   "metadata": {
    "collapsed": false
   },
   "outputs": [
    {
     "data": {
      "text/plain": [
       "{'a': 1, 'b': 2, 'c': 3}"
      ]
     },
     "execution_count": 59,
     "metadata": {},
     "output_type": "execute_result"
    }
   ],
   "source": [
    "dict(zip(a2,a1))"
   ]
  },
  {
   "cell_type": "code",
   "execution_count": 60,
   "metadata": {
    "collapsed": false
   },
   "outputs": [
    {
     "name": "stdout",
     "output_type": "stream",
     "text": [
      "[[1, 2, 3], [4, 5, 6]]\n",
      "True [[1, 4], [2, 5], [3, 6]]\n",
      "True [[4, 1], [5, 2], [6, 3]]\n"
     ]
    }
   ],
   "source": [
    "## transpose\n",
    "a = [[1,2,3],[4,5,6]]\n",
    "print(a)\n",
    "b = map(list, zip(*a))\n",
    "c = [[row[i] for row in a] for i in range(len(a[0]))]\n",
    "print b==c,b\n",
    "\n",
    "## rotate (to the right 90 degrees)\n",
    "b = map(list, zip(*a[::-1]))\n",
    "c = [[row[i] for row in a[::-1]] for i in range(len(a[0]))]\n",
    "print b==c,b\n"
   ]
  },
  {
   "cell_type": "code",
   "execution_count": 63,
   "metadata": {
    "collapsed": false
   },
   "outputs": [
    {
     "name": "stdout",
     "output_type": "stream",
     "text": [
      "True [4, 5, 6]\n"
     ]
    }
   ],
   "source": [
    "## Are list comprehensions always easier?\n",
    "b = map(lambda x: max(x), zip(*a))\n",
    "\n",
    "## what is the equivalent list comprehension?\n",
    "c = [max(tpl) for tpl in [[row[i] for row in a] for i in range(len(a[0]))]]\n",
    "print b==c,b"
   ]
  },
  {
   "cell_type": "markdown",
   "metadata": {},
   "source": [
    "### Resources\n",
    "\n",
    "\n",
    "**isinstance vs type**\n",
    "  * http://stackoverflow.com/questions/1549801/differences-between-isinstance-and-type-in-python\n",
    "  \n",
    "**list comps vs map**\n",
    "  * http://stackoverflow.com/questions/1247486/python-list-comprehension-vs-map"
   ]
  },
  {
   "cell_type": "code",
   "execution_count": null,
   "metadata": {
    "collapsed": true
   },
   "outputs": [],
   "source": []
  }
 ],
 "metadata": {
  "kernelspec": {
   "display_name": "Python 2",
   "language": "python",
   "name": "python2"
  },
  "language_info": {
   "codemirror_mode": {
    "name": "ipython",
    "version": 2
   },
   "file_extension": ".py",
   "mimetype": "text/x-python",
   "name": "python",
   "nbconvert_exporter": "python",
   "pygments_lexer": "ipython2",
   "version": "2.7.12"
  }
 },
 "nbformat": 4,
 "nbformat_minor": 1
}
