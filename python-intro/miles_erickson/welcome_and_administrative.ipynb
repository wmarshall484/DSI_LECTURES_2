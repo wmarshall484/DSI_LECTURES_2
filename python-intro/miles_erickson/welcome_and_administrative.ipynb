{
 "cells": [
  {
   "cell_type": "markdown",
   "metadata": {},
   "source": [
    "# Welcome: Galvanize Seattle DSI Cohort 11"
   ]
  },
  {
   "cell_type": "markdown",
   "metadata": {},
   "source": [
    "## Outline\n",
    "\n",
    "### High Level View\n",
    "* Course schedule\n",
    "* Daily schedule\n",
    "* Introduce the instructors\n",
    "\n",
    "### Course Expectations\n",
    "* Attendance\n",
    "* Assignments and Assessments\n",
    "* Resources and Communication\n",
    "\n",
    "### Getting started\n",
    "* Python\n",
    "* Git\n",
    "* Pair-Programming"
   ]
  },
  {
   "cell_type": "markdown",
   "metadata": {},
   "source": [
    "# High Level View\n",
    "\n",
    "## Course Schedule\n",
    "\n",
    "We will send out a more detailed version with instructor assignments and repository links this week.\n",
    "\n",
    "| Week | Topic |\n",
    "|------|-------|\n",
    "| 0 | Python Crash Course |\n",
    "| 1 | Software Engineering, Programming, and EDA |\n",
    "| 2 | AWS, Web Scraping, Probability, Statistics |\n",
    "| 3 | A/B Testing, Linear Regression |\n",
    "| 4 | Logistic Regression, Hard Classification |\n",
    "| 5 | Supervised Learning |\n",
    "| 6 | **Break Week** |\n",
    "| 7 | Unsupervised Learning, Spark |\n",
    "| 8 | Recommendation Systems |\n",
    "| 9 | Graph Theory, Time Series, Neural Networks, Web Dev |\n",
    "| 10 | Case Study, Interview Prep, Final Assessment|\n",
    "| 11 | Capstone Project |\n",
    "| 12 | Capstone Project |\n",
    "| 13 | Capstone Project & Graduation |\n"
   ]
  },
  {
   "cell_type": "markdown",
   "metadata": {},
   "source": [
    "## Daily Schedule\n",
    "\n",
    "Daily schedules are flexible.  The standard instructional day looks like this:\n",
    "\n",
    "| Time | Activity |\n",
    "|-|-|\n",
    "| 8:30-9:00 | Miniquiz, Review, or Scrum |\n",
    "| 9:00-10:30 | Lecture |\n",
    "| 10:30-12:30 | Individual Sprint |\n",
    "| 12:30-1:30 | Lunch |\n",
    "| 1:30-2:30\t| Lecture |\n",
    "| 2:30-5:30 | Pair Sprint |\n",
    "\n",
    "\n",
    "There are also Case Study days which are more open ended, up to the discretion of the instructor running the case study."
   ]
  },
  {
   "cell_type": "markdown",
   "metadata": {},
   "source": [
    "## Introduce the Instructors\n",
    "\n",
    "| Name | Role | Email | Slack |\n",
    "|-|-|-|-|\n",
    "| Matt Drury | Lead Instructor | matthew.drury@galvanize.com | madrury |\n",
    "| Jack Bennetto | Instructor | jack.bennetto@galvanize.com | jack |\n",
    "| Miles Erickson | Instructor | miles.erickson@galvanize.com | miles.erickson |\n",
    "| Mossy | Data Dog | mossy@mossy.dog | :dog2: |\n",
    "\n",
    "The only \"special\" thing distinguising the instructor is that **when absent, you should slack Matt**."
   ]
  },
  {
   "cell_type": "markdown",
   "metadata": {},
   "source": [
    "# Course Expectations\n",
    "\n",
    "## Attendance\n",
    "Detailed attendance requirements are detailed in the student agreement you signed. Key takeaways:\n",
    "\n",
    "1. It's important that you be here.\n",
    "1. If you can't make it, we are understanding, but need to be informed in advance.\n",
    "    1. Up to 2 unexcused absences will be tolerated.\n",
    "    1. 3 partial unexcused absences (later than 8:30) will be considered an unexcused absence.\n",
    "    1. Excused & unexcused absences should not exceed 15% of the course, 9 days.\n",
    "    \n",
    "If you are going to be late or absent, please let **Matt** know as soon as possible.  Slack is the best way to accomplish this."
   ]
  },
  {
   "cell_type": "markdown",
   "metadata": {},
   "source": [
    "# Course Expectations\n",
    "## Assignments & Assessments\n",
    "\n",
    "* Warm ups / Q&A / Group Discussions (many mornings)\n",
    "* Individual sprints \n",
    "* Pair sprints\n",
    "* Assessments (roughly weekly)\n",
    "    * These assessments will be graded\n",
    "    * There is a standard of performance required (see the agreement you signed)"
   ]
  },
  {
   "cell_type": "markdown",
   "metadata": {},
   "source": [
    "# Course Expectations\n",
    "\n",
    "## Resources and Communication\n",
    "\n",
    "* Sign up for slack `gstudent.slack.com` for ephemeral communication.\n",
    "* Email for (rare) non-ephemeral communication."
   ]
  },
  {
   "cell_type": "markdown",
   "metadata": {},
   "source": [
    "# Getting Started"
   ]
  },
  {
   "cell_type": "markdown",
   "metadata": {},
   "source": [
    "## Software\n",
    "\n",
    "  * Operating Systems: OSX and Linux.  The instructors cannot support Windows!\n",
    "  * Terminal: `iterm2`\n",
    "  * Anaconda\n",
    "  * Text Editor.  If you have not used one before, we reccomend `atom`.  If you have used one before, use whatever you are most comfortable with.  The instructors all use `vim`.  We **do not** recommend you learn vim in DSI."
   ]
  },
  {
   "cell_type": "markdown",
   "metadata": {},
   "source": [
    "## Command Line Tools\n",
    "\n",
    "  * `brew` is a package manager for general OSX (mac) software.  If you're using linux, there are similar tools (`apt-get`, ...)\n",
    "  * `pip` is the package manager for general (non-scientific) python libraries.\n",
    "  * `conda` is the package manager for scientific python libraries.  It also manages python environments, which we will put ot use below.\n",
    "  \n",
    "We will get some good use out of all of these!"
   ]
  },
  {
   "cell_type": "markdown",
   "metadata": {},
   "source": [
    "## Python: State of the Nation\n",
    "\n",
    "There are two versions of Python in current common usage:\n",
    "  * `python2.7` is a **legacy version**.\n",
    "  * `python3.6` is the current version.\n",
    "  \n",
    "Unfortunate current day reality: you have to be familiar with both.  Luckily, they are not so different.\n",
    "\n",
    "  * Original Galvanize DSI curriculum was written in 2.7.\n",
    "  * Currently working to transfer everything into 3.6.\n",
    "  * Instructors use 3.6 at home, will be using it at work as well.\n",
    "  \n",
    "## Setting up Python Environments.\n",
    "\n",
    "You will need to set up environments for both `python2.7` and `python3.6`.\n",
    "\n",
    "First, do this to verify that you are using a version of python supplied by Anaconda:\n",
    "\n",
    "```\n",
    "which python\n",
    "```\n",
    "\n",
    "That should have the word `anaconda` somewhere in the path.\n",
    "\n",
    "Then check what version of python you have as default.\n",
    "\n",
    "```\n",
    "python --version\n",
    "```\n",
    "\n",
    "#### If python 2.7 is your default\n",
    "\n",
    "```\n",
    "conda create -n py36 python=3.6 anaconda\n",
    "```\n",
    "\n",
    "#### If python 3.6 is your default\n",
    "\n",
    "```\n",
    "conda create -n py27 python=2.7 anaconda\n",
    "```\n",
    "\n",
    "## Installing Libraries into a Specific Environment\n",
    "\n",
    "To install a package into a specific environment\n",
    "\n",
    "```\n",
    "conda install <packages> -n <environment name>\n",
    "```\n",
    "\n",
    "#### Example: Install numpy into py27 environment\n",
    "\n",
    "```\n",
    "conda install numpy -n py27\n",
    "```\n",
    "\n",
    "## Main Differences Between Python 2 and 3\n",
    "\n",
    "  * `print`\n",
    "  * Integer Division\n",
    "  * `dict` methods\n",
    "  * Everything is a generator (`range` and `xrange`)"
   ]
  },
  {
   "cell_type": "markdown",
   "metadata": {},
   "source": [
    "## Git\n",
    "\n",
    "We use `git` and GitHub to manage class materials and exercises.\n",
    "\n",
    "* `git` is the leading version control software in industry.\n",
    "* GitHub builds a nice UI around remote `git` repositories.\n",
    "\n",
    "### Good for\n",
    "\n",
    "* Collaborating with others\n",
    "* Synchronizing changes across many machines\n",
    "* Managing source code, documentation, text files\n",
    "  * Not large data, if you add a 2GB file things will get sad quickly.\n",
    "* Backups\n",
    "* Reproducible research\n",
    "\n",
    "But mostly:\n",
    "\n",
    "### **It is unprofessional not to use `git`**"
   ]
  },
  {
   "cell_type": "markdown",
   "metadata": {},
   "source": [
    "# Essential git\n",
    "\n",
    "## Interacting with a remote repository.\n",
    "\n",
    "* `git clone https://github.com/zipfian/welcome.git`\n",
    " * Copy the files in a repo to your local filesystem (so you can use, or maybe contribute)\n",
    " * **Only used one time for each repository, the first time you need to grab it.**\n",
    "* `git pull`\n",
    " * Sync with an upstream repository\n",
    " * Will require manual intervention if there is a conflict.\n",
    " * Can specify which branch/repo\n",
    "* `git push`\n",
    " * Transfer your changes to an upstream repo.\n",
    " * Must merge upstream changes before you can push.\n",
    " \n",
    "## Interacting with your local repository\n",
    " \n",
    "* `git status`\n",
    " * Check the state of your repo.\n",
    "* `git log`\n",
    " * Check the history of commits in your repo\n",
    "* `git add`\n",
    " * \"I intend to keep the changes I made to this file.\"\n",
    " * Can be undone, easily.\n",
    " * Used to group changes into small commit.\n",
    "* `git commit`\n",
    " * \"I am keeping all the changes I made to this file for all time.\"\n",
    " * Can not be undone without crossing the streams.\n",
    " * Used to hard save changes into bitesize chunks.\n",
    "\n",
    "## Pair Programming Roleplay"
   ]
  },
  {
   "cell_type": "code",
   "execution_count": null,
   "metadata": {
    "collapsed": true
   },
   "outputs": [],
   "source": []
  }
 ],
 "metadata": {
  "anaconda-cloud": {},
  "kernelspec": {
   "display_name": "py36",
   "language": "python",
   "name": "py36"
  },
  "language_info": {
   "codemirror_mode": {
    "name": "ipython",
    "version": 3
   },
   "file_extension": ".py",
   "mimetype": "text/x-python",
   "name": "python",
   "nbconvert_exporter": "python",
   "pygments_lexer": "ipython3",
   "version": "3.6.0"
  }
 },
 "nbformat": 4,
 "nbformat_minor": 1
}
