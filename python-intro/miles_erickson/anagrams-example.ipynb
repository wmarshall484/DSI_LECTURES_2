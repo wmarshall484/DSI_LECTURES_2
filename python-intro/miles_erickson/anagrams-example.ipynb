{
 "cells": [
  {
   "cell_type": "markdown",
   "metadata": {},
   "source": [
    "### Anagram Challenge\n",
    "\n",
    "Two words are anagrams if they have the same letters.\n",
    "\n",
    "_Example anagrams:_\n",
    "* dog, god\n",
    "* act, cat\n",
    "* add, dad\n",
    "* rats, arts\n",
    "* NOT: art, rats\n",
    "* NOT: ada, add\n",
    "* NOT: dog, dog\n",
    "* NOT: dog, good\n",
    "\n",
    "Note: An [anagram](https://en.wikipedia.org/wiki/anagram) is _not_ the same thing as a [palindrome](https://en.wikipedia.org/wiki/palindrome)."
   ]
  },
  {
   "cell_type": "markdown",
   "metadata": {
    "ExecuteTime": {
     "end_time": "2018-02-26T12:58:19.261439",
     "start_time": "2018-02-26T12:58:19.247130"
    }
   },
   "source": [
    "#### Example\n",
    "\n",
    "```python\n",
    ">>> find_anagrams(['bat', 'rats', 'god', 'dog', 'cat', 'arts', 'star'])\n",
    "['rats', 'god', 'dog', 'arts', 'star']\n",
    "```"
   ]
  },
  {
   "cell_type": "code",
   "execution_count": 36,
   "metadata": {
    "ExecuteTime": {
     "end_time": "2018-02-26T13:12:53.423800",
     "start_time": "2018-02-26T13:12:53.412024"
    },
    "collapsed": true
   },
   "outputs": [],
   "source": [
    "example_words = ['bat', 'rats', 'god', 'dog', 'cat', 'arts', 'star']\n",
    "example_solution = ['rats', 'god', 'dog', 'arts', 'star']"
   ]
  },
  {
   "cell_type": "code",
   "execution_count": 37,
   "metadata": {
    "ExecuteTime": {
     "end_time": "2018-02-26T13:12:53.567419",
     "start_time": "2018-02-26T13:12:53.555715"
    },
    "collapsed": true
   },
   "outputs": [],
   "source": [
    "challenge_words = [\"rats\", \"star\", \"tars\", \"tsar\", \"arts\",\n",
    "    \"asper\", \"spear\", \"pares\", \"prase\", \"apres\", \"reaps\", \"pears\"]"
   ]
  },
  {
   "cell_type": "code",
   "execution_count": 38,
   "metadata": {
    "ExecuteTime": {
     "end_time": "2018-02-26T13:12:54.772939",
     "start_time": "2018-02-26T13:12:54.757176"
    },
    "collapsed": false
   },
   "outputs": [],
   "source": [
    "def is_anagram(word1, word2):\n",
    "    \"\"\"Return True if word1 is an anagram of word2.\"\"\"\n",
    "    if word1 == word2:  # An word is not an anagram of itself.\n",
    "        return False\n",
    "    return (sorted(word1) == sorted(word2))\n",
    "    \n",
    "def find_anagrams(words): \n",
    "    \"\"\"Return the subset of words that have anagrams of\n",
    "    themselves in the input list.\n",
    "    \n",
    "    Example\n",
    "    -------\n",
    "    >>> find_anagrams(['bat', 'rats', 'god', 'dog', 'cat', 'arts', 'star'])\n",
    "    ['rats', 'god', 'dog', 'arts', 'star']\n",
    "    \"\"\"\n",
    "    anagrams = []\n",
    "    for word1 in words:\n",
    "        for word2 in words:\n",
    "            if is_anagram(word1, word2):\n",
    "                if word1 not in anagrams:\n",
    "                    anagrams.append(word1)\n",
    "                if word2 not in anagrams:\n",
    "                    anagrams.append(word2)\n",
    "    return anagrams"
   ]
  },
  {
   "cell_type": "code",
   "execution_count": 39,
   "metadata": {
    "ExecuteTime": {
     "end_time": "2018-02-26T13:12:56.146484",
     "start_time": "2018-02-26T13:12:56.131468"
    },
    "collapsed": false
   },
   "outputs": [],
   "source": [
    "from collections import defaultdict\n",
    "\n",
    "def find_anagrams_efficient(lst):\n",
    "    anagrams = []\n",
    "    anagram_index = defaultdict(list)\n",
    "    for word in lst:\n",
    "        anagram_index[''.join(sorted(word))].append(word)\n",
    "    for sorted_word, original_words in anagram_index.items():\n",
    "        if len(original_words) > 1: \n",
    "            anagrams.extend(original_words)\n",
    "    return anagrams"
   ]
  },
  {
   "cell_type": "code",
   "execution_count": 43,
   "metadata": {
    "ExecuteTime": {
     "end_time": "2018-02-26T13:13:31.086417",
     "start_time": "2018-02-26T13:13:31.074190"
    },
    "collapsed": false
   },
   "outputs": [],
   "source": [
    "example_output = find_anagrams(example_words)"
   ]
  },
  {
   "cell_type": "code",
   "execution_count": 45,
   "metadata": {
    "ExecuteTime": {
     "end_time": "2018-02-26T13:13:36.328644",
     "start_time": "2018-02-26T13:13:36.315937"
    },
    "collapsed": false
   },
   "outputs": [
    {
     "data": {
      "text/plain": [
       "['rats', 'arts', 'star', 'god', 'dog']"
      ]
     },
     "execution_count": 45,
     "metadata": {},
     "output_type": "execute_result"
    }
   ],
   "source": [
    "example_output"
   ]
  },
  {
   "cell_type": "code",
   "execution_count": 42,
   "metadata": {
    "ExecuteTime": {
     "end_time": "2018-02-26T13:13:17.087676",
     "start_time": "2018-02-26T13:13:17.075507"
    },
    "collapsed": false
   },
   "outputs": [
    {
     "data": {
      "text/plain": [
       "False"
      ]
     },
     "execution_count": 42,
     "metadata": {},
     "output_type": "execute_result"
    }
   ],
   "source": [
    "example_output == example_solution"
   ]
  },
  {
   "cell_type": "markdown",
   "metadata": {},
   "source": [
    "* Is that the output that you were expecting?"
   ]
  },
  {
   "cell_type": "code",
   "execution_count": 30,
   "metadata": {
    "ExecuteTime": {
     "end_time": "2018-02-26T13:06:53.523734",
     "start_time": "2018-02-26T13:06:53.510007"
    },
    "collapsed": false
   },
   "outputs": [
    {
     "data": {
      "text/plain": [
       "['rats', 'arts', 'star', 'god', 'dog']"
      ]
     },
     "execution_count": 30,
     "metadata": {},
     "output_type": "execute_result"
    }
   ],
   "source": [
    "find_anagrams_efficient(example_words)"
   ]
  },
  {
   "cell_type": "markdown",
   "metadata": {},
   "source": [
    "## Timing the Algorithms"
   ]
  },
  {
   "cell_type": "code",
   "execution_count": 34,
   "metadata": {
    "ExecuteTime": {
     "end_time": "2018-02-26T13:08:10.670193",
     "start_time": "2018-02-26T13:08:10.655982"
    },
    "collapsed": false
   },
   "outputs": [
    {
     "name": "stdout",
     "output_type": "stream",
     "text": [
      "CPU times: user 210 µs, sys: 0 ns, total: 210 µs\n",
      "Wall time: 213 µs\n"
     ]
    },
    {
     "data": {
      "text/plain": [
       "['rats',\n",
       " 'star',\n",
       " 'tars',\n",
       " 'tsar',\n",
       " 'arts',\n",
       " 'asper',\n",
       " 'spear',\n",
       " 'pares',\n",
       " 'prase',\n",
       " 'apres',\n",
       " 'reaps',\n",
       " 'pears']"
      ]
     },
     "execution_count": 34,
     "metadata": {},
     "output_type": "execute_result"
    }
   ],
   "source": [
    "%time find_anagrams(challenge_words)"
   ]
  },
  {
   "cell_type": "code",
   "execution_count": 35,
   "metadata": {
    "ExecuteTime": {
     "end_time": "2018-02-26T13:08:13.765286",
     "start_time": "2018-02-26T13:08:13.751807"
    },
    "collapsed": false
   },
   "outputs": [
    {
     "name": "stdout",
     "output_type": "stream",
     "text": [
      "CPU times: user 28 µs, sys: 2 µs, total: 30 µs\n",
      "Wall time: 31.9 µs\n"
     ]
    },
    {
     "data": {
      "text/plain": [
       "['rats',\n",
       " 'star',\n",
       " 'tars',\n",
       " 'tsar',\n",
       " 'arts',\n",
       " 'asper',\n",
       " 'spear',\n",
       " 'pares',\n",
       " 'prase',\n",
       " 'apres',\n",
       " 'reaps',\n",
       " 'pears']"
      ]
     },
     "execution_count": 35,
     "metadata": {},
     "output_type": "execute_result"
    }
   ],
   "source": [
    "%time find_anagrams_efficient(challenge_words)"
   ]
  }
 ],
 "metadata": {
  "anaconda-cloud": {},
  "kernelspec": {
   "display_name": "py36",
   "language": "python",
   "name": "py36"
  },
  "language_info": {
   "codemirror_mode": {
    "name": "ipython",
    "version": 3
   },
   "file_extension": ".py",
   "mimetype": "text/x-python",
   "name": "python",
   "nbconvert_exporter": "python",
   "pygments_lexer": "ipython3",
   "version": "3.6.0"
  }
 },
 "nbformat": 4,
 "nbformat_minor": 0
}
