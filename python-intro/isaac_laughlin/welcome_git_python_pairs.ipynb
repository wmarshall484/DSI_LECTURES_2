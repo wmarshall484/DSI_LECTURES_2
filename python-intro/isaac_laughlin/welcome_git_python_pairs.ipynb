{
 "cells": [
  {
   "cell_type": "markdown",
   "metadata": {},
   "source": [
    "# Welcome\n",
    "\n",
    "## Galvanize Data Science Immersive Cohort 13"
   ]
  },
  {
   "cell_type": "markdown",
   "metadata": {},
   "source": [
    "# Purpose\n",
    "## High Level View\n",
    "* Course schedule\n",
    "* Daily schedule\n",
    "* Introduce the instructors\n",
    "* Introduce other important people\n",
    "\n",
    "## Course Expectations\n",
    "* Attendance\n",
    "* Assignments and Assessments\n",
    "* Resources and Communication\n",
    "\n",
    "## Getting started\n",
    "* Git\n",
    "* Python\n",
    "* Pair-Programming\n"
   ]
  },
  {
   "cell_type": "markdown",
   "metadata": {},
   "source": [
    "# High Level View\n",
    "\n",
    "## Course Schedule\n",
    "\n",
    "| Week | Topic |\n",
    "|------|-------|\n",
    "| 1 | Software Engineering and EDA |\n",
    "| 2 | Statistical Inference and Probability |\n",
    "| 3 | Regression and Regularization |\n",
    "| 4 | Supervised Learning |\n",
    "| 5 | Natural Language Processing |\n",
    "| 6 | Unsupervised Learning |\n",
    "| * | A break (except Monday)|\n",
    "| 7 | Data Engineering |\n",
    "| 8 | Data Visualization, Fraud Prediction |\n",
    "| 9 | Capstone Project |\n",
    "| 10 | Capstone Project (Thanksgiving Holiday Thurs./Fri.)|\n",
    "| 11 | Capstone Project Defense |\n",
    "| 12 | Interview Preparation |"
   ]
  },
  {
   "cell_type": "markdown",
   "metadata": {},
   "source": [
    "# High Level View\n",
    "## Daily Schedule\n",
    "\n",
    "| Time | Activity |\n",
    "|-|-|\n",
    "| 8:30-9:00 | Miniquiz |\n",
    "| 9:00-10:00 | Lecture |\n",
    "| 10:00-12:00 | Morning Sprint (individual) |\n",
    "| 12:00-1:00 | Lunch |\n",
    "| 1:00-2:00\t| Lecture |\n",
    "| 2:00-5:30 | Pair Sprint |\n"
   ]
  },
  {
   "cell_type": "markdown",
   "metadata": {},
   "source": [
    "# High Level View\n",
    "## Introduce the Instructors\n",
    "\n",
    "| name | role | email | slack |\n",
    "|-|-|-|-|\n",
    "| **Isaac Laughlin** | Lead Instructor | isaac.laughlin@galvanize.com | isaac.laughlin |\n",
    "| **Darren Reger** | Associate Instructor | darren.reger@galvanize.com | darren_reger |\n",
    "| Dan Wiesenthal | Lead Instructor | dan.wiesenthal@galvanize.com | danwiesenthal |\n",
    "| Cary Goltermann | Associate Instructor | cary.goltermann@galvanize.com | ultramann |\n",
    "| Giovanna Thron | Badass | giovanna@galvanize.com | giovanna |  \n",
    "| Moses Marsh | DSR | moses.marsh@galvanize.com | mosesmarsh |\n",
    "| Dan Brehmer | DSR | dan.brehmer@galvanize.com | dan |\n",
    "| George Fosmire | DSR | george.fosmire@galvanize.com | gfosmire | \n"
   ]
  },
  {
   "cell_type": "markdown",
   "metadata": {},
   "source": [
    "## Other important people\n",
    "| name | role | email | slack |\n",
    "|-|-|-|-|\n",
    "| Pira Tritasavit | Course Producer | pira.tritasavit@galvanize.com | piratritasavit |\n",
    "| James Van | Career Services Manager | james.van@galvanize.com | jamesvan |\n",
    "| Pamela Greenberg | Program Director | pamela.greenberg@galvanize.com | pamela |\n",
    "| Tammy Lee | Director of DSI | tammy@galvanize.com | tammy | "
   ]
  },
  {
   "cell_type": "markdown",
   "metadata": {},
   "source": [
    "# Course Expectations\n",
    "## Attendance\n",
    "Detailed attendance requirements are detailed in the student agreement you signed. Key takeaways:\n",
    "\n",
    "1. It's important that you be here.\n",
    "1. If you can't make it, we are understanding, but need to be informed in advance.\n",
    "    1. Up to 2 unexcused absences will be tolerated.\n",
    "    1. 3 partial unexcused absences will be considered an unexcused absence.\n",
    "    1. Excused & unexcused absences should not exceed 15% of the course, 9 days.\n",
    "    \n",
    "   "
   ]
  },
  {
   "cell_type": "markdown",
   "metadata": {},
   "source": [
    "# Course Expectations\n",
    "## Assignments & Assessments\n",
    "\n",
    "* Mini-quizzes (most mornings)\n",
    "* Individual sprints \n",
    "* Pair sprints\n",
    "* Assessments (roughly weekly)\n",
    "    * These assessments will be graded\n",
    "    * There is a standard of performance required (see the agreement you signed)"
   ]
  },
  {
   "cell_type": "markdown",
   "metadata": {},
   "source": [
    "# Course Expectations\n",
    "## Resources and Communication\n",
    "\n",
    "* Sign up for slack `gstudent.slack.com` for ephemeral communication.\n",
    "* Email for non-ephemeral communication.\n",
    "* `members.galvanize.com`\n",
    "* `http://www.galvanize.com/regulatory-information`\n",
    "* Cohort repository on git: `https://github.com/zipfian/welcome/tree/SF-Sep2016-Cohort17`"
   ]
  },
  {
   "cell_type": "markdown",
   "metadata": {},
   "source": [
    "# Getting Started\n",
    "## Git\n",
    "\n",
    "We use git and github to manage class materials and exercises.\n",
    "\n",
    "* Git is the leading version control software in industry.\n",
    "* Github builds a nice UI around git.\n",
    "* Note: for legacy reason the repo is called zipfian\n",
    "\n",
    "### Good for\n",
    "* Collaborating with others\n",
    "* Synchronizing changes across many machines\n",
    "* Managing source code, documentation, text files\n",
    " * Not large data\n",
    "* Backups\n",
    "* Reproducible research\n",
    "* Unprofessional not to use git"
   ]
  },
  {
   "cell_type": "markdown",
   "metadata": {},
   "source": [
    "# Essential git\n",
    "\n",
    "* `git clone https://github.com/zipfian/welcome.git`\n",
    " * Copy the files in a repo to your local filesystem (so you can use, or maybe contribute)\n",
    "* `git pull`\n",
    " * Sync with an upstream repository\n",
    " * Will require manual intervention if there is a conflict.\n",
    " * Can specify which branch/repo\n",
    "* `git push`\n",
    " * Must merge upstream changes before you can push.\n",
    "* `git status`\n",
    " * Check the state of your repo.\n",
    "* `git log`\n",
    " * Check the history of commits in your repo\n",
    "\n"
   ]
  },
  {
   "cell_type": "markdown",
   "metadata": {},
   "source": [
    "# A Good Workflow\n",
    "\n",
    "1. Fork the subject repo on github (find a fork button and click it)\n",
    "1. Clone that fork onto your local machine\n",
    " * `git clone https://github.com/joe/myforkedrepo`\n",
    "1. Commit your work (as often as possible)\n",
    " * `git add file1.py file2.py`\n",
    " * `git commit -m \"implement feature\"`\n",
    "1. Push your work frequently, but not as often as you commit.\n",
    " * `git push origin master`\n",
    "1. In github\n",
    " * Click Pull Requests\n",
    " * Click New Pull Request\n"
   ]
  },
  {
   "cell_type": "code",
   "execution_count": null,
   "metadata": {
    "collapsed": true
   },
   "outputs": [],
   "source": []
  }
 ],
 "metadata": {
  "kernelspec": {
   "display_name": "Python 2",
   "language": "python",
   "name": "python2"
  },
  "language_info": {
   "codemirror_mode": {
    "name": "ipython",
    "version": 2
   },
   "file_extension": ".py",
   "mimetype": "text/x-python",
   "name": "python",
   "nbconvert_exporter": "python",
   "pygments_lexer": "ipython2",
   "version": "2.7.12"
  }
 },
 "nbformat": 4,
 "nbformat_minor": 0
}
