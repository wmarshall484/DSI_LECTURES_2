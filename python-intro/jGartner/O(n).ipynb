{
 "cells": [
  {
   "cell_type": "code",
   "execution_count": 1,
   "metadata": {},
   "outputs": [],
   "source": [
    "def find_anagrams_bad(lst): \n",
    "    result = []\n",
    "    for word1 in lst:\n",
    "        for word2 in lst:\n",
    "            if word1 != word2 and sorted(word1) == sorted(word2): \n",
    "                if word1 not in result:\n",
    "                    result.append(word1) \n",
    "                if word2 not in result:\n",
    "                    result.append(word2)\n",
    "    return result"
   ]
  },
  {
   "cell_type": "code",
   "execution_count": 2,
   "metadata": {},
   "outputs": [],
   "source": [
    "from collections import defaultdict\n",
    "def find_anagrams_good(lst): \n",
    "    result = []\n",
    "    d = defaultdict(list) \n",
    "    for word in lst:\n",
    "        d[tuple(sorted(word))].append(word) \n",
    "    for key, value in d.items():\n",
    "        if len(value) > 1: result .extend(value)\n",
    "    return result"
   ]
  },
  {
   "cell_type": "code",
   "execution_count": 3,
   "metadata": {
    "collapsed": true
   },
   "outputs": [],
   "source": [
    "l_words = ['rat', 'rab', 'bat', 'tab', 'bagder', 'rad', 'dar', 'art', 'bart', 'bar']"
   ]
  },
  {
   "cell_type": "code",
   "execution_count": 4,
   "metadata": {},
   "outputs": [
    {
     "name": "stdout",
     "output_type": "stream",
     "text": [
      "10000 loops, best of 3: 106 µs per loop\n"
     ]
    }
   ],
   "source": [
    "%%timeit\n",
    "find_anagrams_bad(l_words)"
   ]
  },
  {
   "cell_type": "code",
   "execution_count": 5,
   "metadata": {},
   "outputs": [
    {
     "name": "stdout",
     "output_type": "stream",
     "text": [
      "100000 loops, best of 3: 11.5 µs per loop\n"
     ]
    }
   ],
   "source": [
    "%%timeit\n",
    "find_anagrams_good(l_words)"
   ]
  }
 ],
 "metadata": {
  "kernelspec": {
   "display_name": "Python 3",
   "language": "python",
   "name": "python3"
  },
  "language_info": {
   "codemirror_mode": {
    "name": "ipython",
    "version": 3
   },
   "file_extension": ".py",
   "mimetype": "text/x-python",
   "name": "python",
   "nbconvert_exporter": "python",
   "pygments_lexer": "ipython3",
   "version": "3.6.1"
  }
 },
 "nbformat": 4,
 "nbformat_minor": 2
}
