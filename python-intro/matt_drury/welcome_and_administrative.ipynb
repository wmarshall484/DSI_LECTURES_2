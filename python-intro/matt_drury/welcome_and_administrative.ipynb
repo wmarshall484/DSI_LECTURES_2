{
 "cells": [
  {
   "cell_type": "markdown",
   "metadata": {},
   "source": [
    "# Welcome\n",
    "\n",
    "## Galvanize Austin DSI Cohort 2"
   ]
  },
  {
   "cell_type": "markdown",
   "metadata": {},
   "source": [
    "# Purpose\n",
    "## High Level View\n",
    "* Course schedule\n",
    "* Daily schedule\n",
    "* Introduce the instructors\n",
    "\n",
    "## Course Expectations\n",
    "* Attendance\n",
    "* Assignments and Assessments\n",
    "* Resources and Communication\n",
    "\n",
    "## Getting started\n",
    "* Git\n",
    "* Python\n",
    "* Pair-Programming\n"
   ]
  },
  {
   "cell_type": "markdown",
   "metadata": {},
   "source": [
    "# High Level View\n",
    "\n",
    "## Course Schedule\n",
    "\n",
    "| Week | Topic |\n",
    "|------|-------|\n",
    "| 1 | Software Engineering and EDA |\n",
    "| 2 | Statistical Inference and Probability |\n",
    "| 3 | Regression and Regularization |\n",
    "| 4 | Supervised Learning |\n",
    "| 5 | NLP & Special Topics |\n",
    "| 6 | Spark & Recommenders & Time Series |\n",
    "| 7 | **Break Week** |\n",
    "| 8 | Mixed Topics |\n",
    "| 9 | Neural Networks & Web Programming |\n",
    "| 10 | Capstone Project |\n",
    "| 11 | Capstone Project |\n",
    "| 12 | Capstone Project & Capstone Presentations |\n",
    "| 13 | Interview Preperation & Peer Interviews & Graduation |"
   ]
  },
  {
   "cell_type": "markdown",
   "metadata": {},
   "source": [
    "# High Level View\n",
    "## Daily Schedule\n",
    "\n",
    "| Time | Activity |\n",
    "|-|-|\n",
    "| 8:30-9:00 | Miniquiz / Weekly Standup / Scrum |\n",
    "| 9:00-10:30 | Lecture |\n",
    "| 10:30-1:15 | Individual Sprint |\n",
    "| 12:15-1:15 | Lunch |\n",
    "| 1:15-2:30\t| Lecture |\n",
    "| 2:30-5:30 | Pair Sprint |\n"
   ]
  },
  {
   "cell_type": "markdown",
   "metadata": {},
   "source": [
    "# High Level View\n",
    "## Introduce the Instructors\n",
    "\n",
    "| Name | Role | Email | Slack |\n",
    "|-|-|-|-|\n",
    "| Matt Drury | Lead Instructor | matthew.drury@galvanize.com | madrury |\n",
    "| Jeff Omhover | Instructor | jf.omhover@galvanize.com | jf.omhover |\n",
    "| Jack Bennetto | Associate Instructor | jack.bennetto@galvanize.com | jack |\n",
    "| Miles Erickson | Associate Instructor | miles.erickson@galvanize.com | miles.erickson |\n",
    "| Jonathan Torrez | DSR | jonathan.torrez@galvanize.com | jtorrez |"
   ]
  },
  {
   "cell_type": "markdown",
   "metadata": {},
   "source": [
    "## Instructor Pairings"
   ]
  },
  {
   "cell_type": "markdown",
   "metadata": {},
   "source": [
    "In the first few days we will send out pairings between the instructors and students.  These will become your **scrum groups**.\n",
    "\n",
    "  - If you have any issues you would like to discreetly communicate to the instructor group, your paired instructor is a good place to start.\n",
    "  - Your scrum group will meet as a team once a week throughout the main program to chat about how everyone is doing, and set goals for the week.\n",
    "  - When we move to final capstone project time, your scrum group will meet daily to set goals and keep each other accountable."
   ]
  },
  {
   "cell_type": "markdown",
   "metadata": {},
   "source": [
    "# Course Expectations\n",
    "## Attendance\n",
    "Detailed attendance requirements are detailed in the student agreement you signed. Key takeaways:\n",
    "\n",
    "1. It's important that you be here.\n",
    "1. If you can't make it, we are understanding, but need to be informed in advance.\n",
    "    1. Up to 2 unexcused absences will be tolerated.\n",
    "    1. 3 partial unexcused absences (later than 8:30) will be considered an unexcused absence.\n",
    "    1. Excused & unexcused absences should not exceed 15% of the course, 9 days.\n",
    "    \n",
    "If you are going to be late or absent, please let the **lead instructor (Matt) ** know as soon as possible.  Slack is a good way to accomplish this."
   ]
  },
  {
   "cell_type": "markdown",
   "metadata": {},
   "source": [
    "# Course Expectations\n",
    "## Assignments & Assessments\n",
    "\n",
    "* Mini-quizzes (most mornings)\n",
    "* Individual sprints \n",
    "* Pair sprints\n",
    "* Assessments (roughly weekly)\n",
    "    * These assessments will be graded\n",
    "    * There is a standard of performance required (see the agreement you signed)"
   ]
  },
  {
   "cell_type": "markdown",
   "metadata": {},
   "source": [
    "# Course Expectations\n",
    "## Resources and Communication\n",
    "\n",
    "* Sign up for slack `gstudent.slack.com` for ephemeral communication.\n",
    "* Email for non-ephemeral communication.\n",
    "* `members.galvanize.com`\n",
    "* `http://www.galvanize.com/regulatory-information`\n",
    "* Cohort repository on git: `https://github.com/zipfian/welcome/tree/AUS-2016-Aug-Cohort`"
   ]
  },
  {
   "cell_type": "markdown",
   "metadata": {},
   "source": [
    "# Getting Started\n",
    "\n",
    "## Git\n",
    "\n",
    "We use `git` and GitHub to manage class materials and exercises.\n",
    "\n",
    "* `git` is the leading version control software in industry.\n",
    "* GitHub builds a nice UI around `git`.\n",
    "* Note: for legacy reason the repo is called \"zipfian\"\n",
    "\n",
    "### Good for\n",
    "\n",
    "* Collaborating with others\n",
    "* Synchronizing changes across many machines\n",
    "* Managing source code, documentation, text files\n",
    " * Not large data\n",
    "* Backups\n",
    "* Reproducible research\n",
    "* **Unprofessional not to use `git`**"
   ]
  },
  {
   "cell_type": "markdown",
   "metadata": {},
   "source": [
    "# Essential git\n",
    "\n",
    "## Interacting with a remote repository.\n",
    "\n",
    "* `git clone https://github.com/zipfian/welcome.git`\n",
    " * Copy the files in a repo to your local filesystem (so you can use, or maybe contribute)\n",
    " * **Only used one time for each repository, the first time you need to grab it.**\n",
    "* `git pull`\n",
    " * Sync with an upstream repository\n",
    " * Will require manual intervention if there is a conflict.\n",
    " * Can specify which branch/repo\n",
    "* `git push`\n",
    " * Transfer your changes to an upstream repo.\n",
    " * Must merge upstream changes before you can push.\n",
    " \n",
    "## Interacting with your local repository\n",
    " \n",
    "* `git status`\n",
    " * Check the state of your repo.\n",
    "* `git log`\n",
    " * Check the history of commits in your repo\n",
    "* `git add`\n",
    " * \"I intend to keep the changes I made to this file.\"\n",
    " * Can be undone, easily.\n",
    " * Used to group changes into small commit.\n",
    "* `git commit`\n",
    " * \"I am keeping all the changes I made to this file for all time.\"\n",
    " * Can not be undone. Ever.\n",
    " * Used to hard save changes into bitesize chunks.\n"
   ]
  },
  {
   "cell_type": "markdown",
   "metadata": {},
   "source": [
    "# A Good Workflow\n",
    "\n",
    "1. Fork the subject repo on github (find a fork button and click it)\n",
    "1. Clone that fork onto your local machine\n",
    " * `git clone https://github.com/joe/myforkedrepo`\n",
    "1. Commit your work (as often as possible)\n",
    " * `git add file1.py file2.py`\n",
    " * `git commit -m \"implement feature\"`\n",
    " * `git push origin master`\n",
    "1. In github\n",
    " * Click Pull Requests\n",
    " * Click New Pull Request\n"
   ]
  }
 ],
 "metadata": {
  "anaconda-cloud": {},
  "kernelspec": {
   "display_name": "Python [Root]",
   "language": "python",
   "name": "Python [Root]"
  },
  "language_info": {
   "codemirror_mode": {
    "name": "ipython",
    "version": 2
   },
   "file_extension": ".py",
   "mimetype": "text/x-python",
   "name": "python",
   "nbconvert_exporter": "python",
   "pygments_lexer": "ipython2",
   "version": "2.7.12"
  }
 },
 "nbformat": 4,
 "nbformat_minor": 0
}
