{
 "cells": [
  {
   "cell_type": "code",
   "execution_count": 1,
   "metadata": {
    "collapsed": true
   },
   "outputs": [],
   "source": [
    "words = [\"rats\", \"star\", \"tars\", \"tsar\", \"arts\",\n",
    "         \"asper\", \"spear\", \"pares\", \"prase\", \"apres\", \"reaps\", \"pears\"]"
   ]
  },
  {
   "cell_type": "code",
   "execution_count": 2,
   "metadata": {
    "collapsed": false
   },
   "outputs": [],
   "source": [
    "def find_anagrams_slow(lst): \n",
    "    anagrams = []\n",
    "    for word1 in lst:\n",
    "        for word2 in lst:\n",
    "            if word1 != word2 and sorted(word1) == sorted(word2):\n",
    "                if word1 not in anagrams:\n",
    "                    anagrams.append(word1)\n",
    "                if word2 not in anagrams:\n",
    "                    anagrams.append(word2)\n",
    "    return anagrams"
   ]
  },
  {
   "cell_type": "code",
   "execution_count": 3,
   "metadata": {
    "collapsed": false
   },
   "outputs": [],
   "source": [
    "from collections import defaultdict\n",
    "\n",
    "def find_anagrams_efficient(lst):\n",
    "    anagrams = []\n",
    "    d = defaultdict(list)\n",
    "    for word in lst:\n",
    "        d[tuple(sorted(word))].append(word)\n",
    "    for key, value in d.iteritems():\n",
    "        if len(value) > 1: \n",
    "            anagrams.extend(value)\n",
    "    return anagrams"
   ]
  },
  {
   "cell_type": "code",
   "execution_count": 4,
   "metadata": {
    "collapsed": false
   },
   "outputs": [
    {
     "data": {
      "text/plain": [
       "['rats',\n",
       " 'star',\n",
       " 'tars',\n",
       " 'tsar',\n",
       " 'arts',\n",
       " 'asper',\n",
       " 'spear',\n",
       " 'pares',\n",
       " 'prase',\n",
       " 'apres',\n",
       " 'reaps',\n",
       " 'pears']"
      ]
     },
     "execution_count": 4,
     "metadata": {},
     "output_type": "execute_result"
    }
   ],
   "source": [
    "find_anagrams_slow(words)"
   ]
  },
  {
   "cell_type": "code",
   "execution_count": 5,
   "metadata": {
    "collapsed": false
   },
   "outputs": [
    {
     "data": {
      "text/plain": [
       "['rats',\n",
       " 'star',\n",
       " 'tars',\n",
       " 'tsar',\n",
       " 'arts',\n",
       " 'asper',\n",
       " 'spear',\n",
       " 'pares',\n",
       " 'prase',\n",
       " 'apres',\n",
       " 'reaps',\n",
       " 'pears']"
      ]
     },
     "execution_count": 5,
     "metadata": {},
     "output_type": "execute_result"
    }
   ],
   "source": [
    "find_anagrams_efficient(words)"
   ]
  },
  {
   "cell_type": "markdown",
   "metadata": {},
   "source": [
    "## Timing the Algorithms"
   ]
  },
  {
   "cell_type": "code",
   "execution_count": 6,
   "metadata": {
    "collapsed": false
   },
   "outputs": [
    {
     "name": "stdout",
     "output_type": "stream",
     "text": [
      "1000 loops, best of 3: 276 µs per loop\n"
     ]
    }
   ],
   "source": [
    "%timeit find_anagrams_slow(words)"
   ]
  },
  {
   "cell_type": "code",
   "execution_count": 7,
   "metadata": {
    "collapsed": false
   },
   "outputs": [
    {
     "name": "stdout",
     "output_type": "stream",
     "text": [
      "10000 loops, best of 3: 18.2 µs per loop\n"
     ]
    }
   ],
   "source": [
    "%timeit find_anagrams_efficient(words)"
   ]
  },
  {
   "cell_type": "markdown",
   "metadata": {},
   "source": [
    "## Profiling the Algorithms"
   ]
  },
  {
   "cell_type": "code",
   "execution_count": 2,
   "metadata": {
    "collapsed": false
   },
   "outputs": [
    {
     "name": "stderr",
     "output_type": "stream",
     "text": [
      "ERROR: Line magic function `%lprun` not found.\n"
     ]
    }
   ],
   "source": [
    "%lprun"
   ]
  }
 ],
 "metadata": {
  "anaconda-cloud": {},
  "kernelspec": {
   "display_name": "Python [Root]",
   "language": "python",
   "name": "Python [Root]"
  },
  "language_info": {
   "codemirror_mode": {
    "name": "ipython",
    "version": 2
   },
   "file_extension": ".py",
   "mimetype": "text/x-python",
   "name": "python",
   "nbconvert_exporter": "python",
   "pygments_lexer": "ipython2",
   "version": "2.7.12"
  }
 },
 "nbformat": 4,
 "nbformat_minor": 0
}
