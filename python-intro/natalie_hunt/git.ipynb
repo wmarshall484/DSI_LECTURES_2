{
 "cells": [
  {
   "cell_type": "markdown",
   "metadata": {},
   "source": [
    "# Getting Started\n",
    "\n",
    "## Git\n",
    "\n",
    "We use `git` and GitHub to manage class materials and exercises.\n",
    "\n",
    "* `git` is the leading version control software in industry.\n",
    "* `git` is used to manage source code history\n",
    "\n",
    "\n",
    "* GitHub builds a nice UI around `git`.\n",
    "* GitHub is a hosting service for Git repositories\n",
    "\n",
    "Git and GitHub are *NOT* the same thing; Git is the tool, GitHub is the hosting service for projects that use Git\n",
    "\n",
    "### Good for\n",
    "\n",
    "* Collaborating with others\n",
    "* Synchronizing changes across many machines\n",
    "* Managing source code, documentation, text files\n",
    " * Not large data\n",
    "* Backups\n",
    "* Reproducible research\n",
    "* **Unprofessional not to use `git`**"
   ]
  },
  {
   "cell_type": "markdown",
   "metadata": {},
   "source": [
    "# Essential git\n",
    "\n",
    "## Interacting with a remote repository.\n",
    "\n",
    "* `git clone https://github.com/zipfian/Galvanize-DSI-Austin-4`\n",
    " * Copy the files in a repo to your local filesystem (so you can use, or maybe contribute)\n",
    " * **Only used one time for each repository, the first time you need to grab it.**\n",
    "* `git pull`\n",
    " * Sync with an upstream repository\n",
    " * Will require manual intervention if there is a conflict.\n",
    " * Can specify which branch/repo\n",
    "* `git push`\n",
    " * Transfer your changes to an upstream repo.\n",
    " * Must merge upstream changes before you can push.\n",
    " \n",
    "## Interacting with your local repository\n",
    "\n",
    "* `git init`\n",
    " * Initialize new git repository.\n",
    "* `git status`\n",
    " * Check the state of your repo.\n",
    "* `git log`\n",
    " * Check the history of commits in your repo\n",
    "* `git add`\n",
    " * \"I intend to keep the changes I made to this file.\"\n",
    " * Can be undone, easily.\n",
    " * Used to group changes into small commit.\n",
    "* `git commit`\n",
    " * \"I am keeping all the changes I made to this file for all time.\"\n",
    " * Can not be undone. Ever.\n",
    " * Used to hard save changes into bitesize chunks.\n"
   ]
  },
  {
   "cell_type": "markdown",
   "metadata": {},
   "source": [
    "# A Good Workflow\n",
    "\n",
    "1. Fork the subject repo on github (find a fork button and click it)\n",
    "1. Clone that fork onto your local machine\n",
    " * `git clone https://github.com/joe/myforkedrepo`\n",
    "1. Commit your work (as often as possible)\n",
    " * `git add file1.py file2.py`\n",
    " * `git commit -m \"implement feature\"`\n",
    " * `git push origin master`\n",
    "1. In github\n",
    " * Click Pull Requests\n",
    " * Click New Pull Request\n"
   ]
  }
 ],
 "metadata": {
  "anaconda-cloud": {},
  "kernelspec": {
   "display_name": "Python [default]",
   "language": "python",
   "name": "python2"
  },
  "language_info": {
   "codemirror_mode": {
    "name": "ipython",
    "version": 2
   },
   "file_extension": ".py",
   "mimetype": "text/x-python",
   "name": "python",
   "nbconvert_exporter": "python",
   "pygments_lexer": "ipython2",
   "version": "2.7.13"
  }
 },
 "nbformat": 4,
 "nbformat_minor": 0
}
