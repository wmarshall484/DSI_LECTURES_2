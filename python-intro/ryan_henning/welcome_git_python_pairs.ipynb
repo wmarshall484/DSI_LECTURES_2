{
 "cells": [
  {
   "cell_type": "markdown",
   "metadata": {},
   "source": [
    "# Welcome\n",
    "\n",
    "## Galvanize Austin DSI Cohort 2"
   ]
  },
  {
   "cell_type": "markdown",
   "metadata": {},
   "source": [
    "# Purpose\n",
    "## High Level View\n",
    "* Course schedule\n",
    "* Daily schedule\n",
    "* Introduce the instructors\n",
    "\n",
    "## Course Expectations\n",
    "* Attendance\n",
    "* Assignments and Assessments\n",
    "* Resources and Communication\n",
    "\n",
    "## Getting started\n",
    "* Git\n",
    "* Python\n",
    "* Pair-Programming\n"
   ]
  },
  {
   "cell_type": "markdown",
   "metadata": {},
   "source": [
    "# High Level View\n",
    "\n",
    "## Course Schedule\n",
    "\n",
    "| Week | Topic |\n",
    "|------|-------|\n",
    "| 1 | Software Engineering and EDA |\n",
    "| 2 | Statistical Inference and Probability |\n",
    "| 3 | Regression and Regularization |\n",
    "| 4 | Supervised Learning |\n",
    "| 5 | NLP & Special Topics |\n",
    "| 6 | Unsupervised Learning & Recommenders |\n",
    "| * | Break Week |\n",
    "| 7 | Big Data & Data Engineering |\n",
    "| 8 | Special Topics & Fraud Detection |\n",
    "| 9 | Capstone Project |\n",
    "| 10 | Capstone Project |\n",
    "| 11 | Capstone Project & Hiring Day |\n",
    "| 12 | Review & Interview Preparation |"
   ]
  },
  {
   "cell_type": "markdown",
   "metadata": {},
   "source": [
    "# High Level View\n",
    "## Daily Schedule\n",
    "\n",
    "| Time | Activity |\n",
    "|-|-|\n",
    "| 9:30-10:00 | Miniquiz |\n",
    "| 10:00-11:00 | Lecture |\n",
    "| 11:00-1:00 | Individual Sprint |\n",
    "| 1:00-2:00 | Lunch |\n",
    "| 2:00-3:00\t| Lecture |\n",
    "| 3:00-6:15 | Pair Sprint |\n"
   ]
  },
  {
   "cell_type": "markdown",
   "metadata": {},
   "source": [
    "# High Level View\n",
    "## Introduce the Instructors\n",
    "\n",
    "| name | role | email | slack |\n",
    "|-|-|-|-|\n",
    "| Ryan Henning | Lead Instructor | ryan.henning@galvanize.com | ryan.henning |\n",
    "| Scott Schwartz | Instructor | scott.schwartz@galvanize.com | scott.schwartz |\n",
    "| Scott Contri | DSR | scott.contri@galvanize.com | skeezix |"
   ]
  },
  {
   "cell_type": "markdown",
   "metadata": {},
   "source": [
    "# Course Expectations\n",
    "## Attendance\n",
    "Detailed attendance requirements are detailed in the student agreement you signed. Key takeaways:\n",
    "\n",
    "1. It's important that you be here.\n",
    "1. If you can't make it, we are understanding, but need to be informed in advance.\n",
    "    1. Up to 2 unexcused absences will be tolerated.\n",
    "    1. 3 partial unexcused absences will be considered an unexcused absence.\n",
    "    1. Excused & unexcused absences should not exceed 15% of the course, 9 days.\n",
    "    \n",
    "   "
   ]
  },
  {
   "cell_type": "markdown",
   "metadata": {},
   "source": [
    "# Course Expectations\n",
    "## Assignments & Assessments\n",
    "\n",
    "* Mini-quizzes (most mornings)\n",
    "* Individual sprints \n",
    "* Pair sprints\n",
    "* Assessments (roughly weekly)\n",
    "    * These assessments will be graded\n",
    "    * There is a standard of performance required (see the agreement you signed)"
   ]
  },
  {
   "cell_type": "markdown",
   "metadata": {},
   "source": [
    "# Course Expectations\n",
    "## Resources and Communication\n",
    "\n",
    "* Sign up for slack `gstudent.slack.com` for ephemeral communication.\n",
    "* Email for non-ephemeral communication.\n",
    "* `members.galvanize.com`\n",
    "* `http://www.galvanize.com/regulatory-information`\n",
    "* Cohort repository on git: `https://github.com/zipfian/welcome/tree/AUS-2016-Aug-Cohort`"
   ]
  },
  {
   "cell_type": "markdown",
   "metadata": {},
   "source": [
    "# Getting Started\n",
    "\n",
    "## Git\n",
    "\n",
    "We use `git` and GitHub to manage class materials and exercises.\n",
    "\n",
    "* `git` is the leading version control software in industry.\n",
    "* GitHub builds a nice UI around `git`.\n",
    "* Note: for legacy reason the repo is called \"zipfian\"\n",
    "\n",
    "### Good for\n",
    "\n",
    "* Collaborating with others\n",
    "* Synchronizing changes across many machines\n",
    "* Managing source code, documentation, text files\n",
    " * Not large data\n",
    "* Backups\n",
    "* Reproducible research\n",
    "* Unprofessional not to use `git`"
   ]
  },
  {
   "cell_type": "markdown",
   "metadata": {},
   "source": [
    "# Essential git\n",
    "\n",
    "* `git clone https://github.com/zipfian/welcome.git`\n",
    " * Copy the files in a repo to your local filesystem (so you can use, or maybe contribute)\n",
    "* `git pull`\n",
    " * Sync with an upstream repository\n",
    " * Will require manual intervention if there is a conflict.\n",
    " * Can specify which branch/repo\n",
    "* `git push`\n",
    " * Must merge upstream changes before you can push.\n",
    "* `git status`\n",
    " * Check the state of your repo.\n",
    "* `git log`\n",
    " * Check the history of commits in your repo\n",
    "\n"
   ]
  },
  {
   "cell_type": "markdown",
   "metadata": {},
   "source": [
    "# A Good Workflow\n",
    "\n",
    "1. Fork the subject repo on github (find a fork button and click it)\n",
    "1. Clone that fork onto your local machine\n",
    " * `git clone https://github.com/joe/myforkedrepo`\n",
    "1. Commit your work (as often as possible)\n",
    " * `git add file1.py file2.py`\n",
    " * `git commit -m \"implement feature\"`\n",
    " * `git push origin master`\n",
    "1. In github\n",
    " * Click Pull Requests\n",
    " * Click New Pull Request\n"
   ]
  },
  {
   "cell_type": "code",
   "execution_count": null,
   "metadata": {
    "collapsed": true
   },
   "outputs": [],
   "source": []
  }
 ],
 "metadata": {
  "kernelspec": {
   "display_name": "Python 2",
   "language": "python",
   "name": "python2"
  },
  "language_info": {
   "codemirror_mode": {
    "name": "ipython",
    "version": 2
   },
   "file_extension": ".py",
   "mimetype": "text/x-python",
   "name": "python",
   "nbconvert_exporter": "python",
   "pygments_lexer": "ipython2",
   "version": "2.7.12"
  }
 },
 "nbformat": 4,
 "nbformat_minor": 0
}
