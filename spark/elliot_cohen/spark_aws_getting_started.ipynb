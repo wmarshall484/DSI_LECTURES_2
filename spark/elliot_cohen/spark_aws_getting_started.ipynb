{
 "cells": [
  {
   "cell_type": "markdown",
   "metadata": {},
   "source": [
    "# Afternoon: Spinning up a cluster"
   ]
  },
  {
   "cell_type": "markdown",
   "metadata": {},
   "source": [
    "To do this the long way, see this walkthrough: https://github.com/gSchool/dsi-spark-aws/blob/master/pair_part1.md\n",
    "\n",
    "To do this the short way, we've written a script that uses the AWS CLI to start up a cluster:\n",
    "https://github.com/gSchool/dsi-spark-aws/blob/master/scripts/launch_cluster.sh\n",
    "\n",
    "The script requires you to have:\n",
    "- AWS CLI set up\n",
    "- an S3 bucket\n",
    "- a PEM key pair, with the PEM file stored in `~/.ssh/` (if you need to create one, go [here](https://console.aws.amazon.com/ec2/v2/home#KeyPairs))\n",
    "- the accompanying file [`bootstrap-emr.sh`](https://github.com/gSchool/dsi-spark-aws/blob/master/scripts/bootstrap-emr.sh) in the same folder as `launch_cluster.sh`\n",
    "\n",
    "When running the script, you specify the name of the bucket, the name of the PEM key, and the number of worker nodes to have in your cluster. e.g.,\n",
    "```bash\n",
    "bash launch_cluster.sh mybucket mypem 4\n",
    "```"
   ]
  },
  {
   "cell_type": "markdown",
   "metadata": {},
   "source": [
    "### AWS Command Line interface\n",
    "\n",
    "``` pip install awscli ```\n",
    "\n",
    "``` aws configure ```\n",
    "\n",
    " - leave `AWS Access Key ID` and `AWS Secret Access Key` as `None`, since you should have already put them in your  `~/.bash_profile` (`~/.bashrc` on Linux)\n",
    " - make sure `Default region name` matches the location of your cluster. [This page](https://www.npmjs.com/package/aws-regions) lists region codes.\n",
    " - leave `Default output format` as whatever it is"
   ]
  },
  {
   "cell_type": "markdown",
   "metadata": {},
   "source": [
    "### S3 buckets with AWS CLI\n",
    "- Create a bucket: \n",
    "  - `aws s3 mb s3://mynewbucketname`\n",
    "- List files in a bucket: \n",
    "  - `aws s3 ls s3://bucketname`\n",
    "- Copy local file to bucket: \n",
    "  - `aws s3 cp path/to/localfile s3://mybucketname`\n",
    "- Copy from bucket to local current directory: \n",
    "  - `aws s3 cp s3://mybucket/path/to/file .`\n",
    "- [AWS CLI S3 management reference](https://docs.aws.amazon.com/cli/latest/userguide/using-s3-commands.html)"
   ]
  },
  {
   "cell_type": "markdown",
   "metadata": {},
   "source": [
    "### EC2: setting up ssh\n",
    "- example `~/.ssh/config` entry:\n",
    "\n",
    "```bash\n",
    "Host host_alias\n",
    "    HostName ec2-54-219-176-90.us-west-1.compute.amazonaws.com # see AWS console for public DNS\n",
    "    User hadoop # depending on your machine, 'user' may be 'ubuntu' or 'ec2-user' instead\n",
    "    IdentityFile ~/.ssh/key_file.pem # make sure this is the same key you chose when you set up the instance\n",
    "\n",
    "```"
   ]
  },
  {
   "cell_type": "markdown",
   "metadata": {},
   "source": [
    "- logging in to remote terminal:\n",
    " - `ssh host_alias`\n",
    "   - (This is shorthand for `ssh -i ~/.ssh/key_file.pem <User>@<HostName>`)\n",
    "- copying a file to a remote machine's home directory (note the colon!)\n",
    " - `scp path/to/local/file host_alias:`\n",
    "   - (This is shorthand for `scp -i ~/.ssh/key_file.pem path/to/local/file <User>@<HostName>:`)\n",
    "- copying a file to a remote machine\n",
    " - `scp path/to/local/file host_alias:path/to/target/directory`\n"
   ]
  },
  {
   "cell_type": "markdown",
   "metadata": {},
   "source": [
    "### Tmux - set it and forget it!\n",
    "Many processes are tied to your terminal. If you `ssh` into your remote machine and run a process in that terminal, that process will break if you suddenly lose your connection.\n",
    "\n",
    "`tmux` is a tool for \"terminal multiplexing\". It's great for managing many processes in many terminals. Here's the process for starting a process in a terminal that is detached from your `ssh`ed terminal using `tmux`:\n",
    "\n",
    "- `ssh` into your remote machine\n",
    "- start a tmux session with `tmux new -s some_name`\n",
    "- start your process (notebook or script or whatever)\n",
    "- type `<ctrl>-b d` to detach (now you are back in your `ssh`ed terminal)\n",
    "- exit or shut down or go to sleep or whatever\n",
    "- `ssh` back in to your remote machine\n",
    "- type `tmux a -t some_name` to check on that process\n",
    "- [handy tmux reference](https://gist.github.com/MohamedAlaa/2961058)"
   ]
  }
 ],
 "metadata": {
  "kernelspec": {
   "display_name": "Python 3",
   "language": "python",
   "name": "python3"
  },
  "language_info": {
   "codemirror_mode": {
    "name": "ipython",
    "version": 3
   },
   "file_extension": ".py",
   "mimetype": "text/x-python",
   "name": "python",
   "nbconvert_exporter": "python",
   "pygments_lexer": "ipython3",
   "version": "3.6.5"
  }
 },
 "nbformat": 4,
 "nbformat_minor": 2
}
