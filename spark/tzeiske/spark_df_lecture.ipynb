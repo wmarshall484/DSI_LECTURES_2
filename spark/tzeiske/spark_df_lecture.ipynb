{
 "metadata": {
  "anaconda-cloud": {},
  "kernelspec": {
   "display_name": "Python 3",
   "language": "python",
   "name": "python3"
  },
  "language_info": {
   "codemirror_mode": {
    "name": "ipython",
    "version": 3
   },
   "file_extension": ".py",
   "mimetype": "text/x-python",
   "name": "python",
   "nbconvert_exporter": "python",
   "pygments_lexer": "ipython3",
   "version": "3.5.2"
  },
  "name": "",
  "signature": "sha256:3d678d7ff33b705376e3ece100057d35ec392afba3d09e78d27b709159f1c49d"
 },
 "nbformat": 3,
 "nbformat_minor": 0,
 "worksheets": [
  {
   "cells": [
    {
     "cell_type": "markdown",
     "metadata": {},
     "source": [
      "# Walkthrough: DataFrames in Spark\n",
      "\n",
      "This course has been designed with Spark 2.0.2 in mind (Nov 2016)."
     ]
    },
    {
     "cell_type": "markdown",
     "metadata": {},
     "source": [
      "# 1. Overview\n",
      "\n",
      "What is Spark SQL?\n",
      "- Spark SQL takes basic RDDs and **puts a schema on them**.\n",
      "\n",
      "What is a DataFrame?\n",
      "- DataFrames are the primary abstraction in Spark SQL.\n",
      "- Think of a DataFrames as **RDDs with schema**.\n",
      "\n",
      "What are **schemas**?\n",
      "- Schemas are metadata about your data.\n",
      "- Schema = Table Names + Column Names + Column Types\n",
      "\n",
      "What are the pros of schemas?\n",
      "- Schemas enable using **column names** instead of column positions\n",
      "- Schemas enable **queries** using SQL and DataFrame syntax\n",
      "- Schemas make your data more **structured**."
     ]
    },
    {
     "cell_type": "markdown",
     "metadata": {},
     "source": [
      "# 2. Operational DataFrames in Python\n",
      "\n",
      "We'll proceed along the usual spark flow (see above).\n",
      "1. create the enviromnent to run Spark SQL from python\n",
      "2. create DataFrames from RDDs or from files\n",
      "3. run some transformations\n",
      "4. execute actions to obtain values (local objects in python)"
     ]
    },
    {
     "cell_type": "markdown",
     "metadata": {},
     "source": [
      "## 2.1. Initializing a `SparkSession` (`SparkContext` and `SqlContext`) in Python\n",
      "\n",
      "Using:\n",
      "\n",
      "```python\n",
      "import pyspark as ps\n",
      "\n",
      "spark = ps.sql.SparkSession.builder \\\n",
      "            .master(\"local[4]\") \\\n",
      "            .appName(\"df lecture\") \\\n",
      "            .getOrCreate()\n",
      "```\n",
      "\n",
      "will create a *\"local\"* cluster made of the driver using all 4 cores."
     ]
    },
    {
     "cell_type": "code",
     "collapsed": false,
     "input": [
      "import pyspark as ps\n",
      "\n",
      "spark = ps.sql.SparkSession.builder \\\n",
      "            .master(\"local[4]\") \\\n",
      "            .appName(\"df lecture\") \\\n",
      "            .getOrCreate()\n",
      "sc=spark.sparkContext"
     ],
     "language": "python",
     "metadata": {},
     "outputs": [],
     "prompt_number": 1
    },
    {
     "cell_type": "heading",
     "level": 2,
     "metadata": {},
     "source": [
      "2.2. Creating a DataFrame"
     ]
    },
    {
     "cell_type": "markdown",
     "metadata": {},
     "source": [
      "### 2.2.1. From an RDD (specifying schema)\n",
      "\n",
      "You can create a DataFrame from an existing RDD (whatever source you used to create this one), if you add a schema.\n",
      "\n",
      "To build a schema, you will use existing data types provided in the [`pyspqrk.sql.types`](https://spark.apache.org/docs/latest/api/python/pyspark.sql.html#module-pyspark.sql.types) module. Here's a list of the most useful ones (subjective criteria).\n",
      "\n",
      "| Types | Python-like type |\n",
      "| - | - |\n",
      "| StringType | string |\n",
      "| IntegerType | int |\n",
      "| FloatType | float |\n",
      "| ArrayType\\* | array or list |\n",
      "| MapType | dict |\n",
      "\n",
      "\\* see later UDF functions on how to use that"
     ]
    },
    {
     "cell_type": "code",
     "collapsed": false,
     "input": [
      "%ls data"
     ],
     "language": "python",
     "metadata": {},
     "outputs": [
      {
       "output_type": "stream",
       "stream": "stdout",
       "text": [
        "aapl.csv         input.txt       sales.csv   sales.txt      \u001b[0m\u001b[01;34mtoy_data.pkl\u001b[0m/\r\n",
        "cookie_data.txt  \u001b[01;31msales2.json.gz\u001b[0m  sales.json  toy_dataB.txt  toy_data.txt\r\n"
       ]
      }
     ],
     "prompt_number": 2
    },
    {
     "cell_type": "code",
     "collapsed": false,
     "input": [
      "# remember that csv file ?\n",
      "def casting_function(row):\n",
      "    id, date, store, state, product, amount = row\n",
      "    return((int(id), date, int(store), state, int(product), float(amount)))\n",
      "\n",
      "rdd_sales = sc.textFile('data/sales.txt')\\\n",
      "        .map(lambda rowstr : rowstr.split())\\\n",
      "        .filter(lambda row: not row[0].startswith('#'))\\\n",
      "        .map(casting_function)\n",
      "\n",
      "rdd_sales.collect()"
     ],
     "language": "python",
     "metadata": {},
     "outputs": [
      {
       "metadata": {},
       "output_type": "pyout",
       "prompt_number": 13,
       "text": [
        "[(101, u'11/13/2014', 100, u'WA', 331, 300.0),\n",
        " (104, u'11/18/2014', 700, u'OR', 329, 450.0),\n",
        " (102, u'11/15/2014', 203, u'CA', 321, 200.0),\n",
        " (106, u'11/19/2014', 202, u'CA', 331, 330.0),\n",
        " (103, u'11/17/2014', 101, u'WA', 373, 750.0),\n",
        " (105, u'11/19/2014', 202, u'CA', 321, 200.0)]"
       ]
      }
     ],
     "prompt_number": 13
    },
    {
     "cell_type": "code",
     "collapsed": false,
     "input": [
      "# import the many data types\n",
      "from pyspark.sql.types import *\n",
      "\n",
      "# create a schema of your own\n",
      "schema = StructType( [\n",
      "    StructField('id',IntegerType(),True),\n",
      "    StructField('date',StringType(),True),\n",
      "    StructField('store',IntegerType(),True),\n",
      "    StructField('state',StringType(),True),\n",
      "    StructField('product',IntegerType(),True),\n",
      "    StructField('amount',FloatType(),True) ] )\n",
      "\n",
      "# feed that into a DataFrame\n",
      "df = spark.createDataFrame(rdd_sales,schema)\n",
      "\n",
      "# show the result\n",
      "df.show()\n",
      "\n",
      "# print the schema\n",
      "df.printSchema()"
     ],
     "language": "python",
     "metadata": {},
     "outputs": [
      {
       "output_type": "stream",
       "stream": "stdout",
       "text": [
        "+---+----------+-----+-----+-------+------+\n",
        "| id|      date|store|state|product|amount|\n",
        "+---+----------+-----+-----+-------+------+\n",
        "|101|11/13/2014|  100|   WA|    331| 300.0|\n",
        "|104|11/18/2014|  700|   OR|    329| 450.0|\n",
        "|102|11/15/2014|  203|   CA|    321| 200.0|\n",
        "|106|11/19/2014|  202|   CA|    331| 330.0|\n",
        "|103|11/17/2014|  101|   WA|    373| 750.0|\n",
        "|105|11/19/2014|  202|   CA|    321| 200.0|\n",
        "+---+----------+-----+-----+-------+------+\n",
        "\n",
        "root\n",
        " |-- id: integer (nullable = true)\n",
        " |-- date: string (nullable = true)\n",
        " |-- store: integer (nullable = true)\n",
        " |-- state: string (nullable = true)\n",
        " |-- product: integer (nullable = true)\n",
        " |-- amount: float (nullable = true)\n",
        "\n"
       ]
      }
     ],
     "prompt_number": 5
    },
    {
     "cell_type": "markdown",
     "metadata": {},
     "source": [
      "### 2.2.2. Reading from files (infering schema)\n",
      "\n",
      "Use [`sqlContext.read.csv`](https://spark.apache.org/docs/latest/api/python/pyspark.sql.html#pyspark.sql.DataFrameReader.csv) to load a CSV into a DataFrame. You can specify every useful parameter in there. It can infer the schema."
     ]
    },
    {
     "cell_type": "code",
     "collapsed": false,
     "input": [
      "# read CSV\n",
      "df = spark.read.csv('data/aapl.csv',\n",
      "                         header=True,       # use headers or not\n",
      "                         quote='\"',         # char for quotes\n",
      "                         sep=\",\",           # char for separation\n",
      "                         inferSchema=True)  # do we infer schema or not ?\n",
      "\n",
      "# prints the schema\n",
      "df.printSchema()\n",
      "\n",
      "# some functions are still valid\n",
      "print(\"line count: {}\".format(df.count()))\n",
      "\n",
      "# show the table in a oh-so-nice format\n",
      "df.show()"
     ],
     "language": "python",
     "metadata": {},
     "outputs": [
      {
       "output_type": "stream",
       "stream": "stdout",
       "text": [
        "root\n",
        " |-- Date: timestamp (nullable = true)\n",
        " |-- Open: double (nullable = true)\n",
        " |-- High: double (nullable = true)\n",
        " |-- Low: double (nullable = true)\n",
        " |-- Close: double (nullable = true)\n",
        " |-- Volume: integer (nullable = true)\n",
        " |-- Adj Close: double (nullable = true)\n",
        "\n",
        "line count: 253"
       ]
      },
      {
       "output_type": "stream",
       "stream": "stdout",
       "text": [
        "\n",
        "+-------------------+----------+----------+----------+----------+--------+----------+\n",
        "|               Date|      Open|      High|       Low|     Close|  Volume| Adj Close|\n",
        "+-------------------+----------+----------+----------+----------+--------+----------+\n",
        "|2016-10-25 00:00:00|117.949997|118.360001|117.309998|    118.25|39190300|    118.25|\n",
        "|2016-10-24 00:00:00|117.099998|117.739998|     117.0|117.650002|23538700|117.650002|\n",
        "|2016-10-21 00:00:00|116.809998|116.910004|116.279999|116.599998|23192700|116.599998|\n",
        "|2016-10-20 00:00:00|116.860001|117.379997|116.330002|117.059998|24125800|117.059998|\n",
        "|2016-10-19 00:00:00|    117.25|117.760002|113.800003|117.120003|20034600|117.120003|\n",
        "|2016-10-18 00:00:00|    118.18|118.209999|117.449997|117.470001|24553500|117.470001|\n",
        "|2016-10-17 00:00:00|117.330002|117.839996|116.779999|117.550003|23624900|117.550003|\n",
        "|2016-10-14 00:00:00|117.879997|118.169998|117.129997|117.629997|35652200|117.629997|\n",
        "|2016-10-13 00:00:00|116.790001|117.440002|115.720001|116.980003|35192400|116.980003|\n",
        "|2016-10-12 00:00:00|117.349998|117.980003|    116.75|117.339996|37586800|117.339996|\n",
        "|2016-10-11 00:00:00|117.699997|118.690002|116.199997|116.300003|64041000|116.300003|\n",
        "|2016-10-10 00:00:00|115.019997|    116.75|114.720001|116.050003|36236000|116.050003|\n",
        "|2016-10-07 00:00:00|114.309998|114.559998|113.510002|114.059998|24358400|114.059998|\n",
        "|2016-10-06 00:00:00|113.699997|114.339996|113.129997|113.889999|28779300|113.889999|\n",
        "|2016-10-05 00:00:00|113.400002|113.660004|112.690002|113.050003|21453100|113.050003|\n",
        "|2016-10-04 00:00:00|113.059998|114.309998|112.629997|     113.0|29736800|     113.0|\n",
        "|2016-10-03 00:00:00|112.709999|113.050003|112.279999|112.519997|21701800|112.519997|\n",
        "|2016-09-30 00:00:00|112.459999|113.370003|111.800003|113.050003|36379100|113.050003|\n",
        "|2016-09-29 00:00:00|113.160004|113.800003|111.800003|    112.18|35887000|    112.18|\n",
        "|2016-09-28 00:00:00|113.690002|114.639999|    113.43|113.949997|29641100|113.949997|\n",
        "+-------------------+----------+----------+----------+----------+--------+----------+\n",
        "only showing top 20 rows\n"
       ]
      },
      {
       "output_type": "stream",
       "stream": "stdout",
       "text": [
        "\n"
       ]
      }
     ],
     "prompt_number": 6
    },
    {
     "cell_type": "markdown",
     "metadata": {},
     "source": [
      "Use [`sqlContext.read.json`](https://spark.apache.org/docs/latest/api/python/pyspark.sql.html#pyspark.sql.DataFrameReader.json) to load a JSON file into a DataFrame. You can specify every useful parameter in there. It can infer the schema."
     ]
    },
    {
     "cell_type": "code",
     "collapsed": false,
     "input": [
      "%ls data"
     ],
     "language": "python",
     "metadata": {},
     "outputs": [
      {
       "output_type": "stream",
       "stream": "stdout",
       "text": [
        "aapl.csv         input.txt       sales.csv   sales.txt      \u001b[0m\u001b[01;34mtoy_data.pkl\u001b[0m/\r\n",
        "cookie_data.txt  \u001b[01;31msales2.json.gz\u001b[0m  sales.json  toy_dataB.txt  toy_data.txt\r\n"
       ]
      }
     ],
     "prompt_number": 7
    },
    {
     "cell_type": "code",
     "collapsed": false,
     "input": [
      "# read JSON\n",
      "df = spark.read.json('data/sales.json')\n",
      "\n",
      "# prints the schema\n",
      "df.printSchema()\n",
      "\n",
      "# some functions are still valid\n",
      "print(\"line count: {}\".format(df.count()))\n",
      "\n",
      "# show the table in a oh-so-nice format\n",
      "df.show()"
     ],
     "language": "python",
     "metadata": {},
     "outputs": [
      {
       "output_type": "stream",
       "stream": "stdout",
       "text": [
        "root\n",
        " |-- amount: double (nullable = true)\n",
        " |-- date: string (nullable = true)\n",
        " |-- id: long (nullable = true)\n",
        " |-- product: long (nullable = true)\n",
        " |-- state: string (nullable = true)\n",
        " |-- store: long (nullable = true)\n",
        "\n",
        "line count: 6"
       ]
      },
      {
       "output_type": "stream",
       "stream": "stdout",
       "text": [
        "\n",
        "+------+----------+---+-------+-----+-----+\n",
        "|amount|      date| id|product|state|store|\n",
        "+------+----------+---+-------+-----+-----+\n",
        "| 300.0|11/13/2014|101|    331|   WA|  100|\n",
        "| 450.0|11/18/2014|104|    329|   OR|  700|\n",
        "| 200.0|11/15/2014|102|    321|   CA|  203|\n",
        "| 330.0|11/19/2014|106|    331|   CA|  202|\n",
        "| 750.0|11/17/2014|103|    373|   WA|  101|\n",
        "| 200.0|11/19/2014|105|    321|   CA|  202|\n",
        "+------+----------+---+-------+-----+-----+\n"
       ]
      },
      {
       "output_type": "stream",
       "stream": "stdout",
       "text": [
        "\n"
       ]
      }
     ],
     "prompt_number": 8
    },
    {
     "cell_type": "code",
     "collapsed": false,
     "input": [
      "# read JSON\n",
      "df = spark.read.json('data/sales2.json.gz')\n",
      "\n",
      "# show the table in a oh-so-nice format\n",
      "df.show()"
     ],
     "language": "python",
     "metadata": {},
     "outputs": [
      {
       "output_type": "stream",
       "stream": "stdout",
       "text": [
        "+------+----------+---+-------+-----+-----+\n",
        "|amount|      date| id|product|state|store|\n",
        "+------+----------+---+-------+-----+-----+\n",
        "| 300.0|11/13/2014|101|    331|   WA|  100|\n",
        "| 450.0|11/18/2014|104|    329|   OR|  700|\n",
        "| 200.0|11/15/2014|102|    321|   CA|  203|\n",
        "| 330.0|11/19/2014|106|    331|   CA|  202|\n",
        "| 750.0|11/17/2014|103|    373|   WA|  101|\n",
        "| 200.0|11/19/2014|105|    321|   CA|  202|\n",
        "+------+----------+---+-------+-----+-----+\n",
        "\n"
       ]
      }
     ],
     "prompt_number": 11
    },
    {
     "cell_type": "markdown",
     "metadata": {},
     "source": [
      "## 2.3. Actions : turning your DataFrame into a local object\n",
      "\n",
      "Some actions just remain the same, you won't have to learn Spark all over again.\n",
      "\n",
      "Some new actions give you the possibility to describe and show the content in a more fashionable manner.\n",
      "\n",
      "When used/executed in IPython or in a notebook, they **launch the processing of the DAG**. This is where Spark stops being **lazy**. This is where your script will take time to execute.\n",
      "\n",
      "| Method | DF vs RDD? | Description |\n",
      "| - | - | - |\n",
      "| [`.collect()`](https://spark.apache.org/docs/latest/api/python/pyspark.sql.html#pyspark.sql.DataFrame.collect) | identical | Return a list that contains all of the elements as Rows. |\n",
      "| [`.count()`](https://spark.apache.org/docs/latest/api/python/pyspark.sql.html#pyspark.sql.DataFrame.count) | identical | Return the number of elements. |\n",
      "| [`.take(n)`](https://spark.apache.org/docs/latest/api/python/pyspark.sql.html#pyspark.sql.DataFrame.take) | identical | Take the first `n` elements. |\n",
      "| [`.top(n)`](https://spark.apache.org/docs/latest/api/python/pyspark.sql.html#pyspark.sql.DataFrame.top) | identical | Get the top `n` elements. |\n",
      "| [`.first()`](https://spark.apache.org/docs/latest/api/python/pyspark.sql.html#pyspark.sql.DataFrame.first) | identical | Return the first element. |\n",
      "| [`.show(n)`](https://spark.apache.org/docs/latest/api/python/pyspark.sql.html#pyspark.sql.DataFrame.show) | <span style=\"color:green\">new</span> | Show the DataFrame in table format (`n=20` by default) |\n",
      "| [`.toPandas()`](https://spark.apache.org/docs/latest/api/python/pyspark.sql.html#pyspark.sql.DataFrame.toPandas) | <span style=\"color:green\">new</span> | Convert the DF into a Pandas DF. |\n",
      "| [`.printSchema(*cols)`](https://spark.apache.org/docs/latest/api/python/pyspark.sql.html#pyspark.sql.DataFrame.printSchema)\\* | <span style=\"color:green\">new</span> | Display the schema. This is not an action, it doesn't launch the DAG, but it fits better in this category. |\n",
      "| [`.describe(*cols)`](https://spark.apache.org/docs/latest/api/python/pyspark.sql.html#pyspark.sql.DataFrame.describe) | <span style=\"color:green\">new</span> | Compute statistics for this column. |\n",
      "| [`.sum(*cols)`](https://spark.apache.org/docs/latest/api/python/pyspark.sql.html#pyspark.sql.GroupedData.sum) | <span style=\"color:red\">different</span> | Applies on GroupedData only (see transformations). |\n",
      "| [`.mean(*cols)`](https://spark.apache.org/docs/latest/api/python/pyspark.sql.html#pyspark.sql.GroupedData.mean) | <span style=\"color:red\">different</span> | Applies on GroupedData only (see transformations). |\n",
      "| [`.min(*cols)`](https://spark.apache.org/docs/latest/api/python/pyspark.sql.html#pyspark.sql.GroupedData.min) | <span style=\"color:red\">different</span> | Applies on GroupedData only (see transformations). |\n",
      "| [`.max(*cols)`](https://spark.apache.org/docs/latest/api/python/pyspark.sql.html#pyspark.sql.GroupedData.max) | <span style=\"color:red\">different</span> | Applies on GroupedData only (see transformations). |\n"
     ]
    },
    {
     "cell_type": "code",
     "collapsed": true,
     "input": [
      "# read CSV\n",
      "df_sales = spark.read.csv('data/sales.csv',\n",
      "                         header=True,       # use headers or not\n",
      "                         quote='\"',         # char for quotes\n",
      "                         sep=\",\",           # char for separation\n",
      "                         inferSchema=True)  # do we infer schema or not ?"
     ],
     "language": "python",
     "metadata": {},
     "outputs": [],
     "prompt_number": 15
    },
    {
     "cell_type": "code",
     "collapsed": false,
     "input": [
      "df_sales.show()"
     ],
     "language": "python",
     "metadata": {
      "scrolled": true
     },
     "outputs": [
      {
       "output_type": "stream",
       "stream": "stdout",
       "text": [
        "+---+----------+-----+-----+-------+------+\n",
        "|#ID|      Date|Store|State|Product|Amount|\n",
        "+---+----------+-----+-----+-------+------+\n",
        "|101|11/13/2014|  100|   WA|    331| 300.0|\n",
        "|104|11/18/2014|  700|   OR|    329| 450.0|\n",
        "|102|11/15/2014|  203|   CA|    321| 200.0|\n",
        "|106|11/19/2014|  202|   CA|    331| 330.0|\n",
        "|103|11/17/2014|  101|   WA|    373| 750.0|\n",
        "|105|11/19/2014|  202|   CA|    321| 200.0|\n",
        "+---+----------+-----+-----+-------+------+\n",
        "\n"
       ]
      }
     ],
     "prompt_number": 16
    },
    {
     "cell_type": "code",
     "collapsed": false,
     "input": [
      "df_sales.toPandas()"
     ],
     "language": "python",
     "metadata": {},
     "outputs": [
      {
       "html": [
        "<div style=\"max-width:1500px;overflow:auto;\">\n",
        "<table border=\"1\" class=\"dataframe\">\n",
        "  <thead>\n",
        "    <tr style=\"text-align: right;\">\n",
        "      <th></th>\n",
        "      <th>#ID</th>\n",
        "      <th>Date</th>\n",
        "      <th>Store</th>\n",
        "      <th>State</th>\n",
        "      <th>Product</th>\n",
        "      <th>Amount</th>\n",
        "    </tr>\n",
        "  </thead>\n",
        "  <tbody>\n",
        "    <tr>\n",
        "      <th>0</th>\n",
        "      <td>101</td>\n",
        "      <td>11/13/2014</td>\n",
        "      <td>100</td>\n",
        "      <td>WA</td>\n",
        "      <td>331</td>\n",
        "      <td>300</td>\n",
        "    </tr>\n",
        "    <tr>\n",
        "      <th>1</th>\n",
        "      <td>104</td>\n",
        "      <td>11/18/2014</td>\n",
        "      <td>700</td>\n",
        "      <td>OR</td>\n",
        "      <td>329</td>\n",
        "      <td>450</td>\n",
        "    </tr>\n",
        "    <tr>\n",
        "      <th>2</th>\n",
        "      <td>102</td>\n",
        "      <td>11/15/2014</td>\n",
        "      <td>203</td>\n",
        "      <td>CA</td>\n",
        "      <td>321</td>\n",
        "      <td>200</td>\n",
        "    </tr>\n",
        "    <tr>\n",
        "      <th>3</th>\n",
        "      <td>106</td>\n",
        "      <td>11/19/2014</td>\n",
        "      <td>202</td>\n",
        "      <td>CA</td>\n",
        "      <td>331</td>\n",
        "      <td>330</td>\n",
        "    </tr>\n",
        "    <tr>\n",
        "      <th>4</th>\n",
        "      <td>103</td>\n",
        "      <td>11/17/2014</td>\n",
        "      <td>101</td>\n",
        "      <td>WA</td>\n",
        "      <td>373</td>\n",
        "      <td>750</td>\n",
        "    </tr>\n",
        "    <tr>\n",
        "      <th>5</th>\n",
        "      <td>105</td>\n",
        "      <td>11/19/2014</td>\n",
        "      <td>202</td>\n",
        "      <td>CA</td>\n",
        "      <td>321</td>\n",
        "      <td>200</td>\n",
        "    </tr>\n",
        "  </tbody>\n",
        "</table>\n",
        "</div>"
       ],
       "metadata": {},
       "output_type": "pyout",
       "prompt_number": 17,
       "text": [
        "   #ID        Date  Store State  Product  Amount\n",
        "0  101  11/13/2014    100    WA      331     300\n",
        "1  104  11/18/2014    700    OR      329     450\n",
        "2  102  11/15/2014    203    CA      321     200\n",
        "3  106  11/19/2014    202    CA      331     330\n",
        "4  103  11/17/2014    101    WA      373     750\n",
        "5  105  11/19/2014    202    CA      321     200"
       ]
      }
     ],
     "prompt_number": 17
    },
    {
     "cell_type": "markdown",
     "metadata": {},
     "source": [
      "This is how `.collect()` returns things..."
     ]
    },
    {
     "cell_type": "code",
     "collapsed": false,
     "input": [
      "df_sales.collect()[0][\"Date\"]"
     ],
     "language": "python",
     "metadata": {},
     "outputs": [
      {
       "metadata": {},
       "output_type": "pyout",
       "prompt_number": 20,
       "text": [
        "u'11/13/2014'"
       ]
      }
     ],
     "prompt_number": 20
    },
    {
     "cell_type": "code",
     "collapsed": false,
     "input": [
      "# prints the schema\n",
      "print(\"--- printSchema()\")\n",
      "df_sales.printSchema()\n",
      "\n",
      "# prints the table itself\n",
      "print(\"--- show()\")\n",
      "df_sales.show()\n",
      "\n",
      "# show the statistics of all numerical columns\n",
      "print(\"--- describe()\")\n",
      "df_sales.describe().show()\n",
      "\n",
      "# show the statistics of one specific column\n",
      "print(\"--- describe(Amount)\")\n",
      "df_sales.describe(\"Amount\").show()"
     ],
     "language": "python",
     "metadata": {},
     "outputs": [
      {
       "output_type": "stream",
       "stream": "stdout",
       "text": [
        "--- printSchema()\n",
        "root\n",
        " |-- #ID: integer (nullable = true)\n",
        " |-- Date: string (nullable = true)\n",
        " |-- Store: integer (nullable = true)\n",
        " |-- State: string (nullable = true)\n",
        " |-- Product: integer (nullable = true)\n",
        " |-- Amount: double (nullable = true)\n",
        "\n",
        "--- show()\n",
        "+---+----------+-----+-----+-------+------+\n",
        "|#ID|      Date|Store|State|Product|Amount|\n",
        "+---+----------+-----+-----+-------+------+\n",
        "|101|11/13/2014|  100|   WA|    331| 300.0|\n",
        "|104|11/18/2014|  700|   OR|    329| 450.0|\n",
        "|102|11/15/2014|  203|   CA|    321| 200.0|\n",
        "|106|11/19/2014|  202|   CA|    331| 330.0|\n",
        "|103|11/17/2014|  101|   WA|    373| 750.0|\n",
        "|105|11/19/2014|  202|   CA|    321| 200.0|\n",
        "+---+----------+-----+-----+-------+------+\n"
       ]
      },
      {
       "output_type": "stream",
       "stream": "stdout",
       "text": [
        "\n",
        "--- describe()\n",
        "+-------+------------------+----------+------------------+-----+------------------+------------------+\n",
        "|summary|               #ID|      Date|             Store|State|           Product|            Amount|\n",
        "+-------+------------------+----------+------------------+-----+------------------+------------------+\n",
        "|  count|                 6|         6|                 6|    6|                 6|                 6|\n",
        "|   mean|             103.5|      null|251.33333333333334| null| 334.3333333333333| 371.6666666666667|\n",
        "| stddev|1.8708286933869716|      null|225.39180700874346| null|19.500427345744672|207.40459654179958|\n",
        "|    min|               101|11/13/2014|               100|   CA|               321|             200.0|\n",
        "|    max|               106|11/19/2014|               700|   WA|               373|             750.0|\n",
        "+-------+------------------+----------+------------------+-----+------------------+------------------+\n"
       ]
      },
      {
       "output_type": "stream",
       "stream": "stdout",
       "text": [
        "\n",
        "--- describe(Amount)\n",
        "+-------+------------------+\n",
        "|summary|            Amount|\n",
        "+-------+------------------+\n",
        "|  count|                 6|\n",
        "|   mean| 371.6666666666667|\n",
        "| stddev|207.40459654179958|\n",
        "|    min|             200.0|\n",
        "|    max|             750.0|\n",
        "+-------+------------------+\n"
       ]
      },
      {
       "output_type": "stream",
       "stream": "stdout",
       "text": [
        "\n"
       ]
      }
     ],
     "prompt_number": 21
    },
    {
     "cell_type": "markdown",
     "metadata": {},
     "source": [
      "## 2.3. Transformations on DataFrames\n",
      "\n",
      "- They are still **lazy**: Spark doesn't apply the transformation right away, it just builds on the **DAG**\n",
      "- They transform a DataFrame into another because DataFrames are also **immutable**.\n",
      "- They can be **wide** or **narrow** (whether they shuffle partitions or not). **Wide** means child RDD needs to shuffle partitions across network, this is slow! More on shuffling [here](https://github.com/rohgar/scala-spark-4/wiki/Wide-vs-Narrow-Dependencies)\n",
      "\n",
      "![img](https://github.com/rohitvg/scala-spark-4/raw/master/resources/images/narrow_vs_wide_dependencies.png)"
     ]
    },
    {
     "cell_type": "markdown",
     "metadata": {
      "collapsed": false
     },
     "source": [
      "| Method | Type | Category | Description |\n",
      "| - | - | - |\n",
      "| [`.withColumn(label,func)`](http://spark.apache.org/docs/latest/api/python/pyspark.sql.html#pyspark.sql.DataFrame.withColumn) | transformation | mapping | Returns a new DataFrame by adding a column or replacing the existing column that has the same name. |\n",
      "| [`.filter(condition)`](http://spark.apache.org/docs/latest/api/python/pyspark.sql.html#pyspark.sql.DataFrame.filter) | transformation | reduction |  Filters rows using the given condition. |\n",
      "| [`.sample()`](http://spark.apache.org/docs/latest/api/python/pyspark.sql.html#pyspark.sql.DataFrame.sample) | transformation | reduction | Return a sampled subset of this DataFrame. |\n",
      "| [`.sampleBy(col)`](http://spark.apache.org/docs/latest/api/python/pyspark.sql.html#pyspark.sql.DataFrame.sampleBy) | transformation | reduction | Returns a stratified sample without replacement based on the fraction given on each stratum. |\n",
      "| [`.select(cols)`](http://spark.apache.org/docs/latest/api/python/pyspark.sql.html#pyspark.sql.DataFrame.select) | transformation | reduction | Projects a set of expressions and returns a new DataFrame. |\n",
      "| [`.join(dfB)`](http://spark.apache.org/docs/latest/api/python/pyspark.sql.html#pyspark.sql.DataFrame.join) | transformation | operations | Joins with another DataFrame, using the given join expression. |\n",
      "| [`.groupBy(col)`](http://spark.apache.org/docs/latest/api/python/pyspark.sql.html#pyspark.sql.DataFrame.groupBy) | transformation | operations | Groups the DataFrame using the specified columns, so we can run aggregation on them.  |\n",
      "| [`.sort(cols)`](http://spark.apache.org/docs/latest/api/python/pyspark.sql.html#pyspark.sql.DataFrame.sort) | transformation | sorting |  Returns a new DataFrame sorted by the specified column(s). |\n",
      "\n"
     ]
    },
    {
     "cell_type": "heading",
     "level": 4,
     "metadata": {},
     "source": [
      "`.withColumn(\"label\", func)` : "
     ]
    },
    {
     "cell_type": "code",
     "collapsed": false,
     "input": [
      "# read CSV\n",
      "df_aapl = spark.read.csv('data/aapl.csv',\n",
      "                         header=True,       # use headers or not\n",
      "                         quote='\"',         # char for quotes\n",
      "                         sep=\",\",           # char for separation\n",
      "                         inferSchema=True)  # do we infer schema or not ?\n",
      "\n",
      "df_aapl.show(5)\n",
      "\n",
      "df_aapl.printSchema()"
     ],
     "language": "python",
     "metadata": {},
     "outputs": [
      {
       "output_type": "stream",
       "stream": "stdout",
       "text": [
        "+-------------------+----------+----------+----------+----------+--------+----------+\n",
        "|               Date|      Open|      High|       Low|     Close|  Volume| Adj Close|\n",
        "+-------------------+----------+----------+----------+----------+--------+----------+\n",
        "|2016-10-25 00:00:00|117.949997|118.360001|117.309998|    118.25|39190300|    118.25|\n",
        "|2016-10-24 00:00:00|117.099998|117.739998|     117.0|117.650002|23538700|117.650002|\n",
        "|2016-10-21 00:00:00|116.809998|116.910004|116.279999|116.599998|23192700|116.599998|\n",
        "|2016-10-20 00:00:00|116.860001|117.379997|116.330002|117.059998|24125800|117.059998|\n",
        "|2016-10-19 00:00:00|    117.25|117.760002|113.800003|117.120003|20034600|117.120003|\n",
        "+-------------------+----------+----------+----------+----------+--------+----------+\n",
        "only showing top 5 rows\n",
        "\n",
        "root\n",
        " |-- Date: timestamp (nullable = true)\n",
        " |-- Open: double (nullable = true)\n",
        " |-- High: double (nullable = true)\n",
        " |-- Low: double (nullable = true)\n",
        " |-- Close: double (nullable = true)\n",
        " |-- Volume: integer (nullable = true)\n",
        " |-- Adj Close: double (nullable = true)\n",
        "\n"
       ]
      }
     ],
     "prompt_number": 22
    },
    {
     "cell_type": "heading",
     "level": 4,
     "metadata": {},
     "source": [
      "`.withColumn(\"label\", func)` : constant value"
     ]
    },
    {
     "cell_type": "code",
     "collapsed": false,
     "input": [
      "from pyspark.sql.functions import lit\n",
      "\n",
      "df_out = df_aapl.withColumn(\"blabla\", lit(\"teststring\")) #lit() creates a literal value\n",
      "\n",
      "df_out.show(5)"
     ],
     "language": "python",
     "metadata": {},
     "outputs": [
      {
       "output_type": "stream",
       "stream": "stdout",
       "text": [
        "+-------------------+----------+----------+----------+----------+--------+----------+----------+\n",
        "|               Date|      Open|      High|       Low|     Close|  Volume| Adj Close|    blabla|\n",
        "+-------------------+----------+----------+----------+----------+--------+----------+----------+\n",
        "|2016-10-25 00:00:00|117.949997|118.360001|117.309998|    118.25|39190300|    118.25|teststring|\n",
        "|2016-10-24 00:00:00|117.099998|117.739998|     117.0|117.650002|23538700|117.650002|teststring|\n",
        "|2016-10-21 00:00:00|116.809998|116.910004|116.279999|116.599998|23192700|116.599998|teststring|\n",
        "|2016-10-20 00:00:00|116.860001|117.379997|116.330002|117.059998|24125800|117.059998|teststring|\n",
        "|2016-10-19 00:00:00|    117.25|117.760002|113.800003|117.120003|20034600|117.120003|teststring|\n",
        "+-------------------+----------+----------+----------+----------+--------+----------+----------+\n",
        "only showing top 5 rows\n",
        "\n"
       ]
      }
     ],
     "prompt_number": 28
    },
    {
     "cell_type": "heading",
     "level": 4,
     "metadata": {},
     "source": [
      "`.withColumn(\"label\", func)` : column operations"
     ]
    },
    {
     "cell_type": "code",
     "collapsed": false,
     "input": [
      "from pyspark.sql.functions import col\n",
      "\n",
      "#df_out = df_aapl.withColumn(\"diff\", df_aapl.High - df_aapl.Low)\n",
      "df_out = df_aapl.withColumn(\"diff\", df_aapl[\"High\"] - df_aapl[\"Low\"])\n",
      "df_out.show(5)\n",
      "\n",
      "df_out = df_aapl.withColumn(\"diff\", df_aapl.High - df_aapl.Low)\n",
      "df_out.show(5)\n",
      "\n",
      "# below is the PREFERED METHOD for referencing columns\n",
      "df_out = df_aapl.withColumn(\"diff\", col(\"High\") - col(\"Low\"))\n",
      "df_out.show(5)"
     ],
     "language": "python",
     "metadata": {},
     "outputs": [
      {
       "output_type": "stream",
       "stream": "stdout",
       "text": [
        "+-------------------+----------+----------+----------+----------+--------+----------+------------------+\n",
        "|               Date|      Open|      High|       Low|     Close|  Volume| Adj Close|              diff|\n",
        "+-------------------+----------+----------+----------+----------+--------+----------+------------------+\n",
        "|2016-10-25 00:00:00|117.949997|118.360001|117.309998|    118.25|39190300|    118.25|1.0500030000000038|\n",
        "|2016-10-24 00:00:00|117.099998|117.739998|     117.0|117.650002|23538700|117.650002|0.7399979999999999|\n",
        "|2016-10-21 00:00:00|116.809998|116.910004|116.279999|116.599998|23192700|116.599998| 0.630004999999997|\n",
        "|2016-10-20 00:00:00|116.860001|117.379997|116.330002|117.059998|24125800|117.059998|1.0499950000000098|\n",
        "|2016-10-19 00:00:00|    117.25|117.760002|113.800003|117.120003|20034600|117.120003|3.9599989999999963|\n",
        "+-------------------+----------+----------+----------+----------+--------+----------+------------------+\n",
        "only showing top 5 rows\n",
        "\n",
        "+-------------------+----------+----------+----------+----------+--------+----------+------------------+\n",
        "|               Date|      Open|      High|       Low|     Close|  Volume| Adj Close|              diff|\n",
        "+-------------------+----------+----------+----------+----------+--------+----------+------------------+\n",
        "|2016-10-25 00:00:00|117.949997|118.360001|117.309998|    118.25|39190300|    118.25|1.0500030000000038|\n",
        "|2016-10-24 00:00:00|117.099998|117.739998|     117.0|117.650002|23538700|117.650002|0.7399979999999999|\n",
        "|2016-10-21 00:00:00|116.809998|116.910004|116.279999|116.599998|23192700|116.599998| 0.630004999999997|\n",
        "|2016-10-20 00:00:00|116.860001|117.379997|116.330002|117.059998|24125800|117.059998|1.0499950000000098|\n",
        "|2016-10-19 00:00:00|    117.25|117.760002|113.800003|117.120003|20034600|117.120003|3.9599989999999963|\n",
        "+-------------------+----------+----------+----------+----------+--------+----------+------------------+\n",
        "only showing top 5 rows\n"
       ]
      },
      {
       "output_type": "stream",
       "stream": "stdout",
       "text": [
        "\n",
        "+-------------------+----------+----------+----------+----------+--------+----------+------------------+\n",
        "|               Date|      Open|      High|       Low|     Close|  Volume| Adj Close|              diff|\n",
        "+-------------------+----------+----------+----------+----------+--------+----------+------------------+\n",
        "|2016-10-25 00:00:00|117.949997|118.360001|117.309998|    118.25|39190300|    118.25|1.0500030000000038|\n",
        "|2016-10-24 00:00:00|117.099998|117.739998|     117.0|117.650002|23538700|117.650002|0.7399979999999999|\n",
        "|2016-10-21 00:00:00|116.809998|116.910004|116.279999|116.599998|23192700|116.599998| 0.630004999999997|\n",
        "|2016-10-20 00:00:00|116.860001|117.379997|116.330002|117.059998|24125800|117.059998|1.0499950000000098|\n",
        "|2016-10-19 00:00:00|    117.25|117.760002|113.800003|117.120003|20034600|117.120003|3.9599989999999963|\n",
        "+-------------------+----------+----------+----------+----------+--------+----------+------------------+\n",
        "only showing top 5 rows\n"
       ]
      },
      {
       "output_type": "stream",
       "stream": "stdout",
       "text": [
        "\n"
       ]
      }
     ],
     "prompt_number": 29
    },
    {
     "cell_type": "heading",
     "level": 4,
     "metadata": {},
     "source": [
      "`.withColumn(\"label\", func)` : user defined function"
     ]
    },
    {
     "cell_type": "code",
     "collapsed": false,
     "input": [
      "from pyspark.sql.functions import udf, col\n",
      "from pyspark.sql.types import DoubleType\n",
      "\n",
      "def my_specialfunc(h,l,o,c):\n",
      "    return ((h-l)*(o-c))\n",
      "\n",
      "my_specialfunc_udf = udf(lambda h,l,o,c : my_specialfunc(h,l,o,c), DoubleType())\n",
      "\n",
      "df_out = df_aapl.withColumn(\"special\",\n",
      "                            my_specialfunc_udf(col('High'),\n",
      "                                               col('Low'),\n",
      "                                               col('Open'),\n",
      "                                               col('Close')))\n",
      "\n",
      "df_out.show()"
     ],
     "language": "python",
     "metadata": {},
     "outputs": [
      {
       "output_type": "stream",
       "stream": "stdout",
       "text": [
        "+-------------------+----------+----------+----------+----------+--------+----------+--------------------+\n",
        "|               Date|      Open|      High|       Low|     Close|  Volume| Adj Close|             special|\n",
        "+-------------------+----------+----------+----------+----------+--------+----------+--------------------+\n",
        "|2016-10-25 00:00:00|117.949997|118.360001|117.309998|    118.25|39190300|    118.25| -0.3150040500090051|\n",
        "|2016-10-24 00:00:00|117.099998|117.739998|     117.0|117.650002|23538700|117.650002| -0.4070018599920009|\n",
        "|2016-10-21 00:00:00|116.809998|116.910004|116.279999|116.599998|23192700|116.599998| 0.13230104999999545|\n",
        "|2016-10-20 00:00:00|116.860001|117.379997|116.330002|117.059998|24125800|117.059998|-0.20999585001499796|\n",
        "|2016-10-19 00:00:00|    117.25|117.760002|113.800003|117.120003|20034600|117.120003|  0.5147879900030115|\n",
        "|2016-10-18 00:00:00|    118.18|118.209999|117.449997|117.470001|24553500|117.470001|   0.539600659998008|\n",
        "|2016-10-17 00:00:00|117.330002|117.839996|116.779999|117.550003|23624900|117.550003|-0.23320039999701023|\n",
        "|2016-10-14 00:00:00|117.879997|118.169998|117.129997|117.629997|35652200|117.629997| 0.26000025000000093|\n",
        "|2016-10-13 00:00:00|116.790001|117.440002|115.720001|116.980003|35192400|116.980003| -0.3268036300019894|\n",
        "|2016-10-12 00:00:00|117.349998|117.980003|    116.75|117.339996|37586800|117.339996|0.012302490006000045|\n",
        "|2016-10-11 00:00:00|117.699997|118.690002|116.199997|116.300003|64041000|116.300003|   3.485992059969996|\n",
        "|2016-10-10 00:00:00|115.019997|    116.75|114.720001|116.050003|36236000|116.050003|  -2.090911149994004|\n",
        "|2016-10-07 00:00:00|114.309998|114.559998|113.510002|114.059998|24358400|114.059998| 0.26249899999999826|\n",
        "|2016-10-06 00:00:00|113.699997|114.339996|113.129997|113.889999|28779300|113.889999|-0.22990222999800763|\n",
        "|2016-10-05 00:00:00|113.400002|113.660004|112.690002|113.050003|21453100|113.050003| 0.33949972999799477|\n",
        "|2016-10-04 00:00:00|113.059998|114.309998|112.629997|     113.0|29736800|     113.0| 0.10079669999798783|\n",
        "|2016-10-03 00:00:00|112.709999|113.050003|112.279999|112.519997|21701800|112.519997| 0.14630230000799438|\n",
        "|2016-09-30 00:00:00|112.459999|113.370003|111.800003|113.050003|36379100|113.050003| -0.9263062800000078|\n",
        "|2016-09-29 00:00:00|113.160004|113.800003|111.800003|    112.18|35887000|    112.18|  1.9600079999999878|\n",
        "|2016-09-28 00:00:00|113.690002|114.639999|    113.43|113.949997|29641100|113.949997| -0.3145936900049861|\n",
        "+-------------------+----------+----------+----------+----------+--------+----------+--------------------+\n",
        "only showing top 20 rows\n",
        "\n"
       ]
      }
     ],
     "prompt_number": 32
    },
    {
     "cell_type": "heading",
     "level": 4,
     "metadata": {},
     "source": [
      "`.select(*cols)` : selecting specific columns"
     ]
    },
    {
     "cell_type": "code",
     "collapsed": false,
     "input": [
      "df_out = df_aapl.select([\"Open\", \"Close\"])\n",
      "\n",
      "df_out.show(5)"
     ],
     "language": "python",
     "metadata": {},
     "outputs": [
      {
       "output_type": "stream",
       "stream": "stdout",
       "text": [
        "+----------+----------+\n",
        "|      Open|     Close|\n",
        "+----------+----------+\n",
        "|117.949997|    118.25|\n",
        "|117.099998|117.650002|\n",
        "|116.809998|116.599998|\n",
        "|116.860001|117.059998|\n",
        "|    117.25|117.120003|\n",
        "+----------+----------+\n",
        "only showing top 5 rows\n",
        "\n"
       ]
      }
     ],
     "prompt_number": 33
    },
    {
     "cell_type": "heading",
     "level": 4,
     "metadata": {},
     "source": [
      "`.groupBy()`: aggregating in DataFrames"
     ]
    },
    {
     "cell_type": "code",
     "collapsed": false,
     "input": [
      "from pyspark.sql import functions as F\n",
      "\n",
      "df_out = df_sales.groupBy(col(\"State\")).agg(F.sum(col(\"Amount\")),F.mean(\"Amount\"))\n",
      "\n",
      "df_out.show()"
     ],
     "language": "python",
     "metadata": {},
     "outputs": [
      {
       "output_type": "stream",
       "stream": "stdout",
       "text": [
        "+-----+-----------+------------------+\n",
        "|State|sum(Amount)|       avg(Amount)|\n",
        "+-----+-----------+------------------+\n",
        "|   OR|      450.0|             450.0|\n",
        "|   CA|      730.0|243.33333333333334|\n",
        "|   WA|     1050.0|             525.0|\n",
        "+-----+-----------+------------------+\n",
        "\n"
       ]
      }
     ],
     "prompt_number": 34
    },
    {
     "cell_type": "heading",
     "level": 4,
     "metadata": {},
     "source": [
      "`.orderBy()` : sorting by a column"
     ]
    },
    {
     "cell_type": "code",
     "collapsed": false,
     "input": [
      "df_out = df_sales.groupBy(col(\"State\"))\\\n",
      "            .agg(F.sum(col(\"Amount\")).alias(\"sumAmount\"))\\\n",
      "            .orderBy(col(\"sumAmount\"), ascending=False)\n",
      "\n",
      "df_out.show()"
     ],
     "language": "python",
     "metadata": {},
     "outputs": [
      {
       "output_type": "stream",
       "stream": "stdout",
       "text": [
        "+-----+---------+\n",
        "|State|sumAmount|\n",
        "+-----+---------+\n",
        "|   WA|   1050.0|\n",
        "|   CA|    730.0|\n",
        "|   OR|    450.0|\n",
        "+-----+---------+\n",
        "\n"
       ]
      }
     ],
     "prompt_number": 35
    },
    {
     "cell_type": "markdown",
     "metadata": {},
     "source": [
      "## 2.4. Execute SQL statements\n",
      "\n",
      "#### .createOrReplaceTempView(name) : registering your dataframe as a table"
     ]
    },
    {
     "cell_type": "code",
     "collapsed": true,
     "input": [
      "# read CSV\n",
      "df_sales = spark.read.csv('data/sales.csv',\n",
      "                         header=True,       # use headers or not\n",
      "                         quote='\"',         # char for quotes\n",
      "                         sep=\",\",           # char for separation\n",
      "                         inferSchema=True)  # do we infer schema or not ?\n",
      "\n",
      "# Now create an SQL table and issue SQL queries against it without\n",
      "# using the sqlContext but through the SparkSession object.\n",
      "# Creates a temporary view of the DataFrame\n",
      "df_sales.createOrReplaceTempView(\"sales\") #creates a a view that behaves like a SQL table called \"sales\""
     ],
     "language": "python",
     "metadata": {},
     "outputs": [],
     "prompt_number": 41
    },
    {
     "cell_type": "code",
     "collapsed": false,
     "input": [
      "result = spark.sql('''\n",
      "    SELECT state, AVG(amount) as avg_amount\n",
      "    FROM sales\n",
      "    GROUP BY state\n",
      "    ''')\n",
      "result.show()"
     ],
     "language": "python",
     "metadata": {},
     "outputs": [
      {
       "output_type": "stream",
       "stream": "stdout",
       "text": [
        "+-----+------------------+\n",
        "|state|        avg_amount|\n",
        "+-----+------------------+\n",
        "|   OR|             450.0|\n",
        "|   CA|243.33333333333334|\n",
        "|   WA|             525.0|\n",
        "+-----+------------------+\n",
        "\n"
       ]
      }
     ],
     "prompt_number": 42
    },
    {
     "cell_type": "heading",
     "level": 3,
     "metadata": {},
     "source": [
      "spark.udf.register(name, func) : register a user defined function"
     ]
    },
    {
     "cell_type": "code",
     "collapsed": false,
     "input": [
      "def myfun(x):\n",
      "    return x**2\n",
      "\n",
      "spark.udf.register('my_sql_fun', myfun)\n",
      "\n",
      "result = spark.sql('''\n",
      "    SELECT state, my_sql_fun(amount) as square_amount\n",
      "    FROM sales\n",
      "    ''')\n",
      "\n",
      "result.show()"
     ],
     "language": "python",
     "metadata": {},
     "outputs": [
      {
       "output_type": "stream",
       "stream": "stdout",
       "text": [
        "+-----+-------------+\n",
        "|state|square_amount|\n",
        "+-----+-------------+\n",
        "|   WA|      90000.0|\n",
        "|   OR|     202500.0|\n",
        "|   CA|      40000.0|\n",
        "|   CA|     108900.0|\n",
        "|   WA|     562500.0|\n",
        "|   CA|      40000.0|\n",
        "+-----+-------------+\n",
        "\n"
       ]
      }
     ],
     "prompt_number": 43
    },
    {
     "cell_type": "heading",
     "level": 1,
     "metadata": {
      "collapsed": true
     },
     "source": [
      "3. Let's design chains of transformations together ! (reloaded)"
     ]
    },
    {
     "cell_type": "heading",
     "level": 2,
     "metadata": {},
     "source": [
      "3.1. Computing sales per state"
     ]
    },
    {
     "cell_type": "heading",
     "level": 3,
     "metadata": {},
     "source": [
      "Input DataFrame"
     ]
    },
    {
     "cell_type": "code",
     "collapsed": false,
     "input": [
      "# read CSV\n",
      "df_sales = spark.read.csv('data/sales.csv',\n",
      "                         header=True,       # use headers or not\n",
      "                         quote='\"',         # char for quotes\n",
      "                         sep=\",\",           # char for separation\n",
      "                         inferSchema=True)  # do we infer schema or not ?\n",
      "\n",
      "df_sales.show()"
     ],
     "language": "python",
     "metadata": {},
     "outputs": [
      {
       "output_type": "stream",
       "stream": "stdout",
       "text": [
        "+---+----------+-----+-----+-------+------+\n",
        "|#ID|      Date|Store|State|Product|Amount|\n",
        "+---+----------+-----+-----+-------+------+\n",
        "|101|11/13/2014|  100|   WA|    331| 300.0|\n",
        "|104|11/18/2014|  700|   OR|    329| 450.0|\n",
        "|102|11/15/2014|  203|   CA|    321| 200.0|\n",
        "|106|11/19/2014|  202|   CA|    331| 330.0|\n",
        "|103|11/17/2014|  101|   WA|    373| 750.0|\n",
        "|105|11/19/2014|  202|   CA|    321| 200.0|\n",
        "+---+----------+-----+-----+-------+------+\n",
        "\n"
       ]
      }
     ],
     "prompt_number": 44
    },
    {
     "cell_type": "markdown",
     "metadata": {},
     "source": [
      "### Task\n",
      "\n",
      "You want to obtain an ~~RDD~~ DataFrame of the states sorted by their decreasing cumulated sales.\n",
      "\n",
      "What transformations do you need to apply ?\n",
      "\n",
      "If you had to draw a workflow of the transformations to apply ?"
     ]
    },
    {
     "cell_type": "heading",
     "level": 3,
     "metadata": {},
     "source": [
      "Code"
     ]
    },
    {
     "cell_type": "code",
     "collapsed": false,
     "input": [
      "df_out = df_sales # code your transformations here\n",
      "\n",
      "df_out.show()"
     ],
     "language": "python",
     "metadata": {},
     "outputs": [],
     "prompt_number": null
    },
    {
     "cell_type": "markdown",
     "metadata": {},
     "source": [
      "### Solution\n",
      "\n",
      "<details>\n",
      "  <summary>Click here to see the solution below</summary>\n",
      "```\n",
      "df_out = df_sales.groupBy(col('State'))\\\n",
      "                 .agg(F.sum(col('Amount')).alias('Money'))\\\n",
      "                 .orderBy(\"Money\", ascending=False)\n",
      "\n",
      "df_out.show()\n",
      "```\n",
      "</details>"
     ]
    },
    {
     "cell_type": "markdown",
     "metadata": {},
     "source": [
      "## 3.2. Find the date on which AAPL's stock price was the highest\n",
      "\n",
      "### Input DataFrame"
     ]
    },
    {
     "cell_type": "code",
     "collapsed": false,
     "input": [
      "# read CSV\n",
      "df_aapl = spark.read.csv('data/aapl.csv',\n",
      "                         header=True,       # use headers or not\n",
      "                         quote='\"',         # char for quotes\n",
      "                         sep=\",\",           # char for separation\n",
      "                         inferSchema=True)  # do we infer schema or not ?\n",
      "\n",
      "df_aapl.show(5)"
     ],
     "language": "python",
     "metadata": {},
     "outputs": [
      {
       "output_type": "stream",
       "stream": "stdout",
       "text": [
        "+-------------------+----------+----------+----------+----------+--------+----------+\n",
        "|               Date|      Open|      High|       Low|     Close|  Volume| Adj Close|\n",
        "+-------------------+----------+----------+----------+----------+--------+----------+\n",
        "|2016-10-25 00:00:00|117.949997|118.360001|117.309998|    118.25|39190300|    118.25|\n",
        "|2016-10-24 00:00:00|117.099998|117.739998|     117.0|117.650002|23538700|117.650002|\n",
        "|2016-10-21 00:00:00|116.809998|116.910004|116.279999|116.599998|23192700|116.599998|\n",
        "|2016-10-20 00:00:00|116.860001|117.379997|116.330002|117.059998|24125800|117.059998|\n",
        "|2016-10-19 00:00:00|    117.25|117.760002|113.800003|117.120003|20034600|117.120003|\n",
        "+-------------------+----------+----------+----------+----------+--------+----------+\n",
        "only showing top 5 rows\n",
        "\n"
       ]
      }
     ],
     "prompt_number": 45
    },
    {
     "cell_type": "markdown",
     "metadata": {},
     "source": [
      "### Task\n",
      "\n",
      "Now, design a pipeline that would :\n",
      "\n",
      "1. ~~filter out headers and last line~~\n",
      "2. ~~split each line based on comma~~\n",
      "3. keep only fields for Date ~~(col 0)~~ and Close ~~(col 4)~~\n",
      "4. order by Close in descending order\n",
      "\n",
      "### Code"
     ]
    },
    {
     "cell_type": "code",
     "collapsed": false,
     "input": [
      "df_out = df_aapl  # put your transformation here...\n",
      "\n",
      "df_out.show(5)"
     ],
     "language": "python",
     "metadata": {},
     "outputs": [],
     "prompt_number": null
    },
    {
     "cell_type": "markdown",
     "metadata": {},
     "source": [
      "### Solution\n",
      "\n",
      "<details>\n",
      "  <summary>Click here to see the solution below</summary>\n",
      "```\n",
      "df_out.select(\"Close\", \"Date\").orderBy(df_aapl.Close, ascending=False).show(5)```\n",
      "</details>"
     ]
    },
    {
     "cell_type": "code",
     "collapsed": true,
     "input": [],
     "language": "python",
     "metadata": {},
     "outputs": [],
     "prompt_number": null
    }
   ],
   "metadata": {}
  }
 ]
}