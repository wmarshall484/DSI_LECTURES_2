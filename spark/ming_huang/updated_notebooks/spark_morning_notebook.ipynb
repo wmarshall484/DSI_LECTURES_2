{
 "cells": [
  {
   "cell_type": "markdown",
   "metadata": {},
   "source": [
    "# Spark Fundamentals"
   ]
  },
  {
   "cell_type": "markdown",
   "metadata": {},
   "source": [
    "Basic RDDs - Don't freak, these are just references for future needs\n",
    "======================================\n",
    "\n",
    "Common RDD Constructors\n",
    "-----------------------\n",
    "\n",
    "Expression                               |Meaning\n",
    "----------                               |-------\n",
    "`sc.parallelize(iterable)`               |Create RDD of elements of some iterable\n",
    "`sc.textFile(path)`                      |Create RDD of lines from file\n",
    "\n",
    "Common Transformations\n",
    "----------------------\n",
    "\n",
    "Expression                               |Meaning\n",
    "----------                               |-------\n",
    "`filter(boolean condition)`              |Returns for where some boolean condition is True\n",
    "`map(some function)`                     |Applies some function\n",
    "`flatMap(some function)`                 |Apply some function that returns an iterator and flatten the entire output\n",
    "`sample(withReplacement=True, ratio)`    |Sample the data by some ratio\n",
    "`distinct()`                             |Remove duplicates in RDD\n",
    "`sortBy(key function, ascending=True)`   |Sort elements by key defined in function in designated order\n",
    "`randomSplit([ratio1, ratio2], seed)`    |Splits your data into two depening on ratio array\n",
    "\n",
    "Common Key Pair RDD Transformations\n",
    "----------------------------------\n",
    "\n",
    "Expression                               |Meaning\n",
    "----------                               |-------\n",
    "`groupByKey(key value rdd)`              |Collapse a key value RDD by the key, and keeps the values in a iterable\n",
    "`reduceByKey(some function)`             |Collapse a key value RDD by the key, and combines the values by some function\n",
    "`mapValues(some function)`               |Apply some function to the values of some key value RDD\n",
    "`flatMapValues(some function)`           |Apply some function that returns an iterator the the values of some key value RDD, and create a key value for each iterates\n",
    "`keys()`                                 |Returns the keys of a key value RDD\n",
    "`values()`                               |Returns the values of a key value RDD\n",
    "\n",
    "Common Multiple RDD Transformations\n",
    "----------------------------------\n",
    "\n",
    "Expression                               |Meaning\n",
    "----------                               |-------\n",
    "`union(another rdd)`                     |Append another RDD to current RDD\n",
    "`join(another rdd)`                      |Join another RDD to current RDD by matching keys\n",
    "`leftOuterJoin(another rdd)`             |Join another RDD to current RDD where another RDD has matching keys\n",
    "`rightOuterJoin(another rdd)`            |Join current RDD to other RDD where current RDD has matching keys\n",
    "`zip(another rdd)`                       |Combines two RDD to form a key value pair RDD\n",
    "\n",
    "Common Actions\n",
    "--------------\n",
    "\n",
    "Expression                             |Meaning\n",
    "----------                             |-------\n",
    "`collect()`                            |Convert RDD to in-memory list \n",
    "`take(n)`                              |First n elements of RDD \n",
    "`top(n)`                               |Top n elements of RDD\n",
    "`takeSample(withReplacement=True, n)`  |Create sample of n elements with replacement\n",
    "`sum()`                                |Find element sum (assumes numeric elements)\n",
    "`mean()`                               |Find element mean (assumes numeric elements)\n",
    "`stdev()`                              |Find element deviation (assumes numeric elements)\n",
    "`takeOrdered(n, function)`             |Returns n ordered elements as sorted by the value returned by the function"
   ]
  },
  {
   "cell_type": "markdown",
   "metadata": {},
   "source": [
    "### Step 1: import pyspark"
   ]
  },
  {
   "cell_type": "code",
   "execution_count": 1,
   "metadata": {
    "collapsed": true
   },
   "outputs": [],
   "source": [
    "import pyspark as ps"
   ]
  },
  {
   "cell_type": "markdown",
   "metadata": {},
   "source": [
    "### Step 2: initialize a spark context (RDD manager)"
   ]
  },
  {
   "cell_type": "code",
   "execution_count": 4,
   "metadata": {
    "collapsed": false
   },
   "outputs": [
    {
     "data": {
      "text/plain": [
       "4"
      ]
     },
     "execution_count": 4,
     "metadata": {},
     "output_type": "execute_result"
    }
   ],
   "source": [
    "# to check # of cores on computer\n",
    "import multiprocessing\n",
    "multiprocessing.cpu_count()"
   ]
  },
  {
   "cell_type": "code",
   "execution_count": 2,
   "metadata": {
    "collapsed": false
   },
   "outputs": [],
   "source": [
    "sc = ps.SparkContext('local[4]')  #use all 4 cores"
   ]
  },
  {
   "cell_type": "markdown",
   "metadata": {},
   "source": [
    "### Step 3:  Construct a RDD with the data (we will be using churn.csv)"
   ]
  },
  {
   "cell_type": "code",
   "execution_count": 5,
   "metadata": {
    "collapsed": false
   },
   "outputs": [],
   "source": [
    "churn_rdd = sc.textFile('churn.csv')"
   ]
  },
  {
   "cell_type": "markdown",
   "metadata": {},
   "source": [
    "### Step 4: Lets look at the first two lines to understand the format that textFile creates"
   ]
  },
  {
   "cell_type": "code",
   "execution_count": 6,
   "metadata": {
    "collapsed": false
   },
   "outputs": [
    {
     "data": {
      "text/plain": [
       "[u\"State,Account Length,Area Code,Phone,Int'l Plan,VMail Plan,VMail Message,Day Mins,Day Calls,Day Charge,Eve Mins,Eve Calls,Eve Charge,Night Mins,Night Calls,Night Charge,Intl Mins,Intl Calls,Intl Charge,CustServ Calls,Churn?\",\n",
       " u'KS,128,415,382-4657,no,yes,25,265.100000,110,45.070000,197.400000,99,16.780000,244.700000,91,11.010000,10.000000,3,2.700000,1,False.']"
      ]
     },
     "execution_count": 6,
     "metadata": {},
     "output_type": "execute_result"
    }
   ],
   "source": [
    "churn_rdd.take(2)"
   ]
  },
  {
   "cell_type": "code",
   "execution_count": null,
   "metadata": {
    "collapsed": true
   },
   "outputs": [],
   "source": [
    "# We'll need to "
   ]
  },
  {
   "cell_type": "markdown",
   "metadata": {},
   "source": [
    "### Step 5: We need to split the data by commas."
   ]
  },
  {
   "cell_type": "code",
   "execution_count": 10,
   "metadata": {
    "collapsed": false
   },
   "outputs": [],
   "source": [
    "churn_rdd = churn_rdd.map(lambda x: x.split(','))"
   ]
  },
  {
   "cell_type": "code",
   "execution_count": 11,
   "metadata": {
    "collapsed": false
   },
   "outputs": [
    {
     "data": {
      "text/plain": [
       "[[u'State',\n",
       "  u'Account Length',\n",
       "  u'Area Code',\n",
       "  u'Phone',\n",
       "  u\"Int'l Plan\",\n",
       "  u'VMail Plan',\n",
       "  u'VMail Message',\n",
       "  u'Day Mins',\n",
       "  u'Day Calls',\n",
       "  u'Day Charge',\n",
       "  u'Eve Mins',\n",
       "  u'Eve Calls',\n",
       "  u'Eve Charge',\n",
       "  u'Night Mins',\n",
       "  u'Night Calls',\n",
       "  u'Night Charge',\n",
       "  u'Intl Mins',\n",
       "  u'Intl Calls',\n",
       "  u'Intl Charge',\n",
       "  u'CustServ Calls',\n",
       "  u'Churn?'],\n",
       " [u'KS',\n",
       "  u'128',\n",
       "  u'415',\n",
       "  u'382-4657',\n",
       "  u'no',\n",
       "  u'yes',\n",
       "  u'25',\n",
       "  u'265.100000',\n",
       "  u'110',\n",
       "  u'45.070000',\n",
       "  u'197.400000',\n",
       "  u'99',\n",
       "  u'16.780000',\n",
       "  u'244.700000',\n",
       "  u'91',\n",
       "  u'11.010000',\n",
       "  u'10.000000',\n",
       "  u'3',\n",
       "  u'2.700000',\n",
       "  u'1',\n",
       "  u'False.']]"
      ]
     },
     "execution_count": 11,
     "metadata": {},
     "output_type": "execute_result"
    }
   ],
   "source": [
    "churn_rdd.take(2)"
   ]
  },
  {
   "cell_type": "markdown",
   "metadata": {},
   "source": [
    "### Step 6: Extract the headers"
   ]
  },
  {
   "cell_type": "code",
   "execution_count": 16,
   "metadata": {
    "collapsed": false
   },
   "outputs": [],
   "source": [
    "header = churn_rdd.first()"
   ]
  },
  {
   "cell_type": "markdown",
   "metadata": {},
   "source": [
    "### Step 7: Remove the header from the data"
   ]
  },
  {
   "cell_type": "code",
   "execution_count": 18,
   "metadata": {
    "collapsed": false
   },
   "outputs": [],
   "source": [
    "# churn_rdd.filter(lambda x: x != header).take(2)\n",
    "churn_rdd = churn_rdd.filter(lambda x: x != header)"
   ]
  },
  {
   "cell_type": "markdown",
   "metadata": {},
   "source": [
    "### Step 8: Finding total churn"
   ]
  },
  {
   "cell_type": "code",
   "execution_count": 20,
   "metadata": {
    "collapsed": false
   },
   "outputs": [
    {
     "data": {
      "text/plain": [
       "483"
      ]
     },
     "execution_count": 20,
     "metadata": {},
     "output_type": "execute_result"
    }
   ],
   "source": [
    "# convert churn to \n",
    "# churn_rdd =\n",
    "churn_rdd.map(lambda x: 0 if x[-1]=='False.' else 1) \\\n",
    "          .sum()"
   ]
  },
  {
   "cell_type": "markdown",
   "metadata": {},
   "source": [
    "### Step 9: Finding total churn per State"
   ]
  },
  {
   "cell_type": "code",
   "execution_count": 23,
   "metadata": {
    "collapsed": false
   },
   "outputs": [
    {
     "data": {
      "text/plain": [
       "[(u'WA', 14),\n",
       " (u'WI', 7),\n",
       " (u'FL', 8),\n",
       " (u'WY', 9),\n",
       " (u'NH', 9),\n",
       " (u'NJ', 18),\n",
       " (u'TX', 18),\n",
       " (u'ND', 6),\n",
       " (u'TN', 5),\n",
       " (u'CA', 9)]"
      ]
     },
     "execution_count": 23,
     "metadata": {},
     "output_type": "execute_result"
    }
   ],
   "source": [
    "churn_rdd.map(lambda x: (x[0], 0 if x[-1]=='False.' else 1 )) \\\n",
    "         .reduceByKey(lambda v1, v2: v1 + v2) \\\n",
    "         .take(10)"
   ]
  },
  {
   "cell_type": "markdown",
   "metadata": {},
   "source": [
    "### Step 10: Finding average Customer calls per Churn"
   ]
  },
  {
   "cell_type": "code",
   "execution_count": 27,
   "metadata": {
    "collapsed": false
   },
   "outputs": [
    {
     "data": {
      "text/plain": [
       "[(u'WA', 7.214285714285714),\n",
       " (u'WI', 15.857142857142858),\n",
       " (u'FL', 12.375),\n",
       " (u'WY', 12.333333333333334),\n",
       " (u'NH', 9.444444444444445),\n",
       " (u'NJ', 6.333333333333333),\n",
       " (u'TX', 6.444444444444445),\n",
       " (u'ND', 15.0),\n",
       " (u'TN', 14.0),\n",
       " (u'CA', 5.555555555555555)]"
      ]
     },
     "execution_count": 27,
     "metadata": {},
     "output_type": "execute_result"
    }
   ],
   "source": [
    "state_churn = churn_rdd.map(lambda x: (x[0], 0 if x[-1]=='False.' else 1 )) \\\n",
    "                       .reduceByKey(lambda v1, v2: v1 + v2)\n",
    "state_call = churn_rdd.map(lambda x: (x[0], int(x[-2]))) \\\n",
    "                      .reduceByKey(lambda v1, v2: v1 + v2)\n",
    "\n",
    "state_churn.join(state_call) \\\n",
    "           .mapValues(lambda (churn, call): 1.* call/churn) \\\n",
    "           .take(10)"
   ]
  },
  {
   "cell_type": "markdown",
   "metadata": {},
   "source": [
    "### Caching RDDs to leverage the in memory usage"
   ]
  },
  {
   "cell_type": "code",
   "execution_count": 28,
   "metadata": {
    "collapsed": true
   },
   "outputs": [],
   "source": [
    "cached_churn_rdd = churn_rdd.persist()"
   ]
  },
  {
   "cell_type": "markdown",
   "metadata": {},
   "source": [
    "### Practice #1: What's the min, mean, and max night charge for users that churned?"
   ]
  },
  {
   "cell_type": "code",
   "execution_count": null,
   "metadata": {
    "collapsed": false
   },
   "outputs": [],
   "source": []
  },
  {
   "cell_type": "markdown",
   "metadata": {},
   "source": [
    "### Practice #2: How many of the churned users have Vmail plan?"
   ]
  },
  {
   "cell_type": "code",
   "execution_count": null,
   "metadata": {
    "collapsed": false
   },
   "outputs": [],
   "source": []
  },
  {
   "cell_type": "markdown",
   "metadata": {},
   "source": [
    "### Practice #3: Which state have the most day calls?"
   ]
  },
  {
   "cell_type": "code",
   "execution_count": null,
   "metadata": {
    "collapsed": false
   },
   "outputs": [],
   "source": []
  }
 ],
 "metadata": {
  "kernelspec": {
   "display_name": "Python 2",
   "language": "python",
   "name": "python2"
  },
  "language_info": {
   "codemirror_mode": {
    "name": "ipython",
    "version": 2
   },
   "file_extension": ".py",
   "mimetype": "text/x-python",
   "name": "python",
   "nbconvert_exporter": "python",
   "pygments_lexer": "ipython2",
   "version": "2.7.11"
  }
 },
 "nbformat": 4,
 "nbformat_minor": 0
}
