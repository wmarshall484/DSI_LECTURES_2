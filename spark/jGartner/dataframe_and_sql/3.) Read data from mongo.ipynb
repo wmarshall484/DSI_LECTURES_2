{
 "cells": [
  {
   "cell_type": "markdown",
   "metadata": {},
   "source": [
    "<h2>Reading in Mongo Collections</h2>"
   ]
  },
  {
   "cell_type": "code",
   "execution_count": 3,
   "metadata": {
    "collapsed": true
   },
   "outputs": [],
   "source": [
    "from pyspark.sql import SparkSession\n",
    "\n",
    "my_spark = SparkSession \\\n",
    "    .builder \\\n",
    "    .appName(\"myApp\") \\\n",
    "    .config(\"spark.mongodb.input.uri\", \"mongodb://127.0.0.1/nobel_prize.country_data\") \\\n",
    "    .config(\"spark.mongodb.output.uri\", \"mongodb://127.0.0.1/nobel_prize.country_data\") \\\n",
    "    .getOrCreate()"
   ]
  },
  {
   "cell_type": "code",
   "execution_count": 4,
   "metadata": {},
   "outputs": [],
   "source": [
    "df = spark.read.format(\"com.mongodb.spark.sql.DefaultSource\").load()"
   ]
  },
  {
   "cell_type": "code",
   "execution_count": 5,
   "metadata": {},
   "outputs": [
    {
     "name": "stdout",
     "output_type": "stream",
     "text": [
      "root\n",
      " |-- _id: struct (nullable = true)\n",
      " |    |-- oid: string (nullable = true)\n",
      " |-- alpha2Code: string (nullable = true)\n",
      " |-- alpha3Code: string (nullable = true)\n",
      " |-- altSpellings: array (nullable = true)\n",
      " |    |-- element: string (containsNull = true)\n",
      " |-- area: double (nullable = true)\n",
      " |-- borders: array (nullable = true)\n",
      " |    |-- element: string (containsNull = true)\n",
      " |-- callingCodes: array (nullable = true)\n",
      " |    |-- element: string (containsNull = true)\n",
      " |-- capital: string (nullable = true)\n",
      " |-- currencies: array (nullable = true)\n",
      " |    |-- element: string (containsNull = true)\n",
      " |-- demonym: string (nullable = true)\n",
      " |-- gini: double (nullable = true)\n",
      " |-- languages: array (nullable = true)\n",
      " |    |-- element: string (containsNull = true)\n",
      " |-- latlng: array (nullable = true)\n",
      " |    |-- element: double (containsNull = true)\n",
      " |-- name: string (nullable = true)\n",
      " |-- nativeName: string (nullable = true)\n",
      " |-- numericCode: string (nullable = true)\n",
      " |-- population: integer (nullable = true)\n",
      " |-- region: string (nullable = true)\n",
      " |-- relevance: string (nullable = true)\n",
      " |-- subregion: string (nullable = true)\n",
      " |-- timezones: array (nullable = true)\n",
      " |    |-- element: string (containsNull = true)\n",
      " |-- topLevelDomain: array (nullable = true)\n",
      " |    |-- element: string (containsNull = true)\n",
      " |-- translations: struct (nullable = true)\n",
      " |    |-- de: string (nullable = true)\n",
      " |    |-- es: string (nullable = true)\n",
      " |    |-- fr: string (nullable = true)\n",
      " |    |-- it: string (nullable = true)\n",
      " |    |-- ja: string (nullable = true)\n",
      "\n"
     ]
    }
   ],
   "source": [
    "df.printSchema()"
   ]
  },
  {
   "cell_type": "code",
   "execution_count": null,
   "metadata": {
    "collapsed": true
   },
   "outputs": [],
   "source": []
  }
 ],
 "metadata": {
  "kernelspec": {
   "display_name": "Python 3",
   "language": "python",
   "name": "python3"
  },
  "language_info": {
   "codemirror_mode": {
    "name": "ipython",
    "version": 3
   },
   "file_extension": ".py",
   "mimetype": "text/x-python",
   "name": "python",
   "nbconvert_exporter": "python",
   "pygments_lexer": "ipython3",
   "version": "3.6.1"
  }
 },
 "nbformat": 4,
 "nbformat_minor": 2
}
