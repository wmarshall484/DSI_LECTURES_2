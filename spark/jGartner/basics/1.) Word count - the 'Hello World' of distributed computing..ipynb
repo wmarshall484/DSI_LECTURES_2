{
 "cells": [
  {
   "cell_type": "markdown",
   "metadata": {},
   "source": [
    "<h1>Getting started with pyspark</h1>\n",
    "<p>Spark is a distributed in memory platform intended for large scale data analysis.  There are two basic classes that you interact with in Spark: the Spark Context and RDD's which are Resilient Distributed Datasets.  Let's start by verifying that you've set thing up correctly by calling 'sc', which should output something like:</p>\n",
    "\n",
    ">`<pyspark.context.SparkContext at 0x1094d6ed0>`\n",
    "\n",
    "<p>If this doesn't work, you muddled the settup, and need to figure that out before you can move forward.</p>"
   ]
  },
  {
   "cell_type": "code",
   "execution_count": 1,
   "metadata": {
    "collapsed": false
   },
   "outputs": [
    {
     "data": {
      "text/plain": [
       "<pyspark.context.SparkContext at 0x109497ed0>"
      ]
     },
     "execution_count": 1,
     "metadata": {},
     "output_type": "execute_result"
    }
   ],
   "source": [
    "sc"
   ]
  },
  {
   "cell_type": "markdown",
   "metadata": {},
   "source": [
    "<h2>Get some data</h2>\n",
    "<p>Spark is made for looking at data....lots of data.  Since we're running locally, we're restricted to the memory of our laptops and only a few cores.  As such we'll use small data as an illustrative example from sklearn.</p>"
   ]
  },
  {
   "cell_type": "code",
   "execution_count": 2,
   "metadata": {
    "collapsed": false
   },
   "outputs": [
    {
     "name": "stdout",
     "output_type": "stream",
     "text": [
      "Well i'm not sure about the story nad it did seem \n",
      "11314\n"
     ]
    }
   ],
   "source": [
    "from sklearn.datasets import fetch_20newsgroups\n",
    "dataset = fetch_20newsgroups(shuffle=True, random_state=1,\n",
    "                             remove=('headers', 'footers', 'quotes'))\n",
    "\n",
    "#The clips are long, here is just a sample of the first entry\n",
    "print dataset.data[0][:50] \n",
    "\n",
    "print len(dataset.data)"
   ]
  },
  {
   "cell_type": "markdown",
   "metadata": {
    "collapsed": true
   },
   "source": [
    "<h2>SHUT UP AND START THE SPARK!</h2>\n",
    "<p>Gotcha.  Let''s start by creating our first rdd.  To do so, we use the\n",
    "`sc.parralllelize` command</p>"
   ]
  },
  {
   "cell_type": "code",
   "execution_count": 3,
   "metadata": {
    "collapsed": false
   },
   "outputs": [
    {
     "name": "stdout",
     "output_type": "stream",
     "text": [
      "<class 'pyspark.rdd.RDD'>\n"
     ]
    }
   ],
   "source": [
    "rdd = sc.parallelize(dataset.data)\n",
    "print type(rdd)"
   ]
  },
  {
   "cell_type": "markdown",
   "metadata": {},
   "source": [
    "<h2>Now for the word count</h2>\n",
    "<p>The word count is performed in 3 steps, and can actually be written by one line of code:\n",
    "* tokenize the clips into words - flatMap\n",
    "* clean the words, put them into tuples as pairs of (key, 1)\n",
    "* combine tuples by their key\n",
    "\n",
    "At that point, you'd have a collection of ('word', count) tuples.  For the purpose of demonstration, we also sort to find the most frequent words, and return a small collection.  Since we don't filter stop words, we expect words like 'the', 'is', and 'a' to dominate the list."
   ]
  },
  {
   "cell_type": "code",
   "execution_count": 4,
   "metadata": {
    "collapsed": false
   },
   "outputs": [
    {
     "name": "stdout",
     "output_type": "stream",
     "text": [
      "[(u'the', 104952), (u'to', 52420), (u'of', 46651), (u'a', 42348), (u'and', 41621), (u'in', 30324), (u'is', 29958), (u'i', 27792), (u'that', 26700), (u'it', 20382)]\n"
     ]
    }
   ],
   "source": [
    "terms = rdd.flatMap(lambda text: text.split())\\\n",
    "            .map(lambda word: (word.strip(\".,-;?\").lower(), 1))\\\n",
    "            .reduceByKey(lambda a, b: a+b)\\\n",
    "            .sortBy(lambda x: x[1], ascending=False)\\\n",
    "            .take(10)\n",
    "            \n",
    "print terms"
   ]
  }
 ],
 "metadata": {
  "anaconda-cloud": {},
  "kernelspec": {
   "display_name": "Python [Root]",
   "language": "python",
   "name": "Python [Root]"
  },
  "language_info": {
   "codemirror_mode": {
    "name": "ipython",
    "version": 2
   },
   "file_extension": ".py",
   "mimetype": "text/x-python",
   "name": "python",
   "nbconvert_exporter": "python",
   "pygments_lexer": "ipython2",
   "version": "2.7.12"
  }
 },
 "nbformat": 4,
 "nbformat_minor": 0
}
