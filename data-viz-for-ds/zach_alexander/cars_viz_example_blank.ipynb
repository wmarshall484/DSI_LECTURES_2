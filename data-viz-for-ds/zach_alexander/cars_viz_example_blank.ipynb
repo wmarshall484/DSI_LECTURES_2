{
 "cells": [
  {
   "cell_type": "code",
   "execution_count": null,
   "metadata": {
    "collapsed": false
   },
   "outputs": [],
   "source": [
    "import numpy as np\n",
    "import pandas as pd\n",
    "import matplotlib.pyplot as plt\n",
    "import rpy2\n",
    "%load_ext rmagic\n",
    "%pylab inline"
   ]
  },
  {
   "cell_type": "markdown",
   "metadata": {},
   "source": [
    "## Visualization of the Cars Dataset"
   ]
  },
  {
   "cell_type": "code",
   "execution_count": null,
   "metadata": {
    "collapsed": false
   },
   "outputs": [],
   "source": [
    "df = pd.read_csv('data/cars_multivariate.csv', na_values=['?'] )\n",
    "df.head()"
   ]
  },
  {
   "cell_type": "markdown",
   "metadata": {},
   "source": [
    "### Make sure nominal/ordinal variables are interpretable"
   ]
  },
  {
   "cell_type": "code",
   "execution_count": null,
   "metadata": {
    "collapsed": false
   },
   "outputs": [],
   "source": []
  },
  {
   "cell_type": "markdown",
   "metadata": {},
   "source": [
    "### GGPlot is your best bet for high-dimensional visual encodings\n",
    "- GGPlot implements a _Grammar of Graphics_ (http://vita.had.co.nz/papers/layered-grammar.pdf)\n",
    "- Still way behind the original R implementation\n",
    "- We only teach you one tool, but you should learn many!!!"
   ]
  },
  {
   "cell_type": "code",
   "execution_count": null,
   "metadata": {
    "collapsed": false
   },
   "outputs": [],
   "source": [
    "from ggplot import *"
   ]
  },
  {
   "cell_type": "markdown",
   "metadata": {},
   "source": [
    "### Examine MPG as dependent variable"
   ]
  },
  {
   "cell_type": "code",
   "execution_count": null,
   "metadata": {
    "collapsed": false
   },
   "outputs": [],
   "source": [
    "df.Cylinders.value_counts()"
   ]
  },
  {
   "cell_type": "code",
   "execution_count": null,
   "metadata": {
    "collapsed": false
   },
   "outputs": [],
   "source": []
  },
  {
   "cell_type": "markdown",
   "metadata": {},
   "source": [
    "### Or, in R\n",
    "- http://rpy.sourceforge.net/rpy2/doc-2.4/html/index.html\n",
    "- requires installation of R"
   ]
  },
  {
   "cell_type": "code",
   "execution_count": null,
   "metadata": {
    "collapsed": false
   },
   "outputs": [],
   "source": [
    "%%R -w 900 -h 600\n",
    "\n",
    "library(ggplot2)\n",
    "library(reshape2)\n",
    "library(plyr)\n",
    "\n",
    "# Load the data\n",
    "df = read.csv('data/cars_multivariate.csv',na.strings = c('?'))\n",
    "head(df)\n",
    "\n",
    "# Plotting df\n",
    "temp = df\n",
    "temp = temp[temp$cylinders %in% c(4,6,8),]\n",
    "\n",
    "# Process\n",
    "temp$model <- temp$model + 1900\n",
    "temp$Era = cut(temp$model, 4)\n",
    "# temp$Acceleration = cut(temp$acceleration, 2)\n",
    "temp$Cylinders = paste0(temp$cylinders, '-cylinder')\n",
    "temp$Origin <- factor(temp$origin, labels=c('USA', 'Japan', 'Europe'))\n",
    "\n",
    "# Plot\n",
    "p = ggplot(temp, aes(x = horsepower, \n",
    "                     y = mpg, \n",
    "                     size = weight,\n",
    "                     color = log(displacement),\n",
    "                     shape = Cylinders)) +\n",
    "  geom_point() +\n",
    "  scale_color_gradient(low='green', high='red') +\n",
    "#   scale_size_continuous(range=c(5,10)) +\n",
    "#   scale_shape_manual(values=c(95,3)) + \n",
    "  theme_bw() +\n",
    "  facet_grid(Origin ~ Era)\n",
    "print(p)\n"
   ]
  },
  {
   "cell_type": "markdown",
   "metadata": {},
   "source": [
    "### Editorialize: US cars are bigger and less efficient than foreign cars\n",
    "- Bar charts of Average mileage, weight, and displacement"
   ]
  },
  {
   "cell_type": "code",
   "execution_count": null,
   "metadata": {
    "collapsed": false
   },
   "outputs": [],
   "source": []
  },
  {
   "cell_type": "markdown",
   "metadata": {},
   "source": [
    "### R implementation has a few more features"
   ]
  },
  {
   "cell_type": "code",
   "execution_count": null,
   "metadata": {
    "collapsed": false
   },
   "outputs": [],
   "source": [
    "%%R -w 900 -h 600\n",
    "\n",
    "# Using histograms\n",
    "temp$is_us <- factor(temp$Origin == 'USA', labels = c('Foreign', 'US'))\n",
    "melted <- melt(temp, id.vars=c('is_us'), measure.vars = c('mpg','weight','displacement'))\n",
    "agg <- ddply(melted, .(is_us,variable), summarise,\n",
    "             value = mean(value))\n",
    "p <- ggplot(melted, aes(x=value, fill=is_us)) +\n",
    "  geom_histogram(alpha=.9) +\n",
    "  scale_fill_brewer(palette='Set1', name='') +\n",
    "  theme_bw() +\n",
    "  xlab('') +\n",
    "  ylab('') +\n",
    "  facet_grid(.~variable, scales='free') + \n",
    "  ggtitle('Weights and mileage for cars manufactured by US companies \\n compared to foreign companies')\n",
    "print(p)\n"
   ]
  },
  {
   "cell_type": "markdown",
   "metadata": {},
   "source": [
    "### Matplotlib"
   ]
  },
  {
   "cell_type": "code",
   "execution_count": null,
   "metadata": {
    "collapsed": false
   },
   "outputs": [],
   "source": [
    "fig, ax = plt.subplots(1,3)\n",
    "for i,v in enumerate(['weight','mpg','displacement']):\n",
    "    a = ax[i]\n",
    "    agg = temp.groupby('is_us')[v].mean()\n",
    "    agg.plot(kind='bar', ax=a)\n",
    "    a.set_title(v)\n",
    "    a.set_xlabel('')\n",
    "plt.tight_layout()\n",
    "plt.show()"
   ]
  },
  {
   "cell_type": "code",
   "execution_count": null,
   "metadata": {
    "collapsed": true
   },
   "outputs": [],
   "source": []
  }
 ],
 "metadata": {
  "kernelspec": {
   "display_name": "Python 2",
   "language": "python",
   "name": "python2"
  },
  "language_info": {
   "codemirror_mode": {
    "name": "ipython",
    "version": 2
   },
   "file_extension": ".py",
   "mimetype": "text/x-python",
   "name": "python",
   "nbconvert_exporter": "python",
   "pygments_lexer": "ipython2",
   "version": "2.7.10"
  }
 },
 "nbformat": 4,
 "nbformat_minor": 0
}
