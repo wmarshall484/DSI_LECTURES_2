{
 "cells": [
  {
   "cell_type": "code",
   "execution_count": 2,
   "metadata": {
    "collapsed": false,
    "slideshow": {
     "slide_type": "skip"
    }
   },
   "outputs": [],
   "source": [
    "from collections import Counter\n",
    "from sklearn.metrics.pairwise import cosine_similarity, euclidean_distances\n",
    "from sklearn.feature_extraction.text import CountVectorizer, TfidfVectorizer\n",
    "import numpy as np"
   ]
  },
  {
   "cell_type": "code",
   "execution_count": 3,
   "metadata": {
    "collapsed": true,
    "slideshow": {
     "slide_type": "slide"
    }
   },
   "outputs": [],
   "source": [
    "# COMPILE DOCUMENTS"
   ]
  },
  {
   "cell_type": "code",
   "execution_count": 4,
   "metadata": {
    "collapsed": true,
    "slideshow": {
     "slide_type": "fragment"
    }
   },
   "outputs": [],
   "source": [
    "doc1 = 'the cat in the hat'"
   ]
  },
  {
   "cell_type": "code",
   "execution_count": 5,
   "metadata": {
    "collapsed": true,
    "slideshow": {
     "slide_type": "fragment"
    }
   },
   "outputs": [],
   "source": [
    "doc2 = 'the cat in the tree'"
   ]
  },
  {
   "cell_type": "code",
   "execution_count": 6,
   "metadata": {
    "collapsed": true,
    "slideshow": {
     "slide_type": "fragment"
    }
   },
   "outputs": [],
   "source": [
    "doc3 = 'the cat ate my hat'"
   ]
  },
  {
   "cell_type": "code",
   "execution_count": 7,
   "metadata": {
    "collapsed": true,
    "slideshow": {
     "slide_type": "fragment"
    }
   },
   "outputs": [],
   "source": [
    "doc4 = 'the cat in the hat the cat in the hat the cat in the hat'"
   ]
  },
  {
   "cell_type": "code",
   "execution_count": 8,
   "metadata": {
    "collapsed": true,
    "slideshow": {
     "slide_type": "fragment"
    }
   },
   "outputs": [],
   "source": [
    "documents = [doc1, doc2, doc3, doc4]"
   ]
  },
  {
   "cell_type": "code",
   "execution_count": 9,
   "metadata": {
    "collapsed": true,
    "slideshow": {
     "slide_type": "slide"
    }
   },
   "outputs": [],
   "source": [
    "# FEATURIZE DOCUMENTS"
   ]
  },
  {
   "cell_type": "code",
   "execution_count": 24,
   "metadata": {
    "collapsed": true,
    "slideshow": {
     "slide_type": "skip"
    }
   },
   "outputs": [],
   "source": [
    "\n",
    "vocabulary = [word for doc in documents for word in doc.split(' ')]\n",
    "vocabulary = sorted(list(set(vocabulary)))"
   ]
  },
  {
   "cell_type": "code",
   "execution_count": 10,
   "metadata": {
    "collapsed": false
   },
   "outputs": [
    {
     "ename": "NameError",
     "evalue": "name 'doc' is not defined",
     "output_type": "error",
     "traceback": [
      "\u001b[0;31m---------------------------------------------------------------------------\u001b[0m",
      "\u001b[0;31mNameError\u001b[0m                                 Traceback (most recent call last)",
      "\u001b[0;32m<ipython-input-10-10404d925dc6>\u001b[0m in \u001b[0;36m<module>\u001b[0;34m()\u001b[0m\n\u001b[0;32m----> 1\u001b[0;31m \u001b[0msorted\u001b[0m\u001b[0;34m(\u001b[0m\u001b[0mdoc\u001b[0m\u001b[0;34m.\u001b[0m\u001b[0msplit\u001b[0m\u001b[0;34m(\u001b[0m\u001b[0;34m' '\u001b[0m\u001b[0;34m)\u001b[0m\u001b[0;34m)\u001b[0m\u001b[0;34m\u001b[0m\u001b[0m\n\u001b[0m",
      "\u001b[0;31mNameError\u001b[0m: name 'doc' is not defined"
     ]
    }
   ],
   "source": [
    "sorted(document.split(' '))"
   ]
  },
  {
   "cell_type": "code",
   "execution_count": 25,
   "metadata": {
    "collapsed": false,
    "slideshow": {
     "slide_type": "fragment"
    }
   },
   "outputs": [
    {
     "name": "stdout",
     "output_type": "stream",
     "text": [
      "Vocabulary (features): ['ate', 'cat', 'hat', 'in', 'my', 'the', 'tree']\n"
     ]
    }
   ],
   "source": [
    "print 'Vocabulary (features):',vocabulary"
   ]
  },
  {
   "cell_type": "code",
   "execution_count": 26,
   "metadata": {
    "collapsed": true,
    "slideshow": {
     "slide_type": "fragment"
    }
   },
   "outputs": [],
   "source": [
    "def vectorize(doc, vocabulary):\n",
    "    bag_of_words = Counter(doc.split(' '))\n",
    "    doc_vector = np.zeros(len(vocabulary))\n",
    "    for word_index, word in enumerate(vocabulary):\n",
    "        if word in bag_of_words:\n",
    "            doc_vector[word_index] += bag_of_words[word]\n",
    "    return doc_vector"
   ]
  },
  {
   "cell_type": "code",
   "execution_count": 27,
   "metadata": {
    "collapsed": true,
    "slideshow": {
     "slide_type": "fragment"
    }
   },
   "outputs": [],
   "source": [
    "doc1_vectorized = vectorize(doc1, vocabulary)\n",
    "doc2_vectorized = vectorize(doc2, vocabulary)\n",
    "doc3_vectorized = vectorize(doc3, vocabulary)\n",
    "doc4_vectorized = vectorize(doc4, vocabulary) \n",
    "\n",
    "tf_matrix = np.vstack((doc1_vectorized,\n",
    "                       doc2_vectorized,\n",
    "                       doc3_vectorized,\n",
    "                       doc4_vectorized))"
   ]
  },
  {
   "cell_type": "code",
   "execution_count": 28,
   "metadata": {
    "collapsed": false,
    "slideshow": {
     "slide_type": "fragment"
    }
   },
   "outputs": [
    {
     "name": "stdout",
     "output_type": "stream",
     "text": [
      "features: ['ate', 'cat', 'hat', 'in', 'my', 'the', 'tree']\n",
      "\"the cat in the hat\": [ 0.  1.  1.  1.  0.  2.  0.]\n",
      "\"the cat in the tree\": [ 0.  1.  0.  1.  0.  2.  1.]\n",
      "\"the cat ate my hat\": [ 1.  1.  1.  0.  1.  1.  0.]\n",
      "\"the cat in the hat the cat in the hat the cat in the hat\":\n",
      "     [ 0.  3.  3.  3.  0.  6.  0.]\n",
      "\n",
      "feature matrix:\n",
      "[[ 0.  1.  1.  1.  0.  2.  0.]\n",
      " [ 0.  1.  0.  1.  0.  2.  1.]\n",
      " [ 1.  1.  1.  0.  1.  1.  0.]\n",
      " [ 0.  3.  3.  3.  0.  6.  0.]]\n"
     ]
    }
   ],
   "source": [
    "print 'features:',vocabulary\n",
    "print '\"%s\":'%doc1, tf_matrix[0]\n",
    "print '\"%s\":'%doc2, tf_matrix[1]\n",
    "print '\"%s\":'%doc3, tf_matrix[2]\n",
    "print '\"%s\":\\n'%doc4, '    ', tf_matrix[3]\n",
    "print\n",
    "print 'feature matrix:'\n",
    "print tf_matrix"
   ]
  },
  {
   "cell_type": "code",
   "execution_count": 29,
   "metadata": {
    "collapsed": true,
    "slideshow": {
     "slide_type": "fragment"
    }
   },
   "outputs": [],
   "source": [
    "# sklearn can do this for you\n",
    "count_vectorizer = CountVectorizer(stop_words=None,\n",
    "                                  vocabulary=vocabulary)\n",
    "feature_matrix = count_vectorizer.fit_transform([doc1]).todense()"
   ]
  },
  {
   "cell_type": "code",
   "execution_count": 30,
   "metadata": {
    "collapsed": false,
    "slideshow": {
     "slide_type": "fragment"
    }
   },
   "outputs": [
    {
     "name": "stdout",
     "output_type": "stream",
     "text": [
      "Vectorize: the cat in the hat\n",
      "sklearn result [[0 1 1 1 0 2 0]]\n",
      "our result [ 0.  1.  1.  1.  0.  2.  0.]\n",
      "\n",
      "feature matrix\n",
      "[[0 1 1 1 0 2 0]\n",
      " [0 1 0 1 0 2 1]\n",
      " [1 1 1 0 1 1 0]\n",
      " [0 3 3 3 0 6 0]]\n"
     ]
    }
   ],
   "source": [
    "print 'Vectorize:',doc1\n",
    "print 'sklearn result',feature_matrix\n",
    "print 'our result',vectorize(doc1, vocabulary)\n",
    "print\n",
    "print 'feature matrix'\n",
    "print count_vectorizer.fit_transform(documents).todense()"
   ]
  },
  {
   "cell_type": "code",
   "execution_count": 31,
   "metadata": {
    "collapsed": true,
    "slideshow": {
     "slide_type": "slide"
    }
   },
   "outputs": [],
   "source": [
    "# COMPARE DOCUMENT FEATURES"
   ]
  },
  {
   "cell_type": "code",
   "execution_count": 32,
   "metadata": {
    "collapsed": false,
    "slideshow": {
     "slide_type": "fragment"
    }
   },
   "outputs": [
    {
     "name": "stdout",
     "output_type": "stream",
     "text": [
      "Compare \"the cat in the hat\" \n",
      "with \"the cat in the tree\"\n",
      "[[ 1.41421356]]\n"
     ]
    }
   ],
   "source": [
    "# EUCLIDEAN DISTANCE COMPARISON\n",
    "print 'Compare \"%s\" \\nwith \"%s\"'%(doc1, doc2)\n",
    "print euclidean_distances(doc1_vectorized, doc2_vectorized)"
   ]
  },
  {
   "cell_type": "code",
   "execution_count": 33,
   "metadata": {
    "collapsed": false,
    "slideshow": {
     "slide_type": "fragment"
    }
   },
   "outputs": [
    {
     "name": "stdout",
     "output_type": "stream",
     "text": [
      "Compare \"the cat in the hat\" \n",
      "with \"the cat ate my hat\"\n",
      "[[ 2.]]\n"
     ]
    }
   ],
   "source": [
    "print 'Compare \"%s\" \\nwith \"%s\"'%(doc1, doc3)\n",
    "print euclidean_distances(doc1_vectorized, doc3_vectorized)"
   ]
  },
  {
   "cell_type": "code",
   "execution_count": 34,
   "metadata": {
    "collapsed": false,
    "slideshow": {
     "slide_type": "fragment"
    }
   },
   "outputs": [
    {
     "name": "stdout",
     "output_type": "stream",
     "text": [
      "Compare \"the cat in the hat\" \n",
      "with \"the cat in the hat the cat in the hat the cat in the hat\"\n",
      "[[ 5.29150262]]\n"
     ]
    }
   ],
   "source": [
    "print 'Compare \"%s\" \\nwith \"%s\"'%(doc1, doc4)\n",
    "print euclidean_distances(doc1_vectorized, doc4_vectorized)"
   ]
  },
  {
   "cell_type": "code",
   "execution_count": 35,
   "metadata": {
    "collapsed": false,
    "slideshow": {
     "slide_type": "subslide"
    }
   },
   "outputs": [],
   "source": [
    "# COSINE SIMILARITY COMPARISON"
   ]
  },
  {
   "cell_type": "code",
   "execution_count": 36,
   "metadata": {
    "collapsed": false,
    "slideshow": {
     "slide_type": "fragment"
    }
   },
   "outputs": [
    {
     "name": "stdout",
     "output_type": "stream",
     "text": [
      "Compare \"the cat in the hat\" \n",
      "with \"the cat in the hat the cat in the hat the cat in the hat\"\n",
      "[[ 1.]]\n"
     ]
    }
   ],
   "source": [
    "print 'Compare \"%s\" \\nwith \"%s\"'%(doc1, doc4)\n",
    "print cosine_similarity(doc1_vectorized, doc4_vectorized)"
   ]
  },
  {
   "cell_type": "code",
   "execution_count": 37,
   "metadata": {
    "collapsed": false,
    "slideshow": {
     "slide_type": "fragment"
    }
   },
   "outputs": [
    {
     "name": "stdout",
     "output_type": "stream",
     "text": [
      "Compare \"the cat in the hat\" \n",
      "with \"the cat ate my hat\"\n",
      "[[ 0.6761234]]\n"
     ]
    }
   ],
   "source": [
    "print 'Compare \"%s\" \\nwith \"%s\"'%(doc1, doc3)\n",
    "print cosine_similarity(doc1_vectorized, doc3_vectorized)"
   ]
  },
  {
   "cell_type": "code",
   "execution_count": 38,
   "metadata": {
    "collapsed": false,
    "slideshow": {
     "slide_type": "fragment"
    }
   },
   "outputs": [
    {
     "name": "stdout",
     "output_type": "stream",
     "text": [
      "Compare \"the cat in the hat\" \n",
      "with \"the cat in the tree\"\n",
      "[[ 0.85714286]]\n"
     ]
    }
   ],
   "source": [
    "print 'Compare \"%s\" \\nwith \"%s\"'%(doc1, doc2)\n",
    "print cosine_similarity(doc1_vectorized, doc2_vectorized)"
   ]
  },
  {
   "cell_type": "code",
   "execution_count": 39,
   "metadata": {
    "collapsed": true,
    "slideshow": {
     "slide_type": "slide"
    }
   },
   "outputs": [],
   "source": [
    "# SEARCH ENGINE"
   ]
  },
  {
   "cell_type": "code",
   "execution_count": 40,
   "metadata": {
    "collapsed": true,
    "slideshow": {
     "slide_type": "fragment"
    }
   },
   "outputs": [],
   "source": [
    "query = 'the cat ate what?'"
   ]
  },
  {
   "cell_type": "code",
   "execution_count": 41,
   "metadata": {
    "collapsed": false,
    "slideshow": {
     "slide_type": "fragment"
    }
   },
   "outputs": [
    {
     "name": "stdout",
     "output_type": "stream",
     "text": [
      "Query: the cat ate what?\n",
      "Vectorized query: [[1 1 0 0 0 1 0]]\n"
     ]
    }
   ],
   "source": [
    "query_vectorized = count_vectorizer.fit_transform([query]).todense()\n",
    "print \"Query:\",query\n",
    "print \"Vectorized query:\",query_vectorized"
   ]
  },
  {
   "cell_type": "code",
   "execution_count": 42,
   "metadata": {
    "collapsed": false,
    "slideshow": {
     "slide_type": "fragment"
    }
   },
   "outputs": [
    {
     "name": "stdout",
     "output_type": "stream",
     "text": [
      "the cat in the hat [[ 0.65465367]]\n",
      "the cat in the tree [[ 0.65465367]]\n",
      "the cat ate my hat [[ 0.77459667]]\n",
      "the cat in the hat the cat in the hat the cat in the hat [[ 0.65465367]]\n"
     ]
    }
   ],
   "source": [
    "for doc, tf_doc in zip(documents, tf_matrix):\n",
    "    print doc, cosine_similarity(query_vectorized, tf_doc)"
   ]
  },
  {
   "cell_type": "code",
   "execution_count": 43,
   "metadata": {
    "collapsed": false,
    "slideshow": {
     "slide_type": "slide"
    }
   },
   "outputs": [],
   "source": [
    "def tfidf(total_frequencies): # total_frequencies is a bag of words feature matrix\n",
    "    number_of_documents = total_frequencies.shape[0]\n",
    "    number_of_documents_with_term = (tf_matrix>0).astype(int).sum(axis=0)\n",
    "    idf = np.log(float(number_of_documents)/(number_of_documents_with_term))\n",
    "    tfidf = total_frequencies * idf\n",
    "    return tfidf"
   ]
  },
  {
   "cell_type": "code",
   "execution_count": 44,
   "metadata": {
    "collapsed": false,
    "slideshow": {
     "slide_type": "fragment"
    }
   },
   "outputs": [
    {
     "name": "stdout",
     "output_type": "stream",
     "text": [
      "TF converted to TFIDF\n",
      "the cat in the hat\n",
      "ate 0.0 0.0\n",
      "cat 1.0 0.0\n",
      "hat 1.0 0.287682072452\n",
      "in 1.0 0.287682072452\n",
      "my 0.0 0.0\n",
      "the 2.0 0.0\n",
      "tree 0.0 0.0\n",
      "\n",
      "the cat in the tree\n",
      "ate 0.0 0.0\n",
      "cat 1.0 0.0\n",
      "hat 0.0 0.0\n",
      "in 1.0 0.287682072452\n",
      "my 0.0 0.0\n",
      "the 2.0 0.0\n",
      "tree 1.0 1.38629436112\n",
      "\n",
      "the cat ate my hat\n",
      "ate 1.0 1.38629436112\n",
      "cat 1.0 0.0\n",
      "hat 1.0 0.287682072452\n",
      "in 0.0 0.0\n",
      "my 1.0 1.38629436112\n",
      "the 1.0 0.0\n",
      "tree 0.0 0.0\n",
      "\n",
      "the cat in the hat the cat in the hat the cat in the hat\n",
      "ate 0.0 0.0\n",
      "cat 3.0 0.0\n",
      "hat 3.0 0.863046217355\n",
      "in 3.0 0.863046217355\n",
      "my 0.0 0.0\n",
      "the 6.0 0.0\n",
      "tree 0.0 0.0\n",
      "\n"
     ]
    }
   ],
   "source": [
    "print \"TF converted to TFIDF\"\n",
    "tfidf_matrix = tfidf(tf_matrix)\n",
    "for index, document in enumerate(documents):\n",
    "    print document\n",
    "    for word, tf, tfidf_ in zip(vocabulary,\n",
    "                                tf_matrix[index],\n",
    "                                tfidf_matrix[index]):\n",
    "        print word, tf, tfidf_\n",
    "    print \n"
   ]
  },
  {
   "cell_type": "code",
   "execution_count": 45,
   "metadata": {
    "collapsed": false,
    "slideshow": {
     "slide_type": "slide"
    }
   },
   "outputs": [],
   "source": [
    "tfidf_vectorizer = TfidfVectorizer(stop_words=None,\n",
    "                                   vocabulary=vocabulary)\n",
    "tfidf_matrix = tfidf_vectorizer.fit_transform(documents).todense()"
   ]
  },
  {
   "cell_type": "code",
   "execution_count": 46,
   "metadata": {
    "collapsed": false,
    "slideshow": {
     "slide_type": "slide"
    }
   },
   "outputs": [
    {
     "name": "stdout",
     "output_type": "stream",
     "text": [
      "\"the cat in the hat\" compared with \"the cat in the tree\"\n",
      "TF cosine similarity: [[ 0.85714286]]\n",
      "TF-IDF cosine similarity: [[ 0.72060317]]\n",
      "\n",
      "\"the cat in the hat\" compared with \"the cat ate my hat\"\n",
      "TF cosine similarity: [[ 0.6761234]]\n",
      "TF-IDF cosine similarity: [[ 0.48303532]]\n",
      "\n",
      "\"the cat in the hat\" compared with \"the cat in the hat the cat in the hat the cat in the hat\"\n",
      "TF cosine similarity: [[ 1.]]\n",
      "TF-IDF cosine similarity: [[ 1.]]\n",
      "\n"
     ]
    }
   ],
   "source": [
    "# COSINE SIMILARITY ON TF AND TFIDF\n",
    "for index, document in enumerate(documents[1:]):\n",
    "    print '\"%s\" compared with \"%s\"'%(documents[0], documents[index+1])\n",
    "    print 'TF cosine similarity:', cosine_similarity(tf_matrix[0],\n",
    "                                                     tf_matrix[index+1])\n",
    "    print 'TF-IDF cosine similarity:', cosine_similarity(tfidf_matrix[0],\n",
    "                                                         tfidf_matrix[index+1])\n",
    "    print"
   ]
  }
 ],
 "metadata": {
  "celltoolbar": "Slideshow",
  "kernelspec": {
   "display_name": "Python 2",
   "language": "python",
   "name": "python2"
  },
  "language_info": {
   "codemirror_mode": {
    "name": "ipython",
    "version": 2
   },
   "file_extension": ".py",
   "mimetype": "text/x-python",
   "name": "python",
   "nbconvert_exporter": "python",
   "pygments_lexer": "ipython2",
   "version": "2.7.10"
  }
 },
 "nbformat": 4,
 "nbformat_minor": 0
}
