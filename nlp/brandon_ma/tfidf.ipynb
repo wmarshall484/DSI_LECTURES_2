{
 "cells": [
  {
   "cell_type": "code",
   "execution_count": 1,
   "metadata": {
    "slideshow": {
     "slide_type": "skip"
    }
   },
   "outputs": [],
   "source": [
    "import numpy as np\n",
    "import pandas as pd\n",
    "from collections import Counter\n",
    "import nltk\n",
    "from nltk.tokenize import word_tokenize\n",
    "from nltk.stem.wordnet import WordNetLemmatizer\n",
    "from nltk.stem.snowball import SnowballStemmer\n",
    "import string\n",
    "from scipy.spatial.distance import pdist, squareform\n",
    "from sklearn.feature_extraction.text import TfidfVectorizer, CountVectorizer \n",
    "from functools import reduce\n",
    "from fractions import Fraction\n",
    "import seaborn as sns\n",
    "from matplotlib import pyplot as plt\n",
    "from sklearn.metrics.pairwise import cosine_similarity"
   ]
  },
  {
   "cell_type": "markdown",
   "metadata": {},
   "source": [
    "## Goals\n",
    "\n",
    "* Convert documents into feature vectors.\n",
    "* Use TF-IDF to get better vectors.\n",
    "* Use document vectors to find similar documents.\n"
   ]
  },
  {
   "cell_type": "markdown",
   "metadata": {},
   "source": [
    "## Setup"
   ]
  },
  {
   "cell_type": "markdown",
   "metadata": {},
   "source": [
    "By now we're familiar with this idiom:\n",
    "\n",
    "* Load feature matrix `X`, label vector `y`.\n",
    "* Split, train, predict, evaluate, &c &c &c.\n",
    "\n",
    "But what is your feature matrix `X` when your underlying sample data is a set of document? You need some way to turn **words** into **numbers**.\n",
    "\n",
    "More technically, what you need is a **natural langauge processing feature extraction** pipeline.\n",
    "\n",
    "An NLP pipeline converts a **list of documents** into a **list of feature vectors** of the same length. We have two main goals with this vector embedding:\n",
    "\n",
    "* Similar documents should have near-by vectors (in some metric space).\n",
    "* The vectors should perform well on prediction and classification tasks. (e.g., Sentiment analysis; subject classification.)"
   ]
  },
  {
   "cell_type": "markdown",
   "metadata": {
    "slideshow": {
     "slide_type": "slide"
    }
   },
   "source": [
    "## Corpus: list of documents\n",
    "\n",
    "Documents can vary wildly, from tweets to books. A document is a single cohesive work. Rule of thumb: any word in a document impacts the whole document."
   ]
  },
  {
   "cell_type": "code",
   "execution_count": 2,
   "metadata": {},
   "outputs": [],
   "source": [
    "corpus = [\"Ride bikes every day.\", \n",
    "          \"Do bike wolves like to ride bikes?\", \n",
    "          \"'OUTTA MY WAY!', shouted The Bike Wolf.\",\n",
    "          \"The Dow dropped 1000 points today.\"]"
   ]
  },
  {
   "cell_type": "markdown",
   "metadata": {},
   "source": [
    "## Minimum Viable Product: Word Count Vector\n",
    "\n",
    "The simplest thing possible: make a vocabulary of words. For each document, make a vector where the jth feature is the total count of the jth word."
   ]
  },
  {
   "cell_type": "markdown",
   "metadata": {},
   "source": [
    "### Split each document into terms"
   ]
  },
  {
   "cell_type": "code",
   "execution_count": 3,
   "metadata": {},
   "outputs": [
    {
     "data": {
      "text/plain": [
       "[['Ride', 'bikes', 'every', 'day.'],\n",
       " ['Do', 'bike', 'wolves', 'like', 'to', 'ride', 'bikes?'],\n",
       " [\"'OUTTA\", 'MY', \"WAY!',\", 'shouted', 'The', 'Bike', 'Wolf.'],\n",
       " ['The', 'Dow', 'dropped', '1000', 'points', 'today.']]"
      ]
     },
     "execution_count": 3,
     "metadata": {},
     "output_type": "execute_result"
    }
   ],
   "source": [
    "corpus_words = [x.split() for x in corpus]\n",
    "corpus_words"
   ]
  },
  {
   "cell_type": "markdown",
   "metadata": {},
   "source": [
    "### Derive a vocabulary"
   ]
  },
  {
   "cell_type": "code",
   "execution_count": 4,
   "metadata": {},
   "outputs": [
    {
     "name": "stdout",
     "output_type": "stream",
     "text": [
      "[\"'OUTTA\", '1000', 'Bike', 'Do', 'Dow', 'MY', 'Ride', 'The', \"WAY!',\", 'Wolf.', 'bike', 'bikes', 'bikes?', 'day.', 'dropped', 'every', 'like', 'points', 'ride', 'shouted', 'to', 'today.', 'wolves']\n",
      "vocab len: 23\n"
     ]
    }
   ],
   "source": [
    "def get_vocab(corpus):\n",
    "    vocab = reduce( lambda a,b: set(a)|set(b), corpus )\n",
    "    return sorted(list(vocab))\n",
    "vocab = get_vocab( corpus_words )\n",
    "print( vocab )\n",
    "print( \"vocab len:\", len(vocab) )"
   ]
  },
  {
   "cell_type": "markdown",
   "metadata": {},
   "source": [
    "### Convert documents into word count vector"
   ]
  },
  {
   "cell_type": "code",
   "execution_count": 5,
   "metadata": {},
   "outputs": [],
   "source": [
    "m = len(corpus)\n",
    "n = len(vocab)\n",
    "X = np.zeros((m, n), dtype=int)\n",
    "\n",
    "for i, doc_words in enumerate( corpus_words ):\n",
    "    c = Counter(doc_words)\n",
    "    X[ i, [vocab.index(w) for w in c.keys()] ] = list(c.values())"
   ]
  },
  {
   "cell_type": "code",
   "execution_count": 6,
   "metadata": {},
   "outputs": [
    {
     "data": {
      "text/html": [
       "<div>\n",
       "<style scoped>\n",
       "    .dataframe tbody tr th:only-of-type {\n",
       "        vertical-align: middle;\n",
       "    }\n",
       "\n",
       "    .dataframe tbody tr th {\n",
       "        vertical-align: top;\n",
       "    }\n",
       "\n",
       "    .dataframe thead th {\n",
       "        text-align: right;\n",
       "    }\n",
       "</style>\n",
       "<table border=\"1\" class=\"dataframe\">\n",
       "  <thead>\n",
       "    <tr style=\"text-align: right;\">\n",
       "      <th></th>\n",
       "      <th>'OUTTA</th>\n",
       "      <th>1000</th>\n",
       "      <th>Bike</th>\n",
       "      <th>Do</th>\n",
       "      <th>Dow</th>\n",
       "      <th>MY</th>\n",
       "      <th>Ride</th>\n",
       "      <th>The</th>\n",
       "      <th>WAY!',</th>\n",
       "      <th>Wolf.</th>\n",
       "      <th>...</th>\n",
       "      <th>day.</th>\n",
       "      <th>dropped</th>\n",
       "      <th>every</th>\n",
       "      <th>like</th>\n",
       "      <th>points</th>\n",
       "      <th>ride</th>\n",
       "      <th>shouted</th>\n",
       "      <th>to</th>\n",
       "      <th>today.</th>\n",
       "      <th>wolves</th>\n",
       "    </tr>\n",
       "  </thead>\n",
       "  <tbody>\n",
       "    <tr>\n",
       "      <th>0</th>\n",
       "      <td>0</td>\n",
       "      <td>0</td>\n",
       "      <td>0</td>\n",
       "      <td>0</td>\n",
       "      <td>0</td>\n",
       "      <td>0</td>\n",
       "      <td>1</td>\n",
       "      <td>0</td>\n",
       "      <td>0</td>\n",
       "      <td>0</td>\n",
       "      <td>...</td>\n",
       "      <td>1</td>\n",
       "      <td>0</td>\n",
       "      <td>1</td>\n",
       "      <td>0</td>\n",
       "      <td>0</td>\n",
       "      <td>0</td>\n",
       "      <td>0</td>\n",
       "      <td>0</td>\n",
       "      <td>0</td>\n",
       "      <td>0</td>\n",
       "    </tr>\n",
       "    <tr>\n",
       "      <th>1</th>\n",
       "      <td>0</td>\n",
       "      <td>0</td>\n",
       "      <td>0</td>\n",
       "      <td>1</td>\n",
       "      <td>0</td>\n",
       "      <td>0</td>\n",
       "      <td>0</td>\n",
       "      <td>0</td>\n",
       "      <td>0</td>\n",
       "      <td>0</td>\n",
       "      <td>...</td>\n",
       "      <td>0</td>\n",
       "      <td>0</td>\n",
       "      <td>0</td>\n",
       "      <td>1</td>\n",
       "      <td>0</td>\n",
       "      <td>1</td>\n",
       "      <td>0</td>\n",
       "      <td>1</td>\n",
       "      <td>0</td>\n",
       "      <td>1</td>\n",
       "    </tr>\n",
       "    <tr>\n",
       "      <th>2</th>\n",
       "      <td>1</td>\n",
       "      <td>0</td>\n",
       "      <td>1</td>\n",
       "      <td>0</td>\n",
       "      <td>0</td>\n",
       "      <td>1</td>\n",
       "      <td>0</td>\n",
       "      <td>1</td>\n",
       "      <td>1</td>\n",
       "      <td>1</td>\n",
       "      <td>...</td>\n",
       "      <td>0</td>\n",
       "      <td>0</td>\n",
       "      <td>0</td>\n",
       "      <td>0</td>\n",
       "      <td>0</td>\n",
       "      <td>0</td>\n",
       "      <td>1</td>\n",
       "      <td>0</td>\n",
       "      <td>0</td>\n",
       "      <td>0</td>\n",
       "    </tr>\n",
       "    <tr>\n",
       "      <th>3</th>\n",
       "      <td>0</td>\n",
       "      <td>1</td>\n",
       "      <td>0</td>\n",
       "      <td>0</td>\n",
       "      <td>1</td>\n",
       "      <td>0</td>\n",
       "      <td>0</td>\n",
       "      <td>1</td>\n",
       "      <td>0</td>\n",
       "      <td>0</td>\n",
       "      <td>...</td>\n",
       "      <td>0</td>\n",
       "      <td>1</td>\n",
       "      <td>0</td>\n",
       "      <td>0</td>\n",
       "      <td>1</td>\n",
       "      <td>0</td>\n",
       "      <td>0</td>\n",
       "      <td>0</td>\n",
       "      <td>1</td>\n",
       "      <td>0</td>\n",
       "    </tr>\n",
       "  </tbody>\n",
       "</table>\n",
       "<p>4 rows × 23 columns</p>\n",
       "</div>"
      ],
      "text/plain": [
       "   'OUTTA  1000  Bike  Do  Dow  MY  Ride  The  WAY!',  Wolf.   ...    day.  \\\n",
       "0       0     0     0   0    0   0     1    0       0      0   ...       1   \n",
       "1       0     0     0   1    0   0     0    0       0      0   ...       0   \n",
       "2       1     0     1   0    0   1     0    1       1      1   ...       0   \n",
       "3       0     1     0   0    1   0     0    1       0      0   ...       0   \n",
       "\n",
       "   dropped  every  like  points  ride  shouted  to  today.  wolves  \n",
       "0        0      1     0       0     0        0   0       0       0  \n",
       "1        0      0     1       0     1        0   1       0       1  \n",
       "2        0      0     0       0     0        1   0       0       0  \n",
       "3        1      0     0       1     0        0   0       1       0  \n",
       "\n",
       "[4 rows x 23 columns]"
      ]
     },
     "execution_count": 6,
     "metadata": {},
     "output_type": "execute_result"
    }
   ],
   "source": [
    "pd.DataFrame(X, columns=vocab)"
   ]
  },
  {
   "cell_type": "markdown",
   "metadata": {},
   "source": [
    "### Some problems\n",
    "\n",
    "The words \"ride\", \"wolf\", \"bike\" appeared more than once in different forms. We want a **pipeline** for processing our terms into standard forms."
   ]
  },
  {
   "cell_type": "markdown",
   "metadata": {},
   "source": [
    "## NLP Processing Pipeline"
   ]
  },
  {
   "cell_type": "code",
   "execution_count": 7,
   "metadata": {},
   "outputs": [],
   "source": [
    "raw_docs = [\"Ride bikes every day.\", \n",
    "            \"Do bike wolves like to ride bikes?\", \n",
    "            \"'OUTTA MY WAY!', shouted The Bike Wolf.\",\n",
    "            \"The Dow dropped 1000 points today.\"]"
   ]
  },
  {
   "cell_type": "markdown",
   "metadata": {},
   "source": [
    "### Convert to lower case"
   ]
  },
  {
   "cell_type": "code",
   "execution_count": 8,
   "metadata": {},
   "outputs": [
    {
     "data": {
      "text/plain": [
       "['ride bikes every day.',\n",
       " 'do bike wolves like to ride bikes?',\n",
       " \"'outta my way!', shouted the bike wolf.\",\n",
       " 'the dow dropped 1000 points today.']"
      ]
     },
     "execution_count": 8,
     "metadata": {},
     "output_type": "execute_result"
    }
   ],
   "source": [
    "corpus = [x.lower() for x in raw_docs]\n",
    "corpus"
   ]
  },
  {
   "cell_type": "markdown",
   "metadata": {},
   "source": [
    "### Split into tokens"
   ]
  },
  {
   "cell_type": "code",
   "execution_count": 9,
   "metadata": {},
   "outputs": [
    {
     "data": {
      "text/plain": [
       "[['ride', 'bikes', 'every', 'day', '.'],\n",
       " ['do', 'bike', 'wolves', 'like', 'to', 'ride', 'bikes', '?'],\n",
       " [\"'outta\", 'my', 'way', '!', \"'\", ',', 'shouted', 'the', 'bike', 'wolf', '.'],\n",
       " ['the', 'dow', 'dropped', '1000', 'points', 'today', '.']]"
      ]
     },
     "execution_count": 9,
     "metadata": {},
     "output_type": "execute_result"
    }
   ],
   "source": [
    "corpus = [word_tokenize(x) for x in corpus]\n",
    "corpus"
   ]
  },
  {
   "cell_type": "code",
   "execution_count": 10,
   "metadata": {},
   "outputs": [
    {
     "data": {
      "text/plain": [
       "25"
      ]
     },
     "execution_count": 10,
     "metadata": {},
     "output_type": "execute_result"
    }
   ],
   "source": [
    "len(get_vocab(corpus))"
   ]
  },
  {
   "cell_type": "markdown",
   "metadata": {},
   "source": [
    "### Drop punctuation"
   ]
  },
  {
   "cell_type": "code",
   "execution_count": 11,
   "metadata": {},
   "outputs": [
    {
     "data": {
      "text/plain": [
       "[['ride', 'bikes', 'every', 'day'],\n",
       " ['do', 'bike', 'wolves', 'like', 'to', 'ride', 'bikes'],\n",
       " [\"'outta\", 'my', 'way', 'shouted', 'the', 'bike', 'wolf'],\n",
       " ['the', 'dow', 'dropped', '1000', 'points', 'today']]"
      ]
     },
     "execution_count": 11,
     "metadata": {},
     "output_type": "execute_result"
    }
   ],
   "source": [
    "corpus = [[x for x in doc if x not in string.punctuation] for doc in corpus]\n",
    "corpus"
   ]
  },
  {
   "cell_type": "code",
   "execution_count": 12,
   "metadata": {},
   "outputs": [
    {
     "data": {
      "text/plain": [
       "20"
      ]
     },
     "execution_count": 12,
     "metadata": {},
     "output_type": "execute_result"
    }
   ],
   "source": [
    "len(get_vocab(corpus))"
   ]
  },
  {
   "cell_type": "markdown",
   "metadata": {},
   "source": [
    "### Drop Stop Words"
   ]
  },
  {
   "cell_type": "code",
   "execution_count": 13,
   "metadata": {},
   "outputs": [
    {
     "name": "stdout",
     "output_type": "stream",
     "text": [
      "{'were', 'needn', 'having', 'such', 'haven', 'from', 'only', 'than', 'both', 'just', 'aren', 'after', 'ourselves', 'you', 'in', 'all', 'shan', 'yourself', \"shan't\", 'nor', 'y', 'of', \"she's\", 'weren', 'had', 'can', 'each', 'ours', \"you're\", 'them', 'm', 'mightn', 'why', \"that'll\", 'through', \"needn't\", 'hers', 'a', 'shouldn', 'wasn', 'some', 'are', 'because', \"didn't\", 'ain', 'the', 'while', 'won', 'then', 'theirs', 'been', 'has', 'under', 'more', \"couldn't\", 'if', 'against', 'how', \"shouldn't\", 'be', 'have', \"you'll\", 'themselves', 'am', \"aren't\", 'now', 'any', \"you've\", 'own', 'do', 'they', 'he', 'o', 'she', \"mightn't\", 'into', 'yourselves', \"haven't\", \"isn't\", 'once', 'me', 'out', 'again', 'those', 'this', 'when', 'as', 'too', 'hadn', 't', 'what', 'll', \"hasn't\", 'd', 'up', \"weren't\", 'its', 'no', 'who', 'and', \"mustn't\", 'but', \"doesn't\", \"don't\", 'to', 'during', 've', 'couldn', 'will', 'itself', 'her', 'there', 'was', 's', \"hadn't\", 'ma', 'about', 'him', 'very', 'here', 'my', 'for', 'didn', 'before', 'hasn', 'we', 'down', 'mustn', 'off', 'their', 're', 'other', 'or', 'until', 'it', \"you'd\", \"won't\", 'being', 'which', 'same', \"should've\", 'does', 'don', 'that', 'not', 'myself', 'himself', 'yours', \"it's\", 'his', 'where', 'did', \"wasn't\", 'wouldn', 'so', 'these', 'our', 'above', 'most', 'over', 'between', 'should', 'few', \"wouldn't\", 'below', 'your', 'doesn', 'isn', 'with', 'on', 'whom', 'is', 'herself', 'further', 'i', 'doing', 'at', 'by', 'an'}\n"
     ]
    }
   ],
   "source": [
    "stops = set(nltk.corpus.stopwords.words('english'))\n",
    "print( stops )"
   ]
  },
  {
   "cell_type": "code",
   "execution_count": 14,
   "metadata": {},
   "outputs": [
    {
     "data": {
      "text/plain": [
       "[['ride', 'bikes', 'every', 'day'],\n",
       " ['bike', 'wolves', 'like', 'ride', 'bikes'],\n",
       " [\"'outta\", 'way', 'shouted', 'bike', 'wolf'],\n",
       " ['dow', 'dropped', '1000', 'points', 'today']]"
      ]
     },
     "execution_count": 14,
     "metadata": {},
     "output_type": "execute_result"
    }
   ],
   "source": [
    "corpus = [[x for x in doc if x not in stops] for doc in corpus]\n",
    "corpus"
   ]
  },
  {
   "cell_type": "code",
   "execution_count": 15,
   "metadata": {},
   "outputs": [
    {
     "data": {
      "text/plain": [
       "16"
      ]
     },
     "execution_count": 15,
     "metadata": {},
     "output_type": "execute_result"
    }
   ],
   "source": [
    "len(get_vocab(corpus))"
   ]
  },
  {
   "cell_type": "markdown",
   "metadata": {},
   "source": [
    "### Find word stems (or lemmas)"
   ]
  },
  {
   "cell_type": "markdown",
   "metadata": {},
   "source": [
    "A stemmer finds the word **stem**, which doesn't necessarily need to be a real word."
   ]
  },
  {
   "cell_type": "code",
   "execution_count": 16,
   "metadata": {},
   "outputs": [
    {
     "data": {
      "text/plain": [
       "'is'"
      ]
     },
     "execution_count": 16,
     "metadata": {},
     "output_type": "execute_result"
    }
   ],
   "source": [
    "SnowballStemmer(language=\"english\").stemmer.stem(\"is\")"
   ]
  },
  {
   "cell_type": "markdown",
   "metadata": {},
   "source": [
    "A lemmatizer finds a word's **lemma**, which is a real word."
   ]
  },
  {
   "cell_type": "code",
   "execution_count": 17,
   "metadata": {},
   "outputs": [
    {
     "data": {
      "text/plain": [
       "'be'"
      ]
     },
     "execution_count": 17,
     "metadata": {},
     "output_type": "execute_result"
    }
   ],
   "source": [
    "WordNetLemmatizer().lemmatize(\"be\")"
   ]
  },
  {
   "cell_type": "code",
   "execution_count": 18,
   "metadata": {},
   "outputs": [
    {
     "data": {
      "text/plain": [
       "[['ride', 'bike', 'every', 'day'],\n",
       " ['bike', 'wolf', 'like', 'ride', 'bike'],\n",
       " [\"'outta\", 'way', 'shouted', 'bike', 'wolf'],\n",
       " ['dow', 'dropped', '1000', 'point', 'today']]"
      ]
     },
     "execution_count": 18,
     "metadata": {},
     "output_type": "execute_result"
    }
   ],
   "source": [
    "stemmer = WordNetLemmatizer()\n",
    "corpus = [[stemmer.lemmatize(x) for x in word] for word in corpus]\n",
    "corpus"
   ]
  },
  {
   "cell_type": "code",
   "execution_count": 19,
   "metadata": {},
   "outputs": [
    {
     "data": {
      "text/plain": [
       "14"
      ]
     },
     "execution_count": 19,
     "metadata": {},
     "output_type": "execute_result"
    }
   ],
   "source": [
    "len(get_vocab(corpus))"
   ]
  },
  {
   "cell_type": "markdown",
   "metadata": {},
   "source": [
    "## Count Vectorization Revisited"
   ]
  },
  {
   "cell_type": "code",
   "execution_count": 20,
   "metadata": {},
   "outputs": [
    {
     "name": "stdout",
     "output_type": "stream",
     "text": [
      "[\"'outta\", '1000', 'bike', 'day', 'dow', 'dropped', 'every', 'like', 'point', 'ride', 'shouted', 'today', 'way', 'wolf']\n"
     ]
    }
   ],
   "source": [
    "vocab = get_vocab(corpus)\n",
    "print( vocab )"
   ]
  },
  {
   "cell_type": "code",
   "execution_count": 21,
   "metadata": {},
   "outputs": [],
   "source": [
    "m = len(corpus)\n",
    "n = len(vocab)\n",
    "X = np.zeros((m, n), dtype=int)\n",
    "\n",
    "for i, doc_words in enumerate( corpus ):\n",
    "    c = Counter(doc_words)\n",
    "    X[ i, [vocab.index(w) for w in c.keys()] ] = list(c.values())"
   ]
  },
  {
   "cell_type": "code",
   "execution_count": 22,
   "metadata": {},
   "outputs": [
    {
     "data": {
      "text/html": [
       "<div>\n",
       "<style scoped>\n",
       "    .dataframe tbody tr th:only-of-type {\n",
       "        vertical-align: middle;\n",
       "    }\n",
       "\n",
       "    .dataframe tbody tr th {\n",
       "        vertical-align: top;\n",
       "    }\n",
       "\n",
       "    .dataframe thead th {\n",
       "        text-align: right;\n",
       "    }\n",
       "</style>\n",
       "<table border=\"1\" class=\"dataframe\">\n",
       "  <thead>\n",
       "    <tr style=\"text-align: right;\">\n",
       "      <th></th>\n",
       "      <th>'outta</th>\n",
       "      <th>1000</th>\n",
       "      <th>bike</th>\n",
       "      <th>day</th>\n",
       "      <th>dow</th>\n",
       "      <th>dropped</th>\n",
       "      <th>every</th>\n",
       "      <th>like</th>\n",
       "      <th>point</th>\n",
       "      <th>ride</th>\n",
       "      <th>shouted</th>\n",
       "      <th>today</th>\n",
       "      <th>way</th>\n",
       "      <th>wolf</th>\n",
       "    </tr>\n",
       "  </thead>\n",
       "  <tbody>\n",
       "    <tr>\n",
       "      <th>0</th>\n",
       "      <td>0</td>\n",
       "      <td>0</td>\n",
       "      <td>1</td>\n",
       "      <td>1</td>\n",
       "      <td>0</td>\n",
       "      <td>0</td>\n",
       "      <td>1</td>\n",
       "      <td>0</td>\n",
       "      <td>0</td>\n",
       "      <td>1</td>\n",
       "      <td>0</td>\n",
       "      <td>0</td>\n",
       "      <td>0</td>\n",
       "      <td>0</td>\n",
       "    </tr>\n",
       "    <tr>\n",
       "      <th>1</th>\n",
       "      <td>0</td>\n",
       "      <td>0</td>\n",
       "      <td>2</td>\n",
       "      <td>0</td>\n",
       "      <td>0</td>\n",
       "      <td>0</td>\n",
       "      <td>0</td>\n",
       "      <td>1</td>\n",
       "      <td>0</td>\n",
       "      <td>1</td>\n",
       "      <td>0</td>\n",
       "      <td>0</td>\n",
       "      <td>0</td>\n",
       "      <td>1</td>\n",
       "    </tr>\n",
       "    <tr>\n",
       "      <th>2</th>\n",
       "      <td>1</td>\n",
       "      <td>0</td>\n",
       "      <td>1</td>\n",
       "      <td>0</td>\n",
       "      <td>0</td>\n",
       "      <td>0</td>\n",
       "      <td>0</td>\n",
       "      <td>0</td>\n",
       "      <td>0</td>\n",
       "      <td>0</td>\n",
       "      <td>1</td>\n",
       "      <td>0</td>\n",
       "      <td>1</td>\n",
       "      <td>1</td>\n",
       "    </tr>\n",
       "    <tr>\n",
       "      <th>3</th>\n",
       "      <td>0</td>\n",
       "      <td>1</td>\n",
       "      <td>0</td>\n",
       "      <td>0</td>\n",
       "      <td>1</td>\n",
       "      <td>1</td>\n",
       "      <td>0</td>\n",
       "      <td>0</td>\n",
       "      <td>1</td>\n",
       "      <td>0</td>\n",
       "      <td>0</td>\n",
       "      <td>1</td>\n",
       "      <td>0</td>\n",
       "      <td>0</td>\n",
       "    </tr>\n",
       "  </tbody>\n",
       "</table>\n",
       "</div>"
      ],
      "text/plain": [
       "   'outta  1000  bike  day  dow  dropped  every  like  point  ride  shouted  \\\n",
       "0       0     0     1    1    0        0      1     0      0     1        0   \n",
       "1       0     0     2    0    0        0      0     1      0     1        0   \n",
       "2       1     0     1    0    0        0      0     0      0     0        1   \n",
       "3       0     1     0    0    1        1      0     0      1     0        0   \n",
       "\n",
       "   today  way  wolf  \n",
       "0      0    0     0  \n",
       "1      0    0     1  \n",
       "2      0    1     1  \n",
       "3      1    0     0  "
      ]
     },
     "execution_count": 22,
     "metadata": {},
     "output_type": "execute_result"
    }
   ],
   "source": [
    "Xdf = pd.DataFrame( X, columns=vocab )\n",
    "Xdf"
   ]
  },
  {
   "cell_type": "markdown",
   "metadata": {
    "slideshow": {
     "slide_type": "slide"
    }
   },
   "source": [
    "## Term frequency\n",
    "\n",
    "Word's share **within the document**.\n",
    "\n",
    "$$TF_{word,document} = \\frac{\\#\\_of\\_times\\_word\\_appears\\_in\\_document}{total\\_\\#\\_of\\_words\\_in\\_document}$$"
   ]
  },
  {
   "cell_type": "markdown",
   "metadata": {},
   "source": [
    "First, find the total count of terms in each document."
   ]
  },
  {
   "cell_type": "code",
   "execution_count": 23,
   "metadata": {},
   "outputs": [
    {
     "data": {
      "text/html": [
       "<div>\n",
       "<style scoped>\n",
       "    .dataframe tbody tr th:only-of-type {\n",
       "        vertical-align: middle;\n",
       "    }\n",
       "\n",
       "    .dataframe tbody tr th {\n",
       "        vertical-align: top;\n",
       "    }\n",
       "\n",
       "    .dataframe thead th {\n",
       "        text-align: right;\n",
       "    }\n",
       "</style>\n",
       "<table border=\"1\" class=\"dataframe\">\n",
       "  <thead>\n",
       "    <tr style=\"text-align: right;\">\n",
       "      <th></th>\n",
       "      <th>'outta</th>\n",
       "      <th>1000</th>\n",
       "      <th>bike</th>\n",
       "      <th>day</th>\n",
       "      <th>dow</th>\n",
       "      <th>dropped</th>\n",
       "      <th>every</th>\n",
       "      <th>like</th>\n",
       "      <th>point</th>\n",
       "      <th>ride</th>\n",
       "      <th>shouted</th>\n",
       "      <th>today</th>\n",
       "      <th>way</th>\n",
       "      <th>wolf</th>\n",
       "    </tr>\n",
       "  </thead>\n",
       "  <tbody>\n",
       "    <tr>\n",
       "      <th>0</th>\n",
       "      <td>0</td>\n",
       "      <td>0</td>\n",
       "      <td>1</td>\n",
       "      <td>1</td>\n",
       "      <td>0</td>\n",
       "      <td>0</td>\n",
       "      <td>1</td>\n",
       "      <td>0</td>\n",
       "      <td>0</td>\n",
       "      <td>1</td>\n",
       "      <td>0</td>\n",
       "      <td>0</td>\n",
       "      <td>0</td>\n",
       "      <td>0</td>\n",
       "    </tr>\n",
       "    <tr>\n",
       "      <th>1</th>\n",
       "      <td>0</td>\n",
       "      <td>0</td>\n",
       "      <td>2</td>\n",
       "      <td>0</td>\n",
       "      <td>0</td>\n",
       "      <td>0</td>\n",
       "      <td>0</td>\n",
       "      <td>1</td>\n",
       "      <td>0</td>\n",
       "      <td>1</td>\n",
       "      <td>0</td>\n",
       "      <td>0</td>\n",
       "      <td>0</td>\n",
       "      <td>1</td>\n",
       "    </tr>\n",
       "    <tr>\n",
       "      <th>2</th>\n",
       "      <td>1</td>\n",
       "      <td>0</td>\n",
       "      <td>1</td>\n",
       "      <td>0</td>\n",
       "      <td>0</td>\n",
       "      <td>0</td>\n",
       "      <td>0</td>\n",
       "      <td>0</td>\n",
       "      <td>0</td>\n",
       "      <td>0</td>\n",
       "      <td>1</td>\n",
       "      <td>0</td>\n",
       "      <td>1</td>\n",
       "      <td>1</td>\n",
       "    </tr>\n",
       "    <tr>\n",
       "      <th>3</th>\n",
       "      <td>0</td>\n",
       "      <td>1</td>\n",
       "      <td>0</td>\n",
       "      <td>0</td>\n",
       "      <td>1</td>\n",
       "      <td>1</td>\n",
       "      <td>0</td>\n",
       "      <td>0</td>\n",
       "      <td>1</td>\n",
       "      <td>0</td>\n",
       "      <td>0</td>\n",
       "      <td>1</td>\n",
       "      <td>0</td>\n",
       "      <td>0</td>\n",
       "    </tr>\n",
       "  </tbody>\n",
       "</table>\n",
       "</div>"
      ],
      "text/plain": [
       "   'outta  1000  bike  day  dow  dropped  every  like  point  ride  shouted  \\\n",
       "0       0     0     1    1    0        0      1     0      0     1        0   \n",
       "1       0     0     2    0    0        0      0     1      0     1        0   \n",
       "2       1     0     1    0    0        0      0     0      0     0        1   \n",
       "3       0     1     0    0    1        1      0     0      1     0        0   \n",
       "\n",
       "   today  way  wolf  \n",
       "0      0    0     0  \n",
       "1      0    0     1  \n",
       "2      0    1     1  \n",
       "3      1    0     0  "
      ]
     },
     "execution_count": 23,
     "metadata": {},
     "output_type": "execute_result"
    }
   ],
   "source": [
    "Xdf"
   ]
  },
  {
   "cell_type": "code",
   "execution_count": 24,
   "metadata": {},
   "outputs": [
    {
     "data": {
      "text/plain": [
       "0    4\n",
       "1    5\n",
       "2    5\n",
       "3    5\n",
       "dtype: int64"
      ]
     },
     "execution_count": 24,
     "metadata": {},
     "output_type": "execute_result"
    }
   ],
   "source": [
    "n_terms = Xdf.sum(axis=1)\n",
    "n_terms"
   ]
  },
  {
   "cell_type": "markdown",
   "metadata": {},
   "source": [
    "Normalize every term count by the total term count for that document."
   ]
  },
  {
   "cell_type": "code",
   "execution_count": 25,
   "metadata": {},
   "outputs": [
    {
     "data": {
      "text/html": [
       "<div>\n",
       "<style scoped>\n",
       "    .dataframe tbody tr th:only-of-type {\n",
       "        vertical-align: middle;\n",
       "    }\n",
       "\n",
       "    .dataframe tbody tr th {\n",
       "        vertical-align: top;\n",
       "    }\n",
       "\n",
       "    .dataframe thead th {\n",
       "        text-align: right;\n",
       "    }\n",
       "</style>\n",
       "<table border=\"1\" class=\"dataframe\">\n",
       "  <thead>\n",
       "    <tr style=\"text-align: right;\">\n",
       "      <th></th>\n",
       "      <th>'outta</th>\n",
       "      <th>1000</th>\n",
       "      <th>bike</th>\n",
       "      <th>day</th>\n",
       "      <th>dow</th>\n",
       "      <th>dropped</th>\n",
       "      <th>every</th>\n",
       "      <th>like</th>\n",
       "      <th>point</th>\n",
       "      <th>ride</th>\n",
       "      <th>shouted</th>\n",
       "      <th>today</th>\n",
       "      <th>way</th>\n",
       "      <th>wolf</th>\n",
       "    </tr>\n",
       "  </thead>\n",
       "  <tbody>\n",
       "    <tr>\n",
       "      <th>0</th>\n",
       "      <td>0</td>\n",
       "      <td>0</td>\n",
       "      <td>1/4</td>\n",
       "      <td>1/4</td>\n",
       "      <td>0</td>\n",
       "      <td>0</td>\n",
       "      <td>1/4</td>\n",
       "      <td>0</td>\n",
       "      <td>0</td>\n",
       "      <td>1/4</td>\n",
       "      <td>0</td>\n",
       "      <td>0</td>\n",
       "      <td>0</td>\n",
       "      <td>0</td>\n",
       "    </tr>\n",
       "    <tr>\n",
       "      <th>1</th>\n",
       "      <td>0</td>\n",
       "      <td>0</td>\n",
       "      <td>2/5</td>\n",
       "      <td>0</td>\n",
       "      <td>0</td>\n",
       "      <td>0</td>\n",
       "      <td>0</td>\n",
       "      <td>1/5</td>\n",
       "      <td>0</td>\n",
       "      <td>1/5</td>\n",
       "      <td>0</td>\n",
       "      <td>0</td>\n",
       "      <td>0</td>\n",
       "      <td>1/5</td>\n",
       "    </tr>\n",
       "    <tr>\n",
       "      <th>2</th>\n",
       "      <td>1/5</td>\n",
       "      <td>0</td>\n",
       "      <td>1/5</td>\n",
       "      <td>0</td>\n",
       "      <td>0</td>\n",
       "      <td>0</td>\n",
       "      <td>0</td>\n",
       "      <td>0</td>\n",
       "      <td>0</td>\n",
       "      <td>0</td>\n",
       "      <td>1/5</td>\n",
       "      <td>0</td>\n",
       "      <td>1/5</td>\n",
       "      <td>1/5</td>\n",
       "    </tr>\n",
       "    <tr>\n",
       "      <th>3</th>\n",
       "      <td>0</td>\n",
       "      <td>1/5</td>\n",
       "      <td>0</td>\n",
       "      <td>0</td>\n",
       "      <td>1/5</td>\n",
       "      <td>1/5</td>\n",
       "      <td>0</td>\n",
       "      <td>0</td>\n",
       "      <td>1/5</td>\n",
       "      <td>0</td>\n",
       "      <td>0</td>\n",
       "      <td>1/5</td>\n",
       "      <td>0</td>\n",
       "      <td>0</td>\n",
       "    </tr>\n",
       "  </tbody>\n",
       "</table>\n",
       "</div>"
      ],
      "text/plain": [
       "  'outta 1000 bike  day  dow dropped every like point ride shouted today  way  \\\n",
       "0      0    0  1/4  1/4    0       0   1/4    0     0  1/4       0     0    0   \n",
       "1      0    0  2/5    0    0       0     0  1/5     0  1/5       0     0    0   \n",
       "2    1/5    0  1/5    0    0       0     0    0     0    0     1/5     0  1/5   \n",
       "3      0  1/5    0    0  1/5     1/5     0    0   1/5    0       0   1/5    0   \n",
       "\n",
       "  wolf  \n",
       "0    0  \n",
       "1  1/5  \n",
       "2  1/5  \n",
       "3    0  "
      ]
     },
     "execution_count": 25,
     "metadata": {},
     "output_type": "execute_result"
    }
   ],
   "source": [
    "tfdf = Xdf.apply( lambda col: [Fraction(a,b) for a,b in zip(col,n_terms)], axis=0 )\n",
    "tfdf"
   ]
  },
  {
   "cell_type": "code",
   "execution_count": 26,
   "metadata": {},
   "outputs": [
    {
     "data": {
      "text/plain": [
       "array([[0.  , 0.  , 0.25, 0.25, 0.  , 0.  , 0.25, 0.  , 0.  , 0.25, 0.  ,\n",
       "        0.  , 0.  , 0.  ],\n",
       "       [0.  , 0.  , 0.4 , 0.  , 0.  , 0.  , 0.  , 0.2 , 0.  , 0.2 , 0.  ,\n",
       "        0.  , 0.  , 0.2 ],\n",
       "       [0.2 , 0.  , 0.2 , 0.  , 0.  , 0.  , 0.  , 0.  , 0.  , 0.  , 0.2 ,\n",
       "        0.  , 0.2 , 0.2 ],\n",
       "       [0.  , 0.2 , 0.  , 0.  , 0.2 , 0.2 , 0.  , 0.  , 0.2 , 0.  , 0.  ,\n",
       "        0.2 , 0.  , 0.  ]])"
      ]
     },
     "execution_count": 26,
     "metadata": {},
     "output_type": "execute_result"
    }
   ],
   "source": [
    "# NOTE NOTE above is for demonstration purposes only. A numpy operation makes more sense in practice:\n",
    "N_col_vec = X.sum(axis=1).reshape(-1,1)\n",
    "tf = X / N_col_vec\n",
    "tf"
   ]
  },
  {
   "cell_type": "markdown",
   "metadata": {
    "slideshow": {
     "slide_type": "slide"
    }
   },
   "source": [
    "## Document frequency\n",
    "\n",
    "Document Frequency is an expression of a term's prevalence **in the corpus**.\n",
    "\n",
    "$$ DF_{word} = \\frac{\\#\\_of\\_documents\\_containing\\_word}{total\\_\\#\\_of\\_documents} $$"
   ]
  },
  {
   "cell_type": "markdown",
   "metadata": {},
   "source": [
    "First, make a matrix where $x_{ij}$ is whether document $i$ contains term $j$."
   ]
  },
  {
   "cell_type": "code",
   "execution_count": 27,
   "metadata": {},
   "outputs": [
    {
     "data": {
      "text/html": [
       "<div>\n",
       "<style scoped>\n",
       "    .dataframe tbody tr th:only-of-type {\n",
       "        vertical-align: middle;\n",
       "    }\n",
       "\n",
       "    .dataframe tbody tr th {\n",
       "        vertical-align: top;\n",
       "    }\n",
       "\n",
       "    .dataframe thead th {\n",
       "        text-align: right;\n",
       "    }\n",
       "</style>\n",
       "<table border=\"1\" class=\"dataframe\">\n",
       "  <thead>\n",
       "    <tr style=\"text-align: right;\">\n",
       "      <th></th>\n",
       "      <th>'outta</th>\n",
       "      <th>1000</th>\n",
       "      <th>bike</th>\n",
       "      <th>day</th>\n",
       "      <th>dow</th>\n",
       "      <th>dropped</th>\n",
       "      <th>every</th>\n",
       "      <th>like</th>\n",
       "      <th>point</th>\n",
       "      <th>ride</th>\n",
       "      <th>shouted</th>\n",
       "      <th>today</th>\n",
       "      <th>way</th>\n",
       "      <th>wolf</th>\n",
       "    </tr>\n",
       "  </thead>\n",
       "  <tbody>\n",
       "    <tr>\n",
       "      <th>0</th>\n",
       "      <td>0</td>\n",
       "      <td>0</td>\n",
       "      <td>1</td>\n",
       "      <td>1</td>\n",
       "      <td>0</td>\n",
       "      <td>0</td>\n",
       "      <td>1</td>\n",
       "      <td>0</td>\n",
       "      <td>0</td>\n",
       "      <td>1</td>\n",
       "      <td>0</td>\n",
       "      <td>0</td>\n",
       "      <td>0</td>\n",
       "      <td>0</td>\n",
       "    </tr>\n",
       "    <tr>\n",
       "      <th>1</th>\n",
       "      <td>0</td>\n",
       "      <td>0</td>\n",
       "      <td>1</td>\n",
       "      <td>0</td>\n",
       "      <td>0</td>\n",
       "      <td>0</td>\n",
       "      <td>0</td>\n",
       "      <td>1</td>\n",
       "      <td>0</td>\n",
       "      <td>1</td>\n",
       "      <td>0</td>\n",
       "      <td>0</td>\n",
       "      <td>0</td>\n",
       "      <td>1</td>\n",
       "    </tr>\n",
       "    <tr>\n",
       "      <th>2</th>\n",
       "      <td>1</td>\n",
       "      <td>0</td>\n",
       "      <td>1</td>\n",
       "      <td>0</td>\n",
       "      <td>0</td>\n",
       "      <td>0</td>\n",
       "      <td>0</td>\n",
       "      <td>0</td>\n",
       "      <td>0</td>\n",
       "      <td>0</td>\n",
       "      <td>1</td>\n",
       "      <td>0</td>\n",
       "      <td>1</td>\n",
       "      <td>1</td>\n",
       "    </tr>\n",
       "    <tr>\n",
       "      <th>3</th>\n",
       "      <td>0</td>\n",
       "      <td>1</td>\n",
       "      <td>0</td>\n",
       "      <td>0</td>\n",
       "      <td>1</td>\n",
       "      <td>1</td>\n",
       "      <td>0</td>\n",
       "      <td>0</td>\n",
       "      <td>1</td>\n",
       "      <td>0</td>\n",
       "      <td>0</td>\n",
       "      <td>1</td>\n",
       "      <td>0</td>\n",
       "      <td>0</td>\n",
       "    </tr>\n",
       "  </tbody>\n",
       "</table>\n",
       "</div>"
      ],
      "text/plain": [
       "   'outta  1000  bike  day  dow  dropped  every  like  point  ride  shouted  \\\n",
       "0       0     0     1    1    0        0      1     0      0     1        0   \n",
       "1       0     0     1    0    0        0      0     1      0     1        0   \n",
       "2       1     0     1    0    0        0      0     0      0     0        1   \n",
       "3       0     1     0    0    1        1      0     0      1     0        0   \n",
       "\n",
       "   today  way  wolf  \n",
       "0      0    0     0  \n",
       "1      0    0     1  \n",
       "2      0    1     1  \n",
       "3      1    0     0  "
      ]
     },
     "execution_count": 27,
     "metadata": {},
     "output_type": "execute_result"
    }
   ],
   "source": [
    "term_appearance = (Xdf>0).astype(int)\n",
    "term_appearance"
   ]
  },
  {
   "cell_type": "code",
   "execution_count": 28,
   "metadata": {},
   "outputs": [
    {
     "data": {
      "text/plain": [
       "'outta     1\n",
       "1000       1\n",
       "bike       3\n",
       "day        1\n",
       "dow        1\n",
       "dropped    1\n",
       "every      1\n",
       "like       1\n",
       "point      1\n",
       "ride       2\n",
       "shouted    1\n",
       "today      1\n",
       "way        1\n",
       "wolf       2\n",
       "dtype: int64"
      ]
     },
     "execution_count": 28,
     "metadata": {},
     "output_type": "execute_result"
    }
   ],
   "source": [
    "document_appearance = term_appearance.sum(axis=0)\n",
    "document_appearance"
   ]
  },
  {
   "cell_type": "code",
   "execution_count": 29,
   "metadata": {},
   "outputs": [
    {
     "data": {
      "text/plain": [
       "'outta     1/4\n",
       "1000       1/4\n",
       "bike       3/4\n",
       "day        1/4\n",
       "dow        1/4\n",
       "dropped    1/4\n",
       "every      1/4\n",
       "like       1/4\n",
       "point      1/4\n",
       "ride       1/2\n",
       "shouted    1/4\n",
       "today      1/4\n",
       "way        1/4\n",
       "wolf       1/2\n",
       "dtype: object"
      ]
     },
     "execution_count": 29,
     "metadata": {},
     "output_type": "execute_result"
    }
   ],
   "source": [
    "Xdfdf = document_appearance.map( lambda x: Fraction(x,len(corpus)) )\n",
    "Xdfdf"
   ]
  },
  {
   "cell_type": "markdown",
   "metadata": {},
   "source": [
    "Again, in practice a numpy operation makes more sense."
   ]
  },
  {
   "cell_type": "code",
   "execution_count": 30,
   "metadata": {},
   "outputs": [
    {
     "data": {
      "text/plain": [
       "array([0.25, 0.25, 0.75, 0.25, 0.25, 0.25, 0.25, 0.25, 0.25, 0.5 , 0.25,\n",
       "       0.25, 0.25, 0.5 ])"
      ]
     },
     "execution_count": 30,
     "metadata": {},
     "output_type": "execute_result"
    }
   ],
   "source": [
    "df = (X>0).sum(axis=0)/X.shape[0]\n",
    "df"
   ]
  },
  {
   "cell_type": "markdown",
   "metadata": {
    "slideshow": {
     "slide_type": "slide"
    }
   },
   "source": [
    "## Inverse document frequency\n",
    "\n",
    "Inverse document frequency is a corpus-dependent measure of the importance of a word to a document. \n",
    "\n",
    "IDF encodes the intuition that less common words are more meaningful _to a single document_. For example, the word \"grok\" is very rare, so if you find it in a book, you can assume it is important to that book.\n",
    "\n",
    "$$ IDF_{word} = \\log\\left(\\frac{total\\_\\#\\_of\\_documents}{\\#\\_of\\_documents\\_containing\\_word}\\right) $$"
   ]
  },
  {
   "cell_type": "code",
   "execution_count": 31,
   "metadata": {},
   "outputs": [
    {
     "data": {
      "text/plain": [
       "'outta     1.386294\n",
       "1000       1.386294\n",
       "bike       0.287682\n",
       "day        1.386294\n",
       "dow        1.386294\n",
       "dropped    1.386294\n",
       "every      1.386294\n",
       "like       1.386294\n",
       "point      1.386294\n",
       "ride       0.693147\n",
       "shouted    1.386294\n",
       "today      1.386294\n",
       "way        1.386294\n",
       "wolf       0.693147\n",
       "dtype: float64"
      ]
     },
     "execution_count": 31,
     "metadata": {},
     "output_type": "execute_result"
    }
   ],
   "source": [
    "idfdf = np.log( (1/Xdfdf).map( float ) )\n",
    "idfdf"
   ]
  },
  {
   "cell_type": "markdown",
   "metadata": {},
   "source": [
    "In numpy:"
   ]
  },
  {
   "cell_type": "code",
   "execution_count": 32,
   "metadata": {},
   "outputs": [
    {
     "data": {
      "text/plain": [
       "array([1.38629436, 1.38629436, 0.28768207, 1.38629436, 1.38629436,\n",
       "       1.38629436, 1.38629436, 1.38629436, 1.38629436, 0.69314718,\n",
       "       1.38629436, 1.38629436, 1.38629436, 0.69314718])"
      ]
     },
     "execution_count": 32,
     "metadata": {},
     "output_type": "execute_result"
    }
   ],
   "source": [
    "idf = np.log(1/df)\n",
    "idf"
   ]
  },
  {
   "cell_type": "markdown",
   "metadata": {
    "slideshow": {
     "slide_type": "slide"
    }
   },
   "source": [
    "# TFIDF\n",
    "\n",
    "So, we have a matrix of per-document term frequencies:"
   ]
  },
  {
   "cell_type": "code",
   "execution_count": 33,
   "metadata": {},
   "outputs": [
    {
     "data": {
      "text/html": [
       "<div>\n",
       "<style scoped>\n",
       "    .dataframe tbody tr th:only-of-type {\n",
       "        vertical-align: middle;\n",
       "    }\n",
       "\n",
       "    .dataframe tbody tr th {\n",
       "        vertical-align: top;\n",
       "    }\n",
       "\n",
       "    .dataframe thead th {\n",
       "        text-align: right;\n",
       "    }\n",
       "</style>\n",
       "<table border=\"1\" class=\"dataframe\">\n",
       "  <thead>\n",
       "    <tr style=\"text-align: right;\">\n",
       "      <th></th>\n",
       "      <th>'outta</th>\n",
       "      <th>1000</th>\n",
       "      <th>bike</th>\n",
       "      <th>day</th>\n",
       "      <th>dow</th>\n",
       "      <th>dropped</th>\n",
       "      <th>every</th>\n",
       "      <th>like</th>\n",
       "      <th>point</th>\n",
       "      <th>ride</th>\n",
       "      <th>shouted</th>\n",
       "      <th>today</th>\n",
       "      <th>way</th>\n",
       "      <th>wolf</th>\n",
       "    </tr>\n",
       "  </thead>\n",
       "  <tbody>\n",
       "    <tr>\n",
       "      <th>0</th>\n",
       "      <td>0</td>\n",
       "      <td>0</td>\n",
       "      <td>1/4</td>\n",
       "      <td>1/4</td>\n",
       "      <td>0</td>\n",
       "      <td>0</td>\n",
       "      <td>1/4</td>\n",
       "      <td>0</td>\n",
       "      <td>0</td>\n",
       "      <td>1/4</td>\n",
       "      <td>0</td>\n",
       "      <td>0</td>\n",
       "      <td>0</td>\n",
       "      <td>0</td>\n",
       "    </tr>\n",
       "    <tr>\n",
       "      <th>1</th>\n",
       "      <td>0</td>\n",
       "      <td>0</td>\n",
       "      <td>2/5</td>\n",
       "      <td>0</td>\n",
       "      <td>0</td>\n",
       "      <td>0</td>\n",
       "      <td>0</td>\n",
       "      <td>1/5</td>\n",
       "      <td>0</td>\n",
       "      <td>1/5</td>\n",
       "      <td>0</td>\n",
       "      <td>0</td>\n",
       "      <td>0</td>\n",
       "      <td>1/5</td>\n",
       "    </tr>\n",
       "    <tr>\n",
       "      <th>2</th>\n",
       "      <td>1/5</td>\n",
       "      <td>0</td>\n",
       "      <td>1/5</td>\n",
       "      <td>0</td>\n",
       "      <td>0</td>\n",
       "      <td>0</td>\n",
       "      <td>0</td>\n",
       "      <td>0</td>\n",
       "      <td>0</td>\n",
       "      <td>0</td>\n",
       "      <td>1/5</td>\n",
       "      <td>0</td>\n",
       "      <td>1/5</td>\n",
       "      <td>1/5</td>\n",
       "    </tr>\n",
       "    <tr>\n",
       "      <th>3</th>\n",
       "      <td>0</td>\n",
       "      <td>1/5</td>\n",
       "      <td>0</td>\n",
       "      <td>0</td>\n",
       "      <td>1/5</td>\n",
       "      <td>1/5</td>\n",
       "      <td>0</td>\n",
       "      <td>0</td>\n",
       "      <td>1/5</td>\n",
       "      <td>0</td>\n",
       "      <td>0</td>\n",
       "      <td>1/5</td>\n",
       "      <td>0</td>\n",
       "      <td>0</td>\n",
       "    </tr>\n",
       "  </tbody>\n",
       "</table>\n",
       "</div>"
      ],
      "text/plain": [
       "  'outta 1000 bike  day  dow dropped every like point ride shouted today  way  \\\n",
       "0      0    0  1/4  1/4    0       0   1/4    0     0  1/4       0     0    0   \n",
       "1      0    0  2/5    0    0       0     0  1/5     0  1/5       0     0    0   \n",
       "2    1/5    0  1/5    0    0       0     0    0     0    0     1/5     0  1/5   \n",
       "3      0  1/5    0    0  1/5     1/5     0    0   1/5    0       0   1/5    0   \n",
       "\n",
       "  wolf  \n",
       "0    0  \n",
       "1  1/5  \n",
       "2  1/5  \n",
       "3    0  "
      ]
     },
     "execution_count": 33,
     "metadata": {},
     "output_type": "execute_result"
    }
   ],
   "source": [
    "tfdf"
   ]
  },
  {
   "cell_type": "markdown",
   "metadata": {},
   "source": [
    "And we have a vector of the relative importance of terms."
   ]
  },
  {
   "cell_type": "code",
   "execution_count": 34,
   "metadata": {},
   "outputs": [
    {
     "data": {
      "text/plain": [
       "'outta     1.386294\n",
       "1000       1.386294\n",
       "bike       0.287682\n",
       "day        1.386294\n",
       "dow        1.386294\n",
       "dropped    1.386294\n",
       "every      1.386294\n",
       "like       1.386294\n",
       "point      1.386294\n",
       "ride       0.693147\n",
       "shouted    1.386294\n",
       "today      1.386294\n",
       "way        1.386294\n",
       "wolf       0.693147\n",
       "dtype: float64"
      ]
     },
     "execution_count": 34,
     "metadata": {},
     "output_type": "execute_result"
    }
   ],
   "source": [
    "idfdf"
   ]
  },
  {
   "cell_type": "code",
   "execution_count": 35,
   "metadata": {},
   "outputs": [
    {
     "data": {
      "text/html": [
       "<div>\n",
       "<style scoped>\n",
       "    .dataframe tbody tr th:only-of-type {\n",
       "        vertical-align: middle;\n",
       "    }\n",
       "\n",
       "    .dataframe tbody tr th {\n",
       "        vertical-align: top;\n",
       "    }\n",
       "\n",
       "    .dataframe thead th {\n",
       "        text-align: right;\n",
       "    }\n",
       "</style>\n",
       "<table border=\"1\" class=\"dataframe\">\n",
       "  <thead>\n",
       "    <tr style=\"text-align: right;\">\n",
       "      <th></th>\n",
       "      <th>'outta</th>\n",
       "      <th>1000</th>\n",
       "      <th>bike</th>\n",
       "      <th>day</th>\n",
       "      <th>dow</th>\n",
       "      <th>dropped</th>\n",
       "      <th>every</th>\n",
       "      <th>like</th>\n",
       "      <th>point</th>\n",
       "      <th>ride</th>\n",
       "      <th>shouted</th>\n",
       "      <th>today</th>\n",
       "      <th>way</th>\n",
       "      <th>wolf</th>\n",
       "    </tr>\n",
       "  </thead>\n",
       "  <tbody>\n",
       "    <tr>\n",
       "      <th>0</th>\n",
       "      <td>0</td>\n",
       "      <td>0</td>\n",
       "      <td>0.0719205</td>\n",
       "      <td>0.346574</td>\n",
       "      <td>0</td>\n",
       "      <td>0</td>\n",
       "      <td>0.346574</td>\n",
       "      <td>0</td>\n",
       "      <td>0</td>\n",
       "      <td>0.173287</td>\n",
       "      <td>0</td>\n",
       "      <td>0</td>\n",
       "      <td>0</td>\n",
       "      <td>0</td>\n",
       "    </tr>\n",
       "    <tr>\n",
       "      <th>1</th>\n",
       "      <td>0</td>\n",
       "      <td>0</td>\n",
       "      <td>0.115073</td>\n",
       "      <td>0</td>\n",
       "      <td>0</td>\n",
       "      <td>0</td>\n",
       "      <td>0</td>\n",
       "      <td>0.277259</td>\n",
       "      <td>0</td>\n",
       "      <td>0.138629</td>\n",
       "      <td>0</td>\n",
       "      <td>0</td>\n",
       "      <td>0</td>\n",
       "      <td>0.138629</td>\n",
       "    </tr>\n",
       "    <tr>\n",
       "      <th>2</th>\n",
       "      <td>0.277259</td>\n",
       "      <td>0</td>\n",
       "      <td>0.0575364</td>\n",
       "      <td>0</td>\n",
       "      <td>0</td>\n",
       "      <td>0</td>\n",
       "      <td>0</td>\n",
       "      <td>0</td>\n",
       "      <td>0</td>\n",
       "      <td>0</td>\n",
       "      <td>0.277259</td>\n",
       "      <td>0</td>\n",
       "      <td>0.277259</td>\n",
       "      <td>0.138629</td>\n",
       "    </tr>\n",
       "    <tr>\n",
       "      <th>3</th>\n",
       "      <td>0</td>\n",
       "      <td>0.277259</td>\n",
       "      <td>0</td>\n",
       "      <td>0</td>\n",
       "      <td>0.277259</td>\n",
       "      <td>0.277259</td>\n",
       "      <td>0</td>\n",
       "      <td>0</td>\n",
       "      <td>0.277259</td>\n",
       "      <td>0</td>\n",
       "      <td>0</td>\n",
       "      <td>0.277259</td>\n",
       "      <td>0</td>\n",
       "      <td>0</td>\n",
       "    </tr>\n",
       "  </tbody>\n",
       "</table>\n",
       "</div>"
      ],
      "text/plain": [
       "     'outta      1000       bike       day       dow   dropped     every  \\\n",
       "0         0         0  0.0719205  0.346574         0         0  0.346574   \n",
       "1         0         0   0.115073         0         0         0         0   \n",
       "2  0.277259         0  0.0575364         0         0         0         0   \n",
       "3         0  0.277259          0         0  0.277259  0.277259         0   \n",
       "\n",
       "       like     point      ride   shouted     today       way      wolf  \n",
       "0         0         0  0.173287         0         0         0         0  \n",
       "1  0.277259         0  0.138629         0         0         0  0.138629  \n",
       "2         0         0         0  0.277259         0  0.277259  0.138629  \n",
       "3         0  0.277259         0         0  0.277259         0         0  "
      ]
     },
     "execution_count": 35,
     "metadata": {},
     "output_type": "execute_result"
    }
   ],
   "source": [
    "tfidfdf = tfdf*idfdf\n",
    "tfidfdf"
   ]
  },
  {
   "cell_type": "markdown",
   "metadata": {
    "slideshow": {
     "slide_type": "slide"
    }
   },
   "source": [
    "Now that we have turned our DOCUMENTS into VECTORS, we can put them into whatever machine learning algorithm we want! We can use whatever kind of similarity measure we please!"
   ]
  },
  {
   "cell_type": "markdown",
   "metadata": {
    "slideshow": {
     "slide_type": "slide"
    }
   },
   "source": [
    "Wow!"
   ]
  },
  {
   "cell_type": "markdown",
   "metadata": {},
   "source": [
    "## Interpretation"
   ]
  },
  {
   "cell_type": "code",
   "execution_count": 36,
   "metadata": {},
   "outputs": [],
   "source": [
    "# normalize each tfidf row so that it's L2 norm is 1\n",
    "tfidf = tf*idf\n",
    "tfidf = (tfidf.T / np.linalg.norm(tfidf, axis=1)).T"
   ]
  },
  {
   "cell_type": "code",
   "execution_count": 37,
   "metadata": {},
   "outputs": [],
   "source": [
    "tfidf_normalize_df = pd.DataFrame( tfidf, columns=vocab )"
   ]
  },
  {
   "cell_type": "code",
   "execution_count": 38,
   "metadata": {},
   "outputs": [
    {
     "data": {
      "image/png": "[encoded data removed]",
      "text/plain": [
       "<Figure size 864x576 with 4 Axes>"
      ]
     },
     "metadata": {},
     "output_type": "display_data"
    }
   ],
   "source": [
    "fig, axs = plt.subplots(2,2, figsize=(12,8))\n",
    "for i in range(4):\n",
    "    ax = axs.ravel()[i]\n",
    "    ax.set_ylim(0,0.85)\n",
    "    ax.set_title(raw_docs[i])\n",
    "    tfidf_normalize_df.iloc[i].plot.bar(ax=ax)\n",
    "plt.tight_layout()"
   ]
  },
  {
   "cell_type": "markdown",
   "metadata": {},
   "source": [
    "## Cosine similarity"
   ]
  },
  {
   "cell_type": "markdown",
   "metadata": {},
   "source": [
    "The cosine similarity between two vectors is\n",
    "\n",
    "$$ \\frac{\\vec{u} \\cdot \\vec{v}}{||u||||v||} $$\n",
    "\n",
    "But when $u$ and $v$ have a norm of 1, then cosine similarity is the dot product $u \\cdot v$."
   ]
  },
  {
   "cell_type": "code",
   "execution_count": 40,
   "metadata": {},
   "outputs": [
    {
     "data": {
      "text/plain": [
       "array([0.        , 0.        , 0.1370406 , 0.66037695, 0.        ,\n",
       "       0.        , 0.66037695, 0.        , 0.        , 0.33018848,\n",
       "       0.        , 0.        , 0.        , 0.        ])"
      ]
     },
     "execution_count": 40,
     "metadata": {},
     "output_type": "execute_result"
    }
   ],
   "source": [
    "\"ride bikes every day\"\n",
    "a = tfidf[0]\n",
    "a"
   ]
  },
  {
   "cell_type": "code",
   "execution_count": 41,
   "metadata": {},
   "outputs": [
    {
     "data": {
      "text/plain": [
       "'Do bike wolves like to ride bikes?'"
      ]
     },
     "execution_count": 41,
     "metadata": {},
     "output_type": "execute_result"
    }
   ],
   "source": [
    "raw_docs[1]"
   ]
  },
  {
   "cell_type": "code",
   "execution_count": 42,
   "metadata": {},
   "outputs": [
    {
     "data": {
      "text/plain": [
       "array([0.        , 0.        , 0.32094894, 0.        , 0.        ,\n",
       "       0.        , 0.        , 0.77330105, 0.        , 0.38665053,\n",
       "       0.        , 0.        , 0.        , 0.38665053])"
      ]
     },
     "execution_count": 42,
     "metadata": {},
     "output_type": "execute_result"
    }
   ],
   "source": [
    "b = tfidf[1]\n",
    "b"
   ]
  },
  {
   "cell_type": "code",
   "execution_count": 44,
   "metadata": {},
   "outputs": [
    {
     "data": {
      "text/plain": [
       "0.17165058340668266"
      ]
     },
     "execution_count": 44,
     "metadata": {},
     "output_type": "execute_result"
    }
   ],
   "source": [
    "a.dot(b) / (np.linalg.norm(a)*np.linalg.norm(b))"
   ]
  },
  {
   "cell_type": "code",
   "execution_count": 38,
   "metadata": {},
   "outputs": [
    {
     "data": {
      "text/plain": [
       "0.17165058340668266"
      ]
     },
     "execution_count": 38,
     "metadata": {},
     "output_type": "execute_result"
    }
   ],
   "source": [
    "#tfidf was normaized above, so the cosine similarity between 0 and 1 is:\n",
    "\n",
    "#tfidf[0].dot( tfidf[1] )"
   ]
  },
  {
   "cell_type": "markdown",
   "metadata": {},
   "source": [
    "`sklearn.metrics.pairwise.cosine_similarity` will find a matrix of all pairwise cosine similarities."
   ]
  },
  {
   "cell_type": "code",
   "execution_count": 39,
   "metadata": {},
   "outputs": [],
   "source": [
    "cosim = cosine_similarity( tfidf, tfidf )"
   ]
  },
  {
   "cell_type": "code",
   "execution_count": 40,
   "metadata": {},
   "outputs": [],
   "source": [
    "cosim[ cosim>0.9999 ] = np.NAN"
   ]
  },
  {
   "cell_type": "code",
   "execution_count": 41,
   "metadata": {},
   "outputs": [
    {
     "data": {
      "text/plain": [
       "<matplotlib.axes._subplots.AxesSubplot at 0x1122767b8>"
      ]
     },
     "execution_count": 41,
     "metadata": {},
     "output_type": "execute_result"
    },
    {
     "data": {
      "image/png": "[encoded data removed]",
      "text/plain": [
       "<Figure size 720x576 with 2 Axes>"
      ]
     },
     "metadata": {},
     "output_type": "display_data"
    }
   ],
   "source": [
    "plt.figure(figsize=(10,8))\n",
    "sns.heatmap(cosim, annot=True)"
   ]
  },
  {
   "cell_type": "markdown",
   "metadata": {},
   "source": [
    "## Some debugging tips"
   ]
  },
  {
   "cell_type": "markdown",
   "metadata": {},
   "source": [
    "### Autoreload"
   ]
  },
  {
   "cell_type": "code",
   "execution_count": 66,
   "metadata": {},
   "outputs": [
    {
     "name": "stdout",
     "output_type": "stream",
     "text": [
      "The autoreload extension is already loaded. To reload it, use:\n",
      "  %reload_ext autoreload\n"
     ]
    }
   ],
   "source": [
    "%load_ext autoreload\n",
    "%autoreload 2\n",
    "\n",
    "# after that, modules are reloaded automatically whenever they're changed"
   ]
  },
  {
   "cell_type": "markdown",
   "metadata": {},
   "source": [
    "### Catching and re-throwing an exception"
   ]
  },
  {
   "cell_type": "code",
   "execution_count": 75,
   "metadata": {},
   "outputs": [],
   "source": [
    "# you didn't write this code. you got it from someone else. maybe it's a module.\n",
    "\n",
    "def subroutine(a, b):\n",
    "    # this should do something useful\n",
    "    \n",
    "    # but it doesn't\n",
    "    \n",
    "    raise Exception(\"a bad problem happened\")"
   ]
  },
  {
   "cell_type": "code",
   "execution_count": 73,
   "metadata": {},
   "outputs": [],
   "source": [
    "# you wrote this code. \n",
    "\n",
    "def foobar():\n",
    "    a = 1+2\n",
    "    b = a * 15\n",
    "    \n",
    "    try:                        #begin try block\n",
    "        subroutine(a, b)        #put your code in here\n",
    "    except Exception as ex:     #catch any exception that happens in the block\n",
    "        \n",
    "        # print out some information that's useful for debugging\n",
    "        print( \"our value of a is\", a )\n",
    "        print( \"our value of b is\", b )\n",
    "        \n",
    "        # Re-throw the exception\n",
    "        # to continue as if you hadn't caught the exception.\n",
    "        # You should do this, because an error in your code\n",
    "        # _should_ result in your code failing.\n",
    "        raise ex\n",
    "    \n",
    "    return b"
   ]
  },
  {
   "cell_type": "code",
   "execution_count": 74,
   "metadata": {},
   "outputs": [
    {
     "name": "stdout",
     "output_type": "stream",
     "text": [
      "our value of a is 3\n",
      "our value of b is 45\n"
     ]
    },
    {
     "ename": "Exception",
     "evalue": "a bad problem happened",
     "output_type": "error",
     "traceback": [
      "\u001b[0;31m---------------------------------------------------------------------------\u001b[0m",
      "\u001b[0;31mException\u001b[0m                                 Traceback (most recent call last)",
      "\u001b[0;32m<ipython-input-74-eebe5d0ffa78>\u001b[0m in \u001b[0;36m<module>\u001b[0;34m()\u001b[0m\n\u001b[0;32m----> 1\u001b[0;31m \u001b[0mfoobar\u001b[0m\u001b[0;34m(\u001b[0m\u001b[0;34m)\u001b[0m\u001b[0;34m\u001b[0m\u001b[0m\n\u001b[0m",
      "\u001b[0;32m<ipython-input-73-5d0155d64686>\u001b[0m in \u001b[0;36mfoobar\u001b[0;34m()\u001b[0m\n\u001b[1;32m     15\u001b[0m         \u001b[0;31m# You should do this, because an error in your code\u001b[0m\u001b[0;34m\u001b[0m\u001b[0;34m\u001b[0m\u001b[0m\n\u001b[1;32m     16\u001b[0m         \u001b[0;31m# _should_ result in your code failing.\u001b[0m\u001b[0;34m\u001b[0m\u001b[0;34m\u001b[0m\u001b[0m\n\u001b[0;32m---> 17\u001b[0;31m         \u001b[0;32mraise\u001b[0m \u001b[0mex\u001b[0m\u001b[0;34m\u001b[0m\u001b[0m\n\u001b[0m\u001b[1;32m     18\u001b[0m \u001b[0;34m\u001b[0m\u001b[0m\n\u001b[1;32m     19\u001b[0m     \u001b[0;32mreturn\u001b[0m \u001b[0mb\u001b[0m\u001b[0;34m\u001b[0m\u001b[0m\n",
      "\u001b[0;32m<ipython-input-73-5d0155d64686>\u001b[0m in \u001b[0;36mfoobar\u001b[0;34m()\u001b[0m\n\u001b[1;32m      4\u001b[0m \u001b[0;34m\u001b[0m\u001b[0m\n\u001b[1;32m      5\u001b[0m     \u001b[0;32mtry\u001b[0m\u001b[0;34m:\u001b[0m                        \u001b[0;31m#begin try block\u001b[0m\u001b[0;34m\u001b[0m\u001b[0m\n\u001b[0;32m----> 6\u001b[0;31m         \u001b[0msubroutine\u001b[0m\u001b[0;34m(\u001b[0m\u001b[0ma\u001b[0m\u001b[0;34m,\u001b[0m \u001b[0mb\u001b[0m\u001b[0;34m)\u001b[0m        \u001b[0;31m#put your code in here\u001b[0m\u001b[0;34m\u001b[0m\u001b[0m\n\u001b[0m\u001b[1;32m      7\u001b[0m     \u001b[0;32mexcept\u001b[0m \u001b[0mException\u001b[0m \u001b[0;32mas\u001b[0m \u001b[0mex\u001b[0m\u001b[0;34m:\u001b[0m     \u001b[0;31m#catch any exception that happens in the block\u001b[0m\u001b[0;34m\u001b[0m\u001b[0m\n\u001b[1;32m      8\u001b[0m \u001b[0;34m\u001b[0m\u001b[0m\n",
      "\u001b[0;32m<ipython-input-72-3aae4019001c>\u001b[0m in \u001b[0;36msubroutine\u001b[0;34m(a, b)\u001b[0m\n\u001b[1;32m      4\u001b[0m     \u001b[0;31m# but it doesn't\u001b[0m\u001b[0;34m\u001b[0m\u001b[0;34m\u001b[0m\u001b[0m\n\u001b[1;32m      5\u001b[0m \u001b[0;34m\u001b[0m\u001b[0m\n\u001b[0;32m----> 6\u001b[0;31m     \u001b[0;32mraise\u001b[0m \u001b[0mException\u001b[0m\u001b[0;34m(\u001b[0m\u001b[0;34m\"a bad problem happened\"\u001b[0m\u001b[0;34m)\u001b[0m\u001b[0;34m\u001b[0m\u001b[0m\n\u001b[0m",
      "\u001b[0;31mException\u001b[0m: a bad problem happened"
     ]
    }
   ],
   "source": [
    "foobar()"
   ]
  },
  {
   "cell_type": "code",
   "execution_count": null,
   "metadata": {},
   "outputs": [],
   "source": []
  }
 ],
 "metadata": {
  "kernelspec": {
   "display_name": "Python 3",
   "language": "python",
   "name": "python3"
  },
  "language_info": {
   "codemirror_mode": {
    "name": "ipython",
    "version": 3
   },
   "file_extension": ".py",
   "mimetype": "text/x-python",
   "name": "python",
   "nbconvert_exporter": "python",
   "pygments_lexer": "ipython3",
   "version": "3.6.5"
  },
  "livereveal": {
   "transition": "none"
  }
 },
 "nbformat": 4,
 "nbformat_minor": 2
}
