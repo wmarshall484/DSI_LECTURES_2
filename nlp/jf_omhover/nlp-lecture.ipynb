{
 "cells": [
  {
   "cell_type": "markdown",
   "metadata": {},
   "source": [
    "# Natural Language Processing\n",
    "\n",
    "J.F. Omhover\n",
    "thanks to Mari Pierce-Quinonez for some great enhancements I reused.\n",
    "\n",
    "### Requirements\n",
    "\n",
    "You need to install the `nltk` module:\n",
    "\n",
    "```\n",
    "conda install nltk\n",
    "```\n",
    "\n",
    "This module will need corporas that you need to download. This can take a very long time, for simplicity here's the minimal corporas for this lecture. In a terminal, open `ipython` and type:\n",
    "\n",
    "```\n",
    "import nltk\n",
    "nltk.download('stopwords')\n",
    "nltk.download('punkt')\n",
    "nltk.download('averaged_perceptron_tagger')\n",
    "nltk.download('maxent_treebank_pos_tagger')\n",
    "```\n",
    "\n",
    "### General Introduction\n",
    "\n",
    "Natural Language Processing is a subfield of machine learning focused on making sense of text. Text is inherently unstructured and has all sorts of tricks required for converting (vectorizing) text into a format that a machine learning algorithm can interpret. It is called Processing for a reason - most of what we'll be covering during this morning session are Data Processing operations that make it possible to plug test into other ML algorythms.\n",
    "\n",
    "### Overview of nlp\n",
    "\n",
    "Natural language processing is concerned with understanding text using computation. People working within the field are often concerned with:\n",
    "- Information retrieval. How do you find a document or a particular fact within a document?\n",
    "- Document classification. What is the document about amongst mutually exclusive categories?\n",
    "- Machine translation. How do you write an English phrase in Chinese? Think of Google translate.\n",
    "- Sentiment analysis. Was a product review positive or negative?\n",
    "Natural language processing is a huge field and we will just touch on some of the concepts.\n",
    "\n",
    "### Objectives\n",
    "\n",
    "- Name and describe the steps necessary for processing text in machine learning.\n",
    "- Implement a Natural Language Processing pipeline.\n",
    "- Explain the cosine similarity measure and why it is used in NLP."
   ]
  },
  {
   "cell_type": "markdown",
   "metadata": {},
   "source": [
    "# Text Featurization part 1 : Bags of Words\n",
    "\n",
    "This Walkthrough will lead us from raw documents to bag-of-words representations using **Natural Language Processing** functions.\n",
    "\n",
    "In our case, this walkthrough is a preliminary step of a pipeline for **indexing** documents.\n",
    "\n",
    "The ultimate goal of **indexing** is to create a **signature** (vector) for each document.\n",
    "\n",
    "This **signature** will be used for relating documents one to the other (and find out similar clusters of documents), or for mining underlying relations between concepts.\n",
    "\n",
    "<img src=\"img/pipeline-walkthrough1.png\" width=\"70%\"/>"
   ]
  },
  {
   "cell_type": "markdown",
   "metadata": {},
   "source": [
    "## 0. Text sources and possible text mining inputs"
   ]
  },
  {
   "cell_type": "code",
   "execution_count": 1,
   "metadata": {
    "collapsed": false
   },
   "outputs": [
    {
     "name": "stdout",
     "output_type": "stream",
     "text": [
      "My mother drove me to the airport with the windows rolled down. It was seventy-five degrees in Phoenix, the sky a perfect, cloudless blue. I was wearing my favorite shirt – sleeveless, white eyelet lace; I was wearing it as a farewell gesture. My carry-on item was a parka. In the Olympic Peninsula of northwest Washington State, a small town named Forks exists under a near-constant cover of clouds. It rains on this inconsequential town more than any other place in the United States of America. It was from this town and its gloomy, omnipresent shade that my mother escaped with me when I was only a few months old. It was in this town that I’d been compelled to spend a month every summer until I was fourteen. That was the year I finally put my foot down; these past three summers, my dad, Charlie, vacationed with me in California for two weeks instead.\n"
     ]
    }
   ],
   "source": [
    "paragraph = u\"My mother drove me to the airport with the windows rolled down. It was seventy-five degrees in Phoenix, the sky a perfect, cloudless blue. I was wearing my favorite shirt – sleeveless, white eyelet lace; I was wearing it as a farewell gesture. My carry-on item was a parka. In the Olympic Peninsula of northwest Washington State, a small town named Forks exists under a near-constant cover of clouds. It rains on this inconsequential town more than any other place in the United States of America. It was from this town and its gloomy, omnipresent shade that my mother escaped with me when I was only a few months old. It was in this town that I’d been compelled to spend a month every summer until I was fourteen. That was the year I finally put my foot down; these past three summers, my dad, Charlie, vacationed with me in California for two weeks instead.\"\n",
    "\n",
    "print(paragraph)"
   ]
  },
  {
   "cell_type": "markdown",
   "metadata": {},
   "source": [
    "### Encode"
   ]
  },
  {
   "cell_type": "code",
   "execution_count": 2,
   "metadata": {
    "collapsed": false
   },
   "outputs": [
    {
     "name": "stdout",
     "output_type": "stream",
     "text": [
      "My mother drove me to the airport with the windows rolled down. It was seventy-five degrees in Phoenix, the sky a perfect, cloudless blue. I was wearing my favorite shirt – sleeveless, white eyelet lace; I was wearing it as a farewell gesture. My carry-on item was a parka. In the Olympic Peninsula of northwest Washington State, a small town named Forks exists under a near-constant cover of clouds. It rains on this inconsequential town more than any other place in the United States of America. It was from this town and its gloomy, omnipresent shade that my mother escaped with me when I was only a few months old. It was in this town that I’d been compelled to spend a month every summer until I was fourteen. That was the year I finally put my foot down; these past three summers, my dad, Charlie, vacationed with me in California for two weeks instead.\n"
     ]
    }
   ],
   "source": [
    "input_string = paragraph.encode('utf-8')\n",
    "\n",
    "print(input_string)"
   ]
  },
  {
   "cell_type": "code",
   "execution_count": 3,
   "metadata": {
    "collapsed": false
   },
   "outputs": [
    {
     "name": "stdout",
     "output_type": "stream",
     "text": [
      "My mother drove me to the airport with the windows rolled down. It was seventy-five degrees in Phoenix, the sky a perfect, cloudless blue. I was wearing my favorite shirt  sleeveless, white eyelet lace; I was wearing it as a farewell gesture. My carry-on item was a parka. In the Olympic Peninsula of northwest Washington State, a small town named Forks exists under a near-constant cover of clouds. It rains on this inconsequential town more than any other place in the United States of America. It was from this town and its gloomy, omnipresent shade that my mother escaped with me when I was only a few months old. It was in this town that Id been compelled to spend a month every summer until I was fourteen. That was the year I finally put my foot down; these past three summers, my dad, Charlie, vacationed with me in California for two weeks instead.\n"
     ]
    }
   ],
   "source": [
    "import unicodedata\n",
    "\n",
    "def remove_accents(input_str):\n",
    "    nfkd_form = unicodedata.normalize('NFKD', input_str)\n",
    "    only_ascii = nfkd_form.encode('ASCII', 'ignore')\n",
    "    return str(only_ascii)\n",
    "    #return str(only_ascii, 'utf-8')\n",
    "\n",
    "input_string = remove_accents(paragraph)\n",
    "\n",
    "print(input_string)"
   ]
  },
  {
   "cell_type": "markdown",
   "metadata": {},
   "source": [
    "# 1. Creating bag-of-words for each document"
   ]
  },
  {
   "cell_type": "markdown",
   "metadata": {},
   "source": [
    "## 1.1. Tokenize document\n",
    "\n",
    "**\"Tokenize\"** means creating \"tokens\" which are atomic units of the text. These tokens are usually words we extract from the document by splitting it (using punctuations as a separator). We can also consider sentences as tokens (and words as sub-tokens of sentences)."
   ]
  },
  {
   "cell_type": "markdown",
   "metadata": {},
   "source": [
    "### nltk.tokenize.sent_tokenize"
   ]
  },
  {
   "cell_type": "code",
   "execution_count": 4,
   "metadata": {
    "collapsed": false
   },
   "outputs": [
    {
     "name": "stdout",
     "output_type": "stream",
     "text": [
      "--- sentence: My mother drove me to the airport with the windows rolled down.\n",
      "--- sentence: It was seventy-five degrees in Phoenix, the sky a perfect, cloudless blue.\n",
      "--- sentence: I was wearing my favorite shirt  sleeveless, white eyelet lace; I was wearing it as a farewell gesture.\n",
      "--- sentence: My carry-on item was a parka.\n",
      "--- sentence: In the Olympic Peninsula of northwest Washington State, a small town named Forks exists under a near-constant cover of clouds.\n",
      "--- sentence: It rains on this inconsequential town more than any other place in the United States of America.\n",
      "--- sentence: It was from this town and its gloomy, omnipresent shade that my mother escaped with me when I was only a few months old.\n",
      "--- sentence: It was in this town that Id been compelled to spend a month every summer until I was fourteen.\n",
      "--- sentence: That was the year I finally put my foot down; these past three summers, my dad, Charlie, vacationed with me in California for two weeks instead.\n"
     ]
    }
   ],
   "source": [
    "from nltk.tokenize import sent_tokenize\n",
    "\n",
    "sent_tokens = sent_tokenize(input_string)\n",
    "\n",
    "for sent in sent_tokens:\n",
    "    print(\"--- sentence: {}\".format(sent))"
   ]
  },
  {
   "cell_type": "markdown",
   "metadata": {},
   "source": [
    "### nltk.tokenize.word_tokenize"
   ]
  },
  {
   "cell_type": "code",
   "execution_count": 5,
   "metadata": {
    "collapsed": false
   },
   "outputs": [
    {
     "name": "stdout",
     "output_type": "stream",
     "text": [
      "--- sentence tokens: ['My', 'mother', 'drove', 'me', 'to', 'the', 'airport', 'with', 'the', 'windows', 'rolled', 'down', '.']\n",
      "--- sentence tokens: ['It', 'was', 'seventy-five', 'degrees', 'in', 'Phoenix', ',', 'the', 'sky', 'a', 'perfect', ',', 'cloudless', 'blue', '.']\n",
      "--- sentence tokens: ['I', 'was', 'wearing', 'my', 'favorite', 'shirt', 'sleeveless', ',', 'white', 'eyelet', 'lace', ';', 'I', 'was', 'wearing', 'it', 'as', 'a', 'farewell', 'gesture', '.']\n",
      "--- sentence tokens: ['My', 'carry-on', 'item', 'was', 'a', 'parka', '.']\n",
      "--- sentence tokens: ['In', 'the', 'Olympic', 'Peninsula', 'of', 'northwest', 'Washington', 'State', ',', 'a', 'small', 'town', 'named', 'Forks', 'exists', 'under', 'a', 'near-constant', 'cover', 'of', 'clouds', '.']\n",
      "--- sentence tokens: ['It', 'rains', 'on', 'this', 'inconsequential', 'town', 'more', 'than', 'any', 'other', 'place', 'in', 'the', 'United', 'States', 'of', 'America', '.']\n",
      "--- sentence tokens: ['It', 'was', 'from', 'this', 'town', 'and', 'its', 'gloomy', ',', 'omnipresent', 'shade', 'that', 'my', 'mother', 'escaped', 'with', 'me', 'when', 'I', 'was', 'only', 'a', 'few', 'months', 'old', '.']\n",
      "--- sentence tokens: ['It', 'was', 'in', 'this', 'town', 'that', 'Id', 'been', 'compelled', 'to', 'spend', 'a', 'month', 'every', 'summer', 'until', 'I', 'was', 'fourteen', '.']\n",
      "--- sentence tokens: ['That', 'was', 'the', 'year', 'I', 'finally', 'put', 'my', 'foot', 'down', ';', 'these', 'past', 'three', 'summers', ',', 'my', 'dad', ',', 'Charlie', ',', 'vacationed', 'with', 'me', 'in', 'California', 'for', 'two', 'weeks', 'instead', '.']\n"
     ]
    }
   ],
   "source": [
    "from nltk.tokenize import word_tokenize\n",
    "\n",
    "tokens = [sent for sent in map(word_tokenize, sent_tokens)]\n",
    "\n",
    "#tokens = word_tokenize(input_string)\n",
    "for sent in tokens:\n",
    "    print(\"--- sentence tokens: {}\".format(sent))\n",
    "#print(\"--- nltk tokens from paragraph:\\n{}\".format(tokens))"
   ]
  },
  {
   "cell_type": "markdown",
   "metadata": {},
   "source": [
    "### lower"
   ]
  },
  {
   "cell_type": "code",
   "execution_count": 6,
   "metadata": {
    "collapsed": false
   },
   "outputs": [
    {
     "name": "stdout",
     "output_type": "stream",
     "text": [
      "--- sentence tokens: ['my', 'mother', 'drove', 'me', 'to', 'the', 'airport', 'with', 'the', 'windows', 'rolled', 'down', '.']\n",
      "--- sentence tokens: ['it', 'was', 'seventy-five', 'degrees', 'in', 'phoenix', ',', 'the', 'sky', 'a', 'perfect', ',', 'cloudless', 'blue', '.']\n",
      "--- sentence tokens: ['i', 'was', 'wearing', 'my', 'favorite', 'shirt', 'sleeveless', ',', 'white', 'eyelet', 'lace', ';', 'i', 'was', 'wearing', 'it', 'as', 'a', 'farewell', 'gesture', '.']\n",
      "--- sentence tokens: ['my', 'carry-on', 'item', 'was', 'a', 'parka', '.']\n",
      "--- sentence tokens: ['in', 'the', 'olympic', 'peninsula', 'of', 'northwest', 'washington', 'state', ',', 'a', 'small', 'town', 'named', 'forks', 'exists', 'under', 'a', 'near-constant', 'cover', 'of', 'clouds', '.']\n",
      "--- sentence tokens: ['it', 'rains', 'on', 'this', 'inconsequential', 'town', 'more', 'than', 'any', 'other', 'place', 'in', 'the', 'united', 'states', 'of', 'america', '.']\n",
      "--- sentence tokens: ['it', 'was', 'from', 'this', 'town', 'and', 'its', 'gloomy', ',', 'omnipresent', 'shade', 'that', 'my', 'mother', 'escaped', 'with', 'me', 'when', 'i', 'was', 'only', 'a', 'few', 'months', 'old', '.']\n",
      "--- sentence tokens: ['it', 'was', 'in', 'this', 'town', 'that', 'id', 'been', 'compelled', 'to', 'spend', 'a', 'month', 'every', 'summer', 'until', 'i', 'was', 'fourteen', '.']\n",
      "--- sentence tokens: ['that', 'was', 'the', 'year', 'i', 'finally', 'put', 'my', 'foot', 'down', ';', 'these', 'past', 'three', 'summers', ',', 'my', 'dad', ',', 'charlie', ',', 'vacationed', 'with', 'me', 'in', 'california', 'for', 'two', 'weeks', 'instead', '.']\n"
     ]
    }
   ],
   "source": [
    "import string\n",
    "\n",
    "tokens_lower = [list(map(lambda s : s.lower(), sent)) for sent in tokens]\n",
    "\n",
    "for sent in tokens_lower:\n",
    "    print(\"--- sentence tokens: {}\".format(sent))"
   ]
  },
  {
   "cell_type": "markdown",
   "metadata": {},
   "source": [
    "## 1.2. Filtering stopwords (and punctuation)\n",
    "\n",
    "**Stopwords** are words that should be stopped at this step because they do not carry much information about the actual meaning of the document. Usually, they are \"common\" words you use. You can find lists of such **stopwords** online, or embedded within the NLTK library."
   ]
  },
  {
   "cell_type": "markdown",
   "metadata": {},
   "source": [
    "### Using your own stop list"
   ]
  },
  {
   "cell_type": "code",
   "execution_count": 7,
   "metadata": {
    "collapsed": false
   },
   "outputs": [
    {
     "name": "stdout",
     "output_type": "stream",
     "text": [
      "--- stopwords in english: set([u'all', u'just', u'being', u'over', u'both', u'through', u'yourselves', u'its', u'before', u'o', u'hadn', u'herself', u'll', u'had', u'should', u'to', u'only', u'won', u'under', u'ours', u'has', u'do', u'them', u'his', u'very', u'they', u'not', u'during', u'now', u'him', u'nor', u'd', u'did', u'didn', u'this', u'she', u'each', u'further', u'where', u'few', u'because', u'doing', u'some', u'hasn', u'are', u'our', u'ourselves', u'out', u'what', u'for', u'while', u're', u'does', u'above', u'between', u'mustn', u't', u'be', u'we', u'who', u'were', u'here', u'shouldn', u'hers', u'by', u'on', u'about', u'couldn', u'of', u'against', u's', u'isn', u'or', u'own', u'into', u'yourself', u'down', u'mightn', u'wasn', u'your', u'from', u'her', u'their', u'aren', u'there', u'been', u'whom', u'too', u'wouldn', u'themselves', u'weren', u'was', u'until', u'more', u'himself', u'that', u'but', u'don', u'with', u'than', u'those', u'he', u'me', u'myself', u'ma', u'these', u'up', u'will', u'below', u'ain', u'can', u'theirs', u'my', u'and', u've', u'then', u'is', u'am', u'it', u'doesn', u'an', u'as', u'itself', u'at', u'have', u'in', u'any', u'if', u'again', u'no', u'when', u'same', u'how', u'other', u'which', u'you', u'shan', u'needn', u'haven', u'after', u'most', u'such', u'why', u'a', u'off', u'i', u'm', u'yours', u'so', u'y', u'the', u'having', u'once'])\n"
     ]
    }
   ],
   "source": [
    "from nltk.corpus import stopwords\n",
    "\n",
    "stopwords_ = set(stopwords.words('english'))\n",
    "\n",
    "print(\"--- stopwords in english: {}\".format(stopwords_))"
   ]
  },
  {
   "cell_type": "code",
   "execution_count": 8,
   "metadata": {
    "collapsed": false
   },
   "outputs": [
    {
     "name": "stdout",
     "output_type": "stream",
     "text": [
      "--- stopwords in english: ['a', 'able', 'about', 'across', 'after', 'all', 'almost', 'also', 'am', 'among', 'an', 'and', 'any', 'are', 'as', 'at', 'be', 'because', 'been', 'but', 'by', 'can', 'could', 'dear', 'did', 'do', 'does', 'either', 'else', 'ever', 'every', 'for', 'from', 'get', 'got', 'had', 'has', 'have', 'he', 'her', 'hers', 'him', 'his', 'how', 'however', 'i', 'if', 'in', 'into', 'is', 'it', 'its', 'just', 'least', 'let', 'like', 'likely', 'may', 'me', 'might', 'most', 'must', 'my', 'neither', 'no', 'of', 'off', 'often', 'on', 'only', 'or', 'other', 'our', 'own', 'rather', 'said', 'say', 'says', 'she', 'should', 'since', 'so', 'some', 'than', 'that', 'the', 'their', 'them', 'then', 'there', 'these', 'they', 'this', 'tis', 'to', 'too', 'twas', 'us', 'wants', 'was', 'we', 'were', 'what', 'when', 'where', 'which', 'while', 'who', 'whom', 'why', 'will', 'with', 'would', 'yet', 'you', 'your]']\n"
     ]
    }
   ],
   "source": [
    "# list found at http://www.textfixer.com/resources/common-english-words.txt\n",
    "# 'not' has been removed (do you know why ?)\n",
    "\n",
    "stopwords_ = \"a,able,about,across,after,all,almost,also,am,among,an,and,any,\\\n",
    "are,as,at,be,because,been,but,by,can,could,dear,did,do,does,either,\\\n",
    "else,ever,every,for,from,get,got,had,has,have,he,her,hers,him,his,\\\n",
    "how,however,i,if,in,into,is,it,its,just,least,let,like,likely,may,\\\n",
    "me,might,most,must,my,neither,no,of,off,often,on,only,or,other,our,\\\n",
    "own,rather,said,say,says,she,should,since,so,some,than,that,the,their,\\\n",
    "them,then,there,these,they,this,tis,to,too,twas,us,wants,was,we,were,\\\n",
    "what,when,where,which,while,who,whom,why,will,with,would,yet,you,your]\".split(',')\n",
    "\n",
    "print(\"--- stopwords in english: {}\".format(stopwords_))"
   ]
  },
  {
   "cell_type": "markdown",
   "metadata": {},
   "source": [
    "We also need to filter punctuation tokens: tokens made of punctuation marks. We can find a list of those punctuations in string.punctuation."
   ]
  },
  {
   "cell_type": "code",
   "execution_count": 9,
   "metadata": {
    "collapsed": false
   },
   "outputs": [
    {
     "name": "stdout",
     "output_type": "stream",
     "text": [
      "--- punctuation: !\"#$%&'()*+,-./:;<=>?@[\\]^_`{|}~\n",
      "--- sentence tokens: ['mother', 'drove', 'airport', 'windows', 'rolled', 'down']\n",
      "--- sentence tokens: ['seventy-five', 'degrees', 'phoenix', 'sky', 'perfect', 'cloudless', 'blue']\n",
      "--- sentence tokens: ['wearing', 'favorite', 'shirt', 'sleeveless', 'white', 'eyelet', 'lace', 'wearing', 'farewell', 'gesture']\n",
      "--- sentence tokens: ['carry-on', 'item', 'parka']\n",
      "--- sentence tokens: ['olympic', 'peninsula', 'northwest', 'washington', 'state', 'small', 'town', 'named', 'forks', 'exists', 'under', 'near-constant', 'cover', 'clouds']\n",
      "--- sentence tokens: ['rains', 'inconsequential', 'town', 'more', 'place', 'united', 'states', 'america']\n",
      "--- sentence tokens: ['town', 'gloomy', 'omnipresent', 'shade', 'mother', 'escaped', 'few', 'months', 'old']\n",
      "--- sentence tokens: ['town', 'id', 'compelled', 'spend', 'month', 'summer', 'until', 'fourteen']\n",
      "--- sentence tokens: ['year', 'finally', 'put', 'foot', 'down', 'past', 'three', 'summers', 'dad', 'charlie', 'vacationed', 'california', 'two', 'weeks', 'instead']\n"
     ]
    }
   ],
   "source": [
    "import string\n",
    "\n",
    "punctuation_ = set(string.punctuation)\n",
    "print(\"--- punctuation: {}\".format(string.punctuation))\n",
    "\n",
    "def filter_tokens(sent):\n",
    "    return([w for w in sent if not w in stopwords_ and not w in punctuation_])\n",
    "\n",
    "tokens_filtered = list(map(filter_tokens, tokens_lower))\n",
    "\n",
    "for sent in tokens_filtered:\n",
    "    print(\"--- sentence tokens: {}\".format(sent))"
   ]
  },
  {
   "cell_type": "markdown",
   "metadata": {},
   "source": [
    "## 1.3. Stemming and lemmatization\n",
    "\n",
    "**Stemming** means reducing each word to a **stem**. That is, reducing each word in all its diversity to a root common to all its variants."
   ]
  },
  {
   "cell_type": "code",
   "execution_count": 10,
   "metadata": {
    "collapsed": false
   },
   "outputs": [
    {
     "name": "stdout",
     "output_type": "stream",
     "text": [
      "--- sentence tokens (porter): ['mother', 'drove', 'airport', u'window', u'roll', 'down']\n",
      "--- sentence tokens (snowball): [u'mother', u'drove', u'airport', u'window', u'roll', u'down']\n"
     ]
    }
   ],
   "source": [
    "from nltk.stem.porter import PorterStemmer\n",
    "from nltk.stem.snowball import SnowballStemmer\n",
    "\n",
    "stemmer_porter = PorterStemmer()\n",
    "tokens_stemporter = [list(map(stemmer_porter.stem, sent)) for sent in tokens_filtered]\n",
    "print(\"--- sentence tokens (porter): {}\".format(tokens_stemporter[0]))\n",
    "\n",
    "stemmer_snowball = SnowballStemmer('english')\n",
    "tokens_stemsnowball = [list(map(stemmer_snowball.stem, sent)) for sent in tokens_filtered]\n",
    "print(\"--- sentence tokens (snowball): {}\".format(tokens_stemsnowball[0]))"
   ]
  },
  {
   "cell_type": "markdown",
   "metadata": {},
   "source": [
    "## 1.4. N-Grams\n",
    "\n",
    "<span style=\"color:red\">To capture sequences of tokens</span>"
   ]
  },
  {
   "cell_type": "code",
   "execution_count": 11,
   "metadata": {
    "collapsed": false
   },
   "outputs": [
    {
     "data": {
      "text/plain": [
       "[(u'mother', u'drove'),\n",
       " (u'drove', u'airport'),\n",
       " (u'airport', u'window'),\n",
       " (u'window', u'roll'),\n",
       " (u'roll', u'down')]"
      ]
     },
     "execution_count": 11,
     "metadata": {},
     "output_type": "execute_result"
    }
   ],
   "source": [
    "from nltk.util import ngrams\n",
    "\n",
    "list(ngrams(tokens_stemsnowball[0],2))"
   ]
  },
  {
   "cell_type": "code",
   "execution_count": 12,
   "metadata": {
    "collapsed": false
   },
   "outputs": [
    {
     "name": "stdout",
     "output_type": "stream",
     "text": [
      "--- sentence tokens: ['mother', 'drove', 'airport', u'window', u'roll', 'down', 'mother-drove', 'drove-airport', u'airport-window', u'window-roll', u'roll-down', 'mother-drove-airport', u'drove-airport-window', u'airport-window-roll', u'window-roll-down']\n"
     ]
    }
   ],
   "source": [
    "from nltk.util import ngrams\n",
    "\n",
    "def join_sent_ngrams(input_tokens, n):\n",
    "    # first add the 1-gram tokens\n",
    "    ret_list = list(input_tokens)\n",
    "    \n",
    "    #then for each n\n",
    "    for i in range(2,n+1):\n",
    "        # add each n-grams to the list\n",
    "        ret_list.extend(['-'.join(tgram) for tgram in ngrams(input_tokens, i)])\n",
    "    \n",
    "    return(ret_list)\n",
    "\n",
    "tokens_ngrams = list(map(lambda x : join_sent_ngrams(x, 3), tokens_stemporter))\n",
    "\n",
    "print(\"--- sentence tokens: {}\".format(tokens_ngrams[0]))"
   ]
  },
  {
   "cell_type": "markdown",
   "metadata": {},
   "source": [
    "## 1.5. Part-of-Speech tagging\n",
    "\n",
    "This is an alternative process that relies on machine learning to tag each word in a sentence with its function. In libraries such as NLTK, there are embedded tools to do that. Tags detected depend on the corpus used for training. In NLTK, the function `nltk.pos_tag()` uses the [Penn Treebank](https://www.ling.upenn.edu/courses/Fall_2003/ling001/penn_treebank_pos.html)."
   ]
  },
  {
   "cell_type": "markdown",
   "metadata": {},
   "source": [
    "### nltk.pos_tag"
   ]
  },
  {
   "cell_type": "code",
   "execution_count": 13,
   "metadata": {
    "collapsed": false
   },
   "outputs": [
    {
     "name": "stdout",
     "output_type": "stream",
     "text": [
      "--- sentence tags: [('My', 'PRP$'), ('mother', 'NN'), ('drove', 'VBD'), ('me', 'PRP'), ('to', 'TO'), ('the', 'DT'), ('airport', 'NN'), ('with', 'IN'), ('the', 'DT'), ('windows', 'NNS'), ('rolled', 'VBD'), ('down', 'RB'), ('.', '.')]\n",
      "--- sentence tags: [('It', 'PRP'), ('was', 'VBD'), ('seventy-five', 'JJ'), ('degrees', 'NNS'), ('in', 'IN'), ('Phoenix', 'NNP'), (',', ','), ('the', 'DT'), ('sky', 'NN'), ('a', 'DT'), ('perfect', 'JJ'), (',', ','), ('cloudless', 'JJ'), ('blue', 'NN'), ('.', '.')]\n",
      "--- sentence tags: [('I', 'PRP'), ('was', 'VBD'), ('wearing', 'VBG'), ('my', 'PRP$'), ('favorite', 'JJ'), ('shirt', 'NN'), ('sleeveless', 'NN'), (',', ','), ('white', 'JJ'), ('eyelet', 'NN'), ('lace', 'NN'), (';', ':'), ('I', 'PRP'), ('was', 'VBD'), ('wearing', 'VBG'), ('it', 'PRP'), ('as', 'IN'), ('a', 'DT'), ('farewell', 'NN'), ('gesture', 'NN'), ('.', '.')]\n",
      "--- sentence tags: [('My', 'PRP$'), ('carry-on', 'JJ'), ('item', 'NN'), ('was', 'VBD'), ('a', 'DT'), ('parka', 'NN'), ('.', '.')]\n",
      "--- sentence tags: [('In', 'IN'), ('the', 'DT'), ('Olympic', 'NNP'), ('Peninsula', 'NNP'), ('of', 'IN'), ('northwest', 'JJS'), ('Washington', 'NNP'), ('State', 'NNP'), (',', ','), ('a', 'DT'), ('small', 'JJ'), ('town', 'NN'), ('named', 'VBN'), ('Forks', 'NNP'), ('exists', 'VBZ'), ('under', 'IN'), ('a', 'DT'), ('near-constant', 'JJ'), ('cover', 'NN'), ('of', 'IN'), ('clouds', 'NNS'), ('.', '.')]\n",
      "--- sentence tags: [('It', 'PRP'), ('rains', 'VBZ'), ('on', 'IN'), ('this', 'DT'), ('inconsequential', 'JJ'), ('town', 'NN'), ('more', 'RBR'), ('than', 'IN'), ('any', 'DT'), ('other', 'JJ'), ('place', 'NN'), ('in', 'IN'), ('the', 'DT'), ('United', 'NNP'), ('States', 'NNPS'), ('of', 'IN'), ('America', 'NNP'), ('.', '.')]\n",
      "--- sentence tags: [('It', 'PRP'), ('was', 'VBD'), ('from', 'IN'), ('this', 'DT'), ('town', 'NN'), ('and', 'CC'), ('its', 'PRP$'), ('gloomy', 'NN'), (',', ','), ('omnipresent', 'NN'), ('shade', 'NN'), ('that', 'IN'), ('my', 'PRP$'), ('mother', 'NN'), ('escaped', 'VBD'), ('with', 'IN'), ('me', 'PRP'), ('when', 'WRB'), ('I', 'PRP'), ('was', 'VBD'), ('only', 'RB'), ('a', 'DT'), ('few', 'JJ'), ('months', 'NNS'), ('old', 'JJ'), ('.', '.')]\n",
      "--- sentence tags: [('It', 'PRP'), ('was', 'VBD'), ('in', 'IN'), ('this', 'DT'), ('town', 'NN'), ('that', 'WDT'), ('Id', 'NNP'), ('been', 'VBN'), ('compelled', 'VBN'), ('to', 'TO'), ('spend', 'VB'), ('a', 'DT'), ('month', 'NN'), ('every', 'DT'), ('summer', 'NN'), ('until', 'IN'), ('I', 'PRP'), ('was', 'VBD'), ('fourteen', 'JJ'), ('.', '.')]\n",
      "--- sentence tags: [('That', 'DT'), ('was', 'VBD'), ('the', 'DT'), ('year', 'NN'), ('I', 'PRP'), ('finally', 'RB'), ('put', 'VBD'), ('my', 'PRP$'), ('foot', 'NN'), ('down', 'RP'), (';', ':'), ('these', 'DT'), ('past', 'IN'), ('three', 'CD'), ('summers', 'NNS'), (',', ','), ('my', 'PRP$'), ('dad', 'NN'), (',', ','), ('Charlie', 'NNP'), (',', ','), ('vacationed', 'VBD'), ('with', 'IN'), ('me', 'PRP'), ('in', 'IN'), ('California', 'NNP'), ('for', 'IN'), ('two', 'CD'), ('weeks', 'NNS'), ('instead', 'RB'), ('.', '.')]\n"
     ]
    }
   ],
   "source": [
    "from nltk import pos_tag\n",
    "\n",
    "sent_tags = list(map(pos_tag, tokens))\n",
    "\n",
    "for sent in sent_tags:\n",
    "    print(\"--- sentence tags: {}\".format(sent))"
   ]
  },
  {
   "cell_type": "markdown",
   "metadata": {},
   "source": [
    "Let's filter verbs !"
   ]
  },
  {
   "cell_type": "code",
   "execution_count": 14,
   "metadata": {
    "collapsed": false
   },
   "outputs": [
    {
     "name": "stdout",
     "output_type": "stream",
     "text": [
      "--- verbs:\n",
      "[('drove', 'VBD'), ('rolled', 'VBD')]\n",
      "--- verbs:\n",
      "[('was', 'VBD')]\n",
      "--- verbs:\n",
      "[('was', 'VBD'), ('wearing', 'VBG'), ('was', 'VBD'), ('wearing', 'VBG')]\n",
      "--- verbs:\n",
      "[('was', 'VBD')]\n",
      "--- verbs:\n",
      "[('named', 'VBN'), ('exists', 'VBZ')]\n",
      "--- verbs:\n",
      "[('rains', 'VBZ')]\n",
      "--- verbs:\n",
      "[('was', 'VBD'), ('escaped', 'VBD'), ('was', 'VBD')]\n",
      "--- verbs:\n",
      "[('was', 'VBD'), ('been', 'VBN'), ('compelled', 'VBN'), ('spend', 'VB'), ('was', 'VBD')]\n",
      "--- verbs:\n",
      "[('was', 'VBD'), ('put', 'VBD'), ('vacationed', 'VBD')]\n"
     ]
    }
   ],
   "source": [
    "for sent in sent_tags:\n",
    "    tags_filtered = [t for t in sent if t[1].startswith('VB')]\n",
    "    print(\"--- verbs:\\n{}\".format(tags_filtered))"
   ]
  },
  {
   "cell_type": "code",
   "execution_count": 15,
   "metadata": {
    "collapsed": false
   },
   "outputs": [
    {
     "name": "stdout",
     "output_type": "stream",
     "text": [
      "(NPB mother/NN)\n",
      "(NPB the/DT airport/NN)\n",
      "(NPB Phoenix/NNP)\n",
      "(NPB the/DT sky/NN)\n",
      "(NPB a/DT perfect/JJ ,/, cloudless/JJ blue/NN)\n",
      "(NPB\n",
      "  favorite/JJ\n",
      "  shirt/NN\n",
      "  sleeveless/NN\n",
      "  ,/,\n",
      "  white/JJ\n",
      "  eyelet/NN\n",
      "  lace/NN)\n",
      "(NPB a/DT farewell/NN gesture/NN)\n",
      "(NPB carry-on/JJ item/NN)\n",
      "(NPB a/DT parka/NN)\n",
      "(NPB Olympic/NNP Peninsula/NNP)\n",
      "(NPB Washington/NNP State/NNP)\n",
      "(NPB a/DT small/JJ town/NN)\n",
      "(NPB Forks/NNP)\n",
      "(NPB a/DT near-constant/JJ cover/NN)\n",
      "(NPB this/DT inconsequential/JJ town/NN)\n",
      "(NPB any/DT other/JJ place/NN)\n",
      "(NPB United/NNP)\n",
      "(NPB America/NNP)\n",
      "(NPB this/DT town/NN)\n",
      "(NPB gloomy/NN ,/, omnipresent/NN shade/NN)\n",
      "(NPB mother/NN)\n",
      "(NPB this/DT town/NN)\n",
      "(NPB Id/NNP)\n",
      "(V2V compelled/VBN to/TO spend/VB)\n",
      "(NPB a/DT month/NN)\n",
      "(NPB every/DT summer/NN)\n",
      "(NPB the/DT year/NN)\n",
      "(NPB foot/NN)\n",
      "(NPB dad/NN)\n",
      "(NPB Charlie/NNP)\n",
      "(NPB California/NNP)\n"
     ]
    }
   ],
   "source": [
    "from nltk import RegexpParser\n",
    "\n",
    "grammar = r\"\"\"\n",
    "  NPB: {<DT|PP\\$>?<JJ|NN|,>*<NN>}   # chunk determiner/possessive, adjectives and noun\n",
    "      {<NNP>+}                # chunk sequences of proper nouns\n",
    "  V2V: {<V.*> <TO> <V.*>}\n",
    "\"\"\"\n",
    "\n",
    "cp = RegexpParser(grammar)\n",
    "result = cp.parse(sent_tags[1])\n",
    "\n",
    "#print result\n",
    "\n",
    "for sent in sent_tags:\n",
    "    tree = cp.parse(sent)\n",
    "    for subtree in tree.subtrees():\n",
    "        if subtree.label() == 'NPB': print(subtree)\n",
    "        if subtree.label() == 'V2V': print(subtree)"
   ]
  },
  {
   "cell_type": "markdown",
   "metadata": {
    "collapsed": true
   },
   "source": [
    "# Text Featurization part 2 : Indexing Bag-of-Words into a vector table\n",
    "\n",
    "This Walkthrough will lead us from bag-of-words representations of documents to **vector signatures** (indexes) using the **TF-IDF** formula.\n",
    "\n",
    "The ultimate goal of **indexing** is to create a **vector representation** (signature) for each document. This vector representation will be used for:\n",
    "\n",
    "- mine the features that can caracterize classes of documents (supervised learning using **labels**)\n",
    "- mine the documents that have similar features to establish trends (unsupervised learning).\n",
    "\n",
    "To do that, we need:\n",
    "- a fixed number of features\n",
    "- a quantitative value for each feature.\n",
    "\n",
    "The number of features is given by the vocabulary over the corpus: the set of all possible words (tokens) found in all documents.\n",
    "\n",
    "The quantitative value is given, for each doc, by counting the occurences of each of these words in the doc and by using a TF-IDF formula.\n",
    "\n",
    "<img src=\"img/pipeline-walkthrough2.png\" width=\"70%\"/>"
   ]
  },
  {
   "cell_type": "markdown",
   "metadata": {},
   "source": [
    "## 0. Loading some input data from the Amazon Reviews\n",
    "\n",
    "To try this indexing walkthrough, we will get 5 reviews from the Amazon Reviews dataset. We will apply a function for extracting bag-of-words representations from these 5 documents."
   ]
  },
  {
   "cell_type": "code",
   "execution_count": 16,
   "metadata": {
    "collapsed": false
   },
   "outputs": [
    {
     "name": "stdout",
     "output_type": "stream",
     "text": [
      "\n",
      "--- review: Not much to write about here, but it does exactly what it's supposed to. filters out the pop sounds. now my recordings are much more crisp. it is one of the lowest prices pop filters on amazon so might as well buy it, they honestly work the same despite their pricing,\n",
      "--- bow: [u'much', u'filter', u'pop', u'record', u'more', u'crisp', u'lowest', u'price', u'filter', u'amazon', u'same', u'price']\n",
      "\n",
      "--- review: The product does exactly as it should and is quite affordable.I did not realized it was double screened until it arrived, so it was even better than I had expected.As an added bonus, one of the screens carries a small hint of the smell of an old grape candy I used to buy, so for reminiscent's sake, I cannot stop putting the pop filter next to my nose and smelling it after recording. :DIf you needed a pop filter, this will work just as well as the expensive ones, and it may even come with a pleasing aroma like mine did!Buy this product! :]\n",
      "--- bow: [u'product', u'doubl', u'better', u'ad', u'bonus', u'screen', u'small', u'hint', u'smell', u'old', u'grape', u'candi', u'reminisc', u'sake', u'pop', u'filter', u'nose', u'dif', u'pop', u'filter', u'expens', u'one', u'aroma', u'mine', u'product', ']']\n",
      "\n",
      "--- review: The primary job of this device is to block the breath that would otherwise produce a popping sound, while allowing your voice to pass through with no noticeable reduction of volume or high frequencies. The double cloth filter blocks the pops and lets the voice through with no coloration. The metal clamp mount attaches to the mike stand secure enough to keep it attached. The goose neck needs a little coaxing to stay where you put it.\n",
      "--- bow: [u'primari', u'job', u'devic', u'breath', u'pop', u'sound', u'voic', u'notic', u'reduct', u'volum', u'high', u'frequenc', u'doubl', u'cloth', u'filter', u'pop', u'voic', u'color', u'metal', u'clamp', u'mount', u'attach', u'mike', u'secur', u'enough', u'attach', u'goos', u'neck', u'littl', u'coax']\n",
      "\n",
      "--- review: Nice windscreen protects my MXL mic and prevents pops. Only thing is that the gooseneck is only marginally able to hold the screen in position and requires careful positioning of the clamp to avoid sagging.\n",
      "--- bow: [u'nice', u'windscreen', u'protect', u'mxl', u'mic', u'prevent', u'pop', u'thing', u'gooseneck', u'abl', u'screen', u'posit', u'care', u'posit', u'clamp', u'sag']\n",
      "\n",
      "--- review: This pop filter is great. It looks and performs like a studio filter. If you're recording vocals this will eliminate the pops that gets recorded when you sing.\n",
      "--- bow: [u'pop', u'filter', u'great', u'perform', u'studio', u'filter', u'vocal', u'pop']\n"
     ]
    }
   ],
   "source": [
    "import os               # for environ variables in Part 3\n",
    "from nlp_pipeline import extract_bow_from_raw_text\n",
    "import json\n",
    "\n",
    "docs = []\n",
    "with open('./reviews.json', 'r') as data_file:    \n",
    "    for line in data_file:\n",
    "        docs.append(json.loads(line))\n",
    "\n",
    "# extracting bows\n",
    "bows = list(map(lambda row: extract_bow_from_raw_text(row['reviewText']), docs))\n",
    "\n",
    "# displaying bows\n",
    "for i in range(len(docs)):\n",
    "    print(\"\\n--- review: {}\".format(docs[i]['reviewText']))\n",
    "    print(\"--- bow: {}\".format(bows[i]))"
   ]
  },
  {
   "cell_type": "markdown",
   "metadata": {},
   "source": [
    "# 1. Indexing Bag of Words into a Vector Matrix using Term Frequency / Inverse Document Frequency\n",
    "The ultimate goal of indexing is to create a vector representation (signature) for each document. This vector representation will be used for:\n",
    "mine the features that can caracterize classes of documents (supervised learning using labels)\n",
    "mine the documents that have similar features to establish trends (unsupervised learning).\n",
    "To do that, we need:\n",
    "- a fixed number of features\n",
    "- a quantitative value for each feature.\n",
    "\n",
    "The number of features is given by the vocabulary over the corpus: the set of all possible words (tokens) found in all documents.\n",
    "\n",
    "The quantitative value is given, for each doc, by counting the occurences of each of these words in the doc and by using a TF-IDF formula.\n",
    "\n",
    "## 1.1 Term Frequency\n",
    "\n",
    "The number of times a term occurs in a specific document:\n",
    "\n",
    "$tf(term,document) = \\# \\ of \\ times \\ a \\ term \\ appears \\ in \\ a \\ document$"
   ]
  },
  {
   "cell_type": "code",
   "execution_count": 17,
   "metadata": {
    "collapsed": false
   },
   "outputs": [
    {
     "name": "stdout",
     "output_type": "stream",
     "text": [
      "\n",
      "--- review: Not much to write about here, but it does exactly what it's supposed to. filters out the pop sounds. now my recordings are much more crisp. it is one of the lowest prices pop filters on amazon so might as well buy it, they honestly work the same despite their pricing,\n",
      "--- bow: [u'much', u'filter', u'pop', u'record', u'more', u'crisp', u'lowest', u'price', u'filter', u'amazon', u'same', u'price']\n",
      "--- term_occ: Counter({u'price': 2, u'filter': 2, u'lowest': 1, u'crisp': 1, u'pop': 1, u'record': 1, u'amazon': 1, u'much': 1, u'same': 1, u'more': 1})\n",
      "--- term_freq: {u'lowest': 0.08333333333333333, u'crisp': 0.08333333333333333, u'price': 0.16666666666666666, u'pop': 0.08333333333333333, u'filter': 0.16666666666666666, u'record': 0.08333333333333333, u'amazon': 0.08333333333333333, u'much': 0.08333333333333333, u'same': 0.08333333333333333, u'more': 0.08333333333333333}\n",
      "\n",
      "--- review: The product does exactly as it should and is quite affordable.I did not realized it was double screened until it arrived, so it was even better than I had expected.As an added bonus, one of the screens carries a small hint of the smell of an old grape candy I used to buy, so for reminiscent's sake, I cannot stop putting the pop filter next to my nose and smelling it after recording. :DIf you needed a pop filter, this will work just as well as the expensive ones, and it may even come with a pleasing aroma like mine did!Buy this product! :]\n",
      "--- bow: [u'product', u'doubl', u'better', u'ad', u'bonus', u'screen', u'small', u'hint', u'smell', u'old', u'grape', u'candi', u'reminisc', u'sake', u'pop', u'filter', u'nose', u'dif', u'pop', u'filter', u'expens', u'one', u'aroma', u'mine', u'product', ']']\n",
      "--- term_occ: Counter({u'pop': 2, u'product': 2, u'filter': 2, u'old': 1, u'ad': 1, u'mine': 1, u'one': 1, u'grape': 1, u'hint': 1, u'sake': 1, u'doubl': 1, u'better': 1, u'smell': 1, u'expens': 1, u'bonus': 1, u'screen': 1, u'aroma': 1, ']': 1, u'dif': 1, u'nose': 1, u'small': 1, u'reminisc': 1, u'candi': 1})\n",
      "--- term_freq: {u'old': 0.038461538461538464, u'ad': 0.038461538461538464, u'mine': 0.038461538461538464, u'pop': 0.07692307692307693, u'one': 0.038461538461538464, u'grape': 0.038461538461538464, u'hint': 0.038461538461538464, u'sake': 0.038461538461538464, u'doubl': 0.038461538461538464, u'better': 0.038461538461538464, u'smell': 0.038461538461538464, u'nose': 0.038461538461538464, u'product': 0.07692307692307693, u'bonus': 0.038461538461538464, u'screen': 0.038461538461538464, u'aroma': 0.038461538461538464, ']': 0.038461538461538464, u'dif': 0.038461538461538464, u'filter': 0.07692307692307693, u'expens': 0.038461538461538464, u'small': 0.038461538461538464, u'reminisc': 0.038461538461538464, u'candi': 0.038461538461538464}\n",
      "\n",
      "--- review: The primary job of this device is to block the breath that would otherwise produce a popping sound, while allowing your voice to pass through with no noticeable reduction of volume or high frequencies. The double cloth filter blocks the pops and lets the voice through with no coloration. The metal clamp mount attaches to the mike stand secure enough to keep it attached. The goose neck needs a little coaxing to stay where you put it.\n",
      "--- bow: [u'primari', u'job', u'devic', u'breath', u'pop', u'sound', u'voic', u'notic', u'reduct', u'volum', u'high', u'frequenc', u'doubl', u'cloth', u'filter', u'pop', u'voic', u'color', u'metal', u'clamp', u'mount', u'attach', u'mike', u'secur', u'enough', u'attach', u'goos', u'neck', u'littl', u'coax']\n",
      "--- term_occ: Counter({u'pop': 2, u'attach': 2, u'voic': 2, u'clamp': 1, u'color': 1, u'high': 1, u'reduct': 1, u'secur': 1, u'doubl': 1, u'devic': 1, u'littl': 1, u'primari': 1, u'breath': 1, u'enough': 1, u'mike': 1, u'notic': 1, u'cloth': 1, u'job': 1, u'volum': 1, u'coax': 1, u'sound': 1, u'neck': 1, u'frequenc': 1, u'mount': 1, u'metal': 1, u'filter': 1, u'goos': 1})\n",
      "--- term_freq: {u'clamp': 0.03333333333333333, u'color': 0.03333333333333333, u'pop': 0.06666666666666667, u'high': 0.03333333333333333, u'primari': 0.03333333333333333, u'secur': 0.03333333333333333, u'doubl': 0.03333333333333333, u'devic': 0.03333333333333333, u'littl': 0.03333333333333333, u'reduct': 0.03333333333333333, u'breath': 0.03333333333333333, u'attach': 0.06666666666666667, u'enough': 0.03333333333333333, u'mike': 0.03333333333333333, u'voic': 0.06666666666666667, u'notic': 0.03333333333333333, u'cloth': 0.03333333333333333, u'job': 0.03333333333333333, u'volum': 0.03333333333333333, u'neck': 0.03333333333333333, u'sound': 0.03333333333333333, u'coax': 0.03333333333333333, u'frequenc': 0.03333333333333333, u'mount': 0.03333333333333333, u'metal': 0.03333333333333333, u'filter': 0.03333333333333333, u'goos': 0.03333333333333333}\n",
      "\n",
      "--- review: Nice windscreen protects my MXL mic and prevents pops. Only thing is that the gooseneck is only marginally able to hold the screen in position and requires careful positioning of the clamp to avoid sagging.\n",
      "--- bow: [u'nice', u'windscreen', u'protect', u'mxl', u'mic', u'prevent', u'pop', u'thing', u'gooseneck', u'abl', u'screen', u'posit', u'care', u'posit', u'clamp', u'sag']\n",
      "--- term_occ: Counter({u'posit': 2, u'clamp': 1, u'prevent': 1, u'protect': 1, u'gooseneck': 1, u'sag': 1, u'mic': 1, u'abl': 1, u'pop': 1, u'thing': 1, u'mxl': 1, u'care': 1, u'windscreen': 1, u'screen': 1, u'nice': 1})\n",
      "--- term_freq: {u'clamp': 0.0625, u'prevent': 0.0625, u'protect': 0.0625, u'gooseneck': 0.0625, u'abl': 0.0625, u'mic': 0.0625, u'sag': 0.0625, u'pop': 0.0625, u'thing': 0.0625, u'mxl': 0.0625, u'posit': 0.125, u'nice': 0.0625, u'windscreen': 0.0625, u'screen': 0.0625, u'care': 0.0625}\n",
      "\n",
      "--- review: This pop filter is great. It looks and performs like a studio filter. If you're recording vocals this will eliminate the pops that gets recorded when you sing.\n",
      "--- bow: [u'pop', u'filter', u'great', u'perform', u'studio', u'filter', u'vocal', u'pop']\n",
      "--- term_occ: Counter({u'filter': 2, u'pop': 2, u'great': 1, u'perform': 1, u'vocal': 1, u'studio': 1})\n",
      "--- term_freq: {u'great': 0.125, u'perform': 0.125, u'pop': 0.25, u'filter': 0.25, u'studio': 0.125, u'vocal': 0.125}\n"
     ]
    }
   ],
   "source": [
    "from collections import Counter\n",
    "\n",
    "# term occurence = counting distinct words in each bag\n",
    "term_occ = list(map(lambda bow : Counter(bow), bows))\n",
    "\n",
    "# term frequency = occurences over length of bag\n",
    "term_freq = list()\n",
    "for i in range(len(docs)):\n",
    "    term_freq.append( {k: (v / float(len(bows[i])))\n",
    "                       for k, v in term_occ[i].items()} )\n",
    "\n",
    "# displaying occurences\n",
    "for i in range(len(docs)):\n",
    "    print(\"\\n--- review: {}\".format(docs[i]['reviewText']))\n",
    "    print(\"--- bow: {}\".format(bows[i]))\n",
    "    print(\"--- term_occ: {}\".format(term_occ[i]))\n",
    "    print(\"--- term_freq: {}\".format(term_freq[i]))"
   ]
  },
  {
   "cell_type": "markdown",
   "metadata": {},
   "source": [
    "## 1.2. Obtaining document frequencies\n",
    "\n",
    "$df(term,corpus) = \\frac{ \\# \\ of \\ documents \\ that \\ contain \\ a \\ term}{ \\# \\ of \\ documents \\ in \\ the \\ corpus}$\n"
   ]
  },
  {
   "cell_type": "code",
   "execution_count": 18,
   "metadata": {
    "collapsed": false
   },
   "outputs": [
    {
     "name": "stdout",
     "output_type": "stream",
     "text": [
      "\n",
      "--- full vocabulary: Counter({u'pop': 5, u'filter': 4, u'clamp': 2, u'doubl': 2, u'screen': 2, u'prevent': 1, u'old': 1, u'ad': 1, u'color': 1, u'abl': 1, u'sag': 1, u'mine': 1, u'one': 1, u'high': 1, u'littl': 1, u'thing': 1, u'reduct': 1, u'breath': 1, u'grape': 1, u'hint': 1, u'sake': 1, u'windscreen': 1, u'mic': 1, u'devic': 1, u'primari': 1, u'same': 1, u'nose': 1, u'better': 1, u'attach': 1, u'enough': 1, u'much': 1, u'mxl': 1, u'care': 1, u'smell': 1, u'more': 1, u'lowest': 1, u'gooseneck': 1, u'product': 1, u'bonus': 1, u'great': 1, u'price': 1, u'mike': 1, u'voic': 1, u'notic': 1, u'posit': 1, u'cloth': 1, u'amazon': 1, u'volum': 1, u'studio': 1, u'aroma': 1, ']': 1, u'neck': 1, u'sound': 1, u'protect': 1, u'perform': 1, u'crisp': 1, u'coax': 1, u'frequenc': 1, u'dif': 1, u'secur': 1, u'metal': 1, u'job': 1, u'vocal': 1, u'record': 1, u'expens': 1, u'small': 1, u'goos': 1, u'nice': 1, u'reminisc': 1, u'mount': 1, u'candi': 1})\n",
      "\n",
      "--- doc freq: {u'clamp': 0.4, u'prevent': 0.2, u'old': 0.2, u'ad': 0.2, u'protect': 0.2, u'color': 0.2, u'devic': 0.2, u'sag': 0.2, u'mine': 0.2, u'pop': 1.0, u'one': 0.2, u'high': 0.2, u'same': 0.2, u'small': 0.2, u'reduct': 0.2, u'job': 0.2, u'better': 0.2, u'grape': 0.2, u'secur': 0.2, u'hint': 0.2, u'sake': 0.2, ']': 0.2, u'mic': 0.2, u'doubl': 0.4, u'abl': 0.2, u'littl': 0.2, u'primari': 0.2, u'breath': 0.2, u'attach': 0.2, u'enough': 0.2, u'much': 0.2, u'smell': 0.2, u'price': 0.2, u'more': 0.2, u'lowest': 0.2, u'gooseneck': 0.2, u'product': 0.2, u'bonus': 0.2, u'screen': 0.4, u'mike': 0.2, u'voic': 0.2, u'notic': 0.2, u'cloth': 0.2, u'mxl': 0.2, u'volum': 0.2, u'nice': 0.2, u'goos': 0.2, u'aroma': 0.2, u'windscreen': 0.2, u'expens': 0.2, u'care': 0.2, u'sound': 0.2, u'great': 0.2, u'perform': 0.2, u'crisp': 0.2, u'neck': 0.2, u'frequenc': 0.2, u'dif': 0.2, u'coax': 0.2, u'metal': 0.2, u'amazon': 0.2, u'vocal': 0.2, u'filter': 0.8, u'thing': 0.2, u'nose': 0.2, u'posit': 0.2, u'studio': 0.2, u'record': 0.2, u'reminisc': 0.2, u'mount': 0.2, u'candi': 0.2}\n"
     ]
    }
   ],
   "source": [
    "# document occurence = number of documents having this word\n",
    "# term frequency = occurences over length of bag\n",
    "\n",
    "doc_occ = Counter( [word for bow in bows for word in set(bow)] )\n",
    "\n",
    "# document frequency = occurences over length of corpus\n",
    "doc_freq = {k: (v / float(len(docs)))\n",
    "            for k, v in doc_occ.items()}\n",
    "\n",
    "# displaying vocabulary\n",
    "print(\"\\n--- full vocabulary: {}\".format(doc_occ))\n",
    "print(\"\\n--- doc freq: {}\".format(doc_freq))"
   ]
  },
  {
   "cell_type": "markdown",
   "metadata": {},
   "source": [
    "## 1.3 Creating the vocabulary for indexing"
   ]
  },
  {
   "cell_type": "code",
   "execution_count": 19,
   "metadata": {
    "collapsed": false
   },
   "outputs": [
    {
     "name": "stdout",
     "output_type": "stream",
     "text": [
      "-- vocabulary (len=5): [u'clamp', u'pop', u'doubl', u'screen', u'filter']\n"
     ]
    }
   ],
   "source": [
    "# the minimum document frequency (in proportion of the length of the corpus)\n",
    "min_df = 0.3\n",
    "\n",
    "# filtering items to obtain the vocabulary\n",
    "vocabulary = [ k for k,v in doc_freq.items() if v >= min_df ]\n",
    "\n",
    "# print vocabulary\n",
    "print (\"-- vocabulary (len={}): {}\".format(len(vocabulary),vocabulary))"
   ]
  },
  {
   "cell_type": "markdown",
   "metadata": {},
   "source": [
    "## 1.4 the TFIDF vector\n",
    "\n",
    "Words might show up a lot in individual documents, but their relevace is less important if they're in every document! We need to take into account words that show up everywhere and reduce their relative importance. The document frequency does exactly that:\n",
    "\n",
    "$df(term,corpus) = \\frac{ \\# \\ of \\ documents \\ that \\ contain \\ a \\ term}{ \\# \\ of \\ documents \\ in \\ the \\ corpus}$\n",
    "\n",
    "The inverse document frequency is defined in terms of the document frequency as\n",
    "\n",
    "$idf(term,corpus) = \\log{\\frac{1}{df(term,corpus)}}$.\n",
    "\n",
    "\n",
    "TF-IDF is an acronym for the product of two parts: the term frequency tf and what is called the inverse document frequency idf. The term frequency is just the counts in a term frequency vector. \n",
    "\n",
    "tf-idf $ = tf(term,document) * idf(term,corpus)$"
   ]
  },
  {
   "cell_type": "code",
   "execution_count": 20,
   "metadata": {
    "collapsed": false
   },
   "outputs": [
    {
     "name": "stdout",
     "output_type": "stream",
     "text": [
      "\n",
      "--- review: Not much to write about here, but it does exactly what it's supposed to. filters out the pop sounds. now my recordings are much more crisp. it is one of the lowest prices pop filters on amazon so might as well buy it, they honestly work the same despite their pricing,\n",
      "--- bow: [u'much', u'filter', u'pop', u'record', u'more', u'crisp', u'lowest', u'price', u'filter', u'amazon', u'same', u'price']\n",
      "--- tfidf vector: [ 0.          0.05776227  0.          0.          0.13515504]\n",
      "--- tfidf sorted: [(u'filter', 0.13515503603605478), (u'pop', 0.057762265046662105), (u'clamp', 0.0), (u'doubl', 0.0), (u'screen', 0.0)]\n",
      "\n",
      "--- review: The product does exactly as it should and is quite affordable.I did not realized it was double screened until it arrived, so it was even better than I had expected.As an added bonus, one of the screens carries a small hint of the smell of an old grape candy I used to buy, so for reminiscent's sake, I cannot stop putting the pop filter next to my nose and smelling it after recording. :DIf you needed a pop filter, this will work just as well as the expensive ones, and it may even come with a pleasing aroma like mine did!Buy this product! :]\n",
      "--- bow: [u'product', u'doubl', u'better', u'ad', u'bonus', u'screen', u'small', u'hint', u'smell', u'old', u'grape', u'candi', u'reminisc', u'sake', u'pop', u'filter', u'nose', u'dif', u'pop', u'filter', u'expens', u'one', u'aroma', u'mine', u'product', ']']\n",
      "--- tfidf vector: [ 0.          0.05331901  0.04818319  0.04818319  0.06237925]\n",
      "--- tfidf sorted: [(u'filter', 0.062379247401256062), (u'pop', 0.053319013889226566), (u'doubl', 0.0481831910959757), (u'screen', 0.0481831910959757), (u'clamp', 0.0)]\n",
      "\n",
      "--- review: The primary job of this device is to block the breath that would otherwise produce a popping sound, while allowing your voice to pass through with no noticeable reduction of volume or high frequencies. The double cloth filter blocks the pops and lets the voice through with no coloration. The metal clamp mount attaches to the mike stand secure enough to keep it attached. The goose neck needs a little coaxing to stay where you put it.\n",
      "--- bow: [u'primari', u'job', u'devic', u'breath', u'pop', u'sound', u'voic', u'notic', u'reduct', u'volum', u'high', u'frequenc', u'doubl', u'cloth', u'filter', u'pop', u'voic', u'color', u'metal', u'clamp', u'mount', u'attach', u'mike', u'secur', u'enough', u'attach', u'goos', u'neck', u'littl', u'coax']\n",
      "--- tfidf vector: [ 0.04175877  0.04620981  0.04175877  0.          0.02703101]\n",
      "--- tfidf sorted: [(u'pop', 0.046209812037329684), (u'clamp', 0.041758765616512268), (u'doubl', 0.041758765616512268), (u'filter', 0.027031007207210959), (u'screen', 0.0)]\n",
      "\n",
      "--- review: Nice windscreen protects my MXL mic and prevents pops. Only thing is that the gooseneck is only marginally able to hold the screen in position and requires careful positioning of the clamp to avoid sagging.\n",
      "--- bow: [u'nice', u'windscreen', u'protect', u'mxl', u'mic', u'prevent', u'pop', u'thing', u'gooseneck', u'abl', u'screen', u'posit', u'care', u'posit', u'clamp', u'sag']\n",
      "--- tfidf vector: [ 0.07829769  0.0433217   0.          0.07829769  0.        ]\n",
      "--- tfidf sorted: [(u'clamp', 0.078297685530960504), (u'screen', 0.078297685530960504), (u'pop', 0.04332169878499658), (u'doubl', 0.0), (u'filter', 0.0)]\n",
      "\n",
      "--- review: This pop filter is great. It looks and performs like a studio filter. If you're recording vocals this will eliminate the pops that gets recorded when you sing.\n",
      "--- bow: [u'pop', u'filter', u'great', u'perform', u'studio', u'filter', u'vocal', u'pop']\n",
      "--- tfidf vector: [ 0.          0.1732868   0.          0.          0.20273255]\n",
      "--- tfidf sorted: [(u'filter', 0.20273255405408219), (u'pop', 0.17328679513998632), (u'clamp', 0.0), (u'doubl', 0.0), (u'screen', 0.0)]\n"
     ]
    }
   ],
   "source": [
    "import numpy as np\n",
    "\n",
    "# create a dense matrix of vectors for each document\n",
    "# each vector has the length of the vocabulary\n",
    "vectors = np.zeros((len(docs),len(vocabulary)))\n",
    "\n",
    "# fill these vectors with tf-idf values\n",
    "for i in range(len(docs)):\n",
    "    for j in range(len(vocabulary)):\n",
    "        term     = vocabulary[j]\n",
    "        term_tf  = term_freq[i].get(term, 0.0)   # 0.0 if term not found in doc\n",
    "        term_idf = np.log(1 + 1 / doc_freq[term]) # smooth formula\n",
    "        vectors[i,j] = term_tf * term_idf\n",
    "\n",
    "# displaying results\n",
    "for i in range(len(docs)):\n",
    "    print(\"\\n--- review: {}\".format(docs[i]['reviewText']))\n",
    "    print(\"--- bow: {}\".format(bows[i]))\n",
    "    print(\"--- tfidf vector: {}\".format( vectors[i] ) )\n",
    "    print(\"--- tfidf sorted: {}\".format( \n",
    "            sorted( zip(vocabulary,vectors[i]), key=lambda x:-x[1] )\n",
    "         ))"
   ]
  },
  {
   "cell_type": "markdown",
   "metadata": {},
   "source": [
    "## 1.5 Sklearn pipeline"
   ]
  },
  {
   "cell_type": "code",
   "execution_count": 21,
   "metadata": {
    "collapsed": false
   },
   "outputs": [],
   "source": [
    "corpus = [row['reviewText'] for row in docs]"
   ]
  },
  {
   "cell_type": "code",
   "execution_count": 22,
   "metadata": {
    "collapsed": false
   },
   "outputs": [
    {
     "name": "stdout",
     "output_type": "stream",
     "text": [
      "[u'able', u'about', u'added', u'affordable', u'after', u'allowing', u'amazon', u'an', u'and', u'are', u'aroma', u'arrived', u'as', u'attached', u'attaches', u'avoid', u'better', u'block', u'blocks', u'bonus', u'breath', u'but', u'buy', u'candy', u'cannot', u'careful', u'carries', u'clamp', u'cloth', u'coaxing', u'coloration', u'come', u'crisp', u'despite', u'device', u'did', u'dif', u'does', u'double', u'eliminate', u'enough', u'even', u'exactly', u'expected', u'expensive', u'filter', u'filters', u'for', u'frequencies', u'gets', u'goose', u'gooseneck', u'grape', u'great', u'had', u'here', u'high', u'hint', u'hold', u'honestly', u'if', u'in', u'is', u'it', u'job', u'just', u'keep', u'lets', u'like', u'little', u'looks', u'lowest', u'marginally', u'may', u'metal', u'mic', u'might', u'mike', u'mine', u'more', u'mount', u'much', u'mxl', u'my', u'neck', u'needed', u'needs', u'next', u'nice', u'no', u'nose', u'not', u'noticeable', u'now', u'of', u'old', u'on', u'one', u'ones', u'only', u'or', u'otherwise', u'out', u'pass', u'performs', u'pleasing', u'pop', u'popping', u'pops', u'position', u'positioning', u'prevents', u'prices', u'pricing', u'primary', u'produce', u'product', u'protects', u'put', u'putting', u'quite', u're', u'realized', u'recorded', u'recording', u'recordings', u'reduction', u'reminiscent', u'requires', u'sagging', u'sake', u'same', u'screen', u'screened', u'screens', u'secure', u'should', u'sing', u'small', u'smell', u'smelling', u'so', u'sound', u'sounds', u'stand', u'stay', u'stop', u'studio', u'supposed', u'than', u'that', u'the', u'their', u'they', u'thing', u'this', u'through', u'to', u'until', u'used', u'vocals', u'voice', u'volume', u'was', u'well', u'what', u'when', u'where', u'while', u'will', u'windscreen', u'with', u'work', u'would', u'write', u'you', u'your']\n",
      "[[0 1 0 0 0 0 1 0 0 1 0 0 1 0 0 0 0 0 0 0 0 1 1 0 0 0 0 0 0 0 0 0 1 1 0 0 0\n",
      "  1 0 0 0 0 1 0 0 0 2 0 0 0 0 0 0 0 0 1 0 0 0 1 0 0 1 4 0 0 0 0 0 0 0 1 0 0\n",
      "  0 0 1 0 0 1 0 2 0 1 0 0 0 0 0 0 0 1 0 1 1 0 1 1 0 0 0 0 1 0 0 0 2 0 0 0 0\n",
      "  0 1 1 0 0 0 0 0 0 0 0 0 0 0 1 0 0 0 0 0 1 0 0 0 0 0 0 0 0 0 1 0 1 0 0 0 0\n",
      "  1 0 0 3 1 1 0 0 0 2 0 0 0 0 0 0 1 1 0 0 0 0 0 0 1 0 1 0 0]\n",
      " [0 0 1 1 1 0 0 2 3 0 1 1 4 0 0 0 1 0 0 1 0 0 2 1 1 0 1 0 0 0 0 1 0 0 0 2 1\n",
      "  1 1 0 0 2 1 1 1 2 0 1 0 0 0 0 1 0 1 0 0 1 0 0 0 0 1 6 0 1 0 0 1 0 0 0 0 1\n",
      "  0 0 0 0 1 0 0 0 0 1 0 1 0 1 0 0 1 1 0 0 3 1 0 1 1 0 0 0 0 0 0 1 2 0 0 0 0\n",
      "  0 0 0 0 0 2 0 0 1 1 0 1 0 1 0 0 1 0 0 1 0 0 1 1 0 1 0 1 1 1 2 0 0 0 0 1 0\n",
      "  0 1 0 5 0 0 0 2 0 2 1 1 0 0 0 2 1 0 0 0 0 1 0 1 1 0 0 1 0]\n",
      " [0 0 0 0 0 1 0 0 1 0 0 0 0 1 1 0 0 1 1 0 1 0 0 0 0 0 0 1 1 1 1 0 0 0 1 0 0\n",
      "  0 1 0 1 0 0 0 0 1 0 0 1 0 1 0 0 0 0 0 1 0 0 0 0 0 1 2 1 0 1 1 0 1 0 0 0 0\n",
      "  1 0 0 1 0 0 1 0 0 0 1 0 1 0 0 2 0 0 1 0 2 0 0 0 0 0 1 1 0 1 0 0 0 1 1 0 0\n",
      "  0 0 0 1 1 0 0 1 0 0 0 0 0 0 0 1 0 0 0 0 0 0 0 0 1 0 0 0 0 0 0 1 0 1 1 0 0\n",
      "  0 0 1 8 0 0 0 1 2 5 0 0 0 2 1 0 0 0 0 1 1 0 0 2 0 1 0 1 1]\n",
      " [1 0 0 0 0 0 0 0 2 0 0 0 0 0 0 1 0 0 0 0 0 0 0 0 0 1 0 1 0 0 0 0 0 0 0 0 0\n",
      "  0 0 0 0 0 0 0 0 0 0 0 0 0 0 1 0 0 0 0 0 0 1 0 0 1 2 0 0 0 0 0 0 0 0 0 1 0\n",
      "  0 1 0 0 0 0 0 0 1 1 0 0 0 0 1 0 0 0 0 0 1 0 0 0 0 2 0 0 0 0 0 0 0 0 1 1 1\n",
      "  1 0 0 0 0 0 1 0 0 0 0 0 0 0 0 0 0 1 1 0 0 1 0 0 0 0 0 0 0 0 0 0 0 0 0 0 0\n",
      "  0 0 1 3 0 0 1 0 0 2 0 0 0 0 0 0 0 0 0 0 0 0 1 0 0 0 0 0 0]\n",
      " [0 0 0 0 0 0 0 0 1 0 0 0 0 0 0 0 0 0 0 0 0 0 0 0 0 0 0 0 0 0 0 0 0 0 0 0 0\n",
      "  0 0 1 0 0 0 0 0 2 0 0 0 1 0 0 0 1 0 0 0 0 0 0 1 0 1 1 0 0 0 0 1 0 1 0 0 0\n",
      "  0 0 0 0 0 0 0 0 0 0 0 0 0 0 0 0 0 0 0 0 0 0 0 0 0 0 0 0 0 0 1 0 1 0 1 0 0\n",
      "  0 0 0 0 0 0 0 0 0 0 1 0 1 1 0 0 0 0 0 0 0 0 0 0 0 0 1 0 0 0 0 0 0 0 0 0 1\n",
      "  0 0 1 1 0 0 0 2 0 0 0 0 1 0 0 0 0 0 1 0 0 1 0 0 0 0 0 2 0]]\n"
     ]
    }
   ],
   "source": [
    "from sklearn.feature_extraction.text import CountVectorizer\n",
    "\n",
    "tf = CountVectorizer()\n",
    "\n",
    "document_tf_matrix = tf.fit_transform(corpus).todense()\n",
    "\n",
    "print sorted(tf.vocabulary_)\n",
    "print document_tf_matrix"
   ]
  },
  {
   "cell_type": "code",
   "execution_count": 23,
   "metadata": {
    "collapsed": false
   },
   "outputs": [
    {
     "name": "stdout",
     "output_type": "stream",
     "text": [
      "[u'able', u'about', u'added', u'affordable', u'after', u'allowing', u'amazon', u'an', u'and', u'are', u'aroma', u'arrived', u'as', u'attached', u'attaches', u'avoid', u'better', u'block', u'blocks', u'bonus', u'breath', u'but', u'buy', u'candy', u'cannot', u'careful', u'carries', u'clamp', u'cloth', u'coaxing', u'coloration', u'come', u'crisp', u'despite', u'device', u'did', u'dif', u'does', u'double', u'eliminate', u'enough', u'even', u'exactly', u'expected', u'expensive', u'filter', u'filters', u'for', u'frequencies', u'gets', u'goose', u'gooseneck', u'grape', u'great', u'had', u'here', u'high', u'hint', u'hold', u'honestly', u'if', u'in', u'is', u'it', u'job', u'just', u'keep', u'lets', u'like', u'little', u'looks', u'lowest', u'marginally', u'may', u'metal', u'mic', u'might', u'mike', u'mine', u'more', u'mount', u'much', u'mxl', u'my', u'neck', u'needed', u'needs', u'next', u'nice', u'no', u'nose', u'not', u'noticeable', u'now', u'of', u'old', u'on', u'one', u'ones', u'only', u'or', u'otherwise', u'out', u'pass', u'performs', u'pleasing', u'pop', u'popping', u'pops', u'position', u'positioning', u'prevents', u'prices', u'pricing', u'primary', u'produce', u'product', u'protects', u'put', u'putting', u'quite', u're', u'realized', u'recorded', u'recording', u'recordings', u'reduction', u'reminiscent', u'requires', u'sagging', u'sake', u'same', u'screen', u'screened', u'screens', u'secure', u'should', u'sing', u'small', u'smell', u'smelling', u'so', u'sound', u'sounds', u'stand', u'stay', u'stop', u'studio', u'supposed', u'than', u'that', u'the', u'their', u'they', u'thing', u'this', u'through', u'to', u'until', u'used', u'vocals', u'voice', u'volume', u'was', u'well', u'what', u'when', u'where', u'while', u'will', u'windscreen', u'with', u'work', u'would', u'write', u'you', u'your']\n",
      "[1.6094379124341003, 1.6094379124341003, 1.6094379124341003, 1.6094379124341003, 1.6094379124341003, 1.6094379124341003, 1.6094379124341003, 1.6094379124341003, 0.22314355131420976, 1.6094379124341003, 1.6094379124341003, 1.6094379124341003, 0.9162907318741551, 1.6094379124341003, 1.6094379124341003, 1.6094379124341003, 1.6094379124341003, 1.6094379124341003, 1.6094379124341003, 1.6094379124341003, 1.6094379124341003, 1.6094379124341003, 0.9162907318741551, 1.6094379124341003, 1.6094379124341003, 1.6094379124341003, 1.6094379124341003, 0.9162907318741551, 1.6094379124341003, 1.6094379124341003, 1.6094379124341003, 1.6094379124341003, 1.6094379124341003, 1.6094379124341003, 1.6094379124341003, 1.6094379124341003, 1.6094379124341003, 0.9162907318741551, 0.9162907318741551, 1.6094379124341003, 1.6094379124341003, 1.6094379124341003, 0.9162907318741551, 1.6094379124341003, 1.6094379124341003, 0.5108256237659907, 1.6094379124341003, 1.6094379124341003, 1.6094379124341003, 1.6094379124341003, 1.6094379124341003, 1.6094379124341003, 1.6094379124341003, 1.6094379124341003, 1.6094379124341003, 1.6094379124341003, 1.6094379124341003, 1.6094379124341003, 1.6094379124341003, 1.6094379124341003, 1.6094379124341003, 1.6094379124341003, 0.0, 0.22314355131420976, 1.6094379124341003, 1.6094379124341003, 1.6094379124341003, 1.6094379124341003, 0.9162907318741551, 1.6094379124341003, 1.6094379124341003, 1.6094379124341003, 1.6094379124341003, 1.6094379124341003, 1.6094379124341003, 1.6094379124341003, 1.6094379124341003, 1.6094379124341003, 1.6094379124341003, 1.6094379124341003, 1.6094379124341003, 1.6094379124341003, 1.6094379124341003, 0.5108256237659907, 1.6094379124341003, 1.6094379124341003, 1.6094379124341003, 1.6094379124341003, 1.6094379124341003, 1.6094379124341003, 1.6094379124341003, 0.9162907318741551, 1.6094379124341003, 1.6094379124341003, 0.22314355131420976, 1.6094379124341003, 1.6094379124341003, 0.9162907318741551, 1.6094379124341003, 1.6094379124341003, 1.6094379124341003, 1.6094379124341003, 1.6094379124341003, 1.6094379124341003, 1.6094379124341003, 1.6094379124341003, 0.5108256237659907, 1.6094379124341003, 0.5108256237659907, 1.6094379124341003, 1.6094379124341003, 1.6094379124341003, 1.6094379124341003, 1.6094379124341003, 1.6094379124341003, 1.6094379124341003, 1.6094379124341003, 1.6094379124341003, 1.6094379124341003, 1.6094379124341003, 1.6094379124341003, 1.6094379124341003, 1.6094379124341003, 1.6094379124341003, 0.9162907318741551, 1.6094379124341003, 1.6094379124341003, 1.6094379124341003, 1.6094379124341003, 1.6094379124341003, 1.6094379124341003, 1.6094379124341003, 1.6094379124341003, 1.6094379124341003, 1.6094379124341003, 1.6094379124341003, 1.6094379124341003, 1.6094379124341003, 1.6094379124341003, 1.6094379124341003, 1.6094379124341003, 0.9162907318741551, 1.6094379124341003, 1.6094379124341003, 1.6094379124341003, 1.6094379124341003, 1.6094379124341003, 1.6094379124341003, 1.6094379124341003, 1.6094379124341003, 0.5108256237659907, 0.0, 1.6094379124341003, 1.6094379124341003, 1.6094379124341003, 0.5108256237659907, 1.6094379124341003, 0.22314355131420976, 1.6094379124341003, 1.6094379124341003, 1.6094379124341003, 1.6094379124341003, 1.6094379124341003, 1.6094379124341003, 0.9162907318741551, 1.6094379124341003, 1.6094379124341003, 1.6094379124341003, 1.6094379124341003, 0.9162907318741551, 1.6094379124341003, 0.9162907318741551, 0.9162907318741551, 1.6094379124341003, 1.6094379124341003, 0.5108256237659907, 1.6094379124341003]\n"
     ]
    }
   ],
   "source": [
    "from math import log\n",
    "\n",
    "def idf(frequency_matrix):\n",
    "    df =  float(len(document_tf_matrix)) / sum(frequency_matrix > 0)\n",
    "    return [log(i) for i in df.getA()[0]]\n",
    "print sorted(tf.vocabulary_)\n",
    "print idf(document_tf_matrix)"
   ]
  },
  {
   "cell_type": "code",
   "execution_count": 24,
   "metadata": {
    "collapsed": false
   },
   "outputs": [
    {
     "name": "stdout",
     "output_type": "stream",
     "text": [
      "[u'able', u'about', u'added', u'affordable', u'after', u'allowing', u'amazon', u'an', u'and', u'are', u'aroma', u'arrived', u'as', u'attached', u'attaches', u'avoid', u'better', u'block', u'blocks', u'bonus', u'breath', u'but', u'buy', u'candy', u'cannot', u'careful', u'carries', u'clamp', u'cloth', u'coaxing', u'coloration', u'come', u'crisp', u'despite', u'device', u'did', u'dif', u'does', u'double', u'eliminate', u'enough', u'even', u'exactly', u'expected', u'expensive', u'filter', u'filters', u'for', u'frequencies', u'gets', u'goose', u'gooseneck', u'grape', u'great', u'had', u'here', u'high', u'hint', u'hold', u'honestly', u'if', u'in', u'is', u'it', u'job', u'just', u'keep', u'lets', u'like', u'little', u'looks', u'lowest', u'marginally', u'may', u'metal', u'mic', u'might', u'mike', u'mine', u'more', u'mount', u'much', u'mxl', u'my', u'neck', u'needed', u'needs', u'next', u'nice', u'no', u'nose', u'not', u'noticeable', u'now', u'of', u'old', u'on', u'one', u'ones', u'only', u'or', u'otherwise', u'out', u'pass', u'performs', u'pleasing', u'pop', u'popping', u'pops', u'position', u'positioning', u'prevents', u'prices', u'pricing', u'primary', u'produce', u'product', u'protects', u'put', u'putting', u'quite', u're', u'realized', u'recorded', u'recording', u'recordings', u'reduction', u'reminiscent', u'requires', u'sagging', u'sake', u'same', u'screen', u'screened', u'screens', u'secure', u'should', u'sing', u'small', u'smell', u'smelling', u'so', u'sound', u'sounds', u'stand', u'stay', u'stop', u'studio', u'supposed', u'than', u'that', u'the', u'their', u'they', u'thing', u'this', u'through', u'to', u'until', u'used', u'vocals', u'voice', u'volume', u'was', u'well', u'what', u'when', u'where', u'while', u'will', u'windscreen', u'with', u'work', u'would', u'write', u'you', u'your']\n",
      "[[ 0.          0.14280355  0.          0.          0.          0.\n",
      "   0.14280355  0.          0.          0.14280355  0.          0.\n",
      "   0.11521301  0.          0.          0.          0.          0.          0.\n",
      "   0.          0.          0.14280355  0.11521301  0.          0.          0.\n",
      "   0.          0.          0.          0.          0.          0.\n",
      "   0.14280355  0.14280355  0.          0.          0.          0.11521301\n",
      "   0.          0.          0.          0.          0.11521301  0.          0.\n",
      "   0.          0.2856071   0.          0.          0.          0.          0.\n",
      "   0.          0.          0.          0.14280355  0.          0.          0.\n",
      "   0.14280355  0.          0.          0.06804666  0.32181212  0.          0.\n",
      "   0.          0.          0.          0.          0.          0.14280355\n",
      "   0.          0.          0.          0.          0.14280355  0.          0.\n",
      "   0.14280355  0.          0.2856071   0.          0.0956372   0.          0.\n",
      "   0.          0.          0.          0.          0.          0.11521301\n",
      "   0.          0.14280355  0.08045303  0.          0.14280355  0.11521301\n",
      "   0.          0.          0.          0.          0.14280355  0.          0.\n",
      "   0.          0.1912744   0.          0.          0.          0.          0.\n",
      "   0.14280355  0.14280355  0.          0.          0.          0.          0.\n",
      "   0.          0.          0.          0.          0.          0.\n",
      "   0.14280355  0.          0.          0.          0.          0.\n",
      "   0.14280355  0.          0.          0.          0.          0.          0.\n",
      "   0.          0.          0.          0.11521301  0.          0.14280355\n",
      "   0.          0.          0.          0.          0.14280355  0.          0.\n",
      "   0.20413997  0.14280355  0.14280355  0.          0.          0.\n",
      "   0.16090606  0.          0.          0.          0.          0.          0.\n",
      "   0.11521301  0.14280355  0.          0.          0.          0.          0.\n",
      "   0.          0.11521301  0.          0.14280355  0.          0.        ]\n",
      " [ 0.          0.          0.09309924  0.09309924  0.09309924  0.          0.\n",
      "   0.18619848  0.15735146  0.          0.09309924  0.09309924  0.30044752\n",
      "   0.          0.          0.          0.09309924  0.          0.\n",
      "   0.09309924  0.          0.          0.15022376  0.09309924  0.09309924\n",
      "   0.          0.09309924  0.          0.          0.          0.\n",
      "   0.09309924  0.          0.          0.          0.18619848  0.09309924\n",
      "   0.07511188  0.07511188  0.          0.          0.18619848  0.07511188\n",
      "   0.09309924  0.09309924  0.12469929  0.          0.09309924  0.          0.\n",
      "   0.          0.          0.09309924  0.          0.09309924  0.          0.\n",
      "   0.09309924  0.          0.          0.          0.          0.04436229\n",
      "   0.31470293  0.          0.09309924  0.          0.          0.07511188\n",
      "   0.          0.          0.          0.          0.09309924  0.          0.\n",
      "   0.          0.          0.09309924  0.          0.          0.          0.\n",
      "   0.06234965  0.          0.09309924  0.          0.09309924  0.          0.\n",
      "   0.09309924  0.07511188  0.          0.          0.15735146  0.09309924\n",
      "   0.          0.07511188  0.09309924  0.          0.          0.          0.\n",
      "   0.          0.          0.09309924  0.12469929  0.          0.          0.\n",
      "   0.          0.          0.          0.          0.          0.\n",
      "   0.18619848  0.          0.          0.09309924  0.09309924  0.\n",
      "   0.09309924  0.          0.07511188  0.          0.          0.09309924\n",
      "   0.          0.          0.09309924  0.          0.          0.09309924\n",
      "   0.09309924  0.          0.09309924  0.          0.09309924  0.09309924\n",
      "   0.09309924  0.15022376  0.          0.          0.          0.\n",
      "   0.09309924  0.          0.          0.09309924  0.          0.22181143\n",
      "   0.          0.          0.          0.12469929  0.          0.10490098\n",
      "   0.09309924  0.09309924  0.          0.          0.          0.18619848\n",
      "   0.07511188  0.          0.          0.          0.          0.07511188\n",
      "   0.          0.07511188  0.07511188  0.          0.          0.06234965\n",
      "   0.        ]\n",
      " [ 0.          0.          0.          0.          0.          0.10865818\n",
      "   0.          0.          0.06121612  0.          0.          0.          0.\n",
      "   0.10865818  0.10865818  0.          0.          0.10865818  0.10865818\n",
      "   0.          0.10865818  0.          0.          0.          0.          0.\n",
      "   0.          0.08766473  0.10865818  0.10865818  0.10865818  0.          0.\n",
      "   0.          0.10865818  0.          0.          0.          0.08766473\n",
      "   0.          0.10865818  0.          0.          0.          0.\n",
      "   0.07276965  0.          0.          0.10865818  0.          0.10865818\n",
      "   0.          0.          0.          0.          0.          0.10865818\n",
      "   0.          0.          0.          0.          0.          0.0517762\n",
      "   0.12243225  0.10865818  0.          0.10865818  0.10865818  0.\n",
      "   0.10865818  0.          0.          0.          0.          0.10865818\n",
      "   0.          0.          0.10865818  0.          0.          0.10865818\n",
      "   0.          0.          0.          0.10865818  0.          0.10865818\n",
      "   0.          0.          0.21731636  0.          0.          0.10865818\n",
      "   0.          0.12243225  0.          0.          0.          0.          0.\n",
      "   0.10865818  0.10865818  0.          0.10865818  0.          0.          0.\n",
      "   0.10865818  0.07276965  0.          0.          0.          0.          0.\n",
      "   0.10865818  0.10865818  0.          0.          0.10865818  0.          0.\n",
      "   0.          0.          0.          0.          0.          0.10865818\n",
      "   0.          0.          0.          0.          0.          0.          0.\n",
      "   0.          0.10865818  0.          0.          0.          0.          0.\n",
      "   0.          0.10865818  0.          0.10865818  0.10865818  0.          0.\n",
      "   0.          0.          0.07276965  0.41420964  0.          0.          0.\n",
      "   0.07276965  0.21731636  0.30608061  0.          0.          0.\n",
      "   0.21731636  0.10865818  0.          0.          0.          0.\n",
      "   0.10865818  0.10865818  0.          0.          0.17532947  0.\n",
      "   0.10865818  0.          0.07276965  0.10865818]\n",
      " [ 0.18017345  0.          0.          0.          0.          0.          0.\n",
      "   0.          0.20301316  0.          0.          0.          0.          0.\n",
      "   0.          0.18017345  0.          0.          0.          0.          0.\n",
      "   0.          0.          0.          0.          0.18017345  0.\n",
      "   0.1453628   0.          0.          0.          0.          0.          0.\n",
      "   0.          0.          0.          0.          0.          0.          0.\n",
      "   0.          0.          0.          0.          0.          0.          0.\n",
      "   0.          0.          0.          0.18017345  0.          0.          0.\n",
      "   0.          0.          0.          0.18017345  0.          0.\n",
      "   0.18017345  0.17170723  0.          0.          0.          0.          0.\n",
      "   0.          0.          0.          0.          0.18017345  0.          0.\n",
      "   0.18017345  0.          0.          0.          0.          0.          0.\n",
      "   0.18017345  0.12066426  0.          0.          0.          0.\n",
      "   0.18017345  0.          0.          0.          0.          0.\n",
      "   0.10150658  0.          0.          0.          0.          0.3603469\n",
      "   0.          0.          0.          0.          0.          0.          0.\n",
      "   0.          0.12066426  0.18017345  0.18017345  0.18017345  0.          0.\n",
      "   0.          0.          0.          0.18017345  0.          0.          0.\n",
      "   0.          0.          0.          0.          0.          0.          0.\n",
      "   0.18017345  0.18017345  0.          0.          0.18017345  0.          0.\n",
      "   0.          0.          0.          0.          0.          0.          0.\n",
      "   0.          0.          0.          0.          0.          0.          0.\n",
      "   0.          0.12066426  0.25756084  0.          0.          0.18017345\n",
      "   0.          0.          0.20301316  0.          0.          0.          0.\n",
      "   0.          0.          0.          0.          0.          0.          0.\n",
      "   0.          0.18017345  0.          0.          0.          0.          0.\n",
      "   0.        ]\n",
      " [ 0.          0.          0.          0.          0.          0.          0.\n",
      "   0.          0.12074815  0.          0.          0.          0.          0.\n",
      "   0.          0.          0.          0.          0.          0.          0.\n",
      "   0.          0.          0.          0.          0.          0.          0.\n",
      "   0.          0.          0.          0.          0.          0.          0.\n",
      "   0.          0.          0.          0.          0.2143271   0.          0.\n",
      "   0.          0.          0.          0.28707471  0.          0.          0.\n",
      "   0.2143271   0.          0.          0.          0.2143271   0.          0.\n",
      "   0.          0.          0.          0.          0.2143271   0.\n",
      "   0.10212801  0.12074815  0.          0.          0.          0.\n",
      "   0.17291775  0.          0.2143271   0.          0.          0.          0.\n",
      "   0.          0.          0.          0.          0.          0.          0.\n",
      "   0.          0.          0.          0.          0.          0.          0.\n",
      "   0.          0.          0.          0.          0.          0.          0.\n",
      "   0.          0.          0.          0.          0.          0.          0.\n",
      "   0.          0.2143271   0.          0.14353736  0.          0.14353736\n",
      "   0.          0.          0.          0.          0.          0.          0.\n",
      "   0.          0.          0.          0.          0.          0.2143271\n",
      "   0.          0.2143271   0.17291775  0.          0.          0.          0.\n",
      "   0.          0.          0.          0.          0.          0.          0.\n",
      "   0.          0.2143271   0.          0.          0.          0.          0.\n",
      "   0.          0.          0.          0.          0.2143271   0.          0.\n",
      "   0.14353736  0.10212801  0.          0.          0.          0.28707471\n",
      "   0.          0.          0.          0.          0.2143271   0.          0.\n",
      "   0.          0.          0.          0.2143271   0.          0.\n",
      "   0.17291775  0.          0.          0.          0.          0.\n",
      "   0.28707471  0.        ]]\n"
     ]
    }
   ],
   "source": [
    "from sklearn.feature_extraction.text import TfidfVectorizer\n",
    "tfidf = TfidfVectorizer()\n",
    "document_tfidf_matrix = tfidf.fit_transform(corpus)\n",
    "print sorted(tfidf.vocabulary_)\n",
    "print document_tfidf_matrix.todense()"
   ]
  },
  {
   "cell_type": "markdown",
   "metadata": {},
   "source": [
    "# Part 3 : Comparing two documents / Similarity Measures\n",
    "\n",
    "## 3.1 Euclidean distance\n",
    "\n",
    "We could try the Euclidean distance $||\\vec{x}-\\vec{y}||$  \n",
    "What problems would we encounter with this? \n",
    "\n",
    "The euclidean distance goes up with the length of a document. Intuitively, duplicating each word in our bag of words generates a vector that points in exactly the same direction, however, the euclidean distance goes up. One solution is to normalize vectors before calculating the euclidean distance. Now increasing the length of a document does not change the Euclidean distance unless the direction of the term frequency vector changes. \n",
    "\n",
    "## 3.2 Cosine Similarity\n",
    "Recall that for two vector $\\vec{x}$ and $\\vec{y}$ that $\\vec{x} \\cdot \\vec{y} = ||\\vec{x}|| ||\\vec{y}|| \\cos{\\theta}$. And so,\n",
    "\n",
    "$\\frac{\\vec{x} \\cdot \\vec{y} }{||\\vec{x}|| ||\\vec{y}||} = \\cos{\\theta}$\n",
    "\n",
    "θ can only range from 0 to 90 degrees, because tf-idf vectors are non-negative. Therefore cos θ ranges from 0 to 1. Documents that are exactly identical will have cos θ = 1\n"
   ]
  },
  {
   "cell_type": "code",
   "execution_count": null,
   "metadata": {
    "collapsed": true
   },
   "outputs": [],
   "source": []
  }
 ],
 "metadata": {
  "anaconda-cloud": {},
  "kernelspec": {
   "display_name": "Python [conda env:py27]",
   "language": "python",
   "name": "conda-env-py27-py"
  },
  "language_info": {
   "codemirror_mode": {
    "name": "ipython",
    "version": 2
   },
   "file_extension": ".py",
   "mimetype": "text/x-python",
   "name": "python",
   "nbconvert_exporter": "python",
   "pygments_lexer": "ipython2",
   "version": "2.7.12"
  }
 },
 "nbformat": 4,
 "nbformat_minor": 0
}
