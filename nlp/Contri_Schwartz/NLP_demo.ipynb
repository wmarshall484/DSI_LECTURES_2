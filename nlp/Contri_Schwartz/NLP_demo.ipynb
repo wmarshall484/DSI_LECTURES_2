{
 "cells": [
  {
   "cell_type": "code",
   "execution_count": 1,
   "metadata": {
    "collapsed": true
   },
   "outputs": [],
   "source": [
    "from collections import Counter\n",
    "import numpy as np"
   ]
  },
  {
   "cell_type": "markdown",
   "metadata": {},
   "source": [
    "## Compile Documents"
   ]
  },
  {
   "cell_type": "code",
   "execution_count": 2,
   "metadata": {
    "collapsed": true
   },
   "outputs": [],
   "source": [
    "doc1 = 'Wise people think they are foolish'\n",
    "doc2 = 'Foolish foolish people think they are wise wise'\n",
    "doc3 = 'I am definitely wise so this irritates me'\n",
    "doc4 = 'Ryan is for sure like definitely foolish'"
   ]
  },
  {
   "cell_type": "markdown",
   "metadata": {},
   "source": [
    "## Create Corpus"
   ]
  },
  {
   "cell_type": "code",
   "execution_count": 3,
   "metadata": {
    "collapsed": true
   },
   "outputs": [],
   "source": [
    "documents = [doc1, doc2, doc3, doc4]"
   ]
  },
  {
   "cell_type": "markdown",
   "metadata": {},
   "source": [
    "## Tokenize and Lower case"
   ]
  },
  {
   "cell_type": "code",
   "execution_count": 4,
   "metadata": {
    "collapsed": true
   },
   "outputs": [],
   "source": [
    "from nltk.tokenize import word_tokenize\n",
    "\n",
    "tokenized = [word_tokenize(doc.lower()) for doc in documents]"
   ]
  },
  {
   "cell_type": "markdown",
   "metadata": {},
   "source": [
    "## Remove Stop Words"
   ]
  },
  {
   "cell_type": "code",
   "execution_count": 5,
   "metadata": {
    "collapsed": true
   },
   "outputs": [],
   "source": [
    "from nltk.corpus import stopwords\n",
    "\n",
    "stop = set(stopwords.words('english'))\n",
    "docs = [[word for word in words if word not in stop]\n",
    "        for words in tokenized]"
   ]
  },
  {
   "cell_type": "markdown",
   "metadata": {},
   "source": [
    "## Stemming and Lemmatization"
   ]
  },
  {
   "cell_type": "code",
   "execution_count": 6,
   "metadata": {
    "collapsed": false
   },
   "outputs": [],
   "source": [
    "from nltk.stem.porter import PorterStemmer\n",
    "from nltk.stem.wordnet import WordNetLemmatizer\n",
    "\n",
    "porter = PorterStemmer()\n",
    "wordnet = WordNetLemmatizer()\n",
    "\n",
    "docs_stem = [[porter.stem(word) for word in words]\n",
    "               for words in docs]\n",
    "docs_lemma = [[wordnet.lemmatize(word) for word in words]\n",
    "                for words in docs]"
   ]
  },
  {
   "cell_type": "code",
   "execution_count": 7,
   "metadata": {
    "collapsed": false
   },
   "outputs": [
    {
     "name": "stdout",
     "output_type": "stream",
     "text": [
      "mice\n",
      "mouse\n"
     ]
    }
   ],
   "source": [
    "print porter.stem('mice')\n",
    "print wordnet.lemmatize('mice')"
   ]
  },
  {
   "cell_type": "code",
   "execution_count": 8,
   "metadata": {
    "collapsed": false
   },
   "outputs": [
    {
     "data": {
      "text/plain": [
       "[[u'wise', u'peopl', u'think', u'foolish'],\n",
       " [u'foolish', u'foolish', u'peopl', u'think', u'wise', u'wise'],\n",
       " [u'definit', u'wise', u'irrit'],\n",
       " [u'ryan', u'sure', u'like', u'definit', u'foolish']]"
      ]
     },
     "execution_count": 8,
     "metadata": {},
     "output_type": "execute_result"
    }
   ],
   "source": [
    "docs_stem"
   ]
  },
  {
   "cell_type": "code",
   "execution_count": 10,
   "metadata": {
    "collapsed": false
   },
   "outputs": [
    {
     "data": {
      "text/plain": [
       "[['wise', 'people', 'think', 'foolish'],\n",
       " ['foolish', 'foolish', 'people', 'think', 'wise', 'wise'],\n",
       " ['definitely', 'wise', 'irritates'],\n",
       " ['ryan', 'sure', 'like', 'definitely', 'foolish']]"
      ]
     },
     "execution_count": 10,
     "metadata": {},
     "output_type": "execute_result"
    }
   ],
   "source": [
    "docs_lemma"
   ]
  },
  {
   "cell_type": "markdown",
   "metadata": {},
   "source": [
    "## Vocabulary for our Corpus"
   ]
  },
  {
   "cell_type": "code",
   "execution_count": 11,
   "metadata": {
    "collapsed": false
   },
   "outputs": [],
   "source": [
    "vocabulary = [word for doc in docs_lemma for word in doc]\n",
    "vocabulary = sorted(list(set(vocabulary)))"
   ]
  },
  {
   "cell_type": "code",
   "execution_count": 12,
   "metadata": {
    "collapsed": false
   },
   "outputs": [
    {
     "name": "stdout",
     "output_type": "stream",
     "text": [
      "Vocabulary (features): ['definitely', 'foolish', 'irritates', 'like', 'people', 'ryan', 'sure', 'think', 'wise']\n"
     ]
    }
   ],
   "source": [
    "print 'Vocabulary (features):',vocabulary"
   ]
  },
  {
   "cell_type": "markdown",
   "metadata": {},
   "source": [
    "## Bag of Words"
   ]
  },
  {
   "cell_type": "code",
   "execution_count": 13,
   "metadata": {
    "collapsed": true
   },
   "outputs": [],
   "source": [
    "def bow_vectorize(doc, vocabulary):\n",
    "    bag_of_words = Counter(doc)\n",
    "    doc_vector = np.zeros(len(vocabulary))\n",
    "    for word_index, word in enumerate(vocabulary):\n",
    "        if word in bag_of_words:\n",
    "            doc_vector[word_index] += bag_of_words[word]\n",
    "    return doc_vector"
   ]
  },
  {
   "cell_type": "code",
   "execution_count": 14,
   "metadata": {
    "collapsed": false,
    "scrolled": true
   },
   "outputs": [],
   "source": [
    "bow_matrix = list()\n",
    "for doc in docs_lemma:\n",
    "    bow_matrix.append(bow_vectorize(doc, vocabulary))\n"
   ]
  },
  {
   "cell_type": "code",
   "execution_count": 15,
   "metadata": {
    "collapsed": false
   },
   "outputs": [
    {
     "name": "stdout",
     "output_type": "stream",
     "text": [
      "features: ['definitely', 'foolish', 'irritates', 'like', 'people', 'ryan', 'sure', 'think', 'wise']\n",
      "\n",
      "\"['wise', 'people', 'think', 'foolish']\": \n",
      "[ 0.  1.  0.  0.  1.  0.  0.  1.  1.] \n",
      "\n",
      "\"['foolish', 'foolish', 'people', 'think', 'wise', 'wise']\": \n",
      "[ 0.  2.  0.  0.  1.  0.  0.  1.  2.] \n",
      "\n",
      "\"['definitely', 'wise', 'irritates']\": \n",
      "[ 1.  0.  1.  0.  0.  0.  0.  0.  1.] \n",
      "\n",
      "\"['ryan', 'sure', 'like', 'definitely', 'foolish']\": \n",
      "[ 1.  1.  0.  1.  0.  1.  1.  0.  0.] \n",
      "\n",
      "\n",
      "feature matrix:\n",
      "[array([ 0.,  1.,  0.,  0.,  1.,  0.,  0.,  1.,  1.]), array([ 0.,  2.,  0.,  0.,  1.,  0.,  0.,  1.,  2.]), array([ 1.,  0.,  1.,  0.,  0.,  0.,  0.,  0.,  1.]), array([ 1.,  1.,  0.,  1.,  0.,  1.,  1.,  0.,  0.])]\n"
     ]
    }
   ],
   "source": [
    "print 'features:',vocabulary\n",
    "print\n",
    "for i in range(len(bow_matrix)):\n",
    "    print '\"%s\":'%docs_lemma[i], '\\n', bow_matrix[i], '\\n'\n",
    "print\n",
    "print 'feature matrix:'\n",
    "print bow_matrix"
   ]
  },
  {
   "cell_type": "markdown",
   "metadata": {},
   "source": [
    "### Bag of Words with CountVectorizer"
   ]
  },
  {
   "cell_type": "code",
   "execution_count": 16,
   "metadata": {
    "collapsed": false
   },
   "outputs": [],
   "source": [
    "from sklearn.feature_extraction.text import CountVectorizer\n",
    "def lemmatize(doc):\n",
    "    return [wordnet.lemmatize(word) for word in word_tokenize(doc.lower())]\n",
    "\n",
    "count_vectorizer = CountVectorizer(stop_words=stopwords.words('english'),\n",
    "                                  vocabulary=vocabulary,\n",
    "                                  tokenizer = lemmatize)\n",
    "feature_matrix = count_vectorizer.fit_transform([doc1]).todense()"
   ]
  },
  {
   "cell_type": "code",
   "execution_count": 17,
   "metadata": {
    "collapsed": false
   },
   "outputs": [
    {
     "name": "stdout",
     "output_type": "stream",
     "text": [
      "Vectorize: Wise people think they are foolish\n",
      "Lemmatized: ['wise', 'people', 'think', 'foolish']\n",
      "Features: ['definitely', 'foolish', 'irritates', 'like', 'people', 'ryan', 'sure', 'think', 'wise']\n",
      "\n",
      "sklearn result [[0 1 0 0 1 0 0 1 1]]\n",
      "our result [ 0.  1.  0.  0.  1.  0.  0.  1.  1.]\n",
      "\n",
      "feature matrix\n",
      "[[0 1 0 0 1 0 0 1 1]\n",
      " [0 2 0 0 1 0 0 1 2]\n",
      " [1 0 1 0 0 0 0 0 1]\n",
      " [1 1 0 1 0 1 1 0 0]]\n"
     ]
    }
   ],
   "source": [
    "print 'Vectorize:',doc1\n",
    "print 'Lemmatized:',docs_lemma[0]\n",
    "print 'Features:', vocabulary\n",
    "print\n",
    "print 'sklearn result',feature_matrix\n",
    "print 'our result',bow_vectorize(docs_lemma[0], vocabulary)\n",
    "print \n",
    "print 'feature matrix'\n",
    "print count_vectorizer.fit_transform(documents).todense()"
   ]
  },
  {
   "cell_type": "markdown",
   "metadata": {},
   "source": [
    "## Term Frequency (Tf)"
   ]
  },
  {
   "cell_type": "code",
   "execution_count": 18,
   "metadata": {
    "collapsed": false
   },
   "outputs": [],
   "source": [
    "def tf_vectorize(doc, vocabulary):\n",
    "    bow_vector = bow_vectorize(doc, vocabulary)\n",
    "    tf_vector = np.zeros(len(vocabulary))\n",
    "    for idx, vec in enumerate(bow_vector):\n",
    "        tf_vector[idx] = vec/len(doc)\n",
    "    return tf_vector\n",
    "            "
   ]
  },
  {
   "cell_type": "code",
   "execution_count": 19,
   "metadata": {
    "collapsed": false
   },
   "outputs": [],
   "source": [
    "tf_matrix = list()\n",
    "for doc in docs_lemma:\n",
    "    tf_matrix.append(tf_vectorize(doc, vocabulary))"
   ]
  },
  {
   "cell_type": "code",
   "execution_count": 20,
   "metadata": {
    "collapsed": false
   },
   "outputs": [
    {
     "name": "stdout",
     "output_type": "stream",
     "text": [
      "features: ['definitely', 'foolish', 'irritates', 'like', 'people', 'ryan', 'sure', 'think', 'wise']\n",
      "\n",
      "\"['wise', 'people', 'think', 'foolish']\": \n",
      "[ 0.    0.25  0.    0.    0.25  0.    0.    0.25  0.25] \n",
      "\n",
      "\"['foolish', 'foolish', 'people', 'think', 'wise', 'wise']\": \n",
      "[ 0.          0.33333333  0.          0.          0.16666667  0.          0.\n",
      "  0.16666667  0.33333333] \n",
      "\n",
      "\"['definitely', 'wise', 'irritates']\": \n",
      "[ 0.33333333  0.          0.33333333  0.          0.          0.          0.\n",
      "  0.          0.33333333] \n",
      "\n",
      "\"['ryan', 'sure', 'like', 'definitely', 'foolish']\": \n",
      "[ 0.2  0.2  0.   0.2  0.   0.2  0.2  0.   0. ] \n",
      "\n"
     ]
    }
   ],
   "source": [
    "print 'features:',vocabulary\n",
    "print\n",
    "for i in range(len(tf_matrix)):\n",
    "    print '\"%s\":'%docs_lemma[i], '\\n', tf_matrix[i], '\\n'"
   ]
  },
  {
   "cell_type": "code",
   "execution_count": 21,
   "metadata": {
    "collapsed": false
   },
   "outputs": [
    {
     "data": {
      "text/plain": [
       "[u'i',\n",
       " u'me',\n",
       " u'my',\n",
       " u'myself',\n",
       " u'we',\n",
       " u'our',\n",
       " u'ours',\n",
       " u'ourselves',\n",
       " u'you',\n",
       " u'your',\n",
       " u'yours',\n",
       " u'yourself',\n",
       " u'yourselves',\n",
       " u'he',\n",
       " u'him',\n",
       " u'his',\n",
       " u'himself',\n",
       " u'she',\n",
       " u'her',\n",
       " u'hers',\n",
       " u'herself',\n",
       " u'it',\n",
       " u'its',\n",
       " u'itself',\n",
       " u'they',\n",
       " u'them',\n",
       " u'their',\n",
       " u'theirs',\n",
       " u'themselves',\n",
       " u'what',\n",
       " u'which',\n",
       " u'who',\n",
       " u'whom',\n",
       " u'this',\n",
       " u'that',\n",
       " u'these',\n",
       " u'those',\n",
       " u'am',\n",
       " u'is',\n",
       " u'are',\n",
       " u'was',\n",
       " u'were',\n",
       " u'be',\n",
       " u'been',\n",
       " u'being',\n",
       " u'have',\n",
       " u'has',\n",
       " u'had',\n",
       " u'having',\n",
       " u'do',\n",
       " u'does',\n",
       " u'did',\n",
       " u'doing',\n",
       " u'a',\n",
       " u'an',\n",
       " u'the',\n",
       " u'and',\n",
       " u'but',\n",
       " u'if',\n",
       " u'or',\n",
       " u'because',\n",
       " u'as',\n",
       " u'until',\n",
       " u'while',\n",
       " u'of',\n",
       " u'at',\n",
       " u'by',\n",
       " u'for',\n",
       " u'with',\n",
       " u'about',\n",
       " u'against',\n",
       " u'between',\n",
       " u'into',\n",
       " u'through',\n",
       " u'during',\n",
       " u'before',\n",
       " u'after',\n",
       " u'above',\n",
       " u'below',\n",
       " u'to',\n",
       " u'from',\n",
       " u'up',\n",
       " u'down',\n",
       " u'in',\n",
       " u'out',\n",
       " u'on',\n",
       " u'off',\n",
       " u'over',\n",
       " u'under',\n",
       " u'again',\n",
       " u'further',\n",
       " u'then',\n",
       " u'once',\n",
       " u'here',\n",
       " u'there',\n",
       " u'when',\n",
       " u'where',\n",
       " u'why',\n",
       " u'how',\n",
       " u'all',\n",
       " u'any',\n",
       " u'both',\n",
       " u'each',\n",
       " u'few',\n",
       " u'more',\n",
       " u'most',\n",
       " u'other',\n",
       " u'some',\n",
       " u'such',\n",
       " u'no',\n",
       " u'nor',\n",
       " u'not',\n",
       " u'only',\n",
       " u'own',\n",
       " u'same',\n",
       " u'so',\n",
       " u'than',\n",
       " u'too',\n",
       " u'very',\n",
       " u's',\n",
       " u't',\n",
       " u'can',\n",
       " u'will',\n",
       " u'just',\n",
       " u'don',\n",
       " u'should',\n",
       " u'now',\n",
       " u'd',\n",
       " u'll',\n",
       " u'm',\n",
       " u'o',\n",
       " u're',\n",
       " u've',\n",
       " u'y',\n",
       " u'ain',\n",
       " u'aren',\n",
       " u'couldn',\n",
       " u'didn',\n",
       " u'doesn',\n",
       " u'hadn',\n",
       " u'hasn',\n",
       " u'haven',\n",
       " u'isn',\n",
       " u'ma',\n",
       " u'mightn',\n",
       " u'mustn',\n",
       " u'needn',\n",
       " u'shan',\n",
       " u'shouldn',\n",
       " u'wasn',\n",
       " u'weren',\n",
       " u'won',\n",
       " u'wouldn']"
      ]
     },
     "execution_count": 21,
     "metadata": {},
     "output_type": "execute_result"
    }
   ],
   "source": [
    "stopwords.words('english')"
   ]
  },
  {
   "cell_type": "markdown",
   "metadata": {},
   "source": [
    "## Some Tf-Idf "
   ]
  },
  {
   "cell_type": "code",
   "execution_count": 22,
   "metadata": {
    "collapsed": true
   },
   "outputs": [],
   "source": [
    "from sklearn.feature_extraction.text import TfidfVectorizer\n",
    "\n",
    "tfidf_vectorizer = TfidfVectorizer(stop_words=stopwords.words('english'),\n",
    "                                  vocabulary=vocabulary)\n",
    "tfidf_matrix = tfidf_vectorizer.fit_transform(documents).todense()"
   ]
  },
  {
   "cell_type": "code",
   "execution_count": 23,
   "metadata": {
    "collapsed": false
   },
   "outputs": [
    {
     "name": "stdout",
     "output_type": "stream",
     "text": [
      "features: ['definitely', 'foolish', 'irritates', 'like', 'people', 'ryan', 'sure', 'think', 'wise']\n",
      "\n",
      "\"['wise', 'people', 'think', 'foolish']\": \n",
      "[[ 0.          0.44493104  0.          0.          0.54957835  0.          0.\n",
      "   0.54957835  0.44493104]] \n",
      "\n",
      "\"['foolish', 'foolish', 'people', 'think', 'wise', 'wise']\": \n",
      "[[ 0.          0.60161783  0.          0.          0.37155886  0.          0.\n",
      "   0.37155886  0.60161783]] \n",
      "\n",
      "\"['definitely', 'wise', 'irritates']\": \n",
      "[[ 0.55349232  0.          0.70203482  0.          0.          0.          0.\n",
      "   0.          0.44809973]] \n",
      "\n",
      "\"['ryan', 'sure', 'like', 'definitely', 'foolish']\": \n",
      "[[ 0.39278432  0.31799276  0.          0.49819711  0.          0.49819711\n",
      "   0.49819711  0.          0.        ]] \n",
      "\n"
     ]
    }
   ],
   "source": [
    "print 'features:',vocabulary\n",
    "print\n",
    "for i in range(len(tfidf_matrix)):\n",
    "    print '\"%s\":'%docs_lemma[i], '\\n', tfidf_matrix[i], '\\n'"
   ]
  },
  {
   "cell_type": "markdown",
   "metadata": {},
   "source": [
    "## Euclidian Distance Comparison"
   ]
  },
  {
   "cell_type": "code",
   "execution_count": 24,
   "metadata": {
    "collapsed": true
   },
   "outputs": [],
   "source": [
    "from sklearn.metrics.pairwise import euclidean_distances"
   ]
  },
  {
   "cell_type": "code",
   "execution_count": 25,
   "metadata": {
    "collapsed": false
   },
   "outputs": [
    {
     "name": "stdout",
     "output_type": "stream",
     "text": [
      "Compare \"Wise people think they are foolish\" \n",
      "with \"Foolish foolish people think they are wise wise\"\n",
      "[[ 1.41421356]]\n"
     ]
    }
   ],
   "source": [
    "print 'Compare \"%s\" \\nwith \"%s\"'%(doc1, doc2)\n",
    "print euclidean_distances(bow_matrix[0].reshape(1,-1), bow_matrix[1].reshape(1,-1))"
   ]
  },
  {
   "cell_type": "code",
   "execution_count": 26,
   "metadata": {
    "collapsed": false
   },
   "outputs": [
    {
     "name": "stdout",
     "output_type": "stream",
     "text": [
      "Compare \"Wise people think they are foolish\" \n",
      "with \"Foolish foolish people think they are wise wise\"\n",
      "[[ 0.16666667]]\n"
     ]
    }
   ],
   "source": [
    "print 'Compare \"%s\" \\nwith \"%s\"'%(doc1, doc2)\n",
    "print euclidean_distances(tf_matrix[0].reshape(1,-1), tf_matrix[1].reshape(1,-1))"
   ]
  },
  {
   "cell_type": "code",
   "execution_count": 28,
   "metadata": {
    "collapsed": false
   },
   "outputs": [
    {
     "name": "stdout",
     "output_type": "stream",
     "text": [
      "Compare \"Wise people think they are foolish\" \n",
      "with \"Foolish foolish people think they are wise wise\"\n",
      "[[ 0.33538543]]\n"
     ]
    }
   ],
   "source": [
    "print 'Compare \"%s\" \\nwith \"%s\"'%(doc1, doc2)\n",
    "print euclidean_distances(tfidf_matrix[0].reshape(1,-1), tfidf_matrix[1].reshape(1,-1))"
   ]
  },
  {
   "cell_type": "markdown",
   "metadata": {},
   "source": [
    "## Cosine Similarity Comparison"
   ]
  },
  {
   "cell_type": "code",
   "execution_count": 29,
   "metadata": {
    "collapsed": true
   },
   "outputs": [],
   "source": [
    "from sklearn.metrics.pairwise import cosine_similarity"
   ]
  },
  {
   "cell_type": "code",
   "execution_count": 30,
   "metadata": {
    "collapsed": false
   },
   "outputs": [
    {
     "name": "stdout",
     "output_type": "stream",
     "text": [
      "Compare \"Wise people think they are foolish\" \n",
      "with \"Foolish foolish people think they are wise wise\"\n",
      "[[ 0.9486833]]\n"
     ]
    }
   ],
   "source": [
    "print 'Compare \"%s\" \\nwith \"%s\"'%(doc1, doc2)\n",
    "print cosine_similarity(bow_matrix[0].reshape(1,-1), bow_matrix[1].reshape(1,-1))"
   ]
  },
  {
   "cell_type": "code",
   "execution_count": 31,
   "metadata": {
    "collapsed": false
   },
   "outputs": [
    {
     "name": "stdout",
     "output_type": "stream",
     "text": [
      "Compare \"Wise people think they are foolish\" \n",
      "with \"Foolish foolish people think they are wise wise\"\n",
      "[[ 0.9486833]]\n"
     ]
    }
   ],
   "source": [
    "print 'Compare \"%s\" \\nwith \"%s\"'%(doc1, doc2)\n",
    "print cosine_similarity(tf_matrix[0].reshape(1,-1), tf_matrix[1].reshape(1,-1))"
   ]
  },
  {
   "cell_type": "code",
   "execution_count": 32,
   "metadata": {
    "collapsed": false
   },
   "outputs": [
    {
     "name": "stdout",
     "output_type": "stream",
     "text": [
      "Compare \"Wise people think they are foolish\" \n",
      "with \"Foolish foolish people think they are wise wise\"\n",
      "[[ 0.94375831]]\n"
     ]
    }
   ],
   "source": [
    "print 'Compare \"%s\" \\nwith \"%s\"'%(doc1, doc2)\n",
    "print cosine_similarity(tfidf_matrix[0].reshape(1,-1), tfidf_matrix[1].reshape(1,-1))"
   ]
  },
  {
   "cell_type": "markdown",
   "metadata": {},
   "source": [
    "# Search Engine Query Example"
   ]
  },
  {
   "cell_type": "code",
   "execution_count": 35,
   "metadata": {
    "collapsed": true
   },
   "outputs": [],
   "source": [
    "query = 'the foolish Ryan'"
   ]
  },
  {
   "cell_type": "code",
   "execution_count": 36,
   "metadata": {
    "collapsed": false
   },
   "outputs": [
    {
     "name": "stdout",
     "output_type": "stream",
     "text": [
      "Query: the foolish Ryan\n",
      "Vectorized query: [[ 0.          0.70710678  0.          0.          0.          0.70710678\n",
      "   0.          0.          0.        ]]\n"
     ]
    }
   ],
   "source": [
    "query_vectorized = tfidf_vectorizer.fit_transform([query]).todense()\n",
    "print \"Query:\",query\n",
    "print \"Vectorized query:\",query_vectorized"
   ]
  },
  {
   "cell_type": "code",
   "execution_count": 37,
   "metadata": {
    "collapsed": false
   },
   "outputs": [
    {
     "name": "stdout",
     "output_type": "stream",
     "text": [
      "Wise people think they are foolish [[ 0.31461376]]\n",
      "Foolish foolish people think they are wise wise [[ 0.42540805]]\n",
      "I am definitely wise so this irritates me [[ 0.]]\n",
      "Ryan is for sure like definitely foolish [[ 0.57713339]]\n"
     ]
    }
   ],
   "source": [
    "for doc, tf_doc in zip(documents, tfidf_matrix):\n",
    "    print doc, cosine_similarity(query_vectorized.reshape(1, -1), tf_doc.reshape(1, -1))"
   ]
  },
  {
   "cell_type": "markdown",
   "metadata": {},
   "source": [
    "## A Final Cosine Similiarity Thingy"
   ]
  },
  {
   "cell_type": "code",
   "execution_count": 38,
   "metadata": {
    "collapsed": false
   },
   "outputs": [
    {
     "name": "stdout",
     "output_type": "stream",
     "text": [
      "\"Wise people think they are foolish\" compared with \"Foolish foolish people think they are wise wise\"\n",
      "TF cosine similarity: [[ 0.9486833]]\n",
      "TF-IDF cosine similarity: [[ 0.94375831]]\n",
      "\"Wise people think they are foolish\" compared with \"I am definitely wise so this irritates me\"\n",
      "TF cosine similarity: [[ 0.28867513]]\n",
      "TF-IDF cosine similarity: [[ 0.19937348]]\n",
      "\"Wise people think they are foolish\" compared with \"Ryan is for sure like definitely foolish\"\n",
      "TF cosine similarity: [[ 0.2236068]]\n",
      "TF-IDF cosine similarity: [[ 0.14148485]]\n"
     ]
    }
   ],
   "source": [
    "for index in xrange(len(documents[1:])):\n",
    "    print '\"%s\" compared with \"%s\"'%(documents[0], documents[index+1])\n",
    "    print 'TF cosine similarity:', cosine_similarity(tf_matrix[0].reshape(1, -1),\n",
    "                                                     tf_matrix[index+1].reshape(1, -1))\n",
    "    print 'TF-IDF cosine similarity:', cosine_similarity(tfidf_matrix[0].reshape(1, -1),\n",
    "                                                         tfidf_matrix[index+1].reshape(1, -1))\n",
    "    "
   ]
  },
  {
   "cell_type": "code",
   "execution_count": null,
   "metadata": {
    "collapsed": true
   },
   "outputs": [],
   "source": []
  },
  {
   "cell_type": "code",
   "execution_count": null,
   "metadata": {
    "collapsed": true
   },
   "outputs": [],
   "source": []
  }
 ],
 "metadata": {
  "kernelspec": {
   "display_name": "Python [Root]",
   "language": "python",
   "name": "Python [Root]"
  },
  "language_info": {
   "codemirror_mode": {
    "name": "ipython",
    "version": 2
   },
   "file_extension": ".py",
   "mimetype": "text/x-python",
   "name": "python",
   "nbconvert_exporter": "python",
   "pygments_lexer": "ipython2",
   "version": "2.7.12"
  }
 },
 "nbformat": 4,
 "nbformat_minor": 0
}
