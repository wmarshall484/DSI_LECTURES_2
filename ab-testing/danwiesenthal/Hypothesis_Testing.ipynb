{
 "cells": [
  {
   "cell_type": "markdown",
   "metadata": {
    "nbpresent": {
     "id": "52ce26f3-3de8-41ac-83bb-971e2325e85c"
    },
    "slideshow": {
     "slide_type": "slide"
    }
   },
   "source": [
    "# Hypothesis Testing\n",
    "\n",
    "## Lecture for Galvanize DSI\n",
    "\n",
    "#### Dan Wiesenthal\n",
    "#### From Darren Reger's Excellent Slides"
   ]
  },
  {
   "cell_type": "markdown",
   "metadata": {
    "nbpresent": {
     "id": "f46f2d18-c938-48fc-b93d-2a99b2ba9e0e"
    },
    "slideshow": {
     "slide_type": "slide"
    }
   },
   "source": [
    "# Objectives - Morning\n",
    "\n",
    "- Understand the difference between estimation and hypothesis testing \n",
    "- Be able to perform a hypothesis test\n",
    "- Discuss the differences between Type I & Type II error\n",
    "- Know when to use a 1-tailed vs. 2-tailed test\n",
    "- Be able to compare means and proportions\n",
    "- Test multiple hypotheses correctly"
   ]
  },
  {
   "cell_type": "markdown",
   "metadata": {
    "slideshow": {
     "slide_type": "slide"
    }
   },
   "source": [
    "# Story Time"
   ]
  },
  {
   "cell_type": "markdown",
   "metadata": {
    "slideshow": {
     "slide_type": "subslide"
    }
   },
   "source": [
    "# Story Time\n",
    "- Does tea taste different if the milk was poured in first?\n",
    "- Fisher and his *improbably lucky* secretary\n",
    "- Fisher and his rejection of the null hypothesis\n",
    "- \"You're either the luckiest woman in the world, or you can actually tell the difference.\"\n",
    "- ... what if she had gotten 19 right? 18? ...12?\n",
    "- ... what if it was 5,500/10,000?"
   ]
  },
  {
   "cell_type": "markdown",
   "metadata": {
    "slideshow": {
     "slide_type": "slide"
    }
   },
   "source": [
    "# Central Limit Theorem\n",
    "\n",
    "- Under certain conditions, the **mean** of a sufficiently large number of i.i.d. random variables will be approximately normal, **regardless** of the underlying distribution.\n",
    "- This can allow us to do hypothesis testing, because we can use the sample to ask whether our data was likely to have been drawn from the hypothesized distribution.\n",
    "\n",
    "<img src='clt.png'></img>"
   ]
  },
  {
   "cell_type": "markdown",
   "metadata": {
    "slideshow": {
     "slide_type": "subslide"
    }
   },
   "source": [
    "# Central Limit Theorem\n",
    "\n",
    "Not only is the sample mean normally distributed, we also have:\n",
    "\n",
    "$\\bar{X} $~$ Normal(\\mu,\\frac{\\sigma^2}{n})$\n",
    "\n",
    "Like any other normal random variable, we can derive a standard normal Z-score:\n",
    "\n",
    "$Z = \\frac{\\bar{X}-\\mu}{\\frac{\\sigma}{\\sqrt{n}}}$"
   ]
  },
  {
   "cell_type": "markdown",
   "metadata": {
    "nbpresent": {
     "id": "44f566e4-975c-4dd9-bf74-e18c516385e3"
    },
    "slideshow": {
     "slide_type": "slide"
    }
   },
   "source": [
    "# Estimation vs. Hypothesis Testing\n",
    "\n",
    "## Estimation\n",
    "- The value of the parameter is unknown\n",
    "- Goal is to find a point estimate and confidence interval for likely value of the parameter\n",
    "\n",
    "## Hypothesis Testing\n",
    "- The value of the parameter is stated... *as our hypothesis*\n",
    "- Goal is to determine how reasonable/unreasonable this value is\n",
    "- We have a *specific question we are trying to answer*, which we phrase as a hypothesis"
   ]
  },
  {
   "cell_type": "markdown",
   "metadata": {
    "nbpresent": {
     "id": "ad671e12-c5df-4093-ad94-f1f6a495658a"
    },
    "slideshow": {
     "slide_type": "slide"
    }
   },
   "source": [
    "# Null Hypothesis vs. Alternative Hypothesis\n",
    "\n",
    "## Null Hypothesis\n",
    "- Typically a measure of the status quo (assume no effect)\n",
    "\n",
    "## Alternative Hypothesis\n",
    "- Typically the effect a researcher hopes to measure\n",
    "\n",
    "### Goal: falsify the status quo\n",
    "\n",
    "#### Innocent ($H_0$) until proven guilty ($H_1$)\n",
    "\n",
    "<img src=\"Hyp1.png\">"
   ]
  },
  {
   "cell_type": "markdown",
   "metadata": {
    "nbpresent": {
     "id": "f7d34319-1708-45a0-bbfd-986d987d6539"
    },
    "slideshow": {
     "slide_type": "slide"
    }
   },
   "source": [
    "# Hypothesis Testing Steps\n",
    "\n",
    "1. State the null ($H_0$) and the alternative ($H_1$) hypotheses\n",
    "2. Choose a level of significance $\\alpha$\n",
    "    - Threshold used to determine whether we reject or fail to reject the null hypothesis\n",
    "    - Probability of rejecting the null when it is in fact true\n",
    "3. Choose an appropriate statistical test\n",
    "4. Find the test statistic\n",
    "4. Compare the test statistic we found to the critical value and draw conclusions\n",
    "    - Reject $H_0$ in favor of $H_1$\n",
    "    - Fail to reject $H_0$\n"
   ]
  },
  {
   "cell_type": "markdown",
   "metadata": {
    "nbpresent": {
     "id": "f8db7b93-3d65-4bc6-b548-1f6a03b490d3"
    },
    "slideshow": {
     "slide_type": "slide"
    }
   },
   "source": [
    "# Type I vs. Type II Error\n",
    "\n",
    "**Employers ask this**\n",
    "\n",
    "Type I error:    P(Type I) = P(Reject $H_0$ | $H_0$ is true) \n",
    "\n",
    "Type II error:   P(Type II) = P(Fail to Reject $H_0$ | $H_0$ is false)\n",
    "\n",
    "<img src='error_type.png'>\n",
    "\n",
    "If the null hypothesis were true, we would live in the world of the left curve. But, even living in that happy $H_0$ status-quo world, there are still some times we'll get values so far to the right that we'll think we're living in bizarro $H_1$ world.  We might then reject the null in error, which is a false positive.  We thought we were in $H_1$, but we weren't; this is Type I error.  Today's material talks about $\\alpha$; tomorrow when we talk about Power we'll talk about $\\beta$ and Type II error."
   ]
  },
  {
   "cell_type": "markdown",
   "metadata": {
    "nbpresent": {
     "id": "237c2a50-74b2-4053-b3e0-60bdcaba4ebf"
    },
    "slideshow": {
     "slide_type": "slide"
    }
   },
   "source": [
    "# 1 vs. 2 Tailed Tests\n",
    "\n",
    "- P-value: \n",
    "    - Probability of observing the data we observed, or more extreme, given that the null hypothesis is true.\n",
    "    - Did we just have bad luck?\n",
    "- Three questions we can ask:\n",
    "    - Is the parameter simply different?\n",
    "        - I think the average height is 5 foot 9, am I right?\n",
    "    - Is the parameter higher?\n",
    "        - Maybe we want higher conversion on our site\n",
    "    - Is the parameter lower?\n",
    "        - Maybe we want lower churn for our users\n",
    "\n",
    "<img src='Hyp_table.png', width = \"70%\"></img>"
   ]
  },
  {
   "cell_type": "markdown",
   "metadata": {
    "slideshow": {
     "slide_type": "slide"
    }
   },
   "source": [
    "# One Sample Test of Population Mean\n",
    "\n",
    "**Problem**: Let's say the received knowledge, status-quo understanding of the average IQ of DSI students is 100.  (IQ tests are designed so the population average is 100.)  But, we think that all our students are really smart and that perhaps the actual average IQ of a DSI student is higher than 100.\n",
    "To test this we randomly sample 5 students and find the following scores: 91,101,111,121,131.\n",
    "Is there sufficient evidence to say that the average IQ is higher?"
   ]
  },
  {
   "cell_type": "markdown",
   "metadata": {
    "slideshow": {
     "slide_type": "subslide"
    }
   },
   "source": [
    "**Step 1** Define our hypotheses:\n",
    "\n",
    "$H_0$: $\\mu$ <= 100\n",
    "\n",
    "$H_1$: $\\mu$ > 100\n",
    "\n",
    "**Step 2** Determine the appropriate test and level of significance:\n",
    "\n",
    "1-tailed test, $\\alpha$ = 0.05\n",
    "\n",
    "**Step 3** Calculate our test statistic:\n",
    "\n",
    "$t= \\frac{\\bar{x}-\\mu}{\\frac{s}{\\sqrt{n}}}$ \n",
    "\n",
    "**Step 4** Compare our test statistic to the critical value:\n",
    "\n",
    "$t$ > critical value?\n",
    "\n",
    "T or Z?  If $\\sigma$ is unknown and we have to estimate it, use t.  If we're not estimating $\\sigma$, use z.  That said, if you're estimating $\\sigma$ and you have >30, you can use z too, since z approximates t when n > 30.  If you're not sure, go with t, as it's more conservative and approaches z anyway with more data points.\n",
    "\n",
    "http://rpsychologist.com/d3/tdist/ example\n",
    "\n",
    "**Step 4**:\n",
    "\n",
    "Depending on the results of our comparison between our test statistic and our critical value, we reject or fail to reject null hypothesis\n"
   ]
  },
  {
   "cell_type": "markdown",
   "metadata": {
    "collapsed": true,
    "slideshow": {
     "slide_type": "subslide"
    }
   },
   "source": [
    "```import scipy.stats as scs\n",
    "import numpy as np\n",
    "numbers = [91,101,111,121,131]\n",
    "mu =\n",
    "alpha =\n",
    "xbar = #use numpy\n",
    "std = #use numpy, be careful with degrees of freedom\n",
    "n= #use a list method\n",
    "dof = \n",
    "t_value = scs.t.ppf(1-alpha,dof)\n",
    "t_stat = #use the formula for the t-statistic\n",
    "print \"Degrees of freedom = {:d}\".format(dof)\n",
    "print \"xbar = {:0.1f}\".format(xbar)\n",
    "print \"Standard Deviation = {:0.3f}\".format(std)\n",
    "print \"T-value = {:0.3f}\".format(t_value)\n",
    "print \"T-statistic = {:0.3f}\".format(t_stat)\n",
    "print \"The t-statistic is greater than the t-value: {}\".format(t_stat>t_value)```"
   ]
  },
  {
   "cell_type": "code",
   "execution_count": 1,
   "metadata": {
    "slideshow": {
     "slide_type": "subslide"
    }
   },
   "outputs": [
    {
     "name": "stdout",
     "output_type": "stream",
     "text": [
      "Degrees of freedom = 4\n",
      "xbar = 111.0\n",
      "Standard Deviation = 15.811\n",
      "T-value = 2.132\n",
      "T-statistic = 1.556\n",
      "The t-statistic is greater than the t-value: False\n"
     ]
    }
   ],
   "source": [
    "import scipy.stats as scs\n",
    "import numpy as np\n",
    "numbers = [91,101,111,121,131]\n",
    "mu = 100\n",
    "alpha = 0.05\n",
    "xbar = np.mean(numbers)\n",
    "std = np.std(numbers,ddof = 1)\n",
    "n=len(numbers)\n",
    "dof = n - 1\n",
    "t_value = scs.t.ppf(1-alpha,dof)\n",
    "t_stat = (xbar-mu)/(std/np.sqrt(n))\n",
    "print \"Degrees of freedom = {:d}\".format(dof)\n",
    "print \"xbar = {:0.1f}\".format(xbar)\n",
    "print \"Standard Deviation = {:0.3f}\".format(std)\n",
    "print \"T-value = {:0.3f}\".format(t_value)\n",
    "print \"T-statistic = {:0.3f}\".format(t_stat)\n",
    "print \"The t-statistic is greater than the t-value: {}\".format(t_stat>t_value)"
   ]
  },
  {
   "cell_type": "code",
   "execution_count": 2,
   "metadata": {
    "slideshow": {
     "slide_type": "subslide"
    }
   },
   "outputs": [
    {
     "name": "stdout",
     "output_type": "stream",
     "text": [
      "Degrees of freedom = 4\n",
      "xbar = 111.0\n",
      "Standard Deviation = 15.811\n",
      "T-values = -2.776,2.776\n",
      "T-statistic = 1.556\n",
      "The t-statistic is outside the bounds of the t-values: False\n"
     ]
    }
   ],
   "source": [
    "#2 tailed test\n",
    "numbers = [91,101,111,121,131]\n",
    "mu = 100\n",
    "alpha = 0.025\n",
    "xbar = np.mean(numbers)\n",
    "std = np.std(numbers,ddof = 1)\n",
    "n=len(numbers)\n",
    "dof = n - 1\n",
    "t_value1 = scs.t.ppf(alpha,dof)\n",
    "t_value2 = scs.t.ppf(1-alpha,dof)\n",
    "t_stat = (xbar-mu)/(std/np.sqrt(n))\n",
    "print \"Degrees of freedom = {:d}\".format(dof)\n",
    "print \"xbar = {:0.1f}\".format(xbar)\n",
    "print \"Standard Deviation = {:0.3f}\".format(std)\n",
    "print \"T-values = {:0.3f},{:0.3f}\".format(t_value1,t_value2)\n",
    "print \"T-statistic = {:0.3f}\".format(t_stat)\n",
    "print \"The t-statistic is outside the bounds of the t-values: {}\".format((t_stat>t_value2) or (t_stat<t_value1))"
   ]
  },
  {
   "cell_type": "markdown",
   "metadata": {},
   "source": [
    "# What if we want a p-value?\n",
    "We can integrate under the curve starting at our t-statistic.\n",
    "But we don't want to do that manually; nor, in fact, do we want to calculate t-statistics manually.  Let's use scipy!"
   ]
  },
  {
   "cell_type": "markdown",
   "metadata": {
    "slideshow": {
     "slide_type": "subslide"
    }
   },
   "source": [
    "# Use Scipy!"
   ]
  },
  {
   "cell_type": "code",
   "execution_count": 3,
   "metadata": {
    "slideshow": {
     "slide_type": "fragment"
    }
   },
   "outputs": [
    {
     "name": "stdout",
     "output_type": "stream",
     "text": [
      "Ttest_1sampResult(statistic=1.5556349186104046, pvalue=0.19477503277472785)\n",
      "\n",
      "Make it readable\n",
      "T-statistic = 1.55563491861\n",
      "p-value = 0.194775032775\n"
     ]
    }
   ],
   "source": [
    "print scs.ttest_1samp(numbers,mu)\n",
    "\n",
    "print '\\nMake it readable'\n",
    "print 'T-statistic = {0}\\np-value = {1}'.format(scs.ttest_1samp(numbers,mu)[0],scs.ttest_1samp(numbers,mu)[1])\n",
    "# scipy only does 2 tailed tests but that's okay because we just take p/2!\n",
    "# What is this p-vaue?  Again, it's the probability that we chose 5 students who were \n",
    "# this extreme (or more extreme) in a world where the null hypothesis actually holds.\n",
    "# Concretely: \"What are the chances I just picked 5 smart people?\""
   ]
  },
  {
   "cell_type": "markdown",
   "metadata": {
    "slideshow": {
     "slide_type": "slide"
    }
   },
   "source": [
    "# One Sample Test of Population Proportion\n",
    "\n",
    "**Problem**: Suppose my girlfriend and I flip a coin to see who has to do the dishes. She believes that I'm being nice and losing on purpose (i.e. my chances of winning < 50%). In the random sample of 200 days out of the year, I only won 82 times. Was I rigging the coin toss?"
   ]
  },
  {
   "cell_type": "markdown",
   "metadata": {
    "slideshow": {
     "slide_type": "subslide"
    }
   },
   "source": [
    "**Step 1**:\n",
    "\n",
    "$H_0$: p >= 0.5\n",
    "\n",
    "$H_1$: p < 0.5\n",
    "\n",
    "**Step 2**:\n",
    "\n",
    "1-tailed test, $\\alpha$ = 0.01\n",
    "\n",
    "**Step 3**:\n",
    "\n",
    "Z-test: Rough rule to see if z-test is okay is if $\\hat{p}$N > 5 and (1-$\\hat{p}$)N > 5\n",
    "\n",
    "$z = \\frac{\\hat{p}-p}{\\sqrt{\\frac{{p}(1-{p})}{n}}}$ > critical value?\n",
    "\n",
    "**Step 4**:\n",
    "\n",
    "Reject or fail to reject null hypothesis"
   ]
  },
  {
   "cell_type": "markdown",
   "metadata": {
    "slideshow": {
     "slide_type": "subslide"
    }
   },
   "source": [
    "```total = \n",
    "won = \n",
    "p = \n",
    "phat =\n",
    "alpha = \n",
    "z_value = scs.norm.ppf(alpha)\n",
    "z_stat = \n",
    "print \"Phat = {:0.1f}\".format(phat)\n",
    "print \"Z-value = {:0.3f}\".format(z_value)\n",
    "print \"Z-statistic = {:0.3f}\".format(z_stat)\n",
    "print \"The z-statistic is less than the z-value: {}\".format(z_stat < z_value)```"
   ]
  },
  {
   "cell_type": "code",
   "execution_count": 4,
   "metadata": {
    "slideshow": {
     "slide_type": "subslide"
    }
   },
   "outputs": [
    {
     "name": "stdout",
     "output_type": "stream",
     "text": [
      "Phat = 0.4\n",
      "Z-value = -2.326\n",
      "Z-statistic = -2.546\n",
      "The z-statistic is less than the z-value: True\n"
     ]
    }
   ],
   "source": [
    "total = 200.0\n",
    "won = 82\n",
    "p = 0.5\n",
    "phat = won/total\n",
    "alpha = 0.01\n",
    "z_value = scs.norm.ppf(alpha)\n",
    "z_stat = (phat-p)/(np.sqrt((p*(1-p))/total))\n",
    "print \"Phat = {:0.1f}\".format(phat)\n",
    "print \"Z-value = {:0.3f}\".format(z_value)\n",
    "print \"Z-statistic = {:0.3f}\".format(z_stat)\n",
    "print \"The z-statistic is less than the z-value: {}\".format(z_stat < z_value)"
   ]
  },
  {
   "cell_type": "markdown",
   "metadata": {
    "slideshow": {
     "slide_type": "slide"
    }
   },
   "source": [
    "# Two Sample Comparison of Means\n",
    "**Problem**: Is the average price of a drink in Oakland different than the average price of a drink in San Francisco?\n",
    "\n",
    "**Step 1**:\n",
    "\n",
    "$H_0$: $\\mu_1 - \\mu_2 = D$  (D can be 0 when you just want to know if they're different)\n",
    "\n",
    "$H_1$: $\\mu_1 - \\mu_2 \\neq D$\n",
    "\n",
    "**Step 2**:\n",
    "\n",
    "Choose level of significance, $\\alpha$\n",
    "\n",
    "**Step 3**:\n",
    "\n",
    "$t= \\frac{\\bar{x1}-\\bar{x2}-D}{\\sqrt{\\frac{s_1^2}{{n_1}}+\\frac{s_2^2}{{n_2}}}}$ > critical value?\n",
    "\n",
    "**Step 4**:\n",
    "\n",
    "Reject or fail to reject null hypothesis\n"
   ]
  },
  {
   "cell_type": "code",
   "execution_count": 5,
   "metadata": {
    "slideshow": {
     "slide_type": "subslide"
    }
   },
   "outputs": [
    {
     "name": "stdout",
     "output_type": "stream",
     "text": [
      "Ttest_indResult(statistic=0.26833823296238857, pvalue=0.78849443369565098)\n",
      "Ttest_indResult(statistic=0.26833823296238857, pvalue=0.78849452749501059)\n",
      "\n",
      "Same sample size, unequal variance\n",
      "Ttest_indResult(statistic=-0.46580283298287956, pvalue=0.64145827413435608)\n",
      "Ttest_indResult(statistic=-0.46580283298287956, pvalue=0.64149646246568737)\n"
     ]
    }
   ],
   "source": [
    "import scipy.stats as scs\n",
    "np.random.seed(12345678)\n",
    "rvs1 = scs.norm.rvs(loc=5,scale=10,size=500)\n",
    "rvs2 = scs.norm.rvs(loc=5,scale=10,size=500)\n",
    "print scs.ttest_ind(rvs1,rvs2)\n",
    "print scs.ttest_ind(rvs1,rvs2, equal_var = False)\n",
    "print '\\nSame sample size, unequal variance'\n",
    "rvs3 = scs.norm.rvs(loc=5, scale=20, size=500)\n",
    "print scs.ttest_ind(rvs1, rvs3)\n",
    "print scs.ttest_ind(rvs1, rvs3, equal_var = False)"
   ]
  },
  {
   "cell_type": "code",
   "execution_count": 6,
   "metadata": {
    "scrolled": true,
    "slideshow": {
     "slide_type": "subslide"
    }
   },
   "outputs": [
    {
     "name": "stdout",
     "output_type": "stream",
     "text": [
      "Unequal variance and sample size\n",
      "Ttest_indResult(statistic=-0.99882539442782847, pvalue=0.31828327091038783)\n",
      "Ttest_indResult(statistic=-0.69712570584654354, pvalue=0.48716927725401871)\n",
      "\n",
      "Unequal variance, mean and sample size\n",
      "Ttest_indResult(statistic=-1.4679669854490669, pvalue=0.14263895620529113)\n",
      "Ttest_indResult(statistic=-0.94365973617133081, pvalue=0.34744170334794089)\n"
     ]
    }
   ],
   "source": [
    "print 'Unequal variance and sample size'\n",
    "rvs4 = scs.norm.rvs(loc=5, scale=20, size=100)\n",
    "print scs.ttest_ind(rvs1, rvs4)\n",
    "print scs.ttest_ind(rvs1, rvs4, equal_var = False)\n",
    "print '\\nUnequal variance, mean and sample size'\n",
    "rvs5 = scs.norm.rvs(loc=8, scale=20, size=100)\n",
    "print scs.ttest_ind(rvs1, rvs5)\n",
    "print scs.ttest_ind(rvs1, rvs5, equal_var = False)"
   ]
  },
  {
   "cell_type": "markdown",
   "metadata": {
    "slideshow": {
     "slide_type": "subslide"
    }
   },
   "source": [
    "# What if we want to test a difference in scipy?\n",
    "\n",
    "You're out of luck.\n",
    "Try statsmodels... but it's sometimes buggy.  \n",
    "You could also just subtract the hypothesized difference and compare means."
   ]
  },
  {
   "cell_type": "code",
   "execution_count": 7,
   "metadata": {
    "slideshow": {
     "slide_type": "fragment"
    }
   },
   "outputs": [
    {
     "name": "stdout",
     "output_type": "stream",
     "text": [
      "(-2.449524726039666, 0.015921739279484603, 107.36166722825746)\n"
     ]
    }
   ],
   "source": [
    "import statsmodels.stats.weightstats as ssw\n",
    "rvs1 = scs.norm.rvs(loc=5,scale=10,size=500)\n",
    "rvs5 = scs.norm.rvs(loc=8, scale=20, size=100)\n",
    "print ssw.ttest_ind(rvs1,rvs5,usevar='unequal')"
   ]
  },
  {
   "cell_type": "code",
   "execution_count": 8,
   "metadata": {
    "slideshow": {
     "slide_type": "fragment"
    }
   },
   "outputs": [
    {
     "name": "stdout",
     "output_type": "stream",
     "text": [
      "(-3.809226065910631, 0.00023261891165697341, 107.36166722825746)\n"
     ]
    }
   ],
   "source": [
    "print ssw.ttest_ind(rvs1,rvs5,usevar='unequal',value = 3)"
   ]
  },
  {
   "cell_type": "code",
   "execution_count": 9,
   "metadata": {
    "slideshow": {
     "slide_type": "fragment"
    }
   },
   "outputs": [
    {
     "name": "stdout",
     "output_type": "stream",
     "text": [
      "(-1.0898233861687001, 0.27823103022907369, 107.36166722825746)\n"
     ]
    }
   ],
   "source": [
    "print ssw.ttest_ind(rvs1,rvs5,usevar='unequal',value = -3)"
   ]
  },
  {
   "cell_type": "markdown",
   "metadata": {
    "slideshow": {
     "slide_type": "slide"
    }
   },
   "source": [
    "# Two Sample Comparison of Proportions\n",
    "**Problem**: Are the clickthrough rates different on version 1 versus version 2 of our website?\n",
    "\n",
    "\n",
    "\n",
    "**Step 1**:\n",
    "\n",
    "$H_0$: $p_1 - p_2 = D$\n",
    "\n",
    "$H_1$: $p_1 - p_2 \\neq D$\n",
    "\n",
    "(Can set $D$ to 0 here to just see if they're the same, or can set it to something else to see if version 2 changed our clickthrough rate by some particular amount.)\n",
    "\n",
    "**Step 2**:\n",
    "\n",
    "choose level of significance $\\alpha$\n",
    "\n",
    "**Step 3**:\n",
    "\n",
    "Z-test: Rough rule to see if z-test is okay is if pN > 5 and p(1-n) > 5\n",
    "\n",
    "$z = \\frac{\\hat{p_1}-\\hat{p_0}-D}{\\sqrt{\\frac{\\hat{p_1}(1-\\hat{p_1})}{n_1}+\\frac{\\hat{p_2}(1-\\hat{p_2})}{n_2}}}$ > critical value?\n",
    "\n",
    "**Step 4**:\n",
    "\n",
    "Reject or fail to reject null hypothesis"
   ]
  },
  {
   "cell_type": "code",
   "execution_count": 10,
   "metadata": {
    "collapsed": true,
    "slideshow": {
     "slide_type": "skip"
    }
   },
   "outputs": [],
   "source": [
    "%matplotlib inline\n",
    "import numpy as np\n",
    "import matplotlib.pyplot as plt\n",
    "def make_bonf_graph(alpha,n,bonf=True):\n",
    "    x_range = range(1,n)\n",
    "    if bonf == True:\n",
    "        y_range = [(1- (1-alpha/n)**n) for n in range(1,n)]\n",
    "        title = 'Bonferroni Correction Graph'\n",
    "    else:\n",
    "        y_range = [(1- (1-alpha)**n) for n in range(1,n)]\n",
    "        title = 'Why Multiple Testing is Bad'\n",
    "    plt.plot(x_range,y_range)\n",
    "    plt.xlabel('number of tests')\n",
    "    plt.title(title)"
   ]
  },
  {
   "cell_type": "markdown",
   "metadata": {
    "slideshow": {
     "slide_type": "slide"
    }
   },
   "source": [
    "# Multiple Testing\n",
    "\n",
    "- Testing a set of multiple hypotheses simultaneously\n",
    "\n",
    "\n",
    "<img src='bonfatt.png'>\n",
    "^ This is intended to be funny, not correct. To be clear: do not test all the things individually. "
   ]
  },
  {
   "cell_type": "markdown",
   "metadata": {
    "slideshow": {
     "slide_type": "subslide"
    }
   },
   "source": [
    "<img src='significant.png'></img>"
   ]
  },
  {
   "cell_type": "markdown",
   "metadata": {
    "slideshow": {
     "slide_type": "subslide"
    }
   },
   "source": [
    "# Multiple Testing\n",
    "## Why is it bad?\n",
    "- We could test each hypothesis separately\n",
    "\n",
    "$P$(one significant result) $=$ $1 - P$(no significant results)\n",
    "\n",
    "$P$(one significant result) $=$ $1- (1-0.05)^{20}$ $=$ $0.64$"
   ]
  },
  {
   "cell_type": "code",
   "execution_count": 11,
   "metadata": {
    "slideshow": {
     "slide_type": "fragment"
    }
   },
   "outputs": [
    {
     "data": {
      "image/png": "[encoded data removed]",
      "text/plain": [
       "<matplotlib.figure.Figure at 0x10f81af90>"
      ]
     },
     "metadata": {},
     "output_type": "display_data"
    }
   ],
   "source": [
    "make_bonf_graph(0.05,100,bonf=False)"
   ]
  },
  {
   "cell_type": "markdown",
   "metadata": {
    "nbpresent": {
     "id": "43f6b028-ae2f-46fc-8629-376a83a35a0b"
    },
    "slideshow": {
     "slide_type": "slide"
    }
   },
   "source": [
    "# Bonferroni Correction\n",
    "\n",
    "<img src='abvenn.gif'>\n",
    "\n",
    "P(A) + P(B) - P(A$\\cap$B) $\\Rightarrow$ 0.05 + 0.05 - ?\n",
    "\n",
    "$\\frac{0.05+0.05}{2}$ $\\rightarrow$ new $\\alpha$"
   ]
  },
  {
   "cell_type": "markdown",
   "metadata": {
    "nbpresent": {
     "id": "64a2ed25-bffa-493e-88db-f71cd36e3606"
    },
    "slideshow": {
     "slide_type": "subslide"
    }
   },
   "source": [
    "# Bonferroni Correction\n",
    "\n",
    "20 sample case\n",
    "\n",
    "$\\frac{\\alpha}{n} = \\frac{0.05}{20} = 0.0025$\n",
    "\n",
    "$P$(one significant result) $=$ $1 - P$(no significant results)\n",
    "\n",
    "$P$(one significant result) $=$ $1-(1-0.0025)^{20}$ $=$ $0.0488$\n",
    "\n",
    "$\\Rightarrow$ Bonferroni is slightly conservative. That's good."
   ]
  },
  {
   "cell_type": "code",
   "execution_count": 12,
   "metadata": {
    "slideshow": {
     "slide_type": "fragment"
    }
   },
   "outputs": [
    {
     "data": {
      "image/png": "[encoded data removed]",
      "text/plain": [
       "<matplotlib.figure.Figure at 0x110134590>"
      ]
     },
     "metadata": {},
     "output_type": "display_data"
    }
   ],
   "source": [
    "make_bonf_graph(0.05,100)"
   ]
  },
  {
   "cell_type": "markdown",
   "metadata": {
    "slideshow": {
     "slide_type": "slide"
    }
   },
   "source": [
    "# Outline - Afternoon Lecture\n",
    "\n",
    "- Know when to use a $\\chi^2$ test\n",
    "- Perform a $\\chi^2$ test\n",
    "- Understand experiment design\n",
    "- Be aware of confounding factors"
   ]
  },
  {
   "cell_type": "markdown",
   "metadata": {
    "slideshow": {
     "slide_type": "slide"
    }
   },
   "source": [
    "# Chi-Squared Test\n",
    "# $$\\chi^2$$\n",
    "\n",
    "1. Estimating how closely an observed distribution matches an expected distribution - we'll refer to this as the goodness-of-fit test\n",
    "2. Estimating whether two random variables are independent.\n",
    "\n",
    "\n"
   ]
  },
  {
   "cell_type": "markdown",
   "metadata": {
    "slideshow": {
     "slide_type": "slide"
    }
   },
   "source": [
    "# Chi-Square Goodness of Fit Test\n",
    "\n",
    "- How well does the expected model fit the data?\n",
    "\n",
    "- This is for cases where the observations fall into **bins** and the chance that an observation falls into a bin is a certain percentage.\n",
    "    - Bins might be hours, days, type of customer (premium, paid, free)\n",
    "    \n",
    "- ex. did the expected number of users of the app each day match reality?"
   ]
  },
  {
   "cell_type": "markdown",
   "metadata": {
    "slideshow": {
     "slide_type": "subslide"
    }
   },
   "source": [
    "# Goodness of Fit - Example\n",
    "\n",
    "$$\\chi^2 = \\sum_{i} \\frac{(O_i - E_i)^2}{E_i}$$\n",
    "\n",
    "Dice Game: \n",
    "\n",
    "\n",
    "|Value  |Observed Frequency|Expected Frequency|\n",
    "|-------|------------------|------------------|\n",
    "|1      |16                |?                 |\n",
    "|2\t    |5\t               |?                 |\n",
    "|3\t    |9\t               |?                 |\n",
    "|4\t    |7\t               |?                 |\n",
    "|5\t    |6\t               |?                 |\n",
    "|6\t    |17\t               |?                 |\n",
    "|Total\t|60\t               |?                 |"
   ]
  },
  {
   "cell_type": "markdown",
   "metadata": {
    "slideshow": {
     "slide_type": "subslide"
    }
   },
   "source": [
    "# Goodness of Fit - Example\n",
    "\n",
    "$$\\chi^2 = \\sum_{i} \\frac{(O_i - E_i)^2}{E_i}$$\n",
    "\n",
    "Dice Game: \n",
    "\n",
    "\n",
    "|Value  |Observed Frequency|Expected Frequency|\n",
    "|-------|------------------|------------------|\n",
    "|1      |16                |                10|\n",
    "|2\t    |5\t               |10                |\n",
    "|3\t    |9\t               |10                |\n",
    "|4\t    |7\t               |10                |\n",
    "|5\t    |6\t               |10                |\n",
    "|6\t    |17\t               |10                |\n",
    "|Total\t|60\t               |60                |"
   ]
  },
  {
   "cell_type": "markdown",
   "metadata": {
    "slideshow": {
     "slide_type": "subslide"
    }
   },
   "source": [
    "```from __future__ import division\n",
    "obs_table = # use an np array\n",
    "exp_table = #use an np array\n",
    "chi2_stat = # use the chi2 formula\n",
    "print \"Chi2 Statistic: {}\".format(chi2_stat)\n",
    "print \"Critical Chi2 Value: {:0.2f}\".format(scs.chi2.ppf(0.95,5))```"
   ]
  },
  {
   "cell_type": "code",
   "execution_count": 13,
   "metadata": {
    "slideshow": {
     "slide_type": "subslide"
    }
   },
   "outputs": [
    {
     "name": "stdout",
     "output_type": "stream",
     "text": [
      "Chi2 Statistic: 13.6\n",
      "Critical Chi2 Value: 11.07\n"
     ]
    }
   ],
   "source": [
    "from __future__ import division\n",
    "obs_table = np.array([16,5,9,7,6,17])\n",
    "exp_table = np.array([10,10,10,10,10,10])\n",
    "chi2_stat = sum((exp_table - obs_table)**2/exp_table)\n",
    "print \"Chi2 Statistic: {}\".format(chi2_stat)\n",
    "print \"Critical Chi2 Value: {:0.2f}\".format(scs.chi2.ppf(0.95,5))"
   ]
  },
  {
   "cell_type": "markdown",
   "metadata": {
    "slideshow": {
     "slide_type": "subslide"
    }
   },
   "source": [
    "# Use Scipy!"
   ]
  },
  {
   "cell_type": "code",
   "execution_count": 14,
   "metadata": {
    "slideshow": {
     "slide_type": "fragment"
    }
   },
   "outputs": [
    {
     "data": {
      "text/plain": [
       "Power_divergenceResult(statistic=13.6, pvalue=0.018360196409519448)"
      ]
     },
     "execution_count": 14,
     "metadata": {},
     "output_type": "execute_result"
    }
   ],
   "source": [
    "obs_table = np.array([16,5,9,7,6,17])\n",
    "exp_table = np.array([10,10,10,10,10,10])\n",
    "scs.chisquare(obs_table,exp_table)"
   ]
  },
  {
   "cell_type": "markdown",
   "metadata": {
    "slideshow": {
     "slide_type": "fragment"
    }
   },
   "source": [
    "“Delta degrees of freedom”: adjustment to the degrees of freedom for the p-value. The p-value is computed using a chi-squared distribution with k - 1 - ddof degrees of freedom, where k is the number of observed frequencies. The default value of ddof is 0."
   ]
  },
  {
   "cell_type": "markdown",
   "metadata": {
    "slideshow": {
     "slide_type": "slide"
    }
   },
   "source": [
    "# Independence Example\n",
    "\n",
    "Question: Is voting behavior independent of gender?   (or, similarly, is churn behavior independent of operating system?)\n",
    "\n",
    "$$\\chi^2 = \\sum_{i} \\frac{(O_i - E_i)^2}{E_i}$$\n",
    "\n",
    "**Actual**\n",
    "\n",
    "|      |Repub| Dem  | Other |\n",
    "| -----|-----|------|-------|\n",
    "|Male  |26   |13    |5      |\n",
    "|Female|20   |29    |7      |"
   ]
  },
  {
   "cell_type": "markdown",
   "metadata": {
    "slideshow": {
     "slide_type": "subslide"
    }
   },
   "source": [
    "# Independence Example\n",
    "\n",
    "**Problem**: Is voting behavior independent of gender?\n",
    "\n",
    "**Step 1**:\n",
    "\n",
    "$H_0$: Voting behavior *independent* of gender\n",
    "\n",
    "$H_1$: Voting behavior *not independent* of gender\n",
    "\n",
    "**Step 2**:\n",
    "\n",
    "choose level of significance $\\alpha$\n",
    "\n",
    "Let's say $\\alpha = 0.05$\n",
    "\n",
    "**Step 3**:\n",
    "\n",
    "Let's look up our critical value in a $\\chi^2$ table:\n",
    "\n",
    "The critical value for $\\chi^2$ with $\\alpha = 0.05$ and 2 degrees of freedom ((rows - 1)(cols - 1)=2) is: 5.991\n",
    "\n",
    "Is our $\\chi^2$ value > critical value?\n",
    "\n",
    "**Step 4**:\n",
    "\n",
    "Reject or fail to reject null hypothesis"
   ]
  },
  {
   "cell_type": "markdown",
   "metadata": {
    "slideshow": {
     "slide_type": "subslide"
    }
   },
   "source": [
    "# Independence Example\n",
    "\n",
    "Question: Is voting behavior independent of gender?\n",
    "\n",
    "$$\\chi^2 = \\sum_{i} \\frac{(O_i - E_i)^2}{E_i}$$\n",
    "\n",
    "**Actual**\n",
    "\n",
    "|      |Repub| Dem  | Other | Total |\n",
    "| -----|-----|------|-------|-------|\n",
    "|Male  |26   |13    |5      |44     |\n",
    "|Female|20   |29    |7      |56     |\n",
    "|Total |46   |42    |12     |100    |"
   ]
  },
  {
   "cell_type": "markdown",
   "metadata": {
    "slideshow": {
     "slide_type": "subslide"
    }
   },
   "source": [
    "**Actual**\n",
    "\n",
    "|      |Repub| Dem  | Other | Total |\n",
    "| -----|-----|------|-------|-------|\n",
    "|Male  |26   |13    |5      |44     |\n",
    "|Female|20   |29    |7      |56     |\n",
    "|Total |46   |42    |12     |100    |\n",
    "**Expected**\n",
    "\n",
    "|      |Repub| Dem  | Other |\n",
    "| -----|-----|------|-------|\n",
    "|Male  |20.24|18.48 |5.28   |\n",
    "|Female|25.76|23.52 |6.72   |\n",
    "\n",
    "Ok, we now have actual and expected.  How far off are they?\n",
    "\n",
    "Let's sum up the differences.  Are the differences too far off from expectation?\n",
    "\n",
    "Critical value for 2 degrees of freedom = 5.991"
   ]
  },
  {
   "cell_type": "markdown",
   "metadata": {
    "slideshow": {
     "slide_type": "subslide"
    }
   },
   "source": [
    "# Use Scipy!"
   ]
  },
  {
   "cell_type": "code",
   "execution_count": 15,
   "metadata": {
    "slideshow": {
     "slide_type": "fragment"
    }
   },
   "outputs": [
    {
     "name": "stdout",
     "output_type": "stream",
     "text": [
      "(5.8554993143502472, 0.05351733509077522, 2, array([[ 20.24,  18.48,   5.28],\n",
      "       [ 25.76,  23.52,   6.72]]))\n",
      "\n",
      "Clean it up!\n",
      "\n",
      "Chi2 Value: 5.85549931435\n",
      "p-value: 0.0535173350908\n",
      "dof: 2\n",
      "Expected Value Array:\n",
      "[[ 20.24  18.48   5.28]\n",
      " [ 25.76  23.52   6.72]]\n"
     ]
    }
   ],
   "source": [
    "cont_table = np.array([[26,13,5],[20,29,7]])\n",
    "print scs.chi2_contingency(cont_table)\n",
    "chi2,pval,dof,exp_array = scs.chi2_contingency(cont_table)\n",
    "print \"\\nClean it up!\\n\"\n",
    "print \"Chi2 Value: {0}\\np-value: {1}\\ndof: {2}\\nExpected Value Array:\\n{3}\".format(chi2,pval,dof,exp_array)"
   ]
  },
  {
   "cell_type": "markdown",
   "metadata": {
    "nbpresent": {
     "id": "53566aca-eb87-4cb7-9479-07f8b604004e"
    },
    "slideshow": {
     "slide_type": "slide"
    }
   },
   "source": [
    "# Experimental vs. Observational\n",
    "\n",
    "## Experimental\n",
    "- Randomly assign groups to minimize confounding\n",
    "- **Apply treatments** to experimental units and observe the effect of treatments\n",
    "- **Can** be used to **establish causality**\n",
    "\n",
    "## Observational\n",
    "- Observe subjects and measure variables of interest **without assigning treatments** to subjects (self-selection)\n",
    "- Confounding factors very likely and require adjustment\n",
    "- **Cannot** be used to **establish causality**\n",
    "\n",
    "## Homework example"
   ]
  },
  {
   "cell_type": "markdown",
   "metadata": {
    "slideshow": {
     "slide_type": "slide"
    }
   },
   "source": [
    "# Experiment Design\n",
    "\n",
    "## ++Removing all confounding variables is really hard++\n",
    "\n",
    "## Randomize into groups\n",
    "- ex. Assign people to groups based on a RNG\n",
    "\n",
    "## Assume independent observations\n",
    "- Knowledge of what other study participants are doing may bias the results\n",
    "\n",
    "## Removing too many..."
   ]
  },
  {
   "cell_type": "markdown",
   "metadata": {
    "slideshow": {
     "slide_type": "slide"
    }
   },
   "source": [
    "# Online Dating Confounder Discussion\n",
    "<img src='okcab.png'>"
   ]
  },
  {
   "cell_type": "markdown",
   "metadata": {
    "slideshow": {
     "slide_type": "slide"
    }
   },
   "source": [
    "# A/B Testing Example\n",
    "\n",
    "<img src='abtest.png',width = '80%'>"
   ]
  },
  {
   "cell_type": "markdown",
   "metadata": {
    "collapsed": true,
    "slideshow": {
     "slide_type": "subslide"
    }
   },
   "source": [
    "<img src='twitab.png'>"
   ]
  },
  {
   "cell_type": "markdown",
   "metadata": {
    "collapsed": true,
    "slideshow": {
     "slide_type": "skip"
    }
   },
   "source": [
    "jupyter nbconvert Hypothesis_Testing_DPR.ipynb --to slides --post serve"
   ]
  },
  {
   "cell_type": "code",
   "execution_count": null,
   "metadata": {
    "collapsed": true,
    "slideshow": {
     "slide_type": "skip"
    }
   },
   "outputs": [],
   "source": []
  },
  {
   "cell_type": "code",
   "execution_count": null,
   "metadata": {
    "collapsed": true,
    "slideshow": {
     "slide_type": "skip"
    }
   },
   "outputs": [],
   "source": []
  }
 ],
 "metadata": {
  "anaconda-cloud": {},
  "celltoolbar": "Slideshow",
  "kernelspec": {
   "display_name": "Python 2",
   "language": "python",
   "name": "python2"
  },
  "language_info": {
   "codemirror_mode": {
    "name": "ipython",
    "version": 2
   },
   "file_extension": ".py",
   "mimetype": "text/x-python",
   "name": "python",
   "nbconvert_exporter": "python",
   "pygments_lexer": "ipython2",
   "version": "2.7.13"
  },
  "nbpresent": {
   "slides": {},
   "themes": {}
  }
 },
 "nbformat": 4,
 "nbformat_minor": 1
}
