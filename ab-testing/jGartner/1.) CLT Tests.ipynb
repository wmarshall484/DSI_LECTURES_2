{
 "cells": [
  {
   "cell_type": "code",
   "execution_count": 2,
   "metadata": {
    "collapsed": true
   },
   "outputs": [],
   "source": [
    "%matplotlib inline\n",
    "import matplotlib.pyplot as plt\n",
    "import numpy as np\n",
    "from scipy import stats\n",
    "\n",
    "import warnings\n",
    "warnings.filterwarnings('ignore')\n",
    "from mpltools import style\n",
    "style.use('ggplot')"
   ]
  },
  {
   "cell_type": "markdown",
   "metadata": {},
   "source": [
    "One of Gosset’s analyses focused on malt extract, which was measured in “degrees saccharine” per barrel of 168 lbs. malt. At the time, an extract in the neighborhood of 133° gave the targeted level of alcohol content for Guinness’s beer. A higher extract affected the life of the beer, and also the alcohol content which in turn affected the excise tax paid on alcoholic beverages. \n",
    "\n",
    "In Gosset’s view, +/-0.5° was a difference or error in malt extract level which Guinness and its customers could swallow, and he determined that \"in order to get the accuracy we require we must take the mean of at least four determinations.”"
   ]
  },
  {
   "cell_type": "code",
   "execution_count": 3,
   "metadata": {},
   "outputs": [
    {
     "name": "stdout",
     "output_type": "stream",
     "text": [
      "0.0903500656754\n"
     ]
    },
    {
     "data": {
      "text/plain": [
       "Ttest_1sampResult(statistic=2.4664308272896882, pvalue=0.090350065675395053)"
      ]
     },
     "execution_count": 3,
     "metadata": {},
     "output_type": "execute_result"
    }
   ],
   "source": [
    "# Define our null hypothesis along with properties of our sample\n",
    "H0_mu0 = 133\n",
    "degrees_saccharine = np.array([133.72, 137.02, 140.88, 135.45])\n",
    "n = len(degrees_saccharine)\n",
    "\n",
    "# Calculate sample average and variance, and D.O.F.\n",
    "xbar = np.mean(degrees_saccharine)\n",
    "s2 = np.var(degrees_saccharine, ddof = 1)\n",
    "df = n - 1\n",
    "\n",
    "# Because we elect a two tailed test, we double the value of \n",
    "#    the CDF at the observed average\n",
    "print(2 * (1 - stats.t.cdf((xbar - H0_mu0)/np.sqrt(s2/n), df = df)))\n",
    "\n",
    "# We verify the folks at scipy can do math too...\n",
    "stats.ttest_1samp(degrees_saccharine, H0_mu0)"
   ]
  },
  {
   "cell_type": "markdown",
   "metadata": {},
   "source": [
    "<h2>Confidence Intervals</h2>\n",
    "<p>\n",
    "Recall: <br/>\n",
    "$P(\\bar{X} - 1.96*\\frac{\\sigma}{\\sqrt{n}} < \\mu < \\bar{X} + 1.96*\\frac{\\sigma}{\\sqrt{n}}) = .95$ <br/>\n",
    "iff <br/>\n",
    "$X_i \\approx N(\\mu, \\sigma)$<br/>\n",
    "More generally, <br/>\n",
    "$P(\\bar{X} - t^{\\alpha/2}_{n-1}*\\frac{\\sigma}{\\sqrt{n}} < \\mu < \\bar{X} + t^{\\alpha/2}_{n-1}*\\frac{\\sigma}{\\sqrt{n}}) = .95$<br/>\n",
    "<br/>\n",
    "The connection to hypothesis testing is that a 100%*(1-$\\alpha$) c.i.:<br/>\n",
    "- that does not contain $\\mu_0$ rejects the null hypothesis in a two tailed test. <br/>\n",
    "- that does contain $\\mu_0$ fails to reject the null hypothesis in a two tailed test.\n",
    "</p>"
   ]
  },
  {
   "cell_type": "code",
   "execution_count": 3,
   "metadata": {},
   "outputs": [
    {
     "data": {
      "image/png": "[encoded data removed]",
      "text/plain": [
       "<matplotlib.figure.Figure at 0x10ddb0390>"
      ]
     },
     "metadata": {},
     "output_type": "display_data"
    }
   ],
   "source": [
    "mu_0 = .5\n",
    "n = 1000\n",
    "votes = np.random.binomial(1, mu_0, n)\n",
    "\n",
    "\n",
    "samples = []\n",
    "size = 50\n",
    "for i in range(100):\n",
    "    sample = np.random.choice(votes, size=size, replace=False)\n",
    "    s_m = np.mean(sample)-mu_0\n",
    "    s_e = 1.96*np.sqrt(np.var(sample, ddof = 1)/size)\n",
    "    s_c = 'green' if s_m+s_e>0 and s_m-s_e<0 else 'red'\n",
    "    samples.append([i, s_m, s_e, s_c])\n",
    "\n",
    "    \n",
    "samples0 = np.array([x for x in samples if x[3]=='green'])\n",
    "samples1 = np.array([x for x in samples if x[3]=='red'])\n",
    "\n",
    "fig, ax = plt.subplots(1, 1)\n",
    "ax.errorbar(samples0[:,0].astype('float'), samples0[:,1].astype('float'), yerr=samples0[:,2].astype('float'), fmt='o', color='green', ecolor='green')\n",
    "ax.errorbar(samples1[:,0].astype('float'), samples1[:,1].astype('float'), yerr=samples1[:,2].astype('float'), fmt='o', ecolor='red')\n",
    "ax.set_title(\"Confidence intervals for samples of size {}\".format(size))\n",
    "ax.set_ylabel(\"Sample Average less Null Hypothesis\")\n",
    "ax.set_xlabel(\"Sample Number\")\n",
    "ax.legend(loc='upper right')\n",
    "plt.show()"
   ]
  },
  {
   "cell_type": "markdown",
   "metadata": {},
   "source": [
    "<h2>Z-score</h2>\n",
    "<p>\n",
    "Z-score's can be used in instances where sample sizes are sufficiently large.\n",
    "</p>"
   ]
  },
  {
   "cell_type": "code",
   "execution_count": 4,
   "metadata": {},
   "outputs": [
    {
     "name": "stdout",
     "output_type": "stream",
     "text": [
      "For an offset of 0.0 we have a z-score of -0.48992856917709693\n",
      "\tthis translates to a one sided p-value of 0.3120922229684455\n",
      "For an offset of 0.1 we have a z-score of 1.1566091487634411\n",
      "\tthis translates to a one sided p-value of 0.12371604136997644\n",
      "For an offset of 0.2 we have a z-score of 1.9969406362319693\n",
      "\tthis translates to a one sided p-value of 0.02291581606794213\n",
      "For an offset of 0.30000000000000004 we have a z-score of 1.4236951926329378\n",
      "\tthis translates to a one sided p-value of 0.07726736297440007\n",
      "For an offset of 0.4 we have a z-score of 5.420454727194304\n",
      "\tthis translates to a one sided p-value of 2.9723813210911537e-08\n",
      "For an offset of 0.5 we have a z-score of 4.382635091012545\n",
      "\tthis translates to a one sided p-value of 5.862620728947915e-06\n"
     ]
    }
   ],
   "source": [
    "# Get data which we know has a mean of .3\n",
    "n = 100\n",
    "for o in np.linspace(0, .5, 6):\n",
    "    data = np.random.normal(o, 1, n)\n",
    "    s_m = np.mean(data)\n",
    "    s_v = np.var(data)\n",
    "    # What is the z-score if null hypothesis says mu=0?\n",
    "    z_score = (s_m-0)/np.sqrt(s_v/n)\n",
    "    print(\"For an offset of {} we have a z-score of {}\".format(o, z_score))\n",
    "    print(\"\\tthis translates to a one sided p-value of {}\".format(stats.norm.sf(abs(z_score))))\n"
   ]
  },
  {
   "cell_type": "markdown",
   "metadata": {
    "collapsed": true
   },
   "source": [
    "<h2>Two Sample T-Test</h2>\n",
    "<p>\n",
    "Suppose we have 2 samples $X_i$ and $Y_i$, we desire to know if they have different means:<br/>\n",
    "$H_0: E[\\bar{X}]=E[\\bar{Y}]$<br/>\n",
    "$H_a: E[\\bar{X}]!=E[\\bar{Y}]$<br/>\n",
    "This test can be performed via the 2 distribution T-test. For the 'students' version of this test, our t statistic can be expressed as:<br/>\n",
    "$t = \\frac{\\mu_1-\\mu_2}{s_{p}^{2}*\\sqrt{\\frac{1}{n_1} + \\frac{1}{n_2}}}$<br/>\n",
    "with<br/>\n",
    "$s_{p}^2 = \\frac{(n_1-1)s_1^2 + (n_2-1)s_2^2}{n_1+n_2 -2}$\n",
    "and\n",
    "$n_{dof} = n_1+n_2-2$\n",
    "<br/><br/>\n",
    "While this is the 'industry standard' way of proceeding, the students two sample has an implicit assumption that $Var(X)=Var(Y)$, and in cases where this assumption is not true, the test can lead to high type 1 & 2 errors.  We prefer the unequal variance test which has the relation:<br/>\n",
    "$t = \\frac{\\mu_1 - \\mu_2}{\\sqrt{\\frac{s_1^2}{n_1} + \\frac{s_2^2}{n_2}}}$<br/>\n",
    "and <br/>\n",
    "$n_{dof} = \\frac{(\\frac{1}{n_1}+\\frac{u}{n_2})^2}{\\frac{1}{n_1^2(n_1-1)}+\\frac{u^2}{n_2^2(n_2-1)}}$ where\n",
    "$u = \\frac{s_2^2}{s_1^2}$\n",
    "\n",
    "</p>"
   ]
  },
  {
   "cell_type": "code",
   "execution_count": null,
   "metadata": {
    "collapsed": true
   },
   "outputs": [],
   "source": []
  }
 ],
 "metadata": {
  "kernelspec": {
   "display_name": "Python 3",
   "language": "python",
   "name": "python3"
  },
  "language_info": {
   "codemirror_mode": {
    "name": "ipython",
    "version": 3
   },
   "file_extension": ".py",
   "mimetype": "text/x-python",
   "name": "python",
   "nbconvert_exporter": "python",
   "pygments_lexer": "ipython3",
   "version": "3.6.1"
  }
 },
 "nbformat": 4,
 "nbformat_minor": 2
}
