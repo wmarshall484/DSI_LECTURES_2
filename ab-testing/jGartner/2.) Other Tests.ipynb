{
 "cells": [
  {
   "cell_type": "code",
   "execution_count": 18,
   "metadata": {
    "collapsed": true
   },
   "outputs": [],
   "source": [
    "%matplotlib inline\n",
    "import matplotlib.pyplot as plt\n",
    "import numpy as np\n",
    "import scipy.stats as stats\n",
    "import pandas as pd\n",
    "\n",
    "import warnings\n",
    "warnings.filterwarnings('ignore')\n",
    "from mpltools import style\n",
    "style.use('ggplot')"
   ]
  },
  {
   "cell_type": "markdown",
   "metadata": {},
   "source": [
    "<h2>Fisher's Exact Test</h2>\n",
    "<p><a href=\"http://www.biostathandbook.com/fishers.html\">Fisher's Exact Test</a> is used when you have two variables, and you hope to determine if there is a statistical basis for membership in one class prefferring another.</p>"
   ]
  },
  {
   "cell_type": "code",
   "execution_count": 3,
   "metadata": {},
   "outputs": [
    {
     "name": "stdout",
     "output_type": "stream",
     "text": [
      "0.00578581676903\n",
      "0.00578581676903\n"
     ]
    }
   ],
   "source": [
    "# first 'manually compute'\n",
    "steps = [stats.hypergeom.pmf(x, 35, 15, 19) for x in range(5)]\n",
    "print(sum(steps))\n",
    "\n",
    "# now use the built in function.  n.b. the default 'alternative' is a two tailed\n",
    "# test\n",
    "oddsratio, pvalue = stats.fisher_exact([[4,15],[11, 5]], alternative='less')\n",
    "print(pvalue)"
   ]
  },
  {
   "cell_type": "markdown",
   "metadata": {},
   "source": [
    "<p>The above is discussed in greater detail in the slides.</p>\n",
    "</br> </br>\n",
    "<h2>Pearsons $\\chi^2$ Test</h2>"
   ]
  },
  {
   "cell_type": "code",
   "execution_count": 4,
   "metadata": {},
   "outputs": [
    {
     "name": "stdout",
     "output_type": "stream",
     "text": [
      "Observed:\n",
      "[27 15 30]\n",
      "[18 15  8]\n",
      "\n",
      "Expected (if independent):\n",
      " [[ 28.67256637  19.11504425  24.21238938]\n",
      " [ 16.32743363  10.88495575  13.78761062]] \n",
      "\n",
      "Test Statistic: 6.523368635002141\n",
      "p-value: 0.038323794188885686\n",
      "Degrees of Freedom: 2\n"
     ]
    }
   ],
   "source": [
    "X = np.array([27, 15, 30])\n",
    "Y = np.array([18, 15, 8])\n",
    "chi2, p, ddof, expected = stats.chi2_contingency([X, Y])\n",
    "\n",
    "print(\"Observed:\\n{}\\n{}\\n\".format(X, Y))\n",
    "print(\"Expected (if independent):\\n\", expected,\"\\n\")\n",
    "\n",
    "msg = \"Test Statistic: {}\\np-value: {}\\nDegrees of Freedom: {}\"\n",
    "print(msg.format( chi2, p, ddof ) )"
   ]
  },
  {
   "cell_type": "markdown",
   "metadata": {
    "collapsed": true
   },
   "source": [
    "<p>So we perform a cell by cell comparison to an expected value.  How do we get these expected values?</p>"
   ]
  },
  {
   "cell_type": "code",
   "execution_count": 5,
   "metadata": {},
   "outputs": [
    {
     "name": "stdout",
     "output_type": "stream",
     "text": [
      "[ 28.67256637  19.11504425  24.21238938] [ 16.32743363  10.88495575  13.78761062]\n",
      "6.523368635\n",
      "0.0383237941889\n"
     ]
    }
   ],
   "source": [
    "#get expected values\n",
    "total_N = sum(X)+sum(Y)\n",
    "ave = np.array([(x[0]+x[1])/(total_N) for x in zip(X, Y)])\n",
    "X_exp = sum(X) * ave\n",
    "Y_exp = sum(Y) * ave\n",
    "print(X_exp, Y_exp)\n",
    "\n",
    "#get test statistic\n",
    "all_obs = np.append(X, Y)\n",
    "all_exp = np.append(X_exp, Y_exp)\n",
    "test_stat = sum([pow(x[0]-x[1], 2)/x[1] for x in zip(all_obs, all_exp)])\n",
    "print(test_stat)\n",
    "\n",
    "#get p-value based on test-statistic and ndf\n",
    "print(stats.chi2.sf(test_stat, 2))"
   ]
  },
  {
   "cell_type": "markdown",
   "metadata": {},
   "source": [
    "<h2>KS Test</h2>\n",
    "<p>\n",
    "KS tests compare the maximum deviation between the CDF and the a particular model.\n",
    "</p>"
   ]
  },
  {
   "cell_type": "code",
   "execution_count": 33,
   "metadata": {},
   "outputs": [
    {
     "name": "stdout",
     "output_type": "stream",
     "text": [
      "KS test statistic for a normal fit: 0.06068261129898087, p-Value: 0.0012107591800181172\n",
      "KS test statistic for a uniform fit: 0.506555231555142, p-Value: 0.0\n"
     ]
    }
   ],
   "source": [
    "data = np.random.standard_t(3, size=1000)\n",
    "#try to fit a standard normal to t distributed data\n",
    "D, p_value = stats.kstest(data, 'norm')\n",
    "print(\"KS test statistic for a normal fit: {}, p-Value: {}\".format(D, p_value))\n",
    "\n",
    "#try to fit a uniform to t-distributed data\n",
    "D, p_value = stats.kstest(data, 'uniform')\n",
    "print(\"KS test statistic for a uniform fit: {}, p-Value: {}\".format(D, p_value))"
   ]
  },
  {
   "cell_type": "code",
   "execution_count": null,
   "metadata": {
    "collapsed": true
   },
   "outputs": [],
   "source": []
  }
 ],
 "metadata": {
  "kernelspec": {
   "display_name": "Python 3",
   "language": "python",
   "name": "python3"
  },
  "language_info": {
   "codemirror_mode": {
    "name": "ipython",
    "version": 3
   },
   "file_extension": ".py",
   "mimetype": "text/x-python",
   "name": "python",
   "nbconvert_exporter": "python",
   "pygments_lexer": "ipython3",
   "version": "3.6.1"
  }
 },
 "nbformat": 4,
 "nbformat_minor": 2
}
