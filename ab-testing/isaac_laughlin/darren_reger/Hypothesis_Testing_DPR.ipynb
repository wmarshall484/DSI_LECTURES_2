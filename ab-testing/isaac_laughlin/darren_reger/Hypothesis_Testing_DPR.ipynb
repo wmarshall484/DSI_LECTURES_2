{
 "cells": [
  {
   "cell_type": "markdown",
   "metadata": {
    "nbpresent": {
     "id": "52ce26f3-3de8-41ac-83bb-971e2325e85c"
    },
    "slideshow": {
     "slide_type": "slide"
    }
   },
   "source": [
    "# Hypothesis Testing\n",
    "\n",
    "## Lecture for Galvanize DSI\n",
    "\n",
    "#### Darren Reger"
   ]
  },
  {
   "cell_type": "markdown",
   "metadata": {
    "nbpresent": {
     "id": "f46f2d18-c938-48fc-b93d-2a99b2ba9e0e"
    },
    "slideshow": {
     "slide_type": "slide"
    }
   },
   "source": [
    "# Objectives - Morning\n",
    "\n",
    "- Understand the difference between estimation and hypothesis testing\n",
    "- Discuss the differences between Type I & Type II error\n",
    "- Be able to perform a hypothesis test\n",
    "- Know when to use a 1-tailed vs. 2-tailed test\n",
    "- Be able to compare means and proportions\n",
    "- Test multiple hypotheses correctly"
   ]
  },
  {
   "cell_type": "markdown",
   "metadata": {
    "slideshow": {
     "slide_type": "slide"
    }
   },
   "source": [
    "# Central Limit Theorem\n",
    "\n",
    "- Under certain conditions, the **mean** of a sufficiently large number of i.i.d. random variables will be approximately normal, **regardless** of the underlying distribution.\n",
    "\n",
    "<img src='clt.png'></img>"
   ]
  },
  {
   "cell_type": "markdown",
   "metadata": {
    "slideshow": {
     "slide_type": "subslide"
    }
   },
   "source": [
    "# Central Limit Theorem\n",
    "\n",
    "Not only is the sample mean normally distributed, we also have:\n",
    "\n",
    "$\\bar{X} $~$ Normal(\\mu,\\frac{\\sigma^2}{n})$\n",
    "\n",
    "Like any other normal random variable, we can derive a standard normal Z-score:\n",
    "\n",
    "$Z = \\frac{\\bar{X}-\\mu}{\\frac{\\sigma}{\\sqrt{n}}}$"
   ]
  },
  {
   "cell_type": "markdown",
   "metadata": {
    "nbpresent": {
     "id": "44f566e4-975c-4dd9-bf74-e18c516385e3"
    },
    "slideshow": {
     "slide_type": "slide"
    }
   },
   "source": [
    "# Estimation vs. Hypothesis Testing\n",
    "\n",
    "## Estimation\n",
    "- The value of the parameter is unknown\n",
    "- Goal is to find a point estimate and confidence interval for likely value\n",
    "\n",
    "## Hypothesis Testing\n",
    "- The value of the parameter is stated\n",
    "- Goal is to determine how reasonable/unreasonable this value is"
   ]
  },
  {
   "cell_type": "markdown",
   "metadata": {
    "nbpresent": {
     "id": "ad671e12-c5df-4093-ad94-f1f6a495658a"
    },
    "slideshow": {
     "slide_type": "slide"
    }
   },
   "source": [
    "# Null Hypothesis vs. Alternative Hypothesis\n",
    "\n",
    "## Null Hypothesis\n",
    "- Typically a measure of the status quo (assume no effect)\n",
    "\n",
    "## Alternative Hypothesis\n",
    "- Typically the effect a researcher hopes to measure\n",
    "\n",
    "### Innocent ($H_0$) until proven guilty ($H_1$)\n",
    "\n",
    "<img src=\"Hyp1.png\">"
   ]
  },
  {
   "cell_type": "markdown",
   "metadata": {
    "nbpresent": {
     "id": "f7d34319-1708-45a0-bbfd-986d987d6539"
    },
    "slideshow": {
     "slide_type": "slide"
    }
   },
   "source": [
    "# Hypothesis Testing Steps\n",
    "\n",
    "1. State the null ($H_0$) and the alternative ($H_1$) hypotheses\n",
    "2. Choose a level of significance ($\\alpha$)\n",
    "    - Threshold used to determine whether we reject or fail to reject\n",
    "    - Probability of rejecting the null when it is in fact true\n",
    "3. Choose an appropriate statistical test and find the test statistic\n",
    "4. Compute the p-value and draw conclusions\n",
    "    - Reject $H_0$ in favor of $H_1$\n",
    "    - Fail to reject $H_0$\n"
   ]
  },
  {
   "cell_type": "markdown",
   "metadata": {
    "nbpresent": {
     "id": "f8db7b93-3d65-4bc6-b548-1f6a03b490d3"
    },
    "slideshow": {
     "slide_type": "slide"
    }
   },
   "source": [
    "# Type I vs. Type II Error\n",
    "\n",
    "**Employers ask this**\n",
    "\n",
    "Type I error:    P(Type I) = P(Reject $H_0$ | $H_0$ is true) \n",
    "\n",
    "Type II error:   P(Type II) = P(Fail to Reject $H_0$ | $H_0$ is false)\n",
    "\n",
    "<img src='error_type.png'>"
   ]
  },
  {
   "cell_type": "markdown",
   "metadata": {
    "nbpresent": {
     "id": "237c2a50-74b2-4053-b3e0-60bdcaba4ebf"
    },
    "slideshow": {
     "slide_type": "slide"
    }
   },
   "source": [
    "# 1 vs. 2 Tailed Tests\n",
    "\n",
    "P-value: Probability of observing the data we observed, or more extreme, given that the null hypothesis is true.\n",
    "\n",
    "<img src='Hyp_table.png', width = \"70%\">"
   ]
  },
  {
   "cell_type": "markdown",
   "metadata": {
    "slideshow": {
     "slide_type": "slide"
    }
   },
   "source": [
    "# One Sample Test of Population Mean\n",
    "\n",
    "**Problem**: Let's say the average IQ of DSI students is 100 and we believe that all our students are really smart and that the actual average IQ is higher than 100.\n",
    "To test this we randomly sample 5 students and find the following scores: 91,101,111,121,131\n",
    "Is there sufficient evidence to say that the average IQ is higher?"
   ]
  },
  {
   "cell_type": "markdown",
   "metadata": {
    "slideshow": {
     "slide_type": "subslide"
    }
   },
   "source": [
    "**Step 1**:\n",
    "\n",
    "$H_0$: $\\mu$ = 100\n",
    "\n",
    "$H_1$: $\\mu$ > 100\n",
    "\n",
    "**Step 2**:\n",
    "\n",
    "1-tailed test, $\\alpha$ = 0.05\n",
    "\n",
    "**Step 3**:\n",
    "\n",
    "$t= \\frac{\\bar{x}-\\mu}{\\frac{s}{\\sqrt{n}}}$ > critical value?\n",
    "\n",
    "Use t when $\\sigma$ is unknown and n < 30, but if you're not sure, just use a t\n",
    "\n",
    "http://rpsychologist.com/d3/tdist/ example\n",
    "\n",
    "**Step 4**:\n",
    "\n",
    "Reject or fail to reject null hypothesis\n"
   ]
  },
  {
   "cell_type": "markdown",
   "metadata": {
    "collapsed": true,
    "slideshow": {
     "slide_type": "subslide"
    }
   },
   "source": [
    "```import scipy.stats as scs\n",
    "import numpy as np\n",
    "numbers = [91,101,111,121,131]\n",
    "mu =\n",
    "alpha =\n",
    "xbar = #use numpy\n",
    "std = #use numpy, be careful with degrees of freedom\n",
    "n= #use a list method\n",
    "dof = \n",
    "t_value = scs.t.ppf(1-alpha,dof)\n",
    "t_stat = #use the formula for the t-statistic\n",
    "print \"Degrees of freedom = {:d}\".format(dof)\n",
    "print \"xbar = {:0.1f}\".format(xbar)\n",
    "print \"Standard Deviation = {:0.3f}\".format(std)\n",
    "print \"T-value = {:0.3f}\".format(t_value)\n",
    "print \"T-statistic = {:0.3f}\".format(t_stat)\n",
    "print \"The t-statistic is greater than the t-value: {}\".format(t_stat>t_value)```"
   ]
  },
  {
   "cell_type": "code",
   "execution_count": 2,
   "metadata": {
    "collapsed": false,
    "slideshow": {
     "slide_type": "subslide"
    }
   },
   "outputs": [
    {
     "name": "stdout",
     "output_type": "stream",
     "text": [
      "Degrees of freedom = 4\n",
      "xbar = 111.0\n",
      "Standard Deviation = 15.811\n",
      "T-value = 2.132\n",
      "T-statistic = 1.556\n",
      "The t-statistic is greater than the t-value: False\n"
     ]
    }
   ],
   "source": [
    "import scipy.stats as scs\n",
    "import numpy as np\n",
    "numbers = [91,101,111,121,131]\n",
    "mu = 100\n",
    "alpha = 0.05\n",
    "xbar = np.mean(numbers)\n",
    "std = np.std(numbers,ddof = 1)\n",
    "n=len(numbers)\n",
    "dof = n - 1\n",
    "t_value = scs.t.ppf(1-alpha,dof)\n",
    "t_stat = (xbar-mu)/(std/np.sqrt(n))\n",
    "print \"Degrees of freedom = {:d}\".format(dof)\n",
    "print \"xbar = {:0.1f}\".format(xbar)\n",
    "print \"Standard Deviation = {:0.3f}\".format(std)\n",
    "print \"T-value = {:0.3f}\".format(t_value)\n",
    "print \"T-statistic = {:0.3f}\".format(t_stat)\n",
    "print \"The t-statistic is greater than the t-value: {}\".format(t_stat>t_value)"
   ]
  },
  {
   "cell_type": "code",
   "execution_count": 3,
   "metadata": {
    "collapsed": false,
    "slideshow": {
     "slide_type": "subslide"
    }
   },
   "outputs": [
    {
     "name": "stdout",
     "output_type": "stream",
     "text": [
      "Degrees of freedom = 4\n",
      "xbar = 111.0\n",
      "Standard Deviation = 15.811\n",
      "T-values = -2.776,2.776\n",
      "T-statistic = 1.556\n",
      "The t-statistic is greater than the t-value: False\n"
     ]
    }
   ],
   "source": [
    "#2 tailed test\n",
    "numbers = [91,101,111,121,131]\n",
    "mu = 100\n",
    "alpha = 0.025\n",
    "xbar = np.mean(numbers)\n",
    "std = np.std(numbers,ddof = 1)\n",
    "n=len(numbers)\n",
    "dof = n - 1\n",
    "t_value1 = scs.t.ppf(alpha,dof)\n",
    "t_value2 = scs.t.ppf(1-alpha,dof)\n",
    "t_stat = (xbar-mu)/(std/np.sqrt(n))\n",
    "print \"Degrees of freedom = {:d}\".format(dof)\n",
    "print \"xbar = {:0.1f}\".format(xbar)\n",
    "print \"Standard Deviation = {:0.3f}\".format(std)\n",
    "print \"T-values = {:0.3f},{:0.3f}\".format(t_value1,t_value2)\n",
    "print \"T-statistic = {:0.3f}\".format(t_stat)\n",
    "print \"The t-statistic is greater than the t-value: {}\".format(t_stat>t_value)"
   ]
  },
  {
   "cell_type": "markdown",
   "metadata": {
    "slideshow": {
     "slide_type": "subslide"
    }
   },
   "source": [
    "# Use Scipy!"
   ]
  },
  {
   "cell_type": "code",
   "execution_count": 4,
   "metadata": {
    "collapsed": false,
    "slideshow": {
     "slide_type": "fragment"
    }
   },
   "outputs": [
    {
     "name": "stdout",
     "output_type": "stream",
     "text": [
      "Ttest_1sampResult(statistic=1.5556349186104046, pvalue=0.19477503277472785)\n",
      "\n",
      "Make it readable\n",
      "T-statistic = 1.55563491861\n",
      "p-value = 0.194775032775\n"
     ]
    }
   ],
   "source": [
    "print scs.ttest_1samp(numbers,mu)\n",
    "\n",
    "print '\\nMake it readable'\n",
    "print 'T-statistic = {0}\\np-value = {1}'.format(scs.ttest_1samp(numbers,mu)[0],scs.ttest_1samp(numbers,mu)[1])\n",
    "#scipy only does 2 tailed tests but that's okay because we just take p/2!"
   ]
  },
  {
   "cell_type": "markdown",
   "metadata": {
    "slideshow": {
     "slide_type": "slide"
    }
   },
   "source": [
    "# One Sample Test of Population Proportion\n",
    "\n",
    "**Problem**: Suppose my girlfriend and I flip a coin to see who has to do the dishes. She believes that I'm being nice and losing on purpose (i.e. my chances of winning < 50%). In the random sample of 200 days out of the year, I only won 82 times. Was I rigging the coin toss?"
   ]
  },
  {
   "cell_type": "markdown",
   "metadata": {
    "slideshow": {
     "slide_type": "subslide"
    }
   },
   "source": [
    "**Step 1**:\n",
    "\n",
    "$H_0$: p = 0.5\n",
    "\n",
    "$H_1$: p < 0.5\n",
    "\n",
    "**Step 2**:\n",
    "\n",
    "1-tailed test, $\\alpha$ = 0.01\n",
    "\n",
    "**Step 3**:\n",
    "\n",
    "Z-test: Rough rule to see if z-test is okay is if $\\hat{p}$N > 5 and (1-$\\hat{p}$)N > 5\n",
    "\n",
    "$z = \\frac{\\hat{p}-p}{\\sqrt{\\frac{{p}(1-{p})}{n}}}$ > critical value?\n",
    "\n",
    "**Step 4**:\n",
    "\n",
    "Reject or fail to reject null hypothesis"
   ]
  },
  {
   "cell_type": "markdown",
   "metadata": {
    "slideshow": {
     "slide_type": "subslide"
    }
   },
   "source": [
    "```total = \n",
    "won = \n",
    "p = \n",
    "phat =\n",
    "alpha = \n",
    "z_value = scs.norm.ppf(alpha)\n",
    "z_stat = \n",
    "print \"Phat = {:0.1f}\".format(phat)\n",
    "print \"Z-value = {:0.3f}\".format(z_value)\n",
    "print \"Z-statistic = {:0.3f}\".format(z_stat)\n",
    "print \"The z-statistic is less than the z-value: {}\".format(z_stat < z_value)```"
   ]
  },
  {
   "cell_type": "code",
   "execution_count": 5,
   "metadata": {
    "collapsed": false,
    "slideshow": {
     "slide_type": "subslide"
    }
   },
   "outputs": [
    {
     "name": "stdout",
     "output_type": "stream",
     "text": [
      "Phat = 0.4\n",
      "Z-value = -2.326\n",
      "Z-statistic = -2.546\n",
      "The z-statistic is less than the z-value: True\n"
     ]
    }
   ],
   "source": [
    "total = 200.0\n",
    "won = 82\n",
    "p = 0.5\n",
    "phat = won/total\n",
    "alpha = 0.01\n",
    "z_value = scs.norm.ppf(alpha)\n",
    "z_stat = (phat-p)/(np.sqrt((p*(1-p))/total))\n",
    "print \"Phat = {:0.1f}\".format(phat)\n",
    "print \"Z-value = {:0.3f}\".format(z_value)\n",
    "print \"Z-statistic = {:0.3f}\".format(z_stat)\n",
    "print \"The z-statistic is less than the z-value: {}\".format(z_stat < z_value)"
   ]
  },
  {
   "cell_type": "code",
   "execution_count": 3,
   "metadata": {
    "collapsed": false,
    "slideshow": {
     "slide_type": "subslide"
    }
   },
   "outputs": [
    {
     "name": "stdout",
     "output_type": "stream",
     "text": [
      "The Z-statistic is -2.54558441227\n",
      "The p-value is 0.00545474918213\n"
     ]
    }
   ],
   "source": [
    "# There is no scipy version, but there is a statsmodels one!\n",
    "import statsmodels.stats.proportion as ssp\n",
    "z_stat, p_value = ssp.proportions_ztest(82, 200, 0.5, 'smaller', prop_var=0.5)\n",
    "print \"The Z-statistic is {}\\nThe p-value is {}\".format(z_stat, p_value)"
   ]
  },
  {
   "cell_type": "markdown",
   "metadata": {
    "slideshow": {
     "slide_type": "slide"
    }
   },
   "source": [
    "# Two Sample Comparison of Means\n",
    "\n",
    "**Step 1**:\n",
    "\n",
    "$H_0$: $\\mu_1 - \\mu_2 = D$  (D can be 0 when you just want to know if they're different)\n",
    "\n",
    "$H_1$: $\\mu_1 - \\mu_2 \\neq D$\n",
    "\n",
    "**Step 2**:\n",
    "\n",
    "Choose level of significance, $\\alpha$\n",
    "\n",
    "**Step 3**:\n",
    "\n",
    "$t= \\frac{\\bar{x1}-\\bar{x2}-D}{\\sqrt{\\frac{s_1^2}{{n_1}}+\\frac{s_2^2}{{n_2}}}}$ > critical value?\n",
    "\n",
    "**Step 4**:\n",
    "\n",
    "Reject or fail to reject null hypothesis\n"
   ]
  },
  {
   "cell_type": "code",
   "execution_count": 7,
   "metadata": {
    "collapsed": false,
    "slideshow": {
     "slide_type": "subslide"
    }
   },
   "outputs": [
    {
     "name": "stdout",
     "output_type": "stream",
     "text": [
      "Ttest_indResult(statistic=0.26833823296238857, pvalue=0.78849443369565098)\n",
      "Ttest_indResult(statistic=0.26833823296238857, pvalue=0.78849452749501059)\n",
      "\n",
      "Same sample size, unequal variance\n",
      "Ttest_indResult(statistic=-0.46580283298287956, pvalue=0.64145827413435608)\n",
      "Ttest_indResult(statistic=-0.46580283298287956, pvalue=0.64149646246568737)\n"
     ]
    }
   ],
   "source": [
    "import scipy.stats as scs\n",
    "np.random.seed(12345678)\n",
    "rvs1 = scs.norm.rvs(loc=5,scale=10,size=500)\n",
    "rvs2 = scs.norm.rvs(loc=5,scale=10,size=500)\n",
    "print scs.ttest_ind(rvs1,rvs2)\n",
    "print scs.ttest_ind(rvs1,rvs2, equal_var = False)\n",
    "print '\\nSame sample size, unequal variance'\n",
    "rvs3 = scs.norm.rvs(loc=5, scale=20, size=500)\n",
    "print scs.ttest_ind(rvs1, rvs3)\n",
    "print scs.ttest_ind(rvs1, rvs3, equal_var = False)"
   ]
  },
  {
   "cell_type": "code",
   "execution_count": 8,
   "metadata": {
    "collapsed": false,
    "scrolled": true,
    "slideshow": {
     "slide_type": "subslide"
    }
   },
   "outputs": [
    {
     "name": "stdout",
     "output_type": "stream",
     "text": [
      "Unequal variance and sample size\n",
      "Ttest_indResult(statistic=-0.99882539442782847, pvalue=0.31828327091038783)\n",
      "Ttest_indResult(statistic=-0.69712570584654354, pvalue=0.48716927725401871)\n",
      "\n",
      "Unequal variance, mean and sample size\n",
      "Ttest_indResult(statistic=-1.4679669854490669, pvalue=0.14263895620529113)\n",
      "Ttest_indResult(statistic=-0.94365973617133081, pvalue=0.34744170334794089)\n"
     ]
    }
   ],
   "source": [
    "print 'Unequal variance and sample size'\n",
    "rvs4 = scs.norm.rvs(loc=5, scale=20, size=100)\n",
    "print scs.ttest_ind(rvs1, rvs4)\n",
    "print scs.ttest_ind(rvs1, rvs4, equal_var = False)\n",
    "print '\\nUnequal variance, mean and sample size'\n",
    "rvs5 = scs.norm.rvs(loc=8, scale=20, size=100)\n",
    "print scs.ttest_ind(rvs1, rvs5)\n",
    "print scs.ttest_ind(rvs1, rvs5, equal_var = False)"
   ]
  },
  {
   "cell_type": "markdown",
   "metadata": {
    "slideshow": {
     "slide_type": "subslide"
    }
   },
   "source": [
    "# What if we want to test a difference?\n",
    "\n",
    "## How would we do that?"
   ]
  },
  {
   "cell_type": "code",
   "execution_count": 40,
   "metadata": {
    "collapsed": false,
    "slideshow": {
     "slide_type": "fragment"
    }
   },
   "outputs": [
    {
     "name": "stdout",
     "output_type": "stream",
     "text": [
      "With pooled variance:\n",
      "Ttest_indResult(statistic=-2.2117434479841167, pvalue=0.027267025426120851)\n",
      "With separate variance:\n",
      "Ttest_indResult(statistic=-1.903676629758188, pvalue=0.057684958136564178)\n"
     ]
    }
   ],
   "source": [
    "rvs1 = scs.norm.rvs(loc=5,scale=10,size=500)\n",
    "rvs6 = scs.norm.rvs(loc=8, scale=20, size=300)\n",
    "print 'With pooled variance:'\n",
    "print scs.ttest_ind(rvs1, rvs6)\n",
    "print 'With separate variance:'\n",
    "print scs.ttest_ind(rvs1, rvs6, equal_var = False)"
   ]
  },
  {
   "cell_type": "code",
   "execution_count": 41,
   "metadata": {
    "collapsed": false,
    "slideshow": {
     "slide_type": "fragment"
    }
   },
   "outputs": [
    {
     "name": "stdout",
     "output_type": "stream",
     "text": [
      "With a difference:\n",
      "Ttest_indResult(statistic=-1.9066886156925682, pvalue=0.057292118186415067)\n"
     ]
    }
   ],
   "source": [
    "print 'With a difference:'\n",
    "# different answer than above, what went wrong????\n",
    "print scs.ttest_ind_from_stats(np.mean(rvs1), np.std(rvs1), len(rvs1), \n",
    "                               np.mean(rvs6), np.std(rvs6), len(rvs6), equal_var = False)"
   ]
  },
  {
   "cell_type": "code",
   "execution_count": 47,
   "metadata": {
    "collapsed": false,
    "slideshow": {
     "slide_type": "fragment"
    }
   },
   "outputs": [
    {
     "name": "stdout",
     "output_type": "stream",
     "text": [
      "Ttest_indResult(statistic=0.50411284052167915, pvalue=0.61446551276843409)\n"
     ]
    }
   ],
   "source": [
    "print scs.ttest_ind_from_stats(np.mean(rvs1), np.std(rvs1, ddof=1), len(rvs1), \n",
    "                               np.mean(rvs6) - 3, np.std(rvs6, ddof=1), len(rvs6), equal_var = False)"
   ]
  },
  {
   "cell_type": "markdown",
   "metadata": {
    "slideshow": {
     "slide_type": "slide"
    }
   },
   "source": [
    "# Two Sample Comparison of Proportions\n",
    "\n",
    "**Step 1**:\n",
    "\n",
    "$H_0$: $p_1 - p_2 = D$\n",
    "\n",
    "$H_1$: $p_1 - p_2 \\neq D$\n",
    "\n",
    "**Step 2**:\n",
    "\n",
    "choose level of significance $\\alpha$\n",
    "\n",
    "**Step 3**:\n",
    "\n",
    "Z-test: Rough rule to see if z-test is okay is if pN > 5 and p(1-n) > 5\n",
    "\n",
    "$z = \\frac{\\hat{p_1}-\\hat{p_0}-D}{\\sqrt{\\frac{\\hat{p_1}(1-\\hat{p_1})}{n_1}+\\frac{\\hat{p_2}(1-\\hat{p_2})}{n_2}}}$ > critical value?\n",
    "\n",
    "**Step 4**:\n",
    "\n",
    "Reject or fail to reject null hypothesis"
   ]
  },
  {
   "cell_type": "code",
   "execution_count": 5,
   "metadata": {
    "collapsed": false,
    "slideshow": {
     "slide_type": "subslide"
    }
   },
   "outputs": [
    {
     "data": {
      "text/plain": [
       "(-2.0000000000000004, 0.045500263896358355)"
      ]
     },
     "execution_count": 5,
     "metadata": {},
     "output_type": "execute_result"
    }
   ],
   "source": [
    "# Testing a difference with statsmodels\n",
    "ssp.proportions_ztest([90, 110], [200,200])"
   ]
  },
  {
   "cell_type": "code",
   "execution_count": 11,
   "metadata": {
    "collapsed": false,
    "slideshow": {
     "slide_type": "skip"
    }
   },
   "outputs": [],
   "source": [
    "%matplotlib inline\n",
    "import numpy as np\n",
    "import matplotlib.pyplot as plt\n",
    "def make_bonf_graph(alpha,n,bonf=True):\n",
    "    x_range = range(1,n)\n",
    "    if bonf == True:\n",
    "        y_range = [(1- (1-alpha/n)**n) for n in range(1,n)]\n",
    "        title = 'Bonferroni Correction Graph'\n",
    "    else:\n",
    "        y_range = [(1- (1-alpha)**n) for n in range(1,n)]\n",
    "        title = 'Why Multiple Testing is Bad'\n",
    "    plt.plot(x_range,y_range)\n",
    "    plt.xlabel('number of tests')\n",
    "    plt.title(title)"
   ]
  },
  {
   "cell_type": "markdown",
   "metadata": {
    "slideshow": {
     "slide_type": "slide"
    }
   },
   "source": [
    "# Multiple Testing\n",
    "\n",
    "- Testing a set of multiple hypotheses simultaneously\n",
    "\n",
    "\n",
    "<img src='bonfatt.png'>"
   ]
  },
  {
   "cell_type": "markdown",
   "metadata": {
    "slideshow": {
     "slide_type": "subslide"
    }
   },
   "source": [
    "# Multiple Testing\n",
    "## Why is it bad?\n",
    "- We could test each hypothesis separately\n",
    "\n",
    "$P$(one significant result) $=$ $1 - P$(no significant results)\n",
    "\n",
    "$P$(one significant result) $=$ $1- (1-0.05)^{20}$ $=$ $0.64$"
   ]
  },
  {
   "cell_type": "code",
   "execution_count": 12,
   "metadata": {
    "collapsed": false,
    "slideshow": {
     "slide_type": "fragment"
    }
   },
   "outputs": [
    {
     "data": {
      "image/png": "[encoded data removed]",
      "text/plain": [
       "<matplotlib.figure.Figure at 0x11516e250>"
      ]
     },
     "metadata": {},
     "output_type": "display_data"
    }
   ],
   "source": [
    "make_bonf_graph(0.05,100,bonf=False)"
   ]
  },
  {
   "cell_type": "markdown",
   "metadata": {
    "nbpresent": {
     "id": "64a2ed25-bffa-493e-88db-f71cd36e3606"
    },
    "slideshow": {
     "slide_type": "slide"
    }
   },
   "source": [
    "# Bonferroni Correction\n",
    "\n",
    "20 sample case\n",
    "\n",
    "$\\frac{\\alpha}{n} = \\frac{0.05}{20} = 0.0025$\n",
    "\n",
    "$P$(one significant result) $=$ $1 - P$(no significant results)\n",
    "\n",
    "$P$(one significant result) $=$ $1-(1-0.0025)^{20}$ $=$ $0.0488$\n",
    "\n",
    "$\\Rightarrow$ Bonferroni is slightly conservative"
   ]
  },
  {
   "cell_type": "markdown",
   "metadata": {
    "nbpresent": {
     "id": "43f6b028-ae2f-46fc-8629-376a83a35a0b"
    },
    "slideshow": {
     "slide_type": "subslide"
    }
   },
   "source": [
    "# Bonferroni Correction\n",
    "\n",
    "<img src='abvenn.gif'>\n",
    "\n",
    "$\\frac{\\alpha}{n}$ $\\rightarrow$ new $\\alpha$"
   ]
  },
  {
   "cell_type": "code",
   "execution_count": 13,
   "metadata": {
    "collapsed": false,
    "slideshow": {
     "slide_type": "fragment"
    }
   },
   "outputs": [
    {
     "data": {
      "image/png": "[encoded data removed]",
      "text/plain": [
       "<matplotlib.figure.Figure at 0x1191a6150>"
      ]
     },
     "metadata": {},
     "output_type": "display_data"
    }
   ],
   "source": [
    "make_bonf_graph(0.05,100)"
   ]
  },
  {
   "cell_type": "markdown",
   "metadata": {
    "slideshow": {
     "slide_type": "slide"
    }
   },
   "source": [
    "# Outline - Afternoon Lecture\n",
    "\n",
    "- Know when to use a $\\chi^2$ test\n",
    "- Perform a $\\chi^2$ test\n",
    "- Understand experiment design\n",
    "- Be aware of confounding factors"
   ]
  },
  {
   "cell_type": "markdown",
   "metadata": {
    "slideshow": {
     "slide_type": "slide"
    }
   },
   "source": [
    "# Chi-Squared Test\n",
    "# $$\\chi^2$$\n",
    "\n",
    "1. Estimating whether two random variables are independent.\n",
    "2. Estimating how closely an observed distribution matches an expected distribution - we'll refer to this as the goodness-of-fit test\n"
   ]
  },
  {
   "cell_type": "markdown",
   "metadata": {
    "slideshow": {
     "slide_type": "slide"
    }
   },
   "source": [
    "# Independence Example\n",
    "\n",
    "Question: Is voting behavior independent of gender?\n",
    "\n",
    "$$\\chi^2 = \\sum_{i} \\frac{(O_i - E_i)^2}{E_i}$$\n",
    "\n",
    "**Actual**\n",
    "\n",
    "|      |Repub| Dem  | Other |\n",
    "| -----|-----|------|-------|\n",
    "|Male  |26   |13    |5      |\n",
    "|Female|20   |29    |7      |"
   ]
  },
  {
   "cell_type": "markdown",
   "metadata": {
    "slideshow": {
     "slide_type": "subslide"
    }
   },
   "source": [
    "# Independence Example\n",
    "\n",
    "Question: Is voting behavior independent of gender?\n",
    "\n",
    "$$\\chi^2 = \\sum_{i} \\frac{(O_i - E_i)^2}{E_i}$$\n",
    "\n",
    "**Actual**\n",
    "\n",
    "|      |Repub| Dem  | Other | Total |\n",
    "| -----|-----|------|-------|-------|\n",
    "|Male  |26   |13    |5      |44     |\n",
    "|Female|20   |29    |7      |56     |\n",
    "|Total |46   |42    |12     |100    |"
   ]
  },
  {
   "cell_type": "markdown",
   "metadata": {
    "slideshow": {
     "slide_type": "subslide"
    }
   },
   "source": [
    "**Actual**\n",
    "\n",
    "|      |Repub| Dem  | Other | Total |\n",
    "| -----|-----|------|-------|-------|\n",
    "|Male  |26   |13    |5      |44     |\n",
    "|Female|20   |29    |7      |56     |\n",
    "|Total |46   |42    |12     |100    |\n",
    "**Expected**\n",
    "\n",
    "|      |Repub| Dem  | Other |\n",
    "| -----|-----|------|-------|\n",
    "|Male  |20.24|18.48 |5.28   |\n",
    "|Female|25.76|23.52 |6.72   |\n",
    "\n",
    "Critical value for 2 degrees of freedom = 5.991"
   ]
  },
  {
   "cell_type": "markdown",
   "metadata": {
    "slideshow": {
     "slide_type": "subslide"
    }
   },
   "source": [
    "# Use Scipy!"
   ]
  },
  {
   "cell_type": "code",
   "execution_count": 14,
   "metadata": {
    "collapsed": false,
    "slideshow": {
     "slide_type": "fragment"
    }
   },
   "outputs": [
    {
     "name": "stdout",
     "output_type": "stream",
     "text": [
      "(5.8554993143502472, 0.05351733509077522, 2, array([[ 20.24,  18.48,   5.28],\n",
      "       [ 25.76,  23.52,   6.72]]))\n",
      "\n",
      "Clean it up!\n",
      "\n",
      "Chi2 Value: 5.85549931435\n",
      "p-value: 0.0535173350908\n",
      "dof: 2\n",
      "Expected Value Array:\n",
      "[[ 20.24  18.48   5.28]\n",
      " [ 25.76  23.52   6.72]]\n"
     ]
    }
   ],
   "source": [
    "cont_table = np.array([[26,13,5],[20,29,7]])\n",
    "print scs.chi2_contingency(cont_table)\n",
    "chi2,pval,dof,exp_array = scs.chi2_contingency(cont_table)\n",
    "print \"\\nClean it up!\\n\"\n",
    "print \"Chi2 Value: {0}\\np-value: {1}\\ndof: {2}\\nExpected Value Array:\\n{3}\".format(chi2,pval,dof,exp_array)"
   ]
  },
  {
   "cell_type": "markdown",
   "metadata": {
    "slideshow": {
     "slide_type": "slide"
    }
   },
   "source": [
    "# Chi-Square Goodness of Fit Test\n",
    "\n",
    "- How well does the expected model fit the data?\n",
    "\n",
    "- Assume that observations fall into bins and the chance that an observation falls into a bin is a certain percentage.\n",
    "\n",
    "- ex. did the expected number of users of the app each day match reality?\n",
    "\n",
    "- ex. is churn behavior independent of operating system?"
   ]
  },
  {
   "cell_type": "markdown",
   "metadata": {
    "slideshow": {
     "slide_type": "subslide"
    }
   },
   "source": [
    "# Goodness of Fit - Example\n",
    "\n",
    "$$\\chi^2 = \\sum_{i} \\frac{(O_i - E_i)^2}{E_i}$$\n",
    "\n",
    "Dice Game: \n",
    "\n",
    "\n",
    "|Value  |Observed Frequency|Expected Frequency|\n",
    "|-------|------------------|------------------|\n",
    "|1      |16                |?                 |\n",
    "|2\t    |5\t               |?                 |\n",
    "|3\t    |9\t               |?                 |\n",
    "|4\t    |7\t               |?                 |\n",
    "|5\t    |6\t               |?                 |\n",
    "|6\t    |17\t               |?                 |\n",
    "|Total\t|60\t               |?                 |"
   ]
  },
  {
   "cell_type": "markdown",
   "metadata": {
    "slideshow": {
     "slide_type": "subslide"
    }
   },
   "source": [
    "# Goodness of Fit - Example\n",
    "\n",
    "$$\\chi^2 = \\sum_{i} \\frac{(O_i - E_i)^2}{E_i}$$\n",
    "\n",
    "Dice Game: \n",
    "\n",
    "\n",
    "|Value  |Observed Frequency|Expected Frequency|\n",
    "|-------|------------------|------------------|\n",
    "|1      |16                |                10|\n",
    "|2\t    |5\t               |10                |\n",
    "|3\t    |9\t               |10                |\n",
    "|4\t    |7\t               |10                |\n",
    "|5\t    |6\t               |10                |\n",
    "|6\t    |17\t               |10                |\n",
    "|Total\t|60\t               |60                |"
   ]
  },
  {
   "cell_type": "markdown",
   "metadata": {
    "slideshow": {
     "slide_type": "subslide"
    }
   },
   "source": [
    "```from __future__ import division\n",
    "obs_table = # use an np array\n",
    "exp_table = #use an np array\n",
    "chi2_stat = # use the chi2 formula\n",
    "print \"Chi2 Statistic: {}\".format(chi2_stat)\n",
    "print \"Critical Chi2 Value: {:0.2f}\".format(scs.chi2.ppf(0.95,5))```"
   ]
  },
  {
   "cell_type": "code",
   "execution_count": 15,
   "metadata": {
    "collapsed": false,
    "slideshow": {
     "slide_type": "subslide"
    }
   },
   "outputs": [
    {
     "name": "stdout",
     "output_type": "stream",
     "text": [
      "Chi2 Statistic: 13.6\n",
      "Critical Chi2 Value: 11.07\n"
     ]
    }
   ],
   "source": [
    "from __future__ import division\n",
    "obs_table = np.array([16,5,9,7,6,17])\n",
    "exp_table = np.array([10,10,10,10,10,10])\n",
    "chi2_stat = sum((exp_table - obs_table)**2/exp_table)\n",
    "print \"Chi2 Statistic: {}\".format(chi2_stat)\n",
    "print \"Critical Chi2 Value: {:0.2f}\".format(scs.chi2.ppf(0.95,5))"
   ]
  },
  {
   "cell_type": "markdown",
   "metadata": {
    "slideshow": {
     "slide_type": "subslide"
    }
   },
   "source": [
    "# Use Scipy!"
   ]
  },
  {
   "cell_type": "code",
   "execution_count": 16,
   "metadata": {
    "collapsed": false,
    "slideshow": {
     "slide_type": "fragment"
    }
   },
   "outputs": [
    {
     "data": {
      "text/plain": [
       "Power_divergenceResult(statistic=13.6, pvalue=0.018360196409519448)"
      ]
     },
     "execution_count": 16,
     "metadata": {},
     "output_type": "execute_result"
    }
   ],
   "source": [
    "obs_table = np.array([16,5,9,7,6,17])\n",
    "exp_table = np.array([10,10,10,10,10,10])\n",
    "scs.chisquare(obs_table,exp_table)"
   ]
  },
  {
   "cell_type": "markdown",
   "metadata": {
    "slideshow": {
     "slide_type": "fragment"
    }
   },
   "source": [
    "“Delta degrees of freedom”: adjustment to the degrees of freedom for the p-value. The p-value is computed using a chi-squared distribution with k - 1 - ddof degrees of freedom, where k is the number of observed frequencies. The default value of ddof is 0."
   ]
  },
  {
   "cell_type": "markdown",
   "metadata": {
    "nbpresent": {
     "id": "53566aca-eb87-4cb7-9479-07f8b604004e"
    },
    "slideshow": {
     "slide_type": "slide"
    }
   },
   "source": [
    "# Experimental vs. Observational\n",
    "\n",
    "## Experimental\n",
    "- Randomly assign groups to minimize confounding\n",
    "- **Apply treatments** to experimental units and observe the effect of treatments\n",
    "- **Can** be used to **establish causality**\n",
    "\n",
    "## Observational\n",
    "- Observe subjects and measure variables of interest **without assigning treatments** to subjects (self-selection)\n",
    "- Confounding factors very likely and require adjustment\n",
    "- **Cannot** be used to **establish causality**\n",
    "\n",
    "## Homework example"
   ]
  },
  {
   "cell_type": "markdown",
   "metadata": {
    "slideshow": {
     "slide_type": "slide"
    }
   },
   "source": [
    "# Experiment Design\n",
    "\n",
    "## ++Removing all confounding variables is really hard++\n",
    "\n",
    "## Randomize into groups\n",
    "- ex. Assign people to groups based on a RNG\n",
    "\n",
    "## Assume independent observations\n",
    "- Knowledge of what other study participants are doing may bias the results\n",
    "\n",
    "## Removing too many..."
   ]
  },
  {
   "cell_type": "markdown",
   "metadata": {
    "slideshow": {
     "slide_type": "slide"
    }
   },
   "source": [
    "# Online Dating Confounder Discussion\n",
    "<img src='okcab.png'>"
   ]
  },
  {
   "cell_type": "markdown",
   "metadata": {
    "slideshow": {
     "slide_type": "slide"
    }
   },
   "source": [
    "# A/B Testing Example\n",
    "\n",
    "<img src='abtest.png',width = '80%'>"
   ]
  },
  {
   "cell_type": "markdown",
   "metadata": {
    "collapsed": true,
    "slideshow": {
     "slide_type": "subslide"
    }
   },
   "source": [
    "<img src='twitab.png'>"
   ]
  },
  {
   "cell_type": "markdown",
   "metadata": {
    "collapsed": true,
    "slideshow": {
     "slide_type": "skip"
    }
   },
   "source": [
    "jupyter nbconvert Hypothesis_Testing_DPR.ipynb --to slides --post serve"
   ]
  },
  {
   "cell_type": "code",
   "execution_count": null,
   "metadata": {
    "collapsed": true,
    "slideshow": {
     "slide_type": "skip"
    }
   },
   "outputs": [],
   "source": []
  },
  {
   "cell_type": "code",
   "execution_count": null,
   "metadata": {
    "collapsed": true,
    "slideshow": {
     "slide_type": "skip"
    }
   },
   "outputs": [],
   "source": []
  }
 ],
 "metadata": {
  "anaconda-cloud": {},
  "celltoolbar": "Slideshow",
  "kernelspec": {
   "display_name": "Python [Root]",
   "language": "python",
   "name": "Python [Root]"
  },
  "language_info": {
   "codemirror_mode": {
    "name": "ipython",
    "version": 2
   },
   "file_extension": ".py",
   "mimetype": "text/x-python",
   "name": "python",
   "nbconvert_exporter": "python",
   "pygments_lexer": "ipython2",
   "version": "2.7.13"
  },
  "nbpresent": {
   "slides": {},
   "themes": {}
  }
 },
 "nbformat": 4,
 "nbformat_minor": 0
}
