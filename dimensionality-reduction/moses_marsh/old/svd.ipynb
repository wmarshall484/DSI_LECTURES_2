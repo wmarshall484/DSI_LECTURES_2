{
 "cells": [
  {
   "cell_type": "code",
   "execution_count": 1,
   "metadata": {
    "collapsed": true
   },
   "outputs": [],
   "source": [
    "import pandas as pd\n",
    "import numpy as np\n",
    "from numpy.linalg import svd, eig\n",
    "import matplotlib.pyplot as plt\n",
    "import matplotlib.patches as patches\n",
    "from matplotlib import cm\n",
    "from sklearn.datasets import load_iris, fetch_olivetti_faces\n",
    "from sklearn.decomposition import PCA, TruncatedSVD\n",
    "from pandas.tools.plotting import scatter_matrix\n",
    "\n",
    "# Always make it pretty.\n",
    "plt.style.use('ggplot')\n",
    "\n",
    "%matplotlib inline"
   ]
  },
  {
   "cell_type": "code",
   "execution_count": null,
   "metadata": {
    "collapsed": true
   },
   "outputs": [],
   "source": []
  },
  {
   "cell_type": "code",
   "execution_count": null,
   "metadata": {
    "collapsed": true
   },
   "outputs": [],
   "source": []
  },
  {
   "cell_type": "code",
   "execution_count": null,
   "metadata": {
    "collapsed": true
   },
   "outputs": [],
   "source": []
  },
  {
   "cell_type": "code",
   "execution_count": null,
   "metadata": {
    "collapsed": true
   },
   "outputs": [],
   "source": []
  },
  {
   "cell_type": "markdown",
   "metadata": {},
   "source": [
    "## SVD for topic analysis\n",
    "\n",
    "We can use SVD to determine what we call ***latent features***. This will be best demonstrated with an example.\n",
    "\n",
    "### Example\n",
    "\n",
    "Let's look at users ratings of different movies. The ratings are from 1-5. A rating of 0 means the user hasn't watched the movie.\n",
    "\n",
    "|       | Matrix | Alien | StarWars | Casablanca | Titanic |\n",
    "| ----- | ------ | ----- | -------- | ---------- | ------ |\n",
    "| **Alice** |      1 |     2 |        2 |          0 |      0 |\n",
    "|   **Bob** |      3 |     5 |        5 |          0 |      0 |\n",
    "| **Cindy** |      4 |     4 |        4 |          0 |      0 |\n",
    "|   **Dan** |      5 |     5 |        5 |          0 |      0 |\n",
    "| **Emily** |      0 |     2 |        0 |          4 |      4 |\n",
    "| **Frank** |      0 |     0 |        0 |          5 |      5 |\n",
    "|  **Greg** |      0 |     1 |        0 |          2 |      2 |\n",
    "\n",
    "Note that the first three movies (Matrix, Alien, StarWars) are Sci-fi movies and the last two (Casablanca, Titanic) are Romance. We will be able to mathematically pull out these topics!\n",
    "\n",
    "Let's do the computation with Python."
   ]
  },
  {
   "cell_type": "code",
   "execution_count": 2,
   "metadata": {
    "collapsed": false
   },
   "outputs": [],
   "source": [
    "M = np.array([[1, 2, 2, 0, 0],\n",
    "              [3, 5, 5, 0, 0],\n",
    "              [4, 4, 4, 0, 0],\n",
    "              [5, 5, 5, 0, 0],\n",
    "              [0, 2, 0, 4, 4],\n",
    "              [0, 0, 0, 5, 5],\n",
    "              [0, 1, 0, 2, 2]])\n",
    "\n"
   ]
  },
  {
   "cell_type": "code",
   "execution_count": 3,
   "metadata": {
    "collapsed": false,
    "scrolled": false
   },
   "outputs": [
    {
     "name": "stdout",
     "output_type": "stream",
     "text": [
      "[[ -2.12142669e-01   2.35889359e-02   3.05275882e-01  -2.55204195e-01\n",
      "    5.08333980e-01  -6.55873811e-01   3.27936906e-01]\n",
      " [ -5.48509647e-01   6.39541961e-02   5.32055497e-01  -4.61448643e-01\n",
      "   -2.54166990e-01   3.27936906e-01  -1.63968453e-01]\n",
      " [ -4.96897235e-01   6.71052975e-02  -3.13985067e-01   1.95838988e-01\n",
      "    6.66545570e-01   3.65915279e-01  -1.82957639e-01]\n",
      " [ -6.21121543e-01   8.38816219e-02  -3.92481334e-01   2.44798735e-01\n",
      "   -4.82403058e-01  -3.58319604e-01   1.79159802e-01]\n",
      " [ -1.24855356e-01  -5.96778016e-01   3.95328299e-01   5.21519583e-01\n",
      "    6.25619756e-17  -2.00000000e-01  -4.00000000e-01]\n",
      " [ -4.41332838e-02  -7.33917008e-01  -4.19213292e-01  -5.32614583e-01\n",
      "   -1.99840144e-16   5.17221534e-17  -2.58610767e-17]\n",
      " [ -6.24276782e-02  -2.98389008e-01   1.97664149e-01   2.60759791e-01\n",
      "    3.52541217e-18   4.00000000e-01   8.00000000e-01]]\n",
      "[  1.38366398e+01   9.52139961e+00   1.68783520e+00   1.02056846e+00\n",
      "   1.57009246e-16]\n",
      "[[ -5.02352330e-01  -6.19526758e-01  -5.96967929e-01  -6.10656353e-02\n",
      "   -6.10656353e-02]\n",
      " [  9.48684921e-02  -4.59141416e-02   1.10779738e-01  -6.98791711e-01\n",
      "   -6.98791711e-01]\n",
      " [ -7.80232905e-01   6.16649691e-01   3.10944517e-02  -7.07562953e-02\n",
      "   -7.07562953e-02]\n",
      " [  3.60386901e-01   4.83551079e-01  -7.93971206e-01  -5.43569648e-02\n",
      "   -5.43569648e-02]\n",
      " [ -0.00000000e+00  -7.24835545e-17   7.24835545e-17   7.07106781e-01\n",
      "   -7.07106781e-01]]\n"
     ]
    }
   ],
   "source": [
    "# Compute SVD\n",
    "from numpy.linalg import svd\n",
    "\n",
    "U, sigma, VT = svd(M)\n",
    "\n",
    "print U\n",
    "print sigma\n",
    "print VT"
   ]
  },
  {
   "cell_type": "code",
   "execution_count": 4,
   "metadata": {
    "collapsed": false
   },
   "outputs": [
    {
     "name": "stdout",
     "output_type": "stream",
     "text": [
      "          0     1     2     3     4     5     6\n",
      "Alice -0.21  0.02  0.31 -0.26  0.51 -0.66  0.33\n",
      "Bob   -0.55  0.06  0.53 -0.46 -0.25  0.33 -0.16\n",
      "Cindy -0.50  0.07 -0.31  0.20  0.67  0.37 -0.18\n",
      "Dan   -0.62  0.08 -0.39  0.24 -0.48 -0.36  0.18\n",
      "Emily -0.12 -0.60  0.40  0.52  0.00 -0.20 -0.40\n",
      "Frank -0.04 -0.73 -0.42 -0.53 -0.00  0.00 -0.00\n",
      "Greg  -0.06 -0.30  0.20  0.26  0.00  0.40  0.80\n",
      "[[ 13.84   0.     0.     0.     0.  ]\n",
      " [  0.     9.52   0.     0.     0.  ]\n",
      " [  0.     0.     1.69   0.     0.  ]\n",
      " [  0.     0.     0.     1.02   0.  ]\n",
      " [  0.     0.     0.     0.     0.  ]]\n",
      "   Matrix  Alien  StarWars  Casablanca  Titanic\n",
      "0   -0.50  -0.62     -0.60       -0.06    -0.06\n",
      "1    0.09  -0.05      0.11       -0.70    -0.70\n",
      "2   -0.78   0.62      0.03       -0.07    -0.07\n",
      "3    0.36   0.48     -0.79       -0.05    -0.05\n",
      "4   -0.00  -0.00      0.00        0.71    -0.71\n"
     ]
    }
   ],
   "source": [
    "# Make interpretable\n",
    "movies = ['Matrix','Alien','StarWars','Casablanca','Titanic']\n",
    "users = ['Alice','Bob','Cindy','Dan','Emily','Frank','Greg']\n",
    "\n",
    "U, sigma, VT = (np.around(x,2) for x in (U,sigma,VT))\n",
    "\n",
    "U = pd.DataFrame(U, index=users)\n",
    "VT = pd.DataFrame(VT, columns=movies)\n",
    "\n",
    "print U\n",
    "print np.diag(sigma)\n",
    "print VT\n"
   ]
  },
  {
   "cell_type": "code",
   "execution_count": 5,
   "metadata": {
    "collapsed": false
   },
   "outputs": [
    {
     "data": {
      "text/plain": [
       "array([ 0.66957013,  0.98637933,  0.99636316,  1.        ,  1.        ])"
      ]
     },
     "execution_count": 5,
     "metadata": {},
     "output_type": "execute_result"
    }
   ],
   "source": [
    "# Power\n",
    "# singular values are square roots of eigenvalues\n",
    "total_power = np.sum(sigma**2)\n",
    "total_power\n",
    "\n",
    "fraction_power = np.cumsum(sigma**2) / total_power\n",
    "fraction_power"
   ]
  },
  {
   "cell_type": "code",
   "execution_count": 6,
   "metadata": {
    "collapsed": false
   },
   "outputs": [
    {
     "name": "stdout",
     "output_type": "stream",
     "text": [
      "          0     1\n",
      "Alice -0.21  0.02\n",
      "Bob   -0.55  0.06\n",
      "Cindy -0.50  0.07\n",
      "Dan   -0.62  0.08\n",
      "Emily -0.12 -0.60\n",
      "Frank -0.04 -0.73\n",
      "Greg  -0.06 -0.30\n",
      "[ 13.84   9.52]\n",
      "   Matrix  Alien  StarWars  Casablanca  Titanic\n",
      "0   -0.50  -0.62     -0.60       -0.06    -0.06\n",
      "1    0.09  -0.05      0.11       -0.70    -0.70\n"
     ]
    }
   ],
   "source": [
    "# Keep only top two concepts\n",
    "U = U.iloc[:,:2]\n",
    "sigma = sigma[:2]\n",
    "VT = VT.iloc[:2,:]\n",
    "\n",
    "print U\n",
    "print sigma\n",
    "print VT"
   ]
  },
  {
   "cell_type": "code",
   "execution_count": 7,
   "metadata": {
    "collapsed": false
   },
   "outputs": [
    {
     "data": {
      "text/html": [
       "<div>\n",
       "<table border=\"1\" class=\"dataframe\">\n",
       "  <thead>\n",
       "    <tr style=\"text-align: right;\">\n",
       "      <th></th>\n",
       "      <th>Matrix</th>\n",
       "      <th>Alien</th>\n",
       "      <th>StarWars</th>\n",
       "      <th>Casablanca</th>\n",
       "      <th>Titanic</th>\n",
       "    </tr>\n",
       "  </thead>\n",
       "  <tbody>\n",
       "    <tr>\n",
       "      <th>Alice</th>\n",
       "      <td>1.0</td>\n",
       "      <td>2.0</td>\n",
       "      <td>2.0</td>\n",
       "      <td>0.0</td>\n",
       "      <td>0.0</td>\n",
       "    </tr>\n",
       "    <tr>\n",
       "      <th>Bob</th>\n",
       "      <td>4.0</td>\n",
       "      <td>5.0</td>\n",
       "      <td>5.0</td>\n",
       "      <td>0.0</td>\n",
       "      <td>0.0</td>\n",
       "    </tr>\n",
       "    <tr>\n",
       "      <th>Cindy</th>\n",
       "      <td>4.0</td>\n",
       "      <td>4.0</td>\n",
       "      <td>4.0</td>\n",
       "      <td>-0.0</td>\n",
       "      <td>-0.0</td>\n",
       "    </tr>\n",
       "    <tr>\n",
       "      <th>Dan</th>\n",
       "      <td>4.0</td>\n",
       "      <td>5.0</td>\n",
       "      <td>5.0</td>\n",
       "      <td>-0.0</td>\n",
       "      <td>-0.0</td>\n",
       "    </tr>\n",
       "    <tr>\n",
       "      <th>Emily</th>\n",
       "      <td>0.0</td>\n",
       "      <td>1.0</td>\n",
       "      <td>0.0</td>\n",
       "      <td>4.0</td>\n",
       "      <td>4.0</td>\n",
       "    </tr>\n",
       "    <tr>\n",
       "      <th>Frank</th>\n",
       "      <td>-0.0</td>\n",
       "      <td>1.0</td>\n",
       "      <td>-0.0</td>\n",
       "      <td>5.0</td>\n",
       "      <td>5.0</td>\n",
       "    </tr>\n",
       "    <tr>\n",
       "      <th>Greg</th>\n",
       "      <td>0.0</td>\n",
       "      <td>1.0</td>\n",
       "      <td>0.0</td>\n",
       "      <td>2.0</td>\n",
       "      <td>2.0</td>\n",
       "    </tr>\n",
       "  </tbody>\n",
       "</table>\n",
       "</div>"
      ],
      "text/plain": [
       "       Matrix  Alien  StarWars  Casablanca  Titanic\n",
       "Alice     1.0    2.0       2.0         0.0      0.0\n",
       "Bob       4.0    5.0       5.0         0.0      0.0\n",
       "Cindy     4.0    4.0       4.0        -0.0     -0.0\n",
       "Dan       4.0    5.0       5.0        -0.0     -0.0\n",
       "Emily     0.0    1.0       0.0         4.0      4.0\n",
       "Frank    -0.0    1.0      -0.0         5.0      5.0\n",
       "Greg      0.0    1.0       0.0         2.0      2.0"
      ]
     },
     "execution_count": 7,
     "metadata": {},
     "output_type": "execute_result"
    }
   ],
   "source": [
    "# Check the reconstruction\n",
    "\n",
    "np.around(U.dot(np.diag(sigma)).dot(VT))"
   ]
  },
  {
   "cell_type": "markdown",
   "metadata": {
    "collapsed": true
   },
   "source": [
    "## Queries"
   ]
  },
  {
   "cell_type": "code",
   "execution_count": 8,
   "metadata": {
    "collapsed": false
   },
   "outputs": [
    {
     "data": {
      "text/plain": [
       "Matrix        0.000000\n",
       "Alien         0.033242\n",
       "StarWars      0.000005\n",
       "Casablanca    1.092455\n",
       "Titanic       1.092455\n",
       "dtype: float64"
      ]
     },
     "execution_count": 8,
     "metadata": {},
     "output_type": "execute_result"
    }
   ],
   "source": [
    "# Which movies are most similar to Matrix?\n",
    "from scipy.spatial.distance import cosine\n",
    "\n",
    "matrix = VT['Matrix']\n",
    "distances = [cosine(matrix, VT[col]) for col in VT]\n",
    "pd.Series(distances, index=movies)\n"
   ]
  },
  {
   "cell_type": "code",
   "execution_count": 9,
   "metadata": {
    "collapsed": false
   },
   "outputs": [
    {
     "data": {
      "text/plain": [
       "array([[ 2.4311,  3.2101,  2.9149,  1.1518,  1.1518]])"
      ]
     },
     "execution_count": 9,
     "metadata": {},
     "output_type": "execute_result"
    }
   ],
   "source": [
    "# Make recommendations for a new user\n",
    "my_ratings = np.array([[5, 0, 4, 0, 3]])\n",
    "\n",
    "# Translate to weighted concept space\n",
    "my_weighted_concept = my_ratings.dot(VT.T)\n",
    "my_weighted_concept\n",
    "\n",
    "\n",
    "# Translate back to rating space\n",
    "new_rating = my_weighted_concept.dot(VT)\n",
    "new_rating"
   ]
  },
  {
   "cell_type": "markdown",
   "metadata": {},
   "source": [
    "It looks like the best recommendation for a new movie for me to watch is Alien."
   ]
  },
  {
   "cell_type": "markdown",
   "metadata": {},
   "source": [
    "#### Which user am I most similar to?\n",
    "\n",
    "Translate to user space by multiplying by $V \\Sigma^{-1}$ _on the right_"
   ]
  },
  {
   "cell_type": "code",
   "execution_count": 10,
   "metadata": {
    "collapsed": false
   },
   "outputs": [
    {
     "data": {
      "text/plain": [
       "Alice    0.090329\n",
       "Bob      0.096108\n",
       "Cindy    0.109543\n",
       "Dan      0.104693\n",
       "Emily    0.493822\n",
       "Frank    0.621577\n",
       "Greg     0.493822\n",
       "dtype: float64"
      ]
     },
     "execution_count": 10,
     "metadata": {},
     "output_type": "execute_result"
    }
   ],
   "source": [
    "sigma_inv = np.diag(1/sigma)\n",
    "\n",
    "# Translate to concept space\n",
    "my_concept = my_ratings.dot(VT.T).dot(sigma_inv)\n",
    "my_concept\n",
    "\n",
    "# Find distance to other users\n",
    "distances = [cosine(my_concept, row) for name,row in U.iterrows()]\n",
    "pd.Series(distances, index=users)"
   ]
  },
  {
   "cell_type": "code",
   "execution_count": 11,
   "metadata": {
    "collapsed": false
   },
   "outputs": [
    {
     "name": "stdout",
     "output_type": "stream",
     "text": [
      "0   -0.21\n",
      "1    0.02\n",
      "Name: Alice, dtype: float64\n",
      "0   -0.55\n",
      "1    0.06\n",
      "Name: Bob, dtype: float64\n",
      "0   -0.50\n",
      "1    0.07\n",
      "Name: Cindy, dtype: float64\n",
      "0   -0.62\n",
      "1    0.08\n",
      "Name: Dan, dtype: float64\n",
      "0   -0.12\n",
      "1   -0.60\n",
      "Name: Emily, dtype: float64\n",
      "0   -0.04\n",
      "1   -0.73\n",
      "Name: Frank, dtype: float64\n",
      "0   -0.06\n",
      "1   -0.30\n",
      "Name: Greg, dtype: float64\n"
     ]
    }
   ],
   "source": [
    "for name, row in U.iterrows():\n",
    "    print row"
   ]
  },
  {
   "cell_type": "code",
   "execution_count": null,
   "metadata": {
    "collapsed": true
   },
   "outputs": [],
   "source": []
  }
 ],
 "metadata": {
  "anaconda-cloud": {},
  "kernelspec": {
   "display_name": "Python [default]",
   "language": "python",
   "name": "python2"
  },
  "language_info": {
   "codemirror_mode": {
    "name": "ipython",
    "version": 2
   },
   "file_extension": ".py",
   "mimetype": "text/x-python",
   "name": "python",
   "nbconvert_exporter": "python",
   "pygments_lexer": "ipython2",
   "version": "2.7.12"
  }
 },
 "nbformat": 4,
 "nbformat_minor": 0
}
