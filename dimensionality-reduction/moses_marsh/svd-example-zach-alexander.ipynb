{
 "cells": [
  {
   "cell_type": "markdown",
   "metadata": {},
   "source": [
    "## SVD for topic analysis\n",
    "\n",
    "We can use SVD to determine what we call ***latent features***. This will be best demonstrated with an example.\n",
    "\n",
    "### Example\n",
    "\n",
    "Let's look at users ratings of different movies. The ratings are from 1-5. A rating of 0 means the user hasn't watched the movie.\n",
    "\n",
    "|       | Matrix | Alien | StarWars | Casablanca | Titanic |\n",
    "| ----- | ------ | ----- | -------- | ---------- | ------ |\n",
    "| **Alice** |      1 |     2 |        2 |          0 |      0 |\n",
    "|   **Bob** |      3 |     5 |        5 |          0 |      0 |\n",
    "| **Cindy** |      4 |     4 |        4 |          0 |      0 |\n",
    "|   **Dan** |      5 |     5 |        5 |          0 |      0 |\n",
    "| **Emily** |      0 |     2 |        0 |          4 |      4 |\n",
    "| **Frank** |      0 |     0 |        0 |          5 |      5 |\n",
    "|  **Greg** |      0 |     1 |        0 |          2 |      2 |\n",
    "\n",
    "Note that the first three movies (Matrix, Alien, StarWars) are Sci-fi movies and the last two (Casablanca, Titanic) are Romance. We will be able to mathematically pull out these topics!\n",
    "\n",
    "Let's do the computation with Python."
   ]
  },
  {
   "cell_type": "code",
   "execution_count": 34,
   "metadata": {
    "collapsed": false
   },
   "outputs": [
    {
     "name": "stdout",
     "output_type": "stream",
     "text": [
      "Populating the interactive namespace from numpy and matplotlib\n"
     ]
    },
    {
     "name": "stderr",
     "output_type": "stream",
     "text": [
      "WARNING: pylab import has clobbered these variables: ['matrix']\n",
      "`%matplotlib` prevents importing * from pylab and numpy\n"
     ]
    }
   ],
   "source": [
    "import pandas as pd\n",
    "import matplotlib.pyplot as plt\n",
    "%pylab inline"
   ]
  },
  {
   "cell_type": "code",
   "execution_count": 35,
   "metadata": {
    "collapsed": false
   },
   "outputs": [],
   "source": [
    "M = np.array([[1, 2, 2, 0, 0],\n",
    "              [3, 5, 5, 0, 0],\n",
    "              [4, 4, 4, 0, 0],\n",
    "              [5, 5, 5, 0, 0],\n",
    "              [0, 2, 0, 4, 4],\n",
    "              [0, 0, 0, 5, 5],\n",
    "              [0, 1, 0, 2, 2]])\n",
    "\n"
   ]
  },
  {
   "cell_type": "code",
   "execution_count": 36,
   "metadata": {
    "collapsed": false,
    "scrolled": true
   },
   "outputs": [
    {
     "name": "stdout",
     "output_type": "stream",
     "text": [
      "[[ -2.12142669e-01   2.35889359e-02   3.05275882e-01   2.55204195e-01\n",
      "   -5.20184279e-01  -7.04673443e-01   1.70176847e-01]\n",
      " [ -5.48509647e-01   6.39541961e-02   5.32055497e-01   4.61448643e-01\n",
      "    2.60092140e-01   3.52336722e-01  -8.50884233e-02]\n",
      " [ -4.96897235e-01   6.71052975e-02  -3.13985067e-01  -1.95838988e-01\n",
      "    6.09059054e-01  -4.76899786e-01   1.15170087e-01]\n",
      " [ -6.21121543e-01   8.38816219e-02  -3.92481334e-01  -2.44798735e-01\n",
      "   -5.39265671e-01   3.11052484e-01  -7.51183848e-02]\n",
      " [ -1.24855356e-01  -5.96778016e-01   3.95328299e-01  -5.21519583e-01\n",
      "   -4.16333634e-16  -1.04982970e-01  -4.34716662e-01]\n",
      " [ -4.41332838e-02  -7.33917008e-01  -4.19213292e-01   5.32614583e-01\n",
      "    2.22044605e-16  -1.38777878e-16   1.64798730e-17]\n",
      " [ -6.24276782e-02  -2.98389008e-01   1.97664149e-01  -2.60759791e-01\n",
      "   -2.08166817e-16   2.09965939e-01   8.69433324e-01]]\n",
      "[  1.38366398e+01   9.52139961e+00   1.68783520e+00   1.02056846e+00\n",
      "   4.58480463e-17]\n",
      "[[-0.50235233 -0.61952676 -0.59696793 -0.06106564 -0.06106564]\n",
      " [ 0.09486849 -0.04591414  0.11077974 -0.69879171 -0.69879171]\n",
      " [-0.78023291  0.61664969  0.03109445 -0.0707563  -0.0707563 ]\n",
      " [-0.3603869  -0.48355108  0.79397121  0.05435696  0.05435696]\n",
      " [ 0.          0.          0.         -0.70710678  0.70710678]]\n"
     ]
    }
   ],
   "source": [
    "# Compute SVD\n",
    "from numpy.linalg import svd\n",
    "\n",
    "U, sigma, VT = svd(M)\n",
    "\n",
    "print U\n",
    "print sigma\n",
    "print VT"
   ]
  },
  {
   "cell_type": "code",
   "execution_count": 39,
   "metadata": {
    "collapsed": false
   },
   "outputs": [
    {
     "name": "stdout",
     "output_type": "stream",
     "text": [
      "          0     1     2     3     4     5     6\n",
      "Alice -0.21  0.02  0.31  0.26 -0.52 -0.70  0.17\n",
      "Bob   -0.55  0.06  0.53  0.46  0.26  0.35 -0.09\n",
      "Cindy -0.50  0.07 -0.31 -0.20  0.61 -0.48  0.12\n",
      "Dan   -0.62  0.08 -0.39 -0.24 -0.54  0.31 -0.08\n",
      "Emily -0.12 -0.60  0.40 -0.52 -0.00 -0.10 -0.43\n",
      "Frank -0.04 -0.73 -0.42  0.53  0.00 -0.00  0.00\n",
      "Greg  -0.06 -0.30  0.20 -0.26 -0.00  0.21  0.87\n",
      "[[ 13.84   0.     0.     0.     0.  ]\n",
      " [  0.     9.52   0.     0.     0.  ]\n",
      " [  0.     0.     1.69   0.     0.  ]\n",
      " [  0.     0.     0.     1.02   0.  ]\n",
      " [  0.     0.     0.     0.     0.  ]]\n",
      "   Matrix  Alien  StarWars  Casablanca  Titanic\n",
      "0   -0.50  -0.62     -0.60       -0.06    -0.06\n",
      "1    0.09  -0.05      0.11       -0.70    -0.70\n",
      "2   -0.78   0.62      0.03       -0.07    -0.07\n",
      "3   -0.36  -0.48      0.79        0.05     0.05\n",
      "4    0.00   0.00      0.00       -0.71     0.71\n"
     ]
    }
   ],
   "source": [
    "# Make interpretable\n",
    "movies = ['Matrix','Alien','StarWars','Casablanca','Titanic']\n",
    "users = ['Alice','Bob','Cindy','Dan','Emily','Frank','Greg']\n",
    "\n",
    "U, sigma, VT = (np.around(x,2) for x in (U,sigma,VT))\n",
    "\n",
    "U = pd.DataFrame(U, index=users)\n",
    "VT = pd.DataFrame(VT, columns=movies)\n",
    "\n",
    "print U\n",
    "print np.diag(sigma)\n",
    "print VT\n"
   ]
  },
  {
   "cell_type": "code",
   "execution_count": 44,
   "metadata": {
    "collapsed": false
   },
   "outputs": [
    {
     "data": {
      "text/plain": [
       "array([ 0.66957013,  0.98637933,  0.99636316,  1.        ,  1.        ])"
      ]
     },
     "execution_count": 44,
     "metadata": {},
     "output_type": "execute_result"
    }
   ],
   "source": [
    "# Power\n",
    "# singular values are square roots of eigenvalues\n",
    "total_power = np.sum(sigma**2)\n",
    "total_power\n",
    "\n",
    "fraction_power = np.cumsum(sigma**2) / total_power\n",
    "fraction_power"
   ]
  },
  {
   "cell_type": "code",
   "execution_count": 45,
   "metadata": {
    "collapsed": false
   },
   "outputs": [
    {
     "name": "stdout",
     "output_type": "stream",
     "text": [
      "          0     1\n",
      "Alice -0.21  0.02\n",
      "Bob   -0.55  0.06\n",
      "Cindy -0.50  0.07\n",
      "Dan   -0.62  0.08\n",
      "Emily -0.12 -0.60\n",
      "Frank -0.04 -0.73\n",
      "Greg  -0.06 -0.30\n",
      "[ 13.84   9.52]\n",
      "   Matrix  Alien  StarWars  Casablanca  Titanic\n",
      "0   -0.50  -0.62     -0.60       -0.06    -0.06\n",
      "1    0.09  -0.05      0.11       -0.70    -0.70\n"
     ]
    }
   ],
   "source": [
    "# Keep only top two concepts\n",
    "U = U.iloc[:,:2]\n",
    "sigma = sigma[:2]\n",
    "VT = VT.iloc[:2,:]\n",
    "\n",
    "print U\n",
    "print sigma\n",
    "print VT"
   ]
  },
  {
   "cell_type": "code",
   "execution_count": 49,
   "metadata": {
    "collapsed": false
   },
   "outputs": [
    {
     "data": {
      "text/html": [
       "<div style=\"max-height:1000px;max-width:1500px;overflow:auto;\">\n",
       "<table border=\"1\" class=\"dataframe\">\n",
       "  <thead>\n",
       "    <tr style=\"text-align: right;\">\n",
       "      <th></th>\n",
       "      <th>Matrix</th>\n",
       "      <th>Alien</th>\n",
       "      <th>StarWars</th>\n",
       "      <th>Casablanca</th>\n",
       "      <th>Titanic</th>\n",
       "    </tr>\n",
       "  </thead>\n",
       "  <tbody>\n",
       "    <tr>\n",
       "      <th>Alice</th>\n",
       "      <td> 1</td>\n",
       "      <td> 2</td>\n",
       "      <td> 2</td>\n",
       "      <td> 0</td>\n",
       "      <td> 0</td>\n",
       "    </tr>\n",
       "    <tr>\n",
       "      <th>Bob</th>\n",
       "      <td> 4</td>\n",
       "      <td> 5</td>\n",
       "      <td> 5</td>\n",
       "      <td> 0</td>\n",
       "      <td> 0</td>\n",
       "    </tr>\n",
       "    <tr>\n",
       "      <th>Cindy</th>\n",
       "      <td> 4</td>\n",
       "      <td> 4</td>\n",
       "      <td> 4</td>\n",
       "      <td>-0</td>\n",
       "      <td>-0</td>\n",
       "    </tr>\n",
       "    <tr>\n",
       "      <th>Dan</th>\n",
       "      <td> 4</td>\n",
       "      <td> 5</td>\n",
       "      <td> 5</td>\n",
       "      <td>-0</td>\n",
       "      <td>-0</td>\n",
       "    </tr>\n",
       "    <tr>\n",
       "      <th>Emily</th>\n",
       "      <td> 0</td>\n",
       "      <td> 1</td>\n",
       "      <td> 0</td>\n",
       "      <td> 4</td>\n",
       "      <td> 4</td>\n",
       "    </tr>\n",
       "    <tr>\n",
       "      <th>Frank</th>\n",
       "      <td>-0</td>\n",
       "      <td> 1</td>\n",
       "      <td>-0</td>\n",
       "      <td> 5</td>\n",
       "      <td> 5</td>\n",
       "    </tr>\n",
       "    <tr>\n",
       "      <th>Greg</th>\n",
       "      <td> 0</td>\n",
       "      <td> 1</td>\n",
       "      <td> 0</td>\n",
       "      <td> 2</td>\n",
       "      <td> 2</td>\n",
       "    </tr>\n",
       "  </tbody>\n",
       "</table>\n",
       "</div>"
      ],
      "text/plain": [
       "       Matrix  Alien  StarWars  Casablanca  Titanic\n",
       "Alice       1      2         2           0        0\n",
       "Bob         4      5         5           0        0\n",
       "Cindy       4      4         4          -0       -0\n",
       "Dan         4      5         5          -0       -0\n",
       "Emily       0      1         0           4        4\n",
       "Frank      -0      1        -0           5        5\n",
       "Greg        0      1         0           2        2"
      ]
     },
     "execution_count": 49,
     "metadata": {},
     "output_type": "execute_result"
    }
   ],
   "source": [
    "# Check the reconstruction\n",
    "\n",
    "np.around(U.dot(np.diag(sigma)).dot(VT))"
   ]
  },
  {
   "cell_type": "markdown",
   "metadata": {
    "collapsed": true
   },
   "source": [
    "## Queries"
   ]
  },
  {
   "cell_type": "code",
   "execution_count": 52,
   "metadata": {
    "collapsed": false
   },
   "outputs": [
    {
     "data": {
      "text/plain": [
       "Matrix        0.000000\n",
       "Alien         0.033242\n",
       "StarWars      0.000005\n",
       "Casablanca    1.092455\n",
       "Titanic       1.092455\n",
       "dtype: float64"
      ]
     },
     "execution_count": 52,
     "metadata": {},
     "output_type": "execute_result"
    }
   ],
   "source": [
    "# Which movies are most similar to Matrix?\n",
    "from scipy.spatial.distance import cosine\n",
    "\n",
    "matrix = VT['Matrix']\n",
    "distances = [cosine(matrix, VT[col]) for col in VT]\n",
    "pd.Series(distances, index=movies)\n"
   ]
  },
  {
   "cell_type": "code",
   "execution_count": 56,
   "metadata": {
    "collapsed": false
   },
   "outputs": [
    {
     "data": {
      "text/plain": [
       "array([[ 2.4311,  3.2101,  2.9149,  1.1518,  1.1518]])"
      ]
     },
     "execution_count": 56,
     "metadata": {},
     "output_type": "execute_result"
    }
   ],
   "source": [
    "# Make recommendations for a new user\n",
    "my_ratings = np.array([[5, 0, 4, 0, 3]])\n",
    "\n",
    "# Translate to weighted concept space\n",
    "my_weighted_concept = my_ratings.dot(VT.T)\n",
    "my_weighted_concept\n",
    "\n",
    "\n",
    "# Translate back to rating space\n",
    "new_rating = my_weighted_concept.dot(VT)\n",
    "new_rating"
   ]
  },
  {
   "cell_type": "markdown",
   "metadata": {},
   "source": [
    "It looks like the best recommendation for a new movie for me to watch is Alien."
   ]
  },
  {
   "cell_type": "markdown",
   "metadata": {},
   "source": [
    "####Which user am I most similar to?\n",
    "\n",
    "Translate to user space by multiplying by $V \\Sigma^{-1}$ _on the right_"
   ]
  },
  {
   "cell_type": "code",
   "execution_count": 62,
   "metadata": {
    "collapsed": false
   },
   "outputs": [
    {
     "data": {
      "text/plain": [
       "Alice    0.090329\n",
       "Bob      0.096108\n",
       "Cindy    0.109543\n",
       "Dan      0.104693\n",
       "Emily    0.493822\n",
       "Frank    0.621577\n",
       "Greg     0.493822\n",
       "dtype: float64"
      ]
     },
     "execution_count": 62,
     "metadata": {},
     "output_type": "execute_result"
    }
   ],
   "source": [
    "sigma_inv = np.diag(1/sigma)\n",
    "\n",
    "# Translate to concept space\n",
    "my_concept = my_ratings.dot(VT.T).dot(sigma_inv)\n",
    "my_concept\n",
    "\n",
    "# Find distance to other users\n",
    "distances = [cosine(my_concept, row) for name,row in U.iterrows()]\n",
    "pd.Series(distances, index=users)"
   ]
  },
  {
   "cell_type": "code",
   "execution_count": 61,
   "metadata": {
    "collapsed": false
   },
   "outputs": [
    {
     "name": "stdout",
     "output_type": "stream",
     "text": [
      "0   -0.21\n",
      "1    0.02\n",
      "Name: Alice, dtype: float64\n",
      "0   -0.55\n",
      "1    0.06\n",
      "Name: Bob, dtype: float64\n",
      "0   -0.50\n",
      "1    0.07\n",
      "Name: Cindy, dtype: float64\n",
      "0   -0.62\n",
      "1    0.08\n",
      "Name: Dan, dtype: float64\n",
      "0   -0.12\n",
      "1   -0.60\n",
      "Name: Emily, dtype: float64\n",
      "0   -0.04\n",
      "1   -0.73\n",
      "Name: Frank, dtype: float64\n",
      "0   -0.06\n",
      "1   -0.30\n",
      "Name: Greg, dtype: float64\n"
     ]
    }
   ],
   "source": [
    "for name, row in U.iterrows():\n",
    "    print row"
   ]
  },
  {
   "cell_type": "code",
   "execution_count": null,
   "metadata": {
    "collapsed": true
   },
   "outputs": [],
   "source": []
  }
 ],
 "metadata": {
  "kernelspec": {
   "display_name": "Python [default]",
   "language": "python",
   "name": "python2"
  },
  "language_info": {
   "codemirror_mode": {
    "name": "ipython",
    "version": 2
   },
   "file_extension": ".py",
   "mimetype": "text/x-python",
   "name": "python",
   "nbconvert_exporter": "python",
   "pygments_lexer": "ipython2",
   "version": "2.7.12"
  }
 },
 "nbformat": 4,
 "nbformat_minor": 0
}
