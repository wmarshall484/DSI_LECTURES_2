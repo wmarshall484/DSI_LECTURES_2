{
 "metadata": {
  "name": "",
  "signature": "sha256:2bb3f9186c70de62644dee7fd0b4e9ab5610a30bd3398cd4fb3fab8b93170f00"
 },
 "nbformat": 3,
 "nbformat_minor": 0,
 "worksheets": [
  {
   "cells": [
    {
     "cell_type": "code",
     "collapsed": false,
     "input": [
      "import numpy as np\n",
      "import matplotlib.pyplot as plt\n",
      "\n",
      "%matplotlib inline\n",
      "\n",
      "np.set_printoptions(precision=2)"
     ],
     "language": "python",
     "metadata": {},
     "outputs": [],
     "prompt_number": 1
    },
    {
     "cell_type": "markdown",
     "metadata": {},
     "source": [
      "####Data matrix with random entries"
     ]
    },
    {
     "cell_type": "code",
     "collapsed": false,
     "input": [
      "D = np.random.randint(0, 100, (5,3))\n",
      "D"
     ],
     "language": "python",
     "metadata": {},
     "outputs": [
      {
       "metadata": {},
       "output_type": "pyout",
       "prompt_number": 2,
       "text": [
        "array([[69, 25, 59],\n",
        "       [34, 67, 97],\n",
        "       [17,  5, 67],\n",
        "       [16, 86, 55],\n",
        "       [53,  0, 73]])"
       ]
      }
     ],
     "prompt_number": 2
    },
    {
     "cell_type": "markdown",
     "metadata": {},
     "source": [
      "####Center the data\n",
      "\n",
      "${\\bf Z} = {\\bf D} - {\\bf 1}.\\mu$"
     ]
    },
    {
     "cell_type": "code",
     "collapsed": false,
     "input": [
      "mu = np.mean(D, axis=0)\n",
      "ones = np.ones((5,1))\n",
      "mu, ones\n",
      "Z = D - ones*mu\n",
      "Z"
     ],
     "language": "python",
     "metadata": {},
     "outputs": [
      {
       "metadata": {},
       "output_type": "pyout",
       "prompt_number": 3,
       "text": [
        "array([[ 31.2, -11.6, -11.2],\n",
        "       [ -3.8,  30.4,  26.8],\n",
        "       [-20.8, -31.6,  -3.2],\n",
        "       [-21.8,  49.4, -15.2],\n",
        "       [ 15.2, -36.6,   2.8]])"
       ]
      }
     ],
     "prompt_number": 3
    },
    {
     "cell_type": "code",
     "collapsed": false,
     "input": [
      "from sklearn.decomposition import PCA\n",
      "from sklearn import preprocessing"
     ],
     "language": "python",
     "metadata": {},
     "outputs": [],
     "prompt_number": 4
    },
    {
     "cell_type": "markdown",
     "metadata": {},
     "source": [
      "####Find $\\bf A$ in rotated frame"
     ]
    },
    {
     "cell_type": "code",
     "collapsed": false,
     "input": [
      "pca = PCA()\n",
      "A = pca.fit_transform(Z)\n",
      "A"
     ],
     "language": "python",
     "metadata": {},
     "outputs": [
      {
       "metadata": {},
       "output_type": "pyout",
       "prompt_number": 5,
       "text": [
        "array([[-21.51,  24.6 ,  12.87],\n",
        "       [ 30.91,   8.75, -25.  ],\n",
        "       [-23.2 , -30.05,  -0.51],\n",
        "       [ 53.24,  -6.14,  16.58],\n",
        "       [-39.43,   2.84,  -3.94]])"
       ]
      }
     ],
     "prompt_number": 5
    },
    {
     "cell_type": "markdown",
     "metadata": {},
     "source": [
      "####Covariance Matrix\n",
      "$\\Sigma = \\frac{1}{n}{\\bf Z}^T {\\bf Z}$"
     ]
    },
    {
     "cell_type": "code",
     "collapsed": false,
     "input": [
      "Sig = Z.T.dot(Z)/5"
     ],
     "language": "python",
     "metadata": {},
     "outputs": [],
     "prompt_number": 6
    },
    {
     "cell_type": "markdown",
     "metadata": {},
     "source": [
      "####Apply SVD decomposition to $\\Sigma$"
     ]
    },
    {
     "cell_type": "code",
     "collapsed": false,
     "input": [
      "U, Lambda, UT = np.linalg.svd(Sig)"
     ],
     "language": "python",
     "metadata": {},
     "outputs": [],
     "prompt_number": 7
    },
    {
     "cell_type": "markdown",
     "metadata": {},
     "source": [
      "####Singular value matrix: $\\bf \\Lambda$. In this case, the diagonal values are eigenvalues of $\\Sigma$"
     ]
    },
    {
     "cell_type": "code",
     "collapsed": false,
     "input": [
      "Lambda = np.diag(Lambda)\n",
      "Lambda"
     ],
     "language": "python",
     "metadata": {},
     "outputs": [
      {
       "metadata": {},
       "output_type": "pyout",
       "prompt_number": 8,
       "text": [
        "array([[ 1269.05,     0.  ,     0.  ],\n",
        "       [    0.  ,   326.07,     0.  ],\n",
        "       [    0.  ,     0.  ,   216.24]])"
       ]
      }
     ],
     "prompt_number": 8
    },
    {
     "cell_type": "markdown",
     "metadata": {},
     "source": [
      "####Basis matrix"
     ]
    },
    {
     "cell_type": "code",
     "collapsed": false,
     "input": [
      "U"
     ],
     "language": "python",
     "metadata": {},
     "outputs": [
      {
       "metadata": {},
       "output_type": "pyout",
       "prompt_number": 9,
       "text": [
        "array([[-0.33, -0.94, -0.08],\n",
        "       [ 0.94, -0.32, -0.06],\n",
        "       [ 0.04, -0.1 ,  0.99]])"
       ]
      }
     ],
     "prompt_number": 9
    },
    {
     "cell_type": "markdown",
     "metadata": {},
     "source": [
      "####Decomposition of Z"
     ]
    },
    {
     "cell_type": "code",
     "collapsed": false,
     "input": [
      "L, Delta, RT = np.linalg.svd(Z)"
     ],
     "language": "python",
     "metadata": {},
     "outputs": [],
     "prompt_number": 10
    },
    {
     "cell_type": "markdown",
     "metadata": {},
     "source": [
      "####Singular value matrix: $\\bf \\Delta$\n",
      "Note: $\\bf \\Delta$ is not a square matrix."
     ]
    },
    {
     "cell_type": "code",
     "collapsed": false,
     "input": [
      "Delta = np.diag(Delta)\n",
      "Delta"
     ],
     "language": "python",
     "metadata": {},
     "outputs": [
      {
       "metadata": {},
       "output_type": "pyout",
       "prompt_number": 11,
       "text": [
        "array([[ 79.66,   0.  ,   0.  ],\n",
        "       [  0.  ,  40.38,   0.  ],\n",
        "       [  0.  ,   0.  ,  32.88]])"
       ]
      }
     ],
     "prompt_number": 11
    },
    {
     "cell_type": "markdown",
     "metadata": {},
     "source": [
      "####Comparision of $\\Sigma$ and $\\Delta$"
     ]
    },
    {
     "cell_type": "code",
     "collapsed": false,
     "input": [
      "print Delta**2\n",
      "print \" \"\n",
      "print 5*Lambda"
     ],
     "language": "python",
     "metadata": {},
     "outputs": [
      {
       "output_type": "stream",
       "stream": "stdout",
       "text": [
        "[[ 6345.27     0.       0.  ]\n",
        " [    0.    1630.35     0.  ]\n",
        " [    0.       0.    1081.19]]\n",
        " \n",
        "[[ 6345.27     0.       0.  ]\n",
        " [    0.    1630.35     0.  ]\n",
        " [    0.       0.    1081.19]]\n"
       ]
      }
     ],
     "prompt_number": 12
    },
    {
     "cell_type": "markdown",
     "metadata": {},
     "source": [
      "####We can get $\\bf A$ from $\\bf R$ and $\\bf Z$"
     ]
    },
    {
     "cell_type": "code",
     "collapsed": false,
     "input": [
      "A2 = Z.dot(RT.T)\n",
      "A2"
     ],
     "language": "python",
     "metadata": {},
     "outputs": [
      {
       "metadata": {},
       "output_type": "pyout",
       "prompt_number": 13,
       "text": [
        "array([[-21.51,  24.6 ,  12.87],\n",
        "       [ 30.91,   8.75, -25.  ],\n",
        "       [-23.2 , -30.05,  -0.51],\n",
        "       [ 53.24,  -6.14,  16.58],\n",
        "       [-39.43,   2.84,  -3.94]])"
       ]
      }
     ],
     "prompt_number": 13
    },
    {
     "cell_type": "markdown",
     "metadata": {},
     "source": [
      "####Same as $\\bf A$"
     ]
    },
    {
     "cell_type": "code",
     "collapsed": false,
     "input": [
      "A"
     ],
     "language": "python",
     "metadata": {},
     "outputs": [
      {
       "metadata": {},
       "output_type": "pyout",
       "prompt_number": 14,
       "text": [
        "array([[-21.51,  24.6 ,  12.87],\n",
        "       [ 30.91,   8.75, -25.  ],\n",
        "       [-23.2 , -30.05,  -0.51],\n",
        "       [ 53.24,  -6.14,  16.58],\n",
        "       [-39.43,   2.84,  -3.94]])"
       ]
      }
     ],
     "prompt_number": 14
    },
    {
     "cell_type": "markdown",
     "metadata": {},
     "source": [
      "####Also $\\bf R$ and $\\bf U$ are the same"
     ]
    },
    {
     "cell_type": "code",
     "collapsed": false,
     "input": [
      "print RT.T\n",
      "print \" \"\n",
      "print U"
     ],
     "language": "python",
     "metadata": {},
     "outputs": [
      {
       "output_type": "stream",
       "stream": "stdout",
       "text": [
        "[[-0.33  0.94  0.08]\n",
        " [ 0.94  0.32  0.06]\n",
        " [ 0.04  0.1  -0.99]]\n",
        " \n",
        "[[-0.33 -0.94 -0.08]\n",
        " [ 0.94 -0.32 -0.06]\n",
        " [ 0.04 -0.1   0.99]]\n"
       ]
      }
     ],
     "prompt_number": 15
    },
    {
     "cell_type": "code",
     "collapsed": false,
     "input": [],
     "language": "python",
     "metadata": {},
     "outputs": [],
     "prompt_number": 15
    }
   ],
   "metadata": {}
  }
 ]
}