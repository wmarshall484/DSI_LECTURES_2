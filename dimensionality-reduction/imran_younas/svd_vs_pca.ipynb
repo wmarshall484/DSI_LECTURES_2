{
 "cells": [
  {
   "cell_type": "code",
   "execution_count": 1,
   "metadata": {
    "collapsed": false
   },
   "outputs": [],
   "source": [
    "import numpy as np\n",
    "import matplotlib.pyplot as plt\n",
    "\n",
    "%matplotlib inline\n",
    "\n",
    "np.set_printoptions(precision=2)"
   ]
  },
  {
   "cell_type": "markdown",
   "metadata": {},
   "source": [
    "####Data matrix with random entries"
   ]
  },
  {
   "cell_type": "code",
   "execution_count": 2,
   "metadata": {
    "collapsed": false
   },
   "outputs": [
    {
     "data": {
      "text/plain": [
       "array([[69, 25, 59],\n",
       "       [34, 67, 97],\n",
       "       [17,  5, 67],\n",
       "       [16, 86, 55],\n",
       "       [53,  0, 73]])"
      ]
     },
     "execution_count": 2,
     "metadata": {},
     "output_type": "execute_result"
    }
   ],
   "source": [
    "D = np.random.randint(0, 100, (5,3))\n",
    "D"
   ]
  },
  {
   "cell_type": "markdown",
   "metadata": {},
   "source": [
    "####Center the data\n",
    "\n",
    "${\\bf Z} = {\\bf D} - {\\bf 1}.\\mu$"
   ]
  },
  {
   "cell_type": "code",
   "execution_count": 3,
   "metadata": {
    "collapsed": false
   },
   "outputs": [
    {
     "data": {
      "text/plain": [
       "array([[ 31.2, -11.6, -11.2],\n",
       "       [ -3.8,  30.4,  26.8],\n",
       "       [-20.8, -31.6,  -3.2],\n",
       "       [-21.8,  49.4, -15.2],\n",
       "       [ 15.2, -36.6,   2.8]])"
      ]
     },
     "execution_count": 3,
     "metadata": {},
     "output_type": "execute_result"
    }
   ],
   "source": [
    "mu = np.mean(D, axis=0)\n",
    "ones = np.ones((5,1))\n",
    "mu, ones\n",
    "Z = D - ones*mu\n",
    "Z"
   ]
  },
  {
   "cell_type": "code",
   "execution_count": 4,
   "metadata": {
    "collapsed": false
   },
   "outputs": [],
   "source": [
    "from sklearn.decomposition import PCA\n",
    "from sklearn import preprocessing"
   ]
  },
  {
   "cell_type": "markdown",
   "metadata": {},
   "source": [
    "####Find $\\bf A$ in rotated frame"
   ]
  },
  {
   "cell_type": "code",
   "execution_count": 5,
   "metadata": {
    "collapsed": false
   },
   "outputs": [
    {
     "data": {
      "text/plain": [
       "array([[-21.51,  24.6 ,  12.87],\n",
       "       [ 30.91,   8.75, -25.  ],\n",
       "       [-23.2 , -30.05,  -0.51],\n",
       "       [ 53.24,  -6.14,  16.58],\n",
       "       [-39.43,   2.84,  -3.94]])"
      ]
     },
     "execution_count": 5,
     "metadata": {},
     "output_type": "execute_result"
    }
   ],
   "source": [
    "pca = PCA()\n",
    "A = pca.fit_transform(Z)\n",
    "A"
   ]
  },
  {
   "cell_type": "markdown",
   "metadata": {},
   "source": [
    "####Covariance Matrix\n",
    "$\\Sigma = \\frac{1}{n}{\\bf Z}^T {\\bf Z}$"
   ]
  },
  {
   "cell_type": "code",
   "execution_count": 6,
   "metadata": {
    "collapsed": false
   },
   "outputs": [],
   "source": [
    "Sig = Z.T.dot(Z)/5"
   ]
  },
  {
   "cell_type": "markdown",
   "metadata": {},
   "source": [
    "####Apply SVD decomposition to $\\Sigma$"
   ]
  },
  {
   "cell_type": "code",
   "execution_count": 7,
   "metadata": {
    "collapsed": false
   },
   "outputs": [],
   "source": [
    "U, Lambda, UT = np.linalg.svd(Sig)"
   ]
  },
  {
   "cell_type": "markdown",
   "metadata": {},
   "source": [
    "####Singular value matrix: $\\bf \\Lambda$. In this case, the diagonal values are eigenvalues of $\\Sigma$"
   ]
  },
  {
   "cell_type": "code",
   "execution_count": 8,
   "metadata": {
    "collapsed": false
   },
   "outputs": [
    {
     "data": {
      "text/plain": [
       "array([[ 1269.05,     0.  ,     0.  ],\n",
       "       [    0.  ,   326.07,     0.  ],\n",
       "       [    0.  ,     0.  ,   216.24]])"
      ]
     },
     "execution_count": 8,
     "metadata": {},
     "output_type": "execute_result"
    }
   ],
   "source": [
    "Lambda = np.diag(Lambda)\n",
    "Lambda"
   ]
  },
  {
   "cell_type": "markdown",
   "metadata": {},
   "source": [
    "####Basis matrix"
   ]
  },
  {
   "cell_type": "code",
   "execution_count": 9,
   "metadata": {
    "collapsed": false
   },
   "outputs": [
    {
     "data": {
      "text/plain": [
       "array([[-0.33, -0.94, -0.08],\n",
       "       [ 0.94, -0.32, -0.06],\n",
       "       [ 0.04, -0.1 ,  0.99]])"
      ]
     },
     "execution_count": 9,
     "metadata": {},
     "output_type": "execute_result"
    }
   ],
   "source": [
    "U"
   ]
  },
  {
   "cell_type": "markdown",
   "metadata": {},
   "source": [
    "####Decomposition of Z"
   ]
  },
  {
   "cell_type": "code",
   "execution_count": 10,
   "metadata": {
    "collapsed": false
   },
   "outputs": [],
   "source": [
    "L, Delta, RT = np.linalg.svd(Z)"
   ]
  },
  {
   "cell_type": "markdown",
   "metadata": {},
   "source": [
    "####Singular value matrix: $\\bf \\Delta$\n",
    "Note: $\\bf \\Delta$ is not a square matrix."
   ]
  },
  {
   "cell_type": "code",
   "execution_count": 11,
   "metadata": {
    "collapsed": false
   },
   "outputs": [
    {
     "data": {
      "text/plain": [
       "array([[ 79.66,   0.  ,   0.  ],\n",
       "       [  0.  ,  40.38,   0.  ],\n",
       "       [  0.  ,   0.  ,  32.88]])"
      ]
     },
     "execution_count": 11,
     "metadata": {},
     "output_type": "execute_result"
    }
   ],
   "source": [
    "Delta = np.diag(Delta)\n",
    "Delta"
   ]
  },
  {
   "cell_type": "markdown",
   "metadata": {},
   "source": [
    "####Comparision of $\\Sigma$ and $\\Delta$"
   ]
  },
  {
   "cell_type": "code",
   "execution_count": 12,
   "metadata": {
    "collapsed": false
   },
   "outputs": [
    {
     "name": "stdout",
     "output_type": "stream",
     "text": [
      "[[ 6345.27     0.       0.  ]\n",
      " [    0.    1630.35     0.  ]\n",
      " [    0.       0.    1081.19]]\n",
      " \n",
      "[[ 6345.27     0.       0.  ]\n",
      " [    0.    1630.35     0.  ]\n",
      " [    0.       0.    1081.19]]\n"
     ]
    }
   ],
   "source": [
    "print Delta**2\n",
    "print \" \"\n",
    "print 5*Lambda"
   ]
  },
  {
   "cell_type": "markdown",
   "metadata": {},
   "source": [
    "####We can get $\\bf A$ from $\\bf R$ and $\\bf Z$"
   ]
  },
  {
   "cell_type": "code",
   "execution_count": 13,
   "metadata": {
    "collapsed": false
   },
   "outputs": [
    {
     "data": {
      "text/plain": [
       "array([[-21.51,  24.6 ,  12.87],\n",
       "       [ 30.91,   8.75, -25.  ],\n",
       "       [-23.2 , -30.05,  -0.51],\n",
       "       [ 53.24,  -6.14,  16.58],\n",
       "       [-39.43,   2.84,  -3.94]])"
      ]
     },
     "execution_count": 13,
     "metadata": {},
     "output_type": "execute_result"
    }
   ],
   "source": [
    "A2 = Z.dot(RT.T)\n",
    "A2"
   ]
  },
  {
   "cell_type": "markdown",
   "metadata": {},
   "source": [
    "####Same as $\\bf A$"
   ]
  },
  {
   "cell_type": "code",
   "execution_count": 14,
   "metadata": {
    "collapsed": false
   },
   "outputs": [
    {
     "data": {
      "text/plain": [
       "array([[-21.51,  24.6 ,  12.87],\n",
       "       [ 30.91,   8.75, -25.  ],\n",
       "       [-23.2 , -30.05,  -0.51],\n",
       "       [ 53.24,  -6.14,  16.58],\n",
       "       [-39.43,   2.84,  -3.94]])"
      ]
     },
     "execution_count": 14,
     "metadata": {},
     "output_type": "execute_result"
    }
   ],
   "source": [
    "A"
   ]
  },
  {
   "cell_type": "markdown",
   "metadata": {},
   "source": [
    "####Also $\\bf R$ and $\\bf U$ are the same"
   ]
  },
  {
   "cell_type": "code",
   "execution_count": 15,
   "metadata": {
    "collapsed": false
   },
   "outputs": [
    {
     "name": "stdout",
     "output_type": "stream",
     "text": [
      "[[-0.33  0.94  0.08]\n",
      " [ 0.94  0.32  0.06]\n",
      " [ 0.04  0.1  -0.99]]\n",
      " \n",
      "[[-0.33 -0.94 -0.08]\n",
      " [ 0.94 -0.32 -0.06]\n",
      " [ 0.04 -0.1   0.99]]\n"
     ]
    }
   ],
   "source": [
    "print RT.T\n",
    "print \" \"\n",
    "print U"
   ]
  },
  {
   "cell_type": "code",
   "execution_count": 15,
   "metadata": {
    "collapsed": false
   },
   "outputs": [],
   "source": []
  }
 ],
 "metadata": {
  "kernelspec": {
   "display_name": "Python 2",
   "language": "python",
   "name": "python2"
  },
  "language_info": {
   "codemirror_mode": {
    "name": "ipython",
    "version": 2
   },
   "file_extension": ".py",
   "mimetype": "text/x-python",
   "name": "python",
   "nbconvert_exporter": "python",
   "pygments_lexer": "ipython2",
   "version": "2.7.11"
  }
 },
 "nbformat": 4,
 "nbformat_minor": 0
}
