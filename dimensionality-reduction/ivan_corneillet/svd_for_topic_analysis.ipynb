{
 "cells": [
  {
   "cell_type": "markdown",
   "metadata": {},
   "source": [
    "# SVD for Topic Analysis"
   ]
  },
  {
   "cell_type": "markdown",
   "metadata": {},
   "source": [
    "We can use SVD to determine what we call ***latent features***.\n",
    "\n",
    "Let's look at users ratings of different movies. Users rate movies they watched from 1-5. A value of 0 means the user hasn't watched the movie.\n",
    "\n",
    "| | Matrix | Alien | Serenity | Casablanca | Amelie |\n",
    "|---|---|---|---|---|\n",
    "| Alice | 1 | 2 | 2 | 0 | 0 |\n",
    "| Bob | 3 | 5 | 5 | 0 | 0 |\n",
    "| Cindy | 4 | 4 | 4 | 0 | 0 |\n",
    "| Dan | 5 | 5 | 5 | 0 | 0 |\n",
    "| Emily | 0 | 2 | 0 | 4 | 4 |\n",
    "| Frank | 0 | 0 | 0 | 5 | 5 |\n",
    "| Greg | 0 | 1 | 0 | 2 | 2 |\n",
    "\n",
    "Note that the first three movies (Matrix, Alien, Serenity) are Sci-fi movies and the last two (Casablanca, Amelie) are Romance. We will be able to mathematically pull out these topics!\n",
    "\n",
    "Let's do the computation with Python.\n"
   ]
  },
  {
   "cell_type": "code",
   "execution_count": 1,
   "metadata": {
    "collapsed": false
   },
   "outputs": [],
   "source": [
    "import numpy as np\n",
    "import pandas as pd"
   ]
  },
  {
   "cell_type": "markdown",
   "metadata": {},
   "source": [
    "## Utility matrix `X` with shape `(n, p)`"
   ]
  },
  {
   "cell_type": "code",
   "execution_count": 2,
   "metadata": {
    "collapsed": true
   },
   "outputs": [],
   "source": [
    "X = np.array([[1, 2, 2, 0, 0],\n",
    "              [3, 5, 5, 0, 0],\n",
    "              [4, 4, 4, 0, 0],\n",
    "              [5, 5, 5, 0, 0],\n",
    "              [0, 2, 0, 4, 4],\n",
    "              [0, 0, 0, 5, 5],\n",
    "              [0, 1, 0, 2, 2]])"
   ]
  },
  {
   "cell_type": "markdown",
   "metadata": {},
   "source": [
    "## Rank of `X` "
   ]
  },
  {
   "cell_type": "code",
   "execution_count": 3,
   "metadata": {
    "collapsed": false
   },
   "outputs": [
    {
     "data": {
      "text/plain": [
       "4"
      ]
     },
     "execution_count": 3,
     "metadata": {},
     "output_type": "execute_result"
    }
   ],
   "source": [
    "k = np.linalg.matrix_rank(X)\n",
    "\n",
    "k"
   ]
  },
  {
   "cell_type": "markdown",
   "metadata": {},
   "source": [
    "## SVD (Singular Value Decomposition)"
   ]
  },
  {
   "cell_type": "code",
   "execution_count": 4,
   "metadata": {
    "collapsed": true
   },
   "outputs": [],
   "source": [
    "U, S, V_t = np.linalg.svd(X)"
   ]
  },
  {
   "cell_type": "markdown",
   "metadata": {},
   "source": [
    "By default, U, S and V_t have shapes `(n, k')`, `(k', k')` and `(k', p)`, where `p' = min(n, p)`.  Let's resize them to `(n, k)`, `(k, k)`, and `(k', p)`"
   ]
  },
  {
   "cell_type": "code",
   "execution_count": 5,
   "metadata": {
    "collapsed": false
   },
   "outputs": [],
   "source": [
    "# (for pretty print)\n",
    "users = ['Alice','Bob','Cindy','Dan','Emily','Frank','Greg']\n",
    "U = pd.DataFrame(U, index = users)\n",
    "\n",
    "S = np.diag(S)\n",
    "\n",
    "movies = ['Matrix','Alien','Serenity','Casablanca','Amelie']\n",
    "V_t = pd.DataFrame(V_t, columns = movies)\n",
    "\n",
    "U = U.iloc[:, :k]\n",
    "S = S[:k, :k]\n",
    "V_t = V_t.iloc[:k, :]"
   ]
  },
  {
   "cell_type": "code",
   "execution_count": 6,
   "metadata": {
    "collapsed": false
   },
   "outputs": [
    {
     "name": "stdout",
     "output_type": "stream",
     "text": [
      "X = \n",
      "[[1 2 2 0 0]\n",
      " [3 5 5 0 0]\n",
      " [4 4 4 0 0]\n",
      " [5 5 5 0 0]\n",
      " [0 2 0 4 4]\n",
      " [0 0 0 5 5]\n",
      " [0 1 0 2 2]]\n",
      "(7L, 5L)\n",
      "\n",
      "U = \n",
      "         0    1    2    3\n",
      "Alice -0.2  0.0  0.3 -0.3\n",
      "Bob   -0.5  0.1  0.5 -0.5\n",
      "Cindy -0.5  0.1 -0.3  0.2\n",
      "Dan   -0.6  0.1 -0.4  0.2\n",
      "Emily -0.1 -0.6  0.4  0.5\n",
      "Frank  0.0 -0.7 -0.4 -0.5\n",
      "Greg  -0.1 -0.3  0.2  0.3\n",
      "(7, 4)\n",
      "\n",
      "S = \n",
      "[[ 13.8   0.    0.    0. ]\n",
      " [  0.    9.5   0.    0. ]\n",
      " [  0.    0.    1.7   0. ]\n",
      " [  0.    0.    0.    1. ]]\n",
      "(4L, 4L)\n",
      "\n",
      "V_t = \n",
      "   Matrix  Alien  Serenity  Casablanca  Amelie\n",
      "0    -0.5   -0.6      -0.6        -0.1    -0.1\n",
      "1     0.1    0.0       0.1        -0.7    -0.7\n",
      "2    -0.8    0.6       0.0        -0.1    -0.1\n",
      "3     0.4    0.5      -0.8        -0.1    -0.1\n",
      "(4, 5)\n"
     ]
    }
   ],
   "source": [
    "def pretty_print_UVD():\n",
    "    global U, S, V_t\n",
    "\n",
    "    print 'U = '\n",
    "    print np.around(U, 1)\n",
    "    print U.shape\n",
    "    print\n",
    "    print 'S = '\n",
    "    print np.around(S, 1)\n",
    "    print S.shape\n",
    "    print\n",
    "    print 'V_t = '\n",
    "    print np.around(V_t, 1)\n",
    "    print V_t.shape\n",
    "    \n",
    "print 'X = '\n",
    "print np.around(X, 1)\n",
    "print X.shape\n",
    "print\n",
    "pretty_print_UVD()"
   ]
  },
  {
   "cell_type": "markdown",
   "metadata": {},
   "source": [
    "## Let's reconstruct `X`"
   ]
  },
  {
   "cell_type": "code",
   "execution_count": 7,
   "metadata": {
    "collapsed": false
   },
   "outputs": [
    {
     "data": {
      "text/plain": [
       "array([[ 1.,  2.,  2.,  0.,  0.],\n",
       "       [ 3.,  5.,  5.,  0.,  0.],\n",
       "       [ 4.,  4.,  4.,  0.,  0.],\n",
       "       [ 5.,  5.,  5.,  0.,  0.],\n",
       "       [ 0.,  2.,  0.,  4.,  4.],\n",
       "       [ 0.,  0.,  0.,  5.,  5.],\n",
       "       [ 0.,  1.,  0.,  2.,  2.]])"
      ]
     },
     "execution_count": 7,
     "metadata": {},
     "output_type": "execute_result"
    }
   ],
   "source": [
    "X_p = np.dot(np.dot(U, S), V_t)\n",
    "\n",
    "np.around(X_p, 1)"
   ]
  },
  {
   "cell_type": "markdown",
   "metadata": {},
   "source": [
    "## Let's consider the first two topics"
   ]
  },
  {
   "cell_type": "markdown",
   "metadata": {},
   "source": [
    "We can see that the two topics capture most of the power:\n",
    "\n",
    "`U` is the ***user-to-topic*** matrix and `V` is the ***movie-to-topic*** matrix.\n",
    "\n",
    "The third and fourth singular values are relatively small, explaining little of the total variance, so we can exclude them with only a small loss of information. Let's try doing that and reconstruct our matrix!"
   ]
  },
  {
   "cell_type": "code",
   "execution_count": 8,
   "metadata": {
    "collapsed": false
   },
   "outputs": [
    {
     "name": "stdout",
     "output_type": "stream",
     "text": [
      "U = \n",
      "         0    1\n",
      "Alice -0.2  0.0\n",
      "Bob   -0.5  0.1\n",
      "Cindy -0.5  0.1\n",
      "Dan   -0.6  0.1\n",
      "Emily -0.1 -0.6\n",
      "Frank  0.0 -0.7\n",
      "Greg  -0.1 -0.3\n",
      "(7, 2)\n",
      "\n",
      "S = \n",
      "[[ 13.8   0. ]\n",
      " [  0.    9.5]]\n",
      "(2L, 2L)\n",
      "\n",
      "V_t = \n",
      "   Matrix  Alien  Serenity  Casablanca  Amelie\n",
      "0    -0.5   -0.6      -0.6        -0.1    -0.1\n",
      "1     0.1    0.0       0.1        -0.7    -0.7\n",
      "(2, 5)\n"
     ]
    }
   ],
   "source": [
    "k = 2\n",
    "\n",
    "U = U.iloc[:, :k]\n",
    "S = S[:k, :k]\n",
    "V_t = V_t.iloc[:k, :]\n",
    "\n",
    "pretty_print_UVD()"
   ]
  },
  {
   "cell_type": "markdown",
   "metadata": {},
   "source": [
    "## Let's reconstruct X from these two topics"
   ]
  },
  {
   "cell_type": "code",
   "execution_count": 9,
   "metadata": {
    "collapsed": false
   },
   "outputs": [
    {
     "data": {
      "text/plain": [
       "array([[ 1.5,  1.8,  1.8,  0. ,  0. ],\n",
       "       [ 3.9,  4.7,  4.6,  0. ,  0. ],\n",
       "       [ 3.5,  4.2,  4.2,  0. ,  0. ],\n",
       "       [ 4.4,  5.3,  5.2,  0. ,  0. ],\n",
       "       [ 0.3,  1.3,  0.4,  4.1,  4.1],\n",
       "       [-0.4,  0.7, -0.4,  4.9,  4.9],\n",
       "       [ 0.2,  0.7,  0.2,  2. ,  2. ]])"
      ]
     },
     "execution_count": 9,
     "metadata": {},
     "output_type": "execute_result"
    }
   ],
   "source": [
    "X_p = np.dot(np.dot(U, S), V_t)\n",
    "\n",
    "np.around(X_p, 1)"
   ]
  },
  {
   "cell_type": "markdown",
   "metadata": {},
   "source": [
    "## Let's now examine the two latent topics"
   ]
  },
  {
   "cell_type": "markdown",
   "metadata": {},
   "source": [
    "1. Topic #1\n",
    "  * First singular value (13.8)\n",
    "  * First row of the `V` matrix\n",
    "    * Note that the first three movies have large values here; these movies are science fiction movies; the latent topic is Science Fiction\n",
    "  * First column of the `U` matrix\n",
    "    * Note that users 2-4 have relatively large values here; they like science fiction movies\n",
    "\n",
    "2. Topic #2\n",
    "  * Second singular value (9.5)\n",
    "  * Second row of the `V` matrix\n",
    "    * Note that the last two movies have large values here; these movies are romance movies; the latent topic is Romance\n",
    "  * Second column of the `U` matrix\n",
    "    * Note that users 5-6 have large values here; they like romance movies"
   ]
  }
 ],
 "metadata": {
  "kernelspec": {
   "display_name": "Python 2",
   "language": "python",
   "name": "python2"
  },
  "language_info": {
   "codemirror_mode": {
    "name": "ipython",
    "version": 2
   },
   "file_extension": ".py",
   "mimetype": "text/x-python",
   "name": "python",
   "nbconvert_exporter": "python",
   "pygments_lexer": "ipython2",
   "version": "2.7.11"
  }
 },
 "nbformat": 4,
 "nbformat_minor": 0
}
