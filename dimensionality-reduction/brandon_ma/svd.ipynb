{
 "cells": [
  {
   "cell_type": "code",
   "execution_count": 1,
   "metadata": {},
   "outputs": [],
   "source": [
    "import pandas as pd\n",
    "import numpy as np\n",
    "import seaborn as sns\n",
    "from matplotlib import pyplot as plt"
   ]
  },
  {
   "cell_type": "markdown",
   "metadata": {
    "slideshow": {
     "slide_type": "slide"
    }
   },
   "source": [
    "# Singular Value Decomposition - Afternoon Lecture"
   ]
  },
  {
   "cell_type": "markdown",
   "metadata": {},
   "source": [
    "A gentle introduction to topic modeling via SVD.\n",
    "\n",
    "**Note to the lecturer: consider doing all of this on the whiteboard**"
   ]
  },
  {
   "cell_type": "markdown",
   "metadata": {},
   "source": [
    "## Quick Refresher: Matrix Decomposition"
   ]
  },
  {
   "cell_type": "markdown",
   "metadata": {},
   "source": [
    "In many cases it's possible to factor a matrix in terms of two matrices:\n",
    "\n",
    "$$ A = BC $$\n",
    "\n",
    "Given $A$ And $B$, the C = $B^{-1} A$"
   ]
  },
  {
   "cell_type": "code",
   "execution_count": 2,
   "metadata": {},
   "outputs": [
    {
     "name": "stdout",
     "output_type": "stream",
     "text": [
      "[[ 4.  5.]\n",
      " [-5. -6.]]\n"
     ]
    }
   ],
   "source": [
    "A = [[1,2],\n",
    "     [3,4]]\n",
    "B = [[4,3],\n",
    "     [2,1]]\n",
    "C = np.linalg.inv(B) @ A\n",
    "print( C )"
   ]
  },
  {
   "cell_type": "markdown",
   "metadata": {},
   "source": [
    "So, an arbitrary example of a matrix decomposed arbitrarily:\n",
    "\n",
    "$\n",
    "\\begin{bmatrix}\n",
    "1 & 2  \t\\\\\n",
    "3 & 4\n",
    "\\end{bmatrix} =\n",
    "\\begin{bmatrix}\n",
    "4 & 3  \t\\\\\n",
    "2 & 1\n",
    "\\end{bmatrix}\n",
    "\\begin{bmatrix}\n",
    "4 & 5  \t\\\\\n",
    "-5 & 6\n",
    "\\end{bmatrix}\n",
    "$\n",
    "\n",
    "okay, great; onward"
   ]
  },
  {
   "cell_type": "markdown",
   "metadata": {},
   "source": [
    "## PCA as Matrix Decomposition\n",
    "\n",
    "Given a set of samples in feature-space $X$ and a matrix $E$ where each _column_ is a principle component of $X$, then the features rotated into PCA space $X'$ can be expressed:\n",
    "\n",
    "$$ X' = XE $$\n",
    "\n",
    "multiply both sides by $E^{-1}$ and simplify\n",
    "\n",
    "$$ X = X'E^{-1} $$\n",
    "\n",
    "Note that the principle component matrix forms an orthogonal space, in which case the above simplifies to:\n",
    "\n",
    "$$ X = X'E^{T} $$\n",
    "\n",
    "Voila, we've used PCA to decompose our matrix into a matrix of _latent features_, and row-wise matrix of principle components. "
   ]
  },
  {
   "cell_type": "markdown",
   "metadata": {},
   "source": [
    "## Matrix Factorization applied: book reviews\n",
    "\n",
    "Now we have some confidence that matrix factorization is possible in at least some circumstances, let's use it to express a dataset in terms of factors..."
   ]
  },
  {
   "cell_type": "code",
   "execution_count": 27,
   "metadata": {},
   "outputs": [
    {
     "data": {
      "text/html": [
       "<div>\n",
       "<style scoped>\n",
       "    .dataframe tbody tr th:only-of-type {\n",
       "        vertical-align: middle;\n",
       "    }\n",
       "\n",
       "    .dataframe tbody tr th {\n",
       "        vertical-align: top;\n",
       "    }\n",
       "\n",
       "    .dataframe thead th {\n",
       "        text-align: right;\n",
       "    }\n",
       "</style>\n",
       "<table border=\"1\" class=\"dataframe\">\n",
       "  <thead>\n",
       "    <tr style=\"text-align: right;\">\n",
       "      <th></th>\n",
       "      <th>space</th>\n",
       "      <th>rockets</th>\n",
       "      <th>love</th>\n",
       "    </tr>\n",
       "  </thead>\n",
       "  <tbody>\n",
       "    <tr>\n",
       "      <th>elliott</th>\n",
       "      <td>1</td>\n",
       "      <td>1</td>\n",
       "      <td>0</td>\n",
       "    </tr>\n",
       "    <tr>\n",
       "      <th>moses</th>\n",
       "      <td>0</td>\n",
       "      <td>0</td>\n",
       "      <td>1</td>\n",
       "    </tr>\n",
       "    <tr>\n",
       "      <th>brandon</th>\n",
       "      <td>0</td>\n",
       "      <td>0</td>\n",
       "      <td>1</td>\n",
       "    </tr>\n",
       "    <tr>\n",
       "      <th>mark</th>\n",
       "      <td>1</td>\n",
       "      <td>1</td>\n",
       "      <td>0</td>\n",
       "    </tr>\n",
       "  </tbody>\n",
       "</table>\n",
       "</div>"
      ],
      "text/plain": [
       "         space  rockets  love\n",
       "elliott      1        1     0\n",
       "moses        0        0     1\n",
       "brandon      0        0     1\n",
       "mark         1        1     0"
      ]
     },
     "execution_count": 27,
     "metadata": {},
     "output_type": "execute_result"
    }
   ],
   "source": [
    "A = [[1, 1, 0],\n",
    "     [0, 0, 1],\n",
    "     [0, 0, 1],\n",
    "     [1, 1, 0]]\n",
    "A = np.array(A)\n",
    "\n",
    "people = [\"elliott\", \"moses\", \"brandon\", \"mark\"]\n",
    "books = [\"space\", \"rockets\", \"love\"]\n",
    "\n",
    "pd.DataFrame(A, index=people, columns=books)"
   ]
  },
  {
   "cell_type": "markdown",
   "metadata": {},
   "source": [
    "### Decompose by hand\n",
    "\n",
    "We notice that each person is interested in a particular genre:"
   ]
  },
  {
   "cell_type": "code",
   "execution_count": 28,
   "metadata": {},
   "outputs": [
    {
     "data": {
      "text/html": [
       "<div>\n",
       "<style scoped>\n",
       "    .dataframe tbody tr th:only-of-type {\n",
       "        vertical-align: middle;\n",
       "    }\n",
       "\n",
       "    .dataframe tbody tr th {\n",
       "        vertical-align: top;\n",
       "    }\n",
       "\n",
       "    .dataframe thead th {\n",
       "        text-align: right;\n",
       "    }\n",
       "</style>\n",
       "<table border=\"1\" class=\"dataframe\">\n",
       "  <thead>\n",
       "    <tr style=\"text-align: right;\">\n",
       "      <th></th>\n",
       "      <th>scifi</th>\n",
       "      <th>romance</th>\n",
       "    </tr>\n",
       "  </thead>\n",
       "  <tbody>\n",
       "    <tr>\n",
       "      <th>elliott</th>\n",
       "      <td>1</td>\n",
       "      <td>0</td>\n",
       "    </tr>\n",
       "    <tr>\n",
       "      <th>moses</th>\n",
       "      <td>0</td>\n",
       "      <td>1</td>\n",
       "    </tr>\n",
       "    <tr>\n",
       "      <th>brandon</th>\n",
       "      <td>0</td>\n",
       "      <td>1</td>\n",
       "    </tr>\n",
       "    <tr>\n",
       "      <th>mark</th>\n",
       "      <td>1</td>\n",
       "      <td>0</td>\n",
       "    </tr>\n",
       "  </tbody>\n",
       "</table>\n",
       "</div>"
      ],
      "text/plain": [
       "         scifi  romance\n",
       "elliott      1        0\n",
       "moses        0        1\n",
       "brandon      0        1\n",
       "mark         1        0"
      ]
     },
     "execution_count": 28,
     "metadata": {},
     "output_type": "execute_result"
    }
   ],
   "source": [
    "genres = [\"scifi\",\"romance\"]\n",
    "\n",
    "U = [[1,0],\n",
    "     [0,1],\n",
    "     [0,1],\n",
    "     [1,0]]\n",
    "U = np.array(U)\n",
    "pd.DataFrame(U, index=people, columns=genres)"
   ]
  },
  {
   "cell_type": "markdown",
   "metadata": {},
   "source": [
    "We notice that each book is a member of a single genre:"
   ]
  },
  {
   "cell_type": "code",
   "execution_count": 31,
   "metadata": {},
   "outputs": [
    {
     "data": {
      "text/html": [
       "<div>\n",
       "<style scoped>\n",
       "    .dataframe tbody tr th:only-of-type {\n",
       "        vertical-align: middle;\n",
       "    }\n",
       "\n",
       "    .dataframe tbody tr th {\n",
       "        vertical-align: top;\n",
       "    }\n",
       "\n",
       "    .dataframe thead th {\n",
       "        text-align: right;\n",
       "    }\n",
       "</style>\n",
       "<table border=\"1\" class=\"dataframe\">\n",
       "  <thead>\n",
       "    <tr style=\"text-align: right;\">\n",
       "      <th></th>\n",
       "      <th>scifi</th>\n",
       "      <th>romance</th>\n",
       "    </tr>\n",
       "  </thead>\n",
       "  <tbody>\n",
       "    <tr>\n",
       "      <th>space</th>\n",
       "      <td>1</td>\n",
       "      <td>0</td>\n",
       "    </tr>\n",
       "    <tr>\n",
       "      <th>rockets</th>\n",
       "      <td>1</td>\n",
       "      <td>0</td>\n",
       "    </tr>\n",
       "    <tr>\n",
       "      <th>love</th>\n",
       "      <td>0</td>\n",
       "      <td>1</td>\n",
       "    </tr>\n",
       "  </tbody>\n",
       "</table>\n",
       "</div>"
      ],
      "text/plain": [
       "         scifi  romance\n",
       "space        1        0\n",
       "rockets      1        0\n",
       "love         0        1"
      ]
     },
     "execution_count": 31,
     "metadata": {},
     "output_type": "execute_result"
    }
   ],
   "source": [
    "V = [[1,0],\n",
    "     [1,0],\n",
    "     [0,1]]\n",
    "V = np.array(V)\n",
    "pd.DataFrame(V, index=books, columns=genres)"
   ]
  },
  {
   "cell_type": "markdown",
   "metadata": {},
   "source": [
    "If we multiply these matrices by one another:\n",
    "    \n",
    "$$ UV^T $$"
   ]
  },
  {
   "cell_type": "code",
   "execution_count": 32,
   "metadata": {},
   "outputs": [
    {
     "data": {
      "text/plain": [
       "array([[1, 1, 0],\n",
       "       [0, 0, 1],\n",
       "       [0, 0, 1],\n",
       "       [1, 1, 0]])"
      ]
     },
     "execution_count": 32,
     "metadata": {},
     "output_type": "execute_result"
    }
   ],
   "source": [
    "U @ V.T"
   ]
  },
  {
   "cell_type": "markdown",
   "metadata": {},
   "source": [
    "We find that it's the same as the original ratings matrix. In other words, the two latent feature matrices\n",
    "\n",
    "* Genre for each person\n",
    "* Genre for each book\n",
    "\n",
    "are a decomposition of the original ratings matrix."
   ]
  },
  {
   "cell_type": "markdown",
   "metadata": {},
   "source": [
    "Finally, we introduce a diagonal matrix that describes the importance of each feature along the diagonal. In the case of this example, it's simply an identity matrix.\n",
    "\n",
    "The full decomposition of the ratings matrix $A$ (people vs. books) is expressed in terms of $U$ (people vs. genre), $V$ (book vs. genre) and $S$ (genre importance) is:\n",
    "\n",
    "$$ A = USV^T $$"
   ]
  },
  {
   "cell_type": "code",
   "execution_count": 37,
   "metadata": {},
   "outputs": [
    {
     "data": {
      "text/plain": [
       "array([[1, 1, 0],\n",
       "       [0, 0, 1],\n",
       "       [0, 0, 1],\n",
       "       [1, 1, 0]])"
      ]
     },
     "execution_count": 37,
     "metadata": {},
     "output_type": "execute_result"
    }
   ],
   "source": [
    "S = [[1,0],\n",
    "     [0,1]]\n",
    "S = np.array(S)\n",
    "\n",
    "U @ S @ V.T"
   ]
  },
  {
   "cell_type": "markdown",
   "metadata": {},
   "source": [
    "### Surprise, we sort of did Singular Value Decomposition\n",
    "\n",
    "Technically, SVD has a few additional properties. In any case, we used matrix decomposition to model topics.\n",
    "\n",
    "The matrices in the above decomposition have the same form and meaning as the results of singular value decomposition. Let's define SVD more technically:"
   ]
  },
  {
   "cell_type": "markdown",
   "metadata": {},
   "source": [
    "## Singular Value Decomposition\n",
    "\n",
    "**Any** $n \\times p$ matrix $X$ can be factored as follows\n",
    "\n",
    "$$ X = U S V^T $$\n",
    "\n",
    "(sometimes written with different symbols $X = U \\Sigma V^*$)\n",
    "\n",
    "Where\n",
    "\n",
    "  - $U$ is a $n \\times n$ orthogonal matrix.\n",
    "  - $S$ is a $n \\times p$ matrix with non-zero entries on the diagonal *only*.\n",
    "  - $V$ is a $p \\times p$ orthogonal matrix.\n",
    "\n",
    "### SVD for topic modeling\n",
    "\n",
    "When applied to topic modeling, the dimensions and notations of each matrix vary slightly:\n",
    "\n",
    "Any $m \\times n$ matrix $A$ can be _approximated_ by $k$ latent features.\n",
    "\n",
    "$$ X = U S V^T $$\n",
    "\n",
    "Where\n",
    "\n",
    "  - $U$ is a $m \\times k$ orthogonal matrix.\n",
    "    - $U$ has a row for every \"user\", and a column for each latent feature (e.g. \"topic\", \"genre\").\n",
    "    - i.e., each row is a user's genre preferences\n",
    "  - $S$ is a $k \\times k$ matrix with non-zero entries on the diagonal *only*.\n",
    "    - $S$ is the importance of each latent feature.\n",
    "  - $V$ is a $n \\times k$ orthogonal matrix.\n",
    "    - $V$ has a row for every \"item\", and a column for each latent feature.\n",
    "    - i.e., each row is an item's genre profile\n",
    "  \n",
    " "
   ]
  },
  {
   "cell_type": "markdown",
   "metadata": {},
   "source": [
    "## SVD in practice"
   ]
  },
  {
   "cell_type": "code",
   "execution_count": 54,
   "metadata": {},
   "outputs": [
    {
     "data": {
      "text/html": [
       "<div>\n",
       "<style scoped>\n",
       "    .dataframe tbody tr th:only-of-type {\n",
       "        vertical-align: middle;\n",
       "    }\n",
       "\n",
       "    .dataframe tbody tr th {\n",
       "        vertical-align: top;\n",
       "    }\n",
       "\n",
       "    .dataframe thead th {\n",
       "        text-align: right;\n",
       "    }\n",
       "</style>\n",
       "<table border=\"1\" class=\"dataframe\">\n",
       "  <thead>\n",
       "    <tr style=\"text-align: right;\">\n",
       "      <th></th>\n",
       "      <th>TheMatrix</th>\n",
       "      <th>Alien</th>\n",
       "      <th>StarWars</th>\n",
       "      <th>Casablanca</th>\n",
       "      <th>Titanic</th>\n",
       "    </tr>\n",
       "  </thead>\n",
       "  <tbody>\n",
       "    <tr>\n",
       "      <th>Alice</th>\n",
       "      <td>1</td>\n",
       "      <td>2</td>\n",
       "      <td>2</td>\n",
       "      <td>0</td>\n",
       "      <td>0</td>\n",
       "    </tr>\n",
       "    <tr>\n",
       "      <th>Juan</th>\n",
       "      <td>3</td>\n",
       "      <td>5</td>\n",
       "      <td>5</td>\n",
       "      <td>0</td>\n",
       "      <td>0</td>\n",
       "    </tr>\n",
       "    <tr>\n",
       "      <th>Riya</th>\n",
       "      <td>4</td>\n",
       "      <td>4</td>\n",
       "      <td>4</td>\n",
       "      <td>0</td>\n",
       "      <td>0</td>\n",
       "    </tr>\n",
       "    <tr>\n",
       "      <th>Dan</th>\n",
       "      <td>5</td>\n",
       "      <td>5</td>\n",
       "      <td>5</td>\n",
       "      <td>0</td>\n",
       "      <td>0</td>\n",
       "    </tr>\n",
       "    <tr>\n",
       "      <th>Emily</th>\n",
       "      <td>0</td>\n",
       "      <td>2</td>\n",
       "      <td>0</td>\n",
       "      <td>4</td>\n",
       "      <td>4</td>\n",
       "    </tr>\n",
       "    <tr>\n",
       "      <th>Angel</th>\n",
       "      <td>0</td>\n",
       "      <td>0</td>\n",
       "      <td>0</td>\n",
       "      <td>5</td>\n",
       "      <td>5</td>\n",
       "    </tr>\n",
       "    <tr>\n",
       "      <th>Omar</th>\n",
       "      <td>0</td>\n",
       "      <td>1</td>\n",
       "      <td>0</td>\n",
       "      <td>2</td>\n",
       "      <td>2</td>\n",
       "    </tr>\n",
       "  </tbody>\n",
       "</table>\n",
       "</div>"
      ],
      "text/plain": [
       "       TheMatrix  Alien  StarWars  Casablanca  Titanic\n",
       "Alice          1      2         2           0        0\n",
       "Juan           3      5         5           0        0\n",
       "Riya           4      4         4           0        0\n",
       "Dan            5      5         5           0        0\n",
       "Emily          0      2         0           4        4\n",
       "Angel          0      0         0           5        5\n",
       "Omar           0      1         0           2        2"
      ]
     },
     "execution_count": 54,
     "metadata": {},
     "output_type": "execute_result"
    }
   ],
   "source": [
    "rating_matrix = np.array([\n",
    "              [1, 2, 2, 0, 0],\n",
    "              [3, 5, 5, 0, 0],\n",
    "              [4, 4, 4, 0, 0],\n",
    "              [5, 5, 5, 0, 0],\n",
    "              [0, 2, 0, 4, 4],\n",
    "              [0, 0, 0, 5, 5],\n",
    "              [0, 1, 0, 2, 2]])\n",
    "\n",
    "movies = ['TheMatrix', 'Alien', 'StarWars', 'Casablanca', 'Titanic']\n",
    "users = ['Alice', 'Juan', 'Riya', 'Dan', 'Emily', 'Angel', 'Omar']\n",
    "ratings_df = pd.DataFrame(rating_matrix, index=users, columns=movies)\n",
    "ratings_df"
   ]
  },
  {
   "cell_type": "markdown",
   "metadata": {},
   "source": [
    "By inspection: There are two genres, **scifi** and **adventure-romance**. Most users prefer scifi, but Emily, Angel, and Omar prefer adventure-romance. Our analysis should reflect this."
   ]
  },
  {
   "cell_type": "markdown",
   "metadata": {},
   "source": [
    "### The code is the simple part"
   ]
  },
  {
   "cell_type": "code",
   "execution_count": 58,
   "metadata": {},
   "outputs": [],
   "source": [
    "U, S, VT = np.linalg.svd( rating_matrix )"
   ]
  },
  {
   "cell_type": "markdown",
   "metadata": {},
   "source": [
    "### Inspecting $U$"
   ]
  },
  {
   "cell_type": "code",
   "execution_count": 105,
   "metadata": {},
   "outputs": [
    {
     "data": {
      "image/png": "[encoded data removed]",
      "text/plain": [
       "<Figure size 504x504 with 1 Axes>"
      ]
     },
     "metadata": {},
     "output_type": "display_data"
    }
   ],
   "source": [
    "fig, ax = plt.subplots(figsize=(7,7))\n",
    "ax.set_title(\"$U$\")\n",
    "sns.heatmap( U.round(2), square=True, annot=True, cbar=False, xticklabels=False, yticklabels=users, ax=ax )\n",
    "plt.show()"
   ]
  },
  {
   "cell_type": "markdown",
   "metadata": {},
   "source": [
    "The first two columns represent the first two latent features (that is, genres). The first latent feature seems to correspond to scifi preference, and the second with adventure-romance preference."
   ]
  },
  {
   "cell_type": "markdown",
   "metadata": {},
   "source": [
    "### Inspecting $V$"
   ]
  },
  {
   "cell_type": "code",
   "execution_count": 83,
   "metadata": {},
   "outputs": [
    {
     "data": {
      "image/png": "[encoded data removed]",
      "text/plain": [
       "<Figure size 432x432 with 1 Axes>"
      ]
     },
     "metadata": {},
     "output_type": "display_data"
    }
   ],
   "source": [
    "fig, ax = plt.subplots(figsize=(6,6))\n",
    "ax.set_title(\"$V$\")\n",
    "sns.heatmap( VT.T.round(2), square=True, annot=True, cbar=False, xticklabels=False, yticklabels=movies, ax=ax )\n",
    "plt.show()"
   ]
  },
  {
   "cell_type": "markdown",
   "metadata": {},
   "source": [
    "The first two columns, to which we've assigned meanings after looking at $U$, show high scifi scores for all movies except Casablanca and Titanic, which have high **adventure-romance** scores."
   ]
  },
  {
   "cell_type": "markdown",
   "metadata": {},
   "source": [
    "### Inspecting $\\Sigma$"
   ]
  },
  {
   "cell_type": "code",
   "execution_count": 95,
   "metadata": {},
   "outputs": [
    {
     "data": {
      "image/png": "[encoded data removed]",
      "text/plain": [
       "<Figure size 432x288 with 1 Axes>"
      ]
     },
     "metadata": {},
     "output_type": "display_data"
    }
   ],
   "source": [
    "sns.barplot( list(range(len(S))), S )\n",
    "plt.title(\"$\\Sigma$\")\n",
    "plt.show()"
   ]
  },
  {
   "cell_type": "markdown",
   "metadata": {},
   "source": [
    "The diagonals of S indicate that latent feature 2 and 3 are non-negligible.\n",
    "\n",
    "It's tempting to assign meaning to them, but for such a small dataset and relatively small importance values, they're probably just noise."
   ]
  },
  {
   "cell_type": "markdown",
   "metadata": {},
   "source": [
    "### Inspecting $U \\Sigma$"
   ]
  },
  {
   "cell_type": "markdown",
   "metadata": {},
   "source": [
    "It may be edifying to look at the product $U \\Sigma$. This combination of each user's latent feature weights and the feature importances shows each user's response to a movie with _equal amounts of all latent features_."
   ]
  },
  {
   "cell_type": "code",
   "execution_count": 107,
   "metadata": {},
   "outputs": [
    {
     "data": {
      "image/png": "[encoded data removed]",
      "text/plain": [
       "<Figure size 504x504 with 1 Axes>"
      ]
     },
     "metadata": {},
     "output_type": "display_data"
    }
   ],
   "source": [
    "fig, ax = plt.subplots(figsize=(7,7))\n",
    "ax.set_title(\"$U$\")\n",
    "sns.heatmap( U.dot(np.eye(7,5)*S).round(2), square=True, annot=True, cbar=False, xticklabels=False, yticklabels=users, ax=ax )\n",
    "plt.show()"
   ]
  },
  {
   "cell_type": "markdown",
   "metadata": {},
   "source": [
    "In other words, this predicts how people would respond to **The Fifth Element**, a **scifi-adventure-romance**. Dan would **love** the scifi elements. Angel would **really like** the adventure-romance elements. Omar's kind of meh on the whole thing."
   ]
  },
  {
   "cell_type": "markdown",
   "metadata": {},
   "source": [
    "### Reducing dimensions"
   ]
  },
  {
   "cell_type": "markdown",
   "metadata": {},
   "source": [
    "If we express each person's preferences and each movie's genre in terms of only those two latent features, how faithfully does it explain the ratings data?"
   ]
  },
  {
   "cell_type": "code",
   "execution_count": 102,
   "metadata": {},
   "outputs": [
    {
     "data": {
      "text/html": [
       "<div>\n",
       "<style scoped>\n",
       "    .dataframe tbody tr th:only-of-type {\n",
       "        vertical-align: middle;\n",
       "    }\n",
       "\n",
       "    .dataframe tbody tr th {\n",
       "        vertical-align: top;\n",
       "    }\n",
       "\n",
       "    .dataframe thead th {\n",
       "        text-align: right;\n",
       "    }\n",
       "</style>\n",
       "<table border=\"1\" class=\"dataframe\">\n",
       "  <thead>\n",
       "    <tr style=\"text-align: right;\">\n",
       "      <th></th>\n",
       "      <th>TheMatrix</th>\n",
       "      <th>Alien</th>\n",
       "      <th>StarWars</th>\n",
       "      <th>Casablanca</th>\n",
       "      <th>Titanic</th>\n",
       "    </tr>\n",
       "  </thead>\n",
       "  <tbody>\n",
       "    <tr>\n",
       "      <th>Alice</th>\n",
       "      <td>1.50</td>\n",
       "      <td>1.81</td>\n",
       "      <td>1.78</td>\n",
       "      <td>0.02</td>\n",
       "      <td>0.02</td>\n",
       "    </tr>\n",
       "    <tr>\n",
       "      <th>Juan</th>\n",
       "      <td>3.87</td>\n",
       "      <td>4.67</td>\n",
       "      <td>4.60</td>\n",
       "      <td>0.04</td>\n",
       "      <td>0.04</td>\n",
       "    </tr>\n",
       "    <tr>\n",
       "      <th>Riya</th>\n",
       "      <td>3.51</td>\n",
       "      <td>4.23</td>\n",
       "      <td>4.18</td>\n",
       "      <td>-0.03</td>\n",
       "      <td>-0.03</td>\n",
       "    </tr>\n",
       "    <tr>\n",
       "      <th>Dan</th>\n",
       "      <td>4.39</td>\n",
       "      <td>5.29</td>\n",
       "      <td>5.22</td>\n",
       "      <td>-0.03</td>\n",
       "      <td>-0.03</td>\n",
       "    </tr>\n",
       "    <tr>\n",
       "      <th>Emily</th>\n",
       "      <td>0.33</td>\n",
       "      <td>1.33</td>\n",
       "      <td>0.40</td>\n",
       "      <td>4.08</td>\n",
       "      <td>4.08</td>\n",
       "    </tr>\n",
       "    <tr>\n",
       "      <th>Angel</th>\n",
       "      <td>-0.36</td>\n",
       "      <td>0.70</td>\n",
       "      <td>-0.41</td>\n",
       "      <td>4.92</td>\n",
       "      <td>4.92</td>\n",
       "    </tr>\n",
       "    <tr>\n",
       "      <th>Omar</th>\n",
       "      <td>0.16</td>\n",
       "      <td>0.67</td>\n",
       "      <td>0.20</td>\n",
       "      <td>2.04</td>\n",
       "      <td>2.04</td>\n",
       "    </tr>\n",
       "  </tbody>\n",
       "</table>\n",
       "</div>"
      ],
      "text/plain": [
       "       TheMatrix  Alien  StarWars  Casablanca  Titanic\n",
       "Alice       1.50   1.81      1.78        0.02     0.02\n",
       "Juan        3.87   4.67      4.60        0.04     0.04\n",
       "Riya        3.51   4.23      4.18       -0.03    -0.03\n",
       "Dan         4.39   5.29      5.22       -0.03    -0.03\n",
       "Emily       0.33   1.33      0.40        4.08     4.08\n",
       "Angel      -0.36   0.70     -0.41        4.92     4.92\n",
       "Omar        0.16   0.67      0.20        2.04     2.04"
      ]
     },
     "execution_count": 102,
     "metadata": {},
     "output_type": "execute_result"
    }
   ],
   "source": [
    "ratings_reconstructed = (U[:,0:2].dot( np.diag( S[0:2] ) ).dot( VT[0:2] )).round(2)\n",
    "\n",
    "movies = ['TheMatrix', 'Alien', 'StarWars', 'Casablanca', 'Titanic']\n",
    "users = ['Alice', 'Juan', 'Riya', 'Dan', 'Emily', 'Angel', 'Omar']\n",
    "ratings_reconst_df = pd.DataFrame(ratings_reconstructed, index=users, columns=movies)\n",
    "ratings_reconst_df"
   ]
  },
  {
   "cell_type": "markdown",
   "metadata": {
    "slideshow": {
     "slide_type": "slide"
    }
   },
   "source": [
    "## PCA, SVD, and performance\n",
    "\n",
    "### How we just derived PCA\n",
    "\n",
    "We found the set of eigenvectors $\\{\\vec{e_i}\\}$ of the covariance matrix $M = \\frac{1}{n}X^T X$\n",
    "\n",
    "These satisfy the equation $M \\vec{e_i} = \\lambda_i \\vec{e_i}$, where $\\lambda_i$ is the variance along the direction defined by $\\vec{e_i}$\n",
    "\n",
    "Concatenating all these eigenvectors into a matrix $E$ gives us the matrix representing a rotation in feature space.\n",
    "\n",
    "$X$ in our new coordinates is $X' = XE^T$\n",
    "\n",
    "Our covariance matrix in these new coordinates is \n",
    "\n",
    "$M' = \\frac{1}{n}X'^T X' = \\frac{1}{n}(XE^T)^T(XE^T) = \\frac{1}{n}EX^TXE^T = EME^T$ \n",
    "\n",
    "$M' = \n",
    "\\begin{bmatrix}\n",
    "\\lambda_1 \t& 0 \t & \\cdots \t  & 0 \t\\\\\n",
    "0 \t& \\lambda_2 \t & \\cdots \t  & 0 \t\\\\\n",
    "\\vdots \t& \\vdots \t & \\ddots & 0 \t\\\\\n",
    "0 \t& 0 & 0 \t  & \\lambda_p\t\n",
    "\\end{bmatrix}\n",
    "$\n",
    "\n",
    "\n"
   ]
  },
  {
   "cell_type": "markdown",
   "metadata": {},
   "source": [
    "## Why are we peeking under the hood? Performance!\n",
    "\n",
    "Suppose our data set $X$ contains grayscale image data:\n",
    "\n",
    "  - $500$ images.\n",
    "  - Each image is $200 \\times 200$ pixels.  So, $40,000$ total pixels.\n",
    "  \n",
    "Therefore, $X$ is a $500 \\times 40,000$ matrix.  Many, many more columns than rows.\n",
    "\n",
    "**Note:** This is commonly called the $p \\gg n$ situation.\n",
    "\n",
    "Now, we want the eigenstuff of the matrix $X^T X$.\n",
    "\n",
    "This is a $40,000 \\times 40,000$ matrix, so it has $1,600,000,000 = 1.6 \\times 10^9$ entries.\n",
    "\n",
    "One floating point number is:\n",
    "  - $64$ bits (on a modern computer)\n",
    "  - $8$ bytes (each byte is $8$ bits).\n",
    "  \n",
    "So, $X^T X$ takes\n",
    "\n",
    "$$ 8 \\times 1.6 \\times 10^9 = 12.8 \\times 10^9 $$\n",
    "\n",
    "bytes of data to store.  This is $12.8$ gigabytes.  **A huge amount of data**.\n",
    "\n",
    "The SVD is a bit of linear algebra that gives us $E$ and $M'$ **without having to compute the $X^T X$ matrix, it operating completely on $X$ itself**.  Much more efficient."
   ]
  },
  {
   "cell_type": "markdown",
   "metadata": {
    "slideshow": {
     "slide_type": "slide"
    }
   },
   "source": [
    "### SVD related to PCA"
   ]
  },
  {
   "cell_type": "markdown",
   "metadata": {
    "slideshow": {
     "slide_type": "slide"
    }
   },
   "source": [
    "Suppose that we factor $X$ into its singular value decomposition\n",
    "\n",
    "$$ X = U S V^T $$\n",
    "\n",
    "We can plug this into $X^T X$ and derive a relationship between PCA and the SVD factorization.\n",
    "\n",
    "$$ X^T X = (U S V^T)^T (U S V^T) = V S^T U^T U S V^T $$\n",
    "\n",
    "Since $U$ is orthonormal, the inner $U^T U$ is the identity matrix:\n",
    "\n",
    "$$ X^T X = V S^T S V^T $$"
   ]
  },
  {
   "cell_type": "markdown",
   "metadata": {
    "slideshow": {
     "slide_type": "slide"
    }
   },
   "source": [
    "Comparing the two expressions for $X^t X$\n",
    "\n",
    "#### PCA\n",
    "\n",
    "$$ X^T X = E^T M' E $$\n",
    "\n",
    "#### SVD\n",
    "\n",
    "$$ X^T X = V S^T S V^T $$\n",
    "\n",
    "#### Relationship between PCA and SVD\n",
    "\n",
    "$$ E = V^T $$\n",
    "$$ M' = S^T S $$\n",
    "\n",
    "So the **eigenvectors** from PCA are the **columns** of the matrix V.\n",
    "\n",
    "And the **eigenvalues** from PCA are the **squares of the singular values**.\n",
    "\n",
    "\n",
    "## Under the hood, every implementation of PCA uses the SVD to compute the eigenvectors and eigenvalues of the covariance matrix"
   ]
  }
 ],
 "metadata": {
  "kernelspec": {
   "display_name": "Python 3",
   "language": "python",
   "name": "python3"
  },
  "language_info": {
   "codemirror_mode": {
    "name": "ipython",
    "version": 3
   },
   "file_extension": ".py",
   "mimetype": "text/x-python",
   "name": "python",
   "nbconvert_exporter": "python",
   "pygments_lexer": "ipython3",
   "version": "3.6.5"
  }
 },
 "nbformat": 4,
 "nbformat_minor": 2
}
