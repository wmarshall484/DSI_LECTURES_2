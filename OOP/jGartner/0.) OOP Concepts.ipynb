{
 "cells": [
  {
   "cell_type": "markdown",
   "metadata": {},
   "source": [
    "<h1>Basic Object Oriented Programing</h1>\n",
    "<p>We'll start defining some basic mathmatical objects for our class.  This demonstrates encapsulation - attributes and methods working together to </p>"
   ]
  },
  {
   "cell_type": "code",
   "execution_count": 1,
   "metadata": {},
   "outputs": [],
   "source": [
    "class Point:\n",
    "    def __init__(self, x, y):\n",
    "        self._x = x\n",
    "        self._y = y\n",
    "    \n",
    "    def __str__(self):\n",
    "        return \"(x=\" + self._x.__str__() + \", y=\" + self._y.__str__() + \")\"\n",
    "    \n",
    "    def get(self):\n",
    "        return (self._x, self_y)\n",
    "    \n",
    "    def get_x(self):\n",
    "        return self._x\n",
    "    \n",
    "    def get_y(self):\n",
    "        return self._y\n",
    "    \n",
    "    def transpose(self, dx=0, dy=0):\n",
    "        self._x = self._x + dx\n",
    "        self._y = self._y + dy\n",
    "        "
   ]
  },
  {
   "cell_type": "markdown",
   "metadata": {},
   "source": [
    "<h2>Inheritance</h2>\n",
    "<p>Classes can be based on other classes</p>"
   ]
  },
  {
   "cell_type": "code",
   "execution_count": 2,
   "metadata": {},
   "outputs": [],
   "source": [
    "class Origin(Point):\n",
    "    def __init__(self):\n",
    "        self._x = 0\n",
    "        self._y = 0\n",
    "        \n",
    "    def __str__(self):\n",
    "        return \"Origin->\" + super(Origin, self).__str__()\n",
    "        \n",
    "    def transpose(self, dx=0, dy=0):\n",
    "        raise ValueError(\"Cannot transpose the origin\")"
   ]
  },
  {
   "cell_type": "markdown",
   "metadata": {},
   "source": [
    "<h2>Polymorphism</h2>\n",
    "<p>We can use derived classes just like the parent classes</p>"
   ]
  },
  {
   "cell_type": "code",
   "execution_count": 3,
   "metadata": {},
   "outputs": [
    {
     "name": "stdout",
     "output_type": "stream",
     "text": [
      "(x=4, y=2)\n",
      "Origin->(x=0, y=0)\n",
      "(x=2, y=1)\n"
     ]
    }
   ],
   "source": [
    "p1 = Point(4,2)\n",
    "p2 = Origin()\n",
    "p3 = Point(2,1)\n",
    "l_points = [p1, p2, p3]\n",
    "\n",
    "for P in l_points:\n",
    "    print(P)"
   ]
  },
  {
   "cell_type": "markdown",
   "metadata": {},
   "source": [
    "<h2>Good Design</h2>\n",
    "<p>Classes should be easy to use correctly, and difficult to use incorrectly</p>"
   ]
  },
  {
   "cell_type": "code",
   "execution_count": 4,
   "metadata": {},
   "outputs": [
    {
     "ename": "ValueError",
     "evalue": "Cannot transpose the origin",
     "output_type": "error",
     "traceback": [
      "\u001b[0;31m---------------------------------------------------------------------------\u001b[0m",
      "\u001b[0;31mValueError\u001b[0m                                Traceback (most recent call last)",
      "\u001b[0;32m<ipython-input-4-0b9a4aae78bf>\u001b[0m in \u001b[0;36m<module>\u001b[0;34m()\u001b[0m\n\u001b[0;32m----> 1\u001b[0;31m \u001b[0mp2\u001b[0m\u001b[0;34m.\u001b[0m\u001b[0mtranspose\u001b[0m\u001b[0;34m(\u001b[0m\u001b[0mdx\u001b[0m\u001b[0;34m=\u001b[0m\u001b[0;36m1\u001b[0m\u001b[0;34m)\u001b[0m\u001b[0;34m\u001b[0m\u001b[0m\n\u001b[0m",
      "\u001b[0;32m<ipython-input-2-e5be8320631b>\u001b[0m in \u001b[0;36mtranspose\u001b[0;34m(self, dx, dy)\u001b[0m\n\u001b[1;32m      8\u001b[0m \u001b[0;34m\u001b[0m\u001b[0m\n\u001b[1;32m      9\u001b[0m     \u001b[0;32mdef\u001b[0m \u001b[0mtranspose\u001b[0m\u001b[0;34m(\u001b[0m\u001b[0mself\u001b[0m\u001b[0;34m,\u001b[0m \u001b[0mdx\u001b[0m\u001b[0;34m=\u001b[0m\u001b[0;36m0\u001b[0m\u001b[0;34m,\u001b[0m \u001b[0mdy\u001b[0m\u001b[0;34m=\u001b[0m\u001b[0;36m0\u001b[0m\u001b[0;34m)\u001b[0m\u001b[0;34m:\u001b[0m\u001b[0;34m\u001b[0m\u001b[0m\n\u001b[0;32m---> 10\u001b[0;31m         \u001b[0;32mraise\u001b[0m \u001b[0mValueError\u001b[0m\u001b[0;34m(\u001b[0m\u001b[0;34m\"Cannot transpose the origin\"\u001b[0m\u001b[0;34m)\u001b[0m\u001b[0;34m\u001b[0m\u001b[0m\n\u001b[0m",
      "\u001b[0;31mValueError\u001b[0m: Cannot transpose the origin"
     ]
    }
   ],
   "source": [
    "p2.transpose(dx=1)"
   ]
  },
  {
   "cell_type": "markdown",
   "metadata": {},
   "source": [
    "<h2>Let's try together</h2>\n",
    "<p>Build a line class.  The line should have the following properties:<br/>\n",
    "* Initialized by passing two points<br/>\n",
    "* Have a string function<br/>\n",
    "* Have methods to return the slope and it's two points<br/>\n",
    "* Have a method to determine if a point is on the line (call it on_line)\n",
    "<p>"
   ]
  },
  {
   "cell_type": "code",
   "execution_count": 5,
   "metadata": {
    "collapsed": true
   },
   "outputs": [],
   "source": [
    "class Line:\n",
    "    pass"
   ]
  },
  {
   "cell_type": "code",
   "execution_count": 6,
   "metadata": {},
   "outputs": [
    {
     "ename": "TypeError",
     "evalue": "object() takes no parameters",
     "output_type": "error",
     "traceback": [
      "\u001b[0;31m---------------------------------------------------------------------------\u001b[0m",
      "\u001b[0;31mTypeError\u001b[0m                                 Traceback (most recent call last)",
      "\u001b[0;32m<ipython-input-6-57ce2e828d2c>\u001b[0m in \u001b[0;36m<module>\u001b[0;34m()\u001b[0m\n\u001b[0;32m----> 1\u001b[0;31m \u001b[0ml1\u001b[0m \u001b[0;34m=\u001b[0m \u001b[0mLine\u001b[0m\u001b[0;34m(\u001b[0m\u001b[0mp1\u001b[0m\u001b[0;34m,\u001b[0m \u001b[0mp2\u001b[0m\u001b[0;34m)\u001b[0m\u001b[0;34m\u001b[0m\u001b[0m\n\u001b[0m\u001b[1;32m      2\u001b[0m \u001b[0;32massert\u001b[0m\u001b[0;34m(\u001b[0m\u001b[0ml1\u001b[0m\u001b[0;34m.\u001b[0m\u001b[0mpointOnLine\u001b[0m\u001b[0;34m(\u001b[0m\u001b[0mp3\u001b[0m\u001b[0;34m)\u001b[0m\u001b[0;34m==\u001b[0m\u001b[0;32mTrue\u001b[0m\u001b[0;34m)\u001b[0m\u001b[0;34m\u001b[0m\u001b[0m\n",
      "\u001b[0;31mTypeError\u001b[0m: object() takes no parameters"
     ]
    }
   ],
   "source": [
    "l1 = Line(p1, p2)\n",
    "assert(l1.pointOnLine(p3)==True)"
   ]
  },
  {
   "cell_type": "markdown",
   "metadata": {},
   "source": [
    "<h2>STOP HERE</h2>\n",
    "<p>We'll be going back to slides for a tick</p><br/><br/>\n",
    "<h2>Advanced OOP</h2>\n",
    "<p>Let's start by looking at *args and *kwargs, as well as class specific decorators.</p>"
   ]
  },
  {
   "cell_type": "code",
   "execution_count": 7,
   "metadata": {
    "collapsed": true
   },
   "outputs": [],
   "source": [
    "class PointCollection:\n",
    "    #*args lets you pass in a list of objects instead of \n",
    "    def __init__(self, *args):\n",
    "        self.points_ = []\n",
    "        for p in args:\n",
    "            self.points_.append(p)\n",
    "        \n",
    "    def leftmost(self):\n",
    "        return sorted(self.points_, key=lambda x:x.get_x())[0]\n",
    "    \n",
    "    def rightmost(self):\n",
    "        return sorted(self.points_, key=lambda x:x.get_y())[0]\n",
    "    \n",
    "    def size_of(self):\n",
    "        return len(self.points_)\n",
    "    \n",
    "    def get_points(self):\n",
    "        return self.points_\n",
    "    \n",
    "    def colinear(self):\n",
    "        line = Line(self.leftmost(), self.rightmost())\n",
    "        for p in self.points_:\n",
    "            if line.on_line(p) is False:\n",
    "                return False\n",
    "        return True"
   ]
  },
  {
   "cell_type": "code",
   "execution_count": 8,
   "metadata": {},
   "outputs": [],
   "source": [
    "pc = PointCollection(p1, p2, p3)\n",
    "#or by defrefrencing a list\n",
    "pc = PointCollection(*l_points)"
   ]
  },
  {
   "cell_type": "code",
   "execution_count": 9,
   "metadata": {},
   "outputs": [
    {
     "name": "stdout",
     "output_type": "stream",
     "text": [
      "Origin->(x=0, y=0)\n"
     ]
    }
   ],
   "source": [
    "print(pc.leftmost())"
   ]
  },
  {
   "cell_type": "code",
   "execution_count": 17,
   "metadata": {},
   "outputs": [],
   "source": [
    "class Polygon(PointCollection):\n",
    "    origin = Origin()\n",
    "    def __init__(self, **kwargs):\n",
    "        #Type of polygon\n",
    "        if 'ptype' in kwargs:\n",
    "            self.ptype_ = kwargs['ptype']\n",
    "        else:\n",
    "            self.ptype_ = 'polygon'\n",
    "            \n",
    "        #Get polygon points\n",
    "        if 'points' in kwargs:\n",
    "            if type(kwargs[\"points\"]) != type([]):\n",
    "                raise AttributeError(\"'points' object must be a list of points\")\n",
    "            #Here, we derefference the points list\n",
    "            super(Polygon, self).__init__(self, *kwargs[\"points\"])\n",
    "        else:\n",
    "            raise AttributeError(\"Must pass a list of points\")\n",
    "            \n",
    "        #See if polygon can be made from points\n",
    "        if self.size_of() < 3:\n",
    "            raise AttributeError(\"Polygon must have at least 3 points\")\n",
    "        #if self.pc_.colinear() is True:\n",
    "        #    raise AttributeError(\"Polygon points are all colinear\")\n",
    "    \n",
    "    @classmethod\n",
    "    def print_origin(cls):\n",
    "        print(cls.origin)\n",
    "    \n",
    "    @staticmethod\n",
    "    def describe():\n",
    "        print('''\n",
    "        Polygons are collections of points, created either from list of points using the keyword \"points\", or a \n",
    "        PointCollection object called \"point_collection\".  It has built in check to determine if it's a potentially\n",
    "        valid colleciton.\n",
    "        ''')"
   ]
  },
  {
   "cell_type": "code",
   "execution_count": 22,
   "metadata": {},
   "outputs": [],
   "source": [
    "inp = {\"ptype\":'line', \"points\": pc.get_points()}\n",
    "poly = Polygon(**inp)"
   ]
  },
  {
   "cell_type": "code",
   "execution_count": 23,
   "metadata": {},
   "outputs": [
    {
     "name": "stdout",
     "output_type": "stream",
     "text": [
      "\n",
      "        Polygons are collections of points, created either from list of points using the keyword \"points\", or a \n",
      "        PointCollection object called \"point_collection\".  It has built in check to determine if it's a potentially\n",
      "        valid colleciton.\n",
      "        \n"
     ]
    }
   ],
   "source": [
    "poly.describe()"
   ]
  },
  {
   "cell_type": "code",
   "execution_count": 21,
   "metadata": {},
   "outputs": [
    {
     "name": "stdout",
     "output_type": "stream",
     "text": [
      "Origin->(x=0, y=0)\n"
     ]
    }
   ],
   "source": [
    "poly.print_origin()"
   ]
  },
  {
   "cell_type": "code",
   "execution_count": null,
   "metadata": {
    "collapsed": true
   },
   "outputs": [],
   "source": []
  }
 ],
 "metadata": {
  "kernelspec": {
   "display_name": "Python 3",
   "language": "python",
   "name": "python3"
  },
  "language_info": {
   "codemirror_mode": {
    "name": "ipython",
    "version": 3
   },
   "file_extension": ".py",
   "mimetype": "text/x-python",
   "name": "python",
   "nbconvert_exporter": "python",
   "pygments_lexer": "ipython3",
   "version": "3.6.1"
  }
 },
 "nbformat": 4,
 "nbformat_minor": 2
}
