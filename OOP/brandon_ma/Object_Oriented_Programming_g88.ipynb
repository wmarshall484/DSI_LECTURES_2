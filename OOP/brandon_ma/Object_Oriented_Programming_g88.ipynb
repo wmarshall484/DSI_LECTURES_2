{
  "nbformat": 4,
  "nbformat_minor": 0,
  "metadata": {
    "colab": {
      "name": "Object Oriented Programming - g88.ipynb",
      "version": "0.3.2",
      "provenance": [],
      "collapsed_sections": []
    },
    "kernelspec": {
      "name": "python3",
      "display_name": "Python 3"
    }
  },
  "cells": [
    {
      "metadata": {
        "id": "0J96ln3BGCqb",
        "colab_type": "text"
      },
      "cell_type": "markdown",
      "source": [
        "# Object Oriented Programming\n",
        "\n",
        "By now as a result of either Week 0 or your lack of need for Week 0, you should be comfortable with the following code:"
      ]
    },
    {
      "metadata": {
        "id": "5QycjGa5GJHt",
        "colab_type": "code",
        "colab": {
          "base_uri": "https://localhost:8080/",
          "height": 34
        },
        "outputId": "2febe5b9-ae6c-443d-c351-2e966d66b925"
      },
      "cell_type": "code",
      "source": [
        "class Greeter:\n",
        "  def __init__(self, name):\n",
        "    self.name = name\n",
        "    \n",
        "  def greet(self):\n",
        "    print( \"Hello, \" + self.name )\n",
        "    \n",
        "greeter = Greeter(\"Brandon\")\n",
        "greeter.greet()"
      ],
      "execution_count": 16,
      "outputs": [
        {
          "output_type": "stream",
          "text": [
            "Hello, Brandon\n"
          ],
          "name": "stdout"
        }
      ]
    },
    {
      "metadata": {
        "id": "n7LF2ooTGbni",
        "colab_type": "text"
      },
      "cell_type": "markdown",
      "source": [
        "Let's take it apart line-by-line.\n",
        "\n",
        "### line 1\n",
        "\n",
        "```python\n",
        "class Greeter:\n",
        "```\n",
        " \n",
        "Specify that we will be creating a class, and the name of the class will be ```Greeter```.  \n",
        "\n",
        "My ancient tradition, class names start with a capital letter. This is enforced on punishment of shame.\n",
        "\n",
        "This is all this is necessary to define a class."
      ]
    },
    {
      "metadata": {
        "id": "1MOcETrkGt0q",
        "colab_type": "code",
        "colab": {}
      },
      "cell_type": "code",
      "source": [
        "class Greeter: pass"
      ],
      "execution_count": 0,
      "outputs": []
    },
    {
      "metadata": {
        "id": "PsXBCy39Hiwr",
        "colab_type": "text"
      },
      "cell_type": "markdown",
      "source": [
        "At this point, you have created an object, and assigned a variable ```Greeter``` to refer to that object."
      ]
    },
    {
      "metadata": {
        "id": "phQfnUXGHxLK",
        "colab_type": "code",
        "colab": {
          "base_uri": "https://localhost:8080/",
          "height": 34
        },
        "outputId": "781c8623-1795-49c1-dd72-0fdf300ad2f7"
      },
      "cell_type": "code",
      "source": [
        "# it's in the namespace\n",
        "Greeter"
      ],
      "execution_count": 18,
      "outputs": [
        {
          "output_type": "execute_result",
          "data": {
            "text/plain": [
              "__main__.Greeter"
            ]
          },
          "metadata": {
            "tags": []
          },
          "execution_count": 18
        }
      ]
    },
    {
      "metadata": {
        "id": "GHWeH9EmHyPl",
        "colab_type": "code",
        "colab": {
          "base_uri": "https://localhost:8080/",
          "height": 34
        },
        "outputId": "c99776ce-bea0-4b13-f025-5d21642f5051"
      },
      "cell_type": "code",
      "source": [
        "# it has a type\n",
        "type( Greeter )"
      ],
      "execution_count": 19,
      "outputs": [
        {
          "output_type": "execute_result",
          "data": {
            "text/plain": [
              "type"
            ]
          },
          "metadata": {
            "tags": []
          },
          "execution_count": 19
        }
      ]
    },
    {
      "metadata": {
        "id": "dnpsXTyjH3Im",
        "colab_type": "text"
      },
      "cell_type": "markdown",
      "source": [
        "I'll say it now and you'll hear me say it again: **in Python, everything is an object**. All Python code is an elaborate scheme for creating and manipulating objects.\n",
        "\n",
        "### line 2\n",
        "\n",
        "```python\n",
        "  def __init__(self, name):\n",
        "```\n",
        "\n",
        "All code indented under a class definition becomes an attribute of this class. In this case, we've defined a function which has become an attribute of the class.\n",
        "\n",
        "You can create **any** object in the scope of a class. A simple example:"
      ]
    },
    {
      "metadata": {
        "id": "PkbSXgx2IEjq",
        "colab_type": "code",
        "colab": {}
      },
      "cell_type": "code",
      "source": [
        "class Foobar:\n",
        "  bizbaz = 42"
      ],
      "execution_count": 0,
      "outputs": []
    },
    {
      "metadata": {
        "id": "6bafGt9nI1sv",
        "colab_type": "code",
        "colab": {
          "base_uri": "https://localhost:8080/",
          "height": 34
        },
        "outputId": "a87245ca-a091-4df6-c238-dadafbb3a62a"
      },
      "cell_type": "code",
      "source": [
        "Foobar.bizbaz"
      ],
      "execution_count": 21,
      "outputs": [
        {
          "output_type": "execute_result",
          "data": {
            "text/plain": [
              "42"
            ]
          },
          "metadata": {
            "tags": []
          },
          "execution_count": 21
        }
      ]
    },
    {
      "metadata": {
        "id": "SZMqKqdoI3lN",
        "colab_type": "text"
      },
      "cell_type": "markdown",
      "source": [
        "Here I've created an object, ```42```, and assigned it to a variable, ```bizbaz```, which is an attribute of the class object, thus we access it using dot notation, ```Foobar.bizbaz```."
      ]
    },
    {
      "metadata": {
        "id": "oC9g0bFiJwqZ",
        "colab_type": "text"
      },
      "cell_type": "markdown",
      "source": [
        "Because **everything is an Object**, you may deduce that a function is an object:"
      ]
    },
    {
      "metadata": {
        "id": "xNQeAZ9EKJXY",
        "colab_type": "code",
        "colab": {}
      },
      "cell_type": "code",
      "source": [
        "def yell():\n",
        "  print( \"AAH\" )"
      ],
      "execution_count": 0,
      "outputs": []
    },
    {
      "metadata": {
        "id": "dCaAKH0rKL0n",
        "colab_type": "code",
        "colab": {
          "base_uri": "https://localhost:8080/",
          "height": 34
        },
        "outputId": "4f9b0ebb-9b27-49b7-b8cc-b5bb060a928f"
      },
      "cell_type": "code",
      "source": [
        "# it's in the namespace\n",
        "yell"
      ],
      "execution_count": 24,
      "outputs": [
        {
          "output_type": "execute_result",
          "data": {
            "text/plain": [
              "<function __main__.yell>"
            ]
          },
          "metadata": {
            "tags": []
          },
          "execution_count": 24
        }
      ]
    },
    {
      "metadata": {
        "id": "a8DvhttvKMP_",
        "colab_type": "code",
        "colab": {
          "base_uri": "https://localhost:8080/",
          "height": 34
        },
        "outputId": "2336ccc4-a25b-4433-c169-3582fd07698c"
      },
      "cell_type": "code",
      "source": [
        "# it has a type\n",
        "type( yell )"
      ],
      "execution_count": 25,
      "outputs": [
        {
          "output_type": "execute_result",
          "data": {
            "text/plain": [
              "function"
            ]
          },
          "metadata": {
            "tags": []
          },
          "execution_count": 25
        }
      ]
    },
    {
      "metadata": {
        "id": "7DkE1cEiKPJG",
        "colab_type": "text"
      },
      "cell_type": "markdown",
      "source": [
        "And because objects may be members of classes, a function may be a member of a class:"
      ]
    },
    {
      "metadata": {
        "id": "QAi9QwnBKWBz",
        "colab_type": "code",
        "colab": {}
      },
      "cell_type": "code",
      "source": [
        "class Yeller:\n",
        "  def yell():\n",
        "    print( \"AAH\" )"
      ],
      "execution_count": 0,
      "outputs": []
    },
    {
      "metadata": {
        "id": "MoQyirkZKhC2",
        "colab_type": "code",
        "colab": {
          "base_uri": "https://localhost:8080/",
          "height": 34
        },
        "outputId": "2aeb87ed-accb-4353-a8f2-ece2d649280f"
      },
      "cell_type": "code",
      "source": [
        "Yeller.yell"
      ],
      "execution_count": 29,
      "outputs": [
        {
          "output_type": "execute_result",
          "data": {
            "text/plain": [
              "<function __main__.Yeller.yell>"
            ]
          },
          "metadata": {
            "tags": []
          },
          "execution_count": 29
        }
      ]
    },
    {
      "metadata": {
        "id": "fU6J_v3CKiw4",
        "colab_type": "code",
        "colab": {
          "base_uri": "https://localhost:8080/",
          "height": 34
        },
        "outputId": "0dac8e6d-07a5-42a3-c84a-43c2616b2a27"
      },
      "cell_type": "code",
      "source": [
        "Yeller.yell()"
      ],
      "execution_count": 30,
      "outputs": [
        {
          "output_type": "stream",
          "text": [
            "AAH\n"
          ],
          "name": "stdout"
        }
      ]
    },
    {
      "metadata": {
        "id": "xdxxPU4uKmQz",
        "colab_type": "text"
      },
      "cell_type": "markdown",
      "source": [
        "### jumping ahead to line 8 for a moment\n",
        "\n",
        "We're comfortable instantiating an object:"
      ]
    },
    {
      "metadata": {
        "id": "WqqyaiBrK7jA",
        "colab_type": "code",
        "colab": {}
      },
      "cell_type": "code",
      "source": [
        "yeller = Yeller()"
      ],
      "execution_count": 0,
      "outputs": []
    },
    {
      "metadata": {
        "id": "iRkSv0haLGTc",
        "colab_type": "text"
      },
      "cell_type": "markdown",
      "source": [
        "This creates a **new object**. Capital-Y ```Yeller``` is an object, and its offspring lower-case ```yeller``` is a different object."
      ]
    },
    {
      "metadata": {
        "id": "a-EZkQf1LKRG",
        "colab_type": "code",
        "colab": {
          "base_uri": "https://localhost:8080/",
          "height": 51
        },
        "outputId": "9f6763e6-d4c9-4fdb-9a14-4d5dfba57aeb"
      },
      "cell_type": "code",
      "source": [
        "print( \"id of Yeller %s\"%id(Yeller) )\n",
        "print( \"id of yeller %s\"%id(yeller) )"
      ],
      "execution_count": 34,
      "outputs": [
        {
          "output_type": "stream",
          "text": [
            "id of Yeller 77567640\n",
            "id of yeller 140445465426072\n"
          ],
          "name": "stdout"
        }
      ]
    },
    {
      "metadata": {
        "id": "mknJGriVLcqf",
        "colab_type": "text"
      },
      "cell_type": "markdown",
      "source": [
        "And yet somehow, they **both** have an attribute called ```yell```."
      ]
    },
    {
      "metadata": {
        "id": "8Nkc8-5hLj4K",
        "colab_type": "code",
        "colab": {
          "base_uri": "https://localhost:8080/",
          "height": 34
        },
        "outputId": "7a67abb3-a192-4112-e40c-15b43a7a6c36"
      },
      "cell_type": "code",
      "source": [
        "Yeller.yell"
      ],
      "execution_count": 35,
      "outputs": [
        {
          "output_type": "execute_result",
          "data": {
            "text/plain": [
              "<function __main__.Yeller.yell>"
            ]
          },
          "metadata": {
            "tags": []
          },
          "execution_count": 35
        }
      ]
    },
    {
      "metadata": {
        "id": "dy11TIwkLkne",
        "colab_type": "code",
        "colab": {
          "base_uri": "https://localhost:8080/",
          "height": 34
        },
        "outputId": "e29a7c30-55ab-4af9-bafd-8ce7b10ef22b"
      },
      "cell_type": "code",
      "source": [
        "yeller.yell"
      ],
      "execution_count": 36,
      "outputs": [
        {
          "output_type": "execute_result",
          "data": {
            "text/plain": [
              "<bound method Yeller.yell of <__main__.Yeller object at 0x7fbc0213b898>>"
            ]
          },
          "metadata": {
            "tags": []
          },
          "execution_count": 36
        }
      ]
    },
    {
      "metadata": {
        "id": "c3juO9KULlTq",
        "colab_type": "text"
      },
      "cell_type": "markdown",
      "source": [
        "Huh? This is **one of the least intuitive things in Python**. During the instantiation of a class, a **new function** is made and assigned as an attribute of the class instance (in this case, lower-case-y-```yeller```). This new function is called a **bound method**.\n",
        "\n",
        "This function acts pretty much like normal, except one special behavior: **calling a bound method will automatically insert the caller as the first argument.**"
      ]
    },
    {
      "metadata": {
        "id": "3c2cqOiwMdwj",
        "colab_type": "code",
        "colab": {
          "base_uri": "https://localhost:8080/",
          "height": 34
        },
        "outputId": "d0b64f56-55e9-46c4-b36d-9f5dea138e54"
      },
      "cell_type": "code",
      "source": [
        "Yeller.yell() #not a bound method, acts like normal"
      ],
      "execution_count": 42,
      "outputs": [
        {
          "output_type": "stream",
          "text": [
            "AAH\n"
          ],
          "name": "stdout"
        }
      ]
    },
    {
      "metadata": {
        "id": "R0ZVZirdMv3s",
        "colab_type": "code",
        "colab": {
          "base_uri": "https://localhost:8080/",
          "height": 164
        },
        "outputId": "39fdef77-c719-4aa5-a39a-e50074ba83f0"
      },
      "cell_type": "code",
      "source": [
        "yeller.yell() #bound method version of the original function; caller is inserted as first argument"
      ],
      "execution_count": 43,
      "outputs": [
        {
          "output_type": "error",
          "ename": "TypeError",
          "evalue": "ignored",
          "traceback": [
            "\u001b[0;31m---------------------------------------------------------------------------\u001b[0m",
            "\u001b[0;31mTypeError\u001b[0m                                 Traceback (most recent call last)",
            "\u001b[0;32m<ipython-input-43-0eef253fb9e2>\u001b[0m in \u001b[0;36m<module>\u001b[0;34m()\u001b[0m\n\u001b[0;32m----> 1\u001b[0;31m \u001b[0myeller\u001b[0m\u001b[0;34m.\u001b[0m\u001b[0myell\u001b[0m\u001b[0;34m(\u001b[0m\u001b[0;34m)\u001b[0m \u001b[0;31m#bound method version of the original function; caller is inserted as first argument\u001b[0m\u001b[0;34m\u001b[0m\u001b[0;34m\u001b[0m\u001b[0m\n\u001b[0m",
            "\u001b[0;31mTypeError\u001b[0m: yell() takes 0 positional arguments but 1 was given"
          ]
        }
      ]
    },
    {
      "metadata": {
        "id": "c--Mf5hAMwoM",
        "colab_type": "text"
      },
      "cell_type": "markdown",
      "source": [
        "In order to play nice with this behavior, we need to modify the function definition to expect this extra parameter:"
      ]
    },
    {
      "metadata": {
        "id": "FAHsSd5DNmsE",
        "colab_type": "code",
        "colab": {}
      },
      "cell_type": "code",
      "source": [
        "class Yeller:\n",
        "  def yell(self):\n",
        "    print( \"AAH\" )"
      ],
      "execution_count": 0,
      "outputs": []
    },
    {
      "metadata": {
        "id": "7tSJrOLFNqNF",
        "colab_type": "code",
        "colab": {
          "base_uri": "https://localhost:8080/",
          "height": 34
        },
        "outputId": "fd68e713-919d-4e6b-cb61-035d022efe7c"
      },
      "cell_type": "code",
      "source": [
        "#it's still just a function glued to the class object\n",
        "Yeller.yell"
      ],
      "execution_count": 49,
      "outputs": [
        {
          "output_type": "execute_result",
          "data": {
            "text/plain": [
              "<function __main__.Yeller.yell>"
            ]
          },
          "metadata": {
            "tags": []
          },
          "execution_count": 49
        }
      ]
    },
    {
      "metadata": {
        "id": "mVvJPmhKNutc",
        "colab_type": "code",
        "colab": {
          "base_uri": "https://localhost:8080/",
          "height": 164
        },
        "outputId": "cb0f34e5-6f4b-47df-e6f3-8c11622ae310"
      },
      "cell_type": "code",
      "source": [
        "#but now it takes a parameter\n",
        "Yeller.yell()"
      ],
      "execution_count": 50,
      "outputs": [
        {
          "output_type": "error",
          "ename": "TypeError",
          "evalue": "ignored",
          "traceback": [
            "\u001b[0;31m---------------------------------------------------------------------------\u001b[0m",
            "\u001b[0;31mTypeError\u001b[0m                                 Traceback (most recent call last)",
            "\u001b[0;32m<ipython-input-50-f99d31659c59>\u001b[0m in \u001b[0;36m<module>\u001b[0;34m()\u001b[0m\n\u001b[0;32m----> 1\u001b[0;31m \u001b[0mYeller\u001b[0m\u001b[0;34m.\u001b[0m\u001b[0myell\u001b[0m\u001b[0;34m(\u001b[0m\u001b[0;34m)\u001b[0m\u001b[0;34m\u001b[0m\u001b[0;34m\u001b[0m\u001b[0m\n\u001b[0m",
            "\u001b[0;31mTypeError\u001b[0m: yell() missing 1 required positional argument: 'self'"
          ]
        }
      ]
    },
    {
      "metadata": {
        "id": "tSgksY9uN92h",
        "colab_type": "code",
        "colab": {
          "base_uri": "https://localhost:8080/",
          "height": 34
        },
        "outputId": "d0183c95-5390-4691-c83e-4d2df7d15404"
      },
      "cell_type": "code",
      "source": [
        "# the function body doesn't use that, so it doesn't matter what you put there\"\n",
        "Yeller.yell(\"literally anything\")"
      ],
      "execution_count": 52,
      "outputs": [
        {
          "output_type": "stream",
          "text": [
            "AAH\n"
          ],
          "name": "stdout"
        }
      ]
    },
    {
      "metadata": {
        "id": "HlrGCkTMOELT",
        "colab_type": "code",
        "colab": {
          "base_uri": "https://localhost:8080/",
          "height": 34
        },
        "outputId": "b567e9c3-f32e-4f6a-8c86-9f1deae51318"
      },
      "cell_type": "code",
      "source": [
        "# the class is instantiated and a bound method is produced and attached to the instance\n",
        "yeller = Yeller()\n",
        "yeller.yell"
      ],
      "execution_count": 54,
      "outputs": [
        {
          "output_type": "execute_result",
          "data": {
            "text/plain": [
              "<bound method Yeller.yell of <__main__.Yeller object at 0x7fbc02061048>>"
            ]
          },
          "metadata": {
            "tags": []
          },
          "execution_count": 54
        }
      ]
    },
    {
      "metadata": {
        "id": "bi_bTiO5OMz7",
        "colab_type": "code",
        "colab": {
          "base_uri": "https://localhost:8080/",
          "height": 34
        },
        "outputId": "243ad6fd-eeba-440a-ecf9-fff5614a0fa3"
      },
      "cell_type": "code",
      "source": [
        "# if we call it, the caller is added as the first argument, which the method/function\n",
        "# is expecting\n",
        "yeller.yell()"
      ],
      "execution_count": 56,
      "outputs": [
        {
          "output_type": "stream",
          "text": [
            "AAH\n"
          ],
          "name": "stdout"
        }
      ]
    },
    {
      "metadata": {
        "id": "Vucu7lBgORaX",
        "colab_type": "text"
      },
      "cell_type": "markdown",
      "source": [
        "### ```__init__```\n",
        "\n",
        "Continuing to unravel line 2: why ```__init__```? Init is an **initializer**. A bound method with this name is called immediately after construction of the object, using any parameters passed into the class name.\n",
        "\n",
        "This actually follows a two-step process:\n",
        "1. A **constructor** ```__new__(cls)``` is called, which returns an instance of the object.\n",
        "2. A **initializer** ```__init__(self)``` is called, which operates on an instance but does not return a value."
      ]
    },
    {
      "metadata": {
        "id": "Zu2tDTmEO2-T",
        "colab_type": "code",
        "colab": {
          "base_uri": "https://localhost:8080/",
          "height": 51
        },
        "outputId": "9c0b4590-7159-4011-bfbf-944d778e5bd3"
      },
      "cell_type": "code",
      "source": [
        "class Yeller:\n",
        "  def __new__(cls):\n",
        "    print( \"construct a %s\"%cls )\n",
        "    return super(Yeller, cls).__new__(cls)\n",
        "    \n",
        "  def __init__(self):\n",
        "    print( \"initialize a %s\"%self )\n",
        "    \n",
        "yeller = Yeller()"
      ],
      "execution_count": 69,
      "outputs": [
        {
          "output_type": "stream",
          "text": [
            "construct a <class '__main__.Yeller'>\n",
            "initialize a <__main__.Yeller object at 0x7fbc02061da0>\n"
          ],
          "name": "stdout"
        }
      ]
    },
    {
      "metadata": {
        "id": "qYOyYGr7P2S2",
        "colab_type": "text"
      },
      "cell_type": "markdown",
      "source": [
        "It is not common to override the ```__new__``` method; you'll probably never do it."
      ]
    },
    {
      "metadata": {
        "id": "DVs_DoYKR3ni",
        "colab_type": "text"
      },
      "cell_type": "markdown",
      "source": [
        "This concludes our exploration of **line 2**.\n",
        "\n",
        "### Line 3\n",
        "\n",
        "Up until line 3:\n",
        "\n",
        "```python\n",
        "class Greeter:\n",
        "  def __init__(self, name):\n",
        "    self.name = name\n",
        "    ```\n",
        "    \n",
        "In the scope of the ```__init__``` function, make a variable with the name ```name```.\n",
        "\n",
        "Then assign the object to which that refers to the ```name``` attribute of the ```self``` object.\n",
        "\n",
        "First of all it's important to understand **these two names do not need to be the same**. This would work just as well:"
      ]
    },
    {
      "metadata": {
        "id": "YtdJEcAJTEti",
        "colab_type": "code",
        "colab": {}
      },
      "cell_type": "code",
      "source": [
        "class Greeter:\n",
        "  def __init__(self, foobar):\n",
        "    self.name = foobar\n",
        "    \n",
        "greeter = Greeter(\"some expression\")"
      ],
      "execution_count": 0,
      "outputs": []
    },
    {
      "metadata": {
        "id": "9gvKRkVgTEqQ",
        "colab_type": "code",
        "colab": {
          "base_uri": "https://localhost:8080/",
          "height": 34
        },
        "outputId": "a2aedf6a-7fa5-4647-d937-285f79ed3e19"
      },
      "cell_type": "code",
      "source": [
        "greeter"
      ],
      "execution_count": 77,
      "outputs": [
        {
          "output_type": "execute_result",
          "data": {
            "text/plain": [
              "<__main__.Greeter at 0x7fbc00fe26d8>"
            ]
          },
          "metadata": {
            "tags": []
          },
          "execution_count": 77
        }
      ]
    },
    {
      "metadata": {
        "id": "xjBWADp1SeUd",
        "colab_type": "text"
      },
      "cell_type": "markdown",
      "source": [
        "This line of code simultaneously created an attribute on the instance, and assigned a value to it. You can inspect the attributes of an instance with ```dir```:"
      ]
    },
    {
      "metadata": {
        "id": "jmcXPy43TppV",
        "colab_type": "code",
        "colab": {
          "base_uri": "https://localhost:8080/",
          "height": 476
        },
        "outputId": "ae3fcab7-2b9f-40a7-964e-8071911eb772"
      },
      "cell_type": "code",
      "source": [
        "dir( greeter )"
      ],
      "execution_count": 78,
      "outputs": [
        {
          "output_type": "execute_result",
          "data": {
            "text/plain": [
              "['__class__',\n",
              " '__delattr__',\n",
              " '__dict__',\n",
              " '__dir__',\n",
              " '__doc__',\n",
              " '__eq__',\n",
              " '__format__',\n",
              " '__ge__',\n",
              " '__getattribute__',\n",
              " '__gt__',\n",
              " '__hash__',\n",
              " '__init__',\n",
              " '__init_subclass__',\n",
              " '__le__',\n",
              " '__lt__',\n",
              " '__module__',\n",
              " '__ne__',\n",
              " '__new__',\n",
              " '__reduce__',\n",
              " '__reduce_ex__',\n",
              " '__repr__',\n",
              " '__setattr__',\n",
              " '__sizeof__',\n",
              " '__str__',\n",
              " '__subclasshook__',\n",
              " '__weakref__',\n",
              " 'name']"
            ]
          },
          "metadata": {
            "tags": []
          },
          "execution_count": 78
        }
      ]
    },
    {
      "metadata": {
        "id": "L7HfSwNSTqzL",
        "colab_type": "text"
      },
      "cell_type": "markdown",
      "source": [
        "There it is.\n",
        "\n",
        "This might seem willy-nilly to you, but Python is **extremely okay with it**. It's allowed under all circumstances:"
      ]
    },
    {
      "metadata": {
        "id": "vBjxquqwTxnZ",
        "colab_type": "code",
        "colab": {
          "base_uri": "https://localhost:8080/",
          "height": 34
        },
        "outputId": "78d6aa8e-657e-4e40-8d9f-b06629f27133"
      },
      "cell_type": "code",
      "source": [
        "#add to the class\n",
        "Greeter.a_new_function = lambda x:x*x\n",
        "Greeter.a_new_function(12)"
      ],
      "execution_count": 81,
      "outputs": [
        {
          "output_type": "execute_result",
          "data": {
            "text/plain": [
              "144"
            ]
          },
          "metadata": {
            "tags": []
          },
          "execution_count": 81
        }
      ]
    },
    {
      "metadata": {
        "id": "l-PM08h7T6au",
        "colab_type": "code",
        "colab": {}
      },
      "cell_type": "code",
      "source": [
        "#add to the instance! anywhere!\n",
        "greeter.some_new_junk = \"two weeks from everywhere\""
      ],
      "execution_count": 0,
      "outputs": []
    },
    {
      "metadata": {
        "id": "nQx-YS55T8HO",
        "colab_type": "code",
        "colab": {
          "base_uri": "https://localhost:8080/",
          "height": 510
        },
        "outputId": "60dd5516-12f4-4052-97ec-b978e85bac56"
      },
      "cell_type": "code",
      "source": [
        "dir( greeter )"
      ],
      "execution_count": 83,
      "outputs": [
        {
          "output_type": "execute_result",
          "data": {
            "text/plain": [
              "['__class__',\n",
              " '__delattr__',\n",
              " '__dict__',\n",
              " '__dir__',\n",
              " '__doc__',\n",
              " '__eq__',\n",
              " '__format__',\n",
              " '__ge__',\n",
              " '__getattribute__',\n",
              " '__gt__',\n",
              " '__hash__',\n",
              " '__init__',\n",
              " '__init_subclass__',\n",
              " '__le__',\n",
              " '__lt__',\n",
              " '__module__',\n",
              " '__ne__',\n",
              " '__new__',\n",
              " '__reduce__',\n",
              " '__reduce_ex__',\n",
              " '__repr__',\n",
              " '__setattr__',\n",
              " '__sizeof__',\n",
              " '__str__',\n",
              " '__subclasshook__',\n",
              " '__weakref__',\n",
              " 'a_new_function',\n",
              " 'name',\n",
              " 'some_new_junk']"
            ]
          },
          "metadata": {
            "tags": []
          },
          "execution_count": 83
        }
      ]
    },
    {
      "metadata": {
        "id": "00-pao2xURY_",
        "colab_type": "text"
      },
      "cell_type": "markdown",
      "source": [
        "In particular, adding attributes to instances from inside of bound methods on that instance is one of the main ways to do object-oriented programming in Python."
      ]
    },
    {
      "metadata": {
        "id": "s0oJTtQoUrlb",
        "colab_type": "text"
      },
      "cell_type": "markdown",
      "source": [
        "### Line 4\n",
        "\n",
        "```python\n",
        "  def greet(self):\n",
        "```\n",
        "\n",
        "Define a function, which will be made into a bound method on instantiation."
      ]
    },
    {
      "metadata": {
        "id": "MGbL6PQYWCmA",
        "colab_type": "code",
        "colab": {}
      },
      "cell_type": "code",
      "source": [
        "class Greeter:\n",
        "  def __init__(self, name):\n",
        "    self.name = name\n",
        "    \n",
        "  def greet(self):pass\n",
        "\n",
        "greeter = Greeter(\"Brandon\")"
      ],
      "execution_count": 0,
      "outputs": []
    },
    {
      "metadata": {
        "id": "srJ3LbAMWTCh",
        "colab_type": "text"
      },
      "cell_type": "markdown",
      "source": [
        "Here it is in the list of instance attributes:"
      ]
    },
    {
      "metadata": {
        "id": "xZoAkMm1WB6R",
        "colab_type": "code",
        "colab": {
          "base_uri": "https://localhost:8080/",
          "height": 493
        },
        "outputId": "dd5f0da8-f117-4112-b9c8-a26e96814140"
      },
      "cell_type": "code",
      "source": [
        "dir(greeter)"
      ],
      "execution_count": 93,
      "outputs": [
        {
          "output_type": "execute_result",
          "data": {
            "text/plain": [
              "['__class__',\n",
              " '__delattr__',\n",
              " '__dict__',\n",
              " '__dir__',\n",
              " '__doc__',\n",
              " '__eq__',\n",
              " '__format__',\n",
              " '__ge__',\n",
              " '__getattribute__',\n",
              " '__gt__',\n",
              " '__hash__',\n",
              " '__init__',\n",
              " '__init_subclass__',\n",
              " '__le__',\n",
              " '__lt__',\n",
              " '__module__',\n",
              " '__ne__',\n",
              " '__new__',\n",
              " '__reduce__',\n",
              " '__reduce_ex__',\n",
              " '__repr__',\n",
              " '__setattr__',\n",
              " '__sizeof__',\n",
              " '__str__',\n",
              " '__subclasshook__',\n",
              " '__weakref__',\n",
              " 'greet',\n",
              " 'name']"
            ]
          },
          "metadata": {
            "tags": []
          },
          "execution_count": 93
        }
      ]
    },
    {
      "metadata": {
        "id": "1ayQ1pbwWB2c",
        "colab_type": "text"
      },
      "cell_type": "markdown",
      "source": [
        "### Line 5\n",
        "\n",
        "```python\n",
        "def greet(self):\n",
        "    print( \"Hello, \" + self.name )   #<---\n",
        "```\n",
        "\n",
        "The body of the function/method ```greet``` is a single line, accessing the attribute of the instance previously set in the initializer ```__init__```. If we were to call this function/method before the initializer, it wouldn't work:"
      ]
    },
    {
      "metadata": {
        "id": "Z5H0hEKwV98v",
        "colab_type": "code",
        "colab": {}
      },
      "cell_type": "code",
      "source": [
        "class Greeter:\n",
        "  def __init__(self, name):\n",
        "    self.name = name\n",
        "    \n",
        "  def greet(self):\n",
        "    print( \"Hello, \" + self.name )"
      ],
      "execution_count": 0,
      "outputs": []
    },
    {
      "metadata": {
        "id": "Q0pKGw1sXCwj",
        "colab_type": "code",
        "colab": {
          "base_uri": "https://localhost:8080/",
          "height": 283
        },
        "outputId": "b9432353-6f06-47e9-8268-346ac1afb480"
      },
      "cell_type": "code",
      "source": [
        "# call the constructor explicitly, to avoid calling the initializer\n",
        "greeter = Greeter.__new__(Greeter)\n",
        "\n",
        "# call the method, which will fail\n",
        "greeter.greet()"
      ],
      "execution_count": 100,
      "outputs": [
        {
          "output_type": "error",
          "ename": "AttributeError",
          "evalue": "ignored",
          "traceback": [
            "\u001b[0;31m---------------------------------------------------------------------------\u001b[0m",
            "\u001b[0;31mAttributeError\u001b[0m                            Traceback (most recent call last)",
            "\u001b[0;32m<ipython-input-100-00a98b921774>\u001b[0m in \u001b[0;36m<module>\u001b[0;34m()\u001b[0m\n\u001b[1;32m      2\u001b[0m \u001b[0;34m\u001b[0m\u001b[0m\n\u001b[1;32m      3\u001b[0m \u001b[0;31m# call the method, which will fail\u001b[0m\u001b[0;34m\u001b[0m\u001b[0;34m\u001b[0m\u001b[0;34m\u001b[0m\u001b[0m\n\u001b[0;32m----> 4\u001b[0;31m \u001b[0mgreeter\u001b[0m\u001b[0;34m.\u001b[0m\u001b[0mgreet\u001b[0m\u001b[0;34m(\u001b[0m\u001b[0;34m)\u001b[0m\u001b[0;34m\u001b[0m\u001b[0;34m\u001b[0m\u001b[0m\n\u001b[0m",
            "\u001b[0;32m<ipython-input-98-d34f70640a1e>\u001b[0m in \u001b[0;36mgreet\u001b[0;34m(self)\u001b[0m\n\u001b[1;32m      4\u001b[0m \u001b[0;34m\u001b[0m\u001b[0m\n\u001b[1;32m      5\u001b[0m   \u001b[0;32mdef\u001b[0m \u001b[0mgreet\u001b[0m\u001b[0;34m(\u001b[0m\u001b[0mself\u001b[0m\u001b[0;34m)\u001b[0m\u001b[0;34m:\u001b[0m\u001b[0;34m\u001b[0m\u001b[0;34m\u001b[0m\u001b[0m\n\u001b[0;32m----> 6\u001b[0;31m     \u001b[0mprint\u001b[0m\u001b[0;34m(\u001b[0m \u001b[0;34m\"Hello, \"\u001b[0m \u001b[0;34m+\u001b[0m \u001b[0mself\u001b[0m\u001b[0;34m.\u001b[0m\u001b[0mname\u001b[0m \u001b[0;34m)\u001b[0m\u001b[0;34m\u001b[0m\u001b[0;34m\u001b[0m\u001b[0m\n\u001b[0m",
            "\u001b[0;31mAttributeError\u001b[0m: 'Greeter' object has no attribute 'name'"
          ]
        }
      ]
    },
    {
      "metadata": {
        "id": "s9lyNYRZXGld",
        "colab_type": "text"
      },
      "cell_type": "markdown",
      "source": [
        "### Lines 6 and 7\n",
        "\n",
        "```python\n",
        "greeter = Greeter(\"Brandon\")\n",
        "greeter.greet()\n",
        "```\n",
        "\n",
        "Instantiate the object. When the class is **called**, it automatically activates the constructor/initializer/method-creation machinery to produce an **instance** object.\n",
        "\n",
        "Subsequently we call the bound method ```greet```, which implicitly passes the instance object in to the ```greet``` function as the first argument."
      ]
    },
    {
      "metadata": {
        "id": "orlz_sFAXuEd",
        "colab_type": "text"
      },
      "cell_type": "markdown",
      "source": [
        "## Inheritence\n",
        "\n",
        "Let's code up a class for a very general thing: a \"Speaker\". It takes a phrase at initialization, and its ```speak``` method says that phrase."
      ]
    },
    {
      "metadata": {
        "id": "Ga837qwxZPdc",
        "colab_type": "code",
        "colab": {
          "base_uri": "https://localhost:8080/",
          "height": 34
        },
        "outputId": "dab3fe68-e660-41a1-f80b-7181badabb13"
      },
      "cell_type": "code",
      "source": [
        "class Speaker:\n",
        "  def __init__(self, phrase):\n",
        "    self.phrase = phrase\n",
        "    \n",
        "  def speak(self):\n",
        "    print( self.phrase )\n",
        "    \n",
        "speaker = Speaker(\"You have been served!\")\n",
        "speaker.speak()"
      ],
      "execution_count": 106,
      "outputs": [
        {
          "output_type": "stream",
          "text": [
            "You have been served!\n"
          ],
          "name": "stdout"
        }
      ]
    },
    {
      "metadata": {
        "id": "G0FqN6Fnn2op",
        "colab_type": "text"
      },
      "cell_type": "markdown",
      "source": [
        "In Python, you can define a class by **inheriting** all the members of some other class. For example, a \"Greeter\":"
      ]
    },
    {
      "metadata": {
        "id": "LhcjnP6ynEyJ",
        "colab_type": "code",
        "colab": {}
      },
      "cell_type": "code",
      "source": [
        "class Greeter(Speaker):\n",
        "  pass\n",
        "greeter = Greeter(\"Hello, Moses\")"
      ],
      "execution_count": 0,
      "outputs": []
    },
    {
      "metadata": {
        "id": "A_b5Xydjo02n",
        "colab_type": "text"
      },
      "cell_type": "markdown",
      "source": [
        "The class inherits the ```speak``` and ```__init__``` functions from ```Speaker```."
      ]
    },
    {
      "metadata": {
        "id": "aqzOsiomoj_o",
        "colab_type": "code",
        "colab": {
          "base_uri": "https://localhost:8080/",
          "height": 476
        },
        "outputId": "f1ea7b20-52f0-4f52-b963-d1570cb1f2c7"
      },
      "cell_type": "code",
      "source": [
        "dir( Greeter )"
      ],
      "execution_count": 114,
      "outputs": [
        {
          "output_type": "execute_result",
          "data": {
            "text/plain": [
              "['__class__',\n",
              " '__delattr__',\n",
              " '__dict__',\n",
              " '__dir__',\n",
              " '__doc__',\n",
              " '__eq__',\n",
              " '__format__',\n",
              " '__ge__',\n",
              " '__getattribute__',\n",
              " '__gt__',\n",
              " '__hash__',\n",
              " '__init__',\n",
              " '__init_subclass__',\n",
              " '__le__',\n",
              " '__lt__',\n",
              " '__module__',\n",
              " '__ne__',\n",
              " '__new__',\n",
              " '__reduce__',\n",
              " '__reduce_ex__',\n",
              " '__repr__',\n",
              " '__setattr__',\n",
              " '__sizeof__',\n",
              " '__str__',\n",
              " '__subclasshook__',\n",
              " '__weakref__',\n",
              " 'speak']"
            ]
          },
          "metadata": {
            "tags": []
          },
          "execution_count": 114
        }
      ]
    },
    {
      "metadata": {
        "id": "VRlwPt6Oo9GX",
        "colab_type": "text"
      },
      "cell_type": "markdown",
      "source": [
        "As a result, an instance acts exactly like the parent class."
      ]
    },
    {
      "metadata": {
        "id": "UcwCgBWuow4i",
        "colab_type": "code",
        "colab": {
          "base_uri": "https://localhost:8080/",
          "height": 34
        },
        "outputId": "532a4865-c28e-4856-d3f5-e09e06cecf30"
      },
      "cell_type": "code",
      "source": [
        "greeter = Greeter(\"Hello, Moses\")\n",
        "greeter.speak()"
      ],
      "execution_count": 115,
      "outputs": [
        {
          "output_type": "stream",
          "text": [
            "Hello, Moses\n"
          ],
          "name": "stdout"
        }
      ]
    },
    {
      "metadata": {
        "id": "5aiFDWQcpPju",
        "colab_type": "text"
      },
      "cell_type": "markdown",
      "source": [
        "What's the use of that? It is possible to **override** the parent function by defining a function by the same name as the parent function. For example, we can override the ```__init__``` function:"
      ]
    },
    {
      "metadata": {
        "id": "Ga7hU6_AnKgc",
        "colab_type": "code",
        "colab": {}
      },
      "cell_type": "code",
      "source": [
        "class Greeter(Speaker):\n",
        "  def __init__(self, name):\n",
        "    self.phrase = \"Hello, %s\"%name"
      ],
      "execution_count": 0,
      "outputs": []
    },
    {
      "metadata": {
        "id": "7yKGN-c1nS4p",
        "colab_type": "code",
        "colab": {
          "base_uri": "https://localhost:8080/",
          "height": 34
        },
        "outputId": "f1412c40-cac2-41c8-d535-9ee1bc938a24"
      },
      "cell_type": "code",
      "source": [
        "greeter = Greeter(\"Brandon\")\n",
        "greeter.speak()"
      ],
      "execution_count": 117,
      "outputs": [
        {
          "output_type": "stream",
          "text": [
            "Hello, Brandon\n"
          ],
          "name": "stdout"
        }
      ]
    },
    {
      "metadata": {
        "id": "PMe9OskUnV6z",
        "colab_type": "text"
      },
      "cell_type": "markdown",
      "source": [
        "### \"has-a\" vs. \"is-a\" relationship\n",
        "\n",
        "Class inheritance is made to model **is-a** relationships, where one class is a subtype of another class. \n",
        "\n",
        "For example:\n",
        "* A **cat** is a kind of **mammal**.\n",
        "* A **circle** is a kind of **shape**.\n",
        "* A **table** is a kind of **furnature**.\n",
        "* Think of others?\n",
        "\n",
        "Contrast this with a **has-a** relationship, where a class is a container for another class.\n",
        "\n",
        "* A **cat** has **paws**.\n",
        "* A **circle** has a **radius**.\n",
        "* A **table** has **legs**.\n",
        "* Others?\n",
        "\n",
        "Whereas a **has-a** relationship is modeled by instance attributes, an **is-a** relationship is modeled with inheritence.\n",
        "\n",
        "### Modeling with inheritence\n",
        "\n",
        "Modeling has-a relationships is simple: glom an attribute onto an instance.\n",
        "\n"
      ]
    },
    {
      "metadata": {
        "id": "ymVuHBflp8bf",
        "colab_type": "code",
        "colab": {}
      },
      "cell_type": "code",
      "source": [
        "class Person:\n",
        "  pass\n",
        "\n",
        "person = Person()\n",
        "person.name = \"Brandon\"\n",
        "\n",
        "# usually from inside a bound method, but this works too"
      ],
      "execution_count": 0,
      "outputs": []
    },
    {
      "metadata": {
        "id": "4In_0UHPvPQR",
        "colab_type": "text"
      },
      "cell_type": "markdown",
      "source": [
        "Modeling is-a relationships is one of the more philosophically challenging tasks in object-oriented programming, and there are **many** schools of thought on how to do it right.\n",
        "\n",
        "My take: there is **no one right way**. The world is complicated and any schema that represents it will be an awkward fit in some corner cases.\n",
        "\n",
        "In a word: start with a general superclass, and implement increasingly specific behavior at lower and lower inheritance levels. An example:\n",
        "\n"
      ]
    },
    {
      "metadata": {
        "id": "4zEkT2UuwXF0",
        "colab_type": "code",
        "colab": {}
      },
      "cell_type": "code",
      "source": [
        "class Shape:\n",
        "  def __init__(self):\n",
        "    raise NotImplementedError(\"Initializer not implemented.\")\n",
        "  \n",
        "  def area(self):\n",
        "    raise NotImplementedError(\"Area not implemented.\")\n",
        "\n",
        "class Circle(Shape):\n",
        "  pass\n",
        "\n",
        "class Rectangle(Shape):\n",
        "  pass\n",
        "\n",
        "class Square(Rectangle):\n",
        "  pass"
      ],
      "execution_count": 0,
      "outputs": []
    },
    {
      "metadata": {
        "id": "jDRLLCVNy6Yd",
        "colab_type": "text"
      },
      "cell_type": "markdown",
      "source": [
        "We've stubbed out our inheritance design. Subclasses will call the superclass's initializer and methods, but as the body of those methods simply raise exceptions, the code will fail."
      ]
    },
    {
      "metadata": {
        "id": "SiSm4QFHyiRN",
        "colab_type": "code",
        "colab": {
          "base_uri": "https://localhost:8080/",
          "height": 283
        },
        "outputId": "67172ed1-e0b8-44f9-a46b-06992a473c15"
      },
      "cell_type": "code",
      "source": [
        "square = Square()"
      ],
      "execution_count": 126,
      "outputs": [
        {
          "output_type": "error",
          "ename": "NotImplementedError",
          "evalue": "ignored",
          "traceback": [
            "\u001b[0;31m---------------------------------------------------------------------------\u001b[0m",
            "\u001b[0;31mNotImplementedError\u001b[0m                       Traceback (most recent call last)",
            "\u001b[0;32m<ipython-input-126-9d3d9d456fa9>\u001b[0m in \u001b[0;36m<module>\u001b[0;34m()\u001b[0m\n\u001b[0;32m----> 1\u001b[0;31m \u001b[0msquare\u001b[0m \u001b[0;34m=\u001b[0m \u001b[0mSquare\u001b[0m\u001b[0;34m(\u001b[0m\u001b[0;34m)\u001b[0m\u001b[0;34m\u001b[0m\u001b[0;34m\u001b[0m\u001b[0m\n\u001b[0m",
            "\u001b[0;32m<ipython-input-124-ca22e3a6f57f>\u001b[0m in \u001b[0;36m__init__\u001b[0;34m(self)\u001b[0m\n\u001b[1;32m      1\u001b[0m \u001b[0;32mclass\u001b[0m \u001b[0mShape\u001b[0m\u001b[0;34m:\u001b[0m\u001b[0;34m\u001b[0m\u001b[0;34m\u001b[0m\u001b[0m\n\u001b[1;32m      2\u001b[0m   \u001b[0;32mdef\u001b[0m \u001b[0m__init__\u001b[0m\u001b[0;34m(\u001b[0m\u001b[0mself\u001b[0m\u001b[0;34m)\u001b[0m\u001b[0;34m:\u001b[0m\u001b[0;34m\u001b[0m\u001b[0;34m\u001b[0m\u001b[0m\n\u001b[0;32m----> 3\u001b[0;31m     \u001b[0;32mraise\u001b[0m \u001b[0mNotImplementedError\u001b[0m\u001b[0;34m(\u001b[0m\u001b[0;34m\"Initializer not implemented.\"\u001b[0m\u001b[0;34m)\u001b[0m\u001b[0;34m\u001b[0m\u001b[0;34m\u001b[0m\u001b[0m\n\u001b[0m\u001b[1;32m      4\u001b[0m \u001b[0;34m\u001b[0m\u001b[0m\n\u001b[1;32m      5\u001b[0m   \u001b[0;32mdef\u001b[0m \u001b[0marea\u001b[0m\u001b[0;34m(\u001b[0m\u001b[0mself\u001b[0m\u001b[0;34m)\u001b[0m\u001b[0;34m:\u001b[0m\u001b[0;34m\u001b[0m\u001b[0;34m\u001b[0m\u001b[0m\n",
            "\u001b[0;31mNotImplementedError\u001b[0m: Initializer not implemented."
          ]
        }
      ]
    },
    {
      "metadata": {
        "id": "rE--F7NGy3SN",
        "colab_type": "text"
      },
      "cell_type": "markdown",
      "source": [
        "We could follow through and implement ```Square``` by overriding ```__init__``` and ```area```."
      ]
    },
    {
      "metadata": {
        "id": "K4L3rHnHyjtf",
        "colab_type": "code",
        "colab": {}
      },
      "cell_type": "code",
      "source": [
        "class Square(Rectangle):\n",
        "  def __init__(self, d):\n",
        "    self.d = d\n",
        "    \n",
        "  def area(self):\n",
        "    return self.d*self.d"
      ],
      "execution_count": 0,
      "outputs": []
    },
    {
      "metadata": {
        "id": "15_wn_huzeO9",
        "colab_type": "code",
        "colab": {
          "base_uri": "https://localhost:8080/",
          "height": 34
        },
        "outputId": "0956ada8-9102-40b1-d187-14cba8a3211c"
      },
      "cell_type": "code",
      "source": [
        "square = Square(12)\n",
        "square.area()"
      ],
      "execution_count": 129,
      "outputs": [
        {
          "output_type": "execute_result",
          "data": {
            "text/plain": [
              "144"
            ]
          },
          "metadata": {
            "tags": []
          },
          "execution_count": 129
        }
      ]
    },
    {
      "metadata": {
        "id": "fv0v7h7W0B1e",
        "colab_type": "text"
      },
      "cell_type": "markdown",
      "source": [
        "What's the use of this? The ```Shape``` implementation didn't do any **work**, it just **defined** what a function is and left all the work to implementing classes. This is called the **interface pattern**. This is useful because we can use the ```isinstance``` function to check if an instance is inherited from a given class:"
      ]
    },
    {
      "metadata": {
        "id": "UpoBZWt7zolo",
        "colab_type": "code",
        "colab": {
          "base_uri": "https://localhost:8080/",
          "height": 34
        },
        "outputId": "5524d067-1b39-4349-fe55-957195dd701c"
      },
      "cell_type": "code",
      "source": [
        "isinstance(square, Shape)"
      ],
      "execution_count": 150,
      "outputs": [
        {
          "output_type": "execute_result",
          "data": {
            "text/plain": [
              "False"
            ]
          },
          "metadata": {
            "tags": []
          },
          "execution_count": 150
        }
      ]
    },
    {
      "metadata": {
        "id": "lQ_7ZJDQ0Yrr",
        "colab_type": "text"
      },
      "cell_type": "markdown",
      "source": [
        "We may for example have a function that takes a Shape and computes its area, without caring exactly what kind of object it really is.\n",
        "\n",
        "A parent class can also have a **more general implementation** than a subclass. For example we could implement both the ```Rectangle``` and ```Square``` classes:"
      ]
    },
    {
      "metadata": {
        "id": "R1r6jUDM0v4s",
        "colab_type": "code",
        "colab": {}
      },
      "cell_type": "code",
      "source": [
        "class Rectangle(Shape):\n",
        "  def __init__(self, w, h):\n",
        "    self.w = w\n",
        "    self.h = h\n",
        "    \n",
        "  def area(self):\n",
        "    return self.w*self.h\n",
        "\n",
        "class Square(Rectangle):\n",
        "  def __init__(self, h):\n",
        "    Rectangle.__init__(self, h, h)"
      ],
      "execution_count": 0,
      "outputs": []
    },
    {
      "metadata": {
        "id": "R22F9xiI1P3f",
        "colab_type": "code",
        "colab": {
          "base_uri": "https://localhost:8080/",
          "height": 34
        },
        "outputId": "0bd2877a-c444-45a5-877e-62841f19f4cd"
      },
      "cell_type": "code",
      "source": [
        "s = Square(12)\n",
        "s.area()"
      ],
      "execution_count": 152,
      "outputs": [
        {
          "output_type": "execute_result",
          "data": {
            "text/plain": [
              "144"
            ]
          },
          "metadata": {
            "tags": []
          },
          "execution_count": 152
        }
      ]
    },
    {
      "metadata": {
        "id": "dpLTer4f1XW-",
        "colab_type": "text"
      },
      "cell_type": "markdown",
      "source": [
        "Let's implement ```Circle``` and then put it all together:"
      ]
    },
    {
      "metadata": {
        "id": "mzs3t5ne5G6T",
        "colab_type": "code",
        "colab": {}
      },
      "cell_type": "code",
      "source": [
        "PI = 3.1415926\n",
        "\n",
        "class Shape:\n",
        "  def __init__(self):\n",
        "    raise NotImplementedError(\"Initializer not implemented.\")\n",
        "  \n",
        "  def area(self):\n",
        "    raise NotImplementedError(\"Area not implemented.\")\n",
        "\n",
        "class Circle(Shape):\n",
        "  def __init__(self, r):\n",
        "    self.r = r\n",
        "    \n",
        "  def area(self):\n",
        "    return PI*self.r**2\n",
        "\n",
        "class Rectangle(Shape):\n",
        "  def __init__(self, w, h):\n",
        "    self.w = w\n",
        "    self.h = h\n",
        "    \n",
        "  def area(self):\n",
        "    return self.w*self.h\n",
        "\n",
        "class Square(Rectangle):\n",
        "  def __init__(self, h):\n",
        "    Rectangle.__init__(self, h, h)"
      ],
      "execution_count": 0,
      "outputs": []
    },
    {
      "metadata": {
        "id": "8xTZ6b-x5Wqy",
        "colab_type": "text"
      },
      "cell_type": "markdown",
      "source": [
        "I could make a list of shapes and find the shape of every object, even though they have different types. This is **polymorphism** in action."
      ]
    },
    {
      "metadata": {
        "id": "BWzc6ghk5fek",
        "colab_type": "code",
        "colab": {
          "base_uri": "https://localhost:8080/",
          "height": 34
        },
        "outputId": "c1d211ad-b807-43ff-9fac-9966e0a03470"
      },
      "cell_type": "code",
      "source": [
        "shapes = [Square(3), Rectangle(3,2), Circle(5), Circle(2.2)]\n",
        "\n",
        "[x.area() for x in shapes]"
      ],
      "execution_count": 145,
      "outputs": [
        {
          "output_type": "execute_result",
          "data": {
            "text/plain": [
              "[9, 6, 78.539815, 15.205308184000003]"
            ]
          },
          "metadata": {
            "tags": []
          },
          "execution_count": 145
        }
      ]
    },
    {
      "metadata": {
        "id": "xva1bfol5lfO",
        "colab_type": "text"
      },
      "cell_type": "markdown",
      "source": [
        "## Duck Typing\n",
        "\n",
        "Polymorphism is essential in statically typed programming languages, where a function or collection type might only accept instances of a **single type**.\n",
        "\n",
        "Python doesn't actually have that restriction, making polymorphism via inheritance redundant. Note that instead of the above, we could just do this:"
      ]
    },
    {
      "metadata": {
        "id": "umu0Mepj5lBY",
        "colab_type": "code",
        "colab": {}
      },
      "cell_type": "code",
      "source": [
        "PI = 3.1415926\n",
        "\n",
        "class Circle:\n",
        "  def __init__(self, r):\n",
        "    self.r = r\n",
        "    \n",
        "  def area(self):\n",
        "    return PI*self.r**2\n",
        "\n",
        "class Rectangle:\n",
        "  def __init__(self, w, h):\n",
        "    self.w = w\n",
        "    self.h = h\n",
        "    \n",
        "  def area(self):\n",
        "    return self.w*self.h\n",
        "\n",
        "class Square:\n",
        "  def __init__(self, h):\n",
        "    self.h = h\n",
        "    \n",
        "  def area(self):\n",
        "    return self.h**2"
      ],
      "execution_count": 0,
      "outputs": []
    },
    {
      "metadata": {
        "id": "KSpuk808667t",
        "colab_type": "code",
        "colab": {
          "base_uri": "https://localhost:8080/",
          "height": 34
        },
        "outputId": "2743f524-5e39-4af1-d74e-955e1710599b"
      },
      "cell_type": "code",
      "source": [
        "shapes = [Square(3), Rectangle(3,2), Circle(5), Circle(2.2)]\n",
        "\n",
        "[x.area() for x in shapes]"
      ],
      "execution_count": 149,
      "outputs": [
        {
          "output_type": "execute_result",
          "data": {
            "text/plain": [
              "[9, 6, 78.539815, 15.205308184000003]"
            ]
          },
          "metadata": {
            "tags": []
          },
          "execution_count": 149
        }
      ]
    },
    {
      "metadata": {
        "id": "nolHgumI7A8Z",
        "colab_type": "text"
      },
      "cell_type": "markdown",
      "source": [
        "The philosophy of dynamically typed languages shifts responsibility from the user to the implementer. As a result, all a class needs to be considered a member of a type is to implement a function; the calling function can simply trust that it did so. This is called **Duck Typing**: if it walks like a duck and it quacks like a duck, it's a duck. \n",
        "\n",
        "Note that the duck-typed polymorphic code is actually shorter and easier to understand than the inheritance-polymorphic implementation, at the trivial price of re-implementing the Rectangle's area function.\n",
        "\n",
        "There's no right answer for this. It's up to you."
      ]
    },
    {
      "metadata": {
        "id": "vU7N_lbi7OCy",
        "colab_type": "text"
      },
      "cell_type": "markdown",
      "source": [
        "## Classes for Incapsulation: Separation of Concerns\n",
        "\n",
        "All of these tools:\n",
        "\n",
        "* classes\n",
        "* instantiation\n",
        "* methods\n",
        "* attributes\n",
        "* has-a modeling\n",
        "* is-a modeling\n",
        "\n",
        "exist to aid **abtraction**, by giving us means to **encapsulate** functionality inside of classes, in order to provide a **separation of concerns** between functional units.\n",
        "\n",
        "An example:"
      ]
    },
    {
      "metadata": {
        "id": "a4JpjP0NQZ4N",
        "colab_type": "code",
        "colab": {
          "base_uri": "https://localhost:8080/",
          "height": 34
        },
        "outputId": "e6b5c9dd-8488-4749-9867-b417474f2e55"
      },
      "cell_type": "code",
      "source": [
        "import socket\n",
        "\n",
        "# open up a streaming byte connection to the host\n",
        "s = socket.socket(socket.AF_INET, socket.SOCK_STREAM)\n",
        "s.connect((\"www.example.org\", 80))\n",
        "\n",
        "# send three strings\n",
        "s.send(b\"GET / HTTP/1.1\\r\\n\")\n",
        "s.send(b\"Host: www.example.com\\r\\n\")\n",
        "s.send(b\"\\r\\n\")\n",
        "\n",
        "headbytes = []\n",
        "while True:\n",
        "  chunk = s.recv(1)\n",
        "  headbytes.append( chunk )\n",
        "  if b''.join( headbytes[-4:] ) == b'\\r\\n\\r\\n':\n",
        "    break\n",
        "head = b''.join(headbytes)\n",
        "\n",
        "lines = head.split(b'\\r\\n')\n",
        "\n",
        "status_line = lines[0]\n",
        "header_lines = lines[1:]\n",
        "\n",
        "headers = []\n",
        "for line in header_lines:\n",
        "  if len(line)==0:\n",
        "    continue\n",
        "  colon_index = line.index(b\":\")\n",
        "  key = line[:colon_index]\n",
        "  val = line[colon_index+2:]\n",
        "  headers.append( (key,val) )\n",
        "  \n",
        "encoding = None\n",
        "for key, val in headers:\n",
        "  if key==b\"Content-Type\":\n",
        "    charset_subkey = b\"charset=\"\n",
        "    charset_index = val.index( charset_subkey )\n",
        "    encoding = val[charset_index+len(charset_subkey):].decode(\"ascii\")\n",
        "  elif key==b\"Content-Length\":\n",
        "    content_length = int(val.decode(\"ascii\"))\n",
        "    \n",
        "content_bytes = s.recv(content_length)\n",
        "\n",
        "start_tag = \"<title>\"\n",
        "end_tag = \"</title>\"\n",
        "start_pos = content.index(start_tag)+len(start_tag)\n",
        "end_pos = content.index(end_tag)\n",
        "\n",
        "title = content[start_pos:end_pos]\n",
        "\n",
        "print( title )"
      ],
      "execution_count": 277,
      "outputs": [
        {
          "output_type": "stream",
          "text": [
            "Example Domain\n"
          ],
          "name": "stdout"
        }
      ]
    },
    {
      "metadata": {
        "id": "eme8rt27P5MC",
        "colab_type": "text"
      },
      "cell_type": "markdown",
      "source": [
        "### do it live"
      ]
    },
    {
      "metadata": {
        "id": "oNyCv1VQsx-R",
        "colab_type": "code",
        "colab": {}
      },
      "cell_type": "code",
      "source": [
        ""
      ],
      "execution_count": 0,
      "outputs": []
    }
  ]
}