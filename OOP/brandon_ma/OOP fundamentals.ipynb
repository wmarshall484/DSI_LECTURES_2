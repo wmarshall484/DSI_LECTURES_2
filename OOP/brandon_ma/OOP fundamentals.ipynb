{
 "cells": [
  {
   "cell_type": "markdown",
   "metadata": {
    "colab_type": "text",
    "id": "0J96ln3BGCqb"
   },
   "source": [
    "# Object Oriented Programming\n",
    "\n",
    "By now as a result of either Week 0 or your lack of need for Week 0, you should be comfortable with the following code:"
   ]
  },
  {
   "cell_type": "code",
   "execution_count": 1,
   "metadata": {
    "colab": {
     "base_uri": "https://localhost:8080/",
     "height": 34
    },
    "colab_type": "code",
    "id": "5QycjGa5GJHt",
    "outputId": "2febe5b9-ae6c-443d-c351-2e966d66b925"
   },
   "outputs": [
    {
     "name": "stdout",
     "output_type": "stream",
     "text": [
      "Hello, Brandon\n"
     ]
    }
   ],
   "source": [
    "class Greeter:\n",
    "    def __init__(self, name):\n",
    "        self.name = name\n",
    "    \n",
    "    def greet(self):\n",
    "        print( \"Hello, \" + self.name )\n",
    "    \n",
    "greeter = Greeter(\"Brandon\")\n",
    "greeter.greet()"
   ]
  },
  {
   "cell_type": "markdown",
   "metadata": {
    "colab_type": "text",
    "id": "n7LF2ooTGbni"
   },
   "source": [
    "Let's take it apart line-by-line.\n",
    "\n",
    "### line 1\n",
    "\n",
    "```python\n",
    "class Greeter:\n",
    "```\n",
    " \n",
    "Specify that we will be creating a class, and the name of the class will be ```Greeter```.  \n",
    "\n",
    "My ancient tradition, class names start with a capital letter. This is enforced on punishment of shame.\n",
    "\n",
    "This is all this is necessary to define a class."
   ]
  },
  {
   "cell_type": "code",
   "execution_count": 2,
   "metadata": {
    "colab": {},
    "colab_type": "code",
    "id": "1MOcETrkGt0q"
   },
   "outputs": [],
   "source": [
    "class Greeter: pass"
   ]
  },
  {
   "cell_type": "markdown",
   "metadata": {
    "colab_type": "text",
    "id": "PsXBCy39Hiwr"
   },
   "source": [
    "At this point, you have created an object, and assigned a variable ```Greeter``` to refer to that object."
   ]
  },
  {
   "cell_type": "code",
   "execution_count": 3,
   "metadata": {
    "colab": {
     "base_uri": "https://localhost:8080/",
     "height": 34
    },
    "colab_type": "code",
    "id": "phQfnUXGHxLK",
    "outputId": "781c8623-1795-49c1-dd72-0fdf300ad2f7"
   },
   "outputs": [
    {
     "data": {
      "text/plain": [
       "__main__.Greeter"
      ]
     },
     "execution_count": 3,
     "metadata": {},
     "output_type": "execute_result"
    }
   ],
   "source": [
    "# it's in the namespace\n",
    "Greeter"
   ]
  },
  {
   "cell_type": "code",
   "execution_count": 4,
   "metadata": {
    "colab": {
     "base_uri": "https://localhost:8080/",
     "height": 34
    },
    "colab_type": "code",
    "id": "GHWeH9EmHyPl",
    "outputId": "c99776ce-bea0-4b13-f025-5d21642f5051"
   },
   "outputs": [
    {
     "data": {
      "text/plain": [
       "type"
      ]
     },
     "execution_count": 4,
     "metadata": {},
     "output_type": "execute_result"
    }
   ],
   "source": [
    "# it has a type\n",
    "type( Greeter )"
   ]
  },
  {
   "cell_type": "markdown",
   "metadata": {
    "colab_type": "text",
    "id": "dnpsXTyjH3Im"
   },
   "source": [
    "I'll say it now and you'll hear me say it again: **in Python, everything is an object**. All Python code is an elaborate scheme for creating and manipulating objects.\n",
    "\n",
    "### line 2\n",
    "\n",
    "```python\n",
    "  def __init__(self, name):\n",
    "```\n",
    "\n",
    "All code indented under a class definition becomes an attribute of this class. In this case, we've defined a function which has become an attribute of the class.\n",
    "\n",
    "You can create **any** object in the scope of a class. A simple example:"
   ]
  },
  {
   "cell_type": "code",
   "execution_count": 5,
   "metadata": {
    "colab": {},
    "colab_type": "code",
    "id": "PkbSXgx2IEjq"
   },
   "outputs": [],
   "source": [
    "class Foobar:\n",
    "    bizbaz = 42"
   ]
  },
  {
   "cell_type": "code",
   "execution_count": 6,
   "metadata": {
    "colab": {
     "base_uri": "https://localhost:8080/",
     "height": 34
    },
    "colab_type": "code",
    "id": "6bafGt9nI1sv",
    "outputId": "a87245ca-a091-4df6-c238-dadafbb3a62a"
   },
   "outputs": [
    {
     "data": {
      "text/plain": [
       "42"
      ]
     },
     "execution_count": 6,
     "metadata": {},
     "output_type": "execute_result"
    }
   ],
   "source": [
    "Foobar.bizbaz"
   ]
  },
  {
   "cell_type": "markdown",
   "metadata": {
    "colab_type": "text",
    "id": "SZMqKqdoI3lN"
   },
   "source": [
    "Here I've created an object, ```42```, and assigned it to a variable, ```bizbaz```, which is an attribute of the class object, thus we access it using dot notation, ```Foobar.bizbaz```."
   ]
  },
  {
   "cell_type": "markdown",
   "metadata": {
    "colab_type": "text",
    "id": "oC9g0bFiJwqZ"
   },
   "source": [
    "Because **everything is an Object**, you may deduce that a function is an object:"
   ]
  },
  {
   "cell_type": "code",
   "execution_count": 7,
   "metadata": {
    "colab": {},
    "colab_type": "code",
    "id": "xNQeAZ9EKJXY"
   },
   "outputs": [],
   "source": [
    "def yell():\n",
    "    print( \"AAH\" )"
   ]
  },
  {
   "cell_type": "code",
   "execution_count": 8,
   "metadata": {
    "colab": {
     "base_uri": "https://localhost:8080/",
     "height": 34
    },
    "colab_type": "code",
    "id": "dCaAKH0rKL0n",
    "outputId": "4f9b0ebb-9b27-49b7-b8cc-b5bb060a928f"
   },
   "outputs": [
    {
     "data": {
      "text/plain": [
       "<function __main__.yell()>"
      ]
     },
     "execution_count": 8,
     "metadata": {},
     "output_type": "execute_result"
    }
   ],
   "source": [
    "# it's in the namespace\n",
    "yell"
   ]
  },
  {
   "cell_type": "code",
   "execution_count": 9,
   "metadata": {
    "colab": {
     "base_uri": "https://localhost:8080/",
     "height": 34
    },
    "colab_type": "code",
    "id": "a8DvhttvKMP_",
    "outputId": "2336ccc4-a25b-4433-c169-3582fd07698c"
   },
   "outputs": [
    {
     "data": {
      "text/plain": [
       "function"
      ]
     },
     "execution_count": 9,
     "metadata": {},
     "output_type": "execute_result"
    }
   ],
   "source": [
    "# it has a type\n",
    "type( yell )"
   ]
  },
  {
   "cell_type": "markdown",
   "metadata": {
    "colab_type": "text",
    "id": "7DkE1cEiKPJG"
   },
   "source": [
    "And because objects may be members of classes, a function may be a member of a class:"
   ]
  },
  {
   "cell_type": "code",
   "execution_count": 10,
   "metadata": {
    "colab": {},
    "colab_type": "code",
    "id": "QAi9QwnBKWBz"
   },
   "outputs": [],
   "source": [
    "class Yeller:\n",
    "    def yell():\n",
    "        print( \"AAH\" )"
   ]
  },
  {
   "cell_type": "code",
   "execution_count": 11,
   "metadata": {
    "colab": {
     "base_uri": "https://localhost:8080/",
     "height": 34
    },
    "colab_type": "code",
    "id": "MoQyirkZKhC2",
    "outputId": "2aeb87ed-accb-4353-a8f2-ece2d649280f"
   },
   "outputs": [
    {
     "data": {
      "text/plain": [
       "<function __main__.Yeller.yell()>"
      ]
     },
     "execution_count": 11,
     "metadata": {},
     "output_type": "execute_result"
    }
   ],
   "source": [
    "Yeller.yell"
   ]
  },
  {
   "cell_type": "code",
   "execution_count": 12,
   "metadata": {
    "colab": {
     "base_uri": "https://localhost:8080/",
     "height": 34
    },
    "colab_type": "code",
    "id": "fU6J_v3CKiw4",
    "outputId": "0dac8e6d-07a5-42a3-c84a-43c2616b2a27"
   },
   "outputs": [
    {
     "name": "stdout",
     "output_type": "stream",
     "text": [
      "AAH\n"
     ]
    }
   ],
   "source": [
    "Yeller.yell()"
   ]
  },
  {
   "cell_type": "markdown",
   "metadata": {
    "colab_type": "text",
    "id": "xdxxPU4uKmQz"
   },
   "source": [
    "### jumping ahead to line 8 for a moment\n",
    "\n",
    "We're comfortable instantiating an object:"
   ]
  },
  {
   "cell_type": "code",
   "execution_count": 13,
   "metadata": {
    "colab": {},
    "colab_type": "code",
    "id": "WqqyaiBrK7jA"
   },
   "outputs": [],
   "source": [
    "yeller = Yeller()"
   ]
  },
  {
   "cell_type": "markdown",
   "metadata": {
    "colab_type": "text",
    "id": "iRkSv0haLGTc"
   },
   "source": [
    "This creates a **new object**. Capital-Y ```Yeller``` is an object, and its offspring lower-case ```yeller``` is a different object."
   ]
  },
  {
   "cell_type": "code",
   "execution_count": 14,
   "metadata": {
    "colab": {
     "base_uri": "https://localhost:8080/",
     "height": 51
    },
    "colab_type": "code",
    "id": "a-EZkQf1LKRG",
    "outputId": "9f6763e6-d4c9-4fdb-9a14-4d5dfba57aeb"
   },
   "outputs": [
    {
     "name": "stdout",
     "output_type": "stream",
     "text": [
      "id of Yeller 140374648589096\n",
      "id of yeller 4355753856\n"
     ]
    }
   ],
   "source": [
    "print( \"id of Yeller %s\"%id(Yeller) )\n",
    "print( \"id of yeller %s\"%id(yeller) )"
   ]
  },
  {
   "cell_type": "markdown",
   "metadata": {
    "colab_type": "text",
    "id": "mknJGriVLcqf"
   },
   "source": [
    "And yet somehow, they **both** have an attribute called ```yell```."
   ]
  },
  {
   "cell_type": "code",
   "execution_count": 15,
   "metadata": {
    "colab": {
     "base_uri": "https://localhost:8080/",
     "height": 34
    },
    "colab_type": "code",
    "id": "8Nkc8-5hLj4K",
    "outputId": "7a67abb3-a192-4112-e40c-15b43a7a6c36"
   },
   "outputs": [
    {
     "data": {
      "text/plain": [
       "<function __main__.Yeller.yell()>"
      ]
     },
     "execution_count": 15,
     "metadata": {},
     "output_type": "execute_result"
    }
   ],
   "source": [
    "Yeller.yell"
   ]
  },
  {
   "cell_type": "code",
   "execution_count": 16,
   "metadata": {
    "colab": {
     "base_uri": "https://localhost:8080/",
     "height": 34
    },
    "colab_type": "code",
    "id": "dy11TIwkLkne",
    "outputId": "e29a7c30-55ab-4af9-bafd-8ce7b10ef22b"
   },
   "outputs": [
    {
     "data": {
      "text/plain": [
       "<bound method Yeller.yell of <__main__.Yeller object at 0x1039f8780>>"
      ]
     },
     "execution_count": 16,
     "metadata": {},
     "output_type": "execute_result"
    }
   ],
   "source": [
    "yeller.yell"
   ]
  },
  {
   "cell_type": "markdown",
   "metadata": {
    "colab_type": "text",
    "id": "c3juO9KULlTq"
   },
   "source": [
    "Huh? This is **one of the least intuitive things in Python**. \n",
    "\n",
    "* During the instantiation of a class, a **new function** is made and assigned as an attribute of the class instance (in this case, lower-case-y-```yeller```). \n",
    "* This new function is called a **bound method**.\n",
    "\n",
    "This function acts pretty much like normal, except one special behavior: **calling a bound method will automatically insert the caller as the first argument.**"
   ]
  },
  {
   "cell_type": "code",
   "execution_count": 17,
   "metadata": {
    "colab": {
     "base_uri": "https://localhost:8080/",
     "height": 34
    },
    "colab_type": "code",
    "id": "3c2cqOiwMdwj",
    "outputId": "d0b64f56-55e9-46c4-b36d-9f5dea138e54"
   },
   "outputs": [
    {
     "name": "stdout",
     "output_type": "stream",
     "text": [
      "AAH\n"
     ]
    }
   ],
   "source": [
    "Yeller.yell() #not a bound method, acts like normal"
   ]
  },
  {
   "cell_type": "code",
   "execution_count": 18,
   "metadata": {
    "colab": {
     "base_uri": "https://localhost:8080/",
     "height": 164
    },
    "colab_type": "code",
    "id": "R0ZVZirdMv3s",
    "outputId": "39fdef77-c719-4aa5-a39a-e50074ba83f0"
   },
   "outputs": [
    {
     "ename": "TypeError",
     "evalue": "yell() takes 0 positional arguments but 1 was given",
     "output_type": "error",
     "traceback": [
      "\u001b[0;31m---------------------------------------------------------------------------\u001b[0m",
      "\u001b[0;31mTypeError\u001b[0m                                 Traceback (most recent call last)",
      "\u001b[0;32m<ipython-input-18-0eef253fb9e2>\u001b[0m in \u001b[0;36m<module>\u001b[0;34m\u001b[0m\n\u001b[0;32m----> 1\u001b[0;31m \u001b[0myeller\u001b[0m\u001b[0;34m.\u001b[0m\u001b[0myell\u001b[0m\u001b[0;34m(\u001b[0m\u001b[0;34m)\u001b[0m \u001b[0;31m#bound method version of the original function; caller is inserted as first argument\u001b[0m\u001b[0;34m\u001b[0m\u001b[0;34m\u001b[0m\u001b[0m\n\u001b[0m",
      "\u001b[0;31mTypeError\u001b[0m: yell() takes 0 positional arguments but 1 was given"
     ]
    }
   ],
   "source": [
    "yeller.yell() #bound method version of the original function; caller is inserted as first argument"
   ]
  },
  {
   "cell_type": "markdown",
   "metadata": {
    "colab_type": "text",
    "id": "c--Mf5hAMwoM"
   },
   "source": [
    "In order to play nice with this behavior, we need to modify the function definition to expect this extra parameter:"
   ]
  },
  {
   "cell_type": "code",
   "execution_count": 19,
   "metadata": {
    "colab": {},
    "colab_type": "code",
    "id": "FAHsSd5DNmsE"
   },
   "outputs": [],
   "source": [
    "class Yeller:\n",
    "    def yell(self):\n",
    "        print( \"AAH\" )"
   ]
  },
  {
   "cell_type": "code",
   "execution_count": 20,
   "metadata": {
    "colab": {
     "base_uri": "https://localhost:8080/",
     "height": 34
    },
    "colab_type": "code",
    "id": "7tSJrOLFNqNF",
    "outputId": "fd68e713-919d-4e6b-cb61-035d022efe7c"
   },
   "outputs": [
    {
     "data": {
      "text/plain": [
       "<function __main__.Yeller.yell(self)>"
      ]
     },
     "execution_count": 20,
     "metadata": {},
     "output_type": "execute_result"
    }
   ],
   "source": [
    "#it's still just a function glued to the class object\n",
    "Yeller.yell"
   ]
  },
  {
   "cell_type": "code",
   "execution_count": 21,
   "metadata": {
    "colab": {
     "base_uri": "https://localhost:8080/",
     "height": 164
    },
    "colab_type": "code",
    "id": "mVvJPmhKNutc",
    "outputId": "cb0f34e5-6f4b-47df-e6f3-8c11622ae310"
   },
   "outputs": [
    {
     "ename": "TypeError",
     "evalue": "yell() missing 1 required positional argument: 'self'",
     "output_type": "error",
     "traceback": [
      "\u001b[0;31m---------------------------------------------------------------------------\u001b[0m",
      "\u001b[0;31mTypeError\u001b[0m                                 Traceback (most recent call last)",
      "\u001b[0;32m<ipython-input-21-43f19f1fd9ed>\u001b[0m in \u001b[0;36m<module>\u001b[0;34m\u001b[0m\n\u001b[1;32m      1\u001b[0m \u001b[0;31m#but now it takes a parameter\u001b[0m\u001b[0;34m\u001b[0m\u001b[0;34m\u001b[0m\u001b[0;34m\u001b[0m\u001b[0m\n\u001b[0;32m----> 2\u001b[0;31m \u001b[0mYeller\u001b[0m\u001b[0;34m.\u001b[0m\u001b[0myell\u001b[0m\u001b[0;34m(\u001b[0m\u001b[0;34m)\u001b[0m\u001b[0;34m\u001b[0m\u001b[0;34m\u001b[0m\u001b[0m\n\u001b[0m",
      "\u001b[0;31mTypeError\u001b[0m: yell() missing 1 required positional argument: 'self'"
     ]
    }
   ],
   "source": [
    "#but now it takes a parameter\n",
    "Yeller.yell()"
   ]
  },
  {
   "cell_type": "code",
   "execution_count": 22,
   "metadata": {
    "colab": {
     "base_uri": "https://localhost:8080/",
     "height": 34
    },
    "colab_type": "code",
    "id": "tSgksY9uN92h",
    "outputId": "d0183c95-5390-4691-c83e-4d2df7d15404"
   },
   "outputs": [
    {
     "name": "stdout",
     "output_type": "stream",
     "text": [
      "AAH\n"
     ]
    }
   ],
   "source": [
    "# the function body doesn't use that, so it doesn't matter what you put there\"\n",
    "Yeller.yell(\"literally anything\")"
   ]
  },
  {
   "cell_type": "code",
   "execution_count": 23,
   "metadata": {
    "colab": {
     "base_uri": "https://localhost:8080/",
     "height": 34
    },
    "colab_type": "code",
    "id": "HlrGCkTMOELT",
    "outputId": "b567e9c3-f32e-4f6a-8c86-9f1deae51318"
   },
   "outputs": [
    {
     "data": {
      "text/plain": [
       "<bound method Yeller.yell of <__main__.Yeller object at 0x103a296d8>>"
      ]
     },
     "execution_count": 23,
     "metadata": {},
     "output_type": "execute_result"
    }
   ],
   "source": [
    "# the class is instantiated and a bound method is produced and attached to the instance\n",
    "yeller = Yeller()\n",
    "yeller.yell"
   ]
  },
  {
   "cell_type": "code",
   "execution_count": 24,
   "metadata": {
    "colab": {
     "base_uri": "https://localhost:8080/",
     "height": 34
    },
    "colab_type": "code",
    "id": "bi_bTiO5OMz7",
    "outputId": "243ad6fd-eeba-440a-ecf9-fff5614a0fa3"
   },
   "outputs": [
    {
     "name": "stdout",
     "output_type": "stream",
     "text": [
      "AAH\n"
     ]
    }
   ],
   "source": [
    "# if we call it, the caller is added as the first argument, which the method/function\n",
    "# is expecting\n",
    "yeller.yell()"
   ]
  },
  {
   "cell_type": "markdown",
   "metadata": {
    "colab_type": "text",
    "id": "Vucu7lBgORaX"
   },
   "source": [
    "### ```__init__```\n",
    "\n",
    "Continuing to unravel line 2: why ```__init__```? Init is an **initializer**. A bound method with this name is called immediately after construction of the object, using any parameters passed into the class name.\n",
    "\n",
    "This actually follows a two-step process:\n",
    "1. A **constructor** ```__new__(cls)``` is called, which returns an instance of the object.\n",
    "2. A **initializer** ```__init__(self)``` is called, which operates on an instance but does not return a value."
   ]
  },
  {
   "cell_type": "code",
   "execution_count": 25,
   "metadata": {},
   "outputs": [],
   "source": [
    "class Yeller:\n",
    "    def __new__(cls):\n",
    "        print( \"construct a %s\"%cls )\n",
    "        return super(Yeller, cls).__new__(cls)\n",
    "    \n",
    "    def __init__(self):\n",
    "        print( \"initialize a %s\"%self )"
   ]
  },
  {
   "cell_type": "markdown",
   "metadata": {},
   "source": [
    "Both functions are run on instantiation:"
   ]
  },
  {
   "cell_type": "code",
   "execution_count": 26,
   "metadata": {
    "colab": {
     "base_uri": "https://localhost:8080/",
     "height": 51
    },
    "colab_type": "code",
    "id": "Zu2tDTmEO2-T",
    "outputId": "9c0b4590-7159-4011-bfbf-944d778e5bd3"
   },
   "outputs": [
    {
     "name": "stdout",
     "output_type": "stream",
     "text": [
      "construct a <class '__main__.Yeller'>\n",
      "initialize a <__main__.Yeller object at 0x103a294e0>\n"
     ]
    }
   ],
   "source": [
    "yeller = Yeller()"
   ]
  },
  {
   "cell_type": "markdown",
   "metadata": {
    "colab_type": "text",
    "id": "qYOyYGr7P2S2"
   },
   "source": [
    "It is not common to override the ```__new__``` method; you'll probably never do it."
   ]
  },
  {
   "cell_type": "markdown",
   "metadata": {
    "colab_type": "text",
    "id": "DVs_DoYKR3ni"
   },
   "source": [
    "This concludes our exploration of **line 2**.\n",
    "\n",
    "### Line 3\n",
    "\n",
    "Up until line 3:\n",
    "\n",
    "```python\n",
    "class Greeter:\n",
    "  def __init__(self, name):\n",
    "    self.name = name\n",
    "    ```\n",
    "    \n",
    "In the scope of the ```__init__``` function, make a variable with the name ```name```.\n",
    "\n",
    "Then assign the object to which that refers to the ```name``` attribute of the ```self``` object.\n",
    "\n",
    "First of all it's important to understand **these two names do not need to be the same**. This would work just as well:"
   ]
  },
  {
   "cell_type": "code",
   "execution_count": 27,
   "metadata": {
    "colab": {},
    "colab_type": "code",
    "id": "YtdJEcAJTEti"
   },
   "outputs": [],
   "source": [
    "class Greeter:\n",
    "    def __init__(self, foobar):\n",
    "        self.name = foobar\n",
    "    \n",
    "greeter = Greeter(\"some expression\")"
   ]
  },
  {
   "cell_type": "code",
   "execution_count": 28,
   "metadata": {
    "colab": {
     "base_uri": "https://localhost:8080/",
     "height": 34
    },
    "colab_type": "code",
    "id": "9gvKRkVgTEqQ",
    "outputId": "a2aedf6a-7fa5-4647-d937-285f79ed3e19"
   },
   "outputs": [
    {
     "data": {
      "text/plain": [
       "<__main__.Greeter at 0x103a29a90>"
      ]
     },
     "execution_count": 28,
     "metadata": {},
     "output_type": "execute_result"
    }
   ],
   "source": [
    "greeter"
   ]
  },
  {
   "cell_type": "markdown",
   "metadata": {
    "colab_type": "text",
    "id": "xjBWADp1SeUd"
   },
   "source": [
    "This line of code simultaneously created an attribute on the instance, and assigned a value to it. You can inspect the attributes of an instance with ```dir```:"
   ]
  },
  {
   "cell_type": "code",
   "execution_count": 29,
   "metadata": {
    "colab": {
     "base_uri": "https://localhost:8080/",
     "height": 476
    },
    "colab_type": "code",
    "id": "jmcXPy43TppV",
    "outputId": "ae3fcab7-2b9f-40a7-964e-8071911eb772"
   },
   "outputs": [
    {
     "data": {
      "text/plain": [
       "['__class__',\n",
       " '__delattr__',\n",
       " '__dict__',\n",
       " '__dir__',\n",
       " '__doc__',\n",
       " '__eq__',\n",
       " '__format__',\n",
       " '__ge__',\n",
       " '__getattribute__',\n",
       " '__gt__',\n",
       " '__hash__',\n",
       " '__init__',\n",
       " '__init_subclass__',\n",
       " '__le__',\n",
       " '__lt__',\n",
       " '__module__',\n",
       " '__ne__',\n",
       " '__new__',\n",
       " '__reduce__',\n",
       " '__reduce_ex__',\n",
       " '__repr__',\n",
       " '__setattr__',\n",
       " '__sizeof__',\n",
       " '__str__',\n",
       " '__subclasshook__',\n",
       " '__weakref__',\n",
       " 'name']"
      ]
     },
     "execution_count": 29,
     "metadata": {},
     "output_type": "execute_result"
    }
   ],
   "source": [
    "dir( greeter )"
   ]
  },
  {
   "cell_type": "markdown",
   "metadata": {
    "colab_type": "text",
    "id": "L7HfSwNSTqzL"
   },
   "source": [
    "There it is.\n",
    "\n",
    "This might seem willy-nilly to you, but Python is **extremely okay with it**. It's allowed under all circumstances:"
   ]
  },
  {
   "cell_type": "code",
   "execution_count": 30,
   "metadata": {
    "colab": {
     "base_uri": "https://localhost:8080/",
     "height": 34
    },
    "colab_type": "code",
    "id": "vBjxquqwTxnZ",
    "outputId": "78d6aa8e-657e-4e40-8d9f-b06629f27133"
   },
   "outputs": [
    {
     "data": {
      "text/plain": [
       "144"
      ]
     },
     "execution_count": 30,
     "metadata": {},
     "output_type": "execute_result"
    }
   ],
   "source": [
    "#add to the class\n",
    "Greeter.a_new_function = lambda x:x*x\n",
    "Greeter.a_new_function(12)"
   ]
  },
  {
   "cell_type": "code",
   "execution_count": 31,
   "metadata": {
    "colab": {},
    "colab_type": "code",
    "id": "l-PM08h7T6au"
   },
   "outputs": [],
   "source": [
    "#add to the instance! anywhere!\n",
    "greeter.some_new_junk = \"two weeks from everywhere\""
   ]
  },
  {
   "cell_type": "code",
   "execution_count": 32,
   "metadata": {
    "colab": {
     "base_uri": "https://localhost:8080/",
     "height": 510
    },
    "colab_type": "code",
    "id": "nQx-YS55T8HO",
    "outputId": "60dd5516-12f4-4052-97ec-b978e85bac56"
   },
   "outputs": [
    {
     "data": {
      "text/plain": [
       "['__class__',\n",
       " '__delattr__',\n",
       " '__dict__',\n",
       " '__dir__',\n",
       " '__doc__',\n",
       " '__eq__',\n",
       " '__format__',\n",
       " '__ge__',\n",
       " '__getattribute__',\n",
       " '__gt__',\n",
       " '__hash__',\n",
       " '__init__',\n",
       " '__init_subclass__',\n",
       " '__le__',\n",
       " '__lt__',\n",
       " '__module__',\n",
       " '__ne__',\n",
       " '__new__',\n",
       " '__reduce__',\n",
       " '__reduce_ex__',\n",
       " '__repr__',\n",
       " '__setattr__',\n",
       " '__sizeof__',\n",
       " '__str__',\n",
       " '__subclasshook__',\n",
       " '__weakref__',\n",
       " 'a_new_function',\n",
       " 'name',\n",
       " 'some_new_junk']"
      ]
     },
     "execution_count": 32,
     "metadata": {},
     "output_type": "execute_result"
    }
   ],
   "source": [
    "dir( greeter )"
   ]
  },
  {
   "cell_type": "markdown",
   "metadata": {
    "colab_type": "text",
    "id": "00-pao2xURY_"
   },
   "source": [
    "In particular, adding attributes to instances from inside of bound methods on that instance is one of the main ways to do object-oriented programming in Python."
   ]
  },
  {
   "cell_type": "markdown",
   "metadata": {
    "colab_type": "text",
    "id": "s0oJTtQoUrlb"
   },
   "source": [
    "### Line 4\n",
    "\n",
    "```python\n",
    "  def greet(self):\n",
    "```\n",
    "\n",
    "Define a function, which will be made into a bound method on instantiation."
   ]
  },
  {
   "cell_type": "code",
   "execution_count": 33,
   "metadata": {
    "colab": {},
    "colab_type": "code",
    "id": "MGbL6PQYWCmA"
   },
   "outputs": [],
   "source": [
    "class Greeter:\n",
    "    def __init__(self, name):\n",
    "        self.name = name\n",
    "    \n",
    "    def greet(self):pass\n",
    "\n",
    "greeter = Greeter(\"Brandon\")"
   ]
  },
  {
   "cell_type": "markdown",
   "metadata": {
    "colab_type": "text",
    "id": "srJ3LbAMWTCh"
   },
   "source": [
    "Here it is in the list of instance attributes:"
   ]
  },
  {
   "cell_type": "code",
   "execution_count": 34,
   "metadata": {
    "colab": {
     "base_uri": "https://localhost:8080/",
     "height": 493
    },
    "colab_type": "code",
    "id": "xZoAkMm1WB6R",
    "outputId": "dd5f0da8-f117-4112-b9c8-a26e96814140"
   },
   "outputs": [
    {
     "data": {
      "text/plain": [
       "['__class__',\n",
       " '__delattr__',\n",
       " '__dict__',\n",
       " '__dir__',\n",
       " '__doc__',\n",
       " '__eq__',\n",
       " '__format__',\n",
       " '__ge__',\n",
       " '__getattribute__',\n",
       " '__gt__',\n",
       " '__hash__',\n",
       " '__init__',\n",
       " '__init_subclass__',\n",
       " '__le__',\n",
       " '__lt__',\n",
       " '__module__',\n",
       " '__ne__',\n",
       " '__new__',\n",
       " '__reduce__',\n",
       " '__reduce_ex__',\n",
       " '__repr__',\n",
       " '__setattr__',\n",
       " '__sizeof__',\n",
       " '__str__',\n",
       " '__subclasshook__',\n",
       " '__weakref__',\n",
       " 'greet',\n",
       " 'name']"
      ]
     },
     "execution_count": 34,
     "metadata": {},
     "output_type": "execute_result"
    }
   ],
   "source": [
    "dir(greeter)"
   ]
  },
  {
   "cell_type": "markdown",
   "metadata": {
    "colab_type": "text",
    "id": "1ayQ1pbwWB2c"
   },
   "source": [
    "### Line 5\n",
    "\n",
    "```python\n",
    "def greet(self):\n",
    "    print( \"Hello, \" + self.name )   #<---\n",
    "```\n",
    "\n",
    "The body of the function/method ```greet``` is a single line, accessing the attribute of the instance previously set in the initializer ```__init__```. If we were to call this function/method before the initializer, it wouldn't work:"
   ]
  },
  {
   "cell_type": "code",
   "execution_count": 35,
   "metadata": {
    "colab": {},
    "colab_type": "code",
    "id": "Z5H0hEKwV98v"
   },
   "outputs": [],
   "source": [
    "class Greeter:\n",
    "    def __init__(self, name):\n",
    "        self.name = name\n",
    "    \n",
    "    def greet(self):\n",
    "        print( \"Hello, \" + self.name )"
   ]
  },
  {
   "cell_type": "code",
   "execution_count": 36,
   "metadata": {
    "colab": {
     "base_uri": "https://localhost:8080/",
     "height": 283
    },
    "colab_type": "code",
    "id": "Q0pKGw1sXCwj",
    "outputId": "b9432353-6f06-47e9-8268-346ac1afb480"
   },
   "outputs": [
    {
     "ename": "AttributeError",
     "evalue": "'Greeter' object has no attribute 'name'",
     "output_type": "error",
     "traceback": [
      "\u001b[0;31m---------------------------------------------------------------------------\u001b[0m",
      "\u001b[0;31mAttributeError\u001b[0m                            Traceback (most recent call last)",
      "\u001b[0;32m<ipython-input-36-82d5a1afcf1f>\u001b[0m in \u001b[0;36m<module>\u001b[0;34m\u001b[0m\n\u001b[1;32m      3\u001b[0m \u001b[0;34m\u001b[0m\u001b[0m\n\u001b[1;32m      4\u001b[0m \u001b[0;31m# call the method, which will fail\u001b[0m\u001b[0;34m\u001b[0m\u001b[0;34m\u001b[0m\u001b[0;34m\u001b[0m\u001b[0m\n\u001b[0;32m----> 5\u001b[0;31m \u001b[0mgreeter\u001b[0m\u001b[0;34m.\u001b[0m\u001b[0mgreet\u001b[0m\u001b[0;34m(\u001b[0m\u001b[0;34m)\u001b[0m\u001b[0;34m\u001b[0m\u001b[0;34m\u001b[0m\u001b[0m\n\u001b[0m",
      "\u001b[0;32m<ipython-input-35-1af612f70765>\u001b[0m in \u001b[0;36mgreet\u001b[0;34m(self)\u001b[0m\n\u001b[1;32m      4\u001b[0m \u001b[0;34m\u001b[0m\u001b[0m\n\u001b[1;32m      5\u001b[0m     \u001b[0;32mdef\u001b[0m \u001b[0mgreet\u001b[0m\u001b[0;34m(\u001b[0m\u001b[0mself\u001b[0m\u001b[0;34m)\u001b[0m\u001b[0;34m:\u001b[0m\u001b[0;34m\u001b[0m\u001b[0;34m\u001b[0m\u001b[0m\n\u001b[0;32m----> 6\u001b[0;31m         \u001b[0mprint\u001b[0m\u001b[0;34m(\u001b[0m \u001b[0;34m\"Hello, \"\u001b[0m \u001b[0;34m+\u001b[0m \u001b[0mself\u001b[0m\u001b[0;34m.\u001b[0m\u001b[0mname\u001b[0m \u001b[0;34m)\u001b[0m\u001b[0;34m\u001b[0m\u001b[0;34m\u001b[0m\u001b[0m\n\u001b[0m",
      "\u001b[0;31mAttributeError\u001b[0m: 'Greeter' object has no attribute 'name'"
     ]
    }
   ],
   "source": [
    "# call the constructor explicitly, to avoid calling the initializer\n",
    "greeter = Greeter.__new__(Greeter)\n",
    "\n",
    "# call the method, which will fail\n",
    "greeter.greet()"
   ]
  },
  {
   "cell_type": "markdown",
   "metadata": {
    "colab_type": "text",
    "id": "s9lyNYRZXGld"
   },
   "source": [
    "### Lines 6 and 7\n",
    "\n",
    "```python\n",
    "greeter = Greeter(\"Brandon\")\n",
    "greeter.greet()\n",
    "```\n",
    "\n",
    "Instantiate the object. When the class is **called**, it automatically activates the constructor/initializer/method-creation machinery to produce an **instance** object.\n",
    "\n",
    "Subsequently we call the bound method ```greet```, which implicitly passes the instance object in to the ```greet``` function as the first argument."
   ]
  },
  {
   "cell_type": "markdown",
   "metadata": {
    "colab_type": "text",
    "id": "orlz_sFAXuEd"
   },
   "source": [
    "## Inheritence\n",
    "\n",
    "Let's code up a class for a very general thing: a \"Speaker\". It takes a phrase at initialization, and its ```speak``` method says that phrase."
   ]
  },
  {
   "cell_type": "code",
   "execution_count": 37,
   "metadata": {
    "colab": {
     "base_uri": "https://localhost:8080/",
     "height": 34
    },
    "colab_type": "code",
    "id": "Ga837qwxZPdc",
    "outputId": "dab3fe68-e660-41a1-f80b-7181badabb13"
   },
   "outputs": [
    {
     "name": "stdout",
     "output_type": "stream",
     "text": [
      "You have been served!\n"
     ]
    }
   ],
   "source": [
    "class Speaker:\n",
    "    def __init__(self, phrase):\n",
    "        self.phrase = phrase\n",
    "    \n",
    "    def speak(self):\n",
    "        print( self.phrase )\n",
    "    \n",
    "speaker = Speaker(\"You have been served!\")\n",
    "speaker.speak()"
   ]
  },
  {
   "cell_type": "markdown",
   "metadata": {
    "colab_type": "text",
    "id": "G0FqN6Fnn2op"
   },
   "source": [
    "In Python, you can define a class by **inheriting** all the members of some other class. For example, a \"Greeter\":"
   ]
  },
  {
   "cell_type": "code",
   "execution_count": 38,
   "metadata": {
    "colab": {},
    "colab_type": "code",
    "id": "LhcjnP6ynEyJ"
   },
   "outputs": [],
   "source": [
    "class Greeter(Speaker):\n",
    "    pass\n",
    "greeter = Greeter(\"Hello, Moses\")"
   ]
  },
  {
   "cell_type": "markdown",
   "metadata": {
    "colab_type": "text",
    "id": "A_b5Xydjo02n"
   },
   "source": [
    "The class inherits the ```speak``` and ```__init__``` functions from ```Speaker```."
   ]
  },
  {
   "cell_type": "code",
   "execution_count": 39,
   "metadata": {
    "colab": {
     "base_uri": "https://localhost:8080/",
     "height": 476
    },
    "colab_type": "code",
    "id": "aqzOsiomoj_o",
    "outputId": "f1ea7b20-52f0-4f52-b963-d1570cb1f2c7"
   },
   "outputs": [
    {
     "data": {
      "text/plain": [
       "['__class__',\n",
       " '__delattr__',\n",
       " '__dict__',\n",
       " '__dir__',\n",
       " '__doc__',\n",
       " '__eq__',\n",
       " '__format__',\n",
       " '__ge__',\n",
       " '__getattribute__',\n",
       " '__gt__',\n",
       " '__hash__',\n",
       " '__init__',\n",
       " '__init_subclass__',\n",
       " '__le__',\n",
       " '__lt__',\n",
       " '__module__',\n",
       " '__ne__',\n",
       " '__new__',\n",
       " '__reduce__',\n",
       " '__reduce_ex__',\n",
       " '__repr__',\n",
       " '__setattr__',\n",
       " '__sizeof__',\n",
       " '__str__',\n",
       " '__subclasshook__',\n",
       " '__weakref__',\n",
       " 'speak']"
      ]
     },
     "execution_count": 39,
     "metadata": {},
     "output_type": "execute_result"
    }
   ],
   "source": [
    "dir( Greeter )"
   ]
  },
  {
   "cell_type": "markdown",
   "metadata": {
    "colab_type": "text",
    "id": "VRlwPt6Oo9GX"
   },
   "source": [
    "As a result, an instance acts exactly like the parent class."
   ]
  },
  {
   "cell_type": "code",
   "execution_count": 40,
   "metadata": {
    "colab": {
     "base_uri": "https://localhost:8080/",
     "height": 34
    },
    "colab_type": "code",
    "id": "UcwCgBWuow4i",
    "outputId": "532a4865-c28e-4856-d3f5-e09e06cecf30"
   },
   "outputs": [
    {
     "name": "stdout",
     "output_type": "stream",
     "text": [
      "Hello, Moses\n"
     ]
    }
   ],
   "source": [
    "greeter = Greeter(\"Hello, Moses\")\n",
    "greeter.speak()"
   ]
  },
  {
   "cell_type": "markdown",
   "metadata": {
    "colab_type": "text",
    "id": "5aiFDWQcpPju"
   },
   "source": [
    "What's the use of that? It is possible to **override** the parent function by defining a function by the same name as the parent function. For example, we can override the ```__init__``` function:"
   ]
  },
  {
   "cell_type": "code",
   "execution_count": 41,
   "metadata": {
    "colab": {},
    "colab_type": "code",
    "id": "Ga7hU6_AnKgc"
   },
   "outputs": [],
   "source": [
    "class Greeter(Speaker):\n",
    "    def __init__(self, name):\n",
    "        self.phrase = \"Hello, %s\"%name"
   ]
  },
  {
   "cell_type": "code",
   "execution_count": 42,
   "metadata": {
    "colab": {
     "base_uri": "https://localhost:8080/",
     "height": 34
    },
    "colab_type": "code",
    "id": "7yKGN-c1nS4p",
    "outputId": "f1412c40-cac2-41c8-d535-9ee1bc938a24"
   },
   "outputs": [
    {
     "name": "stdout",
     "output_type": "stream",
     "text": [
      "Hello, Brandon\n"
     ]
    }
   ],
   "source": [
    "greeter = Greeter(\"Brandon\")\n",
    "greeter.speak()"
   ]
  },
  {
   "cell_type": "markdown",
   "metadata": {
    "colab_type": "text",
    "id": "PMe9OskUnV6z"
   },
   "source": [
    "### \"has-a\" vs. \"is-a\" relationship\n",
    "\n",
    "Class inheritance is made to model **is-a** relationships, where one class is a subtype of another class. \n",
    "\n",
    "For example:\n",
    "* A **cat** is a kind of **mammal**.\n",
    "* A **circle** is a kind of **shape**.\n",
    "* A **table** is a kind of **furnature**.\n",
    "* Think of others?\n",
    "\n",
    "Contrast this with a **has-a** relationship, where a class is a container for another class.\n",
    "\n",
    "* A **cat** has **paws**.\n",
    "* A **circle** has a **radius**.\n",
    "* A **table** has **legs**.\n",
    "* Others?\n",
    "\n",
    "Whereas a **has-a** relationship is modeled by instance attributes, an **is-a** relationship is modeled with inheritence.\n",
    "\n",
    "### Modeling with inheritence\n",
    "\n",
    "Modeling has-a relationships is simple: glom an attribute onto an instance.\n",
    "\n"
   ]
  },
  {
   "cell_type": "code",
   "execution_count": 43,
   "metadata": {
    "colab": {},
    "colab_type": "code",
    "id": "ymVuHBflp8bf"
   },
   "outputs": [],
   "source": [
    "class Person:\n",
    "    pass\n",
    "\n",
    "person = Person()\n",
    "person.name = \"Brandon\"\n",
    "\n",
    "# usually from inside a bound method, but this works too"
   ]
  },
  {
   "cell_type": "markdown",
   "metadata": {
    "colab_type": "text",
    "id": "4In_0UHPvPQR"
   },
   "source": [
    "Modeling is-a relationships is one of the more philosophically challenging tasks in object-oriented programming, and there are **many** schools of thought on how to do it right.\n",
    "\n",
    "My take: there is **no one right way**. The world is complicated and any schema that represents it will be an awkward fit in some corner cases.\n",
    "\n",
    "In a word: \n",
    "* start with a general superclass\n",
    "* implement increasingly specific behavior at lower and lower inheritance levels. \n",
    "\n",
    "For example:\n",
    "\n"
   ]
  },
  {
   "cell_type": "code",
   "execution_count": 44,
   "metadata": {
    "colab": {},
    "colab_type": "code",
    "id": "4zEkT2UuwXF0"
   },
   "outputs": [],
   "source": [
    "class Shape:\n",
    "    def __init__(self):\n",
    "        raise NotImplementedError(\"Initializer not implemented.\")\n",
    "  \n",
    "    def area(self):\n",
    "        raise NotImplementedError(\"Area not implemented.\")\n",
    "\n",
    "class Circle(Shape):\n",
    "    pass\n",
    "\n",
    "class Rectangle(Shape):\n",
    "    pass\n",
    "\n",
    "class Square(Rectangle):\n",
    "    pass"
   ]
  },
  {
   "cell_type": "markdown",
   "metadata": {
    "colab_type": "text",
    "id": "jDRLLCVNy6Yd"
   },
   "source": [
    "We've stubbed out our inheritance design. Subclasses will call the superclass's initializer and methods, but as the body of those methods simply raise exceptions, the code will fail."
   ]
  },
  {
   "cell_type": "code",
   "execution_count": 45,
   "metadata": {
    "colab": {
     "base_uri": "https://localhost:8080/",
     "height": 283
    },
    "colab_type": "code",
    "id": "SiSm4QFHyiRN",
    "outputId": "67172ed1-e0b8-44f9-a46b-06992a473c15"
   },
   "outputs": [
    {
     "ename": "NotImplementedError",
     "evalue": "Initializer not implemented.",
     "output_type": "error",
     "traceback": [
      "\u001b[0;31m---------------------------------------------------------------------------\u001b[0m",
      "\u001b[0;31mNotImplementedError\u001b[0m                       Traceback (most recent call last)",
      "\u001b[0;32m<ipython-input-45-9d3d9d456fa9>\u001b[0m in \u001b[0;36m<module>\u001b[0;34m\u001b[0m\n\u001b[0;32m----> 1\u001b[0;31m \u001b[0msquare\u001b[0m \u001b[0;34m=\u001b[0m \u001b[0mSquare\u001b[0m\u001b[0;34m(\u001b[0m\u001b[0;34m)\u001b[0m\u001b[0;34m\u001b[0m\u001b[0;34m\u001b[0m\u001b[0m\n\u001b[0m",
      "\u001b[0;32m<ipython-input-44-20c0085ebded>\u001b[0m in \u001b[0;36m__init__\u001b[0;34m(self)\u001b[0m\n\u001b[1;32m      1\u001b[0m \u001b[0;32mclass\u001b[0m \u001b[0mShape\u001b[0m\u001b[0;34m:\u001b[0m\u001b[0;34m\u001b[0m\u001b[0;34m\u001b[0m\u001b[0m\n\u001b[1;32m      2\u001b[0m     \u001b[0;32mdef\u001b[0m \u001b[0m__init__\u001b[0m\u001b[0;34m(\u001b[0m\u001b[0mself\u001b[0m\u001b[0;34m)\u001b[0m\u001b[0;34m:\u001b[0m\u001b[0;34m\u001b[0m\u001b[0;34m\u001b[0m\u001b[0m\n\u001b[0;32m----> 3\u001b[0;31m         \u001b[0;32mraise\u001b[0m \u001b[0mNotImplementedError\u001b[0m\u001b[0;34m(\u001b[0m\u001b[0;34m\"Initializer not implemented.\"\u001b[0m\u001b[0;34m)\u001b[0m\u001b[0;34m\u001b[0m\u001b[0;34m\u001b[0m\u001b[0m\n\u001b[0m\u001b[1;32m      4\u001b[0m \u001b[0;34m\u001b[0m\u001b[0m\n\u001b[1;32m      5\u001b[0m     \u001b[0;32mdef\u001b[0m \u001b[0marea\u001b[0m\u001b[0;34m(\u001b[0m\u001b[0mself\u001b[0m\u001b[0;34m)\u001b[0m\u001b[0;34m:\u001b[0m\u001b[0;34m\u001b[0m\u001b[0;34m\u001b[0m\u001b[0m\n",
      "\u001b[0;31mNotImplementedError\u001b[0m: Initializer not implemented."
     ]
    }
   ],
   "source": [
    "square = Square()"
   ]
  },
  {
   "cell_type": "markdown",
   "metadata": {
    "colab_type": "text",
    "id": "rE--F7NGy3SN"
   },
   "source": [
    "We could follow through and implement ```Square``` by overriding ```__init__``` and ```area```."
   ]
  },
  {
   "cell_type": "code",
   "execution_count": 46,
   "metadata": {
    "colab": {},
    "colab_type": "code",
    "id": "K4L3rHnHyjtf"
   },
   "outputs": [],
   "source": [
    "class Square(Rectangle):\n",
    "    def __init__(self, d):\n",
    "        self.d = d\n",
    "    \n",
    "    def area(self):\n",
    "        return self.d*self.d"
   ]
  },
  {
   "cell_type": "code",
   "execution_count": 47,
   "metadata": {
    "colab": {
     "base_uri": "https://localhost:8080/",
     "height": 34
    },
    "colab_type": "code",
    "id": "15_wn_huzeO9",
    "outputId": "0956ada8-9102-40b1-d187-14cba8a3211c"
   },
   "outputs": [
    {
     "data": {
      "text/plain": [
       "144"
      ]
     },
     "execution_count": 47,
     "metadata": {},
     "output_type": "execute_result"
    }
   ],
   "source": [
    "square = Square(12)\n",
    "square.area()"
   ]
  },
  {
   "cell_type": "markdown",
   "metadata": {
    "colab_type": "text",
    "id": "fv0v7h7W0B1e"
   },
   "source": [
    "What's the use of this? The ```Shape``` implementation didn't do any **work**, it just **defined** what a function is and left all the work to implementing classes. This is called the **interface pattern**. This is useful because we can use the ```isinstance``` function to check if an instance is inherited from a given class:"
   ]
  },
  {
   "cell_type": "code",
   "execution_count": 48,
   "metadata": {
    "colab": {
     "base_uri": "https://localhost:8080/",
     "height": 34
    },
    "colab_type": "code",
    "id": "UpoBZWt7zolo",
    "outputId": "5524d067-1b39-4349-fe55-957195dd701c"
   },
   "outputs": [
    {
     "data": {
      "text/plain": [
       "True"
      ]
     },
     "execution_count": 48,
     "metadata": {},
     "output_type": "execute_result"
    }
   ],
   "source": [
    "isinstance(square, Shape)"
   ]
  },
  {
   "cell_type": "markdown",
   "metadata": {
    "colab_type": "text",
    "id": "lQ_7ZJDQ0Yrr"
   },
   "source": [
    "We may for example have a function that takes a Shape and computes its area, without caring exactly what kind of object it really is.\n",
    "\n",
    "A parent class can also have a **more general implementation** than a subclass. For example we could implement both the ```Rectangle``` and ```Square``` classes:"
   ]
  },
  {
   "cell_type": "code",
   "execution_count": 49,
   "metadata": {
    "colab": {},
    "colab_type": "code",
    "id": "R1r6jUDM0v4s"
   },
   "outputs": [],
   "source": [
    "class Rectangle(Shape):\n",
    "    def __init__(self, w, h):\n",
    "        self.w = w\n",
    "        self.h = h\n",
    "    \n",
    "    def area(self):\n",
    "        return self.w*self.h\n",
    "\n",
    "class Square(Rectangle):\n",
    "    def __init__(self, h):\n",
    "        Rectangle.__init__(self, h, h)"
   ]
  },
  {
   "cell_type": "code",
   "execution_count": 50,
   "metadata": {
    "colab": {
     "base_uri": "https://localhost:8080/",
     "height": 34
    },
    "colab_type": "code",
    "id": "R22F9xiI1P3f",
    "outputId": "0bd2877a-c444-45a5-877e-62841f19f4cd"
   },
   "outputs": [
    {
     "data": {
      "text/plain": [
       "144"
      ]
     },
     "execution_count": 50,
     "metadata": {},
     "output_type": "execute_result"
    }
   ],
   "source": [
    "s = Square(12)\n",
    "s.area()"
   ]
  },
  {
   "cell_type": "markdown",
   "metadata": {
    "colab_type": "text",
    "id": "dpLTer4f1XW-"
   },
   "source": [
    "Let's implement ```Circle``` and then put it all together:"
   ]
  },
  {
   "cell_type": "code",
   "execution_count": 51,
   "metadata": {
    "colab": {},
    "colab_type": "code",
    "id": "mzs3t5ne5G6T"
   },
   "outputs": [],
   "source": [
    "PI = 3.1415926\n",
    "\n",
    "class Shape:\n",
    "    def __init__(self):\n",
    "        raise NotImplementedError(\"Initializer not implemented.\")\n",
    "  \n",
    "    def area(self):\n",
    "        raise NotImplementedError(\"Area not implemented.\")\n",
    "\n",
    "class Circle(Shape):\n",
    "    def __init__(self, r):\n",
    "        self.r = r\n",
    "    \n",
    "    def area(self):\n",
    "        return PI*self.r**2\n",
    "\n",
    "class Rectangle(Shape):\n",
    "    def __init__(self, w, h):\n",
    "        self.w = w\n",
    "        self.h = h\n",
    "    \n",
    "    def area(self):\n",
    "        return self.w*self.h\n",
    "\n",
    "class Square(Rectangle):\n",
    "    def __init__(self, h):\n",
    "        Rectangle.__init__(self, h, h)"
   ]
  },
  {
   "cell_type": "markdown",
   "metadata": {
    "colab_type": "text",
    "id": "8xTZ6b-x5Wqy"
   },
   "source": [
    "I could make a list of shapes and find the shape of every object, even though they have different types. This is **polymorphism** in action."
   ]
  },
  {
   "cell_type": "code",
   "execution_count": 52,
   "metadata": {
    "colab": {
     "base_uri": "https://localhost:8080/",
     "height": 34
    },
    "colab_type": "code",
    "id": "BWzc6ghk5fek",
    "outputId": "c1d211ad-b807-43ff-9fac-9966e0a03470"
   },
   "outputs": [
    {
     "data": {
      "text/plain": [
       "[9, 6, 78.539815, 15.205308184000003]"
      ]
     },
     "execution_count": 52,
     "metadata": {},
     "output_type": "execute_result"
    }
   ],
   "source": [
    "shapes = [Square(3), Rectangle(3,2), Circle(5), Circle(2.2)]\n",
    "\n",
    "[x.area() for x in shapes]"
   ]
  },
  {
   "cell_type": "markdown",
   "metadata": {
    "colab_type": "text",
    "id": "xva1bfol5lfO"
   },
   "source": [
    "## Duck Typing\n",
    "\n",
    "Polymorphism is essential in statically typed programming languages, where a function or collection type might only accept instances of a **single type**.\n",
    "\n",
    "Python doesn't actually have that restriction, making polymorphism via inheritance redundant. Note that instead of the above, we could just do this:"
   ]
  },
  {
   "cell_type": "code",
   "execution_count": 53,
   "metadata": {
    "colab": {},
    "colab_type": "code",
    "id": "umu0Mepj5lBY"
   },
   "outputs": [],
   "source": [
    "PI = 3.1415926\n",
    "\n",
    "class Circle:\n",
    "    def __init__(self, r):\n",
    "        self.r = r\n",
    "    \n",
    "    def area(self):\n",
    "        return PI*self.r**2\n",
    "\n",
    "class Rectangle:\n",
    "    def __init__(self, w, h):\n",
    "        self.w = w\n",
    "        self.h = h\n",
    "    \n",
    "    def area(self):\n",
    "        return self.w*self.h\n",
    "\n",
    "class Square:\n",
    "    def __init__(self, h):\n",
    "        self.h = h\n",
    "    \n",
    "    def area(self):\n",
    "        return self.h**2"
   ]
  },
  {
   "cell_type": "code",
   "execution_count": 54,
   "metadata": {
    "colab": {
     "base_uri": "https://localhost:8080/",
     "height": 34
    },
    "colab_type": "code",
    "id": "KSpuk808667t",
    "outputId": "2743f524-5e39-4af1-d74e-955e1710599b"
   },
   "outputs": [
    {
     "data": {
      "text/plain": [
       "[9, 6, 78.539815, 15.205308184000003]"
      ]
     },
     "execution_count": 54,
     "metadata": {},
     "output_type": "execute_result"
    }
   ],
   "source": [
    "shapes = [Square(3), Rectangle(3,2), Circle(5), Circle(2.2)]\n",
    "\n",
    "[x.area() for x in shapes]"
   ]
  },
  {
   "cell_type": "markdown",
   "metadata": {
    "colab_type": "text",
    "id": "nolHgumI7A8Z"
   },
   "source": [
    "The philosophy of dynamically typed languages shifts responsibility from the user to the implementer. As a result, all a class needs to be considered a member of a type is to implement a function; the calling function can simply trust that it did so. This is called **Duck Typing**: if it walks like a duck and it quacks like a duck, it's a duck. \n",
    "\n",
    "Note that the duck-typed polymorphic code is actually shorter and easier to understand than the inheritance-polymorphic implementation, at the trivial price of re-implementing the Rectangle's area function.\n",
    "\n",
    "There's no right answer for this. It's up to you."
   ]
  },
  {
   "cell_type": "markdown",
   "metadata": {
    "colab_type": "text",
    "id": "vU7N_lbi7OCy"
   },
   "source": [
    "## Classes for Incapsulation: Separation of Concerns\n",
    "\n",
    "All of these tools:\n",
    "\n",
    "* classes\n",
    "* instantiation\n",
    "* methods\n",
    "* attributes\n",
    "* has-a modeling\n",
    "* is-a modeling\n",
    "\n",
    "exist to aid **abtraction**, by giving us means to **encapsulate** functionality inside of classes, in order to provide a **separation of concerns** between functional units.\n",
    "\n",
    "An example:"
   ]
  },
  {
   "cell_type": "code",
   "execution_count": 59,
   "metadata": {
    "colab": {
     "base_uri": "https://localhost:8080/",
     "height": 34
    },
    "colab_type": "code",
    "id": "a4JpjP0NQZ4N",
    "outputId": "e6b5c9dd-8488-4749-9867-b417474f2e55"
   },
   "outputs": [
    {
     "name": "stdout",
     "output_type": "stream",
     "text": [
      "Example Domain\n"
     ]
    }
   ],
   "source": [
    "import socket\n",
    "\n",
    "# open up a streaming byte connection to the host\n",
    "s = socket.socket(socket.AF_INET, socket.SOCK_STREAM)\n",
    "s.connect((\"www.example.org\", 80))\n",
    "\n",
    "# send three strings\n",
    "s.send(b\"GET / HTTP/1.1\\r\\n\")\n",
    "s.send(b\"Host: www.example.com\\r\\n\")\n",
    "s.send(b\"\\r\\n\")\n",
    "\n",
    "headbytes = []\n",
    "while True:\n",
    "    chunk = s.recv(1)\n",
    "    headbytes.append( chunk )\n",
    "    if b''.join( headbytes[-4:] ) == b'\\r\\n\\r\\n':\n",
    "        break\n",
    "head = b''.join(headbytes)\n",
    "\n",
    "lines = head.split(b'\\r\\n')\n",
    "\n",
    "status_line = lines[0]\n",
    "header_lines = lines[1:]\n",
    "\n",
    "headers = []\n",
    "for line in header_lines:\n",
    "    if len(line)==0:\n",
    "        continue\n",
    "    colon_index = line.index(b\":\")\n",
    "    key = line[:colon_index]\n",
    "    val = line[colon_index+2:]\n",
    "    headers.append( (key,val) )\n",
    "  \n",
    "encoding = None\n",
    "for key, val in headers:\n",
    "    if key==b\"Content-Type\":\n",
    "        charset_subkey = b\"charset=\"\n",
    "        charset_index = val.index( charset_subkey )\n",
    "        encoding = val[charset_index+len(charset_subkey):].decode(\"ascii\")\n",
    "    elif key==b\"Content-Length\":\n",
    "        content_length = int(val.decode(\"ascii\"))\n",
    "    \n",
    "content_bytes = s.recv(content_length)\n",
    "content = content_bytes.decode(encoding)\n",
    "\n",
    "start_tag = \"<title>\"\n",
    "end_tag = \"</title>\"\n",
    "start_pos = content.index(start_tag)+len(start_tag)\n",
    "end_pos = content.index(end_tag)\n",
    "\n",
    "title = content[start_pos:end_pos]\n",
    "\n",
    "print( title )"
   ]
  },
  {
   "cell_type": "markdown",
   "metadata": {
    "colab_type": "text",
    "id": "eme8rt27P5MC"
   },
   "source": [
    "### do it live"
   ]
  },
  {
   "cell_type": "code",
   "execution_count": null,
   "metadata": {
    "colab": {},
    "colab_type": "code",
    "id": "oNyCv1VQsx-R"
   },
   "outputs": [],
   "source": []
  }
 ],
 "metadata": {
  "colab": {
   "collapsed_sections": [],
   "name": "Object Oriented Programming - g88.ipynb",
   "provenance": [],
   "version": "0.3.2"
  },
  "kernelspec": {
   "display_name": "Python 3",
   "language": "python",
   "name": "python3"
  },
  "language_info": {
   "codemirror_mode": {
    "name": "ipython",
    "version": 3
   },
   "file_extension": ".py",
   "mimetype": "text/x-python",
   "name": "python",
   "nbconvert_exporter": "python",
   "pygments_lexer": "ipython3",
   "version": "3.6.8"
  }
 },
 "nbformat": 4,
 "nbformat_minor": 2
}
