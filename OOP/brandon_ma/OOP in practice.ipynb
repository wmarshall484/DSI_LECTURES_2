{
 "cells": [
  {
   "cell_type": "markdown",
   "metadata": {},
   "source": [
    "# Object Oriented Progamming in practice"
   ]
  },
  {
   "cell_type": "markdown",
   "metadata": {},
   "source": [
    "The three principle benefits of OOP are:\n",
    "\n",
    "### Encapsulation"
   ]
  },
  {
   "cell_type": "markdown",
   "metadata": {},
   "source": [
    "* The separation of interface from implementation; the benevolent hiding of information.\n",
    "* Examples:\n",
    "  * A supermarket\n",
    "    * **Implementation**: trucks, parking lot, shelves, refrigerators, stocking, cash registers, bakery, butcher, etc.\n",
    "    * **Interface**: Shopping cart & grocery checker\n",
    "  * Your teacher Brandon Martin-Anderson\n",
    "    * **Implementation**: bones, organs, skin, lungs, circulating lungs, nerves, brain; a trillion cells each as complicated as the largest factory.\n",
    "    * **Interface**: Talking; maybe email.\n",
    "  * Air travel\n",
    "    * **Implementation**: jet engines, fuel, airframes, avionics, ticketing systems, flight control, vacuuming the carpet in the airports.\n",
    "    * **Interface**: Buying a ticket, doing the boarding dance.\n",
    "  * You think of one.\n",
    "  \n",
    "Advantages: \n",
    " * specialization \n",
    "  * (you don't need to know everything about a thing to use it)\n",
    " * replaceability \n",
    "  * (you can replace or upgrade a component on the fly)."
   ]
  },
  {
   "cell_type": "markdown",
   "metadata": {},
   "source": [
    "### Polymorphism\n"
   ]
  },
  {
   "cell_type": "markdown",
   "metadata": {},
   "source": [
    "* Treating different things the same way and expecting the same type of result.\n",
    "* Examples:\n",
    "  * Cars/trucks/go-karts/tractors\n",
    "    * All have steering wheels, gas/brake pedals.\n",
    "  * Shack/house/mansions\n",
    "    * All have front doors, on which one usually knocks.\n",
    "  * Purses/backpacks/tote bags\n",
    "    * A concave place to put your stuff\n",
    "\n",
    "* Think about the suffix \"-able\"\n",
    "  * Storable\n",
    "  * Rideable\n",
    "  * Edible\n",
    "  * Climbable\n",
    "* These describe polymorphic systems of object classes"
   ]
  },
  {
   "cell_type": "markdown",
   "metadata": {},
   "source": [
    "### ~~Inheritance~~\n",
    "\n"
   ]
  },
  {
   "cell_type": "markdown",
   "metadata": {},
   "source": [
    "The most controversial and unevenly applied principle of OOP.\n",
    "\n",
    "* Things behave like specialized versions of their parents. But, like, _philosophically_.\n",
    "* Examples:\n",
    "  * Animals: move and eat and reproduce\n",
    "    * Mammals: all that, plus hair and live young\n",
    "      * Primates: all that, plus large brains, dexterous hands, reliance on sight\n",
    "        * Humans: all that, plus bipedal, large neocortex, extensive tool use, thin fur\n",
    "  * Vehicles: mechanical, carry things\n",
    "    * Motor vehicles: all that, and propelled by their own power plant\n",
    "      * Cars: all that, and four wheels, principally carry passangers\n",
    "        * Sedans: all that, and four doors, front hood, back trunk.\n",
    "\n",
    "* Advantages\n",
    "  * Built-in polymorphism.\n",
    "  * Code re-use. Sometimes.\n",
    "* Controversial\n",
    "  * Ubiquitous in Java.\n",
    "  * Optional in Python."
   ]
  },
  {
   "cell_type": "markdown",
   "metadata": {},
   "source": [
    "In practice, these principle are \n",
    "* subtle \n",
    "* complicated\n",
    "* sometimes contradictory\n",
    "* and difficult to apply\n",
    "\n",
    "The best way to learn is by examples."
   ]
  },
  {
   "cell_type": "markdown",
   "metadata": {},
   "source": [
    "## Encapsulation example: reading from the web\n",
    "\n",
    "Let's get a web site, using _functional_ idioms."
   ]
  },
  {
   "cell_type": "code",
   "execution_count": 73,
   "metadata": {},
   "outputs": [],
   "source": [
    "from urllib.request import urlopen"
   ]
  },
  {
   "cell_type": "code",
   "execution_count": 74,
   "metadata": {},
   "outputs": [],
   "source": [
    "url = \"https://www.spacejam.com/archive/spacejam/movie/jam.htm\" #example.com is down\n",
    "\n",
    "# just a function call\n",
    "content = urlopen(url).read()"
   ]
  },
  {
   "cell_type": "code",
   "execution_count": 75,
   "metadata": {},
   "outputs": [],
   "source": [
    "#look at content"
   ]
  },
  {
   "cell_type": "markdown",
   "metadata": {},
   "source": [
    "Everything in Python is an object, so we can never really escape object-oriented code."
   ]
  },
  {
   "cell_type": "code",
   "execution_count": 76,
   "metadata": {},
   "outputs": [
    {
     "data": {
      "text/plain": [
       "bytes"
      ]
     },
     "execution_count": 76,
     "metadata": {},
     "output_type": "execute_result"
    }
   ],
   "source": [
    "# content has a type\n",
    "type(content)"
   ]
  },
  {
   "cell_type": "code",
   "execution_count": 77,
   "metadata": {},
   "outputs": [
    {
     "name": "stdout",
     "output_type": "stream",
     "text": [
      "['__add__', '__class__', '__contains__', '__delattr__', '__dir__', '__doc__', '__eq__', '__format__', '__ge__', '__getattribute__', '__getitem__', '__getnewargs__', '__gt__', '__hash__', '__init__', '__init_subclass__', '__iter__', '__le__', '__len__', '__lt__', '__mod__', '__mul__', '__ne__', '__new__', '__reduce__', '__reduce_ex__', '__repr__', '__rmod__', '__rmul__', '__setattr__', '__sizeof__', '__str__', '__subclasshook__', 'capitalize', 'center', 'count', 'decode', 'endswith', 'expandtabs', 'find', 'fromhex', 'hex', 'index', 'isalnum', 'isalpha', 'isdigit', 'islower', 'isspace', 'istitle', 'isupper', 'join', 'ljust', 'lower', 'lstrip', 'maketrans', 'partition', 'replace', 'rfind', 'rindex', 'rjust', 'rpartition', 'rsplit', 'rstrip', 'split', 'splitlines', 'startswith', 'strip', 'swapcase', 'title', 'translate', 'upper', 'zfill']\n"
     ]
    }
   ],
   "source": [
    "# and attributes\n",
    "print( dir(content) )"
   ]
  },
  {
   "cell_type": "markdown",
   "metadata": {},
   "source": [
    "Here's the same code, using OOP idioms."
   ]
  },
  {
   "cell_type": "code",
   "execution_count": 78,
   "metadata": {},
   "outputs": [],
   "source": [
    "from urllib.request import Request, urlopen"
   ]
  },
  {
   "cell_type": "code",
   "execution_count": 79,
   "metadata": {},
   "outputs": [
    {
     "data": {
      "text/plain": [
       "urllib.request.Request"
      ]
     },
     "execution_count": 79,
     "metadata": {},
     "output_type": "execute_result"
    }
   ],
   "source": [
    "Request #what is this? what does the capital letter mean?"
   ]
  },
  {
   "cell_type": "code",
   "execution_count": 80,
   "metadata": {},
   "outputs": [
    {
     "data": {
      "text/plain": [
       "type"
      ]
     },
     "execution_count": 80,
     "metadata": {},
     "output_type": "execute_result"
    }
   ],
   "source": [
    "type(Request)"
   ]
  },
  {
   "cell_type": "markdown",
   "metadata": {},
   "source": [
    "Create a `Request` object. This encapsulates the **state** of an HTTP Request."
   ]
  },
  {
   "cell_type": "code",
   "execution_count": 81,
   "metadata": {},
   "outputs": [],
   "source": [
    "req = Request(\"https://www.spacejam.com/archive/spacejam/movie/jam.htm\")"
   ]
  },
  {
   "cell_type": "markdown",
   "metadata": {},
   "source": [
    "A function takes a `Request` instance, and returns an `HTTPResponse` instance."
   ]
  },
  {
   "cell_type": "code",
   "execution_count": 82,
   "metadata": {},
   "outputs": [],
   "source": [
    "resp = urlopen(req) #machinery kicks into gear here"
   ]
  },
  {
   "cell_type": "code",
   "execution_count": 83,
   "metadata": {},
   "outputs": [
    {
     "data": {
      "text/plain": [
       "<http.client.HTTPResponse at 0x105571ba8>"
      ]
     },
     "execution_count": 83,
     "metadata": {},
     "output_type": "execute_result"
    }
   ],
   "source": [
    "resp # let's look at it"
   ]
  },
  {
   "cell_type": "code",
   "execution_count": 84,
   "metadata": {},
   "outputs": [
    {
     "data": {
      "text/plain": [
       "http.client.HTTPResponse"
      ]
     },
     "execution_count": 84,
     "metadata": {},
     "output_type": "execute_result"
    }
   ],
   "source": [
    "type(resp) #what type does it have?"
   ]
  },
  {
   "cell_type": "markdown",
   "metadata": {},
   "source": [
    "The response is **not** the same thing as the contents of the web site. To get the contents, we need to explicitly call the `read()` method, in order to record the contents of the response."
   ]
  },
  {
   "cell_type": "code",
   "execution_count": 85,
   "metadata": {},
   "outputs": [],
   "source": [
    "contents = resp.read()"
   ]
  },
  {
   "cell_type": "code",
   "execution_count": 86,
   "metadata": {},
   "outputs": [
    {
     "data": {
      "text/plain": [
       "b'<html>\\n\\n\\n\\n\\n\\n\\n\\n<!-- Copyright 1996 Warner Bros. Online -->\\n\\n\\n\\n\\n\\n\\n\\n<!-- Badda Bing, Badda Boom -->\\n\\n\\n\\n\\n\\n\\n\\n<head>\\n\\n\\n\\n<!-- Google Tag Manager -->\\n<script>(function(w,d,s,l,i){w[l]=w[l]||[];w[l].push({\\'gtm.start\\':\\nnew Date().getTime(),event:\\'gtm.js\\'});var f=d.getElementsByTagName(s)[0],\\nj=d.createElement(s),dl=l!=\\'dataLayer\\'?\\'&l=\\'+l:\\'\\';j.async=true;j.src=\\n\\'https://www.googletagmanager.com/gtm.js?id=\\'+i+dl;f.parentNode.insertBefore(j,f);\\n})(window,document,\\'script\\',\\'dataLayer\\',\\'GTM-5M538Z5\\');</script>\\n<!-- End Google Tag Manager -->\\n\\n\\n\\n\\n\\n<title>Space Jam</title>\\n\\n\\n\\n<style type=\"text/css\">\\n  .footer-links {\\n    margin: 5px;\\n  }\\n</style>\\n\\n\\n\\n\\n\\n\\n\\n</head>\\n\\n\\n\\n<body bgcolor=\"#000000\" background=\"img/bg_stars.gif\" text=\"#ff0000\" link=\"#ff4c4c\" vlink=\"#ff4c4c\" alink=\"#ff4c4c\">\\n\\n\\n\\n<!-- Google Tag Manager (noscript) -->\\n<noscript><iframe src=\"https://www.googletagmanager.com/ns.html?id=GTM-5M538Z5\"\\nheight=\"0\" width=\"0\" style=\"display:none;visibility:hidden\"></iframe></noscript>\\n<!-- End Google Tag Mana'"
      ]
     },
     "execution_count": 86,
     "metadata": {},
     "output_type": "execute_result"
    }
   ],
   "source": [
    "contents[0:1000]"
   ]
  },
  {
   "cell_type": "markdown",
   "metadata": {},
   "source": [
    "**What's the good of that though?** Before we could read in one line, and now it takes four.\n",
    "\n",
    "Check this out."
   ]
  },
  {
   "cell_type": "code",
   "execution_count": 87,
   "metadata": {},
   "outputs": [
    {
     "data": {
      "text/plain": [
       "{'Content-Type': 'text/html',\n",
       " 'Content-Length': '6418',\n",
       " 'Connection': 'close',\n",
       " 'Date': 'Wed, 08 May 2019 04:14:54 GMT',\n",
       " 'Last-Modified': 'Fri, 21 Dec 2018 19:53:40 GMT',\n",
       " 'ETag': '\"c417c96c1473d2601581c685fcc782e8\"',\n",
       " 'Accept-Ranges': 'bytes',\n",
       " 'Server': 'AmazonS3',\n",
       " 'Age': '462',\n",
       " 'X-Cache': 'Hit from cloudfront',\n",
       " 'Via': '1.1 39f9e0f028321e95b5ebd1cd55661fd6.cloudfront.net (CloudFront)',\n",
       " 'X-Amz-Cf-Id': '2axZDARz7Dr7Dauy01R-ycS4b9TKufLbCmZaDRicjFRsDUZB3FccJg=='}"
      ]
     },
     "execution_count": 87,
     "metadata": {},
     "output_type": "execute_result"
    }
   ],
   "source": [
    "dict( resp.headers )"
   ]
  },
  {
   "cell_type": "code",
   "execution_count": 88,
   "metadata": {},
   "outputs": [
    {
     "data": {
      "text/plain": [
       "200"
      ]
     },
     "execution_count": 88,
     "metadata": {},
     "output_type": "execute_result"
    }
   ],
   "source": [
    "resp.status"
   ]
  },
  {
   "cell_type": "markdown",
   "metadata": {},
   "source": [
    "An HTTP response is more than just its content. There is a dictionary of metadata, called **headers**, and a **status code**.\n",
    "\n",
    "By using object-oriented idioms we're able to faithfully model the subtleties of the HTTP protocol.\n",
    "\n",
    "* An HTTP Request is assembled, containing data and metadata about the request\n",
    "* It is submitted to a remote server\n",
    "* Which returns an HTTP Response, containing data and metadata about the response\n",
    "\n",
    "In this case, each object **encapsulates** the **state** of the HTTP request and response objects."
   ]
  },
  {
   "cell_type": "markdown",
   "metadata": {},
   "source": [
    "## Polymorphism: sampling from distributions\n",
    "\n",
    "Numpy provides non-OOP functions for drawing from a distribution. Here we draw from a normal distribution:"
   ]
  },
  {
   "cell_type": "code",
   "execution_count": 94,
   "metadata": {},
   "outputs": [
    {
     "data": {
      "text/plain": [
       "3.764370324734795"
      ]
     },
     "execution_count": 94,
     "metadata": {},
     "output_type": "execute_result"
    }
   ],
   "source": [
    "import numpy as np\n",
    "\n",
    "np.random.normal(loc=15.0, scale=5.0)"
   ]
  },
  {
   "cell_type": "code",
   "execution_count": 95,
   "metadata": {},
   "outputs": [],
   "source": [
    "import scipy.stats as scs"
   ]
  },
  {
   "cell_type": "code",
   "execution_count": 98,
   "metadata": {},
   "outputs": [],
   "source": [
    "dist = scs.norm(loc=15.0, scale=5.0)"
   ]
  },
  {
   "cell_type": "code",
   "execution_count": 100,
   "metadata": {},
   "outputs": [
    {
     "data": {
      "text/plain": [
       "<scipy.stats._distn_infrastructure.rv_frozen at 0x1a15783e80>"
      ]
     },
     "execution_count": 100,
     "metadata": {},
     "output_type": "execute_result"
    }
   ],
   "source": [
    "# what's this?\n",
    "dist"
   ]
  },
  {
   "cell_type": "code",
   "execution_count": 101,
   "metadata": {},
   "outputs": [
    {
     "data": {
      "text/plain": [
       "scipy.stats._distn_infrastructure.rv_frozen"
      ]
     },
     "execution_count": 101,
     "metadata": {},
     "output_type": "execute_result"
    }
   ],
   "source": [
    "# what's its type?\n",
    "type(dist)"
   ]
  },
  {
   "cell_type": "code",
   "execution_count": 105,
   "metadata": {},
   "outputs": [
    {
     "data": {
      "text/plain": [
       "12.642759679584318"
      ]
     },
     "execution_count": 105,
     "metadata": {},
     "output_type": "execute_result"
    }
   ],
   "source": [
    "dist.rvs()"
   ]
  },
  {
   "cell_type": "code",
   "execution_count": 106,
   "metadata": {},
   "outputs": [
    {
     "data": {
      "text/plain": [
       "array([11.53658757, 16.35062282, 14.03722573, 14.20826389, 16.68980718,\n",
       "       12.42645502, 10.09311295, 17.02085888, 19.25934967, 19.62213616])"
      ]
     },
     "execution_count": 106,
     "metadata": {},
     "output_type": "execute_result"
    }
   ],
   "source": [
    "dist.rvs(10)"
   ]
  },
  {
   "cell_type": "code",
   "execution_count": 113,
   "metadata": {},
   "outputs": [
    {
     "data": {
      "image/png": "[encoded data removed]",
      "text/plain": [
       "<Figure size 432x288 with 1 Axes>"
      ]
     },
     "metadata": {
      "needs_background": "light"
     },
     "output_type": "display_data"
    }
   ],
   "source": [
    "from matplotlib import pyplot as plt\n",
    "\n",
    "plt.hist( dist.rvs(1000), bins=30 )\n",
    "plt.show()"
   ]
  },
  {
   "cell_type": "markdown",
   "metadata": {},
   "source": [
    "It does a whole lot more though."
   ]
  },
  {
   "cell_type": "code",
   "execution_count": 120,
   "metadata": {},
   "outputs": [
    {
     "data": {
      "text/plain": [
       "0.07978845608028654"
      ]
     },
     "execution_count": 120,
     "metadata": {},
     "output_type": "execute_result"
    }
   ],
   "source": [
    "dist.pdf(15) #probability distribution function"
   ]
  },
  {
   "cell_type": "code",
   "execution_count": 123,
   "metadata": {},
   "outputs": [
    {
     "data": {
      "text/plain": [
       "[<matplotlib.lines.Line2D at 0x1a168b70b8>]"
      ]
     },
     "execution_count": 123,
     "metadata": {},
     "output_type": "execute_result"
    },
    {
     "data": {
      "image/png": "[encoded data removed]",
      "text/plain": [
       "<Figure size 432x288 with 1 Axes>"
      ]
     },
     "metadata": {
      "needs_background": "light"
     },
     "output_type": "display_data"
    }
   ],
   "source": [
    "x = np.linspace(-3,35)\n",
    "y = dist.pdf(x)\n",
    "plt.plot(x,y)"
   ]
  },
  {
   "cell_type": "markdown",
   "metadata": {},
   "source": [
    "Or maybe the cumulative distribution function??"
   ]
  },
  {
   "cell_type": "code",
   "execution_count": 124,
   "metadata": {},
   "outputs": [
    {
     "data": {
      "text/plain": [
       "[<matplotlib.lines.Line2D at 0x1a16bce6a0>]"
      ]
     },
     "execution_count": 124,
     "metadata": {},
     "output_type": "execute_result"
    },
    {
     "data": {
      "image/png": "[encoded data removed]",
      "text/plain": [
       "<Figure size 432x288 with 1 Axes>"
      ]
     },
     "metadata": {
      "needs_background": "light"
     },
     "output_type": "display_data"
    }
   ],
   "source": [
    "x = np.linspace(-3,35)\n",
    "y = dist.cdf(x) #CDF!!\n",
    "plt.plot(x,y)"
   ]
  },
  {
   "cell_type": "markdown",
   "metadata": {},
   "source": [
    "`scipy.stats` provides a large set of distributions with a consistent interface.\n",
    "\n",
    "Here's a beta distribution:"
   ]
  },
  {
   "cell_type": "code",
   "execution_count": 172,
   "metadata": {},
   "outputs": [],
   "source": [
    "beta_dist = scs.beta(a=2, b=2)"
   ]
  },
  {
   "cell_type": "code",
   "execution_count": 173,
   "metadata": {},
   "outputs": [
    {
     "data": {
      "text/plain": [
       "1.5"
      ]
     },
     "execution_count": 173,
     "metadata": {},
     "output_type": "execute_result"
    }
   ],
   "source": [
    "beta_dist.pdf(0.5)"
   ]
  },
  {
   "cell_type": "code",
   "execution_count": 174,
   "metadata": {},
   "outputs": [
    {
     "data": {
      "text/plain": [
       "0.5"
      ]
     },
     "execution_count": 174,
     "metadata": {},
     "output_type": "execute_result"
    }
   ],
   "source": [
    "beta_dist.cdf(0.5)"
   ]
  },
  {
   "cell_type": "code",
   "execution_count": 175,
   "metadata": {},
   "outputs": [],
   "source": [
    "#beta_dist. #hit tab"
   ]
  },
  {
   "cell_type": "code",
   "execution_count": 178,
   "metadata": {},
   "outputs": [
    {
     "data": {
      "image/png": "[encoded data removed]",
      "text/plain": [
       "<Figure size 432x288 with 1 Axes>"
      ]
     },
     "metadata": {
      "needs_background": "light"
     },
     "output_type": "display_data"
    }
   ],
   "source": [
    "x = np.linspace(0,1)\n",
    "y = beta_dist.pdf(x)\n",
    "plt.plot(x,y)\n",
    "plt.show()"
   ]
  },
  {
   "cell_type": "code",
   "execution_count": 179,
   "metadata": {},
   "outputs": [
    {
     "data": {
      "image/png": "[encoded data removed]",
      "text/plain": [
       "<Figure size 432x288 with 1 Axes>"
      ]
     },
     "metadata": {
      "needs_background": "light"
     },
     "output_type": "display_data"
    }
   ],
   "source": [
    "x = np.linspace(0,1)\n",
    "y = beta_dist.cdf(x)\n",
    "plt.plot(x,y)\n",
    "plt.show()"
   ]
  },
  {
   "cell_type": "markdown",
   "metadata": {},
   "source": [
    "The consistent use of a single interface with many types of distribution is an example of **polymorphism** in action."
   ]
  },
  {
   "cell_type": "markdown",
   "metadata": {},
   "source": [
    "## Inheritance example: `sklearn` models"
   ]
  },
  {
   "cell_type": "code",
   "execution_count": 188,
   "metadata": {},
   "outputs": [],
   "source": [
    "from sklearn.linear_model import LinearRegression\n",
    "from sklearn.datasets import load_boston\n",
    "import pandas as pd"
   ]
  },
  {
   "cell_type": "code",
   "execution_count": 191,
   "metadata": {},
   "outputs": [],
   "source": [
    "boston_bunch = load_boston()\n",
    "boston = pd.DataFrame(boston_bunch.data, columns=boston_bunch.feature_names)"
   ]
  },
  {
   "cell_type": "code",
   "execution_count": 200,
   "metadata": {},
   "outputs": [],
   "source": [
    "boston[\"MEDV\"] = boston_bunch.target"
   ]
  },
  {
   "cell_type": "code",
   "execution_count": 205,
   "metadata": {},
   "outputs": [
    {
     "data": {
      "text/plain": [
       "<matplotlib.collections.PathCollection at 0x1a1f280080>"
      ]
     },
     "execution_count": 205,
     "metadata": {},
     "output_type": "execute_result"
    },
    {
     "data": {
      "image/png": "[encoded data removed]",
      "text/plain": [
       "<Figure size 432x288 with 1 Axes>"
      ]
     },
     "metadata": {
      "needs_background": "light"
     },
     "output_type": "display_data"
    }
   ],
   "source": [
    "plt.scatter( boston[\"RM\"], boston[\"MEDV\"] )"
   ]
  },
  {
   "cell_type": "code",
   "execution_count": null,
   "metadata": {},
   "outputs": [],
   "source": []
  }
 ],
 "metadata": {
  "kernelspec": {
   "display_name": "Python 3",
   "language": "python",
   "name": "python3"
  },
  "language_info": {
   "codemirror_mode": {
    "name": "ipython",
    "version": 3
   },
   "file_extension": ".py",
   "mimetype": "text/x-python",
   "name": "python",
   "nbconvert_exporter": "python",
   "pygments_lexer": "ipython3",
   "version": "3.6.8"
  }
 },
 "nbformat": 4,
 "nbformat_minor": 2
}
