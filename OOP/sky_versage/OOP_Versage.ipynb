{
 "cells": [
  {
   "cell_type": "markdown",
   "metadata": {},
   "source": [
    "# Object-Oriented Programming in Python\n",
    "## Skylar Versage\n",
    "## July 17, 2017\n",
    "\n",
    "## DSI Standards\n",
    "\n",
    "*   Given the code for a python class, instantiate a python object and call the methods.\n",
    "*   Design a program in object-oriented fashion.\n",
    "*   Write the python code for a simple class.\n",
    "*   Compare and contrast functional and object-oriented programming.\n",
    "*   Match key â€œmagicâ€ methods to their syntactic sugar."
   ]
  },
  {
   "cell_type": "markdown",
   "metadata": {},
   "source": [
    "## Objectives\n",
    "\n",
    "Morning objectives:\n",
    "\n",
    "*   Define key object-oriented (OO) concepts\n",
    "*   Use object-oriented approach to programming\n",
    "*   Design and implement a basic class\n",
    "*   Instantiate an object\n",
    "\n",
    "Afternoon objectives:\n",
    "\n",
    "*   List key magic methods\n",
    "*   Use basic decorators\n",
    "*   Verify code using test-driven development (TDD) and the Python debugger (PDB)"
   ]
  },
  {
   "cell_type": "markdown",
   "metadata": {},
   "source": [
    "## Agenda\n",
    "\n",
    "Today's plan:\n",
    "\n",
    "* Introduction to OOP\n",
    "*  Core OOP using Python\n",
    "*  Advanced OOP using Python\n",
    "*  Verification, unit tests, and debugging"
   ]
  },
  {
   "cell_type": "markdown",
   "metadata": {},
   "source": [
    "\n",
    "## Recommended Reading for Beginners\n",
    "\n",
    "A few helpful references, arranged by increasing difficulty:\n",
    "\n",
    "*   [Writing Idiomatic Python](https://jeffknupp.com/writing-idiomatic-python-ebook/) by Jeff Knupp\n",
    "*   [Python 3 Object-Oriented Programming](https://www.amazon.com/Python-3-Object-Oriented-Programming-Second/dp/1784398780) by Dusty Phillips\n",
    "*   [Effective Python](http://www.effectivepython.com) will help you raise your Python game\n",
    "*   [Head First Design Patterns](http://www.headfirstlabs.com/books/hfdp/)\n",
    "*   [Design Patterns: Elements of Reusable Object-Oriented Software](http://www.amazon.com/Design-Patterns-Elements-Reusable-Object-Oriented-ebook/dp/B000SEIBB8) is the canonical reference\n",
    "*   [Large-Scale C++ Software Design](http://www.amazon.com/Large-Scale-Software-Design-John-Lakos/dp/0201633620)\n",
    "\n",
    "Plus your favorite Python reference for language syntax..."
   ]
  },
  {
   "cell_type": "markdown",
   "metadata": {},
   "source": [
    "## Overview: What is OOP?\n",
    "\n",
    "Object-oriented programming is an approach that organizes data together with the code that can access it.\n",
    "\n",
    "Contrast to other programming paradigms: \n",
    "Procedural, Imperative, Functional...\n",
    "\n",
    "*[Wiki](https://en.wikipedia.org/wiki/Comparison_of_programming_paradigms)"
   ]
  },
  {
   "cell_type": "markdown",
   "metadata": {},
   "source": [
    "Object-Oriented Programming was developed to:\n",
    "\n",
    "*   Facilitate building large-scale software with many developers\n",
    "*   Promote software reuse:\n",
    "    -   Build software components (libraries)\n",
    "    -   Improved code quality by using debugged components\n",
    "*   Decouple code, improving maintainability and stability of code\n",
    "*   Promote separation of concerns\n",
    "*   Avoid common mistakes, such as forgetting to initialize or deallocate a resource"
   ]
  },
  {
   "cell_type": "markdown",
   "metadata": {},
   "source": [
    "##  Science and OOP\n",
    "\n",
    "Sometimes, OOP is not the best fit for doing science:\n",
    "\n",
    "*   Science is inherently linear:\n",
    "    -   Projects tend to build a pipeline\n",
    "    -   Most applications:\n",
    "        #.  Load data\n",
    "        #.  Compute something\n",
    "        #.  Serialize result to disk\n",
    "    -   Should be able to combine steps, similar to Unix's filters + pipes model\n",
    "*   But, need to know OOP:\n",
    "    -   To use libraries which have OO design\n",
    "    -   To build large-scale software"
   ]
  },
  {
   "cell_type": "markdown",
   "metadata": {},
   "source": [
    "##  Class vs. object/instance\n",
    "\n",
    "A *class*:\n",
    "\n",
    "*   Defines a *user-defined type*, i.e., a concept with data and actions\n",
    "*   A full class type, on par with `float`, `str`, etc.\n",
    "*   Consists of:\n",
    "    -   Attributes (data fields)\n",
    "    -   Methods (operations you can perform on the object)\n",
    "\n",
    "An *object*:\n",
    "\n",
    "*   Is an instance of a class\n",
    "*   Can create multiple instances of the same class\n",
    "*   In python, *everything is an object*"
   ]
  },
  {
   "cell_type": "code",
   "execution_count": null,
   "metadata": {
    "collapsed": true
   },
   "outputs": [],
   "source": [
    "#class\n",
    "class Dog():\n",
    "    def __init__(self, name):\n",
    "        self.name = name\n",
    "        self._hungry = False\n",
    "        \n",
    "    def walk(self):\n",
    "        self._hungry = True\n",
    "        \n",
    "#Instance/object\n",
    "ralph = Dog(name='Ralph')"
   ]
  },
  {
   "cell_type": "markdown",
   "metadata": {},
   "source": [
    "##  Example: sci-kit learn\n",
    "\n",
    "All regression models -- `LinearRegression`, `LogisticRegression`, `Lasso`, `Ridge`, etc. -- support the same interface:\n",
    "\n",
    "| Method            | Action        |\n",
    "| :------------     | :------------ |\n",
    "|`.fit(X, y)`       | Train a model |\n",
    "|`.predict(X)`      | Predict target/label for new data |\n",
    "|`.score(X, y)`     | Compute accuracy given data and true labels |\n",
    "\n",
    "Huge benefits for user:\n",
    "\n",
    "*   Use same interface for every model\n",
    "*   Minimizes cognitive load\n",
    "*   Other tools (GridSearch, Pipeline) can use them interchangeably"
   ]
  },
  {
   "cell_type": "markdown",
   "metadata": {},
   "source": [
    "##  The big three\n",
    "\n",
    "OO revolves around three key concepts:\n",
    "\n",
    "*   Encapsulation\n",
    "*   Inheritance\n",
    "*   Polymorphism"
   ]
  },
  {
   "cell_type": "markdown",
   "metadata": {},
   "source": [
    "Encapsulation forces code to manipulate an object's internal state only through method calls:\n",
    "\n",
    "*   You should always program this way, regardless of language:\n",
    "    -   Write a library to manage a resource\n",
    "    -   Only access the resource via the library\n",
    "    -   Avoid errors from unexpected interactions\n",
    "    -   This is basic 'defensive programming'\n",
    "*   **Python will not enforce encapsulation**:\n",
    "    -   Malicious code can directly access an object's data\n",
    "    -   Violating encapsulation makes code impossible to maintain\n",
    "    -   *'We are all consenting adults'*"
   ]
  },
  {
   "cell_type": "markdown",
   "metadata": {},
   "source": [
    "##  Public vs. protected vs. private\n",
    "\n",
    "Some languages (C++, Java) enforce encapsulation by making attributes public, protected, or private:\n",
    "\n",
    "*   *Public*: accessible by any external code, e.g., a public interface\n",
    "*   *Protected*: access depends on the language, typically inaccessible by external code and accessible by derived classes\n",
    "*   *Private*:  accessible only by code from the same class, but not derived classes\n",
    "*   In Python, start the name with `_` if it is private"
   ]
  },
  {
   "cell_type": "markdown",
   "metadata": {},
   "source": [
    "##  Inheritance\n",
    "\n",
    "Derive a *child* class from a *base* class:\n",
    "\n",
    "*   Base class defines general or basic behavior\n",
    "*   Child class specializes or extends behavior\n",
    "    -   Child gets all the functionality of Base class for free\n",
    "    -   Child methods override Base methods of the same name\n",
    "\n",
    "\n",
    "##  Example: Inheritance"
   ]
  },
  {
   "cell_type": "code",
   "execution_count": 2,
   "metadata": {
    "collapsed": true
   },
   "outputs": [],
   "source": [
    "class Distribution(object):\n",
    "    def logpdf(self, x):\n",
    "        return np.log(self.pdf(x))\n",
    "\n",
    "class NormalDistribution(Distribution):\n",
    "    \n",
    "    def __init__(self,x, mean, std):\n",
    "        Distribution.__init__(x)\n",
    "        \n",
    "        self.mean = mean\n",
    "        self.std = std\n",
    "    def pdf(self, x):\n",
    "        pass"
   ]
  },
  {
   "cell_type": "markdown",
   "metadata": {},
   "source": [
    "##  Polymorphism\n",
    "\n",
    "OO code enables polymorphism:\n",
    "\n",
    "*   Treat multiple objects the same if they support same interface\n",
    "*   In most languages, objects must instantiate classes with a common base class\n",
    "*   Python uses *duck-typing*:\n",
    "    -   *'If it looks like a duck and quacks like a duck, it is a duck'*\n",
    "    -   Python does *not* require that classes are related via inheritance\n",
    "    -   Polymorphism works if object instantiates a class which defines the necessary attribute or method"
   ]
  },
  {
   "cell_type": "code",
   "execution_count": 12,
   "metadata": {
    "collapsed": true
   },
   "outputs": [],
   "source": [
    "class Animal(object):\n",
    "    def make_noise(self):\n",
    "        raise NotImplementedError\n",
    "\n",
    "class Dog(Animal):\n",
    "    def __init__(self):\n",
    "        Animal.__init__(self)\n",
    "    \n",
    "    def make_noise(self):\n",
    "        print('woof')\n",
    "        \n",
    "class Cat(Animal):\n",
    "    def __init__(self):\n",
    "        Animal.__init__(self)"
   ]
  },
  {
   "cell_type": "code",
   "execution_count": 14,
   "metadata": {},
   "outputs": [
    {
     "name": "stdout",
     "output_type": "stream",
     "text": [
      "woof\n"
     ]
    },
    {
     "ename": "NotImplementedError",
     "evalue": "",
     "output_type": "error",
     "traceback": [
      "\u001b[0;31m---------------------------------------------------------------------------\u001b[0m",
      "\u001b[0;31mNotImplementedError\u001b[0m                       Traceback (most recent call last)",
      "\u001b[0;32m<ipython-input-14-187cafdad7d6>\u001b[0m in \u001b[0;36m<module>\u001b[0;34m()\u001b[0m\n\u001b[1;32m      6\u001b[0m \u001b[0;34m\u001b[0m\u001b[0m\n\u001b[1;32m      7\u001b[0m \u001b[0;31m#Cat is defaulting to the parent class\u001b[0m\u001b[0;34m\u001b[0m\u001b[0;34m\u001b[0m\u001b[0m\n\u001b[0;32m----> 8\u001b[0;31m \u001b[0mteddy\u001b[0m\u001b[0;34m.\u001b[0m\u001b[0mmake_noise\u001b[0m\u001b[0;34m(\u001b[0m\u001b[0;34m)\u001b[0m\u001b[0;34m\u001b[0m\u001b[0m\n\u001b[0m",
      "\u001b[0;32m<ipython-input-12-a3c1282354a4>\u001b[0m in \u001b[0;36mmake_noise\u001b[0;34m(self)\u001b[0m\n\u001b[1;32m      1\u001b[0m \u001b[0;32mclass\u001b[0m \u001b[0mAnimal\u001b[0m\u001b[0;34m(\u001b[0m\u001b[0mobject\u001b[0m\u001b[0;34m)\u001b[0m\u001b[0;34m:\u001b[0m\u001b[0;34m\u001b[0m\u001b[0m\n\u001b[1;32m      2\u001b[0m     \u001b[0;32mdef\u001b[0m \u001b[0mmake_noise\u001b[0m\u001b[0;34m(\u001b[0m\u001b[0mself\u001b[0m\u001b[0;34m)\u001b[0m\u001b[0;34m:\u001b[0m\u001b[0;34m\u001b[0m\u001b[0m\n\u001b[0;32m----> 3\u001b[0;31m         \u001b[0;32mraise\u001b[0m \u001b[0mNotImplementedError\u001b[0m\u001b[0;34m\u001b[0m\u001b[0m\n\u001b[0m\u001b[1;32m      4\u001b[0m \u001b[0;34m\u001b[0m\u001b[0m\n\u001b[1;32m      5\u001b[0m \u001b[0;32mclass\u001b[0m \u001b[0mDog\u001b[0m\u001b[0;34m(\u001b[0m\u001b[0mAnimal\u001b[0m\u001b[0;34m)\u001b[0m\u001b[0;34m:\u001b[0m\u001b[0;34m\u001b[0m\u001b[0m\n",
      "\u001b[0;31mNotImplementedError\u001b[0m: "
     ]
    }
   ],
   "source": [
    "ralph = Dog()\n",
    "teddy = Cat()\n",
    "\n",
    "#Dog has it's own behavior for the make_noise class\n",
    "ralph.make_noise()\n",
    "\n",
    "#Cat is defaulting to the parent class\n",
    "teddy.make_noise()"
   ]
  },
  {
   "cell_type": "markdown",
   "metadata": {},
   "source": [
    "##  More on typing\n",
    "\n",
    "Static typing:\n",
    "\n",
    "* Used in C, C++, C#, Java, Fortran, etc.\n",
    "* Types are known at compile time\n",
    "* Can be explicit or inferred\n",
    "* Can catch bugs early\n",
    "* Allows optimization based on type\n",
    "* Inheritance required for polymorphism\n",
    "\n",
    "Dynamic typing\n",
    "\n",
    "* Used in Python, Perl (mostly), Ruby, JavaScript, etc.\n",
    "* Type of an object checked at run time\n",
    "* Much more flexible\n",
    "* Easier to code simple scripts\n",
    "\n",
    "Most languages are a mixture."
   ]
  },
  {
   "cell_type": "markdown",
   "metadata": {},
   "source": [
    "##  Example of a simple class\n",
    "\n",
    "```python\n",
    "import math\n",
    "class Vector(object):\n",
    "    def __init__(self, x, y):\n",
    "        self.x = x\n",
    "        self.y = y\n",
    "\n",
    "    def norm(self):\n",
    "        return math.sqrt(self.x**2 + self.y**2)\n",
    "\n",
    "    def add(self, other):\n",
    "        return Vector(self.x+other.x, self.other.y)\n",
    "```\n",
    "\n",
    "##  `self`\n",
    "\n",
    "Use `self` to refer to an instance's own, unique data:\n",
    "\n",
    "*   I.e., use `self` for 'self-reference'\n",
    "*   Use `self` in a class's member functions to access instance-specific data\n",
    "*   Like `this` in C++\n",
    "*   Start each member function's argument list with `self`\n",
    "    -   ... unless it is a static or class member function"
   ]
  },
  {
   "cell_type": "markdown",
   "metadata": {},
   "source": [
    "# Afternoon\n",
    "\n",
    "##  Very basic OOP design\n",
    "\n",
    "Decompose your problem into nouns and verbs:\n",
    "\n",
    "*   Noun $\\Rightarrow$ implement as a class\n",
    "*   Verb $\\Rightarrow$ implement as a method\n",
    "\n",
    "Examples??"
   ]
  },
  {
   "cell_type": "markdown",
   "metadata": {},
   "source": [
    "##  Basic OO design\n",
    "\n",
    "Build classes via:\n",
    "\n",
    "*   Composition/aggregation:\n",
    "    -   Class contains an object of a class with the desired functionality\n",
    "    -   Often, just basic types: `str`, `float`, `list`, `dict`, etc.\n",
    "    -   *HasA* $\\Rightarrow$ use aggregation\n",
    "*   Inheritance\n",
    "    -   Class specializes behavior of a base class\n",
    "    -   *IsA* $\\Rightarrow$ use inheritance\n",
    "    -   In some cases, derived class uses  a *mix-in* base class only to provide functionality, not polymorphism"
   ]
  },
  {
   "cell_type": "code",
   "execution_count": 15,
   "metadata": {
    "collapsed": true
   },
   "outputs": [],
   "source": [
    "#Composition\n",
    "class UserDetails(object):\n",
    "    email = \"floguy@gmail.com\"\n",
    "    homepage = \"http://www.eflorenzano.com\"\n",
    "\n",
    "class User(object):\n",
    "    first_name = \"Eric\"\n",
    "    last_name = \"Florenzano\"\n",
    "    details = UserDetails()"
   ]
  },
  {
   "cell_type": "code",
   "execution_count": 16,
   "metadata": {
    "collapsed": true
   },
   "outputs": [],
   "source": [
    "#Inheritance\n",
    "class User(object):\n",
    "    first_name = \"Eric\"\n",
    "    last_name = \"Florenzano\"\n",
    "\n",
    "class UserDetails(User):\n",
    "    email = \"floguy@gmail.com\"\n",
    "    homepage = \"http://www.eflorenzano.com\""
   ]
  },
  {
   "cell_type": "markdown",
   "metadata": {},
   "source": [
    "##  An interface is a contract\n",
    "\n",
    "An interface is a contract between the client and the service provider:\n",
    "\n",
    "*   Isolates client from details of implementation\n",
    "*   Client must satisfy preconditions to call method/function\n",
    "*   Respect boundary of interface:\n",
    "    -   Library/module provides a service\n",
    "    -   Clients only access resource/service via library\n",
    "    -   Then bugs arise from arise from incorrect access or defect in library"
   ]
  },
  {
   "cell_type": "markdown",
   "metadata": {},
   "source": [
    "##  Testing an interface\n",
    "\n",
    "Make sure your interface is intuitive and friction-free:\n",
    "\n",
    "*   Use unit test or specification test\n",
    "    -   To verify interface is good before implementation\n",
    "    -   To exercise individual functions or objects before application is complete\n",
    "    -   Framework can setup and tear-down necessary test fixture\n",
    "*   Stub out methods using `pass`\n",
    "*   Test Driven Development (TDD):\n",
    "    -   Red/Green/Green\n",
    "    -   Write unit tests\n",
    "    -   Verify that they fail (red)\n",
    "    -   Implement code (green)\n",
    "    -   Refactor code (green)\n",
    "*   Use a unit test framework -- `unittest` (best), doctest, or `nose`"
   ]
  },
  {
   "cell_type": "markdown",
   "metadata": {},
   "source": [
    "##  Verification and debugging\n",
    "\n",
    "Verifying your code is correct, and finding and fixing bugs are critical skills:\n",
    "\n",
    "*   Just because your code runs, doesn't mean it is correct\n",
    "*   Write unit tests to exercise your code:\n",
    "    -   Ensures interfaces satisfy their contracts\n",
    "    -   Exercise key paths through code as well as corner cases\n",
    "    -   Identify any bugs introduced by future changes which break existing code\n",
    "    -   Test code before implementing entire program\n",
    "*   When unit tests fail, use a debugger to examine how code executes\n",
    "*   Both are critical skills and will save you hours of time\n",
    "*   [Verification and Validation in Scientific Computing](http://www.amazon.com/Verification-Validation-Scientific-Computing-Oberkampf/dp/0521113601/ref=pd_sim_14_2?ie=UTF8&refRID=1WP5FV5JCHXYAJAN6XAK) discusses rigorous framework to ensure correctness"
   ]
  },
  {
   "cell_type": "markdown",
   "metadata": {},
   "source": [
    "##  Separation of concerns (SoC) -- said more simply, modularize your code\n",
    "\n",
    "Try to keep 'concerns' separate:\n",
    "\n",
    "*   Use different layers for each concern\n",
    "*   A *concern* is a set of information or a resource that affects the program\n",
    "*   Keep layers distinct, i.e., write modular code\n",
    "*   Think Unix:\n",
    "    -   Each layer does one thing and does it well\n",
    "    -   Easy to combine\n",
    "*   Avoid cyclic dependencies\n",
    "*   SoC is crucial when building distributed applications"
   ]
  },
  {
   "cell_type": "markdown",
   "metadata": {},
   "source": [
    "##  Key advanced OOP features in Python\n",
    "\n",
    "Key features:\n",
    "\n",
    "*   Magic methods\n",
    "*   Decorators\n",
    "*   Class data and static methods\n",
    "*   `*args` and `**kwargs`\n",
    "*   Some popular patterns"
   ]
  },
  {
   "cell_type": "markdown",
   "metadata": {},
   "source": [
    "##  Magic methods (1/2)\n",
    "\n",
    "Add support to your class for *magic methods*:\n",
    "\n",
    "*   To support iteration\n",
    "*   To support math and relational operators\n",
    "*   To make your class callable, like a function with state (i.e., a functor)\n",
    "*   To create a new container, e.g., support `len()`\n",
    "\n",
    "See:  [magic methods](http://www.rafekettler.com/magicmethods.html)\n",
    "\n",
    "\n",
    "##  Magic methods (2/2)\n",
    "\n",
    "Popular magic methods:\n",
    "\n",
    "| Method            | Purpose         |\n",
    "| :--------------   | :-------------  |\n",
    "| `__init__`        | Constructor, i.e., initialize the class     |\n",
    "| `__str__`         | Define behavior for `str(obj)`   |\n",
    "| `__repr__`        | Define behavior for `repr(obj)`  |\n",
    "| `__len__`         | Return number of elements in object |\n",
    "| `__call__`        | Call instance like a function |\n",
    "| `__cmp__`         | Compare two objects |\n",
    "| `__iter__`        | Returns an iterable (which supports `__iter__` and `next()`) |\n",
    "\n",
    "Plus methods for order relations (==, !=, <, >), attribute access, math, type conversion,\n",
    "custom containers, context managers, ..."
   ]
  },
  {
   "cell_type": "code",
   "execution_count": 29,
   "metadata": {},
   "outputs": [
    {
     "name": "stdout",
     "output_type": "stream",
     "text": [
      "12\n",
      "\n",
      "12\n",
      "\n",
      "12\n"
     ]
    },
    {
     "data": {
      "text/plain": [
       "12"
      ]
     },
     "execution_count": 29,
     "metadata": {},
     "output_type": "execute_result"
    }
   ],
   "source": [
    "class Interger(object):\n",
    "    def __init__(self, x):\n",
    "        self.x = x\n",
    "        \n",
    "    def __add__(self, other):\n",
    "        return self.x + other.x\n",
    "    \n",
    "five = Interger(5)\n",
    "seven = Interger(7)\n",
    "\n",
    "print(five + seven)\n",
    "print('')\n",
    "print(five.__add__(seven))\n",
    "print('')\n",
    "print(Interger.__add__(five, seven))\n",
    "\n",
    "#Side note\n",
    "print(int.__add__(5, 7))"
   ]
  },
  {
   "cell_type": "markdown",
   "metadata": {},
   "source": [
    "##  Decorators\n",
    "\n",
    "A *decorator* is a function which wraps another function:\n",
    "\n",
    "*   Looks like the original function, i.e., `help(myfunc)` works correctly\n",
    "*   But, decorator code runs before and after decorated function\n",
    "*   Lecture focuses on using existing decorators\n",
    "*   To write a custom decorator:\n",
    "    -   See [Effective Python](http://www.effectivepython.com)\n",
    "    -   Use `functools.wrap` to get correct behavior\n",
    "\n",
    "\n",
    "##  Common decorators:\n",
    "\n",
    "Some common decorators are:\n",
    "\n",
    "*   `@staticmethod` -   group functions under class namespace\n",
    "*   `@classmethod`  -   can access class specific data\n",
    "*   `@property` often with `@<NameOfYourProperty>.setter`\n",
    "*   `@abstractmethod`   -   define a method in an ABC\n",
    "*   Can also find decorators for logging, argument checking, and more"
   ]
  },
  {
   "cell_type": "markdown",
   "metadata": {},
   "source": [
    "###  Static methods and data\n",
    "\n",
    "Static methods are normal functions which live in a class's namespace:\n",
    "\n",
    "*   Do not access class or instance data\n",
    "*   No `self` argument\n",
    "*   Just access by prepending name with the class or object name:"
   ]
  },
  {
   "cell_type": "code",
   "execution_count": 30,
   "metadata": {
    "collapsed": true
   },
   "outputs": [],
   "source": [
    "class PlantFromOuterSpace(object):\n",
    "    @staticmethod\n",
    "    def speak():\n",
    "        print 'Feed me, Seymour!'"
   ]
  },
  {
   "cell_type": "code",
   "execution_count": 31,
   "metadata": {},
   "outputs": [
    {
     "name": "stdout",
     "output_type": "stream",
     "text": [
      "Feed me, Seymour!\n"
     ]
    }
   ],
   "source": [
    "#No instance! \n",
    "PlantFromOuterSpace.speak()"
   ]
  },
  {
   "cell_type": "markdown",
   "metadata": {},
   "source": [
    "##  Class methods and data\n",
    "\n",
    "Can have class-specific data:\n",
    "\n",
    "*   Example: number of instances of class which have been created\n",
    "*   Decorate member function with `@classmethod`\n",
    "*   Use `cls` instead of `self` to refer class data\n",
    "*   ... except in a method which already refers to instance data"
   ]
  },
  {
   "cell_type": "code",
   "execution_count": 33,
   "metadata": {
    "collapsed": true
   },
   "outputs": [],
   "source": [
    "class ObjCounter(object):\n",
    "    obj_list = []\n",
    "    def __init__(self):\n",
    "        self.obj_list.append(self)\n",
    "\n",
    "    @classmethod\n",
    "    def n_created(cls):\n",
    "        return len(cls.obj_list)"
   ]
  },
  {
   "cell_type": "code",
   "execution_count": 34,
   "metadata": {
    "collapsed": true
   },
   "outputs": [],
   "source": [
    "oc1 = ObjCounter()\n",
    "oc2 = ObjCounter()"
   ]
  },
  {
   "cell_type": "code",
   "execution_count": 35,
   "metadata": {},
   "outputs": [
    {
     "data": {
      "text/plain": [
       "2"
      ]
     },
     "execution_count": 35,
     "metadata": {},
     "output_type": "execute_result"
    }
   ],
   "source": [
    "ObjCounter.n_created()"
   ]
  },
  {
   "cell_type": "markdown",
   "metadata": {},
   "source": [
    "##  Properties\n",
    "\n",
    "Properties look like member data:\n",
    "\n",
    "*   Actually returned by a function which has been decorated with `@property`\n",
    "*   Cannot modify the field unless you also create a setter, by decorating with `@<field_name>.setter`\n",
    "*   Gives you flexibility to change implementation later"
   ]
  },
  {
   "cell_type": "code",
   "execution_count": 36,
   "metadata": {
    "collapsed": true
   },
   "outputs": [],
   "source": [
    "class Card(object):\n",
    "    \"\"\"\n",
    "    Playing card.\n",
    "\n",
    "    Note: Class always start with a capital letter.\n",
    "    Note: New classes inherit from `object` or another class.\n",
    "    \"\"\"\n",
    "    def __init__(self, rank, suit):\n",
    "        \"\"\"Create a new playing card with a rank and a suit.\"\"\"\n",
    "        self.rank = rank\n",
    "        self.suit = suit\n",
    "\n",
    "    @property\n",
    "    def color(self):\n",
    "        suit_colors = {'S': 'black', 'C': 'black',\n",
    "                       'H': 'red', 'D': 'red'}\n",
    "        return suit_colors.get(self.suit)"
   ]
  },
  {
   "cell_type": "code",
   "execution_count": 37,
   "metadata": {
    "collapsed": true
   },
   "outputs": [],
   "source": [
    "test_card = Card('K', 'C')"
   ]
  },
  {
   "cell_type": "code",
   "execution_count": 38,
   "metadata": {},
   "outputs": [
    {
     "data": {
      "text/plain": [
       "'black'"
      ]
     },
     "execution_count": 38,
     "metadata": {},
     "output_type": "execute_result"
    }
   ],
   "source": [
    "#What will the command below return?\n"
   ]
  },
  {
   "cell_type": "markdown",
   "metadata": {},
   "source": [
    "## Arguements or `*args` and Keyword arguments `**kwargs`\n",
    "\n",
    "Shorthand to refer to a variable number of arguments:\n",
    "\n",
    "*   For regular arguments, use `*args`:\n",
    "    -   `*args` is a `list`\n",
    "    -   `def genius_func(*args):` to define a function which takes multiple arguments\n",
    "    -   Can also call function using a `list`, if you dereference\n",
    "\n",
    "*   For keyword arguments, use `**kwargs`:\n",
    "    -   `**kwargs` is a `dict`\n",
    "    -   `def genius_func(**kwargs):` to define a function which takes multiple keyword arguments\n",
    "    -   Can also call function using a `dict`, if you dereference"
   ]
  },
  {
   "cell_type": "code",
   "execution_count": 39,
   "metadata": {
    "collapsed": true
   },
   "outputs": [],
   "source": [
    "def arguements(*args):\n",
    "    print args"
   ]
  },
  {
   "cell_type": "code",
   "execution_count": 40,
   "metadata": {},
   "outputs": [
    {
     "name": "stdout",
     "output_type": "stream",
     "text": [
      "([1, 2, 3],)\n"
     ]
    }
   ],
   "source": [
    "arguements([1,2,3])"
   ]
  },
  {
   "cell_type": "code",
   "execution_count": 41,
   "metadata": {
    "collapsed": true
   },
   "outputs": [],
   "source": [
    "def we_are_lazy(a, b, c):\n",
    "    print a, b, c"
   ]
  },
  {
   "cell_type": "code",
   "execution_count": 42,
   "metadata": {},
   "outputs": [
    {
     "name": "stdout",
     "output_type": "stream",
     "text": [
      "1 2 3\n"
     ]
    }
   ],
   "source": [
    "my_arg_list = [1,2,3]\n",
    "we_are_lazy(*my_arg_list)"
   ]
  },
  {
   "cell_type": "code",
   "execution_count": 45,
   "metadata": {
    "collapsed": true
   },
   "outputs": [],
   "source": [
    "def key_word_args(**kwargs):\n",
    "    print kwargs"
   ]
  },
  {
   "cell_type": "code",
   "execution_count": 47,
   "metadata": {},
   "outputs": [
    {
     "name": "stdout",
     "output_type": "stream",
     "text": [
      "{'a': '1', 'b': 1}\n"
     ]
    }
   ],
   "source": [
    "key_word_args(a='1', b=1)"
   ]
  },
  {
   "cell_type": "code",
   "execution_count": 49,
   "metadata": {
    "collapsed": true
   },
   "outputs": [],
   "source": [
    "def we_are_more_lazy(a, b, c):\n",
    "    print a, b, c"
   ]
  },
  {
   "cell_type": "code",
   "execution_count": 53,
   "metadata": {},
   "outputs": [
    {
     "name": "stdout",
     "output_type": "stream",
     "text": [
      "1 2 3\n"
     ]
    }
   ],
   "source": [
    "#Toy around with this inputs here\n",
    "my_kwargs = {\n",
    "    'a':1,\n",
    "    'b':2,\n",
    "    'c':3\n",
    "}\n",
    "we_are_more_lazy(**my_kwargs)"
   ]
  },
  {
   "cell_type": "markdown",
   "metadata": {},
   "source": [
    "##  Using PDB\n",
    "\n",
    "When unit tests fail, use the debugger to find a bug:\n",
    "\n",
    "*   If working in ipython, will display line of code which caused exception\n",
    "*   For complex bugs, debug via PDB\n",
    "*   To depug an exception, run from ipython and run `%pdb` first\n",
    "*   To start PDB, at a specific point in your code, add:\n",
    "\n",
    "    ```python\n",
    "    import pdb\n",
    "\n",
    "    ...\n",
    "    pdb.set_trace()  # Start debugger here\n",
    "    ...\n",
    "    ```\n",
    "\n",
    "*   See PDB's `help` for details\n",
    "*   Learn how to use a debugger.  It will save you a lot of pain..."
   ]
  },
  {
   "cell_type": "markdown",
   "metadata": {},
   "source": [
    "##  Essential debugging\n",
    "\n",
    "Once you have mastered one debugger, you have mastered them all:\n",
    "\n",
    "| Command           | Action            |\n",
    "| :-------------    | :--------------   |\n",
    "| `h`               | help              |\n",
    "| `b`               | set a break-point  |\n",
    "| `where`           | show call stack   |\n",
    "| `s`               | execute next line, stepping into functions |\n",
    "| `n`               | execute next line, step over functions |\n",
    "| `c`               | continue execution |\n",
    "| `u`               | move up one stack frame |\n",
    "| `d`               | move down one stack frame |"
   ]
  },
  {
   "cell_type": "markdown",
   "metadata": {},
   "source": [
    "##  Debugging tricks\n",
    "\n",
    "Some hard-won debugging tips:\n",
    "\n",
    "*   When starting any project ask, 'How will I debug this?'\n",
    "*   Program defensively; write code which facilitates debugging\n",
    "*   If you cannot figure out what is wrong with your code, something you think is true most likely isn't\n",
    "*   Explain your problem to a rubber duck ... or friend\n",
    "*   Try to produce the smallest, reproducible test case\n",
    "*   If it used to work, ask yourself, 'What changed?'\n",
    "*   Add logging, but beware of Heisenberg: when you measure a system, you perturb it ..."
   ]
  },
  {
   "cell_type": "markdown",
   "metadata": {},
   "source": [
    "##  Summary\n",
    "\n",
    "*   What is the difference between a class and an object?\n",
    "*   What are the three key components of OOP?  How do they lead to better code?\n",
    "*   How should I implement my code if the relationship is *IsA*?    What if the relationship is *HasA*?\n",
    "*   What is duck typing?\n",
    "*   What should you do ensure an object is initialized correctly?\n",
    "*   What are magic methods?\n",
    "*   What are the benefits of TDD?  What does Red/Green/Green mean?"
   ]
  },
  {
   "cell_type": "code",
   "execution_count": null,
   "metadata": {
    "collapsed": true
   },
   "outputs": [],
   "source": []
  }
 ],
 "metadata": {
  "kernelspec": {
   "display_name": "Python 2",
   "language": "python",
   "name": "python2"
  },
  "language_info": {
   "codemirror_mode": {
    "name": "ipython",
    "version": 2
   },
   "file_extension": ".py",
   "mimetype": "text/x-python",
   "name": "python",
   "nbconvert_exporter": "python",
   "pygments_lexer": "ipython2",
   "version": "2.7.13"
  }
 },
 "nbformat": 4,
 "nbformat_minor": 2
}
