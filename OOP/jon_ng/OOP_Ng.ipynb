{
 "cells": [
  {
   "cell_type": "markdown",
   "metadata": {
    "slideshow": {
     "slide_type": "slide"
    }
   },
   "source": [
    "# Object-Oriented Programming in Python\n",
    "## Jon Ng\n",
    "## September 19, 2017\n",
    "\n",
    "## DSI Standards\n",
    "\n",
    "*   Given the code for a python class, instantiate a python object and call the methods.\n",
    "*   Design a program in object-oriented fashion.\n",
    "*   Write the python code for a simple class.\n",
    "*   Compare and contrast functional and object-oriented programming.\n",
    "*   Match key â€œmagicâ€ methods to their syntactic sugar."
   ]
  },
  {
   "cell_type": "markdown",
   "metadata": {
    "slideshow": {
     "slide_type": "slide"
    }
   },
   "source": [
    "## Objectives\n",
    "\n",
    "Morning objectives:\n",
    "\n",
    "*   Define key object-oriented (OO) concepts\n",
    "*   Use object-oriented approach to programming\n",
    "*   Design and implement a basic class\n",
    "*   Instantiate an object\n",
    "\n",
    "Afternoon objectives:\n",
    "\n",
    "*   List key magic methods\n",
    "*   Use basic decorators\n",
    "*   Verify code using test-driven development (TDD) and the Python debugger (PDB)"
   ]
  },
  {
   "cell_type": "markdown",
   "metadata": {
    "slideshow": {
     "slide_type": "slide"
    }
   },
   "source": [
    "## Agenda\n",
    "\n",
    "Today's plan:\n",
    "\n",
    "* Introduction to OOP\n",
    "*  Core OOP using Python\n",
    "*  Advanced OOP using Python\n",
    "*  Verification, unit tests, and debugging"
   ]
  },
  {
   "cell_type": "markdown",
   "metadata": {
    "slideshow": {
     "slide_type": "slide"
    }
   },
   "source": [
    "\n",
    "## Recommended Reading for Beginners\n",
    "\n",
    "A few helpful references, arranged by increasing difficulty:\n",
    "\n",
    "*   [Writing Idiomatic Python](https://jeffknupp.com/writing-idiomatic-python-ebook/) by Jeff Knupp\n",
    "*   [Python 3 Object-Oriented Programming](https://www.amazon.com/Python-3-Object-Oriented-Programming-Second/dp/1784398780) by Dusty Phillips\n",
    "*   [Effective Python](http://www.effectivepython.com) will help you raise your Python game\n",
    "*   [Head First Design Patterns](http://www.headfirstlabs.com/books/hfdp/)\n",
    "*   [Design Patterns: Elements of Reusable Object-Oriented Software](http://www.amazon.com/Design-Patterns-Elements-Reusable-Object-Oriented-ebook/dp/B000SEIBB8) is the canonical reference\n",
    "*   [Large-Scale C++ Software Design](http://www.amazon.com/Large-Scale-Software-Design-John-Lakos/dp/0201633620)\n",
    "\n",
    "Plus your favorite Python reference for language syntax..."
   ]
  },
  {
   "cell_type": "markdown",
   "metadata": {
    "slideshow": {
     "slide_type": "slide"
    }
   },
   "source": [
    "## Overview: What is OOP?\n",
    "\n",
    "Object-oriented programming is an approach that organizes data together with the code that can access it.\n",
    "\n",
    "Contrast to other programming paradigms: \n",
    "Procedural, Imperative, Functional...\n",
    "\n",
    "Imperative: No functions called, it's all you! (think of a long script)\n",
    "\n",
    "Funtional: Chain function calls (think of the map function in python)\n",
    "\n",
    "Procedural: If imperative and functional had a baby, that's what we'd get here\n",
    "\n",
    "*[Wiki](https://en.wikipedia.org/wiki/Comparison_of_programming_paradigms)"
   ]
  },
  {
   "cell_type": "markdown",
   "metadata": {
    "slideshow": {
     "slide_type": "slide"
    }
   },
   "source": [
    "Object-Oriented Programming was developed to:\n",
    "\n",
    "*   Facilitate building large-scale software with many developers\n",
    "*   Promote software reuse:\n",
    "    -   Build software components (libraries)\n",
    "    -   Improved code quality by using debugged components\n",
    "*   Decouple code, improving maintainability and stability of code\n",
    "*   Promote separation of concerns\n",
    "*   Avoid common mistakes, such as forgetting to initialize or deallocate a resource"
   ]
  },
  {
   "cell_type": "markdown",
   "metadata": {
    "slideshow": {
     "slide_type": "slide"
    }
   },
   "source": [
    "##  Science and OOP\n",
    "\n",
    "Sometimes, OOP is not the best fit for doing science:\n",
    "\n",
    "*   Science is inherently linear:\n",
    "    -   Projects tend to build a pipeline\n",
    "    -   Most applications:\n",
    "        -   Load data\n",
    "        -   Compute something\n",
    "        -   Serialize result to disk\n",
    "    -   Should be able to combine steps, similar to Unix's filters + pipes model\n",
    "*   But, need to know OOP:\n",
    "    -   To use libraries which have OO design\n",
    "    -   To build large-scale software"
   ]
  },
  {
   "cell_type": "markdown",
   "metadata": {
    "slideshow": {
     "slide_type": "slide"
    }
   },
   "source": [
    "##  Class vs. object/instance\n",
    "\n",
    "A *class*:\n",
    "\n",
    "*   Defines a *user-defined type*, i.e., a concept with data and actions\n",
    "*   A full class type, on par with `float`, `str`, etc.\n",
    "*   Consists of:\n",
    "    -   Attributes (data fields)\n",
    "    -   Methods (operations you can perform on the object)\n",
    "\n",
    "An *object*:\n",
    "\n",
    "*   Is an instance of a class\n",
    "*   Can create multiple instances of the same class\n",
    "*   In python, *everything is an object*"
   ]
  },
  {
   "cell_type": "code",
   "execution_count": null,
   "metadata": {
    "collapsed": true,
    "slideshow": {
     "slide_type": "slide"
    }
   },
   "outputs": [],
   "source": [
    "#class\n",
    "class Dog():\n",
    "    def __init__(self, name):\n",
    "        self.name = name\n",
    "        self._hungry = False\n",
    "        \n",
    "    def walk(self):\n",
    "        self._hungry = True\n",
    "        \n",
    "#Instance/object\n",
    "ralph = Dog(name='Ralph')"
   ]
  },
  {
   "cell_type": "markdown",
   "metadata": {
    "slideshow": {
     "slide_type": "slide"
    }
   },
   "source": [
    "##  Example: sci-kit learn\n",
    "\n",
    "All regression models -- `LinearRegression`, `LogisticRegression`, `Lasso`, `Ridge`, etc. -- support the same interface:\n",
    "\n",
    "| Method            | Action        |\n",
    "| :------------     | :------------ |\n",
    "|`.fit(X, y)`       | Train a model |\n",
    "|`.predict(X)`      | Predict target/label for new data |\n",
    "|`.score(X, y)`     | Compute accuracy given data and true labels |\n",
    "\n",
    "Huge benefits for user:\n",
    "\n",
    "*   Use same interface for every model\n",
    "*   Minimizes cognitive load\n",
    "*   Other tools (GridSearch, Pipeline) can use them interchangeably"
   ]
  },
  {
   "cell_type": "markdown",
   "metadata": {
    "slideshow": {
     "slide_type": "slide"
    }
   },
   "source": [
    "##  The big three\n",
    "\n",
    "OO revolves around three key concepts:\n",
    "\n",
    "*   Encapsulation\n",
    "*   Inheritance\n",
    "*   Polymorphism"
   ]
  },
  {
   "cell_type": "markdown",
   "metadata": {
    "slideshow": {
     "slide_type": "slide"
    }
   },
   "source": [
    "# Encapsulation\n",
    "\n",
    "Encapsulation forces code to manipulate an object's internal state only through method calls:\n",
    "\n",
    "*   You should always program this way, regardless of language:\n",
    "    -   Write a library to manage a resource\n",
    "    -   Only access the resource via the library\n",
    "    -   Avoid errors from unexpected interactions\n",
    "    -   This is basic 'defensive programming'\n",
    "*   **Python will not enforce encapsulation**:\n",
    "    -   Malicious code can directly access an object's data\n",
    "    -   Violating encapsulation makes code impossible to maintain\n",
    "    -   *'We are all consenting adults'*"
   ]
  },
  {
   "cell_type": "markdown",
   "metadata": {
    "slideshow": {
     "slide_type": "slide"
    }
   },
   "source": [
    "##  Public vs. protected vs. private\n",
    "\n",
    "Some languages (C++, Java) enforce encapsulation by making attributes public, protected, or private:\n",
    "\n",
    "*   *Public*: accessible by any external code, e.g., a public interface\n",
    "*   *Protected*: access depends on the language, typically inaccessible by external code and accessible by derived classes\n",
    "*   *Private*:  accessible only by code from the same class, but not derived classes\n",
    "*   In Python, start the name with `_` if it is private"
   ]
  },
  {
   "cell_type": "markdown",
   "metadata": {
    "slideshow": {
     "slide_type": "slide"
    }
   },
   "source": [
    "##  Inheritance\n",
    "\n",
    "Derive a *child* class from a *base* class:\n",
    "\n",
    "*   Base class defines general or basic behavior\n",
    "*   Child class specializes or extends behavior\n",
    "    -   Child gets all the functionality of Base class for free\n",
    "    -   Child methods override Base methods of the same name\n",
    "\n",
    "\n",
    "##  Example: Inheritance"
   ]
  },
  {
   "cell_type": "code",
   "execution_count": 70,
   "metadata": {
    "collapsed": true,
    "slideshow": {
     "slide_type": "slide"
    }
   },
   "outputs": [],
   "source": [
    "class Polygon(object):\n",
    "    def __init__(self, no_of_sides):\n",
    "        self.n = no_of_sides\n",
    "        self.sides = [0 for i in range(no_of_sides)]\n",
    "\n",
    "    def inputSides(self):\n",
    "        self.sides = [float(input(\"Enter side \"+str(i+1)+\" : \")) for i in range(self.n)]\n",
    "\n",
    "    def dispSides(self):\n",
    "        for i in range(self.n):\n",
    "            print(\"Side\",i+1,\"is\",self.sides[i])"
   ]
  },
  {
   "cell_type": "code",
   "execution_count": 71,
   "metadata": {
    "collapsed": false,
    "slideshow": {
     "slide_type": "slide"
    }
   },
   "outputs": [
    {
     "name": "stdout",
     "output_type": "stream",
     "text": [
      "Enter side 1 : 1\n",
      "Enter side 2 : 1\n",
      "Enter side 3 : 1\n",
      "('Side', 1, 'is', 1.0)\n",
      "('Side', 2, 'is', 1.0)\n",
      "('Side', 3, 'is', 1.0)\n"
     ]
    }
   ],
   "source": [
    "p = Polygon(3)\n",
    "\n",
    "p.inputSides()\n",
    "# Enter side 1 : 3\n",
    "# Enter side 2 : 5\n",
    "# Enter side 3 : 4\n",
    "\n",
    "p.dispSides()\n",
    "# Side 1 is 3.0\n",
    "# Side 2 is 5.0\n",
    "# Side 3 is 4.0"
   ]
  },
  {
   "cell_type": "code",
   "execution_count": null,
   "metadata": {
    "collapsed": true
   },
   "outputs": [],
   "source": []
  },
  {
   "cell_type": "code",
   "execution_count": 79,
   "metadata": {
    "collapsed": false,
    "slideshow": {
     "slide_type": "slide"
    }
   },
   "outputs": [],
   "source": [
    "class Triangle(Polygon):\n",
    "    def __init__(self):\n",
    "        Polygon.__init__(self, 3)\n",
    "#         super(Triangle, self).__init__(3)\n",
    "    \n",
    "    def findArea(self):\n",
    "        a, b, c = self.sides\n",
    "        # calculate the semi-perimeter\n",
    "        s = (a + b + c) / 2\n",
    "        area = (s*(s-a)*(s-b)*(s-c)) ** 0.5\n",
    "        print('The area of the triangle is %0.2f' %area)"
   ]
  },
  {
   "cell_type": "code",
   "execution_count": 80,
   "metadata": {
    "collapsed": false,
    "slideshow": {
     "slide_type": "slide"
    }
   },
   "outputs": [
    {
     "name": "stdout",
     "output_type": "stream",
     "text": [
      "Enter side 1 : 1\n",
      "Enter side 2 : 1\n",
      "Enter side 3 : 1\n",
      "('Side', 1, 'is', 1.0)\n",
      "('Side', 2, 'is', 1.0)\n",
      "('Side', 3, 'is', 1.0)\n",
      "The area of the triangle is 0.43\n"
     ]
    }
   ],
   "source": [
    "t = Triangle()\n",
    "\n",
    "t.inputSides()\n",
    "# Enter side 1 : 3\n",
    "# Enter side 2 : 5\n",
    "# Enter side 3 : 4\n",
    "\n",
    "t.dispSides()\n",
    "# Side 1 is 3.0\n",
    "# Side 2 is 5.0\n",
    "# Side 3 is 4.0\n",
    "\n",
    "t.findArea()\n",
    "# The area of the triangle is 6.00"
   ]
  },
  {
   "cell_type": "code",
   "execution_count": 81,
   "metadata": {
    "collapsed": false,
    "slideshow": {
     "slide_type": "slide"
    }
   },
   "outputs": [
    {
     "name": "stdout",
     "output_type": "stream",
     "text": [
      "True\n",
      "True\n",
      "False\n",
      "True\n"
     ]
    }
   ],
   "source": [
    "print isinstance(t,Triangle)\n",
    "\n",
    "print isinstance(t,Polygon)\n",
    "\n",
    "print isinstance(t,int)\n",
    "\n",
    "print isinstance(t,object)\n"
   ]
  },
  {
   "cell_type": "code",
   "execution_count": 82,
   "metadata": {
    "collapsed": false,
    "slideshow": {
     "slide_type": "slide"
    }
   },
   "outputs": [
    {
     "name": "stdout",
     "output_type": "stream",
     "text": [
      "False\n",
      "True\n",
      "True\n"
     ]
    }
   ],
   "source": [
    "print issubclass(Polygon, Triangle)\n",
    "\n",
    "print issubclass(Triangle, Polygon)\n",
    "\n",
    "print issubclass(bool, int) #What?!\n"
   ]
  },
  {
   "cell_type": "markdown",
   "metadata": {
    "slideshow": {
     "slide_type": "slide"
    }
   },
   "source": [
    "##  Polymorphism\n",
    "\n",
    "OO code enables polymorphism:\n",
    "\n",
    "*   Treat multiple objects the same if they support same interface\n",
    "*   In most languages, objects must instantiate classes with a common base class\n",
    "*   Python uses *duck-typing*:\n",
    "    -   *'If it looks like a duck and quacks like a duck, it is a duck'*\n",
    "    -   Polymorphism works if object instantiates a class which defines the necessary attribute or method"
   ]
  },
  {
   "cell_type": "code",
   "execution_count": 89,
   "metadata": {
    "collapsed": false
   },
   "outputs": [
    {
     "name": "stdout",
     "output_type": "stream",
     "text": [
      "15\n"
     ]
    }
   ],
   "source": [
    "A = 5\n",
    "B = 10\n",
    "print A + B\n"
   ]
  },
  {
   "cell_type": "code",
   "execution_count": 90,
   "metadata": {
    "collapsed": false
   },
   "outputs": [
    {
     "name": "stdout",
     "output_type": "stream",
     "text": [
      "Galvanize\n"
     ]
    }
   ],
   "source": [
    "A = \"Gal\"\n",
    "B = \"vanize\"\n",
    "print A + B"
   ]
  },
  {
   "cell_type": "code",
   "execution_count": 97,
   "metadata": {
    "collapsed": false
   },
   "outputs": [
    {
     "name": "stdout",
     "output_type": "stream",
     "text": [
      "20\n",
      "hello hello hello hello hello hello hello hello hello hello \n"
     ]
    }
   ],
   "source": [
    "print(2*10)\n",
    "print(\"hello \" * 10)"
   ]
  },
  {
   "cell_type": "markdown",
   "metadata": {},
   "source": [
    "The same operation or function results in different behaviors depending on the type of data it is given"
   ]
  },
  {
   "cell_type": "code",
   "execution_count": 98,
   "metadata": {
    "collapsed": true
   },
   "outputs": [],
   "source": [
    "class Animal(object):\n",
    "    def make_noise(self):\n",
    "#         print \"generic noise\"\n",
    "        raise NotImplementedError\n",
    "\n",
    "class Dog(Animal):\n",
    "    def __init__(self):\n",
    "        Animal.__init__(self)\n",
    "    \n",
    "    def make_noise(self):\n",
    "        print 'woof'\n",
    "        \n",
    "class Cat(Animal):\n",
    "    def __init__(self):\n",
    "        Animal.__init__(self)\n",
    "        \n",
    "    def make_noise(self):\n",
    "        print 'meow'\n",
    "        \n",
    "class Unicorn(Animal):\n",
    "    def __init__(self):\n",
    "        Animal.__init__(self)"
   ]
  },
  {
   "cell_type": "code",
   "execution_count": 99,
   "metadata": {
    "collapsed": false
   },
   "outputs": [
    {
     "name": "stdout",
     "output_type": "stream",
     "text": [
      "woof\n",
      "meow\n"
     ]
    },
    {
     "ename": "NotImplementedError",
     "evalue": "",
     "output_type": "error",
     "traceback": [
      "\u001b[0;31m---------------------------------------------------------------------------\u001b[0m",
      "\u001b[0;31mNotImplementedError\u001b[0m                       Traceback (most recent call last)",
      "\u001b[0;32m<ipython-input-99-b0d3955e348a>\u001b[0m in \u001b[0;36m<module>\u001b[0;34m()\u001b[0m\n\u001b[1;32m     10\u001b[0m \u001b[0;34m\u001b[0m\u001b[0m\n\u001b[1;32m     11\u001b[0m \u001b[0;31m#Unicorn has it's own behavior for the make_noise class\u001b[0m\u001b[0;34m\u001b[0m\u001b[0;34m\u001b[0m\u001b[0m\n\u001b[0;32m---> 12\u001b[0;31m \u001b[0mcharlie\u001b[0m\u001b[0;34m.\u001b[0m\u001b[0mmake_noise\u001b[0m\u001b[0;34m(\u001b[0m\u001b[0;34m)\u001b[0m\u001b[0;34m\u001b[0m\u001b[0m\n\u001b[0m\u001b[1;32m     13\u001b[0m \u001b[0;34m\u001b[0m\u001b[0m\n\u001b[1;32m     14\u001b[0m \u001b[0;31m# same method behaves *differently*, but exactly as intended\u001b[0m\u001b[0;34m\u001b[0m\u001b[0;34m\u001b[0m\u001b[0m\n",
      "\u001b[0;32m<ipython-input-98-1a6e84308595>\u001b[0m in \u001b[0;36mmake_noise\u001b[0;34m(self)\u001b[0m\n\u001b[1;32m      2\u001b[0m     \u001b[0;32mdef\u001b[0m \u001b[0mmake_noise\u001b[0m\u001b[0;34m(\u001b[0m\u001b[0mself\u001b[0m\u001b[0;34m)\u001b[0m\u001b[0;34m:\u001b[0m\u001b[0;34m\u001b[0m\u001b[0m\n\u001b[1;32m      3\u001b[0m \u001b[0;31m#         print \"generic noise\"\u001b[0m\u001b[0;34m\u001b[0m\u001b[0;34m\u001b[0m\u001b[0m\n\u001b[0;32m----> 4\u001b[0;31m         \u001b[0;32mraise\u001b[0m \u001b[0mNotImplementedError\u001b[0m\u001b[0;34m\u001b[0m\u001b[0m\n\u001b[0m\u001b[1;32m      5\u001b[0m \u001b[0;34m\u001b[0m\u001b[0m\n\u001b[1;32m      6\u001b[0m \u001b[0;32mclass\u001b[0m \u001b[0mDog\u001b[0m\u001b[0;34m(\u001b[0m\u001b[0mAnimal\u001b[0m\u001b[0;34m)\u001b[0m\u001b[0;34m:\u001b[0m\u001b[0;34m\u001b[0m\u001b[0m\n",
      "\u001b[0;31mNotImplementedError\u001b[0m: "
     ]
    }
   ],
   "source": [
    "ralph = Dog()\n",
    "teddy = Cat()\n",
    "charlie = Unicorn()\n",
    "\n",
    "#Dog has it's own behavior for the make_noise class\n",
    "ralph.make_noise()\n",
    "\n",
    "#Cat is defaulting to the parent class\n",
    "teddy.make_noise()\n",
    "\n",
    "#Unicorn has it's own behavior for the make_noise class\n",
    "charlie.make_noise()\n",
    "\n",
    "# same method behaves *differently*, but exactly as intended"
   ]
  },
  {
   "cell_type": "markdown",
   "metadata": {},
   "source": [
    "##  More on typing\n",
    "\n",
    "* Source code must be compiled into machine code in order to become and executable program. This compilation process is referred to as *compile time*. A compiled program can be opened and run by a user. When an application is running, it is called *runtime*.\n",
    "\n",
    "* Dynamically-typed languages perform type checking at runtime, while statically typed languages perform type checking at compile time. This means that scripts written in dynamically-typed languages can compile even if they contain errors that will prevent the script from running properly (if at all). If a script written in a statically-typed language contains errors, it will fail to compile until the errors have been fixed.\n",
    "\n",
    "* Statically-typed languages require you to declare the data types of your variables before you use them, while dynamically-typed languages do not.\n",
    "\n",
    "\n",
    "\n",
    "Static typing:\n",
    "\n",
    "* Used in C, C++, C#, Java, Fortran, etc.\n",
    "* Types are known at compile time\n",
    "* Can be explicit or inferred\n",
    "* Can catch bugs early\n",
    "* Allows optimization based on type\n",
    "* Inheritance required for polymorphism\n",
    "\n",
    "Dynamic typing\n",
    "\n",
    "* Used in Python, Perl (mostly), Ruby, JavaScript, etc.\n",
    "* Type of an object checked at run time\n",
    "* Much more flexible\n",
    "* Easier to code simple scripts\n",
    "\n"
   ]
  },
  {
   "cell_type": "markdown",
   "metadata": {},
   "source": [
    "##  Example of a simple class\n",
    "\n",
    "```python\n",
    "import math\n",
    "class Vector(object):\n",
    "    def __init__(self, x, y):\n",
    "        self.x = x\n",
    "        self.y = y\n",
    "\n",
    "    def norm(self):\n",
    "        return math.sqrt(self.x**2 + self.y**2)\n",
    "\n",
    "    def add(self, other):\n",
    "        return Vector(self.x+other.x, self.other.y)\n",
    "        \n",
    "v1 = Vector(2,3)\n",
    "\n",
    "v1.norm() == Vector.norm(v1)\n",
    "```\n",
    "\n",
    "##  `self`\n",
    "\n",
    "Use `self` to refer to an instance's own, unique data:\n",
    "\n",
    "*   I.e., use `self` for 'self-reference'\n",
    "*   Use `self` in a class's member functions to access instance-specific data\n",
    "*   Like `this` in C++\n",
    "*   Start each member function's argument list with `self`\n",
    "    -   ... unless it is a static or class member function"
   ]
  },
  {
   "cell_type": "markdown",
   "metadata": {},
   "source": [
    "# Afternoon\n",
    "\n",
    "##  Very basic OOP design\n",
    "\n",
    "Decompose your problem into nouns and verbs:\n",
    "\n",
    "*   Noun $\\Rightarrow$ implement as a class\n",
    "*   Verb $\\Rightarrow$ implement as a method\n",
    "\n",
    "Examples??"
   ]
  },
  {
   "cell_type": "markdown",
   "metadata": {},
   "source": [
    "##  Basic OO design\n",
    "\n",
    "Build classes via:\n",
    "\n",
    "*   Composition/aggregation:\n",
    "    -   Class contains an object of a class with the desired functionality\n",
    "    -   Often, just basic types: `str`, `float`, `list`, `dict`, etc.\n",
    "    -   *HasA* $\\Rightarrow$ use aggregation\n",
    "*   Inheritance\n",
    "    -   Class specializes behavior of a base class\n",
    "    -   *IsA* $\\Rightarrow$ use inheritance\n",
    "    -   In some cases, derived class uses  a *mix-in* base class only to provide functionality, not polymorphism"
   ]
  },
  {
   "cell_type": "code",
   "execution_count": 114,
   "metadata": {
    "collapsed": false
   },
   "outputs": [],
   "source": [
    "#Composition\n",
    "class Tire(object):\n",
    "    def __init__(self, position):\n",
    "        self.position = position\n",
    "    \n",
    "class Driver(object):\n",
    "    def __init__(self, name):\n",
    "        self.name = name\n",
    "\n",
    "class Car(object):\n",
    "    def __init__(self, car_name, driver_name, num_tires):\n",
    "        self.car_name = car_name\n",
    "        self.four_tires = [Tire(x) for x in xrange(num_tires)]\n",
    "        self.driver = Driver(driver_name)\n",
    "    \n",
    "    def identify_driver(self):\n",
    "        print 'The driver of this', self.car_name, 'is', self.driver.name, '.'"
   ]
  },
  {
   "cell_type": "code",
   "execution_count": 115,
   "metadata": {
    "collapsed": false
   },
   "outputs": [
    {
     "name": "stdout",
     "output_type": "stream",
     "text": [
      "The driver of this audi is jon .\n"
     ]
    }
   ],
   "source": [
    "new_car = Car('audi', 'jon', 4)\n",
    "new_car.identify_driver()"
   ]
  },
  {
   "cell_type": "code",
   "execution_count": 130,
   "metadata": {
    "collapsed": false
   },
   "outputs": [],
   "source": [
    "#Inheritance\n",
    "class Automobile(object):\n",
    "    def __init__(self):\n",
    "        self.on = False\n",
    "    \n",
    "    def turn_on(self):\n",
    "        self.on = True\n",
    "        \n",
    "    def turn_off(self):\n",
    "        self.on = False\n",
    "\n",
    "class Car(Automobile):\n",
    "    def __init__(self):\n",
    "        super(Car, self).__init__()\n",
    "        self.wheels = 4\n",
    "        \n",
    "class Motorcycle(Automobile):\n",
    "    def __init__(self):\n",
    "        self.wheels = 2"
   ]
  },
  {
   "cell_type": "code",
   "execution_count": 138,
   "metadata": {
    "collapsed": false
   },
   "outputs": [
    {
     "name": "stdout",
     "output_type": "stream",
     "text": [
      "True\n",
      "False\n"
     ]
    }
   ],
   "source": [
    "inherited_car = Car()\n",
    "inherited_car.turn_on()\n",
    "print inherited_car.on\n",
    "inherited_car.turn_off()\n",
    "print inherited_car.on\n"
   ]
  },
  {
   "cell_type": "code",
   "execution_count": null,
   "metadata": {
    "collapsed": true
   },
   "outputs": [],
   "source": [
    "#Composition\n",
    "class UserDetails(object):\n",
    "    email = \"floguy@gmail.com\"\n",
    "    homepage = \"http://www.eflorenzano.com\"\n",
    "\n",
    "class User(object):\n",
    "    first_name = \"Eric\"\n",
    "    last_name = \"Florenzano\"\n",
    "    details = UserDetails()"
   ]
  },
  {
   "cell_type": "code",
   "execution_count": null,
   "metadata": {
    "collapsed": true
   },
   "outputs": [],
   "source": [
    "#Inheritance\n",
    "class User(object):\n",
    "    first_name = \"Eric\"\n",
    "    last_name = \"Florenzano\"\n",
    "\n",
    "class UserDetails(User):\n",
    "    email = \"floguy@gmail.com\"\n",
    "    homepage = \"http://www.eflorenzano.com\""
   ]
  },
  {
   "cell_type": "markdown",
   "metadata": {},
   "source": [
    "##  An interface is a contract\n",
    "\n",
    "An interface is a contract between the client and the service provider:\n",
    "\n",
    "*   Isolates client from details of implementation\n",
    "*   Client must satisfy preconditions to call method/function\n",
    "*   Respect boundary of interface:\n",
    "    -   Library/module provides a service\n",
    "    -   Clients only access resource/service via library\n",
    "    -   Then bugs arise from incorrect access or defect in library"
   ]
  },
  {
   "cell_type": "markdown",
   "metadata": {},
   "source": [
    "##  Testing an interface\n",
    "\n",
    "Make sure your interface is intuitive and friction-free:\n",
    "\n",
    "*   Use unit test or specification test\n",
    "    -   To verify interface is good before implementation\n",
    "    -   To exercise individual functions or objects before application is complete\n",
    "    -   Framework can setup and tear-down necessary test fixture\n",
    "*   Stub out methods using `pass`\n",
    "*   Test Driven Development (TDD):\n",
    "    -   Red/Green/Green\n",
    "    -   Write unit tests\n",
    "    -   Verify that they fail (red)\n",
    "    -   Implement code (green)\n",
    "    -   Refactor code (green)\n",
    "*   Use a unit test framework -- `unittest` (best), doctest, or `nose`"
   ]
  },
  {
   "cell_type": "markdown",
   "metadata": {},
   "source": [
    "##  Verification and debugging\n",
    "\n",
    "Verifying your code is correct, and finding and fixing bugs are critical skills:\n",
    "\n",
    "*   Just because your code runs, doesn't mean it is correct\n",
    "*   Write unit tests to exercise your code:\n",
    "    -   Ensures interfaces satisfy their contracts\n",
    "    -   Exercise key paths through code as well as corner cases\n",
    "    -   Identify any bugs introduced by future changes which break existing code\n",
    "    -   Test code before implementing entire program\n",
    "*   When unit tests fail, use a debugger to examine how code executes\n",
    "*   Both are critical skills and will save you hours of time\n",
    "*   [Verification and Validation in Scientific Computing](http://www.amazon.com/Verification-Validation-Scientific-Computing-Oberkampf/dp/0521113601/ref=pd_sim_14_2?ie=UTF8&refRID=1WP5FV5JCHXYAJAN6XAK) discusses rigorous framework to ensure correctness"
   ]
  },
  {
   "cell_type": "markdown",
   "metadata": {},
   "source": [
    "##  Separation of concerns (SoC) -- said more simply, modularize your code\n",
    "\n",
    "Try to keep 'concerns' separate:\n",
    "\n",
    "*   Use different layers for each concern\n",
    "*   A *concern* is a set of information or a resource that affects the program\n",
    "*   Keep layers distinct, i.e., write modular code\n",
    "*   Think Unix:\n",
    "    -   Each layer does one thing and does it well\n",
    "    -   Easy to combine\n",
    "*   Avoid cyclic dependencies\n",
    "*   SoC is crucial when building distributed applications"
   ]
  },
  {
   "cell_type": "markdown",
   "metadata": {},
   "source": [
    "##  Key advanced OOP features in Python\n",
    "\n",
    "Key features:\n",
    "\n",
    "*   Magic methods\n",
    "*   Decorators\n",
    "*   Class data and static methods\n",
    "*   `*args` and `**kwargs`\n",
    "*   Some popular patterns"
   ]
  },
  {
   "cell_type": "markdown",
   "metadata": {},
   "source": [
    "##  Magic methods (1/2)\n",
    "\n",
    "Add support to your class for *magic methods*:\n",
    "\n",
    "*   To support iteration\n",
    "*   To support math and relational operators\n",
    "*   To make your class callable, like a function with state (i.e., a functor)\n",
    "*   To create a new container, e.g., support `len()`\n",
    "\n",
    "See:  [magic methods](http://www.rafekettler.com/magicmethods.html)\n",
    "\n",
    "\n",
    "##  Magic methods (2/2)\n",
    "\n",
    "Popular magic methods:\n",
    "\n",
    "| Method            | Purpose         |\n",
    "| :--------------   | :-------------  |\n",
    "| `__init__`        | Constructor, i.e., initialize the class     |\n",
    "| `__str__`         | Define behavior for `str(obj)`   |\n",
    "| `__repr__`        | Define behavior for `repr(obj)`  |\n",
    "| `__len__`         | Return number of elements in object |\n",
    "| `__call__`        | Call instance like a function |\n",
    "| `__cmp__`         | Compare two objects |\n",
    "| `__iter__`        | Returns an iterable (which supports `__iter__` and `next()`) |\n",
    "\n",
    "Plus methods for order relations (==, !=, <, >), attribute access, math, type conversion,\n",
    "custom containers, context managers, ..."
   ]
  },
  {
   "cell_type": "code",
   "execution_count": null,
   "metadata": {
    "collapsed": true
   },
   "outputs": [],
   "source": [
    "class Interger(object):\n",
    "    def __init__(self, x):\n",
    "        self.x = x\n",
    "        \n",
    "    def __add__(self, other):\n",
    "        return self.x + other.x\n",
    "    \n",
    "five = Interger(5)\n",
    "seven = Interger(7)\n",
    "\n",
    "print(five + seven)\n",
    "print('')\n",
    "print(five.__add__(seven))\n",
    "print('')\n",
    "print(Interger.__add__(five, seven))\n",
    "\n",
    "#Side note\n",
    "print(int.__add__(5, 7))"
   ]
  },
  {
   "cell_type": "markdown",
   "metadata": {},
   "source": [
    "##  Decorators\n",
    "\n",
    "A *decorator* is a function which wraps another function:\n",
    "\n",
    "*   Looks like the original function, i.e., `help(myfunc)` works correctly\n",
    "*   But, decorator code runs before and after decorated function\n",
    "*   Lecture focuses on using existing decorators\n",
    "*   To write a custom decorator:\n",
    "    -   See [Effective Python](http://www.effectivepython.com)\n",
    "    -   Use `functools.wrap` to get correct behavior\n",
    "\n",
    "\n",
    "##  Common decorators:\n",
    "\n",
    "Some common decorators are:\n",
    "\n",
    "*   `@staticmethod` -   group functions under class namespace\n",
    "*   `@classmethod`  -   can access class specific data\n",
    "*   `@property` often with `@<NameOfYourProperty>.setter`\n",
    "*   `@abstractmethod`   -   define a method in an ABC\n",
    "*   Can also find decorators for logging, argument checking, and more"
   ]
  },
  {
   "cell_type": "markdown",
   "metadata": {},
   "source": [
    "###  Static methods and data\n",
    "\n",
    "Static methods are normal functions which live in a class's namespace:\n",
    "\n",
    "*   Do not access class or instance data\n",
    "*   No `self` argument\n",
    "*   Just access by prepending name with the class or object name:"
   ]
  },
  {
   "cell_type": "code",
   "execution_count": 143,
   "metadata": {
    "collapsed": true
   },
   "outputs": [],
   "source": [
    "class PlantFromOuterSpace(object):\n",
    "    @staticmethod\n",
    "    def speak():\n",
    "        print 'Feed me, Seymour!'"
   ]
  },
  {
   "cell_type": "code",
   "execution_count": 144,
   "metadata": {
    "collapsed": false
   },
   "outputs": [
    {
     "name": "stdout",
     "output_type": "stream",
     "text": [
      "Feed me, Seymour!\n"
     ]
    }
   ],
   "source": [
    "#No instance! \n",
    "PlantFromOuterSpace.speak()"
   ]
  },
  {
   "cell_type": "markdown",
   "metadata": {},
   "source": [
    "##  Class methods and data\n",
    "\n",
    "Can have class-specific data:\n",
    "\n",
    "*   Example: number of instances of class which have been created\n",
    "*   Decorate member function with `@classmethod`\n",
    "*   Use `cls` instead of `self` to refer class data\n",
    "*   ... except in a method which already refers to instance data"
   ]
  },
  {
   "cell_type": "code",
   "execution_count": 125,
   "metadata": {
    "collapsed": true
   },
   "outputs": [],
   "source": [
    "class ObjCounter(object):\n",
    "    obj_list = []\n",
    "    def __init__(self):\n",
    "        self.obj_list.append(self)\n",
    "\n",
    "    @classmethod\n",
    "    def n_created(cls):\n",
    "        return len(cls.obj_list)"
   ]
  },
  {
   "cell_type": "code",
   "execution_count": 126,
   "metadata": {
    "collapsed": true
   },
   "outputs": [],
   "source": [
    "oc1 = ObjCounter()\n",
    "oc2 = ObjCounter()"
   ]
  },
  {
   "cell_type": "code",
   "execution_count": 128,
   "metadata": {
    "collapsed": true
   },
   "outputs": [],
   "source": [
    "ObjCounter.n_created()"
   ]
  },
  {
   "cell_type": "markdown",
   "metadata": {},
   "source": [
    "##  Properties\n",
    "\n",
    "Properties look like member data:\n",
    "\n",
    "*   Actually returned by a function which has been decorated with `@property`\n",
    "*   Cannot modify the field unless you also create a setter, by decorating with `@<field_name>.setter`\n",
    "*   Gives you flexibility to change implementation later"
   ]
  },
  {
   "cell_type": "code",
   "execution_count": 47,
   "metadata": {
    "collapsed": true
   },
   "outputs": [],
   "source": [
    "class Card(object):\n",
    "    \"\"\"\n",
    "    Playing card.\n",
    "\n",
    "    Note: Class always start with a capital letter.\n",
    "    Note: New classes inherit from `object` or another class.\n",
    "    \"\"\"\n",
    "    def __init__(self, rank, suit):\n",
    "        \"\"\"Create a new playing card with a rank and a suit.\"\"\"\n",
    "        self.rank = rank\n",
    "        self.suit = suit\n",
    "\n",
    "    @property\n",
    "    def color(self):\n",
    "        suit_colors = {'S': 'black', 'C': 'black',\n",
    "                       'H': 'red', 'D': 'red'}\n",
    "        return suit_colors.get(self.suit)"
   ]
  },
  {
   "cell_type": "code",
   "execution_count": 48,
   "metadata": {
    "collapsed": true
   },
   "outputs": [],
   "source": [
    "test_card = Card('K', 'C')"
   ]
  },
  {
   "cell_type": "code",
   "execution_count": 49,
   "metadata": {
    "collapsed": false
   },
   "outputs": [
    {
     "data": {
      "text/plain": [
       "'black'"
      ]
     },
     "execution_count": 49,
     "metadata": {},
     "output_type": "execute_result"
    }
   ],
   "source": [
    "#What will the command below return?\n",
    "test_card.color"
   ]
  },
  {
   "cell_type": "markdown",
   "metadata": {},
   "source": [
    "## Arguements or `*args` and Keyword arguments `**kwargs`\n",
    "\n",
    "Shorthand to refer to a variable number of arguments:\n",
    "\n",
    "*   For regular arguments, use `*args`:\n",
    "    -   `*args` is a `list`\n",
    "    -   `def genius_func(*args):` to define a function which takes multiple arguments\n",
    "    -   Can also call function using a `list`, if you dereference\n",
    "\n",
    "*   For keyword arguments, use `**kwargs`:\n",
    "    -   `**kwargs` is a `dict`\n",
    "    -   `def genius_func(**kwargs):` to define a function which takes multiple keyword arguments\n",
    "    -   Can also call function using a `dict`, if you dereference"
   ]
  },
  {
   "cell_type": "code",
   "execution_count": 50,
   "metadata": {
    "collapsed": true
   },
   "outputs": [],
   "source": [
    "def arguements(*args):\n",
    "    print args"
   ]
  },
  {
   "cell_type": "code",
   "execution_count": 52,
   "metadata": {
    "collapsed": false
   },
   "outputs": [
    {
     "name": "stdout",
     "output_type": "stream",
     "text": [
      "(1, 2, 3)\n"
     ]
    }
   ],
   "source": [
    "arguements(1,2,3)"
   ]
  },
  {
   "cell_type": "code",
   "execution_count": 53,
   "metadata": {
    "collapsed": true
   },
   "outputs": [],
   "source": [
    "def we_are_lazy(a, b, c):\n",
    "    print a, b, c"
   ]
  },
  {
   "cell_type": "code",
   "execution_count": 55,
   "metadata": {
    "collapsed": false
   },
   "outputs": [
    {
     "name": "stdout",
     "output_type": "stream",
     "text": [
      "3 2 1\n"
     ]
    }
   ],
   "source": [
    "my_arg_list = [3,2,1]\n",
    "we_are_lazy(*my_arg_list)"
   ]
  },
  {
   "cell_type": "code",
   "execution_count": 56,
   "metadata": {
    "collapsed": true
   },
   "outputs": [],
   "source": [
    "def key_word_args(**kwargs):\n",
    "    print kwargs"
   ]
  },
  {
   "cell_type": "code",
   "execution_count": 57,
   "metadata": {
    "collapsed": false
   },
   "outputs": [
    {
     "name": "stdout",
     "output_type": "stream",
     "text": [
      "{'a': '1', 'b': 1}\n"
     ]
    }
   ],
   "source": [
    "key_word_args(a='1', b=1)"
   ]
  },
  {
   "cell_type": "code",
   "execution_count": 58,
   "metadata": {
    "collapsed": true
   },
   "outputs": [],
   "source": [
    "def we_are_more_lazy(a, b, c):\n",
    "    print a, b, c"
   ]
  },
  {
   "cell_type": "code",
   "execution_count": 60,
   "metadata": {
    "collapsed": false
   },
   "outputs": [
    {
     "name": "stdout",
     "output_type": "stream",
     "text": [
      "1 2 3\n"
     ]
    }
   ],
   "source": [
    "#Toy around with this inputs here\n",
    "my_kwargs = {\n",
    "    'b':2,\n",
    "    'a':1,\n",
    "    'c':3\n",
    "}\n",
    "we_are_more_lazy(**my_kwargs)"
   ]
  },
  {
   "cell_type": "markdown",
   "metadata": {},
   "source": [
    "##  Using PDB\n",
    "\n",
    "When unit tests fail, use the debugger to find a bug:\n",
    "\n",
    "*   If working in ipython, will display line of code which caused exception\n",
    "*   For complex bugs, debug via PDB\n",
    "*   To depug an exception, run from ipython and run `%pdb` first\n",
    "*   To start PDB, at a specific point in your code, add:\n",
    "\n",
    "    ```python\n",
    "    import pdb\n",
    "\n",
    "    ...\n",
    "    pdb.set_trace()  # Start debugger here\n",
    "    ...\n",
    "    ```\n",
    "\n",
    "*   See PDB's `help` for details\n",
    "*   Learn how to use a debugger.  It will save you a lot of pain..."
   ]
  },
  {
   "cell_type": "markdown",
   "metadata": {},
   "source": [
    "##  Essential debugging\n",
    "\n",
    "Once you have mastered one debugger, you have mastered them all:\n",
    "\n",
    "| Command           | Action            |\n",
    "| :-------------    | :--------------   |\n",
    "| `h`               | help              |\n",
    "| `b`               | set a break-point  |\n",
    "| `where`           | show call stack   |\n",
    "| `s`               | execute next line, stepping into functions |\n",
    "| `n`               | execute next line, step over functions |\n",
    "| `c`               | continue execution |\n",
    "| `u`               | move up one stack frame |\n",
    "| `d`               | move down one stack frame |"
   ]
  },
  {
   "cell_type": "markdown",
   "metadata": {},
   "source": [
    "##  Debugging tricks\n",
    "\n",
    "Some hard-won debugging tips:\n",
    "\n",
    "*   When starting any project ask, 'How will I debug this?'\n",
    "*   Program defensively; write code which facilitates debugging\n",
    "*   If you cannot figure out what is wrong with your code, something you think is true most likely isn't\n",
    "*   Explain your problem to a rubber duck ... or friend\n",
    "*   Try to produce the smallest, reproducible test case\n",
    "*   If it used to work, ask yourself, 'What changed?'\n",
    "*   Add logging, but beware of Heisenberg: when you measure a system, you perturb it ..."
   ]
  },
  {
   "cell_type": "markdown",
   "metadata": {},
   "source": [
    "##  Summary\n",
    "\n",
    "*   What is the difference between a class and an object?\n",
    "*   What are the three key components of OOP?  How do they lead to better code?\n",
    "*   How should I implement my code if the relationship is *IsA*?    What if the relationship is *HasA*?\n",
    "*   What is duck typing?\n",
    "*   What should you do ensure an object is initialized correctly?\n",
    "*   What are magic methods?\n",
    "*   What are the benefits of TDD?  What does Red/Green/Green mean?"
   ]
  },
  {
   "cell_type": "code",
   "execution_count": 4,
   "metadata": {
    "collapsed": true
   },
   "outputs": [],
   "source": [
    "import csv"
   ]
  },
  {
   "cell_type": "code",
   "execution_count": 8,
   "metadata": {
    "collapsed": true
   },
   "outputs": [],
   "source": [
    "with open('/Users/sversage/Desktop/csv_tst.csv', 'w') as f:\n",
    "    write_obj = csv.writer(f)\n",
    "    write_obj.writerow(['meme', 'test'])"
   ]
  },
  {
   "cell_type": "code",
   "execution_count": 154,
   "metadata": {
    "collapsed": true
   },
   "outputs": [],
   "source": [
    "# a.py\n",
    "class A:\n",
    "    message = \"class message\"\n",
    "\n",
    "    @classmethod\n",
    "    def cfoo(cls):\n",
    "        print(cls.message)\n",
    "\n",
    "    def foo(self, msg):\n",
    "        self.message = msg\n",
    "        print(self.message)\n",
    "\n",
    "    def __str__(self):\n",
    "        return self.message"
   ]
  },
  {
   "cell_type": "code",
   "execution_count": 155,
   "metadata": {
    "collapsed": false
   },
   "outputs": [
    {
     "data": {
      "text/plain": [
       "'class message'"
      ]
     },
     "execution_count": 155,
     "metadata": {},
     "output_type": "execute_result"
    }
   ],
   "source": [
    "A.message"
   ]
  },
  {
   "cell_type": "code",
   "execution_count": 156,
   "metadata": {
    "collapsed": true
   },
   "outputs": [],
   "source": [
    "b = A()"
   ]
  },
  {
   "cell_type": "code",
   "execution_count": 158,
   "metadata": {
    "collapsed": false
   },
   "outputs": [
    {
     "name": "stdout",
     "output_type": "stream",
     "text": [
      "class message\n"
     ]
    }
   ],
   "source": [
    "b.cfoo()"
   ]
  },
  {
   "cell_type": "code",
   "execution_count": 160,
   "metadata": {
    "collapsed": false
   },
   "outputs": [
    {
     "name": "stdout",
     "output_type": "stream",
     "text": [
      "test\n"
     ]
    }
   ],
   "source": [
    "b.foo('test')"
   ]
  },
  {
   "cell_type": "code",
   "execution_count": 161,
   "metadata": {
    "collapsed": false
   },
   "outputs": [
    {
     "data": {
      "text/plain": [
       "'test'"
      ]
     },
     "execution_count": 161,
     "metadata": {},
     "output_type": "execute_result"
    }
   ],
   "source": [
    "b.message"
   ]
  },
  {
   "cell_type": "code",
   "execution_count": 162,
   "metadata": {
    "collapsed": false
   },
   "outputs": [
    {
     "name": "stdout",
     "output_type": "stream",
     "text": [
      "class message\n"
     ]
    }
   ],
   "source": [
    "b.cfoo()"
   ]
  },
  {
   "cell_type": "code",
   "execution_count": null,
   "metadata": {
    "collapsed": true
   },
   "outputs": [],
   "source": []
  }
 ],
 "metadata": {
  "celltoolbar": "Slideshow",
  "kernelspec": {
   "display_name": "Python [default]",
   "language": "python",
   "name": "python2"
  },
  "language_info": {
   "codemirror_mode": {
    "name": "ipython",
    "version": 2
   },
   "file_extension": ".py",
   "mimetype": "text/x-python",
   "name": "python",
   "nbconvert_exporter": "python",
   "pygments_lexer": "ipython2",
   "version": "2.7.13"
  }
 },
 "nbformat": 4,
 "nbformat_minor": 2
}
