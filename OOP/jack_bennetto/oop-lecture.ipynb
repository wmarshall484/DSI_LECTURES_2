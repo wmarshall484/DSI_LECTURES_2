{
 "cells": [
  {
   "cell_type": "markdown",
   "metadata": {},
   "source": [
    "\n",
    "# Object-Oriented Programming (Classes)\n",
    "\n",
    "#### Jack Bennetto, August 8, 2017\n",
    "(based heavily on Matt Drury's notebook)"
   ]
  },
  {
   "cell_type": "markdown",
   "metadata": {},
   "source": [
    "Object-oriented programming is about how we *organize* our ideas in code."
   ]
  },
  {
   "cell_type": "markdown",
   "metadata": {},
   "source": [
    "Programs are made up of two fundamental, conceptual components:\n",
    "    \n",
    "  - Data\n",
    "  - Algorithms to manipulate the data"
   ]
  },
  {
   "cell_type": "markdown",
   "metadata": {},
   "source": [
    "So to have an expressive and useful programming language, we need ways to both\n",
    "\n",
    "  - Create new types of data.\n",
    "  - Create re-usable algorithms to manipulate that data."
   ]
  },
  {
   "cell_type": "markdown",
   "metadata": {},
   "source": [
    "Sometimes the algorithms we need to manipulate data are tied closely to the data itself, and in this case we would like to associate algorithms with specific data structures"
   ]
  },
  {
   "cell_type": "markdown",
   "metadata": {},
   "source": [
    "### Objectives"
   ]
  },
  {
   "cell_type": "markdown",
   "metadata": {},
   "source": [
    "  - Give basic examples of objects in python (list and dictionaries)\n",
    "  - Define object, attribute, and method, and give examples.\n",
    "  - Create a new datatype using a class.\n",
    "  - Describe the difference between a class and an object.\n",
    "  - Describe what `self` is.\n",
    "  - Add natural behavior to a class with *dunder* methods."
   ]
  },
  {
   "cell_type": "markdown",
   "metadata": {},
   "source": [
    "## Objects\n",
    "\n",
    "An object some piece of data, including code used to manipulate that data. In python (in contrast to some other languages) pretty much everything is an object. We'll talk about that more later."
   ]
  },
  {
   "cell_type": "markdown",
   "metadata": {},
   "source": [
    "### Basic Example: Lists"
   ]
  },
  {
   "cell_type": "markdown",
   "metadata": {},
   "source": [
    "Python `list`s are a very useful type of data structure, and they have lots of associated algorithms.  Let's take a closer look a lists and how they work."
   ]
  },
  {
   "cell_type": "code",
   "execution_count": 1,
   "metadata": {},
   "outputs": [
    {
     "name": "stdout",
     "output_type": "stream",
     "text": [
      "2\n",
      "1\n",
      "[1, 2, 2, 3, 4, 4, 4]\n"
     ]
    }
   ],
   "source": [
    "# Q: Why didn't I call it 'l', why didn't I call it 'list'\n",
    "lst = [1, 2, 2, 3, 4, 4, 4]\n",
    "\n",
    "# Associated algorithm: count\n",
    "print(lst.count(2))\n",
    "print(lst.count(3))\n",
    "\n",
    "print(lst)"
   ]
  },
  {
   "cell_type": "markdown",
   "metadata": {},
   "source": [
    "The `count` function is associated with the `list` data type.\n",
    "\n",
    "Functions that are associated to a specific data type in this way are called *methods*.  So we would say\n",
    "\n",
    "> `count` is a method of the data type `list`\n",
    "\n",
    "Methods are (generally) called using the `.` notation:\n",
    "\n",
    "```python\n",
    "data_element.method(additional_arguments)\n",
    "```"
   ]
  },
  {
   "cell_type": "markdown",
   "metadata": {},
   "source": [
    "## Attributes\n",
    "\n",
    "Some objects have attributes as well, that let us access the data in the object directly. Those are (usually) hidden in some way, and we usually get to everything we need through a method. But to give an example, every object has a `__class__` attribute that show what class it is part of, and most have a `__doc__` attribute that provides information about the how the object works."
   ]
  },
  {
   "cell_type": "code",
   "execution_count": 2,
   "metadata": {},
   "outputs": [
    {
     "name": "stdout",
     "output_type": "stream",
     "text": [
      "<class 'list'>\n"
     ]
    }
   ],
   "source": [
    "print(lst.__class__)"
   ]
  },
  {
   "cell_type": "code",
   "execution_count": 3,
   "metadata": {},
   "outputs": [
    {
     "name": "stdout",
     "output_type": "stream",
     "text": [
      "list() -> new empty list\n",
      "list(iterable) -> new list initialized from iterable's items\n"
     ]
    }
   ],
   "source": [
    "print(lst.__doc__)"
   ]
  },
  {
   "cell_type": "markdown",
   "metadata": {},
   "source": [
    "### Pure vs. Impure Methods"
   ]
  },
  {
   "cell_type": "markdown",
   "metadata": {},
   "source": [
    "Some methods actually *change* the data they operate on:"
   ]
  },
  {
   "cell_type": "code",
   "execution_count": 4,
   "metadata": {
    "scrolled": true
   },
   "outputs": [
    {
     "name": "stdout",
     "output_type": "stream",
     "text": [
      "[1, 2, 2, 3, 4, 4, 4]\n",
      "[1, 2, 2, 3, 4, 4, 4, 5]\n"
     ]
    }
   ],
   "source": [
    "print(lst)\n",
    "\n",
    "lst.append(5)\n",
    "\n",
    "print(lst)"
   ]
  },
  {
   "cell_type": "markdown",
   "metadata": {},
   "source": [
    "Methods which do **not** change the underlying data (`list.count`) are called **pure methods**, methods that *do* change the underlying data (`list.append`) are called **impure methods**.\n",
    "\n",
    "Changing the data without giving it a new name (or, at the extreme, copying it first) is called **mutating** the data.  Some data types protect against changing the data in place, they are called **immutable types**."
   ]
  },
  {
   "cell_type": "code",
   "execution_count": 5,
   "metadata": {},
   "outputs": [
    {
     "ename": "TypeError",
     "evalue": "'tuple' object does not support item assignment",
     "output_type": "error",
     "traceback": [
      "\u001b[0;31m---------------------------------------------------------------------------\u001b[0m",
      "\u001b[0;31mTypeError\u001b[0m                                 Traceback (most recent call last)",
      "\u001b[0;32m<ipython-input-5-584a888776e5>\u001b[0m in \u001b[0;36m<module>\u001b[0;34m()\u001b[0m\n\u001b[1;32m      1\u001b[0m \u001b[0mtup\u001b[0m \u001b[0;34m=\u001b[0m \u001b[0;34m(\u001b[0m\u001b[0;36m1\u001b[0m\u001b[0;34m,\u001b[0m \u001b[0;36m2\u001b[0m\u001b[0;34m,\u001b[0m \u001b[0;36m3\u001b[0m\u001b[0;34m)\u001b[0m\u001b[0;34m\u001b[0m\u001b[0m\n\u001b[0;32m----> 2\u001b[0;31m \u001b[0mtup\u001b[0m\u001b[0;34m[\u001b[0m\u001b[0;36m2\u001b[0m\u001b[0;34m]\u001b[0m \u001b[0;34m=\u001b[0m \u001b[0;36m4\u001b[0m\u001b[0;34m\u001b[0m\u001b[0m\n\u001b[0m",
      "\u001b[0;31mTypeError\u001b[0m: 'tuple' object does not support item assignment"
     ]
    }
   ],
   "source": [
    "tup = (1, 2, 3)\n",
    "tup[2] = 4"
   ]
  },
  {
   "cell_type": "markdown",
   "metadata": {},
   "source": [
    "### Magic Methods"
   ]
  },
  {
   "cell_type": "markdown",
   "metadata": {},
   "source": [
    "Some things that do not look like methods actually are, indexing for example:"
   ]
  },
  {
   "cell_type": "code",
   "execution_count": 6,
   "metadata": {},
   "outputs": [
    {
     "name": "stdout",
     "output_type": "stream",
     "text": [
      "2\n",
      "2\n"
     ]
    }
   ],
   "source": [
    "print(lst[2])\n",
    "print(lst.__getitem__(2))"
   ]
  },
  {
   "cell_type": "markdown",
   "metadata": {},
   "source": [
    "The `__getitem__` is called a **magic method**.  There are spelled with two underscores on either side of the word, which lead to their other common name: **dunder methods**.  This one would be pronounced \"dunder-get-item\". While we can call magic methods directly, they are generally called internally by python itself. "
   ]
  },
  {
   "cell_type": "code",
   "execution_count": 13,
   "metadata": {},
   "outputs": [
    {
     "name": "stdout",
     "output_type": "stream",
     "text": [
      "100\n",
      "8\n",
      "[2, 100, 3, 4]\n"
     ]
    }
   ],
   "source": [
    "# lst[2] = 100\n",
    "lst.__setitem__(2, 100)\n",
    "\n",
    "# lst[2]\n",
    "print(lst.__getitem__(2))\n",
    "\n",
    "# len(lst)\n",
    "print(lst.__len__())\n",
    "\n",
    "# lst[1:5]\n",
    "print(lst.__getitem__(slice(1, 5)))"
   ]
  },
  {
   "cell_type": "markdown",
   "metadata": {},
   "source": [
    "## More Advanced Examples"
   ]
  },
  {
   "cell_type": "markdown",
   "metadata": {},
   "source": [
    "The python standard library has many examples of additional data types.  We will be re-implementing two of the more useful ones, `defaultdict` and `OrderedDict`."
   ]
  },
  {
   "cell_type": "code",
   "execution_count": 16,
   "metadata": {
    "collapsed": true
   },
   "outputs": [],
   "source": [
    "from collections import defaultdict, OrderedDict"
   ]
  },
  {
   "cell_type": "markdown",
   "metadata": {},
   "source": [
    "### defaultdict"
   ]
  },
  {
   "cell_type": "markdown",
   "metadata": {},
   "source": [
    "`defaultdict` is a simple but effective alternative to a dictionary.\n",
    "\n",
    "Recall that with a normal dictionary, attempting to lookup a key that does not exist is an error."
   ]
  },
  {
   "cell_type": "code",
   "execution_count": 17,
   "metadata": {},
   "outputs": [
    {
     "ename": "KeyError",
     "evalue": "'c'",
     "output_type": "error",
     "traceback": [
      "\u001b[0;31m---------------------------------------------------------------------------\u001b[0m",
      "\u001b[0;31mKeyError\u001b[0m                                  Traceback (most recent call last)",
      "\u001b[0;32m<ipython-input-17-19c2d4801c6d>\u001b[0m in \u001b[0;36m<module>\u001b[0;34m()\u001b[0m\n\u001b[1;32m      1\u001b[0m \u001b[0md\u001b[0m \u001b[0;34m=\u001b[0m \u001b[0;34m{\u001b[0m\u001b[0;34m'a'\u001b[0m\u001b[0;34m:\u001b[0m \u001b[0;36m1\u001b[0m\u001b[0;34m,\u001b[0m \u001b[0;34m'b'\u001b[0m\u001b[0;34m:\u001b[0m \u001b[0;36m2\u001b[0m\u001b[0;34m}\u001b[0m\u001b[0;34m\u001b[0m\u001b[0m\n\u001b[1;32m      2\u001b[0m \u001b[0;34m\u001b[0m\u001b[0m\n\u001b[0;32m----> 3\u001b[0;31m \u001b[0md\u001b[0m\u001b[0;34m[\u001b[0m\u001b[0;34m'c'\u001b[0m\u001b[0;34m]\u001b[0m\u001b[0;34m\u001b[0m\u001b[0m\n\u001b[0m",
      "\u001b[0;31mKeyError\u001b[0m: 'c'"
     ]
    }
   ],
   "source": [
    "d = {'a': 1, 'b': 2}\n",
    "\n",
    "d['c']"
   ]
  },
  {
   "cell_type": "markdown",
   "metadata": {},
   "source": [
    "A `defaultdict` allows you to specify a default function that will be used to return a value when a non-existent key lookup is attempted."
   ]
  },
  {
   "cell_type": "code",
   "execution_count": 18,
   "metadata": {},
   "outputs": [
    {
     "name": "stdout",
     "output_type": "stream",
     "text": [
      "1\n",
      "0\n",
      "defaultdict(<function default at 0x10f73f9d8>, {'a': 1, 'b': 2, 'c': 0})\n"
     ]
    }
   ],
   "source": [
    "def default():\n",
    "    \"\"\"A function that returns a default value, called when we attempt to\n",
    "    access a non-existent key in a default dictionary.\n",
    "    \"\"\"\n",
    "    return 0\n",
    "\n",
    "dd = defaultdict(default, {'a': 1, 'b': 2})\n",
    "\n",
    "print(dd['a'])\n",
    "print(dd['c'])\n",
    "print(dd)"
   ]
  },
  {
   "cell_type": "markdown",
   "metadata": {},
   "source": [
    "**Note**: In our creation of the `defaultdict` above, the line `dd = defaultdict(int, {'a': 1, 'b': 2})` is more idiomatic.  We chose to write it the way we did above as it makes more explicit what is going on.\n",
    "\n",
    "**Note**: It's a bit weird to have to pass in a function that returns the default value instead of the default value itself, but this is needed to avoid weird problems arising from mutable objects like lists.  Passing a function guarantee that this will work:"
   ]
  },
  {
   "cell_type": "code",
   "execution_count": 20,
   "metadata": {},
   "outputs": [
    {
     "name": "stdout",
     "output_type": "stream",
     "text": [
      "[]\n",
      "defaultdict(<class 'list'>, {'a': [1, 2], 'b': [1]})\n"
     ]
    }
   ],
   "source": [
    "dd = defaultdict(list, {})\n",
    "\n",
    "print(dd['a'])\n",
    "\n",
    "dd['a'].append(1)\n",
    "dd['a'].append(2)\n",
    "dd['b'].append(1)\n",
    "\n",
    "print(dd)"
   ]
  },
  {
   "cell_type": "markdown",
   "metadata": {},
   "source": [
    "A more naive implementation would result in the **same** list being shared by all keys."
   ]
  },
  {
   "cell_type": "markdown",
   "metadata": {},
   "source": [
    "### Making Your Own Default Dict"
   ]
  },
  {
   "cell_type": "markdown",
   "metadata": {},
   "source": [
    "Let's make our own default dictionaries.\n",
    "\n",
    "**Note:** In practice, we would not do this.  Since the `defaultdict` datatype already exists, there is no benefit in reimplementing it for practical applications.  But it's instructional to see how we could do this if our needs were for something slightly different.\n",
    "\n",
    "There are two concepts we need\n",
    "\n",
    "  - A `class` is a template for a new data type.  It contains information on what data is needed to construct the data type, how to store the data internally, and what algorithms can be applied to the data type.\n",
    "  - An instance of a class is a concrete object of the new data type.\n",
    "  \n",
    "A class is a recipe for constructing instances of that class."
   ]
  },
  {
   "cell_type": "markdown",
   "metadata": {},
   "source": [
    "#### Example of a Class: defaultdict"
   ]
  },
  {
   "cell_type": "markdown",
   "metadata": {},
   "source": [
    "`defaultdict` is a class"
   ]
  },
  {
   "cell_type": "code",
   "execution_count": 21,
   "metadata": {},
   "outputs": [
    {
     "data": {
      "text/plain": [
       "True"
      ]
     },
     "execution_count": 21,
     "metadata": {},
     "output_type": "execute_result"
    }
   ],
   "source": [
    "from inspect import isclass\n",
    "isclass(defaultdict)"
   ]
  },
  {
   "cell_type": "markdown",
   "metadata": {},
   "source": [
    "Using the class `defaultdict` as a function creates an instance of that class."
   ]
  },
  {
   "cell_type": "code",
   "execution_count": 22,
   "metadata": {},
   "outputs": [
    {
     "data": {
      "text/plain": [
       "True"
      ]
     },
     "execution_count": 22,
     "metadata": {},
     "output_type": "execute_result"
    }
   ],
   "source": [
    "dd = defaultdict(lambda: 0, {'a': 1, 'b': 2})\n",
    "isinstance(dd, defaultdict)"
   ]
  },
  {
   "cell_type": "markdown",
   "metadata": {},
   "source": [
    "Note: The process of using the class itself as a function is called **construction**, and in this context the class is being used as a **constructor**.  The idea is that we are \"constructing\" a new object whose type is the class."
   ]
  },
  {
   "cell_type": "markdown",
   "metadata": {},
   "source": [
    "We usually abbreviate the phrase\n",
    "\n",
    "> `dd` is an instance of class `defaultdict`.\n",
    "\n",
    "as\n",
    "\n",
    "> `dd` is a `defaultdict`.\n",
    "\n",
    "In this way, `defaultdict` is thought of as a **type** (or datatype).  This is analogous to the `int`s, `float`s, `string`s, etc that we base all our programs on."
   ]
  },
  {
   "cell_type": "markdown",
   "metadata": {},
   "source": [
    "#### Creating A Custom Class"
   ]
  },
  {
   "cell_type": "markdown",
   "metadata": {},
   "source": [
    "The basics of creating a custom class in python is very easy."
   ]
  },
  {
   "cell_type": "code",
   "execution_count": 23,
   "metadata": {
    "collapsed": true
   },
   "outputs": [],
   "source": [
    "class MyClass(object):\n",
    "    pass  # Do nothing."
   ]
  },
  {
   "cell_type": "markdown",
   "metadata": {},
   "source": [
    "The `(object)` means that our class derives (or inherits) from the base class which is called (confusingly) `object`. Most object-oriented languages rely on inheritance, but it's not a big deal in python.\n",
    "\n",
    "We can create a new instance of the class easily"
   ]
  },
  {
   "cell_type": "code",
   "execution_count": 24,
   "metadata": {
    "collapsed": true
   },
   "outputs": [],
   "source": [
    "my_instance = MyClass()"
   ]
  },
  {
   "cell_type": "code",
   "execution_count": 25,
   "metadata": {},
   "outputs": [
    {
     "data": {
      "text/plain": [
       "True"
      ]
     },
     "execution_count": 25,
     "metadata": {},
     "output_type": "execute_result"
    }
   ],
   "source": [
    "isinstance(my_instance, MyClass)"
   ]
  },
  {
   "cell_type": "markdown",
   "metadata": {},
   "source": [
    "This is a pretty dumb class as it stands, it cant really *do* anything.  To get something useful we have to add data and behavior to our class."
   ]
  },
  {
   "cell_type": "markdown",
   "metadata": {},
   "source": [
    "#### How to Store Data in a Class"
   ]
  },
  {
   "cell_type": "markdown",
   "metadata": {},
   "source": [
    "The first step is to determine what data we need to store.  In this case it's pretty easy, we need\n",
    "\n",
    "  - The underlying dictionary that we are going to attempt lookups into.\n",
    "  - The default action to take when a lookup fails."
   ]
  },
  {
   "cell_type": "markdown",
   "metadata": {},
   "source": [
    "Let's mimic the way Python's built in `defaultdict` works.  We need to add some functionality to **supply and then store** both of these data elements when we create an instance of the class.  This is done using a special *method*, `__init__`.\n",
    "\n",
    "**Note:** `__init__` is pronounced *dunder-in-it*."
   ]
  },
  {
   "cell_type": "code",
   "execution_count": 26,
   "metadata": {
    "collapsed": true
   },
   "outputs": [],
   "source": [
    "class MyDefaultDict(object):\n",
    "    \"\"\"A personal implementation of a default dictionary.\"\"\"\n",
    "    \n",
    "    def __init__(self, default, dictionary):\n",
    "        self.default = default\n",
    "        self.dictionary = dictionary"
   ]
  },
  {
   "cell_type": "markdown",
   "metadata": {},
   "source": [
    "There's a lot of new concepts in this code, but let's first see how it works."
   ]
  },
  {
   "cell_type": "code",
   "execution_count": 27,
   "metadata": {},
   "outputs": [
    {
     "name": "stdout",
     "output_type": "stream",
     "text": [
      "<function <lambda> at 0x10f76f488>\n",
      "0\n",
      "{'a': 1, 'b': 2}\n"
     ]
    }
   ],
   "source": [
    "mdd = MyDefaultDict(lambda: 0, {'a': 1, 'b': 2})\n",
    "print(mdd.default)\n",
    "print(mdd.default())\n",
    "print(mdd.dictionary)"
   ]
  },
  {
   "cell_type": "markdown",
   "metadata": {},
   "source": [
    "When we use a class like a function\n",
    "\n",
    "```python\n",
    "my_instance = MyClass()  # <- Called like a function.\n",
    "```\n",
    "\n",
    "it is to create *instances of that class*.  \n",
    "\n",
    "We will often be working with more than one instance of a single class."
   ]
  },
  {
   "cell_type": "code",
   "execution_count": 28,
   "metadata": {},
   "outputs": [
    {
     "name": "stdout",
     "output_type": "stream",
     "text": [
      "{'a': 1, 'b': 2}\n",
      "{'a': 2, 'b': 3, 'c': 5}\n"
     ]
    }
   ],
   "source": [
    "mdd = MyDefaultDict(lambda: 0, {'a': 1, 'b': 2})\n",
    "mdd2 = MyDefaultDict(lambda: 1, {'a': 2, 'b': 3, 'c': 5})\n",
    "\n",
    "print(mdd.dictionary)\n",
    "print(mdd2.dictionary)"
   ]
  },
  {
   "cell_type": "markdown",
   "metadata": {},
   "source": [
    "Note the important point: **Both** `mdd` and `mdd2` are instances of the **same class**, but they contain **different data**; they are **independent objects of the same type**.\n"
   ]
  },
  {
   "cell_type": "markdown",
   "metadata": {},
   "source": [
    "#### The self Placeholder\n",
    "\n",
    "A statement like\n",
    "\n",
    "```\n",
    "self.default = default\n",
    "```\n",
    "\n",
    "creates what is known as an **instance variable** or **instance data**.  In this specific line, we attach the `default` function to the instance of the class currently being created.\n",
    "\n",
    "There are two main ways that `self` is used:\n",
    "\n",
    "  - References to `self` inside the `__init__` method refer to the object **currently being created**.\n",
    "  - References to `self` in any other method (see more below) refer to the object used to reference a call to this method.\n",
    "\n",
    "For example, when we call a method like:\n",
    "\n",
    "```python\n",
    "some_object.some_method(an_argument, another_argument)\n",
    "```\n",
    "\n",
    "any references to `self` inside the definition of `some_method` will refer to `some_object`.\n",
    "\n",
    "So our use of self in the `__init__` method\n",
    "\n",
    "```python\n",
    "def __init__(self, default, dictionary):\n",
    "    self.default = default\n",
    "    self.dictionary = dictionary\n",
    "```\n",
    "\n",
    "Is setting up our `MyDefaultDict` objects so that, once created, each instance of `MyDefaultDict` stores both `default` and `dictionary` data."
   ]
  },
  {
   "cell_type": "markdown",
   "metadata": {},
   "source": [
    "That all looks great, but we want to add some  functionality. The `dict` class has a bunch of methods; if we want similar functionality we should implement them."
   ]
  },
  {
   "cell_type": "code",
   "execution_count": 29,
   "metadata": {
    "collapsed": true
   },
   "outputs": [],
   "source": [
    "class MyDefaultDict(object):\n",
    "    \"\"\"A personal implementation of a default dictionary.\"\"\"\n",
    "    \n",
    "    def __init__(self, default, dictionary):\n",
    "        self.default = default\n",
    "        self.dictionary = dictionary\n",
    "    \n",
    "    def keys(self):\n",
    "        return self.dictionary.keys()\n",
    "    \n",
    "    def values(self):\n",
    "        return self.dictionary.values()\n",
    "    \n",
    "    def items(self):\n",
    "        return self.dictionary.items()"
   ]
  },
  {
   "cell_type": "code",
   "execution_count": 30,
   "metadata": {},
   "outputs": [
    {
     "data": {
      "text/plain": [
       "dict_keys(['a', 'b'])"
      ]
     },
     "execution_count": 30,
     "metadata": {},
     "output_type": "execute_result"
    }
   ],
   "source": [
    "mdd = MyDefaultDict(lambda: 0, {'a': 1, 'b': 2})\n",
    "mdd.keys()"
   ]
  },
  {
   "cell_type": "markdown",
   "metadata": {},
   "source": [
    "All we're doing here is calling functions on the internal `dictionary` attribute, though we could make methods to do anything we want. You might be thinking that it's a pain to do this for every single method on `dict`, and you're right. One approach is to **inherit** from (or extend) the `dict` class, which would let us get all the functionality without doing all that work, something like\n",
    "\n",
    "```python\n",
    "class MyDefaultDict(dict):\n",
    "    \"\"\"A personal implementation of a default dictionary.\"\"\"\n",
    "    \n",
    "    def __init__(self, default, dictionary):\n",
    "        self.default = default\n",
    "        self.dictionary = dictionary\n",
    "```\n",
    "\n",
    "We aren't going to do that, though, since we're more interested in learning stuff . It turns out inheritance isn't that important in python because it doesn't care much about types. \n",
    "\n",
    "What about looking up values by keys?"
   ]
  },
  {
   "cell_type": "code",
   "execution_count": 31,
   "metadata": {},
   "outputs": [
    {
     "ename": "TypeError",
     "evalue": "'MyDefaultDict' object is not subscriptable",
     "output_type": "error",
     "traceback": [
      "\u001b[0;31m---------------------------------------------------------------------------\u001b[0m",
      "\u001b[0;31mTypeError\u001b[0m                                 Traceback (most recent call last)",
      "\u001b[0;32m<ipython-input-31-2d5cad05bc0e>\u001b[0m in \u001b[0;36m<module>\u001b[0;34m()\u001b[0m\n\u001b[0;32m----> 1\u001b[0;31m \u001b[0mmdd\u001b[0m\u001b[0;34m[\u001b[0m\u001b[0;34m'a'\u001b[0m\u001b[0;34m]\u001b[0m\u001b[0;34m\u001b[0m\u001b[0m\n\u001b[0m",
      "\u001b[0;31mTypeError\u001b[0m: 'MyDefaultDict' object is not subscriptable"
     ]
    }
   ],
   "source": [
    "mdd['a']"
   ]
  },
  {
   "cell_type": "markdown",
   "metadata": {},
   "source": [
    "#### Addding Methods to Manipulate Data in a Class"
   ]
  },
  {
   "cell_type": "markdown",
   "metadata": {},
   "source": [
    "To make that work we'll need some magic methods. Let's implement `__getitem__` and `__setitem__`, which will allow us to index into instances of our class like this\n",
    "\n",
    "```\n",
    "mdd['a']\n",
    "# Means the same thing as mdd.__getitem__('a')\n",
    "\n",
    "mdd['c'] = 3\n",
    "# Means the same thing as mdd.__setitem__('c', 3)\n",
    "```"
   ]
  },
  {
   "cell_type": "markdown",
   "metadata": {},
   "source": [
    "As a first attempt, let's ignore our goal of adding default behaviour, we can add that later on down the line."
   ]
  },
  {
   "cell_type": "code",
   "execution_count": 32,
   "metadata": {
    "collapsed": true
   },
   "outputs": [],
   "source": [
    "class MyDefaultDict(object):\n",
    "    \"\"\"A personal implementation of a default dictionary.\"\"\"\n",
    "    \n",
    "    def __init__(self, default, dictionary):\n",
    "        self.default = default\n",
    "        self.dictionary = dictionary\n",
    "        \n",
    "    def __getitem__(self, key):\n",
    "        return self.dictionary[key]\n",
    "    \n",
    "    def __setitem__(self, key, value):\n",
    "        self.dictionary[key] = value"
   ]
  },
  {
   "cell_type": "markdown",
   "metadata": {},
   "source": [
    "Let's test it out."
   ]
  },
  {
   "cell_type": "code",
   "execution_count": 33,
   "metadata": {},
   "outputs": [
    {
     "name": "stdout",
     "output_type": "stream",
     "text": [
      "1\n",
      "2\n",
      "{'a': 1, 'b': 2, 'c': 3}\n"
     ]
    },
    {
     "ename": "KeyError",
     "evalue": "'foo'",
     "output_type": "error",
     "traceback": [
      "\u001b[0;31m---------------------------------------------------------------------------\u001b[0m",
      "\u001b[0;31mKeyError\u001b[0m                                  Traceback (most recent call last)",
      "\u001b[0;32m<ipython-input-33-8ef9067021a7>\u001b[0m in \u001b[0;36m<module>\u001b[0;34m()\u001b[0m\n\u001b[1;32m      8\u001b[0m \u001b[0mprint\u001b[0m\u001b[0;34m(\u001b[0m\u001b[0mmdd\u001b[0m\u001b[0;34m.\u001b[0m\u001b[0mdictionary\u001b[0m\u001b[0;34m)\u001b[0m\u001b[0;34m\u001b[0m\u001b[0m\n\u001b[1;32m      9\u001b[0m \u001b[0;34m\u001b[0m\u001b[0m\n\u001b[0;32m---> 10\u001b[0;31m \u001b[0mmdd\u001b[0m\u001b[0;34m[\u001b[0m\u001b[0;34m'foo'\u001b[0m\u001b[0;34m]\u001b[0m\u001b[0;34m\u001b[0m\u001b[0m\n\u001b[0m",
      "\u001b[0;32m<ipython-input-32-532936e4b5cd>\u001b[0m in \u001b[0;36m__getitem__\u001b[0;34m(self, key)\u001b[0m\n\u001b[1;32m      7\u001b[0m \u001b[0;34m\u001b[0m\u001b[0m\n\u001b[1;32m      8\u001b[0m     \u001b[0;32mdef\u001b[0m \u001b[0m__getitem__\u001b[0m\u001b[0;34m(\u001b[0m\u001b[0mself\u001b[0m\u001b[0;34m,\u001b[0m \u001b[0mkey\u001b[0m\u001b[0;34m)\u001b[0m\u001b[0;34m:\u001b[0m\u001b[0;34m\u001b[0m\u001b[0m\n\u001b[0;32m----> 9\u001b[0;31m         \u001b[0;32mreturn\u001b[0m \u001b[0mself\u001b[0m\u001b[0;34m.\u001b[0m\u001b[0mdictionary\u001b[0m\u001b[0;34m[\u001b[0m\u001b[0mkey\u001b[0m\u001b[0;34m]\u001b[0m\u001b[0;34m\u001b[0m\u001b[0m\n\u001b[0m\u001b[1;32m     10\u001b[0m \u001b[0;34m\u001b[0m\u001b[0m\n\u001b[1;32m     11\u001b[0m     \u001b[0;32mdef\u001b[0m \u001b[0m__setitem__\u001b[0m\u001b[0;34m(\u001b[0m\u001b[0mself\u001b[0m\u001b[0;34m,\u001b[0m \u001b[0mkey\u001b[0m\u001b[0;34m,\u001b[0m \u001b[0mvalue\u001b[0m\u001b[0;34m)\u001b[0m\u001b[0;34m:\u001b[0m\u001b[0;34m\u001b[0m\u001b[0m\n",
      "\u001b[0;31mKeyError\u001b[0m: 'foo'"
     ]
    }
   ],
   "source": [
    "mdd = MyDefaultDict(default, {'a': 1, 'b': 2})\n",
    "\n",
    "print(mdd['a'])\n",
    "print(mdd['b'])\n",
    "\n",
    "mdd['c'] = 3\n",
    "\n",
    "print(mdd.dictionary)\n",
    "\n",
    "mdd['foo']"
   ]
  },
  {
   "cell_type": "markdown",
   "metadata": {},
   "source": [
    "#### Adding the Special Default Behaviour"
   ]
  },
  {
   "cell_type": "markdown",
   "metadata": {},
   "source": [
    "Now lets add in the special behavior on our indexing, we want to return the default value when an attempt is made to access a key that does not exist in the dictionary."
   ]
  },
  {
   "cell_type": "code",
   "execution_count": 34,
   "metadata": {
    "collapsed": true
   },
   "outputs": [],
   "source": [
    "class MyDefaultDict(object):\n",
    "    \"\"\"A personal implementation of a default dictionary.\"\"\"\n",
    "    \n",
    "    def __init__(self, default, dictionary):\n",
    "        self.default = default\n",
    "        self.dictionary = dictionary\n",
    "        \n",
    "    def __getitem__(self, key):\n",
    "        if key in self.dictionary:\n",
    "            return self.dictionary[key]\n",
    "        else:\n",
    "            self.dictionary[key] = self.default()\n",
    "            return self.dictionary[key]\n",
    "    \n",
    "    def __setitem__(self, key, value):\n",
    "        self.dictionary[key] = value"
   ]
  },
  {
   "cell_type": "markdown",
   "metadata": {},
   "source": [
    "Now the whole thing works as intended."
   ]
  },
  {
   "cell_type": "code",
   "execution_count": 35,
   "metadata": {},
   "outputs": [
    {
     "name": "stdout",
     "output_type": "stream",
     "text": [
      "1\n",
      "2\n",
      "0\n",
      "{'a': 1, 'b': 2, 'c': 0}\n"
     ]
    }
   ],
   "source": [
    "mdd = MyDefaultDict(default, {'a': 1, 'b': 2})\n",
    "\n",
    "print(mdd['a'])\n",
    "print(mdd['b'])\n",
    "print(mdd['c'])\n",
    "print(mdd.dictionary)"
   ]
  },
  {
   "cell_type": "markdown",
   "metadata": {},
   "source": [
    "#### Adding Other Dict-y Things"
   ]
  },
  {
   "cell_type": "markdown",
   "metadata": {},
   "source": [
    "A few things that should work for dictionaries still don't work for our new datatype."
   ]
  },
  {
   "cell_type": "code",
   "execution_count": 36,
   "metadata": {},
   "outputs": [
    {
     "ename": "TypeError",
     "evalue": "object of type 'MyDefaultDict' has no len()",
     "output_type": "error",
     "traceback": [
      "\u001b[0;31m---------------------------------------------------------------------------\u001b[0m",
      "\u001b[0;31mTypeError\u001b[0m                                 Traceback (most recent call last)",
      "\u001b[0;32m<ipython-input-36-4101444d36e7>\u001b[0m in \u001b[0;36m<module>\u001b[0;34m()\u001b[0m\n\u001b[0;32m----> 1\u001b[0;31m \u001b[0mlen\u001b[0m\u001b[0;34m(\u001b[0m\u001b[0mmdd\u001b[0m\u001b[0;34m)\u001b[0m\u001b[0;34m\u001b[0m\u001b[0m\n\u001b[0m",
      "\u001b[0;31mTypeError\u001b[0m: object of type 'MyDefaultDict' has no len()"
     ]
    }
   ],
   "source": [
    "len(mdd)"
   ]
  },
  {
   "cell_type": "markdown",
   "metadata": {},
   "source": [
    "Additionally, code like\n",
    "\n",
    "```python\n",
    "'c' in mdd\n",
    "```\n",
    "\n",
    "and\n",
    "\n",
    "```python\n",
    "for key in mdd:\n",
    "    print key, mdd[key]\n",
    "```\n",
    "\n",
    "will cause an infinite loop, due to a design error (at least, in the author's opinion) in Python itself.\n",
    "\n",
    "Let's fix that with more magic methods."
   ]
  },
  {
   "cell_type": "code",
   "execution_count": 37,
   "metadata": {
    "collapsed": true
   },
   "outputs": [],
   "source": [
    "class MyDefaultDict(object):\n",
    "    \"\"\"A personal implementation of a default dictionary.\"\"\"\n",
    "    \n",
    "    def __init__(self, default, dictionary):\n",
    "        self.default = default\n",
    "        self.dictionary = dictionary\n",
    "        \n",
    "    def __getitem__(self, key):\n",
    "        if key in self.dictionary:\n",
    "            return self.dictionary[key]\n",
    "        else:\n",
    "            return self.default()\n",
    "    \n",
    "    def __setitem__(self, key, value):\n",
    "        self.dictionary[key] = value\n",
    "        \n",
    "    def __len__(self):\n",
    "        return len(self.dictionary)\n",
    "        \n",
    "    def __contains__(self, key):\n",
    "        return key in self.dictionary\n",
    "    \n",
    "    def __iter__(self):\n",
    "        for key in self.dictionary:\n",
    "            yield key"
   ]
  },
  {
   "cell_type": "markdown",
   "metadata": {},
   "source": [
    "We have a few new methods:\n",
    "\n",
    "  - `__len__` allows our datatype to support calls to `len`.\n",
    "  - `__contains__` allows our datatype to support the `in` keyword.\n",
    "  - `__iter__` allows our datatype to support iteration, i.e., for loops.  The `yield` keyword here is new, and it is a powerful feature of python you will see often.  You should find some time to read about it [here](http://stackoverflow.com/questions/231767/what-does-the-yield-keyword-do-in-python).\n",
    "\n",
    "Let's try out our new features."
   ]
  },
  {
   "cell_type": "code",
   "execution_count": 39,
   "metadata": {},
   "outputs": [
    {
     "name": "stdout",
     "output_type": "stream",
     "text": [
      "True\n",
      "a 1\n",
      "b 2\n"
     ]
    }
   ],
   "source": [
    "mdd = MyDefaultDict(lambda: 0, {'a': 1, 'b': 2})\n",
    "\n",
    "print('a' in mdd)\n",
    "\n",
    "for key in mdd:\n",
    "    print(key, mdd[key])"
   ]
  },
  {
   "cell_type": "markdown",
   "metadata": {},
   "source": [
    "#### Non-Magic Methods\n",
    "\n",
    "It's worth repeating that not all methods are magic.  Really, most aren't, and most classes that do have magic methods will have plenty of non-magic methods as well."
   ]
  },
  {
   "cell_type": "markdown",
   "metadata": {},
   "source": [
    "### OrderedDict\n",
    "\n",
    "The `OrderedDict` type is a dictionary that remembers the order that keys are added.  While a basic dictionary has no order - iterating over a regular dictionary will access the key, values in a random order, iterating through a `OrderedDict` will access the keys in the same order that they were added.\n",
    "\n",
    "Your task is to **implement an ordered dictionary**.  Here are some questions to ask yourself:\n",
    "\n",
    "  - What data will you store on each instance.  Clearly you need a `dictionary`, just like in `defaultdict`.  How are you going to remember the order that keys were added to the dictionary?\n",
    "  - What methods will you need to implement.  Which one is the important one, i.e., the one that adds the new and interesting behavior?\n",
    "  - What happens if you add a key twice?  This is an edge case, which your final implementation should account for.\n"
   ]
  },
  {
   "cell_type": "code",
   "execution_count": null,
   "metadata": {
    "collapsed": true
   },
   "outputs": [],
   "source": []
  },
  {
   "cell_type": "markdown",
   "metadata": {
    "collapsed": true
   },
   "source": [
    "# Afternoon Lecture"
   ]
  },
  {
   "cell_type": "markdown",
   "metadata": {},
   "source": [
    "## An aside on theory\n",
    "\n",
    "Object-oriented programming is generally described as having three pillars. So far we've been talking about the first: **encapsulation**. This is the idea that access to the data in an object is limited to its methods.\n",
    "\n",
    "We haven't explicitly mentioned the second, **polymorphism**, but we've been talking about as we discussed difference types of dictionaries. All these classes behave in similar ways, and we can pass them into functions that expect dictionaries and they will work as they should. Python functions don't check the types of their parameters; as long as they have the right methods they will work okay. This approach is sometimes known as **duck typing**: if it looks like a duck and quacks like a duck then it's a duck.\n",
    "\n",
    "The third pillar of object-oriented programming is **inheritance**. Most languages handle polymorphism by having one class inherit from another, and objects of the derived class can be used like those of the original class. We can do that in python, and considered doing that above with the MyDefaultDict class, but because python doing care about the types of objects being passed to functions it isn't that important to python."
   ]
  },
  {
   "cell_type": "markdown",
   "metadata": {},
   "source": [
    "### Example: scipy distribution functions\n",
    "\n",
    "Suppose you want to choose a bunch of points from a normal distribution. You might think you'd just use a function, but this is a great example of object-oriented programming."
   ]
  },
  {
   "cell_type": "code",
   "execution_count": 41,
   "metadata": {
    "collapsed": true
   },
   "outputs": [],
   "source": [
    "from scipy import stats\n",
    "dist = stats.norm(1,2)"
   ]
  },
  {
   "cell_type": "markdown",
   "metadata": {},
   "source": [
    "We've created an object that represents a normal distribution with a mean of 1 and standard deviation of 2, and it has a method to generate **r**andom **v**alue**s** (`rvs`)."
   ]
  },
  {
   "cell_type": "code",
   "execution_count": 43,
   "metadata": {},
   "outputs": [
    {
     "name": "stdout",
     "output_type": "stream",
     "text": [
      "[ 3.08948805  3.15150547 -2.15873518  2.12705477 -3.83691962 -1.92741212\n",
      "  1.12642328  0.27349882 -0.23013546  3.0551735 ]\n"
     ]
    }
   ],
   "source": [
    "print(dist.rvs(10))"
   ]
  },
  {
   "cell_type": "markdown",
   "metadata": {},
   "source": [
    "Even better, it has a whole bunch of other methods as well, so we can get the mean and variance from it:"
   ]
  },
  {
   "cell_type": "code",
   "execution_count": 44,
   "metadata": {},
   "outputs": [
    {
     "name": "stdout",
     "output_type": "stream",
     "text": [
      "1.0\n",
      "4.0\n"
     ]
    }
   ],
   "source": [
    "print(dist.mean())\n",
    "print(dist.var())"
   ]
  },
  {
   "cell_type": "markdown",
   "metadata": {},
   "source": [
    "Or calculate the quantile function at 97.5%:"
   ]
  },
  {
   "cell_type": "code",
   "execution_count": 45,
   "metadata": {},
   "outputs": [
    {
     "name": "stdout",
     "output_type": "stream",
     "text": [
      "4.91992796908\n"
     ]
    }
   ],
   "source": [
    "print(dist.ppf(.975))"
   ]
  },
  {
   "cell_type": "markdown",
   "metadata": {},
   "source": [
    "Or even plot the probability distribution function:"
   ]
  },
  {
   "cell_type": "code",
   "execution_count": 46,
   "metadata": {
    "collapsed": true
   },
   "outputs": [],
   "source": [
    "import numpy as np\n",
    "import matplotlib.pyplot as plt\n",
    "%matplotlib inline"
   ]
  },
  {
   "cell_type": "code",
   "execution_count": 47,
   "metadata": {},
   "outputs": [
    {
     "data": {
      "text/plain": [
       "<matplotlib.text.Text at 0x10f7d7278>"
      ]
     },
     "execution_count": 47,
     "metadata": {},
     "output_type": "execute_result"
    },
    {
     "data": {
      "image/png": "[encoded data removed]",
      "text/plain": [
       "<matplotlib.figure.Figure at 0x10f758470>"
      ]
     },
     "metadata": {},
     "output_type": "display_data"
    }
   ],
   "source": [
    "fig, ax = plt.subplots()\n",
    "\n",
    "x = np.linspace(-6, 8)\n",
    "ax.plot(x, dist.pdf(x))\n",
    "ax.set_ylabel('PDF')\n",
    "ax.set_title('PDF of N(1,2)')"
   ]
  },
  {
   "cell_type": "markdown",
   "metadata": {},
   "source": [
    "But the really great thing is (and this is **polymorphism**), we can create objects for pretty much any distribution we can think of and they all behave in exactly the same way."
   ]
  },
  {
   "cell_type": "markdown",
   "metadata": {},
   "source": [
    "Over the course of the class we'll encounter a number of other types of objects. Other than the ones in standard libraries (like `defaultdict`), the main ones we use are\n",
    "\n",
    " * `array`, in numpy\n",
    " * `DataFrame` and `Series`, in `pandas`\n",
    " * various classifier, regressor, and transformer objects, in `sklearn`\n",
    " * `axis`, in `matplotlib`\n"
   ]
  },
  {
   "cell_type": "code",
   "execution_count": null,
   "metadata": {
    "collapsed": true
   },
   "outputs": [],
   "source": []
  }
 ],
 "metadata": {
  "anaconda-cloud": {},
  "kernelspec": {
   "display_name": "Python 3",
   "language": "python",
   "name": "python3"
  },
  "language_info": {
   "codemirror_mode": {
    "name": "ipython",
    "version": 3
   },
   "file_extension": ".py",
   "mimetype": "text/x-python",
   "name": "python",
   "nbconvert_exporter": "python",
   "pygments_lexer": "ipython3",
   "version": "3.6.1"
  }
 },
 "nbformat": 4,
 "nbformat_minor": 1
}
