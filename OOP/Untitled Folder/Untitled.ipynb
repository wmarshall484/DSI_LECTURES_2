{
 "cells": [
  {
   "cell_type": "markdown",
   "metadata": {},
   "source": [
    "# Object-Oriented Programming in Python\n",
    "## Skylar Versage\n",
    "## July 17, 2017\n",
    "\n",
    "## DSI Standards\n",
    "\n",
    "*   Given the code for a python class, instantiate a python object and call the methods.\n",
    "*   Design a program in object-oriented fashion.\n",
    "*   Write the python code for a simple class.\n",
    "*   Compare and contrast functional and object-oriented programming.\n",
    "*   Match key â€œmagicâ€ methods to their syntactic sugar."
   ]
  },
  {
   "cell_type": "markdown",
   "metadata": {},
   "source": [
    "## Objectives\n",
    "\n",
    "Morning objectives:\n",
    "\n",
    "*   Define key object-oriented (OO) concepts\n",
    "*   Use object-oriented approach to programming\n",
    "*   Design and implement a basic class\n",
    "*   Instantiate an object\n",
    "\n",
    "Afternoon objectives:\n",
    "\n",
    "*   List key magic methods\n",
    "*   Use basic decorators\n",
    "*   Verify code using test-driven development (TDD) and the Python debugger (PDB)"
   ]
  },
  {
   "cell_type": "markdown",
   "metadata": {},
   "source": [
    "## Agenda\n",
    "\n",
    "Today's plan:\n",
    "\n",
    "* Introduction to OOP\n",
    "*  Core OOP using Python\n",
    "*  Advanced OOP using Python\n",
    "*  Verification, unit tests, and debugging"
   ]
  },
  {
   "cell_type": "markdown",
   "metadata": {},
   "source": [
    "\n",
    "## Recommended Reading for Beginners\n",
    "\n",
    "A few helpful references, arranged by increasing difficulty:\n",
    "\n",
    "*   [Writing Idiomatic Python](https://jeffknupp.com/writing-idiomatic-python-ebook/) by Jeff Knupp\n",
    "*   [Python 3 Object-Oriented Programming](https://www.amazon.com/Python-3-Object-Oriented-Programming-Second/dp/1784398780) by Dusty Phillips\n",
    "*   [Effective Python](http://www.effectivepython.com) will help you raise your Python game\n",
    "*   [Head First Design Patterns](http://www.headfirstlabs.com/books/hfdp/)\n",
    "*   [Design Patterns: Elements of Reusable Object-Oriented Software](http://www.amazon.com/Design-Patterns-Elements-Reusable-Object-Oriented-ebook/dp/B000SEIBB8) is the canonical reference\n",
    "*   [Large-Scale C++ Software Design](http://www.amazon.com/Large-Scale-Software-Design-John-Lakos/dp/0201633620)\n",
    "\n",
    "Plus your favorite Python reference for language syntax..."
   ]
  },
  {
   "cell_type": "markdown",
   "metadata": {},
   "source": [
    "## Overview: What is OOP?\n",
    "\n",
    "Object-oriented programming is an approach that organizes data together with the code that can access it.\n",
    "\n",
    "Contrast to other programming paradigms: \n",
    "Procedural, Imperative, Functional...\n",
    "\n",
    "*[Wiki](https://en.wikipedia.org/wiki/Comparison_of_programming_paradigms)"
   ]
  },
  {
   "cell_type": "markdown",
   "metadata": {},
   "source": [
    "Object-Oriented Programming was developed to:\n",
    "\n",
    "*   Facilitate building large-scale software with many developers\n",
    "*   Promote software reuse:\n",
    "    -   Build software components (libraries)\n",
    "    -   Improved code quality by using debugged components\n",
    "*   Decouple code, improving maintainability and stability of code\n",
    "*   Promote separation of concerns\n",
    "*   Avoid common mistakes, such as forgetting to initialize or deallocate a resource"
   ]
  },
  {
   "cell_type": "markdown",
   "metadata": {},
   "source": [
    "##  Science and OOP\n",
    "\n",
    "Sometimes, OOP is not the best fit for doing science:\n",
    "\n",
    "*   Science is inherently linear:\n",
    "    -   Projects tend to build a pipeline\n",
    "    -   Most applications:\n",
    "        #.  Load data\n",
    "        #.  Compute something\n",
    "        #.  Serialize result to disk\n",
    "    -   Should be able to combine steps, similar to Unix's filters + pipes model\n",
    "*   But, need to know OOP:\n",
    "    -   To use libraries which have OO design\n",
    "    -   To build large-scale software"
   ]
  },
  {
   "cell_type": "markdown",
   "metadata": {},
   "source": [
    "##  Class vs. object/instance\n",
    "\n",
    "A *class*:\n",
    "\n",
    "*   Defines a *user-defined type*, i.e., a concept with data and actions\n",
    "*   A full class type, on par with `float`, `str`, etc.\n",
    "*   Consists of:\n",
    "    -   Attributes (data fields)\n",
    "    -   Methods (operations you can perform on the object)\n",
    "\n",
    "An *object*:\n",
    "\n",
    "*   Is an instance of a class\n",
    "*   Can create multiple instances of the same class\n",
    "*   In python, *everything is an object*"
   ]
  },
  {
   "cell_type": "markdown",
   "metadata": {},
   "source": [
    "##  Example: sci-kit learn\n",
    "\n",
    "All regression models -- `LinearRegression`, `LogisticRegression`, `Lasso`, `Ridge`, etc. -- support the same interface:\n",
    "\n",
    "| Method            | Action        |\n",
    "| :------------     | :------------ |\n",
    "|`.fit(X, y)`       | Train a model |\n",
    "|`.predict(X)`      | Predict target/label for new data |\n",
    "|`.score(X, y)`     | Compute accuracy given data and true labels |\n",
    "\n",
    "Huge benefits for user:\n",
    "\n",
    "*   Use same interface for every model\n",
    "*   Minimizes cognitive load\n",
    "*   Other tools (GridSearch, Pipeline) can use them interchangeably"
   ]
  },
  {
   "cell_type": "markdown",
   "metadata": {},
   "source": [
    "##  The big three\n",
    "\n",
    "OO revolves around three key concepts:\n",
    "\n",
    "*   Encapsulation\n",
    "*   Inheritance\n",
    "*   Polymorphism"
   ]
  },
  {
   "cell_type": "markdown",
   "metadata": {},
   "source": [
    "Encapsulation forces code to manipulate an object's internal state only through method calls:\n",
    "\n",
    "*   You should always program this way, regardless of language:\n",
    "    -   Write a library to manage a resource\n",
    "    -   Only access the resource via the library\n",
    "    -   Avoid errors from unexpected interactions\n",
    "    -   This is basic 'defensive programming'\n",
    "*   **Python will not enforce encapsulation**:\n",
    "    -   Malicious code can directly access an object's data\n",
    "    -   Violating encapsulation makes code impossible to maintain\n",
    "    -   *'We are all consenting adults'*"
   ]
  },
  {
   "cell_type": "markdown",
   "metadata": {},
   "source": [
    "##  Public vs. protected vs. private\n",
    "\n",
    "Some languages (C++, Java) enforce encapsulation by making attributes public, protected, or private:\n",
    "\n",
    "*   *Public*: accessible by any external code, e.g., a public interface\n",
    "*   *Protected*: access depends on the language, typically inaccessible by external code and accessible by derived classes\n",
    "*   *Private*:  accessible only by code from the same class, but not derived classes\n",
    "*   In Python, start the name with `_` if it is private"
   ]
  },
  {
   "cell_type": "markdown",
   "metadata": {},
   "source": [
    "##  Inheritance\n",
    "\n",
    "Derive a *child* class from a *base* class:\n",
    "\n",
    "*   Base class defines general or basic behavior\n",
    "*   Child class specializes or extends behavior\n",
    "    -   Child gets all the functionality of Base class for free\n",
    "    -   Child methods override Base methods of the same name\n",
    "\n",
    "\n",
    "##  Example: Inheritance"
   ]
  },
  {
   "cell_type": "code",
   "execution_count": 2,
   "metadata": {
    "collapsed": true
   },
   "outputs": [],
   "source": [
    "class Distribution(object):\n",
    "    def logpdf(self, x):\n",
    "        return np.log(self.pdf(x))\n",
    "\n",
    "class NormalDistribution(Distribution):\n",
    "    \n",
    "    def __init__(self,x, mean, std):\n",
    "        Distribution.__init__(x)\n",
    "        \n",
    "        self.mean = mean\n",
    "        self.std = std\n",
    "    def pdf(self, x):\n",
    "        pass"
   ]
  },
  {
   "cell_type": "markdown",
   "metadata": {},
   "source": [
    "##  Polymorphism\n",
    "\n",
    "OO code enables polymorphism:\n",
    "\n",
    "*   Treat multiple objects the same if they support same interface\n",
    "*   In most languages, objects must instantiate classes with a common base class\n",
    "*   Python uses *duck-typing*:\n",
    "    -   *'If it looks like a duck and quacks like a duck, it is a duck'*\n",
    "    -   Python does *not* require that classes are related via inheritance\n",
    "    -   Polymorphism works if object instantiates a class which defines the necessary attribute or method"
   ]
  },
  {
   "cell_type": "code",
   "execution_count": 12,
   "metadata": {},
   "outputs": [],
   "source": [
    "class Animal(object):\n",
    "    def make_noise(self):\n",
    "        raise NotImplementedError\n",
    "\n",
    "class Dog(Animal):\n",
    "    def __init__(self):\n",
    "        Animal.__init__(self)\n",
    "    \n",
    "    def make_noise(self):\n",
    "        print('woof')\n",
    "        \n",
    "class Cat(Animal):\n",
    "    def __init__(self):\n",
    "        Animal.__init__(self)"
   ]
  },
  {
   "cell_type": "code",
   "execution_count": 14,
   "metadata": {},
   "outputs": [
    {
     "name": "stdout",
     "output_type": "stream",
     "text": [
      "woof\n"
     ]
    },
    {
     "ename": "NotImplementedError",
     "evalue": "",
     "output_type": "error",
     "traceback": [
      "\u001b[0;31m---------------------------------------------------------------------------\u001b[0m",
      "\u001b[0;31mNotImplementedError\u001b[0m                       Traceback (most recent call last)",
      "\u001b[0;32m<ipython-input-14-187cafdad7d6>\u001b[0m in \u001b[0;36m<module>\u001b[0;34m()\u001b[0m\n\u001b[1;32m      6\u001b[0m \u001b[0;34m\u001b[0m\u001b[0m\n\u001b[1;32m      7\u001b[0m \u001b[0;31m#Cat is defaulting to the parent class\u001b[0m\u001b[0;34m\u001b[0m\u001b[0;34m\u001b[0m\u001b[0m\n\u001b[0;32m----> 8\u001b[0;31m \u001b[0mteddy\u001b[0m\u001b[0;34m.\u001b[0m\u001b[0mmake_noise\u001b[0m\u001b[0;34m(\u001b[0m\u001b[0;34m)\u001b[0m\u001b[0;34m\u001b[0m\u001b[0m\n\u001b[0m",
      "\u001b[0;32m<ipython-input-12-a3c1282354a4>\u001b[0m in \u001b[0;36mmake_noise\u001b[0;34m(self)\u001b[0m\n\u001b[1;32m      1\u001b[0m \u001b[0;32mclass\u001b[0m \u001b[0mAnimal\u001b[0m\u001b[0;34m(\u001b[0m\u001b[0mobject\u001b[0m\u001b[0;34m)\u001b[0m\u001b[0;34m:\u001b[0m\u001b[0;34m\u001b[0m\u001b[0m\n\u001b[1;32m      2\u001b[0m     \u001b[0;32mdef\u001b[0m \u001b[0mmake_noise\u001b[0m\u001b[0;34m(\u001b[0m\u001b[0mself\u001b[0m\u001b[0;34m)\u001b[0m\u001b[0;34m:\u001b[0m\u001b[0;34m\u001b[0m\u001b[0m\n\u001b[0;32m----> 3\u001b[0;31m         \u001b[0;32mraise\u001b[0m \u001b[0mNotImplementedError\u001b[0m\u001b[0;34m\u001b[0m\u001b[0m\n\u001b[0m\u001b[1;32m      4\u001b[0m \u001b[0;34m\u001b[0m\u001b[0m\n\u001b[1;32m      5\u001b[0m \u001b[0;32mclass\u001b[0m \u001b[0mDog\u001b[0m\u001b[0;34m(\u001b[0m\u001b[0mAnimal\u001b[0m\u001b[0;34m)\u001b[0m\u001b[0;34m:\u001b[0m\u001b[0;34m\u001b[0m\u001b[0m\n",
      "\u001b[0;31mNotImplementedError\u001b[0m: "
     ]
    }
   ],
   "source": [
    "ralph = Dog()\n",
    "teddy = Cat()\n",
    "\n",
    "#Dog has it's own behavior for the make_noise class\n",
    "ralph.make_noise()\n",
    "\n",
    "#Cat is defaulting to the parent class\n",
    "teddy.make_noise()"
   ]
  },
  {
   "cell_type": "markdown",
   "metadata": {},
   "source": [
    "##  More on typing\n",
    "\n",
    "Static typing:\n",
    "\n",
    "* Used in C, C++, C#, Java, Fortran, etc.\n",
    "* Types are known at compile time\n",
    "* Can be explicit or inferred\n",
    "* Can catch bugs early\n",
    "* Allows optimization based on type\n",
    "* Inheritance required for polymorphism\n",
    "\n",
    "Dynamic typing\n",
    "\n",
    "* Used in Python, Perl (mostly), Ruby, JavaScript, etc.\n",
    "* Type of an object checked at run time\n",
    "* Much more flexible\n",
    "* Easier to code simple scripts\n",
    "\n",
    "Most languages are a mixture."
   ]
  },
  {
   "cell_type": "markdown",
   "metadata": {},
   "source": [
    "##  Example of a simple class\n",
    "\n",
    "```python\n",
    "import math\n",
    "class Vector(object):\n",
    "    def __init__(self, x, y):\n",
    "        self.x = x\n",
    "        self.y = y\n",
    "\n",
    "    def norm(self):\n",
    "        return math.sqrt(self.x**2 + self.y**2)\n",
    "\n",
    "    def add(self, other):\n",
    "        return Vector(self.x+other.x, self.other.y)\n",
    "```\n",
    "\n",
    "##  `self`\n",
    "\n",
    "Use `self` to refer to an instance's own, unique data:\n",
    "\n",
    "*   I.e., use `self` for 'self-reference'\n",
    "*   Use `self` in a class's member functions to access instance-specific data\n",
    "*   Like `this` in C++\n",
    "*   Start each member function's argument list with `self`\n",
    "    -   ... unless it is a static or class member function"
   ]
  },
  {
   "cell_type": "code",
   "execution_count": null,
   "metadata": {
    "collapsed": true
   },
   "outputs": [],
   "source": []
  }
 ],
 "metadata": {
  "kernelspec": {
   "display_name": "Python 2",
   "language": "python",
   "name": "python2"
  },
  "language_info": {
   "codemirror_mode": {
    "name": "ipython",
    "version": 2
   },
   "file_extension": ".py",
   "mimetype": "text/x-python",
   "name": "python",
   "nbconvert_exporter": "python",
   "pygments_lexer": "ipython2",
   "version": "2.7.13"
  }
 },
 "nbformat": 4,
 "nbformat_minor": 2
}
