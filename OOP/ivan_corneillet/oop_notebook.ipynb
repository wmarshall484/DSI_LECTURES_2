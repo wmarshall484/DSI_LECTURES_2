{
 "cells": [
  {
   "cell_type": "markdown",
   "metadata": {},
   "source": [
    "# Introduction to OOP in Python"
   ]
  },
  {
   "cell_type": "markdown",
   "metadata": {},
   "source": [
    "## Core OOP using Python"
   ]
  },
  {
   "cell_type": "markdown",
   "metadata": {},
   "source": [
    "### Defining a class"
   ]
  },
  {
   "cell_type": "code",
   "execution_count": 1,
   "metadata": {
    "collapsed": true
   },
   "outputs": [],
   "source": [
    "class Fraction:\n",
    "    '''\n",
    "    This class represents a fractional value, e.g., 1/10\n",
    "    '''\n",
    "\n",
    "    def __init__(self, numerator, denominator):\n",
    "        '''\n",
    "        Initialize this fraction to numerator over denominator\n",
    "        '''\n",
    "\n",
    "        if denominator == 0:\n",
    "            raise ZeroDivisionError('Denominator is zero')\n",
    "\n",
    "        self.numerator = numerator\n",
    "        self.denominator = denominator\n",
    "\n",
    "    def increment(self, other):\n",
    "        '''\n",
    "        Increment the fractional value by another fractional value\n",
    "        '''\n",
    "\n",
    "        self.numerator = self.numerator * other.denominator + other.numerator * self.denominator\n",
    "        self.denominator *= other.denominator"
   ]
  },
  {
   "cell_type": "markdown",
   "metadata": {},
   "source": [
    "### Instantiating objects"
   ]
  },
  {
   "cell_type": "code",
   "execution_count": 2,
   "metadata": {},
   "outputs": [
    {
     "name": "stdout",
     "output_type": "stream",
     "text": [
      "25\n",
      "50\n"
     ]
    }
   ],
   "source": [
    "a = Fraction(1, 10)\n",
    "b = Fraction(2, 5)\n",
    "\n",
    "a.increment(b)\n",
    "\n",
    "print(a.numerator)\n",
    "print(a.denominator)"
   ]
  },
  {
   "cell_type": "markdown",
   "metadata": {},
   "source": [
    "### Encapsulation"
   ]
  },
  {
   "cell_type": "code",
   "execution_count": 3,
   "metadata": {
    "collapsed": true
   },
   "outputs": [],
   "source": [
    "class Fraction:\n",
    "    '''\n",
    "    This class represents a fractional value, e.g., 1/10\n",
    "    '''\n",
    "\n",
    "    def __init__(self, numerator, denominator):\n",
    "        '''\n",
    "        Initialize this fraction to numerator over denominator\n",
    "        '''\n",
    "\n",
    "        if denominator == 0:\n",
    "            raise ZeroDivisionError('Denominator is zero')\n",
    "\n",
    "        self.numerator = numerator\n",
    "        self.denominator = denominator\n",
    "        self._reduce()\n",
    "\n",
    "    def increment(self, other):\n",
    "        '''\n",
    "        Increment the fractional value by another fractional value\n",
    "        '''\n",
    "\n",
    "        self.numerator = self.numerator * other.denominator + other.numerator * self.denominator\n",
    "        self.denominator *= other.denominator\n",
    "        self._reduce()\n",
    "        \n",
    "    def _reduce(self):\n",
    "        '''\n",
    "        Reduce the fraction to its canonical (simplified) form, e.g. 2/4 becomes 1/2\n",
    "        '''\n",
    "\n",
    "        d = self._gcd(self.numerator, self.denominator)\n",
    "        self.numerator /= d\n",
    "        self.denominator /= d\n",
    "\n",
    "        if self.denominator < 0:\n",
    "            self.numerator *= -1\n",
    "            self.denominator *= -1\n",
    "\n",
    "        if self.numerator == 0:\n",
    "            self.denom = 1\n",
    "\n",
    "    def _gcd(self, a, b):\n",
    "        '''\n",
    "        Return the greatest common divisor of two integers\n",
    "        '''\n",
    "\n",
    "        while a != 0:\n",
    "            (a, b) = (b % a, a)\n",
    "        return b"
   ]
  },
  {
   "cell_type": "code",
   "execution_count": 4,
   "metadata": {},
   "outputs": [
    {
     "name": "stdout",
     "output_type": "stream",
     "text": [
      "1.0\n",
      "2.0\n"
     ]
    }
   ],
   "source": [
    "a = Fraction(1, 10)\n",
    "b = Fraction(2, 5)\n",
    "\n",
    "a.increment(b)\n",
    "\n",
    "print(a.numerator)\n",
    "print(a.denominator)"
   ]
  },
  {
   "cell_type": "markdown",
   "metadata": {},
   "source": [
    "### Inheritance"
   ]
  },
  {
   "cell_type": "code",
   "execution_count": 5,
   "metadata": {},
   "outputs": [],
   "source": [
    "class AbstractValue:\n",
    "    '''\n",
    "    This class defines an interface for value; needs to be derived\n",
    "    '''\n",
    "\n",
    "    def __init__(self):\n",
    "        pass\n",
    "\n",
    "    def increment(self, other):\n",
    "        pass\n",
    "\n",
    "class Fraction(AbstractValue):\n",
    "    '''\n",
    "    This class represents a fractional value, e.g., 1/10\n",
    "    '''\n",
    "\n",
    "    def __init__(self, numerator, denominator):\n",
    "        '''\n",
    "        Initialize this fraction to numerator over denominator\n",
    "        '''\n",
    "\n",
    "        super().__init__()\n",
    "\n",
    "        if denominator == 0:\n",
    "            raise ZeroDivisionError('Denominator is zero')\n",
    "\n",
    "        self.numerator = numerator\n",
    "        self.denominator = denominator\n",
    "        self._reduce()\n",
    "\n",
    "    def increment(self, other):\n",
    "        '''\n",
    "        Increment the fractional value by another fractional value\n",
    "        '''\n",
    "\n",
    "        self.numerator = self.numerator * other.denominator + other.numerator * self.denominator\n",
    "        self.denominator *= other.denominator\n",
    "        self._reduce()\n",
    "        \n",
    "    def _reduce(self):\n",
    "        '''\n",
    "        Reduce the fraction to its canonical (simplified) form, e.g. 2/4 becomes 1/2\n",
    "        '''\n",
    "\n",
    "        d = self._gcd(self.numerator, self.denominator)\n",
    "        self.numerator /= d\n",
    "        self.denominator /= d\n",
    "\n",
    "        if self.denominator < 0:\n",
    "            self.numerator *= -1\n",
    "            self.denominator *= -1\n",
    "\n",
    "        if self.numerator == 0:\n",
    "            self.denom = 1\n",
    "\n",
    "    def _gcd(self, a, b):\n",
    "        '''\n",
    "        Return the greatest common divisor of two integers\n",
    "        '''\n",
    "\n",
    "        while a != 0:\n",
    "            (a, b) = (b % a, a)\n",
    "        return b\n",
    "\n",
    "class Complex(AbstractValue):\n",
    "    '''\n",
    "    This class represents a complex value, e.g., 1 + 10i\n",
    "    '''\n",
    "\n",
    "    def __init__(self, real, imaginary):\n",
    "        super(Complex, self).__init__()\n",
    "\n",
    "        self.real = real\n",
    "        self.imaginary = imaginary\n",
    "\n",
    "    def increment(self, other):\n",
    "        self.real += other.real\n",
    "        self.imaginary += other.imaginary"
   ]
  },
  {
   "cell_type": "code",
   "execution_count": 6,
   "metadata": {},
   "outputs": [
    {
     "name": "stdout",
     "output_type": "stream",
     "text": [
      "True\n",
      "True\n",
      "False\n"
     ]
    }
   ],
   "source": [
    "a = Complex(1, 10)\n",
    "\n",
    "print(isinstance(a, AbstractValue))\n",
    "print(isinstance(a, Complex))\n",
    "print(isinstance(a, Fraction))"
   ]
  },
  {
   "cell_type": "markdown",
   "metadata": {},
   "source": [
    "## Advanced OOP using Python"
   ]
  },
  {
   "cell_type": "markdown",
   "metadata": {},
   "source": [
    "### `*args`"
   ]
  },
  {
   "cell_type": "code",
   "execution_count": 7,
   "metadata": {},
   "outputs": [],
   "source": [
    "def my_args(a, b, c):\n",
    "    print('* a =', a)\n",
    "    print('* b =', b)\n",
    "    print('* c =', c)"
   ]
  },
  {
   "cell_type": "code",
   "execution_count": 8,
   "metadata": {},
   "outputs": [
    {
     "name": "stdout",
     "output_type": "stream",
     "text": [
      "* a = 10\n",
      "* b = 20\n",
      "* c = 30\n"
     ]
    }
   ],
   "source": [
    "my_args(10, 20, 30)"
   ]
  },
  {
   "cell_type": "code",
   "execution_count": 9,
   "metadata": {},
   "outputs": [
    {
     "name": "stdout",
     "output_type": "stream",
     "text": [
      "* a = 10\n",
      "* b = 20\n",
      "* c = 30\n"
     ]
    }
   ],
   "source": [
    "x = [10, 20, 30]\n",
    "my_args(*x)"
   ]
  },
  {
   "cell_type": "code",
   "execution_count": 10,
   "metadata": {},
   "outputs": [],
   "source": [
    "def my_args2(*args):\n",
    "    for i in args:\n",
    "        print('*', i)"
   ]
  },
  {
   "cell_type": "code",
   "execution_count": 11,
   "metadata": {},
   "outputs": [
    {
     "name": "stdout",
     "output_type": "stream",
     "text": [
      "* 10\n",
      "* 20\n",
      "* 30\n",
      "* 40\n",
      "* 50\n",
      "* 60\n",
      "* 70\n"
     ]
    }
   ],
   "source": [
    "my_args2(10, 20, 30, 40, 50, 60, 70)"
   ]
  },
  {
   "cell_type": "code",
   "execution_count": 12,
   "metadata": {},
   "outputs": [
    {
     "name": "stdout",
     "output_type": "stream",
     "text": [
      "* 10\n",
      "* 20\n",
      "* 30\n",
      "* 40\n",
      "* 50\n",
      "* 60\n",
      "* 70\n"
     ]
    }
   ],
   "source": [
    "x = [10, 20, 30, 40, 50, 60, 70]\n",
    "my_args2(*x)"
   ]
  },
  {
   "cell_type": "markdown",
   "metadata": {},
   "source": [
    "### `**kwargs`"
   ]
  },
  {
   "cell_type": "code",
   "execution_count": 13,
   "metadata": {},
   "outputs": [],
   "source": [
    "def my_kwargs(**kwargs):\n",
    "    for key in kwargs:\n",
    "        value = kwargs[key]\n",
    "        print('*', key, '=', value)"
   ]
  },
  {
   "cell_type": "code",
   "execution_count": 14,
   "metadata": {},
   "outputs": [
    {
     "name": "stdout",
     "output_type": "stream",
     "text": [
      "* a = 1\n",
      "* b = 2\n",
      "* c = 3\n"
     ]
    }
   ],
   "source": [
    "my_kwargs(a = 1, b = 2, c = 3)"
   ]
  },
  {
   "cell_type": "code",
   "execution_count": 15,
   "metadata": {},
   "outputs": [
    {
     "name": "stdout",
     "output_type": "stream",
     "text": [
      "* a = 1\n",
      "* b = 2\n",
      "* c = 3\n"
     ]
    }
   ],
   "source": [
    "h = {'a': 1, 'b': 2, 'c': 3}\n",
    "my_kwargs(**h)"
   ]
  },
  {
   "cell_type": "markdown",
   "metadata": {},
   "source": [
    "### `*args` and `kwargs`"
   ]
  },
  {
   "cell_type": "code",
   "execution_count": 16,
   "metadata": {},
   "outputs": [],
   "source": [
    "def my_args_and_kwargs(a, b, c, **kwargs):\n",
    "    print('* a =', a)\n",
    "    print('* b =', b)\n",
    "    print('* c =', c)\n",
    "    for key in kwargs:\n",
    "        value = kwargs[key]\n",
    "        print('*', key, '=', value)"
   ]
  },
  {
   "cell_type": "code",
   "execution_count": 17,
   "metadata": {},
   "outputs": [
    {
     "name": "stdout",
     "output_type": "stream",
     "text": [
      "* a = 1\n",
      "* b = 2\n",
      "* c = 3\n",
      "* x = 1\n",
      "* y = 2\n",
      "* z = 3\n"
     ]
    }
   ],
   "source": [
    "my_args_and_kwargs(1, 2, 3, x = 1, y = 2, z = 3)"
   ]
  },
  {
   "cell_type": "markdown",
   "metadata": {},
   "source": [
    "### @property"
   ]
  },
  {
   "cell_type": "code",
   "execution_count": 18,
   "metadata": {},
   "outputs": [],
   "source": [
    "class MyRegression:\n",
    "    def __init__(self, name):\n",
    "        self._name = name\n",
    "\n",
    "    @property\n",
    "    def name(self):\n",
    "        return self._name"
   ]
  },
  {
   "cell_type": "code",
   "execution_count": 19,
   "metadata": {},
   "outputs": [],
   "source": [
    "my_regression = MyRegression('Linear')"
   ]
  },
  {
   "cell_type": "code",
   "execution_count": 20,
   "metadata": {},
   "outputs": [
    {
     "data": {
      "text/plain": [
       "'Linear'"
      ]
     },
     "execution_count": 20,
     "metadata": {},
     "output_type": "execute_result"
    }
   ],
   "source": [
    "my_regression.name"
   ]
  },
  {
   "cell_type": "code",
   "execution_count": 21,
   "metadata": {},
   "outputs": [
    {
     "ename": "AttributeError",
     "evalue": "can't set attribute",
     "output_type": "error",
     "traceback": [
      "\u001b[0;31m---------------------------------------------------------------------------\u001b[0m",
      "\u001b[0;31mAttributeError\u001b[0m                            Traceback (most recent call last)",
      "\u001b[0;32m<ipython-input-21-a3b3f1a89e0f>\u001b[0m in \u001b[0;36m<module>\u001b[0;34m()\u001b[0m\n\u001b[0;32m----> 1\u001b[0;31m \u001b[0mmy_regression\u001b[0m\u001b[0;34m.\u001b[0m\u001b[0mname\u001b[0m \u001b[0;34m=\u001b[0m \u001b[0;34m'Logistic'\u001b[0m\u001b[0;34m\u001b[0m\u001b[0m\n\u001b[0m",
      "\u001b[0;31mAttributeError\u001b[0m: can't set attribute"
     ]
    }
   ],
   "source": [
    "my_regression.name = 'Logistic'"
   ]
  },
  {
   "cell_type": "code",
   "execution_count": 22,
   "metadata": {
    "collapsed": true
   },
   "outputs": [],
   "source": [
    "class MyRegression:\n",
    "    def __init__(self, name):\n",
    "        self._name = name\n",
    "\n",
    "    @property\n",
    "    def name(self):\n",
    "        return self._name\n",
    "\n",
    "    @name.setter\n",
    "    def name(self, new_name):\n",
    "        self._name = new_name"
   ]
  },
  {
   "cell_type": "code",
   "execution_count": 23,
   "metadata": {
    "collapsed": true
   },
   "outputs": [],
   "source": [
    "my_regression = MyRegression('Linear')"
   ]
  },
  {
   "cell_type": "code",
   "execution_count": 24,
   "metadata": {},
   "outputs": [
    {
     "data": {
      "text/plain": [
       "'Linear'"
      ]
     },
     "execution_count": 24,
     "metadata": {},
     "output_type": "execute_result"
    }
   ],
   "source": [
    "my_regression.name"
   ]
  },
  {
   "cell_type": "code",
   "execution_count": 25,
   "metadata": {
    "collapsed": true
   },
   "outputs": [],
   "source": [
    "my_regression.name = 'Logistic'"
   ]
  },
  {
   "cell_type": "code",
   "execution_count": 26,
   "metadata": {},
   "outputs": [
    {
     "data": {
      "text/plain": [
       "'Logistic'"
      ]
     },
     "execution_count": 26,
     "metadata": {},
     "output_type": "execute_result"
    }
   ],
   "source": [
    "my_regression.name"
   ]
  },
  {
   "cell_type": "markdown",
   "metadata": {},
   "source": [
    "### @classmethod"
   ]
  },
  {
   "cell_type": "code",
   "execution_count": 27,
   "metadata": {
    "collapsed": true
   },
   "outputs": [],
   "source": [
    "class MyClass:\n",
    "    _counter = 0\n",
    "    \n",
    "    def __init__(self):\n",
    "        self.__class__._counter += 1\n",
    "\n",
    "    @classmethod\n",
    "    def n_created(cls):\n",
    "        return cls._counter"
   ]
  },
  {
   "cell_type": "code",
   "execution_count": 28,
   "metadata": {},
   "outputs": [
    {
     "data": {
      "text/plain": [
       "0"
      ]
     },
     "execution_count": 28,
     "metadata": {},
     "output_type": "execute_result"
    }
   ],
   "source": [
    "MyClass.n_created()"
   ]
  },
  {
   "cell_type": "code",
   "execution_count": 29,
   "metadata": {},
   "outputs": [],
   "source": [
    "a = MyClass()"
   ]
  },
  {
   "cell_type": "code",
   "execution_count": 30,
   "metadata": {},
   "outputs": [
    {
     "data": {
      "text/plain": [
       "1"
      ]
     },
     "execution_count": 30,
     "metadata": {},
     "output_type": "execute_result"
    }
   ],
   "source": [
    "MyClass.n_created()"
   ]
  },
  {
   "cell_type": "code",
   "execution_count": 31,
   "metadata": {},
   "outputs": [],
   "source": [
    "b = MyClass()"
   ]
  },
  {
   "cell_type": "code",
   "execution_count": 32,
   "metadata": {},
   "outputs": [
    {
     "data": {
      "text/plain": [
       "2"
      ]
     },
     "execution_count": 32,
     "metadata": {},
     "output_type": "execute_result"
    }
   ],
   "source": [
    "MyClass.n_created()"
   ]
  },
  {
   "cell_type": "markdown",
   "metadata": {},
   "source": [
    "### @staticmethod"
   ]
  },
  {
   "cell_type": "code",
   "execution_count": 33,
   "metadata": {
    "collapsed": true
   },
   "outputs": [],
   "source": [
    "class Fraction:\n",
    "    '''\n",
    "    This class represents a fractional value, e.g., 1/10\n",
    "    '''\n",
    "\n",
    "    def __init__(self, numerator, denominator):\n",
    "        '''\n",
    "        Initialize this fraction to numerator over denominator\n",
    "        '''\n",
    "\n",
    "        if denominator == 0:\n",
    "            raise ZeroDivisionError('Denominator is zero')\n",
    "\n",
    "        self.numerator = numerator\n",
    "        self.denominator = denominator\n",
    "        self._reduce()\n",
    "\n",
    "    def increment(self, other):\n",
    "        '''\n",
    "        Increment the fractional value by another fractional value\n",
    "        '''\n",
    "\n",
    "        self.numerator = self.numerator * other.denominator + other.numerator * self.denominator\n",
    "        self.denominator *= other.denominator\n",
    "        self._reduce()\n",
    "        \n",
    "    def _reduce(self):\n",
    "        '''\n",
    "        Reduce the fraction to its canonical (simplified) form, e.g. 2/4 becomes 1/2\n",
    "        '''\n",
    "\n",
    "        d = Fraction._gcd(self.numerator, self.denominator)\n",
    "        self.numerator /= d\n",
    "        self.denominator /= d\n",
    "\n",
    "        if self.denominator < 0:\n",
    "            self.numerator *= -1\n",
    "            self.denominator *= -1\n",
    "\n",
    "        if self.numerator == 0:\n",
    "            self.denom = 1\n",
    "\n",
    "    @staticmethod\n",
    "    def _gcd(a, b):\n",
    "        '''\n",
    "        Return the greatest common divisor of two integers\n",
    "        '''\n",
    "\n",
    "        while a != 0:\n",
    "            (a, b) = (b % a, a)\n",
    "        return b"
   ]
  },
  {
   "cell_type": "code",
   "execution_count": 34,
   "metadata": {
    "collapsed": true
   },
   "outputs": [],
   "source": [
    "a = Fraction(1, 10)"
   ]
  },
  {
   "cell_type": "markdown",
   "metadata": {},
   "source": [
    "### Magic Methods"
   ]
  },
  {
   "cell_type": "markdown",
   "metadata": {},
   "source": [
    "#### \\_\\_del\\_\\_"
   ]
  },
  {
   "cell_type": "code",
   "execution_count": 35,
   "metadata": {
    "collapsed": true
   },
   "outputs": [],
   "source": [
    "class MyClass:\n",
    "    _counter = 0\n",
    "    \n",
    "    def __init__(self):\n",
    "        self.__class__._counter += 1\n",
    "\n",
    "    def __del__(self):\n",
    "        self.__class__._counter -= 1\n",
    "\n",
    "    @classmethod\n",
    "    def n_active(cls):\n",
    "        return cls._counter"
   ]
  },
  {
   "cell_type": "code",
   "execution_count": 36,
   "metadata": {},
   "outputs": [
    {
     "data": {
      "text/plain": [
       "3"
      ]
     },
     "execution_count": 36,
     "metadata": {},
     "output_type": "execute_result"
    }
   ],
   "source": [
    "a = MyClass()\n",
    "b = MyClass()\n",
    "c = MyClass()\n",
    "\n",
    "MyClass.n_active()"
   ]
  },
  {
   "cell_type": "code",
   "execution_count": 37,
   "metadata": {},
   "outputs": [
    {
     "data": {
      "text/plain": [
       "1"
      ]
     },
     "execution_count": 37,
     "metadata": {},
     "output_type": "execute_result"
    }
   ],
   "source": [
    "del b\n",
    "del c\n",
    "\n",
    "MyClass.n_active()"
   ]
  },
  {
   "cell_type": "markdown",
   "metadata": {},
   "source": [
    "#### \\_\\_repr\\_\\_, \\_\\_str\\_\\_, \\_\\_eq\\_\\_, \\_\\_ne\\_\\_, \\_\\_lt\\_\\_, \\_\\_le\\_\\_, \\_\\_gt\\_\\_, \\_\\_ge\\_\\_"
   ]
  },
  {
   "cell_type": "code",
   "execution_count": 38,
   "metadata": {
    "collapsed": true
   },
   "outputs": [],
   "source": [
    "class Fraction:\n",
    "    '''\n",
    "    This class represents a fractional value, e.g., 1/10\n",
    "    '''\n",
    "\n",
    "    def __init__(self, numerator, denominator):\n",
    "        '''\n",
    "        Initialize this fraction to numerator over denominator\n",
    "        '''\n",
    "\n",
    "        if denominator == 0:\n",
    "            raise ZeroDivisionError('Denominator is zero')\n",
    "\n",
    "        self.numerator = numerator\n",
    "        self.denominator = denominator\n",
    "        self._reduce()\n",
    "\n",
    "    def increment(self, other):\n",
    "        '''\n",
    "        Increment the fractional value by another fractional value\n",
    "        '''\n",
    "\n",
    "        self.numerator = self.numerator * other.denominator + other.numerator * self.denominator\n",
    "        self.denominator *= other.denominator\n",
    "        self._reduce()\n",
    "        \n",
    "    def _reduce(self):\n",
    "        '''\n",
    "        Reduce the fraction to its canonical (simplified) form, e.g. 2/4 becomes 1/2\n",
    "        '''\n",
    "\n",
    "        d = self._gcd(self.numerator, self.denominator)\n",
    "        self.numerator /= d\n",
    "        self.denominator /= d\n",
    "\n",
    "        if self.denominator < 0:\n",
    "            self.numerator *= -1\n",
    "            self.denominator *= -1\n",
    "\n",
    "        if self.numerator == 0:\n",
    "            self.denom = 1\n",
    "\n",
    "    def _gcd(self, a, b):\n",
    "        '''\n",
    "        Return the greatest common divisor of two integers\n",
    "        '''\n",
    "\n",
    "        while a != 0:\n",
    "            (a, b) = (b % a, a)\n",
    "        return b"
   ]
  },
  {
   "cell_type": "code",
   "execution_count": 39,
   "metadata": {
    "collapsed": true
   },
   "outputs": [],
   "source": [
    "a = Fraction(1, 10)"
   ]
  },
  {
   "cell_type": "code",
   "execution_count": 40,
   "metadata": {},
   "outputs": [
    {
     "data": {
      "text/plain": [
       "<__main__.Fraction at 0x108df3358>"
      ]
     },
     "execution_count": 40,
     "metadata": {},
     "output_type": "execute_result"
    }
   ],
   "source": [
    "a"
   ]
  },
  {
   "cell_type": "code",
   "execution_count": 41,
   "metadata": {},
   "outputs": [
    {
     "data": {
      "text/plain": [
       "'<__main__.Fraction object at 0x108df3358>'"
      ]
     },
     "execution_count": 41,
     "metadata": {},
     "output_type": "execute_result"
    }
   ],
   "source": [
    "repr(a)"
   ]
  },
  {
   "cell_type": "code",
   "execution_count": 42,
   "metadata": {},
   "outputs": [
    {
     "data": {
      "text/plain": [
       "'<__main__.Fraction object at 0x108df3358>'"
      ]
     },
     "execution_count": 42,
     "metadata": {},
     "output_type": "execute_result"
    }
   ],
   "source": [
    "str(a)"
   ]
  },
  {
   "cell_type": "code",
   "execution_count": 43,
   "metadata": {
    "collapsed": true
   },
   "outputs": [],
   "source": [
    "b = Fraction(1, 10)"
   ]
  },
  {
   "cell_type": "code",
   "execution_count": 44,
   "metadata": {},
   "outputs": [
    {
     "data": {
      "text/plain": [
       "False"
      ]
     },
     "execution_count": 44,
     "metadata": {},
     "output_type": "execute_result"
    }
   ],
   "source": [
    "a == b"
   ]
  },
  {
   "cell_type": "code",
   "execution_count": 45,
   "metadata": {
    "collapsed": true
   },
   "outputs": [],
   "source": [
    "class Fraction:\n",
    "    '''\n",
    "    This class represents a fractional value, e.g., 1/10\n",
    "    '''\n",
    "\n",
    "    def __init__(self, numerator, denominator):\n",
    "        '''\n",
    "        Initialize this fraction to numerator over denominator\n",
    "        '''\n",
    "\n",
    "        if denominator == 0:\n",
    "            raise ZeroDivisionError('Denominator is zero')\n",
    "\n",
    "        self.numerator = numerator\n",
    "        self.denominator = denominator\n",
    "        self._reduce()\n",
    "\n",
    "    def __repr__(self):\n",
    "        return '{} / {} (__repr__)'.format(self.numerator, self.denominator)\n",
    "    \n",
    "    def __str__(self):\n",
    "        return '{} / {} (__str__)'.format(self.numerator, self.denominator)\n",
    "\n",
    "    def __eq__(self, other):\n",
    "        return self.numerator * other.denominator == other.numerator * self.denominator\n",
    "\n",
    "    def __ne__(self, other):\n",
    "        return self.numerator * other.denominator != other.numerator * self.denominator\n",
    "\n",
    "    def __lt__(self, other):\n",
    "        return self.numerator * other.denominator < other.numerator * self.denominator\n",
    "\n",
    "    def __le__(self, other):\n",
    "        return self.numerator * other.denominator <= other.numerator * self.denominator\n",
    "\n",
    "    def __gt__(self, other):\n",
    "        return self.numerator * other.denominator > other.numerator * self.denominator\n",
    "\n",
    "    def __ge__(self, other):\n",
    "        return self.numerator * other.denominator >= other.numerator * self.denominator\n",
    "\n",
    "    def __add__(self, other):\n",
    "        '''\n",
    "        Increment the fractional value by another fractional value\n",
    "        '''\n",
    "\n",
    "        numerator = self.numerator * other.denominator + other.numerator * self.denominator\n",
    "        denominator = self.denominator * other.denominator\n",
    "        \n",
    "        return Fraction(numerator, denominator)\n",
    "\n",
    "    def _reduce(self):\n",
    "        '''\n",
    "        Reduce the fraction to its canonical (simplified) form, e.g. 2/4 becomes 1/2\n",
    "        '''\n",
    "\n",
    "        d = self._gcd(self.numerator, self.denominator)\n",
    "        self.numerator /= d\n",
    "        self.denominator /= d\n",
    "\n",
    "        if self.denominator < 0:\n",
    "            self.numerator *= -1\n",
    "            self.denominator *= -1\n",
    "\n",
    "        if self.numerator == 0:\n",
    "            self.denom = 1\n",
    "\n",
    "    def _gcd(self, a, b):\n",
    "        '''\n",
    "        Return the greatest common divisor of two integers\n",
    "        '''\n",
    "\n",
    "        while a != 0:\n",
    "            (a, b) = (b % a, a)\n",
    "\n",
    "        return b"
   ]
  },
  {
   "cell_type": "code",
   "execution_count": 46,
   "metadata": {
    "collapsed": true
   },
   "outputs": [],
   "source": [
    "a = Fraction(1, 10)"
   ]
  },
  {
   "cell_type": "code",
   "execution_count": 47,
   "metadata": {},
   "outputs": [
    {
     "data": {
      "text/plain": [
       "1.0 / 10.0 (__repr__)"
      ]
     },
     "execution_count": 47,
     "metadata": {},
     "output_type": "execute_result"
    }
   ],
   "source": [
    "a"
   ]
  },
  {
   "cell_type": "code",
   "execution_count": 48,
   "metadata": {},
   "outputs": [
    {
     "data": {
      "text/plain": [
       "'1.0 / 10.0 (__repr__)'"
      ]
     },
     "execution_count": 48,
     "metadata": {},
     "output_type": "execute_result"
    }
   ],
   "source": [
    "repr(a)"
   ]
  },
  {
   "cell_type": "code",
   "execution_count": 49,
   "metadata": {},
   "outputs": [
    {
     "data": {
      "text/plain": [
       "'1.0 / 10.0 (__str__)'"
      ]
     },
     "execution_count": 49,
     "metadata": {},
     "output_type": "execute_result"
    }
   ],
   "source": [
    "str(a)"
   ]
  },
  {
   "cell_type": "code",
   "execution_count": 50,
   "metadata": {
    "collapsed": true
   },
   "outputs": [],
   "source": [
    "b = Fraction(1, 10)"
   ]
  },
  {
   "cell_type": "code",
   "execution_count": 51,
   "metadata": {},
   "outputs": [
    {
     "data": {
      "text/plain": [
       "True"
      ]
     },
     "execution_count": 51,
     "metadata": {},
     "output_type": "execute_result"
    }
   ],
   "source": [
    "a == b"
   ]
  },
  {
   "cell_type": "code",
   "execution_count": 52,
   "metadata": {
    "collapsed": true
   },
   "outputs": [],
   "source": [
    "c = Fraction(1, 5)"
   ]
  },
  {
   "cell_type": "code",
   "execution_count": 53,
   "metadata": {},
   "outputs": [
    {
     "data": {
      "text/plain": [
       "False"
      ]
     },
     "execution_count": 53,
     "metadata": {},
     "output_type": "execute_result"
    }
   ],
   "source": [
    "a == c"
   ]
  },
  {
   "cell_type": "code",
   "execution_count": 54,
   "metadata": {},
   "outputs": [
    {
     "data": {
      "text/plain": [
       "False"
      ]
     },
     "execution_count": 54,
     "metadata": {},
     "output_type": "execute_result"
    }
   ],
   "source": [
    "a > c"
   ]
  },
  {
   "cell_type": "code",
   "execution_count": 55,
   "metadata": {},
   "outputs": [
    {
     "data": {
      "text/plain": [
       "True"
      ]
     },
     "execution_count": 55,
     "metadata": {},
     "output_type": "execute_result"
    }
   ],
   "source": [
    "a < c"
   ]
  },
  {
   "cell_type": "code",
   "execution_count": 56,
   "metadata": {},
   "outputs": [
    {
     "data": {
      "text/plain": [
       "1.0 / 10.0 (__repr__)"
      ]
     },
     "execution_count": 56,
     "metadata": {},
     "output_type": "execute_result"
    }
   ],
   "source": [
    "a"
   ]
  },
  {
   "cell_type": "code",
   "execution_count": 57,
   "metadata": {},
   "outputs": [
    {
     "data": {
      "text/plain": [
       "1.0 / 10.0 (__repr__)"
      ]
     },
     "execution_count": 57,
     "metadata": {},
     "output_type": "execute_result"
    }
   ],
   "source": [
    "b"
   ]
  },
  {
   "cell_type": "code",
   "execution_count": 58,
   "metadata": {},
   "outputs": [
    {
     "data": {
      "text/plain": [
       "1.0 / 5.0 (__repr__)"
      ]
     },
     "execution_count": 58,
     "metadata": {},
     "output_type": "execute_result"
    }
   ],
   "source": [
    "a + b"
   ]
  }
 ],
 "metadata": {
  "kernelspec": {
   "display_name": "Python 3",
   "language": "python",
   "name": "python3"
  },
  "language_info": {
   "codemirror_mode": {
    "name": "ipython",
    "version": 3
   },
   "file_extension": ".py",
   "mimetype": "text/x-python",
   "name": "python",
   "nbconvert_exporter": "python",
   "pygments_lexer": "ipython3",
   "version": "3.6.3"
  }
 },
 "nbformat": 4,
 "nbformat_minor": 1
}
