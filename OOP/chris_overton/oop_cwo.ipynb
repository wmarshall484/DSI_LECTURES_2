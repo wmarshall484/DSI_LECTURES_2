{
 "cells": [
  {
   "cell_type": "markdown",
   "metadata": {
    "slideshow": {
     "slide_type": "slide"
    }
   },
   "source": [
    "### OOP - Object Oriented Programming\n",
    "2017.01.17  \n",
    "Chris Overton  \n",
    "Adapted most recently from Jack Bennetto, and some code from Ivan  "
   ]
  },
  {
   "cell_type": "markdown",
   "metadata": {
    "slideshow": {
     "slide_type": "subslide"
    }
   },
   "source": [
    "## DSI Standards\n",
    "\n",
    "*   Given the code for a python class, instantiate a python object and call the methods.\n",
    "*   Design a program in object-oriented fashion.\n",
    "*   Write the python code for a simple class.\n",
    "*   Compare and contrast functional and object-oriented programming.\n",
    "*   Match key “magic” methods to their syntactic sugar."
   ]
  },
  {
   "cell_type": "markdown",
   "metadata": {
    "slideshow": {
     "slide_type": "subslide"
    }
   },
   "source": [
    "## Objectives\n",
    "\n",
    "Morning objectives:\n",
    "\n",
    "*   Define key object-oriented (OO) concepts\n",
    "*   Use an object-oriented approach to programming\n",
    "*   Contrast OOP, functional, and procedural approaches\n",
    "*   Design and implement a basic class\n",
    "*   Instantiate an object\n",
    "\n",
    "Afternoon objectives:\n",
    "\n",
    "*   More practice with OOP in python\n",
    "*   List key magic methods\n",
    "*   (Optional): use basic decorators\n",
    "*   Arguments to python functions via \\*args and \\**kwargs\n",
    "*   Verify code using test-driven development (TDD) and the Python debugger (PDB)"
   ]
  },
  {
   "cell_type": "markdown",
   "metadata": {
    "slideshow": {
     "slide_type": "subslide"
    }
   },
   "source": [
    "## Agenda\n",
    "\n",
    "Today's plan:\n",
    "\n",
    "-  Introduction to OOP\n",
    "-  Core OOP using Python\n",
    "-  Advanced OOP using Python\n",
    "-  Verification, unit tests, and debugging"
   ]
  },
  {
   "cell_type": "markdown",
   "metadata": {
    "slideshow": {
     "slide_type": "subslide"
    }
   },
   "source": [
    "## Recommended Reading for Beginners\n",
    "\n",
    "A few helpful references, arranged by increasing difficulty:\n",
    "\n",
    "*   [Writing Idiomatic Python](https://jeffknupp.com/writing-idiomatic-python-ebook/) by Jeff Knupp\n",
    "*   [Python 3 Object-Oriented Programming](https://www.amazon.com/Python-3-Object-Oriented-Programming-Second/dp/1784398780) by Dusty Phillips\n",
    "*   [Effective Python](http://www.effectivepython.com) will help you raise your Python game\n",
    "*   [Head First Design Patterns](http://www.headfirstlabs.com/books/hfdp/)\n",
    "*   [Design Patterns: Elements of Reusable Object-Oriented Software](http://www.amazon.com/Design-Patterns-Elements-Reusable-Object-Oriented-ebook/dp/B000SEIBB8) is the canonical reference\n",
    "*   [Large-Scale C++ Software Design](http://www.amazon.com/Large-Scale-Software-Design-John-Lakos/dp/0201633620)\n",
    "\n",
    "Plus your favorite Python reference for language syntax..."
   ]
  },
  {
   "cell_type": "markdown",
   "metadata": {
    "slideshow": {
     "slide_type": "slide"
    }
   },
   "source": [
    "## Overview: What is OOP?\n",
    "\n",
    "Object-oriented programming is an approach that organizes data together with the code that can access it.\n",
    "\n",
    "- **Objects** are instances of **classes**\n",
    "- Objects maintain internal **state** (via 'members')\n",
    "- Objects run **methods**: these can compute a result (as done by a function), but can also alter the object's state\n",
    "- **Inheritance**: one class may be defined based on changes from a **parent** class  \n",
    "(Different languages either enforce single inheritance (e.g. java), allow multiple inheritance (C++, sort of for python), or offer flexibility in inheritance (e.g. java also allows a class to implement **interfaces**, which specify sets of methods)"
   ]
  },
  {
   "cell_type": "markdown",
   "metadata": {
    "slideshow": {
     "slide_type": "subslide"
    }
   },
   "source": [
    "## Overview: What is OOP?\n",
    "\n",
    "- Objects are nouns, whose types are classes\n",
    "- Methods are verbs  \n",
    "<br>\n",
    "**OOP design** tends to include a top-down stage, where the nouns and their verbs are identified"
   ]
  },
  {
   "cell_type": "markdown",
   "metadata": {
    "slideshow": {
     "slide_type": "subslide"
    }
   },
   "source": [
    "## Overview: What is OOP?\n",
    "\n",
    "Object-oriented programming is an approach that organizes data together with the code that can access it.\n",
    "\n",
    "Contrast to\n",
    "\n",
    "* Processing on structured data (e.g. SQL rows or JSON records)   \n",
    "<br>\n",
    "* Ancient history in coding: sequential program riddled with GOTO statements\n",
    "* Procedural programming: data scoped by procedure/function\n",
    "* Functional programming: data is immutable\n",
    "* Declarative programming: say 'what' to do, not 'how' (e.g. SQL)"
   ]
  },
  {
   "cell_type": "markdown",
   "metadata": {
    "slideshow": {
     "slide_type": "subslide"
    }
   },
   "source": [
    "##  Overview: goals of OOP\n",
    "\n",
    "Object-Oriented Programming was developed to:\n",
    "\n",
    "*   Facilitate building large-scale software with many developers\n",
    "*   Promote software reuse:\n",
    "    -   Build software components (libraries)\n",
    "    -   Improved code quality by using debugged components\n",
    "*   Decouple code, improving maintainability and stability of code\n",
    "*   Promote separation of concerns\n",
    "*   Avoid common mistakes, such as forgetting to initialize or deallocate a resource"
   ]
  },
  {
   "cell_type": "markdown",
   "metadata": {
    "slideshow": {
     "slide_type": "subslide"
    }
   },
   "source": [
    "##  Science and OOP\n",
    "\n",
    "Sometimes, OOP is not the best fit for doing science:\n",
    "\n",
    "*   Science processing is often linear:\n",
    "    -   Projects tend to build a pipeline\n",
    "    -   Most applications:\n",
    "        * Load data\n",
    "        * Compute something\n",
    "        * Serialize result to disk\n",
    "    -   Should be able to combine steps, similar to Unix's filters + pipes model\n",
    "*   But, need to know OOP:\n",
    "    -   To use libraries which have OO design\n",
    "    -   To build large-scale software"
   ]
  },
  {
   "cell_type": "markdown",
   "metadata": {
    "slideshow": {
     "slide_type": "slide"
    }
   },
   "source": [
    "##  Class vs. object/instance\n",
    "\n",
    "A *class*:\n",
    "\n",
    "*   Defines a *user-defined type*, i.e., a concept with data and actions\n",
    "*   A full class type, on par with `float`, `str`, etc.\n",
    "*   Consists of:\n",
    "    -   Attributes (data fields)\n",
    "    -   Methods (operations you can perform on the object)\n",
    "\n",
    "An *object*:\n",
    "\n",
    "*   Is an instance of a class\n",
    "*   Can create multiple instances of the same class\n",
    "*   In python, *everything is an object*"
   ]
  },
  {
   "cell_type": "markdown",
   "metadata": {
    "slideshow": {
     "slide_type": "subslide"
    }
   },
   "source": [
    "##  Example: sci-kit learn\n",
    "\n",
    "All regression models -- `LinearRegression`, `LogisticRegression`, `Lasso`, `Ridge`, etc. -- support the same **interface**:\n",
    "\n",
    "| Method            | Action        |\n",
    "| :------------     | :------------ |\n",
    "|`.fit(X, y)`       | Train a model |\n",
    "|`.predict(X)`      | Predict target/label for new data |\n",
    "|`.score(X, y)`     | Compute accuracy given data and true labels |\n",
    "\n",
    "Huge benefits for user:\n",
    "\n",
    "*   Use same interface for every model\n",
    "*   Minimizes cognitive load\n",
    "*   Other tools (GridSearch, Pipeline) can use them interchangeably"
   ]
  },
  {
   "cell_type": "markdown",
   "metadata": {
    "slideshow": {
     "slide_type": "slide"
    }
   },
   "source": [
    "##  The big three$+ \\frac{1}{2}$\n",
    "\n",
    "OO revolves around three key concepts:\n",
    "\n",
    "*   Encapsulation\n",
    "*   Inheritance\n",
    "*   Polymorphism  \n",
    "<br>\n",
    "- Also: Composition"
   ]
  },
  {
   "cell_type": "markdown",
   "metadata": {
    "slideshow": {
     "slide_type": "subslide"
    }
   },
   "source": [
    "##  Encapsulation\n",
    "\n",
    "Encapsulation forces code to manipulate an object's internal state only through method calls:\n",
    "\n",
    "*   You should always program this way, regardless of language:\n",
    "    -   Write a library to manage a resource\n",
    "    -   Only access the resource via the library\n",
    "    -   Avoid errors from unexpected interactions\n",
    "    -   This is basic 'defensive programming'\n",
    "*   **Python will not enforce encapsulation**:\n",
    "    -   Malicious code can directly access an object's data\n",
    "    -   Violating encapsulation makes code impossible to maintain\n",
    "    -   *'We are all consenting adults'*"
   ]
  },
  {
   "cell_type": "markdown",
   "metadata": {
    "slideshow": {
     "slide_type": "subslide"
    }
   },
   "source": [
    "##  Public vs. protected vs. private\n",
    "\n",
    "Some languages (C++, Java) enforce encapsulation by making attributes public, protected, or private:\n",
    "\n",
    "*   *Public*: accessible by any external code, e.g., a public interface\n",
    "*   *Protected*: access depends on the language, typically inaccessible by external code and accessible by derived classes\n",
    "*   *Private*:  accessible only by code from the same class, but not derived classes\n",
    "*   In Python, start the name with `_` if it is private\n",
    "    - Python doesn't enforce access limitations; it just relies on developer politeness"
   ]
  },
  {
   "cell_type": "markdown",
   "metadata": {
    "slideshow": {
     "slide_type": "subslide"
    }
   },
   "source": [
    "##  Inheritance\n",
    "\n",
    "Derive a *child* class from a *base* class:\n",
    "\n",
    "*   Base class defines general or basic behavior\n",
    "*   Child class specializes or extends behavior\n",
    "    -   Child gets all the functionality of Base class for free\n",
    "    -   Child methods override Base methods of the same name"
   ]
  },
  {
   "cell_type": "markdown",
   "metadata": {
    "slideshow": {
     "slide_type": "subslide"
    }
   },
   "source": [
    "## Inheritance with Python\n",
    "```class DerivedClass(BaseClass):```   \n",
    "- To inherit from a base class, specify the base class instead of\n",
    "object when you define the derive class:\n",
    "- Can check if an object is a specific class via\n",
    "```isinstance()```    \n",
    "\n",
    "```    def __init__(self, ...):```  \n",
    "<br>\n",
    "When a class inherits from another, the derived class must call the\n",
    "base class’s constructor  \n",
    "```super(DerivedClass, self).__init__()```\n",
    "<br>\n",
    "- Always initialize base class before derived class"
   ]
  },
  {
   "cell_type": "markdown",
   "metadata": {
    "slideshow": {
     "slide_type": "subslide"
    }
   },
   "source": [
    "##  Example: Inheritance"
   ]
  },
  {
   "cell_type": "code",
   "execution_count": null,
   "metadata": {
    "collapsed": true,
    "slideshow": {
     "slide_type": "fragment"
    }
   },
   "outputs": [],
   "source": [
    "class Distribution(object):\n",
    "    def __init__(self, data):\n",
    "        ...\n",
    "    def pdf(self):\n",
    "        ...\n",
    "    def logpdf(self):\n",
    "        return np.log(self.pdf())\n",
    "\n",
    "class NormalDistribution(Distribution):\n",
    "    def __init__(self, mean, std):\n",
    "        ..."
   ]
  },
  {
   "cell_type": "markdown",
   "metadata": {
    "slideshow": {
     "slide_type": "subslide"
    }
   },
   "source": [
    "##  Polymorphism\n",
    "\n",
    "OO code enables polymorphism:\n",
    "\n",
    "*   Treat multiple objects the same if they support same interface\n",
    "*   In most languages, objects must instantiate classes with a common base class\n",
    "*   Python uses *duck-typing*:\n",
    "    -   *'If it looks like a duck and quacks like a duck, it is a duck'*\n",
    "    -   Python does *not* require that classes are related via inheritance\n",
    "    -   Polymorphism works if object instantiates a class which defines the necessary attribute or method"
   ]
  },
  {
   "cell_type": "markdown",
   "metadata": {
    "slideshow": {
     "slide_type": "subslide"
    }
   },
   "source": [
    "##  More on typing\n",
    "\n",
    "Static typing:\n",
    "\n",
    "* Used in C, C++, C#, Java, Fortran, etc.\n",
    "* Types are known at compile time\n",
    "* Can be explicit or inferred\n",
    "* Can catch bugs early\n",
    "* Allows optimization based on type\n",
    "* Inheritance required for polymorphism\n",
    "\n",
    "Dynamic typing\n",
    "\n",
    "* Used in Python, Perl (mostly), Ruby, JavaScript, etc.\n",
    "* Type of an object checked at run time\n",
    "* Much more flexible\n",
    "* Easier to code simple scripts\n",
    "\n",
    "Most languages are a mixture."
   ]
  },
  {
   "cell_type": "markdown",
   "metadata": {
    "slideshow": {
     "slide_type": "slide"
    }
   },
   "source": [
    "##  Getting Started\n",
    "\n",
    "Define classes to embody concepts:\n",
    "\n",
    "*   Use `class` keyword\n",
    "*   Derive most basic class from object\n",
    "*   Traditions:\n",
    "    - Class names are in ```UpperCamelCase```\n",
    "    - Method names are in ```snake_case```\n",
    "*   The special method ```__init__(self, var1, var2, ...)``` tells how to create new object instances"
   ]
  },
  {
   "cell_type": "markdown",
   "metadata": {
    "slideshow": {
     "slide_type": "subslide"
    }
   },
   "source": [
    "##  Example of a simple class"
   ]
  },
  {
   "cell_type": "code",
   "execution_count": null,
   "metadata": {
    "collapsed": true,
    "slideshow": {
     "slide_type": "fragment"
    }
   },
   "outputs": [],
   "source": [
    "import math\n",
    "class Vector(object):\n",
    "    def __init__(self, x, y):\n",
    "        self.x = x\n",
    "        self.y = y\n",
    "\n",
    "    def norm(self):\n",
    "        return math.sqrt(self.x**2 + self.y**2)\n",
    "\n",
    "    def add(self, other):\n",
    "        return Vector(self.x+other.x, self.y+other.y)"
   ]
  },
  {
   "cell_type": "markdown",
   "metadata": {
    "slideshow": {
     "slide_type": "subslide"
    }
   },
   "source": [
    "##  `self`\n",
    "\n",
    "Use `self` to refer to an instance's own, unique data:\n",
    "\n",
    "*   I.e., use `self` for 'self-reference'\n",
    "*   Use `self` in a class's member functions to access instance-specific data\n",
    "*   Like `this` in C++\n",
    "*   Start each member function's argument list with `self`\n",
    "    -   ... unless it is a static or class member function"
   ]
  },
  {
   "cell_type": "markdown",
   "metadata": {
    "slideshow": {
     "slide_type": "slide"
    }
   },
   "source": [
    "## Example design problem\n",
    "Q: A **binary tree** consists of **nodes** that may have up to two **child** nodes.   \n",
    "Implement a tree, and given a tree, compute its **height** -- the number of generations of descendant nodes from the top down"
   ]
  },
  {
   "cell_type": "code",
   "execution_count": null,
   "metadata": {
    "collapsed": true,
    "slideshow": {
     "slide_type": "subslide"
    }
   },
   "outputs": [],
   "source": [
    "#How would you implement this?\n",
    "class Something(object):\n",
    "    def __init__(...)\n",
    "    \n",
    "    def doSomething(...)"
   ]
  },
  {
   "cell_type": "markdown",
   "metadata": {
    "slideshow": {
     "slide_type": "subslide"
    }
   },
   "source": [
    "### Spoiler-alert: partial code below..."
   ]
  },
  {
   "cell_type": "code",
   "execution_count": null,
   "metadata": {
    "collapsed": false,
    "slideshow": {
     "slide_type": "subslide"
    }
   },
   "outputs": [],
   "source": [
    "class Node(object):\n",
    "    def __init__(self, left, right):\n",
    "        self.left = left\n",
    "        self.right = right\n",
    "    \n",
    "    def getHeight(self):\n",
    "        height = 0\n",
    "        if self.left is not None:\n",
    "            height = 1+ self.left.getHeight()\n",
    "        if self.right is not None:\n",
    "            rightHeight = 1+ self.right.getHeight()\n",
    "            height = max(height, rightHeight)\n",
    "        return height\n",
    "    \n",
    "class Tree(object):\n",
    "    def __init__(self, rootNode):\n",
    "        self.rootNode = rootNode\n",
    "    \n",
    "    def getHeight():\n",
    "        return self.rootNode.getHeight()"
   ]
  },
  {
   "cell_type": "markdown",
   "metadata": {
    "slideshow": {
     "slide_type": "slide"
    }
   },
   "source": [
    "# Afternoon\n",
    "\n",
    "Afternoon objectives:\n",
    "\n",
    "*   More practice with OOP in python\n",
    "*   List key magic methods\n",
    "*   (Optional): use basic decorators\n",
    "*   Arguments to python functions via \\*args and \\**kwargs\n",
    "*   Verify code using test-driven development (TDD) and the Python debugger (PDB)"
   ]
  },
  {
   "cell_type": "markdown",
   "metadata": {
    "slideshow": {
     "slide_type": "slide"
    }
   },
   "source": [
    "##  Very basic OOP design\n",
    "\n",
    "Decompose your problem into nouns and verbs:\n",
    "\n",
    "*   Noun $\\Rightarrow$ implement as a class\n",
    "*   Verb $\\Rightarrow$ implement as a method"
   ]
  },
  {
   "cell_type": "markdown",
   "metadata": {
    "slideshow": {
     "slide_type": "subslide"
    }
   },
   "source": [
    "##  Basic OO design\n",
    "\n",
    "Build classes via:\n",
    "\n",
    "*   Composition/aggregation:\n",
    "    -   Class contains an object of another class with the desired functionality\n",
    "    -   Often, just basic types: `str`, `float`, `list`, `dict`, etc.\n",
    "    -   *HasA* $\\Rightarrow$ use members, aggregation\n",
    "*   Inheritance\n",
    "    -   Class specializes behavior of a base class\n",
    "    -   *IsA* $\\Rightarrow$ use inheritance\n",
    "    -   In some cases, derived class uses  a *mix-in* base class only to provide functionality, not polymorphism"
   ]
  },
  {
   "cell_type": "markdown",
   "metadata": {
    "slideshow": {
     "slide_type": "subslide"
    }
   },
   "source": [
    "##  An interface is a contract\n",
    "\n",
    "An **interface** is a contract between the client and the service provider:\n",
    "\n",
    "*   Isolates client from details of implementation\n",
    "*   Client must satisfy preconditions to call method/function\n",
    "*   Respect boundary of interface:\n",
    "    -   Library/module provides a service\n",
    "    -   Clients only access resource/service via library\n",
    "    -   Then bugs arise from arise incorrect access or defect in library"
   ]
  },
  {
   "cell_type": "markdown",
   "metadata": {
    "slideshow": {
     "slide_type": "slide"
    }
   },
   "source": [
    "##  Testing an interface\n",
    "\n",
    "Make sure your interface is intuitive and friction-free:\n",
    "\n",
    "*   Use unit test or specification test\n",
    "    -   To verify interface is good before implementation\n",
    "    -   To exercise individual functions or objects before application is complete\n",
    "    -   Framework can setup and tear-down necessary test fixture\n",
    "*   Stub out methods using `pass`\n",
    "*   Test Driven Development (TDD):\n",
    "    -   Red/Green/Green\n",
    "    -   Write unit tests\n",
    "    -   Verify that they fail (red)\n",
    "    -   Implement code (green)\n",
    "    -   Refactor code (green)\n",
    "*   Use a unit test framework -- `unittest` (best), doctest, or `nose`"
   ]
  },
  {
   "cell_type": "markdown",
   "metadata": {
    "slideshow": {
     "slide_type": "subslide"
    }
   },
   "source": [
    "##  Verification and debugging\n",
    "\n",
    "Verifying your code is correct, and finding and fixing bugs are critical skills:\n",
    "\n",
    "*   Just because your code runs, doesn't mean it is correct\n",
    "*   Write unit tests to exercise your code:\n",
    "    -   Ensures interfaces satisfy their contracts\n",
    "    -   Exercise key paths through code as well as corner cases\n",
    "    -   Identify any bugs introduced by future changes which break existing code\n",
    "    -   Test code before implementing entire program\n",
    "*   When unit tests fail, use a debugger to examine how code executes\n",
    "*   Both are critical skills and will save you hours of time\n",
    "*   [Verification and Validation in Scientific Computing](http://www.amazon.com/Verification-Validation-Scientific-Computing-Oberkampf/dp/0521113601/ref=pd_sim_14_2?ie=UTF8&refRID=1WP5FV5JCHXYAJAN6XAK) discusses rigorous framework to ensure correctness"
   ]
  },
  {
   "cell_type": "markdown",
   "metadata": {
    "slideshow": {
     "slide_type": "slide"
    }
   },
   "source": [
    "##  Separation of concerns (SoC)\n",
    "\n",
    "Try to keep 'concerns' separate:\n",
    "\n",
    "*   Use different layers for each concern\n",
    "*   A *concern* is a set of information or a resource that affects the program\n",
    "*   Keep layers distinct, i.e., write modular code\n",
    "*   Think Unix:\n",
    "    -   Each layer does one thing and does it well\n",
    "    -   Easy to combine\n",
    "*   Avoid cyclic dependencies\n",
    "*   SoC is crucial when building distributed applications"
   ]
  },
  {
   "cell_type": "markdown",
   "metadata": {
    "slideshow": {
     "slide_type": "slide"
    }
   },
   "source": [
    "#   Advanced OOP using Python"
   ]
  },
  {
   "cell_type": "markdown",
   "metadata": {
    "slideshow": {
     "slide_type": "subslide"
    }
   },
   "source": [
    "##  Key advanced OOP features in Python\n",
    "\n",
    "Key features:\n",
    "\n",
    "*   Magic methods\n",
    "*   Decorators\n",
    "*   Class data and static methods\n",
    "*   `*args` and `**kwargs`\n",
    "*   Some popular patterns\n",
    "*   Callables"
   ]
  },
  {
   "cell_type": "markdown",
   "metadata": {
    "slideshow": {
     "slide_type": "slide"
    }
   },
   "source": [
    "##  Magic methods (1/2)\n",
    "\n",
    "Add support to your class for *magic methods*:\n",
    "\n",
    "*   To support iteration\n",
    "*   To support math and relational operators\n",
    "*   To make your class callable, like a function with state (i.e., a functor)\n",
    "*   To create a new container, e.g., support `len()`\n",
    "\n",
    "See:  [magic methods](http://www.rafekettler.com/magicmethods.html)"
   ]
  },
  {
   "cell_type": "markdown",
   "metadata": {
    "slideshow": {
     "slide_type": "subslide"
    }
   },
   "source": [
    "##  Magic methods (2/2)\n",
    "\n",
    "Popular magic methods:\n",
    "\n",
    "| Method            | Purpose         |\n",
    "| :--------------   | :-------------  |\n",
    "| `__init__`        | Constructor, i.e., initialize the class     |\n",
    "| `__str__`         | Define behavior for `str(obj)`   |\n",
    "| `__repr__`        | Define behavior for `repr(obj)`  |\n",
    "| `__len__`         | Return number of elements in object |\n",
    "| `__call__`        | Call instance like a function |\n",
    "| `__cmp__`         | Compare two objects |\n",
    "| `__iter__`        | Returns an iterable (which supports `__iter__` and `next()`) |\n",
    "\n",
    "Plus methods for order relations (==, !=, <, >), attribute access, math, type conversion,\n",
    "custom containers, context managers, ..."
   ]
  },
  {
   "cell_type": "markdown",
   "metadata": {
    "slideshow": {
     "slide_type": "slide"
    }
   },
   "source": [
    "##  Decorators - prefixed by '@'  \n",
    "\n",
    "## CAUTION: DECORATORS ARE A PYTHON WEIRDNESS. THEY'RE HANDY, BUT DON'T GET TOO CONCERNED BY THEM\n",
    "\n",
    "A *decorator* is a function which wraps another function:\n",
    "\n",
    "*   Looks like the original function, i.e., `help(myfunc)` works correctly\n",
    "*   But, decorator code runs before and after decorated function\n",
    "*   Here, we focus on using existing decorators\n",
    "*   To write a custom decorator:\n",
    "    -   See [Effective Python](http://www.effectivepython.com)\n",
    "    -   Use `functools.wrap` to get correct behavior"
   ]
  },
  {
   "cell_type": "markdown",
   "metadata": {
    "slideshow": {
     "slide_type": "subslide"
    }
   },
   "source": [
    "## Decorators: a nice tutorial\n",
    "https://realpython.com/blog/python/primer-on-python-decorators/"
   ]
  },
  {
   "cell_type": "code",
   "execution_count": 19,
   "metadata": {
    "collapsed": false,
    "slideshow": {
     "slide_type": "fragment"
    }
   },
   "outputs": [
    {
     "name": "stdout",
     "output_type": "stream",
     "text": [
      "Something is happening before some_function() is called.\n",
      "Wheee!\n",
      "Something is happening after some_function() is called.\n"
     ]
    }
   ],
   "source": [
    "def my_decorator(some_function):\n",
    "    def wrapper():\n",
    "        print(\"Something is happening before some_function() is called.\")\n",
    "        some_function()\n",
    "        print(\"Something is happening after some_function() is called.\")\n",
    "    return wrapper\n",
    "\n",
    "def just_some_function():\n",
    "    print(\"Wheee!\")\n",
    "\n",
    "just_some_function = my_decorator(just_some_function)\n",
    "\n",
    "just_some_function()"
   ]
  },
  {
   "cell_type": "code",
   "execution_count": 4,
   "metadata": {
    "collapsed": false,
    "slideshow": {
     "slide_type": "subslide"
    }
   },
   "outputs": [
    {
     "name": "stdout",
     "output_type": "stream",
     "text": [
      "Something is happening before some_function() is called.\n",
      "Wheee again!\n",
      "Something is happening after some_function() is called.\n"
     ]
    }
   ],
   "source": [
    "## Special decorator syntax\n",
    "@my_decorator\n",
    "def just_another_function():\n",
    "    print(\"Wheee again!\")\n",
    "    \n",
    "just_another_function()"
   ]
  },
  {
   "cell_type": "markdown",
   "metadata": {
    "slideshow": {
     "slide_type": "slide"
    }
   },
   "source": [
    "##  Common decorators:\n",
    "\n",
    "Some common decorators are:\n",
    "\n",
    "*   `@staticmethod` -   group functions under class namespace\n",
    "*   `@classmethod`  -   can access class specific data\n",
    "*   `@property` often with `@<NameOfYourProperty>.setter`\n",
    "*   `@abstractmethod`   -   define a method in an ABC\n",
    "*   Can also find decorators for logging, argument checking, and more"
   ]
  },
  {
   "cell_type": "markdown",
   "metadata": {
    "slideshow": {
     "slide_type": "subslide"
    }
   },
   "source": [
    "##  Static methods and data\n",
    "\n",
    "Static methods are normal functions which live in a class's namespace:\n",
    "\n",
    "*   Do not access class or instance data\n",
    "*   No `self` argument\n",
    "*   Just access by prepending name with the class or object name:"
   ]
  },
  {
   "cell_type": "code",
   "execution_count": 5,
   "metadata": {
    "collapsed": true,
    "slideshow": {
     "slide_type": "subslide"
    }
   },
   "outputs": [],
   "source": [
    "class PlantFromOuterSpace(object):\n",
    "    @staticmethod\n",
    "    def speak():\n",
    "        print 'Feed me, Seymour!'"
   ]
  },
  {
   "cell_type": "code",
   "execution_count": 9,
   "metadata": {
    "collapsed": false,
    "slideshow": {
     "slide_type": "fragment"
    }
   },
   "outputs": [
    {
     "name": "stdout",
     "output_type": "stream",
     "text": [
      "Feed me, Seymour!\n"
     ]
    }
   ],
   "source": [
    "PlantFromOuterSpace.speak()"
   ]
  },
  {
   "cell_type": "markdown",
   "metadata": {
    "slideshow": {
     "slide_type": "subslide"
    }
   },
   "source": [
    "##  Class methods and data\n",
    "\n",
    "Can have class-specific data:\n",
    "\n",
    "*   Example: number of instances of class which have been created\n",
    "*   Decorate member function with `@classmethod`\n",
    "*   Use `cls` instead of `self` to refer class data\n",
    "*   ... except in a method which already refers to instance data"
   ]
  },
  {
   "cell_type": "markdown",
   "metadata": {
    "slideshow": {
     "slide_type": "subslide"
    }
   },
   "source": [
    "##  Example"
   ]
  },
  {
   "cell_type": "code",
   "execution_count": 23,
   "metadata": {
    "collapsed": false,
    "slideshow": {
     "slide_type": "subslide"
    }
   },
   "outputs": [
    {
     "data": {
      "text/plain": [
       "1"
      ]
     },
     "execution_count": 23,
     "metadata": {},
     "output_type": "execute_result"
    }
   ],
   "source": [
    "class ObjCounter(object):\n",
    "    obj_list = []\n",
    "    def __init__(self):\n",
    "        self.obj_list.append(self)\n",
    "\n",
    "    @classmethod\n",
    "    def n_created(cls):\n",
    "        return len(cls.obj_list)\n",
    "\n",
    "a = ObjCounter()\n",
    "ObjCounter.n_created()"
   ]
  },
  {
   "cell_type": "code",
   "execution_count": null,
   "metadata": {
    "collapsed": true,
    "slideshow": {
     "slide_type": "subslide"
    }
   },
   "outputs": [],
   "source": [
    "In [14]: oc1 = ObjCounter()\n",
    "\n",
    "In [15]: oc2 = ObjCounter()\n",
    "\n",
    "In [16]: ObjCounter.n_created()\n",
    "Out[16]: 2"
   ]
  },
  {
   "cell_type": "markdown",
   "metadata": {
    "slideshow": {
     "slide_type": "subslide"
    }
   },
   "source": [
    "##  Properties\n",
    "\n",
    "Properties look like member data:\n",
    "\n",
    "*   Actually returned by a function which has been decorated with `@property`\n",
    "*   Cannot modify the field unless you also create a setter, by decorating with `@<field_name>.setter`\n",
    "*   Gives you flexibility to change implementation later"
   ]
  },
  {
   "cell_type": "markdown",
   "metadata": {
    "slideshow": {
     "slide_type": "subslide"
    }
   },
   "source": [
    "##  Example:    @property"
   ]
  },
  {
   "cell_type": "code",
   "execution_count": null,
   "metadata": {
    "collapsed": true,
    "slideshow": {
     "slide_type": "fragment"
    }
   },
   "outputs": [],
   "source": [
    "class Card(object):\n",
    "    \"\"\"\n",
    "    Playing card.\n",
    "    \"\"\"\n",
    "    def __init__(self, rank, suit):\n",
    "        \"\"\"Create a new playing card with a rank and a suit.\"\"\"\n",
    "        self.rank = rank\n",
    "        self.suit = suit\n",
    "\n",
    "    @property\n",
    "    def color(self):\n",
    "        suit_colors = {'S': 'black', 'C': 'black',\n",
    "                       'H': 'red', 'D': 'red'}\n",
    "        return suit_colors.get(self.suit)"
   ]
  },
  {
   "cell_type": "markdown",
   "metadata": {
    "slideshow": {
     "slide_type": "slide"
    }
   },
   "source": [
    "##  `*args` and `**kwargs`\n",
    "\n",
    "Shorthand to refer to a variable number of arguments:\n",
    "\n",
    "*   For regular arguments, use `*args`:\n",
    "    -   `*args` is a `list`\n",
    "    -   `def genius_func(*args):` to define a function which takes multiple arguments\n",
    "    -   Can also call function using a `list`, if you dereference\n",
    "\n",
    "*   For keyword arguments, use `**kwargs`:\n",
    "    -   `**kwargs` is a `dict`\n",
    "    -   `def genius_func(**kwargs):` to define a function which takes multiple keyword arguments\n",
    "    -   Can also call function using a `dict`, if you dereference"
   ]
  },
  {
   "cell_type": "markdown",
   "metadata": {
    "slideshow": {
     "slide_type": "subslide"
    }
   },
   "source": [
    "## *args"
   ]
  },
  {
   "cell_type": "code",
   "execution_count": 16,
   "metadata": {
    "collapsed": false,
    "slideshow": {
     "slide_type": "fragment"
    }
   },
   "outputs": [
    {
     "name": "stdout",
     "output_type": "stream",
     "text": [
      "* a = 10\n",
      "* b = 20\n",
      "* c = 30\n"
     ]
    }
   ],
   "source": [
    "def my_args(a, b, c):\n",
    "    print '* a =', a\n",
    "    print '* b =', b\n",
    "    print '* c =', c\n",
    "    \n",
    "my_args(10, 20, 30)"
   ]
  },
  {
   "cell_type": "code",
   "execution_count": 30,
   "metadata": {
    "collapsed": false,
    "slideshow": {
     "slide_type": "fragment"
    }
   },
   "outputs": [
    {
     "name": "stdout",
     "output_type": "stream",
     "text": [
      "* a = 10\n",
      "* b = 20\n",
      "* c = 30\n"
     ]
    }
   ],
   "source": [
    "x = [10, 20, 30]\n",
    "my_args(*x)"
   ]
  },
  {
   "cell_type": "code",
   "execution_count": 35,
   "metadata": {
    "collapsed": false,
    "slideshow": {
     "slide_type": "subslide"
    }
   },
   "outputs": [
    {
     "name": "stdout",
     "output_type": "stream",
     "text": [
      "* 10\n",
      "* 20\n",
      "* 30\n",
      "* 40\n",
      "* 50\n",
      "* 60\n",
      "* 70\n"
     ]
    }
   ],
   "source": [
    "def my_args2(*args):\n",
    "    for i in args:\n",
    "        print '*', i\n",
    "my_args2(10, 20, 30, 40, 50, 60, 70)"
   ]
  },
  {
   "cell_type": "code",
   "execution_count": null,
   "metadata": {
    "collapsed": true,
    "slideshow": {
     "slide_type": "fragment"
    }
   },
   "outputs": [],
   "source": [
    "x = [10, 20, 30, 40, 50, 60, 70]\n",
    "my_args2(*x)"
   ]
  },
  {
   "cell_type": "markdown",
   "metadata": {
    "slideshow": {
     "slide_type": "subslide"
    }
   },
   "source": [
    "## **kwargs"
   ]
  },
  {
   "cell_type": "code",
   "execution_count": 40,
   "metadata": {
    "collapsed": false,
    "slideshow": {
     "slide_type": "fragment"
    }
   },
   "outputs": [
    {
     "name": "stdout",
     "output_type": "stream",
     "text": [
      "-> a = 1\n",
      "-> c = 3\n",
      "-> b = 2\n"
     ]
    }
   ],
   "source": [
    "def my_kwargs(**kwargs):\n",
    "    for key in kwargs:\n",
    "        value = kwargs[key]\n",
    "        print '->', key, '=', value\n",
    "\n",
    "my_kwargs(a = 1, b = 2, c = 3)"
   ]
  },
  {
   "cell_type": "code",
   "execution_count": 41,
   "metadata": {
    "collapsed": false,
    "slideshow": {
     "slide_type": "subslide"
    }
   },
   "outputs": [
    {
     "name": "stdout",
     "output_type": "stream",
     "text": [
      "-> a = 1\n",
      "-> c = 3\n",
      "-> b = 2\n"
     ]
    }
   ],
   "source": [
    "h = {'a': 1, 'b': 2, 'c': 3}\n",
    "my_kwargs(**h)"
   ]
  },
  {
   "cell_type": "markdown",
   "metadata": {
    "slideshow": {
     "slide_type": "subslide"
    }
   },
   "source": [
    "## *args and kwargs"
   ]
  },
  {
   "cell_type": "code",
   "execution_count": 17,
   "metadata": {
    "collapsed": false,
    "slideshow": {
     "slide_type": "subslide"
    }
   },
   "outputs": [
    {
     "name": "stdout",
     "output_type": "stream",
     "text": [
      "* a = 1\n",
      "* b = 2\n",
      "* c = 3\n",
      "-> y = 2\n",
      "-> x = 1\n",
      "-> z = 3\n"
     ]
    }
   ],
   "source": [
    "def my_args_and_kwargs(a, b, c, **kwargs):\n",
    "    print '* a =', a\n",
    "    print '* b =', b\n",
    "    print '* c =', c\n",
    "\n",
    "    for key in kwargs:\n",
    "        value = kwargs[key]\n",
    "        print '->', key, '=', value\n",
    "\n",
    "my_args_and_kwargs(1, 2, 3, x = 1, y = 2, z = 3)"
   ]
  },
  {
   "cell_type": "code",
   "execution_count": 47,
   "metadata": {
    "collapsed": false,
    "slideshow": {
     "slide_type": "subslide"
    }
   },
   "outputs": [
    {
     "name": "stdout",
     "output_type": "stream",
     "text": [
      "* 2\n",
      "* 3\n",
      "-> y = 2\n",
      "-> x = 1\n",
      "-> z = 3\n"
     ]
    }
   ],
   "source": [
    "#*args and **kwargs capture **remaining** variables\n",
    "def my_args_and_kwargs2(a, *args, **kwargs):\n",
    "    for arg in args:\n",
    "        print '*', arg\n",
    "    for key in kwargs:\n",
    "        value = kwargs[key]\n",
    "        print '->', key, '=', value\n",
    "\n",
    "#Notice 1 doe not appear below        \n",
    "my_args_and_kwargs2(1, 2, 3, x = 1, y = 2, z = 3)"
   ]
  },
  {
   "cell_type": "markdown",
   "metadata": {
    "slideshow": {
     "slide_type": "slide"
    }
   },
   "source": [
    "##  Design patterns\n",
    "\n",
    "Many design patterns exist to standardize best practice:\n",
    "\n",
    "*   Worth learning if you regularly develop software\n",
    "*   See references\n",
    "*   Example patterns:\n",
    "    - Callable (Functor) for use with MapReduce\n",
    "    - Singleton\n",
    "    - MVC (Separate out Model, View, Controller)\n",
    "    - Actually, Map-reduce is a design pattern..."
   ]
  },
  {
   "cell_type": "markdown",
   "metadata": {
    "slideshow": {
     "slide_type": "slide"
    }
   },
   "source": [
    "##  Callable pattern\n",
    "\n",
    "Class behaves like a function but can store state and other information\n",
    "\n",
    "*   Implement `__call__()`\n",
    "*   Acts like a Functor in C++, i.e., like a function which can store state\n",
    "*   Often used with MapReduce because serializable and more flexible than a lambda or free function"
   ]
  },
  {
   "cell_type": "markdown",
   "metadata": {
    "slideshow": {
     "slide_type": "subslide"
    }
   },
   "source": [
    "##  Example\n",
    "\n",
    "Often, it is best practice to pass a *callable* to map or reduce:"
   ]
  },
  {
   "cell_type": "code",
   "execution_count": null,
   "metadata": {
    "collapsed": true,
    "slideshow": {
     "slide_type": "fragment"
    }
   },
   "outputs": [],
   "source": [
    "class MyMapper(object):\n",
    "    def __init__(self, state):\n",
    "        self.state = state\n",
    "\n",
    "    def __call__(self, elem):\n",
    "        '''Perform map operation on an element'''\n",
    "        return self._impl(elem)\n",
    "\n",
    "    def _impl(self, elem)\n",
    "        ..."
   ]
  },
  {
   "cell_type": "markdown",
   "metadata": {
    "slideshow": {
     "slide_type": "slide"
    }
   },
   "source": [
    "# DEBUGGING/MAINTAINING CODE\n",
    "[provided only as a special interest topic. you won't have to worry about this :-)]\n",
    "\n",
    "Escalation steps:\n",
    "- Well-designed code is less likely to be buggy\n",
    "- Build testing into your development cycle (see test driven development)\n",
    "- Include diagnostic print statements (then perhaps comment some out) \n",
    "- Separate out runtime monitoring by using a logger (can print to different log files at customizable granularity.)\n",
    "- Stare at error messages to identify problem. Too bad python doesn't default to outputting stack traces ...\n",
    "- If all else fails, step through your code line by line to find the problem..."
   ]
  },
  {
   "cell_type": "markdown",
   "metadata": {
    "slideshow": {
     "slide_type": "subslide"
    }
   },
   "source": [
    "##  Using PDB\n",
    "\n",
    "When unit tests fail, use the debugger to find a bug:\n",
    "\n",
    "*   If working in ipython, will display line of code which caused exception\n",
    "*   For complex bugs, debug via PDB\n",
    "*   To depug an exception, run from ipython and run `%pdb` first\n",
    "*   To start PDB, at a specific point in your code, add:"
   ]
  },
  {
   "cell_type": "code",
   "execution_count": null,
   "metadata": {
    "collapsed": true,
    "slideshow": {
     "slide_type": "subslide"
    }
   },
   "outputs": [],
   "source": [
    "```python\n",
    "import pdb\n",
    "\n",
    "...\n",
    "pdb.set_trace()  # Start debugger here\n",
    "...\n",
    "```"
   ]
  },
  {
   "cell_type": "markdown",
   "metadata": {
    "slideshow": {
     "slide_type": "subslide"
    }
   },
   "source": [
    "*   See PDB's `help` for details\n",
    "*   Learn how to use a debugger.  It will save you a lot of pain..."
   ]
  },
  {
   "cell_type": "markdown",
   "metadata": {
    "slideshow": {
     "slide_type": "subslide"
    }
   },
   "source": [
    "##  Essential debugging\n",
    "\n",
    "Once you have mastered one debugger, you have mastered them all:\n",
    "\n",
    "| Command           | Action            |\n",
    "| :-------------    | :--------------   |\n",
    "| `h`               | help              |\n",
    "| `b`               | set a break-point  |\n",
    "| `where`           | show call stack   |\n",
    "| `s`               | execute next line, stepping into functions |\n",
    "| `n`               | execute next line, step over functions |\n",
    "| `c`               | continue execution |\n",
    "| `u`               | move up one stack frame |\n",
    "| `d`               | move down one stack frame |"
   ]
  },
  {
   "cell_type": "markdown",
   "metadata": {
    "slideshow": {
     "slide_type": "subslide"
    }
   },
   "source": [
    "##  Debugging tricks\n",
    "\n",
    "Some hard-won debugging tips:\n",
    "\n",
    "*   When starting any project ask, 'How will I debug this?'\n",
    "*   Program defensively; write code which facilitates debugging\n",
    "*   If you cannot figure out what is wrong with your code, something you think is true most likely isn't\n",
    "*   Explain your problem to a rubber duck ... or friend\n",
    "*   Try to produce the smallest, reproducible test case\n",
    "*   If it used to work, ask yourself, 'What changed?'\n",
    "*   Add logging, but beware of Heisenberg: when you measure a system, you perturb it ..."
   ]
  },
  {
   "cell_type": "markdown",
   "metadata": {
    "slideshow": {
     "slide_type": "slide"
    }
   },
   "source": [
    "##  Summary\n",
    "\n",
    "*   What is the difference between a class and an object?\n",
    "*   What are the three key components of OOP?  How do they lead to better code?\n",
    "*   How should I implement my code if the relationship is *IsA*?    What if the relationship is *HasA*?\n",
    "*   What is duck typing?\n",
    "*   What should you do ensure an object is initialized correctly?\n",
    "*   What are magic methods?\n",
    "*   What are the benefits of TDD?  What does Red/Green/Green mean?"
   ]
  }
 ],
 "metadata": {
  "celltoolbar": "Slideshow",
  "kernelspec": {
   "display_name": "Python 2",
   "language": "python",
   "name": "python2"
  },
  "language_info": {
   "codemirror_mode": {
    "name": "ipython",
    "version": 2
   },
   "file_extension": ".py",
   "mimetype": "text/x-python",
   "name": "python",
   "nbconvert_exporter": "python",
   "pygments_lexer": "ipython2",
   "version": "2.7.12"
  }
 },
 "nbformat": 4,
 "nbformat_minor": 0
}
