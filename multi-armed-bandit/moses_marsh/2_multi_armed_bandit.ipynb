{
 "cells": [
  {
   "cell_type": "markdown",
   "metadata": {},
   "source": [
    "# ***The Multi-Armed Bandit***"
   ]
  },
  {
   "cell_type": "markdown",
   "metadata": {},
   "source": [
    "### Objectives: answer the following\n",
    "\n",
    " * What are ***exploitation***, ***exploration***, and ***regret*** in this context?\n",
    " * How is this framework related to traditional A/B testing?\n",
    " * What’s your favorite strategy?"
   ]
  },
  {
   "cell_type": "code",
   "execution_count": 1,
   "metadata": {},
   "outputs": [],
   "source": [
    "import numpy as np\n",
    "import random\n",
    "probabilities = np.arange(.58,.2,-.16)\n",
    "random.shuffle(probabilities)\n",
    "from scipy import stats\n",
    "\n",
    "import matplotlib\n",
    "import matplotlib.pyplot as plt\n",
    "%matplotlib inline\n",
    "font = {'weight' : 'bold',\n",
    "        'size'   : 12}\n",
    "\n",
    "matplotlib.rc('font', **font)"
   ]
  },
  {
   "cell_type": "markdown",
   "metadata": {},
   "source": [
    "## An example: treatments for tongue psoriasis\n",
    "\n",
    "Suppose you're a doctor who has developed a new treatment for tongue psoriasis. You aren't sure it will actually help, so you want to compare it to a control group.\n",
    "\n",
    "How would you do that?\n",
    "\n",
    "What if you were a Bayesian?\n",
    "\n",
    "The problem is that these are real people, suffering a real problem, and you want to help as many as possible."
   ]
  },
  {
   "cell_type": "code",
   "execution_count": 2,
   "metadata": {},
   "outputs": [],
   "source": [
    "probability = {}\n",
    "probability['control'] = probabilities[0]\n",
    "probability['drug'] = probabilities[1]\n",
    "results = dict(control=[], drug=[], total=[])"
   ]
  },
  {
   "cell_type": "code",
   "execution_count": 3,
   "metadata": {},
   "outputs": [],
   "source": [
    "def run_test(treatment):\n",
    "    result = stats.bernoulli(probability[treatment]).rvs()\n",
    "    results[treatment].append(result)\n",
    "    results['total'].append(result)\n",
    "    if result:\n",
    "        print(\"The patient got better!\")\n",
    "    else:\n",
    "        print(\"The patient is still sick :(\")\n",
    "    print(\"        got better   didn't\")\n",
    "    for treatment in ['control', 'drug', 'total']:\n",
    "        print(\"{:10} {:5}  {:5}\".format(treatment, results[treatment].count(1), results[treatment].count(0)))"
   ]
  },
  {
   "cell_type": "markdown",
   "metadata": {},
   "source": [
    "Let's test some patients, giving some the drug and some not."
   ]
  },
  {
   "cell_type": "code",
   "execution_count": 4,
   "metadata": {},
   "outputs": [
    {
     "name": "stdout",
     "output_type": "stream",
     "text": [
      "The patient got better!\n",
      "        got better   didn't\n",
      "control        1      0\n",
      "drug           0      0\n",
      "total          1      0\n"
     ]
    }
   ],
   "source": [
    "run_test('control')"
   ]
  },
  {
   "cell_type": "code",
   "execution_count": 5,
   "metadata": {},
   "outputs": [
    {
     "name": "stdout",
     "output_type": "stream",
     "text": [
      "The patient is still sick :(\n",
      "        got better   didn't\n",
      "control        1      0\n",
      "drug           0      1\n",
      "total          1      1\n"
     ]
    }
   ],
   "source": [
    "run_test('drug')"
   ]
  },
  {
   "cell_type": "code",
   "execution_count": 6,
   "metadata": {},
   "outputs": [
    {
     "data": {
      "text/plain": [
       "{'control': [1], 'drug': [0], 'total': [1, 0]}"
      ]
     },
     "execution_count": 6,
     "metadata": {},
     "output_type": "execute_result"
    }
   ],
   "source": [
    "results"
   ]
  },
  {
   "cell_type": "code",
   "execution_count": 7,
   "metadata": {},
   "outputs": [
    {
     "name": "stdout",
     "output_type": "stream",
     "text": [
      "Experimental success rates:\n",
      "  control     1.00\n",
      "  drug        0.00\n"
     ]
    }
   ],
   "source": [
    "print('Experimental success rates:')\n",
    "for treatment in ['control', 'drug']:\n",
    "    print(\"  {:10} {:5.2f}\".format(treatment, np.mean(results[treatment])))"
   ]
  },
  {
   "cell_type": "code",
   "execution_count": 8,
   "metadata": {},
   "outputs": [
    {
     "name": "stdout",
     "output_type": "stream",
     "text": [
      "Actual probabilities of getting better:\n",
      "  control     0.58\n",
      "  drug        0.42\n"
     ]
    }
   ],
   "source": [
    "print('Actual probabilities of getting better:')\n",
    "for treatment in ['control', 'drug']:\n",
    "    print(\"  {:10} {:5.2f}\".format(treatment, probability[treatment]))"
   ]
  },
  {
   "cell_type": "markdown",
   "metadata": {},
   "source": [
    "With traditional A/B testing there are two phases. First we collect data to determine the best choice, known as **exploration**. Once we're done testing, we make a decision between our options and stick with it; this is **exploitation**. Sometimes it's necessary to keep the testing phase strictly before the deployment phase, but what if there is no such restriction? Then we can combine the two phases, starting out exploring possible results and gradually concentrating on the best choice."
   ]
  },
  {
   "cell_type": "markdown",
   "metadata": {},
   "source": [
    "## The Multi-Armed Bandit\n",
    "\n",
    "The multi-armed bandit is a mathematical problem. Suppose we have two or more slot machines, and each slot machine (a.k.a. one-armed bandit) has a different (unknown!) chance of winning. What strategy should we follow to maximize our payoff after a finite number of plays?\n",
    "- bandits: $\\{B_i\\}$\n",
    "- bandit payout probabilities: $\\{p_i\\}$\n",
    "\n",
    "In this case we're assuming they all have the same payoff amount (\"binary bandits\"), but different payout probabilities (there are many extensions of this problem, but this is a sufficient starting point).\n",
    "\n",
    "In reality these \"bandits\" might be drugs, or web-site designs, or ad campaigns, or job-search strategies, or dating profiles, or restaurants, or anything where we want to exploit the \"winner\" of our hypothesis testing.\n",
    "\n",
    "- exploration: collecting more data for each bandit to get a better estimate of the true payout probabilities\n",
    "- eploitation: using whichever bandit has performed the best so far\n",
    "\n",
    "We are going to explore several different strategies for balancing exploration and exploitation.\n",
    "\n",
    "Each strategy will also have to track the performance of each bandit:\n",
    "- $n_i$: number of visits (or rounds, or pulls) to bandit $B_i$\n",
    "- $w_i$: number of successes at bandit $B_i$\n",
    "- $\\hat{p}_i = w_i / n_i $: observed success rate of bandit $B_i$\n",
    "  - if $n_i = 0$, this is undefined\n",
    "\n"
   ]
  },
  {
   "cell_type": "markdown",
   "metadata": {},
   "source": [
    "## Common strategies\n",
    "\n",
    "There are a number of common strategies that you'll implement in the assignment. Some are better than others, although a \"best\" strategy would require knowledge of the distribution of the payoffs."
   ]
  },
  {
   "cell_type": "markdown",
   "metadata": {},
   "source": [
    "To quantify a strategy's performance, we run simulations where we know the true payout probabilities and calculate **regret**: the expected difference in winnings between our strategy and the optimal one.\n",
    "- let $p^*$ be the max of $\\{p_1, p_2, p_3, \\ldots, p_k\\}$ \n",
    "- let $p(t)$ be the true success probability of the bandit chosed at round $t$\n",
    "- then our regret after $T$ rounds is\n",
    "$$ r = Tp^* - \\sum_{t=1}^T p(t) $$\n",
    "- and our expected average regret per round is \n",
    "$$ E[\\bar{r}] = \\lim_{T \\rightarrow \\infty} r / T = p^* - \\frac{1}{T}\\sum_{t=1}^Tp(t)$$\n",
    "\n",
    "We want a strategy that minimizes regret\n",
    "- A ***zero-regret strategy*** is defined as one with $E[\\bar{r}] = 0$\n",
    "- A zero-regret strategy does not guarantee that you will never choose a suboptimal outcome, instead it guarantees that as you continue to play you will tend to choose the optimal outcome more and more often.\n",
    "- Note again that actually calculating regret requires knowing the true bandit probabilities\n"
   ]
  },
  {
   "cell_type": "markdown",
   "metadata": {},
   "source": [
    "### Greedy Algorithm\n",
    "\n",
    "The simplest model is a \"greedy\" algorithm, where we always choose the bandit that's been the most successful so far. Since we want to be able to explore at least a little, we might assume that each bandit has already had a single success.\n",
    "\n",
    "What are the limitations of this?\n",
    "\n",
    "\n",
    "### Epsilon-Greedy Algorithm\n",
    "\n",
    "With epsilon-greedy we choose the best algorithm most of the time, but sometimes (with probability $\\epsilon$) we choose one randomly.\n",
    "\n",
    "Again, there isn't a \"best\" value, but $\\epsilon = 0.1$ is typical.\n",
    "\n",
    "- ***explore*** with some fixed probability $\\epsilon$\n",
    "  - generate a random number between 0 and 1. If it is less than $\\epsilon$, choose a random bandit\n",
    "- ***exploit*** at all other times: choose the bandit with the highest $\\hat{p}_i$ \n",
    "\n",
    "\n",
    "Is this a zero-regret strategy?"
   ]
  },
  {
   "cell_type": "markdown",
   "metadata": {},
   "source": [
    "### Softmax\n",
    "\n",
    "\n",
    "Here we create a probability of choosing a bandit according to the following formula:\n",
    "$$ P(B_i) = \\frac{e^{\\hat{p}_i/\\tau}}{\\sum_{j=1}^k e^{\\hat{p}_j/\\tau}} $$\n",
    "\n",
    "* $\\hat{p}_i$ is the observed success rate so far.\n",
    "* $\\tau$ is the \"temperature\" parameter\n",
    "\n",
    "We then ***sample*** from this distribution to choose a bandit.\n",
    "\n",
    "For example, if there are three bandits, A, B, and C, then\n",
    "$$ P(A) = \\frac{e^{\\hat{p}_A/\\tau}}{e^{\\hat{p}_A/\\tau}+e^{\\hat{p}_B/\\tau}+e^{\\hat{p}_C/\\tau}} $$\n",
    "\n",
    "\n",
    "\n",
    "\n",
    "How does this behave in the extremes?\n",
    "\n",
    "\n",
    "* As $\\tau \\to \\infty$, the algorithm will choose bandits equally.\n",
    "* As $\\tau \\to 0$, it will choose the most successful so far.\n",
    "\n",
    "This is not zero regret, but we can make it zero-regret if we decrease $\\tau$ over time. See [this paper](https://arxiv.org/pdf/1705.10257.pdf)"
   ]
  },
  {
   "cell_type": "markdown",
   "metadata": {},
   "source": [
    "##### coding tip\n",
    "The quickest way to make your own discrete random variable: `np.random.choice` takes an array and a parameter `p` defining the probability of choosing each element in the array"
   ]
  },
  {
   "cell_type": "code",
   "execution_count": 9,
   "metadata": {},
   "outputs": [
    {
     "data": {
      "text/plain": [
       "array(['a', 'a', 'a', 'c', 'b', 'a', 'b', 'a', 'c', 'a', 'a', 'a', 'a',\n",
       "       'a', 'a', 'a', 'a', 'a', 'a', 'a', 'b', 'a', 'a', 'a', 'a', 'a',\n",
       "       'a', 'a', 'a', 'a'],\n",
       "      dtype='<U1')"
      ]
     },
     "execution_count": 9,
     "metadata": {},
     "output_type": "execute_result"
    }
   ],
   "source": [
    "np.random.choice(['a', 'b', 'c'], size=30, p=[0.8, 0.1, 0.1])"
   ]
  },
  {
   "cell_type": "markdown",
   "metadata": {},
   "source": [
    "##### numpy exercise\n",
    "say I have four bandits with the following data"
   ]
  },
  {
   "cell_type": "code",
   "execution_count": 10,
   "metadata": {},
   "outputs": [],
   "source": [
    "trials = np.array([23,44,12,15])\n",
    "wins = np.array([5,5,4,6])"
   ]
  },
  {
   "cell_type": "markdown",
   "metadata": {},
   "source": [
    "make a numpy array of the softmax probabilities"
   ]
  },
  {
   "cell_type": "code",
   "execution_count": null,
   "metadata": {},
   "outputs": [],
   "source": []
  },
  {
   "cell_type": "code",
   "execution_count": null,
   "metadata": {},
   "outputs": [],
   "source": []
  },
  {
   "cell_type": "markdown",
   "metadata": {},
   "source": [
    "### UCB1 Algorithm (\"upper confidence bound\")\n",
    "\n",
    "The UCB1 algorithm scores each bandit based on the following formula:\n",
    "\n",
    "$$\\text{score}_i = \\hat{p}_i + \\sqrt{\\frac{2 \\ln{T}}{n_i}} $$\n",
    "\n",
    "where\n",
    "\n",
    " * $\\hat{p}_i$ is the observed success rate of $B_i$ so far\n",
    " * $n_i$ is the number of times bandit $B_i$ has played\n",
    " * T is the total number of trials so far\n",
    "\n",
    "The bandit with the highest score is chosen.\n",
    "\n",
    "This strategy is zero regret. Proof [here](https://jeremykun.com/2013/10/28/optimism-in-the-face-of-uncertainty-the-ucb1-algorithm/)."
   ]
  },
  {
   "cell_type": "markdown",
   "metadata": {
    "hidePrompt": true
   },
   "source": [
    "### Bayesian Bandits (a.k.a. \"Thompson sampling\")\n",
    "\n",
    "Use Bayesian updating to make a beta distribution for each bandit, where\n",
    "$$ \\alpha_i = 1 + w_i ;\\\\ \\beta_i = 1 + n_i - w_i $$\n",
    "\n",
    "Then sample from each bandit's posterior distribution. Choose the bandit whose sample was highest. \n",
    "\n"
   ]
  },
  {
   "cell_type": "markdown",
   "metadata": {},
   "source": [
    "##### exercise: sampling from a bunch of distributions"
   ]
  },
  {
   "cell_type": "code",
   "execution_count": 11,
   "metadata": {},
   "outputs": [],
   "source": [
    "trials = np.array([23,44,12,15])\n",
    "wins = np.array([5,5,4,6])"
   ]
  },
  {
   "cell_type": "code",
   "execution_count": 12,
   "metadata": {},
   "outputs": [
    {
     "data": {
      "text/plain": [
       "array([ 0.2173913 ,  0.11363636,  0.33333333,  0.4       ])"
      ]
     },
     "execution_count": 12,
     "metadata": {},
     "output_type": "execute_result"
    }
   ],
   "source": [
    "p_hat = wins / trials\n",
    "p_hat"
   ]
  },
  {
   "cell_type": "code",
   "execution_count": 13,
   "metadata": {},
   "outputs": [
    {
     "data": {
      "text/plain": [
       "<scipy.stats._distn_infrastructure.rv_frozen at 0x7f3eed74c8d0>"
      ]
     },
     "execution_count": 13,
     "metadata": {},
     "output_type": "execute_result"
    }
   ],
   "source": [
    "all_betas = stats.beta(1 + wins, 1 + trials - wins)\n",
    "all_betas"
   ]
  },
  {
   "cell_type": "code",
   "execution_count": 14,
   "metadata": {},
   "outputs": [
    {
     "data": {
      "text/plain": [
       "array([ 0.35479326,  0.12914209,  0.3121087 ,  0.42732955])"
      ]
     },
     "execution_count": 14,
     "metadata": {},
     "output_type": "execute_result"
    }
   ],
   "source": [
    "samples = all_betas.rvs()\n",
    "samples"
   ]
  },
  {
   "cell_type": "code",
   "execution_count": 15,
   "metadata": {},
   "outputs": [
    {
     "data": {
      "text/plain": [
       "0.42732954946794083"
      ]
     },
     "execution_count": 15,
     "metadata": {},
     "output_type": "execute_result"
    }
   ],
   "source": [
    "samples.max()"
   ]
  },
  {
   "cell_type": "code",
   "execution_count": 16,
   "metadata": {},
   "outputs": [
    {
     "data": {
      "text/plain": [
       "3"
      ]
     },
     "execution_count": 16,
     "metadata": {},
     "output_type": "execute_result"
    }
   ],
   "source": [
    "samples.argmax()"
   ]
  },
  {
   "cell_type": "markdown",
   "metadata": {},
   "source": [
    "#### simulation"
   ]
  },
  {
   "cell_type": "code",
   "execution_count": 17,
   "metadata": {},
   "outputs": [
    {
     "data": {
      "image/png": "[encoded data removed]",
      "text/plain": [
       "<matplotlib.figure.Figure at 0x7f3ecd29b160>"
      ]
     },
     "metadata": {},
     "output_type": "display_data"
    }
   ],
   "source": [
    "fig, axs = plt.subplots(2,2, figsize= (10,10))\n",
    "x = np.linspace(0,1,1000)\n",
    "plot_counter = 0\n",
    "\n",
    "true_p = [0.1, 0.2, 0.3]\n",
    "\n",
    "def pull(i):\n",
    "    return random.random() < true_p[i]\n",
    "\n",
    "wins = np.zeros(3)\n",
    "trials = np.zeros(3)\n",
    "\n",
    "for n in range(5000):\n",
    "    all_betas = stats.beta(1 + wins, 1 + trials - wins)\n",
    "    samples = all_betas.rvs()\n",
    "    choice = samples.argmax()\n",
    "    win = pull(choice)\n",
    "    wins[choice] += win\n",
    "    trials[choice] += 1\n",
    "    if n in [9, 99, 999, 4999]:\n",
    "        ax = axs.flatten()[plot_counter]\n",
    "        for i in range(len(wins)):\n",
    "            beta = stats.beta(1 + wins[i], 1 + trials[i] - wins[i])\n",
    "            ax.plot(x, beta.pdf(x), \n",
    "                    label='Bandit {}'.format(i+1),\n",
    "                    linewidth=3)\n",
    "            ax.set_title('after {} rounds'.format(n + 1))\n",
    "            ax.legend()\n",
    "        plot_counter+=1\n",
    "    "
   ]
  },
  {
   "cell_type": "markdown",
   "metadata": {},
   "source": [
    "Though Thompson sampling has been around since the 1930s, it has only recently (2012) been proved to be a zero-regret strategy. See [this](http://proceedings.mlr.press/v23/agrawal12/agrawal12.pdf) paper.\n",
    "\n",
    "More good papers [here](https://homes.di.unimi.it/~cesabian/Pubblicazioni/ml-02.pdf) and [here](https://arxiv.org/pdf/1710.02869.pdf)"
   ]
  },
  {
   "cell_type": "markdown",
   "metadata": {},
   "source": [
    "### more fun numpy tricks"
   ]
  },
  {
   "cell_type": "markdown",
   "metadata": {},
   "source": [
    "you can use a list of indices to index a numpy array"
   ]
  },
  {
   "cell_type": "code",
   "execution_count": 18,
   "metadata": {},
   "outputs": [
    {
     "data": {
      "text/plain": [
       "array([2, 5, 1, 7, 9, 6, 3, 2, 5, 8])"
      ]
     },
     "execution_count": 18,
     "metadata": {},
     "output_type": "execute_result"
    }
   ],
   "source": [
    "foo = np.array([2,5,1,7,9,6,3,2,5,8])\n",
    "foo"
   ]
  },
  {
   "cell_type": "code",
   "execution_count": 19,
   "metadata": {},
   "outputs": [
    {
     "data": {
      "text/plain": [
       "array([5, 5, 5, 9, 9, 9, 9])"
      ]
     },
     "execution_count": 19,
     "metadata": {},
     "output_type": "execute_result"
    }
   ],
   "source": [
    "foo[[1,1,1,4, 4, 4, 4]]"
   ]
  },
  {
   "cell_type": "markdown",
   "metadata": {},
   "source": [
    "Boolean indexing / masking"
   ]
  },
  {
   "cell_type": "code",
   "execution_count": 20,
   "metadata": {},
   "outputs": [
    {
     "data": {
      "text/plain": [
       "array([0, 1, 2, 3, 4, 5, 6, 7, 8, 9])"
      ]
     },
     "execution_count": 20,
     "metadata": {},
     "output_type": "execute_result"
    }
   ],
   "source": [
    "bar = np.arange(10)\n",
    "bar"
   ]
  },
  {
   "cell_type": "code",
   "execution_count": 21,
   "metadata": {},
   "outputs": [
    {
     "data": {
      "text/plain": [
       "array([2, 5, 1, 7, 9, 6, 3, 2, 5, 8])"
      ]
     },
     "execution_count": 21,
     "metadata": {},
     "output_type": "execute_result"
    }
   ],
   "source": [
    "foo"
   ]
  },
  {
   "cell_type": "code",
   "execution_count": 22,
   "metadata": {},
   "outputs": [
    {
     "data": {
      "text/plain": [
       "array([ True,  True, False,  True,  True,  True, False, False, False, False], dtype=bool)"
      ]
     },
     "execution_count": 22,
     "metadata": {},
     "output_type": "execute_result"
    }
   ],
   "source": [
    "foo > bar"
   ]
  },
  {
   "cell_type": "code",
   "execution_count": 23,
   "metadata": {},
   "outputs": [
    {
     "data": {
      "text/plain": [
       "0.5"
      ]
     },
     "execution_count": 23,
     "metadata": {},
     "output_type": "execute_result"
    }
   ],
   "source": [
    "np.mean(foo > bar)"
   ]
  },
  {
   "cell_type": "code",
   "execution_count": 24,
   "metadata": {},
   "outputs": [
    {
     "data": {
      "text/plain": [
       "5"
      ]
     },
     "execution_count": 24,
     "metadata": {},
     "output_type": "execute_result"
    }
   ],
   "source": [
    "np.sum(foo>bar)"
   ]
  },
  {
   "cell_type": "code",
   "execution_count": 25,
   "metadata": {},
   "outputs": [
    {
     "data": {
      "text/plain": [
       "array([ True,  True, False,  True,  True,  True, False, False, False, False], dtype=bool)"
      ]
     },
     "execution_count": 25,
     "metadata": {},
     "output_type": "execute_result"
    }
   ],
   "source": [
    "mask = foo > bar\n",
    "mask"
   ]
  },
  {
   "cell_type": "code",
   "execution_count": 26,
   "metadata": {},
   "outputs": [
    {
     "data": {
      "text/plain": [
       "array([2, 5, 7, 9, 6])"
      ]
     },
     "execution_count": 26,
     "metadata": {},
     "output_type": "execute_result"
    }
   ],
   "source": [
    "foo[mask]"
   ]
  },
  {
   "cell_type": "code",
   "execution_count": 27,
   "metadata": {},
   "outputs": [
    {
     "data": {
      "text/plain": [
       "array([0, 1, 3, 4, 5])"
      ]
     },
     "execution_count": 27,
     "metadata": {},
     "output_type": "execute_result"
    }
   ],
   "source": [
    "bar[mask]"
   ]
  },
  {
   "cell_type": "code",
   "execution_count": 28,
   "metadata": {},
   "outputs": [
    {
     "data": {
      "text/plain": [
       "array([2, 6, 7, 8, 9])"
      ]
     },
     "execution_count": 28,
     "metadata": {},
     "output_type": "execute_result"
    }
   ],
   "source": [
    "bar[~mask]"
   ]
  },
  {
   "cell_type": "code",
   "execution_count": null,
   "metadata": {},
   "outputs": [],
   "source": []
  }
 ],
 "metadata": {
  "kernelspec": {
   "display_name": "Python 3",
   "language": "python",
   "name": "python3"
  },
  "language_info": {
   "codemirror_mode": {
    "name": "ipython",
    "version": 3
   },
   "file_extension": ".py",
   "mimetype": "text/x-python",
   "name": "python",
   "nbconvert_exporter": "python",
   "pygments_lexer": "ipython3",
   "version": "3.6.2"
  }
 },
 "nbformat": 4,
 "nbformat_minor": 2
}
