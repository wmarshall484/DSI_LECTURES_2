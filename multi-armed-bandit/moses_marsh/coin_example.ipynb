{
 "cells": [
  {
   "cell_type": "code",
   "execution_count": 1,
   "metadata": {
    "nbpresent": {
     "id": "9a690216-edd8-448d-aa42-7cbbac8e3e4b"
    },
    "scrolled": true
   },
   "outputs": [],
   "source": [
    "from bayes import Bayes         # for Bayes\n",
    "import numpy as np              # for linspace\n",
    "import scipy.stats as stats     # for binom, uniform\n",
    "import matplotlib.pyplot as plt # for plot\n",
    "\n",
    "%matplotlib inline"
   ]
  },
  {
   "cell_type": "markdown",
   "metadata": {},
   "source": [
    "## Yesterday's Coin example"
   ]
  },
  {
   "cell_type": "code",
   "execution_count": 2,
   "metadata": {
    "nbpresent": {
     "id": "b1887005-1af0-43a6-a6ab-cd5e994c4a1a"
    }
   },
   "outputs": [],
   "source": [
    "# here we're discretizing the heads probability p\n",
    "p = np.linspace(0, 1, 101)"
   ]
  },
  {
   "cell_type": "code",
   "execution_count": 3,
   "metadata": {},
   "outputs": [
    {
     "data": {
      "text/plain": [
       "array([ 0.  ,  0.01,  0.02,  0.03,  0.04,  0.05,  0.06,  0.07,  0.08,\n",
       "        0.09,  0.1 ,  0.11,  0.12,  0.13,  0.14,  0.15,  0.16,  0.17,\n",
       "        0.18,  0.19,  0.2 ,  0.21,  0.22,  0.23,  0.24,  0.25,  0.26,\n",
       "        0.27,  0.28,  0.29,  0.3 ,  0.31,  0.32,  0.33,  0.34,  0.35,\n",
       "        0.36,  0.37,  0.38,  0.39,  0.4 ,  0.41,  0.42,  0.43,  0.44,\n",
       "        0.45,  0.46,  0.47,  0.48,  0.49,  0.5 ,  0.51,  0.52,  0.53,\n",
       "        0.54,  0.55,  0.56,  0.57,  0.58,  0.59,  0.6 ,  0.61,  0.62,\n",
       "        0.63,  0.64,  0.65,  0.66,  0.67,  0.68,  0.69,  0.7 ,  0.71,\n",
       "        0.72,  0.73,  0.74,  0.75,  0.76,  0.77,  0.78,  0.79,  0.8 ,\n",
       "        0.81,  0.82,  0.83,  0.84,  0.85,  0.86,  0.87,  0.88,  0.89,\n",
       "        0.9 ,  0.91,  0.92,  0.93,  0.94,  0.95,  0.96,  0.97,  0.98,\n",
       "        0.99,  1.  ])"
      ]
     },
     "execution_count": 3,
     "metadata": {},
     "output_type": "execute_result"
    }
   ],
   "source": [
    "p"
   ]
  },
  {
   "cell_type": "code",
   "execution_count": 4,
   "metadata": {
    "nbpresent": {
     "id": "ac37938d-030d-426a-9ec6-5b52d79d884a"
    }
   },
   "outputs": [],
   "source": [
    "p_priors = { k:1/101 for k in p}"
   ]
  },
  {
   "cell_type": "code",
   "execution_count": 5,
   "metadata": {},
   "outputs": [
    {
     "data": {
      "text/plain": [
       "{0.0: 0.009900990099009901,\n",
       " 0.01: 0.009900990099009901,\n",
       " 0.02: 0.009900990099009901,\n",
       " 0.029999999999999999: 0.009900990099009901,\n",
       " 0.040000000000000001: 0.009900990099009901,\n",
       " 0.050000000000000003: 0.009900990099009901,\n",
       " 0.059999999999999998: 0.009900990099009901,\n",
       " 0.070000000000000007: 0.009900990099009901,\n",
       " 0.080000000000000002: 0.009900990099009901,\n",
       " 0.089999999999999997: 0.009900990099009901,\n",
       " 0.10000000000000001: 0.009900990099009901,\n",
       " 0.11: 0.009900990099009901,\n",
       " 0.12: 0.009900990099009901,\n",
       " 0.13: 0.009900990099009901,\n",
       " 0.14000000000000001: 0.009900990099009901,\n",
       " 0.14999999999999999: 0.009900990099009901,\n",
       " 0.16: 0.009900990099009901,\n",
       " 0.17000000000000001: 0.009900990099009901,\n",
       " 0.17999999999999999: 0.009900990099009901,\n",
       " 0.19: 0.009900990099009901,\n",
       " 0.20000000000000001: 0.009900990099009901,\n",
       " 0.20999999999999999: 0.009900990099009901,\n",
       " 0.22: 0.009900990099009901,\n",
       " 0.23000000000000001: 0.009900990099009901,\n",
       " 0.23999999999999999: 0.009900990099009901,\n",
       " 0.25: 0.009900990099009901,\n",
       " 0.26000000000000001: 0.009900990099009901,\n",
       " 0.27000000000000002: 0.009900990099009901,\n",
       " 0.28000000000000003: 0.009900990099009901,\n",
       " 0.28999999999999998: 0.009900990099009901,\n",
       " 0.29999999999999999: 0.009900990099009901,\n",
       " 0.31: 0.009900990099009901,\n",
       " 0.32000000000000001: 0.009900990099009901,\n",
       " 0.33000000000000002: 0.009900990099009901,\n",
       " 0.34000000000000002: 0.009900990099009901,\n",
       " 0.35000000000000003: 0.009900990099009901,\n",
       " 0.35999999999999999: 0.009900990099009901,\n",
       " 0.37: 0.009900990099009901,\n",
       " 0.38: 0.009900990099009901,\n",
       " 0.39000000000000001: 0.009900990099009901,\n",
       " 0.40000000000000002: 0.009900990099009901,\n",
       " 0.41000000000000003: 0.009900990099009901,\n",
       " 0.41999999999999998: 0.009900990099009901,\n",
       " 0.42999999999999999: 0.009900990099009901,\n",
       " 0.44: 0.009900990099009901,\n",
       " 0.45000000000000001: 0.009900990099009901,\n",
       " 0.46000000000000002: 0.009900990099009901,\n",
       " 0.47000000000000003: 0.009900990099009901,\n",
       " 0.47999999999999998: 0.009900990099009901,\n",
       " 0.48999999999999999: 0.009900990099009901,\n",
       " 0.5: 0.009900990099009901,\n",
       " 0.51000000000000001: 0.009900990099009901,\n",
       " 0.52000000000000002: 0.009900990099009901,\n",
       " 0.53000000000000003: 0.009900990099009901,\n",
       " 0.54000000000000004: 0.009900990099009901,\n",
       " 0.55000000000000004: 0.009900990099009901,\n",
       " 0.56000000000000005: 0.009900990099009901,\n",
       " 0.57000000000000006: 0.009900990099009901,\n",
       " 0.57999999999999996: 0.009900990099009901,\n",
       " 0.58999999999999997: 0.009900990099009901,\n",
       " 0.59999999999999998: 0.009900990099009901,\n",
       " 0.60999999999999999: 0.009900990099009901,\n",
       " 0.62: 0.009900990099009901,\n",
       " 0.63: 0.009900990099009901,\n",
       " 0.64000000000000001: 0.009900990099009901,\n",
       " 0.65000000000000002: 0.009900990099009901,\n",
       " 0.66000000000000003: 0.009900990099009901,\n",
       " 0.67000000000000004: 0.009900990099009901,\n",
       " 0.68000000000000005: 0.009900990099009901,\n",
       " 0.69000000000000006: 0.009900990099009901,\n",
       " 0.70000000000000007: 0.009900990099009901,\n",
       " 0.70999999999999996: 0.009900990099009901,\n",
       " 0.71999999999999997: 0.009900990099009901,\n",
       " 0.72999999999999998: 0.009900990099009901,\n",
       " 0.73999999999999999: 0.009900990099009901,\n",
       " 0.75: 0.009900990099009901,\n",
       " 0.76000000000000001: 0.009900990099009901,\n",
       " 0.77000000000000002: 0.009900990099009901,\n",
       " 0.78000000000000003: 0.009900990099009901,\n",
       " 0.79000000000000004: 0.009900990099009901,\n",
       " 0.80000000000000004: 0.009900990099009901,\n",
       " 0.81000000000000005: 0.009900990099009901,\n",
       " 0.82000000000000006: 0.009900990099009901,\n",
       " 0.83000000000000007: 0.009900990099009901,\n",
       " 0.83999999999999997: 0.009900990099009901,\n",
       " 0.84999999999999998: 0.009900990099009901,\n",
       " 0.85999999999999999: 0.009900990099009901,\n",
       " 0.87: 0.009900990099009901,\n",
       " 0.88: 0.009900990099009901,\n",
       " 0.89000000000000001: 0.009900990099009901,\n",
       " 0.90000000000000002: 0.009900990099009901,\n",
       " 0.91000000000000003: 0.009900990099009901,\n",
       " 0.92000000000000004: 0.009900990099009901,\n",
       " 0.93000000000000005: 0.009900990099009901,\n",
       " 0.94000000000000006: 0.009900990099009901,\n",
       " 0.95000000000000007: 0.009900990099009901,\n",
       " 0.95999999999999996: 0.009900990099009901,\n",
       " 0.96999999999999997: 0.009900990099009901,\n",
       " 0.97999999999999998: 0.009900990099009901,\n",
       " 0.98999999999999999: 0.009900990099009901,\n",
       " 1.0: 0.009900990099009901}"
      ]
     },
     "execution_count": 5,
     "metadata": {},
     "output_type": "execute_result"
    }
   ],
   "source": [
    "p_priors"
   ]
  },
  {
   "cell_type": "code",
   "execution_count": 6,
   "metadata": {},
   "outputs": [
    {
     "data": {
      "text/plain": [
       "True"
      ]
     },
     "execution_count": 6,
     "metadata": {},
     "output_type": "execute_result"
    }
   ],
   "source": [
    "bool(1)"
   ]
  },
  {
   "cell_type": "code",
   "execution_count": 7,
   "metadata": {
    "nbpresent": {
     "id": "cba9dcb3-3589-4a60-b63a-47da880cf332"
    }
   },
   "outputs": [],
   "source": [
    "def coin_likelihood(data, p):\n",
    "    # what is the likelihood of drawing data\n",
    "    # given that the heads probability is p\n",
    "    # data = 0 for tails, 1 for heads\n",
    "    if data:\n",
    "        return p\n",
    "    return 1-p"
   ]
  },
  {
   "cell_type": "markdown",
   "metadata": {
    "nbpresent": {
     "id": "1e75d309-fbb4-468b-83c4-a9532a9c3b22"
    }
   },
   "source": [
    "I'm now creating an instance of that same `Bayes` object you used."
   ]
  },
  {
   "cell_type": "code",
   "execution_count": 12,
   "metadata": {
    "nbpresent": {
     "id": "543a2c19-c670-41df-add5-91eee0c9a84a"
    }
   },
   "outputs": [
    {
     "data": {
      "image/png": "[encoded data removed]",
      "text/plain": [
       "<matplotlib.figure.Figure at 0x7f4c3a094d68>"
      ]
     },
     "metadata": {},
     "output_type": "display_data"
    }
   ],
   "source": [
    "\n",
    "plt.figure(figsize=(12,5))\n",
    "bayes = Bayes(p_priors.copy(), coin_likelihood)\n",
    "bayes.plot(title=\"uniform prior\", color='b', marker='.', linestyle=None)"
   ]
  },
  {
   "cell_type": "code",
   "execution_count": 13,
   "metadata": {
    "nbpresent": {
     "id": "80739538-5402-4024-b6cb-e37f3001e335"
    }
   },
   "outputs": [
    {
     "data": {
      "image/png": "[encoded data removed]",
      "text/plain": [
       "<matplotlib.figure.Figure at 0x7f4c39e77ac8>"
      ]
     },
     "metadata": {},
     "output_type": "display_data"
    }
   ],
   "source": [
    "bayes.update(1) \n",
    "bayes.update(0) \n",
    "bayes.update(1)\n",
    "bayes.update(0)\n",
    "\n",
    "bayes.plot(title=\"flips=1,0,1,0\")"
   ]
  },
  {
   "cell_type": "markdown",
   "metadata": {
    "nbpresent": {
     "id": "177f4507-f291-4937-b65e-a1f69572a8a4"
    }
   },
   "source": [
    "Let's create a function to do that nicely..."
   ]
  },
  {
   "cell_type": "code",
   "execution_count": 14,
   "metadata": {
    "nbpresent": {
     "id": "d818303d-87b6-4986-8281-6c2488561c00"
    }
   },
   "outputs": [],
   "source": [
    "def feed_bayes_and_plot(bayes, data_sequence):\n",
    "    N = len(data_sequence)\n",
    "    \n",
    "    fig, axs = plt.subplots(1, N, figsize=(16, 3))\n",
    "    \n",
    "    # for each new data point\n",
    "    for i, ax in enumerate(axs.flatten()):\n",
    "        bayes.update(data_sequence[i])\n",
    "        sorted_keys = sorted(bayes.prior.keys())\n",
    "        sorted_probs = [bayes.prior[key] for key in sorted_keys]\n",
    "        ax.plot(sorted_keys, sorted_probs)\n",
    "        ax.set_title(\",\".join(map(str,data_sequence[0:i+1])))\n",
    "        ax.get_yaxis().set_ticks([])\n",
    "        if i==0:\n",
    "            ax.set_ylabel('pdf')\n",
    "        ax.set_xlabel('p')"
   ]
  },
  {
   "cell_type": "code",
   "execution_count": 15,
   "metadata": {
    "nbpresent": {
     "id": "aabf1f6c-c8c0-4690-8915-57d7978b914f"
    }
   },
   "outputs": [
    {
     "data": {
      "image/png": "[encoded data removed]",
      "text/plain": [
       "<matplotlib.figure.Figure at 0x7f4c39deb748>"
      ]
     },
     "metadata": {},
     "output_type": "display_data"
    }
   ],
   "source": [
    "flips_A = [1,0,1,0,1]\n",
    "\n",
    "bayesA = Bayes(p_priors.copy(), coin_likelihood)\n",
    "feed_bayes_and_plot(bayesA, flips_A)"
   ]
  },
  {
   "cell_type": "code",
   "execution_count": 11,
   "metadata": {
    "nbpresent": {
     "id": "5bdff917-e687-47b4-add3-ceb19d0a75d5"
    }
   },
   "outputs": [
    {
     "data": {
      "image/png": "[encoded data removed]",
      "text/plain": [
       "<matplotlib.figure.Figure at 0x7fd156a71f28>"
      ]
     },
     "metadata": {},
     "output_type": "display_data"
    }
   ],
   "source": [
    "flips_B = [0,0,0,1,0]\n",
    "\n",
    "bayesB = Bayes(p_priors.copy(), coin_likelihood)\n",
    "feed_bayes_and_plot(bayesB, flips_B)"
   ]
  },
  {
   "cell_type": "code",
   "execution_count": 16,
   "metadata": {},
   "outputs": [],
   "source": [
    "import scipy.stats as scs"
   ]
  },
  {
   "cell_type": "code",
   "execution_count": 24,
   "metadata": {},
   "outputs": [],
   "source": [
    "clicks_A, views_A, clicks_B, views_B = 563, 1000, 551, 921\n",
    "# let's draw values from those distribution models\n",
    "simulation_size = 10000\n",
    "\n",
    "# model for A, fed with the right values\n",
    "A_model = stats.beta(1 + clicks_A, 1 + views_A - clicks_A)\n",
    "A_sim = A_model.rvs(simulation_size) \n",
    "\n",
    "# model for B, fed with the right values\n",
    "B_model = stats.beta(1 + clicks_B, 1 + views_B - clicks_B)\n",
    "B_sim = B_model.rvs(size=simulation_size)\n"
   ]
  },
  {
   "cell_type": "code",
   "execution_count": 36,
   "metadata": {},
   "outputs": [
    {
     "data": {
      "text/plain": [
       "0.42109999999999997"
      ]
     },
     "execution_count": 36,
     "metadata": {},
     "output_type": "execute_result"
    }
   ],
   "source": [
    "(B_sim >= (A_sim + 0.04)).mean()"
   ]
  },
  {
   "cell_type": "code",
   "execution_count": 33,
   "metadata": {},
   "outputs": [
    {
     "data": {
      "image/png": "[encoded data removed]",
      "text/plain": [
       "<matplotlib.figure.Figure at 0x7f4c39cb1d30>"
      ]
     },
     "metadata": {},
     "output_type": "display_data"
    }
   ],
   "source": [
    "xx = np.linspace(0.4,.7,1000)\n",
    "plt.plot(xx,A_model.pdf(xx), label='A')\n",
    "plt.plot(xx,B_model.pdf(xx), label='B')\n",
    "plt.legend();"
   ]
  },
  {
   "cell_type": "code",
   "execution_count": null,
   "metadata": {},
   "outputs": [],
   "source": []
  },
  {
   "cell_type": "code",
   "execution_count": null,
   "metadata": {},
   "outputs": [],
   "source": [
    "\n",
    "# let's find out the probability that A is better than B\n",
    "print( np.mean(A_sample > B_sample))\n",
    "\n",
    "# we can also find the probability that p_A is larger than p_B by 0.05\n",
    "print (np.mean(A_sample > (B_sample + 0.05)))"
   ]
  },
  {
   "cell_type": "code",
   "execution_count": 18,
   "metadata": {},
   "outputs": [
    {
     "data": {
      "text/plain": [
       "array([ 0.57479033,  0.54666996,  0.57352997, ...,  0.55042962,\n",
       "        0.57889536,  0.53219379])"
      ]
     },
     "execution_count": 18,
     "metadata": {},
     "output_type": "execute_result"
    }
   ],
   "source": [
    "A_sample"
   ]
  },
  {
   "cell_type": "code",
   "execution_count": 19,
   "metadata": {},
   "outputs": [
    {
     "data": {
      "text/plain": [
       "array([ 0.60444878,  0.60557671,  0.59698206, ...,  0.60200288,\n",
       "        0.58624289,  0.59506567])"
      ]
     },
     "execution_count": 19,
     "metadata": {},
     "output_type": "execute_result"
    }
   ],
   "source": [
    "B_sample"
   ]
  },
  {
   "cell_type": "code",
   "execution_count": 17,
   "metadata": {},
   "outputs": [
    {
     "data": {
      "text/plain": [
       "array([False, False, False, ..., False, False, False], dtype=bool)"
      ]
     },
     "execution_count": 17,
     "metadata": {},
     "output_type": "execute_result"
    }
   ],
   "source": [
    "A_sample > B_sample"
   ]
  },
  {
   "cell_type": "code",
   "execution_count": 18,
   "metadata": {},
   "outputs": [
    {
     "data": {
      "text/plain": [
       "583"
      ]
     },
     "execution_count": 18,
     "metadata": {},
     "output_type": "execute_result"
    }
   ],
   "source": [
    "sum(A_sample > B_sample)"
   ]
  },
  {
   "cell_type": "code",
   "execution_count": 19,
   "metadata": {},
   "outputs": [
    {
     "data": {
      "text/plain": [
       "0.058299999999999998"
      ]
     },
     "execution_count": 19,
     "metadata": {},
     "output_type": "execute_result"
    }
   ],
   "source": [
    "np.mean(A_sample > B_sample)"
   ]
  },
  {
   "cell_type": "code",
   "execution_count": null,
   "metadata": {},
   "outputs": [],
   "source": []
  },
  {
   "cell_type": "code",
   "execution_count": null,
   "metadata": {},
   "outputs": [],
   "source": []
  },
  {
   "cell_type": "code",
   "execution_count": 20,
   "metadata": {
    "scrolled": true
   },
   "outputs": [
    {
     "data": {
      "text/plain": [
       "<matplotlib.legend.Legend at 0x7fd156514a20>"
      ]
     },
     "execution_count": 20,
     "metadata": {},
     "output_type": "execute_result"
    },
    {
     "data": {
      "image/png": "[encoded data removed]",
      "text/plain": [
       "<matplotlib.figure.Figure at 0x7fd1569524a8>"
      ]
     },
     "metadata": {},
     "output_type": "display_data"
    }
   ],
   "source": [
    "x = np.linspace(0,1,10000)\n",
    "plt.plot(x, scs.beta(1+clicks_A, 1+ views_A - clicks_A).pdf(x), label='A')\n",
    "plt.plot(x, scs.beta(1+clicks_B, 1+ views_B - clicks_B).pdf(x), label='B')\n",
    "plt.xlim([0.35, 0.75])\n",
    "plt.legend()"
   ]
  },
  {
   "cell_type": "code",
   "execution_count": null,
   "metadata": {},
   "outputs": [],
   "source": []
  },
  {
   "cell_type": "code",
   "execution_count": null,
   "metadata": {},
   "outputs": [],
   "source": []
  },
  {
   "cell_type": "code",
   "execution_count": null,
   "metadata": {},
   "outputs": [],
   "source": []
  },
  {
   "cell_type": "code",
   "execution_count": null,
   "metadata": {},
   "outputs": [],
   "source": []
  },
  {
   "cell_type": "code",
   "execution_count": null,
   "metadata": {},
   "outputs": [],
   "source": []
  },
  {
   "cell_type": "code",
   "execution_count": null,
   "metadata": {},
   "outputs": [],
   "source": []
  },
  {
   "cell_type": "code",
   "execution_count": 21,
   "metadata": {
    "nbpresent": {
     "id": "1410f901-afcd-48ed-8944-29c83309399c"
    }
   },
   "outputs": [
    {
     "data": {
      "text/plain": [
       "array(['a', 'c', 'a', 'b', 'a', 'a', 'a', 'b', 'a', 'a', 'a', 'a', 'a',\n",
       "       'b', 'a', 'a', 'a', 'a', 'a', 'a', 'a', 'a', 'c', 'b', 'a', 'a',\n",
       "       'a', 'b', 'a', 'a'],\n",
       "      dtype='<U1')"
      ]
     },
     "execution_count": 21,
     "metadata": {},
     "output_type": "execute_result"
    }
   ],
   "source": [
    "np.random.choice(['a', 'b', 'c'], size=30, p=[0.8, 0.1, 0.1])"
   ]
  },
  {
   "cell_type": "code",
   "execution_count": null,
   "metadata": {},
   "outputs": [],
   "source": []
  },
  {
   "cell_type": "code",
   "execution_count": null,
   "metadata": {},
   "outputs": [],
   "source": []
  },
  {
   "cell_type": "code",
   "execution_count": 22,
   "metadata": {},
   "outputs": [],
   "source": [
    "foo = np.array([2,5,1,7,9,6,3,2,5,8])"
   ]
  },
  {
   "cell_type": "code",
   "execution_count": 23,
   "metadata": {},
   "outputs": [
    {
     "data": {
      "text/plain": [
       "array([2, 5, 1, 7, 9, 6, 3, 2, 5, 8])"
      ]
     },
     "execution_count": 23,
     "metadata": {},
     "output_type": "execute_result"
    }
   ],
   "source": [
    "foo"
   ]
  },
  {
   "cell_type": "code",
   "execution_count": 24,
   "metadata": {},
   "outputs": [
    {
     "data": {
      "text/plain": [
       "array([5, 5, 5, 9, 9, 9, 9])"
      ]
     },
     "execution_count": 24,
     "metadata": {},
     "output_type": "execute_result"
    }
   ],
   "source": [
    "foo[[1,1,1,4, 4, 4, 4]]"
   ]
  },
  {
   "cell_type": "code",
   "execution_count": 25,
   "metadata": {},
   "outputs": [],
   "source": [
    "bar = np.arange(10)"
   ]
  },
  {
   "cell_type": "code",
   "execution_count": 26,
   "metadata": {},
   "outputs": [
    {
     "data": {
      "text/plain": [
       "array([0, 1, 2, 3, 4, 5, 6, 7, 8, 9])"
      ]
     },
     "execution_count": 26,
     "metadata": {},
     "output_type": "execute_result"
    }
   ],
   "source": [
    "bar"
   ]
  },
  {
   "cell_type": "code",
   "execution_count": 27,
   "metadata": {},
   "outputs": [
    {
     "data": {
      "text/plain": [
       "array([ True,  True, False,  True,  True,  True, False, False, False, False], dtype=bool)"
      ]
     },
     "execution_count": 27,
     "metadata": {},
     "output_type": "execute_result"
    }
   ],
   "source": [
    "foo > bar"
   ]
  },
  {
   "cell_type": "code",
   "execution_count": 28,
   "metadata": {},
   "outputs": [
    {
     "data": {
      "text/plain": [
       "0.5"
      ]
     },
     "execution_count": 28,
     "metadata": {},
     "output_type": "execute_result"
    }
   ],
   "source": [
    "np.mean(foo > bar)"
   ]
  },
  {
   "cell_type": "code",
   "execution_count": 29,
   "metadata": {},
   "outputs": [
    {
     "data": {
      "text/plain": [
       "5"
      ]
     },
     "execution_count": 29,
     "metadata": {},
     "output_type": "execute_result"
    }
   ],
   "source": [
    "np.sum(foo>bar)"
   ]
  },
  {
   "cell_type": "code",
   "execution_count": 30,
   "metadata": {},
   "outputs": [],
   "source": [
    "mask = foo > bar"
   ]
  },
  {
   "cell_type": "code",
   "execution_count": 31,
   "metadata": {},
   "outputs": [
    {
     "data": {
      "text/plain": [
       "array([ True,  True, False,  True,  True,  True, False, False, False, False], dtype=bool)"
      ]
     },
     "execution_count": 31,
     "metadata": {},
     "output_type": "execute_result"
    }
   ],
   "source": [
    "mask"
   ]
  },
  {
   "cell_type": "code",
   "execution_count": 32,
   "metadata": {},
   "outputs": [
    {
     "data": {
      "text/plain": [
       "array([2, 5, 7, 9, 6])"
      ]
     },
     "execution_count": 32,
     "metadata": {},
     "output_type": "execute_result"
    }
   ],
   "source": [
    "foo[mask]"
   ]
  },
  {
   "cell_type": "code",
   "execution_count": null,
   "metadata": {
    "collapsed": true
   },
   "outputs": [],
   "source": []
  }
 ],
 "metadata": {
  "anaconda-cloud": {},
  "kernelspec": {
   "display_name": "Python 3",
   "language": "python",
   "name": "python3"
  },
  "language_info": {
   "codemirror_mode": {
    "name": "ipython",
    "version": 3
   },
   "file_extension": ".py",
   "mimetype": "text/x-python",
   "name": "python",
   "nbconvert_exporter": "python",
   "pygments_lexer": "ipython3",
   "version": "3.6.2"
  }
 },
 "nbformat": 4,
 "nbformat_minor": 1
}
