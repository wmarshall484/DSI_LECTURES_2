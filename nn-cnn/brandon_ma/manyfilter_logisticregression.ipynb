{
 "cells": [
  {
   "cell_type": "code",
   "execution_count": 1,
   "metadata": {},
   "outputs": [],
   "source": [
    "#!pip install scikit-image"
   ]
  },
  {
   "cell_type": "code",
   "execution_count": 140,
   "metadata": {},
   "outputs": [],
   "source": [
    "import tensorflow as tf\n",
    "import numpy as np\n",
    "from matplotlib import pyplot as plt\n",
    "\n",
    "from tensorflow.keras import datasets, layers, models, regularizers, initializers, activations\n",
    "from skimage.io import imshow\n",
    "from skimage.transform import rotate\n",
    "\n",
    "from skimage.io import imshow, imread\n",
    "from skimage.transform import resize\n",
    "from skimage.color import rgb2gray\n",
    "\n",
    "np.random.seed(42)"
   ]
  },
  {
   "cell_type": "code",
   "execution_count": 3,
   "metadata": {},
   "outputs": [],
   "source": [
    "def random_crop(img, margin=0.2):\n",
    "    #randomly chop off margin amounts; for augumenting data\n",
    "    \n",
    "    w,h,nchannels = img.shape\n",
    "    lmargin, rmargin = np.random.randint( 0, w*margin, size=2 )\n",
    "    bmargin, tmargin = np.random.randint( 0, h*margin, size=2 )\n",
    "    \n",
    "    ret = img[bmargin:-tmargin-1, lmargin:-rmargin-1,:]\n",
    "    \n",
    "    return ret\n",
    "\n",
    "def augment( images, labels, factor=5 ):\n",
    "    for j, (image, label) in enumerate( zip(images, labels) ):\n",
    "        print( \"{}/{} images\".format(j, len(images)) )\n",
    "        for i in range(factor):\n",
    "            aug = rotate( image, np.random.randint(-10,10) )\n",
    "            aug = random_crop(aug)\n",
    "            \n",
    "            if np.random.binomial(1,0.5): #half the time randomly\n",
    "                aug = aug[:,::-1] #flip left-right\n",
    "                \n",
    "            yield aug, label"
   ]
  },
  {
   "cell_type": "markdown",
   "metadata": {},
   "source": [
    "# A simple convolutional neural network\n",
    "\n",
    "An introduction to features that are very standard to almost all CNNs:\n",
    "    \n",
    "* Multiple convolution layers\n",
    "* 3D convolutions\n",
    "* Regularization techniques\n",
    "* Multilayer perceptron hidden layer"
   ]
  },
  {
   "cell_type": "markdown",
   "metadata": {},
   "source": [
    "## Cobble together a train/test set of cats and dogs..."
   ]
  },
  {
   "cell_type": "code",
   "execution_count": 4,
   "metadata": {},
   "outputs": [],
   "source": [
    "import sys\n",
    "sys.path.append(\"src\")"
   ]
  },
  {
   "cell_type": "code",
   "execution_count": 5,
   "metadata": {},
   "outputs": [],
   "source": [
    "from pipeline import get_images"
   ]
  },
  {
   "cell_type": "code",
   "execution_count": 6,
   "metadata": {},
   "outputs": [],
   "source": [
    "cat_images = [x for _,x in get_images(\"data/cat_dog/cat\")]\n",
    "dog_images = [x for _,x in get_images(\"data/cat_dog/dog\")]"
   ]
  },
  {
   "cell_type": "code",
   "execution_count": 7,
   "metadata": {},
   "outputs": [],
   "source": [
    "# stack all images\n",
    "images = cat_images+dog_images\n",
    "y = np.array([1]*len(cat_images) + [0]*len(dog_images))"
   ]
  },
  {
   "cell_type": "code",
   "execution_count": 8,
   "metadata": {},
   "outputs": [],
   "source": [
    "#shuffle images and target var\n",
    "i = np.random.choice( np.arange(len(images)), size=len(images), replace=False)\n",
    "images = [images[ix] for ix in i]\n",
    "y = y[i]"
   ]
  },
  {
   "cell_type": "code",
   "execution_count": 9,
   "metadata": {},
   "outputs": [],
   "source": [
    "# do train test split\n",
    "n_train = int(len(images)*0.80)\n",
    "\n",
    "images_train = images[:n_train]\n",
    "labels_train = y[:n_train]\n",
    "\n",
    "images_test = images[n_train:]\n",
    "labels_test = y[n_train:]"
   ]
  },
  {
   "cell_type": "code",
   "execution_count": 10,
   "metadata": {},
   "outputs": [],
   "source": [
    "featurize = lambda x: resize(rgb2gray(x), (100,100))"
   ]
  },
  {
   "cell_type": "code",
   "execution_count": 11,
   "metadata": {},
   "outputs": [
    {
     "name": "stdout",
     "output_type": "stream",
     "text": [
      "0/320 images\n",
      "1/320 images\n",
      "2/320 images\n",
      "3/320 images\n",
      "4/320 images\n",
      "5/320 images\n",
      "6/320 images\n",
      "7/320 images\n",
      "8/320 images\n",
      "9/320 images\n",
      "10/320 images\n",
      "11/320 images\n",
      "12/320 images\n",
      "13/320 images\n",
      "14/320 images\n",
      "15/320 images\n",
      "16/320 images\n",
      "17/320 images\n",
      "18/320 images\n",
      "19/320 images\n",
      "20/320 images\n",
      "21/320 images\n",
      "22/320 images\n",
      "23/320 images\n",
      "24/320 images\n",
      "25/320 images\n",
      "26/320 images\n",
      "27/320 images\n",
      "28/320 images\n",
      "29/320 images\n",
      "30/320 images\n",
      "31/320 images\n",
      "32/320 images\n",
      "33/320 images\n",
      "34/320 images\n",
      "35/320 images\n",
      "36/320 images\n",
      "37/320 images\n",
      "38/320 images\n",
      "39/320 images\n",
      "40/320 images\n",
      "41/320 images\n",
      "42/320 images\n",
      "43/320 images\n",
      "44/320 images\n",
      "45/320 images\n",
      "46/320 images\n",
      "47/320 images\n",
      "48/320 images\n",
      "49/320 images\n",
      "50/320 images\n",
      "51/320 images\n",
      "52/320 images\n",
      "53/320 images\n",
      "54/320 images\n",
      "55/320 images\n",
      "56/320 images\n",
      "57/320 images\n",
      "58/320 images\n",
      "59/320 images\n",
      "60/320 images\n",
      "61/320 images\n",
      "62/320 images\n",
      "63/320 images\n",
      "64/320 images\n",
      "65/320 images\n",
      "66/320 images\n",
      "67/320 images\n",
      "68/320 images\n",
      "69/320 images\n",
      "70/320 images\n",
      "71/320 images\n",
      "72/320 images\n",
      "73/320 images\n",
      "74/320 images\n",
      "75/320 images\n",
      "76/320 images\n",
      "77/320 images\n",
      "78/320 images\n",
      "79/320 images\n",
      "80/320 images\n",
      "81/320 images\n",
      "82/320 images\n",
      "83/320 images\n",
      "84/320 images\n",
      "85/320 images\n",
      "86/320 images\n",
      "87/320 images\n",
      "88/320 images\n",
      "89/320 images\n",
      "90/320 images\n",
      "91/320 images\n",
      "92/320 images\n",
      "93/320 images\n",
      "94/320 images\n",
      "95/320 images\n",
      "96/320 images\n",
      "97/320 images\n",
      "98/320 images\n",
      "99/320 images\n",
      "100/320 images\n",
      "101/320 images\n",
      "102/320 images\n",
      "103/320 images\n",
      "104/320 images\n",
      "105/320 images\n",
      "106/320 images\n",
      "107/320 images\n",
      "108/320 images\n",
      "109/320 images\n",
      "110/320 images\n",
      "111/320 images\n",
      "112/320 images\n",
      "113/320 images\n",
      "114/320 images\n",
      "115/320 images\n",
      "116/320 images\n",
      "117/320 images\n",
      "118/320 images\n",
      "119/320 images\n",
      "120/320 images\n",
      "121/320 images\n",
      "122/320 images\n",
      "123/320 images\n",
      "124/320 images\n",
      "125/320 images\n",
      "126/320 images\n",
      "127/320 images\n",
      "128/320 images\n",
      "129/320 images\n",
      "130/320 images\n",
      "131/320 images\n",
      "132/320 images\n",
      "133/320 images\n",
      "134/320 images\n",
      "135/320 images\n",
      "136/320 images\n",
      "137/320 images\n",
      "138/320 images\n",
      "139/320 images\n",
      "140/320 images\n",
      "141/320 images\n",
      "142/320 images\n",
      "143/320 images\n",
      "144/320 images\n",
      "145/320 images\n",
      "146/320 images\n",
      "147/320 images\n",
      "148/320 images\n",
      "149/320 images\n",
      "150/320 images\n",
      "151/320 images\n",
      "152/320 images\n",
      "153/320 images\n",
      "154/320 images\n",
      "155/320 images\n",
      "156/320 images\n",
      "157/320 images\n",
      "158/320 images\n",
      "159/320 images\n",
      "160/320 images\n",
      "161/320 images\n",
      "162/320 images\n",
      "163/320 images\n",
      "164/320 images\n",
      "165/320 images\n",
      "166/320 images\n",
      "167/320 images\n",
      "168/320 images\n",
      "169/320 images\n",
      "170/320 images\n",
      "171/320 images\n",
      "172/320 images\n",
      "173/320 images\n",
      "174/320 images\n",
      "175/320 images\n",
      "176/320 images\n",
      "177/320 images\n",
      "178/320 images\n",
      "179/320 images\n",
      "180/320 images\n",
      "181/320 images\n",
      "182/320 images\n",
      "183/320 images\n",
      "184/320 images\n",
      "185/320 images\n",
      "186/320 images\n",
      "187/320 images\n",
      "188/320 images\n",
      "189/320 images\n",
      "190/320 images\n",
      "191/320 images\n",
      "192/320 images\n",
      "193/320 images\n",
      "194/320 images\n",
      "195/320 images\n",
      "196/320 images\n",
      "197/320 images\n",
      "198/320 images\n",
      "199/320 images\n",
      "200/320 images\n",
      "201/320 images\n",
      "202/320 images\n",
      "203/320 images\n",
      "204/320 images\n",
      "205/320 images\n",
      "206/320 images\n",
      "207/320 images\n",
      "208/320 images\n",
      "209/320 images\n",
      "210/320 images\n",
      "211/320 images\n",
      "212/320 images\n",
      "213/320 images\n",
      "214/320 images\n",
      "215/320 images\n",
      "216/320 images\n",
      "217/320 images\n",
      "218/320 images\n",
      "219/320 images\n",
      "220/320 images\n",
      "221/320 images\n",
      "222/320 images\n",
      "223/320 images\n",
      "224/320 images\n",
      "225/320 images\n",
      "226/320 images\n",
      "227/320 images\n",
      "228/320 images\n",
      "229/320 images\n",
      "230/320 images\n",
      "231/320 images\n",
      "232/320 images\n",
      "233/320 images\n",
      "234/320 images\n",
      "235/320 images\n",
      "236/320 images\n",
      "237/320 images\n",
      "238/320 images\n",
      "239/320 images\n",
      "240/320 images\n",
      "241/320 images\n",
      "242/320 images\n",
      "243/320 images\n",
      "244/320 images\n",
      "245/320 images\n",
      "246/320 images\n",
      "247/320 images\n",
      "248/320 images\n",
      "249/320 images\n",
      "250/320 images\n",
      "251/320 images\n",
      "252/320 images\n",
      "253/320 images\n",
      "254/320 images\n",
      "255/320 images\n",
      "256/320 images\n",
      "257/320 images\n",
      "258/320 images\n",
      "259/320 images\n",
      "260/320 images\n",
      "261/320 images\n",
      "262/320 images\n",
      "263/320 images\n",
      "264/320 images\n",
      "265/320 images\n",
      "266/320 images\n",
      "267/320 images\n",
      "268/320 images\n",
      "269/320 images\n",
      "270/320 images\n",
      "271/320 images\n",
      "272/320 images\n",
      "273/320 images\n",
      "274/320 images\n",
      "275/320 images\n",
      "276/320 images\n",
      "277/320 images\n",
      "278/320 images\n",
      "279/320 images\n",
      "280/320 images\n",
      "281/320 images\n",
      "282/320 images\n",
      "283/320 images\n",
      "284/320 images\n",
      "285/320 images\n",
      "286/320 images\n",
      "287/320 images\n",
      "288/320 images\n",
      "289/320 images\n",
      "290/320 images\n",
      "291/320 images\n",
      "292/320 images\n",
      "293/320 images\n",
      "294/320 images\n",
      "295/320 images\n",
      "296/320 images\n",
      "297/320 images\n",
      "298/320 images\n",
      "299/320 images\n",
      "300/320 images\n",
      "301/320 images\n",
      "302/320 images\n",
      "303/320 images\n",
      "304/320 images\n",
      "305/320 images\n",
      "306/320 images\n",
      "307/320 images\n",
      "308/320 images\n",
      "309/320 images\n",
      "310/320 images\n",
      "311/320 images\n",
      "312/320 images\n",
      "313/320 images\n",
      "314/320 images\n",
      "315/320 images\n",
      "316/320 images\n",
      "317/320 images\n",
      "318/320 images\n",
      "319/320 images\n"
     ]
    }
   ],
   "source": [
    "aug_pairs = list( [(featurize(x),y) for x,y in \\\n",
    "                    augment( images_train, labels_train, factor=4 )] )"
   ]
  },
  {
   "cell_type": "code",
   "execution_count": 12,
   "metadata": {},
   "outputs": [],
   "source": [
    "# build X and y from augmented images\n",
    "X_train = np.stack( [x for x,y in aug_pairs] )\n",
    "y_train = np.stack( [y for x,y in aug_pairs] )"
   ]
  },
  {
   "cell_type": "code",
   "execution_count": 13,
   "metadata": {},
   "outputs": [],
   "source": [
    "# featurize test images\n",
    "X_test = np.stack( [featurize(x) for x in images_test] )\n",
    "y_test = labels_test"
   ]
  },
  {
   "cell_type": "code",
   "execution_count": 14,
   "metadata": {},
   "outputs": [],
   "source": [
    "# tensorflow needs each image sample to be 1-channel, not 0-channel\n",
    "X_train = np.expand_dims( X_train, axis=3 )\n",
    "X_test = np.expand_dims( X_test, axis=3 )"
   ]
  },
  {
   "cell_type": "markdown",
   "metadata": {},
   "source": [
    "## Design model"
   ]
  },
  {
   "cell_type": "code",
   "execution_count": 15,
   "metadata": {},
   "outputs": [],
   "source": [
    "model = models.Sequential()\n",
    "model.add(layers.Conv2D(4, (3, 3), activation='relu', \n",
    "                        input_shape=(100, 100, 1),\n",
    "                        kernel_regularizer=regularizers.l2(0.003)))\n",
    "model.add(layers.MaxPooling2D((2, 2)))\n",
    "model.add(layers.Dropout(0.5))\n",
    "model.add(layers.Conv2D(9, (3, 3), activation='relu'))\n",
    "model.add(layers.MaxPooling2D((2, 2)))\n",
    "model.add(layers.Dropout(0.5))\n",
    "model.add(layers.Conv2D(4, (3, 3), activation='relu'))"
   ]
  },
  {
   "cell_type": "code",
   "execution_count": 16,
   "metadata": {},
   "outputs": [
    {
     "name": "stdout",
     "output_type": "stream",
     "text": [
      "Model: \"sequential\"\n",
      "_________________________________________________________________\n",
      "Layer (type)                 Output Shape              Param #   \n",
      "=================================================================\n",
      "conv2d (Conv2D)              (None, 98, 98, 4)         40        \n",
      "_________________________________________________________________\n",
      "max_pooling2d (MaxPooling2D) (None, 49, 49, 4)         0         \n",
      "_________________________________________________________________\n",
      "dropout (Dropout)            (None, 49, 49, 4)         0         \n",
      "_________________________________________________________________\n",
      "conv2d_1 (Conv2D)            (None, 47, 47, 9)         333       \n",
      "_________________________________________________________________\n",
      "max_pooling2d_1 (MaxPooling2 (None, 23, 23, 9)         0         \n",
      "_________________________________________________________________\n",
      "dropout_1 (Dropout)          (None, 23, 23, 9)         0         \n",
      "_________________________________________________________________\n",
      "conv2d_2 (Conv2D)            (None, 21, 21, 4)         328       \n",
      "=================================================================\n",
      "Total params: 701\n",
      "Trainable params: 701\n",
      "Non-trainable params: 0\n",
      "_________________________________________________________________\n"
     ]
    }
   ],
   "source": [
    "model.summary()"
   ]
  },
  {
   "cell_type": "code",
   "execution_count": 17,
   "metadata": {},
   "outputs": [
    {
     "data": {
      "text/plain": [
       "0.5375"
      ]
     },
     "execution_count": 17,
     "metadata": {},
     "output_type": "execute_result"
    }
   ],
   "source": [
    "1-y_test.mean()"
   ]
  },
  {
   "cell_type": "code",
   "execution_count": 18,
   "metadata": {},
   "outputs": [],
   "source": [
    "model.add(layers.Flatten())\n",
    "model.add(layers.Dense(8, activation='relu'))\n",
    "model.add(layers.Dense(1, activation='sigmoid',\n",
    "                      kernel_regularizer=regularizers.l2(0.003)))"
   ]
  },
  {
   "cell_type": "code",
   "execution_count": 19,
   "metadata": {},
   "outputs": [
    {
     "name": "stdout",
     "output_type": "stream",
     "text": [
      "Train on 1280 samples, validate on 80 samples\n",
      "Epoch 1/100\n",
      "1280/1280 [==============================] - 5s 4ms/sample - loss: 0.7047 - accuracy: 0.5086 - val_loss: 0.7051 - val_accuracy: 0.4750\n",
      "Epoch 2/100\n",
      "1280/1280 [==============================] - 4s 3ms/sample - loss: 0.6994 - accuracy: 0.5297 - val_loss: 0.6982 - val_accuracy: 0.5875\n",
      "Epoch 3/100\n",
      "1280/1280 [==============================] - 4s 3ms/sample - loss: 0.7021 - accuracy: 0.5086 - val_loss: 0.7035 - val_accuracy: 0.4625\n",
      "Epoch 4/100\n",
      "1280/1280 [==============================] - 4s 3ms/sample - loss: 0.6987 - accuracy: 0.5305 - val_loss: 0.6978 - val_accuracy: 0.5625\n",
      "Epoch 5/100\n",
      "1280/1280 [==============================] - 4s 3ms/sample - loss: 0.6958 - accuracy: 0.5445 - val_loss: 0.7036 - val_accuracy: 0.4625\n",
      "Epoch 6/100\n",
      "1280/1280 [==============================] - 5s 4ms/sample - loss: 0.6943 - accuracy: 0.5625 - val_loss: 0.6959 - val_accuracy: 0.5375\n",
      "Epoch 7/100\n",
      "1280/1280 [==============================] - 7s 5ms/sample - loss: 0.6972 - accuracy: 0.5383 - val_loss: 0.7034 - val_accuracy: 0.4625\n",
      "Epoch 8/100\n",
      "1280/1280 [==============================] - 6s 4ms/sample - loss: 0.6909 - accuracy: 0.5672 - val_loss: 0.6976 - val_accuracy: 0.4875\n",
      "Epoch 9/100\n",
      "1280/1280 [==============================] - 6s 5ms/sample - loss: 0.6888 - accuracy: 0.5609 - val_loss: 0.6940 - val_accuracy: 0.5125\n",
      "Epoch 10/100\n",
      "1280/1280 [==============================] - 4s 3ms/sample - loss: 0.6850 - accuracy: 0.5898 - val_loss: 0.6963 - val_accuracy: 0.5250\n",
      "Epoch 11/100\n",
      "1280/1280 [==============================] - 5s 4ms/sample - loss: 0.6791 - accuracy: 0.5984 - val_loss: 0.7018 - val_accuracy: 0.4750\n",
      "Epoch 12/100\n",
      "1280/1280 [==============================] - 4s 3ms/sample - loss: 0.6843 - accuracy: 0.5914 - val_loss: 0.6925 - val_accuracy: 0.5750\n",
      "Epoch 13/100\n",
      "1280/1280 [==============================] - 5s 4ms/sample - loss: 0.6630 - accuracy: 0.6180 - val_loss: 0.7011 - val_accuracy: 0.5625\n",
      "Epoch 14/100\n",
      "1280/1280 [==============================] - 4s 3ms/sample - loss: 0.6563 - accuracy: 0.6266 - val_loss: 0.7100 - val_accuracy: 0.4500\n",
      "Epoch 15/100\n",
      "1280/1280 [==============================] - 5s 4ms/sample - loss: 0.6536 - accuracy: 0.6258 - val_loss: 0.7090 - val_accuracy: 0.5000\n",
      "Epoch 16/100\n",
      "1280/1280 [==============================] - 4s 3ms/sample - loss: 0.6553 - accuracy: 0.6297 - val_loss: 0.7011 - val_accuracy: 0.4625\n",
      "Epoch 17/100\n",
      "1280/1280 [==============================] - 4s 3ms/sample - loss: 0.6468 - accuracy: 0.6352 - val_loss: 0.7109 - val_accuracy: 0.5000\n",
      "Epoch 18/100\n",
      "1280/1280 [==============================] - 4s 3ms/sample - loss: 0.6522 - accuracy: 0.6180 - val_loss: 0.6985 - val_accuracy: 0.5000\n",
      "Epoch 19/100\n",
      "1280/1280 [==============================] - 4s 3ms/sample - loss: 0.6327 - accuracy: 0.6477 - val_loss: 0.7043 - val_accuracy: 0.5625\n",
      "Epoch 20/100\n",
      "1280/1280 [==============================] - 5s 4ms/sample - loss: 0.6286 - accuracy: 0.6656 - val_loss: 0.7084 - val_accuracy: 0.5125\n",
      "Epoch 21/100\n",
      "1280/1280 [==============================] - 5s 4ms/sample - loss: 0.6242 - accuracy: 0.6469 - val_loss: 0.7160 - val_accuracy: 0.5125\n",
      "Epoch 22/100\n",
      "1280/1280 [==============================] - 5s 4ms/sample - loss: 0.6146 - accuracy: 0.6656 - val_loss: 0.7234 - val_accuracy: 0.5125\n",
      "Epoch 23/100\n",
      "1280/1280 [==============================] - 5s 4ms/sample - loss: 0.6042 - accuracy: 0.6641 - val_loss: 0.7245 - val_accuracy: 0.5375\n",
      "Epoch 24/100\n",
      "1280/1280 [==============================] - 4s 3ms/sample - loss: 0.6102 - accuracy: 0.6789 - val_loss: 0.7221 - val_accuracy: 0.5250\n",
      "Epoch 25/100\n",
      "1280/1280 [==============================] - 5s 4ms/sample - loss: 0.5839 - accuracy: 0.7047 - val_loss: 0.7408 - val_accuracy: 0.5250\n",
      "Epoch 26/100\n",
      "1280/1280 [==============================] - 5s 4ms/sample - loss: 0.5978 - accuracy: 0.6875 - val_loss: 0.7595 - val_accuracy: 0.5000\n",
      "Epoch 27/100\n",
      "1280/1280 [==============================] - 4s 4ms/sample - loss: 0.5850 - accuracy: 0.7055 - val_loss: 0.7361 - val_accuracy: 0.5000\n",
      "Epoch 28/100\n",
      "1280/1280 [==============================] - 4s 3ms/sample - loss: 0.5848 - accuracy: 0.7000 - val_loss: 0.7461 - val_accuracy: 0.5125\n",
      "Epoch 29/100\n",
      "1280/1280 [==============================] - 4s 3ms/sample - loss: 0.5782 - accuracy: 0.7086 - val_loss: 0.7245 - val_accuracy: 0.5250\n",
      "Epoch 30/100\n",
      "1280/1280 [==============================] - 5s 4ms/sample - loss: 0.5584 - accuracy: 0.7234 - val_loss: 0.7207 - val_accuracy: 0.5500\n",
      "Epoch 31/100\n",
      "1280/1280 [==============================] - 4s 3ms/sample - loss: 0.5426 - accuracy: 0.7180 - val_loss: 0.7811 - val_accuracy: 0.5125\n",
      "Epoch 32/100\n",
      "1280/1280 [==============================] - 4s 3ms/sample - loss: 0.5452 - accuracy: 0.7289 - val_loss: 0.7438 - val_accuracy: 0.5250\n",
      "Epoch 33/100\n",
      "1280/1280 [==============================] - 5s 4ms/sample - loss: 0.5370 - accuracy: 0.7336 - val_loss: 0.7500 - val_accuracy: 0.5500\n",
      "Epoch 34/100\n",
      "1280/1280 [==============================] - 4s 3ms/sample - loss: 0.5040 - accuracy: 0.7508 - val_loss: 0.7058 - val_accuracy: 0.6125\n",
      "Epoch 35/100\n",
      "1280/1280 [==============================] - 5s 4ms/sample - loss: 0.5035 - accuracy: 0.7547 - val_loss: 0.7604 - val_accuracy: 0.5625\n",
      "Epoch 36/100\n",
      "1280/1280 [==============================] - 5s 4ms/sample - loss: 0.5067 - accuracy: 0.7547 - val_loss: 0.7618 - val_accuracy: 0.5500\n",
      "Epoch 37/100\n",
      "1280/1280 [==============================] - 4s 3ms/sample - loss: 0.4963 - accuracy: 0.7742 - val_loss: 0.6963 - val_accuracy: 0.6875\n",
      "Epoch 38/100\n",
      "1280/1280 [==============================] - 4s 3ms/sample - loss: 0.4805 - accuracy: 0.7711 - val_loss: 0.8553 - val_accuracy: 0.5250\n",
      "Epoch 39/100\n",
      "1280/1280 [==============================] - 4s 3ms/sample - loss: 0.4707 - accuracy: 0.7789 - val_loss: 0.7699 - val_accuracy: 0.6000\n",
      "Epoch 40/100\n",
      "1280/1280 [==============================] - 5s 4ms/sample - loss: 0.4538 - accuracy: 0.7883 - val_loss: 0.8055 - val_accuracy: 0.5625\n",
      "Epoch 41/100\n",
      "1280/1280 [==============================] - 4s 3ms/sample - loss: 0.4708 - accuracy: 0.7672 - val_loss: 0.7798 - val_accuracy: 0.5625\n",
      "Epoch 42/100\n",
      "1280/1280 [==============================] - 4s 3ms/sample - loss: 0.4627 - accuracy: 0.7867 - val_loss: 0.8131 - val_accuracy: 0.5625\n",
      "Epoch 43/100\n",
      "1280/1280 [==============================] - 4s 3ms/sample - loss: 0.4655 - accuracy: 0.7742 - val_loss: 0.8092 - val_accuracy: 0.5500\n",
      "Epoch 44/100\n",
      "1280/1280 [==============================] - 4s 3ms/sample - loss: 0.4320 - accuracy: 0.8102 - val_loss: 0.8155 - val_accuracy: 0.5875\n",
      "Epoch 45/100\n",
      "1280/1280 [==============================] - 4s 3ms/sample - loss: 0.4111 - accuracy: 0.8141 - val_loss: 0.7607 - val_accuracy: 0.5875\n",
      "Epoch 46/100\n",
      "1280/1280 [==============================] - 5s 4ms/sample - loss: 0.4141 - accuracy: 0.8336 - val_loss: 0.7597 - val_accuracy: 0.6000\n",
      "Epoch 47/100\n",
      "1280/1280 [==============================] - 5s 4ms/sample - loss: 0.3980 - accuracy: 0.8242 - val_loss: 0.7020 - val_accuracy: 0.6250\n",
      "Epoch 48/100\n",
      "1280/1280 [==============================] - 6s 5ms/sample - loss: 0.4023 - accuracy: 0.8328 - val_loss: 0.8384 - val_accuracy: 0.5875\n",
      "Epoch 49/100\n",
      "1280/1280 [==============================] - 5s 4ms/sample - loss: 0.3770 - accuracy: 0.8375 - val_loss: 0.8410 - val_accuracy: 0.6000\n",
      "Epoch 50/100\n",
      "1280/1280 [==============================] - 4s 3ms/sample - loss: 0.3694 - accuracy: 0.8227 - val_loss: 0.8489 - val_accuracy: 0.5750\n",
      "Epoch 51/100\n",
      "1280/1280 [==============================] - 6s 4ms/sample - loss: 0.3671 - accuracy: 0.8414 - val_loss: 0.8797 - val_accuracy: 0.5750\n",
      "Epoch 52/100\n",
      "1280/1280 [==============================] - 5s 4ms/sample - loss: 0.3608 - accuracy: 0.8508 - val_loss: 0.7816 - val_accuracy: 0.5750\n",
      "Epoch 53/100\n",
      "1280/1280 [==============================] - 4s 3ms/sample - loss: 0.3553 - accuracy: 0.8547 - val_loss: 0.7914 - val_accuracy: 0.6000\n",
      "Epoch 54/100\n",
      "1280/1280 [==============================] - 4s 3ms/sample - loss: 0.3354 - accuracy: 0.8484 - val_loss: 0.8979 - val_accuracy: 0.5625\n",
      "Epoch 55/100\n",
      "1280/1280 [==============================] - 4s 3ms/sample - loss: 0.3289 - accuracy: 0.8617 - val_loss: 1.0422 - val_accuracy: 0.5750\n",
      "Epoch 56/100\n",
      "1280/1280 [==============================] - 4s 3ms/sample - loss: 0.3251 - accuracy: 0.8633 - val_loss: 0.8230 - val_accuracy: 0.5875\n",
      "Epoch 57/100\n",
      "1280/1280 [==============================] - 4s 3ms/sample - loss: 0.3122 - accuracy: 0.8766 - val_loss: 0.9029 - val_accuracy: 0.5625\n",
      "Epoch 58/100\n",
      "1280/1280 [==============================] - 5s 4ms/sample - loss: 0.3016 - accuracy: 0.8758 - val_loss: 0.7867 - val_accuracy: 0.6125\n",
      "Epoch 59/100\n",
      "1280/1280 [==============================] - 4s 4ms/sample - loss: 0.2983 - accuracy: 0.8758 - val_loss: 0.8960 - val_accuracy: 0.6000\n",
      "Epoch 60/100\n",
      "1280/1280 [==============================] - 4s 3ms/sample - loss: 0.3213 - accuracy: 0.8695 - val_loss: 0.7978 - val_accuracy: 0.6375\n",
      "Epoch 61/100\n",
      "1280/1280 [==============================] - 4s 3ms/sample - loss: 0.2908 - accuracy: 0.8813 - val_loss: 0.9271 - val_accuracy: 0.6125\n",
      "Epoch 62/100\n",
      "1280/1280 [==============================] - 4s 3ms/sample - loss: 0.3023 - accuracy: 0.8766 - val_loss: 0.8080 - val_accuracy: 0.6125\n",
      "Epoch 63/100\n",
      "1280/1280 [==============================] - 4s 3ms/sample - loss: 0.2863 - accuracy: 0.8883 - val_loss: 0.8799 - val_accuracy: 0.6625\n",
      "Epoch 64/100\n",
      "1280/1280 [==============================] - 4s 3ms/sample - loss: 0.2756 - accuracy: 0.8938 - val_loss: 0.9303 - val_accuracy: 0.6125\n",
      "Epoch 65/100\n",
      "1280/1280 [==============================] - 4s 3ms/sample - loss: 0.2741 - accuracy: 0.8938 - val_loss: 0.8487 - val_accuracy: 0.6250\n",
      "Epoch 66/100\n",
      "1280/1280 [==============================] - 4s 3ms/sample - loss: 0.2364 - accuracy: 0.9094 - val_loss: 0.9279 - val_accuracy: 0.6500\n",
      "Epoch 67/100\n",
      "1280/1280 [==============================] - 4s 3ms/sample - loss: 0.2484 - accuracy: 0.9086 - val_loss: 0.9936 - val_accuracy: 0.6375\n",
      "Epoch 68/100\n",
      "1280/1280 [==============================] - 4s 3ms/sample - loss: 0.2632 - accuracy: 0.8852 - val_loss: 0.8637 - val_accuracy: 0.6250\n",
      "Epoch 69/100\n",
      "1280/1280 [==============================] - 5s 4ms/sample - loss: 0.2616 - accuracy: 0.8953 - val_loss: 0.8845 - val_accuracy: 0.6375\n",
      "Epoch 70/100\n",
      "1280/1280 [==============================] - 6s 4ms/sample - loss: 0.2224 - accuracy: 0.9156 - val_loss: 0.9573 - val_accuracy: 0.6750\n",
      "Epoch 71/100\n",
      "1280/1280 [==============================] - 5s 4ms/sample - loss: 0.2377 - accuracy: 0.9039 - val_loss: 0.9918 - val_accuracy: 0.6250\n",
      "Epoch 72/100\n",
      "1280/1280 [==============================] - 4s 3ms/sample - loss: 0.2148 - accuracy: 0.9187 - val_loss: 1.0104 - val_accuracy: 0.6250\n",
      "Epoch 73/100\n",
      "1280/1280 [==============================] - 4s 3ms/sample - loss: 0.2117 - accuracy: 0.9250 - val_loss: 0.9335 - val_accuracy: 0.6500\n",
      "Epoch 74/100\n",
      "1280/1280 [==============================] - 5s 4ms/sample - loss: 0.2276 - accuracy: 0.9078 - val_loss: 0.8917 - val_accuracy: 0.6750\n",
      "Epoch 75/100\n",
      "1280/1280 [==============================] - 4s 3ms/sample - loss: 0.2378 - accuracy: 0.9133 - val_loss: 1.0660 - val_accuracy: 0.6250\n",
      "Epoch 76/100\n",
      "1280/1280 [==============================] - 4s 3ms/sample - loss: 0.2009 - accuracy: 0.9227 - val_loss: 1.0431 - val_accuracy: 0.6375\n",
      "Epoch 77/100\n",
      "1280/1280 [==============================] - 4s 3ms/sample - loss: 0.1920 - accuracy: 0.9266 - val_loss: 0.9159 - val_accuracy: 0.6625\n",
      "Epoch 78/100\n",
      "1280/1280 [==============================] - 4s 3ms/sample - loss: 0.1991 - accuracy: 0.9250 - val_loss: 1.0012 - val_accuracy: 0.6500\n",
      "Epoch 79/100\n",
      "1280/1280 [==============================] - 4s 3ms/sample - loss: 0.1873 - accuracy: 0.9281 - val_loss: 1.1007 - val_accuracy: 0.6375\n",
      "Epoch 80/100\n",
      "1280/1280 [==============================] - 4s 3ms/sample - loss: 0.2184 - accuracy: 0.9133 - val_loss: 1.0708 - val_accuracy: 0.5875\n",
      "Epoch 81/100\n",
      "1280/1280 [==============================] - 4s 3ms/sample - loss: 0.1920 - accuracy: 0.9352 - val_loss: 1.0379 - val_accuracy: 0.6500\n",
      "Epoch 82/100\n",
      "1280/1280 [==============================] - 4s 3ms/sample - loss: 0.1879 - accuracy: 0.9312 - val_loss: 1.1315 - val_accuracy: 0.6375\n",
      "Epoch 83/100\n",
      "1280/1280 [==============================] - 4s 3ms/sample - loss: 0.1843 - accuracy: 0.9289 - val_loss: 1.0927 - val_accuracy: 0.6250\n",
      "Epoch 84/100\n",
      "1280/1280 [==============================] - 4s 3ms/sample - loss: 0.1894 - accuracy: 0.9320 - val_loss: 1.0771 - val_accuracy: 0.6500\n",
      "Epoch 85/100\n",
      "1280/1280 [==============================] - 4s 3ms/sample - loss: 0.1732 - accuracy: 0.9375 - val_loss: 1.1292 - val_accuracy: 0.6500\n",
      "Epoch 86/100\n",
      "1280/1280 [==============================] - 4s 3ms/sample - loss: 0.1651 - accuracy: 0.9383 - val_loss: 1.1493 - val_accuracy: 0.6250\n",
      "Epoch 87/100\n",
      "1280/1280 [==============================] - 5s 4ms/sample - loss: 0.1602 - accuracy: 0.9469 - val_loss: 1.1632 - val_accuracy: 0.5750\n",
      "Epoch 88/100\n",
      "1280/1280 [==============================] - 4s 3ms/sample - loss: 0.2092 - accuracy: 0.9227 - val_loss: 1.0600 - val_accuracy: 0.6125\n",
      "Epoch 89/100\n",
      "1280/1280 [==============================] - 4s 3ms/sample - loss: 0.1691 - accuracy: 0.9398 - val_loss: 1.0861 - val_accuracy: 0.5875\n",
      "Epoch 90/100\n",
      "1280/1280 [==============================] - 4s 3ms/sample - loss: 0.1634 - accuracy: 0.9391 - val_loss: 1.0654 - val_accuracy: 0.5875\n",
      "Epoch 91/100\n",
      "1280/1280 [==============================] - 4s 3ms/sample - loss: 0.1567 - accuracy: 0.9438 - val_loss: 1.1135 - val_accuracy: 0.5750\n",
      "Epoch 92/100\n",
      "1280/1280 [==============================] - 4s 3ms/sample - loss: 0.1521 - accuracy: 0.9430 - val_loss: 1.1904 - val_accuracy: 0.6000\n",
      "Epoch 93/100\n",
      "1280/1280 [==============================] - 5s 4ms/sample - loss: 0.1523 - accuracy: 0.9500 - val_loss: 1.2501 - val_accuracy: 0.6000\n",
      "Epoch 94/100\n",
      "1280/1280 [==============================] - 5s 4ms/sample - loss: 0.1534 - accuracy: 0.9438 - val_loss: 1.0769 - val_accuracy: 0.6500\n",
      "Epoch 95/100\n",
      "1280/1280 [==============================] - 4s 3ms/sample - loss: 0.1520 - accuracy: 0.9539 - val_loss: 1.1843 - val_accuracy: 0.6375\n",
      "Epoch 96/100\n",
      "1280/1280 [==============================] - 6s 5ms/sample - loss: 0.1281 - accuracy: 0.9594 - val_loss: 1.3026 - val_accuracy: 0.6125\n",
      "Epoch 97/100\n",
      "1280/1280 [==============================] - 4s 3ms/sample - loss: 0.1386 - accuracy: 0.9492 - val_loss: 1.2692 - val_accuracy: 0.6250\n",
      "Epoch 98/100\n",
      "1280/1280 [==============================] - 4s 3ms/sample - loss: 0.1450 - accuracy: 0.9547 - val_loss: 1.2230 - val_accuracy: 0.5875\n",
      "Epoch 99/100\n",
      "1280/1280 [==============================] - 4s 3ms/sample - loss: 0.1339 - accuracy: 0.9570 - val_loss: 1.2054 - val_accuracy: 0.6000\n",
      "Epoch 100/100\n",
      "1280/1280 [==============================] - 5s 4ms/sample - loss: 0.1249 - accuracy: 0.9602 - val_loss: 1.2575 - val_accuracy: 0.6000\n"
     ]
    },
    {
     "data": {
      "text/plain": [
       "<tensorflow.python.keras.callbacks.History at 0x7f74207c2fd0>"
      ]
     },
     "execution_count": 19,
     "metadata": {},
     "output_type": "execute_result"
    }
   ],
   "source": [
    "model.compile(optimizer='adam',\n",
    "              loss='binary_crossentropy',\n",
    "              metrics=['accuracy'])\n",
    "\n",
    "model.fit(X_train, y_train, epochs=100, validation_data=(X_test, y_test))"
   ]
  },
  {
   "cell_type": "code",
   "execution_count": 20,
   "metadata": {},
   "outputs": [],
   "source": [
    "i = 5\n",
    "last_img = X_test[i:i+1]"
   ]
  },
  {
   "cell_type": "code",
   "execution_count": 21,
   "metadata": {},
   "outputs": [],
   "source": [
    "layer_output = [last_img.astype(np.float32)]"
   ]
  },
  {
   "cell_type": "code",
   "execution_count": 22,
   "metadata": {},
   "outputs": [],
   "source": [
    "for layer in model.layers:\n",
    "    output = layer(layer_output[-1])\n",
    "    layer_output.append( output )"
   ]
  },
  {
   "cell_type": "markdown",
   "metadata": {},
   "source": [
    "## Input\n",
    "\n",
    "A single image"
   ]
  },
  {
   "cell_type": "code",
   "execution_count": 23,
   "metadata": {},
   "outputs": [
    {
     "data": {
      "text/plain": [
       "(1, 100, 100, 1)"
      ]
     },
     "execution_count": 23,
     "metadata": {},
     "output_type": "execute_result"
    }
   ],
   "source": [
    "layer_output[0].shape"
   ]
  },
  {
   "cell_type": "code",
   "execution_count": 24,
   "metadata": {},
   "outputs": [
    {
     "data": {
      "text/plain": [
       "<matplotlib.image.AxesImage at 0x7f73ffdc56a0>"
      ]
     },
     "execution_count": 24,
     "metadata": {},
     "output_type": "execute_result"
    },
    {
     "data": {
      "image/png": "[encoded data removed]",
      "text/plain": [
       "<Figure size 432x288 with 1 Axes>"
      ]
     },
     "metadata": {
      "needs_background": "light"
     },
     "output_type": "display_data"
    }
   ],
   "source": [
    "imshow( layer_output[0][0,:,:,0] )"
   ]
  },
  {
   "cell_type": "markdown",
   "metadata": {},
   "source": [
    "## Layer 1: stack of convolutions\n",
    "\n",
    "4 3x3 convolutional kernals, resulting in 4 channels."
   ]
  },
  {
   "cell_type": "code",
   "execution_count": 25,
   "metadata": {},
   "outputs": [
    {
     "data": {
      "text/plain": [
       "TensorShape([1, 98, 98, 4])"
      ]
     },
     "execution_count": 25,
     "metadata": {},
     "output_type": "execute_result"
    }
   ],
   "source": [
    "layer_output[1].shape"
   ]
  },
  {
   "cell_type": "code",
   "execution_count": 26,
   "metadata": {},
   "outputs": [
    {
     "data": {
      "image/png": "[encoded data removed]",
      "text/plain": [
       "<Figure size 720x720 with 4 Axes>"
      ]
     },
     "metadata": {},
     "output_type": "display_data"
    }
   ],
   "source": [
    "nrows, ncols = 2,2\n",
    "fig, axs = plt.subplots(nrows,ncols,  figsize=(10,10))\n",
    "\n",
    "for i in range(nrows):\n",
    "    for j in range(ncols):\n",
    "        ax = axs[i][j]\n",
    "        ax.imshow( layer_output[1][0,:,:,i*ncols+j] )\n",
    "        ax.set_xticks([])\n",
    "        ax.set_yticks([])"
   ]
  },
  {
   "cell_type": "markdown",
   "metadata": {},
   "source": [
    "This layer has learned four 3x3 kernals. We can fetch them using the `get_weights` method of the layer:"
   ]
  },
  {
   "cell_type": "code",
   "execution_count": 37,
   "metadata": {},
   "outputs": [
    {
     "data": {
      "text/plain": [
       "(3, 3, 1, 4)"
      ]
     },
     "execution_count": 37,
     "metadata": {},
     "output_type": "execute_result"
    }
   ],
   "source": [
    "W, b = model.layers[0].get_weights()\n",
    "W.shape"
   ]
  },
  {
   "cell_type": "markdown",
   "metadata": {},
   "source": [
    "Note the shape of the kernal `ndarray` is `(kernal_width, kernal_height, input_channels, n_kernals)`. Because the input is a black-and-white image, the number of input channels is `1`."
   ]
  },
  {
   "cell_type": "markdown",
   "metadata": {},
   "source": [
    "## Layer 2: max pool"
   ]
  },
  {
   "cell_type": "code",
   "execution_count": 38,
   "metadata": {},
   "outputs": [
    {
     "data": {
      "text/plain": [
       "TensorShape([1, 49, 49, 4])"
      ]
     },
     "execution_count": 38,
     "metadata": {},
     "output_type": "execute_result"
    }
   ],
   "source": [
    "layer_output[2].shape"
   ]
  },
  {
   "cell_type": "code",
   "execution_count": 39,
   "metadata": {},
   "outputs": [
    {
     "data": {
      "image/png": "[encoded data removed]",
      "text/plain": [
       "<Figure size 720x720 with 4 Axes>"
      ]
     },
     "metadata": {},
     "output_type": "display_data"
    }
   ],
   "source": [
    "nrows, ncols = 2,2\n",
    "fig, axs = plt.subplots(nrows,ncols,  figsize=(10,10))\n",
    "\n",
    "for i in range(nrows):\n",
    "    for j in range(ncols):\n",
    "        ax = axs[i][j]\n",
    "        ax.imshow( layer_output[2][0,:,:,i*ncols+j] )\n",
    "        ax.set_xticks([])\n",
    "        ax.set_yticks([])"
   ]
  },
  {
   "cell_type": "markdown",
   "metadata": {},
   "source": [
    "## Layer 3: Dropout\n",
    "\n",
    "This layer instructs the trainer to turn off some fraction of neurons every training pass. However it has no effect on a forward pass."
   ]
  },
  {
   "cell_type": "code",
   "execution_count": 40,
   "metadata": {},
   "outputs": [
    {
     "data": {
      "text/plain": [
       "TensorShape([1, 49, 49, 4])"
      ]
     },
     "execution_count": 40,
     "metadata": {},
     "output_type": "execute_result"
    }
   ],
   "source": [
    "layer_output[3].shape"
   ]
  },
  {
   "cell_type": "markdown",
   "metadata": {},
   "source": [
    "## Layer 4: stack of 9 3x3 convolutions\n",
    "\n",
    "Because there are 9 convolutional kernals in this layer, there will be 9 channels of output"
   ]
  },
  {
   "cell_type": "code",
   "execution_count": 41,
   "metadata": {},
   "outputs": [
    {
     "data": {
      "text/plain": [
       "TensorShape([1, 47, 47, 9])"
      ]
     },
     "execution_count": 41,
     "metadata": {},
     "output_type": "execute_result"
    }
   ],
   "source": [
    "layer_output[4].shape"
   ]
  },
  {
   "cell_type": "code",
   "execution_count": 42,
   "metadata": {},
   "outputs": [
    {
     "data": {
      "image/png": "[encoded data removed]",
      "text/plain": [
       "<Figure size 720x720 with 9 Axes>"
      ]
     },
     "metadata": {},
     "output_type": "display_data"
    }
   ],
   "source": [
    "nrows, ncols = 3,3\n",
    "fig, axs = plt.subplots(nrows,ncols,  figsize=(10,10))\n",
    "\n",
    "for i in range(nrows):\n",
    "    for j in range(ncols):\n",
    "        ax = axs[i][j]\n",
    "        ax.imshow( layer_output[4][0,:,:,i*ncols+j] )\n",
    "        ax.set_xticks([])\n",
    "        ax.set_yticks([])"
   ]
  },
  {
   "cell_type": "markdown",
   "metadata": {},
   "source": [
    "If we fetch the convolutional kernals in this layer, we see that each 3x3 kernal is actually an `ndarray` with shape `(3,3,4)`, because it is operating on an 4-channel input. The input has 4 channels because the preceding layer output `4` channels - one corresponding to each kernal in the first convolutional yaer."
   ]
  },
  {
   "cell_type": "code",
   "execution_count": 44,
   "metadata": {},
   "outputs": [
    {
     "data": {
      "text/plain": [
       "(3, 3, 4, 9)"
      ]
     },
     "execution_count": 44,
     "metadata": {},
     "output_type": "execute_result"
    }
   ],
   "source": [
    "W, b = model.layers[3].get_weights()\n",
    "\n",
    "W.shape"
   ]
  },
  {
   "cell_type": "markdown",
   "metadata": {},
   "source": [
    "Here's one kernel."
   ]
  },
  {
   "cell_type": "code",
   "execution_count": 69,
   "metadata": {},
   "outputs": [
    {
     "data": {
      "text/plain": [
       "array([[[-0.2569661 ,  0.15718417, -0.14314394,  0.06136535],\n",
       "        [-0.47072345,  0.14599602, -0.44763348, -0.68230754],\n",
       "        [-0.44550958, -0.0266472 , -0.47396922, -0.62404984]],\n",
       "\n",
       "       [[ 0.06318704, -0.10560441, -0.06458967,  0.28458834],\n",
       "        [-0.16050474, -0.19178212, -0.1253393 , -0.39203975],\n",
       "        [-0.26469147,  0.13105075, -0.33025825, -0.49085468]],\n",
       "\n",
       "       [[ 0.4057421 ,  0.18458757,  0.33281052,  0.34989986],\n",
       "        [ 0.05265709,  0.12402451,  0.22293021,  0.13257678],\n",
       "        [ 0.0130937 , -0.01176574,  0.30561128, -0.01082968]]],\n",
       "      dtype=float32)"
      ]
     },
     "execution_count": 69,
     "metadata": {},
     "output_type": "execute_result"
    }
   ],
   "source": [
    "first_kernel = W[:,:,:,0]\n",
    "first_kernel"
   ]
  },
  {
   "cell_type": "markdown",
   "metadata": {},
   "source": [
    "If we grab a 3-pixel-wide by 3-pixel-tall chunk of the upper-lefthand corner of the preceding layer, grabbing every channel at once:"
   ]
  },
  {
   "cell_type": "code",
   "execution_count": 70,
   "metadata": {},
   "outputs": [
    {
     "data": {
      "text/plain": [
       "array([[[0.12300709, 0.        , 0.1321168 , 0.01824547],\n",
       "        [0.12950152, 0.        , 0.14061701, 0.0218752 ],\n",
       "        [0.13597298, 0.        , 0.14644885, 0.02639383]],\n",
       "\n",
       "       [[0.1270197 , 0.        , 0.13666934, 0.02086022],\n",
       "        [0.13202816, 0.        , 0.14206594, 0.02366395],\n",
       "        [0.13597417, 0.        , 0.14645088, 0.02639627]],\n",
       "\n",
       "       [[0.12957859, 0.        , 0.13968045, 0.02382283],\n",
       "        [0.13406801, 0.        , 0.14361459, 0.02408297],\n",
       "        [0.13659725, 0.        , 0.14663696, 0.02566338]]], dtype=float32)"
      ]
     },
     "execution_count": 70,
     "metadata": {},
     "output_type": "execute_result"
    }
   ],
   "source": [
    "layer_3_chunk = layer_output[3].numpy()[0, 0:3, 0:3, :]\n",
    "layer_3_chunk"
   ]
  },
  {
   "cell_type": "markdown",
   "metadata": {},
   "source": [
    "Note the kernel and a cross-sectional-chunk of the preceding layer have the same shape."
   ]
  },
  {
   "cell_type": "code",
   "execution_count": 72,
   "metadata": {},
   "outputs": [
    {
     "data": {
      "text/plain": [
       "((3, 3, 4), (3, 3, 4))"
      ]
     },
     "execution_count": 72,
     "metadata": {},
     "output_type": "execute_result"
    }
   ],
   "source": [
    "first_kernel.shape, layer_3_chunk.shape"
   ]
  },
  {
   "cell_type": "markdown",
   "metadata": {},
   "source": [
    "Thus they can be pairwise-multiplied and summed. This is essentially the convolution function, slid across every position in the preceding layer's output."
   ]
  },
  {
   "cell_type": "code",
   "execution_count": 75,
   "metadata": {},
   "outputs": [
    {
     "data": {
      "text/plain": [
       "-0.27915415"
      ]
     },
     "execution_count": 75,
     "metadata": {},
     "output_type": "execute_result"
    }
   ],
   "source": [
    "(first_kernel * layer_3_chunk).sum()"
   ]
  },
  {
   "cell_type": "markdown",
   "metadata": {},
   "source": [
    "## Layer 5: maxpool\n"
   ]
  },
  {
   "cell_type": "code",
   "execution_count": 79,
   "metadata": {},
   "outputs": [
    {
     "data": {
      "text/plain": [
       "TensorShape([1, 23, 23, 9])"
      ]
     },
     "execution_count": 79,
     "metadata": {},
     "output_type": "execute_result"
    }
   ],
   "source": [
    "layer_output[5].shape"
   ]
  },
  {
   "cell_type": "code",
   "execution_count": 80,
   "metadata": {},
   "outputs": [
    {
     "data": {
      "image/png": "[encoded data removed]",
      "text/plain": [
       "<Figure size 720x720 with 9 Axes>"
      ]
     },
     "metadata": {},
     "output_type": "display_data"
    }
   ],
   "source": [
    "nrows, ncols = 3,3\n",
    "fig, axs = plt.subplots(nrows,ncols,  figsize=(10,10))\n",
    "\n",
    "for i in range(nrows):\n",
    "    for j in range(ncols):\n",
    "        ax = axs[i][j]\n",
    "        ax.imshow( layer_output[5][0,:,:,i*ncols+j] )\n",
    "        ax.set_xticks([])\n",
    "        ax.set_yticks([])"
   ]
  },
  {
   "cell_type": "markdown",
   "metadata": {},
   "source": [
    "## Layer 7: stack of 4 3x3 convolutions"
   ]
  },
  {
   "cell_type": "code",
   "execution_count": 109,
   "metadata": {},
   "outputs": [
    {
     "data": {
      "text/plain": [
       "TensorShape([1, 21, 21, 4])"
      ]
     },
     "execution_count": 109,
     "metadata": {},
     "output_type": "execute_result"
    }
   ],
   "source": [
    "layer_output[7].shape"
   ]
  },
  {
   "cell_type": "code",
   "execution_count": 111,
   "metadata": {},
   "outputs": [
    {
     "data": {
      "image/png": "[encoded data removed]",
      "text/plain": [
       "<Figure size 720x720 with 4 Axes>"
      ]
     },
     "metadata": {},
     "output_type": "display_data"
    }
   ],
   "source": [
    "nrows, ncols = 2,2\n",
    "fig, axs = plt.subplots(nrows,ncols,  figsize=(10,10))\n",
    "\n",
    "for i in range(nrows):\n",
    "    for j in range(ncols):\n",
    "        ax = axs[i][j]\n",
    "        ax.imshow( layer_output[7][0,:,:,i*ncols+j] )\n",
    "        ax.set_xticks([])\n",
    "        ax.set_yticks([])"
   ]
  },
  {
   "cell_type": "markdown",
   "metadata": {},
   "source": [
    "Once again we have four convolutional kernals, which span a 3x3 section of images across, in this case, **9** input channels."
   ]
  },
  {
   "cell_type": "code",
   "execution_count": 112,
   "metadata": {},
   "outputs": [
    {
     "data": {
      "text/plain": [
       "(3, 3, 9, 4)"
      ]
     },
     "execution_count": 112,
     "metadata": {},
     "output_type": "execute_result"
    }
   ],
   "source": [
    "W, b = model.layers[6].get_weights()\n",
    "\n",
    "W.shape"
   ]
  },
  {
   "cell_type": "markdown",
   "metadata": {},
   "source": [
    "Classical image analysis involves\n",
    "1. Applying filters to an image\n",
    "2. Flattening the resulting image to produce a sample vector $\\vec{x}_i$ of features for that image.\n",
    "3. Using classical machine learning techniques on the resulting featurization.\n",
    "\n",
    "Convolutional neural networks are divided into two sections:\n",
    "\n",
    "1. A \"filter\" section, which outputs a fancy output \"image\" filled with pixels that turn out to be good discriminators. This filter is learned.\n",
    "2. A \"classical machine learning\" step, in the form of single- or multi-layer perceptron.\n",
    "\n",
    "The convolution/maxpool steps are the \"filter\" section. The output \"image\" is basically all the channels output from the last convolution step glued together:"
   ]
  },
  {
   "cell_type": "code",
   "execution_count": 146,
   "metadata": {},
   "outputs": [
    {
     "data": {
      "text/plain": [
       "(42, 42)"
      ]
     },
     "execution_count": 146,
     "metadata": {},
     "output_type": "execute_result"
    }
   ],
   "source": [
    "foo = layer_output[7].numpy()\n",
    "ul = foo[0,:,:,0]\n",
    "ur = foo[0,:,:,1]\n",
    "ll = foo[0,:,:,2]\n",
    "lr = foo[0,:,:,3]\n",
    "filter_output = np.vstack([np.hstack([ul,ur]), np.hstack([ll, lr])])\n",
    "filter_output.shape"
   ]
  },
  {
   "cell_type": "code",
   "execution_count": 147,
   "metadata": {},
   "outputs": [
    {
     "data": {
      "text/plain": [
       "Text(0.5, 1.0, 'Output of the `filter` learned by the convnet')"
      ]
     },
     "execution_count": 147,
     "metadata": {},
     "output_type": "execute_result"
    },
    {
     "data": {
      "image/png": "[encoded data removed]",
      "text/plain": [
       "<Figure size 432x432 with 1 Axes>"
      ]
     },
     "metadata": {
      "needs_background": "light"
     },
     "output_type": "display_data"
    }
   ],
   "source": [
    "fig, ax = plt.subplots(figsize=(6,6))\n",
    "ax.imshow( filter_output )\n",
    "ax.set_title(\"Output of the `filter` learned by the convnet\")"
   ]
  },
  {
   "cell_type": "markdown",
   "metadata": {},
   "source": [
    "## Layer 8: flatten\n",
    "\n",
    "The 8th layer simply flattens the last convolution layer. The resulting matrix has shape `(n_samples, n_features)`."
   ]
  },
  {
   "cell_type": "code",
   "execution_count": 148,
   "metadata": {},
   "outputs": [
    {
     "data": {
      "text/plain": [
       "TensorShape([1, 1764])"
      ]
     },
     "execution_count": 148,
     "metadata": {},
     "output_type": "execute_result"
    }
   ],
   "source": [
    "layer_output[8].shape"
   ]
  },
  {
   "cell_type": "markdown",
   "metadata": {},
   "source": [
    "In principle one could simply take this matrix and train a random forest, or any other supervised model. Traditionally, we complete the model with a multiplayer perceptron."
   ]
  },
  {
   "cell_type": "markdown",
   "metadata": {},
   "source": [
    "## Layer 9: densely connected neural layer\n",
    "\n",
    "This hidden perceptron layer has 8 neurons, each with 1764 connections to every pixel in the previous layer."
   ]
  },
  {
   "cell_type": "code",
   "execution_count": 192,
   "metadata": {},
   "outputs": [
    {
     "data": {
      "text/plain": [
       "(1764, 8)"
      ]
     },
     "execution_count": 192,
     "metadata": {},
     "output_type": "execute_result"
    }
   ],
   "source": [
    "W, b = model.layers[8].get_weights()\n",
    "W.shape"
   ]
  },
  {
   "cell_type": "markdown",
   "metadata": {},
   "source": [
    "To find the activation of the 0th neuron, for example, get the weight of each connection:"
   ]
  },
  {
   "cell_type": "code",
   "execution_count": 193,
   "metadata": {},
   "outputs": [
    {
     "data": {
      "text/plain": [
       "array([ 0.07787755, -0.10801972, -0.07755686, ..., -0.13650863,\n",
       "       -0.28058264, -0.14251898], dtype=float32)"
      ]
     },
     "execution_count": 193,
     "metadata": {},
     "output_type": "execute_result"
    }
   ],
   "source": [
    "neuron0_weights = W[:,0]\n",
    "neuron0_weights"
   ]
  },
  {
   "cell_type": "markdown",
   "metadata": {},
   "source": [
    "Take the dot product against all the pixels output from the \"image filter\" stage (flattened, of course). A bias terms was also learned by the convnet."
   ]
  },
  {
   "cell_type": "code",
   "execution_count": 194,
   "metadata": {},
   "outputs": [
    {
     "data": {
      "text/plain": [
       "-2.634412"
      ]
     },
     "execution_count": 194,
     "metadata": {},
     "output_type": "execute_result"
    }
   ],
   "source": [
    "neuron0_activation = neuron0_weights.dot( layer_output[8][0] ) + b[0]\n",
    "neuron0_activation"
   ]
  },
  {
   "cell_type": "markdown",
   "metadata": {},
   "source": [
    "The activation is the excitation of the neuron passed through an activation function:"
   ]
  },
  {
   "cell_type": "code",
   "execution_count": 195,
   "metadata": {},
   "outputs": [
    {
     "data": {
      "text/plain": [
       "0.0"
      ]
     },
     "execution_count": 195,
     "metadata": {},
     "output_type": "execute_result"
    }
   ],
   "source": [
    "activations.relu( neuron0_activation ).numpy()"
   ]
  },
  {
   "cell_type": "markdown",
   "metadata": {},
   "source": [
    "To do this all at once, just apply the weights and biases via this handy equation:\n",
    "\n",
    "$$\\phi( X W + b )$$\n",
    "\n",
    "where $\\phi$ is the activation function."
   ]
  },
  {
   "cell_type": "code",
   "execution_count": 196,
   "metadata": {},
   "outputs": [
    {
     "data": {
      "text/plain": [
       "array([[ 0.      ,  0.      ,  0.      ,  0.      , 17.357916,  0.      ,\n",
       "         0.      ,  0.      ]], dtype=float32)"
      ]
     },
     "execution_count": 196,
     "metadata": {},
     "output_type": "execute_result"
    }
   ],
   "source": [
    "activations.relu( layer_output[8].numpy() @ W + b ).numpy()"
   ]
  },
  {
   "cell_type": "markdown",
   "metadata": {},
   "source": [
    "In doing that we've reproduced the work of the densely connected layer:"
   ]
  },
  {
   "cell_type": "code",
   "execution_count": 200,
   "metadata": {},
   "outputs": [
    {
     "data": {
      "text/plain": [
       "array([[ 0.      ,  0.      ,  0.      ,  0.      , 17.357908,  0.      ,\n",
       "         0.      ,  0.      ]], dtype=float32)"
      ]
     },
     "execution_count": 200,
     "metadata": {},
     "output_type": "execute_result"
    }
   ],
   "source": [
    "layer_output[9].numpy()"
   ]
  },
  {
   "cell_type": "markdown",
   "metadata": {},
   "source": [
    "## Layer 10: logistic regression\n",
    "\n",
    "The last layer is simply logistic regression:"
   ]
  },
  {
   "cell_type": "code",
   "execution_count": 201,
   "metadata": {},
   "outputs": [],
   "source": [
    "W, b = model.layers[9].get_weights()"
   ]
  },
  {
   "cell_type": "code",
   "execution_count": 208,
   "metadata": {},
   "outputs": [
    {
     "data": {
      "text/plain": [
       "(array([ 0.6081582 ,  0.3509726 , -0.6765918 , -0.55358076, -0.24426915,\n",
       "         0.48285958, -0.5187643 ,  0.53817123], dtype=float32), 0.4467189)"
      ]
     },
     "execution_count": 208,
     "metadata": {},
     "output_type": "execute_result"
    }
   ],
   "source": [
    "W.flatten(), b[0]"
   ]
  },
  {
   "cell_type": "markdown",
   "metadata": {},
   "source": [
    "It's simply $sigmoid( XW+b )$"
   ]
  },
  {
   "cell_type": "code",
   "execution_count": 211,
   "metadata": {},
   "outputs": [
    {
     "data": {
      "text/plain": [
       "<tf.Tensor: id=36700, shape=(1,), dtype=float32, numpy=array([0.0220255], dtype=float32)>"
      ]
     },
     "execution_count": 211,
     "metadata": {},
     "output_type": "execute_result"
    }
   ],
   "source": [
    "activations.sigmoid( W.flatten().dot( layer_output[9].numpy().flatten() ) + b.flatten() )"
   ]
  },
  {
   "cell_type": "markdown",
   "metadata": {},
   "source": [
    "This is the output of the final layer:"
   ]
  },
  {
   "cell_type": "code",
   "execution_count": 216,
   "metadata": {},
   "outputs": [
    {
     "data": {
      "text/plain": [
       "array([[0.0220255]], dtype=float32)"
      ]
     },
     "execution_count": 216,
     "metadata": {},
     "output_type": "execute_result"
    }
   ],
   "source": [
    "layer_output[10].numpy()"
   ]
  },
  {
   "cell_type": "markdown",
   "metadata": {},
   "source": [
    "It seems we did ever so slightly better than the class imbalance. There's definitely a chance we picked up a few correct classifications just by chance. Generally, much larger convnets (deeper and more kernels at each layer) are needed to perform well at image recognition tasks."
   ]
  },
  {
   "cell_type": "code",
   "execution_count": 224,
   "metadata": {},
   "outputs": [],
   "source": [
    "yhat = (model.predict( X_test ).flatten()>0.5).astype(int)"
   ]
  },
  {
   "cell_type": "code",
   "execution_count": 225,
   "metadata": {},
   "outputs": [
    {
     "data": {
      "text/plain": [
       "0.6"
      ]
     },
     "execution_count": 225,
     "metadata": {},
     "output_type": "execute_result"
    }
   ],
   "source": [
    "(labels_test == yhat).mean()"
   ]
  },
  {
   "cell_type": "code",
   "execution_count": 226,
   "metadata": {},
   "outputs": [
    {
     "data": {
      "text/plain": [
       "0.5375"
      ]
     },
     "execution_count": 226,
     "metadata": {},
     "output_type": "execute_result"
    }
   ],
   "source": [
    "1-labels_test.mean()"
   ]
  }
 ],
 "metadata": {
  "kernelspec": {
   "display_name": "Python 3",
   "language": "python",
   "name": "python3"
  },
  "language_info": {
   "codemirror_mode": {
    "name": "ipython",
    "version": 3
   },
   "file_extension": ".py",
   "mimetype": "text/x-python",
   "name": "python",
   "nbconvert_exporter": "python",
   "pygments_lexer": "ipython3",
   "version": "3.5.2"
  }
 },
 "nbformat": 4,
 "nbformat_minor": 2
}
