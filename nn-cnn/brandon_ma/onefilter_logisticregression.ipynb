{
 "cells": [
  {
   "cell_type": "code",
   "execution_count": 1,
   "metadata": {},
   "outputs": [],
   "source": [
    "#!pip install scikit-image"
   ]
  },
  {
   "cell_type": "code",
   "execution_count": 54,
   "metadata": {},
   "outputs": [],
   "source": [
    "import tensorflow as tf\n",
    "import numpy as np\n",
    "from matplotlib import pyplot as plt\n",
    "\n",
    "from tensorflow.keras import datasets, layers, models, regularizers, initializers\n",
    "from skimage.io import imshow\n",
    "from skimage.transform import rotate\n",
    "from skimage.filters.edges import convolve\n",
    "\n",
    "from skimage.io import imshow, imread\n",
    "from skimage.transform import resize\n",
    "from skimage.color import rgb2gray\n",
    "\n",
    "np.random.seed(42)"
   ]
  },
  {
   "cell_type": "code",
   "execution_count": 3,
   "metadata": {},
   "outputs": [],
   "source": [
    "def random_crop(img, margin=0.2):\n",
    "    #randomly chop off margin amounts; for augumenting data\n",
    "    \n",
    "    w,h,nchannels = img.shape\n",
    "    lmargin, rmargin = np.random.randint( 0, w*margin, size=2 )\n",
    "    bmargin, tmargin = np.random.randint( 0, h*margin, size=2 )\n",
    "    \n",
    "    ret = img[bmargin:-tmargin-1, lmargin:-rmargin-1,:]\n",
    "    \n",
    "    return ret\n",
    "\n",
    "def augment( images, labels, factor=5 ):\n",
    "    for j, (image, label) in enumerate( zip(images, labels) ):\n",
    "        print( \"{}/{} images\".format(j, len(images)) )\n",
    "        for i in range(factor):\n",
    "            aug = rotate( image, np.random.randint(-10,10) )\n",
    "            aug = random_crop(aug)\n",
    "            \n",
    "            if np.random.binomial(1,0.5): #half the time randomly\n",
    "                aug = aug[:,::-1] #flip left-right\n",
    "                \n",
    "            yield aug, label"
   ]
  },
  {
   "cell_type": "markdown",
   "metadata": {},
   "source": [
    "# Automatic filter-finding: an introduction to convolutional neural networks\n",
    "\n",
    "What if, instead of trying a bunch of filters, we could just use an automatic parameter-fitting process to find a filter for us?\n",
    "\n",
    "We can! One common technique is to use convolutional filters to find features, and use gradient descent to find convolutional kernals that result in features which act as reliable discriminators.\n",
    "\n",
    "Let's do it! We'll use TensorFlow's `Keras` API to define a pipeline which takes, on one end, a stack of images, performs several operatons on it, and returns a list of predictions; one for each image. \n",
    "\n",
    "TensorFlow is able to automatically find the gradient of the all parameters of every operation in the pipeline, and can therefore use gradient-descent to find parameters which result in good predictions on the training set."
   ]
  },
  {
   "cell_type": "code",
   "execution_count": 4,
   "metadata": {},
   "outputs": [],
   "source": [
    "import sys\n",
    "sys.path.append(\"src\")"
   ]
  },
  {
   "cell_type": "code",
   "execution_count": 5,
   "metadata": {},
   "outputs": [],
   "source": [
    "from pipeline import get_images"
   ]
  },
  {
   "cell_type": "markdown",
   "metadata": {},
   "source": [
    "Get some cat/dog training data."
   ]
  },
  {
   "cell_type": "code",
   "execution_count": 6,
   "metadata": {},
   "outputs": [],
   "source": [
    "cat_images = [x for _,x in get_images(\"data/cat_dog/cat\")]\n",
    "dog_images = [x for _,x in get_images(\"data/cat_dog/dog\")]"
   ]
  },
  {
   "cell_type": "markdown",
   "metadata": {},
   "source": [
    "Put together a stack of training and test images, and corresponding label vectors."
   ]
  },
  {
   "cell_type": "code",
   "execution_count": 7,
   "metadata": {},
   "outputs": [],
   "source": [
    "# stack all images\n",
    "images = cat_images+dog_images\n",
    "y = np.array([1]*len(cat_images) + [0]*len(dog_images))"
   ]
  },
  {
   "cell_type": "code",
   "execution_count": 8,
   "metadata": {},
   "outputs": [],
   "source": [
    "#shuffle images and target var\n",
    "i = np.random.choice( np.arange(len(images)), size=len(images), replace=False)\n",
    "images = [images[ix] for ix in i]\n",
    "y = y[i]"
   ]
  },
  {
   "cell_type": "code",
   "execution_count": 9,
   "metadata": {},
   "outputs": [],
   "source": [
    "# do train test split\n",
    "n_train = int(len(images)*0.80)\n",
    "\n",
    "images_train = images[:n_train]\n",
    "labels_train = y[:n_train]\n",
    "\n",
    "images_test = images[n_train:]\n",
    "labels_test = y[n_train:]"
   ]
  },
  {
   "cell_type": "markdown",
   "metadata": {},
   "source": [
    "`images_train` and `images_test` aren't numpy vectors - they're Python lists of inconsistently-sized images matrices. We want to convert each to a numpy matrix holding a stack of images.\n",
    "\n",
    "To do this, we'll perform two steps for every object:\n",
    "1. \"Data augmentation\" - modify each image by cropping, rotating, and flipping to produce a several sligthly different images. I'm doing this here because the dataset is very small, and convolutional neural network usually need a few thousand images to get good results.\n",
    "2. \"Featurization\" - converting each image into a consistently-sized matrix, and then stacking them together."
   ]
  },
  {
   "cell_type": "code",
   "execution_count": 12,
   "metadata": {},
   "outputs": [],
   "source": [
    "featurize = lambda x: resize(rgb2gray(x), (100,100))"
   ]
  },
  {
   "cell_type": "code",
   "execution_count": 13,
   "metadata": {},
   "outputs": [
    {
     "name": "stdout",
     "output_type": "stream",
     "text": [
      "0/320 images\n",
      "1/320 images\n",
      "2/320 images\n",
      "3/320 images\n",
      "4/320 images\n",
      "5/320 images\n",
      "6/320 images\n",
      "7/320 images\n",
      "8/320 images\n",
      "9/320 images\n",
      "10/320 images\n",
      "11/320 images\n",
      "12/320 images\n",
      "13/320 images\n",
      "14/320 images\n",
      "15/320 images\n",
      "16/320 images\n",
      "17/320 images\n",
      "18/320 images\n",
      "19/320 images\n",
      "20/320 images\n",
      "21/320 images\n",
      "22/320 images\n",
      "23/320 images\n",
      "24/320 images\n",
      "25/320 images\n",
      "26/320 images\n",
      "27/320 images\n",
      "28/320 images\n",
      "29/320 images\n",
      "30/320 images\n",
      "31/320 images\n",
      "32/320 images\n",
      "33/320 images\n",
      "34/320 images\n",
      "35/320 images\n",
      "36/320 images\n",
      "37/320 images\n",
      "38/320 images\n",
      "39/320 images\n",
      "40/320 images\n",
      "41/320 images\n",
      "42/320 images\n",
      "43/320 images\n",
      "44/320 images\n",
      "45/320 images\n",
      "46/320 images\n",
      "47/320 images\n",
      "48/320 images\n",
      "49/320 images\n",
      "50/320 images\n",
      "51/320 images\n",
      "52/320 images\n",
      "53/320 images\n",
      "54/320 images\n",
      "55/320 images\n",
      "56/320 images\n",
      "57/320 images\n",
      "58/320 images\n",
      "59/320 images\n",
      "60/320 images\n",
      "61/320 images\n",
      "62/320 images\n",
      "63/320 images\n",
      "64/320 images\n",
      "65/320 images\n",
      "66/320 images\n",
      "67/320 images\n",
      "68/320 images\n",
      "69/320 images\n",
      "70/320 images\n",
      "71/320 images\n",
      "72/320 images\n",
      "73/320 images\n",
      "74/320 images\n",
      "75/320 images\n",
      "76/320 images\n",
      "77/320 images\n",
      "78/320 images\n",
      "79/320 images\n",
      "80/320 images\n",
      "81/320 images\n",
      "82/320 images\n",
      "83/320 images\n",
      "84/320 images\n",
      "85/320 images\n",
      "86/320 images\n",
      "87/320 images\n",
      "88/320 images\n",
      "89/320 images\n",
      "90/320 images\n",
      "91/320 images\n",
      "92/320 images\n",
      "93/320 images\n",
      "94/320 images\n",
      "95/320 images\n",
      "96/320 images\n",
      "97/320 images\n",
      "98/320 images\n",
      "99/320 images\n",
      "100/320 images\n",
      "101/320 images\n",
      "102/320 images\n",
      "103/320 images\n",
      "104/320 images\n",
      "105/320 images\n",
      "106/320 images\n",
      "107/320 images\n",
      "108/320 images\n",
      "109/320 images\n",
      "110/320 images\n",
      "111/320 images\n",
      "112/320 images\n",
      "113/320 images\n",
      "114/320 images\n",
      "115/320 images\n",
      "116/320 images\n",
      "117/320 images\n",
      "118/320 images\n",
      "119/320 images\n",
      "120/320 images\n",
      "121/320 images\n",
      "122/320 images\n",
      "123/320 images\n",
      "124/320 images\n",
      "125/320 images\n",
      "126/320 images\n",
      "127/320 images\n",
      "128/320 images\n",
      "129/320 images\n",
      "130/320 images\n",
      "131/320 images\n",
      "132/320 images\n",
      "133/320 images\n",
      "134/320 images\n",
      "135/320 images\n",
      "136/320 images\n",
      "137/320 images\n",
      "138/320 images\n",
      "139/320 images\n",
      "140/320 images\n",
      "141/320 images\n",
      "142/320 images\n",
      "143/320 images\n",
      "144/320 images\n",
      "145/320 images\n",
      "146/320 images\n",
      "147/320 images\n",
      "148/320 images\n",
      "149/320 images\n",
      "150/320 images\n",
      "151/320 images\n",
      "152/320 images\n",
      "153/320 images\n",
      "154/320 images\n",
      "155/320 images\n",
      "156/320 images\n",
      "157/320 images\n",
      "158/320 images\n",
      "159/320 images\n",
      "160/320 images\n",
      "161/320 images\n",
      "162/320 images\n",
      "163/320 images\n",
      "164/320 images\n",
      "165/320 images\n",
      "166/320 images\n",
      "167/320 images\n",
      "168/320 images\n",
      "169/320 images\n",
      "170/320 images\n",
      "171/320 images\n",
      "172/320 images\n",
      "173/320 images\n",
      "174/320 images\n",
      "175/320 images\n",
      "176/320 images\n",
      "177/320 images\n",
      "178/320 images\n",
      "179/320 images\n",
      "180/320 images\n",
      "181/320 images\n",
      "182/320 images\n",
      "183/320 images\n",
      "184/320 images\n",
      "185/320 images\n",
      "186/320 images\n",
      "187/320 images\n",
      "188/320 images\n",
      "189/320 images\n",
      "190/320 images\n",
      "191/320 images\n",
      "192/320 images\n",
      "193/320 images\n",
      "194/320 images\n",
      "195/320 images\n",
      "196/320 images\n",
      "197/320 images\n",
      "198/320 images\n",
      "199/320 images\n",
      "200/320 images\n",
      "201/320 images\n",
      "202/320 images\n",
      "203/320 images\n",
      "204/320 images\n",
      "205/320 images\n",
      "206/320 images\n",
      "207/320 images\n",
      "208/320 images\n",
      "209/320 images\n",
      "210/320 images\n",
      "211/320 images\n",
      "212/320 images\n",
      "213/320 images\n",
      "214/320 images\n",
      "215/320 images\n",
      "216/320 images\n",
      "217/320 images\n",
      "218/320 images\n",
      "219/320 images\n",
      "220/320 images\n",
      "221/320 images\n",
      "222/320 images\n",
      "223/320 images\n",
      "224/320 images\n",
      "225/320 images\n",
      "226/320 images\n",
      "227/320 images\n",
      "228/320 images\n",
      "229/320 images\n",
      "230/320 images\n",
      "231/320 images\n",
      "232/320 images\n",
      "233/320 images\n",
      "234/320 images\n",
      "235/320 images\n",
      "236/320 images\n",
      "237/320 images\n",
      "238/320 images\n",
      "239/320 images\n",
      "240/320 images\n",
      "241/320 images\n",
      "242/320 images\n",
      "243/320 images\n",
      "244/320 images\n",
      "245/320 images\n",
      "246/320 images\n",
      "247/320 images\n",
      "248/320 images\n",
      "249/320 images\n",
      "250/320 images\n",
      "251/320 images\n",
      "252/320 images\n",
      "253/320 images\n",
      "254/320 images\n",
      "255/320 images\n",
      "256/320 images\n",
      "257/320 images\n",
      "258/320 images\n",
      "259/320 images\n",
      "260/320 images\n",
      "261/320 images\n",
      "262/320 images\n",
      "263/320 images\n",
      "264/320 images\n",
      "265/320 images\n",
      "266/320 images\n",
      "267/320 images\n",
      "268/320 images\n",
      "269/320 images\n",
      "270/320 images\n",
      "271/320 images\n",
      "272/320 images\n",
      "273/320 images\n",
      "274/320 images\n",
      "275/320 images\n",
      "276/320 images\n",
      "277/320 images\n",
      "278/320 images\n",
      "279/320 images\n",
      "280/320 images\n",
      "281/320 images\n",
      "282/320 images\n",
      "283/320 images\n",
      "284/320 images\n",
      "285/320 images\n",
      "286/320 images\n",
      "287/320 images\n",
      "288/320 images\n",
      "289/320 images\n",
      "290/320 images\n",
      "291/320 images\n",
      "292/320 images\n",
      "293/320 images\n",
      "294/320 images\n",
      "295/320 images\n",
      "296/320 images\n",
      "297/320 images\n",
      "298/320 images\n",
      "299/320 images\n",
      "300/320 images\n",
      "301/320 images\n",
      "302/320 images\n",
      "303/320 images\n",
      "304/320 images\n",
      "305/320 images\n",
      "306/320 images\n",
      "307/320 images\n",
      "308/320 images\n",
      "309/320 images\n",
      "310/320 images\n",
      "311/320 images\n",
      "312/320 images\n",
      "313/320 images\n",
      "314/320 images\n",
      "315/320 images\n",
      "316/320 images\n",
      "317/320 images\n",
      "318/320 images\n",
      "319/320 images\n"
     ]
    }
   ],
   "source": [
    "aug_pairs = list( [(featurize(x),y) for x,y in \\\n",
    "                    augment( images_train, labels_train, factor=4 )] )"
   ]
  },
  {
   "cell_type": "code",
   "execution_count": 14,
   "metadata": {},
   "outputs": [],
   "source": [
    "# build X and y from augmented images\n",
    "X_train = np.stack( [x for x,y in aug_pairs] )\n",
    "y_train = np.stack( [y for x,y in aug_pairs] )"
   ]
  },
  {
   "cell_type": "code",
   "execution_count": 15,
   "metadata": {},
   "outputs": [],
   "source": [
    "# featurize test images\n",
    "X_test = np.stack( [featurize(x) for x in images_test] )\n",
    "y_test = labels_test"
   ]
  },
  {
   "cell_type": "code",
   "execution_count": 21,
   "metadata": {},
   "outputs": [],
   "source": [
    "# tensorflow needs each image sample to be 1-channel, not 0-channel\n",
    "X_train = np.expand_dims( X_train, axis=3 )\n",
    "X_test = np.expand_dims( X_test, axis=3 )"
   ]
  },
  {
   "cell_type": "markdown",
   "metadata": {},
   "source": [
    "The next step is to define a model using the standard `Keras` format. The most simple Keras model is a `Sequential` model, which takes several \"layers\" that have input and output tensors (i.e, multidimensional arrays) of consistent size.\n",
    "\n",
    "The following sequential model is one of the simplest possible models, with a single convolution filter, followed by a flattening of the output and the application of a fully connected sigmoid layer."
   ]
  },
  {
   "cell_type": "code",
   "execution_count": 22,
   "metadata": {},
   "outputs": [],
   "source": [
    "model = models.Sequential()\n",
    "model.add(layers.Conv2D(1, (5, 5), activation='linear', \n",
    "                        input_shape=(100, 100, 1),\n",
    "                        kernel_regularizer=regularizers.l2(0.003)))"
   ]
  },
  {
   "cell_type": "code",
   "execution_count": 23,
   "metadata": {},
   "outputs": [
    {
     "name": "stdout",
     "output_type": "stream",
     "text": [
      "Model: \"sequential_1\"\n",
      "_________________________________________________________________\n",
      "Layer (type)                 Output Shape              Param #   \n",
      "=================================================================\n",
      "conv2d_1 (Conv2D)            (None, 96, 96, 1)         26        \n",
      "=================================================================\n",
      "Total params: 26\n",
      "Trainable params: 26\n",
      "Non-trainable params: 0\n",
      "_________________________________________________________________\n"
     ]
    }
   ],
   "source": [
    "model.summary()"
   ]
  },
  {
   "cell_type": "code",
   "execution_count": 24,
   "metadata": {},
   "outputs": [
    {
     "data": {
      "text/plain": [
       "0.5375"
      ]
     },
     "execution_count": 24,
     "metadata": {},
     "output_type": "execute_result"
    }
   ],
   "source": [
    "1-y_test.mean()"
   ]
  },
  {
   "cell_type": "code",
   "execution_count": 25,
   "metadata": {},
   "outputs": [],
   "source": [
    "model.add(layers.Flatten())\n",
    "model.add(layers.Dense(1, activation='sigmoid',\n",
    "                      kernel_regularizer=regularizers.l2(0.003)))"
   ]
  },
  {
   "cell_type": "code",
   "execution_count": 26,
   "metadata": {},
   "outputs": [
    {
     "name": "stdout",
     "output_type": "stream",
     "text": [
      "Train on 1280 samples, validate on 80 samples\n",
      "Epoch 1/100\n",
      "1280/1280 [==============================] - 4s 3ms/sample - loss: 0.7309 - accuracy: 0.4859 - val_loss: 0.7006 - val_accuracy: 0.5000\n",
      "Epoch 2/100\n",
      "1280/1280 [==============================] - 3s 2ms/sample - loss: 0.6940 - accuracy: 0.5664 - val_loss: 0.7054 - val_accuracy: 0.4625\n",
      "Epoch 3/100\n",
      "1280/1280 [==============================] - 3s 2ms/sample - loss: 0.6839 - accuracy: 0.5953 - val_loss: 0.7105 - val_accuracy: 0.4625\n",
      "Epoch 4/100\n",
      "1280/1280 [==============================] - 3s 2ms/sample - loss: 0.6677 - accuracy: 0.6531 - val_loss: 0.7253 - val_accuracy: 0.4625\n",
      "Epoch 5/100\n",
      "1280/1280 [==============================] - 3s 3ms/sample - loss: 0.6523 - accuracy: 0.6828 - val_loss: 0.7264 - val_accuracy: 0.4125\n",
      "Epoch 6/100\n",
      "1280/1280 [==============================] - 3s 3ms/sample - loss: 0.6349 - accuracy: 0.7297 - val_loss: 0.7304 - val_accuracy: 0.5250\n",
      "Epoch 7/100\n",
      "1280/1280 [==============================] - 4s 3ms/sample - loss: 0.6163 - accuracy: 0.7297 - val_loss: 0.7309 - val_accuracy: 0.5000\n",
      "Epoch 8/100\n",
      "1280/1280 [==============================] - 3s 2ms/sample - loss: 0.5959 - accuracy: 0.7563 - val_loss: 0.7368 - val_accuracy: 0.4875\n",
      "Epoch 9/100\n",
      "1280/1280 [==============================] - 3s 3ms/sample - loss: 0.5755 - accuracy: 0.7875 - val_loss: 0.7438 - val_accuracy: 0.4875\n",
      "Epoch 10/100\n",
      "1280/1280 [==============================] - 3s 2ms/sample - loss: 0.5573 - accuracy: 0.7891 - val_loss: 0.7671 - val_accuracy: 0.4375\n",
      "Epoch 11/100\n",
      "1280/1280 [==============================] - 3s 3ms/sample - loss: 0.5339 - accuracy: 0.8125 - val_loss: 0.7701 - val_accuracy: 0.4750\n",
      "Epoch 12/100\n",
      "1280/1280 [==============================] - 3s 3ms/sample - loss: 0.5139 - accuracy: 0.8281 - val_loss: 0.7870 - val_accuracy: 0.4375\n",
      "Epoch 13/100\n",
      "1280/1280 [==============================] - 3s 2ms/sample - loss: 0.4939 - accuracy: 0.8461 - val_loss: 0.8045 - val_accuracy: 0.5125\n",
      "Epoch 14/100\n",
      "1280/1280 [==============================] - 3s 3ms/sample - loss: 0.4747 - accuracy: 0.8453 - val_loss: 0.8197 - val_accuracy: 0.4625\n",
      "Epoch 15/100\n",
      "1280/1280 [==============================] - 3s 3ms/sample - loss: 0.4591 - accuracy: 0.8586 - val_loss: 0.8302 - val_accuracy: 0.4500\n",
      "Epoch 16/100\n",
      "1280/1280 [==============================] - 3s 2ms/sample - loss: 0.4412 - accuracy: 0.8680 - val_loss: 0.8507 - val_accuracy: 0.4375\n",
      "Epoch 17/100\n",
      "1280/1280 [==============================] - 3s 2ms/sample - loss: 0.4286 - accuracy: 0.8867 - val_loss: 0.8783 - val_accuracy: 0.4625\n",
      "Epoch 18/100\n",
      "1280/1280 [==============================] - 3s 3ms/sample - loss: 0.4135 - accuracy: 0.8820 - val_loss: 0.9070 - val_accuracy: 0.4750\n",
      "Epoch 19/100\n",
      "1280/1280 [==============================] - 3s 2ms/sample - loss: 0.4017 - accuracy: 0.8859 - val_loss: 0.9158 - val_accuracy: 0.5000\n",
      "Epoch 20/100\n",
      "1280/1280 [==============================] - 3s 2ms/sample - loss: 0.3862 - accuracy: 0.9109 - val_loss: 0.9319 - val_accuracy: 0.4750\n",
      "Epoch 21/100\n",
      "1280/1280 [==============================] - 3s 3ms/sample - loss: 0.3737 - accuracy: 0.9148 - val_loss: 0.9612 - val_accuracy: 0.5125\n",
      "Epoch 22/100\n",
      "1280/1280 [==============================] - 3s 2ms/sample - loss: 0.3646 - accuracy: 0.9195 - val_loss: 0.9801 - val_accuracy: 0.4875\n",
      "Epoch 23/100\n",
      "1280/1280 [==============================] - 3s 2ms/sample - loss: 0.3542 - accuracy: 0.9211 - val_loss: 1.0159 - val_accuracy: 0.4625\n",
      "Epoch 24/100\n",
      "1280/1280 [==============================] - 3s 2ms/sample - loss: 0.3460 - accuracy: 0.9266 - val_loss: 1.0128 - val_accuracy: 0.5125\n",
      "Epoch 25/100\n",
      "1280/1280 [==============================] - 3s 3ms/sample - loss: 0.3347 - accuracy: 0.9422 - val_loss: 1.0486 - val_accuracy: 0.4750\n",
      "Epoch 26/100\n",
      "1280/1280 [==============================] - 3s 3ms/sample - loss: 0.3274 - accuracy: 0.9414 - val_loss: 1.0608 - val_accuracy: 0.4625\n",
      "Epoch 27/100\n",
      "1280/1280 [==============================] - 3s 3ms/sample - loss: 0.3192 - accuracy: 0.9477 - val_loss: 1.0903 - val_accuracy: 0.4750\n",
      "Epoch 28/100\n",
      "1280/1280 [==============================] - 3s 2ms/sample - loss: 0.3123 - accuracy: 0.9500 - val_loss: 1.0871 - val_accuracy: 0.4875\n",
      "Epoch 29/100\n",
      "1280/1280 [==============================] - 3s 3ms/sample - loss: 0.3038 - accuracy: 0.9570 - val_loss: 1.1275 - val_accuracy: 0.4500\n",
      "Epoch 30/100\n",
      "1280/1280 [==============================] - 3s 2ms/sample - loss: 0.2986 - accuracy: 0.9578 - val_loss: 1.1248 - val_accuracy: 0.5250\n",
      "Epoch 31/100\n",
      "1280/1280 [==============================] - 3s 3ms/sample - loss: 0.2937 - accuracy: 0.9586 - val_loss: 1.1630 - val_accuracy: 0.4625\n",
      "Epoch 32/100\n",
      "1280/1280 [==============================] - 3s 3ms/sample - loss: 0.2873 - accuracy: 0.9688 - val_loss: 1.1812 - val_accuracy: 0.5125\n",
      "Epoch 33/100\n",
      "1280/1280 [==============================] - 3s 3ms/sample - loss: 0.2811 - accuracy: 0.9758 - val_loss: 1.1756 - val_accuracy: 0.4875\n",
      "Epoch 34/100\n",
      "1280/1280 [==============================] - 3s 2ms/sample - loss: 0.2760 - accuracy: 0.9742 - val_loss: 1.2016 - val_accuracy: 0.5250\n",
      "Epoch 35/100\n",
      "1280/1280 [==============================] - 3s 2ms/sample - loss: 0.2716 - accuracy: 0.9734 - val_loss: 1.2166 - val_accuracy: 0.4875\n",
      "Epoch 36/100\n",
      "1280/1280 [==============================] - 3s 3ms/sample - loss: 0.2671 - accuracy: 0.9820 - val_loss: 1.2134 - val_accuracy: 0.4875\n",
      "Epoch 37/100\n",
      "1280/1280 [==============================] - 4s 3ms/sample - loss: 0.2628 - accuracy: 0.9812 - val_loss: 1.2308 - val_accuracy: 0.5125\n",
      "Epoch 38/100\n",
      "1280/1280 [==============================] - 3s 2ms/sample - loss: 0.2575 - accuracy: 0.9844 - val_loss: 1.2576 - val_accuracy: 0.5000\n",
      "Epoch 39/100\n",
      "1280/1280 [==============================] - 3s 3ms/sample - loss: 0.2546 - accuracy: 0.9844 - val_loss: 1.2587 - val_accuracy: 0.5250\n",
      "Epoch 40/100\n",
      "1280/1280 [==============================] - 3s 2ms/sample - loss: 0.2512 - accuracy: 0.9875 - val_loss: 1.2743 - val_accuracy: 0.5125\n",
      "Epoch 41/100\n",
      "1280/1280 [==============================] - 3s 3ms/sample - loss: 0.2457 - accuracy: 0.9891 - val_loss: 1.2907 - val_accuracy: 0.5375\n",
      "Epoch 42/100\n",
      "1280/1280 [==============================] - 3s 2ms/sample - loss: 0.2442 - accuracy: 0.9867 - val_loss: 1.2927 - val_accuracy: 0.5250\n",
      "Epoch 43/100\n",
      "1280/1280 [==============================] - 3s 3ms/sample - loss: 0.2411 - accuracy: 0.9875 - val_loss: 1.3358 - val_accuracy: 0.5000\n",
      "Epoch 44/100\n",
      "1280/1280 [==============================] - 3s 3ms/sample - loss: 0.2373 - accuracy: 0.9906 - val_loss: 1.3155 - val_accuracy: 0.5250\n",
      "Epoch 45/100\n",
      "1280/1280 [==============================] - 3s 3ms/sample - loss: 0.2346 - accuracy: 0.9953 - val_loss: 1.3354 - val_accuracy: 0.5250\n",
      "Epoch 46/100\n",
      " 128/1280 [==>...........................] - ETA: 2s - loss: 0.2241 - accuracy: 1.0000"
     ]
    },
    {
     "ename": "KeyboardInterrupt",
     "evalue": "",
     "output_type": "error",
     "traceback": [
      "\u001b[0;31m---------------------------------------------------------------------------\u001b[0m",
      "\u001b[0;31mKeyboardInterrupt\u001b[0m                         Traceback (most recent call last)",
      "\u001b[0;32m<ipython-input-26-378315238637>\u001b[0m in \u001b[0;36m<module>\u001b[0;34m\u001b[0m\n\u001b[1;32m      3\u001b[0m               metrics=['accuracy'])\n\u001b[1;32m      4\u001b[0m \u001b[0;34m\u001b[0m\u001b[0m\n\u001b[0;32m----> 5\u001b[0;31m \u001b[0mmodel\u001b[0m\u001b[0;34m.\u001b[0m\u001b[0mfit\u001b[0m\u001b[0;34m(\u001b[0m\u001b[0mX_train\u001b[0m\u001b[0;34m,\u001b[0m \u001b[0my_train\u001b[0m\u001b[0;34m,\u001b[0m \u001b[0mepochs\u001b[0m\u001b[0;34m=\u001b[0m\u001b[0;36m100\u001b[0m\u001b[0;34m,\u001b[0m \u001b[0mvalidation_data\u001b[0m\u001b[0;34m=\u001b[0m\u001b[0;34m(\u001b[0m\u001b[0mX_test\u001b[0m\u001b[0;34m,\u001b[0m \u001b[0my_test\u001b[0m\u001b[0;34m)\u001b[0m\u001b[0;34m)\u001b[0m\u001b[0;34m\u001b[0m\u001b[0m\n\u001b[0m",
      "\u001b[0;32m/usr/local/lib/python3.5/dist-packages/tensorflow/python/keras/engine/training.py\u001b[0m in \u001b[0;36mfit\u001b[0;34m(self, x, y, batch_size, epochs, verbose, callbacks, validation_split, validation_data, shuffle, class_weight, sample_weight, initial_epoch, steps_per_epoch, validation_steps, validation_freq, max_queue_size, workers, use_multiprocessing, **kwargs)\u001b[0m\n\u001b[1;32m    871\u001b[0m           \u001b[0mvalidation_steps\u001b[0m\u001b[0;34m=\u001b[0m\u001b[0mvalidation_steps\u001b[0m\u001b[0;34m,\u001b[0m\u001b[0;34m\u001b[0m\u001b[0m\n\u001b[1;32m    872\u001b[0m           \u001b[0mvalidation_freq\u001b[0m\u001b[0;34m=\u001b[0m\u001b[0mvalidation_freq\u001b[0m\u001b[0;34m,\u001b[0m\u001b[0;34m\u001b[0m\u001b[0m\n\u001b[0;32m--> 873\u001b[0;31m           steps_name='steps_per_epoch')\n\u001b[0m\u001b[1;32m    874\u001b[0m \u001b[0;34m\u001b[0m\u001b[0m\n\u001b[1;32m    875\u001b[0m   def evaluate(self,\n",
      "\u001b[0;32m/usr/local/lib/python3.5/dist-packages/tensorflow/python/keras/engine/training_arrays.py\u001b[0m in \u001b[0;36mmodel_iteration\u001b[0;34m(model, inputs, targets, sample_weights, batch_size, epochs, verbose, callbacks, val_inputs, val_targets, val_sample_weights, shuffle, initial_epoch, steps_per_epoch, validation_steps, validation_freq, mode, validation_in_fit, prepared_feed_values_from_dataset, steps_name, **kwargs)\u001b[0m\n\u001b[1;32m    350\u001b[0m \u001b[0;34m\u001b[0m\u001b[0m\n\u001b[1;32m    351\u001b[0m         \u001b[0;31m# Get outputs.\u001b[0m\u001b[0;34m\u001b[0m\u001b[0;34m\u001b[0m\u001b[0m\n\u001b[0;32m--> 352\u001b[0;31m         \u001b[0mbatch_outs\u001b[0m \u001b[0;34m=\u001b[0m \u001b[0mf\u001b[0m\u001b[0;34m(\u001b[0m\u001b[0mins_batch\u001b[0m\u001b[0;34m)\u001b[0m\u001b[0;34m\u001b[0m\u001b[0m\n\u001b[0m\u001b[1;32m    353\u001b[0m         \u001b[0;32mif\u001b[0m \u001b[0;32mnot\u001b[0m \u001b[0misinstance\u001b[0m\u001b[0;34m(\u001b[0m\u001b[0mbatch_outs\u001b[0m\u001b[0;34m,\u001b[0m \u001b[0mlist\u001b[0m\u001b[0;34m)\u001b[0m\u001b[0;34m:\u001b[0m\u001b[0;34m\u001b[0m\u001b[0m\n\u001b[1;32m    354\u001b[0m           \u001b[0mbatch_outs\u001b[0m \u001b[0;34m=\u001b[0m \u001b[0;34m[\u001b[0m\u001b[0mbatch_outs\u001b[0m\u001b[0;34m]\u001b[0m\u001b[0;34m\u001b[0m\u001b[0m\n",
      "\u001b[0;32m/usr/local/lib/python3.5/dist-packages/tensorflow/python/keras/backend.py\u001b[0m in \u001b[0;36m__call__\u001b[0;34m(self, inputs)\u001b[0m\n\u001b[1;32m   3215\u001b[0m         \u001b[0mvalue\u001b[0m \u001b[0;34m=\u001b[0m \u001b[0mmath_ops\u001b[0m\u001b[0;34m.\u001b[0m\u001b[0mcast\u001b[0m\u001b[0;34m(\u001b[0m\u001b[0mvalue\u001b[0m\u001b[0;34m,\u001b[0m \u001b[0mtensor\u001b[0m\u001b[0;34m.\u001b[0m\u001b[0mdtype\u001b[0m\u001b[0;34m)\u001b[0m\u001b[0;34m\u001b[0m\u001b[0m\n\u001b[1;32m   3216\u001b[0m       \u001b[0mconverted_inputs\u001b[0m\u001b[0;34m.\u001b[0m\u001b[0mappend\u001b[0m\u001b[0;34m(\u001b[0m\u001b[0mvalue\u001b[0m\u001b[0;34m)\u001b[0m\u001b[0;34m\u001b[0m\u001b[0m\n\u001b[0;32m-> 3217\u001b[0;31m     \u001b[0moutputs\u001b[0m \u001b[0;34m=\u001b[0m \u001b[0mself\u001b[0m\u001b[0;34m.\u001b[0m\u001b[0m_graph_fn\u001b[0m\u001b[0;34m(\u001b[0m\u001b[0;34m*\u001b[0m\u001b[0mconverted_inputs\u001b[0m\u001b[0;34m)\u001b[0m\u001b[0;34m\u001b[0m\u001b[0m\n\u001b[0m\u001b[1;32m   3218\u001b[0m     return nest.pack_sequence_as(self._outputs_structure,\n\u001b[1;32m   3219\u001b[0m                                  [x.numpy() for x in outputs])\n",
      "\u001b[0;32m/usr/local/lib/python3.5/dist-packages/tensorflow/python/eager/function.py\u001b[0m in \u001b[0;36m__call__\u001b[0;34m(self, *args, **kwargs)\u001b[0m\n\u001b[1;32m    556\u001b[0m       raise TypeError(\"Keyword arguments {} unknown. Expected {}.\".format(\n\u001b[1;32m    557\u001b[0m           list(kwargs.keys()), list(self._arg_keywords)))\n\u001b[0;32m--> 558\u001b[0;31m     \u001b[0;32mreturn\u001b[0m \u001b[0mself\u001b[0m\u001b[0;34m.\u001b[0m\u001b[0m_call_flat\u001b[0m\u001b[0;34m(\u001b[0m\u001b[0margs\u001b[0m\u001b[0;34m)\u001b[0m\u001b[0;34m\u001b[0m\u001b[0m\n\u001b[0m\u001b[1;32m    559\u001b[0m \u001b[0;34m\u001b[0m\u001b[0m\n\u001b[1;32m    560\u001b[0m   \u001b[0;32mdef\u001b[0m \u001b[0m_filtered_call\u001b[0m\u001b[0;34m(\u001b[0m\u001b[0mself\u001b[0m\u001b[0;34m,\u001b[0m \u001b[0margs\u001b[0m\u001b[0;34m,\u001b[0m \u001b[0mkwargs\u001b[0m\u001b[0;34m)\u001b[0m\u001b[0;34m:\u001b[0m\u001b[0;34m\u001b[0m\u001b[0m\n",
      "\u001b[0;32m/usr/local/lib/python3.5/dist-packages/tensorflow/python/eager/function.py\u001b[0m in \u001b[0;36m_call_flat\u001b[0;34m(self, args)\u001b[0m\n\u001b[1;32m    625\u001b[0m     \u001b[0;31m# Only need to override the gradient in graph mode and when we have outputs.\u001b[0m\u001b[0;34m\u001b[0m\u001b[0;34m\u001b[0m\u001b[0m\n\u001b[1;32m    626\u001b[0m     \u001b[0;32mif\u001b[0m \u001b[0mcontext\u001b[0m\u001b[0;34m.\u001b[0m\u001b[0mexecuting_eagerly\u001b[0m\u001b[0;34m(\u001b[0m\u001b[0;34m)\u001b[0m \u001b[0;32mor\u001b[0m \u001b[0;32mnot\u001b[0m \u001b[0mself\u001b[0m\u001b[0;34m.\u001b[0m\u001b[0moutputs\u001b[0m\u001b[0;34m:\u001b[0m\u001b[0;34m\u001b[0m\u001b[0m\n\u001b[0;32m--> 627\u001b[0;31m       \u001b[0moutputs\u001b[0m \u001b[0;34m=\u001b[0m \u001b[0mself\u001b[0m\u001b[0;34m.\u001b[0m\u001b[0m_inference_function\u001b[0m\u001b[0;34m.\u001b[0m\u001b[0mcall\u001b[0m\u001b[0;34m(\u001b[0m\u001b[0mctx\u001b[0m\u001b[0;34m,\u001b[0m \u001b[0margs\u001b[0m\u001b[0;34m)\u001b[0m\u001b[0;34m\u001b[0m\u001b[0m\n\u001b[0m\u001b[1;32m    628\u001b[0m     \u001b[0;32melse\u001b[0m\u001b[0;34m:\u001b[0m\u001b[0;34m\u001b[0m\u001b[0m\n\u001b[1;32m    629\u001b[0m       \u001b[0mself\u001b[0m\u001b[0;34m.\u001b[0m\u001b[0m_register_gradient\u001b[0m\u001b[0;34m(\u001b[0m\u001b[0;34m)\u001b[0m\u001b[0;34m\u001b[0m\u001b[0m\n",
      "\u001b[0;32m/usr/local/lib/python3.5/dist-packages/tensorflow/python/eager/function.py\u001b[0m in \u001b[0;36mcall\u001b[0;34m(self, ctx, args)\u001b[0m\n\u001b[1;32m    413\u001b[0m             attrs=(\"executor_type\", executor_type,\n\u001b[1;32m    414\u001b[0m                    \"config_proto\", config),\n\u001b[0;32m--> 415\u001b[0;31m             ctx=ctx)\n\u001b[0m\u001b[1;32m    416\u001b[0m       \u001b[0;31m# Replace empty list with None\u001b[0m\u001b[0;34m\u001b[0m\u001b[0;34m\u001b[0m\u001b[0m\n\u001b[1;32m    417\u001b[0m       \u001b[0moutputs\u001b[0m \u001b[0;34m=\u001b[0m \u001b[0moutputs\u001b[0m \u001b[0;32mor\u001b[0m \u001b[0;32mNone\u001b[0m\u001b[0;34m\u001b[0m\u001b[0m\n",
      "\u001b[0;32m/usr/local/lib/python3.5/dist-packages/tensorflow/python/eager/execute.py\u001b[0m in \u001b[0;36mquick_execute\u001b[0;34m(op_name, num_outputs, inputs, attrs, ctx, name)\u001b[0m\n\u001b[1;32m     58\u001b[0m     tensors = pywrap_tensorflow.TFE_Py_Execute(ctx._handle, device_name,\n\u001b[1;32m     59\u001b[0m                                                \u001b[0mop_name\u001b[0m\u001b[0;34m,\u001b[0m \u001b[0minputs\u001b[0m\u001b[0;34m,\u001b[0m \u001b[0mattrs\u001b[0m\u001b[0;34m,\u001b[0m\u001b[0;34m\u001b[0m\u001b[0m\n\u001b[0;32m---> 60\u001b[0;31m                                                num_outputs)\n\u001b[0m\u001b[1;32m     61\u001b[0m   \u001b[0;32mexcept\u001b[0m \u001b[0mcore\u001b[0m\u001b[0;34m.\u001b[0m\u001b[0m_NotOkStatusException\u001b[0m \u001b[0;32mas\u001b[0m \u001b[0me\u001b[0m\u001b[0;34m:\u001b[0m\u001b[0;34m\u001b[0m\u001b[0m\n\u001b[1;32m     62\u001b[0m     \u001b[0;32mif\u001b[0m \u001b[0mname\u001b[0m \u001b[0;32mis\u001b[0m \u001b[0;32mnot\u001b[0m \u001b[0;32mNone\u001b[0m\u001b[0;34m:\u001b[0m\u001b[0;34m\u001b[0m\u001b[0m\n",
      "\u001b[0;31mKeyboardInterrupt\u001b[0m: "
     ]
    }
   ],
   "source": [
    "model.compile(optimizer='adam',\n",
    "              loss='binary_crossentropy',\n",
    "              metrics=['accuracy'])\n",
    "\n",
    "model.fit(X_train, y_train, epochs=100, validation_data=(X_test, y_test))"
   ]
  },
  {
   "cell_type": "markdown",
   "metadata": {},
   "source": [
    "Let's grab a single image and see the input and output of each layer..."
   ]
  },
  {
   "cell_type": "code",
   "execution_count": 34,
   "metadata": {},
   "outputs": [],
   "source": [
    "i = 5\n",
    "last_img = X_test[i:i+1]"
   ]
  },
  {
   "cell_type": "code",
   "execution_count": 35,
   "metadata": {},
   "outputs": [
    {
     "data": {
      "text/plain": [
       "<matplotlib.image.AxesImage at 0x7f0f86dbf5f8>"
      ]
     },
     "execution_count": 35,
     "metadata": {},
     "output_type": "execute_result"
    },
    {
     "data": {
      "image/png": "[encoded data removed]",
      "text/plain": [
       "<Figure size 432x288 with 1 Axes>"
      ]
     },
     "metadata": {
      "needs_background": "light"
     },
     "output_type": "display_data"
    }
   ],
   "source": [
    "imshow( last_img[0,:,:,0] )"
   ]
  },
  {
   "cell_type": "markdown",
   "metadata": {},
   "source": [
    "`model.layers` contains all the layers.."
   ]
  },
  {
   "cell_type": "code",
   "execution_count": 36,
   "metadata": {},
   "outputs": [
    {
     "data": {
      "text/plain": [
       "[<tensorflow.python.keras.layers.convolutional.Conv2D at 0x7f0fb4650eb8>,\n",
       " <tensorflow.python.keras.layers.core.Flatten at 0x7f0fb455c0b8>,\n",
       " <tensorflow.python.keras.layers.core.Dense at 0x7f0fb4650dd8>]"
      ]
     },
     "execution_count": 36,
     "metadata": {},
     "output_type": "execute_result"
    }
   ],
   "source": [
    "model.layers"
   ]
  },
  {
   "cell_type": "markdown",
   "metadata": {},
   "source": [
    "Each layers is simply a function - we can feed the image into the first layer, to get that layer's output..."
   ]
  },
  {
   "cell_type": "code",
   "execution_count": 59,
   "metadata": {},
   "outputs": [],
   "source": [
    "# pipe the image into the first layer\n",
    "layer0_output = model.layers[0]( last_img.astype(np.float32) ).numpy()"
   ]
  },
  {
   "cell_type": "code",
   "execution_count": 60,
   "metadata": {},
   "outputs": [
    {
     "data": {
      "text/plain": [
       "<matplotlib.image.AxesImage at 0x7f0f863b3a90>"
      ]
     },
     "execution_count": 60,
     "metadata": {},
     "output_type": "execute_result"
    },
    {
     "data": {
      "image/png": "[encoded data removed]",
      "text/plain": [
       "<Figure size 432x288 with 1 Axes>"
      ]
     },
     "metadata": {
      "needs_background": "light"
     },
     "output_type": "display_data"
    }
   ],
   "source": [
    "plt.imshow( layer0_output[0,:,:,0], cmap=\"Greys\" )"
   ]
  },
  {
   "cell_type": "markdown",
   "metadata": {},
   "source": [
    "The first layer is a convolution filter..."
   ]
  },
  {
   "cell_type": "code",
   "execution_count": 61,
   "metadata": {},
   "outputs": [],
   "source": [
    "W, b = model.layers[0].get_weights()"
   ]
  },
  {
   "cell_type": "code",
   "execution_count": 62,
   "metadata": {},
   "outputs": [],
   "source": [
    "kernal = W[:,:,0,0]"
   ]
  },
  {
   "cell_type": "code",
   "execution_count": 63,
   "metadata": {},
   "outputs": [
    {
     "data": {
      "text/plain": [
       "<matplotlib.image.AxesImage at 0x7f0f863ec668>"
      ]
     },
     "execution_count": 63,
     "metadata": {},
     "output_type": "execute_result"
    },
    {
     "data": {
      "image/png": "[encoded data removed]",
      "text/plain": [
       "<Figure size 432x288 with 1 Axes>"
      ]
     },
     "metadata": {
      "needs_background": "light"
     },
     "output_type": "display_data"
    }
   ],
   "source": [
    "plt.imshow( kernal, cmap=\"Greys\" )"
   ]
  },
  {
   "cell_type": "markdown",
   "metadata": {},
   "source": [
    "We can just apply this convolutional kernal by hand using sklearn's `convolve` function."
   ]
  },
  {
   "cell_type": "code",
   "execution_count": 64,
   "metadata": {},
   "outputs": [
    {
     "data": {
      "text/plain": [
       "<matplotlib.image.AxesImage at 0x7f0f863a12e8>"
      ]
     },
     "execution_count": 64,
     "metadata": {},
     "output_type": "execute_result"
    },
    {
     "data": {
      "image/png": "[encoded data removed]",
      "text/plain": [
       "<Figure size 432x288 with 2 Axes>"
      ]
     },
     "metadata": {
      "needs_background": "light"
     },
     "output_type": "display_data"
    }
   ],
   "source": [
    "imshow( convolve(last_img[0,:,:,0], kernal) )"
   ]
  },
  {
   "cell_type": "markdown",
   "metadata": {},
   "source": [
    "At this point, we've \"featurized\" the image using the convolutional filter. The next step is to flatten it, and then use a supervised learning technique."
   ]
  },
  {
   "cell_type": "code",
   "execution_count": 65,
   "metadata": {},
   "outputs": [
    {
     "data": {
      "text/plain": [
       "(1, 9216)"
      ]
     },
     "execution_count": 65,
     "metadata": {},
     "output_type": "execute_result"
    }
   ],
   "source": [
    "layer1_output = model.layers[1]( layer0_output ).numpy()\n",
    "layer1_output.shape"
   ]
  },
  {
   "cell_type": "markdown",
   "metadata": {},
   "source": [
    "Row vector, 9604 wide"
   ]
  },
  {
   "cell_type": "markdown",
   "metadata": {},
   "source": [
    "The standard approach is to use a logistic regression layer, in the parlance of neural networks called a \"sigmoid layer\"."
   ]
  },
  {
   "cell_type": "code",
   "execution_count": 83,
   "metadata": {},
   "outputs": [],
   "source": [
    "W, b = model.layers[2].get_weights()"
   ]
  },
  {
   "cell_type": "code",
   "execution_count": 84,
   "metadata": {},
   "outputs": [
    {
     "data": {
      "text/plain": [
       "9216"
      ]
     },
     "execution_count": 84,
     "metadata": {},
     "output_type": "execute_result"
    }
   ],
   "source": [
    "_, n_flat = W.T.shape #1 rows, one for each fully connected neuron\n",
    "          #each row has 9604 connections, to each of the pixels in the previous layer\n",
    "          #but all flattened out\n",
    "n_flat"
   ]
  },
  {
   "cell_type": "markdown",
   "metadata": {},
   "source": [
    "In the context of image analysis, logistic regression is very similar to applying a mask filter to an image, and then tallying up all the pixels that pass through the mask filter.\n",
    "\n",
    "Here's the \"mask filter\" that we found using gradient descent:"
   ]
  },
  {
   "cell_type": "code",
   "execution_count": 85,
   "metadata": {},
   "outputs": [
    {
     "data": {
      "text/plain": [
       "<matplotlib.image.AxesImage at 0x7f0f85ee9320>"
      ]
     },
     "execution_count": 85,
     "metadata": {},
     "output_type": "execute_result"
    },
    {
     "data": {
      "image/png": "[encoded data removed]",
      "text/plain": [
       "<Figure size 432x288 with 1 Axes>"
      ]
     },
     "metadata": {
      "needs_background": "light"
     },
     "output_type": "display_data"
    }
   ],
   "source": [
    "width = int(n_flat**0.5)\n",
    "plt.imshow( W.T.reshape(width,width) )"
   ]
  },
  {
   "cell_type": "markdown",
   "metadata": {},
   "source": [
    "The procedure is to take the pairwise product of this mask-filter against an image, take the sum, and then apply the sigmoid function."
   ]
  },
  {
   "cell_type": "code",
   "execution_count": 86,
   "metadata": {},
   "outputs": [
    {
     "data": {
      "text/plain": [
       "<matplotlib.image.AxesImage at 0x7f0f85ea1400>"
      ]
     },
     "execution_count": 86,
     "metadata": {},
     "output_type": "execute_result"
    },
    {
     "data": {
      "image/png": "[encoded data removed]",
      "text/plain": [
       "<Figure size 432x288 with 1 Axes>"
      ]
     },
     "metadata": {
      "needs_background": "light"
     },
     "output_type": "display_data"
    }
   ],
   "source": [
    "plt.imshow( (W.flatten() * layer1_output.flatten()).reshape(width,width), \n",
    "            vmin=-0.2, vmax=0.2 )"
   ]
  },
  {
   "cell_type": "code",
   "execution_count": 87,
   "metadata": {},
   "outputs": [
    {
     "data": {
      "text/plain": [
       "array([0.5291865], dtype=float32)"
      ]
     },
     "execution_count": 87,
     "metadata": {},
     "output_type": "execute_result"
    }
   ],
   "source": [
    "(W.T) @ layer1_output.flatten()"
   ]
  },
  {
   "cell_type": "code",
   "execution_count": 88,
   "metadata": {},
   "outputs": [
    {
     "data": {
      "text/plain": [
       "array([0.66887254], dtype=float32)"
      ]
     },
     "execution_count": 88,
     "metadata": {},
     "output_type": "execute_result"
    }
   ],
   "source": [
    "(W.flatten() * layer1_output.flatten()).sum() + b"
   ]
  },
  {
   "cell_type": "code",
   "execution_count": 89,
   "metadata": {},
   "outputs": [],
   "source": [
    "layer2_output = (W.T) @ layer1_output.flatten() + b"
   ]
  },
  {
   "cell_type": "code",
   "execution_count": 90,
   "metadata": {},
   "outputs": [
    {
     "data": {
      "text/plain": [
       "array([0.668874], dtype=float32)"
      ]
     },
     "execution_count": 90,
     "metadata": {},
     "output_type": "execute_result"
    }
   ],
   "source": [
    "layer2_output"
   ]
  },
  {
   "cell_type": "code",
   "execution_count": 91,
   "metadata": {},
   "outputs": [
    {
     "data": {
      "text/plain": [
       "array([0.661251], dtype=float32)"
      ]
     },
     "execution_count": 91,
     "metadata": {},
     "output_type": "execute_result"
    }
   ],
   "source": [
    "tf.keras.activations.sigmoid( layer2_output ).numpy()"
   ]
  },
  {
   "cell_type": "markdown",
   "metadata": {},
   "source": [
    "Let's see how the model performs on the training set:"
   ]
  },
  {
   "cell_type": "code",
   "execution_count": 99,
   "metadata": {},
   "outputs": [
    {
     "data": {
      "text/plain": [
       "0.9953125"
      ]
     },
     "execution_count": 99,
     "metadata": {},
     "output_type": "execute_result"
    }
   ],
   "source": [
    "((model.predict( X_train ).flatten() > 0.5) == y_train).mean()"
   ]
  },
  {
   "cell_type": "markdown",
   "metadata": {},
   "source": [
    "Nearly perfect.\n",
    "\n",
    "How about the testing set?"
   ]
  },
  {
   "cell_type": "code",
   "execution_count": 100,
   "metadata": {},
   "outputs": [
    {
     "data": {
      "text/plain": [
       "0.525"
      ]
     },
     "execution_count": 100,
     "metadata": {},
     "output_type": "execute_result"
    }
   ],
   "source": [
    "((model.predict( X_test ).flatten() > 0.5) == y_test).mean()"
   ]
  },
  {
   "cell_type": "code",
   "execution_count": 102,
   "metadata": {},
   "outputs": [
    {
     "data": {
      "text/plain": [
       "0.5375"
      ]
     },
     "execution_count": 102,
     "metadata": {},
     "output_type": "execute_result"
    }
   ],
   "source": [
    "1-y_test.mean()"
   ]
  },
  {
   "cell_type": "markdown",
   "metadata": {},
   "source": [
    "Absolutely useless. Predicing the majority class would give better accuracy than this model.\n",
    "\n",
    "**Question** Why is this? (Hint: look at the \"mask filter\")."
   ]
  }
 ],
 "metadata": {
  "kernelspec": {
   "display_name": "Python 3",
   "language": "python",
   "name": "python3"
  },
  "language_info": {
   "codemirror_mode": {
    "name": "ipython",
    "version": 3
   },
   "file_extension": ".py",
   "mimetype": "text/x-python",
   "name": "python",
   "nbconvert_exporter": "python",
   "pygments_lexer": "ipython3",
   "version": "3.5.2"
  }
 },
 "nbformat": 4,
 "nbformat_minor": 2
}
