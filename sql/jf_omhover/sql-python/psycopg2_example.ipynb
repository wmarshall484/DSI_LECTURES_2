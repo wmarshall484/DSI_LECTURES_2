{
 "cells": [
  {
   "cell_type": "code",
   "execution_count": null,
   "metadata": {
    "ExecuteTime": {
     "end_time": "2017-04-26T07:55:33.012478",
     "start_time": "2017-04-26T07:55:32.986505"
    },
    "collapsed": true
   },
   "outputs": [],
   "source": [
    "import psycopg2"
   ]
  },
  {
   "cell_type": "markdown",
   "metadata": {},
   "source": [
    "## Setup database connection"
   ]
  },
  {
   "cell_type": "code",
   "execution_count": null,
   "metadata": {
    "ExecuteTime": {
     "end_time": "2017-04-26T07:55:38.404461",
     "start_time": "2017-04-26T07:55:38.386002"
    },
    "collapsed": false
   },
   "outputs": [],
   "source": [
    "# Note: if no dbname or user are specified, the default is your username.\n",
    "conn = psycopg2.connect(\"dbname=jf.omhover user=jf.omhover\")"
   ]
  },
  {
   "cell_type": "markdown",
   "metadata": {},
   "source": [
    "## Create a cursor"
   ]
  },
  {
   "cell_type": "code",
   "execution_count": null,
   "metadata": {
    "ExecuteTime": {
     "end_time": "2017-04-26T07:55:39.656413",
     "start_time": "2017-04-26T07:55:39.641445"
    },
    "collapsed": true
   },
   "outputs": [],
   "source": [
    "cur = conn.cursor()"
   ]
  },
  {
   "cell_type": "markdown",
   "metadata": {},
   "source": [
    "## Create a table"
   ]
  },
  {
   "cell_type": "code",
   "execution_count": null,
   "metadata": {
    "ExecuteTime": {
     "end_time": "2017-04-26T07:55:40.679311",
     "start_time": "2017-04-26T07:55:40.662377"
    },
    "collapsed": true
   },
   "outputs": [],
   "source": [
    "# Define a query\n",
    "query = \"\"\"\n",
    "CREATE TABLE alphabet (\n",
    "    id SERIAL PRIMARY KEY\n",
    ",   letter INT\n",
    "    );\n",
    "\"\"\""
   ]
  },
  {
   "cell_type": "code",
   "execution_count": null,
   "metadata": {
    "ExecuteTime": {
     "end_time": "2017-04-26T07:55:41.714083",
     "start_time": "2017-04-26T07:55:41.688546"
    },
    "collapsed": false,
    "scrolled": true
   },
   "outputs": [],
   "source": [
    "# Run the query\n",
    "cur.execute(query)"
   ]
  },
  {
   "cell_type": "code",
   "execution_count": null,
   "metadata": {
    "ExecuteTime": {
     "end_time": "2017-04-26T07:55:42.935098",
     "start_time": "2017-04-26T07:55:42.914710"
    },
    "collapsed": true
   },
   "outputs": [],
   "source": [
    "# Save changes to the database\n",
    "conn.commit()"
   ]
  },
  {
   "cell_type": "markdown",
   "metadata": {},
   "source": [
    "## Error\n",
    "\n",
    "* What's wrong with the table that we created?\n",
    "* How can we fix it?"
   ]
  },
  {
   "cell_type": "code",
   "execution_count": null,
   "metadata": {
    "ExecuteTime": {
     "end_time": "2017-04-26T07:55:49.621162",
     "start_time": "2017-04-26T07:55:49.606505"
    },
    "collapsed": true
   },
   "outputs": [],
   "source": [
    "# Let's define a query that will fix our alphabet table.\n",
    "query = \"\"\"\n",
    "CREATE TABLE alphabet (\n",
    "    id SERIAL PRIMARY KEY\n",
    ",   letter CHAR(1)\n",
    "    );\n",
    "\"\"\""
   ]
  },
  {
   "cell_type": "code",
   "execution_count": null,
   "metadata": {
    "ExecuteTime": {
     "end_time": "2017-04-26T07:55:52.827357",
     "start_time": "2017-04-26T07:55:52.742104"
    },
    "collapsed": false,
    "scrolled": true
   },
   "outputs": [],
   "source": [
    "# Run the query\n",
    "cur.execute(query)"
   ]
  },
  {
   "cell_type": "markdown",
   "metadata": {},
   "source": [
    "## Error\n",
    "\n",
    "* Why didn't PostgreSQL let us re-create the table?\n",
    "* How can we fix it?"
   ]
  },
  {
   "cell_type": "code",
   "execution_count": null,
   "metadata": {
    "ExecuteTime": {
     "end_time": "2017-04-26T07:55:56.640093",
     "start_time": "2017-04-26T07:55:56.612509"
    },
    "collapsed": false
   },
   "outputs": [],
   "source": [
    "# Resolve the issue that caused the error\n",
    "cur.execute(\"DROP TABLE alphabet;\")"
   ]
  },
  {
   "cell_type": "markdown",
   "metadata": {},
   "source": [
    "## Error\n",
    "\n",
    "* Whoops! We can't proceed until we resolve the failed transaction.\n",
    "* We'll have to *roll it back* to get going again."
   ]
  },
  {
   "cell_type": "code",
   "execution_count": null,
   "metadata": {
    "ExecuteTime": {
     "end_time": "2017-04-26T07:56:02.720488",
     "start_time": "2017-04-26T07:56:02.702030"
    },
    "collapsed": false
   },
   "outputs": [],
   "source": [
    "# Roll back the transaction\n",
    "conn.rollback()"
   ]
  },
  {
   "cell_type": "code",
   "execution_count": null,
   "metadata": {
    "ExecuteTime": {
     "end_time": "2017-04-26T07:56:17.249567",
     "start_time": "2017-04-26T07:56:17.231682"
    },
    "collapsed": false
   },
   "outputs": [],
   "source": [
    "# Create a new cursor\n",
    "cur = conn.cursor()"
   ]
  },
  {
   "cell_type": "code",
   "execution_count": null,
   "metadata": {
    "ExecuteTime": {
     "end_time": "2017-04-26T07:56:17.988505",
     "start_time": "2017-04-26T07:56:17.972901"
    },
    "collapsed": true
   },
   "outputs": [],
   "source": [
    "# Resolve the issue that caused the error\n",
    "cur.execute(\"DROP TABLE alphabet;\")"
   ]
  },
  {
   "cell_type": "code",
   "execution_count": null,
   "metadata": {
    "ExecuteTime": {
     "end_time": "2017-04-26T07:56:19.429315",
     "start_time": "2017-04-26T07:56:19.413186"
    },
    "collapsed": false
   },
   "outputs": [],
   "source": [
    "# Review the original query\n",
    "print(query)"
   ]
  },
  {
   "cell_type": "code",
   "execution_count": null,
   "metadata": {
    "ExecuteTime": {
     "end_time": "2017-04-26T07:56:21.677366",
     "start_time": "2017-04-26T07:56:21.645788"
    },
    "collapsed": true
   },
   "outputs": [],
   "source": [
    "# Run the query again\n",
    "cur.execute(query)"
   ]
  },
  {
   "cell_type": "code",
   "execution_count": null,
   "metadata": {
    "ExecuteTime": {
     "end_time": "2017-04-26T07:56:22.150343",
     "start_time": "2017-04-26T07:56:22.132758"
    },
    "collapsed": true
   },
   "outputs": [],
   "source": [
    "# Save the changes to the database\n",
    "conn.commit()"
   ]
  },
  {
   "cell_type": "markdown",
   "metadata": {},
   "source": [
    "## Add some rows to the table"
   ]
  },
  {
   "cell_type": "code",
   "execution_count": null,
   "metadata": {
    "ExecuteTime": {
     "end_time": "2017-04-26T07:56:25.339681",
     "start_time": "2017-04-26T07:56:25.324698"
    },
    "collapsed": true
   },
   "outputs": [],
   "source": [
    "# Create a query containing a placeholder (%s) for data.\n",
    "query = \"\"\"\n",
    "INSERT INTO\n",
    "    alphabet\n",
    "        (letter)\n",
    "    VALUES\n",
    "        (%s)\n",
    ";\n",
    "\"\"\""
   ]
  },
  {
   "cell_type": "code",
   "execution_count": null,
   "metadata": {
    "ExecuteTime": {
     "end_time": "2017-04-26T07:56:26.793687",
     "start_time": "2017-04-26T07:56:26.772838"
    },
    "collapsed": true
   },
   "outputs": [],
   "source": [
    "# Run the query once\n",
    "cur.execute(query, ['a'])"
   ]
  },
  {
   "cell_type": "code",
   "execution_count": null,
   "metadata": {
    "ExecuteTime": {
     "end_time": "2017-04-26T07:57:00.383847",
     "start_time": "2017-04-26T07:57:00.365975"
    },
    "collapsed": true
   },
   "outputs": [],
   "source": [
    "# Save the change to the database\n",
    "conn.commit()"
   ]
  },
  {
   "cell_type": "code",
   "execution_count": null,
   "metadata": {
    "ExecuteTime": {
     "end_time": "2017-04-26T07:56:34.115107",
     "start_time": "2017-04-26T07:56:34.095195"
    },
    "collapsed": true
   },
   "outputs": [],
   "source": [
    "# Run the query 25 times\n",
    "for letter in ('bcdefghijklmnopqrstuvwxyz'):\n",
    "    cur.execute(query, letter)"
   ]
  },
  {
   "cell_type": "code",
   "execution_count": null,
   "metadata": {
    "ExecuteTime": {
     "end_time": "2017-04-26T07:56:39.868203",
     "start_time": "2017-04-26T07:56:39.844428"
    },
    "collapsed": false
   },
   "outputs": [],
   "source": [
    "# Save all 25 changes to the database\n",
    "conn.commit()"
   ]
  },
  {
   "cell_type": "markdown",
   "metadata": {},
   "source": [
    "## Retrieve data"
   ]
  },
  {
   "cell_type": "code",
   "execution_count": null,
   "metadata": {
    "ExecuteTime": {
     "end_time": "2017-04-26T07:57:03.545560",
     "start_time": "2017-04-26T07:57:03.526469"
    },
    "collapsed": false
   },
   "outputs": [],
   "source": [
    "query = \"\"\"\n",
    "SELECT\n",
    "    id\n",
    ",   letter\n",
    "FROM\n",
    "    alphabet\n",
    ";\n",
    "\"\"\"\n",
    "\n",
    "cur.execute(query)"
   ]
  },
  {
   "cell_type": "code",
   "execution_count": null,
   "metadata": {
    "ExecuteTime": {
     "end_time": "2017-04-26T07:57:04.193816",
     "start_time": "2017-04-26T07:57:04.169209"
    },
    "collapsed": false
   },
   "outputs": [],
   "source": [
    "# Return the next row\n",
    "cur.fetchone()"
   ]
  },
  {
   "cell_type": "code",
   "execution_count": null,
   "metadata": {
    "ExecuteTime": {
     "end_time": "2017-04-26T07:57:05.862270",
     "start_time": "2017-04-26T07:57:05.843591"
    },
    "collapsed": false
   },
   "outputs": [],
   "source": [
    "# Return the next row\n",
    "cur.fetchone()"
   ]
  },
  {
   "cell_type": "code",
   "execution_count": null,
   "metadata": {
    "ExecuteTime": {
     "end_time": "2017-04-26T07:57:06.780922",
     "start_time": "2017-04-26T07:57:06.756234"
    },
    "collapsed": false
   },
   "outputs": [],
   "source": [
    "# Return all remaining rows\n",
    "cur.fetchall()"
   ]
  },
  {
   "cell_type": "markdown",
   "metadata": {},
   "source": [
    "## Delete the table"
   ]
  },
  {
   "cell_type": "code",
   "execution_count": null,
   "metadata": {
    "ExecuteTime": {
     "end_time": "2017-04-26T07:57:12.836545",
     "start_time": "2017-04-26T07:57:12.805922"
    },
    "collapsed": false
   },
   "outputs": [],
   "source": [
    "cur.execute(\"DROP TABLE alphabet;\")\n",
    "conn.commit()"
   ]
  },
  {
   "cell_type": "markdown",
   "metadata": {},
   "source": [
    "## Cleanup"
   ]
  },
  {
   "cell_type": "code",
   "execution_count": null,
   "metadata": {
    "ExecuteTime": {
     "end_time": "2017-04-26T07:57:15.235765",
     "start_time": "2017-04-26T07:57:15.221276"
    },
    "collapsed": true
   },
   "outputs": [],
   "source": [
    "cur.close()  # Close the cursor\n",
    "conn.close() # Close the connection"
   ]
  }
 ],
 "metadata": {
  "anaconda-cloud": {},
  "kernelspec": {
   "display_name": "Python [default]",
   "language": "python",
   "name": "python2"
  },
  "language_info": {
   "codemirror_mode": {
    "name": "ipython",
    "version": 2
   },
   "file_extension": ".py",
   "mimetype": "text/x-python",
   "name": "python",
   "nbconvert_exporter": "python",
   "pygments_lexer": "ipython2",
   "version": "2.7.12"
  }
 },
 "nbformat": 4,
 "nbformat_minor": 0
}
