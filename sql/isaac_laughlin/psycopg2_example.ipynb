{
 "cells": [
  {
   "cell_type": "code",
   "execution_count": null,
   "metadata": {
    "ExecuteTime": {
     "end_time": "2016-09-08T13:13:00.758439",
     "start_time": "2016-09-08T13:13:00.731639"
    },
    "collapsed": true
   },
   "outputs": [],
   "source": [
    "import psycopg2"
   ]
  },
  {
   "cell_type": "markdown",
   "metadata": {},
   "source": [
    "## Setup database connection"
   ]
  },
  {
   "cell_type": "code",
   "execution_count": null,
   "metadata": {
    "ExecuteTime": {
     "end_time": "2016-09-08T13:13:00.778990",
     "start_time": "2016-09-08T13:13:00.759724"
    },
    "collapsed": false
   },
   "outputs": [],
   "source": [
    "conn = psycopg2.connect(\"dbname=miles user=miles\")\n",
    "cur = conn.cursor()"
   ]
  },
  {
   "cell_type": "markdown",
   "metadata": {},
   "source": [
    "## Create a table"
   ]
  },
  {
   "cell_type": "code",
   "execution_count": null,
   "metadata": {
    "ExecuteTime": {
     "end_time": "2016-09-08T13:13:00.795886",
     "start_time": "2016-09-08T13:13:00.780398"
    },
    "collapsed": true
   },
   "outputs": [],
   "source": [
    "# Define a query\n",
    "query = \"\"\"\n",
    "CREATE TABLE alphabet (\n",
    "    id SERIAL PRIMARY KEY\n",
    ",   letter CHAR(1)\n",
    "    );\n",
    "\"\"\""
   ]
  },
  {
   "cell_type": "code",
   "execution_count": null,
   "metadata": {
    "ExecuteTime": {
     "end_time": "2016-09-08T13:13:00.821695",
     "start_time": "2016-09-08T13:13:00.797370"
    },
    "collapsed": false
   },
   "outputs": [],
   "source": [
    "# Run the query\n",
    "cur.execute(query)"
   ]
  },
  {
   "cell_type": "code",
   "execution_count": null,
   "metadata": {
    "ExecuteTime": {
     "end_time": "2016-09-08T13:13:00.842927",
     "start_time": "2016-09-08T13:13:00.823246"
    },
    "collapsed": true
   },
   "outputs": [],
   "source": [
    "# Save changes to the database\n",
    "conn.commit()"
   ]
  },
  {
   "cell_type": "markdown",
   "metadata": {},
   "source": [
    "## Add some rows to the table"
   ]
  },
  {
   "cell_type": "code",
   "execution_count": null,
   "metadata": {
    "ExecuteTime": {
     "end_time": "2016-09-08T13:13:00.871166",
     "start_time": "2016-09-08T13:13:00.844306"
    },
    "collapsed": false
   },
   "outputs": [],
   "source": [
    "query = \"\"\"\n",
    "INSERT INTO\n",
    "    alphabet\n",
    "        (letter)\n",
    "    VALUES\n",
    "        (%s)\n",
    ";\n",
    "\"\"\"\n",
    "\n",
    "cur.execute(query, ['a'])\n",
    "\n",
    "for letter in ('bcd'):\n",
    "    cur.execute(query, letter)\n",
    "\n",
    "conn.commit()"
   ]
  },
  {
   "cell_type": "markdown",
   "metadata": {},
   "source": [
    "## Retrieve data"
   ]
  },
  {
   "cell_type": "code",
   "execution_count": null,
   "metadata": {
    "ExecuteTime": {
     "end_time": "2016-09-08T13:13:00.886291",
     "start_time": "2016-09-08T13:13:00.873007"
    },
    "collapsed": false
   },
   "outputs": [],
   "source": [
    "query = \"\"\"\n",
    "SELECT\n",
    "    id\n",
    ",   letter\n",
    "FROM\n",
    "    alphabet\n",
    ";\n",
    "\"\"\"\n",
    "\n",
    "cur.execute(query)"
   ]
  },
  {
   "cell_type": "code",
   "execution_count": null,
   "metadata": {
    "ExecuteTime": {
     "end_time": "2016-09-08T13:13:00.906768",
     "start_time": "2016-09-08T13:13:00.887698"
    },
    "collapsed": false
   },
   "outputs": [],
   "source": [
    "# Return the next row\n",
    "cur.fetchone()"
   ]
  },
  {
   "cell_type": "code",
   "execution_count": null,
   "metadata": {
    "ExecuteTime": {
     "end_time": "2016-09-08T13:13:00.920471",
     "start_time": "2016-09-08T13:13:00.908088"
    },
    "collapsed": false
   },
   "outputs": [],
   "source": [
    "# Return the next row\n",
    "cur.fetchone()"
   ]
  },
  {
   "cell_type": "code",
   "execution_count": null,
   "metadata": {
    "ExecuteTime": {
     "end_time": "2016-09-08T13:13:00.938738",
     "start_time": "2016-09-08T13:13:00.922237"
    },
    "collapsed": false
   },
   "outputs": [],
   "source": [
    "# Return all remaining rows\n",
    "cur.fetchall()"
   ]
  },
  {
   "cell_type": "markdown",
   "metadata": {},
   "source": [
    "## Delete the table"
   ]
  },
  {
   "cell_type": "code",
   "execution_count": null,
   "metadata": {
    "ExecuteTime": {
     "end_time": "2016-09-08T13:13:00.977354",
     "start_time": "2016-09-08T13:13:00.940236"
    },
    "collapsed": true
   },
   "outputs": [],
   "source": [
    "cur.execute(\"DROP TABLE alphabet;\")\n",
    "conn.commit()"
   ]
  },
  {
   "cell_type": "markdown",
   "metadata": {},
   "source": [
    "## Cleanup"
   ]
  },
  {
   "cell_type": "code",
   "execution_count": null,
   "metadata": {
    "ExecuteTime": {
     "end_time": "2016-09-08T13:13:01.006768",
     "start_time": "2016-09-08T13:13:00.982245"
    },
    "collapsed": true
   },
   "outputs": [],
   "source": [
    "cur.close()  # Close the cursor\n",
    "conn.close() # Close the connection"
   ]
  },
  {
   "cell_type": "code",
   "execution_count": null,
   "metadata": {
    "collapsed": true
   },
   "outputs": [],
   "source": []
  }
 ],
 "metadata": {
  "kernelspec": {
   "display_name": "Python 2",
   "language": "python",
   "name": "python2"
  },
  "language_info": {
   "codemirror_mode": {
    "name": "ipython",
    "version": 2
   },
   "file_extension": ".py",
   "mimetype": "text/x-python",
   "name": "python",
   "nbconvert_exporter": "python",
   "pygments_lexer": "ipython2",
   "version": "2.7.11"
  }
 },
 "nbformat": 4,
 "nbformat_minor": 0
}
