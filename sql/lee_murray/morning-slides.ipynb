{
 "cells": [
  {
   "cell_type": "markdown",
   "metadata": {
    "slideshow": {
     "slide_type": "slide"
    }
   },
   "source": [
    "#SQL"
   ]
  },
  {
   "cell_type": "markdown",
   "metadata": {
    "slideshow": {
     "slide_type": "slide"
    }
   },
   "source": [
    "##goals\n",
    "\n",
    "-  basic understanding of RDBMS and SQL \n",
    "    - RDBMS (Relational Database Management System)\n",
    "    - SQL (Structured Query Language)\n",
    "-  general idea of how to construct a database in postgres\n",
    "-  how to extract data from a RDBMS using SQL"
   ]
  },
  {
   "cell_type": "markdown",
   "metadata": {
    "slideshow": {
     "slide_type": "slide"
    }
   },
   "source": [
    "## why learn RDBMS/SQL\n",
    "\n",
    "-  SQL is everywhere\n",
    "-  noSQL systems often rely on concepts/terminology from SQL\n",
    "-  you will be using SQL in the future\n",
    "-  efficient storage and retrieval of data is hard"
   ]
  },
  {
   "cell_type": "markdown",
   "metadata": {
    "slideshow": {
     "slide_type": "slide"
    }
   },
   "source": [
    "##what are these things anyway\n",
    "\n",
    "- RDBMS manage databases\n",
    "- databases are defined by a schema\n",
    "- databases are composed of tables\n",
    "- tables have rows and columns\n",
    "\n"
   ]
  },
  {
   "cell_type": "markdown",
   "metadata": {
    "slideshow": {
     "slide_type": "fragment"
    }
   },
   "source": [
    "```sql\n",
    "CREATE TABLE CUSTOMERS (\n",
    "    id INTEGER PRIMARY KEY\n",
    ",   name VARCHAR(50)\n",
    ",   age INTEGER\n",
    ",   city VARCHAR(255)\n",
    ",   state VARCHAR(2));\n",
    "```"
   ]
  },
  {
   "cell_type": "markdown",
   "metadata": {
    "slideshow": {
     "slide_type": "fragment"
    }
   },
   "source": [
    "\n",
    "```\n",
    " id | name  | age |     city      | state\n",
    "----+-------+-----+---------------+-------\n",
    "  1 | john  |  25 | San Francisco | CA\n",
    "  2 | becky |  30 | NYC           | NY\n",
    "  3 | sarah |  20 | Denver        | CO\n",
    "... | \n",
    "```"
   ]
  },
  {
   "cell_type": "markdown",
   "metadata": {
    "slideshow": {
     "slide_type": "slide"
    }
   },
   "source": [
    "##relationships\n",
    "\n",
    "- we can model relationships in the data\n",
    "\n",
    "```sql\n",
    "CREATE TABLE VISITS (\n",
    "  id INTEGER PRIMARY KEY\n",
    ",  created_at TIMESTAMP\n",
    ",  customer_id INTEGER REFERENCES customers(id) );\n",
    "```\n"
   ]
  },
  {
   "cell_type": "markdown",
   "metadata": {
    "slideshow": {
     "slide_type": "fragment"
    }
   },
   "source": [
    "```\n",
    " id |     created_at      | customer_id\n",
    "----+---------------------+-------------\n",
    "  1 | 2015-06-20 00:00:00 |           1\n",
    "  2 | 2015-07-30 00:00:00 |           1\n",
    "  3 | 2015-06-20 00:00:00 |           3\n",
    "  4 | 2015-04-09 00:00:00 |           1\n",
    "  5 | 2015-03-09 00:00:00 |           2\n",
    "... | \n",
    "```"
   ]
  },
  {
   "cell_type": "markdown",
   "metadata": {
    "slideshow": {
     "slide_type": "slide"
    }
   },
   "source": [
    "## what do you mean relationships\n",
    "\n",
    "-  by inserting foreign keys into tables you can link information\n",
    "-  there are 3 categories of relationships\n",
    "    -  one-to-one\n",
    "    -  one-to-many\n",
    "    -  many-to-many"
   ]
  },
  {
   "cell_type": "markdown",
   "metadata": {
    "slideshow": {
     "slide_type": "slide"
    }
   },
   "source": [
    "## one-to-one\n",
    "-  the foreign key is on either side of the relationship\n",
    "-  each item only exists once in each tabl\n",
    "-  could be modeled by adding a new column to the table \n",
    "    -  why might you not want to do this?"
   ]
  },
  {
   "cell_type": "markdown",
   "metadata": {
    "slideshow": {
     "slide_type": "slide"
    }
   },
   "source": [
    "```sql\n",
    "CREATE TABLE LICENSES (\n",
    "  id INTEGER PRIMARY KEY\n",
    ", state VARCHAR(2)\n",
    ", number VARCHAR(20)\n",
    ", uploaded_at TIMESTAMP\n",
    ", customer_id INTEGER REFERENCES customers(id)\n",
    ", UNIQUE(state, number))\n",
    "```"
   ]
  },
  {
   "cell_type": "markdown",
   "metadata": {
    "slideshow": {
     "slide_type": "fragment"
    }
   },
   "source": [
    "\n",
    "```sql\n",
    "SELECT * FROM licenses;\n",
    "```"
   ]
  },
  {
   "cell_type": "markdown",
   "metadata": {
    "slideshow": {
     "slide_type": "fragment"
    }
   },
   "source": [
    "```\n",
    " id | state |   number   |     uploaded_at     | customer_id\n",
    "----+-------+------------+---------------------+-------------\n",
    "  1 | CO    | DL19480284 | 2013-04-18 00:00:00 |           3\n",
    "  2 | CA    | DL19852984 | 2014-05-12 00:00:00 |           1\n",
    "```"
   ]
  },
  {
   "cell_type": "markdown",
   "metadata": {
    "slideshow": {
     "slide_type": "skip"
    }
   },
   "source": [
    "\n",
    "```sql\n",
    "SELECT *\n",
    "FROM licenses\n",
    "WHERE customer_id=?\n",
    "LIMIT 1\n",
    "```"
   ]
  },
  {
   "cell_type": "markdown",
   "metadata": {
    "slideshow": {
     "slide_type": "slide"
    }
   },
   "source": [
    "##one-to-many\n",
    "\n",
    "-  here the foreign key goes on the many side of the relationship\n"
   ]
  },
  {
   "cell_type": "markdown",
   "metadata": {
    "slideshow": {
     "slide_type": "fragment"
    }
   },
   "source": [
    "```sql\n",
    "CREATE TABLE VISITS (\n",
    "  id INTEGER PRIMARY KEY\n",
    ",  created_at TIMESTAMP\n",
    ",  customer_id INTEGER REFERENCES customers(id) );\n",
    "```"
   ]
  },
  {
   "cell_type": "markdown",
   "metadata": {
    "slideshow": {
     "slide_type": "fragment"
    }
   },
   "source": [
    "```sql\n",
    "SELECT *\n",
    "FROM visits\n",
    "WHERE customer_id=?\n",
    "```"
   ]
  },
  {
   "cell_type": "markdown",
   "metadata": {
    "slideshow": {
     "slide_type": "skip"
    }
   },
   "source": [
    "```sql\n",
    "SELECT *\n",
    "FROM customers\n",
    "WHERE id=?\n",
    "LIMIT 1\n",
    "```"
   ]
  },
  {
   "cell_type": "markdown",
   "metadata": {
    "slideshow": {
     "slide_type": "slide"
    }
   },
   "source": [
    "## many-to-many\n",
    "\n",
    "- create a table which holds two foreign keys, one for each side of relationship\n"
   ]
  },
  {
   "cell_type": "markdown",
   "metadata": {
    "slideshow": {
     "slide_type": "fragment"
    }
   },
   "source": [
    "```sql\n",
    "CREATE TABLE PRODUCTS (\n",
    "  id INTEGER PRIMARY KEY\n",
    ", name VARCHAR(50)\n",
    ", price FLOAT\n",
    "  );\n",
    "```"
   ]
  },
  {
   "cell_type": "markdown",
   "metadata": {
    "slideshow": {
     "slide_type": "fragment"
    }
   },
   "source": [
    "```sql\n",
    "CREATE TABLE PURCHASES (\n",
    "  \tid INTEGER PRIMARY KEY\n",
    ",   customer_id INTEGER REFERENCES customers(id)\n",
    ",   product_id INTEGER REFERENCES products(id)\n",
    ",   date TIMESTAMP\n",
    ",   quantity INTEGER );\n",
    "```"
   ]
  },
  {
   "cell_type": "markdown",
   "metadata": {
    "slideshow": {
     "slide_type": "slide"
    }
   },
   "source": [
    "## normalization\n",
    "\n",
    "- we want to minimize redundancy\n",
    "- doing this requires making lots of tables\n",
    "- this makes queires harder to write and potentially longer to execute\n",
    "- can make database structure harder to follow"
   ]
  },
  {
   "cell_type": "markdown",
   "metadata": {
    "slideshow": {
     "slide_type": "slide"
    }
   },
   "source": [
    "##queries\n",
    "\n",
    "- SQL is how you query relational databases\n",
    "- SQL queries are declarative\n",
    "    - you tell computer what you want, not how to do it\n",
    "    - specify the information you want using clauses\n",
    "    - clauses are combinations of keywords and identifiers\n",
    "    \n",
    "\n",
    "```sql\n",
    "    SELECT name, age \n",
    "    FROM customers;\n",
    "```\n"
   ]
  },
  {
   "cell_type": "markdown",
   "metadata": {
    "slideshow": {
     "slide_type": "slide"
    }
   },
   "source": [
    "##keywords\n",
    "\n",
    "\n",
    "- SELECT\n",
    "    - FROM\n",
    "    - WHERE\n",
    "- JOIN\n",
    "    - ON\n",
    "- GROUP BY\n",
    "    - SUM\n",
    "    - COUNT\n",
    "    - HAVING\n",
    "- ORDER BY\n",
    "- LIMIT\n",
    "- the query does not specify the order of operations"
   ]
  },
  {
   "cell_type": "markdown",
   "metadata": {
    "slideshow": {
     "slide_type": "slide"
    }
   },
   "source": [
    "##order of operations\n",
    "\n",
    "- FROM, JOIN, construct the table results will be returned from\n",
    "- WHERE filters rows in this table \n",
    "- GROUP BY, and aggregations, are performed on the filtered table\n",
    "- HAVING filters after aggregations have been performed\n",
    "- SELECT gets the desired columns from the table\n",
    "- ORDER BY sorts the final results"
   ]
  },
  {
   "cell_type": "markdown",
   "metadata": {
    "slideshow": {
     "slide_type": "slide"
    }
   },
   "source": [
    "##joins\n",
    "\n",
    "- joins combine multiple tables together\n",
    "    - tables can be joined to themselves\n",
    "- joins require a matching conditions\n",
    "- the ON keyword specifies that condition\n",
    "    "
   ]
  },
  {
   "cell_type": "markdown",
   "metadata": {
    "slideshow": {
     "slide_type": "slide"
    }
   },
   "source": [
    "##inner join\n",
    "\n",
    "- return results where both tables have non-null entries\n",
    "\n",
    "![inner_join](https://cloud.githubusercontent.com/assets/1425450/9778836/9f669cae-572a-11e5-9c96-98b59a930b7d.png)"
   ]
  },
  {
   "cell_type": "markdown",
   "metadata": {
    "slideshow": {
     "slide_type": "slide"
    }
   },
   "source": [
    "##null values\n",
    "\n",
    "- empty values in the table return NULL\n",
    "- SQL uses a 3-level logic system with NULL, FALSE, TRUE\n",
    "    - there are disputes about this\n",
    "    - the implementation of this logic system is inconsistant\n",
    "- primary keys can never be NULL\n",
    "- can specify no NULL values for other columns as well"
   ]
  },
  {
   "cell_type": "markdown",
   "metadata": {
    "slideshow": {
     "slide_type": "slide"
    }
   },
   "source": [
    "##left and right joins\n",
    "\n",
    "- left/right joins keep all of one table in the join\n",
    "![left_join](https://cloud.githubusercontent.com/assets/1425450/9778839/9f69bbd2-572a-11e5-9b13-7b2c2d7a04fb.png)\n",
    "![right_join](https://cloud.githubusercontent.com/assets/1425450/9779109/19ace62e-572d-11e5-9868-17a9a7e3440f.png)\n"
   ]
  },
  {
   "cell_type": "markdown",
   "metadata": {
    "slideshow": {
     "slide_type": "slide"
    }
   },
   "source": [
    "## full outer join\n",
    "![full_outer_join](https://cloud.githubusercontent.com/assets/1425450/9778837/9f66b90a-572a-11e5-9d29-2b6c817cc7ec.png)"
   ]
  }
 ],
 "metadata": {
  "celltoolbar": "Slideshow",
  "kernelspec": {
   "display_name": "Python 2",
   "language": "python",
   "name": "python2"
  },
  "language_info": {
   "codemirror_mode": {
    "name": "ipython",
    "version": 2
   },
   "file_extension": ".py",
   "mimetype": "text/x-python",
   "name": "python",
   "nbconvert_exporter": "python",
   "pygments_lexer": "ipython2",
   "version": "2.7.11"
  }
 },
 "nbformat": 4,
 "nbformat_minor": 0
}
