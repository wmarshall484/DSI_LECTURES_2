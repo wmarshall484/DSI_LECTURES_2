{
 "metadata": {
  "kernelspec": {
   "display_name": "Python 2",
   "language": "python",
   "name": "python2"
  },
  "language_info": {
   "codemirror_mode": {
    "name": "ipython",
    "version": 2
   },
   "file_extension": ".py",
   "mimetype": "text/x-python",
   "name": "python",
   "nbconvert_exporter": "python",
   "pygments_lexer": "ipython2",
   "version": "2.7.11"
  },
  "name": "",
  "signature": "sha256:c9c190a91009d305a26d30ac15914bf3be4a42f61c07b7cb72fa8f51c5b7bf8a"
 },
 "nbformat": 3,
 "nbformat_minor": 0,
 "worksheets": [
  {
   "cells": [
    {
     "cell_type": "markdown",
     "metadata": {},
     "source": [
      "(This notebook is based off Zach Alexander's, with some minor modifications.)"
     ]
    },
    {
     "cell_type": "code",
     "collapsed": false,
     "input": [
      "import numpy as np\n",
      "import pandas as pd\n",
      "%pylab inline"
     ],
     "language": "python",
     "metadata": {},
     "outputs": [
      {
       "output_type": "stream",
       "stream": "stdout",
       "text": [
        "Populating the interactive namespace from numpy and matplotlib\n"
       ]
      }
     ],
     "prompt_number": 1
    },
    {
     "cell_type": "heading",
     "level": 2,
     "metadata": {},
     "source": [
      "Exploratory Data Analysis"
     ]
    },
    {
     "cell_type": "code",
     "collapsed": false,
     "input": [
      "cars = pd.read_csv('data/cars_multivariate.csv')"
     ],
     "language": "python",
     "metadata": {},
     "outputs": [],
     "prompt_number": 2
    },
    {
     "cell_type": "markdown",
     "metadata": {},
     "source": [
      "You just received a bunch of data... what's your first move?\n",
      "\n",
      "Start with a very high level overview\n",
      "- What do the first few rows look like?\n",
      "- What feature does each column denote?\n",
      "- Which features are categorical and what is the distribution for the categorical levels?\n",
      "- Which features are continuous and how would I characterize the distribution?\n",
      "- Are there any missing values?\n",
      "- What is the target denote? What is the target's distribution look like?\n",
      "- How does the features relate to one another?\n",
      "- How does each feature relate to the target?"
     ]
    },
    {
     "cell_type": "code",
     "collapsed": false,
     "input": [
      "cars.shape"
     ],
     "language": "python",
     "metadata": {},
     "outputs": [
      {
       "metadata": {},
       "output_type": "pyout",
       "prompt_number": 3,
       "text": [
        "(398, 9)"
       ]
      }
     ],
     "prompt_number": 3
    },
    {
     "cell_type": "code",
     "collapsed": false,
     "input": [
      "cars.head()"
     ],
     "language": "python",
     "metadata": {},
     "outputs": [
      {
       "html": [
        "<div style=\"max-width:1500px;overflow:auto;\">\n",
        "<table border=\"1\" class=\"dataframe\">\n",
        "  <thead>\n",
        "    <tr style=\"text-align: right;\">\n",
        "      <th></th>\n",
        "      <th>mpg</th>\n",
        "      <th>cylinders</th>\n",
        "      <th>displacement</th>\n",
        "      <th>horsepower</th>\n",
        "      <th>weight</th>\n",
        "      <th>acceleration</th>\n",
        "      <th>model</th>\n",
        "      <th>origin</th>\n",
        "      <th>car_name</th>\n",
        "    </tr>\n",
        "  </thead>\n",
        "  <tbody>\n",
        "    <tr>\n",
        "      <th>0</th>\n",
        "      <td>18</td>\n",
        "      <td>8</td>\n",
        "      <td>307</td>\n",
        "      <td>130.0</td>\n",
        "      <td>3504</td>\n",
        "      <td>12.0</td>\n",
        "      <td>70</td>\n",
        "      <td>1</td>\n",
        "      <td>chevrolet chevelle malibu</td>\n",
        "    </tr>\n",
        "    <tr>\n",
        "      <th>1</th>\n",
        "      <td>15</td>\n",
        "      <td>8</td>\n",
        "      <td>350</td>\n",
        "      <td>165.0</td>\n",
        "      <td>3693</td>\n",
        "      <td>11.5</td>\n",
        "      <td>70</td>\n",
        "      <td>1</td>\n",
        "      <td>buick skylark 320</td>\n",
        "    </tr>\n",
        "    <tr>\n",
        "      <th>2</th>\n",
        "      <td>18</td>\n",
        "      <td>8</td>\n",
        "      <td>318</td>\n",
        "      <td>150.0</td>\n",
        "      <td>3436</td>\n",
        "      <td>11.0</td>\n",
        "      <td>70</td>\n",
        "      <td>1</td>\n",
        "      <td>plymouth satellite</td>\n",
        "    </tr>\n",
        "    <tr>\n",
        "      <th>3</th>\n",
        "      <td>16</td>\n",
        "      <td>8</td>\n",
        "      <td>304</td>\n",
        "      <td>150.0</td>\n",
        "      <td>3433</td>\n",
        "      <td>12.0</td>\n",
        "      <td>70</td>\n",
        "      <td>1</td>\n",
        "      <td>amc rebel sst</td>\n",
        "    </tr>\n",
        "    <tr>\n",
        "      <th>4</th>\n",
        "      <td>17</td>\n",
        "      <td>8</td>\n",
        "      <td>302</td>\n",
        "      <td>140.0</td>\n",
        "      <td>3449</td>\n",
        "      <td>10.5</td>\n",
        "      <td>70</td>\n",
        "      <td>1</td>\n",
        "      <td>ford torino</td>\n",
        "    </tr>\n",
        "  </tbody>\n",
        "</table>\n",
        "</div>"
       ],
       "metadata": {},
       "output_type": "pyout",
       "prompt_number": 4,
       "text": [
        "   mpg  cylinders  displacement horsepower  weight  acceleration  model  \\\n",
        "0   18          8           307      130.0    3504          12.0     70   \n",
        "1   15          8           350      165.0    3693          11.5     70   \n",
        "2   18          8           318      150.0    3436          11.0     70   \n",
        "3   16          8           304      150.0    3433          12.0     70   \n",
        "4   17          8           302      140.0    3449          10.5     70   \n",
        "\n",
        "   origin                   car_name  \n",
        "0       1  chevrolet chevelle malibu  \n",
        "1       1          buick skylark 320  \n",
        "2       1         plymouth satellite  \n",
        "3       1              amc rebel sst  \n",
        "4       1                ford torino  "
       ]
      }
     ],
     "prompt_number": 4
    },
    {
     "cell_type": "code",
     "collapsed": false,
     "input": [
      "cars.describe()"
     ],
     "language": "python",
     "metadata": {},
     "outputs": [
      {
       "html": [
        "<div style=\"max-width:1500px;overflow:auto;\">\n",
        "<table border=\"1\" class=\"dataframe\">\n",
        "  <thead>\n",
        "    <tr style=\"text-align: right;\">\n",
        "      <th></th>\n",
        "      <th>mpg</th>\n",
        "      <th>cylinders</th>\n",
        "      <th>displacement</th>\n",
        "      <th>weight</th>\n",
        "      <th>acceleration</th>\n",
        "      <th>model</th>\n",
        "      <th>origin</th>\n",
        "    </tr>\n",
        "  </thead>\n",
        "  <tbody>\n",
        "    <tr>\n",
        "      <th>count</th>\n",
        "      <td>398.000000</td>\n",
        "      <td>398.000000</td>\n",
        "      <td>398.000000</td>\n",
        "      <td>398.000000</td>\n",
        "      <td>398.000000</td>\n",
        "      <td>398.000000</td>\n",
        "      <td>398.000000</td>\n",
        "    </tr>\n",
        "    <tr>\n",
        "      <th>mean</th>\n",
        "      <td>23.514573</td>\n",
        "      <td>5.454774</td>\n",
        "      <td>193.425879</td>\n",
        "      <td>2970.424623</td>\n",
        "      <td>15.568090</td>\n",
        "      <td>76.010050</td>\n",
        "      <td>1.572864</td>\n",
        "    </tr>\n",
        "    <tr>\n",
        "      <th>std</th>\n",
        "      <td>7.815984</td>\n",
        "      <td>1.701004</td>\n",
        "      <td>104.269838</td>\n",
        "      <td>846.841774</td>\n",
        "      <td>2.757689</td>\n",
        "      <td>3.697627</td>\n",
        "      <td>0.802055</td>\n",
        "    </tr>\n",
        "    <tr>\n",
        "      <th>min</th>\n",
        "      <td>9.000000</td>\n",
        "      <td>3.000000</td>\n",
        "      <td>68.000000</td>\n",
        "      <td>1613.000000</td>\n",
        "      <td>8.000000</td>\n",
        "      <td>70.000000</td>\n",
        "      <td>1.000000</td>\n",
        "    </tr>\n",
        "    <tr>\n",
        "      <th>25%</th>\n",
        "      <td>17.500000</td>\n",
        "      <td>4.000000</td>\n",
        "      <td>104.250000</td>\n",
        "      <td>2223.750000</td>\n",
        "      <td>13.825000</td>\n",
        "      <td>73.000000</td>\n",
        "      <td>1.000000</td>\n",
        "    </tr>\n",
        "    <tr>\n",
        "      <th>50%</th>\n",
        "      <td>23.000000</td>\n",
        "      <td>4.000000</td>\n",
        "      <td>148.500000</td>\n",
        "      <td>2803.500000</td>\n",
        "      <td>15.500000</td>\n",
        "      <td>76.000000</td>\n",
        "      <td>1.000000</td>\n",
        "    </tr>\n",
        "    <tr>\n",
        "      <th>75%</th>\n",
        "      <td>29.000000</td>\n",
        "      <td>8.000000</td>\n",
        "      <td>262.000000</td>\n",
        "      <td>3608.000000</td>\n",
        "      <td>17.175000</td>\n",
        "      <td>79.000000</td>\n",
        "      <td>2.000000</td>\n",
        "    </tr>\n",
        "    <tr>\n",
        "      <th>max</th>\n",
        "      <td>46.600000</td>\n",
        "      <td>8.000000</td>\n",
        "      <td>455.000000</td>\n",
        "      <td>5140.000000</td>\n",
        "      <td>24.800000</td>\n",
        "      <td>82.000000</td>\n",
        "      <td>3.000000</td>\n",
        "    </tr>\n",
        "  </tbody>\n",
        "</table>\n",
        "</div>"
       ],
       "metadata": {},
       "output_type": "pyout",
       "prompt_number": 5,
       "text": [
        "              mpg   cylinders  displacement       weight  acceleration  \\\n",
        "count  398.000000  398.000000    398.000000   398.000000    398.000000   \n",
        "mean    23.514573    5.454774    193.425879  2970.424623     15.568090   \n",
        "std      7.815984    1.701004    104.269838   846.841774      2.757689   \n",
        "min      9.000000    3.000000     68.000000  1613.000000      8.000000   \n",
        "25%     17.500000    4.000000    104.250000  2223.750000     13.825000   \n",
        "50%     23.000000    4.000000    148.500000  2803.500000     15.500000   \n",
        "75%     29.000000    8.000000    262.000000  3608.000000     17.175000   \n",
        "max     46.600000    8.000000    455.000000  5140.000000     24.800000   \n",
        "\n",
        "            model      origin  \n",
        "count  398.000000  398.000000  \n",
        "mean    76.010050    1.572864  \n",
        "std      3.697627    0.802055  \n",
        "min     70.000000    1.000000  \n",
        "25%     73.000000    1.000000  \n",
        "50%     76.000000    1.000000  \n",
        "75%     79.000000    2.000000  \n",
        "max     82.000000    3.000000  "
       ]
      }
     ],
     "prompt_number": 5
    },
    {
     "cell_type": "code",
     "collapsed": false,
     "input": [
      "cars.info()"
     ],
     "language": "python",
     "metadata": {
      "scrolled": true
     },
     "outputs": [
      {
       "output_type": "stream",
       "stream": "stdout",
       "text": [
        "<class 'pandas.core.frame.DataFrame'>\n",
        "Int64Index: 398 entries, 0 to 397\n",
        "Data columns (total 9 columns):\n",
        "mpg             398 non-null float64\n",
        "cylinders       398 non-null int64\n",
        "displacement    398 non-null float64\n",
        "horsepower      398 non-null object\n",
        "weight          398 non-null float64\n",
        "acceleration    398 non-null float64\n",
        "model           398 non-null int64\n",
        "origin          398 non-null int64\n",
        "car_name        398 non-null object\n",
        "dtypes: float64(4), int64(3), object(2)\n",
        "memory usage: 31.1+ KB\n"
       ]
      }
     ],
     "prompt_number": 6
    },
    {
     "cell_type": "markdown",
     "metadata": {},
     "source": [
      "Do the variable types make sense? Notice that HP has variable type 'object' - this doesn't seem right."
     ]
    },
    {
     "cell_type": "code",
     "collapsed": false,
     "input": [
      "cars['horsepower'].tail()"
     ],
     "language": "python",
     "metadata": {},
     "outputs": [],
     "prompt_number": null
    },
    {
     "cell_type": "markdown",
     "metadata": {},
     "source": [
      "All the values that we can see look like numbers. If they were all numbers, Pandas should have figured out the correct data type---there must be a weird value in there somewhere"
     ]
    },
    {
     "cell_type": "code",
     "collapsed": false,
     "input": [
      "# Force convert horsepower to numeric\n",
      "conv = pd.to_numeric(cars['horsepower'], 'coerce')\n",
      "conv"
     ],
     "language": "python",
     "metadata": {},
     "outputs": [],
     "prompt_number": null
    },
    {
     "cell_type": "code",
     "collapsed": false,
     "input": [
      "# Check out the bad values\n",
      "cars.ix[conv.isnull(),:]"
     ],
     "language": "python",
     "metadata": {},
     "outputs": [],
     "prompt_number": null
    },
    {
     "cell_type": "code",
     "collapsed": false,
     "input": [
      "# Reload the data, but tell pandas to treat '?' as missing\n",
      "cars = pd.read_csv('data/cars_multivariate.csv', na_values=['?'])\n",
      "cars.info()"
     ],
     "language": "python",
     "metadata": {},
     "outputs": [],
     "prompt_number": null
    },
    {
     "cell_type": "code",
     "collapsed": false,
     "input": [
      "# Let's just drop those rows\n",
      "cars = cars.ix[cars.horsepower.notnull(), :]\n",
      "cars.info()"
     ],
     "language": "python",
     "metadata": {},
     "outputs": [],
     "prompt_number": null
    },
    {
     "cell_type": "code",
     "collapsed": false,
     "input": [
      "# What about origin? model?\n",
      "cars.origin.value_counts()\n",
      "# cars['model'].value_counts()"
     ],
     "language": "python",
     "metadata": {},
     "outputs": [],
     "prompt_number": null
    },
    {
     "cell_type": "code",
     "collapsed": false,
     "input": [
      "cars['origin'] = cars['origin'].astype(str)\n",
      "cars['model'] = cars['model'].astype(str)\n",
      "cars.info()"
     ],
     "language": "python",
     "metadata": {},
     "outputs": [],
     "prompt_number": null
    },
    {
     "cell_type": "markdown",
     "metadata": {},
     "source": [
      "Our data set has 5-6 numeric variables and 3-4 categorical variables (cylinders is kind of a wild card). Sometimes it is good to keep track of these:"
     ]
    },
    {
     "cell_type": "code",
     "collapsed": true,
     "input": [
      "num_vars = ['mpg','cylinders','displacement','horsepower','weight','acceleration']\n",
      "cat_vars = ['model', 'origin', 'car_name']"
     ],
     "language": "python",
     "metadata": {},
     "outputs": [],
     "prompt_number": null
    },
    {
     "cell_type": "heading",
     "level": 2,
     "metadata": {},
     "source": [
      "More Exploration"
     ]
    },
    {
     "cell_type": "heading",
     "level": 3,
     "metadata": {},
     "source": [
      "Univariate-Numeric Viz"
     ]
    },
    {
     "cell_type": "code",
     "collapsed": false,
     "input": [
      "# Histograms\n",
      "ax = cars[num_vars].hist(bins=10)\n",
      "plt.tight_layout()"
     ],
     "language": "python",
     "metadata": {},
     "outputs": [],
     "prompt_number": null
    },
    {
     "cell_type": "code",
     "collapsed": false,
     "input": [
      "# Boxplots - visualize the minimum, first quartile, median, third quartile, and maximum\n",
      "cars[num_vars].plot(kind='box')"
     ],
     "language": "python",
     "metadata": {
      "scrolled": true
     },
     "outputs": [],
     "prompt_number": null
    },
    {
     "cell_type": "code",
     "collapsed": false,
     "input": [
      "# To better visualize the boxplots, let's plot them one at a time.\n",
      "fig, axes = plt.subplots(3,2)\n",
      "for ax, var in zip(axes.ravel(), num_vars):\n",
      "    ax.boxplot(cars[var])\n",
      "    ax.set_title(var)\n",
      "plt.tight_layout()"
     ],
     "language": "python",
     "metadata": {},
     "outputs": [],
     "prompt_number": null
    },
    {
     "cell_type": "heading",
     "level": 3,
     "metadata": {},
     "source": [
      "Univariate - Categorical"
     ]
    },
    {
     "cell_type": "code",
     "collapsed": false,
     "input": [
      "# Categorical\n",
      "agg = cars.groupby('origin').apply(len)\n",
      "agg.plot(kind='bar').set_ylabel('len(origin), aka frequency')"
     ],
     "language": "python",
     "metadata": {},
     "outputs": [],
     "prompt_number": null
    },
    {
     "cell_type": "code",
     "collapsed": false,
     "input": [
      "# Categorical vs Numeric\n",
      "agg = cars.groupby('origin')['mpg'].mean()\n",
      "agg.plot(kind='bar').set_ylabel('average mpg')"
     ],
     "language": "python",
     "metadata": {},
     "outputs": [],
     "prompt_number": null
    },
    {
     "cell_type": "code",
     "collapsed": false,
     "input": [
      "# Categorical vs categorical vs numeric\n",
      "agg = cars.groupby(['origin','cylinders'])['mpg'].mean()\n",
      "print agg\n",
      "agg = agg.unstack(level='cylinders')\n",
      "print agg\n",
      "fig, ax = plt.subplots(1, 1, figsize=(10, 4))\n",
      "agg.plot(kind='bar', ax=ax).set_ylabel('average mpg')"
     ],
     "language": "python",
     "metadata": {},
     "outputs": [],
     "prompt_number": null
    },
    {
     "cell_type": "heading",
     "level": 3,
     "metadata": {},
     "source": [
      "Numeric vs Numeric"
     ]
    },
    {
     "cell_type": "code",
     "collapsed": false,
     "input": [
      "# Scatterplot matrix\n",
      "from pandas.tools.plotting import scatter_matrix\n",
      "fig, ax = plt.subplots(1, 1, figsize=(10, 10))\n",
      "ax = scatter_matrix(cars[num_vars], ax=ax, diagonal='kde')"
     ],
     "language": "python",
     "metadata": {},
     "outputs": [],
     "prompt_number": null
    },
    {
     "cell_type": "code",
     "collapsed": false,
     "input": [
      "# Use binning to see relationships more clearly\n",
      "cars['binned_acceleration'] = pd.cut(cars.acceleration, bins=7)\n",
      "agg = cars.groupby('binned_acceleration')['mpg'].mean()\n",
      "agg.plot(kind='bar').set_ylabel('average mpg')"
     ],
     "language": "python",
     "metadata": {},
     "outputs": [],
     "prompt_number": null
    },
    {
     "cell_type": "code",
     "collapsed": false,
     "input": [
      "# Scatter plot by category\n",
      "origins = cars['origin'].unique()\n",
      "for origin in origins:\n",
      "    plt.plot(cars.loc[cars.origin==origin,'acceleration'], \n",
      "             cars.loc[cars.origin==origin,'mpg'], \n",
      "             linestyle='',\n",
      "             marker='o',\n",
      "             alpha=.7,\n",
      "             label=\"origin=\"+origin)\n",
      "plt.xlabel('acceleration')\n",
      "plt.ylabel('mpg')\n",
      "plt.legend(numpoints=1)"
     ],
     "language": "python",
     "metadata": {},
     "outputs": [],
     "prompt_number": null
    },
    {
     "cell_type": "code",
     "collapsed": false,
     "input": [
      "# Categorical vs Categorical\n",
      "pd.crosstab(cars['origin'], cars['model'])"
     ],
     "language": "python",
     "metadata": {},
     "outputs": [],
     "prompt_number": null
    },
    {
     "cell_type": "markdown",
     "metadata": {},
     "source": [
      "Aha! Model means model year --- we probably should have left this as numeric"
     ]
    },
    {
     "cell_type": "code",
     "collapsed": false,
     "input": [
      "# Heat-map\n",
      "import seaborn as sns\n",
      "\n",
      "agg = cars.groupby(['origin','model'])['mpg'].mean()\n",
      "ax = sns.heatmap(agg.unstack(level='model'), annot=True)\n",
      "ax.set_title('MPG by origin and model year')"
     ],
     "language": "python",
     "metadata": {},
     "outputs": [],
     "prompt_number": null
    },
    {
     "cell_type": "heading",
     "level": 2,
     "metadata": {},
     "source": [
      "Linear Regression"
     ]
    },
    {
     "cell_type": "code",
     "collapsed": false,
     "input": [
      "# Single variable regression\n",
      "cars.plot('weight','mpg',kind='scatter')"
     ],
     "language": "python",
     "metadata": {},
     "outputs": [],
     "prompt_number": null
    },
    {
     "cell_type": "markdown",
     "metadata": {},
     "source": [
      "Linear regression is just the fancy term for finding the line of best fit. If I was going to eyeball it from this data, I would draw the line from (1000,40) through (5500,5).\n",
      "\n",
      "In other words, we are looking for the slope and intercept that defines a line that fits the data as well as possible.\n",
      "\n",
      "'As well as possible' means that we are trying to minimize the mean-squared-error"
     ]
    },
    {
     "cell_type": "code",
     "collapsed": false,
     "input": [
      "# Make a guess at the line of best fit\n",
      "first_point = [1000,45]\n",
      "second_point = [5500, 0]\n",
      "\n",
      "# Solve \n",
      "def get_line_equation(p1, p2):\n",
      "    \"\"\"\n",
      "    Solve the system of equations:\n",
      "    y1 = m*x1 + b\n",
      "    y2 = m*x2 + b\n",
      "    \n",
      "    Input:\n",
      "    p1: first point [x1, y1]\n",
      "    p2: second point [x2, y2]\n",
      "    \n",
      "    returns: slope, intercept\n",
      "    \"\"\"\n",
      "    X = [[p1[0], 1], [p2[0], 1]]\n",
      "    y = [[p1[1]], [p2[1]]]\n",
      "    soln = np.linalg.solve(X,y)\n",
      "    return  soln[0][0], soln[1][0]\n",
      "\n",
      "slope, intercept = get_line_equation(first_point, second_point)\n",
      "\n",
      "print slope, intercept\n",
      "\n",
      "# Plot the line along with the data\n",
      "ax = cars.plot('weight','mpg',kind='scatter')\n",
      "xx = np.linspace(1000, 5500, 100)\n",
      "ax.plot(xx, xx*slope + intercept, color='red', lw=3)\n",
      "ax.set_xlim([1000,5500])"
     ],
     "language": "python",
     "metadata": {},
     "outputs": [],
     "prompt_number": null
    },
    {
     "cell_type": "markdown",
     "metadata": {},
     "source": [
      "How can we measure the error? The typical choice is to use mean squared error. The error for a given data point is the difference between the observed value and the predicted value\n",
      "$$\n",
      "MSE := \\frac{1}{n} \\sum_{i=1}^n (y_i - (mx_i + b))^2\n",
      "$$\n"
     ]
    },
    {
     "cell_type": "code",
     "collapsed": false,
     "input": [
      "# Mean Squared Error\n",
      "\n",
      "def mean_squared_error(X, y, m, b):\n",
      "    \"\"\"\n",
      "    Compute the mean squared error, on the data (X,y), \n",
      "    of the model defined by slope m, and intercept b.\n",
      "    \"\"\"\n",
      "    pred = X*m + b\n",
      "    error = y - pred\n",
      "    mse = np.mean(error**2)\n",
      "    return mse\n",
      "\n",
      "mean_squared_error(cars['weight'], cars['mpg'], slope, intercept)"
     ],
     "language": "python",
     "metadata": {},
     "outputs": [],
     "prompt_number": null
    },
    {
     "cell_type": "markdown",
     "metadata": {},
     "source": [
      "## R-Squared\n",
      "\n",
      "Mean squared error is a good error metric, but it is not comparable across different data sets. For this we use a scaled version called $R^2$. \n",
      "\\begin{align}\n",
      "    R^2 &:= 1 - \\frac{SS_{res}}{SS_{tot}} \\\\\n",
      "    &= 1 - \\frac{\\sum_{i=1}^n (y_i - (mx_i + b))^2}{\\sum_{i=1}^n (y_i - \\bar{y})^2}\n",
      "\\end{align}    \n",
      "\n",
      "Where $SS_{res}$ is the sum of the squared residuals and $SS_{tot}$ is the total sum of squares. $R^2$ can be interpreted as the fraction of the variance in the data that is explained by the model.\n",
      "\n",
      "$R^2$ will be between 0 and 1. 0 means that your model explains none of the variance in the data, while 1 means your model explains all of the variance in the data. The higher $R^2$, the better!"
     ]
    },
    {
     "cell_type": "code",
     "collapsed": false,
     "input": [
      "# Calculate r-squared\n",
      "\n",
      "def r_squared(X, y, m, b):\n",
      "    \"\"\"\n",
      "    Compute the r-squared, on the data (X,y), \n",
      "    of the model defined by slope m, and intercept b.\n",
      "    \"\"\"\n",
      "    pred = X*m + b\n",
      "    resid = y - pred\n",
      "    rsquared = 1 - np.sum(resid**2)/np.sum((y-y.mean())**2)\n",
      "    return rsquared\n",
      "\n",
      "r_squared(cars['weight'], cars['mpg'], slope, intercept)\n",
      "    "
     ],
     "language": "python",
     "metadata": {},
     "outputs": [],
     "prompt_number": null
    },
    {
     "cell_type": "markdown",
     "metadata": {},
     "source": [
      "## Ordinary least squares\n",
      "It turns out that we can find the slope and intercept which *minimize* the mean squared error, using a procedure called ordinary least squares\n",
      "\n",
      "Ordinary least squares is implemented in the statsmodels package. The advantage of this package is that we also have access to a number of *regression diagnostics.* "
     ]
    },
    {
     "cell_type": "code",
     "collapsed": false,
     "input": [
      "import statsmodels.api as sm\n",
      "\n",
      "# Choose the predictor and add a constant term\n",
      "# (allow for an intercept)\n",
      "X = pd.DataFrame({'weight' : cars['weight']})\n",
      "X = sm.add_constant(X)\n",
      "y = cars['mpg']\n",
      "\n",
      "# Create a linear regression object\n",
      "regressor = sm.OLS(y,X)\n",
      "regressor = regressor.fit()\n",
      "regressor.summary()"
     ],
     "language": "python",
     "metadata": {},
     "outputs": [],
     "prompt_number": null
    },
    {
     "cell_type": "markdown",
     "metadata": {},
     "source": [
      "## Model Diagnostics\n",
      "\n",
      "**coef** - The values of the coefficients in the model\n",
      "\n",
      "**$P>|t|$** - The p-value of the null hypothesis that a specific parameter is zero.\n",
      "\n",
      "**R-Squared** - Proportion of variance explained by the model. Measured on a scale from 0 (bad) to 1 (good)\n",
      "\n",
      "**Prob (F-statistic)** - p-value of the F-statistic. This is the probability of the null hypothesis that *all parameters in the model are zero*"
     ]
    },
    {
     "cell_type": "code",
     "collapsed": false,
     "input": [
      "# Plot the line along with the data\n",
      "slope = -.0076\n",
      "intercept = 46.2165\n",
      "ax = cars.plot('weight','mpg',kind='scatter')\n",
      "xx = np.linspace(1000, 5500, 100)\n",
      "ax.plot(xx, xx*slope + intercept, color='red', lw=3)\n",
      "ax.set_xlim([1000,5500])"
     ],
     "language": "python",
     "metadata": {},
     "outputs": [],
     "prompt_number": null
    },
    {
     "cell_type": "markdown",
     "metadata": {},
     "source": [
      "This line is a better fit than our original guess. We can tell because its $R^2$ is higher, meaning it explains the mpg's variance better. The MSE of this fit will be lower (better) than our original guess as well."
     ]
    }
   ],
   "metadata": {}
  }
 ]
}