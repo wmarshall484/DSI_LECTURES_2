{
 "cells": [
  {
   "cell_type": "markdown",
   "metadata": {
    "slideshow": {
     "slide_type": "slide"
    }
   },
   "source": [
    "# Linear Algebra with examples using Numpy\n",
    "\n",
    "Chris Overton - adapted from version most recently by Ivan Corneillet  \n",
    "2016.09.26"
   ]
  },
  {
   "cell_type": "markdown",
   "metadata": {
    "slideshow": {
     "slide_type": "subslide"
    }
   },
   "source": [
    "# Linear Algebra with examples using Numpy\n",
    "\n",
    "Goals:\n",
    "    - Understand addition and multiplication between scalars, vectors, and matrices\n",
    "    - Understand vector norm and square matrix determinant\n",
    "    - Be able to calculate these using numpy\n",
    "    - Understand eigenvalues and eigenvectors\n",
    "    - Understand how to solve systems of linear equations using matrices"
   ]
  },
  {
   "cell_type": "markdown",
   "metadata": {
    "slideshow": {
     "slide_type": "slide"
    }
   },
   "source": [
    "## Linear Algebra and Machine Learning\n",
    "\n",
    "Linear algebra is a language. It is one of the fundamental tools to describe mathematical systems. As such, it appears everywhere."
   ]
  },
  {
   "cell_type": "markdown",
   "metadata": {
    "slideshow": {
     "slide_type": "subslide"
    }
   },
   "source": [
    "### Where can it be found in data science?\n",
    "\n",
    "* Ranking web pages in order of importance\n",
    "  * Solved as the problem of finding the eigenvector of the page score matrix\n",
    "* Dimensionality reduction - Principal Component Analysis\n",
    "* Movie recommendation\n",
    "  * Use singular value decomposition (SVD) to break down user-movie into user-feature and movie-feature matrices, keeping only the top $k$-ranks to identify the best matches\n",
    "* Topic modeling\n",
    "  * Extensive use of SVD and matrix factorization can be found in Natural Language Processing, specifically in topic modeling and semantic analysis\n",
    "* Almost any multivariate optimization"
   ]
  },
  {
   "cell_type": "markdown",
   "metadata": {
    "slideshow": {
     "slide_type": "slide"
    }
   },
   "source": [
    "## Numpy\n",
    "\n",
    "Numpy is a fast way to perform operations on arrays. Compare adding one to each element of a list with a for loop to doing it with a numpy array:"
   ]
  },
  {
   "cell_type": "code",
   "execution_count": null,
   "metadata": {
    "collapsed": true,
    "slideshow": {
     "slide_type": "subslide"
    }
   },
   "outputs": [],
   "source": [
    "import numpy as np"
   ]
  },
  {
   "cell_type": "code",
   "execution_count": 82,
   "metadata": {
    "collapsed": false,
    "slideshow": {
     "slide_type": "subslide"
    }
   },
   "outputs": [],
   "source": [
    "x = range(1000000)\n",
    "y = np.array(x)"
   ]
  },
  {
   "cell_type": "code",
   "execution_count": 83,
   "metadata": {
    "collapsed": false,
    "slideshow": {
     "slide_type": "subslide"
    }
   },
   "outputs": [
    {
     "data": {
      "text/plain": [
       "list"
      ]
     },
     "execution_count": 83,
     "metadata": {},
     "output_type": "execute_result"
    }
   ],
   "source": [
    "type(x)"
   ]
  },
  {
   "cell_type": "code",
   "execution_count": 84,
   "metadata": {
    "collapsed": false,
    "slideshow": {
     "slide_type": "fragment"
    }
   },
   "outputs": [
    {
     "data": {
      "text/plain": [
       "numpy.ndarray"
      ]
     },
     "execution_count": 84,
     "metadata": {},
     "output_type": "execute_result"
    }
   ],
   "source": [
    "type(y)"
   ]
  },
  {
   "cell_type": "code",
   "execution_count": 85,
   "metadata": {
    "collapsed": false,
    "slideshow": {
     "slide_type": "subslide"
    }
   },
   "outputs": [
    {
     "name": "stdout",
     "output_type": "stream",
     "text": [
      "CPU times: user 160 ms, sys: 21.9 ms, total: 181 ms\n",
      "Wall time: 167 ms\n",
      "CPU times: user 1.69 ms, sys: 403 µs, total: 2.09 ms\n",
      "Wall time: 2.21 ms\n"
     ]
    }
   ],
   "source": [
    "def f(x):\n",
    "    for i in x:\n",
    "        i += 1\n",
    "    return x\n",
    "        \n",
    "%time f(x)\n",
    "\n",
    "def g(y):\n",
    "    y += 1\n",
    "    return y\n",
    "\n",
    "%time g(y)\n",
    "\n",
    "None"
   ]
  },
  {
   "cell_type": "markdown",
   "metadata": {
    "slideshow": {
     "slide_type": "fragment"
    }
   },
   "source": [
    "The numpy array implementation is way faster!"
   ]
  },
  {
   "cell_type": "markdown",
   "metadata": {
    "slideshow": {
     "slide_type": "slide"
    }
   },
   "source": [
    "## Vectors\n",
    "\n",
    "A vector can be represented by an array of real numbers:\n",
    "\n",
    "$$\\mathbf{x}^T = [x_1, x_2, \\ldots, x_n]$$\n",
    "\n",
    "Geometrically, a vector can specify the coordinates of points in $\\mathbb{R}^n$.  It can also specify a translation from one point to another.\n",
    "\n",
    "<img src = 'assets/vectors.png'></img>"
   ]
  },
  {
   "cell_type": "code",
   "execution_count": null,
   "metadata": {
    "collapsed": false,
    "slideshow": {
     "slide_type": "subslide"
    }
   },
   "outputs": [],
   "source": [
    "x = np.array([3, -1])"
   ]
  },
  {
   "cell_type": "code",
   "execution_count": null,
   "metadata": {
    "collapsed": false,
    "slideshow": {
     "slide_type": "fragment"
    }
   },
   "outputs": [],
   "source": [
    "print 'x =', x"
   ]
  },
  {
   "cell_type": "markdown",
   "metadata": {
    "slideshow": {
     "slide_type": "subslide"
    }
   },
   "source": [
    "### Vector addition\n",
    "\n",
    "If we have two vectors $\\boldsymbol{u}$ and $\\boldsymbol{v}$ of the same dimension, e.g., 2, then\n",
    "\n",
    "$$\\boldsymbol{u}^T + \\boldsymbol{v}^T = [u_1+v_1, u_2+v_2, \\ldots, u_n+v_n]$$\n",
    "\n",
    "There are multiple ways of imaging this. Here's one: If $\\boldsymbol{u}$ and $\\boldsymbol{v}$ in $\\mathbb{R}^2$ are represented as points in the plane, then $\\boldsymbol{u} + \\boldsymbol{v}$ corresponds to the fourth vertex of the parallelogram whose other vertices are $\\boldsymbol{u}$, $\\boldsymbol{0}$, and $\\boldsymbol{v}$.\n",
    "\n",
    "<img src = 'assets/vector-addition.png'></img>"
   ]
  },
  {
   "cell_type": "code",
   "execution_count": null,
   "metadata": {
    "collapsed": false,
    "slideshow": {
     "slide_type": "subslide"
    }
   },
   "outputs": [],
   "source": [
    "u = np.array([1, 3])\n",
    "v = np.array([5, 1])\n",
    "\n",
    "print 'u =', u\n",
    "print 'v =', v"
   ]
  },
  {
   "cell_type": "code",
   "execution_count": null,
   "metadata": {
    "collapsed": false,
    "slideshow": {
     "slide_type": "fragment"
    }
   },
   "outputs": [],
   "source": [
    "print 'u + v =', u + v "
   ]
  },
  {
   "cell_type": "markdown",
   "metadata": {
    "slideshow": {
     "slide_type": "subslide"
    }
   },
   "source": [
    "### Adding a constant to a vector\n",
    "\n",
    "Adding a constant to a vector adds the constant to each element of the vector:\n",
    "\n",
    "$$a + \\boldsymbol{x}^T = [a + x_1, a + x_2, \\ldots, a + x_n]$$"
   ]
  },
  {
   "cell_type": "code",
   "execution_count": null,
   "metadata": {
    "collapsed": false,
    "slideshow": {
     "slide_type": "subslide"
    }
   },
   "outputs": [],
   "source": [
    "a = 4\n",
    "x = np.array([1, 3, 4])\n",
    "\n",
    "print 'a =', a\n",
    "print 'x =', x"
   ]
  },
  {
   "cell_type": "code",
   "execution_count": null,
   "metadata": {
    "collapsed": false,
    "slideshow": {
     "slide_type": "fragment"
    }
   },
   "outputs": [],
   "source": [
    "print 'a + x =', a + x #"
   ]
  },
  {
   "cell_type": "markdown",
   "metadata": {
    "slideshow": {
     "slide_type": "slide"
    }
   },
   "source": [
    "### Length of a vector\n",
    "\n",
    "The norm (or length) of a vector $\\mathbf{x}$ is defined by:\n",
    "\n",
    "$$||\\boldsymbol{x}|| = \\sqrt{x_1^2 + x_2^2 + \\cdots + x_n^2}$$\n",
    "\n",
    "(Often written just as $|\\boldsymbol{x}|$)\n",
    "\n",
    "In two dimensions, it corresponds to the familiar Pythagorean theorem.\n",
    "\n",
    "<img src='assets/norm.png'></img>"
   ]
  },
  {
   "cell_type": "code",
   "execution_count": 86,
   "metadata": {
    "collapsed": false,
    "slideshow": {
     "slide_type": "subslide"
    }
   },
   "outputs": [
    {
     "name": "stdout",
     "output_type": "stream",
     "text": [
      "5.0 (calculated \"manually\")\n",
      "5.0 (using the 'norm' function)\n"
     ]
    }
   ],
   "source": [
    "u = np.array([3, 4]) #\n",
    "\n",
    "print np.sqrt(np.sum(u**2)), '(calculated \"manually\")'\n",
    "print np.linalg.norm(u), '(using the \\'norm\\' function)'"
   ]
  },
  {
   "cell_type": "markdown",
   "metadata": {
    "slideshow": {
     "slide_type": "subslide"
    }
   },
   "source": [
    "### Scaling a vector\n",
    "\n",
    "Multiplying a vector by a constant multiplies each term by the constant:\n",
    "\n",
    "$$\\alpha \\cdot \\boldsymbol{u} = [\\alpha u_1, \\alpha u_2, \\ldots, \\alpha u_n]$$\n",
    "\n",
    "Intuitively, this is the same as stretching the vector by a factor of $\\alpha$.\n",
    "\n",
    "<img src='assets/vector-scaling.png'></img>\n",
    "\n",
    "($a \\cdot \\boldsymbol{x}$ can also be denoted more simply without the dot as $a\\boldsymbol{x}$)"
   ]
  },
  {
   "cell_type": "code",
   "execution_count": 87,
   "metadata": {
    "collapsed": false,
    "slideshow": {
     "slide_type": "subslide"
    }
   },
   "outputs": [
    {
     "name": "stdout",
     "output_type": "stream",
     "text": [
      "a = [1 2 3]\n"
     ]
    }
   ],
   "source": [
    "a = np.array([1, 2, 3])\n",
    "\n",
    "print 'a =', a"
   ]
  },
  {
   "cell_type": "code",
   "execution_count": 88,
   "metadata": {
    "collapsed": false,
    "slideshow": {
     "slide_type": "fragment"
    }
   },
   "outputs": [
    {
     "name": "stdout",
     "output_type": "stream",
     "text": [
      "2*a = [2 4 6]\n"
     ]
    }
   ],
   "source": [
    "print '2*a =', 2*a  #"
   ]
  },
  {
   "cell_type": "markdown",
   "metadata": {
    "slideshow": {
     "slide_type": "slide"
    }
   },
   "source": [
    "### Linear combinations of vectors\n",
    "\n",
    "A _linear combination_ of a collection of vectors $(\\boldsymbol{x}_1,\n",
    "                                                    \\boldsymbol{x}_2, \\ldots,\n",
    "                                                    \\boldsymbol{x}_m)$\n",
    "is a vector of the form:\n",
    "\n",
    "$$a_1 \\boldsymbol{x}_1 + a_2 \\boldsymbol{x}_2 + \\cdots + a_m \\boldsymbol{x}_m$$"
   ]
  },
  {
   "cell_type": "code",
   "execution_count": 89,
   "metadata": {
    "collapsed": false,
    "slideshow": {
     "slide_type": "subslide"
    }
   },
   "outputs": [
    {
     "name": "stdout",
     "output_type": "stream",
     "text": [
      "a1 = 2\n",
      "x1 = [1 2 3 4]\n",
      "a2 = 4\n",
      "x2 = [5 6 7 8]\n"
     ]
    }
   ],
   "source": [
    "a1 = 2\n",
    "x1 = np.array([1, 2, 3, 4])\n",
    "a2 = 4\n",
    "x2 = np.array([5, 6, 7, 8])\n",
    "\n",
    "print 'a1 =', a1\n",
    "print 'x1 =', x1\n",
    "print 'a2 =', a2\n",
    "print 'x2 =', x2"
   ]
  },
  {
   "cell_type": "code",
   "execution_count": 90,
   "metadata": {
    "collapsed": false,
    "slideshow": {
     "slide_type": "fragment"
    }
   },
   "outputs": [
    {
     "name": "stdout",
     "output_type": "stream",
     "text": [
      "a1*x1 + a2*x2 = [22 28 34 40]\n"
     ]
    }
   ],
   "source": [
    "print 'a1*x1 + a2*x2 =', a1*x1 + a2*x2 #"
   ]
  },
  {
   "cell_type": "markdown",
   "metadata": {
    "slideshow": {
     "slide_type": "subslide"
    }
   },
   "source": [
    "### Linear subspaces\n",
    "\n",
    "The set of all linear combination of a collection of vectors $(\\boldsymbol{x}_1,\n",
    "                                                    \\boldsymbol{x}_2, \\ldots,\n",
    "                                                    \\boldsymbol{x}_m)$\n",
    "is a ('Euclidean') vector space *spanned* by the $x_i$  \n",
    "\n",
    "How may dimensions does it have?"
   ]
  },
  {
   "cell_type": "markdown",
   "metadata": {
    "slideshow": {
     "slide_type": "fragment"
    }
   },
   "source": [
    "Answer $<=m$, with equality only if the $x_i$ are _linearly independent_, i.e.:  \n",
    "\n",
    "$a_1 \\boldsymbol{x}_1 + a_2 \\boldsymbol{x}_2 + \\cdots + a_m \\boldsymbol{x}_m = 0$ implies all the $a_i = 0$"
   ]
  },
  {
   "cell_type": "markdown",
   "metadata": {
    "slideshow": {
     "slide_type": "fragment"
    }
   },
   "source": [
    "Linear dependence is the extreme case of 'near' linear dependence, where it is numerically difficult to see what linear combination made a given vector"
   ]
  },
  {
   "cell_type": "markdown",
   "metadata": {
    "slideshow": {
     "slide_type": "slide"
    }
   },
   "source": [
    "### Distance between vectors\n",
    "\n",
    "The distance between two vectors is the norm of their difference:\n",
    "\n",
    "$$d(\\boldsymbol{u},\\boldsymbol{v}) = ||\\boldsymbol{u} - \\boldsymbol{v}||$$\n",
    "\n",
    "<img src='assets/distance.png'></img>"
   ]
  },
  {
   "cell_type": "code",
   "execution_count": 91,
   "metadata": {
    "collapsed": false,
    "slideshow": {
     "slide_type": "subslide"
    }
   },
   "outputs": [
    {
     "name": "stdout",
     "output_type": "stream",
     "text": [
      "u = [7 1]\n",
      "v = [3 2]\n"
     ]
    }
   ],
   "source": [
    "u = np.array([7, 1])\n",
    "v = np.array([3, 2])\n",
    "\n",
    "print 'u =', u\n",
    "print 'v =', v"
   ]
  },
  {
   "cell_type": "code",
   "execution_count": 93,
   "metadata": {
    "collapsed": false,
    "slideshow": {
     "slide_type": "fragment"
    }
   },
   "outputs": [
    {
     "name": "stdout",
     "output_type": "stream",
     "text": [
      "[ 4 -1]\n",
      "d(u, v) = 4.12310562562\n"
     ]
    }
   ],
   "source": [
    "print (u-v)\n",
    "print 'd(u, v) =', np.linalg.norm(u - v) #"
   ]
  },
  {
   "cell_type": "markdown",
   "metadata": {
    "slideshow": {
     "slide_type": "slide"
    }
   },
   "source": [
    "### The dot product (or inner product)\n",
    "\n",
    "If we have two vectors $\\boldsymbol{x}$ and $\\boldsymbol{y}$ of the same length $(n)$, then the _dot product_ is given by:\n",
    "\n",
    "$$\\boldsymbol{x} \\cdot \\boldsymbol{y} = x_1y_1 + x_2y_2 + \\cdots + x_ny_n$$"
   ]
  },
  {
   "cell_type": "markdown",
   "metadata": {
    "slideshow": {
     "slide_type": "subslide"
    }
   },
   "source": [
    "Luckily, this formula calculates a trigonometry function 'for free':\n",
    "\n",
    "$$\\boldsymbol{x} \\cdot \\boldsymbol{y} = |\\boldsymbol{x}| \\cdot |\\boldsymbol{y}| \\cdot cos(\\theta),$$\n",
    "\n",
    "where $\\theta$ is the angle between the vectors"
   ]
  },
  {
   "cell_type": "code",
   "execution_count": 94,
   "metadata": {
    "collapsed": false,
    "slideshow": {
     "slide_type": "subslide"
    }
   },
   "outputs": [
    {
     "name": "stdout",
     "output_type": "stream",
     "text": [
      "x = [ 0.5        0.8660254]\n",
      "y = [  6.12323400e-17   1.00000000e+00]\n"
     ]
    }
   ],
   "source": [
    "x = np.array([np.cos(np.pi/3), np.sin(np.pi/3)])\n",
    "y = np.array([np.cos(np.pi/2), np.sin(np.pi/2)])\n",
    "\n",
    "\n",
    "print 'x =', x\n",
    "print 'y =', y"
   ]
  },
  {
   "cell_type": "code",
   "execution_count": 95,
   "metadata": {
    "collapsed": false,
    "slideshow": {
     "slide_type": "fragment"
    }
   },
   "outputs": [
    {
     "name": "stdout",
     "output_type": "stream",
     "text": [
      "0.866025403784\n",
      "0.866025403784\n",
      "0.866025403784\n"
     ]
    }
   ],
   "source": [
    "print np.dot(x, y)\n",
    "print x.dot(y)\n",
    "print y.dot(x)"
   ]
  },
  {
   "cell_type": "markdown",
   "metadata": {
    "slideshow": {
     "slide_type": "subslide"
    }
   },
   "source": [
    "Note:  \n",
    "As the angle between vectors increases, $60^o$ and $90^o$ are the angles at which half (respectively all) of the dot product shrinks away.  \n",
    "\n",
    "[Remember angle measure in radians!]"
   ]
  },
  {
   "cell_type": "code",
   "execution_count": 96,
   "metadata": {
    "collapsed": false,
    "slideshow": {
     "slide_type": "fragment"
    }
   },
   "outputs": [
    {
     "data": {
      "text/plain": [
       "(0.50000000000000011, 6.123233995736766e-17)"
      ]
     },
     "execution_count": 96,
     "metadata": {},
     "output_type": "execute_result"
    }
   ],
   "source": [
    "(np.cos(np.pi/3), np.cos(np.pi/2))"
   ]
  },
  {
   "cell_type": "markdown",
   "metadata": {
    "slideshow": {
     "slide_type": "subslide"
    }
   },
   "source": [
    "If $\\mathbf{x} \\cdot \\mathbf{y} = 0$ then $x$ and $y$ are *orthogonal* (aligns with the intuitive notion of perpendicular)."
   ]
  },
  {
   "cell_type": "code",
   "execution_count": 97,
   "metadata": {
    "collapsed": false,
    "slideshow": {
     "slide_type": "subslide"
    }
   },
   "outputs": [
    {
     "data": {
      "text/plain": [
       "-2.2204460492503131e-16"
      ]
     },
     "execution_count": 97,
     "metadata": {},
     "output_type": "execute_result"
    }
   ],
   "source": [
    "x = np.array([np.cos(np.pi/3), np.sin(np.pi/3)])\n",
    "y = np.array([np.cos(5*np.pi/6), np.sin(5*np.pi/6)])\n",
    "\n",
    "np.dot(x, y)"
   ]
  },
  {
   "cell_type": "markdown",
   "metadata": {
    "slideshow": {
     "slide_type": "subslide"
    }
   },
   "source": [
    "The norm squared of a vector is just the vector dot product with itself:\n",
    "\n",
    "$$||x||^2 = x \\cdot x$$"
   ]
  },
  {
   "cell_type": "code",
   "execution_count": 98,
   "metadata": {
    "collapsed": false,
    "scrolled": true,
    "slideshow": {
     "slide_type": "subslide"
    }
   },
   "outputs": [
    {
     "name": "stdout",
     "output_type": "stream",
     "text": [
      "1.0\n",
      "1.0\n"
     ]
    }
   ],
   "source": [
    "print np.linalg.norm(x)**2\n",
    "print np.dot(x, x)"
   ]
  },
  {
   "cell_type": "markdown",
   "metadata": {
    "slideshow": {
     "slide_type": "slide"
    }
   },
   "source": [
    "### Cosine Similarity"
   ]
  },
  {
   "cell_type": "markdown",
   "metadata": {
    "slideshow": {
     "slide_type": "subslide"
    }
   },
   "source": [
    "The _cosine similarity_ of the vectors is the cosine of the angle between them:\n",
    "\n",
    "$$cos(\\theta) = \\frac{\\boldsymbol{u} \\cdot \\boldsymbol{v}}{||\\boldsymbol{u}|| \\text{ } ||\\boldsymbol{v}||}$$\n",
    "\n",
    "<img src='assets/cosine-similarity.png'></img>"
   ]
  },
  {
   "cell_type": "code",
   "execution_count": 99,
   "metadata": {
    "collapsed": false,
    "slideshow": {
     "slide_type": "subslide"
    }
   },
   "outputs": [
    {
     "name": "stdout",
     "output_type": "stream",
     "text": [
      "-0.683941128881\n"
     ]
    }
   ],
   "source": [
    "u = np.array([-7, 5])\n",
    "v = np.array([5, 1])\n",
    "\n",
    "print np.dot(u,v)/(np.linalg.norm(u)*np.linalg.norm(v))"
   ]
  },
  {
   "cell_type": "markdown",
   "metadata": {
    "slideshow": {
     "slide_type": "subslide"
    }
   },
   "source": [
    "You can think of a column vector as a 'feature', where the rows of the vector are just values taken by the feature for different members of the population.\n",
    "\n",
    "If both $\\boldsymbol{u}$ and $\\boldsymbol{v}$ are zero-centered, this calculation $cos(\\theta)$ is the _correlation_ between $\\boldsymbol{u}$ and $\\boldsymbol{v}$.  \n",
    "\n",
    "Unless $\\boldsymbol{u}$ and $\\boldsymbol{v}$ are 'standardized' (also standard deviation = 1), $\\boldsymbol{u} \\cdot  \\boldsymbol{v}$  is just the _covariance_ between $\\boldsymbol{u}$ and $\\boldsymbol{v}$."
   ]
  },
  {
   "cell_type": "code",
   "execution_count": 101,
   "metadata": {
    "collapsed": false,
    "slideshow": {
     "slide_type": "subslide"
    }
   },
   "outputs": [
    {
     "name": "stdout",
     "output_type": "stream",
     "text": [
      "[-6.  6.]\n",
      "[ 2. -2.]\n",
      "-1.0\n"
     ]
    }
   ],
   "source": [
    "u_centered = u - np.mean(u)\n",
    "print u_centered\n",
    "\n",
    "v_centered = v - np.mean(v)\n",
    "print v_centered\n",
    "\n",
    "print np.dot(u_centered, v_centered)/ \\\n",
    "(np.linalg.norm(u_centered)*np.linalg.norm(v_centered))"
   ]
  },
  {
   "cell_type": "markdown",
   "metadata": {
    "slideshow": {
     "slide_type": "slide"
    }
   },
   "source": [
    "# Matrices\n",
    "\n",
    "Matrices are two dimensional arrays of numbers which can transform one vector into another one in a _linear_ way. \n",
    "\n",
    "A function is linear if both $f(x+y)=f(x)+f(y)$ and $f(ax)=af(x)$ for a constant $a$."
   ]
  },
  {
   "cell_type": "markdown",
   "metadata": {
    "slideshow": {
     "slide_type": "subslide"
    }
   },
   "source": [
    "An $n \\times p$ matrix is an array of numbers with $n$ rows and $p$ columns:\n",
    "\n",
    "$$\n",
    "X =\n",
    "  \\begin{bmatrix}\n",
    "    X_{11} & X_{12} & \\cdots & X_{1p} \\\\\n",
    "    X_{21} & X_{22} & \\cdots & X_{2p} \\\\\n",
    "    \\vdots & \\vdots & \\ddots & \\vdots \\\\\n",
    "    X_{n1} & = X_{n2} & \\cdots & X_{np} \n",
    "  \\end{bmatrix}\n",
    "$$"
   ]
  },
  {
   "cell_type": "markdown",
   "metadata": {
    "slideshow": {
     "slide_type": "subslide"
    }
   },
   "source": [
    "For the following $3 \\times 3$ matrix\n",
    "\n",
    "$$\n",
    "X =\n",
    "  \\begin{bmatrix}\n",
    "    cos(\\pi / 6) & -sin(\\pi / 6) & 0\\\\\n",
    "    sin(\\pi / 6) & cos(\\pi / 6) & 0\\\\\n",
    "    0 & 0 & 1\\\\    \n",
    "  \\end{bmatrix}\n",
    "$$\n",
    "\n",
    "<img src='assets/matrix-rotation.png'></img>\n",
    "\n",
    "We can make a matrix in numpy using a two dimensional array. For instance, we can create $X$ as follows:"
   ]
  },
  {
   "cell_type": "code",
   "execution_count": 102,
   "metadata": {
    "collapsed": false,
    "slideshow": {
     "slide_type": "subslide"
    }
   },
   "outputs": [
    {
     "name": "stdout",
     "output_type": "stream",
     "text": [
      "[[ 0.8660254 -0.5        0.       ]\n",
      " [ 0.5        0.8660254  0.       ]\n",
      " [ 0.         0.         1.       ]]\n"
     ]
    }
   ],
   "source": [
    "X = np.array([[np.cos(np.pi / 6), -np.sin(np.pi / 6), 0], \\\n",
    "              [np.sin(np.pi / 6), np.cos(np.pi / 6), 0], \\\n",
    "              [0, 0, 1]])\n",
    "\n",
    "print X"
   ]
  },
  {
   "cell_type": "markdown",
   "metadata": {
    "slideshow": {
     "slide_type": "subslide"
    }
   },
   "source": [
    "### Shape of a matrix\n",
    "\n",
    "The shape of a matrix tell us how many rows and columns it has. "
   ]
  },
  {
   "cell_type": "code",
   "execution_count": 103,
   "metadata": {
    "collapsed": false,
    "slideshow": {
     "slide_type": "fragment"
    }
   },
   "outputs": [
    {
     "name": "stdout",
     "output_type": "stream",
     "text": [
      "(3, 3)\n",
      "The dimension of the matrix is 3x3 (rows x columns)\n"
     ]
    }
   ],
   "source": [
    "print X.shape\n",
    "\n",
    "print 'The dimension of the matrix is {}x{} (rows x columns)'.\\\n",
    "format(X.shape[0], X.shape[1]) "
   ]
  },
  {
   "cell_type": "markdown",
   "metadata": {
    "slideshow": {
     "slide_type": "subslide"
    }
   },
   "source": [
    "### Elements of a matrix\n",
    "\n",
    "Let $X_{ij}$ and $(X)_{ij}$ denote the value in the $i$th row and $j$th column of the matrix $X$. We can look at these values in Python as follows:"
   ]
  },
  {
   "cell_type": "code",
   "execution_count": 104,
   "metadata": {
    "collapsed": false,
    "slideshow": {
     "slide_type": "fragment"
    }
   },
   "outputs": [
    {
     "name": "stdout",
     "output_type": "stream",
     "text": [
      "Element at i = 0, j = 0:  0.866025403784\n",
      "Second column:  [-0.5        0.8660254  0.       ]\n",
      "Third row:  [ 0.  0.  1.]\n"
     ]
    }
   ],
   "source": [
    "print 'Element at i = 0, j = 0: ', X[0, 0]\n",
    "print 'Second column: ', X[:, 1]\n",
    "print 'Third row: ', X[2, :]"
   ]
  },
  {
   "cell_type": "markdown",
   "metadata": {
    "slideshow": {
     "slide_type": "subslide"
    }
   },
   "source": [
    "### Scalar multiplication\n",
    "\n",
    "Scalar multiplication is defined just like scalar multiplication with vectors. Multiplying both a matrix and a vector by a scalar simply multiplies each element of both a matrix and a vector by a scalar."
   ]
  },
  {
   "cell_type": "code",
   "execution_count": 105,
   "metadata": {
    "collapsed": false,
    "slideshow": {
     "slide_type": "fragment"
    }
   },
   "outputs": [
    {
     "name": "stdout",
     "output_type": "stream",
     "text": [
      "2*X =\n",
      "[[ 1.73205081 -1.          0.        ]\n",
      " [ 1.          1.73205081  0.        ]\n",
      " [ 0.          0.          2.        ]]\n"
     ]
    }
   ],
   "source": [
    "print \"2*X =\\n\", 2*X"
   ]
  },
  {
   "cell_type": "markdown",
   "metadata": {
    "slideshow": {
     "slide_type": "subslide"
    }
   },
   "source": [
    "### Matrix addition\n",
    "\n",
    "Matrix addition is also defined just like addition with vectors: The addition is carried element-wise:\n",
    "\n",
    "<img src='assets/matrix-addition.png'></img>"
   ]
  },
  {
   "cell_type": "code",
   "execution_count": 106,
   "metadata": {
    "collapsed": false,
    "slideshow": {
     "slide_type": "subslide"
    }
   },
   "outputs": [
    {
     "name": "stdout",
     "output_type": "stream",
     "text": [
      "X =\n",
      "[[ 0.8660254 -0.5        0.       ]\n",
      " [ 0.5        0.8660254  0.       ]\n",
      " [ 0.         0.         1.       ]] \n",
      "\n",
      "Y =\n",
      "[[ 1  0  2]\n",
      " [ 0  1 -1]\n",
      " [ 0  0  1]]\n"
     ]
    }
   ],
   "source": [
    "X = np.array([[np.cos(np.pi / 6), -np.sin(np.pi / 6), 0], [np.sin(np.pi / 6), np.cos(np.pi / 6), 0], [0, 0, 1]])\n",
    "Y = np.array([[1, 0, 2], [0, 1, -1], [0, 0, 1]])\n",
    "\n",
    "print \"X =\\n\", X, \"\\n\"\n",
    "print \"Y =\\n\", Y"
   ]
  },
  {
   "cell_type": "code",
   "execution_count": 107,
   "metadata": {
    "collapsed": false,
    "slideshow": {
     "slide_type": "subslide"
    }
   },
   "outputs": [
    {
     "name": "stdout",
     "output_type": "stream",
     "text": [
      "X + Y =\n",
      "[[ 1.8660254 -0.5        2.       ]\n",
      " [ 0.5        1.8660254 -1.       ]\n",
      " [ 0.         0.         2.       ]]\n"
     ]
    }
   ],
   "source": [
    "print \"X + Y =\\n\", X + Y"
   ]
  },
  {
   "cell_type": "markdown",
   "metadata": {
    "slideshow": {
     "slide_type": "slide"
    }
   },
   "source": [
    "### Multiplying matrices\n",
    "\n",
    "In order to multiply two matrices, they must be _conformable_ such that the number of columns of the first matrix must be the same as the number of rows of the second matrix.\n",
    "\n",
    "Let $X$ be a matrix of dimension $n \\times p$ and let $Y$ be a matrix of dimension $p \\times q$, then the product $XY$ will be a matrix of dimension $n \\times q$ whose $(i,j)^{th}$ element is given by the dot product of the $i^{th}$ row of $X$ and the $j^{th}$ column of $Y$:\n",
    "\n",
    "$$\\sum_{k=1}^p X_{ik}Y_{kj} = X_{i1}Y_{1j} + \\cdots + X_{ip}Y_{pj}$$"
   ]
  },
  {
   "cell_type": "markdown",
   "metadata": {
    "slideshow": {
     "slide_type": "subslide"
    }
   },
   "source": [
    "### Multiplying matrices\n",
    "<img src='assets/matrix-multiplication.png'></img>"
   ]
  },
  {
   "cell_type": "code",
   "execution_count": 110,
   "metadata": {
    "collapsed": false,
    "slideshow": {
     "slide_type": "subslide"
    }
   },
   "outputs": [
    {
     "name": "stdout",
     "output_type": "stream",
     "text": [
      "X =\n",
      "[1 0 1] \n",
      "\n",
      "R =\n",
      "[[ 0.8660254 -0.5        0.       ]\n",
      " [ 0.5        0.8660254  0.       ]\n",
      " [ 0.         0.         1.       ]]\n"
     ]
    }
   ],
   "source": [
    "X = np.array([1, 0, 1])\n",
    "R = np.array([[np.cos(np.pi / 6), -np.sin(np.pi / 6), 0], [np.sin(np.pi / 6), np.cos(np.pi / 6), 0], [0, 0, 1]])\n",
    "\n",
    "print \"X =\\n\", X, \"\\n\"\n",
    "print \"R =\\n\", R"
   ]
  },
  {
   "cell_type": "code",
   "execution_count": 111,
   "metadata": {
    "collapsed": false,
    "slideshow": {
     "slide_type": "subslide"
    }
   },
   "outputs": [
    {
     "name": "stdout",
     "output_type": "stream",
     "text": [
      "[ 0.8660254  0.5        1.       ]\n"
     ]
    }
   ],
   "source": [
    "X_p = np.dot(R, X)\n",
    "\n",
    "print X_p"
   ]
  },
  {
   "cell_type": "markdown",
   "metadata": {
    "slideshow": {
     "slide_type": "fragment"
    }
   },
   "source": [
    "$X_p$ is at $(cos(\\pi / 6), sin(\\pi / 6), 1)$"
   ]
  },
  {
   "cell_type": "code",
   "execution_count": 114,
   "metadata": {
    "collapsed": false,
    "slideshow": {
     "slide_type": "fragment"
    }
   },
   "outputs": [
    {
     "data": {
      "text/plain": [
       "array([ 0.8660254, -0.5      ,  1.       ])"
      ]
     },
     "execution_count": 114,
     "metadata": {},
     "output_type": "execute_result"
    }
   ],
   "source": [
    "#R.dot(X)\n",
    "\n",
    "#MAKE THIS A NEW CELL\n",
    "\n",
    "\n",
    "X.dot(R)"
   ]
  },
  {
   "cell_type": "markdown",
   "metadata": {
    "slideshow": {
     "slide_type": "slide"
    }
   },
   "source": [
    "### Matrix (element-wise) multiplication"
   ]
  },
  {
   "cell_type": "code",
   "execution_count": 115,
   "metadata": {
    "collapsed": false,
    "slideshow": {
     "slide_type": "subslide"
    }
   },
   "outputs": [
    {
     "name": "stdout",
     "output_type": "stream",
     "text": [
      "X =\n",
      "[[ 0.8660254 -0.5        0.       ]\n",
      " [ 0.5        0.8660254  0.       ]\n",
      " [ 0.         0.         1.       ]] \n",
      "\n",
      "Y =\n",
      "[[ 1  0  2]\n",
      " [ 0  1 -1]\n",
      " [ 1  1  1]] \n",
      "\n",
      "X * Y =\n",
      "[[ 0.8660254 -0.         0.       ]\n",
      " [ 0.         0.8660254 -0.       ]\n",
      " [ 0.         0.         1.       ]]\n"
     ]
    }
   ],
   "source": [
    "# Regular multiply operator is just \n",
    "\n",
    "X = np.array([[np.cos(np.pi / 6), -np.sin(np.pi / 6), 0], [np.sin(np.pi / 6), np.cos(np.pi / 6), 0], [0, 0, 1]])\n",
    "Y = np.array([[1, 0, 2], [0, 1, -1], [1, 1, 1]])\n",
    "\n",
    "print \"X =\\n\", X, \"\\n\"\n",
    "print \"Y =\\n\", Y, \"\\n\"\n",
    "\n",
    "print \"X * Y =\\n\", X * Y"
   ]
  },
  {
   "cell_type": "markdown",
   "metadata": {
    "slideshow": {
     "slide_type": "slide"
    }
   },
   "source": [
    "### Commutativity\n",
    "\n",
    "A matrix is a square matrix if it has the same number of rows as columns. In that case if $X$ and $Y$ is a square matrix than we can both evaluate $XY$ and $YX$. However, in general, $XY \\neq YX$ although equality can happen in special circumstances."
   ]
  },
  {
   "cell_type": "code",
   "execution_count": 116,
   "metadata": {
    "collapsed": false,
    "scrolled": true,
    "slideshow": {
     "slide_type": "subslide"
    }
   },
   "outputs": [
    {
     "name": "stdout",
     "output_type": "stream",
     "text": [
      "X =\n",
      "[1 0 1] \n",
      "\n",
      "R =\n",
      "[[ 0.8660254 -0.5        0.       ]\n",
      " [ 0.5        0.8660254  0.       ]\n",
      " [ 0.         0.         1.       ]] \n",
      "\n",
      "T =\n",
      "[[ 1  0  2]\n",
      " [ 0  1 -1]\n",
      " [ 0  0  1]] \n",
      "\n"
     ]
    }
   ],
   "source": [
    "X = np.array([1, 0, 1])\n",
    "\n",
    "R = np.array([[np.cos(np.pi / 6), -np.sin(np.pi / 6), 0], [np.sin(np.pi / 6), np.cos(np.pi / 6), 0], [0, 0, 1]])\n",
    "T = np.array([[1, 0, 2], [0, 1, -1], [0, 0, 1]])\n",
    "\n",
    "print \"X =\\n\", X, \"\\n\"\n",
    "print \"R =\\n\", R, \"\\n\"\n",
    "print \"T =\\n\", T, \"\\n\""
   ]
  },
  {
   "cell_type": "code",
   "execution_count": 117,
   "metadata": {
    "collapsed": false,
    "slideshow": {
     "slide_type": "subslide"
    }
   },
   "outputs": [
    {
     "name": "stdout",
     "output_type": "stream",
     "text": [
      "Skew then rotation:\n",
      "[1 0 1]  ->  [ 3 -1  1] (first skewed) [ 3.09807621  0.6339746   1.        ] (then rotated)\n",
      "\n",
      "R * T =\n",
      "[[ 0.8660254  -0.5         2.23205081]\n",
      " [ 0.5         0.8660254   0.1339746 ]\n",
      " [ 0.          0.          1.        ]]\n"
     ]
    }
   ],
   "source": [
    "print \"Skew then rotation:\"\n",
    "print X, ' -> ', T.dot(X), '(first skewed)', R.dot(T.dot(X)), \"(then rotated)\\n\"\n",
    "\n",
    "print \"R * T =\\n\", R.dot(T)"
   ]
  },
  {
   "cell_type": "code",
   "execution_count": 118,
   "metadata": {
    "collapsed": false,
    "slideshow": {
     "slide_type": "subslide"
    }
   },
   "outputs": [
    {
     "name": "stdout",
     "output_type": "stream",
     "text": [
      "Rotation then skew:\n",
      "[1 0 1]  ->  [ 0.8660254  0.5        1.       ] (first rotated) [ 2.8660254 -0.5        1.       ] (then skewed)\n",
      "\n",
      "T * R =\n",
      "[[ 0.8660254 -0.5        2.       ]\n",
      " [ 0.5        0.8660254 -1.       ]\n",
      " [ 0.         0.         1.       ]]\n"
     ]
    }
   ],
   "source": [
    "print \"Rotation then skew:\"\n",
    "print X, ' -> ', R.dot(X), '(first rotated)', T.dot(R.dot(X)), \"(then skewed)\\n\"\n",
    "\n",
    "print \"T * R =\\n\", T.dot(R)"
   ]
  },
  {
   "cell_type": "markdown",
   "metadata": {
    "collapsed": false,
    "slideshow": {
     "slide_type": "slide"
    }
   },
   "source": [
    "### Additional Properties of Matrices: addition and associativity\n",
    "1. If $X$ and $Y$ are both $n \\times p$ matrices,\n",
    "then $$X+Y = Y+X$$\n",
    "\n",
    "2. If $X$, $Y$, and $Z$ are all $n \\times p$ matrices,\n",
    "then $$X+(Y+Z) = (X+Y)+Z$$\n",
    "\n",
    "3. If $X$, $Y$, and $Z$ are all conformable,\n",
    "then $$X(YZ) = (XY)Z$$\n"
   ]
  },
  {
   "cell_type": "markdown",
   "metadata": {
    "collapsed": false,
    "slideshow": {
     "slide_type": "subslide"
    }
   },
   "source": [
    "### Additional Properties of Matrices: distributive rules\n",
    "4. If $X$ is of dimension $n \\times k$ and $Y$ and $Z$ are of dimension $k \\times p$, then $$X(Y+Z) = XY + XZ$$\n",
    "\n",
    "5. If $X$ is of dimension $p \\times n$ and $Y$ and $Z$ are of dimension $k \\times p$, then $$(Y+Z)X = YX + ZX$$\n",
    "\n",
    "6. If $a$ and $b$ are real numbers, and $X$ is an $n \\times p$ matrix,\n",
    "then $$(a+b)X = aX+bX$$"
   ]
  },
  {
   "cell_type": "markdown",
   "metadata": {
    "collapsed": false,
    "slideshow": {
     "slide_type": "subslide"
    }
   },
   "source": [
    "### Additional Properties of Matrices: scalar multiplication\n",
    "6. If $a$ and $b$ are real numbers, and $X$ is an $n \\times p$ matrix,\n",
    "then $$(a+b)X = aX+bX$$\n",
    "(second appearance of this rule...)\n",
    "\n",
    "7. If $a$ is a real number, and $X$ and $Y$ are both $n \\times p$ matrices,\n",
    "then $$a(X+Y) = aX+aY$$\n",
    "\n",
    "8. If $a$ is a real number, and $X$ and $Y$ are conformable, then\n",
    "$$X(aY) = a(XY)$$"
   ]
  },
  {
   "cell_type": "markdown",
   "metadata": {
    "slideshow": {
     "slide_type": "slide"
    }
   },
   "source": [
    "### Matrix Transpose\n",
    "\n",
    "The transpose of an $n \\times p$ matrix is a $p \\times n$ matrix with rows and columns interchanged\n",
    "\n",
    "$$\n",
    "X =\n",
    "  \\begin{bmatrix}\n",
    "    x_{11} & x_{12} & \\cdots & x_{1n} \\\\\n",
    "    x_{21} & x_{22} & \\cdots & x_{2n} \\\\\n",
    "    \\vdots & \\vdots & \\ddots & \\vdots \\\\\n",
    "    x_{p1} & x_{p2} & \\cdots & x_{pn} \n",
    "  \\end{bmatrix} \n",
    "\\implies\n",
    "X^T =\n",
    "  \\begin{bmatrix}\n",
    "    x_{11} & x_{21} & \\cdots & x_{p1} \\\\\n",
    "    x_{12} & x_{22} & \\cdots & x_{p2} \\\\\n",
    "    \\vdots & \\vdots & \\ddots & \\vdots \\\\\n",
    "    x_{1n} & x_{2n} & \\cdots & x_{pn} \n",
    "  \\end{bmatrix}\n",
    "$$\n",
    "\n"
   ]
  },
  {
   "cell_type": "code",
   "execution_count": 119,
   "metadata": {
    "collapsed": false,
    "slideshow": {
     "slide_type": "subslide"
    }
   },
   "outputs": [
    {
     "name": "stdout",
     "output_type": "stream",
     "text": [
      "X's shape is (2, 3) \n",
      "\n",
      "X =\n",
      "[[0 1 2]\n",
      " [3 4 5]] \n",
      "\n",
      "X_T's shape is (3, 2) \n",
      "\n",
      "X_T =\n",
      "[[0 3]\n",
      " [1 4]\n",
      " [2 5]]\n"
     ]
    }
   ],
   "source": [
    "X = np.array([[0, 1, 2], [3, 4, 5]])\n",
    "\n",
    "print \"X's shape is\", X.shape, \"\\n\"\n",
    "print \"X =\\n\", X, \"\\n\"\n",
    "\n",
    "X_T = X.transpose()\n",
    "\n",
    "print \"X_T's shape is\", X_T.shape, \"\\n\"\n",
    "print \"X_T =\\n\", X_T"
   ]
  },
  {
   "cell_type": "markdown",
   "metadata": {
    "slideshow": {
     "slide_type": "subslide"
    }
   },
   "source": [
    "### Properties of Transpose\n",
    "1. Let $X$ be an $n \\times p$ matrix and $a$ a real number, then\n",
    "$$(aX)^T = aX^T$$\n",
    "\n",
    "2. Let $X$ and $Y$ be $n \\times p$ matrices, then\n",
    "$$(X + Y)^T = X^T + Y^T$$\n",
    "\n",
    "3. Let $X$ be an $n \\times k$ matrix and $Y$ be a $k \\times p$ matrix, then\n",
    "$$(XY)^T = Y^TX^T$$"
   ]
  },
  {
   "cell_type": "markdown",
   "metadata": {
    "slideshow": {
     "slide_type": "slide"
    }
   },
   "source": [
    "### Vector in Matrix Form\n",
    "A column vector is a matrix with $n$ rows and 1 column and to differentiate from a standard matrix $X$ of higher dimensions can be denoted as a bold lower case $\\boldsymbol{x}$\n",
    "\n",
    "$$\n",
    "\\boldsymbol{x} =\n",
    "  \\begin{bmatrix}\n",
    "    x_{1}\\\\\n",
    "    x_{2}\\\\\n",
    "    \\vdots\\\\\n",
    "    x_{n}\n",
    "  \\end{bmatrix}\n",
    "$$"
   ]
  },
  {
   "cell_type": "markdown",
   "metadata": {
    "slideshow": {
     "slide_type": "subslide"
    }
   },
   "source": [
    "In numpy, when we enter a vector, it will not normally have the second dimension."
   ]
  },
  {
   "cell_type": "code",
   "execution_count": 120,
   "metadata": {
    "collapsed": false,
    "slideshow": {
     "slide_type": "fragment"
    }
   },
   "outputs": [
    {
     "name": "stdout",
     "output_type": "stream",
     "text": [
      "x = [1 2 3 4]\n",
      "x's shape is (4,)\n"
     ]
    }
   ],
   "source": [
    "x = np.array([1,2,3,4])\n",
    "\n",
    "print 'x =', x\n",
    "print \"x's shape is\", x.shape"
   ]
  },
  {
   "cell_type": "code",
   "execution_count": 121,
   "metadata": {
    "collapsed": false,
    "slideshow": {
     "slide_type": "subslide"
    }
   },
   "outputs": [
    {
     "name": "stdout",
     "output_type": "stream",
     "text": [
      "x = [1 2 3 4] \n",
      "\n",
      "x's shape is (4,)\n"
     ]
    }
   ],
   "source": [
    "x = x.transpose()\n",
    "\n",
    "print 'x =', x, \"\\n\"\n",
    "print \"x's shape is\", x.shape"
   ]
  },
  {
   "cell_type": "code",
   "execution_count": 122,
   "metadata": {
    "collapsed": false,
    "slideshow": {
     "slide_type": "subslide"
    }
   },
   "outputs": [
    {
     "name": "stdout",
     "output_type": "stream",
     "text": [
      "y =\n",
      "[[1]\n",
      " [2]\n",
      " [3]\n",
      " [4]] \n",
      "\n",
      "y's shape is (4, 1)\n"
     ]
    }
   ],
   "source": [
    "y = x.reshape(4, 1)\n",
    "\n",
    "print \"y =\\n\", y, \"\\n\"\n",
    "print \"y's shape is\", y.shape"
   ]
  },
  {
   "cell_type": "code",
   "execution_count": 123,
   "metadata": {
    "collapsed": false,
    "slideshow": {
     "slide_type": "subslide"
    }
   },
   "outputs": [
    {
     "name": "stdout",
     "output_type": "stream",
     "text": [
      "z =\n",
      "[[1]\n",
      " [2]\n",
      " [3]\n",
      " [4]] \n",
      "\n",
      "z's shape is (4, 1)\n"
     ]
    }
   ],
   "source": [
    "z = x[:, np.newaxis]\n",
    "\n",
    "print \"z =\\n\", z, \"\\n\"\n",
    "print \"z's shape is\", z.shape"
   ]
  },
  {
   "cell_type": "code",
   "execution_count": 124,
   "metadata": {
    "collapsed": false,
    "slideshow": {
     "slide_type": "subslide"
    }
   },
   "outputs": [
    {
     "name": "stdout",
     "output_type": "stream",
     "text": [
      "t =\n",
      "[[1 2 3 4]] \n",
      "\n",
      "t's shape is (1, 4)\n"
     ]
    }
   ],
   "source": [
    "t = z.transpose()\n",
    "\n",
    "print \"t =\\n\", t, \"\\n\"\n",
    "print \"t's shape is\", t.shape"
   ]
  },
  {
   "cell_type": "markdown",
   "metadata": {
    "slideshow": {
     "slide_type": "subslide"
    }
   },
   "source": [
    "A row vector is generally written as a transpose\n",
    "\n",
    "$$\\boldsymbol{x}^T = [x_1, x_2, \\ldots, x_n]$$"
   ]
  },
  {
   "cell_type": "markdown",
   "metadata": {
    "slideshow": {
     "slide_type": "subslide"
    }
   },
   "source": [
    "If we have two vectors $\\boldsymbol{x}$ and $\\boldsymbol{y}$ of the same length $(n)$, then the _dot product_ is given by matrix multiplication\n",
    "\n",
    "$$\\boldsymbol{x}^T \\boldsymbol{y} =   \n",
    "    \\begin{bmatrix} x_1& x_2 & \\ldots & x_n \\end{bmatrix}\n",
    "    \\begin{bmatrix}\n",
    "    y_{1}\\\\\n",
    "    y_{2}\\\\\n",
    "    \\vdots\\\\\n",
    "    y_{n}\n",
    "  \\end{bmatrix}  =\n",
    "  x_1y_1 + x_2y_2 + \\cdots + x_ny_n$$"
   ]
  },
  {
   "cell_type": "markdown",
   "metadata": {
    "slideshow": {
     "slide_type": "slide"
    }
   },
   "source": [
    "## Inverse of a Matrix"
   ]
  },
  {
   "cell_type": "markdown",
   "metadata": {
    "slideshow": {
     "slide_type": "subslide"
    }
   },
   "source": [
    "The inverse of a square $n \\times n$ matrix $X$ is an $n \\times n$ matrix $X^{-1}$ such that \n",
    "\n",
    "$$X^{-1}X = XX^{-1} = I$$\n",
    "\n",
    "Where $I$ is the identity matrix, an $n \\times n$ diagonal matrix with 1's along the diagonal. \n",
    "\n",
    "If such a matrix exists, then $X$ is said to be _invertible_ or _nonsingular_, otherwise $X$ is said to be _noninvertible_ or _singular_."
   ]
  },
  {
   "cell_type": "code",
   "execution_count": 139,
   "metadata": {
    "collapsed": false,
    "slideshow": {
     "slide_type": "subslide"
    }
   },
   "outputs": [
    {
     "name": "stdout",
     "output_type": "stream",
     "text": [
      "X =\n",
      "[[ 1  2  3]\n",
      " [ 0  1  0]\n",
      " [-2 -1  0]] \n",
      "\n",
      "Y =\n",
      "[[-0.     -0.5    -0.5   ]\n",
      " [ 0.      1.      0.    ]\n",
      " [ 0.3333 -0.5     0.1667]] \n",
      "\n",
      "XY =\n",
      "[[ 1.  0. -0.]\n",
      " [ 0.  1.  0.]\n",
      " [ 0. -0.  1.]]\n"
     ]
    }
   ],
   "source": [
    "#To better spot zeros, round to 4 decimml places\n",
    "\n",
    "X = np.array([[1, 2, 3], [0, 1, 0], [-2, -1, 0]])\n",
    "#X = np.array([[1, 2, 3], [1,2,3], [0,0,1]])\n",
    "print \"X =\\n\", X, \"\\n\"\n",
    "\n",
    "Y = np.linalg.inv(X)\n",
    "print \"Y =\\n\", np.round(Y,4), \"\\n\"\n",
    "\n",
    "print \"XY =\\n\", np.round(Y.dot(X))"
   ]
  },
  {
   "cell_type": "markdown",
   "metadata": {
    "slideshow": {
     "slide_type": "subslide"
    }
   },
   "source": [
    "### Properties of Inverse\n",
    "1. If $X$ is invertible, then $X^{-1}$ is invertible and\n",
    "$$(X^{-1})^{-1} = X$$\n",
    "2. If $X$ and $Y$ are both $n \\times n$ invertible matrices, then $XY$ is invertible and\n",
    "$$(XY)^{-1} = Y^{-1}X^{-1}$$\n",
    "3. If $X$ is invertible, then $X^T$ is invertible and\n",
    "$$(X^T)^{-1} = (X^{-1})^T$$"
   ]
  },
  {
   "cell_type": "markdown",
   "metadata": {
    "slideshow": {
     "slide_type": "subslide"
    }
   },
   "source": [
    "The 'size' of a matrix X is its _determinant_, written $det(M)$ or $|M|$. This number captures how X multiplies the volume of a unit n-dimensional box.  \n",
    "\n",
    "Mirror-image transformations have a negative determinant.\n",
    "\n",
    "X is invertible exactly when $|X| \\neq 0$, and $X^{-1}$ is numberically unstable when $|X|$ is small."
   ]
  },
  {
   "cell_type": "markdown",
   "metadata": {
    "slideshow": {
     "slide_type": "subslide"
    }
   },
   "source": [
    "### Orthogonal Matrices\n",
    "\n",
    "Let $X$ be an $n \\times n$ matrix such than $X^TX = I$, then $X$ is said to be orthogonal which implies that $X^T=X^{-1}$."
   ]
  },
  {
   "cell_type": "markdown",
   "metadata": {
    "slideshow": {
     "slide_type": "fragment"
    }
   },
   "source": [
    "This is equivalent to saying that the columns of $X$ are all orthogonal to each other (and have unit length)."
   ]
  },
  {
   "cell_type": "markdown",
   "metadata": {
    "slideshow": {
     "slide_type": "slide"
    }
   },
   "source": [
    "## Matrix Equations"
   ]
  },
  {
   "cell_type": "markdown",
   "metadata": {
    "slideshow": {
     "slide_type": "slide"
    }
   },
   "source": [
    "A system of equations of the form:\n",
    "\\begin{align*}\n",
    "    a_{11}x_1 + \\cdots + a_{1n}x_n &= b_1 \\\\\n",
    "    \\vdots \\hspace{1in} \\vdots \\\\\n",
    "    a_{m1}x_1 + \\cdots + a_{mn}x_n &= b_m \n",
    "\\end{align*}\n",
    "can be written as a matrix equation:\n",
    "$$\n",
    "A\\mathbf{x} = \\mathbf{b}\n",
    "$$\n",
    "If A is invertable, this has solution\n",
    "$$\n",
    "\\mathbf{x} = A^{-1}\\mathbf{b}\n",
    "$$"
   ]
  },
  {
   "cell_type": "markdown",
   "metadata": {
    "slideshow": {
     "slide_type": "slide"
    }
   },
   "source": [
    "## Eigenvectors and Eigenvalues"
   ]
  },
  {
   "cell_type": "markdown",
   "metadata": {
    "slideshow": {
     "slide_type": "fragment"
    }
   },
   "source": [
    "Let $A$ be an $n \\times n$ matrix and $\\boldsymbol{x}$ be an $n \\times 1$ nonzero vector. An _eigenvalue_ of $A$ is a number $\\lambda$ such that\n",
    "\n",
    "$$A \\boldsymbol{x} = \\lambda \\boldsymbol{x}$$\n",
    "\n",
    "A vector $\\boldsymbol{x}$ satisfying this equation is called an eigenvector associated with $\\lambda$.\n",
    "\n",
    "Eigenvectors and eigenvalues will play a huge roll in matrix methods later in the course (PCA, SVD, NMF)."
   ]
  },
  {
   "cell_type": "code",
   "execution_count": 136,
   "metadata": {
    "collapsed": false,
    "slideshow": {
     "slide_type": "subslide"
    }
   },
   "outputs": [
    {
     "name": "stdout",
     "output_type": "stream",
     "text": [
      "lambdas = [ 0.38196601  2.61803399]\n",
      "X =\n",
      "[[-0.85065081 -0.52573111]\n",
      " [ 0.52573111 -0.85065081]]\n"
     ]
    }
   ],
   "source": [
    "A = np.array([[1, 1], [1, 2]])\n",
    "lambdas, X = np.linalg.eig(A)\n",
    "\n",
    "print 'lambdas =', lambdas\n",
    "print \"X =\\n\", X"
   ]
  },
  {
   "cell_type": "code",
   "execution_count": 137,
   "metadata": {
    "collapsed": false,
    "slideshow": {
     "slide_type": "subslide"
    }
   },
   "outputs": [
    {
     "name": "stdout",
     "output_type": "stream",
     "text": [
      "Ax         = [-0.3249197   0.20081142]\n",
      "lambda * x = [-0.3249197   0.20081142]\n"
     ]
    }
   ],
   "source": [
    "first_lambda = lambdas[0]\n",
    "first_x = X[:, 0]\n",
    "\n",
    "print 'Ax         =', A.dot(first_x)\n",
    "print 'lambda * x =', first_lambda * first_x"
   ]
  },
  {
   "cell_type": "code",
   "execution_count": 138,
   "metadata": {
    "collapsed": false,
    "slideshow": {
     "slide_type": "subslide"
    }
   },
   "outputs": [
    {
     "name": "stdout",
     "output_type": "stream",
     "text": [
      "Ax         = [-1.37638192 -2.22703273]\n",
      "lambda * x = [-1.37638192 -2.22703273]\n"
     ]
    }
   ],
   "source": [
    "second_lambda = lambdas[1]\n",
    "second_x = X[:, 1]\n",
    "\n",
    "print 'Ax         =', A.dot(second_x)\n",
    "print 'lambda * x =', second_lambda * second_x"
   ]
  },
  {
   "cell_type": "markdown",
   "metadata": {
    "slideshow": {
     "slide_type": "slide"
    }
   },
   "source": [
    "### Stochastic matrices"
   ]
  },
  {
   "cell_type": "markdown",
   "metadata": {
    "slideshow": {
     "slide_type": "fragment"
    }
   },
   "source": [
    "A stochastic matrix represents the probability of going from one state to another. If P is a stochastic matrix, then $P_{ij}$ has the interpretations that the if a system is in state $j$, it has a probability $P_{ij}$ to be in state $i$ on the next iteration. If a system has a probability distribution $x$ then after applying $P$, the probability distribution will be $P \\cdot x$.\n",
    "\n",
    "<img src='assets/markov-chain.png'></img>"
   ]
  },
  {
   "cell_type": "code",
   "execution_count": 129,
   "metadata": {
    "collapsed": false,
    "slideshow": {
     "slide_type": "subslide"
    }
   },
   "outputs": [
    {
     "name": "stdout",
     "output_type": "stream",
     "text": [
      "P =\n",
      "[[ 0.9    0.15   0.25 ]\n",
      " [ 0.075  0.8    0.25 ]\n",
      " [ 0.025  0.05   0.5  ]]\n"
     ]
    }
   ],
   "source": [
    "P = np.array([[.9, .15, .25], [.075, .8, .25], [.025, .05, .5]])\n",
    "\n",
    "print \"P =\\n\", P"
   ]
  },
  {
   "cell_type": "code",
   "execution_count": 132,
   "metadata": {
    "collapsed": false,
    "slideshow": {
     "slide_type": "fragment"
    }
   },
   "outputs": [
    {
     "data": {
      "text/plain": [
       "array([ 1.,  1.,  1.])"
      ]
     },
     "execution_count": 132,
     "metadata": {},
     "output_type": "execute_result"
    }
   ],
   "source": [
    "np.sum(P, axis = 0)"
   ]
  },
  {
   "cell_type": "markdown",
   "metadata": {
    "slideshow": {
     "slide_type": "subslide"
    }
   },
   "source": [
    "If we start out with a probability distribution of $x^T=[.5,.25,.25]$ then what will be the probability at the first iteration? How about iteration 1,000?"
   ]
  },
  {
   "cell_type": "code",
   "execution_count": 133,
   "metadata": {
    "collapsed": false,
    "slideshow": {
     "slide_type": "subslide"
    }
   },
   "outputs": [
    {
     "data": {
      "text/plain": [
       "array([[ 0.55],\n",
       "       [ 0.3 ],\n",
       "       [ 0.15]])"
      ]
     },
     "execution_count": 133,
     "metadata": {},
     "output_type": "execute_result"
    }
   ],
   "source": [
    "x = np.array([[.5], [.25], [.25]])\n",
    "\n",
    "P.dot(x)"
   ]
  },
  {
   "cell_type": "code",
   "execution_count": 134,
   "metadata": {
    "collapsed": false,
    "slideshow": {
     "slide_type": "subslide"
    }
   },
   "outputs": [
    {
     "data": {
      "text/plain": [
       "array([[ 0.625 ],\n",
       "       [ 0.3125],\n",
       "       [ 0.0625]])"
      ]
     },
     "execution_count": 134,
     "metadata": {},
     "output_type": "execute_result"
    }
   ],
   "source": [
    "for _ in xrange(1001):\n",
    "    x = P.dot(x)\n",
    "\n",
    "x"
   ]
  },
  {
   "cell_type": "code",
   "execution_count": 135,
   "metadata": {
    "collapsed": false,
    "slideshow": {
     "slide_type": "subslide"
    }
   },
   "outputs": [
    {
     "data": {
      "text/plain": [
       "1.0000000000000047"
      ]
     },
     "execution_count": 135,
     "metadata": {},
     "output_type": "execute_result"
    }
   ],
   "source": [
    "np.sum(x)"
   ]
  },
  {
   "cell_type": "code",
   "execution_count": null,
   "metadata": {
    "collapsed": true,
    "slideshow": {
     "slide_type": "-"
    }
   },
   "outputs": [],
   "source": []
  }
 ],
 "metadata": {
  "celltoolbar": "Slideshow",
  "kernelspec": {
   "display_name": "Python 2",
   "language": "python",
   "name": "python2"
  },
  "language_info": {
   "codemirror_mode": {
    "name": "ipython",
    "version": 2
   },
   "file_extension": ".py",
   "mimetype": "text/x-python",
   "name": "python",
   "nbconvert_exporter": "python",
   "pygments_lexer": "ipython2",
   "version": "2.7.12"
  }
 },
 "nbformat": 4,
 "nbformat_minor": 0
}
