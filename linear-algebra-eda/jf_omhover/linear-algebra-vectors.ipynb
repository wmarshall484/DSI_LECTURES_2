{
 "cells": [
  {
   "cell_type": "markdown",
   "metadata": {},
   "source": [
    "_CREDITS: (based on Brian Mann's notes and Jack Benedetto's notebook, plus some other cool stuff of my own)_"
   ]
  },
  {
   "cell_type": "code",
   "execution_count": null,
   "metadata": {
    "collapsed": false
   },
   "outputs": [],
   "source": [
    "%load_ext autoreload\n",
    "%autoreload 2\n",
    "\n",
    "%matplotlib inline\n",
    "import numpy as np\n",
    "from vectorplotter import VectorPlotter"
   ]
  },
  {
   "cell_type": "markdown",
   "metadata": {},
   "source": [
    "## Context : Linear Algebra and Machine Learning\n",
    "\n",
    "* Ranking web pages in order of importance\n",
    "    * Solved as the problem of finding the eigenvector of the page score matrix\n",
    "* Dimensionality reduction - Principal Component Analysis\n",
    "* Movie recommendation\n",
    "    * Use singular value decomposition (SVD) to break down user-movie into user-feature and movie-feature matrices, keeping only the top $k$-ranks to identify the best matches\n",
    "* Topic modeling\n",
    "    * Extensive use of SVD and matrix factorization can be found in Natural Language Processing, specifically in topic modeling and semantic analysis\n",
    "\n",
    "## Objectives\n",
    "\n",
    "- Perform Linear Algebra operations by hand: Multiply matrices, Add and subtract matrices, Transpose matrices, verify inverses.\n",
    "- Perform linear algebra operations in numpy.\n",
    "\n",
    "to the extend that is only necessary to understand this week's concepts in Data Science.\n"
   ]
  },
  {
   "cell_type": "markdown",
   "metadata": {},
   "source": [
    "## Warm-up: meet Frank !\n",
    "\n",
    "<img src=\"images/frank.png\" width=100 align=\"left\" style=\"margin-right:20px\"/>\n",
    "\n",
    "Frank comes in peace from planet _alwkudbzkfb_. He just recently learned english and has probably **200 words of vocabulary**. You have been chosen as an emissary from Mankind to **teach Mathematics to Frank**.\n",
    "\n",
    "### <span style=\"color:red\">QUESTION : In $\\mathbb{R}$, how would you define $+$ for Frank ?</span>"
   ]
  },
  {
   "cell_type": "markdown",
   "metadata": {},
   "source": [
    "# 1. From operations to vectors\n",
    "\n",
    "The core of linear algebra is to define such **abstract mathematical structures** from their essential properties. \n",
    "\n",
    "Then, we can use these abstract structures and their properties to **derive systemic properties, theorems, rules**, using logic.\n",
    "\n",
    "## 1.1. Operations in $\\mathbb{R}$\n",
    "\n",
    "We have seen above how one can **\"define $+$\"** in $\\mathbb{R}$ from its properties:\n",
    "\n",
    "> $x + y = y + x \\; \\; $ for any $x,y$ in $\\mathbb{R}$ **(commutativity)**\n",
    "\n",
    "> $x + (y + z) = (x + y) + z \\; \\; $ for any $x,y,z$ in $\\mathbb{R}$ **(associativity)**\n",
    "\n",
    "> there exists an element $0$ in $\\mathbb{R}$ such as $x + 0 = 0 + x = x$ for any $x \\in \\mathbb{R}$ **(identity element)**\n",
    "\n",
    "> for any $x \\in \\mathbb{R}$, there exists an element $-x \\in \\mathbb{R}$ such as $x + (-x) = 0$ **(inverse element)**\n",
    "\n",
    "\n",
    "The same way, one can **\"define $\\times$\"** in $\\mathbb{R}$:\n",
    "\n",
    "> $x \\times y = y \\times x \\; \\; $ for any $x,y$ in $\\mathbb{R}$ **(commutativity)**\n",
    "\n",
    "> $x \\times (y \\times z) = (x \\times y) \\times z \\; \\; $ for any $x,y,z$ in $\\mathbb{R}$ **(associativity)**\n",
    "\n",
    "> there exists an element $1$ in $\\mathbb{R}$ such as $x \\times 1 = 1 \\times x = x$ for any $x \\in \\mathbb{R}$ **(identity element)**\n",
    "\n",
    "> for any $x \\in \\mathbb{R}, x \\neq 0$, there exists an element $x^{-1} \\in \\mathbb{R}$ such as $x \\times x^{-1} = 1$ **(inverse element)**\n",
    "\n",
    "There is also a property between those two:\n",
    "\n",
    "> $x \\times (y + z) = (x \\times y) + (x \\times z) \\; \\; $ for any $x,y,z$ in $\\mathbb{R}$ **(distributivity)**\n",
    "\n",
    "Last (bot not least), when considering $\\mathbb{R}$ with $+$ and $\\times$, $\\mathbb{R}$ has another property of **\"closure\"**:\n",
    "\n",
    "> for any $x,y$ in $\\mathbb{R}$, $x+y \\in \\mathbb{R}$\n",
    "\n",
    "> for any $x,y$ in $\\mathbb{R}$, $x \\times y \\in \\mathbb{R}$\n",
    "\n",
    "This set of properties between $(\\mathbb{R},+,\\times)$ makes it a **Field** (just name dropping today).\n",
    "\n",
    "### <span style=\"color:red\">QUESTION : Consider $\\mathbb{N}$, $\\mathbb{Z}$, $\\mathbb{Q}$, do they also have the properties above ?</span>\n",
    "<br/>\n",
    "<details>\n",
    "<summary>Click here to see (one) solution below</summary>\n",
    "<br/>\n",
    "$\\mathbb{N}$ has closure, but not inverse element with $+$.\n",
    "<br/>\n",
    "$\\mathbb{Z}$ has closure, but not inverse element with $\\times$.\n",
    "<br/>\n",
    "$\\mathbb{Q}$ has all of them.\n",
    "</details>"
   ]
  },
  {
   "cell_type": "markdown",
   "metadata": {},
   "source": [
    "## 1.2. Vectors (with values drawn from $\\mathbb{R}$)\n",
    "\n",
    "My teacher would write vectors that way:\n",
    "\n",
    "$\n",
    "\\vec{x} =\n",
    "  \\begin{bmatrix}\n",
    "    x_1 \\\\\n",
    "    x_2 \\\\\n",
    "    \\vdots \\\\\n",
    "    x_n\n",
    "  \\end{bmatrix}\n",
    "$\n",
    "\n",
    "But since we're in python world now, a vector can also be represented by an array of real numbers:\n",
    "\n",
    "$ \\vec{x} = [x_1, x_2, \\ldots, x_n] $"
   ]
  },
  {
   "cell_type": "code",
   "execution_count": null,
   "metadata": {
    "collapsed": false
   },
   "outputs": [],
   "source": [
    "x = np.array([1,2,3,4])\n",
    "print x\n",
    "print x.shape"
   ]
  },
  {
   "cell_type": "markdown",
   "metadata": {},
   "source": [
    "Geometrically, a vector specifies the coordinates of the tip of the vector if the tail were placed at the origin"
   ]
  },
  {
   "cell_type": "code",
   "execution_count": null,
   "metadata": {
    "collapsed": false
   },
   "outputs": [],
   "source": [
    "vp = VectorPlotter(figsize=(5, 5), limits=[-1,6])\n",
    "vp.plot_vector([3,1], color='r')\n",
    "vp.plot_vector([1,5], color='g')\n",
    "vp.show()"
   ]
  },
  {
   "cell_type": "markdown",
   "metadata": {},
   "source": [
    "## 1.3. Operations in a vector space\n",
    "\n",
    "### <span style=\"color:red\">QUESTION : What operations do you know that relate to vectors ?</span>\n"
   ]
  },
  {
   "cell_type": "code",
   "execution_count": null,
   "metadata": {
    "collapsed": true
   },
   "outputs": [],
   "source": []
  },
  {
   "cell_type": "markdown",
   "metadata": {
    "collapsed": false
   },
   "source": [
    "### Sum of two vectors\n",
    "\n",
    "If we have two vectors $\\boldsymbol{x}$ and $\\boldsymbol{y}$ of the same length $(n)$, then\n",
    "\n",
    "$$\\boldsymbol{x} + \\boldsymbol{y} = [x_1+y_1, x_2+y_2, \\ldots, x_n+y_n]$$"
   ]
  },
  {
   "cell_type": "code",
   "execution_count": null,
   "metadata": {
    "collapsed": false
   },
   "outputs": [],
   "source": [
    "x = np.array([1,2,3,4])\n",
    "y = np.array([5,6,7,8])\n",
    "\n",
    "print(\"{} + {} = {}\".format(x, y, x+y))"
   ]
  },
  {
   "cell_type": "code",
   "execution_count": null,
   "metadata": {
    "collapsed": false
   },
   "outputs": [],
   "source": [
    "u = np.array([3,1])\n",
    "v = np.array([1,5])\n",
    "w = u+v\n",
    "\n",
    "vp = VectorPlotter(figsize=(5, 5), limits=[-1,7])\n",
    "vp.plot_vector(u, color='r')\n",
    "vp.plot_vector(v, color='g')\n",
    "vp.plot_vector(v, color='gray', orig=u)\n",
    "vp.plot_vector(u+v, color='b')\n",
    "vp.show()"
   ]
  },
  {
   "cell_type": "markdown",
   "metadata": {
    "collapsed": false
   },
   "source": [
    "### Adding a constant to a vector adds the constant to each element\n",
    "\n",
    "$$ a + \\vec{x} = [a + x_1, a + x_2, \\ldots, a + x_n] $$"
   ]
  },
  {
   "cell_type": "code",
   "execution_count": null,
   "metadata": {
    "collapsed": false
   },
   "outputs": [],
   "source": [
    "a = 4\n",
    "x = np.array([1,2,3,4])\n",
    "\n",
    "print(\"{} + {} = {}\".format(a, x, a+x))"
   ]
  },
  {
   "cell_type": "markdown",
   "metadata": {
    "collapsed": false
   },
   "source": [
    "### Multiplying a vector by a constant multiplies each term by the constant.\n",
    "\n",
    "$$ \\lambda . \\vec{x} = [ax_1, ax_2, \\ldots, ax_n] $$\n",
    "\n",
    "Any operation can be used this way on numpy arrays and numbers. "
   ]
  },
  {
   "cell_type": "code",
   "execution_count": null,
   "metadata": {
    "collapsed": false
   },
   "outputs": [],
   "source": [
    "l = 4\n",
    "x = np.array([1,2,3,4])\n",
    "\n",
    "print(\"{} * {} = {}\".format(l, x, l*x))"
   ]
  },
  {
   "cell_type": "markdown",
   "metadata": {
    "collapsed": false
   },
   "source": [
    "### \"Linear Combination\"\n",
    "\n",
    "We call a _linear combination_ of a collection of vectors $(\\vec{x}_1,\n",
    "                                                    \\vec{x}_2, \\ldots,\n",
    "                                                    \\vec{x}_m)$ \n",
    "any vector of the form\n",
    "\n",
    "$$ \\alpha_1 \\cdot \\vec{x}_1 + \\alpha_2 \\cdot \\vec{x}_2 + \n",
    "\\cdots + \\alpha_m \\cdot \\vec{x}_m $$          "
   ]
  },
  {
   "cell_type": "code",
   "execution_count": null,
   "metadata": {
    "collapsed": false
   },
   "outputs": [],
   "source": [
    "a1=2\n",
    "x1 = np.array([1,2,3,4])\n",
    "\n",
    "a2=4\n",
    "x2 = np.array([5,6,7,8])\n",
    "\n",
    "print a1*x1 + a2*x2"
   ]
  },
  {
   "cell_type": "markdown",
   "metadata": {
    "collapsed": true
   },
   "source": [
    "## 1.4. Vector Space\n",
    "\n",
    "Those vectors represented as arrays, with values taken in $\\mathbb{R}$ have a specificy **dimension** (number of values, degrees of freedom, components, coordinates...). The set of all vectors with n coordinates is noted $\\mathbb{R}^n$. It has all very nice properties regarding addition, multiplication by a _scalar_, etc...\n",
    "\n",
    "Considering $\\mathbb{R}^n$ and addition between vectors $+$:\n",
    "\n",
    "> $\\vec{u} + \\vec{v} = \\vec{v} + \\vec{u} \\; \\; $ for any $\\vec{u},\\vec{v}$ in $\\mathbb{R}^n$ **(commutativity)**\n",
    "\n",
    "> $\\vec{u} + (\\vec{v} + \\vec{w}) = (\\vec{u} + \\vec{v}) + \\vec{w} \\; \\; $ for any $\\vec{u},\\vec{v},\\vec{w}$ in $\\mathbb{R}^n$ **(associativity)**\n",
    "\n",
    "> there exists a **vector** $\\vec{0}$ in $\\mathbb{R}^n$ such as $\\vec{u} + 0 = 0 + \\vec{u} = \\vec{u}$ for any $\\vec{u} \\in \\mathbb{R}^n$ **(identity element)**\n",
    "\n",
    "> for any $\\vec{u} \\in \\mathbb{R}^n$, there exists an element $-\\vec{u} \\in \\mathbb{R}^n$ such as $\\vec{u} + (-\\vec{u}) = 0$ **(inverse element)**\n",
    "\n",
    "Considering $\\mathbb{R}^n$ and multiplication by a _scalar_ (value in $\\mathbb{R}$):\n",
    "\n",
    "> $1 . \\vec{u} = \\vec{u} \\; \\; $ for any $\\vec{u}$ in $\\mathbb{R}^n$ **(multiplicative identity)**\n",
    "\n",
    "> $a . (\\vec{u} + \\vec{v}) = a.\\vec{u} + a.\\vec{v} \\; \\; $ for any $a \\in \\mathbb{R}$, any $\\vec{u},\\vec{v}$ in $\\mathbb{R}^n$ **(distributivity of $.$ with $+$ of $\\mathbb{R}^n$)**\n",
    "\n",
    "> $(a + b) . \\vec{u} = a.\\vec{u} + b.\\vec{u} \\; \\; $ for any $a,b$ in $\\mathbb{R}$, any $\\vec{u} \\in \\mathbb{R}^n$ **(distributivity of $.$ with $+$ of $\\mathbb{R}$)**\n",
    "\n",
    "> $a . (b . \\vec{u}) = (a \\times b).\\vec{u} \\; \\; $ for any $a,b$ in $\\mathbb{R}$, any $\\vec{u} \\in \\mathbb{R}^n$ **(compatibility of $.$ with $\\times$ of $\\mathbb{R}$)**\n",
    "\n",
    "\n",
    "Because of all these properties, we say that $(\\mathbb{R}^n,+,.)$ is a vector space over $\\mathbb{R}$."
   ]
  },
  {
   "cell_type": "markdown",
   "metadata": {},
   "source": [
    "## 1.5. Dot product"
   ]
  },
  {
   "cell_type": "markdown",
   "metadata": {},
   "source": [
    "If we have two vectors $\\vec{x}$ and $\\vec{y}$ of the same length $(n)$, then the _dot product_ is give by\n",
    "\n",
    "$$\\vec{x} \\cdot \\vec{y} = x_1y_1 + x_2y_2 + \\cdots + x_ny_n$$"
   ]
  },
  {
   "cell_type": "code",
   "execution_count": null,
   "metadata": {
    "collapsed": false
   },
   "outputs": [],
   "source": [
    "x = np.array([1, 2, 3, 4])\n",
    "y = np.array([4, 3, 2, 1])\n",
    "print x\n",
    "print y\n",
    "np.dot(x,y)"
   ]
  },
  {
   "cell_type": "code",
   "execution_count": null,
   "metadata": {
    "collapsed": false
   },
   "outputs": [],
   "source": [
    "u = np.array([1,4])\n",
    "\n",
    "vp = VectorPlotter(figsize=(6, 5), limits=[-10,10])\n",
    "vp.plot_dotproduct(u)\n",
    "vp.show()"
   ]
  },
  {
   "cell_type": "markdown",
   "metadata": {},
   "source": [
    "If $\\vec{x} \\cdot \\vec{y} = 0$ then $\\vec{x}$ and $\\vec{y}$ are *orthogonal* (aligns with the intuitive notion of perpindicular)"
   ]
  },
  {
   "cell_type": "code",
   "execution_count": null,
   "metadata": {
    "collapsed": false
   },
   "outputs": [],
   "source": [
    "w = np.array([1, 2])\n",
    "v = np.array([-2, 1])\n",
    "np.dot(w,v)"
   ]
  },
  {
   "cell_type": "markdown",
   "metadata": {},
   "source": [
    "### Solutions to $\\vec{\\alpha} \\cdot \\vec{x} = 0$\n",
    "\n",
    "For any given vector $\n",
    "\\vec{\\alpha} =\n",
    "  \\begin{bmatrix}\n",
    "    \\alpha_1 \\\\\n",
    "    \\alpha_2 \\\\\n",
    "    \\vdots \\\\\n",
    "    \\alpha_n\n",
    "  \\end{bmatrix}\n",
    "$, let's find all the vectors $\\vec{x} =\n",
    "  \\begin{bmatrix}\n",
    "    x_1 \\\\\n",
    "    x_2 \\\\\n",
    "    \\vdots \\\\\n",
    "    x_n\n",
    "  \\end{bmatrix}\n",
    "$ such as $\\vec{u} \\cdot \\vec{x} = 0$."
   ]
  },
  {
   "cell_type": "markdown",
   "metadata": {},
   "source": [
    "### <span style=\"color:red\">QUESTION : given $\\vec{\\alpha}$ can you find $\\vec{x}$ such as $\\vec{\\alpha} \\cdot \\vec{x} = 0$ ?</span>\n",
    "\n",
    "When you've found two such $\\vec{x}$, $\\vec{y}$...\n",
    "- what happens if you multiply it by some constant $\\lambda$ ?\n",
    "- what happens if you add some constant $\\lambda$ ?\n",
    "- what happens if you add $\\vec{x}$ and $\\vec{y}$ ?\n",
    "- what would be the solutions to $\\vec{\\alpha} \\cdot \\vec{x} = \\beta$ ?"
   ]
  },
  {
   "cell_type": "code",
   "execution_count": null,
   "metadata": {
    "collapsed": false
   },
   "outputs": [],
   "source": [
    "a = np.array([1,2,3,4])\n",
    "\n",
    "x = np.array([0,0,0,0]) # find another ?\n",
    "print np.dot(a,x)\n",
    "\n",
    "y = np.array([0,0,0,0]) # find another ?\n",
    "print np.dot(a,y)"
   ]
  },
  {
   "cell_type": "code",
   "execution_count": null,
   "metadata": {
    "collapsed": false
   },
   "outputs": [],
   "source": [
    "np.dot(a,2*x)"
   ]
  },
  {
   "cell_type": "code",
   "execution_count": null,
   "metadata": {
    "collapsed": false
   },
   "outputs": [],
   "source": [
    "np.dot(a,2+x)"
   ]
  },
  {
   "cell_type": "code",
   "execution_count": null,
   "metadata": {
    "collapsed": false
   },
   "outputs": [],
   "source": [
    "np.dot(a,x+y)"
   ]
  },
  {
   "cell_type": "markdown",
   "metadata": {},
   "source": [
    "Let's visualize the dot product of u."
   ]
  },
  {
   "cell_type": "code",
   "execution_count": null,
   "metadata": {
    "collapsed": false
   },
   "outputs": [],
   "source": [
    "u = np.array([1,4])\n",
    "\n",
    "vp = VectorPlotter(figsize=(6, 5), limits=[-10,10])\n",
    "vp.plot_dotproduct(u)\n",
    "vp.show()"
   ]
  },
  {
   "cell_type": "markdown",
   "metadata": {},
   "source": [
    "We can show that this set of solutions is a vector subspace. Meaning that any linear combination of solutions to this equation is also a solution to the equation:\n",
    "\n",
    "$$\\vec{u} \\cdot \\vec{x} = \\alpha_1 x_1 + \\alpha_2 x_2 + \\cdots + \\alpha_n x_n = 0$$\n",
    "\n",
    "This set of solutions has a dimension which is equal to $n-1$."
   ]
  },
  {
   "cell_type": "markdown",
   "metadata": {},
   "source": [
    "## 1.6. Norm and distance\n",
    "\n",
    "The norm of a vector $\\mathbf{x}$ is defined by\n",
    "\n",
    "$$||\\vec{x}|| = \\sqrt{x_1^2 + x_2^2 + \\cdots + x_n^2}$$"
   ]
  },
  {
   "cell_type": "code",
   "execution_count": null,
   "metadata": {
    "collapsed": false
   },
   "outputs": [],
   "source": [
    "x = np.array([1,2,3,4])\n",
    "\n",
    "print x**2\n",
    "print np.sqrt(np.sum(x**2))\n",
    "print np.linalg.norm(x)"
   ]
  },
  {
   "cell_type": "markdown",
   "metadata": {},
   "source": [
    "The norm squared of a vector is just the vector dot product with itself\n",
    "$$\n",
    "||\\vec{x}||^2 = \\vec{x} \\cdot \\vec{x}\n",
    "$$"
   ]
  },
  {
   "cell_type": "code",
   "execution_count": null,
   "metadata": {
    "collapsed": false
   },
   "outputs": [],
   "source": [
    "print np.linalg.norm(x)**2\n",
    "print np.dot(x,x)"
   ]
  },
  {
   "cell_type": "markdown",
   "metadata": {},
   "source": [
    "The distance between two vectors is the norm of the difference.\n",
    "$$\n",
    "d(\\vec{x},\\vec{y}) = ||\\vec{x}-\\vec{y}||\n",
    "$$"
   ]
  },
  {
   "cell_type": "code",
   "execution_count": null,
   "metadata": {
    "collapsed": false
   },
   "outputs": [],
   "source": [
    "y = np.array([4, 3, 2, 1])\n",
    "\n",
    "np.linalg.norm(x-y)"
   ]
  },
  {
   "cell_type": "markdown",
   "metadata": {},
   "source": [
    "_Cosine Similarity_ is the cosine of the angle between the two vectors give by\n",
    "\n",
    "$$cos(\\theta) = \\frac{\\vec{x} \\cdot \\vec{y}}{||\\vec{x}|| \\text{ } ||\\vec{y}||}$$\n"
   ]
  },
  {
   "cell_type": "code",
   "execution_count": null,
   "metadata": {
    "collapsed": false
   },
   "outputs": [],
   "source": [
    "x = np.array([1,2,3,4])\n",
    "y = np.array([5,6,7,8])\n",
    "np.dot(x,y)/(np.linalg.norm(x)*np.linalg.norm(y))"
   ]
  },
  {
   "cell_type": "markdown",
   "metadata": {},
   "source": [
    "If both $\\vec{x}$ and $\\vec{y}$ are zero-centered, this calculation is the _correlation_ between $\\vec{x}$ and $\\vec{y}$"
   ]
  },
  {
   "cell_type": "code",
   "execution_count": null,
   "metadata": {
    "collapsed": false
   },
   "outputs": [],
   "source": [
    "x_centered = x - np.mean(x)\n",
    "print x_centered\n",
    "y_centered = y - np.mean(y)\n",
    "print y_centered\n",
    "np.dot(x_centered,y_centered)/(np.linalg.norm(x_centered)*np.linalg.norm(y_centered))"
   ]
  },
  {
   "cell_type": "markdown",
   "metadata": {},
   "source": [
    "### <span style=\"color:red\">QUESTION: calculating cosine similarity</span>\n",
    "\n",
    "- Draw a picture of the vectors [3, 4] and [2, 1] and what the cosine similarity is measuring.\n",
    "- Calculate the cosine similarity of [3, 4] and [2, 1].\n",
    "\n",
    "- What do two vectors of dimension n look like if they are **the most similar** possible? What is the cosine similarity between these two vectors?\n",
    "- What do two vectors of dimension n look like if they are **the least similar** possible? What is the cosine similarity between these two vectors?\n",
    "- If the values are all nonnegative, does this change your answer to the previous two questions (2 & 3)?"
   ]
  },
  {
   "cell_type": "code",
   "execution_count": null,
   "metadata": {
    "collapsed": false
   },
   "outputs": [],
   "source": [
    "u = np.array([3,4])\n",
    "v = np.array([2,1])\n",
    "\n",
    "vp = VectorPlotter(figsize=(5, 5), limits=[-1,5])\n",
    "vp.plot_vector(u, color='r')\n",
    "vp.plot_vector(v, color='g')\n",
    "vp.show()"
   ]
  },
  {
   "cell_type": "code",
   "execution_count": null,
   "metadata": {
    "collapsed": true
   },
   "outputs": [],
   "source": []
  }
 ],
 "metadata": {
  "anaconda-cloud": {},
  "kernelspec": {
   "display_name": "Python [conda env:py27]",
   "language": "python",
   "name": "conda-env-py27-py"
  },
  "language_info": {
   "codemirror_mode": {
    "name": "ipython",
    "version": 2
   },
   "file_extension": ".py",
   "mimetype": "text/x-python",
   "name": "python",
   "nbconvert_exporter": "python",
   "pygments_lexer": "ipython2",
   "version": "2.7.12"
  }
 },
 "nbformat": 4,
 "nbformat_minor": 1
}
