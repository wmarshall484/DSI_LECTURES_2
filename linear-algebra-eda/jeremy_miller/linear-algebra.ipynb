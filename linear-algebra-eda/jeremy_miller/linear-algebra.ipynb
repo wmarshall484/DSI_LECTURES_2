{
 "cells": [
  {
   "cell_type": "markdown",
   "metadata": {},
   "source": [
    "# Linear Algebra with Examples Using Numpy"
   ]
  },
  {
   "cell_type": "code",
   "execution_count": 1,
   "metadata": {},
   "outputs": [],
   "source": [
    "import numpy as np\n",
    "import scipy.spatial.distance as spd\n",
    "from numpy.random import randn as randn\n",
    "from numpy.random import randint as randint\n",
    "import matplotlib.pyplot as plt\n",
    "plt.style.use(\"ggplot\")\n",
    "import warnings\n",
    "warnings.filterwarnings('ignore')\n",
    "\n",
    "%matplotlib inline"
   ]
  },
  {
   "cell_type": "markdown",
   "metadata": {},
   "source": [
    "## Objectives\n",
    "* Understand basic vector and matrix properties\n",
    " * Shape\n",
    " * Norm / Length\n",
    " * Span\n",
    " * Linear Dependence\n",
    "* Understand basic vector and matrix operations\n",
    " * Dot product\n",
    " * Scalar addition\n",
    " * Scalar multiplication\n",
    " * Transpose\n",
    " * Euclidean distance\n",
    " * Cosine\n",
    "* Invertability\n",
    "* Determinant\n",
    " * Scaling factor of area\n",
    " * Determinant 0 means a decrease in dimensionality\n",
    " * A sign of linear dependance (duplicate data)\n",
    "* Eigenvectors and Eigenvalues\n"
   ]
  },
  {
   "cell_type": "markdown",
   "metadata": {},
   "source": [
    "## Linear Algebra and Machine Learning\n",
    "\n",
    "\n",
    "* Regression problems: linear, logistic, etc...\n",
    "    * Reduces to solving either a single, or multiple systems of equations.\n",
    "* Ranking web pages\n",
    "    * Solved as the problem of finding the eigenvector of the page score matrix, which is solved either as systems of equations, or an iterative multiplication algorithm.\n",
    "* Dimensionality reduction - Principal Component Analysis\n",
    "    * Again, eigenvalues.\n",
    "* Recommendation systems\n",
    "    * Use singular value decomposition (SVD, a matrix factorization) to break down user-movie into user-feature and movie-feature matrices, keeping only the top $k$-ranks to identify the best matches.\n",
    "* Topic modeling\n",
    "    * Extensive use of SVD and matrix factorization can be found in Natural Language Processing, specifically in topic modeling and semantic analysis."
   ]
  },
  {
   "cell_type": "markdown",
   "metadata": {},
   "source": [
    "## Vectors"
   ]
  },
  {
   "cell_type": "markdown",
   "metadata": {},
   "source": [
    "A **vector** is an array of real numbers\n",
    "\n",
    "$$\\boldsymbol{x} = [x_1, x_2, \\ldots, x_n]$$"
   ]
  },
  {
   "cell_type": "code",
   "execution_count": 34,
   "metadata": {},
   "outputs": [
    {
     "name": "stdout",
     "output_type": "stream",
     "text": [
      "[1 2 3 4]\n",
      "(4,)\n"
     ]
    }
   ],
   "source": [
    "x = np.array([1, 2, 3, 4])\n",
    "print(x)\n",
    "print(x.shape)"
   ]
  },
  {
   "cell_type": "code",
   "execution_count": 35,
   "metadata": {},
   "outputs": [
    {
     "data": {
      "text/plain": [
       "array([[1],\n",
       "       [2],\n",
       "       [3],\n",
       "       [4]])"
      ]
     },
     "execution_count": 35,
     "metadata": {},
     "output_type": "execute_result"
    }
   ],
   "source": [
    "x2 = x.reshape(-1, 1)\n",
    "x2"
   ]
  },
  {
   "cell_type": "code",
   "execution_count": 36,
   "metadata": {},
   "outputs": [
    {
     "data": {
      "text/plain": [
       "(4, 1)"
      ]
     },
     "execution_count": 36,
     "metadata": {},
     "output_type": "execute_result"
    }
   ],
   "source": [
    "x2.shape"
   ]
  },
  {
   "cell_type": "code",
   "execution_count": 37,
   "metadata": {},
   "outputs": [
    {
     "name": "stdout",
     "output_type": "stream",
     "text": [
      "[[1 2 3 4]]\n",
      "(1, 4)\n"
     ]
    }
   ],
   "source": [
    "print(x2.T)\n",
    "print(x2.T.shape)"
   ]
  },
  {
   "cell_type": "code",
   "execution_count": 38,
   "metadata": {},
   "outputs": [
    {
     "name": "stdout",
     "output_type": "stream",
     "text": [
      "[1 2 3 4]\n",
      "[1 2 3 4]\n",
      "(4,)\n"
     ]
    }
   ],
   "source": [
    "print(x)\n",
    "print(x.T)\n",
    "print(x.T.shape)"
   ]
  },
  {
   "cell_type": "code",
   "execution_count": 39,
   "metadata": {},
   "outputs": [
    {
     "data": {
      "text/plain": [
       "array([[3, 4],\n",
       "       [7, 1]])"
      ]
     },
     "execution_count": 39,
     "metadata": {},
     "output_type": "execute_result"
    }
   ],
   "source": [
    "foo = np.array([[3,4],[7,1]])\n",
    "foo"
   ]
  },
  {
   "cell_type": "code",
   "execution_count": 40,
   "metadata": {},
   "outputs": [
    {
     "data": {
      "text/plain": [
       "array([[3, 4, 7, 1]])"
      ]
     },
     "execution_count": 40,
     "metadata": {},
     "output_type": "execute_result"
    }
   ],
   "source": [
    "foo.reshape(1,4)"
   ]
  },
  {
   "cell_type": "code",
   "execution_count": 41,
   "metadata": {},
   "outputs": [
    {
     "data": {
      "text/plain": [
       "array([[3],\n",
       "       [4],\n",
       "       [7],\n",
       "       [1]])"
      ]
     },
     "execution_count": 41,
     "metadata": {},
     "output_type": "execute_result"
    }
   ],
   "source": [
    "foo.reshape(4,1)"
   ]
  },
  {
   "cell_type": "code",
   "execution_count": 42,
   "metadata": {},
   "outputs": [
    {
     "data": {
      "text/plain": [
       "array([[3],\n",
       "       [4],\n",
       "       [7],\n",
       "       [1]])"
      ]
     },
     "execution_count": 42,
     "metadata": {},
     "output_type": "execute_result"
    }
   ],
   "source": [
    "foo.reshape(-1,1)"
   ]
  },
  {
   "cell_type": "markdown",
   "metadata": {},
   "source": [
    "## Geometrically, a vector specifies the coordinates of the tip of the vector if the tail were placed at the origin"
   ]
  },
  {
   "cell_type": "code",
   "execution_count": 43,
   "metadata": {},
   "outputs": [
    {
     "data": {
      "image/png": "[encoded data removed]",
      "text/plain": [
       "<Figure size 432x288 with 1 Axes>"
      ]
     },
     "metadata": {
      "needs_background": "light"
     },
     "output_type": "display_data"
    }
   ],
   "source": [
    "fig, ax = plt.subplots()\n",
    "\n",
    "def plot_arrow_from_origin(ax, x, color=\"black\"):\n",
    "    xlim = ax.get_xlim()\n",
    "    new_xlim = [0, 0]\n",
    "    new_xlim[0] = np.min([xlim[0], x[0] - 0.5])\n",
    "    new_xlim[1] = np.max([xlim[1], x[0] + 0.5])\n",
    "    ax.set_xlim(new_xlim)\n",
    "    ylim = ax.get_ylim()\n",
    "    new_ylim = [0, 0]\n",
    "    new_ylim[0] = np.min([ylim[0], x[1] - 0.5])\n",
    "    new_ylim[1] = np.max([ylim[1], x[1] + 0.5])\n",
    "    ax.set_ylim(new_ylim)\n",
    "    ax.set(adjustable='box-forced', aspect='equal')\n",
    "    ax.arrow(0, 0, x[0], x[1],\n",
    "             head_width=0.1, linewidth=3, head_length=0.2,\n",
    "             fc=color, ec=color)\n",
    "    \n",
    "plot_arrow_from_origin(ax, (1, 1))\n",
    "plot_arrow_from_origin(ax, (0.5, -1))\n",
    "plot_arrow_from_origin(ax, (-1, 0.75))"
   ]
  },
  {
   "cell_type": "markdown",
   "metadata": {},
   "source": [
    "Adding a constant to a vector adds the constant to each element\n",
    "\n",
    "\n",
    "$$a + \\boldsymbol{x} = [a + x_1, a + x_2, \\ldots, a + x_n]$$"
   ]
  },
  {
   "cell_type": "code",
   "execution_count": 44,
   "metadata": {},
   "outputs": [
    {
     "name": "stdout",
     "output_type": "stream",
     "text": [
      "[1 2 3 4]\n",
      "[5 6 7 8]\n"
     ]
    }
   ],
   "source": [
    "a = 4\n",
    "print(x)\n",
    "print(x + a)"
   ]
  },
  {
   "cell_type": "code",
   "execution_count": 45,
   "metadata": {},
   "outputs": [
    {
     "data": {
      "image/png": "[encoded data removed]",
      "text/plain": [
       "<Figure size 432x288 with 1 Axes>"
      ]
     },
     "metadata": {
      "needs_background": "light"
     },
     "output_type": "display_data"
    }
   ],
   "source": [
    "v = np.array([2,5])\n",
    "s = 3\n",
    "\n",
    "fig, ax = plt.subplots()\n",
    "plot_arrow_from_origin(ax, (v))\n",
    "plot_arrow_from_origin(ax, (v + s), color='r')\n",
    "ax.set_title(\"Are these vectors linearly dependent?\")\n",
    "plt.show()"
   ]
  },
  {
   "cell_type": "markdown",
   "metadata": {},
   "source": [
    "Multiplying a vector by a constant multiplies each term by the constant.\n",
    "\n",
    "$$a \\boldsymbol{x} = [ax_1, ax_2, \\ldots, ax_n]$$\n",
    "\n",
    "Any operation can be used this way on numpy arrays and numbers. "
   ]
  },
  {
   "cell_type": "code",
   "execution_count": 46,
   "metadata": {
    "scrolled": true
   },
   "outputs": [
    {
     "name": "stdout",
     "output_type": "stream",
     "text": [
      "4\n",
      "[1 2 3 4]\n",
      "[ 4  8 12 16]\n"
     ]
    }
   ],
   "source": [
    "print(a)\n",
    "print(x)\n",
    "print(a * x)"
   ]
  },
  {
   "cell_type": "code",
   "execution_count": 47,
   "metadata": {},
   "outputs": [
    {
     "data": {
      "image/png": "[encoded data removed]",
      "text/plain": [
       "<Figure size 432x288 with 2 Axes>"
      ]
     },
     "metadata": {
      "needs_background": "light"
     },
     "output_type": "display_data"
    }
   ],
   "source": [
    "v = np.array([2,5])\n",
    "s = 3\n",
    "\n",
    "fig, ax = plt.subplots(1,2)\n",
    "plot_arrow_from_origin(ax[0], (v))\n",
    "plot_arrow_from_origin(ax[1], (v * s), color='r')"
   ]
  },
  {
   "cell_type": "code",
   "execution_count": 48,
   "metadata": {},
   "outputs": [
    {
     "data": {
      "image/png": "[encoded data removed]",
      "text/plain": [
       "<Figure size 432x288 with 1 Axes>"
      ]
     },
     "metadata": {
      "needs_background": "light"
     },
     "output_type": "display_data"
    }
   ],
   "source": [
    "v = np.array([2,5])\n",
    "s = 3\n",
    "\n",
    "fig, ax = plt.subplots()\n",
    "plot_arrow_from_origin(ax, (v))\n",
    "plot_arrow_from_origin(ax, (v * s), color='yellow')\n",
    "ax.set_title(\"Are these vectors linearly dependent?\")\n",
    "plt.show()"
   ]
  },
  {
   "cell_type": "markdown",
   "metadata": {},
   "source": [
    "The **norm** or **length of a vector** $\\mathbf{x}$ is defined by using the pythagorean theorem\n",
    "\n",
    "$$||\\boldsymbol{x}|| = \\sqrt{x_1^2 + x_2^2 + \\cdots + x_n^2}$$\n"
   ]
  },
  {
   "cell_type": "code",
   "execution_count": 49,
   "metadata": {},
   "outputs": [
    {
     "name": "stdout",
     "output_type": "stream",
     "text": [
      "[1 2 3 4]\n",
      "[ 1  4  9 16]\n",
      "5.477225575051661\n",
      "5.477225575051661\n"
     ]
    }
   ],
   "source": [
    "print(x)\n",
    "print(x**2)\n",
    "print(np.sqrt(np.sum(x**2)))\n",
    "print(np.linalg.norm(x))"
   ]
  },
  {
   "cell_type": "markdown",
   "metadata": {},
   "source": [
    "  \n",
    "And a **unit vector** is one for which\n",
    "\n",
    "$$||\\boldsymbol{x}|| = 1 $$"
   ]
  },
  {
   "cell_type": "code",
   "execution_count": 50,
   "metadata": {},
   "outputs": [
    {
     "data": {
      "image/png": "[encoded data removed]",
      "text/plain": [
       "<Figure size 432x288 with 1 Axes>"
      ]
     },
     "metadata": {
      "needs_background": "light"
     },
     "output_type": "display_data"
    }
   ],
   "source": [
    "fig, ax = plt.subplots()\n",
    "plot_arrow_from_origin(ax, (1,0))\n",
    "plot_arrow_from_origin(ax, (0,1))"
   ]
  },
  {
   "cell_type": "code",
   "execution_count": 51,
   "metadata": {},
   "outputs": [
    {
     "data": {
      "image/png": "[encoded data removed]",
      "text/plain": [
       "<Figure size 864x288 with 2 Axes>"
      ]
     },
     "metadata": {
      "needs_background": "light"
     },
     "output_type": "display_data"
    }
   ],
   "source": [
    "def unit_vector_from_angle(angle):\n",
    "    return np.array([np.cos(angle), np.sin(angle)])\n",
    "\n",
    "fig, axs = plt.subplots(1, 2, figsize=(12, 4))\n",
    "\n",
    "angles = np.linspace(0, 2*np.pi, num=16)\n",
    "for angle in angles:\n",
    "    plot_arrow_from_origin(axs[0], unit_vector_from_angle(angle))\n",
    "axs[0].set_title(\"Unit Vectors\")\n",
    "    \n",
    "scales = np.linspace(0.2, 2, num=16)\n",
    "for angle, scale in zip(angles, scales):\n",
    "    plot_arrow_from_origin(axs[1], scale*unit_vector_from_angle(angle))\n",
    "axs[1].set_title(\"Vectors of Increasing Length\");"
   ]
  },
  {
   "cell_type": "markdown",
   "metadata": {},
   "source": [
    "### Dot Products and Angles Between Vectors"
   ]
  },
  {
   "cell_type": "markdown",
   "metadata": {},
   "source": [
    "If we have two vectors $\\boldsymbol{x}$ and $\\boldsymbol{y}$ of the same length $(n)$, then the _dot product_ is given by\n",
    "\n",
    "$$\\boldsymbol{x} \\cdot \\boldsymbol{y} = x_1y_1 + x_2y_2 + \\cdots + x_ny_n$$"
   ]
  },
  {
   "cell_type": "code",
   "execution_count": 52,
   "metadata": {},
   "outputs": [
    {
     "name": "stdout",
     "output_type": "stream",
     "text": [
      "[1 2 3 4]\n",
      "[4 3 2 1]\n"
     ]
    },
    {
     "data": {
      "text/plain": [
       "20"
      ]
     },
     "execution_count": 52,
     "metadata": {},
     "output_type": "execute_result"
    }
   ],
   "source": [
    "y = np.array([4, 3, 2, 1])\n",
    "print(x)\n",
    "print(y)\n",
    "np.dot(x,y)"
   ]
  },
  {
   "cell_type": "markdown",
   "metadata": {},
   "source": [
    "## The dot product of two vectors is a scalar."
   ]
  },
  {
   "cell_type": "markdown",
   "metadata": {},
   "source": [
    "The dot product looks like a strange thing, but it is important because it allows you to easily communicate the **angle between two vectors**."
   ]
  },
  {
   "cell_type": "markdown",
   "metadata": {},
   "source": [
    "The **cosine of the angle between the two vectors** can be computed by the following formula:\n",
    "\n",
    "$$cos(\\theta) = \\frac{\\boldsymbol{x} \\cdot \\boldsymbol{y}}{||\\boldsymbol{x}|| \\text{ } ||\\boldsymbol{y}||}$$\n",
    "\n"
   ]
  },
  {
   "cell_type": "code",
   "execution_count": 53,
   "metadata": {},
   "outputs": [
    {
     "data": {
      "text/plain": [
       "0.9688639316269662"
      ]
     },
     "execution_count": 53,
     "metadata": {},
     "output_type": "execute_result"
    }
   ],
   "source": [
    "x = np.array([1, 2, 3, 4])\n",
    "y = np.array([5, 6, 7, 8])\n",
    "np.dot(x, y) / (np.linalg.norm(x) * np.linalg.norm(y))"
   ]
  },
  {
   "cell_type": "code",
   "execution_count": 54,
   "metadata": {},
   "outputs": [
    {
     "data": {
      "text/plain": [
       "5.477225575051661"
      ]
     },
     "execution_count": 54,
     "metadata": {},
     "output_type": "execute_result"
    }
   ],
   "source": [
    "np.linalg.norm(x)"
   ]
  },
  {
   "cell_type": "code",
   "execution_count": 55,
   "metadata": {},
   "outputs": [
    {
     "data": {
      "text/plain": [
       "70"
      ]
     },
     "execution_count": 55,
     "metadata": {},
     "output_type": "execute_result"
    }
   ],
   "source": [
    "x.dot(y)"
   ]
  },
  {
   "cell_type": "code",
   "execution_count": 56,
   "metadata": {},
   "outputs": [
    {
     "data": {
      "text/plain": [
       "array([[70]])"
      ]
     },
     "execution_count": 56,
     "metadata": {},
     "output_type": "execute_result"
    }
   ],
   "source": [
    "np.dot(x.reshape(-1,1).T, y.reshape(-1,1))"
   ]
  },
  {
   "cell_type": "code",
   "execution_count": 57,
   "metadata": {},
   "outputs": [
    {
     "data": {
      "text/plain": [
       "70"
      ]
     },
     "execution_count": 57,
     "metadata": {},
     "output_type": "execute_result"
    }
   ],
   "source": [
    "np.dot(x.reshape(-1,1).T, y.reshape(-1,1))[0,0]"
   ]
  },
  {
   "cell_type": "code",
   "execution_count": 58,
   "metadata": {},
   "outputs": [
    {
     "data": {
      "image/png": "[encoded data removed]",
      "text/plain": [
       "<Figure size 864x576 with 9 Axes>"
      ]
     },
     "metadata": {
      "needs_background": "light"
     },
     "output_type": "display_data"
    }
   ],
   "source": [
    "fig, axs = plt.subplots(3, 3, figsize=(12, 8))\n",
    "\n",
    "angles = np.linspace(0, 2*np.pi, num=11)\n",
    "for ax, angle in zip(axs.flatten(), angles[1:-1]):\n",
    "    v = unit_vector_from_angle(angle)\n",
    "    plot_arrow_from_origin(ax, v)\n",
    "    ax.set_xlim((-2, 2)); ax.set_ylim(-1.5, 1.5)\n",
    "    plot_arrow_from_origin(ax, (1, 0), color=\"green\")\n",
    "    \n",
    "    dot_prod = np.dot((1, 0), v)\n",
    "    ax.set_title(\"Dot Product: {:2.2f}\".format(dot_prod))\n",
    "    \n",
    "plt.tight_layout()"
   ]
  },
  {
   "cell_type": "code",
   "execution_count": 60,
   "metadata": {},
   "outputs": [
    {
     "data": {
      "image/png": "[encoded data removed]",
      "text/plain": [
       "<Figure size 864x576 with 9 Axes>"
      ]
     },
     "metadata": {
      "needs_background": "light"
     },
     "output_type": "display_data"
    }
   ],
   "source": [
    "fig, axs = plt.subplots(3, 3, figsize=(12, 8))\n",
    "\n",
    "angles = np.linspace(0, 2*np.pi, num=11)\n",
    "for ax, angle in zip(axs.flatten(), angles[1:-1]):\n",
    "    v = unit_vector_from_angle(angle)\n",
    "    plot_arrow_from_origin(ax, v)\n",
    "    ax.set_xlim((-2, 2)); ax.set_ylim(-1.5, 1.5)\n",
    "    plot_arrow_from_origin(ax, (1, 0), color=\"green\")\n",
    "    \n",
    "    cos = 1 - spd.cosine((1, 0), v)\n",
    "    ax.set_title(\"Cosine Similarity: {:2.2f}\".format(cos))\n",
    "    \n",
    "plt.tight_layout()"
   ]
  },
  {
   "cell_type": "markdown",
   "metadata": {},
   "source": [
    "## If $\\boldsymbol{x} \\cdot \\boldsymbol{y} = 0$ then $\\boldsymbol{x}$ and $\\boldsymbol{y}$ are *orthogonal* (aligns with the intuitive notion of perpendicular)"
   ]
  },
  {
   "cell_type": "code",
   "execution_count": 61,
   "metadata": {},
   "outputs": [
    {
     "data": {
      "text/plain": [
       "0"
      ]
     },
     "execution_count": 61,
     "metadata": {},
     "output_type": "execute_result"
    }
   ],
   "source": [
    "w = np.array([1, 2])\n",
    "v = np.array([-2, 1])\n",
    "np.dot(w, v)"
   ]
  },
  {
   "cell_type": "markdown",
   "metadata": {},
   "source": [
    "A picture shows that these are perpendicular."
   ]
  },
  {
   "cell_type": "code",
   "execution_count": 62,
   "metadata": {},
   "outputs": [
    {
     "data": {
      "image/png": "[encoded data removed]",
      "text/plain": [
       "<Figure size 432x288 with 1 Axes>"
      ]
     },
     "metadata": {
      "needs_background": "light"
     },
     "output_type": "display_data"
    }
   ],
   "source": [
    "fig, ax = plt.subplots()\n",
    "\n",
    "plot_arrow_from_origin(ax, (1, 2))\n",
    "plot_arrow_from_origin(ax, (-2, 1))"
   ]
  },
  {
   "cell_type": "markdown",
   "metadata": {},
   "source": [
    "The square of the norm of a vector is just the vector dot product with itself\n",
    "$$\n",
    "||\\boldsymbol{x}||^2 = \\boldsymbol{x} \\cdot \\boldsymbol{x}\n",
    "$$\n",
    "\n",
    "OR...  \n",
    "The square root of the vector dot product with itself is the norm of the vector\n",
    "$$\n",
    "||\\boldsymbol{x}|| = \\sqrt{\\boldsymbol{x} \\cdot \\boldsymbol{x}}\n",
    "$$"
   ]
  },
  {
   "cell_type": "code",
   "execution_count": 63,
   "metadata": {},
   "outputs": [
    {
     "name": "stdout",
     "output_type": "stream",
     "text": [
      "30.0\n",
      "30\n"
     ]
    }
   ],
   "source": [
    "print(np.linalg.norm(x)**2)\n",
    "print(np.dot(x, x))"
   ]
  },
  {
   "cell_type": "markdown",
   "metadata": {},
   "source": [
    "The **distance between two vectors** is the norm of the difference.\n",
    "\n",
    "$$\n",
    "d(\\boldsymbol{x},\\boldsymbol{y}) = ||\\boldsymbol{x}-\\boldsymbol{y}||\n",
    "$$"
   ]
  },
  {
   "cell_type": "code",
   "execution_count": 59,
   "metadata": {},
   "outputs": [
    {
     "name": "stdout",
     "output_type": "stream",
     "text": [
      "[3 4]\n",
      "5.0\n"
     ]
    }
   ],
   "source": [
    "p = np.array([4,6])\n",
    "q = np.array([1,2])\n",
    "print(p - q)\n",
    "print(np.linalg.norm(p - q))"
   ]
  },
  {
   "cell_type": "code",
   "execution_count": 60,
   "metadata": {},
   "outputs": [
    {
     "name": "stdout",
     "output_type": "stream",
     "text": [
      "[1 2 3 4]\n",
      "[5 6 7 8]\n"
     ]
    },
    {
     "data": {
      "text/plain": [
       "8.0"
      ]
     },
     "execution_count": 60,
     "metadata": {},
     "output_type": "execute_result"
    }
   ],
   "source": [
    "print(x)\n",
    "print(y)\n",
    "np.linalg.norm(x - y)"
   ]
  },
  {
   "cell_type": "code",
   "execution_count": 61,
   "metadata": {
    "scrolled": true
   },
   "outputs": [],
   "source": [
    "# np.dot(x.reshape(-1,1), y.reshape(-1,1))"
   ]
  },
  {
   "cell_type": "code",
   "execution_count": 62,
   "metadata": {},
   "outputs": [
    {
     "data": {
      "text/plain": [
       "array([[70]])"
      ]
     },
     "execution_count": 62,
     "metadata": {},
     "output_type": "execute_result"
    }
   ],
   "source": [
    "np.dot(y.reshape(1,4), x.reshape(-1,1))"
   ]
  },
  {
   "cell_type": "markdown",
   "metadata": {},
   "source": [
    "### Linear Combinations of Vectors"
   ]
  },
  {
   "cell_type": "markdown",
   "metadata": {},
   "source": [
    "If we have two vectors $\\boldsymbol{x}$ and $\\boldsymbol{y}$ of the same length $(n)$, then\n",
    "\n",
    "$$\\boldsymbol{x} + \\boldsymbol{y} = [x_1+y_1, x_2+y_2, \\ldots, x_n+y_n]$$"
   ]
  },
  {
   "cell_type": "code",
   "execution_count": 63,
   "metadata": {},
   "outputs": [
    {
     "name": "stdout",
     "output_type": "stream",
     "text": [
      "[ 6  8 10 12]\n"
     ]
    }
   ],
   "source": [
    "x = np.array([1, 2, 3, 4])\n",
    "y = np.array([5, 6, 7, 8])\n",
    "print(x + y)"
   ]
  },
  {
   "cell_type": "markdown",
   "metadata": {},
   "source": [
    "Geometrically, this adds vectors with the **parallelogram rule**:\n",
    "\n",
    "![](parallelogram-rule.gif)"
   ]
  },
  {
   "cell_type": "markdown",
   "metadata": {},
   "source": [
    "A **linear combination** of a collection of vectors $(\\boldsymbol{x}_1,\n",
    "                                                    \\boldsymbol{x}_2, \\ldots,\n",
    "                                                    \\boldsymbol{x}_m)$ \n",
    "is a vector of the form\n",
    "\n",
    "$$a_1 \\cdot \\boldsymbol{x}_1 + a_2 \\cdot \\boldsymbol{x}_2 + \n",
    "\\cdots + a_m \\cdot \\boldsymbol{x}_m$$\n",
    "\n",
    "That is, **a linear combination is formed out of a collection of vectors by multiplying them by various constants, and then adding the results.**"
   ]
  },
  {
   "cell_type": "code",
   "execution_count": 64,
   "metadata": {},
   "outputs": [
    {
     "name": "stdout",
     "output_type": "stream",
     "text": [
      "a1*x1 = [2 4 6 8]\n",
      "a2*x2 = [20 24 28 32]\n",
      "a1*x1 + a2*x2 = [22 28 34 40]\n"
     ]
    }
   ],
   "source": [
    "a1=2\n",
    "x1 = np.array([1, 2, 3, 4])\n",
    "print(\"a1*x1 = {}\".format(a1*x1))\n",
    "a2=4\n",
    "x2 = np.array([5, 6, 7, 8])\n",
    "print(\"a2*x2 = {}\".format(a2*x2))\n",
    "print(\"a1*x1 + a2*x2 = {}\".format(a1*x1 + a2*x2))"
   ]
  },
  {
   "cell_type": "markdown",
   "metadata": {},
   "source": [
    "Geometrically, all of the linear combinations of a collection of vectors trace out the **span of those vectors**.  \n",
    "\n",
    "The **span** of two 2-D vectors wich are linearly independent is a **plane**.\n",
    "\n",
    "The **span** of three 3-D vectors which are linearly independent is **three-dimensional space**.\n",
    "\n",
    "\n",
    "![](linear-combination-plane.png)"
   ]
  },
  {
   "cell_type": "markdown",
   "metadata": {},
   "source": [
    "# Matrices"
   ]
  },
  {
   "cell_type": "markdown",
   "metadata": {},
   "source": [
    "An **$n \\times p$ matrix** is an array of numbers with $n$ rows and $p$ columns:\n",
    "\n",
    "$$\n",
    "X =\n",
    "  \\begin{bmatrix}\n",
    "    x_{11} & x_{12} & \\cdots & x_{1p} \\\\\n",
    "    x_{21} & x_{22} & \\cdots & x_{2p} \\\\\n",
    "    \\vdots & \\vdots & \\ddots & \\vdots \\\\\n",
    "    x_{n1} & x_{n2} & \\cdots & x_{np} \n",
    "  \\end{bmatrix}\n",
    "$$\n",
    "\n",
    "Often in data science, matricies are used as a low level representation of a data set.  In this context:\n",
    "\n",
    "- $n$ = number of rows = the number of observations  \n",
    "- $p$ = number of columns = the number of features"
   ]
  },
  {
   "cell_type": "markdown",
   "metadata": {},
   "source": [
    "### Matrices in Numpy"
   ]
  },
  {
   "cell_type": "markdown",
   "metadata": {},
   "source": [
    "In `numpy` matricies and vectors are both represented as `numpy.array`s.\n",
    "\n",
    "  - A vector is a **1-dimensional** array.\n",
    "  - A matrix is a **2-dimensional** array.\n",
    "\n",
    "For example, the following $2 \\times 3$ matrix\n",
    "$$\n",
    "X =\n",
    "  \\begin{bmatrix}\n",
    "    1 & 2 & 3\\\\\n",
    "    4 & 5 & 6\n",
    "  \\end{bmatrix}\n",
    "$$\n",
    "\n",
    "Can be created using numpy as:"
   ]
  },
  {
   "cell_type": "code",
   "execution_count": 70,
   "metadata": {},
   "outputs": [
    {
     "name": "stdout",
     "output_type": "stream",
     "text": [
      "[[1 2 3]\n",
      " [4 5 6]]\n"
     ]
    }
   ],
   "source": [
    "L = [[1, 2, 3], [4, 5, 6]]\n",
    "X = np.array(L)\n",
    "print(X)"
   ]
  },
  {
   "cell_type": "markdown",
   "metadata": {},
   "source": [
    "The `shape` attribute now tells us the number of rows and columns"
   ]
  },
  {
   "cell_type": "code",
   "execution_count": 71,
   "metadata": {},
   "outputs": [
    {
     "name": "stdout",
     "output_type": "stream",
     "text": [
      "(2, 3)\n"
     ]
    }
   ],
   "source": [
    "print(X.shape)"
   ]
  },
  {
   "cell_type": "markdown",
   "metadata": {},
   "source": [
    "### Basic Arithmetic\n",
    "\n",
    "\n",
    "Let $X$ and $Y$ be matrices **of shape $n \\times p$** (i.e. of **the same shape**).\n",
    "\n",
    "We often use $x_{ij}$ $y_{ij}$ for $i=1, 2, \\ldots, n$ and $j=1, 2, \\ldots, p$ denote the entries of the matrix.\n",
    "\n",
    "1. $X+Y$ is the matrix whose $(i,j)^{th}$ entry is $x_{ij} + y_{ij}$.  That is, the **matrix created by adding entry-by-entry**.\n",
    "2. $X-Y$ is the matrix whose $(i,j)^{th}$ entry is $x_{ij} - y_{ij}$ That is, the **matrix created by subtracting entry-by-entry**.\n",
    "3. $aX$, where $a$ is any real number, is the matrix whose $(i,j)^{th}$ entry is $ax_{ij}$. That is, the **matrix created by multiplying every entry by $a$**."
   ]
  },
  {
   "cell_type": "code",
   "execution_count": 72,
   "metadata": {},
   "outputs": [
    {
     "name": "stdout",
     "output_type": "stream",
     "text": [
      "X = \n",
      "[[1 2 3]\n",
      " [4 5 6]]\n",
      "\n",
      "Y = \n",
      "[[ 7  8  9]\n",
      " [10 11 12]]\n",
      "\n",
      "X + Y = \n",
      "[[ 8 10 12]\n",
      " [14 16 18]]\n"
     ]
    }
   ],
   "source": [
    "X = np.array([[1, 2, 3], [4, 5, 6]])\n",
    "print(\"X = \\n{}\".format(X))\n",
    "print()\n",
    "\n",
    "Y = np.array([[7, 8, 9], [10, 11, 12]])\n",
    "print(\"Y = \\n{}\".format(Y))\n",
    "print()\n",
    "\n",
    "print(\"X + Y = \\n{}\".format(X + Y))"
   ]
  },
  {
   "cell_type": "code",
   "execution_count": 73,
   "metadata": {},
   "outputs": [
    {
     "name": "stdout",
     "output_type": "stream",
     "text": [
      "X = \n",
      "[[1 2 3]\n",
      " [4 5 6]]\n",
      "\n",
      "Y = \n",
      "[[ 7  8  9]\n",
      " [10 11 12]]\n",
      "\n",
      "X - Y = \n",
      "[[-6 -6 -6]\n",
      " [-6 -6 -6]]\n"
     ]
    }
   ],
   "source": [
    "X = np.array([[1, 2, 3], [4, 5, 6]])\n",
    "print(\"X = \\n{}\".format(X))\n",
    "print()\n",
    "\n",
    "Y = np.array([[7, 8, 9], [10, 11, 12]])\n",
    "print(\"Y = \\n{}\".format(Y))\n",
    "print()\n",
    "\n",
    "print(\"X - Y = \\n{}\".format(X - Y))"
   ]
  },
  {
   "cell_type": "code",
   "execution_count": 79,
   "metadata": {},
   "outputs": [],
   "source": [
    "m = np.dot(X.T, Y)**2"
   ]
  },
  {
   "cell_type": "code",
   "execution_count": null,
   "metadata": {},
   "outputs": [],
   "source": []
  },
  {
   "cell_type": "code",
   "execution_count": 80,
   "metadata": {},
   "outputs": [
    {
     "name": "stdout",
     "output_type": "stream",
     "text": [
      "X = \n",
      "[[1 2 3]\n",
      " [4 5 6]]\n",
      "\n",
      "5X = \n",
      "[[ 5 10 15]\n",
      " [20 25 30]]\n"
     ]
    }
   ],
   "source": [
    "X = np.array([[1, 2, 3], [4, 5, 6]])\n",
    "print(\"X = \\n{}\".format(X))\n",
    "print()\n",
    "\n",
    "a=5\n",
    "print(\"5X = \\n{}\".format(a*X))"
   ]
  },
  {
   "cell_type": "markdown",
   "metadata": {},
   "source": [
    "### Systems of Linear Equations"
   ]
  },
  {
   "cell_type": "markdown",
   "metadata": {},
   "source": [
    "Matrices were invented in the context of **systems of linear equations**.\n",
    "\n",
    "A system of linear equations is a collection of equations like:\n",
    "\n",
    "\\begin{align*}\n",
    "    a_{11}x_1 + \\cdots + a_{1n}x_n &= b_1 \\\\\n",
    "    a_{21}x_1 + \\cdots + a_{2n}x_n &= b_2 \\\\\n",
    "    \\vdots \\hspace{1in} \\vdots \\\\\n",
    "    a_{m1}x_1 + \\cdots + a_{mn}x_n &= b_m \n",
    "\\end{align*}\n",
    "\n",
    "So for example:\n",
    "\n",
    "\\begin{align*}\n",
    "    2 x_1 - x_2 = 4 \\\\\n",
    "    x_1 + 6 x_2 = 0\n",
    "\\end{align*}"
   ]
  },
  {
   "cell_type": "markdown",
   "metadata": {},
   "source": [
    "**The most important thing for us to be able to compute is solutions to systems of linear equations**."
   ]
  },
  {
   "cell_type": "markdown",
   "metadata": {},
   "source": [
    "We can represent the system above as a matrix and a vector:\n",
    "\n",
    "$$ \\\n",
    "\\text{LHS} =   \\begin{bmatrix}\n",
    "    2 & -1 \\\\\n",
    "    1 & 6\n",
    "  \\end{bmatrix},\n",
    "\\\n",
    "\\text{RHS} = [4, 0],\n",
    "\\\n",
    "\\text{SOL} = [x1, x2]\n",
    "$$"
   ]
  },
  {
   "cell_type": "markdown",
   "metadata": {},
   "source": [
    "We can solve systems of linear equations in `numpy` by using `np.linalg.solve`"
   ]
  },
  {
   "cell_type": "code",
   "execution_count": 65,
   "metadata": {
    "scrolled": true
   },
   "outputs": [
    {
     "name": "stdout",
     "output_type": "stream",
     "text": [
      "x1 = 1.85\n",
      "x2 = -0.31\n",
      "2*x1 - x2 = 4.00\n",
      "x1 + 6*x2 = 0.00\n"
     ]
    }
   ],
   "source": [
    "M = np.array([[2, -1], [1, 6]])\n",
    "b = np.array([4, 0])\n",
    "\n",
    "x1, x2 = np.linalg.solve(M, b)\n",
    "print(\"x1 = {:2.2f}\".format(x1))\n",
    "print(\"x2 = {:2.2f}\".format(x2))\n",
    "print(\"2*x1 - x2 = {:2.2f}\".format(2*x1 - x2))\n",
    "print(\"x1 + 6*x2 = {:2.2f}\".format(x1 + 6*x2))"
   ]
  },
  {
   "cell_type": "markdown",
   "metadata": {},
   "source": [
    "### Matrix Multiplication"
   ]
  },
  {
   "cell_type": "markdown",
   "metadata": {},
   "source": [
    "**Matrix Multiplication** was invented to describe how solutions to systems of linear equations are related to each other.\n",
    "\n",
    "Suppose we have two systems of equations, where the right hand side of the second is equal to the solutions to the first."
   ]
  },
  {
   "cell_type": "markdown",
   "metadata": {},
   "source": [
    "**First Equation:**\n",
    "\n",
    "\\begin{align*}\n",
    "    2 x_1 - x_2 = 4 \\\\\n",
    "    x_1 + 6 x_2 = 0\n",
    "\\end{align*}\n",
    "\n",
    "**Second Equation:**\n",
    "\n",
    "\\begin{align*}\n",
    "    y_1 + y_2 = x_1 \\\\\n",
    "    2 y_1 - 3 y_2 = x_2\n",
    "\\end{align*}"
   ]
  },
  {
   "cell_type": "markdown",
   "metadata": {},
   "source": [
    "Then we can substitute the second equation **into** the first to get a **single** system of equations for $y$:\n",
    "\n",
    "\\begin{align*}\n",
    "    (2 \\times 1 + (-1) \\times 2) y_1 + (2 \\times 1 + (-1) \\times (-3)) y_2 = 4 \\\\\n",
    "    ((1) \\times (1) + (6) \\times (2)) y_1 + ((1) \\times (1) + (6) \\times (-3) ) y_2 = 0\n",
    "\\end{align*}\n",
    "\n",
    "The coefficients in this new equation are an example of **matrix multiplication**\n",
    "\n",
    "$$\n",
    "\\begin{bmatrix}\n",
    "    2 & -1 \\\\\n",
    "    1 & 6\n",
    "\\end{bmatrix}\n",
    "\\begin{bmatrix}\n",
    "    1 & 1 \\\\\n",
    "    2 & -3\n",
    "\\end{bmatrix} = \n",
    "\\begin{bmatrix}\n",
    "    (2)(1) + (-1)(2) & (2)(1) + (-1)(-3) \\\\\n",
    "    (1)(1) + (6)(2) & (1)(1) + (6)(-3)\n",
    "\\end{bmatrix}\n",
    "$$"
   ]
  },
  {
   "cell_type": "markdown",
   "metadata": {},
   "source": [
    "In order to multiply two matrices, they must be **conformable**: the number of columns of the first matrix must be the same as the number of rows of the second matrix.\n",
    "\n",
    "Let $X$ be a matrix with shape $n \\times k$ and let $Y$ be a matrix with shape $k \\times p$, then the product $XY$ will be a matrix with shape $n \\times p$ whose $(i,j)^{th}$ element is given by the dot product of the $i^{th}$ row of $X$ and the $j^{th}$ column of $Y$\n",
    "\n",
    "$$(XY)_{i,j} = x_{i1}y_{1j} + \\cdots + x_{ik}y_{kj}$$"
   ]
  },
  {
   "cell_type": "code",
   "execution_count": 66,
   "metadata": {},
   "outputs": [
    {
     "data": {
      "text/plain": [
       "array([[ 7, 16, 27],\n",
       "       [40, 55, 72]])"
      ]
     },
     "execution_count": 66,
     "metadata": {},
     "output_type": "execute_result"
    }
   ],
   "source": [
    "X = np.array([[1, 2, 3], [4, 5, 6]])\n",
    "Y = np.array([[7, 8, 9], [10, 11, 12]])\n",
    "\n",
    "X*Y"
   ]
  },
  {
   "cell_type": "code",
   "execution_count": 67,
   "metadata": {},
   "outputs": [
    {
     "ename": "ValueError",
     "evalue": "shapes (2,3) and (2,3) not aligned: 3 (dim 1) != 2 (dim 0)",
     "output_type": "error",
     "traceback": [
      "\u001b[0;31m---------------------------------------------------------------------------\u001b[0m",
      "\u001b[0;31mValueError\u001b[0m                                Traceback (most recent call last)",
      "\u001b[0;32m<ipython-input-67-75381b454682>\u001b[0m in \u001b[0;36m<module>\u001b[0;34m\u001b[0m\n\u001b[0;32m----> 1\u001b[0;31m \u001b[0mnp\u001b[0m\u001b[0;34m.\u001b[0m\u001b[0mdot\u001b[0m\u001b[0;34m(\u001b[0m\u001b[0mX\u001b[0m\u001b[0;34m,\u001b[0m\u001b[0mY\u001b[0m\u001b[0;34m)\u001b[0m\u001b[0;34m\u001b[0m\u001b[0;34m\u001b[0m\u001b[0m\n\u001b[0m",
      "\u001b[0;31mValueError\u001b[0m: shapes (2,3) and (2,3) not aligned: 3 (dim 1) != 2 (dim 0)"
     ]
    }
   ],
   "source": [
    "np.dot(X,Y)"
   ]
  },
  {
   "cell_type": "code",
   "execution_count": 68,
   "metadata": {},
   "outputs": [
    {
     "data": {
      "text/plain": [
       "array([[47, 52, 57],\n",
       "       [64, 71, 78],\n",
       "       [81, 90, 99]])"
      ]
     },
     "execution_count": 68,
     "metadata": {},
     "output_type": "execute_result"
    }
   ],
   "source": [
    "np.dot(X.T, Y)"
   ]
  },
  {
   "cell_type": "code",
   "execution_count": 69,
   "metadata": {},
   "outputs": [
    {
     "data": {
      "text/plain": [
       "array([[ 50,  68],\n",
       "       [122, 167]])"
      ]
     },
     "execution_count": 69,
     "metadata": {},
     "output_type": "execute_result"
    }
   ],
   "source": [
    "np.dot(X, Y.T)"
   ]
  },
  {
   "cell_type": "code",
   "execution_count": 70,
   "metadata": {},
   "outputs": [
    {
     "data": {
      "text/plain": [
       "array([[ 50,  68],\n",
       "       [122, 167]])"
      ]
     },
     "execution_count": 70,
     "metadata": {},
     "output_type": "execute_result"
    }
   ],
   "source": [
    "X.dot(Y.T)"
   ]
  },
  {
   "cell_type": "code",
   "execution_count": 71,
   "metadata": {},
   "outputs": [
    {
     "name": "stdout",
     "output_type": "stream",
     "text": [
      "X = \n",
      "[[ 2  1  0]\n",
      " [-1  2  3]]\n",
      "\n",
      "Y = \n",
      "[[ 0 -2]\n",
      " [ 1  2]\n",
      " [ 1  1]]\n",
      "\n",
      "XY = \n",
      "[[ 1 -2]\n",
      " [ 5  9]]\n"
     ]
    }
   ],
   "source": [
    "X = np.array([[2, 1, 0], [-1, 2, 3]])\n",
    "print(\"X = \\n{}\".format(X))\n",
    "print()\n",
    "\n",
    "Y = np.array([[0, -2], [1, 2], [1, 1]])\n",
    "print(\"Y = \\n{}\".format(Y))\n",
    "print()\n",
    "\n",
    "# Matrix multiply with dot operator\n",
    "print(\"XY = \\n{}\".format(np.dot(X, Y)))"
   ]
  },
  {
   "cell_type": "markdown",
   "metadata": {},
   "source": [
    "#### Note: \n",
    "\n",
    "$$XY \\neq YX$$"
   ]
  },
  {
   "cell_type": "code",
   "execution_count": 72,
   "metadata": {},
   "outputs": [
    {
     "name": "stdout",
     "output_type": "stream",
     "text": [
      "XY = \n",
      "[[ 1 -2]\n",
      " [ 5  9]]\n",
      "\n",
      "YX = \n",
      "[[ 2 -4 -6]\n",
      " [ 0  5  6]\n",
      " [ 1  3  3]]\n"
     ]
    }
   ],
   "source": [
    "print(\"XY = \\n{}\".format(np.dot(X, Y)))\n",
    "print()\n",
    "print(\"YX = \\n{}\".format(np.dot(Y, X)))"
   ]
  },
  {
   "cell_type": "markdown",
   "metadata": {},
   "source": [
    "Notice that $XY$ and $YX$ **do not even have the same shape**."
   ]
  },
  {
   "cell_type": "markdown",
   "metadata": {},
   "source": [
    "If $X$ and $Y$ are square matrices of the same dimension then the both the product $XY$ and $YX$ exist, but even in this case there is no guarantee the two products will be the same"
   ]
  },
  {
   "cell_type": "markdown",
   "metadata": {},
   "source": [
    "### Matrix Transpose\n",
    "\n",
    "The **transpose** of an $n \\times p$ matrix is a $p \\times n$ matrix with rows and columns interchanged\n",
    "\n",
    "$$\n",
    "X^T =\n",
    "  \\begin{bmatrix}\n",
    "    x_{11} & x_{12} & \\cdots & x_{1n} \\\\\n",
    "    x_{21} & x_{22} & \\cdots & x_{2n} \\\\\n",
    "    \\vdots & \\vdots & \\ddots & \\vdots \\\\\n",
    "    x_{p1} & x_{p2} & \\cdots & x_{pn} \n",
    "  \\end{bmatrix}\n",
    "$$"
   ]
  },
  {
   "cell_type": "code",
   "execution_count": 73,
   "metadata": {},
   "outputs": [
    {
     "name": "stdout",
     "output_type": "stream",
     "text": [
      "X=\n",
      "[[ 2  1  0]\n",
      " [-1  2  3]]\n",
      "\n",
      "X Transpose=\n",
      "[[ 2 -1]\n",
      " [ 1  2]\n",
      " [ 0  3]]\n",
      "\n",
      "Or...\n",
      "[[ 2 -1]\n",
      " [ 1  2]\n",
      " [ 0  3]]\n",
      "\n",
      "(2, 3) (3, 2)\n"
     ]
    }
   ],
   "source": [
    "print(\"X=\\n{}\\n\".format(X))\n",
    "print(\"X Transpose=\\n{}\\n\".format(X.transpose()))\n",
    "print(\"Or...\\n{}\\n\".format(X.T))\n",
    "print(X.shape, X.T.shape)"
   ]
  },
  {
   "cell_type": "markdown",
   "metadata": {},
   "source": [
    "The transpose is hard to interpret in a natural way, but it does come up often in computations."
   ]
  },
  {
   "cell_type": "markdown",
   "metadata": {},
   "source": [
    "### Vector in Matrix Form\n",
    "A **column vector** is a matrix with $n$ rows and 1 column and to differentiate from a standard matrix $X$ of higher dimensions can be denoted as a bold lower case $\\boldsymbol{x}$\n",
    "\n",
    "$$\n",
    "\\boldsymbol{x} =\n",
    "  \\begin{bmatrix}\n",
    "    x_{1}\\\\\n",
    "    x_{2}\\\\\n",
    "    \\vdots\\\\\n",
    "    x_{n}\n",
    "  \\end{bmatrix}\n",
    "$$"
   ]
  },
  {
   "cell_type": "markdown",
   "metadata": {},
   "source": [
    "In numpy, when you create a vector, it will not normally have the second dimension, so we can reshape it:"
   ]
  },
  {
   "cell_type": "code",
   "execution_count": 74,
   "metadata": {},
   "outputs": [
    {
     "name": "stdout",
     "output_type": "stream",
     "text": [
      "x = [1 2 3 4]\n",
      "(4,)\n"
     ]
    }
   ],
   "source": [
    "x = np.array([1,2,3,4])\n",
    "print(\"x = {}\".format(x))\n",
    "print(x.shape)"
   ]
  },
  {
   "cell_type": "code",
   "execution_count": 75,
   "metadata": {},
   "outputs": [
    {
     "name": "stdout",
     "output_type": "stream",
     "text": [
      "y = \n",
      "[[1]\n",
      " [2]\n",
      " [3]\n",
      " [4]]\n",
      "\n",
      "(4, 1)\n"
     ]
    }
   ],
   "source": [
    "y = x.reshape(4, 1)\n",
    "print(\"y = \\n{}\".format(y))\n",
    "print()\n",
    "print(y.shape)"
   ]
  },
  {
   "cell_type": "markdown",
   "metadata": {},
   "source": [
    "and a row vector is generally written as the transpose\n",
    "\n",
    "$$\\boldsymbol{x}^T = [x_1, x_2, \\ldots, x_n]$$"
   ]
  },
  {
   "cell_type": "code",
   "execution_count": 76,
   "metadata": {},
   "outputs": [
    {
     "name": "stdout",
     "output_type": "stream",
     "text": [
      "[[1 2 3 4]]\n",
      "(1, 4)\n",
      "[1 2 3 4]\n"
     ]
    }
   ],
   "source": [
    "x_T = y.transpose()\n",
    "print(x_T)\n",
    "print(x_T.shape)\n",
    "print(x)"
   ]
  },
  {
   "cell_type": "markdown",
   "metadata": {},
   "source": [
    "### Properties of Transpose\n",
    "1. Let $X$ be an $n \\times p$ matrix and $a$ a real number, then \n",
    "$$(cX)^T = cX^T$$\n",
    "2. Let $X$ and $Y$ be $n \\times p$ matrices, then\n",
    "$$(X \\pm Y)^T = X^T \\pm Y^T$$\n",
    "3. Let $X$ be an $n \\times k$ matrix and $Y$ be a $k \\times p$ matrix, then\n",
    "$$(XY)^T = Y^TX^T$$"
   ]
  },
  {
   "cell_type": "code",
   "execution_count": 85,
   "metadata": {},
   "outputs": [
    {
     "data": {
      "text/plain": [
       "array([[ True,  True],\n",
       "       [ True,  True]])"
      ]
     },
     "execution_count": 85,
     "metadata": {},
     "output_type": "execute_result"
    }
   ],
   "source": [
    "W = np.array([[1,2],[3,4]])\n",
    "Q = np.array([[5,6],[7,8]])\n",
    "np.dot(W, Q).T == np.dot(Q.T, W.T)"
   ]
  },
  {
   "cell_type": "markdown",
   "metadata": {},
   "source": [
    "If we have two vectors $\\boldsymbol{x}$ and $\\boldsymbol{y}$ of the same length $(n)$, then the _dot product_ is give by matrix multiplication\n",
    "\n",
    "$$\\boldsymbol{x}^T \\boldsymbol{y} =   \n",
    "    \\begin{bmatrix} x_1& x_2 & \\ldots & x_n \\end{bmatrix}\n",
    "    \\begin{bmatrix}\n",
    "    y_{1}\\\\\n",
    "    y_{2}\\\\\n",
    "    \\vdots\\\\\n",
    "    y_{n}\n",
    "  \\end{bmatrix}  =\n",
    "  x_1y_1 + x_2y_2 + \\cdots + x_ny_n$$"
   ]
  },
  {
   "cell_type": "code",
   "execution_count": 86,
   "metadata": {},
   "outputs": [
    {
     "name": "stdout",
     "output_type": "stream",
     "text": [
      "[1 2 3]\n",
      "[4 5 6]\n",
      "32\n"
     ]
    }
   ],
   "source": [
    "x = np.array([1,2,3])\n",
    "y = np.array([4,5,6])\n",
    "print(x)\n",
    "print(y)\n",
    "print(np.dot(x.T, y))"
   ]
  },
  {
   "cell_type": "markdown",
   "metadata": {},
   "source": [
    "### The Identity Matrix\n",
    "The identity matrix $I$ is a special matrix with 1's along the diagonal and zeros elsewhere, that when multiplied by another matrix returns the same value.\n",
    "$$X = XI = IX$$"
   ]
  },
  {
   "cell_type": "code",
   "execution_count": 87,
   "metadata": {},
   "outputs": [
    {
     "name": "stdout",
     "output_type": "stream",
     "text": [
      "X = \n",
      "[[1 2 3]\n",
      " [4 5 6]\n",
      " [7 8 9]]\n",
      "\n",
      "I = \n",
      "[[1. 0. 0.]\n",
      " [0. 1. 0.]\n",
      " [0. 0. 1.]]\n"
     ]
    }
   ],
   "source": [
    "X = np.array([[1, 2, 3], [4, 5, 6], [7 ,8 ,9]])\n",
    "I = np.identity(3)\n",
    "print(\"X = \\n{}\".format(X))\n",
    "print()\n",
    "print(\"I = \\n{}\".format(I))"
   ]
  },
  {
   "cell_type": "code",
   "execution_count": 88,
   "metadata": {},
   "outputs": [
    {
     "name": "stdout",
     "output_type": "stream",
     "text": [
      "XI = \n",
      "[[1. 2. 3.]\n",
      " [4. 5. 6.]\n",
      " [7. 8. 9.]]\n",
      "\n",
      "IX = \n",
      "[[1. 2. 3.]\n",
      " [4. 5. 6.]\n",
      " [7. 8. 9.]]\n"
     ]
    }
   ],
   "source": [
    "print(\"XI = \\n{}\".format(np.dot(X, I)))\n",
    "print()\n",
    "print(\"IX = \\n{}\".format(np.dot(I, X)))"
   ]
  },
  {
   "cell_type": "markdown",
   "metadata": {},
   "source": [
    "## Inverse of a Matrix"
   ]
  },
  {
   "cell_type": "markdown",
   "metadata": {},
   "source": [
    "The inverse of a square $n \\times n$ matrix $X$ is an $n \\times n$ matrix $X^{-1}$ such that \n",
    "\n",
    "$$X^{-1}X = XX^{-1} = I$$\n",
    "\n",
    "Where $I$ is the identity matrix. \n",
    "\n",
    "If such a matrix exists, then $X$ is said to be **invertible** or **nonsingular**, otherwise $X$ is said to be **noninvertible** or **singular**."
   ]
  },
  {
   "cell_type": "code",
   "execution_count": 89,
   "metadata": {},
   "outputs": [
    {
     "name": "stdout",
     "output_type": "stream",
     "text": [
      "XY = \n",
      "[[1.00000000e+00 0.00000000e+00 2.77555756e-17]\n",
      " [3.70074342e-17 1.00000000e+00 1.85037171e-17]\n",
      " [0.00000000e+00 0.00000000e+00 1.00000000e+00]]\n"
     ]
    }
   ],
   "source": [
    "X = np.array([[1, 2, 3], [0, 1, 0], [-2, -1, 0]])\n",
    "Y = np.linalg.inv(X)\n",
    "print(\"XY = \\n{}\".format(np.dot(X, Y)))"
   ]
  },
  {
   "cell_type": "code",
   "execution_count": 90,
   "metadata": {},
   "outputs": [
    {
     "data": {
      "text/plain": [
       "array([[1., 0., 0.],\n",
       "       [0., 1., 0.],\n",
       "       [0., 0., 1.]])"
      ]
     },
     "execution_count": 90,
     "metadata": {},
     "output_type": "execute_result"
    }
   ],
   "source": [
    "np.dot(X, Y).round(3)"
   ]
  },
  {
   "cell_type": "markdown",
   "metadata": {},
   "source": [
    "Note that **only square matrices can be invertible**, even then **many square matrices do not have inverses**.\n",
    "\n",
    "It is not too difficult to characterize exactly what matrices have inverses:\n",
    "\n",
    "**A matrix $X$ has an inverse if and only if no column is a linear combination of the remaining columns.** This is summarized by saying that the columns are **linearly independent** and that matrix is **full rank**.\n",
    "\n",
    "That's gist of it, but also: \n",
    "**A matrix must have a non-zero deteminant to be invertible.** \n",
    "* Determinant: Scaling factor of area after transformation\n",
    " * Determinant 0 means a decrease in dimensionality\n",
    " * A sign of linear dependance (duplicate data)"
   ]
  },
  {
   "cell_type": "markdown",
   "metadata": {},
   "source": [
    "### Additional Properties of Matrices\n",
    "1. **Commutative Addition:** If $X$ and $Y$ are both $n \\times p$ matrices,\n",
    "then $$X+Y = Y+X$$\n",
    "2. **Associative Addition:** If $X$, $Y$, and $Z$ are all $n \\times p$ matrices,\n",
    "then $$X+(Y+Z) = (X+Y)+Z$$\n",
    "3. **Associative Multiplication:** If $X$, $Y$, and $Z$ are all conformable,\n",
    "then $$X(YZ) = (XY)Z$$\n",
    "4. **Distributive Law on Left:** If $X$ is of dimension $n \\times k$ and $Y$ and $Z$ are of dimension $k \\times p$, then $$X(Y+Z) = XY + XZ$$\n",
    "5. **Distributive Law on Right:** If $X$ is of dimension $p \\times n$ and $Y$ and $Z$ are of dimension $k \\times p$, then $$(Y+Z)X = YX + ZX$$\n",
    "6. **Distributive Scalar Multiplication**: If $a$ and $b$ are real numbers, and $X$ is an $n \\times p$ matrix,\n",
    "then $$(a+b)X = aX+bX$$\n",
    "7. **Distributive Scalar Multiplication:** If $a$ is a real number, and $X$ and $Y$ are both $n \\times p$ matrices,\n",
    "then $$a(X+Y) = aX+aY$$\n",
    "8. **Associative & Commutative scalar multiplication:** If $a$ is a real number, and $X$ and $Y$ are conformable, then\n",
    "$$X(aY) = a(XY)$$"
   ]
  },
  {
   "cell_type": "markdown",
   "metadata": {},
   "source": [
    "### Properties of Inverse\n",
    "1. If $X$ is invertible, then $X^{-1}$ is invertible and\n",
    "$$(X^{-1})^{-1} = X$$\n",
    "2. If $X$ and $Y$ are both $n \\times n$ invertible matrices, then $XY$ is invertible and\n",
    "$$(XY)^{-1} = Y^{-1}X^{-1}$$\n",
    "3. If $X$ is invertible, then $X^T$ is invertible and\n",
    "$$(X^T)^{-1} = (X^{-1})^T$$"
   ]
  },
  {
   "cell_type": "markdown",
   "metadata": {},
   "source": [
    "## Eigenvectors and Eigenvalues"
   ]
  },
  {
   "cell_type": "markdown",
   "metadata": {},
   "source": [
    "Vector x is an Eigenvector of matrix A iff: $$Ax = \\lambda x$$  Lambda is the Eigenvalue"
   ]
  },
  {
   "cell_type": "markdown",
   "metadata": {},
   "source": [
    "Eigenvector: Vector which remains within its own span after a linear transformation (multiplying by a matrix).    \n",
    "Eigenvalue: Scalar by which eigenvector is scaled after transformation."
   ]
  },
  {
   "cell_type": "code",
   "execution_count": 94,
   "metadata": {},
   "outputs": [
    {
     "name": "stdout",
     "output_type": "stream",
     "text": [
      "[[3 1]\n",
      " [0 2]]\n"
     ]
    }
   ],
   "source": [
    "E = np.array([[3,1], [0,2]])\n",
    "print(E)"
   ]
  },
  {
   "cell_type": "code",
   "execution_count": 96,
   "metadata": {},
   "outputs": [
    {
     "name": "stdout",
     "output_type": "stream",
     "text": [
      "[3. 2.]\n",
      "[[ 1.         -0.70710678]\n",
      " [ 0.          0.70710678]]\n"
     ]
    }
   ],
   "source": [
    "e_val, e_vec = np.linalg.eig(E) # eigenvectors are the columns!\n",
    "print(e_val)\n",
    "print(e_vec)"
   ]
  },
  {
   "cell_type": "code",
   "execution_count": 97,
   "metadata": {},
   "outputs": [
    {
     "data": {
      "text/plain": [
       "array([-1.41421356,  1.41421356])"
      ]
     },
     "execution_count": 97,
     "metadata": {},
     "output_type": "execute_result"
    }
   ],
   "source": [
    "np.dot(E, e_vec[:,1])"
   ]
  },
  {
   "cell_type": "code",
   "execution_count": 98,
   "metadata": {},
   "outputs": [
    {
     "data": {
      "text/plain": [
       "array([-1.41421356,  1.41421356])"
      ]
     },
     "execution_count": 98,
     "metadata": {},
     "output_type": "execute_result"
    }
   ],
   "source": [
    "e_vec[:,1] * e_val[1]"
   ]
  },
  {
   "cell_type": "markdown",
   "metadata": {},
   "source": [
    "## Numpy: Vector and Matrix Indexing"
   ]
  },
  {
   "cell_type": "markdown",
   "metadata": {},
   "source": [
    "### Slicing  \n",
    "Start : Stop : Step  \n",
    "Row, Columns"
   ]
  },
  {
   "cell_type": "code",
   "execution_count": 99,
   "metadata": {},
   "outputs": [
    {
     "name": "stdout",
     "output_type": "stream",
     "text": [
      "[0.  0.1 0.2 0.3 0.4 0.5 0.6 0.7 0.8 0.9 1. ]\n",
      "[0.5 0.6 0.7 0.8 0.9 1. ]\n",
      "[0.  0.1 0.2 0.3 0.4]\n",
      "[0.2 0.3 0.4 0.5 0.6 0.7]\n",
      "[0.  0.2 0.4 0.6 0.8 1. ]\n",
      "[1.  0.8 0.6 0.4 0.2 0. ]\n"
     ]
    }
   ],
   "source": [
    "x = np.linspace(0, 1, num=11)\n",
    "print(x)\n",
    "print(x[5:])\n",
    "print(x[:5])\n",
    "print(x[2:8])\n",
    "print(x[::2])\n",
    "print(x[::-2])"
   ]
  },
  {
   "cell_type": "code",
   "execution_count": 100,
   "metadata": {},
   "outputs": [
    {
     "name": "stdout",
     "output_type": "stream",
     "text": [
      "[[0.         0.09090909 0.18181818]\n",
      " [0.27272727 0.36363636 0.45454545]\n",
      " [0.54545455 0.63636364 0.72727273]\n",
      " [0.81818182 0.90909091 1.        ]]\n"
     ]
    }
   ],
   "source": [
    "M = np.linspace(0, 1, num=12).reshape(4, 3)\n",
    "print(M)"
   ]
  },
  {
   "cell_type": "code",
   "execution_count": 101,
   "metadata": {},
   "outputs": [
    {
     "name": "stdout",
     "output_type": "stream",
     "text": [
      "[[0.63636364 0.72727273]\n",
      " [0.90909091 1.        ]]\n"
     ]
    }
   ],
   "source": [
    "print(M[2:, 1:])"
   ]
  },
  {
   "cell_type": "code",
   "execution_count": 102,
   "metadata": {},
   "outputs": [
    {
     "name": "stdout",
     "output_type": "stream",
     "text": [
      "[[0.         0.18181818]\n",
      " [0.54545455 0.72727273]]\n"
     ]
    }
   ],
   "source": [
    "print(M[::2, ::2])"
   ]
  },
  {
   "cell_type": "markdown",
   "metadata": {},
   "source": [
    "### Boolean Masking"
   ]
  },
  {
   "cell_type": "code",
   "execution_count": 103,
   "metadata": {},
   "outputs": [
    {
     "name": "stdout",
     "output_type": "stream",
     "text": [
      "[ True False  True False  True False False False  True False  True]\n",
      "[0.  0.2 0.4 0.8 1. ]\n"
     ]
    }
   ],
   "source": [
    "x = np.linspace(0, 1, num=11)\n",
    "\n",
    "logical = 10*x % 2 == 0\n",
    "print(logical)\n",
    "\n",
    "print(x[logical])"
   ]
  },
  {
   "cell_type": "markdown",
   "metadata": {},
   "source": [
    "Selecting rows"
   ]
  },
  {
   "cell_type": "code",
   "execution_count": 104,
   "metadata": {},
   "outputs": [
    {
     "name": "stdout",
     "output_type": "stream",
     "text": [
      "[[0.         0.09090909 0.18181818]\n",
      " [0.27272727 0.36363636 0.45454545]\n",
      " [0.54545455 0.63636364 0.72727273]\n",
      " [0.81818182 0.90909091 1.        ]]\n",
      "[[0.         0.09090909 0.18181818]\n",
      " [0.54545455 0.63636364 0.72727273]]\n"
     ]
    }
   ],
   "source": [
    "print(M)\n",
    "\n",
    "logical = np.array([True, False, True, False])\n",
    "print(M[logical, :])"
   ]
  },
  {
   "cell_type": "markdown",
   "metadata": {},
   "source": [
    "Selecting columns"
   ]
  },
  {
   "cell_type": "code",
   "execution_count": 105,
   "metadata": {},
   "outputs": [
    {
     "name": "stdout",
     "output_type": "stream",
     "text": [
      "[[0.         0.09090909 0.18181818]\n",
      " [0.27272727 0.36363636 0.45454545]\n",
      " [0.54545455 0.63636364 0.72727273]\n",
      " [0.81818182 0.90909091 1.        ]]\n",
      "[[0.09090909 0.18181818]\n",
      " [0.36363636 0.45454545]\n",
      " [0.63636364 0.72727273]\n",
      " [0.90909091 1.        ]]\n"
     ]
    }
   ],
   "source": [
    "print(M)\n",
    "\n",
    "logical = np.array([False, True, True])\n",
    "print(M[:, logical])"
   ]
  },
  {
   "cell_type": "markdown",
   "metadata": {},
   "source": [
    "Indexing arrays with arrays of indices (\"fancy indexing\")"
   ]
  },
  {
   "cell_type": "code",
   "execution_count": 107,
   "metadata": {},
   "outputs": [
    {
     "name": "stdout",
     "output_type": "stream",
     "text": [
      "['red' 'red' 'blue' 'blue' 'red' 'blue' 'blue' 'red' 'red' 'blue' 'red']\n"
     ]
    }
   ],
   "source": [
    "binary = np.array([0, 0, 1, 1, 0, 1, 1, 0, 0, 1, 0])\n",
    "colors = np.array([\"red\", \"blue\"])\n",
    "print(colors[binary])"
   ]
  },
  {
   "cell_type": "code",
   "execution_count": null,
   "metadata": {},
   "outputs": [],
   "source": []
  },
  {
   "cell_type": "code",
   "execution_count": null,
   "metadata": {},
   "outputs": [],
   "source": []
  },
  {
   "cell_type": "markdown",
   "metadata": {},
   "source": [
    "Play around!"
   ]
  },
  {
   "cell_type": "code",
   "execution_count": 108,
   "metadata": {},
   "outputs": [
    {
     "data": {
      "text/plain": [
       "array([[40, 32, 17, 13, 23,  0, 12],\n",
       "       [17, 22, 43, 32, 44, 38, 54],\n",
       "       [43, 18, 41, 40, 57, 34, 44],\n",
       "       [39, 53, 36, 41, 47, 25, 30],\n",
       "       [22, 45, 31, 35, 43, 55, 41],\n",
       "       [17, 47, 28, 10, 47, 30,  2],\n",
       "       [54, 14,  1, 49,  3, 27, 59],\n",
       "       [ 6, 50, 26, 49, 25, 55, 19],\n",
       "       [31, 57,  6, 25, 32, 34, 30]])"
      ]
     },
     "execution_count": 108,
     "metadata": {},
     "output_type": "execute_result"
    }
   ],
   "source": [
    "foo = np.random.randint(60, size=(9,7))\n",
    "foo"
   ]
  },
  {
   "cell_type": "code",
   "execution_count": 109,
   "metadata": {},
   "outputs": [
    {
     "data": {
      "text/plain": [
       "array([[44],\n",
       "       [57]])"
      ]
     },
     "execution_count": 109,
     "metadata": {},
     "output_type": "execute_result"
    }
   ],
   "source": [
    "foo[1:3,4:5]"
   ]
  },
  {
   "cell_type": "code",
   "execution_count": 72,
   "metadata": {},
   "outputs": [
    {
     "data": {
      "text/plain": [
       "array([[ 0.76429279],\n",
       "       [ 0.26491718],\n",
       "       [ 0.93267716],\n",
       "       [ 0.65314625],\n",
       "       [ 0.18173662],\n",
       "       [ 0.08120159],\n",
       "       [ 0.1523895 ],\n",
       "       [ 0.7517144 ],\n",
       "       [ 0.69577056]])"
      ]
     },
     "execution_count": 72,
     "metadata": {},
     "output_type": "execute_result"
    }
   ],
   "source": [
    "np.random.rand(9,1)"
   ]
  },
  {
   "cell_type": "code",
   "execution_count": 73,
   "metadata": {},
   "outputs": [
    {
     "data": {
      "text/plain": [
       "array([[ 0.21120019],\n",
       "       [ 0.68137175],\n",
       "       [ 0.69729973],\n",
       "       [ 0.34741592],\n",
       "       [ 0.19958725],\n",
       "       [ 0.03594232],\n",
       "       [ 0.80935087],\n",
       "       [ 0.75394068],\n",
       "       [ 0.69522308]])"
      ]
     },
     "execution_count": 73,
     "metadata": {},
     "output_type": "execute_result"
    }
   ],
   "source": [
    "bar = np.random.rand(9,1)\n",
    "bar"
   ]
  },
  {
   "cell_type": "code",
   "execution_count": 74,
   "metadata": {},
   "outputs": [
    {
     "data": {
      "text/plain": [
       "array([[False],\n",
       "       [ True],\n",
       "       [ True],\n",
       "       [False],\n",
       "       [False],\n",
       "       [False],\n",
       "       [ True],\n",
       "       [ True],\n",
       "       [ True]], dtype=bool)"
      ]
     },
     "execution_count": 74,
     "metadata": {},
     "output_type": "execute_result"
    }
   ],
   "source": [
    "mask = bar > .6\n",
    "mask"
   ]
  },
  {
   "cell_type": "code",
   "execution_count": 75,
   "metadata": {},
   "outputs": [
    {
     "data": {
      "text/plain": [
       "array([ 0.68137175,  0.69729973,  0.80935087,  0.75394068,  0.69522308])"
      ]
     },
     "execution_count": 75,
     "metadata": {},
     "output_type": "execute_result"
    }
   ],
   "source": [
    "bar[mask]"
   ]
  },
  {
   "cell_type": "code",
   "execution_count": 76,
   "metadata": {},
   "outputs": [
    {
     "data": {
      "text/plain": [
       "array([False,  True,  True, False, False, False,  True,  True,  True], dtype=bool)"
      ]
     },
     "execution_count": 76,
     "metadata": {},
     "output_type": "execute_result"
    }
   ],
   "source": [
    "ugh = mask.reshape(-1,)\n",
    "ugh"
   ]
  },
  {
   "cell_type": "code",
   "execution_count": 77,
   "metadata": {},
   "outputs": [
    {
     "data": {
      "text/plain": [
       "array([[False,  True, False,  True,  True,  True,  True],\n",
       "       [ True,  True,  True,  True,  True, False,  True],\n",
       "       [ True, False, False,  True,  True,  True,  True],\n",
       "       [False, False,  True, False,  True, False,  True],\n",
       "       [False, False,  True,  True,  True, False,  True],\n",
       "       [False, False, False,  True,  True,  True, False],\n",
       "       [ True,  True, False,  True,  True,  True,  True],\n",
       "       [False,  True, False,  True,  True, False, False],\n",
       "       [ True, False, False,  True,  True, False, False]], dtype=bool)"
      ]
     },
     "execution_count": 77,
     "metadata": {},
     "output_type": "execute_result"
    }
   ],
   "source": [
    "mask2 = foo > 23\n",
    "mask2"
   ]
  },
  {
   "cell_type": "code",
   "execution_count": 78,
   "metadata": {},
   "outputs": [
    {
     "data": {
      "text/plain": [
       "array([56, 49, 40, 55, 32, 25, 58, 51, 28, 39, 45, 53, 35, 37, 40, 36, 32,\n",
       "       29, 57, 36, 25, 46, 59, 31, 45, 54, 28, 52, 40, 30, 52, 25, 51, 42,\n",
       "       44, 56, 57, 43])"
      ]
     },
     "execution_count": 78,
     "metadata": {},
     "output_type": "execute_result"
    }
   ],
   "source": [
    "foo[mask2]"
   ]
  },
  {
   "cell_type": "code",
   "execution_count": 79,
   "metadata": {},
   "outputs": [],
   "source": [
    "#foo[mask]"
   ]
  },
  {
   "cell_type": "code",
   "execution_count": 80,
   "metadata": {},
   "outputs": [
    {
     "data": {
      "text/plain": [
       "array([ 0.953702  ,  0.08484435,  0.73639849,  0.33977335,  0.44163791,\n",
       "        0.53311188,  0.18139074,  0.12690978,  0.11946945])"
      ]
     },
     "execution_count": 80,
     "metadata": {},
     "output_type": "execute_result"
    }
   ],
   "source": [
    "baz = np.random.rand(9)\n",
    "baz"
   ]
  },
  {
   "cell_type": "code",
   "execution_count": 81,
   "metadata": {},
   "outputs": [
    {
     "data": {
      "text/plain": [
       "(9,)"
      ]
     },
     "execution_count": 81,
     "metadata": {},
     "output_type": "execute_result"
    }
   ],
   "source": [
    "baz.shape"
   ]
  },
  {
   "cell_type": "code",
   "execution_count": 82,
   "metadata": {},
   "outputs": [
    {
     "data": {
      "text/plain": [
       "array([ True, False,  True, False,  True,  True, False, False, False], dtype=bool)"
      ]
     },
     "execution_count": 82,
     "metadata": {},
     "output_type": "execute_result"
    }
   ],
   "source": [
    "baz > .4"
   ]
  },
  {
   "cell_type": "code",
   "execution_count": 83,
   "metadata": {},
   "outputs": [
    {
     "data": {
      "text/plain": [
       "array([[ 9, 56,  7, 49, 40, 55, 32],\n",
       "       [53, 13, 14, 35, 37, 40, 36],\n",
       "       [ 5,  7, 36, 25, 46, 19, 59],\n",
       "       [22,  2, 17, 31, 45, 54, 14]])"
      ]
     },
     "execution_count": 83,
     "metadata": {},
     "output_type": "execute_result"
    }
   ],
   "source": [
    "foo[baz > 0.4]"
   ]
  },
  {
   "cell_type": "code",
   "execution_count": 84,
   "metadata": {},
   "outputs": [
    {
     "data": {
      "text/plain": [
       "(9, 1)"
      ]
     },
     "execution_count": 84,
     "metadata": {},
     "output_type": "execute_result"
    }
   ],
   "source": [
    "bar.shape"
   ]
  },
  {
   "cell_type": "code",
   "execution_count": 85,
   "metadata": {},
   "outputs": [
    {
     "data": {
      "text/plain": [
       "(1, 9)"
      ]
     },
     "execution_count": 85,
     "metadata": {},
     "output_type": "execute_result"
    }
   ],
   "source": [
    "bar.T.shape"
   ]
  },
  {
   "cell_type": "code",
   "execution_count": 86,
   "metadata": {},
   "outputs": [
    {
     "data": {
      "text/plain": [
       "array([[ 9, 56,  7, 49, 40, 55, 32],\n",
       "       [25, 58, 51, 28, 39, 14, 45],\n",
       "       [53, 13, 14, 35, 37, 40, 36],\n",
       "       [22, 17, 32, 14, 29, 11, 57],\n",
       "       [ 5,  7, 36, 25, 46, 19, 59],\n",
       "       [22,  2, 17, 31, 45, 54, 14],\n",
       "       [28, 52,  3, 40, 30, 52, 25],\n",
       "       [17, 51, 10, 42, 44,  6, 22],\n",
       "       [56,  6,  5, 57, 43,  4, 15]])"
      ]
     },
     "execution_count": 86,
     "metadata": {},
     "output_type": "execute_result"
    }
   ],
   "source": [
    "foo"
   ]
  },
  {
   "cell_type": "code",
   "execution_count": 87,
   "metadata": {},
   "outputs": [
    {
     "data": {
      "text/plain": [
       "array([237, 262, 175, 321, 353, 255, 305])"
      ]
     },
     "execution_count": 87,
     "metadata": {},
     "output_type": "execute_result"
    }
   ],
   "source": [
    "col_sum = foo.sum(axis=0)\n",
    "col_sum"
   ]
  },
  {
   "cell_type": "code",
   "execution_count": 88,
   "metadata": {},
   "outputs": [
    {
     "data": {
      "text/plain": [
       "(7,)"
      ]
     },
     "execution_count": 88,
     "metadata": {},
     "output_type": "execute_result"
    }
   ],
   "source": [
    "col_sum.shape"
   ]
  },
  {
   "cell_type": "code",
   "execution_count": 89,
   "metadata": {},
   "outputs": [
    {
     "data": {
      "text/plain": [
       "array([False,  True, False,  True,  True,  True,  True], dtype=bool)"
      ]
     },
     "execution_count": 89,
     "metadata": {},
     "output_type": "execute_result"
    }
   ],
   "source": [
    "col_sum > 240"
   ]
  },
  {
   "cell_type": "code",
   "execution_count": 90,
   "metadata": {},
   "outputs": [
    {
     "data": {
      "text/plain": [
       "array([[56, 49, 40, 55, 32],\n",
       "       [58, 28, 39, 14, 45],\n",
       "       [13, 35, 37, 40, 36],\n",
       "       [17, 14, 29, 11, 57],\n",
       "       [ 7, 25, 46, 19, 59],\n",
       "       [ 2, 31, 45, 54, 14],\n",
       "       [52, 40, 30, 52, 25],\n",
       "       [51, 42, 44,  6, 22],\n",
       "       [ 6, 57, 43,  4, 15]])"
      ]
     },
     "execution_count": 90,
     "metadata": {},
     "output_type": "execute_result"
    }
   ],
   "source": [
    "foo[:, col_sum > 240]"
   ]
  },
  {
   "cell_type": "code",
   "execution_count": null,
   "metadata": {},
   "outputs": [],
   "source": []
  }
 ],
 "metadata": {
  "anaconda-cloud": {},
  "kernelspec": {
   "display_name": "Python 3",
   "language": "python",
   "name": "python3"
  },
  "language_info": {
   "codemirror_mode": {
    "name": "ipython",
    "version": 3
   },
   "file_extension": ".py",
   "mimetype": "text/x-python",
   "name": "python",
   "nbconvert_exporter": "python",
   "pygments_lexer": "ipython3",
   "version": "3.6.7"
  }
 },
 "nbformat": 4,
 "nbformat_minor": 2
}
