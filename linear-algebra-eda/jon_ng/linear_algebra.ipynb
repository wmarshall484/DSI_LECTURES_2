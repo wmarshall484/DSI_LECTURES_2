{
 "cells": [
  {
   "cell_type": "markdown",
   "metadata": {},
   "source": [
    "# Linear Algebra with examples using Numpy"
   ]
  },
  {
   "cell_type": "markdown",
   "metadata": {},
   "source": [
    "## Linear Algebra and Machine Learning\n",
    "\n",
    "Linear algebra is a language. You can describe any mathematical system with linear algebra. As such, it appears everywhere.\n",
    "\n",
    "Where can it be found within data science?\n",
    "\n",
    "* Ranking web pages in order of importance\n",
    "  * Solved as the problem of finding the eigenvector of the page score matrix\n",
    "* Dimensionality reduction - Principal Component Analysis\n",
    "* Movie recommendation\n",
    "  * Use singular value decomposition (SVD) to break down user-movie into user-feature and movie-feature matrices, keeping only the top $k$-ranks to identify the best matches\n",
    "* Topic modeling\n",
    "  * Extensive use of SVD and matrix factorization can be found in Natural Language Processing, specifically in topic modeling and semantic analysis"
   ]
  },
  {
   "cell_type": "code",
   "execution_count": null,
   "metadata": {
    "collapsed": true
   },
   "outputs": [],
   "source": [
    "import numpy as np"
   ]
  },
  {
   "cell_type": "markdown",
   "metadata": {},
   "source": [
    "## Numpy\n",
    "\n",
    "Numpy is a fast way to perform operations on arrays. Compare adding one to each element of a list with a for loop to doing it with a numpy array:"
   ]
  },
  {
   "cell_type": "code",
   "execution_count": null,
   "metadata": {
    "collapsed": false
   },
   "outputs": [],
   "source": [
    "x = range(1000000)\n",
    "y = np.array(x)"
   ]
  },
  {
   "cell_type": "code",
   "execution_count": null,
   "metadata": {
    "collapsed": false
   },
   "outputs": [],
   "source": [
    "type(x)"
   ]
  },
  {
   "cell_type": "code",
   "execution_count": null,
   "metadata": {
    "collapsed": false
   },
   "outputs": [],
   "source": [
    "type(y)"
   ]
  },
  {
   "cell_type": "code",
   "execution_count": null,
   "metadata": {
    "collapsed": false
   },
   "outputs": [],
   "source": [
    "def f(x):\n",
    "    for i in x:\n",
    "        i += 1\n",
    "    return x\n",
    "        \n",
    "%time f(x)\n",
    "\n",
    "def g(y):\n",
    "    y += 1\n",
    "    return y\n",
    "\n",
    "%time g(y)\n",
    "\n",
    "None"
   ]
  },
  {
   "cell_type": "markdown",
   "metadata": {},
   "source": [
    "The numpy array implementation is way faster!"
   ]
  },
  {
   "cell_type": "markdown",
   "metadata": {},
   "source": [
    "## Vectors\n",
    "\n",
    "A vector can be represented by an array of real numbers:\n",
    "\n",
    "$$\\mathbf{x} = [x_1, x_2, \\ldots, x_n]$$\n",
    "\n",
    "Geometrically, a vector can specify the coordinates of points in $\\mathbb{R}^n$.  It can also specify a translation from one point to another.\n",
    "\n",
    "<img src = 'assets/vectors.png'></img>"
   ]
  },
  {
   "cell_type": "code",
   "execution_count": null,
   "metadata": {
    "collapsed": false
   },
   "outputs": [],
   "source": [
    "x = np.array([3, -1])"
   ]
  },
  {
   "cell_type": "code",
   "execution_count": null,
   "metadata": {
    "collapsed": false
   },
   "outputs": [],
   "source": [
    "print 'x =', x"
   ]
  },
  {
   "cell_type": "markdown",
   "metadata": {},
   "source": [
    "### Vector addition\n",
    "\n",
    "If we have two vectors $\\boldsymbol{u}$ and $\\boldsymbol{v}$ of the same dimension, e.g., 2, then\n",
    "\n",
    "$$\\boldsymbol{u} + \\boldsymbol{v} = [u_1+v_1, u_2+v_2, \\ldots, u_n+v_n]$$\n",
    "\n",
    "There are multiple ways of imaging this. Here's one: If $\\boldsymbol{u}$ and $\\boldsymbol{v}$ in $\\mathbb{R}^2$ are represented as points in the plane, then $\\boldsymbol{u} + \\boldsymbol{v}$ corresponds to the fourth vertex of the parallelogram whose other vertices are $\\boldsymbol{u}$, $\\boldsymbol{0}$, and $\\boldsymbol{v}$.\n",
    "\n",
    "<img src = 'assets/vector-addition.png'></img>"
   ]
  },
  {
   "cell_type": "code",
   "execution_count": null,
   "metadata": {
    "collapsed": false
   },
   "outputs": [],
   "source": [
    "u = np.array([1, 3])\n",
    "v = np.array([5, 1])\n",
    "\n",
    "print 'u =', u\n",
    "print 'v =', v"
   ]
  },
  {
   "cell_type": "code",
   "execution_count": null,
   "metadata": {
    "collapsed": false
   },
   "outputs": [],
   "source": [
    "print 'u + v =', u + v # TODO"
   ]
  },
  {
   "cell_type": "markdown",
   "metadata": {},
   "source": [
    "### Adding a constant to a vector\n",
    "\n",
    "Adding a constant to a vector adds the constant to each element of the vector:\n",
    "\n",
    "$$a + \\boldsymbol{x} = [a + x_1, a + x_2, \\ldots, a + x_n]$$"
   ]
  },
  {
   "cell_type": "code",
   "execution_count": null,
   "metadata": {
    "collapsed": false
   },
   "outputs": [],
   "source": [
    "a = 4\n",
    "x = np.array([1, 3, 4])\n",
    "\n",
    "print 'a =', a\n",
    "print 'x =', x"
   ]
  },
  {
   "cell_type": "code",
   "execution_count": null,
   "metadata": {
    "collapsed": false
   },
   "outputs": [],
   "source": [
    "print 'a + x =', a + x # TODO"
   ]
  },
  {
   "cell_type": "markdown",
   "metadata": {},
   "source": [
    "### Length of a vector\n",
    "\n",
    "The norm (or length) of a vector $\\mathbf{x}$ is defined by:\n",
    "\n",
    "$$||\\boldsymbol{x}|| = \\sqrt{x_1^2 + x_2^2 + \\cdots + x_n^2}$$\n",
    "\n",
    "In two dimensions, it corresponds to the familiar Pythagorean theorem.\n",
    "\n",
    "<img src='assets/norm.png'></img>"
   ]
  },
  {
   "cell_type": "code",
   "execution_count": null,
   "metadata": {
    "collapsed": false
   },
   "outputs": [],
   "source": [
    "u = np.array([3, 4])\n",
    "\n",
    "# TODO\n",
    "\n",
    "print np.sqrt(np.sum(u**2)), '(calculated \"manually\")'\n",
    "print np.linalg.norm(u), '(using the \\'norm\\' function)'"
   ]
  },
  {
   "cell_type": "markdown",
   "metadata": {},
   "source": [
    "### Scaling a vector\n",
    "\n",
    "Multiplying a vector by a constant multiplies each term by the constant:\n",
    "\n",
    "$$\\alpha \\cdot \\boldsymbol{u} = [\\alpha u_1, \\alpha u_2, \\ldots, \\alpha u_n]$$\n",
    "\n",
    "Intuitively, this is the same as stretching the vector by a factor of $\\alpha$.\n",
    "\n",
    "<img src='assets/vector-scaling.png'></img>\n",
    "\n",
    "($a \\cdot \\boldsymbol{x}$ can also be denoted more simply without the dot as $a\\boldsymbol{x}$)"
   ]
  },
  {
   "cell_type": "code",
   "execution_count": null,
   "metadata": {
    "collapsed": false
   },
   "outputs": [],
   "source": [
    "a = np.array([1, 2, 3])\n",
    "\n",
    "print 'a =', a"
   ]
  },
  {
   "cell_type": "code",
   "execution_count": null,
   "metadata": {
    "collapsed": false
   },
   "outputs": [],
   "source": [
    "print '2*a =', 2*a # TODO"
   ]
  },
  {
   "cell_type": "markdown",
   "metadata": {},
   "source": [
    "### Linear combinations of vectors\n",
    "\n",
    "A _linear combination_ of a collection of vectors $(\\boldsymbol{x}_1,\n",
    "                                                    \\boldsymbol{x}_2, \\ldots,\n",
    "                                                    \\boldsymbol{x}_m)$\n",
    "is a vector of the form:\n",
    "\n",
    "$$a_1 \\boldsymbol{x}_1 + a_2 \\boldsymbol{x}_2 + \\cdots + a_m \\boldsymbol{x}_m$$"
   ]
  },
  {
   "cell_type": "code",
   "execution_count": null,
   "metadata": {
    "collapsed": false
   },
   "outputs": [],
   "source": [
    "a1 = 2\n",
    "x1 = np.array([1, 2, 3, 4])\n",
    "a2 = 4\n",
    "x2 = np.array([5, 6, 7, 8])\n",
    "\n",
    "print 'a1 =', a1\n",
    "print 'x1 =', x1\n",
    "print 'a2 =', a2\n",
    "print 'x2 =', x2"
   ]
  },
  {
   "cell_type": "code",
   "execution_count": null,
   "metadata": {
    "collapsed": false
   },
   "outputs": [],
   "source": [
    "print 'a1*x1 + a2*x2 =', a1*x1 + a2*x2 # TODO"
   ]
  },
  {
   "cell_type": "markdown",
   "metadata": {},
   "source": [
    "### Distance between vectors\n",
    "\n",
    "The distance between two vectors is the norm of their difference:\n",
    "\n",
    "$$d(u,v) = ||u-v||$$\n",
    "\n",
    "<img src='assets/distance.png'></img>"
   ]
  },
  {
   "cell_type": "code",
   "execution_count": null,
   "metadata": {
    "collapsed": false
   },
   "outputs": [],
   "source": [
    "u = np.array([7, 1])\n",
    "v = np.array([3, 2])\n",
    "\n",
    "print 'u =', u\n",
    "print 'v =', v"
   ]
  },
  {
   "cell_type": "code",
   "execution_count": null,
   "metadata": {
    "collapsed": false
   },
   "outputs": [],
   "source": [
    "print 'd(u, v) =', np.linalg.norm(u - v)"
   ]
  },
  {
   "cell_type": "markdown",
   "metadata": {},
   "source": [
    "### The dot product (or inner product)\n",
    "\n",
    "If we have two vectors $\\boldsymbol{x}$ and $\\boldsymbol{y}$ of the same length $(n)$, then the _dot product_ is given by:\n",
    "\n",
    "$$\\boldsymbol{x} \\cdot \\boldsymbol{y} = x_1y_1 + x_2y_2 + \\cdots + x_ny_n$$"
   ]
  },
  {
   "cell_type": "code",
   "execution_count": null,
   "metadata": {
    "collapsed": false
   },
   "outputs": [],
   "source": [
    "x = np.array([np.cos(np.pi/3), np.sin(np.pi/3)])\n",
    "y = np.array([np.cos(np.pi/2), np.sin(np.pi/2)])\n",
    "\n",
    "\n",
    "print 'x =', x\n",
    "print 'y =', y"
   ]
  },
  {
   "cell_type": "code",
   "execution_count": null,
   "metadata": {
    "collapsed": false
   },
   "outputs": [],
   "source": [
    "print np.dot(x, y)\n",
    "print x.dot(y)\n",
    "print y.dot(x)"
   ]
  },
  {
   "cell_type": "markdown",
   "metadata": {},
   "source": [
    "Note:"
   ]
  },
  {
   "cell_type": "code",
   "execution_count": null,
   "metadata": {
    "collapsed": false
   },
   "outputs": [],
   "source": [
    "np.cos(np.pi/6)"
   ]
  },
  {
   "cell_type": "markdown",
   "metadata": {},
   "source": [
    "If $\\mathbf{x} \\cdot \\mathbf{y} = 0$ then $x$ and $y$ are *orthogonal* (aligns with the intuitive notion of perpendicular)."
   ]
  },
  {
   "cell_type": "code",
   "execution_count": null,
   "metadata": {
    "collapsed": false
   },
   "outputs": [],
   "source": [
    "x = np.array([np.cos(np.pi/3), np.sin(np.pi/3)])\n",
    "y = np.array([np.cos(5*np.pi/6), np.sin(5*np.pi/6)])\n",
    "\n",
    "np.dot(x, y)"
   ]
  },
  {
   "cell_type": "markdown",
   "metadata": {},
   "source": [
    "The norm squared of a vector is just the vector dot product with itself:\n",
    "\n",
    "$$||x||^2 = x \\cdot x$$"
   ]
  },
  {
   "cell_type": "code",
   "execution_count": null,
   "metadata": {
    "collapsed": false,
    "scrolled": true
   },
   "outputs": [],
   "source": [
    "print np.linalg.norm(x)**2\n",
    "print np.dot(x, x)"
   ]
  },
  {
   "cell_type": "markdown",
   "metadata": {},
   "source": [
    "### Cosine Similarity"
   ]
  },
  {
   "cell_type": "markdown",
   "metadata": {},
   "source": [
    "The _cosine similarity_ of the vectors is the cosine of the angle between them:\n",
    "\n",
    "$$cos(\\theta) = \\frac{\\boldsymbol{u} \\cdot \\boldsymbol{v}}{||\\boldsymbol{u}|| \\text{ } ||\\boldsymbol{v}||}$$\n",
    "\n",
    "<img src='assets/cosine-similarity.png'></img>"
   ]
  },
  {
   "cell_type": "code",
   "execution_count": null,
   "metadata": {
    "collapsed": false
   },
   "outputs": [],
   "source": [
    "u = np.array([-7, 5])\n",
    "v = np.array([5, 1])\n",
    "\n",
    "print np.dot(x,y)/(np.linalg.norm(x)*np.linalg.norm(y))"
   ]
  },
  {
   "cell_type": "markdown",
   "metadata": {},
   "source": [
    "If both $\\boldsymbol{u}$ and $\\boldsymbol{v}$ are zero-centered, this calculation is the _correlation_ between $\\boldsymbol{u}$ and $\\boldsymbol{v}$."
   ]
  },
  {
   "cell_type": "code",
   "execution_count": null,
   "metadata": {
    "collapsed": false
   },
   "outputs": [],
   "source": [
    "u_centered = u - np.mean(u)\n",
    "print u_centered\n",
    "\n",
    "v_centered = v - np.mean(v)\n",
    "print v_centered\n",
    "\n",
    "print np.dot(u_centered, v_centered)/(np.linalg.norm(u_centered)*np.linalg.norm(v_centered))"
   ]
  },
  {
   "cell_type": "markdown",
   "metadata": {},
   "source": [
    "# Matrices\n",
    "\n",
    "Matrices are two dimensional arrays of numbers which can transform one vector into another one in a linear way. A function is linear if both $f(x+y)=f(x)+f(y)$ and $f(ax)=af(x)$ for a constant $a$."
   ]
  },
  {
   "cell_type": "markdown",
   "metadata": {},
   "source": [
    "An $n \\times p$ matrix is an array of numbers with $n$ rows and $p$ columns:\n",
    "\n",
    "$$\n",
    "X =\n",
    "  \\begin{bmatrix}\n",
    "    X_{11} & X_{12} & \\cdots & X_{1p} \\\\\n",
    "    X_{21} & X_{22} & \\cdots & X_{2p} \\\\\n",
    "    \\vdots & \\vdots & \\ddots & \\vdots \\\\\n",
    "    X_{n1} & = X_{n2} & \\cdots & X_{np} \n",
    "  \\end{bmatrix}\n",
    "$$"
   ]
  },
  {
   "cell_type": "markdown",
   "metadata": {},
   "source": [
    "For the following $3 \\times 3$ matrix\n",
    "\n",
    "$$\n",
    "X =\n",
    "  \\begin{bmatrix}\n",
    "    cos(\\pi / 4) & -sin(\\pi / 4) & 0\\\\\n",
    "    sin(\\pi / 4) & cos(\\pi / 4) & 0\\\\\n",
    "    0 & 0 & 1\\\\    \n",
    "  \\end{bmatrix}\n",
    "$$\n",
    "\n",
    "<img src='assets/matrix-rotation.png'></img>\n",
    "\n",
    "We can make a matrix in numpy using a two dimensional array. For instance, we can create $X$ as follows:"
   ]
  },
  {
   "cell_type": "code",
   "execution_count": null,
   "metadata": {
    "collapsed": false
   },
   "outputs": [],
   "source": [
    "X = np.array([[np.cos(np.pi / 4), -np.sin(np.pi / 4), 0], [np.sin(np.pi / 4), np.cos(np.pi / 4), 0], [0, 0, 1]])\n",
    "\n",
    "print X"
   ]
  },
  {
   "cell_type": "markdown",
   "metadata": {},
   "source": [
    "### Shape of a matrix\n",
    "\n",
    "The shape of a matrix tell us how many rows and columns it has. "
   ]
  },
  {
   "cell_type": "code",
   "execution_count": null,
   "metadata": {
    "collapsed": false
   },
   "outputs": [],
   "source": [
    "print X.shape\n",
    "\n",
    "print 'The dimension of the matrix is {}x{} (rows x columns)'.format(X.shape[0], X.shape[1]) "
   ]
  },
  {
   "cell_type": "markdown",
   "metadata": {},
   "source": [
    "### Elements of a matrix\n",
    "\n",
    "Let $X_{ij}$ and $(X)_{ij}$ denote the value in the $i$th row and $j$th column of the matrix $X$. We can look at these values in Python as follows:"
   ]
  },
  {
   "cell_type": "code",
   "execution_count": null,
   "metadata": {
    "collapsed": false
   },
   "outputs": [],
   "source": [
    "print 'Element at i = 0, j = 0: ', X[0, 0]\n",
    "print 'Second column: ', X[:, 1]\n",
    "print 'Third row: ', X[2, :]"
   ]
  },
  {
   "cell_type": "markdown",
   "metadata": {},
   "source": [
    "### Scalar multiplication\n",
    "\n",
    "Scalar multiplication is defined just like scalar multiplication with vectors. Multiplying both a matrix and a vector by a scalar simply multiplies each element of both a matrix and a vector by a scalar."
   ]
  },
  {
   "cell_type": "code",
   "execution_count": null,
   "metadata": {
    "collapsed": false
   },
   "outputs": [],
   "source": [
    "print \"2*X =\\n\", 2*X"
   ]
  },
  {
   "cell_type": "markdown",
   "metadata": {},
   "source": [
    "### Matrix addition\n",
    "\n",
    "Matrix addition is also defined just like addition with vectors: The addition is carried element-wise:\n",
    "\n",
    "<img src='assets/matrix-addition.png'></img>"
   ]
  },
  {
   "cell_type": "code",
   "execution_count": null,
   "metadata": {
    "collapsed": false
   },
   "outputs": [],
   "source": [
    "X = np.array([[np.cos(np.pi / 4), -np.sin(np.pi / 4), 0], [np.sin(np.pi / 4), np.cos(np.pi / 4), 0], [0, 0, 1]])\n",
    "Y = np.array([[1, 0, 2], [0, 1, -1], [0, 0, 1]])\n",
    "\n",
    "print \"X =\\n\", X, \"\\n\"\n",
    "print \"Y =\\n\", Y"
   ]
  },
  {
   "cell_type": "code",
   "execution_count": null,
   "metadata": {
    "collapsed": false
   },
   "outputs": [],
   "source": [
    "print \"X + Y =\\n\", X + Y"
   ]
  },
  {
   "cell_type": "markdown",
   "metadata": {},
   "source": [
    "### Multiplying matrices\n",
    "\n",
    "In order to multiply two matrices, they must be _conformable_ such that the number of columns of the first matrix must be the same as the number of rows of the second matrix.\n",
    "\n",
    "Let $X$ be a matrix of dimension $n \\times p$ and let $Y$ be a matrix of dimension $p \\times q$, then the product $XY$ will be a matrix of dimension $n \\times q$ whose $(i,j)^{th}$ element is given by the dot product of the $i^{th}$ row of $X$ and the $j^{th}$ column of $Y$:\n",
    "\n",
    "$$\\sum_{k=1}^p X_{ik}Y_{kj} = X_{i1}Y_{1j} + \\cdots + X_{ip}Y_{pj}$$\n",
    "\n",
    "<img src='assets/matrix-multiplication.png'></img>"
   ]
  },
  {
   "cell_type": "code",
   "execution_count": null,
   "metadata": {
    "collapsed": false
   },
   "outputs": [],
   "source": [
    "X = np.array([1, 0, 1])\n",
    "R = np.array([[np.cos(np.pi / 4), -np.sin(np.pi / 4), 0], [np.sin(np.pi / 4), np.cos(np.pi / 4), 0], [0, 0, 1]])\n",
    "\n",
    "print \"X =\\n\", X, \"\\n\"\n",
    "print \"R =\\n\", R"
   ]
  },
  {
   "cell_type": "code",
   "execution_count": null,
   "metadata": {
    "collapsed": false
   },
   "outputs": [],
   "source": [
    "X_p = np.dot(R, X)\n",
    "\n",
    "print X_p"
   ]
  },
  {
   "cell_type": "markdown",
   "metadata": {},
   "source": [
    "$X'$ is at $(cos(\\pi / 4), sin(\\pi / 4))$"
   ]
  },
  {
   "cell_type": "code",
   "execution_count": null,
   "metadata": {
    "collapsed": false
   },
   "outputs": [],
   "source": [
    "R.dot(X)"
   ]
  },
  {
   "cell_type": "markdown",
   "metadata": {},
   "source": [
    "### Matrix (element-wise) multiplication"
   ]
  },
  {
   "cell_type": "code",
   "execution_count": null,
   "metadata": {
    "collapsed": false
   },
   "outputs": [],
   "source": [
    "# Regular multiply operator is just \n",
    "\n",
    "X = np.array([[np.cos(np.pi / 4), -np.sin(np.pi / 4), 0], [np.sin(np.pi / 4), np.cos(np.pi / 4), 0], [0, 0, 1]])\n",
    "Y = np.array([[1, 0, 2], [0, 1, -1], [1, 1, 1]])\n",
    "\n",
    "print \"X =\\n\", X, \"\\n\"\n",
    "print \"Y =\\n\", Y, \"\\n\"\n",
    "\n",
    "print \"X * Y =\\n\", X * Y"
   ]
  },
  {
   "cell_type": "markdown",
   "metadata": {},
   "source": [
    "### Commutativity\n",
    "\n",
    "A matrix is a square matrix if it has the same number of rows as columns. In that case if $X$ and $Y$ is a square matrix than we can both evaluate $XY$ and $YX$. However, in general, $XY \\neq YX$ although equality can happen in special circumstances."
   ]
  },
  {
   "cell_type": "code",
   "execution_count": null,
   "metadata": {
    "collapsed": false,
    "scrolled": true
   },
   "outputs": [],
   "source": [
    "X = np.array([1, 0, 1])\n",
    "\n",
    "R = np.array([[np.cos(np.pi / 4), -np.sin(np.pi / 4), 0], [np.sin(np.pi / 4), np.cos(np.pi / 4), 0], [0, 0, 1]])\n",
    "T = np.array([[1, 0, 2], [0, 1, -1], [0, 0, 1]])\n",
    "\n",
    "print \"X =\\n\", X, \"\\n\"\n",
    "print \"R =\\n\", R, \"\\n\"\n",
    "print \"T =\\n\", T, \"\\n\""
   ]
  },
  {
   "cell_type": "code",
   "execution_count": null,
   "metadata": {
    "collapsed": false
   },
   "outputs": [],
   "source": [
    "print \"Translation then rotation:\"\n",
    "print X, ' -> ', T.dot(X), '(first translated)', R.dot(T.dot(X)), \"(then rotated)\\n\"\n",
    "\n",
    "print \"R * T =\\n\", R.dot(T)"
   ]
  },
  {
   "cell_type": "code",
   "execution_count": null,
   "metadata": {
    "collapsed": false
   },
   "outputs": [],
   "source": [
    "print \"Rotation then translation:\"\n",
    "print X, ' -> ', R.dot(X), '(first rotated)', T.dot(R.dot(X)), \"(then translated)\\n\"\n",
    "\n",
    "print \"T * R =\\n\", T.dot(R)"
   ]
  },
  {
   "cell_type": "markdown",
   "metadata": {
    "collapsed": false
   },
   "source": [
    "### Additional Properties of Matrices\n",
    "1. If $X$ and $Y$ are both $n \\times p$ matrices,\n",
    "then $$X+Y = Y+X$$\n",
    "\n",
    "2. If $X$, $Y$, and $Z$ are all $n \\times p$ matrices,\n",
    "then $$X+(Y+Z) = (X+Y)+Z$$\n",
    "\n",
    "3. If $X$, $Y$, and $Z$ are all conformable,\n",
    "then $$X(YZ) = (XY)Z$$\n",
    "\n",
    "4. If $X$ is of dimension $n \\times k$ and $Y$ and $Z$ are of dimension $k \\times p$, then $$X(Y+Z) = XY + XZ$$\n",
    "\n",
    "5. If $X$ is of dimension $p \\times n$ and $Y$ and $Z$ are of dimension $k \\times p$, then $$(Y+Z)X = YX + ZX$$\n",
    "\n",
    "6. If $a$ and $b$ are real numbers, and $X$ is an $n \\times p$ matrix,\n",
    "then $$(a+b)X = aX+bX$$\n",
    "\n",
    "7. If $a$ is a real number, and $X$ and $Y$ are both $n \\times p$ matrices,\n",
    "then $$a(X+Y) = aX+aY$$\n",
    "\n",
    "8. If $a$ is a real number, and $X$ and $Y$ are conformable, then\n",
    "$$X(aY) = a(XY)$$"
   ]
  },
  {
   "cell_type": "markdown",
   "metadata": {},
   "source": [
    "### Matrix Transpose\n",
    "\n",
    "The transpose of an $n \\times p$ matrix is a $p \\times n$ matrix with rows and columns interchanged\n",
    "\n",
    "$$\n",
    "X^T =\n",
    "  \\begin{bmatrix}\n",
    "    x_{11} & x_{12} & \\cdots & x_{1n} \\\\\n",
    "    x_{21} & x_{22} & \\cdots & x_{2n} \\\\\n",
    "    \\vdots & \\vdots & \\ddots & \\vdots \\\\\n",
    "    x_{p1} & x_{p2} & \\cdots & x_{pn} \n",
    "  \\end{bmatrix}\n",
    "$$\n",
    "\n"
   ]
  },
  {
   "cell_type": "code",
   "execution_count": null,
   "metadata": {
    "collapsed": false
   },
   "outputs": [],
   "source": [
    "X = np.array([[0, 1, 2], [3, 4, 5]])\n",
    "\n",
    "print \"X's shape is\", X.shape, \"\\n\"\n",
    "print \"X =\\n\", X, \"\\n\"\n",
    "\n",
    "X_T = X.transpose()\n",
    "\n",
    "print \"X_T's shape is\", X_T.shape, \"\\n\"\n",
    "print \"X_T =\\n\", X_T"
   ]
  },
  {
   "cell_type": "markdown",
   "metadata": {},
   "source": [
    "### Properties of Transpose\n",
    "1. Let $X$ be an $n \\times p$ matrix and $a$ a real number, then\n",
    "$$(aX)^T = aX^T$$\n",
    "\n",
    "2. Let $X$ and $Y$ be $n \\times p$ matrices, then\n",
    "$$(X + Y)^T = X^T + Y^T$$\n",
    "\n",
    "3. Let $X$ be an $n \\times k$ matrix and $Y$ be a $k \\times p$ matrix, then\n",
    "$$(XY)^T = Y^TX^T$$"
   ]
  },
  {
   "cell_type": "markdown",
   "metadata": {},
   "source": [
    "### Vector in Matrix Form\n",
    "A column vector is a matrix with $n$ rows and 1 column and to differentiate from a standard matrix $X$ of higher dimensions can be denoted as a bold lower case $\\boldsymbol{x}$\n",
    "\n",
    "$$\n",
    "\\boldsymbol{x} =\n",
    "  \\begin{bmatrix}\n",
    "    x_{1}\\\\\n",
    "    x_{2}\\\\\n",
    "    \\vdots\\\\\n",
    "    x_{n}\n",
    "  \\end{bmatrix}\n",
    "$$"
   ]
  },
  {
   "cell_type": "markdown",
   "metadata": {},
   "source": [
    "In numpy, when we enter a vector, it will not normally have the second dimension."
   ]
  },
  {
   "cell_type": "code",
   "execution_count": null,
   "metadata": {
    "collapsed": false
   },
   "outputs": [],
   "source": [
    "x = np.array([1,2,3,4])\n",
    "\n",
    "print 'x =', x\n",
    "print \"x's shape is\", x.shape"
   ]
  },
  {
   "cell_type": "code",
   "execution_count": null,
   "metadata": {
    "collapsed": false
   },
   "outputs": [],
   "source": [
    "x = x.transpose()\n",
    "\n",
    "print 'x =', x, \"\\n\"\n",
    "print \"x's shape is\", x.shape"
   ]
  },
  {
   "cell_type": "code",
   "execution_count": null,
   "metadata": {
    "collapsed": false
   },
   "outputs": [],
   "source": [
    "y = x.reshape(4, 1)\n",
    "\n",
    "print \"y =\\n\", y, \"\\n\"\n",
    "print \"y's shape is\", y.shape"
   ]
  },
  {
   "cell_type": "code",
   "execution_count": null,
   "metadata": {
    "collapsed": false
   },
   "outputs": [],
   "source": [
    "z = x[:, np.newaxis]\n",
    "\n",
    "print \"z =\\n\", z, \"\\n\"\n",
    "print \"z's shape is\", z.shape"
   ]
  },
  {
   "cell_type": "code",
   "execution_count": null,
   "metadata": {
    "collapsed": false
   },
   "outputs": [],
   "source": [
    "t = z.transpose()\n",
    "\n",
    "print \"t =\\n\", t, \"\\n\"\n",
    "print \"t's shape is\", t.shape"
   ]
  },
  {
   "cell_type": "markdown",
   "metadata": {},
   "source": [
    "A row vector is generally written as the transpose\n",
    "\n",
    "$$\\boldsymbol{x}^T = [x_1, x_2, \\ldots, x_n]$$"
   ]
  },
  {
   "cell_type": "markdown",
   "metadata": {},
   "source": [
    "If we have two vectors $\\boldsymbol{x}$ and $\\boldsymbol{y}$ of the same length $(n)$, then the _dot product_ is give by matrix multiplication\n",
    "\n",
    "$$\\boldsymbol{x}^T \\boldsymbol{y} =   \n",
    "    \\begin{bmatrix} x_1& x_2 & \\ldots & x_n \\end{bmatrix}\n",
    "    \\begin{bmatrix}\n",
    "    y_{1}\\\\\n",
    "    y_{2}\\\\\n",
    "    \\vdots\\\\\n",
    "    y_{n}\n",
    "  \\end{bmatrix}  =\n",
    "  x_1y_1 + x_2y_2 + \\cdots + x_ny_n$$"
   ]
  },
  {
   "cell_type": "markdown",
   "metadata": {},
   "source": [
    "## Inverse of a Matrix"
   ]
  },
  {
   "cell_type": "markdown",
   "metadata": {},
   "source": [
    "The inverse of a square $n \\times n$ matrix $X$ is an $n \\times n$ matrix $X^{-1}$ such that \n",
    "\n",
    "$$X^{-1}X = XX^{-1} = I$$\n",
    "\n",
    "Where $I$ is the identity matrix, an $n \\times n$ diagonal matrix with 1's along the diagonal. \n",
    "\n",
    "If such a matrix exists, then $X$ is said to be _invertible_ or _nonsingular_, otherwise $X$ is said to be _noninvertible_ or _singular_."
   ]
  },
  {
   "cell_type": "code",
   "execution_count": null,
   "metadata": {
    "collapsed": false
   },
   "outputs": [],
   "source": [
    "X = np.array([[1, 2, 3], [0, 1, 0], [-2, -1, 0]])\n",
    "print \"X =\\n\", X, \"\\n\"\n",
    "\n",
    "Y = np.linalg.inv(X)\n",
    "print \"Y =\\n\", Y, \"\\n\"\n",
    "\n",
    "print \"XY =\\n\", Y.dot(X)"
   ]
  },
  {
   "cell_type": "markdown",
   "metadata": {},
   "source": [
    "### Properties of Inverse\n",
    "1. If $X$ is invertible, then $X^{-1}$ is invertible and\n",
    "$$(X^{-1})^{-1} = X$$\n",
    "2. If $X$ and $Y$ are both $n \\times n$ invertible matrices, then $XY$ is invertible and\n",
    "$$(XY)^{-1} = Y^{-1}X^{-1}$$\n",
    "3. If $X$ is invertible, then $X^T$ is invertible and\n",
    "$$(X^T)^{-1} = (X^{-1})^T$$"
   ]
  },
  {
   "cell_type": "markdown",
   "metadata": {},
   "source": [
    "### Orthogonal Matrices\n",
    "\n",
    "Let $X$ be an $n \\times n$ matrix such than $X^TX = I$, then $X$ is said to be orthogonal which implies that $X^T=X^{-1}$."
   ]
  },
  {
   "cell_type": "markdown",
   "metadata": {},
   "source": [
    "This is equivalent to saying that the columns of $X$ are all orthogonal to each other (and have unit length)."
   ]
  },
  {
   "cell_type": "markdown",
   "metadata": {},
   "source": [
    "## Matrix Equations"
   ]
  },
  {
   "cell_type": "markdown",
   "metadata": {},
   "source": [
    "A system of equations of the form:\n",
    "\\begin{align*}\n",
    "    a_{11}x_1 + \\cdots + a_{1n}x_n &= b_1 \\\\\n",
    "    \\vdots \\hspace{1in} \\vdots \\\\\n",
    "    a_{m1}x_1 + \\cdots + a_{mn}x_n &= b_m \n",
    "\\end{align*}\n",
    "can be written as a matrix equation:\n",
    "$$\n",
    "A\\mathbf{x} = \\mathbf{b}\n",
    "$$\n",
    "and hence, has solution\n",
    "$$\n",
    "\\mathbf{x} = A^{-1}\\mathbf{b}\n",
    "$$"
   ]
  },
  {
   "cell_type": "markdown",
   "metadata": {},
   "source": [
    "## Eigenvectors and Eigenvalues"
   ]
  },
  {
   "cell_type": "markdown",
   "metadata": {},
   "source": [
    "Let $A$ be an $n \\times n$ matrix and $\\boldsymbol{x}$ be an $n \\times 1$ nonzero vector. An _eigenvalue_ of $A$ is a number $\\lambda$ such that\n",
    "\n",
    "$$A \\boldsymbol{x} = \\lambda \\boldsymbol{x}$$\n",
    "\n",
    "A vector $\\boldsymbol{x}$ satisfying this equation is called an eigenvector associated with $\\lambda$.\n",
    "\n",
    "Eigenvectors and eigenvalues will play a huge roll in matrix methods later in the course (PCA, SVD, NMF)."
   ]
  },
  {
   "cell_type": "code",
   "execution_count": null,
   "metadata": {
    "collapsed": false
   },
   "outputs": [],
   "source": [
    "A = np.array([[1, 1], [1, 2]])\n",
    "lambdas, X = np.linalg.eig(A)\n",
    "\n",
    "print 'lambdas =', lambdas\n",
    "print \"X =\\n\", X"
   ]
  },
  {
   "cell_type": "code",
   "execution_count": null,
   "metadata": {
    "collapsed": false
   },
   "outputs": [],
   "source": [
    "first_lambda = lambdas[0]\n",
    "first_x = X[:, 0]\n",
    "\n",
    "print 'Ax         =', A.dot(first_x)\n",
    "print 'lambda * x =', first_lambda * first_x"
   ]
  },
  {
   "cell_type": "code",
   "execution_count": null,
   "metadata": {
    "collapsed": false
   },
   "outputs": [],
   "source": [
    "second_lambda = lambdas[1]\n",
    "second_x = X[:, 1]\n",
    "\n",
    "print 'Ax         =', A.dot(second_x)\n",
    "print 'lambda * x =', second_lambda * second_x"
   ]
  },
  {
   "cell_type": "markdown",
   "metadata": {},
   "source": [
    "### Stochastic matrices"
   ]
  },
  {
   "cell_type": "markdown",
   "metadata": {},
   "source": [
    "A stochastic matrix represents the probability of going from one state to another. If P is a stochastic matrix, then $P_{ij}$ has the interpretations that the if a system is in state $j$, it has a probability $P_{ij}$ to be in state $i$ on the next iteration. If a system has a probability distribution $x$ then after applying $P$, the probability distribution will be $P \\cdot x$.\n",
    "\n",
    "<img src='assets/markov-chain.png'></img>"
   ]
  },
  {
   "cell_type": "code",
   "execution_count": null,
   "metadata": {
    "collapsed": false
   },
   "outputs": [],
   "source": [
    "P = np.array([[.9, .15, .25], [.075, .8, .25], [.025, .05, .5]])\n",
    "\n",
    "print \"P =\\n\", P"
   ]
  },
  {
   "cell_type": "code",
   "execution_count": null,
   "metadata": {
    "collapsed": false
   },
   "outputs": [],
   "source": [
    "np.sum(P, axis = 0)"
   ]
  },
  {
   "cell_type": "markdown",
   "metadata": {},
   "source": [
    "If we start out with a probability distribution of $x^T=[.5,.25,.25]$ then what will be the probability at the first iteration? How about iteration 1,000?"
   ]
  },
  {
   "cell_type": "code",
   "execution_count": null,
   "metadata": {
    "collapsed": false
   },
   "outputs": [],
   "source": [
    "x = np.array([[.5], [.25], [.25]])\n",
    "\n",
    "P.dot(x)"
   ]
  },
  {
   "cell_type": "code",
   "execution_count": null,
   "metadata": {
    "collapsed": false
   },
   "outputs": [],
   "source": [
    "for _ in xrange(1001):\n",
    "    x = P.dot(x)\n",
    "\n",
    "x"
   ]
  },
  {
   "cell_type": "code",
   "execution_count": null,
   "metadata": {
    "collapsed": false
   },
   "outputs": [],
   "source": [
    "np.sum(x)"
   ]
  }
 ],
 "metadata": {
  "kernelspec": {
   "display_name": "Python 2",
   "language": "python",
   "name": "python2"
  },
  "language_info": {
   "codemirror_mode": {
    "name": "ipython",
    "version": 2
   },
   "file_extension": ".py",
   "mimetype": "text/x-python",
   "name": "python",
   "nbconvert_exporter": "python",
   "pygments_lexer": "ipython2",
   "version": "2.7.11"
  }
 },
 "nbformat": 4,
 "nbformat_minor": 0
}
