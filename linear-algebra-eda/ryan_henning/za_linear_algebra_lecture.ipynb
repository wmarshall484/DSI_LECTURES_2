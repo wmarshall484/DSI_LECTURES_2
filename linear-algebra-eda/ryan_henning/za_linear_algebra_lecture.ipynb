{
 "cells": [
  {
   "cell_type": "markdown",
   "metadata": {},
   "source": [
    "# Linear Algebra with examples using Numpy"
   ]
  },
  {
   "cell_type": "code",
   "execution_count": 5,
   "metadata": {
    "collapsed": true
   },
   "outputs": [],
   "source": [
    "import numpy as np\n",
    "from numpy.random import randn as randn\n",
    "from numpy.random import randint as randint"
   ]
  },
  {
   "cell_type": "markdown",
   "metadata": {},
   "source": [
    "## Linear Algebra and Machine Learning\n",
    "* Ranking web pages in order of importance\n",
    "    * Solved as the problem of finding the eigenvector of the page score matrix\n",
    "* Dimensionality reduction - Principal Component Analysis\n",
    "* Movie recommendation\n",
    "    * Use singular value decomposition (SVD) to break down user-movie into user-feature and movie-feature matrices, keeping only the top $k$-ranks to identify the best matches\n",
    "* Topic modeling\n",
    "    * Extensive use of SVD and matrix factorization can be found in Natural Language Processing, specifically in topic modeling and semantic analysis"
   ]
  },
  {
   "cell_type": "markdown",
   "metadata": {},
   "source": [
    "## Vectors"
   ]
  },
  {
   "cell_type": "markdown",
   "metadata": {},
   "source": [
    "A vector can be represented by an array of real numbers\n",
    "\n",
    "$$\\mathbf{x} = [x_1, x_2, \\ldots, x_n]$$"
   ]
  },
  {
   "cell_type": "markdown",
   "metadata": {},
   "source": [
    "Geometrically, a vector specifies the coordinates of the tip of the vector if the tail were placed at the origin"
   ]
  },
  {
   "cell_type": "code",
   "execution_count": 6,
   "metadata": {
    "collapsed": false
   },
   "outputs": [
    {
     "data": {
      "image/png": "[encoded data removed]",
      "text/plain": [
       "<IPython.core.display.Image object>"
      ]
     },
     "execution_count": 6,
     "metadata": {},
     "output_type": "execute_result"
    }
   ],
   "source": [
    "from IPython.display import Image\n",
    "Image('images/vector.png')"
   ]
  },
  {
   "cell_type": "code",
   "execution_count": 7,
   "metadata": {
    "collapsed": false
   },
   "outputs": [
    {
     "name": "stdout",
     "output_type": "stream",
     "text": [
      "[1 2 3 4]\n",
      "(4,)\n"
     ]
    }
   ],
   "source": [
    "x = np.array([1,2,3,4])\n",
    "print x\n",
    "print x.shape\n"
   ]
  },
  {
   "cell_type": "markdown",
   "metadata": {},
   "source": [
    "The norm of a vector $\\mathbf{x}$ is defined by\n",
    "\n",
    "$$||\\boldsymbol{x}|| = \\sqrt{x_1^2 + x_2^2 + \\cdots + x_n^2}$$"
   ]
  },
  {
   "cell_type": "code",
   "execution_count": 8,
   "metadata": {
    "collapsed": false
   },
   "outputs": [
    {
     "name": "stdout",
     "output_type": "stream",
     "text": [
      "5.47722557505\n",
      "5.47722557505\n"
     ]
    }
   ],
   "source": [
    "print np.sqrt(np.sum(x**2))\n",
    "print np.linalg.norm(x)"
   ]
  },
  {
   "cell_type": "markdown",
   "metadata": {},
   "source": [
    "Adding a constant to a vector adds the constant to each element\n",
    "\n",
    "\n",
    "$$a + \\boldsymbol{x} = [a + x_1, a + x_2, \\ldots, a + x_n]$$"
   ]
  },
  {
   "cell_type": "code",
   "execution_count": 9,
   "metadata": {
    "collapsed": false
   },
   "outputs": [
    {
     "name": "stdout",
     "output_type": "stream",
     "text": [
      "[1 2 3 4]\n",
      "[5 6 7 8]\n"
     ]
    }
   ],
   "source": [
    "a = 4\n",
    "print x\n",
    "print x + 4"
   ]
  },
  {
   "cell_type": "markdown",
   "metadata": {},
   "source": [
    "Multiplying a vector by a constant multiplies each term by the constant.\n",
    "\n",
    "\n",
    "$$a \\boldsymbol{x} = [ax_1, ax_2, \\ldots, ax_n]$$"
   ]
  },
  {
   "cell_type": "markdown",
   "metadata": {},
   "source": [
    "If we have two vectors $\\boldsymbol{x}$ and $\\boldsymbol{y}$ of the same length $(n)$, then the _dot product_ is give by\n",
    "\n",
    "$$\\boldsymbol{x} \\cdot \\boldsymbol{y} = x_1y_1 + x_2y_2 + \\cdots + x_ny_n$$"
   ]
  },
  {
   "cell_type": "code",
   "execution_count": 10,
   "metadata": {
    "collapsed": false
   },
   "outputs": [
    {
     "name": "stdout",
     "output_type": "stream",
     "text": [
      "[1 2 3 4]\n",
      "[4 3 2 1]\n"
     ]
    },
    {
     "data": {
      "text/plain": [
       "20"
      ]
     },
     "execution_count": 10,
     "metadata": {},
     "output_type": "execute_result"
    }
   ],
   "source": [
    "y = np.array([4, 3, 2, 1])\n",
    "print x\n",
    "print y\n",
    "np.dot(x,y)"
   ]
  },
  {
   "cell_type": "markdown",
   "metadata": {},
   "source": [
    "If $\\mathbf{x} \\cdot \\mathbf{y} = 0$ then $x$ and $y$ are *orthogonal* (aligns with the intuitive notion of perpindicular)"
   ]
  },
  {
   "cell_type": "code",
   "execution_count": 11,
   "metadata": {
    "collapsed": false
   },
   "outputs": [
    {
     "data": {
      "text/plain": [
       "0"
      ]
     },
     "execution_count": 11,
     "metadata": {},
     "output_type": "execute_result"
    }
   ],
   "source": [
    "w = np.array([1, 2])\n",
    "v = np.array([-2, 1])\n",
    "np.dot(w,v)"
   ]
  },
  {
   "cell_type": "markdown",
   "metadata": {},
   "source": [
    "The norm squared of a vector is just the vector dot product with itself\n",
    "$$\n",
    "||x||^2 = x \\cdot x\n",
    "$$"
   ]
  },
  {
   "cell_type": "code",
   "execution_count": 12,
   "metadata": {
    "collapsed": false
   },
   "outputs": [
    {
     "name": "stdout",
     "output_type": "stream",
     "text": [
      "30.0\n",
      "30\n"
     ]
    }
   ],
   "source": [
    "print np.linalg.norm(x)**2\n",
    "print np.dot(x,x)"
   ]
  },
  {
   "cell_type": "markdown",
   "metadata": {},
   "source": [
    "The distance between two vectors is the norm of the difference.\n",
    "$$\n",
    "d(x,y) = ||x-y||\n",
    "$$"
   ]
  },
  {
   "cell_type": "code",
   "execution_count": 13,
   "metadata": {
    "collapsed": false
   },
   "outputs": [
    {
     "data": {
      "text/plain": [
       "4.4721359549995796"
      ]
     },
     "execution_count": 13,
     "metadata": {},
     "output_type": "execute_result"
    }
   ],
   "source": [
    "np.linalg.norm(x-y)"
   ]
  },
  {
   "cell_type": "markdown",
   "metadata": {},
   "source": [
    "_Cosine Similarity_ is the cosine of the angle between the two vectors give by\n",
    "\n",
    "$$cos(\\theta) = \\frac{\\boldsymbol{x} \\cdot \\boldsymbol{y}}{||\\boldsymbol{x}|| \\text{ } ||\\boldsymbol{y}||}$$\n",
    "\n"
   ]
  },
  {
   "cell_type": "code",
   "execution_count": 14,
   "metadata": {
    "collapsed": false
   },
   "outputs": [
    {
     "data": {
      "text/plain": [
       "0.96886393162696616"
      ]
     },
     "execution_count": 14,
     "metadata": {},
     "output_type": "execute_result"
    }
   ],
   "source": [
    "x = np.array([1,2,3,4])\n",
    "y = np.array([5,6,7,8])\n",
    "np.dot(x,y)/(np.linalg.norm(x)*np.linalg.norm(y))"
   ]
  },
  {
   "cell_type": "markdown",
   "metadata": {},
   "source": [
    "If both $\\boldsymbol{x}$ and $\\boldsymbol{y}$ are zero-centered, this calculation is the _correlation_ between $\\boldsymbol{x}$ and $\\boldsymbol{y}$"
   ]
  },
  {
   "cell_type": "markdown",
   "metadata": {},
   "source": [
    "### Linear Combinations of Vectors"
   ]
  },
  {
   "cell_type": "markdown",
   "metadata": {},
   "source": [
    "If we have two vectors $\\boldsymbol{x}$ and $\\boldsymbol{y}$ of the same length $(n)$, then\n",
    "\n",
    "$$\\boldsymbol{x} + \\boldsymbol{y} = [x_1+y_1, x_2+y_2, \\ldots, x_n+y_n]$$"
   ]
  },
  {
   "cell_type": "code",
   "execution_count": 15,
   "metadata": {
    "collapsed": false
   },
   "outputs": [
    {
     "name": "stdout",
     "output_type": "stream",
     "text": [
      "[ 6  8 10 12]\n"
     ]
    }
   ],
   "source": [
    "x = np.array([1,2,3,4])\n",
    "y = np.array([5,6,7,8])\n",
    "print x+y"
   ]
  },
  {
   "cell_type": "code",
   "execution_count": 16,
   "metadata": {
    "collapsed": false
   },
   "outputs": [
    {
     "name": "stdout",
     "output_type": "stream",
     "text": [
      "[2 4 6 8]\n"
     ]
    }
   ],
   "source": [
    "a=2\n",
    "x = np.array([1,2,3,4])\n",
    "print a*x"
   ]
  },
  {
   "cell_type": "markdown",
   "metadata": {},
   "source": [
    "A _linear combination_ of a collection of vectors $(\\boldsymbol{x}_1,\n",
    "                                                    \\boldsymbol{x}_2, \\ldots,\n",
    "                                                    \\boldsymbol{x}_m)$ \n",
    "is a vector of the form\n",
    "\n",
    "$$a_1 \\cdot \\boldsymbol{x}_1 + a_2 \\cdot \\boldsymbol{x}_2 + \n",
    "\\cdots + a_m \\cdot \\boldsymbol{x}_m$$\n",
    "                                                "
   ]
  },
  {
   "cell_type": "code",
   "execution_count": 17,
   "metadata": {
    "collapsed": false
   },
   "outputs": [
    {
     "name": "stdout",
     "output_type": "stream",
     "text": [
      "[2 4 6 8]\n",
      "[20 24 28 32]\n",
      "[22 28 34 40]\n"
     ]
    }
   ],
   "source": [
    "a1=2\n",
    "x1 = np.array([1,2,3,4])\n",
    "print a1*x1\n",
    "a2=4\n",
    "x2 = np.array([5,6,7,8])\n",
    "print a2*x2\n",
    "print a1*x1 + a2*x2"
   ]
  },
  {
   "cell_type": "markdown",
   "metadata": {},
   "source": [
    "# Matrices"
   ]
  },
  {
   "cell_type": "markdown",
   "metadata": {},
   "source": [
    "An $n \\times p$ matrix is an array of numbers with $n$ rows and $p$ columns:\n",
    "\n",
    "$$\n",
    "X =\n",
    "  \\begin{bmatrix}\n",
    "    x_{11} & x_{12} & \\cdots & x_{1p} \\\\\n",
    "    x_{21} & x_{22} & \\cdots & x_{2p} \\\\\n",
    "    \\vdots & \\vdots & \\ddots & \\vdots \\\\\n",
    "    x_{n1} & x_{n2} & \\cdots & x_{np} \n",
    "  \\end{bmatrix}\n",
    "$$\n",
    "\n",
    "$n$ = the number of subjects  \n",
    "$p$ = the number of features"
   ]
  },
  {
   "cell_type": "markdown",
   "metadata": {},
   "source": [
    "For the following $2 \\times 3$ matrix\n",
    "$$\n",
    "X =\n",
    "  \\begin{bmatrix}\n",
    "    1 & 2 & 3\\\\\n",
    "    4 & 5 & 6\n",
    "  \\end{bmatrix}\n",
    "$$\n",
    "\n",
    "We can create in Python using NumPY"
   ]
  },
  {
   "cell_type": "code",
   "execution_count": 18,
   "metadata": {
    "collapsed": false
   },
   "outputs": [
    {
     "name": "stdout",
     "output_type": "stream",
     "text": [
      "6\n",
      "[[1 2 3]\n",
      " [4 5 6]]\n",
      "(2, 3)\n"
     ]
    }
   ],
   "source": [
    "X = np.array([[1,2,3],[4,5,6]])\n",
    "print X[1, 2]\n",
    "print X\n",
    "print X.shape"
   ]
  },
  {
   "cell_type": "markdown",
   "metadata": {},
   "source": [
    "### Basic Properties\n",
    "Let $X$ and $Y$ be matrices **of the dimension $n \\times p$**. Let $x_{ij}$ $y_{ij}$ for $i=1,2,\\ldots,n$ and $j=1,2,\\ldots,p$ denote the entries in these matrices, then\n",
    "\n",
    "1. $X+Y$ is the matrix whose $(i,j)^{th}$ entry is $x_{ij} + y_{ij}$\n",
    "2. $X-Y$ is the matrix whose $(i,j)^{th}$ entry is $x_{ij} - y_{ij}$\n",
    "3. $aX$, where $a$ is any real number, is the matrix whose $(i,j)^{th}$ entry is $ax_{ij}$ "
   ]
  },
  {
   "cell_type": "code",
   "execution_count": 19,
   "metadata": {
    "collapsed": false
   },
   "outputs": [
    {
     "name": "stdout",
     "output_type": "stream",
     "text": [
      "[[1 2 3]\n",
      " [4 5 6]]\n",
      "[[ 7  8  9]\n",
      " [10 11 12]]\n",
      "[[ 8 10 12]\n",
      " [14 16 18]]\n"
     ]
    }
   ],
   "source": [
    "X = np.array([[1,2,3],[4,5,6]])\n",
    "print X\n",
    "Y = np.array([[7,8,9],[10,11,12]])\n",
    "print Y\n",
    "print X+Y"
   ]
  },
  {
   "cell_type": "code",
   "execution_count": 20,
   "metadata": {
    "collapsed": false
   },
   "outputs": [
    {
     "name": "stdout",
     "output_type": "stream",
     "text": [
      "[[1 2 3]\n",
      " [4 5 6]]\n",
      "[[ 7  8  9]\n",
      " [10 11 12]]\n",
      "[[-6 -6 -6]\n",
      " [-6 -6 -6]]\n"
     ]
    }
   ],
   "source": [
    "X = np.array([[1,2,3],[4,5,6]])\n",
    "print X\n",
    "Y = np.array([[7,8,9],[10,11,12]])\n",
    "print Y\n",
    "print X-Y"
   ]
  },
  {
   "cell_type": "code",
   "execution_count": 21,
   "metadata": {
    "collapsed": false
   },
   "outputs": [
    {
     "name": "stdout",
     "output_type": "stream",
     "text": [
      "[[1 2 3]\n",
      " [4 5 6]]\n",
      "[[ 5 10 15]\n",
      " [20 25 30]]\n"
     ]
    }
   ],
   "source": [
    "X = np.array([[1,2,3],[4,5,6]])\n",
    "print X\n",
    "a=5\n",
    "print a*X"
   ]
  },
  {
   "cell_type": "markdown",
   "metadata": {},
   "source": [
    "In order to multiply two matrices, they must be _conformable_ such that the number of columns of the first matrix must be the same as the number of rows of the second matrix.\n",
    "\n",
    "Let $X$ be a matrix of dimension $n \\times k$ and let $Y$ be a matrix of dimension $k \\times p$, then the product $XY$ will be a matrix of dimension $n \\times p$ whose $(i,j)^{th}$ element is given by the dot product of the $i^{th}$ row of $X$ and the $j^{th}$ column of $Y$\n",
    "\n",
    "$$\\sum_{s=1}^k x_{is}y_{sj} = x_{i1}y_{1j} + \\cdots + x_{ik}y_{kj}$$\n",
    "\n",
    "\n"
   ]
  },
  {
   "cell_type": "markdown",
   "metadata": {},
   "source": [
    "### Note: \n",
    "\n",
    "$$XY \\neq YX$$"
   ]
  },
  {
   "cell_type": "markdown",
   "metadata": {},
   "source": [
    "If $X$ and $Y$ are square matrices of the same dimension, then the both the product $XY$ and $YX$ exist; however, there is no guarantee the two products will be the same\n"
   ]
  },
  {
   "cell_type": "code",
   "execution_count": 22,
   "metadata": {
    "collapsed": false
   },
   "outputs": [
    {
     "name": "stdout",
     "output_type": "stream",
     "text": [
      "[[ 2  1  0]\n",
      " [-1  2  3]]\n",
      "[[ 0 -2]\n",
      " [ 1  2]\n",
      " [ 1  1]]\n",
      "[[ 1 -2]\n",
      " [ 5  9]]\n",
      "[[ 1 -2]\n",
      " [ 5  9]]\n"
     ]
    }
   ],
   "source": [
    "X = np.array([[2,1,0],[-1,2,3]])\n",
    "print X\n",
    "Y = np.array([[0,-2],[1,2],[1,1]])\n",
    "print Y\n",
    "\n",
    "# Matrix multiply with dot operator\n",
    "print np.dot(X,Y)\n",
    "print X.dot(Y)"
   ]
  },
  {
   "cell_type": "code",
   "execution_count": 23,
   "metadata": {
    "collapsed": false
   },
   "outputs": [
    {
     "name": "stdout",
     "output_type": "stream",
     "text": [
      "[[ 2  1  0]\n",
      " [-1  2  3]]\n",
      "[[ 0  1  1]\n",
      " [-2  2  1]]\n",
      "[[0 1 0]\n",
      " [2 4 3]]\n"
     ]
    }
   ],
   "source": [
    "# Regular multiply operator is just element-wise multiplication\n",
    "print X\n",
    "print Y.transpose()\n",
    "print X*Y.transpose()"
   ]
  },
  {
   "cell_type": "markdown",
   "metadata": {
    "collapsed": false
   },
   "source": [
    "### Additional Properties of Matrices\n",
    "1. If $X$ and $Y$ are both $n \\times p$ matrices,\n",
    "then $$X+Y = Y+X$$\n",
    "2. If $X$, $Y$, and $Z$ are all $n \\times p$ matrices,\n",
    "then $$X+(Y+Z) = (X+Y)+Z$$\n",
    "3. If $X$, $Y$, and $Z$ are all conformable,\n",
    "then $$X(YZ) = (XY)Z$$\n",
    "4. If $X$ is of dimension $n \\times k$ and $Y$ and $Z$ are of dimension $k \\times p$, then $$X(Y+Z) = XY + XZ$$\n",
    "5. If $X$ is of dimension $p \\times n$ and $Y$ and $Z$ are of dimension $k \\times p$, then $$(Y+Z)X = YX + ZX$$\n",
    "6. If $a$ and $b$ are real numbers, and $X$ is an $n \\times p$ matrix,\n",
    "then $$(a+b)X = aX+bX$$\n",
    "7. If $a$ is a real number, and $X$ and $Y$ are both $n \\times p$ matrices,\n",
    "then $$a(X+Y) = aX+aY$$\n",
    "8. If $z$ is a real number, and $X$ and $Y$ are conformable, then\n",
    "$$X(aY) = a(XY)$$"
   ]
  },
  {
   "cell_type": "markdown",
   "metadata": {},
   "source": [
    "### Matrix Transpose\n",
    "\n",
    "The transpose of an $n \\times p$ matrix is a $p \\times n$ matrix with rows and columns interchanged\n",
    "\n",
    "$$\n",
    "X^T =\n",
    "  \\begin{bmatrix}\n",
    "    x_{11} & x_{12} & \\cdots & x_{1n} \\\\\n",
    "    x_{21} & x_{22} & \\cdots & x_{2n} \\\\\n",
    "    \\vdots & \\vdots & \\ddots & \\vdots \\\\\n",
    "    x_{p1} & x_{p2} & \\cdots & x_{pn} \n",
    "  \\end{bmatrix}\n",
    "$$\n",
    "\n"
   ]
  },
  {
   "cell_type": "code",
   "execution_count": 24,
   "metadata": {
    "collapsed": false
   },
   "outputs": [
    {
     "name": "stdout",
     "output_type": "stream",
     "text": [
      "[[ 2  1  0]\n",
      " [-1  2  3]]\n",
      "[[ 2 -1]\n",
      " [ 1  2]\n",
      " [ 0  3]]\n",
      "(3, 2)\n"
     ]
    }
   ],
   "source": [
    "print X\n",
    "X_T = X.transpose()\n",
    "print X_T\n",
    "print X_T.shape"
   ]
  },
  {
   "cell_type": "markdown",
   "metadata": {},
   "source": [
    "### Properties of Transpose\n",
    "1. Let $X$ be an $n \\times p$ matrix and $a$ a real number, then \n",
    "$$(cX)^T = cX^T$$\n",
    "2. Let $X$ and $Y$ be $n \\times p$ matrices, then\n",
    "$$(X \\pm Y)^T = X^T \\pm Y^T$$\n",
    "3. Let $X$ be an $n \\times k$ matrix and $Y$ be a $k \\times p$ matrix, then\n",
    "$$(XY)^T = Y^TX^T$$"
   ]
  },
  {
   "cell_type": "markdown",
   "metadata": {},
   "source": [
    "### Vector in Matrix Form\n",
    "A column vector is a matrix with $n$ rows and 1 column and to differentiate from a standard matrix $X$ of higher dimensions can be denoted as a bold lower case $\\boldsymbol{x}$\n",
    "\n",
    "$$\n",
    "\\boldsymbol{x} =\n",
    "  \\begin{bmatrix}\n",
    "    x_{1}\\\\\n",
    "    x_{2}\\\\\n",
    "    \\vdots\\\\\n",
    "    x_{n}\n",
    "  \\end{bmatrix}\n",
    "$$"
   ]
  },
  {
   "cell_type": "markdown",
   "metadata": {},
   "source": [
    "In numpy, when we enter a vector, it will not normally have the second dimension, so we can reshape it"
   ]
  },
  {
   "cell_type": "code",
   "execution_count": 25,
   "metadata": {
    "collapsed": false
   },
   "outputs": [
    {
     "name": "stdout",
     "output_type": "stream",
     "text": [
      "[1 2 3 4]\n",
      "(4,)\n"
     ]
    }
   ],
   "source": [
    "x = np.array([1,2,3,4])\n",
    "print x\n",
    "print x.shape"
   ]
  },
  {
   "cell_type": "code",
   "execution_count": 26,
   "metadata": {
    "collapsed": false
   },
   "outputs": [
    {
     "name": "stdout",
     "output_type": "stream",
     "text": [
      "[[1]\n",
      " [2]\n",
      " [3]\n",
      " [4]]\n",
      "[[1]\n",
      " [2]\n",
      " [3]\n",
      " [4]]\n",
      "(4, 1)\n",
      "(4, 1)\n"
     ]
    }
   ],
   "source": [
    "y = x.reshape(4,1)\n",
    "z = x[:,np.newaxis]\n",
    "print y\n",
    "print z\n",
    "print y.shape\n",
    "print z.shape"
   ]
  },
  {
   "cell_type": "markdown",
   "metadata": {},
   "source": [
    "and a row vector is generally written as the transpose\n",
    "\n",
    "$$\\boldsymbol{x}^T = [x_1, x_2, \\ldots, x_n]$$"
   ]
  },
  {
   "cell_type": "code",
   "execution_count": 27,
   "metadata": {
    "collapsed": false
   },
   "outputs": [
    {
     "name": "stdout",
     "output_type": "stream",
     "text": [
      "[[1 2 3 4]]\n",
      "(1, 4)\n",
      "[1 2 3 4]\n"
     ]
    }
   ],
   "source": [
    "x_T = y.transpose()\n",
    "print x_T\n",
    "print x_T.shape\n",
    "print x"
   ]
  },
  {
   "cell_type": "markdown",
   "metadata": {},
   "source": [
    "If we have two vectors $\\boldsymbol{x}$ and $\\boldsymbol{y}$ of the same length $(n)$, then the _dot product_ is give by matrix multiplication\n",
    "\n",
    "$$\\boldsymbol{x}^T \\boldsymbol{y} =   \n",
    "    \\begin{bmatrix} x_1& x_2 & \\ldots & x_n \\end{bmatrix}\n",
    "    \\begin{bmatrix}\n",
    "    y_{1}\\\\\n",
    "    y_{2}\\\\\n",
    "    \\vdots\\\\\n",
    "    y_{n}\n",
    "  \\end{bmatrix}  =\n",
    "  x_1y_1 + x_2y_2 + \\cdots + x_ny_n$$"
   ]
  },
  {
   "cell_type": "markdown",
   "metadata": {},
   "source": [
    "## Inverse of a Matrix"
   ]
  },
  {
   "cell_type": "markdown",
   "metadata": {},
   "source": [
    "The inverse of a square $n \\times n$ matrix $X$ is an $n \\times n$ matrix $X^{-1}$ such that \n",
    "\n",
    "$$X^{-1}X = XX^{-1} = I$$\n",
    "\n",
    "Where $I$ is the identity matrix, an $n \\times n$ diagonal matrix with 1's along the diagonal. \n",
    "\n",
    "If such a matrix exists, then $X$ is said to be _invertible_ or _nonsingular_, otherwise $X$ is said to be _noninvertible_ or _singular_."
   ]
  },
  {
   "cell_type": "code",
   "execution_count": 28,
   "metadata": {
    "collapsed": false
   },
   "outputs": [
    {
     "name": "stdout",
     "output_type": "stream",
     "text": [
      "[[ 1.  0.  0.  0.]\n",
      " [ 0.  1.  0.  0.]\n",
      " [ 0.  0.  1.  0.]\n",
      " [ 0.  0.  0.  1.]]\n",
      "[[ -1.85037171e-17  -5.00000000e-01  -5.00000000e-01]\n",
      " [  3.70074342e-17   1.00000000e+00   1.85037171e-17]\n",
      " [  3.33333333e-01  -5.00000000e-01   1.66666667e-01]]\n",
      "[[  1.00000000e+00   0.00000000e+00  -5.55111512e-17]\n",
      " [  0.00000000e+00   1.00000000e+00   1.11022302e-16]\n",
      " [  0.00000000e+00  -2.77555756e-17   1.00000000e+00]]\n"
     ]
    }
   ],
   "source": [
    "print np.identity(4)\n",
    "X = np.array([[1,2,3], [0,1,0], [-2, -1, 0]])\n",
    "Y = np.linalg.inv(X)\n",
    "print Y\n",
    "print Y.dot(X)"
   ]
  },
  {
   "cell_type": "markdown",
   "metadata": {},
   "source": [
    "### Properties of Inverse\n",
    "1. If $X$ is invertible, then $X^{-1}$ is invertible and\n",
    "$$(X^{-1})^{-1} = X$$\n",
    "2. If $X$ and $Y$ are both $n \\times n$ invertible matrices, then $XY$ is invertible and\n",
    "$$(XY)^{-1} = Y^{-1}X^{-1}$$\n",
    "3. If $X$ is invertible, then $X^T$ is invertible and\n",
    "$$(X^T)^{-1} = (X^{-1})^T$$"
   ]
  },
  {
   "cell_type": "markdown",
   "metadata": {},
   "source": [
    "### Orthogonal Matrices\n",
    "\n",
    "Let $X$ be an $n \\times n$ matrix such than $X^TX = I$, then $X$ is said to be orthogonal which implies that $X^T=X^{-1}$"
   ]
  },
  {
   "cell_type": "markdown",
   "metadata": {},
   "source": [
    "This is equivalent to saying that the columns of $X$ are all orthogonal to each other (and have unit length)."
   ]
  },
  {
   "cell_type": "markdown",
   "metadata": {},
   "source": [
    "## Matrix Equations"
   ]
  },
  {
   "cell_type": "markdown",
   "metadata": {},
   "source": [
    "A system of equations of the form:\n",
    "\\begin{align*}\n",
    "    a_{11}x_1 + \\cdots + a_{1n}x_n &= b_1 \\\\\n",
    "    \\vdots \\hspace{1in} \\vdots \\\\\n",
    "    a_{m1}x_1 + \\cdots + a_{mn}x_n &= b_m \n",
    "\\end{align*}\n",
    "can be written as a matrix equation:\n",
    "$$\n",
    "A\\mathbf{x} = \\mathbf{b}\n",
    "$$\n",
    "and hence, has solution\n",
    "$$\n",
    "\\mathbf{x} = A^{-1}\\mathbf{b}\n",
    "$$"
   ]
  },
  {
   "cell_type": "markdown",
   "metadata": {},
   "source": [
    "## Eigenvectors and Eigenvalues"
   ]
  },
  {
   "cell_type": "markdown",
   "metadata": {},
   "source": [
    "Let $A$ be an $n \\times n$ matrix and $\\boldsymbol{x}$ be an $n \\times 1$ nonzero vector. An _eigenvalue_ of $A$ is a number $\\lambda$ such that\n",
    "\n",
    "$$A \\boldsymbol{x} = \\lambda \\boldsymbol{x}$$\n",
    "\n",
    "\n",
    "A vector $\\boldsymbol{x}$ satisfying this equation is called an eigenvector associated with $\\lambda$\n",
    "\n",
    "Eigenvectors and eigenvalues will play a huge roll in matrix methods later in the course (PCA, SVD, NMF)."
   ]
  },
  {
   "cell_type": "code",
   "execution_count": 29,
   "metadata": {
    "collapsed": false
   },
   "outputs": [
    {
     "name": "stdout",
     "output_type": "stream",
     "text": [
      "[ 0.38196601  2.61803399]\n",
      "[[-0.85065081 -0.52573111]\n",
      " [ 0.52573111 -0.85065081]]\n"
     ]
    }
   ],
   "source": [
    "A = np.array([[1, 1], [1, 2]])\n",
    "vals, vecs = np.linalg.eig(A)\n",
    "print vals\n",
    "print vecs"
   ]
  },
  {
   "cell_type": "code",
   "execution_count": 30,
   "metadata": {
    "collapsed": false
   },
   "outputs": [
    {
     "name": "stdout",
     "output_type": "stream",
     "text": [
      "[-0.3249197   0.20081142]\n",
      "[-0.3249197   0.20081142]\n"
     ]
    }
   ],
   "source": [
    "lam = vals[0]\n",
    "vec = vecs[:,0]\n",
    "print A.dot(vec)\n",
    "print lam * vec"
   ]
  }
 ],
 "metadata": {
  "kernelspec": {
   "display_name": "Python 2",
   "language": "python",
   "name": "python2"
  },
  "language_info": {
   "codemirror_mode": {
    "name": "ipython",
    "version": 2
   },
   "file_extension": ".py",
   "mimetype": "text/x-python",
   "name": "python",
   "nbconvert_exporter": "python",
   "pygments_lexer": "ipython2",
   "version": "2.7.11"
  }
 },
 "nbformat": 4,
 "nbformat_minor": 0
}
