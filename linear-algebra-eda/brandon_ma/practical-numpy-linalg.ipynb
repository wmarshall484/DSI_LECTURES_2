{
 "cells": [
  {
   "cell_type": "code",
   "execution_count": 1,
   "metadata": {},
   "outputs": [],
   "source": [
    "import numpy as np\n",
    "from matplotlib import pyplot as plt"
   ]
  },
  {
   "cell_type": "markdown",
   "metadata": {},
   "source": [
    "## Indexing"
   ]
  },
  {
   "cell_type": "code",
   "execution_count": 2,
   "metadata": {},
   "outputs": [
    {
     "data": {
      "text/plain": [
       "array([ 1,  2,  3,  4,  5,  6,  7,  8,  9, 10, 11, 12, 13, 14, 15, 16])"
      ]
     },
     "execution_count": 2,
     "metadata": {},
     "output_type": "execute_result"
    }
   ],
   "source": [
    "# an array for the following examples\n",
    "ary = np.array(range(1,17))\n",
    "ary"
   ]
  },
  {
   "cell_type": "markdown",
   "metadata": {},
   "source": [
    "## Single-dimensional arrays"
   ]
  },
  {
   "cell_type": "markdown",
   "metadata": {},
   "source": [
    "By now you're familiar with the basic syntax for indexing an array."
   ]
  },
  {
   "cell_type": "code",
   "execution_count": 3,
   "metadata": {},
   "outputs": [
    {
     "data": {
      "text/plain": [
       "6"
      ]
     },
     "execution_count": 3,
     "metadata": {},
     "output_type": "execute_result"
    }
   ],
   "source": [
    "ary[5] #the 6th item"
   ]
  },
  {
   "cell_type": "markdown",
   "metadata": {},
   "source": [
    "Numpy offers a powerful extension to indexing. The two extensions are **slicing** and **advanced indexing**."
   ]
  },
  {
   "cell_type": "markdown",
   "metadata": {},
   "source": [
    "### Advanced indexing\n",
    "\n",
    "This tutorial focuses on the other kind of indexing, but we'll touch on **advanced indexing** briefly. There are two kinds of advanced indexing: **integer** and **boolean**.\n",
    "\n",
    "#### Integer indexing\n",
    "\n",
    "With integer advanced indexing, the array is accessed by a sequence of locations:"
   ]
  },
  {
   "cell_type": "code",
   "execution_count": 4,
   "metadata": {},
   "outputs": [
    {
     "data": {
      "text/plain": [
       "array([ 4,  6,  8, 10])"
      ]
     },
     "execution_count": 4,
     "metadata": {},
     "output_type": "execute_result"
    }
   ],
   "source": [
    "ary[ [3, 5, 7, 9] ]"
   ]
  },
  {
   "cell_type": "markdown",
   "metadata": {},
   "source": [
    "#### Boolean indexing\n",
    "\n",
    "With boolean advanced indexing, the array is accessed by the `True` values in an array of equal length"
   ]
  },
  {
   "cell_type": "code",
   "execution_count": 5,
   "metadata": {},
   "outputs": [
    {
     "data": {
      "text/plain": [
       "array([False,  True, False,  True, False,  True, False,  True, False,\n",
       "        True, False,  True, False,  True, False,  True])"
      ]
     },
     "execution_count": 5,
     "metadata": {},
     "output_type": "execute_result"
    }
   ],
   "source": [
    "bool_index = (ary%2==0)\n",
    "bool_index"
   ]
  },
  {
   "cell_type": "code",
   "execution_count": 6,
   "metadata": {},
   "outputs": [
    {
     "data": {
      "text/plain": [
       "array([ 2,  4,  6,  8, 10, 12, 14, 16])"
      ]
     },
     "execution_count": 6,
     "metadata": {},
     "output_type": "execute_result"
    }
   ],
   "source": [
    "ary[ bool_index ]"
   ]
  },
  {
   "cell_type": "markdown",
   "metadata": {},
   "source": [
    "### Slice Indexing"
   ]
  },
  {
   "cell_type": "markdown",
   "metadata": {},
   "source": [
    "With **slice indexing**, an array is accessed by a **slice object**. A slice object is a simple object that specifies three values: a start point, an end point, and a step. The `slice` data type is a fundamental data type on Python; a sibling of `int` and `str` and `float` &c."
   ]
  },
  {
   "cell_type": "code",
   "execution_count": 7,
   "metadata": {},
   "outputs": [
    {
     "data": {
      "text/plain": [
       "slice(0, 10, 2)"
      ]
     },
     "execution_count": 7,
     "metadata": {},
     "output_type": "execute_result"
    }
   ],
   "source": [
    "# Here's a slice object, which starts at 0, ends at 10 (exclusive), and steps by 2.\n",
    "a_slice = slice(0, 10, 2)\n",
    "a_slice"
   ]
  },
  {
   "cell_type": "code",
   "execution_count": 8,
   "metadata": {},
   "outputs": [
    {
     "data": {
      "text/plain": [
       "array([1, 3, 5, 7, 9])"
      ]
     },
     "execution_count": 8,
     "metadata": {},
     "output_type": "execute_result"
    }
   ],
   "source": [
    "ary[ a_slice ]"
   ]
  },
  {
   "cell_type": "markdown",
   "metadata": {},
   "source": [
    "The above is equivalent to"
   ]
  },
  {
   "cell_type": "code",
   "execution_count": 9,
   "metadata": {},
   "outputs": [
    {
     "data": {
      "text/plain": [
       "array([1, 3, 5, 7, 9])"
      ]
     },
     "execution_count": 9,
     "metadata": {},
     "output_type": "execute_result"
    }
   ],
   "source": [
    "ary[ [0,2,4,6,8] ]"
   ]
  },
  {
   "cell_type": "markdown",
   "metadata": {},
   "source": [
    "Like other top-level python data types, `slice` has its own literal notation: `<start>:<stop>:<step>`. This slice literal notation is only allowed within the square brackets of subscript notation. The above can be written:"
   ]
  },
  {
   "cell_type": "code",
   "execution_count": 10,
   "metadata": {},
   "outputs": [
    {
     "data": {
      "text/plain": [
       "array([1, 3, 5, 7, 9])"
      ]
     },
     "execution_count": 10,
     "metadata": {},
     "output_type": "execute_result"
    }
   ],
   "source": [
    "ary[ 0:10:2 ]"
   ]
  },
  {
   "cell_type": "markdown",
   "metadata": {},
   "source": [
    "It's important to understand: this is a notational convenience."
   ]
  },
  {
   "cell_type": "code",
   "execution_count": 11,
   "metadata": {},
   "outputs": [
    {
     "name": "stdout",
     "output_type": "stream",
     "text": [
      "[1 3 5 7 9]\n",
      "[1 3 5 7 9]\n"
     ]
    }
   ],
   "source": [
    "print( ary[ 0:10:2 ] )\n",
    "print( ary[ slice(0,10,2) ] )"
   ]
  },
  {
   "cell_type": "markdown",
   "metadata": {},
   "source": [
    "Every value in a slice is optional. When `step` is omitted, a slice can be written `<start>:<stop>`. Here are some things you can express with a slice:\n",
    "\n",
    "* All values"
   ]
  },
  {
   "cell_type": "code",
   "execution_count": 12,
   "metadata": {},
   "outputs": [
    {
     "data": {
      "text/plain": [
       "array([ 1,  2,  3,  4,  5,  6,  7,  8,  9, 10, 11, 12, 13, 14, 15, 16])"
      ]
     },
     "execution_count": 12,
     "metadata": {},
     "output_type": "execute_result"
    }
   ],
   "source": [
    "ary[ : ]"
   ]
  },
  {
   "cell_type": "markdown",
   "metadata": {},
   "source": [
    "* All values \n",
    " * starting with an index\n",
    " * Ending with an index\n",
    " * Between two indices"
   ]
  },
  {
   "cell_type": "code",
   "execution_count": 13,
   "metadata": {},
   "outputs": [
    {
     "data": {
      "text/plain": [
       "array([ 9, 10, 11, 12, 13, 14, 15, 16])"
      ]
     },
     "execution_count": 13,
     "metadata": {},
     "output_type": "execute_result"
    }
   ],
   "source": [
    "# starting with an index\n",
    "ary[ 8: ]"
   ]
  },
  {
   "cell_type": "code",
   "execution_count": 14,
   "metadata": {},
   "outputs": [
    {
     "data": {
      "text/plain": [
       "array([ 1,  2,  3,  4,  5,  6,  7,  8,  9, 10, 11])"
      ]
     },
     "execution_count": 14,
     "metadata": {},
     "output_type": "execute_result"
    }
   ],
   "source": [
    "# ending with an index\n",
    "ary[ :11 ]"
   ]
  },
  {
   "cell_type": "code",
   "execution_count": 15,
   "metadata": {},
   "outputs": [
    {
     "data": {
      "text/plain": [
       "array([ 9, 10, 11])"
      ]
     },
     "execution_count": 15,
     "metadata": {},
     "output_type": "execute_result"
    }
   ],
   "source": [
    "# between two indices\n",
    "ary[ 8:11 ]"
   ]
  },
  {
   "cell_type": "code",
   "execution_count": 16,
   "metadata": {},
   "outputs": [
    {
     "data": {
      "text/plain": [
       "array([12, 11, 10])"
      ]
     },
     "execution_count": 16,
     "metadata": {},
     "output_type": "execute_result"
    }
   ],
   "source": [
    "#between two indices in reverse\n",
    "ary[ 11:8:-1 ]"
   ]
  },
  {
   "cell_type": "markdown",
   "metadata": {},
   "source": [
    "* The entire array, but every other item"
   ]
  },
  {
   "cell_type": "code",
   "execution_count": 17,
   "metadata": {},
   "outputs": [
    {
     "data": {
      "text/plain": [
       "array([ 1,  3,  5,  7,  9, 11, 13, 15])"
      ]
     },
     "execution_count": 17,
     "metadata": {},
     "output_type": "execute_result"
    }
   ],
   "source": [
    "ary[ ::2 ]"
   ]
  },
  {
   "cell_type": "markdown",
   "metadata": {},
   "source": [
    "* The entire array, in reverse."
   ]
  },
  {
   "cell_type": "code",
   "execution_count": 18,
   "metadata": {},
   "outputs": [
    {
     "data": {
      "text/plain": [
       "array([16, 15, 14, 13, 12, 11, 10,  9,  8,  7,  6,  5,  4,  3,  2,  1])"
      ]
     },
     "execution_count": 18,
     "metadata": {},
     "output_type": "execute_result"
    }
   ],
   "source": [
    "ary[ ::-1 ]"
   ]
  },
  {
   "cell_type": "markdown",
   "metadata": {},
   "source": [
    "### Assignment with slicing\n",
    "\n",
    "Using a slice as a index returns a **view** of the original array, which you can use to assign to the original array. "
   ]
  },
  {
   "cell_type": "code",
   "execution_count": 19,
   "metadata": {},
   "outputs": [
    {
     "data": {
      "text/plain": [
       "array([ 1,  2,  3,  4,  5,  6,  7,  8,  9, 10, 11, 12, 13, 14, 15, 16])"
      ]
     },
     "execution_count": 19,
     "metadata": {},
     "output_type": "execute_result"
    }
   ],
   "source": [
    "ary"
   ]
  },
  {
   "cell_type": "code",
   "execution_count": 20,
   "metadata": {},
   "outputs": [],
   "source": [
    "ary[ 6:12 ] = [34,35,36,37,38,39]"
   ]
  },
  {
   "cell_type": "code",
   "execution_count": 21,
   "metadata": {},
   "outputs": [
    {
     "data": {
      "text/plain": [
       "array([ 1,  2,  3,  4,  5,  6, 34, 35, 36, 37, 38, 39, 13, 14, 15, 16])"
      ]
     },
     "execution_count": 21,
     "metadata": {},
     "output_type": "execute_result"
    }
   ],
   "source": [
    "ary"
   ]
  },
  {
   "cell_type": "markdown",
   "metadata": {},
   "source": [
    "## Two-Dimensional Arrays (aka Matrices)"
   ]
  },
  {
   "cell_type": "markdown",
   "metadata": {},
   "source": [
    "With a two-dimensional array, each item has not just one index, but two. Traditionally, the first index is thought of as the item's `row`, and the second as its `column`. This is a semantic crutch, of course; the math doesn't really care how you think about it geometrically. Here's an example of a two-dimensional array:"
   ]
  },
  {
   "cell_type": "markdown",
   "metadata": {},
   "source": [
    "### `matrix` vs `vector` vs `array`\n",
    "\n",
    "`numpy` doesn't distinguish between vectors and matrices, they're all just array objects of different shapes.\n",
    "\n",
    "> **Side note**: `numpy` does have a `matrix` class. It's depricated!\n",
    "\n",
    "For example, a vector is a single-dimensional array. A vector **does not have a second dimension**.\n"
   ]
  },
  {
   "cell_type": "code",
   "execution_count": 64,
   "metadata": {},
   "outputs": [
    {
     "name": "stdout",
     "output_type": "stream",
     "text": [
      "our vector [1 2 3 4 5]\n",
      "this is what kind of thing it is: <class 'numpy.ndarray'>\n",
      "this is it's shape: (5,)\n"
     ]
    }
   ],
   "source": [
    "v = np.array([1,2,3,4,5])\n",
    "print( \"our vector\", v )\n",
    "print( \"this is what kind of thing it is:\", type(v))\n",
    "print( \"this is it's shape:\", v.shape)"
   ]
  },
  {
   "cell_type": "markdown",
   "metadata": {},
   "source": [
    "A `row vector` refers to a matrix with a single row. Use `reshape` to convert between different shapes."
   ]
  },
  {
   "cell_type": "code",
   "execution_count": 76,
   "metadata": {},
   "outputs": [
    {
     "data": {
      "text/plain": [
       "array([[1, 2, 3, 4, 5]])"
      ]
     },
     "execution_count": 76,
     "metadata": {},
     "output_type": "execute_result"
    }
   ],
   "source": [
    "# convert vector to matrix with 1 row and 5 columns\n",
    "v.reshape(1,5)"
   ]
  },
  {
   "cell_type": "markdown",
   "metadata": {},
   "source": [
    "If one dimension of a reshaped matrix would be fully specified by the other dimensions, supply `-1` to reshape to have the size of that dimension specified by the others. This is a common numpy idiom for changing the dimensionality of an array."
   ]
  },
  {
   "cell_type": "code",
   "execution_count": 79,
   "metadata": {},
   "outputs": [
    {
     "data": {
      "text/plain": [
       "array([[1, 2, 3, 4, 5]])"
      ]
     },
     "execution_count": 79,
     "metadata": {},
     "output_type": "execute_result"
    }
   ],
   "source": [
    "# if there is 1 row, there must be 5 columns; let numpy figure that out for us\n",
    "v.reshape(1,-1)"
   ]
  },
  {
   "cell_type": "markdown",
   "metadata": {},
   "source": [
    "Along similar lines, we can specify a `column vector`: a 2d matrix with only 1 column."
   ]
  },
  {
   "cell_type": "code",
   "execution_count": 80,
   "metadata": {},
   "outputs": [
    {
     "data": {
      "text/plain": [
       "array([[1],\n",
       "       [2],\n",
       "       [3],\n",
       "       [4],\n",
       "       [5]])"
      ]
     },
     "execution_count": 80,
     "metadata": {},
     "output_type": "execute_result"
    }
   ],
   "source": [
    "v.reshape(-1,1)"
   ]
  },
  {
   "cell_type": "markdown",
   "metadata": {},
   "source": [
    "We can also stack vectors into a matrix:"
   ]
  },
  {
   "cell_type": "code",
   "execution_count": 123,
   "metadata": {},
   "outputs": [
    {
     "data": {
      "text/plain": [
       "array([[1, 2, 3, 4, 5],\n",
       "       [1, 2, 3, 4, 5],\n",
       "       [1, 2, 3, 4, 5]])"
      ]
     },
     "execution_count": 123,
     "metadata": {},
     "output_type": "execute_result"
    }
   ],
   "source": [
    "# use \"stack\"\n",
    "np.stack( (v,v,v) )"
   ]
  },
  {
   "cell_type": "code",
   "execution_count": 124,
   "metadata": {},
   "outputs": [
    {
     "data": {
      "text/plain": [
       "array([[1, 2, 3, 4, 5],\n",
       "       [1, 2, 3, 4, 5],\n",
       "       [1, 2, 3, 4, 5]])"
      ]
     },
     "execution_count": 124,
     "metadata": {},
     "output_type": "execute_result"
    }
   ],
   "source": [
    "# same thing, using \"broadcast_to\"\n",
    "np.broadcast_to( v, (3,len(v)) )"
   ]
  },
  {
   "cell_type": "markdown",
   "metadata": {},
   "source": [
    "## Accessing a 2d array"
   ]
  },
  {
   "cell_type": "code",
   "execution_count": 125,
   "metadata": {},
   "outputs": [
    {
     "data": {
      "text/plain": [
       "array([[0.   , 0.   , 0.   , 0.   , 0.   , 0.   , 0.   , 0.   , 0.   ,\n",
       "        0.   , 0.   , 0.   , 0.   , 0.186, 0.186, 0.186],\n",
       "       [0.   , 0.   , 0.   , 0.   , 0.   , 0.   , 0.608, 0.608, 0.608,\n",
       "        0.608, 0.608, 0.   , 0.   , 0.186, 0.186, 0.186],\n",
       "       [0.   , 0.   , 0.   , 0.   , 0.   , 0.619, 0.619, 0.619, 0.619,\n",
       "        0.619, 0.619, 0.619, 0.619, 0.619, 0.186, 0.186],\n",
       "       [0.   , 0.   , 0.   , 0.   , 0.   , 0.57 , 0.57 , 0.57 , 0.186,\n",
       "        0.186, 0.57 , 0.186, 0.   , 0.57 , 0.57 , 0.57 ],\n",
       "       [0.   , 0.   , 0.   , 0.   , 0.57 , 0.186, 0.57 , 0.186, 0.186,\n",
       "        0.186, 0.57 , 0.186, 0.186, 0.186, 0.57 , 0.57 ],\n",
       "       [0.   , 0.   , 0.   , 0.   , 0.57 , 0.186, 0.57 , 0.57 , 0.186,\n",
       "        0.186, 0.186, 0.57 , 0.186, 0.186, 0.186, 0.57 ],\n",
       "       [0.   , 0.   , 0.   , 0.   , 0.57 , 0.57 , 0.186, 0.186, 0.186,\n",
       "        0.186, 0.57 , 0.57 , 0.57 , 0.57 , 0.57 , 0.   ],\n",
       "       [0.   , 0.   , 0.   , 0.   , 0.   , 0.   , 0.186, 0.186, 0.186,\n",
       "        0.186, 0.186, 0.186, 0.186, 0.57 , 0.   , 0.   ],\n",
       "       [0.   , 0.   , 0.57 , 0.57 , 0.57 , 0.57 , 0.57 , 0.619, 0.57 ,\n",
       "        0.57 , 0.57 , 0.619, 0.57 , 0.   , 0.   , 0.   ],\n",
       "       [0.   , 0.558, 0.57 , 0.57 , 0.57 , 0.57 , 0.57 , 0.57 , 0.619,\n",
       "        0.57 , 0.57 , 0.57 , 0.619, 0.   , 0.   , 0.57 ],\n",
       "       [0.186, 0.186, 0.57 , 0.57 , 0.57 , 0.57 , 0.57 , 0.57 , 0.619,\n",
       "        0.619, 0.619, 0.619, 0.619, 0.   , 0.   , 0.57 ],\n",
       "       [0.186, 0.186, 0.186, 0.004, 0.   , 0.619, 0.57 , 0.619, 0.619,\n",
       "        0.619, 0.186, 0.619, 0.186, 0.619, 0.57 , 0.57 ],\n",
       "       [0.   , 0.18 , 0.   , 0.57 , 0.   , 0.619, 0.619, 0.619, 0.619,\n",
       "        0.619, 0.619, 0.619, 0.619, 0.619, 0.57 , 0.57 ],\n",
       "       [0.   , 0.   , 0.57 , 0.57 , 0.57 , 0.619, 0.619, 0.619, 0.619,\n",
       "        0.619, 0.619, 0.619, 0.619, 0.619, 0.57 , 0.57 ],\n",
       "       [0.   , 0.558, 0.57 , 0.57 , 0.619, 0.619, 0.619, 0.619, 0.619,\n",
       "        0.619, 0.619, 0.   , 0.   , 0.   , 0.   , 0.   ],\n",
       "       [0.   , 0.558, 0.004, 0.   , 0.619, 0.619, 0.619, 0.619, 0.   ,\n",
       "        0.   , 0.   , 0.   , 0.   , 0.   , 0.   , 0.   ]])"
      ]
     },
     "execution_count": 125,
     "metadata": {},
     "output_type": "execute_result"
    }
   ],
   "source": [
    "A = np.load(\"data/spritebw.npy\")\n",
    "A"
   ]
  },
  {
   "cell_type": "markdown",
   "metadata": {},
   "source": [
    "When dealing with matrices it can be useful to visualize them as an image. The default behavior of `plt.imshow` is to draw each row in the matrix as a row of pixels, with the 0th row as the top row."
   ]
  },
  {
   "cell_type": "code",
   "execution_count": 126,
   "metadata": {},
   "outputs": [
    {
     "data": {
      "text/plain": [
       "<matplotlib.image.AxesImage at 0x119d9ec18>"
      ]
     },
     "execution_count": 126,
     "metadata": {},
     "output_type": "execute_result"
    },
    {
     "data": {
      "image/png": "[encoded data removed]",
      "text/plain": [
       "<Figure size 432x288 with 1 Axes>"
      ]
     },
     "metadata": {},
     "output_type": "display_data"
    }
   ],
   "source": [
    "fig, ax = plt.subplots()\n",
    "ax.imshow( A, cmap=\"Greys\" )"
   ]
  },
  {
   "cell_type": "markdown",
   "metadata": {},
   "source": [
    "Whereas with a one-dimensional array we index one dimension, with a two-dimensional array we use two indices:"
   ]
  },
  {
   "cell_type": "code",
   "execution_count": 127,
   "metadata": {},
   "outputs": [
    {
     "data": {
      "text/plain": [
       "0.57"
      ]
     },
     "execution_count": 127,
     "metadata": {},
     "output_type": "execute_result"
    }
   ],
   "source": [
    "A[ 8,8 ]"
   ]
  },
  {
   "cell_type": "markdown",
   "metadata": {},
   "source": [
    "Obvious enough. But like a one-dimensional array, we can use slices:"
   ]
  },
  {
   "cell_type": "code",
   "execution_count": 128,
   "metadata": {},
   "outputs": [
    {
     "data": {
      "text/plain": [
       "array([0.   , 0.   , 0.   , 0.   , 0.   , 0.   , 0.   , 0.   , 0.   ,\n",
       "       0.   , 0.   , 0.   , 0.   , 0.186, 0.186, 0.186])"
      ]
     },
     "execution_count": 128,
     "metadata": {},
     "output_type": "execute_result"
    }
   ],
   "source": [
    "# get all items with i=0; j=all values\n",
    "# which is to say, the first row\n",
    "i = 0\n",
    "j = slice(None,None)\n",
    "A[ i, j ]"
   ]
  },
  {
   "cell_type": "markdown",
   "metadata": {},
   "source": [
    "The same thing, in more compact form:"
   ]
  },
  {
   "cell_type": "code",
   "execution_count": 129,
   "metadata": {},
   "outputs": [
    {
     "data": {
      "text/plain": [
       "array([0.   , 0.   , 0.   , 0.   , 0.   , 0.   , 0.   , 0.   , 0.   ,\n",
       "       0.   , 0.   , 0.   , 0.   , 0.186, 0.186, 0.186])"
      ]
     },
     "execution_count": 129,
     "metadata": {},
     "output_type": "execute_result"
    }
   ],
   "source": [
    "# the first row\n",
    "A[ 0, :: ]"
   ]
  },
  {
   "cell_type": "code",
   "execution_count": 130,
   "metadata": {},
   "outputs": [
    {
     "data": {
      "text/plain": [
       "array([[0.   , 0.   , 0.   , 0.   , 0.   , 0.   , 0.   , 0.   , 0.   ,\n",
       "        0.   , 0.   , 0.   , 0.   , 0.186, 0.186, 0.186],\n",
       "       [0.   , 0.   , 0.   , 0.   , 0.   , 0.   , 0.608, 0.608, 0.608,\n",
       "        0.608, 0.608, 0.   , 0.   , 0.186, 0.186, 0.186],\n",
       "       [0.   , 0.   , 0.   , 0.   , 0.   , 0.619, 0.619, 0.619, 0.619,\n",
       "        0.619, 0.619, 0.619, 0.619, 0.619, 0.186, 0.186],\n",
       "       [0.   , 0.   , 0.   , 0.   , 0.   , 0.57 , 0.57 , 0.57 , 0.186,\n",
       "        0.186, 0.57 , 0.186, 0.   , 0.57 , 0.57 , 0.57 ],\n",
       "       [0.   , 0.   , 0.   , 0.   , 0.57 , 0.186, 0.57 , 0.186, 0.186,\n",
       "        0.186, 0.57 , 0.186, 0.186, 0.186, 0.57 , 0.57 ]])"
      ]
     },
     "execution_count": 130,
     "metadata": {},
     "output_type": "execute_result"
    }
   ],
   "source": [
    "# the first five rows\n",
    "A[ 0:5, :: ]"
   ]
  },
  {
   "cell_type": "code",
   "execution_count": 131,
   "metadata": {},
   "outputs": [
    {
     "data": {
      "text/plain": [
       "<matplotlib.image.AxesImage at 0x119f97128>"
      ]
     },
     "execution_count": 131,
     "metadata": {},
     "output_type": "execute_result"
    },
    {
     "data": {
      "image/png": "[encoded data removed]",
      "text/plain": [
       "<Figure size 432x288 with 1 Axes>"
      ]
     },
     "metadata": {},
     "output_type": "display_data"
    }
   ],
   "source": [
    "#visualize the first five rows\n",
    "\n",
    "fig, ax = plt.subplots()\n",
    "B = A[ 0:5, :: ]\n",
    "ax.imshow( B, cmap=\"Greys\" )"
   ]
  },
  {
   "cell_type": "code",
   "execution_count": 132,
   "metadata": {},
   "outputs": [
    {
     "data": {
      "text/plain": [
       "<matplotlib.image.AxesImage at 0x119ff0080>"
      ]
     },
     "execution_count": 132,
     "metadata": {},
     "output_type": "execute_result"
    },
    {
     "data": {
      "image/png": "[encoded data removed]",
      "text/plain": [
       "<Figure size 432x288 with 1 Axes>"
      ]
     },
     "metadata": {},
     "output_type": "display_data"
    }
   ],
   "source": [
    "# the middle 5 columns\n",
    "\n",
    "fig, ax = plt.subplots()\n",
    "B = A[ ::, 10:15 ]\n",
    "ax.imshow( B, cmap=\"Greys\" )"
   ]
  },
  {
   "cell_type": "code",
   "execution_count": 133,
   "metadata": {},
   "outputs": [
    {
     "data": {
      "text/plain": [
       "<matplotlib.image.AxesImage at 0x11a03e6d8>"
      ]
     },
     "execution_count": 133,
     "metadata": {},
     "output_type": "execute_result"
    },
    {
     "data": {
      "image/png": "[encoded data removed]",
      "text/plain": [
       "<Figure size 432x288 with 1 Axes>"
      ]
     },
     "metadata": {},
     "output_type": "display_data"
    }
   ],
   "source": [
    "# A slice from the middle of a matrix\n",
    "\n",
    "fig, ax = plt.subplots()\n",
    "B = A[ 8:16, 10:15 ]\n",
    "ax.imshow( B, cmap=\"Greys\" )"
   ]
  },
  {
   "cell_type": "code",
   "execution_count": 134,
   "metadata": {},
   "outputs": [
    {
     "data": {
      "text/plain": [
       "<matplotlib.image.AxesImage at 0x11a08fdd8>"
      ]
     },
     "execution_count": 134,
     "metadata": {},
     "output_type": "execute_result"
    },
    {
     "data": {
      "image/png": "[encoded data removed]",
      "text/plain": [
       "<Figure size 432x288 with 1 Axes>"
      ]
     },
     "metadata": {},
     "output_type": "display_data"
    }
   ],
   "source": [
    "# Every other row:\n",
    "\n",
    "fig, ax = plt.subplots()\n",
    "B = A[ ::2, :: ]\n",
    "ax.imshow( B, cmap=\"Greys\" )"
   ]
  },
  {
   "cell_type": "code",
   "execution_count": 135,
   "metadata": {},
   "outputs": [
    {
     "data": {
      "text/plain": [
       "<matplotlib.image.AxesImage at 0x11a2a6da0>"
      ]
     },
     "execution_count": 135,
     "metadata": {},
     "output_type": "execute_result"
    },
    {
     "data": {
      "image/png": "[encoded data removed]",
      "text/plain": [
       "<Figure size 432x288 with 1 Axes>"
      ]
     },
     "metadata": {},
     "output_type": "display_data"
    }
   ],
   "source": [
    "# Index one of the dimensions in reverse order:\n",
    "\n",
    "fig, ax = plt.subplots()\n",
    "B = A[ ::, ::-1 ]\n",
    "ax.imshow( B, cmap=\"Greys\" )"
   ]
  },
  {
   "cell_type": "markdown",
   "metadata": {},
   "source": [
    "## 3-dimensional matrices"
   ]
  },
  {
   "cell_type": "markdown",
   "metadata": {},
   "source": [
    "Why stop at 2 dimensions? Here's a 3-dimensional matrix."
   ]
  },
  {
   "cell_type": "code",
   "execution_count": 33,
   "metadata": {},
   "outputs": [
    {
     "data": {
      "text/plain": [
       "array([[[255, 255, 255],\n",
       "        [255, 255, 255],\n",
       "        [255, 255, 255],\n",
       "        [255, 255, 255],\n",
       "        [255, 255, 255],\n",
       "        [255, 255, 255],\n",
       "        [255, 255, 255],\n",
       "        [255, 255, 255],\n",
       "        [255, 255, 255],\n",
       "        [255, 255, 255],\n",
       "        [255, 255, 255],\n",
       "        [255, 255, 255],\n",
       "        [255, 255, 255],\n",
       "        [255, 204, 103],\n",
       "        [255, 204, 103],\n",
       "        [255, 204, 103]],\n",
       "\n",
       "       [[255, 255, 255],\n",
       "        [255, 255, 255],\n",
       "        [255, 255, 255],\n",
       "        [255, 255, 255],\n",
       "        [255, 255, 255],\n",
       "        [255, 255, 255],\n",
       "        [238,  63,  60],\n",
       "        [238,  63,  60],\n",
       "        [238,  63,  60],\n",
       "        [238,  63,  60],\n",
       "        [238,  63,  60],\n",
       "        [255, 255, 255],\n",
       "        [255, 255, 255],\n",
       "        [255, 204, 103],\n",
       "        [255, 204, 103],\n",
       "        [255, 204, 103]],\n",
       "\n",
       "       [[255, 255, 255],\n",
       "        [255, 255, 255],\n",
       "        [255, 255, 255],\n",
       "        [255, 255, 255],\n",
       "        [255, 255, 255],\n",
       "        [239,  59,  58],\n",
       "        [239,  59,  58],\n",
       "        [239,  59,  58],\n",
       "        [239,  59,  58],\n",
       "        [239,  59,  58],\n",
       "        [239,  59,  58],\n",
       "        [239,  59,  58],\n",
       "        [239,  59,  58],\n",
       "        [239,  59,  58],\n",
       "        [255, 204, 103],\n",
       "        [255, 204, 103]],\n",
       "\n",
       "       [[255, 255, 255],\n",
       "        [255, 255, 255],\n",
       "        [255, 255, 255],\n",
       "        [255, 255, 255],\n",
       "        [255, 255, 255],\n",
       "        [152, 104,  40],\n",
       "        [152, 104,  40],\n",
       "        [152, 104,  40],\n",
       "        [255, 204, 103],\n",
       "        [255, 204, 103],\n",
       "        [152, 104,  40],\n",
       "        [255, 204, 103],\n",
       "        [255, 255, 255],\n",
       "        [152, 104,  40],\n",
       "        [152, 104,  40],\n",
       "        [152, 104,  40]],\n",
       "\n",
       "       [[255, 255, 255],\n",
       "        [255, 255, 255],\n",
       "        [255, 255, 255],\n",
       "        [255, 255, 255],\n",
       "        [152, 104,  40],\n",
       "        [255, 204, 103],\n",
       "        [152, 104,  40],\n",
       "        [255, 204, 103],\n",
       "        [255, 204, 103],\n",
       "        [255, 204, 103],\n",
       "        [152, 104,  40],\n",
       "        [255, 204, 103],\n",
       "        [255, 204, 103],\n",
       "        [255, 204, 103],\n",
       "        [152, 104,  40],\n",
       "        [152, 104,  40]],\n",
       "\n",
       "       [[255, 255, 255],\n",
       "        [255, 255, 255],\n",
       "        [255, 255, 255],\n",
       "        [255, 255, 255],\n",
       "        [152, 104,  40],\n",
       "        [255, 204, 103],\n",
       "        [152, 104,  40],\n",
       "        [152, 104,  40],\n",
       "        [255, 204, 103],\n",
       "        [255, 204, 103],\n",
       "        [255, 204, 103],\n",
       "        [152, 104,  40],\n",
       "        [255, 204, 103],\n",
       "        [255, 204, 103],\n",
       "        [255, 204, 103],\n",
       "        [152, 104,  40]],\n",
       "\n",
       "       [[255, 255, 255],\n",
       "        [255, 255, 255],\n",
       "        [255, 255, 255],\n",
       "        [255, 255, 255],\n",
       "        [152, 104,  40],\n",
       "        [152, 104,  40],\n",
       "        [255, 204, 103],\n",
       "        [255, 204, 103],\n",
       "        [255, 204, 103],\n",
       "        [255, 204, 103],\n",
       "        [152, 104,  40],\n",
       "        [152, 104,  40],\n",
       "        [152, 104,  40],\n",
       "        [152, 104,  40],\n",
       "        [152, 104,  40],\n",
       "        [255, 255, 255]],\n",
       "\n",
       "       [[255, 255, 255],\n",
       "        [255, 255, 255],\n",
       "        [255, 255, 255],\n",
       "        [255, 255, 255],\n",
       "        [255, 255, 255],\n",
       "        [255, 255, 255],\n",
       "        [255, 204, 103],\n",
       "        [255, 204, 103],\n",
       "        [255, 204, 103],\n",
       "        [255, 204, 103],\n",
       "        [255, 204, 103],\n",
       "        [255, 204, 103],\n",
       "        [255, 204, 103],\n",
       "        [152, 104,  40],\n",
       "        [255, 255, 255],\n",
       "        [255, 255, 255]],\n",
       "\n",
       "       [[255, 255, 255],\n",
       "        [255, 255, 255],\n",
       "        [152, 104,  40],\n",
       "        [152, 104,  40],\n",
       "        [152, 104,  40],\n",
       "        [152, 104,  40],\n",
       "        [152, 104,  40],\n",
       "        [239,  59,  58],\n",
       "        [152, 104,  40],\n",
       "        [152, 104,  40],\n",
       "        [152, 104,  40],\n",
       "        [239,  59,  58],\n",
       "        [152, 104,  40],\n",
       "        [255, 255, 255],\n",
       "        [255, 255, 255],\n",
       "        [255, 255, 255]],\n",
       "\n",
       "       [[255, 255, 255],\n",
       "        [155, 107,  43],\n",
       "        [152, 104,  40],\n",
       "        [152, 104,  40],\n",
       "        [152, 104,  40],\n",
       "        [152, 104,  40],\n",
       "        [152, 104,  40],\n",
       "        [152, 104,  40],\n",
       "        [239,  59,  58],\n",
       "        [152, 104,  40],\n",
       "        [152, 104,  40],\n",
       "        [152, 104,  40],\n",
       "        [239,  59,  58],\n",
       "        [255, 255, 255],\n",
       "        [255, 255, 255],\n",
       "        [152, 104,  40]],\n",
       "\n",
       "       [[255, 204, 103],\n",
       "        [255, 204, 103],\n",
       "        [152, 104,  40],\n",
       "        [152, 104,  40],\n",
       "        [152, 104,  40],\n",
       "        [152, 104,  40],\n",
       "        [152, 104,  40],\n",
       "        [152, 104,  40],\n",
       "        [239,  59,  58],\n",
       "        [239,  59,  58],\n",
       "        [239,  59,  58],\n",
       "        [239,  59,  58],\n",
       "        [239,  59,  58],\n",
       "        [255, 255, 255],\n",
       "        [255, 255, 255],\n",
       "        [152, 104,  40]],\n",
       "\n",
       "       [[255, 204, 103],\n",
       "        [255, 204, 103],\n",
       "        [255, 204, 103],\n",
       "        [254, 254, 254],\n",
       "        [255, 255, 255],\n",
       "        [239,  59,  58],\n",
       "        [152, 104,  40],\n",
       "        [239,  59,  58],\n",
       "        [239,  59,  58],\n",
       "        [239,  59,  58],\n",
       "        [255, 204, 103],\n",
       "        [239,  59,  58],\n",
       "        [255, 204, 103],\n",
       "        [239,  59,  58],\n",
       "        [152, 104,  40],\n",
       "        [152, 104,  40]],\n",
       "\n",
       "       [[255, 255, 255],\n",
       "        [254, 206, 108],\n",
       "        [255, 255, 255],\n",
       "        [152, 104,  40],\n",
       "        [255, 255, 255],\n",
       "        [239,  59,  58],\n",
       "        [239,  59,  58],\n",
       "        [239,  59,  58],\n",
       "        [239,  59,  58],\n",
       "        [239,  59,  58],\n",
       "        [239,  59,  58],\n",
       "        [239,  59,  58],\n",
       "        [239,  59,  58],\n",
       "        [239,  59,  58],\n",
       "        [152, 104,  40],\n",
       "        [152, 104,  40]],\n",
       "\n",
       "       [[255, 255, 255],\n",
       "        [255, 255, 255],\n",
       "        [152, 104,  40],\n",
       "        [152, 104,  40],\n",
       "        [152, 104,  40],\n",
       "        [239,  59,  58],\n",
       "        [239,  59,  58],\n",
       "        [239,  59,  58],\n",
       "        [239,  59,  58],\n",
       "        [239,  59,  58],\n",
       "        [239,  59,  58],\n",
       "        [239,  59,  58],\n",
       "        [239,  59,  58],\n",
       "        [239,  59,  58],\n",
       "        [152, 104,  40],\n",
       "        [152, 104,  40]],\n",
       "\n",
       "       [[255, 255, 255],\n",
       "        [155, 107,  43],\n",
       "        [152, 104,  40],\n",
       "        [152, 104,  40],\n",
       "        [239,  59,  58],\n",
       "        [239,  59,  58],\n",
       "        [239,  59,  58],\n",
       "        [239,  59,  58],\n",
       "        [239,  59,  58],\n",
       "        [239,  59,  58],\n",
       "        [239,  59,  58],\n",
       "        [255, 255, 255],\n",
       "        [255, 255, 255],\n",
       "        [255, 255, 255],\n",
       "        [255, 255, 255],\n",
       "        [255, 255, 255]],\n",
       "\n",
       "       [[255, 255, 255],\n",
       "        [155, 107,  43],\n",
       "        [254, 254, 254],\n",
       "        [255, 255, 255],\n",
       "        [239,  59,  58],\n",
       "        [239,  59,  58],\n",
       "        [239,  59,  58],\n",
       "        [239,  59,  58],\n",
       "        [255, 255, 255],\n",
       "        [255, 255, 255],\n",
       "        [255, 255, 255],\n",
       "        [255, 255, 255],\n",
       "        [255, 255, 255],\n",
       "        [255, 255, 255],\n",
       "        [255, 255, 255],\n",
       "        [255, 255, 255]]], dtype=uint8)"
      ]
     },
     "execution_count": 33,
     "metadata": {},
     "output_type": "execute_result"
    }
   ],
   "source": [
    "A = np.load(\"data/sprite.npy\")\n",
    "A"
   ]
  },
  {
   "cell_type": "markdown",
   "metadata": {},
   "source": [
    "As before, an item in the matrix is indexed by a tuple with an item for each dimension."
   ]
  },
  {
   "cell_type": "code",
   "execution_count": 34,
   "metadata": {},
   "outputs": [
    {
     "data": {
      "text/plain": [
       "104"
      ]
     },
     "execution_count": 34,
     "metadata": {},
     "output_type": "execute_result"
    }
   ],
   "source": [
    "index_tuple = (8,8,1)\n",
    "A[index_tuple]"
   ]
  },
  {
   "cell_type": "markdown",
   "metadata": {},
   "source": [
    "As with a two-dimensional array it's helpful to name the dimensions.\n",
    "* 1st dimension: `row`\n",
    "* 2nd dimension: `column`\n",
    "* 3rd dimension: `layer`"
   ]
  },
  {
   "cell_type": "markdown",
   "metadata": {},
   "source": [
    "We can check the size of each dimension:"
   ]
  },
  {
   "cell_type": "code",
   "execution_count": 35,
   "metadata": {},
   "outputs": [
    {
     "data": {
      "text/plain": [
       "(16, 16, 3)"
      ]
     },
     "execution_count": 35,
     "metadata": {},
     "output_type": "execute_result"
    }
   ],
   "source": [
    "A.shape"
   ]
  },
  {
   "cell_type": "markdown",
   "metadata": {},
   "source": [
    "There are 16 rows, 16 columns, and 3 layers. We can look at each layer, again using `imshow`."
   ]
  },
  {
   "cell_type": "code",
   "execution_count": 36,
   "metadata": {},
   "outputs": [
    {
     "data": {
      "text/plain": [
       "<matplotlib.image.AxesImage at 0x118d197b8>"
      ]
     },
     "execution_count": 36,
     "metadata": {},
     "output_type": "execute_result"
    },
    {
     "data": {
      "image/png": "[encoded data removed]",
      "text/plain": [
       "<Figure size 1080x360 with 3 Axes>"
      ]
     },
     "metadata": {},
     "output_type": "display_data"
    }
   ],
   "source": [
    "fig, ax = plt.subplots(1,3, figsize=(15,5))\n",
    "\n",
    "ax[0].imshow( A[ ::, ::, 0 ], cmap=\"Greys\" )\n",
    "ax[1].imshow( A[ ::, ::, 1 ], cmap=\"Greys\" )\n",
    "ax[2].imshow( A[ ::, ::, 2 ], cmap=\"Greys\" )"
   ]
  },
  {
   "cell_type": "markdown",
   "metadata": {},
   "source": [
    "In some cases it may be useful to draw multiple matrix layer at the same time by drawing each matrix layer as a different color:"
   ]
  },
  {
   "cell_type": "code",
   "execution_count": 37,
   "metadata": {},
   "outputs": [
    {
     "data": {
      "text/plain": [
       "<matplotlib.image.AxesImage at 0x118ed5f28>"
      ]
     },
     "execution_count": 37,
     "metadata": {},
     "output_type": "execute_result"
    },
    {
     "data": {
      "image/png": "[encoded data removed]",
      "text/plain": [
       "<Figure size 432x288 with 1 Axes>"
      ]
     },
     "metadata": {},
     "output_type": "display_data"
    }
   ],
   "source": [
    "fig, ax = plt.subplots()\n",
    "ax.imshow( A )"
   ]
  },
  {
   "cell_type": "markdown",
   "metadata": {},
   "source": [
    "All the indexing tricks we've worked so far work exactly the same way."
   ]
  },
  {
   "cell_type": "code",
   "execution_count": 38,
   "metadata": {},
   "outputs": [
    {
     "data": {
      "text/plain": [
       "<matplotlib.image.AxesImage at 0x119069908>"
      ]
     },
     "execution_count": 38,
     "metadata": {},
     "output_type": "execute_result"
    },
    {
     "data": {
      "image/png": "[encoded data removed]",
      "text/plain": [
       "<Figure size 432x288 with 1 Axes>"
      ]
     },
     "metadata": {},
     "output_type": "display_data"
    }
   ],
   "source": [
    "# show only some rows\n",
    "\n",
    "fig, ax = plt.subplots()\n",
    "ax.imshow( A[0:8:, ::, ::] )"
   ]
  },
  {
   "cell_type": "code",
   "execution_count": 39,
   "metadata": {},
   "outputs": [
    {
     "data": {
      "text/plain": [
       "<matplotlib.image.AxesImage at 0x118f6a780>"
      ]
     },
     "execution_count": 39,
     "metadata": {},
     "output_type": "execute_result"
    },
    {
     "data": {
      "image/png": "[encoded data removed]",
      "text/plain": [
       "<Figure size 432x288 with 1 Axes>"
      ]
     },
     "metadata": {},
     "output_type": "display_data"
    }
   ],
   "source": [
    "# show only some columns\n",
    "\n",
    "fig, ax = plt.subplots()\n",
    "ax.imshow( A[::, 6:12, ::] )"
   ]
  },
  {
   "cell_type": "code",
   "execution_count": 48,
   "metadata": {},
   "outputs": [
    {
     "data": {
      "text/plain": [
       "<matplotlib.image.AxesImage at 0x11953a438>"
      ]
     },
     "execution_count": 48,
     "metadata": {},
     "output_type": "execute_result"
    },
    {
     "data": {
      "image/png": "[encoded data removed]",
      "text/plain": [
       "<Figure size 432x288 with 1 Axes>"
      ]
     },
     "metadata": {},
     "output_type": "display_data"
    }
   ],
   "source": [
    "# shuffle the colors (rgb) -> (gbr)\n",
    "\n",
    "fig, ax = plt.subplots()\n",
    "ax.imshow( A[:, :, [1,2,0]] )"
   ]
  },
  {
   "cell_type": "code",
   "execution_count": 40,
   "metadata": {},
   "outputs": [
    {
     "data": {
      "text/plain": [
       "array([[[255, 255],\n",
       "        [255, 255],\n",
       "        [255, 255],\n",
       "        [255, 255],\n",
       "        [255, 255],\n",
       "        [255, 255],\n",
       "        [255, 255],\n",
       "        [255, 255],\n",
       "        [255, 255],\n",
       "        [255, 255],\n",
       "        [255, 255],\n",
       "        [255, 255],\n",
       "        [255, 255],\n",
       "        [255, 204],\n",
       "        [255, 204],\n",
       "        [255, 204]],\n",
       "\n",
       "       [[255, 255],\n",
       "        [255, 255],\n",
       "        [255, 255],\n",
       "        [255, 255],\n",
       "        [255, 255],\n",
       "        [255, 255],\n",
       "        [238,  63],\n",
       "        [238,  63],\n",
       "        [238,  63],\n",
       "        [238,  63],\n",
       "        [238,  63],\n",
       "        [255, 255],\n",
       "        [255, 255],\n",
       "        [255, 204],\n",
       "        [255, 204],\n",
       "        [255, 204]],\n",
       "\n",
       "       [[255, 255],\n",
       "        [255, 255],\n",
       "        [255, 255],\n",
       "        [255, 255],\n",
       "        [255, 255],\n",
       "        [239,  59],\n",
       "        [239,  59],\n",
       "        [239,  59],\n",
       "        [239,  59],\n",
       "        [239,  59],\n",
       "        [239,  59],\n",
       "        [239,  59],\n",
       "        [239,  59],\n",
       "        [239,  59],\n",
       "        [255, 204],\n",
       "        [255, 204]],\n",
       "\n",
       "       [[255, 255],\n",
       "        [255, 255],\n",
       "        [255, 255],\n",
       "        [255, 255],\n",
       "        [255, 255],\n",
       "        [152, 104],\n",
       "        [152, 104],\n",
       "        [152, 104],\n",
       "        [255, 204],\n",
       "        [255, 204],\n",
       "        [152, 104],\n",
       "        [255, 204],\n",
       "        [255, 255],\n",
       "        [152, 104],\n",
       "        [152, 104],\n",
       "        [152, 104]],\n",
       "\n",
       "       [[255, 255],\n",
       "        [255, 255],\n",
       "        [255, 255],\n",
       "        [255, 255],\n",
       "        [152, 104],\n",
       "        [255, 204],\n",
       "        [152, 104],\n",
       "        [255, 204],\n",
       "        [255, 204],\n",
       "        [255, 204],\n",
       "        [152, 104],\n",
       "        [255, 204],\n",
       "        [255, 204],\n",
       "        [255, 204],\n",
       "        [152, 104],\n",
       "        [152, 104]],\n",
       "\n",
       "       [[255, 255],\n",
       "        [255, 255],\n",
       "        [255, 255],\n",
       "        [255, 255],\n",
       "        [152, 104],\n",
       "        [255, 204],\n",
       "        [152, 104],\n",
       "        [152, 104],\n",
       "        [255, 204],\n",
       "        [255, 204],\n",
       "        [255, 204],\n",
       "        [152, 104],\n",
       "        [255, 204],\n",
       "        [255, 204],\n",
       "        [255, 204],\n",
       "        [152, 104]],\n",
       "\n",
       "       [[255, 255],\n",
       "        [255, 255],\n",
       "        [255, 255],\n",
       "        [255, 255],\n",
       "        [152, 104],\n",
       "        [152, 104],\n",
       "        [255, 204],\n",
       "        [255, 204],\n",
       "        [255, 204],\n",
       "        [255, 204],\n",
       "        [152, 104],\n",
       "        [152, 104],\n",
       "        [152, 104],\n",
       "        [152, 104],\n",
       "        [152, 104],\n",
       "        [255, 255]],\n",
       "\n",
       "       [[255, 255],\n",
       "        [255, 255],\n",
       "        [255, 255],\n",
       "        [255, 255],\n",
       "        [255, 255],\n",
       "        [255, 255],\n",
       "        [255, 204],\n",
       "        [255, 204],\n",
       "        [255, 204],\n",
       "        [255, 204],\n",
       "        [255, 204],\n",
       "        [255, 204],\n",
       "        [255, 204],\n",
       "        [152, 104],\n",
       "        [255, 255],\n",
       "        [255, 255]],\n",
       "\n",
       "       [[255, 255],\n",
       "        [255, 255],\n",
       "        [152, 104],\n",
       "        [152, 104],\n",
       "        [152, 104],\n",
       "        [152, 104],\n",
       "        [152, 104],\n",
       "        [239,  59],\n",
       "        [152, 104],\n",
       "        [152, 104],\n",
       "        [152, 104],\n",
       "        [239,  59],\n",
       "        [152, 104],\n",
       "        [255, 255],\n",
       "        [255, 255],\n",
       "        [255, 255]],\n",
       "\n",
       "       [[255, 255],\n",
       "        [155, 107],\n",
       "        [152, 104],\n",
       "        [152, 104],\n",
       "        [152, 104],\n",
       "        [152, 104],\n",
       "        [152, 104],\n",
       "        [152, 104],\n",
       "        [239,  59],\n",
       "        [152, 104],\n",
       "        [152, 104],\n",
       "        [152, 104],\n",
       "        [239,  59],\n",
       "        [255, 255],\n",
       "        [255, 255],\n",
       "        [152, 104]],\n",
       "\n",
       "       [[255, 204],\n",
       "        [255, 204],\n",
       "        [152, 104],\n",
       "        [152, 104],\n",
       "        [152, 104],\n",
       "        [152, 104],\n",
       "        [152, 104],\n",
       "        [152, 104],\n",
       "        [239,  59],\n",
       "        [239,  59],\n",
       "        [239,  59],\n",
       "        [239,  59],\n",
       "        [239,  59],\n",
       "        [255, 255],\n",
       "        [255, 255],\n",
       "        [152, 104]],\n",
       "\n",
       "       [[255, 204],\n",
       "        [255, 204],\n",
       "        [255, 204],\n",
       "        [254, 254],\n",
       "        [255, 255],\n",
       "        [239,  59],\n",
       "        [152, 104],\n",
       "        [239,  59],\n",
       "        [239,  59],\n",
       "        [239,  59],\n",
       "        [255, 204],\n",
       "        [239,  59],\n",
       "        [255, 204],\n",
       "        [239,  59],\n",
       "        [152, 104],\n",
       "        [152, 104]],\n",
       "\n",
       "       [[255, 255],\n",
       "        [254, 206],\n",
       "        [255, 255],\n",
       "        [152, 104],\n",
       "        [255, 255],\n",
       "        [239,  59],\n",
       "        [239,  59],\n",
       "        [239,  59],\n",
       "        [239,  59],\n",
       "        [239,  59],\n",
       "        [239,  59],\n",
       "        [239,  59],\n",
       "        [239,  59],\n",
       "        [239,  59],\n",
       "        [152, 104],\n",
       "        [152, 104]],\n",
       "\n",
       "       [[255, 255],\n",
       "        [255, 255],\n",
       "        [152, 104],\n",
       "        [152, 104],\n",
       "        [152, 104],\n",
       "        [239,  59],\n",
       "        [239,  59],\n",
       "        [239,  59],\n",
       "        [239,  59],\n",
       "        [239,  59],\n",
       "        [239,  59],\n",
       "        [239,  59],\n",
       "        [239,  59],\n",
       "        [239,  59],\n",
       "        [152, 104],\n",
       "        [152, 104]],\n",
       "\n",
       "       [[255, 255],\n",
       "        [155, 107],\n",
       "        [152, 104],\n",
       "        [152, 104],\n",
       "        [239,  59],\n",
       "        [239,  59],\n",
       "        [239,  59],\n",
       "        [239,  59],\n",
       "        [239,  59],\n",
       "        [239,  59],\n",
       "        [239,  59],\n",
       "        [255, 255],\n",
       "        [255, 255],\n",
       "        [255, 255],\n",
       "        [255, 255],\n",
       "        [255, 255]],\n",
       "\n",
       "       [[255, 255],\n",
       "        [155, 107],\n",
       "        [254, 254],\n",
       "        [255, 255],\n",
       "        [239,  59],\n",
       "        [239,  59],\n",
       "        [239,  59],\n",
       "        [239,  59],\n",
       "        [255, 255],\n",
       "        [255, 255],\n",
       "        [255, 255],\n",
       "        [255, 255],\n",
       "        [255, 255],\n",
       "        [255, 255],\n",
       "        [255, 255],\n",
       "        [255, 255]]], dtype=uint8)"
      ]
     },
     "execution_count": 40,
     "metadata": {},
     "output_type": "execute_result"
    }
   ],
   "source": [
    "# slice out only some layers\n",
    "\n",
    "# only red and green layers\n",
    "A[::, ::, 0:2]\n",
    "\n",
    "# PLT will refuse to show this one"
   ]
  },
  {
   "cell_type": "markdown",
   "metadata": {},
   "source": [
    "## n-dimensional matrices\n",
    "\n",
    "Numpy matrices can have any number of dimensions.\n",
    "\n",
    "A 4-dimensional matrix might be used to hold an _animation_, where the 4th dimension is the _frame number_. In that case, you could get i,jth pixel of every frame with:\n",
    "\n",
    "`animation[ i, j, ::, :: ]`\n",
    "\n",
    "Which would return a 2-dimensional matrix where every row is a 3-tuple of color values, and each column is an animation frame.\n",
    "\n",
    "Red layer of every frame: \n",
    "\n",
    "`animation[ ::, ::, 0, :: ]`\n",
    "\n",
    "Only the zth frame:\n",
    "\n",
    "`animation[ ::, ::, ::, z ]`\n",
    "\n",
    "Furthermore you could hold a _collection_ of animations (all with the same width, height, number of colors, and frame count) with a five-dimensional matrix, where the 5th dimension is the animation number. (Further: a 6-dimensional matrix holding an archive of collections &c &c).\n",
    "\n"
   ]
  },
  {
   "cell_type": "markdown",
   "metadata": {},
   "source": [
    "## Bonus Stuff"
   ]
  },
  {
   "cell_type": "code",
   "execution_count": 41,
   "metadata": {},
   "outputs": [
    {
     "data": {
      "text/plain": [
       "<matplotlib.image.AxesImage at 0x11915c080>"
      ]
     },
     "execution_count": 41,
     "metadata": {},
     "output_type": "execute_result"
    },
    {
     "data": {
      "image/png": "[encoded data removed]",
      "text/plain": [
       "<Figure size 432x288 with 1 Axes>"
      ]
     },
     "metadata": {},
     "output_type": "display_data"
    }
   ],
   "source": [
    "# show sum of all colors\n",
    "plt.imshow( A.sum(axis=2), cmap=\"Greys\" )"
   ]
  },
  {
   "cell_type": "code",
   "execution_count": 42,
   "metadata": {},
   "outputs": [
    {
     "data": {
      "text/plain": [
       "<matplotlib.image.AxesImage at 0x1191ec198>"
      ]
     },
     "execution_count": 42,
     "metadata": {},
     "output_type": "execute_result"
    },
    {
     "data": {
      "image/png": "[encoded data removed]",
      "text/plain": [
       "<Figure size 432x288 with 1 Axes>"
      ]
     },
     "metadata": {},
     "output_type": "display_data"
    }
   ],
   "source": [
    "# transpose reverses all dimensions\n",
    "# (row,col,layer) -> (layer, col, row)\n",
    "\n",
    "# B[0] is the red layer, in (col,row) order.\n",
    "B = A.T\n",
    "plt.imshow( B[0], cmap=\"Greys\" )"
   ]
  },
  {
   "cell_type": "code",
   "execution_count": 56,
   "metadata": {},
   "outputs": [
    {
     "data": {
      "text/plain": [
       "<matplotlib.image.AxesImage at 0x119b5d278>"
      ]
     },
     "execution_count": 56,
     "metadata": {},
     "output_type": "execute_result"
    },
    {
     "data": {
      "image/png": "[encoded data removed]",
      "text/plain": [
       "<Figure size 432x288 with 1 Axes>"
      ]
     },
     "metadata": {},
     "output_type": "display_data"
    }
   ],
   "source": [
    "# np.tranpose allows to set the order of tranposed dimensions\n",
    "\n",
    "# in this case, B[0] is the red layer in (row,col) order.\n",
    "fig,ax = plt.subplots()\n",
    "\n",
    "B = np.transpose(A, axes=(2,0,1))\n",
    "ax.set_title(\"blue layer\")\n",
    "ax.imshow( B[0], cmap=\"Greys\" ) # B[0] == B[0, ::, ::]"
   ]
  },
  {
   "cell_type": "code",
   "execution_count": 57,
   "metadata": {},
   "outputs": [
    {
     "data": {
      "text/plain": [
       "<matplotlib.image.AxesImage at 0x119c8b668>"
      ]
     },
     "execution_count": 57,
     "metadata": {},
     "output_type": "execute_result"
    },
    {
     "data": {
      "image/png": "[encoded data removed]",
      "text/plain": [
       "<Figure size 432x288 with 1 Axes>"
      ]
     },
     "metadata": {},
     "output_type": "display_data"
    }
   ],
   "source": [
    "# use ellipses (another long-lost top-level type literal) to stand for all axes _before_ an axis.\n",
    "\n",
    "fig,ax = plt.subplots()\n",
    "ax.set_title(\"blue layer\")\n",
    "ax.imshow( A[..., 0], cmap=\"Greys\" ) # A[..., 0] == A[::, ::, 0]"
   ]
  },
  {
   "cell_type": "code",
   "execution_count": 45,
   "metadata": {},
   "outputs": [
    {
     "data": {
      "text/plain": [
       "<matplotlib.image.AxesImage at 0x10f87dd30>"
      ]
     },
     "execution_count": 45,
     "metadata": {},
     "output_type": "execute_result"
    },
    {
     "data": {
      "image/png": "[encoded data removed]",
      "text/plain": [
       "<Figure size 432x288 with 2 Axes>"
      ]
     },
     "metadata": {},
     "output_type": "display_data"
    }
   ],
   "source": [
    "# combine numpy tricks to do elegant stuff\n",
    "# rotating 90 degree is the row-reverse of the transpose\n",
    "\n",
    "fig,ax = plt.subplots(1,2)\n",
    "\n",
    " \n",
    "ax[0].imshow(A)\n",
    "\n",
    "# flip the first to axes\n",
    "B = np.transpose(A, axes=(1,0,2))\n",
    "# reverse the rows\n",
    "B = B[:,::-1,:]\n",
    "ax[1].imshow(B)"
   ]
  },
  {
   "cell_type": "markdown",
   "metadata": {},
   "source": [
    "## Pairwise operations\n",
    "\n",
    "Most scalar operations between two numpy arrays of the same shape will perform perform the scalar operation on all corresponding pairs."
   ]
  },
  {
   "cell_type": "code",
   "execution_count": 136,
   "metadata": {},
   "outputs": [],
   "source": [
    "u = np.array([1,2,3,4,5])\n",
    "v = np.array([5,7,9,1,2])"
   ]
  },
  {
   "cell_type": "code",
   "execution_count": 139,
   "metadata": {},
   "outputs": [
    {
     "data": {
      "text/plain": [
       "(array([ 6,  9, 12,  5,  7]), array([-5, -7, -9, -1, -2]))"
      ]
     },
     "execution_count": 139,
     "metadata": {},
     "output_type": "execute_result"
    }
   ],
   "source": [
    "# addition, subtraction\n",
    "u+v, i-v"
   ]
  },
  {
   "cell_type": "code",
   "execution_count": 141,
   "metadata": {},
   "outputs": [
    {
     "data": {
      "text/plain": [
       "(array([ 5, 14, 27,  4, 10]),\n",
       " array([0.2       , 0.28571429, 0.33333333, 4.        , 2.5       ]))"
      ]
     },
     "execution_count": 141,
     "metadata": {},
     "output_type": "execute_result"
    }
   ],
   "source": [
    "# multplication, division\n",
    "u*v, u/v"
   ]
  },
  {
   "cell_type": "code",
   "execution_count": 142,
   "metadata": {},
   "outputs": [
    {
     "data": {
      "text/plain": [
       "(array([    1,   128, 19683,     4,    25]), array([1, 2, 3, 0, 1]))"
      ]
     },
     "execution_count": 142,
     "metadata": {},
     "output_type": "execute_result"
    }
   ],
   "source": [
    "# even exponentiation and modulo\n",
    "u**v, u%v"
   ]
  },
  {
   "cell_type": "markdown",
   "metadata": {},
   "source": [
    "This works on arrays of any shape."
   ]
  },
  {
   "cell_type": "code",
   "execution_count": 145,
   "metadata": {},
   "outputs": [
    {
     "data": {
      "text/plain": [
       "array([[ 5, 12],\n",
       "       [21, 32]])"
      ]
     },
     "execution_count": 145,
     "metadata": {},
     "output_type": "execute_result"
    }
   ],
   "source": [
    "A = np.array( [[1,2],[3,4]] )\n",
    "B = np.array( [[5,6],[7,8]] )\n",
    "\n",
    "A*B # note - pairwise multiplication, NOT matrix multiplication"
   ]
  },
  {
   "cell_type": "markdown",
   "metadata": {},
   "source": [
    "## Broadcasting operations"
   ]
  },
  {
   "cell_type": "markdown",
   "metadata": {},
   "source": [
    "If two operands do have the same shape, but the operand of lower dimension will be **broadcast** to higher dimensions."
   ]
  },
  {
   "cell_type": "code",
   "execution_count": 173,
   "metadata": {},
   "outputs": [],
   "source": [
    "A = np.arange(4*3).reshape(4,3)\n",
    "v = np.array([0,1,10])"
   ]
  },
  {
   "cell_type": "code",
   "execution_count": 174,
   "metadata": {},
   "outputs": [
    {
     "data": {
      "text/plain": [
       "array([[  0,   1,  20],\n",
       "       [  0,   4,  50],\n",
       "       [  0,   7,  80],\n",
       "       [  0,  10, 110]])"
      ]
     },
     "execution_count": 174,
     "metadata": {},
     "output_type": "execute_result"
    }
   ],
   "source": [
    "A*v"
   ]
  },
  {
   "cell_type": "markdown",
   "metadata": {},
   "source": [
    "This is the same as:"
   ]
  },
  {
   "cell_type": "code",
   "execution_count": 175,
   "metadata": {},
   "outputs": [
    {
     "data": {
      "text/plain": [
       "array([[  0,   1,  20],\n",
       "       [  0,   4,  50],\n",
       "       [  0,   7,  80],\n",
       "       [  0,  10, 110]])"
      ]
     },
     "execution_count": 175,
     "metadata": {},
     "output_type": "execute_result"
    }
   ],
   "source": [
    "A * np.broadcast_to(v, A.shape)"
   ]
  },
  {
   "cell_type": "markdown",
   "metadata": {},
   "source": [
    "You can think of scalar operations as broadcast operations:"
   ]
  },
  {
   "cell_type": "code",
   "execution_count": 176,
   "metadata": {},
   "outputs": [
    {
     "data": {
      "text/plain": [
       "array([[ 0,  3,  6],\n",
       "       [ 9, 12, 15],\n",
       "       [18, 21, 24],\n",
       "       [27, 30, 33]])"
      ]
     },
     "execution_count": 176,
     "metadata": {},
     "output_type": "execute_result"
    }
   ],
   "source": [
    "A*3"
   ]
  },
  {
   "cell_type": "code",
   "execution_count": 177,
   "metadata": {},
   "outputs": [
    {
     "data": {
      "text/plain": [
       "array([[ 0,  3,  6],\n",
       "       [ 9, 12, 15],\n",
       "       [18, 21, 24],\n",
       "       [27, 30, 33]])"
      ]
     },
     "execution_count": 177,
     "metadata": {},
     "output_type": "execute_result"
    }
   ],
   "source": [
    "A * np.broadcast_to(3, A.shape)"
   ]
  },
  {
   "cell_type": "markdown",
   "metadata": {},
   "source": [
    "## The Dot Product"
   ]
  },
  {
   "cell_type": "markdown",
   "metadata": {},
   "source": [
    "Imagine a series of prices:"
   ]
  },
  {
   "cell_type": "code",
   "execution_count": 180,
   "metadata": {},
   "outputs": [],
   "source": [
    "p_chicken, p_bread, p_chocolate, p_apples = 3.5, 2.5, 1.0, 0.5"
   ]
  },
  {
   "cell_type": "markdown",
   "metadata": {},
   "source": [
    "Further, imagine we have an order for the given goods."
   ]
  },
  {
   "cell_type": "code",
   "execution_count": 182,
   "metadata": {},
   "outputs": [],
   "source": [
    "n_chicken, n_bread, n_chocolate, n_apples = 1, 2, 5, 3"
   ]
  },
  {
   "cell_type": "markdown",
   "metadata": {},
   "source": [
    "The total bill will be"
   ]
  },
  {
   "cell_type": "code",
   "execution_count": 183,
   "metadata": {},
   "outputs": [
    {
     "data": {
      "text/plain": [
       "15.0"
      ]
     },
     "execution_count": 183,
     "metadata": {},
     "output_type": "execute_result"
    }
   ],
   "source": [
    "n_chicken*p_chicken + n_bread*p_bread + n_chocolate*p_chocolate + n_apples*p_apples"
   ]
  },
  {
   "cell_type": "markdown",
   "metadata": {},
   "source": [
    "Of course, we can accomplish this same procedure with two arrays, and a pairwise multiplication."
   ]
  },
  {
   "cell_type": "code",
   "execution_count": 184,
   "metadata": {},
   "outputs": [
    {
     "data": {
      "text/plain": [
       "15.0"
      ]
     },
     "execution_count": 184,
     "metadata": {},
     "output_type": "execute_result"
    }
   ],
   "source": [
    "p = np.array( [3.5, 2.5, 1.0, 0.5] )\n",
    "n = np.array( [1, 2, 5, 3] )\n",
    "(p*n).sum()"
   ]
  },
  {
   "cell_type": "markdown",
   "metadata": {},
   "source": [
    "This is the dot product, for which numpy supplies a function:"
   ]
  },
  {
   "cell_type": "code",
   "execution_count": 188,
   "metadata": {},
   "outputs": [
    {
     "data": {
      "text/plain": [
       "15.0"
      ]
     },
     "execution_count": 188,
     "metadata": {},
     "output_type": "execute_result"
    }
   ],
   "source": [
    "np.dot(p, n)"
   ]
  },
  {
   "cell_type": "markdown",
   "metadata": {},
   "source": [
    "The dot product is a common operation. It's common to note its geometrical interpretations:\n",
    "\n",
    "The length of a vector (it's **norm**), is the square root of the dot product.\n",
    "\n",
    "$$ ||x|| = \\sqrt{\\sum{x_i^2}} = \\sqrt{\\vec{x} \\cdot \\vec{x}}$$\n",
    "\n",
    "The cosine between to vectors is easily expressed in terms of the dot product. This is a measure of vector difference that translates well to very high-dimensional space (eg, thousands of dimensions).\n",
    "\n",
    "$$cos(\\theta) = \\frac{\\boldsymbol{x} \\cdot \\boldsymbol{y}}{||\\boldsymbol{x}|| \\text{ } ||\\boldsymbol{y}||}$$\n"
   ]
  },
  {
   "cell_type": "markdown",
   "metadata": {},
   "source": [
    "Maybe most importantly a dot product **calculates the result of a linear equation**, where one vector represents the coefficients, and the other the variables."
   ]
  },
  {
   "cell_type": "markdown",
   "metadata": {},
   "source": [
    "## `numpy` and dot products"
   ]
  },
  {
   "cell_type": "markdown",
   "metadata": {},
   "source": [
    "The dot product is simple to express in numpy notation - why use the `dot` function?"
   ]
  },
  {
   "cell_type": "code",
   "execution_count": 222,
   "metadata": {},
   "outputs": [
    {
     "name": "stdout",
     "output_type": "stream",
     "text": [
      "[[ 0  1  2  3]\n",
      " [ 4  5  6  7]\n",
      " [ 8  9 10 11]]\n",
      "\n",
      "[ 5 10 15 20]\n"
     ]
    }
   ],
   "source": [
    "A = np.arange(12).reshape(3,4)\n",
    "v = np.array( [5,10,15,20] )\n",
    "print( A )\n",
    "print()\n",
    "print( v )"
   ]
  },
  {
   "cell_type": "markdown",
   "metadata": {},
   "source": [
    "If `A` is a 2d matrix an `v` a 1d matrix, np.dot performs the dot product of `v` against every row in `A`."
   ]
  },
  {
   "cell_type": "code",
   "execution_count": 223,
   "metadata": {},
   "outputs": [
    {
     "data": {
      "text/plain": [
       "array([100, 300, 500])"
      ]
     },
     "execution_count": 223,
     "metadata": {},
     "output_type": "execute_result"
    }
   ],
   "source": [
    "np.dot(A, v)"
   ]
  },
  {
   "cell_type": "markdown",
   "metadata": {},
   "source": [
    "Remember the algebraic interpration of the dot product - the evaluation of a set of coefficients by a set of variables.\n",
    "\n",
    "With `np.dot` we can evaluate a single set of variables `v` against a list of coefficient-sets.\n",
    "\n",
    "This is, of course, multiplication of a matrix by a vector; and the **system-of-equations interpretation** of matrices."
   ]
  },
  {
   "cell_type": "markdown",
   "metadata": {},
   "source": [
    "## The dot product and matrix multiplication"
   ]
  },
  {
   "cell_type": "markdown",
   "metadata": {},
   "source": [
    "With the product of two matrices\n",
    "\n",
    "$$ AB = C $$\n",
    "\n",
    "means that the value of the cell in row i and column j is:\n",
    "\n",
    "$$ c_{ij} = \\vec{a}_i \\cdot \\vec{b}_j $$"
   ]
  },
  {
   "cell_type": "code",
   "execution_count": 231,
   "metadata": {},
   "outputs": [],
   "source": [
    "B = np.array([[5,0],\n",
    "              [10,0],\n",
    "              [15,0],\n",
    "              [20,1]])"
   ]
  },
  {
   "cell_type": "code",
   "execution_count": 232,
   "metadata": {},
   "outputs": [
    {
     "data": {
      "text/plain": [
       "array([[100,   3],\n",
       "       [300,   7],\n",
       "       [500,  11]])"
      ]
     },
     "execution_count": 232,
     "metadata": {},
     "output_type": "execute_result"
    }
   ],
   "source": [
    "np.dot(A, B)"
   ]
  },
  {
   "cell_type": "code",
   "execution_count": 241,
   "metadata": {},
   "outputs": [],
   "source": [
    "# a notational shortcut"
   ]
  },
  {
   "cell_type": "code",
   "execution_count": 242,
   "metadata": {},
   "outputs": [
    {
     "data": {
      "text/plain": [
       "array([[100,   3],\n",
       "       [300,   7],\n",
       "       [500,  11]])"
      ]
     },
     "execution_count": 242,
     "metadata": {},
     "output_type": "execute_result"
    }
   ],
   "source": [
    "A @ B"
   ]
  },
  {
   "cell_type": "markdown",
   "metadata": {},
   "source": [
    "In to the system-of-equations interpretation:\n",
    "\n",
    "* $A$ is a series of row vectors, each with a set of coefficeints.\n",
    "* $B$ is a series of column vectors, each with a set of variable values.\n",
    "* $c_{ij}$ is the evaluation of the linear equation formed by coefficients $\\vec{a_i}$ and variable values $\\vec{b_j}$."
   ]
  },
  {
   "cell_type": "markdown",
   "metadata": {},
   "source": [
    "## A few more knobs on the numpy linear algebra airplane"
   ]
  },
  {
   "cell_type": "markdown",
   "metadata": {},
   "source": [
    "The identity matrix"
   ]
  },
  {
   "cell_type": "code",
   "execution_count": 250,
   "metadata": {},
   "outputs": [],
   "source": [
    "I = np.identity(max(A.shape))"
   ]
  },
  {
   "cell_type": "code",
   "execution_count": 251,
   "metadata": {},
   "outputs": [
    {
     "data": {
      "text/plain": [
       "array([[ True,  True,  True,  True],\n",
       "       [ True,  True,  True,  True],\n",
       "       [ True,  True,  True,  True]])"
      ]
     },
     "execution_count": 251,
     "metadata": {},
     "output_type": "execute_result"
    }
   ],
   "source": [
    "A @ I == A"
   ]
  },
  {
   "cell_type": "markdown",
   "metadata": {},
   "source": [
    "Once again, the transpose"
   ]
  },
  {
   "cell_type": "code",
   "execution_count": 252,
   "metadata": {},
   "outputs": [
    {
     "data": {
      "text/plain": [
       "array([[ 0,  4,  8],\n",
       "       [ 1,  5,  9],\n",
       "       [ 2,  6, 10],\n",
       "       [ 3,  7, 11]])"
      ]
     },
     "execution_count": 252,
     "metadata": {},
     "output_type": "execute_result"
    }
   ],
   "source": [
    "A.T"
   ]
  },
  {
   "cell_type": "markdown",
   "metadata": {},
   "source": [
    "## The Matrix Inverse"
   ]
  },
  {
   "cell_type": "markdown",
   "metadata": {},
   "source": [
    "Reverting back to the algebraic facet of linear algebra - given matrix $A$, there exist matrices $I$ and $A$ such that:\n",
    "\n",
    "$$AI = A$$\n",
    "$$A^{-1}A = I$$\n",
    "\n",
    "Applying some (as of this document, implicitly defined) matrix algebra:\n",
    "\n",
    "$$Ax = y$$\n",
    "$$A^{-1}Ax = A^{-1}y$$\n",
    "$$Ix = A^{-1}y$$\n",
    "$$x = A^{-1}y$$"
   ]
  },
  {
   "cell_type": "markdown",
   "metadata": {},
   "source": [
    "If $A$ and $y$ represent a series of linear equations, the very convenient $A^{-1}$ gives us the solution for _any_ vector $y$."
   ]
  },
  {
   "cell_type": "markdown",
   "metadata": {},
   "source": [
    "For a certain class of $A$ (\"non-singular\" matrices), the inverse exists and is computationally feasible to obtain.\n",
    "\n",
    "However, the inverse does not always exist. In the case of very large matrices, the inverse may be computationally unfeasible to obtain in the closed form."
   ]
  },
  {
   "cell_type": "code",
   "execution_count": 270,
   "metadata": {},
   "outputs": [],
   "source": [
    "A = np.array([[2,2,3],\n",
    "              [4,12,6],\n",
    "              [7,8,9]])\n",
    "y = np.array([12,13,14])\n",
    "Ainv = np.linalg.inv(A)"
   ]
  },
  {
   "cell_type": "code",
   "execution_count": 276,
   "metadata": {},
   "outputs": [
    {
     "data": {
      "text/plain": [
       "array([[ 1.,  0., -0.],\n",
       "       [-0.,  1., -0.],\n",
       "       [ 0.,  0.,  1.]])"
      ]
     },
     "execution_count": 276,
     "metadata": {},
     "output_type": "execute_result"
    }
   ],
   "source": [
    "np.around( (Ainv @ A), decimals=2 )"
   ]
  },
  {
   "cell_type": "code",
   "execution_count": 278,
   "metadata": {},
   "outputs": [],
   "source": [
    "x = Ainv @ y"
   ]
  },
  {
   "cell_type": "code",
   "execution_count": 282,
   "metadata": {},
   "outputs": [
    {
     "data": {
      "text/plain": [
       "array([12., 13., 14.])"
      ]
     },
     "execution_count": 282,
     "metadata": {},
     "output_type": "execute_result"
    }
   ],
   "source": [
    "A @ x"
   ]
  },
  {
   "cell_type": "markdown",
   "metadata": {},
   "source": [
    "## Eigenvectors\n",
    "\n",
    "An eigvenvector of `A` is a vector whose direction does not change as a result of matrix multiplication by `A`."
   ]
  },
  {
   "cell_type": "code",
   "execution_count": 299,
   "metadata": {},
   "outputs": [
    {
     "data": {
      "text/plain": [
       "array([[0.15384615, 0.09090909, 0.16666667],\n",
       "       [0.30769231, 0.54545455, 0.33333333],\n",
       "       [0.53846154, 0.36363636, 0.5       ]])"
      ]
     },
     "execution_count": 299,
     "metadata": {},
     "output_type": "execute_result"
    }
   ],
   "source": [
    "A = A/A.sum(axis=0)\n",
    "A"
   ]
  },
  {
   "cell_type": "code",
   "execution_count": 300,
   "metadata": {},
   "outputs": [],
   "source": [
    "eigvals, eigvecs = np.linalg.eig(A)"
   ]
  },
  {
   "cell_type": "code",
   "execution_count": 301,
   "metadata": {},
   "outputs": [
    {
     "data": {
      "text/plain": [
       "array([-0.21231049, -0.66726153, -0.71392318])"
      ]
     },
     "execution_count": 301,
     "metadata": {},
     "output_type": "execute_result"
    }
   ],
   "source": [
    "eigvec0 = eigvecs[:,0]\n",
    "eigvec0"
   ]
  },
  {
   "cell_type": "code",
   "execution_count": 302,
   "metadata": {},
   "outputs": [
    {
     "data": {
      "text/plain": [
       "array([-0.21231049, -0.66726153, -0.71392318])"
      ]
     },
     "execution_count": 302,
     "metadata": {},
     "output_type": "execute_result"
    }
   ],
   "source": [
    "A @ eigvec0 "
   ]
  },
  {
   "cell_type": "markdown",
   "metadata": {},
   "source": [
    "In a case where a `A` specifies the parameters of a state change, and `Ax` is an expression for the changed state, the eigenvector is a vector for which `A` would _not result in a change_. In cases where repeated state changes converge upon a value, the convergence value is an eigenvector, because it is a state which remains the same after the state change operation is applied."
   ]
  },
  {
   "cell_type": "code",
   "execution_count": null,
   "metadata": {},
   "outputs": [],
   "source": []
  }
 ],
 "metadata": {
  "kernelspec": {
   "display_name": "Python 3",
   "language": "python",
   "name": "python3"
  },
  "language_info": {
   "codemirror_mode": {
    "name": "ipython",
    "version": 3
   },
   "file_extension": ".py",
   "mimetype": "text/x-python",
   "name": "python",
   "nbconvert_exporter": "python",
   "pygments_lexer": "ipython3",
   "version": "3.6.5"
  }
 },
 "nbformat": 4,
 "nbformat_minor": 2
}
