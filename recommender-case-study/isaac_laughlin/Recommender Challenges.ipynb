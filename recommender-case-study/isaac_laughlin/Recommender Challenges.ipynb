{
 "cells": [
  {
   "cell_type": "markdown",
   "metadata": {
    "slideshow": {
     "slide_type": "slide"
    }
   },
   "source": [
    "# Practical Challenges for Recommenders\n",
    "\n",
    "## Objectives\n",
    "\n",
    "Know 4 common problems affecting recommender systems and ways to address them.\n",
    "\n",
    "1. Wrong metric\n",
    "1. Cold start\n",
    "1. Hard to incorporate all useful data\n",
    "1. Speed and stability"
   ]
  },
  {
   "cell_type": "markdown",
   "metadata": {
    "slideshow": {
     "slide_type": "slide"
    }
   },
   "source": [
    "# Wrong Metric\n",
    "\n",
    "What cost function does our matrix factorization recommender use?"
   ]
  },
  {
   "cell_type": "markdown",
   "metadata": {
    "slideshow": {
     "slide_type": "fragment"
    }
   },
   "source": [
    "$$ \\sum_{u,i} (R_{u,i} - p_u q_i)^2 $$\n",
    "\n",
    "Is it _actually_ important to minimize this squared error? If I'm trying to recommend 5 things you're most likely to buy, is it important that I know exactly how likely you are to buy?"
   ]
  },
  {
   "cell_type": "markdown",
   "metadata": {
    "slideshow": {
     "slide_type": "slide"
    }
   },
   "source": [
    "# Alternative Metrics\n",
    "\n",
    "* Average _true_ rating of top N recommendations.\n",
    "* Approximate true objective with something optimizable... like $\\sum r_ie_i^2$.\n",
    "    * This would penalize bad misses on things rated highly"
   ]
  },
  {
   "cell_type": "markdown",
   "metadata": {
    "slideshow": {
     "slide_type": "slide"
    }
   },
   "source": [
    "# Cold Start Problem\n",
    "\n",
    "Matrix factorization requires information about items' latent features and users' affinity for those features, this requires data to learn well, but what about new users or new items?\n",
    "\n",
    "| Method | Affected by Cold Start? |\n",
    "|--------|------------|\n",
    "| Item-Item | highly |\n",
    "| Factorization | moderately |\n",
    "| Popularity | observable factors/popularity | "
   ]
  },
  {
   "cell_type": "markdown",
   "metadata": {
    "slideshow": {
     "slide_type": "slide"
    }
   },
   "source": [
    "# Cold Start\n",
    "## Item-Item\n",
    "\n",
    "\n",
    "$$ R_{u, i}  = \\frac{\\sum_{j\\in items, N} s_{i,N} R_{u,N}}{\\sum_{j \\in items,N}(|s_{i,N}|)} $$\n",
    "\n",
    "\n",
    "\n",
    "Why is it hard to get good results from this in a cold-start scenario?"
   ]
  },
  {
   "cell_type": "markdown",
   "metadata": {
    "slideshow": {
     "slide_type": "slide"
    }
   },
   "source": [
    "# Cold Start\n",
    "\n",
    "## Factorization\n",
    "\n",
    "$$ r_{u,i} = p_u^T q_i $$\n",
    "\n",
    "Why is it hard to compute a good rating from this method in a cold-start scenario?"
   ]
  },
  {
   "cell_type": "markdown",
   "metadata": {
    "slideshow": {
     "slide_type": "slide"
    }
   },
   "source": [
    "# Cold Start\n",
    "## Observed Factors\n",
    "\n",
    "$$ r_{u, i} = \\sum_j \\beta_{u, j} x_{i,j} $$\n",
    "\n",
    "When can you expect good results from this method in a cold-start scenario?"
   ]
  },
  {
   "cell_type": "markdown",
   "metadata": {
    "slideshow": {
     "slide_type": "slide"
    }
   },
   "source": [
    "# Cold Start\n",
    "## Popularity\n",
    "\n",
    "What kind of cold-start would we expect to use popularity?"
   ]
  },
  {
   "cell_type": "markdown",
   "metadata": {
    "slideshow": {
     "slide_type": "slide"
    }
   },
   "source": [
    "# Useful Data Not Captured by SVD\n",
    "\n",
    "* Overall item quality\n",
    "* Overall user ratings\n",
    "* Implicit feedback (what a user has rated may matter in addition to how they rated it)\n",
    "* Observed features of users or items."
   ]
  },
  {
   "cell_type": "markdown",
   "metadata": {
    "slideshow": {
     "slide_type": "slide"
    }
   },
   "source": [
    "# Bias Terms\n",
    "\n",
    "We don't need a fancy model to capture the average rating of an item, or the average rating of a user:\n",
    "\n",
    "$$ r_{u,i} = b_i + b_u + p_u^Tq_i $$\n",
    "\n",
    "Usually also capture a global bias term too:\n",
    "\n",
    "$$ r_{u,i} =  \\mu + b_i + b_u + p_u^Tq_i $$"
   ]
  },
  {
   "cell_type": "markdown",
   "metadata": {
    "slideshow": {
     "slide_type": "slide"
    }
   },
   "source": [
    "# Implicit Feedback\n",
    "\n",
    "We can incorporate information about _what_ a user has rated in addition to how they rated it.\n",
    "\n",
    "This is known as SVD++\n",
    "\n",
    "$$ r_{u,i} =  \\mu + b_i + b_u + q_i^T(p_u + |N(u)|^{-1/2} \\sum_{j\\in N(u)} y_j) $$\n",
    "\n",
    "Where $N(u)$ is the set of all items for which a users provided an implicit preference.\n",
    "\n",
    "The final implicit preference term allows us to adjust our ratings when a user has not rated a movie. For example, a user who has never rated Star Wars Episode III, could be expected to have a lower rating for Episode IV."
   ]
  },
  {
   "cell_type": "markdown",
   "metadata": {
    "slideshow": {
     "slide_type": "slide"
    }
   },
   "source": [
    "# Observed User or Item Features\n",
    "\n",
    "Diagram.\n",
    "\n",
    "Note similarity to OLS."
   ]
  },
  {
   "cell_type": "markdown",
   "metadata": {
    "slideshow": {
     "slide_type": "slide"
    }
   },
   "source": [
    "# Speed and Performance\n",
    "\n",
    "* Serialize the Model\n",
    "* Vectorize your operations\n",
    "* Work in batches (if possible)\n"
   ]
  },
  {
   "cell_type": "markdown",
   "metadata": {
    "slideshow": {
     "slide_type": "slide"
    }
   },
   "source": [
    "# In practice\n",
    "\n",
    "* Spark implements a Matrix Factorization model, but not any of the advanced things we've seen here.\n",
    "* GraphLab implements almost all of what we've seen, but is not open-source.\n",
    "* Many companies who do large-scale recommendations probably roll their own solutions."
   ]
  },
  {
   "cell_type": "code",
   "execution_count": null,
   "metadata": {
    "collapsed": true
   },
   "outputs": [],
   "source": []
  }
 ],
 "metadata": {
  "celltoolbar": "Slideshow",
  "kernelspec": {
   "display_name": "Python 2",
   "language": "python",
   "name": "python2"
  },
  "language_info": {
   "codemirror_mode": {
    "name": "ipython",
    "version": 2
   },
   "file_extension": ".py",
   "mimetype": "text/x-python",
   "name": "python",
   "nbconvert_exporter": "python",
   "pygments_lexer": "ipython2",
   "version": "2.7.11"
  }
 },
 "nbformat": 4,
 "nbformat_minor": 0
}
