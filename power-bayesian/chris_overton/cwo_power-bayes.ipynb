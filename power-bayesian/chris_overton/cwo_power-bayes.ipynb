{
 "cells": [
  {
   "cell_type": "markdown",
   "metadata": {
    "slideshow": {
     "slide_type": "slide"
    }
   },
   "source": [
    "# Statistical Power & Bayes\n",
    "\n",
    "Chris Overton  \n",
    "2016-09-22  \n",
    "\n",
    "Adapted from versions by several other lecturers\n",
    "\n",
    "Morning: winding up our frequentist statistics\n",
    "* Recap: significance vs. causality\n",
    "* Statistical Power\n",
    "\n",
    "Afternoon:\n",
    "* Bayesian Inference"
   ]
  },
  {
   "cell_type": "markdown",
   "metadata": {
    "slideshow": {
     "slide_type": "subslide"
    }
   },
   "source": [
    "## Statistical Power: Objectives\n",
    "\n",
    "* Know how to avoid misuse and misinterpretation of frequentist tests\n",
    "* Understand statistical power in relation to Type II errors\n",
    "* Understand the tradeoffs between power, significance, effect size, and sample size/cost\n",
    "* Calculate sample size for a given power and estimated effect size\n",
    "\n",
    "## Bayesian Inference\n",
    "* Frequentist vs. Bayesian approaches\n",
    "* Work with Bayes rule to compute posterior probability\n",
    "* Prior, liklihood and posterior distributions"
   ]
  },
  {
   "cell_type": "markdown",
   "metadata": {
    "slideshow": {
     "slide_type": "slide"
    }
   },
   "source": [
    "## Recap: significance vs. causality\n",
    "You are given the following data from a clinical trial.  \n",
    "Each patient either received treatment A or not.  \n",
    "An hour later, a clinical observation was taken on each patient to determine whether or not they were in state H.  \n",
    "\n",
    "|        | A | not A | Total |\n",
    "|------ |---- | ------- | ------ |\n",
    "| H  | 63 | 89 | 152 |\n",
    "| not H | 129 | 2104 | 2233 |\n",
    "| Total | 192 | 2193 | 2385 |\n",
    "\n",
    "* What statistical test would you apply to these data?\n",
    "* What is your estimate of the likely result?\n",
    "* What are the implications for the likely effect A has on H?"
   ]
  },
  {
   "cell_type": "markdown",
   "metadata": {
    "slideshow": {
     "slide_type": "slide"
    }
   },
   "source": [
    "## This is a typical chi-square test\n",
    "\n",
    "Null hypothesis $H_0$: outcome H is independent from treatment A\n",
    "\n",
    "$$\\chi^2 = \\sum_{i} \\frac{(O_i - E_i)^2}{E_i}$$\n",
    "\n",
    "Please run a $\\chi^2$ test on these data.  \n",
    "\n",
    "What is the p-value?\n"
   ]
  },
  {
   "cell_type": "code",
   "execution_count": 12,
   "metadata": {
    "collapsed": false,
    "slideshow": {
     "slide_type": "slide"
    }
   },
   "outputs": [
    {
     "name": "stdout",
     "output_type": "stream",
     "text": [
      "(239.82740717540122, 4.2888269144842352e-54, 1, array([[   12.23647799,   139.76352201],\n",
      "       [  179.76352201,  2053.23647799]]))\n",
      "Chi2 Value: 239.827407175\n",
      "p-value: 4.28882691448e-54\n",
      "dof: 1\n",
      "Expected Value Array:\n",
      "[[   12.23647799   139.76352201]\n",
      " [  179.76352201  2053.23647799]]\n"
     ]
    }
   ],
   "source": [
    "## Scipy code\n",
    "import scipy.stats as st\n",
    "cont_table = np.array([[63,89],[129,2104]])\n",
    "print st.chi2_contingency(cont_table)\n",
    "chi2,pval,dof,exp_array = st.chi2_contingency(cont_table)\n",
    "\n",
    "print \"Chi2 Value: {0}\\np-value: {1}\\ndof: {2}\\nExpected Value Array:\\n{3}\".format(chi2,pval,dof,exp_array)"
   ]
  },
  {
   "cell_type": "markdown",
   "metadata": {
    "slideshow": {
     "slide_type": "slide"
    }
   },
   "source": [
    "## Recap: significance vs. causality\n",
    "**Actual **  \n",
    "\n",
    "|        | A | not A | Total |\n",
    "|------ |---- | ------- | ------ |\n",
    "| H  | 63 | 89 | 152 |\n",
    "| not H | 129 | 2104 | 2233 |\n",
    "| Total | 192 | 2193 | 2385 | \n",
    "\n",
    "\n",
    "\n",
    "**Expected** (rounded to integers)  \n",
    "\n",
    "\n",
    "|        | A | not A | Total |\n",
    "|:------ |:---- | :------- | :------ |\n",
    "| H  | 12 | 140 | 152 |\n",
    "| not H | 180 | 2053 | 2233 |\n",
    "| Total | 192 | 2193 | 2385 |\n",
    "\n",
    "p = 4.3e-54   \n",
    "\n",
    "What does this mean?"
   ]
  },
  {
   "cell_type": "markdown",
   "metadata": {
    "slideshow": {
     "slide_type": "slide"
    }
   },
   "source": [
    "## The punchline\n",
    "* A is whether the patient took aspirin\n",
    "* H is whether they (still?) have a headache an hour later"
   ]
  },
  {
   "cell_type": "markdown",
   "metadata": {
    "slideshow": {
     "slide_type": "fragment"
    }
   },
   "source": [
    "### ==> Frequentist tests often create illusions of causality\n",
    "\n",
    "In this case, we are tempted to conclude that the causality runs from A to H.\n",
    "\n",
    "In fact, our 'H' is probably left over from an earlier 'H' that was a likely cause for our 'A'.\n",
    "\n",
    "So the $\\chi^2$ rejection of $H_0$ is correct in having detected a relationship, but the relationship may be different than our first guess."
   ]
  },
  {
   "cell_type": "markdown",
   "metadata": {
    "collapsed": true,
    "slideshow": {
     "slide_type": "subslide"
    }
   },
   "source": [
    "### Causality\n",
    "\n",
    "Causality is a branch of statistcs (e.g. by Pearl, Rubin, and Imbens) that attempts to obtain better indicators of causality from the data, by modeling 'counterfactuals': un-measured, but relevant variables.  \n",
    "\n",
    "- Example: what is the effect of (possibly self-selectied) assignment to be in the aspirin group, separated from the effect of receiving aspirin?  \n",
    "\n",
    "Among traditional statisticians, the gold standard is still the 'double-blind study.' For our experiment, that would have required random assignment to A and not A groups (such as by giving some patients placebos.) This is clearly not possible for observational studies, and may be unethical."
   ]
  },
  {
   "cell_type": "markdown",
   "metadata": {
    "slideshow": {
     "slide_type": "slide"
    }
   },
   "source": [
    "### Side note on $\\chi^2$:\n",
    "What would the test say if actual H and not H data would have been as 'expected' from the prior test, **but** if we had only been able to collect H data for part of the A group?\n",
    "\n",
    "**Actual: missing data scenario** \n",
    "\n",
    "|        | A | not A | Total |\n",
    "|:------ |:---- | :------- | :------ |\n",
    "| H  | 12 | 140 | 152 |\n",
    "| not H | 180 | 2053 | 2233 |\n",
    "| N/A | 80 | 0 | 80 |\n",
    "\n",
    "Wht are two possible interpretations for these results?"
   ]
  },
  {
   "cell_type": "code",
   "execution_count": 10,
   "metadata": {
    "collapsed": false,
    "slideshow": {
     "slide_type": "subslide"
    }
   },
   "outputs": [
    {
     "name": "stdout",
     "output_type": "stream",
     "text": [
      "(666.63922292517759, 1.7423364878048128e-145, 2, array([[   16.77241379,   135.22758621],\n",
      "       [  246.4       ,  1986.6       ],\n",
      "       [    8.82758621,    71.17241379]]))\n",
      "Chi2 Value: 666.639222925\n",
      "p-value: 1.7423364878e-145\n",
      "dof: 2\n",
      "Expected Value Array:\n",
      "[[   16.77241379   135.22758621]\n",
      " [  246.4         1986.6       ]\n",
      " [    8.82758621    71.17241379]]\n"
     ]
    }
   ],
   "source": [
    "cont_table2 = np.array([[12,140],[180,2053],[80,0]])\n",
    "print st.chi2_contingency(cont_table2)\n",
    "chi2,pval,dof,exp_array = st.chi2_contingency(cont_table2)\n",
    "\n",
    "print \"Chi2 Value: {0}\\np-value: {1}\\ndof: {2}\\nExpected Value Array:\\n{3}\".format(chi2,pval,dof,exp_array)"
   ]
  },
  {
   "cell_type": "markdown",
   "metadata": {},
   "source": [
    "## Statistical power calculations: planning ahead for how much data to collect as evidence for an estimated effect\n",
    "So far, we have talked about how to **interpret** given data.  \n",
    "Now, we discuss how to plan ahead to collect data that will support a desired interpretation."
   ]
  },
  {
   "cell_type": "markdown",
   "metadata": {
    "slideshow": {
     "slide_type": "slide"
    }
   },
   "source": [
    "## Statistical Power\n",
    "Recap: the two kinds of errors: Type I, Type II"
   ]
  },
  {
   "cell_type": "markdown",
   "metadata": {
    "slideshow": {
     "slide_type": "subslide"
    }
   },
   "source": [
    "##  Type I and Type II errors\n",
    "\n",
    "Type I error: (paranoid: see something that's not really there)\n",
    "\n",
    "*   Rejecting $H_0$ when it is true\n",
    "*   Example:\n",
    "    -   $H_0:$   defendant is innocent\n",
    "    -   Convicting someone who is innocent\n",
    "\n",
    "Type II error: (asleep: don't notice something that is really there)\n",
    "\n",
    "*   Failing to reject $H_0$ when it is false\n",
    "*   Example:\n",
    "    -   $H_A:$  defendant is guilty\n",
    "    -   Acquitting someone who is guilty"
   ]
  },
  {
   "cell_type": "markdown",
   "metadata": {
    "slideshow": {
     "slide_type": "slide"
    }
   },
   "source": [
    "##  $H_0$ vs. $H_A$\n",
    "\n",
    "![$H_0$ vs. $H_A$](images/testing.png)"
   ]
  },
  {
   "cell_type": "markdown",
   "metadata": {
    "slideshow": {
     "slide_type": "slide"
    }
   },
   "source": [
    "##  Power\n",
    "\n",
    "Power is the probability of not making a Type II error, i.e., rejecting $H_0$ when $H_A$ is true:\n",
    "\n",
    "*   $\\alpha = \\Pr[ \\texttt{reject } H_0 | H_0 \\texttt{ is true}]$\n",
    "*   $\\beta = \\Pr[ \\texttt{reject } H_A | H_A \\texttt{ is true}]$\n",
    "*   $\\beta$ is similar to $\\alpha$, but if $H_A$ is true\n",
    "*   $\\mathit{power} = 1 - \\beta$\n",
    "*   An experiment with high power is more likely to reject $H_0$ when it is false\n",
    "*   Typically, set $\\mathit{power} = 1 - \\beta = 0.80$"
   ]
  },
  {
   "cell_type": "markdown",
   "metadata": {
    "slideshow": {
     "slide_type": "subslide"
    }
   },
   "source": [
    "### Related terminology: Sensitivity and Specificity, Precision, Recall\n",
    "* How **sensitive** is a test at detecting $H_a$ (= rejecting $H_0$) when $H_a$ is true?  \n",
    "$1 - \\beta$ = power = '**recall**'\n",
    "\n",
    "* How **specific** is the test at not being positive (i.e. not rejecting $H_0$) when in real life the $H_0$ is correct?\n",
    "$1 - \\alpha$\n",
    "\n",
    "Caution: '**precision**' goes backward from statistical test to reality: if test is positive (i.e. reject $H_0$), what is the probability $H_0$ is really false?\n",
    "\n",
    "![$H_0$ vs. $H_A$](images/testing.png)"
   ]
  },
  {
   "cell_type": "markdown",
   "metadata": {
    "slideshow": {
     "slide_type": "slide"
    }
   },
   "source": [
    "##  Given distributions with (different) sample means $\\mu_a$ and $\\mu_b$ and sample standard deviations $s$, what are the cutoffs and areas?\n",
    "\n",
    "![$H_0$ vs. $H_A$](images/H0_vs_HA.png)"
   ]
  },
  {
   "cell_type": "markdown",
   "metadata": {
    "slideshow": {
     "slide_type": "slide"
    }
   },
   "source": [
    "### Background: recap of z-scores\n",
    "\n",
    "Realizations $\\{x_i\\}$ of a random variable X are converted into z-scores \\{z(x_i)\\}$. \n",
    "\n",
    "* What is the (approximate) statistical distribution of the $\\{x_i\\}$?\n",
    "\n",
    "* What are their (approximate) mean $\\mu$ and standard deviation $s$?"
   ]
  },
  {
   "cell_type": "markdown",
   "metadata": {
    "slideshow": {
     "slide_type": "fragment"
    }
   },
   "source": [
    "* On the other hand, if we had computed averages of disjoint groups of say 100 $\\{z(x_i)\\}$ at a time, what would be their approximate distribution?"
   ]
  },
  {
   "cell_type": "markdown",
   "metadata": {
    "slideshow": {
     "slide_type": "subslide"
    }
   },
   "source": [
    "### Background: recap of z-scores\n",
    "\n",
    "Realizations $\\{x_i\\}$ of a random variable X are converted into z-scores. \n",
    "\n",
    "* What is the (approximate) statistical distribution of the $\\{x_i\\}$?   \n",
    "\n",
    "Trick question! Answer: same distribution as before, except re-scaled.  \n",
    "In particular, if X was not normally distributed, neither are the z-scores of the $\\{x_i\\}$\n",
    "\n",
    "* What are their (approximate) mean $\\mu$ and standard deviation $s$?  \n",
    "\n",
    "0 and 1\n",
    "\n",
    "* On the other hand, if we had computed averages of disjoint groups of say 100 $\\{z(x_i)\\}$ at a time, what would be their approximate distribution?  \n",
    "\n",
    "Careful! N(0, 0.1) - note that averages of n elements have standard deviation $\\sqrt(n)$ times smaller."
   ]
  },
  {
   "cell_type": "code",
   "execution_count": null,
   "metadata": {
    "collapsed": true,
    "slideshow": {
     "slide_type": "subslide"
    }
   },
   "outputs": [],
   "source": [
    "import scipy.stats as st\n",
    "st.norm.ppf(alpha)"
   ]
  },
  {
   "cell_type": "markdown",
   "metadata": {
    "slideshow": {
     "slide_type": "slide"
    }
   },
   "source": [
    "##  Given distributions with (different) sample means $\\mu_a$ and $\\mu_b$ and sample standard deviations $s$, what are the cutoffs and areas?\n",
    "\n",
    "$\\alpha$: blue shaded area - desired limit chosen in advance. Cutoff related to $z_{1-\\alpha}$  \n",
    "$\\beta$: pink shaded area. Cutoff related to $z_\\beta$\n",
    "\n",
    "![$H_0$ vs. $H_A$](images/H0_vs_HA.png)"
   ]
  },
  {
   "cell_type": "markdown",
   "metadata": {
    "slideshow": {
     "slide_type": "slide"
    }
   },
   "source": [
    "## The mighty power formula:\n",
    "\n",
    "$$n \\geq ((Z_{1-\\beta} - Z_\\alpha) * \\frac{s}{\\mu_b - \\mu_a})^2$$\n",
    "\n",
    "(Cut over to demo)\n",
    "\n",
    "TODO: write in derivation"
   ]
  },
  {
   "cell_type": "markdown",
   "metadata": {
    "slideshow": {
     "slide_type": "slide"
    }
   },
   "source": [
    "##  Trade-off: significance level vs. power\n",
    "\n",
    "You must trade-off significance level and power:\n",
    "\n",
    "*   Decreasing chance of Type I error will increase chance of Type II error\n",
    "*   Wise men recommend:\n",
    "\n",
    "| Term                          | Value     |\n",
    "| :-----------                  | :----     |\n",
    "| Significance level ($\\alpha$) | $0.05$    |\n",
    "| Confidence level              | $95\\%$    |\n",
    "| Power ($1 - \\beta$)           | $0.80$    |"
   ]
  },
  {
   "cell_type": "markdown",
   "metadata": {
    "slideshow": {
     "slide_type": "subslide"
    }
   },
   "source": [
    "##  Factors affecting measurement of a signal\n",
    "\n",
    "To increase probability of measuring a signal (rejecting $H_0$):\n",
    "\n",
    "*   Increase number of observations, $n$\n",
    "*   Increase effect size, i.e., $\\theta_A - \\theta_0$\n",
    "*   Decrease noise, $\\sigma^2$"
   ]
  },
  {
   "cell_type": "markdown",
   "metadata": {
    "slideshow": {
     "slide_type": "slide"
    }
   },
   "source": [
    "## Real-life 'modern' frequentist statistics: A/B testing\n",
    "\n",
    "![A/B test](images/AB_test.png)"
   ]
  },
  {
   "cell_type": "markdown",
   "metadata": {
    "slideshow": {
     "slide_type": "subslide"
    }
   },
   "source": [
    "### Setup: A/B Test our website’s homepage (I)\n",
    "\n",
    "Our current homepage has a signup conversion rate of 6%. (The standard deviation would be 0.24.)\n",
    "\n",
    "We want to test a new homepage design to see if we can get a 7% signup rate.  We’ll want an experiment where alpha is 1% and power is 95%.\n",
    "\n",
    "How many visitors must visit the new homepage in order to fulfill the requirements of this experiment?\n"
   ]
  },
  {
   "cell_type": "markdown",
   "metadata": {
    "slideshow": {
     "slide_type": "fragment"
    }
   },
   "source": [
    "$$n \\geq 9084$$"
   ]
  },
  {
   "cell_type": "markdown",
   "metadata": {
    "slideshow": {
     "slide_type": "slide"
    }
   },
   "source": [
    "### Setup: A/B Test our website’s homepage (II)\n",
    "\n",
    "Our current homepage has a signup conversion rate of 1%. (The standard deviation would be 0.099.)\n",
    "\n",
    "We want to test a new homepage design to see if we can get a 1.2% signup rate.  We’ll want an experiment where alpha is 1% and power is 95%.\n",
    "\n",
    "How many visitors must visit the new homepage in order to fulfill the requirements of this experiment?\n"
   ]
  },
  {
   "cell_type": "markdown",
   "metadata": {
    "slideshow": {
     "slide_type": "fragment"
    }
   },
   "source": [
    "$$n \\geq 39427$$"
   ]
  },
  {
   "cell_type": "markdown",
   "metadata": {
    "slideshow": {
     "slide_type": "slide"
    }
   },
   "source": [
    "### Setup: A/B Test our website’s homepage (III)\n",
    "\n",
    "Our current homepage has a signup conversion rate of 20%. (The standard deviation would be 0.4.)\n",
    "\n",
    "We want to test a new homepage design to see if we can get a 30% signup rate.  We’ll want an experiment where alpha is 1% and power is 95%.\n",
    "\n",
    "How many visitors must visit the new homepage in order to fulfill the requirements of this experiment?\n"
   ]
  },
  {
   "cell_type": "markdown",
   "metadata": {
    "slideshow": {
     "slide_type": "fragment"
    }
   },
   "source": [
    "$$n \\geq 243 $$"
   ]
  },
  {
   "cell_type": "markdown",
   "metadata": {
    "slideshow": {
     "slide_type": "slide"
    }
   },
   "source": [
    "## Summary: Statistical Power\n",
    "\n",
    "* Know how to avoid misuse and misinterpretation of frequentist tests\n",
    "* Understand statistical power in relation to Type II errors\n",
    "* Understand the tradeoffs between power, significance, effect size, and sample size/cost\n",
    "* Calculate sample size for a given power and estimated effect size\n"
   ]
  },
  {
   "cell_type": "markdown",
   "metadata": {
    "slideshow": {
     "slide_type": "slide"
    }
   },
   "source": [
    "## Afternoon: Bayesian Inference\n",
    "* Frequentist vs. Bayesian approaches\n",
    "* Work with Bayes rule to compute posterior probability\n",
    "* Prior, likelihood and posterior distributions"
   ]
  },
  {
   "cell_type": "markdown",
   "metadata": {
    "slideshow": {
     "slide_type": "slide"
    }
   },
   "source": [
    "# Three coins problem - a second look\n",
    "\n",
    "Three coins are in an Urn.  \n",
    "\n",
    "Coin $B_1$ has sides HH (i.e. heads on each side)  \n",
    "Coin $B_2$ has sides HT (like a normal fair coin)  \n",
    "Coin $B_3$ has sides TT (tails on each side.)\n",
    "\n",
    "Pull out a coin and flip it. It comes up H.\n",
    "\n",
    "What is the probability the same coin comes out H if you flip it a second time?"
   ]
  },
  {
   "cell_type": "code",
   "execution_count": 14,
   "metadata": {
    "collapsed": false,
    "slideshow": {
     "slide_type": "slide"
    }
   },
   "outputs": [
    {
     "data": {
      "text/html": [
       "<div>\n",
       "<table border=\"1\" class=\"dataframe\">\n",
       "  <thead>\n",
       "    <tr style=\"text-align: right;\">\n",
       "      <th></th>\n",
       "      <th>second</th>\n",
       "    </tr>\n",
       "    <tr>\n",
       "      <th>first</th>\n",
       "      <th></th>\n",
       "    </tr>\n",
       "  </thead>\n",
       "  <tbody>\n",
       "    <tr>\n",
       "      <th>False</th>\n",
       "      <td>0.173913</td>\n",
       "    </tr>\n",
       "    <tr>\n",
       "      <th>True</th>\n",
       "      <td>0.851852</td>\n",
       "    </tr>\n",
       "  </tbody>\n",
       "</table>\n",
       "</div>"
      ],
      "text/plain": [
       "         second\n",
       "first          \n",
       "False  0.173913\n",
       "True   0.851852"
      ]
     },
     "execution_count": 14,
     "metadata": {},
     "output_type": "execute_result"
    }
   ],
   "source": [
    "# As tested by simulation:\n",
    "import random\n",
    "import pandas as pd\n",
    "coins = ['HH', 'HT', 'TT']\n",
    "results = []\n",
    "for i in range(100):\n",
    "    coin = random.choice(coins)\n",
    "    results.append([random.choice(coin) for i in [1,2]])\n",
    "df = pd.DataFrame(results, columns=['first', 'second']) == 'H'\n",
    "df.groupby('first').mean()"
   ]
  },
  {
   "cell_type": "markdown",
   "metadata": {
    "slideshow": {
     "slide_type": "subslide"
    }
   },
   "source": [
    "# Our old solution\n",
    "\n",
    "$ P(X_2 = H) = 1/2 $\n",
    "\n",
    "$ P(X_2 = H | X_1 = H) = \\frac{5}{6} \\ne \\frac{1}{2} = P(X_2=H) $\n",
    "\n",
    "Originally, each coin had a probability 1/3 of being picked. Now it is impossible for the coin picked to have been the third, and it is now twice as likely that the coin picked is the second."
   ]
  },
  {
   "cell_type": "markdown",
   "metadata": {
    "slideshow": {
     "slide_type": "subslide"
    }
   },
   "source": [
    "# Old solution uses conditional probability\n",
    "\n",
    "$ P(B|A) = P(A \\cap B) / P(A) $\n",
    "\n",
    "in other words\n",
    "\n",
    "$ P(X_2=H | X_1=H) = P(X_2 = H \\cap X_1 = H) / P(X_1=H) = \\frac{\\frac{1}{3} + \\frac{1}{3}\\frac{1}{4}}{\\frac{1}{2}}$\n",
    "\n",
    "Now let's look at this using Bayes formula."
   ]
  },
  {
   "cell_type": "markdown",
   "metadata": {
    "slideshow": {
     "slide_type": "slide"
    }
   },
   "source": [
    "## Bayes Rule\n",
    "Allows us to compute $P(B|A)$ using information about $P(A|B)$\n",
    "\n",
    "$$P(B|A) = \\frac{P(A|B)P(B)}{P(A)}$$\n",
    "\n",
    "### Proof (remember this if nothing else):  \n",
    "\n",
    "The probability for the intersection can be obtained from either end of the equation below:\n",
    "\n",
    "$$P(B|A) * P(A) = P(A \\cap B) = P(A|B)* P(B)$$\n",
    "\n",
    "### The reson this is helpful: often, it is easier to compute conditional probabilities going in one direction, but you really want conditional probabilities going in the other \"hard\" direction"
   ]
  },
  {
   "cell_type": "markdown",
   "metadata": {
    "slideshow": {
     "slide_type": "slide"
    }
   },
   "source": [
    "## Bayes Rule\n",
    "Bayes' Rule helps when all you know about $P(B)$ is an initial guess - the **prior**, and you are trying to figure out how additional evidence (A) alters this guess. \n",
    "\n",
    "However, it is easier to make conclusions $P(A|B)$ about A from B (the **likelihood**) than what you want - the **posterior probability** $P(B|A)$:\n",
    "\n",
    "$$P(B|A) = \\frac{P(A|B)P(B)}{P(A)}$$\n",
    "\n",
    "Here, the denominator $P(A)$ might seem hard to compute, but can be obtained using the **Law of Total Probability**\n"
   ]
  },
  {
   "cell_type": "markdown",
   "metadata": {
    "slideshow": {
     "slide_type": "slide"
    }
   },
   "source": [
    "# Law of Total Probability (LOTP)\n",
    "\n",
    "If $\\{B_n\\}$ is a partition of a sample space $ X $, meaning $ \\cup_i B_i = X$ and $B_i \\cap B_j=\\emptyset$  $ \\forall i, j$\n",
    "\n",
    "Then for any event $A \\subset X$  \n",
    "\n",
    "$ P(A) = \\sum P(A\\cap B_i) $\n",
    "\n",
    "or\n",
    "\n",
    "$ P(A) = \\sum P(A|B_i) P(B_i)$  \n"
   ]
  },
  {
   "cell_type": "markdown",
   "metadata": {
    "slideshow": {
     "slide_type": "slide"
    }
   },
   "source": [
    "## Back to Bayes Rule\n",
    "Assuming a partition $\\{B_n\\}$, you can thus re-write the denominator as follows (for any i):\n",
    "\n",
    "$$P(B_i|A) = \\frac{P(A|B_i)P(B_i)}{P(A)}$$\n",
    "\n",
    "$$ = \\frac{P(A|B_i)P(B_i)}{\\sum P(A|B_i) P(B_i)}$$\n",
    "\n",
    "Now, all of the conditional probabilities go in the 'easy' direction from $B_i$'s to $A$.\n"
   ]
  },
  {
   "cell_type": "markdown",
   "metadata": {
    "slideshow": {
     "slide_type": "slide"
    }
   },
   "source": [
    "## Back to the coin problem\n",
    "\n",
    "Our question asks which of three disjoint events has occurred: whether the coin chosen is $B_1$ (HH), $B_2$ (HT) or $B_3$ (TT).\n",
    "\n",
    "We want to know about the outcome A = 'the coin comes up heads'\n",
    "\n",
    "This might seem tricky, but it is easier to reason from $B_i$ to $A$:  \n",
    "$P(A|B_1) = 1$, $P(A|B_2) = 1/2$, and $P(A|B_3) = 0$\n",
    "\n",
    "Our prior probability for each $B_i = \\frac{1}{3}$\n",
    "\n",
    "Plugging this into Bayes formula gives:\n",
    "\n",
    "$$P(B_i|A) = \\frac{P(A|B_i)P(B_i)}{\\sum P(A|B_i) P(B_i)} = \\frac{P(A|B_i)P(B_i)}{1 * 1/3 + 1/2 * 1/3 + 0 * 1/3} = P(A|B_i)P(B_i) * 2$$\n"
   ]
  },
  {
   "cell_type": "markdown",
   "metadata": {
    "slideshow": {
     "slide_type": "slide"
    }
   },
   "source": [
    "## Back to the coin problem \n",
    "Note that we had already evaluated each possibility for the numerator when computing the denominator.  \n",
    "\n",
    "It follows that $P(B_1|A) = 2/3$, $P(B_2|A) = 1/3$, and $P(B_3|0) = 0$\n",
    "\n",
    "We can now use our *posterior* probabilities of the $B_i$ to calculate the probability of a second H coin flip:\n",
    "\n",
    "$$P(A|{posterior P(B_i)}) = 2/3 * 1 + 1/3 * 1/2 = 5/6$$\n",
    "\n",
    "This might seem like a long path to a result that took us fewer lines earlier, but now we have the additional estimates of probabilities for each the coins.\n",
    "\n",
    "Further coin flip results would continue to alter these!"
   ]
  },
  {
   "cell_type": "markdown",
   "metadata": {
    "slideshow": {
     "slide_type": "slide"
    }
   },
   "source": [
    "## 'Reliable' test for rare disease - a famously counterintuitive example\n",
    "\n",
    "A fairly reliable diagnostic test T exists for a rare disease D. The result of the test is either positive ($T_+$) or negative ($T_-$)\n",
    "\n",
    "|Conditional Events | Probability |\n",
    "| --------- | ----------- |\n",
    "| $ P(T_+|D)$ | .99 |\n",
    "| $ P(T_+|\\neg D)$ | .05 |\n",
    "| $P(D)$ | .005 |\n",
    "\n",
    "So for someone who tests positive, what is their probability of having the disease ($ P(D | T_+) $)?\n",
    "\n",
    "First, give a quick rough answer!  \n",
    "In particular, are they more likely to have the disease or not?"
   ]
  },
  {
   "cell_type": "markdown",
   "metadata": {
    "collapsed": true,
    "slideshow": {
     "slide_type": "subslide"
    }
   },
   "source": [
    "## ## 'Reliable' test for rare disease: Rough answer $P(D|T_+) \\approx 1/11$\n",
    "There are two ways to test positive: $P(T_+D)$ and $P(T_+ \\neg D)$.  \n",
    "\n",
    "The rare events gating these are respectively $P(D) = .005$ and $ P(T_+ \\neg D) = .05$\n",
    "\n",
    "Because $D$ and $\\neg D$ partition the space, Bayes theorem says:\n",
    "\n",
    "$$P(D|T_+) = \\frac{P(T_+|D)P(D)}{(T_+|D)P(D) + (T_+| \\neg D)P( \\neg D)} \\approx \\frac{.005}{.005 + .05} = \\frac{1}{11}$$\n",
    "\n",
    "From this, we obtain a quick estimate by ignoring terms close to 1.\n",
    "\n",
    "If the test were less reliable ($P(T_+|D) << 1$), we would need that in an estimate as well."
   ]
  },
  {
   "cell_type": "markdown",
   "metadata": {
    "collapsed": true,
    "slideshow": {
     "slide_type": "subslide"
    }
   },
   "source": [
    "## 'Reliable' test for rare disease\n",
    "This probability update of D goes in the right direction, from $0.005$ to $.091$.\n",
    "\n",
    "Even so, it may seem surprisingly slow to update as we'd wish!"
   ]
  },
  {
   "cell_type": "markdown",
   "metadata": {
    "collapsed": true,
    "slideshow": {
     "slide_type": "slide"
    }
   },
   "source": [
    "## Bayesian Updating: Accumulation of evidence\n",
    "\n",
    "In today's pairs sprint, you'll implement a discrete approximation to the following:\n",
    "\n",
    "![Bayesian updating](images/bayesianUpdate.png)"
   ]
  },
  {
   "cell_type": "markdown",
   "metadata": {},
   "source": [
    "## Bayesian Updating: Accumulation of evidence (II)\n",
    "\n",
    "Observe how situations impossible from the data are updated to 0 (e.g. p=1 when any tails have been seen.)\n",
    "\n",
    "After many updates, the posterior distribution starts resembling a normal distribution calculated via MOM or MLE."
   ]
  },
  {
   "cell_type": "markdown",
   "metadata": {},
   "source": [
    "## The fierce ideological war between Bayesians and 'Frequentists': XKCD#1132\n",
    "    \n",
    "![xkcd Bayes vc Freq](images/xkcd1132.png)    "
   ]
  },
  {
   "cell_type": "markdown",
   "metadata": {},
   "source": [
    "## The fierce ideological war between Bayesians and 'Frequentists': XKCD#1132\n",
    "    \n",
    "![xkcd Bayes vc Freq](images/xkcd1132b.png)    "
   ]
  },
  {
   "cell_type": "markdown",
   "metadata": {
    "slideshow": {
     "slide_type": "slide"
    }
   },
   "source": [
    "#  Summary\n",
    "\n",
    "\n",
    "##  Summary\n",
    "\n",
    "**Q**:  When do you use factorial vs. permutation vs. combination?\n",
    "\n",
    "**Q**:  What is independence?\n",
    "\n",
    "**Q**:  What is conditional probability? How do I use Bayes's rule?\n",
    "\n",
    "**Q**:  What are the PDF and CDF?\n",
    "\n",
    "**Q**:  What are moments and which should you use to characterize a distribution?  How do you calculate them?\n",
    "\n",
    "**Q**:  What is a quantile?\n",
    "\n",
    "**Q**:  What are some common distributions?  What type of processes do they model?"
   ]
  },
  {
   "cell_type": "code",
   "execution_count": null,
   "metadata": {
    "collapsed": true
   },
   "outputs": [],
   "source": []
  },
  {
   "cell_type": "code",
   "execution_count": null,
   "metadata": {
    "collapsed": true
   },
   "outputs": [],
   "source": []
  },
  {
   "cell_type": "code",
   "execution_count": null,
   "metadata": {
    "collapsed": true
   },
   "outputs": [],
   "source": []
  }
 ],
 "metadata": {
  "celltoolbar": "Slideshow",
  "kernelspec": {
   "display_name": "Python 2",
   "language": "python",
   "name": "python2"
  },
  "language_info": {
   "codemirror_mode": {
    "name": "ipython",
    "version": 2
   },
   "file_extension": ".py",
   "mimetype": "text/x-python",
   "name": "python",
   "nbconvert_exporter": "python",
   "pygments_lexer": "ipython2",
   "version": "2.7.12"
  }
 },
 "nbformat": 4,
 "nbformat_minor": 0
}
