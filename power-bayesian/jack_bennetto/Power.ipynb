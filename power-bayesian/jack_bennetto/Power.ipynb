{
 "cells": [
  {
   "cell_type": "markdown",
   "metadata": {},
   "source": [
    "# Power Calculations\n",
    "### Jack Bennetto\n",
    "#### March 12, 2017"
   ]
  },
  {
   "cell_type": "code",
   "execution_count": 1,
   "metadata": {
    "collapsed": true
   },
   "outputs": [],
   "source": [
    "import numpy as np\n",
    "from scipy import stats\n",
    "import matplotlib.pyplot as plt\n",
    "%matplotlib inline"
   ]
  },
  {
   "cell_type": "markdown",
   "metadata": {},
   "source": [
    "## Objectives\n",
    "\n",
    " * Define power, significance, standard deviation, effect size and sample size, and explain their relationship\n",
    " * Compute the sample size needed for an experiment"
   ]
  },
  {
   "cell_type": "markdown",
   "metadata": {},
   "source": [
    "## Agenda\n",
    "\n",
    "In the morning we'll talk about power calculations when doing Frequentist A/B testing. In the afternoon we'll move on to Bayesian statistics.\n",
    "\n",
    "* Review of A/B testing\n",
    "* Types of Errors and Power\n",
    "* Calculating sample size"
   ]
  },
  {
   "cell_type": "markdown",
   "metadata": {},
   "source": [
    "## Morning Lecture: Power Calculations"
   ]
  },
  {
   "cell_type": "markdown",
   "metadata": {},
   "source": [
    "### A/B Testing\n",
    "\n",
    "In the last class we talked about Frequentist A/B testing. In this, you set up some test to measure some number of values and decide how surprised you need to be to reject the null hypothesis. This significance level, called $\\alpha$, is often something like 0.05, i.e., if there's less than a 5% chance your results (or something even more extreme) could have happened by chance given the null hypothesis, then you assume that hypothesis is wrong.\n",
    "\n",
    "\n",
    "Of course, you might be wrong and reject the null hypothesis even though it's correct just because of the sample of data you took. That is called a **false positive** or **type I error**. It's positive because you have a positive result (rejecting null) and it's false because it's wrong. I remember that's a type I errors because false positive is much more common than false negative in casual conversation.\n",
    "\n",
    "The lower you set $\\alpha$, the less likely you'll get a type-I error.\n",
    "\n",
    "But there's a trade-off. The opposite situation is a **false negative** or **type II error**, when the null hypothesis is wrong but you fail to reject it. The probability of a type-II error (assuming the null hypothesis is wrong) is $\\beta$.\n",
    "\n",
    "The lower you set $\\alpha$ the higher $\\beta$ will be, and vise versa.\n",
    "\n",
    "**Power**, defined as $1 - \\beta$, is the probability that you're correctly able the reject the null hypothesis assuming that it is in fact false.\n",
    "\n",
    "\n",
    "|               | Reject $H_0$            | Fail to reject $H_0$\n",
    "|---------------|-------------------------|---------------\n",
    "|**$H_0$ false**| Correct ($1-\\beta$)     | Type II error ($\\beta$)\n",
    "|**$H_0$ true** | Type I error ($\\alpha$) | Correct ($1-\\alpha$)"
   ]
  },
  {
   "cell_type": "markdown",
   "metadata": {},
   "source": [
    "#### An aside on terminology\n",
    "\n",
    "Generally confusion matrices are discussed in the context of predictive statistics, but it's the same concept so I'm including this here to put the various terms in context. Each of the boxes below is a type of success or failure, and each of the terms is the ratio of the total of one box over two other boxes. The rectangles are in the box corresponding to the numerator; the arrows stretch across the boxes of the denominator. So, for example, Sensitivity (a.k.a. TPR, Recall, or Power) is the ratio of the number (or probability) of true positives over true positives plus false negatives.\n",
    "\n",
    "Here we're interested in Power, $\\alpha$, and $\\beta$.\n",
    "\n",
    "![confusion matrix](Confusion Matrix.png)"
   ]
  },
  {
   "cell_type": "markdown",
   "metadata": {
    "collapsed": true
   },
   "source": [
    "## Plotting the power\n",
    "\n",
    "Here's a function to do power calculations and plot them."
   ]
  },
  {
   "cell_type": "code",
   "execution_count": 2,
   "metadata": {
    "collapsed": true
   },
   "outputs": [],
   "source": [
    "def plot_power(n, sigma, effect_size, critical_value):\n",
    "    standard_error = sigma / n**0.5\n",
    "\n",
    "    fig, ax = plt.subplots(figsize=(10,6))\n",
    "    x = np.linspace(-3, 8, 200)\n",
    "    xpos = x[x >= critical_value]\n",
    "    xneg = x[x <= critical_value]\n",
    "\n",
    "    h0 = stats.norm(0, standard_error)\n",
    "    ha = stats.norm(effect_size, standard_error)\n",
    "\n",
    "    ax.plot(x, h0.pdf(x), color='red', label='$H_0$')\n",
    "    ax.plot(x, ha.pdf(x), color='blue', label='$H_A$')\n",
    "    ax.fill_between(xpos, 0, h0.pdf(xpos), color='red', alpha=0.2, label=\"$\\\\alpha$\")\n",
    "    ax.fill_between(xneg, 0, ha.pdf(xneg), color='blue', alpha=0.2, label=\"$\\\\beta$\")\n",
    "    ax.fill_between(xpos, 0, ha.pdf(xpos), color='black', hatch='////', alpha=0.2, label=\"Power\")\n",
    "    ax.axvline(critical_value, color='black', label='critical value')\n",
    "    ax.set_xlabel(\"sample mean\")\n",
    "    ax.set_ylabel(\"pdf\")\n",
    "    ax.set_ylim(ymin=0.0)\n",
    "    ax.legend()\n",
    "\n",
    "    print(\"standard deviation = {0:7.4f}\".format(sigma))\n",
    "    print(\"sample size (n)    = {0:7d}\".format(n))\n",
    "    print(\"   standard error  = {0:7.4f}\".format(standard_error))\n",
    "    print(\"alpha              = {0:7.4f}\".format(1-h0.cdf(critical_value)))\n",
    "    print(\"effect size        = {0:7.4f}\".format(effect_size))\n",
    "    print(\"power              = {0:7.4f}\".format(1-ha.cdf(critical_value)))\n",
    "    print(\"   beta            = {0:7.4f}\".format(ha.cdf(critical_value)))"
   ]
  },
  {
   "cell_type": "markdown",
   "metadata": {},
   "source": [
    "The **effect size** is the amount of difference we hope to detect with our study. If we will only recommend a drug if it will lower blood pressure by at least 10 mm Hg, that's the effect size. In the picture above and calculations below we take the most conservative approach for the effect size. It's possible that effect will be much bigger but that will be *even easier* to detect.\n",
    "\n",
    "We usually don't know the **standard deviation** $\\sigma$ beforehand, and we may need to do a pilot study to estimate this. This part of the calculation involves the most hand waving.\n",
    "\n",
    "We've already talked about $\\alpha$ and **power** (or $1-\\beta$). When we create a study, we generally decide what values we need for these for these. It's common to choose 0.05 for $\\alpha$ and 0.80 for power, but ultimately we should choose these based on the cost of Type-I and Type-II errors.\n",
    "\n",
    "The remaining factor is **sample size** n, the number of data in our sample. In general we are trying to calculate this from the other factors."
   ]
  },
  {
   "cell_type": "code",
   "execution_count": 3,
   "metadata": {},
   "outputs": [
    {
     "name": "stdout",
     "output_type": "stream",
     "text": [
      "standard deviation = 10.0000\n",
      "sample size (n)    =     100\n",
      "   standard error  =  1.0000\n",
      "alpha              =  0.0013\n",
      "effect size        =  3.5000\n",
      "power              =  0.6915\n",
      "   beta            =  0.3085\n"
     ]
    },
    {
     "data": {
      "image/png": "[encoded data removed]",
      "text/plain": [
       "<matplotlib.figure.Figure at 0x115d862b0>"
      ]
     },
     "metadata": {},
     "output_type": "display_data"
    }
   ],
   "source": [
    "plot_power(n=100, sigma=10.0, effect_size=3.5, critical_value=3)"
   ]
  },
  {
   "cell_type": "markdown",
   "metadata": {},
   "source": [
    "### Calculating sample size\n",
    "\n",
    "If the samples are large enough the sample means falls in a normal distribution by the **central limit theorem**. The standard deviation of this distribution is called the **standard error** and is given by\n",
    "\n",
    "$$SE = \\frac{\\sigma}{\\sqrt{n}}$$\n",
    "\n",
    "where $\\sigma$ is the standard deviation of the original distribution and $n$ is the sample size.\n",
    "\n",
    "Next we need to calculate the Z-scores corresponding to our chosen $\\alpha$ and $\\beta$. For this we use the quantile (or percent probability) function, which is the inverse of the cdf.\n",
    "\n",
    "For the minimum value of $n$, the distance from the $\\mu_0$ to the critical value is $SE \\cdot Z_\\alpha$, and the distance of the critical value to $\\mu_A$ is $SE \\cdot Z_\\beta$. So\n",
    "\n",
    "$$\\begin{align}\n",
    "\\mu_A - \\mu_0 & = SE \\cdot (Z_\\beta + Z_\\alpha) \\\\\n",
    "              & = \\frac{\\sigma}{\\sqrt{n}} (Z_\\beta + Z_\\alpha)\n",
    "\\end{align}\n",
    "$$\n",
    "\n",
    "so\n",
    "\n",
    "$$ n \\ge \\left( \\frac{\\sigma ( Z_\\beta + Z_\\alpha )}{\\mu_A - \\mu_0} \\right)^2 $$"
   ]
  },
  {
   "cell_type": "code",
   "execution_count": 5,
   "metadata": {
    "collapsed": true
   },
   "outputs": [],
   "source": [
    "def calculate_sample_size(sigma, effect_size, alpha=0.05, power=0.80):\n",
    "    beta = 1 - power\n",
    "    return ((sigma*(stats.norm(0,1).ppf(beta) + stats.norm(0,1).ppf(alpha)))/effect_size)**2"
   ]
  },
  {
   "cell_type": "code",
   "execution_count": 6,
   "metadata": {},
   "outputs": [
    {
     "data": {
      "text/plain": [
       "154.56393080049426"
      ]
     },
     "execution_count": 6,
     "metadata": {},
     "output_type": "execute_result"
    }
   ],
   "source": [
    "calculate_sample_size(10, 2, alpha=0.05, power=0.80)"
   ]
  },
  {
   "cell_type": "markdown",
   "metadata": {},
   "source": [
    "### Relationship of factors\n",
    "\n",
    "As a summary, here are how the factors relate. This should be read as, for example, \"Holding everything else constant, if **Effect size** is **Larger** then **Power** is **Larger**.\n",
    "\n",
    "| Factor            | Direction |\n",
    "|-------------------|------|----\n",
    "| Power             | Larger | Smaller\n",
    "| Effect size       | Larger | Smaller\n",
    "| Sample size       | Larger | Smaller\n",
    "| Standard deviation| Smaller| Larger\n",
    "| Significance level| Smaller| Larger"
   ]
  },
  {
   "cell_type": "code",
   "execution_count": null,
   "metadata": {
    "collapsed": true
   },
   "outputs": [],
   "source": []
  }
 ],
 "metadata": {
  "anaconda-cloud": {},
  "kernelspec": {
   "display_name": "Python 3",
   "language": "python",
   "name": "python3"
  },
  "language_info": {
   "codemirror_mode": {
    "name": "ipython",
    "version": 3
   },
   "file_extension": ".py",
   "mimetype": "text/x-python",
   "name": "python",
   "nbconvert_exporter": "python",
   "pygments_lexer": "ipython3",
   "version": "3.6.6"
  }
 },
 "nbformat": 4,
 "nbformat_minor": 2
}
