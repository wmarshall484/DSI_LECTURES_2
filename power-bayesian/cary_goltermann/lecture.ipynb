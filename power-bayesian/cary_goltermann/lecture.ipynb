{
 "cells": [
  {
   "cell_type": "markdown",
   "metadata": {},
   "source": [
    "## Interactive Visualization\n",
    "\n",
    "http://rpsychologist.com/d3/NHST/"
   ]
  },
  {
   "cell_type": "code",
   "execution_count": 1,
   "metadata": {
    "collapsed": true
   },
   "outputs": [],
   "source": [
    "import scipy.stats as scs"
   ]
  },
  {
   "cell_type": "markdown",
   "metadata": {},
   "source": [
    "$ n > \\left( (Z_{(1-\\beta)} -Z_\\alpha) \\frac{s}{ \\mu_A-\\mu_0} \\right)^2 $"
   ]
  },
  {
   "cell_type": "code",
   "execution_count": 4,
   "metadata": {
    "collapsed": false
   },
   "outputs": [
    {
     "data": {
      "text/plain": [
       "<bound method norm_gen.ppf of <scipy.stats._continuous_distns.norm_gen object at 0x10b86da50>>"
      ]
     },
     "execution_count": 4,
     "metadata": {},
     "output_type": "execute_result"
    }
   ],
   "source": [
    "scs.norm.ppf"
   ]
  },
  {
   "cell_type": "markdown",
   "metadata": {},
   "source": [
    "## Our current homepage has a signup conversion rate of 6%. (The standard deviation would be 0.24.)\n",
    "\n",
    "## We want to test a new homepage design to see if we can get a 7% signup rate.  We’ll want an experiment where alpha is 1% and power is 95%.\n",
    "\n",
    "## How many visitors must visit the new homepage in order to fulfill the requirements of this experiment?"
   ]
  },
  {
   "cell_type": "code",
   "execution_count": 18,
   "metadata": {
    "collapsed": false
   },
   "outputs": [
    {
     "data": {
      "text/plain": [
       "9083.7742242145541"
      ]
     },
     "execution_count": 18,
     "metadata": {},
     "output_type": "execute_result"
    }
   ],
   "source": [
    "((scs.norm.ppf(.95)-scs.norm.ppf(.01))*.24/(.01))**2"
   ]
  },
  {
   "cell_type": "markdown",
   "metadata": {},
   "source": [
    "## Our current homepage has a signup conversion rate of 1%. (The standard deviation would be 0.099.)\n",
    "\n",
    "## We want to test a new homepage design to see if we can get a 1.2% signup rate.  We’ll want an experiment where alpha is 1% and power is 95%.\n",
    "\n",
    "## How many visitors must visit the new homepage in order to fulfill the requirements of this experiment?"
   ]
  },
  {
   "cell_type": "code",
   "execution_count": 17,
   "metadata": {
    "collapsed": false
   },
   "outputs": [
    {
     "data": {
      "text/plain": [
       "38641.523945975197"
      ]
     },
     "execution_count": 17,
     "metadata": {},
     "output_type": "execute_result"
    }
   ],
   "source": [
    "((scs.norm.ppf(.95)-scs.norm.ppf(.01))*.099/(.002))**2"
   ]
  },
  {
   "cell_type": "code",
   "execution_count": null,
   "metadata": {
    "collapsed": true
   },
   "outputs": [],
   "source": []
  }
 ],
 "metadata": {
  "kernelspec": {
   "display_name": "Python 2",
   "language": "python",
   "name": "python2"
  },
  "language_info": {
   "codemirror_mode": {
    "name": "ipython",
    "version": 2
   },
   "file_extension": ".py",
   "mimetype": "text/x-python",
   "name": "python",
   "nbconvert_exporter": "python",
   "pygments_lexer": "ipython2",
   "version": "2.7.11"
  }
 },
 "nbformat": 4,
 "nbformat_minor": 0
}
