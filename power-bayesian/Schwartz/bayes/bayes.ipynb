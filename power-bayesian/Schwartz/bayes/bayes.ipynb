{
 "cells": [
  {
   "cell_type": "markdown",
   "metadata": {
    "slide_type": "markdown"
   },
   "source": [
    "# $$\\textit{Bayes} \\text{ (pronounced BAE$\\cdot$z)}$$\n",
    "\n",
    "$$\\text{Schwartz}$$"
   ]
  },
  {
   "cell_type": "markdown",
   "metadata": {},
   "source": [
    "# Bayes' Rule for Events\n",
    "\n",
    "# $$p(B|A) = \\frac{p(A|B)p(B)}{p(A)} = \\frac{p(A,B)}{p(B)}$$"
   ]
  },
  {
   "cell_type": "markdown",
   "metadata": {},
   "source": [
    "# Bayes' Formula for Random Variables\n",
    "# $$p(Y|X) = \\frac{p(X|Y)p(Y)}{p(X)} = \\frac{p(X,Y)}{p(X)}$$\n",
    "\n"
   ]
  },
  {
   "cell_type": "markdown",
   "metadata": {},
   "source": [
    "# Bayes' Theorem for Random Variables & Parameters (as Random Variables)\n",
    "# $$p(\\theta|X) = \\frac{p(X|\\theta)p(\\theta)}{p(X)} = \\frac{p(X,\\theta)}{p(X)}$$"
   ]
  },
  {
   "cell_type": "markdown",
   "metadata": {},
   "source": [
    "# Bayes' for Data Analysis\n",
    "\n",
    "# $\\begin{align}\n",
    "p(\\theta|X_1,X_2,\\cdots,X_n) &= \\frac{p(X_1,X_2,\\cdots,X_n|\\theta)p(\\theta)}{p(X_1,X_2,\\cdots,X_n)}\\\\{}\\\\ \n",
    "\\text{Posterior} &= \\frac{\\text{Likelihood}\\times\\text{pior}}{\\text{Marginal Likelihood}} \n",
    "\\end{align}$"
   ]
  },
  {
   "cell_type": "code",
   "execution_count": null,
   "metadata": {
    "collapsed": true
   },
   "outputs": [],
   "source": [
    "\n",
    "\n",
    "\n",
    "\n",
    "\n",
    "\n",
    "\n"
   ]
  },
  {
   "cell_type": "markdown",
   "metadata": {},
   "source": [
    "## _\"The posterior is proportional to the likelihood times the prior\"_\n",
    "#### _(the marginal likelihood is just a normalizing constant)_\n",
    "\n",
    "## $\\begin{align}\n",
    "\\text{Posterior} &= \\\\\n",
    "p(\\theta|X_1,X_2,\\cdots,X_n) &= \\frac{p(X_1,X_2,\\cdots,X_n|\\theta)p(\\theta)}{p(X_1,X_2,\\cdots,X_n)}\\\\ \n",
    "&= \\frac{p(X_1,X_2,\\cdots,X_n|\\theta)p(\\theta)}{c} \\propto  p(X_1,X_2,\\cdots,X_n|\\theta)p(\\theta)\\\\\n",
    "& \\hspace{11.5em} \\text{Likelihood } \\times \\text{prior}\n",
    "\\end{align}$\n",
    "\n"
   ]
  },
  {
   "cell_type": "markdown",
   "metadata": {},
   "source": [
    "<img src=\"bayes.png\" width=\"750px\" align=\"left\">"
   ]
  },
  {
   "cell_type": "code",
   "execution_count": null,
   "metadata": {
    "collapsed": true
   },
   "outputs": [],
   "source": [
    "\n",
    "\n",
    "\n",
    "\n",
    "\n",
    "\n",
    "\n"
   ]
  },
  {
   "cell_type": "markdown",
   "metadata": {},
   "source": [
    "# Contrasting Frequentist and Bayesian Analysis\n",
    "\n",
    "\n",
    "## $\\begin{align}\n",
    "\\underset{\\theta}{argmax}\\; p(X_1,X_2,\\cdots,X_n|\\theta) &= \\underset{\\theta}{argmax}\\; \\; p(X_1|\\theta)p(X_2|\\theta)\\cdots p(X_n|\\theta) \\quad\\;\\;\\;\\;\\;\\;\\textbf{(1)}\\\\{}\\\\\n",
    "\\quad\\quad p(\\theta|X_1,X_2,\\cdots,X_n) &\\propto \\quad\\quad\\quad\\; p(X_1|\\theta)p(X_2|\\theta)\\cdots p(X_n|\\theta)p(\\theta) \\quad\\textbf{ (2)}\\\\{}\\\\\n",
    "\\underset{\\theta}{argmax}\\; p(\\theta|X_1,X_2,\\cdots,X_n) &= \\underset{\\theta}{argmax}\\;\\; p(X_1|\\theta)p(X_2|\\theta)\\cdots p(X_n|\\theta)p(\\theta) \\quad\\textbf{ (3)}\n",
    "\\end{align}$"
   ]
  },
  {
   "cell_type": "markdown",
   "metadata": {},
   "source": [
    "### (1) Classical Frequentist Maximum Likelihood Estimation (MLE)\n",
    "### (2) Full Bayesian Posterior Analysis \n",
    "### (3) Maximum $a\\;posteriori$ (MAP) Estimate"
   ]
  },
  {
   "cell_type": "code",
   "execution_count": null,
   "metadata": {
    "collapsed": true
   },
   "outputs": [],
   "source": [
    "\n",
    "\n",
    "\n",
    "\n",
    "\n",
    "\n",
    "\n",
    "\n",
    "\n",
    "\n",
    "\n",
    "\n",
    "\n",
    "x_1 = 4\n",
    "x_2 = 14\n",
    "\n",
    "# prior\n",
    "p_theta_1 = .2\n",
    "p_theta_11 = .3\n",
    "p_theta_21 = .5"
   ]
  },
  {
   "cell_type": "markdown",
   "metadata": {},
   "source": [
    "# $$p(X_i|\\theta) = \\frac{\\theta^{x_i} e^{-\\theta}}{x_i!}$$\n",
    "\n",
    "# $$\n",
    "\\begin{align}\n",
    "p(\\theta=1|x_1=4,x_2=14) &\\propto ?\\\\ % \\frac{1^{4} e^{-1}}{4!}\\frac{1^{14} e^{-1}}{14!} \\times .2 \\\\\n",
    "p(\\theta=11|x_1=4,x_2=14) &\\propto ?\\\\ % \\frac{11^{4} e^{-11}}{4!}\\frac{11^{14} e^{-11}}{14!} \\times .3 \\\\\n",
    "p(\\theta=21|x_1=4,x_2=14) &\\propto ?\\\\ % \\frac{21^{4} e^{-21}}{4!}\\frac{21^{14} e^{-21}}{14!} \\times .5 \\\\\n",
    "\\end{align}\n",
    "$$"
   ]
  },
  {
   "cell_type": "code",
   "execution_count": 3,
   "metadata": {
    "collapsed": true
   },
   "outputs": [],
   "source": [
    "import numpy as np\n",
    "from scipy import stats\n",
    "import matplotlib.pyplot as plt\n",
    "%matplotlib inline"
   ]
  },
  {
   "cell_type": "code",
   "execution_count": 4,
   "metadata": {
    "collapsed": true
   },
   "outputs": [],
   "source": [
    "def loglikelihood(sample, model, pars):\n",
    "    log_likelihood = 0\n",
    "    for x in sample:\n",
    "        log_likelihood = log_likelihood + np.log(getattr(stats,model).pmf(x,**pars))\n",
    "    return log_likelihood"
   ]
  },
  {
   "cell_type": "code",
   "execution_count": 28,
   "metadata": {
    "collapsed": false
   },
   "outputs": [
    {
     "data": {
      "text/plain": [
       "<matplotlib.legend.Legend at 0x113b55b90>"
      ]
     },
     "execution_count": 28,
     "metadata": {},
     "output_type": "execute_result"
    },
    {
     "data": {
      "image/png": "[encoded data removed]",
      "text/plain": [
       "<matplotlib.figure.Figure at 0x113577e10>"
      ]
     },
     "metadata": {},
     "output_type": "display_data"
    }
   ],
   "source": [
    "sample = [11,2,14,5,16]\n",
    "model = \"poisson\"\n",
    "pars = {'mu': np.linspace(0, 30, 1000)[1:]}          \n",
    "\n",
    "prior_model = \"expon\"\n",
    "prior_pars = {\"scale\": 10}        \n",
    "\n",
    "prior = getattr(stats,prior_model).pdf(pars['mu'], **prior_pars)\n",
    "scaling = max(prior)\n",
    "\n",
    "plt.plot(pars['mu'], prior)\n",
    "\n",
    "likelihood = np.exp(loglikelihood(sample, model, pars))\n",
    "likelihood = likelihood/max(likelihood) * scaling\n",
    "\n",
    "plt.plot(pars['mu'], likelihood)\n",
    "\n",
    "posterior = np.exp(loglikelihood(sample, model, pars)) * getattr(stats, prior_model).pdf(pars['mu'], **prior_pars)\n",
    "posterior = posterior / max(posterior) * scaling\n",
    "\n",
    "plt.plot(pars['mu'], posterior)\n",
    "\n",
    "plt.legend([\"pior\", \"Likelihood\", \"Posterior\"], loc=\"best\")"
   ]
  },
  {
   "cell_type": "markdown",
   "metadata": {},
   "source": [
    "# Poisson-Exponential posterior is Gamma\n",
    "#### (This is becuase the exponential distribution is \"conjugate\" to the poisson distribution)\n",
    "\n",
    "$\\begin{array}\n",
    "Pp(\\theta|X_1,X_2,\\cdots,X_n) &\\propto \\lambda e^{-\\lambda \\theta} \\prod_{i=1}^{n}\\frac{\\theta^{x_i} e^{-\\theta}}{x_i!}\\\\\n",
    "&\\propto \\theta^{^{\\sum_{i=1}^{n}x_i}} e^{-(n+\\lambda)\\theta}\\\\\n",
    "&\\propto Gamma\\left(1+\\sum_{i=1}^{n}x_i, n+\\lambda\\right)\n",
    "\\end{array}$\n",
    "\n",
    "##### And you can do whatever you want with it"
   ]
  },
  {
   "cell_type": "markdown",
   "metadata": {},
   "source": [
    "<img src=\"bayes.png\" width=\"750px\" align=\"left\">"
   ]
  },
  {
   "cell_type": "markdown",
   "metadata": {},
   "source": [
    "# Why be Bayes?\n",
    "\n",
    "- Note that Bayesians have $p(\\theta|X_1,X_2,\\cdots,X_n)$ \n",
    "- a probability distribution over parameter $\\theta$ conditional on observable data (_\"theta given data\"_)\n",
    "- and can therefore make probabilistic statements about $\\theta$\n",
    "- e.g., the **probability** that $\\theta$ is greater than some null hypothesis $H_0: \\theta = \\theta_0$\n",
    "\n",
    "# What else do Bayesians have?\n",
    "- A prior where they can put subjective _\"prior belief\"_ into an analysis\n",
    "- An easily intreptable and coherent system for \"_updating belief\"_ after seeing data\n",
    "\n",
    "# What do Frequentists have?\n",
    "- test statistics and critical values for rejecting null hypothesis $H_0$\n",
    "    - p-values to measure evidence against the null hypothesis $H_0$\n",
    "    - $H_0$ doesn't have probabilities for being right\n",
    "    - p-values aren't the probability that the null is true\n",
    "- confidence intervals to give plausible ranges for parameters \n",
    "- a lot of envy"
   ]
  },
  {
   "cell_type": "code",
   "execution_count": null,
   "metadata": {
    "collapsed": true
   },
   "outputs": [],
   "source": [
    "\n",
    "\n",
    "\n",
    "\n",
    "\n",
    "\n",
    "\n"
   ]
  },
  {
   "cell_type": "markdown",
   "metadata": {},
   "source": [
    "# How is this similar to bootstrapping?\n",
    "\n",
    "### Suppose you have posterior distributions for $\\theta_1$ and $\\theta_2$: how can you say which is larger?"
   ]
  },
  {
   "cell_type": "markdown",
   "metadata": {},
   "source": [
    "# What is a prior?\n",
    "\n",
    "# What is a posterior?"
   ]
  },
  {
   "cell_type": "code",
   "execution_count": null,
   "metadata": {
    "collapsed": false
   },
   "outputs": [],
   "source": [
    "\n",
    "\n",
    "\n",
    "\n",
    "\n",
    "\n",
    "\n",
    "\n",
    "\n",
    "\n",
    "\n",
    "\n",
    "\n",
    "\n",
    "\n",
    "\n",
    "\n",
    "\n",
    "\n",
    "\n",
    "\n",
    "\n",
    "\n",
    "\n",
    "# conda install graphviz\n",
    "# pip install graphviz\n",
    "\n",
    "from graphviz import Digraph\n",
    "\n",
    "g = Digraph()\n",
    "\n",
    "#g.node('here', label='YOU ARE\\nHERE.', shape='box', style='dashed')\n",
    "\n",
    "\n",
    "g.node('start', shape=\"box\", style=\"rounded\")\n",
    "g.node('noob', label=\"Pretty new to statistics\\nor don't remember much?\", shape='diamond')\n",
    "g.node('practice', label=\"Just need a refresher to pass \\nstats interview questions?\", shape='diamond')\n",
    "g.node('regressionML', label=\"Need a refresher to pass \\nregression/ML interview questions?\", shape='diamond')\n",
    "g.node('apply', label=\"!!! Schedule Stats Interview !!!\", shape='diamond')\n",
    "\n",
    "\n",
    "\n",
    "g.node('stat101', label='https://www.udacity.com/course/intro-to-statistics--st101\\nhttps://www.khanacademy.org/math/statistics-probability/probability-library\\nhttps://www.khanacademy.org/math/statistics-probability/random-variables-stats-library', shape='parallelogram')\n",
    "g.node('stat201', label='http://www.intmath.com/counting-probability/counting-probability-intro.php', shape='parallelogram')\n",
    "g.node('ML', label='https://www.r-bloggers.com/in-depth-introduction-to-machine-learning-in-15-hours-of-expert-videos/\\nChapters 1-4 http://www-bcf.usc.edu/~gareth/ISL/ISLR%20Sixth%20Printing.pdf', shape='parallelogram')\n",
    "\n",
    "\n",
    "\n",
    "\n",
    "g.edge('start', 'noob')\n",
    "g.edge('noob', 'practice', label='no')\n",
    "g.edge('practice', 'regressionML', label='no')\n",
    "g.edge('regressionML', 'apply', label='no')\n",
    "\n",
    "g.edge('noob', 'stat101', label='yes')\n",
    "g.edge('practice', 'stat201', label='yes')\n",
    "g.edge('regressionML', 'ML', label='yes')\n",
    "\n",
    "\n",
    "g"
   ]
  }
 ],
 "metadata": {
  "anaconda-cloud": {},
  "kernelspec": {
   "display_name": "Python [Root]",
   "language": "python",
   "name": "Python [Root]"
  },
  "language_info": {
   "codemirror_mode": {
    "name": "ipython",
    "version": 2
   },
   "file_extension": ".py",
   "mimetype": "text/x-python",
   "name": "python",
   "nbconvert_exporter": "python",
   "pygments_lexer": "ipython2",
   "version": "2.7.12"
  }
 },
 "nbformat": 4,
 "nbformat_minor": 0
}
