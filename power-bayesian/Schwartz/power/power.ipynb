{
 "cells": [
  {
   "cell_type": "markdown",
   "metadata": {
    "slide_type": "markdown"
   },
   "source": [
    "# $$\\textit{Power}$$\n",
    "$$\\text{Schwartz}$$\n",
    "\n"
   ]
  },
  {
   "cell_type": "code",
   "execution_count": null,
   "metadata": {
    "collapsed": false
   },
   "outputs": [],
   "source": [
    "from IPython.display import YouTubeVideo\n",
    "from datetime import timedelta\n",
    "YouTubeVideo(\"1qjtugr2618\", start=int(timedelta(minutes=2, seconds=11).total_seconds()))"
   ]
  },
  {
   "cell_type": "code",
   "execution_count": null,
   "metadata": {
    "collapsed": false
   },
   "outputs": [],
   "source": [
    "# say you've got a sample\n",
    "\n",
    "from scipy import stats\n",
    "#sample = stats.poisson.rvs(mu=10, size=30)\n",
    "\n",
    "sample"
   ]
  },
  {
   "cell_type": "markdown",
   "metadata": {
    "collapsed": true
   },
   "source": [
    "# Say you've got a hypothesis \n",
    "\n",
    "# $H_0: \\mu \\leq 10$\n",
    "\n",
    "# What test statistic will you use to test your hypothesis?"
   ]
  },
  {
   "cell_type": "code",
   "execution_count": null,
   "metadata": {
    "collapsed": true
   },
   "outputs": [],
   "source": [
    "\n",
    "\n",
    "\n",
    "\n",
    "\n",
    "\n",
    "\n",
    "\n",
    "\n",
    "\n",
    "\n",
    "\n",
    "\n",
    "\n",
    "\n",
    "\n",
    "\n",
    "\n",
    "\n",
    "\n",
    "\n",
    "\n",
    "\n",
    "\n",
    "\n",
    "\n",
    "\n",
    "\n",
    "\n",
    "\n",
    "\n",
    "import numpy as np\n",
    "\n",
    "#np.mean(sample)"
   ]
  },
  {
   "cell_type": "markdown",
   "metadata": {
    "collapsed": true
   },
   "source": [
    "# why $\\bar X$?"
   ]
  },
  {
   "cell_type": "code",
   "execution_count": null,
   "metadata": {
    "collapsed": true
   },
   "outputs": [],
   "source": [
    "\n",
    "\n",
    "\n",
    "\n",
    "\n",
    "\n",
    "\n",
    "\n",
    "\n",
    "\n",
    "\n",
    "\n",
    "\n",
    "\n",
    "\n",
    "\n",
    "\n",
    "\n",
    "\n",
    "\n",
    "\n",
    "\n",
    "\n",
    "\n",
    "\n",
    "\n",
    "\n",
    "\n",
    "\n",
    "\n",
    "\n",
    "\n",
    "\n",
    "\n",
    "\n",
    "\n"
   ]
  },
  {
   "cell_type": "markdown",
   "metadata": {
    "collapsed": true
   },
   "source": [
    "# $\\begin{align}\n",
    "E[\\bar X] &= \\mu\\\\\n",
    "Var[\\bar X] &= Var[X]/n \\\\\n",
    "&= \\sigma^2_X/n\n",
    "\\end{align}$\n",
    "\n",
    "# What is the sampling distribution of $\\bar X$?"
   ]
  },
  {
   "cell_type": "code",
   "execution_count": null,
   "metadata": {
    "collapsed": true
   },
   "outputs": [],
   "source": [
    "\n",
    "\n",
    "\n",
    "\n",
    "\n",
    "\n",
    "\n",
    "\n",
    "\n",
    "\n",
    "\n",
    "\n",
    "\n",
    "\n",
    "\n",
    "\n",
    "\n",
    "\n",
    "\n",
    "\n",
    "\n",
    "\n",
    "\n",
    "\n",
    "\n",
    "\n",
    "\n",
    "\n"
   ]
  },
  {
   "cell_type": "markdown",
   "metadata": {
    "collapsed": true
   },
   "source": [
    "# $\\bar X \\sim Normal\\left(E[X], Var[X]/n\\right) = Normal\\left(\\mu, \\sigma_X^2/n\\right)$\n",
    "### (by the Central Limit Theorem)\n",
    "# What is the sampling distribution of $\\frac{\\bar X-\\mu}{\\sigma_X/\\sqrt{n}}$?"
   ]
  },
  {
   "cell_type": "code",
   "execution_count": null,
   "metadata": {
    "collapsed": true
   },
   "outputs": [],
   "source": [
    "\n",
    "\n",
    "\n",
    "\n",
    "\n",
    "\n",
    "\n",
    "\n",
    "\n",
    "\n",
    "\n",
    "\n",
    "\n",
    "\n",
    "\n",
    "\n",
    "\n",
    "\n",
    "\n",
    "\n",
    "\n",
    "\n",
    "\n",
    "\n",
    "\n",
    "\n",
    "\n",
    "\n"
   ]
  },
  {
   "cell_type": "markdown",
   "metadata": {
    "collapsed": true
   },
   "source": [
    "# $Normal(0,1)$\n",
    "\n",
    "### (by the Central Limit Theorem and properties of expectation and variance)\n",
    "\n",
    "# Wait... what is $\\sigma^2_X$?"
   ]
  },
  {
   "cell_type": "code",
   "execution_count": null,
   "metadata": {
    "collapsed": true
   },
   "outputs": [],
   "source": [
    "\n",
    "\n",
    "\n",
    "\n",
    "\n",
    "\n",
    "\n",
    "\n",
    "\n",
    "\n",
    "\n",
    "\n",
    "\n",
    "\n",
    "\n",
    "\n",
    "\n",
    "\n",
    "\n",
    "\n",
    "\n",
    "\n",
    "\n",
    "\n",
    "\n",
    "\n",
    "\n",
    "\n",
    "\n",
    "\n"
   ]
  },
  {
   "cell_type": "markdown",
   "metadata": {
    "collapsed": true
   },
   "source": [
    "# We'll estimate it with $s = \\sqrt{\\sum_{i=1}^n\\frac{(X_i-\\bar X)^2}{n-1}}$"
   ]
  },
  {
   "cell_type": "code",
   "execution_count": null,
   "metadata": {
    "collapsed": false
   },
   "outputs": [],
   "source": [
    "#s2 = sum((sample-np.mean(sample))**2/n-1\n",
    "#s2 = np.var(sample,ddof=1)\n",
    "s2"
   ]
  },
  {
   "cell_type": "markdown",
   "metadata": {},
   "source": [
    "# What is the sampling distribution of $\\frac{\\bar X-\\mu}{\\sqrt{\\frac{\\sum_{i=1}^n\\frac{(X_i-\\bar X)^2}{n-1}}{n}}} = \\frac{\\bar X-\\mu}{s/\\sqrt{n}}$?"
   ]
  },
  {
   "cell_type": "code",
   "execution_count": null,
   "metadata": {
    "collapsed": true
   },
   "outputs": [],
   "source": [
    "\n",
    "\n",
    "\n",
    "\n",
    "\n",
    "\n",
    "\n",
    "\n",
    "\n",
    "\n",
    "\n",
    "\n",
    "\n",
    "\n",
    "\n",
    "\n",
    "\n",
    "\n",
    "\n",
    "\n",
    "\n",
    "\n",
    "\n",
    "\n",
    "\n",
    "\n",
    "\n",
    "\n",
    "\n",
    "\n"
   ]
  },
  {
   "cell_type": "markdown",
   "metadata": {
    "collapsed": true
   },
   "source": [
    "# $t_{n-1}$\n",
    "\n",
    "### (where $n-1$ is the degrees of freedom)"
   ]
  },
  {
   "cell_type": "markdown",
   "metadata": {},
   "source": [
    "# How will we decide if we reject $H_0 (\\mu \\leq 10)$?"
   ]
  },
  {
   "cell_type": "code",
   "execution_count": null,
   "metadata": {
    "collapsed": true
   },
   "outputs": [],
   "source": [
    "import matplotlib.pyplot as plt\n",
    "%matplotlib inline\n",
    "from pylab import rcParams\n",
    "rcParams['figure.figsize'] = 14, 6"
   ]
  },
  {
   "cell_type": "code",
   "execution_count": null,
   "metadata": {
    "collapsed": false
   },
   "outputs": [],
   "source": [
    "n = 30\n",
    "support = np.linspace(-3,3,100)\n",
    "plt.plot(support, stats.t.pdf(support, df=n-1))\n",
    "\n",
    "critical_cutoff = stats.t.ppf(.9, n-1)\n",
    "critical_area = np.linspace(critical_cutoff,3,10)\n",
    "plt.fill_between(critical_area, stats.t.pdf(critical_area, n-1), 0, alpha=.3, color=\"red\")\n",
    "\n",
    "print \"Critical Region Cutoff: \" + str(round(critical_cutoff, 2))\n",
    "print \"Significance Level: \" + str(round(1-stats.t.cdf(critical_cutoff, df=n-1),2))"
   ]
  },
  {
   "cell_type": "code",
   "execution_count": null,
   "metadata": {
    "collapsed": false
   },
   "outputs": [],
   "source": [
    "# So what is a p-value of xbar?\n",
    "\n",
    "xbar = 10.9\n",
    "s2 = 10. # remember this had an \"n-1\" in the denomenator\n",
    "n = 30\n",
    "mu = 10\n",
    "\n",
    "test_statistic = (xbar - mu)/np.sqrt(s2/n)\n",
    "print \"Test Statistic: \" + str(round(test_statistic,2))"
   ]
  },
  {
   "cell_type": "code",
   "execution_count": null,
   "metadata": {
    "collapsed": false
   },
   "outputs": [],
   "source": [
    "plt.plot(support, stats.t.pdf(support, df=n-1))\n",
    "\n",
    "critical_cutoff = stats.t.ppf(.9, n-1)\n",
    "critical_area = np.linspace(critical_cutoff,3,10)\n",
    "plt.fill_between(critical_area, stats.t.pdf(critical_area, n-1), 0, alpha=.3, color=\"red\")\n",
    "\n",
    "plt.vlines(test_statistic, 0, .4)\n",
    "\n",
    "print \"Critical Region Cutoff: \" + str(round(critical_cutoff, 2))\n",
    "print \"Significance Level: \" + str(round(1-stats.t.cdf(critical_cutoff, df=n-1),2))\n",
    "print \"Test Statistic: \" + str(round(test_statistic,2))"
   ]
  },
  {
   "cell_type": "code",
   "execution_count": null,
   "metadata": {
    "collapsed": false
   },
   "outputs": [],
   "source": [
    "plt.plot(support, stats.t.pdf(support, df=n-1))\n",
    "\n",
    "plt.vlines(test_statistic, 0, .4)\n",
    "p_value_area=np.linspace(test_statistic,3,10)\n",
    "plt.fill_between(p_value_area, stats.t.pdf(p_value_area, n-1), 0, alpha=.3, color=\"yellow\")\n",
    "\n",
    "print \"P-value: \" + str(round(1-stats.t.cdf(test_statistic, df=n-1), 2))"
   ]
  },
  {
   "cell_type": "markdown",
   "metadata": {},
   "source": [
    "# What was the chance that we rejected $H_0$?"
   ]
  },
  {
   "cell_type": "code",
   "execution_count": null,
   "metadata": {
    "collapsed": true
   },
   "outputs": [],
   "source": [
    "\n",
    "\n",
    "\n",
    "\n",
    "\n",
    "\n",
    "\n",
    "\n",
    "\n",
    "\n",
    "\n",
    "\n",
    "\n",
    "\n",
    "\n",
    "\n",
    "\n",
    "\n",
    "\n",
    "\n",
    "\n",
    "\n",
    "\n",
    "\n",
    "\n",
    "\n",
    "\n",
    "\n",
    "\n",
    "\n",
    "\n",
    "\n",
    "\n",
    "\n"
   ]
  },
  {
   "cell_type": "markdown",
   "metadata": {},
   "source": [
    "# YOU DON'T HAVE ENOUGH INFORMATION TO ANSWER THAT OMG!!!\n",
    "\n",
    "# First, was $H_0$ _even true_?\n",
    "\n",
    "# IF SO *then* we chose the chance of _incorrectly rejecting_ $H_0$ to be an \"unlikely\" 0.10 (although it's more \"common\" to choose 0.05)."
   ]
  },
  {
   "cell_type": "markdown",
   "metadata": {},
   "source": [
    "# But what if $H_0$ wasn't true, but something else, say $H_A$ was true?\n",
    "# $\\underline{Power} \\text{ rather asks: what was the chance that we rejected } H_0 \\underline{\\text{ if $H_A$ is true}}$?\n",
    "\n",
    "### (As opposed to $H_0$)"
   ]
  },
  {
   "cell_type": "markdown",
   "metadata": {},
   "source": [
    "# Okay, wait... what the heck is $H_A$?\n",
    "\n",
    "# Let's say\n",
    "\n",
    "# $\\begin{align}\n",
    "H_0: &\\mu = 10\\\\\n",
    "H_A: &\\mu = 11.5\n",
    "\\end{align}$\n",
    "\n",
    "# (So _Effect Size_ is +1.5)"
   ]
  },
  {
   "cell_type": "code",
   "execution_count": null,
   "metadata": {
    "collapsed": false
   },
   "outputs": [],
   "source": [
    "H_0 = 10\n",
    "H_A = 11.5# 12.5\n",
    "\n",
    "support = np.linspace(min(H_0,H_A)-3*np.sqrt(s2/n),max(H_0,H_A)+3*np.sqrt(s2/n),100)\n",
    "plt.plot(support, stats.t.pdf(support, loc = H_0, scale = np.sqrt(s2/n), df=n-1), color='b')\n",
    "plt.plot(support, stats.t.pdf(support, loc = H_A, scale = np.sqrt(s2/n), df=n-1), color='r')\n",
    "\n",
    "critical_cutoff = stats.t.ppf(.95, loc = H_0, scale = np.sqrt(s2/n), df=n-1)\n",
    "plt.vlines(critical_cutoff, 0, .6)\n",
    "print \"Critical Region Cutoff: \" + str(round(critical_cutoff, 2))\n",
    "critical_area = np.linspace(critical_cutoff, max(support), 100)\n",
    "plt.fill_between(critical_area, stats.t.pdf(x = critical_area, loc = H_A, scale = np.sqrt(s2/n), df=n-1), 0, alpha=.3, color=\"red\")\n",
    "print \"Power: \" + str(round(1-stats.t.cdf(x=critical_cutoff, loc = H_A, scale = np.sqrt(s2/n), df = n - 1), 2))\n",
    "plt.legend([\"Null distribution\", \"Proposed Alternative Distribution\", \"Power\"],loc=\"best\")"
   ]
  },
  {
   "cell_type": "markdown",
   "metadata": {},
   "source": [
    "# Let's say\n",
    "\n",
    "# $\\begin{align}\n",
    "H_0: &\\mu = 10\\\\\n",
    "H_A: &\\mu = 12.5\n",
    "\\end{align}$\n",
    "\n",
    "# (So _Effect Size_ is +2.5)\n",
    "\n",
    "<br>\n",
    "<br> \n",
    "\n",
    "# What else can we do to increase power?\n",
    "# How can we decrease power?\n"
   ]
  },
  {
   "cell_type": "code",
   "execution_count": null,
   "metadata": {
    "collapsed": false
   },
   "outputs": [],
   "source": [
    "H_0 = 10\n",
    "H_A = 11.5\n",
    "\n",
    "significance_level_alpha = .05\n",
    "\n",
    "s2 = 10. # remember this had an \"n-1\" in the denomenator\n",
    "n = 30\n",
    "mu = H_0\n",
    "\n",
    "support = np.linspace(min(H_0,H_A)-3*np.sqrt(s2/n),max(H_0,H_A)+3*np.sqrt(s2/n),100)\n",
    "plt.plot(support, stats.norm.pdf(support, loc = H_0, scale = np.sqrt(s2/n)), color='b')\n",
    "plt.plot(support, stats.norm.pdf(support, loc = H_A, scale = np.sqrt(s2/n)), color='r')\n",
    "\n",
    "critical_cutoff = stats.norm.ppf(1-significance_level_alpha, loc = H_0, scale = np.sqrt(s2/n))\n",
    "plt.vlines(critical_cutoff, 0, .9*stats.norm.pdf(H_0, loc = H_0, scale = np.sqrt(s2/n)))\n",
    "\n",
    "print \"Power: \" + str(round(1-stats.t.cdf(x=critical_cutoff, loc = H_A, scale = np.sqrt(s2/n), df = n - 1),2))\n",
    "critical_area = np.linspace(critical_cutoff,max(H_0,H_A)+3*np.sqrt(s2/n),100)\n",
    "plt.fill_between(critical_area, stats.norm.pdf(x=critical_area, loc = H_A, scale = np.sqrt(s2/n)), 0, alpha=.3, color=\"red\")\n",
    "plt.legend([\"Null distribution\", \"Proposed Alternative Distribution\", \"Power\"],loc=\"best\")"
   ]
  },
  {
   "cell_type": "code",
   "execution_count": null,
   "metadata": {
    "collapsed": false
   },
   "outputs": [],
   "source": [
    "power = []\n",
    "sample_sizes = range(5,120)\n",
    "for n in sample_sizes:\n",
    "    critical_cutoff = stats.norm.ppf(1-significance_level_alpha, loc = H_0, scale = np.sqrt(s2/n))\n",
    "    power = power + [1-stats.t.cdf(x=critical_cutoff, loc = H_A, scale = np.sqrt(s2/n), df = n - 1)]\n",
    "\n",
    "plt.plot(sample_sizes, power)\n",
    "plt.xlabel(\"n (sample size)\")\n",
    "plt.ylabel(\"power (1 - $\\\\beta$)\")\n",
    "plt.title(\"'Power Analysis' (aka 'Sample Size Analysis')\")"
   ]
  },
  {
   "cell_type": "markdown",
   "metadata": {},
   "source": [
    "# What is the significance level of this test for different n?"
   ]
  }
 ],
 "metadata": {
  "anaconda-cloud": {},
  "kernelspec": {
   "display_name": "Python [Root]",
   "language": "python",
   "name": "Python [Root]"
  },
  "language_info": {
   "codemirror_mode": {
    "name": "ipython",
    "version": 2
   },
   "file_extension": ".py",
   "mimetype": "text/x-python",
   "name": "python",
   "nbconvert_exporter": "python",
   "pygments_lexer": "ipython2",
   "version": "2.7.12"
  }
 },
 "nbformat": 4,
 "nbformat_minor": 0
}
