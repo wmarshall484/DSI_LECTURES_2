{
 "cells": [
  {
   "cell_type": "markdown",
   "metadata": {},
   "source": [
    "## Objectives\n",
    "\n",
    "    · Write down and explain NMF equation\n",
    "    · Compare and contrast NMF, SVD, PCA and K-means\n",
    "    · Implement Alternating Least Squares algorithm\n",
    "    · Use NMF to find and interpret latent topics"
   ]
  },
  {
   "cell_type": "markdown",
   "metadata": {},
   "source": [
    "## Outline\n",
    "\n",
    "    · Problems with SVD\n",
    "    · Introduce NMF\n",
    "    · Review solving linear equations\n",
    "    · Alternating Least Sqaures\n",
    "    · NMF for topic analysis example\n",
    "    · Pair exercise"
   ]
  },
  {
   "cell_type": "markdown",
   "metadata": {},
   "source": [
    "## Problems with SVD for topic analysis\n",
    "\n",
    "**Recall:** $M = U S V^T$\n",
    "\n",
    "1. The number of columns in $U$ can differ from the number of rows in $V^T$. I.e. The number of latent features differs in $U$ and $V^T$, which is weird.\n",
    "\n",
    "2. Values in $U$ and $V^T$ can be negative, which is weird and hard to interpret. For example, suppose a latent feature is the genre 'Sci-fi'. This feature can be positive (makes sense), zero (makes sense), or negative (what does that mean?).\n",
    "\n",
    "3. SVD forces us to fill in missing values, then SVD models those missing values, which is bad."
   ]
  },
  {
   "cell_type": "markdown",
   "metadata": {},
   "source": [
    "**Discussion:** Can you think of a way to potentially factor a matrix that will respect constraints #1 and #2?\n",
    "\n",
    "We won't cover issue #3 today."
   ]
  },
  {
   "cell_type": "code",
   "execution_count": 68,
   "metadata": {
    "collapsed": false
   },
   "outputs": [
    {
     "name": "stdout",
     "output_type": "stream",
     "text": [
      "One approach we could try is to limit S to be a square matrix and enforce positivity requirements on all matrices (including M). If this were possible, then we could multiply S into U or V which may result in the decomposition M = H * W with everything being positive.\n"
     ]
    }
   ],
   "source": [
    "# Your answer goes here\n",
    "\n",
    "# Potential answers are at the bottom\n",
    "print answers[0]"
   ]
  },
  {
   "cell_type": "markdown",
   "metadata": {},
   "source": [
    "## Non-negative Matrix Factorization (NMF)\n",
    "\n",
    "<img src='nmf.png' width = 40% />\n",
    "\n",
    "<p style=\"text-align: center;\">$r$ is the number of latent features</p>"
   ]
  },
  {
   "cell_type": "markdown",
   "metadata": {},
   "source": [
    "**Question** What convenient properties in SVD do we lose when using non-negative matrix factorization?"
   ]
  },
  {
   "cell_type": "code",
   "execution_count": 81,
   "metadata": {
    "collapsed": false
   },
   "outputs": [
    {
     "name": "stdout",
     "output_type": "stream",
     "text": [
      "SVD is nice because it has a closed form solution that will always exist. NMF on the other hand does not. NMF can be solved through various techniques. Here we will solve it using alternating least squares.\n"
     ]
    }
   ],
   "source": [
    "# Your answer goes here\n",
    "\n",
    "# Potential answers are at the bottom\n",
    "print answers[1]"
   ]
  },
  {
   "cell_type": "code",
   "execution_count": 82,
   "metadata": {
    "collapsed": false
   },
   "outputs": [],
   "source": [
    "import pandas as pd\n",
    "import numpy as np\n",
    "import random\n",
    "\n",
    "%matplotlib inline"
   ]
  },
  {
   "cell_type": "markdown",
   "metadata": {},
   "source": [
    "## Review\n",
    "\n",
    "### System of Linear Equations Exact Solver\n",
    "\n",
    "$$ \\begin{bmatrix} 1 & 2 \\\\ -3 & 4 \\end{bmatrix} \\left[ \\begin{array}{c} x_1 \\\\ x_2 \\end{array} \\right] = \\left[ \\begin{array}{cc} 7 \\\\ -9 \\end{array} \\right] $$"
   ]
  },
  {
   "cell_type": "code",
   "execution_count": 83,
   "metadata": {
    "collapsed": false
   },
   "outputs": [
    {
     "name": "stdout",
     "output_type": "stream",
     "text": [
      "[ 4.6  1.2]\n"
     ]
    }
   ],
   "source": [
    "A = np.array([[1, 2], [-3, 4]])\n",
    "b = np.array([7, -9])\n",
    "\n",
    "print np.linalg.solve(A, b)"
   ]
  },
  {
   "cell_type": "markdown",
   "metadata": {},
   "source": [
    "### Least Squares Solver\n",
    "\n",
    "What if we have an overdetermined system of linear equations? E.g.\n",
    "\n",
    "$$ \\begin{bmatrix} 1 & 2 \\\\ -3 & 4 \\\\ 1 & -4 \\end{bmatrix} \\left[ \\begin{array}{c} x_1 \\\\ x_2 \\end{array} \\right] = \\left[ \\begin{array}{cc} 7 \\\\ -9 \\\\ 17 \\end{array} \\right] $$\n",
    "\n",
    "An exact solution is not guaranteed, so we must do something else. Least Squares dictates that we find the $x$ that minimizes the residual sum of squares (RSS).\n",
    "\n",
    "(Note: This is the solver we use when doing Linear Regression!)"
   ]
  },
  {
   "cell_type": "code",
   "execution_count": 84,
   "metadata": {
    "collapsed": false
   },
   "outputs": [
    {
     "name": "stdout",
     "output_type": "stream",
     "text": [
      "[ 2.88 -1.38]\n"
     ]
    }
   ],
   "source": [
    "A = np.array([[1, 2], [-3, 4], [1, -4]])\n",
    "b = np.array([7, -9, 17])\n",
    "\n",
    "print np.linalg.lstsq(A, b)[0]"
   ]
  },
  {
   "cell_type": "markdown",
   "metadata": {},
   "source": [
    "### Non-negative Least Squares Solver\n",
    "\n",
    "What if you want to constrain the solution to be non-negative?\n",
    "\n",
    "We have optomizers for that too!"
   ]
  },
  {
   "cell_type": "code",
   "execution_count": 85,
   "metadata": {
    "collapsed": false
   },
   "outputs": [
    {
     "name": "stdout",
     "output_type": "stream",
     "text": [
      "[ 0.          1.05555556]\n"
     ]
    }
   ],
   "source": [
    "from scipy.optimize import nnls\n",
    "\n",
    "A = np.array([[1, 2], [3, 4], [1, 4]])\n",
    "b = np.array([7, 2, 4])\n",
    "\n",
    "print nnls(A, b)[0]"
   ]
  },
  {
   "cell_type": "markdown",
   "metadata": {
    "collapsed": true
   },
   "source": [
    "### Alternating Leasts Squares\n",
    "\n",
    "**Question** Based on the name alternating least squares, can you make a guess as to how it used for NMF?"
   ]
  },
  {
   "cell_type": "code",
   "execution_count": 89,
   "metadata": {
    "collapsed": false
   },
   "outputs": [
    {
     "data": {
      "text/plain": [
       "'Jonathan B.'"
      ]
     },
     "execution_count": 89,
     "metadata": {},
     "output_type": "execute_result"
    }
   ],
   "source": [
    "random.choice(students)"
   ]
  },
  {
   "cell_type": "code",
   "execution_count": 91,
   "metadata": {
    "collapsed": false
   },
   "outputs": [
    {
     "name": "stdout",
     "output_type": "stream",
     "text": [
      "2.77293838851\n"
     ]
    }
   ],
   "source": [
    "# Set up our matrix V we want to decompose\n",
    "V = np.random.rand(10,15)\n",
    "\n",
    "# Initialize a random matrix W\n",
    "W = np.random.rand(10,5)\n",
    "\n",
    "# Solve for H using a least squares solver\n",
    "H = np.linalg.lstsq(W, V)[0]\n",
    "\n",
    "# Print out the current error just to get a baseline\n",
    "print np.linalg.norm(V - np.dot(W,H))"
   ]
  },
  {
   "cell_type": "code",
   "execution_count": 92,
   "metadata": {
    "collapsed": false
   },
   "outputs": [
    {
     "name": "stdout",
     "output_type": "stream",
     "text": [
      "3.59077009696\n"
     ]
    }
   ],
   "source": [
    "# Clip H so there are no negative values\n",
    "H[H < 0] = 0\n",
    "\n",
    "# Print the current error. Why did the error go up?\n",
    "print np.linalg.norm(V - np.dot(W,H))"
   ]
  },
  {
   "cell_type": "code",
   "execution_count": 93,
   "metadata": {
    "collapsed": false
   },
   "outputs": [
    {
     "ename": "LinAlgError",
     "evalue": "Incompatible dimensions",
     "output_type": "error",
     "traceback": [
      "\u001b[0;31m---------------------------------------------------------------------------\u001b[0m",
      "\u001b[0;31mLinAlgError\u001b[0m                               Traceback (most recent call last)",
      "\u001b[0;32m<ipython-input-93-ca57deea6606>\u001b[0m in \u001b[0;36m<module>\u001b[0;34m()\u001b[0m\n\u001b[1;32m      1\u001b[0m \u001b[0;31m# Solve for W using H\u001b[0m\u001b[0;34m\u001b[0m\u001b[0;34m\u001b[0m\u001b[0m\n\u001b[0;32m----> 2\u001b[0;31m \u001b[0mW\u001b[0m \u001b[0;34m=\u001b[0m \u001b[0mnp\u001b[0m\u001b[0;34m.\u001b[0m\u001b[0mlinalg\u001b[0m\u001b[0;34m.\u001b[0m\u001b[0mlstsq\u001b[0m\u001b[0;34m(\u001b[0m\u001b[0mH\u001b[0m\u001b[0;34m,\u001b[0m \u001b[0mV\u001b[0m\u001b[0;34m)\u001b[0m\u001b[0;34m\u001b[0m\u001b[0m\n\u001b[0m",
      "\u001b[0;32m/Users/Hutch/anaconda2/lib/python2.7/site-packages/numpy/linalg/linalg.pyc\u001b[0m in \u001b[0;36mlstsq\u001b[0;34m(a, b, rcond)\u001b[0m\n\u001b[1;32m   1878\u001b[0m     \u001b[0mldb\u001b[0m \u001b[0;34m=\u001b[0m \u001b[0mmax\u001b[0m\u001b[0;34m(\u001b[0m\u001b[0mn\u001b[0m\u001b[0;34m,\u001b[0m \u001b[0mm\u001b[0m\u001b[0;34m)\u001b[0m\u001b[0;34m\u001b[0m\u001b[0m\n\u001b[1;32m   1879\u001b[0m     \u001b[0;32mif\u001b[0m \u001b[0mm\u001b[0m \u001b[0;34m!=\u001b[0m \u001b[0mb\u001b[0m\u001b[0;34m.\u001b[0m\u001b[0mshape\u001b[0m\u001b[0;34m[\u001b[0m\u001b[0;36m0\u001b[0m\u001b[0;34m]\u001b[0m\u001b[0;34m:\u001b[0m\u001b[0;34m\u001b[0m\u001b[0m\n\u001b[0;32m-> 1880\u001b[0;31m         \u001b[0;32mraise\u001b[0m \u001b[0mLinAlgError\u001b[0m\u001b[0;34m(\u001b[0m\u001b[0;34m'Incompatible dimensions'\u001b[0m\u001b[0;34m)\u001b[0m\u001b[0;34m\u001b[0m\u001b[0m\n\u001b[0m\u001b[1;32m   1881\u001b[0m     \u001b[0mt\u001b[0m\u001b[0;34m,\u001b[0m \u001b[0mresult_t\u001b[0m \u001b[0;34m=\u001b[0m \u001b[0m_commonType\u001b[0m\u001b[0;34m(\u001b[0m\u001b[0ma\u001b[0m\u001b[0;34m,\u001b[0m \u001b[0mb\u001b[0m\u001b[0;34m)\u001b[0m\u001b[0;34m\u001b[0m\u001b[0m\n\u001b[1;32m   1882\u001b[0m     \u001b[0mresult_real_t\u001b[0m \u001b[0;34m=\u001b[0m \u001b[0m_realType\u001b[0m\u001b[0;34m(\u001b[0m\u001b[0mresult_t\u001b[0m\u001b[0;34m)\u001b[0m\u001b[0;34m\u001b[0m\u001b[0m\n",
      "\u001b[0;31mLinAlgError\u001b[0m: Incompatible dimensions"
     ]
    }
   ],
   "source": [
    "# Solve for W using H\n",
    "W = np.linalg.lstsq(H, V)"
   ]
  },
  {
   "cell_type": "markdown",
   "metadata": {},
   "source": [
    "Dang that blew up... Let's do some math to figure out why and what we could have done\n",
    "\n",
    "**Question** np.linalg.lstsq(W, V) solves $W * H = V$, so to solve for W we need to solve $H * W = V$ which is invalid due to the dimensions of H and W. What can we do to our matrices to make this fix this problem?"
   ]
  },
  {
   "cell_type": "code",
   "execution_count": 94,
   "metadata": {
    "collapsed": false
   },
   "outputs": [
    {
     "name": "stdout",
     "output_type": "stream",
     "text": [
      "Eduardo\n"
     ]
    }
   ],
   "source": [
    "print random.choice(students)"
   ]
  },
  {
   "cell_type": "code",
   "execution_count": 97,
   "metadata": {
    "collapsed": false
   },
   "outputs": [
    {
     "name": "stdout",
     "output_type": "stream",
     "text": [
      "We can solve the equation (W * H).T = V.T or H.T * W.T = V.T for W.T. We just need to remember to transpose our final answer.\n"
     ]
    }
   ],
   "source": [
    "print answers[2]"
   ]
  },
  {
   "cell_type": "markdown",
   "metadata": {},
   "source": [
    "**Exercise** Using the answer provided, go ahead and solve for W and print out the new error"
   ]
  },
  {
   "cell_type": "code",
   "execution_count": 98,
   "metadata": {
    "collapsed": true
   },
   "outputs": [],
   "source": [
    "# Your code goes here"
   ]
  },
  {
   "cell_type": "code",
   "execution_count": 99,
   "metadata": {
    "collapsed": false
   },
   "outputs": [
    {
     "name": "stdout",
     "output_type": "stream",
     "text": [
      "2.65065800847\n"
     ]
    }
   ],
   "source": [
    "# Error should be lower than the error we established above\n",
    "W = solve_for_w(H, V)"
   ]
  },
  {
   "cell_type": "code",
   "execution_count": 59,
   "metadata": {
    "collapsed": true
   },
   "outputs": [],
   "source": [
    "# Repeat solving for H in terms of W and W in terms of H until you are \"satisfied\"\n",
    "# with your result or reach some maximum number of iterations."
   ]
  },
  {
   "cell_type": "markdown",
   "metadata": {},
   "source": [
    "### General vs. non-negative least squares solver\n",
    "\n",
    "Non-negative least squares solver:\n",
    "    \n",
    "    · Returns result with least squares error given non-negativity constraint\n",
    "    · While alternating, converges to a local minimum\n",
    "    · Orders of magnitude slower than general least squares solver\n",
    "\n",
    "General least squares solver:\n",
    "    \n",
    "    · Returns result with least squares error with no constraints\n",
    "    · While alternating, converges to a stationary point (saddle point or minimum)\n",
    "    · Much much faster\n",
    "    · Have to clip the matrix at every iteration to ensure non-negativity\n",
    "   \n",
    "In industry the general least squares solver is commonly used. The tradeoff between speed and strong convergence seems to be worth it. For more information check out: http://users.wfu.edu/plemmons/papers/BBLPP-rev.pdf"
   ]
  },
  {
   "cell_type": "markdown",
   "metadata": {},
   "source": [
    "## NMF for topic analysis\n",
    "\n",
    "### Example\n",
    "\n",
    "Let's look at users ratings of different movies. The ratings are from 1-5. A rating of 0 means the user hasn't watched the movie.\n",
    "\n",
    "|       | Matrix | Alien | StarWars | Casablanca | Titanic |\n",
    "| ----- | ------ | ----- | -------- | ---------- | ------ |\n",
    "| **Alice** |      1 |     2 |        2 |          0 |      0 |\n",
    "|   **Bob** |      3 |     5 |        5 |          0 |      0 |\n",
    "| **Cindy** |      4 |     4 |        4 |          0 |      0 |\n",
    "|   **Dan** |      5 |     5 |        5 |          0 |      0 |\n",
    "| **Emily** |      0 |     2 |        0 |          4 |      4 |\n",
    "| **Frank** |      0 |     0 |        0 |          5 |      5 |\n",
    "|  **Greg** |      0 |     1 |        0 |          2 |      2 |\n",
    "\n",
    "Note that the first three movies (Matrix, Alien, StarWars) are Sci-fi movies and the last two (Casablanca, Titanic) are Romance. We will be able to mathematically pull out these topics!"
   ]
  },
  {
   "cell_type": "code",
   "execution_count": 69,
   "metadata": {
    "collapsed": false
   },
   "outputs": [],
   "source": [
    "M = np.array([[1, 2, 2, 0, 0],\n",
    "              [3, 5, 5, 0, 0],\n",
    "              [4, 4, 4, 0, 0],\n",
    "              [5, 5, 5, 0, 0],\n",
    "              [0, 2, 0, 4, 4],\n",
    "              [0, 0, 0, 5, 5],\n",
    "              [0, 1, 0, 2, 2]])"
   ]
  },
  {
   "cell_type": "code",
   "execution_count": 70,
   "metadata": {
    "collapsed": false
   },
   "outputs": [
    {
     "data": {
      "text/plain": [
       "<matplotlib.text.Text at 0x114cb8890>"
      ]
     },
     "execution_count": 70,
     "metadata": {},
     "output_type": "execute_result"
    },
    {
     "data": {
      "image/png": "[encoded data removed]",
      "text/plain": [
       "<matplotlib.figure.Figure at 0x1138ad750>"
      ]
     },
     "metadata": {},
     "output_type": "display_data"
    }
   ],
   "source": [
    "# Compute NMF\n",
    "from sklearn.decomposition import NMF\n",
    "\n",
    "def fit_nmf(k):\n",
    "    nmf = NMF(n_components=k)\n",
    "    nmf.fit(M)\n",
    "    W = nmf.transform(M);\n",
    "    H = nmf.components_;\n",
    "    return nmf.reconstruction_err_\n",
    "\n",
    "error = [fit_nmf(i) for i in range(1,6)]\n",
    "plt.plot(range(1,6), error)\n",
    "plt.xlabel('k')\n",
    "plt.ylabel('Reconstruction Errror')"
   ]
  },
  {
   "cell_type": "code",
   "execution_count": 71,
   "metadata": {
    "collapsed": false,
    "scrolled": true
   },
   "outputs": [
    {
     "name": "stdout",
     "output_type": "stream",
     "text": [
      "RSS = 1.23\n"
     ]
    }
   ],
   "source": [
    "# Fit using 3 hidden concepts\n",
    "nmf = NMF(n_components=3)\n",
    "nmf.fit(M)\n",
    "W = nmf.transform(M);\n",
    "H = nmf.components_;\n",
    "print 'RSS = %.2f' % nmf.reconstruction_err_"
   ]
  },
  {
   "cell_type": "code",
   "execution_count": 72,
   "metadata": {
    "collapsed": false
   },
   "outputs": [
    {
     "name": "stdout",
     "output_type": "stream",
     "text": [
      "          0     1     2\n",
      "Alice  0.70  0.00  0.21\n",
      "Bob    1.73  0.00  0.61\n",
      "Cindy  1.29  0.00  0.76\n",
      "Dan    1.62  0.00  0.95\n",
      "Emily  0.39  1.84  0.00\n",
      "Frank  0.00  2.28  0.00\n",
      "Greg   0.20  0.92  0.00\n",
      "   Matrix  Alien  StarWars  Casablanca  Titanic\n",
      "0    0.00   3.02      1.85        0.00     0.00\n",
      "1    0.00   0.20      0.00        2.19     2.19\n",
      "2    5.21   0.00      2.31        0.00     0.00\n"
     ]
    }
   ],
   "source": [
    "# Make interpretable\n",
    "movies = ['Matrix','Alien','StarWars','Casablanca','Titanic']\n",
    "users = ['Alice','Bob','Cindy','Dan','Emily','Frank','Greg']\n",
    "\n",
    "W, H = (np.around(x,2) for x in (W,H))\n",
    "W = pd.DataFrame(W,index=users)\n",
    "H = pd.DataFrame(H,columns=movies)\n",
    "\n",
    "print W \n",
    "print H"
   ]
  },
  {
   "cell_type": "code",
   "execution_count": 73,
   "metadata": {
    "collapsed": false
   },
   "outputs": [
    {
     "name": "stdout",
     "output_type": "stream",
     "text": [
      "       Matrix  Alien  StarWars  Casablanca  Titanic\n",
      "Alice    1.09   2.11      1.78        0.00     0.00\n",
      "Bob      3.18   5.22      4.61        0.00     0.00\n",
      "Cindy    3.96   3.90      4.14        0.00     0.00\n",
      "Dan      4.95   4.89      5.19        0.00     0.00\n",
      "Emily    0.00   1.55      0.72        4.03     4.03\n",
      "Frank    0.00   0.46      0.00        4.99     4.99\n",
      "Greg     0.00   0.79      0.37        2.01     2.01\n",
      "       Matrix  Alien  StarWars  Casablanca  Titanic\n",
      "Alice       1      2         2           0        0\n",
      "Bob         3      5         5           0        0\n",
      "Cindy       4      4         4           0        0\n",
      "Dan         5      5         5           0        0\n",
      "Emily       0      2         0           4        4\n",
      "Frank       0      0         0           5        5\n",
      "Greg        0      1         0           2        2\n"
     ]
    }
   ],
   "source": [
    "# Verify reconstruction\n",
    "print np.around(W.dot(H),2)\n",
    "print pd.DataFrame(M, index=users, columns=movies)"
   ]
  },
  {
   "cell_type": "code",
   "execution_count": 74,
   "metadata": {
    "collapsed": false
   },
   "outputs": [
    {
     "name": "stdout",
     "output_type": "stream",
     "text": [
      "          0     1     2\n",
      "Alice -0.21  0.02  0.31\n",
      "Bob   -0.55  0.06  0.53\n",
      "Cindy -0.50  0.07 -0.31\n",
      "Dan   -0.62  0.08 -0.39\n",
      "Emily -0.12 -0.60  0.40\n",
      "Frank -0.04 -0.73 -0.42\n",
      "Greg  -0.06 -0.30  0.20\n",
      "[ 13.84   9.52   1.69]\n",
      "   Matrix  Alien  StarWars  Casablanca  Titanic\n",
      "0   -0.50  -0.62     -0.60       -0.06    -0.06\n",
      "1    0.09  -0.05      0.11       -0.70    -0.70\n",
      "2   -0.78   0.62      0.03       -0.07    -0.07\n"
     ]
    }
   ],
   "source": [
    "# Compare to SVD\n",
    "from numpy.linalg import svd\n",
    "k = 3\n",
    "\n",
    "# Compute SVD\n",
    "U, sigma, VT = svd(M)\n",
    "\n",
    "# Make pretty\n",
    "U, sigma, VT = (np.around(x,2) for x in (U,sigma,VT))\n",
    "U = pd.DataFrame(U, index=users)\n",
    "VT = pd.DataFrame(VT, columns=movies)\n",
    "\n",
    "# Keep top two concepts\n",
    "U = U.iloc[:,:k]\n",
    "sigma = sigma[:k]\n",
    "VT = VT.iloc[:k,:]\n",
    "\n",
    "print U\n",
    "print sigma\n",
    "print VT"
   ]
  },
  {
   "cell_type": "markdown",
   "metadata": {
    "collapsed": true
   },
   "source": [
    "## Interpreting Concepts\n",
    "#### Think of NMF like 'fuzzy clustering'\n",
    "- The concepts are clusters\n",
    "- Each row (document, user, etc...) can belong to more than one concept\n",
    "\n",
    "#### Top Questions:\n",
    "1. What do the concepts (clusters) mean?\n",
    "2. To which concept(s) does each user/document belong?"
   ]
  },
  {
   "cell_type": "markdown",
   "metadata": {},
   "source": [
    "#### What is concept 0?"
   ]
  },
  {
   "cell_type": "code",
   "execution_count": 75,
   "metadata": {
    "collapsed": false
   },
   "outputs": [
    {
     "data": {
      "text/plain": [
       "Index([u'Alien', u'StarWars'], dtype='object')"
      ]
     },
     "execution_count": 75,
     "metadata": {},
     "output_type": "execute_result"
    }
   ],
   "source": [
    "# Top 2 movies in genre 0\n",
    "top_movies = H.iloc[0].sort_values(ascending=False).index[:2]\n",
    "top_movies"
   ]
  },
  {
   "cell_type": "markdown",
   "metadata": {},
   "source": [
    "#### Which users align with concept 0?"
   ]
  },
  {
   "cell_type": "code",
   "execution_count": 76,
   "metadata": {
    "collapsed": false
   },
   "outputs": [
    {
     "data": {
      "text/plain": [
       "Index([u'Bob', u'Dan'], dtype='object')"
      ]
     },
     "execution_count": 76,
     "metadata": {},
     "output_type": "execute_result"
    }
   ],
   "source": [
    "# Top 2 users for genre 1\n",
    "top_users = W.iloc[:,0].sort_values(ascending=False).index[:2]\n",
    "top_users"
   ]
  },
  {
   "cell_type": "markdown",
   "metadata": {},
   "source": [
    "#### What concepts does Emily align with?"
   ]
  },
  {
   "cell_type": "code",
   "execution_count": 77,
   "metadata": {
    "collapsed": false
   },
   "outputs": [
    {
     "data": {
      "text/plain": [
       "0    0.39\n",
       "1    1.84\n",
       "2    0.00\n",
       "Name: Emily, dtype: float64"
      ]
     },
     "execution_count": 77,
     "metadata": {},
     "output_type": "execute_result"
    }
   ],
   "source": [
    "W.loc['Emily']"
   ]
  },
  {
   "cell_type": "markdown",
   "metadata": {},
   "source": [
    "#### What are all the movies in each concept?"
   ]
  },
  {
   "cell_type": "code",
   "execution_count": 78,
   "metadata": {
    "collapsed": false
   },
   "outputs": [
    {
     "name": "stdout",
     "output_type": "stream",
     "text": [
      "Concept 0 contains: Alien, StarWars\n",
      "Concept 1 contains: Casablanca, Titanic\n",
      "Concept 2 contains: Matrix, StarWars\n"
     ]
    }
   ],
   "source": [
    "# Number of movies in each concept\n",
    "thresh = .2  # movie is included if at least 20% of max weight\n",
    "for g in range(3):\n",
    "    all_movies = H.iloc[g,:]\n",
    "    included = H.columns[all_movies >= (thresh * all_movies.max())]\n",
    "    print \"Concept %i contains: %s\" % (g, ', '.join(included))"
   ]
  },
  {
   "cell_type": "markdown",
   "metadata": {},
   "source": [
    "#### Which users are associated with each concept?"
   ]
  },
  {
   "cell_type": "code",
   "execution_count": 79,
   "metadata": {
    "collapsed": false
   },
   "outputs": [
    {
     "name": "stdout",
     "output_type": "stream",
     "text": [
      "Concept 0 contains: Alice, Bob, Cindy, Dan, Emily\n",
      "Concept 1 contains: Emily, Frank, Greg\n",
      "Concept 2 contains: Alice, Bob, Cindy, Dan\n"
     ]
    }
   ],
   "source": [
    "# Users in each concept\n",
    "thresh = .2  # movie is included if at least 20% of max weight\n",
    "for g in range(3):\n",
    "    all_users = W.iloc[:,g]\n",
    "    included = W.index[all_users >= (thresh * all_users.max())]\n",
    "    print \"Concept %i contains: %s\" % (g, ', '.join(included))"
   ]
  },
  {
   "cell_type": "code",
   "execution_count": 95,
   "metadata": {
    "collapsed": false
   },
   "outputs": [],
   "source": [
    "answers = [\"One approach we could try is to limit S to be a square matrix and \" +\n",
    "           \"enforce positivity requirements on all matrices (including M). If this were \" +\n",
    "           \"possible, then we could multiply S into U or V which may result in the \" +\n",
    "           \"decomposition M = H * W with everything being positive.\",\n",
    "           \n",
    "           \"SVD is nice because it has a closed form solution that will always exist. \" +\n",
    "           \"NMF on the other hand does not. NMF can be solved through various techniques. \" +\n",
    "           \"Here we will solve it using alternating least squares.\",\n",
    "           \n",
    "           \"We can solve the equation (W * H).T = V.T or H.T * W.T = V.T for W.T. We just \" +\n",
    "           \"need to remember to transpose our final answer.\"\n",
    "           ]"
   ]
  },
  {
   "cell_type": "code",
   "execution_count": 90,
   "metadata": {
    "collapsed": true
   },
   "outputs": [],
   "source": [
    "students = [\"Suresh\",\"Sally\",\"Corbin\",\"Danius\",\"David\",\"Dustin\",\"Eduardo\",\"Evan\",\"Grier\",\"Jane\",\"Jared\",\"Jonathan T.\",\"Jonathan B.\",\"Kathy\",\"Morgan\",\"Nicholas \",\"Rob D.\",\"Rob W.\",\"Rob F. \",\"Sal\",\"Scott\",\"Sean \",\"Stefanie\",\"Sydney\",\"Zane\",]"
   ]
  },
  {
   "cell_type": "code",
   "execution_count": 56,
   "metadata": {
    "collapsed": true
   },
   "outputs": [],
   "source": [
    "def solve_for_w(H, v):\n",
    "    # Solve for W leaving H fixed\n",
    "    W = np.linalg.lstsq(H.T, V.T)[0].T\n",
    "\n",
    "    # Clip W so there are no negative values\n",
    "    W[W < 0] = 0\n",
    "    \n",
    "    print np.linalg.norm(V - np.dot(W,H))\n",
    "    return W"
   ]
  },
  {
   "cell_type": "code",
   "execution_count": null,
   "metadata": {
    "collapsed": true
   },
   "outputs": [],
   "source": []
  }
 ],
 "metadata": {
  "kernelspec": {
   "display_name": "Python 2",
   "language": "python",
   "name": "python2"
  },
  "language_info": {
   "codemirror_mode": {
    "name": "ipython",
    "version": 2
   },
   "file_extension": ".py",
   "mimetype": "text/x-python",
   "name": "python",
   "nbconvert_exporter": "python",
   "pygments_lexer": "ipython2",
   "version": "2.7.12"
  }
 },
 "nbformat": 4,
 "nbformat_minor": 0
}
