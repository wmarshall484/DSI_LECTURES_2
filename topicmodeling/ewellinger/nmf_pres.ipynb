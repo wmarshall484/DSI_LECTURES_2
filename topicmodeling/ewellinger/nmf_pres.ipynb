{
 "cells": [
  {
   "cell_type": "code",
   "execution_count": 1,
   "metadata": {
    "collapsed": false
   },
   "outputs": [],
   "source": [
    "%matplotlib inline\n",
    "import pandas as pd\n",
    "import numpy as np\n",
    "import matplotlib.pyplot as plt\n",
    "plt.style.use('ggplot')"
   ]
  },
  {
   "cell_type": "markdown",
   "metadata": {},
   "source": [
    "## Review\n",
    "\n",
    "### System of Linear Equations Exact Solver\n",
    "\n",
    "$$ \\begin{bmatrix} 1 & 2 \\\\ -3 & 4 \\end{bmatrix} \\left[ \\begin{array}{c} x_1 \\\\ x_2 \\end{array} \\right] = \\left[ \\begin{array}{cc} 7 \\\\ -9 \\end{array} \\right] $$"
   ]
  },
  {
   "cell_type": "code",
   "execution_count": 2,
   "metadata": {
    "collapsed": false
   },
   "outputs": [
    {
     "name": "stdout",
     "output_type": "stream",
     "text": [
      "[ 4.6  1.2]\n"
     ]
    }
   ],
   "source": [
    "A = np.array([[1, 2], [-3, 4]])\n",
    "b = np.array([7, -9])\n",
    "\n",
    "print np.linalg.solve(A, b)"
   ]
  },
  {
   "cell_type": "markdown",
   "metadata": {},
   "source": [
    "### Least Squares Solver\n",
    "\n",
    "What if we have an overdetermined system of linear equations? E.g.\n",
    "\n",
    "$$ \\begin{bmatrix} 1 & 2 \\\\ -3 & 4 \\\\ 1 & -4 \\end{bmatrix} \\left[ \\begin{array}{c} x_1 \\\\ x_2 \\end{array} \\right] = \\left[ \\begin{array}{cc} 7 \\\\ -9 \\\\ 17 \\end{array} \\right] $$\n",
    "\n",
    "An exact solution is not guaranteed, so we must do something else. Least Squares dictates that we find the $x$ that minimizes the residual sum of squares (RSS).\n",
    "\n",
    "(Note: This is the solver we use when doing Linear Regression!)"
   ]
  },
  {
   "cell_type": "code",
   "execution_count": 3,
   "metadata": {
    "collapsed": false
   },
   "outputs": [
    {
     "name": "stdout",
     "output_type": "stream",
     "text": [
      "[ 2.88 -1.38]\n"
     ]
    }
   ],
   "source": [
    "A = np.array([[1, 2], [-3, 4], [1, -4]])\n",
    "b = np.array([7, -9, 17])\n",
    "\n",
    "print np.linalg.lstsq(A, b)[0]"
   ]
  },
  {
   "cell_type": "markdown",
   "metadata": {},
   "source": [
    "### Non-negative Least Squares Solver\n",
    "\n",
    "What if you want to constrain the solution to be non-negative? (Doing such a thing will be important to us today.)\n",
    "\n",
    "We have optomizers for that too!\n",
    "\n",
    "**NOTE**: [This](http://docs.scipy.org/doc/scipy/reference/generated/scipy.optimize.nnls.html) function will only work when `b` is a vector, not a matrix.  So this will unfortunately not work for our purposes today."
   ]
  },
  {
   "cell_type": "code",
   "execution_count": 4,
   "metadata": {
    "collapsed": false
   },
   "outputs": [
    {
     "name": "stdout",
     "output_type": "stream",
     "text": [
      "[ 4.63636364  0.        ]\n"
     ]
    }
   ],
   "source": [
    "from scipy.optimize import nnls\n",
    "\n",
    "A = np.array([[1, 2], [-3, 4], [1, -4]])\n",
    "b = np.array([7, -9, 17])\n",
    "\n",
    "print nnls(A, b)[0]"
   ]
  },
  {
   "cell_type": "markdown",
   "metadata": {},
   "source": [
    "### Numpy Least Squares\n",
    "\n",
    "For this afternoon we will be using [Numpy's Least Squares Solver](http://docs.scipy.org/doc/numpy/reference/generated/numpy.linalg.lstsq.html).  This allows us to solve the problem `ax = b` where where `x = np.linalg.lstsq(a, b)`"
   ]
  },
  {
   "cell_type": "code",
   "execution_count": 5,
   "metadata": {
    "collapsed": false
   },
   "outputs": [
    {
     "name": "stdout",
     "output_type": "stream",
     "text": [
      "[[ 1.4 -1.8  3.4]\n",
      " [ 2.8 -3.6  6.8]]\n",
      "\n",
      "Matrix after being clipped:\n",
      "[[ 1.4  0.   3.4]\n",
      " [ 2.8  0.   6.8]]\n"
     ]
    }
   ],
   "source": [
    "A = np.array([[1, 2]])\n",
    "b = np.array([[7, -9, 17]])\n",
    "\n",
    "x = np.linalg.lstsq(A, b)[0]\n",
    "\n",
    "print(x)\n",
    "print('\\nMatrix after being clipped:')\n",
    "print(x.clip(min=0))"
   ]
  },
  {
   "cell_type": "markdown",
   "metadata": {},
   "source": [
    "## Problems with SVD for topic analysis\n",
    "\n",
    "**Recall:** $M = U S V^T$\n",
    "\n",
    "* Values in $U$ and $V^T$ can be negative, which is weird and hard to interpret. For example, suppose a latent feature is the genre 'Sci-fi'. This feature can be positive (makes sense), zero (makes sense), or negative (what does that mean?).\n",
    "\n",
    "* SVD forces us to fill in missing values, then SVD models those missing values, which is bad.\n",
    "\n",
    "Today we're going to cover NMF, which will address the first issue. Tomorrow afternoon we'll discuss how to address the second issue."
   ]
  },
  {
   "cell_type": "markdown",
   "metadata": {},
   "source": [
    "## NMF for topic analysis\n",
    "\n",
    "### Example\n",
    "\n",
    "Let's look at users ratings of different movies. The ratings are from 1-5. A rating of 0 means the user hasn't watched the movie.\n",
    "\n",
    "|              | Matrix | Alien | Spaceballs | Casablanca | Titanic |\n",
    "|:------------:|:------:|:-----:|:----------:|:----------:|:-------:|\n",
    "|  **Lance**   |   1    |   2   |     2      |     0      |    0    |\n",
    "|   **Jan**    |   3    |   5   |     5      |     0      |    0    |\n",
    "|    **JP**    |   4    |   4   |     4      |     0      |    0    |\n",
    "| **Gretchen** |   5    |   5   |     5      |     0      |    0    |\n",
    "|  **Kayla**   |   0    |   2   |     0      |     4      |    4    |\n",
    "|  **Frank**   |   0    |   0   |     0      |     5      |    5    |\n",
    "|   **Adam**   |   0    |   1   |     0      |     2      |    2    |\n",
    "\n",
    "Note that the first three movies (Matrix, Alien, StarWars) are Sci-fi movies and the last two (Casablanca, Titanic) are Romance. We will be able to mathematically pull out these topics!"
   ]
  },
  {
   "cell_type": "code",
   "execution_count": 6,
   "metadata": {
    "collapsed": false
   },
   "outputs": [],
   "source": [
    "M = np.array([[1, 2, 2, 0, 0],\n",
    "              [3, 5, 5, 0, 0],\n",
    "              [4, 4, 4, 0, 0],\n",
    "              [5, 5, 5, 0, 0],\n",
    "              [0, 2, 0, 4, 4],\n",
    "              [0, 0, 0, 5, 5],\n",
    "              [0, 1, 0, 2, 2]])"
   ]
  },
  {
   "cell_type": "code",
   "execution_count": 8,
   "metadata": {
    "collapsed": false
   },
   "outputs": [
    {
     "data": {
      "image/png": "[encoded data removed]",
      "text/plain": [
       "<matplotlib.figure.Figure at 0x117b0f350>"
      ]
     },
     "metadata": {},
     "output_type": "display_data"
    }
   ],
   "source": [
    "# Compute NMF\n",
    "from sklearn.decomposition import NMF\n",
    "\n",
    "def fit_nmf(k):\n",
    "    nmf = NMF(n_components=k)\n",
    "    nmf.fit(M)\n",
    "    W = nmf.transform(M)\n",
    "    H = nmf.components_\n",
    "    return nmf.reconstruction_err_\n",
    "\n",
    "error = [fit_nmf(i) for i in range(1,6)]\n",
    "plt.plot(range(1,6), error)\n",
    "plt.xlabel('k')\n",
    "plt.ylabel('Reconstruction Errror');"
   ]
  },
  {
   "cell_type": "code",
   "execution_count": 9,
   "metadata": {
    "collapsed": false
   },
   "outputs": [
    {
     "name": "stdout",
     "output_type": "stream",
     "text": [
      "RSS = 1.23\n"
     ]
    }
   ],
   "source": [
    "# Fit using 3 hidden concepts\n",
    "nmf = NMF(n_components=3)\n",
    "nmf.fit(M)\n",
    "W = nmf.transform(M)\n",
    "H = nmf.components_\n",
    "print 'RSS = {:.2f}'.format(nmf.reconstruction_err_)"
   ]
  },
  {
   "cell_type": "code",
   "execution_count": 10,
   "metadata": {
    "collapsed": false
   },
   "outputs": [
    {
     "name": "stdout",
     "output_type": "stream",
     "text": [
      "             0     1     2\n",
      "Lance     0.70  0.00  0.21\n",
      "Jan       1.73  0.00  0.61\n",
      "JP        1.29  0.00  0.76\n",
      "Gretchen  1.62  0.00  0.95\n",
      "Kayla     0.39  1.84  0.00\n",
      "Frank     0.00  2.28  0.00\n",
      "Adam      0.20  0.92  0.00\n",
      "\n",
      "\n",
      "   Matrix  Alien  Spaceballs  Casablanca  Titanic\n",
      "0    0.00   3.02        1.85        0.00     0.00\n",
      "1    0.00   0.20        0.00        2.19     2.19\n",
      "2    5.21   0.00        2.31        0.00     0.00\n"
     ]
    }
   ],
   "source": [
    "# Make interpretable\n",
    "movies = ['Matrix','Alien','Spaceballs','Casablanca','Titanic']\n",
    "users = ['Lance', 'Jan', 'JP', 'Gretchen', 'Kayla', 'Frank', 'Adam']\n",
    "\n",
    "W, H = (np.around(x,2) for x in (W,H))\n",
    "W = pd.DataFrame(W,index=users)\n",
    "H = pd.DataFrame(H,columns=movies)\n",
    "\n",
    "print(W)\n",
    "print('\\n')\n",
    "print(H)"
   ]
  },
  {
   "cell_type": "code",
   "execution_count": 11,
   "metadata": {
    "collapsed": false
   },
   "outputs": [
    {
     "name": "stdout",
     "output_type": "stream",
     "text": [
      "          Matrix  Alien  Spaceballs  Casablanca  Titanic\n",
      "Lance        1.1    2.1         1.8         0.0      0.0\n",
      "Jan          3.2    5.2         4.6         0.0      0.0\n",
      "JP           4.0    3.9         4.1         0.0      0.0\n",
      "Gretchen     4.9    4.9         5.2         0.0      0.0\n",
      "Kayla        0.0    1.5         0.7         4.0      4.0\n",
      "Frank        0.0    0.5         0.0         5.0      5.0\n",
      "Adam         0.0    0.8         0.4         2.0      2.0\n",
      "\n",
      "\n",
      "          Matrix  Alien  Spaceballs  Casablanca  Titanic\n",
      "Lance          1      2           2           0        0\n",
      "Jan            3      5           5           0        0\n",
      "JP             4      4           4           0        0\n",
      "Gretchen       5      5           5           0        0\n",
      "Kayla          0      2           0           4        4\n",
      "Frank          0      0           0           5        5\n",
      "Adam           0      1           0           2        2\n"
     ]
    }
   ],
   "source": [
    "# Verify reconstruction\n",
    "print(np.around(W.dot(H),1))\n",
    "print('\\n')\n",
    "print(pd.DataFrame(M, index=users, columns=movies))"
   ]
  },
  {
   "cell_type": "code",
   "execution_count": 12,
   "metadata": {
    "collapsed": false
   },
   "outputs": [
    {
     "name": "stdout",
     "output_type": "stream",
     "text": [
      "             0     1     2\n",
      "Lance    -0.21  0.02  0.31\n",
      "Jan      -0.55  0.06  0.53\n",
      "JP       -0.50  0.07 -0.31\n",
      "Gretchen -0.62  0.08 -0.39\n",
      "Kayla    -0.12 -0.60  0.40\n",
      "Frank    -0.04 -0.73 -0.42\n",
      "Adam     -0.06 -0.30  0.20\n",
      "\n",
      "\n",
      "[ 13.84   9.52   1.69]\n",
      "\n",
      "\n",
      "   Matrix  Alien  Spaceballs  Casablanca  Titanic\n",
      "0   -0.50  -0.62       -0.60       -0.06    -0.06\n",
      "1    0.09  -0.05        0.11       -0.70    -0.70\n",
      "2   -0.78   0.62        0.03       -0.07    -0.07\n"
     ]
    }
   ],
   "source": [
    "# Compare to SVD\n",
    "from numpy.linalg import svd\n",
    "k = 3\n",
    "\n",
    "# Compute SVD\n",
    "U, sigma, VT = svd(M)\n",
    "\n",
    "# Make pretty\n",
    "U, sigma, VT = (np.around(x,2) for x in (U,sigma,VT))\n",
    "U = pd.DataFrame(U, index=users)\n",
    "VT = pd.DataFrame(VT, columns=movies)\n",
    "\n",
    "# Keep top three concepts\n",
    "U = U.iloc[:,:k]\n",
    "sigma = sigma[:k]\n",
    "VT = VT.iloc[:k,:]\n",
    "\n",
    "print(U)\n",
    "print('\\n')\n",
    "print(sigma)\n",
    "print('\\n')\n",
    "print(VT)"
   ]
  },
  {
   "cell_type": "markdown",
   "metadata": {
    "collapsed": true
   },
   "source": [
    "## Interpreting Concepts\n",
    "#### Think of NMF like 'fuzzy clustering'\n",
    "- The concepts are clusters\n",
    "- Each row (document, user, etc...) can belong to more than one concept\n",
    "\n",
    "#### Top Questions:\n",
    "1. What do the concepts (clusters) mean?\n",
    "2. To which concept(s) does each user/document belong?"
   ]
  },
  {
   "cell_type": "markdown",
   "metadata": {},
   "source": [
    "#### What is concept 0?"
   ]
  },
  {
   "cell_type": "code",
   "execution_count": 13,
   "metadata": {
    "collapsed": false
   },
   "outputs": [
    {
     "data": {
      "text/plain": [
       "Index([u'Alien', u'Spaceballs'], dtype='object')"
      ]
     },
     "execution_count": 13,
     "metadata": {},
     "output_type": "execute_result"
    }
   ],
   "source": [
    "# Top 2 movies in genre 0\n",
    "top_movies = H.iloc[0, :].sort_values(ascending=False).index[:2]\n",
    "top_movies"
   ]
  },
  {
   "cell_type": "markdown",
   "metadata": {},
   "source": [
    "#### Which users align with concept 0?"
   ]
  },
  {
   "cell_type": "code",
   "execution_count": 14,
   "metadata": {
    "collapsed": false
   },
   "outputs": [
    {
     "data": {
      "text/plain": [
       "Index([u'Jan', u'Gretchen'], dtype='object')"
      ]
     },
     "execution_count": 14,
     "metadata": {},
     "output_type": "execute_result"
    }
   ],
   "source": [
    "# Top 2 users for genre 0\n",
    "top_users = W.iloc[:,0].sort_values(ascending=False).index[:2]\n",
    "top_users"
   ]
  },
  {
   "cell_type": "markdown",
   "metadata": {},
   "source": [
    "#### What concepts does Kayla align with?"
   ]
  },
  {
   "cell_type": "code",
   "execution_count": 15,
   "metadata": {
    "collapsed": false
   },
   "outputs": [
    {
     "data": {
      "text/plain": [
       "0    0.39\n",
       "1    1.84\n",
       "2    0.00\n",
       "Name: Kayla, dtype: float64"
      ]
     },
     "execution_count": 15,
     "metadata": {},
     "output_type": "execute_result"
    }
   ],
   "source": [
    "W.loc['Kayla']"
   ]
  },
  {
   "cell_type": "markdown",
   "metadata": {},
   "source": [
    "#### What are all the movies in each concept?"
   ]
  },
  {
   "cell_type": "code",
   "execution_count": 16,
   "metadata": {
    "collapsed": false
   },
   "outputs": [
    {
     "name": "stdout",
     "output_type": "stream",
     "text": [
      "Concept 0 contains: Alien, Spaceballs\n",
      "Concept 1 contains: Casablanca, Titanic\n",
      "Concept 2 contains: Matrix, Spaceballs\n"
     ]
    }
   ],
   "source": [
    "# Number of movies in each concept\n",
    "thresh = .2  # movie is included if at least 20% of max weight\n",
    "for g in range(3):\n",
    "    all_movies = H.iloc[g,:]\n",
    "    included = H.columns[all_movies >= (thresh * all_movies.max())]\n",
    "    print \"Concept {} contains: {}\".format(g, ', '.join(included))"
   ]
  },
  {
   "cell_type": "markdown",
   "metadata": {},
   "source": [
    "#### Which users are associated with each concept?"
   ]
  },
  {
   "cell_type": "code",
   "execution_count": 17,
   "metadata": {
    "collapsed": false
   },
   "outputs": [
    {
     "name": "stdout",
     "output_type": "stream",
     "text": [
      "Concept 0 contains: Lance, Jan, JP, Gretchen, Kayla\n",
      "Concept 1 contains: Kayla, Frank, Adam\n",
      "Concept 2 contains: Lance, Jan, JP, Gretchen\n"
     ]
    }
   ],
   "source": [
    "# Users in each concept\n",
    "thresh = .2  # user is included if at least 20% of max weight\n",
    "for g in range(3):\n",
    "    all_users = W.iloc[:,g]\n",
    "    included = W.index[all_users >= (thresh * all_users.max())]\n",
    "    print \"Concept %i contains: %s\" % (g, ', '.join(included))"
   ]
  },
  {
   "cell_type": "code",
   "execution_count": null,
   "metadata": {
    "collapsed": true
   },
   "outputs": [],
   "source": []
  }
 ],
 "metadata": {
  "anaconda-cloud": {},
  "kernelspec": {
   "display_name": "Python [conda env:py2]",
   "language": "python",
   "name": "conda-env-py2-py"
  },
  "language_info": {
   "codemirror_mode": {
    "name": "ipython",
    "version": 2
   },
   "file_extension": ".py",
   "mimetype": "text/x-python",
   "name": "python",
   "nbconvert_exporter": "python",
   "pygments_lexer": "ipython2",
   "version": "2.7.12"
  }
 },
 "nbformat": 4,
 "nbformat_minor": 0
}
