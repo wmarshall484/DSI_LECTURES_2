{
 "cells": [
  {
   "cell_type": "code",
   "execution_count": 32,
   "metadata": {
    "collapsed": false
   },
   "outputs": [
    {
     "name": "stdout",
     "output_type": "stream",
     "text": [
      "Populating the interactive namespace from numpy and matplotlib\n"
     ]
    }
   ],
   "source": [
    "%pylab inline"
   ]
  },
  {
   "cell_type": "markdown",
   "metadata": {},
   "source": [
    "## NMF for topic analysis\n",
    "\n",
    "### Example\n",
    "\n",
    "Let's look at users ratings of different movies. The ratings are from 1-5. A rating of 0 means the user watched the movie and hated it completely.\n",
    "\n",
    "|       | Matrix | Alien | StarWars | Casablanca | Titanic |\n",
    "| ----- | ------ | ----- | -------- | ---------- | ------ |\n",
    "| **Alice** |      1 |     2 |        2 |          0 |      0 |\n",
    "|   **Bob** |      3 |     5 |        5 |          0 |      0 |\n",
    "| **Cindy** |      4 |     4 |        4 |          0 |      0 |\n",
    "|   **Dan** |      5 |     5 |        5 |          0 |      0 |\n",
    "| **Emily** |      0 |     2 |        0 |          4 |      4 |\n",
    "| **Frank** |      0 |     0 |        0 |          5 |      5 |\n",
    "|  **Greg** |      0 |     1 |        0 |          2 |      2 |\n",
    "\n",
    "Note that the first three movies (Matrix, Alien, StarWars) are Sci-fi movies and the last two (Casablanca, Titanic) are Romance. We will be able to mathematically pull out these topics!"
   ]
  },
  {
   "cell_type": "code",
   "execution_count": 33,
   "metadata": {
    "collapsed": false
   },
   "outputs": [],
   "source": [
    "\n",
    "\n",
    "## Alice Bob and Cindy all seem to like movies in space\n",
    "## Emily Frank and Greg like romance movies in difficult circumstances. \n",
    "## And for some reason they like Alien too.\n",
    "\n",
    "\n",
    "import pandas as pd\n",
    "import numpy as np\n",
    "\n",
    "M = np.array([[1, 2, 2, 0, 0],\n",
    "              [3, 5, 5, 0, 0],\n",
    "              [4, 4, 4, 0, 0],\n",
    "              [5, 5, 5, 0, 0],\n",
    "              [0, 2, 0, 4, 4],\n",
    "              [0, 0, 0, 5, 5],\n",
    "              [0, 1, 0, 2, 2]])\n",
    "\n"
   ]
  },
  {
   "cell_type": "code",
   "execution_count": 34,
   "metadata": {
    "collapsed": false
   },
   "outputs": [
    {
     "data": {
      "text/plain": [
       "<matplotlib.text.Text at 0x117781650>"
      ]
     },
     "execution_count": 34,
     "metadata": {},
     "output_type": "execute_result"
    },
    {
     "data": {
      "image/png": "[encoded data removed]",
      "text/plain": [
       "<matplotlib.figure.Figure at 0x1174e7690>"
      ]
     },
     "metadata": {},
     "output_type": "display_data"
    }
   ],
   "source": [
    "# Compute NMF\n",
    "from sklearn.decomposition import NMF\n",
    "\n",
    "# fit_nmf returns the reconstruction error and demonstrates how to find the matrices.  \n",
    "def fit_nmf(k):\n",
    "    # instantiate an nmf object. \n",
    "    nmf = NMF(n_components=k)\n",
    "    nmf.fit(M)\n",
    "    W = nmf.transform(M);\n",
    "    H = nmf.components_;\n",
    "    return nmf.reconstruction_err_\n",
    "error = [fit_nmf(i) for i in range(1,6)]\n",
    "plt.plot(range(1,6), error)\n",
    "plt.xlabel('k')\n",
    "plt.ylabel('Reconstruction Errror')"
   ]
  },
  {
   "cell_type": "code",
   "execution_count": 48,
   "metadata": {
    "collapsed": false,
    "scrolled": true
   },
   "outputs": [
    {
     "name": "stdout",
     "output_type": "stream",
     "text": [
      "RSS = 1.23\n"
     ]
    }
   ],
   "source": [
    "# Fit using 3 hidden concepts\n",
    "nmf = NMF(n_components=3)\n",
    "nmf.fit(M)\n",
    "W = nmf.transform(M);\n",
    "H = nmf.components_;\n",
    "print 'RSS = %.2f' % nmf.reconstruction_err_\n"
   ]
  },
  {
   "cell_type": "code",
   "execution_count": 57,
   "metadata": {
    "collapsed": false
   },
   "outputs": [
    {
     "name": "stdout",
     "output_type": "stream",
     "text": [
      "          0     1     2\n",
      "Alice  0.70  0.00  0.21\n",
      "Bob    1.73  0.00  0.61\n",
      "Cindy  1.29  0.00  0.76\n",
      "Dan    1.62  0.00  0.95\n",
      "Emily  0.39  1.84  0.00\n",
      "Frank  0.00  2.28  0.00\n",
      "Greg   0.20  0.92  0.00\n",
      "   Matrix  Alien  StarWars  Casablanca  Titanic\n",
      "0    0.00   3.02      1.85        0.00     0.00\n",
      "1    0.00   0.20      0.00        2.19     2.19\n",
      "2    5.21   0.00      2.31        0.00     0.00\n"
     ]
    }
   ],
   "source": [
    "## To make things interpretable we have to label the rows and columns of the data matrix. \n",
    "\n",
    "# Make interpretable\n",
    "movies = ['Matrix','Alien','StarWars','Casablanca','Titanic']\n",
    "users = ['Alice','Bob','Cindy','Dan','Emily','Frank','Greg']\n",
    "## np.around rounds to the given number of decimal places. In this case 2. \n",
    "W = np.around(W,2)\n",
    "H = np.around(H,2)\n",
    "\n",
    "## we take the dataframe W and index it with the users list. \n",
    "\n",
    "W = pd.DataFrame(W,index=users)\n",
    "\n",
    "## we take the dataframe H and name the columns with the movies list. \n",
    "H = pd.DataFrame(H,columns=movies)\n",
    "\n",
    "print W \n",
    "print H\n"
   ]
  },
  {
   "cell_type": "code",
   "execution_count": 51,
   "metadata": {
    "collapsed": false
   },
   "outputs": [
    {
     "name": "stdout",
     "output_type": "stream",
     "text": [
      "       Matrix  Alien  StarWars  Casablanca  Titanic\n",
      "Alice    1.09   2.11      1.78        0.00     0.00\n",
      "Bob      3.18   5.22      4.61        0.00     0.00\n",
      "Cindy    3.96   3.90      4.14        0.00     0.00\n",
      "Dan      4.95   4.89      5.19        0.00     0.00\n",
      "Emily    0.00   1.55      0.72        4.03     4.03\n",
      "Frank    0.00   0.46      0.00        4.99     4.99\n",
      "Greg     0.00   0.79      0.37        2.01     2.01\n",
      "       Matrix  Alien  StarWars  Casablanca  Titanic\n",
      "Alice       1      2         2           0        0\n",
      "Bob         3      5         5           0        0\n",
      "Cindy       4      4         4           0        0\n",
      "Dan         5      5         5           0        0\n",
      "Emily       0      2         0           4        4\n",
      "Frank       0      0         0           5        5\n",
      "Greg        0      1         0           2        2\n"
     ]
    }
   ],
   "source": [
    "# Verify reconstruction\n",
    "\n",
    "## We take our two matrices and multiply them together. We may get some error from rounding. \n",
    "print np.around(W.dot(H),2)\n",
    "print pd.DataFrame(M, index=users, columns=movies)"
   ]
  },
  {
   "cell_type": "code",
   "execution_count": 38,
   "metadata": {
    "collapsed": false
   },
   "outputs": [
    {
     "name": "stdout",
     "output_type": "stream",
     "text": [
      "          0     1     2\n",
      "Alice -0.21  0.02  0.31\n",
      "Bob   -0.55  0.06  0.53\n",
      "Cindy -0.50  0.07 -0.31\n",
      "Dan   -0.62  0.08 -0.39\n",
      "Emily -0.12 -0.60  0.40\n",
      "Frank -0.04 -0.73 -0.42\n",
      "Greg  -0.06 -0.30  0.20\n",
      "[ 13.84   9.52   1.69]\n",
      "   Matrix  Alien  StarWars  Casablanca  Titanic\n",
      "0   -0.50  -0.62     -0.60       -0.06    -0.06\n",
      "1    0.09  -0.05      0.11       -0.70    -0.70\n",
      "2   -0.78   0.62      0.03       -0.07    -0.07\n"
     ]
    }
   ],
   "source": [
    "# Compare to SVD\n",
    "from numpy.linalg import svd\n",
    "r = 3\n",
    "\n",
    "# Compute SVD\n",
    "U, sigma, VT = svd(M)\n",
    "\n",
    "# Make pretty\n",
    "\n",
    "## round the values of the matrices\n",
    "U, sigma, VT = (np.around(x,2) for x in (U,sigma,VT))\n",
    "## add index\n",
    "U = pd.DataFrame(U, index=users)\n",
    "## ad columns\n",
    "VT = pd.DataFrame(VT, columns=movies)\n",
    "\n",
    "# Keep top two concepts\n",
    "U = U.iloc[:,:r] ## truncate the columns of U.\n",
    "sigma = sigma[:r] ## truncate the array of eigenvectors.\n",
    "VT = VT.iloc[:r,:] ## truncate the rows of V. \n",
    "\n",
    "print U\n",
    "print sigma\n",
    "print VT\n",
    "\n",
    "## The point of the output is that the preferences are negative and the weights of the movies\n",
    "## are negative too. Not very interpretable. We might want to make these positive by hand. "
   ]
  },
  {
   "cell_type": "markdown",
   "metadata": {
    "collapsed": true
   },
   "source": [
    "## Interpreting Concepts\n",
    "#### Think of NMF like 'fuzzy clustering'\n",
    "- The concepts are clusters\n",
    "- Each row (document, user, etc...) can belong to more than one concept\n",
    "\n",
    "#### Top Questions:\n",
    "1. What do the concepts (clusters) mean?\n",
    "2. To which concept(s) does each user/document belong?"
   ]
  },
  {
   "cell_type": "markdown",
   "metadata": {},
   "source": [
    "#### What is concept 0?"
   ]
  },
  {
   "cell_type": "code",
   "execution_count": 59,
   "metadata": {
    "collapsed": false
   },
   "outputs": [
    {
     "name": "stderr",
     "output_type": "stream",
     "text": [
      "/anaconda/lib/python2.7/site-packages/ipykernel/__main__.py:2: FutureWarning: order is deprecated, use sort_values(...)\n",
      "  from ipykernel import kernelapp as app\n"
     ]
    },
    {
     "data": {
      "text/plain": [
       "Index([u'Alien', u'StarWars'], dtype='object')"
      ]
     },
     "execution_count": 59,
     "metadata": {},
     "output_type": "execute_result"
    }
   ],
   "source": [
    "# Top 2 movies in genre 0\n",
    "top_movies = H.iloc[0].order(ascending=False).index[:2]\n",
    "top_movies"
   ]
  },
  {
   "cell_type": "markdown",
   "metadata": {},
   "source": [
    "#### Which users align with concept 0?"
   ]
  },
  {
   "cell_type": "code",
   "execution_count": 40,
   "metadata": {
    "collapsed": false
   },
   "outputs": [
    {
     "name": "stderr",
     "output_type": "stream",
     "text": [
      "/anaconda/lib/python2.7/site-packages/ipykernel/__main__.py:2: FutureWarning: order is deprecated, use sort_values(...)\n",
      "  from ipykernel import kernelapp as app\n"
     ]
    },
    {
     "data": {
      "text/plain": [
       "Index([u'Bob', u'Dan'], dtype='object')"
      ]
     },
     "execution_count": 40,
     "metadata": {},
     "output_type": "execute_result"
    }
   ],
   "source": [
    "# Top 2 users for genre 0\n",
    "top_users = W.iloc[:,0].order(ascending=False).index[:2]\n",
    "top_users    "
   ]
  },
  {
   "cell_type": "markdown",
   "metadata": {},
   "source": [
    "#### What concepts does Emily align with?"
   ]
  },
  {
   "cell_type": "code",
   "execution_count": 41,
   "metadata": {
    "collapsed": false
   },
   "outputs": [
    {
     "data": {
      "text/plain": [
       "0    0.39\n",
       "1    1.84\n",
       "2    0.00\n",
       "Name: Emily, dtype: float64"
      ]
     },
     "execution_count": 41,
     "metadata": {},
     "output_type": "execute_result"
    }
   ],
   "source": [
    "W.loc['Emily']"
   ]
  },
  {
   "cell_type": "markdown",
   "metadata": {},
   "source": [
    "#### What are all the movies in each concept?"
   ]
  },
  {
   "cell_type": "code",
   "execution_count": 42,
   "metadata": {
    "collapsed": false
   },
   "outputs": [
    {
     "name": "stdout",
     "output_type": "stream",
     "text": [
      "Concept 0 contains: Alien, StarWars\n",
      "Concept 1 contains: Casablanca, Titanic\n",
      "Concept 2 contains: Matrix, StarWars\n"
     ]
    }
   ],
   "source": [
    "# Number of movies in each concept\n",
    "thresh = .2  # movie is included if at least 20% of max weight\n",
    "for g in range(3):\n",
    "    all_movies = H.iloc[g,:]\n",
    "    included = H.columns[all_movies >= (thresh * all_movies.max())]\n",
    "    print \"Concept %i contains: %s\" % (g, ', '.join(included))"
   ]
  },
  {
   "cell_type": "markdown",
   "metadata": {},
   "source": [
    "#### Which users are associated with each concept?"
   ]
  },
  {
   "cell_type": "code",
   "execution_count": 43,
   "metadata": {
    "collapsed": false
   },
   "outputs": [
    {
     "name": "stdout",
     "output_type": "stream",
     "text": [
      "Concept 0 contains: Alice, Bob, Cindy, Dan, Emily\n",
      "Concept 1 contains: Emily, Frank, Greg\n",
      "Concept 2 contains: Alice, Bob, Cindy, Dan\n"
     ]
    }
   ],
   "source": [
    "# Users in each concept\n",
    "thresh = .2  # movie is included if at least 20% of max weight\n",
    "for g in range(3):\n",
    "    all_users = W.iloc[:,g]\n",
    "    included = W.index[all_users >= (thresh * all_users.max())]\n",
    "    print \"Concept %i contains: %s\" % (g, ', '.join(included))"
   ]
  },
  {
   "cell_type": "code",
   "execution_count": null,
   "metadata": {
    "collapsed": true
   },
   "outputs": [],
   "source": []
  }
 ],
 "metadata": {
  "kernelspec": {
   "display_name": "Python 2",
   "language": "python",
   "name": "python2"
  },
  "language_info": {
   "codemirror_mode": {
    "name": "ipython",
    "version": 2
   },
   "file_extension": ".py",
   "mimetype": "text/x-python",
   "name": "python",
   "nbconvert_exporter": "python",
   "pygments_lexer": "ipython2",
   "version": "2.7.11"
  }
 },
 "nbformat": 4,
 "nbformat_minor": 0
}
