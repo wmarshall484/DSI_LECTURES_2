{
 "cells": [
  {
   "cell_type": "code",
   "execution_count": 39,
   "metadata": {
    "collapsed": false
   },
   "outputs": [
    {
     "name": "stdout",
     "output_type": "stream",
     "text": [
      "Populating the interactive namespace from numpy and matplotlib\n"
     ]
    }
   ],
   "source": [
    "%pylab inline"
   ]
  },
  {
   "cell_type": "markdown",
   "metadata": {},
   "source": [
    "## NMF for topic analysis\n",
    "\n",
    "### Example\n",
    "\n",
    "Let's look at users ratings of different movies. The ratings are from 1-5. A rating of 0 means the user hasn't watched the movie.\n",
    "\n",
    "|       | Matrix | Alien | Serenity | Casablanca | Amelie |\n",
    "| ----- | ------ | ----- | -------- | ---------- | ------ |\n",
    "| **Alice** |      1 |     1 |        1 |          0 |      0 |\n",
    "|   **Bob** |      3 |     3 |        3 |          0 |      0 |\n",
    "| **Cindy** |      4 |     4 |        4 |          0 |      0 |\n",
    "|   **Dan** |      5 |     5 |        5 |          0 |      0 |\n",
    "| **Emily** |      0 |     2 |        0 |          4 |      4 |\n",
    "| **Frank** |      0 |     0 |        0 |          5 |      5 |\n",
    "|  **Greg** |      0 |     1 |        0 |          2 |      2 |\n",
    "\n",
    "Note that the first three movies (Matrix, Alien, Serenity) are Sci-fi movies and the last two (Casablanca, Amelie) are Romance. We will be able to mathematically pull out these topics!"
   ]
  },
  {
   "cell_type": "code",
   "execution_count": 40,
   "metadata": {
    "collapsed": false
   },
   "outputs": [],
   "source": [
    "import pandas as pd\n",
    "import numpy as np\n",
    "\n",
    "M = np.array([[1, 1, 1, 0, 0],\n",
    "              [3, 3, 3, 0, 0],\n",
    "              [4, 4, 4, 0, 0],\n",
    "              [5, 5, 5, 0, 0],\n",
    "              [0, 2, 0, 4, 4],\n",
    "              [0, 0, 0, 5, 5],\n",
    "              [0, 1, 0, 2, 2]])"
   ]
  },
  {
   "cell_type": "code",
   "execution_count": 41,
   "metadata": {
    "collapsed": false
   },
   "outputs": [
    {
     "data": {
      "text/plain": [
       "<matplotlib.text.Text at 0x10c863b10>"
      ]
     },
     "execution_count": 41,
     "metadata": {},
     "output_type": "execute_result"
    },
    {
     "data": {
      "image/png": "[encoded data removed]",
      "text/plain": [
       "<matplotlib.figure.Figure at 0x10c481050>"
      ]
     },
     "metadata": {},
     "output_type": "display_data"
    }
   ],
   "source": [
    "# Compute NMF\n",
    "from sklearn.decomposition import NMF\n",
    "\n",
    "def fit_nmf(k):\n",
    "    nmf = NMF(n_components=k)\n",
    "    nmf.fit(M)\n",
    "    W = nmf.transform(M);\n",
    "    H = nmf.components_;\n",
    "    return nmf.reconstruction_err_\n",
    "\n",
    "error = [fit_nmf(i) for i in range(1,4)]\n",
    "plt.plot(range(1,4), error)\n",
    "plt.xlabel('k')\n",
    "plt.ylabel('Reconstruction Errror')"
   ]
  },
  {
   "cell_type": "code",
   "execution_count": 55,
   "metadata": {
    "collapsed": false,
    "scrolled": true
   },
   "outputs": [
    {
     "name": "stdout",
     "output_type": "stream",
     "text": [
      "RSS = 0.0004\n"
     ]
    }
   ],
   "source": [
    "# Fit using 3 hidden concepts\n",
    "nmf = NMF(n_components=3)\n",
    "nmf.fit(M)\n",
    "W = nmf.transform(M);\n",
    "H = nmf.components_;\n",
    "print 'RSS = %.4f' % nmf.reconstruction_err_"
   ]
  },
  {
   "cell_type": "code",
   "execution_count": 56,
   "metadata": {
    "collapsed": false
   },
   "outputs": [
    {
     "name": "stdout",
     "output_type": "stream",
     "text": [
      "            0       1       2\n",
      "Alice  0.4861  0.0000  0.0000\n",
      "Bob    1.4584  0.0000  0.0000\n",
      "Cindy  1.9445  0.0000  0.0000\n",
      "Dan    2.4306  0.0000  0.0000\n",
      "Emily  0.0000  1.8628  2.0578\n",
      "Frank  0.0000  2.3285  0.0000\n",
      "Greg   0.0000  0.9314  1.0289\n",
      "   Matrix   Alien  Serenity  Casablanca  Amelie\n",
      "0  2.0571  2.0571    2.0571      0.0000  0.0000\n",
      "1  0.0000  0.0002    0.0000      2.1473  2.1473\n",
      "2  0.0000  0.9718    0.0000      0.0000  0.0000\n"
     ]
    }
   ],
   "source": [
    "# Make interpretable\n",
    "movies = ['Matrix','Alien','Serenity','Casablanca','Amelie']\n",
    "users = ['Alice','Bob','Cindy','Dan','Emily','Frank','Greg']\n",
    "\n",
    "W, H = (np.around(x,2) for x in (W,H))\n",
    "W = pd.DataFrame(W,index=users)\n",
    "H = pd.DataFrame(H,columns=movies)\n",
    "\n",
    "print W \n",
    "print H"
   ]
  },
  {
   "cell_type": "code",
   "execution_count": 44,
   "metadata": {
    "collapsed": false
   },
   "outputs": [
    {
     "name": "stdout",
     "output_type": "stream",
     "text": [
      "       Matrix  Alien  Serenity  Casablanca  Amelie\n",
      "Alice    1.01   1.01      1.01        0.00    0.00\n",
      "Bob      3.01   3.01      3.01        0.00    0.00\n",
      "Cindy    4.00   4.00      4.00        0.00    0.00\n",
      "Dan      5.01   5.01      5.01        0.00    0.00\n",
      "Emily    0.00   2.00      0.00        4.00    4.00\n",
      "Frank    0.00   0.00      0.00        5.01    5.01\n",
      "Greg     0.00   1.00      0.00        2.00    2.00\n",
      "       Matrix  Alien  Serenity  Casablanca  Amelie\n",
      "Alice       1      1         1           0       0\n",
      "Bob         3      3         3           0       0\n",
      "Cindy       4      4         4           0       0\n",
      "Dan         5      5         5           0       0\n",
      "Emily       0      2         0           4       4\n",
      "Frank       0      0         0           5       5\n",
      "Greg        0      1         0           2       2\n"
     ]
    }
   ],
   "source": [
    "# Verify reconstruction\n",
    "print np.around(W.dot(H),2)\n",
    "print pd.DataFrame(M, index=users, columns=movies)"
   ]
  },
  {
   "cell_type": "code",
   "execution_count": 45,
   "metadata": {
    "collapsed": false
   },
   "outputs": [
    {
     "name": "stdout",
     "output_type": "stream",
     "text": [
      "          0     1     2\n",
      "Alice -0.14 -0.02 -0.01\n",
      "Bob   -0.41 -0.07 -0.03\n",
      "Cindy -0.55 -0.09 -0.04\n",
      "Dan   -0.69 -0.12 -0.05\n",
      "Emily -0.15  0.59  0.65\n",
      "Frank -0.07  0.73 -0.68\n",
      "Greg  -0.08  0.30  0.33\n",
      "[ 12.48   9.51   1.35]\n",
      "   Matrix  Alien  Serenity  Casablanca  Amelie\n",
      "0   -0.56  -0.59     -0.56       -0.09   -0.09\n",
      "1   -0.13   0.03     -0.13        0.70    0.70\n",
      "2   -0.41   0.80     -0.41       -0.09   -0.09\n"
     ]
    }
   ],
   "source": [
    "# Compare to SVD\n",
    "from numpy.linalg import svd\n",
    "r = 3\n",
    "\n",
    "# Compute SVD\n",
    "U, sigma, VT = svd(M)\n",
    "\n",
    "# Make pretty\n",
    "U, sigma, VT = (np.around(x,2) for x in (U,sigma,VT))\n",
    "U = pd.DataFrame(U, index=users)\n",
    "VT = pd.DataFrame(VT, columns=movies)\n",
    "\n",
    "# Keep top two concepts\n",
    "U = U.iloc[:,:r]\n",
    "sigma = sigma[:r]\n",
    "VT = VT.iloc[:r,:]\n",
    "\n",
    "print U\n",
    "print sigma\n",
    "print VT"
   ]
  },
  {
   "cell_type": "markdown",
   "metadata": {
    "collapsed": true
   },
   "source": [
    "## Interpreting Concepts\n",
    "#### Think of NMF like 'fuzzy clustering'\n",
    "- The concepts are clusters\n",
    "- Each row (document, user, etc...) can belong to more than one concept\n",
    "\n",
    "#### Top Questions:\n",
    "1. What do the concepts (clusters) mean?\n",
    "2. To which concept(s) does each user/document belong?"
   ]
  },
  {
   "cell_type": "markdown",
   "metadata": {},
   "source": [
    "#### What is concept 0?"
   ]
  },
  {
   "cell_type": "code",
   "execution_count": 52,
   "metadata": {
    "collapsed": false
   },
   "outputs": [
    {
     "data": {
      "text/plain": [
       "Index([u'Serenity', u'Alien'], dtype='object')"
      ]
     },
     "execution_count": 52,
     "metadata": {},
     "output_type": "execute_result"
    }
   ],
   "source": [
    "# Top 2 movies in genre 0\n",
    "top_movies = H.iloc[0].order(ascending=False).index[:2]\n",
    "top_movies"
   ]
  },
  {
   "cell_type": "markdown",
   "metadata": {},
   "source": [
    "#### Which users align with concept 0?"
   ]
  },
  {
   "cell_type": "code",
   "execution_count": 47,
   "metadata": {
    "collapsed": false
   },
   "outputs": [
    {
     "data": {
      "text/plain": [
       "Index([u'Dan', u'Cindy'], dtype='object')"
      ]
     },
     "execution_count": 47,
     "metadata": {},
     "output_type": "execute_result"
    }
   ],
   "source": [
    "# Top 2 users for genre 1\n",
    "top_users = W.iloc[:,0].order(ascending=False).index[:2]\n",
    "top_users    "
   ]
  },
  {
   "cell_type": "markdown",
   "metadata": {},
   "source": [
    "#### What concepts does Emily align with?"
   ]
  },
  {
   "cell_type": "code",
   "execution_count": 48,
   "metadata": {
    "collapsed": false
   },
   "outputs": [
    {
     "data": {
      "text/plain": [
       "0    0.00\n",
       "1    1.86\n",
       "2    2.06\n",
       "Name: Emily, dtype: float64"
      ]
     },
     "execution_count": 48,
     "metadata": {},
     "output_type": "execute_result"
    }
   ],
   "source": [
    "W.loc['Emily']"
   ]
  },
  {
   "cell_type": "markdown",
   "metadata": {},
   "source": [
    "#### What are all the movies in each concept?"
   ]
  },
  {
   "cell_type": "code",
   "execution_count": 49,
   "metadata": {
    "collapsed": false
   },
   "outputs": [
    {
     "name": "stdout",
     "output_type": "stream",
     "text": [
      "Concept 0 contains: Matrix, Alien, Serenity\n",
      "Concept 1 contains: Casablanca, Amelie\n",
      "Concept 2 contains: Alien\n"
     ]
    }
   ],
   "source": [
    "# Movies in each concept\n",
    "thresh = .2  # movie is included if at least 20% of max weight\n",
    "for g in range(3):\n",
    "    all_movies = H.iloc[g,:]\n",
    "    included = H.columns[all_movies >= (thresh * all_movies.max())]\n",
    "    print \"Concept %i contains: %s\" % (g, ', '.join(included))"
   ]
  },
  {
   "cell_type": "markdown",
   "metadata": {},
   "source": [
    "#### Which users are associated with each concept?"
   ]
  },
  {
   "cell_type": "code",
   "execution_count": 50,
   "metadata": {
    "collapsed": false
   },
   "outputs": [
    {
     "name": "stdout",
     "output_type": "stream",
     "text": [
      "Concept 0 contains: Alice, Bob, Cindy, Dan\n",
      "Concept 1 contains: Emily, Frank, Greg\n",
      "Concept 2 contains: Emily, Greg\n"
     ]
    }
   ],
   "source": [
    "# Users in each concept\n",
    "thresh = .2  # user is included if at least 20% of max weight\n",
    "for g in range(3):\n",
    "    all_users = W.iloc[:,g]\n",
    "    included = W.index[all_users >= (thresh * all_users.max())]\n",
    "    print \"Concept %i contains: %s\" % (g, ', '.join(included))"
   ]
  },
  {
   "cell_type": "code",
   "execution_count": null,
   "metadata": {
    "collapsed": true
   },
   "outputs": [],
   "source": []
  }
 ],
 "metadata": {
  "kernelspec": {
   "display_name": "Python 2",
   "language": "python",
   "name": "python2"
  },
  "language_info": {
   "codemirror_mode": {
    "name": "ipython",
    "version": 2
   },
   "file_extension": ".py",
   "mimetype": "text/x-python",
   "name": "python",
   "nbconvert_exporter": "python",
   "pygments_lexer": "ipython2",
   "version": "2.7.9"
  }
 },
 "nbformat": 4,
 "nbformat_minor": 0
}
