{
 "cells": [
  {
   "cell_type": "code",
   "execution_count": 1,
   "metadata": {},
   "outputs": [],
   "source": [
    "import numpy as np\n",
    "from numpy.linalg import lstsq"
   ]
  },
  {
   "cell_type": "code",
   "execution_count": 2,
   "metadata": {},
   "outputs": [
    {
     "name": "stdout",
     "output_type": "stream",
     "text": [
      "[[11 13 12]\n",
      " [14 16 15]\n",
      " [10 18 19]]\n"
     ]
    }
   ],
   "source": [
    "a = np.array([[11,13,12],[14,16,15],[10,18,19]]) \n",
    "print(a)"
   ]
  },
  {
   "cell_type": "code",
   "execution_count": 3,
   "metadata": {},
   "outputs": [
    {
     "name": "stdout",
     "output_type": "stream",
     "text": [
      "[[1 2 3]\n",
      " [6 5 4]\n",
      " [9 7 8]]\n"
     ]
    }
   ],
   "source": [
    "x = np.array([[1,2,3],[6,5,4],[9,7,8]])\n",
    "print(x)"
   ]
  },
  {
   "cell_type": "code",
   "execution_count": 4,
   "metadata": {},
   "outputs": [
    {
     "name": "stdout",
     "output_type": "stream",
     "text": [
      "[[197 171 181]\n",
      " [245 213 226]\n",
      " [289 243 254]]\n"
     ]
    }
   ],
   "source": [
    "b = a.dot(x)\n",
    "print(b)"
   ]
  },
  {
   "cell_type": "code",
   "execution_count": 5,
   "metadata": {},
   "outputs": [
    {
     "name": "stdout",
     "output_type": "stream",
     "text": [
      "a:\n",
      " [[11 13 12]\n",
      " [14 16 15]\n",
      " [10 18 19]] \n",
      "\n",
      "\n",
      "x:\n",
      " [[1 2 3]\n",
      " [6 5 4]\n",
      " [9 7 8]] \n",
      "\n",
      "\n",
      "b:\n",
      " [[197 171 181]\n",
      " [245 213 226]\n",
      " [289 243 254]] \n",
      "\n",
      "\n"
     ]
    }
   ],
   "source": [
    "for l, arr in zip(['a','x','b'],[a,x,b]):\n",
    "    print('{}:\\n'.format(l), arr, '\\n\\n')"
   ]
  },
  {
   "cell_type": "markdown",
   "metadata": {},
   "source": [
    "## **A** $\\cdot$ **X** = **B**\n",
    "## How do we get **X** if we only have **A** and **B**? "
   ]
  },
  {
   "cell_type": "code",
   "execution_count": 6,
   "metadata": {},
   "outputs": [
    {
     "data": {
      "text/plain": [
       "\u001b[0;31mSignature:\u001b[0m \u001b[0mlstsq\u001b[0m\u001b[0;34m(\u001b[0m\u001b[0ma\u001b[0m\u001b[0;34m,\u001b[0m \u001b[0mb\u001b[0m\u001b[0;34m,\u001b[0m \u001b[0mrcond\u001b[0m\u001b[0;34m=\u001b[0m\u001b[0;34m'warn'\u001b[0m\u001b[0;34m)\u001b[0m\u001b[0;34m\u001b[0m\u001b[0m\n",
       "\u001b[0;31mDocstring:\u001b[0m\n",
       "Return the least-squares solution to a linear matrix equation.\n",
       "\n",
       "Solves the equation `a x = b` by computing a vector `x` that\n",
       "minimizes the Euclidean 2-norm `|| b - a x ||^2`.  The equation may\n",
       "be under-, well-, or over- determined (i.e., the number of\n",
       "linearly independent rows of `a` can be less than, equal to, or\n",
       "greater than its number of linearly independent columns).  If `a`\n",
       "is square and of full rank, then `x` (but for round-off error) is\n",
       "the \"exact\" solution of the equation.\n",
       "\n",
       "Parameters\n",
       "----------\n",
       "a : (M, N) array_like\n",
       "    \"Coefficient\" matrix.\n",
       "b : {(M,), (M, K)} array_like\n",
       "    Ordinate or \"dependent variable\" values. If `b` is two-dimensional,\n",
       "    the least-squares solution is calculated for each of the `K` columns\n",
       "    of `b`.\n",
       "rcond : float, optional\n",
       "    Cut-off ratio for small singular values of `a`.\n",
       "    For the purposes of rank determination, singular values are treated\n",
       "    as zero if they are smaller than `rcond` times the largest singular\n",
       "    value of `a`.\n",
       "\n",
       "    .. versionchanged:: 1.14.0\n",
       "       If not set, a FutureWarning is given. The previous default\n",
       "       of ``-1`` will use the machine precision as `rcond` parameter,\n",
       "       the new default will use the machine precision times `max(M, N)`.\n",
       "       To silence the warning and use the new default, use ``rcond=None``,\n",
       "       to keep using the old behavior, use ``rcond=-1``.\n",
       "\n",
       "Returns\n",
       "-------\n",
       "x : {(N,), (N, K)} ndarray\n",
       "    Least-squares solution. If `b` is two-dimensional,\n",
       "    the solutions are in the `K` columns of `x`.\n",
       "residuals : {(1,), (K,), (0,)} ndarray\n",
       "    Sums of residuals; squared Euclidean 2-norm for each column in\n",
       "    ``b - a*x``.\n",
       "    If the rank of `a` is < N or M <= N, this is an empty array.\n",
       "    If `b` is 1-dimensional, this is a (1,) shape array.\n",
       "    Otherwise the shape is (K,).\n",
       "rank : int\n",
       "    Rank of matrix `a`.\n",
       "s : (min(M, N),) ndarray\n",
       "    Singular values of `a`.\n",
       "\n",
       "Raises\n",
       "------\n",
       "LinAlgError\n",
       "    If computation does not converge.\n",
       "\n",
       "Notes\n",
       "-----\n",
       "If `b` is a matrix, then all array results are returned as matrices.\n",
       "\n",
       "Examples\n",
       "--------\n",
       "Fit a line, ``y = mx + c``, through some noisy data-points:\n",
       "\n",
       ">>> x = np.array([0, 1, 2, 3])\n",
       ">>> y = np.array([-1, 0.2, 0.9, 2.1])\n",
       "\n",
       "By examining the coefficients, we see that the line should have a\n",
       "gradient of roughly 1 and cut the y-axis at, more or less, -1.\n",
       "\n",
       "We can rewrite the line equation as ``y = Ap``, where ``A = [[x 1]]``\n",
       "and ``p = [[m], [c]]``.  Now use `lstsq` to solve for `p`:\n",
       "\n",
       ">>> A = np.vstack([x, np.ones(len(x))]).T\n",
       ">>> A\n",
       "array([[ 0.,  1.],\n",
       "       [ 1.,  1.],\n",
       "       [ 2.,  1.],\n",
       "       [ 3.,  1.]])\n",
       "\n",
       ">>> m, c = np.linalg.lstsq(A, y)[0]\n",
       ">>> print(m, c)\n",
       "1.0 -0.95\n",
       "\n",
       "Plot the data along with the fitted line:\n",
       "\n",
       ">>> import matplotlib.pyplot as plt\n",
       ">>> plt.plot(x, y, 'o', label='Original data', markersize=10)\n",
       ">>> plt.plot(x, m*x + c, 'r', label='Fitted line')\n",
       ">>> plt.legend()\n",
       ">>> plt.show()\n",
       "\u001b[0;31mFile:\u001b[0m      ~/anaconda2/envs/py3/lib/python3.6/site-packages/numpy/linalg/linalg.py\n",
       "\u001b[0;31mType:\u001b[0m      function\n"
      ]
     },
     "metadata": {},
     "output_type": "display_data"
    }
   ],
   "source": [
    "lstsq?"
   ]
  },
  {
   "cell_type": "code",
   "execution_count": 7,
   "metadata": {},
   "outputs": [
    {
     "name": "stderr",
     "output_type": "stream",
     "text": [
      "/home/markcatalysis/anaconda2/envs/py3/lib/python3.6/site-packages/ipykernel_launcher.py:1: FutureWarning: `rcond` parameter will change to the default of machine precision times ``max(M, N)`` where M and N are the input matrix dimensions.\n",
      "To use the future default and silence this warning we advise to pass `rcond=None`, to keep using the old, explicitly pass `rcond=-1`.\n",
      "  \"\"\"Entry point for launching an IPython kernel.\n"
     ]
    },
    {
     "data": {
      "text/plain": [
       "array([[1., 2., 3.],\n",
       "       [6., 5., 4.],\n",
       "       [9., 7., 8.]])"
      ]
     },
     "execution_count": 7,
     "metadata": {},
     "output_type": "execute_result"
    }
   ],
   "source": [
    "lstsq(a,b)[0]"
   ]
  },
  {
   "cell_type": "markdown",
   "metadata": {},
   "source": [
    "## **A** $\\cdot$ **X** = **B**\n",
    "## Now, how do we get _**A**_ if we only have **X** and **C**? "
   ]
  },
  {
   "cell_type": "code",
   "execution_count": 8,
   "metadata": {},
   "outputs": [
    {
     "name": "stdout",
     "output_type": "stream",
     "text": [
      "[[11. 14. 10.]\n",
      " [13. 16. 18.]\n",
      " [12. 15. 19.]]\n"
     ]
    }
   ],
   "source": [
    "print(lstsq(x.T, b.T, rcond=None)[0])\n"
   ]
  },
  {
   "cell_type": "code",
   "execution_count": 9,
   "metadata": {},
   "outputs": [
    {
     "name": "stdout",
     "output_type": "stream",
     "text": [
      "[[11. 13. 12.]\n",
      " [14. 16. 15.]\n",
      " [10. 18. 19.]]\n",
      "[[1. 2. 3.]\n",
      " [6. 5. 4.]\n",
      " [9. 7. 8.]]\n"
     ]
    }
   ],
   "source": [
    "a_approx = lstsq(x.T,b.T, rcond=None)[0].T\n",
    "print(a_approx)\n",
    "x_approx = lstsq(a, b, rcond=None)[0]\n",
    "print(x_approx)"
   ]
  },
  {
   "cell_type": "markdown",
   "metadata": {},
   "source": [
    "## Because we know the matrices that made B, we know that A and X in the above examples should be exactly solvable! \n",
    "## That said, x_approx will be slightly off from x and a_approx from a, so if you try to check validity of the answer using the comparison method."
   ]
  },
  {
   "cell_type": "code",
   "execution_count": 10,
   "metadata": {},
   "outputs": [
    {
     "name": "stdout",
     "output_type": "stream",
     "text": [
      "[[False False False]\n",
      " [False False False]\n",
      " [False False False]]\n",
      "[[ 3.55271368e-15 -1.06581410e-14  3.55271368e-15]\n",
      " [ 6.75015599e-14  2.84217094e-14 -4.08562073e-14]\n",
      " [ 1.77635684e-14  7.10542736e-15 -7.10542736e-15]]\n",
      "[[-3.64153152e-14 -1.68753900e-14  7.50510765e-14]\n",
      " [ 1.54543045e-13  8.88178420e-14 -2.27373675e-13]\n",
      " [-1.20792265e-13 -7.10542736e-14  1.75859327e-13]]\n"
     ]
    }
   ],
   "source": [
    "print(a==a_approx)\n",
    "print(a-a_approx)\n",
    "print(x-x_approx)"
   ]
  },
  {
   "cell_type": "markdown",
   "metadata": {},
   "source": [
    "I prefer round numbers. Rounding to 12 decimal places out:"
   ]
  },
  {
   "cell_type": "code",
   "execution_count": 11,
   "metadata": {},
   "outputs": [
    {
     "name": "stdout",
     "output_type": "stream",
     "text": [
      "[[ 0. -0.  0.]\n",
      " [ 0.  0. -0.]\n",
      " [ 0.  0. -0.]]\n"
     ]
    }
   ],
   "source": [
    "print(np.round(a-a_approx,12))"
   ]
  },
  {
   "cell_type": "markdown",
   "metadata": {},
   "source": [
    "Now let's compare them after some mild rounding:"
   ]
  },
  {
   "cell_type": "code",
   "execution_count": 12,
   "metadata": {},
   "outputs": [
    {
     "name": "stdout",
     "output_type": "stream",
     "text": [
      "[[ True  True  True]\n",
      " [ True  True  True]\n",
      " [ True  True  True]]\n"
     ]
    }
   ],
   "source": [
    "print(a==np.round(a_approx,12))"
   ]
  },
  {
   "cell_type": "markdown",
   "metadata": {},
   "source": [
    "### Why use this tool? We can use it to find approximations for factoring matrices that minimize reconstruction error.\n",
    "\n",
    "### Say we have **W**$\\cdot$**H**=**V** and we know **W** and **V** and want **H**. What's a good approximation for it?"
   ]
  },
  {
   "cell_type": "code",
   "execution_count": 13,
   "metadata": {},
   "outputs": [
    {
     "name": "stdout",
     "output_type": "stream",
     "text": [
      "[[1 3 3 3 3 1]\n",
      " [3 3 4 2 4 1]\n",
      " [0 3 4 4 0 4]\n",
      " [3 4 2 1 2 1]]\n"
     ]
    }
   ],
   "source": [
    "V = np.random.randint(0,5,[4,6])\n",
    "print(V)"
   ]
  },
  {
   "cell_type": "code",
   "execution_count": 14,
   "metadata": {},
   "outputs": [
    {
     "name": "stdout",
     "output_type": "stream",
     "text": [
      "[[1 0 2]\n",
      " [4 2 0]\n",
      " [3 1 2]\n",
      " [2 4 9]]\n"
     ]
    }
   ],
   "source": [
    "W = np.array([[1,0,2],[4,2,0],[3,1,2],[2,4,9]])\n",
    "print(W)"
   ]
  },
  {
   "cell_type": "code",
   "execution_count": 15,
   "metadata": {},
   "outputs": [
    {
     "name": "stdout",
     "output_type": "stream",
     "text": [
      "[[ 0.13227513  1.12698413  1.62433862  1.57142857  0.69312169  1.10582011]\n",
      " [ 0.95767196 -0.92063492 -1.35978836 -2.14285714  0.05820106 -1.43386243]\n",
      " [-0.12169312  0.6031746   0.46560847  0.71428571  0.04232804  0.5026455 ]]\n"
     ]
    }
   ],
   "source": [
    "H = lstsq(W,V,rcond=None)[0]\n",
    "print(H)"
   ]
  },
  {
   "cell_type": "markdown",
   "metadata": {},
   "source": [
    "### Interesting though. We have some negative values in this H matrix. Might be worth using the `numpy.ndarray.clip()` method in the future."
   ]
  },
  {
   "cell_type": "code",
   "execution_count": null,
   "metadata": {},
   "outputs": [],
   "source": []
  },
  {
   "cell_type": "code",
   "execution_count": null,
   "metadata": {},
   "outputs": [],
   "source": []
  },
  {
   "cell_type": "code",
   "execution_count": null,
   "metadata": {},
   "outputs": [],
   "source": []
  },
  {
   "cell_type": "code",
   "execution_count": null,
   "metadata": {},
   "outputs": [],
   "source": []
  }
 ],
 "metadata": {
  "kernelspec": {
   "display_name": "Python 3",
   "language": "python",
   "name": "python3"
  },
  "language_info": {
   "codemirror_mode": {
    "name": "ipython",
    "version": 3
   },
   "file_extension": ".py",
   "mimetype": "text/x-python",
   "name": "python",
   "nbconvert_exporter": "python",
   "pygments_lexer": "ipython3",
   "version": "3.6.5"
  }
 },
 "nbformat": 4,
 "nbformat_minor": 2
}
