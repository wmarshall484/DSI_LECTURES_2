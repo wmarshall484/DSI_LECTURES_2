{
 "cells": [
  {
   "cell_type": "code",
   "execution_count": 1,
   "metadata": {},
   "outputs": [],
   "source": [
    "import pandas as pd\n",
    "import numpy as np\n",
    "import seaborn as sns\n",
    "from matplotlib import pyplot as plt"
   ]
  },
  {
   "cell_type": "markdown",
   "metadata": {},
   "source": [
    "## Non-Negative Matrix Factorization for Topic Modeling\n",
    "\n",
    "We already have some experience doing matrix decomposition for topic modelling.\n",
    "\n",
    "Here's a familiar example, where we use singular value decomposition to decompose a movie ratings matrix:"
   ]
  },
  {
   "cell_type": "code",
   "execution_count": 2,
   "metadata": {},
   "outputs": [
    {
     "data": {
      "text/html": [
       "<div>\n",
       "<style scoped>\n",
       "    .dataframe tbody tr th:only-of-type {\n",
       "        vertical-align: middle;\n",
       "    }\n",
       "\n",
       "    .dataframe tbody tr th {\n",
       "        vertical-align: top;\n",
       "    }\n",
       "\n",
       "    .dataframe thead th {\n",
       "        text-align: right;\n",
       "    }\n",
       "</style>\n",
       "<table border=\"1\" class=\"dataframe\">\n",
       "  <thead>\n",
       "    <tr style=\"text-align: right;\">\n",
       "      <th></th>\n",
       "      <th>TheMatrix</th>\n",
       "      <th>Alien</th>\n",
       "      <th>StarWars</th>\n",
       "      <th>Casablanca</th>\n",
       "      <th>Titanic</th>\n",
       "    </tr>\n",
       "  </thead>\n",
       "  <tbody>\n",
       "    <tr>\n",
       "      <th>Alice</th>\n",
       "      <td>1</td>\n",
       "      <td>2</td>\n",
       "      <td>2</td>\n",
       "      <td>0</td>\n",
       "      <td>0</td>\n",
       "    </tr>\n",
       "    <tr>\n",
       "      <th>Juan</th>\n",
       "      <td>3</td>\n",
       "      <td>5</td>\n",
       "      <td>5</td>\n",
       "      <td>0</td>\n",
       "      <td>0</td>\n",
       "    </tr>\n",
       "    <tr>\n",
       "      <th>Riya</th>\n",
       "      <td>4</td>\n",
       "      <td>4</td>\n",
       "      <td>4</td>\n",
       "      <td>0</td>\n",
       "      <td>0</td>\n",
       "    </tr>\n",
       "    <tr>\n",
       "      <th>Dan</th>\n",
       "      <td>5</td>\n",
       "      <td>5</td>\n",
       "      <td>5</td>\n",
       "      <td>0</td>\n",
       "      <td>0</td>\n",
       "    </tr>\n",
       "    <tr>\n",
       "      <th>Emily</th>\n",
       "      <td>0</td>\n",
       "      <td>2</td>\n",
       "      <td>0</td>\n",
       "      <td>4</td>\n",
       "      <td>4</td>\n",
       "    </tr>\n",
       "    <tr>\n",
       "      <th>Angel</th>\n",
       "      <td>0</td>\n",
       "      <td>0</td>\n",
       "      <td>0</td>\n",
       "      <td>5</td>\n",
       "      <td>5</td>\n",
       "    </tr>\n",
       "    <tr>\n",
       "      <th>Omar</th>\n",
       "      <td>0</td>\n",
       "      <td>1</td>\n",
       "      <td>0</td>\n",
       "      <td>2</td>\n",
       "      <td>2</td>\n",
       "    </tr>\n",
       "  </tbody>\n",
       "</table>\n",
       "</div>"
      ],
      "text/plain": [
       "       TheMatrix  Alien  StarWars  Casablanca  Titanic\n",
       "Alice          1      2         2           0        0\n",
       "Juan           3      5         5           0        0\n",
       "Riya           4      4         4           0        0\n",
       "Dan            5      5         5           0        0\n",
       "Emily          0      2         0           4        4\n",
       "Angel          0      0         0           5        5\n",
       "Omar           0      1         0           2        2"
      ]
     },
     "execution_count": 2,
     "metadata": {},
     "output_type": "execute_result"
    }
   ],
   "source": [
    "rating_matrix = np.array([\n",
    "              [1, 2, 2, 0, 0],\n",
    "              [3, 5, 5, 0, 0],\n",
    "              [4, 4, 4, 0, 0],\n",
    "              [5, 5, 5, 0, 0],\n",
    "              [0, 2, 0, 4, 4],\n",
    "              [0, 0, 0, 5, 5],\n",
    "              [0, 1, 0, 2, 2]])\n",
    "\n",
    "movies = ['TheMatrix', 'Alien', 'StarWars', 'Casablanca', 'Titanic']\n",
    "users = ['Alice', 'Juan', 'Riya', 'Dan', 'Emily', 'Angel', 'Omar']\n",
    "ratings_df = pd.DataFrame(rating_matrix, index=users, columns=movies)\n",
    "ratings_df"
   ]
  },
  {
   "cell_type": "code",
   "execution_count": 3,
   "metadata": {},
   "outputs": [],
   "source": [
    "U, S, VT = np.linalg.svd(ratings_df, full_matrices=False)\n",
    "U = -U   #flip, because sign indeterminancy\n",
    "VT = -VT"
   ]
  },
  {
   "cell_type": "code",
   "execution_count": 4,
   "metadata": {},
   "outputs": [],
   "source": [
    "n_topics = len(S)"
   ]
  },
  {
   "cell_type": "markdown",
   "metadata": {},
   "source": [
    "Here's a matrix $U\\Sigma$, modeling user topics."
   ]
  },
  {
   "cell_type": "code",
   "execution_count": 5,
   "metadata": {},
   "outputs": [
    {
     "data": {
      "text/html": [
       "<div>\n",
       "<style scoped>\n",
       "    .dataframe tbody tr th:only-of-type {\n",
       "        vertical-align: middle;\n",
       "    }\n",
       "\n",
       "    .dataframe tbody tr th {\n",
       "        vertical-align: top;\n",
       "    }\n",
       "\n",
       "    .dataframe thead th {\n",
       "        text-align: right;\n",
       "    }\n",
       "</style>\n",
       "<table border=\"1\" class=\"dataframe\">\n",
       "  <thead>\n",
       "    <tr style=\"text-align: right;\">\n",
       "      <th></th>\n",
       "      <th>topic1</th>\n",
       "      <th>topic2</th>\n",
       "      <th>topic3</th>\n",
       "      <th>topic4</th>\n",
       "      <th>topic5</th>\n",
       "    </tr>\n",
       "  </thead>\n",
       "  <tbody>\n",
       "    <tr>\n",
       "      <th>Alice</th>\n",
       "      <td>2.935342</td>\n",
       "      <td>-0.224600</td>\n",
       "      <td>-0.515255</td>\n",
       "      <td>-0.260453</td>\n",
       "      <td>0.0</td>\n",
       "    </tr>\n",
       "    <tr>\n",
       "      <th>Juan</th>\n",
       "      <td>7.589530</td>\n",
       "      <td>-0.608933</td>\n",
       "      <td>-0.898022</td>\n",
       "      <td>-0.470940</td>\n",
       "      <td>0.0</td>\n",
       "    </tr>\n",
       "    <tr>\n",
       "      <th>Riya</th>\n",
       "      <td>6.875388</td>\n",
       "      <td>-0.638936</td>\n",
       "      <td>0.529955</td>\n",
       "      <td>0.199867</td>\n",
       "      <td>0.0</td>\n",
       "    </tr>\n",
       "    <tr>\n",
       "      <th>Dan</th>\n",
       "      <td>8.594235</td>\n",
       "      <td>-0.798670</td>\n",
       "      <td>0.662444</td>\n",
       "      <td>0.249834</td>\n",
       "      <td>0.0</td>\n",
       "    </tr>\n",
       "    <tr>\n",
       "      <th>Emily</th>\n",
       "      <td>1.727579</td>\n",
       "      <td>5.682162</td>\n",
       "      <td>-0.667249</td>\n",
       "      <td>0.532246</td>\n",
       "      <td>0.0</td>\n",
       "    </tr>\n",
       "    <tr>\n",
       "      <th>Angel</th>\n",
       "      <td>0.610656</td>\n",
       "      <td>6.987917</td>\n",
       "      <td>0.707563</td>\n",
       "      <td>-0.543570</td>\n",
       "      <td>0.0</td>\n",
       "    </tr>\n",
       "    <tr>\n",
       "      <th>Omar</th>\n",
       "      <td>0.863789</td>\n",
       "      <td>2.841081</td>\n",
       "      <td>-0.333625</td>\n",
       "      <td>0.266123</td>\n",
       "      <td>0.0</td>\n",
       "    </tr>\n",
       "  </tbody>\n",
       "</table>\n",
       "</div>"
      ],
      "text/plain": [
       "         topic1    topic2    topic3    topic4  topic5\n",
       "Alice  2.935342 -0.224600 -0.515255 -0.260453     0.0\n",
       "Juan   7.589530 -0.608933 -0.898022 -0.470940     0.0\n",
       "Riya   6.875388 -0.638936  0.529955  0.199867     0.0\n",
       "Dan    8.594235 -0.798670  0.662444  0.249834     0.0\n",
       "Emily  1.727579  5.682162 -0.667249  0.532246     0.0\n",
       "Angel  0.610656  6.987917  0.707563 -0.543570     0.0\n",
       "Omar   0.863789  2.841081 -0.333625  0.266123     0.0"
      ]
     },
     "execution_count": 5,
     "metadata": {},
     "output_type": "execute_result"
    }
   ],
   "source": [
    "users = pd.DataFrame(U@np.diag(S), index=ratings_df.index, \n",
    "                     columns=[f\"topic{i+1}\" for i in range(len(S))])\n",
    "users"
   ]
  },
  {
   "cell_type": "markdown",
   "metadata": {},
   "source": [
    "And our matrix V, modeling movie topics."
   ]
  },
  {
   "cell_type": "code",
   "execution_count": 6,
   "metadata": {},
   "outputs": [
    {
     "data": {
      "text/html": [
       "<div>\n",
       "<style scoped>\n",
       "    .dataframe tbody tr th:only-of-type {\n",
       "        vertical-align: middle;\n",
       "    }\n",
       "\n",
       "    .dataframe tbody tr th {\n",
       "        vertical-align: top;\n",
       "    }\n",
       "\n",
       "    .dataframe thead th {\n",
       "        text-align: right;\n",
       "    }\n",
       "</style>\n",
       "<table border=\"1\" class=\"dataframe\">\n",
       "  <thead>\n",
       "    <tr style=\"text-align: right;\">\n",
       "      <th></th>\n",
       "      <th>topic1</th>\n",
       "      <th>topic2</th>\n",
       "      <th>topic3</th>\n",
       "      <th>topic4</th>\n",
       "      <th>topic5</th>\n",
       "    </tr>\n",
       "  </thead>\n",
       "  <tbody>\n",
       "    <tr>\n",
       "      <th>TheMatrix</th>\n",
       "      <td>0.502352</td>\n",
       "      <td>-0.094868</td>\n",
       "      <td>0.780233</td>\n",
       "      <td>0.360387</td>\n",
       "      <td>-0.000000e+00</td>\n",
       "    </tr>\n",
       "    <tr>\n",
       "      <th>Alien</th>\n",
       "      <td>0.619527</td>\n",
       "      <td>0.045914</td>\n",
       "      <td>-0.616650</td>\n",
       "      <td>0.483551</td>\n",
       "      <td>-7.248355e-17</td>\n",
       "    </tr>\n",
       "    <tr>\n",
       "      <th>StarWars</th>\n",
       "      <td>0.596968</td>\n",
       "      <td>-0.110780</td>\n",
       "      <td>-0.031094</td>\n",
       "      <td>-0.793971</td>\n",
       "      <td>7.248355e-17</td>\n",
       "    </tr>\n",
       "    <tr>\n",
       "      <th>Casablanca</th>\n",
       "      <td>0.061066</td>\n",
       "      <td>0.698792</td>\n",
       "      <td>0.070756</td>\n",
       "      <td>-0.054357</td>\n",
       "      <td>7.071068e-01</td>\n",
       "    </tr>\n",
       "    <tr>\n",
       "      <th>Titanic</th>\n",
       "      <td>0.061066</td>\n",
       "      <td>0.698792</td>\n",
       "      <td>0.070756</td>\n",
       "      <td>-0.054357</td>\n",
       "      <td>-7.071068e-01</td>\n",
       "    </tr>\n",
       "  </tbody>\n",
       "</table>\n",
       "</div>"
      ],
      "text/plain": [
       "              topic1    topic2    topic3    topic4        topic5\n",
       "TheMatrix   0.502352 -0.094868  0.780233  0.360387 -0.000000e+00\n",
       "Alien       0.619527  0.045914 -0.616650  0.483551 -7.248355e-17\n",
       "StarWars    0.596968 -0.110780 -0.031094 -0.793971  7.248355e-17\n",
       "Casablanca  0.061066  0.698792  0.070756 -0.054357  7.071068e-01\n",
       "Titanic     0.061066  0.698792  0.070756 -0.054357 -7.071068e-01"
      ]
     },
     "execution_count": 6,
     "metadata": {},
     "output_type": "execute_result"
    }
   ],
   "source": [
    "movies = pd.DataFrame(VT.T, index=ratings_df.columns, \n",
    "                     columns=[f\"topic{i+1}\" for i in range(len(S))])\n",
    "movies"
   ]
  },
  {
   "cell_type": "markdown",
   "metadata": {},
   "source": [
    "SVD does an okay job at topic modeling, but there's three main problems.\n",
    "\n",
    "* Both $U$ and $V$ are constrained to be orthogonal matrices, which is an unnecessary contraint.\n",
    "* Values in $U$ and $V^T$ can be negative, which is weird and hard to interpret. For example, suppose a latent feature is the genre 'Science fiction'. This feature can be positive (makes sense), zero (makes sense), or negative (what does that mean?).\n",
    "* SVD forces us to fill in missing values, and SVD models those missing values.\n",
    "\n",
    "How can we avoid these?\n"
   ]
  },
  {
   "cell_type": "markdown",
   "metadata": {},
   "source": [
    "## Non-negative Matrix Factorization (NMF)\n",
    "\n"
   ]
  },
  {
   "cell_type": "markdown",
   "metadata": {},
   "source": [
    "Suppose we have a matrix $V \\in \\mathbb{R}^{m \\times n}$. With NMF, we try to write it as the product of two smaller matrices, $W \\in \\mathbb{R}^{m \\times r}$ and $H \\in \\mathbb{R}^{r \\times n}$, \n",
    "\n",
    "$$ V = W H$$\n",
    "\n",
    "or, to be more graphical,\n",
    "\n",
    "$$\\begin{bmatrix}\n",
    "    v_{11}       & v_{12} & v_{13} & \\dots & v_{1n} \\\\\n",
    "    v_{21}       & v_{22} & v_{23} & \\dots & v_{2n} \\\\\n",
    "    v_{31}       & v_{32} & v_{33} & \\dots & v_{3n} \\\\\n",
    "    v_{41}       & v_{42} & v_{43} & \\dots & v_{4n} \\\\\n",
    "    \\vdots       & \\vdots & \\vdots & \\ddots& \\vdots \\\\\n",
    "    v_{m1}       & v_{m2} & v_{m3} & \\dots & v_{mn}\n",
    "\\end{bmatrix}\n",
    "=\n",
    "\\begin{bmatrix}\n",
    "    w_{11}       & \\dots & w_{1r} \\\\\n",
    "    w_{21}       & \\dots & w_{2r} \\\\\n",
    "    w_{31}       & \\dots & w_{3r} \\\\\n",
    "    w_{41}       & \\dots & w_{4r} \\\\\n",
    "    \\vdots       & \\ddots& \\vdots \\\\\n",
    "    w_{m1}       & \\dots & w_{mr}\n",
    "\\end{bmatrix}\n",
    "\\cdot\n",
    "\\begin{bmatrix}\n",
    "    h_{11}       & h_{12} & h_{13} & \\dots & h_{1n} \\\\\n",
    "    \\vdots       & \\vdots & \\vdots & \\ddots& \\vdots \\\\\n",
    "    h_{r1}       & h_{r2} & h_{r3} & \\dots & h_{rn}\n",
    "\\end{bmatrix}\n",
    "$$\n",
    "\n",
    "with the constraint that all $w_{ik} \\ge 0$ and $h_{kj} \\ge 0$.\n",
    "\n",
    "In general, this isn't possible, but we'll try to do the best we can, minimizing\n",
    "\n",
    "$$||V - WH||^2 = \\sum_{ij} (V_{ij} - \\sum_k W_{ik} H_{kj})^2$$\n",
    "\n",
    "again with the constraint that the components are greater than zero.\n",
    "\n",
    "Note that the number of topics $r$ is a hyperparameter; we can choose how many topics we want.\n",
    "\n",
    "**Question** What would the value of $r$ have to do with the bias-variance tradeoff?\n",
    "\n",
    "**Question** What would we lose compared to SVD?"
   ]
  },
  {
   "cell_type": "markdown",
   "metadata": {},
   "source": [
    "## Solving NMF\n",
    "\n",
    "There are a couple approaches to solving NMF.\n",
    "\n",
    "**Alternating Least Squares** involves solving first for one matrix while holding the other constant, that the other, back and forth until in converges.\n",
    "\n",
    "**Stocastic Gradient Descent** minimizes the components of the matrices using the previously discussed algorithm."
   ]
  },
  {
   "cell_type": "code",
   "execution_count": null,
   "metadata": {},
   "outputs": [],
   "source": []
  },
  {
   "cell_type": "markdown",
   "metadata": {},
   "source": [
    "## Alternating Least Squares\n",
    "\n",
    "First, some review.\n",
    "\n",
    "### Exact solution for a system of linear equations\n",
    "Take a system of linear equations:\n",
    "* $x_1 + 2x_2 = 7$\n",
    "* $-3x_1 + 4x_2 = -9$\n",
    "\n",
    "Which we can express using matrix notation\n",
    "\n",
    "$$ Ax = b$$\n",
    "\n",
    "$$ \\begin{bmatrix} 1 & 2 \\\\ -3 & 4 \\end{bmatrix} \\left[ \\begin{array}{c} x_1 \\\\ x_2 \\end{array} \\right] = \\left[ \\begin{array}{cc} 7 \\\\ -9 \\end{array} \\right] $$\n",
    "\n",
    "The solution is to `x` is\n",
    "\n",
    "$$ Ax = b$$\n",
    "$$ A^{-1}Ax = A^{-1}b$$\n",
    "$$ x = A^{-1}b$$\n",
    "\n",
    "There are two unknowns ($x_1$ and $x_2$) and two equations so (usually) there is one solution."
   ]
  },
  {
   "cell_type": "code",
   "execution_count": 7,
   "metadata": {},
   "outputs": [
    {
     "data": {
      "text/plain": [
       "array([4.6, 1.2])"
      ]
     },
     "execution_count": 7,
     "metadata": {},
     "output_type": "execute_result"
    }
   ],
   "source": [
    "A = np.array([[1,2],[-3,4]])\n",
    "b = np.array([7,-9])\n",
    "\n",
    "np.linalg.inv(A) @ b"
   ]
  },
  {
   "cell_type": "markdown",
   "metadata": {},
   "source": [
    "### Least-squares solver\n",
    "\n",
    "What if we have an overdetermined system of linear equations? E.g.\n",
    "\n",
    "$$ \\begin{bmatrix} 1 & 2 \\\\ -3 & 4 \\\\ 1 & -4 \\end{bmatrix} \\left[ \\begin{array}{c} x_1 \\\\ x_2 \\end{array} \\right] = \\left[ \\begin{array}{cc} 7 \\\\ -9 \\\\ 17 \\end{array} \\right] $$\n",
    "\n",
    "An exact solution is not guaranteed, so we must do something else."
   ]
  },
  {
   "cell_type": "code",
   "execution_count": 8,
   "metadata": {},
   "outputs": [],
   "source": [
    "A = np.array([[1,2],[-3,4],[1,-4]])\n",
    "b = np.array([7,-9,17])"
   ]
  },
  {
   "cell_type": "code",
   "execution_count": 9,
   "metadata": {},
   "outputs": [
    {
     "ename": "LinAlgError",
     "evalue": "Last 2 dimensions of the array must be square",
     "output_type": "error",
     "traceback": [
      "\u001b[0;31m---------------------------------------------------------------------------\u001b[0m",
      "\u001b[0;31mLinAlgError\u001b[0m                               Traceback (most recent call last)",
      "\u001b[0;32m<ipython-input-9-ae645f97e1f8>\u001b[0m in \u001b[0;36m<module>\u001b[0;34m\u001b[0m\n\u001b[0;32m----> 1\u001b[0;31m \u001b[0mnp\u001b[0m\u001b[0;34m.\u001b[0m\u001b[0mlinalg\u001b[0m\u001b[0;34m.\u001b[0m\u001b[0minv\u001b[0m\u001b[0;34m(\u001b[0m\u001b[0mA\u001b[0m\u001b[0;34m)\u001b[0m\u001b[0;34m\u001b[0m\u001b[0;34m\u001b[0m\u001b[0m\n\u001b[0m",
      "\u001b[0;32m/anaconda3/lib/python3.6/site-packages/numpy/linalg/linalg.py\u001b[0m in \u001b[0;36minv\u001b[0;34m(a)\u001b[0m\n\u001b[1;32m    544\u001b[0m     \u001b[0ma\u001b[0m\u001b[0;34m,\u001b[0m \u001b[0mwrap\u001b[0m \u001b[0;34m=\u001b[0m \u001b[0m_makearray\u001b[0m\u001b[0;34m(\u001b[0m\u001b[0ma\u001b[0m\u001b[0;34m)\u001b[0m\u001b[0;34m\u001b[0m\u001b[0;34m\u001b[0m\u001b[0m\n\u001b[1;32m    545\u001b[0m     \u001b[0m_assertRankAtLeast2\u001b[0m\u001b[0;34m(\u001b[0m\u001b[0ma\u001b[0m\u001b[0;34m)\u001b[0m\u001b[0;34m\u001b[0m\u001b[0;34m\u001b[0m\u001b[0m\n\u001b[0;32m--> 546\u001b[0;31m     \u001b[0m_assertNdSquareness\u001b[0m\u001b[0;34m(\u001b[0m\u001b[0ma\u001b[0m\u001b[0;34m)\u001b[0m\u001b[0;34m\u001b[0m\u001b[0;34m\u001b[0m\u001b[0m\n\u001b[0m\u001b[1;32m    547\u001b[0m     \u001b[0mt\u001b[0m\u001b[0;34m,\u001b[0m \u001b[0mresult_t\u001b[0m \u001b[0;34m=\u001b[0m \u001b[0m_commonType\u001b[0m\u001b[0;34m(\u001b[0m\u001b[0ma\u001b[0m\u001b[0;34m)\u001b[0m\u001b[0;34m\u001b[0m\u001b[0;34m\u001b[0m\u001b[0m\n\u001b[1;32m    548\u001b[0m \u001b[0;34m\u001b[0m\u001b[0m\n",
      "\u001b[0;32m/anaconda3/lib/python3.6/site-packages/numpy/linalg/linalg.py\u001b[0m in \u001b[0;36m_assertNdSquareness\u001b[0;34m(*arrays)\u001b[0m\n\u001b[1;32m    211\u001b[0m         \u001b[0mm\u001b[0m\u001b[0;34m,\u001b[0m \u001b[0mn\u001b[0m \u001b[0;34m=\u001b[0m \u001b[0ma\u001b[0m\u001b[0;34m.\u001b[0m\u001b[0mshape\u001b[0m\u001b[0;34m[\u001b[0m\u001b[0;34m-\u001b[0m\u001b[0;36m2\u001b[0m\u001b[0;34m:\u001b[0m\u001b[0;34m]\u001b[0m\u001b[0;34m\u001b[0m\u001b[0;34m\u001b[0m\u001b[0m\n\u001b[1;32m    212\u001b[0m         \u001b[0;32mif\u001b[0m \u001b[0mm\u001b[0m \u001b[0;34m!=\u001b[0m \u001b[0mn\u001b[0m\u001b[0;34m:\u001b[0m\u001b[0;34m\u001b[0m\u001b[0;34m\u001b[0m\u001b[0m\n\u001b[0;32m--> 213\u001b[0;31m             \u001b[0;32mraise\u001b[0m \u001b[0mLinAlgError\u001b[0m\u001b[0;34m(\u001b[0m\u001b[0;34m'Last 2 dimensions of the array must be square'\u001b[0m\u001b[0;34m)\u001b[0m\u001b[0;34m\u001b[0m\u001b[0;34m\u001b[0m\u001b[0m\n\u001b[0m\u001b[1;32m    214\u001b[0m \u001b[0;34m\u001b[0m\u001b[0m\n\u001b[1;32m    215\u001b[0m \u001b[0;32mdef\u001b[0m \u001b[0m_assertFinite\u001b[0m\u001b[0;34m(\u001b[0m\u001b[0;34m*\u001b[0m\u001b[0marrays\u001b[0m\u001b[0;34m)\u001b[0m\u001b[0;34m:\u001b[0m\u001b[0;34m\u001b[0m\u001b[0;34m\u001b[0m\u001b[0m\n",
      "\u001b[0;31mLinAlgError\u001b[0m: Last 2 dimensions of the array must be square"
     ]
    }
   ],
   "source": [
    "np.linalg.inv(A)"
   ]
  },
  {
   "cell_type": "markdown",
   "metadata": {},
   "source": [
    "Least Squares dictates that we find the $x$ that minimizes the residual sum of squares (RSS).\n",
    "\n",
    "(Note: This is the solver we use when doing Linear Regression!)"
   ]
  },
  {
   "cell_type": "code",
   "execution_count": 10,
   "metadata": {},
   "outputs": [
    {
     "data": {
      "text/plain": [
       "array([ 2.88, -1.38])"
      ]
     },
     "execution_count": 10,
     "metadata": {},
     "output_type": "execute_result"
    }
   ],
   "source": [
    "x_best = np.linalg.lstsq(A, b, rcond=None)[0]\n",
    "x_best"
   ]
  },
  {
   "cell_type": "markdown",
   "metadata": {},
   "source": [
    "The result isn't perfect "
   ]
  },
  {
   "cell_type": "code",
   "execution_count": 11,
   "metadata": {},
   "outputs": [
    {
     "data": {
      "text/plain": [
       "array([  0.12, -14.16,   8.4 ])"
      ]
     },
     "execution_count": 11,
     "metadata": {},
     "output_type": "execute_result"
    }
   ],
   "source": [
    "A @ x_best"
   ]
  },
  {
   "cell_type": "markdown",
   "metadata": {},
   "source": [
    "I challenge you, however, to find an $x$ with a smaller residual sum of squares. You cannot. This is the best."
   ]
  },
  {
   "cell_type": "code",
   "execution_count": 12,
   "metadata": {},
   "outputs": [
    {
     "data": {
      "text/plain": [
       "'RSS: 147.92'"
      ]
     },
     "execution_count": 12,
     "metadata": {},
     "output_type": "execute_result"
    }
   ],
   "source": [
    "f\"RSS: {sum( (A @ x_best - b)**2 ):0.2f}\""
   ]
  },
  {
   "cell_type": "markdown",
   "metadata": {},
   "source": [
    "### Non-negative least-squares solver\n",
    "\n",
    "What if you want to constrain the solution to be non-negative?\n",
    "\n",
    "We have optimizers for that too!"
   ]
  },
  {
   "cell_type": "code",
   "execution_count": 13,
   "metadata": {},
   "outputs": [
    {
     "data": {
      "text/plain": [
       "array([4.63636364, 0.        ])"
      ]
     },
     "execution_count": 13,
     "metadata": {},
     "output_type": "execute_result"
    }
   ],
   "source": [
    "from scipy.optimize import nnls\n",
    "\n",
    "x_best = nnls(A, b)[0]\n",
    "x_best"
   ]
  },
  {
   "cell_type": "code",
   "execution_count": 14,
   "metadata": {},
   "outputs": [
    {
     "data": {
      "text/plain": [
       "array([  4.63636364, -13.90909091,   4.63636364])"
      ]
     },
     "execution_count": 14,
     "metadata": {},
     "output_type": "execute_result"
    }
   ],
   "source": [
    "# reconstruct b\n",
    "A @ x_best"
   ]
  },
  {
   "cell_type": "code",
   "execution_count": 15,
   "metadata": {},
   "outputs": [
    {
     "data": {
      "text/plain": [
       "'RSS: 182.55'"
      ]
     },
     "execution_count": 15,
     "metadata": {},
     "output_type": "execute_result"
    }
   ],
   "source": [
    "f\"RSS: {sum( (A @ x_best - b)**2 ):0.2f}\""
   ]
  },
  {
   "cell_type": "markdown",
   "metadata": {},
   "source": [
    "### Alternating Least Squares"
   ]
  },
  {
   "cell_type": "markdown",
   "metadata": {},
   "source": [
    "Given matrices $A$ and $B$, our OLS solver will give us a matrix $X$ that minimizes the error $AX = B$.\n",
    "\n",
    "This can come in handy finding a non-negative matrix decomposition.\n",
    "\n",
    "We start off with our matrix $V$, which we want to decompose $V = WH$."
   ]
  },
  {
   "cell_type": "code",
   "execution_count": 16,
   "metadata": {},
   "outputs": [],
   "source": [
    "np.random.seed(42)"
   ]
  },
  {
   "cell_type": "code",
   "execution_count": 17,
   "metadata": {},
   "outputs": [],
   "source": [
    "r = 3 #latent features\n",
    "V = ratings_df.values\n",
    "\n",
    "m, n = V.shape"
   ]
  },
  {
   "cell_type": "markdown",
   "metadata": {},
   "source": [
    "#### Pick W at random, then solve for H\n",
    "\n",
    "We can simply pick random values for $W$ and then solve for $H$..."
   ]
  },
  {
   "cell_type": "code",
   "execution_count": 18,
   "metadata": {},
   "outputs": [],
   "source": [
    "W = np.random.uniform(0,1, size=(m,r))"
   ]
  },
  {
   "cell_type": "code",
   "execution_count": 19,
   "metadata": {},
   "outputs": [],
   "source": [
    "H, _, _, _ = np.linalg.lstsq(W, V, rcond=None)"
   ]
  },
  {
   "cell_type": "markdown",
   "metadata": {},
   "source": [
    "Then set all negative values to zero"
   ]
  },
  {
   "cell_type": "code",
   "execution_count": 20,
   "metadata": {},
   "outputs": [
    {
     "data": {
      "text/plain": [
       "array([[0.61431687, 3.48252756, 1.77870526, 2.53885238, 2.53885238],\n",
       "       [0.        , 0.91386933, 0.49352566, 0.4827349 , 0.4827349 ],\n",
       "       [3.20529583, 1.33642689, 2.29546736, 0.        , 0.        ]])"
      ]
     },
     "execution_count": 20,
     "metadata": {},
     "output_type": "execute_result"
    }
   ],
   "source": [
    "H = np.maximum(H,0)\n",
    "H"
   ]
  },
  {
   "cell_type": "markdown",
   "metadata": {},
   "source": [
    "The resulting decomposition isn't perfect..."
   ]
  },
  {
   "cell_type": "code",
   "execution_count": 21,
   "metadata": {},
   "outputs": [
    {
     "data": {
      "text/plain": [
       "Text(0.5, 1.0, 'reconstruction $WH$')"
      ]
     },
     "execution_count": 21,
     "metadata": {},
     "output_type": "execute_result"
    },
    {
     "data": {
      "image/png": "[encoded data removed]",
      "text/plain": [
       "<Figure size 576x288 with 4 Axes>"
      ]
     },
     "metadata": {
      "needs_background": "light"
     },
     "output_type": "display_data"
    }
   ],
   "source": [
    "fig, ax = plt.subplots(1,2, figsize=(8,4))\n",
    "\n",
    "sns.heatmap( V, ax=ax[0], vmin=0, vmax=5)\n",
    "ax[0].set_title(\"original matrix $V$\")\n",
    "sns.heatmap( W@H, ax=ax[1], vmin=0, vmax=5)\n",
    "ax[1].set_title(\"reconstruction $WH$\")"
   ]
  },
  {
   "cell_type": "code",
   "execution_count": 22,
   "metadata": {},
   "outputs": [
    {
     "data": {
      "text/plain": [
       "137.85858657523485"
      ]
     },
     "execution_count": 22,
     "metadata": {},
     "output_type": "execute_result"
    }
   ],
   "source": [
    "((W@H - V)**2).sum()"
   ]
  },
  {
   "cell_type": "markdown",
   "metadata": {},
   "source": [
    "But it's a start.\n",
    "\n",
    "#### Hold H steady, solve for W\n",
    "\n",
    "Next note that $V^T = H^TW^T$\n",
    "\n",
    "We can use our new $H$ to find a better $W$ than the random guess we started with..."
   ]
  },
  {
   "cell_type": "code",
   "execution_count": 23,
   "metadata": {},
   "outputs": [],
   "source": [
    "WT, _, _, _ = np.linalg.lstsq(H.T, V.T, rcond=None)\n",
    "W = np.maximum(0, WT.T)"
   ]
  },
  {
   "cell_type": "code",
   "execution_count": 24,
   "metadata": {},
   "outputs": [
    {
     "data": {
      "text/plain": [
       "array([[ 1.6259934 ,  5.53083498,  3.78520424,  2.56344996,  2.56344996],\n",
       "       [ 4.401924  , 13.04292003,  9.20496098,  5.92019396,  5.92019396],\n",
       "       [ 4.59974882,  7.92500029,  6.53821   ,  3.1731762 ,  3.1731762 ],\n",
       "       [ 5.74968602,  9.90625037,  8.1727625 ,  3.96647025,  3.96647025],\n",
       "       [ 2.08977859, 11.84683645,  6.05078637,  8.63664921,  8.63664921],\n",
       "       [ 3.13889053, 17.79419257,  9.08840586, 12.97242516, 12.97242516],\n",
       "       [ 1.0448893 ,  5.92341823,  3.02539319,  4.31832461,  4.31832461]])"
      ]
     },
     "execution_count": 24,
     "metadata": {},
     "output_type": "execute_result"
    }
   ],
   "source": [
    "W @ H"
   ]
  },
  {
   "cell_type": "code",
   "execution_count": 25,
   "metadata": {},
   "outputs": [
    {
     "data": {
      "text/plain": [
       "1054.5073417954015"
      ]
     },
     "execution_count": 25,
     "metadata": {},
     "output_type": "execute_result"
    }
   ],
   "source": [
    "((W@H - V)**2).sum()"
   ]
  },
  {
   "cell_type": "markdown",
   "metadata": {},
   "source": [
    "#### Hold W steady, solve for H"
   ]
  },
  {
   "cell_type": "code",
   "execution_count": 26,
   "metadata": {},
   "outputs": [
    {
     "data": {
      "text/plain": [
       "array([[0.00000000e+00, 2.09610049e-01, 0.00000000e+00, 1.04889733e+00,\n",
       "        1.04889733e+00],\n",
       "       [0.00000000e+00, 1.96213778e-01, 1.96213778e-01, 1.28961930e-16,\n",
       "        1.28961930e-16],\n",
       "       [3.42229326e+00, 1.88859509e+00, 1.88859509e+00, 0.00000000e+00,\n",
       "        0.00000000e+00]])"
      ]
     },
     "execution_count": 26,
     "metadata": {},
     "output_type": "execute_result"
    }
   ],
   "source": [
    "H, _, _, _ = np.linalg.lstsq(W, V, rcond=None)\n",
    "H = np.maximum(H,0)\n",
    "H"
   ]
  },
  {
   "cell_type": "code",
   "execution_count": 27,
   "metadata": {},
   "outputs": [
    {
     "data": {
      "text/plain": [
       "9.50094641556352"
      ]
     },
     "execution_count": 27,
     "metadata": {},
     "output_type": "execute_result"
    }
   ],
   "source": [
    "((W@H - V)**2).sum()"
   ]
  },
  {
   "cell_type": "markdown",
   "metadata": {},
   "source": [
    "#### Hold H steady, solve for W"
   ]
  },
  {
   "cell_type": "code",
   "execution_count": 28,
   "metadata": {},
   "outputs": [],
   "source": [
    "WT, _, _, _ = np.linalg.lstsq(H.T, V.T, rcond=None)\n",
    "W = np.maximum(0, WT.T)"
   ]
  },
  {
   "cell_type": "code",
   "execution_count": 29,
   "metadata": {},
   "outputs": [
    {
     "data": {
      "text/plain": [
       "1.8756935851087404"
      ]
     },
     "execution_count": 29,
     "metadata": {},
     "output_type": "execute_result"
    }
   ],
   "source": [
    "((W@H - V)**2).sum()"
   ]
  },
  {
   "cell_type": "markdown",
   "metadata": {},
   "source": [
    "#### Hold W steady, solve for H"
   ]
  },
  {
   "cell_type": "code",
   "execution_count": 30,
   "metadata": {},
   "outputs": [
    {
     "data": {
      "text/plain": [
       "array([[0.00000000e+00, 1.56555288e-01, 0.00000000e+00, 1.04824048e+00,\n",
       "        1.04824048e+00],\n",
       "       [3.99871802e-16, 2.22232627e-01, 1.85211226e-01, 0.00000000e+00,\n",
       "        0.00000000e+00],\n",
       "       [3.42229326e+00, 1.62293177e+00, 2.00093574e+00, 1.88849350e-02,\n",
       "        1.88849350e-02]])"
      ]
     },
     "execution_count": 30,
     "metadata": {},
     "output_type": "execute_result"
    }
   ],
   "source": [
    "H, _, _, _ = np.linalg.lstsq(W, V, rcond=None)\n",
    "H = np.maximum(H,0)\n",
    "H"
   ]
  },
  {
   "cell_type": "code",
   "execution_count": 31,
   "metadata": {},
   "outputs": [
    {
     "data": {
      "text/plain": [
       "1.6895191726799896"
      ]
     },
     "execution_count": 31,
     "metadata": {},
     "output_type": "execute_result"
    }
   ],
   "source": [
    "((W@H - V)**2).sum()"
   ]
  },
  {
   "cell_type": "markdown",
   "metadata": {},
   "source": [
    "#### Hold H steady, solve for W"
   ]
  },
  {
   "cell_type": "code",
   "execution_count": 32,
   "metadata": {},
   "outputs": [],
   "source": [
    "WT, _, _, _ = np.linalg.lstsq(H.T, V.T, rcond=None)\n",
    "W = np.maximum(0, WT.T)"
   ]
  },
  {
   "cell_type": "code",
   "execution_count": 33,
   "metadata": {},
   "outputs": [
    {
     "data": {
      "text/plain": [
       "1.6912459727144133"
      ]
     },
     "execution_count": 33,
     "metadata": {},
     "output_type": "execute_result"
    }
   ],
   "source": [
    "((W@H - V)**2).sum()"
   ]
  },
  {
   "cell_type": "markdown",
   "metadata": {},
   "source": [
    "It seems that our RSS has converged. Let's take a look at the reconstructed matrix:"
   ]
  },
  {
   "cell_type": "code",
   "execution_count": 34,
   "metadata": {},
   "outputs": [
    {
     "data": {
      "text/plain": [
       "Text(0.5, 1.0, 'reconstruction $WH$')"
      ]
     },
     "execution_count": 34,
     "metadata": {},
     "output_type": "execute_result"
    },
    {
     "data": {
      "image/png": "[encoded data removed]",
      "text/plain": [
       "<Figure size 576x288 with 4 Axes>"
      ]
     },
     "metadata": {
      "needs_background": "light"
     },
     "output_type": "display_data"
    }
   ],
   "source": [
    "fig, ax = plt.subplots(1,2, figsize=(8,4))\n",
    "\n",
    "sns.heatmap( V, ax=ax[0], vmin=0, vmax=5)\n",
    "ax[0].set_title(\"original matrix $V$\")\n",
    "sns.heatmap( W@H, ax=ax[1], vmin=0, vmax=5)\n",
    "ax[1].set_title(\"reconstruction $WH$\")"
   ]
  },
  {
   "cell_type": "markdown",
   "metadata": {},
   "source": [
    "Not bad. We can now inspect the (contrained-positive) topic model for users and movies."
   ]
  },
  {
   "cell_type": "code",
   "execution_count": 35,
   "metadata": {},
   "outputs": [
    {
     "data": {
      "text/html": [
       "<div>\n",
       "<style scoped>\n",
       "    .dataframe tbody tr th:only-of-type {\n",
       "        vertical-align: middle;\n",
       "    }\n",
       "\n",
       "    .dataframe tbody tr th {\n",
       "        vertical-align: top;\n",
       "    }\n",
       "\n",
       "    .dataframe thead th {\n",
       "        text-align: right;\n",
       "    }\n",
       "</style>\n",
       "<table border=\"1\" class=\"dataframe\">\n",
       "  <thead>\n",
       "    <tr style=\"text-align: right;\">\n",
       "      <th></th>\n",
       "      <th>0</th>\n",
       "      <th>1</th>\n",
       "      <th>2</th>\n",
       "    </tr>\n",
       "  </thead>\n",
       "  <tbody>\n",
       "    <tr>\n",
       "      <th>Alice</th>\n",
       "      <td>0.000000</td>\n",
       "      <td>7.148051</td>\n",
       "      <td>0.296773</td>\n",
       "    </tr>\n",
       "    <tr>\n",
       "      <th>Juan</th>\n",
       "      <td>0.000000</td>\n",
       "      <td>16.619809</td>\n",
       "      <td>0.884995</td>\n",
       "    </tr>\n",
       "    <tr>\n",
       "      <th>Riya</th>\n",
       "      <td>0.000000</td>\n",
       "      <td>9.294829</td>\n",
       "      <td>1.165796</td>\n",
       "    </tr>\n",
       "    <tr>\n",
       "      <th>Dan</th>\n",
       "      <td>0.000000</td>\n",
       "      <td>11.618537</td>\n",
       "      <td>1.457245</td>\n",
       "    </tr>\n",
       "    <tr>\n",
       "      <th>Emily</th>\n",
       "      <td>3.856512</td>\n",
       "      <td>4.034018</td>\n",
       "      <td>0.000000</td>\n",
       "    </tr>\n",
       "    <tr>\n",
       "      <th>Angel</th>\n",
       "      <td>4.748285</td>\n",
       "      <td>0.000000</td>\n",
       "      <td>0.019890</td>\n",
       "    </tr>\n",
       "    <tr>\n",
       "      <th>Omar</th>\n",
       "      <td>1.928256</td>\n",
       "      <td>2.017009</td>\n",
       "      <td>0.000000</td>\n",
       "    </tr>\n",
       "  </tbody>\n",
       "</table>\n",
       "</div>"
      ],
      "text/plain": [
       "              0          1         2\n",
       "Alice  0.000000   7.148051  0.296773\n",
       "Juan   0.000000  16.619809  0.884995\n",
       "Riya   0.000000   9.294829  1.165796\n",
       "Dan    0.000000  11.618537  1.457245\n",
       "Emily  3.856512   4.034018  0.000000\n",
       "Angel  4.748285   0.000000  0.019890\n",
       "Omar   1.928256   2.017009  0.000000"
      ]
     },
     "execution_count": 35,
     "metadata": {},
     "output_type": "execute_result"
    }
   ],
   "source": [
    "pd.DataFrame(W, index=ratings_df.index)"
   ]
  },
  {
   "cell_type": "code",
   "execution_count": 36,
   "metadata": {},
   "outputs": [
    {
     "data": {
      "text/html": [
       "<div>\n",
       "<style scoped>\n",
       "    .dataframe tbody tr th:only-of-type {\n",
       "        vertical-align: middle;\n",
       "    }\n",
       "\n",
       "    .dataframe tbody tr th {\n",
       "        vertical-align: top;\n",
       "    }\n",
       "\n",
       "    .dataframe thead th {\n",
       "        text-align: right;\n",
       "    }\n",
       "</style>\n",
       "<table border=\"1\" class=\"dataframe\">\n",
       "  <thead>\n",
       "    <tr style=\"text-align: right;\">\n",
       "      <th></th>\n",
       "      <th>0</th>\n",
       "      <th>1</th>\n",
       "      <th>2</th>\n",
       "    </tr>\n",
       "  </thead>\n",
       "  <tbody>\n",
       "    <tr>\n",
       "      <th>TheMatrix</th>\n",
       "      <td>0.000000</td>\n",
       "      <td>3.998718e-16</td>\n",
       "      <td>3.422293</td>\n",
       "    </tr>\n",
       "    <tr>\n",
       "      <th>Alien</th>\n",
       "      <td>0.156555</td>\n",
       "      <td>2.222326e-01</td>\n",
       "      <td>1.622932</td>\n",
       "    </tr>\n",
       "    <tr>\n",
       "      <th>StarWars</th>\n",
       "      <td>0.000000</td>\n",
       "      <td>1.852112e-01</td>\n",
       "      <td>2.000936</td>\n",
       "    </tr>\n",
       "    <tr>\n",
       "      <th>Casablanca</th>\n",
       "      <td>1.048240</td>\n",
       "      <td>0.000000e+00</td>\n",
       "      <td>0.018885</td>\n",
       "    </tr>\n",
       "    <tr>\n",
       "      <th>Titanic</th>\n",
       "      <td>1.048240</td>\n",
       "      <td>0.000000e+00</td>\n",
       "      <td>0.018885</td>\n",
       "    </tr>\n",
       "  </tbody>\n",
       "</table>\n",
       "</div>"
      ],
      "text/plain": [
       "                   0             1         2\n",
       "TheMatrix   0.000000  3.998718e-16  3.422293\n",
       "Alien       0.156555  2.222326e-01  1.622932\n",
       "StarWars    0.000000  1.852112e-01  2.000936\n",
       "Casablanca  1.048240  0.000000e+00  0.018885\n",
       "Titanic     1.048240  0.000000e+00  0.018885"
      ]
     },
     "execution_count": 36,
     "metadata": {},
     "output_type": "execute_result"
    }
   ],
   "source": [
    "pd.DataFrame(H.T, index=ratings_df.columns)"
   ]
  },
  {
   "cell_type": "markdown",
   "metadata": {},
   "source": [
    "### General vs. non-negative least squares solver\n",
    "\n",
    "Non-negative least squares solver:\n",
    "    \n",
    " * Returns result with least squares error given non-negativity constraint\n",
    " * While alternating, converges to a local minimum\n",
    " * Orders of magnitude slower than general least squares solver\n",
    "\n",
    "General least squares solver:\n",
    "    \n",
    " * Returns result with least squares error with no constraints\n",
    " * While alternating, converges to a stationary point (saddle point or minimum)\n",
    " * Much much faster\n",
    " * Have to clip the matrix at every iteration to ensure non-negativity\n",
    "   \n",
    "In industry the general least squares solver is commonly used. The tradeoff between speed and strong convergence seems to be worth it. For more information check out: http://users.wfu.edu/plemmons/papers/BBLPP-rev.pdf"
   ]
  },
  {
   "cell_type": "markdown",
   "metadata": {},
   "source": [
    "### From `sklearn`"
   ]
  },
  {
   "cell_type": "code",
   "execution_count": 37,
   "metadata": {},
   "outputs": [],
   "source": [
    "from sklearn.decomposition import NMF"
   ]
  },
  {
   "cell_type": "code",
   "execution_count": 38,
   "metadata": {},
   "outputs": [],
   "source": [
    "nmf = NMF(n_components=3)"
   ]
  },
  {
   "cell_type": "code",
   "execution_count": 39,
   "metadata": {},
   "outputs": [],
   "source": [
    "W = nmf.fit_transform(V)\n",
    "H = nmf.components_"
   ]
  },
  {
   "cell_type": "code",
   "execution_count": 40,
   "metadata": {},
   "outputs": [
    {
     "data": {
      "text/plain": [
       "1.5038136860096203"
      ]
     },
     "execution_count": 40,
     "metadata": {},
     "output_type": "execute_result"
    }
   ],
   "source": [
    "((W@H - V)**2).sum() #pretty good"
   ]
  },
  {
   "cell_type": "code",
   "execution_count": 41,
   "metadata": {},
   "outputs": [
    {
     "data": {
      "text/html": [
       "<div>\n",
       "<style scoped>\n",
       "    .dataframe tbody tr th:only-of-type {\n",
       "        vertical-align: middle;\n",
       "    }\n",
       "\n",
       "    .dataframe tbody tr th {\n",
       "        vertical-align: top;\n",
       "    }\n",
       "\n",
       "    .dataframe thead th {\n",
       "        text-align: right;\n",
       "    }\n",
       "</style>\n",
       "<table border=\"1\" class=\"dataframe\">\n",
       "  <thead>\n",
       "    <tr style=\"text-align: right;\">\n",
       "      <th></th>\n",
       "      <th>0</th>\n",
       "      <th>1</th>\n",
       "      <th>2</th>\n",
       "    </tr>\n",
       "  </thead>\n",
       "  <tbody>\n",
       "    <tr>\n",
       "      <th>Alice</th>\n",
       "      <td>0.704652</td>\n",
       "      <td>0.000000</td>\n",
       "      <td>0.209972</td>\n",
       "    </tr>\n",
       "    <tr>\n",
       "      <th>Juan</th>\n",
       "      <td>1.733010</td>\n",
       "      <td>0.000000</td>\n",
       "      <td>0.608938</td>\n",
       "    </tr>\n",
       "    <tr>\n",
       "      <th>Riya</th>\n",
       "      <td>1.294738</td>\n",
       "      <td>0.001815</td>\n",
       "      <td>0.755987</td>\n",
       "    </tr>\n",
       "    <tr>\n",
       "      <th>Dan</th>\n",
       "      <td>1.618423</td>\n",
       "      <td>0.002269</td>\n",
       "      <td>0.944984</td>\n",
       "    </tr>\n",
       "    <tr>\n",
       "      <th>Emily</th>\n",
       "      <td>0.393512</td>\n",
       "      <td>1.839836</td>\n",
       "      <td>0.000000</td>\n",
       "    </tr>\n",
       "    <tr>\n",
       "      <th>Angel</th>\n",
       "      <td>0.000000</td>\n",
       "      <td>2.278843</td>\n",
       "      <td>0.000000</td>\n",
       "    </tr>\n",
       "    <tr>\n",
       "      <th>Omar</th>\n",
       "      <td>0.196756</td>\n",
       "      <td>0.919918</td>\n",
       "      <td>0.000000</td>\n",
       "    </tr>\n",
       "  </tbody>\n",
       "</table>\n",
       "</div>"
      ],
      "text/plain": [
       "              0         1         2\n",
       "Alice  0.704652  0.000000  0.209972\n",
       "Juan   1.733010  0.000000  0.608938\n",
       "Riya   1.294738  0.001815  0.755987\n",
       "Dan    1.618423  0.002269  0.944984\n",
       "Emily  0.393512  1.839836  0.000000\n",
       "Angel  0.000000  2.278843  0.000000\n",
       "Omar   0.196756  0.919918  0.000000"
      ]
     },
     "execution_count": 41,
     "metadata": {},
     "output_type": "execute_result"
    }
   ],
   "source": [
    "pd.DataFrame(W, index=ratings_df.index)"
   ]
  },
  {
   "cell_type": "code",
   "execution_count": 42,
   "metadata": {},
   "outputs": [
    {
     "data": {
      "text/html": [
       "<div>\n",
       "<style scoped>\n",
       "    .dataframe tbody tr th:only-of-type {\n",
       "        vertical-align: middle;\n",
       "    }\n",
       "\n",
       "    .dataframe tbody tr th {\n",
       "        vertical-align: top;\n",
       "    }\n",
       "\n",
       "    .dataframe thead th {\n",
       "        text-align: right;\n",
       "    }\n",
       "</style>\n",
       "<table border=\"1\" class=\"dataframe\">\n",
       "  <thead>\n",
       "    <tr style=\"text-align: right;\">\n",
       "      <th></th>\n",
       "      <th>0</th>\n",
       "      <th>1</th>\n",
       "      <th>2</th>\n",
       "    </tr>\n",
       "  </thead>\n",
       "  <tbody>\n",
       "    <tr>\n",
       "      <th>TheMatrix</th>\n",
       "      <td>0.000000</td>\n",
       "      <td>0.000031</td>\n",
       "      <td>5.206784</td>\n",
       "    </tr>\n",
       "    <tr>\n",
       "      <th>Alien</th>\n",
       "      <td>3.022714</td>\n",
       "      <td>0.197832</td>\n",
       "      <td>0.000000</td>\n",
       "    </tr>\n",
       "    <tr>\n",
       "      <th>StarWars</th>\n",
       "      <td>1.849307</td>\n",
       "      <td>0.000000</td>\n",
       "      <td>2.314512</td>\n",
       "    </tr>\n",
       "    <tr>\n",
       "      <th>Casablanca</th>\n",
       "      <td>0.000000</td>\n",
       "      <td>2.185120</td>\n",
       "      <td>0.000000</td>\n",
       "    </tr>\n",
       "    <tr>\n",
       "      <th>Titanic</th>\n",
       "      <td>0.000000</td>\n",
       "      <td>2.185120</td>\n",
       "      <td>0.000000</td>\n",
       "    </tr>\n",
       "  </tbody>\n",
       "</table>\n",
       "</div>"
      ],
      "text/plain": [
       "                   0         1         2\n",
       "TheMatrix   0.000000  0.000031  5.206784\n",
       "Alien       3.022714  0.197832  0.000000\n",
       "StarWars    1.849307  0.000000  2.314512\n",
       "Casablanca  0.000000  2.185120  0.000000\n",
       "Titanic     0.000000  2.185120  0.000000"
      ]
     },
     "execution_count": 42,
     "metadata": {},
     "output_type": "execute_result"
    }
   ],
   "source": [
    "pd.DataFrame(H.T, index=ratings_df.columns)"
   ]
  },
  {
   "cell_type": "markdown",
   "metadata": {},
   "source": [
    "## Additional notes\n",
    "\n",
    "We can use **regularization** with NMF, adding a terms cost for large values in $W$ and $H$, with either an L1 or L2 penelty.\n",
    "\n",
    "Some implementations (not sklearn) allow ignoring **missing values** in the original matrix. In these implementations, RSS is computed on non-missing items in the matrix $V$. The items in $WH$ corresponding to missing items in $V$ would correspond to hypothetical ratings; high ones would be recommendations."
   ]
  },
  {
   "cell_type": "code",
   "execution_count": null,
   "metadata": {},
   "outputs": [],
   "source": []
  }
 ],
 "metadata": {
  "kernelspec": {
   "display_name": "Python 3",
   "language": "python",
   "name": "python3"
  },
  "language_info": {
   "codemirror_mode": {
    "name": "ipython",
    "version": 3
   },
   "file_extension": ".py",
   "mimetype": "text/x-python",
   "name": "python",
   "nbconvert_exporter": "python",
   "pygments_lexer": "ipython3",
   "version": "3.6.8"
  }
 },
 "nbformat": 4,
 "nbformat_minor": 2
}
