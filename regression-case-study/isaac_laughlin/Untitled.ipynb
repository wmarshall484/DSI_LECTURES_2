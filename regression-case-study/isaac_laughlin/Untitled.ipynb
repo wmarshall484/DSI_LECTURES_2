{
 "cells": [
  {
   "cell_type": "markdown",
   "metadata": {
    "slideshow": {
     "slide_type": "slide"
    }
   },
   "source": [
    "# Regression Case Study\n",
    "\n",
    "## Objectives\n",
    "\n",
    "* Introduce CRISP-DM\n",
    "* Examine what CRISP-DM tells us about how to do real DS.\n",
    "* Tips for using github for collaboration.\n",
    "* Reinforce workflow."
   ]
  },
  {
   "cell_type": "markdown",
   "metadata": {
    "slideshow": {
     "slide_type": "slide"
    }
   },
   "source": [
    "![Crisp-DM](https://upload.wikimedia.org/wikipedia/commons/thumb/b/b9/CRISP-DM_Process_Diagram.png/1280px-CRISP-DM_Process_Diagram.png)"
   ]
  },
  {
   "cell_type": "markdown",
   "metadata": {
    "slideshow": {
     "slide_type": "fragment"
    }
   },
   "source": [
    "* What's the first step?\n",
    "* What adjacent steps are allowed to inform one another?\n",
    "* What adjacent steps don't inform one another?\n",
    "* What's the meaning of the outer circle?"
   ]
  },
  {
   "cell_type": "markdown",
   "metadata": {
    "slideshow": {
     "slide_type": "slide"
    }
   },
   "source": [
    "# Git workflow\n",
    "\n",
    "This is a simple git workflow that will probably work for today's purposes (for more complex projects, this probably wouldn't fly).\n",
    "\n",
    "[Centralized Git Workflow](https://www.atlassian.com/git/tutorials/comparing-workflows)\n",
    "\n",
    "## The gist\n",
    "\n",
    "1. One person creates a repository (and adds others as collaborators)\n",
    "1. Everyone clones the repository\n",
    "1. User A makes and commits a small change. \n",
    "    1. Like, really small.\n",
    "1. User A pushes change.\n",
    "1. User B makes and commits a small change.\n",
    "1. User B tries to push, but gets an error.\n",
    "1. User B pull User A's changes.\n",
    "1. User B resolves any possible merge conflicts (this is why you keep commits small)\n",
    "1. User B pushes.\n",
    "1. Repeat"
   ]
  },
  {
   "cell_type": "markdown",
   "metadata": {
    "slideshow": {
     "slide_type": "slide"
    }
   },
   "source": [
    "# Expert advice\n",
    "\n",
    "## Good ways to improve your case study outcome\n",
    "1. Make more complete CRISP-DM cycles\n",
    "1. Collaborate more effectively\n",
    "1. Transformers, `sklearn.pipeline`\n",
    "1. Make a ***very*** simple model sooner\n",
    "    1. Name some simple models.\n",
    "   "
   ]
  },
  {
   "cell_type": "markdown",
   "metadata": {
    "slideshow": {
     "slide_type": "slide"
    }
   },
   "source": [
    "# End Game\n",
    "\n",
    "Reconvene at 4:30 to share your results.\n",
    "\n",
    "This is an opportunity to practice the important skill of presenting your work, so plan to spend some of your time preparing for this."
   ]
  }
 ],
 "metadata": {
  "celltoolbar": "Slideshow",
  "kernelspec": {
   "display_name": "Python 2",
   "language": "python",
   "name": "python2"
  },
  "language_info": {
   "codemirror_mode": {
    "name": "ipython",
    "version": 2
   },
   "file_extension": ".py",
   "mimetype": "text/x-python",
   "name": "python",
   "nbconvert_exporter": "python",
   "pygments_lexer": "ipython2",
   "version": "2.7.12"
  }
 },
 "nbformat": 4,
 "nbformat_minor": 0
}
