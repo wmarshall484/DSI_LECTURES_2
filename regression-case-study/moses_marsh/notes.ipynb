{
 "cells": [
  {
   "cell_type": "markdown",
   "metadata": {
    "slideshow": {
     "slide_type": "slide"
    }
   },
   "source": [
    "# Regression Case Study\n",
    "\n",
    "## Objectives\n",
    "\n",
    "* Introduce [CRISP-DM](https://en.wikipedia.org/wiki/Cross-industry_standard_process_for_data_mining) (Cross-industry standard process for data mining)\n",
    "* Examine what CRISP-DM tells us about how to do real DS.\n",
    "* Tips for using github for collaboration.\n",
    "* Reinforce workflow."
   ]
  },
  {
   "cell_type": "markdown",
   "metadata": {
    "slideshow": {
     "slide_type": "slide"
    }
   },
   "source": [
    "<img src=\"./crisp_dm.png\" width=\"400\"/>\n"
   ]
  },
  {
   "cell_type": "markdown",
   "metadata": {
    "slideshow": {
     "slide_type": "fragment"
    }
   },
   "source": [
    "* What's the first step?\n",
    "* What adjacent steps are allowed to inform one another?\n",
    "* What adjacent steps don't inform one another?\n",
    "* What's the meaning of the outer circle?"
   ]
  },
  {
   "cell_type": "markdown",
   "metadata": {
    "slideshow": {
     "slide_type": "slide"
    }
   },
   "source": [
    "# Git workflow\n",
    "\n",
    "This is a simple git workflow that will probably work for today's purposes (for more complex projects, this probably wouldn't fly).\n",
    "\n",
    "[Centralized Git Workflow](https://www.atlassian.com/git/tutorials/comparing-workflows)\n",
    "\n",
    "## The gist\n",
    "\n",
    "1. One person creates/forks a repository (and adds others as collaborators)\n",
    "1. Everyone clones the repository\n",
    "1. User A makes and commits a small change. \n",
    "    - Like, really small.\n",
    "1. User A pushes change.\n",
    "1. User B makes and commits a small change.\n",
    "1. User B tries to push, but gets an error.\n",
    "1. User B pull User A's changes.\n",
    "1. User B resolves any possible merge conflicts (this is why you keep commits small)\n",
    "1. User B pushes.\n",
    "1. Repeat"
   ]
  },
  {
   "cell_type": "markdown",
   "metadata": {
    "slideshow": {
     "slide_type": "slide"
    }
   },
   "source": [
    "# Expert advice\n",
    "\n",
    "## Good ways to improve your case study outcome\n",
    "1. Make more complete CRISP-DM cycles\n",
    "1. Collaborate more effectively\n",
    "1. Transformers, `sklearn.pipeline`\n",
    "1. Make a ***very*** simple model sooner\n",
    "    1. Name some simple models.\n",
    "   "
   ]
  },
  {
   "cell_type": "markdown",
   "metadata": {
    "slideshow": {
     "slide_type": "slide"
    }
   },
   "source": [
    "# End Game\n",
    "\n",
    "Reconvene at the end of the day to share your results with **a short presentation**. \"Short\" means 5 minutes. 6 slides or so. You have a brief amount of time to communicate the most important things you learned from your data. Don't waste any of your time with the sentence \"I loaded the data into a pandas dataframe\". That sentence tells us nothing about what you've learned. \n",
    "\n",
    "**Start your presentation with a conclusion**. Then explain the modelling / EDA choices you made to justify that conclusion.\n",
    "\n"
   ]
  },
  {
   "cell_type": "code",
   "execution_count": null,
   "metadata": {},
   "outputs": [],
   "source": []
  },
  {
   "cell_type": "code",
   "execution_count": null,
   "metadata": {},
   "outputs": [],
   "source": []
  },
  {
   "cell_type": "markdown",
   "metadata": {},
   "source": [
    "### Pro tip zone: categorical variables in cross validation\n",
    "\n",
    "Imagine you have a feature `color`, and this is all your training data.\n",
    "\n",
    "| index  | color  |\n",
    "|---|---|\n",
    "|  0 | red  |\n",
    "|  1 | blue  |\n",
    "|  2 | red  |\n",
    "|  3 | green  |\n",
    "|  4 | blue  |\n",
    "\n",
    "dummifying this column (using, say, `pd.get_dummies`) would give you the following:\n",
    "\n",
    "| index  | color  | red | blue | green |\n",
    "|---|---|---|---|---|\n",
    "|  0 | red  | 1 | 0 | 0 |\n",
    "|  1 | blue  | 0 | 1 | 0 |\n",
    "|  2 | red  | 1 | 0 | 0|\n",
    "|  3 | green  | 0 | 0 | 1 |\n",
    "|  4 | blue  | 0 | 1 | 0 |\n",
    "\n",
    "I fit a model using only the columns `red`, `blue`, and `green`, so a data point `x = [0,1,0]` represents a blue thing. \n",
    "\n",
    "Now say a test data point `x*` comes in and has color `pink`. How can we pass this to our model? In terms of dummy features we saw in the training set, we can only say \"this point is not red, green, or blue\", so we would encode it as \n",
    "\n",
    "`x* = [0,0,0]`\n",
    "\n",
    "If you had a dataframe full of test points, and a categorical column contains a value not seen in the training data, calling `pd.get_dummies` on `df_test` will create columns that your model cannot accept (since your model only knows about features defined in your training set, and is also expecting the same columns in the same order). So make sure your code accounts for this data transformation correctly."
   ]
  }
 ],
 "metadata": {
  "anaconda-cloud": {},
  "celltoolbar": "Slideshow",
  "kernelspec": {
   "display_name": "Python 3",
   "language": "python",
   "name": "python3"
  },
  "language_info": {
   "codemirror_mode": {
    "name": "ipython",
    "version": 3
   },
   "file_extension": ".py",
   "mimetype": "text/x-python",
   "name": "python",
   "nbconvert_exporter": "python",
   "pygments_lexer": "ipython3",
   "version": "3.7.1"
  }
 },
 "nbformat": 4,
 "nbformat_minor": 2
}
