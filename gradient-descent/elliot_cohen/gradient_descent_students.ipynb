{
 "cells": [
  {
   "cell_type": "code",
   "execution_count": 1,
   "metadata": {},
   "outputs": [],
   "source": [
    "import numpy as np\n",
    "import sympy\n",
    "from mpl_toolkits.mplot3d import Axes3D\n",
    "from matplotlib import cbook\n",
    "from matplotlib import cm\n",
    "from matplotlib.colors import LightSource\n",
    "import matplotlib.pyplot as plt\n",
    "\n",
    "%matplotlib inline"
   ]
  },
  {
   "cell_type": "markdown",
   "metadata": {},
   "source": [
    "## Sympy can be used to check your calculus\n",
    "\n",
    "A simple derivative example"
   ]
  },
  {
   "cell_type": "code",
   "execution_count": 2,
   "metadata": {},
   "outputs": [
    {
     "data": {
      "text/plain": [
       "3*x**2"
      ]
     },
     "execution_count": 2,
     "metadata": {},
     "output_type": "execute_result"
    }
   ],
   "source": [
    "# instantiate symbol first\n",
    "x = sympy.symbols('x')\n",
    "# take derivative\n",
    "sympy.diff(x**3)"
   ]
  },
  {
   "cell_type": "code",
   "execution_count": 3,
   "metadata": {},
   "outputs": [
    {
     "data": {
      "text/plain": [
       "x**3"
      ]
     },
     "execution_count": 3,
     "metadata": {},
     "output_type": "execute_result"
    }
   ],
   "source": [
    "# indefinite integral\n",
    "sympy.integrate(3*x**2)"
   ]
  },
  {
   "cell_type": "code",
   "execution_count": 4,
   "metadata": {},
   "outputs": [
    {
     "data": {
      "text/plain": [
       "1"
      ]
     },
     "execution_count": 4,
     "metadata": {},
     "output_type": "execute_result"
    }
   ],
   "source": [
    "# definite integral\n",
    "sympy.integrate(3*x**2, (x, 0, 1))"
   ]
  },
  {
   "cell_type": "markdown",
   "metadata": {},
   "source": [
    "A gradient"
   ]
  },
  {
   "cell_type": "code",
   "execution_count": 5,
   "metadata": {},
   "outputs": [],
   "source": [
    "m = sympy.Matrix(sympy.symbols('a b'))"
   ]
  },
  {
   "cell_type": "code",
   "execution_count": 6,
   "metadata": {},
   "outputs": [
    {
     "data": {
      "text/plain": [
       "(Matrix([\n",
       " [a],\n",
       " [b]]), Matrix([[a, b]]))"
      ]
     },
     "execution_count": 6,
     "metadata": {},
     "output_type": "execute_result"
    }
   ],
   "source": [
    "m, m.T"
   ]
  },
  {
   "cell_type": "code",
   "execution_count": 7,
   "metadata": {},
   "outputs": [
    {
     "data": {
      "text/plain": [
       "[2*a + 2*b, 2*a + 2*b]"
      ]
     },
     "execution_count": 7,
     "metadata": {},
     "output_type": "execute_result"
    }
   ],
   "source": [
    "[sympy.diff(sum(m*m.T), i) for i in m]"
   ]
  },
  {
   "cell_type": "code",
   "execution_count": 8,
   "metadata": {},
   "outputs": [
    {
     "data": {
      "text/plain": [
       "Matrix([\n",
       "[a**2,  a*b],\n",
       "[ a*b, b**2]])"
      ]
     },
     "execution_count": 8,
     "metadata": {},
     "output_type": "execute_result"
    }
   ],
   "source": [
    "#for reference...this is what this looks like...\n",
    "m*m.T"
   ]
  },
  {
   "cell_type": "markdown",
   "metadata": {},
   "source": [
    "## Gradient Descent in one dimension\n",
    "\n",
    "Let's start with an overly simplified example, a cost function of $ y = 3x^2 $\n",
    "\n",
    "In this case, 'x' is our parameter that we are trying to minimize. \n",
    "\n",
    "First, you'll need to write a function that computes the gradient of the cost function at a given x."
   ]
  },
  {
   "cell_type": "code",
   "execution_count": 9,
   "metadata": {},
   "outputs": [],
   "source": [
    "def cost_func(x):\n",
    "    return 3*x**2\n",
    "\n",
    "def grad_cost_func(x):\n",
    "    # your code here\n",
    "    pass"
   ]
  },
  {
   "cell_type": "markdown",
   "metadata": {},
   "source": [
    "We know from calculus that we can find the minimum of this function at x = 0. \n",
    "\n",
    "For demonstation purposes, we pretend that we don't know this, and we will start with a guess of x = 5 for the minimum. :)\n",
    "\n",
    "Let's plot this, for a visual..."
   ]
  },
  {
   "cell_type": "code",
   "execution_count": 10,
   "metadata": {},
   "outputs": [
    {
     "data": {
      "image/png": "[encoded data removed]",
      "text/plain": [
       "<Figure size 432x288 with 1 Axes>"
      ]
     },
     "metadata": {},
     "output_type": "display_data"
    }
   ],
   "source": [
    "# keeping our guesses in a list for reasons that will become clear later....\n",
    "guesses = [5]\n",
    "\n",
    "def plot_cost(x_guess):\n",
    "    fig = plt.figure()\n",
    "    ax = fig.add_subplot(111) \n",
    "    x = np.linspace(-6, 6)\n",
    "    y = cost_func(x)\n",
    "    ax.plot(x, y)\n",
    "    y_guess = [cost_func(xg) for xg in x_guess]\n",
    "    ax.plot(x_guess, y_guess, 'ro')\n",
    "    \n",
    "    labels = ['step {}'.format(i) for i in range(len(x_guess))]\n",
    "    for label, x, y in zip(labels, x_guess, y_guess):\n",
    "        plt.annotate(\n",
    "            label,\n",
    "            xy=(x, y), xytext=(-20, 20),\n",
    "            textcoords='offset points', ha='right', va='bottom',\n",
    "            bbox=dict(boxstyle='round,pad=0.5', fc='yellow', alpha=0.5),\n",
    "            arrowprops=dict(arrowstyle = '->', connectionstyle='arc3,rad=0'))\n",
    "\n",
    "   \n",
    "plot_cost(guesses)"
   ]
  },
  {
   "cell_type": "markdown",
   "metadata": {},
   "source": [
    "In this one-dimensional case, we can visually inspect and see that we are pretty far from the minimum! \n",
    "\n",
    "Let's compute the gradient at this point to update our \"guess\" for x "
   ]
  },
  {
   "cell_type": "code",
   "execution_count": 11,
   "metadata": {},
   "outputs": [
    {
     "name": "stdout",
     "output_type": "stream",
     "text": [
      "None\n"
     ]
    }
   ],
   "source": [
    "grad = grad_cost_func(guesses[-1])\n",
    "print(grad)"
   ]
  },
  {
   "cell_type": "markdown",
   "metadata": {},
   "source": [
    "The gradient is huge at our guess! If we simply adjusted by that amount, we would overshoot the minimum by far! This is why we use the learning rate to adjust our guess by small steps. Let's try a learning rate of .05, so we don't go too far. Since we are doing gradient DESCENT, we should subtract the gradient from our guess. "
   ]
  },
  {
   "cell_type": "code",
   "execution_count": 12,
   "metadata": {},
   "outputs": [
    {
     "ename": "TypeError",
     "evalue": "unsupported operand type(s) for *: 'float' and 'NoneType'",
     "output_type": "error",
     "traceback": [
      "\u001b[0;31m---------------------------------------------------------------------------\u001b[0m",
      "\u001b[0;31mTypeError\u001b[0m                                 Traceback (most recent call last)",
      "\u001b[0;32m<ipython-input-12-83c4f2da4e27>\u001b[0m in \u001b[0;36m<module>\u001b[0;34m()\u001b[0m\n\u001b[1;32m      1\u001b[0m \u001b[0mlearning_rate\u001b[0m \u001b[0;34m=\u001b[0m \u001b[0;36m0.05\u001b[0m\u001b[0;34m\u001b[0m\u001b[0m\n\u001b[1;32m      2\u001b[0m \u001b[0;34m\u001b[0m\u001b[0m\n\u001b[0;32m----> 3\u001b[0;31m \u001b[0mguess_update\u001b[0m \u001b[0;34m=\u001b[0m \u001b[0mguesses\u001b[0m\u001b[0;34m[\u001b[0m\u001b[0;34m-\u001b[0m\u001b[0;36m1\u001b[0m\u001b[0;34m]\u001b[0m \u001b[0;34m-\u001b[0m \u001b[0mlearning_rate\u001b[0m\u001b[0;34m*\u001b[0m\u001b[0mgrad\u001b[0m\u001b[0;34m\u001b[0m\u001b[0m\n\u001b[0m\u001b[1;32m      4\u001b[0m \u001b[0;31m# let's keep our guesses in a list...\u001b[0m\u001b[0;34m\u001b[0m\u001b[0;34m\u001b[0m\u001b[0m\n\u001b[1;32m      5\u001b[0m \u001b[0mguesses\u001b[0m\u001b[0;34m.\u001b[0m\u001b[0mappend\u001b[0m\u001b[0;34m(\u001b[0m\u001b[0mguess_update\u001b[0m\u001b[0;34m)\u001b[0m\u001b[0;34m\u001b[0m\u001b[0m\n",
      "\u001b[0;31mTypeError\u001b[0m: unsupported operand type(s) for *: 'float' and 'NoneType'"
     ]
    }
   ],
   "source": [
    "learning_rate = 0.05\n",
    "guess_update = guesses[-1] - learning_rate*grad\n",
    "guesses.append(guess_update)  # let's keep our guesses in a list...\n",
    "\n",
    "print(guesses)"
   ]
  },
  {
   "cell_type": "markdown",
   "metadata": {},
   "source": [
    "Plot including our new guess..."
   ]
  },
  {
   "cell_type": "code",
   "execution_count": null,
   "metadata": {},
   "outputs": [],
   "source": [
    "plot_cost(guesses)"
   ]
  },
  {
   "cell_type": "markdown",
   "metadata": {},
   "source": [
    "That's a lot closer. Let's do this three more times and see where we land..."
   ]
  },
  {
   "cell_type": "code",
   "execution_count": null,
   "metadata": {},
   "outputs": [],
   "source": [
    "for _ in range(3):\n",
    "    grad = grad_cost_func(guesses[-1])\n",
    "    guess_update = guesses[-1] - learning_rate*grad\n",
    "    guesses.append(guess_update)\n",
    "\n",
    "plot_cost(guesses)"
   ]
  },
  {
   "cell_type": "markdown",
   "metadata": {},
   "source": [
    "Note that as we get closer to the minimum, the gradient gets smaller and so the guesses step more slowly. This is a good thing - a natural property that makes it harder for us to overshoot!\n",
    "\n",
    "Let's see if 5 more times does the job."
   ]
  },
  {
   "cell_type": "code",
   "execution_count": null,
   "metadata": {},
   "outputs": [],
   "source": [
    "for _ in range(5):\n",
    "    grad = grad_cost_func(guesses[-1])\n",
    "    guess_update = guesses[-1] - learning_rate*grad\n",
    "    guesses.append(guess_update)\n",
    "\n",
    "plot_cost(guesses)"
   ]
  },
  {
   "cell_type": "markdown",
   "metadata": {},
   "source": [
    "looks pretty close, let's inspect the list to see"
   ]
  },
  {
   "cell_type": "code",
   "execution_count": null,
   "metadata": {},
   "outputs": [],
   "source": [
    "print(guesses)"
   ]
  },
  {
   "cell_type": "markdown",
   "metadata": {},
   "source": [
    "Didn't quite get to the minimum. It is left as an exercise to the reader to determine how many more steps it will take to get to the bottom."
   ]
  },
  {
   "cell_type": "markdown",
   "metadata": {
    "collapsed": true
   },
   "source": [
    "# Cost functions\n",
    "\n",
    "## Linear Regression\n",
    "\n",
    "$$ J(\\theta) = \\frac{1}{2}\\sum_{i=1}^N (y_i - h_\\theta(x_i))^2 $$\n",
    "\n",
    "## Logistic Regression\n",
    "\n",
    "$$ \\ln p(\\vec{y}|X;\\theta) = \\sum_{i=1}^N (y_i \\ln h_\\theta (x_i) + (1- y_i)\\ln(1- (h_\\theta (x_i))) $$\n",
    "\n",
    "\n",
    "In your assignment, you will be working through the gradient descent algorithm for logistic regression. Let's work through an example using a linear regression. \n",
    "\n",
    "First, we'll instantiate a small \"dataset\" X, with 2 features and 10 rows, and some beta coefficients. "
   ]
  },
  {
   "cell_type": "code",
   "execution_count": null,
   "metadata": {},
   "outputs": [],
   "source": [
    "X = np.random.random((10, 2))\n",
    "true_betas = np.array([3, 4]).reshape(-1, 1) # go ahead and turn this into a column vector "
   ]
  },
  {
   "cell_type": "markdown",
   "metadata": {},
   "source": [
    "Now, when doing gradient descent, we know our Xs and ys, but are actually trying to solve for the best values of beta. So we need to calculate the y that we will use  \n",
    "\n",
    "Note - we already know the correct answer for our coefficients, which is a good way to practice our algorithm - we already know the correct answer! Note that since there does exist a set of betas that X dot beta is exactly y, we expect this to converge absolutely.\n"
   ]
  },
  {
   "cell_type": "code",
   "execution_count": null,
   "metadata": {},
   "outputs": [],
   "source": [
    "y = X.dot(true_betas).reshape(-1, 1) # keep this as a column vector so linear algebra goes smoothly\n",
    "print(y)"
   ]
  },
  {
   "cell_type": "markdown",
   "metadata": {},
   "source": [
    "##  Reminder: Gradient Formula\n",
    "* The gradient is the multivariate analogue of the derivative.\n",
    "    * More precisely, it's the length $n$ vector of partial derivatives where $ f: \\mathbb{R}^n \\rightarrow \\mathbb{R} $.\n",
    "* Geometrically the gradient is the direction of steepest descent.\n",
    "\n",
    "$$ \\nabla f = \\sum_{i=1}^P\\frac{\\partial f}{\\partial x_i} e_i$$\n",
    "\n",
    "How can we use the direction of steepest descent to find the minimum of our function?\n",
    "\n",
    "How about the maximum?"
   ]
  },
  {
   "cell_type": "markdown",
   "metadata": {},
   "source": [
    "### Steps for Gradient Descent\n",
    "\n",
    "**1. Compute objective function.** We've done this. We are doing a linear regression, so we will use the sum of squared errors as our cost function. \n",
    "$$ J(\\theta) = \\frac{1}{2}\\sum_{i=1}^N (y_i - h_\\theta(x_i))^2 $$\n",
    "\n",
    "**2. Compute gradient of objective function.** Compute the gradient of this below. You may find it helpful to break this into components, i.e.\n",
    "$$ J(\\theta) = (y_1 - x_1\\beta_1- x_2\\beta_2)^2 $$\n",
    "but you should return the matrix formulation. \n",
    "\n",
    "Put the gradient in a function that will return the gradient vector for given X, betas, and y. This vector should have the same shape as your coefficient array!\n",
    "\n",
    "Remember the product and chain rules!"
   ]
  },
  {
   "cell_type": "code",
   "execution_count": null,
   "metadata": {},
   "outputs": [],
   "source": [
    "def sse_grad_func(X, beta_guess, y):\n",
    "    # your code here\n",
    "    pass "
   ]
  },
  {
   "cell_type": "markdown",
   "metadata": {},
   "source": [
    "Now, in practice, we won't know our coefficients, so we'll need to start with a \"random guess\"..."
   ]
  },
  {
   "cell_type": "code",
   "execution_count": null,
   "metadata": {},
   "outputs": [],
   "source": [
    "beta_guess = np.ones((2,1))"
   ]
  },
  {
   "cell_type": "markdown",
   "metadata": {},
   "source": [
    "### Visualize the cost function. \n",
    "\n",
    "Note that this cost function is very smooth and does have an absolute minimum, because of the way we set the problem up. \"Real\" cost functions will lack this feature"
   ]
  },
  {
   "cell_type": "code",
   "execution_count": null,
   "metadata": {},
   "outputs": [],
   "source": [
    "def cost_func_surface(betas):\n",
    "    return 0.5*((y - X.dot(betas))**2).sum()\n",
    "\n",
    "def plot_cost_surface():\n",
    "    beta1_space = np.linspace(-10, 10).reshape(-1, 1)\n",
    "    beta2_space = np.linspace(-10, 10).reshape(-1, 1)\n",
    "    \n",
    "    cost_surface_z = [cost_func_surface(np.array([beta1, beta2]).reshape(-1, 1)) for beta1 in beta1_space for beta2 in beta2_space] \n",
    "\n",
    "    beta1_space, beta2_space = np.meshgrid(beta1_space, beta2_space)\n",
    "\n",
    "    cost_surface_z = np.array(cost_surface_z).reshape(50,50)\n",
    "    \n",
    "    fig, ax = plt.subplots(figsize=(12, 10), subplot_kw=dict(projection='3d'))\n",
    "\n",
    "    ls = LightSource(270, 45)\n",
    "    # To use a custom hillshading mode, override the built-in shading and pass\n",
    "    # in the rgb colors of the shaded surface calculated from \"shade\".\n",
    "    rgb = ls.shade(cost_surface_z, cmap=cm.rainbow, vert_exag=0.1, blend_mode='soft')\n",
    "\n",
    "    surf = ax.plot_surface(beta1_space, beta2_space, cost_surface_z, facecolors=rgb)\n",
    "    ax.set_xlabel('beta 1')\n",
    "    ax.set_ylabel('beta 2')\n",
    "    ax.set_zlabel('cost')\n",
    "\n",
    "    \n",
    "plot_cost_surface()    "
   ]
  },
  {
   "cell_type": "markdown",
   "metadata": {},
   "source": [
    "### Steps for Gradient Descent\n",
    "\n",
    "**3. Adjust weights/parameters by the gradient of the cost function scaled by the learning rate** We should update our betas given the gradient of the cost function that we just computed, scaled by our learning rate. This is gradient DESCENT, so we should subtract our update. \n",
    "\n",
    "Write a function that performs a parameter update and returns updated parameters (This is very simple - should be a one liner, use numpy. DO NOT OVERTHINK THIS!). Since our problem is simple, the default learning rate is (relatively) high at 0.02."
   ]
  },
  {
   "cell_type": "code",
   "execution_count": null,
   "metadata": {},
   "outputs": [],
   "source": [
    "def paramater_update(betas_old, grad, lr=0.02):\n",
    "    # your code here\n",
    "    pass "
   ]
  },
  {
   "cell_type": "markdown",
   "metadata": {},
   "source": [
    "Do one update step on our parameters..."
   ]
  },
  {
   "cell_type": "code",
   "execution_count": null,
   "metadata": {},
   "outputs": [],
   "source": [
    "grad = sse_grad_func(X, beta_guess, y)\n",
    "\n",
    "beta_1_iter = paramater_update(beta_guess, grad)\n",
    "\n",
    "print('New values of beta after 1 update: {}'.format(beta_1_iter))"
   ]
  },
  {
   "cell_type": "markdown",
   "metadata": {},
   "source": [
    "### Put it all together! \n",
    "\n",
    "If you have done your math right, this should be a step in the right direction. But it takes some iterating to get to the correct answer. \n",
    "\n",
    "Write a function with a for loop below to perform the full gradient descent. Experiment with values of max_iter to see how long it takes to converge to the correct parameters"
   ]
  },
  {
   "cell_type": "code",
   "execution_count": null,
   "metadata": {},
   "outputs": [],
   "source": [
    "def simple_gradient_descent(X, y, beta_guess = np.ones((2,1)), lr = .02, max_iter = 100): \n",
    "    # your code here\n",
    "    # return params\n",
    "    pass"
   ]
  },
  {
   "cell_type": "markdown",
   "metadata": {},
   "source": [
    "### Extra Credit: Gradient Descent Convergence Criterion\n",
    "We did the simplest case of convergence criteria, a set number of iterations. In practice, you would want to use a more sophisticated convergence criterion - i.e. stopping iterations when your result stops significantly improving.\n",
    "\n",
    "Copy and paste your function from into two blocks below, and improve by adding the following stopping criteria in addition to maximum iterations. Feel free to adjust the default paramaters if you don't like the results!\n",
    "\n",
    "* Change in cost function $ (cost_{old} - cost_{new}) / cost_{old} < \\epsilon $\n",
    "* Magnitude of gradient < $ \\epsilon $\n"
   ]
  },
  {
   "cell_type": "code",
   "execution_count": null,
   "metadata": {},
   "outputs": [],
   "source": [
    "# note, this will likely require a helper function to compute the cost!\n",
    "\n",
    "def gradient_descent_cost_fcn(X, y, beta_guess = np.ones((2,1)), lr = .02, max_iter = 1000, epsilon = .00001):\n",
    "    # your code here\n",
    "    pass"
   ]
  },
  {
   "cell_type": "code",
   "execution_count": null,
   "metadata": {},
   "outputs": [],
   "source": [
    "def gradient_descent_grad_mag(X, y, beta_guess = np.ones((2,1)), lr = .02, max_iter = 1000, epsilon = .01):\n",
    "    # your code here\n",
    "    pass "
   ]
  },
  {
   "cell_type": "code",
   "execution_count": null,
   "metadata": {},
   "outputs": [],
   "source": []
  },
  {
   "cell_type": "markdown",
   "metadata": {},
   "source": [
    "### Bonus nice-to-know...Newton's Method"
   ]
  },
  {
   "cell_type": "code",
   "execution_count": null,
   "metadata": {},
   "outputs": [],
   "source": [
    "def newtons_method(f_prime, f_double_prime, initial_guess,\n",
    "                   threshold, max_iter):\n",
    "    x = float(initial_guess)\n",
    "    iterations = 0\n",
    "    x_history = [x]\n",
    "    while f_prime(x) > threshold and iterations < max_iter:\n",
    "        x = x - f_prime(x)/f_double_prime(x)\n",
    "        x_history.append(x)\n",
    "        iterations += 1\n",
    "    print('newtons method took %s iterations'%iterations)\n",
    "    return x_history\n",
    "\n",
    "newton_x_history = newtons_method(f_prime, \n",
    "                                  f_double_prime,\n",
    "                                  initial_guess, \n",
    "                                  threshold,\n",
    "                                  max_iter)\n"
   ]
  }
 ],
 "metadata": {
  "kernelspec": {
   "display_name": "Python 3",
   "language": "python",
   "name": "python3"
  },
  "language_info": {
   "codemirror_mode": {
    "name": "ipython",
    "version": 3
   },
   "file_extension": ".py",
   "mimetype": "text/x-python",
   "name": "python",
   "nbconvert_exporter": "python",
   "pygments_lexer": "ipython3",
   "version": "3.6.5"
  }
 },
 "nbformat": 4,
 "nbformat_minor": 2
}
