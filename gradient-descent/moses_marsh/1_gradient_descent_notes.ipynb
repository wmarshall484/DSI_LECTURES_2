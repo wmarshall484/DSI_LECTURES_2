{
 "cells": [
  {
   "cell_type": "markdown",
   "metadata": {
    "slideshow": {
     "slide_type": "slide"
    }
   },
   "source": [
    "# Optimization Methods\n",
    "## Gradient Descent\n",
    "### Objectives\n",
    "\n",
    "At the end of the day you should be able to:\n",
    "\n",
    "1. Know the purpose of gradient descent, and name some specific applications we already know.\n",
    "1. Write pseudocode of the gradient descent and stochastic gradient descent algorithms.\n",
    "1. Compare and contrast batch and stochastic gradient descent - the algorithms, costs, and benefits.\n",
    "1. Draw Gradient Descent cartoons!\n"
   ]
  },
  {
   "cell_type": "markdown",
   "metadata": {
    "slideshow": {
     "slide_type": "slide"
    }
   },
   "source": [
    "# Motivation\n",
    "\n",
    "Generally: find the minimum or maximum of a function.\n",
    "\n",
    "## Example 1:\n",
    "\n",
    "Find the parameters of a model which maximize the likelihood of data.\n",
    "\n",
    "## Example 2:\n",
    "\n",
    "Find the parameters of a model which minimize a cost function."
   ]
  },
  {
   "cell_type": "markdown",
   "metadata": {
    "slideshow": {
     "slide_type": "slide"
    }
   },
   "source": [
    "# What can we optimize?"
   ]
  },
  {
   "cell_type": "code",
   "execution_count": 1,
   "metadata": {
    "scrolled": true,
    "slideshow": {
     "slide_type": "fragment"
    }
   },
   "outputs": [],
   "source": [
    "import matplotlib.pyplot as plt\n",
    "import numpy as np\n",
    "%matplotlib inline"
   ]
  },
  {
   "cell_type": "code",
   "execution_count": 2,
   "metadata": {},
   "outputs": [
    {
     "data": {
      "image/png": "[encoded data removed]",
      "text/plain": [
       "<matplotlib.figure.Figure at 0x7f1b46441438>"
      ]
     },
     "metadata": {},
     "output_type": "display_data"
    }
   ],
   "source": [
    "x = np.arange(-5,5, .001)\n",
    "funcs = [-(x**2), x**3, np.exp(x)]\n",
    "fig, subps = plt.subplots(1,len(funcs))\n",
    "fig.set_size_inches(12,6)\n",
    "for ax, func in zip(subps, funcs):\n",
    "    ax.plot(x, func)"
   ]
  },
  {
   "cell_type": "markdown",
   "metadata": {
    "slideshow": {
     "slide_type": "slide"
    }
   },
   "source": [
    "# Cost functions\n",
    "\n",
    "## Linear Regression\n",
    "\n",
    "$$ J(\\theta) = \\frac{1}{N}\\sum_{i=1}^N (y_i - h_\\theta(x_i))^2 $$\n",
    "\n",
    "## Logistic Regression\n",
    "\n",
    "$$ \\text{Log likelihood} = \\ln p(\\vec{y}|X;\\theta) = \\sum_{i=1}^N (y_i \\ln h_\\theta (x_i) + (1- y_i)\\ln(1- (h_\\theta (x_i))) $$"
   ]
  },
  {
   "cell_type": "markdown",
   "metadata": {
    "slideshow": {
     "slide_type": "slide"
    }
   },
   "source": [
    "# Finding an optimium\n",
    "\n",
    "## Ideal world: \n",
    "- take the derivative of the cost function\n",
    "- set it to zero\n",
    "- solve for parameters\n",
    "\n",
    "## Real world:\n",
    "- realize there is no analytic solution\n",
    "- cry\n",
    "- guess a set of parameter values\n",
    "- take the derivative of the cost function\n",
    "- use it inform your next guess\n",
    "- repeat"
   ]
  },
  {
   "cell_type": "markdown",
   "metadata": {
    "slideshow": {
     "slide_type": "slide"
    }
   },
   "source": [
    "# The Gradient\n",
    "* Let's say we have a function $f$ of $p$ variables:\n",
    "$$f(\\theta_1, \\theta_2, \\ldots, \\theta_p) = f(\\vec{\\theta})$$\n",
    "* The gradient is the multivariate analogue of the derivative: it is the vector of partial derivatives $\\partial f / \\partial \\theta_j$\n",
    "* Geometrically the gradient is the direction of steepest descent.\n",
    "\n",
    "$$ \\vec{\\nabla_\\theta}f = \\sum_{j=1}^p\\frac{\\partial f}{\\partial \\theta_j} \\vec{e_j}$$\n",
    "\n",
    "where $\\vec{e_j}$ is the basis vector pointing along axis $\\theta_j$\n",
    "\n",
    "How can we use the direction of steepest descent to find the minimum of our function?\n",
    "\n",
    "How about the maximum?"
   ]
  },
  {
   "cell_type": "markdown",
   "metadata": {
    "slideshow": {
     "slide_type": "slide"
    }
   },
   "source": [
    "# Gradient Descent Algorithm\n",
    "\n",
    "Follow the direction of steepest descent until convergence.\n",
    "\n",
    "But the gradient gives us the _direction_ of steepest descent, how do we choose the _size_ of the update to make to the parameter?"
   ]
  },
  {
   "cell_type": "markdown",
   "metadata": {
    "slideshow": {
     "slide_type": "slide"
    }
   },
   "source": [
    "# Gradient Descent Algorithm\n",
    "- guess a set of starting values for the parameters, $\\vec{\\theta}_0$\n",
    "- evaluate the partial derivatives $\\partial f / \\partial \\theta_j$ (which will also be functions of all the parameters $\\vec{\\theta}$) at $\\vec{\\theta}_0$. This will be different for each parameter $\\theta_j$, so let's call this value $\\delta_{0,j} = \\left. \\frac{\\partial f}{\\partial \\theta_j}\\right\\vert_{\\vec{\\theta}_0}$\n",
    "- update the guess for each parameter like this: $\\theta_{1,j} = \\theta_{0,j} - \\alpha \\delta_{0,j}$\n",
    "- repeat the previous two steps (evaluating the gradient at the current parameter values, then updating the parameter values) until you're satisfied (see \"convergence criteria\" below)\n",
    "\n",
    "$\\alpha$ is the **learning rate**, it tunes the size of the parameter update at each step.\n",
    "\n",
    "$$ \\theta_{i+1, j} = \\theta_{i, j} - \\alpha \\left. \\frac{\\partial f(\\vec\\theta)}{\\partial \\theta_j}\\right\\vert_{\\vec{\\theta_i}} $$\n",
    "\n",
    "* $ \\alpha $: Learning rate\n",
    "* $ i $: Iteration\n",
    "* $ j $: Feature"
   ]
  },
  {
   "cell_type": "markdown",
   "metadata": {
    "slideshow": {
     "slide_type": "slide"
    }
   },
   "source": [
    "# Pseudo code"
   ]
  },
  {
   "cell_type": "markdown",
   "metadata": {
    "slideshow": {
     "slide_type": "fragment"
    }
   },
   "source": [
    "```python\n",
    "new_params = dict((i,0) for i in range(k)) #Initialize parameters\n",
    "while not has_converged:\n",
    "    params = copy(new_params)\n",
    "    for theta in params:\n",
    "        new_params[theta] -= learning_rate * gradient(theta, params)\n",
    "```"
   ]
  },
  {
   "cell_type": "markdown",
   "metadata": {
    "slideshow": {
     "slide_type": "slide"
    }
   },
   "source": [
    "# Gradient Descent Convergence Criterion\n",
    "* Max number of iterations (\"stop after 10,000 steps\")\n",
    "* pick a threshold for the change in cost function: $ (cost_{old} - cost_{new})/cost_{old} < \\epsilon $\n",
    "* pick a threshold for the magnitude of the gradient"
   ]
  },
  {
   "cell_type": "markdown",
   "metadata": {
    "slideshow": {
     "slide_type": "slide"
    }
   },
   "source": [
    "# Demonstration: see plotting notebook"
   ]
  },
  {
   "cell_type": "markdown",
   "metadata": {
    "slideshow": {
     "slide_type": "slide"
    }
   },
   "source": [
    "# Caveats\n",
    "\n",
    "* Requires differentiable, convex function\n",
    "* Only finds global optimum on globally convex function\n",
    "* Converges linearly for strongly convex functions.\n",
    "* May not converge for weakly convex functions.\n",
    "* Requires feature scaling\n",
    "* Learning rate must be chosen (well)\n"
   ]
  },
  {
   "cell_type": "markdown",
   "metadata": {
    "slideshow": {
     "slide_type": "slide"
    }
   },
   "source": [
    "# Stochastic Gradient Descent"
   ]
  },
  {
   "cell_type": "markdown",
   "metadata": {
    "slideshow": {
     "slide_type": "fragment"
    }
   },
   "source": [
    "## Motivation\n",
    "Problems with Gradient Descent\n",
    "\n",
    "* Memory (data needs to fit)\n",
    "* Processor (cost function over all rows is expensive)\n",
    "* Online (making updates requires complete restart)\n"
   ]
  },
  {
   "cell_type": "markdown",
   "metadata": {
    "slideshow": {
     "slide_type": "slide"
    }
   },
   "source": [
    "## Intuition\n",
    "\n",
    "Remember the linear regression cost function:\n",
    "    \n",
    "$$ J(\\theta) = \\frac{1}{N}\\sum_{i=1}^N (y_i - h_\\theta(x_i))^2 $$\n",
    "\n",
    "The _expected cost_ of a single randomly chosen observation is the same!"
   ]
  },
  {
   "cell_type": "markdown",
   "metadata": {
    "slideshow": {
     "slide_type": "slide"
    }
   },
   "source": [
    "# SGD\n",
    "\n",
    "Use a cost function based on a single randomly chosen observation:\n",
    "\n",
    "$$ J(\\theta) = (y_i - h_\\theta(x_i))^2 $$"
   ]
  },
  {
   "cell_type": "markdown",
   "metadata": {
    "slideshow": {
     "slide_type": "slide"
    }
   },
   "source": [
    "# Why use SGD?\n",
    "\n",
    "* Big data\n",
    "* Converges faster on average the GD\n",
    "* Can work online"
   ]
  },
  {
   "cell_type": "markdown",
   "metadata": {
    "slideshow": {
     "slide_type": "slide"
    }
   },
   "source": [
    "# Other flavors\n",
    "\n",
    "* \"batch\" is sometimes used to refer to regular GD.\n",
    "* guess what minibatch is?\n",
    "* Online SGD: take a step every time you get a new observation\n",
    " * Optionally subset old observations"
   ]
  },
  {
   "cell_type": "markdown",
   "metadata": {
    "slideshow": {
     "slide_type": "slide"
    }
   },
   "source": [
    "# Newton-Raphson Method\n",
    "\n",
    "A fancy way of choosing our learning rate $\\alpha$ in GD."
   ]
  },
  {
   "cell_type": "markdown",
   "metadata": {
    "slideshow": {
     "slide_type": "fragment"
    }
   },
   "source": [
    "$$ \\theta_{i+1} = \\theta_i - \\frac{1}{J''(\\theta)}J'(\\theta) $$"
   ]
  },
  {
   "cell_type": "markdown",
   "metadata": {
    "slideshow": {
     "slide_type": "slide"
    }
   },
   "source": [
    "# Multivariate Newton-Raphson\n",
    "\n",
    "$$ \\theta_{i+1} = \\theta_{i} - [H(f(x)]^{-1}\\nabla f(x) $$\n",
    "\n",
    "What might prevent us from using this?"
   ]
  },
  {
   "cell_type": "markdown",
   "metadata": {
    "slideshow": {
     "slide_type": "fragment"
    }
   },
   "source": [
    "* Hessian has to be computed, and inverted.\n",
    "* Can diverge with a bad starting position."
   ]
  },
  {
   "cell_type": "markdown",
   "metadata": {
    "slideshow": {
     "slide_type": "slide"
    }
   },
   "source": [
    "# The universally best optimization method to always use"
   ]
  },
  {
   "cell_type": "code",
   "execution_count": 3,
   "metadata": {
    "slideshow": {
     "slide_type": "fragment"
    }
   },
   "outputs": [
    {
     "ename": "FileNotFoundError",
     "evalue": "[Errno 2] No such file or directory: 'the_universally_best_optimization_method_to_always_use.secret'",
     "output_type": "error",
     "traceback": [
      "\u001b[0;31m---------------------------------------------------------------------------\u001b[0m",
      "\u001b[0;31mFileNotFoundError\u001b[0m                         Traceback (most recent call last)",
      "\u001b[0;32m<ipython-input-3-8d7e4dfe266c>\u001b[0m in \u001b[0;36m<module>\u001b[0;34m()\u001b[0m\n\u001b[0;32m----> 1\u001b[0;31m \u001b[0;32mwith\u001b[0m \u001b[0mopen\u001b[0m\u001b[0;34m(\u001b[0m\u001b[0;34m'the_universally_best_optimization_method_to_always_use.secret'\u001b[0m\u001b[0;34m)\u001b[0m \u001b[0;32mas\u001b[0m \u001b[0mf\u001b[0m\u001b[0;34m:\u001b[0m\u001b[0;34m\u001b[0m\u001b[0m\n\u001b[0m\u001b[1;32m      2\u001b[0m     \u001b[0muse\u001b[0m\u001b[0;34m(\u001b[0m\u001b[0mf\u001b[0m\u001b[0;34m)\u001b[0m\u001b[0;34m\u001b[0m\u001b[0m\n",
      "\u001b[0;31mFileNotFoundError\u001b[0m: [Errno 2] No such file or directory: 'the_universally_best_optimization_method_to_always_use.secret'"
     ]
    }
   ],
   "source": [
    "with open('the_universally_best_optimization_method_to_always_use.secret') as f:\n",
    "    use(f)"
   ]
  },
  {
   "cell_type": "markdown",
   "metadata": {
    "collapsed": true,
    "slideshow": {
     "slide_type": "slide"
    }
   },
   "source": [
    "# Why should I care?\n",
    "\n",
    "Q: Will you ever invent a new cost function that you need to optimize directly?\n",
    "\n",
    "A: Not too often\n",
    "\n",
    "But, optimization underlies everything we do as data scientists, so understanding these concerns will help you use high-level tools. Knowing what optimization approach is used for different methods is a good signal of competence."
   ]
  },
  {
   "cell_type": "code",
   "execution_count": null,
   "metadata": {
    "scrolled": false,
    "slideshow": {
     "slide_type": "fragment"
    }
   },
   "outputs": [],
   "source": [
    "import sklearn.linear_model as lm\n",
    "help(lm.LogisticRegression)"
   ]
  }
 ],
 "metadata": {
  "anaconda-cloud": {},
  "kernelspec": {
   "display_name": "Python 3",
   "language": "python",
   "name": "python3"
  },
  "language_info": {
   "codemirror_mode": {
    "name": "ipython",
    "version": 3
   },
   "file_extension": ".py",
   "mimetype": "text/x-python",
   "name": "python",
   "nbconvert_exporter": "python",
   "pygments_lexer": "ipython3",
   "version": "3.6.2"
  }
 },
 "nbformat": 4,
 "nbformat_minor": 1
}
