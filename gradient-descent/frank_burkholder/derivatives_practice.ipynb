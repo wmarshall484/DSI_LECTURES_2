{
 "cells": [
  {
   "cell_type": "markdown",
   "metadata": {},
   "source": [
    "### Derivatives practice\n",
    "Though often we work with out-of-the-box algorithms, opportunities to make your own will present themselves.  \n",
    "Calculus and derivatives will help you do that."
   ]
  },
  {
   "cell_type": "markdown",
   "metadata": {},
   "source": [
    "#### Definition of a derivative  \n",
    "The derivative of f with respect to x is given by  \n",
    "\n",
    "$ f'(x) = \\lim_{h \\to 0} \\frac{f(x+h) - f(x)}{h}$    \n",
    "\n",
    "when this limit exits."
   ]
  },
  {
   "cell_type": "markdown",
   "metadata": {},
   "source": [
    "#### Basic derivative properties\n",
    "\n",
    "Assuming $c$ and $n$ to be real constants, then these theorems hold true:\n",
    "\n",
    "$ \\frac{d}{dx}c = 0 $  \n",
    "\n",
    "$ \\frac{d}{dx}x = 1 $\n",
    "\n",
    "$ \\frac{d}{dx}(c \\cdot f(x)) = c \\cdot \\frac{d}{dx}f(x) = c \\cdot f'(x) $  \n",
    "\n",
    "$ \\frac{d}{dx}(f(x) + g(x)) = f'(x) + g'(x) $  (true for minus as well)  \n",
    "\n",
    "$ \\frac{d}{dx}x^n = n \\cdot x^{n-1} $  the power rule    \n",
    "\n",
    "and if you want [proofs.](http://www2.bc.cc.ca.us/resperic/Math6A/Lectures/ch2/3/DerivativeRuleProofs.htm)"
   ]
  },
  {
   "cell_type": "markdown",
   "metadata": {},
   "source": [
    "#### Use these basic properties to answer the questions below.\n",
    "1)  $f(x) = 3x^2 + 3$  \n",
    "Find $f'(x)$"
   ]
  },
  {
   "cell_type": "markdown",
   "metadata": {},
   "source": [
    "$f'(x) = $"
   ]
  },
  {
   "cell_type": "markdown",
   "metadata": {},
   "source": [
    "<details><summary>\n",
    "Click here for the solution…\n",
    "</summary>\n",
    "$f'(x) = 6x$  \n",
    "</details>"
   ]
  },
  {
   "cell_type": "markdown",
   "metadata": {},
   "source": [
    "2)\n",
    "$f(y) = \\frac{1}{3}y^6 + 4y^4 - 2y + 1$  \n",
    "Find $f'(y)$"
   ]
  },
  {
   "cell_type": "markdown",
   "metadata": {},
   "source": [
    "$f'(y) = $"
   ]
  },
  {
   "cell_type": "markdown",
   "metadata": {},
   "source": [
    "<details><summary>\n",
    "Click here for the solution…\n",
    "</summary>\n",
    "$f'(y) = 2y^5 + 16y^3 -2$ \n",
    "</details>"
   ]
  },
  {
   "cell_type": "markdown",
   "metadata": {},
   "source": [
    "3) $f(x) = \\frac{2}{x^5}$  \n",
    "Find $f'(x)$"
   ]
  },
  {
   "cell_type": "markdown",
   "metadata": {},
   "source": [
    "$ f'(x) = $"
   ]
  },
  {
   "cell_type": "markdown",
   "metadata": {
    "collapsed": true
   },
   "source": [
    "<details><summary>\n",
    "Click here for the solution…\n",
    "</summary>\n",
    "$f(x) = 2x^{-5}$  \n",
    "$f'(x) = -10x^{-6} = \\frac{-10}{x^6}$\n",
    "</details>"
   ]
  },
  {
   "cell_type": "markdown",
   "metadata": {},
   "source": [
    "### More advanced rules\n",
    "\n",
    "#### The product rule\n",
    "If f(x) and g(x) are differentiable functions, then the derivative of the product $fg$ with respect to x is given by  \n",
    "\n",
    "$ (f \\cdot g)' = f'g + fg' $  \n",
    "\n",
    "#### The quotient rule\n",
    "If f(x) and g(x) are differentiable functions and g(x) is not equal to zero, then the derivative of the quotient $f/g$ with respect to x is given by  \n",
    "\n",
    "$ \\left( \\frac{f}{g} \\right)' = \\frac{gf' - fg'}{g^2} $  \n",
    "\n",
    "#### The chain rule\n",
    "If f(x) and g(x) are differentiable functions, then the derivative of the composition of g with f is \n",
    "\n",
    "$ \\frac{d}{dx}(g(f(x)) = g'(f(x)) \\cdot f'(x) $  \n",
    "\n",
    "where the notation $g'(f(x))$ means the function $g'(x)$ evaluated at $f(x)$."
   ]
  },
  {
   "cell_type": "markdown",
   "metadata": {
    "collapsed": true
   },
   "source": [
    "#### Use the basic and more advanced rules to answer the following questions."
   ]
  },
  {
   "cell_type": "markdown",
   "metadata": {},
   "source": [
    "4) $ h(x) = x^2 \\cdot e^x$  \n",
    "Find $h'(x)$  "
   ]
  },
  {
   "cell_type": "markdown",
   "metadata": {},
   "source": [
    "$ h'(x) = $"
   ]
  },
  {
   "cell_type": "markdown",
   "metadata": {},
   "source": [
    "<details><summary>\n",
    "Click here for the solution...\n",
    "</summary>\n",
    "$f(x) = x^2$  \n",
    "$f'(x) = 2x$  \n",
    "$g(x) = e^x$  \n",
    "$g'(x) = e^x$  \n",
    "$h'(x) = f'g + g'f$  \n",
    "$h'(x) = 2x \\cdot e^x + e^x \\cdot x^2$\n",
    "</details>"
   ]
  },
  {
   "cell_type": "markdown",
   "metadata": {},
   "source": [
    "5) $f(x) = \\frac{x^2}{x^3 + 1}$  \n",
    "Find $f'(x)$"
   ]
  },
  {
   "cell_type": "markdown",
   "metadata": {},
   "source": [
    "$ f'(x) = $"
   ]
  },
  {
   "cell_type": "markdown",
   "metadata": {},
   "source": [
    "<details><summary>\n",
    "Click here for the solution...\n",
    "</summary>\n",
    "$a(x) = x^2$  \n",
    "$a'(x) = 2x$  \n",
    "$b(x) = x^3 + 1$  \n",
    "$b'(x) = 3x^2$  \n",
    "$f'(x) = \\frac{ba' - ab'}{b^2}$   \n",
    "$f'(x) = \\frac{(x^3 + 1)\\cdot 2x - x^2 \\cdot 3x^2}{(x^3 + 1)^2}$\n",
    "</details>"
   ]
  },
  {
   "cell_type": "markdown",
   "metadata": {},
   "source": [
    "6) $h(x) = (2x^4 + 3x)^8$  \n",
    "Find $h'(x)$"
   ]
  },
  {
   "cell_type": "markdown",
   "metadata": {},
   "source": [
    "$h'(x) = $"
   ]
  },
  {
   "cell_type": "markdown",
   "metadata": {},
   "source": [
    "<details><summary>\n",
    "Click here for the solution...\n",
    "</summary>\n",
    "$g(x) = x^8$  \n",
    "$g'(x) = 8x^7$  \n",
    "$f(x) = 2x^4 + 3x$  \n",
    "$f'(x) = 8x^3 + 3$  \n",
    "$h'(x) = 8 \\cdot (f(x))^7 \\cdot f'(x)$  \n",
    "$h'(x) = 8 \\cdot (2x^4 + 3x)^7 \\cdot (8x^3 + 3)$\n",
    "</details>"
   ]
  },
  {
   "cell_type": "markdown",
   "metadata": {},
   "source": [
    "### Partial derivatives  \n",
    "Many times a function has more than one independent variable.  In the process of partial differentiation, the derivate is taken with respect to *one* of the variables, keeping the others constant.  \n",
    "For example:\n",
    "\n",
    "$f(x, t) = cos(x \\cdot t^2)$  \n",
    "Find $\\frac {\\partial f}{\\partial t}$   \n",
    "\n",
    "Even though $x$ is a variable, for this partial derivative it can be considered a constant.\n",
    "\n",
    "$g(x,t) = x \\cdot t^2$  \n",
    "$\\frac {\\partial}{\\partial t}g(x,t) = g'(t) = 2xt$  \n",
    "\n",
    "$\\frac {\\partial}{\\partial t} cos(g(t)) = -sin(g(t)) \\cdot g'(t) = -sin(x \\cdot t^2) \\cdot 2xt$  "
   ]
  },
  {
   "cell_type": "markdown",
   "metadata": {},
   "source": [
    "#### Find the following partial derivative"
   ]
  },
  {
   "cell_type": "markdown",
   "metadata": {},
   "source": [
    "7) $g(x,t) = \\frac {t^2 + x^2 + 1}{t + 1}$  \n",
    "Find $\\frac {\\partial g}{\\partial x}$  "
   ]
  },
  {
   "cell_type": "markdown",
   "metadata": {},
   "source": [
    "$\\frac {\\partial g}{\\partial x} = $"
   ]
  },
  {
   "cell_type": "markdown",
   "metadata": {},
   "source": [
    "<details><summary>\n",
    "Click here for the solution\n",
    "</summary>\n",
    "Finding with respect $x$ so all values of $t$ are constant.\n",
    "$A = t^2 + 1$  \n",
    "$B = t + 1$  \n",
    "$g(x, t) = \\frac{A + x^2}{B}$  \n",
    "$g(x, t) = \\frac{A}{B} + \\frac{x^2}{B}$  \n",
    "$\\frac{\\partial g}{\\partial x} = \\frac{2x}{B}$   \n",
    "$\\frac{\\partial g}{\\partial x} = \\frac{2x}{t + 1}$\n",
    "</details>"
   ]
  }
 ],
 "metadata": {
  "kernelspec": {
   "display_name": "Python 3",
   "language": "python",
   "name": "python3"
  },
  "language_info": {
   "codemirror_mode": {
    "name": "ipython",
    "version": 3
   },
   "file_extension": ".py",
   "mimetype": "text/x-python",
   "name": "python",
   "nbconvert_exporter": "python",
   "pygments_lexer": "ipython3",
   "version": "3.7.3"
  }
 },
 "nbformat": 4,
 "nbformat_minor": 2
}
