{
 "cells": [
  {
   "cell_type": "markdown",
   "metadata": {
    "slideshow": {
     "slide_type": "slide"
    }
   },
   "source": [
    "# Optimization Methods\n",
    "## Gradient Descent\n"
   ]
  },
  {
   "cell_type": "markdown",
   "metadata": {
    "slideshow": {
     "slide_type": "slide"
    }
   },
   "source": [
    "# Motivation\n",
    "\n",
    "Generally: find the minimum or maximum of a function.\n",
    "\n",
    "## Example 1:\n",
    "\n",
    "Find the parameters of a model which maximize the likelihood of data.\n",
    "\n",
    "## Example 2:\n",
    "\n",
    "Find the parameters of a model which minimize a cost function."
   ]
  },
  {
   "cell_type": "markdown",
   "metadata": {
    "slideshow": {
     "slide_type": "slide"
    }
   },
   "source": [
    "# What can we optimize?"
   ]
  },
  {
   "cell_type": "code",
   "execution_count": 36,
   "metadata": {
    "collapsed": false,
    "slideshow": {
     "slide_type": "fragment"
    }
   },
   "outputs": [
    {
     "name": "stdout",
     "output_type": "stream",
     "text": [
      "Populating the interactive namespace from numpy and matplotlib\n"
     ]
    },
    {
     "data": {
      "text/plain": [
       "[<matplotlib.lines.Line2D at 0x10c1b2cd0>]"
      ]
     },
     "execution_count": 36,
     "metadata": {},
     "output_type": "execute_result"
    },
    {
     "data": {
      "image/png": "[encoded data removed]",
      "text/plain": [
       "<matplotlib.figure.Figure at 0x10e10d350>"
      ]
     },
     "metadata": {},
     "output_type": "display_data"
    }
   ],
   "source": [
    "import matplotlib.pyplot as plt\n",
    "import numpy as np\n",
    "%pylab inline\n",
    "x = np.arange(-5,5, .001)\n",
    "fig, subps = plt.subplots(1,3)\n",
    "fig.set_size_inches(12,6)\n",
    "subps[0].plot(x, -(x**2))\n",
    "subps[1].plot(x, x**3)\n",
    "x2 = np.arange(.1,5,.001)\n",
    "subps[2].plot(x2, 1/x2)"
   ]
  },
  {
   "cell_type": "markdown",
   "metadata": {
    "slideshow": {
     "slide_type": "slide"
    }
   },
   "source": [
    "# Cost functions\n",
    "\n",
    "## Linear Regression\n",
    "\n",
    "$$ J(\\theta) = \\frac{1}{N}\\sum_{i=1}^N (y_i - h_\\theta(x_i))^2 $$\n",
    "\n",
    "## Logistic Regression\n",
    "\n",
    "$$ \\ln p(\\vec{y})|X;\\theta) = \\sum_{i=1}^N (y_i \\ln h_\\theta (x_i) + (1- y_i)(1-\\ln (h_\\theta (x_i))) $$\n",
    "Which comes from the binomial.\n",
    "\n"
   ]
  },
  {
   "cell_type": "markdown",
   "metadata": {
    "slideshow": {
     "slide_type": "slide"
    }
   },
   "source": [
    "# Finding an optimium\n",
    "\n",
    "## Calculus\n",
    "\n",
    "?\n",
    "\n",
    "## Find where the derivative is 0, numerically rather than analytically"
   ]
  },
  {
   "cell_type": "markdown",
   "metadata": {
    "slideshow": {
     "slide_type": "slide"
    }
   },
   "source": [
    "# The Gradient\n",
    "* The gradient is the multivariate analogue of the derivative.\n",
    "* Geometrically the gradient is the direction of steepest descent.\n",
    "\n",
    "$$ \\nabla f = \\sum_{i=1}^P\\frac{\\partial f}{\\partial x_i} e_i$$\n",
    "\n",
    "How can we use the direction of steepest descent to find the minimum of our function?\n",
    "\n",
    "How about the maximum?"
   ]
  },
  {
   "cell_type": "markdown",
   "metadata": {
    "slideshow": {
     "slide_type": "slide"
    }
   },
   "source": [
    "# Gradient Descent Algorithm\n",
    "\n",
    "Follow the direction of steepest descent until convergence.\n",
    "\n",
    "But the gradient gives us the _direction_ of steepest descent, is this sufficient?"
   ]
  },
  {
   "cell_type": "markdown",
   "metadata": {
    "slideshow": {
     "slide_type": "slide"
    }
   },
   "source": [
    "# Gradient Descent Algorithm\n",
    "\n",
    "$$ \\theta_{i+1, j} = \\theta_{i, j} + \\alpha \\frac{\\partial J((\\vec\\theta_i))}{\\partial \\theta_{i, j}} $$\n",
    "\n",
    "* $ \\alpha $: Learning rate\n",
    "* $ i $: Iteration\n",
    "* $ j $: Feature"
   ]
  },
  {
   "cell_type": "markdown",
   "metadata": {
    "slideshow": {
     "slide_type": "slide"
    }
   },
   "source": [
    "# Pseudo code"
   ]
  },
  {
   "cell_type": "code",
   "execution_count": null,
   "metadata": {
    "collapsed": false,
    "slideshow": {
     "slide_type": "fragment"
    }
   },
   "outputs": [],
   "source": [
    "#Pseudo code, raises errors.\n",
    "new_params = dict((i,0) for i in range(k)) #Initialize parameters\n",
    "while not has_converged:\n",
    "    params = copy(new_params)\n",
    "    for theta in params:\n",
    "        new_params[theta] -= learning_rate * gradient(theta, params)"
   ]
  },
  {
   "cell_type": "markdown",
   "metadata": {
    "slideshow": {
     "slide_type": "slide"
    }
   },
   "source": [
    "# Gradient Descent Convergence Criterion\n",
    "* Max number of iterations\n",
    "* Change in cost function $ (cost_{old} - cost_{new})/cost_{old} < \\epsilon $\n",
    "* Magnitude of gradient\n"
   ]
  },
  {
   "cell_type": "markdown",
   "metadata": {
    "slideshow": {
     "slide_type": "slide"
    }
   },
   "source": [
    "# Demonstration: see live notebook"
   ]
  },
  {
   "cell_type": "markdown",
   "metadata": {
    "slideshow": {
     "slide_type": "slide"
    }
   },
   "source": [
    "# Caveats\n",
    "\n",
    "* Requires differentiable, convex function\n",
    "* Only finds global optimum on globally convex function\n",
    "* Convergence is asymptotic\n",
    "* Requires feature scaling\n",
    "* Learning rate must be chosen (well)\n"
   ]
  },
  {
   "cell_type": "code",
   "execution_count": null,
   "metadata": {
    "collapsed": true,
    "slideshow": {
     "slide_type": "slide"
    }
   },
   "outputs": [],
   "source": []
  },
  {
   "cell_type": "markdown",
   "metadata": {
    "slideshow": {
     "slide_type": "slide"
    }
   },
   "source": [
    "# Stochastic Gradient Descent"
   ]
  },
  {
   "cell_type": "markdown",
   "metadata": {
    "slideshow": {
     "slide_type": "fragment"
    }
   },
   "source": [
    "## Motivation\n",
    "Problems with Gradient Descent\n",
    "\n",
    "* Memory (data needs to fit)\n",
    "* Processor (cost function over all rows is expensive)\n",
    "* Online (making updates requires complete restart)\n"
   ]
  },
  {
   "cell_type": "markdown",
   "metadata": {
    "slideshow": {
     "slide_type": "slide"
    }
   },
   "source": [
    "## Intuition\n",
    "\n",
    "Remember the linear regression cost function:\n",
    "    \n",
    "?\n",
    "\n",
    "The expected cost of a single randomly chosen observation is the same!"
   ]
  },
  {
   "cell_type": "markdown",
   "metadata": {
    "slideshow": {
     "slide_type": "slide"
    }
   },
   "source": [
    "# SGD\n",
    "\n",
    "Use a cost function based on a single randomly chosen observation:\n",
    "\n",
    "$$ J(\\theta) = (h_\\theta(x_i) - y_i)^2 $$"
   ]
  },
  {
   "cell_type": "markdown",
   "metadata": {
    "slideshow": {
     "slide_type": "slide"
    }
   },
   "source": [
    "# Why use SGD?\n",
    "\n",
    "* Big data\n",
    "* Converges faster on average the GD\n",
    "* Can work online"
   ]
  },
  {
   "cell_type": "markdown",
   "metadata": {
    "slideshow": {
     "slide_type": "slide"
    }
   },
   "source": [
    "# Other flavors\n",
    "\n",
    "* \"batch\" is sometimes used to refer to regular GD.\n",
    "* guess what minibatch is?\n",
    "* Online SGD: take a step every time you get a new observation\n",
    " * Optionally sunset old observations"
   ]
  },
  {
   "cell_type": "markdown",
   "metadata": {
    "slideshow": {
     "slide_type": "slide"
    }
   },
   "source": [
    "# Newton-Raphson Method\n",
    "\n",
    "A fancy way of choosing our learning rate $\\alpha$ in GD."
   ]
  },
  {
   "cell_type": "markdown",
   "metadata": {
    "slideshow": {
     "slide_type": "fragment"
    }
   },
   "source": [
    "$$ \\theta_{i+1} = \\theta_i - \\frac{1}{J''(\\theta)}J'(\\theta) $$"
   ]
  },
  {
   "cell_type": "markdown",
   "metadata": {
    "slideshow": {
     "slide_type": "slide"
    }
   },
   "source": [
    "# Multivariate Newton-Raphson\n",
    "\n",
    "$$ \\theta_{i+1} = \\theta_{i} - [H(f(x)]^{-1}\\nabla f(x) $$\n",
    "\n",
    "What might prevent us from using this?"
   ]
  },
  {
   "cell_type": "markdown",
   "metadata": {
    "slideshow": {
     "slide_type": "fragment"
    }
   },
   "source": [
    "* Hessian has to be computed, and inverted.\n",
    "* Can diverge with a bad starting position."
   ]
  },
  {
   "cell_type": "markdown",
   "metadata": {
    "slideshow": {
     "slide_type": "slide"
    }
   },
   "source": [
    "# The universally best optimization method to always use"
   ]
  },
  {
   "cell_type": "code",
   "execution_count": 44,
   "metadata": {
    "collapsed": false,
    "slideshow": {
     "slide_type": "fragment"
    }
   },
   "outputs": [
    {
     "ename": "IOError",
     "evalue": "[Errno 2] No such file or directory: 'the_universally_best_optimization_method_to_always_use.secret'",
     "output_type": "error",
     "traceback": [
      "\u001b[0;31m---------------------------------------------------------------------------\u001b[0m",
      "\u001b[0;31mIOError\u001b[0m                                   Traceback (most recent call last)",
      "\u001b[0;32m<ipython-input-44-90975faa8030>\u001b[0m in \u001b[0;36m<module>\u001b[0;34m()\u001b[0m\n\u001b[0;32m----> 1\u001b[0;31m \u001b[0;32mwith\u001b[0m \u001b[0mopen\u001b[0m\u001b[0;34m(\u001b[0m\u001b[0;34m'the_universally_best_optimization_method_to_always_use.secret'\u001b[0m\u001b[0;34m)\u001b[0m \u001b[0;32mas\u001b[0m \u001b[0mf\u001b[0m\u001b[0;34m:\u001b[0m\u001b[0;34m\u001b[0m\u001b[0m\n\u001b[0m\u001b[1;32m      2\u001b[0m     \u001b[0muse\u001b[0m\u001b[0;34m(\u001b[0m\u001b[0mf\u001b[0m\u001b[0;34m)\u001b[0m\u001b[0;34m\u001b[0m\u001b[0m\n",
      "\u001b[0;31mIOError\u001b[0m: [Errno 2] No such file or directory: 'the_universally_best_optimization_method_to_always_use.secret'"
     ]
    }
   ],
   "source": [
    "with open('the_universally_best_optimization_method_to_always_use.secret') as f:\n",
    "    use(f)"
   ]
  },
  {
   "cell_type": "code",
   "execution_count": null,
   "metadata": {
    "collapsed": true
   },
   "outputs": [],
   "source": []
  }
 ],
 "metadata": {
  "celltoolbar": "Slideshow",
  "kernelspec": {
   "display_name": "Python 2",
   "language": "python",
   "name": "python2"
  },
  "language_info": {
   "codemirror_mode": {
    "name": "ipython",
    "version": 2
   },
   "file_extension": ".py",
   "mimetype": "text/x-python",
   "name": "python",
   "nbconvert_exporter": "python",
   "pygments_lexer": "ipython2",
   "version": "2.7.11"
  }
 },
 "nbformat": 4,
 "nbformat_minor": 0
}
