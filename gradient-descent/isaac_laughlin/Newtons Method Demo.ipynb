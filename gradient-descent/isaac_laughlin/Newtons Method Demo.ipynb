{
 "cells": [
  {
   "cell_type": "code",
   "execution_count": 3,
   "metadata": {
    "collapsed": false
   },
   "outputs": [
    {
     "name": "stdout",
     "output_type": "stream",
     "text": [
      "newtons method took 8 iterations\n",
      "gradient descent took 337 iterations\n"
     ]
    }
   ],
   "source": [
    "import numpy as np\n",
    "import plotly.plotly as py\n",
    "from plotly.graph_objs import *\n",
    "py.sign_in('isaac.laughlin', 'yn5wgki3in')\n",
    "\n",
    "def newtons_method(f_prime, f_double_prime, initial_guess,\n",
    "                   threshold, max_iter):\n",
    "    x = float(initial_guess)\n",
    "    iterations = 0\n",
    "    x_history = [x]\n",
    "    while f_prime(x) > threshold and iterations < max_iter:\n",
    "        x = x - f_prime(x)/f_double_prime(x)\n",
    "        x_history.append(x)\n",
    "        iterations += 1\n",
    "    print 'newtons method took %s iterations'%iterations\n",
    "    return x_history\n",
    "\n",
    "def gradient_descent(f, f_prime, initial_guess, threshold, \n",
    "                     max_iter, learning_rate):\n",
    "    x = float(initial_guess)\n",
    "    iterations = 0\n",
    "    x_history = [x]\n",
    "    while f_prime(x) > threshold and iterations < max_iter:\n",
    "        x = x - learning_rate*f_prime(x)\n",
    "        x_history.append(x)\n",
    "        iterations += 1\n",
    "    print 'gradient descent took %s iterations'%iterations\n",
    "    return x_history\n",
    "\n",
    "def f(x): return x**4+x**2+10\n",
    "def f_prime(x): return 4*x**2 + 2*x\n",
    "def f_double_prime(x): return 8*x + 2\n",
    "\n",
    "initial_guess = 10\n",
    "threshold = .001\n",
    "max_iter = 1000\n",
    "learning_rate = .01\n",
    "\n",
    "newton_x_history = newtons_method(f_prime, \n",
    "                                   f_double_prime,\n",
    "                                   initial_guess, \n",
    "                                   threshold,\n",
    "                                   max_iter)\n",
    "gradient_descent_x_history = gradient_descent(f, f_prime,\n",
    "                                              initial_guess,\n",
    "                                              threshold, \n",
    "                                              max_iter, \n",
    "                                              learning_rate)\n"
   ]
  },
  {
   "cell_type": "code",
   "execution_count": 4,
   "metadata": {
    "collapsed": false
   },
   "outputs": [
    {
     "data": {
      "text/html": [
       "<iframe id=\"igraph\" scrolling=\"no\" style=\"border:none;\"seamless=\"seamless\" src=\"https://plot.ly/~isaac.laughlin/25.embed\" height=\"525px\" width=\"100%\"></iframe>"
      ],
      "text/plain": [
       "<plotly.tools.PlotlyDisplay object>"
      ]
     },
     "execution_count": 4,
     "metadata": {},
     "output_type": "execute_result"
    }
   ],
   "source": [
    "x_axis_values = np.linspace(-11, 11, 1000)\n",
    "cost_plot = Scatter(\n",
    "    x = x_axis_values,\n",
    "    y = [f(x) for x in x_axis_values],\n",
    "    name='Cost Function'\n",
    ")\n",
    "newton_plot = Scatter(\n",
    "    x = newton_x_history,\n",
    "    y = [f(x) for x in newton_x_history],\n",
    "    name='Newton',\n",
    "    mode = 'markers'\n",
    ")\n",
    "data = Data([cost_plot, newton_plot])\n",
    "figure = Figure(data=data)\n",
    "py.iplot(figure)"
   ]
  },
  {
   "cell_type": "code",
   "execution_count": 5,
   "metadata": {
    "collapsed": false
   },
   "outputs": [
    {
     "data": {
      "text/html": [
       "<iframe id=\"igraph\" scrolling=\"no\" style=\"border:none;\"seamless=\"seamless\" src=\"https://plot.ly/~isaac.laughlin/27.embed\" height=\"525px\" width=\"100%\"></iframe>"
      ],
      "text/plain": [
       "<plotly.tools.PlotlyDisplay object>"
      ]
     },
     "execution_count": 5,
     "metadata": {},
     "output_type": "execute_result"
    }
   ],
   "source": [
    "x_axis_values = np.linspace(-10, 10, 1000)\n",
    "cost_plot = Scatter(\n",
    "    x = x_axis_values,\n",
    "    y = [f(x) for x in x_axis_values],\n",
    "    name='Cost Function'\n",
    ")\n",
    "gd_plot = Scatter(\n",
    "    x = gradient_descent_x_history,\n",
    "    y = [f(x) for x in gradient_descent_x_history],\n",
    "    name = 'Gradient Descent',\n",
    "    mode = 'markers'\n",
    ")\n",
    "data = Data([cost_plot, gd_plot])\n",
    "figure = Figure(data=data)\n",
    "py.iplot(figure)"
   ]
  },
  {
   "cell_type": "code",
   "execution_count": null,
   "metadata": {
    "collapsed": true
   },
   "outputs": [],
   "source": []
  }
 ],
 "metadata": {
  "kernelspec": {
   "display_name": "Python 2",
   "language": "python",
   "name": "python2"
  },
  "language_info": {
   "codemirror_mode": {
    "name": "ipython",
    "version": 2
   },
   "file_extension": ".py",
   "mimetype": "text/x-python",
   "name": "python",
   "nbconvert_exporter": "python",
   "pygments_lexer": "ipython2",
   "version": "2.7.11"
  }
 },
 "nbformat": 4,
 "nbformat_minor": 0
}
