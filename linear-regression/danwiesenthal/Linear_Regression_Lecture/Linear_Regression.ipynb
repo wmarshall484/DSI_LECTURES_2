{
 "cells": [
  {
   "cell_type": "markdown",
   "metadata": {
    "nbpresent": {
     "id": "52ce26f3-3de8-41ac-83bb-971e2325e85c"
    },
    "slideshow": {
     "slide_type": "slide"
    }
   },
   "source": [
    "# Linear Regression\n",
    "\n",
    "## Fittin' Lines to Data\n",
    "#### Dan Wiesenthal"
   ]
  },
  {
   "cell_type": "markdown",
   "metadata": {
    "nbpresent": {
     "id": "f46f2d18-c938-48fc-b93d-2a99b2ba9e0e"
    },
    "slideshow": {
     "slide_type": "slide"
    }
   },
   "source": [
    "# Objectives - Morning\n",
    "\n",
    "- Linear regression overview\n",
    "    - Fitting a line\n",
    "    - Linear relationshiops, Exact vs Inexact\n",
    "    - Where do we put the line? What is our error metric?\n",
    "- Expressing our model\n",
    "    - $y = Mx + b$\n",
    "    - $Y = \\beta_0 + \\beta_1 X + \\epsilon$\n",
    "    - Matrix representation\n",
    "- How good is our model?\n",
    "    - $RSS$\n",
    "    - $RSE$ aka $RMSE$\n",
    "    - $R^2$  \n",
    "        - Fraction of variance explained, or, $1 - FUV$\n",
    "- Compare models (against null)\n",
    "    - Are all my coefficients not zero?\n",
    "    - Are some new coefficients not zero?\n",
    "- Interpreting model output\n",
    "    - Interpret coefficients from statsmodels\n",
    "- Assumptions of Linear Regression\n",
    "    - Linearity\n",
    "    - Constant Variance (Homoscedasticity)\n",
    "    - Independence of Errors\n",
    "    - Normality of Errors\n",
    "    - Lack of Multicollinearity\n",
    "- Outliers\n",
    "    - Types of outliers\n",
    "    - Detecting outliers\n",
    "        - Leverage (change in prediction over change in actual)\n",
    "        - Studentized Residuals\n",
    "    - Residual plots\n",
    "- Multicollinearity\n",
    "    - Perfect\n",
    "    - Partial\n",
    "- QQ Plots\n",
    "    - (Video, ragequit)"
   ]
  },
  {
   "cell_type": "markdown",
   "metadata": {
    "slideshow": {
     "slide_type": "slide"
    }
   },
   "source": [
    "# Linear Regression Overview\n",
    "### Fitting a line\n",
    "### Linear relationships, Exact vs Inexact\n",
    "### Where do we put the line?  What is our error metric?"
   ]
  },
  {
   "cell_type": "markdown",
   "metadata": {
    "slideshow": {
     "slide_type": "slide"
    }
   },
   "source": [
    "# Linear Regression Overview\n",
    "### Linear relationships, Exact vs Inexact\n",
    "<img src=\"images/exact_inexact.png\"></img>"
   ]
  },
  {
   "cell_type": "markdown",
   "metadata": {
    "slideshow": {
     "slide_type": "slide"
    }
   },
   "source": [
    "# Linear Regression Overview\n",
    "### Where do we put the line? What is our error metric?\n",
    "<img src=\"images/line_placement.png\"></img>\n",
    "- Notes on image:\n",
    "    - There are many lines possible\n",
    "    - We don't want to minimize the absolute error, since that could tell us that we have 0 error when we clearly don't have 0 error (upper right)\n",
    "    - We'll minimize squared error"
   ]
  },
  {
   "cell_type": "markdown",
   "metadata": {
    "slideshow": {
     "slide_type": "slide"
    }
   },
   "source": [
    "# Expressing our model\n",
    "## Simple (Bivariate) Linear Regression\n",
    "\n",
    "- The World\n",
    "    - what you're presuming the world looks like:\n",
    "    $$Y = \\beta_0 + \\beta_1X + \\epsilon$$\n",
    "\n",
    "\n",
    "- $\\beta_0$ and $\\beta_1$ are unknown constants that represent the intercept and slope\n",
    "- $\\epsilon$, the error term, is i.i.d $N(0, \\sigma^2)$\n",
    "_______\n",
    "- The Model\n",
    "    - what you've created from data to estimate the world:\n",
    "    $$\\hat{y} = \\hat{\\beta_0} + \\hat{\\beta_1}x$$\n",
    "- $\\hat{\\beta_0}$ and $\\hat{\\beta_1}$ are model coefficient estimates\n",
    "- $\\hat{y}$ indicates the prediction of $Y$ based on $X=x$\n"
   ]
  },
  {
   "cell_type": "markdown",
   "metadata": {
    "slideshow": {
     "slide_type": "subslide"
    }
   },
   "source": [
    "# Expressing our model\n",
    "## Multiple Linear Regression\n",
    "- Model in matrix form\n",
    "<img src=\"images/matrix_form.png\"></img>\n",
    "- Design Matrix $X$\n",
    "<img src=\"images/design_matrix.png\"></img>\n",
    "- Coefficient Matrix $\\beta$\n",
    "<img src=\"images/coefficient_matrix.png\"></img>"
   ]
  },
  {
   "cell_type": "markdown",
   "metadata": {
    "slideshow": {
     "slide_type": "subslide"
    }
   },
   "source": [
    "# How good is our model?\n",
    "### RSS\n",
    "$RSS = SSE = \\sum_{i=1}^{n}{(y_i - \\hat{y_i})^2}$\n",
    "- How far off were we? In, um, raw units (squared).\n",
    " \n",
    "### RSE (aka  RMSE)\n",
    "$RSE = RMSE = \\sqrt{\\frac{RSS}{n - p - 1}} = \\sqrt{\\frac{\\sum_{i=1}^{n}{(y_i - \\hat{y_i})^2}}{n - p - 1}}$\n",
    "- How far off were we? For, y'know, a typical point. On average. (Controlling for degrees of freedom lost.)\n",
    "- Similarly, we have the standard error (biased or not depending on dof), $\\frac{\\sum_{i=1}^{n}{(y_i - \\hat{y_i})^2}}{n - p - 1}$\n",
    " \n",
    "### R^2\n",
    "$1 - FUV = 1 - \\frac{Deviation_u}{Deviation_t}$\n",
    "- Total deviation, $Deviation_t$: $(y_1 - \\bar{y})$\n",
    "- Explained deviation, $Deviation_e$: $(\\hat{y_1} - \\bar{y})$\n",
    "- Unexplained deviation, $Deviation_u$: $(y_1 - \\hat{y_1})$\n",
    "\n",
    "<img src=\"images/tight_loose_fit.png\"></img>\n",
    "<img src=\"images/rss.png\"></img>\n",
    "<img src=\"images/r_squared_examples.png\"></img>\n",
    "- Notes on images:\n",
    "    - We can have two lines with the same slope and intercept, each of which is the best fit line, and they can still be differently \"good\" fits if the data is spread out\n",
    "    - If we didn't have a model, we would just predict the mean, so that's what we compare ourselves against to see how good our model is\n",
    "    - We could have data that clearly has a signal but a low $R^2$ if we aren't properly modeling it; low $R^2$ isn't necessarily grounds for concluding there's no signal"
   ]
  },
  {
   "cell_type": "markdown",
   "metadata": {
    "slideshow": {
     "slide_type": "slide"
    }
   },
   "source": [
    "# Comparing Models\n",
    "### Did I add a useful feature?\n",
    "1) Set up hypotheses, comparison\n",
    "\n",
    "$H_0: \\beta_{height} = \\beta_{color} = 0$\n",
    "\n",
    "$H_A:$ at least one of $\\beta_{height}$ or $\\beta_{color}$ is nonzero\n",
    "\n",
    "\n",
    "\n",
    "Reduced Model: $$Y = \\beta_0 + \\beta_{weight} + \\beta_{modelyear} + \\beta_{cartype}$$\n",
    "\n",
    "Full Model: $$Y = \\beta_0 + \\beta_{weight} + \\beta_{modelyear} + \\beta_{cartype} + \\beta_{height} + \\beta_{color}$$\n",
    "\n",
    "(X's omitted for clarity)\n",
    "\n",
    "2) Compute F-statistic\n",
    "$$F = \\frac{\\frac{(RSS_{reduced} - RSS_{full})}{(p_{full} - p_{reduced})}}{\\frac{RSS_{full}}{(n - p_{full} -1)}}$$\n",
    "\n",
    "3) Compute p-value\n",
    "\n",
    "p_val = 1 - scipy.stats.f.cdf(calculated_F, p_full - p_reduced, n - p_full - 1)\n",
    "\n",
    "______\n",
    "### Are any of my features useful?\n",
    "1) Set up hypotheses\n",
    "$H_0: \\beta_1 = \\beta_2 = \\beta_3 = ... = \\beta_p = 0$\n",
    "\n",
    "$H_A:$ at least one $\\beta_j$ is nonzero\n",
    "\n",
    "2) $F = \\frac{\\frac{TSS - RSS}{p}}{\\frac{RSS}{n - p - 1}}$ ~ $F_{p, n - p - 1}$\n",
    "\n",
    "_______\n",
    "<img src=\"images/significance_testing.png\"></img>\n",
    "\n"
   ]
  },
  {
   "cell_type": "markdown",
   "metadata": {
    "slideshow": {
     "slide_type": "subslide"
    }
   },
   "source": [
    "# Interpreting Model Output\n",
    "\n",
    "### Interpreting coefficients from statsmodels\n"
   ]
  },
  {
   "cell_type": "code",
   "execution_count": 1,
   "metadata": {},
   "outputs": [
    {
     "name": "stderr",
     "output_type": "stream",
     "text": [
      "/Users/dan/.virtualenvs/linear_regression_lecture/lib/python2.7/site-packages/statsmodels/compat/pandas.py:56: FutureWarning: The pandas.core.datetools module is deprecated and will be removed in a future version. Please use the pandas.tseries module instead.\n",
      "  from pandas.core import datetools\n"
     ]
    }
   ],
   "source": [
    "import numpy as np\n",
    "import random\n",
    "import pandas as pd\n",
    "import statsmodels.api as sm\n",
    "import statsmodels.formula.api as smf\n",
    "from statsmodels.graphics.regressionplots import influence_plot\n",
    "import matplotlib.pyplot as plt\n",
    "%matplotlib inline"
   ]
  },
  {
   "cell_type": "code",
   "execution_count": 7,
   "metadata": {
    "scrolled": true
   },
   "outputs": [
    {
     "data": {
      "text/html": [
       "<div>\n",
       "<style>\n",
       "    .dataframe thead tr:only-child th {\n",
       "        text-align: right;\n",
       "    }\n",
       "\n",
       "    .dataframe thead th {\n",
       "        text-align: left;\n",
       "    }\n",
       "\n",
       "    .dataframe tbody tr th {\n",
       "        vertical-align: top;\n",
       "    }\n",
       "</style>\n",
       "<table border=\"1\" class=\"dataframe\">\n",
       "  <thead>\n",
       "    <tr style=\"text-align: right;\">\n",
       "      <th></th>\n",
       "      <th>GNP.deflator</th>\n",
       "      <th>GNP</th>\n",
       "      <th>Unemployed</th>\n",
       "      <th>Armed.Forces</th>\n",
       "      <th>Population</th>\n",
       "      <th>Year</th>\n",
       "      <th>Employed</th>\n",
       "    </tr>\n",
       "  </thead>\n",
       "  <tbody>\n",
       "    <tr>\n",
       "      <th>1947</th>\n",
       "      <td>83.0</td>\n",
       "      <td>234.289</td>\n",
       "      <td>235.6</td>\n",
       "      <td>159.0</td>\n",
       "      <td>107.608</td>\n",
       "      <td>1947</td>\n",
       "      <td>60.323</td>\n",
       "    </tr>\n",
       "    <tr>\n",
       "      <th>1948</th>\n",
       "      <td>88.5</td>\n",
       "      <td>259.426</td>\n",
       "      <td>232.5</td>\n",
       "      <td>145.6</td>\n",
       "      <td>108.632</td>\n",
       "      <td>1948</td>\n",
       "      <td>61.122</td>\n",
       "    </tr>\n",
       "    <tr>\n",
       "      <th>1949</th>\n",
       "      <td>88.2</td>\n",
       "      <td>258.054</td>\n",
       "      <td>368.2</td>\n",
       "      <td>161.6</td>\n",
       "      <td>109.773</td>\n",
       "      <td>1949</td>\n",
       "      <td>60.171</td>\n",
       "    </tr>\n",
       "    <tr>\n",
       "      <th>1950</th>\n",
       "      <td>89.5</td>\n",
       "      <td>284.599</td>\n",
       "      <td>335.1</td>\n",
       "      <td>165.0</td>\n",
       "      <td>110.929</td>\n",
       "      <td>1950</td>\n",
       "      <td>61.187</td>\n",
       "    </tr>\n",
       "    <tr>\n",
       "      <th>1951</th>\n",
       "      <td>96.2</td>\n",
       "      <td>328.975</td>\n",
       "      <td>209.9</td>\n",
       "      <td>309.9</td>\n",
       "      <td>112.075</td>\n",
       "      <td>1951</td>\n",
       "      <td>63.221</td>\n",
       "    </tr>\n",
       "  </tbody>\n",
       "</table>\n",
       "</div>"
      ],
      "text/plain": [
       "      GNP.deflator      GNP  Unemployed  Armed.Forces  Population  Year  \\\n",
       "1947          83.0  234.289       235.6         159.0     107.608  1947   \n",
       "1948          88.5  259.426       232.5         145.6     108.632  1948   \n",
       "1949          88.2  258.054       368.2         161.6     109.773  1949   \n",
       "1950          89.5  284.599       335.1         165.0     110.929  1950   \n",
       "1951          96.2  328.975       209.9         309.9     112.075  1951   \n",
       "\n",
       "      Employed  \n",
       "1947    60.323  \n",
       "1948    61.122  \n",
       "1949    60.171  \n",
       "1950    61.187  \n",
       "1951    63.221  "
      ]
     },
     "execution_count": 7,
     "metadata": {},
     "output_type": "execute_result"
    }
   ],
   "source": [
    "df_gnp = pd.read_csv('http://vincentarelbundock.github.io/Rdatasets/csv/datasets/longley.csv', index_col=0)\n",
    "df_gnp.head()"
   ]
  },
  {
   "cell_type": "code",
   "execution_count": 3,
   "metadata": {
    "collapsed": true
   },
   "outputs": [],
   "source": [
    "X = df_gnp.GNP  # Set up our design matrix, X\n",
    "X = sm.add_constant(X)  # We need to manually add a constant, aka intercept, when working with statsmodels\n",
    "y = df_gnp.Employed # Set up our target, y"
   ]
  },
  {
   "cell_type": "code",
   "execution_count": 8,
   "metadata": {
    "scrolled": false
   },
   "outputs": [
    {
     "data": {
      "text/html": [
       "<table class=\"simpletable\">\n",
       "<tr>\n",
       "    <td></td>       <th>coef</th>     <th>std err</th>      <th>t</th>      <th>P>|t|</th>  <th>[0.025</th>    <th>0.975]</th>  \n",
       "</tr>\n",
       "<tr>\n",
       "  <th>const</th> <td>   51.8436</td> <td>    0.681</td> <td>   76.087</td> <td> 0.000</td> <td>   50.382</td> <td>   53.305</td>\n",
       "</tr>\n",
       "<tr>\n",
       "  <th>GNP</th>   <td>    0.0348</td> <td>    0.002</td> <td>   20.374</td> <td> 0.000</td> <td>    0.031</td> <td>    0.038</td>\n",
       "</tr>\n",
       "</table>"
      ],
      "text/plain": [
       "<IPython.core.display.HTML object>"
      ]
     },
     "execution_count": 8,
     "metadata": {},
     "output_type": "execute_result"
    }
   ],
   "source": [
    "est = sm.OLS(y, X)\n",
    "est = est.fit()\n",
    "est.summary()  # whoa, too much output for the moment\n",
    "\n",
    "# a utility function to only show the coefficient section of summary\n",
    "from IPython.core.display import HTML\n",
    "def short_summary(est):\n",
    "    return HTML(est.summary().tables[1].as_html())\n",
    "\n",
    "short_summary(est)"
   ]
  },
  {
   "cell_type": "markdown",
   "metadata": {},
   "source": [
    "Talking points on short summary:\n",
    "- sanity check\n",
    "- constant, GNP coefficients\n",
    "- do they point the right direction\n",
    "- rough magnitude check (if you have a sense)\n",
    "- are the p values significant\n",
    "- oh hey look we have confidence intervals, that's nice"
   ]
  },
  {
   "cell_type": "code",
   "execution_count": 5,
   "metadata": {},
   "outputs": [
    {
     "data": {
      "text/html": [
       "<table class=\"simpletable\">\n",
       "<caption>OLS Regression Results</caption>\n",
       "<tr>\n",
       "  <th>Dep. Variable:</th>        <td>Employed</td>     <th>  R-squared:         </th> <td>   0.967</td>\n",
       "</tr>\n",
       "<tr>\n",
       "  <th>Model:</th>                   <td>OLS</td>       <th>  Adj. R-squared:    </th> <td>   0.965</td>\n",
       "</tr>\n",
       "<tr>\n",
       "  <th>Method:</th>             <td>Least Squares</td>  <th>  F-statistic:       </th> <td>   415.1</td>\n",
       "</tr>\n",
       "<tr>\n",
       "  <th>Date:</th>             <td>Mon, 15 May 2017</td> <th>  Prob (F-statistic):</th> <td>8.36e-12</td>\n",
       "</tr>\n",
       "<tr>\n",
       "  <th>Time:</th>                 <td>23:10:49</td>     <th>  Log-Likelihood:    </th> <td> -14.904</td>\n",
       "</tr>\n",
       "<tr>\n",
       "  <th>No. Observations:</th>      <td>    16</td>      <th>  AIC:               </th> <td>   33.81</td>\n",
       "</tr>\n",
       "<tr>\n",
       "  <th>Df Residuals:</th>          <td>    14</td>      <th>  BIC:               </th> <td>   35.35</td>\n",
       "</tr>\n",
       "<tr>\n",
       "  <th>Df Model:</th>              <td>     1</td>      <th>                     </th>     <td> </td>   \n",
       "</tr>\n",
       "<tr>\n",
       "  <th>Covariance Type:</th>      <td>nonrobust</td>    <th>                     </th>     <td> </td>   \n",
       "</tr>\n",
       "</table>\n",
       "<table class=\"simpletable\">\n",
       "<tr>\n",
       "    <td></td>       <th>coef</th>     <th>std err</th>      <th>t</th>      <th>P>|t|</th>  <th>[0.025</th>    <th>0.975]</th>  \n",
       "</tr>\n",
       "<tr>\n",
       "  <th>const</th> <td>   51.8436</td> <td>    0.681</td> <td>   76.087</td> <td> 0.000</td> <td>   50.382</td> <td>   53.305</td>\n",
       "</tr>\n",
       "<tr>\n",
       "  <th>GNP</th>   <td>    0.0348</td> <td>    0.002</td> <td>   20.374</td> <td> 0.000</td> <td>    0.031</td> <td>    0.038</td>\n",
       "</tr>\n",
       "</table>\n",
       "<table class=\"simpletable\">\n",
       "<tr>\n",
       "  <th>Omnibus:</th>       <td> 1.925</td> <th>  Durbin-Watson:     </th> <td>   1.619</td>\n",
       "</tr>\n",
       "<tr>\n",
       "  <th>Prob(Omnibus):</th> <td> 0.382</td> <th>  Jarque-Bera (JB):  </th> <td>   1.215</td>\n",
       "</tr>\n",
       "<tr>\n",
       "  <th>Skew:</th>          <td> 0.664</td> <th>  Prob(JB):          </th> <td>   0.545</td>\n",
       "</tr>\n",
       "<tr>\n",
       "  <th>Kurtosis:</th>      <td> 2.759</td> <th>  Cond. No.          </th> <td>1.66e+03</td>\n",
       "</tr>\n",
       "</table>"
      ],
      "text/plain": [
       "<class 'statsmodels.iolib.summary.Summary'>\n",
       "\"\"\"\n",
       "                            OLS Regression Results                            \n",
       "==============================================================================\n",
       "Dep. Variable:               Employed   R-squared:                       0.967\n",
       "Model:                            OLS   Adj. R-squared:                  0.965\n",
       "Method:                 Least Squares   F-statistic:                     415.1\n",
       "Date:                Mon, 15 May 2017   Prob (F-statistic):           8.36e-12\n",
       "Time:                        23:10:49   Log-Likelihood:                -14.904\n",
       "No. Observations:                  16   AIC:                             33.81\n",
       "Df Residuals:                      14   BIC:                             35.35\n",
       "Df Model:                           1                                         \n",
       "Covariance Type:            nonrobust                                         \n",
       "==============================================================================\n",
       "                 coef    std err          t      P>|t|      [0.025      0.975]\n",
       "------------------------------------------------------------------------------\n",
       "const         51.8436      0.681     76.087      0.000      50.382      53.305\n",
       "GNP            0.0348      0.002     20.374      0.000       0.031       0.038\n",
       "==============================================================================\n",
       "Omnibus:                        1.925   Durbin-Watson:                   1.619\n",
       "Prob(Omnibus):                  0.382   Jarque-Bera (JB):                1.215\n",
       "Skew:                           0.664   Prob(JB):                        0.545\n",
       "Kurtosis:                       2.759   Cond. No.                     1.66e+03\n",
       "==============================================================================\n",
       "\n",
       "Warnings:\n",
       "[1] Standard Errors assume that the covariance matrix of the errors is correctly specified.\n",
       "[2] The condition number is large, 1.66e+03. This might indicate that there are\n",
       "strong multicollinearity or other numerical problems.\n",
       "\"\"\""
      ]
     },
     "execution_count": 5,
     "metadata": {},
     "output_type": "execute_result"
    }
   ],
   "source": [
    "est.summary()  # now let's look at the full summary"
   ]
  },
  {
   "cell_type": "markdown",
   "metadata": {},
   "source": [
    "## Let's plot it"
   ]
  },
  {
   "cell_type": "code",
   "execution_count": 6,
   "metadata": {},
   "outputs": [
    {
     "data": {
      "text/plain": [
       "[<matplotlib.lines.Line2D at 0x1078e6f50>]"
      ]
     },
     "execution_count": 6,
     "metadata": {},
     "output_type": "execute_result"
    },
    {
     "data": {
      "image/png": "[encoded data removed]",
      "text/plain": [
       "<matplotlib.figure.Figure at 0x10d6adf90>"
      ]
     },
     "metadata": {},
     "output_type": "display_data"
    }
   ],
   "source": [
    "# We pick 100 hundred points equally spaced from the min to the max\n",
    "X_prime = np.linspace(X.GNP.min(), X.GNP.max(), 100)[:, np.newaxis]\n",
    "X_prime = sm.add_constant(X_prime)  # add constant as we did before\n",
    "\n",
    "# Now we calculate the predicted values\n",
    "y_hat = est.predict(X_prime)\n",
    "\n",
    "plt.scatter(X.GNP, y, alpha=0.3)  # Plot the raw data\n",
    "plt.xlabel(\"Gross National Product\")\n",
    "plt.ylabel(\"Total Employment\")\n",
    "plt.plot(X_prime[:, 1], y_hat, 'r', alpha=0.9)  # Add the regression line, colored in red"
   ]
  },
  {
   "cell_type": "markdown",
   "metadata": {
    "nbpresent": {
     "id": "44f566e4-975c-4dd9-bf74-e18c516385e3"
    },
    "slideshow": {
     "slide_type": "slide"
    }
   },
   "source": [
    "# Assumptions of Linear Regression\n",
    "- Assumptions of Linear Regression\n",
    "    - Linearity\n",
    "        - We assume it's possible\n",
    "    - Constant Variance (Homoscedasticity)\n",
    "        - Our variance shouldn't change as y or X gets bigger\n",
    "    - Independence of Errors\n",
    "        - We should gain no information from knowing the error of a different data point\n",
    "    - Normality of Errors\n",
    "        - Errors should be normally distributed\n",
    "    - Lack of Multicollinearity\n",
    "        - We shouldn't be measuring the same thing in multiple ways\n",
    "        \n",
    "We can't always meet these assumptions, and often have to find ways to combat that reality.\n"
   ]
  },
  {
   "cell_type": "markdown",
   "metadata": {},
   "source": [
    "<img src=\"images/residual_plots.png\"></img>\n",
    "Notes on image:\n",
    "- a looks lovely\n",
    "- b has some extreme outliers\n",
    "- c is curvilinear; a change in x does not lead to the same response in y across all values of x\n",
    "- d violates homoscedasticity; the error variance is not constant but rather depends on x\n",
    "- e indicates a linear relationship between the residuals and a variable not in the model; we probably want to try to find/measure that variable and add it into our model"
   ]
  },
  {
   "cell_type": "markdown",
   "metadata": {},
   "source": [
    "# Outliers\n",
    "- Outliers\n",
    "    - Types of outliers\n",
    "    - Detecting outliers\n",
    "        - Leverage (change in prediction over change in actual)\n",
    "        - Studentized Residuals\n",
    "    - Residual plots"
   ]
  },
  {
   "cell_type": "markdown",
   "metadata": {},
   "source": [
    "# Outliers\n",
    "### Types of outliers\n",
    "<img src=\"images/types_of_outliers.png\"></img>\n",
    "\n"
   ]
  },
  {
   "cell_type": "markdown",
   "metadata": {},
   "source": [
    "# Outliers\n",
    "## Detecting outliers\n",
    "\n",
    "### Visually\n",
    "We can make a **residual plot** to help identify outliers visually.  In this case, we plot the residuals by the fitted/predicted value, y.\n",
    "\n",
    "Even better, we can **standardize** by dividing by the standard error.  This allows us to see which points are outliers in a common way, perhaps by checking whether they're above or below 2 (roughly 95% of our data is covered by that region).\n",
    "\n",
    "<img src=\"images/standardized_residuals.png\"></img>\n",
    "\n",
    "Even better still, we can **\"Studentize\"** the errors by dividing, not by the \"global\" standard error for our model, but by the standard error of our model at the particular value of y where the residual occurred.  Our confidence intervals change depending on how much data we have seen in a particular region.  If we've seen a lot of data, our intervals are tight; otherwise, they are wide.  So, it takes \"more\" for a data point to be considered an outlier if it is in a region in which we have little data.\n",
    "\n",
    "<img src=\"images/variable_confidence_intervals.png\"></img>\n",
    "\n",
    "\n",
    "<img src=\"images/studentized_residual_plot.png\"></img>\n",
    "\n"
   ]
  },
  {
   "cell_type": "markdown",
   "metadata": {},
   "source": [
    "# Outliers\n",
    "## Detecting outliers\n",
    "### Programmatically\n",
    "\n",
    "Leverage\n",
    "- A high-leverage point is an observation with an unusual X value.\n",
    "- It does not necessarily have a large effect on the regression model (it could lie right along the best fit line of a model fit without it).\n",
    "- Most common measure is the \"hat value\": $h_{ii}=(H)_{ii}$\n",
    "- The $i$th diagonal of the hat matrix $$ H = X(X^TX)^{-1}X^T $$ is the leverage of the particular data point\n",
    "- Heuristic explanation: dragging a single point upwards and seeing how much the prediction line follows. If, for a fixed $x$, we perturb $y$ and $\\hat{y_i}$ moves a little, then it is low leverage; if it moves a lot, then it is high leverage. So you can think of it as $h_{ii} = \\frac{d\\hat{y_i}}{dy_i}$\n",
    "\n",
    "We can use Leverage to Studentize our errors\n",
    "- The variance of the $i$th residual is $$ var(\\hat{\\epsilon_i}) = \\sigma^2(1 - \\frac{1}{n} - \\frac{(x_i - \\bar{x})^2}{\\sum_{j=1}^{n}{(x_j - \\bar{x})^2}}) $$\n",
    "- The corresponding Studentized residual is then $$ t_i = \\frac{\\hat{\\epsilon_i}}{ \\hat{\\sigma}\\sqrt{1 - h_{ii}} } $$ where $\\hat{\\sigma}$ is an appropriate estimate of $\\sigma$ (basically square root of RSE)\n",
    "\n",
    "\n",
    "Now that we have either standardized (divided by \"global\" standard error) or studentized (divided by \"local\" standard error) residuals, we can use them to programmatically identify outlier points.  Roughly 95% of our data will fall within $\\pm2$ standardized/studentized errors.  We likely don't want to throw out 1 in 20 data points, though, so perhaps we'll cut anything off if it's outside the $\\pm3$ bounds.  Note, if we do find outliers we usually train two models, one with them and one without.  Also we might chase down the story behind the outlier data points, if we can (was data entered incorrectly? was there a tsunami that day? did the servers go down?)."
   ]
  },
  {
   "cell_type": "markdown",
   "metadata": {},
   "source": [
    "# Multicollinearity \n",
    "Measuring the same thing two different ways.\n",
    "\n",
    "If we had the grade of every class for a student, as well as their GPA, we have multicollinearity because GPA is a linear function of their grades.\n",
    "\n",
    "Could also just be married_is_True and married_is_False as features.\n",
    "\n",
    "- Perfect vs Partial\n",
    "  - Perfect\n",
    "      - Your model will often fail to run/converge (some libraries will still be ok, but don't count on it)\n",
    "      - Unlikely to occur in practice, unless you goof\n",
    "          - Consider a case where $\\beta_1$ and $\\beta_2$ measure \"years since graduating Galvanize\" and \"years as a data scientist\", and of course these are the same ;)\n",
    "          - If the true \"value\" for the coefficient is 10, our model could assign weights to $\\beta_1$ and $\\beta_2$ of (10, 0), (0, 10), (5, 5)... or any combination between these, and get the same values.\n",
    "  - Partial\n",
    "      - Uncertainty in the model coefficients becomes large\n",
    "      - Does not necessarily affect model accuracy or bias the coefficients\n",
    "      \n",
    "<img src=\"images/partial_multicollinearity.png\"></img>\n",
    "Notes on image: \n",
    "- Here $x_1$ and $x_2$ are both correlated with the dependent variable, and are correlated with each other.\n",
    "- If they are relatively less correlated with each other (top), then the \"black\" region of their overlap is smaller.  If they're relatively more correlated with each other (bottom), then the \"black\" region of their overlap is larger.  The variation that each variable captures of the target is its circle; when the circles overlap heavily, we don't know which variable to give credit to, as their overlapping region could go to either.  One of them could get full credit for it, no credit for it, or somewhere in between, which means the coefficient values are going to vary widely.\n",
    "\n"
   ]
  },
  {
   "cell_type": "markdown",
   "metadata": {},
   "source": [
    "# Multicollinearity\n",
    "\n",
    "- Correlation Matrix / Scatterplot Matrix / Bivariate Correlations\n",
    "    - Can only pick up pairwise effects\n",
    "- Variance Inflation Factors, VIF\n",
    "    - I heard you liked regression, so I put some regression in your regression so you can regress while you regress\n",
    "    - Regress each of the independent variables on all the other independent variables\n",
    "        - If any of these auxiliary $R^2$ values are near 1, there is high multicollinearity\n",
    "        - Makes sense: if we can predict one variable with the others... it's collinear with them\n",
    "    - For each of the predictor variables j: $$ VIF = \\frac{1}{1 - R_j^2} $$\n",
    "    - This measures how much the variance of the regression coefficients is inflated relative to the noninflated baseline of linearly independent predictors\n",
    "    - In the best case:\n",
    "        - We can't predict our $j$th feature with the others, so $R_j^2$ is 0\n",
    "        - This means VIF is 1, and $x_j$ is linearly independent of the other independent variables\n",
    "    - If $VIF > 10$, then multicollinearity is probably a problem\n",
    "        - 10 is a rule of thumb; you may be more or less conservative\n",
    "\n",
    "Why do we subtract and invert rather than just talking about auxiliary $R^2$ values, where lower is better? Good. Question. (Perhaps fancy terms are correlated with salary for statisticians... a Salary Inflation Factor ;)\n",
    "\n",
    "- What should I do if I have high multicollinearity?\n",
    "    - Try to gather more data\n",
    "    - Consider combining multiple intercorrelated variables into one\n",
    "    - Don't interpret coefficients, just use your model to predict\n",
    "    - Discard the offending variable(s)\n",
    "    - What if I created multicollinearity by adding polynomial terms?\n",
    "        - Say I added $x_{40}$ and $x_{40}^2$ because there was a quadratic trend in $x_{40}$\n",
    "        - Now I have two variables that exhibit high multicollinearity\n",
    "        - I can subtract the mean and use the deviations (and squared deviations) as variables in the model; this reduces multicollinearity, but also changes the interpretation of the coefficients"
   ]
  },
  {
   "cell_type": "markdown",
   "metadata": {},
   "source": [
    "# QQ Plots\n",
    "Watch this: https://www.youtube.com/watch?v=X9_ISJ0YpGw\n",
    "\n",
    "(ragequit QQ)"
   ]
  },
  {
   "cell_type": "markdown",
   "metadata": {
    "collapsed": true,
    "slideshow": {
     "slide_type": "skip"
    }
   },
   "source": [
    "jupyter nbconvert Linear_Regression.ipynb --to slides --post serve"
   ]
  },
  {
   "cell_type": "code",
   "execution_count": null,
   "metadata": {
    "collapsed": true
   },
   "outputs": [],
   "source": []
  }
 ],
 "metadata": {
  "anaconda-cloud": {},
  "celltoolbar": "Slideshow",
  "kernelspec": {
   "display_name": "Python 2",
   "language": "python",
   "name": "python2"
  },
  "language_info": {
   "codemirror_mode": {
    "name": "ipython",
    "version": 2
   },
   "file_extension": ".py",
   "mimetype": "text/x-python",
   "name": "python",
   "nbconvert_exporter": "python",
   "pygments_lexer": "ipython2",
   "version": "2.7.13"
  },
  "nbpresent": {
   "slides": {},
   "themes": {}
  }
 },
 "nbformat": 4,
 "nbformat_minor": 1
}
