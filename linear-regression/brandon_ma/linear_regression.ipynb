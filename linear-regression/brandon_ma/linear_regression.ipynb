{
 "cells": [
  {
   "cell_type": "code",
   "execution_count": 1,
   "metadata": {},
   "outputs": [],
   "source": [
    "import numpy as np\n",
    "import pandas as pd\n",
    "import scipy.stats as scs\n",
    "\n",
    "np.random.seed(0)\n",
    "\n",
    "import matplotlib.pyplot as plt"
   ]
  },
  {
   "cell_type": "markdown",
   "metadata": {},
   "source": [
    "# Predictive Linear Regression\n",
    "\n",
    "Brandon Martin-Anderson June 2019, with great debt to Moses Marsh, Matt Drury\n",
    "\n",
    "### Learning goals\n",
    "\n",
    "* fill this out\n",
    "\n",
    "### The task of predicting quantities: in story form\n",
    "\n",
    "Let's start a business: we estimate the fuel economy of cars. People describe a car and pay us money, and we tell them the fuel economy (in miles per gallon) of their car.\n",
    "\n",
    "* The first customer comes in, and says, \"This is a very competitive field. Why should we pay you?\"\n",
    "* You say, \"We are very good at what we do.\"\n",
    "* They say, \"Your competitor says the same thing. Do you have evidence?\"\n",
    "\n",
    "Note two things.\n",
    "1. **You are competing against other models.**\n",
    "2. **Your model will be evaluated quantitatively.**\n",
    "\n",
    "So you say: \"We have analyzed all of our competitors's predictions. All their predictions have some error; the mean of their predictive errors is 5 mpg. We can do better.\"\n",
    "\n",
    "* Them: \"Ah, interesting. Prove it.\"\n",
    "* You: \"Describe a car.\"\n",
    "* Them: \"A 2020 hybrid Ford F250\"\n",
    "* You: \"Can't predict - that **that car isn't in our records**\"\n",
    "* Them: \"What good is that?\"\n",
    "* You: \"If you ask about an old car, we can predict it perfectly.\"\n",
    "* Them: \"And...why would we pay for that?\"\n",
    "* You: \"I don't know, but we are perfect.\"\n",
    "* Them: \"We'll go to your competitor instead.\"\n",
    "\n",
    "\n",
    "3. **The only performance that matters is predictive performance on unseen examples.**\n",
    "\n"
   ]
  },
  {
   "cell_type": "markdown",
   "metadata": {},
   "source": [
    "### The task of predicting quantities: in math form\n",
    "\n",
    "There exists a quantitative response $Y$ (e.g., fuel economy) which is equal to the function of some properties $X$ (e.g., properties of cars) plus irreducable noise $\\epsilon$ (e.g., manufacturing errors, vehicle wear, variations in vehicle usage).\n",
    "\n",
    "$$Y = f(X) + \\epsilon$$\n",
    "\n",
    "The function $f(X)$ is generally known only to Nature - it is almost always hidden from us.\n",
    "\n",
    "It is often possible to obtain a specific $y_i = f(x_i)$ through a relatively expensive process (e.g., building a car with certain properties and then driving it around and measuring its fuel economy). Instead of engaging in an expensive process, we're interested in finding an estimate $\\hat{Y}$ using a _predictive model_ $\\hat{f}$:\n",
    "\n",
    "$$\\hat{Y} = \\hat{f}(X)$$\n",
    "\n",
    "In contrast to $f$, $\\hat{f}$ is known to us, because it's a function that we choose.\n",
    "\n",
    "The formal goal of prediction is to find $\\hat{f}$ that **minimizes some error function $E(Y, \\hat{Y})$ on a collection of samples $X$ hidden when $\\hat{f}$ is chosen.**\n",
    "\n",
    "In the example above, $E$ was simply the mean absolute difference\n",
    "\n",
    "$$E(Y, \\hat{Y}) = \\frac{\\sum_{i=1}^{n}{|y_i - \\hat{y_i}|}}{n}$$\n",
    "\n",
    "The choice of error function (often called _loss_) is ultimately chosen to model the business logic of the prediction task, but probaby the most common is the _mean square error_:\n",
    "\n",
    "$$E(Y, \\hat{Y}) = \\frac{\\sum_{i=1}^{n}{(y_i - \\hat{y_i})^2}}{n}$$\n",
    "\n",
    "For a number of reasons, chiefly:\n",
    "* It's convex.\n",
    "* It's decomposable into bias, variance, and irreduceable error terms.\n",
    "* There exists a closed form solution to minimize it in the case of a linear $\\hat{f}$.\n",
    "\n",
    "That last one is _extremely convenient_. It's why we're talking about linear regression today.\n",
    "\n"
   ]
  },
  {
   "cell_type": "markdown",
   "metadata": {},
   "source": [
    "## A very simple predictive model\n",
    "\n",
    "We wish to devise a predictive model $\\hat{f}$ for our fuel-economy-estimation business. We start with a CSV we found on the internet."
   ]
  },
  {
   "cell_type": "code",
   "execution_count": 2,
   "metadata": {},
   "outputs": [],
   "source": [
    "cars = pd.read_csv(\"data/cars.csv\", na_values=[\"?\"])"
   ]
  },
  {
   "cell_type": "code",
   "execution_count": 3,
   "metadata": {},
   "outputs": [],
   "source": [
    "cars = cars.dropna()"
   ]
  },
  {
   "cell_type": "code",
   "execution_count": 4,
   "metadata": {},
   "outputs": [
    {
     "data": {
      "text/html": [
       "<div>\n",
       "<style scoped>\n",
       "    .dataframe tbody tr th:only-of-type {\n",
       "        vertical-align: middle;\n",
       "    }\n",
       "\n",
       "    .dataframe tbody tr th {\n",
       "        vertical-align: top;\n",
       "    }\n",
       "\n",
       "    .dataframe thead th {\n",
       "        text-align: right;\n",
       "    }\n",
       "</style>\n",
       "<table border=\"1\" class=\"dataframe\">\n",
       "  <thead>\n",
       "    <tr style=\"text-align: right;\">\n",
       "      <th></th>\n",
       "      <th>mpg</th>\n",
       "      <th>cylinders</th>\n",
       "      <th>displacement</th>\n",
       "      <th>horsepower</th>\n",
       "      <th>weight</th>\n",
       "      <th>acceleration</th>\n",
       "      <th>model</th>\n",
       "      <th>origin</th>\n",
       "      <th>car_name</th>\n",
       "    </tr>\n",
       "  </thead>\n",
       "  <tbody>\n",
       "    <tr>\n",
       "      <th>0</th>\n",
       "      <td>18.0</td>\n",
       "      <td>8</td>\n",
       "      <td>307.0</td>\n",
       "      <td>130.0</td>\n",
       "      <td>3504.0</td>\n",
       "      <td>12.0</td>\n",
       "      <td>70</td>\n",
       "      <td>1</td>\n",
       "      <td>chevrolet chevelle malibu</td>\n",
       "    </tr>\n",
       "    <tr>\n",
       "      <th>1</th>\n",
       "      <td>15.0</td>\n",
       "      <td>8</td>\n",
       "      <td>350.0</td>\n",
       "      <td>165.0</td>\n",
       "      <td>3693.0</td>\n",
       "      <td>11.5</td>\n",
       "      <td>70</td>\n",
       "      <td>1</td>\n",
       "      <td>buick skylark 320</td>\n",
       "    </tr>\n",
       "    <tr>\n",
       "      <th>2</th>\n",
       "      <td>18.0</td>\n",
       "      <td>8</td>\n",
       "      <td>318.0</td>\n",
       "      <td>150.0</td>\n",
       "      <td>3436.0</td>\n",
       "      <td>11.0</td>\n",
       "      <td>70</td>\n",
       "      <td>1</td>\n",
       "      <td>plymouth satellite</td>\n",
       "    </tr>\n",
       "    <tr>\n",
       "      <th>3</th>\n",
       "      <td>16.0</td>\n",
       "      <td>8</td>\n",
       "      <td>304.0</td>\n",
       "      <td>150.0</td>\n",
       "      <td>3433.0</td>\n",
       "      <td>12.0</td>\n",
       "      <td>70</td>\n",
       "      <td>1</td>\n",
       "      <td>amc rebel sst</td>\n",
       "    </tr>\n",
       "    <tr>\n",
       "      <th>4</th>\n",
       "      <td>17.0</td>\n",
       "      <td>8</td>\n",
       "      <td>302.0</td>\n",
       "      <td>140.0</td>\n",
       "      <td>3449.0</td>\n",
       "      <td>10.5</td>\n",
       "      <td>70</td>\n",
       "      <td>1</td>\n",
       "      <td>ford torino</td>\n",
       "    </tr>\n",
       "  </tbody>\n",
       "</table>\n",
       "</div>"
      ],
      "text/plain": [
       "    mpg  cylinders  displacement  horsepower  weight  acceleration  model  \\\n",
       "0  18.0          8         307.0       130.0  3504.0          12.0     70   \n",
       "1  15.0          8         350.0       165.0  3693.0          11.5     70   \n",
       "2  18.0          8         318.0       150.0  3436.0          11.0     70   \n",
       "3  16.0          8         304.0       150.0  3433.0          12.0     70   \n",
       "4  17.0          8         302.0       140.0  3449.0          10.5     70   \n",
       "\n",
       "   origin                   car_name  \n",
       "0       1  chevrolet chevelle malibu  \n",
       "1       1          buick skylark 320  \n",
       "2       1         plymouth satellite  \n",
       "3       1              amc rebel sst  \n",
       "4       1                ford torino  "
      ]
     },
     "execution_count": 4,
     "metadata": {},
     "output_type": "execute_result"
    }
   ],
   "source": [
    "cars.head()"
   ]
  },
  {
   "cell_type": "markdown",
   "metadata": {},
   "source": [
    "Let's start with a very simple model: **always predict the average mpg**."
   ]
  },
  {
   "cell_type": "markdown",
   "metadata": {},
   "source": [
    "## Evaluating our model\n",
    "\n",
    "Let's evaluate our model.\n",
    "\n",
    "Because our metric for success is performance on unseen data, we need to keep some our data unseen."
   ]
  },
  {
   "cell_type": "code",
   "execution_count": 5,
   "metadata": {},
   "outputs": [
    {
     "name": "stdout",
     "output_type": "stream",
     "text": [
      "392 records total, holding out 78\n"
     ]
    }
   ],
   "source": [
    "n = len(cars)\n",
    "n_holdout = int(n*0.2)\n",
    "print( f\"{n} records total, holding out {n_holdout}\" )"
   ]
  },
  {
   "cell_type": "markdown",
   "metadata": {},
   "source": [
    "Shuffle the cars; or else we'd learn just about the 8-cylinder cars..."
   ]
  },
  {
   "cell_type": "code",
   "execution_count": 6,
   "metadata": {},
   "outputs": [],
   "source": [
    "cars = cars.sample(len(cars))\n",
    "cars_test = cars.iloc[:n_holdout]\n",
    "cars_train = cars.iloc[n_holdout:]"
   ]
  },
  {
   "cell_type": "code",
   "execution_count": 7,
   "metadata": {},
   "outputs": [
    {
     "data": {
      "text/html": [
       "<div>\n",
       "<style scoped>\n",
       "    .dataframe tbody tr th:only-of-type {\n",
       "        vertical-align: middle;\n",
       "    }\n",
       "\n",
       "    .dataframe tbody tr th {\n",
       "        vertical-align: top;\n",
       "    }\n",
       "\n",
       "    .dataframe thead th {\n",
       "        text-align: right;\n",
       "    }\n",
       "</style>\n",
       "<table border=\"1\" class=\"dataframe\">\n",
       "  <thead>\n",
       "    <tr style=\"text-align: right;\">\n",
       "      <th></th>\n",
       "      <th>mpg</th>\n",
       "      <th>cylinders</th>\n",
       "      <th>displacement</th>\n",
       "      <th>horsepower</th>\n",
       "      <th>weight</th>\n",
       "      <th>acceleration</th>\n",
       "      <th>model</th>\n",
       "      <th>origin</th>\n",
       "      <th>car_name</th>\n",
       "    </tr>\n",
       "  </thead>\n",
       "  <tbody>\n",
       "    <tr>\n",
       "      <th>216</th>\n",
       "      <td>31.5</td>\n",
       "      <td>4</td>\n",
       "      <td>98.0</td>\n",
       "      <td>68.0</td>\n",
       "      <td>2045.0</td>\n",
       "      <td>18.5</td>\n",
       "      <td>77</td>\n",
       "      <td>3</td>\n",
       "      <td>honda accord cvcc</td>\n",
       "    </tr>\n",
       "    <tr>\n",
       "      <th>220</th>\n",
       "      <td>33.5</td>\n",
       "      <td>4</td>\n",
       "      <td>85.0</td>\n",
       "      <td>70.0</td>\n",
       "      <td>1945.0</td>\n",
       "      <td>16.8</td>\n",
       "      <td>77</td>\n",
       "      <td>3</td>\n",
       "      <td>datsun f-10 hatchback</td>\n",
       "    </tr>\n",
       "    <tr>\n",
       "      <th>256</th>\n",
       "      <td>20.5</td>\n",
       "      <td>6</td>\n",
       "      <td>225.0</td>\n",
       "      <td>100.0</td>\n",
       "      <td>3430.0</td>\n",
       "      <td>17.2</td>\n",
       "      <td>78</td>\n",
       "      <td>1</td>\n",
       "      <td>plymouth volare</td>\n",
       "    </tr>\n",
       "    <tr>\n",
       "      <th>301</th>\n",
       "      <td>34.2</td>\n",
       "      <td>4</td>\n",
       "      <td>105.0</td>\n",
       "      <td>70.0</td>\n",
       "      <td>2200.0</td>\n",
       "      <td>13.2</td>\n",
       "      <td>79</td>\n",
       "      <td>1</td>\n",
       "      <td>plymouth horizon</td>\n",
       "    </tr>\n",
       "    <tr>\n",
       "      <th>193</th>\n",
       "      <td>24.0</td>\n",
       "      <td>6</td>\n",
       "      <td>200.0</td>\n",
       "      <td>81.0</td>\n",
       "      <td>3012.0</td>\n",
       "      <td>17.6</td>\n",
       "      <td>76</td>\n",
       "      <td>1</td>\n",
       "      <td>ford maverick</td>\n",
       "    </tr>\n",
       "  </tbody>\n",
       "</table>\n",
       "</div>"
      ],
      "text/plain": [
       "      mpg  cylinders  displacement  horsepower  weight  acceleration  model  \\\n",
       "216  31.5          4          98.0        68.0  2045.0          18.5     77   \n",
       "220  33.5          4          85.0        70.0  1945.0          16.8     77   \n",
       "256  20.5          6         225.0       100.0  3430.0          17.2     78   \n",
       "301  34.2          4         105.0        70.0  2200.0          13.2     79   \n",
       "193  24.0          6         200.0        81.0  3012.0          17.6     76   \n",
       "\n",
       "     origin               car_name  \n",
       "216       3      honda accord cvcc  \n",
       "220       3  datsun f-10 hatchback  \n",
       "256       1        plymouth volare  \n",
       "301       1       plymouth horizon  \n",
       "193       1          ford maverick  "
      ]
     },
     "execution_count": 7,
     "metadata": {},
     "output_type": "execute_result"
    }
   ],
   "source": [
    "cars_train.head()"
   ]
  },
  {
   "cell_type": "markdown",
   "metadata": {},
   "source": [
    "Creating the \"model\" simply involves finding the mean, and returning it for every row in $X$."
   ]
  },
  {
   "cell_type": "code",
   "execution_count": 8,
   "metadata": {},
   "outputs": [],
   "source": [
    "mean_mpg = cars_train.mpg.mean()"
   ]
  },
  {
   "cell_type": "code",
   "execution_count": 9,
   "metadata": {},
   "outputs": [
    {
     "data": {
      "text/plain": [
       "23.507961783439494"
      ]
     },
     "execution_count": 9,
     "metadata": {},
     "output_type": "execute_result"
    }
   ],
   "source": [
    "mean_mpg"
   ]
  },
  {
   "cell_type": "code",
   "execution_count": 10,
   "metadata": {},
   "outputs": [],
   "source": [
    "fhat = lambda X: np.ones(len(X))*mean_mpg"
   ]
  },
  {
   "cell_type": "code",
   "execution_count": 11,
   "metadata": {},
   "outputs": [],
   "source": [
    "yhat = fhat(cars_test)"
   ]
  },
  {
   "cell_type": "code",
   "execution_count": 12,
   "metadata": {},
   "outputs": [
    {
     "data": {
      "text/plain": [
       "array([23.50796178, 23.50796178, 23.50796178, 23.50796178, 23.50796178,\n",
       "       23.50796178, 23.50796178, 23.50796178, 23.50796178, 23.50796178,\n",
       "       23.50796178, 23.50796178, 23.50796178, 23.50796178, 23.50796178,\n",
       "       23.50796178, 23.50796178, 23.50796178, 23.50796178, 23.50796178,\n",
       "       23.50796178, 23.50796178, 23.50796178, 23.50796178, 23.50796178,\n",
       "       23.50796178, 23.50796178, 23.50796178, 23.50796178, 23.50796178,\n",
       "       23.50796178, 23.50796178, 23.50796178, 23.50796178, 23.50796178,\n",
       "       23.50796178, 23.50796178, 23.50796178, 23.50796178, 23.50796178,\n",
       "       23.50796178, 23.50796178, 23.50796178, 23.50796178, 23.50796178,\n",
       "       23.50796178, 23.50796178, 23.50796178, 23.50796178, 23.50796178,\n",
       "       23.50796178, 23.50796178, 23.50796178, 23.50796178, 23.50796178,\n",
       "       23.50796178, 23.50796178, 23.50796178, 23.50796178, 23.50796178,\n",
       "       23.50796178, 23.50796178, 23.50796178, 23.50796178, 23.50796178,\n",
       "       23.50796178, 23.50796178, 23.50796178, 23.50796178, 23.50796178,\n",
       "       23.50796178, 23.50796178, 23.50796178, 23.50796178, 23.50796178,\n",
       "       23.50796178, 23.50796178, 23.50796178])"
      ]
     },
     "execution_count": 12,
     "metadata": {},
     "output_type": "execute_result"
    }
   ],
   "source": [
    "yhat"
   ]
  },
  {
   "cell_type": "markdown",
   "metadata": {},
   "source": [
    "Find the MSE without loops using vectorized numpy-style operations:"
   ]
  },
  {
   "cell_type": "code",
   "execution_count": 13,
   "metadata": {},
   "outputs": [
    {
     "data": {
      "text/plain": [
       "62.17656837121391"
      ]
     },
     "execution_count": 13,
     "metadata": {},
     "output_type": "execute_result"
    }
   ],
   "source": [
    "mse = ((cars_test.mpg - yhat)**2).mean()\n",
    "mse"
   ]
  },
  {
   "cell_type": "markdown",
   "metadata": {},
   "source": [
    "But it satisfies two important requirements:\n",
    "\n",
    "* It is a quantitative, comparable error metric,\n",
    "* computed on unseen data.\n",
    "\n",
    "In a very simple way, we've done our job. Simple models like this are called **benchmarks**; they're very useful for setting a lower bound on the performance of more complex models. **This is our number to beat**."
   ]
  },
  {
   "cell_type": "markdown",
   "metadata": {},
   "source": [
    "Though MSE is mathematically elegant, it can be difficult to interpet. It is also common to look at the square root of the MSE, which has the same units as the targer variable."
   ]
  },
  {
   "cell_type": "code",
   "execution_count": 14,
   "metadata": {},
   "outputs": [
    {
     "data": {
      "text/plain": [
       "7.885212005470361"
      ]
     },
     "execution_count": 14,
     "metadata": {},
     "output_type": "execute_result"
    }
   ],
   "source": [
    "mse**0.5"
   ]
  },
  {
   "cell_type": "markdown",
   "metadata": {},
   "source": [
    "This can be interpreted as how far off the model is on average."
   ]
  },
  {
   "cell_type": "markdown",
   "metadata": {},
   "source": [
    "## Slightly more fancy: taking advantage of variables that move together\n",
    "\n",
    "You know a thing or two about cars. You know, for example, that heavier cars have worse fuel economy than light cars. What if we gave a lower estimate for heavier cars? Could that improve our MSE?"
   ]
  },
  {
   "cell_type": "code",
   "execution_count": 15,
   "metadata": {},
   "outputs": [
    {
     "data": {
      "text/plain": [
       "2969.3025477707006"
      ]
     },
     "execution_count": 15,
     "metadata": {},
     "output_type": "execute_result"
    }
   ],
   "source": [
    "mean_car_weight = cars_train.weight.mean()\n",
    "mean_car_weight"
   ]
  },
  {
   "cell_type": "code",
   "execution_count": 16,
   "metadata": {},
   "outputs": [
    {
     "data": {
      "text/plain": [
       "(28.619209039548036, 16.904379562043793)"
      ]
     },
     "execution_count": 16,
     "metadata": {},
     "output_type": "execute_result"
    }
   ],
   "source": [
    "heavy_mpg = cars_train[ cars_train.weight>mean_car_weight ].mpg.mean()\n",
    "light_mpg = cars_train[ cars_train.weight<=mean_car_weight ].mpg.mean()\n",
    "light_mpg, heavy_mpg"
   ]
  },
  {
   "cell_type": "code",
   "execution_count": 17,
   "metadata": {},
   "outputs": [
    {
     "data": {
      "text/plain": [
       "array([28.61920904, 28.61920904, 16.90437956, 28.61920904, 28.61920904,\n",
       "       16.90437956, 28.61920904, 16.90437956, 16.90437956, 28.61920904,\n",
       "       28.61920904, 16.90437956, 28.61920904, 16.90437956, 16.90437956,\n",
       "       28.61920904, 28.61920904, 16.90437956, 28.61920904, 28.61920904,\n",
       "       16.90437956, 16.90437956, 28.61920904, 28.61920904, 28.61920904,\n",
       "       16.90437956, 28.61920904, 28.61920904, 28.61920904, 16.90437956,\n",
       "       28.61920904, 28.61920904, 28.61920904, 28.61920904, 16.90437956,\n",
       "       28.61920904, 28.61920904, 16.90437956, 16.90437956, 16.90437956,\n",
       "       16.90437956, 28.61920904, 28.61920904, 16.90437956, 28.61920904,\n",
       "       16.90437956, 28.61920904, 16.90437956, 16.90437956, 28.61920904,\n",
       "       28.61920904, 16.90437956, 16.90437956, 28.61920904, 28.61920904,\n",
       "       16.90437956, 16.90437956, 16.90437956, 28.61920904, 28.61920904,\n",
       "       28.61920904, 28.61920904, 28.61920904, 16.90437956, 28.61920904,\n",
       "       16.90437956, 16.90437956, 28.61920904, 28.61920904, 28.61920904,\n",
       "       28.61920904, 28.61920904, 16.90437956, 16.90437956, 28.61920904,\n",
       "       16.90437956, 28.61920904, 16.90437956])"
      ]
     },
     "execution_count": 17,
     "metadata": {},
     "output_type": "execute_result"
    }
   ],
   "source": [
    "def car_weight_model(X):\n",
    "    yhat = []\n",
    "    for i, x_i in X.iterrows():\n",
    "        yhat_i = light_mpg if x_i.weight<mean_car_weight else heavy_mpg\n",
    "        yhat.append( yhat_i )\n",
    "    return np.array(yhat)\n",
    "\n",
    "yhat = car_weight_model(cars_test)\n",
    "yhat"
   ]
  },
  {
   "cell_type": "code",
   "execution_count": 18,
   "metadata": {},
   "outputs": [
    {
     "data": {
      "text/plain": [
       "31.22081657572509"
      ]
     },
     "execution_count": 18,
     "metadata": {},
     "output_type": "execute_result"
    }
   ],
   "source": [
    "mse = ((cars_test.mpg - yhat)**2).mean()\n",
    "mse"
   ]
  },
  {
   "cell_type": "markdown",
   "metadata": {},
   "source": [
    "Already we've made a significant improvement.\n",
    "\n",
    "My point here: linear regression is elegant and convenient, but the basic mechanisms of predictive regression - concoct candidate $\\hat{f}$ functions and compare them using a well-defined error function - are not limited to linear regression."
   ]
  },
  {
   "cell_type": "markdown",
   "metadata": {},
   "source": [
    "## Linear regression\n",
    "\n",
    "How about this model: we make two assumptions.\n",
    "\n",
    "* A car that weights 0 lbs has a high \"base\" fuel economy.\n",
    "* Every additional pound added to the car reduces the fuel economy by some quantity.\n",
    "\n",
    "Quantified in the following form:\n",
    "\n",
    "$$y_i = b - m \\cdot x_i$$\n",
    "\n",
    "where $b$ is the \"base\" fuel economy and $m$ is the fuel economy penalty for each pound of car.\n",
    "\n",
    "This leaves us with two numbers that we have to choose. Let's inform their choice by looking at a graph:"
   ]
  },
  {
   "cell_type": "code",
   "execution_count": 19,
   "metadata": {},
   "outputs": [
    {
     "data": {
      "text/plain": [
       "(0, 5000)"
      ]
     },
     "execution_count": 19,
     "metadata": {},
     "output_type": "execute_result"
    },
    {
     "data": {
      "image/png": "[encoded data removed]",
      "text/plain": [
       "<Figure size 648x504 with 1 Axes>"
      ]
     },
     "metadata": {
      "needs_background": "light"
     },
     "output_type": "display_data"
    }
   ],
   "source": [
    "fig, ax = plt.subplots(figsize=(9,7))\n",
    "ax.scatter( cars.weight, cars.mpg )\n",
    "ax.set_xlabel(\"weight (lbs)\")\n",
    "ax.set_ylabel(\"fuel economy (mpg)\")\n",
    "ax.set_title(\"car weight vs. fuel economy\")\n",
    "ax.set_xlim(0, 5000)"
   ]
  },
  {
   "cell_type": "code",
   "execution_count": 20,
   "metadata": {},
   "outputs": [
    {
     "data": {
      "text/plain": [
       "8.0"
      ]
     },
     "execution_count": 20,
     "metadata": {},
     "output_type": "execute_result"
    }
   ],
   "source": [
    "40 / 5"
   ]
  },
  {
   "cell_type": "markdown",
   "metadata": {},
   "source": [
    "The \"base\" mpg, for a 0-pound car would be around 50 mpg, and the mpg drops to 10 for a 5000-pound car.\n",
    "\n",
    "That's a 40 mpg drop for 5000 pounds, so that's 40 mpg / 5k lb = 8 mpg drop per 1k pound increase."
   ]
  },
  {
   "cell_type": "code",
   "execution_count": 21,
   "metadata": {},
   "outputs": [],
   "source": [
    "b = 50\n",
    "m = 40/5000\n",
    "fhat = lambda X: b - m*X"
   ]
  },
  {
   "cell_type": "code",
   "execution_count": 22,
   "metadata": {},
   "outputs": [],
   "source": [
    "yhat = fhat(cars_test.weight)"
   ]
  },
  {
   "cell_type": "code",
   "execution_count": 23,
   "metadata": {},
   "outputs": [
    {
     "data": {
      "text/plain": [
       "146    33.000\n",
       "282    26.880\n",
       "69     14.352\n",
       "378    33.000\n",
       "331    32.840\n",
       "257    24.320\n",
       "310    34.256\n",
       "328    24.000\n",
       "125    25.184\n",
       "108    31.768\n",
       "Name: weight, dtype: float64"
      ]
     },
     "execution_count": 23,
     "metadata": {},
     "output_type": "execute_result"
    }
   ],
   "source": [
    "yhat.iloc[0:10]"
   ]
  },
  {
   "cell_type": "code",
   "execution_count": 24,
   "metadata": {},
   "outputs": [
    {
     "data": {
      "text/plain": [
       "27.826178256410255"
      ]
     },
     "execution_count": 24,
     "metadata": {},
     "output_type": "execute_result"
    }
   ],
   "source": [
    "mse = ((cars_test.mpg - yhat)**2).mean()\n",
    "mse"
   ]
  },
  {
   "cell_type": "markdown",
   "metadata": {},
   "source": [
    "A small improvement over the stepwise mean regression. Let's graph the predictions and residuals to give us a hint about how to pick better parameters:"
   ]
  },
  {
   "cell_type": "code",
   "execution_count": 25,
   "metadata": {},
   "outputs": [
    {
     "data": {
      "image/png": "[encoded data removed]",
      "text/plain": [
       "<Figure size 648x504 with 1 Axes>"
      ]
     },
     "metadata": {
      "needs_background": "light"
     },
     "output_type": "display_data"
    }
   ],
   "source": [
    "fig, ax = plt.subplots(figsize=(9,7))\n",
    "ax.scatter( cars_test.weight, cars_test.mpg, label=\"data\" )\n",
    "ax.set_xlabel(\"weight (lbs)\")\n",
    "ax.set_ylabel(\"fuel economy (mpg)\")\n",
    "ax.set_title(\"test set fuel economy data & predictive model\")\n",
    "\n",
    "weights = np.linspace(1500,5000)\n",
    "ax.plot( weights, fhat(weights), c=\"red\", label=\"model\" )\n",
    "ax.legend()\n",
    "\n",
    "for x_i, y_i in zip(cars_test.weight,cars_test.mpg):\n",
    "    plt.plot([x_i, x_i], [y_i, b-m*x_i], color='gray', linestyle='dashed')"
   ]
  },
  {
   "cell_type": "markdown",
   "metadata": {},
   "source": [
    "A smaller $b$ would move the line down, shortening all the residuals below the red line."
   ]
  },
  {
   "cell_type": "code",
   "execution_count": 26,
   "metadata": {},
   "outputs": [
    {
     "data": {
      "text/plain": [
       "25.66156287179488"
      ]
     },
     "execution_count": 26,
     "metadata": {},
     "output_type": "execute_result"
    }
   ],
   "source": [
    "b = 45\n",
    "m = 40/5000\n",
    "fhat = lambda X: b - m*X\n",
    "\n",
    "yhat = fhat(cars_test.weight)\n",
    "\n",
    "mse = ((cars_test.mpg - yhat)**2).mean()\n",
    "mse"
   ]
  },
  {
   "cell_type": "markdown",
   "metadata": {},
   "source": [
    "Another small improvement. Let's do this for a _lot_ of $b$ values to find the best one:"
   ]
  },
  {
   "cell_type": "code",
   "execution_count": 27,
   "metadata": {},
   "outputs": [],
   "source": [
    "bs = np.linspace(40,55)\n",
    "m = 40/5000\n",
    "\n",
    "mses = []\n",
    "for b in bs:\n",
    "    fhat = lambda X: b - m*X\n",
    "\n",
    "    yhat = fhat(cars_test.weight)\n",
    "\n",
    "    mse = ((cars_test.mpg - yhat)**2).mean()\n",
    "    mses.append( mse )"
   ]
  },
  {
   "cell_type": "code",
   "execution_count": 28,
   "metadata": {},
   "outputs": [
    {
     "data": {
      "text/plain": [
       "Text(0, 0.5, 'MSE')"
      ]
     },
     "execution_count": 28,
     "metadata": {},
     "output_type": "execute_result"
    },
    {
     "data": {
      "image/png": "[encoded data removed]",
      "text/plain": [
       "<Figure size 432x288 with 1 Axes>"
      ]
     },
     "metadata": {
      "needs_background": "light"
     },
     "output_type": "display_data"
    }
   ],
   "source": [
    "plt.plot( bs, mses )\n",
    "plt.xlabel(\"b parameter\")\n",
    "plt.ylabel(\"MSE\")"
   ]
  },
  {
   "cell_type": "markdown",
   "metadata": {},
   "source": [
    "At this point we could use the techniques of convex optimization to find the optimal $b$, or simply find the argmin:"
   ]
  },
  {
   "cell_type": "code",
   "execution_count": 29,
   "metadata": {},
   "outputs": [],
   "source": [
    "# best b parameter\n",
    "best_b = bs[ np.argmin(mses) ]"
   ]
  },
  {
   "cell_type": "code",
   "execution_count": 30,
   "metadata": {},
   "outputs": [],
   "source": [
    "m = 40/5000\n",
    "fhat = lambda X: best_b - m*X"
   ]
  },
  {
   "cell_type": "code",
   "execution_count": 31,
   "metadata": {},
   "outputs": [
    {
     "data": {
      "image/png": "[encoded data removed]",
      "text/plain": [
       "<Figure size 648x504 with 1 Axes>"
      ]
     },
     "metadata": {
      "needs_background": "light"
     },
     "output_type": "display_data"
    }
   ],
   "source": [
    "fig, ax = plt.subplots(figsize=(9,7))\n",
    "ax.scatter( cars_test.weight, cars_test.mpg, label=\"data\" )\n",
    "ax.set_xlabel(\"weight (lbs)\")\n",
    "ax.set_ylabel(\"fuel economy (mpg)\")\n",
    "ax.set_title(\"test set fuel economy data & predictive model\")\n",
    "\n",
    "weights = np.linspace(1500,5000)\n",
    "ax.plot( weights, fhat(weights), c=\"red\", label=\"model\" )\n",
    "ax.legend()\n",
    "\n",
    "for x_i, y_i in zip(cars_test.weight,cars_test.mpg):\n",
    "    plt.plot([x_i, x_i], [y_i, best_b-m*x_i], color='gray', linestyle='dashed')"
   ]
  },
  {
   "cell_type": "markdown",
   "metadata": {},
   "source": [
    "## Linear regression as linear algebra\n",
    "\n",
    "The intuitive model above \n",
    "\n",
    "$$\\hat{y_i} = b - m \\cdot x_i$$\n",
    "\n",
    "Is a reexpression of the basic one-dimensional linear equation\n",
    "\n",
    "$$\\hat{y_i} = mx_i + b$$\n",
    "\n",
    "We can express this as\n",
    "\n",
    "$$\\hat{y} = X\\beta$$\n",
    "\n",
    "where \n",
    "* $\\hat{y_i}$ is the ith item in $\\hat{y}$\n",
    "* $(x_i, 1)$ is the ith row in $X$\n",
    "* $\\beta$ is $(m,b)$\n",
    "\n",
    "This is a small notational convenience that will become a huge convenience soon.\n",
    "\n",
    "#### A fun exercise\n",
    "Show that the vector of parameter values $\\hat{\\beta}$ that minimizes the SSR in the general case is the solution to the matrix equation\n",
    "\n",
    "$$ X^T X \\beta = X^T y $$\n",
    " \n",
    "Which can also be written as $\\beta = (X^TX)^{-1}X^T y$\n",
    " \n",
    "Now we have a **closed-form solution for $\\beta$ that minimizes MSE**.\n",
    "\n",
    "Let's use it."
   ]
  },
  {
   "cell_type": "code",
   "execution_count": 32,
   "metadata": {},
   "outputs": [],
   "source": [
    "X = np.stack( [cars_train.weight.values, np.ones_like( cars_train.weight )] ).T\n",
    "y = cars_train.mpg.values"
   ]
  },
  {
   "cell_type": "code",
   "execution_count": 33,
   "metadata": {},
   "outputs": [
    {
     "data": {
      "text/plain": [
       "array([-7.72555665e-03,  4.64474768e+01])"
      ]
     },
     "execution_count": 33,
     "metadata": {},
     "output_type": "execute_result"
    }
   ],
   "source": [
    "beta = np.linalg.inv(X.T @ X) @ X.T @ y\n",
    "beta"
   ]
  },
  {
   "cell_type": "code",
   "execution_count": 34,
   "metadata": {},
   "outputs": [],
   "source": [
    "m, b = beta\n",
    "fhat = lambda X: m*X + b"
   ]
  },
  {
   "cell_type": "code",
   "execution_count": 35,
   "metadata": {},
   "outputs": [
    {
     "data": {
      "image/png": "[encoded data removed]",
      "text/plain": [
       "<Figure size 648x504 with 1 Axes>"
      ]
     },
     "metadata": {
      "needs_background": "light"
     },
     "output_type": "display_data"
    }
   ],
   "source": [
    "fig, ax = plt.subplots(figsize=(9,7))\n",
    "ax.scatter( cars_test.weight, cars_test.mpg, label=\"data\" )\n",
    "ax.set_xlabel(\"weight (lbs)\")\n",
    "ax.set_ylabel(\"fuel economy (mpg)\")\n",
    "ax.set_title(\"test set fuel economy data & predictive model\")\n",
    "\n",
    "weights = np.linspace(1500,5000)\n",
    "ax.plot( weights, fhat(weights), c=\"red\", label=\"model\" )\n",
    "ax.legend()\n",
    "\n",
    "for x_i, y_i in zip(cars_test.weight,cars_test.mpg):\n",
    "    plt.plot([x_i, x_i], [y_i, m*x_i+b], color='gray', linestyle='dashed')"
   ]
  },
  {
   "cell_type": "code",
   "execution_count": 36,
   "metadata": {},
   "outputs": [
    {
     "data": {
      "text/plain": [
       "20.233704522903235"
      ]
     },
     "execution_count": 36,
     "metadata": {},
     "output_type": "execute_result"
    }
   ],
   "source": [
    "yhat = fhat(cars_test.weight)\n",
    "mse = ((cars_test.mpg - yhat)**2).mean()\n",
    "mse"
   ]
  },
  {
   "cell_type": "markdown",
   "metadata": {},
   "source": [
    "Stunning success!"
   ]
  },
  {
   "cell_type": "markdown",
   "metadata": {},
   "source": [
    "## Linear regression on multiple predictors\n",
    "\n",
    "As a notational convenience I coined:\n",
    "\n",
    "$$\\hat{y} = X\\beta$$\n",
    "\n",
    "We can generalize $X$ to a n by p+1 matrix, where row i corresponds to the ith sample, and column j corresponds to the jth predictor. Likewise $\\beta$ is a vector of length p+1.\n",
    "\n",
    "If we crack this open, it expands to:\n",
    "\n",
    "$$ \\hat{y_i} = \\beta_0 \\cdot 1 + \\beta_1x_{i,1} + \\beta_2x_{i,2} + ... + \\beta_px_{i,p} $$\n",
    "\n",
    "For example, \n",
    "* 0th column would be all 1s, \n",
    "* the 1st column of X holds the car weight, \n",
    "* the 2st column of X holds the cylinder displacement.\n",
    "\n",
    "In this case the semantics of $\\beta$ is:\n",
    "* $\\beta_0$ is the \"base\" car mpg\n",
    "* $\\beta_1$ is the mpg penalty for each pound of car\n",
    "* $\\beta_1$ is the mpg penalty for each cc of engine displacement\n",
    "\n",
    "Let's trust the math and try it:"
   ]
  },
  {
   "cell_type": "code",
   "execution_count": 49,
   "metadata": {},
   "outputs": [],
   "source": [
    "X = np.stack( [np.ones_like( cars_train.weight ),\n",
    "               cars_train.weight.values, \n",
    "               cars_train.displacement.values] ).T\n",
    "y = cars_train.mpg.values"
   ]
  },
  {
   "cell_type": "code",
   "execution_count": 50,
   "metadata": {},
   "outputs": [
    {
     "data": {
      "text/plain": [
       "array([ 4.45024213e+01, -6.20848786e-03, -1.32975132e-02])"
      ]
     },
     "execution_count": 50,
     "metadata": {},
     "output_type": "execute_result"
    }
   ],
   "source": [
    "beta = np.linalg.inv(X.T @ X) @ X.T @ y\n",
    "beta"
   ]
  },
  {
   "cell_type": "code",
   "execution_count": 51,
   "metadata": {},
   "outputs": [],
   "source": [
    "X_test = np.stack( [np.ones_like( cars_test.weight ),\n",
    "               cars_test.weight.values, \n",
    "               cars_test.displacement.values] ).T\n",
    "y_test = cars_test.mpg.values"
   ]
  },
  {
   "cell_type": "code",
   "execution_count": 52,
   "metadata": {},
   "outputs": [
    {
     "data": {
      "text/plain": [
       "19.394298320210208"
      ]
     },
     "execution_count": 52,
     "metadata": {},
     "output_type": "execute_result"
    }
   ],
   "source": [
    "((X_test @ beta - y_test)**2).mean()"
   ]
  },
  {
   "cell_type": "markdown",
   "metadata": {},
   "source": [
    "A small improvement!"
   ]
  },
  {
   "cell_type": "markdown",
   "metadata": {},
   "source": [
    "## Linear regression using categorical predictors\n",
    "\n"
   ]
  },
  {
   "cell_type": "markdown",
   "metadata": {},
   "source": [
    "## Engineered features: making curves out of straight lines"
   ]
  },
  {
   "cell_type": "markdown",
   "metadata": {},
   "source": [
    "## Cross-validation for hyperparameter selection"
   ]
  },
  {
   "cell_type": "markdown",
   "metadata": {},
   "source": [
    "## In practice: linear regression in sklearn"
   ]
  },
  {
   "cell_type": "code",
   "execution_count": null,
   "metadata": {},
   "outputs": [],
   "source": []
  }
 ],
 "metadata": {
  "kernelspec": {
   "display_name": "Python 3",
   "language": "python",
   "name": "python3"
  },
  "language_info": {
   "codemirror_mode": {
    "name": "ipython",
    "version": 3
   },
   "file_extension": ".py",
   "mimetype": "text/x-python",
   "name": "python",
   "nbconvert_exporter": "python",
   "pygments_lexer": "ipython3",
   "version": "3.6.8"
  }
 },
 "nbformat": 4,
 "nbformat_minor": 2
}
