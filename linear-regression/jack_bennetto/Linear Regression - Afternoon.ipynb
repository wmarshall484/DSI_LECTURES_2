{
 "cells": [
  {
   "cell_type": "markdown",
   "metadata": {},
   "source": [
    "# Linear Regression\n",
    "### Jack Bennetto\n",
    "#### January 24, 2017\n"
   ]
  },
  {
   "cell_type": "markdown",
   "metadata": {},
   "source": [
    "## Objectives\n",
    "\n",
    " * State the assumptions of a linear-regression model\n",
    " * Estimate a linear-regression model\n",
    " * Evaluate a linear-regression model\n",
    " * Fix common problems that could compromise results"
   ]
  },
  {
   "cell_type": "markdown",
   "metadata": {},
   "source": [
    "## Agenda\n",
    "\n",
    "Morning\n",
    "\n",
    " * Introduction to regression\n",
    " * Simple linear regression\n",
    " * Multiple linear regression\n",
    " * Assumptions for linear regression\n",
    " \n",
    "Afternoon\n",
    "\n",
    " * Assessing accuracy and comparing models\n",
    " * Categorical variables"
   ]
  },
  {
   "cell_type": "code",
   "execution_count": null,
   "metadata": {
    "collapsed": true
   },
   "outputs": [],
   "source": [
    "%matplotlib inline\n",
    "import matplotlib.pyplot as plt\n",
    "import scipy.stats as scs\n",
    "import numpy as np\n",
    "from sklearn.linear_model import LinearRegression\n",
    "import pylab\n",
    "\n",
    "import statsmodels.api as sm\n",
    "\n",
    "from pandas.tools.plotting import scatter_matrix\n",
    "import sklearn"
   ]
  },
  {
   "cell_type": "code",
   "execution_count": null,
   "metadata": {
    "collapsed": false
   },
   "outputs": [],
   "source": [
    "n = 1000\n",
    "b0 = 5\n",
    "b1 = 0.4\n",
    "x = scs.uniform(0,10).rvs(n)\n",
    "y = b0 + b1*x + scs.norm(0,1).rvs(n)\n",
    "\n",
    "\n",
    "model = LinearRegression()\n",
    "model.fit(x.reshape(1000,1), y)\n",
    "\n",
    "b0hat = model.intercept_\n",
    "b1hat = model.coef_\n",
    "\n",
    "print \"b0hat = \",model.intercept_\n",
    "print \"b1hat = \",model.coef_[0]"
   ]
  },
  {
   "cell_type": "code",
   "execution_count": null,
   "metadata": {
    "collapsed": false
   },
   "outputs": [],
   "source": [
    "x_with_const = sm.add_constant(x)\n",
    "est = sm.OLS(y, x_with_const)\n",
    "est = est.fit()\n",
    "est.summary()"
   ]
  },
  {
   "cell_type": "markdown",
   "metadata": {},
   "source": [
    "## Comparing models\n",
    "\n",
    "The problem with RSS are\n",
    "\n",
    " * It's hard to interpret\n",
    "   * It's proporational to n\n",
    "   * It's in units of the response squared\n",
    "   \n",
    "   \n",
    "## $R^2$\n",
    "\n",
    "Unlike RSS, $R^2$ is unitless, ranging from 0 to 1. It represents the fraction of the variance that is explained by the model.\n",
    "\n",
    "$$R^2 = \\frac{1-RSS}{TSS}$$\n",
    "\n",
    "where RSS and TSS are given by\n",
    "\n",
    "$$RSS = \\sum_{i=1}^n (y_i - \\hat y_i)^2$$\n",
    "$$TSS = \\sum_{i=1}^n (y_i - \\bar y)^2$$\n",
    "\n",
    "\n",
    "\n",
    "In the case of a linear model, this is equal to the square of the correlation coefficient.\n",
    "\n",
    "## Adjusted $R^2$\n",
    "\n",
    "$$\\bar{R^2} = 1 - \\frac{(1 - R^2)(n - 1)}{n - p}$$\n",
    "\n",
    "where $n$ is number of data and p is the number of parameters to be fit.\n",
    "\n",
    "\n",
    "### AIC/BIC (Akaike/Bayesian Information Criterion)\n",
    "\n",
    "AIC and BIC are two metrics used to compare models of different complexity. In both cases, the the lower the value, the better the model.\n",
    "\n",
    "$$AIC = -2 \\ln(\\hat{\\cal L}) + 2p$$\n",
    "$$BIC = -2 \\ln(\\hat{\\cal L}) +ln(n)p$$\n",
    "\n",
    "Where $\\hat{\\cal L}$ is the likelihood of the fitted model producing the data, $p$ is the number of parameters fitted in the model, and $n$ is the number of data points. They are similar, but BIC penalizes complex models more heavily."
   ]
  },
  {
   "cell_type": "code",
   "execution_count": null,
   "metadata": {
    "collapsed": false
   },
   "outputs": [],
   "source": [
    "X = x.reshape(-1,1)\n",
    "# In sklearn LinearRegression, R^2 is the model score\n",
    "print \"R^2:\", model.score(X, y)\n",
    "\n",
    "# we can also calculate from as the unexplained variance\n",
    "rss = np.sum((y - model.predict(X))**2)\n",
    "tss = np.sum((y - np.mean(y))**2)\n",
    "print \"RSS: {}  TSS: {} R^2: {}\".format(rss, tss, 1-rss/tss)\n"
   ]
  },
  {
   "cell_type": "code",
   "execution_count": null,
   "metadata": {
    "collapsed": true
   },
   "outputs": [],
   "source": []
  },
  {
   "cell_type": "markdown",
   "metadata": {},
   "source": [
    "## Dummy variables\n",
    "\n",
    "When using catagorical features, create dummy variables.\n",
    "\n",
    "In the dataset below, the \"mode\" column labels the mode of travel taken, where \n",
    " 1. air\n",
    " 2. train\n",
    " 3. bus\n",
    " 4. car\n",
    "\n",
    "Can we use this for linear regression?\n"
   ]
  },
  {
   "cell_type": "code",
   "execution_count": null,
   "metadata": {
    "collapsed": false
   },
   "outputs": [],
   "source": [
    "travel_df = sm.datasets.modechoice.data.load_pandas().data"
   ]
  },
  {
   "cell_type": "code",
   "execution_count": null,
   "metadata": {
    "collapsed": false
   },
   "outputs": [],
   "source": [
    "travel_df.head()"
   ]
  },
  {
   "cell_type": "code",
   "execution_count": null,
   "metadata": {
    "collapsed": false
   },
   "outputs": [],
   "source": [
    "travel_df['mode'].value_counts()"
   ]
  },
  {
   "cell_type": "code",
   "execution_count": null,
   "metadata": {
    "collapsed": false
   },
   "outputs": [],
   "source": [
    "dummies = pd.get_dummies(travel_df['mode'])\n",
    "dummies.head()"
   ]
  },
  {
   "cell_type": "code",
   "execution_count": null,
   "metadata": {
    "collapsed": false
   },
   "outputs": [],
   "source": [
    "dummies.columns = 'air train bus car'.split()\n",
    "dummies.head()"
   ]
  },
  {
   "cell_type": "code",
   "execution_count": null,
   "metadata": {
    "collapsed": false
   },
   "outputs": [],
   "source": [
    "dummies = dummies[[0,1,2]]\n",
    "travel_df = pd.concat((travel_df, dummies), axis=1)\n",
    "travel_df.head()"
   ]
  },
  {
   "cell_type": "code",
   "execution_count": null,
   "metadata": {
    "collapsed": true
   },
   "outputs": [],
   "source": []
  }
 ],
 "metadata": {
  "kernelspec": {
   "display_name": "Python 2",
   "language": "python",
   "name": "python2"
  },
  "language_info": {
   "codemirror_mode": {
    "name": "ipython",
    "version": 2
   },
   "file_extension": ".py",
   "mimetype": "text/x-python",
   "name": "python",
   "nbconvert_exporter": "python",
   "pygments_lexer": "ipython2",
   "version": "2.7.12"
  }
 },
 "nbformat": 4,
 "nbformat_minor": 0
}
