{
 "cells": [
  {
   "cell_type": "markdown",
   "metadata": {},
   "source": [
    "# Linear Regression\n",
    "### Jack Bennetto\n",
    "#### January 24, 2017\n"
   ]
  },
  {
   "cell_type": "markdown",
   "metadata": {},
   "source": [
    "## Objectives\n",
    "\n",
    " * State the assumptions of a linear-regression model\n",
    " * Estimate a linear-regression model\n",
    " * Evaluate a linear-regression model\n",
    " * Fix common problems that could compromise results"
   ]
  },
  {
   "cell_type": "markdown",
   "metadata": {},
   "source": [
    "## Agenda\n",
    "\n",
    "Morning\n",
    "\n",
    " * Introduction to regression\n",
    " * Simple linear regression\n",
    " * Multiple linear regression\n",
    " * Assumptions for/limitations of linear regression\n",
    " \n",
    "Afternoon\n",
    "\n",
    " * Assessing accuracy and comparing models\n",
    " * Outliers\n",
    " * Categorical variables"
   ]
  },
  {
   "cell_type": "markdown",
   "metadata": {},
   "source": [
    "**Linear Regression** is\n",
    "\n",
    " * A *supervised* (as opposed to unsupervised, meaning that the features/covariate/independent variables/X fit to a label/outcome/target/dependent variable),\n",
    " * *regression* (as oppose to classification, meaning the target is numeric rather than catagorical), \n",
    " * *parametric* model (as opposed to nonparametric model, meaning that there are a known and relatively small number of model parameters to fit).\n",
    "\n",
    "Advantages:\n",
    " * Simple\n",
    " * Few hyper-parameters\n",
    " * Easy to explain\n",
    " * Interpretable\n",
    " * Fast\n",
    " \n",
    "Disadvantages:\n",
    " * Can't capture complex relationships without feature engineering\n",
    " * Relies on certain assumptions\n",
    " * Doesn't work if n < p\n",
    " * Vulnerable to outliers\n",
    " "
   ]
  },
  {
   "cell_type": "code",
   "execution_count": 227,
   "metadata": {
    "collapsed": true
   },
   "outputs": [],
   "source": [
    "%matplotlib inline\n",
    "import matplotlib.pyplot as plt\n",
    "import scipy.stats as scs\n",
    "import numpy as np\n",
    "from sklearn.linear_model import LinearRegression\n",
    "\n",
    "import statsmodels.api as sm"
   ]
  },
  {
   "cell_type": "markdown",
   "metadata": {},
   "source": [
    "## Simple linear regression\n",
    "\n",
    "The basic linear regression model is\n",
    "\n",
    "$$y = \\beta_0 + \\beta_1 X + \\epsilon$$\n",
    "\n",
    "where $\\beta_0$ and $\\beta_1$, the intercept and the slope, are unknown parameters, and the error term\n",
    "\n",
    "$$\\epsilon \\sim N(0, \\sigma)$$\n",
    "\n",
    "is i.i.d. (independent and identially distributed)."
   ]
  },
  {
   "cell_type": "code",
   "execution_count": 222,
   "metadata": {
    "collapsed": false
   },
   "outputs": [
    {
     "data": {
      "text/plain": [
       "[<matplotlib.lines.Line2D at 0x11a08bc10>]"
      ]
     },
     "execution_count": 222,
     "metadata": {},
     "output_type": "execute_result"
    },
    {
     "data": {
      "image/png": "[encoded data removed]",
      "text/plain": [
       "<matplotlib.figure.Figure at 0x11acccb90>"
      ]
     },
     "metadata": {},
     "output_type": "display_data"
    }
   ],
   "source": [
    "n = 50\n",
    "b0 = 5\n",
    "b1 = -0.4\n",
    "x = scs.uniform(0,10).rvs(n)\n",
    "y = b0 + b1*x + scs.norm(0,1).rvs(n)\n",
    "xmin = x.min()\n",
    "xmax = x.max()\n",
    "plt.plot(x, y, 'k.')\n",
    "plt.plot([xmin, xmax], [b0+b1*xmin, b0+b1*xmax], 'b-')"
   ]
  },
  {
   "cell_type": "markdown",
   "metadata": {},
   "source": [
    "...except we don't know $\\beta_0$ and $\\beta_1$, so we have to estimate them. We call these estimates $\\hat{\\beta_0}$ and $\\hat{\\beta_1}$, and $\\hat{y_i}$ are the estimated values for $y_i$ based on these coefficients.\n",
    "\n",
    "## Residuals\n",
    "\n",
    "The **residuals** are given by\n",
    "\n",
    "$$\\epsilon_i = y_i - \\hat{y_i}$$"
   ]
  },
  {
   "cell_type": "code",
   "execution_count": 223,
   "metadata": {
    "collapsed": false
   },
   "outputs": [
    {
     "data": {
      "image/png": "[encoded data removed]",
      "text/plain": [
       "<matplotlib.figure.Figure at 0x1189d5410>"
      ]
     },
     "metadata": {},
     "output_type": "display_data"
    }
   ],
   "source": [
    "plt.plot(x, y, 'k.')\n",
    "plt.plot(x, b0+b1*x, 'b-')\n",
    "for xi, yi in zip(x,y):\n",
    "    plt.plot([xi, xi], [yi, b0 + b1*xi], 'r-')"
   ]
  },
  {
   "cell_type": "markdown",
   "metadata": {},
   "source": [
    "We want to choose $\\beta_0$ and $\\beta_1$ such that these are small.\n",
    "\n",
    "The residual sum of squares (RSS) is given by\n",
    "\n",
    "$$\\begin{align}\n",
    "RSS & = \\epsilon_1^2 + \\epsilon_2^2 + ... + \\epsilon_n^2 \\\\\n",
    "    & = \\sum_{i=1}^n (y_i - \\hat y_i)^2 \\\\\n",
    "    & = \\sum_{i=1}^n (y_i-\\hat \\beta_0-\\hat \\beta_1 x_i)^2\n",
    "\\end{align}\n",
    "$$\n",
    "\n",
    "Minimizing RSS gives\n",
    "\n",
    "$$\\begin{align}\n",
    "\\hat \\beta_0 & = \\bar{y} - \\hat \\beta_1 \\\\\n",
    "\\hat \\beta_1 & = \\frac{\\sum_{i=1}^n (x_i - \\bar{x})(y_i - \\bar{y})}{ \\sum_{i=1}^n (x_i - \\bar{x})^2 }\n",
    "\\end{align}$$\n",
    "\n",
    "This is maximum-likelihood estimate for the parameters, assuming a linear model with normal errors."
   ]
  },
  {
   "cell_type": "code",
   "execution_count": 224,
   "metadata": {
    "collapsed": false
   },
   "outputs": [
    {
     "data": {
      "text/plain": [
       "LinearRegression(copy_X=True, fit_intercept=True, n_jobs=1, normalize=False)"
      ]
     },
     "execution_count": 224,
     "metadata": {},
     "output_type": "execute_result"
    }
   ],
   "source": [
    "model = LinearRegression()\n",
    "model.fit(x.reshape(-1,1), y)"
   ]
  },
  {
   "cell_type": "code",
   "execution_count": 225,
   "metadata": {
    "collapsed": false
   },
   "outputs": [],
   "source": [
    "b0hat = model.intercept_\n",
    "b1hat = model.coef_"
   ]
  },
  {
   "cell_type": "code",
   "execution_count": 226,
   "metadata": {
    "collapsed": false
   },
   "outputs": [
    {
     "data": {
      "text/plain": [
       "[<matplotlib.lines.Line2D at 0x11a242d90>]"
      ]
     },
     "execution_count": 226,
     "metadata": {},
     "output_type": "execute_result"
    },
    {
     "data": {
      "image/png": "[encoded data removed]",
      "text/plain": [
       "<matplotlib.figure.Figure at 0x116b8fb90>"
      ]
     },
     "metadata": {},
     "output_type": "display_data"
    }
   ],
   "source": [
    "plt.plot(x, y, 'k.')\n",
    "plt.plot([xmin, xmax], [b0+b1*xmin, b0+b1*xmax], 'b-')\n",
    "plt.plot([xmin, xmax], [b0hat+b1hat*xmin, b0hat+b1hat*xmax], 'r-')"
   ]
  },
  {
   "cell_type": "markdown",
   "metadata": {},
   "source": [
    "## Multiple linear regression\n",
    "\n",
    "We usually have more features. In this case the model becomes\n",
    "\n",
    "$$Y = \\beta_0 + \\beta_1 X_1 + \\beta_2 X_2 + ... \\beta_p X_p + \\epsilon$$\n",
    "\n",
    "where again\n",
    "\n",
    "$$\\epsilon \\sim N(0, \\sigma)$$\n",
    "\n",
    "And again, we find the best-fit $\\beta$\n",
    "\n",
    "$$\\begin{align}\n",
    "\\hat y & = \\hat \\beta_0 + \\hat \\beta_1 X_1 + \\hat \\beta_2 X_2 + ... \\hat \\beta_p X_p \\\\\n",
    "       & = X^T \\beta\n",
    "\\end{align}$$\n"
   ]
  },
  {
   "cell_type": "code",
   "execution_count": null,
   "metadata": {
    "collapsed": true
   },
   "outputs": [],
   "source": []
  },
  {
   "cell_type": "markdown",
   "metadata": {},
   "source": [
    "## The assumptions of linear regression\n",
    "\n",
    "The **Gauss–Markov theorem** states that, if certain assumptions are true, then the best linear unbiased estimator (BLUE) is given by ordinary least squares.\n",
    " * Linearity\n",
    " * Full rank\n",
    " * Exogeneity of regressors\n",
    " * Spherical errors\n",
    "     * Homoscedastic\n",
    "     * No autocorrelation\n",
    "     \n",
    "### Linearity\n",
    "\n",
    "The main assumption of linear regression. What's an example of a non-linear relationship?\n",
    "\n",
    "### Full rank\n",
    "\n",
    "The various features that make up $X$ must be lineararly independent. If not, we need to drop one or more of them.\n",
    "\n",
    "In practice, that's generally true, but partial multicollinearity has a cost.\n",
    "\n",
    "The variable inflation factor is measure of how the variance of parameter estimates are affected by additional variables.\n",
    "\n",
    "### Exogeneity\n",
    "\n",
    "Exogeneity assumes that the features are uncorrelated with the errors, i.e., $\\mathbb E[x_i \\epsilon_i] = 0$\n",
    "\n",
    "Endogeneity could arise because:\n",
    " * measurement error correlates with the features (e.g., if one class of people  underreports their income)\n",
    " * an unobserved variable correlates with the features, e.g.\n",
    "\n",
    "$$income_i = \\beta_0 + \\beta_{educ} educ_i + \\epsilon_i$$\n",
    "\n",
    "\n",
    "### Spherical errors\n",
    "\n",
    "That is, the variance of the errors in sample space is spherically symmetric.\n",
    "\n",
    "This is usually seen as having two parts. First, that there is no autocorrelation: the errors at one point are uncorrelated with those at another. We'll revisit this when we talk about time series.\n",
    "\n",
    "Second, the errors are homoscedastic, i.e., that the variance is uncorrelated with the features. Often heteroscedasticity can be fixed by transforming the data. The Goldfeld-Quandt test evaluates this.\n",
    "\n",
    "### Normal distribution of residuals\n",
    "\n",
    "#### Q-Q plots\n",
    "\n",
    "Quantile-quantile plots are used to compare two distributions to determine if points at the same quantiles fall the same relative distance from the mean. Plotting against a normal distribution is a good way to test for normality."
   ]
  },
  {
   "cell_type": "code",
   "execution_count": 203,
   "metadata": {
    "collapsed": true
   },
   "outputs": [],
   "source": [
    "def qq_plot(actual, label, ax0):\n",
    "    base = scs.norm(0,1)\n",
    "    actual = sorted(actual)\n",
    "    theoretical = base.ppf(np.arange(len(actual))/float(len(actual)))\n",
    "    ax0.plot(theoretical, actual, '.')"
   ]
  },
  {
   "cell_type": "code",
   "execution_count": 205,
   "metadata": {
    "collapsed": false
   },
   "outputs": [
    {
     "data": {
      "image/png": "[encoded data removed]",
      "text/plain": [
       "<matplotlib.figure.Figure at 0x11ad23490>"
      ]
     },
     "metadata": {},
     "output_type": "display_data"
    }
   ],
   "source": [
    "fig, axes = plt.subplots(3,2, figsize=(6,8))\n",
    "for i, dist in zip(range(0,3),\n",
    "                   [scs.norm(0,1), scs.gamma(2,1), scs.uniform(0,1)]):\n",
    "    data = dist.rvs(size=10000)\n",
    "    qq_plot(data, \"foo\", axes[i][0])\n",
    "    axes[i][1].hist(data, bins=50)"
   ]
  }
 ],
 "metadata": {
  "kernelspec": {
   "display_name": "Python 2",
   "language": "python",
   "name": "python2"
  },
  "language_info": {
   "codemirror_mode": {
    "name": "ipython",
    "version": 2
   },
   "file_extension": ".py",
   "mimetype": "text/x-python",
   "name": "python",
   "nbconvert_exporter": "python",
   "pygments_lexer": "ipython2",
   "version": "2.7.12"
  }
 },
 "nbformat": 4,
 "nbformat_minor": 0
}
