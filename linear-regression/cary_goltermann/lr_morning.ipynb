{
 "cells": [
  {
   "cell_type": "markdown",
   "metadata": {
    "nbpresent": {
     "id": "52ce26f3-3de8-41ac-83bb-971e2325e85c"
    },
    "slideshow": {
     "slide_type": "slide"
    }
   },
   "source": [
    "# Linear Regression\n",
    "\n",
    "## Fitting a Line to Data\n",
    "\n",
    "#### Cary Goltermann"
   ]
  },
  {
   "cell_type": "markdown",
   "metadata": {
    "nbpresent": {
     "id": "f46f2d18-c938-48fc-b93d-2a99b2ba9e0e"
    },
    "slideshow": {
     "slide_type": "subslide"
    }
   },
   "source": [
    "### Objectives\n",
    "By the end of the lesson you will be able to answer:\n",
    "* Why is it called **Linear** Regression?\n",
    "* How do we choose the \"best\" line?\n",
    "* How do we evaluate our model?\n",
    "* What hypothesis are we testing in Linear Regression?\n",
    "* How do we interpret statsmodel output?\n",
    "* What are the assumptions of Linear Regression?\n",
    "* How do we verify that the assumptions are met by our model?\n",
    "* How do we compare linear models to each other?"
   ]
  },
  {
   "cell_type": "markdown",
   "metadata": {
    "slideshow": {
     "slide_type": "slide"
    }
   },
   "source": [
    "# Linear Regression Overview\n",
    "### Fitting a line\n",
    "### Linear relationships, Exact vs Inexact\n",
    "### Where do we put the line?"
   ]
  },
  {
   "cell_type": "markdown",
   "metadata": {
    "slideshow": {
     "slide_type": "subslide"
    }
   },
   "source": [
    "# Linear Regression Overview\n",
    "### Linear relationships, Exact vs Inexact\n",
    "<img src=\"images/exact.png\" width=\"400px\" style=\"float: left\"></img>\n",
    "<img src=\"images/inexact.png\" width=\"450px\" style=\"float: left\"></img>"
   ]
  },
  {
   "cell_type": "markdown",
   "metadata": {
    "slideshow": {
     "slide_type": "slide"
    }
   },
   "source": [
    "# Choosing a Line\n",
    "\n",
    "<center><img src=\"images/line_placement.png\" width=\"580px\"></img></center>\n"
   ]
  },
  {
   "cell_type": "markdown",
   "metadata": {
    "slideshow": {
     "slide_type": "subslide"
    }
   },
   "source": [
    "### Line Questions (2 mins):\n",
    "* How many possible lines are there that can \"fit\" the data?\n",
    "* How do we determine the best line of all these?\n",
    "* Sum of errors?"
   ]
  },
  {
   "cell_type": "markdown",
   "metadata": {
    "slideshow": {
     "slide_type": "slide"
    }
   },
   "source": [
    "# Expressing our model\n",
    "## Simple (Bivariate) Linear Regression\n",
    "* What you're presuming the world looks like:\n",
    "    $$ y = \\beta_0 + \\beta_1 x + \\epsilon $$\n",
    "<br>\n",
    "* $\\beta_0$ and $\\beta_1$ are unknown constants that represent the intercept and slope\n",
    "* $\\epsilon$, the error term, is i.i.d $N(0, \\sigma^2)$"
   ]
  },
  {
   "cell_type": "markdown",
   "metadata": {
    "slideshow": {
     "slide_type": "subslide"
    }
   },
   "source": [
    "* The Linear Model: what you've created from data to estimate the world:\n",
    "    $$ \\hat{y} = \\hat{\\beta_0} + \\hat{\\beta_1}x $$\n",
    "<br> \n",
    "* $\\hat{\\beta_0}$ and $\\hat{\\beta_1}$ are model coefficient estimates\n",
    "* $\\hat{y}$ indicates the prediction of $y$ based on $X=x$"
   ]
  },
  {
   "cell_type": "markdown",
   "metadata": {
    "slideshow": {
     "slide_type": "slide"
    }
   },
   "source": [
    "# Expressing our model\n",
    "## Multiple Linear Regression\n",
    "* Model in matrix form\n",
    "\n",
    "<center><img src=\"images/matrix_form.png\" width=\"500px\"></img></center>\n",
    "\n"
   ]
  },
  {
   "cell_type": "markdown",
   "metadata": {
    "slideshow": {
     "slide_type": "subslide"
    }
   },
   "source": [
    "* Design Matrix $X$\n",
    "<img src=\"images/design_matrix.png\" width=\"800px\"></img>\n",
    "* Coefficient Matrix $\\beta$\n",
    "<img src=\"images/coefficient_matrix.png\" width=\"800px\"></img>"
   ]
  },
  {
   "cell_type": "markdown",
   "metadata": {
    "slideshow": {
     "slide_type": "slide"
    }
   },
   "source": [
    "# Assessing Model Fit\n",
    "### RSS\n",
    "$RSS = SSE = \\sum_{i=1}^{n}{(y_i - \\hat{y_i})^2}$\n",
    "* How far off were we? Squared.\n",
    "* In units of dependent variable."
   ]
  },
  {
   "cell_type": "markdown",
   "metadata": {
    "slideshow": {
     "slide_type": "subslide"
    }
   },
   "source": [
    "### RSE (aka  RMSE)\n",
    "$RSE = RMSE = \\sqrt{\\frac{RSS}{n - p - 1}} = \\sqrt{\\frac{\\sum_{i=1}^{n}{(y_i - \\hat{y_i})^2}}{n - p - 1}}$\n",
    "* How far off were we, on average, controlling for degrees of freedom lost?\n",
    "* Similarly, we have the standard error (biased or not depending on DOF), $s.e. = \\frac{\\sum_{i=1}^{n}{(y_i - \\hat{y_i})^2}}{n - p - 1}$"
   ]
  },
  {
   "cell_type": "markdown",
   "metadata": {
    "slideshow": {
     "slide_type": "subslide"
    }
   },
   "source": [
    "### Types of Fit\n",
    "Can have the same line but different fit.\n",
    "<center><img src=\"images/tight_loose_fit.png\" width=\"900px\"></img></center>"
   ]
  },
  {
   "cell_type": "markdown",
   "metadata": {
    "slideshow": {
     "slide_type": "subslide"
    }
   },
   "source": [
    "### $R^2$: Coefficient of Determination\n",
    "\n",
    "$$ R^2 = 1 - FUV = 1 - \\frac{Unexplained}{TSS} = \\frac{Explained}{TSS} $$\n",
    "\n",
    "* Fraction unexplained variance, $FUV$\n",
    "* Total sum of square deviations, $TSS$: $\\sum_{i=1}^{n}(y_1 - \\bar{y})^2$\n",
    "* Explained/Regression sum of square deviations, $(E/R)SS$: $\\sum_{i=1}^{n}(\\hat{y_1} - \\bar{y})^2$\n",
    "* Error/Residual sum of square deviations, $(E/R)SS$: $\\sum_{i=1}^{n}(y_1 - \\hat{y_1})^2$\n",
    "* $TSS = Explained + Unexplained$"
   ]
  },
  {
   "cell_type": "markdown",
   "metadata": {
    "slideshow": {
     "slide_type": "subslide"
    }
   },
   "source": [
    "### Deviations: Visually\n",
    "<center><img src=\"images/rss.png\" width=\"600px\"></img><center>"
   ]
  },
  {
   "cell_type": "markdown",
   "metadata": {
    "slideshow": {
     "slide_type": "subslide"
    }
   },
   "source": [
    "### $R^2$: Visually\n",
    "<img src=\"images/r2_1.png\" width=\"350px\" style=\"float: left\"></img>\n",
    "<img src=\"images/r2_0_line.png\" width=\"320px\" style=\"float: left\"></img>\n",
    "<img src=\"images/r2_0_quad.png\" width=\"350px\" style=\"float: left\"></img>"
   ]
  },
  {
   "cell_type": "markdown",
   "metadata": {
    "slideshow": {
     "slide_type": "subslide"
    }
   },
   "source": [
    "* Notes on images:\n",
    "    * We can have two lines with the same slope and intercept, each of which is the best fit line, and they can still be differently \"good\" fits if the data is spread out\n",
    "    * If we didn't have a model, we would just predict the mean, so that's what we compare ourselves against to see how good our model is\n",
    "    * We could have data that clearly has a signal but a low $R^2$ if we aren't properly modeling it; low $R^2$ isn't necessarily grounds for concluding there's no signal"
   ]
  },
  {
   "cell_type": "markdown",
   "metadata": {
    "slideshow": {
     "slide_type": "slide"
    }
   },
   "source": [
    "### Hypothesis Testing Revisited\n",
    "\n",
    "Question: What are the parameters we are estimating in linear regression?"
   ]
  },
  {
   "cell_type": "markdown",
   "metadata": {
    "slideshow": {
     "slide_type": "fragment"
    }
   },
   "source": [
    "<center> Our beta coefficients </center>"
   ]
  },
  {
   "cell_type": "markdown",
   "metadata": {
    "slideshow": {
     "slide_type": "fragment"
    }
   },
   "source": [
    "Question: Given that we are estimating parameters, what do you think that our null and alternative hypotheses should be?"
   ]
  },
  {
   "cell_type": "markdown",
   "metadata": {
    "slideshow": {
     "slide_type": "fragment"
    }
   },
   "source": [
    "<center> $H_0: \\beta_1 = 0 \\qquad H_A: \\beta_1 \\ne 0 $ </center>"
   ]
  },
  {
   "cell_type": "markdown",
   "metadata": {
    "slideshow": {
     "slide_type": "slide"
    }
   },
   "source": [
    "# Interpreting Model Output\n",
    "\n",
    "### Using statsmodels\n"
   ]
  },
  {
   "cell_type": "code",
   "execution_count": 1,
   "metadata": {
    "slideshow": {
     "slide_type": "fragment"
    }
   },
   "outputs": [
    {
     "name": "stderr",
     "output_type": "stream",
     "text": [
      "/Users/Ultramann/anaconda3/envs/python2/lib/python2.7/site-packages/statsmodels/compat/pandas.py:56: FutureWarning: The pandas.core.datetools module is deprecated and will be removed in a future version. Please use the pandas.tseries module instead.\n",
      "  from pandas.core import datetools\n"
     ]
    }
   ],
   "source": [
    "import numpy as np\n",
    "import random\n",
    "import pandas as pd\n",
    "import statsmodels.api as sm\n",
    "import statsmodels.formula.api as smf\n",
    "from statsmodels.graphics.regressionplots import influence_plot\n",
    "import matplotlib.pyplot as plt\n",
    "%matplotlib inline"
   ]
  },
  {
   "cell_type": "code",
   "execution_count": 2,
   "metadata": {
    "scrolled": true,
    "slideshow": {
     "slide_type": "slide"
    }
   },
   "outputs": [
    {
     "data": {
      "text/html": [
       "<div>\n",
       "<style>\n",
       "    .dataframe thead tr:only-child th {\n",
       "        text-align: right;\n",
       "    }\n",
       "\n",
       "    .dataframe thead th {\n",
       "        text-align: left;\n",
       "    }\n",
       "\n",
       "    .dataframe tbody tr th {\n",
       "        vertical-align: top;\n",
       "    }\n",
       "</style>\n",
       "<table border=\"1\" class=\"dataframe\">\n",
       "  <thead>\n",
       "    <tr style=\"text-align: right;\">\n",
       "      <th></th>\n",
       "      <th>GNP.deflator</th>\n",
       "      <th>GNP</th>\n",
       "      <th>Unemployed</th>\n",
       "      <th>Armed.Forces</th>\n",
       "      <th>Population</th>\n",
       "      <th>Year</th>\n",
       "      <th>Employed</th>\n",
       "    </tr>\n",
       "  </thead>\n",
       "  <tbody>\n",
       "    <tr>\n",
       "      <th>1947</th>\n",
       "      <td>83.0</td>\n",
       "      <td>234.289</td>\n",
       "      <td>235.6</td>\n",
       "      <td>159.0</td>\n",
       "      <td>107.608</td>\n",
       "      <td>1947</td>\n",
       "      <td>60.323</td>\n",
       "    </tr>\n",
       "    <tr>\n",
       "      <th>1948</th>\n",
       "      <td>88.5</td>\n",
       "      <td>259.426</td>\n",
       "      <td>232.5</td>\n",
       "      <td>145.6</td>\n",
       "      <td>108.632</td>\n",
       "      <td>1948</td>\n",
       "      <td>61.122</td>\n",
       "    </tr>\n",
       "    <tr>\n",
       "      <th>1949</th>\n",
       "      <td>88.2</td>\n",
       "      <td>258.054</td>\n",
       "      <td>368.2</td>\n",
       "      <td>161.6</td>\n",
       "      <td>109.773</td>\n",
       "      <td>1949</td>\n",
       "      <td>60.171</td>\n",
       "    </tr>\n",
       "    <tr>\n",
       "      <th>1950</th>\n",
       "      <td>89.5</td>\n",
       "      <td>284.599</td>\n",
       "      <td>335.1</td>\n",
       "      <td>165.0</td>\n",
       "      <td>110.929</td>\n",
       "      <td>1950</td>\n",
       "      <td>61.187</td>\n",
       "    </tr>\n",
       "    <tr>\n",
       "      <th>1951</th>\n",
       "      <td>96.2</td>\n",
       "      <td>328.975</td>\n",
       "      <td>209.9</td>\n",
       "      <td>309.9</td>\n",
       "      <td>112.075</td>\n",
       "      <td>1951</td>\n",
       "      <td>63.221</td>\n",
       "    </tr>\n",
       "  </tbody>\n",
       "</table>\n",
       "</div>"
      ],
      "text/plain": [
       "      GNP.deflator      GNP  Unemployed  Armed.Forces  Population  Year  \\\n",
       "1947          83.0  234.289       235.6         159.0     107.608  1947   \n",
       "1948          88.5  259.426       232.5         145.6     108.632  1948   \n",
       "1949          88.2  258.054       368.2         161.6     109.773  1949   \n",
       "1950          89.5  284.599       335.1         165.0     110.929  1950   \n",
       "1951          96.2  328.975       209.9         309.9     112.075  1951   \n",
       "\n",
       "      Employed  \n",
       "1947    60.323  \n",
       "1948    61.122  \n",
       "1949    60.171  \n",
       "1950    61.187  \n",
       "1951    63.221  "
      ]
     },
     "execution_count": 2,
     "metadata": {},
     "output_type": "execute_result"
    }
   ],
   "source": [
    "df_gnp = pd.read_csv('http://vincentarelbundock.github.io/Rdatasets/csv/datasets/longley.csv', index_col=0)\n",
    "df_gnp.head()"
   ]
  },
  {
   "cell_type": "code",
   "execution_count": 3,
   "metadata": {
    "slideshow": {
     "slide_type": "subslide"
    }
   },
   "outputs": [
    {
     "data": {
      "text/html": [
       "<div>\n",
       "<style>\n",
       "    .dataframe thead tr:only-child th {\n",
       "        text-align: right;\n",
       "    }\n",
       "\n",
       "    .dataframe thead th {\n",
       "        text-align: left;\n",
       "    }\n",
       "\n",
       "    .dataframe tbody tr th {\n",
       "        vertical-align: top;\n",
       "    }\n",
       "</style>\n",
       "<table border=\"1\" class=\"dataframe\">\n",
       "  <thead>\n",
       "    <tr style=\"text-align: right;\">\n",
       "      <th></th>\n",
       "      <th>const</th>\n",
       "      <th>GNP</th>\n",
       "    </tr>\n",
       "  </thead>\n",
       "  <tbody>\n",
       "    <tr>\n",
       "      <th>1947</th>\n",
       "      <td>1.0</td>\n",
       "      <td>234.289</td>\n",
       "    </tr>\n",
       "    <tr>\n",
       "      <th>1948</th>\n",
       "      <td>1.0</td>\n",
       "      <td>259.426</td>\n",
       "    </tr>\n",
       "    <tr>\n",
       "      <th>1949</th>\n",
       "      <td>1.0</td>\n",
       "      <td>258.054</td>\n",
       "    </tr>\n",
       "    <tr>\n",
       "      <th>1950</th>\n",
       "      <td>1.0</td>\n",
       "      <td>284.599</td>\n",
       "    </tr>\n",
       "    <tr>\n",
       "      <th>1951</th>\n",
       "      <td>1.0</td>\n",
       "      <td>328.975</td>\n",
       "    </tr>\n",
       "  </tbody>\n",
       "</table>\n",
       "</div>"
      ],
      "text/plain": [
       "      const      GNP\n",
       "1947    1.0  234.289\n",
       "1948    1.0  259.426\n",
       "1949    1.0  258.054\n",
       "1950    1.0  284.599\n",
       "1951    1.0  328.975"
      ]
     },
     "execution_count": 3,
     "metadata": {},
     "output_type": "execute_result"
    }
   ],
   "source": [
    "X = df_gnp.GNP  # Set up our design matrix, X\n",
    "X = sm.add_constant(X)  # We need to manually add a constant, aka intercept, when working with statsmodels\n",
    "y = df_gnp.Employed # Set up our target, y\n",
    "X.head()"
   ]
  },
  {
   "cell_type": "code",
   "execution_count": 4,
   "metadata": {
    "slideshow": {
     "slide_type": "slide"
    }
   },
   "outputs": [
    {
     "name": "stderr",
     "output_type": "stream",
     "text": [
      "/Users/Ultramann/anaconda3/envs/python2/lib/python2.7/site-packages/scipy/stats/stats.py:1557: UserWarning: kurtosistest only valid for n>=20 ... continuing anyway, n=16\n",
      "  \"anyway, n=%i\" % int(n))\n"
     ]
    },
    {
     "data": {
      "text/html": [
       "<table class=\"simpletable\">\n",
       "<caption>OLS Regression Results</caption>\n",
       "<tr>\n",
       "  <th>Dep. Variable:</th>        <td>Employed</td>     <th>  R-squared:         </th> <td>   0.967</td>\n",
       "</tr>\n",
       "<tr>\n",
       "  <th>Model:</th>                   <td>OLS</td>       <th>  Adj. R-squared:    </th> <td>   0.965</td>\n",
       "</tr>\n",
       "<tr>\n",
       "  <th>Method:</th>             <td>Least Squares</td>  <th>  F-statistic:       </th> <td>   415.1</td>\n",
       "</tr>\n",
       "<tr>\n",
       "  <th>Date:</th>             <td>Wed, 05 Jul 2017</td> <th>  Prob (F-statistic):</th> <td>8.36e-12</td>\n",
       "</tr>\n",
       "<tr>\n",
       "  <th>Time:</th>                 <td>16:24:17</td>     <th>  Log-Likelihood:    </th> <td> -14.904</td>\n",
       "</tr>\n",
       "<tr>\n",
       "  <th>No. Observations:</th>      <td>    16</td>      <th>  AIC:               </th> <td>   33.81</td>\n",
       "</tr>\n",
       "<tr>\n",
       "  <th>Df Residuals:</th>          <td>    14</td>      <th>  BIC:               </th> <td>   35.35</td>\n",
       "</tr>\n",
       "<tr>\n",
       "  <th>Df Model:</th>              <td>     1</td>      <th>                     </th>     <td> </td>   \n",
       "</tr>\n",
       "<tr>\n",
       "  <th>Covariance Type:</th>      <td>nonrobust</td>    <th>                     </th>     <td> </td>   \n",
       "</tr>\n",
       "</table>\n",
       "<table class=\"simpletable\">\n",
       "<tr>\n",
       "    <td></td>       <th>coef</th>     <th>std err</th>      <th>t</th>      <th>P>|t|</th>  <th>[0.025</th>    <th>0.975]</th>  \n",
       "</tr>\n",
       "<tr>\n",
       "  <th>const</th> <td>   51.8436</td> <td>    0.681</td> <td>   76.087</td> <td> 0.000</td> <td>   50.382</td> <td>   53.305</td>\n",
       "</tr>\n",
       "<tr>\n",
       "  <th>GNP</th>   <td>    0.0348</td> <td>    0.002</td> <td>   20.374</td> <td> 0.000</td> <td>    0.031</td> <td>    0.038</td>\n",
       "</tr>\n",
       "</table>\n",
       "<table class=\"simpletable\">\n",
       "<tr>\n",
       "  <th>Omnibus:</th>       <td> 1.925</td> <th>  Durbin-Watson:     </th> <td>   1.619</td>\n",
       "</tr>\n",
       "<tr>\n",
       "  <th>Prob(Omnibus):</th> <td> 0.382</td> <th>  Jarque-Bera (JB):  </th> <td>   1.215</td>\n",
       "</tr>\n",
       "<tr>\n",
       "  <th>Skew:</th>          <td> 0.664</td> <th>  Prob(JB):          </th> <td>   0.545</td>\n",
       "</tr>\n",
       "<tr>\n",
       "  <th>Kurtosis:</th>      <td> 2.759</td> <th>  Cond. No.          </th> <td>1.66e+03</td>\n",
       "</tr>\n",
       "</table>"
      ],
      "text/plain": [
       "<class 'statsmodels.iolib.summary.Summary'>\n",
       "\"\"\"\n",
       "                            OLS Regression Results                            \n",
       "==============================================================================\n",
       "Dep. Variable:               Employed   R-squared:                       0.967\n",
       "Model:                            OLS   Adj. R-squared:                  0.965\n",
       "Method:                 Least Squares   F-statistic:                     415.1\n",
       "Date:                Wed, 05 Jul 2017   Prob (F-statistic):           8.36e-12\n",
       "Time:                        16:24:17   Log-Likelihood:                -14.904\n",
       "No. Observations:                  16   AIC:                             33.81\n",
       "Df Residuals:                      14   BIC:                             35.35\n",
       "Df Model:                           1                                         \n",
       "Covariance Type:            nonrobust                                         \n",
       "==============================================================================\n",
       "                 coef    std err          t      P>|t|      [0.025      0.975]\n",
       "------------------------------------------------------------------------------\n",
       "const         51.8436      0.681     76.087      0.000      50.382      53.305\n",
       "GNP            0.0348      0.002     20.374      0.000       0.031       0.038\n",
       "==============================================================================\n",
       "Omnibus:                        1.925   Durbin-Watson:                   1.619\n",
       "Prob(Omnibus):                  0.382   Jarque-Bera (JB):                1.215\n",
       "Skew:                           0.664   Prob(JB):                        0.545\n",
       "Kurtosis:                       2.759   Cond. No.                     1.66e+03\n",
       "==============================================================================\n",
       "\n",
       "Warnings:\n",
       "[1] Standard Errors assume that the covariance matrix of the errors is correctly specified.\n",
       "[2] The condition number is large, 1.66e+03. This might indicate that there are\n",
       "strong multicollinearity or other numerical problems.\n",
       "\"\"\""
      ]
     },
     "execution_count": 4,
     "metadata": {},
     "output_type": "execute_result"
    }
   ],
   "source": [
    "est = sm.OLS(y, X)\n",
    "est = est.fit()\n",
    "est.summary() "
   ]
  },
  {
   "cell_type": "markdown",
   "metadata": {
    "slideshow": {
     "slide_type": "fragment"
    }
   },
   "source": [
    "## Let's not look at all of this output yet, focus on the middle part"
   ]
  },
  {
   "cell_type": "code",
   "execution_count": 5,
   "metadata": {
    "collapsed": true,
    "scrolled": false,
    "slideshow": {
     "slide_type": "slide"
    }
   },
   "outputs": [],
   "source": [
    "# a utility function to only show the coefficient section of summary\n",
    "from IPython.core.display import HTML\n",
    "\n",
    "def short_summary(est, part):\n",
    "    return HTML(est.summary().tables[part].as_html())"
   ]
  },
  {
   "cell_type": "code",
   "execution_count": 6,
   "metadata": {
    "slideshow": {
     "slide_type": "subslide"
    }
   },
   "outputs": [
    {
     "data": {
      "text/html": [
       "<table class=\"simpletable\">\n",
       "<tr>\n",
       "    <td></td>       <th>coef</th>     <th>std err</th>      <th>t</th>      <th>P>|t|</th>  <th>[0.025</th>    <th>0.975]</th>  \n",
       "</tr>\n",
       "<tr>\n",
       "  <th>const</th> <td>   51.8436</td> <td>    0.681</td> <td>   76.087</td> <td> 0.000</td> <td>   50.382</td> <td>   53.305</td>\n",
       "</tr>\n",
       "<tr>\n",
       "  <th>GNP</th>   <td>    0.0348</td> <td>    0.002</td> <td>   20.374</td> <td> 0.000</td> <td>    0.031</td> <td>    0.038</td>\n",
       "</tr>\n",
       "</table>"
      ],
      "text/plain": [
       "<IPython.core.display.HTML object>"
      ]
     },
     "execution_count": 6,
     "metadata": {},
     "output_type": "execute_result"
    }
   ],
   "source": [
    "short_summary(est, 1)"
   ]
  },
  {
   "cell_type": "markdown",
   "metadata": {
    "slideshow": {
     "slide_type": "fragment"
    }
   },
   "source": [
    "Talking points on short summary:\n",
    "* Constant, GNP coefficients\n",
    "    * Sanity check - do they point the right direction\n",
    "    * Rough magnitude check (if you have a sense)\n",
    "* Are the p values significant\n",
    "* Confidence intervals, is 0 in the interval?"
   ]
  },
  {
   "cell_type": "markdown",
   "metadata": {
    "slideshow": {
     "slide_type": "slide"
    }
   },
   "source": [
    "# Now let's look at the full summary"
   ]
  },
  {
   "cell_type": "code",
   "execution_count": 7,
   "metadata": {
    "slideshow": {
     "slide_type": "fragment"
    }
   },
   "outputs": [
    {
     "data": {
      "text/html": [
       "<table class=\"simpletable\">\n",
       "<caption>OLS Regression Results</caption>\n",
       "<tr>\n",
       "  <th>Dep. Variable:</th>        <td>Employed</td>     <th>  R-squared:         </th> <td>   0.967</td>\n",
       "</tr>\n",
       "<tr>\n",
       "  <th>Model:</th>                   <td>OLS</td>       <th>  Adj. R-squared:    </th> <td>   0.965</td>\n",
       "</tr>\n",
       "<tr>\n",
       "  <th>Method:</th>             <td>Least Squares</td>  <th>  F-statistic:       </th> <td>   415.1</td>\n",
       "</tr>\n",
       "<tr>\n",
       "  <th>Date:</th>             <td>Wed, 05 Jul 2017</td> <th>  Prob (F-statistic):</th> <td>8.36e-12</td>\n",
       "</tr>\n",
       "<tr>\n",
       "  <th>Time:</th>                 <td>16:24:17</td>     <th>  Log-Likelihood:    </th> <td> -14.904</td>\n",
       "</tr>\n",
       "<tr>\n",
       "  <th>No. Observations:</th>      <td>    16</td>      <th>  AIC:               </th> <td>   33.81</td>\n",
       "</tr>\n",
       "<tr>\n",
       "  <th>Df Residuals:</th>          <td>    14</td>      <th>  BIC:               </th> <td>   35.35</td>\n",
       "</tr>\n",
       "<tr>\n",
       "  <th>Df Model:</th>              <td>     1</td>      <th>                     </th>     <td> </td>   \n",
       "</tr>\n",
       "<tr>\n",
       "  <th>Covariance Type:</th>      <td>nonrobust</td>    <th>                     </th>     <td> </td>   \n",
       "</tr>\n",
       "</table>\n",
       "<table class=\"simpletable\">\n",
       "<tr>\n",
       "    <td></td>       <th>coef</th>     <th>std err</th>      <th>t</th>      <th>P>|t|</th>  <th>[0.025</th>    <th>0.975]</th>  \n",
       "</tr>\n",
       "<tr>\n",
       "  <th>const</th> <td>   51.8436</td> <td>    0.681</td> <td>   76.087</td> <td> 0.000</td> <td>   50.382</td> <td>   53.305</td>\n",
       "</tr>\n",
       "<tr>\n",
       "  <th>GNP</th>   <td>    0.0348</td> <td>    0.002</td> <td>   20.374</td> <td> 0.000</td> <td>    0.031</td> <td>    0.038</td>\n",
       "</tr>\n",
       "</table>\n",
       "<table class=\"simpletable\">\n",
       "<tr>\n",
       "  <th>Omnibus:</th>       <td> 1.925</td> <th>  Durbin-Watson:     </th> <td>   1.619</td>\n",
       "</tr>\n",
       "<tr>\n",
       "  <th>Prob(Omnibus):</th> <td> 0.382</td> <th>  Jarque-Bera (JB):  </th> <td>   1.215</td>\n",
       "</tr>\n",
       "<tr>\n",
       "  <th>Skew:</th>          <td> 0.664</td> <th>  Prob(JB):          </th> <td>   0.545</td>\n",
       "</tr>\n",
       "<tr>\n",
       "  <th>Kurtosis:</th>      <td> 2.759</td> <th>  Cond. No.          </th> <td>1.66e+03</td>\n",
       "</tr>\n",
       "</table>"
      ],
      "text/plain": [
       "<class 'statsmodels.iolib.summary.Summary'>\n",
       "\"\"\"\n",
       "                            OLS Regression Results                            \n",
       "==============================================================================\n",
       "Dep. Variable:               Employed   R-squared:                       0.967\n",
       "Model:                            OLS   Adj. R-squared:                  0.965\n",
       "Method:                 Least Squares   F-statistic:                     415.1\n",
       "Date:                Wed, 05 Jul 2017   Prob (F-statistic):           8.36e-12\n",
       "Time:                        16:24:17   Log-Likelihood:                -14.904\n",
       "No. Observations:                  16   AIC:                             33.81\n",
       "Df Residuals:                      14   BIC:                             35.35\n",
       "Df Model:                           1                                         \n",
       "Covariance Type:            nonrobust                                         \n",
       "==============================================================================\n",
       "                 coef    std err          t      P>|t|      [0.025      0.975]\n",
       "------------------------------------------------------------------------------\n",
       "const         51.8436      0.681     76.087      0.000      50.382      53.305\n",
       "GNP            0.0348      0.002     20.374      0.000       0.031       0.038\n",
       "==============================================================================\n",
       "Omnibus:                        1.925   Durbin-Watson:                   1.619\n",
       "Prob(Omnibus):                  0.382   Jarque-Bera (JB):                1.215\n",
       "Skew:                           0.664   Prob(JB):                        0.545\n",
       "Kurtosis:                       2.759   Cond. No.                     1.66e+03\n",
       "==============================================================================\n",
       "\n",
       "Warnings:\n",
       "[1] Standard Errors assume that the covariance matrix of the errors is correctly specified.\n",
       "[2] The condition number is large, 1.66e+03. This might indicate that there are\n",
       "strong multicollinearity or other numerical problems.\n",
       "\"\"\""
      ]
     },
     "execution_count": 7,
     "metadata": {},
     "output_type": "execute_result"
    }
   ],
   "source": [
    "est.summary()"
   ]
  },
  {
   "cell_type": "markdown",
   "metadata": {
    "slideshow": {
     "slide_type": "slide"
    }
   },
   "source": [
    "## Let's plot this model"
   ]
  },
  {
   "cell_type": "code",
   "execution_count": 8,
   "metadata": {
    "collapsed": true,
    "slideshow": {
     "slide_type": "subslide"
    }
   },
   "outputs": [],
   "source": [
    "# We pick 100 hundred points equally spaced from the min to the max\n",
    "X_prime = np.linspace(X.GNP.min(), X.GNP.max(), 100)[:, np.newaxis]\n",
    "X_prime = sm.add_constant(X_prime)  # add constant as we did before\n",
    "\n",
    "# Now we calculate the predicted values\n",
    "y_hat = est.predict(X_prime)"
   ]
  },
  {
   "cell_type": "code",
   "execution_count": 9,
   "metadata": {
    "slideshow": {
     "slide_type": "slide"
    }
   },
   "outputs": [
    {
     "data": {
      "text/plain": [
       "[<matplotlib.lines.Line2D at 0x1135342d0>]"
      ]
     },
     "execution_count": 9,
     "metadata": {},
     "output_type": "execute_result"
    },
    {
     "data": {
      "image/png": "[encoded data removed]",
      "text/plain": [
       "<matplotlib.figure.Figure at 0x113534790>"
      ]
     },
     "metadata": {},
     "output_type": "display_data"
    }
   ],
   "source": [
    "plt.scatter(X.GNP, y, alpha=0.3)  # Plot the raw data\n",
    "plt.xlabel(\"Gross National Product\")\n",
    "plt.ylabel(\"Total Employment\")\n",
    "plt.plot(X_prime[:, 1], y_hat, 'r', alpha=0.9)  # Add the regression line, colored in red"
   ]
  },
  {
   "cell_type": "markdown",
   "metadata": {
    "nbpresent": {
     "id": "44f566e4-975c-4dd9-bf74-e18c516385e3"
    },
    "slideshow": {
     "slide_type": "slide"
    }
   },
   "source": [
    "### Assumptions of Linear Regression\n",
    "\n",
    "* Linearity\n",
    "* Normality of Errors\n",
    "* Constant Variance of Errors (Homoscedasticity)\n",
    "* Independence of Errors\n",
    "* Lack of Multicollinearity\n",
    "        \n",
    "We can't always meet these assumptions, and often have to find ways to combat that reality."
   ]
  },
  {
   "cell_type": "markdown",
   "metadata": {
    "slideshow": {
     "slide_type": "slide"
    }
   },
   "source": [
    "### Checking Normality of Residuals\n",
    "\n",
    "* Can plot a historgram and eyeball if it looks normal.\n",
    "    * This method is slightly prone to error.\n",
    "* Can plot a quantile-qualtile plot, more next slide.\n",
    "* Can use one of many statistcal tests:\n",
    "    * Jarque–Bera test\n",
    "    * Shapiro–Wilk test\n",
    "    * Kologorov-Sinfov test\n",
    "* In practice one would use many of these, both visual and statistical to determine normality of errors."
   ]
  },
  {
   "cell_type": "markdown",
   "metadata": {
    "slideshow": {
     "slide_type": "subslide"
    }
   },
   "source": [
    "### QQ Plots\n",
    "Compares the empirical quantiles from a model's rediduals to those that would occur in a true normal distribution\n",
    "<center><img src=\"images/qq.png\" width=\"400px\"></img></center>\n",
    "Watch this: https://www.youtube.com/watch?v=X9_ISJ0YpGw"
   ]
  },
  {
   "cell_type": "markdown",
   "metadata": {
    "slideshow": {
     "slide_type": "slide"
    }
   },
   "source": [
    "# Analyzing Residuals\n",
    "\n",
    "### Many of the assumptions of linear regression can be checked for a model by looking at it's residuals.\n",
    "\n",
    "### Let's look at some residual plots thinking about the assumptions."
   ]
  },
  {
   "cell_type": "markdown",
   "metadata": {
    "slideshow": {
     "slide_type": "subslide"
    }
   },
   "source": [
    "<center><img src=\"images/res_a.png\" width=\"400px\"></img></center>\n",
    "<center>$\\hat{y}$</center>"
   ]
  },
  {
   "cell_type": "markdown",
   "metadata": {
    "slideshow": {
     "slide_type": "skip"
    }
   },
   "source": [
    "Notes: good residual plot, look normal, independent and constant."
   ]
  },
  {
   "cell_type": "markdown",
   "metadata": {
    "slideshow": {
     "slide_type": "subslide"
    }
   },
   "source": [
    "<center><img src=\"images/res_b.png\" width=\"400px\"></img></center>\n",
    "<center>$\\hat{y}$</center>"
   ]
  },
  {
   "cell_type": "markdown",
   "metadata": {
    "slideshow": {
     "slide_type": "skip"
    }
   },
   "source": [
    "Notes: descent residual plot, look fairly normal, but there are some possible outliers and possibly not independent."
   ]
  },
  {
   "cell_type": "markdown",
   "metadata": {
    "slideshow": {
     "slide_type": "subslide"
    }
   },
   "source": [
    "<center><img src=\"images/res_c.png\" width=\"400px\"></img></center>\n",
    "<center>$\\hat{y}$</center>"
   ]
  },
  {
   "cell_type": "markdown",
   "metadata": {
    "slideshow": {
     "slide_type": "skip"
    }
   },
   "source": [
    "Notes: residuals are curvilinear, this violates the linearity assumption."
   ]
  },
  {
   "cell_type": "markdown",
   "metadata": {
    "slideshow": {
     "slide_type": "subslide"
    }
   },
   "source": [
    "<center><img src=\"images/res_d.png\" width=\"400px\"></img></center>\n",
    "<center>$\\hat{y}$</center>"
   ]
  },
  {
   "cell_type": "markdown",
   "metadata": {
    "slideshow": {
     "slide_type": "skip"
    }
   },
   "source": [
    "Notes: residuals are heteroscedastic, this violates the constant variance assumption, instead depends on x."
   ]
  },
  {
   "cell_type": "markdown",
   "metadata": {
    "slideshow": {
     "slide_type": "subslide"
    }
   },
   "source": [
    "<center><img src=\"images/res_e.png\" width=\"400px\"></img></center>\n",
    "<center>$\\hat{y}$</center>"
   ]
  },
  {
   "cell_type": "markdown",
   "metadata": {
    "slideshow": {
     "slide_type": "skip"
    }
   },
   "source": [
    "Notes: indicates a linear relationship between the residuals and a variable not in the model; we probably want to try to find/measure that variable and add it into our model"
   ]
  },
  {
   "cell_type": "markdown",
   "metadata": {
    "slideshow": {
     "slide_type": "slide"
    }
   },
   "source": [
    "# Outliers\n",
    "\n",
    "* Outliers\n",
    "    * Types of outliers\n",
    "    * Detecting outliers\n",
    "        * Studentized Residuals\n",
    "        * Leverage\n",
    "    * Residual plots"
   ]
  },
  {
   "cell_type": "markdown",
   "metadata": {
    "slideshow": {
     "slide_type": "subslide"
    }
   },
   "source": [
    "### Type of Outliers\n",
    "\n",
    "<center><img src=\"images/types_of_outliers.png\" width=\"600px\"></img></center>\n"
   ]
  },
  {
   "cell_type": "markdown",
   "metadata": {
    "slideshow": {
     "slide_type": "subslide"
    }
   },
   "source": [
    "## Outliers\n",
    "### Detecting outliers visually\n",
    "\n",
    "We can make a **residual plot** to help identify outliers visually. In this case, we plot the residuals by the fitted/predicted value, $\\hat{y}$.\n",
    "\n",
    "Even better, we can **standardize** the residuals, dividing by the standard error. This allows us to see which points are outliers in the common way, perhaps by checking whether they're above or below 2 (roughly 95% of our data is covered by that region)."
   ]
  },
  {
   "cell_type": "markdown",
   "metadata": {
    "slideshow": {
     "slide_type": "subslide"
    }
   },
   "source": [
    "### Standardized residuals\n",
    "\n",
    "<center><img src=\"images/standardized_residuals.png\" width=\"500px\"></img></center>"
   ]
  },
  {
   "cell_type": "markdown",
   "metadata": {
    "slideshow": {
     "slide_type": "slide"
    }
   },
   "source": [
    "### Studentizing\n",
    "\n",
    "Even better still, we can **\"studentize\"** the errors by dividing, not by the \"global\" standard error for our model, but by the standard error of our model at the particular value of y where the residual occurred.  Our confidence intervals change depending on how much data we have seen in a particular region.  If we've seen a lot of data, our intervals are tight; otherwise, they are wide.  So, it takes \"more\" for a data point to be considered an outlier if it is in a region in which we have little data."
   ]
  },
  {
   "cell_type": "markdown",
   "metadata": {
    "slideshow": {
     "slide_type": "subslide"
    }
   },
   "source": [
    "### Studentizing Visually\n",
    "\n",
    "<img src=\"images/studentized_residual_plot.png\"></img>"
   ]
  },
  {
   "cell_type": "markdown",
   "metadata": {
    "slideshow": {
     "slide_type": "slide"
    }
   },
   "source": [
    "### Leverage\n",
    "\n",
    "* A high-leverage point is an observation with an unusual X value.\n",
    "* It does not necessarily have a large effect on the regression model (it could lie right along the best fit line of a model fit without it).\n",
    "* Most common measure is the \"hat value\": $h_{ii}=(H)_{ii}$\n",
    "* The $i$th diagonal of the hat matrix: $$ H = X(X^TX)^{-1}X^T, $$ is the leverage of the particular data point."
   ]
  },
  {
   "cell_type": "markdown",
   "metadata": {
    "slideshow": {
     "slide_type": "subslide"
    }
   },
   "source": [
    "#### Intuition\n",
    "\n",
    "Dragging a single point upwards and seeing how much the prediction line follows. If, for a fixed $x$, we perturb $y$ and $\\hat{y_i}$ moves a little, then it is low leverage; if it moves a lot, then it is high leverage. So you can think of it as $h_{ii} = \\frac{d\\hat{y_i}}{dy_i}$."
   ]
  },
  {
   "cell_type": "markdown",
   "metadata": {
    "slideshow": {
     "slide_type": "subslide"
    }
   },
   "source": [
    "We can use Leverage to Studentize our errors\n",
    "\n",
    "* The corresponding Studentized residual is then $$ t_i = \\frac{\\hat{\\epsilon_i}}{ \\hat{\\sigma}\\sqrt{1 - h_{ii}} } $$ where $\\hat{\\sigma}$ is an appropriate estimate of $\\sigma$ (basically square root of RSE)"
   ]
  },
  {
   "cell_type": "markdown",
   "metadata": {
    "slideshow": {
     "slide_type": "skip"
    }
   },
   "source": [
    "Now that we have either standardized (divided by \"global\" standard error) or studentized (divided by \"local\" standard error) residuals, we can use them to programmatically identify outlier points.  Roughly 95% of our data will fall within $\\pm2$ standardized/studentized errors.  We likely don't want to throw out 1 in 20 data points, though, so perhaps we'll cut anything off if it's outside the $\\pm3$ bounds.  Note, if we do find outliers we usually train two models, one with them and one without.  Also we might chase down the story behind the outlier data points, if we can (was data entered incorrectly? was there a tsunami that day? did the servers go down?)."
   ]
  },
  {
   "cell_type": "markdown",
   "metadata": {
    "slideshow": {
     "slide_type": "slide"
    }
   },
   "source": [
    "# Multicollinearity \n",
    "Measuring the same thing two different ways.\n",
    "\n",
    "If we had the grade of every class for a student, as well as their GPA, we have multicollinearity because GPA is a linear function of their grades.\n",
    "\n",
    "Could also just be married_is_True and married_is_False as features."
   ]
  },
  {
   "cell_type": "markdown",
   "metadata": {
    "slideshow": {
     "slide_type": "subslide"
    }
   },
   "source": [
    "### Perfect vs Partial\n",
    "* Perfect: unlikely to occur in practice\n",
    "  * Your model will often fail to run/converge (some libraries will still be ok, but don't count on it)\n",
    "  * Consider a case where $\\beta_1$ and $\\beta_2$ measure \"years since graduating Galvanize\" and \"years as a data scientist\", and of course these are the same ;)\n",
    "* Partial\n",
    "  * Uncertainty in the model coefficients becomes large\n",
    "  * Does not necessarily affect model accuracy or bias the coefficients"
   ]
  },
  {
   "cell_type": "markdown",
   "metadata": {
    "slideshow": {
     "slide_type": "slide"
    }
   },
   "source": [
    "### Identifying Multicollinearity\n",
    "\n",
    "* Correlation Matrix / Scatterplot Matrix / Bivariate Correlations\n",
    "    * Can only pick up pairwise effects\n",
    "* Variance Inflation Factors, VIF\n",
    "    * Regress each of the independent variables on all the other independent variables\n",
    "    * I.E. with a design matrix X of $p$ features, for each feature $i$, fit a linear model with the $i^{th}$ feature as the target and the remaining $p-1$ features as independent variables:\n",
    "        $$ X_i = X_{p \\setminus i}\\beta $$"
   ]
  },
  {
   "cell_type": "markdown",
   "metadata": {
    "slideshow": {
     "slide_type": "subslide"
    }
   },
   "source": [
    "### Why VIF?\n",
    "\n",
    "Question (2 mins): Why do we care about predicting one of the features with all the others?"
   ]
  },
  {
   "cell_type": "markdown",
   "metadata": {
    "slideshow": {
     "slide_type": "subslide"
    }
   },
   "source": [
    "### VIF Definition\n",
    "$$ VIF_i = \\frac{1}{1 - R_i^2} $$\n",
    "\n",
    "* If any of these auxiliary $R^2$ values are near 1, there is high multicollinearity\n",
    "* In the best case:\n",
    "    * We can't predict our $i$th feature with the others, so $R_i^2$ is 0\n",
    "    * This means VIF is 1, and $x_j$ is linearly independent of the other independent variables\n",
    "* If $VIF > 10$, then multicollinearity is probably a problem\n",
    "    * 10 is a rule of thumb; you may be more or less conservative"
   ]
  },
  {
   "cell_type": "markdown",
   "metadata": {
    "slideshow": {
     "slide_type": "slide"
    }
   },
   "source": [
    "### Fixing Multicollinearity\n",
    "\n",
    "* What should I do if I have high multicollinearity?\n",
    "    * Try to gather more data\n",
    "    * Consider combining multiple intercorrelated variables into one\n",
    "    * Don't interpret coefficients, just use your model to predict\n",
    "    * Discard the offending variable(s)\n"
   ]
  },
  {
   "cell_type": "markdown",
   "metadata": {
    "slideshow": {
     "slide_type": "slide"
    }
   },
   "source": [
    "### Another Hypothesis Test\n",
    "#### Are any of my features useful, a.k.a. should have a non-zero coefficient?\n",
    "\n",
    "1) Set up hypotheses:\n",
    "    $$ H_0: \\beta_{1...p} = 0 $$\n",
    "\n",
    "<center> $ H_A:$  at least one $\\beta_j$ is nonzero </center>\n",
    "\n",
    "Compare the difference in total squared error and the residual squared error with the residual squared error, scaled by features used (for DOF)."
   ]
  },
  {
   "cell_type": "markdown",
   "metadata": {
    "slideshow": {
     "slide_type": "subslide"
    }
   },
   "source": [
    "2) Compute F-statistic\n",
    "\n",
    " $$ F = \\frac{\\frac{TSS - RSS}{p}}{\\frac{RSS}{n - p - 1}} ~ F_{p, n - p - 1} $$\n",
    " \n",
    "3) Compute p-value\n",
    " ```python\n",
    " p_val = 1 - scs.f.cdf(F_stat, p, n - p_full - 1)\n",
    " ```"
   ]
  },
  {
   "cell_type": "markdown",
   "metadata": {
    "slideshow": {
     "slide_type": "slide"
    }
   },
   "source": [
    "### Comparing Models\n",
    "\n",
    "Sometime you want to check whether a model that is nested within another is significantly worse than the full model.\n",
    "\n",
    "Reduced Model: $ Y = \\beta_0 + \\beta_1 x_1 + ... + \\beta_p x_p $\n",
    "\n",
    "Full Model:    $ Y = \\beta_0 + \\beta_1 x_1 + ... + \\beta_p x_p + \\beta_{p+1} x_{p+1} + ... + \\beta_{p+k} x_{p+k} $\n",
    "\n",
    "1) Set up hypotheses\n",
    "\n",
    "$$ H_0: \\beta_{1...k} = 0 $$\n",
    "\n",
    "<center> $H_A:$ at least one of the added betas, $\\beta_k$, is nonzero </center>"
   ]
  },
  {
   "cell_type": "markdown",
   "metadata": {
    "slideshow": {
     "slide_type": "subslide"
    }
   },
   "source": [
    "2) Compute F-statistic\n",
    " $$ F = \\frac{\\frac{(RSS_{red} - RSS_{full})}{(p_{full} - p_{red})}}{\\frac{RSS_{full}}{(n - p_{full} -1)}},\\; p_{full} = p + k $$\n",
    "\n",
    "3) Compute p-value\n",
    "\n",
    "  ```python\n",
    "  p_val = 1 - scs.f.cdf(F_stat, p_full - p_red, \n",
    "                        n - p_full - 1)\n",
    "  ```"
   ]
  },
  {
   "cell_type": "markdown",
   "metadata": {
    "nbpresent": {
     "id": "f46f2d18-c938-48fc-b93d-2a99b2ba9e0e"
    },
    "slideshow": {
     "slide_type": "subslide"
    }
   },
   "source": [
    "### Objectives\n",
    "By the end of the lesson you will be able to answer:\n",
    "* Why is it called **Linear** Regression?\n",
    "* How do we choose the \"best\" line?\n",
    "* How do we evaluate our model?\n",
    "* What hypothesis are we testing in Linear Regression?\n",
    "* How do we interpret statsmodel output?\n",
    "* What are the assumptions of Linear Regression?\n",
    "* How do we verify that the assumptions are met by our model?\n",
    "* How do we compare linear models to each other?"
   ]
  }
 ],
 "metadata": {
  "anaconda-cloud": {},
  "celltoolbar": "Slideshow",
  "kernelspec": {
   "display_name": "Python 2",
   "language": "python",
   "name": "python2"
  },
  "language_info": {
   "codemirror_mode": {
    "name": "ipython",
    "version": 2
   },
   "file_extension": ".py",
   "mimetype": "text/x-python",
   "name": "python",
   "nbconvert_exporter": "python",
   "pygments_lexer": "ipython2",
   "version": "2.7.11"
  },
  "nbpresent": {
   "slides": {},
   "themes": {}
  }
 },
 "nbformat": 4,
 "nbformat_minor": 1
}
