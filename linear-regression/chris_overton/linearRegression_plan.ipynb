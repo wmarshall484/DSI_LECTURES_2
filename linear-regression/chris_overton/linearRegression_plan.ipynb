{
 "cells": [
  {
   "cell_type": "markdown",
   "metadata": {},
   "source": [
    "## Linear Regression\n",
    "Chris Overton  \n",
    "2017.01.31\n",
    "\n",
    "This is not a self-contained lecture, but rather a pointer to resources we will use today."
   ]
  },
  {
   "cell_type": "markdown",
   "metadata": {},
   "source": [
    "Plan for the day:\n",
    "\n",
    "### Morning\n",
    "- Intuitive development of regression (sort of a breakout)\n",
    "- Overview lecture\n",
    "- Using this new background, revisit yesterday's EDA and regression intro \n",
    "\n",
    "### Afternoon\n",
    "- Discuss regression models used in ISLR, Chapter 3"
   ]
  },
  {
   "cell_type": "markdown",
   "metadata": {},
   "source": [
    "# What you should do:\n",
    "Since ISLR uses R code, **clone the following repo**, which replicates data sets and much of the images, code, and labs using python:\n",
    "\n",
    "https://github.com/JWarmenhoven/ISLR-python  \n",
    "\n",
    "In the afternoon, we will be using an annotated version of the Chapter 3 notebook from this repo"
   ]
  }
 ],
 "metadata": {
  "kernelspec": {
   "display_name": "Python 2",
   "language": "python",
   "name": "python2"
  },
  "language_info": {
   "codemirror_mode": {
    "name": "ipython",
    "version": 2
   },
   "file_extension": ".py",
   "mimetype": "text/x-python",
   "name": "python",
   "nbconvert_exporter": "python",
   "pygments_lexer": "ipython2",
   "version": "2.7.12"
  }
 },
 "nbformat": 4,
 "nbformat_minor": 0
}
