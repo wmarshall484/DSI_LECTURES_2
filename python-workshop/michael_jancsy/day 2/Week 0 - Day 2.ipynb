{
 "cells": [
  {
   "cell_type": "markdown",
   "metadata": {
    "slideshow": {
     "slide_type": "slide"
    }
   },
   "source": [
    "# Python Workshop\n",
    "\n",
    "This workshop will review Python fundamentals \n",
    "and prepare you for Galvanize's DSI."
   ]
  },
  {
   "cell_type": "markdown",
   "metadata": {
    "slideshow": {
     "slide_type": "slide"
    }
   },
   "source": [
    "# Topics\n",
    "### Day 2\n",
    "* dictionaries\n",
    "* sets\n",
    "* efficiency"
   ]
  },
  {
   "cell_type": "markdown",
   "metadata": {
    "slideshow": {
     "slide_type": "slide"
    }
   },
   "source": [
    "# Dictionaries"
   ]
  },
  {
   "cell_type": "code",
   "execution_count": 97,
   "metadata": {
    "collapsed": true,
    "slideshow": {
     "slide_type": "slide"
    }
   },
   "outputs": [],
   "source": [
    "prices = {}\n",
    "prices['banana'] = 1\n",
    "prices['steak'] = 10\n",
    "prices['ice cream'] = 5"
   ]
  },
  {
   "cell_type": "code",
   "execution_count": 98,
   "metadata": {
    "collapsed": false,
    "slideshow": {
     "slide_type": "slide"
    }
   },
   "outputs": [
    {
     "data": {
      "text/plain": [
       "{'banana': 1, 'ice cream': 5, 'steak': 10}"
      ]
     },
     "execution_count": 98,
     "metadata": {},
     "output_type": "execute_result"
    }
   ],
   "source": [
    "{'steak': 10, 'banana': 1, 'ice cream': 5}"
   ]
  },
  {
   "cell_type": "markdown",
   "metadata": {
    "collapsed": true,
    "slideshow": {
     "slide_type": "slide"
    }
   },
   "source": [
    "## Sets\n",
    "\n",
    "A set is a like a dictionary without values."
   ]
  },
  {
   "cell_type": "code",
   "execution_count": 99,
   "metadata": {
    "collapsed": true,
    "slideshow": {
     "slide_type": "slide"
    }
   },
   "outputs": [],
   "source": [
    "groceries = set()\n",
    "groceries.add('carrots')\n",
    "groceries.add('figs')\n",
    "groceries.add('popcorn')"
   ]
  },
  {
   "cell_type": "code",
   "execution_count": 100,
   "metadata": {
    "collapsed": false,
    "slideshow": {
     "slide_type": "slide"
    }
   },
   "outputs": [
    {
     "name": "stdout",
     "output_type": "stream",
     "text": [
      "set(['popcorn', 'carrots', 'figs'])\n"
     ]
    }
   ],
   "source": [
    "print groceries"
   ]
  },
  {
   "cell_type": "markdown",
   "metadata": {
    "slideshow": {
     "slide_type": "slide"
    }
   },
   "source": [
    "## Hashing\n",
    "\n",
    "* 'hash' function assigns unique id to an object\n",
    "* dictionary lookups use hash value\n",
    "    * in contrast to list lookups, which search each location"
   ]
  },
  {
   "cell_type": "markdown",
   "metadata": {
    "slideshow": {
     "slide_type": "slide"
    }
   },
   "source": [
    "## Variations on Dictionaries\n",
    "\n",
    "* defaultdict\n",
    "* Counter"
   ]
  },
  {
   "cell_type": "code",
   "execution_count": 101,
   "metadata": {
    "collapsed": false,
    "slideshow": {
     "slide_type": "slide"
    }
   },
   "outputs": [
    {
     "name": "stdout",
     "output_type": "stream",
     "text": [
      "25\n",
      "0\n"
     ]
    }
   ],
   "source": [
    "# defaultdict\n",
    "\n",
    "from collections import defaultdict\n",
    "# See also: https://docs.python.org/2/library/collections.html\n",
    "\n",
    "\n",
    "d_int = defaultdict(int)\n",
    "d_int[1] = 25\n",
    "print d_int[1]\n",
    "# when a key has no value, a default value is returned\n",
    "print d_int[2]"
   ]
  },
  {
   "cell_type": "code",
   "execution_count": 102,
   "metadata": {
    "collapsed": false,
    "slideshow": {
     "slide_type": "slide"
    }
   },
   "outputs": [
    {
     "name": "stdout",
     "output_type": "stream",
     "text": [
      "Default float: 0.0\n",
      "Default string: \n",
      "Default list: []\n"
     ]
    }
   ],
   "source": [
    "d_float = defaultdict(float)\n",
    "print 'Default float:', d_float['some_key']\n",
    "d_str = defaultdict(str)\n",
    "print 'Default string:', d_str['some_key']\n",
    "d_list = defaultdict(list)\n",
    "print 'Default list:', d_list['some_key']"
   ]
  },
  {
   "cell_type": "code",
   "execution_count": 103,
   "metadata": {
    "collapsed": false,
    "slideshow": {
     "slide_type": "slide"
    }
   },
   "outputs": [
    {
     "name": "stdout",
     "output_type": "stream",
     "text": [
      "Counter({'a': 2, 'b': 2, 'c': 1})\n"
     ]
    }
   ],
   "source": [
    "# Counter\n",
    "\n",
    "from collections import Counter\n",
    "\n",
    "letters = ['a', 'a', 'b', 'b', 'c']\n",
    "counter = Counter(letters) # note the difference in capitalization!\n",
    "print counter"
   ]
  },
  {
   "cell_type": "code",
   "execution_count": 104,
   "metadata": {
    "collapsed": false,
    "slideshow": {
     "slide_type": "slide"
    }
   },
   "outputs": [
    {
     "name": "stdout",
     "output_type": "stream",
     "text": [
      "Counter({'a': 3, 'b': 3, 'c': 2})\n"
     ]
    }
   ],
   "source": [
    "for key in counter:\n",
    "    counter[key] += 1\n",
    "print counter"
   ]
  },
  {
   "cell_type": "code",
   "execution_count": 115,
   "metadata": {
    "collapsed": false,
    "slideshow": {
     "slide_type": "slide"
    }
   },
   "outputs": [
    {
     "name": "stdout",
     "output_type": "stream",
     "text": [
      "[('a', 3), ('b', 3), ('c', 2)]\n",
      "[('a', 3), ('b', 3)]\n",
      "[('a', 3)]\n"
     ]
    }
   ],
   "source": [
    "# Counters have a 'most_common' method\n",
    "\n",
    "print counter.most_common()\n",
    "# Elements with equal counts are ordered arbitrarily:\n",
    "print counter.most_common(2)\n",
    "print counter.most_common(1) "
   ]
  },
  {
   "cell_type": "code",
   "execution_count": 106,
   "metadata": {
    "collapsed": true,
    "slideshow": {
     "slide_type": "slide"
    }
   },
   "outputs": [],
   "source": [
    "# Can two numbers from a list of numbers be added to equal a third?\n",
    "\n",
    "list_ = [3, 5, 7, 9]\n",
    "\n",
    "# make_sum(list_, 4) ==> False\n",
    "# make_sum(list_, 8) ==> True\n"
   ]
  },
  {
   "cell_type": "code",
   "execution_count": 107,
   "metadata": {
    "collapsed": false,
    "slideshow": {
     "slide_type": "slide"
    }
   },
   "outputs": [],
   "source": [
    "# Method 1\n",
    "\n",
    "from itertools import combinations_with_replacement\n",
    "\n",
    "def make_sum1(numbers, target):\n",
    "    combinations = combinations_with_replacement(numbers, 2)\n",
    "    for combo in combinations:\n",
    "        if sum(combo) == target:\n",
    "            return True\n",
    "    return False\n",
    "\n",
    "# Method 2\n",
    "\n",
    "def make_sum2(numbers, target):\n",
    "    for number in numbers:\n",
    "        if target - number in numbers:\n",
    "            return True\n",
    "    return False\n"
   ]
  },
  {
   "cell_type": "code",
   "execution_count": 108,
   "metadata": {
    "collapsed": false,
    "slideshow": {
     "slide_type": "slide"
    }
   },
   "outputs": [],
   "source": [
    "# Method 3\n",
    "\n",
    "def make_sum3(numbers, target):\n",
    "    numbers = set(numbers)\n",
    "    for number in list_:\n",
    "        if target - number in numbers:\n",
    "            return True\n",
    "    return False\n"
   ]
  },
  {
   "cell_type": "code",
   "execution_count": 109,
   "metadata": {
    "collapsed": false,
    "slideshow": {
     "slide_type": "slide"
    }
   },
   "outputs": [],
   "source": [
    "import random\n",
    "\n",
    "# generate sample lists\n",
    "number_of_samples = 1000\n",
    "list_range = (1, 1000)\n",
    "list_length = 100\n",
    "\n",
    "sample_numbers = []\n",
    "for _1 in xrange(number_of_samples):\n",
    "    list_ = []\n",
    "    for _2 in xrange(list_length):\n",
    "        list_.append(random.randint(*list_range))\n",
    "    sample_numbers.append(list_)\n",
    "\n",
    "# generate sample_targets\n",
    "sample_targets = []\n",
    "for _ in xrange(number_of_samples):\n",
    "    target = random.randint(*list_range) \n",
    "    sample_targets.append(target)"
   ]
  },
  {
   "cell_type": "code",
   "execution_count": 110,
   "metadata": {
    "collapsed": false,
    "slideshow": {
     "slide_type": "slide"
    }
   },
   "outputs": [],
   "source": [
    "def test_make_sum(sample_numbers, sample_targets, make_sum):\n",
    "    for numbers, target in zip(sample_lists, sample_targets):\n",
    "        make_sum(numbers, target)"
   ]
  },
  {
   "cell_type": "code",
   "execution_count": 111,
   "metadata": {
    "collapsed": false,
    "slideshow": {
     "slide_type": "slide"
    }
   },
   "outputs": [
    {
     "name": "stdout",
     "output_type": "stream",
     "text": [
      "CPU times: user 610 ms, sys: 189 ms, total: 798 ms\n",
      "Wall time: 657 ms\n"
     ]
    }
   ],
   "source": [
    "time test_make_sum(sample_numbers, sample_targets, make_sum1)"
   ]
  },
  {
   "cell_type": "code",
   "execution_count": 112,
   "metadata": {
    "collapsed": false,
    "slideshow": {
     "slide_type": "slide"
    }
   },
   "outputs": [
    {
     "name": "stdout",
     "output_type": "stream",
     "text": [
      "CPU times: user 86.5 ms, sys: 2.83 ms, total: 89.4 ms\n",
      "Wall time: 87.3 ms\n"
     ]
    }
   ],
   "source": [
    "time test_make_sum(sample_numbers, sample_targets, make_sum2)"
   ]
  },
  {
   "cell_type": "code",
   "execution_count": 113,
   "metadata": {
    "collapsed": false,
    "slideshow": {
     "slide_type": "slide"
    }
   },
   "outputs": [
    {
     "name": "stdout",
     "output_type": "stream",
     "text": [
      "CPU times: user 12 ms, sys: 2.22 ms, total: 14.2 ms\n",
      "Wall time: 12.5 ms\n"
     ]
    }
   ],
   "source": [
    "time test_make_sum(sample_numbers, sample_targets, make_sum3)"
   ]
  },
  {
   "cell_type": "code",
   "execution_count": null,
   "metadata": {
    "collapsed": false
   },
   "outputs": [],
   "source": []
  },
  {
   "cell_type": "code",
   "execution_count": null,
   "metadata": {
    "collapsed": true
   },
   "outputs": [],
   "source": []
  }
 ],
 "metadata": {
  "celltoolbar": "Slideshow",
  "kernelspec": {
   "display_name": "Python 2",
   "language": "python",
   "name": "python2"
  },
  "language_info": {
   "codemirror_mode": {
    "name": "ipython",
    "version": 2
   },
   "file_extension": ".py",
   "mimetype": "text/x-python",
   "name": "python",
   "nbconvert_exporter": "python",
   "pygments_lexer": "ipython2",
   "version": "2.7.10"
  }
 },
 "nbformat": 4,
 "nbformat_minor": 0
}
