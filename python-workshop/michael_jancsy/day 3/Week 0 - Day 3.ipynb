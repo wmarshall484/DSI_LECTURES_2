{
 "cells": [
  {
   "cell_type": "markdown",
   "metadata": {},
   "source": [
    "# Python Workshop\n",
    "\n",
    "This workshop will review Python fundamentals \n",
    "and prepare you for Galvanize's DSI."
   ]
  },
  {
   "cell_type": "markdown",
   "metadata": {},
   "source": [
    "# Topics\n",
    "### Day 3\n",
    "* object oriented programming (OOP)"
   ]
  },
  {
   "cell_type": "markdown",
   "metadata": {},
   "source": [
    "# Organizing Code\n",
    "* How to organize code?\n",
    "* How to make code represent real world concepts?\n",
    "* How to make code reusable\n",
    "* How to make code readable?"
   ]
  },
  {
   "cell_type": "markdown",
   "metadata": {},
   "source": [
    "# Object Oriented Programming (OOP)\n",
    "* organizes code into \"objects\" to group related ideas, functionality, etc. together"
   ]
  },
  {
   "cell_type": "markdown",
   "metadata": {},
   "source": [
    "# Ex. Dog Object\n",
    "\n",
    "## Dogs can be described in terms of their attributes\n",
    "* size\n",
    "* breed\n",
    "* name\n",
    "* favorite toy\n",
    "\n",
    "## Dogs have behaviors and abilities\n",
    "* run\n",
    "* bark\n",
    "* eat\n",
    "* sleep\n",
    "\n",
    "## In the language of OOP\n",
    "* Attributes: size, breed, name, favorite toy\n",
    "* Methods: run, bark, eat, sleep"
   ]
  },
  {
   "cell_type": "markdown",
   "metadata": {},
   "source": [
    "# Class vs Instance\n",
    "* \"class\" refers to the set of attributes, methods, etc. that define a group of objects\n",
    "* \"instance\" refers to a specific example of a class\n",
    "* \"Dog\" is a class. My dog Snoopy is an instance of the Dog class.\n",
    "* The word \"object\" is used broadly to refer to classes or instances of classes\n"
   ]
  },
  {
   "cell_type": "code",
   "execution_count": 60,
   "metadata": {
    "collapsed": true
   },
   "outputs": [],
   "source": [
    "# pictures"
   ]
  },
  {
   "cell_type": "code",
   "execution_count": 61,
   "metadata": {
    "collapsed": false
   },
   "outputs": [
    {
     "name": "stdout",
     "output_type": "stream",
     "text": [
      "Snoopy\n",
      "Beagle\n",
      "Frisbee\n"
     ]
    }
   ],
   "source": [
    "# example of a Dog class\n",
    "\n",
    "class Dog(object):\n",
    "    \"\"\"Common household pet\"\"\"\n",
    "    def __init__(self, name, breed, favorite_toy):\n",
    "        \"\"\"\n",
    "        Args:\n",
    "            name (str): the dog's name, ex. \"Snoopy\"\n",
    "            breed (str): the breed of the dog, ex. \"Beagle\"\n",
    "            favorite_toy (str): something the dog likes to play with most, ex. \"frisbee\"\n",
    "        \n",
    "        \"\"\"\n",
    "        self.name = name\n",
    "        self.breed = breed\n",
    "        self.favorite_toy = favorite_toy\n",
    "        \n",
    "my_dog = Dog('Snoopy', 'Beagle', 'Frisbee')\n",
    "\n",
    "# my_dog attributes\n",
    "print my_dog.name\n",
    "print my_dog.breed\n",
    "print my_dog.favorite_toy"
   ]
  },
  {
   "cell_type": "markdown",
   "metadata": {},
   "source": [
    "(see poll question #1 and #2)"
   ]
  },
  {
   "cell_type": "code",
   "execution_count": 62,
   "metadata": {
    "collapsed": false
   },
   "outputs": [
    {
     "name": "stdout",
     "output_type": "stream",
     "text": [
      "ruff ruff ruff!\n"
     ]
    }
   ],
   "source": [
    "# you can add \"methods\" to an object to give it more functionality\n",
    "class Dog(object):\n",
    "    \"\"\"Common household pet\"\"\"\n",
    "    \n",
    "    def __init__(self, name, breed, favorite_toy):\n",
    "        \"\"\"\n",
    "        Args:\n",
    "            name (str): the dog's name, ex. \"Snoopy\"\n",
    "            breed (str): the breed of the dog, ex. \"Beagle\"\n",
    "            favorite_toy (str): something the dog likes to play with most, ex. \"frisbee\"\n",
    "        \"\"\"\n",
    "        self.name = name\n",
    "        self.breed = breed\n",
    "        self.favorite_toy = favorite_toy\n",
    "        \n",
    "        \n",
    "    def bark(self):\n",
    "        \"\"\"Causes the dog to bark\"\"\"\n",
    "        print 'ruff ruff ruff!'\n",
    "        \n",
    "my_dog = Dog('Snoopy', 'Beagle', 'Frisbee')\n",
    "my_dog.bark()"
   ]
  },
  {
   "cell_type": "markdown",
   "metadata": {},
   "source": [
    "(see poll question #3)"
   ]
  },
  {
   "cell_type": "markdown",
   "metadata": {},
   "source": [
    "# Objects interacting with each other\n",
    "* In a game, player objects could interact with a playing card object\n",
    "* In a our earlier example, a person object could interact with a dog object\n",
    "* Structuring code in this way makes code more reusable and easier to read"
   ]
  },
  {
   "cell_type": "code",
   "execution_count": 63,
   "metadata": {
    "collapsed": false
   },
   "outputs": [
    {
     "name": "stdout",
     "output_type": "stream",
     "text": [
      "My name is Charlie Brown.\n",
      "Go get the frisbee Snoopy!\n",
      "ruff ruff ruff!\n",
      "Good job Snoopy!\n"
     ]
    }
   ],
   "source": [
    "class Dog(object):\n",
    "    \"\"\"Common household pet\"\"\"\n",
    "    \n",
    "    def __init__(self, name, breed, favorite_toy, has_toy=False, plays_fetch=True):\n",
    "        \"\"\"\n",
    "        Args:\n",
    "            name (str): the dog's name, ex. \"Snoopy\"\n",
    "            breed (str): the breed of the dog, ex. \"Beagle\"\n",
    "            favorite_toy (str): something the dog likes to play with most, ex. \"frisbee\"\n",
    "            has_toy (bool): wehther the dog has its favorite toy\n",
    "            plays_fetch (bool): whether the dog knows how to play fetch\n",
    "        \"\"\"\n",
    "        self.name = name\n",
    "        self.breed = breed\n",
    "        self.favorite_toy = favorite_toy\n",
    "        self.has_toy = has_toy\n",
    "        self.plays_fetch = plays_fetch\n",
    "        \n",
    "        \n",
    "    def bark(self):\n",
    "        \"\"\"Causes the dog to bark\"\"\"\n",
    "        print 'ruff ruff ruff!'\n",
    "\n",
    "class Person(object):\n",
    "    \"\"\"Human who may have a Dog\"\"\"\n",
    "    def __init__(self, name):\n",
    "        \"\"\"\n",
    "        Args:\n",
    "            name (str): name of the person\n",
    "        \"\"\"\n",
    "        self.name = name\n",
    "        \n",
    "    def introduce(self):\n",
    "        print 'My name is {name}.'.format(name=self.name)\n",
    "        \n",
    "    def play_fetch(self, dog):\n",
    "        \"\"\"Person plays a game of fetch with dog\"\"\"\n",
    "        print 'Go get the {toy} {dog_name}!'.format(toy=dog.favorite_toy, dog_name=dog.name)\n",
    "        if dog.plays_fetch:\n",
    "            dog.bark()\n",
    "            dog.has_frisbee = True\n",
    "            print 'Good job {dog_name}!'.format(dog_name=dog.name)\n",
    "        else:\n",
    "            dog.has_frisbee = False\n",
    "            print 'Try again {dog_name}!'.format(dog_name=dog.name)        \n",
    "        \n",
    "        \n",
    "person = Person('Charlie Brown')\n",
    "dog = Dog('Snoopy', 'Beagle', 'frisbee')\n",
    "person.introduce()\n",
    "person.play_fetch(dog)"
   ]
  },
  {
   "cell_type": "markdown",
   "metadata": {},
   "source": [
    "# OOP Used for Data Science\n",
    "* ex. \"LinearRegression\" class with \"fit\" and \"predict\" methods\n",
    "* ex. \"axis\" object that contains information about plots\n",
    "* This will be explored in depth starting next week during the DSI"
   ]
  },
  {
   "cell_type": "markdown",
   "metadata": {},
   "source": [
    "# Class \"Magic Methods\"\n",
    "* You can add special features to your classes using \"magic methods\"\n",
    "* ex. 'my_dog > my_other dog' could be a meaningful comparison\n",
    "* ex. str(my_dog) could return 'Name: Beagle, Favorite Toy: Frisbee'"
   ]
  },
  {
   "cell_type": "markdown",
   "metadata": {},
   "source": [
    "# Comparison Magic Method: \"__cmp__\"\n",
    "* 1 < 2 makes intuitive sense\n",
    "* my_dog < my_other_dog has a less obvious meaning, but it could mean something!\n",
    "* we can define comparison logic to make meaningful comparisons between custom classes"
   ]
  },
  {
   "cell_type": "code",
   "execution_count": 67,
   "metadata": {
    "collapsed": false
   },
   "outputs": [
    {
     "name": "stdout",
     "output_type": "stream",
     "text": [
      "True\n"
     ]
    }
   ],
   "source": [
    "# Example: comparing two dogs\n",
    "class Dog(object):\n",
    "    \"\"\"Common household pet\"\"\"\n",
    "    \n",
    "    def __init__(self, name, breed, favorite_toy, has_toy=False, plays_fetch=True):\n",
    "        \"\"\"\n",
    "        Args:\n",
    "            name (str): the dog's name, ex. \"Snoopy\"\n",
    "            breed (str): the breed of the dog, ex. \"Beagle\"\n",
    "            favorite_toy (str): something the dog likes to play with most, ex. \"frisbee\"\n",
    "            has_toy (bool): wehther the dog has its favorite toy\n",
    "            plays_fetch (bool): whether the dog knows how to play fetch\n",
    "        \"\"\"\n",
    "        self.name = name\n",
    "        self.breed = breed\n",
    "        self.favorite_toy = favorite_toy\n",
    "        self.has_toy = has_toy\n",
    "        self.plays_fetch = plays_fetch\n",
    "        \n",
    "    def __cmp__(self, other):\n",
    "        \"\"\"A dog is greater than another dog if it has a longer name\"\"\"\n",
    "        self_name_length = len(self.name)\n",
    "        other_name_length = len(other.name)\n",
    "        if self_name_length < other_name_length:\n",
    "            return -1\n",
    "        elif self_name_length == other_name_length:\n",
    "            return 0\n",
    "        else:\n",
    "            return 1\n",
    "        \n",
    "dog1 = Dog('Snoopy', 'Beagle', 'Frisbee')\n",
    "dog2 = Dog('Fido', 'Golden Retriever', 'Tennis Ball')\n",
    "\n",
    "print dog1 > dog2"
   ]
  },
  {
   "cell_type": "code",
   "execution_count": 65,
   "metadata": {
    "collapsed": false
   },
   "outputs": [
    {
     "name": "stdout",
     "output_type": "stream",
     "text": [
      "6\n",
      "Snoopy, Beagle, Frisbee\n"
     ]
    }
   ],
   "source": [
    "# Magic methods: __len__ and __str__\n",
    "class Dog(object):\n",
    "    \"\"\"Common household pet\"\"\"\n",
    "    \n",
    "    def __init__(self, name, breed, favorite_toy, has_toy=False, plays_fetch=True):\n",
    "        \"\"\"\n",
    "        Args:\n",
    "            name (str): the dog's name, ex. \"Snoopy\"\n",
    "            breed (str): the breed of the dog, ex. \"Beagle\"\n",
    "            favorite_toy (str): something the dog likes to play with most, ex. \"frisbee\"\n",
    "            has_toy (bool): whether the dog has its favorite toy\n",
    "            plays_fetch (bool): whether the dog knows how to play fetch\n",
    "        \"\"\"\n",
    "        self.name = name\n",
    "        self.breed = breed\n",
    "        self.favorite_toy = favorite_toy\n",
    "        self.has_toy = has_toy\n",
    "        self.plays_fetch = plays_fetch\n",
    "        \n",
    "    def __len__(self):\n",
    "        \"\"\"The length of a dog is the length of its name\"\"\"\n",
    "        return len(self.name)\n",
    "    \n",
    "    def __str__(self):\n",
    "        \"\"\"Name, Breed, Favorite Toy\"\"\"\n",
    "        return '{name}, {breed}, {favorite_toy}'.format(name=self.name, \n",
    "                                                        breed=self.breed, \n",
    "                                                        favorite_toy=self.favorite_toy)\n",
    "    \n",
    "dog = Dog('Snoopy', 'Beagle', 'Frisbee')\n",
    "print len(dog)\n",
    "print str(dog)"
   ]
  },
  {
   "cell_type": "code",
   "execution_count": 71,
   "metadata": {
    "collapsed": false
   },
   "outputs": [
    {
     "name": "stdout",
     "output_type": "stream",
     "text": [
      "40 60\n"
     ]
    }
   ],
   "source": [
    "# Magic method: __add__\n",
    "class FruitBasket(object):\n",
    "    \"\"\"Common household pet\"\"\"\n",
    "    \n",
    "    def __init__(self, num_apples, num_pears):\n",
    "        \"\"\"\n",
    "        Args:\n",
    "            num_apples (int): number of apples in the basket\n",
    "            num_pears (int): number of pears in the basket\n",
    "        \"\"\"\n",
    "        self.num_apples = num_apples\n",
    "        self.num_pears = num_pears\n",
    "        \n",
    "    def __add__(self, other):\n",
    "        \"\"\"Combines two baskets into one\"\"\"\n",
    "        num_apples = self.num_apples + other.num_apples\n",
    "        num_pears = self.num_pears + other.num_pears\n",
    "        new_basket = FruitBasket(num_apples, num_pears)\n",
    "        return new_basket\n",
    "    \n",
    "basket1 = FruitBasket(10, 20)\n",
    "basket2 = FruitBasket(30, 40)\n",
    "basket3 = basket1 + basket2\n",
    "print basket3.num_apples, basket3.num_pears"
   ]
  },
  {
   "cell_type": "code",
   "execution_count": 74,
   "metadata": {
    "collapsed": false
   },
   "outputs": [
    {
     "name": "stdout",
     "output_type": "stream",
     "text": [
      "3\n",
      "3\n"
     ]
    }
   ],
   "source": [
    "# __add__ is how addition works with numeric types too\n",
    "a, b = 1, 2\n",
    "print a + b\n",
    "print a.__add__(b)"
   ]
  },
  {
   "cell_type": "markdown",
   "metadata": {},
   "source": [
    "## More info about magic methods:\n",
    "http://www.rafekettler.com/magicmethods.html"
   ]
  },
  {
   "cell_type": "markdown",
   "metadata": {},
   "source": [
    "(see poll question #4)"
   ]
  },
  {
   "cell_type": "markdown",
   "metadata": {},
   "source": []
  }
 ],
 "metadata": {
  "kernelspec": {
   "display_name": "Python 2",
   "language": "python",
   "name": "python2"
  },
  "language_info": {
   "codemirror_mode": {
    "name": "ipython",
    "version": 2
   },
   "file_extension": ".py",
   "mimetype": "text/x-python",
   "name": "python",
   "nbconvert_exporter": "python",
   "pygments_lexer": "ipython2",
   "version": "2.7.10"
  }
 },
 "nbformat": 4,
 "nbformat_minor": 0
}
