{
 "cells": [
  {
   "cell_type": "markdown",
   "metadata": {
    "slideshow": {
     "slide_type": "slide"
    }
   },
   "source": [
    "# Python Workshop\n",
    "\n",
    "This workshop will review Python fundamentals \n",
    "and prepare you for Galvanize's DSI."
   ]
  },
  {
   "cell_type": "markdown",
   "metadata": {
    "slideshow": {
     "slide_type": "slide"
    }
   },
   "source": [
    "# Topics\n",
    "### Day 1 - Morning\n",
    "* Functions\n",
    "* Modules\n",
    "* Types\n",
    "* String Formatting\n",
    "* Running Tests"
   ]
  },
  {
   "cell_type": "markdown",
   "metadata": {
    "slideshow": {
     "slide_type": "slide"
    }
   },
   "source": [
    "# Functions\n",
    "\n",
    "A function is a reusable bit of code"
   ]
  },
  {
   "cell_type": "code",
   "execution_count": null,
   "metadata": {
    "collapsed": false,
    "slideshow": {
     "slide_type": "slide"
    }
   },
   "outputs": [],
   "source": [
    "# example: adding numbers together\n",
    "\n",
    "## without a function\n",
    "\n",
    "a, b = 1, 2\n",
    "print a + b\n",
    "\n",
    "a, b, c = 4, 5, 6\n",
    "print a + b + c\n",
    "\n",
    "a, b, c, d = 1, 3, 5, 7\n",
    "print a + b + c + d\n",
    "\n",
    "## with function\n",
    "def add(numbers):\n",
    "    total = 0\n",
    "    for number in numbers:\n",
    "        total += number\n",
    "    return total\n",
    "\n",
    "print add([1, 2])\n",
    "print add([4, 5, 6])\n",
    "print add([1, 3, 5, 7])\n",
    "\n"
   ]
  },
  {
   "cell_type": "markdown",
   "metadata": {
    "slideshow": {
     "slide_type": "slide"
    }
   },
   "source": [
    "## Follow the D.R.Y principle: Don't Repeat Yourself\n",
    "\n",
    "Use functions to avoid repeated code"
   ]
  },
  {
   "cell_type": "markdown",
   "metadata": {
    "slideshow": {
     "slide_type": "slide"
    }
   },
   "source": [
    "# Creating Modules\n",
    "\n",
    "* use a module to store functions that you want to reuse\n",
    "* make a single \"main\" module that imports and runs your code\n",
    "* run your code inside a \"main\" block"
   ]
  },
  {
   "cell_type": "code",
   "execution_count": null,
   "metadata": {
    "collapsed": true,
    "slideshow": {
     "slide_type": "slide"
    }
   },
   "outputs": [],
   "source": [
    "#my_module.py\n",
    "\n",
    "def foo(x, y):\n",
    "    return x+y\n",
    "\n",
    "def bar(x, y, z):\n",
    "    return x - y +z"
   ]
  },
  {
   "cell_type": "code",
   "execution_count": null,
   "metadata": {
    "collapsed": true,
    "slideshow": {
     "slide_type": "slide"
    }
   },
   "outputs": [],
   "source": [
    "from my_module import foo, bar\n",
    "\n",
    "foo(1, 2)\n",
    "bar(3, 4, 5)\n",
    "\n",
    "# OR\n",
    "\n",
    "import my_module\n",
    "\n",
    "my_module.foo(1, 2)\n",
    "my_module.bar(3, 4, 5)"
   ]
  },
  {
   "cell_type": "code",
   "execution_count": null,
   "metadata": {
    "collapsed": false,
    "slideshow": {
     "slide_type": "slide"
    }
   },
   "outputs": [],
   "source": [
    "# script.py\n",
    "def foo():\n",
    "    print 'foo'\n",
    "\n",
    "\n",
    "def bar():\n",
    "     print 'bar'\n",
    "\n",
    "\n",
    "foo()\n",
    "bar()\n"
   ]
  },
  {
   "cell_type": "code",
   "execution_count": 1,
   "metadata": {
    "collapsed": false,
    "slideshow": {
     "slide_type": "slide"
    }
   },
   "outputs": [
    {
     "name": "stdout",
     "output_type": "stream",
     "text": [
      "foo\n",
      "bar\n"
     ]
    }
   ],
   "source": [
    "from script import foo"
   ]
  },
  {
   "cell_type": "code",
   "execution_count": null,
   "metadata": {
    "collapsed": true,
    "slideshow": {
     "slide_type": "slide"
    }
   },
   "outputs": [],
   "source": [
    "# script2.py\n",
    "def foo():\n",
    "    print 'foo'\n",
    "\n",
    "\n",
    "def bar():\n",
    "     print 'bar'\n",
    "\n",
    "\n",
    "if __name__ == '__main__':\n",
    "    foo()\n",
    "    bar()\n"
   ]
  },
  {
   "cell_type": "code",
   "execution_count": 2,
   "metadata": {
    "collapsed": false,
    "slideshow": {
     "slide_type": "subslide"
    }
   },
   "outputs": [],
   "source": [
    "from script2 import foo"
   ]
  },
  {
   "cell_type": "code",
   "execution_count": 3,
   "metadata": {
    "collapsed": false,
    "slideshow": {
     "slide_type": "slide"
    }
   },
   "outputs": [],
   "source": [
    "from script2 import foo # no output"
   ]
  },
  {
   "cell_type": "markdown",
   "metadata": {
    "slideshow": {
     "slide_type": "slide"
    }
   },
   "source": [
    "# Types\n",
    "\n",
    "* int 1, 2, -3\n",
    "* float 1.0, 2.5, 102342.32423\n",
    "* str 'abc'\n",
    "* tuple (1, 'a', 5.0)\n",
    "* list [1, 3, 5, 7]\n",
    "* dict {'a' : 1, 'b' : 2}\n",
    "* set {1, 2, 3}\n"
   ]
  },
  {
   "cell_type": "markdown",
   "metadata": {
    "slideshow": {
     "slide_type": "slide"
    }
   },
   "source": [
    "# Immutable vs Mutable Types\n",
    "\n",
    "## Immutable - can't be changed  \n",
    "* int 1, 2, -3\n",
    "* float 1.0, 2.5, 102342.32423\n",
    "* str 'abc'\n",
    "* tuple (1, 'a', 5.0)\n",
    "\n",
    "## Mutable - can be changed  \n",
    "* list [1, 3, 5, 7]\n",
    "* dict {'a' : 1, 'b' : 2}\n",
    "* set {1, 2, 3}\n"
   ]
  },
  {
   "cell_type": "code",
   "execution_count": 4,
   "metadata": {
    "collapsed": false,
    "slideshow": {
     "slide_type": "subslide"
    }
   },
   "outputs": [
    {
     "name": "stdout",
     "output_type": "stream",
     "text": [
      "[100, 2, 3]\n"
     ]
    }
   ],
   "source": [
    "example_list = [1, 2, 3]\n",
    "example_list[0] = 100\n",
    "print example_list"
   ]
  },
  {
   "cell_type": "code",
   "execution_count": null,
   "metadata": {
    "collapsed": false,
    "slideshow": {
     "slide_type": "subslide"
    }
   },
   "outputs": [],
   "source": [
    "example_tuple =  (1, 2, 3)\n",
    "example_tuple[0] = 100\n",
    "print example_tuple"
   ]
  },
  {
   "cell_type": "code",
   "execution_count": 5,
   "metadata": {
    "collapsed": false,
    "slideshow": {
     "slide_type": "subslide"
    }
   },
   "outputs": [
    {
     "ename": "TypeError",
     "evalue": "'tuple' object does not support item assignment",
     "output_type": "error",
     "traceback": [
      "\u001b[0;31m---------------------------------------------------------------------------\u001b[0m",
      "\u001b[0;31mTypeError\u001b[0m                                 Traceback (most recent call last)",
      "\u001b[0;32m<ipython-input-5-11c68cbdfaa7>\u001b[0m in \u001b[0;36m<module>\u001b[0;34m()\u001b[0m\n\u001b[1;32m      1\u001b[0m \u001b[0mexample_tuple\u001b[0m \u001b[0;34m=\u001b[0m  \u001b[0;34m(\u001b[0m\u001b[0;36m1\u001b[0m\u001b[0;34m,\u001b[0m \u001b[0;36m2\u001b[0m\u001b[0;34m,\u001b[0m \u001b[0;36m3\u001b[0m\u001b[0;34m)\u001b[0m\u001b[0;34m\u001b[0m\u001b[0m\n\u001b[0;32m----> 2\u001b[0;31m \u001b[0mexample_tuple\u001b[0m\u001b[0;34m[\u001b[0m\u001b[0;36m0\u001b[0m\u001b[0;34m]\u001b[0m \u001b[0;34m=\u001b[0m \u001b[0;36m100\u001b[0m\u001b[0;34m\u001b[0m\u001b[0m\n\u001b[0m\u001b[1;32m      3\u001b[0m \u001b[0;32mprint\u001b[0m \u001b[0mexample_tuple\u001b[0m\u001b[0;34m\u001b[0m\u001b[0m\n",
      "\u001b[0;31mTypeError\u001b[0m: 'tuple' object does not support item assignment"
     ]
    }
   ],
   "source": [
    "example_tuple =  (1, 2, 3)\n",
    "example_tuple[0] = 100\n",
    "print example_tuple"
   ]
  },
  {
   "cell_type": "markdown",
   "metadata": {
    "slideshow": {
     "slide_type": "slide"
    }
   },
   "source": [
    "### Understand mutability with the id() function\n",
    "\n",
    "id(x) returns x's memory address"
   ]
  },
  {
   "cell_type": "code",
   "execution_count": 6,
   "metadata": {
    "collapsed": false,
    "slideshow": {
     "slide_type": "subslide"
    }
   },
   "outputs": [
    {
     "name": "stdout",
     "output_type": "stream",
     "text": [
      "3\n"
     ]
    }
   ],
   "source": [
    "number = 1\n",
    "number += 2\n",
    "print number"
   ]
  },
  {
   "cell_type": "code",
   "execution_count": 7,
   "metadata": {
    "collapsed": false,
    "slideshow": {
     "slide_type": "subslide"
    }
   },
   "outputs": [
    {
     "name": "stdout",
     "output_type": "stream",
     "text": [
      "140258738984840\n",
      "140258738984792\n"
     ]
    }
   ],
   "source": [
    "number = 1\n",
    "print id(number)\n",
    "\n",
    "number += 2\n",
    "print id(number)"
   ]
  },
  {
   "cell_type": "code",
   "execution_count": 8,
   "metadata": {
    "collapsed": false,
    "slideshow": {
     "slide_type": "subslide"
    }
   },
   "outputs": [
    {
     "name": "stdout",
     "output_type": "stream",
     "text": [
      "4521750896\n",
      "4521750896\n"
     ]
    }
   ],
   "source": [
    "example_list2 = [1, 2, 3]\n",
    "print id(example_list2)\n",
    "\n",
    "example_list2[0] = 100\n",
    "print id(example_list2)\n"
   ]
  },
  {
   "cell_type": "markdown",
   "metadata": {
    "slideshow": {
     "slide_type": "slide"
    }
   },
   "source": [
    "# String Formatting\n",
    "\n",
    "How to dynamically generate strings?  \n",
    "\n",
    "\"My name is ___ \" ==> \"My name is Mike\""
   ]
  },
  {
   "cell_type": "markdown",
   "metadata": {
    "slideshow": {
     "slide_type": "slide"
    }
   },
   "source": [
    "## Method 1: str.format"
   ]
  },
  {
   "cell_type": "code",
   "execution_count": 15,
   "metadata": {
    "collapsed": false,
    "slideshow": {
     "slide_type": "slide"
    }
   },
   "outputs": [
    {
     "name": "stdout",
     "output_type": "stream",
     "text": [
      "My name is {name} and my favorite color is {color}.\n"
     ]
    }
   ],
   "source": [
    "my_string='My name is {name} and my favorite color is {color}.'\n",
    "print my_string.format(name='Mike', color='Blue')\n"
   ]
  },
  {
   "cell_type": "code",
   "execution_count": 13,
   "metadata": {
    "collapsed": false,
    "slideshow": {
     "slide_type": "slide"
    }
   },
   "outputs": [
    {
     "name": "stdout",
     "output_type": "stream",
     "text": [
      "I live in CA near Yosemite\n"
     ]
    }
   ],
   "source": [
    "'I live in {0} near {1}'.format('CA', 'Yosemite')\n",
    "print my_string"
   ]
  },
  {
   "cell_type": "markdown",
   "metadata": {
    "slideshow": {
     "slide_type": "slide"
    }
   },
   "source": [
    "# Method 2: '%s' - String Formatting Operator"
   ]
  },
  {
   "cell_type": "code",
   "execution_count": 17,
   "metadata": {
    "collapsed": false,
    "slideshow": {
     "slide_type": "slide"
    }
   },
   "outputs": [
    {
     "data": {
      "text/plain": [
       "'This is how to format a string'"
      ]
     },
     "execution_count": 17,
     "metadata": {},
     "output_type": "execute_result"
    }
   ],
   "source": [
    "'This is how to format a %s' % 'string'"
   ]
  },
  {
   "cell_type": "code",
   "execution_count": 18,
   "metadata": {
    "collapsed": false,
    "slideshow": {
     "slide_type": "slide"
    }
   },
   "outputs": [
    {
     "data": {
      "text/plain": [
       "'You can use more than 1 argument in your string'"
      ]
     },
     "execution_count": 18,
     "metadata": {},
     "output_type": "execute_result"
    }
   ],
   "source": [
    "'You can use more than %s %s in your %s' % (1, 'argument', 'string')"
   ]
  },
  {
   "cell_type": "markdown",
   "metadata": {
    "slideshow": {
     "slide_type": "slide"
    }
   },
   "source": [
    "'%s' uses str(arg) to convert the argument to a string.\n",
    "\n",
    "See other variants here: https://docs.python.org/2/library/stdtypes.html#string-formatting"
   ]
  },
  {
   "cell_type": "markdown",
   "metadata": {
    "slideshow": {
     "slide_type": "slide"
    }
   },
   "source": [
    "# File I/O\n",
    "\n",
    "We often want to use the contents of a file in our code.\n",
    "\n",
    "For example, data is sometimes stored in files (.csv, .txt, etc.)\n",
    "\n",
    "This section explains how to work with files."
   ]
  },
  {
   "cell_type": "markdown",
   "metadata": {
    "slideshow": {
     "slide_type": "slide"
    }
   },
   "source": [
    "### sample.txt:\n",
    "\n",
    "1234\n",
    "\n",
    "5678\n",
    "\n",
    "ABCD\n",
    "\n",
    "EFGH"
   ]
  },
  {
   "cell_type": "markdown",
   "metadata": {
    "slideshow": {
     "slide_type": "slide"
    }
   },
   "source": [
    "## Opening and Reading Files\n",
    "\n",
    "Use the 'open' method."
   ]
  },
  {
   "cell_type": "code",
   "execution_count": 23,
   "metadata": {
    "collapsed": false,
    "slideshow": {
     "slide_type": "slide"
    }
   },
   "outputs": [
    {
     "name": "stdout",
     "output_type": "stream",
     "text": [
      "1234\n",
      "\n",
      "5678\n",
      "\n",
      "ABCD\n",
      "\n",
      "EFGH\n",
      "\n"
     ]
    }
   ],
   "source": [
    "# use the 'open' built-in function\n",
    "\n",
    "# must call .read() on open file object\n",
    "print open('sample_file.txt').read() "
   ]
  },
  {
   "cell_type": "code",
   "execution_count": 24,
   "metadata": {
    "collapsed": false,
    "slideshow": {
     "slide_type": "slide"
    }
   },
   "outputs": [
    {
     "data": {
      "text/plain": [
       "<open file 'sample_file.txt', mode 'r' at 0x10d8d7f60>"
      ]
     },
     "execution_count": 24,
     "metadata": {},
     "output_type": "execute_result"
    }
   ],
   "source": [
    "open('sample_file.txt')"
   ]
  },
  {
   "cell_type": "code",
   "execution_count": 27,
   "metadata": {
    "collapsed": false,
    "slideshow": {
     "slide_type": "slide"
    }
   },
   "outputs": [
    {
     "data": {
      "text/plain": [
       "'1234\\n\\n5678\\n\\nABCD\\n\\nEFGH\\n'"
      ]
     },
     "execution_count": 27,
     "metadata": {},
     "output_type": "execute_result"
    }
   ],
   "source": [
    "my_file = open('sample_file.txt')\n",
    "my_file.read()"
   ]
  },
  {
   "cell_type": "markdown",
   "metadata": {
    "slideshow": {
     "slide_type": "slide"
    }
   },
   "source": [
    "## Q: What if the file is too large to fit in memory?\n",
    "## A: Handle the file one line at a time\n",
    "\n",
    "Iterate over the file object  \n",
    "\n",
    "\"for line in my_file\"\n",
    "\n",
    "This is the preferred way to deal with files, because it's memory efficient."
   ]
  },
  {
   "cell_type": "code",
   "execution_count": 36,
   "metadata": {
    "collapsed": false,
    "slideshow": {
     "slide_type": "slide"
    }
   },
   "outputs": [
    {
     "name": "stdout",
     "output_type": "stream",
     "text": [
      "Current line: 1234\n",
      "\n",
      "Current line: \n",
      "\n",
      "Current line: 5678\n",
      "\n",
      "Current line: \n",
      "\n",
      "Current line: ABCD\n",
      "\n",
      "Current line: \n",
      "\n",
      "Current line: EFGH\n",
      "\n"
     ]
    }
   ],
   "source": [
    "my_file = open('sample_file.txt')\n",
    "for line in my_file:\n",
    "    print 'Current line:', line\n",
    "    # 'line' is discarded from memory\n",
    "    # after each iteration of loop"
   ]
  },
  {
   "cell_type": "markdown",
   "metadata": {
    "slideshow": {
     "slide_type": "slide"
    }
   },
   "source": [
    "## File generators\n",
    "\n",
    "Note: open file is a \"generator\" object.  \n",
    "\n",
    "Once a line is referenced, it can't be referenced\n",
    "without reopening the file."
   ]
  },
  {
   "cell_type": "code",
   "execution_count": 47,
   "metadata": {
    "collapsed": false,
    "slideshow": {
     "slide_type": "slide"
    }
   },
   "outputs": [
    {
     "name": "stdout",
     "output_type": "stream",
     "text": [
      "first iteration:\n",
      "1234\n",
      "\n",
      "\n",
      "\n",
      "5678\n",
      "\n",
      "\n",
      "\n",
      "ABCD\n",
      "\n",
      "\n",
      "\n",
      "EFGH\n",
      "\n",
      "second iteration\n"
     ]
    }
   ],
   "source": [
    "my_file = open('sample_file.txt')\n",
    "\n",
    "print 'first iteration:'\n",
    "for line in my_file:\n",
    "    print line\n",
    "\n",
    "print 'second iteration'\n",
    "for line in my_file:\n",
    "    print line"
   ]
  },
  {
   "cell_type": "markdown",
   "metadata": {},
   "source": [
    "## Closing Files\n",
    "\n",
    "### 2 Methods:\n",
    "1. file.close\n",
    "2. 'with' statement"
   ]
  },
  {
   "cell_type": "code",
   "execution_count": 83,
   "metadata": {
    "collapsed": false,
    "slideshow": {
     "slide_type": "slide"
    }
   },
   "outputs": [
    {
     "name": "stdout",
     "output_type": "stream",
     "text": [
      "<closed file 'sample_file.txt', mode 'r' at 0x10dbcc5d0>\n"
     ]
    }
   ],
   "source": [
    "my_file = open('sample_file.txt')\n",
    "contents = my_file.read()\n",
    "my_file.close()\n",
    "print my_file"
   ]
  },
  {
   "cell_type": "markdown",
   "metadata": {
    "slideshow": {
     "slide_type": "slide"
    }
   },
   "source": [
    "### Problem: what if there's an error before my_file.close()?\n",
    "\n",
    "The file will remain open and inaccessible."
   ]
  },
  {
   "cell_type": "code",
   "execution_count": 86,
   "metadata": {
    "collapsed": false
   },
   "outputs": [
    {
     "name": "stdout",
     "output_type": "stream",
     "text": [
      "<closed file 'sample_file.txt', mode 'r' at 0x10dbcc780>\n"
     ]
    }
   ],
   "source": [
    "with open('sample_file.txt') as my_file:\n",
    "    my_file.read()\n",
    "    \n",
    "print my_file"
   ]
  },
  {
   "cell_type": "markdown",
   "metadata": {
    "slideshow": {
     "slide_type": "slide"
    }
   },
   "source": [
    "## Writing files\n",
    "\n",
    "Use open(filename, 'w')\n",
    "\n",
    "See details: https://docs.python.org/2/library/functions.html#open  \n",
    "Review difference between 'r', 'rb', 'w', 'wb' in open()"
   ]
  },
  {
   "cell_type": "code",
   "execution_count": 94,
   "metadata": {
    "collapsed": false,
    "slideshow": {
     "slide_type": "slide"
    }
   },
   "outputs": [
    {
     "name": "stdout",
     "output_type": "stream",
     "text": [
      "abcd\n",
      "1234\n"
     ]
    }
   ],
   "source": [
    "lines_to_write = ['abcd', '\\n', '1234']\n",
    "\n",
    "with open('file_to_write.txt', 'w') as my_file:\n",
    "    for line in lines_to_write:\n",
    "        my_file.write(line)\n",
    "    \n",
    "with open('file_to_write.txt') as my_file:\n",
    "    print my_file.read()"
   ]
  },
  {
   "cell_type": "code",
   "execution_count": 95,
   "metadata": {
    "collapsed": false,
    "slideshow": {
     "slide_type": "slide"
    }
   },
   "outputs": [
    {
     "name": "stdout",
     "output_type": "stream",
     "text": [
      "abcd\n",
      "1234\n",
      "1357\n",
      "2468\n"
     ]
    }
   ],
   "source": [
    "# can also append to end of files using open(filename, 'a')\n",
    "\n",
    "lines_to_append = ['\\n1357', '\\n2468']\n",
    "with open('file_to_write.txt', 'a') as my_file:\n",
    "    for line in lines_to_append:\n",
    "        my_file.write(line)\n",
    "    \n",
    "with open('file_to_write.txt') as my_file:\n",
    "    print my_file.read()"
   ]
  },
  {
   "cell_type": "code",
   "execution_count": null,
   "metadata": {
    "collapsed": true
   },
   "outputs": [],
   "source": []
  },
  {
   "cell_type": "code",
   "execution_count": null,
   "metadata": {
    "collapsed": true
   },
   "outputs": [],
   "source": []
  }
 ],
 "metadata": {
  "celltoolbar": "Slideshow",
  "kernelspec": {
   "display_name": "Python 2",
   "language": "python",
   "name": "python2"
  },
  "language_info": {
   "codemirror_mode": {
    "name": "ipython",
    "version": 2
   },
   "file_extension": ".py",
   "mimetype": "text/x-python",
   "name": "python",
   "nbconvert_exporter": "python",
   "pygments_lexer": "ipython2",
   "version": "2.7.10"
  }
 },
 "nbformat": 4,
 "nbformat_minor": 0
}
