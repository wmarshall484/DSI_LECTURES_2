{
 "cells": [
  {
   "cell_type": "markdown",
   "metadata": {
    "nbpresent": {
     "id": "cbe23784-86de-449e-ad58-27e276cf5951"
    },
    "slideshow": {
     "slide_type": "slide"
    }
   },
   "source": [
    "# Python Workshop - Day 1\n",
    "\n",
    "This workshop will review Python fundamentals and prepare you for Galvanize's DSI."
   ]
  },
  {
   "cell_type": "markdown",
   "metadata": {
    "nbpresent": {
     "id": "bed1d06c-a9db-4662-96a8-599e68acbd8f"
    },
    "slideshow": {
     "slide_type": "slide"
    }
   },
   "source": [
    "### Topics\n",
    "\n",
    "* Functions\n",
    "* Modules\n",
    "* Types\n",
    "* String Formatting\n",
    "* File I/O\n",
    "\n",
    "### Before we start:\n",
    "\n",
    "1. Open a new `Terminal`\n",
    "\n",
    "2. Replicate the git repository of the week 0:\n",
    "```\n",
    "git clone https://github.com/zipfian/python-workshop.git\n",
    "```\n",
    "\n",
    "3. Obtain this notebook:\n",
    "```\n",
    "git clone https://github.com/zipfian/DSI_Lectures.git\n",
    "cd DSI_Lectures/python-workshop/jfomhover/day1\n",
    "```\n",
    "\n",
    "4. Launch jupyter notebook (in a new terminal):\n",
    "```\n",
    "jupyter notebook\n",
    "```\n",
    "\n",
    "5. Launch atom:\n",
    "```\n",
    "atom\n",
    "```\n"
   ]
  },
  {
   "cell_type": "markdown",
   "metadata": {
    "nbpresent": {
     "id": "9f687b7a-5274-4607-8598-bf2211dcda40"
    },
    "slideshow": {
     "slide_type": "slide"
    }
   },
   "source": [
    "<span style=\"color:#888; font-size:150%; font-weight:bold\">[Morning Lecture]</span>\n",
    "\n",
    "## 1. Functions\n",
    "\n",
    "A function is a reusable bit of code, defined by:\n",
    "- a **name**,\n",
    "- **inputs** also named **parameters** or **arguments**,\n",
    "- an output or **return value** (can be multiple values in one tuple)."
   ]
  },
  {
   "cell_type": "code",
   "execution_count": null,
   "metadata": {
    "collapsed": false
   },
   "outputs": [],
   "source": [
    "def is_palindrome(word):\n",
    "    \"\"\"Returns whether the word is a palindrome (the same forwards and backwards).\n",
    "    \n",
    "    INPUT: str\n",
    "    OUTPUT: bool\n",
    "    \"\"\"\n",
    "    # it is more fun if we strip all spaces and put in lowercase\n",
    "    word = word.replace(\" \", \"\").lower()\n",
    "\n",
    "    # loop on indexes between 0 and the middle of the word\n",
    "    for i in xrange(len(word) / 2):\n",
    "        # if the caracterer at this index is different\n",
    "        # from the one on the mirror opposite side\n",
    "        if word[i] != word[-i - 1]:\n",
    "            # then it's not a palindrome\n",
    "            return False\n",
    "    \n",
    "    # if this loop is exited, it means it has never returned False\n",
    "    # so it should return True\n",
    "    return True"
   ]
  },
  {
   "cell_type": "markdown",
   "metadata": {},
   "source": [
    "Now let's have fun with it..."
   ]
  },
  {
   "cell_type": "code",
   "execution_count": null,
   "metadata": {
    "collapsed": false
   },
   "outputs": [],
   "source": [
    "print \"test the word 'rever' (french)\"\n",
    "print is_palindrome('rever')\n",
    "\n",
    "print \"test 'dream'\"\n",
    "print is_palindrome('dream')\n",
    "\n",
    "print \"test the sentence 'et la marine va venir a Malte' (french)\"\n",
    "# translates as 'and the marine will come to Malta'\n",
    "print is_palindrome('et la marine va venir a malte')"
   ]
  },
  {
   "cell_type": "markdown",
   "metadata": {
    "slideshow": {
     "slide_type": "slide"
    }
   },
   "source": [
    "**Functions are \"first class\" objects in Python**\n",
    "\n",
    "* They can be passed as arguments to other functions\n",
    "* They can be returned as values from other functions\n",
    "* Can be assigned to variables\n",
    "* Can be stored in other data structures\n",
    "* Their type is \"function\"\n",
    "\n",
    "**Follow the D.R.Y principle: Don't Repeat Yourself!**\n",
    "\n",
    "Use functions to avoid repeated code."
   ]
  },
  {
   "cell_type": "code",
   "execution_count": null,
   "metadata": {
    "collapsed": false
   },
   "outputs": [],
   "source": [
    "def fibonacci(a1, a2, n):\n",
    "    \"\"\"Prints the n first elements of a fibonacci suite\n",
    "    given values a1 and a2 for first two ranks.\"\"\"\n",
    "\n",
    "    # eliminating easy cases first\n",
    "    if (n <= 0):\n",
    "        return\n",
    "    if (n >= 1):\n",
    "        print a1\n",
    "    if (n >= 2):\n",
    "        print a2\n",
    "\n",
    "    # looping on n\n",
    "    anm2 = a1 # value at rank n-2\n",
    "    anm1 = a2 # value at rank n-1\n",
    "    for i in range(2, n):\n",
    "        an = anm2 + anm1 # value at rank n\n",
    "        print an\n",
    "        anm2 = anm1      # updating rank n-2\n",
    "        anm1 = an        # updating rank n-1\n",
    "    return\n",
    "\n",
    "print \"first 5 values with 1,1\"\n",
    "fibonacci(1,1,5)\n",
    "\n",
    "print \"first 5 values with 1,4\"\n",
    "fibonacci(1,4,5)"
   ]
  },
  {
   "cell_type": "code",
   "execution_count": null,
   "metadata": {
    "collapsed": false
   },
   "outputs": [],
   "source": [
    "def fibonacci_v2(a1, a2, n, func):\n",
    "    \"\"\"Prints the n first elements of a fibonacci suite\n",
    "    given values a1 and a2 for first two ranks,\n",
    "    and func the operation for computing rank n.\"\"\"\n",
    "    \n",
    "    # eliminating easy cases first\n",
    "    if (n <= 0):\n",
    "        return\n",
    "    if (n >= 1):\n",
    "        print a1\n",
    "    if (n >= 2):\n",
    "        print a2\n",
    "\n",
    "    # looping on n\n",
    "    anm2 = a1 # value at rank n-2\n",
    "    anm1 = a2 # value at rank n-1\n",
    "    for i in range(2, n):\n",
    "        # NOTICE THE CHANGE HERE ???\n",
    "        an = func(anm2,anm1) # value at rank n\n",
    "        print an\n",
    "        anm2 = anm1      # updating rank n-2\n",
    "        anm1 = an        # updating rank n-1\n",
    "    return\n",
    "\n",
    "def fibo_operation_add(anm2, anm1):\n",
    "    return(anm2 + anm1)\n",
    "\n",
    "def fibo_operation_prod(anm2, anm1):\n",
    "    return(anm2 * anm1)\n",
    "\n",
    "print \"first 5 values with 1,1 and addition\"\n",
    "fibonacci_v2(1,1,5,fibo_operation_add)\n",
    "\n",
    "print \"first 5 values with 1,4 and addition\"\n",
    "fibonacci_v2(1,4,5,fibo_operation_add)\n",
    "\n",
    "print \"first 5 values with 1,1 and product\"\n",
    "fibonacci_v2(1,1,5,fibo_operation_prod)\n",
    "\n",
    "print \"first 5 values with 1,4 and product\"\n",
    "fibonacci_v2(1,4,5,fibo_operation_prod)"
   ]
  },
  {
   "cell_type": "markdown",
   "metadata": {
    "nbpresent": {
     "id": "0db4e789-6ff2-421b-8725-f3a60b4677fd"
    },
    "slideshow": {
     "slide_type": "slide"
    }
   },
   "source": [
    "## 2. Modules\n",
    "\n",
    "* design and use a module to store functions that you want to reuse\n",
    "* implement a single \"main\" module that imports and runs your code\n",
    "* run your code inside a \"main\" block\n",
    "\n",
    "### 2.1. Importing\n",
    "\n",
    "The file `my_module.py` contains:\n",
    "\n",
    "```python\n",
    "def foo(x, y):\n",
    "    return x+y\n",
    "\n",
    "def bar(x, y, z):\n",
    "    return x - y + z\n",
    "```\n",
    "\n",
    "We'll use 2 ways for importing:"
   ]
  },
  {
   "cell_type": "code",
   "execution_count": null,
   "metadata": {
    "collapsed": false,
    "nbpresent": {
     "id": "f4553bae-e3df-48fc-874e-41c6364184a7"
    },
    "slideshow": {
     "slide_type": "slide"
    }
   },
   "outputs": [],
   "source": [
    "from my_module import foo, bar\n",
    "\n",
    "print foo(1, 2)\n",
    "print bar(3, 4, 5)"
   ]
  },
  {
   "cell_type": "code",
   "execution_count": null,
   "metadata": {
    "collapsed": false
   },
   "outputs": [],
   "source": [
    "import my_module\n",
    "\n",
    "print my_module.foo(1, 2)\n",
    "print my_module.bar(3, 4, 5)"
   ]
  },
  {
   "cell_type": "markdown",
   "metadata": {},
   "source": [
    "### 2.2. Setting up a main block\n",
    "\n",
    "File `script.py` contains:\n",
    "```python\n",
    "def foo():\n",
    "    print 'foofoo'\n",
    "\n",
    "def bar():\n",
    "    print 'barbar'\n",
    "\n",
    "foo()\n",
    "bar()\n",
    "```\n",
    "\n",
    "Here's what will happen if you `import` it:"
   ]
  },
  {
   "cell_type": "code",
   "execution_count": null,
   "metadata": {
    "collapsed": false,
    "nbpresent": {
     "id": "21b38569-28af-420b-aa4f-ea9fefa448ba"
    },
    "slideshow": {
     "slide_type": "slide"
    }
   },
   "outputs": [],
   "source": [
    "# importing from script.py executes the whole file\n",
    "from script import foo"
   ]
  },
  {
   "cell_type": "markdown",
   "metadata": {},
   "source": [
    "Instead, in file `script2.py`, we have defined a \"main block\". This block will be executed only if the file is executed as main. If it is imported it will not execute.\n",
    "\n",
    "```python\n",
    "def foo():\n",
    "    print 'foofoo'\n",
    "\n",
    "def bar():\n",
    "     print 'barbar'\n",
    "\n",
    "if __name__ == '__main__':\n",
    "    foo()\n",
    "    bar()\n",
    "```"
   ]
  },
  {
   "cell_type": "code",
   "execution_count": null,
   "metadata": {
    "collapsed": false,
    "nbpresent": {
     "id": "8067a24d-21d3-4fe9-b6d4-6f5080f07a91"
    },
    "slideshow": {
     "slide_type": "slide"
    }
   },
   "outputs": [],
   "source": [
    "# script2.py is still executed, but foo() and bar() aren't called,\n",
    "# because __name__ != '__main__'\n",
    "from script2 import foo\n",
    "\n",
    "# but still I can access those functions...\n",
    "foo()"
   ]
  },
  {
   "cell_type": "markdown",
   "metadata": {
    "nbpresent": {
     "id": "e7d921d9-91a2-4e4e-b4fb-bffc2725c0a7"
    },
    "slideshow": {
     "slide_type": "slide"
    }
   },
   "source": [
    "## 3. Types\n",
    "\n",
    "The basic substantive objects you will use to implement your processes:\n",
    "\n",
    "| TYPE | DESCRIPTION | EXAMPLE VALUE(S) |\n",
    "|:--|:--|:--|\n",
    "| `int` | integers | `1, 2, -3` ... |\n",
    "| `float` | real numbers, floating values | `1.0, 2.5, 102342.32423` ... |\n",
    "| `str` | strings | `'abc'` |\n",
    "| `tuple` | an immutable tuple of values, each has its own type | `(1, 'a', 5.0)` |\n",
    "| `list` | a list defined as an indexed sequence of elements | `[1, 3, 5, 7]` |\n",
    "| `dict` | a dictionary that maps keys to values | `{'a' : 1, 'b' : 2}` |\n",
    "| `set` | a set of distinct values | `{1, 2, 3}` |"
   ]
  },
  {
   "cell_type": "markdown",
   "metadata": {
    "nbpresent": {
     "id": "034e31de-7f35-4edb-8bb3-d461e2b8514b"
    },
    "slideshow": {
     "slide_type": "slide"
    }
   },
   "source": [
    "### 3.1. Testing types of objects\n",
    "\n",
    "**You can check the type of objects** using:\n",
    "\n",
    "* `type(some_object)` : returns the type itself\n",
    "* `isinstance(some_object, some_type)` : returns `True` if the object has the given type"
   ]
  },
  {
   "cell_type": "code",
   "execution_count": null,
   "metadata": {
    "collapsed": false
   },
   "outputs": [],
   "source": [
    "my_string = 'abc'\n",
    "\n",
    "print 'object:', my_string\n",
    "print type(my_string)\n",
    "\n",
    "print 'Is string?', isinstance(my_string, str)"
   ]
  },
  {
   "cell_type": "code",
   "execution_count": null,
   "metadata": {
    "collapsed": false,
    "nbpresent": {
     "id": "af080e47-7262-4681-9565-6703261f46ca"
    },
    "slideshow": {
     "slide_type": "slide"
    }
   },
   "outputs": [],
   "source": [
    "my_integer = 123\n",
    "\n",
    "print 'object:', my_integer\n",
    "print type(my_integer)\n",
    "\n",
    "print 'Is integer?', isinstance(my_integer, int)\n",
    "print 'Is float?', isinstance(my_integer, float)"
   ]
  },
  {
   "cell_type": "markdown",
   "metadata": {
    "nbpresent": {
     "id": "40bd9c4c-a017-44bd-a333-ff448a7591c6"
    },
    "slideshow": {
     "slide_type": "slide"
    }
   },
   "source": [
    "### 3.2. Immutable vs Mutable Types\n",
    "\n",
    "**Immutable** - those can't be changed, only by redefining (replacing, overwriting...)\n",
    "* int 1, 2, -3\n",
    "* float 1.0, 2.5, 102342.32423\n",
    "* str 'abc'\n",
    "* tuple (1, 'a', 5.0)\n",
    "\n",
    "**Mutable** - can be changed, usually they are structured from which elements can be modified, replaced, exchanged.\n",
    "* list [1, 3, 5, 7]\n",
    "* dict {'a' : 1, 'b' : 2}\n",
    "* set {1, 2, 3}\n"
   ]
  },
  {
   "cell_type": "code",
   "execution_count": null,
   "metadata": {
    "collapsed": false,
    "nbpresent": {
     "id": "6cd6eece-e7f2-4a02-b554-24fbe40ae025"
    },
    "slideshow": {
     "slide_type": "slide"
    }
   },
   "outputs": [],
   "source": [
    "example_list = [1, 2, 3]\n",
    "example_list[0] = 100\n",
    "print example_list"
   ]
  },
  {
   "cell_type": "code",
   "execution_count": null,
   "metadata": {
    "collapsed": false,
    "nbpresent": {
     "id": "dc4897e0-d0a5-45e7-9ff0-0cafc4f6e5fc"
    },
    "slideshow": {
     "slide_type": "slide"
    }
   },
   "outputs": [],
   "source": [
    "example_tuple =  (1, 2, 3)\n",
    "example_tuple[0] = 100\n",
    "print example_tuple"
   ]
  },
  {
   "cell_type": "markdown",
   "metadata": {},
   "source": [
    "Another way of seeing this, is by looking at the memory block allocated for a variable.\n",
    "- **Immutable** types will need a new block for their value to change (you never modify anything inside that block).\n",
    "- **Mutable** types will let you modify what's inside that block.\n",
    "\n",
    "_(Put it another way, you don't have write permission to write in the memory occupied by immutable types)_\n",
    "\n",
    "Let's test that with the function `id(some_object)` that returns the address of the object in memory."
   ]
  },
  {
   "cell_type": "code",
   "execution_count": null,
   "metadata": {
    "collapsed": false,
    "nbpresent": {
     "id": "9685ce02-9e56-427b-96df-76f4c74d0e09"
    },
    "slideshow": {
     "slide_type": "slide"
    }
   },
   "outputs": [],
   "source": [
    "number = 1\n",
    "number += 2\n",
    "print number"
   ]
  },
  {
   "cell_type": "code",
   "execution_count": null,
   "metadata": {
    "collapsed": false,
    "nbpresent": {
     "id": "7a69d5c8-c855-4ab0-bf54-4168796d8f15"
    },
    "slideshow": {
     "slide_type": "slide"
    }
   },
   "outputs": [],
   "source": [
    "number = 1\n",
    "print id(number)\n",
    "\n",
    "number += 2\n",
    "print id(number)"
   ]
  },
  {
   "cell_type": "code",
   "execution_count": null,
   "metadata": {
    "collapsed": false,
    "nbpresent": {
     "id": "5023edb1-852c-4dd6-9618-962d3c1bee1f"
    },
    "slideshow": {
     "slide_type": "slide"
    }
   },
   "outputs": [],
   "source": [
    "example_list2 = [1, 2, 3]\n",
    "print id(example_list2)\n",
    "\n",
    "example_list2[0] = 100\n",
    "print id(example_list2)\n"
   ]
  },
  {
   "cell_type": "markdown",
   "metadata": {
    "nbpresent": {
     "id": "b0bd6ca0-0ebe-482a-ba0f-fb341e80f44c"
    },
    "slideshow": {
     "slide_type": "slide"
    }
   },
   "source": [
    "## 4. String Formatting\n",
    "\n",
    "How to create strings of text using content of variables ?\n",
    "\n",
    "ex: \"My name is ___ \" ==> \"My name is Mike\""
   ]
  },
  {
   "cell_type": "markdown",
   "metadata": {
    "nbpresent": {
     "id": "46008719-b6c7-4419-adb0-fcf26a750382"
    },
    "slideshow": {
     "slide_type": "slide"
    }
   },
   "source": [
    "### 4.1. Using `str.format()` [recommended]\n",
    "\n",
    "This method is now recommended, it will live up to the transition to python 3. You can find the [documentation on string formatting in python 2](https://docs.python.org/2/library/string.html#formatstrings), or as a [tutorial](https://pyformat.info).\n",
    "\n",
    "The idea is to create a string that will define how the content will be formatted, then to _fill up_ that string with some values, then `print` it."
   ]
  },
  {
   "cell_type": "code",
   "execution_count": null,
   "metadata": {
    "collapsed": false,
    "nbpresent": {
     "id": "b59b26ec-761e-4738-9cce-d53fb3a1a672"
    },
    "slideshow": {
     "slide_type": "slide"
    }
   },
   "outputs": [],
   "source": [
    "my_formatstring = 'My name is {name} and my favorite color is {color}.'\n",
    "\n",
    "my_returnstring = my_formatstring.format(name='Mike', color='Blue')\n",
    "\n",
    "print my_returnstring"
   ]
  },
  {
   "cell_type": "markdown",
   "metadata": {},
   "source": [
    "In practice, those three steps are condensed in one line:"
   ]
  },
  {
   "cell_type": "code",
   "execution_count": null,
   "metadata": {
    "collapsed": false
   },
   "outputs": [],
   "source": [
    "print('My name is {name} and my favorite color is {color}.'.format(name='Mike', color='Blue'))"
   ]
  },
  {
   "cell_type": "markdown",
   "metadata": {},
   "source": [
    "You can use indexes instead of keys."
   ]
  },
  {
   "cell_type": "code",
   "execution_count": null,
   "metadata": {
    "collapsed": false,
    "nbpresent": {
     "id": "29c45579-7f65-411c-9a84-99844f9e29a0"
    },
    "slideshow": {
     "slide_type": "slide"
    }
   },
   "outputs": [],
   "source": [
    "print('I live in {state} near {city}'.format(state='WA', city='Seattle'))\n",
    "print('I live in {0} near {1}'.format('WA', 'Seattle'))\n",
    "print('I live in {} near {}'.format('WA', 'Seattle'))"
   ]
  },
  {
   "cell_type": "markdown",
   "metadata": {},
   "source": [
    "**Typical use for formatting floats** (you'll use that a lot)."
   ]
  },
  {
   "cell_type": "code",
   "execution_count": null,
   "metadata": {
    "collapsed": false
   },
   "outputs": [],
   "source": [
    "mse = 126.159320642998\n",
    "\n",
    "# unspecified type, converted to string then injected\n",
    "print('Mean Square Error: {}'.format(mse))\n",
    "\n",
    "# specifying it's a float (auto cut to 6 digits)\n",
    "print('Mean Square Error: {:f}'.format(mse))\n",
    "\n",
    "# specifying how many significants digits\n",
    "print('Mean Square Error: {:.2f}'.format(mse))"
   ]
  },
  {
   "cell_type": "markdown",
   "metadata": {
    "nbpresent": {
     "id": "02c2cebe-6284-4489-8851-d601a49144d6"
    },
    "slideshow": {
     "slide_type": "slide"
    }
   },
   "source": [
    "### 4.2. Using '%s' - String Formatting Operator"
   ]
  },
  {
   "cell_type": "code",
   "execution_count": null,
   "metadata": {
    "collapsed": false
   },
   "outputs": [],
   "source": [
    "my_name = 'Mike'\n",
    "\n",
    "print 'Hi ! My name is %s' % my_name"
   ]
  },
  {
   "cell_type": "code",
   "execution_count": null,
   "metadata": {
    "collapsed": false,
    "nbpresent": {
     "id": "b3e887eb-636d-49ac-9bf8-fe5aa7acf08f"
    },
    "slideshow": {
     "slide_type": "slide"
    }
   },
   "outputs": [],
   "source": [
    "print 'My name is %s and my favorite color is %s.' % ('Mike', 'Blue')"
   ]
  },
  {
   "cell_type": "code",
   "execution_count": null,
   "metadata": {
    "collapsed": false
   },
   "outputs": [],
   "source": [
    "mse = 126.159320642998\n",
    "\n",
    "# unspecified, converted to string then injected\n",
    "print('Mean Square Error: %s' % mse)\n",
    "\n",
    "# specifying it's a float (auto cut to 6 digits)\n",
    "print('Mean Square Error: %f' % mse)\n",
    "\n",
    "# specifying how many significants digits\n",
    "print('Mean Square Error: %.2f' % mse)"
   ]
  },
  {
   "cell_type": "markdown",
   "metadata": {
    "nbpresent": {
     "id": "55348c50-1431-485b-b2f2-8c1bccd2cb0b"
    },
    "slideshow": {
     "slide_type": "slide"
    }
   },
   "source": [
    "See other variants here: https://docs.python.org/2/library/stdtypes.html#string-formatting"
   ]
  },
  {
   "cell_type": "markdown",
   "metadata": {},
   "source": [
    "<span style=\"color:#888; font-size:150%; font-weight:bold\">[Morning Assignment]</span>\n",
    "\n",
    "Demonstration:\n",
    "- workflow\n",
    "- programming environment\n",
    "- unit testing your functions"
   ]
  },
  {
   "cell_type": "markdown",
   "metadata": {},
   "source": [
    "<span style=\"color:#888; font-size:150%; font-weight:bold\">[Afternoon Lecture]</span>"
   ]
  },
  {
   "cell_type": "markdown",
   "metadata": {
    "nbpresent": {
     "id": "8ab907a8-9813-4e7a-a7ed-de6d61435503"
    },
    "slideshow": {
     "slide_type": "slide"
    }
   },
   "source": [
    "## 5. File I/O\n",
    "\n",
    "We often want to use the contents of a file in our code.\n",
    "\n",
    "For example, data is sometimes stored in files (.csv, .txt, etc.)\n",
    "\n",
    "This section explains how to work with files.\n",
    "\n",
    "Here's a dump of the file `sample_file.txt`:\n",
    "```\n",
    "1234\n",
    "\n",
    "5678\n",
    "\n",
    "ABCD\n",
    "\n",
    "EFGH\n",
    "\n",
    "```"
   ]
  },
  {
   "cell_type": "markdown",
   "metadata": {
    "nbpresent": {
     "id": "c9e74926-d0b5-4e58-8392-4747794471a4"
    },
    "slideshow": {
     "slide_type": "slide"
    }
   },
   "source": [
    "### 5.1. Opening and reading files\n",
    "\n",
    "Use the 'open' built-in method. It returns an object with type `file`."
   ]
  },
  {
   "cell_type": "code",
   "execution_count": null,
   "metadata": {
    "collapsed": false
   },
   "outputs": [],
   "source": [
    "my_file = open('sample_file.txt')\n",
    "\n",
    "print(\"object has type: {}\".format(type(my_file)))"
   ]
  },
  {
   "cell_type": "markdown",
   "metadata": {},
   "source": [
    "By default, `open()` opens a file for reading (we'll see how to write later). You can specify it using `'r'` as second argument.\n",
    "\n",
    "You will have to call functions of this object like, for instance, `.read()`: it returns the whole content of this file as a string."
   ]
  },
  {
   "cell_type": "code",
   "execution_count": null,
   "metadata": {
    "collapsed": false,
    "nbpresent": {
     "id": "cc7ee265-a2a4-418d-b40a-1449a34737a8"
    },
    "slideshow": {
     "slide_type": "slide"
    }
   },
   "outputs": [],
   "source": [
    "my_file = open('sample_file.txt', 'r')\n",
    "\n",
    "my_content = my_file.read()\n",
    "\n",
    "print(\"object has type: {}\".format(type(my_content)))\n",
    "\n",
    "print [my_content]"
   ]
  },
  {
   "cell_type": "markdown",
   "metadata": {},
   "source": [
    "### 5.2. Reading a file line by line using generators [recommended]\n",
    "\n",
    "In practice, we prefer to read files line by line. It is particularly more efficient because it avoids loading the full content of the file in memory. In data science, you may encounter files (log files, transactions, etc) that may not fit at all into your computer's memory. Reading them line by line to do some operations can be the only way to process them."
   ]
  },
  {
   "cell_type": "code",
   "execution_count": null,
   "metadata": {
    "collapsed": false
   },
   "outputs": [],
   "source": [
    "my_file = open('sample_file.txt', 'r')\n",
    "\n",
    "for line in my_file:\n",
    "    print 'Current line:', line\n",
    "    # 'line' is discarded from memory\n",
    "    # after each iteration of loop"
   ]
  },
  {
   "cell_type": "markdown",
   "metadata": {},
   "source": [
    "**Note**: the object returned by `open()` is a **\"generator\"**. Once a line is referenced (put into a variable), it is passed and cannot be referenced again without reopening the file."
   ]
  },
  {
   "cell_type": "code",
   "execution_count": null,
   "metadata": {
    "collapsed": false
   },
   "outputs": [],
   "source": [
    "my_file = open('sample_file.txt', 'r')\n",
    "\n",
    "print 'first iteration:'\n",
    "print [line for line in my_file]\n",
    "\n",
    "print\n",
    "\n",
    "print 'second iteration'\n",
    "print [line for line in my_file]"
   ]
  },
  {
   "cell_type": "markdown",
   "metadata": {
    "nbpresent": {
     "id": "58ee1ec0-18f6-427d-98ea-a0d908e34764"
    },
    "slideshow": {
     "slide_type": "slide"
    }
   },
   "source": [
    "### 5.3. Closing files\n",
    "\n",
    "You have to take care of closing a file you don't use anymore. This can be done either explicitely using `.close()`, or by putting our I/O process within a `with` statement.\n",
    "\n",
    "Using **`.close()`** explicitely closes the file:"
   ]
  },
  {
   "cell_type": "code",
   "execution_count": null,
   "metadata": {
    "collapsed": false,
    "nbpresent": {
     "id": "f438a62d-7a20-42ef-abd7-719cc80f3e02"
    },
    "slideshow": {
     "slide_type": "slide"
    }
   },
   "outputs": [],
   "source": [
    "my_file = open('sample_file.txt', 'r')\n",
    "contents = my_file.read()\n",
    "my_file.close()\n",
    "\n",
    "print my_file"
   ]
  },
  {
   "cell_type": "markdown",
   "metadata": {},
   "source": [
    "Placing operations inside a `with` statement implicitely closes the file handler once the block is exited."
   ]
  },
  {
   "cell_type": "code",
   "execution_count": null,
   "metadata": {
    "collapsed": false
   },
   "outputs": [],
   "source": [
    "with open('sample_file.txt', 'r') as my_file:\n",
    "    my_file.read()\n",
    "    \n",
    "print my_file"
   ]
  },
  {
   "cell_type": "markdown",
   "metadata": {
    "collapsed": false,
    "slideshow": {
     "slide_type": "slide"
    }
   },
   "source": [
    "### 5.4. Reading a file in practice\n",
    "\n",
    "As a summary, here's how one should do it."
   ]
  },
  {
   "cell_type": "code",
   "execution_count": null,
   "metadata": {
    "collapsed": false
   },
   "outputs": [],
   "source": [
    "count = 0    # just for the sake of the example below\n",
    "\n",
    "with open('sample_file.txt', 'r') as my_file:\n",
    "    for line in my_file:\n",
    "        # do something with line...\n",
    "        # below we count the number of non-whitespace chars\n",
    "        count += len(line.strip())\n",
    "\n",
    "print count"
   ]
  },
  {
   "cell_type": "markdown",
   "metadata": {},
   "source": [
    "### 5.5. Reading CSV files\n",
    "\n",
    "A special case of text files is comma-separated values.\n",
    "\n",
    "Let's have a look at this file:"
   ]
  },
  {
   "cell_type": "code",
   "execution_count": null,
   "metadata": {
    "collapsed": false
   },
   "outputs": [],
   "source": [
    "with open('sample_csv_easy.csv') as my_file:\n",
    "    for line in my_file:\n",
    "        print line.strip()   # remove \\n at the end"
   ]
  },
  {
   "cell_type": "markdown",
   "metadata": {},
   "source": [
    "You might be tempted to do just that..."
   ]
  },
  {
   "cell_type": "code",
   "execution_count": null,
   "metadata": {
    "collapsed": false
   },
   "outputs": [],
   "source": [
    "with open('sample_csv_easy.csv') as my_file:\n",
    "    for line in my_file:\n",
    "        line = line.strip()   # remove \\n at the end\n",
    "        print line.split(',') # returns a list by splitting by ','"
   ]
  },
  {
   "cell_type": "markdown",
   "metadata": {},
   "source": [
    "**<span style=\"color:red\">JUST DON'T</span>** (please `^^;`). Use module `csv` instead, it has everything you need to face the easy and the hard scenarios."
   ]
  },
  {
   "cell_type": "code",
   "execution_count": null,
   "metadata": {
    "collapsed": false
   },
   "outputs": [],
   "source": [
    "import csv\n",
    "\n",
    "with open('sample_csv_easy.csv') as my_file:\n",
    "    reader = csv.reader(my_file)\n",
    "    for line in reader:\n",
    "        print line"
   ]
  },
  {
   "cell_type": "markdown",
   "metadata": {},
   "source": [
    "In some (real life) cases, those files may contain anything."
   ]
  },
  {
   "cell_type": "code",
   "execution_count": null,
   "metadata": {
    "collapsed": false
   },
   "outputs": [],
   "source": [
    "with open('sample_csv_hard.csv') as my_file:\n",
    "    for line in my_file:\n",
    "        print line.strip()   # remove \\n at the end"
   ]
  },
  {
   "cell_type": "markdown",
   "metadata": {},
   "source": [
    "Even the best can fail..."
   ]
  },
  {
   "cell_type": "code",
   "execution_count": null,
   "metadata": {
    "collapsed": false
   },
   "outputs": [],
   "source": [
    "import csv\n",
    "with open('sample_csv_hard.csv') as my_file:\n",
    "    reader = csv.reader(my_file)\n",
    "    for line in reader:\n",
    "        print line"
   ]
  },
  {
   "cell_type": "markdown",
   "metadata": {},
   "source": [
    "You can provide many parameters to that `csv.reader`, to handle special cases."
   ]
  },
  {
   "cell_type": "code",
   "execution_count": null,
   "metadata": {
    "collapsed": false
   },
   "outputs": [],
   "source": [
    "import csv\n",
    "\n",
    "with open('sample_csv_hard.csv') as csvfile:\n",
    "    my_reader = csv.reader(csvfile,\n",
    "                           delimiter=',',         # specifies the delimiter\n",
    "                           quotechar='\"',         # char for delimiting quotes\n",
    "                           skipinitialspace=True) # ignores leading spaces in fields\n",
    "    for row in my_reader:\n",
    "        print row"
   ]
  },
  {
   "cell_type": "markdown",
   "metadata": {
    "nbpresent": {
     "id": "23f1ab45-6994-4703-a860-7b658b06ab14"
    },
    "slideshow": {
     "slide_type": "slide"
    }
   },
   "source": [
    "### 5.6. Writing files\n",
    "\n",
    "Use the second argument of `open()`: `open(filename, 'w')`\n",
    "\n",
    "See details: https://docs.python.org/2/library/functions.html#open  \n",
    "Review difference between 'r', 'rb', 'w', 'wb' in open()"
   ]
  },
  {
   "cell_type": "code",
   "execution_count": null,
   "metadata": {
    "collapsed": false,
    "nbpresent": {
     "id": "d927b246-1445-4c72-905e-b04e21164d65"
    },
    "slideshow": {
     "slide_type": "slide"
    }
   },
   "outputs": [],
   "source": [
    "lines_to_write = ['abcd\\n', 'blabla\\n', '1234\\n']\n",
    "\n",
    "with open('file_to_write.txt', 'w') as my_file:\n",
    "    for line in lines_to_write:\n",
    "        my_file.write(line)\n",
    "    \n",
    "with open('file_to_write.txt') as my_file:\n",
    "    print my_file.read()"
   ]
  },
  {
   "cell_type": "markdown",
   "metadata": {},
   "source": [
    "In the block above, we had to add `'\\n'` at the end of our strings before using write. There is a simple way to cope with that:"
   ]
  },
  {
   "cell_type": "code",
   "execution_count": null,
   "metadata": {
    "collapsed": false
   },
   "outputs": [],
   "source": [
    "lines_to_write = ['abcd', 'blabla', '1234']\n",
    "\n",
    "with open('file_to_write.txt', 'w') as my_file:\n",
    "    for line in lines_to_write:\n",
    "        my_file.write(line)\n",
    "        my_file.write('\\n')\n",
    "    \n",
    "with open('file_to_write.txt') as my_file:\n",
    "    print my_file.read()"
   ]
  },
  {
   "cell_type": "markdown",
   "metadata": {},
   "source": [
    "You can also append to end of files using `open(filename, 'a')` instead."
   ]
  },
  {
   "cell_type": "code",
   "execution_count": null,
   "metadata": {
    "collapsed": false,
    "nbpresent": {
     "id": "65eb7062-0193-4a2c-9507-3c9cfffb879d"
    },
    "slideshow": {
     "slide_type": "slide"
    }
   },
   "outputs": [],
   "source": [
    "lines_to_append = ['1357', '2468']\n",
    "\n",
    "with open('file_to_write.txt', 'a') as my_file:\n",
    "    for line in lines_to_append:\n",
    "        my_file.write(line)\n",
    "        my_file.write('\\n')\n",
    "    \n",
    "with open('file_to_write.txt') as my_file:\n",
    "    print my_file.read()"
   ]
  },
  {
   "cell_type": "code",
   "execution_count": null,
   "metadata": {
    "collapsed": true
   },
   "outputs": [],
   "source": []
  }
 ],
 "metadata": {
  "anaconda-cloud": {},
  "kernelspec": {
   "display_name": "Python [default]",
   "language": "python",
   "name": "python2"
  },
  "language_info": {
   "codemirror_mode": {
    "name": "ipython",
    "version": 2
   },
   "file_extension": ".py",
   "mimetype": "text/x-python",
   "name": "python",
   "nbconvert_exporter": "python",
   "pygments_lexer": "ipython2",
   "version": "2.7.12"
  },
  "nbpresent": {
   "slides": {
    "02ff9a65-f14c-475a-995d-9f13c63d822d": {
     "id": "02ff9a65-f14c-475a-995d-9f13c63d822d",
     "prev": "da5f5fa2-8422-48c9-9d07-d7cbbdf51031",
     "regions": {
      "4e20fbcc-e224-48be-8a2c-47da09baae9e": {
       "attrs": {
        "height": 0.8,
        "width": 0.8,
        "x": 0.1,
        "y": 0.1
       },
       "content": {
        "cell": "b0bd6ca0-0ebe-482a-ba0f-fb341e80f44c",
        "part": "whole"
       },
       "id": "4e20fbcc-e224-48be-8a2c-47da09baae9e"
      }
     }
    },
    "099dd2c5-9cdb-4152-b777-54b3638611a1": {
     "id": "099dd2c5-9cdb-4152-b777-54b3638611a1",
     "prev": "c554ee36-6ca9-4035-b4be-6c4545e3a3e5",
     "regions": {
      "0dedaee8-14f5-4ce2-885c-bc22246f1db7": {
       "attrs": {
        "height": 0.8,
        "width": 0.8,
        "x": 0.1,
        "y": 0.1
       },
       "content": {
        "cell": "e7d921d9-91a2-4e4e-b4fb-bffc2725c0a7",
        "part": "whole"
       },
       "id": "0dedaee8-14f5-4ce2-885c-bc22246f1db7"
      }
     }
    },
    "0a7fcc23-8ce3-4940-a065-d2f3b0fa8ef3": {
     "id": "0a7fcc23-8ce3-4940-a065-d2f3b0fa8ef3",
     "prev": "1995d435-0ad3-4605-8997-e39940bab071",
     "regions": {
      "d6c9ed0d-ef38-4cdc-985d-2d4e2564c925": {
       "attrs": {
        "height": 0.8,
        "width": 0.8,
        "x": 0.1,
        "y": 0.1
       },
       "content": {
        "cell": "c8bb82e1-bdb8-4132-983c-1ad797ca3e22",
        "part": "whole"
       },
       "id": "d6c9ed0d-ef38-4cdc-985d-2d4e2564c925"
      }
     }
    },
    "116f191f-64ef-439a-81d4-8119db413cae": {
     "id": "116f191f-64ef-439a-81d4-8119db413cae",
     "prev": "e937ed5c-9c3f-4155-a590-3f5792781213",
     "regions": {
      "2ed40a3d-5919-433b-917e-38428f6f9715": {
       "attrs": {
        "height": 0.8,
        "width": 0.8,
        "x": 0.1,
        "y": 0.1
       },
       "content": {
        "cell": "cbe23784-86de-449e-ad58-27e276cf5951",
        "part": "whole"
       },
       "id": "2ed40a3d-5919-433b-917e-38428f6f9715"
      }
     }
    },
    "1995d435-0ad3-4605-8997-e39940bab071": {
     "id": "1995d435-0ad3-4605-8997-e39940bab071",
     "prev": "72b4d1fa-393e-4a88-953f-ee76f0f2d8dd",
     "regions": {
      "b46b296a-bd83-43e2-8515-61d5edbe7754": {
       "attrs": {
        "height": 0.8,
        "width": 0.8,
        "x": 0.1,
        "y": 0.1
       },
       "content": {
        "cell": "55348c50-1431-485b-b2f2-8c1bccd2cb0b",
        "part": "whole"
       },
       "id": "b46b296a-bd83-43e2-8515-61d5edbe7754"
      }
     }
    },
    "1bf5598e-9198-489c-a3a9-e99ea9257137": {
     "id": "1bf5598e-9198-489c-a3a9-e99ea9257137",
     "prev": "9a8f5a68-3f17-4e8f-abcf-a44cd0c36efc",
     "regions": {
      "2e81f827-7a6b-400b-9bc8-1f2699641d1b": {
       "attrs": {
        "height": 0.8,
        "width": 0.8,
        "x": 0.1,
        "y": 0.1
       },
       "content": {
        "cell": "d927b246-1445-4c72-905e-b04e21164d65",
        "part": "whole"
       },
       "id": "2e81f827-7a6b-400b-9bc8-1f2699641d1b"
      }
     }
    },
    "2e5c40d6-9863-4a08-80b0-a788019e2939": {
     "id": "2e5c40d6-9863-4a08-80b0-a788019e2939",
     "prev": "596e54e3-75bc-40d2-a112-b1028ef667d6",
     "regions": {
      "c7660c24-b527-450b-bb81-27e55fcff365": {
       "attrs": {
        "height": 0.8,
        "width": 0.8,
        "x": 0.1,
        "y": 0.1
       },
       "content": {
        "cell": "c9e74926-d0b5-4e58-8392-4747794471a4",
        "part": "whole"
       },
       "id": "c7660c24-b527-450b-bb81-27e55fcff365"
      }
     }
    },
    "3d455e28-c026-40ff-90c3-81cd016d2636": {
     "id": "3d455e28-c026-40ff-90c3-81cd016d2636",
     "prev": "8afc8506-3b66-41f2-ae16-3cf4181b74b1",
     "regions": {
      "41e30d2c-0cc1-4e99-873c-22d857a46c0d": {
       "attrs": {
        "height": 0.8,
        "width": 0.8,
        "x": 0.1,
        "y": 0.1
       },
       "content": {
        "cell": "51cc2b25-7d85-4754-95a8-8c710a91003c",
        "part": "whole"
       },
       "id": "41e30d2c-0cc1-4e99-873c-22d857a46c0d"
      }
     }
    },
    "3fa7c4d2-e823-4e84-a2d7-87720fb9edfc": {
     "id": "3fa7c4d2-e823-4e84-a2d7-87720fb9edfc",
     "prev": "f44b3b2f-e842-43bb-bc8e-b9641399606e",
     "regions": {
      "c734d24a-f6da-4317-bfc4-6f7eff0d57fe": {
       "attrs": {
        "height": 0.8,
        "width": 0.8,
        "x": 0.1,
        "y": 0.1
       },
       "content": {
        "cell": "d88c1e04-7e1b-442c-a8b5-78f7da4224c5",
        "part": "whole"
       },
       "id": "c734d24a-f6da-4317-bfc4-6f7eff0d57fe"
      }
     }
    },
    "432fff00-9ec1-4544-a1e9-fed2f668eb7b": {
     "id": "432fff00-9ec1-4544-a1e9-fed2f668eb7b",
     "prev": "c3f9b370-bd2f-4d70-bb8c-76b7e6d14621",
     "regions": {
      "4e77b740-1feb-4144-9f97-8628d547887d": {
       "attrs": {
        "height": 0.8,
        "width": 0.8,
        "x": 0.1,
        "y": 0.1
       },
       "content": {
        "cell": "46a609b2-00a4-4fe0-b2c7-36460305c337",
        "part": "whole"
       },
       "id": "4e77b740-1feb-4144-9f97-8628d547887d"
      }
     }
    },
    "49f3ebb3-67f9-4e9a-a7fb-1fecaaabb90e": {
     "id": "49f3ebb3-67f9-4e9a-a7fb-1fecaaabb90e",
     "prev": "a847e208-0d87-4ef2-bb70-7b9ecac3d537",
     "regions": {
      "812492e8-f9be-4dc1-b57f-79281a256090": {
       "attrs": {
        "height": 0.8,
        "width": 0.8,
        "x": 0.1,
        "y": 0.1
       },
       "content": {
        "cell": "6a307ac4-8997-404b-913b-a242a79b4a22",
        "part": "whole"
       },
       "id": "812492e8-f9be-4dc1-b57f-79281a256090"
      }
     }
    },
    "4f517b4c-dd4e-42f4-8d5c-5ac4bf2e61a2": {
     "id": "4f517b4c-dd4e-42f4-8d5c-5ac4bf2e61a2",
     "prev": "83ef23f6-ccca-4f17-9e10-960063b522bf",
     "regions": {
      "ac864818-fcc8-4563-82ed-97cf3b0806ee": {
       "attrs": {
        "height": 0.8,
        "width": 0.8,
        "x": 0.1,
        "y": 0.1
       },
       "content": {
        "cell": "9f687b7a-5274-4607-8598-bf2211dcda40",
        "part": "whole"
       },
       "id": "ac864818-fcc8-4563-82ed-97cf3b0806ee"
      }
     }
    },
    "57ed6999-0edb-4260-80fd-210fd684929e": {
     "id": "57ed6999-0edb-4260-80fd-210fd684929e",
     "prev": "913132ab-3ae3-48a7-a28b-2aba20f6a17c",
     "regions": {
      "b1179ec5-f904-49d4-bdb5-5cadae427dd5": {
       "attrs": {
        "height": 0.8,
        "width": 0.8,
        "x": 0.1,
        "y": 0.1
       },
       "content": {
        "cell": "8ab907a8-9813-4e7a-a7ed-de6d61435503",
        "part": "whole"
       },
       "id": "b1179ec5-f904-49d4-bdb5-5cadae427dd5"
      }
     }
    },
    "596e54e3-75bc-40d2-a112-b1028ef667d6": {
     "id": "596e54e3-75bc-40d2-a112-b1028ef667d6",
     "prev": "57ed6999-0edb-4260-80fd-210fd684929e",
     "regions": {
      "78a3e224-3c06-43f9-920f-6f44d4294b42": {
       "attrs": {
        "height": 0.8,
        "width": 0.8,
        "x": 0.1,
        "y": 0.1
       },
       "content": {
        "cell": "eec338d3-57e0-4465-b04c-913d50b58aa5",
        "part": "whole"
       },
       "id": "78a3e224-3c06-43f9-920f-6f44d4294b42"
      }
     }
    },
    "6821ac0c-2614-4ec8-8475-2f9ff7997e0e": {
     "id": "6821ac0c-2614-4ec8-8475-2f9ff7997e0e",
     "prev": "6ca420af-fa27-495c-b60e-109aa32ec3f1",
     "regions": {
      "b2c465d4-38c4-441f-baa9-9267ce9eabad": {
       "attrs": {
        "height": 0.8,
        "width": 0.8,
        "x": 0.1,
        "y": 0.1
       },
       "content": {
        "cell": "6cd6eece-e7f2-4a02-b554-24fbe40ae025",
        "part": "whole"
       },
       "id": "b2c465d4-38c4-441f-baa9-9267ce9eabad"
      }
     }
    },
    "6ca420af-fa27-495c-b60e-109aa32ec3f1": {
     "id": "6ca420af-fa27-495c-b60e-109aa32ec3f1",
     "prev": "b10c3ea4-51f0-4e52-ad3b-850b0f0a5f05",
     "regions": {
      "26907c4d-39b1-454b-a344-7c9e7139cc57": {
       "attrs": {
        "height": 0.8,
        "width": 0.8,
        "x": 0.1,
        "y": 0.1
       },
       "content": {
        "cell": "40bd9c4c-a017-44bd-a333-ff448a7591c6",
        "part": "whole"
       },
       "id": "26907c4d-39b1-454b-a344-7c9e7139cc57"
      }
     }
    },
    "72b4d1fa-393e-4a88-953f-ee76f0f2d8dd": {
     "id": "72b4d1fa-393e-4a88-953f-ee76f0f2d8dd",
     "prev": "e3f4c7ab-af88-442b-88f3-d98cb7d251ad",
     "regions": {
      "89d5a97f-80dd-424b-85cb-cfc7f6a443b4": {
       "attrs": {
        "height": 0.8,
        "width": 0.8,
        "x": 0.1,
        "y": 0.1
       },
       "content": {
        "cell": "8fae9a4f-8b4f-437b-b6f3-4892c037c4b8",
        "part": "whole"
       },
       "id": "89d5a97f-80dd-424b-85cb-cfc7f6a443b4"
      }
     }
    },
    "73ce6b56-d213-4912-bd76-dd75155f4b57": {
     "id": "73ce6b56-d213-4912-bd76-dd75155f4b57",
     "prev": "f9a18a2b-44f1-40d6-87ef-9734baee2f0c",
     "regions": {
      "187b9b20-15dc-49ed-a653-745249670e7d": {
       "attrs": {
        "height": 0.8,
        "width": 0.8,
        "x": 0.1,
        "y": 0.1
       },
       "content": {
        "cell": "8067a24d-21d3-4fe9-b6d4-6f5080f07a91",
        "part": "whole"
       },
       "id": "187b9b20-15dc-49ed-a653-745249670e7d"
      }
     }
    },
    "73f608f8-8dca-4c1d-bb53-2eb5c9c0cfa1": {
     "id": "73f608f8-8dca-4c1d-bb53-2eb5c9c0cfa1",
     "prev": "a6e19bc3-c76c-49a3-91de-5841f4f314ec",
     "regions": {
      "66aeec32-eff1-47b7-8884-ee26093260fd": {
       "attrs": {
        "height": 0.8,
        "width": 0.8,
        "x": 0.1,
        "y": 0.1
       },
       "content": {
        "cell": "98968a3d-9eff-4b48-b63d-dc9e8adc01e5",
        "part": "whole"
       },
       "id": "66aeec32-eff1-47b7-8884-ee26093260fd"
      },
      "921df06c-778d-4cf4-9580-4e0714aa6707": {
       "attrs": {
        "height": 0.4,
        "width": 0.8,
        "x": 0.1,
        "y": 0.5
       },
       "content": {
        "cell": "7d0eff11-5b02-4dbe-8418-e41668d8383c",
        "part": "whole"
       },
       "id": "921df06c-778d-4cf4-9580-4e0714aa6707"
      }
     }
    },
    "7dc410fd-f89f-4a5f-9177-edc71de8203b": {
     "id": "7dc410fd-f89f-4a5f-9177-edc71de8203b",
     "prev": "eb9b518c-5d05-4fd2-b60c-23506271ab1a",
     "regions": {
      "949614a2-8c0d-467d-9380-3884d60757ec": {
       "attrs": {
        "height": 0.8,
        "width": 0.8,
        "x": 0.1,
        "y": 0.1
       },
       "content": {
        "cell": "0db4e789-6ff2-421b-8725-f3a60b4677fd",
        "part": "whole"
       },
       "id": "949614a2-8c0d-467d-9380-3884d60757ec"
      }
     }
    },
    "83ef23f6-ccca-4f17-9e10-960063b522bf": {
     "id": "83ef23f6-ccca-4f17-9e10-960063b522bf",
     "prev": "116f191f-64ef-439a-81d4-8119db413cae",
     "regions": {
      "6718552f-97f8-4680-bfc3-55a004805429": {
       "attrs": {
        "height": 0.8,
        "width": 0.8,
        "x": 0.1,
        "y": 0.1
       },
       "content": {
        "cell": "bed1d06c-a9db-4662-96a8-599e68acbd8f",
        "part": "whole"
       },
       "id": "6718552f-97f8-4680-bfc3-55a004805429"
      }
     }
    },
    "8ae06627-500b-4058-842b-d815763c0972": {
     "id": "8ae06627-500b-4058-842b-d815763c0972",
     "prev": "7dc410fd-f89f-4a5f-9177-edc71de8203b",
     "regions": {
      "3971d744-759d-4c89-9a0b-dcdafc21457f": {
       "attrs": {
        "height": 0.4,
        "width": 0.8,
        "x": 0.1,
        "y": 0.5
       },
       "content": {
        "cell": "88de6af7-82c5-441c-8547-e4a061caaeb6",
        "part": "whole"
       },
       "id": "3971d744-759d-4c89-9a0b-dcdafc21457f"
      },
      "d0eaea05-7619-4b98-a0ea-ed90c1e622fc": {
       "attrs": {
        "height": 0.4,
        "width": 0.8,
        "x": 0.1,
        "y": 0.5
       },
       "content": {
        "cell": "b4f55e31-d56f-46c2-8204-407c35a18386",
        "part": "whole"
       },
       "id": "d0eaea05-7619-4b98-a0ea-ed90c1e622fc"
      },
      "eacd912b-2217-45e3-9037-76fe1bd0de0f": {
       "attrs": {
        "height": 0.8,
        "width": 0.8,
        "x": 0.1,
        "y": 0.1
       },
       "content": {
        "cell": "f4553bae-e3df-48fc-874e-41c6364184a7",
        "part": "whole"
       },
       "id": "eacd912b-2217-45e3-9037-76fe1bd0de0f"
      }
     }
    },
    "8afc8506-3b66-41f2-ae16-3cf4181b74b1": {
     "id": "8afc8506-3b66-41f2-ae16-3cf4181b74b1",
     "prev": "6821ac0c-2614-4ec8-8475-2f9ff7997e0e",
     "regions": {
      "b0f134e3-3619-4616-b850-9f0925673743": {
       "attrs": {
        "height": 0.8,
        "width": 0.8,
        "x": 0.1,
        "y": 0.1
       },
       "content": {
        "cell": "dc4897e0-d0a5-45e7-9ff0-0cafc4f6e5fc",
        "part": "whole"
       },
       "id": "b0f134e3-3619-4616-b850-9f0925673743"
      }
     }
    },
    "913132ab-3ae3-48a7-a28b-2aba20f6a17c": {
     "id": "913132ab-3ae3-48a7-a28b-2aba20f6a17c",
     "prev": "0a7fcc23-8ce3-4940-a065-d2f3b0fa8ef3",
     "regions": {
      "3c725feb-bf7d-4ec6-b31e-8ffa5609e6a4": {
       "attrs": {
        "height": 0.8,
        "width": 0.8,
        "x": 0.1,
        "y": 0.1
       },
       "content": {
        "cell": "a8529bf8-2901-4f52-a3d6-1595f5d3af34",
        "part": "whole"
       },
       "id": "3c725feb-bf7d-4ec6-b31e-8ffa5609e6a4"
      }
     }
    },
    "986f2e1e-a752-4a50-87a0-d7a90f9d8d12": {
     "id": "986f2e1e-a752-4a50-87a0-d7a90f9d8d12",
     "prev": "2e5c40d6-9863-4a08-80b0-a788019e2939",
     "regions": {
      "a901793e-3122-48f5-8a59-3f772e6b1886": {
       "attrs": {
        "height": 0.8,
        "width": 0.8,
        "x": 0.1,
        "y": 0.1
       },
       "content": {
        "cell": "cc7ee265-a2a4-418d-b40a-1449a34737a8",
        "part": "whole"
       },
       "id": "a901793e-3122-48f5-8a59-3f772e6b1886"
      }
     }
    },
    "9a8f5a68-3f17-4e8f-abcf-a44cd0c36efc": {
     "id": "9a8f5a68-3f17-4e8f-abcf-a44cd0c36efc",
     "prev": "b4d2017a-a8af-4ea9-ae09-421912e41e97",
     "regions": {
      "6f12f8de-e7c0-4ff1-8ac9-1ad05950f4a5": {
       "attrs": {
        "height": 0.8,
        "width": 0.8,
        "x": 0.1,
        "y": 0.1
       },
       "content": {
        "cell": "23f1ab45-6994-4703-a860-7b658b06ab14",
        "part": "whole"
       },
       "id": "6f12f8de-e7c0-4ff1-8ac9-1ad05950f4a5"
      }
     }
    },
    "9dd2f550-e9e2-4de5-a1b1-9177c3f26f69": {
     "id": "9dd2f550-e9e2-4de5-a1b1-9177c3f26f69",
     "prev": "099dd2c5-9cdb-4152-b777-54b3638611a1",
     "regions": {
      "95f36ae0-d9a6-4f89-b9f9-8f5c288903d8": {
       "attrs": {
        "height": 0.8,
        "width": 0.8,
        "x": 0.1,
        "y": 0.1
       },
       "content": {
        "cell": "034e31de-7f35-4edb-8bb3-d461e2b8514b",
        "part": "whole"
       },
       "id": "95f36ae0-d9a6-4f89-b9f9-8f5c288903d8"
      }
     }
    },
    "a2a9ee43-898d-4081-9c38-5307dde3193e": {
     "id": "a2a9ee43-898d-4081-9c38-5307dde3193e",
     "prev": "ef3ef052-3d88-4f29-92b3-de856160409b",
     "regions": {
      "36e79e51-e74a-4a9a-aaf8-a7151b721c22": {
       "attrs": {
        "height": 0.8,
        "width": 0.8,
        "x": 0.1,
        "y": 0.1
       },
       "content": {
        "cell": "02c2cebe-6284-4489-8851-d601a49144d6",
        "part": "whole"
       },
       "id": "36e79e51-e74a-4a9a-aaf8-a7151b721c22"
      }
     }
    },
    "a3fba554-72d4-449c-b080-6c586da48ffd": {
     "id": "a3fba554-72d4-449c-b080-6c586da48ffd",
     "prev": "d186d7db-6188-40f9-b655-fecac91c916b",
     "regions": {
      "d911fccb-3c41-463e-81ea-6074b4168d4d": {
       "attrs": {
        "height": 0.8,
        "width": 0.8,
        "x": 0.1,
        "y": 0.1
       },
       "content": {
        "cell": "b59b26ec-761e-4738-9cce-d53fb3a1a672",
        "part": "whole"
       },
       "id": "d911fccb-3c41-463e-81ea-6074b4168d4d"
      }
     }
    },
    "a6e19bc3-c76c-49a3-91de-5841f4f314ec": {
     "id": "a6e19bc3-c76c-49a3-91de-5841f4f314ec",
     "prev": "fd7e5173-fa10-4e2b-981e-46d5af9ef9d0",
     "regions": {
      "c614d31e-05ad-4d57-bcf0-51fd4e2de1ba": {
       "attrs": {
        "height": 0.8,
        "width": 0.8,
        "x": 0.1,
        "y": 0.1
       },
       "content": {
        "cell": "3893e3b4-cc33-4e6d-8519-e21cc64586c9",
        "part": "whole"
       },
       "id": "c614d31e-05ad-4d57-bcf0-51fd4e2de1ba"
      }
     }
    },
    "a847e208-0d87-4ef2-bb70-7b9ecac3d537": {
     "id": "a847e208-0d87-4ef2-bb70-7b9ecac3d537",
     "prev": "986f2e1e-a752-4a50-87a0-d7a90f9d8d12",
     "regions": {
      "547731f8-392b-4540-81c5-c13b32b15d91": {
       "attrs": {
        "height": 0.8,
        "width": 0.8,
        "x": 0.1,
        "y": 0.1
       },
       "content": {
        "cell": "09dac134-2bff-47bb-8f42-f9417220aa78",
        "part": "whole"
       },
       "id": "547731f8-392b-4540-81c5-c13b32b15d91"
      }
     }
    },
    "b10c3ea4-51f0-4e52-ad3b-850b0f0a5f05": {
     "id": "b10c3ea4-51f0-4e52-ad3b-850b0f0a5f05",
     "prev": "9dd2f550-e9e2-4de5-a1b1-9177c3f26f69",
     "regions": {
      "1b056575-6265-46f2-86cb-5b0309732d69": {
       "attrs": {
        "height": 0.8,
        "width": 0.8,
        "x": 0.1,
        "y": 0.1
       },
       "content": {
        "cell": "af080e47-7262-4681-9565-6703261f46ca",
        "part": "whole"
       },
       "id": "1b056575-6265-46f2-86cb-5b0309732d69"
      }
     }
    },
    "b3a6e433-6074-4fa1-9545-3d4cfafcafd9": {
     "id": "b3a6e433-6074-4fa1-9545-3d4cfafcafd9",
     "prev": "e6a91585-f489-425c-ac03-44ceb3f33051",
     "regions": {
      "02412f8f-0f2c-464f-8851-062224fff557": {
       "attrs": {
        "height": 0.8,
        "width": 0.8,
        "x": 0.1,
        "y": 0.1
       },
       "content": {
        "cell": "5023edb1-852c-4dd6-9618-962d3c1bee1f",
        "part": "whole"
       },
       "id": "02412f8f-0f2c-464f-8851-062224fff557"
      }
     }
    },
    "b4d2017a-a8af-4ea9-ae09-421912e41e97": {
     "id": "b4d2017a-a8af-4ea9-ae09-421912e41e97",
     "prev": "3fa7c4d2-e823-4e84-a2d7-87720fb9edfc",
     "regions": {
      "c6b741b0-9b86-4e23-9afe-595db6a9fb41": {
       "attrs": {
        "height": 0.8,
        "width": 0.8,
        "x": 0.1,
        "y": 0.1
       },
       "content": {
        "cell": "ad68b5f4-8bb3-4e63-865b-fa43cc4f26eb",
        "part": "whole"
       },
       "id": "c6b741b0-9b86-4e23-9afe-595db6a9fb41"
      }
     }
    },
    "b67f7a2f-736d-427f-bee9-4e391fa555e2": {
     "id": "b67f7a2f-736d-427f-bee9-4e391fa555e2",
     "prev": "f12f8674-22bd-46db-a20d-2c6ab88bab8d",
     "regions": {
      "5aff6467-451b-4bdf-ba14-45d243dd4ef6": {
       "attrs": {
        "height": 0.4,
        "width": 0.8,
        "x": 0.1,
        "y": 0.5
       },
       "content": {
        "cell": "5c82d675-5e89-41cb-a1f3-9a93a8e4eaa1",
        "part": "whole"
       },
       "id": "5aff6467-451b-4bdf-ba14-45d243dd4ef6"
      },
      "de1ddf2f-fd29-4457-8376-3c2efc358e66": {
       "attrs": {
        "height": 0.8,
        "width": 0.8,
        "x": 0.1,
        "y": 0.1
       },
       "content": {
        "cell": "36dd2ab6-adaa-46a6-8135-d912eef68a19",
        "part": "whole"
       },
       "id": "de1ddf2f-fd29-4457-8376-3c2efc358e66"
      }
     }
    },
    "ba997a32-125a-41aa-9d38-3ba7b9bd3e58": {
     "id": "ba997a32-125a-41aa-9d38-3ba7b9bd3e58",
     "prev": "4f517b4c-dd4e-42f4-8d5c-5ac4bf2e61a2",
     "regions": {
      "833c97f8-5dcc-4312-961f-d2f3be7fa23d": {
       "attrs": {
        "height": 0.8,
        "width": 0.8,
        "x": 0.1,
        "y": 0.1
       },
       "content": {
        "cell": "ac392bda-2d72-4ae2-a863-f4658a8dae68",
        "part": "whole"
       },
       "id": "833c97f8-5dcc-4312-961f-d2f3be7fa23d"
      }
     }
    },
    "bae25b06-e669-40c5-95cb-533a93e844e5": {
     "id": "bae25b06-e669-40c5-95cb-533a93e844e5",
     "prev": "ba997a32-125a-41aa-9d38-3ba7b9bd3e58",
     "regions": {
      "933e34fd-cd54-4a42-a14b-707c98c85519": {
       "attrs": {
        "height": 0.4,
        "width": 0.8,
        "x": 0.1,
        "y": 0.5
       },
       "content": {
        "cell": "9b746524-4b20-427f-beb3-45888ec6353f",
        "part": "whole"
       },
       "id": "933e34fd-cd54-4a42-a14b-707c98c85519"
      },
      "c3d99005-1f50-4e95-9537-b872bba118e4": {
       "attrs": {
        "height": 0.8,
        "width": 0.8,
        "x": 0.1,
        "y": 0.1
       },
       "content": {
        "cell": "51f7c4de-d944-4f95-83e4-7e6f805e62e6",
        "part": "whole"
       },
       "id": "c3d99005-1f50-4e95-9537-b872bba118e4"
      }
     }
    },
    "c3f9b370-bd2f-4d70-bb8c-76b7e6d14621": {
     "id": "c3f9b370-bd2f-4d70-bb8c-76b7e6d14621",
     "prev": "eb2358e8-4b4e-4e53-a7ac-bcc6aaf5c208",
     "regions": {
      "29fc7b66-d0e5-4d6d-9b8b-bd75a9d1df2e": {
       "attrs": {
        "height": 0.8,
        "width": 0.8,
        "x": 0.1,
        "y": 0.1
       },
       "content": {
        "cell": "d29b08bd-ebfe-4e39-b6d7-ac4077979f2d",
        "part": "whole"
       },
       "id": "29fc7b66-d0e5-4d6d-9b8b-bd75a9d1df2e"
      }
     }
    },
    "c49e879c-172f-4cde-863f-5b383fd42562": {
     "id": "c49e879c-172f-4cde-863f-5b383fd42562",
     "prev": "b67f7a2f-736d-427f-bee9-4e391fa555e2",
     "regions": {
      "1fb739e9-28e1-4381-9355-2ae44963a3ce": {
       "attrs": {
        "height": 0.8,
        "width": 0.8,
        "x": 0.1,
        "y": 0.1
       },
       "content": {
        "cell": "21b38569-28af-420b-aa4f-ea9fefa448ba",
        "part": "whole"
       },
       "id": "1fb739e9-28e1-4381-9355-2ae44963a3ce"
      }
     }
    },
    "c554ee36-6ca9-4035-b4be-6c4545e3a3e5": {
     "id": "c554ee36-6ca9-4035-b4be-6c4545e3a3e5",
     "prev": "cd4b2221-b1ba-4710-b8cc-7cef4eb8a589",
     "regions": {
      "24085598-97e4-44d2-b287-0615418b4a2f": {
       "attrs": {
        "height": 0.8,
        "width": 0.8,
        "x": 0.1,
        "y": 0.1
       },
       "content": {
        "cell": "e5251e70-a9ef-43d3-b99d-68b3909ae424",
        "part": "whole"
       },
       "id": "24085598-97e4-44d2-b287-0615418b4a2f"
      }
     }
    },
    "cd4b2221-b1ba-4710-b8cc-7cef4eb8a589": {
     "id": "cd4b2221-b1ba-4710-b8cc-7cef4eb8a589",
     "prev": "73ce6b56-d213-4912-bd76-dd75155f4b57",
     "regions": {
      "cdbd725d-0fdd-4617-b7f9-0e60b60e2c9d": {
       "attrs": {
        "height": 0.8,
        "width": 0.8,
        "x": 0.1,
        "y": 0.1
       },
       "content": {
        "cell": "2c83dc4d-63f2-4bf1-b3da-2c1b0b15bd8a",
        "part": "whole"
       },
       "id": "cdbd725d-0fdd-4617-b7f9-0e60b60e2c9d"
      }
     }
    },
    "d186d7db-6188-40f9-b655-fecac91c916b": {
     "id": "d186d7db-6188-40f9-b655-fecac91c916b",
     "prev": "02ff9a65-f14c-475a-995d-9f13c63d822d",
     "regions": {
      "cef71f08-2336-4cf0-8b41-a3943734ab9e": {
       "attrs": {
        "height": 0.8,
        "width": 0.8,
        "x": 0.1,
        "y": 0.1
       },
       "content": {
        "cell": "46008719-b6c7-4419-adb0-fcf26a750382",
        "part": "whole"
       },
       "id": "cef71f08-2336-4cf0-8b41-a3943734ab9e"
      }
     }
    },
    "d5bd9af1-477d-45a9-8e19-bd64fee6fd24": {
     "id": "d5bd9af1-477d-45a9-8e19-bd64fee6fd24",
     "prev": "432fff00-9ec1-4544-a1e9-fed2f668eb7b",
     "regions": {
      "45c5328f-971e-4c49-92f6-d49f7649b3c1": {
       "attrs": {
        "height": 0.8,
        "width": 0.8,
        "x": 0.1,
        "y": 0.1
       },
       "content": {
        "cell": "4c0ff9fa-f0a4-447f-9dc3-e48b223508b5",
        "part": "whole"
       },
       "id": "45c5328f-971e-4c49-92f6-d49f7649b3c1"
      }
     }
    },
    "da5f5fa2-8422-48c9-9d07-d7cbbdf51031": {
     "id": "da5f5fa2-8422-48c9-9d07-d7cbbdf51031",
     "prev": "b3a6e433-6074-4fa1-9545-3d4cfafcafd9",
     "regions": {
      "c5467442-3b20-4711-aeca-89e7f3002bbd": {
       "attrs": {
        "height": 0.8,
        "width": 0.8,
        "x": 0.1,
        "y": 0.1
       },
       "content": {
        "cell": "248bace3-0a37-4aa2-96b4-a01b072d7623",
        "part": "whole"
       },
       "id": "c5467442-3b20-4711-aeca-89e7f3002bbd"
      }
     }
    },
    "dd222089-b691-4a65-8ba7-b99975f90c26": {
     "id": "dd222089-b691-4a65-8ba7-b99975f90c26",
     "prev": "3d455e28-c026-40ff-90c3-81cd016d2636",
     "regions": {
      "7379ff05-b567-431c-95d1-5929077e7ffc": {
       "attrs": {
        "height": 0.8,
        "width": 0.8,
        "x": 0.1,
        "y": 0.1
       },
       "content": {
        "cell": "9685ce02-9e56-427b-96df-76f4c74d0e09",
        "part": "whole"
       },
       "id": "7379ff05-b567-431c-95d1-5929077e7ffc"
      }
     }
    },
    "e3f4c7ab-af88-442b-88f3-d98cb7d251ad": {
     "id": "e3f4c7ab-af88-442b-88f3-d98cb7d251ad",
     "prev": "a2a9ee43-898d-4081-9c38-5307dde3193e",
     "regions": {
      "d8f054ad-6231-4550-8ddf-d55a1d4819e4": {
       "attrs": {
        "height": 0.8,
        "width": 0.8,
        "x": 0.1,
        "y": 0.1
       },
       "content": {
        "cell": "b3e887eb-636d-49ac-9bf8-fe5aa7acf08f",
        "part": "whole"
       },
       "id": "d8f054ad-6231-4550-8ddf-d55a1d4819e4"
      }
     }
    },
    "e6a91585-f489-425c-ac03-44ceb3f33051": {
     "id": "e6a91585-f489-425c-ac03-44ceb3f33051",
     "prev": "dd222089-b691-4a65-8ba7-b99975f90c26",
     "regions": {
      "01d73099-6200-42de-9b41-1fa3cd535a33": {
       "attrs": {
        "height": 0.8,
        "width": 0.8,
        "x": 0.1,
        "y": 0.1
       },
       "content": {
        "cell": "7a69d5c8-c855-4ab0-bf54-4168796d8f15",
        "part": "whole"
       },
       "id": "01d73099-6200-42de-9b41-1fa3cd535a33"
      }
     }
    },
    "e937ed5c-9c3f-4155-a590-3f5792781213": {
     "id": "e937ed5c-9c3f-4155-a590-3f5792781213",
     "prev": null,
     "regions": {
      "1dac40fb-30df-47d1-b375-e0b02a7951a5": {
       "attrs": {
        "height": 0.4,
        "width": 0.8,
        "x": 0.1,
        "y": 0.5
       },
       "content": {
        "cell": "7347ccee-b04a-4315-bd5e-d16bb539e863",
        "part": "whole"
       },
       "id": "1dac40fb-30df-47d1-b375-e0b02a7951a5"
      },
      "1f64d031-b774-4545-abf5-0c0d8b88570b": {
       "attrs": {
        "height": 0.8,
        "width": 0.8,
        "x": 0.1,
        "y": 0.1
       },
       "content": {
        "cell": "ae7d97a0-155b-441e-a4fc-10ec8bedee0e",
        "part": "whole"
       },
       "id": "1f64d031-b774-4545-abf5-0c0d8b88570b"
      },
      "97eb3978-2cfa-40f4-b476-7d47f0c07308": {
       "attrs": {
        "height": 0.4,
        "width": 0.8,
        "x": 0.1,
        "y": 0.5
       },
       "content": {
        "cell": "5b2735d5-b4a6-4776-8502-c9ce5d72e4ef",
        "part": "whole"
       },
       "id": "97eb3978-2cfa-40f4-b476-7d47f0c07308"
      },
      "f2ac7564-9b71-4715-b34d-b08ab9b47fac": {
       "attrs": {
        "height": 0.4,
        "width": 0.8,
        "x": 0.1,
        "y": 0.5
       },
       "content": {
        "cell": "dfb5d2bb-4461-46f4-b726-ec6f0d6cd40f",
        "part": "whole"
       },
       "id": "f2ac7564-9b71-4715-b34d-b08ab9b47fac"
      },
      "f3d07783-0265-412c-b9a6-c4ea0d7f7836": {
       "attrs": {
        "height": 0.4,
        "width": 0.8,
        "x": 0.1,
        "y": 0.5
       },
       "content": {
        "cell": "0995d0f8-1aa6-47b4-9347-63554d8a2478",
        "part": "whole"
       },
       "id": "f3d07783-0265-412c-b9a6-c4ea0d7f7836"
      }
     }
    },
    "eaecbd32-94af-45b6-8aad-fa8297d91d00": {
     "id": "eaecbd32-94af-45b6-8aad-fa8297d91d00",
     "prev": "d5bd9af1-477d-45a9-8e19-bd64fee6fd24",
     "regions": {
      "591c2cf9-b652-4a72-8be7-d468722f8f48": {
       "attrs": {
        "height": 0.8,
        "width": 0.8,
        "x": 0.1,
        "y": 0.1
       },
       "content": {
        "cell": "58ee1ec0-18f6-427d-98ea-a0d908e34764",
        "part": "whole"
       },
       "id": "591c2cf9-b652-4a72-8be7-d468722f8f48"
      }
     }
    },
    "eb2358e8-4b4e-4e53-a7ac-bcc6aaf5c208": {
     "id": "eb2358e8-4b4e-4e53-a7ac-bcc6aaf5c208",
     "prev": "49f3ebb3-67f9-4e9a-a7fb-1fecaaabb90e",
     "regions": {
      "6dc8db8d-7bae-4e68-839c-0ff2472cb0d5": {
       "attrs": {
        "height": 0.8,
        "width": 0.8,
        "x": 0.1,
        "y": 0.1
       },
       "content": {
        "cell": "2189c6a1-04a8-4a85-a9b9-e4d272155fa4",
        "part": "whole"
       },
       "id": "6dc8db8d-7bae-4e68-839c-0ff2472cb0d5"
      }
     }
    },
    "eb9b518c-5d05-4fd2-b60c-23506271ab1a": {
     "id": "eb9b518c-5d05-4fd2-b60c-23506271ab1a",
     "prev": "bae25b06-e669-40c5-95cb-533a93e844e5",
     "regions": {
      "c824af0e-bd43-4977-aecd-9f41dda6dada": {
       "attrs": {
        "height": 0.8,
        "width": 0.8,
        "x": 0.1,
        "y": 0.1
       },
       "content": {
        "cell": "f16213d6-fdc7-4caf-9558-80f64e20c0d7",
        "part": "whole"
       },
       "id": "c824af0e-bd43-4977-aecd-9f41dda6dada"
      }
     }
    },
    "ef3ef052-3d88-4f29-92b3-de856160409b": {
     "id": "ef3ef052-3d88-4f29-92b3-de856160409b",
     "prev": "a3fba554-72d4-449c-b080-6c586da48ffd",
     "regions": {
      "b57b57c4-3cf8-447f-9d9f-e9f0239d17bd": {
       "attrs": {
        "height": 0.8,
        "width": 0.8,
        "x": 0.1,
        "y": 0.1
       },
       "content": {
        "cell": "29c45579-7f65-411c-9a84-99844f9e29a0",
        "part": "whole"
       },
       "id": "b57b57c4-3cf8-447f-9d9f-e9f0239d17bd"
      }
     }
    },
    "f12f8674-22bd-46db-a20d-2c6ab88bab8d": {
     "id": "f12f8674-22bd-46db-a20d-2c6ab88bab8d",
     "prev": "8ae06627-500b-4058-842b-d815763c0972",
     "regions": {
      "4cd89dee-4ff5-4a6a-850a-a7c366d3af04": {
       "attrs": {
        "height": 0.8,
        "width": 0.8,
        "x": 0.1,
        "y": 0.1
       },
       "content": {
        "cell": "c5eeffba-9497-4cd1-b35d-4a229663e4be",
        "part": "whole"
       },
       "id": "4cd89dee-4ff5-4a6a-850a-a7c366d3af04"
      }
     }
    },
    "f44b3b2f-e842-43bb-bc8e-b9641399606e": {
     "id": "f44b3b2f-e842-43bb-bc8e-b9641399606e",
     "prev": "eaecbd32-94af-45b6-8aad-fa8297d91d00",
     "regions": {
      "8c37e9e1-91d7-4cb0-a141-f5feacbd5dcc": {
       "attrs": {
        "height": 0.8,
        "width": 0.8,
        "x": 0.1,
        "y": 0.1
       },
       "content": {
        "cell": "f438a62d-7a20-42ef-abd7-719cc80f3e02",
        "part": "whole"
       },
       "id": "8c37e9e1-91d7-4cb0-a141-f5feacbd5dcc"
      }
     }
    },
    "f9a18a2b-44f1-40d6-87ef-9734baee2f0c": {
     "id": "f9a18a2b-44f1-40d6-87ef-9734baee2f0c",
     "prev": "c49e879c-172f-4cde-863f-5b383fd42562",
     "regions": {
      "4e5b931f-6611-478d-be7f-87acc6eb88e8": {
       "attrs": {
        "height": 0.8,
        "width": 0.8,
        "x": 0.1,
        "y": 0.1
       },
       "content": {
        "cell": "e131c701-b189-44d8-8190-c2fd54aeb163",
        "part": "whole"
       },
       "id": "4e5b931f-6611-478d-be7f-87acc6eb88e8"
      }
     }
    },
    "fd7e5173-fa10-4e2b-981e-46d5af9ef9d0": {
     "id": "fd7e5173-fa10-4e2b-981e-46d5af9ef9d0",
     "prev": "1bf5598e-9198-489c-a3a9-e99ea9257137",
     "regions": {
      "b93c222a-9dca-47e0-bf7b-c56e1fd01072": {
       "attrs": {
        "height": 0.4,
        "width": 0.8,
        "x": 0.1,
        "y": 0.5
       },
       "content": {
        "cell": "82239a95-9df5-4886-a89f-4abd601a2d38",
        "part": "whole"
       },
       "id": "b93c222a-9dca-47e0-bf7b-c56e1fd01072"
      },
      "bb15af80-0a79-420e-9907-ecb9e40a4d56": {
       "attrs": {
        "height": 0.8,
        "width": 0.8,
        "x": 0.1,
        "y": 0.1
       },
       "content": {
        "cell": "65eb7062-0193-4a2c-9507-3c9cfffb879d",
        "part": "whole"
       },
       "id": "bb15af80-0a79-420e-9907-ecb9e40a4d56"
      }
     }
    }
   },
   "themes": {}
  }
 },
 "nbformat": 4,
 "nbformat_minor": 0
}
