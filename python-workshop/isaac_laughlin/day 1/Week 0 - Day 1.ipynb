{
 "cells": [
  {
   "cell_type": "code",
   "execution_count": 25,
   "metadata": {
    "collapsed": false
   },
   "outputs": [
    {
     "name": "stdout",
     "output_type": "stream",
     "text": [
      "#make_functions.py#  make_functions.py    my_module.pyc        sample_file.txt      script.pyc           script2.pyc          super_module.pyc\r\n",
      "Week 0 - Day 1.ipynb my_module.py         sample_csv.csv       script.py            script2.py           super_module.py\r\n"
     ]
    }
   ],
   "source": [
    "!ls"
   ]
  },
  {
   "cell_type": "code",
   "execution_count": 20,
   "metadata": {
    "collapsed": false
   },
   "outputs": [
    {
     "name": "stdout",
     "output_type": "stream",
     "text": [
      "a\n",
      " \n",
      "s\n",
      "t\n",
      "r\n",
      "i\n",
      "n\n",
      "g\n"
     ]
    }
   ],
   "source": [
    "for item in 'a string':\n",
    "    print item\n",
    "    "
   ]
  },
  {
   "cell_type": "markdown",
   "metadata": {},
   "source": [
    "Duck Typing:\n",
    " If it quacks like a duck\n",
    " Swims like a duck\n",
    " flys like a duck\n",
    " \n",
    " it's a duck"
   ]
  },
  {
   "cell_type": "code",
   "execution_count": 5,
   "metadata": {
    "collapsed": false
   },
   "outputs": [
    {
     "name": "stdout",
     "output_type": "stream",
     "text": [
      "1,2,3,4\n",
      "\n",
      "5,6,7,8\n",
      "\n"
     ]
    }
   ],
   "source": [
    "for line in data:\n",
    "    print line"
   ]
  },
  {
   "cell_type": "code",
   "execution_count": 11,
   "metadata": {
    "collapsed": false
   },
   "outputs": [
    {
     "data": {
      "text/plain": [
       "'1,2,3,4\\n5,6,7,8\\n'"
      ]
     },
     "execution_count": 11,
     "metadata": {},
     "output_type": "execute_result"
    }
   ],
   "source": [
    "data"
   ]
  },
  {
   "cell_type": "markdown",
   "metadata": {
    "slideshow": {
     "slide_type": "slide"
    }
   },
   "source": [
    "# Python Workshop\n",
    "\n",
    "This workshop will review Python fundamentals \n",
    "and prepare you for Galvanize's DSI."
   ]
  },
  {
   "cell_type": "markdown",
   "metadata": {
    "slideshow": {
     "slide_type": "slide"
    }
   },
   "source": [
    "# Topics\n",
    "### Day 1\n",
    "* Functions\n",
    "* Modules\n",
    "* Types\n",
    "* String Formatting\n",
    "* File I/O"
   ]
  },
  {
   "cell_type": "markdown",
   "metadata": {
    "slideshow": {
     "slide_type": "slide"
    }
   },
   "source": [
    "# Functions\n",
    "\n",
    "A function is a reusable bit of code"
   ]
  },
  {
   "cell_type": "code",
   "execution_count": 2,
   "metadata": {
    "collapsed": false,
    "slideshow": {
     "slide_type": "slide"
    }
   },
   "outputs": [
    {
     "name": "stdout",
     "output_type": "stream",
     "text": [
      "3\n",
      "15\n",
      "16\n",
      "3\n",
      "15\n",
      "16\n"
     ]
    }
   ],
   "source": [
    "# example: adding numbers together\n",
    "\n",
    "## without a function\n",
    "\n",
    "a, b = 1, 2\n",
    "print a + b\n",
    "\n",
    "a, b, c = 4, 5, 6\n",
    "print a + b + c\n",
    "\n",
    "a, b, c, d = 1, 3, 5, 7\n",
    "print a + b + c + d\n",
    "\n",
    "## with function\n",
    "def add(numbers):\n",
    "    total = 0\n",
    "    for number in numbers:\n",
    "        total += number\n",
    "    return total\n",
    "\n",
    "print add([1, 2])\n",
    "print add([4, 5, 6])\n",
    "print add([1, 3, 5, 7])\n",
    "\n"
   ]
  },
  {
   "cell_type": "markdown",
   "metadata": {
    "slideshow": {
     "slide_type": "slide"
    }
   },
   "source": [
    "## Functions are \"first class\" objects in Python\n",
    "* They can be passed as arguments to other functions\n",
    "* They can be returned as vales from other functions\n",
    "* Can be assigned to variables\n",
    "* Can be stored in other data structures\n",
    "* Their type is \"function\""
   ]
  },
  {
   "cell_type": "code",
   "execution_count": 2,
   "metadata": {
    "collapsed": false
   },
   "outputs": [
    {
     "name": "stdout",
     "output_type": "stream",
     "text": [
      "hello\n"
     ]
    }
   ],
   "source": [
    "def my_function():\n",
    "    print \"hello\"\n",
    "\n",
    "another_function = my_function\n",
    "another_function()"
   ]
  },
  {
   "cell_type": "markdown",
   "metadata": {
    "slideshow": {
     "slide_type": "slide"
    }
   },
   "source": [
    "## Follow the D.R.Y principle: Don't Repeat Yourself\n",
    "\n",
    "Use functions to avoid repeated code\n",
    "\n",
    "(see 'make_functions.py')"
   ]
  },
  {
   "cell_type": "markdown",
   "metadata": {
    "slideshow": {
     "slide_type": "slide"
    }
   },
   "source": [
    "# Creating Modules\n",
    "\n",
    "* use a module to store functions that you want to reuse\n",
    "* make a single \"main\" module that imports and runs your code\n",
    "* run your code inside a \"main\" block"
   ]
  },
  {
   "cell_type": "code",
   "execution_count": 7,
   "metadata": {
    "collapsed": false,
    "slideshow": {
     "slide_type": "slide"
    }
   },
   "outputs": [
    {
     "name": "stdout",
     "output_type": "stream",
     "text": [
      "Overwriting my_module.py\n"
     ]
    }
   ],
   "source": [
    "%%writefile my_module.py\n",
    "#my_module.py\n",
    "\n",
    "def foo(x, y):\n",
    "    return x+y\n",
    "\n",
    "def bar(x, y, z):\n",
    "    return x - y + z"
   ]
  },
  {
   "cell_type": "code",
   "execution_count": 10,
   "metadata": {
    "collapsed": false
   },
   "outputs": [
    {
     "name": "stdout",
     "output_type": "stream",
     "text": [
      "Writing super_module.py\n"
     ]
    }
   ],
   "source": [
    "%%writefile super_module.py\n",
    "\n",
    "from my_module import *\n",
    "from another_module import other_functions"
   ]
  },
  {
   "cell_type": "code",
   "execution_count": 11,
   "metadata": {
    "collapsed": true
   },
   "outputs": [],
   "source": [
    "import super_module"
   ]
  },
  {
   "cell_type": "code",
   "execution_count": 14,
   "metadata": {
    "collapsed": false,
    "slideshow": {
     "slide_type": "slide"
    }
   },
   "outputs": [
    {
     "name": "stdout",
     "output_type": "stream",
     "text": [
      "3\n",
      "4\n"
     ]
    }
   ],
   "source": [
    "# 2 ways of importing\n",
    "\n",
    "from my_module import foo, bar\n",
    "\n",
    "foo(1, 2)\n",
    "bar(3, 4, 5)\n",
    "\n",
    "# OR\n",
    "\n",
    "import my_module\n",
    "\n",
    "print my_module.foo(1, 2)\n",
    "print my_module.bar(3, 4, 5)"
   ]
  },
  {
   "cell_type": "code",
   "execution_count": 12,
   "metadata": {
    "collapsed": false,
    "slideshow": {
     "slide_type": "slide"
    }
   },
   "outputs": [
    {
     "name": "stdout",
     "output_type": "stream",
     "text": [
      "Overwriting script.py\n"
     ]
    }
   ],
   "source": [
    "%%writefile script.py\n",
    "# script.py\n",
    "def foo():\n",
    "    print 'foo'\n",
    "\n",
    "\n",
    "def bar():\n",
    "    print 'bar'\n",
    "\n",
    "\n",
    "foo()\n",
    "bar()\n"
   ]
  },
  {
   "cell_type": "code",
   "execution_count": 15,
   "metadata": {
    "collapsed": false
   },
   "outputs": [
    {
     "name": "stdout",
     "output_type": "stream",
     "text": [
      "foo\r\n",
      "bar\r\n"
     ]
    }
   ],
   "source": [
    "!python script.py"
   ]
  },
  {
   "cell_type": "code",
   "execution_count": 13,
   "metadata": {
    "collapsed": false,
    "slideshow": {
     "slide_type": "slide"
    }
   },
   "outputs": [
    {
     "name": "stdout",
     "output_type": "stream",
     "text": [
      "foo\n",
      "bar\n"
     ]
    }
   ],
   "source": [
    "# importing from script.py executes the whole file\n",
    "from script import foo"
   ]
  },
  {
   "cell_type": "code",
   "execution_count": 16,
   "metadata": {
    "collapsed": false,
    "slideshow": {
     "slide_type": "slide"
    }
   },
   "outputs": [
    {
     "name": "stdout",
     "output_type": "stream",
     "text": [
      "Overwriting script2.py\n"
     ]
    }
   ],
   "source": [
    "%%writefile script2.py\n",
    "# script2.py\n",
    "def foo():\n",
    "    print 'foo'\n",
    "\n",
    "\n",
    "def bar():\n",
    "     print 'bar'\n",
    "\n",
    "\n",
    "if __name__ == '__main__':\n",
    "    foo()\n",
    "    bar()\n"
   ]
  },
  {
   "cell_type": "code",
   "execution_count": 19,
   "metadata": {
    "collapsed": false,
    "slideshow": {
     "slide_type": "slide"
    }
   },
   "outputs": [],
   "source": [
    "# script2.py is still executed, but foo() and bar() aren't called,\n",
    "# because __name__ != '__main__'\n",
    "from script2 import foo"
   ]
  },
  {
   "cell_type": "code",
   "execution_count": 3,
   "metadata": {
    "collapsed": false,
    "slideshow": {
     "slide_type": "slide"
    }
   },
   "outputs": [],
   "source": [
    "from script2 import foo # no output"
   ]
  },
  {
   "cell_type": "markdown",
   "metadata": {
    "slideshow": {
     "slide_type": "slide"
    }
   },
   "source": [
    "(see poll questions 1 and 2)"
   ]
  },
  {
   "cell_type": "markdown",
   "metadata": {
    "slideshow": {
     "slide_type": "slide"
    }
   },
   "source": [
    "# Types\n",
    "\n",
    "* int 1, 2, -3\n",
    "* float 1.0, 2.5, 102342.32423\n",
    "* str 'abc'\n",
    "* tuple (1, 'a', 5.0)\n",
    "* list [1, 3, 5, 7]\n",
    "* dict {'a' : 1, 'b' : 2}\n",
    "* set {1, 2, 3}\n"
   ]
  },
  {
   "cell_type": "markdown",
   "metadata": {
    "slideshow": {
     "slide_type": "slide"
    }
   },
   "source": [
    "## You can check the type of object\n",
    "* using type(some_object)\n",
    "* using isinstance(some_object, some_type)"
   ]
  },
  {
   "cell_type": "code",
   "execution_count": 20,
   "metadata": {
    "collapsed": false,
    "slideshow": {
     "slide_type": "slide"
    }
   },
   "outputs": [
    {
     "name": "stdout",
     "output_type": "stream",
     "text": [
      "object: abc\n",
      "<type 'str'>\n",
      "Is string? True\n",
      "\n",
      "object: 123\n",
      "<type 'int'>\n",
      "Is integer? True\n",
      "Is float? False\n",
      "Is integer or float? True\n"
     ]
    }
   ],
   "source": [
    "my_string = 'abc'\n",
    "my_integer = 123\n",
    "\n",
    "print 'object:', my_string\n",
    "print type(my_string)\n",
    "print 'Is string?',isinstance(my_string, str)\n",
    "print\n",
    "print 'object:', my_integer\n",
    "print type(my_integer)\n",
    "print 'Is integer?', isinstance(my_integer, int)\n",
    "print 'Is float?', isinstance(my_integer, float)\n",
    "print 'Is integer or float?', isinstance(my_integer, (int, float)) # can check more than one type"
   ]
  },
  {
   "cell_type": "markdown",
   "metadata": {
    "slideshow": {
     "slide_type": "slide"
    }
   },
   "source": [
    "# Immutable vs Mutable Types\n",
    "\n",
    "## Immutable - can't be changed  \n",
    "* int 1, 2, -3\n",
    "* float 1.0, 2.5, 102342.32423\n",
    "* str 'abc'\n",
    "* tuple (1, 'a', 5.0)\n",
    "\n",
    "## Mutable - can be changed  \n",
    "* list [1, 3, 5, 7]\n",
    "* dict {'a' : 1, 'b' : 2}\n",
    "* set {1, 2, 3}\n"
   ]
  },
  {
   "cell_type": "code",
   "execution_count": 21,
   "metadata": {
    "collapsed": false,
    "slideshow": {
     "slide_type": "slide"
    }
   },
   "outputs": [
    {
     "name": "stdout",
     "output_type": "stream",
     "text": [
      "[100, 2, 3]\n"
     ]
    }
   ],
   "source": [
    "example_list = [1, 2, 3]\n",
    "example_list[0] = 100\n",
    "print example_list"
   ]
  },
  {
   "cell_type": "code",
   "execution_count": 24,
   "metadata": {
    "collapsed": false,
    "slideshow": {
     "slide_type": "slide"
    }
   },
   "outputs": [
    {
     "ename": "TypeError",
     "evalue": "'tuple' object does not support item assignment",
     "output_type": "error",
     "traceback": [
      "\u001b[0;31m---------------------------------------------------------------------------\u001b[0m",
      "\u001b[0;31mTypeError\u001b[0m                                 Traceback (most recent call last)",
      "\u001b[0;32m<ipython-input-24-11c68cbdfaa7>\u001b[0m in \u001b[0;36m<module>\u001b[0;34m()\u001b[0m\n\u001b[1;32m      1\u001b[0m \u001b[0mexample_tuple\u001b[0m \u001b[0;34m=\u001b[0m  \u001b[0;34m(\u001b[0m\u001b[0;36m1\u001b[0m\u001b[0;34m,\u001b[0m \u001b[0;36m2\u001b[0m\u001b[0;34m,\u001b[0m \u001b[0;36m3\u001b[0m\u001b[0;34m)\u001b[0m\u001b[0;34m\u001b[0m\u001b[0m\n\u001b[0;32m----> 2\u001b[0;31m \u001b[0mexample_tuple\u001b[0m\u001b[0;34m[\u001b[0m\u001b[0;36m0\u001b[0m\u001b[0;34m]\u001b[0m \u001b[0;34m=\u001b[0m \u001b[0;36m100\u001b[0m\u001b[0;34m\u001b[0m\u001b[0m\n\u001b[0m\u001b[1;32m      3\u001b[0m \u001b[0;32mprint\u001b[0m \u001b[0mexample_tuple\u001b[0m\u001b[0;34m\u001b[0m\u001b[0m\n",
      "\u001b[0;31mTypeError\u001b[0m: 'tuple' object does not support item assignment"
     ]
    }
   ],
   "source": [
    "example_tuple =  (1, 2, 3)\n",
    "example_tuple[0] = 100\n",
    "print example_tuple"
   ]
  },
  {
   "cell_type": "code",
   "execution_count": 5,
   "metadata": {
    "collapsed": false,
    "slideshow": {
     "slide_type": "slide"
    }
   },
   "outputs": [
    {
     "ename": "TypeError",
     "evalue": "'tuple' object does not support item assignment",
     "output_type": "error",
     "traceback": [
      "\u001b[0;31m---------------------------------------------------------------------------\u001b[0m",
      "\u001b[0;31mTypeError\u001b[0m                                 Traceback (most recent call last)",
      "\u001b[0;32m<ipython-input-5-11c68cbdfaa7>\u001b[0m in \u001b[0;36m<module>\u001b[0;34m()\u001b[0m\n\u001b[1;32m      1\u001b[0m \u001b[0mexample_tuple\u001b[0m \u001b[0;34m=\u001b[0m  \u001b[0;34m(\u001b[0m\u001b[0;36m1\u001b[0m\u001b[0;34m,\u001b[0m \u001b[0;36m2\u001b[0m\u001b[0;34m,\u001b[0m \u001b[0;36m3\u001b[0m\u001b[0;34m)\u001b[0m\u001b[0;34m\u001b[0m\u001b[0m\n\u001b[0;32m----> 2\u001b[0;31m \u001b[0mexample_tuple\u001b[0m\u001b[0;34m[\u001b[0m\u001b[0;36m0\u001b[0m\u001b[0;34m]\u001b[0m \u001b[0;34m=\u001b[0m \u001b[0;36m100\u001b[0m\u001b[0;34m\u001b[0m\u001b[0m\n\u001b[0m\u001b[1;32m      3\u001b[0m \u001b[0;32mprint\u001b[0m \u001b[0mexample_tuple\u001b[0m\u001b[0;34m\u001b[0m\u001b[0m\n",
      "\u001b[0;31mTypeError\u001b[0m: 'tuple' object does not support item assignment"
     ]
    }
   ],
   "source": [
    "example_tuple =  (1, 2, 3)\n",
    "example_tuple[0] = 100\n",
    "print example_tuple"
   ]
  },
  {
   "cell_type": "code",
   "execution_count": 6,
   "metadata": {
    "collapsed": false,
    "slideshow": {
     "slide_type": "slide"
    }
   },
   "outputs": [
    {
     "name": "stdout",
     "output_type": "stream",
     "text": [
      "3\n"
     ]
    }
   ],
   "source": [
    "number = 1\n",
    "number += 2\n",
    "print number"
   ]
  },
  {
   "cell_type": "code",
   "execution_count": 7,
   "metadata": {
    "collapsed": false,
    "slideshow": {
     "slide_type": "slide"
    }
   },
   "outputs": [
    {
     "name": "stdout",
     "output_type": "stream",
     "text": [
      "140258738984840\n",
      "140258738984792\n"
     ]
    }
   ],
   "source": [
    "number = 1\n",
    "print id(number)\n",
    "\n",
    "number += 2\n",
    "print id(number)"
   ]
  },
  {
   "cell_type": "code",
   "execution_count": 8,
   "metadata": {
    "collapsed": false,
    "slideshow": {
     "slide_type": "slide"
    }
   },
   "outputs": [
    {
     "name": "stdout",
     "output_type": "stream",
     "text": [
      "4521750896\n",
      "4521750896\n"
     ]
    }
   ],
   "source": [
    "example_list2 = [1, 2, 3]\n",
    "print id(example_list2)\n",
    "\n",
    "example_list2[0] = 100\n",
    "print id(example_list2)\n"
   ]
  },
  {
   "cell_type": "markdown",
   "metadata": {
    "slideshow": {
     "slide_type": "slide"
    }
   },
   "source": [
    "(see polls 3-6)"
   ]
  },
  {
   "cell_type": "markdown",
   "metadata": {
    "slideshow": {
     "slide_type": "slide"
    }
   },
   "source": [
    "# String Formatting\n",
    "\n",
    "How to dynamically generate strings?  \n",
    "\n",
    "\"My name is ___ \" ==> \"My name is Mike\""
   ]
  },
  {
   "cell_type": "markdown",
   "metadata": {
    "slideshow": {
     "slide_type": "slide"
    }
   },
   "source": [
    "## Method 1: str.format"
   ]
  },
  {
   "cell_type": "code",
   "execution_count": 11,
   "metadata": {
    "collapsed": false,
    "slideshow": {
     "slide_type": "slide"
    }
   },
   "outputs": [
    {
     "name": "stdout",
     "output_type": "stream",
     "text": [
      "My name is Mike and my favorite color is Blue.\n"
     ]
    }
   ],
   "source": [
    "my_string='My name is {name} and my favorite color is {color}.'\n",
    "print my_string.format(name='Mike', color='Blue')"
   ]
  },
  {
   "cell_type": "code",
   "execution_count": 32,
   "metadata": {
    "collapsed": false,
    "slideshow": {
     "slide_type": "slide"
    }
   },
   "outputs": [
    {
     "name": "stdout",
     "output_type": "stream",
     "text": [
      "I live in CA near Yosemite\n"
     ]
    }
   ],
   "source": [
    "print 'I live in {0} near {1}'.format('CA', 'Yosemite')\n"
   ]
  },
  {
   "cell_type": "markdown",
   "metadata": {
    "slideshow": {
     "slide_type": "slide"
    }
   },
   "source": [
    "# Method 2: '%s' - String Formatting Operator"
   ]
  },
  {
   "cell_type": "code",
   "execution_count": 17,
   "metadata": {
    "collapsed": false,
    "slideshow": {
     "slide_type": "slide"
    }
   },
   "outputs": [
    {
     "data": {
      "text/plain": [
       "'This is how to format a string'"
      ]
     },
     "execution_count": 17,
     "metadata": {},
     "output_type": "execute_result"
    }
   ],
   "source": [
    "'This is how to format a %s' % 'string'"
   ]
  },
  {
   "cell_type": "code",
   "execution_count": 18,
   "metadata": {
    "collapsed": false,
    "slideshow": {
     "slide_type": "slide"
    }
   },
   "outputs": [
    {
     "data": {
      "text/plain": [
       "'You can use more than 1 argument in your string'"
      ]
     },
     "execution_count": 18,
     "metadata": {},
     "output_type": "execute_result"
    }
   ],
   "source": [
    "'You can use more than %s %s in your %s' % (1, 'argument', 'string')"
   ]
  },
  {
   "cell_type": "markdown",
   "metadata": {
    "slideshow": {
     "slide_type": "slide"
    }
   },
   "source": [
    "'%s' uses str(arg) to convert the argument to a string.\n",
    "\n",
    "See other variants here: https://docs.python.org/2/library/stdtypes.html#string-formatting"
   ]
  },
  {
   "cell_type": "markdown",
   "metadata": {
    "slideshow": {
     "slide_type": "slide"
    }
   },
   "source": [
    "(see polls 7-9)"
   ]
  },
  {
   "cell_type": "markdown",
   "metadata": {
    "slideshow": {
     "slide_type": "slide"
    }
   },
   "source": [
    "(end of morning material)  \n",
    "(begin afternoon material)"
   ]
  },
  {
   "cell_type": "markdown",
   "metadata": {
    "slideshow": {
     "slide_type": "slide"
    }
   },
   "source": [
    "# File I/O\n",
    "\n",
    "We often want to use the contents of a file in our code.\n",
    "\n",
    "For example, data is sometimes stored in files (.csv, .txt, etc.)\n",
    "\n",
    "This section explains how to work with files."
   ]
  },
  {
   "cell_type": "markdown",
   "metadata": {
    "slideshow": {
     "slide_type": "slide"
    }
   },
   "source": [
    "### sample.txt:\n",
    "\n",
    "1234\n",
    "\n",
    "5678\n",
    "\n",
    "ABCD\n",
    "\n",
    "EFGH"
   ]
  },
  {
   "cell_type": "markdown",
   "metadata": {
    "slideshow": {
     "slide_type": "slide"
    }
   },
   "source": [
    "## Opening and Reading Files\n",
    "\n",
    "Use the 'open' method."
   ]
  },
  {
   "cell_type": "code",
   "execution_count": 23,
   "metadata": {
    "collapsed": false,
    "slideshow": {
     "slide_type": "slide"
    }
   },
   "outputs": [
    {
     "name": "stdout",
     "output_type": "stream",
     "text": [
      "1234\n",
      "\n",
      "5678\n",
      "\n",
      "ABCD\n",
      "\n",
      "EFGH\n",
      "\n"
     ]
    }
   ],
   "source": [
    "# use the 'open' built-in function\n",
    "\n",
    "# must call .read() on open file object\n",
    "print open('sample_file.txt').read() "
   ]
  },
  {
   "cell_type": "code",
   "execution_count": 24,
   "metadata": {
    "collapsed": false,
    "slideshow": {
     "slide_type": "slide"
    }
   },
   "outputs": [
    {
     "data": {
      "text/plain": [
       "<open file 'sample_file.txt', mode 'r' at 0x10d8d7f60>"
      ]
     },
     "execution_count": 24,
     "metadata": {},
     "output_type": "execute_result"
    }
   ],
   "source": [
    "open('sample_file.txt')"
   ]
  },
  {
   "cell_type": "code",
   "execution_count": 27,
   "metadata": {
    "collapsed": false,
    "slideshow": {
     "slide_type": "slide"
    }
   },
   "outputs": [
    {
     "data": {
      "text/plain": [
       "'1234\\n\\n5678\\n\\nABCD\\n\\nEFGH\\n'"
      ]
     },
     "execution_count": 27,
     "metadata": {},
     "output_type": "execute_result"
    }
   ],
   "source": [
    "my_file = open('sample_file.txt')\n",
    "my_file.read()"
   ]
  },
  {
   "cell_type": "markdown",
   "metadata": {
    "slideshow": {
     "slide_type": "slide"
    }
   },
   "source": [
    "## Q: What if the file is too large to fit in memory?\n",
    "## A: Handle the file one line at a time\n",
    "\n",
    "Iterate over the file object  \n",
    "\n",
    "\"for line in my_file\"\n",
    "\n",
    "This is the preferred way to deal with files, because it's memory efficient."
   ]
  },
  {
   "cell_type": "code",
   "execution_count": 36,
   "metadata": {
    "collapsed": false,
    "slideshow": {
     "slide_type": "slide"
    }
   },
   "outputs": [
    {
     "name": "stdout",
     "output_type": "stream",
     "text": [
      "Current line: 1234\n",
      "\n",
      "Current line: \n",
      "\n",
      "Current line: 5678\n",
      "\n",
      "Current line: \n",
      "\n",
      "Current line: ABCD\n",
      "\n",
      "Current line: \n",
      "\n",
      "Current line: EFGH\n",
      "\n"
     ]
    }
   ],
   "source": [
    "my_file = open('sample_file.txt')\n",
    "for line in my_file:\n",
    "    print 'Current line:', line\n",
    "    # 'line' is discarded from memory\n",
    "    # after each iteration of loop"
   ]
  },
  {
   "cell_type": "markdown",
   "metadata": {
    "slideshow": {
     "slide_type": "slide"
    }
   },
   "source": [
    "## File generators\n",
    "\n",
    "Note: open file is a \"generator\" object.  \n",
    "\n",
    "Once a line is referenced, it can't be referenced\n",
    "without reopening the file."
   ]
  },
  {
   "cell_type": "code",
   "execution_count": 97,
   "metadata": {
    "collapsed": false,
    "slideshow": {
     "slide_type": "slide"
    }
   },
   "outputs": [
    {
     "name": "stdout",
     "output_type": "stream",
     "text": [
      "first iteration:\n",
      "['1234\\n', '\\n', '5678\\n', '\\n', 'ABCD\\n', '\\n', 'EFGH\\n']\n",
      "\n",
      "second iteration\n",
      "[]\n"
     ]
    }
   ],
   "source": [
    "my_file = open('sample_file.txt')\n",
    "\n",
    "print 'first iteration:'\n",
    "print [line for line in my_file]\n",
    "\n",
    "print \n",
    "\n",
    "print 'second iteration'\n",
    "print [line for line in my_file]"
   ]
  },
  {
   "cell_type": "markdown",
   "metadata": {
    "slideshow": {
     "slide_type": "slide"
    }
   },
   "source": [
    "## Closing Files\n",
    "\n",
    "### 2 Methods:\n",
    "1. file.close\n",
    "2. 'with' statement"
   ]
  },
  {
   "cell_type": "code",
   "execution_count": 83,
   "metadata": {
    "collapsed": false,
    "slideshow": {
     "slide_type": "slide"
    }
   },
   "outputs": [
    {
     "name": "stdout",
     "output_type": "stream",
     "text": [
      "<closed file 'sample_file.txt', mode 'r' at 0x10dbcc5d0>\n"
     ]
    }
   ],
   "source": [
    "my_file = open('sample_file.txt')\n",
    "contents = my_file.read()\n",
    "my_file.close()\n",
    "print my_file"
   ]
  },
  {
   "cell_type": "markdown",
   "metadata": {
    "slideshow": {
     "slide_type": "slide"
    }
   },
   "source": [
    "### Problem: what if there's an error before my_file.close()?\n",
    "\n",
    "The file will remain open and inaccessible."
   ]
  },
  {
   "cell_type": "code",
   "execution_count": 86,
   "metadata": {
    "collapsed": false,
    "slideshow": {
     "slide_type": "slide"
    }
   },
   "outputs": [
    {
     "name": "stdout",
     "output_type": "stream",
     "text": [
      "<closed file 'sample_file.txt', mode 'r' at 0x10dbcc780>\n"
     ]
    }
   ],
   "source": [
    "with open('sample_file.txt') as my_file:\n",
    "    my_file.read()\n",
    "    \n",
    "print my_file"
   ]
  },
  {
   "cell_type": "markdown",
   "metadata": {
    "slideshow": {
     "slide_type": "slide"
    }
   },
   "source": [
    "## Writing files\n",
    "\n",
    "Use open(filename, 'w')\n",
    "\n",
    "See details: https://docs.python.org/2/library/functions.html#open  \n",
    "Review difference between 'r', 'rb', 'w', 'wb' in open()"
   ]
  },
  {
   "cell_type": "code",
   "execution_count": 94,
   "metadata": {
    "collapsed": false,
    "slideshow": {
     "slide_type": "slide"
    }
   },
   "outputs": [
    {
     "name": "stdout",
     "output_type": "stream",
     "text": [
      "abcd\n",
      "1234\n"
     ]
    }
   ],
   "source": [
    "lines_to_write = ['abcd', '\\n', '1234']\n",
    "\n",
    "with open('file_to_write.txt', 'w') as my_file:\n",
    "    for line in lines_to_write:\n",
    "        my_file.write(line)\n",
    "    \n",
    "with open('file_to_write.txt') as my_file:\n",
    "    print my_file.read()"
   ]
  },
  {
   "cell_type": "code",
   "execution_count": 95,
   "metadata": {
    "collapsed": false,
    "slideshow": {
     "slide_type": "slide"
    }
   },
   "outputs": [
    {
     "name": "stdout",
     "output_type": "stream",
     "text": [
      "abcd\n",
      "1234\n",
      "1357\n",
      "2468\n"
     ]
    }
   ],
   "source": [
    "# can also append to end of files using open(filename, 'a')\n",
    "\n",
    "lines_to_append = ['\\n1357', '\\n2468']\n",
    "with open('file_to_write.txt', 'a') as my_file:\n",
    "    for line in lines_to_append:\n",
    "        my_file.write(line)\n",
    "    \n",
    "with open('file_to_write.txt') as my_file:\n",
    "    print my_file.read()"
   ]
  },
  {
   "cell_type": "markdown",
   "metadata": {
    "collapsed": true
   },
   "source": [
    "## sample_csv.csv\n",
    "1,2,3,4  \n",
    "5,6,7,8"
   ]
  },
  {
   "cell_type": "code",
   "execution_count": 20,
   "metadata": {
    "collapsed": false,
    "slideshow": {
     "slide_type": "slide"
    }
   },
   "outputs": [
    {
     "name": "stdout",
     "output_type": "stream",
     "text": [
      "['1', '2', '3', '4']\n",
      "['5', '6', '7', '8']\n"
     ]
    }
   ],
   "source": [
    "import csv\n",
    "\n",
    "with open('sample_csv.csv') as my_file:\n",
    "    reader = csv.reader(my_file)\n",
    "    for line in reader:\n",
    "        print line"
   ]
  },
  {
   "cell_type": "markdown",
   "metadata": {
    "slideshow": {
     "slide_type": "slide"
    }
   },
   "source": [
    "(see poll 10)"
   ]
  },
  {
   "cell_type": "code",
   "execution_count": null,
   "metadata": {
    "collapsed": true
   },
   "outputs": [],
   "source": []
  }
 ],
 "metadata": {
  "celltoolbar": "Slideshow",
  "kernelspec": {
   "display_name": "Python 2",
   "language": "python",
   "name": "python2"
  },
  "language_info": {
   "codemirror_mode": {
    "name": "ipython",
    "version": 2
   },
   "file_extension": ".py",
   "mimetype": "text/x-python",
   "name": "python",
   "nbconvert_exporter": "python",
   "pygments_lexer": "ipython2",
   "version": "2.7.11"
  }
 },
 "nbformat": 4,
 "nbformat_minor": 0
}
