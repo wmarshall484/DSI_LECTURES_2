{
 "cells": [
  {
   "cell_type": "markdown",
   "metadata": {},
   "source": [
    "# Object Oriented Programming (Classes)\n",
    "\n",
    "Object Oriented Programming is about how we *organize* our ideas in code.\n",
    "\n",
    "Programs are made up of two fundamental, conceptual components:\n",
    "    \n",
    "  - Data\n",
    "  - Algorithms to manipulate the data\n",
    "  \n",
    "  \n",
    "So to have an expressive and useful programming language, we need ways to both\n",
    "\n",
    "  - Create new types of data.\n",
    "  - Create re-usable algorithms to manipulate that data.\n",
    "  \n",
    "  \n",
    "Sometimes the algorithms we need to manipulate data are tied closely to the data itself, and in this case we would like to\n",
    "\n",
    "  - Associate algorithms with specific data structures  \n",
    "  "
   ]
  },
  {
   "cell_type": "markdown",
   "metadata": {},
   "source": [
    "### Vocab\n",
    "\n",
    "1. **Class** - Used to refer to the abstract concept of an object.\n",
    "2. **Object** - An actual instance of a class.\n",
    "3. **Instance** - What Python returns when you tell it to create a class.\n",
    "4. **Instantiation** - A fancy way of saying that we're going to create an instance of a class. \n",
    "5. **Constructor** - What we call to instantiate a class. \n",
    "6. **self** - Inside of a class, a variable for the instance/object being accessed (i.e. it holds a reference to the instance/object of that class).\n",
    "7. **attribute**/**field**/**property** - A piece of data that a class has, stored in a variable. Inside of a class definition, all attributes/fields/properties are accessed via `self.<attribute>`, while on an instance, they are accessed via `<variable name>.<attribute>`.\n",
    "8. **method**/**procedure** - A block of code that is accessible via the class, and typically acts on or with the classes' attributes/fields/properties. Inside of a class definition, all methods/procedures are created via `def` (they are really just functions), and accessible via `self.<method>()`, while on an instance, they are accessed via `<variable name>.<method>()`. \n",
    "\n",
    "\n",
    "\n",
    "### Other Vocab (lets get it out of the way now)\n",
    "\n",
    "\n",
    "\n",
    "* **Inheritance** - When a class is based on another class, building off of the existing class to take advantage of existing behavior, while having additional specific behavior of its own. \n",
    "* **Encapsulation** - The practice of hiding the inner workings of our class, and only exposing what is necessary to the outside world. This idea is effectively the same as the idea of **abstraction**, and allows users of our classes to only care about the what (i.e. what our class can do) and not the how (i.e. how our class does what it does). Unlike abstraction, however, encapsulation refers to the abstraction of both the data and the interaction with said data.\n",
    "* **Polymorphism** - The provision of a single interface to entities of different types. This enables us to use a shared interface for similar classes while at the same time still allowing each class to have its own specialized behavior. "
   ]
  },
  {
   "cell_type": "markdown",
   "metadata": {
    "slideshow": {
     "slide_type": "slide"
    }
   },
   "source": [
    "# Ex. Dog Object\n",
    "\n",
    "## Dogs can be described in terms of their attributes\n",
    "* size\n",
    "* breed\n",
    "* name\n",
    "* favorite toy\n",
    "\n",
    "## Dogs have behaviors and abilities\n",
    "* run\n",
    "* bark\n",
    "* eat\n",
    "* sleep\n",
    "\n",
    "## In the language of OOP\n",
    "* Attributes: size, breed, name, favorite toy\n",
    "* Methods: run, bark, eat, sleep"
   ]
  },
  {
   "cell_type": "markdown",
   "metadata": {
    "slideshow": {
     "slide_type": "slide"
    }
   },
   "source": [
    "# Class vs Instance\n",
    "* \"class\" refers to the set of attributes, methods, etc. that define a group of objects\n",
    "* \"instance\" refers to a specific example of a class\n",
    "* \"Dog\" is a class. My dog Snoopy is an instance of the Dog class.\n",
    "* The word \"object\" is used broadly to refer to classes or instances of classes\n"
   ]
  },
  {
   "cell_type": "code",
   "execution_count": null,
   "metadata": {
    "collapsed": true,
    "slideshow": {
     "slide_type": "slide"
    }
   },
   "outputs": [],
   "source": [
    "# example of a Dog class\n",
    "\n",
    "class Dog(object):\n",
    "    \"\"\"Common household pet\"\"\"\n",
    "    def __init__(self, name, breed, favorite_toy):\n",
    "        \"\"\"\n",
    "        Args:\n",
    "            name (str): the dog's name, ex. \"Snoopy\"\n",
    "            breed (str): the breed of the dog, ex. \"Beagle\"\n",
    "            favorite_toy (str): something the dog likes to play with most\n",
    "        \n",
    "        \"\"\"\n",
    "        self.name = name\n",
    "        self.breed = breed\n",
    "        self.favorite_toy = favorite_toy\n",
    "        \n"
   ]
  },
  {
   "cell_type": "code",
   "execution_count": null,
   "metadata": {
    "collapsed": true
   },
   "outputs": [],
   "source": [
    "my_dog = Dog('Snoopy', 'Beagle', 'Frisbee')\n",
    "\n",
    "# my_dog attributes\n",
    "print(my_dog.name)\n",
    "print(my_dog.breed)\n",
    "print(my_dog.favorite_toy)"
   ]
  },
  {
   "cell_type": "code",
   "execution_count": null,
   "metadata": {
    "collapsed": true,
    "slideshow": {
     "slide_type": "slide"
    }
   },
   "outputs": [],
   "source": [
    "# you can add \"methods\" to an object to give it more functionality\n",
    "class Dog(object):\n",
    "    \"\"\"Common household pet\"\"\"\n",
    "    \n",
    "    def __init__(self, name, breed, favorite_toy):\n",
    "        \"\"\"\n",
    "        Args:\n",
    "            name (str): the dog's name, ex. \"Snoopy\"\n",
    "            breed (str): the breed of the dog, ex. \"Beagle\"\n",
    "            favorite_toy (str): something the dog likes to play with most\n",
    "        \"\"\"\n",
    "        self.name = name\n",
    "        self.breed = breed\n",
    "        self.favorite_toy = favorite_toy\n",
    "        \n",
    "        \n",
    "    def bark(self, dog_type=None):\n",
    "        \"\"\"Causes the dog to bark\"\"\"\n",
    "        if dog_type == 'big':\n",
    "            print('RUFF RUFF ')\n",
    "        else:\n",
    "            print('ruff ruff')\n",
    "        \n"
   ]
  },
  {
   "cell_type": "code",
   "execution_count": null,
   "metadata": {
    "collapsed": true
   },
   "outputs": [],
   "source": [
    "my_dog = Dog('Snoopy', 'Beagle', 'Frisbee')\n",
    "my_dog.bark()"
   ]
  },
  {
   "cell_type": "code",
   "execution_count": null,
   "metadata": {
    "collapsed": true
   },
   "outputs": [],
   "source": [
    "my_dog.bark('big')"
   ]
  },
  {
   "cell_type": "markdown",
   "metadata": {
    "slideshow": {
     "slide_type": "slide"
    }
   },
   "source": [
    "# Objects interacting with each other\n",
    "* In a game, player objects could interact with a playing card object\n",
    "* Structuring code in this way makes code more reusable and easier to read"
   ]
  },
  {
   "cell_type": "code",
   "execution_count": 5,
   "metadata": {
    "collapsed": true,
    "slideshow": {
     "slide_type": "slide"
    }
   },
   "outputs": [],
   "source": [
    "class Dog(object):\n",
    "    \"\"\"Common household pet\"\"\"\n",
    "    \n",
    "    def __init__(self, dog_name, dog_breed, favorite_toy, has_toy=False, plays_fetch=True):\n",
    "        \"\"\"\n",
    "        Args:\n",
    "            name (str): the dog's name, ex. \"Snoopy\"\n",
    "            breed (str): the breed of the dog, ex. \"Beagle\"\n",
    "            favorite_toy (str): something the dog likes to play with most\n",
    "            has_toy (bool): wehther the dog has its favorite toy\n",
    "            plays_fetch (bool): whether the dog knows how to play fetch\n",
    "        \"\"\"\n",
    "        self.name = dog_name\n",
    "        self.breed = dog_breed\n",
    "        self.favorite_toy = favorite_toy\n",
    "        self.has_toy = has_toy\n",
    "        self.plays_fetch = plays_fetch\n",
    "        \n",
    "        \n",
    "    def bark(self):\n",
    "        \"\"\"Causes the dog to bark\"\"\"\n",
    "        print('ruff ruff ruff!')\n",
    "\n",
    "class Person(object):\n",
    "    \"\"\"Human who may have a Dog\"\"\"\n",
    "    def __init__(self, name):\n",
    "        \"\"\"\n",
    "        Args:\n",
    "            name (str): name of the person\n",
    "        \"\"\"\n",
    "        self.name = name\n",
    "        \n",
    "    def introduce(self):\n",
    "        print('My name is {name}.'.format(name=self.name))\n",
    "        \n",
    "    def play_fetch(self, dog):\n",
    "        \"\"\"Person plays a game of fetch with dog\"\"\"\n",
    "        print('Go get the {toy} {dog_name}!'.format(toy=dog.favorite_toy, \n",
    "                                                    dog_name=dog.name))\n",
    "        if dog.plays_fetch:\n",
    "            dog.bark()\n",
    "            dog.has_toy = True\n",
    "            print('Good job {dog_name}!'.format(dog_name=dog.name))\n",
    "        else:\n",
    "            dog.has_toy = False\n",
    "            print('Try again {dog_name}!'.format(dog_name=dog.name))\n",
    "            \n",
    "    def __repr__(self):\n",
    "        return 'hello i am {}'.format(self.name)\n",
    "        \n",
    "        \n"
   ]
  },
  {
   "cell_type": "code",
   "execution_count": 6,
   "metadata": {},
   "outputs": [
    {
     "name": "stdout",
     "output_type": "stream",
     "text": [
      "My name is Charlie Brown.\n"
     ]
    },
    {
     "ename": "AttributeError",
     "evalue": "'str' object has no attribute 'favorite_toy'",
     "output_type": "error",
     "traceback": [
      "\u001b[0;31m---------------------------------------------------------------------------\u001b[0m",
      "\u001b[0;31mAttributeError\u001b[0m                            Traceback (most recent call last)",
      "\u001b[0;32m<ipython-input-6-c0aa3b532476>\u001b[0m in \u001b[0;36m<module>\u001b[0;34m()\u001b[0m\n\u001b[1;32m      2\u001b[0m \u001b[0mdog\u001b[0m \u001b[0;34m=\u001b[0m \u001b[0mDog\u001b[0m\u001b[0;34m(\u001b[0m\u001b[0;34m'Snoopy'\u001b[0m\u001b[0;34m,\u001b[0m \u001b[0;34m'Beagle'\u001b[0m\u001b[0;34m,\u001b[0m \u001b[0;34m'frisbee'\u001b[0m\u001b[0;34m)\u001b[0m\u001b[0;34m\u001b[0m\u001b[0m\n\u001b[1;32m      3\u001b[0m \u001b[0mperson\u001b[0m\u001b[0;34m.\u001b[0m\u001b[0mintroduce\u001b[0m\u001b[0;34m(\u001b[0m\u001b[0;34m)\u001b[0m\u001b[0;34m\u001b[0m\u001b[0m\n\u001b[0;32m----> 4\u001b[0;31m \u001b[0mperson\u001b[0m\u001b[0;34m.\u001b[0m\u001b[0mplay_fetch\u001b[0m\u001b[0;34m(\u001b[0m\u001b[0;34m'dfafdaslkfjasdl;k'\u001b[0m\u001b[0;34m)\u001b[0m\u001b[0;34m\u001b[0m\u001b[0m\n\u001b[0m",
      "\u001b[0;32m<ipython-input-5-f2ec4c023a09>\u001b[0m in \u001b[0;36mplay_fetch\u001b[0;34m(self, dog)\u001b[0m\n\u001b[1;32m     36\u001b[0m     \u001b[0;32mdef\u001b[0m \u001b[0mplay_fetch\u001b[0m\u001b[0;34m(\u001b[0m\u001b[0mself\u001b[0m\u001b[0;34m,\u001b[0m \u001b[0mdog\u001b[0m\u001b[0;34m)\u001b[0m\u001b[0;34m:\u001b[0m\u001b[0;34m\u001b[0m\u001b[0m\n\u001b[1;32m     37\u001b[0m         \u001b[0;34m\"\"\"Person plays a game of fetch with dog\"\"\"\u001b[0m\u001b[0;34m\u001b[0m\u001b[0m\n\u001b[0;32m---> 38\u001b[0;31m         print('Go get the {toy} {dog_name}!'.format(toy=dog.favorite_toy, \n\u001b[0m\u001b[1;32m     39\u001b[0m                                                     dog_name=dog.name))\n\u001b[1;32m     40\u001b[0m         \u001b[0;32mif\u001b[0m \u001b[0mdog\u001b[0m\u001b[0;34m.\u001b[0m\u001b[0mplays_fetch\u001b[0m\u001b[0;34m:\u001b[0m\u001b[0;34m\u001b[0m\u001b[0m\n",
      "\u001b[0;31mAttributeError\u001b[0m: 'str' object has no attribute 'favorite_toy'"
     ]
    }
   ],
   "source": [
    "person = Person('Charlie Brown')\n",
    "dog = Dog('Snoopy', 'Beagle', 'frisbee')\n",
    "person.introduce()\n",
    "person.play_fetch('dfafdaslkfjasdl;k')"
   ]
  },
  {
   "cell_type": "code",
   "execution_count": null,
   "metadata": {
    "collapsed": true
   },
   "outputs": [],
   "source": [
    "print(person)"
   ]
  },
  {
   "cell_type": "markdown",
   "metadata": {
    "slideshow": {
     "slide_type": "slide"
    }
   },
   "source": [
    "# OOP Used for Data Science\n",
    "* ex. \"LinearRegression\" class with \"fit\" and \"predict\" methods\n",
    "* ex. \"axis\" object that contains information about plots\n",
    "* This will be explored in depth starting next week during the DSI"
   ]
  },
  {
   "cell_type": "markdown",
   "metadata": {
    "slideshow": {
     "slide_type": "slide"
    }
   },
   "source": [
    "# Class \"Magic Methods\"\n",
    "* You can add special features to your classes using \"magic methods\"\n",
    "* ex. 'my_dog > my_other dog' could be a meaningful comparison\n",
    "* ex. str(my_dog) could return 'Name: Beagle, Favorite Toy: Frisbee'"
   ]
  },
  {
   "cell_type": "markdown",
   "metadata": {
    "slideshow": {
     "slide_type": "slide"
    }
   },
   "source": [
    "# Comparison Magic Method: \"__cmp__\"\n",
    "* 1 < 2 makes intuitive sense\n",
    "* my_dog < my_other_dog has a less obvious meaning, but it could mean something!\n",
    "* we can define comparison logic to make meaningful comparisons between custom classes"
   ]
  },
  {
   "cell_type": "code",
   "execution_count": null,
   "metadata": {
    "collapsed": true,
    "slideshow": {
     "slide_type": "slide"
    }
   },
   "outputs": [],
   "source": [
    "# Example: comparing two dogs\n",
    "class Dog(object):\n",
    "    \"\"\"Common household pet\"\"\"\n",
    "    \n",
    "    def __init__(self, name, breed, favorite_toy, has_toy=False, plays_fetch=True):\n",
    "        \"\"\"\n",
    "        Args:\n",
    "            name (str): the dog's name, ex. \"Snoopy\"\n",
    "            breed (str): the breed of the dog, ex. \"Beagle\"\n",
    "            favorite_toy (str): something the dog likes to play with most\n",
    "            has_toy (bool): wehther the dog has its favorite toy\n",
    "            plays_fetch (bool): whether the dog knows how to play fetch\n",
    "        \"\"\"\n",
    "        self.name = name\n",
    "        self.breed = breed\n",
    "        self.favorite_toy = favorite_toy\n",
    "        self.has_toy = has_toy\n",
    "        self.plays_fetch = plays_fetch\n",
    "        \n",
    "    def __cmp__(self, other):\n",
    "        \"\"\"A dog is greater than another dog if it has a longer name\"\"\"\n",
    "        self_name_length = len(self.name)\n",
    "        other_name_length = len(other.name)\n",
    "        if self_name_length < other_name_length:\n",
    "            return -1\n",
    "        elif self_name_length == other_name_length:\n",
    "            return 0\n",
    "        else:\n",
    "            return 1\n"
   ]
  },
  {
   "cell_type": "code",
   "execution_count": null,
   "metadata": {
    "collapsed": true
   },
   "outputs": [],
   "source": [
    "dog1 = Dog('Snoopy', 'Beagle', 'Frisbee')\n",
    "dog2 = Dog('Fido', 'Golden Retriever', 'Tennis Ball')\n",
    "\n",
    "print(dog1 > dog2)"
   ]
  },
  {
   "cell_type": "code",
   "execution_count": null,
   "metadata": {
    "collapsed": true
   },
   "outputs": [],
   "source": [
    "# Example: comparing two dogs\n",
    "class Dog(object):\n",
    "    \"\"\"Common household pet\"\"\"\n",
    "    \n",
    "    def __init__(self, name, breed, favorite_toy, has_toy=False, plays_fetch=True):\n",
    "        \"\"\"\n",
    "        Args:\n",
    "            name (str): the dog's name, ex. \"Snoopy\"\n",
    "            breed (str): the breed of the dog, ex. \"Beagle\"\n",
    "            favorite_toy (str): something the dog likes to play with most\n",
    "            has_toy (bool): wehther the dog has its favorite toy\n",
    "            plays_fetch (bool): whether the dog knows how to play fetch\n",
    "        \"\"\"\n",
    "        self.name = name\n",
    "        self.breed = breed\n",
    "        self.favorite_toy = favorite_toy\n",
    "        self.has_toy = has_toy\n",
    "        self.plays_fetch = plays_fetch\n",
    "        \n",
    "    def __lt__(self, other):\n",
    "        \"\"\"A dog is greater than another dog if it has a longer name\"\"\"\n",
    "        self_name_length = len(self.name)\n",
    "        other_name_length = len(other.name)\n",
    "        return self_name_length < other_name_length\n",
    "    \n",
    "    \n",
    "    def __eq__(self, other):\n",
    "        \"\"\"A dog is greater than another dog if it has a longer name\"\"\"\n",
    "        self_name_length = len(self.name)\n",
    "        other_name_length = len(other.name)\n",
    "        return self_name_length == other_name_length       \n",
    "        "
   ]
  },
  {
   "cell_type": "code",
   "execution_count": null,
   "metadata": {
    "collapsed": true
   },
   "outputs": [],
   "source": [
    "dog1 = Dog('Snoopy', 'Beagle', 'Frisbee')\n",
    "dog2 = Dog('Fido', 'Golden Retriever', 'Tennis Ball')\n",
    "\n",
    "print(dog1 > dog2)\n",
    "\n",
    "dog1.__lt__(dog2)"
   ]
  },
  {
   "cell_type": "code",
   "execution_count": null,
   "metadata": {
    "collapsed": true,
    "slideshow": {
     "slide_type": "slide"
    }
   },
   "outputs": [],
   "source": [
    "# Magic methods: __len__ and __str__\n",
    "class Dog(object):\n",
    "    \"\"\"Common household pet\"\"\"\n",
    "    \n",
    "    def __init__(self, name, breed, favorite_toy, has_toy=False, plays_fetch=True):\n",
    "        \"\"\"\n",
    "        Args:\n",
    "            name (str): the dog's name, ex. \"Snoopy\"\n",
    "            breed (str): the breed of the dog, ex. \"Beagle\"\n",
    "            favorite_toy (str): something the dog likes to play with most\n",
    "            has_toy (bool): whether the dog has its favorite toy\n",
    "            plays_fetch (bool): whether the dog knows how to play fetch\n",
    "        \"\"\"\n",
    "        self.name = name\n",
    "        self.breed = breed\n",
    "        self.favorite_toy = favorite_toy\n",
    "        self.has_toy = has_toy\n",
    "        self.plays_fetch = plays_fetch\n",
    "        \n",
    "    def __len__(self):\n",
    "        \"\"\"The length of a dog is the length of its name\"\"\"\n",
    "        return len(self.name)\n",
    "    \n",
    "    def __str__(self):\n",
    "        \"\"\"Name, Breed, Favorite Toy\"\"\"\n",
    "        return '{name}, {breed}, {favorite_toy}'.format(name=self.name, \n",
    "                                                        breed=self.breed, \n",
    "                                                        favorite_toy=self.favorite_toy)\n",
    "    \n"
   ]
  },
  {
   "cell_type": "code",
   "execution_count": null,
   "metadata": {
    "collapsed": true
   },
   "outputs": [],
   "source": [
    "dog = Dog('Snoopy', 'Beagle', 'Frisbee')\n",
    "print(len(dog))\n",
    "print(str(dog))"
   ]
  },
  {
   "cell_type": "code",
   "execution_count": 2,
   "metadata": {
    "collapsed": true,
    "slideshow": {
     "slide_type": "slide"
    }
   },
   "outputs": [],
   "source": [
    "# Magic method: __add__\n",
    "class FruitBasket(object):\n",
    "    \"\"\"A collection of apples and pears\"\"\"\n",
    "    \n",
    "    def __init__(self, num_apples, num_pears):\n",
    "        \"\"\"\n",
    "        Args:\n",
    "            num_apples (int): number of apples in the basket\n",
    "            num_pears (int): number of pears in the basket\n",
    "        \"\"\"\n",
    "        self.num_apples = num_apples\n",
    "        self.num_pears = num_pears\n",
    "        \n",
    "    def __add__(self, other):\n",
    "        \"\"\"Combines two baskets into one\"\"\"\n",
    "        num_apples = self.num_apples + other.num_apples\n",
    "        num_pears = self.num_pears + other.num_pears\n",
    "        new_basket = FruitBasket(num_apples, num_pears)\n",
    "        return new_basket\n",
    "    \n"
   ]
  },
  {
   "cell_type": "code",
   "execution_count": 3,
   "metadata": {},
   "outputs": [
    {
     "name": "stdout",
     "output_type": "stream",
     "text": [
      "40 60\n"
     ]
    }
   ],
   "source": [
    "basket1 = FruitBasket(10, 20)\n",
    "basket2 = FruitBasket(30, 40)\n",
    "\n",
    "basket3 = basket1 + basket2\n",
    "print(basket3.num_apples, basket3.num_pears)"
   ]
  },
  {
   "cell_type": "code",
   "execution_count": 4,
   "metadata": {},
   "outputs": [
    {
     "data": {
      "text/plain": [
       "10"
      ]
     },
     "execution_count": 4,
     "metadata": {},
     "output_type": "execute_result"
    }
   ],
   "source": [
    "basket1.num_apples"
   ]
  },
  {
   "cell_type": "code",
   "execution_count": null,
   "metadata": {
    "collapsed": true,
    "slideshow": {
     "slide_type": "slide"
    }
   },
   "outputs": [],
   "source": [
    "# __add__ is how addition works with numeric types too\n",
    "a, b = 1, 2\n",
    "print(a + b)\n",
    "print(a.__add__(b))"
   ]
  },
  {
   "cell_type": "markdown",
   "metadata": {
    "slideshow": {
     "slide_type": "slide"
    }
   },
   "source": [
    "## More info about magic methods:\n",
    "http://www.rafekettler.com/magicmethods.html"
   ]
  },
  {
   "cell_type": "markdown",
   "metadata": {
    "slideshow": {
     "slide_type": "slide"
    }
   },
   "source": [
    "## Inheritance, Polymorphism and Encapsulation:\n",
    "\n",
    "Polymorphism: All objects have the same interface (scikit learn)\n",
    "Inheritance: Model relationships between classes\n",
    "Encapsulation: Restricting access to methods and attributes\n",
    "\n"
   ]
  },
  {
   "cell_type": "code",
   "execution_count": null,
   "metadata": {
    "collapsed": true
   },
   "outputs": [],
   "source": [
    "class SchoolMember:\n",
    "    '''Represents any school member.'''\n",
    "    def __init__(self, name, age):\n",
    "        self.name = name\n",
    "        self.age = age\n",
    "        print('(Initialized SchoolMember: {})'.format(self.name))\n",
    "\n",
    "    def tell(self):\n",
    "        '''Tell my details.'''\n",
    "        print('Name:\"{}\" Age:\"{}\"'.format(self.name, self.age), end=\" \")\n",
    "\n",
    "\n",
    "class Teacher(SchoolMember):\n",
    "    '''Represents a teacher.'''\n",
    "    def __init__(self, name, age, salary):\n",
    "        SchoolMember.__init__(self, name, age)\n",
    "        self.salary = salary\n",
    "        print('(Initialized Teacher: {})'.format(self.name))\n",
    "\n",
    "    def tell(self):\n",
    "        SchoolMember.tell(self)\n",
    "        print('Salary: \"{:d}\"'.format(self.salary))\n",
    "\n",
    "\n",
    "class Student(SchoolMember):\n",
    "    '''Represents a student.'''\n",
    "    def __init__(self, name, age, marks):\n",
    "        SchoolMember.__init__(self, name, age)\n",
    "        self.marks = marks\n",
    "        print('(Initialized Student: {})'.format(self.name))\n",
    "\n",
    "    def tell(self):\n",
    "        SchoolMember.tell(self)\n",
    "        print('Marks: \"{:d}\"'.format(self.marks))"
   ]
  },
  {
   "cell_type": "code",
   "execution_count": null,
   "metadata": {
    "collapsed": true
   },
   "outputs": [],
   "source": [
    "t = Teacher('Dr. Cohen', 32, 10**12)\n",
    "s = Student('Sam', 25, 99)"
   ]
  },
  {
   "cell_type": "code",
   "execution_count": null,
   "metadata": {
    "collapsed": true
   },
   "outputs": [],
   "source": [
    "t.tell()"
   ]
  },
  {
   "cell_type": "code",
   "execution_count": null,
   "metadata": {
    "collapsed": true
   },
   "outputs": [],
   "source": [
    "#This isn't secure though! Can be mangled\n",
    "mysql._DataBaseConnector__validate_credentials(credentials)"
   ]
  },
  {
   "cell_type": "code",
   "execution_count": null,
   "metadata": {
    "collapsed": true
   },
   "outputs": [],
   "source": [
    "members = [t, s]\n",
    "for member in members:\n",
    "    # Works for both Teachers and Students\n",
    "    member.tell()"
   ]
  },
  {
   "cell_type": "code",
   "execution_count": null,
   "metadata": {
    "collapsed": true
   },
   "outputs": [],
   "source": [
    "issubclass(Teacher, SchoolMember)"
   ]
  },
  {
   "cell_type": "code",
   "execution_count": null,
   "metadata": {
    "collapsed": true
   },
   "outputs": [],
   "source": []
  },
  {
   "cell_type": "code",
   "execution_count": null,
   "metadata": {
    "collapsed": true
   },
   "outputs": [],
   "source": []
  },
  {
   "cell_type": "code",
   "execution_count": null,
   "metadata": {
    "collapsed": true
   },
   "outputs": [],
   "source": []
  },
  {
   "cell_type": "code",
   "execution_count": null,
   "metadata": {
    "collapsed": true
   },
   "outputs": [],
   "source": []
  },
  {
   "cell_type": "code",
   "execution_count": null,
   "metadata": {
    "collapsed": true
   },
   "outputs": [],
   "source": []
  },
  {
   "cell_type": "markdown",
   "metadata": {},
   "source": [
    "## Try, Except, Finally\n",
    "\n",
    "One last thing before we break, the try except... this is handy to anticipate where things may go wrong"
   ]
  },
  {
   "cell_type": "code",
   "execution_count": null,
   "metadata": {
    "collapsed": true
   },
   "outputs": [],
   "source": [
    "with open('fake_file.txt') as f:\n",
    "        print(f.readline())"
   ]
  },
  {
   "cell_type": "code",
   "execution_count": null,
   "metadata": {
    "collapsed": true
   },
   "outputs": [],
   "source": [
    "try:\n",
    "    with open('fake_file.txt') as f:\n",
    "        print(f.readline())\n",
    "except IOError:\n",
    "    print('An error occured trying to read the file.')"
   ]
  },
  {
   "cell_type": "code",
   "execution_count": null,
   "metadata": {
    "collapsed": true
   },
   "outputs": [],
   "source": []
  },
  {
   "cell_type": "code",
   "execution_count": null,
   "metadata": {
    "collapsed": true
   },
   "outputs": [],
   "source": []
  },
  {
   "cell_type": "code",
   "execution_count": null,
   "metadata": {
    "collapsed": true
   },
   "outputs": [],
   "source": [
    "\"\"\"\n",
    "==================================================\n",
    "Plot the decision boundaries of a VotingClassifier\n",
    "==================================================\n",
    "\n",
    "Plot the decision boundaries of a `VotingClassifier` for\n",
    "two features of the Iris dataset.\n",
    "\n",
    "Plot the class probabilities of the first sample in a toy dataset\n",
    "predicted by three different classifiers and averaged by the\n",
    "`VotingClassifier`.\n",
    "\n",
    "First, three exemplary classifiers are initialized (`DecisionTreeClassifier`,\n",
    "`KNeighborsClassifier`, and `SVC`) and used to initialize a\n",
    "soft-voting `VotingClassifier` with weights `[2, 1, 2]`, which means that\n",
    "the predicted probabilities of the `DecisionTreeClassifier` and `SVC`\n",
    "count 5 times as much as the weights of the `KNeighborsClassifier` classifier\n",
    "when the averaged probability is calculated.\n",
    "\n",
    "\"\"\"\n",
    "from itertools import product\n",
    "\n",
    "import numpy as np\n",
    "import matplotlib.pyplot as plt\n",
    "\n",
    "from sklearn import datasets\n",
    "from sklearn.tree import DecisionTreeClassifier\n",
    "from sklearn.neighbors import KNeighborsClassifier\n",
    "from sklearn.svm import SVC\n",
    "from sklearn.ensemble import VotingClassifier\n",
    "\n",
    "# Loading some example data\n",
    "iris = datasets.load_iris()\n",
    "X = iris.data[:, [0, 2]]\n",
    "y = iris.target\n",
    "\n",
    "# Training classifiers\n",
    "clf1 = DecisionTreeClassifier(max_depth=4)\n",
    "clf2 = KNeighborsClassifier(n_neighbors=7)\n",
    "clf3 = SVC(kernel='rbf', probability=True)\n",
    "eclf = VotingClassifier(estimators=[('dt', clf1), ('knn', clf2),\n",
    "                                    ('svc', clf3)],\n",
    "                        voting='soft', weights=[2, 1, 2])\n",
    "\n",
    "clf1.fit(X, y)\n",
    "clf2.fit(X, y)\n",
    "clf3.fit(X, y)\n",
    "eclf.fit(X, y)\n",
    "\n",
    "# Plotting decision regions\n",
    "x_min, x_max = X[:, 0].min() - 1, X[:, 0].max() + 1\n",
    "y_min, y_max = X[:, 1].min() - 1, X[:, 1].max() + 1\n",
    "xx, yy = np.meshgrid(np.arange(x_min, x_max, 0.1),\n",
    "                     np.arange(y_min, y_max, 0.1))\n",
    "\n",
    "f, axarr = plt.subplots(2, 2, sharex='col', sharey='row', figsize=(10, 8))\n",
    "\n",
    "for idx, clf, tt in zip(product([0, 1], [0, 1]),\n",
    "                        [clf1, clf2, clf3, eclf],\n",
    "                        ['Decision Tree (depth=4)', 'KNN (k=7)',\n",
    "                         'Kernel SVM', 'Soft Voting']):\n",
    "\n",
    "    Z = clf.predict(np.c_[xx.ravel(), yy.ravel()])\n",
    "    Z = Z.reshape(xx.shape)\n",
    "\n",
    "    axarr[idx[0], idx[1]].contourf(xx, yy, Z, alpha=0.4)\n",
    "    axarr[idx[0], idx[1]].scatter(X[:, 0], X[:, 1], c=y,\n",
    "                                  s=20, edgecolor='k')\n",
    "    axarr[idx[0], idx[1]].set_title(tt)\n",
    "\n",
    "plt.show()"
   ]
  },
  {
   "cell_type": "code",
   "execution_count": null,
   "metadata": {
    "collapsed": true
   },
   "outputs": [],
   "source": []
  }
 ],
 "metadata": {
  "kernelspec": {
   "display_name": "Python 3",
   "language": "python",
   "name": "python3"
  },
  "language_info": {
   "codemirror_mode": {
    "name": "ipython",
    "version": 3
   },
   "file_extension": ".py",
   "mimetype": "text/x-python",
   "name": "python",
   "nbconvert_exporter": "python",
   "pygments_lexer": "ipython3",
   "version": "3.6.4"
  }
 },
 "nbformat": 4,
 "nbformat_minor": 1
}
