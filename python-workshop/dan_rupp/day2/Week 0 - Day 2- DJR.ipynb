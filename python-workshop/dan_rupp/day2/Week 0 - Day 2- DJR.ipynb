{
 "cells": [
  {
   "cell_type": "markdown",
   "metadata": {},
   "source": [
    "# Dictionaries, Sets, and Their Friends\n",
    "\n",
    "## Morning Objectives:\n",
    "\n",
    " * Create and use methods of dictionaries and sets\n",
    " * Explain the advantages of dictionaries and sets\n",
    " \n",
    "## Afternoon Objective:\n",
    "\n",
    " * Create and use `defaultdict` and `Counter`"
   ]
  },
  {
   "cell_type": "markdown",
   "metadata": {},
   "source": [
    "## 1. Dictionaries\n",
    "\n",
    "Dictionaries are key-value pairs. They are useful throughout python as a simple table or data structure.\n",
    "\n",
    "### 1.1. Dictionary initialization\n",
    "For example, here's a dictionary:"
   ]
  },
  {
   "cell_type": "code",
   "execution_count": null,
   "metadata": {
    "collapsed": true
   },
   "outputs": [],
   "source": [
    "prices = {}"
   ]
  },
  {
   "cell_type": "code",
   "execution_count": null,
   "metadata": {
    "collapsed": true
   },
   "outputs": [],
   "source": [
    "prices['banana'] = 1\n",
    "prices['steak'] = 10\n",
    "prices['ice cream'] = 5"
   ]
  },
  {
   "cell_type": "markdown",
   "metadata": {},
   "source": [
    "Now my dictionary will look like this:"
   ]
  },
  {
   "cell_type": "code",
   "execution_count": null,
   "metadata": {},
   "outputs": [],
   "source": [
    "prices"
   ]
  },
  {
   "cell_type": "markdown",
   "metadata": {},
   "source": [
    "I can define a dictionary using the above syntax, e.g."
   ]
  },
  {
   "cell_type": "code",
   "execution_count": null,
   "metadata": {
    "collapsed": true
   },
   "outputs": [],
   "source": [
    "prices = {'steak': 10, 'banana': 1, 'ice cream': 5}"
   ]
  },
  {
   "cell_type": "markdown",
   "metadata": {},
   "source": [
    "They can also be declared from the `dict` builtin function."
   ]
  },
  {
   "cell_type": "code",
   "execution_count": null,
   "metadata": {
    "collapsed": true
   },
   "outputs": [],
   "source": [
    "prices = dict([('steak', 10), ('banana', 1), ('ice cream', 5)])"
   ]
  },
  {
   "cell_type": "code",
   "execution_count": null,
   "metadata": {},
   "outputs": [],
   "source": [
    "prices"
   ]
  },
  {
   "cell_type": "markdown",
   "metadata": {},
   "source": [
    "***Notes:***\n",
    "* Dictionaries are unordered! The key, value pairs will not come back to you in the same order you put them in. They could even change order each time you print your dictionary.\n",
    "* Dictionary keys can be of any *immutable* type.\n",
    "* Dictionary keys and values are not type checked."
   ]
  },
  {
   "cell_type": "markdown",
   "metadata": {},
   "source": [
    "### 1.2. Dictionary methods\n",
    "\n",
    "#### Dictionaries have many methods; \n",
    "\n",
    "#### Python 2.7 methods\n",
    "\n",
    " * `has_key`\n",
    " * `get`\n",
    " * `iterkeys`\n",
    " * `itervalues`\n",
    " * `iteritems`\n",
    " * `copy`\n",
    " * `update`\n",
    "\n",
    "#### Python 3.x\n",
    "\n",
    " * `items`\n",
    " * `keys`\n",
    " * `copy`\n",
    " * `values`\n",
    " * `get`\n",
    " * `update`\n",
    "\n",
    "The use of the methods for looping such as iterkeys, itervalues, and iteritems have been replaced with keys, items, and vlaues. The method has_key is replaced with the use of 'in'"
   ]
  },
  {
   "cell_type": "code",
   "execution_count": null,
   "metadata": {},
   "outputs": [],
   "source": []
  },
  {
   "cell_type": "markdown",
   "metadata": {
    "collapsed": true
   },
   "source": [
    "# Generators / iterators\n",
    "\n",
    "Python 2 relied heavily on creating lists for next steps.  Generators are the idea that the information you need for the next iteration is not needed until the next step.\n",
    "\n",
    "Think about the read vs the readline methods when reading in a file one gives you everything one just gives you one line at a time.\n",
    "\n",
    "Lets look at how the range function works."
   ]
  },
  {
   "cell_type": "code",
   "execution_count": null,
   "metadata": {
    "collapsed": true
   },
   "outputs": [],
   "source": [
    "def our_range(num):\n",
    "    count = 0\n",
    "    ret = []\n",
    "    while count < num:\n",
    "        ret.append(count)\n",
    "        count += 1\n",
    "    \n",
    "    return ret"
   ]
  },
  {
   "cell_type": "code",
   "execution_count": null,
   "metadata": {
    "collapsed": true
   },
   "outputs": [],
   "source": [
    "def our_range2(num):\n",
    "    count = 0\n",
    "    while count < num:\n",
    "        yield count\n",
    "        count += 1\n"
   ]
  },
  {
   "cell_type": "code",
   "execution_count": null,
   "metadata": {},
   "outputs": [],
   "source": [
    "our_range(5)"
   ]
  },
  {
   "cell_type": "code",
   "execution_count": null,
   "metadata": {},
   "outputs": [],
   "source": [
    "lst = our_range(5)\n",
    "for num in lst:\n",
    "    print(num)"
   ]
  },
  {
   "cell_type": "code",
   "execution_count": null,
   "metadata": {},
   "outputs": [],
   "source": [
    "our_range2(5)"
   ]
  },
  {
   "cell_type": "code",
   "execution_count": null,
   "metadata": {},
   "outputs": [],
   "source": [
    "iterator = our_range2(5)\n",
    "for num in iterator:\n",
    "    print(num)"
   ]
  },
  {
   "cell_type": "code",
   "execution_count": null,
   "metadata": {},
   "outputs": [],
   "source": [
    "iterator = our_range2(5)\n",
    "next(iterator)"
   ]
  },
  {
   "cell_type": "code",
   "execution_count": null,
   "metadata": {},
   "outputs": [],
   "source": [
    "next(iterator)"
   ]
  },
  {
   "cell_type": "markdown",
   "metadata": {},
   "source": [
    "## 2. Sets\n",
    "\n",
    "You can think of sets as mathematical sets. You can also think of them as value-less dictionaries.\n",
    "\n",
    "### 2.1. Set initialization\n",
    "\n",
    "Sets can be created in the same ways as dictionaries, either from the `set` builtin or with `{}`."
   ]
  },
  {
   "cell_type": "code",
   "execution_count": null,
   "metadata": {},
   "outputs": [],
   "source": [
    "groceries = set(['carrots', 'figs', 'popcorn'])\n",
    "groceries"
   ]
  },
  {
   "cell_type": "markdown",
   "metadata": {},
   "source": [
    "or"
   ]
  },
  {
   "cell_type": "code",
   "execution_count": null,
   "metadata": {
    "collapsed": true
   },
   "outputs": [],
   "source": [
    "groceries = {'carrots', 'figs', 'popcorn'}"
   ]
  },
  {
   "cell_type": "markdown",
   "metadata": {},
   "source": [
    "or"
   ]
  },
  {
   "cell_type": "code",
   "execution_count": null,
   "metadata": {
    "collapsed": true
   },
   "outputs": [],
   "source": [
    "groceries = set()\n",
    "groceries.add('carrots')\n",
    "groceries.add('figs')\n",
    "groceries.add('popcorn')"
   ]
  },
  {
   "cell_type": "markdown",
   "metadata": {},
   "source": [
    "Note the parallels between some of the types we've learned:\n",
    "\n",
    "| type     | builtin        |         | comprehension |\n",
    "|----------|----------------|---------|---------|\n",
    "| `str`    | `str(1.0)`     | `'1.0'` | |\n",
    "| `tuple`  | `tuple('abc')` | `('a','b','c')` | `(x for x in 'abc')` |\n",
    "| `list`   | `list('abc')`  | `['a','b','c']` | `[x for x in 'abc']` |\n",
    "| `set`    | `set('abc')`   | `{'a','b','c'}` | `{x for x in 'abc'}` |\n",
    "| `dict`   | `dict([('a',1),('b',2)])`   | `{'a':1,'b':2}` | `{x:i for i,x in enumerate('ab')}`|"
   ]
  },
  {
   "cell_type": "code",
   "execution_count": null,
   "metadata": {
    "collapsed": true
   },
   "outputs": [],
   "source": []
  },
  {
   "cell_type": "markdown",
   "metadata": {},
   "source": [
    "### 2.2. Set methods\n",
    "\n",
    "Some common set methods are\n",
    " * `add`\n",
    " * `union`\n",
    " * `intersection`\n",
    " * `difference`\n",
    " * `update`\n",
    " * `issubset`\n",
    " * `issuperset`\n",
    " * `copy`"
   ]
  },
  {
   "cell_type": "code",
   "execution_count": null,
   "metadata": {
    "collapsed": true
   },
   "outputs": [],
   "source": []
  },
  {
   "cell_type": "code",
   "execution_count": null,
   "metadata": {
    "collapsed": true
   },
   "outputs": [],
   "source": []
  },
  {
   "cell_type": "markdown",
   "metadata": {},
   "source": [
    "## 3. `dict` and `set` are REALLY FAST!\n",
    "\n",
    "These datatypes can be really convenient, but they are also super fast.\n",
    "\n",
    "Say I stored all my data in a list. If I wanted to find out if something were in there, I would have to check each element one by one. However, if I know the index, it's really fast to look up the item. We can get this same functionality in dictionaries and sets by using a *hash function* to map key values to integers that we'll use as indices, so the amount of time to find an item is independed of the size of the dictionary or set.\n",
    "\n",
    "\n",
    "## 4. `defaultdict` and `Counter`\n",
    "\n",
    "The python standard library contains a huge number of additional types. Two common ones based on dictionaries are `defaultdict` and `Counter`. To motivate them let's look at an example.\n",
    "\n",
    "### 4.1. `defaultdict` example\n",
    "\n",
    "Say I want to know all the indicies that each item in a list appears. Here's the code using a standard dictionary:"
   ]
  },
  {
   "cell_type": "code",
   "execution_count": null,
   "metadata": {
    "collapsed": true
   },
   "outputs": [],
   "source": [
    "def item_indices(lst):\n",
    "    '''\n",
    "    INPUT: list\n",
    "    OUTPUT: dict\n",
    "\n",
    "    Return a dictionary whose keys are the items in the list and associated\n",
    "    value is a list of all the indices where that key appears.\n",
    "    '''\n",
    "    d = {}\n",
    "    for i, item in enumerate(lst):\n",
    "        d[item].append(i)\n",
    "    return d"
   ]
  },
  {
   "cell_type": "code",
   "execution_count": null,
   "metadata": {
    "collapsed": true
   },
   "outputs": [],
   "source": [
    "def item_indices(lst):\n",
    "    '''\n",
    "    INPUT: list\n",
    "    OUTPUT: dict\n",
    "\n",
    "    Return a dictionary whose keys are the items in the list and associated\n",
    "    value is a list of all the indices where that key appears.\n",
    "    '''\n",
    "    d = {}\n",
    "    for i, item in enumerate(lst):\n",
    "        if item in d:\n",
    "            d[item].append(i)\n",
    "        else:\n",
    "            d[item] = [i]\n",
    "    return d"
   ]
  },
  {
   "cell_type": "markdown",
   "metadata": {},
   "source": [
    "Here's the results of running this function on an example:"
   ]
  },
  {
   "cell_type": "code",
   "execution_count": null,
   "metadata": {},
   "outputs": [],
   "source": [
    "item_indices(['a', 'b', 'b', 'c', 'a'])\n"
   ]
  },
  {
   "cell_type": "markdown",
   "metadata": {},
   "source": [
    "We can use a `defaultdict`. In a `defaultdict`, if we try to access a key we've never seen before, there is a default value that it gets. We just need to tell it what our default is.\n",
    "\n",
    "We will need to import it first:"
   ]
  },
  {
   "cell_type": "code",
   "execution_count": null,
   "metadata": {
    "collapsed": true
   },
   "outputs": [],
   "source": [
    "from collections import defaultdict"
   ]
  },
  {
   "cell_type": "code",
   "execution_count": null,
   "metadata": {
    "collapsed": true
   },
   "outputs": [],
   "source": [
    "def item_indices2(lst):\n",
    "    d = defaultdict(list)\n",
    "    for i, item in enumerate(lst):\n",
    "        d[item].append(i)\n",
    "    return d"
   ]
  },
  {
   "cell_type": "code",
   "execution_count": null,
   "metadata": {},
   "outputs": [],
   "source": [
    "item_indices2(['a', 'b', 'b', 'c', 'a'])"
   ]
  },
  {
   "cell_type": "markdown",
   "metadata": {},
   "source": [
    "Ahhh... that's so much nicer :)\n",
    "\n",
    "### 4.2. Counter example\n",
    "\n",
    "A very common default value is an integer. So Python has a special type of defaultdict just for that. Let's say we just want to count the occurences of each element in the list.\n",
    "\n",
    "Here's what we would need to do with a standard dictionary:"
   ]
  },
  {
   "cell_type": "code",
   "execution_count": null,
   "metadata": {
    "collapsed": true
   },
   "outputs": [],
   "source": [
    "def count_items(lst):\n",
    "    '''\n",
    "    INPUT: list\n",
    "    OUTPUT: dict\n",
    "\n",
    "    Return a dictionary whose keys are the items in the list and associated\n",
    "    value is the count of the number of times that item occurred in the list.\n",
    "    '''\n",
    "    d = {}\n",
    "    for i, item in enumerate(lst):\n",
    "        if item in d:\n",
    "            d[item] += 1\n",
    "        else:\n",
    "            d[item] = 1\n",
    "    return d"
   ]
  },
  {
   "cell_type": "markdown",
   "metadata": {},
   "source": [
    "We can also use the `get` method here, or we could use a `defaultdict` with type `int`, but let's use a `Counter`!\n",
    "\n",
    "Again, we will need to import it:"
   ]
  },
  {
   "cell_type": "code",
   "execution_count": null,
   "metadata": {
    "collapsed": true
   },
   "outputs": [],
   "source": [
    "from collections import Counter\n",
    "def count_items2(lst):\n",
    "    d = Counter()\n",
    "    for i, item in enumerate(lst):\n",
    "        d[item] += 1\n",
    "    return d"
   ]
  },
  {
   "cell_type": "markdown",
   "metadata": {},
   "source": [
    "Counters are even better than that! We can do the following:"
   ]
  },
  {
   "cell_type": "code",
   "execution_count": null,
   "metadata": {},
   "outputs": [],
   "source": [
    "d = Counter(['a', 'b', 'b', 'c', 'a'])\n",
    "d"
   ]
  },
  {
   "cell_type": "markdown",
   "metadata": {},
   "source": [
    "Counters are like defaultdicts, but they also have a special method called `most_common` that finds the element(s) with the highest value.\n",
    "\n",
    "## 5. Performance example\n",
    "\n",
    "Let's take another look at one of the examples we did yesterday, the divisors problem. First, yesterday's code:"
   ]
  },
  {
   "cell_type": "code",
   "execution_count": null,
   "metadata": {
    "collapsed": true
   },
   "outputs": [],
   "source": [
    "def get_divisors(numbers, divisors):\n",
    "    '''\n",
    "    INPUT: list of ints, list of ints\n",
    "    OUTPUT: list of ints\n",
    "\n",
    "    Return a list of the values from the second list that are proper divisors\n",
    "    of elements in the first list.\n",
    "    '''\n",
    "    result = []\n",
    "    for d in divisors:\n",
    "        for n in numbers:\n",
    "            if n % d == 0:\n",
    "                result.append(d)\n",
    "                break\n",
    "    return result"
   ]
  },
  {
   "cell_type": "markdown",
   "metadata": {},
   "source": [
    "We can improve on it using a set."
   ]
  },
  {
   "cell_type": "code",
   "execution_count": null,
   "metadata": {
    "collapsed": true
   },
   "outputs": [],
   "source": [
    "from math import sqrt\n",
    "\n",
    "def all_divisors(num):\n",
    "    '''\n",
    "    INPUT: int\n",
    "    OUTPUT: list of ints\n",
    "\n",
    "    Given an integer, return a list of all the divisors of that number.\n",
    "    '''\n",
    "    result = [num]\n",
    "    for i in range(1, int(sqrt(num)) + 1):\n",
    "        if num % i == 0:\n",
    "            result.append(i)\n",
    "            result.append(num / i)\n",
    "    return result\n",
    "\n",
    "\n",
    "def get_divisors2(numbers, divisors):\n",
    "    '''\n",
    "    INPUT: list of ints, list of ints\n",
    "    OUTPUT: list of ints\n",
    "\n",
    "    Return a list of the values from the second list that are proper divisors\n",
    "    of elements in the first list.\n",
    "    '''\n",
    "    s = set()\n",
    "    for num in numbers:\n",
    "        s.update(all_divisors(num))\n",
    "    return [divisor for divisor in divisors if divisor in s]"
   ]
  },
  {
   "cell_type": "markdown",
   "metadata": {},
   "source": [
    "Let's use `ipython`'s magic method `%time` to see what the improvement is.\n",
    "\n",
    "First we create two large lists:"
   ]
  },
  {
   "cell_type": "code",
   "execution_count": null,
   "metadata": {
    "collapsed": true
   },
   "outputs": [],
   "source": [
    "import random\n",
    "\n",
    "numbers = random.sample(range(1000000), 10000)\n",
    "divisors = random.sample(range(1000000), 10000)"
   ]
  },
  {
   "cell_type": "markdown",
   "metadata": {},
   "source": [
    "Here's how we can time running it in `ipython`:"
   ]
  },
  {
   "cell_type": "code",
   "execution_count": null,
   "metadata": {},
   "outputs": [],
   "source": [
    "%time result = get_divisors(numbers, divisors)\n",
    "%time result2 = get_divisors2(numbers, divisors)"
   ]
  },
  {
   "cell_type": "code",
   "execution_count": null,
   "metadata": {},
   "outputs": [],
   "source": [
    "result == result2"
   ]
  },
  {
   "cell_type": "markdown",
   "metadata": {},
   "source": [
    "These are the times I got:\n",
    "\n",
    "| Version | Time     |\n",
    "| ------- | -------- |\n",
    "| old     | 20.7 sec |\n",
    "| new     | 1.33 sec |\n",
    "\n",
    "If instead I wanted only the divisors which divide at least 2 values, this would be a good place for a `Counter`."
   ]
  },
  {
   "cell_type": "code",
   "execution_count": null,
   "metadata": {
    "collapsed": true
   },
   "outputs": [],
   "source": []
  },
  {
   "cell_type": "code",
   "execution_count": null,
   "metadata": {
    "collapsed": true
   },
   "outputs": [],
   "source": []
  },
  {
   "cell_type": "code",
   "execution_count": null,
   "metadata": {
    "collapsed": true
   },
   "outputs": [],
   "source": []
  },
  {
   "cell_type": "code",
   "execution_count": null,
   "metadata": {
    "collapsed": true
   },
   "outputs": [],
   "source": [
    "# Can two numbers draw (with replacement) from a list sum to a given value?\n",
    "\n",
    "list_ = [3, 5, 7, 9]\n",
    "\n",
    "# make_sum(list_, 4) ==> False\n",
    "# make_sum(list_, 8) ==> True\n"
   ]
  },
  {
   "cell_type": "code",
   "execution_count": null,
   "metadata": {
    "collapsed": true
   },
   "outputs": [],
   "source": [
    "# Method 1\n",
    "\n",
    "from itertools import combinations_with_replacement\n",
    "\n",
    "def make_sum1(numbers, target):\n",
    "    combinations = combinations_with_replacement(numbers, 2)\n",
    "    for combo in combinations:\n",
    "        if sum(combo) == target:\n",
    "            return True\n",
    "    return False\n"
   ]
  },
  {
   "cell_type": "code",
   "execution_count": null,
   "metadata": {
    "collapsed": true
   },
   "outputs": [],
   "source": [
    "# Method 2\n",
    "\n",
    "def make_sum2(numbers, target):\n",
    "    for number in numbers:\n",
    "        if target - number in numbers:\n",
    "            return True\n",
    "    return False\n"
   ]
  },
  {
   "cell_type": "code",
   "execution_count": null,
   "metadata": {
    "collapsed": true
   },
   "outputs": [],
   "source": [
    "# Method 3\n",
    "\n",
    "def make_sum3(numbers, target):\n",
    "    numbers = set(numbers)\n",
    "    for number in numbers:\n",
    "        if target - number in numbers:\n",
    "            return True\n",
    "    return False\n"
   ]
  },
  {
   "cell_type": "code",
   "execution_count": null,
   "metadata": {},
   "outputs": [],
   "source": [
    "import random\n",
    "\n",
    "number_of_samples = 1000\n",
    "list_range = (1, 1000)\n",
    "list_length = 100\n",
    "\n",
    "samples = []\n",
    "\n",
    "for s in range(number_of_samples):\n",
    "    list_ = [random.randint(*list_range) for i in range(list_length)]\n",
    "    target = random.randint(*list_range)\n",
    "    samples.append((list_, target))\n"
   ]
  },
  {
   "cell_type": "code",
   "execution_count": null,
   "metadata": {
    "collapsed": true
   },
   "outputs": [],
   "source": [
    "def test_make_sum(samples, make_sum):\n",
    "    for numbers, target in samples:\n",
    "        make_sum(numbers, target)"
   ]
  },
  {
   "cell_type": "code",
   "execution_count": null,
   "metadata": {},
   "outputs": [],
   "source": [
    "time test_make_sum(samples, make_sum1)"
   ]
  },
  {
   "cell_type": "code",
   "execution_count": null,
   "metadata": {},
   "outputs": [],
   "source": [
    "time test_make_sum(samples, make_sum2)"
   ]
  },
  {
   "cell_type": "code",
   "execution_count": null,
   "metadata": {},
   "outputs": [],
   "source": [
    "time test_make_sum(samples, make_sum3)"
   ]
  },
  {
   "cell_type": "code",
   "execution_count": null,
   "metadata": {
    "collapsed": true
   },
   "outputs": [],
   "source": []
  },
  {
   "cell_type": "code",
   "execution_count": null,
   "metadata": {
    "collapsed": true
   },
   "outputs": [],
   "source": []
  },
  {
   "cell_type": "code",
   "execution_count": null,
   "metadata": {
    "collapsed": true
   },
   "outputs": [],
   "source": []
  },
  {
   "cell_type": "code",
   "execution_count": null,
   "metadata": {
    "collapsed": true
   },
   "outputs": [],
   "source": [
    "from collections import Counter\n",
    "\n",
    "def top_divisors(numbers, divisors):\n",
    "    '''\n",
    "    INPUT: list of ints, list of ints\n",
    "    OUTPUT: list\n",
    "\n",
    "    Return a list of the divisors which divide at least 2 of the numbers.\n",
    "    '''\n",
    "    d = Counter()\n",
    "    for num in numbers:\n",
    "        for divisor in all_divisors(num):\n",
    "            d[divisor] += 1\n",
    "    return [divisor for divisor in divisors if d[divisor] >= 2]\n"
   ]
  },
  {
   "cell_type": "code",
   "execution_count": null,
   "metadata": {
    "collapsed": true
   },
   "outputs": [],
   "source": [
    "%time result = top_divisors(numbers, divisors)"
   ]
  },
  {
   "cell_type": "code",
   "execution_count": null,
   "metadata": {
    "collapsed": true
   },
   "outputs": [],
   "source": []
  }
 ],
 "metadata": {
  "kernelspec": {
   "display_name": "Python 3",
   "language": "python",
   "name": "python3"
  },
  "language_info": {
   "codemirror_mode": {
    "name": "ipython",
    "version": 3
   },
   "file_extension": ".py",
   "mimetype": "text/x-python",
   "name": "python",
   "nbconvert_exporter": "python",
   "pygments_lexer": "ipython3",
   "version": "3.6.4"
  }
 },
 "nbformat": 4,
 "nbformat_minor": 1
}
