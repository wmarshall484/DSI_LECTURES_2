{
 "cells": [
  {
   "cell_type": "markdown",
   "metadata": {
    "slideshow": {
     "slide_type": "slide"
    }
   },
   "source": [
    "# Python Workshop\n",
    "\n",
    "This workshop will review Python fundamentals \n",
    "and prepare you for Galvanize's DSI."
   ]
  },
  {
   "cell_type": "markdown",
   "metadata": {
    "slideshow": {
     "slide_type": "slide"
    }
   },
   "source": [
    "# Object Oriented Programming (OOP)"
   ]
  },
  {
   "cell_type": "markdown",
   "metadata": {
    "slideshow": {
     "slide_type": "slide"
    }
   },
   "source": [
    "Until now, we have designed our programs around functions -- blocks of statements that manipulate data. This is called the procedure-oriented way of programming. There is another way of organizing your program which is to combine data and functionality and wrap it inside something called an object. This is called the object oriented programming paradigm."
   ]
  },
  {
   "cell_type": "code",
   "execution_count": 1,
   "metadata": {
    "slideshow": {
     "slide_type": "slide"
    }
   },
   "outputs": [
    {
     "name": "stdout",
     "output_type": "stream",
     "text": [
      "The Zen of Python, by Tim Peters\n",
      "\n",
      "Beautiful is better than ugly.\n",
      "Explicit is better than implicit.\n",
      "Simple is better than complex.\n",
      "Complex is better than complicated.\n",
      "Flat is better than nested.\n",
      "Sparse is better than dense.\n",
      "Readability counts.\n",
      "Special cases aren't special enough to break the rules.\n",
      "Although practicality beats purity.\n",
      "Errors should never pass silently.\n",
      "Unless explicitly silenced.\n",
      "In the face of ambiguity, refuse the temptation to guess.\n",
      "There should be one-- and preferably only one --obvious way to do it.\n",
      "Although that way may not be obvious at first unless you're Dutch.\n",
      "Now is better than never.\n",
      "Although never is often better than *right* now.\n",
      "If the implementation is hard to explain, it's a bad idea.\n",
      "If the implementation is easy to explain, it may be a good idea.\n",
      "Namespaces are one honking great idea -- let's do more of those!\n"
     ]
    }
   ],
   "source": [
    "# But first....\n",
    "import this\n",
    "this;"
   ]
  },
  {
   "cell_type": "markdown",
   "metadata": {
    "slideshow": {
     "slide_type": "slide"
    }
   },
   "source": [
    "# 1. Classes and Objects\n",
    "* A class creates a new type where objects are instances of the class.\n",
    "* Objects can store data using variables that belong to a class. Variables that belong to an object or class are referred to as `fields`. \n",
    "* Objects can also have functionality by using functions that belong to a class. Such functions are called `methods` of the class. \n",
    "* This terminology is important because it helps us to differentiate between functions and variables which are independent and those which belong to a class or object. \n",
    "* Collectively, the fields and methods of a class can be referred to as `attributes`."
   ]
  },
  {
   "cell_type": "markdown",
   "metadata": {
    "slideshow": {
     "slide_type": "slide"
    }
   },
   "source": [
    "## Example: Dog Object\n",
    "\n",
    "### Dogs can be described in terms of their attributes\n",
    "* size\n",
    "* breed\n",
    "* name\n",
    "* favorite toy\n",
    "\n",
    "### Dogs have behaviors and abilities\n",
    "* run\n",
    "* bark\n",
    "* eat\n",
    "* sleep\n",
    "\n",
    "### In the language of OOP\n",
    "* Attributes: size, breed, name, favorite toy\n",
    "* Methods: run, bark, eat, sleep"
   ]
  },
  {
   "cell_type": "markdown",
   "metadata": {
    "slideshow": {
     "slide_type": "slide"
    }
   },
   "source": [
    "## 1.0 Class vs Instance\n",
    "* `object` is used broadly to refer to classes or instances of classes\n",
    "* `class` refers to the set of attributes, methods, etc. that define a group of objects\n",
    "* `instance` refers to a specific example of a class\n",
    "\n",
    "In the example below, Dog is a class. My dog Snoopy is an instance of the Dog class."
   ]
  },
  {
   "cell_type": "code",
   "execution_count": 2,
   "metadata": {
    "collapsed": true,
    "slideshow": {
     "slide_type": "subslide"
    }
   },
   "outputs": [],
   "source": [
    "# Class definition\n",
    "class Dog(object):\n",
    "    \"\"\"Common household pet\"\"\"\n",
    "    def __init__(self, name, breed, favorite_toy):\n",
    "        \"\"\"\n",
    "        Args:\n",
    "            name (str): the dog's name, ex. \"Snoopy\"\n",
    "            breed (str): the breed of the dog, ex. \"Beagle\"\n",
    "            favorite_toy (str): something the dog likes to play with most\n",
    "        \n",
    "        \"\"\"\n",
    "        self.name = name\n",
    "        self.breed = breed\n",
    "        self.favorite_toy = favorite_toy\n",
    "        "
   ]
  },
  {
   "cell_type": "code",
   "execution_count": 3,
   "metadata": {
    "collapsed": true,
    "slideshow": {
     "slide_type": "subslide"
    }
   },
   "outputs": [],
   "source": [
    "# Class instantiation\n",
    "my_dog = Dog('Snoopy', 'Beagle', 'Frisbee')"
   ]
  },
  {
   "cell_type": "code",
   "execution_count": 4,
   "metadata": {
    "slideshow": {
     "slide_type": "subslide"
    }
   },
   "outputs": [
    {
     "name": "stdout",
     "output_type": "stream",
     "text": [
      "Snoopy\n",
      "Beagle\n",
      "Frisbee\n"
     ]
    }
   ],
   "source": [
    "# Class attributes\n",
    "print (my_dog.name)\n",
    "print (my_dog.breed)\n",
    "print (my_dog.favorite_toy)"
   ]
  },
  {
   "cell_type": "markdown",
   "metadata": {
    "slideshow": {
     "slide_type": "slide"
    }
   },
   "source": [
    "## 1.1 Encapsulation\n",
    "Encapsulation is an object-oriented programming concept that binds together the data and functions that manipulate the data, and that keeps both safe from outside interference and misuse. "
   ]
  },
  {
   "cell_type": "code",
   "execution_count": 5,
   "metadata": {
    "slideshow": {
     "slide_type": "subslide"
    }
   },
   "outputs": [
    {
     "name": "stdout",
     "output_type": "stream",
     "text": [
      "updating software\n",
      "driving\n"
     ]
    }
   ],
   "source": [
    "class Car:\n",
    " \n",
    "    def __init__(self):\n",
    "        self.__updateSoftware()\n",
    " \n",
    "    def drive(self):\n",
    "        print ('driving')\n",
    " \n",
    "    def __updateSoftware(self):\n",
    "        print ('updating software')\n",
    " \n",
    "redcar = Car()\n",
    "redcar.drive()"
   ]
  },
  {
   "cell_type": "markdown",
   "metadata": {
    "slideshow": {
     "slide_type": "subslide"
    }
   },
   "source": [
    "But what if I want to update the redcar's software?  \n",
    "```\n",
    "redcar.__updateSoftware()\n",
    "AttributeError: 'Car' object has no attribute '__updateSoftware'\n",
    "```\n",
    "\n",
    "The program designer is telling the user something about their program: `_updateSoftware` is a private method, and is only needed internally. That said, Python is a gentlemen's sport and private methods are still accesible if you really try.\n",
    "\n",
    "```\n",
    "redcar._Car__updateSoftware()\n",
    "```"
   ]
  },
  {
   "cell_type": "markdown",
   "metadata": {
    "slideshow": {
     "slide_type": "slide"
    }
   },
   "source": [
    "## 1.2 Polymorphism\n",
    "The ability to create multiple instances of a Class.  \n",
    "```\n",
    "my_dog = Dog('Snoopy', 'Beagle', 'Frisbee')\n",
    "your_dog = Dog('Spot', 'Poodle', \"Tennis Ball\")\n",
    "```"
   ]
  },
  {
   "cell_type": "markdown",
   "metadata": {
    "slideshow": {
     "slide_type": "subslide"
    }
   },
   "source": [
    "Subtyping, a form of polymorphism, is when calling code can be agnostic as to whether an object belongs to a parent class or one of its descendants. Recall `defaultDict` from this morning. It inherits from the class `dict`, including all if its methods such as `.get()`"
   ]
  },
  {
   "cell_type": "code",
   "execution_count": 6,
   "metadata": {
    "slideshow": {
     "slide_type": "subslide"
    }
   },
   "outputs": [
    {
     "data": {
      "text/plain": [
       "True"
      ]
     },
     "execution_count": 6,
     "metadata": {},
     "output_type": "execute_result"
    }
   ],
   "source": [
    "from collections import defaultdict\n",
    "issubclass(defaultdict, dict)"
   ]
  },
  {
   "cell_type": "code",
   "execution_count": 7,
   "metadata": {
    "slideshow": {
     "slide_type": "subslide"
    }
   },
   "outputs": [
    {
     "data": {
      "text/plain": [
       "'Chocalate'"
      ]
     },
     "execution_count": 7,
     "metadata": {},
     "output_type": "execute_result"
    }
   ],
   "source": [
    "ice_cream = defaultdict(lambda: 'vanilla')\n",
    "ice_cream['Elliot'] = 'Chocalate'\n",
    "ice_cream.get('Elliot') "
   ]
  },
  {
   "cell_type": "markdown",
   "metadata": {
    "slideshow": {
     "slide_type": "slide"
    }
   },
   "source": [
    "## 1.3 Message Passing\n",
    "You can add `methods` to an object to give it more functionality"
   ]
  },
  {
   "cell_type": "code",
   "execution_count": 8,
   "metadata": {
    "slideshow": {
     "slide_type": "subslide"
    }
   },
   "outputs": [
    {
     "name": "stdout",
     "output_type": "stream",
     "text": [
      "ruff ruff ruff!\n"
     ]
    }
   ],
   "source": [
    "class Dog(object):\n",
    "    \"\"\"Common household pet\"\"\"\n",
    "    \n",
    "    def __init__(self, name, breed, favorite_toy):\n",
    "        \"\"\"\n",
    "        Args:\n",
    "            name (str): the dog's name, ex. \"Snoopy\"\n",
    "            breed (str): the breed of the dog, ex. \"Beagle\"\n",
    "            favorite_toy (str): something the dog likes to play with most\n",
    "        \"\"\"\n",
    "        self.name = name\n",
    "        self.breed = breed\n",
    "        self.favorite_toy = favorite_toy\n",
    "        \n",
    "        \n",
    "    def bark(self):\n",
    "        \"\"\"Causes the dog to bark\"\"\"\n",
    "        print ('ruff ruff ruff!')\n",
    "        \n",
    "        \n",
    "my_dog = Dog('Snoopy', 'Beagle', 'Frisbee')\n",
    "my_dog.bark()"
   ]
  },
  {
   "cell_type": "markdown",
   "metadata": {
    "slideshow": {
     "slide_type": "subslide"
    }
   },
   "source": [
    "Objects can also interact with each other vis-a-vis methods\n",
    "* In a game, player objects could interact with a playing card object\n",
    "* In a our earlier example, a person object could interact with a dog object\n",
    "* Structuring code in this way makes code more reusable and easier to read"
   ]
  },
  {
   "cell_type": "code",
   "execution_count": 9,
   "metadata": {
    "collapsed": true,
    "slideshow": {
     "slide_type": "subslide"
    }
   },
   "outputs": [],
   "source": [
    "class Dog(object):\n",
    "    \"\"\"Common household pet\"\"\"\n",
    "    \n",
    "    def __init__(self, name, breed, favorite_toy, has_toy=False, plays_fetch=True):\n",
    "        \"\"\"\n",
    "        Args:\n",
    "            name (str): the dog's name, ex. \"Snoopy\"\n",
    "            breed (str): the breed of the dog, ex. \"Beagle\"\n",
    "            favorite_toy (str): something the dog likes to play with most\n",
    "            has_toy (bool): wehther the dog has its favorite toy\n",
    "            plays_fetch (bool): whether the dog knows how to play fetch\n",
    "        \"\"\"\n",
    "        self.name = name\n",
    "        self.breed = breed\n",
    "        self.favorite_toy = favorite_toy\n",
    "        self.has_toy = has_toy\n",
    "        self.plays_fetch = plays_fetch\n",
    "        \n",
    "        \n",
    "    def bark(self):\n",
    "        \"\"\"Causes the dog to bark\"\"\"\n",
    "        print ('ruff ruff ruff!')\n",
    "\n",
    "class Person(object):\n",
    "    \"\"\"Human who may have a Dog\"\"\"\n",
    "    def __init__(self, name):\n",
    "        \"\"\"\n",
    "        Args:\n",
    "            name (str): name of the person\n",
    "        \"\"\"\n",
    "        self.name = name\n",
    "        \n",
    "    def introduce(self):\n",
    "        print ('My name is {name}.'.format(name=self.name))\n",
    "        \n",
    "    def play_fetch(self, dog):\n",
    "        \"\"\"Person plays a game of fetch with dog\"\"\"\n",
    "        print ('Go get the {toy} {dog_name}!'.format(toy=dog.favorite_toy, \n",
    "                                                     dog_name=dog.name)\n",
    "              )\n",
    "        if dog.plays_fetch:\n",
    "            dog.bark()\n",
    "            dog.has_toy = True\n",
    "            print ('Good job {dog_name}!'.format(dog_name=dog.name))\n",
    "        else:\n",
    "            dog.has_toy = False\n",
    "            print ('Try again {dog_name}!'.format(dog_name=dog.name))\n",
    "        \n",
    "        "
   ]
  },
  {
   "cell_type": "code",
   "execution_count": 10,
   "metadata": {
    "slideshow": {
     "slide_type": "subslide"
    }
   },
   "outputs": [
    {
     "name": "stdout",
     "output_type": "stream",
     "text": [
      "My name is Charlie Brown.\n",
      "Go get the frisbee Snoopy!\n",
      "ruff ruff ruff!\n",
      "Good job Snoopy!\n"
     ]
    }
   ],
   "source": [
    "person = Person('Charlie Brown')\n",
    "dog = Dog('Snoopy', 'Beagle', 'frisbee')\n",
    "person.introduce()\n",
    "person.play_fetch(dog)"
   ]
  },
  {
   "cell_type": "markdown",
   "metadata": {
    "slideshow": {
     "slide_type": "slide"
    }
   },
   "source": [
    "## 1.4 Inheritance"
   ]
  },
  {
   "cell_type": "code",
   "execution_count": 25,
   "metadata": {
    "collapsed": true,
    "slideshow": {
     "slide_type": "subslide"
    }
   },
   "outputs": [],
   "source": [
    "class SchoolMember:\n",
    "    '''Represents any school member.'''\n",
    "    def __init__(self, name, age):\n",
    "        self.name = name\n",
    "        self.age = age\n",
    "        print('(Initialized SchoolMember: {})'.format(self.name))\n",
    "\n",
    "    def tell(self):\n",
    "        '''Tell my details.'''\n",
    "        print('Name:\"{}\" Age:\"{}\"'.format(self.name, self.age), end=\" \")\n",
    "\n",
    "\n",
    "class Teacher(SchoolMember):\n",
    "    '''Represents a teacher.'''\n",
    "    def __init__(self, name, age, salary):\n",
    "        SchoolMember.__init__(self, name, age)\n",
    "        self.salary = salary\n",
    "        print('(Initialized Teacher: {})'.format(self.name))\n",
    "\n",
    "    def tell(self):\n",
    "        SchoolMember.tell(self)\n",
    "        print('Salary: \"{:d}\"'.format(self.salary))\n",
    "\n",
    "\n",
    "class Student(SchoolMember):\n",
    "    '''Represents a student.'''\n",
    "    def __init__(self, name, age, marks):\n",
    "        SchoolMember.__init__(self, name, age)\n",
    "        self.marks = marks\n",
    "        print('(Initialized Student: {})'.format(self.name))\n",
    "\n",
    "    def tell(self):\n",
    "        SchoolMember.tell(self)\n",
    "        print('Marks: \"{:d}\"'.format(self.marks))"
   ]
  },
  {
   "cell_type": "code",
   "execution_count": 26,
   "metadata": {
    "slideshow": {
     "slide_type": "subslide"
    }
   },
   "outputs": [
    {
     "name": "stdout",
     "output_type": "stream",
     "text": [
      "(Initialized SchoolMember: Dr. Cohen)\n",
      "(Initialized Teacher: Dr. Cohen)\n",
      "(Initialized SchoolMember: Sam)\n",
      "(Initialized Student: Sam)\n"
     ]
    }
   ],
   "source": [
    "t = Teacher('Dr. Cohen', 32, 10**12)\n",
    "s = Student('Sam', 25, 99)"
   ]
  },
  {
   "cell_type": "code",
   "execution_count": 27,
   "metadata": {},
   "outputs": [
    {
     "name": "stdout",
     "output_type": "stream",
     "text": [
      "Name:\"Dr. Cohen\" Age:\"32\" Salary: \"1000000000000\"\n"
     ]
    }
   ],
   "source": [
    "t.tell()"
   ]
  },
  {
   "cell_type": "code",
   "execution_count": 24,
   "metadata": {
    "slideshow": {
     "slide_type": "subslide"
    }
   },
   "outputs": [
    {
     "name": "stdout",
     "output_type": "stream",
     "text": [
      "Name:\"Dr. Cohen\" Age:\"32\" Name:\"Sam\" Age:\"25\" Marks: \"99\"\n"
     ]
    }
   ],
   "source": [
    "members = [t, s]\n",
    "for member in members:\n",
    "    # Works for both Teachers and Students\n",
    "    member.tell()"
   ]
  },
  {
   "cell_type": "code",
   "execution_count": 14,
   "metadata": {
    "slideshow": {
     "slide_type": "subslide"
    }
   },
   "outputs": [
    {
     "data": {
      "text/plain": [
       "True"
      ]
     },
     "execution_count": 14,
     "metadata": {},
     "output_type": "execute_result"
    }
   ],
   "source": [
    "issubclass(Teacher, SchoolMember)"
   ]
  },
  {
   "cell_type": "markdown",
   "metadata": {
    "slideshow": {
     "slide_type": "slide"
    }
   },
   "source": [
    "# 2. Class \"Magic Methods\"\n",
    "* You can add special features to your classes using \"magic methods\"\n",
    "* ex. str(my_dog) could return 'Name: Beagle, Favorite Toy: Frisbee'"
   ]
  },
  {
   "cell_type": "code",
   "execution_count": 36,
   "metadata": {
    "collapsed": true,
    "slideshow": {
     "slide_type": "subslide"
    }
   },
   "outputs": [],
   "source": [
    "# Magic methods: __len__ and __str__\n",
    "class Dog(object):\n",
    "    \"\"\"Common household pet\"\"\"\n",
    "    \n",
    "    def __init__(self, name, breed, favorite_toy, has_toy=False, plays_fetch=True):\n",
    "        \"\"\"\n",
    "        Args:\n",
    "            name (str): the dog's name, ex. \"Snoopy\"\n",
    "            breed (str): the breed of the dog, ex. \"Beagle\"\n",
    "            favorite_toy (str): something the dog likes to play with most\n",
    "            has_toy (bool): whether the dog has its favorite toy\n",
    "            plays_fetch (bool): whether the dog knows how to play fetch\n",
    "        \"\"\"\n",
    "        self.name = name\n",
    "        self.breed = breed\n",
    "        self.favorite_toy = favorite_toy\n",
    "        self.has_toy = has_toy\n",
    "        self.plays_fetch = plays_fetch\n",
    "        \n",
    "    def __len__(self):\n",
    "        \"\"\"The length of a dog is the length of its name\"\"\"\n",
    "        return len(self.name)\n",
    "    \n",
    "    def __str__(self):\n",
    "        \"\"\"Name, Breed, Favorite Toy\"\"\"\n",
    "        return '{name}, {breed}, {favorite_toy}'.format(name=self.name, \n",
    "                                                        breed=self.breed, \n",
    "                                                        favorite_toy=self.favorite_toy)\n",
    "    def __gt__(self, other):\n",
    "        return(len(self.name) > len(other.name))\n",
    "    \n",
    "    \n",
    "my_dog = Dog('Snoopy', 'Beagle', 'Frisbee')\n",
    "your_dog = Dog('Copernicus', 'Poodle', 'Tennis Ball')"
   ]
  },
  {
   "cell_type": "code",
   "execution_count": 37,
   "metadata": {},
   "outputs": [
    {
     "data": {
      "text/plain": [
       "False"
      ]
     },
     "execution_count": 37,
     "metadata": {},
     "output_type": "execute_result"
    }
   ],
   "source": [
    "my_dog > your_dog"
   ]
  },
  {
   "cell_type": "code",
   "execution_count": 16,
   "metadata": {
    "slideshow": {
     "slide_type": "slide"
    }
   },
   "outputs": [
    {
     "name": "stdout",
     "output_type": "stream",
     "text": [
      "40 60\n"
     ]
    }
   ],
   "source": [
    "# Magic method: __add__\n",
    "class FruitBasket(object):\n",
    "    \"\"\"A collection of apples and pears\"\"\"\n",
    "    \n",
    "    def __init__(self, num_apples, num_pears):\n",
    "        \"\"\"\n",
    "        Args:\n",
    "            num_apples (int): number of apples in the basket\n",
    "            num_pears (int): number of pears in the basket\n",
    "        \"\"\"\n",
    "        self.num_apples = num_apples\n",
    "        self.num_pears = num_pears\n",
    "        \n",
    "    def __add__(self, other):\n",
    "        \"\"\"Combines two baskets into one\"\"\"\n",
    "        num_apples = self.num_apples + other.num_apples\n",
    "        num_pears = self.num_pears + other.num_pears\n",
    "        new_basket = FruitBasket(num_apples, num_pears)\n",
    "        return new_basket\n",
    "    \n",
    "basket1 = FruitBasket(10, 20)\n",
    "basket2 = FruitBasket(30, 40)\n",
    "basket3 = basket1 + basket2\n",
    "print (basket3.num_apples, basket3.num_pears)"
   ]
  },
  {
   "cell_type": "code",
   "execution_count": 17,
   "metadata": {
    "slideshow": {
     "slide_type": "subslide"
    }
   },
   "outputs": [
    {
     "name": "stdout",
     "output_type": "stream",
     "text": [
      "3\n",
      "3\n"
     ]
    }
   ],
   "source": [
    "# __add__ is how addition works with numeric types too\n",
    "a, b = 1, 2\n",
    "print (a + b)\n",
    "print (a.__add__(b))"
   ]
  },
  {
   "cell_type": "markdown",
   "metadata": {
    "slideshow": {
     "slide_type": "subslide"
    }
   },
   "source": [
    "## More info about magic methods:\n",
    "http://www.rafekettler.com/magicmethods.html"
   ]
  },
  {
   "cell_type": "markdown",
   "metadata": {
    "slideshow": {
     "slide_type": "slide"
    }
   },
   "source": [
    "# 3. OOP in Data Science\n",
    "* `sklearn` is expert at abstracting away the implimentation details of each algorithim, providing a consistent API.\n",
    "* This will be explored in depth starting next week during the DSI\n",
    "* But here's a sneak-peak:"
   ]
  },
  {
   "cell_type": "code",
   "execution_count": 18,
   "metadata": {
    "slideshow": {
     "slide_type": "subslide"
    }
   },
   "outputs": [
    {
     "data": {
      "image/png": "[encoded data removed]",
      "text/plain": [
       "<matplotlib.figure.Figure at 0x10fa2f630>"
      ]
     },
     "metadata": {},
     "output_type": "display_data"
    }
   ],
   "source": [
    "\"\"\"\n",
    "==================================================\n",
    "Plot the decision boundaries of a VotingClassifier\n",
    "==================================================\n",
    "\n",
    "Plot the decision boundaries of a `VotingClassifier` for\n",
    "two features of the Iris dataset.\n",
    "\n",
    "Plot the class probabilities of the first sample in a toy dataset\n",
    "predicted by three different classifiers and averaged by the\n",
    "`VotingClassifier`.\n",
    "\n",
    "First, three exemplary classifiers are initialized (`DecisionTreeClassifier`,\n",
    "`KNeighborsClassifier`, and `SVC`) and used to initialize a\n",
    "soft-voting `VotingClassifier` with weights `[2, 1, 2]`, which means that\n",
    "the predicted probabilities of the `DecisionTreeClassifier` and `SVC`\n",
    "count 5 times as much as the weights of the `KNeighborsClassifier` classifier\n",
    "when the averaged probability is calculated.\n",
    "\n",
    "\"\"\"\n",
    "from itertools import product\n",
    "\n",
    "import numpy as np\n",
    "import matplotlib.pyplot as plt\n",
    "\n",
    "from sklearn import datasets\n",
    "from sklearn.tree import DecisionTreeClassifier\n",
    "from sklearn.neighbors import KNeighborsClassifier\n",
    "from sklearn.svm import SVC\n",
    "from sklearn.ensemble import VotingClassifier\n",
    "\n",
    "# Loading some example data\n",
    "iris = datasets.load_iris()\n",
    "X = iris.data[:, [0, 2]]\n",
    "y = iris.target\n",
    "\n",
    "# Training classifiers\n",
    "clf1 = DecisionTreeClassifier(max_depth=4)\n",
    "clf2 = KNeighborsClassifier(n_neighbors=7)\n",
    "clf3 = SVC(kernel='rbf', probability=True)\n",
    "eclf = VotingClassifier(estimators=[('dt', clf1), ('knn', clf2),\n",
    "                                    ('svc', clf3)],\n",
    "                        voting='soft', weights=[2, 1, 2])\n",
    "\n",
    "clf1.fit(X, y)\n",
    "clf2.fit(X, y)\n",
    "clf3.fit(X, y)\n",
    "eclf.fit(X, y)\n",
    "\n",
    "# Plotting decision regions\n",
    "x_min, x_max = X[:, 0].min() - 1, X[:, 0].max() + 1\n",
    "y_min, y_max = X[:, 1].min() - 1, X[:, 1].max() + 1\n",
    "xx, yy = np.meshgrid(np.arange(x_min, x_max, 0.1),\n",
    "                     np.arange(y_min, y_max, 0.1))\n",
    "\n",
    "f, axarr = plt.subplots(2, 2, sharex='col', sharey='row', figsize=(10, 8))\n",
    "\n",
    "for idx, clf, tt in zip(product([0, 1], [0, 1]),\n",
    "                        [clf1, clf2, clf3, eclf],\n",
    "                        ['Decision Tree (depth=4)', 'KNN (k=7)',\n",
    "                         'Kernel SVM', 'Soft Voting']):\n",
    "\n",
    "    Z = clf.predict(np.c_[xx.ravel(), yy.ravel()])\n",
    "    Z = Z.reshape(xx.shape)\n",
    "\n",
    "    axarr[idx[0], idx[1]].contourf(xx, yy, Z, alpha=0.4)\n",
    "    axarr[idx[0], idx[1]].scatter(X[:, 0], X[:, 1], c=y,\n",
    "                                  s=20, edgecolor='k')\n",
    "    axarr[idx[0], idx[1]].set_title(tt)\n",
    "\n",
    "plt.show()"
   ]
  },
  {
   "cell_type": "code",
   "execution_count": null,
   "metadata": {
    "collapsed": true
   },
   "outputs": [],
   "source": []
  }
 ],
 "metadata": {
  "celltoolbar": "Slideshow",
  "kernelspec": {
   "display_name": "Python 3",
   "language": "python",
   "name": "python3"
  },
  "language_info": {
   "codemirror_mode": {
    "name": "ipython",
    "version": 3
   },
   "file_extension": ".py",
   "mimetype": "text/x-python",
   "name": "python",
   "nbconvert_exporter": "python",
   "pygments_lexer": "ipython3",
   "version": "3.6.2"
  }
 },
 "nbformat": 4,
 "nbformat_minor": 1
}
