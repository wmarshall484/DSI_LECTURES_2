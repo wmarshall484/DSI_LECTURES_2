{
 "cells": [
  {
   "cell_type": "markdown",
   "metadata": {},
   "source": [
    "# Dictionaries, Sets, and Their Friends\n",
    "\n",
    "## Morning Objectives:\n",
    "\n",
    " * Create and leverage methods of dictionaries and sets\n",
    " * Explain the advantages of dictionaries and sets\n",
    " * Motivate the use of `defaultdict` and `Counter`"
   ]
  },
  {
   "cell_type": "markdown",
   "metadata": {},
   "source": [
    "## 1. Dictionaries\n",
    "\n",
    "Dictionaries are key-value pairs. They are useful throughout python as a simple table or data structure.\n",
    "\n",
    "### 1.1. Dictionary initialization\n",
    "For example, here's a dictionary:"
   ]
  },
  {
   "cell_type": "code",
   "execution_count": 147,
   "metadata": {
    "collapsed": true
   },
   "outputs": [],
   "source": [
    "prices = {}\n",
    "prices['banana'] = 1\n",
    "prices['steak'] = 10\n",
    "prices['ice cream'] = 5"
   ]
  },
  {
   "cell_type": "markdown",
   "metadata": {},
   "source": [
    "Now my dictionary will look like this:"
   ]
  },
  {
   "cell_type": "code",
   "execution_count": 148,
   "metadata": {},
   "outputs": [
    {
     "data": {
      "text/plain": [
       "{'banana': 1, 'ice cream': 5, 'steak': 10}"
      ]
     },
     "execution_count": 148,
     "metadata": {},
     "output_type": "execute_result"
    }
   ],
   "source": [
    "prices"
   ]
  },
  {
   "cell_type": "markdown",
   "metadata": {},
   "source": [
    "We can also define a dictionary using `{key : value}` syntax:"
   ]
  },
  {
   "cell_type": "code",
   "execution_count": 149,
   "metadata": {
    "collapsed": true
   },
   "outputs": [],
   "source": [
    "prices_v2 = {'steak': 10, 'banana': 1, 'ice cream': 5}"
   ]
  },
  {
   "cell_type": "markdown",
   "metadata": {},
   "source": [
    "We can also use the `dict` builtin function, which takes a list of tuples as the key:value pairs."
   ]
  },
  {
   "cell_type": "code",
   "execution_count": 150,
   "metadata": {
    "collapsed": true
   },
   "outputs": [],
   "source": [
    "prices_v3 = dict([('steak', 10), ('banana', 1), ('ice cream', 5)])"
   ]
  },
  {
   "cell_type": "markdown",
   "metadata": {},
   "source": [
    "The result is the same either way:"
   ]
  },
  {
   "cell_type": "code",
   "execution_count": 151,
   "metadata": {},
   "outputs": [
    {
     "data": {
      "text/plain": [
       "True"
      ]
     },
     "execution_count": 151,
     "metadata": {},
     "output_type": "execute_result"
    }
   ],
   "source": [
    "prices == prices_v2 == prices_v3"
   ]
  },
  {
   "cell_type": "markdown",
   "metadata": {},
   "source": [
    "***Notes:***\n",
    "* Dictionaries are unordered! The key, value pairs will not come back to you in the same order you put them in. They could even change order each time you print your dictionary.\n",
    "* Dictionary keys can be of any *immutable* type.\n",
    "* Dictionary keys and values are not type checked."
   ]
  },
  {
   "cell_type": "markdown",
   "metadata": {},
   "source": [
    "### 1.2. Dictionary methods\n",
    "\n",
    "Dictionaries have many methods; some of the most common are\n",
    "* `keys`\n",
    "* `values`\n",
    "* `items`\n",
    "* `get`\n",
    "\n",
    "You can investigate them from a notebook by typing `dict.` and then the tab key. Doing `dict.has_key?` will give you information about the method."
   ]
  },
  {
   "cell_type": "code",
   "execution_count": 152,
   "metadata": {},
   "outputs": [
    {
     "name": "stdout",
     "output_type": "stream",
     "text": [
      "dict_keys(['banana', 'steak', 'ice cream'])\n",
      "dict_values([1, 10, 5])\n",
      "dict_items([('banana', 1), ('steak', 10), ('ice cream', 5)])\n"
     ]
    }
   ],
   "source": [
    "print(prices.keys())\n",
    "print(prices.values())\n",
    "print(prices.items())"
   ]
  },
  {
   "cell_type": "markdown",
   "metadata": {},
   "source": [
    "We can use the keys and values to do all sorts of things, for example:"
   ]
  },
  {
   "cell_type": "code",
   "execution_count": 153,
   "metadata": {},
   "outputs": [
    {
     "data": {
      "text/plain": [
       "{1: 'banana', 5: 'ice cream'}"
      ]
     },
     "execution_count": 153,
     "metadata": {},
     "output_type": "execute_result"
    }
   ],
   "source": [
    "prices.update({'steak': 5})\n",
    "{v: k for k, v in prices.items()}"
   ]
  },
  {
   "cell_type": "code",
   "execution_count": 154,
   "metadata": {},
   "outputs": [
    {
     "data": {
      "text/plain": [
       "True"
      ]
     },
     "execution_count": 154,
     "metadata": {},
     "output_type": "execute_result"
    }
   ],
   "source": [
    "reconstruction_1 = dict([(key, value) for key, value in zip(prices.keys(), prices.values())])\n",
    "reconstruction_2 = {key: value for key, value in prices.items()}\n",
    "prices == reconstruction_1 == reconstruction_2"
   ]
  },
  {
   "cell_type": "markdown",
   "metadata": {},
   "source": [
    "Notice our usage of dictionary comprehensions above. More on this soon..."
   ]
  },
  {
   "cell_type": "code",
   "execution_count": 155,
   "metadata": {},
   "outputs": [
    {
     "data": {
      "text/plain": [
       "{2: 4, 4: 16, 6: 36}"
      ]
     },
     "execution_count": 155,
     "metadata": {},
     "output_type": "execute_result"
    }
   ],
   "source": [
    "# dictionary comprehensions!\n",
    "{x: x**2 for x in (2, 4, 6)}"
   ]
  },
  {
   "cell_type": "markdown",
   "metadata": {},
   "source": [
    "But what happens if we index into a dictionary looking for a key that does not exist?"
   ]
  },
  {
   "cell_type": "code",
   "execution_count": 156,
   "metadata": {},
   "outputs": [
    {
     "name": "stdout",
     "output_type": "stream",
     "text": [
      "KeyError\n"
     ]
    }
   ],
   "source": [
    "try:\n",
    "    prices['mangos']\n",
    "except KeyError:\n",
    "    print('KeyError')"
   ]
  },
  {
   "cell_type": "markdown",
   "metadata": {},
   "source": [
    "`dict.get()` to the rescue! It returns `None`, rather than raising a `KeyError` exception."
   ]
  },
  {
   "cell_type": "code",
   "execution_count": 158,
   "metadata": {},
   "outputs": [
    {
     "data": {
      "text/plain": [
       "NoneType"
      ]
     },
     "execution_count": 158,
     "metadata": {},
     "output_type": "execute_result"
    }
   ],
   "source": [
    "return_value = prices.get('mangos')\n",
    "type(return_value)"
   ]
  },
  {
   "cell_type": "code",
   "execution_count": 159,
   "metadata": {},
   "outputs": [
    {
     "data": {
      "text/plain": [
       "\"sorry, we're out of mangos\""
      ]
     },
     "execution_count": 159,
     "metadata": {},
     "output_type": "execute_result"
    }
   ],
   "source": [
    "prices.get(\"mangos\", \"sorry, we're out of mangos\")"
   ]
  },
  {
   "cell_type": "markdown",
   "metadata": {},
   "source": [
    "We can add mangos to our dictionary of prices with `dict.update`. You can also use this method to update the value of an existing key."
   ]
  },
  {
   "cell_type": "code",
   "execution_count": 175,
   "metadata": {},
   "outputs": [
    {
     "data": {
      "text/plain": [
       "{'banana': 1, 'ice cream': 5, 'mangos': 6, 'steak': 18}"
      ]
     },
     "execution_count": 175,
     "metadata": {},
     "output_type": "execute_result"
    }
   ],
   "source": [
    "prices.update({'mangos': 6})\n",
    "prices.update({'steak': 18})\n",
    "prices"
   ]
  },
  {
   "cell_type": "code",
   "execution_count": 178,
   "metadata": {},
   "outputs": [
    {
     "data": {
      "text/plain": [
       "['__class__',\n",
       " '__contains__',\n",
       " '__delattr__',\n",
       " '__delitem__',\n",
       " '__dir__',\n",
       " '__doc__',\n",
       " '__eq__',\n",
       " '__format__',\n",
       " '__ge__',\n",
       " '__getattribute__',\n",
       " '__getitem__',\n",
       " '__gt__',\n",
       " '__hash__',\n",
       " '__init__',\n",
       " '__init_subclass__',\n",
       " '__iter__',\n",
       " '__le__',\n",
       " '__len__',\n",
       " '__lt__',\n",
       " '__ne__',\n",
       " '__new__',\n",
       " '__reduce__',\n",
       " '__reduce_ex__',\n",
       " '__repr__',\n",
       " '__setattr__',\n",
       " '__setitem__',\n",
       " '__sizeof__',\n",
       " '__str__',\n",
       " '__subclasshook__',\n",
       " 'clear',\n",
       " 'copy',\n",
       " 'fromkeys',\n",
       " 'get',\n",
       " 'items',\n",
       " 'keys',\n",
       " 'pop',\n",
       " 'popitem',\n",
       " 'setdefault',\n",
       " 'update',\n",
       " 'values']"
      ]
     },
     "execution_count": 178,
     "metadata": {},
     "output_type": "execute_result"
    }
   ],
   "source": [
    "# prices.pop('mangos')\n",
    "dir(prices)"
   ]
  },
  {
   "cell_type": "code",
   "execution_count": 174,
   "metadata": {},
   "outputs": [
    {
     "data": {
      "text/plain": [
       "18"
      ]
     },
     "execution_count": 174,
     "metadata": {},
     "output_type": "execute_result"
    }
   ],
   "source": [
    "# list(prices.keys())[0]\n",
    "prices['steak']"
   ]
  },
  {
   "cell_type": "markdown",
   "metadata": {},
   "source": [
    "**EXCERCISE** create a dictionary of favorite movies, including everyone sitting at your table."
   ]
  },
  {
   "cell_type": "markdown",
   "metadata": {},
   "source": [
    "## 2. Sets\n",
    "\n",
    "You can think of sets as mathematical sets. You can also think of them as value-less dictionaries.\n",
    "\n",
    "### 2.1. Set initialization\n",
    "\n",
    "Sets can be created in the same ways as dictionaries, either from the `set` builtin or with `{}`."
   ]
  },
  {
   "cell_type": "code",
   "execution_count": 63,
   "metadata": {},
   "outputs": [
    {
     "data": {
      "text/plain": [
       "{'carrots', 'figs', 'popcorn'}"
      ]
     },
     "execution_count": 63,
     "metadata": {},
     "output_type": "execute_result"
    }
   ],
   "source": [
    "groceries = set(['carrots', 'figs', 'popcorn'])\n",
    "groceries"
   ]
  },
  {
   "cell_type": "markdown",
   "metadata": {},
   "source": [
    "or"
   ]
  },
  {
   "cell_type": "code",
   "execution_count": 64,
   "metadata": {
    "collapsed": true
   },
   "outputs": [],
   "source": [
    "groceries = {'carrots', 'figs', 'popcorn'}"
   ]
  },
  {
   "cell_type": "markdown",
   "metadata": {},
   "source": [
    "or"
   ]
  },
  {
   "cell_type": "code",
   "execution_count": 65,
   "metadata": {
    "collapsed": true
   },
   "outputs": [],
   "source": [
    "groceries = set()\n",
    "groceries.add('carrots')\n",
    "groceries.add('figs')\n",
    "groceries.add('popcorn')"
   ]
  },
  {
   "cell_type": "markdown",
   "metadata": {},
   "source": [
    "### 2.2. Set methods\n",
    "\n",
    "Some common set methods are\n",
    " * `add`\n",
    " * `union`\n",
    " * `intersection`\n",
    " * `difference`\n",
    " * `update`\n",
    " * `issubset`\n",
    " * `issuperset`\n",
    " * `copy`"
   ]
  },
  {
   "cell_type": "code",
   "execution_count": 190,
   "metadata": {
    "collapsed": true
   },
   "outputs": [],
   "source": [
    "whole_foods = {'kale', 'squash' ,'kombucha', 'granola'}\n",
    "safeway = {'lettuce', 'carrot', 'seltzer', 'granola'}\n",
    "bodega = {'lettuce', 'seltzer'}"
   ]
  },
  {
   "cell_type": "code",
   "execution_count": 191,
   "metadata": {},
   "outputs": [
    {
     "data": {
      "text/plain": [
       "{'carrot', 'granola', 'kale', 'kombucha', 'lettuce', 'seltzer', 'squash'}"
      ]
     },
     "execution_count": 191,
     "metadata": {},
     "output_type": "execute_result"
    }
   ],
   "source": [
    "whole_foods.union(safeway)"
   ]
  },
  {
   "cell_type": "code",
   "execution_count": 192,
   "metadata": {},
   "outputs": [
    {
     "data": {
      "text/plain": [
       "{'granola'}"
      ]
     },
     "execution_count": 192,
     "metadata": {},
     "output_type": "execute_result"
    }
   ],
   "source": [
    "whole_foods.intersection(safeway)"
   ]
  },
  {
   "cell_type": "code",
   "execution_count": 193,
   "metadata": {},
   "outputs": [
    {
     "data": {
      "text/plain": [
       "False"
      ]
     },
     "execution_count": 193,
     "metadata": {},
     "output_type": "execute_result"
    }
   ],
   "source": [
    "whole_foods.isdisjoint(safeway)"
   ]
  },
  {
   "cell_type": "code",
   "execution_count": 194,
   "metadata": {},
   "outputs": [
    {
     "data": {
      "text/plain": [
       "True"
      ]
     },
     "execution_count": 194,
     "metadata": {},
     "output_type": "execute_result"
    }
   ],
   "source": [
    "whole_foods.remove('granola')\n",
    "whole_foods.add('hippy granola')\n",
    "whole_foods.isdisjoint(safeway)"
   ]
  },
  {
   "cell_type": "code",
   "execution_count": 196,
   "metadata": {},
   "outputs": [
    {
     "data": {
      "text/plain": [
       "{'hippy granola', 'kale', 'kombucha', 'rice', 'squash'}"
      ]
     },
     "execution_count": 196,
     "metadata": {},
     "output_type": "execute_result"
    }
   ],
   "source": [
    "whole_foods.update(['rice'])\n",
    "whole_foods"
   ]
  },
  {
   "cell_type": "code",
   "execution_count": 186,
   "metadata": {},
   "outputs": [
    {
     "data": {
      "text/plain": [
       "True"
      ]
     },
     "execution_count": 186,
     "metadata": {},
     "output_type": "execute_result"
    }
   ],
   "source": [
    "safeway.issuperset(bodega)\n",
    "bodega.issubset(safeway)"
   ]
  },
  {
   "cell_type": "markdown",
   "metadata": {},
   "source": [
    "## 3. Comprehensions"
   ]
  },
  {
   "cell_type": "markdown",
   "metadata": {},
   "source": [
    "Note the parallels between some of the types we've learned:\n",
    "\n",
    "| type     | builtin        |         | comprehension |\n",
    "|----------|----------------|---------|---------|\n",
    "| `str`    | `str(1.0)`     | `'1.0'` | |\n",
    "| `tuple`  | `tuple('abc')` | `('a','b','c')` | `(x for x in 'abc')` |\n",
    "| `list`   | `list('abc')`  | `['a','b','c']` | `[x for x in 'abc']` |\n",
    "| `set`    | `set('abc')`   | `{'a','b','c'}` | `{x for x in 'abc'}` |\n",
    "| `dict`   | `dict([('a',1),('b',2)])`   | `{'a':1,'b':2}` | `{x:i for i,x in enumerate('ab')}`|"
   ]
  },
  {
   "cell_type": "code",
   "execution_count": 232,
   "metadata": {
    "collapsed": true
   },
   "outputs": [],
   "source": [
    "abc_tuple = (x for x in 'abc')\n",
    "abc_list = [x for x in 'abc']\n",
    "abc_set = {x for x in 'abc'}"
   ]
  },
  {
   "cell_type": "code",
   "execution_count": 233,
   "metadata": {},
   "outputs": [
    {
     "name": "stdout",
     "output_type": "stream",
     "text": [
      "<class 'tuple'>\n",
      "<class 'list'>\n",
      "<class 'set'>\n"
     ]
    }
   ],
   "source": [
    "print(type(abc_tuple))\n",
    "print(type(abc_list))\n",
    "print(type(abc_set))"
   ]
  },
  {
   "cell_type": "markdown",
   "metadata": {},
   "source": [
    "## 3.1 An aside about generators"
   ]
  },
  {
   "cell_type": "markdown",
   "metadata": {},
   "source": [
    "In python 3, the tuple comprehension creates a generator, not an actual tuple (yet)!"
   ]
  },
  {
   "cell_type": "code",
   "execution_count": 230,
   "metadata": {},
   "outputs": [],
   "source": [
    "# next(abc_tuple)"
   ]
  },
  {
   "cell_type": "markdown",
   "metadata": {},
   "source": [
    "You can also convert a the current state of a generator to its aspirational object by calling a method on it."
   ]
  },
  {
   "cell_type": "code",
   "execution_count": 231,
   "metadata": {},
   "outputs": [
    {
     "name": "stdout",
     "output_type": "stream",
     "text": [
      "('a', 'b', 'c')\n"
     ]
    }
   ],
   "source": [
    "print(tuple(abc_tuple))"
   ]
  },
  {
   "cell_type": "code",
   "execution_count": 211,
   "metadata": {},
   "outputs": [
    {
     "data": {
      "text/plain": [
       "('b', 'c')"
      ]
     },
     "execution_count": 211,
     "metadata": {},
     "output_type": "execute_result"
    }
   ],
   "source": [
    "tuple(abc_tuple)"
   ]
  },
  {
   "cell_type": "code",
   "execution_count": 212,
   "metadata": {
    "collapsed": true
   },
   "outputs": [],
   "source": [
    "def thankyou_for_calling(name):\n",
    "    while True:\n",
    "        yield print(\"Thank you for calling, {}.\".format(name))\n",
    "        yield print(\"{}, your call is very important to us.\".format(name))\n",
    "        yield print(\"{} -- don't worry -- a customer care representative will be with you shortly\".format(name))"
   ]
  },
  {
   "cell_type": "code",
   "execution_count": 213,
   "metadata": {
    "collapsed": true
   },
   "outputs": [],
   "source": [
    "response = thankyou_for_calling('Elliot')"
   ]
  },
  {
   "cell_type": "code",
   "execution_count": 221,
   "metadata": {},
   "outputs": [
    {
     "name": "stdout",
     "output_type": "stream",
     "text": [
      "Elliot, your call is very important to us.\n"
     ]
    }
   ],
   "source": [
    "next(response)"
   ]
  },
  {
   "cell_type": "markdown",
   "metadata": {},
   "source": [
    "## 3.2 Back to comprehensions"
   ]
  },
  {
   "cell_type": "markdown",
   "metadata": {
    "collapsed": true
   },
   "source": [
    "Comprehensions are wonderfully useful for compact iteration."
   ]
  },
  {
   "cell_type": "code",
   "execution_count": 222,
   "metadata": {},
   "outputs": [
    {
     "data": {
      "text/plain": [
       "[1, 4, 9, 16, 25]"
      ]
     },
     "execution_count": 222,
     "metadata": {},
     "output_type": "execute_result"
    }
   ],
   "source": [
    "def square(x): return x*x\n",
    "\n",
    "[square(val) for val in [1,2,3,4,5]]"
   ]
  },
  {
   "cell_type": "markdown",
   "metadata": {},
   "source": [
    "## 3. `dict` and `set` are REALLY FAST!\n",
    "\n",
    "These datatypes can be really convenient, but they are also super fast.\n",
    "\n",
    "Say I stored all my data in a list. If I wanted to find out if something were in there, I would have to check each element one by one. However, if I know the index, it's really fast to look up the item. We can get this same functionality in dictionaries and sets by using a *hash function* to map key values to integers that we'll use as indices, so the amount of time to find an item is independet of the size of the dictionary or set.\n",
    "\n",
    "\n",
    "## 4. `defaultdict` and `Counter`\n",
    "\n",
    "The python standard library contains a huge number of additional types. Two common ones based on dictionaries are `defaultdict` and `Counter`. To motivate them let's look at an example.\n",
    "\n",
    "### 4.1. `defaultdict` example\n",
    "\n",
    "Say I want to know all the indicies where an item appears in a list. Consider the following list:"
   ]
  },
  {
   "cell_type": "code",
   "execution_count": 234,
   "metadata": {
    "collapsed": true
   },
   "outputs": [],
   "source": [
    "alphabet_soup = ['a','b','b','b','c','c','a','a']"
   ]
  },
  {
   "cell_type": "markdown",
   "metadata": {},
   "source": [
    "Here's how we could do it using a standard dictionary:"
   ]
  },
  {
   "cell_type": "code",
   "execution_count": 235,
   "metadata": {
    "collapsed": true
   },
   "outputs": [],
   "source": [
    "def item_indices(lst):\n",
    "    '''\n",
    "    INPUT: list\n",
    "    OUTPUT: dict\n",
    "\n",
    "    Return a dictionary whose keys are the items in the list and associated\n",
    "    value is a list of all the indices where that key appears.\n",
    "    '''\n",
    "    d = {}\n",
    "    for i, item in enumerate(lst):\n",
    "        if item in d:\n",
    "            d[item].append(i)\n",
    "        else:\n",
    "            d[item] = [i]\n",
    "    return d"
   ]
  },
  {
   "cell_type": "markdown",
   "metadata": {},
   "source": [
    "Here's the results of running this function on an example:"
   ]
  },
  {
   "cell_type": "code",
   "execution_count": 236,
   "metadata": {},
   "outputs": [
    {
     "data": {
      "text/plain": [
       "{'a': [0, 6, 7], 'b': [1, 2, 3], 'c': [4, 5]}"
      ]
     },
     "execution_count": 236,
     "metadata": {},
     "output_type": "execute_result"
    }
   ],
   "source": [
    "item_indices(alphabet_soup)"
   ]
  },
  {
   "cell_type": "markdown",
   "metadata": {},
   "source": [
    "Note that I have to do something different if it's the first time I see a new item. This is a really common situation to be in. Instead of an `if` block, you can use `defaultDict`."
   ]
  },
  {
   "cell_type": "markdown",
   "metadata": {},
   "source": [
    "In a `defaultdict`, if we try to access a key we've never seen before, there is a default value that it gets. We just need to tell it what our default is.\n",
    "\n",
    "We will need to import it first:"
   ]
  },
  {
   "cell_type": "code",
   "execution_count": 122,
   "metadata": {
    "collapsed": true
   },
   "outputs": [],
   "source": [
    "from collections import defaultdict"
   ]
  },
  {
   "cell_type": "code",
   "execution_count": 237,
   "metadata": {
    "collapsed": true
   },
   "outputs": [],
   "source": [
    "def item_indices2(lst):\n",
    "    d = defaultdict(list)\n",
    "    for i, item in enumerate(lst):\n",
    "        d[item].append(i)\n",
    "    return d"
   ]
  },
  {
   "cell_type": "code",
   "execution_count": 238,
   "metadata": {},
   "outputs": [
    {
     "data": {
      "text/plain": [
       "defaultdict(list, {'a': [0, 6, 7], 'b': [1, 2, 3], 'c': [4, 5]})"
      ]
     },
     "execution_count": 238,
     "metadata": {},
     "output_type": "execute_result"
    }
   ],
   "source": [
    "item_indices2(alphabet_soup)"
   ]
  },
  {
   "cell_type": "code",
   "execution_count": 239,
   "metadata": {},
   "outputs": [
    {
     "data": {
      "text/plain": [
       "True"
      ]
     },
     "execution_count": 239,
     "metadata": {},
     "output_type": "execute_result"
    }
   ],
   "source": [
    "item_indices2(alphabet_soup) == item_indices(alphabet_soup)"
   ]
  },
  {
   "cell_type": "markdown",
   "metadata": {},
   "source": [
    "Ahhh... that's so much nicer :)\n",
    "\n",
    "### 4.2. Counter example\n",
    "\n",
    "A very common default value is an integer. So Python has a special type of defaultdict just for that. Suppose we want to count the occurences of each element in a list. Consider the following (very long) list:"
   ]
  },
  {
   "cell_type": "code",
   "execution_count": 240,
   "metadata": {},
   "outputs": [
    {
     "data": {
      "text/plain": [
       "'hplgdunkgwplnedxueffdatsqonjokoadbjwxpjnsfgqzrwrrbmmujrtjbckipynmjnjctxvaklmcacwuzoxbldgelbbnxpxjqzv'"
      ]
     },
     "execution_count": 240,
     "metadata": {},
     "output_type": "execute_result"
    }
   ],
   "source": [
    "import string\n",
    "import random\n",
    "\n",
    "N = 10**6\n",
    "alphabet_soup = \"\".join(random.choice(string.ascii_lowercase) for i in range(N))\n",
    "alphabet_soup[:100]"
   ]
  },
  {
   "cell_type": "code",
   "execution_count": 127,
   "metadata": {},
   "outputs": [
    {
     "name": "stdout",
     "output_type": "stream",
     "text": [
      "The expected number of times each letter will appearis N/26 = 38461\n"
     ]
    }
   ],
   "source": [
    "note = \"The expected number of times each letter will appear\\\n",
    "is N/26 = {}\".format(N//26)\n",
    "print(note)"
   ]
  },
  {
   "cell_type": "markdown",
   "metadata": {},
   "source": [
    "Here's what we would need to do with a standard dictionary:"
   ]
  },
  {
   "cell_type": "code",
   "execution_count": 128,
   "metadata": {
    "collapsed": true
   },
   "outputs": [],
   "source": [
    "def count_with_if_block(lst):\n",
    "    '''\n",
    "    INPUT: list\n",
    "    OUTPUT: dict\n",
    "\n",
    "    Return a dictionary whose keys are the items in the list and \n",
    "    value is the count of the number of times that item occurred in the list.\n",
    "    '''\n",
    "    d = {}\n",
    "    for i, item in enumerate(lst):\n",
    "        if item in d:\n",
    "            d[item] += 1\n",
    "        else:\n",
    "            d[item] = 1\n",
    "    return d"
   ]
  },
  {
   "cell_type": "code",
   "execution_count": 129,
   "metadata": {},
   "outputs": [
    {
     "data": {
      "text/plain": [
       "{'a': 38586,\n",
       " 'b': 38381,\n",
       " 'c': 38215,\n",
       " 'd': 38501,\n",
       " 'e': 38097,\n",
       " 'f': 38453,\n",
       " 'g': 38637,\n",
       " 'h': 38232,\n",
       " 'i': 38340,\n",
       " 'j': 38318,\n",
       " 'k': 38830,\n",
       " 'l': 38589,\n",
       " 'm': 38504,\n",
       " 'n': 38568,\n",
       " 'o': 38239,\n",
       " 'p': 38257,\n",
       " 'q': 38653,\n",
       " 'r': 38335,\n",
       " 's': 38072,\n",
       " 't': 38404,\n",
       " 'u': 38819,\n",
       " 'v': 38495,\n",
       " 'w': 38452,\n",
       " 'x': 38456,\n",
       " 'y': 38653,\n",
       " 'z': 38914}"
      ]
     },
     "execution_count": 129,
     "metadata": {},
     "output_type": "execute_result"
    }
   ],
   "source": [
    "count_with_if_block(alphabet_soup)"
   ]
  },
  {
   "cell_type": "code",
   "execution_count": 249,
   "metadata": {},
   "outputs": [
    {
     "data": {
      "text/plain": [
       "'vanilla'"
      ]
     },
     "execution_count": 249,
     "metadata": {},
     "output_type": "execute_result"
    }
   ],
   "source": [
    "ice_cream = defaultdict(lambda: 'vanilla')\n",
    "ice_cream['Elliot']"
   ]
  },
  {
   "cell_type": "code",
   "execution_count": 130,
   "metadata": {},
   "outputs": [
    {
     "data": {
      "text/plain": [
       "defaultdict(int,\n",
       "            {'a': 38586,\n",
       "             'b': 38381,\n",
       "             'c': 38215,\n",
       "             'd': 38501,\n",
       "             'e': 38097,\n",
       "             'f': 38453,\n",
       "             'g': 38637,\n",
       "             'h': 38232,\n",
       "             'i': 38340,\n",
       "             'j': 38318,\n",
       "             'k': 38830,\n",
       "             'l': 38589,\n",
       "             'm': 38504,\n",
       "             'n': 38568,\n",
       "             'o': 38239,\n",
       "             'p': 38257,\n",
       "             'q': 38653,\n",
       "             'r': 38335,\n",
       "             's': 38072,\n",
       "             't': 38404,\n",
       "             'u': 38819,\n",
       "             'v': 38495,\n",
       "             'w': 38452,\n",
       "             'x': 38456,\n",
       "             'y': 38653,\n",
       "             'z': 38914})"
      ]
     },
     "execution_count": 130,
     "metadata": {},
     "output_type": "execute_result"
    }
   ],
   "source": [
    "def count_with_defualt_dict(lst):\n",
    "    d = defaultdict(int)\n",
    "    for i, item in enumerate(lst):\n",
    "        d[item] += 1\n",
    "    return d\n",
    "\n",
    "count_with_defualt_dict(alphabet_soup)"
   ]
  },
  {
   "cell_type": "markdown",
   "metadata": {},
   "source": [
    "Counters are even faster! We can do the following:"
   ]
  },
  {
   "cell_type": "code",
   "execution_count": 131,
   "metadata": {},
   "outputs": [
    {
     "data": {
      "text/plain": [
       "Counter({'a': 38586,\n",
       "         'b': 38381,\n",
       "         'c': 38215,\n",
       "         'd': 38501,\n",
       "         'e': 38097,\n",
       "         'f': 38453,\n",
       "         'g': 38637,\n",
       "         'h': 38232,\n",
       "         'i': 38340,\n",
       "         'j': 38318,\n",
       "         'k': 38830,\n",
       "         'l': 38589,\n",
       "         'm': 38504,\n",
       "         'n': 38568,\n",
       "         'o': 38239,\n",
       "         'p': 38257,\n",
       "         'q': 38653,\n",
       "         'r': 38335,\n",
       "         's': 38072,\n",
       "         't': 38404,\n",
       "         'u': 38819,\n",
       "         'v': 38495,\n",
       "         'w': 38452,\n",
       "         'x': 38456,\n",
       "         'y': 38653,\n",
       "         'z': 38914})"
      ]
     },
     "execution_count": 131,
     "metadata": {},
     "output_type": "execute_result"
    }
   ],
   "source": [
    "from collections import Counter\n",
    "Counter(alphabet_soup)"
   ]
  },
  {
   "cell_type": "code",
   "execution_count": 250,
   "metadata": {},
   "outputs": [
    {
     "name": "stdout",
     "output_type": "stream",
     "text": [
      "178 ms ± 1.69 ms per loop (mean ± std. dev. of 7 runs, 10 loops each)\n"
     ]
    }
   ],
   "source": [
    "%%timeit\n",
    "count_with_if_block(alphabet_soup)"
   ]
  },
  {
   "cell_type": "code",
   "execution_count": 251,
   "metadata": {},
   "outputs": [
    {
     "name": "stdout",
     "output_type": "stream",
     "text": [
      "149 ms ± 2.4 ms per loop (mean ± std. dev. of 7 runs, 10 loops each)\n"
     ]
    }
   ],
   "source": [
    "%%timeit\n",
    "count_with_defualt_dict(alphabet_soup)"
   ]
  },
  {
   "cell_type": "code",
   "execution_count": 252,
   "metadata": {},
   "outputs": [
    {
     "name": "stdout",
     "output_type": "stream",
     "text": [
      "62.5 ms ± 424 µs per loop (mean ± std. dev. of 7 runs, 10 loops each)\n"
     ]
    }
   ],
   "source": [
    "%%timeit\n",
    "Counter(alphabet_soup)"
   ]
  },
  {
   "cell_type": "markdown",
   "metadata": {},
   "source": [
    "Counters are like defaultdicts, but they also have a special method called `most_common` that finds the element(s) with the highest value.\n",
    "\n",
    "## 5. Performance example\n",
    "\n",
    "Let's take another look at one of the examples we did yesterday, the divisors problem. First, yesterday's code:"
   ]
  },
  {
   "cell_type": "code",
   "execution_count": 135,
   "metadata": {
    "collapsed": true
   },
   "outputs": [],
   "source": [
    "def get_divisors(numbers, divisors):\n",
    "    '''\n",
    "    INPUT: list of ints, list of ints\n",
    "    OUTPUT: list of ints\n",
    "\n",
    "    Return a list of the values from the second list that are proper divisors\n",
    "    of elements in the first list.\n",
    "    '''\n",
    "    result = []\n",
    "    for d in divisors:\n",
    "        for n in numbers:\n",
    "            if n % d == 0:\n",
    "                result.append(d)\n",
    "                break\n",
    "    return result"
   ]
  },
  {
   "cell_type": "markdown",
   "metadata": {},
   "source": [
    "We can improve on it using a set."
   ]
  },
  {
   "cell_type": "code",
   "execution_count": 136,
   "metadata": {
    "collapsed": true
   },
   "outputs": [],
   "source": [
    "from math import sqrt\n",
    "\n",
    "def _all_divisors(num):\n",
    "    '''\n",
    "    INPUT: int\n",
    "    OUTPUT: list of ints\n",
    "\n",
    "    Given an integer, return a list of all the divisors of that number.\n",
    "    '''\n",
    "    result = [num]\n",
    "    for i in range(1, int(sqrt(num)) + 1):\n",
    "        if num % i == 0:\n",
    "            result.append(i)\n",
    "            result.append(num / i)\n",
    "    return result\n",
    "\n",
    "def get_divisors_v2(numbers, divisors):\n",
    "    '''\n",
    "    INPUT: list of ints, list of ints\n",
    "    OUTPUT: list of ints\n",
    "\n",
    "    Return a list of the values from the second list that are proper divisors\n",
    "    of elements in the first list.\n",
    "    '''\n",
    "    s = set()\n",
    "    for num in numbers:\n",
    "        s.update(_all_divisors(num))\n",
    "    return [divisor for divisor in divisors if divisor in s]"
   ]
  },
  {
   "cell_type": "markdown",
   "metadata": {},
   "source": [
    "Let's use `ipython`'s magic method `%time` to see what the improvement is.\n",
    "\n",
    "First we create two large lists:"
   ]
  },
  {
   "cell_type": "code",
   "execution_count": 137,
   "metadata": {
    "collapsed": true
   },
   "outputs": [],
   "source": [
    "numbers = random.sample(range(1000000), 10000)\n",
    "divisors = random.sample(range(1000000), 10000)"
   ]
  },
  {
   "cell_type": "markdown",
   "metadata": {},
   "source": [
    "Here's how we can time running it in `ipython`:"
   ]
  },
  {
   "cell_type": "code",
   "execution_count": 138,
   "metadata": {},
   "outputs": [
    {
     "name": "stdout",
     "output_type": "stream",
     "text": [
      "CPU times: user 6.57 s, sys: 5.67 ms, total: 6.57 s\n",
      "Wall time: 6.58 s\n",
      "CPU times: user 519 ms, sys: 1.16 ms, total: 520 ms\n",
      "Wall time: 520 ms\n"
     ]
    }
   ],
   "source": [
    "%time result = get_divisors(numbers, divisors)\n",
    "%time result2 = get_divisors_v2(numbers, divisors)"
   ]
  },
  {
   "cell_type": "code",
   "execution_count": 139,
   "metadata": {},
   "outputs": [
    {
     "data": {
      "text/plain": [
       "True"
      ]
     },
     "execution_count": 139,
     "metadata": {},
     "output_type": "execute_result"
    }
   ],
   "source": [
    "result == result2"
   ]
  },
  {
   "cell_type": "markdown",
   "metadata": {},
   "source": [
    "These are the times I got:\n",
    "\n",
    "| Version | Time     |\n",
    "| ------- | -------- |\n",
    "| old     | 7.32 sec |\n",
    "| new     | 0.61 sec |\n",
    "\n",
    "If instead I wanted only the divisors which divide at least 2 values, this would be a good place for a `Counter`."
   ]
  },
  {
   "cell_type": "code",
   "execution_count": 140,
   "metadata": {},
   "outputs": [
    {
     "data": {
      "text/plain": [
       "[1, 5, 9, 15]"
      ]
     },
     "execution_count": 140,
     "metadata": {},
     "output_type": "execute_result"
    }
   ],
   "source": [
    "get_divisors_v2([225], [1, 5, 7, 9, 15])"
   ]
  },
  {
   "cell_type": "code",
   "execution_count": 143,
   "metadata": {
    "collapsed": true
   },
   "outputs": [],
   "source": [
    "from collections import Counter\n",
    "\n",
    "def top_divisors(numbers, divisors):\n",
    "    '''\n",
    "    INPUT: list of ints, list of ints\n",
    "    OUTPUT: list\n",
    "\n",
    "    Return a list of the divisors which divide at least 2 of the numbers.\n",
    "    '''\n",
    "    d = Counter()\n",
    "    for num in numbers:\n",
    "        for divisor in _all_divisors(num):\n",
    "            d[divisor] += 1\n",
    "    return [divisor for divisor in divisors if d[divisor] >= 2]\n"
   ]
  },
  {
   "cell_type": "code",
   "execution_count": 144,
   "metadata": {},
   "outputs": [
    {
     "name": "stdout",
     "output_type": "stream",
     "text": [
      "CPU times: user 620 ms, sys: 2.49 ms, total: 622 ms\n",
      "Wall time: 621 ms\n"
     ]
    }
   ],
   "source": [
    "%time result = top_divisors(numbers, divisors)"
   ]
  },
  {
   "cell_type": "code",
   "execution_count": null,
   "metadata": {
    "collapsed": true
   },
   "outputs": [],
   "source": []
  }
 ],
 "metadata": {
  "kernelspec": {
   "display_name": "Python 3",
   "language": "python",
   "name": "python3"
  },
  "language_info": {
   "codemirror_mode": {
    "name": "ipython",
    "version": 3
   },
   "file_extension": ".py",
   "mimetype": "text/x-python",
   "name": "python",
   "nbconvert_exporter": "python",
   "pygments_lexer": "ipython3",
   "version": "3.6.2"
  }
 },
 "nbformat": 4,
 "nbformat_minor": 1
}
