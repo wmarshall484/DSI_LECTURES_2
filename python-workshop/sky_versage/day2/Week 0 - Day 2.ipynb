{
 "cells": [
  {
   "cell_type": "code",
   "execution_count": 1,
   "metadata": {
    "collapsed": true,
    "slideshow": {
     "slide_type": "slide"
    }
   },
   "outputs": [],
   "source": [
    "from __future__ import print_function, division"
   ]
  },
  {
   "cell_type": "markdown",
   "metadata": {},
   "source": [
    "# Python Workshop\n",
    "\n",
    "This workshop will review Python fundamentals \n",
    "and prepare you for Galvanize's DSI."
   ]
  },
  {
   "cell_type": "markdown",
   "metadata": {
    "slideshow": {
     "slide_type": "slide"
    }
   },
   "source": [
    "# Topics\n",
    "\n",
    "### Day 2\n",
    "\n",
    "Morning:\n",
    "\n",
    "* sets\n",
    "* dictionaries\n",
    "* efficiency\n",
    "\n",
    "Afternoon:\n",
    "\n",
    "1. Discuss morning solutions:\n",
    "    * View student solutions & official solutions.\n",
    "    * Why such a dramatic increase in speed for each of the four functions?\n",
    "2. Prep for afternoon exercise:\n",
    "    * Understand the data.\n",
    "    * Read through the exercise text.\n",
    "    * Brainstorm the 4 functions you'll need to write."
   ]
  },
  {
   "cell_type": "markdown",
   "metadata": {
    "collapsed": true,
    "slideshow": {
     "slide_type": "slide"
    }
   },
   "source": [
    "# Sets -- same sets at mathematics (valueless dictionaries)\n",
    "\n",
    "## Set methods\n",
    "\n",
    "Some common set methods are\n",
    " * `add`\n",
    " * `union`\n",
    " * `intersection`\n",
    " * `difference`\n",
    " * `update`\n",
    " * `issubset`\n",
    " * `issuperset`\n",
    " * `copy`"
   ]
  },
  {
   "cell_type": "code",
   "execution_count": 2,
   "metadata": {
    "collapsed": true,
    "slideshow": {
     "slide_type": "slide"
    }
   },
   "outputs": [],
   "source": [
    "groceries = set()\n",
    "groceries.add('carrots')\n",
    "groceries.add('figs')\n",
    "groceries.add('popcorn')"
   ]
  },
  {
   "cell_type": "code",
   "execution_count": 3,
   "metadata": {
    "collapsed": true,
    "slideshow": {
     "slide_type": "slide"
    }
   },
   "outputs": [],
   "source": [
    "groceries2 = {'popcorn', 'carrots', 'figs'}"
   ]
  },
  {
   "cell_type": "code",
   "execution_count": 4,
   "metadata": {
    "collapsed": true
   },
   "outputs": [],
   "source": [
    "groceries3 = set(('popcorn', 'carrots', 'figs'))"
   ]
  },
  {
   "cell_type": "code",
   "execution_count": 6,
   "metadata": {},
   "outputs": [
    {
     "data": {
      "text/plain": [
       "True"
      ]
     },
     "execution_count": 6,
     "metadata": {},
     "output_type": "execute_result"
    }
   ],
   "source": [
    "groceries == groceries2 == groceries3"
   ]
  },
  {
   "cell_type": "code",
   "execution_count": 6,
   "metadata": {},
   "outputs": [
    {
     "data": {
      "text/plain": [
       "{'carrots', 'figs', 'popcorn'}"
      ]
     },
     "execution_count": 6,
     "metadata": {},
     "output_type": "execute_result"
    }
   ],
   "source": [
    "groceries"
   ]
  },
  {
   "cell_type": "code",
   "execution_count": 7,
   "metadata": {},
   "outputs": [
    {
     "data": {
      "text/plain": [
       "True"
      ]
     },
     "execution_count": 7,
     "metadata": {},
     "output_type": "execute_result"
    }
   ],
   "source": [
    "'figs' in groceries"
   ]
  },
  {
   "cell_type": "code",
   "execution_count": 9,
   "metadata": {},
   "outputs": [
    {
     "data": {
      "text/plain": [
       "False"
      ]
     },
     "execution_count": 9,
     "metadata": {},
     "output_type": "execute_result"
    }
   ],
   "source": [
    "'Skylar' in groceries"
   ]
  },
  {
   "cell_type": "code",
   "execution_count": 8,
   "metadata": {},
   "outputs": [
    {
     "name": "stdout",
     "output_type": "stream",
     "text": [
      "popcorn\n",
      "carrots\n",
      "figs\n"
     ]
    }
   ],
   "source": [
    "for element in groceries:\n",
    "    print(element)"
   ]
  },
  {
   "cell_type": "markdown",
   "metadata": {
    "slideshow": {
     "slide_type": "slide"
    }
   },
   "source": [
    "# Dictionaries\n",
    "\n",
    "A dictionary is a set where each element has an associated value.\n",
    "\n",
    "## Dictionary methods\n",
    "\n",
    "Dictionaries have many methods; some of the most common are\n",
    " * `has_key`\n",
    " * `get`\n",
    " * `iterkeys`\n",
    " * `itervalues`\n",
    " * `iteritems`\n",
    " * `copy`"
   ]
  },
  {
   "cell_type": "code",
   "execution_count": 9,
   "metadata": {
    "collapsed": true,
    "slideshow": {
     "slide_type": "slide"
    }
   },
   "outputs": [],
   "source": [
    "prices = {}\n",
    "prices['banana'] = 1\n",
    "prices['steak'] = 10\n",
    "prices['ice cream'] = 5"
   ]
  },
  {
   "cell_type": "code",
   "execution_count": 10,
   "metadata": {
    "collapsed": true,
    "slideshow": {
     "slide_type": "slide"
    }
   },
   "outputs": [],
   "source": [
    "prices2 = {'steak': 10, 'banana': 1, 'ice cream': 5}"
   ]
  },
  {
   "cell_type": "code",
   "execution_count": 11,
   "metadata": {},
   "outputs": [
    {
     "data": {
      "text/plain": [
       "True"
      ]
     },
     "execution_count": 11,
     "metadata": {},
     "output_type": "execute_result"
    }
   ],
   "source": [
    "prices == prices2"
   ]
  },
  {
   "cell_type": "code",
   "execution_count": 12,
   "metadata": {},
   "outputs": [
    {
     "data": {
      "text/plain": [
       "{'banana': 1, 'ice cream': 5, 'steak': 10}"
      ]
     },
     "execution_count": 12,
     "metadata": {},
     "output_type": "execute_result"
    }
   ],
   "source": [
    "prices"
   ]
  },
  {
   "cell_type": "code",
   "execution_count": 13,
   "metadata": {},
   "outputs": [
    {
     "data": {
      "text/plain": [
       "True"
      ]
     },
     "execution_count": 13,
     "metadata": {},
     "output_type": "execute_result"
    }
   ],
   "source": [
    "'banana' in prices"
   ]
  },
  {
   "cell_type": "code",
   "execution_count": 14,
   "metadata": {},
   "outputs": [
    {
     "name": "stdout",
     "output_type": "stream",
     "text": [
      "1\n"
     ]
    }
   ],
   "source": [
    "print(prices['banana'])"
   ]
  },
  {
   "cell_type": "code",
   "execution_count": 15,
   "metadata": {},
   "outputs": [
    {
     "data": {
      "text/plain": [
       "False"
      ]
     },
     "execution_count": 15,
     "metadata": {},
     "output_type": "execute_result"
    }
   ],
   "source": [
    "'Skylar' in prices"
   ]
  },
  {
   "cell_type": "code",
   "execution_count": 16,
   "metadata": {},
   "outputs": [
    {
     "ename": "KeyError",
     "evalue": "'Skylar'",
     "output_type": "error",
     "traceback": [
      "\u001b[0;31m---------------------------------------------------------------------------\u001b[0m",
      "\u001b[0;31mKeyError\u001b[0m                                  Traceback (most recent call last)",
      "\u001b[0;32m<ipython-input-16-9fa87ce29f21>\u001b[0m in \u001b[0;36m<module>\u001b[0;34m()\u001b[0m\n\u001b[0;32m----> 1\u001b[0;31m \u001b[0;32mprint\u001b[0m\u001b[0;34m(\u001b[0m\u001b[0mprices\u001b[0m\u001b[0;34m[\u001b[0m\u001b[0;34m'Skylar'\u001b[0m\u001b[0;34m]\u001b[0m\u001b[0;34m)\u001b[0m\u001b[0;34m\u001b[0m\u001b[0m\n\u001b[0m",
      "\u001b[0;31mKeyError\u001b[0m: 'Skylar'"
     ]
    }
   ],
   "source": [
    "print(prices['Skylar'])"
   ]
  },
  {
   "cell_type": "code",
   "execution_count": 18,
   "metadata": {},
   "outputs": [
    {
     "name": "stdout",
     "output_type": "stream",
     "text": [
      "('steak', '->', 10)\n",
      "('banana', '->', 1)\n",
      "('ice cream', '->', 5)\n"
     ]
    }
   ],
   "source": [
    "for key, value in prices.iteritems():\n",
    "    print(key, '->', value)\n",
    "    \n",
    "#Do not use prices.items() "
   ]
  },
  {
   "cell_type": "markdown",
   "metadata": {},
   "source": [
    "Note the parallels between some of the types we've learned:\n",
    "\n",
    "| type     | builtin        |         | comprehension |\n",
    "|----------|----------------|---------|---------|\n",
    "| `str`    | `str(1.0)`     | `'1.0'` | |\n",
    "| `tuple`  | `tuple('abc')` | `('a','b','c')` | `(x for x in 'abc')` |\n",
    "| `list`   | `list('abc')`  | `['a','b','c']` | `[x for x in 'abc']` |\n",
    "| `set`    | `set('abc')`   | `{'a','b','c'}` | `{x for x in 'abc'}` |\n",
    "| `dict`   | `dict([('a',1),('b',2)])`   | `{'a':1,'b':2}` | `{x:i for i,x in enumerate('ab')}`|"
   ]
  },
  {
   "cell_type": "markdown",
   "metadata": {
    "slideshow": {
     "slide_type": "slide"
    }
   },
   "source": [
    "!!! __(polls 1-3)__ !!!"
   ]
  },
  {
   "cell_type": "markdown",
   "metadata": {
    "slideshow": {
     "slide_type": "slide"
    }
   },
   "source": [
    "# Hashing\n",
    "\n",
    "* a 'hash' function computes an integer for the given object\n",
    "* dictionaries and sets use hashing for fast inserts, removes, and lookups\n",
    "\n",
    "BOARDWORK HERE!"
   ]
  },
  {
   "cell_type": "code",
   "execution_count": 31,
   "metadata": {},
   "outputs": [
    {
     "name": "stdout",
     "output_type": "stream",
     "text": [
      "-7627367430384417774\n",
      "7\n",
      "-8771069815892485235\n"
     ]
    }
   ],
   "source": [
    "print(hash(\"Skylar\"))\n",
    "print(hash(7))\n",
    "print(hash((1, 3, 'bob')))"
   ]
  },
  {
   "cell_type": "code",
   "execution_count": 36,
   "metadata": {},
   "outputs": [
    {
     "name": "stdout",
     "output_type": "stream",
     "text": [
      "86\n",
      "7\n",
      "105\n"
     ]
    }
   ],
   "source": [
    "p = 113\n",
    "\n",
    "print(hash(\"Skylar\") % p)\n",
    "print(hash(7) % p)\n",
    "print(hash((1, 3, 'bob')) % p)"
   ]
  },
  {
   "cell_type": "markdown",
   "metadata": {
    "slideshow": {
     "slide_type": "slide"
    }
   },
   "source": [
    "Possible break for morning\n",
    "\n",
    "# Variations on Dictionaries\n",
    "\n",
    "* defaultdict\n",
    "* Counter"
   ]
  },
  {
   "cell_type": "markdown",
   "metadata": {},
   "source": [
    "### defaultdict\n",
    "\n",
    "See: https://docs.python.org/2/library/collections.html"
   ]
  },
  {
   "cell_type": "code",
   "execution_count": 38,
   "metadata": {
    "slideshow": {
     "slide_type": "slide"
    }
   },
   "outputs": [
    {
     "name": "stdout",
     "output_type": "stream",
     "text": [
      "25\n",
      "0\n"
     ]
    }
   ],
   "source": [
    "from collections import defaultdict\n",
    "\n",
    "d_int = defaultdict(int)\n",
    "d_int[1] = 25\n",
    "print(d_int[1])\n",
    "print(d_int[2])"
   ]
  },
  {
   "cell_type": "code",
   "execution_count": 40,
   "metadata": {
    "slideshow": {
     "slide_type": "slide"
    }
   },
   "outputs": [
    {
     "name": "stdout",
     "output_type": "stream",
     "text": [
      "Default float: 0.0\n",
      "Default string: \n",
      "Default list: []\n"
     ]
    }
   ],
   "source": [
    "d_float = defaultdict(float)\n",
    "print('Default float:', d_float['some_key'])\n",
    "\n",
    "d_str = defaultdict(str)\n",
    "print('Default string:', d_str['some_key'])\n",
    "\n",
    "d_list = defaultdict(list)\n",
    "print('Default list:', d_list['some_key'])"
   ]
  },
  {
   "cell_type": "markdown",
   "metadata": {},
   "source": [
    "### Why defaultdict?"
   ]
  },
  {
   "cell_type": "code",
   "execution_count": 42,
   "metadata": {},
   "outputs": [
    {
     "name": "stdout",
     "output_type": "stream",
     "text": [
      "{'and': 1, 'then': 1, 'gym': 1, 'ryan': 1, 'to': 2, 'sleep': 1, 'walks': 2, 'home': 1, 'the': 1, 'eat': 1}\n",
      "defaultdict(<type 'int'>, {'and': 1, 'then': 1, 'gym': 1, 'ryan': 1, 'to': 2, 'sleep': 1, 'walks': 2, 'home': 1, 'the': 1, 'eat': 1})\n"
     ]
    },
    {
     "data": {
      "text/plain": [
       "True"
      ]
     },
     "execution_count": 42,
     "metadata": {},
     "output_type": "execute_result"
    }
   ],
   "source": [
    "document = \"Skylar walks to the gym then walks home to eat and sleep\".split()\n",
    "\n",
    "# Common pattern:\n",
    "word_counts = {}\n",
    "for word in document:\n",
    "    if word in word_counts:\n",
    "        word_counts[word] += 1\n",
    "    else:\n",
    "        word_counts[word] = 1\n",
    "print(word_counts)\n",
    "\n",
    "# Better if you use a defaultdict!\n",
    "word_counts_2 = defaultdict(int)\n",
    "for word in document:\n",
    "    word_counts_2[word] += 1\n",
    "print(word_counts_2)\n",
    "\n",
    "# Same?\n",
    "word_counts == word_counts_2"
   ]
  },
  {
   "cell_type": "markdown",
   "metadata": {},
   "source": [
    "### Counter"
   ]
  },
  {
   "cell_type": "code",
   "execution_count": 49,
   "metadata": {
    "slideshow": {
     "slide_type": "slide"
    }
   },
   "outputs": [
    {
     "name": "stdout",
     "output_type": "stream",
     "text": [
      "Counter({'a': 2, 'c': 2, 'b': 2, 'd': 1})\n"
     ]
    }
   ],
   "source": [
    "from collections import Counter\n",
    "\n",
    "letters = ['c', 'a', 'a', 'b', 'b', 'c','d']\n",
    "counter = Counter(letters) # note the difference in capitalization!\n",
    "print(counter)"
   ]
  },
  {
   "cell_type": "code",
   "execution_count": 50,
   "metadata": {
    "slideshow": {
     "slide_type": "slide"
    }
   },
   "outputs": [
    {
     "name": "stdout",
     "output_type": "stream",
     "text": [
      "[('a', 2), ('c', 2), ('b', 2), ('d', 1)]\n",
      "[('a', 2), ('c', 2)]\n",
      "[('a', 2)]\n"
     ]
    }
   ],
   "source": [
    "# Counters have a 'most_common' method\n",
    "\n",
    "print(counter.most_common())\n",
    "\n",
    "# Elements with equal counts are ordered arbitrarily:\n",
    "print(counter.most_common(2))\n",
    "print(counter.most_common(1))"
   ]
  },
  {
   "cell_type": "code",
   "execution_count": 53,
   "metadata": {
    "collapsed": true,
    "slideshow": {
     "slide_type": "slide"
    }
   },
   "outputs": [],
   "source": [
    "# Can two numbers draw (with replacement) from a list sum to a given value?\n",
    "\n",
    "list_ = [3, 5, 7, 9]\n",
    "\n",
    "# make_sum(list_, 4) ==> False\n",
    "# make_sum(list_, 8) ==> True\n"
   ]
  },
  {
   "cell_type": "code",
   "execution_count": 54,
   "metadata": {
    "collapsed": true,
    "slideshow": {
     "slide_type": "slide"
    }
   },
   "outputs": [],
   "source": [
    "# Method 1\n",
    "\n",
    "from itertools import combinations_with_replacement\n",
    "\n",
    "def make_sum1(numbers, target):\n",
    "    combinations = combinations_with_replacement(numbers, 2)\n",
    "    for combo in combinations:\n",
    "        if sum(combo) == target:\n",
    "            return True\n",
    "    return False\n"
   ]
  },
  {
   "cell_type": "code",
   "execution_count": 55,
   "metadata": {
    "collapsed": true
   },
   "outputs": [],
   "source": [
    "# Method 2\n",
    "\n",
    "def make_sum2(numbers, target):\n",
    "    for number in numbers:\n",
    "        if target - number in numbers:\n",
    "            return True\n",
    "    return False\n"
   ]
  },
  {
   "cell_type": "code",
   "execution_count": 56,
   "metadata": {
    "collapsed": true,
    "slideshow": {
     "slide_type": "slide"
    }
   },
   "outputs": [],
   "source": [
    "# Method 3\n",
    "\n",
    "def make_sum3(numbers, target):\n",
    "    numbers = set(numbers)\n",
    "    for number in numbers:\n",
    "        if target - number in numbers:\n",
    "            return True\n",
    "    return False\n"
   ]
  },
  {
   "cell_type": "code",
   "execution_count": 57,
   "metadata": {
    "collapsed": true,
    "slideshow": {
     "slide_type": "slide"
    }
   },
   "outputs": [],
   "source": [
    "import random\n",
    "\n",
    "number_of_samples = 1000\n",
    "list_range = (1, 1000)\n",
    "list_length = 100\n",
    "\n",
    "samples = []\n",
    "\n",
    "for s in xrange(number_of_samples):\n",
    "    list_ = [random.randint(*list_range) for i in xrange(list_length)]\n",
    "    target = random.randint(*list_range)\n",
    "    samples.append((list_, target))\n"
   ]
  },
  {
   "cell_type": "code",
   "execution_count": 58,
   "metadata": {
    "collapsed": true,
    "slideshow": {
     "slide_type": "slide"
    }
   },
   "outputs": [],
   "source": [
    "def test_make_sum(samples, make_sum):\n",
    "    for numbers, target in samples:\n",
    "        make_sum(numbers, target)"
   ]
  },
  {
   "cell_type": "code",
   "execution_count": 59,
   "metadata": {
    "slideshow": {
     "slide_type": "slide"
    }
   },
   "outputs": [
    {
     "name": "stdout",
     "output_type": "stream",
     "text": [
      "CPU times: user 474 ms, sys: 6.79 ms, total: 481 ms\n",
      "Wall time: 485 ms\n"
     ]
    }
   ],
   "source": [
    "time test_make_sum(samples, make_sum1)"
   ]
  },
  {
   "cell_type": "code",
   "execution_count": 60,
   "metadata": {
    "slideshow": {
     "slide_type": "slide"
    }
   },
   "outputs": [
    {
     "name": "stdout",
     "output_type": "stream",
     "text": [
      "CPU times: user 58.9 ms, sys: 1.5 ms, total: 60.4 ms\n",
      "Wall time: 60.8 ms\n"
     ]
    }
   ],
   "source": [
    "time test_make_sum(samples, make_sum2)"
   ]
  },
  {
   "cell_type": "code",
   "execution_count": 61,
   "metadata": {
    "slideshow": {
     "slide_type": "slide"
    }
   },
   "outputs": [
    {
     "name": "stdout",
     "output_type": "stream",
     "text": [
      "CPU times: user 11.5 ms, sys: 1.55 ms, total: 13.1 ms\n",
      "Wall time: 17.1 ms\n"
     ]
    }
   ],
   "source": [
    "time test_make_sum(samples, make_sum3)"
   ]
  },
  {
   "cell_type": "code",
   "execution_count": null,
   "metadata": {
    "collapsed": true
   },
   "outputs": [],
   "source": []
  }
 ],
 "metadata": {
  "kernelspec": {
   "display_name": "Python 2",
   "language": "python",
   "name": "python2"
  },
  "language_info": {
   "codemirror_mode": {
    "name": "ipython",
    "version": 2
   },
   "file_extension": ".py",
   "mimetype": "text/x-python",
   "name": "python",
   "nbconvert_exporter": "python",
   "pygments_lexer": "ipython2",
   "version": "2.7.13"
  }
 },
 "nbformat": 4,
 "nbformat_minor": 1
}
