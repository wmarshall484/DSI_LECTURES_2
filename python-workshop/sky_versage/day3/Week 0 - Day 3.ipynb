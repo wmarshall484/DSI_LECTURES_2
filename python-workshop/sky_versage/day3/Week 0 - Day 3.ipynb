{
 "cells": [
  {
   "cell_type": "markdown",
   "metadata": {
    "slideshow": {
     "slide_type": "slide"
    }
   },
   "source": [
    "# Before we start! "
   ]
  },
  {
   "cell_type": "code",
   "execution_count": null,
   "metadata": {
    "collapsed": true
   },
   "outputs": [],
   "source": [
    "from __future__ import print_function, division"
   ]
  },
  {
   "cell_type": "markdown",
   "metadata": {},
   "source": [
    "# Python Workshop\n",
    "\n",
    "This workshop will review Python fundamentals \n",
    "and prepare you for Galvanize's DSI.\n",
    "\n",
    "*Borrowed content from Michael Jansey's notebook. "
   ]
  },
  {
   "cell_type": "markdown",
   "metadata": {
    "slideshow": {
     "slide_type": "slide"
    }
   },
   "source": [
    "# Topics\n",
    "### Day 3\n",
    "* object oriented programming (OOP)"
   ]
  },
  {
   "cell_type": "markdown",
   "metadata": {
    "slideshow": {
     "slide_type": "slide"
    }
   },
   "source": [
    "# Organizing Code\n",
    "* How to organize code?\n",
    "* How to make code represent real world concepts?\n",
    "* How to make code reusable\n",
    "* How to make code readable?"
   ]
  },
  {
   "cell_type": "markdown",
   "metadata": {
    "slideshow": {
     "slide_type": "slide"
    }
   },
   "source": [
    "# Object Oriented Programming (OOP)\n",
    "* organizes code into \"objects\" to group related ideas, functionality, etc. together"
   ]
  },
  {
   "cell_type": "markdown",
   "metadata": {
    "slideshow": {
     "slide_type": "slide"
    }
   },
   "source": [
    "# Ex. Dog Object\n",
    "\n",
    "## Dogs can be described in terms of their attributes\n",
    "* size\n",
    "* breed\n",
    "* name\n",
    "* favorite toy\n",
    "\n",
    "## Dogs have behaviors and abilities\n",
    "* run\n",
    "* bark\n",
    "* eat\n",
    "* sleep\n",
    "\n",
    "## In the language of OOP\n",
    "* Attributes: size, breed, name, favorite toy\n",
    "* Methods: run, bark, eat, sleep"
   ]
  },
  {
   "cell_type": "markdown",
   "metadata": {
    "slideshow": {
     "slide_type": "slide"
    }
   },
   "source": [
    "# Class vs Instance\n",
    "* \"class\" refers to the set of attributes, methods, etc. that define a group of objects\n",
    "* \"instance\" refers to a specific example of a class\n",
    "* \"Dog\" is a class. My dog Snoopy is an instance of the Dog class.\n",
    "* The word \"object\" is used broadly to refer to classes or instances of classes\n"
   ]
  },
  {
   "cell_type": "code",
   "execution_count": 1,
   "metadata": {
    "slideshow": {
     "slide_type": "slide"
    }
   },
   "outputs": [
    {
     "name": "stdout",
     "output_type": "stream",
     "text": [
      "Snoopy\n",
      "Beagle\n",
      "Frisbee\n"
     ]
    }
   ],
   "source": [
    "# example of a Dog class\n",
    "\n",
    "class Dog(object):\n",
    "    \"\"\"Common household pet\"\"\"\n",
    "    def __init__(self, name, breed, favorite_toy):\n",
    "        \"\"\"\n",
    "        Args:\n",
    "            name (str): the dog's name, ex. \"Snoopy\"\n",
    "            breed (str): the breed of the dog, ex. \"Beagle\"\n",
    "            favorite_toy (str): something the dog likes to play with most\n",
    "        \n",
    "        \"\"\"\n",
    "        self.name = name\n",
    "        self.breed = breed\n",
    "        self.favorite_toy = favorite_toy\n",
    "        \n",
    "my_dog = Dog('Snoopy', 'Beagle', 'Frisbee')\n",
    "\n",
    "# my_dog attributes\n",
    "print my_dog.name\n",
    "print my_dog.breed\n",
    "print my_dog.favorite_toy"
   ]
  },
  {
   "cell_type": "code",
   "execution_count": null,
   "metadata": {
    "collapsed": true
   },
   "outputs": [],
   "source": []
  },
  {
   "cell_type": "markdown",
   "metadata": {
    "slideshow": {
     "slide_type": "slide"
    }
   },
   "source": [
    "(see poll question #1 and #2)"
   ]
  },
  {
   "cell_type": "code",
   "execution_count": 9,
   "metadata": {
    "slideshow": {
     "slide_type": "slide"
    }
   },
   "outputs": [
    {
     "ename": "TypeError",
     "evalue": "bark() takes exactly 2 arguments (1 given)",
     "output_type": "error",
     "traceback": [
      "\u001b[0;31m---------------------------------------------------------------------------\u001b[0m",
      "\u001b[0;31mTypeError\u001b[0m                                 Traceback (most recent call last)",
      "\u001b[0;32m<ipython-input-9-afd0c999eae0>\u001b[0m in \u001b[0;36m<module>\u001b[0;34m()\u001b[0m\n\u001b[1;32m     23\u001b[0m \u001b[0;34m\u001b[0m\u001b[0m\n\u001b[1;32m     24\u001b[0m \u001b[0mmy_dog\u001b[0m \u001b[0;34m=\u001b[0m \u001b[0mDog\u001b[0m\u001b[0;34m(\u001b[0m\u001b[0;34m'Snoopy'\u001b[0m\u001b[0;34m,\u001b[0m \u001b[0;34m'Beagle'\u001b[0m\u001b[0;34m,\u001b[0m \u001b[0;34m'Frisbee'\u001b[0m\u001b[0;34m)\u001b[0m\u001b[0;34m\u001b[0m\u001b[0m\n\u001b[0;32m---> 25\u001b[0;31m \u001b[0mmy_dog\u001b[0m\u001b[0;34m.\u001b[0m\u001b[0mbark\u001b[0m\u001b[0;34m(\u001b[0m\u001b[0;34m)\u001b[0m\u001b[0;34m\u001b[0m\u001b[0m\n\u001b[0m",
      "\u001b[0;31mTypeError\u001b[0m: bark() takes exactly 2 arguments (1 given)"
     ]
    }
   ],
   "source": [
    "# you can add \"methods\" to an object to give it more functionality\n",
    "class Dog(object):\n",
    "    \"\"\"Common household pet\"\"\"\n",
    "    \n",
    "    def __init__(self, name, breed, favorite_toy):\n",
    "        \"\"\"\n",
    "        Args:\n",
    "            name (str): the dog's name, ex. \"Snoopy\"\n",
    "            breed (str): the breed of the dog, ex. \"Beagle\"\n",
    "            favorite_toy (str): something the dog likes to play with most\n",
    "        \"\"\"\n",
    "        self.name = name\n",
    "        self.breed = breed\n",
    "        self.favorite_toy = favorite_toy\n",
    "        \n",
    "        \n",
    "    def bark(self, dog_type):\n",
    "        \"\"\"Causes the dog to bark\"\"\"\n",
    "        if dog_type == 'big':\n",
    "            print('RUFF RUFF ')\n",
    "        else:\n",
    "            print('ruff ruff')\n",
    "        \n",
    "my_dog = Dog('Snoopy', 'Beagle', 'Frisbee')\n",
    "my_dog.bark()"
   ]
  },
  {
   "cell_type": "code",
   "execution_count": 10,
   "metadata": {},
   "outputs": [
    {
     "name": "stdout",
     "output_type": "stream",
     "text": [
      "RUFF RUFF \n"
     ]
    }
   ],
   "source": [
    "Dog.bark(my_dog, 'big')"
   ]
  },
  {
   "cell_type": "markdown",
   "metadata": {
    "slideshow": {
     "slide_type": "slide"
    }
   },
   "source": [
    "(see poll question #3)"
   ]
  },
  {
   "cell_type": "markdown",
   "metadata": {
    "slideshow": {
     "slide_type": "slide"
    }
   },
   "source": [
    "# Objects interacting with each other\n",
    "* In a game, player objects could interact with a playing card object\n",
    "* In a our earlier example, a person object could interact with a dog object\n",
    "* Structuring code in this way makes code more reusable and easier to read"
   ]
  },
  {
   "cell_type": "code",
   "execution_count": 30,
   "metadata": {
    "slideshow": {
     "slide_type": "slide"
    }
   },
   "outputs": [
    {
     "name": "stdout",
     "output_type": "stream",
     "text": [
      "My name is Charlie Brown.\n",
      "Go get the frisbee Snoopy!\n",
      "ruff ruff ruff!\n",
      "Good job Snoopy!\n"
     ]
    }
   ],
   "source": [
    "class Dog(object):\n",
    "    \"\"\"Common household pet\"\"\"\n",
    "    \n",
    "    def __init__(self, name, breed, favorite_toy, has_toy=False, plays_fetch=True):\n",
    "        \"\"\"\n",
    "        Args:\n",
    "            name (str): the dog's name, ex. \"Snoopy\"\n",
    "            breed (str): the breed of the dog, ex. \"Beagle\"\n",
    "            favorite_toy (str): something the dog likes to play with most\n",
    "            has_toy (bool): wehther the dog has its favorite toy\n",
    "            plays_fetch (bool): whether the dog knows how to play fetch\n",
    "        \"\"\"\n",
    "        self.name = name\n",
    "        self.breed = breed\n",
    "        self.favorite_toy = favorite_toy\n",
    "        self.has_toy = has_toy\n",
    "        self.plays_fetch = plays_fetch\n",
    "        \n",
    "        \n",
    "    def bark(self):\n",
    "        \"\"\"Causes the dog to bark\"\"\"\n",
    "        print('ruff ruff ruff!')\n",
    "\n",
    "class Person(object):\n",
    "    \"\"\"Human who may have a Dog\"\"\"\n",
    "    def __init__(self, name):\n",
    "        \"\"\"\n",
    "        Args:\n",
    "            name (str): name of the person\n",
    "        \"\"\"\n",
    "        self.name = name\n",
    "        \n",
    "    def introduce(self):\n",
    "        print('My name is {name}.'.format(name=self.name))\n",
    "        \n",
    "    def play_fetch(self, dog):\n",
    "        \"\"\"Person plays a game of fetch with dog\"\"\"\n",
    "        print('Go get the {toy} {dog_name}!'.format(toy=dog.favorite_toy, \n",
    "                                                    dog_name=dog.name))\n",
    "        if dog.plays_fetch:\n",
    "            dog.bark()\n",
    "            dog.has_toy = True\n",
    "            print('Good job {dog_name}!'.format(dog_name=dog.name))\n",
    "        else:\n",
    "            dog.has_toy = False\n",
    "            print('Try again {dog_name}!'.format(dog_name=dog.name))\n",
    "            \n",
    "    def __repr__(self):\n",
    "        return 'hello i am {}'.format(self.name)\n",
    "        \n",
    "        \n",
    "person = Person('Charlie Brown')\n",
    "dog = Dog('Snoopy', 'Beagle', 'frisbee')\n",
    "person.introduce()\n",
    "person.play_fetch(dog)"
   ]
  },
  {
   "cell_type": "code",
   "execution_count": 32,
   "metadata": {},
   "outputs": [
    {
     "name": "stdout",
     "output_type": "stream",
     "text": [
      "hello i am Charlie Brown\n"
     ]
    }
   ],
   "source": [
    "print(person)"
   ]
  },
  {
   "cell_type": "markdown",
   "metadata": {
    "slideshow": {
     "slide_type": "slide"
    }
   },
   "source": [
    "# OOP Used for Data Science\n",
    "* ex. \"LinearRegression\" class with \"fit\" and \"predict\" methods\n",
    "* ex. \"axis\" object that contains information about plots\n",
    "* This will be explored in depth starting next week during the DSI"
   ]
  },
  {
   "cell_type": "markdown",
   "metadata": {
    "slideshow": {
     "slide_type": "slide"
    }
   },
   "source": [
    "# Class \"Magic Methods\"\n",
    "* You can add special features to your classes using \"magic methods\"\n",
    "* ex. 'my_dog > my_other dog' could be a meaningful comparison\n",
    "* ex. str(my_dog) could return 'Name: Beagle, Favorite Toy: Frisbee'"
   ]
  },
  {
   "cell_type": "markdown",
   "metadata": {
    "slideshow": {
     "slide_type": "slide"
    }
   },
   "source": [
    "# Comparison Magic Method: \"__cmp__\"\n",
    "* 1 < 2 makes intuitive sense\n",
    "* my_dog < my_other_dog has a less obvious meaning, but it could mean something!\n",
    "* we can define comparison logic to make meaningful comparisons between custom classes"
   ]
  },
  {
   "cell_type": "code",
   "execution_count": 33,
   "metadata": {
    "slideshow": {
     "slide_type": "slide"
    }
   },
   "outputs": [
    {
     "name": "stdout",
     "output_type": "stream",
     "text": [
      "True\n"
     ]
    }
   ],
   "source": [
    "# Example: comparing two dogs\n",
    "class Dog(object):\n",
    "    \"\"\"Common household pet\"\"\"\n",
    "    \n",
    "    def __init__(self, name, breed, favorite_toy, has_toy=False, plays_fetch=True):\n",
    "        \"\"\"\n",
    "        Args:\n",
    "            name (str): the dog's name, ex. \"Snoopy\"\n",
    "            breed (str): the breed of the dog, ex. \"Beagle\"\n",
    "            favorite_toy (str): something the dog likes to play with most\n",
    "            has_toy (bool): wehther the dog has its favorite toy\n",
    "            plays_fetch (bool): whether the dog knows how to play fetch\n",
    "        \"\"\"\n",
    "        self.name = name\n",
    "        self.breed = breed\n",
    "        self.favorite_toy = favorite_toy\n",
    "        self.has_toy = has_toy\n",
    "        self.plays_fetch = plays_fetch\n",
    "        \n",
    "    def __cmp__(self, other):\n",
    "        \"\"\"A dog is greater than another dog if it has a longer name\"\"\"\n",
    "        self_name_length = len(self.name)\n",
    "        other_name_length = len(other.name)\n",
    "        if self_name_length < other_name_length:\n",
    "            return -1\n",
    "        elif self_name_length == other_name_length:\n",
    "            return 0\n",
    "        else:\n",
    "            return 1\n",
    "        \n",
    "dog1 = Dog('Snoopy', 'Beagle', 'Frisbee')\n",
    "dog2 = Dog('Fido', 'Golden Retriever', 'Tennis Ball')\n",
    "\n",
    "print(dog1 > dog2)"
   ]
  },
  {
   "cell_type": "code",
   "execution_count": 34,
   "metadata": {
    "slideshow": {
     "slide_type": "slide"
    }
   },
   "outputs": [
    {
     "name": "stdout",
     "output_type": "stream",
     "text": [
      "6\n",
      "Snoopy, Beagle, Frisbee\n"
     ]
    }
   ],
   "source": [
    "# Magic methods: __len__ and __str__\n",
    "class Dog(object):\n",
    "    \"\"\"Common household pet\"\"\"\n",
    "    \n",
    "    def __init__(self, name, breed, favorite_toy, has_toy=False, plays_fetch=True):\n",
    "        \"\"\"\n",
    "        Args:\n",
    "            name (str): the dog's name, ex. \"Snoopy\"\n",
    "            breed (str): the breed of the dog, ex. \"Beagle\"\n",
    "            favorite_toy (str): something the dog likes to play with most\n",
    "            has_toy (bool): whether the dog has its favorite toy\n",
    "            plays_fetch (bool): whether the dog knows how to play fetch\n",
    "        \"\"\"\n",
    "        self.name = name\n",
    "        self.breed = breed\n",
    "        self.favorite_toy = favorite_toy\n",
    "        self.has_toy = has_toy\n",
    "        self.plays_fetch = plays_fetch\n",
    "        \n",
    "    def __len__(self):\n",
    "        \"\"\"The length of a dog is the length of its name\"\"\"\n",
    "        return len(self.name)\n",
    "    \n",
    "    def __str__(self):\n",
    "        \"\"\"Name, Breed, Favorite Toy\"\"\"\n",
    "        return '{name}, {breed}, {favorite_toy}'.format(name=self.name, \n",
    "                                                        breed=self.breed, \n",
    "                                                        favorite_toy=self.favorite_toy)\n",
    "    \n",
    "dog = Dog('Snoopy', 'Beagle', 'Frisbee')\n",
    "print(len(dog))\n",
    "print(str(dog))"
   ]
  },
  {
   "cell_type": "code",
   "execution_count": 35,
   "metadata": {
    "slideshow": {
     "slide_type": "slide"
    }
   },
   "outputs": [
    {
     "name": "stdout",
     "output_type": "stream",
     "text": [
      "(40, 60)\n"
     ]
    }
   ],
   "source": [
    "# Magic method: __add__\n",
    "class FruitBasket(object):\n",
    "    \"\"\"A collection of apples and pears\"\"\"\n",
    "    \n",
    "    def __init__(self, num_apples, num_pears):\n",
    "        \"\"\"\n",
    "        Args:\n",
    "            num_apples (int): number of apples in the basket\n",
    "            num_pears (int): number of pears in the basket\n",
    "        \"\"\"\n",
    "        self.num_apples = num_apples\n",
    "        self.num_pears = num_pears\n",
    "        \n",
    "    def __add__(self, other):\n",
    "        \"\"\"Combines two baskets into one\"\"\"\n",
    "        num_apples = self.num_apples + other.num_apples\n",
    "        num_pears = self.num_pears + other.num_pears\n",
    "        new_basket = FruitBasket(num_apples, num_pears)\n",
    "        return new_basket\n",
    "    \n",
    "basket1 = FruitBasket(10, 20)\n",
    "basket2 = FruitBasket(30, 40)\n",
    "basket3 = basket1 + basket2\n",
    "print(basket3.num_apples, basket3.num_pears)"
   ]
  },
  {
   "cell_type": "code",
   "execution_count": 36,
   "metadata": {
    "slideshow": {
     "slide_type": "slide"
    }
   },
   "outputs": [
    {
     "name": "stdout",
     "output_type": "stream",
     "text": [
      "3\n",
      "3\n"
     ]
    }
   ],
   "source": [
    "# __add__ is how addition works with numeric types too\n",
    "a, b = 1, 2\n",
    "print(a + b)\n",
    "print(a.__add__(b))"
   ]
  },
  {
   "cell_type": "markdown",
   "metadata": {
    "slideshow": {
     "slide_type": "slide"
    }
   },
   "source": [
    "## More info about magic methods:\n",
    "http://www.rafekettler.com/magicmethods.html"
   ]
  },
  {
   "cell_type": "markdown",
   "metadata": {
    "slideshow": {
     "slide_type": "slide"
    }
   },
   "source": [
    "## Inheritance, Polymorphism and Encapsulation:\n",
    "\n",
    "Polymorphism: All objects have the same interface (scikit learn)\n",
    "Inheritance: Model relationships between classes\n",
    "Encapsulation: Restricting access to methods and attributes\n",
    "\n",
    "Let's work some examples in Atom"
   ]
  },
  {
   "cell_type": "code",
   "execution_count": 39,
   "metadata": {
    "collapsed": true
   },
   "outputs": [],
   "source": [
    "#Encapsulation\n",
    "class DataBaseConnector:\n",
    "    def __init__(self, credentials, name):\n",
    "        self.__validate_credentials(credentials)\n",
    "        self.credentials = credentials\n",
    "        self.name = name\n",
    "\n",
    "    def __validate_credentials(self, credentials):\n",
    "        print('Connection Successfull')"
   ]
  },
  {
   "cell_type": "code",
   "execution_count": 40,
   "metadata": {},
   "outputs": [
    {
     "name": "stdout",
     "output_type": "stream",
     "text": [
      "Connection Successfull\n"
     ]
    }
   ],
   "source": [
    "credentials = {\n",
    "    'user':'admin',\n",
    "    'password': '123'\n",
    "}\n",
    "mysql = DataBaseConnector(credentials, 'EBS')"
   ]
  },
  {
   "cell_type": "code",
   "execution_count": null,
   "metadata": {
    "collapsed": true
   },
   "outputs": [],
   "source": [
    "mysql. #Hit tab notice that __validate_credentials isn't there"
   ]
  },
  {
   "cell_type": "code",
   "execution_count": null,
   "metadata": {
    "collapsed": true
   },
   "outputs": [],
   "source": [
    "#This isn't secure though! Can be mangled\n",
    "mysql._DataBaseConnector__validate_credentials(credentials)"
   ]
  },
  {
   "cell_type": "markdown",
   "metadata": {},
   "source": [
    "## Try, Except, Finally\n",
    "\n",
    "One last thing before we break, the try except... this is handy to anticipate where things may go wrong"
   ]
  },
  {
   "cell_type": "code",
   "execution_count": null,
   "metadata": {
    "collapsed": true
   },
   "outputs": [],
   "source": [
    "def resume_database_extraction(data_base_package):\n",
    "    try:\n",
    "        database_resume()\n",
    "    except AttributeError as e:\n",
    "        raise e, 'Invalid database package to resume, please start over'\n",
    "    finally:\n",
    "        database_resume.close_connection()"
   ]
  },
  {
   "cell_type": "code",
   "execution_count": 2,
   "metadata": {
    "collapsed": true
   },
   "outputs": [],
   "source": [
    "assert 'test' is 'test'"
   ]
  },
  {
   "cell_type": "code",
   "execution_count": null,
   "metadata": {
    "collapsed": true
   },
   "outputs": [],
   "source": []
  },
  {
   "cell_type": "code",
   "execution_count": null,
   "metadata": {
    "collapsed": true
   },
   "outputs": [],
   "source": []
  }
 ],
 "metadata": {
  "kernelspec": {
   "display_name": "Python 2",
   "language": "python",
   "name": "python2"
  },
  "language_info": {
   "codemirror_mode": {
    "name": "ipython",
    "version": 2
   },
   "file_extension": ".py",
   "mimetype": "text/x-python",
   "name": "python",
   "nbconvert_exporter": "python",
   "pygments_lexer": "ipython2",
   "version": "2.7.13"
  }
 },
 "nbformat": 4,
 "nbformat_minor": 1
}
