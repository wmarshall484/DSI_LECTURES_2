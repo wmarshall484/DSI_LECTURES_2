{
 "cells": [
  {
   "cell_type": "markdown",
   "metadata": {
    "slideshow": {
     "slide_type": "slide"
    }
   },
   "source": [
    "# Python Workshop\n",
    "\n",
    "This workshop will review Python fundamentals and prepare you for Galvanize's DSI.\n",
    "\n",
    "This workshop is not officially part of the DSI course. As such:\n",
    "- It is optional.\n",
    "- There are no assessments.\n",
    "- It is super chill.\n",
    "- We will move slower than a typical DSI week.\n",
    "- Some parts of this week will be repeated during DSI Week 1.\n",
    "- This gives you a chance to __practice__ using Python. (You'll learn the most during this week's exercises.)"
   ]
  },
  {
   "cell_type": "markdown",
   "metadata": {
    "slideshow": {
     "slide_type": "slide"
    }
   },
   "source": [
    "# Topics\n",
    "\n",
    "### Day 1\n",
    "\n",
    "Workflow:\n",
    "\n",
    "* CLI\n",
    "* `git` and GitHub\n",
    "* Atom + CLI\n",
    "* Jupyter\n",
    "\n",
    "Python:\n",
    "\n",
    "* Types\n",
    "* Functions\n",
    "* Modules\n",
    "* String Formatting\n",
    "* File I/O"
   ]
  },
  {
   "cell_type": "markdown",
   "metadata": {},
   "source": [
    "# Command-line Interface (CLI)\n",
    "\n",
    "Live demo of a _small_ sampling of the things you can do in a shell (e.g. in `bash`, `sh` or `zsh`).\n",
    "\n",
    "- `pwd`\n",
    "- `ls`\n",
    "- `cd`\n",
    "- `mkdir`\n",
    "- `cp`\n",
    "- `touch`\n",
    "- `nano`\n",
    "- `vim`\n",
    "- `cat`\n",
    "- `rm`\n",
    "- `python`\n",
    "- `man`\n",
    "- `open` (if on a Mac)"
   ]
  },
  {
   "cell_type": "markdown",
   "metadata": {},
   "source": [
    "# Git + GitHub\n",
    "\n",
    "What is the difference?\n",
    "\n",
    "Let's clone the `python-workshop` repository (aka, \"repo\").\n",
    "\n",
    "1. Open `Terminal`.\n",
    "2. `cd Desktop`\n",
    "3. `git clone https://github.com/gSchool/dsi-python-workshop.git`\n",
    "4. `cd dsi-python-workshop`\n",
    "5. `ls -al`"
   ]
  },
  {
   "cell_type": "markdown",
   "metadata": {},
   "source": [
    "# Atom + CLI\n",
    "\n",
    "Live demo!"
   ]
  },
  {
   "cell_type": "markdown",
   "metadata": {},
   "source": [
    "# Jupyter\n",
    "\n",
    "Live demo!"
   ]
  },
  {
   "cell_type": "markdown",
   "metadata": {
    "slideshow": {
     "slide_type": "slide"
    }
   },
   "source": [
    "# Types\n",
    "\n",
    "| __type__ | __example__     |\n",
    "|------|----------------------|\n",
    "| int   | 7 |\n",
    "| float | 3.14159 |\n",
    "| str   | 'ryan' |\n",
    "| tuple | (1, 'a', 5.0) |\n",
    "| list  | [1, 3, 5, 7] |\n",
    "| dict  | {'a' : 1, 'b' : 2} |\n",
    "| set   | {1, 2, 3} |\n"
   ]
  },
  {
   "cell_type": "markdown",
   "metadata": {},
   "source": [
    "## Quick note about python 2.7 vs 3.X\n",
    "\n",
    "Print and Division are different between 2 and 3 -- to prepare for 3 let's always put this in our code"
   ]
  },
  {
   "cell_type": "code",
   "execution_count": null,
   "metadata": {
    "collapsed": true
   },
   "outputs": [],
   "source": [
    "from __future__ import print_function, division"
   ]
  },
  {
   "cell_type": "markdown",
   "metadata": {},
   "source": [
    "## Building `int` and `float` objects:"
   ]
  },
  {
   "cell_type": "code",
   "execution_count": 1,
   "metadata": {},
   "outputs": [
    {
     "name": "stdout",
     "output_type": "stream",
     "text": [
      "4\n",
      "5.1\n",
      "4.0\n",
      "()\n",
      "12\n",
      "12.0\n",
      "20.4\n",
      "16.0\n"
     ]
    }
   ],
   "source": [
    "a = 4       # <-- creates an 'int' object with the value 4\n",
    "b = 5.1     # <-- creates a 'float' object with the value 5.1\n",
    "c = 4.      # <-- creates a 'float' object with the value 4.0\n",
    "print(a)\n",
    "print(b)\n",
    "print(c)\n",
    "print()\n",
    "\n",
    "x = a * 3   # <-- Is x an int or a float?\n",
    "print(x)\n",
    "\n",
    "x = a * 3.  # <-- Is x an int or a float?\n",
    "print(x)\n",
    "\n",
    "x = a * b   # <-- Is x an int or a float?\n",
    "print(x)\n",
    "\n",
    "x = a * c   # <-- Is x an int or a float?\n",
    "print(x)"
   ]
  },
  {
   "cell_type": "markdown",
   "metadata": {},
   "source": [
    "## Building `str` objects:"
   ]
  },
  {
   "cell_type": "code",
   "execution_count": 2,
   "metadata": {},
   "outputs": [
    {
     "name": "stdout",
     "output_type": "stream",
     "text": [
      "ryan\n",
      "dash\n",
      "violet\n",
      "()\n",
      "ryan dash\n"
     ]
    }
   ],
   "source": [
    "a = 'ryan'\n",
    "b = 'dash'\n",
    "c = 'violet'\n",
    "s = ' '\n",
    "print(a)\n",
    "print(b)\n",
    "print(c)\n",
    "print()\n",
    "\n",
    "d = a + s + b\n",
    "print(d)\n",
    "\n",
    "# We'll see more ways to build string objects later on in this notebook."
   ]
  },
  {
   "cell_type": "markdown",
   "metadata": {},
   "source": [
    "## Building `tuple` objects:"
   ]
  },
  {
   "cell_type": "code",
   "execution_count": 3,
   "metadata": {},
   "outputs": [
    {
     "name": "stdout",
     "output_type": "stream",
     "text": [
      "('bob', 3.14, 7)\n",
      "()\n",
      "('ryan', 'dash', 16.0, 'yay!')\n",
      "()\n",
      "bob\n",
      "3.14\n",
      "7\n"
     ]
    }
   ],
   "source": [
    "# You can declare tuples using parentheses around literals or around existing variables:\n",
    "\n",
    "my_tuple = ('bob', 3.14, 7)\n",
    "print(my_tuple)\n",
    "print()\n",
    "\n",
    "my_other_tuple = (a, b, x, 'yay!')\n",
    "print(my_other_tuple)\n",
    "print()\n",
    "\n",
    "# BTW, you can access the parts of a tupe using array indexing:\n",
    "print(my_tuple[0])\n",
    "print(my_tuple[1])\n",
    "print(my_tuple[2])"
   ]
  },
  {
   "cell_type": "markdown",
   "metadata": {},
   "source": [
    "## Building `list` objects:"
   ]
  },
  {
   "cell_type": "code",
   "execution_count": 6,
   "metadata": {},
   "outputs": [
    {
     "name": "stdout",
     "output_type": "stream",
     "text": [
      "[0, 1, 2, 3, 4, 5, 6, 7, 8, 9]\n"
     ]
    }
   ],
   "source": [
    "# range() returns a list:\n",
    "my_list = range(10)\n",
    "print(my_list)\n",
    "\n",
    "tuple(my_list)\n",
    "\n",
    "import pandas as pd"
   ]
  },
  {
   "cell_type": "code",
   "execution_count": 7,
   "metadata": {},
   "outputs": [
    {
     "name": "stdout",
     "output_type": "stream",
     "text": [
      "[3, 5, 1, 0]\n"
     ]
    }
   ],
   "source": [
    "# This is how you declare a list literal:\n",
    "my_list = [3, 5, 1, 0]\n",
    "print(my_list)"
   ]
  },
  {
   "cell_type": "code",
   "execution_count": 8,
   "metadata": {},
   "outputs": [
    {
     "name": "stdout",
     "output_type": "stream",
     "text": [
      "[9, 25, 1, 0]\n"
     ]
    }
   ],
   "source": [
    "# Be pythonic: here's an example of list conprehension for building a list of squared values:\n",
    "squared_list = [x*x for x in my_list]\n",
    "print(squared_list)"
   ]
  },
  {
   "cell_type": "code",
   "execution_count": 9,
   "metadata": {},
   "outputs": [
    {
     "name": "stdout",
     "output_type": "stream",
     "text": [
      "[9, 25, 1, 0]\n"
     ]
    }
   ],
   "source": [
    "##The list comprehension above looks a little intimidating, let's break it down to a normal for loop\n",
    "new_squared_list = []\n",
    "for x in my_list:\n",
    "    new_squared_list.append(x*x)\n",
    "print(new_squared_list)"
   ]
  },
  {
   "cell_type": "markdown",
   "metadata": {},
   "source": [
    "## Iterable types\n",
    "\n",
    "Many types in python are \"iterable\". We've already spoken of three iterable types: `str`, `tuple`, and `list`.\n",
    "\n",
    "You can iterate through any iterable type using the basic `for` loop control structure:"
   ]
  },
  {
   "cell_type": "code",
   "execution_count": 10,
   "metadata": {},
   "outputs": [
    {
     "name": "stdout",
     "output_type": "stream",
     "text": [
      "s\n",
      "u\n",
      "m\n",
      "m\n",
      "e\n",
      "r\n",
      " \n",
      "i\n",
      "s\n",
      " \n",
      "h\n",
      "o\n",
      "t\n"
     ]
    }
   ],
   "source": [
    "my_string = 'summer is hot'\n",
    "for character in my_string:\n",
    "    print(character)"
   ]
  },
  {
   "cell_type": "code",
   "execution_count": 11,
   "metadata": {},
   "outputs": [
    {
     "name": "stdout",
     "output_type": "stream",
     "text": [
      "1\n",
      "2\n",
      "7\n"
     ]
    }
   ],
   "source": [
    "my_tuple = (1, 2, 7)\n",
    "for item in my_tuple:\n",
    "    print(item)"
   ]
  },
  {
   "cell_type": "code",
   "execution_count": 12,
   "metadata": {},
   "outputs": [
    {
     "name": "stdout",
     "output_type": "stream",
     "text": [
      "bob\n",
      "8\n",
      "3.14\n"
     ]
    }
   ],
   "source": [
    "my_list = ['bob', 8, 3.14]\n",
    "for item in my_list:\n",
    "    print(item)"
   ]
  },
  {
   "cell_type": "markdown",
   "metadata": {
    "slideshow": {
     "slide_type": "slide"
    }
   },
   "source": [
    "## You can check the type of object\n",
    "\n",
    "* using `type(some_object)`\n",
    "* using `isinstance(some_object, some_type)`"
   ]
  },
  {
   "cell_type": "code",
   "execution_count": 13,
   "metadata": {
    "slideshow": {
     "slide_type": "slide"
    }
   },
   "outputs": [
    {
     "name": "stdout",
     "output_type": "stream",
     "text": [
      "('object: ', 'abc')\n",
      "<type 'str'>\n",
      "('Is string?', True)\n",
      "()\n",
      "('object:', 123)\n",
      "<type 'int'>\n",
      "('Is integer?', True)\n",
      "('Is float?', False)\n",
      "('Is integer or float?', True)\n"
     ]
    }
   ],
   "source": [
    "my_string = 'abc'\n",
    "my_integer = 123\n",
    "\n",
    "print('object: ', my_string)\n",
    "print(type(my_string))\n",
    "print('Is string?',isinstance(my_string, str))\n",
    "print()\n",
    "print('object:', my_integer)\n",
    "print(type(my_integer))\n",
    "print('Is integer?', isinstance(my_integer, int))\n",
    "print('Is float?', isinstance(my_integer, float))\n",
    "print('Is integer or float?', isinstance(my_integer, (int, float))) # can check more than one type"
   ]
  },
  {
   "cell_type": "markdown",
   "metadata": {},
   "source": [
    "## Heads-up: We'll learn how to create our own types on Thursday!\n",
    "\n",
    "We'll learn how to declare _classes_ which become new variable _types_ that you can use in your program."
   ]
  },
  {
   "cell_type": "markdown",
   "metadata": {},
   "source": [
    "## Python is \"dynamically typed\"\n",
    "\n",
    "If you care about the details, read: https://en.wikipedia.org/wiki/Type_system"
   ]
  },
  {
   "cell_type": "code",
   "execution_count": 14,
   "metadata": {},
   "outputs": [
    {
     "name": "stdout",
     "output_type": "stream",
     "text": [
      "1\n",
      "<type 'int'>\n",
      "()\n",
      "abc\n",
      "<type 'str'>\n",
      "()\n"
     ]
    }
   ],
   "source": [
    "x = 1\n",
    "print(x)\n",
    "print(type(x))\n",
    "print()\n",
    "\n",
    "x = 'abc'\n",
    "print(x)\n",
    "print(type(x))\n",
    "print()"
   ]
  },
  {
   "cell_type": "code",
   "execution_count": 15,
   "metadata": {},
   "outputs": [
    {
     "name": "stdout",
     "output_type": "stream",
     "text": [
      "WORKING HARD... DOING STUFF...\n",
      "I hope we don't crash or we'll have to start all this work over again.\n"
     ]
    },
    {
     "ename": "TypeError",
     "evalue": "'int' object is not iterable",
     "output_type": "error",
     "traceback": [
      "\u001b[0;31m---------------------------------------------------------------------------\u001b[0m",
      "\u001b[0;31mTypeError\u001b[0m                                 Traceback (most recent call last)",
      "\u001b[0;32m<ipython-input-15-280f6aa9f028>\u001b[0m in \u001b[0;36m<module>\u001b[0;34m()\u001b[0m\n\u001b[1;32m     20\u001b[0m \u001b[0;34m\u001b[0m\u001b[0m\n\u001b[1;32m     21\u001b[0m \u001b[0;31m# Now we do this. This SHOULD WORK? Right? Since my_list is a list, which is iterable???\u001b[0m\u001b[0;34m\u001b[0m\u001b[0;34m\u001b[0m\u001b[0m\n\u001b[0;32m---> 22\u001b[0;31m \u001b[0;32mfor\u001b[0m \u001b[0mitem\u001b[0m \u001b[0;32min\u001b[0m \u001b[0mmy_list\u001b[0m\u001b[0;34m:\u001b[0m\u001b[0;34m\u001b[0m\u001b[0m\n\u001b[0m\u001b[1;32m     23\u001b[0m     \u001b[0;32mprint\u001b[0m\u001b[0;34m(\u001b[0m\u001b[0mitem\u001b[0m\u001b[0;34m)\u001b[0m\u001b[0;34m\u001b[0m\u001b[0m\n",
      "\u001b[0;31mTypeError\u001b[0m: 'int' object is not iterable"
     ]
    }
   ],
   "source": [
    "# Dynamically typed isn't aways good. It means you'll get more runtime errors.\n",
    "\n",
    "my_list = [1, 2, 3, 4]   # <-- seems reasonable at this point... but...\n",
    "#\n",
    "# ... a bunch of code runs here... a bunch of work is done.\n",
    "#\n",
    "print(\"WORKING HARD... DOING STUFF...\")\n",
    "\n",
    "#\n",
    "# ... more code goes here... more work is done.\n",
    "#\n",
    "print(\"I hope we don't crash or we'll have to start all this work over again.\")\n",
    "\n",
    "#\n",
    "# ... now we do something bad by accident.\n",
    "#\n",
    "my_list = 4    # <-- We're putting the integer 4 into a variable named 'my_list'.\n",
    "               #     This might not end well...\n",
    "\n",
    "\n",
    "# Now we do this. This SHOULD WORK? Right? Since my_list is a list, which is iterable???\n",
    "for item in my_list:\n",
    "    print(item)"
   ]
  },
  {
   "cell_type": "markdown",
   "metadata": {
    "slideshow": {
     "slide_type": "slide"
    }
   },
   "source": [
    "# Immutable vs Mutable Types\n",
    "\n",
    "## Immutable - can't be changed  \n",
    "* int 1, 2, -3\n",
    "* float 1.0, 2.5, 102342.32423\n",
    "* str 'abc'\n",
    "* tuple (1, 'a', 5.0)\n",
    "\n",
    "## Mutable - can be changed  \n",
    "* list [1, 3, 5, 7]\n",
    "* dict {'a' : 1, 'b' : 2}\n",
    "* set {1, 2, 3}\n"
   ]
  },
  {
   "cell_type": "code",
   "execution_count": 16,
   "metadata": {
    "slideshow": {
     "slide_type": "slide"
    }
   },
   "outputs": [
    {
     "name": "stdout",
     "output_type": "stream",
     "text": [
      "[100, 2, 3]\n"
     ]
    }
   ],
   "source": [
    "example_list = [1, 2, 3]\n",
    "example_list[0] = 100\n",
    "print(example_list)"
   ]
  },
  {
   "cell_type": "code",
   "execution_count": 17,
   "metadata": {
    "slideshow": {
     "slide_type": "slide"
    }
   },
   "outputs": [
    {
     "ename": "TypeError",
     "evalue": "'tuple' object does not support item assignment",
     "output_type": "error",
     "traceback": [
      "\u001b[0;31m---------------------------------------------------------------------------\u001b[0m",
      "\u001b[0;31mTypeError\u001b[0m                                 Traceback (most recent call last)",
      "\u001b[0;32m<ipython-input-17-87c4e5e2f293>\u001b[0m in \u001b[0;36m<module>\u001b[0;34m()\u001b[0m\n\u001b[1;32m      1\u001b[0m \u001b[0mexample_tuple\u001b[0m \u001b[0;34m=\u001b[0m  \u001b[0;34m(\u001b[0m\u001b[0;36m1\u001b[0m\u001b[0;34m,\u001b[0m \u001b[0;36m2\u001b[0m\u001b[0;34m,\u001b[0m \u001b[0;36m3\u001b[0m\u001b[0;34m)\u001b[0m\u001b[0;34m\u001b[0m\u001b[0m\n\u001b[0;32m----> 2\u001b[0;31m \u001b[0mexample_tuple\u001b[0m\u001b[0;34m[\u001b[0m\u001b[0;36m0\u001b[0m\u001b[0;34m]\u001b[0m \u001b[0;34m=\u001b[0m \u001b[0;36m100\u001b[0m\u001b[0;34m\u001b[0m\u001b[0m\n\u001b[0m\u001b[1;32m      3\u001b[0m \u001b[0;32mprint\u001b[0m\u001b[0;34m(\u001b[0m\u001b[0mexample_tuple\u001b[0m\u001b[0;34m)\u001b[0m\u001b[0;34m\u001b[0m\u001b[0m\n",
      "\u001b[0;31mTypeError\u001b[0m: 'tuple' object does not support item assignment"
     ]
    }
   ],
   "source": [
    "example_tuple =  (1, 2, 3)\n",
    "example_tuple[0] = 100\n",
    "print(example_tuple)"
   ]
  },
  {
   "cell_type": "markdown",
   "metadata": {
    "slideshow": {
     "slide_type": "slide"
    }
   },
   "source": [
    "### Understand mutability with the id() function\n",
    "\n",
    "id(x) returns x's memory address"
   ]
  },
  {
   "cell_type": "code",
   "execution_count": 18,
   "metadata": {
    "slideshow": {
     "slide_type": "slide"
    }
   },
   "outputs": [
    {
     "name": "stdout",
     "output_type": "stream",
     "text": [
      "3\n"
     ]
    }
   ],
   "source": [
    "number = 1\n",
    "number += 2\n",
    "print(number)"
   ]
  },
  {
   "cell_type": "code",
   "execution_count": 19,
   "metadata": {
    "slideshow": {
     "slide_type": "slide"
    }
   },
   "outputs": [
    {
     "name": "stdout",
     "output_type": "stream",
     "text": [
      "140535269452792\n",
      "140535269452744\n"
     ]
    }
   ],
   "source": [
    "number = 1\n",
    "print(id(number))\n",
    "\n",
    "number += 2\n",
    "print(id(number))"
   ]
  },
  {
   "cell_type": "code",
   "execution_count": 20,
   "metadata": {
    "slideshow": {
     "slide_type": "slide"
    }
   },
   "outputs": [
    {
     "name": "stdout",
     "output_type": "stream",
     "text": [
      "[1, 2, 3] is at 4667504184\n",
      "[100, 2, 3] is at 4667504184\n",
      "[100, 2, 3]\n",
      "4667504184\n",
      "[1, 2, 3]\n"
     ]
    }
   ],
   "source": [
    "example_list = [1, 2, 3]\n",
    "print('{list_} is at {location}'.format(list_= example_list, \n",
    "                                        location = id(example_list)))\n",
    "\n",
    "example_list[0] = 100\n",
    "print('{} is at {}'.format(example_list, id(example_list)))\n",
    "\n",
    "print(example_list)\n",
    "new_guy = example_list\n",
    "\n",
    "print(id(new_guy))\n",
    "new_guy[0] = 1\n",
    "\n",
    "print(example_list)"
   ]
  },
  {
   "cell_type": "markdown",
   "metadata": {
    "slideshow": {
     "slide_type": "slide"
    }
   },
   "source": [
    "!!! __(see polls 3-6)__ !!!"
   ]
  },
  {
   "cell_type": "markdown",
   "metadata": {
    "slideshow": {
     "slide_type": "slide"
    }
   },
   "source": [
    "# Functions\n",
    "\n",
    "A function is a reusable bit of code."
   ]
  },
  {
   "cell_type": "code",
   "execution_count": 21,
   "metadata": {
    "slideshow": {
     "slide_type": "slide"
    }
   },
   "outputs": [
    {
     "name": "stdout",
     "output_type": "stream",
     "text": [
      "--------------------------------------------------\n",
      "Team Ducks #wins: 4 #losses: 5 #ties: 8\n",
      "--------------------------------------------------\n",
      "\n",
      "--------------------------------------------------\n",
      "Team Bears #wins: 9 #losses: 1 #ties: 7\n",
      "--------------------------------------------------\n",
      "\n",
      "--------------------------------------------------\n",
      "Team Bulls #wins: 1 #losses: 13 #ties: 3\n",
      "--------------------------------------------------\n",
      "\n"
     ]
    }
   ],
   "source": [
    "# WITHOUT using a function:\n",
    "\n",
    "result1 = ('Ducks', 4, 5, 8)\n",
    "print '-' * 50\n",
    "print \"Team\", result1[0],\n",
    "print \"#wins:\", result1[1],\n",
    "print \"#losses:\", result1[2],\n",
    "print \"#ties:\", result1[3]\n",
    "print '-' * 50 + '\\n'\n",
    "\n",
    "result2 = ('Bears', 9, 1, 7)\n",
    "print '-' * 50\n",
    "print \"Team\", result2[0],\n",
    "print \"#wins:\", result2[1],\n",
    "print \"#losses:\", result2[2],\n",
    "print \"#ties:\", result2[3]\n",
    "print '-' * 50 + '\\n'\n",
    "\n",
    "result3 = ('Bulls', 1, 13, 3)\n",
    "print '-' * 50\n",
    "print \"Team\", result3[0],\n",
    "print \"#wins:\", result3[1],\n",
    "print \"#losses:\", result3[2],\n",
    "print \"#ties:\", result3[3]\n",
    "print '-' * 50 + '\\n'"
   ]
  },
  {
   "cell_type": "code",
   "execution_count": 22,
   "metadata": {},
   "outputs": [
    {
     "name": "stdout",
     "output_type": "stream",
     "text": [
      "--------------------------------------------------\n",
      "Team Ducks #wins: 4 #losses: 5 #ties: 8\n",
      "--------------------------------------------------\n",
      "\n",
      "--------------------------------------------------\n",
      "Team Bears #wins: 9 #losses: 1 #ties: 7\n",
      "--------------------------------------------------\n",
      "\n",
      "--------------------------------------------------\n",
      "Team Bulls #wins: 1 #losses: 13 #ties: 3\n",
      "--------------------------------------------------\n",
      "\n"
     ]
    }
   ],
   "source": [
    "# WITH using a function:\n",
    "\n",
    "def print_summary(result):\n",
    "    print '-' * 50\n",
    "    print \"Team\", result[0],\n",
    "    print \"#wins:\", result[1],\n",
    "    print \"#losses:\", result[2],\n",
    "    print \"#ties:\", result[3]\n",
    "    print '-' * 50 + '\\n'\n",
    "\n",
    "result1 = ('Ducks', 4, 5, 8)\n",
    "print_summary(result1)\n",
    "\n",
    "result2 = ('Bears', 9, 1, 7)\n",
    "print_summary(result2)\n",
    "\n",
    "result3 = ('Bulls', 1, 13, 3)\n",
    "print_summary(result3)"
   ]
  },
  {
   "cell_type": "markdown",
   "metadata": {
    "slideshow": {
     "slide_type": "slide"
    }
   },
   "source": [
    "## Follow the D.R.Y principle: Don't Repeat Yourself!\n",
    "\n",
    "Use functions to avoid repeated code."
   ]
  },
  {
   "cell_type": "markdown",
   "metadata": {
    "slideshow": {
     "slide_type": "slide"
    }
   },
   "source": [
    "## Functions are \"first class\" objects in Python.\n",
    "\n",
    "* They can be passed as arguments to other functions.\n",
    "* They can be returned as vales from other functions.\n",
    "* Can be assigned to variables.\n",
    "* Can be stored in other data structures.\n",
    "* Their type is \"function\"."
   ]
  },
  {
   "cell_type": "code",
   "execution_count": 23,
   "metadata": {},
   "outputs": [
    {
     "name": "stdout",
     "output_type": "stream",
     "text": [
      "I am BAR!\n",
      "I am FOO!\n",
      "<type 'function'>\n"
     ]
    }
   ],
   "source": [
    "def foo():\n",
    "    print 'I am FOO!'\n",
    "    \n",
    "def bar(some_func):\n",
    "    print 'I am BAR!'\n",
    "    some_func()\n",
    "    \n",
    "bar(foo)\n",
    "\n",
    "print type(bar)"
   ]
  },
  {
   "cell_type": "code",
   "execution_count": 24,
   "metadata": {},
   "outputs": [
    {
     "name": "stdout",
     "output_type": "stream",
     "text": [
      "17\n"
     ]
    }
   ],
   "source": [
    "# Returning an object from a function:\n",
    "\n",
    "def sum_list(lst):\n",
    "    s = 0\n",
    "    for v in lst:\n",
    "        s += v\n",
    "    return s\n",
    "\n",
    "print sum_list([3, 5, 9])"
   ]
  },
  {
   "cell_type": "code",
   "execution_count": 26,
   "metadata": {},
   "outputs": [
    {
     "name": "stdout",
     "output_type": "stream",
     "text": [
      "(-1, 10)\n",
      "None\n"
     ]
    }
   ],
   "source": [
    "# Returning multiple objects from a function (by putting them into a tuple):\n",
    "\n",
    "def min_and_max(lst):\n",
    "    if not list:\n",
    "        return None\n",
    "    min_v, max_v = lst[0], lst[0]\n",
    "    for v in lst:\n",
    "        min_v = min(min_v, v)\n",
    "        max_v = max(max_v, v)\n",
    "    print(min_v, max_v)\n",
    "\n",
    "print min_and_max([9, -1, 3, 10, 8])"
   ]
  },
  {
   "cell_type": "code",
   "execution_count": 29,
   "metadata": {},
   "outputs": [
    {
     "name": "stdout",
     "output_type": "stream",
     "text": [
      "not here\n"
     ]
    }
   ],
   "source": [
    "t = None\n",
    "\n",
    "if t:\n",
    "    print('here')\n",
    "    \n",
    "else:\n",
    "    print('not here')"
   ]
  },
  {
   "cell_type": "markdown",
   "metadata": {},
   "source": [
    "# End of morning material\n",
    "\n",
    "- show students their morning exercise\n",
    "\n",
    "___"
   ]
  },
  {
   "cell_type": "markdown",
   "metadata": {},
   "source": [
    "# Begining of afternoon material\n",
    "\n",
    "1. go over student solutions (any brave students out there?)\n",
    "2. show solutions repo (and go over the morning solutions)\n",
    "\n",
    "___"
   ]
  },
  {
   "cell_type": "markdown",
   "metadata": {
    "slideshow": {
     "slide_type": "slide"
    }
   },
   "source": [
    "# Creating Modules\n",
    "\n",
    "* Use a module to store functions that you want to reuse.\n",
    "* Make a single \"main\" module that imports and runs your code.\n",
    "* Run your code inside a \"main\" block."
   ]
  },
  {
   "cell_type": "code",
   "execution_count": null,
   "metadata": {
    "collapsed": true,
    "slideshow": {
     "slide_type": "slide"
    }
   },
   "outputs": [],
   "source": [
    "# 2 ways of importing\n",
    "from my_module import foo, bar\n",
    "\n",
    "print(foo(1, 2))\n",
    "print(bar(3, 4, 5))\n",
    "\n",
    "# OR\n",
    "\n",
    "import my_module\n",
    "\n",
    "print(my_module.foo(1, 2))\n",
    "print(my_module.bar(3, 4, 5))"
   ]
  },
  {
   "cell_type": "code",
   "execution_count": null,
   "metadata": {
    "collapsed": true,
    "slideshow": {
     "slide_type": "slide"
    }
   },
   "outputs": [],
   "source": [
    "# importing from script.py executes the whole file\n",
    "from script import foo"
   ]
  },
  {
   "cell_type": "code",
   "execution_count": null,
   "metadata": {
    "collapsed": true,
    "slideshow": {
     "slide_type": "slide"
    }
   },
   "outputs": [],
   "source": [
    "# script2.py is still executed, but foo() and bar() aren't called,\n",
    "# because __name__ != '__main__'\n",
    "from script2 import foo"
   ]
  },
  {
   "cell_type": "markdown",
   "metadata": {
    "slideshow": {
     "slide_type": "slide"
    }
   },
   "source": [
    "!!! __(see poll questions 1 and 2)__ !!!\n",
    "\n",
    "___"
   ]
  },
  {
   "cell_type": "markdown",
   "metadata": {},
   "source": [
    "# Docstrings"
   ]
  },
  {
   "cell_type": "code",
   "execution_count": null,
   "metadata": {
    "collapsed": true,
    "scrolled": false
   },
   "outputs": [],
   "source": [
    "#Can be done a number of ways\n",
    "\n",
    "#The handy help function returns information about the entire files and functions/classes within\n",
    "print(help(my_module))\n",
    "\n",
    "#This will return the doc string at the top of the file\n",
    "print(my_module.__doc__)"
   ]
  },
  {
   "cell_type": "code",
   "execution_count": null,
   "metadata": {
    "collapsed": true
   },
   "outputs": [],
   "source": [
    "#Can be done with just functions too\n",
    "print(help(foo))\n",
    "print(my_module.foo.__doc__)"
   ]
  },
  {
   "cell_type": "code",
   "execution_count": null,
   "metadata": {
    "collapsed": true
   },
   "outputs": [],
   "source": [
    "#A nifty iPython trick!\n",
    "# Put your cursor between the parenthesis below, and press shift-tab:\n",
    "foo()"
   ]
  },
  {
   "cell_type": "markdown",
   "metadata": {
    "slideshow": {
     "slide_type": "slide"
    }
   },
   "source": [
    "# String Formatting\n",
    "\n",
    "How to dynamically generate strings?  \n",
    "\n",
    "\"My name is ___ \" ==> \"My name is Ryan\""
   ]
  },
  {
   "cell_type": "markdown",
   "metadata": {
    "slideshow": {
     "slide_type": "slide"
    }
   },
   "source": [
    "## Method 1: str.format (the CORRECT way)"
   ]
  },
  {
   "cell_type": "code",
   "execution_count": null,
   "metadata": {
    "collapsed": true,
    "slideshow": {
     "slide_type": "slide"
    }
   },
   "outputs": [],
   "source": [
    "my_string = 'My name is {name} and my favorite color is {color}.'\n",
    "\n",
    "print(my_string.format(name='Skylar', color='Green'))\n",
    "print(my_string.format(name='Aniket', color='Blue'))\n",
    "print(my_string.format(name='Violet', color='Black'))"
   ]
  },
  {
   "cell_type": "code",
   "execution_count": 34,
   "metadata": {
    "slideshow": {
     "slide_type": "slide"
    }
   },
   "outputs": [
    {
     "name": "stdout",
     "output_type": "stream",
     "text": [
      "I live in Phoenix near Downtown.\n",
      "I live in Phoenix near Downtown.\n"
     ]
    }
   ],
   "source": [
    "print('I live in {0} near {1}.'.format('Phoenix', 'Downtown'))\n",
    "#OR \n",
    "print('I live in {city} near {area}.'.format(city = 'Phoenix', \n",
    "                                             area='Downtown'))"
   ]
  },
  {
   "cell_type": "code",
   "execution_count": 38,
   "metadata": {},
   "outputs": [
    {
     "name": "stdout",
     "output_type": "stream",
     "text": [
      "I live in Phoenix near Downtown.\n"
     ]
    }
   ],
   "source": [
    "def print_city_area(city, area):\n",
    "    print('I live in {city} near {area}.'.format(city=city, \n",
    "                                                 area=area))\n",
    "    \n",
    "print_city_area(city='Phoenix', area = 'Downtown')"
   ]
  },
  {
   "cell_type": "code",
   "execution_count": 43,
   "metadata": {},
   "outputs": [
    {
     "name": "stdout",
     "output_type": "stream",
     "text": [
      "hey \n",
      " how are you?\n",
      "()\n",
      "hey \\n how are you?\n"
     ]
    }
   ],
   "source": [
    "print('hey \\n how are you?')\n",
    "print()\n",
    "print(r'hey \\n how are you?')"
   ]
  },
  {
   "cell_type": "markdown",
   "metadata": {
    "slideshow": {
     "slide_type": "slide"
    }
   },
   "source": [
    "## Method 2: '%' (the OLD way) -- please don't use this"
   ]
  },
  {
   "cell_type": "code",
   "execution_count": null,
   "metadata": {
    "collapsed": true,
    "slideshow": {
     "slide_type": "slide"
    }
   },
   "outputs": [],
   "source": [
    "print('This is how to format a %s.' % 'string')"
   ]
  },
  {
   "cell_type": "code",
   "execution_count": null,
   "metadata": {
    "collapsed": true,
    "slideshow": {
     "slide_type": "slide"
    }
   },
   "outputs": [],
   "source": [
    "print('You can use more than %d %s in your %s.' % (1, 'argument', 'string'))"
   ]
  },
  {
   "cell_type": "markdown",
   "metadata": {
    "slideshow": {
     "slide_type": "slide"
    }
   },
   "source": [
    "'%s' uses str(arg) to convert the argument to a string.\n",
    "\n",
    "See other variants here: https://docs.python.org/2/library/stdtypes.html#string-formatting"
   ]
  },
  {
   "cell_type": "markdown",
   "metadata": {
    "slideshow": {
     "slide_type": "slide"
    }
   },
   "source": [
    "!!! __(see polls 7-9)__ !!!"
   ]
  },
  {
   "cell_type": "markdown",
   "metadata": {},
   "source": [
    "# Building a large string"
   ]
  },
  {
   "cell_type": "code",
   "execution_count": null,
   "metadata": {
    "collapsed": true
   },
   "outputs": [],
   "source": [
    "lst = []\n",
    "\n",
    "for i in range(1, 10):\n",
    "    line = \"The number {} comes before the number {}.\".format(i-1, i)\n",
    "    lst.append(line)\n",
    "\n",
    "big_string = \"\\n\".join(lst)\n",
    "\n",
    "print(big_string)"
   ]
  },
  {
   "cell_type": "markdown",
   "metadata": {
    "slideshow": {
     "slide_type": "slide"
    }
   },
   "source": [
    "# File I/O\n",
    "\n",
    "We often want to use the contents of a file in our code.\n",
    "\n",
    "For example, data is often stored in text files.\n",
    "\n",
    "This section explains how to work with files."
   ]
  },
  {
   "cell_type": "markdown",
   "metadata": {
    "slideshow": {
     "slide_type": "slide"
    }
   },
   "source": [
    "### sample.txt:\n",
    "\n",
    "1234\n",
    "\n",
    "5678\n",
    "\n",
    "ABCD\n",
    "\n",
    "EFGH"
   ]
  },
  {
   "cell_type": "markdown",
   "metadata": {
    "slideshow": {
     "slide_type": "slide"
    }
   },
   "source": [
    "## Opening and Reading Files\n",
    "\n",
    "Use the `open()` function. The `open()` function is a build-in python function."
   ]
  },
  {
   "cell_type": "code",
   "execution_count": null,
   "metadata": {
    "collapsed": true,
    "slideshow": {
     "slide_type": "slide"
    }
   },
   "outputs": [],
   "source": [
    "f = open('sample_file.txt')\n",
    "print(f)"
   ]
  },
  {
   "cell_type": "code",
   "execution_count": null,
   "metadata": {
    "collapsed": true,
    "slideshow": {
     "slide_type": "slide"
    }
   },
   "outputs": [],
   "source": [
    "print(f.read())"
   ]
  },
  {
   "cell_type": "markdown",
   "metadata": {
    "slideshow": {
     "slide_type": "slide"
    }
   },
   "source": [
    "## Q: What if the file is too large to fit in memory?\n",
    "## A: Handle the file one line at a time\n",
    "\n",
    "Iterate over the file object  \n",
    "\n",
    "\"for line in my_file\"\n",
    "\n",
    "This is the preferred way to deal with files, because it's memory efficient."
   ]
  },
  {
   "cell_type": "code",
   "execution_count": null,
   "metadata": {
    "collapsed": true,
    "slideshow": {
     "slide_type": "slide"
    }
   },
   "outputs": [],
   "source": [
    "my_file = open('sample_file.txt')\n",
    "for line in my_file:\n",
    "    print('Current line:', line)\n",
    "    # 'line' is discarded from memory\n",
    "    # after each iteration of loop"
   ]
  },
  {
   "cell_type": "markdown",
   "metadata": {
    "slideshow": {
     "slide_type": "slide"
    }
   },
   "source": [
    "## File generators\n",
    "\n",
    "Note: open file is a \"generator\" object.  \n",
    "\n",
    "Once a line is read, it can't be re-read\n",
    "without reopening the file."
   ]
  },
  {
   "cell_type": "code",
   "execution_count": null,
   "metadata": {
    "collapsed": true,
    "slideshow": {
     "slide_type": "slide"
    }
   },
   "outputs": [],
   "source": [
    "my_file = open('sample_file.txt')\n",
    "\n",
    "print('first iteration:')\n",
    "print([line for line in my_file])\n",
    "\n",
    "print()\n",
    "\n",
    "print('second iteration')\n",
    "print([line for line in my_file])"
   ]
  },
  {
   "cell_type": "markdown",
   "metadata": {
    "slideshow": {
     "slide_type": "slide"
    }
   },
   "source": [
    "## Closing Files\n",
    "\n",
    "### 2 Methods:\n",
    "1. file.close\n",
    "2. 'with' statement"
   ]
  },
  {
   "cell_type": "code",
   "execution_count": null,
   "metadata": {
    "collapsed": true,
    "slideshow": {
     "slide_type": "slide"
    }
   },
   "outputs": [],
   "source": [
    "# You should always close the files you open. There is a limit to the number of open\n",
    "# files your program can have. If your program reads a lot of files, and if you don't\n",
    "# close them properly, you will eventually reach your limit and the OS will kill your\n",
    "# program!\n",
    "\n",
    "my_file = open('sample_file.txt')\n",
    "contents = my_file.read()\n",
    "my_file.close()\n",
    "print(my_file)"
   ]
  },
  {
   "cell_type": "markdown",
   "metadata": {
    "slideshow": {
     "slide_type": "slide"
    }
   },
   "source": [
    "### Programming gotcha: What if there's an error before my_file.close()? Or what if you just forget to close the file?\n",
    "\n",
    "It's easier to forget to close a file than you might think. Here's an example:"
   ]
  },
  {
   "cell_type": "code",
   "execution_count": null,
   "metadata": {
    "collapsed": true
   },
   "outputs": [],
   "source": [
    "# What's wrong with the function below?\n",
    "\n",
    "def read_stuff(filename):\n",
    "    results = []\n",
    "    f = open(filename)\n",
    "\n",
    "    for line in f:\n",
    "        parts = line.split()\n",
    "        if len(parts) < 3:\n",
    "            return None      # <-- this indicates to the caller that the file is not valid\n",
    "        results.append(parts[2])\n",
    "\n",
    "    f.close()\n",
    "    return results\n",
    "\n",
    "print(read_stuff(\"sample_file.txt\"))"
   ]
  },
  {
   "cell_type": "code",
   "execution_count": null,
   "metadata": {
    "collapsed": true
   },
   "outputs": [],
   "source": [
    "os.remove(\"sample_file.txt\")"
   ]
  },
  {
   "cell_type": "code",
   "execution_count": null,
   "metadata": {
    "collapsed": true,
    "slideshow": {
     "slide_type": "slide"
    }
   },
   "outputs": [],
   "source": [
    "# Fix with\n",
    "def read_stuff(filename):\n",
    "    results = []\n",
    "    with open(filename) as f:\n",
    "\n",
    "        for line in f:\n",
    "            parts = line.split()\n",
    "            if len(parts) < 3:\n",
    "                return None      # <-- this indicates to the caller that the file is not valid\n",
    "            results.append(parts[2])\n",
    "\n",
    "    return results\n",
    "\n",
    "print(read_stuff(\"sample_file.txt\"))    # <-- File leak. Where?"
   ]
  },
  {
   "cell_type": "markdown",
   "metadata": {
    "slideshow": {
     "slide_type": "slide"
    }
   },
   "source": [
    "## Writing files\n",
    "\n",
    "Use open(filename, 'w')\n",
    "\n",
    "See details: https://docs.python.org/2/library/functions.html#open  \n",
    "Review difference between 'r', 'rb', 'w', 'wb' in open()"
   ]
  },
  {
   "cell_type": "code",
   "execution_count": null,
   "metadata": {
    "collapsed": true,
    "slideshow": {
     "slide_type": "slide"
    }
   },
   "outputs": [],
   "source": [
    "lines_to_write = ['abcd\\n', '1234\\n']\n",
    "\n",
    "with open('file_to_write.txt', 'w') as my_file:\n",
    "    for line in lines_to_write:\n",
    "        my_file.write(line)\n",
    "    \n",
    "with open('file_to_write.txt') as my_file:\n",
    "    print(my_file.read())"
   ]
  },
  {
   "cell_type": "code",
   "execution_count": null,
   "metadata": {
    "collapsed": true,
    "slideshow": {
     "slide_type": "slide"
    }
   },
   "outputs": [],
   "source": [
    "# can also append to end of files using open(filename, 'a')\n",
    "\n",
    "lines_to_append = ['1357\\n', '2468\\n']\n",
    "with open('file_to_write.txt', 'a') as my_file:\n",
    "    for line in lines_to_append:\n",
    "        my_file.write(line)\n",
    "    \n",
    "with open('file_to_write.txt') as my_file:\n",
    "    print my_file.read()"
   ]
  },
  {
   "cell_type": "markdown",
   "metadata": {
    "collapsed": true
   },
   "source": [
    "## sample_csv.csv\n",
    "1,2,3,4  \n",
    "5,6,7,8"
   ]
  },
  {
   "cell_type": "code",
   "execution_count": null,
   "metadata": {
    "collapsed": true,
    "slideshow": {
     "slide_type": "slide"
    }
   },
   "outputs": [],
   "source": [
    "import csv\n",
    "\n",
    "with open('sample_csv.csv') as my_file:\n",
    "    reader = csv.reader(my_file)\n",
    "    for line in reader:\n",
    "        print(line)"
   ]
  },
  {
   "cell_type": "markdown",
   "metadata": {
    "slideshow": {
     "slide_type": "slide"
    }
   },
   "source": [
    "!!! __(see poll 10)__ !!!"
   ]
  },
  {
   "cell_type": "code",
   "execution_count": null,
   "metadata": {
    "collapsed": true
   },
   "outputs": [],
   "source": [
    "# OR do it manually (sometimes you need to do it manually if your file has a funky format)\n",
    "\n",
    "with open('sample_csv.csv') as my_file:\n",
    "    for line in my_file:\n",
    "        line = line.strip()\n",
    "        parts = line.split(',')\n",
    "        print(parts)"
   ]
  },
  {
   "cell_type": "code",
   "execution_count": null,
   "metadata": {
    "collapsed": true
   },
   "outputs": [],
   "source": []
  }
 ],
 "metadata": {
  "kernelspec": {
   "display_name": "Python 2",
   "language": "python",
   "name": "python2"
  },
  "language_info": {
   "codemirror_mode": {
    "name": "ipython",
    "version": 2
   },
   "file_extension": ".py",
   "mimetype": "text/x-python",
   "name": "python",
   "nbconvert_exporter": "python",
   "pygments_lexer": "ipython2",
   "version": "2.7.13"
  }
 },
 "nbformat": 4,
 "nbformat_minor": 1
}
