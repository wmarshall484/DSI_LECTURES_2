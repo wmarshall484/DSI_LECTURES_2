{
 "cells": [
  {
   "cell_type": "markdown",
   "metadata": {
    "slideshow": {
     "slide_type": "slide"
    }
   },
   "source": [
    "# Python Workshop\n",
    "\n",
    "This workshop will review Python fundamentals and prepare you for Galvanize's DSI.\n",
    "\n",
    "This workshop is not officially part of the DSI course. As such:\n",
    "- It is optional.\n",
    "- There are no assessments.\n",
    "- It is super chill.\n",
    "- We will move slower than a typical DSI week.\n",
    "- Some parts of this week will be repeated during DSI Week 1.\n",
    "- This gives you a chance to __practice__ using Python. (You'll learn the most during this week's exercises.)"
   ]
  },
  {
   "cell_type": "markdown",
   "metadata": {
    "slideshow": {
     "slide_type": "slide"
    }
   },
   "source": [
    "# Topics\n",
    "\n",
    "### Day 1\n",
    "\n",
    "Workflow:\n",
    "\n",
    "* CLI\n",
    "* `git` and GitHub\n",
    "* Atom + CLI\n",
    "* Jupyter\n",
    "\n",
    "Python:\n",
    "\n",
    "* Types\n",
    "* Functions\n",
    "* Modules\n",
    "* String Formatting\n",
    "* File I/O"
   ]
  },
  {
   "cell_type": "markdown",
   "metadata": {},
   "source": [
    "# Command-line Interface (CLI)\n",
    "\n",
    "Live demo of a _small_ sampling of the things you can do in a shell (e.g. in `bash`, `sh` or `zsh`).\n",
    "\n",
    "- `pwd`\n",
    "- `ls`\n",
    "- `cd`\n",
    "- `mkdir`\n",
    "- `cp`\n",
    "- `touch`\n",
    "- `nano`\n",
    "- `vim`\n",
    "- `cat`\n",
    "- `rm`\n",
    "- `python`\n",
    "- `man`\n",
    "- `open` (if on a Mac)"
   ]
  },
  {
   "cell_type": "markdown",
   "metadata": {},
   "source": [
    "# Git + GitHub\n",
    "\n",
    "What is the difference?\n",
    "\n",
    "Let's clone the `python-workshop` repository (aka, \"repo\").\n",
    "\n",
    "1. Open `Terminal`.\n",
    "2. `cd Desktop`\n",
    "3. `git clone https://github.com/gSchool/dsi-python-workshop.git`\n",
    "4. `cd dsi-python-workshop`\n",
    "5. `ls -al`"
   ]
  },
  {
   "cell_type": "markdown",
   "metadata": {},
   "source": [
    "# Atom + CLI\n",
    "\n",
    "Live demo!"
   ]
  },
  {
   "cell_type": "markdown",
   "metadata": {},
   "source": [
    "# Jupyter\n",
    "\n",
    "Live demo!"
   ]
  },
  {
   "cell_type": "markdown",
   "metadata": {
    "slideshow": {
     "slide_type": "slide"
    }
   },
   "source": [
    "# Types\n",
    "\n",
    "| __type__ | __example__     |\n",
    "|------|----------------------|\n",
    "| int   | 7 |\n",
    "| float | 3.14159 |\n",
    "| str   | 'ryan' |\n",
    "| tuple | (1, 'a', 5.0) |\n",
    "| list  | [1, 3, 5, 7] |\n",
    "| dict  | {'a' : 1, 'b' : 2} |\n",
    "| set   | {1, 2, 3} |\n"
   ]
  },
  {
   "cell_type": "markdown",
   "metadata": {},
   "source": [
    "## Quick note about python 2.7 vs 3.X\n",
    "\n",
    "Print and Division are different between 2 and 3 -- to prepare for 3 let's always put this in our code"
   ]
  },
  {
   "cell_type": "code",
   "execution_count": null,
   "metadata": {
    "collapsed": true
   },
   "outputs": [],
   "source": [
    "from __future__ import print_function, division"
   ]
  },
  {
   "cell_type": "markdown",
   "metadata": {},
   "source": [
    "## Building `int` and `float` objects:"
   ]
  },
  {
   "cell_type": "code",
   "execution_count": null,
   "metadata": {},
   "outputs": [],
   "source": [
    "a = 4       # <-- creates an 'int' object with the value 4\n",
    "b = 5.1     # <-- creates a 'float' object with the value 5.1\n",
    "c = 4.      # <-- creates a 'float' object with the value 4.0\n",
    "print(a)\n",
    "print(b)\n",
    "print(c)\n",
    "print()\n",
    "\n",
    "x = a * 3   # <-- Is x an int or a float?\n",
    "print(x)\n",
    "\n",
    "x = a * 3.  # <-- Is x an int or a float?\n",
    "print(x)\n",
    "\n",
    "x = a * b   # <-- Is x an int or a float?\n",
    "print(x)\n",
    "\n",
    "x = a * c   # <-- Is x an int or a float?\n",
    "print(x)"
   ]
  },
  {
   "cell_type": "markdown",
   "metadata": {},
   "source": [
    "## Building `str` objects:"
   ]
  },
  {
   "cell_type": "code",
   "execution_count": null,
   "metadata": {},
   "outputs": [],
   "source": [
    "a = 'ryan'\n",
    "b = 'dash'\n",
    "c = 'violet'\n",
    "s = ' '\n",
    "print(a)\n",
    "print(b)\n",
    "print(c)\n",
    "print()\n",
    "\n",
    "d = a + s + b\n",
    "print(d)\n",
    "\n",
    "# We'll see more ways to build string objects later on in this notebook."
   ]
  },
  {
   "cell_type": "markdown",
   "metadata": {},
   "source": [
    "## Building `tuple` objects:"
   ]
  },
  {
   "cell_type": "code",
   "execution_count": null,
   "metadata": {},
   "outputs": [],
   "source": [
    "# You can declare tuples using parentheses around literals or around existing variables:\n",
    "\n",
    "my_tuple = ('bob', 3.14, 7)\n",
    "print(my_tuple)\n",
    "print()\n",
    "\n",
    "my_other_tuple = (a, b, x, 'yay!')\n",
    "print(my_other_tuple)\n",
    "print()\n",
    "\n",
    "# BTW, you can access the parts of a tupe using array indexing:\n",
    "print(my_tuple[0])\n",
    "print(my_tuple[1])\n",
    "print(my_tuple[2])"
   ]
  },
  {
   "cell_type": "markdown",
   "metadata": {},
   "source": [
    "## Building `list` objects:"
   ]
  },
  {
   "cell_type": "code",
   "execution_count": null,
   "metadata": {},
   "outputs": [],
   "source": [
    "# range() returns a list:\n",
    "my_list = range(10)\n",
    "print(my_list)\n",
    "\n",
    "tuple(my_list)\n",
    "\n",
    "import pandas as pd"
   ]
  },
  {
   "cell_type": "code",
   "execution_count": null,
   "metadata": {},
   "outputs": [],
   "source": [
    "# This is how you declare a list literal:\n",
    "my_list = [3, 5, 1, 0]\n",
    "print(my_list)"
   ]
  },
  {
   "cell_type": "code",
   "execution_count": null,
   "metadata": {},
   "outputs": [],
   "source": [
    "# Be pythonic: here's an example of list conprehension for building a list of squared values:\n",
    "squared_list = [x*x for x in my_list]\n",
    "print(squared_list)"
   ]
  },
  {
   "cell_type": "code",
   "execution_count": null,
   "metadata": {},
   "outputs": [],
   "source": [
    "##The list comprehension above looks a little intimidating, let's break it down to a normal for loop\n",
    "new_squared_list = []\n",
    "for x in my_list:\n",
    "    new_squared_list.append(x*x)\n",
    "print(new_squared_list)"
   ]
  },
  {
   "cell_type": "markdown",
   "metadata": {},
   "source": [
    "## Iterable types\n",
    "\n",
    "Many types in python are \"iterable\". We've already spoken of three iterable types: `str`, `tuple`, and `list`.\n",
    "\n",
    "You can iterate through any iterable type using the basic `for` loop control structure:"
   ]
  },
  {
   "cell_type": "code",
   "execution_count": null,
   "metadata": {},
   "outputs": [],
   "source": [
    "my_string = 'summer is hot'\n",
    "for character in my_string:\n",
    "    print(character)"
   ]
  },
  {
   "cell_type": "code",
   "execution_count": null,
   "metadata": {},
   "outputs": [],
   "source": [
    "my_tuple = (1, 2, 7)\n",
    "for item in my_tuple:\n",
    "    print(item)"
   ]
  },
  {
   "cell_type": "code",
   "execution_count": null,
   "metadata": {},
   "outputs": [],
   "source": [
    "my_list = ['bob', 8, 3.14]\n",
    "for item in my_list:\n",
    "    print(item)"
   ]
  },
  {
   "cell_type": "markdown",
   "metadata": {
    "slideshow": {
     "slide_type": "slide"
    }
   },
   "source": [
    "## You can check the type of object\n",
    "\n",
    "* using `type(some_object)`\n",
    "* using `isinstance(some_object, some_type)`"
   ]
  },
  {
   "cell_type": "code",
   "execution_count": null,
   "metadata": {
    "slideshow": {
     "slide_type": "slide"
    }
   },
   "outputs": [],
   "source": [
    "my_string = 'abc'\n",
    "my_integer = 123\n",
    "\n",
    "print('object: ', my_string)\n",
    "print(type(my_string))\n",
    "print('Is string?',isinstance(my_string, str))\n",
    "print()\n",
    "print('object:', my_integer)\n",
    "print(type(my_integer))\n",
    "print('Is integer?', isinstance(my_integer, int))\n",
    "print('Is float?', isinstance(my_integer, float))\n",
    "print('Is integer or float?', isinstance(my_integer, (int, float))) # can check more than one type"
   ]
  },
  {
   "cell_type": "markdown",
   "metadata": {},
   "source": [
    "## Heads-up: We'll learn how to create our own types on Thursday!\n",
    "\n",
    "We'll learn how to declare _classes_ which become new variable _types_ that you can use in your program."
   ]
  },
  {
   "cell_type": "markdown",
   "metadata": {},
   "source": [
    "## Python is \"dynamically typed\"\n",
    "\n",
    "If you care about the details, read: https://en.wikipedia.org/wiki/Type_system"
   ]
  },
  {
   "cell_type": "code",
   "execution_count": null,
   "metadata": {},
   "outputs": [],
   "source": [
    "x = 1\n",
    "print(x)\n",
    "print(type(x))\n",
    "print()\n",
    "\n",
    "x = 'abc'\n",
    "print(x)\n",
    "print(type(x))\n",
    "print()"
   ]
  },
  {
   "cell_type": "code",
   "execution_count": null,
   "metadata": {},
   "outputs": [],
   "source": [
    "# Dynamically typed isn't aways good. It means you'll get more runtime errors.\n",
    "\n",
    "my_list = [1, 2, 3, 4]   # <-- seems reasonable at this point... but...\n",
    "#\n",
    "# ... a bunch of code runs here... a bunch of work is done.\n",
    "#\n",
    "print(\"WORKING HARD... DOING STUFF...\")\n",
    "\n",
    "#\n",
    "# ... more code goes here... more work is done.\n",
    "#\n",
    "print(\"I hope we don't crash or we'll have to start all this work over again.\")\n",
    "\n",
    "#\n",
    "# ... now we do something bad by accident.\n",
    "#\n",
    "my_list = 4    # <-- We're putting the integer 4 into a variable named 'my_list'.\n",
    "               #     This might not end well...\n",
    "\n",
    "\n",
    "# Now we do this. This SHOULD WORK? Right? Since my_list is a list, which is iterable???\n",
    "for item in my_list:\n",
    "    print(item)"
   ]
  },
  {
   "cell_type": "markdown",
   "metadata": {
    "slideshow": {
     "slide_type": "slide"
    }
   },
   "source": [
    "# Immutable vs Mutable Types\n",
    "\n",
    "## Immutable - can't be changed  \n",
    "* int 1, 2, -3\n",
    "* float 1.0, 2.5, 102342.32423\n",
    "* str 'abc'\n",
    "* tuple (1, 'a', 5.0)\n",
    "\n",
    "## Mutable - can be changed  \n",
    "* list [1, 3, 5, 7]\n",
    "* dict {'a' : 1, 'b' : 2}\n",
    "* set {1, 2, 3}\n"
   ]
  },
  {
   "cell_type": "code",
   "execution_count": null,
   "metadata": {
    "slideshow": {
     "slide_type": "slide"
    }
   },
   "outputs": [],
   "source": [
    "example_list = [1, 2, 3]\n",
    "example_list[0] = 100\n",
    "print(example_list)"
   ]
  },
  {
   "cell_type": "code",
   "execution_count": null,
   "metadata": {
    "slideshow": {
     "slide_type": "slide"
    }
   },
   "outputs": [],
   "source": [
    "example_tuple =  (1, 2, 3)\n",
    "example_tuple[0] = 100\n",
    "print(example_tuple)"
   ]
  },
  {
   "cell_type": "markdown",
   "metadata": {
    "slideshow": {
     "slide_type": "slide"
    }
   },
   "source": [
    "### Understand mutability with the id() function\n",
    "\n",
    "id(x) returns x's memory address"
   ]
  },
  {
   "cell_type": "code",
   "execution_count": null,
   "metadata": {
    "slideshow": {
     "slide_type": "slide"
    }
   },
   "outputs": [],
   "source": [
    "number = 1\n",
    "number += 2\n",
    "print(number)"
   ]
  },
  {
   "cell_type": "code",
   "execution_count": null,
   "metadata": {
    "slideshow": {
     "slide_type": "slide"
    }
   },
   "outputs": [],
   "source": [
    "number = 1\n",
    "print(id(number))\n",
    "\n",
    "number += 2\n",
    "print(id(number))"
   ]
  },
  {
   "cell_type": "code",
   "execution_count": null,
   "metadata": {
    "slideshow": {
     "slide_type": "slide"
    }
   },
   "outputs": [],
   "source": [
    "example_list = [1, 2, 3]\n",
    "print('{list_} is at {location}'.format(list_= example_list, \n",
    "                                        location = id(example_list)))\n",
    "\n",
    "example_list[0] = 100\n",
    "print('{} is at {}'.format(example_list, id(example_list)))\n",
    "\n",
    "print(example_list)\n",
    "new_guy = example_list\n",
    "\n",
    "print(id(new_guy))\n",
    "new_guy[0] = 1\n",
    "\n",
    "print(example_list)"
   ]
  },
  {
   "cell_type": "markdown",
   "metadata": {
    "slideshow": {
     "slide_type": "slide"
    }
   },
   "source": [
    "!!! __(see polls 3-6)__ !!!"
   ]
  },
  {
   "cell_type": "markdown",
   "metadata": {
    "slideshow": {
     "slide_type": "slide"
    }
   },
   "source": [
    "# Functions\n",
    "\n",
    "A function is a reusable bit of code."
   ]
  },
  {
   "cell_type": "code",
   "execution_count": null,
   "metadata": {
    "slideshow": {
     "slide_type": "slide"
    }
   },
   "outputs": [],
   "source": [
    "# WITHOUT using a function:\n",
    "\n",
    "result1 = ('Ducks', 4, 5, 8)\n",
    "print '-' * 50\n",
    "print \"Team\", result1[0],\n",
    "print \"#wins:\", result1[1],\n",
    "print \"#losses:\", result1[2],\n",
    "print \"#ties:\", result1[3]\n",
    "print '-' * 50 + '\\n'\n",
    "\n",
    "result2 = ('Bears', 9, 1, 7)\n",
    "print '-' * 50\n",
    "print \"Team\", result2[0],\n",
    "print \"#wins:\", result2[1],\n",
    "print \"#losses:\", result2[2],\n",
    "print \"#ties:\", result2[3]\n",
    "print '-' * 50 + '\\n'\n",
    "\n",
    "result3 = ('Bulls', 1, 13, 3)\n",
    "print '-' * 50\n",
    "print \"Team\", result3[0],\n",
    "print \"#wins:\", result3[1],\n",
    "print \"#losses:\", result3[2],\n",
    "print \"#ties:\", result3[3]\n",
    "print '-' * 50 + '\\n'"
   ]
  },
  {
   "cell_type": "code",
   "execution_count": null,
   "metadata": {},
   "outputs": [],
   "source": [
    "# WITH using a function:\n",
    "\n",
    "def print_summary(result):\n",
    "    print '-' * 50\n",
    "    print \"Team\", result[0],\n",
    "    print \"#wins:\", result[1],\n",
    "    print \"#losses:\", result[2],\n",
    "    print \"#ties:\", result[3]\n",
    "    print '-' * 50 + '\\n'\n",
    "\n",
    "result1 = ('Ducks', 4, 5, 8)\n",
    "print_summary(result1)\n",
    "\n",
    "result2 = ('Bears', 9, 1, 7)\n",
    "print_summary(result2)\n",
    "\n",
    "result3 = ('Bulls', 1, 13, 3)\n",
    "print_summary(result3)"
   ]
  },
  {
   "cell_type": "markdown",
   "metadata": {
    "slideshow": {
     "slide_type": "slide"
    }
   },
   "source": [
    "## Follow the D.R.Y principle: Don't Repeat Yourself!\n",
    "\n",
    "Use functions to avoid repeated code."
   ]
  },
  {
   "cell_type": "markdown",
   "metadata": {
    "slideshow": {
     "slide_type": "slide"
    }
   },
   "source": [
    "## Functions are \"first class\" objects in Python.\n",
    "\n",
    "* They can be passed as arguments to other functions.\n",
    "* They can be returned as vales from other functions.\n",
    "* Can be assigned to variables.\n",
    "* Can be stored in other data structures.\n",
    "* Their type is \"function\"."
   ]
  },
  {
   "cell_type": "code",
   "execution_count": null,
   "metadata": {},
   "outputs": [],
   "source": [
    "def foo():\n",
    "    print 'I am FOO!'\n",
    "    \n",
    "def bar(some_func):\n",
    "    print 'I am BAR!'\n",
    "    some_func()\n",
    "    \n",
    "bar(foo)\n",
    "\n",
    "print type(bar)"
   ]
  },
  {
   "cell_type": "code",
   "execution_count": null,
   "metadata": {},
   "outputs": [],
   "source": [
    "# Returning an object from a function:\n",
    "\n",
    "def sum_list(lst):\n",
    "    s = 0\n",
    "    for v in lst:\n",
    "        s += v\n",
    "    return s\n",
    "\n",
    "print sum_list([3, 5, 9])"
   ]
  },
  {
   "cell_type": "code",
   "execution_count": null,
   "metadata": {},
   "outputs": [],
   "source": [
    "# Returning multiple objects from a function (by putting them into a tuple):\n",
    "\n",
    "def min_and_max(lst):\n",
    "    if not list:\n",
    "        return None\n",
    "    min_v, max_v = lst[0], lst[0]\n",
    "    for v in lst:\n",
    "        min_v = min(min_v, v)\n",
    "        max_v = max(max_v, v)\n",
    "    print(min_v, max_v)\n",
    "\n",
    "print min_and_max([9, -1, 3, 10, 8])"
   ]
  },
  {
   "cell_type": "code",
   "execution_count": null,
   "metadata": {},
   "outputs": [],
   "source": [
    "t = None\n",
    "\n",
    "if t:\n",
    "    print('here')\n",
    "    \n",
    "else:\n",
    "    print('not here')"
   ]
  },
  {
   "cell_type": "markdown",
   "metadata": {},
   "source": [
    "# End of morning material\n",
    "\n",
    "- show students their morning exercise\n",
    "\n",
    "___"
   ]
  },
  {
   "cell_type": "markdown",
   "metadata": {},
   "source": [
    "# Begining of afternoon material\n",
    "\n",
    "1. go over student solutions (any brave students out there?)\n",
    "2. show solutions repo (and go over the morning solutions)\n",
    "\n",
    "___"
   ]
  },
  {
   "cell_type": "markdown",
   "metadata": {
    "slideshow": {
     "slide_type": "slide"
    }
   },
   "source": [
    "# Creating Modules\n",
    "\n",
    "* Use a module to store functions that you want to reuse.\n",
    "* Make a single \"main\" module that imports and runs your code.\n",
    "* Run your code inside a \"main\" block."
   ]
  },
  {
   "cell_type": "code",
   "execution_count": 2,
   "metadata": {
    "slideshow": {
     "slide_type": "slide"
    }
   },
   "outputs": [
    {
     "name": "stdout",
     "output_type": "stream",
     "text": [
      "3\n",
      "4\n",
      "3\n",
      "4\n"
     ]
    }
   ],
   "source": [
    "# 2 ways of importing\n",
    "from my_module import foo, bar\n",
    "\n",
    "print(foo(1, 2))\n",
    "print(bar(3, 4, 5))\n",
    "\n",
    "# OR\n",
    "\n",
    "import my_module\n",
    "\n",
    "print(my_module.foo(1, 2))\n",
    "print(my_module.bar(3, 4, 5))"
   ]
  },
  {
   "cell_type": "code",
   "execution_count": 11,
   "metadata": {
    "slideshow": {
     "slide_type": "slide"
    }
   },
   "outputs": [],
   "source": [
    "import script"
   ]
  },
  {
   "cell_type": "code",
   "execution_count": 12,
   "metadata": {},
   "outputs": [
    {
     "data": {
      "text/plain": [
       "'script'"
      ]
     },
     "execution_count": 12,
     "metadata": {},
     "output_type": "execute_result"
    }
   ],
   "source": [
    "script.__name__"
   ]
  },
  {
   "cell_type": "code",
   "execution_count": 13,
   "metadata": {
    "slideshow": {
     "slide_type": "slide"
    }
   },
   "outputs": [
    {
     "name": "stdout",
     "output_type": "stream",
     "text": [
      "script\n"
     ]
    }
   ],
   "source": [
    "# script2.py is still executed, but foo() and bar() aren't called,\n",
    "# because __name__ != '__main__'\n",
    "from script2 import foo"
   ]
  },
  {
   "cell_type": "markdown",
   "metadata": {
    "slideshow": {
     "slide_type": "slide"
    }
   },
   "source": [
    "!!! __(see poll questions 1 and 2)__ !!!\n",
    "\n",
    "___"
   ]
  },
  {
   "cell_type": "markdown",
   "metadata": {},
   "source": [
    "# Docstrings"
   ]
  },
  {
   "cell_type": "code",
   "execution_count": 14,
   "metadata": {
    "scrolled": false
   },
   "outputs": [
    {
     "name": "stdout",
     "output_type": "stream",
     "text": [
      "Help on module my_module:\n",
      "\n",
      "NAME\n",
      "    my_module - This is my module for the functions foo and bar\n",
      "\n",
      "FILE\n",
      "    /Users/sversage/Galvanize/DSI_Lectures/python-workshop/sky_versage/day1/my_module.py\n",
      "\n",
      "FUNCTIONS\n",
      "    bar(x, y, z)\n",
      "        This is the second best function in the world. It (for whatever\n",
      "        reason) subtracts both y and z from x and returns the result.\n",
      "    \n",
      "    foo(x, y)\n",
      "        This is the best function in the world. It adds x and y together\n",
      "        and returns the result.\n",
      "\n",
      "\n",
      "None\n",
      "This is my module for the functions foo and bar\n"
     ]
    }
   ],
   "source": [
    "#Can be done a number of ways\n",
    "\n",
    "#The handy help function returns information about the entire files and functions/classes within\n",
    "print(help(my_module))\n",
    "\n",
    "#This will return the doc string at the top of the file\n",
    "print(my_module.__doc__)"
   ]
  },
  {
   "cell_type": "code",
   "execution_count": 15,
   "metadata": {},
   "outputs": [
    {
     "name": "stdout",
     "output_type": "stream",
     "text": [
      "Help on function foo in module script2:\n",
      "\n",
      "foo()\n",
      "    # script2.py\n",
      "\n",
      "None\n",
      "\n",
      "    This is the best function in the world. It adds x and y together\n",
      "    and returns the result.\n",
      "    \n"
     ]
    }
   ],
   "source": [
    "#Can be done with just functions too\n",
    "print(help(foo))\n",
    "print(my_module.foo.__doc__)"
   ]
  },
  {
   "cell_type": "code",
   "execution_count": 17,
   "metadata": {
    "collapsed": true
   },
   "outputs": [],
   "source": [
    "def test_doc():\n",
    "    \"\"\"\n",
    "    This function is a mock function. \n",
    "    \n",
    "    Inputs:\n",
    "        None\n",
    "    Output:\n",
    "        None\n",
    "    \"\"\"\n",
    "    pass"
   ]
  },
  {
   "cell_type": "code",
   "execution_count": 19,
   "metadata": {},
   "outputs": [],
   "source": [
    "test_doc()"
   ]
  },
  {
   "cell_type": "markdown",
   "metadata": {
    "slideshow": {
     "slide_type": "slide"
    }
   },
   "source": [
    "# String Formatting\n",
    "\n",
    "How to dynamically generate strings?  \n",
    "\n",
    "\"My name is ___ \" ==> \"My name is Ryan\""
   ]
  },
  {
   "cell_type": "markdown",
   "metadata": {
    "slideshow": {
     "slide_type": "slide"
    }
   },
   "source": [
    "## Method 1: str.format (the CORRECT way)"
   ]
  },
  {
   "cell_type": "code",
   "execution_count": 20,
   "metadata": {
    "slideshow": {
     "slide_type": "slide"
    }
   },
   "outputs": [
    {
     "name": "stdout",
     "output_type": "stream",
     "text": [
      "My name is Skylar and my favorite color is Green.\n",
      "My name is Aniket and my favorite color is Blue.\n",
      "My name is Violet and my favorite color is Black.\n"
     ]
    }
   ],
   "source": [
    "my_string = 'My name is {name} and my favorite color is {color}.'\n",
    "\n",
    "print(my_string.format(name='Skylar', color='Green'))\n",
    "print(my_string.format(name='Aniket', color='Blue'))\n",
    "print(my_string.format(name='Violet', color='Black'))"
   ]
  },
  {
   "cell_type": "code",
   "execution_count": 21,
   "metadata": {
    "slideshow": {
     "slide_type": "slide"
    }
   },
   "outputs": [
    {
     "name": "stdout",
     "output_type": "stream",
     "text": [
      "I live in Phoenix near Downtown.\n",
      "I live in Phoenix near Downtown.\n"
     ]
    }
   ],
   "source": [
    "print('I live in {} near {}.'.format('Phoenix', 'Downtown'))\n",
    "#OR \n",
    "print('I live in {city} near {area}.'.format(city = 'Phoenix', \n",
    "                                             area='Downtown'))"
   ]
  },
  {
   "cell_type": "code",
   "execution_count": 28,
   "metadata": {},
   "outputs": [
    {
     "name": "stdout",
     "output_type": "stream",
     "text": [
      "I live in 1 near Downtown.\n"
     ]
    }
   ],
   "source": [
    "def print_city_area(people_info):\n",
    "    print('I live in {city} near {area}.'.format(city=1, \n",
    "                                                 area=people_info['area']))\n",
    "    \n",
    "people_info = {\n",
    "    'city': 'Phoenix',\n",
    "    'area': 'Downtown'\n",
    "}    \n",
    "\n",
    "print_city_area(people_info)"
   ]
  },
  {
   "cell_type": "code",
   "execution_count": 27,
   "metadata": {},
   "outputs": [
    {
     "name": "stdout",
     "output_type": "stream",
     "text": [
      "hey \n",
      " how are you?\n",
      "()\n",
      "hey \\n how are you?\n",
      "c:\\new_user\n"
     ]
    }
   ],
   "source": [
    "print('hey \\n how are you?')\n",
    "print()\n",
    "print(r'hey \\n how are you?')\n",
    "print(r'c:\\new_user')"
   ]
  },
  {
   "cell_type": "markdown",
   "metadata": {
    "slideshow": {
     "slide_type": "slide"
    }
   },
   "source": [
    "## Method 2: '%' (the OLD way) -- please don't use this"
   ]
  },
  {
   "cell_type": "code",
   "execution_count": null,
   "metadata": {
    "collapsed": true,
    "slideshow": {
     "slide_type": "slide"
    }
   },
   "outputs": [],
   "source": [
    "print('This is how to format a %s.' % 'string')"
   ]
  },
  {
   "cell_type": "code",
   "execution_count": null,
   "metadata": {
    "collapsed": true,
    "slideshow": {
     "slide_type": "slide"
    }
   },
   "outputs": [],
   "source": [
    "print('You can use more than %d %s in your %s.' % (1, 'argument', 'string'))"
   ]
  },
  {
   "cell_type": "markdown",
   "metadata": {
    "slideshow": {
     "slide_type": "slide"
    }
   },
   "source": [
    "'%s' uses str(arg) to convert the argument to a string.\n",
    "\n",
    "See other variants here: https://docs.python.org/2/library/stdtypes.html#string-formatting"
   ]
  },
  {
   "cell_type": "markdown",
   "metadata": {
    "slideshow": {
     "slide_type": "slide"
    }
   },
   "source": [
    "!!! __(see polls 7-9)__ !!!"
   ]
  },
  {
   "cell_type": "markdown",
   "metadata": {},
   "source": [
    "# Building a large string"
   ]
  },
  {
   "cell_type": "code",
   "execution_count": 29,
   "metadata": {},
   "outputs": [
    {
     "name": "stdout",
     "output_type": "stream",
     "text": [
      "The number 0 comes before the number 1.\n",
      "The number 1 comes before the number 2.\n",
      "The number 2 comes before the number 3.\n",
      "The number 3 comes before the number 4.\n",
      "The number 4 comes before the number 5.\n",
      "The number 5 comes before the number 6.\n",
      "The number 6 comes before the number 7.\n",
      "The number 7 comes before the number 8.\n",
      "The number 8 comes before the number 9.\n"
     ]
    }
   ],
   "source": [
    "lst = []\n",
    "\n",
    "for i in range(1, 10):\n",
    "    line = \"The number {} comes before the number {}.\".format(i-1, i)\n",
    "    lst.append(line)\n",
    "\n",
    "big_string = \"\\n\".join(lst)\n",
    "\n",
    "print(big_string)"
   ]
  },
  {
   "cell_type": "markdown",
   "metadata": {
    "slideshow": {
     "slide_type": "slide"
    }
   },
   "source": [
    "# File I/O\n",
    "\n",
    "We often want to use the contents of a file in our code.\n",
    "\n",
    "For example, data is often stored in text files.\n",
    "\n",
    "This section explains how to work with files."
   ]
  },
  {
   "cell_type": "markdown",
   "metadata": {
    "slideshow": {
     "slide_type": "slide"
    }
   },
   "source": [
    "### sample.txt:\n",
    "\n",
    "1234\n",
    "\n",
    "5678\n",
    "\n",
    "ABCD\n",
    "\n",
    "EFGH"
   ]
  },
  {
   "cell_type": "markdown",
   "metadata": {
    "slideshow": {
     "slide_type": "slide"
    }
   },
   "source": [
    "## Opening and Reading Files\n",
    "\n",
    "Use the `open()` function. The `open()` function is a build-in python function."
   ]
  },
  {
   "cell_type": "code",
   "execution_count": 30,
   "metadata": {
    "slideshow": {
     "slide_type": "slide"
    }
   },
   "outputs": [
    {
     "name": "stdout",
     "output_type": "stream",
     "text": [
      "<open file 'sample_file.txt', mode 'r' at 0x10c566420>\n"
     ]
    }
   ],
   "source": [
    "f = open('sample_file.txt')\n",
    "print(f)"
   ]
  },
  {
   "cell_type": "code",
   "execution_count": 31,
   "metadata": {
    "slideshow": {
     "slide_type": "slide"
    }
   },
   "outputs": [
    {
     "name": "stdout",
     "output_type": "stream",
     "text": [
      "1234\n",
      "\n",
      "5678\n",
      "\n",
      "ABCD\n",
      "\n",
      "EFGH\n",
      "\n"
     ]
    }
   ],
   "source": [
    "print(f.read())"
   ]
  },
  {
   "cell_type": "markdown",
   "metadata": {
    "slideshow": {
     "slide_type": "slide"
    }
   },
   "source": [
    "## Q: What if the file is too large to fit in memory?\n",
    "## A: Handle the file one line at a time\n",
    "\n",
    "Iterate over the file object  \n",
    "\n",
    "\"for line in my_file\"\n",
    "\n",
    "This is the preferred way to deal with files, because it's memory efficient."
   ]
  },
  {
   "cell_type": "code",
   "execution_count": 32,
   "metadata": {
    "slideshow": {
     "slide_type": "slide"
    }
   },
   "outputs": [
    {
     "name": "stdout",
     "output_type": "stream",
     "text": [
      "('Current line:', '1234\\n')\n",
      "('Current line:', '\\n')\n",
      "('Current line:', '5678\\n')\n",
      "('Current line:', '\\n')\n",
      "('Current line:', 'ABCD\\n')\n",
      "('Current line:', '\\n')\n",
      "('Current line:', 'EFGH\\n')\n"
     ]
    }
   ],
   "source": [
    "my_file = open('sample_file.txt')\n",
    "for line in my_file:\n",
    "    print('Current line:', line)\n",
    "    # 'line' is discarded from memory\n",
    "    # after each iteration of loop"
   ]
  },
  {
   "cell_type": "markdown",
   "metadata": {
    "slideshow": {
     "slide_type": "slide"
    }
   },
   "source": [
    "## File generators\n",
    "\n",
    "Note: open file is a \"generator\" object.  \n",
    "\n",
    "Once a line is read, it can't be re-read\n",
    "without reopening the file."
   ]
  },
  {
   "cell_type": "code",
   "execution_count": 36,
   "metadata": {
    "slideshow": {
     "slide_type": "slide"
    }
   },
   "outputs": [
    {
     "name": "stdout",
     "output_type": "stream",
     "text": [
      "<open file 'sample_file.txt', mode 'r' at 0x10c566540>\n",
      "first iteration:\n",
      "['1234\\n', '\\n', '5678\\n', '\\n', 'ABCD\\n', '\\n', 'EFGH\\n']\n",
      "()\n",
      "second iteration\n",
      "[]\n",
      "<open file 'sample_file.txt', mode 'r' at 0x10c566540>\n"
     ]
    }
   ],
   "source": [
    "my_file = open('sample_file.txt')\n",
    "print(my_file)\n",
    "print('first iteration:')\n",
    "print([line for line in my_file])\n",
    "\n",
    "print()\n",
    "#my_file = open('sample_file.txt')\n",
    "\n",
    "print('second iteration')\n",
    "print([line for line in my_file])\n",
    "print(my_file)"
   ]
  },
  {
   "cell_type": "markdown",
   "metadata": {
    "slideshow": {
     "slide_type": "slide"
    }
   },
   "source": [
    "## Closing Files\n",
    "\n",
    "### 2 Methods:\n",
    "1. file.close\n",
    "2. 'with' statement"
   ]
  },
  {
   "cell_type": "code",
   "execution_count": 37,
   "metadata": {
    "slideshow": {
     "slide_type": "slide"
    }
   },
   "outputs": [
    {
     "name": "stdout",
     "output_type": "stream",
     "text": [
      "<closed file 'sample_file.txt', mode 'r' at 0x10c5664b0>\n"
     ]
    }
   ],
   "source": [
    "# You should always close the files you open. There is a limit to the number of open\n",
    "# files your program can have. If your program reads a lot of files, and if you don't\n",
    "# close them properly, you will eventually reach your limit and the OS will kill your\n",
    "# program!\n",
    "\n",
    "my_file = open('sample_file.txt')\n",
    "contents = my_file.read()\n",
    "my_file.close()\n",
    "print(my_file)"
   ]
  },
  {
   "cell_type": "markdown",
   "metadata": {
    "slideshow": {
     "slide_type": "slide"
    }
   },
   "source": [
    "### Programming gotcha: What if there's an error before my_file.close()? Or what if you just forget to close the file?\n",
    "\n",
    "It's easier to forget to close a file than you might think. Here's an example:"
   ]
  },
  {
   "cell_type": "code",
   "execution_count": null,
   "metadata": {
    "collapsed": true
   },
   "outputs": [],
   "source": [
    "# What's wrong with the function below?\n",
    "\n",
    "def read_stuff(filename):\n",
    "    results = []\n",
    "    f = open(filename)\n",
    "\n",
    "    for line in f:\n",
    "        parts = line.split()\n",
    "        if len(parts) < 3:\n",
    "            return None      # <-- this indicates to the caller that the file is not valid\n",
    "        results.append(parts[2])\n",
    "\n",
    "    f.close()\n",
    "    return results\n",
    "\n",
    "print(read_stuff(filename=\"sample_file.txt\"))"
   ]
  },
  {
   "cell_type": "code",
   "execution_count": null,
   "metadata": {
    "collapsed": true
   },
   "outputs": [],
   "source": [
    "os.remove(\"sample_file.txt\")"
   ]
  },
  {
   "cell_type": "code",
   "execution_count": null,
   "metadata": {
    "collapsed": true,
    "slideshow": {
     "slide_type": "slide"
    }
   },
   "outputs": [],
   "source": [
    "# Fix with\n",
    "def read_stuff(filename):\n",
    "    results = []\n",
    "    with open(filename) as f:\n",
    "\n",
    "        for line in f:\n",
    "            parts = line.split()\n",
    "            if len(parts) < 3:\n",
    "                return None      # <-- this indicates to the caller that the file is not valid\n",
    "            results.append(parts[2])\n",
    "\n",
    "    return results\n",
    "\n",
    "print(read_stuff(\"sample_file.txt\"))    # <-- File leak. Where?"
   ]
  },
  {
   "cell_type": "markdown",
   "metadata": {
    "slideshow": {
     "slide_type": "slide"
    }
   },
   "source": [
    "## Writing files\n",
    "\n",
    "Use open(filename, 'w')\n",
    "\n",
    "See details: https://docs.python.org/2/library/functions.html#open  \n",
    "Review difference between 'r', 'rb', 'w', 'wb' in open()"
   ]
  },
  {
   "cell_type": "code",
   "execution_count": 38,
   "metadata": {
    "slideshow": {
     "slide_type": "slide"
    }
   },
   "outputs": [
    {
     "name": "stdout",
     "output_type": "stream",
     "text": [
      "abcd\n",
      "1234\n",
      "\n"
     ]
    }
   ],
   "source": [
    "lines_to_write = ['abcd\\n', '1234\\n']\n",
    "\n",
    "with open('file_to_write.txt', 'w') as my_file:\n",
    "    for line in lines_to_write:\n",
    "        my_file.write(line)\n",
    "    \n",
    "with open('file_to_write.txt') as my_file:\n",
    "    print(my_file.read())"
   ]
  },
  {
   "cell_type": "code",
   "execution_count": 39,
   "metadata": {
    "slideshow": {
     "slide_type": "slide"
    }
   },
   "outputs": [
    {
     "name": "stdout",
     "output_type": "stream",
     "text": [
      "abcd\n",
      "1234\n",
      "1357\n",
      "2468\n",
      "\n"
     ]
    }
   ],
   "source": [
    "# can also append to end of files using open(filename, 'a')\n",
    "\n",
    "lines_to_append = ['1357\\n', '2468\\n']\n",
    "with open('file_to_write.txt', 'a') as my_file:\n",
    "    for line in lines_to_append:\n",
    "        my_file.write(line)\n",
    "    \n",
    "with open('file_to_write.txt') as my_file:\n",
    "    print my_file.read()"
   ]
  },
  {
   "cell_type": "markdown",
   "metadata": {
    "collapsed": true
   },
   "source": [
    "## sample_csv.csv\n",
    "1,2,3,4  \n",
    "5,6,7,8"
   ]
  },
  {
   "cell_type": "code",
   "execution_count": 41,
   "metadata": {
    "slideshow": {
     "slide_type": "slide"
    }
   },
   "outputs": [
    {
     "name": "stdout",
     "output_type": "stream",
     "text": [
      "['1', '2', '3', '4']\n",
      "['5', '6', '7', '8']\n"
     ]
    }
   ],
   "source": [
    "import csv\n",
    "\n",
    "with open('sample_csv.csv') as my_file:\n",
    "    reader = csv.reader(my_file)\n",
    "    for line in reader:\n",
    "        print(line)"
   ]
  },
  {
   "cell_type": "markdown",
   "metadata": {
    "slideshow": {
     "slide_type": "slide"
    }
   },
   "source": [
    "!!! __(see poll 10)__ !!!"
   ]
  },
  {
   "cell_type": "code",
   "execution_count": 44,
   "metadata": {},
   "outputs": [
    {
     "name": "stdout",
     "output_type": "stream",
     "text": [
      "('1,2,3,4\\n', 1)\n",
      "('5,6,7,8\\n', 2)\n"
     ]
    }
   ],
   "source": [
    "# OR do it manually (sometimes you need to do it manually if your file has a funky format)\n",
    "\n",
    "with open('sample_csv.csv') as my_file:\n",
    "    for line, blah in zip(my_file, [1,2,3,4]):\n",
    "        print(line, blah)\n",
    "#         line = line.strip()\n",
    "#         parts = line.split(',')\n",
    "#         print(parts)"
   ]
  },
  {
   "cell_type": "code",
   "execution_count": 42,
   "metadata": {},
   "outputs": [
    {
     "name": "stdout",
     "output_type": "stream",
     "text": [
      "Help on module csv:\n",
      "\n",
      "NAME\n",
      "    csv - CSV parsing and writing.\n",
      "\n",
      "FILE\n",
      "    /Users/sversage/anaconda/lib/python2.7/csv.py\n",
      "\n",
      "MODULE DOCS\n",
      "    https://docs.python.org/library/csv\n",
      "\n",
      "DESCRIPTION\n",
      "    This module provides classes that assist in the reading and writing\n",
      "    of Comma Separated Value (CSV) files, and implements the interface\n",
      "    described by PEP 305.  Although many CSV files are simple to parse,\n",
      "    the format is not formally defined by a stable specification and\n",
      "    is subtle enough that parsing lines of a CSV file with something\n",
      "    like line.split(\",\") is bound to fail.  The module supports three\n",
      "    basic APIs: reading, writing, and registration of dialects.\n",
      "    \n",
      "    \n",
      "    DIALECT REGISTRATION:\n",
      "    \n",
      "    Readers and writers support a dialect argument, which is a convenient\n",
      "    handle on a group of settings.  When the dialect argument is a string,\n",
      "    it identifies one of the dialects previously registered with the module.\n",
      "    If it is a class or instance, the attributes of the argument are used as\n",
      "    the settings for the reader or writer:\n",
      "    \n",
      "        class excel:\n",
      "            delimiter = ','\n",
      "            quotechar = '\"'\n",
      "            escapechar = None\n",
      "            doublequote = True\n",
      "            skipinitialspace = False\n",
      "            lineterminator = '\\r\\n'\n",
      "            quoting = QUOTE_MINIMAL\n",
      "    \n",
      "    SETTINGS:\n",
      "    \n",
      "        * quotechar - specifies a one-character string to use as the \n",
      "            quoting character.  It defaults to '\"'.\n",
      "        * delimiter - specifies a one-character string to use as the \n",
      "            field separator.  It defaults to ','.\n",
      "        * skipinitialspace - specifies how to interpret whitespace which\n",
      "            immediately follows a delimiter.  It defaults to False, which\n",
      "            means that whitespace immediately following a delimiter is part\n",
      "            of the following field.\n",
      "        * lineterminator -  specifies the character sequence which should \n",
      "            terminate rows.\n",
      "        * quoting - controls when quotes should be generated by the writer.\n",
      "            It can take on any of the following module constants:\n",
      "    \n",
      "            csv.QUOTE_MINIMAL means only when required, for example, when a\n",
      "                field contains either the quotechar or the delimiter\n",
      "            csv.QUOTE_ALL means that quotes are always placed around fields.\n",
      "            csv.QUOTE_NONNUMERIC means that quotes are always placed around\n",
      "                fields which do not parse as integers or floating point\n",
      "                numbers.\n",
      "            csv.QUOTE_NONE means that quotes are never placed around fields.\n",
      "        * escapechar - specifies a one-character string used to escape \n",
      "            the delimiter when quoting is set to QUOTE_NONE.\n",
      "        * doublequote - controls the handling of quotes inside fields.  When\n",
      "            True, two consecutive quotes are interpreted as one during read,\n",
      "            and when writing, each quote character embedded in the data is\n",
      "            written as two quotes\n",
      "\n",
      "CLASSES\n",
      "    Dialect\n",
      "        excel\n",
      "            excel_tab\n",
      "    DictReader\n",
      "    DictWriter\n",
      "    Sniffer\n",
      "    exceptions.Exception(exceptions.BaseException)\n",
      "        _csv.Error\n",
      "    \n",
      "    class Dialect\n",
      "     |  Describe an Excel dialect.\n",
      "     |  \n",
      "     |  This must be subclassed (see csv.excel).  Valid attributes are:\n",
      "     |  delimiter, quotechar, escapechar, doublequote, skipinitialspace,\n",
      "     |  lineterminator, quoting.\n",
      "     |  \n",
      "     |  Methods defined here:\n",
      "     |  \n",
      "     |  __init__(self)\n",
      "     |  \n",
      "     |  ----------------------------------------------------------------------\n",
      "     |  Data and other attributes defined here:\n",
      "     |  \n",
      "     |  delimiter = None\n",
      "     |  \n",
      "     |  doublequote = None\n",
      "     |  \n",
      "     |  escapechar = None\n",
      "     |  \n",
      "     |  lineterminator = None\n",
      "     |  \n",
      "     |  quotechar = None\n",
      "     |  \n",
      "     |  quoting = None\n",
      "     |  \n",
      "     |  skipinitialspace = None\n",
      "    \n",
      "    class DictReader\n",
      "     |  Methods defined here:\n",
      "     |  \n",
      "     |  __init__(self, f, fieldnames=None, restkey=None, restval=None, dialect='excel', *args, **kwds)\n",
      "     |  \n",
      "     |  __iter__(self)\n",
      "     |  \n",
      "     |  next(self)\n",
      "     |  \n",
      "     |  ----------------------------------------------------------------------\n",
      "     |  Data descriptors defined here:\n",
      "     |  \n",
      "     |  fieldnames\n",
      "    \n",
      "    class DictWriter\n",
      "     |  Methods defined here:\n",
      "     |  \n",
      "     |  __init__(self, f, fieldnames, restval='', extrasaction='raise', dialect='excel', *args, **kwds)\n",
      "     |  \n",
      "     |  writeheader(self)\n",
      "     |  \n",
      "     |  writerow(self, rowdict)\n",
      "     |  \n",
      "     |  writerows(self, rowdicts)\n",
      "    \n",
      "    class Error(exceptions.Exception)\n",
      "     |  Method resolution order:\n",
      "     |      Error\n",
      "     |      exceptions.Exception\n",
      "     |      exceptions.BaseException\n",
      "     |      __builtin__.object\n",
      "     |  \n",
      "     |  Data descriptors defined here:\n",
      "     |  \n",
      "     |  __weakref__\n",
      "     |      list of weak references to the object (if defined)\n",
      "     |  \n",
      "     |  ----------------------------------------------------------------------\n",
      "     |  Methods inherited from exceptions.Exception:\n",
      "     |  \n",
      "     |  __init__(...)\n",
      "     |      x.__init__(...) initializes x; see help(type(x)) for signature\n",
      "     |  \n",
      "     |  ----------------------------------------------------------------------\n",
      "     |  Data and other attributes inherited from exceptions.Exception:\n",
      "     |  \n",
      "     |  __new__ = <built-in method __new__ of type object>\n",
      "     |      T.__new__(S, ...) -> a new object with type S, a subtype of T\n",
      "     |  \n",
      "     |  ----------------------------------------------------------------------\n",
      "     |  Methods inherited from exceptions.BaseException:\n",
      "     |  \n",
      "     |  __delattr__(...)\n",
      "     |      x.__delattr__('name') <==> del x.name\n",
      "     |  \n",
      "     |  __getattribute__(...)\n",
      "     |      x.__getattribute__('name') <==> x.name\n",
      "     |  \n",
      "     |  __getitem__(...)\n",
      "     |      x.__getitem__(y) <==> x[y]\n",
      "     |  \n",
      "     |  __getslice__(...)\n",
      "     |      x.__getslice__(i, j) <==> x[i:j]\n",
      "     |      \n",
      "     |      Use of negative indices is not supported.\n",
      "     |  \n",
      "     |  __reduce__(...)\n",
      "     |  \n",
      "     |  __repr__(...)\n",
      "     |      x.__repr__() <==> repr(x)\n",
      "     |  \n",
      "     |  __setattr__(...)\n",
      "     |      x.__setattr__('name', value) <==> x.name = value\n",
      "     |  \n",
      "     |  __setstate__(...)\n",
      "     |  \n",
      "     |  __str__(...)\n",
      "     |      x.__str__() <==> str(x)\n",
      "     |  \n",
      "     |  __unicode__(...)\n",
      "     |  \n",
      "     |  ----------------------------------------------------------------------\n",
      "     |  Data descriptors inherited from exceptions.BaseException:\n",
      "     |  \n",
      "     |  __dict__\n",
      "     |  \n",
      "     |  args\n",
      "     |  \n",
      "     |  message\n",
      "    \n",
      "    class Sniffer\n",
      "     |  \"Sniffs\" the format of a CSV file (i.e. delimiter, quotechar)\n",
      "     |  Returns a Dialect object.\n",
      "     |  \n",
      "     |  Methods defined here:\n",
      "     |  \n",
      "     |  __init__(self)\n",
      "     |  \n",
      "     |  has_header(self, sample)\n",
      "     |  \n",
      "     |  sniff(self, sample, delimiters=None)\n",
      "     |      Returns a dialect (or None) corresponding to the sample\n",
      "    \n",
      "    class excel(Dialect)\n",
      "     |  Describe the usual properties of Excel-generated CSV files.\n",
      "     |  \n",
      "     |  Data and other attributes defined here:\n",
      "     |  \n",
      "     |  delimiter = ','\n",
      "     |  \n",
      "     |  doublequote = True\n",
      "     |  \n",
      "     |  lineterminator = '\\r\\n'\n",
      "     |  \n",
      "     |  quotechar = '\"'\n",
      "     |  \n",
      "     |  quoting = 0\n",
      "     |  \n",
      "     |  skipinitialspace = False\n",
      "     |  \n",
      "     |  ----------------------------------------------------------------------\n",
      "     |  Methods inherited from Dialect:\n",
      "     |  \n",
      "     |  __init__(self)\n",
      "     |  \n",
      "     |  ----------------------------------------------------------------------\n",
      "     |  Data and other attributes inherited from Dialect:\n",
      "     |  \n",
      "     |  escapechar = None\n",
      "    \n",
      "    class excel_tab(excel)\n",
      "     |  Describe the usual properties of Excel-generated TAB-delimited files.\n",
      "     |  \n",
      "     |  Method resolution order:\n",
      "     |      excel_tab\n",
      "     |      excel\n",
      "     |      Dialect\n",
      "     |  \n",
      "     |  Data and other attributes defined here:\n",
      "     |  \n",
      "     |  delimiter = '\\t'\n",
      "     |  \n",
      "     |  ----------------------------------------------------------------------\n",
      "     |  Data and other attributes inherited from excel:\n",
      "     |  \n",
      "     |  doublequote = True\n",
      "     |  \n",
      "     |  lineterminator = '\\r\\n'\n",
      "     |  \n",
      "     |  quotechar = '\"'\n",
      "     |  \n",
      "     |  quoting = 0\n",
      "     |  \n",
      "     |  skipinitialspace = False\n",
      "     |  \n",
      "     |  ----------------------------------------------------------------------\n",
      "     |  Methods inherited from Dialect:\n",
      "     |  \n",
      "     |  __init__(self)\n",
      "     |  \n",
      "     |  ----------------------------------------------------------------------\n",
      "     |  Data and other attributes inherited from Dialect:\n",
      "     |  \n",
      "     |  escapechar = None\n",
      "\n",
      "FUNCTIONS\n",
      "    field_size_limit(...)\n",
      "        Sets an upper limit on parsed fields.\n",
      "            csv.field_size_limit([limit])\n",
      "        \n",
      "        Returns old limit. If limit is not given, no new limit is set and\n",
      "        the old limit is returned\n",
      "    \n",
      "    get_dialect(...)\n",
      "        Return the dialect instance associated with name.\n",
      "        dialect = csv.get_dialect(name)\n",
      "    \n",
      "    list_dialects(...)\n",
      "        Return a list of all know dialect names.\n",
      "        names = csv.list_dialects()\n",
      "    \n",
      "    reader(...)\n",
      "        csv_reader = reader(iterable [, dialect='excel']\n",
      "                                [optional keyword args])\n",
      "            for row in csv_reader:\n",
      "                process(row)\n",
      "        \n",
      "        The \"iterable\" argument can be any object that returns a line\n",
      "        of input for each iteration, such as a file object or a list.  The\n",
      "        optional \"dialect\" parameter is discussed below.  The function\n",
      "        also accepts optional keyword arguments which override settings\n",
      "        provided by the dialect.\n",
      "        \n",
      "        The returned object is an iterator.  Each iteration returns a row\n",
      "        of the CSV file (which can span multiple input lines).\n",
      "    \n",
      "    register_dialect(...)\n",
      "        Create a mapping from a string name to a dialect class.\n",
      "        dialect = csv.register_dialect(name, dialect)\n",
      "    \n",
      "    unregister_dialect(...)\n",
      "        Delete the name/dialect mapping associated with a string name.\n",
      "        csv.unregister_dialect(name)\n",
      "    \n",
      "    writer(...)\n",
      "        csv_writer = csv.writer(fileobj [, dialect='excel']\n",
      "                                    [optional keyword args])\n",
      "            for row in sequence:\n",
      "                csv_writer.writerow(row)\n",
      "        \n",
      "            [or]\n",
      "        \n",
      "            csv_writer = csv.writer(fileobj [, dialect='excel']\n",
      "                                    [optional keyword args])\n",
      "            csv_writer.writerows(rows)\n",
      "        \n",
      "        The \"fileobj\" argument can be any object that supports the file API.\n",
      "\n",
      "DATA\n",
      "    QUOTE_ALL = 1\n",
      "    QUOTE_MINIMAL = 0\n",
      "    QUOTE_NONE = 3\n",
      "    QUOTE_NONNUMERIC = 2\n",
      "    __all__ = ['QUOTE_MINIMAL', 'QUOTE_ALL', 'QUOTE_NONNUMERIC', 'QUOTE_NO...\n",
      "    __version__ = '1.0'\n",
      "\n",
      "VERSION\n",
      "    1.0\n",
      "\n",
      "\n"
     ]
    }
   ],
   "source": [
    "help(csv)"
   ]
  },
  {
   "cell_type": "code",
   "execution_count": 46,
   "metadata": {},
   "outputs": [
    {
     "ename": "SyntaxError",
     "evalue": "invalid syntax (<ipython-input-46-c446fd6987c8>, line 2)",
     "output_type": "error",
     "traceback": [
      "\u001b[0;36m  File \u001b[0;32m\"<ipython-input-46-c446fd6987c8>\"\u001b[0;36m, line \u001b[0;32m2\u001b[0m\n\u001b[0;31m    print(b = a)\u001b[0m\n\u001b[0m            ^\u001b[0m\n\u001b[0;31mSyntaxError\u001b[0m\u001b[0;31m:\u001b[0m invalid syntax\n"
     ]
    }
   ],
   "source": [
    "for a, b in zip([1,2,3], ['a', 'b', 'c']):\n",
    "    print(b = a)"
   ]
  },
  {
   "cell_type": "code",
   "execution_count": null,
   "metadata": {
    "collapsed": true
   },
   "outputs": [],
   "source": [
    "game_info = []\n",
    "\n",
    "with open(file) as f:\n",
    "    for line in f:\n",
    "        game_info.append(line)\n",
    "\n",
    "game_info[time, venue, team]\n",
    "\n",
    "return game_info\n"
   ]
  }
 ],
 "metadata": {
  "kernelspec": {
   "display_name": "Python 2",
   "language": "python",
   "name": "python2"
  },
  "language_info": {
   "codemirror_mode": {
    "name": "ipython",
    "version": 2
   },
   "file_extension": ".py",
   "mimetype": "text/x-python",
   "name": "python",
   "nbconvert_exporter": "python",
   "pygments_lexer": "ipython2",
   "version": "2.7.13"
  }
 },
 "nbformat": 4,
 "nbformat_minor": 1
}
