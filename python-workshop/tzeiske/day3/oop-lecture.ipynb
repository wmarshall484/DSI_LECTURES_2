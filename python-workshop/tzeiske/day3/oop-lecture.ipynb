{
 "cells": [
  {
   "cell_type": "markdown",
   "metadata": {},
   "source": [
    "# Object Oriented Programming (Classes)"
   ]
  },
  {
   "cell_type": "markdown",
   "metadata": {},
   "source": [
    "Object Oriented Programming is about how we *organize* our ideas in code."
   ]
  },
  {
   "cell_type": "markdown",
   "metadata": {},
   "source": [
    "Programs are made up of two fundamental, conceptual components:\n",
    "    \n",
    "  - Data\n",
    "  - Algorithms to manipulate the data"
   ]
  },
  {
   "cell_type": "markdown",
   "metadata": {},
   "source": [
    "So to have an expressive and useful programming language, we need ways to both\n",
    "\n",
    "  - Create new types of data.\n",
    "  - Create re-usable algorithms to manipulate that data."
   ]
  },
  {
   "cell_type": "markdown",
   "metadata": {},
   "source": [
    "Sometimes the algorithms we need to manipulate data are tied closely to the data itself, and in this case we would like to\n",
    "\n",
    "  - Associate algorithms with specific data structures"
   ]
  },
  {
   "cell_type": "markdown",
   "metadata": {},
   "source": [
    "### Basic Example: Lists"
   ]
  },
  {
   "cell_type": "markdown",
   "metadata": {},
   "source": [
    "Python `list`s and `dictionary`s are a very useful type of data structure, and they have lot's of associated algorithms "
   ]
  },
  {
   "cell_type": "code",
   "execution_count": null,
   "metadata": {
    "collapsed": true
   },
   "outputs": [],
   "source": [
    "PI = 3.14159"
   ]
  },
  {
   "cell_type": "code",
   "execution_count": 7,
   "metadata": {},
   "outputs": [
    {
     "name": "stdout",
     "output_type": "stream",
     "text": [
      "2\n",
      "1\n",
      "[1, 2, 2, 3, 4, 4, 4]\n"
     ]
    }
   ],
   "source": [
    "lst = [1, 2, 2, 3, 4, 4, 4]\n",
    "\n",
    "# Associated algorithm: count\n",
    "print(lst.count(2))\n",
    "print(lst.count(3))\n",
    "\n",
    "print(lst)"
   ]
  },
  {
   "cell_type": "markdown",
   "metadata": {},
   "source": [
    "The `count` function is assoicated with the `list` data type.\n",
    "\n",
    "Functions that are associated to a specific data type in this way are called *methods*.  So we would say\n",
    "\n",
    "> `count` is a method of the data type `list`\n",
    "\n",
    "Methods are (generally) called using the `.` notataion: `data_element.method(additional_arguments)`."
   ]
  },
  {
   "cell_type": "markdown",
   "metadata": {},
   "source": [
    "Some methods actually *change* the data they operate on:"
   ]
  },
  {
   "cell_type": "code",
   "execution_count": 8,
   "metadata": {
    "scrolled": true
   },
   "outputs": [
    {
     "name": "stdout",
     "output_type": "stream",
     "text": [
      "[1, 2, 2, 3, 4, 4, 4]\n",
      "[1, 2, 2, 3, 4, 4, 4, 5]\n"
     ]
    }
   ],
   "source": [
    "print(lst)\n",
    "\n",
    "lst.append(5)\n",
    "\n",
    "print(lst)"
   ]
  },
  {
   "cell_type": "markdown",
   "metadata": {},
   "source": [
    "Methods which do **not** change the underlying data (`list.count`) are called **pure methods**, methods that *do* change the underlying data (`list.append`) are called **impure methods**."
   ]
  },
  {
   "cell_type": "markdown",
   "metadata": {},
   "source": [
    "Some things that do not look like methods actually are, indexing for example:"
   ]
  },
  {
   "cell_type": "code",
   "execution_count": 9,
   "metadata": {},
   "outputs": [
    {
     "name": "stdout",
     "output_type": "stream",
     "text": [
      "2\n",
      "2\n"
     ]
    }
   ],
   "source": [
    "print(lst[2])\n",
    "\n",
    "print(lst.__getitem__(2))"
   ]
  },
  {
   "cell_type": "markdown",
   "metadata": {},
   "source": [
    "The `__getitem__` is called a **magic method**.  There are spelled with two underscores and can be called with special syntax."
   ]
  },
  {
   "cell_type": "code",
   "execution_count": 10,
   "metadata": {},
   "outputs": [
    {
     "name": "stdout",
     "output_type": "stream",
     "text": [
      "100\n",
      "8\n",
      "[2, 100, 3, 4]\n"
     ]
    }
   ],
   "source": [
    "# lst[2] = 100\n",
    "lst.__setitem__(2, 100)\n",
    "\n",
    "# lst[2]\n",
    "print(lst.__getitem__(2))\n",
    "\n",
    "# len(lst)\n",
    "print(lst.__len__())\n",
    "\n",
    "# lst[1:5]\n",
    "print lst.__getslice__(1, 5)"
   ]
  },
  {
   "cell_type": "markdown",
   "metadata": {},
   "source": [
    "### More Advanced Example: Default Dict"
   ]
  },
  {
   "cell_type": "markdown",
   "metadata": {},
   "source": [
    "The python standard library has many examples of additional data types.  We will be re-implementing two of the more useful ones, `defaultdict` and `OrderedDict`."
   ]
  },
  {
   "cell_type": "code",
   "execution_count": 2,
   "metadata": {
    "collapsed": true
   },
   "outputs": [],
   "source": [
    "from collections import defaultdict, OrderedDict"
   ]
  },
  {
   "cell_type": "markdown",
   "metadata": {},
   "source": [
    "`defautdict` is a simple but effective alternative to a dictionary.\n",
    "\n",
    "Recall that with a normal dictionary, attempting to lookup a key that does not exist is an error."
   ]
  },
  {
   "cell_type": "code",
   "execution_count": 18,
   "metadata": {},
   "outputs": [
    {
     "ename": "KeyError",
     "evalue": "'c'",
     "output_type": "error",
     "traceback": [
      "\u001b[0;31m---------------------------------------------------------------------------\u001b[0m",
      "\u001b[0;31mKeyError\u001b[0m                                  Traceback (most recent call last)",
      "\u001b[0;32m<ipython-input-18-d8c10fe02c26>\u001b[0m in \u001b[0;36m<module>\u001b[0;34m()\u001b[0m\n\u001b[1;32m      1\u001b[0m \u001b[0mD\u001b[0m \u001b[0;34m=\u001b[0m \u001b[0;34m{\u001b[0m\u001b[0;34m'a'\u001b[0m\u001b[0;34m:\u001b[0m \u001b[0;36m1\u001b[0m\u001b[0;34m,\u001b[0m \u001b[0;34m'b'\u001b[0m\u001b[0;34m:\u001b[0m \u001b[0;36m2\u001b[0m\u001b[0;34m}\u001b[0m\u001b[0;34m\u001b[0m\u001b[0m\n\u001b[1;32m      2\u001b[0m \u001b[0;34m\u001b[0m\u001b[0m\n\u001b[0;32m----> 3\u001b[0;31m \u001b[0mD\u001b[0m\u001b[0;34m[\u001b[0m\u001b[0;34m'c'\u001b[0m\u001b[0;34m]\u001b[0m\u001b[0;34m\u001b[0m\u001b[0m\n\u001b[0m",
      "\u001b[0;31mKeyError\u001b[0m: 'c'"
     ]
    }
   ],
   "source": [
    "D = {'a': 1, 'b': 2}\n",
    "\n",
    "D['c']"
   ]
  },
  {
   "cell_type": "markdown",
   "metadata": {},
   "source": [
    "A `defaultdict` allows you to specify a default value to return when a non-existant key lookup is attempted."
   ]
  },
  {
   "cell_type": "code",
   "execution_count": 26,
   "metadata": {},
   "outputs": [],
   "source": [
    "D = defaultdict(lambda: 0, {'a': 1, 'b': 2})"
   ]
  },
  {
   "cell_type": "code",
   "execution_count": 27,
   "metadata": {},
   "outputs": [
    {
     "data": {
      "text/plain": [
       "1"
      ]
     },
     "execution_count": 27,
     "metadata": {},
     "output_type": "execute_result"
    }
   ],
   "source": [
    "D['a']"
   ]
  },
  {
   "cell_type": "code",
   "execution_count": 28,
   "metadata": {},
   "outputs": [
    {
     "data": {
      "text/plain": [
       "0"
      ]
     },
     "execution_count": 28,
     "metadata": {},
     "output_type": "execute_result"
    }
   ],
   "source": [
    "D['c']"
   ]
  },
  {
   "cell_type": "code",
   "execution_count": 29,
   "metadata": {},
   "outputs": [
    {
     "name": "stdout",
     "output_type": "stream",
     "text": [
      "defaultdict(<function <lambda> at 0x104773050>, {'a': 1, 'c': 0, 'b': 2})\n"
     ]
    }
   ],
   "source": [
    "print(D)"
   ]
  },
  {
   "cell_type": "markdown",
   "metadata": {},
   "source": [
    "It's a bit weird to have to pass in a function that returns the defualt value instead of the default value itself, but this is needed to avoid weird problems arising from mutable objects like lists.\n",
    "\n",
    "In summary, this works as intended:"
   ]
  },
  {
   "cell_type": "code",
   "execution_count": 3,
   "metadata": {},
   "outputs": [
    {
     "name": "stdout",
     "output_type": "stream",
     "text": [
      "[]\n",
      "defaultdict(<type 'list'>, {'a': [1, 2], 'b': [1]})\n"
     ]
    }
   ],
   "source": [
    "D = defaultdict(list, {})\n",
    "\n",
    "print(D['a'])\n",
    "\n",
    "D['a'].append(1) #appends to a list that wasn't there before\n",
    "D['a'].append(2)\n",
    "D['b'].append(1)\n",
    "\n",
    "print(D)"
   ]
  },
  {
   "cell_type": "markdown",
   "metadata": {},
   "source": [
    "### Making Your Own Default Dict"
   ]
  },
  {
   "cell_type": "markdown",
   "metadata": {},
   "source": [
    "Let's make our own default dictionaries.\n",
    "\n",
    "There are two concepts we need\n",
    "\n",
    "  - A `class` is a template for a new data type.  It contains inforamtion on what data is needed to constrict the data type, how to store the data internally, and what algorithms can be applied to the data type.\n",
    "  - An instance of a class is a concrete object of the new data type.\n",
    "  \n",
    "A class is a recipe for constructing instances of that class."
   ]
  },
  {
   "cell_type": "markdown",
   "metadata": {},
   "source": [
    "#### Example of a Class: defaultdict"
   ]
  },
  {
   "cell_type": "markdown",
   "metadata": {},
   "source": [
    "`defaultdict` is a class"
   ]
  },
  {
   "cell_type": "code",
   "execution_count": 33,
   "metadata": {},
   "outputs": [
    {
     "data": {
      "text/plain": [
       "True"
      ]
     },
     "execution_count": 33,
     "metadata": {},
     "output_type": "execute_result"
    }
   ],
   "source": [
    "from inspect import isclass\n",
    "isclass(defaultdict)"
   ]
  },
  {
   "cell_type": "markdown",
   "metadata": {},
   "source": [
    "Using the class `defaultdict` as a function creates an instance of that class."
   ]
  },
  {
   "cell_type": "code",
   "execution_count": 34,
   "metadata": {},
   "outputs": [
    {
     "data": {
      "text/plain": [
       "True"
      ]
     },
     "execution_count": 34,
     "metadata": {},
     "output_type": "execute_result"
    }
   ],
   "source": [
    "D = defaultdict(lambda: 0, {'a': 1, 'b': 2})\n",
    "isinstance(D, defaultdict)"
   ]
  },
  {
   "cell_type": "markdown",
   "metadata": {},
   "source": [
    "We usually abbreviate the phrase\n",
    "\n",
    "> `D` is an instance of class `defaultdict`.\n",
    "\n",
    "as\n",
    "\n",
    "> `D` is a `defaultdict`."
   ]
  },
  {
   "cell_type": "markdown",
   "metadata": {},
   "source": [
    "#### How to Store Data in a Class"
   ]
  },
  {
   "cell_type": "markdown",
   "metadata": {},
   "source": [
    "The basics of creating a custom class in python is very easy"
   ]
  },
  {
   "cell_type": "code",
   "execution_count": 39,
   "metadata": {
    "collapsed": true
   },
   "outputs": [],
   "source": [
    "class MyClass(object):\n",
    "    pass"
   ]
  },
  {
   "cell_type": "code",
   "execution_count": 37,
   "metadata": {},
   "outputs": [],
   "source": [
    "my_instance = MyClass()"
   ]
  },
  {
   "cell_type": "code",
   "execution_count": 38,
   "metadata": {},
   "outputs": [
    {
     "data": {
      "text/plain": [
       "True"
      ]
     },
     "execution_count": 38,
     "metadata": {},
     "output_type": "execute_result"
    }
   ],
   "source": [
    "isinstance(my_instance, MyClass)"
   ]
  },
  {
   "cell_type": "markdown",
   "metadata": {},
   "source": [
    "This is a pretty dumb class as it stands, it cant really *do* anything.  To get something useful we have to add data and behaviour to out class."
   ]
  },
  {
   "cell_type": "markdown",
   "metadata": {},
   "source": [
    "The first step is to determine what data we need to store.  In this case it's pretty easy, we need\n",
    "\n",
    "  - The underlying dictionary that we are going to attempt lokups into.\n",
    "  - The default action to take when a lookup fails."
   ]
  },
  {
   "cell_type": "markdown",
   "metadata": {},
   "source": [
    "Let's mimic the way python's built in default dict works.  We need to add some functionality to **supply and then store** both of these data elements when we create an instance of the class.  This is done using a special *method*, `__init__`."
   ]
  },
  {
   "cell_type": "code",
   "execution_count": 4,
   "metadata": {
    "collapsed": true
   },
   "outputs": [],
   "source": [
    "class MyDefaultDict(object):\n",
    "    \"\"\"A personal implementation of a default dictionary.\"\"\"\n",
    "    \n",
    "    def __init__(self, default, dictionary):\n",
    "        self.default = default\n",
    "        self.dictionary = dictionary"
   ]
  },
  {
   "cell_type": "markdown",
   "metadata": {},
   "source": [
    "There's a lot of new concepts in this code, but let's first see how it works."
   ]
  },
  {
   "cell_type": "code",
   "execution_count": 5,
   "metadata": {},
   "outputs": [
    {
     "name": "stdout",
     "output_type": "stream",
     "text": [
      "<function <lambda> at 0x10ec6db90>\n",
      "0\n",
      "{'a': 1, 'b': 2}\n"
     ]
    }
   ],
   "source": [
    "MD = MyDefaultDict(lambda: 0, {'a': 1, 'b': 2})\n",
    "print(MD.default)\n",
    "print(MD.default())\n",
    "print(MD.dictionary)"
   ]
  },
  {
   "cell_type": "code",
   "execution_count": 6,
   "metadata": {},
   "outputs": [
    {
     "ename": "TypeError",
     "evalue": "<lambda>() takes no arguments (1 given)",
     "output_type": "error",
     "traceback": [
      "\u001b[0;31m---------------------------------------------------------------------------\u001b[0m",
      "\u001b[0;31mTypeError\u001b[0m                                 Traceback (most recent call last)",
      "\u001b[0;32m<ipython-input-6-e5a9e39a04b2>\u001b[0m in \u001b[0;36m<module>\u001b[0;34m()\u001b[0m\n\u001b[0;32m----> 1\u001b[0;31m \u001b[0mMD\u001b[0m\u001b[0;34m.\u001b[0m\u001b[0mdefault\u001b[0m\u001b[0;34m(\u001b[0m\u001b[0;36m0\u001b[0m\u001b[0;34m)\u001b[0m\u001b[0;34m\u001b[0m\u001b[0m\n\u001b[0m",
      "\u001b[0;31mTypeError\u001b[0m: <lambda>() takes no arguments (1 given)"
     ]
    }
   ],
   "source": [
    "MD.default(0)"
   ]
  },
  {
   "cell_type": "code",
   "execution_count": 7,
   "metadata": {},
   "outputs": [
    {
     "data": {
      "text/plain": [
       "{'a': 1, 'b': 2}"
      ]
     },
     "execution_count": 7,
     "metadata": {},
     "output_type": "execute_result"
    }
   ],
   "source": [
    "MD.dictionary"
   ]
  },
  {
   "cell_type": "markdown",
   "metadata": {},
   "source": [
    "When we use a class, it is to create *instances of that class*, which we then work with.  We very rarely work with the class directly, and we will often be working with more than one instance of a single class."
   ]
  },
  {
   "cell_type": "code",
   "execution_count": 50,
   "metadata": {},
   "outputs": [
    {
     "name": "stdout",
     "output_type": "stream",
     "text": [
      "{'a': 1, 'b': 2}\n",
      "{'a': 2, 'c': 5, 'b': 3}\n"
     ]
    }
   ],
   "source": [
    "MD = MyDefaultDict(lambda: 0, {'a': 1, 'b': 2})\n",
    "MD2 = MyDefaultDict(lambda: 1, {'a': 2, 'b': 3, 'c': 5})\n",
    "\n",
    "print(MD.dictionary)\n",
    "print(MD2.dictionary)"
   ]
  },
  {
   "cell_type": "markdown",
   "metadata": {},
   "source": [
    "Inside of the code defining a class, `self` represents the instance of the class we are manipulating.\n",
    "\n",
    "A statement like\n",
    "\n",
    "```\n",
    "self.default = default\n",
    "```\n",
    "\n",
    "creates what is known as an *instance varaible* or *instance data*.  In this specific line, we attach the `default` function to the current instance of the class.\n",
    "\n",
    "In this way, once created, each instance of `MyDefaultDict` stores both `default` and `dictionary` data."
   ]
  },
  {
   "cell_type": "markdown",
   "metadata": {},
   "source": [
    "#### Addding Methods to Manipulate Data in a Class"
   ]
  },
  {
   "cell_type": "markdown",
   "metadata": {},
   "source": [
    "Let's implement `__getitem__` and `__setitem__`, which will allow us to index into instances of our class like this\n",
    "\n",
    "```\n",
    "MD['a']\n",
    "# Means the same thing as MD.__getitem__('a')\n",
    "\n",
    "MD['c'] = 3\n",
    "# Means the same thing as MD.__setitem__('c', 3)\n",
    "```"
   ]
  },
  {
   "cell_type": "markdown",
   "metadata": {},
   "source": [
    "As a first attempt, let's ignore our goal of adding default behaviour, we can add that later on down the line."
   ]
  },
  {
   "cell_type": "code",
   "execution_count": 70,
   "metadata": {
    "collapsed": true
   },
   "outputs": [],
   "source": [
    "class MyDefaultDict(object):\n",
    "    \"\"\"A personal implementation of a default dictionary.\"\"\"\n",
    "    \n",
    "    def __init__(self, default, dictionary):\n",
    "        self.default = default\n",
    "        self.dictionary = dictionary\n",
    "        \n",
    "    def __getitem__(self, key):\n",
    "        return self.dictionary[key]\n",
    "    \n",
    "    def __setitem__(self, key, value):\n",
    "        self.dictionary[key] = value"
   ]
  },
  {
   "cell_type": "markdown",
   "metadata": {},
   "source": [
    "Let's test it out."
   ]
  },
  {
   "cell_type": "code",
   "execution_count": 75,
   "metadata": {},
   "outputs": [
    {
     "name": "stdout",
     "output_type": "stream",
     "text": [
      "1\n",
      "2\n",
      "{'a': 1, 'c': 3, 'b': 2}\n"
     ]
    }
   ],
   "source": [
    "MD = MyDefaultDict(lambda: 0, {'a': 1, 'b': 2})\n",
    "\n",
    "print(MD['a'])\n",
    "print(MD['b'])\n",
    "\n",
    "MD['c'] = 3\n",
    "\n",
    "print(MD.dictionary)"
   ]
  },
  {
   "cell_type": "code",
   "execution_count": 63,
   "metadata": {},
   "outputs": [
    {
     "data": {
      "text/plain": [
       "dict"
      ]
     },
     "execution_count": 63,
     "metadata": {},
     "output_type": "execute_result"
    }
   ],
   "source": [
    "type(MD.dictionary)"
   ]
  },
  {
   "cell_type": "markdown",
   "metadata": {},
   "source": [
    "#### Adding the Special Default Behaviour"
   ]
  },
  {
   "cell_type": "code",
   "execution_count": 77,
   "metadata": {
    "collapsed": true
   },
   "outputs": [],
   "source": [
    "class MyDefaultDict(object):\n",
    "    \"\"\"A personal implementation of a default dictionary.\"\"\"\n",
    "    \n",
    "    def __init__(self, default, dictionary):\n",
    "        self.default = default\n",
    "        self.dictionary = dictionary\n",
    "        \n",
    "    def __getitem__(self, key):\n",
    "        if key in self.dictionary:\n",
    "            return self.dictionary[key]\n",
    "        else:\n",
    "            self.dictionary[key] = self.default()\n",
    "            return self.dictionary[key]\n",
    "    \n",
    "    def __setitem__(self, key, value):\n",
    "        self.dictionary[key] = value"
   ]
  },
  {
   "cell_type": "code",
   "execution_count": 78,
   "metadata": {},
   "outputs": [
    {
     "name": "stdout",
     "output_type": "stream",
     "text": [
      "1\n",
      "2\n",
      "0\n",
      "{'a': 1, 'c': 0, 'b': 2}\n"
     ]
    }
   ],
   "source": [
    "MD = MyDefaultDict(lambda: 0, {'a': 1, 'b': 2})\n",
    "\n",
    "print(MD['a'])\n",
    "print(MD['b'])\n",
    "print(MD['c'])\n",
    "print(MD.dictionary)"
   ]
  },
  {
   "cell_type": "markdown",
   "metadata": {},
   "source": [
    "#### Adding Other Dict-y Things"
   ]
  },
  {
   "cell_type": "markdown",
   "metadata": {},
   "source": [
    "A few things that should work for dictionaries still don't work for our new datatype"
   ]
  },
  {
   "cell_type": "code",
   "execution_count": 79,
   "metadata": {},
   "outputs": [
    {
     "ename": "TypeError",
     "evalue": "object of type 'MyDefaultDict' has no len()",
     "output_type": "error",
     "traceback": [
      "\u001b[0;31m---------------------------------------------------------------------------\u001b[0m",
      "\u001b[0;31mTypeError\u001b[0m                                 Traceback (most recent call last)",
      "\u001b[0;32m<ipython-input-79-9aab7d873478>\u001b[0m in \u001b[0;36m<module>\u001b[0;34m()\u001b[0m\n\u001b[0;32m----> 1\u001b[0;31m \u001b[0mlen\u001b[0m\u001b[0;34m(\u001b[0m\u001b[0mMD\u001b[0m\u001b[0;34m)\u001b[0m\u001b[0;34m\u001b[0m\u001b[0m\n\u001b[0m",
      "\u001b[0;31mTypeError\u001b[0m: object of type 'MyDefaultDict' has no len()"
     ]
    }
   ],
   "source": [
    "len(MD)"
   ]
  },
  {
   "cell_type": "markdown",
   "metadata": {},
   "source": [
    "Additionally, code like\n",
    "\n",
    "```\n",
    "'c' in MD\n",
    "```\n",
    "\n",
    "and\n",
    "\n",
    "```\n",
    "for key in MD:\n",
    "    print key, MD[key]\n",
    "```\n",
    "\n",
    "will cause an infinite loop, due to a design error in python itself.\n",
    "\n",
    "Let's fix that with more magic methods."
   ]
  },
  {
   "cell_type": "code",
   "execution_count": 1,
   "metadata": {
    "collapsed": true
   },
   "outputs": [],
   "source": [
    "class MyDefaultDict(object):\n",
    "    \"\"\"A personal implementation of a default dictionary.\"\"\"\n",
    "    \n",
    "    def __init__(self, default, dictionary):\n",
    "        self.default = default\n",
    "        self.dictionary = dictionary\n",
    "        \n",
    "    def __getitem__(self, key):\n",
    "        if key in self.dictionary:\n",
    "            return self.dictionary[key]\n",
    "        else:\n",
    "            return self.default()\n",
    "    \n",
    "    def __setitem__(self, key, value):\n",
    "        self.dictionary[key] = value\n",
    "        \n",
    "    def __len__(self):\n",
    "        return len(self.dictionary)\n",
    "        \n",
    "    def __contains__(self, key):\n",
    "        return key in self.dictionary\n",
    "    \n",
    "    def __iter__(self):\n",
    "        for key in self.dictionary:\n",
    "            yield key"
   ]
  },
  {
   "cell_type": "code",
   "execution_count": 2,
   "metadata": {
    "collapsed": true
   },
   "outputs": [],
   "source": [
    "MD = MyDefaultDict(lambda: 0, {'a': 1, 'b': 2})"
   ]
  },
  {
   "cell_type": "code",
   "execution_count": 3,
   "metadata": {},
   "outputs": [
    {
     "name": "stdout",
     "output_type": "stream",
     "text": [
      "True\n"
     ]
    }
   ],
   "source": [
    "print('a' in MD)"
   ]
  },
  {
   "cell_type": "code",
   "execution_count": 4,
   "metadata": {},
   "outputs": [
    {
     "name": "stdout",
     "output_type": "stream",
     "text": [
      "a 1\n",
      "b 2\n"
     ]
    }
   ],
   "source": [
    "for key in MD:\n",
    "    print key, MD[key]"
   ]
  },
  {
   "cell_type": "markdown",
   "metadata": {},
   "source": [
    "#### Non-Magic Methods"
   ]
  },
  {
   "cell_type": "markdown",
   "metadata": {},
   "source": [
    "It's worth mentioning that not all methods are magic.  Here is a class that represents a simple quadratic polynomial, and has an `evaluate` method, which plugs a number into the polynomial."
   ]
  },
  {
   "cell_type": "code",
   "execution_count": 45,
   "metadata": {
    "collapsed": true
   },
   "outputs": [],
   "source": [
    "class QuadraticPolynomial(object):\n",
    "    \"\"\"A class representing a polynomial like:\n",
    "    \n",
    "        a_0 + a_1 x + a_2 x^2\n",
    "    \"\"\"\n",
    "    \n",
    "    def __init__(self, a0, a1, a2):\n",
    "        self.coefficients = (a0, a1, a2)\n",
    "        \n",
    "    def evaluate(self, x):\n",
    "        a0, a1, a2 = self.coefficients\n",
    "        return a2 * x * x + a1 * x + a0"
   ]
  },
  {
   "cell_type": "markdown",
   "metadata": {},
   "source": [
    "#### Excercizes\n",
    "\n",
    "1. Use the `__add__` magic method to allow something like `QuadraticPolynomial(1, 1, 1) + QuadraticPolynomial(1, 0, 1)`.  The new method should *return* another `QuadraticPolynomial`.\n",
    "\n",
    "2. Write a class `LinearPolynomial`.  Add a method `differentiate` to `QuadraticPolynomial` that returns a `LinearPolynomial`.\n",
    "\n",
    "3. Suppose we create a new `QuadraticPolynomial` like `QuadraticPolynomial(1, 1, 0)`.  Is this really a `QuadraticPolynomial`?  What should it be?  How can you resolve this weird inconsistency in data types?"
   ]
  },
  {
   "cell_type": "code",
   "execution_count": 46,
   "metadata": {
    "collapsed": true
   },
   "outputs": [],
   "source": [
    "class QuadraticPolynomial(object):\n",
    "    \"\"\"A class representing a polynomial like:\n",
    "    \n",
    "        a_0 + a_1 x + a_2 x^2\n",
    "    \"\"\"\n",
    "    \n",
    "    def __init__(self, a0, a1, a2):\n",
    "        self.coefficients = (a0, a1, a2)\n",
    "        \n",
    "    def evaluate(self, x):\n",
    "        a0, a1, a2 = self.coefficients\n",
    "        return a2 * x * x + a1 * x + a0\n",
    "    \n",
    "    def __repr__(self):\n",
    "        return \"QuadraticPolynomial({}, {}, {})\".format(\n",
    "            self.coefficients[0],\n",
    "            self.coefficients[1],\n",
    "            self.coefficients[2])\n",
    "    \n",
    "    def __str__(self):\n",
    "        return \"{}x^2 + {}x + {}\".format(\n",
    "            self.coefficients[2],\n",
    "            self.coefficients[1],\n",
    "            self.coefficients[0])\n",
    "    \n",
    "    def _apply_operation_to_coefficients(self, other, operation):\n",
    "        a0 = operation(self.coefficients[0], other.coefficients[0])\n",
    "        a1 = operation(self.coefficients[1], other.coefficients[1])\n",
    "        a2 = operation(self.coefficients[2], other.coefficients[2])\n",
    "        return QuadraticPolynomial(a0, a1, a2)\n",
    "    \n",
    "    def __add__(self, other):\n",
    "        return self._apply_operation_to_coefficients(other, lambda x, y: x + y)\n",
    "    \n",
    "    def __sub__(self, other):\n",
    "        return self._apply_operation_to_coefficients(other, lambda x, y: x - y)\n",
    "    \n",
    "    def differentiate(self):\n",
    "        a0, a1, a2 = self.coefficients\n",
    "        return LinearPolynomial(a1, 2 * a2)"
   ]
  },
  {
   "cell_type": "code",
   "execution_count": 47,
   "metadata": {
    "collapsed": true
   },
   "outputs": [],
   "source": [
    "class LinearPolynomial(object):\n",
    "    \n",
    "    def __init__(self, a0, a1):\n",
    "        self.coefficients = (a0, a1)\n",
    "    \n",
    "    def __str__(self):\n",
    "        return \"{}x + {}\".format(self.coefficients[1], self.coefficients[0])"
   ]
  },
  {
   "cell_type": "code",
   "execution_count": 48,
   "metadata": {
    "collapsed": true
   },
   "outputs": [],
   "source": [
    "def polynomial_factory(coefficients):\n",
    "    if coefficients[2] == 0:\n",
    "        return LinearPolynomial(coefficients[0],\n",
    "                                coefficients[1])\n",
    "    else:\n",
    "        return QuadraticPolynomial(coefficients[0],\n",
    "                                   coefficients[1],\n",
    "                                   coefficients[2])"
   ]
  }
 ],
 "metadata": {
  "anaconda-cloud": {},
  "kernelspec": {
   "display_name": "Python 2",
   "language": "python",
   "name": "python2"
  },
  "language_info": {
   "codemirror_mode": {
    "name": "ipython",
    "version": 2
   },
   "file_extension": ".py",
   "mimetype": "text/x-python",
   "name": "python",
   "nbconvert_exporter": "python",
   "pygments_lexer": "ipython2",
   "version": "2.7.13"
  }
 },
 "nbformat": 4,
 "nbformat_minor": 1
}
