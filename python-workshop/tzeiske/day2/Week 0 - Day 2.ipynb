{
 "cells": [
  {
   "cell_type": "markdown",
   "metadata": {
    "slideshow": {
     "slide_type": "slide"
    }
   },
   "source": [
    "# Python Workshop\n",
    "\n",
    "This workshop will review Python fundamentals \n",
    "and prepare you for Galvanize's DSI."
   ]
  },
  {
   "cell_type": "markdown",
   "metadata": {
    "slideshow": {
     "slide_type": "slide"
    }
   },
   "source": [
    "# Topics\n",
    "\n",
    "### Day 2\n",
    "\n",
    "Morning:\n",
    "\n",
    "* sets\n",
    "* dictionaries\n",
    "* efficiency\n",
    "\n",
    "Afternoon:\n",
    "\n",
    "1. Discuss morning solutions:\n",
    "    * View student solutions & official solutions.\n",
    "    * Why such a dramatic increase in speed for each of the four functions?\n",
    "2. Prep for afternoon exercise:\n",
    "    * Understand the data.\n",
    "    * Read through the exercise text.\n",
    "    * Brainstorm the 4 functions you'll need to write."
   ]
  },
  {
   "cell_type": "markdown",
   "metadata": {
    "collapsed": true,
    "slideshow": {
     "slide_type": "slide"
    }
   },
   "source": [
    "# Sets"
   ]
  },
  {
   "cell_type": "code",
   "execution_count": 1,
   "metadata": {
    "collapsed": true,
    "slideshow": {
     "slide_type": "slide"
    }
   },
   "outputs": [],
   "source": [
    "groceries = set()\n",
    "groceries.add('carrots')\n",
    "groceries.add('figs')\n",
    "groceries.add('popcorn')"
   ]
  },
  {
   "cell_type": "code",
   "execution_count": 2,
   "metadata": {
    "slideshow": {
     "slide_type": "slide"
    }
   },
   "outputs": [],
   "source": [
    "groceries2 = {'popcorn', 'carrots', 'figs'}"
   ]
  },
  {
   "cell_type": "code",
   "execution_count": 3,
   "metadata": {},
   "outputs": [],
   "source": [
    "groceries3 = set(('popcorn', 'carrots', 'figs'))"
   ]
  },
  {
   "cell_type": "code",
   "execution_count": 4,
   "metadata": {},
   "outputs": [
    {
     "data": {
      "text/plain": [
       "True"
      ]
     },
     "execution_count": 4,
     "metadata": {},
     "output_type": "execute_result"
    }
   ],
   "source": [
    "groceries == groceries2 == groceries3"
   ]
  },
  {
   "cell_type": "code",
   "execution_count": 5,
   "metadata": {},
   "outputs": [
    {
     "data": {
      "text/plain": [
       "{'carrots', 'figs', 'popcorn'}"
      ]
     },
     "execution_count": 5,
     "metadata": {},
     "output_type": "execute_result"
    }
   ],
   "source": [
    "groceries"
   ]
  },
  {
   "cell_type": "code",
   "execution_count": 6,
   "metadata": {},
   "outputs": [
    {
     "data": {
      "text/plain": [
       "True"
      ]
     },
     "execution_count": 6,
     "metadata": {},
     "output_type": "execute_result"
    }
   ],
   "source": [
    "'figs' in groceries"
   ]
  },
  {
   "cell_type": "code",
   "execution_count": 7,
   "metadata": {},
   "outputs": [
    {
     "data": {
      "text/plain": [
       "False"
      ]
     },
     "execution_count": 7,
     "metadata": {},
     "output_type": "execute_result"
    }
   ],
   "source": [
    "'ryan' in groceries"
   ]
  },
  {
   "cell_type": "code",
   "execution_count": 8,
   "metadata": {},
   "outputs": [
    {
     "name": "stdout",
     "output_type": "stream",
     "text": [
      "popcorn\n",
      "carrots\n",
      "figs\n"
     ]
    }
   ],
   "source": [
    "for element in groceries:\n",
    "    print element"
   ]
  },
  {
   "cell_type": "markdown",
   "metadata": {
    "slideshow": {
     "slide_type": "slide"
    }
   },
   "source": [
    "# Dictionaries\n",
    "\n",
    "A dictionary is a set where each element has an associated value."
   ]
  },
  {
   "cell_type": "code",
   "execution_count": 9,
   "metadata": {
    "collapsed": true,
    "slideshow": {
     "slide_type": "slide"
    }
   },
   "outputs": [],
   "source": [
    "prices = {}\n",
    "prices['banana'] = 1\n",
    "prices['steak'] = 10\n",
    "prices['ice cream'] = 5"
   ]
  },
  {
   "cell_type": "code",
   "execution_count": 10,
   "metadata": {
    "slideshow": {
     "slide_type": "slide"
    }
   },
   "outputs": [],
   "source": [
    "prices2 = {'steak': 10, 'banana': 1, 'ice cream': 5}"
   ]
  },
  {
   "cell_type": "code",
   "execution_count": 11,
   "metadata": {},
   "outputs": [
    {
     "data": {
      "text/plain": [
       "True"
      ]
     },
     "execution_count": 11,
     "metadata": {},
     "output_type": "execute_result"
    }
   ],
   "source": [
    "prices == prices2"
   ]
  },
  {
   "cell_type": "code",
   "execution_count": 12,
   "metadata": {},
   "outputs": [
    {
     "data": {
      "text/plain": [
       "{'banana': 1, 'ice cream': 5, 'steak': 10}"
      ]
     },
     "execution_count": 12,
     "metadata": {},
     "output_type": "execute_result"
    }
   ],
   "source": [
    "prices"
   ]
  },
  {
   "cell_type": "code",
   "execution_count": 13,
   "metadata": {},
   "outputs": [
    {
     "data": {
      "text/plain": [
       "True"
      ]
     },
     "execution_count": 13,
     "metadata": {},
     "output_type": "execute_result"
    }
   ],
   "source": [
    "'banana' in prices"
   ]
  },
  {
   "cell_type": "code",
   "execution_count": 14,
   "metadata": {},
   "outputs": [
    {
     "name": "stdout",
     "output_type": "stream",
     "text": [
      "1\n"
     ]
    }
   ],
   "source": [
    "print prices['banana']"
   ]
  },
  {
   "cell_type": "code",
   "execution_count": 15,
   "metadata": {},
   "outputs": [
    {
     "data": {
      "text/plain": [
       "False"
      ]
     },
     "execution_count": 15,
     "metadata": {},
     "output_type": "execute_result"
    }
   ],
   "source": [
    "'ryan' in prices"
   ]
  },
  {
   "cell_type": "code",
   "execution_count": 16,
   "metadata": {},
   "outputs": [
    {
     "ename": "KeyError",
     "evalue": "'ryan'",
     "output_type": "error",
     "traceback": [
      "\u001b[0;31m---------------------------------------------------------------------------\u001b[0m",
      "\u001b[0;31mKeyError\u001b[0m                                  Traceback (most recent call last)",
      "\u001b[0;32m<ipython-input-16-a9f28d981b22>\u001b[0m in \u001b[0;36m<module>\u001b[0;34m()\u001b[0m\n\u001b[0;32m----> 1\u001b[0;31m \u001b[0;32mprint\u001b[0m \u001b[0mprices\u001b[0m\u001b[0;34m[\u001b[0m\u001b[0;34m'ryan'\u001b[0m\u001b[0;34m]\u001b[0m\u001b[0;34m\u001b[0m\u001b[0m\n\u001b[0m",
      "\u001b[0;31mKeyError\u001b[0m: 'ryan'"
     ]
    }
   ],
   "source": [
    "print prices['ryan']"
   ]
  },
  {
   "cell_type": "code",
   "execution_count": 17,
   "metadata": {},
   "outputs": [
    {
     "name": "stdout",
     "output_type": "stream",
     "text": [
      "steak -> 10\n",
      "banana -> 1\n",
      "ice cream -> 5\n"
     ]
    }
   ],
   "source": [
    "for key, value in prices.iteritems():\n",
    "    print key, '->', value"
   ]
  },
  {
   "cell_type": "markdown",
   "metadata": {
    "slideshow": {
     "slide_type": "slide"
    }
   },
   "source": [
    "# Hashing\n",
    "\n",
    "* a 'hash' function computes an integer for the given object\n",
    "* dictionaries and sets use hashing for fast inserts, removes, and lookups\n",
    "\n",
    "BOARDWORK HERE!"
   ]
  },
  {
   "cell_type": "code",
   "execution_count": 24,
   "metadata": {},
   "outputs": [
    {
     "name": "stdout",
     "output_type": "stream",
     "text": [
      "-5995074038886156178\n",
      "7\n",
      "-8771069815892485235\n",
      "0\n",
      "1\n",
      "2\n",
      "3\n",
      "4\n",
      "5\n",
      "6\n",
      "7\n",
      "8\n",
      "9\n",
      "6144018481\n",
      "6272018864\n",
      "6400019251\n",
      "6528019634\n",
      "6656020021\n",
      "6784020404\n",
      "6912020791\n",
      "7040021174\n",
      "7168021561\n",
      "7296021944\n"
     ]
    }
   ],
   "source": [
    "print hash(\"ryan\")\n",
    "print hash(7)\n",
    "print hash((1, 3, 'bob'))\n",
    "\n",
    "for i in range(10):\n",
    "    print hash(i)\n",
    "    \n",
    "for i in range(10):\n",
    "    print hash(str(i))"
   ]
  },
  {
   "cell_type": "code",
   "execution_count": 26,
   "metadata": {},
   "outputs": [
    {
     "name": "stdout",
     "output_type": "stream",
     "text": [
      "63\n",
      "7\n",
      "105\n"
     ]
    }
   ],
   "source": [
    "p = 113\n",
    "\n",
    "print hash(\"ryan\")        % p #modulo 113\n",
    "print hash(7)             % p\n",
    "print hash((1, 3, 'bob')) % p"
   ]
  },
  {
   "cell_type": "markdown",
   "metadata": {
    "slideshow": {
     "slide_type": "slide"
    }
   },
   "source": [
    "# Variations on Dictionaries\n",
    "\n",
    "* defaultdict\n",
    "* Counter"
   ]
  },
  {
   "cell_type": "markdown",
   "metadata": {},
   "source": [
    "### defaultdict\n",
    "\n",
    "See: https://docs.python.org/2/library/collections.html"
   ]
  },
  {
   "cell_type": "code",
   "execution_count": 29,
   "metadata": {
    "slideshow": {
     "slide_type": "slide"
    }
   },
   "outputs": [
    {
     "name": "stdout",
     "output_type": "stream",
     "text": [
      "25\n",
      "defaultdict(<type 'int'>, {1: 25})\n",
      "0\n",
      "defaultdict(<type 'int'>, {1: 25, 2: 0})\n"
     ]
    }
   ],
   "source": [
    "from collections import defaultdict\n",
    "\n",
    "d_int = defaultdict(int) #defaults to 0\n",
    "d_int[1] = 25\n",
    "print d_int[1]\n",
    "print d_int\n",
    "print d_int[2] #automatically creates the entry instead of giving error\n",
    "print d_int"
   ]
  },
  {
   "cell_type": "code",
   "execution_count": 30,
   "metadata": {
    "slideshow": {
     "slide_type": "slide"
    }
   },
   "outputs": [
    {
     "name": "stdout",
     "output_type": "stream",
     "text": [
      "Default float: 0.0\n",
      "Default string: \n",
      "Default list: []\n"
     ]
    }
   ],
   "source": [
    "d_float = defaultdict(float)\n",
    "print 'Default float:', d_float['some_key']\n",
    "\n",
    "d_str = defaultdict(str)\n",
    "print 'Default string:', d_str['some_key']\n",
    "\n",
    "d_list = defaultdict(list)\n",
    "print 'Default list:', d_list['some_key']"
   ]
  },
  {
   "cell_type": "markdown",
   "metadata": {},
   "source": [
    "### Why defaultdict?"
   ]
  },
  {
   "cell_type": "code",
   "execution_count": 31,
   "metadata": {},
   "outputs": [
    {
     "name": "stdout",
     "output_type": "stream",
     "text": [
      "{'and': 1, 'then': 1, 'gym': 1, 'ryan': 1, 'to': 2, 'sleep': 1, 'walks': 2, 'home': 1, 'the': 1, 'eat': 1}\n",
      "defaultdict(<type 'int'>, {'and': 1, 'then': 1, 'gym': 1, 'ryan': 1, 'to': 2, 'sleep': 1, 'walks': 2, 'home': 1, 'the': 1, 'eat': 1})\n"
     ]
    },
    {
     "data": {
      "text/plain": [
       "True"
      ]
     },
     "execution_count": 31,
     "metadata": {},
     "output_type": "execute_result"
    }
   ],
   "source": [
    "document = \"ryan walks to the gym then walks home to eat and sleep\".split()\n",
    "\n",
    "# Common pattern:\n",
    "word_counts = {}\n",
    "for word in document:\n",
    "    if word in word_counts:\n",
    "        word_counts[word] += 1\n",
    "    else:\n",
    "        word_counts[word] = 1\n",
    "print word_counts\n",
    "\n",
    "# Better if you use a defaultdict!\n",
    "word_counts_2 = defaultdict(int)\n",
    "for word in document:\n",
    "    word_counts_2[word] += 1\n",
    "print word_counts_2\n",
    "\n",
    "# Same?\n",
    "word_counts == word_counts_2"
   ]
  },
  {
   "cell_type": "markdown",
   "metadata": {},
   "source": [
    "### Counter"
   ]
  },
  {
   "cell_type": "code",
   "execution_count": 32,
   "metadata": {
    "slideshow": {
     "slide_type": "slide"
    }
   },
   "outputs": [
    {
     "name": "stdout",
     "output_type": "stream",
     "text": [
      "Counter({'a': 2, 'c': 2, 'b': 2})\n"
     ]
    }
   ],
   "source": [
    "from collections import Counter\n",
    "\n",
    "letters = ['c', 'a', 'a', 'b', 'b', 'c']\n",
    "counter = Counter(letters) # note the difference in capitalization!\n",
    "print counter"
   ]
  },
  {
   "cell_type": "code",
   "execution_count": 33,
   "metadata": {
    "slideshow": {
     "slide_type": "slide"
    }
   },
   "outputs": [
    {
     "name": "stdout",
     "output_type": "stream",
     "text": [
      "[('a', 2), ('c', 2), ('b', 2)]\n",
      "[('a', 2), ('c', 2)]\n",
      "[('a', 2)]\n"
     ]
    }
   ],
   "source": [
    "# Counters have a 'most_common' method\n",
    "\n",
    "print counter.most_common()\n",
    "\n",
    "# Elements with equal counts are ordered arbitrarily:\n",
    "print counter.most_common(2)\n",
    "print counter.most_common(1) "
   ]
  },
  {
   "cell_type": "code",
   "execution_count": 35,
   "metadata": {
    "collapsed": true,
    "slideshow": {
     "slide_type": "slide"
    }
   },
   "outputs": [],
   "source": [
    "# Can two numbers draw (with replacement) from a list sum to a given value?\n",
    "\n",
    "list_ = [3, 5, 7, 9]\n",
    "\n",
    "# make_sum(list_, 4) ==> False #can two numbers drawn from the list add up to 4?\n",
    "# make_sum(list_, 8) ==> True\n"
   ]
  },
  {
   "cell_type": "code",
   "execution_count": 39,
   "metadata": {
    "slideshow": {
     "slide_type": "slide"
    }
   },
   "outputs": [],
   "source": [
    "# Method 1\n",
    "\n",
    "from itertools import combinations_with_replacement\n",
    "\n",
    "def make_sum1(numbers, target):\n",
    "    combinations = combinations_with_replacement(numbers, 2)\n",
    "    for combo in combinations:\n",
    "        if sum(combo) == target:\n",
    "            return True\n",
    "    return False\n"
   ]
  },
  {
   "cell_type": "code",
   "execution_count": 40,
   "metadata": {
    "collapsed": true
   },
   "outputs": [],
   "source": [
    "# Method 2\n",
    "\n",
    "def make_sum2(numbers, target):\n",
    "    for number in numbers:\n",
    "        if target - number in numbers:\n",
    "            return True\n",
    "    return False\n"
   ]
  },
  {
   "cell_type": "code",
   "execution_count": 54,
   "metadata": {
    "slideshow": {
     "slide_type": "slide"
    }
   },
   "outputs": [],
   "source": [
    "# Method 3\n",
    "\n",
    "def make_sum3(numbers, target):\n",
    "    numbers = set(numbers)\n",
    "    for number in numbers:\n",
    "        if target - number in numbers:\n",
    "            return True\n",
    "    return False\n"
   ]
  },
  {
   "cell_type": "code",
   "execution_count": 52,
   "metadata": {
    "slideshow": {
     "slide_type": "slide"
    }
   },
   "outputs": [],
   "source": [
    "import random\n",
    "\n",
    "number_of_samples = 1000\n",
    "list_range = (1, 1000)\n",
    "list_length = 100\n",
    "\n",
    "samples = []\n",
    "\n",
    "for s in xrange(number_of_samples):\n",
    "    list_ = [random.randint(*list_range) for i in xrange(list_length)]\n",
    "    target = random.randint(*list_range)\n",
    "    samples.append((list_, target))\n"
   ]
  },
  {
   "cell_type": "code",
   "execution_count": 53,
   "metadata": {
    "slideshow": {
     "slide_type": "slide"
    }
   },
   "outputs": [],
   "source": [
    "def test_make_sum(samples, make_sum):\n",
    "    for numbers, target in samples:\n",
    "        make_sum(numbers, target)"
   ]
  },
  {
   "cell_type": "code",
   "execution_count": 44,
   "metadata": {
    "slideshow": {
     "slide_type": "slide"
    }
   },
   "outputs": [
    {
     "name": "stdout",
     "output_type": "stream",
     "text": [
      "CPU times: user 519 ms, sys: 19.6 ms, total: 539 ms\n",
      "Wall time: 556 ms\n"
     ]
    }
   ],
   "source": [
    "time test_make_sum(samples, make_sum1)"
   ]
  },
  {
   "cell_type": "code",
   "execution_count": 45,
   "metadata": {
    "slideshow": {
     "slide_type": "slide"
    }
   },
   "outputs": [
    {
     "name": "stdout",
     "output_type": "stream",
     "text": [
      "CPU times: user 79.2 ms, sys: 3.85 ms, total: 83 ms\n",
      "Wall time: 85.2 ms\n"
     ]
    }
   ],
   "source": [
    "time test_make_sum(samples, make_sum2)"
   ]
  },
  {
   "cell_type": "code",
   "execution_count": 46,
   "metadata": {
    "slideshow": {
     "slide_type": "slide"
    }
   },
   "outputs": [
    {
     "name": "stdout",
     "output_type": "stream",
     "text": [
      "CPU times: user 12.7 ms, sys: 3.41 ms, total: 16.1 ms\n",
      "Wall time: 13.2 ms\n"
     ]
    }
   ],
   "source": [
    "time test_make_sum(samples, make_sum3)"
   ]
  }
 ],
 "metadata": {
  "kernelspec": {
   "display_name": "Python 2",
   "language": "python",
   "name": "python2"
  },
  "language_info": {
   "codemirror_mode": {
    "name": "ipython",
    "version": 2
   },
   "file_extension": ".py",
   "mimetype": "text/x-python",
   "name": "python",
   "nbconvert_exporter": "python",
   "pygments_lexer": "ipython2",
   "version": "2.7.13"
  }
 },
 "nbformat": 4,
 "nbformat_minor": 1
}
