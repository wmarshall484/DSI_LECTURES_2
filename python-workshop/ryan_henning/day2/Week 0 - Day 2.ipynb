{
 "cells": [
  {
   "cell_type": "markdown",
   "metadata": {
    "slideshow": {
     "slide_type": "slide"
    }
   },
   "source": [
    "# Python Workshop\n",
    "\n",
    "This workshop will review Python fundamentals \n",
    "and prepare you for Galvanize's DSI."
   ]
  },
  {
   "cell_type": "markdown",
   "metadata": {
    "slideshow": {
     "slide_type": "slide"
    }
   },
   "source": [
    "# Topics\n",
    "\n",
    "### Day 2\n",
    "\n",
    "Morning:\n",
    "\n",
    "* sets\n",
    "* dictionaries\n",
    "* efficiency\n",
    "\n",
    "Afternoon:\n",
    "\n",
    "1. Discuss morning solutions:\n",
    "    * View student solutions & official solutions.\n",
    "    * Why such a dramatic increase in speed for each of the four functions?\n",
    "2. Prep for afternoon exercise:\n",
    "    * Read through the exercise text.\n",
    "    * Brainstorm the 4 functions you'll need to write."
   ]
  },
  {
   "cell_type": "markdown",
   "metadata": {
    "collapsed": true,
    "slideshow": {
     "slide_type": "slide"
    }
   },
   "source": [
    "# Sets"
   ]
  },
  {
   "cell_type": "code",
   "execution_count": null,
   "metadata": {
    "collapsed": true,
    "slideshow": {
     "slide_type": "slide"
    }
   },
   "outputs": [],
   "source": [
    "groceries = set()\n",
    "groceries.add('carrots')\n",
    "groceries.add('figs')\n",
    "groceries.add('popcorn')"
   ]
  },
  {
   "cell_type": "code",
   "execution_count": null,
   "metadata": {
    "collapsed": false,
    "slideshow": {
     "slide_type": "slide"
    }
   },
   "outputs": [],
   "source": [
    "groceries2 = {'popcorn', 'carrots', 'figs'}"
   ]
  },
  {
   "cell_type": "code",
   "execution_count": null,
   "metadata": {
    "collapsed": false
   },
   "outputs": [],
   "source": [
    "groceries3 = set(('popcorn', 'carrots', 'figs'))"
   ]
  },
  {
   "cell_type": "code",
   "execution_count": null,
   "metadata": {
    "collapsed": false
   },
   "outputs": [],
   "source": [
    "groceries == groceries2 == groceries3"
   ]
  },
  {
   "cell_type": "code",
   "execution_count": null,
   "metadata": {
    "collapsed": false
   },
   "outputs": [],
   "source": [
    "groceries"
   ]
  },
  {
   "cell_type": "code",
   "execution_count": null,
   "metadata": {
    "collapsed": false
   },
   "outputs": [],
   "source": [
    "'figs' in groceries"
   ]
  },
  {
   "cell_type": "code",
   "execution_count": null,
   "metadata": {
    "collapsed": false
   },
   "outputs": [],
   "source": [
    "'ryan' in groceries"
   ]
  },
  {
   "cell_type": "code",
   "execution_count": null,
   "metadata": {
    "collapsed": false
   },
   "outputs": [],
   "source": [
    "for element in groceries:\n",
    "    print element"
   ]
  },
  {
   "cell_type": "markdown",
   "metadata": {
    "slideshow": {
     "slide_type": "slide"
    }
   },
   "source": [
    "# Dictionaries\n",
    "\n",
    "A dictionary is a set where each element has an associated value."
   ]
  },
  {
   "cell_type": "code",
   "execution_count": null,
   "metadata": {
    "collapsed": true,
    "slideshow": {
     "slide_type": "slide"
    }
   },
   "outputs": [],
   "source": [
    "prices = {}\n",
    "prices['banana'] = 1\n",
    "prices['steak'] = 10\n",
    "prices['ice cream'] = 5"
   ]
  },
  {
   "cell_type": "code",
   "execution_count": null,
   "metadata": {
    "collapsed": false,
    "slideshow": {
     "slide_type": "slide"
    }
   },
   "outputs": [],
   "source": [
    "prices2 = {'steak': 10, 'banana': 1, 'ice cream': 5}"
   ]
  },
  {
   "cell_type": "code",
   "execution_count": null,
   "metadata": {
    "collapsed": false
   },
   "outputs": [],
   "source": [
    "prices == prices2"
   ]
  },
  {
   "cell_type": "code",
   "execution_count": null,
   "metadata": {
    "collapsed": false
   },
   "outputs": [],
   "source": [
    "prices"
   ]
  },
  {
   "cell_type": "code",
   "execution_count": null,
   "metadata": {
    "collapsed": false
   },
   "outputs": [],
   "source": [
    "'banana' in prices"
   ]
  },
  {
   "cell_type": "code",
   "execution_count": null,
   "metadata": {
    "collapsed": false
   },
   "outputs": [],
   "source": [
    "'ryan' in prices"
   ]
  },
  {
   "cell_type": "code",
   "execution_count": null,
   "metadata": {
    "collapsed": false
   },
   "outputs": [],
   "source": [
    "for key, value in prices.iteritems():\n",
    "    print key, '->', value"
   ]
  },
  {
   "cell_type": "markdown",
   "metadata": {
    "slideshow": {
     "slide_type": "slide"
    }
   },
   "source": [
    "!!! __(polls 1-3)__ !!!"
   ]
  },
  {
   "cell_type": "markdown",
   "metadata": {
    "slideshow": {
     "slide_type": "slide"
    }
   },
   "source": [
    "# Hashing\n",
    "\n",
    "* a 'hash' function computes an integer for the given object\n",
    "* dictionaries and sets use hashing for fast inserts, removes, and lookups"
   ]
  },
  {
   "cell_type": "markdown",
   "metadata": {},
   "source": [
    "!!! __(polls 4-5)__ !!!"
   ]
  },
  {
   "cell_type": "markdown",
   "metadata": {
    "slideshow": {
     "slide_type": "slide"
    }
   },
   "source": [
    "# Variations on Dictionaries\n",
    "\n",
    "* defaultdict\n",
    "* Counter"
   ]
  },
  {
   "cell_type": "markdown",
   "metadata": {},
   "source": [
    "### defaultdict\n",
    "\n",
    "See: https://docs.python.org/2/library/collections.html"
   ]
  },
  {
   "cell_type": "code",
   "execution_count": null,
   "metadata": {
    "collapsed": false,
    "slideshow": {
     "slide_type": "slide"
    }
   },
   "outputs": [],
   "source": [
    "from collections import defaultdict\n",
    "\n",
    "d_int = defaultdict(int)\n",
    "d_int[1] = 25\n",
    "print d_int[1]\n",
    "print d_int[2]"
   ]
  },
  {
   "cell_type": "code",
   "execution_count": null,
   "metadata": {
    "collapsed": false,
    "slideshow": {
     "slide_type": "slide"
    }
   },
   "outputs": [],
   "source": [
    "d_float = defaultdict(float)\n",
    "print 'Default float:', d_float['some_key']\n",
    "\n",
    "d_str = defaultdict(str)\n",
    "print 'Default string:', d_str['some_key']\n",
    "\n",
    "d_list = defaultdict(list)\n",
    "print 'Default list:', d_list['some_key']"
   ]
  },
  {
   "cell_type": "markdown",
   "metadata": {},
   "source": [
    "### Why defaultdict?"
   ]
  },
  {
   "cell_type": "code",
   "execution_count": null,
   "metadata": {
    "collapsed": false
   },
   "outputs": [],
   "source": [
    "document = \"ryan walks to the gym then walks home to eat and sleep\".split()\n",
    "\n",
    "# Common pattern:\n",
    "word_counts = {}\n",
    "for word in document:\n",
    "    if word in word_counts:\n",
    "        word_counts[word] += 1\n",
    "    else:\n",
    "        word_counts[word] = 1\n",
    "print word_counts\n",
    "\n",
    "# Better if you use a defaultdict!\n",
    "word_counts_2 = defaultdict(int)\n",
    "for word in document:\n",
    "    word_counts_2[word] += 1\n",
    "print word_counts_2\n",
    "\n",
    "# Same?\n",
    "word_counts == word_counts_2"
   ]
  },
  {
   "cell_type": "markdown",
   "metadata": {},
   "source": [
    "### Counter"
   ]
  },
  {
   "cell_type": "code",
   "execution_count": null,
   "metadata": {
    "collapsed": false,
    "slideshow": {
     "slide_type": "slide"
    }
   },
   "outputs": [],
   "source": [
    "from collections import Counter\n",
    "\n",
    "letters = ['c', 'a', 'a', 'b', 'b', 'c']\n",
    "counter = Counter(letters) # note the difference in capitalization!\n",
    "print counter"
   ]
  },
  {
   "cell_type": "code",
   "execution_count": null,
   "metadata": {
    "collapsed": false,
    "slideshow": {
     "slide_type": "slide"
    }
   },
   "outputs": [],
   "source": [
    "# Counters have a 'most_common' method\n",
    "\n",
    "print counter.most_common()\n",
    "\n",
    "# Elements with equal counts are ordered arbitrarily:\n",
    "print counter.most_common(2)\n",
    "print counter.most_common(1) "
   ]
  },
  {
   "cell_type": "code",
   "execution_count": null,
   "metadata": {
    "collapsed": true,
    "slideshow": {
     "slide_type": "slide"
    }
   },
   "outputs": [],
   "source": [
    "# Can two numbers draw (with replacement) from a list sum to a given value?\n",
    "\n",
    "list_ = [3, 5, 7, 9]\n",
    "\n",
    "# make_sum(list_, 4) ==> False\n",
    "# make_sum(list_, 8) ==> True\n"
   ]
  },
  {
   "cell_type": "code",
   "execution_count": null,
   "metadata": {
    "collapsed": false,
    "slideshow": {
     "slide_type": "slide"
    }
   },
   "outputs": [],
   "source": [
    "# Method 1\n",
    "\n",
    "from itertools import combinations_with_replacement\n",
    "\n",
    "def make_sum1(numbers, target):\n",
    "    combinations = combinations_with_replacement(numbers, 2)\n",
    "    for combo in combinations:\n",
    "        if sum(combo) == target:\n",
    "            return True\n",
    "    return False\n"
   ]
  },
  {
   "cell_type": "code",
   "execution_count": null,
   "metadata": {
    "collapsed": true
   },
   "outputs": [],
   "source": [
    "# Method 2\n",
    "\n",
    "def make_sum2(numbers, target):\n",
    "    for number in numbers:\n",
    "        if target - number in numbers:\n",
    "            return True\n",
    "    return False\n"
   ]
  },
  {
   "cell_type": "code",
   "execution_count": null,
   "metadata": {
    "collapsed": false,
    "slideshow": {
     "slide_type": "slide"
    }
   },
   "outputs": [],
   "source": [
    "# Method 3\n",
    "\n",
    "def make_sum3(numbers, target):\n",
    "    numbers = set(numbers)\n",
    "    for number in numbers:\n",
    "        if target - number in numbers:\n",
    "            return True\n",
    "    return False\n"
   ]
  },
  {
   "cell_type": "code",
   "execution_count": null,
   "metadata": {
    "collapsed": false,
    "slideshow": {
     "slide_type": "slide"
    }
   },
   "outputs": [],
   "source": [
    "import random\n",
    "\n",
    "number_of_samples = 1000\n",
    "list_range = (1, 1000)\n",
    "list_length = 100\n",
    "\n",
    "samples = []\n",
    "\n",
    "for s in xrange(number_of_samples):\n",
    "    list_ = [random.randint(*list_range) for i in xrange(list_length)]\n",
    "    target = random.randint(*list_range)\n",
    "    samples.append((list_, target))\n"
   ]
  },
  {
   "cell_type": "code",
   "execution_count": null,
   "metadata": {
    "collapsed": false,
    "slideshow": {
     "slide_type": "slide"
    }
   },
   "outputs": [],
   "source": [
    "def test_make_sum(samples, make_sum):\n",
    "    for numbers, target in samples:\n",
    "        make_sum(numbers, target)"
   ]
  },
  {
   "cell_type": "code",
   "execution_count": null,
   "metadata": {
    "collapsed": false,
    "slideshow": {
     "slide_type": "slide"
    }
   },
   "outputs": [],
   "source": [
    "time test_make_sum(samples, make_sum1)"
   ]
  },
  {
   "cell_type": "code",
   "execution_count": null,
   "metadata": {
    "collapsed": false,
    "slideshow": {
     "slide_type": "slide"
    }
   },
   "outputs": [],
   "source": [
    "time test_make_sum(samples, make_sum2)"
   ]
  },
  {
   "cell_type": "code",
   "execution_count": null,
   "metadata": {
    "collapsed": false,
    "slideshow": {
     "slide_type": "slide"
    }
   },
   "outputs": [],
   "source": [
    "time test_make_sum(samples, make_sum3)"
   ]
  },
  {
   "cell_type": "code",
   "execution_count": null,
   "metadata": {
    "collapsed": true
   },
   "outputs": [],
   "source": []
  }
 ],
 "metadata": {
  "kernelspec": {
   "display_name": "Python 2",
   "language": "python",
   "name": "python2"
  },
  "language_info": {
   "codemirror_mode": {
    "name": "ipython",
    "version": 2
   },
   "file_extension": ".py",
   "mimetype": "text/x-python",
   "name": "python",
   "nbconvert_exporter": "python",
   "pygments_lexer": "ipython2",
   "version": "2.7.11"
  }
 },
 "nbformat": 4,
 "nbformat_minor": 0
}
