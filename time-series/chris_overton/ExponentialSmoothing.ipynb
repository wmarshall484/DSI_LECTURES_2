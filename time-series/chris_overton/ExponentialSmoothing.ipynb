{
 "cells": [
  {
   "cell_type": "markdown",
   "metadata": {},
   "source": [
    "# Exponential smoothing\n",
    "\n",
    "This is one subject where python code lags far behind that available in R.\n",
    "\n",
    "We will use a simple implementation from the following series of pages by Grisha Trubetskoy:  \n",
    "https://grisha.org/blog/2016/01/29/triple-exponential-smoothing-forecasting/  \n",
    "https://grisha.org/blog/2016/02/16/triple-exponential-smoothing-forecasting-part-ii/  \n",
    "https://grisha.org/blog/2016/02/17/triple-exponential-smoothing-forecasting-part-iii/  \n",
    "\n",
    "These also contain a good explanation of the algorithm.  \n",
    "\n",
    "This code has one important error: at time n, you can only use input data up to time <= n-1.\n",
    "(We fix this for the method simple_exponential_smoothing)\n",
    "\n",
    "This notebook adds plots & interactivity, but so far is only quick&dirty experimental code\n",
    "\n",
    "For more extensive use, you would want to work with these in python time series, rather than just in arrays.  "
   ]
  },
  {
   "cell_type": "code",
   "execution_count": 1,
   "metadata": {
    "collapsed": true
   },
   "outputs": [],
   "source": [
    "import pandas as pd\n",
    "import numpy as np\n",
    "import statsmodels.api as sm\n",
    "import matplotlib.pyplot as plt\n",
    "\n",
    "%matplotlib inline\n",
    "\n",
    "from __future__ import print_function"
   ]
  },
  {
   "cell_type": "markdown",
   "metadata": {},
   "source": [
    "## 'Interact': in case you haven't used it, it's GREAT for vizualization!"
   ]
  },
  {
   "cell_type": "code",
   "execution_count": 2,
   "metadata": {
    "collapsed": true
   },
   "outputs": [],
   "source": [
    "from ipywidgets import interact, interactive, fixed\n",
    "import ipywidgets as widgets"
   ]
  },
  {
   "cell_type": "markdown",
   "metadata": {},
   "source": [
    "## Model 1: Simple exponential smoothing without trend\n",
    "We start with sample data and illustrative functions.   \n",
    "Compared to original code, series2 is renaming of series, and series3 is new."
   ]
  },
  {
   "cell_type": "code",
   "execution_count": 3,
   "metadata": {
    "collapsed": true
   },
   "outputs": [],
   "source": [
    "series = [3,10,12,13,12,10,12]"
   ]
  },
  {
   "cell_type": "code",
   "execution_count": 4,
   "metadata": {
    "collapsed": true
   },
   "outputs": [],
   "source": [
    "#sinusoidal without evident trend\n",
    "series2 = [30,21,29,31,40,48,53,47,37,39,31,29,17,9,20,24,27,35,41,38,\n",
    "          27,31,27,26,21,13,21,18,33,35,40,36,22,24,21,20,17,14,17,19,\n",
    "          26,29,40,31,20,24,18,26,17,9,17,21,28,32,46,33,23,28,22,27,\n",
    "          18,8,17,21,31,34,44,38,31,30,26,32]\n",
    "\n",
    "#sinusoidal + quadratic trend\n",
    "series3 = [series2[i]+i**2/50 for i in range(len(series2))]"
   ]
  },
  {
   "cell_type": "code",
   "execution_count": 5,
   "metadata": {
    "collapsed": false
   },
   "outputs": [
    {
     "data": {
      "text/plain": [
       "[<matplotlib.lines.Line2D at 0x119879810>]"
      ]
     },
     "execution_count": 5,
     "metadata": {},
     "output_type": "execute_result"
    },
    {
     "data": {
      "image/png": "[encoded data removed]",
      "text/plain": [
       "<matplotlib.figure.Figure at 0x11741f710>"
      ]
     },
     "metadata": {},
     "output_type": "display_data"
    }
   ],
   "source": [
    "plt.plot(series3)"
   ]
  },
  {
   "cell_type": "markdown",
   "metadata": {},
   "source": [
    "### The following four functions are not used later - they just illustrate weighted averages.\n",
    "Exponential smooting uses 'exponentally' weighted averages"
   ]
  },
  {
   "cell_type": "code",
   "execution_count": 6,
   "metadata": {
    "collapsed": true
   },
   "outputs": [],
   "source": [
    "def average(series):\n",
    "    return float(sum(series))/len(series)\n",
    "\n",
    "# Given the above series, the average is:\n",
    "# >>> average(series)\n",
    "# 10.285714285714286"
   ]
  },
  {
   "cell_type": "code",
   "execution_count": 7,
   "metadata": {
    "collapsed": true
   },
   "outputs": [],
   "source": [
    "# moving average using n last points\n",
    "def moving_average(series, n):\n",
    "    return average(series[-n:])\n",
    "\n",
    "# >>> moving_average(series, 3)\n",
    "# 11.333333333333334\n",
    "# >>> moving_average(series, 4)\n",
    "# 11.75"
   ]
  },
  {
   "cell_type": "code",
   "execution_count": 8,
   "metadata": {
    "collapsed": true
   },
   "outputs": [],
   "source": [
    "# moving average if n given, average of all otherwise\n",
    "def average(series, n=None):\n",
    "    if n is None:\n",
    "        return average(series, len(series))\n",
    "    return float(sum(series[-n:]))/n\n",
    "\n",
    "# >>> average(series, 3)\n",
    "# 11.333333333333334\n",
    "# >>> average(series)\n",
    "# 10.285714285714286"
   ]
  },
  {
   "cell_type": "code",
   "execution_count": 9,
   "metadata": {
    "collapsed": true
   },
   "outputs": [],
   "source": [
    "# weighted average, weights is a list of weights\n",
    "def weighted_average(series, weights):\n",
    "    result = 0.0\n",
    "    weights.reverse()\n",
    "    for n in range(len(weights)):\n",
    "        result += series[-n-1] * weights[n]\n",
    "    return result\n",
    "\n",
    "# >>> weights = [0.1, 0.2, 0.3, 0.4]\n",
    "# >>> weighted_average(series, weights)\n",
    "# 11.5"
   ]
  },
  {
   "cell_type": "markdown",
   "metadata": {},
   "source": [
    "### The simplest exponential smoothing model just weights the latest value against the prior model.  \n",
    "The single parameter $\\alpha$ (alpha in code) says how heavily to weight the latest value."
   ]
  },
  {
   "cell_type": "code",
   "execution_count": 10,
   "metadata": {
    "collapsed": true
   },
   "outputs": [],
   "source": [
    "# given a series and alpha, return series of smoothed points\n",
    "#slight correction here: result lags series in availability of information. \n",
    "def exponential_smoothing(series, alpha):\n",
    "    result = [series[0], series[0]] # first value is same as series\n",
    "    for n in range(1, len(series)):\n",
    "        result.append(alpha * series[n] + (1 - alpha) * result[n-1])\n",
    "    return result\n",
    "\n",
    "# >>> exponential_smoothing(series, 0.1)\n",
    "# [3,3, 3.7, 4.53, 5.377, 6.0393, 6.43537, 6.991833]\n",
    "# >>> exponential_smoothing(series, 0.9)\n",
    "# [3,3, 9.3, 11.73, 12.873000000000001, 12.0873, 10.20873, 11.820873]"
   ]
  },
  {
   "cell_type": "code",
   "execution_count": 11,
   "metadata": {
    "collapsed": false
   },
   "outputs": [
    {
     "data": {
      "text/plain": [
       "[3, 3, 9.3, 11.100000000000001, 12.63, 11.91, 10.263, 11.991]"
      ]
     },
     "execution_count": 11,
     "metadata": {},
     "output_type": "execute_result"
    }
   ],
   "source": [
    "exponential_smoothing(series, 0.9)"
   ]
  },
  {
   "cell_type": "code",
   "execution_count": 12,
   "metadata": {
    "collapsed": false
   },
   "outputs": [],
   "source": [
    "def plotSimple(alpha):\n",
    "    fig, ax = plt.subplots(figsize=(8,4))\n",
    "    ax.plot(data)\n",
    "    ax.plot(exponential_smoothing(data, alpha), label = \"alpha=\" + str(alpha))\n",
    "    ax.legend(loc='best', prop={'size':'large'})"
   ]
  },
  {
   "cell_type": "code",
   "execution_count": 13,
   "metadata": {
    "collapsed": false
   },
   "outputs": [
    {
     "data": {
      "image/png": "[encoded data removed]",
      "text/plain": [
       "<matplotlib.figure.Figure at 0x119f0afd0>"
      ]
     },
     "metadata": {},
     "output_type": "display_data"
    }
   ],
   "source": [
    "#caution: fixed here, but original code \"cheats\" for alpha=1: lag of 1 disappears\n",
    "data = series3[:10]\n",
    "interact(plotSimple, alpha=widgets.FloatSlider(min=0.0,max=1.0,step=.1,value=.5))"
   ]
  },
  {
   "cell_type": "markdown",
   "metadata": {},
   "source": [
    "## Model 2: Exponential smoothing with level and trend"
   ]
  },
  {
   "cell_type": "markdown",
   "metadata": {},
   "source": [
    "Now in addition to maintaining parameter $\\alpha$, the second parameter $\\beta$ (\"beta\" in code) says how much to weight the latest increase against the historical model of increase."
   ]
  },
  {
   "cell_type": "code",
   "execution_count": 14,
   "metadata": {
    "collapsed": true
   },
   "outputs": [],
   "source": [
    "# given a series and alpha, return series of smoothed points\n",
    "# Need to fix error: result[n] can only use information from series up to index n-1\n",
    "def double_exponential_smoothing(series, alpha, beta):\n",
    "    result = [series[0]]\n",
    "    for n in range(1, len(series)+1):\n",
    "        if n == 1:\n",
    "            level, trend = series[0], series[1] - series[0]\n",
    "        if n >= len(series): # we are forecasting\n",
    "          value = result[-1]\n",
    "        else:\n",
    "          value = series[n]\n",
    "        last_level, level = level, alpha*value + (1-alpha)*(level+trend)\n",
    "        trend = beta*(level-last_level) + (1-beta)*trend\n",
    "        result.append(level+trend)\n",
    "    return result\n",
    "\n",
    "# >>> double_exponential_smoothing(series, alpha=0.9, beta=0.9)\n",
    "# [3, 17.0, 15.45, 14.210500000000001, 11.396044999999999, 8.183803049999998, 12.753698384500002, 13.889016464000003]"
   ]
  },
  {
   "cell_type": "code",
   "execution_count": 15,
   "metadata": {
    "collapsed": false
   },
   "outputs": [],
   "source": [
    "double_exponential_smoothing(series, alpha=0.9, beta=0.9);"
   ]
  },
  {
   "cell_type": "code",
   "execution_count": 16,
   "metadata": {
    "collapsed": false
   },
   "outputs": [],
   "source": [
    "def plotDouble(alpha, beta):\n",
    "    fig, ax = plt.subplots(figsize=(8,4))\n",
    "    ax.plot(data)\n",
    "    ax.plot(double_exponential_smoothing(data, alpha, beta), label = \"alpha=%s, beta=%s\" % (str(alpha), str(beta)) )\n",
    "    ax.legend(loc='best', prop={'size':'large'})"
   ]
  },
  {
   "cell_type": "code",
   "execution_count": 17,
   "metadata": {
    "collapsed": false
   },
   "outputs": [
    {
     "data": {
      "image/png": "[encoded data removed]",
      "text/plain": [
       "<matplotlib.figure.Figure at 0x119eb3450>"
      ]
     },
     "metadata": {},
     "output_type": "display_data"
    }
   ],
   "source": [
    "#interesting interaction: series3, alpha=.1, beta=0: beta gets hijacked by first value\n",
    "data = series3\n",
    "interact(plotDouble, \n",
    "         alpha=widgets.FloatSlider(min=0.0,max=1.0,step=.1,value=.5),\n",
    "         beta=widgets.FloatSlider(min=0.0,max=1.0,step=.1,value=.5))"
   ]
  },
  {
   "cell_type": "markdown",
   "metadata": {},
   "source": [
    "## Model 3: Adding seasonality to level and trend\n",
    "  \n",
    "\"Triple\" exponential smoothing maintains 'slen' 'seasonality' coefficients in addition to models for level and trend.\n",
    "This many seasonal differences are created from the first slen values, and are then updated over time."
   ]
  },
  {
   "cell_type": "code",
   "execution_count": 18,
   "metadata": {
    "collapsed": true
   },
   "outputs": [],
   "source": [
    "def initial_trend(series, slen):\n",
    "    sum = 0.0\n",
    "    for i in range(slen):\n",
    "        sum += float(series[i+slen] - series[i]) / slen\n",
    "    return sum / slen\n",
    "\n",
    "# >>> initial_trend(series2, 12)\n",
    "# -0.7847222222222222"
   ]
  },
  {
   "cell_type": "code",
   "execution_count": 19,
   "metadata": {
    "collapsed": true
   },
   "outputs": [],
   "source": [
    "def initial_seasonal_components(series, slen):\n",
    "    seasonals = {}\n",
    "    season_averages = []\n",
    "    n_seasons = int(len(series)/slen)\n",
    "    # compute season averages\n",
    "    for j in range(n_seasons):\n",
    "        season_averages.append(sum(series[slen*j:slen*j+slen])/float(slen))\n",
    "    # compute initial values\n",
    "    for i in range(slen):\n",
    "        sum_of_vals_over_avg = 0.0\n",
    "        for j in range(n_seasons):\n",
    "            sum_of_vals_over_avg += series[slen*j+i]-season_averages[j]\n",
    "        seasonals[i] = sum_of_vals_over_avg/n_seasons\n",
    "    return seasonals\n",
    "\n",
    "# >>> initial_seasonal_components(series2, 12)\n",
    "# {0: -7.4305555555555545, 1: -15.097222222222221, 2: -7.263888888888888, 3: -5.097222222222222, 4: 3.402777777777778, 5: 8.069444444444445, 6: 16.569444444444446, 7: 9.736111111111112, 8: -0.7638888888888887, 9: 1.902777777777778, 10: -3.263888888888889, 11: -0.7638888888888887}"
   ]
  },
  {
   "cell_type": "code",
   "execution_count": 20,
   "metadata": {
    "collapsed": false
   },
   "outputs": [],
   "source": [
    "initial_seasonal_components(series2, 12);"
   ]
  },
  {
   "cell_type": "code",
   "execution_count": 21,
   "metadata": {
    "collapsed": true
   },
   "outputs": [],
   "source": [
    "#Unlike the prior two versions, this one allows you to specify how far out to forecast (n_preds)\n",
    "def triple_exponential_smoothing(series, slen, alpha, beta, gamma, n_preds):\n",
    "    result = []\n",
    "    seasonals = initial_seasonal_components(series, slen)\n",
    "    for i in range(len(series)+n_preds):\n",
    "        if i == 0: # initial values\n",
    "            smooth = series[0]\n",
    "            trend = initial_trend(series, slen)\n",
    "            result.append(series[0])\n",
    "            continue\n",
    "        if i >= len(series): # we are forecasting\n",
    "            m = i - len(series) + 1\n",
    "            result.append((smooth + m*trend) + seasonals[i%slen])\n",
    "        else:\n",
    "            val = series[i]\n",
    "            last_smooth, smooth = smooth, alpha*(val-seasonals[i%slen]) + (1-alpha)*(smooth+trend)\n",
    "            trend = beta * (smooth-last_smooth) + (1-beta)*trend\n",
    "            seasonals[i%slen] = gamma*(val-smooth) + (1-gamma)*seasonals[i%slen]\n",
    "            result.append(smooth+trend+seasonals[i%slen])\n",
    "    return result\n",
    "\n",
    "# # forecast 24 points (i.e. two seasons)\n",
    "# >>> triple_exponential_smoothing(series2, 12, 0.716, 0.029, 0.993, 24)\n",
    "# [30, 20.34449316666667, 28.410051892109554, 30.438122252647577, 39.466817731253066, ..."
   ]
  },
  {
   "cell_type": "code",
   "execution_count": 23,
   "metadata": {
    "collapsed": false
   },
   "outputs": [
    {
     "data": {
      "text/plain": [
       "[30,\n",
       " 20.34449316666667,\n",
       " 28.410051892109554,\n",
       " 30.438122252647577,\n",
       " 39.466817731253066,\n",
       " 47.54961891047195]"
      ]
     },
     "execution_count": 23,
     "metadata": {},
     "output_type": "execute_result"
    }
   ],
   "source": [
    "triple_exponential_smoothing(series2, 12, 0.716, 0.029, 0.993, 24)[:6]"
   ]
  },
  {
   "cell_type": "code",
   "execution_count": 24,
   "metadata": {
    "collapsed": true
   },
   "outputs": [],
   "source": [
    "#Bad code just for class demo: hard-codes seasonal length as 12 and forecast horizon as 36 (=3 seasons)\n",
    "def plotTriple(alpha, beta, gamma):\n",
    "    fig, ax = plt.subplots(figsize=(8,4))\n",
    "    ax.plot(data)\n",
    "    ax.plot(triple_exponential_smoothing(data, 12, alpha, beta, gamma, 36), label = \"alpha=%s\\nbeta=%s\\ngamma=%s\" % (str(alpha), str(beta), str(gamma)) )\n",
    "    ax.legend(loc='best', prop={'size':'large'})"
   ]
  },
  {
   "cell_type": "code",
   "execution_count": 25,
   "metadata": {
    "collapsed": false
   },
   "outputs": [
    {
     "data": {
      "image/png": "[encoded data removed]",
      "text/plain": [
       "<matplotlib.figure.Figure at 0x11a480550>"
      ]
     },
     "metadata": {},
     "output_type": "display_data"
    }
   ],
   "source": [
    "#Hard-coded to forecast three years out. \n",
    "#Notice robustness of model to (non-extreme) values of parameters\n",
    "#beta is susceptible to extremes.\n",
    "data = series3\n",
    "interact(plotTriple, \n",
    "         alpha=widgets.FloatSlider(min=0.0,max=1.0,step=.25,value=.5),\n",
    "         beta=widgets.FloatSlider(min=0.0,max=1.0,step=.25,value=.5),\n",
    "         gamma=widgets.FloatSlider(min=0.0,max=1.0,step=.1,value=.5))"
   ]
  },
  {
   "cell_type": "markdown",
   "metadata": {},
   "source": [
    "...back to main presentation"
   ]
  },
  {
   "cell_type": "code",
   "execution_count": null,
   "metadata": {
    "collapsed": true
   },
   "outputs": [],
   "source": []
  }
 ],
 "metadata": {
  "kernelspec": {
   "display_name": "Python 2",
   "language": "python",
   "name": "python2"
  },
  "language_info": {
   "codemirror_mode": {
    "name": "ipython",
    "version": 2
   },
   "file_extension": ".py",
   "mimetype": "text/x-python",
   "name": "python",
   "nbconvert_exporter": "python",
   "pygments_lexer": "ipython2",
   "version": "2.7.12"
  },
  "widgets": {
   "state": {
    "a48dd2049edb4f579ec236d8fa5ffb2f": {
     "views": [
      {
       "cell_index": 17
      }
     ]
    },
    "b5c15733a65840a2984def6c9044c97e": {
     "views": [
      {
       "cell_index": 23
      }
     ]
    },
    "e8c5841a358d40cf9d8feea8ee02cf6d": {
     "views": [
      {
       "cell_index": 31
      }
     ]
    }
   },
   "version": "1.2.0"
  }
 },
 "nbformat": 4,
 "nbformat_minor": 0
}
