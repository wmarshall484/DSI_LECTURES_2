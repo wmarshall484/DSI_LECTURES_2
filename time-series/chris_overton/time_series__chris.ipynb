{
 "cells": [
  {
   "cell_type": "markdown",
   "metadata": {
    "slideshow": {
     "slide_type": "slide"
    }
   },
   "source": [
    "## Time Series (\"ts\") and Forecasting (\"fc\")\n",
    "christopher.overton@galvanize.com  \n",
    "2017.02.16"
   ]
  },
  {
   "cell_type": "markdown",
   "metadata": {
    "slideshow": {
     "slide_type": "subslide"
    }
   },
   "source": [
    "## Objectives\n",
    "\n",
    "* Understand time series within the larger context of forecasting\n",
    "* BY TODAY, YOU SHOULD BE ABLE TO FORECAST SINGLE VARIABLE TIME SERIES, using either exponential smoothing or ARIMA.\n",
    "* Understand how time series compares to other data science tasks  \n",
    "    - In particular, understand how forecast errors \"fan out\" over the forecast horizon\n",
    "* Define key time series concepts  \n",
    "\n",
    "* Algorithmic & software techniques:\n",
    "    - Understand and implement exponential smoothing (ETS) models    \n",
    "      \n",
    "    - Understand whether and how often to difference time series to approach stability\n",
    "    - Understand AR and MA, and their relation to PACF (partial autocorrelation) and ACF (autocorrelation)\n",
    "    - Use Box-Jenkins work-flow to build an ARIMA model\n",
    "\n",
    "* Software:\n",
    "    - Use graphical tools to analyze time series data\n",
    "    - Train and evaluate ARIMA models using StatsModels"
   ]
  },
  {
   "cell_type": "markdown",
   "metadata": {
    "slideshow": {
     "slide_type": "slide"
    }
   },
   "source": [
    "## Agenda\n",
    "\n",
    "Morning:\n",
    "* Understand time series (\"ts\") within the larger context of forecasting\n",
    "* How does this compare to other data science tasks?  \n",
    "* Exponential smoothing - a less structured approach akin to Bayesian updating\n",
    "\n",
    "\n",
    "\n",
    "Afternoon:\n",
    "* Key time series concepts and properties\n",
    "* Intro to structured ts models: ARIMA - concepts & terminology\n",
    "* More ARIMA: the full Box-Jenkins workflow\n",
    "* Practical advice        \n",
    "* Pointers to useful topics we did not manage to cover in one day"
   ]
  },
  {
   "cell_type": "markdown",
   "metadata": {
    "slideshow": {
     "slide_type": "subslide"
    }
   },
   "source": [
    "## Agenda\n",
    "Also: \n",
    "* Breakouts after each lecture\n",
    "* Example: use in a capstone last week!"
   ]
  },
  {
   "cell_type": "markdown",
   "metadata": {
    "slideshow": {
     "slide_type": "subslide"
    }
   },
   "source": [
    "## References\n",
    "\n",
    "A couple helpful references, roughly in order of difficulty\n",
    "\n",
    "*   Hyndman & Athanasopoulos: [Forecasting: principles and practice (free online, last published '12)](https://www.otexts.org/fpp)  \n",
    "Excellent introduction, very readable; contains good R code\n",
    "*   Shumway & Stoffer: [Time Series & Applications: w. R Examples (4th ed out early in '17?)](http://www.stat.pitt.edu/stoffer/tsa4/index.html)   \n",
    "Enough material for whole year masters course. First chapters included in our readings\n",
    "*   Box, Jenkins: [Time Series Analysis: forecasting and Control (4th ed, '13)](https://www.amazon.com/Time-Analysis-Forecasting-Probability-Statistics/dp/1118675029)    \n",
    "Some chapters free at: http://onlinelibrary.wiley.com/book/10.1002/9781118619193    \n",
    "By originators named by famous methodology.  \n",
    "Includes older focus on process control, which is often overlooked in recent emphasis of finance  \n",
    "*   Kuhn & Johnson: www.AppliedPredictiveModeling.com ('13 print edition)   \n",
    "A good, modern selection of topics\n",
    "*   Hamilton: [Time Series Analysis ('94)](http://press.princeton.edu/titles/5386.html)  \n",
    "Older and huge, but a classic"
   ]
  },
  {
   "cell_type": "markdown",
   "metadata": {
    "slideshow": {
     "slide_type": "subslide"
    }
   },
   "source": [
    "### Specialization to economics/finance\n",
    "*   Tsay [Introduction to Analysis of Financial Data ('12)](https://www.amazon.com/Introduction-Analysis-Financial-Data/dp/0470890819)  \n",
    "Solid mathy introduction by a leading contributor, with good R code\n",
    "*   Tsay [Analysis of Financial Time Series ('10)](https://www.amazon.com/Analysis-Financial-Time-Ruey-Tsay/dp/0470414359)  \n",
    "More advanced text with more formulas and less code\n",
    "*   Enders: [Applied Econometric Time Series](http://www.wiley.com/WileyCDA/WileyTitle/productCd-EHEP003218.html)\n",
    "*   Elliott & Timmermann: [Economic forecasting](http://press.princeton.edu/titles/10740.html)"
   ]
  },
  {
   "cell_type": "markdown",
   "metadata": {
    "slideshow": {
     "slide_type": "subslide"
    }
   },
   "source": [
    "### Notes, credits:\n",
    "* Latst revision of these lectures: cover exponential smoothing before ARIMA and integrate with \"breakout\" sessions emphasising trickier concepts.\n",
    "* These lectures were adapted most recently from Ben Skrainka\n",
    "* Some illustrations come from references Hyndman & Athanasopoulos and Shumway & Stoffer\n",
    "* [In a separate notebook ExponentialSmoothing.ipynb] we adapt the implementation of exponential smoothing by Grisha Trubetskoy, who also provides very helpful tutorials in three web pages, starting with:    \n",
    "https://grisha.org/blog/2016/01/29/triple-exponential-smoothing-forecasting/  "
   ]
  },
  {
   "cell_type": "markdown",
   "metadata": {
    "slideshow": {
     "slide_type": "subslide"
    }
   },
   "source": [
    "### A little religion: Python vs. R\n",
    "\n",
    "In most cases, you can use Python or R, depending on your preference:\n",
    "\n",
    "* For time series, python still lags behind R, as was more the case for regression before recent evolution in scikit.learn / statsmodels\n",
    "    -  Use Pandas (or such tools as Spark DataFrames to manipulate data and dates\n",
    "    -  Use [StatsModels](http://statsmodels.sourceforge.net/devel/tsa.html) for core time series models (mainly ARIMA family of models - nothing polished for exponential smoothing)\n",
    "    -  As Python becomes more of a de facto standard, it should catch up in ts as well\n",
    "* Currently, R is far the better option for ts, and is used by most researchers and textbooks  \n",
    "    - Hyndman's `forecast` package is outstanding\n",
    "*   Galvanize is a Python shop, so ... we will use Python\n",
    "    - However, our gU master's program covers this content using R\n",
    "    - If you are serious about time series and forecasting, use R where appropriate"
   ]
  },
  {
   "cell_type": "markdown",
   "metadata": {
    "slideshow": {
     "slide_type": "slide"
    }
   },
   "source": [
    "## Introduction: whiteboard example\n",
    "* What is a time series?\n",
    "    - Discrete events vs. counts\n",
    "    - Need enough of them to achieve statistical power\n",
    "* Time series vs. regression  \n",
    "    - Use richer time structure\n",
    "    - Points of interest are \"outliers\" (as seen from the view of regression)\n",
    "    - Value of data decays with time -> intuition behind exponential smoothing"
   ]
  },
  {
   "cell_type": "markdown",
   "metadata": {
    "slideshow": {
     "slide_type": "subslide"
    }
   },
   "source": [
    "## Fanout of prediction intervals\n",
    "For the following quarterly forecast (blue line), the gray area marks \"confidence intervals\" over time.\n",
    "\n",
    "<img src='images/predict.jpg', width=500px></img>"
   ]
  },
  {
   "cell_type": "markdown",
   "metadata": {
    "slideshow": {
     "slide_type": "slide"
    }
   },
   "source": [
    "##   Time series data\n",
    "\n",
    "Time series data is a sequence over time of observations of some quantity of interest, such as:\n",
    "\n",
    "* GDP\n",
    "* The price over time of toilet paper or of a stock\n",
    "* Demand for a good\n",
    "* Unemployment rate\n",
    "* Web traffic (clicks, logins, posts, etc.)"
   ]
  },
  {
   "cell_type": "markdown",
   "metadata": {
    "slideshow": {
     "slide_type": "subslide"
    }
   },
   "source": [
    "##   Definition\n",
    "\n",
    "We assume a time series, $\\left\\{y_t \\right\\}$, has the following properties:\n",
    "\n",
    "*   $y_t$ is an observation of the level of $y$ at time $t$\n",
    "*   $\\left\\{y_t \\right\\}$ is time series, i.e., the collection of observations:\n",
    "    -   May extend back to $t = 0$ or $t = -\\infty$, depending on the problem.\n",
    "    -   E.g., $t \\in \\left\\{0, ..., T\\right\\}$\n",
    "*   Starting after time t, we typically want to forecast y out to a \"**horizon**\" h, namely forecasting values $y_{t+1}, y_{t+2}, ... y_{t+h}$.  \n",
    "* **Weird notation alert:** to emphasize our knowledge of y up to time t, this can be written as $y_{t+1|t}, y_{t+2|t}, ... y_{t+h|t}$  \n",
    "This notation looks like that for conditional probability (with similar meaning.)"
   ]
  },
  {
   "cell_type": "markdown",
   "metadata": {
    "slideshow": {
     "slide_type": "subslide"
    }
   },
   "source": [
    "##  Assumptions\n",
    "\n",
    "*   Discrete time:\n",
    "    -   Sampling at regular intervals\n",
    "    -   ... even if process is continuous\n",
    "*   Evenly spaced observations\n",
    "*   No missing observations"
   ]
  },
  {
   "cell_type": "markdown",
   "metadata": {
    "slideshow": {
     "slide_type": "subslide"
    }
   },
   "source": [
    "## Caveat: a time series is only one realization (within an assumed model)\n",
    "\n",
    "Time series are hard to model because we only observe one realization of the path of the process:\n",
    "\n",
    "*   Often have limited data\n",
    "*   Must impose structure -- such as assumptions about correlation -- in order to model\n",
    "*   Must project beyond support of the data."
   ]
  },
  {
   "cell_type": "markdown",
   "metadata": {
    "slideshow": {
     "slide_type": "subslide"
    }
   },
   "source": [
    "##  Components of a time series\n",
    "\n",
    "Think of a time series as consisting of several different components:\n",
    "\n",
    "*   **Trend**\n",
    "*   **Seasonal**\n",
    "*   \"**Cyclic**\" - fluctuations over multiple steps that are not periodic (at a specified seasonality)\n",
    "*   Everything else is \"noise\", but we want it as much as possible to be \"**white noise**\": without a discernable structure and typically normally distributed\n",
    "\n",
    "Can be additive or multiplicative"
   ]
  },
  {
   "cell_type": "markdown",
   "metadata": {
    "slideshow": {
     "slide_type": "slide"
    }
   },
   "source": [
    "##  Example decomposition from Hyndman et al.\n",
    "Electrical equipment orders and time series components\n",
    "\n",
    "<img alt='<picture>' src='images/hyndman_decomp.png' width=500px />"
   ]
  },
  {
   "cell_type": "markdown",
   "metadata": {
    "slideshow": {
     "slide_type": "subslide"
    }
   },
   "source": [
    "##  Example time series from Hyndman et al.\n",
    "\n",
    "\n",
    "<img alt='<picture>' src='images/hyndman.png' width=600px />"
   ]
  },
  {
   "cell_type": "markdown",
   "metadata": {
    "slideshow": {
     "slide_type": "slide"
    }
   },
   "source": [
    "## Two popular models\n",
    "\n",
    "*   Exponential smoothing (ETS):\n",
    "    -   Smooths out irregular shocks to model trend and seasonality\n",
    "    -   Updates forecast with linear combination of past forecast and current value\n",
    "    -   An example of a \"state space model\"  \n",
    "    \n",
    "*   Models from the ARIMA family, strting wtih ARIMA(p,d,q):\n",
    "    -   A benchmark model\n",
    "    -   Captures key structural aspects of time series data"
   ]
  },
  {
   "cell_type": "markdown",
   "metadata": {
    "slideshow": {
     "slide_type": "slide"
    }
   },
   "source": [
    "# Exponential smoothing (ETS) models"
   ]
  },
  {
   "cell_type": "markdown",
   "metadata": {
    "slideshow": {
     "slide_type": "fragment"
    }
   },
   "source": [
    "##   ETS: introduction\n",
    "\n",
    "Exponential smoothing models are a benchmark model:\n",
    "\n",
    "*   Robust performance\n",
    "*   Easy to explain to non-technical stakeholders\n",
    "*   Easy to estimate with limited computational resources\n",
    "*   Forecast well because of parsimony"
   ]
  },
  {
   "cell_type": "markdown",
   "metadata": {
    "slideshow": {
     "slide_type": "subslide"
    }
   },
   "source": [
    "## Basic idea of exponential smoothing\n",
    "In \"simple exponential smoothing\" (\"SES\"):  \n",
    "\n",
    "$$\\hat{y}_{t+1|t} = \\alpha y_t +(1 - \\alpha) \\hat{y}_{t|t−1}$$  \n",
    "\n",
    "This means: $$\\hat{y}_{t+1|t} = \\alpha y_t +(1 - \\alpha)\\alpha y_{t-1} + (1 - \\alpha)^2 \\hat{y}_{t-1|t−2}$$  \n",
    "$$...$$  \n",
    "$$= \\alpha y_t +(1 - \\alpha)\\alpha y_{t-1} + (1 - \\alpha)^2\\alpha y_{t-2} + (1 - \\alpha)^3\\alpha y_{t-3} + ... $$"
   ]
  },
  {
   "cell_type": "markdown",
   "metadata": {
    "slideshow": {
     "slide_type": "subslide"
    }
   },
   "source": [
    "A given term $y_t$ affects all subsequent values $y_{t+i}$, but this contribution decreases as i increases.\n",
    "   - Specifically, this weight decays exponentially in powers of $(1 - \\alpha)$ - hence the word 'exponential'\n",
    "\n",
    "Terms far enough back in history have a negligible effect on the current estimate.\n",
    "\n",
    "The \"smoothing parameter\" $\\alpha$ determines how much weight comes from immediately preceding term  \n",
    "\n",
    "So a series with higher $\\alpha$:  \n",
    "1) is noisier   \n",
    "2) updates more quickly"
   ]
  },
  {
   "cell_type": "markdown",
   "metadata": {
    "slideshow": {
     "slide_type": "subslide"
    }
   },
   "source": [
    "### Oberve how exponential smoothing of the original series (in black) varies according to the $\\alpha$ parameter\n",
    "\n",
    "<img alt='simple exponential smoothing' src='images/ses.png' width=600px></img>"
   ]
  },
  {
   "cell_type": "markdown",
   "metadata": {
    "slideshow": {
     "slide_type": "subslide"
    }
   },
   "source": [
    "## Coding the ETS model\n",
    "\n",
    "Python provides partial support for ETS (see Panda's `pandas.stats.moments.ewma`)\n",
    "\n",
    "However, the algorithm is simple enough that we use a simple implementation for additive models adapted from the web.  \n",
    "(==>Cut over to exponential smoothing demo.)  \n",
    "\n",
    "For bigger applications it is better to use R's `ets` function in the `forecast` package"
   ]
  },
  {
   "cell_type": "markdown",
   "metadata": {
    "slideshow": {
     "slide_type": "subslide"
    }
   },
   "source": [
    "## The ETS model\n",
    "\n",
    "This model has separate smoothing equations for:\n",
    "\n",
    "*   A forecast 'Level' (which some authors associate with the 'E' in 'ETS')\n",
    "*   Trend (optional \"T\")\n",
    "*   Seasonality (optional \"S\")\n",
    "\n",
    "Each of these can be either additive or multiplicative.  \n",
    "\n",
    "Although the main goal is to model and predict $y_t$, ETS models a 'state space' of these hidden variables"
   ]
  },
  {
   "cell_type": "markdown",
   "metadata": {
    "slideshow": {
     "slide_type": "subslide"
    }
   },
   "source": [
    "## Example: simple exponential smoothing -- ETS (ANN)\n",
    "\n",
    "[Notice the model desciption 'ANN' at the end of the title - we'll get back to that in a moment.]\n",
    "\n",
    "Simple exponential smoothing updates forecast based on latest realization of $y_t$:\n",
    "\n",
    "*   Forecast equation:  $\\hat{y}_{t+1|t} = \\ell_t$\n",
    "*   Level equation: $\\ell_t = \\alpha \\cdot y_t + (1-\\alpha) \\cdot \\ell_{t-1}$\n",
    "\n",
    "If $y_t = \\hat{y}_{t|t-1} + \\epsilon_t$, can use *error correction* formulation:\n",
    "\n",
    "*   $y_t = \\ell_{t-1} + \\epsilon_t$\n",
    "*   $\\ell_t = \\ell_{t-1} + \\alpha \\cdot \\epsilon_t$  \n",
    "\n",
    "In this simplest of the ETS models, the underlying \"state\" is $\\ell_t$.   It is \"smoothed\" (less noisy) than $y_t$ by the proportion $\\alpha$"
   ]
  },
  {
   "cell_type": "markdown",
   "metadata": {
    "slideshow": {
     "slide_type": "subslide"
    }
   },
   "source": [
    "## Example: Holt's linear model (\"double exponential smoothing\") -- ETS (AAN)\n",
    "\n",
    "ETS(AAN) adds slope to the model to better handle a trend:\n",
    "\n",
    "*   Forecast equation:  $\\hat{y}_{t+h|t} = \\ell_t + h \\cdot b_t$\n",
    "*   Level equation: $\\ell_t = \\alpha \\cdot y_t + (1-\\alpha) \\cdot (\\ell_{t-1} + b_{t-1})$\n",
    "*   Trend equation: $b_t = \\beta^* \\cdot (\\ell_t - \\ell_{t-1}) + (1 - \\beta^* ) \\cdot b_{t-1}$\n",
    "\n",
    "Notes:\n",
    "* Modeling the trend is similar to differencing (the \"I\" part of ARIMA)\n",
    "* Here the state consists of two variables, level (as before) and trend (default incremental change)\n",
    "* Each of these two state variables is an exponentially smoothed series with its own decay parameter"
   ]
  },
  {
   "cell_type": "markdown",
   "metadata": {
    "slideshow": {
     "slide_type": "subslide"
    }
   },
   "source": [
    "## Example: The gory details for additive Holt-Winters, including seasonality -- ETS (AAA)\n",
    "The following addition is due to Winters - one extra equation, with new terms for forecast and level: \n",
    "*   Forecast equation:  $\\hat{y}_{t+h|t} = \\ell_t + h \\cdot b_t + s_{t-m+h^+}$\n",
    "*   Level equation: $\\ell_t = \\alpha \\cdot (y_t - s_{t-m}) + (1-\\alpha) \\cdot (\\ell_{t-1} + b_{t-1})$\n",
    "*   Trend equation: $b_t = \\beta^* \\cdot (\\ell_t - \\ell_{t-1}) + (1 - \\beta^* ) \\cdot b_{t-1}$\n",
    "*   Seasonality equation: $s_t = \\gamma \\cdot (y_t - \\ell_{t-1} - b_{t-1}) + (1-\\gamma) \\cdot s_{t-m}$\n",
    "\n",
    "Interestingly, this model develops state for each of the m possible seasonalities, but at the cost of only one new exponential decay parameter $\\gamma$  \n",
    "Here, $h^+$ is 1 + the \"floor\" of (greatest integer not exceeding) $(h-1)$ mod $m$, which takes the latest available seasonality from the training set  "
   ]
  },
  {
   "cell_type": "markdown",
   "metadata": {
    "slideshow": {
     "slide_type": "slide"
    }
   },
   "source": [
    "### Cut over to ExponentialSmoothing.ipynb for code & demo"
   ]
  },
  {
   "cell_type": "markdown",
   "metadata": {
    "slideshow": {
     "slide_type": "slide"
    }
   },
   "source": [
    "## Alternate forms for each of the E, T, and S components\n",
    "\n",
    "In the last example, all formulas above use additive effects (hence the \"A\"'s), but could be changed to be multiplicative (which would be labeled \"M) \n",
    "\n",
    "Also, either additive or multiplicative components can be exponentially decayed (\"damped\") to revert over time to neutral values: 0 if additive, and 1 if multiplicative. These are written $A_d$ and $M_d$\n",
    "\n",
    "For both of these, see the references (e.g. Hyndman) for formulas"
   ]
  },
  {
   "cell_type": "markdown",
   "metadata": {
    "slideshow": {
     "slide_type": "subslide"
    }
   },
   "source": [
    "## Hyndman's taxonomy\n",
    "\n",
    "Hyndman categorizes exponential smoothing models as ETS:\n",
    "\n",
    "*   *E* for type of error\n",
    "*   *T* for type of trend\n",
    "*   *S* for type of seasonality"
   ]
  },
  {
   "cell_type": "markdown",
   "metadata": {
    "slideshow": {
     "slide_type": "fragment"
    }
   },
   "source": [
    "For each of these parts of the ts, one may choose the following types of smoothing:\n",
    "\n",
    "*   *A* for additive\n",
    "*   *M* for multiplicative\n",
    "*   *N* for none\n",
    "*   *$A_d$* for additive damped\n",
    "*   *$M_d$* for multiplicative damped"
   ]
  },
  {
   "cell_type": "markdown",
   "metadata": {
    "slideshow": {
     "slide_type": "slide"
    }
   },
   "source": [
    "The three preceeding examples combine varying \"A\" and \"N\" components (indicated in slide headings)\n",
    "\n",
    "How would we set up a smoothing model for \"Autralian electricity production\" example?\n",
    "\n",
    "<img alt='Australian electricity' src='images/AustralianElectricity.png' width=500px></img>"
   ]
  },
  {
   "cell_type": "markdown",
   "metadata": {
    "slideshow": {
     "slide_type": "fragment"
    }
   },
   "source": [
    "One good possibility: ETS(MMM)"
   ]
  },
  {
   "cell_type": "markdown",
   "metadata": {
    "slideshow": {
     "slide_type": "subslide"
    }
   },
   "source": [
    "## Exponential smoothing (ETS): key takeaways\n",
    "\n",
    "Exponential smoothing is simple enough that you could implement it yourself and explain it to your boss.\n",
    "\n",
    "It is 'robust' in the sense that 1) prior errors in forecasting step up the pace of correction, and 2) trend and level help correct each other, and help cover each other's mistakes.\n",
    "\n",
    "You can tune how each of the structural components are built, allowing you to build enough modeling flexibility to capture a wide variety of ts behaviors, including nonlinear ones.\n",
    "\n",
    "Compared to regression, ETS 1) is more numerically stable (i.e. less extreme in the far future), and 2) pays more attention to the most important predictors, namely the more recent past.\n",
    "\n",
    "However 'with choice comes responsibility': you if your decay parameters are too big, you 'forget the past' too quickly; if they are too small, the effect of noise or one-off events can linger longer than reasonable."
   ]
  },
  {
   "cell_type": "markdown",
   "metadata": {
    "slideshow": {
     "slide_type": "fragment"
    }
   },
   "source": [
    "### One useful addition to morning sprint: use code in ExponentialSmoothing to build an alternate model"
   ]
  },
  {
   "cell_type": "markdown",
   "metadata": {
    "slideshow": {
     "slide_type": "slide"
    }
   },
   "source": [
    "# Afternoon lecture: ARIMA"
   ]
  },
  {
   "cell_type": "markdown",
   "metadata": {
    "slideshow": {
     "slide_type": "fragment"
    }
   },
   "source": [
    "## Agenda\n",
    "\n",
    "Morning:\n",
    "* Understand time series (\"ts\") within the larger context of forecasting\n",
    "* How does this compare to other data science tasks?  \n",
    "* Exponential smoothing - a less structured approach akin to Bayesian updating\n",
    "\n",
    "\n",
    "\n",
    "Afternoon:\n",
    "* Key time series concepts and properties\n",
    "* Intro to structured ts models: ARIMA - concepts & terminology\n",
    "* More ARIMA: the full Box-Jenkins workflow\n",
    "* Practical advice        \n",
    "* Pointer to useful topics we did not manage to cover in one day"
   ]
  },
  {
   "cell_type": "markdown",
   "metadata": {
    "slideshow": {
     "slide_type": "slide"
    }
   },
   "source": [
    "# Terminology and basic definitions"
   ]
  },
  {
   "cell_type": "markdown",
   "metadata": {
    "slideshow": {
     "slide_type": "fragment"
    }
   },
   "source": [
    "##  Notation\n",
    "\n",
    "Some notation, following Hyndman:\n",
    "\n",
    "*   $y_t$: the level of some value of interest at time $t$\n",
    "*   $\\epsilon_t$: the value of a 'shock' (or 'innovation'), $\\epsilon$, at time $t$\n",
    "*   $\\hat{y}_{t+h|t}$ is the forecast for $y_{t+h}$ based on the information available at time $t$"
   ]
  },
  {
   "cell_type": "markdown",
   "metadata": {
    "slideshow": {
     "slide_type": "subslide"
    }
   },
   "source": [
    "##  Lags\n",
    "\n",
    "Often, models use past values to predict future:\n",
    "\n",
    "*   AR(1): $y_t = \\phi \\cdot y_{t-1} + \\epsilon_t$\n",
    "*   MA(1): $y_t = \\mu + \\epsilon_t + \\psi \\cdot \\epsilon_{t-1}$\n",
    "*   This is easier to write with lag operators:  \n",
    "$\\mathbb{L} : x_t \\mapsto x_{t-1}$\n",
    "*   With lag operators:\n",
    "    -   AR(1): $y_t = \\phi \\cdot \\mathbb{L} y_t + \\epsilon_t$\n",
    "    -   MA(1): $y_t = \\mu + (1 + \\psi \\cdot \\mathbb{L}) \\epsilon_{t}$"
   ]
  },
  {
   "cell_type": "markdown",
   "metadata": {
    "slideshow": {
     "slide_type": "subslide"
    }
   },
   "source": [
    "##  Concepts from basic statistics\n",
    "\n",
    "First, we review some basic statistics:\n",
    "\n",
    "*   *expectation*:\n",
    "    -   $\\mathbb{E} [g(x)] \\equiv \\int{g(x) \\cdot f(x) dx}$ or: $\\frac{\\Sigma_{x = 1}^N g(x) \\cdot f(x)}{N}$\n",
    "    -   $g(x)$ is an arbitrary function\n",
    "    -   $f(x)$ is the probability density function  \n",
    "    -   For time series, time t is usually the variable over which expectation is generated\n",
    "*\t*mean*:\n",
    "    -   A 'typical' value\n",
    "    -   $\\mu(x_t) = \\mathbb{E} [x_t]$   \n",
    "*   *variance*:\n",
    "    -   A measure of volatility or the spread of a distribution\n",
    "    -   $\\mathtt{Var}(x_t) = \\mathbb{E}[(x_t - \\mu(x_t)) * (x_t - \\mu(x_t))]$\n",
    "    -   $\\sigma^2(x_t) \\equiv \\mathtt{Var}(x_t)$\n",
    "*   *standard deviation*:\n",
    "    -   $\\sigma(x_t) \\equiv \\sqrt{\\mathtt{Var}(x_t)}$"
   ]
  },
  {
   "cell_type": "markdown",
   "metadata": {
    "slideshow": {
     "slide_type": "subslide"
    }
   },
   "source": [
    "## Concepts: time series (1/3)\n",
    "\n",
    "To understand persistence of a time series, examine:\n",
    "\n",
    "*\t*autocovariance*:\n",
    "    -   How much a lag predicts a future value of a time series\n",
    "    -\t$\\mathtt{acov}(x_t,x_{t-h}) \\equiv \\mathbb{E} [(x_t - \\mu(x_t)) * (x_{t-h} - \\mu(x_{t-h})))]$\n",
    "    -   Often written as $\\gamma(s,t)$ or $\\gamma(h)$ where $h = s-t$\n",
    "*\t*autocorrelation*:\n",
    "    -\tA dimensionless measure of the influence of one lag upon another\n",
    "    -   Helps determine which ARIMA model to use  \n",
    "    $\\mathtt{acorr}(x_t, h) = \\dfrac{ \\mathtt{acov}(x_t, x_{t+h}) } { \\sigma(x_t) \\cdot \\sigma(x_{t+h}) }$   \n",
    "    -   Often written as $\\rho(t) \\equiv \\gamma(t) / \\gamma(0)$ for this case $y_t = y_{t-1} + \\mu + \\epsilon_t$   "
   ]
  },
  {
   "cell_type": "markdown",
   "metadata": {
    "slideshow": {
     "slide_type": "subslide"
    }
   },
   "source": [
    "## Concepts: time series (2/3)\n",
    "\n",
    "==> Whiteboard example of **autocovariance** and **autocorrelation**\n",
    "\n",
    "[This is akin to a 'convolution' as one would use in Fourier analysis: you are sort of convolving the series with itself]\n",
    "\n",
    "==> Simple example: [1,2,3,2,1,2,3,2,1]"
   ]
  },
  {
   "cell_type": "markdown",
   "metadata": {
    "slideshow": {
     "slide_type": "subslide"
    }
   },
   "source": [
    "## Concepts: time series (3/3)\n",
    "Special time series (easier to forecast):\n",
    "* To forecast, you prefer mean, variance, and correlation to be stable over time\n",
    "* strictly stationary:  \n",
    "  For probability density $f(\\cdot)$, ${x_t}$ is **strictly stationary** means $f(x_1,...,x_t)=f(x_{1+h},...,x_{t+h}),\\forall h$\n",
    "* **weakly stationary**: \n",
    "  - mean is constant for all periods: $\\mu(x_t) = \\mu(x_{t+h}), \\forall h$\n",
    "  - autocorrelation $\\rho(s,t)$, depends only on |s - t| \n",
    "* white noise:\n",
    "  - $acov(x_t , x_{t+h}) = var(x_t)$ if h = 0 and 0 otherwise\n",
    "  - is (weakly) stationary\n",
    "  - white noise is a key building block of time series models"
   ]
  },
  {
   "cell_type": "markdown",
   "metadata": {
    "slideshow": {
     "slide_type": "slide"
    }
   },
   "source": [
    "## Differencing:\n",
    "*   $d$ is how many times you must difference the series so that it is stationary\n",
    "*   Usually, $d \\in \\left\\{0, 1, 2\\right\\}$\n",
    "*   Differencing should remove the trend component - at least mostly\n",
    "*   Example: random walk (with drift)\n",
    "*   Compute differences with `np.diff(n=d)` or  `pd.Series.diff(periods=d)` to turn ARIMA into ARMA.  \n",
    "\n",
    "==> Whiteboard example of **differencing**\n",
    "\n",
    "The 'I' in ARIMA stands for 'integrated'.  \n",
    "Integration is roughly an inverse operation to differentiation. That's what the fundamental theorem of calculus says.   \n",
    "In this case, we are dealing with discrete data, so we difference instead of differentiate, and integration instead becomes a finite sum."
   ]
  },
  {
   "cell_type": "markdown",
   "metadata": {
    "slideshow": {
     "slide_type": "slide"
    }
   },
   "source": [
    "#  ARIMA models\n",
    "\n",
    "An ARIMA(p,d,q) is a general model which includes AR, I, and MA:\n",
    "\n",
    "*   AR(p):  AR of order p\n",
    "*   I(d):   I of order differencing d\n",
    "*   MA(q):  MA of order q\n",
    "\n",
    "Remarks:\n",
    "\n",
    "*   AR, I, and/or MA may be missing from a general ARIMA model\n",
    "*   If $d = 0 \\Rightarrow$ ARIMA is called ARMA"
   ]
  },
  {
   "cell_type": "markdown",
   "metadata": {
    "slideshow": {
     "slide_type": "subslide"
    }
   },
   "source": [
    "#   Estimating ARIMA models using Box-Jenkins\n",
    "\n",
    "\n",
    "## Main Box-Jenkins methodology\n",
    "\n",
    "1.\tExploratory data analysis (EDA):\n",
    "    -   plot time series, ACF, PACF\n",
    "    -   identify hypotheses, models, and data issues\n",
    "    -   aggregate to an appropriate grain\n",
    "2.\tFit model(s)\n",
    "    -\tDifference until stationary (possibly at different seasonalities!)\n",
    "    -   Test for a unit root (Augmented Dicky-Fuller (ADF)): if found, is evidence data still has trend\n",
    "    -   However: too much differencing causes other problems\n",
    "    -\tTransform until variance is stable\n",
    "3.\tExamine residuals: are they white noise?\n",
    "4.\tTest and evaluate on out of sample data\n",
    "5.\tWorry about:\n",
    "    -\tstructural breaks\n",
    "    -\tforecasting for large h with limited data $\\Rightarrow$ need a \"panel of experts\"\n",
    "    -\tseasonality, periodicity"
   ]
  },
  {
   "cell_type": "markdown",
   "metadata": {
    "slideshow": {
     "slide_type": "slide"
    }
   },
   "source": [
    "##  Modeling flow chart from Hyndman et al.\n",
    "\n",
    "<img alt='<hyndman flow chart>', src='images/hyndman_modeling_process.png' width=500px>"
   ]
  },
  {
   "cell_type": "markdown",
   "metadata": {
    "slideshow": {
     "slide_type": "subslide"
    }
   },
   "source": [
    "New concepts in diagram above:  \n",
    "- Box-Cox transform: $x \\rightarrow (x^\\lambda - 1)/\\lambda$ for a choice of $\\lambda$ that makes data more nomally distributed (but careful: this makes intuition harder!)\n",
    "- A portmanteau test refers to statistical machinery to rule out a null hypothesis. For time series, one such is the Lyung-Box test, which decides whether to reject the null hypothesis that a whole set of autocorrelations (as opposed to just one of them) shows no significant structure"
   ]
  },
  {
   "cell_type": "markdown",
   "metadata": {
    "slideshow": {
     "slide_type": "slide"
    }
   },
   "source": [
    "## Graphical tools\n",
    "\n",
    "Plot data to develop understanding of data and possible models:\n",
    "\n",
    "*   Key diagnostic plots:\n",
    "    -   Plot time series, $y_t$, vs $t$\n",
    "    -   Plot autocorrelation function (ACF), i.e., $\\rho(h)$ vs. $h$\n",
    "    -   Plot partial autocorrelation function (PACF)\n",
    "*   If needed to remove trend, repeat for first and second differences:\n",
    "    -   Compute differences with `np.diff(n=d)` or  `pd.Series.diff(periods=d)`\n",
    "    -   Transform series, if necessary, e.g, $y_t \\rightarrow \\log(y_t)$\n",
    "    -   Check stationarity: i.e., no trend and constant variance"
   ]
  },
  {
   "cell_type": "code",
   "execution_count": 10,
   "metadata": {
    "collapsed": false,
    "slideshow": {
     "slide_type": "subslide"
    }
   },
   "outputs": [],
   "source": [
    "import statsmodels.api as sm\n",
    "import matplotlib.pyplot as plt\n",
    "import numpy as np\n",
    "# from sklearn import datasets\n",
    "%matplotlib inline\n",
    "#sm.__version__"
   ]
  },
  {
   "cell_type": "markdown",
   "metadata": {
    "slideshow": {
     "slide_type": "slide"
    }
   },
   "source": [
    "## A random sample"
   ]
  },
  {
   "cell_type": "code",
   "execution_count": 3,
   "metadata": {
    "collapsed": true,
    "slideshow": {
     "slide_type": "fragment"
    }
   },
   "outputs": [],
   "source": [
    "#Sample just with ar terms\n",
    "dataAr = sm.tsa.arma_generate_sample(ar=[1, 0.7, 0.0, 0.3], \n",
    "                                     ma=[1], nsample=100)\n",
    "#Sample just with ma terms\n",
    "dataMa = sm.tsa.arma_generate_sample(ar=[1], \n",
    "                                     ma=[1, 0.4, -0.3], nsample=100)\n",
    "#More confusing sample that mixes both kinds of effects\n",
    "data = sm.tsa.arma_generate_sample(ar=[1, 0.7, 0.0, 0.3], \n",
    "                                   ma=[1,0.4, -0.3], nsample=100)"
   ]
  },
  {
   "cell_type": "markdown",
   "metadata": {
    "slideshow": {
     "slide_type": "subslide"
    }
   },
   "source": [
    "##  Autocorrelation function (ACF)\n",
    "\n",
    "Shows likely order of the *MA(q)* part of the ARIMA(p,d,q) model:\n",
    "\n",
    "*   Plots $\\rho(h)$ vs. lags $h$, **so 'x-axis' is no longer time t!**\n",
    "*   Find largest significant spike outside of significance bands\n",
    "*   Consider order *q*, where  q is largest significant lag"
   ]
  },
  {
   "cell_type": "code",
   "execution_count": 4,
   "metadata": {
    "collapsed": false,
    "slideshow": {
     "slide_type": "fragment"
    }
   },
   "outputs": [
    {
     "data": {
      "image/png": "[encoded data removed]",
      "text/plain": [
       "<matplotlib.figure.Figure at 0x116c910d0>"
      ]
     },
     "metadata": {},
     "output_type": "display_data"
    }
   ],
   "source": [
    "#Autocorrelations mostly die for sample created only using ma\n",
    "sm.graphics.tsa.plot_acf(dataMa, lags=28, alpha=0.05)\n",
    "plt.show()"
   ]
  },
  {
   "cell_type": "code",
   "execution_count": 5,
   "metadata": {
    "collapsed": false,
    "slideshow": {
     "slide_type": "subslide"
    }
   },
   "outputs": [
    {
     "data": {
      "image/png": "[encoded data removed]",
      "text/plain": [
       "<matplotlib.figure.Figure at 0x11a63b990>"
      ]
     },
     "metadata": {},
     "output_type": "display_data"
    }
   ],
   "source": [
    "#Yikes! Autocorrelations decay slowly for sample created using ar\n",
    "sm.graphics.tsa.plot_acf(dataAr, lags=28, alpha=0.05)\n",
    "plt.show()"
   ]
  },
  {
   "cell_type": "markdown",
   "metadata": {
    "slideshow": {
     "slide_type": "slide"
    }
   },
   "source": [
    "##  Partial autocorrelation function (PACF)\n",
    "\n",
    "Shows likely order of the *AR(p)* part of the ARIMA(p,d,q) model:\n",
    "\n",
    "*   Plots partial autocorrelation vs. lags $h$. Again, \"x-axis\" is not time t.\n",
    "*   Partial autocorrelation uses a regression method to compute effect of just a single lag h that is not explained by lages 1, 2, 3, ... (h-1). By contrast, ACF at lag h may include effects that are also explainable by intrmediate lags \n",
    "*   Consider order *p*, where p = largest significant lag"
   ]
  },
  {
   "cell_type": "code",
   "execution_count": 6,
   "metadata": {
    "collapsed": false,
    "slideshow": {
     "slide_type": "subslide"
    }
   },
   "outputs": [
    {
     "data": {
      "image/png": "[encoded data removed]",
      "text/plain": [
       "<matplotlib.figure.Figure at 0x11a854c10>"
      ]
     },
     "metadata": {},
     "output_type": "display_data"
    }
   ],
   "source": [
    "#Partial autocorrelation (PACF) falls quickly within 'noise' band when data buily only using ar.\n",
    "sm.graphics.tsa.plot_pacf(dataAr, lags=28, alpha=0.05)\n",
    "plt.show()"
   ]
  },
  {
   "cell_type": "code",
   "execution_count": 7,
   "metadata": {
    "collapsed": false,
    "slideshow": {
     "slide_type": "subslide"
    }
   },
   "outputs": [
    {
     "data": {
      "image/png": "[encoded data removed]",
      "text/plain": [
       "<matplotlib.figure.Figure at 0x11aa7b3d0>"
      ]
     },
     "metadata": {},
     "output_type": "display_data"
    }
   ],
   "source": [
    "#PACF endures for many lags for data created with ma.\n",
    "sm.graphics.tsa.plot_pacf(dataMa, lags=28, alpha=0.05)\n",
    "plt.show()"
   ]
  },
  {
   "cell_type": "markdown",
   "metadata": {
    "slideshow": {
     "slide_type": "slide"
    }
   },
   "source": [
    "# Diagnostic plots"
   ]
  },
  {
   "cell_type": "markdown",
   "metadata": {
    "slideshow": {
     "slide_type": "subslide"
    }
   },
   "source": [
    "## Example: plotting series, ACF, and PACF (1/3)\n",
    "\n",
    "You will do this all the time, so create a helper function:"
   ]
  },
  {
   "cell_type": "code",
   "execution_count": 8,
   "metadata": {
    "collapsed": true,
    "slideshow": {
     "slide_type": "fragment"
    }
   },
   "outputs": [],
   "source": [
    "def ts_diag_plot(data, lags=28):\n",
    "    fig = plt.figure(figsize=(15,10))\n",
    "    ax1 = fig.add_subplot(311)\n",
    "    ax1.plot(data)\n",
    "    ax1.set_title('y_t vs. t')\n",
    "    ax2 = fig.add_subplot(312)\n",
    "    sm.graphics.tsa.plot_acf(data, lags=lags, ax=ax2)\n",
    "    ax3 = fig.add_subplot(313)\n",
    "    sm.graphics.tsa.plot_pacf(data, lags=lags, ax=ax3)\n",
    "    fig.show()\n",
    "    return fig"
   ]
  },
  {
   "cell_type": "code",
   "execution_count": 11,
   "metadata": {
    "collapsed": false,
    "slideshow": {
     "slide_type": "subslide"
    }
   },
   "outputs": [
    {
     "data": {
      "image/png": "[encoded data removed]",
      "text/plain": [
       "<matplotlib.figure.Figure at 0x11ab5d690>"
      ]
     },
     "metadata": {},
     "output_type": "display_data"
    }
   ],
   "source": [
    "#from tsplot import ts_diag_plot\n",
    "fake = dataMa #has ar as well as ma as shown below\n",
    "#fake = sm.tsa.arma_generate_sample(ar=[1, 0.7, 0.0, 0.3],\n",
    "#    ma=[0.2, -0.1], nsample=100)\n",
    "fig = ts_diag_plot(fake)"
   ]
  },
  {
   "cell_type": "markdown",
   "metadata": {
    "slideshow": {
     "slide_type": "subslide"
    }
   },
   "source": [
    "## Example: diagnostic plots\n",
    "\n",
    "<img alt='<Three diagnostic plots>' src='images/3plots.jpg' width=800px></img>"
   ]
  },
  {
   "cell_type": "markdown",
   "metadata": {
    "slideshow": {
     "slide_type": "slide"
    }
   },
   "source": [
    "#   Practical advice\n",
    "\n",
    "\n",
    "## Questions to ask\n",
    "\n",
    "Look at the time series plots and ask:\n",
    "\n",
    "*   Is it stationary?\n",
    "*   Is there a trend?\n",
    "*   Is the variance stable?\n",
    "*   Are there seasonal or periodic components?\n",
    "*   What AR and MA terms are likely present?\n",
    "*   Are there structural breaks in the data?\n",
    "*   Do I have enough data to forecast at horizon $h$?"
   ]
  },
  {
   "cell_type": "markdown",
   "metadata": {
    "slideshow": {
     "slide_type": "subslide"
    }
   },
   "source": [
    "## Stabilizing the time series\n",
    "\n",
    "You need to stabilize the time series before estimating a model:\n",
    "\n",
    "*   Transform data to stabilize variance:\n",
    "    -   $y_t \\leftarrow \\log(y_t)$\n",
    "    -   Verify via Box-Cox test\n",
    "    -   Verify by plotting\n",
    "\n",
    "*   Transform data so series is stationary:\n",
    "    -   Compute first or second difference\n",
    "    -   $y_t \\leftarrow \\Delta y_t$ or $y_t \\leftarrow \\Delta^2 y_t$\n",
    "    -   Verify by portmanteau test\n"
   ]
  },
  {
   "cell_type": "markdown",
   "metadata": {
    "slideshow": {
     "slide_type": "slide"
    }
   },
   "source": [
    "## Fit an ARIMA model (1/2)\n",
    "\n",
    "To fit a model:\n",
    "\n",
    "*   Split data into train set (earlier observations) and test set (later observations)  \n",
    "\n",
    "*   To forecast at horizon $h$, should probably have at least $4 \\times h$ observations to train plus $h$  observations to test:\n",
    "    -   e.g., you cannot forecast demand two years out if you only have three months of history\n",
    "    -   If these conditions are violated, you can try to substitute using a 'panel of experts'\n",
    "    -   More data is better, especially if seasonality is present\n",
    "    - **But**, the data pattern is more likely to have changed over a longer history, reducing the value of more distant past."
   ]
  },
  {
   "cell_type": "markdown",
   "metadata": {
    "slideshow": {
     "slide_type": "subslide"
    }
   },
   "source": [
    "## Fit an ARIMA model (2/2)\n",
    "\n",
    "*   To identify optimal parameters d, p, and q of model:\n",
    "    -   Difference until stationary\n",
    "    -   Number of differences is order $d$ for I(d)\n",
    "    \n",
    "    -   Examine ACF and PACF\n",
    "    -   Use `sm.tsa.arma_order_select_ic` to generate and compare several models\n",
    "    -   Validate using forecasts over different time periods (not quite as simple as cross validation)"
   ]
  },
  {
   "cell_type": "markdown",
   "metadata": {
    "slideshow": {
     "slide_type": "slide"
    }
   },
   "source": [
    "## Example (1/2): automatic checking for enough differencing"
   ]
  },
  {
   "cell_type": "code",
   "execution_count": 12,
   "metadata": {
    "collapsed": false,
    "slideshow": {
     "slide_type": "subslide"
    }
   },
   "outputs": [],
   "source": [
    "data2 = sm.datasets.macrodata.load_pandas()\n",
    "df = data2.data\n",
    "df.index = pd.Index(\n",
    "    sm.tsa.datetools.dates_from_range('1959Q1', '2009Q3'))\n",
    "y = df.m1\n",
    "X = df[['realgdp', 'cpi']] #\"exogenous\" predictors - namely outside of the time series we are trying to predict\n",
    "# We try to use this in the second cell below."
   ]
  },
  {
   "cell_type": "code",
   "execution_count": 13,
   "metadata": {
    "collapsed": false,
    "slideshow": {
     "slide_type": "subslide"
    }
   },
   "outputs": [
    {
     "data": {
      "text/html": [
       "<table class=\"simpletable\">\n",
       "<caption>ARIMA Model Results</caption>\n",
       "<tr>\n",
       "  <th>Dep. Variable:</th>       <td>D.m1</td>       <th>  No. Observations:  </th>    <td>202</td>  \n",
       "</tr>\n",
       "<tr>\n",
       "  <th>Model:</th>          <td>ARIMA(3, 1, 1)</td>  <th>  Log Likelihood     </th> <td>-755.980</td>\n",
       "</tr>\n",
       "<tr>\n",
       "  <th>Method:</th>             <td>css-mle</td>     <th>  S.D. of innovations</th>  <td>10.193</td> \n",
       "</tr>\n",
       "<tr>\n",
       "  <th>Date:</th>          <td>Thu, 16 Feb 2017</td> <th>  AIC                </th> <td>1523.961</td>\n",
       "</tr>\n",
       "<tr>\n",
       "  <th>Time:</th>              <td>08:15:13</td>     <th>  BIC                </th> <td>1543.810</td>\n",
       "</tr>\n",
       "<tr>\n",
       "  <th>Sample:</th>           <td>06-30-1959</td>    <th>  HQIC               </th> <td>1531.992</td>\n",
       "</tr>\n",
       "<tr>\n",
       "  <th></th>                 <td>- 09-30-2009</td>   <th>                     </th>     <td> </td>   \n",
       "</tr>\n",
       "</table>\n",
       "<table class=\"simpletable\">\n",
       "<tr>\n",
       "       <td></td>         <th>coef</th>     <th>std err</th>      <th>z</th>      <th>P>|z|</th> <th>[95.0% Conf. Int.]</th> \n",
       "</tr>\n",
       "<tr>\n",
       "  <th>const</th>      <td>    7.8679</td> <td>    2.509</td> <td>    3.136</td> <td> 0.002</td> <td>    2.951    12.785</td>\n",
       "</tr>\n",
       "<tr>\n",
       "  <th>ar.L1.D.m1</th> <td>   -0.4212</td> <td>    0.109</td> <td>   -3.871</td> <td> 0.000</td> <td>   -0.634    -0.208</td>\n",
       "</tr>\n",
       "<tr>\n",
       "  <th>ar.L2.D.m1</th> <td>    0.5756</td> <td>    0.082</td> <td>    7.000</td> <td> 0.000</td> <td>    0.414     0.737</td>\n",
       "</tr>\n",
       "<tr>\n",
       "  <th>ar.L3.D.m1</th> <td>    0.3304</td> <td>    0.074</td> <td>    4.462</td> <td> 0.000</td> <td>    0.185     0.476</td>\n",
       "</tr>\n",
       "<tr>\n",
       "  <th>ma.L1.D.m1</th> <td>    0.8341</td> <td>    0.092</td> <td>    9.035</td> <td> 0.000</td> <td>    0.653     1.015</td>\n",
       "</tr>\n",
       "</table>\n",
       "<table class=\"simpletable\">\n",
       "<caption>Roots</caption>\n",
       "<tr>\n",
       "    <td></td>   <th>           Real</th> <th>         Imaginary</th> <th>         Modulus</th> <th>        Frequency</th>\n",
       "</tr>\n",
       "<tr>\n",
       "  <th>AR.1</th>               1.2429                    -0.0000j                    1.2429                   -0.0000     \n",
       "</tr>\n",
       "<tr>\n",
       "  <th>AR.2</th>              -1.4924                    -0.4557j                    1.5605                   -0.4528     \n",
       "</tr>\n",
       "<tr>\n",
       "  <th>AR.3</th>              -1.4924                    +0.4557j                    1.5605                    0.4528     \n",
       "</tr>\n",
       "<tr>\n",
       "  <th>MA.1</th>              -1.1989                    +0.0000j                    1.1989                    0.5000     \n",
       "</tr>\n",
       "</table>"
      ],
      "text/plain": [
       "<class 'statsmodels.iolib.summary.Summary'>\n",
       "\"\"\"\n",
       "                             ARIMA Model Results                              \n",
       "==============================================================================\n",
       "Dep. Variable:                   D.m1   No. Observations:                  202\n",
       "Model:                 ARIMA(3, 1, 1)   Log Likelihood                -755.980\n",
       "Method:                       css-mle   S.D. of innovations             10.193\n",
       "Date:                Thu, 16 Feb 2017   AIC                           1523.961\n",
       "Time:                        08:15:13   BIC                           1543.810\n",
       "Sample:                    06-30-1959   HQIC                          1531.992\n",
       "                         - 09-30-2009                                         \n",
       "==============================================================================\n",
       "                 coef    std err          z      P>|z|      [95.0% Conf. Int.]\n",
       "------------------------------------------------------------------------------\n",
       "const          7.8679      2.509      3.136      0.002         2.951    12.785\n",
       "ar.L1.D.m1    -0.4212      0.109     -3.871      0.000        -0.634    -0.208\n",
       "ar.L2.D.m1     0.5756      0.082      7.000      0.000         0.414     0.737\n",
       "ar.L3.D.m1     0.3304      0.074      4.462      0.000         0.185     0.476\n",
       "ma.L1.D.m1     0.8341      0.092      9.035      0.000         0.653     1.015\n",
       "                                    Roots                                    \n",
       "=============================================================================\n",
       "                 Real           Imaginary           Modulus         Frequency\n",
       "-----------------------------------------------------------------------------\n",
       "AR.1            1.2429           -0.0000j            1.2429           -0.0000\n",
       "AR.2           -1.4924           -0.4557j            1.5605           -0.4528\n",
       "AR.3           -1.4924           +0.4557j            1.5605            0.4528\n",
       "MA.1           -1.1989           +0.0000j            1.1989            0.5000\n",
       "-----------------------------------------------------------------------------\n",
       "\"\"\""
      ]
     },
     "execution_count": 13,
     "metadata": {},
     "output_type": "execute_result"
    }
   ],
   "source": [
    "#There is an error when order=[3,0,1]. This indicates original series was not stationary\n",
    "model = sm.tsa.ARIMA(endog=y, order=[3,1,1])\n",
    "# model = sm.tsa.ARIMA(endog=y, order=[3,0,1]) #fails, indicating original series was not stationary\n",
    "results = model.fit()\n",
    "results.summary()"
   ]
  },
  {
   "cell_type": "code",
   "execution_count": 14,
   "metadata": {
    "collapsed": false,
    "slideshow": {
     "slide_type": "subslide"
    }
   },
   "outputs": [
    {
     "name": "stderr",
     "output_type": "stream",
     "text": [
      "/Users/christopher.overton/anaconda2/lib/python2.7/site-packages/statsmodels/base/model.py:466: ConvergenceWarning: Maximum Likelihood optimization failed to converge. Check mle_retvals\n",
      "  \"Check mle_retvals\", ConvergenceWarning)\n"
     ]
    },
    {
     "data": {
      "text/html": [
       "<table class=\"simpletable\">\n",
       "<caption>ARIMA Model Results</caption>\n",
       "<tr>\n",
       "  <th>Dep. Variable:</th>       <td>D.m1</td>       <th>  No. Observations:  </th>    <td>202</td>  \n",
       "</tr>\n",
       "<tr>\n",
       "  <th>Model:</th>          <td>ARIMA(3, 1, 1)</td>  <th>  Log Likelihood     </th> <td>-753.952</td>\n",
       "</tr>\n",
       "<tr>\n",
       "  <th>Method:</th>             <td>css-mle</td>     <th>  S.D. of innovations</th>  <td>10.094</td> \n",
       "</tr>\n",
       "<tr>\n",
       "  <th>Date:</th>          <td>Thu, 16 Feb 2017</td> <th>  AIC                </th> <td>1523.904</td>\n",
       "</tr>\n",
       "<tr>\n",
       "  <th>Time:</th>              <td>08:15:19</td>     <th>  BIC                </th> <td>1550.370</td>\n",
       "</tr>\n",
       "<tr>\n",
       "  <th>Sample:</th>           <td>06-30-1959</td>    <th>  HQIC               </th> <td>1534.612</td>\n",
       "</tr>\n",
       "<tr>\n",
       "  <th></th>                 <td>- 09-30-2009</td>   <th>                     </th>     <td> </td>   \n",
       "</tr>\n",
       "</table>\n",
       "<table class=\"simpletable\">\n",
       "<tr>\n",
       "       <td></td>         <th>coef</th>     <th>std err</th>      <th>z</th>      <th>P>|z|</th> <th>[95.0% Conf. Int.]</th> \n",
       "</tr>\n",
       "<tr>\n",
       "  <th>const</th>      <td>    5.3475</td> <td>    7.908</td> <td>    0.676</td> <td> 0.500</td> <td>  -10.152    20.847</td>\n",
       "</tr>\n",
       "<tr>\n",
       "  <th>realgdp</th>    <td>   -0.0027</td> <td>    0.004</td> <td>   -0.719</td> <td> 0.473</td> <td>   -0.010     0.005</td>\n",
       "</tr>\n",
       "<tr>\n",
       "  <th>cpi</th>        <td>    0.2103</td> <td>    0.199</td> <td>    1.056</td> <td> 0.292</td> <td>   -0.180     0.601</td>\n",
       "</tr>\n",
       "<tr>\n",
       "  <th>ar.L1.D.m1</th> <td>   -0.4505</td> <td>    0.111</td> <td>   -4.063</td> <td> 0.000</td> <td>   -0.668    -0.233</td>\n",
       "</tr>\n",
       "<tr>\n",
       "  <th>ar.L2.D.m1</th> <td>    0.5355</td> <td>    0.082</td> <td>    6.513</td> <td> 0.000</td> <td>    0.374     0.697</td>\n",
       "</tr>\n",
       "<tr>\n",
       "  <th>ar.L3.D.m1</th> <td>    0.3096</td> <td>    0.074</td> <td>    4.183</td> <td> 0.000</td> <td>    0.165     0.455</td>\n",
       "</tr>\n",
       "<tr>\n",
       "  <th>ma.L1.D.m1</th> <td>    0.8344</td> <td>    0.094</td> <td>    8.875</td> <td> 0.000</td> <td>    0.650     1.019</td>\n",
       "</tr>\n",
       "</table>\n",
       "<table class=\"simpletable\">\n",
       "<caption>Roots</caption>\n",
       "<tr>\n",
       "    <td></td>   <th>           Real</th> <th>         Imaginary</th> <th>         Modulus</th> <th>        Frequency</th>\n",
       "</tr>\n",
       "<tr>\n",
       "  <th>AR.1</th>               1.3001                    -0.0000j                    1.3001                   -0.0000     \n",
       "</tr>\n",
       "<tr>\n",
       "  <th>AR.2</th>              -1.5149                    -0.4351j                    1.5761                   -0.4555     \n",
       "</tr>\n",
       "<tr>\n",
       "  <th>AR.3</th>              -1.5149                    +0.4351j                    1.5761                    0.4555     \n",
       "</tr>\n",
       "<tr>\n",
       "  <th>MA.1</th>              -1.1985                    +0.0000j                    1.1985                    0.5000     \n",
       "</tr>\n",
       "</table>"
      ],
      "text/plain": [
       "<class 'statsmodels.iolib.summary.Summary'>\n",
       "\"\"\"\n",
       "                             ARIMA Model Results                              \n",
       "==============================================================================\n",
       "Dep. Variable:                   D.m1   No. Observations:                  202\n",
       "Model:                 ARIMA(3, 1, 1)   Log Likelihood                -753.952\n",
       "Method:                       css-mle   S.D. of innovations             10.094\n",
       "Date:                Thu, 16 Feb 2017   AIC                           1523.904\n",
       "Time:                        08:15:19   BIC                           1550.370\n",
       "Sample:                    06-30-1959   HQIC                          1534.612\n",
       "                         - 09-30-2009                                         \n",
       "==============================================================================\n",
       "                 coef    std err          z      P>|z|      [95.0% Conf. Int.]\n",
       "------------------------------------------------------------------------------\n",
       "const          5.3475      7.908      0.676      0.500       -10.152    20.847\n",
       "realgdp       -0.0027      0.004     -0.719      0.473        -0.010     0.005\n",
       "cpi            0.2103      0.199      1.056      0.292        -0.180     0.601\n",
       "ar.L1.D.m1    -0.4505      0.111     -4.063      0.000        -0.668    -0.233\n",
       "ar.L2.D.m1     0.5355      0.082      6.513      0.000         0.374     0.697\n",
       "ar.L3.D.m1     0.3096      0.074      4.183      0.000         0.165     0.455\n",
       "ma.L1.D.m1     0.8344      0.094      8.875      0.000         0.650     1.019\n",
       "                                    Roots                                    \n",
       "=============================================================================\n",
       "                 Real           Imaginary           Modulus         Frequency\n",
       "-----------------------------------------------------------------------------\n",
       "AR.1            1.3001           -0.0000j            1.3001           -0.0000\n",
       "AR.2           -1.5149           -0.4351j            1.5761           -0.4555\n",
       "AR.3           -1.5149           +0.4351j            1.5761            0.4555\n",
       "MA.1           -1.1985           +0.0000j            1.1985            0.5000\n",
       "-----------------------------------------------------------------------------\n",
       "\"\"\""
      ]
     },
     "execution_count": 14,
     "metadata": {},
     "output_type": "execute_result"
    }
   ],
   "source": [
    "# Try to build a model including additional predictors (defined earlier): X = df[['realgdp', 'cpi']]\n",
    "model2 = sm.tsa.ARIMA(endog=y, order=[3,1,1], exog=X)\n",
    "results2 = model2.fit()\n",
    "results2.summary()"
   ]
  },
  {
   "cell_type": "markdown",
   "metadata": {
    "slideshow": {
     "slide_type": "subslide"
    }
   },
   "source": [
    "## Example: (2/2)\n",
    "Textual python output\n",
    "\n",
    "![Example: summary output from ARIMA model](images/arima_summary.png)"
   ]
  },
  {
   "cell_type": "markdown",
   "metadata": {
    "slideshow": {
     "slide_type": "slide"
    }
   },
   "source": [
    "## Forecasts and prediction intervals\n",
    "\n",
    "A prediction interval exists in the y-coordinate (possibly for each future value of t.) It characterizes possible fluctuation of $y_t$\n",
    "\n",
    "A forecast of $\\{y_t\\}$ at time $t+h$ computes:\n",
    "\n",
    "*   $\\hat{y}_{t+h|t}$, the expected mean of $y_t$ at time $t+h$ conditional on the information available at $t$\n",
    "*   The *prediction interval*\n",
    "    -   Contains future realization of the mean $y_{t+h}$ with probability $1 - \\alpha$ **if** data were generated as modeled (similar logic to hypothesis testing)\n",
    "    -   Increases the further you forecast into the future\n",
    "*   **A prediction interval is not a confidence interval**:\n",
    "    -   A prediction interval contains the future realization of a random variable with $\\Pr = 1 - \\alpha$\n",
    "    -   A confidence interval contains the true value of a parameter with $\\Pr = 1 - \\alpha$ (sort of, with weird backwards reasoning!)\n",
    "*   See Hyndman's blog [post](http://robjhyndman.com/hyndsight/intervals/) for further discussion"
   ]
  },
  {
   "cell_type": "markdown",
   "metadata": {
    "slideshow": {
     "slide_type": "subslide"
    }
   },
   "source": [
    "## Forecasting\n",
    "\n",
    "Can use `results.forecast` to compute out of sample predictions:\n",
    "\n",
    "*   Use `alpha` to choose appropriate prediction interval, e.g., 80%, 90%, 95%, etc.\n",
    "*   Do not use the prediction interval to forecast quantiles of $\\hat{y}_{t+h|t}$\n",
    "*   Note: one documentation incorrectly refers to the *prediction interval* as the *confidence interval*\n",
    "*   Can supply (forecasted) value of exogenous predictors"
   ]
  },
  {
   "cell_type": "code",
   "execution_count": 15,
   "metadata": {
    "collapsed": true,
    "slideshow": {
     "slide_type": "fragment"
    }
   },
   "outputs": [],
   "source": [
    "h = 5 #desired forecast window:\n",
    "y_hat, stderr, pred_int = results.forecast(steps=h, alpha=0.05)"
   ]
  },
  {
   "cell_type": "markdown",
   "metadata": {
    "slideshow": {
     "slide_type": "subslide"
    }
   },
   "source": [
    "## Prediction interval 'fan chart'"
   ]
  },
  {
   "cell_type": "code",
   "execution_count": 16,
   "metadata": {
    "collapsed": false,
    "slideshow": {
     "slide_type": "fragment"
    }
   },
   "outputs": [
    {
     "name": "stderr",
     "output_type": "stream",
     "text": [
      "/Users/christopher.overton/anaconda2/lib/python2.7/site-packages/statsmodels/tsa/arima_model.py:1847: FutureWarning: TimeSeries is deprecated. Please use Series\n",
      "  forecast = TimeSeries(forecast, index=self.data.predict_dates)\n"
     ]
    },
    {
     "data": {
      "image/png": "[encoded data removed]",
      "text/plain": [
       "<matplotlib.figure.Figure at 0x11acccd90>"
      ]
     },
     "metadata": {},
     "output_type": "display_data"
    }
   ],
   "source": [
    "#Note how prediction intervals widen with increasing forecast horizon\n",
    "results.plot_predict('2009Q3', '2014Q4', dynamic=True,\n",
    "    plot_insample=True)\n",
    "plt.show()"
   ]
  },
  {
   "cell_type": "code",
   "execution_count": 17,
   "metadata": {
    "collapsed": false,
    "slideshow": {
     "slide_type": "subslide"
    }
   },
   "outputs": [
    {
     "data": {
      "image/png": "[encoded data removed]",
      "text/plain": [
       "<matplotlib.figure.Figure at 0x11b9d9490>"
      ]
     },
     "metadata": {},
     "output_type": "display_data"
    }
   ],
   "source": [
    "#Weird experiment to see if ARIMA thinks it can forecast too far out\n",
    "results.plot_predict('2009Q3', '2032Q4', dynamic=True,\n",
    "    plot_insample=True)\n",
    "plt.show()"
   ]
  },
  {
   "cell_type": "markdown",
   "metadata": {
    "slideshow": {
     "slide_type": "subslide"
    }
   },
   "source": [
    "## Workflow step: Evaluate\n",
    "\n",
    "\"Trust, but verify\":\n",
    "\n",
    "*   Check residuals are white noise:\n",
    "    -   Examine ACF & PACF\n",
    "    -   Compute portmanteau (Box-Pierce, Box-Ljung) test to see if residuals are correlated\n",
    "*   Check solver converged!\n",
    "*   Remember: simple models often outperform fancy models on new data\n",
    "*   Compare any forecast against the benchmark forecast\n",
    "    -   Choose a benchmark such as mean or random walk with drift\n",
    "    -   Fit model on training set and evaluate on test set\n",
    "    -   To compare multiple forecasts, use a sliding window"
   ]
  },
  {
   "cell_type": "markdown",
   "metadata": {
    "slideshow": {
     "slide_type": "slide"
    }
   },
   "source": [
    "## Common metrics\n",
    "\n",
    "It is common to use several metrics for evaluation:\n",
    "\n",
    "*   *Root mean squared error*:\n",
    "\n",
    "$$RMSE \\equiv \\sqrt{\\dfrac{1}{H} \\sum{(y_{t+h} - \\hat{y}_{t+h|t})^2}}$$\n",
    "\n",
    "*   *Mean absolute error*:\n",
    "\n",
    "$$MAE \\equiv \\dfrac{1}{H} \\sum{|y_{t+h} - \\hat{y}_{t+h|t}|}$$\n",
    "\n",
    "*   *Mean absolute percentage error*:\n",
    "\n",
    "$$MAPE \\equiv \\dfrac{1}{H} \\sum{\\left|\\dfrac{y_{t+h} - \\hat{y}_{t+h|t}}{y_{t+h}}\\right|}$$"
   ]
  },
  {
   "cell_type": "markdown",
   "metadata": {
    "slideshow": {
     "slide_type": "slide"
    }
   },
   "source": [
    "## Model selection\n",
    "\n",
    "Use information criterion to evaluate models:\n",
    "\n",
    "*   Several information criteria exist: AIC, **AICc**, BIC\n",
    "    -   Essentially, log-likelihood plus penalty for adding parameters\n",
    "    -   Measures fit vs. parsimony of model\n",
    "    -   Different criteria have different finite sample properties\n",
    "*   Choose model with lowest information criterion\n",
    "*   Especially helpful if you have limited data\n",
    "*   Popular, pre-ML method, but consider cross-validation if you have enough data"
   ]
  },
  {
   "cell_type": "markdown",
   "metadata": {
    "slideshow": {
     "slide_type": "slide"
    }
   },
   "source": [
    "## Tips & Tricks\n",
    "\n",
    "Some hard won wisdom:\n",
    "\n",
    "*   Work at the appropriate level of aggregation (grain):\n",
    "    -   Don't use 5 minute resolution data to forecast at $h$ = one month\n",
    "*   Don't forecast beyond what the data will support\n",
    "    -   You should have $4\\times h$ amount of data to forecast at horizon $h$\n",
    "*   Err on the side of simplicity\n",
    "*   Or, take a machine learning approach:\n",
    "    -   Try a set of lags and differences plus other predictors\n",
    "    -   Use regularization and/or variable selection\n",
    "    -   See Taieb & Hyndman for an approach which uses boosting."
   ]
  },
  {
   "cell_type": "markdown",
   "metadata": {
    "slideshow": {
     "slide_type": "slide"
    }
   },
   "source": [
    "# SARIMA (SARIMAX)\n",
    "*   ARIMA models may also include seasonal components ...  Specified as ARIMA(p,d,q)(P,D,Q)L  \n",
    "This is called \"seasonal ARIMA\" or SARIMA.   \n",
    "\n",
    "Here, the seasonal lags are as many multiples of L as given by P, D, and Q.\n",
    "\n",
    "For example, if L = 7 for a daily time series, then P, D, and Q are refer to effects over multiples of weeks, not multiplies of days.  \n",
    "In this case, p, d, and q are still over multiples of single days.  \n",
    "\n",
    "**Hint: you'll find this quite useful in your pairs sprint today!**"
   ]
  },
  {
   "cell_type": "markdown",
   "metadata": {
    "slideshow": {
     "slide_type": "subslide"
    }
   },
   "source": [
    "### Whiteboard example: traffic"
   ]
  },
  {
   "cell_type": "markdown",
   "metadata": {
    "slideshow": {
     "slide_type": "slide"
    }
   },
   "source": [
    "## ETS vs. ARIMA\n",
    "\n",
    "ARIMA features & benefits:\n",
    "\n",
    "*   Benchmark model for almost a century\n",
    "*   Much easier to estimate with modern computational resources\n",
    "*   Easy to diagnose models graphically\n",
    "*   Easy to fit using Box-Jenkins methodology\n",
    "\n",
    "ETS features & benefits:\n",
    "\n",
    "*   Can handle non-linear and non-stationary processes\n",
    "*   Can be computed with limited computational resources\n",
    "*   Not always a subset of ARIMA\n",
    "*   Easier to explain to non-technical stakeholders"
   ]
  },
  {
   "cell_type": "markdown",
   "metadata": {
    "slideshow": {
     "slide_type": "slide"
    }
   },
   "source": [
    "From here, you can go deeper either in theory/technique or in domain knowledge\n",
    "\n",
    "## Important techniques not covered today (I)\n",
    "\n",
    "* Important theory for **periodic** data:\n",
    "    - **Fourier analysis** (when lots of periods/cycles are available)\n",
    "    - **Wavelet** analysis (for fewer or more rapidly changing cycles)   \n",
    "        - This was used in a recent capstone to model seizure onset from neural time series\n",
    "    \n",
    "<img alt='<wavelets>', src='images/wavelets.png' width=300px>\n",
    "    "
   ]
  },
  {
   "cell_type": "markdown",
   "metadata": {
    "slideshow": {
     "slide_type": "subslide"
    }
   },
   "source": [
    "## Important techniques not covered today (II)\n",
    "* Survival analysis\n",
    "    - What is the probability that a person alive today will be alive in t years? \n",
    "    - One linear regression model could consider features like $\\frac{1}{t}$, $\\frac{1}{t^2}$, etc., but this doesn't do a good job of incorporating non-monotonic changes (e.g. fatality rate bumps up for a few years after age 16 e.g. due to inexperienced drivers...)\n",
    "    - A better model is to use **hazard** at each age: the conditional probability at each age of not surviving the next year\n",
    "    - This was used in a recent capstone with an important 'off-label' use: churn prediction"
   ]
  },
  {
   "cell_type": "markdown",
   "metadata": {
    "slideshow": {
     "slide_type": "subslide"
    }
   },
   "source": [
    "## Important techniques not covered today (III)\n",
    "* More state space models:\n",
    "    - So far, we have been trying to model only the internal structure of a single time series $y_t$.   \n",
    "    In general, we might care about multiple time series $y_{(i, t)}$, which may depend both on each other and on additional time series, such as inputs and hidden \"state\" series.\n",
    "    - One popular approach to this is the **Kalman filter**. \n",
    "    - At a more basic level, we can generalize ARIMA to multiple time series \"VARIMA\" (a vector autoregression model is called \"VAR\")  \n",
    "    \n",
    "* The relation to spatial analysis: just as time has internal structure, so might other continuous features like spatial variables. Some recent work develops a unified framework for these - notably [Cressie & Wikle: Statistics for Spatio-Temporal Data ('11)](http://www.wiley.com/WileyCDA/WileyTitle/productCd-EHEP002348.html)  "
   ]
  },
  {
   "cell_type": "markdown",
   "metadata": {
    "slideshow": {
     "slide_type": "subslide"
    }
   },
   "source": [
    "Time series and its practitioners often integrate poorly with other ML specialties. I expect more bridges between the two camps over the next years. Recent examples include modeling time series through clustering, such as via parametric features or via distance metrics.\n",
    "\n",
    "Real life includes constant forecasting, so it is no wonder data science does also.\n",
    "\n",
    "So even though ts may seem like an isolated subject, you will make frequent use of it - at least implicitly!"
   ]
  },
  {
   "cell_type": "markdown",
   "metadata": {
    "slideshow": {
     "slide_type": "slide"
    }
   },
   "source": [
    "## Important topics not covered today: domain knowledge (I)\n",
    "\n",
    "Time series are very important in many financial areas, several of which have developed very different specializations:\n",
    "- Economics (macroeconomic forecasting differs from microeconomic uses such as for pricing)\n",
    "- Finance (e.g. stochastic/brownian motion)\n",
    "- Insurance (actuarial studies)\n",
    "- Several applications in the retail sector (e.g. inventory management, pricing strategies to maximize profit)"
   ]
  },
  {
   "cell_type": "markdown",
   "metadata": {
    "slideshow": {
     "slide_type": "slide"
    }
   },
   "source": [
    "## Important topics not covered today: domain knowledge (II)\n",
    "\n",
    "Other domains with notable ts/forecasting include:\n",
    "- Signal processing\n",
    "- Various clinical sciences - notably neurology\n",
    "- Behavioral analysis (e.g. embedded in Salesforce)\n",
    "- A/B testing for web sites, within the newly named domain of 'growth'\n",
    "    - A good source of job opportunities!"
   ]
  },
  {
   "cell_type": "markdown",
   "metadata": {
    "slideshow": {
     "slide_type": "slide"
    }
   },
   "source": [
    "##  Summary\n",
    "\n",
    "You should now be able to answer the following questions:\n",
    "\n",
    "*   What are the steps in the Box-Jenkins's approach?\n",
    "*   How much data do I need to forecast at horizon $h$?\n",
    "*   How should I evaluate a forecast?\n",
    "*   What are the benefits of ARIMA vs. ETS?"
   ]
  },
  {
   "cell_type": "code",
   "execution_count": null,
   "metadata": {
    "collapsed": true,
    "slideshow": {
     "slide_type": "skip"
    }
   },
   "outputs": [],
   "source": []
  }
 ],
 "metadata": {
  "celltoolbar": "Slideshow",
  "kernelspec": {
   "display_name": "Python 2",
   "language": "python",
   "name": "python2"
  },
  "language_info": {
   "codemirror_mode": {
    "name": "ipython",
    "version": 2
   },
   "file_extension": ".py",
   "mimetype": "text/x-python",
   "name": "python",
   "nbconvert_exporter": "python",
   "pygments_lexer": "ipython2",
   "version": "2.7.12"
  }
 },
 "nbformat": 4,
 "nbformat_minor": 0
}
