{
 "cells": [
  {
   "cell_type": "code",
   "execution_count": 1,
   "metadata": {
    "collapsed": true
   },
   "outputs": [],
   "source": [
    "import numpy as np\n",
    "import random\n",
    "import string\n",
    "from string import punctuation\n",
    "from collections import Counter\n",
    "from itertools import chain, combinations\n",
    "\n",
    "%matplotlib inline\n",
    "\n",
    "from timeit import Timer"
   ]
  },
  {
   "cell_type": "markdown",
   "metadata": {},
   "source": [
    "# Couting numbers in a list"
   ]
  },
  {
   "cell_type": "code",
   "execution_count": 2,
   "metadata": {
    "collapsed": false
   },
   "outputs": [
    {
     "data": {
      "text/plain": [
       "4"
      ]
     },
     "execution_count": 2,
     "metadata": {},
     "output_type": "execute_result"
    }
   ],
   "source": [
    "# What is the big-O efficiency class?\n",
    "\n",
    "def count(haystack, needle):\n",
    "    c = 0\n",
    "    for val in haystack:\n",
    "        if val == needle:\n",
    "            c += 1\n",
    "    return c\n",
    "\n",
    "count([5, 3, 9, 1, 5, 2, 3, 5, 3, 2, 5, 9, 3, 6, 2, 1, 7], 3)"
   ]
  },
  {
   "cell_type": "markdown",
   "metadata": {},
   "source": [
    "# List and Set Operations"
   ]
  },
  {
   "cell_type": "markdown",
   "metadata": {},
   "source": [
    "big-O class of common list and set operations:\n",
    "\n",
    "|          | **index** | **append/add** | **delete** | **'in'** | **pop** |\n",
    "|----------|-------|------------|--------|------|------|\n",
    "| **list**     | 1     | 1          | n      | n    |   1   |\n",
    "| **set/dict** | --   | 1          | 1      | 1    |   --  |"
   ]
  },
  {
   "cell_type": "markdown",
   "metadata": {},
   "source": [
    "# What are the common big-O classes?"
   ]
  },
  {
   "cell_type": "markdown",
   "metadata": {},
   "source": [
    "In order of best to worst:\n",
    "\n",
    "$$ O(1)      \\\\\n",
    "O(lg(n))     \\\\\n",
    "O(n)         \\\\\n",
    "O(n lg(n))   \\\\\n",
    "O(n^2)       \\\\\n",
    "O(n^3)       \\\\\n",
    "...          \\\\\n",
    "O(2^n)       \\\\\n",
    "O(n!)        \\\\\n",
    "$$"
   ]
  },
  {
   "cell_type": "markdown",
   "metadata": {},
   "source": [
    "# A True Story\n",
    "\n",
    "One student once wrote code like this (I'm just showing pseudocode here). He wanted to read 10,000 images (each of size 320x120) into one large numpy array (of size (10000,38400)) in order to use it as input to train a NN.\n",
    "\n",
    "```python\n",
    "all_images = np.array()\n",
    "\n",
    "for path in paths:\n",
    "    image = read_flattened_image(path)   # <-- returns a numpy vector of size (38400,)\n",
    "    all_images = np.vstack((all_images, image))\n",
    "```\n",
    "\n",
    "He found that this code was taking a long time to run. As in, he waited several hours and it didn't finish. Why?\n",
    "\n",
    "Because this algorithm is in O(n^2), where n is the number of images.\n",
    "\n",
    "Let's rewrite the algorithm like this:\n",
    "\n",
    "```python\n",
    "all_images = []\n",
    "\n",
    "for path in paths:\n",
    "    image = read_flattened_image(path)   # <-- returns a numpy vector of size (38400,)\n",
    "    all_images.append(image)\n",
    "\n",
    "all_images = np.array(all_images)\n",
    "```\n",
    "\n",
    "He ran the code above and it took only 5 minutes. Why?\n",
    "\n",
    "Because this new algorithm is in O(n), where n is the number of images.\n",
    "\n",
    "That's why this Big-O concept matters even for data scientist. If you aren't aware of your runtime efficiency class, you will not know how to answer these questions:\n",
    "1. Why is my algorithm taking longer to run than I'd expect?\n",
    "2. How can I make my algorithm run faster?\n",
    "\n",
    "Now we'll practice making code run faster."
   ]
  },
  {
   "cell_type": "markdown",
   "metadata": {},
   "source": [
    "# Pair Subset Sums (non-negative values only!)"
   ]
  },
  {
   "cell_type": "code",
   "execution_count": 3,
   "metadata": {
    "collapsed": true
   },
   "outputs": [],
   "source": [
    "values = [random.randrange(0,100) for i in xrange(4000)]"
   ]
  },
  {
   "cell_type": "code",
   "execution_count": 4,
   "metadata": {
    "collapsed": false
   },
   "outputs": [
    {
     "name": "stdout",
     "output_type": "stream",
     "text": [
      "CPU times: user 4.45 s, sys: 47.4 ms, total: 4.49 s\n",
      "Wall time: 4.46 s\n",
      "None\n"
     ]
    }
   ],
   "source": [
    "# What is the big-O efficiency class?\n",
    "\n",
    "def pair_subset_sum_v1(values, target):\n",
    "\n",
    "    for i, a in enumerate(values):\n",
    "\n",
    "        for j, b in enumerate(values):\n",
    "\n",
    "            if i != j and a + b == target:\n",
    "                return a, b\n",
    "\n",
    "    return None\n",
    "\n",
    "%time ans = pair_subset_sum_v1(values, -1)   # try 100\n",
    "print ans"
   ]
  },
  {
   "cell_type": "code",
   "execution_count": 5,
   "metadata": {
    "collapsed": false
   },
   "outputs": [
    {
     "name": "stdout",
     "output_type": "stream",
     "text": [
      "CPU times: user 1.31 s, sys: 24.9 ms, total: 1.34 s\n",
      "Wall time: 1.32 s\n",
      "None\n"
     ]
    }
   ],
   "source": [
    "# What is the big-O efficiency class?\n",
    "\n",
    "def pair_subset_sum_v2(values, target):\n",
    "\n",
    "    for i, a in enumerate(values):\n",
    "\n",
    "        for b in values[i+1:]:\n",
    "\n",
    "            if a + b == target:\n",
    "                return a, b\n",
    "\n",
    "    return None\n",
    "\n",
    "%time ans = pair_subset_sum_v2(values, -1)   # try 100\n",
    "print ans"
   ]
  },
  {
   "cell_type": "code",
   "execution_count": 6,
   "metadata": {
    "collapsed": false
   },
   "outputs": [
    {
     "name": "stdout",
     "output_type": "stream",
     "text": [
      "CPU times: user 3.51 ms, sys: 1.13 ms, total: 4.64 ms\n",
      "Wall time: 3.66 ms\n",
      "None\n"
     ]
    }
   ],
   "source": [
    "# What is the big-O efficiency class?\n",
    "\n",
    "def pair_subset_sum_v3(values, target):\n",
    "    \n",
    "    value_counts = Counter(values)\n",
    "    \n",
    "    for val in values:\n",
    "        \n",
    "        diff = target - val\n",
    "        \n",
    "        if diff in value_counts:\n",
    "            \n",
    "            if diff != val:\n",
    "                return val, diff\n",
    "            \n",
    "            elif value_counts[diff] >= 2:\n",
    "                return val, diff\n",
    "\n",
    "    return None\n",
    "\n",
    "%time ans = pair_subset_sum_v3(values, -1)   # try 100\n",
    "print ans"
   ]
  },
  {
   "cell_type": "code",
   "execution_count": 7,
   "metadata": {
    "collapsed": false
   },
   "outputs": [],
   "source": [
    "def build_input(n):\n",
    "    # This input will never have a 'True' result. This will force worst-case runtimes.\n",
    "    return [random.randrange(1,100) for i in xrange(n)]\n",
    "\n",
    "def get_times(samples, func):\n",
    "    t = Timer(lambda: func(samples, -1))\n",
    "    return t.timeit(number=10)\n",
    "\n",
    "sizes_slow = range(10, 4000, 200)\n",
    "times_slow = [get_times(build_input(n), pair_subset_sum_v2) for n in sizes_slow]\n",
    "\n",
    "sizes_fast = range(10, 10000, 1000)\n",
    "times_fast = [get_times(build_input(n), pair_subset_sum_v3) for n in sizes_fast]"
   ]
  },
  {
   "cell_type": "code",
   "execution_count": 8,
   "metadata": {
    "collapsed": false
   },
   "outputs": [
    {
     "data": {
      "text/plain": [
       "<matplotlib.text.Text at 0x1148cc750>"
      ]
     },
     "execution_count": 8,
     "metadata": {},
     "output_type": "execute_result"
    },
    {
     "data": {
      "image/png": "[encoded data removed]",
      "text/plain": [
       "<matplotlib.figure.Figure at 0x114b21cd0>"
      ]
     },
     "metadata": {},
     "output_type": "display_data"
    }
   ],
   "source": [
    "plt.plot(sizes_slow, times_slow)\n",
    "plt.title(\"pair_subset_sum_v2() timings\")\n",
    "plt.xlabel(\"input size\")\n",
    "plt.ylabel(\"time (seconds)\")"
   ]
  },
  {
   "cell_type": "code",
   "execution_count": 9,
   "metadata": {
    "collapsed": false
   },
   "outputs": [
    {
     "data": {
      "text/plain": [
       "<matplotlib.text.Text at 0x1148d9d50>"
      ]
     },
     "execution_count": 9,
     "metadata": {},
     "output_type": "execute_result"
    },
    {
     "data": {
      "image/png": "[encoded data removed]",
      "text/plain": [
       "<matplotlib.figure.Figure at 0x1175547d0>"
      ]
     },
     "metadata": {},
     "output_type": "display_data"
    }
   ],
   "source": [
    "plt.plot(sizes_fast, times_fast)\n",
    "plt.title(\"pair_subset_sum_v3() timings\")\n",
    "plt.xlabel(\"input size\")\n",
    "plt.ylabel(\"time (seconds)\")"
   ]
  },
  {
   "cell_type": "markdown",
   "metadata": {},
   "source": [
    "# Subset Sums (non-negative values only!)"
   ]
  },
  {
   "cell_type": "code",
   "execution_count": 10,
   "metadata": {
    "collapsed": true
   },
   "outputs": [],
   "source": [
    "# From: https://docs.python.org/2/library/itertools.html\n",
    "\n",
    "def powerset(iterable):\n",
    "    \"powerset([1,2,3]) --> () (1,) (2,) (3,) (1,2) (1,3) (2,3) (1,2,3)\"\n",
    "    s = list(iterable)\n",
    "    return chain.from_iterable(combinations(s, r) for r in range(len(s)+1))"
   ]
  },
  {
   "cell_type": "code",
   "execution_count": 11,
   "metadata": {
    "collapsed": true
   },
   "outputs": [],
   "source": [
    "values = [random.randrange(0,100) for i in xrange(23)]"
   ]
  },
  {
   "cell_type": "code",
   "execution_count": 12,
   "metadata": {
    "collapsed": false
   },
   "outputs": [
    {
     "name": "stdout",
     "output_type": "stream",
     "text": [
      "CPU times: user 3.38 s, sys: 42.5 ms, total: 3.42 s\n",
      "Wall time: 3.39 s\n",
      "None 0\n"
     ]
    }
   ],
   "source": [
    "# What is the big-O efficiency class?\n",
    "\n",
    "def subset_sum_v1(values, target):\n",
    "\n",
    "    for subset in powerset(values):\n",
    "\n",
    "        if sum(subset) == target:\n",
    "            return subset\n",
    "\n",
    "    return None\n",
    "\n",
    "%time ans = subset_sum_v1(values, 100000000)    # notice the change by increasing the input size by 1\n",
    "print ans, sum(ans) if ans is not None else 0"
   ]
  },
  {
   "cell_type": "code",
   "execution_count": 13,
   "metadata": {
    "collapsed": false
   },
   "outputs": [
    {
     "name": "stdout",
     "output_type": "stream",
     "text": [
      "CPU times: user 9.67 ms, sys: 2.55 ms, total: 12.2 ms\n",
      "Wall time: 10.1 ms\n",
      "None 0\n"
     ]
    }
   ],
   "source": [
    "# What is the big-O efficiency class?\n",
    "\n",
    "def subset_sum_v2(values, target):\n",
    "    \n",
    "    possible = {}\n",
    "    possible[0] = []   # using no values (the empty list) gives a sum of 0\n",
    "\n",
    "    for val in values:\n",
    "\n",
    "        for p, l in possible.copy().iteritems():\n",
    "\n",
    "            new_p = p + val\n",
    "\n",
    "            if new_p < target:\n",
    "                possible[new_p] = l + [val]\n",
    "\n",
    "            if new_p == target:\n",
    "                return l + [val]\n",
    "\n",
    "    return None\n",
    "\n",
    "%time ans = subset_sum_v2(values, 100000000)    # notice the change by increasing the input size by 1\n",
    "print ans, sum(ans) if ans is not None else 0"
   ]
  },
  {
   "cell_type": "code",
   "execution_count": 14,
   "metadata": {
    "collapsed": false
   },
   "outputs": [],
   "source": [
    "def build_input(n):\n",
    "    # This input will never have a 'True' result. This will force worst-case runtimes.\n",
    "    return [random.randrange(1,100) for i in xrange(n)]\n",
    "\n",
    "def get_times(samples, func):\n",
    "    t = Timer(lambda: func(samples, 100000000))\n",
    "    return t.timeit(number=10)\n",
    "\n",
    "sizes_slow = range(2, 23, 1)\n",
    "times_slow = [get_times(build_input(n), subset_sum_v1) for n in sizes_slow]\n",
    "\n",
    "sizes_fast = range(10, 100, 5)\n",
    "times_fast = [get_times(build_input(n), subset_sum_v2) for n in sizes_fast]"
   ]
  },
  {
   "cell_type": "code",
   "execution_count": 15,
   "metadata": {
    "collapsed": false
   },
   "outputs": [
    {
     "data": {
      "text/plain": [
       "<matplotlib.text.Text at 0x117627890>"
      ]
     },
     "execution_count": 15,
     "metadata": {},
     "output_type": "execute_result"
    },
    {
     "data": {
      "image/png": "[encoded data removed]",
      "text/plain": [
       "<matplotlib.figure.Figure at 0x117598790>"
      ]
     },
     "metadata": {},
     "output_type": "display_data"
    }
   ],
   "source": [
    "plt.plot(sizes_slow, times_slow)\n",
    "plt.title(\"subset_sum_v1() timings\")\n",
    "plt.xlabel(\"input size\")\n",
    "plt.ylabel(\"time (seconds)\")"
   ]
  },
  {
   "cell_type": "code",
   "execution_count": 16,
   "metadata": {
    "collapsed": false
   },
   "outputs": [
    {
     "data": {
      "text/plain": [
       "<matplotlib.text.Text at 0x1176b7510>"
      ]
     },
     "execution_count": 16,
     "metadata": {},
     "output_type": "execute_result"
    },
    {
     "data": {
      "image/png": "[encoded data removed]",
      "text/plain": [
       "<matplotlib.figure.Figure at 0x1175983d0>"
      ]
     },
     "metadata": {},
     "output_type": "display_data"
    }
   ],
   "source": [
    "plt.plot(sizes_fast, times_fast)\n",
    "plt.title(\"subset_sum_v2() timings\")\n",
    "plt.xlabel(\"input size\")\n",
    "plt.ylabel(\"time (seconds)\")"
   ]
  },
  {
   "cell_type": "markdown",
   "metadata": {},
   "source": [
    "# Effeciency: invalid_words()"
   ]
  },
  {
   "cell_type": "code",
   "execution_count": 17,
   "metadata": {
    "collapsed": false
   },
   "outputs": [],
   "source": [
    "with open('data/frankenstein_small.txt') as f:\n",
    "    doc_lines = f.readlines()\n",
    "\n",
    "with open('data/wordlist.txt') as f:\n",
    "    valid_words = [line.lower().strip() for line in f]"
   ]
  },
  {
   "cell_type": "code",
   "execution_count": 18,
   "metadata": {
    "collapsed": false
   },
   "outputs": [
    {
     "name": "stdout",
     "output_type": "stream",
     "text": [
      "CPU times: user 4.45 s, sys: 13.2 ms, total: 4.47 s\n",
      "Wall time: 4.47 s\n"
     ]
    }
   ],
   "source": [
    "# What is the big-O efficiency class?\n",
    "\n",
    "def invalid_words(valid_words, doc_lines):\n",
    "    '''\n",
    "    INPUT: list, str\n",
    "    OUTPUT: int\n",
    "\n",
    "    Given a list of all the valid words and a document filename, return a list\n",
    "    of words from the document that are not valid words.\n",
    "    '''\n",
    "    result = []\n",
    "    for line in doc_lines:\n",
    "        words = line.strip().split()\n",
    "        for word in words:\n",
    "            if word.lower().strip(punctuation) not in valid_words:\n",
    "                result.append(word)\n",
    "    return result\n",
    "\n",
    "%time invalid = invalid_words(valid_words, doc_lines)"
   ]
  },
  {
   "cell_type": "code",
   "execution_count": 19,
   "metadata": {
    "collapsed": false
   },
   "outputs": [
    {
     "name": "stdout",
     "output_type": "stream",
     "text": [
      "CPU times: user 30.6 ms, sys: 4.46 ms, total: 35.1 ms\n",
      "Wall time: 33.8 ms\n"
     ]
    }
   ],
   "source": [
    "# What is the big-O efficiency class?\n",
    "\n",
    "def invalid_words_faster(valid_words, doc_lines):\n",
    "    '''\n",
    "    INPUT: list, str\n",
    "    OUTPUT: int\n",
    "\n",
    "    Given a list of all the valid words and a document filename, return a list\n",
    "    of words from the document that are not valid words.\n",
    "    '''\n",
    "    valid_words_set = set(valid_words)\n",
    "    result = []\n",
    "    for line in doc_lines:\n",
    "        words = line.strip().split()\n",
    "        for word in words:\n",
    "            if word.lower().strip(punctuation) not in valid_words_set:\n",
    "                result.append(word)\n",
    "    return result\n",
    "\n",
    "%time invalid = invalid_words_faster(valid_words, doc_lines)"
   ]
  },
  {
   "cell_type": "markdown",
   "metadata": {
    "collapsed": true
   },
   "source": [
    "# Sorting!"
   ]
  },
  {
   "cell_type": "code",
   "execution_count": 20,
   "metadata": {
    "collapsed": false
   },
   "outputs": [
    {
     "data": {
      "text/plain": [
       "[0, 1, 2, 2, 3, 4, 6, 8, 12]"
      ]
     },
     "execution_count": 20,
     "metadata": {},
     "output_type": "execute_result"
    }
   ],
   "source": [
    "'''\n",
    "Note:\n",
    "DON'T EVER IMPLEMENT YOUR OWN SORTING FUNCTION! These impls are just for big-O\n",
    "learning purposes. For that reason they implement things ground-up.\n",
    "'''\n",
    "\n",
    "def selection_sort(values):\n",
    "    \n",
    "    for i in xrange(len(values)):\n",
    "        \n",
    "        min_index = i\n",
    "        \n",
    "        for j in xrange(i+1, len(values)):\n",
    "            \n",
    "            if values[j] < values[min_index]:\n",
    "                min_index = j\n",
    "        \n",
    "        values[i], values[min_index] = values[min_index], values[i]  # <-- swap i with min_index\n",
    "\n",
    "    return values\n",
    "\n",
    "selection_sort([4, 12, 6, 3, 2, 8, 2, 0, 1])"
   ]
  },
  {
   "cell_type": "code",
   "execution_count": 21,
   "metadata": {
    "collapsed": false
   },
   "outputs": [
    {
     "data": {
      "text/plain": [
       "[1, 4, 5, 7, 8, 9, 9, 9, 10, 12, 30]"
      ]
     },
     "execution_count": 21,
     "metadata": {},
     "output_type": "execute_result"
    }
   ],
   "source": [
    "def merge(a, b):\n",
    "    '''\n",
    "    Merge two pre-sorted lists: a and b.\n",
    "    Return a merged (still sorted) lists.\n",
    "    '''\n",
    "    \n",
    "    i, j = 0, 0\n",
    "    \n",
    "    res = []\n",
    "    \n",
    "    while i < len(a) and j < len(b):\n",
    "        \n",
    "        if a[i] < b[j]:\n",
    "            res.append(a[i])\n",
    "            i += 1\n",
    "        else:\n",
    "            res.append(b[j])\n",
    "            j += 1\n",
    "            \n",
    "    while i < len(a):\n",
    "        res.append(a[i])\n",
    "        i += 1\n",
    "\n",
    "    while j < len(b):\n",
    "        res.append(b[j])\n",
    "        j += 1\n",
    "        \n",
    "    return res\n",
    "\n",
    "\n",
    "merge([1, 4, 7, 9, 12], [5, 8, 9, 9, 10, 30])"
   ]
  },
  {
   "cell_type": "code",
   "execution_count": 22,
   "metadata": {
    "collapsed": false
   },
   "outputs": [
    {
     "data": {
      "text/plain": [
       "[0, 1, 2, 2, 3, 4, 6, 8, 12]"
      ]
     },
     "execution_count": 22,
     "metadata": {},
     "output_type": "execute_result"
    }
   ],
   "source": [
    "def merge_sort(values):\n",
    "    \n",
    "    if len(values) <= 1:\n",
    "        return values\n",
    "\n",
    "    mid_index = len(values) / 2\n",
    "    \n",
    "    left_sorted_values = merge_sort(values[:mid_index])\n",
    "    right_sorted_values = merge_sort(values[mid_index:])\n",
    "    \n",
    "    return merge(left_sorted_values, right_sorted_values)\n",
    "\n",
    "merge_sort([4, 12, 6, 3, 2, 8, 2, 0, 1])"
   ]
  },
  {
   "cell_type": "code",
   "execution_count": 23,
   "metadata": {
    "collapsed": true
   },
   "outputs": [],
   "source": [
    "def build_input(n):\n",
    "    return [random.randrange(1,10000) for i in xrange(n)]\n",
    "\n",
    "def get_times(samples, func):\n",
    "    t = Timer(lambda: func(samples))\n",
    "    return t.timeit(number=10)\n",
    "\n",
    "sizes_slow = range(10, 2000, 100)\n",
    "times_slow = [get_times(build_input(n), selection_sort) for n in sizes_slow]\n",
    "\n",
    "sizes_fast = range(10, 10000, 1000)\n",
    "times_fast = [get_times(build_input(n), merge_sort) for n in sizes_fast]"
   ]
  },
  {
   "cell_type": "code",
   "execution_count": 24,
   "metadata": {
    "collapsed": false
   },
   "outputs": [
    {
     "data": {
      "text/plain": [
       "<matplotlib.text.Text at 0x11850bb50>"
      ]
     },
     "execution_count": 24,
     "metadata": {},
     "output_type": "execute_result"
    },
    {
     "data": {
      "image/png": "[encoded data removed]",
      "text/plain": [
       "<matplotlib.figure.Figure at 0x1176a85d0>"
      ]
     },
     "metadata": {},
     "output_type": "display_data"
    }
   ],
   "source": [
    "plt.plot(sizes_slow, times_slow)\n",
    "plt.title(\"selection_sort() timings\")\n",
    "plt.xlabel(\"input size\")\n",
    "plt.ylabel(\"time (seconds)\")"
   ]
  },
  {
   "cell_type": "code",
   "execution_count": 25,
   "metadata": {
    "collapsed": false
   },
   "outputs": [
    {
     "data": {
      "text/plain": [
       "<matplotlib.text.Text at 0x11932da10>"
      ]
     },
     "execution_count": 25,
     "metadata": {},
     "output_type": "execute_result"
    },
    {
     "data": {
      "image/png": "[encoded data removed]",
      "text/plain": [
       "<matplotlib.figure.Figure at 0x117666610>"
      ]
     },
     "metadata": {},
     "output_type": "display_data"
    }
   ],
   "source": [
    "plt.plot(sizes_fast, times_fast)\n",
    "plt.title(\"merge_sort() timings\")\n",
    "plt.xlabel(\"input size\")\n",
    "plt.ylabel(\"time (seconds)\")"
   ]
  },
  {
   "cell_type": "code",
   "execution_count": null,
   "metadata": {
    "collapsed": true
   },
   "outputs": [],
   "source": []
  }
 ],
 "metadata": {
  "kernelspec": {
   "display_name": "Python 2",
   "language": "python",
   "name": "python2"
  },
  "language_info": {
   "codemirror_mode": {
    "name": "ipython",
    "version": 2
   },
   "file_extension": ".py",
   "mimetype": "text/x-python",
   "name": "python",
   "nbconvert_exporter": "python",
   "pygments_lexer": "ipython2",
   "version": "2.7.12"
  }
 },
 "nbformat": 4,
 "nbformat_minor": 0
}
