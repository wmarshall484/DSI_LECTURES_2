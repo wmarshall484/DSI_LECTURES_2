{
 "cells": [
  {
   "cell_type": "code",
   "execution_count": 1,
   "metadata": {
    "collapsed": true
   },
   "outputs": [],
   "source": [
    "import numpy as np\n",
    "import random\n",
    "import string\n",
    "from string import punctuation\n",
    "from collections import Counter\n",
    "from itertools import chain, combinations\n",
    "\n",
    "%matplotlib inline\n",
    "\n",
    "from timeit import Timer"
   ]
  },
  {
   "cell_type": "markdown",
   "metadata": {},
   "source": [
    "# Couting numbers in a list"
   ]
  },
  {
   "cell_type": "code",
   "execution_count": 2,
   "metadata": {
    "collapsed": false
   },
   "outputs": [
    {
     "data": {
      "text/plain": [
       "4"
      ]
     },
     "execution_count": 2,
     "metadata": {},
     "output_type": "execute_result"
    }
   ],
   "source": [
    "# What is the big-O efficiency class?\n",
    "\n",
    "def count(haystack, needle):\n",
    "    c = 0\n",
    "    for val in haystack:\n",
    "        if val == needle:\n",
    "            c += 1\n",
    "    return c\n",
    "\n",
    "count([5, 3, 9, 1, 5, 2, 3, 5, 3, 2, 5, 9, 3, 6, 2, 1, 7], 3)"
   ]
  },
  {
   "cell_type": "markdown",
   "metadata": {},
   "source": [
    "# List and Set Operations"
   ]
  },
  {
   "cell_type": "markdown",
   "metadata": {},
   "source": [
    "big-O class of common list and set operations:\n",
    "\n",
    "|          | **index** | **append/add** | **delete** | **'in'** |\n",
    "|----------|-------|------------|--------|------|\n",
    "| **list**     | 1     | 1          | n      | n    |\n",
    "| **set/dict** | --   | 1          | 1      | 1    |"
   ]
  },
  {
   "cell_type": "markdown",
   "metadata": {},
   "source": [
    "# What are the common big-O classes?"
   ]
  },
  {
   "cell_type": "markdown",
   "metadata": {},
   "source": [
    "In order of best to worst:\n",
    "\n",
    "$$ O(1)      \\\\\n",
    "O(lg(n))     \\\\\n",
    "O(n)         \\\\\n",
    "O(n lg(n))   \\\\\n",
    "O(n^2)       \\\\\n",
    "O(n^3)       \\\\\n",
    "...          \\\\\n",
    "O(2^n)       \\\\\n",
    "O(n!)        \\\\\n",
    "$$"
   ]
  },
  {
   "cell_type": "markdown",
   "metadata": {},
   "source": [
    "# Pair Subset Sums (non-negative values only!)"
   ]
  },
  {
   "cell_type": "code",
   "execution_count": 3,
   "metadata": {
    "collapsed": true
   },
   "outputs": [],
   "source": [
    "values = [random.randrange(0,100) for i in xrange(4000)]"
   ]
  },
  {
   "cell_type": "code",
   "execution_count": 4,
   "metadata": {
    "collapsed": false
   },
   "outputs": [
    {
     "name": "stdout",
     "output_type": "stream",
     "text": [
      "CPU times: user 4.59 s, sys: 249 ms, total: 4.83 s\n",
      "Wall time: 4.63 s\n",
      "None\n"
     ]
    }
   ],
   "source": [
    "# What is the big-O efficiency class?\n",
    "\n",
    "def pair_subset_sum(values, target):\n",
    "\n",
    "    for i, a in enumerate(values):\n",
    "\n",
    "        for j, b in enumerate(values):\n",
    "\n",
    "            if i != j and a + b == target:\n",
    "                return a, b\n",
    "\n",
    "    return None\n",
    "\n",
    "%time ans = pair_subset_sum(values, -1)   # try 100\n",
    "print ans"
   ]
  },
  {
   "cell_type": "code",
   "execution_count": 5,
   "metadata": {
    "collapsed": false
   },
   "outputs": [
    {
     "name": "stdout",
     "output_type": "stream",
     "text": [
      "CPU times: user 1.31 s, sys: 29.9 ms, total: 1.34 s\n",
      "Wall time: 1.32 s\n",
      "None\n"
     ]
    }
   ],
   "source": [
    "# What is the big-O efficiency class?\n",
    "\n",
    "def pair_subset_sum(values, target):\n",
    "\n",
    "    for i, a in enumerate(values):\n",
    "\n",
    "        for b in values[i+1:]:\n",
    "\n",
    "            if a + b == target:\n",
    "                return a, b\n",
    "\n",
    "    return None\n",
    "\n",
    "%time ans = pair_subset_sum(values, -1)   # try 100\n",
    "print ans"
   ]
  },
  {
   "cell_type": "code",
   "execution_count": 6,
   "metadata": {
    "collapsed": false
   },
   "outputs": [
    {
     "name": "stdout",
     "output_type": "stream",
     "text": [
      "CPU times: user 4.75 ms, sys: 457 µs, total: 5.2 ms\n",
      "Wall time: 6.47 ms\n",
      "None\n"
     ]
    }
   ],
   "source": [
    "# What is the big-O efficiency class?\n",
    "\n",
    "def pair_subset_sum(values, target):\n",
    "    \n",
    "    value_counts = Counter(values)\n",
    "    \n",
    "    for val in values:\n",
    "        \n",
    "        diff = target - val\n",
    "        \n",
    "        if diff in value_counts:\n",
    "            \n",
    "            if diff != val:\n",
    "                return val, diff\n",
    "            \n",
    "            elif value_counts[diff] >= 2:\n",
    "                return val, diff\n",
    "\n",
    "    return None\n",
    "\n",
    "%time ans = pair_subset_sum(values, -1)   # try 100\n",
    "print ans"
   ]
  },
  {
   "cell_type": "markdown",
   "metadata": {},
   "source": [
    "# Subset Sums (non-negative values only!)"
   ]
  },
  {
   "cell_type": "code",
   "execution_count": 7,
   "metadata": {
    "collapsed": true
   },
   "outputs": [],
   "source": [
    "# From: https://docs.python.org/2/library/itertools.html\n",
    "\n",
    "def powerset(iterable):\n",
    "    \"powerset([1,2,3]) --> () (1,) (2,) (3,) (1,2) (1,3) (2,3) (1,2,3)\"\n",
    "    s = list(iterable)\n",
    "    return chain.from_iterable(combinations(s, r) for r in range(len(s)+1))"
   ]
  },
  {
   "cell_type": "code",
   "execution_count": 8,
   "metadata": {
    "collapsed": true
   },
   "outputs": [],
   "source": [
    "values = [random.randrange(0,100) for i in xrange(22)]"
   ]
  },
  {
   "cell_type": "code",
   "execution_count": 9,
   "metadata": {
    "collapsed": false
   },
   "outputs": [
    {
     "name": "stdout",
     "output_type": "stream",
     "text": [
      "CPU times: user 1.68 s, sys: 16.5 ms, total: 1.69 s\n",
      "Wall time: 1.7 s\n",
      "None 0\n"
     ]
    }
   ],
   "source": [
    "# What is the big-O efficiency class?\n",
    "\n",
    "def subset_sum(values, target):\n",
    "\n",
    "    for subset in powerset(values):\n",
    "\n",
    "        if sum(subset) == target:\n",
    "            return subset\n",
    "\n",
    "    return None\n",
    "\n",
    "%time ans = subset_sum(values, -1)    # notice the change by increasing the input size by 1\n",
    "print ans, sum(ans) if ans is not None else 0"
   ]
  },
  {
   "cell_type": "code",
   "execution_count": 10,
   "metadata": {
    "collapsed": false
   },
   "outputs": [
    {
     "name": "stdout",
     "output_type": "stream",
     "text": [
      "CPU times: user 42 µs, sys: 7 µs, total: 49 µs\n",
      "Wall time: 48.9 µs\n",
      "None 0\n"
     ]
    }
   ],
   "source": [
    "# What is the big-O efficiency class?\n",
    "\n",
    "def subset_sum(values, target):\n",
    "    \n",
    "    possible = {}\n",
    "    possible[0] = []   # using no values (the empty list) gives a sum of 0\n",
    "\n",
    "    for val in values:\n",
    "\n",
    "        for p, l in possible.copy().iteritems():\n",
    "\n",
    "            new_p = p + val\n",
    "\n",
    "            if new_p < target:\n",
    "                possible[new_p] = l + [val]\n",
    "\n",
    "            if new_p == target:\n",
    "                return l + [val]\n",
    "\n",
    "    return None\n",
    "\n",
    "%time ans = subset_sum(values, -1)    # notice the change by increasing the input size by 1\n",
    "print ans, sum(ans) if ans is not None else 0"
   ]
  },
  {
   "cell_type": "markdown",
   "metadata": {},
   "source": [
    "# Effeciency: invalid_words()"
   ]
  },
  {
   "cell_type": "code",
   "execution_count": 11,
   "metadata": {
    "collapsed": false
   },
   "outputs": [],
   "source": [
    "with open('../data/frankenstein_small.txt') as f:\n",
    "    doc_lines = f.readlines()\n",
    "\n",
    "with open('../data/wordlist.txt') as f:\n",
    "    valid_words = [line.lower().strip() for line in f]"
   ]
  },
  {
   "cell_type": "code",
   "execution_count": 12,
   "metadata": {
    "collapsed": false
   },
   "outputs": [
    {
     "name": "stdout",
     "output_type": "stream",
     "text": [
      "CPU times: user 4.38 s, sys: 16.9 ms, total: 4.39 s\n",
      "Wall time: 4.4 s\n"
     ]
    }
   ],
   "source": [
    "def invalid_words(valid_words, doc_lines):\n",
    "    '''\n",
    "    INPUT: list, str\n",
    "    OUTPUT: int\n",
    "\n",
    "    Given a list of all the valid words and a document filename, return a list\n",
    "    of words from the document that are not valid words.\n",
    "    '''\n",
    "    result = []\n",
    "    for line in doc_lines:\n",
    "        words = line.strip().split()\n",
    "        for word in words:\n",
    "            if word.lower().strip(punctuation) not in valid_words:\n",
    "                result.append(word)\n",
    "    return result\n",
    "\n",
    "%time invalid = invalid_words(valid_words, doc_lines)"
   ]
  },
  {
   "cell_type": "code",
   "execution_count": 13,
   "metadata": {
    "collapsed": false
   },
   "outputs": [
    {
     "name": "stdout",
     "output_type": "stream",
     "text": [
      "CPU times: user 29.7 ms, sys: 4.68 ms, total: 34.4 ms\n",
      "Wall time: 34.6 ms\n"
     ]
    }
   ],
   "source": [
    "def invalid_words_faster(valid_words, doc_lines):\n",
    "    '''\n",
    "    INPUT: list, str\n",
    "    OUTPUT: int\n",
    "\n",
    "    Given a list of all the valid words and a document filename, return a list\n",
    "    of words from the document that are not valid words.\n",
    "    '''\n",
    "    valid_words_set = set(valid_words)\n",
    "    result = []\n",
    "    for line in doc_lines:\n",
    "        words = line.strip().split()\n",
    "        for word in words:\n",
    "            if word.lower().strip(punctuation) not in valid_words_set:\n",
    "                result.append(word)\n",
    "    return result\n",
    "\n",
    "%time invalid = invalid_words_faster(valid_words, doc_lines)"
   ]
  },
  {
   "cell_type": "markdown",
   "metadata": {},
   "source": [
    "# Efficiency: common_characters()"
   ]
  },
  {
   "cell_type": "code",
   "execution_count": 14,
   "metadata": {
    "collapsed": true
   },
   "outputs": [],
   "source": [
    "mystring = \"\".join(random.choice(string.lowercase) for i in xrange(100000))"
   ]
  },
  {
   "cell_type": "code",
   "execution_count": 15,
   "metadata": {
    "collapsed": false
   },
   "outputs": [
    {
     "name": "stdout",
     "output_type": "stream",
     "text": [
      "CPU times: user 9.58 s, sys: 40 ms, total: 9.62 s\n",
      "Wall time: 9.61 s\n"
     ]
    },
    {
     "data": {
      "text/plain": [
       "['b', 'd', 'e', 'f', 'h', 'j', 'q', 'r', 's', 'v', 'z']"
      ]
     },
     "execution_count": 15,
     "metadata": {},
     "output_type": "execute_result"
    }
   ],
   "source": [
    "def common_characters(s, num):\n",
    "    '''\n",
    "    INPUT: str, int\n",
    "    OUTPUT: list of chars\n",
    "\n",
    "    Return the list of characters which appear in the string s more than num\n",
    "    times.\n",
    "    '''\n",
    "    result = []\n",
    "    for char in s:\n",
    "        if s.count(char) > num:\n",
    "            if char not in result:\n",
    "                result.append(char)\n",
    "    return result\n",
    "\n",
    "%time common = common_characters(mystring, len(mystring)/26)\n",
    "sorted(common)"
   ]
  },
  {
   "cell_type": "code",
   "execution_count": 16,
   "metadata": {
    "collapsed": false
   },
   "outputs": [
    {
     "name": "stdout",
     "output_type": "stream",
     "text": [
      "CPU times: user 63.8 ms, sys: 13 ms, total: 76.8 ms\n",
      "Wall time: 67.2 ms\n"
     ]
    },
    {
     "data": {
      "text/plain": [
       "['b', 'd', 'e', 'f', 'h', 'j', 'q', 'r', 's', 'v', 'z']"
      ]
     },
     "execution_count": 16,
     "metadata": {},
     "output_type": "execute_result"
    }
   ],
   "source": [
    "def common_characters_faster(s, num):\n",
    "    '''\n",
    "    INPUT: str, int\n",
    "    OUTPUT: list of chars\n",
    "\n",
    "    Return the list of characters which appear in the string s more than num\n",
    "    times.\n",
    "    '''\n",
    "    c = Counter(s)\n",
    "    return [key for key, value in c.iteritems() if value > num]\n",
    "\n",
    "%time common = common_characters_faster(mystring, len(mystring)/26)\n",
    "sorted(common)"
   ]
  },
  {
   "cell_type": "code",
   "execution_count": 17,
   "metadata": {
    "collapsed": false
   },
   "outputs": [],
   "source": [
    "def build_input(n):\n",
    "    return mystring[:n]\n",
    "\n",
    "def get_times(samples, func):\n",
    "    t = Timer(lambda: func(samples))\n",
    "    return t.timeit(number=10)\n",
    "\n",
    "sizes_slow = range(10, 1000, 100)\n",
    "times_slow = [get_times(build_input(n), lambda l: common_characters(l, len(l)/26)) for n in sizes_slow]\n",
    "\n",
    "sizes_fast = range(10, 100000, 1000)\n",
    "times_fast = [get_times(build_input(n), lambda l: common_characters_faster(l, len(l)/26)) for n in sizes_fast]"
   ]
  },
  {
   "cell_type": "code",
   "execution_count": 18,
   "metadata": {
    "collapsed": false
   },
   "outputs": [
    {
     "data": {
      "text/plain": [
       "<matplotlib.text.Text at 0x115a9f0d0>"
      ]
     },
     "execution_count": 18,
     "metadata": {},
     "output_type": "execute_result"
    },
    {
     "data": {
      "image/png": "[encoded data removed]",
      "text/plain": [
       "<matplotlib.figure.Figure at 0x101b13250>"
      ]
     },
     "metadata": {},
     "output_type": "display_data"
    }
   ],
   "source": [
    "plt.plot(sizes_slow, times_slow)\n",
    "plt.title(\"common_characters() timings\")\n",
    "plt.xlabel(\"input size\")\n",
    "plt.ylabel(\"time (seconds)\")"
   ]
  },
  {
   "cell_type": "code",
   "execution_count": 19,
   "metadata": {
    "collapsed": false
   },
   "outputs": [
    {
     "data": {
      "text/plain": [
       "<matplotlib.text.Text at 0x101b13ed0>"
      ]
     },
     "execution_count": 19,
     "metadata": {},
     "output_type": "execute_result"
    },
    {
     "data": {
      "image/png": "[encoded data removed]",
      "text/plain": [
       "<matplotlib.figure.Figure at 0x115aac290>"
      ]
     },
     "metadata": {},
     "output_type": "display_data"
    }
   ],
   "source": [
    "plt.plot(sizes_fast, times_fast)\n",
    "plt.title(\"common_characters_faster() timings\")\n",
    "plt.xlabel(\"input size\")\n",
    "plt.ylabel(\"time (seconds)\")"
   ]
  },
  {
   "cell_type": "markdown",
   "metadata": {},
   "source": [
    "# Efficiency: sum_to_zero()"
   ]
  },
  {
   "cell_type": "code",
   "execution_count": 22,
   "metadata": {
    "collapsed": false
   },
   "outputs": [],
   "source": [
    "mylist = [random.randrange(-1,100000) for i in xrange(10000)]"
   ]
  },
  {
   "cell_type": "code",
   "execution_count": 23,
   "metadata": {
    "collapsed": false
   },
   "outputs": [
    {
     "name": "stdout",
     "output_type": "stream",
     "text": [
      "CPU times: user 8.05 s, sys: 113 ms, total: 8.17 s\n",
      "Wall time: 8.1 s\n"
     ]
    }
   ],
   "source": [
    "def sum_to_zero(lst):\n",
    "    '''\n",
    "    INPUT: list of ints\n",
    "    OUTPUT: tuple of two ints\n",
    "\n",
    "    Return a tupe of two values from the input list that sum to zero.\n",
    "    If none exist, return None.\n",
    "    '''\n",
    "\n",
    "    for i, item1 in enumerate(lst):\n",
    "        for item2 in lst[i + 1:]:\n",
    "            if item1 + item2 == 0:\n",
    "                return item1, item2\n",
    "\n",
    "%time v = sum_to_zero(mylist)\n",
    "v"
   ]
  },
  {
   "cell_type": "code",
   "execution_count": 24,
   "metadata": {
    "collapsed": false
   },
   "outputs": [
    {
     "name": "stdout",
     "output_type": "stream",
     "text": [
      "CPU times: user 10 ms, sys: 2.75 ms, total: 12.8 ms\n",
      "Wall time: 10.6 ms\n"
     ]
    }
   ],
   "source": [
    "def sum_to_zero_faster(lst):\n",
    "    '''\n",
    "    INPUT: list of ints\n",
    "    OUTPUT: tuple of two ints\n",
    "\n",
    "    Return a tupe of two values from the input list that sum to zero.\n",
    "    If none exist, return None.\n",
    "    '''\n",
    "    # Writing this carefully so that it's both fast AND will give the\n",
    "    # same result as our first (slow) version.\n",
    "    s = Counter(lst)\n",
    "    for i in lst:\n",
    "        if i == 0 and s[i] >= 2:\n",
    "            return (0, 0)\n",
    "        elif i != 0 and -i in s:\n",
    "            return (i, -i)\n",
    "\n",
    "%time v = sum_to_zero_faster(mylist)\n",
    "v"
   ]
  },
  {
   "cell_type": "code",
   "execution_count": 25,
   "metadata": {
    "collapsed": false
   },
   "outputs": [],
   "source": [
    "def build_input(n):\n",
    "    # This input will never have a 'True' result. This will force worst-case runtimes.\n",
    "    return [random.randrange(1,100000) for i in xrange(n)]\n",
    "\n",
    "def get_times(samples, func):\n",
    "    t = Timer(lambda: func(samples))\n",
    "    return t.timeit(number=10)\n",
    "\n",
    "sizes_slow = range(10, 2000, 100)\n",
    "times_slow = [get_times(build_input(n), sum_to_zero) for n in sizes_slow]\n",
    "\n",
    "sizes_fast = range(10, 10000, 1000)\n",
    "times_fast = [get_times(build_input(n), sum_to_zero_faster) for n in sizes_fast]"
   ]
  },
  {
   "cell_type": "code",
   "execution_count": 26,
   "metadata": {
    "collapsed": false
   },
   "outputs": [
    {
     "data": {
      "text/plain": [
       "<matplotlib.text.Text at 0x118ba6890>"
      ]
     },
     "execution_count": 26,
     "metadata": {},
     "output_type": "execute_result"
    },
    {
     "data": {
      "image/png": "[encoded data removed]",
      "text/plain": [
       "<matplotlib.figure.Figure at 0x118b8a290>"
      ]
     },
     "metadata": {},
     "output_type": "display_data"
    }
   ],
   "source": [
    "plt.plot(sizes_slow, times_slow)\n",
    "plt.title(\"sum_to_zero() timings\")\n",
    "plt.xlabel(\"input size\")\n",
    "plt.ylabel(\"time (seconds)\")"
   ]
  },
  {
   "cell_type": "code",
   "execution_count": 27,
   "metadata": {
    "collapsed": false
   },
   "outputs": [
    {
     "data": {
      "text/plain": [
       "<matplotlib.text.Text at 0x118b8a350>"
      ]
     },
     "execution_count": 27,
     "metadata": {},
     "output_type": "execute_result"
    },
    {
     "data": {
      "image/png": "[encoded data removed]",
      "text/plain": [
       "<matplotlib.figure.Figure at 0x118bb6a90>"
      ]
     },
     "metadata": {},
     "output_type": "display_data"
    }
   ],
   "source": [
    "plt.plot(sizes_fast, times_fast)\n",
    "plt.title(\"sum_to_zero_fast() timings\")\n",
    "plt.xlabel(\"input size\")\n",
    "plt.ylabel(\"time (seconds)\")"
   ]
  },
  {
   "cell_type": "markdown",
   "metadata": {
    "collapsed": true
   },
   "source": [
    "# Efficiency: substring()"
   ]
  },
  {
   "cell_type": "code",
   "execution_count": 28,
   "metadata": {
    "collapsed": false
   },
   "outputs": [],
   "source": [
    "def rand_string(length):\n",
    "    return \"\".join(random.choice(string.lowercase) for i in xrange(length))\n",
    "\n",
    "words = [rand_string(random.randrange(3, 20)) for i in xrange(10000)]\n",
    "substrings = [rand_string(3) for i in xrange(10000)]"
   ]
  },
  {
   "cell_type": "code",
   "execution_count": 29,
   "metadata": {
    "collapsed": false
   },
   "outputs": [
    {
     "name": "stdout",
     "output_type": "stream",
     "text": [
      "CPU times: user 2.81 s, sys: 24 ms, total: 2.83 s\n",
      "Wall time: 2.82 s\n"
     ]
    }
   ],
   "source": [
    "def substring_old(words, substrings):\n",
    "    '''\n",
    "    INPUT: list, list\n",
    "    OUTPUT: list\n",
    "\n",
    "    Given two lists of strings, return the list of strings from the second list\n",
    "    that are a substring of a string in the first list.\n",
    "\n",
    "    The strings in the substrings list are all 3 characters long.\n",
    "    '''\n",
    "    ret = []\n",
    "    for s in substrings:\n",
    "        for w in words:\n",
    "            if s in w:\n",
    "                ret.append(s)\n",
    "                break\n",
    "    return ret\n",
    "\n",
    "%time ret_old = substring_old(words, substrings)"
   ]
  },
  {
   "cell_type": "code",
   "execution_count": 30,
   "metadata": {
    "collapsed": false
   },
   "outputs": [
    {
     "name": "stdout",
     "output_type": "stream",
     "text": [
      "CPU times: user 72.3 ms, sys: 18.4 ms, total: 90.6 ms\n",
      "Wall time: 77.8 ms\n"
     ]
    }
   ],
   "source": [
    "def substring_new(words, substrings):\n",
    "    '''\n",
    "    INPUT: list, list\n",
    "    OUTPUT: list\n",
    "\n",
    "    Given two lists of strings, return the list of strings from the second list\n",
    "    that are a substring of a string in the first list.\n",
    "\n",
    "    The strings in the substrings list are all 3 characters long.\n",
    "    '''\n",
    "    s = set()\n",
    "    for word in words:\n",
    "        for i in xrange(len(word) - 2):\n",
    "            substr = word[i:i+3]\n",
    "            s.add(substr)\n",
    "    return [substr for substr in substrings if substr in s]\n",
    "\n",
    "%time ret_new = substring_new(words, substrings)"
   ]
  },
  {
   "cell_type": "code",
   "execution_count": 31,
   "metadata": {
    "collapsed": false
   },
   "outputs": [
    {
     "data": {
      "text/plain": [
       "True"
      ]
     },
     "execution_count": 31,
     "metadata": {},
     "output_type": "execute_result"
    }
   ],
   "source": [
    "ret_old == ret_new"
   ]
  },
  {
   "cell_type": "markdown",
   "metadata": {
    "collapsed": true
   },
   "source": [
    "# Sorting!"
   ]
  },
  {
   "cell_type": "code",
   "execution_count": 32,
   "metadata": {
    "collapsed": false
   },
   "outputs": [
    {
     "data": {
      "text/plain": [
       "[0, 1, 2, 2, 3, 4, 6, 8, 12]"
      ]
     },
     "execution_count": 32,
     "metadata": {},
     "output_type": "execute_result"
    }
   ],
   "source": [
    "'''\n",
    "Note:\n",
    "DON'T EVER IMPLEMENT YOUR OWN SORTING FUNCTION! These impls are just for big-O\n",
    "learning purposes. For that reason they implement things ground-up.\n",
    "'''\n",
    "\n",
    "def selection_sort(values):\n",
    "    \n",
    "    for i in xrange(len(values)):\n",
    "        \n",
    "        min_index = i\n",
    "        \n",
    "        for j in xrange(i+1, len(values)):\n",
    "            \n",
    "            if values[j] < values[min_index]:\n",
    "                min_index = j\n",
    "        \n",
    "        values[i], values[min_index] = values[min_index], values[i]  # <-- swap i with min_index\n",
    "\n",
    "    return values\n",
    "\n",
    "selection_sort([4, 12, 6, 3, 2, 8, 2, 0, 1])"
   ]
  },
  {
   "cell_type": "code",
   "execution_count": 33,
   "metadata": {
    "collapsed": false
   },
   "outputs": [
    {
     "data": {
      "text/plain": [
       "[1, 4, 5, 7, 8, 9, 9, 9, 10, 12, 30]"
      ]
     },
     "execution_count": 33,
     "metadata": {},
     "output_type": "execute_result"
    }
   ],
   "source": [
    "def merge(a, b):\n",
    "    '''\n",
    "    Merge two pre-sorted lists: a and b.\n",
    "    Return a merged (still sorted) lists.\n",
    "    '''\n",
    "    \n",
    "    i, j = 0, 0\n",
    "    \n",
    "    res = []\n",
    "    \n",
    "    while i < len(a) and j < len(b):\n",
    "        \n",
    "        if a[i] < b[j]:\n",
    "            res.append(a[i])\n",
    "            i += 1\n",
    "        else:\n",
    "            res.append(b[j])\n",
    "            j += 1\n",
    "            \n",
    "    while i < len(a):\n",
    "        res.append(a[i])\n",
    "        i += 1\n",
    "\n",
    "    while j < len(b):\n",
    "        res.append(b[j])\n",
    "        j += 1\n",
    "        \n",
    "    return res\n",
    "\n",
    "\n",
    "merge([1, 4, 7, 9, 12], [5, 8, 9, 9, 10, 30])"
   ]
  },
  {
   "cell_type": "code",
   "execution_count": 34,
   "metadata": {
    "collapsed": false
   },
   "outputs": [
    {
     "data": {
      "text/plain": [
       "[0, 1, 2, 2, 3, 4, 6, 8, 12]"
      ]
     },
     "execution_count": 34,
     "metadata": {},
     "output_type": "execute_result"
    }
   ],
   "source": [
    "def merge_sort(values):\n",
    "    \n",
    "    if len(values) <= 1:\n",
    "        return values\n",
    "\n",
    "    mid_index = len(values) / 2\n",
    "    \n",
    "    left_sorted_values = merge_sort(values[:mid_index])\n",
    "    right_sorted_values = merge_sort(values[mid_index:])\n",
    "    \n",
    "    return merge(left_sorted_values, right_sorted_values)\n",
    "\n",
    "merge_sort([4, 12, 6, 3, 2, 8, 2, 0, 1])"
   ]
  },
  {
   "cell_type": "code",
   "execution_count": 35,
   "metadata": {
    "collapsed": true
   },
   "outputs": [],
   "source": [
    "def build_input(n):\n",
    "    return [random.randrange(1,10000) for i in xrange(n)]\n",
    "\n",
    "def get_times(samples, func):\n",
    "    t = Timer(lambda: func(samples))\n",
    "    return t.timeit(number=10)\n",
    "\n",
    "sizes_slow = range(10, 2000, 100)\n",
    "times_slow = [get_times(build_input(n), selection_sort) for n in sizes_slow]\n",
    "\n",
    "sizes_fast = range(10, 10000, 1000)\n",
    "times_fast = [get_times(build_input(n), merge_sort) for n in sizes_fast]"
   ]
  },
  {
   "cell_type": "code",
   "execution_count": 36,
   "metadata": {
    "collapsed": false
   },
   "outputs": [
    {
     "data": {
      "text/plain": [
       "<matplotlib.text.Text at 0x1191dc790>"
      ]
     },
     "execution_count": 36,
     "metadata": {},
     "output_type": "execute_result"
    },
    {
     "data": {
      "image/png": "[encoded data removed]",
      "text/plain": [
       "<matplotlib.figure.Figure at 0x1191b7ad0>"
      ]
     },
     "metadata": {},
     "output_type": "display_data"
    }
   ],
   "source": [
    "plt.plot(sizes_slow, times_slow)\n",
    "plt.title(\"selection_sort() timings\")\n",
    "plt.xlabel(\"input size\")\n",
    "plt.ylabel(\"time (seconds)\")"
   ]
  },
  {
   "cell_type": "code",
   "execution_count": 37,
   "metadata": {
    "collapsed": false
   },
   "outputs": [
    {
     "data": {
      "text/plain": [
       "<matplotlib.text.Text at 0x119341b90>"
      ]
     },
     "execution_count": 37,
     "metadata": {},
     "output_type": "execute_result"
    },
    {
     "data": {
      "image/png": "[encoded data removed]",
      "text/plain": [
       "<matplotlib.figure.Figure at 0x1193e0510>"
      ]
     },
     "metadata": {},
     "output_type": "display_data"
    }
   ],
   "source": [
    "plt.plot(sizes_fast, times_fast)\n",
    "plt.title(\"merge_sort() timings\")\n",
    "plt.xlabel(\"input size\")\n",
    "plt.ylabel(\"time (seconds)\")"
   ]
  },
  {
   "cell_type": "code",
   "execution_count": null,
   "metadata": {
    "collapsed": true
   },
   "outputs": [],
   "source": []
  }
 ],
 "metadata": {
  "kernelspec": {
   "display_name": "Python 2",
   "language": "python",
   "name": "python2"
  },
  "language_info": {
   "codemirror_mode": {
    "name": "ipython",
    "version": 2
   },
   "file_extension": ".py",
   "mimetype": "text/x-python",
   "name": "python",
   "nbconvert_exporter": "python",
   "pygments_lexer": "ipython2",
   "version": "2.7.12"
  }
 },
 "nbformat": 4,
 "nbformat_minor": 0
}
