{
 "metadata": {
  "kernelspec": {
   "display_name": "Python 2",
   "language": "python",
   "name": "python2"
  },
  "language_info": {
   "codemirror_mode": {
    "name": "ipython",
    "version": 2
   },
   "file_extension": ".py",
   "mimetype": "text/x-python",
   "name": "python",
   "nbconvert_exporter": "python",
   "pygments_lexer": "ipython2",
   "version": "2.7.13"
  },
  "name": "",
  "signature": "sha256:4163901fbcc52619da50b7a8294c7bbad8261f3d9bcb91227bfb07254031351e"
 },
 "nbformat": 3,
 "nbformat_minor": 0,
 "worksheets": [
  {
   "cells": [
    {
     "cell_type": "markdown",
     "metadata": {},
     "source": [
      "# Using PostgreSQL in Python (with Psycopg2)\n",
      "\n",
      "## Problem: \n",
      "### Your data is in a SQL database, but your machine learning tools are in Python.\n",
      "\n",
      "---------\n",
      "\n",
      "## Solution:\n",
      "### Run SQL queries from Python\n",
      "\n",
      "* Very useful for scaled data pipelines, pre-cleaning, data exploration\n",
      "* Allows for dynamic query generation\n",
      "\n",
      "---------"
     ]
    },
    {
     "cell_type": "markdown",
     "metadata": {},
     "source": [
      "### Psycopg2\n",
      "A library that allows Python to connect to an existing PostgreSQL database to utilize SQL functionality.\n",
      "\n",
      "\n",
      "### Documentation\n",
      "* http://initd.org/psycopg/docs/install.html"
     ]
    },
    {
     "cell_type": "markdown",
     "metadata": {},
     "source": [
      "# Objectives\n",
      "\n",
      "- Learn how to connect to and run Postgres queries from Python\n",
      "- Understand cursors, executes, and commits\n",
      "- Learn how to generate dynamic queries"
     ]
    },
    {
     "cell_type": "code",
     "collapsed": true,
     "input": [
      "# basic usage\n",
      "query = \"SELECT * FROM some_table;\"\n",
      "cursor.execute(query)\n",
      "results = cursor.fetchall()"
     ],
     "language": "python",
     "metadata": {},
     "outputs": [],
     "prompt_number": null
    },
    {
     "cell_type": "heading",
     "level": 1,
     "metadata": {},
     "source": [
      "Creating a connection with Postgres"
     ]
    },
    {
     "cell_type": "heading",
     "level": 3,
     "metadata": {},
     "source": [
      "Import"
     ]
    },
    {
     "cell_type": "code",
     "collapsed": true,
     "input": [
      "import psycopg2 as pg2"
     ],
     "language": "python",
     "metadata": {},
     "outputs": [],
     "prompt_number": 1
    },
    {
     "cell_type": "heading",
     "level": 3,
     "metadata": {},
     "source": [
      "Create connection with Postgres"
     ]
    },
    {
     "cell_type": "code",
     "collapsed": false,
     "input": [
      "conn = pg2.connect(database='postgres', user='tim')"
     ],
     "language": "python",
     "metadata": {},
     "outputs": [],
     "prompt_number": 3
    },
    {
     "cell_type": "markdown",
     "metadata": {},
     "source": [
      "### Retrieve the Cursor\n",
      "\n",
      "* A cursor is a control structure that enables traversal over the records in a database.  You can think of it as an iterator or pointer for Sql data retrieval."
     ]
    },
    {
     "cell_type": "code",
     "collapsed": false,
     "input": [
      "cur = conn.cursor()"
     ],
     "language": "python",
     "metadata": {},
     "outputs": [],
     "prompt_number": 4
    },
    {
     "cell_type": "heading",
     "level": 2,
     "metadata": {},
     "source": [
      "Create a database"
     ]
    },
    {
     "cell_type": "code",
     "collapsed": false,
     "input": [
      "cur.execute('CREATE DATABASE lecture')"
     ],
     "language": "python",
     "metadata": {},
     "outputs": [
      {
       "ename": "InternalError",
       "evalue": "CREATE DATABASE cannot run inside a transaction block\n",
       "output_type": "pyerr",
       "traceback": [
        "\u001b[0;31m---------------------------------------------------------------------------\u001b[0m\n\u001b[0;31mInternalError\u001b[0m                             Traceback (most recent call last)",
        "\u001b[0;32m<ipython-input-5-50f38276ebe0>\u001b[0m in \u001b[0;36m<module>\u001b[0;34m()\u001b[0m\n\u001b[0;32m----> 1\u001b[0;31m \u001b[0mcur\u001b[0m\u001b[0;34m.\u001b[0m\u001b[0mexecute\u001b[0m\u001b[0;34m(\u001b[0m\u001b[0;34m'CREATE DATABASE lecture'\u001b[0m\u001b[0;34m)\u001b[0m\u001b[0;34m\u001b[0m\u001b[0m\n\u001b[0m",
        "\u001b[0;31mInternalError\u001b[0m: CREATE DATABASE cannot run inside a transaction block\n"
       ]
      }
     ],
     "prompt_number": 5
    },
    {
     "cell_type": "markdown",
     "metadata": {},
     "source": [
      "## What happened?!\n",
      "### Normally we execute \"temporary transactions\", but database-wide operations cannot be run temporarily.\n",
      "\n",
      "### Try again:"
     ]
    },
    {
     "cell_type": "code",
     "collapsed": false,
     "input": [
      "conn.close()\n",
      "\n",
      "conn = pg2.connect(dbname='postgres', user='tim')\n",
      "conn.set_session(autocommit=True)  # this is the transaction change\n",
      "\n",
      "cur = conn.cursor()\n",
      "cur.execute('CREATE DATABASE lecture')"
     ],
     "language": "python",
     "metadata": {},
     "outputs": [],
     "prompt_number": 7
    },
    {
     "cell_type": "heading",
     "level": 2,
     "metadata": {},
     "source": [
      "Disconnect from the cursor and database (again)"
     ]
    },
    {
     "cell_type": "code",
     "collapsed": true,
     "input": [
      "cur.close() # optional, closing connection always closes any associated cursors\n",
      "conn.close()"
     ],
     "language": "python",
     "metadata": {},
     "outputs": [],
     "prompt_number": 8
    },
    {
     "cell_type": "heading",
     "level": 2,
     "metadata": {},
     "source": [
      "Let's use our new database"
     ]
    },
    {
     "cell_type": "code",
     "collapsed": false,
     "input": [
      "conn = pg2.connect(dbname='lecture', user='tim')\n",
      "cur = conn.cursor()"
     ],
     "language": "python",
     "metadata": {},
     "outputs": [],
     "prompt_number": 50
    },
    {
     "cell_type": "code",
     "collapsed": false,
     "input": [],
     "language": "python",
     "metadata": {},
     "outputs": [],
     "prompt_number": 50
    },
    {
     "cell_type": "heading",
     "level": 3,
     "metadata": {},
     "source": [
      "Create a new table"
     ]
    },
    {
     "cell_type": "code",
     "collapsed": false,
     "input": [
      "query1 = '''\n",
      "        CREATE TABLE logins (\n",
      "            userid integer\n",
      "            , tmstmp timestamp\n",
      "            , type varchar(10)\n",
      "        );\n",
      "        '''\n",
      "\n"
     ],
     "language": "python",
     "metadata": {},
     "outputs": [],
     "prompt_number": 51
    },
    {
     "cell_type": "code",
     "collapsed": false,
     "input": [
      "cur.execute(query1)"
     ],
     "language": "python",
     "metadata": {},
     "outputs": [],
     "prompt_number": 52
    },
    {
     "cell_type": "heading",
     "level": 3,
     "metadata": {},
     "source": [
      "Insert csv into new table"
     ]
    },
    {
     "cell_type": "code",
     "collapsed": false,
     "input": [
      "query2 = '''\n",
      "        COPY logins \n",
      "        FROM '/home/tim/github/gschool/DSI_Lectures/sql-python/tzeiske/lecture-example/logins01.csv' \n",
      "        DELIMITER ',' \n",
      "        CSV;\n",
      "        '''\n"
     ],
     "language": "python",
     "metadata": {},
     "outputs": [],
     "prompt_number": 53
    },
    {
     "cell_type": "code",
     "collapsed": false,
     "input": [
      "cur.execute(query2)"
     ],
     "language": "python",
     "metadata": {},
     "outputs": [],
     "prompt_number": 54
    },
    {
     "cell_type": "heading",
     "level": 3,
     "metadata": {},
     "source": [
      "Lets take a look at the data"
     ]
    },
    {
     "cell_type": "code",
     "collapsed": true,
     "input": [
      "query3 = '''\n",
      "        SELECT *\n",
      "        FROM logins\n",
      "        LIMIT 20;\n",
      "        '''\n"
     ],
     "language": "python",
     "metadata": {},
     "outputs": [],
     "prompt_number": 24
    },
    {
     "cell_type": "code",
     "collapsed": false,
     "input": [
      "cur.execute(query3)"
     ],
     "language": "python",
     "metadata": {},
     "outputs": [],
     "prompt_number": 25
    },
    {
     "cell_type": "heading",
     "level": 3,
     "metadata": {},
     "source": [
      "One line at a time"
     ]
    },
    {
     "cell_type": "code",
     "collapsed": false,
     "input": [
      "cur.fetchone()"
     ],
     "language": "python",
     "metadata": {},
     "outputs": [
      {
       "metadata": {},
       "output_type": "pyout",
       "prompt_number": 26,
       "text": [
        "(579, datetime.datetime(2013, 11, 20, 3, 20, 6), 'mobile')"
       ]
      }
     ],
     "prompt_number": 26
    },
    {
     "cell_type": "heading",
     "level": 3,
     "metadata": {},
     "source": [
      "Many lines at a time"
     ]
    },
    {
     "cell_type": "code",
     "collapsed": false,
     "input": [
      "cur.fetchmany(1)"
     ],
     "language": "python",
     "metadata": {},
     "outputs": [
      {
       "metadata": {},
       "output_type": "pyout",
       "prompt_number": 35,
       "text": [
        "[]"
       ]
      }
     ],
     "prompt_number": 35
    },
    {
     "cell_type": "heading",
     "level": 3,
     "metadata": {},
     "source": [
      "Or everything at once"
     ]
    },
    {
     "cell_type": "code",
     "collapsed": false,
     "input": [
      "cur.fetchall()"
     ],
     "language": "python",
     "metadata": {},
     "outputs": [
      {
       "metadata": {},
       "output_type": "pyout",
       "prompt_number": 34,
       "text": [
        "[]"
       ]
      }
     ],
     "prompt_number": 34
    },
    {
     "cell_type": "code",
     "collapsed": false,
     "input": [
      "query4 = query3\n",
      "cur.execute(query4)\n",
      "results = cur.fetchall()\n",
      "results1 = cur.fetchone()"
     ],
     "language": "python",
     "metadata": {},
     "outputs": [],
     "prompt_number": 36
    },
    {
     "cell_type": "code",
     "collapsed": false,
     "input": [
      "results"
     ],
     "language": "python",
     "metadata": {},
     "outputs": [
      {
       "metadata": {},
       "output_type": "pyout",
       "prompt_number": 40,
       "text": [
        "[(579, datetime.datetime(2013, 11, 20, 3, 20, 6), 'mobile'),\n",
        " (823, datetime.datetime(2013, 11, 20, 3, 20, 49), 'web'),\n",
        " (953, datetime.datetime(2013, 11, 20, 3, 28, 49), 'web'),\n",
        " (612, datetime.datetime(2013, 11, 20, 3, 36, 55), 'web'),\n",
        " (269, datetime.datetime(2013, 11, 20, 3, 43, 13), 'web'),\n",
        " (799, datetime.datetime(2013, 11, 20, 3, 56, 55), 'web'),\n",
        " (890, datetime.datetime(2013, 11, 20, 4, 2, 33), 'mobile'),\n",
        " (330, datetime.datetime(2013, 11, 20, 4, 54, 59), 'mobile'),\n",
        " (628, datetime.datetime(2013, 11, 20, 4, 57, 22), 'mobile'),\n",
        " (398, datetime.datetime(2013, 11, 20, 5, 3, 19), 'mobile'),\n",
        " (482, datetime.datetime(2013, 11, 20, 5, 4, 43), 'mobile'),\n",
        " (581, datetime.datetime(2013, 11, 20, 5, 12, 3), 'mobile'),\n",
        " (370, datetime.datetime(2013, 11, 20, 5, 26, 46), 'mobile'),\n",
        " (230, datetime.datetime(2013, 11, 20, 5, 28, 29), 'web'),\n",
        " (596, datetime.datetime(2013, 11, 20, 5, 28, 36), 'web'),\n",
        " (274, datetime.datetime(2013, 11, 20, 5, 43, 8), 'mobile'),\n",
        " (581, datetime.datetime(2013, 11, 20, 5, 47, 10), 'web'),\n",
        " (417, datetime.datetime(2013, 11, 20, 5, 54, 37), 'mobile'),\n",
        " (185, datetime.datetime(2013, 11, 20, 5, 56, 22), 'mobile'),\n",
        " (371, datetime.datetime(2013, 11, 20, 5, 58, 35), 'mobile')]"
       ]
      }
     ],
     "prompt_number": 40
    },
    {
     "cell_type": "code",
     "collapsed": false,
     "input": [
      "results1\n",
      "#all \"used\" by fetchall"
     ],
     "language": "python",
     "metadata": {},
     "outputs": [],
     "prompt_number": 41
    },
    {
     "cell_type": "code",
     "collapsed": false,
     "input": [
      "cur.execute('SELECT Count(*) FROM logins')\n",
      "cur.fetchall()"
     ],
     "language": "python",
     "metadata": {},
     "outputs": [
      {
       "metadata": {},
       "output_type": "pyout",
       "prompt_number": 56,
       "text": [
        "[(10000L,)]"
       ]
      }
     ],
     "prompt_number": 56
    },
    {
     "cell_type": "markdown",
     "metadata": {},
     "source": [
      "# Dynamic Queries\n",
      "\n",
      "We have 8 login csv files that we need to insert into the logins table.  Instead of doing a COPY FROM query 8 times, we should utilize Python to make this more efficient.  This is possible due to tokenized strings."
     ]
    },
    {
     "cell_type": "code",
     "collapsed": true,
     "input": [
      "# os is needed because we want to dynamically identify the files \n",
      "# we need to insert.\n",
      "import os"
     ],
     "language": "python",
     "metadata": {},
     "outputs": [],
     "prompt_number": 62
    },
    {
     "cell_type": "code",
     "collapsed": false,
     "input": [
      "query4 = '''\n",
      "        COPY logins \n",
      "        FROM %(file_path)s\n",
      "        DELIMITER ',' \n",
      "        CSV;\n",
      "        '''\n",
      "\n",
      "folder_path = '/home/tim/github/gschool/DSI_Lectures/sql-python/tzeiske/lecture-example'\n"
     ],
     "language": "python",
     "metadata": {},
     "outputs": [],
     "prompt_number": 63
    },
    {
     "cell_type": "code",
     "collapsed": false,
     "input": [
      "fnames = os.listdir(folder_path)\n",
      "\n",
      "for fname in fnames:\n",
      "    path = os.path.join(folder_path, fname)\n",
      "    cur.execute(query4, {'file_path': path})"
     ],
     "language": "python",
     "metadata": {},
     "outputs": [],
     "prompt_number": 64
    },
    {
     "cell_type": "code",
     "collapsed": false,
     "input": [
      "conn.commit()\n",
      "cur.execute('SELECT Count(*) FROM logins')\n",
      "cur.fetchall()"
     ],
     "language": "python",
     "metadata": {},
     "outputs": [
      {
       "metadata": {},
       "output_type": "pyout",
       "prompt_number": 66,
       "text": [
        "[(167176L,)]"
       ]
      }
     ],
     "prompt_number": 66
    },
    {
     "cell_type": "markdown",
     "metadata": {
      "collapsed": true
     },
     "source": [
      "# WARNING: BEWARE OF SQL INJECTION\n",
      "\n",
      "## NEVER use + or % to reformat strings to be used with .execute"
     ]
    },
    {
     "cell_type": "code",
     "collapsed": false,
     "input": [
      "num = '579; DROP TABLE logins;'\n",
      "terribly_unsafe = \"SELECT * FROM logins WHERE userid = \" + num\n",
      "print terribly_unsafe\n",
      "\n",
      "\n",
      "date_cut = \"2014-08-01\"\n",
      "horribly_risky = \"SELECT * FROM logins WHERE tmstmp > %s\" % date_cut\n",
      "print horribly_risky\n",
      "## Python is happy, but if num or date_cut included something malicious\n",
      "## your data could be at risk"
     ],
     "language": "python",
     "metadata": {},
     "outputs": [
      {
       "output_type": "stream",
       "stream": "stdout",
       "text": [
        "SELECT * FROM logins WHERE userid = 579; DROP TABLE logins;\n",
        "SELECT * FROM logins WHERE tmstmp > 2014-08-01\n"
       ]
      }
     ],
     "prompt_number": 71
    },
    {
     "cell_type": "code",
     "collapsed": false,
     "input": [
      "cur.execute(terribly_unsafe)"
     ],
     "language": "python",
     "metadata": {},
     "outputs": [],
     "prompt_number": 68
    },
    {
     "cell_type": "code",
     "collapsed": false,
     "input": [
      "cur.fetchall()"
     ],
     "language": "python",
     "metadata": {},
     "outputs": [
      {
       "ename": "ProgrammingError",
       "evalue": "no results to fetch",
       "output_type": "pyerr",
       "traceback": [
        "\u001b[0;31m---------------------------------------------------------------------------\u001b[0m\n\u001b[0;31mProgrammingError\u001b[0m                          Traceback (most recent call last)",
        "\u001b[0;32m<ipython-input-69-1bb1ba5db099>\u001b[0m in \u001b[0;36m<module>\u001b[0;34m()\u001b[0m\n\u001b[0;32m----> 1\u001b[0;31m \u001b[0mcur\u001b[0m\u001b[0;34m.\u001b[0m\u001b[0mfetchall\u001b[0m\u001b[0;34m(\u001b[0m\u001b[0;34m)\u001b[0m\u001b[0;34m\u001b[0m\u001b[0m\n\u001b[0m",
        "\u001b[0;31mProgrammingError\u001b[0m: no results to fetch"
       ]
      }
     ],
     "prompt_number": 69
    },
    {
     "cell_type": "raw",
     "metadata": {},
     "source": [
      "### Don't forget to commit your changes"
     ]
    },
    {
     "cell_type": "code",
     "collapsed": false,
     "input": [
      "conn.commit()"
     ],
     "language": "python",
     "metadata": {},
     "outputs": [],
     "prompt_number": 70
    },
    {
     "cell_type": "heading",
     "level": 2,
     "metadata": {},
     "source": [
      "And then close your connection"
     ]
    },
    {
     "cell_type": "code",
     "collapsed": true,
     "input": [
      "cur.close()\n",
      "conn.close()"
     ],
     "language": "python",
     "metadata": {},
     "outputs": [],
     "prompt_number": 36
    },
    {
     "cell_type": "markdown",
     "metadata": {},
     "source": [
      "# Key Things to Know\n",
      "\n",
      "* Connections must be established using an existing database, username, database IP/URL, and maybe passwords\n",
      "* If you have no existing databases, you can connect to Postgres using the dbname 'postgres' to initialize one\n",
      "* Data changes are not actually stored until you choose to commit. This can be done either through commit() or setting autocommit = True.  Until commited, transactions are only stored temporarily\n",
      "    - Autocommit = True is necessary to do database commands like CREATE DATABASE.  This is because Postgres does not have temporary transactions at the database level.\n",
      "    - Use .rollback() on the connection if your .execute() command results in an error. (Only works if change has not yet been committed) \n",
      "* SQL connection databases utilize cursors for data traversal and retrieval.  This is kind of like an iterator in Python.\n",
      "* Cursor operations typically go like the following:\n",
      "    - execute a query\n",
      "    - fetch rows from query result if it is a SELECT query\n",
      "    - because it is iterative, previously fetched rows can only be fetched again by rerunning the query\n",
      "    - close cursor through .close()\n",
      "* Cursors and Connections must be closed using .close() or else Postgres will lock certain operations on the database/tables until the connection is severed. \n"
     ]
    },
    {
     "cell_type": "markdown",
     "metadata": {
      "collapsed": true
     },
     "source": [
      "## And don't leave yourself vulnerable to SQL injection!\n",
      "http://xkcd.com/327/"
     ]
    },
    {
     "cell_type": "code",
     "collapsed": true,
     "input": [],
     "language": "python",
     "metadata": {},
     "outputs": [],
     "prompt_number": null
    }
   ],
   "metadata": {}
  }
 ]
}