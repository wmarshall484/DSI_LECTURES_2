{
 "cells": [
  {
   "cell_type": "markdown",
   "metadata": {},
   "source": [
    "# Using PostgreSQL in Python (Psycopg2) to build data pipelines\n",
    "\n",
    "### What is Psycopg2?\n",
    "A library that allows Python to connect to an existing Postgres database to utilize SQL functionality.\n",
    "\n",
    "### Why\n",
    "- Very useful for scaled data pipelines, pre-cleaning, data exploration\n",
    "- Allows for dynamic query generation\n",
    "\n",
    "### Documentation\n",
    "* http://initd.org/psycopg/docs/install.html"
   ]
  },
  {
   "cell_type": "markdown",
   "metadata": {},
   "source": [
    "# Objectives\n",
    "\n",
    "- Learn how to connect to and run Postgres queries from Python\n",
    "- Understand cursors, executes, and commits\n",
    "- Learn how to generate dynamic queries"
   ]
  },
  {
   "cell_type": "markdown",
   "metadata": {},
   "source": [
    "# Key Things to Know\n",
    "\n",
    "* Connections must be established using an existing database, username, database IP/URL, and maybe passwords\n",
    "* If you have no existing databases, you can connect to Postgres using the dbname 'postgres' to initialize one\n",
    "* Data changes are not actually stored until you choose to commit. This can be done either through commit() or setting autocommit = True.  Until commited, transactions are only stored temporarily\n",
    "    - Autocommit = True is necessary to do database commands like CREATE DATABASE.  This is because Postgres does not have temporary transactions at the database level.\n",
    "* SQL connection databases utilize cursors for data traversal and retrieval.  This is kind of like an iterator in Python.\n",
    "* Cursor operations typically go like the following:\n",
    "    - execute a query\n",
    "    - fetch rows from query result if it is a SELECT query\n",
    "    - because it is iterative, previously fetched rows can only be fetched again by rerunning the query\n",
    "    - close cursor through .close()\n",
    "* Cursors and Connections must be closed using .close() or else Postgres will lock certain operations on the database/tables until the connection is severed. \n"
   ]
  },
  {
   "cell_type": "markdown",
   "metadata": {},
   "source": [
    "# Installation"
   ]
  },
  {
   "cell_type": "code",
   "execution_count": null,
   "metadata": {
    "collapsed": false
   },
   "outputs": [],
   "source": [
    "!conda install psycopg2"
   ]
  },
  {
   "cell_type": "markdown",
   "metadata": {},
   "source": [
    "# Creating a connection with Postgres"
   ]
  },
  {
   "cell_type": "markdown",
   "metadata": {},
   "source": [
    "### Import"
   ]
  },
  {
   "cell_type": "code",
   "execution_count": 8,
   "metadata": {
    "collapsed": true
   },
   "outputs": [],
   "source": [
    "import psycopg2 as pg2"
   ]
  },
  {
   "cell_type": "markdown",
   "metadata": {},
   "source": [
    "### Create connection with Postgres"
   ]
  },
  {
   "cell_type": "code",
   "execution_count": 17,
   "metadata": {
    "collapsed": false
   },
   "outputs": [],
   "source": [
    "conn = pg2.connect(database='postgres', user='brad')"
   ]
  },
  {
   "cell_type": "markdown",
   "metadata": {},
   "source": [
    "### Retrieve the Cursor\n",
    "\n",
    "* A cursor is a control structure that enables traversal over the records in a database.  You can think of it as an iterator or pointer for Sql data retrieval."
   ]
  },
  {
   "cell_type": "code",
   "execution_count": 18,
   "metadata": {
    "collapsed": false
   },
   "outputs": [],
   "source": [
    "conn.set_session(autocommit=True)\n",
    "cur = conn.cursor()"
   ]
  },
  {
   "cell_type": "markdown",
   "metadata": {},
   "source": [
    "## Create a database"
   ]
  },
  {
   "cell_type": "code",
   "execution_count": 19,
   "metadata": {
    "collapsed": false
   },
   "outputs": [],
   "source": [
    "cur.execute('CREATE DATABASE lecture')\n"
   ]
  },
  {
   "cell_type": "markdown",
   "metadata": {},
   "source": [
    "## Disconnect from the cursor and database"
   ]
  },
  {
   "cell_type": "code",
   "execution_count": 20,
   "metadata": {
    "collapsed": true
   },
   "outputs": [],
   "source": [
    "cur.close()\n",
    "conn.close()"
   ]
  },
  {
   "cell_type": "markdown",
   "metadata": {},
   "source": [
    "## Let's use our new database"
   ]
  },
  {
   "cell_type": "code",
   "execution_count": 21,
   "metadata": {
    "collapsed": false
   },
   "outputs": [],
   "source": [
    "conn = pg2.connect(database='lecture', user='brad')"
   ]
  },
  {
   "cell_type": "code",
   "execution_count": 22,
   "metadata": {
    "collapsed": false
   },
   "outputs": [],
   "source": [
    "cur = conn.cursor()"
   ]
  },
  {
   "cell_type": "markdown",
   "metadata": {},
   "source": [
    "### Create a new table"
   ]
  },
  {
   "cell_type": "code",
   "execution_count": 23,
   "metadata": {
    "collapsed": false
   },
   "outputs": [],
   "source": [
    "query1 = '''\n",
    "        CREATE TABLE logins (\n",
    "            userid integer\n",
    "            , tmstmp timestamp\n",
    "            , type varchar(10)\n",
    "        );\n",
    "        '''\n",
    "\n"
   ]
  },
  {
   "cell_type": "code",
   "execution_count": 24,
   "metadata": {
    "collapsed": true
   },
   "outputs": [],
   "source": [
    "cur.execute(query1)"
   ]
  },
  {
   "cell_type": "markdown",
   "metadata": {
    "collapsed": false
   },
   "source": [
    "### Insert csv into new table"
   ]
  },
  {
   "cell_type": "code",
   "execution_count": 25,
   "metadata": {
    "collapsed": false
   },
   "outputs": [],
   "source": [
    "query2 = '''\n",
    "        COPY logins \n",
    "        FROM '/Users/brad/Dropbox/Galvanize/sql-python/mh-lecture/data/logins01.csv' \n",
    "        DELIMITER ',' \n",
    "        CSV;\n",
    "        '''\n"
   ]
  },
  {
   "cell_type": "code",
   "execution_count": 26,
   "metadata": {
    "collapsed": true
   },
   "outputs": [],
   "source": [
    "cur.execute(query2)"
   ]
  },
  {
   "cell_type": "markdown",
   "metadata": {},
   "source": [
    "### Lets take a look at the data"
   ]
  },
  {
   "cell_type": "code",
   "execution_count": 27,
   "metadata": {
    "collapsed": true
   },
   "outputs": [],
   "source": [
    "query3 = '''\n",
    "        SELECT *\n",
    "        FROM logins\n",
    "        LIMIT 20;\n",
    "        '''\n"
   ]
  },
  {
   "cell_type": "code",
   "execution_count": 29,
   "metadata": {
    "collapsed": false
   },
   "outputs": [],
   "source": [
    "cur.execute(query3)"
   ]
  },
  {
   "cell_type": "markdown",
   "metadata": {},
   "source": [
    "### One line at a time"
   ]
  },
  {
   "cell_type": "code",
   "execution_count": 30,
   "metadata": {
    "collapsed": false
   },
   "outputs": [
    {
     "data": {
      "text/plain": [
       "(579, datetime.datetime(2013, 11, 20, 3, 20, 6), 'mobile')"
      ]
     },
     "execution_count": 30,
     "metadata": {},
     "output_type": "execute_result"
    }
   ],
   "source": [
    "cur.fetchone()"
   ]
  },
  {
   "cell_type": "markdown",
   "metadata": {},
   "source": [
    "### Many lines at a time"
   ]
  },
  {
   "cell_type": "code",
   "execution_count": 31,
   "metadata": {
    "collapsed": false
   },
   "outputs": [
    {
     "data": {
      "text/plain": [
       "[(823, datetime.datetime(2013, 11, 20, 3, 20, 49), 'web'),\n",
       " (953, datetime.datetime(2013, 11, 20, 3, 28, 49), 'web'),\n",
       " (612, datetime.datetime(2013, 11, 20, 3, 36, 55), 'web'),\n",
       " (269, datetime.datetime(2013, 11, 20, 3, 43, 13), 'web'),\n",
       " (799, datetime.datetime(2013, 11, 20, 3, 56, 55), 'web')]"
      ]
     },
     "execution_count": 31,
     "metadata": {},
     "output_type": "execute_result"
    }
   ],
   "source": [
    "cur.fetchmany(5)"
   ]
  },
  {
   "cell_type": "markdown",
   "metadata": {},
   "source": [
    "### Or everything at once"
   ]
  },
  {
   "cell_type": "code",
   "execution_count": 34,
   "metadata": {
    "collapsed": false
   },
   "outputs": [],
   "source": [
    "cur.execute('SELECT Count(*) FROM logins')"
   ]
  },
  {
   "cell_type": "code",
   "execution_count": 35,
   "metadata": {
    "collapsed": false
   },
   "outputs": [
    {
     "data": {
      "text/plain": [
       "[(10000L,)]"
      ]
     },
     "execution_count": 35,
     "metadata": {},
     "output_type": "execute_result"
    }
   ],
   "source": [
    "cur.fetchall()"
   ]
  },
  {
   "cell_type": "markdown",
   "metadata": {},
   "source": [
    "# Dynamic Queries\n",
    "\n",
    "We have 8 login csv files that we need to insert into the logins table.  Instead of doing a COPY FROM query 8 times, we should utilize Python to make this more efficient.  This is possible due to tokenized strings."
   ]
  },
  {
   "cell_type": "code",
   "execution_count": 36,
   "metadata": {
    "collapsed": true
   },
   "outputs": [],
   "source": [
    "# os is needed because we want to dynamically identify the files \n",
    "# we need to insert.\n",
    "import os"
   ]
  },
  {
   "cell_type": "code",
   "execution_count": 37,
   "metadata": {
    "collapsed": false
   },
   "outputs": [],
   "source": [
    "query4 = '''\n",
    "        COPY %(table_name)s \n",
    "        FROM %(file_path)s\n",
    "        DELIMITER ',' \n",
    "        CSV;\n",
    "        '''\n",
    "\n",
    "folder_path = '/Users/brad/Dropbox/Galvanize/sql-python/mh-lecture/data/'"
   ]
  },
  {
   "cell_type": "code",
   "execution_count": 39,
   "metadata": {
    "collapsed": false
   },
   "outputs": [],
   "source": [
    "fnames = os.listdir(folder_path)\n",
    "\n",
    "for fname in fnames:\n",
    "    path = os.path.join(folder_path, fname)\n",
    "    cur.execute(query4, {'file_path': path, 'table_name': 'logins'})\n",
    "\n"
   ]
  },
  {
   "cell_type": "markdown",
   "metadata": {
    "collapsed": true
   },
   "source": [
    "# WARNING: BEWARE OF SQL INJECTION\n",
    "\n",
    "## NEVER use + or % to reformat strings to be used with .execute"
   ]
  },
  {
   "cell_type": "code",
   "execution_count": 91,
   "metadata": {
    "collapsed": false
   },
   "outputs": [
    {
     "name": "stdout",
     "output_type": "stream",
     "text": [
      "SELECT * FROM logins WHERE userid = 579\n",
      "SELECT * FROM logins WHERE tmstmp > 2014-08-01\n"
     ]
    }
   ],
   "source": [
    "num = 579\n",
    "terribly_unsafe = \"SELECT * FROM logins WHERE userid = \" + str(num)\n",
    "print terribly_unsafe\n",
    "\n",
    "\n",
    "date_cut = \"2014-08-01\"\n",
    "horribly_risky = \"SELECT * FROM logins WHERE tmstmp > %s\" % date_cut\n",
    "print horribly_risky\n",
    "## Python is happy, but if num or date_cut included something malicious\n",
    "## your data could be at risk"
   ]
  },
  {
   "cell_type": "markdown",
   "metadata": {},
   "source": [
    "### Don't forget to commit your changes"
   ]
  },
  {
   "cell_type": "code",
   "execution_count": null,
   "metadata": {
    "collapsed": false
   },
   "outputs": [],
   "source": [
    "cur.commit()"
   ]
  },
  {
   "cell_type": "markdown",
   "metadata": {},
   "source": [
    "## And then close your connection"
   ]
  },
  {
   "cell_type": "code",
   "execution_count": 45,
   "metadata": {
    "collapsed": true
   },
   "outputs": [],
   "source": [
    "cur.close()\n",
    "conn.close()\n"
   ]
  },
  {
   "cell_type": "markdown",
   "metadata": {
    "collapsed": true
   },
   "source": [
    "## And don't leave yourself vulnerable to SQL injection!\n",
    "http://xkcd.com/327/"
   ]
  },
  {
   "cell_type": "code",
   "execution_count": null,
   "metadata": {
    "collapsed": true
   },
   "outputs": [],
   "source": []
  }
 ],
 "metadata": {
  "kernelspec": {
   "display_name": "Python 2",
   "language": "python",
   "name": "python2"
  },
  "language_info": {
   "codemirror_mode": {
    "name": "ipython",
    "version": 2
   },
   "file_extension": ".py",
   "mimetype": "text/x-python",
   "name": "python",
   "nbconvert_exporter": "python",
   "pygments_lexer": "ipython2",
   "version": "2.7.10"
  }
 },
 "nbformat": 4,
 "nbformat_minor": 0
}
