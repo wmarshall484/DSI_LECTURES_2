{
 "cells": [
  {
   "cell_type": "markdown",
   "metadata": {},
   "source": [
    "# Using PostgreSQL in Python (with Psycopg2)\n",
    "\n",
    "## Problem: \n",
    "### Your data is in a SQL database, but your machine learning tools are in Python.\n",
    "\n",
    "---------\n",
    "\n",
    "## Solution:\n",
    "### Run SQL queries from Python\n",
    "\n",
    "* Very useful for scaled data pipelines, pre-cleaning, data exploration\n",
    "* Allows for dynamic query generation\n",
    "\n",
    "---------"
   ]
  },
  {
   "cell_type": "markdown",
   "metadata": {},
   "source": [
    "### Psycopg2\n",
    "A library that allows Python to connect to an existing PostgreSQL database to utilize SQL functionality.\n",
    "\n",
    "\n",
    "### Documentation\n",
    "* http://initd.org/psycopg/docs/install.html"
   ]
  },
  {
   "cell_type": "markdown",
   "metadata": {},
   "source": [
    "# Objectives\n",
    "\n",
    "- Learn how to connect to and run Postgres queries from Python\n",
    "- Understand cursors, executes, and commits\n",
    "- Learn how to generate dynamic queries"
   ]
  },
  {
   "cell_type": "code",
   "execution_count": null,
   "metadata": {
    "collapsed": true
   },
   "outputs": [],
   "source": [
    "# basic usage\n",
    "query = \"SELECT * FROM some_table;\"\n",
    "cursor.execute(query)\n",
    "results = cursor.fetchall()"
   ]
  },
  {
   "cell_type": "markdown",
   "metadata": {},
   "source": [
    "# Creating a connection with Postgres"
   ]
  },
  {
   "cell_type": "markdown",
   "metadata": {},
   "source": [
    "### Import"
   ]
  },
  {
   "cell_type": "code",
   "execution_count": 1,
   "metadata": {
    "collapsed": true
   },
   "outputs": [],
   "source": []
  },
  {
   "cell_type": "markdown",
   "metadata": {},
   "source": [
    "### Create connection with Postgres"
   ]
  },
  {
   "cell_type": "code",
   "execution_count": 2,
   "metadata": {
    "collapsed": false
   },
   "outputs": [],
   "source": []
  },
  {
   "cell_type": "markdown",
   "metadata": {},
   "source": [
    "### Retrieve the Cursor\n",
    "\n",
    "* A cursor is a control structure that enables traversal over the records in a database.  You can think of it as an iterator or pointer for Sql data retrieval."
   ]
  },
  {
   "cell_type": "code",
   "execution_count": 3,
   "metadata": {
    "collapsed": false
   },
   "outputs": [],
   "source": []
  },
  {
   "cell_type": "markdown",
   "metadata": {},
   "source": [
    "## Create a database"
   ]
  },
  {
   "cell_type": "code",
   "execution_count": null,
   "metadata": {
    "collapsed": false
   },
   "outputs": [],
   "source": []
  },
  {
   "cell_type": "markdown",
   "metadata": {},
   "source": [
    "## What happened?!\n",
    "### Normally we execute \"temporary transactions\", but database-wide operations cannot be run temporarily.\n",
    "\n",
    "### Try again:"
   ]
  },
  {
   "cell_type": "code",
   "execution_count": 6,
   "metadata": {
    "collapsed": true
   },
   "outputs": [],
   "source": []
  },
  {
   "cell_type": "markdown",
   "metadata": {},
   "source": [
    "## Disconnect from the cursor and database (again)"
   ]
  },
  {
   "cell_type": "code",
   "execution_count": 7,
   "metadata": {
    "collapsed": true
   },
   "outputs": [],
   "source": []
  },
  {
   "cell_type": "markdown",
   "metadata": {},
   "source": [
    "## Let's use our new database"
   ]
  },
  {
   "cell_type": "code",
   "execution_count": 53,
   "metadata": {
    "collapsed": false
   },
   "outputs": [],
   "source": []
  },
  {
   "cell_type": "code",
   "execution_count": 54,
   "metadata": {
    "collapsed": false
   },
   "outputs": [],
   "source": []
  },
  {
   "cell_type": "markdown",
   "metadata": {},
   "source": [
    "### Create a new table"
   ]
  },
  {
   "cell_type": "code",
   "execution_count": 55,
   "metadata": {
    "collapsed": false
   },
   "outputs": [],
   "source": [
    "query1 = '''\n",
    "        CREATE TABLE logins (\n",
    "            userid integer\n",
    "            , tmstmp timestamp\n",
    "            , type varchar(10)\n",
    "        );\n",
    "        '''\n",
    "\n"
   ]
  },
  {
   "cell_type": "code",
   "execution_count": 56,
   "metadata": {
    "collapsed": false
   },
   "outputs": [],
   "source": []
  },
  {
   "cell_type": "markdown",
   "metadata": {
    "collapsed": false
   },
   "source": [
    "### Insert csv into new table"
   ]
  },
  {
   "cell_type": "code",
   "execution_count": 57,
   "metadata": {
    "collapsed": false
   },
   "outputs": [],
   "source": [
    "query2 = '''\n",
    "        COPY logins \n",
    "        FROM '/Users/brad/Dropbox/Galvanize/sql-python/data/lecture-example/logins01.csv' \n",
    "        DELIMITER ',' \n",
    "        CSV;\n",
    "        '''\n"
   ]
  },
  {
   "cell_type": "code",
   "execution_count": 58,
   "metadata": {
    "collapsed": false
   },
   "outputs": [],
   "source": []
  },
  {
   "cell_type": "markdown",
   "metadata": {},
   "source": [
    "### Lets take a look at the data"
   ]
  },
  {
   "cell_type": "code",
   "execution_count": 59,
   "metadata": {
    "collapsed": true
   },
   "outputs": [],
   "source": [
    "query3 = '''\n",
    "        SELECT *\n",
    "        FROM logins\n",
    "        LIMIT 20;\n",
    "        '''\n"
   ]
  },
  {
   "cell_type": "code",
   "execution_count": 60,
   "metadata": {
    "collapsed": false
   },
   "outputs": [],
   "source": []
  },
  {
   "cell_type": "markdown",
   "metadata": {},
   "source": [
    "### One line at a time"
   ]
  },
  {
   "cell_type": "code",
   "execution_count": null,
   "metadata": {
    "collapsed": false
   },
   "outputs": [],
   "source": []
  },
  {
   "cell_type": "markdown",
   "metadata": {},
   "source": [
    "### Many lines at a time"
   ]
  },
  {
   "cell_type": "code",
   "execution_count": null,
   "metadata": {
    "collapsed": false
   },
   "outputs": [],
   "source": []
  },
  {
   "cell_type": "markdown",
   "metadata": {},
   "source": [
    "### Or everything at once"
   ]
  },
  {
   "cell_type": "code",
   "execution_count": null,
   "metadata": {
    "collapsed": false
   },
   "outputs": [],
   "source": []
  },
  {
   "cell_type": "code",
   "execution_count": 64,
   "metadata": {
    "collapsed": false
   },
   "outputs": [],
   "source": []
  },
  {
   "cell_type": "code",
   "execution_count": null,
   "metadata": {
    "collapsed": false
   },
   "outputs": [],
   "source": []
  },
  {
   "cell_type": "markdown",
   "metadata": {},
   "source": [
    "# Dynamic Queries\n",
    "\n",
    "We have 8 login csv files that we need to insert into the logins table.  Instead of doing a COPY FROM query 8 times, we should utilize Python to make this more efficient.  This is possible due to tokenized strings."
   ]
  },
  {
   "cell_type": "code",
   "execution_count": 47,
   "metadata": {
    "collapsed": true
   },
   "outputs": [],
   "source": [
    "# os is needed because we want to dynamically identify the files \n",
    "# we need to insert.\n",
    "import os"
   ]
  },
  {
   "cell_type": "code",
   "execution_count": 48,
   "metadata": {
    "collapsed": false
   },
   "outputs": [],
   "source": [
    "query4 = '''\n",
    "        COPY logins \n",
    "        FROM %(file_path)s\n",
    "        DELIMITER ',' \n",
    "        CSV;\n",
    "        '''\n",
    "\n",
    "folder_path = '/Users/brad/Dropbox/Galvanize/sql-python/data/lecture-example/'\n"
   ]
  },
  {
   "cell_type": "code",
   "execution_count": 49,
   "metadata": {
    "collapsed": false
   },
   "outputs": [],
   "source": []
  },
  {
   "cell_type": "markdown",
   "metadata": {
    "collapsed": true
   },
   "source": [
    "# WARNING: BEWARE OF SQL INJECTION\n",
    "\n",
    "## NEVER use + or % to reformat strings to be used with .execute"
   ]
  },
  {
   "cell_type": "code",
   "execution_count": 66,
   "metadata": {
    "collapsed": false
   },
   "outputs": [
    {
     "name": "stdout",
     "output_type": "stream",
     "text": [
      "SELECT * FROM logins WHERE userid = 579\n",
      "SELECT * FROM logins WHERE tmstmp > 2014-08-01\n"
     ]
    }
   ],
   "source": [
    "num = 579\n",
    "terribly_unsafe = \"SELECT * FROM logins WHERE userid = \" + str(num)\n",
    "print terribly_unsafe\n",
    "\n",
    "\n",
    "date_cut = \"2014-08-01\"\n",
    "horribly_risky = \"SELECT * FROM logins WHERE tmstmp > %s\" % date_cut\n",
    "print horribly_risky\n",
    "## Python is happy, but if num or date_cut included something malicious\n",
    "## your data could be at risk"
   ]
  },
  {
   "cell_type": "markdown",
   "metadata": {},
   "source": [
    "### Don't forget to commit your changes"
   ]
  },
  {
   "cell_type": "code",
   "execution_count": null,
   "metadata": {
    "collapsed": false
   },
   "outputs": [],
   "source": []
  },
  {
   "cell_type": "markdown",
   "metadata": {},
   "source": [
    "## And then close your connection"
   ]
  },
  {
   "cell_type": "code",
   "execution_count": 52,
   "metadata": {
    "collapsed": true
   },
   "outputs": [],
   "source": []
  },
  {
   "cell_type": "markdown",
   "metadata": {},
   "source": [
    "# Key Things to Know\n",
    "\n",
    "* Connections must be established using an existing database, username, database IP/URL, and maybe passwords\n",
    "* If you have no existing databases, you can connect to Postgres using the dbname 'postgres' to initialize one\n",
    "* Data changes are not actually stored until you choose to commit. This can be done either through commit() or setting autocommit = True.  Until commited, transactions are only stored temporarily\n",
    "    - Autocommit = True is necessary to do database commands like CREATE DATABASE.  This is because Postgres does not have temporary transactions at the database level.\n",
    "    - Use .rollback() on the connection if your .execute() command results in an error. (Only works if change has not yet been committed) \n",
    "* SQL connection databases utilize cursors for data traversal and retrieval.  This is kind of like an iterator in Python.\n",
    "* Cursor operations typically go like the following:\n",
    "    - execute a query\n",
    "    - fetch rows from query result if it is a SELECT query\n",
    "    - because it is iterative, previously fetched rows can only be fetched again by rerunning the query\n",
    "    - close cursor through .close()\n",
    "* Cursors and Connections must be closed using .close() or else Postgres will lock certain operations on the database/tables until the connection is severed. \n"
   ]
  },
  {
   "cell_type": "markdown",
   "metadata": {
    "collapsed": true
   },
   "source": [
    "## And don't leave yourself vulnerable to SQL injection!\n",
    "http://xkcd.com/327/"
   ]
  },
  {
   "cell_type": "code",
   "execution_count": null,
   "metadata": {
    "collapsed": true
   },
   "outputs": [],
   "source": []
  }
 ],
 "metadata": {
  "kernelspec": {
   "display_name": "Python 2",
   "language": "python",
   "name": "python2"
  },
  "language_info": {
   "codemirror_mode": {
    "name": "ipython",
    "version": 2
   },
   "file_extension": ".py",
   "mimetype": "text/x-python",
   "name": "python",
   "nbconvert_exporter": "python",
   "pygments_lexer": "ipython2",
   "version": "2.7.10"
  }
 },
 "nbformat": 4,
 "nbformat_minor": 0
}
