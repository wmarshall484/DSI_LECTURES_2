{
 "cells": [
  {
   "cell_type": "markdown",
   "metadata": {},
   "source": [
    "# SQL/Python\n",
    "\n",
    "# Motivation:  What if your data is in a SQL database, but your machine learning is built in Python?\n",
    "\n",
    "## Objectives\n",
    "\n",
    "- Learn how to connect to and run PostgreSQL queries from Python\n",
    "- Understand psycopg2's cursors, executes, and commits\n",
    "- Learn how to generate dynamic queries through string formatting\n",
    "\n",
    "## Combining SQL and Python\n",
    "\n",
    "Often you will find yourself working with data that are only accessible through SQL.  However, your machine learning capabilities are built in Python.  To resolve this issue, we can simply set up a connection from Python to the SQL database to bring the data to us.\n",
    "\n",
    "## Why do we care?\n",
    "\n",
    "- SQL based databases are extremely common in almost all industry environments\n",
    "- Can leverage the benefit of SQL's structure and scalability, while maintaining the flexibility of Python\n",
    "- Very useful for scaled data pipelines, pre-cleaning, data exploration\n",
    "- Allows for dynamic query generation and hence automation\n",
    "\n",
    "## psycopg2\n",
    "\n",
    "- A Python library that allows for connections with PostgresSQL databases to easily query and retrieve data for analysis\n",
    "- [Documentation - Includes Installation Instructions](http://initd.org/psycopg/docs/install.html)\n",
    "- In addition to what's listed in the documentation, if you have the Anaconda distribution of Python:\n",
    "\n",
    "```python \n",
    "conda install psycopg2 \n",
    "```\n",
    "\n",
    "(worked for me)\n",
    "\n",
    "- There are similar packages for other flavors of SQL that work much the same way.  E.g., `mysql-connector-python` (MySQL), `sqlite` (SQLite), `pymongo` (MongoDB) \n",
    "\n",
    "## General Workflow\n",
    "\n",
    "1. Establish connection to PostgreSQL database using psycopg2\n",
    "2. Create a cursor\n",
    "3. Use the cursor to execute SQL queries\n",
    "4. Commit SQL actions\n",
    "4. Close the cursor and connection\n",
    "\n",
    "## Walkthrough 1: Creating a database from Python\n",
    "\n",
    "### Connect to the database\n",
    "\n",
    "- Connections must be established using an existing database, username, database IP/URL, and maybe passwords\n",
    "- If you need to create a database, you can first connect to PostgreSQL using the dbname 'postgres' to initialize"
   ]
  },
  {
   "cell_type": "code",
   "execution_count": 1,
   "metadata": {
    "collapsed": false
   },
   "outputs": [
    {
     "data": {
      "text/plain": [
       "<connection object at 0x1046f9180; dsn: 'user=ivan host=localhost dbname=postgres', closed: 0>"
      ]
     },
     "execution_count": 1,
     "metadata": {},
     "output_type": "execute_result"
    }
   ],
   "source": [
    "import psycopg2 as pg2\n",
    "\n",
    "conn = pg2.connect(dbname='postgres', user='ivan', host='localhost')\n",
    "\n",
    "conn"
   ]
  },
  {
   "cell_type": "markdown",
   "metadata": {},
   "source": [
    "### Commits\n",
    "\n",
    "- Data changes are not actually stored until you choose to commit\n",
    "- You can choose to have automatic commit by using ` autocommit = True`\n",
    "- When connecting directly to the PostgreSQL Server to initiate server level commands such as creating a database, you must use the `autocommit = True` option since Postgres does not have \"temporary\" transactions at the database level"
   ]
  },
  {
   "cell_type": "code",
   "execution_count": 2,
   "metadata": {
    "collapsed": false
   },
   "outputs": [],
   "source": [
    "conn.autocommit = True"
   ]
  },
  {
   "cell_type": "markdown",
   "metadata": {},
   "source": [
    "### Instantiate the cursor\n",
    "\n",
    "- A cursor is a control structure that enables traversal over the records in a database.  You can think of it as an iterator or pointer for SQL data retrieval\n",
    "- Executes and fetches data\n",
    "- When the cursor points at the resulting output of a query, it can only read each observation once.  If you choose to see a previously read observation, you must rerun the query\n",
    "- Can be closed without closing the connection"
   ]
  },
  {
   "cell_type": "code",
   "execution_count": 3,
   "metadata": {
    "collapsed": false
   },
   "outputs": [],
   "source": [
    "cur = conn.cursor()"
   ]
  },
  {
   "cell_type": "markdown",
   "metadata": {},
   "source": [
    "###  Create a database"
   ]
  },
  {
   "cell_type": "code",
   "execution_count": 4,
   "metadata": {
    "collapsed": false
   },
   "outputs": [],
   "source": [
    "cur.execute('DROP DATABASE IF EXISTS temp;')\n",
    "cur.execute('CREATE DATABASE temp;')"
   ]
  },
  {
   "cell_type": "markdown",
   "metadata": {},
   "source": [
    "### Disconnect from the cursor and database\n",
    "\n",
    "- Cursors and connections must be closed using `.close()` or else PostgreSQL will lock certain operation on the database/tables to connection is severed"
   ]
  },
  {
   "cell_type": "code",
   "execution_count": 5,
   "metadata": {
    "collapsed": true
   },
   "outputs": [],
   "source": [
    "cur.close() # optional, closing the connection always closes any associated cursors\n",
    "\n",
    "conn.close() # closing the connection"
   ]
  },
  {
   "cell_type": "markdown",
   "metadata": {},
   "source": [
    "## Walkthrough 2: Let's use our new database\n",
    "\n",
    "### Connect to the database"
   ]
  },
  {
   "cell_type": "code",
   "execution_count": 6,
   "metadata": {
    "collapsed": false
   },
   "outputs": [],
   "source": [
    "conn = pg2.connect(dbname='temp', user='ivan', host='localhost')\n",
    "conn.autocommit = True\n",
    "\n",
    "cur = conn.cursor()"
   ]
  },
  {
   "cell_type": "markdown",
   "metadata": {},
   "source": [
    "### Create a new table"
   ]
  },
  {
   "cell_type": "code",
   "execution_count": 7,
   "metadata": {
    "collapsed": false
   },
   "outputs": [],
   "source": [
    "query = '''\n",
    "CREATE TABLE logins (\n",
    "    userid INTEGER, \n",
    "    tmstmp TIMESTAMP, \n",
    "    type VARCHAR(10)\n",
    ");\n",
    "'''\n",
    "\n",
    "cur.execute(query)"
   ]
  },
  {
   "cell_type": "markdown",
   "metadata": {
    "collapsed": false
   },
   "source": [
    "### Insert data into new table"
   ]
  },
  {
   "cell_type": "code",
   "execution_count": 8,
   "metadata": {
    "collapsed": false
   },
   "outputs": [],
   "source": [
    "query = '''\n",
    "COPY logins \n",
    "    FROM '/Users/ivan/GitHub/DSI_Lectures/sql-python/ivan_corneillet/logins_data/logins-01.csv' \n",
    "    DELIMITER ',' \n",
    "    CSV;\n",
    "'''\n",
    "\n",
    "cur.execute(query)"
   ]
  },
  {
   "cell_type": "markdown",
   "metadata": {},
   "source": [
    "### Run a query to get 30 records from our data"
   ]
  },
  {
   "cell_type": "code",
   "execution_count": 9,
   "metadata": {
    "collapsed": true
   },
   "outputs": [],
   "source": [
    "query = '''\n",
    "SELECT *\n",
    "    FROM logins\n",
    "    LIMIT 30;\n",
    "'''\n",
    "\n",
    "cur.execute(query)"
   ]
  },
  {
   "cell_type": "markdown",
   "metadata": {},
   "source": [
    "### Let's look at our data one line at a time\n",
    "\n",
    "There are a number of ways to grab results from the cursor:\n",
    "\n",
    "- `cur.fetchone()` - returns the next result\n",
    "- `cur.next()` - returns the next result\n",
    "- `cur.fetchmany(n)` - returns the next n results\n",
    "- `cur.fetchall()` - returns all results in the result set\n",
    "- `for res in cur:` - iterates over all results in the `cursorcur.fetchall()`\n",
    "  \n",
    "Again, when results are returned from a cursor object, they are returned as a generator (e.g., it gives back the results lazily).  Therefore, each result in the result set can only be accessed once so if we want it again, we have to re-run the query"
   ]
  },
  {
   "cell_type": "code",
   "execution_count": 10,
   "metadata": {
    "collapsed": false
   },
   "outputs": [
    {
     "data": {
      "text/plain": [
       "(579, datetime.datetime(2013, 11, 20, 3, 20, 6), 'mobile')"
      ]
     },
     "execution_count": 10,
     "metadata": {},
     "output_type": "execute_result"
    }
   ],
   "source": [
    "cur.fetchone()"
   ]
  },
  {
   "cell_type": "code",
   "execution_count": 11,
   "metadata": {
    "collapsed": false
   },
   "outputs": [
    {
     "data": {
      "text/plain": [
       "(823, datetime.datetime(2013, 11, 20, 3, 20, 49), 'web')"
      ]
     },
     "execution_count": 11,
     "metadata": {},
     "output_type": "execute_result"
    }
   ],
   "source": [
    "cur.fetchone()"
   ]
  },
  {
   "cell_type": "markdown",
   "metadata": {},
   "source": [
    "### Now, many lines at a time"
   ]
  },
  {
   "cell_type": "code",
   "execution_count": 12,
   "metadata": {
    "collapsed": false
   },
   "outputs": [
    {
     "data": {
      "text/plain": [
       "[(953, datetime.datetime(2013, 11, 20, 3, 28, 49), 'web'),\n",
       " (612, datetime.datetime(2013, 11, 20, 3, 36, 55), 'web'),\n",
       " (269, datetime.datetime(2013, 11, 20, 3, 43, 13), 'web'),\n",
       " (799, datetime.datetime(2013, 11, 20, 3, 56, 55), 'web'),\n",
       " (890, datetime.datetime(2013, 11, 20, 4, 2, 33), 'mobile'),\n",
       " (330, datetime.datetime(2013, 11, 20, 4, 54, 59), 'mobile'),\n",
       " (628, datetime.datetime(2013, 11, 20, 4, 57, 22), 'mobile'),\n",
       " (398, datetime.datetime(2013, 11, 20, 5, 3, 19), 'mobile'),\n",
       " (482, datetime.datetime(2013, 11, 20, 5, 4, 43), 'mobile'),\n",
       " (581, datetime.datetime(2013, 11, 20, 5, 12, 3), 'mobile')]"
      ]
     },
     "execution_count": 12,
     "metadata": {},
     "output_type": "execute_result"
    }
   ],
   "source": [
    "# fetchmany(n) to get n rows\n",
    "\n",
    "cur.fetchmany(10)"
   ]
  },
  {
   "cell_type": "markdown",
   "metadata": {},
   "source": [
    "### Or everything at once"
   ]
  },
  {
   "cell_type": "code",
   "execution_count": 13,
   "metadata": {
    "collapsed": false
   },
   "outputs": [
    {
     "data": {
      "text/plain": [
       "[(370, datetime.datetime(2013, 11, 20, 5, 26, 46), 'mobile'),\n",
       " (230, datetime.datetime(2013, 11, 20, 5, 28, 29), 'web'),\n",
       " (596, datetime.datetime(2013, 11, 20, 5, 28, 36), 'web'),\n",
       " (274, datetime.datetime(2013, 11, 20, 5, 43, 8), 'mobile'),\n",
       " (581, datetime.datetime(2013, 11, 20, 5, 47, 10), 'web'),\n",
       " (417, datetime.datetime(2013, 11, 20, 5, 54, 37), 'mobile'),\n",
       " (185, datetime.datetime(2013, 11, 20, 5, 56, 22), 'mobile'),\n",
       " (371, datetime.datetime(2013, 11, 20, 5, 58, 35), 'mobile'),\n",
       " (133, datetime.datetime(2013, 11, 20, 5, 59, 7), 'web'),\n",
       " (621, datetime.datetime(2013, 11, 20, 6, 1, 46), 'web'),\n",
       " (306, datetime.datetime(2013, 11, 20, 6, 3, 23), 'mobile'),\n",
       " (509, datetime.datetime(2013, 11, 20, 6, 4, 43), 'web'),\n",
       " (505, datetime.datetime(2013, 11, 20, 6, 9, 52), 'web'),\n",
       " (678, datetime.datetime(2013, 11, 20, 6, 34, 18), 'web'),\n",
       " (889, datetime.datetime(2013, 11, 20, 6, 36, 32), 'mobile'),\n",
       " (202, datetime.datetime(2013, 11, 20, 6, 43, 33), 'mobile'),\n",
       " (614, datetime.datetime(2013, 11, 20, 6, 47, 55), 'mobile'),\n",
       " (882, datetime.datetime(2013, 11, 20, 6, 49), 'mobile')]"
      ]
     },
     "execution_count": 13,
     "metadata": {},
     "output_type": "execute_result"
    }
   ],
   "source": [
    "# fetchall() grabs all remaining rows\n",
    "\n",
    "cur.fetchall()"
   ]
  },
  {
   "cell_type": "markdown",
   "metadata": {},
   "source": [
    "## Dynamic Queries\n",
    "\n",
    "- A Dynamic Query is a query that is generated based on context\n",
    "\n",
    "### Example\n",
    "\n",
    "We have 8 login `.csv` files that we need to insert into the logins table.  Instead of doing a `COPY FROM` query 8 times, we should utilize Python (or any future languages) to make this more efficient.  This is possible due to tokenized strings\n",
    "\n",
    "### First let's get an idea of how many records we start with"
   ]
  },
  {
   "cell_type": "code",
   "execution_count": 14,
   "metadata": {
    "collapsed": false
   },
   "outputs": [
    {
     "data": {
      "text/plain": [
       "[(10000L,)]"
      ]
     },
     "execution_count": 14,
     "metadata": {},
     "output_type": "execute_result"
    }
   ],
   "source": [
    "cur.execute('SELECT COUNT(*) FROM logins;')\n",
    "\n",
    "cur.fetchall()"
   ]
  },
  {
   "cell_type": "markdown",
   "metadata": {},
   "source": [
    "### Create a query template and determine file path for imports\n",
    "\n",
    "- Use string formatting to generate a query for each approved file\n",
    "- [WARNING: BEWARE OF SQL INJECTION](http://initd.org/psycopg/docs/usage.html)\n",
    "- NEVER use + or % to reformat strings to be used with .execute"
   ]
  },
  {
   "cell_type": "code",
   "execution_count": 15,
   "metadata": {
    "collapsed": false
   },
   "outputs": [
    {
     "name": "stdout",
     "output_type": "stream",
     "text": [
      "SELECT * FROM logins WHERE userid = 590\n"
     ]
    }
   ],
   "source": [
    "userid = 590\n",
    "#userid = '590; SELECT * FROM logins WHERE userid = 589'\n",
    "#userid = '590; DROP TABLE logins'\n",
    "\n",
    "terribly_unsafe = 'SELECT * FROM logins WHERE userid = ' + str(userid)\n",
    "print terribly_unsafe"
   ]
  },
  {
   "cell_type": "code",
   "execution_count": 16,
   "metadata": {
    "collapsed": false
   },
   "outputs": [
    {
     "data": {
      "text/plain": [
       "[(590, datetime.datetime(2013, 11, 22, 8, 17, 34), 'mobile'),\n",
       " (590, datetime.datetime(2013, 11, 30, 22, 32, 43), 'mobile'),\n",
       " (590, datetime.datetime(2013, 12, 1, 11, 44, 48), 'web'),\n",
       " (590, datetime.datetime(2013, 12, 3, 9, 17, 29), 'mobile'),\n",
       " (590, datetime.datetime(2013, 12, 6, 4, 32, 15), 'mobile'),\n",
       " (590, datetime.datetime(2013, 12, 8, 16, 13, 44), 'mobile'),\n",
       " (590, datetime.datetime(2013, 12, 13, 6, 38, 52), 'mobile'),\n",
       " (590, datetime.datetime(2013, 12, 15, 10, 8, 33), 'mobile'),\n",
       " (590, datetime.datetime(2013, 12, 17, 21, 1, 17), 'mobile')]"
      ]
     },
     "execution_count": 16,
     "metadata": {},
     "output_type": "execute_result"
    }
   ],
   "source": [
    "cur.execute(terribly_unsafe)\n",
    "\n",
    "cur.fetchall()"
   ]
  },
  {
   "cell_type": "markdown",
   "metadata": {},
   "source": [
    "<img src='https://imgs.xkcd.com/comics/exploits_of_a_mom.png'>\n",
    "\n",
    "(https://xkcd.com/327/)"
   ]
  },
  {
   "cell_type": "markdown",
   "metadata": {},
   "source": [
    "### String formatting"
   ]
  },
  {
   "cell_type": "code",
   "execution_count": 17,
   "metadata": {
    "collapsed": false
   },
   "outputs": [
    {
     "data": {
      "text/plain": [
       "[(590, datetime.datetime(2013, 11, 22, 8, 17, 34), 'mobile'),\n",
       " (590, datetime.datetime(2013, 11, 30, 22, 32, 43), 'mobile'),\n",
       " (590, datetime.datetime(2013, 12, 1, 11, 44, 48), 'web'),\n",
       " (590, datetime.datetime(2013, 12, 3, 9, 17, 29), 'mobile'),\n",
       " (590, datetime.datetime(2013, 12, 6, 4, 32, 15), 'mobile'),\n",
       " (590, datetime.datetime(2013, 12, 8, 16, 13, 44), 'mobile'),\n",
       " (590, datetime.datetime(2013, 12, 13, 6, 38, 52), 'mobile'),\n",
       " (590, datetime.datetime(2013, 12, 15, 10, 8, 33), 'mobile'),\n",
       " (590, datetime.datetime(2013, 12, 17, 21, 1, 17), 'mobile')]"
      ]
     },
     "execution_count": 17,
     "metadata": {},
     "output_type": "execute_result"
    }
   ],
   "source": [
    "query = '''\n",
    "SELECT *\n",
    "    FROM logins\n",
    "    WHERE userid = %(userid)s\n",
    "'''\n",
    "\n",
    "cur.execute(query, {'userid': 590})\n",
    "\n",
    "cur.fetchall()"
   ]
  },
  {
   "cell_type": "code",
   "execution_count": 18,
   "metadata": {
    "collapsed": false
   },
   "outputs": [
    {
     "ename": "DataError",
     "evalue": "invalid input syntax for integer: \"590; SELECT * FROM logins WHERE userid = 589\"\nLINE 4:     WHERE userid = '590; SELECT * FROM logins WHERE userid =...\n                           ^\n",
     "output_type": "error",
     "traceback": [
      "\u001b[0;31m---------------------------------------------------------------------------\u001b[0m",
      "\u001b[0;31mDataError\u001b[0m                                 Traceback (most recent call last)",
      "\u001b[0;32m<ipython-input-18-04f6521f5893>\u001b[0m in \u001b[0;36m<module>\u001b[0;34m()\u001b[0m\n\u001b[0;32m----> 1\u001b[0;31m \u001b[0mcur\u001b[0m\u001b[0;34m.\u001b[0m\u001b[0mexecute\u001b[0m\u001b[0;34m(\u001b[0m\u001b[0mquery\u001b[0m\u001b[0;34m,\u001b[0m \u001b[0;34m{\u001b[0m\u001b[0;34m'userid'\u001b[0m\u001b[0;34m:\u001b[0m \u001b[0;34m'590; SELECT * FROM logins WHERE userid = 589'\u001b[0m\u001b[0;34m}\u001b[0m\u001b[0;34m)\u001b[0m\u001b[0;34m\u001b[0m\u001b[0m\n\u001b[0m\u001b[1;32m      2\u001b[0m \u001b[0;34m\u001b[0m\u001b[0m\n\u001b[1;32m      3\u001b[0m \u001b[0mcur\u001b[0m\u001b[0;34m.\u001b[0m\u001b[0mfetchall\u001b[0m\u001b[0;34m(\u001b[0m\u001b[0;34m)\u001b[0m\u001b[0;34m\u001b[0m\u001b[0m\n",
      "\u001b[0;31mDataError\u001b[0m: invalid input syntax for integer: \"590; SELECT * FROM logins WHERE userid = 589\"\nLINE 4:     WHERE userid = '590; SELECT * FROM logins WHERE userid =...\n                           ^\n"
     ]
    }
   ],
   "source": [
    "cur.execute(query, {'userid': '590; SELECT * FROM logins WHERE userid = 589'})\n",
    "\n",
    "cur.fetchall()"
   ]
  },
  {
   "cell_type": "markdown",
   "metadata": {},
   "source": [
    "### Use string formatting to generate a query for each approved file"
   ]
  },
  {
   "cell_type": "code",
   "execution_count": 19,
   "metadata": {
    "collapsed": false
   },
   "outputs": [
    {
     "data": {
      "text/plain": [
       "'/Users/ivan/GitHub/DSI_Lectures/sql-python/ivan_corneillet/logins_data'"
      ]
     },
     "execution_count": 19,
     "metadata": {},
     "output_type": "execute_result"
    }
   ],
   "source": [
    "import os\n",
    "\n",
    "folder_path = os.path.join(os.getcwd(), 'logins_data')\n",
    "\n",
    "folder_path"
   ]
  },
  {
   "cell_type": "code",
   "execution_count": 20,
   "metadata": {
    "collapsed": false
   },
   "outputs": [],
   "source": [
    "query = '''\n",
    "COPY logins \n",
    "    FROM %(file_path)s\n",
    "    DELIMITER ','\n",
    "    CSV;\n",
    "'''"
   ]
  },
  {
   "cell_type": "code",
   "execution_count": 21,
   "metadata": {
    "collapsed": false
   },
   "outputs": [
    {
     "name": "stdout",
     "output_type": "stream",
     "text": [
      "logins-02.csv inserted into table.\n",
      "logins-03.csv inserted into table.\n",
      "logins-04.csv inserted into table.\n",
      "logins-05.csv inserted into table.\n",
      "logins-06.csv inserted into table.\n",
      "logins-07.csv inserted into table.\n",
      "logins-08.csv inserted into table.\n"
     ]
    }
   ],
   "source": [
    "for file_name in os.listdir(folder_path):\n",
    "    if file_name.endswith('.csv') and file_name != 'logins-01.csv':\n",
    "        path = os.path.join(folder_path, file_name)\n",
    "        cur.execute(query, {'file_path': path})\n",
    "        print '{0} inserted into table.'.format(file_name)"
   ]
  },
  {
   "cell_type": "markdown",
   "metadata": {},
   "source": [
    "### Let's check the total number of records we have right now"
   ]
  },
  {
   "cell_type": "code",
   "execution_count": 22,
   "metadata": {
    "collapsed": false
   },
   "outputs": [
    {
     "data": {
      "text/plain": [
       "[(78588L,)]"
      ]
     },
     "execution_count": 22,
     "metadata": {},
     "output_type": "execute_result"
    }
   ],
   "source": [
    "cur.execute('SELECT COUNT(*) FROM logins;')\n",
    "\n",
    "cur.fetchall()"
   ]
  },
  {
   "cell_type": "markdown",
   "metadata": {},
   "source": [
    "### Close your connection"
   ]
  },
  {
   "cell_type": "code",
   "execution_count": 23,
   "metadata": {
    "collapsed": true
   },
   "outputs": [],
   "source": [
    "conn.close()"
   ]
  },
  {
   "cell_type": "markdown",
   "metadata": {},
   "source": [
    "# Key things to remember\n",
    "\n",
    "- Connections must be established using an existing database, username, database IP/URL, and maybe passwords\n",
    "- If you have no created databases, you can connect to PostgreSQL using the dbname 'postgres' to initialize db commands\n",
    "- Data changes are not actually stored until you choose to commit.  This can be done either through `conn.commit()` or setting `autocommit = True`.  Until commited, all transactions are only temporary stored\n",
    "- `autocommit = True` is necessary to do database commands like `CREATE DATABASE`.  This is because PostgreSQL does not have temporary transactions at the database level\n",
    "- If you ever need to build similar pipelines for other forms of database, there are libraries such Pyodbc which operates essentially the same\n",
    "- SQL connection databases utilize cursors for data traversal and retrieval.  This is kind of like an iterator in Python\n",
    "- Cursor operations typically go like the following:\n",
    "  - Execute a query\n",
    "  - Fetch rows from query result if it is a `SELECT` query\n",
    "  - Because it is iterative, previously fetched rows can only be fetched again by rerunning the query\n",
    "  - Close cursor through `.close()`\n",
    "- Cursors and Connections must be closed using `.close()` or else Postgres will lock certain operation on the database/tables to connection is severed"
   ]
  },
  {
   "cell_type": "markdown",
   "metadata": {
    "collapsed": true
   },
   "source": [
    "# Exercise\n",
    "\n",
    "You're given a file called `playgolf.csv` in the `playgolf_data` folder.  The file is comma delimited and the first row is the header.  Without opening and looking at the file, create a table and insert the data.  Here is the header and first row:\n",
    "\n",
    "\n",
    "|date|outlook|temp|humidity|windy|result|\n",
    "|---|---|---|---|---|---|\n",
    "|7/1/14|sunny|85|85|FALSE|Don't Play|"
   ]
  },
  {
   "cell_type": "code",
   "execution_count": 24,
   "metadata": {
    "collapsed": true
   },
   "outputs": [],
   "source": [
    "conn = pg2.connect(dbname='temp', user='ivan', host='localhost')"
   ]
  },
  {
   "cell_type": "code",
   "execution_count": 25,
   "metadata": {
    "collapsed": true
   },
   "outputs": [],
   "source": [
    "cur = conn.cursor()"
   ]
  },
  {
   "cell_type": "code",
   "execution_count": 26,
   "metadata": {
    "collapsed": true
   },
   "outputs": [],
   "source": [
    "query = '''\n",
    "CREATE TABLE play_golf (\n",
    "    date DATE,\n",
    "    outlook VARCHAR(30),\n",
    "    temp INTEGER, \n",
    "    humidity INTEGER,\n",
    "    windy BOOLEAN,\n",
    "    result VARCHAR(30)\n",
    ");\n",
    "'''\n",
    "\n",
    "cur.execute(query)"
   ]
  },
  {
   "cell_type": "code",
   "execution_count": 27,
   "metadata": {
    "collapsed": false
   },
   "outputs": [],
   "source": [
    "query = '''\n",
    "COPY play_golf \n",
    "    FROM %(file_path)s \n",
    "    DELIMITER ',' \n",
    "    HEADER \n",
    "    CSV;\n",
    "'''\n",
    "\n",
    "file_path = os.path.join(os.getcwd(), 'playgolf_data', 'playgolf.csv')\n",
    "cur.execute(query, {'file_path': file_path})"
   ]
  },
  {
   "cell_type": "code",
   "execution_count": 28,
   "metadata": {
    "collapsed": false
   },
   "outputs": [
    {
     "data": {
      "text/plain": [
       "[(datetime.date(2014, 7, 1), 'sunny', 85, 85, False, \"Don't Play\"),\n",
       " (datetime.date(2014, 7, 2), 'sunny', 80, 90, True, \"Don't Play\"),\n",
       " (datetime.date(2014, 7, 3), 'overcast', 83, 78, False, 'Play'),\n",
       " (datetime.date(2014, 7, 4), 'rain', 70, 96, False, 'Play'),\n",
       " (datetime.date(2014, 7, 5), 'rain', 68, 80, False, 'Play'),\n",
       " (datetime.date(2014, 7, 6), 'rain', 65, 70, True, \"Don't Play\"),\n",
       " (datetime.date(2014, 7, 7), 'overcast', 64, 65, True, 'Play'),\n",
       " (datetime.date(2014, 7, 8), 'sunny', 72, 95, False, \"Don't Play\"),\n",
       " (datetime.date(2014, 7, 9), 'sunny', 69, 70, False, 'Play'),\n",
       " (datetime.date(2014, 7, 10), 'rain', 75, 80, False, 'Play'),\n",
       " (datetime.date(2014, 7, 11), 'sunny', 75, 70, True, 'Play'),\n",
       " (datetime.date(2014, 7, 12), 'overcast', 72, 90, True, 'Play'),\n",
       " (datetime.date(2014, 7, 13), 'overcast', 81, 75, False, 'Play'),\n",
       " (datetime.date(2014, 7, 14), 'rain', 71, 80, True, \"Don't Play\")]"
      ]
     },
     "execution_count": 28,
     "metadata": {},
     "output_type": "execute_result"
    }
   ],
   "source": [
    "query = '''\n",
    "SELECT *\n",
    "    FROM play_golf;\n",
    "'''\n",
    "\n",
    "cur.execute(query)\n",
    "\n",
    "cur.fetchall()"
   ]
  },
  {
   "cell_type": "code",
   "execution_count": 29,
   "metadata": {
    "collapsed": false
   },
   "outputs": [
    {
     "data": {
      "text/html": [
       "<div>\n",
       "<table border=\"1\" class=\"dataframe\">\n",
       "  <thead>\n",
       "    <tr style=\"text-align: right;\">\n",
       "      <th></th>\n",
       "      <th>date</th>\n",
       "      <th>outlook</th>\n",
       "      <th>temp</th>\n",
       "      <th>humidity</th>\n",
       "      <th>windy</th>\n",
       "      <th>result</th>\n",
       "    </tr>\n",
       "  </thead>\n",
       "  <tbody>\n",
       "    <tr>\n",
       "      <th>0</th>\n",
       "      <td>2014-07-01</td>\n",
       "      <td>sunny</td>\n",
       "      <td>85</td>\n",
       "      <td>85</td>\n",
       "      <td>False</td>\n",
       "      <td>Don't Play</td>\n",
       "    </tr>\n",
       "    <tr>\n",
       "      <th>1</th>\n",
       "      <td>2014-07-02</td>\n",
       "      <td>sunny</td>\n",
       "      <td>80</td>\n",
       "      <td>90</td>\n",
       "      <td>True</td>\n",
       "      <td>Don't Play</td>\n",
       "    </tr>\n",
       "    <tr>\n",
       "      <th>2</th>\n",
       "      <td>2014-07-03</td>\n",
       "      <td>overcast</td>\n",
       "      <td>83</td>\n",
       "      <td>78</td>\n",
       "      <td>False</td>\n",
       "      <td>Play</td>\n",
       "    </tr>\n",
       "    <tr>\n",
       "      <th>3</th>\n",
       "      <td>2014-07-04</td>\n",
       "      <td>rain</td>\n",
       "      <td>70</td>\n",
       "      <td>96</td>\n",
       "      <td>False</td>\n",
       "      <td>Play</td>\n",
       "    </tr>\n",
       "    <tr>\n",
       "      <th>4</th>\n",
       "      <td>2014-07-05</td>\n",
       "      <td>rain</td>\n",
       "      <td>68</td>\n",
       "      <td>80</td>\n",
       "      <td>False</td>\n",
       "      <td>Play</td>\n",
       "    </tr>\n",
       "    <tr>\n",
       "      <th>5</th>\n",
       "      <td>2014-07-06</td>\n",
       "      <td>rain</td>\n",
       "      <td>65</td>\n",
       "      <td>70</td>\n",
       "      <td>True</td>\n",
       "      <td>Don't Play</td>\n",
       "    </tr>\n",
       "    <tr>\n",
       "      <th>6</th>\n",
       "      <td>2014-07-07</td>\n",
       "      <td>overcast</td>\n",
       "      <td>64</td>\n",
       "      <td>65</td>\n",
       "      <td>True</td>\n",
       "      <td>Play</td>\n",
       "    </tr>\n",
       "    <tr>\n",
       "      <th>7</th>\n",
       "      <td>2014-07-08</td>\n",
       "      <td>sunny</td>\n",
       "      <td>72</td>\n",
       "      <td>95</td>\n",
       "      <td>False</td>\n",
       "      <td>Don't Play</td>\n",
       "    </tr>\n",
       "    <tr>\n",
       "      <th>8</th>\n",
       "      <td>2014-07-09</td>\n",
       "      <td>sunny</td>\n",
       "      <td>69</td>\n",
       "      <td>70</td>\n",
       "      <td>False</td>\n",
       "      <td>Play</td>\n",
       "    </tr>\n",
       "    <tr>\n",
       "      <th>9</th>\n",
       "      <td>2014-07-10</td>\n",
       "      <td>rain</td>\n",
       "      <td>75</td>\n",
       "      <td>80</td>\n",
       "      <td>False</td>\n",
       "      <td>Play</td>\n",
       "    </tr>\n",
       "    <tr>\n",
       "      <th>10</th>\n",
       "      <td>2014-07-11</td>\n",
       "      <td>sunny</td>\n",
       "      <td>75</td>\n",
       "      <td>70</td>\n",
       "      <td>True</td>\n",
       "      <td>Play</td>\n",
       "    </tr>\n",
       "    <tr>\n",
       "      <th>11</th>\n",
       "      <td>2014-07-12</td>\n",
       "      <td>overcast</td>\n",
       "      <td>72</td>\n",
       "      <td>90</td>\n",
       "      <td>True</td>\n",
       "      <td>Play</td>\n",
       "    </tr>\n",
       "    <tr>\n",
       "      <th>12</th>\n",
       "      <td>2014-07-13</td>\n",
       "      <td>overcast</td>\n",
       "      <td>81</td>\n",
       "      <td>75</td>\n",
       "      <td>False</td>\n",
       "      <td>Play</td>\n",
       "    </tr>\n",
       "    <tr>\n",
       "      <th>13</th>\n",
       "      <td>2014-07-14</td>\n",
       "      <td>rain</td>\n",
       "      <td>71</td>\n",
       "      <td>80</td>\n",
       "      <td>True</td>\n",
       "      <td>Don't Play</td>\n",
       "    </tr>\n",
       "  </tbody>\n",
       "</table>\n",
       "</div>"
      ],
      "text/plain": [
       "          date   outlook  temp  humidity  windy      result\n",
       "0   2014-07-01     sunny    85        85  False  Don't Play\n",
       "1   2014-07-02     sunny    80        90   True  Don't Play\n",
       "2   2014-07-03  overcast    83        78  False        Play\n",
       "3   2014-07-04      rain    70        96  False        Play\n",
       "4   2014-07-05      rain    68        80  False        Play\n",
       "5   2014-07-06      rain    65        70   True  Don't Play\n",
       "6   2014-07-07  overcast    64        65   True        Play\n",
       "7   2014-07-08     sunny    72        95  False  Don't Play\n",
       "8   2014-07-09     sunny    69        70  False        Play\n",
       "9   2014-07-10      rain    75        80  False        Play\n",
       "10  2014-07-11     sunny    75        70   True        Play\n",
       "11  2014-07-12  overcast    72        90   True        Play\n",
       "12  2014-07-13  overcast    81        75  False        Play\n",
       "13  2014-07-14      rain    71        80   True  Don't Play"
      ]
     },
     "execution_count": 29,
     "metadata": {},
     "output_type": "execute_result"
    }
   ],
   "source": [
    "import pandas as pd\n",
    "\n",
    "df = pd.read_sql(query, conn)\n",
    "\n",
    "df"
   ]
  },
  {
   "cell_type": "code",
   "execution_count": 30,
   "metadata": {
    "collapsed": false
   },
   "outputs": [],
   "source": [
    "conn.close()"
   ]
  }
 ],
 "metadata": {
  "anaconda-cloud": {},
  "kernelspec": {
   "display_name": "Python [default]",
   "language": "python",
   "name": "python2"
  },
  "language_info": {
   "codemirror_mode": {
    "name": "ipython",
    "version": 2
   },
   "file_extension": ".py",
   "mimetype": "text/x-python",
   "name": "python",
   "nbconvert_exporter": "python",
   "pygments_lexer": "ipython2",
   "version": "2.7.12"
  }
 },
 "nbformat": 4,
 "nbformat_minor": 0
}
