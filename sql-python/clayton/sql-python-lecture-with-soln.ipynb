{
 "cells": [
  {
   "cell_type": "markdown",
   "metadata": {},
   "source": [
    "# Lecture Objectives\n",
    "\n",
    "- Learn how to connect to and run Postgres queries from Python\n",
    "- Understand psycopg2's cursors, executes, and commits\n",
    "- Learn how to generate dynamic queries through Python string formatting"
   ]
  },
  {
   "cell_type": "markdown",
   "metadata": {},
   "source": [
    "##Combining SQL and Python\n",
    "\n",
    "Often you will find yourself working with data that are only accessable through SQL.  However, your machine learning capabilities are built in Python.  To resolve this issue, we can simply set up a connection from Python to the SQL database to bring the data to us."
   ]
  },
  {
   "cell_type": "markdown",
   "metadata": {},
   "source": [
    "## Why do we care?\n",
    "\n",
    "- SQL based databases are extremely common in almost all industry environments\n",
    "- Can leverage the benefit of SQL's structure and scalability, while maintaining the flexibility of Python\n",
    "- Very useful for scaled data pipelines, pre-cleaning, data exploration\n",
    "- Allows for dynamic query generation and hence automations"
   ]
  },
  {
   "cell_type": "markdown",
   "metadata": {},
   "source": [
    "## psycopg2\n",
    "\n",
    "- A Python library that allows for connections with PostgresSQL databases to easily query and retrieve data for analysis.\n",
    "- [Documentation--Includes Installation Instructions](http://initd.org/psycopg/docs/install.html)\n",
    "- In addition to what's listed in the documentation, if you have the anaconda distribution of Python \n",
    "```python \n",
    "conda install psycopg2 \n",
    "```\n",
    "worked for me\n",
    "- There are similar packages for other flavors of SQL that work much the same way"
   ]
  },
  {
   "cell_type": "markdown",
   "metadata": {},
   "source": [
    "## General Workflow\n",
    "\n",
    "1. Establish connection to Postgres database using psycopg2\n",
    "2. Create a cursor\n",
    "3. Use the cursor to execute SQL queries\n",
    "4. Commit SQL actions\n",
    "4. Close the cursor and connection"
   ]
  },
  {
   "cell_type": "markdown",
   "metadata": {},
   "source": [
    "# Walkthrough 1: Creating a database from Python"
   ]
  },
  {
   "cell_type": "markdown",
   "metadata": {},
   "source": [
    "### Connect to the database\n",
    "- Connections must be established using an existing database, username, database IP/URL, and maybe passwords\n",
    "- If you need to create a database, you can first connect to Postgres using the dbname 'postgres' to initialize"
   ]
  },
  {
   "cell_type": "code",
   "execution_count": 84,
   "metadata": {
    "collapsed": false
   },
   "outputs": [],
   "source": [
    "import psycopg2 as pg2\n",
    "conn = pg2.connect(dbname='postgres', user='clayton.schupp', host='localhost')"
   ]
  },
  {
   "cell_type": "markdown",
   "metadata": {},
   "source": [
    "### Commits\n",
    "\n",
    "- Data changes are not actually stored until you choose to commit\n",
    "- You can choose to have automatic commit by using ` autocommit = True`\n",
    "- When connecting directly to the Postgres Server to initiate server level commands such as creating a database, you must use the `autocommit = True` option since Postgres does not have \"temporary\" transactions at the database level"
   ]
  },
  {
   "cell_type": "code",
   "execution_count": 85,
   "metadata": {
    "collapsed": false
   },
   "outputs": [],
   "source": [
    "conn.autocommit = True"
   ]
  },
  {
   "cell_type": "markdown",
   "metadata": {},
   "source": [
    "### Instantiate the Cursor\n",
    "\n",
    "- A cursor is a control structure that enables traversal over the records in a database\n",
    "- Executes and fetches data\n",
    "- When the cursor points at the resulting output of a query, it can only read each observation once.  If you choose to see a previously read observation, you must rerun the query. \n",
    "- Can be closed without closing the connection"
   ]
  },
  {
   "cell_type": "code",
   "execution_count": 86,
   "metadata": {
    "collapsed": true
   },
   "outputs": [],
   "source": [
    "cur = conn.cursor()"
   ]
  },
  {
   "cell_type": "markdown",
   "metadata": {},
   "source": [
    "###  Create a database"
   ]
  },
  {
   "cell_type": "code",
   "execution_count": 87,
   "metadata": {
    "collapsed": false
   },
   "outputs": [],
   "source": [
    "cur.execute('DROP DATABASE IF EXISTS temp;')\n",
    "cur.execute('CREATE DATABASE temp;')"
   ]
  },
  {
   "cell_type": "markdown",
   "metadata": {},
   "source": [
    "### Disconnect from the cursor and database\n",
    "- Cursors and Connections must be closed using .close() or else Postgres will lock certain operation on the database/tables to connection is severed. "
   ]
  },
  {
   "cell_type": "code",
   "execution_count": 88,
   "metadata": {
    "collapsed": true
   },
   "outputs": [],
   "source": [
    "cur.close() # This is optional\n",
    "conn.close() # Closing the connection also closes all cursors"
   ]
  },
  {
   "cell_type": "markdown",
   "metadata": {},
   "source": [
    "# Walkthrough 2: Lets use our new database"
   ]
  },
  {
   "cell_type": "markdown",
   "metadata": {},
   "source": [
    "### Connect to our database"
   ]
  },
  {
   "cell_type": "code",
   "execution_count": 89,
   "metadata": {
    "collapsed": true
   },
   "outputs": [],
   "source": [
    "conn = pg2.connect(dbname='temp', user='clayton.schupp', host='localhost')"
   ]
  },
  {
   "cell_type": "code",
   "execution_count": 90,
   "metadata": {
    "collapsed": true
   },
   "outputs": [],
   "source": [
    "cur = conn.cursor()"
   ]
  },
  {
   "cell_type": "markdown",
   "metadata": {},
   "source": [
    "### Create a new table"
   ]
  },
  {
   "cell_type": "code",
   "execution_count": 91,
   "metadata": {
    "collapsed": false
   },
   "outputs": [],
   "source": [
    "query = '''\n",
    "        CREATE TABLE logins (\n",
    "            userid integer, \n",
    "            tmstmp timestamp, \n",
    "            type varchar(10)\n",
    "        );\n",
    "        '''\n",
    "cur.execute(query)"
   ]
  },
  {
   "cell_type": "markdown",
   "metadata": {
    "collapsed": false
   },
   "source": [
    "### Insert data into new table"
   ]
  },
  {
   "cell_type": "code",
   "execution_count": 92,
   "metadata": {
    "collapsed": false
   },
   "outputs": [],
   "source": [
    "query = '''\n",
    "        COPY logins \n",
    "        FROM '/Users/clayton.schupp/cwschupp/galvanize/teaching/DSI_Lectures/sql-python/clayton/logins_data/logins01.csv' \n",
    "        DELIMITER ',' \n",
    "        CSV;\n",
    "        '''\n",
    "cur.execute(query)"
   ]
  },
  {
   "cell_type": "markdown",
   "metadata": {},
   "source": [
    "### Run a query to get 30 records from our data"
   ]
  },
  {
   "cell_type": "code",
   "execution_count": 93,
   "metadata": {
    "collapsed": true
   },
   "outputs": [],
   "source": [
    "query = '''\n",
    "        SELECT *\n",
    "        FROM logins\n",
    "        LIMIT 30;\n",
    "        '''\n",
    "cur.execute(query)"
   ]
  },
  {
   "cell_type": "markdown",
   "metadata": {},
   "source": [
    "### Lets look at our data one line at a time"
   ]
  },
  {
   "cell_type": "code",
   "execution_count": 94,
   "metadata": {
    "collapsed": false
   },
   "outputs": [
    {
     "data": {
      "text/plain": [
       "(579, datetime.datetime(2013, 11, 20, 3, 20, 6), 'mobile')"
      ]
     },
     "execution_count": 94,
     "metadata": {},
     "output_type": "execute_result"
    }
   ],
   "source": [
    "cur.fetchone()"
   ]
  },
  {
   "cell_type": "markdown",
   "metadata": {},
   "source": [
    "### Many lines at a time"
   ]
  },
  {
   "cell_type": "code",
   "execution_count": 95,
   "metadata": {
    "collapsed": false
   },
   "outputs": [
    {
     "data": {
      "text/plain": [
       "[(823, datetime.datetime(2013, 11, 20, 3, 20, 49), 'web'),\n",
       " (953, datetime.datetime(2013, 11, 20, 3, 28, 49), 'web'),\n",
       " (612, datetime.datetime(2013, 11, 20, 3, 36, 55), 'web'),\n",
       " (269, datetime.datetime(2013, 11, 20, 3, 43, 13), 'web'),\n",
       " (799, datetime.datetime(2013, 11, 20, 3, 56, 55), 'web'),\n",
       " (890, datetime.datetime(2013, 11, 20, 4, 2, 33), 'mobile'),\n",
       " (330, datetime.datetime(2013, 11, 20, 4, 54, 59), 'mobile'),\n",
       " (628, datetime.datetime(2013, 11, 20, 4, 57, 22), 'mobile'),\n",
       " (398, datetime.datetime(2013, 11, 20, 5, 3, 19), 'mobile'),\n",
       " (482, datetime.datetime(2013, 11, 20, 5, 4, 43), 'mobile')]"
      ]
     },
     "execution_count": 95,
     "metadata": {},
     "output_type": "execute_result"
    }
   ],
   "source": [
    "#fetchmany(n) to get n rows\n",
    "cur.fetchmany(10)"
   ]
  },
  {
   "cell_type": "markdown",
   "metadata": {},
   "source": [
    "### Or everything at once"
   ]
  },
  {
   "cell_type": "code",
   "execution_count": 96,
   "metadata": {
    "collapsed": false
   },
   "outputs": [
    {
     "data": {
      "text/plain": [
       "[(581, datetime.datetime(2013, 11, 20, 5, 12, 3), 'mobile'),\n",
       " (370, datetime.datetime(2013, 11, 20, 5, 26, 46), 'mobile'),\n",
       " (230, datetime.datetime(2013, 11, 20, 5, 28, 29), 'web'),\n",
       " (596, datetime.datetime(2013, 11, 20, 5, 28, 36), 'web'),\n",
       " (274, datetime.datetime(2013, 11, 20, 5, 43, 8), 'mobile'),\n",
       " (581, datetime.datetime(2013, 11, 20, 5, 47, 10), 'web'),\n",
       " (417, datetime.datetime(2013, 11, 20, 5, 54, 37), 'mobile'),\n",
       " (185, datetime.datetime(2013, 11, 20, 5, 56, 22), 'mobile'),\n",
       " (371, datetime.datetime(2013, 11, 20, 5, 58, 35), 'mobile'),\n",
       " (133, datetime.datetime(2013, 11, 20, 5, 59, 7), 'web'),\n",
       " (621, datetime.datetime(2013, 11, 20, 6, 1, 46), 'web'),\n",
       " (306, datetime.datetime(2013, 11, 20, 6, 3, 23), 'mobile'),\n",
       " (509, datetime.datetime(2013, 11, 20, 6, 4, 43), 'web'),\n",
       " (505, datetime.datetime(2013, 11, 20, 6, 9, 52), 'web'),\n",
       " (678, datetime.datetime(2013, 11, 20, 6, 34, 18), 'web'),\n",
       " (889, datetime.datetime(2013, 11, 20, 6, 36, 32), 'mobile'),\n",
       " (202, datetime.datetime(2013, 11, 20, 6, 43, 33), 'mobile'),\n",
       " (614, datetime.datetime(2013, 11, 20, 6, 47, 55), 'mobile'),\n",
       " (882, datetime.datetime(2013, 11, 20, 6, 49), 'mobile')]"
      ]
     },
     "execution_count": 96,
     "metadata": {},
     "output_type": "execute_result"
    }
   ],
   "source": [
    "#fetchall() grabs all remaining rows\n",
    "cur.fetchall()"
   ]
  },
  {
   "cell_type": "markdown",
   "metadata": {},
   "source": [
    "# Dynamic Queries\n",
    "\n",
    "- A Dynamic Query is a query that generates based on context.\n"
   ]
  },
  {
   "cell_type": "markdown",
   "metadata": {},
   "source": [
    "### Example\n",
    "\n",
    "We have 8 login csv files that we need to insert into the logins table.  Instead of doing a COPY FROM query 8 times, we should utilize Python (or any future languages) to make this more efficient.  This is possible due to tokenized strings."
   ]
  },
  {
   "cell_type": "markdown",
   "metadata": {},
   "source": [
    "### First lets get an idea of how many records we start with"
   ]
  },
  {
   "cell_type": "code",
   "execution_count": 97,
   "metadata": {
    "collapsed": false
   },
   "outputs": [
    {
     "data": {
      "text/plain": [
       "[(10000L,)]"
      ]
     },
     "execution_count": 97,
     "metadata": {},
     "output_type": "execute_result"
    }
   ],
   "source": [
    "cur.execute('SELECT count(*) FROM logins;')\n",
    "cur.fetchall()"
   ]
  },
  {
   "cell_type": "markdown",
   "metadata": {},
   "source": [
    "### os is needed because we want to dynamically identify the files we need to insert using listdir."
   ]
  },
  {
   "cell_type": "code",
   "execution_count": 98,
   "metadata": {
    "collapsed": true
   },
   "outputs": [],
   "source": [
    "import os"
   ]
  },
  {
   "cell_type": "markdown",
   "metadata": {},
   "source": [
    "### Create a query template and determine file path for imports"
   ]
  },
  {
   "cell_type": "code",
   "execution_count": 99,
   "metadata": {
    "collapsed": false
   },
   "outputs": [],
   "source": [
    "query = '''\n",
    "        COPY logins \n",
    "        FROM '{file_path}'\n",
    "        DELIMITER ','\n",
    "        CSV;\n",
    "        '''\n",
    "\n",
    "folder_path = '/Users/clayton.schupp/cwschupp/galvanize/teaching/DSI_Lectures/sql-python/clayton/logins_data/'"
   ]
  },
  {
   "cell_type": "markdown",
   "metadata": {},
   "source": [
    "### Use string formatting to generate a query for each approved file."
   ]
  },
  {
   "cell_type": "code",
   "execution_count": 100,
   "metadata": {
    "collapsed": false
   },
   "outputs": [
    {
     "name": "stdout",
     "output_type": "stream",
     "text": [
      "logins02.csv inserted into table.\n",
      "logins03.csv inserted into table.\n",
      "logins04.csv inserted into table.\n",
      "logins05.csv inserted into table.\n",
      "logins06.csv inserted into table.\n",
      "logins07.csv inserted into table.\n",
      "logins08.csv inserted into table.\n"
     ]
    }
   ],
   "source": [
    "for file_name in os.listdir(folder_path):\n",
    "    if file_name.endswith('.csv') and file_name != 'logins01.csv':\n",
    "        dyn_query = query.format(file_path = folder_path + file_name)\n",
    "        cur.execute(dyn_query)\n",
    "        print '{0} inserted into table.'.format(file_name)"
   ]
  },
  {
   "cell_type": "markdown",
   "metadata": {},
   "source": [
    "### Lets check the total number of records we have right now."
   ]
  },
  {
   "cell_type": "code",
   "execution_count": 101,
   "metadata": {
    "collapsed": false
   },
   "outputs": [
    {
     "data": {
      "text/plain": [
       "[(78588L,)]"
      ]
     },
     "execution_count": 101,
     "metadata": {},
     "output_type": "execute_result"
    }
   ],
   "source": [
    "cur.execute('SELECT count(*) FROM logins;')\n",
    "cur.fetchall()"
   ]
  },
  {
   "cell_type": "markdown",
   "metadata": {},
   "source": [
    "### Don't forget to commit your changes"
   ]
  },
  {
   "cell_type": "code",
   "execution_count": 102,
   "metadata": {
    "collapsed": true
   },
   "outputs": [],
   "source": [
    "conn.commit()"
   ]
  },
  {
   "cell_type": "markdown",
   "metadata": {},
   "source": [
    "### Close your connection"
   ]
  },
  {
   "cell_type": "code",
   "execution_count": 103,
   "metadata": {
    "collapsed": true
   },
   "outputs": [],
   "source": [
    "conn.close()"
   ]
  },
  {
   "cell_type": "markdown",
   "metadata": {},
   "source": [
    "# Key Things to Remember\n",
    "\n",
    "* Connections must be established using an existing database, username, database IP/URL, and maybe passwords\n",
    "* If you have no created databases, you can connect to Postgres using the dbname 'postgres' to initialize db commands\n",
    "* Data changes are not actually stored until you choose to commit. This can be done either through `conn.commit()` or setting `autocommit = True`.  Until commited, all transactions is only temporary stored.\n",
    "* Autocommit = True is necessary to do database commands like CREATE DATABASE.  This is because Postgres does not have temporary transactions at the database level.\n",
    "* If you ever need to build similar pipelines for other forms of database, there are libraries such Pyodbc which operates essentially the same\n",
    "* SQL connection databases utilizes cursors for data traversal and retrieval.  This is kind of like an iterator in Python.\n",
    "* Cursor operations typically goes like the following:\n",
    "    - execute a query\n",
    "    - fetch rows from query result if it is a SELECT query\n",
    "    - because it is iterative, previously fetched rows can only be fetched again by rerunning the query\n",
    "    - close cursor through .close()\n",
    "* Cursors and Connections must be closed using .close() or else Postgres will lock certain operation on the database/tables to connection is severed. "
   ]
  },
  {
   "cell_type": "markdown",
   "metadata": {
    "collapsed": true
   },
   "source": [
    "# Exercise\n",
    "\n",
    "You're given a file called `playgolf.csv` in the data folder.  The file is comma delimited and the first row is the header.  Without opening and looking at the file, create a table and insert the data. Here is the header and first row:\n",
    "\n",
    "\n",
    "|Date|Outlook|Temperature|Humidity|Windy|Result|\n",
    "|----|-------|-----------|--------|-----|------|\n",
    "|07-01-2014|sunny|85|85|false|Don't Play|"
   ]
  },
  {
   "cell_type": "code",
   "execution_count": 104,
   "metadata": {
    "collapsed": true
   },
   "outputs": [],
   "source": [
    "conn = pg2.connect(dbname='temp', user='clayton.schupp', host='localhost')"
   ]
  },
  {
   "cell_type": "code",
   "execution_count": 105,
   "metadata": {
    "collapsed": true
   },
   "outputs": [],
   "source": [
    "cur = conn.cursor()"
   ]
  },
  {
   "cell_type": "code",
   "execution_count": 106,
   "metadata": {
    "collapsed": true
   },
   "outputs": [],
   "source": [
    "query = '''\n",
    "        CREATE TABLE play_golf (\n",
    "            date date,\n",
    "            outlook varchar(30),\n",
    "            temp integer, \n",
    "            humidity integer,\n",
    "            windy boolean,\n",
    "            result varchar(30)\n",
    "        );\n",
    "        '''\n",
    "cur.execute(query)"
   ]
  },
  {
   "cell_type": "code",
   "execution_count": 107,
   "metadata": {
    "collapsed": false
   },
   "outputs": [],
   "source": [
    "query = '''\n",
    "        COPY play_golf \n",
    "        FROM '/Users/clayton.schupp/cwschupp/galvanize/teaching/DSI_Lectures/sql-python/clayton/playgolf.csv' \n",
    "        DELIMITER ',' \n",
    "        HEADER \n",
    "        CSV;\n",
    "        '''\n",
    "cur.execute(query)"
   ]
  },
  {
   "cell_type": "code",
   "execution_count": 108,
   "metadata": {
    "collapsed": true
   },
   "outputs": [],
   "source": [
    "query = '''\n",
    "        SELECT *\n",
    "        FROM play_golf;\n",
    "        '''\n",
    "cur.execute(query)"
   ]
  },
  {
   "cell_type": "code",
   "execution_count": 109,
   "metadata": {
    "collapsed": false
   },
   "outputs": [
    {
     "data": {
      "text/plain": [
       "[(datetime.date(2014, 7, 1), 'sunny', 85, 85, False, \"Don't Play\"),\n",
       " (datetime.date(2014, 7, 2), 'sunny', 80, 90, True, \"Don't Play\"),\n",
       " (datetime.date(2014, 7, 3), 'overcast', 83, 78, False, 'Play'),\n",
       " (datetime.date(2014, 7, 4), 'rain', 70, 96, False, 'Play'),\n",
       " (datetime.date(2014, 7, 5), 'rain', 68, 80, False, 'Play'),\n",
       " (datetime.date(2014, 7, 6), 'rain', 65, 70, True, \"Don't Play\"),\n",
       " (datetime.date(2014, 7, 7), 'overcast', 64, 65, True, 'Play'),\n",
       " (datetime.date(2014, 7, 8), 'sunny', 72, 95, False, \"Don't Play\"),\n",
       " (datetime.date(2014, 7, 9), 'sunny', 69, 70, False, 'Play'),\n",
       " (datetime.date(2014, 7, 10), 'rain', 75, 80, False, 'Play'),\n",
       " (datetime.date(2014, 7, 11), 'sunny', 75, 70, True, 'Play'),\n",
       " (datetime.date(2014, 7, 12), 'overcast', 72, 90, True, 'Play'),\n",
       " (datetime.date(2014, 7, 13), 'overcast', 81, 75, False, 'Play'),\n",
       " (datetime.date(2014, 7, 14), 'rain', 71, 80, True, \"Don't Play\")]"
      ]
     },
     "execution_count": 109,
     "metadata": {},
     "output_type": "execute_result"
    }
   ],
   "source": [
    "cur.fetchall()"
   ]
  },
  {
   "cell_type": "code",
   "execution_count": 110,
   "metadata": {
    "collapsed": false
   },
   "outputs": [
    {
     "data": {
      "text/html": [
       "<div style=\"max-height:1000px;max-width:1500px;overflow:auto;\">\n",
       "<table border=\"1\" class=\"dataframe\">\n",
       "  <thead>\n",
       "    <tr style=\"text-align: right;\">\n",
       "      <th></th>\n",
       "      <th>date</th>\n",
       "      <th>outlook</th>\n",
       "      <th>temp</th>\n",
       "      <th>humidity</th>\n",
       "      <th>windy</th>\n",
       "      <th>result</th>\n",
       "    </tr>\n",
       "  </thead>\n",
       "  <tbody>\n",
       "    <tr>\n",
       "      <th>0 </th>\n",
       "      <td> 2014-07-01</td>\n",
       "      <td>    sunny</td>\n",
       "      <td> 85</td>\n",
       "      <td> 85</td>\n",
       "      <td> False</td>\n",
       "      <td> Don't Play</td>\n",
       "    </tr>\n",
       "    <tr>\n",
       "      <th>1 </th>\n",
       "      <td> 2014-07-02</td>\n",
       "      <td>    sunny</td>\n",
       "      <td> 80</td>\n",
       "      <td> 90</td>\n",
       "      <td>  True</td>\n",
       "      <td> Don't Play</td>\n",
       "    </tr>\n",
       "    <tr>\n",
       "      <th>2 </th>\n",
       "      <td> 2014-07-03</td>\n",
       "      <td> overcast</td>\n",
       "      <td> 83</td>\n",
       "      <td> 78</td>\n",
       "      <td> False</td>\n",
       "      <td>       Play</td>\n",
       "    </tr>\n",
       "    <tr>\n",
       "      <th>3 </th>\n",
       "      <td> 2014-07-04</td>\n",
       "      <td>     rain</td>\n",
       "      <td> 70</td>\n",
       "      <td> 96</td>\n",
       "      <td> False</td>\n",
       "      <td>       Play</td>\n",
       "    </tr>\n",
       "    <tr>\n",
       "      <th>4 </th>\n",
       "      <td> 2014-07-05</td>\n",
       "      <td>     rain</td>\n",
       "      <td> 68</td>\n",
       "      <td> 80</td>\n",
       "      <td> False</td>\n",
       "      <td>       Play</td>\n",
       "    </tr>\n",
       "    <tr>\n",
       "      <th>5 </th>\n",
       "      <td> 2014-07-06</td>\n",
       "      <td>     rain</td>\n",
       "      <td> 65</td>\n",
       "      <td> 70</td>\n",
       "      <td>  True</td>\n",
       "      <td> Don't Play</td>\n",
       "    </tr>\n",
       "    <tr>\n",
       "      <th>6 </th>\n",
       "      <td> 2014-07-07</td>\n",
       "      <td> overcast</td>\n",
       "      <td> 64</td>\n",
       "      <td> 65</td>\n",
       "      <td>  True</td>\n",
       "      <td>       Play</td>\n",
       "    </tr>\n",
       "    <tr>\n",
       "      <th>7 </th>\n",
       "      <td> 2014-07-08</td>\n",
       "      <td>    sunny</td>\n",
       "      <td> 72</td>\n",
       "      <td> 95</td>\n",
       "      <td> False</td>\n",
       "      <td> Don't Play</td>\n",
       "    </tr>\n",
       "    <tr>\n",
       "      <th>8 </th>\n",
       "      <td> 2014-07-09</td>\n",
       "      <td>    sunny</td>\n",
       "      <td> 69</td>\n",
       "      <td> 70</td>\n",
       "      <td> False</td>\n",
       "      <td>       Play</td>\n",
       "    </tr>\n",
       "    <tr>\n",
       "      <th>9 </th>\n",
       "      <td> 2014-07-10</td>\n",
       "      <td>     rain</td>\n",
       "      <td> 75</td>\n",
       "      <td> 80</td>\n",
       "      <td> False</td>\n",
       "      <td>       Play</td>\n",
       "    </tr>\n",
       "    <tr>\n",
       "      <th>10</th>\n",
       "      <td> 2014-07-11</td>\n",
       "      <td>    sunny</td>\n",
       "      <td> 75</td>\n",
       "      <td> 70</td>\n",
       "      <td>  True</td>\n",
       "      <td>       Play</td>\n",
       "    </tr>\n",
       "    <tr>\n",
       "      <th>11</th>\n",
       "      <td> 2014-07-12</td>\n",
       "      <td> overcast</td>\n",
       "      <td> 72</td>\n",
       "      <td> 90</td>\n",
       "      <td>  True</td>\n",
       "      <td>       Play</td>\n",
       "    </tr>\n",
       "    <tr>\n",
       "      <th>12</th>\n",
       "      <td> 2014-07-13</td>\n",
       "      <td> overcast</td>\n",
       "      <td> 81</td>\n",
       "      <td> 75</td>\n",
       "      <td> False</td>\n",
       "      <td>       Play</td>\n",
       "    </tr>\n",
       "    <tr>\n",
       "      <th>13</th>\n",
       "      <td> 2014-07-14</td>\n",
       "      <td>     rain</td>\n",
       "      <td> 71</td>\n",
       "      <td> 80</td>\n",
       "      <td>  True</td>\n",
       "      <td> Don't Play</td>\n",
       "    </tr>\n",
       "  </tbody>\n",
       "</table>\n",
       "</div>"
      ],
      "text/plain": [
       "          date   outlook  temp  humidity  windy      result\n",
       "0   2014-07-01     sunny    85        85  False  Don't Play\n",
       "1   2014-07-02     sunny    80        90   True  Don't Play\n",
       "2   2014-07-03  overcast    83        78  False        Play\n",
       "3   2014-07-04      rain    70        96  False        Play\n",
       "4   2014-07-05      rain    68        80  False        Play\n",
       "5   2014-07-06      rain    65        70   True  Don't Play\n",
       "6   2014-07-07  overcast    64        65   True        Play\n",
       "7   2014-07-08     sunny    72        95  False  Don't Play\n",
       "8   2014-07-09     sunny    69        70  False        Play\n",
       "9   2014-07-10      rain    75        80  False        Play\n",
       "10  2014-07-11     sunny    75        70   True        Play\n",
       "11  2014-07-12  overcast    72        90   True        Play\n",
       "12  2014-07-13  overcast    81        75  False        Play\n",
       "13  2014-07-14      rain    71        80   True  Don't Play"
      ]
     },
     "execution_count": 110,
     "metadata": {},
     "output_type": "execute_result"
    }
   ],
   "source": [
    "import pandas as pd\n",
    "df=pd.read_sql(query, conn)\n",
    "df"
   ]
  },
  {
   "cell_type": "code",
   "execution_count": 111,
   "metadata": {
    "collapsed": true
   },
   "outputs": [],
   "source": [
    "conn.close()"
   ]
  },
  {
   "cell_type": "code",
   "execution_count": null,
   "metadata": {
    "collapsed": true
   },
   "outputs": [],
   "source": []
  }
 ],
 "metadata": {
  "kernelspec": {
   "display_name": "Python 2",
   "language": "python",
   "name": "python2"
  },
  "language_info": {
   "codemirror_mode": {
    "name": "ipython",
    "version": 2
   },
   "file_extension": ".py",
   "mimetype": "text/x-python",
   "name": "python",
   "nbconvert_exporter": "python",
   "pygments_lexer": "ipython2",
   "version": "2.7.11"
  }
 },
 "nbformat": 4,
 "nbformat_minor": 0
}
