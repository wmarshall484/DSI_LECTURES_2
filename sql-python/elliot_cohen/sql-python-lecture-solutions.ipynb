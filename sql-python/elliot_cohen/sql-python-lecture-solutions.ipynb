{
 "cells": [
  {
   "cell_type": "markdown",
   "metadata": {},
   "source": [
    "# Exercise\n",
    "\n",
    "You're given a file called `playgolf.csv` in the data folder.  The file is comma delimited and the first row is the header.  Without opening and looking at the file, create a table and insert the data. Here is the header and first row:\n",
    "\n",
    "\n",
    "|Date|Outlook|Temperature|Humidity|Windy|Result|\n",
    "|----|-------|-----------|--------|-----|------|\n",
    "|07-01-2014|sunny|85|85|false|Don't Play|"
   ]
  },
  {
   "cell_type": "markdown",
   "metadata": {},
   "source": [
    "# Solution"
   ]
  },
  {
   "cell_type": "code",
   "execution_count": 1,
   "metadata": {},
   "outputs": [
    {
     "name": "stdout",
     "output_type": "stream",
     "text": [
      "········\n"
     ]
    }
   ],
   "source": [
    "# Create Connection Object\n",
    "import psycopg2\n",
    "import getpass\n",
    "\n",
    "upass = getpass.getpass()\n",
    "conn = psycopg2.connect(database=\"golf\", user=\"ender\", password=upass, host=\"localhost\", port=\"5432\")\n",
    "cur = conn.cursor()"
   ]
  },
  {
   "cell_type": "code",
   "execution_count": 2,
   "metadata": {},
   "outputs": [],
   "source": [
    "# Create Table\n",
    "query = '''\n",
    "        CREATE TABLE golf2 (\n",
    "            Date date, \n",
    "            Outlook varchar, \n",
    "            Temperature integer,\n",
    "            Humidity integer,\n",
    "            Windy bool,\n",
    "            Result varchar\n",
    "        );\n",
    "        '''\n",
    "cur.execute(query)"
   ]
  },
  {
   "cell_type": "code",
   "execution_count": 3,
   "metadata": {
    "collapsed": true
   },
   "outputs": [],
   "source": [
    "# Insert Data\n",
    "query = '''INSERT INTO golf2 VALUES (%s, %s, %s, %s, %s, %s)'''\n",
    "cur.execute(query, ('07-01-2014', 'sunny', '85', '85', 'false', \"don't play\"))\n",
    "\n",
    "# Pass data to fill a query placeholders and let Psycopg perform\n",
    "# the correct conversion (no more SQL injections!)"
   ]
  },
  {
   "cell_type": "code",
   "execution_count": 4,
   "metadata": {},
   "outputs": [
    {
     "data": {
      "text/plain": [
       "[(datetime.date(2014, 7, 1), 'sunny', 85, 85, False, \"don't play\")]"
      ]
     },
     "execution_count": 4,
     "metadata": {},
     "output_type": "execute_result"
    }
   ],
   "source": [
    "# Query Table\n",
    "cur.execute(\"SELECT * FROM golf2\")\n",
    "cur.fetchall()"
   ]
  },
  {
   "cell_type": "code",
   "execution_count": 5,
   "metadata": {},
   "outputs": [
    {
     "data": {
      "text/plain": [
       "[(\"don't play\",)]"
      ]
     },
     "execution_count": 5,
     "metadata": {},
     "output_type": "execute_result"
    }
   ],
   "source": [
    "cur.execute(\"SELECT result FROM golf2 WHERE Outlook = 'sunny'\")\n",
    "cur.fetchall()"
   ]
  },
  {
   "cell_type": "code",
   "execution_count": 6,
   "metadata": {
    "collapsed": true
   },
   "outputs": [],
   "source": [
    "# Insert Data From CSV\n",
    "import csv\n",
    "import os\n",
    "path = os.getcwd()\n",
    "\n",
    "query = '''INSERT INTO golf2 VALUES (%s, %s, %s, %s, %s, %s)'''\n",
    "\n",
    "with open('playgolf.csv', 'r') as f:\n",
    "    reader = csv.reader(f)\n",
    "    next(reader)  # Skip the header row.\n",
    "    for row in reader:\n",
    "        cur.execute(query, row)\n",
    "conn.commit()"
   ]
  },
  {
   "cell_type": "code",
   "execution_count": 7,
   "metadata": {},
   "outputs": [
    {
     "data": {
      "text/plain": [
       "[(datetime.date(2014, 7, 1), 'sunny', 85, 85, False, \"don't play\"),\n",
       " (datetime.date(2014, 7, 1), 'sunny', 85, 85, False, \"Don't Play\"),\n",
       " (datetime.date(2014, 7, 2), 'sunny', 80, 90, True, \"Don't Play\"),\n",
       " (datetime.date(2014, 7, 3), 'overcast', 83, 78, False, 'Play'),\n",
       " (datetime.date(2014, 7, 4), 'rain', 70, 96, False, 'Play'),\n",
       " (datetime.date(2014, 7, 5), 'rain', 68, 80, False, 'Play'),\n",
       " (datetime.date(2014, 7, 6), 'rain', 65, 70, True, \"Don't Play\"),\n",
       " (datetime.date(2014, 7, 7), 'overcast', 64, 65, True, 'Play'),\n",
       " (datetime.date(2014, 7, 8), 'sunny', 72, 95, False, \"Don't Play\"),\n",
       " (datetime.date(2014, 7, 9), 'sunny', 69, 70, False, 'Play'),\n",
       " (datetime.date(2014, 7, 10), 'rain', 75, 80, False, 'Play'),\n",
       " (datetime.date(2014, 7, 11), 'sunny', 75, 70, True, 'Play'),\n",
       " (datetime.date(2014, 7, 12), 'overcast', 72, 90, True, 'Play'),\n",
       " (datetime.date(2014, 7, 13), 'overcast', 81, 75, False, 'Play'),\n",
       " (datetime.date(2014, 7, 14), 'rain', 71, 80, True, \"Don't Play\")]"
      ]
     },
     "execution_count": 7,
     "metadata": {},
     "output_type": "execute_result"
    }
   ],
   "source": [
    "cur.execute(\"SELECT * FROM golf2\")\n",
    "cur.fetchall()"
   ]
  },
  {
   "cell_type": "code",
   "execution_count": 8,
   "metadata": {
    "collapsed": true
   },
   "outputs": [],
   "source": [
    "cur.close() # This is optional\n",
    "conn.close() # Closing the connection also closes all cursors"
   ]
  },
  {
   "cell_type": "code",
   "execution_count": null,
   "metadata": {
    "collapsed": true
   },
   "outputs": [],
   "source": []
  }
 ],
 "metadata": {
  "kernelspec": {
   "display_name": "Python 3",
   "language": "python",
   "name": "python3"
  },
  "language_info": {
   "codemirror_mode": {
    "name": "ipython",
    "version": 3
   },
   "file_extension": ".py",
   "mimetype": "text/x-python",
   "name": "python",
   "nbconvert_exporter": "python",
   "pygments_lexer": "ipython3",
   "version": "3.6.2"
  }
 },
 "nbformat": 4,
 "nbformat_minor": 2
}
