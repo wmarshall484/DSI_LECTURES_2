{
 "cells": [
  {
   "cell_type": "markdown",
   "metadata": {},
   "source": [
    "# Lecture Objectives\n",
    "\n",
    "- Connect to a database from within a python program and run queries\n",
    "- Understand psycopg2's cursors and commits\n",
    "- Generate dynamic queries"
   ]
  },
  {
   "cell_type": "markdown",
   "metadata": {},
   "source": [
    "### Combining SQL and Python\n",
    "\n",
    "Often you will find yourself working with data that are only accessable through SQL.  However, your machine-learning capabilities are built in Python.  To resolve this issue, we can simply set up a connection from Python to the SQL database to bring the data to us."
   ]
  },
  {
   "cell_type": "markdown",
   "metadata": {},
   "source": [
    "### Why do we care?\n",
    "\n",
    "- SQL-based databases are extremely common in almost all industry environments\n",
    "- Can leverage the benefit of SQL's structure and scalability, while maintaining the flexibility of Python\n",
    "- Very useful for scaled data pipelines, pre-cleaning, data exploration\n",
    "- Allows for dynamic query generation and hence automations"
   ]
  },
  {
   "cell_type": "markdown",
   "metadata": {},
   "source": [
    "### psycopg2\n",
    "\n",
    "- A Python library that allows for connections with PostgresSQL databases to easily query and retrieve data for analysis.\n",
    "- [Documentation--Includes Installation Instructions](http://initd.org/psycopg/docs/install.html)\n",
    "- In addition to what's listed in the documentation, if you have the anaconda distribution of Python \n",
    "```python \n",
    "conda install psycopg2 \n",
    "```\n",
    "should worked\n",
    "- There are similar packages for other flavors of SQL that work much the same way"
   ]
  },
  {
   "cell_type": "markdown",
   "metadata": {},
   "source": [
    "### General Workflow\n",
    "\n",
    "1. Establish connection to Postgres database using psycopg2\n",
    "2. Create a cursor\n",
    "3. Use the cursor to execute SQL queries and retrieve data\n",
    "4. Commit SQL actions\n",
    "4. Close the cursor and connection"
   ]
  },
  {
   "cell_type": "markdown",
   "metadata": {},
   "source": [
    "## First create a database from an admin account\n",
    "\n",
    "Database creation should be reserved for only administrators.  Each database should have a list of non-admin users that are specific to that database.  Keeping this separation of roles is a setup that helps with security. \n",
    "\n",
    "### Database setup\n",
    "\n",
    "On OSX use only second command\n",
    "\n",
    "```bash\n",
    "$ sudo su - postgres\n",
    "$ psql -U postgres\n",
    "```\n",
    "\n",
    "Then\n",
    "\n",
    "```sql\n",
    "CREATE USER ender WITH ENCRYPTED PASSWORD 'bugger';\n",
    "CREATE DATABASE golf WITH OWNER ender;\n",
    "```\n",
    "\n",
    "Check to see if you see the new database and other useful commands\n",
    "\n",
    "```sql\n",
    "\\list    # lists all the databases in Postgres\n",
    "\\connect # connect to a specific database\n",
    "\\dt      # list tables in the currently connected database\n",
    "\\q       # quit \n",
    "```"
   ]
  },
  {
   "cell_type": "markdown",
   "metadata": {},
   "source": [
    "### Connect to the database\n",
    "- Connections must be established using an existing database, username, database IP/URL, and maybe passwords\n",
    "- If you need to create a database, you can first connect to Postgres using the dbname 'postgres' to initialize"
   ]
  },
  {
   "cell_type": "code",
   "execution_count": 1,
   "metadata": {
    "ExecuteTime": {
     "end_time": "2017-01-12T08:58:08.165520",
     "start_time": "2017-01-12T08:58:08.091308"
    }
   },
   "outputs": [
    {
     "name": "stdout",
     "output_type": "stream",
     "text": [
      "········\n",
      "connected\n"
     ]
    }
   ],
   "source": [
    "import psycopg2\n",
    "import getpass\n",
    "\n",
    "upass = getpass.getpass()\n",
    "conn = psycopg2.connect(database=\"golf\", user=\"ender\", password=upass, host=\"localhost\", port=\"5432\")\n",
    "print(\"connected\")"
   ]
  },
  {
   "cell_type": "markdown",
   "metadata": {},
   "source": [
    "### Instantiate the Cursor\n",
    "\n",
    "- A cursor is a control structure that enables traversal over the records in a database\n",
    "- Executes and fetches data\n",
    "- When the cursor points at the resulting output of a query, it can only read each observation once.  If you choose to see a previously read observation, you must rerun the query. \n",
    "- Can be closed without closing the connection"
   ]
  },
  {
   "cell_type": "code",
   "execution_count": 2,
   "metadata": {
    "ExecuteTime": {
     "end_time": "2017-01-12T08:58:08.185336",
     "start_time": "2017-01-12T08:58:08.167694"
    },
    "collapsed": true
   },
   "outputs": [],
   "source": [
    "cur = conn.cursor()"
   ]
  },
  {
   "cell_type": "markdown",
   "metadata": {},
   "source": [
    "### Commits\n",
    "\n",
    "- Data changes are not actually stored until you choose to commit\n",
    "- You can choose to have automatic commit by using ` autocommit = True`\n",
    "- When connecting directly to the Postgres Server to initiate server level commands such as creating a database, you must use the `autocommit = True` option since Postgres does not have \"temporary\" transactions at the database level"
   ]
  },
  {
   "cell_type": "markdown",
   "metadata": {},
   "source": [
    "### Disconnect from the cursor and database\n",
    "- Cursors and Connections must be closed using .close() or else Postgres will lock certain operation on the database/tables to connection is severed. "
   ]
  },
  {
   "cell_type": "markdown",
   "metadata": {},
   "source": [
    "# Populate the database"
   ]
  },
  {
   "cell_type": "code",
   "execution_count": 3,
   "metadata": {
    "ExecuteTime": {
     "end_time": "2017-01-12T08:58:08.996294",
     "start_time": "2017-01-12T08:58:08.976269"
    }
   },
   "outputs": [
    {
     "name": "stdout",
     "output_type": "stream",
     "text": [
      "········\n",
      "connected\n",
      "(datetime.date(2014, 7, 1), 'sunny', 85, 85, False, \"Don't Play\")\n",
      "(datetime.date(2014, 7, 2), 'sunny', 80, 90, True, \"Don't Play\")\n",
      "(datetime.date(2014, 7, 3), 'overcast', 83, 78, False, 'Play')\n",
      "(datetime.date(2014, 7, 4), 'rain', 70, 96, False, 'Play')\n",
      "(datetime.date(2014, 7, 5), 'rain', 68, 80, False, 'Play')\n",
      "(datetime.date(2014, 7, 6), 'rain', 65, 70, True, \"Don't Play\")\n",
      "(datetime.date(2014, 7, 7), 'overcast', 64, 65, True, 'Play')\n",
      "(datetime.date(2014, 7, 8), 'sunny', 72, 95, False, \"Don't Play\")\n",
      "(datetime.date(2014, 7, 9), 'sunny', 69, 70, False, 'Play')\n",
      "(datetime.date(2014, 7, 10), 'rain', 75, 80, False, 'Play')\n",
      "(datetime.date(2014, 7, 11), 'sunny', 75, 70, True, 'Play')\n",
      "(datetime.date(2014, 7, 12), 'overcast', 72, 90, True, 'Play')\n",
      "(datetime.date(2014, 7, 13), 'overcast', 81, 75, False, 'Play')\n",
      "(datetime.date(2014, 7, 14), 'rain', 71, 80, True, \"Don't Play\")\n"
     ]
    }
   ],
   "source": [
    "run populate.py"
   ]
  },
  {
   "cell_type": "markdown",
   "metadata": {},
   "source": [
    "### Create a new table\n",
    "\n",
    "**you may need to edit the populate.py script with your username and password**\n",
    "\n",
    "The populate.py script does the following:\n",
    "\n",
    "1. Connects to the database\n",
    "2. Checks to see if a 'golf' table exists and if so drops it\n",
    "3. Creates a 'golf' table\n",
    "4. Populates the golf table with 'playgolf.csv'\n",
    "5. Queries the table for the first ten items\n"
   ]
  },
  {
   "cell_type": "markdown",
   "metadata": {},
   "source": [
    "### Run a query to get 30 records from our data"
   ]
  },
  {
   "cell_type": "code",
   "execution_count": 4,
   "metadata": {
    "ExecuteTime": {
     "end_time": "2017-01-12T08:58:09.226774",
     "start_time": "2017-01-12T08:58:09.192623"
    },
    "collapsed": true
   },
   "outputs": [],
   "source": [
    "cur = conn.cursor()\n",
    "query = '''\n",
    "        SELECT *\n",
    "        FROM golf\n",
    "        LIMIT 30;\n",
    "        '''\n",
    "\n",
    "cur.execute(query)"
   ]
  },
  {
   "cell_type": "markdown",
   "metadata": {},
   "source": [
    "### Lets look at our data one line at a time"
   ]
  },
  {
   "cell_type": "code",
   "execution_count": 5,
   "metadata": {
    "ExecuteTime": {
     "end_time": "2017-01-12T08:58:09.259809",
     "start_time": "2017-01-12T08:58:09.230102"
    }
   },
   "outputs": [
    {
     "data": {
      "text/plain": [
       "(datetime.date(2014, 7, 1), 'sunny', 85, 85, False, \"Don't Play\")"
      ]
     },
     "execution_count": 5,
     "metadata": {},
     "output_type": "execute_result"
    }
   ],
   "source": [
    "cur.fetchone()"
   ]
  },
  {
   "cell_type": "markdown",
   "metadata": {},
   "source": [
    "### Many lines at a time"
   ]
  },
  {
   "cell_type": "code",
   "execution_count": 6,
   "metadata": {
    "ExecuteTime": {
     "end_time": "2017-01-12T08:58:09.281025",
     "start_time": "2017-01-12T08:58:09.261857"
    }
   },
   "outputs": [
    {
     "data": {
      "text/plain": [
       "[(datetime.date(2014, 7, 2), 'sunny', 80, 90, True, \"Don't Play\"),\n",
       " (datetime.date(2014, 7, 3), 'overcast', 83, 78, False, 'Play'),\n",
       " (datetime.date(2014, 7, 4), 'rain', 70, 96, False, 'Play'),\n",
       " (datetime.date(2014, 7, 5), 'rain', 68, 80, False, 'Play'),\n",
       " (datetime.date(2014, 7, 6), 'rain', 65, 70, True, \"Don't Play\"),\n",
       " (datetime.date(2014, 7, 7), 'overcast', 64, 65, True, 'Play'),\n",
       " (datetime.date(2014, 7, 8), 'sunny', 72, 95, False, \"Don't Play\"),\n",
       " (datetime.date(2014, 7, 9), 'sunny', 69, 70, False, 'Play'),\n",
       " (datetime.date(2014, 7, 10), 'rain', 75, 80, False, 'Play'),\n",
       " (datetime.date(2014, 7, 11), 'sunny', 75, 70, True, 'Play')]"
      ]
     },
     "execution_count": 6,
     "metadata": {},
     "output_type": "execute_result"
    }
   ],
   "source": [
    "#fetchmany(n) to get n rows\n",
    "cur.fetchmany(10)"
   ]
  },
  {
   "cell_type": "markdown",
   "metadata": {},
   "source": [
    "### Or everything at once"
   ]
  },
  {
   "cell_type": "code",
   "execution_count": 7,
   "metadata": {
    "ExecuteTime": {
     "end_time": "2017-01-12T08:58:09.308550",
     "start_time": "2017-01-12T08:58:09.284019"
    },
    "collapsed": true
   },
   "outputs": [],
   "source": [
    "results = cur.fetchall() # fetchall() grabs all remaining rows"
   ]
  },
  {
   "cell_type": "code",
   "execution_count": 8,
   "metadata": {
    "ExecuteTime": {
     "end_time": "2017-01-12T08:58:09.340242",
     "start_time": "2017-01-12T08:58:09.309710"
    }
   },
   "outputs": [
    {
     "data": {
      "text/plain": [
       "list"
      ]
     },
     "execution_count": 8,
     "metadata": {},
     "output_type": "execute_result"
    }
   ],
   "source": [
    "type(results)"
   ]
  },
  {
   "cell_type": "code",
   "execution_count": 9,
   "metadata": {
    "ExecuteTime": {
     "end_time": "2017-01-12T08:58:09.377396",
     "start_time": "2017-01-12T08:58:09.342447"
    }
   },
   "outputs": [
    {
     "data": {
      "text/plain": [
       "tuple"
      ]
     },
     "execution_count": 9,
     "metadata": {},
     "output_type": "execute_result"
    }
   ],
   "source": [
    "type(results[0])"
   ]
  },
  {
   "cell_type": "markdown",
   "metadata": {},
   "source": [
    "### You can even iterate over the cursor"
   ]
  },
  {
   "cell_type": "code",
   "execution_count": 11,
   "metadata": {
    "ExecuteTime": {
     "end_time": "2017-01-12T08:58:09.417730",
     "start_time": "2017-01-12T08:58:09.380019"
    }
   },
   "outputs": [
    {
     "name": "stdout",
     "output_type": "stream",
     "text": [
      "Outlook: sunny Temperature: 2014-07-01 Humidity: 85\n",
      "Outlook: sunny Temperature: 2014-07-02 Humidity: 80\n",
      "Outlook: overcast Temperature: 2014-07-03 Humidity: 83\n",
      "Outlook: rain Temperature: 2014-07-04 Humidity: 70\n",
      "Outlook: rain Temperature: 2014-07-05 Humidity: 68\n",
      "Outlook: rain Temperature: 2014-07-06 Humidity: 65\n",
      "Outlook: overcast Temperature: 2014-07-07 Humidity: 64\n",
      "Outlook: sunny Temperature: 2014-07-08 Humidity: 72\n",
      "Outlook: sunny Temperature: 2014-07-09 Humidity: 69\n",
      "Outlook: rain Temperature: 2014-07-10 Humidity: 75\n",
      "Outlook: sunny Temperature: 2014-07-11 Humidity: 75\n",
      "Outlook: overcast Temperature: 2014-07-12 Humidity: 72\n",
      "Outlook: overcast Temperature: 2014-07-13 Humidity: 81\n",
      "Outlook: rain Temperature: 2014-07-14 Humidity: 71\n"
     ]
    }
   ],
   "source": [
    "cur.execute(query)\n",
    "for record in cur:\n",
    "    print (\"Outlook: {} Temperature: {} Humidity: {}\".format(record[1], record[0], record[2]))"
   ]
  },
  {
   "cell_type": "markdown",
   "metadata": {},
   "source": [
    "# Dynamic Queries\n",
    "\n",
    "- A Dynamic Query is a query that generates based on context.\n"
   ]
  },
  {
   "cell_type": "markdown",
   "metadata": {},
   "source": [
    "### Example\n",
    "\n",
    "We have 8 login csv files that we need to insert into the logins table.  Instead of doing a COPY FROM query 8 times, we should utilize Python to make this more efficient.  This is possible due to tokenized strings."
   ]
  },
  {
   "cell_type": "markdown",
   "metadata": {},
   "source": [
    "### First lets get an idea of how many records we start with"
   ]
  },
  {
   "cell_type": "code",
   "execution_count": 12,
   "metadata": {
    "ExecuteTime": {
     "end_time": "2017-01-12T08:58:09.446430",
     "start_time": "2017-01-12T08:58:09.421547"
    },
    "collapsed": true
   },
   "outputs": [],
   "source": [
    "cur.execute('SELECT count(*) FROM golf;')\n",
    "record_count = cur.fetchone()[0]"
   ]
  },
  {
   "cell_type": "code",
   "execution_count": 13,
   "metadata": {
    "ExecuteTime": {
     "end_time": "2017-01-12T08:58:09.471580",
     "start_time": "2017-01-12T08:58:09.451032"
    }
   },
   "outputs": [
    {
     "data": {
      "text/plain": [
       "14"
      ]
     },
     "execution_count": 13,
     "metadata": {},
     "output_type": "execute_result"
    }
   ],
   "source": [
    "record_count"
   ]
  },
  {
   "cell_type": "code",
   "execution_count": 14,
   "metadata": {
    "ExecuteTime": {
     "end_time": "2017-01-12T08:58:09.515994",
     "start_time": "2017-01-12T08:58:09.476168"
    }
   },
   "outputs": [
    {
     "data": {
      "text/plain": [
       "int"
      ]
     },
     "execution_count": 14,
     "metadata": {},
     "output_type": "execute_result"
    }
   ],
   "source": [
    "type(record_count)"
   ]
  },
  {
   "cell_type": "markdown",
   "metadata": {},
   "source": [
    "### Create a query template and determine file path for imports"
   ]
  },
  {
   "cell_type": "markdown",
   "metadata": {},
   "source": [
    "Use string formatting to generate a query for each approved file.\n",
    "\n",
    "**[WARNING: BEWARE OF SQL INJECTION](http://initd.org/psycopg/docs/usage.html)**\n",
    "\n",
    "NEVER use + or % or .format to reformat strings to be used with .execute"
   ]
  },
  {
   "cell_type": "code",
   "execution_count": 15,
   "metadata": {},
   "outputs": [
    {
     "name": "stdout",
     "output_type": "stream",
     "text": [
      "SELECT * FROM golf WHERE userid = 579; \n",
      "SELECT * FROM golf WHERE tmstmp > 2014-08-01;\n"
     ]
    }
   ],
   "source": [
    "num = 579\n",
    "terribly_unsafe = \"SELECT * FROM golf WHERE userid = {num}; \".format(num=num)\n",
    "print (terribly_unsafe)\n",
    "\n",
    "\n",
    "date_cut = \"2014-08-01\"\n",
    "horribly_risky = \"SELECT * FROM golf WHERE tmstmp > %s;\" % date_cut\n",
    "print (horribly_risky)"
   ]
  },
  {
   "cell_type": "markdown",
   "metadata": {
    "ExecuteTime": {
     "end_time": "2017-01-12T08:58:09.571188",
     "start_time": "2017-01-12T08:58:09.521349"
    }
   },
   "source": [
    "**Q** Why is this unsafe?  \n",
    "**A** Python is happy, but if `num` or `date_cut` included something malicious your data could be at risk"
   ]
  },
  {
   "cell_type": "markdown",
   "metadata": {},
   "source": [
    "### What is a SQL Injection Attack?"
   ]
  },
  {
   "cell_type": "code",
   "execution_count": 16,
   "metadata": {
    "ExecuteTime": {
     "end_time": "2017-01-12T08:58:09.596979",
     "start_time": "2017-01-12T08:58:09.573540"
    }
   },
   "outputs": [
    {
     "name": "stdout",
     "output_type": "stream",
     "text": [
      "SELECT * FROM logins WHERE tmstmp > 2014-08-01; DROP TABLE logins;\n"
     ]
    }
   ],
   "source": [
    "date_cut = \"2014-08-01; DROP TABLE logins\" # The user enters a date in a field on a web form\n",
    "horribly_risky = \"SELECT * FROM logins WHERE tmstmp > {};\".format(date_cut)\n",
    "print (horribly_risky)"
   ]
  },
  {
   "cell_type": "markdown",
   "metadata": {},
   "source": [
    "### Practice safe SQL with Psycopg2\n",
    "```\n",
    ">>> SQL = \"INSERT INTO authors (name) VALUES (%s);\" # Note: no quotes\n",
    ">>> data = (\"O'Reilly\", )\n",
    ">>> cur.execute(SQL, data) # Note: no % operator\n",
    "```"
   ]
  },
  {
   "cell_type": "markdown",
   "metadata": {},
   "source": [
    "### Visit [bobby-tables.com](http://www.bobby-tables.com/) to learn more about SQL safety.\n",
    "\n"
   ]
  },
  {
   "cell_type": "markdown",
   "metadata": {},
   "source": [
    "### Let's check the total number of records we have right now."
   ]
  },
  {
   "cell_type": "code",
   "execution_count": 17,
   "metadata": {
    "ExecuteTime": {
     "end_time": "2017-01-12T08:58:10.065091",
     "start_time": "2017-01-12T08:58:10.033034"
    }
   },
   "outputs": [
    {
     "name": "stdout",
     "output_type": "stream",
     "text": [
      "Old record count: 14\n",
      "New record count: 14\n"
     ]
    }
   ],
   "source": [
    "print (\"Old record count: {}\".format(record_count))\n",
    "\n",
    "cur.execute('SELECT count(*) FROM golf;')\n",
    "record_count = cur.fetchone()[0]\n",
    "\n",
    "print(\"New record count: {}\".format(record_count))"
   ]
  },
  {
   "cell_type": "markdown",
   "metadata": {
    "ExecuteTime": {
     "end_time": "2017-01-12T08:57:22.334048",
     "start_time": "2017-01-12T08:57:22.321062"
    }
   },
   "source": [
    "### Transactions can be rolled back until they're committed"
   ]
  },
  {
   "cell_type": "code",
   "execution_count": 18,
   "metadata": {
    "ExecuteTime": {
     "end_time": "2017-01-12T08:58:10.188575",
     "start_time": "2017-01-12T08:58:10.067757"
    }
   },
   "outputs": [
    {
     "name": "stdout",
     "output_type": "stream",
     "text": [
      "After rollback: 14\n"
     ]
    }
   ],
   "source": [
    "conn.rollback()\n",
    "\n",
    "cur.execute('SELECT count(*) FROM golf;')\n",
    "record_count = cur.fetchone()[0]\n",
    "\n",
    "print (\"After rollback: {}\".format(record_count))"
   ]
  },
  {
   "cell_type": "markdown",
   "metadata": {},
   "source": [
    "### Again, don't forget to commit your changes when you're ready"
   ]
  },
  {
   "cell_type": "code",
   "execution_count": 19,
   "metadata": {
    "ExecuteTime": {
     "end_time": "2017-01-12T08:58:10.189096",
     "start_time": "2017-01-12T16:58:08.148Z"
    },
    "collapsed": true
   },
   "outputs": [],
   "source": [
    "conn.commit()"
   ]
  },
  {
   "cell_type": "markdown",
   "metadata": {},
   "source": [
    "### Close your connection"
   ]
  },
  {
   "cell_type": "code",
   "execution_count": 20,
   "metadata": {
    "ExecuteTime": {
     "end_time": "2017-01-12T08:58:10.189407",
     "start_time": "2017-01-12T16:58:08.149Z"
    },
    "collapsed": true
   },
   "outputs": [],
   "source": [
    "conn.close()"
   ]
  },
  {
   "cell_type": "markdown",
   "metadata": {},
   "source": [
    "## `with` statements"
   ]
  },
  {
   "cell_type": "code",
   "execution_count": 22,
   "metadata": {
    "ExecuteTime": {
     "end_time": "2017-01-12T08:58:10.189716",
     "start_time": "2017-01-12T16:58:08.151Z"
    }
   },
   "outputs": [
    {
     "name": "stdout",
     "output_type": "stream",
     "text": [
      "········\n",
      "Cursor inside with block: <cursor object at 0x109391ed0; closed: 0>\n",
      "Cursor outside with block: <cursor object at 0x109391ed0; closed: -1>\n"
     ]
    }
   ],
   "source": [
    "query = \"SELECT count(*) FROM golf;\"\n",
    "upass = getpass.getpass()\n",
    "\n",
    "with psycopg2.connect(database=\"golf\", user=\"ender\", password=upass, host=\"localhost\", port=\"5432\") as conn:\n",
    "    with conn.cursor() as curs:\n",
    "        print(\"Cursor inside with block: {}\".format(curs))\n",
    "        curs.execute(query)\n",
    "    print(\"Cursor outside with block: {}\".format(curs))\n",
    "    "
   ]
  },
  {
   "cell_type": "markdown",
   "metadata": {
    "ExecuteTime": {
     "end_time": "2017-01-12T08:51:21.531861",
     "start_time": "2017-01-12T08:51:21.518559"
    }
   },
   "source": [
    "### The connection is *not* closed automatically:"
   ]
  },
  {
   "cell_type": "code",
   "execution_count": 23,
   "metadata": {
    "ExecuteTime": {
     "end_time": "2017-01-12T08:58:10.189999",
     "start_time": "2017-01-12T16:58:08.153Z"
    }
   },
   "outputs": [
    {
     "data": {
      "text/plain": [
       "<connection object at 0x109448a88; dsn: 'user=ender password=xxx dbname=golf host=localhost port=5432', closed: 0>"
      ]
     },
     "execution_count": 23,
     "metadata": {},
     "output_type": "execute_result"
    }
   ],
   "source": [
    "conn"
   ]
  },
  {
   "cell_type": "code",
   "execution_count": 24,
   "metadata": {
    "ExecuteTime": {
     "end_time": "2017-01-12T08:58:10.190294",
     "start_time": "2017-01-12T16:58:08.154Z"
    }
   },
   "outputs": [
    {
     "data": {
      "text/plain": [
       "<connection object at 0x109448a88; dsn: 'user=ender password=xxx dbname=golf host=localhost port=5432', closed: 1>"
      ]
     },
     "execution_count": 24,
     "metadata": {},
     "output_type": "execute_result"
    }
   ],
   "source": [
    "conn.close()\n",
    "conn"
   ]
  },
  {
   "cell_type": "markdown",
   "metadata": {},
   "source": [
    "# Review\n",
    "\n",
    "* Connections must be established using an existing database, username, database IP/URL, and maybe passwords\n",
    "* If you have no created databases, you can connect to Postgres using the dbname 'postgres' to initialize db commands\n",
    "* Data changes are not actually stored until you choose to commit. This can be done either through `conn.commit()` or setting `autocommit = True`.  Until commited, all transactions is only temporary stored.\n",
    "* Autocommit = True is necessary to do database commands like CREATE DATABASE.  This is because Postgres does not have temporary transactions at the database level.\n",
    "* If you ever need to build similar pipelines for other forms of database, there are libraries such PyODBC which operate very similarly.\n",
    "* SQL connection databases utilizes cursors for data traversal and retrieval.  This is kind of like an iterator in Python.\n",
    "* Cursor operations typically goes like the following:\n",
    "    - execute a query\n",
    "    - fetch rows from query result if it is a SELECT query\n",
    "    - because it is iterative, previously fetched rows can only be fetched again by rerunning the query\n",
    "    - close cursor through .close()\n",
    "* Cursors and Connections must be closed using .close() or else Postgres will lock certain operation on the database/tables to connection is severed. "
   ]
  },
  {
   "cell_type": "markdown",
   "metadata": {
    "collapsed": true
   },
   "source": [
    "# Exercise\n",
    "\n",
    "1. Print the temperatures by result category\n",
    "\n",
    "\n",
    "|Date|Outlook|Temperature|Humidity|Windy|Result|\n",
    "|----|-------|-----------|--------|-----|------|\n",
    "|07-01-2014|sunny|85|85|false|Don't Play|"
   ]
  },
  {
   "cell_type": "markdown",
   "metadata": {},
   "source": []
  },
  {
   "cell_type": "code",
   "execution_count": null,
   "metadata": {
    "collapsed": true
   },
   "outputs": [],
   "source": []
  },
  {
   "cell_type": "code",
   "execution_count": null,
   "metadata": {
    "collapsed": true
   },
   "outputs": [],
   "source": []
  },
  {
   "cell_type": "code",
   "execution_count": null,
   "metadata": {
    "collapsed": true
   },
   "outputs": [],
   "source": []
  },
  {
   "cell_type": "markdown",
   "metadata": {},
   "source": [
    "## Additional Resources"
   ]
  },
  {
   "cell_type": "markdown",
   "metadata": {},
   "source": [
    "<table border=\"1\" class=\"data-types docutils\">\n",
    "<caption>Default mapping between Python and PostgreSQL types</caption>\n",
    "<colgroup>\n",
    "<col width=\"28%\">\n",
    "<col width=\"35%\">\n",
    "<col width=\"37%\">\n",
    "</colgroup>\n",
    "<thead valign=\"bottom\">\n",
    "<tr class=\"row-odd\"><th class=\"head\">Python</th>\n",
    "<th class=\"head\">PostgreSQL</th>\n",
    "<th class=\"head\">See also</th>\n",
    "</tr>\n",
    "</thead>\n",
    "<tbody valign=\"top\">\n",
    "<tr class=\"row-even\"><td><code class=\"xref py py-obj docutils literal\"><span class=\"pre\">None</span></code></td>\n",
    "<td><code class=\"sql docutils literal\"><span class=\"pre\">NULL</span></code></td>\n",
    "<td rowspan=\"2\"><a class=\"reference internal\" href=\"#adapt-consts\"><span class=\"std std-ref\">Constants adaptation</span></a></td>\n",
    "</tr>\n",
    "<tr class=\"row-odd\"><td><code class=\"xref py py-obj docutils literal\"><span class=\"pre\">bool</span></code></td>\n",
    "<td><code class=\"sql docutils literal\"><span class=\"pre\">bool</span></code></td>\n",
    "</tr>\n",
    "<tr class=\"row-even\"><td><code class=\"xref py py-obj docutils literal\"><span class=\"pre\">float</span></code></td>\n",
    "<td><div class=\"first last line-block\">\n",
    "<div class=\"line\"><code class=\"sql docutils literal\"><span class=\"pre\">real</span></code></div>\n",
    "<div class=\"line\"><code class=\"sql docutils literal\"><span class=\"pre\">double</span></code></div>\n",
    "</div>\n",
    "</td>\n",
    "<td rowspan=\"3\"><a class=\"reference internal\" href=\"#adapt-numbers\"><span class=\"std std-ref\">Numbers adaptation</span></a></td>\n",
    "</tr>\n",
    "<tr class=\"row-odd\"><td><div class=\"first last line-block\">\n",
    "<div class=\"line\"><code class=\"xref py py-obj docutils literal\"><span class=\"pre\">int</span></code></div>\n",
    "<div class=\"line\"><code class=\"xref py py-obj docutils literal\"><span class=\"pre\">long</span></code></div>\n",
    "</div>\n",
    "</td>\n",
    "<td><div class=\"first last line-block\">\n",
    "<div class=\"line\"><code class=\"sql docutils literal\"><span class=\"pre\">smallint</span></code></div>\n",
    "<div class=\"line\"><code class=\"sql docutils literal\"><span class=\"pre\">integer</span></code></div>\n",
    "<div class=\"line\"><code class=\"sql docutils literal\"><span class=\"pre\">bigint</span></code></div>\n",
    "</div>\n",
    "</td>\n",
    "</tr>\n",
    "<tr class=\"row-even\"><td><a class=\"reference external\" href=\"https://docs.python.org/3/library/decimal.html#decimal.Decimal\" title=\"(in Python v3.6)\"><code class=\"xref py py-obj docutils literal\"><span class=\"pre\">Decimal</span></code></a></td>\n",
    "<td><code class=\"sql docutils literal\"><span class=\"pre\">numeric</span></code></td>\n",
    "</tr>\n",
    "<tr class=\"row-odd\"><td><div class=\"first last line-block\">\n",
    "<div class=\"line\"><code class=\"xref py py-obj docutils literal\"><span class=\"pre\">str</span></code></div>\n",
    "<div class=\"line\"><code class=\"xref py py-obj docutils literal\"><span class=\"pre\">unicode</span></code></div>\n",
    "</div>\n",
    "</td>\n",
    "<td><div class=\"first last line-block\">\n",
    "<div class=\"line\"><code class=\"sql docutils literal\"><span class=\"pre\">varchar</span></code></div>\n",
    "<div class=\"line\"><code class=\"sql docutils literal\"><span class=\"pre\">text</span></code></div>\n",
    "</div>\n",
    "</td>\n",
    "<td><a class=\"reference internal\" href=\"#adapt-string\"><span class=\"std std-ref\">Strings adaptation</span></a></td>\n",
    "</tr>\n",
    "<tr class=\"row-even\"><td><div class=\"first last line-block\">\n",
    "<div class=\"line\"><a class=\"reference external\" href=\"https://docs.python.org/2/library/functions.html#buffer\" title=\"(in Python v2.7)\"><code class=\"xref py py-obj docutils literal\"><span class=\"pre\">buffer</span></code></a></div>\n",
    "<div class=\"line\"><a class=\"reference external\" href=\"https://docs.python.org/3/library/stdtypes.html#memoryview\" title=\"(in Python v3.6)\"><code class=\"xref py py-obj docutils literal\"><span class=\"pre\">memoryview</span></code></a></div>\n",
    "<div class=\"line\"><a class=\"reference external\" href=\"https://docs.python.org/3/library/stdtypes.html#bytearray\" title=\"(in Python v3.6)\"><code class=\"xref py py-obj docutils literal\"><span class=\"pre\">bytearray</span></code></a></div>\n",
    "<div class=\"line\"><a class=\"reference external\" href=\"https://docs.python.org/3/library/stdtypes.html#bytes\" title=\"(in Python v3.6)\"><code class=\"xref py py-obj docutils literal\"><span class=\"pre\">bytes</span></code></a></div>\n",
    "<div class=\"line\">Buffer protocol</div>\n",
    "</div>\n",
    "</td>\n",
    "<td><code class=\"sql docutils literal\"><span class=\"pre\">bytea</span></code></td>\n",
    "<td><a class=\"reference internal\" href=\"#adapt-binary\"><span class=\"std std-ref\">Binary adaptation</span></a></td>\n",
    "</tr>\n",
    "<tr class=\"row-odd\"><td><code class=\"xref py py-obj docutils literal\"><span class=\"pre\">date</span></code></td>\n",
    "<td><code class=\"sql docutils literal\"><span class=\"pre\">date</span></code></td>\n",
    "<td rowspan=\"4\"><a class=\"reference internal\" href=\"#adapt-date\"><span class=\"std std-ref\">Date/Time objects adaptation</span></a></td>\n",
    "</tr>\n",
    "<tr class=\"row-even\"><td><code class=\"xref py py-obj docutils literal\"><span class=\"pre\">time</span></code></td>\n",
    "<td><div class=\"first last line-block\">\n",
    "<div class=\"line\"><code class=\"sql docutils literal\"><span class=\"pre\">time</span></code></div>\n",
    "<div class=\"line\"><code class=\"sql docutils literal\"><span class=\"pre\">timetz</span></code></div>\n",
    "</div>\n",
    "</td>\n",
    "</tr>\n",
    "<tr class=\"row-odd\"><td><code class=\"xref py py-obj docutils literal\"><span class=\"pre\">datetime</span></code></td>\n",
    "<td><div class=\"first last line-block\">\n",
    "<div class=\"line\"><code class=\"sql docutils literal\"><span class=\"pre\">timestamp</span></code></div>\n",
    "<div class=\"line\"><code class=\"sql docutils literal\"><span class=\"pre\">timestamptz</span></code></div>\n",
    "</div>\n",
    "</td>\n",
    "</tr>\n",
    "<tr class=\"row-even\"><td><code class=\"xref py py-obj docutils literal\"><span class=\"pre\">timedelta</span></code></td>\n",
    "<td><code class=\"sql docutils literal\"><span class=\"pre\">interval</span></code></td>\n",
    "</tr>\n",
    "<tr class=\"row-odd\"><td><code class=\"xref py py-obj docutils literal\"><span class=\"pre\">list</span></code></td>\n",
    "<td><code class=\"sql docutils literal\"><span class=\"pre\">ARRAY</span></code></td>\n",
    "<td><a class=\"reference internal\" href=\"#adapt-list\"><span class=\"std std-ref\">Lists adaptation</span></a></td>\n",
    "</tr>\n",
    "<tr class=\"row-even\"><td><div class=\"first last line-block\">\n",
    "<div class=\"line\"><code class=\"xref py py-obj docutils literal\"><span class=\"pre\">tuple</span></code></div>\n",
    "<div class=\"line\"><code class=\"xref py py-obj docutils literal\"><span class=\"pre\">namedtuple</span></code></div>\n",
    "</div>\n",
    "</td>\n",
    "<td><div class=\"first last line-block\">\n",
    "<div class=\"line\">Composite types</div>\n",
    "<div class=\"line\"><code class=\"sql docutils literal\"><span class=\"pre\">IN</span></code> syntax</div>\n",
    "</div>\n",
    "</td>\n",
    "<td><div class=\"first last line-block\">\n",
    "<div class=\"line\"><a class=\"reference internal\" href=\"#adapt-tuple\"><span class=\"std std-ref\">Tuples adaptation</span></a></div>\n",
    "<div class=\"line\"><a class=\"reference internal\" href=\"extras.html#adapt-composite\"><span class=\"std std-ref\">Composite types casting</span></a></div>\n",
    "</div>\n",
    "</td>\n",
    "</tr>\n",
    "<tr class=\"row-odd\"><td><code class=\"xref py py-obj docutils literal\"><span class=\"pre\">dict</span></code></td>\n",
    "<td><code class=\"sql docutils literal\"><span class=\"pre\">hstore</span></code></td>\n",
    "<td><a class=\"reference internal\" href=\"extras.html#adapt-hstore\"><span class=\"std std-ref\">Hstore data type</span></a></td>\n",
    "</tr>\n",
    "<tr class=\"row-even\"><td>Psycopg’s <code class=\"xref py py-obj docutils literal\"><span class=\"pre\">Range</span></code></td>\n",
    "<td><code class=\"sql docutils literal\"><span class=\"pre\">range</span></code></td>\n",
    "<td><a class=\"reference internal\" href=\"extras.html#adapt-range\"><span class=\"std std-ref\">Range data types</span></a></td>\n",
    "</tr>\n",
    "<tr class=\"row-odd\"><td>Anything™</td>\n",
    "<td><code class=\"sql docutils literal\"><span class=\"pre\">json</span></code></td>\n",
    "<td><a class=\"reference internal\" href=\"extras.html#adapt-json\"><span class=\"std std-ref\">JSON adaptation</span></a></td>\n",
    "</tr>\n",
    "<tr class=\"row-even\"><td><a class=\"reference external\" href=\"https://docs.python.org/3/library/uuid.html#uuid.UUID\" title=\"(in Python v3.6)\"><code class=\"xref py py-obj docutils literal\"><span class=\"pre\">UUID</span></code></a></td>\n",
    "<td><code class=\"sql docutils literal\"><span class=\"pre\">uuid</span></code></td>\n",
    "<td><a class=\"reference internal\" href=\"extras.html#adapt-uuid\"><span class=\"std std-ref\">UUID data type</span></a></td>\n",
    "</tr>\n",
    "<tr class=\"row-odd\"><td><a class=\"reference external\" href=\"https://docs.python.org/3/library/ipaddress.html#module-ipaddress\" title=\"(in Python v3.6)\"><code class=\"xref py py-obj docutils literal\"><span class=\"pre\">ipaddress</span></code></a>\n",
    "objects</td>\n",
    "<td><div class=\"first last line-block\">\n",
    "<div class=\"line\"><code class=\"sql docutils literal\"><span class=\"pre\">inet</span></code></div>\n",
    "<div class=\"line\"><code class=\"sql docutils literal\"><span class=\"pre\">cidr</span></code></div>\n",
    "</div>\n",
    "</td>\n",
    "<td><a class=\"reference internal\" href=\"extras.html#adapt-network\"><span class=\"std std-ref\">Networking data types</span></a></td>\n",
    "</tr>\n",
    "</tbody>\n",
    "</table>"
   ]
  }
 ],
 "metadata": {
  "kernelspec": {
   "display_name": "Python 3",
   "language": "python",
   "name": "python3"
  },
  "language_info": {
   "codemirror_mode": {
    "name": "ipython",
    "version": 3
   },
   "file_extension": ".py",
   "mimetype": "text/x-python",
   "name": "python",
   "nbconvert_exporter": "python",
   "pygments_lexer": "ipython3",
   "version": "3.6.2"
  }
 },
 "nbformat": 4,
 "nbformat_minor": 1
}
