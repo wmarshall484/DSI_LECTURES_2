{
 "cells": [
  {
   "cell_type": "markdown",
   "metadata": {},
   "source": [
    "# SQL Python (Postgres specificially)\n",
    "\n",
    "## Lecture Objectives\n",
    "\n",
    "- Connect to a database from within a python program and run queries\n",
    "- Understand psycopg2's connection, cursors and commits\n",
    "- Conceptualize the various fetches available on the cursor\n",
    "- Explain what a database rollback is and how it interacts with a commit\n",
    "- Understand the 'with' statement\n",
    "- Generate dynamic queries\n",
    "\n",
    "Borrowed a majority of content from Miles Erickson's deck"
   ]
  },
  {
   "cell_type": "markdown",
   "metadata": {},
   "source": [
    "## Combining SQL and Python\n",
    "\n",
    "Often you will find yourself working with data that are only accessable through SQL.  However, your machine-learning capabilities are built in Python.  To resolve this issue, we can simply set up a connection from Python to the SQL database to bring the data to us."
   ]
  },
  {
   "cell_type": "markdown",
   "metadata": {},
   "source": [
    "## Why do we care?\n",
    "\n",
    "- SQL-based databases are extremely common in almost all industry environments\n",
    "- Can leverage the benefit of SQL's structure and scalability, while maintaining the flexibility of Python\n",
    "- Very useful for scaled data pipelines, pre-cleaning, data exploration\n",
    "- Allows for dynamic query generation and hence automations"
   ]
  },
  {
   "cell_type": "markdown",
   "metadata": {},
   "source": [
    "## psycopg2\n",
    "\n",
    "- A Python library that allows for connections with PostgresSQL databases to easily query and retrieve data for analysis.\n",
    "- [Documentation--Includes Installation Instructions](http://initd.org/psycopg/docs/install.html)\n",
    "- In addition to what's listed in the documentation, if you have the anaconda distribution of Python \n",
    "```python \n",
    "conda install psycopg2 \n",
    "```\n",
    "should worked\n",
    "- There are similar packages for other flavors of SQL that work much the same way"
   ]
  },
  {
   "cell_type": "markdown",
   "metadata": {},
   "source": [
    "## General Workflow\n",
    "\n",
    "1. Establish connection to Postgres database using psycopg2\n",
    "2. Create a cursor\n",
    "3. Use the cursor to execute SQL queries and retrieve data\n",
    "4. Commit SQL actions\n",
    "4. Close the cursor and connection"
   ]
  },
  {
   "cell_type": "markdown",
   "metadata": {},
   "source": [
    "# Walkthrough 1: Creating a database from Python"
   ]
  },
  {
   "cell_type": "markdown",
   "metadata": {},
   "source": [
    "### Connect to the database\n",
    "- Connections must be established using an existing database, username, database IP/URL, and maybe passwords\n",
    "- If you need to create a database, you can first connect to Postgres using the dbname 'postgres' to initialize"
   ]
  },
  {
   "cell_type": "code",
   "execution_count": 1,
   "metadata": {
    "ExecuteTime": {
     "end_time": "2017-01-12T08:58:08.165520",
     "start_time": "2017-01-12T08:58:08.091308"
    },
    "collapsed": true
   },
   "outputs": [],
   "source": [
    "import psycopg2\n",
    "conn = psycopg2.connect(dbname='postgres', host='localhost')"
   ]
  },
  {
   "cell_type": "markdown",
   "metadata": {},
   "source": [
    "### Instantiate the Cursor\n",
    "\n",
    "- A cursor is a control structure that enables traversal over the records in a database\n",
    "- Executes and fetches data\n",
    "- When the cursor points at the resulting output of a query, it can only read each observation once.  If you choose to see a previously read observation, you must rerun the query. \n",
    "- Can be closed without closing the connection"
   ]
  },
  {
   "cell_type": "code",
   "execution_count": 2,
   "metadata": {
    "ExecuteTime": {
     "end_time": "2017-01-12T08:58:08.185336",
     "start_time": "2017-01-12T08:58:08.167694"
    },
    "collapsed": true
   },
   "outputs": [],
   "source": [
    "cur = conn.cursor()"
   ]
  },
  {
   "cell_type": "markdown",
   "metadata": {},
   "source": [
    "### Commits\n",
    "\n",
    "- Data changes are not actually stored until you choose to commit\n",
    "- You can choose to have automatic commit by using ` autocommit = True`\n",
    "- When connecting directly to the Postgres Server to initiate server level commands such as creating a database, you must use the `autocommit = True` option since Postgres does not have \"temporary\" transactions at the database level"
   ]
  },
  {
   "cell_type": "code",
   "execution_count": 3,
   "metadata": {
    "ExecuteTime": {
     "end_time": "2017-01-12T08:58:08.202928",
     "start_time": "2017-01-12T08:58:08.186623"
    },
    "collapsed": true
   },
   "outputs": [],
   "source": [
    "conn.autocommit = True"
   ]
  },
  {
   "cell_type": "markdown",
   "metadata": {},
   "source": [
    "###  Create a database"
   ]
  },
  {
   "cell_type": "code",
   "execution_count": 5,
   "metadata": {
    "ExecuteTime": {
     "end_time": "2017-01-12T08:58:08.896355",
     "start_time": "2017-01-12T08:58:08.204962"
    },
    "collapsed": true
   },
   "outputs": [],
   "source": [
    "cur.execute('DROP DATABASE IF EXISTS temp;')\n",
    "cur.execute('CREATE DATABASE temp;')"
   ]
  },
  {
   "cell_type": "markdown",
   "metadata": {},
   "source": [
    "### Disconnect from the cursor and database\n",
    "- Cursors and Connections must be closed using .close() or else Postgres will lock certain operation on the database/tables to connection is severed. "
   ]
  },
  {
   "cell_type": "code",
   "execution_count": null,
   "metadata": {
    "ExecuteTime": {
     "end_time": "2017-01-12T08:58:08.919493",
     "start_time": "2017-01-12T08:58:08.898352"
    },
    "collapsed": true
   },
   "outputs": [],
   "source": [
    "cur.close() # This is optional\n",
    "conn.close() # Closing the connection also closes all cursors"
   ]
  },
  {
   "cell_type": "markdown",
   "metadata": {},
   "source": [
    "# Walkthrough 2: Using the new database"
   ]
  },
  {
   "cell_type": "markdown",
   "metadata": {},
   "source": [
    "### Connect to our database"
   ]
  },
  {
   "cell_type": "code",
   "execution_count": null,
   "metadata": {
    "ExecuteTime": {
     "end_time": "2017-01-12T08:58:08.974359",
     "start_time": "2017-01-12T08:58:08.921473"
    },
    "collapsed": true
   },
   "outputs": [],
   "source": [
    "conn = psycopg2.connect(dbname='temp', host='localhost')"
   ]
  },
  {
   "cell_type": "code",
   "execution_count": null,
   "metadata": {
    "ExecuteTime": {
     "end_time": "2017-01-12T08:58:08.996294",
     "start_time": "2017-01-12T08:58:08.976269"
    },
    "collapsed": true
   },
   "outputs": [],
   "source": [
    "cur = conn.cursor()"
   ]
  },
  {
   "cell_type": "markdown",
   "metadata": {},
   "source": [
    "### Create a new table"
   ]
  },
  {
   "cell_type": "code",
   "execution_count": null,
   "metadata": {
    "ExecuteTime": {
     "end_time": "2017-01-12T08:58:09.021315",
     "start_time": "2017-01-12T08:58:08.998262"
    },
    "collapsed": true
   },
   "outputs": [],
   "source": [
    "query = '''\n",
    "        CREATE TABLE logins (\n",
    "            userid integer, \n",
    "            tmstmp timestamp, \n",
    "            type varchar(10)\n",
    "        );\n",
    "        '''\n",
    "cur.execute(query)"
   ]
  },
  {
   "cell_type": "markdown",
   "metadata": {},
   "source": [
    "### Insert data into new table"
   ]
  },
  {
   "cell_type": "markdown",
   "metadata": {},
   "source": [
    "`os` is needed to get the current directory and, later, dynamically identify the files we need to insert using listdir."
   ]
  },
  {
   "cell_type": "code",
   "execution_count": null,
   "metadata": {
    "ExecuteTime": {
     "end_time": "2017-01-12T08:58:09.043481",
     "start_time": "2017-01-12T08:58:09.023639"
    },
    "collapsed": true
   },
   "outputs": [],
   "source": [
    "import os"
   ]
  },
  {
   "cell_type": "code",
   "execution_count": null,
   "metadata": {
    "ExecuteTime": {
     "end_time": "2017-01-12T08:58:09.069798",
     "start_time": "2017-01-12T08:58:09.045398"
    },
    "collapsed": true
   },
   "outputs": [],
   "source": [
    "path = os.getcwd()"
   ]
  },
  {
   "cell_type": "code",
   "execution_count": null,
   "metadata": {
    "ExecuteTime": {
     "end_time": "2017-01-12T08:58:09.099361",
     "start_time": "2017-01-12T08:58:09.071953"
    },
    "collapsed": true
   },
   "outputs": [],
   "source": [
    "path"
   ]
  },
  {
   "cell_type": "code",
   "execution_count": null,
   "metadata": {
    "ExecuteTime": {
     "end_time": "2017-01-12T08:58:09.189981",
     "start_time": "2017-01-12T08:58:09.101617"
    },
    "collapsed": true
   },
   "outputs": [],
   "source": [
    "query = '''\n",
    "        COPY logins \n",
    "        FROM '{0}/logins_data/logins01.csv' \n",
    "        DELIMITER ',' \n",
    "        CSV;\n",
    "        '''.format(path)\n",
    "cur.execute(query)"
   ]
  },
  {
   "cell_type": "markdown",
   "metadata": {},
   "source": [
    "### Run a query to get 30 records from our data"
   ]
  },
  {
   "cell_type": "code",
   "execution_count": null,
   "metadata": {
    "ExecuteTime": {
     "end_time": "2017-01-12T08:58:09.226774",
     "start_time": "2017-01-12T08:58:09.192623"
    },
    "collapsed": true
   },
   "outputs": [],
   "source": [
    "query = '''\n",
    "        SELECT *\n",
    "        FROM logins\n",
    "        LIMIT 30;\n",
    "        '''\n",
    "cur.execute(query)"
   ]
  },
  {
   "cell_type": "markdown",
   "metadata": {},
   "source": [
    "### Lets look at our data one line at a time"
   ]
  },
  {
   "cell_type": "code",
   "execution_count": null,
   "metadata": {
    "ExecuteTime": {
     "end_time": "2017-01-12T08:58:09.259809",
     "start_time": "2017-01-12T08:58:09.230102"
    },
    "collapsed": true
   },
   "outputs": [],
   "source": [
    "cur.fetchone()"
   ]
  },
  {
   "cell_type": "markdown",
   "metadata": {},
   "source": [
    "### Many lines at a time"
   ]
  },
  {
   "cell_type": "code",
   "execution_count": null,
   "metadata": {
    "ExecuteTime": {
     "end_time": "2017-01-12T08:58:09.281025",
     "start_time": "2017-01-12T08:58:09.261857"
    },
    "collapsed": true
   },
   "outputs": [],
   "source": [
    "#fetchmany(n) to get n rows\n",
    "cur.fetchmany(10)"
   ]
  },
  {
   "cell_type": "markdown",
   "metadata": {},
   "source": [
    "### Or everything at once"
   ]
  },
  {
   "cell_type": "code",
   "execution_count": null,
   "metadata": {
    "ExecuteTime": {
     "end_time": "2017-01-12T08:58:09.308550",
     "start_time": "2017-01-12T08:58:09.284019"
    },
    "collapsed": true
   },
   "outputs": [],
   "source": [
    "#fetchall() grabs all remaining rows\n",
    "results = cur.fetchall()"
   ]
  },
  {
   "cell_type": "code",
   "execution_count": null,
   "metadata": {
    "collapsed": true
   },
   "outputs": [],
   "source": [
    "conn.commit()"
   ]
  },
  {
   "cell_type": "code",
   "execution_count": null,
   "metadata": {
    "ExecuteTime": {
     "end_time": "2017-01-12T08:58:09.340242",
     "start_time": "2017-01-12T08:58:09.309710"
    },
    "collapsed": true
   },
   "outputs": [],
   "source": [
    "type(results)"
   ]
  },
  {
   "cell_type": "code",
   "execution_count": null,
   "metadata": {
    "ExecuteTime": {
     "end_time": "2017-01-12T08:58:09.377396",
     "start_time": "2017-01-12T08:58:09.342447"
    },
    "collapsed": true
   },
   "outputs": [],
   "source": [
    "type(results[0])"
   ]
  },
  {
   "cell_type": "markdown",
   "metadata": {},
   "source": [
    "### You can even iterate over the cursor"
   ]
  },
  {
   "cell_type": "code",
   "execution_count": null,
   "metadata": {
    "ExecuteTime": {
     "end_time": "2017-01-12T08:58:09.417730",
     "start_time": "2017-01-12T08:58:09.380019"
    },
    "collapsed": true
   },
   "outputs": [],
   "source": [
    "cur.execute(query)\n",
    "for record in cur:\n",
    "    print \"{}: user {} logged in via {}\".format(record[1], record[0], record[2])"
   ]
  },
  {
   "cell_type": "markdown",
   "metadata": {},
   "source": [
    "# Dynamic Queries\n",
    "\n",
    "- A Dynamic Query is a query that generates based on context.\n"
   ]
  },
  {
   "cell_type": "markdown",
   "metadata": {},
   "source": [
    "### Example\n",
    "\n",
    "We have 8 login csv files that we need to insert into the logins table.  Instead of doing a COPY FROM query 8 times, we should utilize Python (or any future languages) to make this more efficient.  This is possible due to tokenized strings."
   ]
  },
  {
   "cell_type": "markdown",
   "metadata": {},
   "source": [
    "### First lets get an idea of how many records we start with"
   ]
  },
  {
   "cell_type": "code",
   "execution_count": null,
   "metadata": {
    "ExecuteTime": {
     "end_time": "2017-01-12T08:58:09.446430",
     "start_time": "2017-01-12T08:58:09.421547"
    },
    "collapsed": true
   },
   "outputs": [],
   "source": [
    "cur.execute('SELECT count(*) FROM logins;')\n",
    "record_count = cur.fetchone()[0]\n"
   ]
  },
  {
   "cell_type": "code",
   "execution_count": null,
   "metadata": {
    "ExecuteTime": {
     "end_time": "2017-01-12T08:58:09.471580",
     "start_time": "2017-01-12T08:58:09.451032"
    },
    "collapsed": true
   },
   "outputs": [],
   "source": [
    "record_count"
   ]
  },
  {
   "cell_type": "code",
   "execution_count": null,
   "metadata": {
    "ExecuteTime": {
     "end_time": "2017-01-12T08:58:09.515994",
     "start_time": "2017-01-12T08:58:09.476168"
    },
    "collapsed": true
   },
   "outputs": [],
   "source": [
    "type(record_count)"
   ]
  },
  {
   "cell_type": "markdown",
   "metadata": {},
   "source": [
    "### Create a query template and determine file path for imports"
   ]
  },
  {
   "cell_type": "markdown",
   "metadata": {},
   "source": [
    "Use string formatting to generate a query for each approved file.\n",
    "\n",
    "**[WARNING: BEWARE OF SQL INJECTION](http://initd.org/psycopg/docs/usage.html)**\n",
    "\n",
    "NEVER use + or % or .format to reformat strings to be used with .execute"
   ]
  },
  {
   "cell_type": "code",
   "execution_count": null,
   "metadata": {
    "ExecuteTime": {
     "end_time": "2017-01-12T08:58:09.571188",
     "start_time": "2017-01-12T08:58:09.521349"
    },
    "collapsed": true
   },
   "outputs": [],
   "source": [
    "num = 579\n",
    "terribly_unsafe = \"SELECT * FROM logins WHERE userid = \" + str(num) + \";\"\n",
    "print terribly_unsafe\n",
    "\n",
    "\n",
    "date_cut = \"2014-08-01\"\n",
    "horribly_risky = \"SELECT * FROM logins WHERE tmstmp > %s;\" % date_cut\n",
    "print horribly_risky\n",
    "## Python is happy, but if num or date_cut included something malicious\n",
    "## your data could be at risk"
   ]
  },
  {
   "cell_type": "markdown",
   "metadata": {},
   "source": [
    "### What is an SQL Injection Attack?"
   ]
  },
  {
   "cell_type": "code",
   "execution_count": null,
   "metadata": {
    "ExecuteTime": {
     "end_time": "2017-01-12T08:58:09.596979",
     "start_time": "2017-01-12T08:58:09.573540"
    },
    "collapsed": true
   },
   "outputs": [],
   "source": [
    "date_cut = \"2014-08-01; DROP TABLE logins\" # The user enters a date in a field on a web form\n",
    "horribly_risky = \"SELECT * FROM logins WHERE tmstmp > %s;\" % date_cut\n",
    "print horribly_risky"
   ]
  },
  {
   "cell_type": "markdown",
   "metadata": {},
   "source": [
    "### Practice safe SQL with Psycopg2"
   ]
  },
  {
   "cell_type": "code",
   "execution_count": null,
   "metadata": {
    "ExecuteTime": {
     "end_time": "2017-01-12T08:58:09.614272",
     "start_time": "2017-01-12T08:58:09.599957"
    },
    "collapsed": true
   },
   "outputs": [],
   "source": [
    "query = '''\n",
    "        COPY logins \n",
    "        FROM %(file_path)s\n",
    "        DELIMITER ','\n",
    "        CSV;\n",
    "        '''"
   ]
  },
  {
   "cell_type": "code",
   "execution_count": null,
   "metadata": {
    "collapsed": true
   },
   "outputs": [],
   "source": [
    "path"
   ]
  },
  {
   "cell_type": "code",
   "execution_count": null,
   "metadata": {
    "ExecuteTime": {
     "end_time": "2017-01-12T08:58:10.030936",
     "start_time": "2017-01-12T08:58:09.615754"
    },
    "collapsed": true
   },
   "outputs": [],
   "source": [
    "folder_path = path + '/logins_data/'\n",
    "for file_name in os.listdir(folder_path):\n",
    "    if file_name.endswith('.csv') and file_name != 'logins01.csv':\n",
    "        path_=folder_path+file_name\n",
    "        cur.execute(query, {'file_path':path_})\n",
    "        print '{0} inserted into table.'.format(file_name)"
   ]
  },
  {
   "cell_type": "markdown",
   "metadata": {},
   "source": [
    "### Visit [bobby-tables.com](http://www.bobby-tables.com/) to learn more about SQL safety.\n",
    "\n"
   ]
  },
  {
   "cell_type": "markdown",
   "metadata": {},
   "source": [
    "### Let's check the total number of records we have right now."
   ]
  },
  {
   "cell_type": "code",
   "execution_count": null,
   "metadata": {
    "ExecuteTime": {
     "end_time": "2017-01-12T08:58:10.065091",
     "start_time": "2017-01-12T08:58:10.033034"
    },
    "collapsed": true
   },
   "outputs": [],
   "source": [
    "print \"Old record count: {}\".format(record_count)\n",
    "\n",
    "cur.execute('SELECT count(*) FROM logins;')\n",
    "record_count = cur.fetchone()[0]\n",
    "\n",
    "print \"New record count: {}\".format(record_count)"
   ]
  },
  {
   "cell_type": "markdown",
   "metadata": {
    "ExecuteTime": {
     "end_time": "2017-01-12T08:57:22.334048",
     "start_time": "2017-01-12T08:57:22.321062"
    }
   },
   "source": [
    "### Transactions can be rolled back until they're committed"
   ]
  },
  {
   "cell_type": "code",
   "execution_count": null,
   "metadata": {
    "ExecuteTime": {
     "end_time": "2017-01-12T08:58:10.188575",
     "start_time": "2017-01-12T08:58:10.067757"
    },
    "collapsed": true
   },
   "outputs": [],
   "source": [
    "conn.rollback()\n",
    "#conn.commit()\n",
    "\n",
    "cur.execute('SELECT count(*) FROM logins;')\n",
    "record_count = cur.fetchone()[0]\n",
    "\n",
    "print \"After rollback: {}\".format(record_count)"
   ]
  },
  {
   "cell_type": "markdown",
   "metadata": {},
   "source": [
    "### Don't forget to commit your changes"
   ]
  },
  {
   "cell_type": "code",
   "execution_count": null,
   "metadata": {
    "ExecuteTime": {
     "end_time": "2017-01-12T08:58:10.189096",
     "start_time": "2017-01-12T16:58:08.148Z"
    },
    "collapsed": true
   },
   "outputs": [],
   "source": [
    "conn.commit()"
   ]
  },
  {
   "cell_type": "markdown",
   "metadata": {},
   "source": [
    "### Close your connection"
   ]
  },
  {
   "cell_type": "code",
   "execution_count": null,
   "metadata": {
    "ExecuteTime": {
     "end_time": "2017-01-12T08:58:10.189407",
     "start_time": "2017-01-12T16:58:08.149Z"
    },
    "collapsed": true
   },
   "outputs": [],
   "source": [
    "conn.close()"
   ]
  },
  {
   "cell_type": "markdown",
   "metadata": {},
   "source": [
    "### Using With Statements"
   ]
  },
  {
   "cell_type": "code",
   "execution_count": null,
   "metadata": {
    "ExecuteTime": {
     "end_time": "2017-01-12T08:58:10.189716",
     "start_time": "2017-01-12T16:58:08.151Z"
    },
    "collapsed": true
   },
   "outputs": [],
   "source": [
    "#Auto commits/roll backs\n",
    "query = \"SELECT count(*) FROM logins;\"\n",
    "with psycopg2.connect(dbname='temp', host='localhost') as conn:\n",
    "    with conn.cursor() as curs:\n",
    "        print(\"Cursor inside with block: {}\".format(curs))\n",
    "        curs.execute(query)\n",
    "    print(\"Cursor outside with block: {}\".format(curs))\n",
    "    "
   ]
  },
  {
   "cell_type": "markdown",
   "metadata": {
    "ExecuteTime": {
     "end_time": "2017-01-12T08:51:21.531861",
     "start_time": "2017-01-12T08:51:21.518559"
    }
   },
   "source": [
    "### Note that the connection is *not* closed automatically:"
   ]
  },
  {
   "cell_type": "code",
   "execution_count": null,
   "metadata": {
    "ExecuteTime": {
     "end_time": "2017-01-12T08:58:10.189999",
     "start_time": "2017-01-12T16:58:08.153Z"
    },
    "collapsed": true
   },
   "outputs": [],
   "source": [
    "conn"
   ]
  },
  {
   "cell_type": "code",
   "execution_count": null,
   "metadata": {
    "ExecuteTime": {
     "end_time": "2017-01-12T08:58:10.190294",
     "start_time": "2017-01-12T16:58:08.154Z"
    },
    "collapsed": true
   },
   "outputs": [],
   "source": [
    "conn.close()\n",
    "conn"
   ]
  },
  {
   "cell_type": "markdown",
   "metadata": {},
   "source": [
    "# Key Things to Remember\n",
    "\n",
    "* Connections must be established using an existing database, username, database IP/URL, and maybe passwords\n",
    "* If you have no created databases, you can connect to Postgres using the dbname 'postgres' to initialize db commands\n",
    "* Data changes are not actually stored until you choose to commit. This can be done either through `conn.commit()` or setting `autocommit = True`.  Until commited, all transactions is only temporary stored.\n",
    "* Autocommit = True is necessary to do database commands like CREATE DATABASE.  This is because Postgres does not have temporary transactions at the database level.\n",
    "* If you ever need to build similar pipelines for other forms of database, there are libraries such PyODBC which operate very similarly.\n",
    "* SQL connection databases utilizes cursors for data traversal and retrieval.  This is kind of like an iterator in Python.\n",
    "* Cursor operations typically goes like the following:\n",
    "    - execute a query\n",
    "    - fetch rows from query result if it is a SELECT query\n",
    "    - because it is iterative, previously fetched rows can only be fetched again by rerunning the query\n",
    "    - close cursor through .close()\n",
    "* Cursors and Connections must be closed using .close() or else Postgres will lock certain operation on the database/tables to connection is severed. "
   ]
  },
  {
   "cell_type": "markdown",
   "metadata": {
    "collapsed": true
   },
   "source": [
    "# Exercise\n",
    "\n",
    "You're given a file called `playgolf.csv` in the data folder.  The file is comma delimited and the first row is the header.  Without opening and looking at the file, create a table and insert the data. Here is the header and first row:\n",
    "\n",
    "\n",
    "|Date|Outlook|Temperature|Humidity|Windy|Result|\n",
    "|----|-------|-----------|--------|-----|------|\n",
    "|07-01-2014|sunny|85|85|false|Don't Play|\n",
    "\n",
    "\n",
    "\n",
    "Soln\n",
    "--------\n",
    "\n",
    "<details><summary>\n",
    "Query to create the table\n",
    "</summary>\n",
    "CREATE TABLE playgolf (\n",
    "            Date date, \n",
    "            Outlook varchar(10), \n",
    "            Temperature int,\n",
    "            Humidity int,\n",
    "            Windy varchar(10),\n",
    "            Result varchar(10)\n",
    "        );\n",
    "</details>\n"
   ]
  },
  {
   "cell_type": "code",
   "execution_count": null,
   "metadata": {
    "collapsed": true
   },
   "outputs": [],
   "source": [
    "conn = psycopg2.connect(dbname='temp', host='localhost')\n",
    "cur = conn.cursor()\n",
    "\n",
    "query = '''\n",
    "        CREATE TABLE playgolf (\n",
    "            Date date, \n",
    "            Outlook varchar(10), \n",
    "            Temperature int,\n",
    "            Humidity int,\n",
    "            Windy varchar(10),\n",
    "            Result varchar(10)\n",
    "        );\n",
    "        '''\n",
    "\n",
    "cur.execute(query)"
   ]
  },
  {
   "cell_type": "code",
   "execution_count": null,
   "metadata": {
    "collapsed": true
   },
   "outputs": [],
   "source": [
    "query = '''\n",
    "        COPY playgolf \n",
    "        FROM '{}/playgolf.csv' \n",
    "        CSV HEADER \n",
    "        DELIMITER AS ',';\n",
    "        '''.format(path)\n",
    "cur.execute(query)"
   ]
  },
  {
   "cell_type": "code",
   "execution_count": null,
   "metadata": {
    "collapsed": true
   },
   "outputs": [],
   "source": [
    "res = cur.execute('SELECT * from playgolf;')"
   ]
  },
  {
   "cell_type": "code",
   "execution_count": null,
   "metadata": {
    "collapsed": true
   },
   "outputs": [],
   "source": [
    "cur.description"
   ]
  },
  {
   "cell_type": "code",
   "execution_count": 21,
   "metadata": {
    "collapsed": true
   },
   "outputs": [],
   "source": [
    "rc_conn = psycopg2.connect(dbname='readychef', host='localhost')"
   ]
  },
  {
   "cell_type": "code",
   "execution_count": 22,
   "metadata": {
    "collapsed": true
   },
   "outputs": [],
   "source": [
    "table_query = \"select relname from pg_class where relkind='r' and relname !~ '^(pg_|sql_)';\"\n",
    "rc_cur = rc_conn.cursor()"
   ]
  },
  {
   "cell_type": "code",
   "execution_count": null,
   "metadata": {
    "collapsed": true
   },
   "outputs": [],
   "source": [
    "rc_cur.execute(table_query)"
   ]
  },
  {
   "cell_type": "code",
   "execution_count": null,
   "metadata": {
    "collapsed": true
   },
   "outputs": [],
   "source": [
    "rc_cur.fetchall()"
   ]
  },
  {
   "cell_type": "code",
   "execution_count": null,
   "metadata": {
    "collapsed": true
   },
   "outputs": [],
   "source": [
    "q= \"\"\"\n",
    "SELECT userid, \n",
    "    CASE \n",
    "     WHEN campaign_id = 'PI' THEN 'Pinterest'\n",
    "     WHEN campaign_id = 'FB' THEN 'FaceBook'\n",
    "     WHEN campaign_id = 'tw' THEN 'Twitter'\n",
    "     ELSE 't'\n",
    "    END\n",
    "FROM users\n",
    "LIMIT 10;\n",
    "\"\"\""
   ]
  },
  {
   "cell_type": "code",
   "execution_count": null,
   "metadata": {
    "collapsed": true
   },
   "outputs": [],
   "source": [
    "rc_cur.execute(q)\n",
    "rc_cur.fetchall()"
   ]
  },
  {
   "cell_type": "code",
   "execution_count": null,
   "metadata": {
    "collapsed": true
   },
   "outputs": [],
   "source": [
    "rc_cur.description"
   ]
  },
  {
   "cell_type": "code",
   "execution_count": null,
   "metadata": {
    "collapsed": true
   },
   "outputs": [],
   "source": [
    "q= \"\"\"\n",
    "SELECT type, price, \n",
    "    avg(price) OVER (PARTITION BY type)\n",
    "FROM meals;\n",
    "\"\"\""
   ]
  },
  {
   "cell_type": "code",
   "execution_count": null,
   "metadata": {
    "collapsed": true
   },
   "outputs": [],
   "source": [
    "rc_cur.execute(q)\n",
    "rc_cur.fetchall()"
   ]
  },
  {
   "cell_type": "code",
   "execution_count": null,
   "metadata": {
    "collapsed": true
   },
   "outputs": [],
   "source": [
    "rc_cur.description"
   ]
  },
  {
   "cell_type": "code",
   "execution_count": 23,
   "metadata": {
    "collapsed": true
   },
   "outputs": [],
   "source": [
    "q= \"\"\"\n",
    "SELECT type, price,\n",
    "    max(price) OVER (PARTITION BY type)\n",
    "FROM meals\n",
    "WHERE ;\n",
    "\"\"\""
   ]
  },
  {
   "cell_type": "code",
   "execution_count": 24,
   "metadata": {},
   "outputs": [
    {
     "data": {
      "text/plain": [
       "[('chinese', 6, 13),\n",
       " ('chinese', 8, 13),\n",
       " ('chinese', 7, 13),\n",
       " ('chinese', 9, 13),\n",
       " ('chinese', 8, 13),\n",
       " ('chinese', 6, 13),\n",
       " ('chinese', 12, 13),\n",
       " ('chinese', 6, 13),\n",
       " ('chinese', 6, 13),\n",
       " ('chinese', 7, 13),\n",
       " ('chinese', 8, 13),\n",
       " ('chinese', 8, 13),\n",
       " ('chinese', 10, 13),\n",
       " ('chinese', 7, 13),\n",
       " ('chinese', 13, 13),\n",
       " ('chinese', 9, 13),\n",
       " ('chinese', 13, 13),\n",
       " ('chinese', 10, 13),\n",
       " ('chinese', 11, 13),\n",
       " ('chinese', 11, 13),\n",
       " ('chinese', 12, 13),\n",
       " ('chinese', 11, 13),\n",
       " ('chinese', 12, 13),\n",
       " ('chinese', 11, 13),\n",
       " ('chinese', 11, 13),\n",
       " ('chinese', 10, 13),\n",
       " ('chinese', 12, 13),\n",
       " ('chinese', 6, 13),\n",
       " ('chinese', 10, 13),\n",
       " ('chinese', 8, 13),\n",
       " ('chinese', 12, 13),\n",
       " ('chinese', 6, 13),\n",
       " ('chinese', 13, 13),\n",
       " ('chinese', 11, 13),\n",
       " ('chinese', 8, 13),\n",
       " ('chinese', 6, 13),\n",
       " ('chinese', 8, 13),\n",
       " ('chinese', 12, 13),\n",
       " ('chinese', 13, 13),\n",
       " ('chinese', 7, 13),\n",
       " ('chinese', 9, 13),\n",
       " ('chinese', 10, 13),\n",
       " ('chinese', 13, 13),\n",
       " ('chinese', 10, 13),\n",
       " ('chinese', 7, 13),\n",
       " ('chinese', 10, 13),\n",
       " ('chinese', 6, 13),\n",
       " ('chinese', 11, 13),\n",
       " ('chinese', 12, 13),\n",
       " ('chinese', 7, 13),\n",
       " ('chinese', 11, 13),\n",
       " ('chinese', 8, 13),\n",
       " ('chinese', 11, 13),\n",
       " ('chinese', 9, 13),\n",
       " ('chinese', 13, 13),\n",
       " ('chinese', 7, 13),\n",
       " ('chinese', 11, 13),\n",
       " ('chinese', 7, 13),\n",
       " ('chinese', 9, 13),\n",
       " ('chinese', 8, 13),\n",
       " ('chinese', 7, 13),\n",
       " ('chinese', 6, 13),\n",
       " ('chinese', 9, 13),\n",
       " ('chinese', 8, 13),\n",
       " ('chinese', 9, 13),\n",
       " ('chinese', 13, 13),\n",
       " ('chinese', 6, 13),\n",
       " ('chinese', 11, 13),\n",
       " ('chinese', 7, 13),\n",
       " ('chinese', 12, 13),\n",
       " ('chinese', 13, 13),\n",
       " ('chinese', 10, 13),\n",
       " ('chinese', 10, 13),\n",
       " ('chinese', 11, 13),\n",
       " ('chinese', 11, 13),\n",
       " ('chinese', 8, 13),\n",
       " ('chinese', 7, 13),\n",
       " ('chinese', 7, 13),\n",
       " ('chinese', 6, 13),\n",
       " ('chinese', 10, 13),\n",
       " ('chinese', 6, 13),\n",
       " ('chinese', 10, 13),\n",
       " ('chinese', 12, 13),\n",
       " ('chinese', 6, 13),\n",
       " ('chinese', 10, 13),\n",
       " ('chinese', 6, 13),\n",
       " ('chinese', 11, 13),\n",
       " ('chinese', 8, 13),\n",
       " ('chinese', 9, 13),\n",
       " ('chinese', 13, 13),\n",
       " ('chinese', 13, 13),\n",
       " ('chinese', 13, 13),\n",
       " ('chinese', 6, 13),\n",
       " ('chinese', 12, 13),\n",
       " ('chinese', 12, 13),\n",
       " ('chinese', 12, 13),\n",
       " ('chinese', 10, 13),\n",
       " ('chinese', 10, 13),\n",
       " ('chinese', 10, 13),\n",
       " ('chinese', 11, 13),\n",
       " ('chinese', 9, 13),\n",
       " ('chinese', 13, 13),\n",
       " ('chinese', 10, 13),\n",
       " ('chinese', 10, 13),\n",
       " ('chinese', 13, 13),\n",
       " ('chinese', 13, 13),\n",
       " ('chinese', 6, 13),\n",
       " ('chinese', 13, 13),\n",
       " ('chinese', 8, 13),\n",
       " ('chinese', 6, 13),\n",
       " ('chinese', 6, 13),\n",
       " ('chinese', 8, 13),\n",
       " ('chinese', 6, 13),\n",
       " ('chinese', 13, 13),\n",
       " ('chinese', 7, 13),\n",
       " ('chinese', 8, 13),\n",
       " ('chinese', 8, 13),\n",
       " ('chinese', 7, 13),\n",
       " ('chinese', 13, 13),\n",
       " ('chinese', 8, 13),\n",
       " ('chinese', 11, 13),\n",
       " ('chinese', 12, 13),\n",
       " ('chinese', 9, 13),\n",
       " ('chinese', 6, 13),\n",
       " ('chinese', 11, 13),\n",
       " ('chinese', 11, 13),\n",
       " ('chinese', 13, 13),\n",
       " ('chinese', 8, 13),\n",
       " ('chinese', 13, 13),\n",
       " ('chinese', 13, 13),\n",
       " ('chinese', 9, 13),\n",
       " ('chinese', 12, 13),\n",
       " ('chinese', 12, 13),\n",
       " ('chinese', 8, 13),\n",
       " ('chinese', 8, 13),\n",
       " ('chinese', 12, 13),\n",
       " ('chinese', 12, 13),\n",
       " ('chinese', 10, 13),\n",
       " ('chinese', 13, 13),\n",
       " ('chinese', 12, 13),\n",
       " ('chinese', 12, 13),\n",
       " ('chinese', 8, 13),\n",
       " ('chinese', 10, 13),\n",
       " ('chinese', 13, 13),\n",
       " ('chinese', 6, 13),\n",
       " ('chinese', 12, 13),\n",
       " ('chinese', 13, 13),\n",
       " ('chinese', 8, 13),\n",
       " ('chinese', 9, 13),\n",
       " ('chinese', 7, 13),\n",
       " ('chinese', 10, 13),\n",
       " ('chinese', 7, 13),\n",
       " ('chinese', 12, 13),\n",
       " ('chinese', 9, 13),\n",
       " ('chinese', 11, 13),\n",
       " ('chinese', 6, 13),\n",
       " ('chinese', 12, 13),\n",
       " ('chinese', 8, 13),\n",
       " ('chinese', 7, 13),\n",
       " ('chinese', 8, 13),\n",
       " ('chinese', 8, 13),\n",
       " ('chinese', 8, 13),\n",
       " ('chinese', 9, 13),\n",
       " ('chinese', 9, 13),\n",
       " ('chinese', 11, 13),\n",
       " ('chinese', 11, 13),\n",
       " ('chinese', 7, 13),\n",
       " ('chinese', 9, 13),\n",
       " ('chinese', 6, 13),\n",
       " ('chinese', 8, 13),\n",
       " ('chinese', 13, 13),\n",
       " ('chinese', 8, 13),\n",
       " ('chinese', 10, 13),\n",
       " ('chinese', 10, 13),\n",
       " ('chinese', 10, 13),\n",
       " ('chinese', 9, 13),\n",
       " ('chinese', 9, 13),\n",
       " ('chinese', 8, 13),\n",
       " ('chinese', 12, 13),\n",
       " ('chinese', 11, 13),\n",
       " ('chinese', 8, 13),\n",
       " ('chinese', 10, 13),\n",
       " ('chinese', 6, 13),\n",
       " ('chinese', 7, 13),\n",
       " ('chinese', 8, 13),\n",
       " ('chinese', 11, 13),\n",
       " ('chinese', 12, 13),\n",
       " ('french', 13, 16),\n",
       " ('french', 8, 16),\n",
       " ('french', 8, 16),\n",
       " ('french', 7, 16),\n",
       " ('french', 16, 16),\n",
       " ('french', 10, 16),\n",
       " ('french', 10, 16),\n",
       " ('french', 15, 16),\n",
       " ('french', 12, 16),\n",
       " ('french', 15, 16),\n",
       " ('french', 13, 16),\n",
       " ('french', 16, 16),\n",
       " ('french', 11, 16),\n",
       " ('french', 14, 16),\n",
       " ('french', 12, 16),\n",
       " ('french', 9, 16),\n",
       " ('french', 13, 16),\n",
       " ('french', 8, 16),\n",
       " ('french', 9, 16),\n",
       " ('french', 11, 16),\n",
       " ('french', 9, 16),\n",
       " ('french', 9, 16),\n",
       " ('french', 7, 16),\n",
       " ('french', 8, 16),\n",
       " ('french', 10, 16),\n",
       " ('french', 11, 16),\n",
       " ('french', 11, 16),\n",
       " ('french', 9, 16),\n",
       " ('french', 15, 16),\n",
       " ('french', 11, 16),\n",
       " ('french', 8, 16),\n",
       " ('french', 7, 16),\n",
       " ('french', 14, 16),\n",
       " ('french', 14, 16),\n",
       " ('french', 16, 16),\n",
       " ('french', 7, 16),\n",
       " ('french', 10, 16),\n",
       " ('french', 7, 16),\n",
       " ('french', 15, 16),\n",
       " ('french', 10, 16),\n",
       " ('french', 10, 16),\n",
       " ('french', 8, 16),\n",
       " ('french', 10, 16),\n",
       " ('french', 16, 16),\n",
       " ('french', 9, 16),\n",
       " ('french', 14, 16),\n",
       " ('french', 14, 16),\n",
       " ('french', 13, 16),\n",
       " ('french', 8, 16),\n",
       " ('french', 9, 16),\n",
       " ('french', 10, 16),\n",
       " ('french', 14, 16),\n",
       " ('french', 13, 16),\n",
       " ('french', 10, 16),\n",
       " ('french', 13, 16),\n",
       " ('french', 11, 16),\n",
       " ('french', 9, 16),\n",
       " ('french', 14, 16),\n",
       " ('french', 11, 16),\n",
       " ('french', 11, 16),\n",
       " ('french', 16, 16),\n",
       " ('french', 9, 16),\n",
       " ('french', 16, 16),\n",
       " ('french', 11, 16),\n",
       " ('french', 12, 16),\n",
       " ('french', 14, 16),\n",
       " ('french', 10, 16),\n",
       " ('french', 12, 16),\n",
       " ('french', 14, 16),\n",
       " ('french', 12, 16),\n",
       " ('french', 11, 16),\n",
       " ('french', 16, 16),\n",
       " ('french', 12, 16),\n",
       " ('french', 10, 16),\n",
       " ('french', 15, 16),\n",
       " ('french', 7, 16),\n",
       " ('french', 12, 16),\n",
       " ('french', 10, 16),\n",
       " ('french', 7, 16),\n",
       " ('french', 15, 16),\n",
       " ('french', 9, 16),\n",
       " ('french', 13, 16),\n",
       " ('french', 12, 16),\n",
       " ('french', 9, 16),\n",
       " ('french', 8, 16),\n",
       " ('french', 12, 16),\n",
       " ('french', 7, 16),\n",
       " ('french', 13, 16),\n",
       " ('french', 16, 16),\n",
       " ('french', 14, 16),\n",
       " ('french', 12, 16),\n",
       " ('french', 13, 16),\n",
       " ('french', 15, 16),\n",
       " ('french', 16, 16),\n",
       " ('french', 13, 16),\n",
       " ('french', 8, 16),\n",
       " ('french', 16, 16),\n",
       " ('french', 11, 16),\n",
       " ('french', 10, 16),\n",
       " ('french', 16, 16),\n",
       " ('french', 13, 16),\n",
       " ('french', 9, 16),\n",
       " ('french', 13, 16),\n",
       " ('french', 15, 16),\n",
       " ('french', 11, 16),\n",
       " ('french', 13, 16),\n",
       " ('french', 9, 16),\n",
       " ('french', 11, 16),\n",
       " ('french', 7, 16),\n",
       " ('french', 7, 16),\n",
       " ('french', 13, 16),\n",
       " ('french', 11, 16),\n",
       " ('french', 15, 16),\n",
       " ('french', 15, 16),\n",
       " ('french', 11, 16),\n",
       " ('french', 14, 16),\n",
       " ('french', 13, 16),\n",
       " ('french', 14, 16),\n",
       " ('french', 12, 16),\n",
       " ('french', 14, 16),\n",
       " ('french', 11, 16),\n",
       " ('french', 9, 16),\n",
       " ('french', 7, 16),\n",
       " ('french', 7, 16),\n",
       " ('french', 14, 16),\n",
       " ('french', 16, 16),\n",
       " ('french', 7, 16),\n",
       " ('french', 13, 16),\n",
       " ('french', 16, 16),\n",
       " ('french', 16, 16),\n",
       " ('french', 16, 16),\n",
       " ('french', 7, 16),\n",
       " ('french', 15, 16),\n",
       " ('french', 16, 16),\n",
       " ('french', 16, 16),\n",
       " ('french', 14, 16),\n",
       " ('french', 10, 16),\n",
       " ('french', 15, 16),\n",
       " ('french', 10, 16),\n",
       " ('french', 9, 16),\n",
       " ('french', 15, 16),\n",
       " ('french', 8, 16),\n",
       " ('french', 14, 16),\n",
       " ('french', 12, 16),\n",
       " ('french', 15, 16),\n",
       " ('french', 16, 16),\n",
       " ('french', 9, 16),\n",
       " ('french', 15, 16),\n",
       " ('french', 9, 16),\n",
       " ('french', 13, 16),\n",
       " ('french', 14, 16),\n",
       " ('french', 14, 16),\n",
       " ('french', 9, 16),\n",
       " ('french', 11, 16),\n",
       " ('french', 9, 16),\n",
       " ('french', 15, 16),\n",
       " ('french', 8, 16),\n",
       " ('french', 10, 16),\n",
       " ('french', 16, 16),\n",
       " ('french', 15, 16),\n",
       " ('french', 14, 16),\n",
       " ('french', 7, 16),\n",
       " ('french', 12, 16),\n",
       " ('french', 15, 16),\n",
       " ('french', 10, 16),\n",
       " ('french', 14, 16),\n",
       " ('french', 11, 16),\n",
       " ('french', 14, 16),\n",
       " ('french', 7, 16),\n",
       " ('french', 16, 16),\n",
       " ('french', 12, 16),\n",
       " ('french', 14, 16),\n",
       " ('french', 13, 16),\n",
       " ('french', 9, 16),\n",
       " ('french', 7, 16),\n",
       " ('french', 7, 16),\n",
       " ('french', 8, 16),\n",
       " ('french', 11, 16),\n",
       " ('french', 14, 16),\n",
       " ('french', 16, 16),\n",
       " ('french', 10, 16),\n",
       " ('french', 14, 16),\n",
       " ('french', 11, 16),\n",
       " ('french', 9, 16),\n",
       " ('french', 8, 16),\n",
       " ('french', 10, 16),\n",
       " ('french', 8, 16),\n",
       " ('french', 13, 16),\n",
       " ('french', 7, 16),\n",
       " ('french', 7, 16),\n",
       " ('french', 15, 16),\n",
       " ('french', 8, 16),\n",
       " ('french', 8, 16),\n",
       " ('french', 8, 16),\n",
       " ('french', 9, 16),\n",
       " ('french', 9, 16),\n",
       " ('french', 14, 16),\n",
       " ('french', 16, 16),\n",
       " ('french', 14, 16),\n",
       " ('french', 14, 16),\n",
       " ('french', 16, 16),\n",
       " ('french', 9, 16),\n",
       " ('french', 12, 16),\n",
       " ('french', 8, 16),\n",
       " ('french', 13, 16),\n",
       " ('french', 16, 16),\n",
       " ('french', 8, 16),\n",
       " ('french', 10, 16),\n",
       " ('french', 15, 16),\n",
       " ('french', 9, 16),\n",
       " ('french', 7, 16),\n",
       " ('french', 12, 16),\n",
       " ('french', 9, 16),\n",
       " ('french', 15, 16),\n",
       " ('french', 14, 16),\n",
       " ('french', 8, 16),\n",
       " ('french', 7, 16),\n",
       " ('french', 10, 16),\n",
       " ('french', 13, 16),\n",
       " ('french', 9, 16),\n",
       " ('french', 15, 16),\n",
       " ('french', 9, 16),\n",
       " ('french', 7, 16),\n",
       " ('french', 8, 16),\n",
       " ('french', 10, 16),\n",
       " ('french', 10, 16),\n",
       " ('french', 10, 16),\n",
       " ('french', 8, 16),\n",
       " ('french', 10, 16),\n",
       " ('french', 15, 16),\n",
       " ('french', 12, 16),\n",
       " ('french', 9, 16),\n",
       " ('french', 15, 16),\n",
       " ('french', 8, 16),\n",
       " ('french', 8, 16),\n",
       " ('french', 10, 16),\n",
       " ('french', 16, 16),\n",
       " ('french', 10, 16),\n",
       " ('french', 10, 16),\n",
       " ('french', 7, 16),\n",
       " ('french', 7, 16),\n",
       " ('french', 8, 16),\n",
       " ('french', 10, 16),\n",
       " ('french', 7, 16),\n",
       " ('french', 8, 16),\n",
       " ('french', 11, 16),\n",
       " ('french', 11, 16),\n",
       " ('french', 14, 16),\n",
       " ('french', 11, 16),\n",
       " ('french', 14, 16),\n",
       " ('french', 8, 16),\n",
       " ('french', 10, 16),\n",
       " ('french', 13, 16),\n",
       " ('french', 12, 16),\n",
       " ('french', 16, 16),\n",
       " ('french', 10, 16),\n",
       " ('french', 9, 16),\n",
       " ('french', 11, 16),\n",
       " ('french', 13, 16),\n",
       " ('french', 12, 16),\n",
       " ('french', 8, 16),\n",
       " ('french', 7, 16),\n",
       " ('french', 10, 16),\n",
       " ('french', 10, 16),\n",
       " ('french', 8, 16),\n",
       " ('french', 14, 16),\n",
       " ('french', 12, 16),\n",
       " ('french', 11, 16),\n",
       " ('french', 9, 16),\n",
       " ('french', 15, 16),\n",
       " ('french', 12, 16),\n",
       " ('french', 14, 16),\n",
       " ('french', 10, 16),\n",
       " ('french', 15, 16),\n",
       " ('french', 16, 16),\n",
       " ('french', 16, 16),\n",
       " ('french', 14, 16),\n",
       " ('french', 16, 16),\n",
       " ('french', 9, 16),\n",
       " ('french', 9, 16),\n",
       " ('french', 9, 16),\n",
       " ('french', 15, 16),\n",
       " ('french', 12, 16),\n",
       " ('french', 11, 16),\n",
       " ('french', 15, 16),\n",
       " ('french', 12, 16),\n",
       " ('french', 8, 16),\n",
       " ('french', 16, 16),\n",
       " ('french', 16, 16),\n",
       " ('french', 11, 16),\n",
       " ('french', 16, 16),\n",
       " ('french', 16, 16),\n",
       " ('french', 11, 16),\n",
       " ('french', 13, 16),\n",
       " ('french', 11, 16),\n",
       " ('french', 10, 16),\n",
       " ('french', 11, 16),\n",
       " ('french', 14, 16),\n",
       " ('french', 14, 16),\n",
       " ('french', 12, 16),\n",
       " ('french', 10, 16),\n",
       " ('french', 11, 16),\n",
       " ('french', 15, 16),\n",
       " ('french', 9, 16),\n",
       " ('french', 11, 16),\n",
       " ('french', 10, 16),\n",
       " ('french', 8, 16),\n",
       " ('french', 11, 16),\n",
       " ('french', 8, 16),\n",
       " ('french', 15, 16),\n",
       " ('french', 7, 16),\n",
       " ('french', 16, 16),\n",
       " ('french', 16, 16),\n",
       " ('french', 12, 16),\n",
       " ('french', 7, 16),\n",
       " ('french', 16, 16),\n",
       " ('french', 11, 16),\n",
       " ('french', 7, 16),\n",
       " ('french', 11, 16),\n",
       " ('french', 14, 16),\n",
       " ('french', 12, 16),\n",
       " ('french', 7, 16),\n",
       " ('french', 10, 16),\n",
       " ('french', 13, 16),\n",
       " ('french', 14, 16),\n",
       " ('french', 15, 16),\n",
       " ('french', 15, 16),\n",
       " ('french', 15, 16),\n",
       " ('french', 10, 16),\n",
       " ('french', 10, 16),\n",
       " ('french', 8, 16),\n",
       " ('french', 16, 16),\n",
       " ('french', 8, 16),\n",
       " ('french', 13, 16),\n",
       " ('french', 14, 16),\n",
       " ('french', 7, 16),\n",
       " ('french', 7, 16),\n",
       " ('french', 12, 16),\n",
       " ('french', 9, 16),\n",
       " ('french', 13, 16),\n",
       " ('french', 16, 16),\n",
       " ('french', 8, 16),\n",
       " ('french', 12, 16),\n",
       " ('french', 8, 16),\n",
       " ('french', 12, 16),\n",
       " ('french', 9, 16),\n",
       " ('french', 15, 16),\n",
       " ('french', 14, 16),\n",
       " ('french', 15, 16),\n",
       " ('french', 15, 16),\n",
       " ('french', 10, 16),\n",
       " ('french', 10, 16),\n",
       " ('french', 15, 16),\n",
       " ('french', 16, 16),\n",
       " ('french', 9, 16),\n",
       " ('french', 15, 16),\n",
       " ('french', 9, 16),\n",
       " ('french', 10, 16),\n",
       " ('french', 9, 16),\n",
       " ('french', 14, 16),\n",
       " ('french', 9, 16),\n",
       " ('french', 9, 16),\n",
       " ('french', 14, 16),\n",
       " ('french', 16, 16),\n",
       " ('french', 10, 16),\n",
       " ('french', 9, 16),\n",
       " ('french', 8, 16),\n",
       " ('french', 14, 16),\n",
       " ('french', 9, 16),\n",
       " ('french', 16, 16),\n",
       " ('french', 10, 16),\n",
       " ('french', 10, 16),\n",
       " ('french', 11, 16),\n",
       " ('french', 10, 16),\n",
       " ('french', 7, 16),\n",
       " ('french', 14, 16),\n",
       " ('french', 16, 16),\n",
       " ('french', 15, 16),\n",
       " ('french', 8, 16),\n",
       " ('french', 11, 16),\n",
       " ('french', 16, 16),\n",
       " ('french', 7, 16),\n",
       " ('french', 12, 16),\n",
       " ('french', 11, 16),\n",
       " ('french', 12, 16),\n",
       " ('french', 11, 16),\n",
       " ('french', 7, 16),\n",
       " ('french', 12, 16),\n",
       " ('french', 13, 16),\n",
       " ('french', 9, 16),\n",
       " ('french', 8, 16),\n",
       " ('french', 12, 16),\n",
       " ('french', 13, 16),\n",
       " ('french', 10, 16),\n",
       " ('french', 8, 16),\n",
       " ('french', 11, 16),\n",
       " ('french', 11, 16),\n",
       " ('french', 13, 16),\n",
       " ('french', 12, 16),\n",
       " ('french', 8, 16),\n",
       " ('french', 8, 16),\n",
       " ('french', 11, 16),\n",
       " ('french', 9, 16),\n",
       " ('french', 12, 16),\n",
       " ('french', 12, 16),\n",
       " ('french', 11, 16),\n",
       " ('french', 9, 16),\n",
       " ('french', 11, 16),\n",
       " ('french', 15, 16),\n",
       " ('french', 14, 16),\n",
       " ('french', 15, 16),\n",
       " ('french', 10, 16),\n",
       " ('french', 15, 16),\n",
       " ('french', 13, 16),\n",
       " ('french', 11, 16),\n",
       " ('french', 16, 16),\n",
       " ('french', 7, 16),\n",
       " ('french', 14, 16),\n",
       " ('french', 16, 16),\n",
       " ('french', 9, 16),\n",
       " ('french', 8, 16),\n",
       " ('french', 8, 16),\n",
       " ('french', 14, 16),\n",
       " ('french', 7, 16),\n",
       " ('french', 13, 16),\n",
       " ('french', 10, 16),\n",
       " ('french', 16, 16),\n",
       " ('french', 12, 16),\n",
       " ('french', 7, 16),\n",
       " ('french', 12, 16),\n",
       " ('french', 11, 16),\n",
       " ('french', 15, 16),\n",
       " ('french', 12, 16),\n",
       " ('french', 8, 16),\n",
       " ('french', 11, 16),\n",
       " ('french', 16, 16),\n",
       " ('french', 14, 16),\n",
       " ('french', 8, 16),\n",
       " ('french', 11, 16),\n",
       " ('french', 12, 16),\n",
       " ('french', 7, 16),\n",
       " ('french', 12, 16),\n",
       " ('french', 10, 16),\n",
       " ('french', 13, 16),\n",
       " ('french', 13, 16),\n",
       " ('french', 14, 16),\n",
       " ('french', 13, 16),\n",
       " ('french', 16, 16),\n",
       " ('french', 14, 16),\n",
       " ('french', 13, 16),\n",
       " ('french', 10, 16),\n",
       " ('french', 11, 16),\n",
       " ('french', 12, 16),\n",
       " ('french', 10, 16),\n",
       " ('french', 16, 16),\n",
       " ('french', 16, 16),\n",
       " ('french', 15, 16),\n",
       " ('french', 13, 16),\n",
       " ('french', 11, 16),\n",
       " ('french', 9, 16),\n",
       " ('french', 14, 16),\n",
       " ('french', 16, 16),\n",
       " ('french', 13, 16),\n",
       " ('french', 16, 16),\n",
       " ('french', 13, 16),\n",
       " ('french', 8, 16),\n",
       " ('french', 16, 16),\n",
       " ('french', 10, 16),\n",
       " ('french', 9, 16),\n",
       " ('french', 16, 16),\n",
       " ('french', 8, 16),\n",
       " ('french', 11, 16),\n",
       " ('french', 16, 16),\n",
       " ('french', 14, 16),\n",
       " ('french', 14, 16),\n",
       " ('french', 15, 16),\n",
       " ('french', 13, 16),\n",
       " ('french', 12, 16),\n",
       " ('french', 12, 16),\n",
       " ('french', 15, 16),\n",
       " ('french', 8, 16),\n",
       " ('french', 8, 16),\n",
       " ('french', 10, 16),\n",
       " ('french', 14, 16),\n",
       " ('french', 11, 16),\n",
       " ('french', 9, 16),\n",
       " ('french', 9, 16),\n",
       " ('french', 9, 16),\n",
       " ('french', 9, 16),\n",
       " ('french', 8, 16),\n",
       " ('french', 12, 16),\n",
       " ('french', 11, 16),\n",
       " ('french', 15, 16),\n",
       " ('french', 15, 16),\n",
       " ('french', 13, 16),\n",
       " ('french', 14, 16),\n",
       " ('french', 11, 16),\n",
       " ('french', 7, 16),\n",
       " ('french', 9, 16),\n",
       " ('french', 8, 16),\n",
       " ('italian', 8, 16),\n",
       " ('italian', 9, 16),\n",
       " ('italian', 9, 16),\n",
       " ('italian', 10, 16),\n",
       " ('italian', 13, 16),\n",
       " ('italian', 7, 16),\n",
       " ('italian', 8, 16),\n",
       " ('italian', 11, 16),\n",
       " ('italian', 15, 16),\n",
       " ('italian', 7, 16),\n",
       " ('italian', 12, 16),\n",
       " ('italian', 9, 16),\n",
       " ('italian', 14, 16),\n",
       " ('italian', 10, 16),\n",
       " ('italian', 15, 16),\n",
       " ('italian', 15, 16),\n",
       " ('italian', 8, 16),\n",
       " ('italian', 7, 16),\n",
       " ('italian', 10, 16),\n",
       " ('italian', 10, 16),\n",
       " ('italian', 13, 16),\n",
       " ('italian', 11, 16),\n",
       " ('italian', 8, 16),\n",
       " ('italian', 14, 16),\n",
       " ('italian', 13, 16),\n",
       " ('italian', 9, 16),\n",
       " ('italian', 10, 16),\n",
       " ('italian', 11, 16),\n",
       " ('italian', 13, 16),\n",
       " ('italian', 8, 16),\n",
       " ('italian', 13, 16),\n",
       " ('italian', 9, 16),\n",
       " ('italian', 13, 16),\n",
       " ('italian', 11, 16),\n",
       " ('italian', 7, 16),\n",
       " ('italian', 12, 16),\n",
       " ('italian', 13, 16),\n",
       " ('italian', 11, 16),\n",
       " ('italian', 9, 16),\n",
       " ('italian', 9, 16),\n",
       " ('italian', 15, 16),\n",
       " ('italian', 14, 16),\n",
       " ('italian', 10, 16),\n",
       " ('italian', 12, 16),\n",
       " ('italian', 8, 16),\n",
       " ('italian', 16, 16),\n",
       " ('italian', 11, 16),\n",
       " ('italian', 14, 16),\n",
       " ('italian', 13, 16),\n",
       " ('italian', 8, 16),\n",
       " ('italian', 12, 16),\n",
       " ('italian', 11, 16),\n",
       " ('italian', 7, 16),\n",
       " ('italian', 8, 16),\n",
       " ('italian', 7, 16),\n",
       " ('italian', 12, 16),\n",
       " ('italian', 9, 16),\n",
       " ('italian', 13, 16),\n",
       " ('italian', 8, 16),\n",
       " ('italian', 12, 16),\n",
       " ('italian', 11, 16),\n",
       " ('italian', 15, 16),\n",
       " ('italian', 12, 16),\n",
       " ('italian', 9, 16),\n",
       " ('italian', 7, 16),\n",
       " ('italian', 11, 16),\n",
       " ('italian', 12, 16),\n",
       " ('italian', 7, 16),\n",
       " ('italian', 8, 16),\n",
       " ('italian', 12, 16),\n",
       " ('italian', 8, 16),\n",
       " ('italian', 11, 16),\n",
       " ('italian', 15, 16),\n",
       " ('italian', 15, 16),\n",
       " ('italian', 8, 16),\n",
       " ('italian', 16, 16),\n",
       " ('italian', 10, 16),\n",
       " ('italian', 13, 16),\n",
       " ('italian', 9, 16),\n",
       " ('italian', 14, 16),\n",
       " ('italian', 11, 16),\n",
       " ('italian', 9, 16),\n",
       " ('italian', 11, 16),\n",
       " ('italian', 16, 16),\n",
       " ('italian', 11, 16),\n",
       " ('italian', 14, 16),\n",
       " ('italian', 13, 16),\n",
       " ('italian', 16, 16),\n",
       " ('italian', 7, 16),\n",
       " ('italian', 14, 16),\n",
       " ('italian', 16, 16),\n",
       " ('italian', 10, 16),\n",
       " ('italian', 7, 16),\n",
       " ('italian', 7, 16),\n",
       " ('italian', 14, 16),\n",
       " ('italian', 14, 16),\n",
       " ('italian', 16, 16),\n",
       " ('italian', 8, 16),\n",
       " ('italian', 8, 16),\n",
       " ('italian', 7, 16),\n",
       " ('italian', 9, 16),\n",
       " ('italian', 10, 16),\n",
       " ('italian', 16, 16),\n",
       " ('italian', 8, 16),\n",
       " ('italian', 15, 16),\n",
       " ('italian', 7, 16),\n",
       " ('italian', 8, 16),\n",
       " ('italian', 7, 16),\n",
       " ('italian', 9, 16),\n",
       " ('italian', 14, 16),\n",
       " ('italian', 13, 16),\n",
       " ('italian', 16, 16),\n",
       " ('italian', 13, 16),\n",
       " ('italian', 13, 16),\n",
       " ('italian', 16, 16),\n",
       " ('italian', 15, 16),\n",
       " ('italian', 12, 16),\n",
       " ('italian', 12, 16),\n",
       " ('italian', 15, 16),\n",
       " ('italian', 10, 16),\n",
       " ('italian', 11, 16),\n",
       " ('italian', 15, 16),\n",
       " ('italian', 13, 16),\n",
       " ('italian', 7, 16),\n",
       " ('italian', 9, 16),\n",
       " ('italian', 8, 16),\n",
       " ('italian', 11, 16),\n",
       " ('italian', 8, 16),\n",
       " ('italian', 8, 16),\n",
       " ('italian', 16, 16),\n",
       " ('italian', 9, 16),\n",
       " ('italian', 16, 16),\n",
       " ('italian', 15, 16),\n",
       " ('italian', 10, 16),\n",
       " ('italian', 16, 16),\n",
       " ('italian', 12, 16),\n",
       " ('italian', 12, 16),\n",
       " ('italian', 7, 16),\n",
       " ('italian', 15, 16),\n",
       " ('italian', 10, 16),\n",
       " ('italian', 9, 16),\n",
       " ('italian', 9, 16),\n",
       " ('italian', 12, 16),\n",
       " ('italian', 9, 16),\n",
       " ('italian', 9, 16),\n",
       " ('italian', 9, 16),\n",
       " ('italian', 8, 16),\n",
       " ('italian', 7, 16),\n",
       " ('italian', 10, 16),\n",
       " ('italian', 9, 16),\n",
       " ('italian', 15, 16),\n",
       " ('italian', 14, 16),\n",
       " ('italian', 12, 16),\n",
       " ('italian', 9, 16),\n",
       " ('italian', 15, 16),\n",
       " ('italian', 11, 16),\n",
       " ('italian', 11, 16),\n",
       " ('italian', 14, 16),\n",
       " ('italian', 8, 16),\n",
       " ('italian', 13, 16),\n",
       " ('italian', 9, 16),\n",
       " ('italian', 14, 16),\n",
       " ('italian', 13, 16),\n",
       " ('italian', 10, 16),\n",
       " ('italian', 11, 16),\n",
       " ('italian', 7, 16),\n",
       " ('italian', 12, 16),\n",
       " ('italian', 10, 16),\n",
       " ('italian', 12, 16),\n",
       " ('italian', 11, 16),\n",
       " ('italian', 11, 16),\n",
       " ('italian', 9, 16),\n",
       " ('italian', 11, 16),\n",
       " ('italian', 13, 16),\n",
       " ('italian', 15, 16),\n",
       " ('italian', 10, 16),\n",
       " ('italian', 12, 16),\n",
       " ('italian', 7, 16),\n",
       " ('italian', 11, 16),\n",
       " ('italian', 11, 16),\n",
       " ('italian', 11, 16),\n",
       " ('italian', 13, 16),\n",
       " ('italian', 9, 16),\n",
       " ('italian', 7, 16),\n",
       " ('italian', 9, 16),\n",
       " ('italian', 12, 16),\n",
       " ('italian', 13, 16),\n",
       " ('italian', 16, 16),\n",
       " ('italian', 13, 16),\n",
       " ('italian', 15, 16),\n",
       " ('italian', 12, 16),\n",
       " ('italian', 13, 16),\n",
       " ('italian', 9, 16),\n",
       " ('italian', 13, 16),\n",
       " ('italian', 7, 16),\n",
       " ('italian', 8, 16),\n",
       " ('italian', 14, 16),\n",
       " ('italian', 9, 16),\n",
       " ('italian', 10, 16),\n",
       " ('italian', 11, 16),\n",
       " ('italian', 13, 16),\n",
       " ('italian', 10, 16),\n",
       " ('italian', 9, 16),\n",
       " ('italian', 11, 16),\n",
       " ('italian', 15, 16),\n",
       " ('italian', 7, 16),\n",
       " ('italian', 16, 16),\n",
       " ('italian', 8, 16),\n",
       " ('italian', 7, 16),\n",
       " ('italian', 10, 16),\n",
       " ('italian', 15, 16),\n",
       " ('italian', 12, 16),\n",
       " ('italian', 13, 16),\n",
       " ('italian', 12, 16),\n",
       " ('italian', 9, 16),\n",
       " ('italian', 9, 16),\n",
       " ('italian', 13, 16),\n",
       " ('italian', 11, 16),\n",
       " ('italian', 11, 16),\n",
       " ('italian', 13, 16),\n",
       " ('italian', 14, 16),\n",
       " ('italian', 8, 16),\n",
       " ('italian', 14, 16),\n",
       " ('italian', 9, 16),\n",
       " ('italian', 9, 16),\n",
       " ('italian', 16, 16),\n",
       " ('italian', 14, 16),\n",
       " ('italian', 8, 16),\n",
       " ('italian', 7, 16),\n",
       " ('italian', 12, 16),\n",
       " ('italian', 9, 16),\n",
       " ('italian', 16, 16),\n",
       " ('italian', 13, 16),\n",
       " ('italian', 14, 16),\n",
       " ('italian', 16, 16),\n",
       " ('italian', 9, 16),\n",
       " ('italian', 13, 16),\n",
       " ('italian', 9, 16),\n",
       " ('italian', 16, 16),\n",
       " ('italian', 8, 16),\n",
       " ('italian', 13, 16),\n",
       " ('italian', 16, 16),\n",
       " ('italian', 12, 16),\n",
       " ('italian', 7, 16),\n",
       " ('italian', 15, 16),\n",
       " ('italian', 14, 16),\n",
       " ('italian', 9, 16),\n",
       " ('italian', 15, 16),\n",
       " ('italian', 12, 16),\n",
       " ('italian', 8, 16),\n",
       " ('italian', 9, 16),\n",
       " ('italian', 8, 16),\n",
       " ('italian', 9, 16),\n",
       " ('italian', 10, 16),\n",
       " ('italian', 9, 16),\n",
       " ('italian', 12, 16),\n",
       " ('italian', 15, 16),\n",
       " ('italian', 10, 16),\n",
       " ('italian', 7, 16),\n",
       " ('italian', 15, 16),\n",
       " ('italian', 8, 16),\n",
       " ('italian', 13, 16),\n",
       " ('italian', 12, 16),\n",
       " ('italian', 10, 16),\n",
       " ('italian', 8, 16),\n",
       " ('italian', 10, 16),\n",
       " ('italian', 16, 16),\n",
       " ('italian', 9, 16),\n",
       " ('italian', 8, 16),\n",
       " ('italian', 11, 16),\n",
       " ('italian', 9, 16),\n",
       " ('italian', 16, 16),\n",
       " ('italian', 14, 16),\n",
       " ('italian', 16, 16),\n",
       " ('italian', 12, 16),\n",
       " ('italian', 9, 16),\n",
       " ('italian', 16, 16),\n",
       " ('italian', 11, 16),\n",
       " ('italian', 12, 16),\n",
       " ('italian', 16, 16),\n",
       " ('italian', 9, 16),\n",
       " ('italian', 7, 16),\n",
       " ('italian', 7, 16),\n",
       " ('italian', 10, 16),\n",
       " ('italian', 10, 16),\n",
       " ('italian', 10, 16),\n",
       " ('italian', 13, 16),\n",
       " ('italian', 10, 16),\n",
       " ('italian', 7, 16),\n",
       " ('italian', 7, 16),\n",
       " ('italian', 12, 16),\n",
       " ('italian', 16, 16),\n",
       " ('italian', 12, 16),\n",
       " ('italian', 16, 16),\n",
       " ('italian', 9, 16),\n",
       " ('italian', 8, 16),\n",
       " ('italian', 9, 16),\n",
       " ('italian', 14, 16),\n",
       " ('italian', 15, 16),\n",
       " ('italian', 13, 16),\n",
       " ('italian', 8, 16),\n",
       " ('italian', 7, 16),\n",
       " ('italian', 13, 16),\n",
       " ('italian', 7, 16),\n",
       " ('italian', 11, 16),\n",
       " ('italian', 13, 16),\n",
       " ('italian', 15, 16),\n",
       " ('italian', 7, 16),\n",
       " ('italian', 7, 16),\n",
       " ('italian', 10, 16),\n",
       " ('italian', 8, 16),\n",
       " ('italian', 15, 16),\n",
       " ('italian', 9, 16),\n",
       " ...]"
      ]
     },
     "execution_count": 24,
     "metadata": {},
     "output_type": "execute_result"
    }
   ],
   "source": [
    "rc_cur.execute(q)\n",
    "rc_cur.fetchall()"
   ]
  },
  {
   "cell_type": "code",
   "execution_count": null,
   "metadata": {
    "collapsed": true
   },
   "outputs": [],
   "source": [
    "t = r\"COPY users TO '/Users/sversage/users.csv' DELIMITER ',' CSV HEADER;\"\n",
    "rc_cur.execute(t)\n"
   ]
  },
  {
   "cell_type": "code",
   "execution_count": null,
   "metadata": {
    "collapsed": true
   },
   "outputs": [],
   "source": []
  }
 ],
 "metadata": {
  "kernelspec": {
   "display_name": "Python 2",
   "language": "python",
   "name": "python2"
  },
  "language_info": {
   "codemirror_mode": {
    "name": "ipython",
    "version": 2
   },
   "file_extension": ".py",
   "mimetype": "text/x-python",
   "name": "python",
   "nbconvert_exporter": "python",
   "pygments_lexer": "ipython2",
   "version": "2.7.13"
  }
 },
 "nbformat": 4,
 "nbformat_minor": 1
}
