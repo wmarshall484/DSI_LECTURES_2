{
 "cells": [
  {
   "cell_type": "markdown",
   "metadata": {},
   "source": [
    "# Basic Unix Survival Skills\n",
    "\n",
    "## Configuring your environment\n",
    "\n",
    "The first thing you should do when you set up a unix machine is configure your shell (since you'll be working in it a lot). I'm assuming we'll be using a `bash` shell, but if you're using `zsh` or `sh` or any other shell, just replace `bash` with that in what follows.\n",
    "\n",
    "The user defined settings that determine where unix will look for executables will be stored in \n",
    "```\n",
    "~/.bash_profile\n",
    "```\n",
    "\n",
    "on OSX and \n",
    "```\n",
    "~/.bashrc\n",
    "``` \n",
    "on most linux distros. Generally speaking, files starting with a `.` contain configuration information and shouldn't be messed with unless you need to!!!"
   ]
  },
  {
   "cell_type": "code",
   "execution_count": 1,
   "metadata": {
    "collapsed": false
   },
   "outputs": [
    {
     "name": "stdout",
     "output_type": "stream",
     "text": [
      "Applications\n",
      "Coursework\n",
      "Desktop\n",
      "Documents\n",
      "Downloads\n",
      "Library\n",
      "Movies\n",
      "Music\n",
      "Pictures\n",
      "Projects\n",
      "Public\n",
      "anaconda\n",
      "nltk_data\n"
     ]
    }
   ],
   "source": [
    "%%bash\n",
    "\n",
    "# This won't show any dot-files\n",
    "\n",
    "ls ~"
   ]
  },
  {
   "cell_type": "code",
   "execution_count": 2,
   "metadata": {
    "collapsed": false
   },
   "outputs": [
    {
     "name": "stdout",
     "output_type": "stream",
     "text": [
      ".CFUserTextEncoding\n",
      ".DS_Store\n",
      ".Trash\n",
      ".atom\n",
      ".bash_history\n",
      ".bash_profile\n",
      ".bash_profile-anaconda.bak\n",
      ".bashrc\n",
      ".continuum\n",
      ".cups\n",
      ".gitconfig\n",
      ".graphlab\n",
      ".ipython\n",
      ".jupyter\n",
      ".matplotlib\n",
      ".ssh\n",
      ".viminfo\n",
      "Applications\n",
      "Coursework\n",
      "Desktop\n",
      "Documents\n",
      "Downloads\n",
      "Library\n",
      "Movies\n",
      "Music\n",
      "Pictures\n",
      "Projects\n",
      "Public\n",
      "anaconda\n",
      "nltk_data\n"
     ]
    }
   ],
   "source": [
    "%%bash\n",
    "\n",
    "# This will\n",
    "\n",
    "ls -A ~"
   ]
  },
  {
   "cell_type": "markdown",
   "metadata": {},
   "source": [
    "## Man Pages"
   ]
  },
  {
   "cell_type": "code",
   "execution_count": 11,
   "metadata": {
    "collapsed": false
   },
   "outputs": [
    {
     "name": "stdout",
     "output_type": "stream",
     "text": [
      "\n",
      "LS(1)                     BSD General Commands Manual                    LS(1)\n",
      "\n",
      "N\bNA\bAM\bME\bE\n",
      "     l\bls\bs -- list directory contents\n",
      "\n",
      "S\bSY\bYN\bNO\bOP\bPS\bSI\bIS\bS\n",
      "     l\bls\bs [-\b-A\bAB\bBC\bCF\bFG\bGH\bHL\bLO\bOP\bPR\bRS\bST\bTU\bUW\bW@\b@a\bab\bbc\bcd\bde\bef\bfg\bgh\bhi\bik\bkl\blm\bmn\bno\bop\bpq\bqr\brs\bst\btu\buw\bwx\bx1\b1] [_\bf_\bi_\bl_\be _\b._\b._\b.]\n",
      "\n",
      "D\bDE\bES\bSC\bCR\bRI\bIP\bPT\bTI\bIO\bON\bN\n",
      "     For each operand that names a _\bf_\bi_\bl_\be of a type other than directory, l\bls\bs displays its name as well as any requested, associated information.  For each oper-\n",
      "     and that names a _\bf_\bi_\bl_\be of type directory, l\bls\bs displays the names of files contained within that directory, as well as any requested, associated informa-\n",
      "     tion.\n",
      "\n",
      "     If no operands are given, the contents of the current directory are displayed.  If more than one operand is given, non-directory operands are displayed\n",
      "     first; directory and non-directory operands are sorted separately and in lexicographical order.\n",
      "\n",
      "     The following options are available:\n",
      "\n",
      "     -\b-@\b@      Display extended attribute keys and sizes in long (-\b-l\bl) output.\n",
      "\n",
      "     -\b-1\b1      (The numeric digit ``one''.)  Force output to be one entry per line.  This is the default when output is not to a terminal.\n",
      "\n",
      "     -\b-A\bA      List all entries except for _\b. and _\b._\b..  Always set for the super-user.\n",
      "\n",
      "     -\b-a\ba      Include directory entries whose names begin with a dot (_\b.).\n",
      "\n",
      "     -\b-B\bB      Force printing of non-printable characters (as defined by ctype(3) and current locale settings) in file names as \\_\bx_\bx_\bx, where _\bx_\bx_\bx is the numeric\n",
      "             value of the character in octal.\n",
      "\n",
      "     -\b-b\bb      As -\b-B\bB, but use C escape codes whenever possible.\n",
      "\n",
      "     -\b-C\bC      Force multi-column output; this is the default when output is to a terminal.\n",
      "\n",
      "     -\b-c\bc      Use time when file status was last changed for sorting (-\b-t\bt) or long printing (-\b-l\bl).\n",
      "\n",
      "     -\b-d\bd      Directories are listed as plain files (not searched recursively).\n",
      "\n",
      "     -\b-e\be      Print the Access Control List (ACL) associated with the file, if present, in long (-\b-l\bl) output.\n",
      "\n",
      "     -\b-F\bF      Display a slash (`/') immediately after each pathname that is a directory, an asterisk (`*') after each that is executable, an at sign (`@')\n",
      "             after each symbolic link, an equals sign (`=') after each socket, a percent sign (`%') after each whiteout, and a vertical bar (`|') after each\n",
      "             that is a FIFO.\n",
      "\n",
      "     -\b-f\bf      Output is not sorted.  This option turns on the -\b-a\ba option.\n",
      "\n",
      "     -\b-G\bG      Enable colorized output.  This option is equivalent to defining CLICOLOR in the environment.  (See below.)\n",
      "\n",
      "     -\b-g\bg      This option is only available for compatibility with POSIX; it is used to display the group name in the long (-\b-l\bl) format output (the owner name\n",
      "             is suppressed).\n",
      "\n",
      "     -\b-H\bH      Symbolic links on the command line are followed.  This option is assumed if none of the -\b-F\bF, -\b-d\bd, or -\b-l\bl options are specified.\n",
      "\n",
      "     -\b-h\bh      When used with the -\b-l\bl option, use unit suffixes: Byte, Kilobyte, Megabyte, Gigabyte, Terabyte and Petabyte in order to reduce the number of dig-\n",
      "             its to three or less using base 2 for sizes.\n",
      "\n",
      "     -\b-i\bi      For each file, print the file's file serial number (inode number).\n",
      "\n",
      "     -\b-k\bk      If the -\b-s\bs option is specified, print the file size allocation in kilobytes, not blocks.  This option overrides the environment variable\n",
      "             BLOCKSIZE.\n",
      "\n",
      "     -\b-L\bL      Follow all symbolic links to final target and list the file or directory the link references rather than the link itself.  This option cancels\n",
      "             the -\b-P\bP option.\n",
      "\n",
      "     -\b-l\bl      (The lowercase letter ``ell''.)  List in long format.  (See below.)  If the output is to a terminal, a total sum for all the file sizes is output\n",
      "             on a line before the long listing.\n",
      "\n",
      "     -\b-m\bm      Stream output format; list files across the page, separated by commas.\n",
      "\n",
      "     -\b-n\bn      Display user and group IDs numerically, rather than converting to a user or group name in a long (-\b-l\bl) output.  This option turns on the -\b-l\bl\n",
      "             option.\n",
      "\n",
      "     -\b-O\bO      Include the file flags in a long (-\b-l\bl) output.\n",
      "\n",
      "     -\b-o\bo      List in long format, but omit the group id.\n",
      "\n",
      "     -\b-P\bP      If argument is a symbolic link, list the link itself rather than the object the link references.  This option cancels the -\b-H\bH and -\b-L\bL options.\n",
      "\n",
      "     -\b-p\bp      Write a slash (`/') after each filename if that file is a directory.\n",
      "\n",
      "     -\b-q\bq      Force printing of non-graphic characters in file names as the character `?'; this is the default when output is to a terminal.\n",
      "\n",
      "     -\b-R\bR      Recursively list subdirectories encountered.\n",
      "\n",
      "     -\b-r\br      Reverse the order of the sort to get reverse lexicographical order or the oldest entries first (or largest files last, if combined with sort by\n",
      "             size\n",
      "\n",
      "     -\b-S\bS      Sort files by size\n",
      "\n",
      "     -\b-s\bs      Display the number of file system blocks actually used by each file, in units of 512 bytes, where partial units are rounded up to the next inte-\n",
      "             ger value.  If the output is to a terminal, a total sum for all the file sizes is output on a line before the listing.  The environment variable\n",
      "             BLOCKSIZE overrides the unit size of 512 bytes.\n",
      "\n",
      "     -\b-T\bT      When used with the -\b-l\bl (lowercase letter ``ell'') option, display complete time information for the file, including month, day, hour, minute, sec-\n",
      "             ond, and year.\n",
      "\n",
      "     -\b-t\bt      Sort by time modified (most recently modified first) before sorting the operands by lexicographical order.\n",
      "\n",
      "     -\b-u\bu      Use time of last access, instead of last modification of the file for sorting (-\b-t\bt) or long printing (-\b-l\bl).\n",
      "\n",
      "     -\b-U\bU      Use time of file creation, instead of last modification for sorting (-\b-t\bt) or long output (-\b-l\bl).\n",
      "\n",
      "     -\b-v\bv      Force unedited printing of non-graphic characters; this is the default when output is not to a terminal.\n",
      "\n",
      "     -\b-W\bW      Display whiteouts when scanning directories.  (-\b-S\bS) flag).\n",
      "\n",
      "     -\b-w\bw      Force raw printing of non-printable characters.  This is the default when output is not to a terminal.\n",
      "\n",
      "     -\b-x\bx      The same as -\b-C\bC, except that the multi-column output is produced with entries sorted across, rather than down, the columns.\n",
      "\n",
      "     The -\b-1\b1, -\b-C\bC, -\b-x\bx, and -\b-l\bl options all override each other; the last one specified determines the format used.\n",
      "\n",
      "     The -\b-c\bc and -\b-u\bu options override each other; the last one specified determines the file time used.\n",
      "\n",
      "     The -\b-B\bB, -\b-b\bb, -\b-w\bw, and -\b-q\bq options all override each other; the last one specified determines the format used for non-printable characters.\n",
      "\n",
      "     The -\b-H\bH, -\b-L\bL and -\b-P\bP options all override each other (either partially or fully); they are applied in the order specified.\n",
      "\n",
      "     By default, l\bls\bs lists one entry per line to standard output; the exceptions are to terminals or when the -\b-C\bC or -\b-x\bx options are specified.\n",
      "\n",
      "     File information is displayed with one or more <blank>s separating the information associated with the -\b-i\bi, -\b-s\bs, and -\b-l\bl options.\n",
      "\n",
      "   T\bTh\bhe\be L\bLo\bon\bng\bg F\bFo\bor\brm\bma\bat\bt\n",
      "     If the -\b-l\bl option is given, the following information is displayed for each file: file mode, number of links, owner name, group name, number of bytes in\n",
      "     the file, abbreviated month, day-of-month file was last modified, hour file last modified, minute file last modified, and the pathname.  In addition, for\n",
      "     each directory whose contents are displayed, the total number of 512-byte blocks used by the files in the directory is displayed on a line by itself,\n",
      "     immediately before the information for the files in the directory.  If the file or directory has extended attributes, the permissions field printed by\n",
      "     the -\b-l\bl option is followed by a '@' character.  Otherwise, if the file or directory has extended security information (such as an access control list),\n",
      "     the permissions field printed by the -\b-l\bl option is followed by a '+' character.\n",
      "\n",
      "     If the modification time of the file is more than 6 months in the past or future, then the year of the last modification is displayed in place of the\n",
      "     hour and minute fields.\n",
      "\n",
      "     If the owner or group names are not a known user or group name, or the -\b-n\bn option is given, the numeric ID's are displayed.\n",
      "\n",
      "     If the file is a character special or block special file, the major and minor device numbers for the file are displayed in the size field.  If the file\n",
      "     is a symbolic link, the pathname of the linked-to file is preceded by ``->''.\n",
      "\n",
      "     The file mode printed under the -\b-l\bl option consists of the entry type, owner permissions, and group permissions.  The entry type character describes the\n",
      "     type of file, as follows:\n",
      "\n",
      "           b\bb     Block special file.\n",
      "           c\bc     Character special file.\n",
      "           d\bd     Directory.\n",
      "           l\bl     Symbolic link.\n",
      "           s\bs     Socket link.\n",
      "           p\bp     FIFO.\n",
      "           -\b-     Regular file.\n",
      "\n",
      "     The next three fields are three characters each: owner permissions, group permissions, and other permissions.  Each field has three character positions:\n",
      "\n",
      "           1.   If r\br, the file is readable; if -\b-, it is not readable.\n",
      "\n",
      "           2.   If w\bw, the file is writable; if -\b-, it is not writable.\n",
      "\n",
      "           3.   The first of the following that applies:\n",
      "\n",
      "                      S\bS     If in the owner permissions, the file is not executable and set-user-ID mode is set.  If in the group permissions, the file is not\n",
      "                            executable and set-group-ID mode is set.\n",
      "\n",
      "                      s\bs     If in the owner permissions, the file is executable and set-user-ID mode is set.  If in the group permissions, the file is exe-\n",
      "                            cutable and setgroup-ID mode is set.\n",
      "\n",
      "                      x\bx     The file is executable or the directory is searchable.\n",
      "\n",
      "                      -\b-     The file is neither readable, writable, executable, nor set-user-ID nor set-group-ID mode, nor sticky.  (See below.)\n",
      "\n",
      "                These next two apply only to the third character in the last group (other permissions).\n",
      "\n",
      "                      T\bT     The sticky bit is set (mode 1000), but not execute or search permission.  (See chmod(1) or sticky(8).)\n",
      "\n",
      "                      t\bt     The sticky bit is set (mode 1000), and is searchable or executable.  (See chmod(1) or sticky(8).)\n",
      "\n",
      "E\bEX\bXA\bAM\bMP\bPL\bLE\bES\bS\n",
      "     The following is how to do an l\bls\bs listing sorted by increasing size\n",
      "\n",
      "           ls -lrS\n",
      "\n",
      "D\bDI\bIA\bAG\bGN\bNO\bOS\bST\bTI\bIC\bCS\bS\n",
      "     The l\bls\bs utility exits 0 on success, and >0 if an error occurs.\n",
      "\n",
      "E\bEN\bNV\bVI\bIR\bRO\bON\bNM\bME\bEN\bNT\bT\n",
      "     The following environment variables affect the execution of l\bls\bs:\n",
      "\n",
      "     BLOCKSIZE       If the environment variable BLOCKSIZE is set, the block counts (see -\b-s\bs) will be displayed in units of that size block.\n",
      "\n",
      "     CLICOLOR        Use ANSI color sequences to distinguish file types.  See LSCOLORS below.  In addition to the file types mentioned in the -\b-F\bF option some\n",
      "                     extra attributes (setuid bit set, etc.) are also displayed.  The colorization is dependent on a terminal type with the proper termcap(5)\n",
      "                     capabilities.  The default ``cons25'' console has the proper capabilities, but to display the colors in an xterm(1), for example, the\n",
      "                     TERM variable must be set to ``xterm-color''.  Other terminal types may require similar adjustments.  Colorization is silently disabled\n",
      "                     if the output isn't directed to a terminal unless the CLICOLOR_FORCE variable is defined.\n",
      "\n",
      "     CLICOLOR_FORCE  Color sequences are normally disabled if the output isn't directed to a terminal.  This can be overridden by setting this flag.  The TERM\n",
      "                     variable still needs to reference a color capable terminal however otherwise it is not possible to determine which color sequences to\n",
      "                     use.\n",
      "\n",
      "     COLUMNS         If this variable contains a string representing a decimal integer, it is used as the column position width for displaying multiple-text-\n",
      "                     column output.  The l\bls\bs utility calculates how many pathname text columns to display based on the width provided.  (See -\b-C\bC and -\b-x\bx.)\n",
      "\n",
      "     LANG            The locale to use when determining the order of day and month in the long -\b-l\bl format output.  See environ(7) for more information.\n",
      "\n",
      "     LSCOLORS        The value of this variable describes what color to use for which attribute when colors are enabled with CLICOLOR.  This string is a con-\n",
      "                     catenation of pairs of the format _\bf_\bb, where _\bf is the foreground color and _\bb is the background color.\n",
      "\n",
      "                     The color designators are as follows:\n",
      "\n",
      "                           a\ba     black\n",
      "                           b\bb     red\n",
      "                           c\bc     green\n",
      "                           d\bd     brown\n",
      "                           e\be     blue\n",
      "                           f\bf     magenta\n",
      "                           g\bg     cyan\n",
      "                           h\bh     light grey\n",
      "                           A\bA     bold black, usually shows up as dark grey\n",
      "                           B\bB     bold red\n",
      "                           C\bC     bold green\n",
      "                           D\bD     bold brown, usually shows up as yellow\n",
      "                           E\bE     bold blue\n",
      "                           F\bF     bold magenta\n",
      "                           G\bG     bold cyan\n",
      "                           H\bH     bold light grey; looks like bright white\n",
      "                           x\bx     default foreground or background\n",
      "\n",
      "                     Note that the above are standard ANSI colors.  The actual display may differ depending on the color capabilities of the terminal in use.\n",
      "\n",
      "                     The order of the attributes are as follows:\n",
      "\n",
      "                           1.   directory\n",
      "                           2.   symbolic link\n",
      "                           3.   socket\n",
      "                           4.   pipe\n",
      "                           5.   executable\n",
      "                           6.   block special\n",
      "                           7.   character special\n",
      "                           8.   executable with setuid bit set\n",
      "                           9.   executable with setgid bit set\n",
      "                           10.  directory writable to others, with sticky bit\n",
      "                           11.  directory writable to others, without sticky bit\n",
      "\n",
      "                     The default is \"exfxcxdxbxegedabagacad\", i.e. blue foreground and default background for regular directories, black foreground and red\n",
      "                     background for setuid executables, etc.\n",
      "\n",
      "     LS_COLWIDTHS    If this variable is set, it is considered to be a colon-delimited list of minimum column widths.  Unreasonable and insufficient widths\n",
      "                     are ignored (thus zero signifies a dynamically sized column).  Not all columns have changeable widths.  The fields are, in order: inode,\n",
      "                     block count, number of links, user name, group name, flags, file size, file name.\n",
      "\n",
      "     TERM            The CLICOLOR functionality depends on a terminal type with color capabilities.\n",
      "\n",
      "     TZ              The timezone to use when displaying dates.  See environ(7) for more information.\n",
      "\n",
      "C\bCO\bOM\bMP\bPA\bAT\bTI\bIB\bBI\bIL\bLI\bIT\bTY\bY\n",
      "     The group field is now automatically included in the long listing for files in order to be compatible with the IEEE Std 1003.2 (``POSIX.2'') specifica-\n",
      "     tion.\n",
      "\n",
      "L\bLE\bEG\bGA\bAC\bCY\bY D\bDE\bES\bSC\bCR\bRI\bIP\bPT\bTI\bIO\bON\bN\n",
      "     In legacy mode, the -\b-f\bf option does not turn on the -\b-a\ba option and the -\b-g\bg, -\b-n\bn, and -\b-o\bo options do not turn on the -\b-l\bl option.\n",
      "\n",
      "     Also, the -\b-o\bo option causes the file flags to be included in a long (-l) output; there is no -\b-O\bO option.\n",
      "\n",
      "     When -\b-H\bH is specified (and not overridden by -\b-L\bL or -\b-P\bP) and a file argument is a symlink that resolves to a non-directory file, the output will reflect the\n",
      "     nature of the link, rather than that of the file.  In legacy operation, the output will describe the file.\n",
      "\n",
      "     For more information about legacy mode, see compat(5).\n",
      "\n",
      "S\bSE\bEE\bE A\bAL\bLS\bSO\bO\n",
      "     chflags(1), chmod(1), sort(1), xterm(1), compat(5), termcap(5), symlink(7), sticky(8)\n",
      "\n",
      "S\bST\bTA\bAN\bND\bDA\bAR\bRD\bDS\bS\n",
      "     The l\bls\bs utility conforms to IEEE Std 1003.1-2001 (``POSIX.1'').\n",
      "\n",
      "H\bHI\bIS\bST\bTO\bOR\bRY\bY\n",
      "     An l\bls\bs command appeared in Version 1 AT&T UNIX.\n",
      "\n",
      "B\bBU\bUG\bGS\bS\n",
      "     To maintain backward compatibility, the relationships between the many options are quite complex.\n",
      "\n",
      "BSD                              May 19, 2002                              BSD\n"
     ]
    }
   ],
   "source": [
    "%%bash\n",
    "\n",
    "man ls"
   ]
  },
  {
   "cell_type": "markdown",
   "metadata": {},
   "source": [
    "## Exercise\n",
    "\n",
    "Using the man page for `ls`, find the most recently changed file in your home directory."
   ]
  },
  {
   "cell_type": "code",
   "execution_count": 8,
   "metadata": {
    "collapsed": false
   },
   "outputs": [
    {
     "name": "stdout",
     "output_type": "stream",
     "text": [
      "hello\n"
     ]
    }
   ],
   "source": [
    "%%bash \n",
    "\n",
    "#Suppose have have a script say_hello that prints the word hello to the terminal\n",
    "\n",
    "echo 'echo \"hello\"' > say_hello\n",
    "chmod u+x say_hello\n",
    "\n",
    "#I can run it from here by typing\n",
    "\n",
    "./say_hello"
   ]
  },
  {
   "cell_type": "code",
   "execution_count": 9,
   "metadata": {
    "collapsed": false
   },
   "outputs": [
    {
     "name": "stderr",
     "output_type": "stream",
     "text": [
      "bash: line 4: say_hello: command not found\n",
      "bash: line 9: say_hello: command not found\n"
     ]
    }
   ],
   "source": [
    "%%bash\n",
    "\n",
    "# But if I try to run it without the ./\n",
    "\n",
    "say_hello\n",
    "\n",
    "# or from somewhere else\n",
    "\n",
    "cd ~\n",
    "say_hello"
   ]
  },
  {
   "cell_type": "code",
   "execution_count": 10,
   "metadata": {
    "collapsed": false
   },
   "outputs": [
    {
     "name": "stdout",
     "output_type": "stream",
     "text": [
      "Path\n",
      "/Users/brianmann/anaconda/bin:/usr/local/bin:/usr/bin:/bin:/usr/sbin:/sbin\n",
      "New Path\n",
      "/Users/brianmann/anaconda/bin:/usr/local/bin:/usr/bin:/bin:/usr/sbin:/sbin:/Users/brianmann/Coursework/fundamentals/lectures/\n",
      "Saying Hello!\n",
      "hello\n"
     ]
    }
   ],
   "source": [
    "%%bash\n",
    "\n",
    "# In order to run an exectuable file, unix needs to know where it is\n",
    "# That's what the PATH variable is for: it stores a list of locations\n",
    "# where unix will look for commands that you type in\n",
    "\n",
    "echo \"Path\"\n",
    "echo $PATH\n",
    "\n",
    "# You can add directories to your PATH by adding the following line to your .bash_profile\n",
    "\n",
    "export PATH=\"$PATH:/Users/$USER/Coursework/fundamentals/lectures/\"\n",
    "\n",
    "# Now, this directory will be in your path everytime to start a bash shell\n",
    "\n",
    "echo \"New Path\"\n",
    "echo $PATH\n",
    "\n",
    "# And I can run my function from anywhere\n",
    "echo \"Saying Hello!\"\n",
    "say_hello\n",
    "\n",
    "rm say_hello "
   ]
  },
  {
   "cell_type": "markdown",
   "metadata": {},
   "source": [
    "### Side Note\n",
    "\n",
    "The `$` operator is used to access the value of a bash variable."
   ]
  },
  {
   "cell_type": "code",
   "execution_count": 6,
   "metadata": {
    "collapsed": false
   },
   "outputs": [
    {
     "name": "stdout",
     "output_type": "stream",
     "text": [
      "/usr/local/Cellar/opencv/2.4.10/lib/python2.7/site-packages/:/Users/brianmann/spark-1.4.1-bin-hadoop2.4/python:/usr/local/Cellar/pandoc/1.16/bin:/Library/TeX/texbin:/usr/local/bin/:~/Applications/Postgres.app/Contents/Versions/9.4/bin/:/Users/brianmann/anaconda/bin:/usr/local/bin:/usr/bin:/bin:/usr/sbin:/sbin\n",
      "PATH\n"
     ]
    }
   ],
   "source": [
    "%%bash\n",
    "\n",
    "echo $PATH\n",
    "\n",
    "# versus\n",
    "\n",
    "echo PATH"
   ]
  },
  {
   "cell_type": "code",
   "execution_count": 11,
   "metadata": {
    "collapsed": false
   },
   "outputs": [
    {
     "name": "stdout",
     "output_type": "stream",
     "text": [
      "hello\n"
     ]
    }
   ],
   "source": [
    "%%bash\n",
    "\n",
    "echo \"hello\""
   ]
  },
  {
   "cell_type": "markdown",
   "metadata": {},
   "source": [
    "The function `cat` does the same thing, except if takes a file as input."
   ]
  },
  {
   "cell_type": "code",
   "execution_count": 12,
   "metadata": {
    "collapsed": false
   },
   "outputs": [
    {
     "name": "stdout",
     "output_type": "stream",
     "text": [
      "TEXT FLY WITHIN \n",
      "THE BOOK ONLY \n",
      "\n",
      "\n",
      "\n",
      "Tight Binding Book \n",
      "\n",
      "\n",
      "\n",
      "CO > UJ \n",
      "\n",
      "ft <OU_1 68052 >m \n",
      "\n",
      "\n",
      "\n",
      "OUP 2273 19-1 1-79 10,000 Copies. \n",
      "\n",
      "OSMANIA UNIVERSITY LIBRARY \n",
      "\n",
      "Call No ^^L Accession No ^95 gg \n",
      "\n",
      "Author -j- 4.STt> y^ \n",
      "\n",
      "Title W<U *'<P4>*' ( *~' \n",
      "\n",
      "This book should bc^rcturned on or before the date last marked below. \n",
      "\n",
      "\n",
      "\n",
      "War and Peace \n",
      "\n",
      "\n",
      "\n",
      "BY LEO TOLSTOY \n",
      "\n",
      "\n",
      "\n",
      "Translated b\\ LOUISE and AYLMER MAUDE \n",
      "\n",
      "\n",
      "\n",
      "\n",
      "WILLIAM BENTON, Publisher \n",
      "\n",
      "\n",
      "\n",
      "ENCYCLOPEDIA BR1TANNICA, INC. \n",
      "\n",
      "\n",
      "\n"
     ]
    }
   ],
   "source": [
    "%%bash\n",
    "\n",
    "cat ../data/truncated.txt"
   ]
  },
  {
   "cell_type": "code",
   "execution_count": 13,
   "metadata": {
    "collapsed": false
   },
   "outputs": [
    {
     "name": "stdout",
     "output_type": "stream",
     "text": [
      "Your username:\n",
      "brianmann\n",
      "Your home directory:\n",
      "/Users/brianmann\n",
      "Your shell:\n",
      "/bin/bash\n"
     ]
    }
   ],
   "source": [
    "%%bash\n",
    "\n",
    "# There are other environment variables like PATH\n",
    "\n",
    "echo \"Your username:\"\n",
    "echo $USER\n",
    "\n",
    "echo \"Your home directory:\"\n",
    "echo $HOME\n",
    "\n",
    "echo \"Your shell:\"\n",
    "echo $SHELL"
   ]
  },
  {
   "cell_type": "markdown",
   "metadata": {},
   "source": [
    "## Permissions\n",
    "\n",
    "In Unix, a user can have 3 types of permissions on a file: Read, Write, and Execute. "
   ]
  },
  {
   "cell_type": "code",
   "execution_count": 14,
   "metadata": {
    "collapsed": false
   },
   "outputs": [
    {
     "name": "stdout",
     "output_type": "stream",
     "text": [
      "bss-correct.pdf\n",
      "unix_lecture.ipynb\n"
     ]
    }
   ],
   "source": [
    "%%bash\n",
    "\n",
    "#The ls command will list all the files and directories contained in a directory\n",
    "\n",
    "ls"
   ]
  },
  {
   "cell_type": "code",
   "execution_count": 15,
   "metadata": {
    "collapsed": false
   },
   "outputs": [
    {
     "name": "stdout",
     "output_type": "stream",
     "text": [
      "total 496\n",
      "-rw-r--r--  1 brianmann  staff  226758 Oct 22 15:23 bss-correct.pdf\n",
      "-rw-r--r--  1 brianmann  staff   21655 Oct 23 09:49 unix_lecture.ipynb\n"
     ]
    }
   ],
   "source": [
    "%%bash\n",
    "\n",
    "# You can also add the -l flag to see more information\n",
    "\n",
    "ls -l"
   ]
  },
  {
   "cell_type": "markdown",
   "metadata": {},
   "source": [
    "The first 10 characters of the output above tells you the permissions:\n",
    "\n",
    "The first character is either `d` or `-`. This tells you whether it is a directory or not (a file). "
   ]
  },
  {
   "cell_type": "code",
   "execution_count": 16,
   "metadata": {
    "collapsed": false
   },
   "outputs": [
    {
     "name": "stdout",
     "output_type": "stream",
     "text": [
      "total 96\n",
      "-rw-r--r--  1 brianmann  staff   7514 Oct 22 15:23 Data science workflow.ipynb\n",
      "-rw-r--r--  1 brianmann  staff  13336 Oct 22 15:23 EDA.ipynb\n",
      "-rw-r--r--  1 brianmann  staff   5688 Oct 22 13:35 README.md\n",
      "drwxr-xr-x  5 brianmann  staff    170 Oct 22 21:48 data\n",
      "drwxr-xr-x  4 brianmann  staff    136 Oct 22 13:35 img\n",
      "-rw-r--r--  1 brianmann  staff   5501 Oct 22 13:35 individual.md\n",
      "drwxr-xr-x  5 brianmann  staff    170 Oct 23 09:51 lectures\n",
      "-rw-r--r--  1 brianmann  staff   3439 Oct 22 13:35 miniquiz.md\n",
      "-rw-r--r--  1 brianmann  staff     28 Oct 22 13:35 pair.md\n"
     ]
    }
   ],
   "source": [
    "%%bash\n",
    "\n",
    "# .. refers to the directory one level up\n",
    "\n",
    "ls -l .."
   ]
  },
  {
   "cell_type": "markdown",
   "metadata": {},
   "source": [
    "The next 9 characters are in blocks of 3: \n",
    "```\n",
    "user permissions | group permissions | other permissions\n",
    "```\n",
    "\n",
    "The first character is `'r'` or `'-'` : read permission.\n",
    "\n",
    "The second is `'w'` or `'-'` : write permissions.\n",
    "\n",
    "The third is `'x'` or `'-'` : execute permissions.\n",
    "\n",
    "In each line above, the owning user and the group that user is in are displyed in columns 3 and 4. So, for example, `brianmann` has `rwx` permissions on `say_hello`, but no one else has permissions to write to it or execute it. \n",
    "\n",
    "The `chmod` command will change permssions. The command looks something like \n",
    "\n",
    "```\n",
    "chmod 400 filename\n",
    "``` \n",
    "or\n",
    "```\n",
    "chmod 777 filename\n",
    "```\n",
    "\n",
    "\n",
    "`7` : read, write and execute || rwx\n",
    "\n",
    "`6` : read and write || rw-\n",
    "\n",
    "`5` : read and execute || r-x\n",
    "\n",
    "`4` : read only || r--\n",
    "\n",
    "`3` : write and execute || -wx\n",
    "\n",
    "`2` : write only || -w-\n",
    "\n",
    "`1` : execute only || --x\n",
    "\n",
    "`0` : none || ---\n"
   ]
  },
  {
   "cell_type": "markdown",
   "metadata": {},
   "source": [
    "## Exercise\n",
    "\n",
    "Figure out what it means for a directory to have read, write, or execute permissions."
   ]
  },
  {
   "cell_type": "markdown",
   "metadata": {},
   "source": [
    "## Navigating the Filesystem\n",
    "\n",
    "So, how do you navigate to, move, copy, or delete files and directories?\n",
    "\n",
    "`ls` [dir] : List the contents of a directory. Use current directory is dir is missing.\n",
    "\n",
    "`pwd` : Print current directory\n",
    "\n",
    "`cd` [dir] : Change directory. Uses$HOME if dir is missing.\n",
    "\n",
    "`mkdir` dir : Make a new directory\n",
    "\n",
    "`rmdir` dir : Delete directory\n",
    "\n",
    "`rm` file : Delete file\n",
    "\n",
    "`rm -rf` * : Nuke everything, file or an entire directory. This cannot be undone. It will not give you a warning if you're about to delete something important. Never do this.\n",
    "\n",
    "`mv` from to : Move a file or directory. Can also be used to rename a file or directory.\n",
    "\n",
    "`cp` : Copy files or directories.\n",
    "\n",
    "`find` : Traverse directory tree and execute commands\n",
    "\n",
    "`chmod` : Change permissions\n",
    "\n",
    "`chown` : Change ownership"
   ]
  },
  {
   "cell_type": "code",
   "execution_count": 41,
   "metadata": {
    "collapsed": false
   },
   "outputs": [
    {
     "name": "stdout",
     "output_type": "stream",
     "text": [
      "total 496\n",
      "-rw-r--r--  1 brianmann  staff  226758 Oct 22 15:23 bss-correct.pdf\n",
      "drwxr-xr-x  2 brianmann  staff      68 Oct 23 11:00 new\n",
      "-rw-r--r--  1 brianmann  staff   22125 Oct 23 11:00 unix_lecture.ipynb\n"
     ]
    }
   ],
   "source": [
    "%%bash \n",
    "\n",
    "mkdir new\n",
    "ls -l"
   ]
  },
  {
   "cell_type": "markdown",
   "metadata": {},
   "source": [
    "## Examining files\n",
    "\n",
    "What if you want to look at / know something about a file?\n",
    "\n",
    "`less` : View contents of a file and page through it.\n",
    "\n",
    "`grep` : Search lines for matches of a regular expression or string. Probably you want to use `grep -E` all the time, since it accepts more modern regex syntax. \n",
    "\n",
    "`cat` : Write one or more files to `stdout` one after the other.\n",
    "\n",
    "`head` : Print the first few lines of a file to `stdout`.\n",
    "\n",
    "`tail` : Print the last few lines of a file to `stdout`.\n",
    "\n",
    "`wc` : Print the number of character, words, and lines in a file.\n",
    "\n",
    "`cmp` : Tell if files are the same.\n",
    "\n",
    "`diff` : Show difference between files.\n",
    "\n",
    "`sum` : Compute checksum of file."
   ]
  },
  {
   "cell_type": "code",
   "execution_count": 62,
   "metadata": {
    "collapsed": false
   },
   "outputs": [
    {
     "name": "stdout",
     "output_type": "stream",
     "text": [
      "bss-correct.pdf\n",
      "say_hello\n",
      "unix_lecture.ipynb\n"
     ]
    }
   ],
   "source": [
    "%%bash\n",
    "\n",
    "ls"
   ]
  },
  {
   "cell_type": "markdown",
   "metadata": {},
   "source": [
    "## Doing things with files\n",
    "\n",
    "All unix functions are based on the idea that text files are made up of lines or text. \n",
    "\n",
    "`sort` : Sorts the lines in a file\n",
    "\n",
    "`uniq` : Outputs file with adjacent identical lines collapsed to one\n",
    "\n",
    "`cut` : Extract parts of each line of input\n",
    "\n",
    "`paste` : Joins files by outputing sequentially corresponding lines of each file (horizontal version of `cat`)\n",
    "\n",
    "`sed` : Find and replace with regex.\n",
    "\n",
    "`tr` : A simple character find and replace. Slightly less useful than `sed` but it allows you to replace things with newlines `'\\n'`, which doesn't work in `sed`. \n",
    "\n",
    "`awk` : Command for more advanced line-by-line file manipulation.\n",
    "\n",
    "`grep` : Command for searching files with regular expressions."
   ]
  },
  {
   "cell_type": "code",
   "execution_count": 14,
   "metadata": {
    "collapsed": false
   },
   "outputs": [
    {
     "name": "stdout",
     "output_type": "stream",
     "text": [
      "    \"## More advanced pipelines\\n\",\n"
     ]
    }
   ],
   "source": [
    "%%bash\n",
    "\n",
    "grep -E \"pipelines\" unix_lecture.ipynb"
   ]
  },
  {
   "cell_type": "markdown",
   "metadata": {},
   "source": [
    "## More advanced pipelines\n",
    "\n",
    "What if I want to chain these commands together? Do I need to write the result to a file each time and then read that in to the next command? NO!\n",
    "\n",
    "You can use IO redirection and pipes: `>, <, >>, |`\n",
    "\n",
    "`>` : Redirect output to a file. WILL OVERWRITE IF EXISTS.\n",
    "\n",
    "`>>` : Append output to and existing file.\n",
    "\n",
    "`<` : Read a command's input from disk.\n",
    "\n",
    "`|` : Pass output from one command as the input to another."
   ]
  },
  {
   "cell_type": "code",
   "execution_count": 40,
   "metadata": {
    "collapsed": false
   },
   "outputs": [
    {
     "name": "stdout",
     "output_type": "stream",
     "text": [
      "     536\n"
     ]
    }
   ],
   "source": [
    "%%bash\n",
    "\n",
    "# A simple pipeline to count the number of appearances of the word 'war' in War and Peace\n",
    "\n",
    "cat ../data/war_and_peace.txt | tr [A-Z] [a-z] | tr ' ' '\\n' | sed 's/\\.|,//g' | grep -E '^war$' | wc -l"
   ]
  },
  {
   "cell_type": "code",
   "execution_count": 39,
   "metadata": {
    "collapsed": false,
    "slideshow": {
     "slide_type": "-"
    }
   },
   "outputs": [
    {
     "name": "stdout",
     "output_type": "stream",
     "text": [
      " 408 peace\n",
      " 536 war\n"
     ]
    }
   ],
   "source": [
    "%%bash\n",
    "\n",
    "# We can also compare the number of occurances of 'peace' with 'war'\n",
    "\n",
    "cat ../data/war_and_peace.txt | tr [A-Z] [a-z] | tr ' ' '\\n' | sed 's/\\.|,//g' |\n",
    "grep -E '^(peace|war)$' | sort | uniq -c"
   ]
  },
  {
   "cell_type": "code",
   "execution_count": 25,
   "metadata": {
    "collapsed": false
   },
   "outputs": [
    {
     "name": "stdout",
     "output_type": "stream",
     "text": [
      "WILLIAM BENTON, Publisher \n"
     ]
    }
   ],
   "source": [
    "%%bash\n",
    "\n",
    "# Using the < operator\n",
    "\n",
    "grep -E '[Pp]ublisher' < ../data/war_and_peace.txt"
   ]
  },
  {
   "cell_type": "markdown",
   "metadata": {},
   "source": [
    "## A Simple Bash Script\n",
    "\n",
    "Let's write a simple program that will count the number of times your name appears in a text file.\n",
    "\n",
    "```\n",
    "#!/bin/bash\n",
    "\n",
    "NAME=$(echo $1 | tr [A-Z] [a-z])\n",
    "cat $2 | tr [A-Z] [a-z] | tr ' ' '\\n' | grep ^$NAME$ | wc -l\n",
    "```\n",
    "\n",
    "Bash scripting is kind of a lost art. If you want to write a complicated bash script, be prepared to do a lot of googling."
   ]
  },
  {
   "cell_type": "markdown",
   "metadata": {},
   "source": [
    "## Remote machines\n",
    "\n",
    "### ssh\n",
    "\n",
    "If you need to access a machine remotely, for example an EC2 instance on AWS, you'll need to use `ssh`.\n",
    "\n",
    "The general syntax is \n",
    "\n",
    "```\n",
    "ssh user@remote-hostname\n",
    "```\n",
    "\n",
    "This will log you into the host and open a command shell. There are some other options, like `-i` for credentials to connect securely.\n",
    "\n",
    "### scp\n",
    "\n",
    "If you don't want access to a terminal, but just to transfer files to and from a remote host, use `scp`.\n",
    "\n",
    "The basic syntax is\n",
    "\n",
    "```\n",
    "scp source_file_name username@destination_host:destination_folder\n",
    "```\n",
    "\n",
    "### sftp\n",
    "\n",
    "Using syntax similar to `ssh` we can run\n",
    "\n",
    "```\n",
    "sftp user@remote-hostname\n",
    "```\n",
    "\n",
    "to open a secure file transfer protocol. This opens a sftp shell which allows you to use a limited set of commands to navigate the remote filesystem and transfer files back and forth.\n",
    "\n"
   ]
  },
  {
   "cell_type": "markdown",
   "metadata": {},
   "source": [
    "## Text Editors\n",
    "\n",
    "If you `ssh` into a host, you need to do everything via the command line. That means no Atom or SublimeText or Gedit to edit your code. You'll need to use a terminal based text editor like Vi, Vim, Emacs, Nano, or Pico. \n",
    "\n",
    "People debate which is 'best' with nearly religious fervor. I like Vim. Lots of people like Emacs. I'm not very familiar with Nano or Pico. Pick one and learn the keyboard shortcuts - they'll all work just fine."
   ]
  },
  {
   "cell_type": "markdown",
   "metadata": {},
   "source": [
    "## Regular Expressions (Regex)\n",
    "\n",
    "Regular expressions are way to search text for patterns instead of just matching strings.\n",
    "\n",
    "For example, if you wanted to search a file for phone numbers, you might do something like:\n",
    "\n",
    "```\n",
    "[0-9]{3}-[0-9]{4}\n",
    "```\n",
    "\n",
    "`\\d` : Matches a numeric character 0-9. Equivalent to `[0-9]`\n",
    "\n",
    "`{n}` : Means 'match the previous pattern exactly n times'"
   ]
  },
  {
   "cell_type": "code",
   "execution_count": 27,
   "metadata": {
    "collapsed": false
   },
   "outputs": [
    {
     "name": "stdout",
     "output_type": "stream",
     "text": [
      "345-5678\n",
      "world\n",
      " 2430 ttys001    0:00.00 /bin/bash /Users/brianmann/anaconda/bin/python.app /Users/brianmann/anaconda/bin/ipython notebook\n",
      " 2431 ttys001    0:04.10 /Users/brianmann/anaconda/python.app/Contents/MacOS/python /Users/brianmann/anaconda/bin/ipython notebook\n",
      " 2441 ttys001    0:01.98 /Users/brianmann/anaconda/bin/python -m ipykernel -f /Users/brianmann/Library/Jupyter/runtime/kernel-0c73ae62-3dba-4185-9b23-a3b02477490d.json\n",
      " 2798 ttys001    0:00.00 grep python\n"
     ]
    }
   ],
   "source": [
    "%%bash \n",
    "\n",
    "echo \"345-5678\" | grep -E '\\d{3}-\\d{4}'\n",
    "echo \"345-567\" | grep -E '\\d{3}-\\d{4}'\n",
    "\n",
    "echo 'world' | grep -E world\n",
    "\n",
    "ps -A | grep python"
   ]
  },
  {
   "cell_type": "markdown",
   "metadata": {},
   "source": [
    "This regex is pretty simplistic though. What about phone numbers like (123) 456-7890 or 123-456-7890?\n",
    "\n",
    "Turns out you need something like \n",
    "\n",
    "```\n",
    "^(\\+\\d{1,2}\\s)?\\(?\\d{3}\\)?[\\s.-]?\\d{3}[\\s.-]?\\d{4}$\n",
    "```\n",
    "\n",
    "Regular expressions can get pretty complicated if you need to search for something general. It can be a puzzle to create one that works. Here's a [tutorial](http://www.tutorialspoint.com/python/python_reg_expressions.htm). The best way to learn is just to practice!\n",
    "\n",
    "![Regex](https://imgs.xkcd.com/comics/regex_golf.png)"
   ]
  },
  {
   "cell_type": "code",
   "execution_count": null,
   "metadata": {
    "collapsed": true
   },
   "outputs": [],
   "source": []
  }
 ],
 "metadata": {
  "kernelspec": {
   "display_name": "Python 2",
   "language": "python",
   "name": "python2"
  },
  "language_info": {
   "codemirror_mode": {
    "name": "ipython",
    "version": 2
   },
   "file_extension": ".py",
   "mimetype": "text/x-python",
   "name": "python",
   "nbconvert_exporter": "python",
   "pygments_lexer": "ipython2",
   "version": "2.7.11"
  }
 },
 "nbformat": 4,
 "nbformat_minor": 0
}
