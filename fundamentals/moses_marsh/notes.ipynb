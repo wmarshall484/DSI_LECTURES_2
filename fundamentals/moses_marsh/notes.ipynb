{
 "cells": [
  {
   "cell_type": "markdown",
   "metadata": {},
   "source": [
    "# Note!\n",
    "Despite being in an \"ipython notebook\", I won't be writing any python. But I will be showing how to use bash commands. To do so in a notebook, you must prepend the command with an exclamation point (!), also called a \"bang\"."
   ]
  },
  {
   "cell_type": "code",
   "execution_count": 4,
   "metadata": {},
   "outputs": [
    {
     "name": "stdout",
     "output_type": "stream",
     "text": [
      "/home/moses/galv/gschool/DSI_Lectures/fundamentals/moses_marsh\r\n"
     ]
    }
   ],
   "source": [
    "!pwd"
   ]
  },
  {
   "cell_type": "code",
   "execution_count": 3,
   "metadata": {},
   "outputs": [
    {
     "name": "stdout",
     "output_type": "stream",
     "text": [
      "notes.ipynb\r\n"
     ]
    }
   ],
   "source": [
    "!ls"
   ]
  },
  {
   "cell_type": "markdown",
   "metadata": {},
   "source": [
    "All the commands you see could simply be typed into your terminal, just omit the bangs. "
   ]
  },
  {
   "cell_type": "markdown",
   "metadata": {},
   "source": [
    "# Unix fundamentals\n",
    "\n",
    "## Lecture Credits\n",
    "\n",
    " * Moses Marsh\n",
    " * Miles Erickson\n",
    " * Ben Skrainka\n",
    " * Jack Bennetto\n",
    "\n",
    "## Objectives\n",
    " * Perform basic file operations from the command line\n",
    " * Get help using man\n",
    " * Configure environment in .bash_profile\n",
    " * Manage a process with job control\n",
    " * Write a simple regular expression\n",
    " * Use grep/sed/awk/cut/paste to process/clean a text file\n",
    " * Perform “survival” edits using vi"
   ]
  },
  {
   "cell_type": "markdown",
   "metadata": {},
   "source": [
    "# Agenda\n",
    "* About operating systems and unix\n",
    "* Using a shell\n",
    "* Files and permissions\n",
    "* Basic commands"
   ]
  },
  {
   "cell_type": "markdown",
   "metadata": {},
   "source": [
    "# What is an Operating System?\n",
    "\n",
    "Operating system: the collection of software that directs a computer's operations, controlling and scheduling the execution of other programs, and managing storage, input/output, and communication resources. (Dictionary.com)\n",
    "\n",
    "Many pieces\n",
    "\n",
    " * Kernel (CPU, memory, processes, users)\n",
    " * Device drivers (keyboard, mouse, displays, ...)\n",
    " * File manager\n",
    " * System processes\n",
    " * User interface (shells and GUI)\n",
    " * Standard programs\n"
   ]
  },
  {
   "cell_type": "markdown",
   "metadata": {},
   "source": [
    "# Windows and Unix\n",
    "\n",
    "Windows (most desktops and laptops)\n",
    "\n",
    " * Made by Microsoft\n",
    " * Proprietary\n",
    " * More GUI based\n",
    "\n",
    "Unix\n",
    "\n",
    " * Many versions, made by different companies, groups, or people (including Apple since 2002)\n",
    " * Originally a commercial product\n",
    " * Linux and FreeBSD are *open-source* versions of Unix\n",
    " * More command-line based\n",
    " * Small, simple commands\n",
    " * Everything is a file\n",
    "\n"
   ]
  },
  {
   "cell_type": "markdown",
   "metadata": {},
   "source": [
    "# Shells\n",
    "\n",
    "A shell is a command-line interface that interprets user input, runs programs, and output results.\n",
    "\n",
    " * sh (Bourne Shell)\n",
    " * ksh (Korn Shell)\n",
    " * **bash** (Bourne-again shell)\n",
    " * csh (C shell)\n",
    " * tcsh\n",
    " * zsh\n",
    "\n",
    "All are also scripting languages.\n",
    "\n",
    "A terminal is a *window displaying a shell prompt*. You may hear people use \"terminal\" and \"shell\" interchangeably, but they are confused. \n"
   ]
  },
  {
   "cell_type": "markdown",
   "metadata": {},
   "source": [
    "# Processes\n",
    "\n",
    "A process consists of\n",
    "\n",
    " * One or more threads\n",
    " * Program text\n",
    " * Memory for stack and heap\n",
    " * File descriptors\n",
    " * Environment\n",
    " * Owner and privilege"
   ]
  },
  {
   "cell_type": "markdown",
   "metadata": {},
   "source": [
    "To view running processes, type `ps`"
   ]
  },
  {
   "cell_type": "code",
   "execution_count": 5,
   "metadata": {
    "scrolled": false
   },
   "outputs": [
    {
     "name": "stdout",
     "output_type": "stream",
     "text": [
      "  PID TTY          TIME CMD\r\n",
      " 9523 pts/6    00:00:00 sh\r\n",
      " 9524 pts/6    00:00:00 ps\r\n"
     ]
    }
   ],
   "source": [
    "!ps"
   ]
  },
  {
   "cell_type": "markdown",
   "metadata": {},
   "source": [
    "By default, `ps` only shows processes started by "
   ]
  },
  {
   "cell_type": "code",
   "execution_count": 19,
   "metadata": {},
   "outputs": [],
   "source": [
    "#!ps waux"
   ]
  },
  {
   "cell_type": "markdown",
   "metadata": {},
   "source": [
    "# Redirection and Pipes\n",
    "\n",
    "Most commands read from STDIN (\"standard input\") and write to STDOUT and STDERR.\n",
    "\n",
    " * Redirect a file to STDIN with `<`\n",
    " * Redirect STDOUT to a file with `>`\n",
    " * Redirect STDERR to a file with `2>`\n",
    " * Append STDOUT to a file with `>>`\n",
    " * Connect the STDOUT of one command with the STDIN of another with `|`\n",
    "\n",
    "`grep export < .bash_profile | sort > temp`\n"
   ]
  },
  {
   "cell_type": "markdown",
   "metadata": {},
   "source": [
    "# File structure\n",
    "\n",
    "Basic file commands\n",
    "\n",
    " * `pwd` (print working directory)\n",
    " * `ls` (list directory)\n",
    " * `cd` (change directory)\n",
    " * `pushd`, `popd` (occasionally useful)\n",
    "\n",
    "Directories contain files and other directories, with names separated by `/`\n",
    "\n",
    "Special directories:\n",
    "\n",
    " * `/` root, the top-level directory\n",
    " * `~` your home directory\n",
    " * `.` the current directory\n",
    " * `..` the parent directory\n",
    "\n",
    "Absolute paths start with `/` (or `~`). Relative paths don't.\n"
   ]
  },
  {
   "cell_type": "markdown",
   "metadata": {},
   "source": [
    "# Command-line Options\n",
    "\n",
    "Most commands have can take options.\n",
    "\n",
    "Usually\n",
    "\n",
    " * single-character options are preceded by `-` and can be combined\n",
    " * full-word options are preceded by `--`\n",
    "Usually.\n",
    "\n",
    "Examples:\n",
    "\n",
    " * `python --version`\n",
    " * `ls -l`\n",
    " * `ls -la`\n",
    "\n",
    "See `man ` *command* for more details.\n"
   ]
  },
  {
   "cell_type": "markdown",
   "metadata": {},
   "source": [
    "\n",
    "# Permissions\n",
    "\n",
    "Each file has read, write, and execute permissions for the owner, the group, and the world.\n",
    "\n",
    "Examine with `ls -la`\n",
    "\n",
    "`drwxr-xr-x   7 jdoe  staff     238 Sep 11 21:21 .`\n",
    "\n",
    "`drwxr-xr-x  54 jdoe  staff    1836 Sep 11 19:07 ..`\n",
    "\n",
    "`-rw-r--r--   1 jdoe  staff    4025 Sep 11 21:21 unix.md`\n",
    "\n",
    "`-rw-r--r--@  1 jdoe  staff  128995 Sep 11 21:05 unix.pdf`\n",
    "\n",
    "Set with `chmod`\n"
   ]
  },
  {
   "cell_type": "markdown",
   "metadata": {},
   "source": [
    "\n",
    "# Basic Commands\n",
    "\n",
    "Most commands \n",
    "Help\n",
    "\n",
    " * man (read `man man` for more information)\n",
    " * info (probably not helpful for you)\n",
    "\n",
    "Files and directories\n",
    "\n",
    " * `cat` (output file(s) to STDOUT)\n",
    " * `less` (page through files)\n",
    " * `head` and `tail` (look at start and end of file)\n",
    " * `mv` (move file or directory)\n",
    " * `cp` (copy file or directory)\n",
    " * `rm` (remove file or directory; use `-rf` *carefully* to remove directory)\n",
    " * `mkdir` and `rmdir` (make and remove directory)\n",
    " * `touch` (create empty file, or update timestamp)\n",
    " * `diff` (compare files)\n",
    "\n"
   ]
  },
  {
   "cell_type": "markdown",
   "metadata": {},
   "source": [
    "# Common Filters\n",
    "\n",
    "This can be passed a file, or read from STDIN\n",
    "\n",
    " * `wc` (count lines/words/characters)\n",
    " * `grep` or `egrep` (find lines that contain strings)\n",
    " * `sort`\n",
    " * `uniq` (combine consecutive identical lines; use `-c` to count)\n",
    " * `tr` (transpose characters)\n",
    " * `cut` (select specific columns of csv or tsv)\n",
    " * `paste` (like SQL join; not that common)\n",
    " * `sed`, `awk`, and `perl` (languages for file manipulation)\n"
   ]
  },
  {
   "cell_type": "markdown",
   "metadata": {},
   "source": [
    "# Regular Expressions\n",
    "\n",
    "The `grep` command (and many languages) use regular expressions to match files.\n",
    "\n",
    "Most characters match themselves. Some don't.\n",
    "\n",
    " * `.` matches anything other than a newline\n",
    " * `*` match zero or more of previous atom\n",
    " * `+` match one or more of previous atom\n",
    " * `|` match either previous or next item\n",
    " * `[abc0-9]` match any of characters within\n",
    " * `\\` escape previous character\n",
    " * `\\(\\)` for grouping (use egrep to use without `\\`)\n"
   ]
  },
  {
   "cell_type": "markdown",
   "metadata": {},
   "source": [
    "# Other Useful Commands\n",
    "\n",
    "* `echo` (echo to STDOUT)\n",
    "* `find` (find files that match something and maybe do something with them)\n",
    "* `ps` (list processes; `ps aux` lists all with more fields)\n",
    "* `kill` (kills a process by pid; `kill -9` really kills it)\n",
    "* `tar` (archive directories into a single file)\n"
   ]
  },
  {
   "cell_type": "markdown",
   "metadata": {},
   "source": [
    "# Job Control\n",
    "\n",
    "Multiple jobs can run from a shell an once. Jobs can be\n",
    "\n",
    " * stopped (paused)\n",
    " * foreground (blocks other actions)\n",
    " * background (can't read input but still prints)\n",
    "\n",
    "Important commands\n",
    "\n",
    " * jobs (list jobs)\n",
    " * `&` (when added to the end of a command, starts job in the background)\n",
    " * `fg` (puts a stopped/background job in foreground)\n",
    " * `bg` (puts stopped job in background)\n",
    " * `^Z` (stops foreground job)\n",
    " * `^C` (kills foreground job)\n",
    " * `kill %1` (kills job 1)"
   ]
  },
  {
   "cell_type": "markdown",
   "metadata": {},
   "source": [
    "# Environment Variables\n",
    "\n",
    "List with `env`\n",
    "\n",
    "Set with `VAR=foo`, or `export VAR=foo` when run from a script (e.g., .bash_profile)"
   ]
  },
  {
   "cell_type": "markdown",
   "metadata": {},
   "source": [
    "# Basic vi\n",
    "\n",
    "Two main modes\n",
    "\n",
    " * Insert mode (typing stuff inserts it in file)\n",
    " * Command mode (each key has meaning)\n",
    "\n",
    "The *escape* key brings you to command mode; *i* enters insert mode\n",
    "\n",
    "Helpful commands\n",
    "\n",
    " * `i` (enter insert mode)\n",
    " * `a` (enter insert mode after this character)\n",
    " * `dd` (delete a line)\n",
    " * `100G` (go to line 100)\n",
    " * `:wq` (save and exit)\n",
    " * `:q!` (exit without saving)"
   ]
  },
  {
   "cell_type": "markdown",
   "metadata": {},
   "source": [
    "\n",
    "# Editing `~/.bash_profile` (`~/.bashrc` on linux)\n",
    "\n",
    "`alias h='history'`\n",
    "\n",
    "`alias l='ls -GFh'`\n",
    "\n",
    "`alias ll='ls -lFGh'`"
   ]
  },
  {
   "cell_type": "code",
   "execution_count": null,
   "metadata": {},
   "outputs": [],
   "source": []
  }
 ],
 "metadata": {
  "kernelspec": {
   "display_name": "Python 3",
   "language": "python",
   "name": "python3"
  },
  "language_info": {
   "codemirror_mode": {
    "name": "ipython",
    "version": 3
   },
   "file_extension": ".py",
   "mimetype": "text/x-python",
   "name": "python",
   "nbconvert_exporter": "python",
   "pygments_lexer": "ipython3",
   "version": "3.6.2"
  }
 },
 "nbformat": 4,
 "nbformat_minor": 2
}
