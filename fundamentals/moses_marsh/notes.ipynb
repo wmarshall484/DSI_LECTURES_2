{
 "cells": [
  {
   "cell_type": "markdown",
   "metadata": {},
   "source": [
    "# Note!\n",
    "Despite being in an \"ipython notebook\", I won't be writing any python. But I will be showing how to use bash commands. To do so in a notebook, you must prepend the command with an exclamation point (!), also called a \"bang\"."
   ]
  },
  {
   "cell_type": "code",
   "execution_count": 1,
   "metadata": {},
   "outputs": [
    {
     "name": "stdout",
     "output_type": "stream",
     "text": [
      "/home/moses/galv/gschool/DSI_Lectures/fundamentals/moses_marsh\r\n"
     ]
    }
   ],
   "source": [
    "!pwd"
   ]
  },
  {
   "cell_type": "code",
   "execution_count": 2,
   "metadata": {},
   "outputs": [
    {
     "name": "stdout",
     "output_type": "stream",
     "text": [
      "notes.ipynb  poem.txt  processes.txt\r\n"
     ]
    }
   ],
   "source": [
    "!ls"
   ]
  },
  {
   "cell_type": "markdown",
   "metadata": {},
   "source": [
    "All the commands you see could simply be typed into your terminal, just omit the bangs. "
   ]
  },
  {
   "cell_type": "markdown",
   "metadata": {},
   "source": [
    "# Unix fundamentals\n",
    "\n",
    "## Lecture Credits\n",
    "\n",
    " * Moses Marsh\n",
    " * Miles Erickson\n",
    " * Ben Skrainka\n",
    " * Jack Bennetto\n",
    "\n",
    "## Objectives\n",
    " * Perform basic file operations from the command line\n",
    " * Get help using man\n",
    " * Configure environment in .bash_profile\n",
    " * Manage a process with job control\n",
    " * Write a simple regular expression\n",
    " * Use grep/sed/awk/cut/paste to process/clean a text file\n",
    " * Perform “survival” edits using vi"
   ]
  },
  {
   "cell_type": "markdown",
   "metadata": {},
   "source": [
    "# Agenda\n",
    "* About operating systems and unix\n",
    "* Using a shell\n",
    "* Files and permissions\n",
    "* Basic commands"
   ]
  },
  {
   "cell_type": "markdown",
   "metadata": {},
   "source": [
    "# What is an Operating System?\n",
    "\n",
    "Operating system: the collection of software that directs a computer's operations, controlling and scheduling the execution of other programs, and managing storage, input/output, and communication resources. (Dictionary.com)\n",
    "\n",
    "Many pieces\n",
    "\n",
    " * Kernel (CPU, memory, processes, users)\n",
    " * Device drivers (keyboard, mouse, displays, ...)\n",
    " * File manager\n",
    " * System processes\n",
    " * User interface (shells and GUI)\n",
    " * Standard programs\n"
   ]
  },
  {
   "cell_type": "markdown",
   "metadata": {},
   "source": [
    "# Windows and Unix\n",
    "\n",
    "Windows (most desktops and laptops)\n",
    "\n",
    " * Made by Microsoft\n",
    " * Proprietary\n",
    " * More GUI based\n",
    "\n",
    "Unix\n",
    "\n",
    " * Many versions, made by different companies, groups, or people (including Apple since 2002)\n",
    " * Originally a commercial product\n",
    " * Linux and FreeBSD are *open-source* versions of Unix\n",
    " * More command-line based\n",
    " * Small, simple commands\n",
    " * Everything is a file\n",
    "\n"
   ]
  },
  {
   "cell_type": "markdown",
   "metadata": {},
   "source": [
    "# Shells\n",
    "\n",
    "A shell is a command-line interface that interprets user input, runs programs, and output results.\n",
    "\n",
    " * sh (Bourne Shell)\n",
    " * ksh (Korn Shell)\n",
    " * **bash** (Bourne-again shell)\n",
    " * csh (C shell)\n",
    " * tcsh\n",
    " * zsh\n",
    "\n",
    "All are also scripting languages.\n",
    "\n",
    "A terminal is a *window displaying a shell prompt*. The shell is the *process running on a computer that takes commands as input*. You may hear people use \"terminal\" and \"shell\" interchangeably, but they are confused. \n",
    "\n",
    "The [original computing terminal](https://en.wikipedia.org/wiki/Computer_terminal) was a teletypewriter (TTY). Commands were typed and zapped over to the room-sized computer mainframe. [UNIX](https://en.wikipedia.org/wiki/History_of_Unix) was developed in this environment, so many commands retain the terminology of teletypewriters and tape drives. "
   ]
  },
  {
   "cell_type": "markdown",
   "metadata": {},
   "source": [
    "# Processes\n",
    "\n",
    "A process is a program or task running on a computer.\n",
    "\n",
    "A single process consists of:\n",
    " * One or more threads\n",
    " * Program text\n",
    " * Memory for stack and heap\n",
    " * File descriptors\n",
    " * Environment\n",
    " * Owner and privilege"
   ]
  },
  {
   "cell_type": "markdown",
   "metadata": {},
   "source": [
    "To view running processes and their details, type `ps`"
   ]
  },
  {
   "cell_type": "code",
   "execution_count": 3,
   "metadata": {
    "scrolled": false
   },
   "outputs": [
    {
     "name": "stdout",
     "output_type": "stream",
     "text": [
      "  PID TTY          TIME CMD\r\n",
      "19574 pts/6    00:00:00 sh\r\n",
      "19575 pts/6    00:00:00 ps\r\n"
     ]
    }
   ],
   "source": [
    "!ps"
   ]
  },
  {
   "cell_type": "markdown",
   "metadata": {},
   "source": [
    "By default, `ps` only shows processes started by you (that is, the userid associated with you, and not processes started by other users or the `root` user), and started in the same terminal that you just typed `ps` into. \n",
    "\n",
    "To show all processes started by all users in all terminals, typ `ps waux`"
   ]
  },
  {
   "cell_type": "code",
   "execution_count": 4,
   "metadata": {},
   "outputs": [],
   "source": [
    "#!ps waux"
   ]
  },
  {
   "cell_type": "markdown",
   "metadata": {},
   "source": [
    "To kill a misbehaving (or frozen) process, type `kill <PID>` (where `<PID>` is the process id listed in `ps` above).\n",
    "\n",
    "Sometimes you may have the use the `-9` option of the `kill` command, which you can think of as a \"hard shutdown\" of a process. `kill -9 <PID>`"
   ]
  },
  {
   "cell_type": "markdown",
   "metadata": {},
   "source": [
    "# File structure\n",
    "\n",
    "Basic file commands\n",
    "\n",
    " * `pwd` (print working directory)\n",
    " * `ls` (list directory)\n",
    " * `cd` (change directory)\n",
    "\n",
    "Directories contain files and other directories, with names separated by `/`\n",
    "\n",
    "Special directories:\n",
    "\n",
    " * `/` root, the top-level directory\n",
    " * `~` your home directory\n",
    " * `.` the current directory\n",
    " * `..` the parent directory\n",
    "\n",
    "Absolute paths start with `/` (or `~`). Relative paths don't.\n"
   ]
  },
  {
   "cell_type": "markdown",
   "metadata": {},
   "source": [
    "# Command-line Options\n",
    "\n",
    "Most commands have can take options.\n",
    "\n",
    "Usually\n",
    "\n",
    " * single-character options are preceded by `-` and can be combined\n",
    " * full-word options are preceded by `--`\n",
    "Usually.\n",
    "\n",
    "Examples:\n",
    "\n",
    " * `python --version`\n",
    " * `ls -l`\n",
    " * `ls -la`\n",
    "\n",
    "See `man ` *command* for more details.\n"
   ]
  },
  {
   "cell_type": "markdown",
   "metadata": {},
   "source": [
    "\n",
    "# Basic Commands\n",
    "\n",
    "### Help\n",
    "\n",
    " * `man` (read `man man` for more information)\n",
    "\n",
    "### Files and directories\n",
    "\n",
    " * `cat` (output file(s) to STDOUT)\n",
    " * `less` (page through files)\n",
    " * `head` and `tail` (look at start and end of file)\n",
    " * `mv` (move file or directory)\n",
    " * `cp` (copy a file, use `cp -r` to copy a directory)\n",
    " * `rm` (remove file or directory; use `-rf` *carefully* to remove directory)\n",
    " * `mkdir` and `rmdir` (make and remove directory)\n",
    " * `touch` (create empty file, or update timestamp)\n",
    " * `diff` (compare files)\n",
    "\n",
    "### Managing processes\n",
    " * `ps` (display running processes)\n",
    "   * `ps waux` (display all processes from all users)\n",
    " * `kill` (terminate a process)\n",
    "   * If you have a process running in your terminal, `<Ctrl>-C` should kill it. If that fails, you'll have to use `kill`.\n",
    " * `<bash command> &` (run process in background. [more info](https://bashitout.com/2013/05/18/Ampersands-on-the-command-line.html))\n",
    "   * If you have a process running in your terminal, `<Ctrl>-Z` pauses the process and sends it into the background. It does NOT kill that process. \n",
    " * `jobs` (show background processes running in the current shell session; each process has a _job number_. [more info](http://tldp.org/LDP/abs/html/x9644.html))\n",
    "   * `bg <job number>` (resume a suspended job and run it in the background)\n",
    "   * `fg <job number>` (send a background job into the foreground)"
   ]
  },
  {
   "cell_type": "markdown",
   "metadata": {},
   "source": [
    "### Common Filters\n",
    "\n",
    "These can be passed a file, or read from STDIN\n",
    "\n",
    " * `wc` (count lines/words/characters)\n",
    " * `grep` or `egrep` (find lines that contain strings)\n",
    " * `sort`\n",
    " * `uniq` (combine consecutive identical lines; use `-c` to count)\n",
    " * `tr` (transpose characters)\n",
    " * `cut` (select specific columns of csv or tsv)\n",
    " * `paste` (like SQL join; not that common)\n",
    " * `sed`, `awk`, and `perl` (languages for file manipulation)\n"
   ]
  },
  {
   "cell_type": "markdown",
   "metadata": {},
   "source": [
    "### Other Useful Commands\n",
    "\n",
    "* `echo` (echo to STDOUT)\n",
    "* `find` (find files that match something and maybe do something with them)\n",
    "* `which <bash command>` (show the path to the executable file for that bash command)\n",
    "* `tar` (archive directories into a single file)\n"
   ]
  },
  {
   "cell_type": "code",
   "execution_count": 5,
   "metadata": {},
   "outputs": [
    {
     "name": "stdout",
     "output_type": "stream",
     "text": [
      "total 48K\r\n",
      "drwxr-xr-x  3 moses moses 4.0K Sep 13 13:37 .\r\n",
      "drwxr-xr-x 12 moses moses 4.0K Sep 13 10:47 ..\r\n",
      "drwxr-xr-x  2 moses moses 4.0K Sep 13 10:47 .ipynb_checkpoints\r\n",
      "-rw-r--r--  1 moses moses  28K Sep 13 13:37 notes.ipynb\r\n",
      "-rw-r--r--  1 moses moses 1.7K Sep 13 13:05 poem.txt\r\n",
      "-rw-r--r--  1 moses moses 1.7K Sep 13 13:14 processes.txt\r\n"
     ]
    }
   ],
   "source": [
    "!ls -alh"
   ]
  },
  {
   "cell_type": "code",
   "execution_count": 6,
   "metadata": {
    "scrolled": false
   },
   "outputs": [
    {
     "name": "stdout",
     "output_type": "stream",
     "text": [
      "this is a UNIX poem\r\n",
      "from an ancient epoch\r\n",
      "grep, ye mighty, and despair\r\n",
      "also have a donut\r\n",
      "                               $@@@@@@@                                        \r\n",
      "                          $@@@$$$$$########$#                                  \r\n",
      "                       #$$$$$$$###****!**!***##                                \r\n",
      "                      $$$$$$$#****!!======!=!!!***                             \r\n",
      "                    *#$$$$$##***====;:::::;;==!!!**                            \r\n",
      "                   *########**!!=;::~-,,,,--~:==!!**                           \r\n",
      "                  !*#######***!=;:~-,......,-~;;=!!**                          \r\n",
      "                  !*######***!==;:-.........,-:;=!!**!                         \r\n",
      "                 =!**####****!!=:~,.     ...,~;=!*****;                        \r\n",
      "                 =!**********!!=;:-        .-:=**####*=                        \r\n",
      "                 ;=**********!!!=;:,       -=**##$###*=                        \r\n",
      "                 ;=!!!********!!!!=;~      !#$$$$$$$#*=                        \r\n",
      "                  ;=!!!********!!!!!=== =*#$$@@@@$$#*!;                        \r\n",
      "                  :;=!!!*!**************##$$$@@@$$##!=:                        \r\n",
      "                   :;==!!!!!*!*********###$$$$$$$#*!==                         \r\n",
      "                    :;===!!!!!!!!*******########**!=;-                         \r\n",
      "                     ~:;;====!!!!!!!***********!!==;,                          \r\n",
      "                      .~::;=====!!!!!!!!!!!!==!!=;~                            \r\n",
      "                        .-~::;;;=;============;:~.                             \r\n",
      "                           .--~~:::;::;;::::~-,       \r\n"
     ]
    }
   ],
   "source": [
    "!cat poem.txt"
   ]
  },
  {
   "cell_type": "code",
   "execution_count": 7,
   "metadata": {},
   "outputs": [
    {
     "name": "stdout",
     "output_type": "stream",
     "text": [
      "this is a UNIX poem\r\n",
      "from an ancient epoch\r\n",
      "grep, ye mighty, and despair\r\n",
      "also have a donut\r\n",
      "                               $@@@@@@@                                        \r\n",
      "                          $@@@$$$$$########$#                                  \r\n",
      "                       #$$$$$$$###****!**!***##                                \r\n",
      "                      $$$$$$$#****!!======!=!!!***                             \r\n",
      "                    *#$$$$$##***====;:::::;;==!!!**                            \r\n",
      "                   *########**!!=;::~-,,,,--~:==!!**                           \r\n"
     ]
    }
   ],
   "source": [
    "!head poem.txt"
   ]
  },
  {
   "cell_type": "code",
   "execution_count": 8,
   "metadata": {},
   "outputs": [
    {
     "name": "stdout",
     "output_type": "stream",
     "text": [
      "this is a UNIX poem\r\n",
      "from an ancient epoch\r\n",
      "grep, ye mighty, and despair\r\n",
      "also have a donut\r\n"
     ]
    }
   ],
   "source": [
    "!head -n 4 poem.txt"
   ]
  },
  {
   "cell_type": "code",
   "execution_count": 9,
   "metadata": {},
   "outputs": [
    {
     "name": "stdout",
     "output_type": "stream",
     "text": [
      "also have a donut\r\n"
     ]
    }
   ],
   "source": [
    "!grep donut poem.txt"
   ]
  },
  {
   "cell_type": "code",
   "execution_count": 10,
   "metadata": {},
   "outputs": [
    {
     "name": "stdout",
     "output_type": "stream",
     "text": [
      "from an ancient epoch\r\n",
      "grep, ye mighty, and despair\r\n"
     ]
    }
   ],
   "source": [
    "!grep an poem.txt"
   ]
  },
  {
   "cell_type": "markdown",
   "metadata": {},
   "source": [
    "# Redirection and Pipes\n",
    "\n",
    "Most commands read from STDIN (\"standard input\") and write to STDOUT and STDERR.\n",
    "\n",
    " * Redirect a file to STDIN with `<`\n",
    " * Redirect STDOUT to a file with `>`\n",
    " * Redirect STDERR to a file with `2>`\n",
    " * Append STDOUT to a file with `>>`\n",
    " * Connect the STDOUT of one command with the STDIN of another with `|`"
   ]
  },
  {
   "cell_type": "code",
   "execution_count": 11,
   "metadata": {},
   "outputs": [],
   "source": [
    "#!ps waux"
   ]
  },
  {
   "cell_type": "code",
   "execution_count": 12,
   "metadata": {},
   "outputs": [
    {
     "name": "stdout",
     "output_type": "stream",
     "text": [
      "moses     1874  0.0  0.3 194640 30364 ?        S    09:48   0:00 /usr/bin/python3 /usr/bin/cinnamon-launcher\r\n",
      "moses     1892  0.0  0.4 420512 33200 ?        Sl   09:48   0:00 /usr/bin/python3 /usr/bin/cinnamon-killer-daemon\r\n",
      "moses     1893  0.0  0.0  24484  4376 ?        S    09:48   0:00 /usr/bin/python /usr/bin/blueberry-tray\r\n",
      "moses     1900  0.0  0.4 635080 39792 ?        Sl   09:48   0:00 python2 /usr/lib/blueberry/blueberry-tray.py\r\n",
      "moses     2401  0.0  0.1  30068 10368 ?        S    09:48   0:00 /usr/bin/python3 /usr/bin/mintupdate-launcher\r\n",
      "moses     2416  0.0  0.7 725320 58928 ?        Sl   09:48   0:00 /usr/bin/python3 /usr/lib/linuxmint/mintUpdate/mintUpdate.py\r\n",
      "moses     2585  0.0  0.3 236396 30400 ?        Sl   09:49   0:01 /usr/bin/python3 /usr/share/system-config-printer/applet.py\r\n",
      "moses     6908  0.0  0.8 299016 70844 pts/1    S+   10:23   0:01 /home/moses/anaconda3/bin/python /home/moses/anaconda3/bin/jupyter-notebook\r\n",
      "moses     7131  0.0  0.8 375492 71844 pts/2    Sl+  10:24   0:06 /home/moses/anaconda3/bin/python /home/moses/anaconda3/bin/jupyter-notebook\r\n",
      "moses     7743  0.0  2.1 1422740 170412 ?      Ssl  10:34   0:06 /home/moses/anaconda3/bin/python -m ipykernel_launcher -f /run/user/503/jupyter/kernel-f3200880-a5d3-4403-ba5d-96e171959541.json\r\n",
      "moses    19555 41.5  0.6 669032 56344 ?        Ssl  13:38   0:00 /home/moses/anaconda3/bin/python -m ipykernel_launcher -f /run/user/503/jupyter/kernel-0310c06d-c76f-42b7-bcbf-23559b133d22.json\r\n",
      "moses    19588  0.0  0.0   4500   700 pts/6    Ss+  13:38   0:00 /bin/sh -c ps waux | grep python\r\n",
      "moses    19590  0.0  0.0  14220   944 pts/6    S+   13:38   0:00 grep python\r\n"
     ]
    }
   ],
   "source": [
    "!ps waux | grep python"
   ]
  },
  {
   "cell_type": "code",
   "execution_count": 13,
   "metadata": {},
   "outputs": [
    {
     "name": "stdout",
     "output_type": "stream",
     "text": [
      "moses     1874  0.0  0.3 194640 30364 ?        S    09:48   0:00 /usr/bin/python3 /usr/bin/cinnamon-launcher\r\n",
      "moses     1892  0.0  0.4 420512 33200 ?        Sl   09:48   0:00 /usr/bin/python3 /usr/bin/cinnamon-killer-daemon\r\n",
      "moses     1893  0.0  0.0  24484  4376 ?        S    09:48   0:00 /usr/bin/python /usr/bin/blueberry-tray\r\n",
      "moses     1900  0.0  0.4 635080 39792 ?        Sl   09:48   0:00 python2 /usr/lib/blueberry/blueberry-tray.py\r\n",
      "moses    19555 42.5  0.6 669032 56356 ?        Ssl  13:38   0:00 /home/moses/anaconda3/bin/python -m ipykernel_launcher -f /run/user/503/jupyter/kernel-0310c06d-c76f-42b7-bcbf-23559b133d22.json\r\n",
      "moses    19591  0.0  0.0   4500   700 pts/6    Ss+  13:38   0:00 /bin/sh -c ps waux | grep python | sort\r\n",
      "moses    19593  0.0  0.0  14220  1012 pts/6    S+   13:38   0:00 grep python\r\n",
      "moses     2401  0.0  0.1  30068 10368 ?        S    09:48   0:00 /usr/bin/python3 /usr/bin/mintupdate-launcher\r\n",
      "moses     2416  0.0  0.7 725320 58928 ?        Sl   09:48   0:00 /usr/bin/python3 /usr/lib/linuxmint/mintUpdate/mintUpdate.py\r\n",
      "moses     2585  0.0  0.3 236396 30400 ?        Sl   09:49   0:01 /usr/bin/python3 /usr/share/system-config-printer/applet.py\r\n",
      "moses     6908  0.0  0.8 299016 70844 pts/1    S+   10:23   0:01 /home/moses/anaconda3/bin/python /home/moses/anaconda3/bin/jupyter-notebook\r\n",
      "moses     7131  0.0  0.8 375492 71844 pts/2    Sl+  10:24   0:06 /home/moses/anaconda3/bin/python /home/moses/anaconda3/bin/jupyter-notebook\r\n",
      "moses     7743  0.0  2.1 1422740 170412 ?      Ssl  10:34   0:06 /home/moses/anaconda3/bin/python -m ipykernel_launcher -f /run/user/503/jupyter/kernel-f3200880-a5d3-4403-ba5d-96e171959541.json\r\n"
     ]
    }
   ],
   "source": [
    "!ps waux | grep python | sort"
   ]
  },
  {
   "cell_type": "code",
   "execution_count": 14,
   "metadata": {},
   "outputs": [],
   "source": [
    "!ps waux | grep python | sort > processes.txt"
   ]
  },
  {
   "cell_type": "markdown",
   "metadata": {},
   "source": [
    "# Permissions\n",
    "\n",
    "[chmod examples & reference](https://www.computerhope.com/unix/uchmod.htm)\n",
    "\n",
    "Unix can control file access per _user_, _user group_, and _everyone else_. \n",
    "\n",
    "Each file has read, write, and execute permissions for the owner, the group, and the world.\n",
    "\n",
    "Examine with `ls -la`"
   ]
  },
  {
   "cell_type": "code",
   "execution_count": 15,
   "metadata": {},
   "outputs": [
    {
     "name": "stdout",
     "output_type": "stream",
     "text": [
      "total 48\r\n",
      "drwxr-xr-x  3 moses moses  4096 Sep 13 13:37 .\r\n",
      "drwxr-xr-x 12 moses moses  4096 Sep 13 10:47 ..\r\n",
      "drwxr-xr-x  2 moses moses  4096 Sep 13 10:47 .ipynb_checkpoints\r\n",
      "-rw-r--r--  1 moses moses 28156 Sep 13 13:37 notes.ipynb\r\n",
      "-rw-r--r--  1 moses moses  1664 Sep 13 13:05 poem.txt\r\n",
      "-rw-r--r--  1 moses moses  1668 Sep 13 13:38 processes.txt\r\n"
     ]
    }
   ],
   "source": [
    "!ls -la"
   ]
  },
  {
   "cell_type": "markdown",
   "metadata": {},
   "source": [
    "`d` signifies that the listing is a directory. `r`, `w`, and `x` mean \"readable\", \"writable\", and \"executable\".\n",
    "\n",
    "The first three characters mark the permissions for the use that owns the file, the next three mark the permissions for the user group that owns the file, and the final three are the permissions for everyone else.\n",
    "\n",
    "To modify these permissions, use `chmod`."
   ]
  },
  {
   "cell_type": "markdown",
   "metadata": {},
   "source": [
    "#### examples:\n",
    "`chmod 400 <file>` gives read-only permissions to the file owner, and no permissions to the group & everyone else\n",
    "\n",
    "`chmod 777 <file>` gives full read, write, and execute permission for the owner, group, and world"
   ]
  },
  {
   "cell_type": "markdown",
   "metadata": {},
   "source": [
    "# Regular Expressions\n",
    "\n",
    "The `grep` command (and many languages) use regular expressions to match files.\n",
    "\n",
    "Most characters match themselves. Some don't.\n",
    "\n",
    " * `.` matches anything other than a newline\n",
    " * `*` match zero or more of previous atom\n",
    " * `+` match one or more of previous atom\n",
    " * `|` match either previous or next item\n",
    " * `[abc0-9]` match any of characters within\n",
    " * `\\` escape previous character\n",
    " * `\\(\\)` for grouping (use egrep to use without `\\`)\n",
    "\n",
    "[Learn regular expressions](https://regexone.com/)\n",
    "\n",
    "[Play regex golf](https://alf.nu/RegexGolf)"
   ]
  },
  {
   "cell_type": "markdown",
   "metadata": {},
   "source": [
    "# Environment Variables\n",
    "\n",
    "List with `env`\n",
    "\n",
    "Set with `VAR=foo`, or `export VAR=foo` when run from a script (e.g., your `.bash_profile`)"
   ]
  },
  {
   "cell_type": "markdown",
   "metadata": {},
   "source": [
    "# Basic vi\n",
    "\n",
    "Two main modes\n",
    "\n",
    " * Insert mode (typing stuff inserts it in file)\n",
    " * Command mode (each key has meaning)\n",
    "\n",
    "The *escape* key brings you to command mode; *i* enters insert mode\n",
    "\n",
    "Helpful commands\n",
    "\n",
    " * `i` (enter insert mode)\n",
    " * `a` (enter insert mode after this character)\n",
    " * `dd` (delete a line)\n",
    " * `100G` (go to line 100)\n",
    " * `:wq` (save and exit)\n",
    " * `:q!` (exit without saving)"
   ]
  },
  {
   "cell_type": "markdown",
   "metadata": {},
   "source": [
    "# How does my shell know where all these commands / programs are?\n",
    "\n",
    "When you type a command, your shell looks for the executable file corresponding to that command. How does bash know where that file is?\n",
    "\n",
    "For example, when you type `ls`, your shell runs the executable file `ls` in your `/bin` folder."
   ]
  },
  {
   "cell_type": "code",
   "execution_count": 16,
   "metadata": {},
   "outputs": [
    {
     "name": "stdout",
     "output_type": "stream",
     "text": [
      "/bin/ls\r\n"
     ]
    }
   ],
   "source": [
    "!which ls"
   ]
  },
  {
   "cell_type": "code",
   "execution_count": 17,
   "metadata": {},
   "outputs": [],
   "source": [
    "#!ls /bin/"
   ]
  },
  {
   "cell_type": "code",
   "execution_count": 18,
   "metadata": {},
   "outputs": [
    {
     "name": "stdout",
     "output_type": "stream",
     "text": [
      "/bin/grep\r\n"
     ]
    }
   ],
   "source": [
    "!which grep"
   ]
  },
  {
   "cell_type": "code",
   "execution_count": 19,
   "metadata": {},
   "outputs": [
    {
     "name": "stdout",
     "output_type": "stream",
     "text": [
      " _____\r\n",
      "< huh >\r\n",
      " -----\r\n",
      "        \\   ^__^\r\n",
      "         \\  (oo)\\_______\r\n",
      "            (__)\\       )\\/\\\r\n",
      "                ||----w |\r\n",
      "                ||     ||\r\n"
     ]
    }
   ],
   "source": [
    "!cowsay huh"
   ]
  },
  {
   "cell_type": "code",
   "execution_count": 20,
   "metadata": {},
   "outputs": [
    {
     "name": "stdout",
     "output_type": "stream",
     "text": [
      "/usr/games/cowsay\r\n"
     ]
    }
   ],
   "source": [
    "!which cowsay"
   ]
  },
  {
   "cell_type": "markdown",
   "metadata": {},
   "source": [
    "The paths to all these executables is stored in the environment variable called PATH."
   ]
  },
  {
   "cell_type": "code",
   "execution_count": 21,
   "metadata": {},
   "outputs": [
    {
     "name": "stdout",
     "output_type": "stream",
     "text": [
      "~/.scripts:/home/moses/anaconda3/bin:/home/moses/bin:/home/moses/.local/bin:/usr/local/sbin:/usr/local/bin:/usr/sbin:/usr/bin:/sbin:/bin:/usr/games:/usr/local/games\r\n"
     ]
    }
   ],
   "source": [
    "!echo $PATH"
   ]
  },
  {
   "cell_type": "markdown",
   "metadata": {},
   "source": [
    "When you type a command, `bash` looks for an executable with that name in these folders. If none are found, you get an error."
   ]
  },
  {
   "cell_type": "code",
   "execution_count": 22,
   "metadata": {},
   "outputs": [
    {
     "name": "stdout",
     "output_type": "stream",
     "text": [
      "/bin/sh: 1: grok: not found\r\n"
     ]
    }
   ],
   "source": [
    "!grok"
   ]
  },
  {
   "cell_type": "markdown",
   "metadata": {},
   "source": [
    "### Customizing your shell\n",
    "\n",
    "Perhaps you would like every shell session to start with certain environment variables already defined, or other conveniences.\n",
    "\n",
    "Luckily, there's a file just for this purpose. Put `bash` commands in this file, and they will run every time you start a new shell session (most of the time, this mean \"every time you open a new terminal\").\n",
    "\n",
    "On macOS, this file is called `.bash_profile`. On linux, it's called `.bashrc`. In both cases, it must live in your home folder `~`."
   ]
  },
  {
   "cell_type": "markdown",
   "metadata": {},
   "source": [
    "One convenient thing you can do is add aliases to common commands. Do you find yourself typing `ls -alh` all the time? Wouldn't it be nicer if that command were shorter? Well, just add \n",
    "\n",
    "`alias ll='ls -alh'`\n",
    "\n",
    "to your `~/.bash_profile` (or `~/.bashrc` on Linux).\n",
    "\n",
    "In order for these changes to take effect, you must either start a new session or run `source ~/.bash_profile`"
   ]
  }
 ],
 "metadata": {
  "kernelspec": {
   "display_name": "Python 3",
   "language": "python",
   "name": "python3"
  },
  "language_info": {
   "codemirror_mode": {
    "name": "ipython",
    "version": 3
   },
   "file_extension": ".py",
   "mimetype": "text/x-python",
   "name": "python",
   "nbconvert_exporter": "python",
   "pygments_lexer": "ipython3",
   "version": "3.6.2"
  }
 },
 "nbformat": 4,
 "nbformat_minor": 2
}
