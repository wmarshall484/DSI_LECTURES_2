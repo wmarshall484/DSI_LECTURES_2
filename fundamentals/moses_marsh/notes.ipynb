{
 "cells": [
  {
   "cell_type": "markdown",
   "metadata": {},
   "source": [
    "# Note!\n",
    "Despite being in an \"ipython notebook\", I won't be writing any python. But I will be showing how to use bash commands. To do so in a notebook, you must prepend the command with an exclamation point (!), also called a \"bang\"."
   ]
  },
  {
   "cell_type": "code",
   "execution_count": 4,
   "metadata": {},
   "outputs": [
    {
     "name": "stdout",
     "output_type": "stream",
     "text": [
      "/home/moses/galv/gschool/DSI_Lectures/fundamentals/moses_marsh\r\n"
     ]
    }
   ],
   "source": [
    "!pwd"
   ]
  },
  {
   "cell_type": "code",
   "execution_count": 3,
   "metadata": {},
   "outputs": [
    {
     "name": "stdout",
     "output_type": "stream",
     "text": [
      "notes.ipynb\r\n"
     ]
    }
   ],
   "source": [
    "!ls"
   ]
  },
  {
   "cell_type": "markdown",
   "metadata": {},
   "source": [
    "All the commands you see could simply be typed into your terminal, just omit the bangs. "
   ]
  },
  {
   "cell_type": "markdown",
   "metadata": {},
   "source": [
    "# Unix fundamentals\n",
    "\n",
    "## Lecture Credits\n",
    "\n",
    " * Moses Marsh\n",
    " * Miles Erickson\n",
    " * Ben Skrainka\n",
    " * Jack Bennetto\n",
    "\n",
    "## Objectives\n",
    " * Perform basic file operations from the command line\n",
    " * Get help using man\n",
    " * Configure environment in .bash_profile\n",
    " * Manage a process with job control\n",
    " * Write a simple regular expression\n",
    " * Use grep/sed/awk/cut/paste to process/clean a text file\n",
    " * Perform “survival” edits using vi"
   ]
  },
  {
   "cell_type": "markdown",
   "metadata": {},
   "source": [
    "# Agenda\n",
    "* About operating systems and unix\n",
    "* Using a shell\n",
    "* Files and permissions\n",
    "* Basic commands"
   ]
  },
  {
   "cell_type": "markdown",
   "metadata": {},
   "source": [
    "# What is an Operating System?\n",
    "\n",
    "Operating system: the collection of software that directs a computer's operations, controlling and scheduling the execution of other programs, and managing storage, input/output, and communication resources. (Dictionary.com)\n",
    "\n",
    "Many pieces\n",
    "\n",
    " * Kernel (CPU, memory, processes, users)\n",
    " * Device drivers (keyboard, mouse, displays, ...)\n",
    " * File manager\n",
    " * System processes\n",
    " * User interface (shells and GUI)\n",
    " * Standard programs\n"
   ]
  },
  {
   "cell_type": "markdown",
   "metadata": {},
   "source": [
    "# Windows and Unix\n",
    "\n",
    "Windows (most desktops and laptops)\n",
    "\n",
    " * Made by Microsoft\n",
    " * Proprietary\n",
    " * More GUI based\n",
    "\n",
    "Unix\n",
    "\n",
    " * Many versions, made by different companies, groups, or people (including Apple since 2002)\n",
    " * Originally a commercial product\n",
    " * Linux and FreeBSD are *open-source* versions of Unix\n",
    " * More command-line based\n",
    " * Small, simple commands\n",
    " * Everything is a file\n",
    "\n"
   ]
  },
  {
   "cell_type": "markdown",
   "metadata": {},
   "source": [
    "# Shells\n",
    "\n",
    "A shell is a command-line interface that interprets user input, runs programs, and output results.\n",
    "\n",
    " * sh (Bourne Shell)\n",
    " * ksh (Korn Shell)\n",
    " * **bash** (Bourne-again shell)\n",
    " * csh (C shell)\n",
    " * tcsh\n",
    " * zsh\n",
    "\n",
    "All are also scripting languages.\n",
    "\n",
    "A terminal is a *window displaying a shell prompt*. You may hear people use \"terminal\" and \"shell\" interchangeably, but they are confused. \n"
   ]
  },
  {
   "cell_type": "markdown",
   "metadata": {},
   "source": [
    "# Processes\n",
    "\n",
    "A process consists of\n",
    "\n",
    " * One or more threads\n",
    " * Program text\n",
    " * Memory for stack and heap\n",
    " * File descriptors\n",
    " * Environment\n",
    " * Owner and privilege"
   ]
  },
  {
   "cell_type": "markdown",
   "metadata": {},
   "source": [
    "To view running processes, type `ps`"
   ]
  },
  {
   "cell_type": "code",
   "execution_count": 5,
   "metadata": {
    "scrolled": false
   },
   "outputs": [
    {
     "name": "stdout",
     "output_type": "stream",
     "text": [
      "  PID TTY          TIME CMD\r\n",
      " 9523 pts/6    00:00:00 sh\r\n",
      " 9524 pts/6    00:00:00 ps\r\n"
     ]
    }
   ],
   "source": [
    "!ps"
   ]
  },
  {
   "cell_type": "markdown",
   "metadata": {},
   "source": [
    "By default, `ps` only shows processes started by "
   ]
  },
  {
   "cell_type": "code",
   "execution_count": 15,
   "metadata": {
    "collapsed": true
   },
   "outputs": [
    {
     "name": "stdout",
     "output_type": "stream",
     "text": [
      "USER       PID %CPU %MEM    VSZ   RSS TTY      STAT START   TIME COMMAND\r\n",
      "root         1  0.0  0.0 120288  6424 ?        Ss   09:47   0:02 /sbin/init splash\r\n",
      "root         2  0.0  0.0      0     0 ?        S    09:47   0:00 [kthreadd]\r\n",
      "root         3  0.0  0.0      0     0 ?        S    09:47   0:00 [ksoftirqd/0]\r\n",
      "root         5  0.0  0.0      0     0 ?        S<   09:47   0:00 [kworker/0:0H]\r\n",
      "root         6  0.0  0.0      0     0 ?        S    09:47   0:00 [kworker/u16:0]\r\n",
      "root         7  0.1  0.0      0     0 ?        S    09:47   0:07 [rcu_sched]\r\n",
      "root         8  0.0  0.0      0     0 ?        S    09:47   0:00 [rcu_bh]\r\n",
      "root         9  0.0  0.0      0     0 ?        S    09:47   0:00 [migration/0]\r\n",
      "root        10  0.0  0.0      0     0 ?        S    09:47   0:00 [watchdog/0]\r\n",
      "root        11  0.0  0.0      0     0 ?        S    09:47   0:00 [watchdog/1]\r\n",
      "root        12  0.0  0.0      0     0 ?        S    09:47   0:00 [migration/1]\r\n",
      "root        13  0.0  0.0      0     0 ?        S    09:47   0:00 [ksoftirqd/1]\r\n",
      "root        15  0.0  0.0      0     0 ?        S<   09:47   0:00 [kworker/1:0H]\r\n",
      "root        16  0.0  0.0      0     0 ?        S    09:47   0:00 [watchdog/2]\r\n",
      "root        17  0.0  0.0      0     0 ?        S    09:47   0:00 [migration/2]\r\n",
      "root        18  0.0  0.0      0     0 ?        S    09:47   0:00 [ksoftirqd/2]\r\n",
      "root        19  0.0  0.0      0     0 ?        S    09:47   0:00 [kworker/2:0]\r\n",
      "root        20  0.0  0.0      0     0 ?        S<   09:47   0:00 [kworker/2:0H]\r\n",
      "root        21  0.0  0.0      0     0 ?        S    09:47   0:00 [watchdog/3]\r\n",
      "root        22  0.0  0.0      0     0 ?        S    09:47   0:00 [migration/3]\r\n",
      "root        23  0.0  0.0      0     0 ?        S    09:47   0:00 [ksoftirqd/3]\r\n",
      "root        25  0.0  0.0      0     0 ?        S<   09:47   0:00 [kworker/3:0H]\r\n",
      "root        26  0.0  0.0      0     0 ?        S    09:47   0:00 [kdevtmpfs]\r\n",
      "root        27  0.0  0.0      0     0 ?        S<   09:47   0:00 [netns]\r\n",
      "root        28  0.0  0.0      0     0 ?        S<   09:47   0:00 [perf]\r\n",
      "root        29  0.0  0.0      0     0 ?        S    09:47   0:00 [khungtaskd]\r\n",
      "root        30  0.0  0.0      0     0 ?        S<   09:47   0:00 [writeback]\r\n",
      "root        31  0.0  0.0      0     0 ?        SN   09:47   0:00 [ksmd]\r\n",
      "root        32  0.0  0.0      0     0 ?        SN   09:47   0:00 [khugepaged]\r\n",
      "root        33  0.0  0.0      0     0 ?        S<   09:47   0:00 [crypto]\r\n",
      "root        34  0.0  0.0      0     0 ?        S<   09:47   0:00 [kintegrityd]\r\n",
      "root        35  0.0  0.0      0     0 ?        S<   09:47   0:00 [bioset]\r\n",
      "root        36  0.0  0.0      0     0 ?        S<   09:47   0:00 [kblockd]\r\n",
      "root        38  0.0  0.0      0     0 ?        S    09:47   0:01 [kworker/u16:1]\r\n",
      "root        39  0.0  0.0      0     0 ?        S<   09:47   0:00 [ata_sff]\r\n",
      "root        40  0.0  0.0      0     0 ?        S<   09:47   0:00 [md]\r\n",
      "root        41  0.0  0.0      0     0 ?        S<   09:47   0:00 [devfreq_wq]\r\n",
      "root        44  0.0  0.0      0     0 ?        S    09:47   0:00 [kswapd0]\r\n",
      "root        45  0.0  0.0      0     0 ?        S<   09:47   0:00 [vmstat]\r\n",
      "root        46  0.0  0.0      0     0 ?        S    09:47   0:00 [fsnotify_mark]\r\n",
      "root        47  0.0  0.0      0     0 ?        S    09:47   0:00 [ecryptfs-kthrea]\r\n",
      "root        63  0.0  0.0      0     0 ?        S<   09:47   0:00 [kthrotld]\r\n",
      "root        64  0.0  0.0      0     0 ?        S    09:47   0:00 [kworker/2:1]\r\n",
      "root        67  0.0  0.0      0     0 ?        S<   09:47   0:00 [acpi_thermal_pm]\r\n",
      "root        68  0.0  0.0      0     0 ?        S<   09:47   0:00 [bioset]\r\n",
      "root        69  0.0  0.0      0     0 ?        S<   09:47   0:00 [bioset]\r\n",
      "root        70  0.0  0.0      0     0 ?        S<   09:47   0:00 [bioset]\r\n",
      "root        71  0.0  0.0      0     0 ?        S<   09:47   0:00 [bioset]\r\n",
      "root        72  0.0  0.0      0     0 ?        S<   09:47   0:00 [bioset]\r\n",
      "root        73  0.0  0.0      0     0 ?        S<   09:47   0:00 [bioset]\r\n",
      "root        74  0.0  0.0      0     0 ?        S<   09:47   0:00 [bioset]\r\n",
      "root        75  0.0  0.0      0     0 ?        S<   09:47   0:00 [bioset]\r\n",
      "root        76  0.0  0.0      0     0 ?        S    09:47   0:01 [kworker/u16:2]\r\n",
      "root        82  0.0  0.0      0     0 ?        S<   09:47   0:00 [ipv6_addrconf]\r\n",
      "root        95  0.0  0.0      0     0 ?        S<   09:47   0:00 [deferwq]\r\n",
      "root        96  0.0  0.0      0     0 ?        S<   09:47   0:00 [charger_manager]\r\n",
      "root       138  0.0  0.0      0     0 ?        S    09:47   0:01 [irq/49-(null)]\r\n",
      "root       139  0.0  0.0      0     0 ?        S    09:47   0:00 [scsi_eh_0]\r\n",
      "root       140  0.0  0.0      0     0 ?        S<   09:47   0:00 [scsi_tmf_0]\r\n",
      "root       142  0.0  0.0      0     0 ?        S<   09:47   0:00 [bioset]\r\n",
      "root       146  0.0  0.0      0     0 ?        S<   09:47   0:00 [kworker/1:1H]\r\n",
      "root       221  0.0  0.0      0     0 ?        S<   09:48   0:00 [bioset]\r\n",
      "root       248  0.0  0.0      0     0 ?        S<   09:48   0:00 [kworker/3:1H]\r\n",
      "root       250  0.0  0.0      0     0 ?        S    09:48   0:00 [jbd2/sda4-8]\r\n",
      "root       251  0.0  0.0      0     0 ?        S<   09:48   0:00 [ext4-rsv-conver]\r\n",
      "root       297  0.0  0.0      0     0 ?        S    09:48   0:00 [kauditd]\r\n",
      "root       315  0.0  0.0  35384  4184 ?        Ss   09:48   0:00 /lib/systemd/systemd-journald\r\n",
      "root       320  0.0  0.0      0     0 ?        S    09:48   0:00 [kworker/2:2]\r\n",
      "root       331  0.0  0.0  94768  1632 ?        Ss   09:48   0:00 /sbin/lvmetad -f\r\n",
      "root       337  0.0  0.0  46244  5328 ?        Ss   09:48   0:00 /lib/systemd/systemd-udevd\r\n",
      "root       483  0.0  0.0      0     0 ?        S<   09:48   0:00 [kworker/u17:0]\r\n",
      "root       484  0.0  0.0      0     0 ?        S<   09:48   0:00 [hci0]\r\n",
      "root       485  0.0  0.0      0     0 ?        S<   09:48   0:00 [hci0]\r\n",
      "root       487  0.0  0.0      0     0 ?        S<   09:48   0:00 [kworker/u17:2]\r\n",
      "root       501  0.0  0.0      0     0 ?        S<   09:48   0:00 [kworker/2:1H]\r\n",
      "root       510  0.0  0.0      0     0 ?        S<   09:48   0:00 [kvm-irqfd-clean]\r\n",
      "root       529  0.0  0.0      0     0 ?        S<   09:48   0:00 [kworker/0:1H]\r\n",
      "root       536  0.0  0.0      0     0 ?        S    09:48   0:00 [irq/59-mei_me]\r\n",
      "root       551  0.0  0.0      0     0 ?        S<   09:48   0:00 [cfg80211]\r\n",
      "root       556  0.0  0.0      0     0 ?        S<   09:48   0:00 [applesmc-led]\r\n",
      "root       639  0.0  0.0  11712  1492 ?        Ss   09:48   0:00 /sbin/mount.exfat /dev/sda5 /media/moses/GORPO -o rw,nosuid,nodev\r\n",
      "root       652  0.0  0.0      0     0 ?        S    09:48   0:00 [jbd2/sda6-8]\r\n",
      "root       653  0.0  0.0      0     0 ?        S<   09:48   0:00 [ext4-rsv-conver]\r\n",
      "root       766  0.0  0.0  29872  1644 ?        Ss   09:48   0:00 /sbin/cgmanager -m name=systemd\r\n",
      "root       771  0.0  0.0  31952  4292 ?        Ss   09:48   0:00 /usr/lib/bluetooth/bluetoothd\r\n",
      "message+   780  0.1  0.0  44584  5472 ?        Ss   09:48   0:06 /usr/bin/dbus-daemon --system --address=systemd: --nofork --nopidfi\r\n",
      "syslog     782  0.0  0.0 256388  3232 ?        Ssl  09:48   0:00 /usr/sbin/rsyslogd -n\r\n",
      "root       783  0.0  0.0 275764  6172 ?        Ssl  09:48   0:00 /usr/lib/accountsservice/accounts-daemon\r\n",
      "root       784  0.0  0.0   4392  1264 ?        Ss   09:48   0:00 /usr/sbin/acpid\r\n",
      "root       791  0.0  0.1 166428  8656 ?        Ssl  09:48   0:00 /usr/sbin/thermald --no-daemon --dbus-enable\r\n",
      "root       809  0.0  0.0 259924  7456 ?        Ssl  09:48   0:00 /usr/sbin/iio-sensor-proxy\r\n",
      "root       814  0.0  0.0  29004  2960 ?        Ss   09:48   0:00 /usr/sbin/cron -f\r\n",
      "root       823  0.0  0.1 413528  8692 ?        Ssl  09:48   0:00 /usr/sbin/ModemManager\r\n",
      "root       826  0.0  0.0  28636  3084 ?        Ss   09:48   0:00 /lib/systemd/systemd-logind\r\n",
      "avahi      853  0.2  0.0  46552  5252 ?        Ss   09:48   0:11 avahi-daemon: running [manchego.local]\r\n",
      "avahi      864  0.0  0.0  44776   332 ?        S    09:48   0:00 avahi-daemon: chroot helper\r\n",
      "root       869  0.1  0.2 926368 19880 ?        Ssl  09:48   0:07 /usr/sbin/NetworkManager --no-daemon\r\n",
      "postgres   946  0.0  0.2 294700 24024 ?        S    09:48   0:00 /usr/lib/postgresql/9.5/bin/postgres -D /var/lib/postgresql/9.5/mai\r\n",
      "root       976  0.0  0.0  19596  2212 ?        Ss   09:48   0:00 /usr/sbin/irqbalance --pid=/var/run/irqbalance.pid\r\n",
      "postgres  1001  0.0  0.0 294700  3872 ?        Ss   09:48   0:00 postgres: checkpointer process   \r\n",
      "postgres  1002  0.0  0.0 294700  5556 ?        Ss   09:48   0:00 postgres: writer process   \r\n",
      "postgres  1003  0.0  0.0 294700  3876 ?        Ss   09:48   0:00 postgres: wal writer process   \r\n",
      "postgres  1004  0.0  0.0 295272  6516 ?        Ss   09:48   0:00 postgres: autovacuum launcher process   \r\n",
      "postgres  1005  0.0  0.0 150252  4464 ?        Ss   09:48   0:00 postgres: stats collector process   \r\n",
      "colord    1022  0.0  0.1 301248 12944 ?        Ssl  09:48   0:00 /usr/lib/colord/colord\r\n",
      "root      1045  0.0  0.0 278644  7856 ?        Ssl  09:48   0:00 /usr/lib/policykit-1/polkitd --no-debug\r\n",
      "root      1068  0.1  0.0      0     0 ?        S    09:48   0:08 [irq/63-brcmf_pc]\r\n",
      "root      1069  0.0  0.0      0     0 ?        S<   09:48   0:00 [msgbuf_txflow]\r\n",
      "root      1108  0.0  0.0  44280  7276 ?        Ss   09:48   0:00 /sbin/wpa_supplicant -u -s -O /run/wpa_supplicant\r\n",
      "root      1162  0.0  0.0      0     0 ?        S<   09:48   0:00 [iprt-VBoxWQueue]\r\n",
      "ntp       1164  0.0  0.0 112088  5156 ?        Ss   09:48   0:00 /usr/sbin/ntpd -p /var/run/ntpd.pid -g -u 108:114\r\n",
      "root      1167  0.0  0.0      0     0 ?        S    09:48   0:00 [iprt-VBoxTscThr]\r\n",
      "root      1189  0.0  0.1 141344  8280 ?        Ss   09:48   0:00 /usr/sbin/mdm --nodaemon\r\n",
      "root      1202  0.0  0.0  15932  1768 tty1     Ss+  09:48   0:00 /sbin/agetty --noclear tty1 linux\r\n",
      "root      1207  0.0  0.1 193608  8952 ?        S    09:48   0:00 /usr/sbin/mdm --nodaemon\r\n",
      "root      1214  3.0  2.5 685684 204368 tty8    Ssl+ 09:48   2:34 /usr/lib/xorg/Xorg :0 -audit 0 -auth /var/lib/mdm/:0.Xauth -noliste\r\n",
      "mdm       1329  0.0  0.0  43596   364 ?        S    09:48   0:00 dbus-launch --autolaunch=5ab3c275b7304ed3b8aeef9ffcc37eb4 --binary-\r\n",
      "mdm       1330  0.0  0.0  42760  2580 ?        Ss   09:48   0:00 /usr/bin/dbus-daemon --fork --print-pid 5 --print-address 7 --sessi\r\n",
      "root      1407  0.0  0.0  16120  3656 ?        S    09:48   0:00 /sbin/dhclient -d -q -sf /usr/lib/NetworkManager/nm-dhcp-helper -pf\r\n",
      "nobody    1416  0.0  0.0  52860  4136 ?        S    09:48   0:00 /usr/sbin/dnsmasq --no-resolv --keep-in-foreground --no-hosts --bin\r\n",
      "moses     1572  0.0  0.0  45272  4592 ?        Ss   09:48   0:00 /lib/systemd/systemd --user\r\n",
      "moses     1574  0.0  0.0  98560  2792 ?        S    09:48   0:00 (sd-pam)\r\n",
      "moses     1581  0.0  0.2 287692 18288 ?        SLl  09:48   0:04 /usr/bin/gnome-keyring-daemon --daemonize --login\r\n",
      "root      1587  0.0  0.0 2100112 6256 ?        Ssl  09:48   0:00 /usr/sbin/console-kit-daemon --no-daemon\r\n",
      "moses     1661  0.0  0.2 427772 22996 ?        Ssl  09:48   0:00 cinnamon-session --session cinnamon\r\n",
      "moses     1730  0.0  0.0  11136   308 ?        Ss   09:48   0:00 /usr/bin/ssh-agent /usr/bin/dbus-launch --exit-with-session /usr/bi\r\n",
      "moses     1733  0.0  0.0  43596   368 ?        S    09:48   0:00 /usr/bin/dbus-launch --exit-with-session /usr/bin/im-launch cinnamo\r\n",
      "moses     1734  0.0  0.0  43556  3936 ?        Ss   09:48   0:01 /usr/bin/dbus-daemon --fork --print-pid 6 --print-address 9 --sessi\r\n",
      "moses     1747  0.0  0.0 337984  5660 ?        Sl   09:48   0:00 /usr/lib/at-spi2-core/at-spi-bus-launcher\r\n",
      "moses     1752  0.0  0.0  42892  4048 ?        S    09:48   0:00 /usr/bin/dbus-daemon --config-file=/etc/at-spi2/accessibility.conf \r\n",
      "moses     1754  0.0  0.0 206860  4932 ?        Sl   09:48   0:00 /usr/lib/at-spi2-core/at-spi2-registryd --use-gnome-session\r\n",
      "moses     1762  0.0  0.6 1110136 55568 ?       Sl   09:48   0:03 /usr/lib/x86_64-linux-gnu/cinnamon-settings-daemon/cinnamon-setting\r\n",
      "moses     1777  0.0  0.1 509148 12340 ?        S<l  09:48   0:00 /usr/bin/pulseaudio --start --log-target=syslog\r\n",
      "rtkit     1782  0.0  0.0 183540  2972 ?        SNsl 09:48   0:00 /usr/lib/rtkit/rtkit-daemon\r\n",
      "root      1786  0.0  0.1 347380 12116 ?        Ssl  09:48   0:00 /usr/lib/upower/upowerd\r\n",
      "moses     1814  0.0  0.0 274412  6336 ?        Sl   09:48   0:00 /usr/lib/gvfs/gvfsd\r\n",
      "moses     1819  0.0  0.0 406860  4952 ?        Sl   09:48   0:00 /usr/lib/gvfs/gvfsd-fuse /run/user/503/gvfs -f -o big_writes\r\n",
      "moses     1829  0.0  0.0 178888  4928 ?        Sl   09:48   0:00 /usr/lib/dconf/dconf-service\r\n",
      "moses     1833  0.0  0.0 359140  7852 ?        Sl   09:48   0:00 /usr/lib/gvfs/gvfs-udisks2-volume-monitor\r\n",
      "root      1836  0.0  0.1 367008 10120 ?        Ssl  09:48   0:00 /usr/lib/udisks2/udisksd --no-debug\r\n",
      "root      1848  0.0  0.0      0     0 ?        S<   09:48   0:00 [krfcommd]\r\n",
      "moses     1854  0.0  0.0 257528  5064 ?        Sl   09:48   0:00 /usr/lib/gvfs/gvfs-goa-volume-monitor\r\n",
      "moses     1859  0.0  0.0 259516  4592 ?        Sl   09:48   0:00 /usr/lib/gvfs/gvfs-mtp-volume-monitor\r\n",
      "moses     1864  0.0  0.0 271840  8048 ?        Sl   09:48   0:00 /usr/lib/gvfs/gvfs-gphoto2-volume-monitor\r\n",
      "moses     1869  0.0  0.1 403600 11160 ?        Sl   09:48   0:00 /usr/lib/gvfs/gvfs-afc-volume-monitor\r\n",
      "moses     1874  0.0  0.3 194640 30420 ?        S    09:48   0:00 /usr/bin/python3 /usr/bin/cinnamon-launcher\r\n",
      "moses     1876  0.0  0.0  22364  1156 ?        S    09:48   0:00 syndaemon -i 1.0 -t -K -R\r\n",
      "moses     1878  0.0  0.1 508848 14080 ?        Sl   09:48   0:00 /usr/lib/x86_64-linux-gnu/cinnamon-settings-daemon/csd-printer\r\n",
      "moses     1883  2.9  2.2 1546576 179900 ?      Sl   09:48   2:27 cinnamon --replace\r\n",
      "moses     1890  0.0  0.6 752896 55876 ?        Sl   09:48   0:00 nemo -n\r\n",
      "moses     1891  0.1  0.4 1079332 34908 ?       Sl   09:48   0:05 nm-applet\r\n",
      "moses     1892  0.0  0.4 420512 33316 ?        Sl   09:48   0:00 /usr/bin/python3 /usr/bin/cinnamon-killer-daemon\r\n",
      "moses     1893  0.0  0.0  24484  5772 ?        S    09:48   0:00 /usr/bin/python /usr/bin/blueberry-tray\r\n",
      "moses     1896  0.0  0.0   4500   696 ?        S    09:48   0:00 sh -c /usr/lib/blueberry/blueberry-tray.py\r\n",
      "moses     1900  0.0  0.5 635080 41772 ?        Sl   09:48   0:00 python2 /usr/lib/blueberry/blueberry-tray.py\r\n",
      "moses     1901  0.0  0.2 332108 19064 ?        Sl   09:48   0:00 /usr/lib/policykit-1-gnome/polkit-gnome-authentication-agent-1\r\n",
      "moses     1929  0.0  0.0   4356   680 ?        S    09:48   0:00 /usr/sbin/rfkill event\r\n",
      "moses     1931  0.0  0.0 186252  5556 ?        Sl   09:48   0:00 /usr/lib/gvfs/gvfsd-metadata\r\n",
      "moses     1935  0.0  0.0 350568  7836 ?        Sl   09:48   0:00 /usr/lib/gvfs/gvfsd-trash --spawner :1.7 /org/gtk/gvfs/exec_spaw/0\r\n",
      "moses     1984  0.0  0.6 703188 55932 ?        Sl   09:48   0:02 cinnamon-screensaver\r\n",
      "moses     1993  8.9  8.2 1829228 666736 ?      RLl  09:48   7:28 /opt/google/chrome/chrome\r\n",
      "moses     1999  0.0  0.0   7440   724 ?        S    09:48   0:00 cat\r\n",
      "moses     2000  0.0  0.0   7440   680 ?        S    09:48   0:00 cat\r\n",
      "moses     2003  0.0  0.6 420408 55196 ?        S    09:48   0:00 /opt/google/chrome/chrome --type=zygote --enable-crash-reporter=979\r\n",
      "moses     2004  0.0  0.0  25732  4156 ?        S    09:48   0:00 /opt/google/chrome/nacl_helper\r\n",
      "moses     2007  0.0  0.1 420408 14484 ?        S    09:48   0:00 /opt/google/chrome/chrome --type=zygote --enable-crash-reporter=979\r\n",
      "moses     2033  0.0  1.1 497704 95900 ?        Sl   09:48   0:00 /opt/google/chrome/chrome --type=gpu-process --field-trial-handle=1\r\n",
      "moses     2059  0.0  0.1 389528 12836 ?        S    09:48   0:00 /opt/google/chrome/chrome --type=-broker\r\n",
      "moses     2072  0.5  2.1 1780216 170836 ?      Sl   09:48   0:29 /usr/lib/slack/slack\r\n",
      "moses     2075  0.0  0.5 373712 43060 ?        S    09:48   0:00 /usr/lib/slack/slack --type=zygote --no-sandbox\r\n",
      "moses     2083  0.5  2.9 1382344 234944 ?      Sl   09:48   0:28 /opt/google/chrome/chrome --type=renderer --field-trial-handle=1321\r\n",
      "moses     2108  0.4  3.2 1317720 258992 ?      Sl   09:48   0:21 /opt/google/chrome/chrome --type=renderer --field-trial-handle=1321\r\n",
      "moses     2116  1.1  3.0 1317164 247608 ?      Sl   09:48   0:58 /opt/google/chrome/chrome --type=renderer --field-trial-handle=1321\r\n",
      "moses     2117  2.0  7.3 1717976 595088 ?      Sl   09:48   1:44 /opt/google/chrome/chrome --type=renderer --field-trial-handle=1321\r\n",
      "moses     2133  0.0  1.3 1147288 112228 ?      Sl   09:48   0:01 /opt/google/chrome/chrome --type=renderer --field-trial-handle=1321\r\n",
      "moses     2177  0.7  3.6 1691512 293592 ?      Sl   09:48   0:35 /opt/google/chrome/chrome --type=renderer --field-trial-handle=1321\r\n",
      "moses     2197  0.0  1.6 1156392 134796 ?      Sl   09:48   0:04 /opt/google/chrome/chrome --type=renderer --field-trial-handle=1321\r\n",
      "moses     2234  0.1  1.3 1136160 111464 ?      Sl   09:48   0:05 /opt/google/chrome/chrome --type=renderer --field-trial-handle=1321\r\n",
      "moses     2299  0.0  0.0  61164  5232 ?        S    09:48   0:00 /usr/lib/x86_64-linux-gnu/gconf/gconfd-2\r\n",
      "moses     2323  0.5  2.3 586020 191164 ?       Sl   09:48   0:25 /usr/lib/slack/slack --type=gpu-process --no-sandbox --supports-dua\r\n",
      "moses     2352  0.6  4.8 1437584 395508 ?      Sl   09:48   0:32 /usr/lib/slack/slack --type=renderer --disable-pinch --no-sandbox -\r\n",
      "moses     2353  0.3  4.7 1437780 385308 ?      Sl   09:48   0:19 /usr/lib/slack/slack --type=renderer --disable-pinch --no-sandbox -\r\n",
      "moses     2358  0.2  3.1 1327092 256784 ?      Sl   09:48   0:13 /usr/lib/slack/slack --type=renderer --disable-pinch --no-sandbox -\r\n",
      "moses     2361  0.2  3.2 1326072 260428 ?      Sl   09:48   0:13 /usr/lib/slack/slack --type=renderer --disable-pinch --no-sandbox -\r\n",
      "moses     2362  0.8  6.5 1615008 527024 ?      Sl   09:48   0:41 /usr/lib/slack/slack --type=renderer --disable-pinch --no-sandbox -\r\n",
      "moses     2367  0.1  1.5 1129068 126088 ?      Sl   09:48   0:06 /usr/lib/slack/slack --type=renderer --disable-pinch --no-sandbox -\r\n",
      "moses     2401  0.0  0.1  30068 10372 ?        S    09:48   0:00 /usr/bin/python3 /usr/bin/mintupdate-launcher\r\n",
      "moses     2415  0.0  0.0   4500   744 ?        S    09:48   0:00 sh -c /usr/lib/linuxmint/mintUpdate/mintUpdate.py\r\n",
      "moses     2416  0.0  0.7 725320 59748 ?        Sl   09:48   0:00 /usr/bin/python3 /usr/lib/linuxmint/mintUpdate/mintUpdate.py\r\n",
      "moses     2571  0.0  1.0 1117492 84712 ?       Sl   09:49   0:00 /opt/google/chrome/chrome --type=renderer --field-trial-handle=1321\r\n",
      "moses     2585  0.0  0.3 235992 30328 ?        Sl   09:49   0:00 /usr/bin/python3 /usr/share/system-config-printer/applet.py\r\n",
      "moses     2603  1.4  7.9 2644908 643216 ?      Sl   09:49   1:10 /opt/google/chrome/chrome --type=renderer --field-trial-handle=1321\r\n",
      "root      3730  0.0  0.1  97648 11880 ?        Ss   09:53   0:02 /usr/sbin/cupsd -l\r\n",
      "root      3734  0.1  0.4 302148 35072 ?        Ssl  09:53   0:09 /usr/sbin/cups-browsed\r\n",
      "lp        3775  0.0  0.0  81240  5572 ?        S    09:53   0:00 /usr/lib/cups/notifier/dbus dbus://\r\n",
      "lp        3776  0.0  0.0  82164  6576 ?        S    09:53   0:00 /usr/lib/cups/notifier/dbus dbus://\r\n",
      "root      5064  0.0  0.0  43596  2556 ?        S    09:59   0:00 dbus-launch --autolaunch=5ab3c275b7304ed3b8aeef9ffcc37eb4 --binary-\r\n",
      "root      5065  0.0  0.0  42760  2576 ?        Ss   09:59   0:00 /usr/bin/dbus-daemon --fork --print-pid 5 --print-address 7 --sessi\r\n",
      "moses     6038  0.0  0.5 498488 43560 ?        Sl   10:10   0:02 /usr/lib/gnome-terminal/gnome-terminal-server\r\n",
      "moses     6043  0.0  0.0  22748  5420 pts/0    Ss+  10:10   0:00 bash\r\n",
      "root      6751  0.0  0.0      0     0 ?        S    10:23   0:00 [kworker/1:0]\r\n",
      "moses     6820  0.0  1.3 1133892 107300 ?      Sl   10:23   0:01 /opt/google/chrome/chrome --type=renderer --field-trial-handle=1321\r\n",
      "moses     6867  0.0  0.0  22748  5428 pts/1    Ss   10:23   0:00 bash\r\n",
      "moses     6908  0.0  0.8 299016 70868 pts/1    S+   10:23   0:01 /home/moses/anaconda3/bin/python /home/moses/anaconda3/bin/jupyter-\r\n",
      "moses     6915  0.0  0.0      0     0 ?        Zs   10:23   0:00 [xdg-open] <defunct>\r\n",
      "moses     6922  0.0  0.1 326304  8796 ?        Sl   10:23   0:00 /usr/lib/gvfs/gvfsd-http --spawner :1.7 /org/gtk/gvfs/exec_spaw/1\r\n",
      "moses     7016  0.0  0.0  22756  5444 pts/2    Ss   10:24   0:00 bash\r\n",
      "moses     7080  0.0  1.4 1133292 113780 ?      Sl   10:24   0:01 /opt/google/chrome/chrome --type=renderer --field-trial-handle=1321\r\n",
      "moses     7097  3.5  3.9 1407476 320200 ?      Rl   10:24   1:40 /opt/google/chrome/chrome --type=renderer --field-trial-handle=1321\r\n",
      "moses     7131  0.0  0.8 375236 71632 pts/2    Sl+  10:24   0:02 /home/moses/anaconda3/bin/python /home/moses/anaconda3/bin/jupyter-\r\n",
      "moses     7211  0.2  1.4 1150508 120836 ?      Sl   10:24   0:06 /opt/google/chrome/chrome --type=renderer --field-trial-handle=1321\r\n",
      "moses     7237  0.0  0.0  22680  5208 pts/3    Ss+  10:24   0:00 bash\r\n",
      "moses     7263  0.0  0.0  22764  5488 pts/4    Ss+  10:25   0:00 bash\r\n",
      "moses     7300  0.0  1.4 1144048 116988 ?      Sl   10:25   0:02 /opt/google/chrome/chrome --type=renderer --field-trial-handle=1321\r\n",
      "moses     7743  0.2  2.3 1422740 185824 ?      Ssl  10:34   0:05 /home/moses/anaconda3/bin/python -m ipykernel_launcher -f /run/user\r\n",
      "root      7872  0.0  0.0      0     0 ?        S    10:36   0:00 [kworker/0:0]\r\n",
      "root      8361  0.0  0.0      0     0 ?        S    10:47   0:00 [kworker/2:5]\r\n",
      "moses     8364  0.0  1.7 1164756 137952 ?      Sl   10:47   0:00 /opt/google/chrome/chrome --type=renderer --field-trial-handle=1321\r\n",
      "moses     8413  0.0  0.7 824828 56980 ?        Ssl  10:47   0:01 /home/moses/anaconda3/bin/python -m ipykernel_launcher -f /run/user\r\n",
      "moses     8474  0.0  0.0  22752  5568 pts/5    Ss   10:49   0:00 bash\r\n",
      "moses     8745  0.0  0.6 1048076 49392 ?       Sl   10:51   0:00 /opt/google/chrome/chrome --type=renderer --field-trial-handle=1321\r\n",
      "root      8811  0.0  0.0      0     0 ?        S    10:53   0:00 [kworker/2:3]\r\n",
      "root      8812  0.0  0.0      0     0 ?        S    10:53   0:00 [kworker/2:4]\r\n",
      "root      8813  0.0  0.0      0     0 ?        S    10:53   0:00 [kworker/2:6]\r\n",
      "root      9008  0.0  0.0      0     0 ?        S    10:57   0:00 [kworker/1:1]\r\n",
      "root      9103  0.0  0.0      0     0 ?        S    10:59   0:00 [kworker/3:0]\r\n",
      "root      9402  0.0  0.0      0     0 ?        S    11:05   0:00 [kworker/3:1]\r\n",
      "root      9451  0.0  0.0      0     0 ?        S    11:06   0:00 [kworker/0:1]\r\n",
      "root      9670  0.0  0.0      0     0 ?        S    11:09   0:00 [kworker/1:2]\r\n",
      "moses     9709  0.0  0.0  18464  2984 pts/5    S+   11:10   0:00 man ps\r\n",
      "moses     9721  0.0  0.0   9652   952 pts/5    S+   11:10   0:00 pager\r\n",
      "root      9802  0.0  0.0      0     0 ?        S    11:11   0:00 [kworker/3:2]\r\n",
      "moses     9839  0.0  0.0   4500   700 pts/6    Ss+  11:12   0:00 /bin/sh -c ps waux\r\n",
      "moses     9840  0.0  0.0  37360  3324 pts/6    R+   11:12   0:00 ps waux\r\n"
     ]
    }
   ],
   "source": [
    "!ps waux"
   ]
  },
  {
   "cell_type": "markdown",
   "metadata": {},
   "source": [
    "# Redirection and Pipes\n",
    "\n",
    "Most commands read from STDIN (\"standard input\") and write to STDOUT and STDERR.\n",
    "\n",
    " * Redirect a file to STDIN with `<`\n",
    " * Redirect STDOUT to a file with `>`\n",
    " * Redirect STDERR to a file with `2>`\n",
    " * Append STDOUT to a file with `>>`\n",
    " * Connect the STDOUT of one command with the STDIN of another with `|`\n",
    "\n",
    "`grep export < .bash_profile | sort > temp`\n"
   ]
  },
  {
   "cell_type": "markdown",
   "metadata": {},
   "source": [
    "# File structure\n",
    "\n",
    "Basic file commands\n",
    "\n",
    " * `pwd` (print working directory)\n",
    " * `ls` (list directory)\n",
    " * `cd` (change directory)\n",
    " * `pushd`, `popd` (occasionally useful)\n",
    "\n",
    "Directories contain files and other directories, with names separated by `/`\n",
    "\n",
    "Special directories:\n",
    "\n",
    " * `/` root, the top-level directory\n",
    " * `~` your home directory\n",
    " * `.` the current directory\n",
    " * `..` the parent directory\n",
    "\n",
    "Absolute paths start with `/` (or `~`). Relative paths don't.\n"
   ]
  },
  {
   "cell_type": "markdown",
   "metadata": {},
   "source": [
    "# Command-line Options\n",
    "\n",
    "Most commands have can take options.\n",
    "\n",
    "Usually\n",
    "\n",
    " * single-character options are preceded by `-` and can be combined\n",
    " * full-word options are preceded by `--`\n",
    "Usually.\n",
    "\n",
    "Examples:\n",
    "\n",
    " * `python --version`\n",
    " * `ls -l`\n",
    " * `ls -la`\n",
    "\n",
    "See `man ` *command* for more details.\n"
   ]
  },
  {
   "cell_type": "markdown",
   "metadata": {},
   "source": [
    "\n",
    "# Permissions\n",
    "\n",
    "Each file has read, write, and execute permissions for the owner, the group, and the world.\n",
    "\n",
    "Examine with `ls -la`\n",
    "\n",
    "`drwxr-xr-x   7 jdoe  staff     238 Sep 11 21:21 .`\n",
    "\n",
    "`drwxr-xr-x  54 jdoe  staff    1836 Sep 11 19:07 ..`\n",
    "\n",
    "`-rw-r--r--   1 jdoe  staff    4025 Sep 11 21:21 unix.md`\n",
    "\n",
    "`-rw-r--r--@  1 jdoe  staff  128995 Sep 11 21:05 unix.pdf`\n",
    "\n",
    "Set with `chmod`\n"
   ]
  },
  {
   "cell_type": "markdown",
   "metadata": {},
   "source": [
    "\n",
    "# Basic Commands\n",
    "\n",
    "Most commands \n",
    "Help\n",
    "\n",
    " * man (read `man man` for more information)\n",
    " * info (probably not helpful for you)\n",
    "\n",
    "Files and directories\n",
    "\n",
    " * `cat` (output file(s) to STDOUT)\n",
    " * `less` (page through files)\n",
    " * `head` and `tail` (look at start and end of file)\n",
    " * `mv` (move file or directory)\n",
    " * `cp` (copy file or directory)\n",
    " * `rm` (remove file or directory; use `-rf` *carefully* to remove directory)\n",
    " * `mkdir` and `rmdir` (make and remove directory)\n",
    " * `touch` (create empty file, or update timestamp)\n",
    " * `diff` (compare files)\n",
    "\n"
   ]
  },
  {
   "cell_type": "markdown",
   "metadata": {},
   "source": [
    "# Common Filters\n",
    "\n",
    "This can be passed a file, or read from STDIN\n",
    "\n",
    " * `wc` (count lines/words/characters)\n",
    " * `grep` or `egrep` (find lines that contain strings)\n",
    " * `sort`\n",
    " * `uniq` (combine consecutive identical lines; use `-c` to count)\n",
    " * `tr` (transpose characters)\n",
    " * `cut` (select specific columns of csv or tsv)\n",
    " * `paste` (like SQL join; not that common)\n",
    " * `sed`, `awk`, and `perl` (languages for file manipulation)\n"
   ]
  },
  {
   "cell_type": "markdown",
   "metadata": {},
   "source": [
    "# Regular Expressions\n",
    "\n",
    "The `grep` command (and many languages) use regular expressions to match files.\n",
    "\n",
    "Most characters match themselves. Some don't.\n",
    "\n",
    " * `.` matches anything other than a newline\n",
    " * `*` match zero or more of previous atom\n",
    " * `+` match one or more of previous atom\n",
    " * `|` match either previous or next item\n",
    " * `[abc0-9]` match any of characters within\n",
    " * `\\` escape previous character\n",
    " * `\\(\\)` for grouping (use egrep to use without `\\`)\n"
   ]
  },
  {
   "cell_type": "markdown",
   "metadata": {},
   "source": [
    "# Other Useful Commands\n",
    "\n",
    "* `echo` (echo to STDOUT)\n",
    "* `find` (find files that match something and maybe do something with them)\n",
    "* `ps` (list processes; `ps aux` lists all with more fields)\n",
    "* `kill` (kills a process by pid; `kill -9` really kills it)\n",
    "* `tar` (archive directories into a single file)\n"
   ]
  },
  {
   "cell_type": "markdown",
   "metadata": {},
   "source": [
    "# Job Control\n",
    "\n",
    "Multiple jobs can run from a shell an once. Jobs can be\n",
    "\n",
    " * stopped (paused)\n",
    " * foreground (blocks other actions)\n",
    " * background (can't read input but still prints)\n",
    "\n",
    "Important commands\n",
    "\n",
    " * jobs (list jobs)\n",
    " * `&` (when added to the end of a command, starts job in the background)\n",
    " * `fg` (puts a stopped/background job in foreground)\n",
    " * `bg` (puts stopped job in background)\n",
    " * `^Z` (stops foreground job)\n",
    " * `^C` (kills foreground job)\n",
    " * `kill %1` (kills job 1)"
   ]
  },
  {
   "cell_type": "markdown",
   "metadata": {},
   "source": [
    "# Environment Variables\n",
    "\n",
    "List with `env`\n",
    "\n",
    "Set with `VAR=foo`, or `export VAR=foo` when run from a script (e.g., .bash_profile)"
   ]
  },
  {
   "cell_type": "markdown",
   "metadata": {},
   "source": [
    "# Basic vi\n",
    "\n",
    "Two main modes\n",
    "\n",
    " * Insert mode (typing stuff inserts it in file)\n",
    " * Command mode (each key has meaning)\n",
    "\n",
    "The *escape* key brings you to command mode; *i* enters insert mode\n",
    "\n",
    "Helpful commands\n",
    "\n",
    " * `i` (enter insert mode)\n",
    " * `a` (enter insert mode after this character)\n",
    " * `dd` (delete a line)\n",
    " * `100G` (go to line 100)\n",
    " * `:wq` (save and exit)\n",
    " * `:q!` (exit without saving)"
   ]
  },
  {
   "cell_type": "markdown",
   "metadata": {},
   "source": [
    "\n",
    "# Editing `~/.bash_profile` (`~/.bashrc` on linux)\n",
    "\n",
    "`alias h='history'`\n",
    "\n",
    "`alias l='ls -GFh'`\n",
    "\n",
    "`alias ll='ls -lFGh'`"
   ]
  },
  {
   "cell_type": "code",
   "execution_count": null,
   "metadata": {},
   "outputs": [],
   "source": []
  }
 ],
 "metadata": {
  "kernelspec": {
   "display_name": "Python 3",
   "language": "python",
   "name": "python3"
  },
  "language_info": {
   "codemirror_mode": {
    "name": "ipython",
    "version": 3
   },
   "file_extension": ".py",
   "mimetype": "text/x-python",
   "name": "python",
   "nbconvert_exporter": "python",
   "pygments_lexer": "ipython3",
   "version": "3.6.2"
  }
 },
 "nbformat": 4,
 "nbformat_minor": 2
}
