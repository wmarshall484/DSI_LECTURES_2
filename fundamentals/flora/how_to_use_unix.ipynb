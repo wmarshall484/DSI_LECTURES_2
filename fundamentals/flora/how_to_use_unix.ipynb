{
 "cells": [
  {
   "cell_type": "markdown",
   "metadata": {},
   "source": [
    "# Note!\n",
    "Despite being in an \"ipython notebook\", there won't be writing any python. But I will be showing how to use bash commands. To do so in a notebook, you must prepend the command with an exclamation point (!), also called a \"bang\"."
   ]
  },
  {
   "cell_type": "code",
   "execution_count": 1,
   "metadata": {},
   "outputs": [
    {
     "name": "stdout",
     "output_type": "stream",
     "text": [
      "/Users/floraxu/Galvanize/lectures/intro/git_unix\r\n"
     ]
    }
   ],
   "source": [
    "!pwd"
   ]
  },
  {
   "cell_type": "code",
   "execution_count": 2,
   "metadata": {},
   "outputs": [
    {
     "name": "stdout",
     "output_type": "stream",
     "text": [
      "how_to_use_unix.ipynb how_to_use_unix.md    poem.txt\r\n"
     ]
    }
   ],
   "source": [
    "!ls"
   ]
  },
  {
   "cell_type": "markdown",
   "metadata": {},
   "source": [
    "All the commands you see could simply be typed into your terminal, just omit the bangs. "
   ]
  },
  {
   "cell_type": "markdown",
   "metadata": {},
   "source": [
    "# Unix fundamentals\n",
    "\n",
    "## Objectives\n",
    " * Perform basic file operations from the command line\n",
    " * Get help using `man`\n",
    " * Configure environment in *.bash_profile*\n",
    " * Manage a process with job control\n",
    " * Write a simple regular expression\n",
    " * Use `grep`/`sed`/`awk`/`cut`/`paste` to process/clean a text file\n",
    " * Perform “survival” edits using vi"
   ]
  },
  {
   "cell_type": "markdown",
   "metadata": {},
   "source": [
    "# Agenda\n",
    "* About operating systems and unix\n",
    "* Using a shell\n",
    "* Files and permissions\n",
    "* Basic commands"
   ]
  },
  {
   "cell_type": "markdown",
   "metadata": {},
   "source": [
    "# What is an Operating System?\n",
    "\n",
    "Operating system: the collection of software that directs a computer's operations, controlling and scheduling the execution of other programs, and managing storage, input/output, and communication resources. (Dictionary.com)\n",
    "\n",
    "Many pieces\n",
    "\n",
    " * Kernel (CPU, memory, processes, users)\n",
    " * Device drivers (keyboard, mouse, displays, ...)\n",
    " * File manager\n",
    " * System processes\n",
    " * User interface (shells and GUI)\n",
    " * Standard programs\n"
   ]
  },
  {
   "cell_type": "markdown",
   "metadata": {},
   "source": [
    "# Windows and Unix\n",
    "\n",
    "Windows (most desktops and laptops)\n",
    "\n",
    " * Made by Microsoft\n",
    " * Proprietary\n",
    " * More GUI based\n",
    "\n",
    "Unix\n",
    "\n",
    " * Many versions, made by different companies, groups, or people (including Apple since 2002)\n",
    " * Originally a commercial product\n",
    " * Linux and FreeBSD are *open-source* versions of Unix\n",
    " * More command-line based\n",
    " * Small, simple commands\n",
    " * Everything is a file\n",
    "\n"
   ]
  },
  {
   "cell_type": "markdown",
   "metadata": {},
   "source": [
    "# Shells\n",
    "\n",
    "A shell is a command-line interface that interprets user input, runs programs, and output results.\n",
    "\n",
    " * sh (Bourne Shell)\n",
    " * ksh (Korn Shell)\n",
    " * **bash** (Bourne-again shell)\n",
    " * csh (C shell)\n",
    " * tcsh\n",
    " * zsh\n",
    "\n",
    "All are also scripting languages.\n",
    "\n",
    "A terminal is a *window displaying a shell prompt*. The shell is the *process running on a computer that takes commands as input*. You may hear people use \"terminal\" and \"shell\" interchangeably, but they are confused. \n",
    "\n",
    "The [original computing terminal](https://en.wikipedia.org/wiki/Computer_terminal) was a teletypewriter (TTY). Commands were typed and zapped over to the room-sized computer mainframe. [UNIX](https://en.wikipedia.org/wiki/History_of_Unix) was developed in this environment, so many commands retain the terminology of teletypewriters and tape drives. "
   ]
  },
  {
   "cell_type": "markdown",
   "metadata": {},
   "source": [
    "# Processes\n",
    "\n",
    "A process is a program or task running on a computer.\n",
    "\n",
    "A single process consists of:\n",
    " * One or more threads\n",
    " * Program text\n",
    " * Memory for stack and heap\n",
    " * File descriptors\n",
    " * Environment\n",
    " * Owner and privilege"
   ]
  },
  {
   "cell_type": "markdown",
   "metadata": {},
   "source": [
    "To view running processes and their details, type `ps`"
   ]
  },
  {
   "cell_type": "code",
   "execution_count": 3,
   "metadata": {
    "scrolled": false
   },
   "outputs": [
    {
     "name": "stdout",
     "output_type": "stream",
     "text": [
      "  PID TTY           TIME CMD\r\n",
      " 7944 ttys000    0:00.09 -bash\r\n",
      "19294 ttys000    0:10.66 /Users/floraxu/anaconda3/bin/python /Users/floraxu/ana\r\n",
      "33763 ttys001    0:00.21 -bash\r\n"
     ]
    }
   ],
   "source": [
    "!ps"
   ]
  },
  {
   "cell_type": "markdown",
   "metadata": {},
   "source": [
    "By default, `ps` only shows processes started by you (that is, the userid associated with you, and not processes started by other users or the `root` user), and started in the same terminal that you just typed `ps` into. \n",
    "\n",
    "To show all processes started by all users in all terminals, typ `ps -waux`"
   ]
  },
  {
   "cell_type": "code",
   "execution_count": 4,
   "metadata": {},
   "outputs": [],
   "source": [
    "#!ps -waux"
   ]
  },
  {
   "cell_type": "markdown",
   "metadata": {},
   "source": [
    "# File structure\n",
    "\n",
    "Basic file commands\n",
    "\n",
    " * `pwd` (print working directory)\n",
    " * `ls` (list directory)\n",
    " * `cd` (change directory)\n",
    "\n",
    "Directories contain files and other directories, with names separated by `/`\n",
    "\n",
    "Special directories:\n",
    "\n",
    " * `/` root, the top-level directory\n",
    " * `~` your home directory\n",
    " * `.` the current directory\n",
    " * `..` the parent directory\n",
    "\n",
    "Absolute paths start with `/` (or `~`). Relative paths don't.\n"
   ]
  },
  {
   "cell_type": "markdown",
   "metadata": {},
   "source": [
    "# Command-line Options\n",
    "\n",
    "Most commands have can take options.\n",
    "\n",
    "Usually\n",
    "\n",
    " * single-character options are preceded by `-` and can be combined\n",
    " * full-word options are preceded by `--`\n",
    "Usually.\n",
    "\n",
    "Examples:\n",
    "\n",
    " * `python --version`\n",
    " * `ls -l`\n",
    " * `ls -la`\n",
    "\n",
    "See `man ` *command* for more details.\n"
   ]
  },
  {
   "cell_type": "markdown",
   "metadata": {},
   "source": [
    "\n",
    "# Basic Commands\n",
    "\n",
    "### Help\n",
    "\n",
    " * `man` (read `man man` for more information)\n",
    "\n",
    "### Files and directories\n",
    "\n",
    " * `cat` (output file(s) to STDOUT)\n",
    " * `less` (page through files)\n",
    " * `head` and `tail` (look at start and end of file)\n",
    " * `mv` (move file or directory)\n",
    " * `cp` (copy a file, use `cp -r` to copy a directory)\n",
    " * `rm` (remove file or directory; use `-rf` *carefully* to remove directory)\n",
    " * `mkdir` and `rmdir` (make and remove directory)\n",
    " * `touch` (create empty file, or update timestamp)\n",
    " * `diff` (compare files)\n",
    "\n",
    "### Managing processes\n",
    " * `ps` (display running processes)\n",
    "   * `ps waux` (display all processes from all users)\n",
    " * `kill` (terminate a process)\n",
    "   * If you have a process running in your terminal, `<Ctrl>-C` should kill it. If that fails, you'll have to use `kill`.\n",
    " * `<bash command> &` (run process in background. [more info](https://bashitout.com/2013/05/18/Ampersands-on-the-command-line.html))\n",
    "   * If you have a process running in your terminal, `<Ctrl>-Z` pauses the process and sends it into the background. It does NOT kill that process. \n",
    " * `jobs` (show background processes running in the current shell session; each process has a _job number_. [more info](http://tldp.org/LDP/abs/html/x9644.html))\n",
    "   * `bg <job number>` (resume a suspended job and run it in the background)\n",
    "   * `fg <job number>` (send a background job into the foreground)"
   ]
  },
  {
   "cell_type": "markdown",
   "metadata": {},
   "source": [
    "### Common Filters\n",
    "\n",
    "These can be passed a file, or read from STDIN\n",
    "\n",
    " * `wc` (count lines/words/characters)\n",
    " * `grep` or `egrep` (find lines that contain strings)\n",
    " * `sort`\n",
    " * `uniq` (combine consecutive identical lines; use `-c` to count)\n",
    " * `tr` (translate characters)\n",
    " * `cut` (select specific columns of csv or tsv)\n",
    " * `paste` (like SQL join; not that common)\n",
    " * `sed`, `awk`, and `perl` (languages for file manipulation)\n"
   ]
  },
  {
   "cell_type": "markdown",
   "metadata": {},
   "source": [
    "### Other Useful Commands\n",
    "\n",
    "* `echo` (echo to STDOUT)\n",
    "* `find` (find files that match something and maybe do something with them)\n",
    "* `which <bash command>` (show the path to the executable file for that bash command)\n",
    "* `tar` (archive directories into a single file)\n"
   ]
  },
  {
   "cell_type": "markdown",
   "metadata": {
    "hideCode": true
   },
   "source": [
    "### example: killing a process"
   ]
  },
  {
   "cell_type": "markdown",
   "metadata": {},
   "source": [
    "To kill a misbehaving (or frozen) process, type `kill <PID>` (where `<PID>` is the process id listed in `ps` above).\n",
    "\n",
    "Sometimes you may have the use the `-9` option of the `kill` command, which you can think of as a \"hard shutdown\" of a process. `kill -9 <PID>`"
   ]
  },
  {
   "cell_type": "markdown",
   "metadata": {},
   "source": [
    "Try the following in your terminal (not using the notebook). `$` represents the shell prompt, don't type `$`"
   ]
  },
  {
   "cell_type": "markdown",
   "metadata": {},
   "source": [
    "```\n",
    "$ sleep 100 &\n",
    "$ jobs\n",
    "$ ps\n",
    "$ kill <the PID for sleep>\n",
    "$\n",
    "```"
   ]
  },
  {
   "cell_type": "markdown",
   "metadata": {},
   "source": [
    "### example: reading a file, searching through a file"
   ]
  },
  {
   "cell_type": "code",
   "execution_count": 5,
   "metadata": {
    "scrolled": true
   },
   "outputs": [
    {
     "name": "stdout",
     "output_type": "stream",
     "text": [
      "total 104\r\n",
      "drwxr-xr-x  6 floraxu  staff   192B May  5 15:01 \u001b[34m.\u001b[m\u001b[m\r\n",
      "drwxr-xr-x  9 floraxu  staff   288B May  2 11:06 \u001b[34m..\u001b[m\u001b[m\r\n",
      "drwxr-xr-x  4 floraxu  staff   128B May  5 12:07 \u001b[34m.ipynb_checkpoints\u001b[m\u001b[m\r\n",
      "-rw-r--r--  1 floraxu  staff    32K May  5 15:01 how_to_use_unix.ipynb\r\n",
      "-rw-r--r--  1 floraxu  staff    12K May  5 15:01 how_to_use_unix.md\r\n",
      "-rw-r--r--  1 floraxu  staff   1.6K Mar 21 20:51 poem.txt\r\n"
     ]
    }
   ],
   "source": [
    "!ls -alh"
   ]
  },
  {
   "cell_type": "code",
   "execution_count": 6,
   "metadata": {
    "scrolled": false
   },
   "outputs": [
    {
     "name": "stdout",
     "output_type": "stream",
     "text": [
      "this is a UNIX poem\r\n",
      "from an ancient epoch\r\n",
      "grep, ye mighty, and despair\r\n",
      "also have a donut\r\n",
      "                               $@@@@@@@                                        \r\n",
      "                          $@@@$$$$$########$#                                  \r\n",
      "                       #$$$$$$$###****!**!***##                                \r\n",
      "                      $$$$$$$#****!!======!=!!!***                             \r\n",
      "                    *#$$$$$##***====;:::::;;==!!!**                            \r\n",
      "                   *########**!!=;::~-,,,,--~:==!!**                           \r\n",
      "                  !*#######***!=;:~-,......,-~;;=!!**                          \r\n",
      "                  !*######***!==;:-.........,-:;=!!**!                         \r\n",
      "                 =!**####****!!=:~,.     ...,~;=!*****;                        \r\n",
      "                 =!**********!!=;:-        .-:=**####*=                        \r\n",
      "                 ;=**********!!!=;:,       -=**##$###*=                        \r\n",
      "                 ;=!!!********!!!!=;~      !#$$$$$$$#*=                        \r\n",
      "                  ;=!!!********!!!!!=== =*#$$@@@@$$#*!;                        \r\n",
      "                  :;=!!!*!**************##$$$@@@$$##!=:                        \r\n",
      "                   :;==!!!!!*!*********###$$$$$$$#*!==                         \r\n",
      "                    :;===!!!!!!!!*******########**!=;-                         \r\n",
      "                     ~:;;====!!!!!!!***********!!==;,                          \r\n",
      "                      .~::;=====!!!!!!!!!!!!==!!=;~                            \r\n",
      "                        .-~::;;;=;============;:~.                             \r\n",
      "                           .--~~:::;::;;::::~-,       \r\n"
     ]
    }
   ],
   "source": [
    "!cat poem.txt"
   ]
  },
  {
   "cell_type": "code",
   "execution_count": 7,
   "metadata": {},
   "outputs": [
    {
     "name": "stdout",
     "output_type": "stream",
     "text": [
      "this is a UNIX poem\r\n",
      "from an ancient epoch\r\n",
      "grep, ye mighty, and despair\r\n",
      "also have a donut\r\n",
      "                               $@@@@@@@                                        \r\n",
      "                          $@@@$$$$$########$#                                  \r\n",
      "                       #$$$$$$$###****!**!***##                                \r\n",
      "                      $$$$$$$#****!!======!=!!!***                             \r\n",
      "                    *#$$$$$##***====;:::::;;==!!!**                            \r\n",
      "                   *########**!!=;::~-,,,,--~:==!!**                           \r\n"
     ]
    }
   ],
   "source": [
    "!head poem.txt"
   ]
  },
  {
   "cell_type": "code",
   "execution_count": 8,
   "metadata": {},
   "outputs": [
    {
     "name": "stdout",
     "output_type": "stream",
     "text": [
      "this is a UNIX poem\r\n",
      "from an ancient epoch\r\n",
      "grep, ye mighty, and despair\r\n",
      "also have a donut\r\n"
     ]
    }
   ],
   "source": [
    "!head -n 4 poem.txt"
   ]
  },
  {
   "cell_type": "code",
   "execution_count": 9,
   "metadata": {},
   "outputs": [
    {
     "name": "stdout",
     "output_type": "stream",
     "text": [
      "also have a donut\r\n"
     ]
    }
   ],
   "source": [
    "!grep donut poem.txt"
   ]
  },
  {
   "cell_type": "code",
   "execution_count": 10,
   "metadata": {},
   "outputs": [
    {
     "name": "stdout",
     "output_type": "stream",
     "text": [
      "from an ancient epoch\r\n",
      "grep, ye mighty, and despair\r\n"
     ]
    }
   ],
   "source": [
    "!grep an poem.txt"
   ]
  },
  {
   "cell_type": "markdown",
   "metadata": {},
   "source": [
    "# Redirection and Pipes\n",
    "\n",
    "Most commands read from STDIN (\"standard input\") and write to STDOUT and STDERR.\n",
    "\n",
    " * Redirect a file to STDIN with `<`\n",
    " * Redirect STDOUT to a file with `>`\n",
    " * Redirect STDERR to a file with `2>`\n",
    " * Append STDOUT to a file with `>>`\n",
    " * Connect the STDOUT of one command with the STDIN of another with `|`"
   ]
  },
  {
   "cell_type": "markdown",
   "metadata": {},
   "source": [
    "### example: searching through processes, outputting to a file"
   ]
  },
  {
   "cell_type": "code",
   "execution_count": 11,
   "metadata": {},
   "outputs": [],
   "source": [
    "#!ps waux"
   ]
  },
  {
   "cell_type": "code",
   "execution_count": 12,
   "metadata": {},
   "outputs": [
    {
     "name": "stdout",
     "output_type": "stream",
     "text": [
      "floraxu          34457  19.3  0.5  4314632  44756   ??  Ss    3:01PM   0:01.37 /Users/floraxu/anaconda3/bin/python -m ipykernel_launcher -f /Users/floraxu/Library/Jupyter/runtime/kernel-4380bf0f-fecc-4dec-bb45-91f7ae166f5e.json\n",
      "floraxu          19294   7.2  0.4  4354340  32588 s000  S+   12:02PM   0:10.75 /Users/floraxu/anaconda3/bin/python /Users/floraxu/anaconda3/bin/jupyter-notebook\n",
      "floraxu          34475   0.0  0.0  4267752    876 s002  S+    3:01PM   0:00.00 grep python\n",
      "floraxu          34473   0.0  0.0  4270384   1176 s002  Ss+   3:01PM   0:00.01 /bin/sh -c ps waux | grep python\n"
     ]
    }
   ],
   "source": [
    "!ps waux | grep python"
   ]
  },
  {
   "cell_type": "code",
   "execution_count": 13,
   "metadata": {},
   "outputs": [
    {
     "name": "stdout",
     "output_type": "stream",
     "text": [
      "floraxu          19294   6.0  0.4  4354340  32600 s000  S+   12:02PM   0:10.76 /Users/floraxu/anaconda3/bin/python /Users/floraxu/anaconda3/bin/jupyter-notebook\r\n",
      "floraxu          34457  14.6  0.5  4314632  44772   ??  Ss    3:01PM   0:01.40 /Users/floraxu/anaconda3/bin/python -m ipykernel_launcher -f /Users/floraxu/Library/Jupyter/runtime/kernel-4380bf0f-fecc-4dec-bb45-91f7ae166f5e.json\r\n",
      "floraxu          34476   0.0  0.0  4268336   1156 s002  Ss+   3:01PM   0:00.01 /bin/sh -c ps waux | grep python | sort\r\n",
      "floraxu          34478   0.0  0.0  4286184    912 s002  S+    3:01PM   0:00.00 grep python\r\n"
     ]
    }
   ],
   "source": [
    "!ps waux | grep python | sort"
   ]
  },
  {
   "cell_type": "code",
   "execution_count": 14,
   "metadata": {},
   "outputs": [],
   "source": [
    "!ps waux | grep python | sort > processes.txt"
   ]
  },
  {
   "cell_type": "markdown",
   "metadata": {},
   "source": [
    "#### example: echoing text into a new file, appending text to a file"
   ]
  },
  {
   "cell_type": "code",
   "execution_count": 15,
   "metadata": {},
   "outputs": [
    {
     "name": "stdout",
     "output_type": "stream",
     "text": [
      "how_to_use_unix.ipynb poem.txt\r\n",
      "how_to_use_unix.md    processes.txt\r\n"
     ]
    }
   ],
   "source": [
    "!ls"
   ]
  },
  {
   "cell_type": "code",
   "execution_count": 16,
   "metadata": {},
   "outputs": [],
   "source": [
    "!touch 'garbage.txt'"
   ]
  },
  {
   "cell_type": "code",
   "execution_count": 17,
   "metadata": {},
   "outputs": [
    {
     "name": "stdout",
     "output_type": "stream",
     "text": [
      "garbage.txt           how_to_use_unix.md    processes.txt\r\n",
      "how_to_use_unix.ipynb poem.txt\r\n"
     ]
    }
   ],
   "source": [
    "!ls"
   ]
  },
  {
   "cell_type": "code",
   "execution_count": 18,
   "metadata": {},
   "outputs": [],
   "source": [
    "!cat garbage.txt"
   ]
  },
  {
   "cell_type": "code",
   "execution_count": 19,
   "metadata": {},
   "outputs": [],
   "source": [
    "!echo \"this is trash\" > garbage.txt"
   ]
  },
  {
   "cell_type": "code",
   "execution_count": 20,
   "metadata": {},
   "outputs": [
    {
     "name": "stdout",
     "output_type": "stream",
     "text": [
      "this is trash\r\n"
     ]
    }
   ],
   "source": [
    "!cat garbage.txt"
   ]
  },
  {
   "cell_type": "code",
   "execution_count": 21,
   "metadata": {},
   "outputs": [],
   "source": [
    "!echo \"i have taken out the trash\" > garbage.txt"
   ]
  },
  {
   "cell_type": "code",
   "execution_count": 22,
   "metadata": {},
   "outputs": [
    {
     "name": "stdout",
     "output_type": "stream",
     "text": [
      "i have taken out the trash\r\n"
     ]
    }
   ],
   "source": [
    "!cat garbage.txt"
   ]
  },
  {
   "cell_type": "code",
   "execution_count": 23,
   "metadata": {},
   "outputs": [],
   "source": [
    "!echo \"then i took out the recycling\" >> garbage.txt"
   ]
  },
  {
   "cell_type": "code",
   "execution_count": 24,
   "metadata": {},
   "outputs": [
    {
     "name": "stdout",
     "output_type": "stream",
     "text": [
      "i have taken out the trash\r\n",
      "then i took out the recycling\r\n"
     ]
    }
   ],
   "source": [
    "!cat garbage.txt"
   ]
  },
  {
   "cell_type": "markdown",
   "metadata": {},
   "source": [
    "## Downloading from the web with `wget` and `curl`"
   ]
  },
  {
   "cell_type": "code",
   "execution_count": 25,
   "metadata": {},
   "outputs": [
    {
     "name": "stdout",
     "output_type": "stream",
     "text": [
      "garbage.txt           how_to_use_unix.md    processes.txt\r\n",
      "how_to_use_unix.ipynb poem.txt\r\n"
     ]
    }
   ],
   "source": [
    "!ls"
   ]
  },
  {
   "cell_type": "markdown",
   "metadata": {},
   "source": [
    "The default command to retrieve content from web servers is `curl -o` on Mac OS X. "
   ]
  },
  {
   "cell_type": "code",
   "execution_count": 26,
   "metadata": {},
   "outputs": [
    {
     "name": "stdout",
     "output_type": "stream",
     "text": [
      "  % Total    % Received % Xferd  Average Speed   Time    Time     Time  Current\n",
      "                                 Dload  Upload   Total   Spent    Left  Speed\n",
      "100  841k  100  841k    0     0  3549k      0 --:--:-- --:--:-- --:--:-- 3534k\n"
     ]
    }
   ],
   "source": [
    "!curl -o bee2.jpg https://upload.wikimedia.org/wikipedia/commons/7/77/Thomas_Bresson_-_Hym%C3%A9nopt%C3%A8re_sur_une_fleur_de_pissenlit_%28by%29.jpg"
   ]
  },
  {
   "cell_type": "code",
   "execution_count": 27,
   "metadata": {},
   "outputs": [
    {
     "name": "stdout",
     "output_type": "stream",
     "text": [
      "bee2.jpg              how_to_use_unix.ipynb poem.txt\r\n",
      "garbage.txt           how_to_use_unix.md    processes.txt\r\n"
     ]
    }
   ],
   "source": [
    "!ls"
   ]
  },
  {
   "cell_type": "markdown",
   "metadata": {},
   "source": [
    "To many Linux user, `wget` is the go-to tool for downloading; however it is not on Mac OS X by default. If you really like the original `wget` on Mac OS X, try install with `brew`"
   ]
  },
  {
   "cell_type": "code",
   "execution_count": 28,
   "metadata": {},
   "outputs": [],
   "source": [
    "#!brew install wget"
   ]
  },
  {
   "cell_type": "code",
   "execution_count": 29,
   "metadata": {},
   "outputs": [
    {
     "name": "stdout",
     "output_type": "stream",
     "text": [
      "--2019-05-05 15:01:52--  https://upload.wikimedia.org/wikipedia/commons/4/42/Apis_mellifera_flying2.jpg\n",
      "Resolving upload.wikimedia.org (upload.wikimedia.org)... 2620:0:863:ed1a::2:b, 198.35.26.112\n",
      "Connecting to upload.wikimedia.org (upload.wikimedia.org)|2620:0:863:ed1a::2:b|:443... connected.\n",
      "HTTP request sent, awaiting response... 200 OK\n",
      "Length: 254615 (249K) [image/jpeg]\n",
      "Saving to: ‘Apis_mellifera_flying2.jpg’\n",
      "\n",
      "Apis_mellifera_flyi 100%[===================>] 248.65K  --.-KB/s    in 0.06s   \n",
      "\n",
      "2019-05-05 15:01:52 (4.29 MB/s) - ‘Apis_mellifera_flying2.jpg’ saved [254615/254615]\n",
      "\n"
     ]
    }
   ],
   "source": [
    "!wget https://upload.wikimedia.org/wikipedia/commons/4/42/Apis_mellifera_flying2.jpg"
   ]
  },
  {
   "cell_type": "code",
   "execution_count": 30,
   "metadata": {},
   "outputs": [
    {
     "name": "stdout",
     "output_type": "stream",
     "text": [
      "Apis_mellifera_flying2.jpg how_to_use_unix.md\r\n",
      "bee2.jpg                   poem.txt\r\n",
      "garbage.txt                processes.txt\r\n",
      "how_to_use_unix.ipynb\r\n"
     ]
    }
   ],
   "source": [
    "!ls"
   ]
  },
  {
   "cell_type": "markdown",
   "metadata": {},
   "source": [
    "# Permissions\n",
    "\n",
    "[chmod examples & reference](https://www.computerhope.com/unix/uchmod.htm)\n",
    "\n",
    "Unix can control file access per _user_, _user group_, and _everyone else_. \n",
    "\n",
    "Each file has read, write, and execute permissions for the owner, the group, and the world.\n",
    "\n",
    "Examine with `ls -la`"
   ]
  },
  {
   "cell_type": "code",
   "execution_count": 31,
   "metadata": {},
   "outputs": [
    {
     "name": "stdout",
     "output_type": "stream",
     "text": [
      "total 2312\r\n",
      "drwxr-xr-x  10 floraxu  staff     320 May  5 15:01 \u001b[34m.\u001b[m\u001b[m\r\n",
      "drwxr-xr-x   9 floraxu  staff     288 May  2 11:06 \u001b[34m..\u001b[m\u001b[m\r\n",
      "drwxr-xr-x   4 floraxu  staff     128 May  5 12:07 \u001b[34m.ipynb_checkpoints\u001b[m\u001b[m\r\n",
      "-rw-r--r--   1 floraxu  staff  254615 Jul  7  2015 Apis_mellifera_flying2.jpg\r\n",
      "-rw-r--r--   1 floraxu  staff  861337 May  5 15:01 bee2.jpg\r\n",
      "-rw-r--r--   1 floraxu  staff      57 May  5 15:01 garbage.txt\r\n",
      "-rw-r--r--   1 floraxu  staff   32745 May  5 15:01 how_to_use_unix.ipynb\r\n",
      "-rw-r--r--   1 floraxu  staff   12364 May  5 15:01 how_to_use_unix.md\r\n",
      "-rw-r--r--   1 floraxu  staff    1664 Mar 21 20:51 poem.txt\r\n",
      "-rw-r--r--   1 floraxu  staff     615 May  5 15:01 processes.txt\r\n"
     ]
    }
   ],
   "source": [
    "!ls -la"
   ]
  },
  {
   "cell_type": "markdown",
   "metadata": {},
   "source": [
    "`d` signifies that the listing is a directory. `r`, `w`, and `x` mean \"readable\", \"writable\", and \"executable\".\n",
    "\n",
    "The first three characters mark the permissions for the use that owns the file, the next three mark the permissions for the user group that owns the file, and the final three are the permissions for everyone else.\n",
    "\n",
    "To modify these permissions, use `chmod`."
   ]
  },
  {
   "cell_type": "markdown",
   "metadata": {},
   "source": [
    "#### examples:\n",
    "`chmod 400 <file>` gives read-only permissions to the file owner, and no permissions to the group & everyone else\n",
    "\n",
    "`chmod 777 <file>` gives full read, write, and execute permission for the owner, group, and world"
   ]
  },
  {
   "cell_type": "markdown",
   "metadata": {},
   "source": [
    "# [Regular Expressions](https://en.wikipedia.org/wiki/Regular_expression)\n",
    "\n",
    "The `grep` command (and many languages) use regular expressions to match files.\n",
    "\n",
    "Most characters match themselves. Some don't.\n",
    "\n",
    " * `.` matches anything other than a newline\n",
    " * `*` match zero or more of previous atom\n",
    " * `+` match one or more of previous atom\n",
    " * `|` match either previous or next item\n",
    " * `[abc0-9]` match any of characters within\n",
    " * `\\` escape previous character\n",
    " * `\\(\\)` for grouping (use egrep to use without `\\`)\n",
    "\n",
    "[Learn regular expressions](https://regexone.com/)\n",
    "\n",
    "[Play regex golf](https://alf.nu/RegexGolf)"
   ]
  },
  {
   "cell_type": "markdown",
   "metadata": {},
   "source": [
    "# Environment Variables\n",
    "\n",
    "List with `env`\n",
    "\n",
    "Set with `VAR=foo`, or `export VAR=foo` when run from a script (e.g., your `.bash_profile`)"
   ]
  },
  {
   "cell_type": "markdown",
   "metadata": {},
   "source": [
    "# Basic vi/vim\n",
    "\n",
    "Two main modes\n",
    "\n",
    " * Insert mode (typing stuff inserts it in file)\n",
    " * Command mode (each key has meaning)\n",
    "\n",
    "The *escape* key brings you to command mode; *i* enters insert mode\n",
    "\n",
    "Helpful commands\n",
    "\n",
    " * `i` (enter insert mode)\n",
    " * `a` (enter insert mode after this character)\n",
    " * `dd` (delete a line)\n",
    " * `100G` (go to line 100)\n",
    " * `:wq` (save and exit)\n",
    " * `:q!` (exit without saving)"
   ]
  },
  {
   "cell_type": "markdown",
   "metadata": {},
   "source": [
    "# How does my shell know where all these commands / programs are?\n",
    "\n",
    "When you type a command, your shell looks for the executable file corresponding to that command. How does bash know where that file is?\n",
    "\n",
    "For example, when you type `ls`, your shell runs the executable file `ls` in your `/bin` folder."
   ]
  },
  {
   "cell_type": "code",
   "execution_count": 32,
   "metadata": {},
   "outputs": [
    {
     "name": "stdout",
     "output_type": "stream",
     "text": [
      "/bin/ls\r\n"
     ]
    }
   ],
   "source": [
    "!which ls"
   ]
  },
  {
   "cell_type": "code",
   "execution_count": 33,
   "metadata": {},
   "outputs": [],
   "source": [
    "#!ls /bin/"
   ]
  },
  {
   "cell_type": "code",
   "execution_count": 34,
   "metadata": {},
   "outputs": [
    {
     "name": "stdout",
     "output_type": "stream",
     "text": [
      "/usr/bin/grep\r\n"
     ]
    }
   ],
   "source": [
    "!which grep"
   ]
  },
  {
   "cell_type": "code",
   "execution_count": 35,
   "metadata": {},
   "outputs": [
    {
     "name": "stdout",
     "output_type": "stream",
     "text": [
      " _____ \r\n",
      "< huh >\r\n",
      " ----- \r\n",
      "        \\   ^__^\r\n",
      "         \\  (oo)\\_______\r\n",
      "            (__)\\       )\\/\\\r\n",
      "                ||----w |\r\n",
      "                ||     ||\r\n"
     ]
    }
   ],
   "source": [
    "!cowsay huh # if you don't have it, do brew install cowsay"
   ]
  },
  {
   "cell_type": "code",
   "execution_count": 36,
   "metadata": {},
   "outputs": [
    {
     "name": "stdout",
     "output_type": "stream",
     "text": [
      "/usr/local/bin/cowsay\r\n"
     ]
    }
   ],
   "source": [
    "!which cowsay"
   ]
  },
  {
   "cell_type": "markdown",
   "metadata": {},
   "source": [
    "The paths to all these executables is stored in the environment variable called PATH."
   ]
  },
  {
   "cell_type": "code",
   "execution_count": 37,
   "metadata": {},
   "outputs": [
    {
     "name": "stdout",
     "output_type": "stream",
     "text": [
      "/Users/floraxu/anaconda3/bin:/Applications/Postgres.app/Contents/Versions/latest/bin:~/anaconda3/bin:/usr/local/sbin:/anaconda3/bin:/anaconda3/condabin:/usr/local/opt/openssl/bin:/usr/local/opt/llvm/bin:/usr/local/opt/sqlite/bin:/opt/local/bin:/opt/local/sbin:/Users/floraxu/.nvm/versions/node/v7.10.0/bin:/usr/local/bin:/usr/local/bin:/Users/floraxu/bin:/usr/local/bin:/usr/bin:/bin:/usr/sbin:/sbin:/Library/TeX/texbin:/opt/X11/bin:/usr/local/git/bin:/Applications/Visual Studio Code.app/Contents/Resources/app/bin\r\n"
     ]
    }
   ],
   "source": [
    "!echo $PATH"
   ]
  },
  {
   "cell_type": "markdown",
   "metadata": {},
   "source": [
    "When you type a command, `bash` looks for an executable with that name in these folders. If none are found, you get an error."
   ]
  },
  {
   "cell_type": "code",
   "execution_count": 38,
   "metadata": {},
   "outputs": [
    {
     "name": "stdout",
     "output_type": "stream",
     "text": [
      "/bin/sh: grok: command not found\r\n"
     ]
    }
   ],
   "source": [
    "!grok"
   ]
  },
  {
   "cell_type": "markdown",
   "metadata": {},
   "source": [
    "### Customizing your shell\n",
    "\n",
    "Perhaps you would like every shell session to start with certain environment variables already defined, or other conveniences.\n",
    "\n",
    "Luckily, there's a file just for this purpose. Put `bash` commands in this file, and they will run every time you start a new shell session (most of the time, this mean \"every time you open a new terminal\").\n",
    "\n",
    "On macOS, this file is called `.bash_profile`. On linux, it's called `.bashrc`. In both cases, it must live in your home folder `~`."
   ]
  },
  {
   "cell_type": "markdown",
   "metadata": {},
   "source": [
    "One convenient thing you can do is add aliases to common commands. Do you find yourself typing `ls -alh` all the time? Wouldn't it be nicer if that command were shorter? Well, just add \n",
    "\n",
    "`alias ll='ls -alh'`\n",
    "\n",
    "to your `~/.bash_profile` (or `~/.bashrc` on Linux).\n",
    "\n",
    "In order for these changes to take effect, you must either start a new session or run `source ~/.bash_profile`\n",
    "\n",
    "## Lecture Credits\n",
    "\n",
    " * Moses Marsh\n",
    " * Miles Erickson\n",
    " * Ben Skrainka\n",
    " * Jack Bennetto"
   ]
  }
 ],
 "metadata": {
  "jupytext": {
   "formats": "ipynb,md"
  },
  "kernelspec": {
   "display_name": "Python 3",
   "language": "python",
   "name": "python3"
  },
  "language_info": {
   "codemirror_mode": {
    "name": "ipython",
    "version": 3
   },
   "file_extension": ".py",
   "mimetype": "text/x-python",
   "name": "python",
   "nbconvert_exporter": "python",
   "pygments_lexer": "ipython3",
   "version": "3.7.1"
  }
 },
 "nbformat": 4,
 "nbformat_minor": 2
}
