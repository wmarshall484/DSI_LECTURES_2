{
 "cells": [
  {
   "cell_type": "markdown",
   "metadata": {},
   "source": [
    "# Unix Basics\n",
    "\n",
    "Leverage a bit of content from Ryan Henning and Brian Mann"
   ]
  },
  {
   "cell_type": "markdown",
   "metadata": {},
   "source": [
    "## `vim` survival skills\n",
    "\n",
    "From [Vim's Website](http://www.vim.org/about.php):\n",
    "> Vim is often called a \"programmer's editor,\" and so useful for programming that many consider it an entire IDE. ... Vim isn't an editor designed to hold its users' hands. It is a tool, the use of which must be learned.\n",
    "\n",
    "`vim` is the \"`vi` i**M**proved\" editor. `vi` is an old-school Unix text-editor program.\n",
    "\n",
    "In `vim` you are either in:\n",
    "- _insert mode_, or\n",
    "- _command mode_\n",
    "\n",
    "In _insert mode_, you get to type into the document.\n",
    "\n",
    "In _command mode_, you get to move the cursor around and instruct vim to do high-level commands.\n",
    "\n",
    "By default, you start in _command mode_. This leads to confusion for all new users who want to immediately begin editing the file. There are many ways to enter _insert mode_ from _command mode_, the most simple way is to press `i` on the keyboard ('i' for insert).\n",
    "\n",
    "Now that you are in _insert mode_, you can type into the document. When you are ready, return to _command mode_ by pressing _escape_ on the keyboard.\n",
    "\n",
    "Now that you are in _command mode_, let's learn a command. Enter `:w` then press enter. You just saved the file. Now enter `:q` and press enter. You just exited vim. (Btw, you can save _and_ exit with the command `:wq`.)\n",
    "\n",
    "If you ever get totally lost in `vim`, just hit _escape_ a bunch then type `:q!`, which tells vim to exit _without_ saving the file."
   ]
  },
  {
   "cell_type": "markdown",
   "metadata": {},
   "source": [
    "# Basic Unix Survival Skills\n",
    "\n",
    "## Configuring your environment\n",
    "\n",
    "The first thing you should do when you set up a unix machine is configure your shell (since you'll be working in it a lot). I'm assuming we'll be using a `bash` shell, but if you're using `zsh` or `sh` or any other shell, just replace `bash` with that in what follows.\n",
    "\n",
    "The user defined settings that determine where unix will look for executables will be stored in \n",
    "```\n",
    "~/.bash_profile\n",
    "```\n",
    "\n",
    "on OSX and \n",
    "```\n",
    "~/.bashrc\n",
    "``` \n",
    "on most linux distros. Generally speaking, files starting with a `.` contain configuration information and shouldn't be messed with unless you need to!!!"
   ]
  },
  {
   "cell_type": "code",
   "execution_count": 1,
   "metadata": {},
   "outputs": [
    {
     "name": "stdout",
     "output_type": "stream",
     "text": [
      "Applications\n",
      "Desktop\n",
      "Documents\n",
      "Downloads\n",
      "Galvanize\n",
      "Library\n",
      "Movies\n",
      "Music\n",
      "Pictures\n",
      "Public\n",
      "Versage.pem\n",
      "anaconda\n",
      "config-bash\n",
      "day2\n",
      "nltk_data\n",
      "zipfian\n"
     ]
    }
   ],
   "source": [
    "%%bash\n",
    "\n",
    "# This won't show any dot-files\n",
    "\n",
    "ls ~"
   ]
  },
  {
   "cell_type": "code",
   "execution_count": 2,
   "metadata": {},
   "outputs": [
    {
     "name": "stdout",
     "output_type": "stream",
     "text": [
      ".CFUserTextEncoding\n",
      ".DS_Store\n",
      ".Trash\n",
      ".anaconda\n",
      ".atom\n",
      ".bash_history\n",
      ".bash_profile\n",
      ".bash_profile-anaconda.bak\n",
      ".bash_sessions\n",
      ".bashrc\n",
      ".conda\n",
      ".condarc\n",
      ".continuum\n",
      ".cups\n",
      ".dbshell\n",
      ".ipython\n",
      ".jupyter\n",
      ".kite\n",
      ".matplotlib\n",
      ".mongorc.js\n",
      ".oracle_jre_usage\n",
      ".pgadmin\n",
      ".psql_history\n",
      ".pylint.d\n",
      ".ssh\n",
      ".viminfo\n",
      "Applications\n",
      "Desktop\n",
      "Documents\n",
      "Downloads\n",
      "Galvanize\n",
      "Library\n",
      "Movies\n",
      "Music\n",
      "Pictures\n",
      "Public\n",
      "Versage.pem\n",
      "anaconda\n",
      "config-bash\n",
      "day2\n",
      "nltk_data\n",
      "zipfian\n"
     ]
    }
   ],
   "source": [
    "%%bash\n",
    "\n",
    "# This will\n",
    "\n",
    "ls -A ~"
   ]
  },
  {
   "cell_type": "markdown",
   "metadata": {},
   "source": [
    "## Man Pages"
   ]
  },
  {
   "cell_type": "markdown",
   "metadata": {},
   "source": [
    "%%bash\n",
    "\n",
    "man ls"
   ]
  },
  {
   "cell_type": "markdown",
   "metadata": {},
   "source": [
    "## Exercise\n",
    "\n",
    "Using the man page for `ls`, find the most recently changed file in your home directory."
   ]
  },
  {
   "cell_type": "markdown",
   "metadata": {},
   "source": [
    "## The PATH variable\n",
    "\n",
    "When you type a command into your shell, it must first _find_ the program you're trying to run. E.g. when you type `python my_script.py` into your shell, the shell must find the `python` program before it can run it. Where does it look?\n",
    "\n",
    "Does it look _everywhere_? No... that would be bad for many reasons.\n",
    "\n",
    "Does it look only in your current directory? No... actually by default it _doesn't_ look there even.\n",
    "\n",
    "Well, someone at some point decided it would look at all the paths in the `PATH` environment variable. Run the command `echo $PATH` to see which directories are in your system's `PATH` variable.\n",
    "\n",
    "Run the command `which python` to see which directory the system find which contains the python command. The `which` command also looks through the PATH variable to find commands, which is handly for diagnosing some things when they go wrong.\n",
    "\n",
    "## The PS1 variable\n",
    "\n",
    "Another special variable which `bash` looks at is the `PS1` variable. It tells `bash` what to print as your prompt!\n",
    "\n",
    "Run this in your bash shell `PS1=\"talk to me > \"`\n",
    "\n",
    "See what happend?\n",
    "\n",
    "If you want a cool prompt (with colors and handy info), check out [Ryan's bash config repo](https://github.com/acu192/config-bash).\n",
    "\n",
    "## The `.bashrc` file (and friends)\n",
    "\n",
    "When `bash` starts (e.g. when you open a new terminal window), it loads a few config files before showing the first prompt. This is your chance to configure bash the way you like it. You can do stuff like add directories to the PATH (like `psql`) and set the PS1 variable to something sensible.\n",
    "\n",
    "Let's use `vim` to edit your `.bashrc` file. Type `vim ~/.bashrc`\n",
    "\n",
    "You can also take a look at `.profile` and `.bash_profile`. Google for the difference between these three files.\n",
    "\n",
    "Btw, whenever you modifiy any of those three files, **be sure to restart your shell!** (e.g. close your terminal window and open a new one)\n",
    "\n",
    "Btw #2, we'll be editing these files periodically throughout the rest of the DSI (and your life as a data scientists / software engineer), so be sure to get familiar with it now.\n",
    "\n",
    "Again, if you want a coolish bash config, check out [Ryan's bash config repo](https://github.com/acu192/config-bash).\n",
    "\n",
    "## Aliases\n",
    "\n",
    "Typing sucks, so let's not do that so much. Aliases are one way to type less!\n",
    "\n",
    "Add the following alias to your `.bashrc` file:\n",
    "```\n",
    "alias lla='ls -alhF'\n",
    "```\n",
    "\n",
    "Close and reopen your terminal and try out the alias by typing `lla` and hitting enter."
   ]
  },
  {
   "cell_type": "markdown",
   "metadata": {},
   "source": [
    "The function `cat` does the same thing, except if takes a file as input."
   ]
  },
  {
   "cell_type": "code",
   "execution_count": 16,
   "metadata": {},
   "outputs": [
    {
     "name": "stdout",
     "output_type": "stream",
     "text": [
      "helllo,\n",
      "\n",
      "tesing out cat.\n"
     ]
    }
   ],
   "source": [
    "%%bash\n",
    "\n",
    "head /Users/sversage/Desktop/test.txt"
   ]
  },
  {
   "cell_type": "markdown",
   "metadata": {},
   "source": [
    "## Permissions\n",
    "\n",
    "In Unix, a user can have 3 types of permissions on a file: Read, Write, and Execute. "
   ]
  },
  {
   "cell_type": "code",
   "execution_count": 18,
   "metadata": {},
   "outputs": [
    {
     "name": "stdout",
     "output_type": "stream",
     "text": [
      "EDA-Versage.ipynb\n",
      "Workflow-Versage.ipynb\n",
      "unix_lecture-versage.ipynb\n"
     ]
    }
   ],
   "source": [
    "%%bash\n",
    "\n",
    "#The ls command will list all the files and directories contained in a directory\n",
    "\n",
    "ls"
   ]
  },
  {
   "cell_type": "code",
   "execution_count": 19,
   "metadata": {},
   "outputs": [
    {
     "name": "stdout",
     "output_type": "stream",
     "text": [
      "total 576\n",
      "-rw-r--r--  1 sversage  admin  232702 Jul 20 15:27 EDA-Versage.ipynb\n",
      "-rw-r--r--  1 sversage  admin   10350 Jul 20 12:49 Workflow-Versage.ipynb\n",
      "-rw-r--r--  1 sversage  admin   45259 Jul 21 10:34 unix_lecture-versage.ipynb\n"
     ]
    }
   ],
   "source": [
    "%%bash\n",
    "\n",
    "# You can also add the -l flag to see more information\n",
    "\n",
    "ls -l"
   ]
  },
  {
   "cell_type": "markdown",
   "metadata": {},
   "source": [
    "The first 10 characters of the output above tells you the permissions:\n",
    "\n",
    "The first character is either `d` or `-`. This tells you whether it is a directory or not (a file). "
   ]
  },
  {
   "cell_type": "code",
   "execution_count": 20,
   "metadata": {},
   "outputs": [
    {
     "name": "stdout",
     "output_type": "stream",
     "text": [
      "total 0\n",
      "drwxr-xr-x  8 sversage  admin  272 Jul 20 13:44 ben_skrainka\n",
      "drwxr-xr-x  5 sversage  admin  170 Jul 20 13:44 brian_mann\n",
      "drwxr-xr-x  4 sversage  admin  136 Jul 11 12:23 jack_bennetto\n",
      "drwxr-xr-x  6 sversage  admin  204 Jul 11 12:23 miles_erickson\n",
      "drwxr-xr-x  9 sversage  admin  306 Jul 17 15:08 ryan_henning\n",
      "drwxr-xr-x  7 sversage  admin  238 Jul 21 10:34 sky_versage\n",
      "drwxr-xr-x  3 sversage  admin  102 Jul 17 15:08 tzeiske\n"
     ]
    }
   ],
   "source": [
    "%%bash\n",
    "\n",
    "# .. refers to the directory one level up\n",
    "\n",
    "ls -l .."
   ]
  },
  {
   "cell_type": "markdown",
   "metadata": {},
   "source": [
    "The next 9 characters are in blocks of 3: \n",
    "```\n",
    "user permissions | group permissions | other permissions\n",
    "```\n",
    "\n",
    "The first character is `'r'` or `'-'` : read permission.\n",
    "\n",
    "The second is `'w'` or `'-'` : write permissions.\n",
    "\n",
    "The third is `'x'` or `'-'` : execute permissions.\n",
    "\n",
    "In each line above, the owning user and the group that user is in are displyed in columns 3 and 4. So, for example, `brianmann` has `rwx` permissions on `say_hello`, but no one else has permissions to write to it or execute it. \n",
    "\n",
    "The `chmod` command will change permssions. The command looks something like \n",
    "\n",
    "```\n",
    "chmod 400 filename\n",
    "``` \n",
    "or\n",
    "```\n",
    "chmod 777 filename\n",
    "```\n",
    "\n",
    "\n",
    "`7` : read, write and execute || rwx\n",
    "\n",
    "`6` : read and write || rw-\n",
    "\n",
    "`5` : read and execute || r-x\n",
    "\n",
    "`4` : read only || r--\n",
    "\n",
    "`3` : write and execute || -wx\n",
    "\n",
    "`2` : write only || -w-\n",
    "\n",
    "`1` : execute only || --x\n",
    "\n",
    "`0` : none || ---\n"
   ]
  },
  {
   "cell_type": "markdown",
   "metadata": {},
   "source": [
    "## Exercise\n",
    "\n",
    "Figure out what it means for a directory to have read, write, or execute permissions."
   ]
  },
  {
   "cell_type": "markdown",
   "metadata": {},
   "source": [
    "## Navigating the Filesystem\n",
    "\n",
    "So, how do you navigate to, move, copy, or delete files and directories?\n",
    "\n",
    "`ls` [dir] : List the contents of a directory. Use current directory is dir is missing.\n",
    "\n",
    "`pwd` : Print current directory\n",
    "\n",
    "`cd` [dir] : Change directory. Uses$HOME if dir is missing.\n",
    "\n",
    "`mkdir` dir : Make a new directory\n",
    "\n",
    "`rmdir` dir : Delete directory\n",
    "\n",
    "`rm` file : Delete file\n",
    "\n",
    "`rm -rf` * : Nuke everything, file or an entire directory. This cannot be undone. It will not give you a warning if you're about to delete something important. Never do this.\n",
    "\n",
    "`mv` from to : Move a file or directory. Can also be used to rename a file or directory.\n",
    "\n",
    "`cp` : Copy files or directories.\n",
    "\n",
    "`chmod` : Change permissions\n",
    "\n",
    "`chown` : Change ownership"
   ]
  },
  {
   "cell_type": "code",
   "execution_count": null,
   "metadata": {
    "collapsed": true
   },
   "outputs": [],
   "source": [
    "%%bash \n",
    "\n",
    "mkdir new\n",
    "ls -l"
   ]
  },
  {
   "cell_type": "markdown",
   "metadata": {},
   "source": [
    "## Examining files\n",
    "\n",
    "What if you want to look at / know something about a file?\n",
    "\n",
    "`less` : View contents of a file and page through it.\n",
    "\n",
    "`cat` : Write one or more files to `stdout` one after the other.\n",
    "\n",
    "`head` : Print the first few lines of a file to `stdout`.\n",
    "\n",
    "`tail` : Print the last few lines of a file to `stdout`."
   ]
  },
  {
   "cell_type": "markdown",
   "metadata": {},
   "source": [
    "## More advanced pipelines\n",
    "\n",
    "What if I want to chain these commands together? Do I need to write the result to a file each time and then read that in to the next command? NO!\n",
    "\n",
    "You can use IO redirection and pipes: `>, <, >>, |`\n",
    "\n",
    "`>` : Redirect output to a file. WILL OVERWRITE IF EXISTS.\n",
    "\n",
    "`>>` : Append output to and existing file.\n",
    "\n",
    "`<` : Read a command's input from disk.\n",
    "\n",
    "`|` : Pass output from one command as the input to another."
   ]
  },
  {
   "cell_type": "markdown",
   "metadata": {},
   "source": [
    "## stdin, stdout, stderr\n",
    "\n",
    "Every process on Unix gets a special input \"file\" named _stdin_, a special output \"file\" name _stdout_, and another special output \"file\" named _stderr_. I put \"file\" in quotes because everything in Unix is a file, but these are necessarily normal files. For example, all three of these (stdin, stdout, and stderr) are _usually_ connected to your terminal screen!\n",
    "\n",
    "Let's do an example in Python:\n",
    "```python\n",
    "import sys\n",
    "\n",
    "while True:\n",
    "    line = sys.stdin.readline()\n",
    "    if not line: break\n",
    "    line = line[0:-1]   # stip new line character\n",
    "    revsd = line[::-1]  # reverse the string\n",
    "    sys.stdout.write(revsd + '\\n')\n",
    "```\n",
    "\n",
    "Name the script `reverse.py`.\n",
    "\n",
    "Notice we don't have to open stdin or stdout, we just import them and use them. Btw, `raw_input` and `print` use stdin and stdout, respectively."
   ]
  },
  {
   "cell_type": "code",
   "execution_count": 25,
   "metadata": {
    "slideshow": {
     "slide_type": "-"
    }
   },
   "outputs": [
    {
     "name": "stdout",
     "output_type": "stream",
     "text": [
      "  57 peace\n",
      " 175 war\n"
     ]
    }
   ],
   "source": [
    "%%bash\n",
    "\n",
    "# We can also compare the number of occurances of 'peace' with 'war'\n",
    "\n",
    "cat /Users/sversage/Galvanize/demo_data/war_and_peace.txt | tr [A-Z] [a-z] | tr ' ' '\\n' | sed 's/\\.|,//g' |\n",
    "grep -E '^(peace|war)$' | sort | uniq -c"
   ]
  },
  {
   "cell_type": "code",
   "execution_count": 26,
   "metadata": {},
   "outputs": [
    {
     "name": "stdout",
     "output_type": "stream",
     "text": [
      "published,” recounted Bítski, emphasizing certain words and opening\r\n"
     ]
    }
   ],
   "source": [
    "%%bash\n",
    "\n",
    "# Using the < operator\n",
    "\n",
    "grep -E 'published'  < /Users/sversage/Galvanize/demo_data/war_and_peace.txt"
   ]
  },
  {
   "cell_type": "markdown",
   "metadata": {},
   "source": [
    "## Remote machines\n",
    "\n",
    "### ssh\n",
    "\n",
    "If you need to access a machine remotely, for example an EC2 instance on AWS, you'll need to use `ssh`.\n",
    "\n",
    "The general syntax is \n",
    "\n",
    "```\n",
    "ssh user@remote-hostname\n",
    "```\n",
    "\n",
    "This will log you into the host and open a command shell. There are some other options, like `-i` for credentials to connect securely.\n",
    "\n",
    "### scp\n",
    "\n",
    "If you don't want access to a terminal, but just to transfer files to and from a remote host, use `scp`.\n",
    "\n",
    "The basic syntax is\n",
    "\n",
    "```\n",
    "scp source_file_name username@destination_host:destination_folder\n",
    "```\n",
    "\n",
    "### sftp\n",
    "\n",
    "Using syntax similar to `ssh` we can run\n",
    "\n",
    "```\n",
    "sftp user@remote-hostname\n",
    "```\n",
    "\n",
    "to open a secure file transfer protocol. This opens a sftp shell which allows you to use a limited set of commands to navigate the remote filesystem and transfer files back and forth.\n",
    "\n"
   ]
  },
  {
   "cell_type": "markdown",
   "metadata": {},
   "source": [
    "## Text Editors\n",
    "\n",
    "If you `ssh` into a host, you need to do everything via the command line. That means no Atom or SublimeText or Gedit to edit your code. You'll need to use a terminal based text editor like Vi, Vim, Emacs, Nano, or Pico. \n",
    "\n",
    "People debate which is 'best' with nearly religious fervor. I like Vim. Lots of people like Emacs. I'm not very familiar with Nano or Pico. Pick one and learn the keyboard shortcuts - they'll all work just fine."
   ]
  }
 ],
 "metadata": {
  "kernelspec": {
   "display_name": "Python 2",
   "language": "python",
   "name": "python2"
  },
  "language_info": {
   "codemirror_mode": {
    "name": "ipython",
    "version": 2
   },
   "file_extension": ".py",
   "mimetype": "text/x-python",
   "name": "python",
   "nbconvert_exporter": "python",
   "pygments_lexer": "ipython2",
   "version": "2.7.13"
  }
 },
 "nbformat": 4,
 "nbformat_minor": 1
}
