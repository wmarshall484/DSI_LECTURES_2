{
 "cells": [
  {
   "cell_type": "markdown",
   "metadata": {},
   "source": [
    "# Unix Basics\n",
    "\n",
    "Leverage a bit of content from Ryan Henning and Brian Mann"
   ]
  },
  {
   "cell_type": "markdown",
   "metadata": {},
   "source": [
    "## `vim` survival skills\n",
    "\n",
    "From [Vim's Website](http://www.vim.org/about.php):\n",
    "> Vim is often called a \"programmer's editor,\" and so useful for programming that many consider it an entire IDE. ... Vim isn't an editor designed to hold its users' hands. It is a tool, the use of which must be learned.\n",
    "\n",
    "`vim` is the \"`vi` i**M**proved\" editor. `vi` is an old-school Unix text-editor program.\n",
    "\n",
    "In `vim` you are either in:\n",
    "- _insert mode_, or\n",
    "- _command mode_\n",
    "\n",
    "In _insert mode_, you get to type into the document.\n",
    "\n",
    "In _command mode_, you get to move the cursor around and instruct vim to do high-level commands.\n",
    "\n",
    "By default, you start in _command mode_. This leads to confusion for all new users who want to immediately begin editing the file. There are many ways to enter _insert mode_ from _command mode_, the most simple way is to press `i` on the keyboard ('i' for insert).\n",
    "\n",
    "Now that you are in _insert mode_, you can type into the document. When you are ready, return to _command mode_ by pressing _escape_ on the keyboard.\n",
    "\n",
    "Now that you are in _command mode_, let's learn a command. Enter `:w` then press enter. You just saved the file. Now enter `:q` and press enter. You just exited vim. (Btw, you can save _and_ exit with the command `:wq`.)\n",
    "\n",
    "If you ever get totally lost in `vim`, just hit _escape_ a bunch then type `:q!`, which tells vim to exit _without_ saving the file."
   ]
  },
  {
   "cell_type": "markdown",
   "metadata": {},
   "source": [
    "# Basic Unix Survival Skills\n",
    "\n",
    "## Configuring your environment\n",
    "\n",
    "The first thing you should do when you set up a unix machine is configure your shell (since you'll be working in it a lot). I'm assuming we'll be using a `bash` shell, but if you're using `zsh` or `sh` or any other shell, just replace `bash` with that in what follows.\n",
    "\n",
    "The user defined settings that determine where unix will look for executables will be stored in \n",
    "```\n",
    "~/.bash_profile\n",
    "```\n",
    "\n",
    "on OSX and \n",
    "```\n",
    "~/.bashrc\n",
    "``` \n",
    "on most linux distros. Generally speaking, files starting with a `.` contain configuration information and shouldn't be messed with unless you need to!!!"
   ]
  },
  {
   "cell_type": "code",
   "execution_count": null,
   "metadata": {
    "collapsed": true
   },
   "outputs": [],
   "source": [
    "%%bash\n",
    "\n",
    "# This won't show any dot-files\n",
    "\n",
    "ls ~"
   ]
  },
  {
   "cell_type": "code",
   "execution_count": null,
   "metadata": {
    "collapsed": true
   },
   "outputs": [],
   "source": [
    "%%bash\n",
    "\n",
    "# This will\n",
    "\n",
    "ls -A ~"
   ]
  },
  {
   "cell_type": "markdown",
   "metadata": {},
   "source": [
    "## Man Pages"
   ]
  },
  {
   "cell_type": "code",
   "execution_count": null,
   "metadata": {
    "collapsed": true
   },
   "outputs": [],
   "source": [
    "%%bash\n",
    "\n",
    "man ls"
   ]
  },
  {
   "cell_type": "markdown",
   "metadata": {},
   "source": [
    "## Exercise\n",
    "\n",
    "Using the man page for `ls`, find the most recently changed file in your home directory."
   ]
  },
  {
   "cell_type": "code",
   "execution_count": null,
   "metadata": {
    "collapsed": true
   },
   "outputs": [],
   "source": [
    "%%bash \n",
    "\n",
    "#Suppose have have a script say_hello that prints the word hello to the terminal\n",
    "\n",
    "#We're chaging the output to this say_hello file (instead of stdout)\n",
    "echo 'echo \"hello\"' > say_hello\n",
    "\n",
    "#change permissions on the file use that the user is the only one able to execute\n",
    "chmod u+x say_hello\n",
    "\n",
    "#I can run it from here by typing\n",
    "\n",
    "./say_hello"
   ]
  },
  {
   "cell_type": "code",
   "execution_count": null,
   "metadata": {
    "collapsed": true
   },
   "outputs": [],
   "source": [
    "%%bash\n",
    "\n",
    "# But if I try to run it without the ./\n",
    "\n",
    "say_hello\n",
    "\n",
    "# or from somewhere else\n",
    "\n",
    "cd ~\n",
    "say_hello"
   ]
  },
  {
   "cell_type": "code",
   "execution_count": null,
   "metadata": {
    "collapsed": true
   },
   "outputs": [],
   "source": [
    "%%bash\n",
    "\n",
    "# In order to run an exectuable file, unix needs to know where it is\n",
    "# That's what the PATH variable is for: it stores a list of locations\n",
    "# where unix will look for commands that you type in\n",
    "\n",
    "echo \"Path\"\n",
    "echo $PATH"
   ]
  },
  {
   "cell_type": "code",
   "execution_count": null,
   "metadata": {
    "collapsed": true
   },
   "outputs": [],
   "source": [
    "import os\n",
    "path = os.getcwd()"
   ]
  },
  {
   "cell_type": "code",
   "execution_count": null,
   "metadata": {
    "collapsed": true
   },
   "outputs": [],
   "source": [
    "%%bash\n",
    "# You can add directories to your PATH by adding the following line to your .bash_profile\n",
    "\n",
    "export PATH='$PATH:/{}'.format(path)\n",
    "\n",
    "# Now, this directory will be in your path everytime to start a bash shell\n",
    "\n",
    "echo \"New Path\"\n",
    "echo $PATH"
   ]
  },
  {
   "cell_type": "code",
   "execution_count": null,
   "metadata": {
    "collapsed": true
   },
   "outputs": [],
   "source": [
    "%%bash\n",
    "# And I can run my function from anywhere\n",
    "echo \"Saying Hello!\"\n",
    "say_hello\n",
    "\n",
    "rm say_hello "
   ]
  },
  {
   "cell_type": "markdown",
   "metadata": {},
   "source": [
    "### Side Note\n",
    "\n",
    "The `$` operator is used to access the value of a bash variable."
   ]
  },
  {
   "cell_type": "code",
   "execution_count": null,
   "metadata": {
    "collapsed": true
   },
   "outputs": [],
   "source": [
    "%%bash\n",
    "\n",
    "echo $PATH\n",
    "\n",
    "# versus\n",
    "\n",
    "echo PATH"
   ]
  },
  {
   "cell_type": "code",
   "execution_count": null,
   "metadata": {
    "collapsed": true
   },
   "outputs": [],
   "source": [
    "%%bash\n",
    "\n",
    "echo \"hello\""
   ]
  },
  {
   "cell_type": "markdown",
   "metadata": {},
   "source": [
    "The function `cat` does the same thing, except if takes a file as input."
   ]
  },
  {
   "cell_type": "code",
   "execution_count": null,
   "metadata": {},
   "outputs": [],
   "source": [
    "%%bash\n",
    "\n",
    "cat /Users/sversage/Desktop/test.txt"
   ]
  },
  {
   "cell_type": "code",
   "execution_count": null,
   "metadata": {},
   "outputs": [],
   "source": [
    "%%bash\n",
    "\n",
    "# There are other environment variables like PATH\n",
    "\n",
    "echo \"Your username:\"\n",
    "echo $USER\n",
    "\n",
    "echo \"Your home directory:\"\n",
    "echo $HOME\n",
    "\n",
    "echo \"Your shell:\"\n",
    "echo $SHELL"
   ]
  },
  {
   "cell_type": "markdown",
   "metadata": {},
   "source": [
    "## Permissions\n",
    "\n",
    "In Unix, a user can have 3 types of permissions on a file: Read, Write, and Execute. "
   ]
  },
  {
   "cell_type": "code",
   "execution_count": null,
   "metadata": {
    "collapsed": true
   },
   "outputs": [],
   "source": [
    "%%bash\n",
    "\n",
    "#The ls command will list all the files and directories contained in a directory\n",
    "\n",
    "ls"
   ]
  },
  {
   "cell_type": "code",
   "execution_count": null,
   "metadata": {
    "collapsed": true
   },
   "outputs": [],
   "source": [
    "%%bash\n",
    "\n",
    "# You can also add the -l flag to see more information\n",
    "\n",
    "ls -l"
   ]
  },
  {
   "cell_type": "markdown",
   "metadata": {},
   "source": [
    "The first 10 characters of the output above tells you the permissions:\n",
    "\n",
    "The first character is either `d` or `-`. This tells you whether it is a directory or not (a file). "
   ]
  },
  {
   "cell_type": "code",
   "execution_count": null,
   "metadata": {
    "collapsed": true
   },
   "outputs": [],
   "source": [
    "%%bash\n",
    "\n",
    "# .. refers to the directory one level up\n",
    "\n",
    "ls -l .."
   ]
  },
  {
   "cell_type": "markdown",
   "metadata": {},
   "source": [
    "The next 9 characters are in blocks of 3: \n",
    "```\n",
    "user permissions | group permissions | other permissions\n",
    "```\n",
    "\n",
    "The first character is `'r'` or `'-'` : read permission.\n",
    "\n",
    "The second is `'w'` or `'-'` : write permissions.\n",
    "\n",
    "The third is `'x'` or `'-'` : execute permissions.\n",
    "\n",
    "In each line above, the owning user and the group that user is in are displyed in columns 3 and 4. So, for example, `brianmann` has `rwx` permissions on `say_hello`, but no one else has permissions to write to it or execute it. \n",
    "\n",
    "The `chmod` command will change permssions. The command looks something like \n",
    "\n",
    "```\n",
    "chmod 400 filename\n",
    "``` \n",
    "or\n",
    "```\n",
    "chmod 777 filename\n",
    "```\n",
    "\n",
    "\n",
    "`7` : read, write and execute || rwx\n",
    "\n",
    "`6` : read and write || rw-\n",
    "\n",
    "`5` : read and execute || r-x\n",
    "\n",
    "`4` : read only || r--\n",
    "\n",
    "`3` : write and execute || -wx\n",
    "\n",
    "`2` : write only || -w-\n",
    "\n",
    "`1` : execute only || --x\n",
    "\n",
    "`0` : none || ---\n"
   ]
  },
  {
   "cell_type": "markdown",
   "metadata": {},
   "source": [
    "## Exercise\n",
    "\n",
    "Figure out what it means for a directory to have read, write, or execute permissions."
   ]
  },
  {
   "cell_type": "markdown",
   "metadata": {},
   "source": [
    "## Navigating the Filesystem\n",
    "\n",
    "So, how do you navigate to, move, copy, or delete files and directories?\n",
    "\n",
    "`ls` [dir] : List the contents of a directory. Use current directory is dir is missing.\n",
    "\n",
    "`pwd` : Print current directory\n",
    "\n",
    "`cd` [dir] : Change directory. Uses$HOME if dir is missing.\n",
    "\n",
    "`mkdir` dir : Make a new directory\n",
    "\n",
    "`rmdir` dir : Delete directory\n",
    "\n",
    "`rm` file : Delete file\n",
    "\n",
    "`rm -rf` * : Nuke everything, file or an entire directory. This cannot be undone. It will not give you a warning if you're about to delete something important. Never do this.\n",
    "\n",
    "`mv` from to : Move a file or directory. Can also be used to rename a file or directory.\n",
    "\n",
    "`cp` : Copy files or directories.\n",
    "\n",
    "`find` : Traverse directory tree and execute commands\n",
    "\n",
    "`chmod` : Change permissions\n",
    "\n",
    "`chown` : Change ownership"
   ]
  },
  {
   "cell_type": "code",
   "execution_count": null,
   "metadata": {
    "collapsed": true
   },
   "outputs": [],
   "source": [
    "%%bash \n",
    "\n",
    "mkdir new\n",
    "ls -l"
   ]
  },
  {
   "cell_type": "markdown",
   "metadata": {},
   "source": [
    "## Examining files\n",
    "\n",
    "What if you want to look at / know something about a file?\n",
    "\n",
    "`less` : View contents of a file and page through it.\n",
    "\n",
    "`grep` : Search lines for matches of a regular expression or string. Probably you want to use `grep -E` all the time, since it accepts more modern regex syntax. \n",
    "\n",
    "`cat` : Write one or more files to `stdout` one after the other.\n",
    "\n",
    "`head` : Print the first few lines of a file to `stdout`.\n",
    "\n",
    "`tail` : Print the last few lines of a file to `stdout`.\n",
    "\n",
    "`wc` : Print the number of character, words, and lines in a file.\n",
    "\n",
    "`cmp` : Tell if files are the same.\n",
    "\n",
    "`diff` : Show difference between files.\n",
    "\n",
    "`sum` : Compute checksum of file."
   ]
  },
  {
   "cell_type": "code",
   "execution_count": null,
   "metadata": {
    "collapsed": true
   },
   "outputs": [],
   "source": [
    "%%bash\n",
    "\n",
    "ls"
   ]
  },
  {
   "cell_type": "markdown",
   "metadata": {},
   "source": [
    "## Doing things with files\n",
    "\n",
    "All unix functions are based on the idea that text files are made up of lines or text. \n",
    "\n",
    "`sort` : Sorts the lines in a file\n",
    "\n",
    "`uniq` : Outputs file with adjacent identical lines collapsed to one\n",
    "\n",
    "`cut` : Extract parts of each line of input\n",
    "\n",
    "`paste` : Joins files by outputing sequentially corresponding lines of each file (horizontal version of `cat`)\n",
    "\n",
    "`sed` : Find and replace with regex.\n",
    "\n",
    "`tr` : A simple character find and replace. Slightly less useful than `sed` but it allows you to replace things with newlines `'\\n'`, which doesn't work in `sed`. \n",
    "\n",
    "`awk` : Command for more advanced line-by-line file manipulation.\n",
    "\n",
    "`grep` : Command for searching files with regular expressions."
   ]
  },
  {
   "cell_type": "code",
   "execution_count": null,
   "metadata": {
    "collapsed": true
   },
   "outputs": [],
   "source": [
    "%%bash\n",
    "\n",
    "grep -E \"pipelines\" unix_lecture.ipynb"
   ]
  },
  {
   "cell_type": "markdown",
   "metadata": {},
   "source": [
    "## More advanced pipelines\n",
    "\n",
    "What if I want to chain these commands together? Do I need to write the result to a file each time and then read that in to the next command? NO!\n",
    "\n",
    "You can use IO redirection and pipes: `>, <, >>, |`\n",
    "\n",
    "`>` : Redirect output to a file. WILL OVERWRITE IF EXISTS.\n",
    "\n",
    "`>>` : Append output to and existing file.\n",
    "\n",
    "`<` : Read a command's input from disk.\n",
    "\n",
    "`|` : Pass output from one command as the input to another."
   ]
  },
  {
   "cell_type": "code",
   "execution_count": null,
   "metadata": {
    "slideshow": {
     "slide_type": "-"
    }
   },
   "outputs": [],
   "source": [
    "%%bash\n",
    "\n",
    "# We can also compare the number of occurances of 'peace' with 'war'\n",
    "\n",
    "cat /Users/sversage/Galvanize/demo_data/war_and_peace.txt | tr [A-Z] [a-z] | tr ' ' '\\n' | sed 's/\\.|,//g' |\n",
    "grep -E '^(peace|war)$' | sort | uniq -c"
   ]
  },
  {
   "cell_type": "code",
   "execution_count": null,
   "metadata": {
    "collapsed": true
   },
   "outputs": [],
   "source": [
    "%%bash\n",
    "\n",
    "# Using the < operator\n",
    "\n",
    "grep -E 'published'  < /Users/sversage/Galvanize/demo_data/war_and_peace.txt"
   ]
  },
  {
   "cell_type": "markdown",
   "metadata": {},
   "source": [
    "## Remote machines\n",
    "\n",
    "### ssh\n",
    "\n",
    "If you need to access a machine remotely, for example an EC2 instance on AWS, you'll need to use `ssh`.\n",
    "\n",
    "The general syntax is \n",
    "\n",
    "```\n",
    "ssh user@remote-hostname\n",
    "```\n",
    "\n",
    "This will log you into the host and open a command shell. There are some other options, like `-i` for credentials to connect securely.\n",
    "\n",
    "### scp\n",
    "\n",
    "If you don't want access to a terminal, but just to transfer files to and from a remote host, use `scp`.\n",
    "\n",
    "The basic syntax is\n",
    "\n",
    "```\n",
    "scp source_file_name username@destination_host:destination_folder\n",
    "```\n",
    "\n",
    "### sftp\n",
    "\n",
    "Using syntax similar to `ssh` we can run\n",
    "\n",
    "```\n",
    "sftp user@remote-hostname\n",
    "```\n",
    "\n",
    "to open a secure file transfer protocol. This opens a sftp shell which allows you to use a limited set of commands to navigate the remote filesystem and transfer files back and forth.\n",
    "\n"
   ]
  },
  {
   "cell_type": "markdown",
   "metadata": {},
   "source": [
    "## Text Editors\n",
    "\n",
    "If you `ssh` into a host, you need to do everything via the command line. That means no Atom or SublimeText or Gedit to edit your code. You'll need to use a terminal based text editor like Vi, Vim, Emacs, Nano, or Pico. \n",
    "\n",
    "People debate which is 'best' with nearly religious fervor. I like Vim. Lots of people like Emacs. I'm not very familiar with Nano or Pico. Pick one and learn the keyboard shortcuts - they'll all work just fine."
   ]
  },
  {
   "cell_type": "markdown",
   "metadata": {},
   "source": [
    "## Regular Expressions (Regex)\n",
    "\n",
    "Regular expressions are way to search text for patterns instead of just matching strings.\n",
    "\n",
    "For example, if you wanted to search a file for phone numbers, you might do something like:\n",
    "\n",
    "```\n",
    "[0-9]{3}-[0-9]{4}\n",
    "```\n",
    "\n",
    "`\\d` : Matches a numeric character 0-9. Equivalent to `[0-9]`\n",
    "\n",
    "`{n}` : Means 'match the previous pattern exactly n times'"
   ]
  },
  {
   "cell_type": "code",
   "execution_count": null,
   "metadata": {},
   "outputs": [],
   "source": [
    "%%bash \n",
    "\n",
    "echo \"345-5678\" | grep -E '\\d{3}-\\d{4}'\n",
    "echo \"345-567\" | grep -E '\\d{3}-\\d{4}'\n",
    "\n",
    "echo 'world' | grep -E world\n"
   ]
  },
  {
   "cell_type": "markdown",
   "metadata": {},
   "source": [
    "This regex is pretty simplistic though. What about phone numbers like (123) 456-7890 or 123-456-7890?\n",
    "\n",
    "Turns out you need something like \n",
    "\n",
    "```\n",
    "^(\\+\\d{1,2}\\s)?\\(?\\d{3}\\)?[\\s.-]?\\d{3}[\\s.-]?\\d{4}$\n",
    "```\n",
    "\n",
    "Regular expressions can get pretty complicated if you need to search for something general. It can be a puzzle to create one that works. Here's a [tutorial](http://www.tutorialspoint.com/python/python_reg_expressions.htm). The best way to learn is just to practice!\n",
    "\n",
    "![Regex](https://imgs.xkcd.com/comics/regex_golf.png)"
   ]
  }
 ],
 "metadata": {
  "kernelspec": {
   "display_name": "Python 2",
   "language": "python",
   "name": "python2"
  },
  "language_info": {
   "codemirror_mode": {
    "name": "ipython",
    "version": 2
   },
   "file_extension": ".py",
   "mimetype": "text/x-python",
   "name": "python",
   "nbconvert_exporter": "python",
   "pygments_lexer": "ipython2",
   "version": "2.7.13"
  }
 },
 "nbformat": 4,
 "nbformat_minor": 1
}
