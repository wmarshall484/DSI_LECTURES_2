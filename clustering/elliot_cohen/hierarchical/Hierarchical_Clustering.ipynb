{
 "cells": [
  {
   "cell_type": "markdown",
   "metadata": {},
   "source": [
    "Materials in this notebook are adapted from Frank Burkholder and Ryan Henning. All IP property of Galvanize Inc.\n",
    "\n",
    "## Demonstrate pdist and squareform"
   ]
  },
  {
   "cell_type": "code",
   "execution_count": 1,
   "metadata": {
    "collapsed": true
   },
   "outputs": [],
   "source": [
    "import numpy as np\n",
    "import pandas as pd\n",
    "from scipy.spatial.distance import pdist       # pair-wise distances\n",
    "from scipy.spatial.distance import squareform  # dist. vector to square dist. matrix\n",
    "from scipy.cluster.hierarchy import linkage    # how to define distances between clusters\n",
    "from scipy.cluster.hierarchy import dendrogram # display a dendrogram \n",
    "import matplotlib.pyplot as plt\n",
    "%matplotlib inline"
   ]
  },
  {
   "cell_type": "code",
   "execution_count": 2,
   "metadata": {
    "collapsed": true
   },
   "outputs": [],
   "source": [
    "data = np.array([[-0.6, -1.0], [0.0, -0.8], [-1.5, -0.4],\n",
    "                 [-1.4, -1.5], [1.1, -0.3], [-1.0, -1.1], \n",
    "                 [ 1.2,  0.0], [0.6, -0.3], [ 0.0,  0.7]])\n",
    "labels = np.array(['1', '2', '3', '4', '5', '6', '7', '8', '9'])"
   ]
  },
  {
   "cell_type": "code",
   "execution_count": 3,
   "metadata": {},
   "outputs": [
    {
     "data": {
      "image/png": "[encoded data removed]",
      "text/plain": [
       "<matplotlib.figure.Figure at 0x1118f8a20>"
      ]
     },
     "metadata": {},
     "output_type": "display_data"
    }
   ],
   "source": [
    "fig = plt.figure(figsize = (8,8))\n",
    "ax = fig.add_subplot(111)\n",
    "plt.scatter(data[:,0], data[:,1])\n",
    "\n",
    "for label, x, y in zip(labels, data[:, 0], data[:, 1]):\n",
    "    plt.annotate(\n",
    "        label,\n",
    "        xy=(x, y), xytext=(-5, 5),\n",
    "        textcoords='offset points')\n",
    "ax.set_aspect('equal')\n",
    "plt.show()"
   ]
  },
  {
   "cell_type": "code",
   "execution_count": 4,
   "metadata": {},
   "outputs": [
    {
     "name": "stdout",
     "output_type": "stream",
     "text": [
      "Pair-wise distances\n",
      "[ 0.63245553  1.08166538  0.94339811  1.83847763  0.41231056  2.05912603\n",
      "  1.3892444   1.80277564  1.55241747  1.56524758  1.2083046   1.04403065\n",
      "  1.44222051  0.78102497  1.5         1.1045361   2.60192237  0.86023253\n",
      "  2.72946881  2.1023796   1.86010752  2.77308492  0.56568542  3.0016662\n",
      "  2.33238076  2.60768096  2.24722051  0.31622777  0.5         1.48660687\n",
      "  2.45967478  1.78885438  2.05912603  0.67082039  1.3892444   1.16619038]\n",
      "\n",
      "Shape of pair-wise distances\n",
      "(36,)\n"
     ]
    }
   ],
   "source": [
    "pairwise_distances = pdist(data)\n",
    "print(\"Pair-wise distances\")\n",
    "print(pairwise_distances)\n",
    "print(\"\\nShape of pair-wise distances\")\n",
    "print(pairwise_distances.shape)"
   ]
  },
  {
   "cell_type": "code",
   "execution_count": 5,
   "metadata": {},
   "outputs": [
    {
     "name": "stdout",
     "output_type": "stream",
     "text": [
      "Squareform version of pair-wise distances\n",
      "     1      2    3     4     5     6     7     8     9\n",
      "1 [ 0.    0.63  1.08  0.94  1.84  0.41  2.06  1.39  1.8 ]\n",
      "2 [ 0.63  0.    1.55  1.57  1.21  1.04  1.44  0.78  1.5 ]\n",
      "3 [ 1.08  1.55  0.    1.1   2.6   0.86  2.73  2.1   1.86]\n",
      "4 [ 0.94  1.57  1.1   0.    2.77  0.57  3.    2.33  2.61]\n",
      "5 [ 1.84  1.21  2.6   2.77  0.    2.25  0.32  0.5   1.49]\n",
      "6 [ 0.41  1.04  0.86  0.57  2.25  0.    2.46  1.79  2.06]\n",
      "7 [ 2.06  1.44  2.73  3.    0.32  2.46  0.    0.67  1.39]\n",
      "8 [ 1.39  0.78  2.1   2.33  0.5   1.79  0.67  0.    1.17]\n",
      "9 [ 1.8   1.5   1.86  2.61  1.49  2.06  1.39  1.17  0.  ]\n",
      "\n",
      "Shape of squareform version\n",
      "(9, 9)\n"
     ]
    }
   ],
   "source": [
    "pairwise_distances_squareform = squareform(pairwise_distances).round(2)\n",
    "print(\"Squareform version of pair-wise distances\")\n",
    "print(\"     1      2    3     4     5     6     7     8     9\")\n",
    "for i, row in enumerate(pairwise_distances_squareform):\n",
    "    print(\"{0} {1}\".format(i+1,row))\n",
    "print(\"\\nShape of squareform version\")\n",
    "print(pairwise_distances_squareform.shape)"
   ]
  },
  {
   "cell_type": "markdown",
   "metadata": {
    "collapsed": true
   },
   "source": [
    "## Hierarchical Clustering Example"
   ]
  },
  {
   "cell_type": "markdown",
   "metadata": {},
   "source": [
    "#### Functions to load and process the Churn Data"
   ]
  },
  {
   "cell_type": "code",
   "execution_count": 6,
   "metadata": {
    "collapsed": true
   },
   "outputs": [],
   "source": [
    "def recode(row_val):\n",
    "    '''change categoricals from (0,1) to (-1.0, 1.0)'''\n",
    "    return -1.0 if row_val == 0 else 1.0\n",
    "        \n",
    "def load_data(filename, standardize_cols):\n",
    "    df = pd.read_csv(filename)\n",
    "\n",
    "    # Binarize categoricals\n",
    "    cols_categorical = [\"Int'l Plan\", \"VMail Plan\", \"Churn?\"]\n",
    "    for col in cols_categorical:\n",
    "        df[col] = (df[col] == 'yes').astype(int)\n",
    "    \n",
    "    # Drop some columns (arbitrary)\n",
    "    del df['State']\n",
    "    del df['Area Code']\n",
    "    del df['Phone']\n",
    "    del df['CustServ Calls']\n",
    "    del df['Intl Mins']\n",
    "    del df['VMail Message']\n",
    "\n",
    "    # Standardize columns\n",
    "    if standardize_cols:\n",
    "        for col in df.columns.tolist():\n",
    "            if col in cols_categorical:\n",
    "                df[col] = df[col].apply(recode)\n",
    "            else:\n",
    "                df[col] = ((df[col] - df[col].mean())/df[col].std()).round(2)\n",
    "            \n",
    "    arr = df.values\n",
    "    return arr, df.columns, df"
   ]
  },
  {
   "cell_type": "markdown",
   "metadata": {},
   "source": [
    "## View data frame depending on standardization"
   ]
  },
  {
   "cell_type": "code",
   "execution_count": 7,
   "metadata": {},
   "outputs": [
    {
     "data": {
      "text/html": [
       "<div>\n",
       "<style>\n",
       "    .dataframe thead tr:only-child th {\n",
       "        text-align: right;\n",
       "    }\n",
       "\n",
       "    .dataframe thead th {\n",
       "        text-align: left;\n",
       "    }\n",
       "\n",
       "    .dataframe tbody tr th {\n",
       "        vertical-align: top;\n",
       "    }\n",
       "</style>\n",
       "<table border=\"1\" class=\"dataframe\">\n",
       "  <thead>\n",
       "    <tr style=\"text-align: right;\">\n",
       "      <th></th>\n",
       "      <th>Account Length</th>\n",
       "      <th>Int'l Plan</th>\n",
       "      <th>VMail Plan</th>\n",
       "      <th>Day Mins</th>\n",
       "      <th>Day Calls</th>\n",
       "      <th>Day Charge</th>\n",
       "      <th>Eve Mins</th>\n",
       "      <th>Eve Calls</th>\n",
       "      <th>Eve Charge</th>\n",
       "      <th>Night Mins</th>\n",
       "      <th>Night Calls</th>\n",
       "      <th>Night Charge</th>\n",
       "      <th>Intl Calls</th>\n",
       "      <th>Intl Charge</th>\n",
       "      <th>Churn?</th>\n",
       "    </tr>\n",
       "  </thead>\n",
       "  <tbody>\n",
       "    <tr>\n",
       "      <th>0</th>\n",
       "      <td>0.68</td>\n",
       "      <td>-1.0</td>\n",
       "      <td>1.0</td>\n",
       "      <td>1.57</td>\n",
       "      <td>0.48</td>\n",
       "      <td>1.57</td>\n",
       "      <td>-0.07</td>\n",
       "      <td>-0.06</td>\n",
       "      <td>-0.07</td>\n",
       "      <td>0.87</td>\n",
       "      <td>-0.47</td>\n",
       "      <td>0.87</td>\n",
       "      <td>-0.60</td>\n",
       "      <td>-0.09</td>\n",
       "      <td>-1.0</td>\n",
       "    </tr>\n",
       "    <tr>\n",
       "      <th>1</th>\n",
       "      <td>0.15</td>\n",
       "      <td>-1.0</td>\n",
       "      <td>1.0</td>\n",
       "      <td>-0.33</td>\n",
       "      <td>1.12</td>\n",
       "      <td>-0.33</td>\n",
       "      <td>-0.11</td>\n",
       "      <td>0.14</td>\n",
       "      <td>-0.11</td>\n",
       "      <td>1.06</td>\n",
       "      <td>0.15</td>\n",
       "      <td>1.06</td>\n",
       "      <td>-0.60</td>\n",
       "      <td>1.24</td>\n",
       "      <td>-1.0</td>\n",
       "    </tr>\n",
       "    <tr>\n",
       "      <th>2</th>\n",
       "      <td>0.90</td>\n",
       "      <td>-1.0</td>\n",
       "      <td>-1.0</td>\n",
       "      <td>1.17</td>\n",
       "      <td>0.68</td>\n",
       "      <td>1.17</td>\n",
       "      <td>-1.57</td>\n",
       "      <td>0.50</td>\n",
       "      <td>-1.57</td>\n",
       "      <td>-0.76</td>\n",
       "      <td>0.20</td>\n",
       "      <td>-0.76</td>\n",
       "      <td>0.21</td>\n",
       "      <td>0.70</td>\n",
       "      <td>-1.0</td>\n",
       "    </tr>\n",
       "    <tr>\n",
       "      <th>3</th>\n",
       "      <td>-0.43</td>\n",
       "      <td>1.0</td>\n",
       "      <td>-1.0</td>\n",
       "      <td>2.20</td>\n",
       "      <td>-1.47</td>\n",
       "      <td>2.20</td>\n",
       "      <td>-2.74</td>\n",
       "      <td>-0.61</td>\n",
       "      <td>-2.74</td>\n",
       "      <td>-0.08</td>\n",
       "      <td>-0.57</td>\n",
       "      <td>-0.08</td>\n",
       "      <td>1.02</td>\n",
       "      <td>-1.31</td>\n",
       "      <td>-1.0</td>\n",
       "    </tr>\n",
       "    <tr>\n",
       "      <th>4</th>\n",
       "      <td>-0.65</td>\n",
       "      <td>1.0</td>\n",
       "      <td>-1.0</td>\n",
       "      <td>-0.24</td>\n",
       "      <td>0.63</td>\n",
       "      <td>-0.24</td>\n",
       "      <td>-1.04</td>\n",
       "      <td>1.10</td>\n",
       "      <td>-1.04</td>\n",
       "      <td>-0.28</td>\n",
       "      <td>1.07</td>\n",
       "      <td>-0.28</td>\n",
       "      <td>-0.60</td>\n",
       "      <td>-0.05</td>\n",
       "      <td>-1.0</td>\n",
       "    </tr>\n",
       "  </tbody>\n",
       "</table>\n",
       "</div>"
      ],
      "text/plain": [
       "   Account Length  Int'l Plan  VMail Plan  Day Mins  Day Calls  Day Charge  \\\n",
       "0            0.68        -1.0         1.0      1.57       0.48        1.57   \n",
       "1            0.15        -1.0         1.0     -0.33       1.12       -0.33   \n",
       "2            0.90        -1.0        -1.0      1.17       0.68        1.17   \n",
       "3           -0.43         1.0        -1.0      2.20      -1.47        2.20   \n",
       "4           -0.65         1.0        -1.0     -0.24       0.63       -0.24   \n",
       "\n",
       "   Eve Mins  Eve Calls  Eve Charge  Night Mins  Night Calls  Night Charge  \\\n",
       "0     -0.07      -0.06       -0.07        0.87        -0.47          0.87   \n",
       "1     -0.11       0.14       -0.11        1.06         0.15          1.06   \n",
       "2     -1.57       0.50       -1.57       -0.76         0.20         -0.76   \n",
       "3     -2.74      -0.61       -2.74       -0.08        -0.57         -0.08   \n",
       "4     -1.04       1.10       -1.04       -0.28         1.07         -0.28   \n",
       "\n",
       "   Intl Calls  Intl Charge  Churn?  \n",
       "0       -0.60        -0.09    -1.0  \n",
       "1       -0.60         1.24    -1.0  \n",
       "2        0.21         0.70    -1.0  \n",
       "3        1.02        -1.31    -1.0  \n",
       "4       -0.60        -0.05    -1.0  "
      ]
     },
     "execution_count": 7,
     "metadata": {},
     "output_type": "execute_result"
    }
   ],
   "source": [
    "# Set standardize columns flag\n",
    "standardize_cols = True # Standardize columns (True) or not (False)\n",
    "\n",
    "# Load data\n",
    "arr, cols, df = load_data('data/churn.csv', standardize_cols)\n",
    "df.head(5)"
   ]
  },
  {
   "cell_type": "markdown",
   "metadata": {},
   "source": [
    "## Plot dendrogram"
   ]
  },
  {
   "cell_type": "code",
   "execution_count": 8,
   "metadata": {},
   "outputs": [
    {
     "name": "stderr",
     "output_type": "stream",
     "text": [
      "/Users/elliotcohen/anaconda/lib/python3.6/site-packages/ipykernel_launcher.py:14: ClusterWarning: scipy.cluster: The symmetric non-negative hollow observation matrix looks suspiciously like an uncondensed distance matrix\n",
      "  \n"
     ]
    },
    {
     "data": {
      "image/png": "[encoded data removed]",
      "text/plain": [
       "<matplotlib.figure.Figure at 0x114c28630>"
      ]
     },
     "metadata": {},
     "output_type": "display_data"
    }
   ],
   "source": [
    "# Set distance metric\n",
    "# see scipy.spatial.distance.pdist for options\n",
    "distmetric = 'euclidean' # 'euclidean','cityblock','cosine' are some options\n",
    "\n",
    "# Where would you like the clusters set?  In units of the dissimilarity metric\n",
    "thresh = 120\n",
    "\n",
    "# Find distances using pair-wise distances in the array, according to desired metric\n",
    "dist = squareform(pdist(arr.transpose(), metric = distmetric))\n",
    "\n",
    "# Plot dendrogram\n",
    "fig, axarr = plt.subplots(nrows = 3, ncols = 1, figsize=(20, 20))\n",
    "for ax, linkmethod in zip(axarr.flatten(), ['single', 'complete', 'average']):\n",
    "    clust = linkage(dist, method=linkmethod)\n",
    "    dendrogram(clust, ax=ax, labels=cols, color_threshold = thresh) #color threshold number sets the color change\n",
    "    ax.set_title('{} linkage'.format(linkmethod), fontsize=20)\n",
    "    plt.xticks(fontsize=12)"
   ]
  },
  {
   "cell_type": "code",
   "execution_count": null,
   "metadata": {
    "collapsed": true
   },
   "outputs": [],
   "source": []
  },
  {
   "cell_type": "code",
   "execution_count": null,
   "metadata": {
    "collapsed": true
   },
   "outputs": [],
   "source": []
  },
  {
   "cell_type": "code",
   "execution_count": null,
   "metadata": {
    "collapsed": true
   },
   "outputs": [],
   "source": []
  },
  {
   "cell_type": "code",
   "execution_count": null,
   "metadata": {
    "collapsed": true
   },
   "outputs": [],
   "source": []
  }
 ],
 "metadata": {
  "anaconda-cloud": {},
  "kernelspec": {
   "display_name": "Python 3",
   "language": "python",
   "name": "python3"
  },
  "language_info": {
   "codemirror_mode": {
    "name": "ipython",
    "version": 3
   },
   "file_extension": ".py",
   "mimetype": "text/x-python",
   "name": "python",
   "nbconvert_exporter": "python",
   "pygments_lexer": "ipython3",
   "version": "3.6.2"
  }
 },
 "nbformat": 4,
 "nbformat_minor": 1
}
