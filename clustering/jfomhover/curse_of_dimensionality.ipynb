{
 "cells": [
  {
   "cell_type": "markdown",
   "metadata": {},
   "source": [
    "# Playing with the dimensionality of clusters\n",
    "\n",
    "Thanks to Jack Benedetto for the initial script"
   ]
  },
  {
   "cell_type": "code",
   "execution_count": null,
   "metadata": {
    "collapsed": true
   },
   "outputs": [],
   "source": [
    "import numpy as np\n",
    "import scipy.stats as scs\n",
    "import matplotlib.pyplot as plt\n",
    "%matplotlib inline"
   ]
  },
  {
   "cell_type": "code",
   "execution_count": null,
   "metadata": {
    "collapsed": true
   },
   "outputs": [],
   "source": [
    "def histpair(x, y, bins=None, xmin=None, xmax=None, normed=1, alpha=0.2, figsize=(12,8), title=None, binsize=None):\n",
    "    '''\n",
    "    INPUT:\n",
    "    x: numpy array; point of a distribution\n",
    "    y: numpy array of the same length; will plot histogram for each unique value of y\n",
    "    bins: int; number of bins in histogram\n",
    "    xmin: lower limit; other \n",
    "    '''\n",
    "    plt.figure(figsize=figsize)\n",
    "    plt.title(title)\n",
    "    if xmin is None and xmax is None:\n",
    "        xc = x\n",
    "    else:\n",
    "        xc = np.clip(x,a_min=xmin,a_max=xmax)\n",
    "        \n",
    "    if binsize == None:\n",
    "        if bins == None:\n",
    "            bins = 20.\n",
    "        # maybe there should be logic around trying to make these integers\n",
    "        # I might need a +1 here\n",
    "        binarray = np.arange(xc.min(), xc.max(), (xc.max() - xc.min())/bins)\n",
    "    else:\n",
    "        binarray = np.arange(xc.min(), xc.max(), binsize)\n",
    "        \n",
    "    for yval in np.unique(y):\n",
    "            plt.hist(list(xc[y==yval]), alpha=alpha, bins=binarray, normed=normed, label=str(yval))\n",
    "    plt.xlim(xmin=xmin, xmax=xmax)\n",
    "    plt.legend()\n",
    "    #plt.show()"
   ]
  },
  {
   "cell_type": "markdown",
   "metadata": {},
   "source": [
    "### Generate 2 (perfect) clusters in 2 dimensions"
   ]
  },
  {
   "cell_type": "code",
   "execution_count": null,
   "metadata": {
    "collapsed": false
   },
   "outputs": [],
   "source": [
    "# the number of samples generated for each cluster (2 clusters)\n",
    "samplecount = 500\n",
    "\n",
    "# the distance between clusters centroids\n",
    "separation = 5.\n",
    "\n",
    "# the scale of both cluster (var)\n",
    "clusterscale = 1\n",
    "\n",
    "\n",
    "#allocate a numpy array, 2 columns, samplecount*2 rows\n",
    "X = np.zeros((2, 2*samplecount))\n",
    "\n",
    "# use normal distribution for generating the two columns\n",
    "# on axis 0, create two separated clusters based on clusterscale and separation\n",
    "X[0,:] = np.concatenate((scs.norm(-separation/2., clusterscale).rvs(samplecount),\\\n",
    "                         (scs.norm(separation/2., clusterscale).rvs(samplecount))))\n",
    "\n",
    "# on axis 1, create normal distribution based on clusterscale\n",
    "X[1, :] = scs.norm(0, clusterscale).rvs(2*samplecount)\n",
    "\n",
    "# assign cluster colors\n",
    "clustercolors = [\"r\"] * samplecount + [\"b\"] * samplecount \n",
    "\n",
    "# scatter plot that\n",
    "plt.figure(figsize=(10,6))\n",
    "plt.axis('equal')\n",
    "plt.scatter(X[0, :], X[1, :], c=clustercolors, alpha=0.3)\n",
    "plt.show()"
   ]
  },
  {
   "cell_type": "markdown",
   "metadata": {},
   "source": [
    "### Generate 2 clusters on 1D and add noise in remaining dimensions"
   ]
  },
  {
   "cell_type": "code",
   "execution_count": null,
   "metadata": {
    "collapsed": false
   },
   "outputs": [],
   "source": [
    "# the number of samples generated for each cluster (2 clusters)\n",
    "samplecount = 500\n",
    "\n",
    "# the distance between clusters centroids\n",
    "separation = 5.\n",
    "\n",
    "# the scale of both cluster (var)\n",
    "clusterscale = 1\n",
    "\n",
    "# do that as long as possible...\n",
    "for dims in [1, 2, 3, 5, 10, 20, 30, 50, 100]:\n",
    "    # allocate a numpy array, 2 columns, samplecount*2 rows\n",
    "    X = np.zeros((dims, 2*samplecount))\n",
    "\n",
    "    # on axis 0, create two separated clusters based on clusterscale and separation\n",
    "    X[0,:] = np.concatenate((scs.norm(-separation/2., clusterscale).rvs(samplecount),\\\n",
    "                         (scs.norm(separation/2., clusterscale).rvs(samplecount))))\n",
    "\n",
    "    # fill the rest of the columns with 0 centered normal values\n",
    "    for d in range(1, dims):\n",
    "        X[d, :] = scs.norm(0, clusterscale).rvs(2*samplecount)\n",
    "\n",
    "    # assign cluster labels\n",
    "    clusterlabels = [\"cluster 1\"] * samplecount + [\"cluster 2\"] * samplecount \n",
    "    \n",
    "    # compute pair distances\n",
    "    y = []      # to hold identity of clusters\n",
    "    dist = []   # to hold distances\n",
    "    for i in range(2*samplecount):\n",
    "        for j in range(i+1, 2*samplecount):\n",
    "            # compute distance between each pair of rows\n",
    "            d = np.sqrt(sum((X[:,i] - X[:, j])**2))\n",
    "            dist.append(d)\n",
    "            # label each distance as 'same' or 'other' depending on cluster identity\n",
    "            y.append(\"same\" if i // samplecount == j // samplecount else \"other\")\n",
    "    \n",
    "    # plot the histogram\n",
    "    histpair(np.array(dist), np.array(y), binsize=0.25, figsize=(12,3),\n",
    "                   xmin=0, xmax=20, title=\"{0} dimensions\".format(dims))\n",
    "    #plt.axes(frameon=False)\n",
    "\n",
    "    plt.show()"
   ]
  },
  {
   "cell_type": "markdown",
   "metadata": {
    "collapsed": true
   },
   "source": [
    "### Generate two clusters with clear separations also in the remaining dimensions"
   ]
  },
  {
   "cell_type": "code",
   "execution_count": null,
   "metadata": {
    "collapsed": false
   },
   "outputs": [],
   "source": [
    "# the number of samples generated for each cluster (2 clusters)\n",
    "samplecount = 500\n",
    "\n",
    "# the distance between clusters centroids\n",
    "separation = 5.\n",
    "\n",
    "# the scale of both cluster (var)\n",
    "clusterscale = 1\n",
    "\n",
    "# do that as long as possible...\n",
    "for dims in [1, 2, 3, 5, 10, 20, 30, 50, 100]:\n",
    "    # allocate a numpy array, 2 columns, samplecount*2 rows\n",
    "    X = np.zeros((dims, 2*samplecount))\n",
    "\n",
    "    # on axis d, create two separated clusters based on clusterscale and separation\n",
    "\n",
    "    # fill the rest of the columns with normal values (like axis 1)\n",
    "    for d in range(0, dims):\n",
    "        X[d,:] = np.concatenate((scs.norm(-separation/2., clusterscale).rvs(samplecount),\\\n",
    "                         (scs.norm(separation/2., clusterscale).rvs(samplecount))))\n",
    "\n",
    "    # assign cluster labels\n",
    "    clusterlabels = [\"cluster 1\"] * samplecount + [\"cluster 2\"] * samplecount \n",
    "    \n",
    "    # compute pair distances\n",
    "    y = []      # to hold identity of clusters\n",
    "    dist = []   # to hold distances\n",
    "    for i in range(2*samplecount):\n",
    "        for j in range(i+1, 2*samplecount):\n",
    "            # compute distance between each pair of rows\n",
    "            d = np.sqrt(sum((X[:,i] - X[:, j])**2))\n",
    "            dist.append(d)\n",
    "            # label each distance as 'same' or 'other' depending on cluster identity\n",
    "            y.append(\"same\" if i // samplecount == j // samplecount else \"other\")\n",
    "    \n",
    "    # plot the histogram\n",
    "    histpair(np.array(dist), np.array(y), binsize=0.25, figsize=(12,3),\n",
    "                   xmin=0, xmax=20, title=\"{0} dimensions\".format(dims))\n",
    "    #plt.axes(frameon=False)\n",
    "\n",
    "    plt.show()"
   ]
  },
  {
   "cell_type": "markdown",
   "metadata": {},
   "source": [
    "### Now make the separation less and less clear along dimensions\n",
    "\n",
    "Each new dimensions contributed to the separation with a decreasing factor (exponential)"
   ]
  },
  {
   "cell_type": "code",
   "execution_count": null,
   "metadata": {
    "collapsed": false
   },
   "outputs": [],
   "source": [
    "factor = 0.8\n",
    "plt.plot([factor**d for d in xrange(0,100)])\n",
    "plt.show()"
   ]
  },
  {
   "cell_type": "code",
   "execution_count": null,
   "metadata": {
    "collapsed": false
   },
   "outputs": [],
   "source": [
    "# the number of samples generated for each cluster (2 clusters)\n",
    "samplecount = 500\n",
    "\n",
    "# the distance between clusters centroids\n",
    "separation = 5.\n",
    "\n",
    "# the scale of both cluster (var)\n",
    "clusterscale = 1\n",
    "\n",
    "# lambda factor\n",
    "factor = 0.8\n",
    "\n",
    "# do that as long as possible...\n",
    "for dims in [1, 2, 3, 5, 10, 20, 30, 50, 100]:\n",
    "    # allocate a numpy array, 2 columns, samplecount*2 rows\n",
    "    X = np.zeros((dims, 2*samplecount))\n",
    "\n",
    "    # on axis d, create two separated clusters based on clusterscale and separation\n",
    "\n",
    "    # fill the rest of the columns with normal values (like axis 1)\n",
    "    for d in range(0, dims):\n",
    "        X[d,:] = np.concatenate((scs.norm( (-separation/2.)*(factor**d), clusterscale).rvs(samplecount),\\\n",
    "                         (scs.norm( (separation/2.)*(factor**d), clusterscale).rvs(samplecount))))\n",
    "\n",
    "    # assign cluster labels\n",
    "    clusterlabels = [\"cluster 1\"] * samplecount + [\"cluster 2\"] * samplecount \n",
    "    \n",
    "    # compute pair distances\n",
    "    y = []      # to hold identity of clusters\n",
    "    dist = []   # to hold distances\n",
    "    for i in range(2*samplecount):\n",
    "        for j in range(i+1, 2*samplecount):\n",
    "            # compute distance between each pair of rows\n",
    "            d = np.sqrt(sum((X[:,i] - X[:, j])**2))\n",
    "            dist.append(d)\n",
    "            # label each distance as 'same' or 'other' depending on cluster identity\n",
    "            y.append(\"same\" if i // samplecount == j // samplecount else \"other\")\n",
    "    \n",
    "    # plot the histogram\n",
    "    histpair(np.array(dist), np.array(y), binsize=0.25, figsize=(12,3),\n",
    "                   xmin=0, xmax=20, title=\"{0} dimensions\".format(dims))\n",
    "    #plt.axes(frameon=False)\n",
    "\n",
    "    plt.show()"
   ]
  },
  {
   "cell_type": "code",
   "execution_count": null,
   "metadata": {
    "collapsed": true
   },
   "outputs": [],
   "source": []
  }
 ],
 "metadata": {
  "anaconda-cloud": {},
  "kernelspec": {
   "display_name": "Python [py27]",
   "language": "python",
   "name": "Python [py27]"
  },
  "language_info": {
   "codemirror_mode": {
    "name": "ipython",
    "version": 2
   },
   "file_extension": ".py",
   "mimetype": "text/x-python",
   "name": "python",
   "nbconvert_exporter": "python",
   "pygments_lexer": "ipython2",
   "version": "2.7.12"
  }
 },
 "nbformat": 4,
 "nbformat_minor": 0
}
