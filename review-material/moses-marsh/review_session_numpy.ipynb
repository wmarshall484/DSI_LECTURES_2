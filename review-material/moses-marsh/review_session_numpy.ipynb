{
 "cells": [
  {
   "cell_type": "markdown",
   "metadata": {},
   "source": [
    "# Python tips to HELP YOU"
   ]
  },
  {
   "cell_type": "code",
   "execution_count": 1,
   "metadata": {
    "collapsed": true
   },
   "outputs": [],
   "source": [
    "import numpy as np"
   ]
  },
  {
   "cell_type": "code",
   "execution_count": 3,
   "metadata": {},
   "outputs": [
    {
     "name": "stdout",
     "output_type": "stream",
     "text": [
      "[ 1  1 26 26 27 17 12 23  2  6 23 21 24 23 16 27  9  5  2  5]\n",
      "\n",
      "(20,)\n"
     ]
    }
   ],
   "source": [
    "foo = np.random.randint(30, size=(20))\n",
    "print foo\n",
    "print\n",
    "print foo.shape"
   ]
  },
  {
   "cell_type": "markdown",
   "metadata": {},
   "source": [
    "### Boolean indexing"
   ]
  },
  {
   "cell_type": "markdown",
   "metadata": {},
   "source": [
    "how about indexing a NUMPY ARRAY with a NUMPY ARRAY OF BOOLEANS"
   ]
  },
  {
   "cell_type": "code",
   "execution_count": 4,
   "metadata": {},
   "outputs": [
    {
     "data": {
      "text/plain": [
       "array([ 1,  1, 26, 26, 27, 17, 12, 23,  2,  6, 23, 21, 24, 23, 16, 27,  9,\n",
       "        5,  2,  5])"
      ]
     },
     "execution_count": 4,
     "metadata": {},
     "output_type": "execute_result"
    }
   ],
   "source": [
    "foo"
   ]
  },
  {
   "cell_type": "code",
   "execution_count": 5,
   "metadata": {},
   "outputs": [
    {
     "data": {
      "text/plain": [
       "array([False, False,  True,  True,  True,  True, False,  True, False,\n",
       "       False,  True,  True,  True,  True,  True,  True, False, False,\n",
       "       False, False], dtype=bool)"
      ]
     },
     "execution_count": 5,
     "metadata": {},
     "output_type": "execute_result"
    }
   ],
   "source": [
    "foo > 15"
   ]
  },
  {
   "cell_type": "code",
   "execution_count": 6,
   "metadata": {
    "collapsed": true
   },
   "outputs": [],
   "source": [
    "bool_mask = foo > 15"
   ]
  },
  {
   "cell_type": "markdown",
   "metadata": {},
   "source": [
    "Get the values from `foo` that are greater than 15"
   ]
  },
  {
   "cell_type": "code",
   "execution_count": 7,
   "metadata": {},
   "outputs": [
    {
     "data": {
      "text/plain": [
       "array([26, 26, 27, 17, 23, 23, 21, 24, 23, 16, 27])"
      ]
     },
     "execution_count": 7,
     "metadata": {},
     "output_type": "execute_result"
    }
   ],
   "source": [
    "foo[ bool_mask ]"
   ]
  },
  {
   "cell_type": "markdown",
   "metadata": {},
   "source": [
    "You can use this mask on any ol' array of the same size"
   ]
  },
  {
   "cell_type": "code",
   "execution_count": 8,
   "metadata": {},
   "outputs": [
    {
     "name": "stdout",
     "output_type": "stream",
     "text": [
      "['burt' 'burt' 'burt' 'hat' 'trebuchet' 'trebuchet' 'burt' 'hat' 'burt'\n",
      " 'trebuchet' 'hat' 'whale' 'whale' 'trebuchet' 'hat' 'hat' 'hat' 'hat'\n",
      " 'hat' 'burt']\n",
      "(20,)\n"
     ]
    }
   ],
   "source": [
    "labels = np.random.choice(['hat', 'whale', 'trebuchet', 'burt'], size=len(foo))\n",
    "print labels\n",
    "print labels.shape"
   ]
  },
  {
   "cell_type": "code",
   "execution_count": 9,
   "metadata": {},
   "outputs": [
    {
     "data": {
      "text/plain": [
       "array(['burt', 'hat', 'trebuchet', 'trebuchet', 'hat', 'hat', 'whale',\n",
       "       'whale', 'trebuchet', 'hat', 'hat'], \n",
       "      dtype='|S9')"
      ]
     },
     "execution_count": 9,
     "metadata": {},
     "output_type": "execute_result"
    }
   ],
   "source": [
    "labels[ bool_mask ]"
   ]
  },
  {
   "cell_type": "code",
   "execution_count": null,
   "metadata": {
    "collapsed": true
   },
   "outputs": [],
   "source": []
  },
  {
   "cell_type": "markdown",
   "metadata": {},
   "source": [
    "### 2D arrays"
   ]
  },
  {
   "cell_type": "markdown",
   "metadata": {},
   "source": [
    "Syntax: `[row_slice, column_slice]`"
   ]
  },
  {
   "cell_type": "code",
   "execution_count": 10,
   "metadata": {
    "scrolled": true
   },
   "outputs": [
    {
     "name": "stdout",
     "output_type": "stream",
     "text": [
      "[[30 46 45 38 80 89]\n",
      " [94 34 35 60 89 32]\n",
      " [55 31  1 20 43  0]\n",
      " [ 8 26 22 62 45 53]\n",
      " [ 4 46 54 20 35 31]\n",
      " [23 85 73 38 76 88]\n",
      " [20 90 90 95  2 25]\n",
      " [51 28 43 27 18 39]]\n",
      "Shape: (8, 6)\n"
     ]
    }
   ],
   "source": [
    "bar = np.random.randint(100, size=(8, 6))\n",
    "print bar\n",
    "print 'Shape:', bar.shape"
   ]
  },
  {
   "cell_type": "code",
   "execution_count": 15,
   "metadata": {},
   "outputs": [
    {
     "data": {
      "text/plain": [
       "array([55, 31,  1, 20, 43,  0])"
      ]
     },
     "execution_count": 15,
     "metadata": {},
     "output_type": "execute_result"
    }
   ],
   "source": [
    "bar[2]"
   ]
  },
  {
   "cell_type": "code",
   "execution_count": 16,
   "metadata": {},
   "outputs": [
    {
     "data": {
      "text/plain": [
       "45"
      ]
     },
     "execution_count": 16,
     "metadata": {},
     "output_type": "execute_result"
    }
   ],
   "source": [
    "bar[3,4]"
   ]
  },
  {
   "cell_type": "code",
   "execution_count": 17,
   "metadata": {},
   "outputs": [
    {
     "data": {
      "text/plain": [
       "array([[55, 31,  1, 20],\n",
       "       [ 8, 26, 22, 62],\n",
       "       [ 4, 46, 54, 20]])"
      ]
     },
     "execution_count": 17,
     "metadata": {},
     "output_type": "execute_result"
    }
   ],
   "source": [
    "bar[2:5,:-2]"
   ]
  },
  {
   "cell_type": "code",
   "execution_count": 18,
   "metadata": {},
   "outputs": [
    {
     "data": {
      "text/plain": [
       "array([[51, 28, 43, 27, 18, 39],\n",
       "       [20, 90, 90, 95,  2, 25],\n",
       "       [23, 85, 73, 38, 76, 88],\n",
       "       [ 4, 46, 54, 20, 35, 31],\n",
       "       [ 8, 26, 22, 62, 45, 53]])"
      ]
     },
     "execution_count": 18,
     "metadata": {},
     "output_type": "execute_result"
    }
   ],
   "source": [
    "bar[-1:2:-1]"
   ]
  },
  {
   "cell_type": "code",
   "execution_count": null,
   "metadata": {
    "collapsed": true
   },
   "outputs": [],
   "source": []
  },
  {
   "cell_type": "code",
   "execution_count": 19,
   "metadata": {},
   "outputs": [
    {
     "data": {
      "text/plain": [
       "array([55,  1, 43])"
      ]
     },
     "execution_count": 19,
     "metadata": {},
     "output_type": "execute_result"
    }
   ],
   "source": [
    "bar[2,::2]"
   ]
  },
  {
   "cell_type": "code",
   "execution_count": 20,
   "metadata": {},
   "outputs": [
    {
     "data": {
      "text/plain": [
       "array([51, 28, 43, 27, 18, 39])"
      ]
     },
     "execution_count": 20,
     "metadata": {},
     "output_type": "execute_result"
    }
   ],
   "source": [
    "bar[-1]"
   ]
  },
  {
   "cell_type": "code",
   "execution_count": 21,
   "metadata": {},
   "outputs": [
    {
     "data": {
      "text/plain": [
       "array([[51, 28, 43, 27, 18, 39],\n",
       "       [20, 90, 90, 95,  2, 25],\n",
       "       [23, 85, 73, 38, 76, 88],\n",
       "       [ 4, 46, 54, 20, 35, 31],\n",
       "       [ 8, 26, 22, 62, 45, 53]])"
      ]
     },
     "execution_count": 21,
     "metadata": {},
     "output_type": "execute_result"
    }
   ],
   "source": [
    "bar[-1:2:-1]"
   ]
  },
  {
   "cell_type": "code",
   "execution_count": null,
   "metadata": {
    "collapsed": true
   },
   "outputs": [],
   "source": []
  },
  {
   "cell_type": "markdown",
   "metadata": {},
   "source": [
    "### Boolean masks with 2D arrays"
   ]
  },
  {
   "cell_type": "code",
   "execution_count": 22,
   "metadata": {},
   "outputs": [
    {
     "data": {
      "text/plain": [
       "array([[30, 46, 45, 38, 80, 89],\n",
       "       [94, 34, 35, 60, 89, 32],\n",
       "       [55, 31,  1, 20, 43,  0],\n",
       "       [ 8, 26, 22, 62, 45, 53],\n",
       "       [ 4, 46, 54, 20, 35, 31],\n",
       "       [23, 85, 73, 38, 76, 88],\n",
       "       [20, 90, 90, 95,  2, 25],\n",
       "       [51, 28, 43, 27, 18, 39]])"
      ]
     },
     "execution_count": 22,
     "metadata": {},
     "output_type": "execute_result"
    }
   ],
   "source": [
    "bar"
   ]
  },
  {
   "cell_type": "code",
   "execution_count": 26,
   "metadata": {
    "scrolled": true
   },
   "outputs": [
    {
     "data": {
      "text/plain": [
       "array([[ True,  True,  True,  True,  True,  True],\n",
       "       [ True,  True,  True,  True,  True,  True],\n",
       "       [ True,  True, False, False,  True, False],\n",
       "       [False,  True,  True,  True,  True,  True],\n",
       "       [False,  True,  True, False,  True,  True],\n",
       "       [ True,  True,  True,  True,  True,  True],\n",
       "       [False,  True,  True,  True, False,  True],\n",
       "       [ True,  True,  True,  True, False,  True]], dtype=bool)"
      ]
     },
     "execution_count": 26,
     "metadata": {},
     "output_type": "execute_result"
    }
   ],
   "source": [
    "bar > 20"
   ]
  },
  {
   "cell_type": "code",
   "execution_count": 31,
   "metadata": {},
   "outputs": [
    {
     "data": {
      "text/plain": [
       "0.8125"
      ]
     },
     "execution_count": 31,
     "metadata": {},
     "output_type": "execute_result"
    }
   ],
   "source": [
    "(bar > 20).mean()"
   ]
  },
  {
   "cell_type": "code",
   "execution_count": 32,
   "metadata": {},
   "outputs": [
    {
     "data": {
      "text/plain": [
       "array([ 0.625,  1.   ,  0.875,  0.75 ,  0.75 ,  0.875])"
      ]
     },
     "execution_count": 32,
     "metadata": {},
     "output_type": "execute_result"
    }
   ],
   "source": [
    "(bar > 20).mean(axis=0)"
   ]
  },
  {
   "cell_type": "code",
   "execution_count": 33,
   "metadata": {},
   "outputs": [
    {
     "data": {
      "text/plain": [
       "array([ 1.        ,  1.        ,  0.5       ,  0.83333333,  0.66666667,\n",
       "        1.        ,  0.66666667,  0.83333333])"
      ]
     },
     "execution_count": 33,
     "metadata": {},
     "output_type": "execute_result"
    }
   ],
   "source": [
    "(bar > 20).mean(axis=1)"
   ]
  },
  {
   "cell_type": "code",
   "execution_count": 24,
   "metadata": {},
   "outputs": [
    {
     "data": {
      "text/plain": [
       "array([30, 46, 45, 38, 80, 89, 94, 34, 35, 60, 89, 32, 55, 31, 43, 26, 22,\n",
       "       62, 45, 53, 46, 54, 35, 31, 23, 85, 73, 38, 76, 88, 90, 90, 95, 25,\n",
       "       51, 28, 43, 27, 39])"
      ]
     },
     "execution_count": 24,
     "metadata": {},
     "output_type": "execute_result"
    }
   ],
   "source": [
    "bar[ bar > 20 ]"
   ]
  },
  {
   "cell_type": "markdown",
   "metadata": {},
   "source": [
    "Hm, that's just an array of the values greater than 20. What if I want the ROWS where the FOURTH COLUMN is greater than 40?"
   ]
  },
  {
   "cell_type": "code",
   "execution_count": 25,
   "metadata": {},
   "outputs": [
    {
     "data": {
      "text/plain": [
       "array([False,  True, False,  True, False, False,  True, False], dtype=bool)"
      ]
     },
     "execution_count": 25,
     "metadata": {},
     "output_type": "execute_result"
    }
   ],
   "source": [
    "bar[:, 3] > 40"
   ]
  },
  {
   "cell_type": "code",
   "execution_count": 35,
   "metadata": {},
   "outputs": [
    {
     "data": {
      "text/plain": [
       "array([[30, 46, 45, 38, 80, 89],\n",
       "       [94, 34, 35, 60, 89, 32],\n",
       "       [55, 31,  1, 20, 43,  0],\n",
       "       [ 8, 26, 22, 62, 45, 53],\n",
       "       [ 4, 46, 54, 20, 35, 31],\n",
       "       [23, 85, 73, 38, 76, 88],\n",
       "       [20, 90, 90, 95,  2, 25],\n",
       "       [51, 28, 43, 27, 18, 39]])"
      ]
     },
     "execution_count": 35,
     "metadata": {},
     "output_type": "execute_result"
    }
   ],
   "source": [
    "bar"
   ]
  },
  {
   "cell_type": "code",
   "execution_count": 34,
   "metadata": {
    "scrolled": true
   },
   "outputs": [
    {
     "data": {
      "text/plain": [
       "array([[94, 34, 35, 60, 89, 32],\n",
       "       [ 8, 26, 22, 62, 45, 53],\n",
       "       [20, 90, 90, 95,  2, 25]])"
      ]
     },
     "execution_count": 34,
     "metadata": {},
     "output_type": "execute_result"
    }
   ],
   "source": [
    "bar[bar[:, 3] > 40]"
   ]
  },
  {
   "cell_type": "code",
   "execution_count": 40,
   "metadata": {},
   "outputs": [
    {
     "data": {
      "text/plain": [
       "array([False, False, False,  True,  True,  True], dtype=bool)"
      ]
     },
     "execution_count": 40,
     "metadata": {},
     "output_type": "execute_result"
    }
   ],
   "source": [
    "mask3 = bar[3, :] > 40\n",
    "mask3"
   ]
  },
  {
   "cell_type": "code",
   "execution_count": 42,
   "metadata": {},
   "outputs": [
    {
     "data": {
      "text/plain": [
       "array([[38, 80, 89],\n",
       "       [60, 89, 32],\n",
       "       [20, 43,  0],\n",
       "       [62, 45, 53],\n",
       "       [20, 35, 31],\n",
       "       [38, 76, 88],\n",
       "       [95,  2, 25],\n",
       "       [27, 18, 39]])"
      ]
     },
     "execution_count": 42,
     "metadata": {},
     "output_type": "execute_result"
    }
   ],
   "source": [
    "bar[:,mask3]"
   ]
  },
  {
   "cell_type": "code",
   "execution_count": null,
   "metadata": {
    "collapsed": true
   },
   "outputs": [],
   "source": []
  },
  {
   "cell_type": "markdown",
   "metadata": {
    "collapsed": true
   },
   "source": [
    "How about the rows that contain at least one value greater than 70?"
   ]
  },
  {
   "cell_type": "code",
   "execution_count": 45,
   "metadata": {},
   "outputs": [
    {
     "data": {
      "text/plain": [
       "array([[False, False, False, False,  True,  True],\n",
       "       [ True, False, False, False,  True, False],\n",
       "       [False, False, False, False, False, False],\n",
       "       [False, False, False, False, False, False],\n",
       "       [False, False, False, False, False, False],\n",
       "       [False,  True,  True, False,  True,  True],\n",
       "       [False,  True,  True,  True, False, False],\n",
       "       [False, False, False, False, False, False]], dtype=bool)"
      ]
     },
     "execution_count": 45,
     "metadata": {},
     "output_type": "execute_result"
    }
   ],
   "source": [
    "mask1 = (bar > 70)\n",
    "mask1"
   ]
  },
  {
   "cell_type": "code",
   "execution_count": 46,
   "metadata": {
    "collapsed": true
   },
   "outputs": [],
   "source": [
    "mask1.any?"
   ]
  },
  {
   "cell_type": "code",
   "execution_count": 47,
   "metadata": {
    "collapsed": true
   },
   "outputs": [],
   "source": [
    "np.any?"
   ]
  },
  {
   "cell_type": "code",
   "execution_count": 48,
   "metadata": {},
   "outputs": [
    {
     "data": {
      "text/plain": [
       "array([ True,  True,  True,  True,  True,  True], dtype=bool)"
      ]
     },
     "execution_count": 48,
     "metadata": {},
     "output_type": "execute_result"
    }
   ],
   "source": [
    "mask1.any(axis=0)"
   ]
  },
  {
   "cell_type": "code",
   "execution_count": 49,
   "metadata": {},
   "outputs": [
    {
     "data": {
      "text/plain": [
       "array([ True,  True, False, False, False,  True,  True, False], dtype=bool)"
      ]
     },
     "execution_count": 49,
     "metadata": {},
     "output_type": "execute_result"
    }
   ],
   "source": [
    "mask1.any(axis=1)"
   ]
  },
  {
   "cell_type": "code",
   "execution_count": 50,
   "metadata": {},
   "outputs": [
    {
     "data": {
      "text/plain": [
       "array([[30, 46, 45, 38, 80, 89],\n",
       "       [94, 34, 35, 60, 89, 32],\n",
       "       [23, 85, 73, 38, 76, 88],\n",
       "       [20, 90, 90, 95,  2, 25]])"
      ]
     },
     "execution_count": 50,
     "metadata": {},
     "output_type": "execute_result"
    }
   ],
   "source": [
    "bar[mask1.any(axis=1)]"
   ]
  },
  {
   "cell_type": "code",
   "execution_count": 51,
   "metadata": {
    "collapsed": true
   },
   "outputs": [],
   "source": [
    "mask1.all?"
   ]
  },
  {
   "cell_type": "code",
   "execution_count": null,
   "metadata": {
    "collapsed": true
   },
   "outputs": [],
   "source": []
  },
  {
   "cell_type": "markdown",
   "metadata": {},
   "source": [
    "### Indexing an array with a list"
   ]
  },
  {
   "cell_type": "code",
   "execution_count": 52,
   "metadata": {},
   "outputs": [
    {
     "data": {
      "text/plain": [
       "array([ 1,  1, 26, 26, 27, 17, 12, 23,  2,  6, 23, 21, 24, 23, 16, 27,  9,\n",
       "        5,  2,  5])"
      ]
     },
     "execution_count": 52,
     "metadata": {},
     "output_type": "execute_result"
    }
   ],
   "source": [
    "foo"
   ]
  },
  {
   "cell_type": "code",
   "execution_count": 53,
   "metadata": {},
   "outputs": [],
   "source": [
    "list_mask1 = [1, 6, 4, 2]"
   ]
  },
  {
   "cell_type": "code",
   "execution_count": 54,
   "metadata": {},
   "outputs": [
    {
     "data": {
      "text/plain": [
       "array([ 1, 12, 27, 26])"
      ]
     },
     "execution_count": 54,
     "metadata": {},
     "output_type": "execute_result"
    }
   ],
   "source": [
    "foo[list_mask1]"
   ]
  },
  {
   "cell_type": "code",
   "execution_count": 55,
   "metadata": {
    "collapsed": true
   },
   "outputs": [],
   "source": [
    "list_mask2 = [4, 4, 4, 4]"
   ]
  },
  {
   "cell_type": "code",
   "execution_count": 56,
   "metadata": {},
   "outputs": [
    {
     "data": {
      "text/plain": [
       "array([27, 27, 27, 27])"
      ]
     },
     "execution_count": 56,
     "metadata": {},
     "output_type": "execute_result"
    }
   ],
   "source": [
    "foo[list_mask2]"
   ]
  },
  {
   "cell_type": "code",
   "execution_count": 57,
   "metadata": {},
   "outputs": [
    {
     "data": {
      "text/plain": [
       "array([[94, 34, 35, 60, 89, 32],\n",
       "       [20, 90, 90, 95,  2, 25],\n",
       "       [ 4, 46, 54, 20, 35, 31],\n",
       "       [55, 31,  1, 20, 43,  0]])"
      ]
     },
     "execution_count": 57,
     "metadata": {},
     "output_type": "execute_result"
    }
   ],
   "source": [
    "bar[list_mask1]"
   ]
  },
  {
   "cell_type": "code",
   "execution_count": 61,
   "metadata": {},
   "outputs": [
    {
     "data": {
      "text/plain": [
       "array([[ 4, 46, 54, 20, 35, 31],\n",
       "       [ 4, 46, 54, 20, 35, 31],\n",
       "       [ 4, 46, 54, 20, 35, 31],\n",
       "       [ 4, 46, 54, 20, 35, 31]])"
      ]
     },
     "execution_count": 61,
     "metadata": {},
     "output_type": "execute_result"
    }
   ],
   "source": [
    "bar[list_mask2]"
   ]
  },
  {
   "cell_type": "code",
   "execution_count": 59,
   "metadata": {},
   "outputs": [
    {
     "data": {
      "text/plain": [
       "array([[80, 80, 80, 80],\n",
       "       [89, 89, 89, 89],\n",
       "       [43, 43, 43, 43],\n",
       "       [45, 45, 45, 45],\n",
       "       [35, 35, 35, 35],\n",
       "       [76, 76, 76, 76],\n",
       "       [ 2,  2,  2,  2],\n",
       "       [18, 18, 18, 18]])"
      ]
     },
     "execution_count": 59,
     "metadata": {},
     "output_type": "execute_result"
    }
   ],
   "source": [
    "bar[:,list_mask2]"
   ]
  },
  {
   "cell_type": "code",
   "execution_count": null,
   "metadata": {
    "collapsed": true
   },
   "outputs": [],
   "source": []
  },
  {
   "cell_type": "code",
   "execution_count": null,
   "metadata": {
    "collapsed": true
   },
   "outputs": [],
   "source": []
  },
  {
   "cell_type": "markdown",
   "metadata": {},
   "source": [
    "### Smushing arrays together"
   ]
  },
  {
   "cell_type": "code",
   "execution_count": 62,
   "metadata": {},
   "outputs": [],
   "source": [
    "x1 = np.random.randint(1240,8754,size=(20,1))\n",
    "x2 = np.random.random(size=(20,1))"
   ]
  },
  {
   "cell_type": "code",
   "execution_count": 63,
   "metadata": {},
   "outputs": [
    {
     "data": {
      "text/plain": [
       "array([[4591],\n",
       "       [1947],\n",
       "       [8539],\n",
       "       [4079],\n",
       "       [6556],\n",
       "       [7433],\n",
       "       [6656],\n",
       "       [3880],\n",
       "       [5357],\n",
       "       [2642],\n",
       "       [4133],\n",
       "       [5853],\n",
       "       [6604],\n",
       "       [5355],\n",
       "       [1692],\n",
       "       [2606],\n",
       "       [8209],\n",
       "       [8226],\n",
       "       [5213],\n",
       "       [4923]])"
      ]
     },
     "execution_count": 63,
     "metadata": {},
     "output_type": "execute_result"
    }
   ],
   "source": [
    "x1"
   ]
  },
  {
   "cell_type": "code",
   "execution_count": 64,
   "metadata": {},
   "outputs": [
    {
     "data": {
      "text/plain": [
       "array([[ 0.32339631],\n",
       "       [ 0.21005285],\n",
       "       [ 0.7821036 ],\n",
       "       [ 0.97322313],\n",
       "       [ 0.96936292],\n",
       "       [ 0.21505212],\n",
       "       [ 0.53885209],\n",
       "       [ 0.05462653],\n",
       "       [ 0.7294111 ],\n",
       "       [ 0.71657968],\n",
       "       [ 0.03677606],\n",
       "       [ 0.76252598],\n",
       "       [ 0.41105787],\n",
       "       [ 0.17671987],\n",
       "       [ 0.77004686],\n",
       "       [ 0.93933239],\n",
       "       [ 0.237368  ],\n",
       "       [ 0.97582596],\n",
       "       [ 0.71436051],\n",
       "       [ 0.81225915]])"
      ]
     },
     "execution_count": 64,
     "metadata": {},
     "output_type": "execute_result"
    }
   ],
   "source": [
    "x2"
   ]
  },
  {
   "cell_type": "code",
   "execution_count": 69,
   "metadata": {},
   "outputs": [
    {
     "data": {
      "text/plain": [
       "array([[  4.59100000e+03,   3.23396310e-01],\n",
       "       [  1.94700000e+03,   2.10052847e-01],\n",
       "       [  8.53900000e+03,   7.82103597e-01],\n",
       "       [  4.07900000e+03,   9.73223126e-01],\n",
       "       [  6.55600000e+03,   9.69362916e-01],\n",
       "       [  7.43300000e+03,   2.15052120e-01],\n",
       "       [  6.65600000e+03,   5.38852091e-01],\n",
       "       [  3.88000000e+03,   5.46265326e-02],\n",
       "       [  5.35700000e+03,   7.29411097e-01],\n",
       "       [  2.64200000e+03,   7.16579681e-01],\n",
       "       [  4.13300000e+03,   3.67760635e-02],\n",
       "       [  5.85300000e+03,   7.62525984e-01],\n",
       "       [  6.60400000e+03,   4.11057866e-01],\n",
       "       [  5.35500000e+03,   1.76719872e-01],\n",
       "       [  1.69200000e+03,   7.70046857e-01],\n",
       "       [  2.60600000e+03,   9.39332389e-01],\n",
       "       [  8.20900000e+03,   2.37368005e-01],\n",
       "       [  8.22600000e+03,   9.75825957e-01],\n",
       "       [  5.21300000e+03,   7.14360510e-01],\n",
       "       [  4.92300000e+03,   8.12259147e-01]])"
      ]
     },
     "execution_count": 69,
     "metadata": {},
     "output_type": "execute_result"
    }
   ],
   "source": [
    "np.concatenate((x1, x2), axis=1)"
   ]
  },
  {
   "cell_type": "code",
   "execution_count": null,
   "metadata": {
    "collapsed": true
   },
   "outputs": [],
   "source": []
  },
  {
   "cell_type": "code",
   "execution_count": 70,
   "metadata": {},
   "outputs": [
    {
     "data": {
      "text/plain": [
       "array([[  4.59100000e+03],\n",
       "       [  1.94700000e+03],\n",
       "       [  8.53900000e+03],\n",
       "       [  4.07900000e+03],\n",
       "       [  6.55600000e+03],\n",
       "       [  7.43300000e+03],\n",
       "       [  6.65600000e+03],\n",
       "       [  3.88000000e+03],\n",
       "       [  5.35700000e+03],\n",
       "       [  2.64200000e+03],\n",
       "       [  4.13300000e+03],\n",
       "       [  5.85300000e+03],\n",
       "       [  6.60400000e+03],\n",
       "       [  5.35500000e+03],\n",
       "       [  1.69200000e+03],\n",
       "       [  2.60600000e+03],\n",
       "       [  8.20900000e+03],\n",
       "       [  8.22600000e+03],\n",
       "       [  5.21300000e+03],\n",
       "       [  4.92300000e+03],\n",
       "       [  3.23396310e-01],\n",
       "       [  2.10052847e-01],\n",
       "       [  7.82103597e-01],\n",
       "       [  9.73223126e-01],\n",
       "       [  9.69362916e-01],\n",
       "       [  2.15052120e-01],\n",
       "       [  5.38852091e-01],\n",
       "       [  5.46265326e-02],\n",
       "       [  7.29411097e-01],\n",
       "       [  7.16579681e-01],\n",
       "       [  3.67760635e-02],\n",
       "       [  7.62525984e-01],\n",
       "       [  4.11057866e-01],\n",
       "       [  1.76719872e-01],\n",
       "       [  7.70046857e-01],\n",
       "       [  9.39332389e-01],\n",
       "       [  2.37368005e-01],\n",
       "       [  9.75825957e-01],\n",
       "       [  7.14360510e-01],\n",
       "       [  8.12259147e-01]])"
      ]
     },
     "execution_count": 70,
     "metadata": {},
     "output_type": "execute_result"
    }
   ],
   "source": [
    "np.concatenate((x1, x2), axis=0)"
   ]
  },
  {
   "cell_type": "code",
   "execution_count": 73,
   "metadata": {},
   "outputs": [
    {
     "data": {
      "text/plain": [
       "array([[  4.59100000e+03,   3.23396310e-01],\n",
       "       [  1.94700000e+03,   2.10052847e-01],\n",
       "       [  8.53900000e+03,   7.82103597e-01],\n",
       "       [  4.07900000e+03,   9.73223126e-01],\n",
       "       [  6.55600000e+03,   9.69362916e-01],\n",
       "       [  7.43300000e+03,   2.15052120e-01],\n",
       "       [  6.65600000e+03,   5.38852091e-01],\n",
       "       [  3.88000000e+03,   5.46265326e-02],\n",
       "       [  5.35700000e+03,   7.29411097e-01],\n",
       "       [  2.64200000e+03,   7.16579681e-01],\n",
       "       [  4.13300000e+03,   3.67760635e-02],\n",
       "       [  5.85300000e+03,   7.62525984e-01],\n",
       "       [  6.60400000e+03,   4.11057866e-01],\n",
       "       [  5.35500000e+03,   1.76719872e-01],\n",
       "       [  1.69200000e+03,   7.70046857e-01],\n",
       "       [  2.60600000e+03,   9.39332389e-01],\n",
       "       [  8.20900000e+03,   2.37368005e-01],\n",
       "       [  8.22600000e+03,   9.75825957e-01],\n",
       "       [  5.21300000e+03,   7.14360510e-01],\n",
       "       [  4.92300000e+03,   8.12259147e-01]])"
      ]
     },
     "execution_count": 73,
     "metadata": {},
     "output_type": "execute_result"
    }
   ],
   "source": [
    "np.hstack((x1, x2))\n"
   ]
  },
  {
   "cell_type": "code",
   "execution_count": 74,
   "metadata": {},
   "outputs": [
    {
     "data": {
      "text/plain": [
       "array([[  4.59100000e+03],\n",
       "       [  1.94700000e+03],\n",
       "       [  8.53900000e+03],\n",
       "       [  4.07900000e+03],\n",
       "       [  6.55600000e+03],\n",
       "       [  7.43300000e+03],\n",
       "       [  6.65600000e+03],\n",
       "       [  3.88000000e+03],\n",
       "       [  5.35700000e+03],\n",
       "       [  2.64200000e+03],\n",
       "       [  4.13300000e+03],\n",
       "       [  5.85300000e+03],\n",
       "       [  6.60400000e+03],\n",
       "       [  5.35500000e+03],\n",
       "       [  1.69200000e+03],\n",
       "       [  2.60600000e+03],\n",
       "       [  8.20900000e+03],\n",
       "       [  8.22600000e+03],\n",
       "       [  5.21300000e+03],\n",
       "       [  4.92300000e+03],\n",
       "       [  3.23396310e-01],\n",
       "       [  2.10052847e-01],\n",
       "       [  7.82103597e-01],\n",
       "       [  9.73223126e-01],\n",
       "       [  9.69362916e-01],\n",
       "       [  2.15052120e-01],\n",
       "       [  5.38852091e-01],\n",
       "       [  5.46265326e-02],\n",
       "       [  7.29411097e-01],\n",
       "       [  7.16579681e-01],\n",
       "       [  3.67760635e-02],\n",
       "       [  7.62525984e-01],\n",
       "       [  4.11057866e-01],\n",
       "       [  1.76719872e-01],\n",
       "       [  7.70046857e-01],\n",
       "       [  9.39332389e-01],\n",
       "       [  2.37368005e-01],\n",
       "       [  9.75825957e-01],\n",
       "       [  7.14360510e-01],\n",
       "       [  8.12259147e-01]])"
      ]
     },
     "execution_count": 74,
     "metadata": {},
     "output_type": "execute_result"
    }
   ],
   "source": [
    "np.vstack((x1, x2))"
   ]
  },
  {
   "cell_type": "code",
   "execution_count": null,
   "metadata": {},
   "outputs": [],
   "source": [
    "np.hstack((x1, x2))"
   ]
  },
  {
   "cell_type": "code",
   "execution_count": 76,
   "metadata": {},
   "outputs": [
    {
     "data": {
      "text/plain": [
       "array([ -3, -35, -30, -42, -28, -20, -49, -17, -19, -25, -48,  -6, -15,\n",
       "       -33, -48,  -4, -11,  -3, -26, -16])"
      ]
     },
     "execution_count": 76,
     "metadata": {},
     "output_type": "execute_result"
    }
   ],
   "source": [
    "x3 = np.random.randint(-50, -2, size=20)\n",
    "x3"
   ]
  },
  {
   "cell_type": "code",
   "execution_count": 77,
   "metadata": {
    "scrolled": true
   },
   "outputs": [
    {
     "data": {
      "text/plain": [
       "(20,)"
      ]
     },
     "execution_count": 77,
     "metadata": {},
     "output_type": "execute_result"
    }
   ],
   "source": [
    "x3.shape"
   ]
  },
  {
   "cell_type": "code",
   "execution_count": 78,
   "metadata": {},
   "outputs": [
    {
     "ename": "ValueError",
     "evalue": "all the input arrays must have same number of dimensions",
     "output_type": "error",
     "traceback": [
      "\u001b[0;31m---------------------------------------------------------------------------\u001b[0m",
      "\u001b[0;31mValueError\u001b[0m                                Traceback (most recent call last)",
      "\u001b[0;32m<ipython-input-78-8277f270eaea>\u001b[0m in \u001b[0;36m<module>\u001b[0;34m()\u001b[0m\n\u001b[0;32m----> 1\u001b[0;31m \u001b[0mnp\u001b[0m\u001b[0;34m.\u001b[0m\u001b[0mhstack\u001b[0m\u001b[0;34m(\u001b[0m\u001b[0;34m(\u001b[0m\u001b[0mx1\u001b[0m\u001b[0;34m,\u001b[0m \u001b[0mx2\u001b[0m\u001b[0;34m,\u001b[0m \u001b[0mx3\u001b[0m\u001b[0;34m)\u001b[0m\u001b[0;34m)\u001b[0m\u001b[0;34m\u001b[0m\u001b[0m\n\u001b[0m",
      "\u001b[0;32m/home/moses/anaconda2/lib/python2.7/site-packages/numpy/core/shape_base.pyc\u001b[0m in \u001b[0;36mhstack\u001b[0;34m(tup)\u001b[0m\n\u001b[1;32m    278\u001b[0m         \u001b[0;32mreturn\u001b[0m \u001b[0m_nx\u001b[0m\u001b[0;34m.\u001b[0m\u001b[0mconcatenate\u001b[0m\u001b[0;34m(\u001b[0m\u001b[0marrs\u001b[0m\u001b[0;34m,\u001b[0m \u001b[0;36m0\u001b[0m\u001b[0;34m)\u001b[0m\u001b[0;34m\u001b[0m\u001b[0m\n\u001b[1;32m    279\u001b[0m     \u001b[0;32melse\u001b[0m\u001b[0;34m:\u001b[0m\u001b[0;34m\u001b[0m\u001b[0m\n\u001b[0;32m--> 280\u001b[0;31m         \u001b[0;32mreturn\u001b[0m \u001b[0m_nx\u001b[0m\u001b[0;34m.\u001b[0m\u001b[0mconcatenate\u001b[0m\u001b[0;34m(\u001b[0m\u001b[0marrs\u001b[0m\u001b[0;34m,\u001b[0m \u001b[0;36m1\u001b[0m\u001b[0;34m)\u001b[0m\u001b[0;34m\u001b[0m\u001b[0m\n\u001b[0m\u001b[1;32m    281\u001b[0m \u001b[0;34m\u001b[0m\u001b[0m\n\u001b[1;32m    282\u001b[0m \u001b[0;32mdef\u001b[0m \u001b[0mstack\u001b[0m\u001b[0;34m(\u001b[0m\u001b[0marrays\u001b[0m\u001b[0;34m,\u001b[0m \u001b[0maxis\u001b[0m\u001b[0;34m=\u001b[0m\u001b[0;36m0\u001b[0m\u001b[0;34m)\u001b[0m\u001b[0;34m:\u001b[0m\u001b[0;34m\u001b[0m\u001b[0m\n",
      "\u001b[0;31mValueError\u001b[0m: all the input arrays must have same number of dimensions"
     ]
    }
   ],
   "source": [
    "np.hstack((x1, x2, x3))"
   ]
  },
  {
   "cell_type": "code",
   "execution_count": 89,
   "metadata": {},
   "outputs": [
    {
     "data": {
      "text/plain": [
       "array([[  4.59100000e+03,   3.23396310e-01,  -3.00000000e+00],\n",
       "       [  1.94700000e+03,   2.10052847e-01,  -3.50000000e+01],\n",
       "       [  8.53900000e+03,   7.82103597e-01,  -3.00000000e+01],\n",
       "       [  4.07900000e+03,   9.73223126e-01,  -4.20000000e+01],\n",
       "       [  6.55600000e+03,   9.69362916e-01,  -2.80000000e+01],\n",
       "       [  7.43300000e+03,   2.15052120e-01,  -2.00000000e+01],\n",
       "       [  6.65600000e+03,   5.38852091e-01,  -4.90000000e+01],\n",
       "       [  3.88000000e+03,   5.46265326e-02,  -1.70000000e+01],\n",
       "       [  5.35700000e+03,   7.29411097e-01,  -1.90000000e+01],\n",
       "       [  2.64200000e+03,   7.16579681e-01,  -2.50000000e+01],\n",
       "       [  4.13300000e+03,   3.67760635e-02,  -4.80000000e+01],\n",
       "       [  5.85300000e+03,   7.62525984e-01,  -6.00000000e+00],\n",
       "       [  6.60400000e+03,   4.11057866e-01,  -1.50000000e+01],\n",
       "       [  5.35500000e+03,   1.76719872e-01,  -3.30000000e+01],\n",
       "       [  1.69200000e+03,   7.70046857e-01,  -4.80000000e+01],\n",
       "       [  2.60600000e+03,   9.39332389e-01,  -4.00000000e+00],\n",
       "       [  8.20900000e+03,   2.37368005e-01,  -1.10000000e+01],\n",
       "       [  8.22600000e+03,   9.75825957e-01,  -3.00000000e+00],\n",
       "       [  5.21300000e+03,   7.14360510e-01,  -2.60000000e+01],\n",
       "       [  4.92300000e+03,   8.12259147e-01,  -1.60000000e+01]])"
      ]
     },
     "execution_count": 89,
     "metadata": {},
     "output_type": "execute_result"
    }
   ],
   "source": [
    "np.hstack((x1, x2, x3.reshape(-1,1)))"
   ]
  },
  {
   "cell_type": "code",
   "execution_count": 81,
   "metadata": {},
   "outputs": [
    {
     "data": {
      "text/plain": [
       "array([ -3, -35, -30, -42, -28, -20, -49, -17, -19, -25, -48,  -6, -15,\n",
       "       -33, -48,  -4, -11,  -3, -26, -16])"
      ]
     },
     "execution_count": 81,
     "metadata": {},
     "output_type": "execute_result"
    }
   ],
   "source": [
    "x3"
   ]
  },
  {
   "cell_type": "code",
   "execution_count": 82,
   "metadata": {},
   "outputs": [
    {
     "data": {
      "text/plain": [
       "array([[ -3],\n",
       "       [-35],\n",
       "       [-30],\n",
       "       [-42],\n",
       "       [-28],\n",
       "       [-20],\n",
       "       [-49],\n",
       "       [-17],\n",
       "       [-19],\n",
       "       [-25],\n",
       "       [-48],\n",
       "       [ -6],\n",
       "       [-15],\n",
       "       [-33],\n",
       "       [-48],\n",
       "       [ -4],\n",
       "       [-11],\n",
       "       [ -3],\n",
       "       [-26],\n",
       "       [-16]])"
      ]
     },
     "execution_count": 82,
     "metadata": {},
     "output_type": "execute_result"
    }
   ],
   "source": [
    "x3.reshape(-1,1)"
   ]
  },
  {
   "cell_type": "code",
   "execution_count": 88,
   "metadata": {},
   "outputs": [
    {
     "data": {
      "text/plain": [
       "array([[30],\n",
       "       [46],\n",
       "       [45],\n",
       "       [38],\n",
       "       [80],\n",
       "       [89],\n",
       "       [94],\n",
       "       [34],\n",
       "       [35],\n",
       "       [60],\n",
       "       [89],\n",
       "       [32],\n",
       "       [55],\n",
       "       [31],\n",
       "       [ 1],\n",
       "       [20],\n",
       "       [43],\n",
       "       [ 0],\n",
       "       [ 8],\n",
       "       [26],\n",
       "       [22],\n",
       "       [62],\n",
       "       [45],\n",
       "       [53],\n",
       "       [ 4],\n",
       "       [46],\n",
       "       [54],\n",
       "       [20],\n",
       "       [35],\n",
       "       [31],\n",
       "       [23],\n",
       "       [85],\n",
       "       [73],\n",
       "       [38],\n",
       "       [76],\n",
       "       [88],\n",
       "       [20],\n",
       "       [90],\n",
       "       [90],\n",
       "       [95],\n",
       "       [ 2],\n",
       "       [25],\n",
       "       [51],\n",
       "       [28],\n",
       "       [43],\n",
       "       [27],\n",
       "       [18],\n",
       "       [39]])"
      ]
     },
     "execution_count": 88,
     "metadata": {},
     "output_type": "execute_result"
    }
   ],
   "source": [
    "bar.reshape(-1,1)"
   ]
  },
  {
   "cell_type": "code",
   "execution_count": null,
   "metadata": {
    "collapsed": true
   },
   "outputs": [],
   "source": []
  },
  {
   "cell_type": "code",
   "execution_count": null,
   "metadata": {
    "collapsed": true
   },
   "outputs": [],
   "source": []
  },
  {
   "cell_type": "code",
   "execution_count": null,
   "metadata": {
    "collapsed": true
   },
   "outputs": [],
   "source": []
  },
  {
   "cell_type": "code",
   "execution_count": null,
   "metadata": {
    "collapsed": true
   },
   "outputs": [],
   "source": []
  },
  {
   "cell_type": "code",
   "execution_count": null,
   "metadata": {
    "collapsed": true
   },
   "outputs": [],
   "source": []
  },
  {
   "cell_type": "markdown",
   "metadata": {
    "collapsed": true
   },
   "source": [
    "### True is 1, False is 0"
   ]
  },
  {
   "cell_type": "code",
   "execution_count": 90,
   "metadata": {},
   "outputs": [
    {
     "data": {
      "text/plain": [
       "array([[False, False, False, False,  True,  True],\n",
       "       [ True, False, False,  True,  True, False],\n",
       "       [ True, False, False, False, False, False],\n",
       "       [False, False, False,  True, False,  True],\n",
       "       [False, False,  True, False, False, False],\n",
       "       [False,  True,  True, False,  True,  True],\n",
       "       [False,  True,  True,  True, False, False],\n",
       "       [ True, False, False, False, False, False]], dtype=bool)"
      ]
     },
     "execution_count": 90,
     "metadata": {},
     "output_type": "execute_result"
    }
   ],
   "source": [
    "bar > 50"
   ]
  },
  {
   "cell_type": "code",
   "execution_count": 91,
   "metadata": {},
   "outputs": [
    {
     "data": {
      "text/plain": [
       "numpy.ndarray"
      ]
     },
     "execution_count": 91,
     "metadata": {},
     "output_type": "execute_result"
    }
   ],
   "source": [
    "type(_)"
   ]
  },
  {
   "cell_type": "code",
   "execution_count": 92,
   "metadata": {},
   "outputs": [
    {
     "data": {
      "text/plain": [
       "17"
      ]
     },
     "execution_count": 92,
     "metadata": {},
     "output_type": "execute_result"
    }
   ],
   "source": [
    "(bar > 50).sum()"
   ]
  },
  {
   "cell_type": "code",
   "execution_count": 93,
   "metadata": {},
   "outputs": [
    {
     "data": {
      "text/plain": [
       "0.35416666666666669"
      ]
     },
     "execution_count": 93,
     "metadata": {},
     "output_type": "execute_result"
    }
   ],
   "source": [
    "(bar > 50).mean()"
   ]
  },
  {
   "cell_type": "code",
   "execution_count": null,
   "metadata": {
    "collapsed": true
   },
   "outputs": [],
   "source": []
  },
  {
   "cell_type": "code",
   "execution_count": null,
   "metadata": {
    "collapsed": true
   },
   "outputs": [],
   "source": []
  },
  {
   "cell_type": "markdown",
   "metadata": {},
   "source": [
    "### Oh the booleanity!"
   ]
  },
  {
   "cell_type": "code",
   "execution_count": 94,
   "metadata": {},
   "outputs": [
    {
     "data": {
      "text/plain": [
       "True"
      ]
     },
     "execution_count": 94,
     "metadata": {},
     "output_type": "execute_result"
    }
   ],
   "source": [
    "bool(5)"
   ]
  },
  {
   "cell_type": "code",
   "execution_count": 95,
   "metadata": {},
   "outputs": [
    {
     "data": {
      "text/plain": [
       "False"
      ]
     },
     "execution_count": 95,
     "metadata": {},
     "output_type": "execute_result"
    }
   ],
   "source": [
    "bool(0)"
   ]
  },
  {
   "cell_type": "code",
   "execution_count": 96,
   "metadata": {},
   "outputs": [
    {
     "data": {
      "text/plain": [
       "True"
      ]
     },
     "execution_count": 96,
     "metadata": {},
     "output_type": "execute_result"
    }
   ],
   "source": [
    "bool('banananas')"
   ]
  },
  {
   "cell_type": "code",
   "execution_count": 97,
   "metadata": {},
   "outputs": [
    {
     "data": {
      "text/plain": [
       "False"
      ]
     },
     "execution_count": 97,
     "metadata": {},
     "output_type": "execute_result"
    }
   ],
   "source": [
    "bool('')"
   ]
  },
  {
   "cell_type": "code",
   "execution_count": 98,
   "metadata": {},
   "outputs": [
    {
     "data": {
      "text/plain": [
       "False"
      ]
     },
     "execution_count": 98,
     "metadata": {},
     "output_type": "execute_result"
    }
   ],
   "source": [
    "bool(None)"
   ]
  },
  {
   "cell_type": "code",
   "execution_count": 99,
   "metadata": {},
   "outputs": [
    {
     "data": {
      "text/plain": [
       "True"
      ]
     },
     "execution_count": 99,
     "metadata": {},
     "output_type": "execute_result"
    }
   ],
   "source": [
    "True == bool(6)"
   ]
  },
  {
   "cell_type": "code",
   "execution_count": 100,
   "metadata": {},
   "outputs": [
    {
     "data": {
      "text/plain": [
       "False"
      ]
     },
     "execution_count": 100,
     "metadata": {},
     "output_type": "execute_result"
    }
   ],
   "source": [
    "False == None"
   ]
  },
  {
   "cell_type": "code",
   "execution_count": null,
   "metadata": {
    "collapsed": true
   },
   "outputs": [],
   "source": []
  },
  {
   "cell_type": "code",
   "execution_count": 101,
   "metadata": {},
   "outputs": [
    {
     "data": {
      "text/plain": [
       "True"
      ]
     },
     "execution_count": 101,
     "metadata": {},
     "output_type": "execute_result"
    }
   ],
   "source": [
    "0 == False"
   ]
  },
  {
   "cell_type": "code",
   "execution_count": 102,
   "metadata": {},
   "outputs": [
    {
     "data": {
      "text/plain": [
       "True"
      ]
     },
     "execution_count": 102,
     "metadata": {},
     "output_type": "execute_result"
    }
   ],
   "source": [
    "bool(np.nan)"
   ]
  },
  {
   "cell_type": "code",
   "execution_count": 104,
   "metadata": {},
   "outputs": [
    {
     "data": {
      "text/plain": [
       "False"
      ]
     },
     "execution_count": 104,
     "metadata": {},
     "output_type": "execute_result"
    }
   ],
   "source": [
    "np.nan == True"
   ]
  },
  {
   "cell_type": "code",
   "execution_count": 105,
   "metadata": {},
   "outputs": [
    {
     "data": {
      "text/plain": [
       "False"
      ]
     },
     "execution_count": 105,
     "metadata": {},
     "output_type": "execute_result"
    }
   ],
   "source": [
    "np.nan == np.nan"
   ]
  },
  {
   "cell_type": "code",
   "execution_count": 106,
   "metadata": {},
   "outputs": [
    {
     "data": {
      "text/plain": [
       "True"
      ]
     },
     "execution_count": 106,
     "metadata": {},
     "output_type": "execute_result"
    }
   ],
   "source": [
    "bool(np.inf)"
   ]
  },
  {
   "cell_type": "code",
   "execution_count": 107,
   "metadata": {},
   "outputs": [
    {
     "data": {
      "text/plain": [
       "True"
      ]
     },
     "execution_count": 107,
     "metadata": {},
     "output_type": "execute_result"
    }
   ],
   "source": [
    "np.inf == np.inf"
   ]
  },
  {
   "cell_type": "code",
   "execution_count": 108,
   "metadata": {},
   "outputs": [
    {
     "data": {
      "text/plain": [
       "True"
      ]
     },
     "execution_count": 108,
     "metadata": {},
     "output_type": "execute_result"
    }
   ],
   "source": [
    "bool([3, '', 32])"
   ]
  },
  {
   "cell_type": "code",
   "execution_count": 109,
   "metadata": {},
   "outputs": [
    {
     "data": {
      "text/plain": [
       "False"
      ]
     },
     "execution_count": 109,
     "metadata": {},
     "output_type": "execute_result"
    }
   ],
   "source": [
    "bool([])"
   ]
  },
  {
   "cell_type": "code",
   "execution_count": 110,
   "metadata": {},
   "outputs": [
    {
     "data": {
      "text/plain": [
       "True"
      ]
     },
     "execution_count": 110,
     "metadata": {},
     "output_type": "execute_result"
    }
   ],
   "source": [
    "bool([''])"
   ]
  },
  {
   "cell_type": "code",
   "execution_count": 111,
   "metadata": {},
   "outputs": [
    {
     "data": {
      "text/plain": [
       "True"
      ]
     },
     "execution_count": 111,
     "metadata": {},
     "output_type": "execute_result"
    }
   ],
   "source": [
    "None == None"
   ]
  },
  {
   "cell_type": "code",
   "execution_count": 113,
   "metadata": {},
   "outputs": [
    {
     "data": {
      "text/plain": [
       "numpy.bool_"
      ]
     },
     "execution_count": 113,
     "metadata": {},
     "output_type": "execute_result"
    }
   ],
   "source": [
    "np.bool_"
   ]
  },
  {
   "cell_type": "code",
   "execution_count": null,
   "metadata": {
    "collapsed": true
   },
   "outputs": [],
   "source": []
  }
 ],
 "metadata": {
  "kernelspec": {
   "display_name": "Python 3",
   "language": "python",
   "name": "python3"
  },
  "language_info": {
   "codemirror_mode": {
    "name": "ipython",
    "version": 3
   },
   "file_extension": ".py",
   "mimetype": "text/x-python",
   "name": "python",
   "nbconvert_exporter": "python",
   "pygments_lexer": "ipython3",
   "version": "3.6.1"
  }
 },
 "nbformat": 4,
 "nbformat_minor": 1
}
