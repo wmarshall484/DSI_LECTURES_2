{
 "cells": [
  {
   "cell_type": "markdown",
   "metadata": {},
   "source": [
    "# 00. Study previous assessments"
   ]
  },
  {
   "cell_type": "markdown",
   "metadata": {},
   "source": [
    "# 0. Hey! Remember to use the tests!!!!\n",
    "When you clone the assessment repo and you are in the `final-assessment-files` directory, make sure unittests works by entering `make test` in your terminal."
   ]
  },
  {
   "cell_type": "markdown",
   "metadata": {},
   "source": [
    "# 1. SQL: readychef"
   ]
  },
  {
   "cell_type": "markdown",
   "metadata": {},
   "source": [
    "If you still have the readychef database, you can access it by entering `psql readychef` in your terminal."
   ]
  },
  {
   "cell_type": "markdown",
   "metadata": {},
   "source": [
    "If the above command fails, you'll have to create the database and load it with the following commands.\n",
    "Here, `$` represents the terminal shell and `=#` represents the postgres shell.\n",
    "```\n",
    "$ psql\n",
    "=# CREATE DATABASE readychef;\n",
    "=# \\q\n",
    "$ psql -f path/to/readychef.sql readychef\n",
    "$ psql readychef\n",
    "=# \\d\n",
    "           List of relations\n",
    " Schema |   Name    | Type  |  Owner   \n",
    "--------+-----------+-------+----------\n",
    " public | events    | table | postgres\n",
    " public | meals     | table | postgres\n",
    " public | referrals | table | postgres\n",
    " public | users     | table | postgres\n",
    " public | visits    | table | postgres\n",
    "(5 rows)\n",
    "\n",
    "\n",
    "```"
   ]
  },
  {
   "cell_type": "markdown",
   "metadata": {},
   "source": [
    "```\n",
    "readychef=# SELECT * FROM events LIMIT 10;\n",
    "     dt     | userid | meal_id | event  \n",
    "------------+--------+---------+--------\n",
    " 2013-01-01 |      3 |      18 | bought\n",
    " 2013-01-01 |      7 |       1 | like\n",
    " 2013-01-01 |     10 |      29 | bought\n",
    " 2013-01-01 |     11 |      19 | share\n",
    " 2013-01-01 |     15 |      33 | like\n",
    " 2013-01-01 |     18 |       4 | share\n",
    " 2013-01-01 |     18 |      40 | bought\n",
    " 2013-01-01 |     21 |      10 | share\n",
    " 2013-01-01 |     21 |       4 | like\n",
    " 2013-01-01 |     22 |      23 | bought\n",
    "```"
   ]
  },
  {
   "cell_type": "markdown",
   "metadata": {},
   "source": [
    "\n",
    "```\n",
    "readychef=# SELECT * FROM meals LIMIT 10;\n",
    " meal_id |  type   |     dt     | price \n",
    "---------+---------+------------+-------\n",
    "       1 | french  | 2013-01-01 |    10\n",
    "       2 | chinese | 2013-01-01 |    13\n",
    "       3 | mexican | 2013-01-02 |     9\n",
    "       4 | italian | 2013-01-03 |     9\n",
    "       5 | chinese | 2013-01-03 |    12\n",
    "       6 | italian | 2013-01-03 |     9\n",
    "       7 | italian | 2013-01-03 |    10\n",
    "       8 | french  | 2013-01-03 |    14\n",
    "       9 | italian | 2013-01-03 |    13\n",
    "      10 | french  | 2013-01-03 |     7\n",
    "(10 rows)\n",
    "```"
   ]
  },
  {
   "cell_type": "markdown",
   "metadata": {},
   "source": [
    "# Exercise: write queries to find the following\n",
    "    "
   ]
  },
  {
   "cell_type": "markdown",
   "metadata": {},
   "source": [
    "### i: total meals bought by each user (including users who bought zero meals)\n",
    "### ii: Total money spent by each user\n",
    "### iii: Total visits from each user\n",
    "### iv: Average visits per month from each user\n"
   ]
  },
  {
   "cell_type": "markdown",
   "metadata": {},
   "source": [
    "(try writing them before looking at the answers below)"
   ]
  },
  {
   "cell_type": "raw",
   "metadata": {},
   "source": []
  },
  {
   "cell_type": "raw",
   "metadata": {},
   "source": []
  },
  {
   "cell_type": "raw",
   "metadata": {},
   "source": []
  },
  {
   "cell_type": "raw",
   "metadata": {},
   "source": []
  },
  {
   "cell_type": "raw",
   "metadata": {},
   "source": []
  },
  {
   "cell_type": "raw",
   "metadata": {},
   "source": []
  },
  {
   "cell_type": "raw",
   "metadata": {},
   "source": []
  },
  {
   "cell_type": "raw",
   "metadata": {},
   "source": []
  },
  {
   "cell_type": "raw",
   "metadata": {},
   "source": []
  },
  {
   "cell_type": "raw",
   "metadata": {},
   "source": []
  },
  {
   "cell_type": "raw",
   "metadata": {},
   "source": []
  },
  {
   "cell_type": "markdown",
   "metadata": {},
   "source": [
    "## i: total meals bought by each user (including users who bought zero meals)"
   ]
  },
  {
   "cell_type": "markdown",
   "metadata": {},
   "source": [
    "this query gets total meals for every user\n",
    "but only for users who bought at least 1 meal\n",
    "\n",
    "```sql\n",
    "SELECT userid, COUNT(*) as ct \n",
    "FROM events \n",
    "WHERE event='bought' \n",
    "GROUP BY userid\n",
    "```\n"
   ]
  },
  {
   "cell_type": "markdown",
   "metadata": {},
   "source": [
    " to get the 0-meal users, we LEFT JOIN the \n",
    " user column from \"users\" with the previous\n",
    " table, then use COALESCE to convert the\n",
    " NULL values to 0\n",
    "\n",
    "```sql\n",
    "SELECT u.userid, COALESCE(c.ct,0) AS total_meals_bought FROM users AS u\n",
    "LEFT JOIN (\n",
    "        SELECT userid, COUNT(*) as ct \n",
    "        FROM events \n",
    "        WHERE event='bought' \n",
    "        GROUP BY userid ) as c \n",
    "        ON u.userid = c.userid\n",
    "ORDER BY u.userid\n",
    "LIMIT 20;\n",
    "```\n"
   ]
  },
  {
   "cell_type": "markdown",
   "metadata": {},
   "source": [
    "### ii: Total money spent by each user"
   ]
  },
  {
   "cell_type": "markdown",
   "metadata": {},
   "source": [
    "```sql\n",
    "SELECT u.userid, COALESCE(s.spent,0) AS total_spent FROM users AS u\n",
    "LEFT JOIN (\n",
    "        SELECT userid, SUM(m.price) as spent \n",
    "        FROM events AS e\n",
    "        JOIN meals AS m\n",
    "         ON e.meal_id = m.meal_id\n",
    "        WHERE event='bought' \n",
    "        GROUP BY userid ) as s\n",
    "        ON u.userid = s.userid\n",
    "ORDER BY u.userid\n",
    "LIMIT 20;\n",
    "```"
   ]
  },
  {
   "cell_type": "markdown",
   "metadata": {},
   "source": [
    "### iii: Total visits from each user"
   ]
  },
  {
   "cell_type": "markdown",
   "metadata": {},
   "source": [
    "```sql\n",
    "SELECT u.userid, COALESCE(v.ct,0) AS total_visits FROM users AS u\n",
    "LEFT JOIN (\n",
    "        SELECT userid, COUNT(*) as ct \n",
    "        FROM visits \n",
    "        GROUP BY userid ) as v \n",
    "        ON u.userid = v.userid\n",
    "ORDER BY u.userid\n",
    "LIMIT 20;\n",
    "```"
   ]
  },
  {
   "cell_type": "markdown",
   "metadata": {},
   "source": [
    "### iv: Average visits per month from each user\n",
    "\n",
    "(hint: http://www.sqlines.com/postgresql/how-to/datediff )"
   ]
  },
  {
   "cell_type": "raw",
   "metadata": {},
   "source": []
  },
  {
   "cell_type": "markdown",
   "metadata": {},
   "source": [
    "```sql\n",
    "\n",
    "WITH user_life AS\n",
    "(\n",
    "    SELECT userid,\n",
    "      ((DATE_PART('year', a.max_dt) - DATE_PART('year', a.min_dt)) * 12 +\n",
    "      (DATE_PART('month', a.max_dt) - DATE_PART('month', a.min_dt)) + 1) AS user_months\n",
    "     FROM\n",
    "        (\n",
    "        SELECT userid, MIN(dt) as min_dt, MAX(dt) AS max_dt \n",
    "        FROM visits GROUP BY userid\n",
    "        ) AS a\n",
    "),\n",
    "total AS\n",
    "(\n",
    "    SELECT u.userid, COALESCE(v.ct,0) AS total_visits FROM users AS u\n",
    "    LEFT JOIN (\n",
    "            SELECT userid, COUNT(*) as ct \n",
    "            FROM visits \n",
    "            GROUP BY userid ) as v \n",
    "         ON u.userid = v.userid\n",
    ")\n",
    "SELECT uu.userid, ROUND(tt.total_visits/uu.user_months :: numeric, 2)\n",
    "FROM user_life AS uu\n",
    "JOIN total AS tt\n",
    "ON uu.userid = tt.userid\n",
    "LIMIT 10;\n",
    "```"
   ]
  },
  {
   "cell_type": "raw",
   "metadata": {},
   "source": []
  },
  {
   "cell_type": "markdown",
   "metadata": {},
   "source": [
    "# 2. Web scraping"
   ]
  },
  {
   "cell_type": "code",
   "execution_count": 1,
   "metadata": {
    "collapsed": true
   },
   "outputs": [],
   "source": [
    "import requests\n",
    "from bs4 import BeautifulSoup"
   ]
  },
  {
   "cell_type": "code",
   "execution_count": 2,
   "metadata": {
    "collapsed": true
   },
   "outputs": [],
   "source": [
    "query = 'data scientist'"
   ]
  },
  {
   "cell_type": "code",
   "execution_count": 3,
   "metadata": {
    "collapsed": true
   },
   "outputs": [],
   "source": [
    "url = \"http://www.indeed.com/jobs?q={}\".format(query.replace(' ', '+'))\n",
    "html = requests.get(url).text\n",
    "soup = BeautifulSoup(html, 'html.parser')"
   ]
  },
  {
   "cell_type": "code",
   "execution_count": 4,
   "metadata": {},
   "outputs": [
    {
     "data": {
      "text/plain": [
       "'http://www.indeed.com/jobs?q=data+scientist'"
      ]
     },
     "execution_count": 4,
     "metadata": {},
     "output_type": "execute_result"
    }
   ],
   "source": [
    "url"
   ]
  },
  {
   "cell_type": "markdown",
   "metadata": {},
   "source": [
    "### find the number of results"
   ]
  },
  {
   "cell_type": "markdown",
   "metadata": {},
   "source": [
    "You can search by tag, attribute, or both"
   ]
  },
  {
   "cell_type": "code",
   "execution_count": 5,
   "metadata": {},
   "outputs": [
    {
     "data": {
      "text/plain": [
       "'\\n        Jobs 1 to 10 of 23,550'"
      ]
     },
     "execution_count": 5,
     "metadata": {},
     "output_type": "execute_result"
    }
   ],
   "source": [
    "soup.find('div', id='searchCount').text"
   ]
  },
  {
   "cell_type": "code",
   "execution_count": null,
   "metadata": {
    "collapsed": true
   },
   "outputs": [],
   "source": []
  },
  {
   "cell_type": "code",
   "execution_count": 6,
   "metadata": {},
   "outputs": [
    {
     "data": {
      "text/plain": [
       "<div id=\"searchCount\">\n",
       "        Jobs 1 to 10 of 23,550</div>"
      ]
     },
     "execution_count": 6,
     "metadata": {},
     "output_type": "execute_result"
    }
   ],
   "source": [
    "soup.find('div', id='searchCount')"
   ]
  },
  {
   "cell_type": "code",
   "execution_count": 7,
   "metadata": {},
   "outputs": [
    {
     "data": {
      "text/plain": [
       "<div id=\"searchCount\">\n",
       "        Jobs 1 to 10 of 23,550</div>"
      ]
     },
     "execution_count": 7,
     "metadata": {},
     "output_type": "execute_result"
    }
   ],
   "source": [
    "soup.find(id='searchCount')"
   ]
  },
  {
   "cell_type": "code",
   "execution_count": 8,
   "metadata": {},
   "outputs": [
    {
     "data": {
      "text/plain": [
       "'\\n        Jobs 1 to 10 of 23,550'"
      ]
     },
     "execution_count": 8,
     "metadata": {},
     "output_type": "execute_result"
    }
   ],
   "source": [
    "soup.find(id='searchCount').text"
   ]
  },
  {
   "cell_type": "code",
   "execution_count": 9,
   "metadata": {},
   "outputs": [
    {
     "data": {
      "text/plain": [
       "['Jobs', '1', 'to', '10', 'of', '23,550']"
      ]
     },
     "execution_count": 9,
     "metadata": {},
     "output_type": "execute_result"
    }
   ],
   "source": [
    "soup.find(id='searchCount').text.split()"
   ]
  },
  {
   "cell_type": "code",
   "execution_count": 10,
   "metadata": {},
   "outputs": [
    {
     "data": {
      "text/plain": [
       "'23,550'"
      ]
     },
     "execution_count": 10,
     "metadata": {},
     "output_type": "execute_result"
    }
   ],
   "source": [
    "soup.find(id='searchCount').text.split()[-1]"
   ]
  },
  {
   "cell_type": "code",
   "execution_count": 11,
   "metadata": {
    "collapsed": true
   },
   "outputs": [],
   "source": [
    "import requests\n",
    "from bs4 import BeautifulSoup\n",
    "\n",
    "def number_of_jobs(query):\n",
    "    '''\n",
    "    INPUT: string\n",
    "    OUTPUT: int\n",
    "\n",
    "    Return the number of jobs on the indeed.com for the search query.\n",
    "    '''\n",
    "\n",
    "    url = \"http://www.indeed.com/jobs?q={}\".format(query.replace(' ', '+'))\n",
    "    html = requests.get(url).text\n",
    "    soup = BeautifulSoup(html, 'html.parser')\n",
    "    search_count = soup.find('div', id='searchCount')\n",
    "    return int(search_count.text.split('of ')[-1].replace(',', ''))"
   ]
  },
  {
   "cell_type": "code",
   "execution_count": 12,
   "metadata": {},
   "outputs": [
    {
     "data": {
      "text/plain": [
       "23550"
      ]
     },
     "execution_count": 12,
     "metadata": {},
     "output_type": "execute_result"
    }
   ],
   "source": [
    "number_of_jobs('data scientist')"
   ]
  },
  {
   "cell_type": "code",
   "execution_count": 13,
   "metadata": {},
   "outputs": [
    {
     "data": {
      "text/plain": [
       "[<div class=\"row result\" data-jk=\"18f56cbc9a1cee95\" id=\"pj_18f56cbc9a1cee95\">\n",
       " <!-- Previously this variable was used to indicate job board jobs, we have replaced that with a more accurate source type check -->\n",
       " <a class=\"jobtitle turnstileLink\" data-tn-element=\"jobTitle\" href=\"/pagead/clk?mo=r&amp;ad=-6NYlbfkN0AKvx1StreRZ4gELVY3ypo3Yc-9qYqTvUfWWDCFukc8LAOVmHxGSbg-Ag6ukb0J2CCuffWw7MhJ6VKNPLLyhyY0hAEcDz4Ml4h7KXZMFRlhAZ8K6LVVsCKKy7wjMPVX177fkFACIuRHiVJtCZfSc9EG0w1TeGCXj3PFZ8fPkjeesCIOmZPZ3UJ5pClDsbiOQfe3m5ZkGLdwUedVehTzaj_W0PinLhYvj63HfRm-1lEgQ1lYJJZJs-_otbWkEOzi3LmCW-aeZjwK-zvT_b060uP31Ac14FUACrpaccp5L53ATgZEFumM6I1xbjDL3NVJwZ7T6w21Mlp9RGkP2XJ3fJoNs6da10X6eQJIvvdE9h4KV61mVW60NmDK5an4OhoDSluR07FUHNyfnuGNHDHhBM4WUJDXQ0eJvHQ8oM3IVVT0_A==&amp;p=1&amp;sk=&amp;fvj=0\" id=\"sja1\" onclick=\"setRefineByCookie([]); sjoc('sja1',0); convCtr('SJ')\" onmousedown=\"sjomd('sja1'); clk('sja1');\" rel=\"noopener nofollow\" target=\"_blank\" title=\"Data Scientist - Machine Learning\"><b>Data</b> <b>Scientist</b> - Machine Learning</a>\n",
       " <br/>\n",
       " <div class=\"sjcl\">\n",
       " <span class=\"company\">\n",
       " Payette Group</span>\n",
       " \n",
       "  - <span class=\"location\">San Francisco, CA</span>\n",
       " </div>\n",
       " <div class=\"paddedSummaryExperience\">\n",
       " <table border=\"0\" cellpadding=\"0\" cellspacing=\"0\"><tr><td class=\"snip\">\n",
       " <span class=\"summary\">\n",
       " <b>Data</b> <b>Scientist</b> Machine Learning. Pipeline, machine learning environment, and persistent machine learning models design....</span>\n",
       " </td></tr></table>\n",
       " <div class=\"experience\">\n",
       " <span class=\"experienceHeader\">Desired Experience: </span><span class=\"experienceList\">Machine Learning, R, Big Data, AI, Hadoop, Kafka, Scala, HBase, Java, Spark, Data Warehouse, Docker, Python, Data Science, AWS</span>\n",
       " </div>\n",
       " </div>\n",
       " <div class=\"sjCapt\">\n",
       " <div class=\"result-link-bar-container\">\n",
       " <div class=\"result-link-bar\"><span class=\" sponsoredGray \">Sponsored</span> - <span class=\"tt_set\" id=\"tt_set_10\"><a class=\"sl resultLink save-job-link \" href=\"#\" id=\"sj_18f56cbc9a1cee95\" onclick=\"changeJobState('18f56cbc9a1cee95', 'save', 'linkbar', true, ''); return false;\" title=\"Save this job to my.indeed\">save job</a></span><div class=\"edit_note_content\" id=\"editsaved2_18f56cbc9a1cee95\" style=\"display:none;\"></div><script>if (!window['sj_result_18f56cbc9a1cee95']) {window['sj_result_18f56cbc9a1cee95'] = {};}window['sj_result_18f56cbc9a1cee95']['showSource'] = false; window['sj_result_18f56cbc9a1cee95']['source'] = \"Payette Group\"; window['sj_result_18f56cbc9a1cee95']['loggedIn'] = false; window['sj_result_18f56cbc9a1cee95']['showMyJobsLinks'] = false;window['sj_result_18f56cbc9a1cee95']['undoAction'] = \"unsave\";window['sj_result_18f56cbc9a1cee95']['jobKey'] = \"18f56cbc9a1cee95\"; window['sj_result_18f56cbc9a1cee95']['myIndeedAvailable'] = true; window['sj_result_18f56cbc9a1cee95']['showMoreActionsLink'] = false; window['sj_result_18f56cbc9a1cee95']['resultNumber'] = 10; window['sj_result_18f56cbc9a1cee95']['jobStateChangedToSaved'] = false; window['sj_result_18f56cbc9a1cee95']['searchState'] = \"q=data scientist&amp;\"; window['sj_result_18f56cbc9a1cee95']['basicPermaLink'] = \"http://www.indeed.com\"; window['sj_result_18f56cbc9a1cee95']['saveJobFailed'] = false; window['sj_result_18f56cbc9a1cee95']['removeJobFailed'] = false; window['sj_result_18f56cbc9a1cee95']['requestPending'] = false; window['sj_result_18f56cbc9a1cee95']['notesEnabled'] = false; window['sj_result_18f56cbc9a1cee95']['currentPage'] = \"serp\"; window['sj_result_18f56cbc9a1cee95']['sponsored'] = true;window['sj_result_18f56cbc9a1cee95']['showSponsor'] = true;window['sj_result_18f56cbc9a1cee95']['reportJobButtonEnabled'] = false; window['sj_result_18f56cbc9a1cee95']['showMyJobsHired'] = false; window['sj_result_18f56cbc9a1cee95']['showSaveForSponsored'] = true; window['sj_result_18f56cbc9a1cee95']['showJobAge'] = true;</script></div></div>\n",
       " <div class=\"tab-container\">\n",
       " <div class=\"sign-in-container result-tab\"></div>\n",
       " <div class=\"tellafriend-container result-tab email_job_content\"></div>\n",
       " </div>\n",
       " </div>\n",
       " </div>,\n",
       " <div class=\"row result\" data-jk=\"bc6899e70344df6f\" id=\"pj_bc6899e70344df6f\">\n",
       " <!-- Previously this variable was used to indicate job board jobs, we have replaced that with a more accurate source type check -->\n",
       " <a class=\"jobtitle turnstileLink\" data-tn-element=\"jobTitle\" href=\"/pagead/clk?mo=r&amp;ad=-6NYlbfkN0BpiC4TBH_FEhhULwqmFTi4rAnCm23Xri47txz_9OEYGyukdfQPOGT3JFQxKXfGMrtETjN0-daZcSOYF4qXNzHfG4fwHB5Op4GWByhiMjJps6LEvuTxUdTl93LGjsW41O-aQff_tSNoU0H7dOnVC00Dr52RcvAiA_R20jBpkdAxlMweg31qD9z8pqOGjpM7vDZA6lNkBn3Gdw3bdyqLMaa56lMdz_Nbb1CzdFbCWjAYXHeZychKj2SioBKgN0mbuPLHhSzpfAEX7NlzRSQMdSmWByy5YdRbckx9XyPHqbwvrxvinUfUI8I-HtYb8yZeN5ZvOKe1HLG4r86EzlNbIDGT44FthNCQP3iv60_LZmE6ynLAAt-wtwZoCshh46CumcmlwUabBbRausDdbIGhXavkrSGPeOkLvdnGfKyRkpV89S-RqZFUVvjmChJmdwwLoa0=&amp;p=2&amp;sk=&amp;fvj=1\" id=\"sja2\" onclick=\"setRefineByCookie([]); sjoc('sja2',0); convCtr('SJ')\" onmousedown=\"sjomd('sja2'); clk('sja2');\" rel=\"noopener nofollow\" target=\"_blank\" title=\"Computational Scientist\">Computational <b>Scientist</b></a>\n",
       " <br/>\n",
       " <div class=\"sjcl\">\n",
       " <span class=\"company\">\n",
       " Spectral Sciences, Inc.</span>\n",
       " \n",
       "  - <span class=\"location\">Burlington, MA 01803</span>\n",
       " </div>\n",
       " <div class=\"paddedSummaryExperience\">\n",
       " <table border=\"0\" cellpadding=\"0\" cellspacing=\"0\"><tr><td class=\"snip\">\n",
       " <span class=\"summary\">\n",
       " Familiarity with <b>data</b> science including analysis and reduction techniques, numerical algorithms, control systems, big <b>data</b> and deep learning concepts....</span>\n",
       " </td></tr></table>\n",
       " <div class=\"experience\">\n",
       " <span class=\"experienceHeader\">Desired Experience: </span><span class=\"experienceList\">Big Data, Data Science</span>\n",
       " </div>\n",
       " </div>\n",
       " <div class=\"sjCapt\">\n",
       " <div class=\"iaP\">\n",
       " <span class=\"iaLabel\"> Easily apply</span>\n",
       " </div>\n",
       " <div class=\"result-link-bar-container\">\n",
       " <div class=\"result-link-bar\"><span class=\" sponsoredGray \">Sponsored</span> - <span class=\"tt_set\" id=\"tt_set_11\"><a class=\"sl resultLink save-job-link \" href=\"#\" id=\"sj_bc6899e70344df6f\" onclick=\"changeJobState('bc6899e70344df6f', 'save', 'linkbar', true, ''); return false;\" title=\"Save this job to my.indeed\">save job</a></span><div class=\"edit_note_content\" id=\"editsaved2_bc6899e70344df6f\" style=\"display:none;\"></div><script>if (!window['sj_result_bc6899e70344df6f']) {window['sj_result_bc6899e70344df6f'] = {};}window['sj_result_bc6899e70344df6f']['showSource'] = false; window['sj_result_bc6899e70344df6f']['source'] = \"Indeed\"; window['sj_result_bc6899e70344df6f']['loggedIn'] = false; window['sj_result_bc6899e70344df6f']['showMyJobsLinks'] = false;window['sj_result_bc6899e70344df6f']['undoAction'] = \"unsave\";window['sj_result_bc6899e70344df6f']['jobKey'] = \"bc6899e70344df6f\"; window['sj_result_bc6899e70344df6f']['myIndeedAvailable'] = true; window['sj_result_bc6899e70344df6f']['showMoreActionsLink'] = false; window['sj_result_bc6899e70344df6f']['resultNumber'] = 11; window['sj_result_bc6899e70344df6f']['jobStateChangedToSaved'] = false; window['sj_result_bc6899e70344df6f']['searchState'] = \"q=data scientist&amp;\"; window['sj_result_bc6899e70344df6f']['basicPermaLink'] = \"http://www.indeed.com\"; window['sj_result_bc6899e70344df6f']['saveJobFailed'] = false; window['sj_result_bc6899e70344df6f']['removeJobFailed'] = false; window['sj_result_bc6899e70344df6f']['requestPending'] = false; window['sj_result_bc6899e70344df6f']['notesEnabled'] = false; window['sj_result_bc6899e70344df6f']['currentPage'] = \"serp\"; window['sj_result_bc6899e70344df6f']['sponsored'] = true;window['sj_result_bc6899e70344df6f']['showSponsor'] = true;window['sj_result_bc6899e70344df6f']['reportJobButtonEnabled'] = false; window['sj_result_bc6899e70344df6f']['showMyJobsHired'] = false; window['sj_result_bc6899e70344df6f']['showSaveForSponsored'] = true; window['sj_result_bc6899e70344df6f']['showJobAge'] = true;</script></div></div>\n",
       " <div class=\"tab-container\">\n",
       " <div class=\"sign-in-container result-tab\"></div>\n",
       " <div class=\"tellafriend-container result-tab email_job_content\"></div>\n",
       " </div>\n",
       " </div>\n",
       " </div>,\n",
       " <div class=\"row result\" data-jk=\"d78dd90b7b326736\" id=\"pj_d78dd90b7b326736\">\n",
       " <!-- Previously this variable was used to indicate job board jobs, we have replaced that with a more accurate source type check -->\n",
       " <a class=\"jobtitle turnstileLink\" data-tn-element=\"jobTitle\" href=\"/pagead/clk?mo=r&amp;ad=-6NYlbfkN0CAlkOQ68lM1c9i6UFrT9KS7Op1QrxrLywTI0eT6e8eGcuEXUGW8K70A48jTFIuhMh1xRZu16vXzL2iyjT1MeqkKQrpG9i-hsMGZyuMTSlkI0bhE2Rn-aB_FMuEfHLAa6r9sbsllPeDQmPgv4jSliqgQ6ZIbdo_PUT54XLX8f8G5i8AzzaSAJ7IoAqXolk9rtEEQlLHaunu25_rrWf3nzuaqhPt8jWBEPRGr6QJFJAxwuHGFSH4U_PiTgDrwqjnw5Svk215HYvg6AMunIt9qqXO7VUETc6SSwQYEJkZMNrCUHcNSSKoIH3wGwgvZVC1-FxA73uJLfZ4eL8LPnVzM1VmO8uhO19GPtCWLELzApnGw3Qpi-j7_cZiOTDSeCniAdXTvdoZXaxQHg9VQiKQFCUAg2iidfbbjTYXqg1A6UBysORdaCgaUlcKPi9NEHbb-N0p-KwE9RKCjv5INe3tABNWDwfKX8qunAAIYEK1ssMy0Bv2Yl-Kz_gdzbrWk7xwCwBh8PDrDLiOVk7CMbnfJPDkD6IuJc3tJ8zcMX8B3wZtJuWJK3rAT0iUYLZL2Z5K3uySOkQm-oSrwty5cVcCtDlNHKUK-3jQIf3Ygcpc1cKLGkA-JlTYu5RXMwMS69NHUdH0F6TZ8bI3U1BuClZ1mslg__DVw67tkwz_uK9h9xmQWR_7WrT_Fzof9RMWLTMV3e6RfFEJlL5zyq5Nr2phB12vrcaFyknUfU1DeWTCT2r-6W8O7FUx2fvH6HAO9OLeZNeiEDyFjThlld9oaMvh8i0Pe0fBylo1Cko70lzpLwbzEYi9TgFK5WPACT3jv3tN3Nd0JmjUL3Sd6JvGJgDL-j0r6MEjF6UMzADgf9CFmOA5DWZwfu0FzdDqXzL4i3PjrA6vlwJKGjS0hTPu_m50lfKnVI_Ehg6JENCW9gDo_QC9HzccJTKNsKsIsWpIT_BFyrUQj1kfTcKnpu8DsvxY2colZQtwO3KcrUSrE5csamZBC8a8ruDG7ojQnf1MuV96nrauAtfkNOpcBiAAzdGqMPoWHoxCMCNemMbH-NWZzOunZjTm65ukQocsgwC9U1dJkK099WkOxbviCLITHHHAdUQI4MW2WoblMnW1cG_Kg_c_JA==&amp;p=4&amp;sk=&amp;fvj=0\" id=\"sja4\" onclick=\"setRefineByCookie([]); sjoc('sja4',0); convCtr('SJ')\" onmousedown=\"sjomd('sja4'); clk('sja4');\" rel=\"noopener nofollow\" target=\"_blank\" title=\"Machine Learning Engineer - Entry Level\">Machine Learning Engineer - Entry Level</a>\n",
       " <br/>\n",
       " <div class=\"sjcl\">\n",
       " <span class=\"company\">\n",
       " <a class=\"turnstileLink\" data-tn-element=\"companyName\" href=\"/cmp/Usaa\" onmousedown=\"this.href = appendParamsOnce(this.href, 'from=SERP&amp;campaignid=serp-linkcompanyname&amp;fromjk=d78dd90b7b326736&amp;jcid=3a1edc2d763c4288')\" rel=\"noopener\" target=\"_blank\">\n",
       " USAA</a></span>\n",
       " \n",
       "  - <a class=\"ratingsLabel\" data-tn-element=\"reviewStars\" data-tn-variant=\"cmplinktst2\" href=\"/cmp/Usaa/reviews\" onmousedown=\"this.href = appendParamsOnce(this.href, '?campaignid=cmplinktst2&amp;from=SERP&amp;jt=Machine+Learning+Engineer+-+Entry+Level&amp;fromjk=d78dd90b7b326736&amp;jcid=3a1edc2d763c4288');\" rel=\"noopener\" target=\"_blank\" title=\"Usaa reviews\">\n",
       " <span class=\"ratings\"><span class=\"rating\" style=\"width:51.0px\"><!-- --></span></span>\n",
       " <span class=\"slNoUnderline\">1,035 reviews</span></a>\n",
       "  - <span class=\"location\">San Antonio, TX</span>\n",
       " </div>\n",
       " <div class=\"paddedSummaryExperience\">\n",
       " <table border=\"0\" cellpadding=\"0\" cellspacing=\"0\"><tr><td class=\"snip\">\n",
       " <span class=\"summary\">\n",
       " Exposure to <b>Data</b> Transformation, <b>Data</b> Visualization and Big <b>Data</b> platforms. Up to 2 years of relevant cloud computing or machine learning experience....</span>\n",
       " </td></tr></table>\n",
       " <div class=\"experience\">\n",
       " <span class=\"experienceHeader\">Desired Experience: </span><span class=\"experienceList\">Agile, Machine Learning, Perl, R, Azure, Big Data, Hadoop, Kafka, Java, Spark, Python, AWS</span>\n",
       " </div>\n",
       " </div>\n",
       " <div class=\"sjCapt\">\n",
       " <div class=\"result-link-bar-container\">\n",
       " <div class=\"result-link-bar\"><span class=\" sponsoredGray \">Sponsored</span> - <span class=\"tt_set\" id=\"tt_set_13\"><a class=\"sl resultLink save-job-link \" href=\"#\" id=\"sj_d78dd90b7b326736\" onclick=\"changeJobState('d78dd90b7b326736', 'save', 'linkbar', true, ''); return false;\" title=\"Save this job to my.indeed\">save job</a></span><div class=\"edit_note_content\" id=\"editsaved2_d78dd90b7b326736\" style=\"display:none;\"></div><script>if (!window['sj_result_d78dd90b7b326736']) {window['sj_result_d78dd90b7b326736'] = {};}window['sj_result_d78dd90b7b326736']['showSource'] = false; window['sj_result_d78dd90b7b326736']['source'] = \"USAA\"; window['sj_result_d78dd90b7b326736']['loggedIn'] = false; window['sj_result_d78dd90b7b326736']['showMyJobsLinks'] = false;window['sj_result_d78dd90b7b326736']['undoAction'] = \"unsave\";window['sj_result_d78dd90b7b326736']['jobKey'] = \"d78dd90b7b326736\"; window['sj_result_d78dd90b7b326736']['myIndeedAvailable'] = true; window['sj_result_d78dd90b7b326736']['showMoreActionsLink'] = false; window['sj_result_d78dd90b7b326736']['resultNumber'] = 13; window['sj_result_d78dd90b7b326736']['jobStateChangedToSaved'] = false; window['sj_result_d78dd90b7b326736']['searchState'] = \"q=data scientist&amp;\"; window['sj_result_d78dd90b7b326736']['basicPermaLink'] = \"http://www.indeed.com\"; window['sj_result_d78dd90b7b326736']['saveJobFailed'] = false; window['sj_result_d78dd90b7b326736']['removeJobFailed'] = false; window['sj_result_d78dd90b7b326736']['requestPending'] = false; window['sj_result_d78dd90b7b326736']['notesEnabled'] = false; window['sj_result_d78dd90b7b326736']['currentPage'] = \"serp\"; window['sj_result_d78dd90b7b326736']['sponsored'] = true;window['sj_result_d78dd90b7b326736']['showSponsor'] = true;window['sj_result_d78dd90b7b326736']['reportJobButtonEnabled'] = false; window['sj_result_d78dd90b7b326736']['showMyJobsHired'] = false; window['sj_result_d78dd90b7b326736']['showSaveForSponsored'] = true; window['sj_result_d78dd90b7b326736']['showJobAge'] = true;</script></div></div>\n",
       " <div class=\"tab-container\">\n",
       " <div class=\"sign-in-container result-tab\"></div>\n",
       " <div class=\"tellafriend-container result-tab email_job_content\"></div>\n",
       " </div>\n",
       " </div>\n",
       " </div>]"
      ]
     },
     "execution_count": 13,
     "metadata": {},
     "output_type": "execute_result"
    }
   ],
   "source": [
    "soup.find_all('div', class_='row result')"
   ]
  },
  {
   "cell_type": "markdown",
   "metadata": {},
   "source": [
    "# 3. Distributions"
   ]
  },
  {
   "cell_type": "markdown",
   "metadata": {},
   "source": [
    "http://www.cs.elte.hu/~mesti/valszam/kepletek.pdf"
   ]
  },
  {
   "cell_type": "markdown",
   "metadata": {},
   "source": [
    "### Beta distribution:\n",
    "$B(\\alpha, \\beta) $\n",
    "\n",
    "$\\alpha = 1 + (\\#successes)$\n",
    "\n",
    "$\\beta = 1 + (\\#failures)$\n",
    "\n",
    "http://stats.stackexchange.com/a/47782"
   ]
  },
  {
   "cell_type": "markdown",
   "metadata": {},
   "source": [
    "# 4. Hypothesis testing\n",
    "\n",
    "https://github.com/gschool/DSI_Lectures/blob/master/ab-testing/tammy_lee/lecture.pdf"
   ]
  },
  {
   "cell_type": "code",
   "execution_count": null,
   "metadata": {
    "collapsed": true
   },
   "outputs": [],
   "source": []
  }
 ],
 "metadata": {
  "anaconda-cloud": {},
  "kernelspec": {
   "display_name": "Python 3",
   "language": "python",
   "name": "python3"
  },
  "language_info": {
   "codemirror_mode": {
    "name": "ipython",
    "version": 3
   },
   "file_extension": ".py",
   "mimetype": "text/x-python",
   "name": "python",
   "nbconvert_exporter": "python",
   "pygments_lexer": "ipython3",
   "version": "3.6.1"
  }
 },
 "nbformat": 4,
 "nbformat_minor": 1
}
