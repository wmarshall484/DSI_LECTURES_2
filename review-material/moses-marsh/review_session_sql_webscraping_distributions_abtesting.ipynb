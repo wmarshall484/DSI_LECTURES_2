{
 "cells": [
  {
   "cell_type": "markdown",
   "metadata": {},
   "source": [
    "# 00. Study previous assessments"
   ]
  },
  {
   "cell_type": "markdown",
   "metadata": {},
   "source": [
    "# 0. Hey! Remember to use the tests!!!!\n",
    "When you clone the assessment repo and you are in the `final-assessment-files` directory, make sure unittests works by entering `make test` in your terminal."
   ]
  },
  {
   "cell_type": "markdown",
   "metadata": {},
   "source": [
    "# 1. SQL: readychef"
   ]
  },
  {
   "cell_type": "markdown",
   "metadata": {},
   "source": [
    "If you still have the readychef database, you can access it by entering `psql readychef` in your terminal."
   ]
  },
  {
   "cell_type": "markdown",
   "metadata": {},
   "source": [
    "If the above command fails, you'll have to create the database and load it with the following commands.\n",
    "Here, `$` represents the terminal shell and `=#` represents the postgres shell.\n",
    "```\n",
    "$ psql\n",
    "=# CREATE DATABASE readychef;\n",
    "=# \\q\n",
    "$ psql -f path/to/readychef.sql readychef\n",
    "$ psql readychef\n",
    "=# \\d\n",
    "           List of relations\n",
    " Schema |   Name    | Type  |  Owner   \n",
    "--------+-----------+-------+----------\n",
    " public | events    | table | postgres\n",
    " public | meals     | table | postgres\n",
    " public | referrals | table | postgres\n",
    " public | users     | table | postgres\n",
    " public | visits    | table | postgres\n",
    "(5 rows)\n",
    "\n",
    "\n",
    "```"
   ]
  },
  {
   "cell_type": "markdown",
   "metadata": {},
   "source": [
    "```\n",
    "readychef=# SELECT * FROM events LIMIT 10;\n",
    "     dt     | userid | meal_id | event  \n",
    "------------+--------+---------+--------\n",
    " 2013-01-01 |      3 |      18 | bought\n",
    " 2013-01-01 |      7 |       1 | like\n",
    " 2013-01-01 |     10 |      29 | bought\n",
    " 2013-01-01 |     11 |      19 | share\n",
    " 2013-01-01 |     15 |      33 | like\n",
    " 2013-01-01 |     18 |       4 | share\n",
    " 2013-01-01 |     18 |      40 | bought\n",
    " 2013-01-01 |     21 |      10 | share\n",
    " 2013-01-01 |     21 |       4 | like\n",
    " 2013-01-01 |     22 |      23 | bought\n",
    "```"
   ]
  },
  {
   "cell_type": "markdown",
   "metadata": {},
   "source": [
    "\n",
    "```\n",
    "readychef=# SELECT * FROM meals LIMIT 10;\n",
    " meal_id |  type   |     dt     | price \n",
    "---------+---------+------------+-------\n",
    "       1 | french  | 2013-01-01 |    10\n",
    "       2 | chinese | 2013-01-01 |    13\n",
    "       3 | mexican | 2013-01-02 |     9\n",
    "       4 | italian | 2013-01-03 |     9\n",
    "       5 | chinese | 2013-01-03 |    12\n",
    "       6 | italian | 2013-01-03 |     9\n",
    "       7 | italian | 2013-01-03 |    10\n",
    "       8 | french  | 2013-01-03 |    14\n",
    "       9 | italian | 2013-01-03 |    13\n",
    "      10 | french  | 2013-01-03 |     7\n",
    "(10 rows)\n",
    "```"
   ]
  },
  {
   "cell_type": "markdown",
   "metadata": {},
   "source": [
    "## i: total meals bought by each user (including users who bought zero meals)"
   ]
  },
  {
   "cell_type": "raw",
   "metadata": {},
   "source": [
    "SELECT userid, COUNT(*) FROM events\n",
    "WHERE event = 'bought'\n",
    "GROUP BY userid\n",
    "ORDER BY COUNT(*)\n",
    "LIMIT 10;"
   ]
  },
  {
   "cell_type": "raw",
   "metadata": {},
   "source": [
    "SELECT userid FROM events\n",
    "WHERE event = 'bought'\n",
    "\n"
   ]
  },
  {
   "cell_type": "raw",
   "metadata": {},
   "source": [
    "SELECT users.userid, COUNT(*) FROM users\n",
    "LEFT JOIN events\n",
    "    ON  users.userid = events.userid\n",
    "WHERE event = 'bought'\n",
    "GROUP BY users.userid\n",
    "ORDER BY COUNT(*)\n",
    "LIMIT 10;"
   ]
  },
  {
   "cell_type": "raw",
   "metadata": {},
   "source": []
  },
  {
   "cell_type": "raw",
   "metadata": {},
   "source": []
  },
  {
   "cell_type": "raw",
   "metadata": {},
   "source": []
  },
  {
   "cell_type": "raw",
   "metadata": {},
   "source": []
  },
  {
   "cell_type": "raw",
   "metadata": {},
   "source": []
  },
  {
   "cell_type": "raw",
   "metadata": {},
   "source": []
  },
  {
   "cell_type": "raw",
   "metadata": {},
   "source": []
  },
  {
   "cell_type": "raw",
   "metadata": {},
   "source": [
    "## this query gets total meals for every user\n",
    "## but only for users who bought at least 1 meal\n",
    "\n",
    "SELECT userid, COUNT(*) as ct \n",
    "FROM events \n",
    "WHERE event='bought' \n",
    "GROUP BY userid"
   ]
  },
  {
   "cell_type": "raw",
   "metadata": {},
   "source": [
    "## to get the 0-meal users, we LEFT JOIN the \n",
    "## user column from \"users\" with the previous\n",
    "## table, then use COALESCE to convert the\n",
    "## NULL values to 0\n",
    "\n",
    "SELECT u.userid, COALESCE(c.ct,0) AS total_meals_bought FROM users AS u\n",
    "LEFT JOIN (\n",
    "        SELECT userid, COUNT(*) as ct \n",
    "        FROM events \n",
    "        WHERE event='bought' \n",
    "        GROUP BY userid ) as c \n",
    "        ON u.userid = c.userid\n",
    "ORDER BY u.userid\n",
    "LIMIT 20;\n",
    "\n"
   ]
  },
  {
   "cell_type": "markdown",
   "metadata": {},
   "source": [
    "### ii: Total money spent by each user"
   ]
  },
  {
   "cell_type": "raw",
   "metadata": {},
   "source": []
  },
  {
   "cell_type": "raw",
   "metadata": {},
   "source": []
  },
  {
   "cell_type": "raw",
   "metadata": {},
   "source": []
  },
  {
   "cell_type": "raw",
   "metadata": {},
   "source": []
  },
  {
   "cell_type": "raw",
   "metadata": {},
   "source": []
  },
  {
   "cell_type": "raw",
   "metadata": {},
   "source": []
  },
  {
   "cell_type": "raw",
   "metadata": {},
   "source": []
  },
  {
   "cell_type": "raw",
   "metadata": {},
   "source": []
  },
  {
   "cell_type": "raw",
   "metadata": {},
   "source": [
    "SELECT u.userid, COALESCE(s.spent,0) AS total_spent FROM users AS u\n",
    "LEFT JOIN (\n",
    "        SELECT userid, SUM(m.price) as spent \n",
    "        FROM events AS e\n",
    "        JOIN meals AS m\n",
    "         ON e.meal_id = m.meal_id\n",
    "        WHERE event='bought' \n",
    "        GROUP BY userid ) as s\n",
    "        ON u.userid = s.userid\n",
    "ORDER BY u.userid\n",
    "LIMIT 20;\n"
   ]
  },
  {
   "cell_type": "markdown",
   "metadata": {},
   "source": [
    "### iii: Total visits from each user"
   ]
  },
  {
   "cell_type": "raw",
   "metadata": {},
   "source": []
  },
  {
   "cell_type": "raw",
   "metadata": {},
   "source": []
  },
  {
   "cell_type": "raw",
   "metadata": {},
   "source": []
  },
  {
   "cell_type": "raw",
   "metadata": {},
   "source": []
  },
  {
   "cell_type": "raw",
   "metadata": {},
   "source": []
  },
  {
   "cell_type": "raw",
   "metadata": {},
   "source": []
  },
  {
   "cell_type": "raw",
   "metadata": {},
   "source": []
  },
  {
   "cell_type": "raw",
   "metadata": {},
   "source": [
    "SELECT u.userid, COALESCE(v.ct,0) AS total_visits FROM users AS u\n",
    "LEFT JOIN (\n",
    "        SELECT userid, COUNT(*) as ct \n",
    "        FROM visits \n",
    "        GROUP BY userid ) as v \n",
    "        ON u.userid = v.userid\n",
    "ORDER BY u.userid\n",
    "LIMIT 20;"
   ]
  },
  {
   "cell_type": "markdown",
   "metadata": {},
   "source": [
    "### iv: Average visits per month from each user\n",
    "\n",
    "(hint: http://www.sqlines.com/postgresql/how-to/datediff )"
   ]
  },
  {
   "cell_type": "raw",
   "metadata": {},
   "source": []
  },
  {
   "cell_type": "raw",
   "metadata": {},
   "source": []
  },
  {
   "cell_type": "raw",
   "metadata": {},
   "source": []
  },
  {
   "cell_type": "raw",
   "metadata": {},
   "source": []
  },
  {
   "cell_type": "raw",
   "metadata": {},
   "source": []
  },
  {
   "cell_type": "raw",
   "metadata": {},
   "source": []
  },
  {
   "cell_type": "raw",
   "metadata": {},
   "source": []
  },
  {
   "cell_type": "raw",
   "metadata": {},
   "source": [
    "WITH user_life AS\n",
    "(\n",
    "    SELECT userid,\n",
    "      ((DATE_PART('year', a.max_dt) - DATE_PART('year', a.min_dt)) * 12 +\n",
    "      (DATE_PART('month', a.max_dt) - DATE_PART('month', a.min_dt)) + 1) AS user_months\n",
    "     FROM\n",
    "        (\n",
    "        SELECT userid, MIN(dt) as min_dt, MAX(dt) AS max_dt \n",
    "        FROM visits GROUP BY userid\n",
    "        ) AS a\n",
    "),\n",
    "total AS\n",
    "(\n",
    "    SELECT u.userid, COALESCE(v.ct,0) AS total_visits FROM users AS u\n",
    "    LEFT JOIN (\n",
    "            SELECT userid, COUNT(*) as ct \n",
    "            FROM visits \n",
    "            GROUP BY userid ) as v \n",
    "         ON u.userid = v.userid\n",
    ")\n",
    "SELECT uu.userid, ROUND(tt.total_visits/uu.user_months :: numeric, 2)\n",
    "FROM user_life AS uu\n",
    "JOIN total AS tt\n",
    "ON uu.userid = tt.userid\n",
    "LIMIT 10;"
   ]
  },
  {
   "cell_type": "raw",
   "metadata": {},
   "source": []
  },
  {
   "cell_type": "markdown",
   "metadata": {},
   "source": [
    "# 2. Web scraping"
   ]
  },
  {
   "cell_type": "code",
   "execution_count": 1,
   "metadata": {
    "collapsed": true
   },
   "outputs": [],
   "source": [
    "import requests\n",
    "from bs4 import BeautifulSoup"
   ]
  },
  {
   "cell_type": "code",
   "execution_count": 2,
   "metadata": {
    "collapsed": true
   },
   "outputs": [],
   "source": [
    "query = 'data scientist'"
   ]
  },
  {
   "cell_type": "code",
   "execution_count": 3,
   "metadata": {},
   "outputs": [],
   "source": [
    "url = \"http://www.indeed.com/jobs?q={}\".format(query.replace(' ', '+'))\n",
    "html = requests.get(url).text\n",
    "soup = BeautifulSoup(html, 'html.parser')"
   ]
  },
  {
   "cell_type": "code",
   "execution_count": 4,
   "metadata": {},
   "outputs": [
    {
     "data": {
      "text/plain": [
       "'http://www.indeed.com/jobs?q=data+scientist'"
      ]
     },
     "execution_count": 4,
     "metadata": {},
     "output_type": "execute_result"
    }
   ],
   "source": [
    "url"
   ]
  },
  {
   "cell_type": "markdown",
   "metadata": {},
   "source": [
    "### find the number of results"
   ]
  },
  {
   "cell_type": "markdown",
   "metadata": {},
   "source": [
    "You can search by tag, attribute, or both"
   ]
  },
  {
   "cell_type": "code",
   "execution_count": 11,
   "metadata": {},
   "outputs": [
    {
     "data": {
      "text/plain": [
       "u'Jobs 1 to 10 of 23,804'"
      ]
     },
     "execution_count": 11,
     "metadata": {},
     "output_type": "execute_result"
    }
   ],
   "source": [
    "soup.find('div', id='searchCount').text"
   ]
  },
  {
   "cell_type": "code",
   "execution_count": 9,
   "metadata": {
    "collapsed": true
   },
   "outputs": [],
   "source": []
  },
  {
   "cell_type": "code",
   "execution_count": null,
   "metadata": {},
   "outputs": [],
   "source": [
    "soup.find('div', id='searchCount')"
   ]
  },
  {
   "cell_type": "code",
   "execution_count": null,
   "metadata": {},
   "outputs": [],
   "source": [
    "soup.find(id='searchCount')"
   ]
  },
  {
   "cell_type": "code",
   "execution_count": null,
   "metadata": {},
   "outputs": [],
   "source": [
    "soup.find(id='searchCount').text"
   ]
  },
  {
   "cell_type": "code",
   "execution_count": null,
   "metadata": {},
   "outputs": [],
   "source": [
    "soup.find(id='searchCount').text.split()"
   ]
  },
  {
   "cell_type": "code",
   "execution_count": null,
   "metadata": {},
   "outputs": [],
   "source": [
    "soup.find(id='searchCount').text.split()[-1]"
   ]
  },
  {
   "cell_type": "code",
   "execution_count": 12,
   "metadata": {
    "collapsed": true
   },
   "outputs": [],
   "source": [
    "import requests\n",
    "from bs4 import BeautifulSoup\n",
    "\n",
    "def number_of_jobs(query):\n",
    "    '''\n",
    "    INPUT: string\n",
    "    OUTPUT: int\n",
    "\n",
    "    Return the number of jobs on the indeed.com for the search query.\n",
    "    '''\n",
    "\n",
    "    url = \"http://www.indeed.com/jobs?q={}\".format(query.replace(' ', '+'))\n",
    "    html = requests.get(url).text\n",
    "    soup = BeautifulSoup(html, 'html.parser')\n",
    "    search_count = soup.find('div', id='searchCount')\n",
    "    return int(search_count.text.split('of ')[-1].replace(',', ''))"
   ]
  },
  {
   "cell_type": "code",
   "execution_count": 13,
   "metadata": {},
   "outputs": [
    {
     "data": {
      "text/plain": [
       "23806"
      ]
     },
     "execution_count": 13,
     "metadata": {},
     "output_type": "execute_result"
    }
   ],
   "source": [
    "number_of_jobs('data scientist')"
   ]
  },
  {
   "cell_type": "code",
   "execution_count": 21,
   "metadata": {},
   "outputs": [
    {
     "data": {
      "text/plain": [
       "[<div class=\"row result\" data-jk=\"68ed2d8dff583d81\" id=\"pj_68ed2d8dff583d81\">\\n<!-- Previously this variable was used to indicate job board jobs, we have replaced that with a more accurate source type check -->\\n<a class=\"jobtitle turnstileLink\" data-tn-element=\"jobTitle\" href=\"/pagead/clk?mo=r&amp;ad=-6NYlbfkN0ADmSn8U32Ms8YdOd7fMYl5_kbeGsRbzlAYIi9FKP7BhSVyxH1MZK7N61C2osxnUt7wYlfCzZX3JuubPXPwzNuEGauF9Pt94sSc_0_1d0YMlGnEAjhKHLYlmEHdoW5i34snAnhJ_rR8J_3iXcukJh1JBHwL8ezNL8lhXfjrBpS20lJpg0bUHOuckwmiHAG2USsCbu8fsklwLAIS7bSjtpVGuKkcFmzi2pAe0FSJn41inI6o2-7CDEvip6jbt2JWeza1XvHrnOkDaYwhne54S_pqmCRXa9mgyF5aCK1K34yawmxjsyr2KiHM2v8HV66NICMhNzL-vU-L_QvN_SFH9n2Trt0PH4kXgHJPnPOQ31B72DR5RSHrlS1qLqtUKLXvVkjnUoc8FaiQnCHl1UpKUc5Bj-BoAN6ONl3E8b-nziIq09_IWe_JneBs&amp;p=1&amp;sk=&amp;fvj=1\" id=\"sja1\" onclick=\"setRefineByCookie([]); sjoc('sja1',0); convCtr('SJ', pingUrlsForGA)\" onmousedown=\"sjomd('sja1'); clk('sja1');\" rel=\"nofollow\" target=\"_blank\" title=\"Data Scientist - Deep Learning\"><b>Data</b> <b>Scientist</b> - Deep Learning</a>\\n<br>\\n<div class=\"sjcl\">\\n<span class=\"company\">\\n    Big Cloud</span>\\n\\n - <span class=\"location\">San Francisco, CA</span>\\n</div>\\n<table border=\"0\" cellpadding=\"0\" cellspacing=\"0\"><tr><td class=\"snip\">\\n<span class=\"summary\">The work will be heavily R and D focused in the fields of Computer Vision and Machine Learning. Are you a talented Machine Learning Researcher/Engineer?...</span>\\n</td></tr></table>\\n<div class=\"sjCapt\">\\n<div class=\"iaP\">\\n<span class=\"iaLabel\"> Easily apply</span>\\n</div>\\n<div class=\"result-link-bar-container\">\\n<div class=\"result-link-bar\"><span class=\" jasx_serpsjlabel_poststGray \">Sponsored</span> - <span class=\"tt_set\" id=\"tt_set_10\"><a class=\"sl resultLink save-job-link \" href=\"#\" id=\"sj_68ed2d8dff583d81\" onclick=\"changeJobState('68ed2d8dff583d81', 'save', 'linkbar', true); return false;\" title=\"Save this job to my.indeed\">save job</a></span><div class=\"edit_note_content\" id=\"editsaved2_68ed2d8dff583d81\" style=\"display:none;\"></div><script>window['sj_result_68ed2d8dff583d81'] = {\"showSource\": false, \"source\": \"Indeed\", \"loggedIn\": false, \"showMyJobsLinks\": false,\"undoAction\": \"unsave\",\"jobKey\": \"68ed2d8dff583d81\", \"myIndeedAvailable\": true, \"tellAFriendEnabled\": false, \"showMoreActionsLink\": false, \"resultNumber\": 10, \"jobStateChangedToSaved\": false, \"searchState\": \"q=data scientist&amp;\", \"basicPermaLink\": \"http://www.indeed.com\", \"saveJobFailed\": false, \"removeJobFailed\": false, \"requestPending\": false, \"notesEnabled\": false, \"currentPage\" : \"serp\", \"mjwebtransgroupactive\" : false, \"sponsored\" : true,\"showSponsor\" : true,\"reportJobButtonEnabled\": false, \"showMyJobsHired\": false, \"showSaveForSponsored\": true, \"showJobAge\": true};</script></div></div>\\n<div class=\"tab-container\">\\n<div class=\"sign-in-container result-tab\"></div>\\n<div class=\"tellafriend-container result-tab email_job_content\"></div>\\n</div>\\n</div>\\n</br></div>,\n",
       " <div class=\"row result\" data-jk=\"73cf33117e0e45dd\" id=\"pj_73cf33117e0e45dd\">\\n<!-- Previously this variable was used to indicate job board jobs, we have replaced that with a more accurate source type check -->\\n<a class=\"jobtitle turnstileLink\" data-tn-element=\"jobTitle\" href=\"/pagead/clk?mo=r&amp;ad=-6NYlbfkN0ASqHCEO9GpEUGjkXl8JxXxJB8G4bxm4-V1wqiPq6GTVg0dexUg4LUC1Xvy-Hj3JfvgW6Kn5vqROfEP7DBmdabnwGqVZXSr7gqBOaZltwR5TlPJtKzwqE1-IO0CXhoGzDGP3SoNTUll164LLDkYQmw9by2l1_DH5fv0WCjlMff__wjd0R3FEkV2Y_Gw3svWZJR_7ahXHcZxI6Zz1YsL2D_eNFrfc74rSnBueZwWVyw9_k-1eLx4ZzdSpKSUigqru26X9VM0St9R7OmgnuC7e2UnNwP9HVj6Tf8fS3FMrjpBds991KLI3pj_RRXytl7kw08HpqMcP3AxHRjbcm_G8yyacm0jRlIjQTXWbe8UEOXhBAJ4enH0_FcsSPr5MnG3bzp_qUM7UtRwgR5BLJRA065u&amp;p=2&amp;sk=&amp;fvj=0\" id=\"sja2\" onclick=\"setRefineByCookie([]); sjoc('sja2',0); convCtr('SJ', pingUrlsForGA)\" onmousedown=\"sjomd('sja2'); clk('sja2');\" rel=\"nofollow\" target=\"_blank\" title=\"Data Scientist\"><b>Data</b> <b>Scientist</b></a>\\n<br>\\n<div class=\"sjcl\">\\n<span class=\"company\">\\n<a class=\"turnstileLink\" data-tn-element=\"companyName\" href=\"/cmp/Walmart-Ecommerce\" onmousedown=\"this.href = appendParamsOnce(this.href, 'from=SERP&amp;campaignid=serp-linkcompanyname&amp;fromjk=73cf33117e0e45dd&amp;jcid=8c49e99f20f89e48')\" target=\"_blank\">\\n        Walmart eCommerce</a></span>\\n\\n - <a class=\"ratingsLabel\" data-tn-element=\"reviewStars\" data-tn-variant=\"cmplinktst2\" href=\"/cmp/Walmart-Ecommerce/reviews\" onmousedown=\"this.href = appendParamsOnce(this.href, '?campaignid=cmplinktst2&amp;from=SERP&amp;jt=Data+Scientist&amp;fromjk=73cf33117e0e45dd&amp;jcid=8c49e99f20f89e48');\" target=\"_blank\" title=\"Walmart Ecommerce reviews\">\\n<span class=\"ratings\"><span class=\"rating\" style=\"width:42.0px\"><!-- --></span></span>\\n<span class=\"slNoUnderline\">62 reviews</span></a>\\n - <span class=\"location\">San Bruno, CA 94066</span>\\n</div>\\n<table border=\"0\" cellpadding=\"0\" cellspacing=\"0\"><tr><td class=\"snip\">\\n<span class=\"summary\">Deep knowledge of machine learning, statistics, optimization or related field. <b>Data</b> <b>scientists</b>, front and back-end engineers, product managers, and web and UX...</span>\\n</td></tr></table>\\n<div class=\"sjCapt\">\\n<div class=\"result-link-bar-container\">\\n<div class=\"result-link-bar\"><span class=\" jasx_serpsjlabel_poststGray \">Sponsored</span> - <span class=\"tt_set\" id=\"tt_set_11\"><a class=\"sl resultLink save-job-link \" href=\"#\" id=\"sj_73cf33117e0e45dd\" onclick=\"changeJobState('73cf33117e0e45dd', 'save', 'linkbar', true); return false;\" title=\"Save this job to my.indeed\">save job</a></span><div class=\"edit_note_content\" id=\"editsaved2_73cf33117e0e45dd\" style=\"display:none;\"></div><script>window['sj_result_73cf33117e0e45dd'] = {\"showSource\": false, \"source\": \"Walmart eCommerce\", \"loggedIn\": false, \"showMyJobsLinks\": false,\"undoAction\": \"unsave\",\"jobKey\": \"73cf33117e0e45dd\", \"myIndeedAvailable\": true, \"tellAFriendEnabled\": false, \"showMoreActionsLink\": false, \"resultNumber\": 11, \"jobStateChangedToSaved\": false, \"searchState\": \"q=data scientist&amp;\", \"basicPermaLink\": \"http://www.indeed.com\", \"saveJobFailed\": false, \"removeJobFailed\": false, \"requestPending\": false, \"notesEnabled\": false, \"currentPage\" : \"serp\", \"mjwebtransgroupactive\" : false, \"sponsored\" : true,\"showSponsor\" : true,\"reportJobButtonEnabled\": false, \"showMyJobsHired\": false, \"showSaveForSponsored\": true, \"showJobAge\": true};</script></div></div>\\n<div class=\"tab-container\">\\n<div class=\"sign-in-container result-tab\"></div>\\n<div class=\"tellafriend-container result-tab email_job_content\"></div>\\n</div>\\n</div>\\n</br></div>,\n",
       " <div class=\"row result\" data-jk=\"224dc9bcdde1f855\" id=\"pj_224dc9bcdde1f855\">\\n<!-- Previously this variable was used to indicate job board jobs, we have replaced that with a more accurate source type check -->\\n<a class=\"jobtitle turnstileLink\" data-tn-element=\"jobTitle\" href=\"/pagead/clk?mo=r&amp;ad=-6NYlbfkN0AMJeVuk4ECd5K_1LfpdW7JxefdFJh_RJqhU5XMhpZ8EfxDLCxSSPXlvbgLqJyHbIugTjnmEYgCOd5jth7_ktV3UVUuCCz4cYK12eB6iC9oUw1tNHCDKSc8CabbDy-gZRQ4J_4IhljC2TqDp2nmaHhvzGddPIL_aYkVtPLsyejoDU5geWL8aX0bhKealgnYGmxScLAEMxkONsvVVQLPd3MFZ0qO3rkpP-fBHeW4SaIvEJGzzfz7vQmvaBqR4g9V6_Qx_RZxr9raiNWIhawtKp3tsGDLmPll44gC7OaTHmfCqbMiI3O98U5wRN5HYA-M58H-T-LJsuL2zpTgg3sCXM47S6sKZoO3jpqWVsCydG4vW8yDmrHYNMVsm23kkdC28Aq2qM5nOwBjwCRSPH0vclrwZWfnj-ZrkDs5nIggujHiyridq70P5F1CWxjDtGPXRYTSdq-WplULI4WfK3-fABOkP94PiC_v7V4Rk8D9QYevgmI4hHSC01wlZDSsuJfKfCdVdY3-3b6VHc-iqQ1IwRnIwYAASZ3FspKcRlEsN2GdcVLJ522PuVu2b5Wezk_h7rALmVh5-6amYDSy6UAPYvRiannb2j7Ls-eqoRZpzimcGd4mfLQgCxVR&amp;p=4&amp;sk=&amp;fvj=0\" id=\"sja4\" onclick=\"setRefineByCookie([]); sjoc('sja4',0); convCtr('SJ', pingUrlsForGA)\" onmousedown=\"sjomd('sja4'); clk('sja4');\" rel=\"nofollow\" target=\"_blank\" title=\"Machine Learning Engineer\">Machine Learning Engineer</a>\\n<br>\\n<div class=\"sjcl\">\\n<span class=\"company\">\\n<a class=\"turnstileLink\" data-tn-element=\"companyName\" href=\"/cmp/Ebay-Inc.\" onmousedown=\"this.href = appendParamsOnce(this.href, 'from=SERP&amp;campaignid=serp-linkcompanyname&amp;fromjk=224dc9bcdde1f855&amp;jcid=0da3ed18c20a248d')\" target=\"_blank\">\\n        eBay Inc.</a></span>\\n\\n - <a class=\"ratingsLabel\" data-tn-element=\"reviewStars\" data-tn-variant=\"cmplinktst2\" href=\"/cmp/Ebay-Inc./reviews\" onmousedown=\"this.href = appendParamsOnce(this.href, '?campaignid=cmplinktst2&amp;from=SERP&amp;jt=Machine+Learning+Engineer&amp;fromjk=224dc9bcdde1f855&amp;jcid=0da3ed18c20a248d');\" target=\"_blank\" title=\"Ebay reviews\">\\n<span class=\"ratings\"><span class=\"rating\" style=\"width:51.0px\"><!-- --></span></span>\\n<span class=\"slNoUnderline\">697 reviews</span></a>\\n - <span class=\"location\">San Jose, CA</span>\\n</div>\\n<table border=\"0\" cellpadding=\"0\" cellspacing=\"0\"><tr><td class=\"snip\">\\n<span class=\"summary\">The team works on heterogeneous <b>data</b> sets (behavioral, transaction and crawled <b>data</b>) and focuses on solving applied problems using Natural Language Processing,...</span>\\n</td></tr></table>\\n<div class=\"sjCapt\">\\n<div class=\"result-link-bar-container\">\\n<div class=\"result-link-bar\"><span class=\" jasx_serpsjlabel_poststGray \">Sponsored</span> - <span class=\"tt_set\" id=\"tt_set_13\"><a class=\"sl resultLink save-job-link \" href=\"#\" id=\"sj_224dc9bcdde1f855\" onclick=\"changeJobState('224dc9bcdde1f855', 'save', 'linkbar', true); return false;\" title=\"Save this job to my.indeed\">save job</a></span><div class=\"edit_note_content\" id=\"editsaved2_224dc9bcdde1f855\" style=\"display:none;\"></div><script>window['sj_result_224dc9bcdde1f855'] = {\"showSource\": false, \"source\": \"eBay Inc.\", \"loggedIn\": false, \"showMyJobsLinks\": false,\"undoAction\": \"unsave\",\"jobKey\": \"224dc9bcdde1f855\", \"myIndeedAvailable\": true, \"tellAFriendEnabled\": false, \"showMoreActionsLink\": false, \"resultNumber\": 13, \"jobStateChangedToSaved\": false, \"searchState\": \"q=data scientist&amp;\", \"basicPermaLink\": \"http://www.indeed.com\", \"saveJobFailed\": false, \"removeJobFailed\": false, \"requestPending\": false, \"notesEnabled\": false, \"currentPage\" : \"serp\", \"mjwebtransgroupactive\" : false, \"sponsored\" : true,\"showSponsor\" : true,\"reportJobButtonEnabled\": false, \"showMyJobsHired\": false, \"showSaveForSponsored\": true, \"showJobAge\": true};</script></div></div>\\n<div class=\"tab-container\">\\n<div class=\"sign-in-container result-tab\"></div>\\n<div class=\"tellafriend-container result-tab email_job_content\"></div>\\n</div>\\n</div>\\n</br></div>]"
      ]
     },
     "execution_count": 21,
     "metadata": {},
     "output_type": "execute_result"
    }
   ],
   "source": [
    "soup.find_all('div', class_='row result')"
   ]
  },
  {
   "cell_type": "markdown",
   "metadata": {},
   "source": [
    "# 3. Distributions"
   ]
  },
  {
   "cell_type": "markdown",
   "metadata": {},
   "source": [
    "http://www.cs.elte.hu/~mesti/valszam/kepletek.pdf"
   ]
  },
  {
   "cell_type": "markdown",
   "metadata": {},
   "source": [
    "### Beta distribution:\n",
    "$B(\\alpha, \\beta) $\n",
    "\n",
    "$\\alpha = 1 + (\\#successes)$\n",
    "\n",
    "$\\beta = 1 + (\\#failures)$\n",
    "\n",
    "http://stats.stackexchange.com/a/47782"
   ]
  },
  {
   "cell_type": "markdown",
   "metadata": {},
   "source": [
    "# 4. Hypothesis testing\n",
    "\n",
    "https://github.com/zipfian/DSI_Lectures/blob/master/ab-testing/tammy_lee/lecture.pdf"
   ]
  },
  {
   "cell_type": "code",
   "execution_count": null,
   "metadata": {
    "collapsed": true
   },
   "outputs": [],
   "source": []
  }
 ],
 "metadata": {
  "anaconda-cloud": {},
  "kernelspec": {
   "display_name": "Python 3",
   "language": "python",
   "name": "python3"
  },
  "language_info": {
   "codemirror_mode": {
    "name": "ipython",
    "version": 3
   },
   "file_extension": ".py",
   "mimetype": "text/x-python",
   "name": "python",
   "nbconvert_exporter": "python",
   "pygments_lexer": "ipython3",
   "version": "3.6.1"
  }
 },
 "nbformat": 4,
 "nbformat_minor": 1
}
