{
 "cells": [
  {
   "cell_type": "markdown",
   "metadata": {},
   "source": [
    "# 00. Study previous assessments"
   ]
  },
  {
   "cell_type": "markdown",
   "metadata": {},
   "source": [
    "# 0. Hey! Remember to use the tests!!!!\n",
    "When you clone the assessment repo and you are in the `dsi-final-assessment` directory, make sure unittests works by entering `make test` in your terminal."
   ]
  },
  {
   "cell_type": "markdown",
   "metadata": {},
   "source": [
    "# 1. SQL"
   ]
  },
  {
   "cell_type": "markdown",
   "metadata": {},
   "source": [
    "## 1a. readychef"
   ]
  },
  {
   "cell_type": "markdown",
   "metadata": {},
   "source": [
    "If you still have the readychef database, you can access it by entering `psql readychef` in your terminal."
   ]
  },
  {
   "cell_type": "markdown",
   "metadata": {},
   "source": [
    "If the above command fails, you'll have to create the database and load it with the following commands.\n",
    "Here, `$` represents the terminal shell and `=#` represents the postgres shell.\n",
    "```\n",
    "$ psql\n",
    "=# CREATE DATABASE readychef;\n",
    "=# \\q\n",
    "$ psql readychef < path/to/readychef.sql\n",
    "$ psql readychef\n",
    "=# \\d\n",
    "           List of relations\n",
    " Schema |   Name    | Type  |  Owner   \n",
    "--------+-----------+-------+----------\n",
    " public | events    | table | postgres\n",
    " public | meals     | table | postgres\n",
    " public | referrals | table | postgres\n",
    " public | users     | table | postgres\n",
    " public | visits    | table | postgres\n",
    "(5 rows)\n",
    "\n",
    "\n",
    "```"
   ]
  },
  {
   "cell_type": "markdown",
   "metadata": {},
   "source": [
    "```\n",
    "readychef=# SELECT * FROM events LIMIT 10;\n",
    "     dt     | userid | meal_id | event  \n",
    "------------+--------+---------+--------\n",
    " 2013-01-01 |      3 |      18 | bought\n",
    " 2013-01-01 |      7 |       1 | like\n",
    " 2013-01-01 |     10 |      29 | bought\n",
    " 2013-01-01 |     11 |      19 | share\n",
    " 2013-01-01 |     15 |      33 | like\n",
    " 2013-01-01 |     18 |       4 | share\n",
    " 2013-01-01 |     18 |      40 | bought\n",
    " 2013-01-01 |     21 |      10 | share\n",
    " 2013-01-01 |     21 |       4 | like\n",
    " 2013-01-01 |     22 |      23 | bought\n",
    "```"
   ]
  },
  {
   "cell_type": "markdown",
   "metadata": {},
   "source": [
    "\n",
    "```\n",
    "readychef=# SELECT * FROM meals LIMIT 10;\n",
    " meal_id |  type   |     dt     | price \n",
    "---------+---------+------------+-------\n",
    "       1 | french  | 2013-01-01 |    10\n",
    "       2 | chinese | 2013-01-01 |    13\n",
    "       3 | mexican | 2013-01-02 |     9\n",
    "       4 | italian | 2013-01-03 |     9\n",
    "       5 | chinese | 2013-01-03 |    12\n",
    "       6 | italian | 2013-01-03 |     9\n",
    "       7 | italian | 2013-01-03 |    10\n",
    "       8 | french  | 2013-01-03 |    14\n",
    "       9 | italian | 2013-01-03 |    13\n",
    "      10 | french  | 2013-01-03 |     7\n",
    "(10 rows)\n",
    "```"
   ]
  },
  {
   "cell_type": "markdown",
   "metadata": {},
   "source": [
    "### write queries to find the following"
   ]
  },
  {
   "cell_type": "markdown",
   "metadata": {},
   "source": [
    "#### i) total meals bought by each user (including users who bought zero meals)\n",
    "#### ii) Total money spent by each user\n",
    "#### iii) Total visits from each user\n",
    "#### iv) Average visits per month from each user\n"
   ]
  },
  {
   "cell_type": "markdown",
   "metadata": {},
   "source": [
    "(try writing them before looking at the answers below)"
   ]
  },
  {
   "cell_type": "code",
   "execution_count": null,
   "metadata": {},
   "outputs": [],
   "source": [
    "SELECT userid, SUM(CASE WHEN event='bought' THEN 1 ELSE 0 END) AS ct\n",
    "FROM events\n",
    "GROUP BY userid\n",
    "ORDER BY ct;"
   ]
  },
  {
   "cell_type": "code",
   "execution_count": null,
   "metadata": {},
   "outputs": [],
   "source": [
    "SELECT userid, COUNT(meal_id) as ct\n",
    "FROM events\n",
    "WHERE event='bought'\n",
    "GROUP BY userid\n",
    "ORDER BY ct;"
   ]
  },
  {
   "cell_type": "code",
   "execution_count": null,
   "metadata": {},
   "outputs": [],
   "source": [
    "## ^^^ boughts"
   ]
  },
  {
   "cell_type": "code",
   "execution_count": null,
   "metadata": {},
   "outputs": [],
   "source": [
    "SELECT users.userid, COALESCE(ct, 0)\n",
    "FROM users\n",
    "LEFT JOIN (\n",
    "        SELECT userid, COUNT(meal_id) as ct\n",
    "        FROM events\n",
    "        WHERE event='bought'\n",
    "        GROUP BY userid  \n",
    "           ) AS boughts\n",
    "ON users.userid = boughts.userid\n",
    "ORDER BY userid\n",
    "LIMIT 25;"
   ]
  },
  {
   "cell_type": "code",
   "execution_count": null,
   "metadata": {},
   "outputs": [],
   "source": []
  },
  {
   "cell_type": "code",
   "execution_count": null,
   "metadata": {},
   "outputs": [],
   "source": [
    "SELECT u.userid, COUNT(events.userid) as ct\n",
    "FROM users AS u\n",
    "LEFT JOIN events\n",
    "ON u.userid = events.userid AND events.event = 'bought'\n",
    "GROUP BY u.userid\n",
    "ORDER BY ct;"
   ]
  },
  {
   "cell_type": "code",
   "execution_count": null,
   "metadata": {},
   "outputs": [],
   "source": []
  },
  {
   "cell_type": "code",
   "execution_count": null,
   "metadata": {},
   "outputs": [],
   "source": []
  },
  {
   "cell_type": "code",
   "execution_count": null,
   "metadata": {},
   "outputs": [],
   "source": []
  },
  {
   "cell_type": "code",
   "execution_count": null,
   "metadata": {},
   "outputs": [],
   "source": []
  },
  {
   "cell_type": "code",
   "execution_count": null,
   "metadata": {},
   "outputs": [],
   "source": []
  },
  {
   "cell_type": "markdown",
   "metadata": {},
   "source": [
    "## 1b. another table\n",
    "\n",
    "Use table 'customers' below\n",
    "\n",
    "| cust_id | cust_name | current_city | hometown |\n",
    "|:----------:|:------------:|:----------:|:-----------:|\n",
    "| 1 | Amanda | Atlanta | Raleigh |\n",
    "| 2 | Brittany | Denver | New York |\n",
    "| 3 | Charles | Paris | Raleigh |\n",
    "| 4 | David | San Diego | Los Angeles |\n",
    "| 5 | Elizabeth | Atlanta | London |\n",
    "| 6 | Greg | Denver | Atlanta |\n",
    "| 7 | Maria | Raleigh | New York |\n",
    "| 8 | Sarah | New York | Raleigh |\n",
    "| 9 | Thomas | Atlanta | Raleigh |"
   ]
  },
  {
   "cell_type": "markdown",
   "metadata": {},
   "source": [
    "#### loading this data\n",
    "\n",
    "What's the fastest way to load some tab delimited data into postgres? \n",
    "\n",
    "We'll use the `CREATE TABLE` and `COPY` commands.\n",
    "\n",
    "https://www.postgresql.org/docs/current/static/sql-createtable.html\n",
    "\n",
    "https://www.postgresql.org/docs/current/static/sql-copy.html\n",
    "\n",
    "Save the following into a file called `customers.sql`\n",
    "\n",
    "```SQL\n",
    "CREATE TABLE customers (\n",
    "    cust_id integer,\n",
    "    cust_name character varying,\n",
    "    current_city character varying,\n",
    "    hometown character varying);\n",
    "\n",
    "COPY customers (cust_id, cust_name, current_city, hometown) FROM stdin;\n",
    "1\tAmanda\tAtlanta\tRaleigh\n",
    "2\tBrittany\tDenver\tNew York\n",
    "3\tCharles\tParis\tRaleigh\n",
    "4\tDavid\tSan Diego\tLos Angeles\n",
    "5\tElizabeth\tAtlanta\tLondon\n",
    "6\tGreg\tDenver\tAtlanta\n",
    "7\tMaria\tRaleigh\tNew York\n",
    "8\tSarah\tNew York\tRaleigh\n",
    "9\tThomas\tAtlanta\tRaleigh\n",
    "\\.\n",
    "\n",
    "```\n",
    "\n",
    "`CREATE TABLE` specified the schema. Here we are using `COPY ... FROM stdin`, which expects the data to immediately follow in the file. Note that `\\.` is the end-of-data marker.\n",
    "\n",
    "`COPY` can also be used to read a `.csv` file, and can handle other delimiters as well.\n",
    "\n",
    "Now to load the data, we use the same procedure as before.\n",
    "```\n",
    "$ psql\n",
    "=# CREATE DATABASE coolkids;\n",
    "=# \\q\n",
    "$ psql coolkids < path/to/customers.sql\n",
    "$ psql coolkids\n",
    "```\n"
   ]
  },
  {
   "cell_type": "markdown",
   "metadata": {},
   "source": [
    "### write queries to find the following\n",
    "    \n",
    "#### i) Return the city with the highest population growth. (Highest net of people who currently live there minus people who used to live there)\n",
    "\n",
    "#### ii) Return pairs of \"friends\" (can be two columns or a tuple) that have both the same hometown and current city. Remove duplicates!\n"
   ]
  },
  {
   "cell_type": "raw",
   "metadata": {},
   "source": []
  },
  {
   "cell_type": "raw",
   "metadata": {},
   "source": [
    "WITH new_pop AS (\n",
    "    SELECT current_city AS city, COUNT(cust_name) as pop FROM customers\n",
    "    GROUP BY current_city\n",
    "    ),\n",
    "old_pop AS (\n",
    "    SELECT hometown AS city, COUNT(cust_name) as pop FROM customers\n",
    "    GROUP BY hometown\n",
    "    )\n",
    "SELECT new_pop.city, (new_pop.pop - COALESCE(old_pop.pop,0)) AS pop_growth\n",
    "FROM new_pop\n",
    "LEFT JOIN old_pop\n",
    "ON new_pop.city=old_pop.city\n",
    ";"
   ]
  },
  {
   "cell_type": "raw",
   "metadata": {},
   "source": []
  },
  {
   "cell_type": "raw",
   "metadata": {},
   "source": []
  },
  {
   "cell_type": "raw",
   "metadata": {},
   "source": []
  },
  {
   "cell_type": "raw",
   "metadata": {},
   "source": []
  },
  {
   "cell_type": "raw",
   "metadata": {},
   "source": []
  },
  {
   "cell_type": "raw",
   "metadata": {},
   "source": []
  },
  {
   "cell_type": "markdown",
   "metadata": {},
   "source": [
    "## 1a) readychef answers"
   ]
  },
  {
   "cell_type": "markdown",
   "metadata": {},
   "source": [
    "## i: total meals bought by each user (including users who bought zero meals)"
   ]
  },
  {
   "cell_type": "markdown",
   "metadata": {},
   "source": [
    "this query gets total meals for every user\n",
    "but only for users who bought at least 1 meal\n",
    "\n",
    "```sql\n",
    "SELECT userid, COUNT(*) as ct \n",
    "FROM events \n",
    "WHERE event='bought' \n",
    "GROUP BY userid\n",
    "```\n"
   ]
  },
  {
   "cell_type": "markdown",
   "metadata": {},
   "source": [
    " to get the 0-meal users, we LEFT JOIN the \n",
    " user column from \"users\" with the previous\n",
    " table, then use COALESCE to convert the\n",
    " NULL values to 0\n",
    "\n",
    "```sql\n",
    "SELECT u.userid, COALESCE(c.ct,0) AS total_meals_bought FROM users AS u\n",
    "LEFT JOIN (\n",
    "        SELECT userid, COUNT(*) as ct \n",
    "        FROM events \n",
    "        WHERE event='bought' \n",
    "        GROUP BY userid ) as c \n",
    "        ON u.userid = c.userid\n",
    "ORDER BY u.userid\n",
    "LIMIT 20;\n",
    "```\n"
   ]
  },
  {
   "cell_type": "markdown",
   "metadata": {},
   "source": [
    "### ii: Total money spent by each user"
   ]
  },
  {
   "cell_type": "markdown",
   "metadata": {},
   "source": [
    "```sql\n",
    "SELECT u.userid, COALESCE(s.spent,0) AS total_spent FROM users AS u\n",
    "LEFT JOIN (\n",
    "        SELECT userid, SUM(m.price) as spent \n",
    "        FROM events AS e\n",
    "        JOIN meals AS m\n",
    "         ON e.meal_id = m.meal_id\n",
    "        WHERE event='bought' \n",
    "        GROUP BY userid ) as s\n",
    "        ON u.userid = s.userid\n",
    "ORDER BY u.userid\n",
    "LIMIT 20;\n",
    "```"
   ]
  },
  {
   "cell_type": "markdown",
   "metadata": {},
   "source": [
    "### iii: Total visits from each user"
   ]
  },
  {
   "cell_type": "markdown",
   "metadata": {},
   "source": [
    "```sql\n",
    "SELECT u.userid, COALESCE(v.ct,0) AS total_visits FROM users AS u\n",
    "LEFT JOIN (\n",
    "        SELECT userid, COUNT(*) as ct \n",
    "        FROM visits \n",
    "        GROUP BY userid ) as v \n",
    "        ON u.userid = v.userid\n",
    "ORDER BY u.userid\n",
    "LIMIT 20;\n",
    "```"
   ]
  },
  {
   "cell_type": "markdown",
   "metadata": {},
   "source": [
    "### iv: Average visits per month from each user\n",
    "\n",
    "(hint: http://www.sqlines.com/postgresql/how-to/datediff )"
   ]
  },
  {
   "cell_type": "raw",
   "metadata": {},
   "source": []
  },
  {
   "cell_type": "markdown",
   "metadata": {},
   "source": [
    "```sql\n",
    "\n",
    "WITH user_life AS\n",
    "(\n",
    "    SELECT userid,\n",
    "      ((DATE_PART('year', a.max_dt) - DATE_PART('year', a.min_dt)) * 12 +\n",
    "      (DATE_PART('month', a.max_dt) - DATE_PART('month', a.min_dt)) + 1) AS user_months\n",
    "     FROM\n",
    "        (\n",
    "        SELECT userid, MIN(dt) as min_dt, MAX(dt) AS max_dt \n",
    "        FROM visits GROUP BY userid\n",
    "        ) AS a\n",
    "),\n",
    "total AS\n",
    "(\n",
    "    SELECT u.userid, COALESCE(v.ct,0) AS total_visits FROM users AS u\n",
    "    LEFT JOIN (\n",
    "            SELECT userid, COUNT(*) as ct \n",
    "            FROM visits \n",
    "            GROUP BY userid ) as v \n",
    "         ON u.userid = v.userid\n",
    ")\n",
    "SELECT uu.userid, ROUND(tt.total_visits/uu.user_months :: numeric, 2)\n",
    "FROM user_life AS uu\n",
    "JOIN total AS tt\n",
    "ON uu.userid = tt.userid\n",
    "LIMIT 10;\n",
    "```"
   ]
  },
  {
   "cell_type": "markdown",
   "metadata": {},
   "source": [
    "## 1b) customers answers"
   ]
  },
  {
   "cell_type": "markdown",
   "metadata": {},
   "source": [
    "### i) Return the city with the highest population growth. (Highest net of people who currently live there minus people who used to live there)\n",
    "\n",
    "  ```SQL\n",
    "  CREATE TABLE inward_migration AS\n",
    "  (SELECT current_city, COUNT(*) AS net_in\n",
    "  FROM customers\n",
    "  GROUP BY current_city)\n",
    "\n",
    "  CREATE TABLE outward_migration AS\n",
    "  (SELECT hometown, COUNT(*) AS net_out\n",
    "  FROM customers\n",
    "  GROUP BY hometown)\n",
    "\n",
    "  SELECT a.current_city AS city,\n",
    "    a.net_in - b.net_out AS net_immigration\n",
    "  FROM inward_migration a\n",
    "  JOIN outward_migration b\n",
    "  ON a.current_city = b.hometown\n",
    "  ORDER BY net_immigration DESC\n",
    "  LIMIT 1\n",
    "  ```"
   ]
  },
  {
   "cell_type": "markdown",
   "metadata": {},
   "source": [
    "### ii) Return pairs of \"friends\" (can be two columns or a tuple) that have both the same hometown and current city. Remove duplicates!\n",
    "\n",
    "  ```SQL\n",
    "  SELECT a.cust_id AS friend1, b.cust_id AS friend2\n",
    "  FROM customers a\n",
    "  JOIN customers b\n",
    "  ON a.hometown = b.hometown\n",
    "  AND a.current_city = b.current_city\n",
    "  WHERE a.cust_id < b.cust_id\n",
    "  ```"
   ]
  },
  {
   "cell_type": "raw",
   "metadata": {},
   "source": []
  },
  {
   "cell_type": "raw",
   "metadata": {},
   "source": []
  },
  {
   "cell_type": "markdown",
   "metadata": {},
   "source": [
    "# 2. Web scraping"
   ]
  },
  {
   "cell_type": "code",
   "execution_count": 1,
   "metadata": {},
   "outputs": [],
   "source": [
    "import requests\n",
    "from bs4 import BeautifulSoup"
   ]
  },
  {
   "cell_type": "code",
   "execution_count": 2,
   "metadata": {},
   "outputs": [],
   "source": [
    "query = 'data scientist'"
   ]
  },
  {
   "cell_type": "code",
   "execution_count": 3,
   "metadata": {},
   "outputs": [],
   "source": [
    "url = \"http://www.indeed.com/jobs?q={}\".format(query.replace(' ', '+'))\n",
    "html = requests.get(url).text\n",
    "soup = BeautifulSoup(html, 'html.parser')"
   ]
  },
  {
   "cell_type": "code",
   "execution_count": 4,
   "metadata": {},
   "outputs": [
    {
     "data": {
      "text/plain": [
       "'http://www.indeed.com/jobs?q=data+scientist'"
      ]
     },
     "execution_count": 4,
     "metadata": {},
     "output_type": "execute_result"
    }
   ],
   "source": [
    "url"
   ]
  },
  {
   "cell_type": "markdown",
   "metadata": {},
   "source": [
    "### find the number of results"
   ]
  },
  {
   "cell_type": "markdown",
   "metadata": {},
   "source": [
    "You can search by tag, attribute, or both"
   ]
  },
  {
   "cell_type": "code",
   "execution_count": 5,
   "metadata": {},
   "outputs": [
    {
     "data": {
      "text/plain": [
       "'\\n        Page 1 of 23,419 jobs'"
      ]
     },
     "execution_count": 5,
     "metadata": {},
     "output_type": "execute_result"
    }
   ],
   "source": [
    "soup.find('div', id='searchCount').text"
   ]
  },
  {
   "cell_type": "code",
   "execution_count": null,
   "metadata": {},
   "outputs": [],
   "source": []
  },
  {
   "cell_type": "code",
   "execution_count": 6,
   "metadata": {},
   "outputs": [
    {
     "data": {
      "text/plain": [
       "<div id=\"searchCount\">\n",
       "        Page 1 of 23,419 jobs</div>"
      ]
     },
     "execution_count": 6,
     "metadata": {},
     "output_type": "execute_result"
    }
   ],
   "source": [
    "soup.find('div', id='searchCount')"
   ]
  },
  {
   "cell_type": "code",
   "execution_count": 7,
   "metadata": {},
   "outputs": [
    {
     "data": {
      "text/plain": [
       "<div id=\"searchCount\">\n",
       "        Page 1 of 23,419 jobs</div>"
      ]
     },
     "execution_count": 7,
     "metadata": {},
     "output_type": "execute_result"
    }
   ],
   "source": [
    "soup.find(id='searchCount')"
   ]
  },
  {
   "cell_type": "code",
   "execution_count": 8,
   "metadata": {},
   "outputs": [
    {
     "data": {
      "text/plain": [
       "'\\n        Page 1 of 23,419 jobs'"
      ]
     },
     "execution_count": 8,
     "metadata": {},
     "output_type": "execute_result"
    }
   ],
   "source": [
    "soup.find(id='searchCount').text"
   ]
  },
  {
   "cell_type": "code",
   "execution_count": 9,
   "metadata": {},
   "outputs": [
    {
     "data": {
      "text/plain": [
       "['Page', '1', 'of', '23,419', 'jobs']"
      ]
     },
     "execution_count": 9,
     "metadata": {},
     "output_type": "execute_result"
    }
   ],
   "source": [
    "soup.find(id='searchCount').text.split()"
   ]
  },
  {
   "cell_type": "code",
   "execution_count": 11,
   "metadata": {},
   "outputs": [
    {
     "data": {
      "text/plain": [
       "'23,419'"
      ]
     },
     "execution_count": 11,
     "metadata": {},
     "output_type": "execute_result"
    }
   ],
   "source": [
    "soup.find(id='searchCount').text.split()[-2]"
   ]
  },
  {
   "cell_type": "code",
   "execution_count": 14,
   "metadata": {},
   "outputs": [],
   "source": [
    "import requests\n",
    "from bs4 import BeautifulSoup\n",
    "\n",
    "def number_of_jobs(query):\n",
    "    '''\n",
    "    INPUT: string\n",
    "    OUTPUT: int\n",
    "\n",
    "    Return the number of jobs on the indeed.com for the search query.\n",
    "    '''\n",
    "\n",
    "    url = \"http://www.indeed.com/jobs?q={}\".format(query.replace(' ', '+'))\n",
    "    html = requests.get(url).text\n",
    "    soup = BeautifulSoup(html, 'html.parser')\n",
    "    search_count = soup.find('div', id='searchCount')\n",
    "    return int(search_count.text.split()[-2].replace(',', ''))"
   ]
  },
  {
   "cell_type": "code",
   "execution_count": 15,
   "metadata": {},
   "outputs": [
    {
     "data": {
      "text/plain": [
       "23419"
      ]
     },
     "execution_count": 15,
     "metadata": {},
     "output_type": "execute_result"
    }
   ],
   "source": [
    "number_of_jobs('data scientist')"
   ]
  },
  {
   "cell_type": "code",
   "execution_count": 16,
   "metadata": {},
   "outputs": [
    {
     "data": {
      "text/plain": [
       "[<div class=\"row result\" data-advn=\"5934651801106676\" data-jk=\"7dee0a3754255bee\" id=\"pj_7dee0a3754255bee\">\n",
       " <a class=\"jobtitle turnstileLink\" data-tn-element=\"jobTitle\" href=\"/pagead/clk?mo=r&amp;ad=-6NYlbfkN0DV4VMfmBJI2fADxaSmO4APG19pQrP8HAfsIrAnoAIqcE6KtGnsd-lg0hs2Usoksi-GyvPGYRgLzK4Qz5WOJcfBYXKdSJ_nir_NJlpEGdOAwaMLD2_H1rNmYJSfFU0_yJ_SxwbJrSmTlbhq7bCJcp8UPo7cZ2CllQKopAjI83czBnSNydgEEM__Cw8EaF39Olg9kVDbFIuHVbGUhzFUNkHDb88UAbJLhKPBjOkHKaSnYDgu-AqCbQk3D6tqSGrajVPBHs-GMjQlE7SUlNIXGQDfUsUE5bJxNoi5l0nup1BONsPTfgEWO8NKxZM61Dj4S05Y9CnO50tma-0vbUvP_kJ6apz5au8T35amtSk8WPGj5O6b6N-KiQ7ihs2Fm-7T7jxg55gkgL5FWY74iEzYu_je3F_MiFkTIxJ4UgjZbB8DDM-d6258qkyhoHA51g9FAUZ_zUS7ODJqz6LvAiO07DxFPqPro_tatf9goGGOpHm5gpB9wQZbgLawxuo0L3NVdMoEFATA6ipZ0ozd0hX1V_Y_gIwwLC6Mbl1DTt2Lq52J3kwu8pcxFhO0UMDOtDajH41-xfswozMlZzNJl5_-6ohmPLjTBycLj60=&amp;p=1&amp;sk=&amp;fvj=1\" id=\"sja1\" onclick=\"setRefineByCookie([]); sjoc('sja1',1); convCtr('SJ')\" onmousedown=\"sjomd('sja1'); clk('sja1');\" rel=\"noopener nofollow\" target=\"_blank\" title=\"Data Scientist\"><b>Data</b> <b>Scientist</b></a>\n",
       " <br/>\n",
       " <div class=\"sjcl\">\n",
       " <span class=\"company\">\n",
       "     National Geospatial-Intelligence Agency</span>\n",
       " \n",
       "  - <span class=\"location\">Springfield, VA</span>\n",
       " <div>\n",
       " <span class=\"no-wrap\">\n",
       "                 Estimated salary: $87,000 - $111,000 a year</span>\n",
       " <span class=\"salary-legal-disclaimer-icon\" data-jk-salary=\"7dee0a3754255bee\"></span>\n",
       " </div>\n",
       " </div>\n",
       " <div class=\"\">\n",
       " <table border=\"0\" cellpadding=\"0\" cellspacing=\"0\"><tr><td class=\"snip\">\n",
       " <span class=\"summary\">\n",
       "                             JavaScript, Python, Cloud Services Design, Algorithm Development, <b>Data</b> Visualization, Big <b>Data</b> /<b>Data</b> Modeling, Machine Vision &amp; Deep Learning, Optimization....</span>\n",
       " </td></tr></table>\n",
       " </div>\n",
       " <div class=\"sjCapt\">\n",
       " <div class=\"result-link-bar-container\">\n",
       " <div class=\"result-link-bar\"><span class=\" sponsoredGray \">Sponsored</span> - <span class=\"tt_set\" id=\"tt_set_10\"><a class=\"sl resultLink save-job-link \" href=\"#\" id=\"sj_7dee0a3754255bee\" onclick=\"changeJobState('7dee0a3754255bee', 'save', 'linkbar', true, ''); return false;\" title=\"Save this job to my.indeed\">save job</a></span><div class=\"edit_note_content\" id=\"editsaved2_7dee0a3754255bee\" style=\"display:none;\"></div><script>if (!window['sj_result_7dee0a3754255bee']) {window['sj_result_7dee0a3754255bee'] = {};}window['sj_result_7dee0a3754255bee']['showSource'] = false; window['sj_result_7dee0a3754255bee']['source'] = \"Indeed\"; window['sj_result_7dee0a3754255bee']['loggedIn'] = false; window['sj_result_7dee0a3754255bee']['showMyJobsLinks'] = false;window['sj_result_7dee0a3754255bee']['undoAction'] = \"unsave\";window['sj_result_7dee0a3754255bee']['jobKey'] = \"7dee0a3754255bee\"; window['sj_result_7dee0a3754255bee']['myIndeedAvailable'] = true; window['sj_result_7dee0a3754255bee']['showMoreActionsLink'] = false; window['sj_result_7dee0a3754255bee']['resultNumber'] = 10; window['sj_result_7dee0a3754255bee']['jobStateChangedToSaved'] = false; window['sj_result_7dee0a3754255bee']['searchState'] = \"q=data scientist&amp;\"; window['sj_result_7dee0a3754255bee']['basicPermaLink'] = \"http://www.indeed.com\"; window['sj_result_7dee0a3754255bee']['saveJobFailed'] = false; window['sj_result_7dee0a3754255bee']['removeJobFailed'] = false; window['sj_result_7dee0a3754255bee']['requestPending'] = false; window['sj_result_7dee0a3754255bee']['notesEnabled'] = false; window['sj_result_7dee0a3754255bee']['currentPage'] = \"serp\"; window['sj_result_7dee0a3754255bee']['sponsored'] = true;window['sj_result_7dee0a3754255bee']['showSponsor'] = true;window['sj_result_7dee0a3754255bee']['reportJobButtonEnabled'] = false; window['sj_result_7dee0a3754255bee']['showMyJobsHired'] = false; window['sj_result_7dee0a3754255bee']['showSaveForSponsored'] = true; window['sj_result_7dee0a3754255bee']['showJobAge'] = true;</script></div></div>\n",
       " <div class=\"tab-container\">\n",
       " <div class=\"sign-in-container result-tab\"></div>\n",
       " <div class=\"tellafriend-container result-tab email_job_content\"></div>\n",
       " </div>\n",
       " </div>\n",
       " </div>,\n",
       " <div class=\"row result\" data-advn=\"6613095622180756\" data-jk=\"e737b16383f138a5\" id=\"pj_e737b16383f138a5\">\n",
       " <a class=\"jobtitle turnstileLink\" data-tn-element=\"jobTitle\" href=\"/pagead/clk?mo=r&amp;ad=-6NYlbfkN0D19kSVUiNzG2UWy1lRGehFMusHrHGUl8ru40ax50wmt1gcnJgB2R3fkhH2YsNSM25J1XE0NqyQdRK2V_5MAvJ9RLsxrX8z5uhS40sTAMkWacAnvotPV--qUYKI6k-JSQ4q0dvT0CAd-rT3yRT5sMMANxSes0HcSTKzTqEJjGQrK-z56cv35eNfMYM4zgWqgnn7V64kmQjqekrAd7cnznFB0_rDtjSpj0uGYjTaX55UzZCM-pCbz8J2X20yt5cBCzNQklbFT21XGJZMfgmlgbpYmGzme1YwE5Ohe3Rbl68fL5uK1vnG6kpebdAyJR3BvPTOfvMhabZ70zMjHzj4No-5dj9hSHRXHCyB3tbIcCQma_i7OLQh8JT2kLRh7fYJfe65z2rhWpmHHTlZ0Mrc-tI86ECLcPqQ_t9LqiflEgiABMtlymgaLHN-PYgCcSo9SPK3sih3EjsCvP2eNsX0QJj3UlphYxJEDb9JJGu00w95njbr6E-yxy-XmWbuhr1gFnsrkJ3YWA-ZglfGBrqXflbrhdNX8MA9iq5sETsw4ffc9GH_AcKT-V2t6U4xFc44QMokvr0bS66y1Xug_KyLBbrQo_o1Cti3sl8MauVu4SHoYPfT4JwLB9_Mqu-qL-jwpg3FIahTacursb3nfuLIbq1PtHdlkKxY_JCj5lrt6Ck48ua6LQGUHM2gMCy7LErn0fc6l8t113QMGJ42ElUOXqI317eWvf5HNzvSfSQS9PvvfnuwBDpcndp8YRFXrGzUyQ5AXDxlAqGactPFDYqQhi5p&amp;p=2&amp;sk=&amp;fvj=0\" id=\"sja2\" onclick=\"setRefineByCookie([]); sjoc('sja2',0); convCtr('SJ')\" onmousedown=\"sjomd('sja2'); clk('sja2');\" rel=\"noopener nofollow\" target=\"_blank\" title=\"Data Scientist - Solaria Labs\"><b>Data</b> <b>Scientist</b> - Solaria Labs</a>\n",
       " <br/>\n",
       " <div class=\"sjcl\">\n",
       " <span class=\"company\">\n",
       " <a class=\"turnstileLink\" data-tn-element=\"companyName\" href=\"/cmp/Liberty-Mutual\" onmousedown=\"this.href = appendParamsOnce(this.href, 'from=SERP&amp;campaignid=serp-linkcompanyname&amp;fromjk=e737b16383f138a5&amp;jcid=bba15db4d8763697')\" rel=\"noopener\" target=\"_blank\">\n",
       "     Liberty Mutual</a></span>\n",
       " \n",
       "  - <a class=\"ratingsLabel\" data-tn-element=\"reviewStars\" data-tn-variant=\"cmplinktst2\" href=\"/cmp/Liberty-Mutual/reviews\" onmousedown=\"this.href = appendParamsOnce(this.href, '?campaignid=cmplinktst2&amp;from=SERP&amp;jt=Data+Scientist+-+Solaria+Labs&amp;fromjk=e737b16383f138a5&amp;jcid=bba15db4d8763697');\" rel=\"noopener\" target=\"_blank\" title=\"Liberty Mutual reviews\">\n",
       " <span class=\"ratings\"><span class=\"rating\" style=\"width:43.8px\"><!-- --></span></span>\n",
       " <span class=\"slNoUnderline\">1,934 reviews</span></a>\n",
       "  - <span class=\"location\">Boston, MA</span>\n",
       " </div>\n",
       " <div class=\"\">\n",
       " <table border=\"0\" cellpadding=\"0\" cellspacing=\"0\"><tr><td class=\"snip\">\n",
       " <span class=\"summary\">\n",
       "                             Degree (in Engineering, Computer Science, Mathematics, or other scientific field of study) and 0-1 years of relevant experience, a Master’s degree (scientific...</span>\n",
       " </td></tr></table>\n",
       " </div>\n",
       " <div class=\"sjCapt\">\n",
       " <div class=\"result-link-bar-container\">\n",
       " <div class=\"result-link-bar\"><span class=\" sponsoredGray \">Sponsored</span> - <span class=\"tt_set\" id=\"tt_set_11\"><a class=\"sl resultLink save-job-link \" href=\"#\" id=\"sj_e737b16383f138a5\" onclick=\"changeJobState('e737b16383f138a5', 'save', 'linkbar', true, ''); return false;\" title=\"Save this job to my.indeed\">save job</a></span><div class=\"edit_note_content\" id=\"editsaved2_e737b16383f138a5\" style=\"display:none;\"></div><script>if (!window['sj_result_e737b16383f138a5']) {window['sj_result_e737b16383f138a5'] = {};}window['sj_result_e737b16383f138a5']['showSource'] = false; window['sj_result_e737b16383f138a5']['source'] = \"Liberty Mutual\"; window['sj_result_e737b16383f138a5']['loggedIn'] = false; window['sj_result_e737b16383f138a5']['showMyJobsLinks'] = false;window['sj_result_e737b16383f138a5']['undoAction'] = \"unsave\";window['sj_result_e737b16383f138a5']['jobKey'] = \"e737b16383f138a5\"; window['sj_result_e737b16383f138a5']['myIndeedAvailable'] = true; window['sj_result_e737b16383f138a5']['showMoreActionsLink'] = false; window['sj_result_e737b16383f138a5']['resultNumber'] = 11; window['sj_result_e737b16383f138a5']['jobStateChangedToSaved'] = false; window['sj_result_e737b16383f138a5']['searchState'] = \"q=data scientist&amp;\"; window['sj_result_e737b16383f138a5']['basicPermaLink'] = \"http://www.indeed.com\"; window['sj_result_e737b16383f138a5']['saveJobFailed'] = false; window['sj_result_e737b16383f138a5']['removeJobFailed'] = false; window['sj_result_e737b16383f138a5']['requestPending'] = false; window['sj_result_e737b16383f138a5']['notesEnabled'] = false; window['sj_result_e737b16383f138a5']['currentPage'] = \"serp\"; window['sj_result_e737b16383f138a5']['sponsored'] = true;window['sj_result_e737b16383f138a5']['showSponsor'] = true;window['sj_result_e737b16383f138a5']['reportJobButtonEnabled'] = false; window['sj_result_e737b16383f138a5']['showMyJobsHired'] = false; window['sj_result_e737b16383f138a5']['showSaveForSponsored'] = true; window['sj_result_e737b16383f138a5']['showJobAge'] = true;</script></div></div>\n",
       " <div class=\"tab-container\">\n",
       " <div class=\"sign-in-container result-tab\"></div>\n",
       " <div class=\"tellafriend-container result-tab email_job_content\"></div>\n",
       " </div>\n",
       " </div>\n",
       " </div>,\n",
       " <div class=\"row result\" data-advn=\"1594886733894779\" data-jk=\"a4ce445181041eb0\" id=\"pj_a4ce445181041eb0\">\n",
       " <a class=\"jobtitle turnstileLink\" data-tn-element=\"jobTitle\" href=\"/pagead/clk?mo=r&amp;ad=-6NYlbfkN0A3ojDD7a4bPG-yvnQ25_ssl5SfeamfjBbLjSp6JyfodLfvDkcWq9JKaUTjMzltpq8gtKbp3V2kIgBQcbGYvtADojuNwUM-UYaXnTPEkOSp3dCIjH7NmDL1d3vx33aEjpRgM8cgzQt_cvix5FAsdWbaOoymvFpQVkiw4m-E4f7BRHAM5Fhqxp6h0HkwgmQOi5pGl4keA_1hMobabgtRnet2-PN8L8x9tmPoSPzw85usJxQmloEchd5tBhSJfBfkVp6suqOh-RIAe7NpIJdZi3AxE7l2vjRXfxVBuocZhGuOtfiyQiYTLJG_ZjeAPknICuMt7B-GLeLw3MGHCJMsgsZnBOwAplBgY4YbSb3RLWEchZXti-w-Y0GbgfsvZ1togUzJyFUqdR6_Nara0K4b4E4aLn0cKK631hnvPZsq3RBoyA==&amp;p=4&amp;sk=&amp;fvj=1\" id=\"sja4\" onclick=\"setRefineByCookie([]); sjoc('sja4',1); convCtr('SJ')\" onmousedown=\"sjomd('sja4'); clk('sja4');\" rel=\"noopener nofollow\" target=\"_blank\" title=\"Data Scientist\"><b>Data</b> <b>Scientist</b></a>\n",
       " <br/>\n",
       " <div class=\"sjcl\">\n",
       " <span class=\"company\">\n",
       "     Moss Corporation</span>\n",
       " \n",
       "  - <span class=\"location\">Cleveland, OH</span>\n",
       " <div>\n",
       " <span class=\"no-wrap\">\n",
       "                 Estimated salary: $74,000 - $94,000 a year</span>\n",
       " <span class=\"salary-legal-disclaimer-icon\" data-jk-salary=\"a4ce445181041eb0\"></span>\n",
       " </div>\n",
       " </div>\n",
       " <div class=\"\">\n",
       " <table border=\"0\" cellpadding=\"0\" cellspacing=\"0\"><tr><td class=\"snip\">\n",
       " <span class=\"summary\">\n",
       "                             Independently identify and manage analytical projects, performing a variety of tasks including <b>data</b> architect, <b>data</b> mining, <b>data</b> visualization, and modeling....</span>\n",
       " </td></tr></table>\n",
       " </div>\n",
       " <div class=\"sjCapt\">\n",
       " <div class=\"iaP\">\n",
       " <span class=\"iaLabel\"> Easily apply</span>\n",
       " </div>\n",
       " <div class=\"result-link-bar-container\">\n",
       " <div class=\"result-link-bar\"><span class=\" sponsoredGray \">Sponsored</span> - <span class=\"tt_set\" id=\"tt_set_13\"><a class=\"sl resultLink save-job-link \" href=\"#\" id=\"sj_a4ce445181041eb0\" onclick=\"changeJobState('a4ce445181041eb0', 'save', 'linkbar', true, ''); return false;\" title=\"Save this job to my.indeed\">save job</a></span><div class=\"edit_note_content\" id=\"editsaved2_a4ce445181041eb0\" style=\"display:none;\"></div><script>if (!window['sj_result_a4ce445181041eb0']) {window['sj_result_a4ce445181041eb0'] = {};}window['sj_result_a4ce445181041eb0']['showSource'] = false; window['sj_result_a4ce445181041eb0']['source'] = \"Indeed\"; window['sj_result_a4ce445181041eb0']['loggedIn'] = false; window['sj_result_a4ce445181041eb0']['showMyJobsLinks'] = false;window['sj_result_a4ce445181041eb0']['undoAction'] = \"unsave\";window['sj_result_a4ce445181041eb0']['jobKey'] = \"a4ce445181041eb0\"; window['sj_result_a4ce445181041eb0']['myIndeedAvailable'] = true; window['sj_result_a4ce445181041eb0']['showMoreActionsLink'] = false; window['sj_result_a4ce445181041eb0']['resultNumber'] = 13; window['sj_result_a4ce445181041eb0']['jobStateChangedToSaved'] = false; window['sj_result_a4ce445181041eb0']['searchState'] = \"q=data scientist&amp;\"; window['sj_result_a4ce445181041eb0']['basicPermaLink'] = \"http://www.indeed.com\"; window['sj_result_a4ce445181041eb0']['saveJobFailed'] = false; window['sj_result_a4ce445181041eb0']['removeJobFailed'] = false; window['sj_result_a4ce445181041eb0']['requestPending'] = false; window['sj_result_a4ce445181041eb0']['notesEnabled'] = false; window['sj_result_a4ce445181041eb0']['currentPage'] = \"serp\"; window['sj_result_a4ce445181041eb0']['sponsored'] = true;window['sj_result_a4ce445181041eb0']['showSponsor'] = true;window['sj_result_a4ce445181041eb0']['reportJobButtonEnabled'] = false; window['sj_result_a4ce445181041eb0']['showMyJobsHired'] = false; window['sj_result_a4ce445181041eb0']['showSaveForSponsored'] = true; window['sj_result_a4ce445181041eb0']['showJobAge'] = true;</script></div></div>\n",
       " <div class=\"tab-container\">\n",
       " <div class=\"sign-in-container result-tab\"></div>\n",
       " <div class=\"tellafriend-container result-tab email_job_content\"></div>\n",
       " </div>\n",
       " </div>\n",
       " </div>]"
      ]
     },
     "execution_count": 16,
     "metadata": {},
     "output_type": "execute_result"
    }
   ],
   "source": [
    "soup.find_all('div', class_='row result')"
   ]
  },
  {
   "cell_type": "markdown",
   "metadata": {},
   "source": [
    "# 3. Distributions"
   ]
  },
  {
   "cell_type": "markdown",
   "metadata": {},
   "source": [
    "http://www.cs.elte.hu/~mesti/valszam/kepletek.pdf"
   ]
  },
  {
   "cell_type": "markdown",
   "metadata": {},
   "source": [
    "### Beta distribution:\n",
    "$B(\\alpha, \\beta) $\n",
    "\n",
    "$\\alpha = 1 + (\\#successes)$\n",
    "\n",
    "$\\beta = 1 + (\\#failures)$\n",
    "\n",
    "http://stats.stackexchange.com/a/47782"
   ]
  },
  {
   "cell_type": "markdown",
   "metadata": {},
   "source": [
    "# 4. Hypothesis testing\n",
    "\n",
    "https://github.com/gschool/DSI_Lectures/blob/master/ab-testing/tammy_lee/lecture.pdf"
   ]
  },
  {
   "cell_type": "code",
   "execution_count": null,
   "metadata": {
    "collapsed": true
   },
   "outputs": [],
   "source": []
  }
 ],
 "metadata": {
  "anaconda-cloud": {},
  "kernelspec": {
   "display_name": "Python 3",
   "language": "python",
   "name": "python3"
  },
  "language_info": {
   "codemirror_mode": {
    "name": "ipython",
    "version": 3
   },
   "file_extension": ".py",
   "mimetype": "text/x-python",
   "name": "python",
   "nbconvert_exporter": "python",
   "pygments_lexer": "ipython3",
   "version": "3.6.2"
  }
 },
 "nbformat": 4,
 "nbformat_minor": 1
}
