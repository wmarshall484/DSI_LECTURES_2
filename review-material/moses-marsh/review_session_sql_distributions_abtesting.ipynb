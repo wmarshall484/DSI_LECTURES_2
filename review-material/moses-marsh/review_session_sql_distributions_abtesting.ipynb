{
 "cells": [
  {
   "cell_type": "markdown",
   "metadata": {},
   "source": [
    "# 00. Study previous assessments"
   ]
  },
  {
   "cell_type": "markdown",
   "metadata": {},
   "source": [
    "# 0. Hey! Remember to use the tests!!!!\n",
    "When you clone the assessment repo and you are in the `dsi-final-assessment` directory, make sure unittests works by entering `make test` in your terminal."
   ]
  },
  {
   "cell_type": "markdown",
   "metadata": {},
   "source": [
    "# 1. SQL"
   ]
  },
  {
   "cell_type": "markdown",
   "metadata": {},
   "source": [
    "## 1a. readychef"
   ]
  },
  {
   "cell_type": "markdown",
   "metadata": {},
   "source": [
    "If you still have the readychef database, you can access it by entering `psql readychef` in your terminal."
   ]
  },
  {
   "cell_type": "markdown",
   "metadata": {},
   "source": [
    "If the above command fails, you'll have to create the database and load it with the following commands.\n",
    "Here, `$` represents the terminal shell and `=#` represents the postgres shell.\n",
    "```\n",
    "$ psql\n",
    "=# CREATE DATABASE readychef;\n",
    "=# \\q\n",
    "$ psql readychef < path/to/readychef.sql\n",
    "$ psql readychef\n",
    "=# \\d\n",
    "           List of relations\n",
    " Schema |   Name    | Type  |  Owner   \n",
    "--------+-----------+-------+----------\n",
    " public | events    | table | postgres\n",
    " public | meals     | table | postgres\n",
    " public | referrals | table | postgres\n",
    " public | users     | table | postgres\n",
    " public | visits    | table | postgres\n",
    "(5 rows)\n",
    "\n",
    "\n",
    "```"
   ]
  },
  {
   "cell_type": "markdown",
   "metadata": {},
   "source": [
    "```\n",
    "readychef=# SELECT * FROM events LIMIT 10;\n",
    "     dt     | userid | meal_id | event  \n",
    "------------+--------+---------+--------\n",
    " 2013-01-01 |      3 |      18 | bought\n",
    " 2013-01-01 |      7 |       1 | like\n",
    " 2013-01-01 |     10 |      29 | bought\n",
    " 2013-01-01 |     11 |      19 | share\n",
    " 2013-01-01 |     15 |      33 | like\n",
    " 2013-01-01 |     18 |       4 | share\n",
    " 2013-01-01 |     18 |      40 | bought\n",
    " 2013-01-01 |     21 |      10 | share\n",
    " 2013-01-01 |     21 |       4 | like\n",
    " 2013-01-01 |     22 |      23 | bought\n",
    "```"
   ]
  },
  {
   "cell_type": "markdown",
   "metadata": {},
   "source": [
    "\n",
    "```\n",
    "readychef=# SELECT * FROM meals LIMIT 10;\n",
    " meal_id |  type   |     dt     | price \n",
    "---------+---------+------------+-------\n",
    "       1 | french  | 2013-01-01 |    10\n",
    "       2 | chinese | 2013-01-01 |    13\n",
    "       3 | mexican | 2013-01-02 |     9\n",
    "       4 | italian | 2013-01-03 |     9\n",
    "       5 | chinese | 2013-01-03 |    12\n",
    "       6 | italian | 2013-01-03 |     9\n",
    "       7 | italian | 2013-01-03 |    10\n",
    "       8 | french  | 2013-01-03 |    14\n",
    "       9 | italian | 2013-01-03 |    13\n",
    "      10 | french  | 2013-01-03 |     7\n",
    "(10 rows)\n",
    "```"
   ]
  },
  {
   "cell_type": "markdown",
   "metadata": {},
   "source": [
    "### write queries to find the following"
   ]
  },
  {
   "cell_type": "markdown",
   "metadata": {},
   "source": [
    "#### i) total meals bought by each user (including users who bought zero meals)\n",
    "#### ii) Total money spent by each user\n",
    "#### iii) Total visits from each user\n",
    "#### iv) Average visits per month from each user\n"
   ]
  },
  {
   "cell_type": "markdown",
   "metadata": {},
   "source": [
    "(try writing them before looking at the answers below)"
   ]
  },
  {
   "cell_type": "code",
   "execution_count": null,
   "metadata": {},
   "outputs": [],
   "source": [
    "SELECT userid, SUM(CASE WHEN event='bought' THEN 1 ELSE 0 END) AS ct\n",
    "FROM events\n",
    "GROUP BY userid\n",
    "ORDER BY ct;"
   ]
  },
  {
   "cell_type": "code",
   "execution_count": null,
   "metadata": {},
   "outputs": [],
   "source": [
    "SELECT userid, COUNT(meal_id) as ct\n",
    "FROM events\n",
    "WHERE event='bought'\n",
    "GROUP BY userid\n",
    "ORDER BY ct;"
   ]
  },
  {
   "cell_type": "code",
   "execution_count": null,
   "metadata": {},
   "outputs": [],
   "source": [
    "## ^^^ boughts"
   ]
  },
  {
   "cell_type": "code",
   "execution_count": null,
   "metadata": {},
   "outputs": [],
   "source": [
    "SELECT users.userid, COALESCE(ct, 0)\n",
    "FROM users\n",
    "LEFT JOIN (\n",
    "        SELECT userid, COUNT(meal_id) as ct\n",
    "        FROM events\n",
    "        WHERE event='bought'\n",
    "        GROUP BY userid  \n",
    "           ) AS boughts\n",
    "ON users.userid = boughts.userid\n",
    "ORDER BY userid\n",
    "LIMIT 25;"
   ]
  },
  {
   "cell_type": "code",
   "execution_count": null,
   "metadata": {},
   "outputs": [],
   "source": []
  },
  {
   "cell_type": "code",
   "execution_count": null,
   "metadata": {},
   "outputs": [],
   "source": [
    "SELECT u.userid, COUNT(events.userid) as ct\n",
    "FROM users AS u\n",
    "LEFT JOIN events\n",
    "ON u.userid = events.userid AND events.event = 'bought'\n",
    "GROUP BY u.userid\n",
    "ORDER BY ct;"
   ]
  },
  {
   "cell_type": "code",
   "execution_count": null,
   "metadata": {},
   "outputs": [],
   "source": []
  },
  {
   "cell_type": "code",
   "execution_count": null,
   "metadata": {},
   "outputs": [],
   "source": []
  },
  {
   "cell_type": "code",
   "execution_count": null,
   "metadata": {},
   "outputs": [],
   "source": []
  },
  {
   "cell_type": "code",
   "execution_count": null,
   "metadata": {},
   "outputs": [],
   "source": []
  },
  {
   "cell_type": "code",
   "execution_count": null,
   "metadata": {},
   "outputs": [],
   "source": []
  },
  {
   "cell_type": "markdown",
   "metadata": {},
   "source": [
    "## 1b. another table\n",
    "\n",
    "Use table 'customers' below\n",
    "\n",
    "| cust_id | cust_name | current_city | hometown |\n",
    "|:----------:|:------------:|:----------:|:-----------:|\n",
    "| 1 | Amanda | Atlanta | Raleigh |\n",
    "| 2 | Brittany | Denver | New York |\n",
    "| 3 | Charles | Paris | Raleigh |\n",
    "| 4 | David | San Diego | Los Angeles |\n",
    "| 5 | Elizabeth | Atlanta | London |\n",
    "| 6 | Greg | Denver | Atlanta |\n",
    "| 7 | Maria | Raleigh | New York |\n",
    "| 8 | Sarah | New York | Raleigh |\n",
    "| 9 | Thomas | Atlanta | Raleigh |"
   ]
  },
  {
   "cell_type": "markdown",
   "metadata": {},
   "source": [
    "#### loading this data\n",
    "\n",
    "What's the fastest way to load some tab delimited data into postgres? \n",
    "\n",
    "We'll use the `CREATE TABLE` and `COPY` commands.\n",
    "\n",
    "https://www.postgresql.org/docs/current/static/sql-createtable.html\n",
    "\n",
    "https://www.postgresql.org/docs/current/static/sql-copy.html\n",
    "\n",
    "Save the following into a file called `customers.sql`\n",
    "\n",
    "```SQL\n",
    "CREATE TABLE customers (\n",
    "    cust_id integer,\n",
    "    cust_name character varying,\n",
    "    current_city character varying,\n",
    "    hometown character varying);\n",
    "\n",
    "COPY customers (cust_id, cust_name, current_city, hometown) FROM stdin;\n",
    "1\tAmanda\tAtlanta\tRaleigh\n",
    "2\tBrittany\tDenver\tNew York\n",
    "3\tCharles\tParis\tRaleigh\n",
    "4\tDavid\tSan Diego\tLos Angeles\n",
    "5\tElizabeth\tAtlanta\tLondon\n",
    "6\tGreg\tDenver\tAtlanta\n",
    "7\tMaria\tRaleigh\tNew York\n",
    "8\tSarah\tNew York\tRaleigh\n",
    "9\tThomas\tAtlanta\tRaleigh\n",
    "\\.\n",
    "\n",
    "```\n",
    "\n",
    "`CREATE TABLE` specified the schema. Here we are using `COPY ... FROM stdin`, which expects the data to immediately follow in the file. Note that `\\.` is the end-of-data marker.\n",
    "\n",
    "`COPY` can also be used to read a `.csv` file, and can handle other delimiters as well.\n",
    "\n",
    "Now to load the data, we use the same procedure as before.\n",
    "```\n",
    "$ psql\n",
    "=# CREATE DATABASE coolkids;\n",
    "=# \\q\n",
    "$ psql coolkids < path/to/customers.sql\n",
    "$ psql coolkids\n",
    "```\n"
   ]
  },
  {
   "cell_type": "markdown",
   "metadata": {},
   "source": [
    "### write queries to find the following\n",
    "    \n",
    "#### i) Return the city with the highest population growth. (Highest net of people who currently live there minus people who used to live there)\n",
    "\n",
    "#### ii) Return pairs of \"friends\" (can be two columns or a tuple) that have both the same hometown and current city. Remove duplicates!\n"
   ]
  },
  {
   "cell_type": "raw",
   "metadata": {},
   "source": []
  },
  {
   "cell_type": "raw",
   "metadata": {},
   "source": [
    "WITH new_pop AS (\n",
    "    SELECT current_city AS city, COUNT(cust_name) as pop FROM customers\n",
    "    GROUP BY current_city\n",
    "    ),\n",
    "old_pop AS (\n",
    "    SELECT hometown AS city, COUNT(cust_name) as pop FROM customers\n",
    "    GROUP BY hometown\n",
    "    )\n",
    "SELECT new_pop.city, (new_pop.pop - COALESCE(old_pop.pop,0)) AS pop_growth\n",
    "FROM new_pop\n",
    "LEFT JOIN old_pop\n",
    "ON new_pop.city=old_pop.city\n",
    ";"
   ]
  },
  {
   "cell_type": "raw",
   "metadata": {},
   "source": []
  },
  {
   "cell_type": "raw",
   "metadata": {},
   "source": []
  },
  {
   "cell_type": "raw",
   "metadata": {},
   "source": []
  },
  {
   "cell_type": "raw",
   "metadata": {},
   "source": []
  },
  {
   "cell_type": "raw",
   "metadata": {},
   "source": []
  },
  {
   "cell_type": "raw",
   "metadata": {},
   "source": []
  },
  {
   "cell_type": "markdown",
   "metadata": {},
   "source": [
    "## 1a) readychef answers"
   ]
  },
  {
   "cell_type": "markdown",
   "metadata": {},
   "source": [
    "## i: total meals bought by each user (including users who bought zero meals)"
   ]
  },
  {
   "cell_type": "markdown",
   "metadata": {},
   "source": [
    "this query gets total meals for every user\n",
    "but only for users who bought at least 1 meal\n",
    "\n",
    "```sql\n",
    "SELECT userid, COUNT(*) as ct \n",
    "FROM events \n",
    "WHERE event='bought' \n",
    "GROUP BY userid\n",
    "```\n"
   ]
  },
  {
   "cell_type": "markdown",
   "metadata": {},
   "source": [
    " to get the 0-meal users, we LEFT JOIN the \n",
    " user column from \"users\" with the previous\n",
    " table, then use COALESCE to convert the\n",
    " NULL values to 0\n",
    "\n",
    "```sql\n",
    "SELECT u.userid, COALESCE(c.ct,0) AS total_meals_bought FROM users AS u\n",
    "LEFT JOIN (\n",
    "        SELECT userid, COUNT(*) as ct \n",
    "        FROM events \n",
    "        WHERE event='bought' \n",
    "        GROUP BY userid ) as c \n",
    "        ON u.userid = c.userid\n",
    "ORDER BY u.userid\n",
    "LIMIT 20;\n",
    "```\n"
   ]
  },
  {
   "cell_type": "markdown",
   "metadata": {},
   "source": [
    "### ii: Total money spent by each user"
   ]
  },
  {
   "cell_type": "markdown",
   "metadata": {},
   "source": [
    "```sql\n",
    "SELECT u.userid, COALESCE(s.spent,0) AS total_spent FROM users AS u\n",
    "LEFT JOIN (\n",
    "        SELECT userid, SUM(m.price) as spent \n",
    "        FROM events AS e\n",
    "        JOIN meals AS m\n",
    "         ON e.meal_id = m.meal_id\n",
    "        WHERE event='bought' \n",
    "        GROUP BY userid ) as s\n",
    "        ON u.userid = s.userid\n",
    "ORDER BY u.userid\n",
    "LIMIT 20;\n",
    "```"
   ]
  },
  {
   "cell_type": "markdown",
   "metadata": {},
   "source": [
    "### iii: Total visits from each user"
   ]
  },
  {
   "cell_type": "markdown",
   "metadata": {},
   "source": [
    "```sql\n",
    "SELECT u.userid, COALESCE(v.ct,0) AS total_visits FROM users AS u\n",
    "LEFT JOIN (\n",
    "        SELECT userid, COUNT(*) as ct \n",
    "        FROM visits \n",
    "        GROUP BY userid ) as v \n",
    "        ON u.userid = v.userid\n",
    "ORDER BY u.userid\n",
    "LIMIT 20;\n",
    "```"
   ]
  },
  {
   "cell_type": "markdown",
   "metadata": {},
   "source": [
    "### iv: Average visits per month from each user\n",
    "\n",
    "(hint: http://www.sqlines.com/postgresql/how-to/datediff )"
   ]
  },
  {
   "cell_type": "raw",
   "metadata": {},
   "source": []
  },
  {
   "cell_type": "markdown",
   "metadata": {},
   "source": [
    "```sql\n",
    "\n",
    "WITH user_life AS\n",
    "(\n",
    "    SELECT userid,\n",
    "      ((DATE_PART('year', a.max_dt) - DATE_PART('year', a.min_dt)) * 12 +\n",
    "      (DATE_PART('month', a.max_dt) - DATE_PART('month', a.min_dt)) + 1) AS user_months\n",
    "     FROM\n",
    "        (\n",
    "        SELECT userid, MIN(dt) as min_dt, MAX(dt) AS max_dt \n",
    "        FROM visits GROUP BY userid\n",
    "        ) AS a\n",
    "),\n",
    "total AS\n",
    "(\n",
    "    SELECT u.userid, COALESCE(v.ct,0) AS total_visits FROM users AS u\n",
    "    LEFT JOIN (\n",
    "            SELECT userid, COUNT(*) as ct \n",
    "            FROM visits \n",
    "            GROUP BY userid ) as v \n",
    "         ON u.userid = v.userid\n",
    ")\n",
    "SELECT uu.userid, ROUND(tt.total_visits/uu.user_months :: numeric, 2)\n",
    "FROM user_life AS uu\n",
    "JOIN total AS tt\n",
    "ON uu.userid = tt.userid\n",
    "LIMIT 10;\n",
    "```"
   ]
  },
  {
   "cell_type": "markdown",
   "metadata": {},
   "source": [
    "## 1b) customers answers"
   ]
  },
  {
   "cell_type": "markdown",
   "metadata": {},
   "source": [
    "### i) Return the city with the highest population growth. (Highest net of people who currently live there minus people who used to live there)\n",
    "\n",
    "  ```SQL\n",
    "  CREATE TABLE inward_migration AS\n",
    "  (SELECT current_city, COUNT(*) AS net_in\n",
    "  FROM customers\n",
    "  GROUP BY current_city)\n",
    "\n",
    "  CREATE TABLE outward_migration AS\n",
    "  (SELECT hometown, COUNT(*) AS net_out\n",
    "  FROM customers\n",
    "  GROUP BY hometown)\n",
    "\n",
    "  SELECT a.current_city AS city,\n",
    "    a.net_in - b.net_out AS net_immigration\n",
    "  FROM inward_migration a\n",
    "  JOIN outward_migration b\n",
    "  ON a.current_city = b.hometown\n",
    "  ORDER BY net_immigration DESC\n",
    "  LIMIT 1\n",
    "  ```"
   ]
  },
  {
   "cell_type": "markdown",
   "metadata": {},
   "source": [
    "### ii) Return pairs of \"friends\" (can be two columns or a tuple) that have both the same hometown and current city. Remove duplicates!\n",
    "\n",
    "  ```SQL\n",
    "  SELECT a.cust_id AS friend1, b.cust_id AS friend2\n",
    "  FROM customers a\n",
    "  JOIN customers b\n",
    "  ON a.hometown = b.hometown\n",
    "  AND a.current_city = b.current_city\n",
    "  WHERE a.cust_id < b.cust_id\n",
    "  ```"
   ]
  },
  {
   "cell_type": "raw",
   "metadata": {},
   "source": []
  },
  {
   "cell_type": "raw",
   "metadata": {},
   "source": []
  },
  {
   "cell_type": "markdown",
   "metadata": {},
   "source": [
    "# 3. Distributions"
   ]
  },
  {
   "cell_type": "markdown",
   "metadata": {},
   "source": [
    "http://www.cs.elte.hu/~mesti/valszam/kepletek.pdf"
   ]
  },
  {
   "cell_type": "markdown",
   "metadata": {},
   "source": [
    "### Beta distribution:\n",
    "$B(\\alpha, \\beta) $\n",
    "\n",
    "$\\alpha = 1 + (\\#successes)$\n",
    "\n",
    "$\\beta = 1 + (\\#failures)$\n",
    "\n",
    "http://stats.stackexchange.com/a/47782"
   ]
  },
  {
   "cell_type": "markdown",
   "metadata": {},
   "source": [
    "# 4. Hypothesis testing\n",
    "\n",
    "https://github.com/gschool/DSI_Lectures/blob/master/ab-testing/tammy_lee/lecture.pdf"
   ]
  },
  {
   "cell_type": "code",
   "execution_count": null,
   "metadata": {
    "collapsed": true
   },
   "outputs": [],
   "source": []
  }
 ],
 "metadata": {
  "anaconda-cloud": {},
  "kernelspec": {
   "display_name": "Python 3",
   "language": "python",
   "name": "python3"
  },
  "language_info": {
   "codemirror_mode": {
    "name": "ipython",
    "version": 3
   },
   "file_extension": ".py",
   "mimetype": "text/x-python",
   "name": "python",
   "nbconvert_exporter": "python",
   "pygments_lexer": "ipython3",
   "version": "3.6.2"
  }
 },
 "nbformat": 4,
 "nbformat_minor": 1
}
