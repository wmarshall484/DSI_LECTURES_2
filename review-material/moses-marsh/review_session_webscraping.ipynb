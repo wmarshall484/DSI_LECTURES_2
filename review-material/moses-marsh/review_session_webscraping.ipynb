{
 "cells": [
  {
   "cell_type": "markdown",
   "metadata": {},
   "source": [
    "## Web Scraping"
   ]
  },
  {
   "cell_type": "code",
   "execution_count": 1,
   "metadata": {
    "collapsed": true
   },
   "outputs": [],
   "source": [
    "import requests\n",
    "from bs4 import BeautifulSoup"
   ]
  },
  {
   "cell_type": "code",
   "execution_count": 2,
   "metadata": {
    "collapsed": true
   },
   "outputs": [],
   "source": [
    "ebay_url = 'http://www.ebay.com/sch/board+games'"
   ]
  },
  {
   "cell_type": "code",
   "execution_count": 3,
   "metadata": {
    "collapsed": true
   },
   "outputs": [],
   "source": [
    "response = requests.get(ebay_url)"
   ]
  },
  {
   "cell_type": "code",
   "execution_count": 4,
   "metadata": {
    "collapsed": true
   },
   "outputs": [],
   "source": [
    "soup = BeautifulSoup(response.text, \"html.parser\")"
   ]
  },
  {
   "cell_type": "code",
   "execution_count": 15,
   "metadata": {
    "collapsed": false
   },
   "outputs": [
    {
     "data": {
      "text/plain": [
       "[u'http://www.ebay.com/itm/Last-Night-on-Earth-Board-Game-/332074984016?hash=item4d51362250:g:LqwAAOSwUKxYY~eW',\n",
       " u'http://www.ebay.com/itm/Scythe-Board-Game-Stonemaier-NEW-Factory-Sealed-/172453483331?hash=item2827075343:g:tlUAAOSw65FXqgsD',\n",
       " u'http://www.ebay.com/itm/Operation-Game-Classic-Version-by-Hasbro-Family-Board-Game-NEW-Free-Shipping-/122298372977?hash=item1c798d1371:g:ebMAAOSwImRYbQ6j',\n",
       " u'http://pulsar.ebay.com/plsr/clk/0/SADS/9?pld=%7B%22mecs%22%3A%221523814123607a7b791296704874a326705712f48117%22%2C%22enc%22%3A%22AQABAAACULmQa24OtTHRaocrSZUBEXeVriA3zEjtpbDl4HWh%2BKFxRZfTYaCxZCG4ZVKzMs2Q2kH3jGY1nI7DzEbmL3AkZ25CkUSwj5CZ8AWRhO4vDwV%2BovOX%2B%2B1t6siAKL1MWOjZIkxsUpnwtsXVAufsjpzoHwj8dHAQXBQGe1DKwn1niqN7oi5WAmh61kmPLMAwNo5R%2BjbTbync4T0IESzy76Z%2BdvR8klnxkn6fO4K9Fn85gqhX9tr5ZWpebSouWDulWOsAZ8%2FT9a3l6%2BiLfM9jc2vJLtWDDtt6e4PJsJJwIjHzdL4eS95uG%2BMd5IRZDvsWs8lqshL%2BQc7SwI1AgPeYUQ9ucKuSD35d29JE1I0coFMKH%2F3h5%2Bc8l9%2B9vxQAqfxftD7lsbEvU3O3fzfVr0dJGZbx6td020cvG%2FkcYIQnTNDGUM36u%2BIcTsO1ygAkRtWarAp5EU8CTVBwCKfIeigfz6Jpqt8GD94LqRpchDSCaSA18glHCKuEMb%2ByWkipmxb%2BlMb4Itaz70x7Yf%2BZVD56yY1tZfDhWeBUHmU%2FUeQDbB2aO%2BX6uiQiQ3SYGoIpWIeVHvV%2BS5xyOUpqtRQQ0KArWjMtjjCgIzbXoMT4dI77fpdjUzdGHr79cY7xEQ6svN0hdm1R83vDDG4%2BR1q7EufYUKdAofRBjUAD4a1wb6tHsrTuLrkler0TKuEE59uNyAcNlYDnqXXTj9VRJhB7I7azm6XVYt28aTmuilElUDOF7C%2BYxqHOzigF8VtuqBhcBmsbmtnwdQw3laYjVGPHqj6sruw88T8%3D%22%7D',\n",
       " u'http://pulsar.ebay.com/plsr/clk/0/SADS/9?pld=%7B%22mecs%22%3A%22291979645899b6a9426826aa406aa3bdb540131fdcde%22%2C%22enc%22%3A%22AQABAAACcLmQa24OtTHRaocrSZUBEXfEKJ7tMIaePAiI5GY2%2FdDmlCpJ53OO91PX5D0Zlm3O1PWERIrwJYzje%2BwzzqBUrkW7N4bK%2FIlmTNqCw0aaDGMiVV2z7JiG63zNCrKwTTT%2FHNdsgWCXAzTpNBkidV%2Bqn6q1y%2FwJ%2BXylWOrORQb9OYpg7jG6jHfpZZ5lfybv2l00AAoFtTxQj2C3lvUpLvZpzgNZ4LxKWD9v4r94nz5Rw7D3e8Gkq7dmAyT%2FdWJBJ5So8M%2FAQtdtgUHdyl0uf2DnA7fMEkPnn4JaTnMp4SvbYa%2BGmhooiY%2FtUHUwRPsNFSP%2BphDIiNZOOh1CqEptHBlGPxVuKjomfYDgugdsf9e7NG%2BHhzroelv%2FdYBFtal0EGolHCYpdLE%2FREzHm8ryAV2KG3QqBfSQ8tp%2FI4BRViXLeV07iK%2BWGsa5O6Zqy2g7OMBU84MAskigIX2s59KVwRkTvqUw%2F5nGVotUxireFkNOEuatftf0MDC8FpKJnf6IaRXSxbjdFAP71uVfuG5gSPTZwb%2BXcxxFer7ui5QT2rprWt54ON2VvrsUXnvfB90Qwea%2BUCU7PEOUmjUxmsDsYmOmJGJHs0viPiICyzjEGSJgWPNh3EiihcharrsBLu84dHM7o7O8dsJycWgWetfTlhH182dfq5Nyb45CjDryjbnUGB%2FXJBH6umQHo6RyM8%2BnO5efk66XmDXbxjZSfj6xf29nLC3N5u0QMEmETOvulyj4GSkmGM8oTQvcCu8nGuliXx0KlsoAmpoWtoxjJxP%2B9%2B9zVhvspBeYgqiXLx3U3ibk8BcImIyyEvMRT1fkUZfNDJHl5g%3D%3D%22%7D',\n",
       " u'http://www.ebay.com/itm/Monopoly-Museum-Luxury-Collectors-Edition-Wood-Classic-Board-Game-/252572976875?hash=item3ace85c6eb:g:BdoAAOSwLnBX9riv',\n",
       " u'http://www.ebay.com/itm/Pavilion-Games-Deluxe-Backgammon-Board-Game-in-Aluminum-Case-/172437118502?hash=item28260d9e26:g:VtEAAOSw5dNWr70n',\n",
       " u'http://www.ebay.com/itm/SETTLERS-OF-CATAN-10-BOARD-GAME-SET-BUNDLE-EXPANSIONS-5th-EDITION-/360385202866?hash=item53e8a1cab2:g:DeUAAOSwT6pVnWEh',\n",
       " u'http://www.ebay.com/itm/Lot-of-3-Board-Games-Monopoly-com-edition-Life-Taboo-/192064139057?hash=item2cb7ea2f31:g:M7MAAOSwUKxYY~e6',\n",
       " u'http://www.ebay.com/itm/Posthuman-Board-Game-Kickstarter-includes-Defiant-expansion-exclusives-/142226810257?hash=item211d60e591:g:UrYAAOSwA3dYWryy',\n",
       " u'http://www.ebay.com/itm/NEW-SEALED-MONOPOLY-GAME-MINI-BOARDGAME-KEYCHAIN-HASBRO-/201747832147?hash=item2ef91b9d53:g:uE8AAOSwiDFYM1m5',\n",
       " u'http://www.ebay.com/itm/Amateurs-To-Arms-Board-Game-Unpunched-Clash-of-Arms-Games-War-of-1812-/172465927196?hash=item2827c5341c:g:OC4AAOSwUKxYZqs~',\n",
       " u'http://www.ebay.com/itm/2016-New-Funny-Speak-Out-Board-Game-Mouthguard-Challenge-Game-Christmas-Gift-/222334849330?hash=item33c4309132:g:gykAAOSw4GVYPN1N',\n",
       " u'http://www.ebay.com/itm/Pokemon-Master-Trainer-1999-Edition-Board-Game-NEW-SEALED-NIB-COMPLETE-/272506733619?hash=item3f72aac433:g:2RUAAOSw2xRYacl6',\n",
       " u'http://www.ebay.com/itm/Zombies-Directors-Cut-Board-Game-Second-Edition-Twilight-Creations-/172465865046?hash=item2827c44156:g:Q6sAAOSwjDZYZp6w',\n",
       " u'http://www.ebay.com/itm/2016-Speak-Out-Board-Game-Mouthguard-Challenge-Game-Best-Christmas-Gift-/232144157344?hash=item360cdebaa0:g:oFUAAOSwA3dYKqCB',\n",
       " u'http://www.ebay.com/itm/Great-Western-Trail-Board-Game-New-Sealed-Stronghold-Games-Slightly-Damaged-Box-/222350947484?hash=item33c526349c:g:I5AAAOSw2xRYRzE1',\n",
       " u'http://www.ebay.com/itm/STAR-WARS-REBELLION-board-game-Fantasy-Flight-Games-NEW-/262791630454?hash=item3d2f9a0e76:g:ZJIAAOSw9GhYbD6~',\n",
       " u'http://www.ebay.com/itm/Watch-Your-Mouth-Board-Game-Party-Watch-ya-Mouth-Hot-Funny-Family-Game-NEW-/311751342890?hash=item4895d3fb2a:g:mkoAAOSw4GVYHBVh',\n",
       " u'http://www.ebay.com/itm/19-family-board-game-lot-all-complete-MB-History-others-/322372828242?hash=item4b0eeafc52:g:WcMAAOSwUKxYY~8I',\n",
       " u'http://www.ebay.com/itm/Space-Hulk-2009-Edition-Board-Game-CUSTOM-w-PAINTED-MINIATURES-FREE-Battlefoam-/302179607715?hash=item465b4ee4a3:g:TtkAAOSwUKxYZAS-',\n",
       " u'http://www.ebay.com/itm/Cosmic-Encounter-Avalon-Hill-Hasbro-Space-Alien-Board-Game-Good-Condition-/232188923977?hash=item360f89d049:g:TCEAAOSw5cNYWrlp',\n",
       " u'http://pulsar.ebay.com/plsr/clk/0/SADS/9?pld=%7B%22mecs%22%3A%223020496724924640d6f78a274ca9aafb79c8ec686c11%22%2C%22enc%22%3A%22AQABAAACULmQa24OtTHRaocrSZUBEXe7LhK3GTI6E7NmSfRYlzulIDnuspk02Ym9q%2BDz6Grr8n5lUjd2MCmvnN9cAtUFEoC%2Be04rJhDwtqMLkC2ifaLLwOgiGmteovt6%2BS3mdOCuzfoBlHxagJf5sH9yvzUQFoNwd6%2FYNANfU2pjhiE%2BLga0x3UmoZ1jvlRcbFxlkoPZRsk4jz7TB7N2ZXxqG8BxDw9NVxE%2BeYbi%2BXWZa1vWhnbVx0bt9lTkGzVOETwvSQrmMdvvP2sLShJ%2FJWdmEQzsULutOEU1AozpVKAZGlw1F%2F%2Be5%2FYJk5KpLB6uAi25BIcrpsiea9HZowYH9FU4H1xge3J8aHlOHRIaB6rB61d9YcpuFNjgNCGBDQtJ8MZQx%2FgAEBYstNpVGJoJkyXDEc1b6Dxr62owq9oBE34nMnGbNnc9b7efliNey3Q1VQVpoR0RIgUkSq1rE7OcLGp00OPn6VWxXtJEh936yTyZmjnOrVU9me8suUh6SC3n3w4cSJxSPS1J6MHGuR0pUx0JqHUgf7IQXLhAhVrhCi%2FpAeyhsfE0Wrl%2FD0G4W6V1hGx4gi0v3g0LqP0S9w%2BmZE%2BA%2Bpg6pFe3rDdFUWtQPG%2FBRRLB55CfZUXjvBZ%2FrdLgnbN36zJ6YE91sL3YbeYOxaCs3uaRQYRbYSjAvVpFw8Q1Cc9dnerXmJ1eSpArcNvMbdU7e9zlDcTidyOxJGqejqOFPrN4SxihaeeaqtwTt6gNTOw7ESfw2y47cDdqxY%2B9EHzEnCuPM5cFJeYGPhvX%2BREYUEDiup8%3D%22%7D',\n",
       " u'http://pulsar.ebay.com/plsr/clk/0/SADS/9?pld=%7B%22mecs%22%3A%22291942357879f643d318fa6445b7a87c3b0da4f7e994%22%2C%22enc%22%3A%22AQABAAACULmQa24OtTHRaocrSZUBEXf54QhaQAEr3D4btvUJBUNd3G3qe7J6OPWOAQlk1%2BO8mXfmHRz%2F4cwzobcyN1KUSCmCPWxFpZegTSotHce0ox3rVitr3TCZHlIuHiq0L9muZCfzCJhEn4lO0ylrvI5%2FTJtKTecfUG6EH2wgX5LbFgcE9SMJm%2BmFGKGaJSpfc0RPv0H%2BLZAcin0DPoxUXVrhaFxZBVjh6TDTwXBdqOIHtdCpRNjL%2Fn%2FAt1FLq3aVI8nF8UA0OiiVq9e5k3M%2BOVU%2F54B5wnSDrxivtSb2kT5Lt6SKx163iJiumcRw%2BruZV5pgk08eF15%2F%2BrTzX0Qu8CpsIPQ5G541tgk%2F3%2Bg2MGlg3tsvZ8wBL6Q9%2F4Ftbd5%2BXyzU%2FuAwFmLJcamCI9m3IxX%2BG04DYdJLrAFsmAso6qrRP3JqRslJns1gfjDdvZTdyRqhyvEoCCbdhy5U5yb%2Bqqzi39CURXaKKKCPHm8dg2KFsVWPw939MxsuGmcNwKtKoXndb7JbJzxYj0IPHzYrDy7XDHyJqBSR7H2u1ThXy8EUw15Qkz%2FrgL8ShvQ8pt8NEXU%2FoI8Twf6g%2BKmPK%2BGdNS09nFGcPPHhPwYjPo0Cr%2Bq%2Bvc7otYDoH%2FulZ5RyYFyIZ%2BjO3PfCUVyudBUM5o5JzkvlupS1txaVki8cRjaC3nHIw8UhzfGkzCGj3PIMi0lOgFhQQAM%2FUB3wGCkv5C2T1uIjyKjw7Svm9gqfzkihfWRuisofAwlYsWLhadIVtMbH%2FRb4ZcKP9H3xWCRi%2F%2Fewk61htrA%3D%22%7D',\n",
       " u'http://www.ebay.com/itm/Axis-Allies-Battle-of-the-Bulge-Board-Game-by-Avalon-Hill-WOTC-NEW-SEALED-/112258127153?hash=item1a231b1531:g:mQUAAOSwcUBYUum3',\n",
       " u'http://www.ebay.com/itm/HOT-2016-New-Funny-Speak-Out-Board-Game-Mouthguard-Challenge-Game-Christmas-Gift-/132011832274?hash=item1ebc84b3d2:g:9MkAAOSw-0xYQ528',\n",
       " u'http://www.ebay.com/itm/Libellud-Games-Mysterium-Board-Game-New-/151849112769?hash=item235ae994c1:g:60QAAOSw5VFWHtqM',\n",
       " u'http://www.ebay.com/itm/Speak-Out-Board-Party-Mouthguard-Challenge-Family-Game-child-Adult-Xmas-Gift-US-/182370216625?hash=item2a761caab1:g:kiIAAOSwEzxYPPiv',\n",
       " u'http://www.ebay.com/itm/NEW-Captain-Sonar-Board-Game-Sealed-in-Original-Packaging-Free-Shipping-NOW-/291937415727?hash=item43f8d3722f:g:Lp4AAOSwo4pYIiDH',\n",
       " u'http://www.ebay.com/itm/Scythe-Board-Game-Collectors-Kickstarter-Edition-NEW-SEALED-Stonemaier-/361865989482?hash=item5440e4cd6a:g:HSEAAOSwHMJYOmNv',\n",
       " u'http://www.ebay.com/itm/HOT-2016-New-Funny-Speak-Out-Board-Game-Mouthguard-Challenge-Game-Christmas-Gift-/112204035134?hash=item1a1fe1b43e:g:KUcAAOSwXeJYKWk~',\n",
       " u'http://www.ebay.com/itm/Twilight-Struggle-Board-Game-Promo-Cards-/291985190848?hash=item43fbac6fc0:g:eogAAOSwopRYZFz3',\n",
       " u'http://www.ebay.com/itm/1999-Pokemon-Master-Trainer-Board-Game-Missing-1-piece-/142228762139?hash=item211d7eae1b:g:QdwAAOSw5cNYZpvu',\n",
       " u'http://www.ebay.com/itm/Rubiks-Race-Board-Game-by-University-Games-01811-/122260074238?hash=item1c7744aefe:g:6SIAAOSw44BYR1Eg',\n",
       " u'http://www.ebay.com/itm/Rise-of-Empires-Board-Game-Mayfair-Games-Martin-Wallace-PHA6029-New-/171828355363?hash=item2801c4a123:g:WjYAAOSw~gRVgJjo',\n",
       " u'http://www.ebay.com/itm/Mansions-of-Madness-2nd-Edition-Board-Game-Fantasy-Flight-Exclusive-Brand-NEW-/401209388181?hash=item5d69f16c95:g:JeIAAOSwxKtYBqQp',\n",
       " u'http://www.ebay.com/itm/2016-Speak-Out-Board-Game-Mouthguard-Challenge-Game-Best-Christmas-Gift-/201749226429?hash=item2ef930e3bd:g:9MkAAOSw-0xYQ528',\n",
       " u'http://www.ebay.com/itm/Tail-Feathers-Board-Game-ZMG-PHG11500-/322378965973?hash=item4b0f48a3d5:g:YtIAAOSw9GhYapSw',\n",
       " u'http://www.ebay.com/itm/Board-Game-Lot-Game-of-Thrones-1st-ed-Carcassonne-Munchkin-Fu-/201764566241?hash=item2efa1af4e1:g:~uUAAOSw9GhYY~5C',\n",
       " u'http://www.ebay.com/itm/Carcassonne-Big-Box-5-Exclusive-Z-Man-Games-Board-Game-ALL-EXPANSIONS-RARE-NEW-/381828082731?hash=item58e6ba2c2b:g:5-8AAOSwHMJYEQTC',\n",
       " u'http://www.ebay.com/itm/CLUE-PARKER-BROTHERS-CLASSIC-DETECTIVE-BOARD-GAME-1996-SEALED-/152364631096?hash=item2379a3c438:g:hgUAAOSwnHZYWoxE',\n",
       " u'http://www.ebay.com/itm/Tiki-Topple-Board-Game-NEW-Still-in-Shrink-wrap-RARE-OOP-/172463272841?hash=item28279cb389:g:yXEAAOSwImRYZB5w',\n",
       " u'http://www.ebay.com/itm/Fraidy-Cats-Milton-Bradley-Board-Game-1994-Motorized-Dog-1994-COMPLETE-/222359897477?hash=item33c5aec585:g:JTwAAOSwImRYWATx',\n",
       " u'http://www.ebay.com/itm/Days-of-Wonder-Memoir-44-Board-Game-New-/161453654802?hash=item2597634312:g:aUUAAOSwY45UQGQU',\n",
       " u'http://www.ebay.com/itm/Franklin-Mint-The-Collectors-Edition-Wood-Board-Monopoly-Game-/132042033181?hash=item1ebe51881d:g:L7sAAOSw44BYXC0M',\n",
       " u'http://www.ebay.com/itm/Monopoly-Millionaire-Edition-Board-Game-by-Hasbro-NIB-Sealed-/291984771181?hash=item43fba6086d:g:RoMAAOSwnHZYY9Xg',\n",
       " u'http://www.ebay.com/itm/Thinkfun-Roll-and-Play-Board-Game-New-Free-Shipping-/351941804078?hash=item51f15dc02e:g:yDIAAOSw~OdVZnPs',\n",
       " u'http://www.ebay.com/itm/VINTAGE-CATCH-PHRASE-PARKER-BROTHERS-ELECTRONIC-BOARD-GAME-NEW-SEALED-/222360284276?hash=item33c5b4ac74:g:IcwAAOSw-0xYZHSu',\n",
       " u'http://www.ebay.com/itm/Ticket-to-Ride-10th-Anniversary-Edition-Board-Game-New-/151340427909?hash=item233c97aa85:g:XWQAAOSwd4tTrhzI',\n",
       " u'http://www.ebay.com/itm/CRANIUM-THE-BEST-OF-CRANIUM-BOARD-GAME-BY-HASBRO-age-16-NEW-FACTORY-SEALED-/132020691062?hash=item1ebd0be076:g:UJ0AAOSwB09YM-YT',\n",
       " u'http://www.ebay.com/itm/BioShock-Infinite-The-Siege-of-Columbia-BOARD-GAME-NEW-FREE-SHIPPING-/322271059401?hash=item4b08da1dc9:g:-SAAAOSwCGVX5Yyx',\n",
       " u'http://www.ebay.com/itm/Fantasy-Flight-Games-Talisman-BOARD-GAME-The-Cataclysm-Game-BOARD-GAME-/302004501767?hash=item4650defd07:g:CYkAAOSwRQlXekaz',\n",
       " u'http://www.ebay.com/itm/Shogun-Big-Box-Board-Game-Kickstarter-Edition-Expansions-Queen-Games-/291985159932?hash=item43fbabf6fc:g:5EoAAOSwt5hYZE9J',\n",
       " u'http://www.ebay.com/itm/Buffy-the-Vampire-Slayer-Board-Game-NEW-SEALED-2000-Milton-Bradley-Hasbro-Angel-/112251569585?hash=item1a22b705b1:g:iZAAAOSwEzxYUHau',\n",
       " u'http://pulsar.ebay.com/plsr/clk/0/SADS/9?pld=%7B%22mecs%22%3A%221320052571739234b50046454fe492104e6e95e5252c%22%2C%22enc%22%3A%22AQABAAACQLmQa24OtTHRaocrSZUBEXdH4Gwhgbe%2Fmf1Q7979KxHrRkMRlhgCNSGSjtnoGshgRD3C41CPyeH6zP1VXUh6QUAOxmJokryaP4ylZXcMBg7TQzsn8QFo9N6f9FPFaA%2FNUF8gzYqQBbxn%2FXsxTttlCvJQthT3PdSQqn2zOeYMgKNfeMm2NlrtlzzK%2F%2BFiNdaLmIV9Ub8kugcW51aF9ncx7YjbuUjp2WyBKtRKcfAmFoqiRtbeuysf1qP77sN7syD1KVNANdKYOmgRzlSi2AzmwRJTdjqZWhvYgORSK0MctCtiJQBwHDPbnv2c0lsRZhkvgXCRpLF4iYphPMAqjXGP%2FPUoJ6vxIIVI5sK7hjrNRyYiswL%2FqKxbLcInV4ewVfPCZ%2BMSPtrEcfH5cBxLQJ3aX2x8pmoPIcAPQZDlek5eMCs1Q8TmHFCpe5O%2FLDc%2Fs1694JRVIxvhHSxWg46Cq0lp9uk4HqNAJ4tCZz%2FyD6wrUp0548NXs2i9FPpUJ7Ik7uIGCXbzEM6hrP7VXXqVfOXeN47wvvCCSlsbwargO%2FrkVXK66bKtv8P1UeGpYI62FFdRBCZD1xgiizv4POTAfCJwfU3Yp7AU0nMTxnzpn6jyqKCRVMOVA%2FYEgvewYQNbArnjc4UxFUKIuRAvBxNdD08FKUXZcH4mAQFkFY2%2FME3HxUVdk3AYI42FcX4vIloJrS6AxDYI6AyWSmL87WgEn%2FLFTwhfK8GZ7SXeR%2BkacmihFtZJ4%2F0v3A0efQyw5fhbTlP5iA%3D%3D%22%7D',\n",
       " u'http://pulsar.ebay.com/plsr/clk/0/SADS/9?pld=%7B%22mecs%22%3A%2211220712352363b3d20bb6084bb1b8f18e9ece4972b7%22%2C%22enc%22%3A%22AQABAAACYLmQa24OtTHRaocrSZUBEXd6i2had9uVarkfs64oVx0awg7bTQlQvFFeH8pp0ZOzAIJf8zsGi6o%2FzlvXJywa0Iwnqg%2FuJgDPUqOR065WHWmKq6%2BO1XjT3c4iBNzXsarc59HTUEQ5uTwtw%2F7eUM9lodSZUOHJKfisD0l2M3SC%2FotGnyGOyQArmc3FRs8D%2F%2FEG6AJkJKTgQpxklOL65xDGG4JVbcUE5MV7Me1swKpMTPG59huurSNO2oplqhYMRS3iQuZbFtPXCKHitLMu94ovIBc2yy7VXsexDFdXRbVNlO0CBusFbaIyly1IRYUlR036ApTKBPm0D3rBZyVyGBvbChtd7csWqCbtLSwT1KBLAEVhdc0zNpSNtdB8yC4Y1axFXI%2BOcz4qlfJ1TgKOJ0z4xSWGm6S4qcgnjfbWIKIkaQihUachlzGq8oJwEZwfFsssyHleS%2FPRPxLDTBi2CRkhg8g7kM%2FxMSOGWIAxjH8Fp%2BO4oMVCwV5PPba4WCfq08C%2FuHH56VNIlqJQuX0F9ic3pRZ5IvpAimYMqw62jOz3kdbCGYimzAvgQZFgTNF1HIJqV2vTN2XQqG2AO840PQYNbX48ycJFp3pOp9im3cAZpMWUJ6FskdV%2Fovnd3vqjjDMrBRrK5LT0cpnlw9Ea7DLS%2BUlslffoXuTN8itdx5g6OFyOz8OFsu7DNmB6D7sJ3VGBLcOsAjhYPXgEtS%2FHk05lPjomSKeuXw1aeu%2BMwCB2JeGgxNYKk%2FUGdGrtkQfHSzZCHFPWAc4Q4FKTi4g%2Fn14d3sBuwPzQdfME5nHcI5%2F9YhSr%22%7D']"
      ]
     },
     "execution_count": 15,
     "metadata": {},
     "output_type": "execute_result"
    }
   ],
   "source": [
    "[tag['href'] for tag in soup.find_all('a', class_='vip')]"
   ]
  },
  {
   "cell_type": "code",
   "execution_count": null,
   "metadata": {
    "collapsed": true
   },
   "outputs": [],
   "source": []
  },
  {
   "cell_type": "code",
   "execution_count": null,
   "metadata": {
    "collapsed": true
   },
   "outputs": [],
   "source": []
  },
  {
   "cell_type": "code",
   "execution_count": null,
   "metadata": {
    "collapsed": true
   },
   "outputs": [],
   "source": []
  },
  {
   "cell_type": "code",
   "execution_count": null,
   "metadata": {
    "collapsed": true
   },
   "outputs": [],
   "source": []
  },
  {
   "cell_type": "code",
   "execution_count": null,
   "metadata": {
    "collapsed": true
   },
   "outputs": [],
   "source": []
  },
  {
   "cell_type": "code",
   "execution_count": null,
   "metadata": {
    "collapsed": true
   },
   "outputs": [],
   "source": []
  },
  {
   "cell_type": "code",
   "execution_count": null,
   "metadata": {
    "collapsed": true
   },
   "outputs": [],
   "source": []
  },
  {
   "cell_type": "code",
   "execution_count": null,
   "metadata": {
    "collapsed": true
   },
   "outputs": [],
   "source": []
  },
  {
   "cell_type": "code",
   "execution_count": null,
   "metadata": {
    "collapsed": true
   },
   "outputs": [],
   "source": []
  },
  {
   "cell_type": "code",
   "execution_count": null,
   "metadata": {
    "collapsed": true
   },
   "outputs": [],
   "source": []
  },
  {
   "cell_type": "code",
   "execution_count": null,
   "metadata": {
    "collapsed": false
   },
   "outputs": [],
   "source": [
    "soup.find('img')"
   ]
  },
  {
   "cell_type": "code",
   "execution_count": null,
   "metadata": {
    "collapsed": false
   },
   "outputs": [],
   "source": [
    "soup.find(class_='img imgWr2')"
   ]
  },
  {
   "cell_type": "code",
   "execution_count": null,
   "metadata": {
    "collapsed": false,
    "scrolled": true
   },
   "outputs": [],
   "source": [
    "soup.find(class_='img imgWr2').img['src']"
   ]
  },
  {
   "cell_type": "code",
   "execution_count": null,
   "metadata": {
    "collapsed": false,
    "scrolled": true
   },
   "outputs": [],
   "source": [
    "soup.find(class_='img imgWr2')['href']"
   ]
  },
  {
   "cell_type": "code",
   "execution_count": null,
   "metadata": {
    "collapsed": false
   },
   "outputs": [],
   "source": [
    "soup.find('h3', class_='lvtitle').a['href']"
   ]
  },
  {
   "cell_type": "code",
   "execution_count": null,
   "metadata": {
    "collapsed": true
   },
   "outputs": [],
   "source": [
    "soup.find?"
   ]
  },
  {
   "cell_type": "code",
   "execution_count": null,
   "metadata": {
    "collapsed": true
   },
   "outputs": [],
   "source": [
    "soup.find_all?"
   ]
  },
  {
   "cell_type": "code",
   "execution_count": null,
   "metadata": {
    "collapsed": false
   },
   "outputs": [],
   "source": [
    "for tag in soup.find_all('h3', class_='lvtitle'):\n",
    "    print tag.a['href']"
   ]
  },
  {
   "cell_type": "code",
   "execution_count": null,
   "metadata": {
    "collapsed": true
   },
   "outputs": [],
   "source": []
  }
 ],
 "metadata": {
  "anaconda-cloud": {},
  "kernelspec": {
   "display_name": "Python [default]",
   "language": "python",
   "name": "python2"
  },
  "language_info": {
   "codemirror_mode": {
    "name": "ipython",
    "version": 2
   },
   "file_extension": ".py",
   "mimetype": "text/x-python",
   "name": "python",
   "nbconvert_exporter": "python",
   "pygments_lexer": "ipython2",
   "version": "2.7.12"
  }
 },
 "nbformat": 4,
 "nbformat_minor": 2
}
