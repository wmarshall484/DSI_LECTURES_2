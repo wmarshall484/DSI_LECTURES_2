{
 "cells": [
  {
   "cell_type": "markdown",
   "metadata": {},
   "source": [
    "# TensorFlow Basics\n",
    "\n",
    "TensorFlow describes itself as \"an end-to-end open source machine learning platform\".\n",
    "\n",
    "This describes its _purpose_ but not its _function_. In fact, TensorFlow is a tool for performing gradient descent on arbitrarily complicated functions. \n",
    "\n",
    "To achieve this:\n",
    "* TensorFlow users define a computation in terms of a **graph**. \n",
    "* Once the graph is defined, TensorFlow can use backpropagation to find the gradients of the computational graph inputs with respect to its outputs, \n",
    "* which can in turn be used to optimize the function.\n",
    "\n",
    "The inputs and outputs of the computational graph are called **tensors**, which are a high-dimensional generalization of numbers. Forward- and back-propagation of tensors **flows** through the graph, hence **TensorFlow**.\n",
    "\n",
    "Once you get this running you can gradient-descend any differentiable function, thereby optimizing any **convex** function."
   ]
  },
  {
   "cell_type": "markdown",
   "metadata": {},
   "source": [
    "## Computation Graph"
   ]
  },
  {
   "cell_type": "code",
   "execution_count": 1,
   "metadata": {},
   "outputs": [],
   "source": [
    "import numpy as np\n",
    "from matplotlib import pyplot as plt"
   ]
  },
  {
   "cell_type": "markdown",
   "metadata": {},
   "source": [
    "Say we have some arbitary function:\n",
    "\n",
    "$$f(x) = 3x^2 + 4x$$\n",
    "\n",
    "In standard Python style, we could implement it with a single function:\n",
    "\n",
    "```\n",
    "x ---> [3x^2 + 4x] ---> output\n",
    "```"
   ]
  },
  {
   "cell_type": "code",
   "execution_count": 2,
   "metadata": {},
   "outputs": [
    {
     "data": {
      "text/plain": [
       "[<matplotlib.lines.Line2D at 0x7f1ff9e5dda0>]"
      ]
     },
     "execution_count": 2,
     "metadata": {},
     "output_type": "execute_result"
    },
    {
     "data": {
      "image/png": "[encoded data removed]",
      "text/plain": [
       "<Figure size 432x288 with 1 Axes>"
      ]
     },
     "metadata": {
      "needs_background": "light"
     },
     "output_type": "display_data"
    }
   ],
   "source": [
    "def foo(x):\n",
    "    return 3*x**2 + 4*x\n",
    "\n",
    "x = np.linspace(-10,10)\n",
    "y = foo(x)\n",
    "\n",
    "plt.plot(x,y)"
   ]
  },
  {
   "cell_type": "markdown",
   "metadata": {},
   "source": [
    "Two things are notable about this approach.\n",
    "\n",
    "**1: It's eager**\n",
    "\n",
    "The result is immediately computed when the function is called."
   ]
  },
  {
   "cell_type": "code",
   "execution_count": 3,
   "metadata": {},
   "outputs": [
    {
     "data": {
      "text/plain": [
       "480"
      ]
     },
     "execution_count": 3,
     "metadata": {},
     "output_type": "execute_result"
    }
   ],
   "source": [
    "foo(12)"
   ]
  },
  {
   "cell_type": "markdown",
   "metadata": {},
   "source": [
    "**2: It's all one step**\n",
    "\n",
    "The computation is difficult to analyze because it has been baked into a single step.\n",
    "\n",
    "Alternatively, we could break the computation apart into a graph:"
   ]
  },
  {
   "cell_type": "markdown",
   "metadata": {},
   "source": [
    "```\n",
    "[3]-------\n",
    "          \\\n",
    "[2]---[^]--[*]---[+]--->\n",
    "    /          /\n",
    "[x]---[*]------   \n",
    "    /\n",
    "[4]-\n",
    "```"
   ]
  },
  {
   "cell_type": "code",
   "execution_count": 4,
   "metadata": {},
   "outputs": [],
   "source": [
    "import tensorflow as tf"
   ]
  },
  {
   "cell_type": "code",
   "execution_count": 5,
   "metadata": {},
   "outputs": [],
   "source": [
    "# constants at the left of the graph\n",
    "const_3 = tf.constant(3.0)\n",
    "const_2 = tf.constant(2.0)\n",
    "const_4 = tf.constant(4.0)"
   ]
  },
  {
   "cell_type": "code",
   "execution_count": 6,
   "metadata": {},
   "outputs": [],
   "source": [
    "# variable at the left\n",
    "x_var = tf.Variable(1.0, name=\"x\") #0.0 is a placeholder value"
   ]
  },
  {
   "cell_type": "code",
   "execution_count": 7,
   "metadata": {},
   "outputs": [],
   "source": [
    "# x^2 output\n",
    "pow_0 = tf.pow(x_var, const_2)"
   ]
  },
  {
   "cell_type": "code",
   "execution_count": 8,
   "metadata": {},
   "outputs": [],
   "source": [
    "# 4x output\n",
    "mul_0 = tf.multiply(x_var, const_4)\n",
    "# 4*(x^2) output\n",
    "mul_1 = tf.multiply(pow_0, const_4)"
   ]
  },
  {
   "cell_type": "code",
   "execution_count": 9,
   "metadata": {},
   "outputs": [
    {
     "data": {
      "text/plain": [
       "<tf.Tensor: id=16, shape=(), dtype=float32, numpy=8.0>"
      ]
     },
     "execution_count": 9,
     "metadata": {},
     "output_type": "execute_result"
    }
   ],
   "source": [
    "# addition\n",
    "output = tf.add(mul_0, mul_1)\n",
    "output"
   ]
  },
  {
   "cell_type": "markdown",
   "metadata": {},
   "source": [
    "In the above form there's no way to refer to the graph at a later time."
   ]
  },
  {
   "cell_type": "code",
   "execution_count": 10,
   "metadata": {},
   "outputs": [
    {
     "ename": "AttributeError",
     "evalue": "Tensor.graph is meaningless when eager execution is enabled.",
     "output_type": "error",
     "traceback": [
      "\u001b[0;31m---------------------------------------------------------------------------\u001b[0m",
      "\u001b[0;31mAttributeError\u001b[0m                            Traceback (most recent call last)",
      "\u001b[0;32m<ipython-input-10-7b57d3fe8fa1>\u001b[0m in \u001b[0;36m<module>\u001b[0;34m\u001b[0m\n\u001b[0;32m----> 1\u001b[0;31m \u001b[0moutput\u001b[0m\u001b[0;34m.\u001b[0m\u001b[0mgraph\u001b[0m\u001b[0;34m\u001b[0m\u001b[0m\n\u001b[0m",
      "\u001b[0;32m/usr/local/lib/python3.5/dist-packages/tensorflow/python/framework/ops.py\u001b[0m in \u001b[0;36mgraph\u001b[0;34m(self)\u001b[0m\n\u001b[1;32m    937\u001b[0m   \u001b[0;32mdef\u001b[0m \u001b[0mgraph\u001b[0m\u001b[0;34m(\u001b[0m\u001b[0mself\u001b[0m\u001b[0;34m)\u001b[0m\u001b[0;34m:\u001b[0m\u001b[0;34m\u001b[0m\u001b[0m\n\u001b[1;32m    938\u001b[0m     raise AttributeError(\n\u001b[0;32m--> 939\u001b[0;31m         \"Tensor.graph is meaningless when eager execution is enabled.\")\n\u001b[0m\u001b[1;32m    940\u001b[0m \u001b[0;34m\u001b[0m\u001b[0m\n\u001b[1;32m    941\u001b[0m   \u001b[0;34m@\u001b[0m\u001b[0mproperty\u001b[0m\u001b[0;34m\u001b[0m\u001b[0m\n",
      "\u001b[0;31mAttributeError\u001b[0m: Tensor.graph is meaningless when eager execution is enabled."
     ]
    }
   ],
   "source": [
    "output.graph"
   ]
  },
  {
   "cell_type": "code",
   "execution_count": 11,
   "metadata": {},
   "outputs": [],
   "source": [
    "# variable at the left\n",
    "x_var = tf.Variable(1.0) #0.0 is a placeholder value\n",
    "\n",
    "with tf.GradientTape() as t:\n",
    "    t.watch(x_var)\n",
    "    \n",
    "    const_3 = tf.constant(3.0)\n",
    "    const_2 = tf.constant(2.0)\n",
    "    const_4 = tf.constant(4.0)\n",
    "    \n",
    "    pow_0 = tf.pow(x_var, const_2)\n",
    "    \n",
    "    mul_0 = tf.multiply(x_var, const_4)\n",
    "    mul_1 = tf.multiply(pow_0, const_3)\n",
    "\n",
    "    output = tf.add(mul_0, mul_1)"
   ]
  },
  {
   "cell_type": "code",
   "execution_count": 12,
   "metadata": {},
   "outputs": [
    {
     "data": {
      "text/plain": [
       "<tf.Variable 'Variable:0' shape=() dtype=float32, numpy=1.0>"
      ]
     },
     "execution_count": 12,
     "metadata": {},
     "output_type": "execute_result"
    }
   ],
   "source": [
    "x_var"
   ]
  },
  {
   "cell_type": "code",
   "execution_count": 13,
   "metadata": {},
   "outputs": [
    {
     "data": {
      "text/plain": [
       "<tf.Tensor: id=33, shape=(), dtype=float32, numpy=7.0>"
      ]
     },
     "execution_count": 13,
     "metadata": {},
     "output_type": "execute_result"
    }
   ],
   "source": [
    "output"
   ]
  },
  {
   "cell_type": "code",
   "execution_count": 14,
   "metadata": {},
   "outputs": [
    {
     "data": {
      "text/plain": [
       "<tf.Tensor: id=66, shape=(), dtype=float32, numpy=10.0>"
      ]
     },
     "execution_count": 14,
     "metadata": {},
     "output_type": "execute_result"
    }
   ],
   "source": [
    "# Derivative of z with respect to the original input tensor x\n",
    "doutput_dx = t.gradient(output, x_var)\n",
    "doutput_dx"
   ]
  },
  {
   "cell_type": "markdown",
   "metadata": {},
   "source": [
    "### Use the gradient for optimization"
   ]
  },
  {
   "cell_type": "code",
   "execution_count": 15,
   "metadata": {},
   "outputs": [
    {
     "data": {
      "text/plain": [
       "10.0"
      ]
     },
     "execution_count": 15,
     "metadata": {},
     "output_type": "execute_result"
    }
   ],
   "source": [
    "doutput_dx.numpy()"
   ]
  },
  {
   "cell_type": "code",
   "execution_count": 16,
   "metadata": {},
   "outputs": [
    {
     "data": {
      "text/plain": [
       "<matplotlib.collections.PathCollection at 0x7f1fe0320668>"
      ]
     },
     "execution_count": 16,
     "metadata": {},
     "output_type": "execute_result"
    },
    {
     "data": {
      "image/png": "[encoded data removed]",
      "text/plain": [
       "<Figure size 432x288 with 1 Axes>"
      ]
     },
     "metadata": {
      "needs_background": "light"
     },
     "output_type": "display_data"
    }
   ],
   "source": [
    "def foo(x):\n",
    "    return 3*x**2 + 4*x\n",
    "\n",
    "x = np.linspace(-10,10)\n",
    "y = foo(x)\n",
    "\n",
    "plt.plot(x,y)\n",
    "\n",
    "plt.plot(x,(x-1)*10+foo(1))\n",
    "plt.scatter([1], [foo(1)])"
   ]
  },
  {
   "cell_type": "markdown",
   "metadata": {},
   "source": [
    "### Operator overloading\n",
    "\n",
    "Makes things short."
   ]
  },
  {
   "cell_type": "code",
   "execution_count": 17,
   "metadata": {},
   "outputs": [],
   "source": [
    "x_var = tf.Variable(1.0)\n",
    "\n",
    "with tf.GradientTape() as t:\n",
    "    t.watch(x_var)\n",
    "    \n",
    "    output = 3*x_var**2 + 4*x_var"
   ]
  },
  {
   "cell_type": "code",
   "execution_count": 18,
   "metadata": {},
   "outputs": [
    {
     "data": {
      "text/plain": [
       "<tf.Tensor: id=84, shape=(), dtype=float32, numpy=7.0>"
      ]
     },
     "execution_count": 18,
     "metadata": {},
     "output_type": "execute_result"
    }
   ],
   "source": [
    "output"
   ]
  },
  {
   "cell_type": "code",
   "execution_count": 19,
   "metadata": {},
   "outputs": [
    {
     "data": {
      "text/plain": [
       "<tf.Tensor: id=115, shape=(), dtype=float32, numpy=10.0>"
      ]
     },
     "execution_count": 19,
     "metadata": {},
     "output_type": "execute_result"
    }
   ],
   "source": [
    "dy_dx = t.gradient(output, x_var)\n",
    "dy_dx"
   ]
  },
  {
   "cell_type": "markdown",
   "metadata": {},
   "source": [
    "### ` @tf.function ` decorator\n",
    "\n",
    "Makes things super short."
   ]
  },
  {
   "cell_type": "code",
   "execution_count": 20,
   "metadata": {},
   "outputs": [],
   "source": [
    "@tf.function\n",
    "def foo(x):\n",
    "    return 3.0*x**2.0 + 4.0*x"
   ]
  },
  {
   "cell_type": "code",
   "execution_count": 21,
   "metadata": {},
   "outputs": [],
   "source": [
    "x_var = tf.Variable(1.0)"
   ]
  },
  {
   "cell_type": "code",
   "execution_count": 22,
   "metadata": {},
   "outputs": [],
   "source": [
    "with tf.GradientTape(persistent=True) as t:\n",
    "    t.watch(x_var)\n",
    "    \n",
    "    output = foo(x_var)"
   ]
  },
  {
   "cell_type": "code",
   "execution_count": 23,
   "metadata": {},
   "outputs": [
    {
     "data": {
      "text/plain": [
       "<tf.Tensor: id=190, shape=(), dtype=float32, numpy=10.0>"
      ]
     },
     "execution_count": 23,
     "metadata": {},
     "output_type": "execute_result"
    }
   ],
   "source": [
    "dy_dx = t.gradient(output, x_var)\n",
    "dy_dx"
   ]
  },
  {
   "cell_type": "markdown",
   "metadata": {},
   "source": [
    "## Gradient descent\n",
    "\n",
    "Use the gradient to get an incremental step in the right direction:"
   ]
  },
  {
   "cell_type": "code",
   "execution_count": 24,
   "metadata": {},
   "outputs": [
    {
     "data": {
      "text/plain": [
       "<tf.Tensor: id=194, shape=(), dtype=float32, numpy=-0.29999998>"
      ]
     },
     "execution_count": 24,
     "metadata": {},
     "output_type": "execute_result"
    }
   ],
   "source": [
    "learning_rate = 0.03\n",
    "lesson = -dy_dx*learning_rate\n",
    "lesson"
   ]
  },
  {
   "cell_type": "markdown",
   "metadata": {},
   "source": [
    "Use it to update the guess $x$"
   ]
  },
  {
   "cell_type": "code",
   "execution_count": 25,
   "metadata": {},
   "outputs": [
    {
     "data": {
      "text/plain": [
       "<tf.Tensor: id=197, shape=(), dtype=float32, numpy=0.70000005>"
      ]
     },
     "execution_count": 25,
     "metadata": {},
     "output_type": "execute_result"
    }
   ],
   "source": [
    "x_var + lesson"
   ]
  },
  {
   "cell_type": "markdown",
   "metadata": {},
   "source": [
    "The tensor `assign` method changes the value of a tensor."
   ]
  },
  {
   "cell_type": "code",
   "execution_count": 26,
   "metadata": {},
   "outputs": [
    {
     "data": {
      "text/plain": [
       "<tf.Variable 'UnreadVariable' shape=() dtype=float32, numpy=0.70000005>"
      ]
     },
     "execution_count": 26,
     "metadata": {},
     "output_type": "execute_result"
    }
   ],
   "source": [
    "x_var.assign( x_var + lesson )"
   ]
  },
  {
   "cell_type": "code",
   "execution_count": 27,
   "metadata": {},
   "outputs": [
    {
     "data": {
      "text/plain": [
       "<tf.Variable 'Variable:0' shape=() dtype=float32, numpy=0.70000005>"
      ]
     },
     "execution_count": 27,
     "metadata": {},
     "output_type": "execute_result"
    }
   ],
   "source": [
    "x_var"
   ]
  },
  {
   "cell_type": "markdown",
   "metadata": {},
   "source": [
    "We can do this over and over again to approach the function minimum."
   ]
  },
  {
   "cell_type": "code",
   "execution_count": 28,
   "metadata": {},
   "outputs": [
    {
     "name": "stdout",
     "output_type": "stream",
     "text": [
      "iteration 0\n",
      "dy/dx: 8.200001\n",
      "x: 0.454000\n",
      "\n",
      "iteration 1\n",
      "dy/dx: 6.724000\n",
      "x: 0.252280\n",
      "\n",
      "iteration 2\n",
      "dy/dx: 5.513680\n",
      "x: 0.086870\n",
      "\n",
      "iteration 3\n",
      "dy/dx: 4.521218\n",
      "x: -0.048767\n",
      "\n",
      "iteration 4\n",
      "dy/dx: 3.707398\n",
      "x: -0.159989\n",
      "\n",
      "iteration 5\n",
      "dy/dx: 3.040067\n",
      "x: -0.251191\n",
      "\n",
      "iteration 6\n",
      "dy/dx: 2.492855\n",
      "x: -0.325977\n",
      "\n",
      "iteration 7\n",
      "dy/dx: 2.044141\n",
      "x: -0.387301\n",
      "\n",
      "iteration 8\n",
      "dy/dx: 1.676196\n",
      "x: -0.437587\n",
      "\n",
      "iteration 9\n",
      "dy/dx: 1.374480\n",
      "x: -0.478821\n",
      "\n",
      "iteration 10\n",
      "dy/dx: 1.127074\n",
      "x: -0.512633\n",
      "\n",
      "iteration 20\n",
      "dy/dx: 0.154914\n",
      "x: -0.645495\n",
      "\n",
      "iteration 30\n",
      "dy/dx: 0.021293\n",
      "x: -0.663757\n",
      "\n",
      "iteration 40\n",
      "dy/dx: 0.002927\n",
      "x: -0.666267\n",
      "\n",
      "iteration 50\n",
      "dy/dx: 0.000402\n",
      "x: -0.666612\n",
      "\n",
      "iteration 60\n",
      "dy/dx: 0.000055\n",
      "x: -0.666659\n",
      "\n",
      "iteration 70\n",
      "dy/dx: 0.000007\n",
      "x: -0.666666\n",
      "\n",
      "iteration 80\n",
      "dy/dx: 0.000001\n",
      "x: -0.666667\n",
      "\n",
      "iteration 90\n",
      "dy/dx: 0.000001\n",
      "x: -0.666667\n",
      "\n"
     ]
    }
   ],
   "source": [
    "for i in range(100):\n",
    "    if i<10 or i%10==0: print( \"iteration %d\"%i )\n",
    "    \n",
    "    with tf.GradientTape() as t:\n",
    "        t.watch(x_var)\n",
    "\n",
    "        output = foo(x_var)\n",
    "    \n",
    "    dy_dx = t.gradient(output, x_var)\n",
    "    \n",
    "    if i<10 or i%10==0:  print( \"dy/dx: %f\"%dy_dx.numpy() )\n",
    "    \n",
    "    x_var.assign( x_var-dy_dx*learning_rate )\n",
    "    \n",
    "    if i<10 or i%10==0:  \n",
    "        print( \"x: %f\"%x_var.numpy() )\n",
    "        print()"
   ]
  },
  {
   "cell_type": "markdown",
   "metadata": {},
   "source": [
    "For this simple expression it's straightforward to find the global minimum.\n",
    "\n",
    "Find slope of the function\n",
    "$$\\frac{d}{dx} 3x^2 + 4x = 6x + 4$$\n",
    "Set $x$ to zero\n",
    "$$6x + 4 = 0$$\n",
    "$$x = -\\frac{2}{3}$$\n",
    "\n",
    "This does in fact seem to be where the optimizer is heading."
   ]
  },
  {
   "cell_type": "markdown",
   "metadata": {},
   "source": [
    "## `function` decorator is extremely flexible"
   ]
  },
  {
   "cell_type": "code",
   "execution_count": 29,
   "metadata": {},
   "outputs": [],
   "source": [
    "def foo_impl(x):\n",
    "    if tf.abs(x)>1:\n",
    "        return x**2\n",
    "    else:\n",
    "        return tf.abs(x)\n",
    "\n",
    "# perform decoration manually\n",
    "foo = tf.function(foo_impl)\n",
    "    "
   ]
  },
  {
   "cell_type": "code",
   "execution_count": 30,
   "metadata": {},
   "outputs": [],
   "source": [
    "x = np.linspace(-2,2, num=200)\n",
    "y = [foo_impl(xi) for xi in x]"
   ]
  },
  {
   "cell_type": "code",
   "execution_count": 31,
   "metadata": {},
   "outputs": [
    {
     "data": {
      "text/plain": [
       "[<matplotlib.lines.Line2D at 0x7f1fe0234cc0>]"
      ]
     },
     "execution_count": 31,
     "metadata": {},
     "output_type": "execute_result"
    },
    {
     "data": {
      "image/png": "[encoded data removed]",
      "text/plain": [
       "<Figure size 432x288 with 1 Axes>"
      ]
     },
     "metadata": {
      "needs_background": "light"
     },
     "output_type": "display_data"
    }
   ],
   "source": [
    "plt.plot(x,y)"
   ]
  },
  {
   "cell_type": "markdown",
   "metadata": {},
   "source": [
    "The slope $\\frac{dy}{dx}$ slightly below 1 is 1."
   ]
  },
  {
   "cell_type": "code",
   "execution_count": 32,
   "metadata": {},
   "outputs": [
    {
     "data": {
      "text/plain": [
       "1.0"
      ]
     },
     "execution_count": 32,
     "metadata": {},
     "output_type": "execute_result"
    }
   ],
   "source": [
    "x_var = tf.Variable(0.99)\n",
    "with tf.GradientTape() as t:\n",
    "    t.watch(x_var)\n",
    "    \n",
    "    output = foo(x_var)\n",
    "t.gradient(output, x_var).numpy()"
   ]
  },
  {
   "cell_type": "markdown",
   "metadata": {},
   "source": [
    "The slope $\\frac{dy}{dx}$ slightly above 1 is 2."
   ]
  },
  {
   "cell_type": "code",
   "execution_count": 33,
   "metadata": {},
   "outputs": [
    {
     "data": {
      "text/plain": [
       "2.02"
      ]
     },
     "execution_count": 33,
     "metadata": {},
     "output_type": "execute_result"
    }
   ],
   "source": [
    "x_var = tf.Variable(1.01)\n",
    "with tf.GradientTape() as t:\n",
    "    t.watch(x_var)\n",
    "    \n",
    "    output = foo(x_var)\n",
    "t.gradient(output, x_var).numpy()"
   ]
  },
  {
   "cell_type": "markdown",
   "metadata": {},
   "source": [
    "The slope $\\frac{dy}{dx}$ at 1 exactly is undefined."
   ]
  },
  {
   "cell_type": "code",
   "execution_count": 34,
   "metadata": {},
   "outputs": [
    {
     "name": "stdout",
     "output_type": "stream",
     "text": [
      "None\n"
     ]
    }
   ],
   "source": [
    "x_var = tf.Variable(1)\n",
    "with tf.GradientTape() as t:\n",
    "    t.watch(x_var)\n",
    "    \n",
    "    output = foo(x_var)\n",
    "print( t.gradient(output, x_var) )"
   ]
  },
  {
   "cell_type": "markdown",
   "metadata": {},
   "source": [
    "## gradients of multivariate functions"
   ]
  },
  {
   "cell_type": "code",
   "execution_count": 35,
   "metadata": {},
   "outputs": [
    {
     "name": "stdout",
     "output_type": "stream",
     "text": [
      "dz/dx: 2.0\n",
      "dz/dy: 4.0\n"
     ]
    }
   ],
   "source": [
    "@tf.function\n",
    "def multivariate_foo(x, y):\n",
    "    return x**2 + y**4\n",
    "\n",
    "x_var = tf.Variable(1.0)\n",
    "y_var = tf.Variable(1.0)\n",
    "with tf.GradientTape(persistent=True) as t:\n",
    "    t.watch(x_var)\n",
    "    t.watch(y_var)\n",
    "    \n",
    "    z_var = multivariate_foo(x_var, y_var)\n",
    "    \n",
    "print( \"dz/dx:\", t.gradient(z_var, x_var).numpy() )\n",
    "print( \"dz/dy:\", t.gradient(z_var, y_var).numpy() )\n",
    "del t #explicitly release t to the garbage collector"
   ]
  },
  {
   "cell_type": "markdown",
   "metadata": {},
   "source": [
    "## gradients of matrices (and tensors!)"
   ]
  },
  {
   "cell_type": "code",
   "execution_count": 36,
   "metadata": {},
   "outputs": [],
   "source": [
    "def megafoo_impl(x):\n",
    "    A = [[1.0,2.0],[3.0,4.0]]\n",
    "    return tf.matmul(A, x)"
   ]
  },
  {
   "cell_type": "code",
   "execution_count": 37,
   "metadata": {},
   "outputs": [
    {
     "data": {
      "text/plain": [
       "<tf.Tensor: id=3363, shape=(2, 2), dtype=float32, numpy=\n",
       "array([[3., 3.],\n",
       "       [7., 7.]], dtype=float32)>"
      ]
     },
     "execution_count": 37,
     "metadata": {},
     "output_type": "execute_result"
    }
   ],
   "source": [
    "megafoo_impl([[1.0,1.0],[1.0,1.0]])"
   ]
  },
  {
   "cell_type": "code",
   "execution_count": 38,
   "metadata": {},
   "outputs": [
    {
     "name": "stdout",
     "output_type": "stream",
     "text": [
      "dz/dx:\n",
      " [[4. 4.]\n",
      " [6. 6.]]\n"
     ]
    }
   ],
   "source": [
    "megafoo = tf.function(megafoo_impl)\n",
    "\n",
    "x_var = tf.Variable([[1.0,1.0],[1.0,1.0]])\n",
    "with tf.GradientTape() as t:\n",
    "    t.watch(x_var)\n",
    "    \n",
    "    z_var = megafoo(x_var)\n",
    "    \n",
    "print( \"dz/dx:\\n\", t.gradient(z_var, x_var).numpy() )\n"
   ]
  },
  {
   "cell_type": "markdown",
   "metadata": {},
   "source": [
    "## Gradient-decent: the all-hammer of machine learning\n",
    "\n",
    "We now have a tool for solving any problem, as long as the problem:\n",
    "* Can be expressed in terms of a (vaguely) differentiable loss function.\n",
    "* Is (vaguely) convex.\n",
    "\n",
    "Neither requirement is hard.\n",
    "\n",
    "* The loss function can be strictly non-differentiable, with some kinks and discontinuities.\n",
    "* The function can be strictly non-convex, with local or multiple minima. \n",
    "\n",
    "In both cases, a satisfactory solution can usually be found.\n",
    "\n",
    "It is difficult to overstate how powerful this is. Let's start with a gentle example.\n",
    "\n",
    "## Linear regression\n",
    "\n",
    "Let's say we have three points: (0.5,2), (2,2), and (3,4). Our task is to fit a line $y=mx+b$."
   ]
  },
  {
   "cell_type": "code",
   "execution_count": 39,
   "metadata": {},
   "outputs": [
    {
     "data": {
      "text/plain": [
       "Text(2.5, 2.6, '???')"
      ]
     },
     "execution_count": 39,
     "metadata": {},
     "output_type": "execute_result"
    },
    {
     "data": {
      "image/png": "[encoded data removed]",
      "text/plain": [
       "<Figure size 288x288 with 1 Axes>"
      ]
     },
     "metadata": {
      "needs_background": "light"
     },
     "output_type": "display_data"
    }
   ],
   "source": [
    "plt.figure(figsize=(4,4))\n",
    "x = [0.5,2,3]\n",
    "y = [2,  2,4]\n",
    "plt.scatter(x,y)\n",
    "\n",
    "xspace = np.linspace(0.25, 3.25)\n",
    "plt.plot(xspace, xspace*0.3 + 1.7, \"--\", c=\"orange\")\n",
    "plt.text(2.5, 2.6, \"???\", fontdict={'size':15, 'color':'orange'})"
   ]
  },
  {
   "cell_type": "markdown",
   "metadata": {},
   "source": [
    "The loss function is the sum square error of the predictions:\n",
    "$$\\hat{y}_0 = m \\cdot 0.5+b$$\n",
    "$$\\hat{y}_1 = m \\cdot 2+b$$\n",
    "$$\\hat{y}_2 = m \\cdot 3+b$$\n",
    "\n",
    "$$e_0 = \\hat{y}_0 - 2$$\n",
    "$$e_1 = \\hat{y}_1 - 2$$\n",
    "$$e_2 = \\hat{y}_2 - 4$$\n",
    "\n",
    "$$sse = e_0^2 + e_1^2 + e_2^2$$"
   ]
  },
  {
   "cell_type": "code",
   "execution_count": 40,
   "metadata": {},
   "outputs": [
    {
     "data": {
      "text/plain": [
       "3.25"
      ]
     },
     "execution_count": 40,
     "metadata": {},
     "output_type": "execute_result"
    }
   ],
   "source": [
    "m = 1\n",
    "b = 0\n",
    "yhat_0 = m*0.5+b\n",
    "yhat_1 = m*2+b\n",
    "yhat_2 = m*3+b\n",
    "e_0 = (yhat_0-2)\n",
    "e_1 = (yhat_1-2)\n",
    "e_2 = (yhat_2-4)\n",
    "\n",
    "sse = e_0**2 + e_1**2 + e_2**2\n",
    "sse"
   ]
  },
  {
   "cell_type": "markdown",
   "metadata": {},
   "source": [
    "(mess around with `m` and `b` to get a lower SSE)\n",
    "\n",
    "If we instantiate `m` and `b` as `tf.Variable` objects, all intermediate and end results are TensorFlow tensors."
   ]
  },
  {
   "cell_type": "code",
   "execution_count": 41,
   "metadata": {},
   "outputs": [
    {
     "data": {
      "text/plain": [
       "<tf.Tensor: id=3443, shape=(), dtype=float32, numpy=3.25>"
      ]
     },
     "execution_count": 41,
     "metadata": {},
     "output_type": "execute_result"
    }
   ],
   "source": [
    "m = tf.Variable(1.0)\n",
    "b = tf.Variable(0.0)\n",
    "yhat_0 = m*0.5+b\n",
    "yhat_1 = m*2+b\n",
    "yhat_2 = m*3+b\n",
    "e_0 = (yhat_0-2)\n",
    "e_1 = (yhat_1-2)\n",
    "e_2 = (yhat_2-4)\n",
    "\n",
    "sse = e_0**2 + e_1**2 + e_2**2\n",
    "sse"
   ]
  },
  {
   "cell_type": "markdown",
   "metadata": {},
   "source": [
    "Wouldn't it be handy to have the gradient of `m` and `b` evaluated at different guesses of `m` and `b`?"
   ]
  },
  {
   "cell_type": "code",
   "execution_count": 42,
   "metadata": {},
   "outputs": [
    {
     "name": "stdout",
     "output_type": "stream",
     "text": [
      "m gradient:  tf.Tensor(-7.5, shape=(), dtype=float32)\n",
      "b gradient:  tf.Tensor(-5.0, shape=(), dtype=float32)\n"
     ]
    }
   ],
   "source": [
    "m = tf.Variable(1.0)\n",
    "b = tf.Variable(0.0)\n",
    "\n",
    "with tf.GradientTape(persistent=True) as t:\n",
    "    t.watch(m)\n",
    "    t.watch(b)\n",
    "    \n",
    "    yhat_0 = m*0.5+b\n",
    "    yhat_1 = m*2+b\n",
    "    yhat_2 = m*3+b\n",
    "    e_0 = (yhat_0-2)\n",
    "    e_1 = (yhat_1-2)\n",
    "    e_2 = (yhat_2-4)\n",
    "\n",
    "    sse = e_0**2 + e_1**2 + e_2**2\n",
    "\n",
    "dsse_dm = t.gradient(sse, m)\n",
    "dsse_db = t.gradient(sse, b)\n",
    "print( \"m gradient: \", dsse_dm )\n",
    "print( \"b gradient: \", dsse_db )\n",
    "del t"
   ]
  },
  {
   "cell_type": "markdown",
   "metadata": {},
   "source": [
    "Cool let's do gradient descent"
   ]
  },
  {
   "cell_type": "code",
   "execution_count": 43,
   "metadata": {},
   "outputs": [
    {
     "name": "stdout",
     "output_type": "stream",
     "text": [
      "m gradient:  tf.Tensor(-7.5, shape=(), dtype=float32)\n",
      "b gradient:  tf.Tensor(-5.0, shape=(), dtype=float32)\n",
      "SSE:  3.25\n",
      "\n",
      "m gradient:  tf.Tensor(0.11250234, shape=(), dtype=float32)\n",
      "b gradient:  tf.Tensor(-1.624999, shape=(), dtype=float32)\n",
      "SSE:  1.9220312\n",
      "\n",
      "m gradient:  tf.Tensor(0.5593126, shape=(), dtype=float32)\n",
      "b gradient:  tf.Tensor(-1.3696251, shape=(), dtype=float32)\n",
      "SSE:  1.8479036\n",
      "\n",
      "m gradient:  tf.Tensor(0.56663346, shape=(), dtype=float32)\n",
      "b gradient:  tf.Tensor(-1.3076663, shape=(), dtype=float32)\n",
      "SSE:  1.7834538\n",
      "\n",
      "m gradient:  tf.Tensor(0.5476885, shape=(), dtype=float32)\n",
      "b gradient:  tf.Tensor(-1.2592759, shape=(), dtype=float32)\n",
      "SSE:  1.7236321\n",
      "\n",
      "m gradient:  tf.Tensor(0.5278406, shape=(), dtype=float32)\n",
      "b gradient:  tf.Tensor(-1.2133422, shape=(), dtype=float32)\n",
      "SSE:  1.6680908\n",
      "\n",
      "m gradient:  tf.Tensor(0.50860906, shape=(), dtype=float32)\n",
      "b gradient:  tf.Tensor(-1.1691284, shape=(), dtype=float32)\n",
      "SSE:  1.6165233\n",
      "\n",
      "m gradient:  tf.Tensor(0.4900775, shape=(), dtype=float32)\n",
      "b gradient:  tf.Tensor(-1.1265264, shape=(), dtype=float32)\n",
      "SSE:  1.5686457\n",
      "\n",
      "m gradient:  tf.Tensor(0.47221923, shape=(), dtype=float32)\n",
      "b gradient:  tf.Tensor(-1.0854774, shape=(), dtype=float32)\n",
      "SSE:  1.524193\n",
      "\n",
      "m gradient:  tf.Tensor(0.45501137, shape=(), dtype=float32)\n",
      "b gradient:  tf.Tensor(-1.0459242, shape=(), dtype=float32)\n",
      "SSE:  1.4829216\n",
      "\n",
      "m gradient:  tf.Tensor(0.43843484, shape=(), dtype=float32)\n",
      "b gradient:  tf.Tensor(-1.0078106, shape=(), dtype=float32)\n",
      "SSE:  1.444603\n",
      "\n",
      "m gradient:  tf.Tensor(0.42245603, shape=(), dtype=float32)\n",
      "b gradient:  tf.Tensor(-0.9710884, shape=(), dtype=float32)\n",
      "SSE:  1.409026\n",
      "\n",
      "m gradient:  tf.Tensor(0.40706003, shape=(), dtype=float32)\n",
      "b gradient:  tf.Tensor(-0.935704, shape=(), dtype=float32)\n",
      "SSE:  1.3759946\n",
      "\n",
      "m gradient:  tf.Tensor(0.39223003, shape=(), dtype=float32)\n",
      "b gradient:  tf.Tensor(-0.90160704, shape=(), dtype=float32)\n",
      "SSE:  1.3453265\n",
      "\n",
      "m gradient:  tf.Tensor(0.37793636, shape=(), dtype=float32)\n",
      "b gradient:  tf.Tensor(-0.8687539, shape=(), dtype=float32)\n",
      "SSE:  1.3168523\n",
      "\n",
      "m gradient:  tf.Tensor(0.36416543, shape=(), dtype=float32)\n",
      "b gradient:  tf.Tensor(-0.8370974, shape=(), dtype=float32)\n",
      "SSE:  1.2904162\n",
      "\n",
      "m gradient:  tf.Tensor(0.35089695, shape=(), dtype=float32)\n",
      "b gradient:  tf.Tensor(-0.80659413, shape=(), dtype=float32)\n",
      "SSE:  1.2658712\n",
      "\n",
      "m gradient:  tf.Tensor(0.3381102, shape=(), dtype=float32)\n",
      "b gradient:  tf.Tensor(-0.7772031, shape=(), dtype=float32)\n",
      "SSE:  1.2430824\n",
      "\n",
      "m gradient:  tf.Tensor(0.32579088, shape=(), dtype=float32)\n",
      "b gradient:  tf.Tensor(-0.7488823, shape=(), dtype=float32)\n",
      "SSE:  1.2219241\n",
      "\n",
      "m gradient:  tf.Tensor(0.31391764, shape=(), dtype=float32)\n",
      "b gradient:  tf.Tensor(-0.7215948, shape=(), dtype=float32)\n",
      "SSE:  1.2022798\n",
      "\n",
      "m gradient:  tf.Tensor(0.30248022, shape=(), dtype=float32)\n",
      "b gradient:  tf.Tensor(-0.6953001, shape=(), dtype=float32)\n",
      "SSE:  1.1840409\n",
      "\n",
      "m gradient:  tf.Tensor(0.29145777, shape=(), dtype=float32)\n",
      "b gradient:  tf.Tensor(-0.66996455, shape=(), dtype=float32)\n",
      "SSE:  1.1671069\n",
      "\n",
      "m gradient:  tf.Tensor(0.28083718, shape=(), dtype=float32)\n",
      "b gradient:  tf.Tensor(-0.6455519, shape=(), dtype=float32)\n",
      "SSE:  1.1513848\n",
      "\n",
      "m gradient:  tf.Tensor(0.2706039, shape=(), dtype=float32)\n",
      "b gradient:  tf.Tensor(-0.6220288, shape=(), dtype=float32)\n",
      "SSE:  1.1367875\n",
      "\n",
      "m gradient:  tf.Tensor(0.26074398, shape=(), dtype=float32)\n",
      "b gradient:  tf.Tensor(-0.5993626, shape=(), dtype=float32)\n",
      "SSE:  1.1232346\n",
      "\n",
      "m gradient:  tf.Tensor(0.2512412, shape=(), dtype=float32)\n",
      "b gradient:  tf.Tensor(-0.57752323, shape=(), dtype=float32)\n",
      "SSE:  1.1106517\n",
      "\n",
      "m gradient:  tf.Tensor(0.242087, shape=(), dtype=float32)\n",
      "b gradient:  tf.Tensor(-0.55647874, shape=(), dtype=float32)\n",
      "SSE:  1.0989687\n",
      "\n",
      "m gradient:  tf.Tensor(0.23326659, shape=(), dtype=float32)\n",
      "b gradient:  tf.Tensor(-0.536201, shape=(), dtype=float32)\n",
      "SSE:  1.0881217\n",
      "\n",
      "m gradient:  tf.Tensor(0.2247665, shape=(), dtype=float32)\n",
      "b gradient:  tf.Tensor(-0.5166626, shape=(), dtype=float32)\n",
      "SSE:  1.0780506\n",
      "\n",
      "m gradient:  tf.Tensor(0.2165749, shape=(), dtype=float32)\n",
      "b gradient:  tf.Tensor(-0.4978366, shape=(), dtype=float32)\n",
      "SSE:  1.0687006\n",
      "\n",
      "m gradient:  tf.Tensor(0.20868337, shape=(), dtype=float32)\n",
      "b gradient:  tf.Tensor(-0.47969604, shape=(), dtype=float32)\n",
      "SSE:  1.0600191\n",
      "\n",
      "m gradient:  tf.Tensor(0.20107937, shape=(), dtype=float32)\n",
      "b gradient:  tf.Tensor(-0.46221638, shape=(), dtype=float32)\n",
      "SSE:  1.051959\n",
      "\n",
      "m gradient:  tf.Tensor(0.19375217, shape=(), dtype=float32)\n",
      "b gradient:  tf.Tensor(-0.44537377, shape=(), dtype=float32)\n",
      "SSE:  1.0444757\n",
      "\n",
      "m gradient:  tf.Tensor(0.18669188, shape=(), dtype=float32)\n",
      "b gradient:  tf.Tensor(-0.4291451, shape=(), dtype=float32)\n",
      "SSE:  1.0375276\n",
      "\n",
      "m gradient:  tf.Tensor(0.17989016, shape=(), dtype=float32)\n",
      "b gradient:  tf.Tensor(-0.41350698, shape=(), dtype=float32)\n",
      "SSE:  1.0310768\n",
      "\n",
      "m gradient:  tf.Tensor(0.17333448, shape=(), dtype=float32)\n",
      "b gradient:  tf.Tensor(-0.39843965, shape=(), dtype=float32)\n",
      "SSE:  1.0250874\n",
      "\n",
      "m gradient:  tf.Tensor(0.16701877, shape=(), dtype=float32)\n",
      "b gradient:  tf.Tensor(-0.3839209, shape=(), dtype=float32)\n",
      "SSE:  1.0195265\n",
      "\n",
      "m gradient:  tf.Tensor(0.16093159, shape=(), dtype=float32)\n",
      "b gradient:  tf.Tensor(-0.3699317, shape=(), dtype=float32)\n",
      "SSE:  1.0143638\n",
      "\n",
      "m gradient:  tf.Tensor(0.1550672, shape=(), dtype=float32)\n",
      "b gradient:  tf.Tensor(-0.356452, shape=(), dtype=float32)\n",
      "SSE:  1.0095704\n",
      "\n",
      "m gradient:  tf.Tensor(0.14941764, shape=(), dtype=float32)\n",
      "b gradient:  tf.Tensor(-0.34346294, shape=(), dtype=float32)\n",
      "SSE:  1.0051198\n",
      "\n",
      "m gradient:  tf.Tensor(0.14397526, shape=(), dtype=float32)\n",
      "b gradient:  tf.Tensor(-0.33094692, shape=(), dtype=float32)\n",
      "SSE:  1.0009873\n",
      "\n",
      "m gradient:  tf.Tensor(0.13872826, shape=(), dtype=float32)\n",
      "b gradient:  tf.Tensor(-0.31888795, shape=(), dtype=float32)\n",
      "SSE:  0.9971511\n",
      "\n",
      "m gradient:  tf.Tensor(0.13367176, shape=(), dtype=float32)\n",
      "b gradient:  tf.Tensor(-0.30726862, shape=(), dtype=float32)\n",
      "SSE:  0.9935891\n",
      "\n",
      "m gradient:  tf.Tensor(0.12880325, shape=(), dtype=float32)\n",
      "b gradient:  tf.Tensor(-0.29607105, shape=(), dtype=float32)\n",
      "SSE:  0.99028176\n",
      "\n",
      "m gradient:  tf.Tensor(0.124107, shape=(), dtype=float32)\n",
      "b gradient:  tf.Tensor(-0.2852838, shape=(), dtype=float32)\n",
      "SSE:  0.9872115\n",
      "\n",
      "m gradient:  tf.Tensor(0.11958587, shape=(), dtype=float32)\n",
      "b gradient:  tf.Tensor(-0.2748878, shape=(), dtype=float32)\n",
      "SSE:  0.98436093\n",
      "\n",
      "m gradient:  tf.Tensor(0.115226984, shape=(), dtype=float32)\n",
      "b gradient:  tf.Tensor(-0.2648716, shape=(), dtype=float32)\n",
      "SSE:  0.9817142\n",
      "\n",
      "m gradient:  tf.Tensor(0.111029625, shape=(), dtype=float32)\n",
      "b gradient:  tf.Tensor(-0.25521946, shape=(), dtype=float32)\n",
      "SSE:  0.97925687\n",
      "\n",
      "m gradient:  tf.Tensor(0.106983304, shape=(), dtype=float32)\n",
      "b gradient:  tf.Tensor(-0.24591994, shape=(), dtype=float32)\n",
      "SSE:  0.976975\n",
      "\n",
      "m gradient:  tf.Tensor(0.10308683, shape=(), dtype=float32)\n",
      "b gradient:  tf.Tensor(-0.23695827, shape=(), dtype=float32)\n",
      "SSE:  0.9748567\n",
      "\n"
     ]
    }
   ],
   "source": [
    "learning_rate = 0.03\n",
    "\n",
    "m = tf.Variable(1.0)\n",
    "b = tf.Variable(0.0)\n",
    "\n",
    "for i in range(50):\n",
    "    with tf.GradientTape(persistent=True) as t:\n",
    "        t.watch(m)\n",
    "        t.watch(b)\n",
    "\n",
    "        yhat_0 = m*0.5+b\n",
    "        yhat_1 = m*2+b\n",
    "        yhat_2 = m*3+b\n",
    "        e_0 = (yhat_0-2)\n",
    "        e_1 = (yhat_1-2)\n",
    "        e_2 = (yhat_2-4)\n",
    "\n",
    "        sse = e_0**2 + e_1**2 + e_2**2\n",
    "\n",
    "    dsse_dm = t.gradient(sse, m)\n",
    "    dsse_db = t.gradient(sse, b)\n",
    "    print( \"m gradient: \", dsse_dm )\n",
    "    print( \"b gradient: \", dsse_db )\n",
    "    print( \"SSE: \", sse.numpy() )\n",
    "    print()\n",
    "    del t\n",
    "    \n",
    "    m.assign( m - dsse_dm*learning_rate )\n",
    "    b.assign( b - dsse_db*learning_rate )"
   ]
  },
  {
   "cell_type": "code",
   "execution_count": 44,
   "metadata": {},
   "outputs": [
    {
     "data": {
      "text/plain": [
       "(<tf.Variable 'Variable:0' shape=() dtype=float32, numpy=0.8186195>,\n",
       " <tf.Variable 'Variable:0' shape=() dtype=float32, numpy=1.1278102>)"
      ]
     },
     "execution_count": 44,
     "metadata": {},
     "output_type": "execute_result"
    }
   ],
   "source": [
    "m, b"
   ]
  },
  {
   "cell_type": "code",
   "execution_count": 45,
   "metadata": {},
   "outputs": [
    {
     "data": {
      "text/plain": [
       "Text(2.5, 2.8, ':)')"
      ]
     },
     "execution_count": 45,
     "metadata": {},
     "output_type": "execute_result"
    },
    {
     "data": {
      "image/png": "[encoded data removed]",
      "text/plain": [
       "<Figure size 288x288 with 1 Axes>"
      ]
     },
     "metadata": {
      "needs_background": "light"
     },
     "output_type": "display_data"
    }
   ],
   "source": [
    "plt.figure(figsize=(4,4))\n",
    "x = [0.5,2,3]\n",
    "y = [2,2,4]\n",
    "plt.scatter(x,y)\n",
    "\n",
    "xspace = np.linspace(0.25, 3.25)\n",
    "plt.plot(xspace, xspace*m.numpy() + b.numpy(), \"-\", c=\"orange\")\n",
    "plt.text(2.5, 2.8, \":)\", fontdict={'size':15, 'color':'orange'})"
   ]
  },
  {
   "cell_type": "markdown",
   "metadata": {},
   "source": [
    "We did it!"
   ]
  },
  {
   "cell_type": "markdown",
   "metadata": {},
   "source": [
    "Note that\n",
    "\n",
    "$$\\hat{y}_0 = m \\cdot 0.5+b$$\n",
    "$$\\hat{y}_1 = m \\cdot 2+b$$\n",
    "$$\\hat{y}_2 = m \\cdot 3+b$$\n",
    "\n",
    "can be expressed more succinctly as\n",
    "\n",
    "$$\\hat{y} = \\beta X$$\n",
    "\n",
    "where $\\beta$ comprises the coefficients and intercept (in this case `[m b]`) and $X$ is composed of the data $x$ augmented with a column of ones:\n",
    "\n",
    "$$\n",
    "  X = \\begin{bmatrix}\n",
    "    0.5 & 1 \\\\\n",
    "    2 & 1 \\\\\n",
    "    3 & 1\n",
    "  \\end{bmatrix}\n",
    "$$\n",
    "\n",
    "And then the error term is succinctly expressed as:\n",
    "\n",
    "$$sse = \\sum (\\hat{y}-y)^2$$"
   ]
  },
  {
   "cell_type": "code",
   "execution_count": 46,
   "metadata": {},
   "outputs": [
    {
     "name": "stdout",
     "output_type": "stream",
     "text": [
      "[[0.5 1. ]\n",
      " [2.  1. ]\n",
      " [3.  1. ]]\n",
      "[[2]\n",
      " [2]\n",
      " [4]]\n"
     ]
    }
   ],
   "source": [
    "x = np.array([0.5, 2, 3])\n",
    "y = np.expand_dims( np.array([2, 2, 4]), 1 ) #it's convenient if y is a column vector\n",
    "\n",
    "# augment x with an intercept column\n",
    "X = np.stack( [x, np.ones_like(x)] ).T\n",
    "\n",
    "print( X )\n",
    "print( y )"
   ]
  },
  {
   "cell_type": "code",
   "execution_count": 47,
   "metadata": {},
   "outputs": [],
   "source": [
    "beta = tf.Variable([[1.0], [0.0]], dtype=tf.double)"
   ]
  },
  {
   "cell_type": "code",
   "execution_count": 48,
   "metadata": {},
   "outputs": [],
   "source": [
    "with tf.GradientTape(persistent=True) as t:\n",
    "    t.watch(beta)\n",
    "    \n",
    "    error = X@beta - y\n",
    "    sse = sum( error**2 )"
   ]
  },
  {
   "cell_type": "code",
   "execution_count": 49,
   "metadata": {},
   "outputs": [
    {
     "data": {
      "text/plain": [
       "<tf.Tensor: id=14052, shape=(2, 1), dtype=float64, numpy=\n",
       "array([[-7.5],\n",
       "       [-5. ]])>"
      ]
     },
     "execution_count": 49,
     "metadata": {},
     "output_type": "execute_result"
    }
   ],
   "source": [
    "t.gradient(sse, beta)"
   ]
  },
  {
   "cell_type": "markdown",
   "metadata": {},
   "source": [
    "At this point we're ready to fit the slopes and intercept $\\beta$ via gradient descent.\n",
    "\n",
    "### Matrices for large datasets with n>3\n",
    "\n",
    "Using this approach, we can fit a dataset of any size.\n"
   ]
  },
  {
   "cell_type": "code",
   "execution_count": 50,
   "metadata": {},
   "outputs": [],
   "source": [
    "m, b = 0.6, 4.0\n",
    "\n",
    "x = np.random.normal(size=(500))\n",
    "y = m*x + b + np.random.normal(loc=0 ,scale=0.3, size=500)"
   ]
  },
  {
   "cell_type": "code",
   "execution_count": 51,
   "metadata": {},
   "outputs": [
    {
     "data": {
      "text/plain": [
       "<matplotlib.collections.PathCollection at 0x7fe6e8e4cc18>"
      ]
     },
     "execution_count": 51,
     "metadata": {},
     "output_type": "execute_result"
    },
    {
     "data": {
      "image/png": "[encoded data removed]",
      "text/plain": [
       "<Figure size 432x288 with 1 Axes>"
      ]
     },
     "metadata": {
      "needs_background": "light"
     },
     "output_type": "display_data"
    }
   ],
   "source": [
    "plt.scatter(x,y, s=3)"
   ]
  },
  {
   "cell_type": "code",
   "execution_count": 52,
   "metadata": {},
   "outputs": [],
   "source": [
    "# augment x with an intercept column\n",
    "X = np.stack( [x, np.ones_like(x)] ).T\n",
    "y = np.expand_dims( y, 1 ) #it's convenient if y is a column vector"
   ]
  },
  {
   "cell_type": "code",
   "execution_count": 53,
   "metadata": {},
   "outputs": [
    {
     "data": {
      "text/plain": [
       "<tf.Tensor: id=14102, shape=(2, 1), dtype=float64, numpy=\n",
       "array([[  350.70838439],\n",
       "       [-4009.94776762]])>"
      ]
     },
     "execution_count": 53,
     "metadata": {},
     "output_type": "execute_result"
    }
   ],
   "source": [
    "beta = tf.Variable([[1.0], [0.0]], dtype=tf.double)\n",
    "\n",
    "with tf.GradientTape(persistent=True) as t:\n",
    "    t.watch(beta)\n",
    "    \n",
    "    yhat = X @ beta\n",
    "    sse = tf.reduce_sum( (yhat-y)**2 )\n",
    "    \n",
    "t.gradient(sse, beta)"
   ]
  },
  {
   "cell_type": "markdown",
   "metadata": {},
   "source": [
    "## Optimizer classes\n",
    "\n",
    "We could do the whole gradient descent dance again, but instead we'll use a TensorFlow `optimizer` class, which automates gradient descent."
   ]
  },
  {
   "cell_type": "code",
   "execution_count": 54,
   "metadata": {},
   "outputs": [],
   "source": [
    "optimizer = tf.optimizers.SGD(learning_rate=0.0001)\n",
    "\n",
    "beta = tf.Variable([[1.0], [0.0]], dtype=tf.double)"
   ]
  },
  {
   "cell_type": "code",
   "execution_count": 55,
   "metadata": {},
   "outputs": [],
   "source": [
    "model = lambda: tf.reduce_sum( (X@beta - y)**2 )\n",
    "for _ in range(100):\n",
    "    optimizer.minimize(model, [beta])"
   ]
  },
  {
   "cell_type": "code",
   "execution_count": 56,
   "metadata": {},
   "outputs": [
    {
     "data": {
      "text/plain": [
       "<tf.Variable 'Variable:0' shape=(2, 1) dtype=float64, numpy=\n",
       "array([[0.61075509],\n",
       "       [4.01423698]])>"
      ]
     },
     "execution_count": 56,
     "metadata": {},
     "output_type": "execute_result"
    }
   ],
   "source": [
    "beta"
   ]
  },
  {
   "cell_type": "markdown",
   "metadata": {},
   "source": [
    "Behold, we've recovered the original $m$ and $b$."
   ]
  },
  {
   "cell_type": "markdown",
   "metadata": {},
   "source": [
    "## High level abstraction with Keras\n",
    "\n",
    "Keras is a way of describing neural networks at a high level of abstraction. Keras isn't software itself, it's a _format for interacting with software_; it's an API. In Keras linear transformation between layers is a \"Dense\" layer. A linear transformation to a scalar is just a dense layer with an output of size (1,).\n",
    "\n",
    "Thus, it's possible to describe a linear regression model in Keras."
   ]
  },
  {
   "cell_type": "code",
   "execution_count": 57,
   "metadata": {},
   "outputs": [
    {
     "name": "stdout",
     "output_type": "stream",
     "text": [
      "Epoch 1/10\n",
      "500/500 [==============================] - 0s 102us/sample - loss: 168.2200\n",
      "Epoch 2/10\n",
      "500/500 [==============================] - 0s 56us/sample - loss: 23.6908\n",
      "Epoch 3/10\n",
      "500/500 [==============================] - 0s 96us/sample - loss: 5.3960\n",
      "Epoch 4/10\n",
      "500/500 [==============================] - 0s 50us/sample - loss: 3.1539\n",
      "Epoch 5/10\n",
      "500/500 [==============================] - 0s 61us/sample - loss: 2.8700\n",
      "Epoch 6/10\n",
      "500/500 [==============================] - 0s 83us/sample - loss: 2.8328\n",
      "Epoch 7/10\n",
      "500/500 [==============================] - 0s 69us/sample - loss: 2.8276\n",
      "Epoch 8/10\n",
      "500/500 [==============================] - 0s 100us/sample - loss: 2.8279\n",
      "Epoch 9/10\n",
      "500/500 [==============================] - 0s 96us/sample - loss: 2.8502\n",
      "Epoch 10/10\n",
      "500/500 [==============================] - 0s 87us/sample - loss: 2.8206\n"
     ]
    }
   ],
   "source": [
    "model = tf.keras.Sequential([\n",
    "  tf.keras.layers.Dense(1, use_bias=False)\n",
    "])\n",
    "\n",
    "model.compile(optimizer='sgd',\n",
    "              loss=lambda a,b: tf.reduce_sum((a-b)**2))\n",
    "\n",
    "hist = model.fit(X,\n",
    "          y,\n",
    "          epochs=10)"
   ]
  },
  {
   "cell_type": "code",
   "execution_count": 58,
   "metadata": {},
   "outputs": [
    {
     "data": {
      "text/plain": [
       "[<tf.Variable 'dense/kernel:0' shape=(2, 1) dtype=float32, numpy=\n",
       " array([[0.61369437],\n",
       "        [4.017309  ]], dtype=float32)>]"
      ]
     },
     "execution_count": 58,
     "metadata": {},
     "output_type": "execute_result"
    }
   ],
   "source": [
    "model.weights"
   ]
  },
  {
   "cell_type": "markdown",
   "metadata": {},
   "source": [
    "We've used Keras in TensorFlow to do linear regression, which is like\n",
    "\n",
    "<img src=\"https://external-preview.redd.it/Lws1xMKYyOqF5ZJtLOhQU2BL83kChqZJq8jRUKffXag.jpg?auto=webp&s=465b8e8f2662a9dd0e142709e1146ddbefe8bca3\">"
   ]
  },
  {
   "cell_type": "markdown",
   "metadata": {},
   "source": [
    "## What about classification?\n",
    "\n",
    "Aren't neural networks all about classification? What does any of this have to do with classification?"
   ]
  },
  {
   "cell_type": "code",
   "execution_count": 59,
   "metadata": {},
   "outputs": [],
   "source": [
    "np.random.seed(42)\n",
    "\n",
    "n=100\n",
    "y = np.array( [0]*n+[1]*n )\n",
    "x = np.concatenate( [np.random.normal(loc=0, size=n), np.random.normal(loc=3, size=n)] )"
   ]
  },
  {
   "cell_type": "code",
   "execution_count": 60,
   "metadata": {},
   "outputs": [
    {
     "data": {
      "text/plain": [
       "<matplotlib.collections.PathCollection at 0x7fe6e8495e80>"
      ]
     },
     "execution_count": 60,
     "metadata": {},
     "output_type": "execute_result"
    },
    {
     "data": {
      "image/png": "[encoded data removed]",
      "text/plain": [
       "<Figure size 432x288 with 1 Axes>"
      ]
     },
     "metadata": {
      "needs_background": "light"
     },
     "output_type": "display_data"
    }
   ],
   "source": [
    "plt.scatter(x,y, marker=\"+\", s=100)"
   ]
  },
  {
   "cell_type": "markdown",
   "metadata": {},
   "source": [
    "Let's try a linear model."
   ]
  },
  {
   "cell_type": "code",
   "execution_count": 61,
   "metadata": {},
   "outputs": [],
   "source": [
    "m, b = 1, 0 #initial parameter guesses"
   ]
  },
  {
   "cell_type": "code",
   "execution_count": 62,
   "metadata": {},
   "outputs": [],
   "source": [
    "yhat = m*x+b #our model"
   ]
  },
  {
   "cell_type": "code",
   "execution_count": 63,
   "metadata": {},
   "outputs": [
    {
     "data": {
      "image/png": "[encoded data removed]",
      "text/plain": [
       "<Figure size 432x288 with 1 Axes>"
      ]
     },
     "metadata": {
      "needs_background": "light"
     },
     "output_type": "display_data"
    }
   ],
   "source": [
    "plt.scatter(x, yhat, color=\"orange\", s=2)\n",
    "plt.scatter(x,y,marker=\"+\", s=100)\n",
    "for x_i, y_i, yhat_i in zip(x, y, yhat):\n",
    "    plt.plot([x_i,x_i],[y_i,yhat_i], c=\"red\", lw=0.2)"
   ]
  },
  {
   "cell_type": "markdown",
   "metadata": {},
   "source": [
    "Square all those red lines and add them up and we get our loss. Just at a glance, this isn't a great fit."
   ]
  },
  {
   "cell_type": "code",
   "execution_count": 64,
   "metadata": {},
   "outputs": [
    {
     "data": {
      "text/plain": [
       "581.7411788762043"
      ]
     },
     "execution_count": 64,
     "metadata": {},
     "output_type": "execute_result"
    }
   ],
   "source": [
    "sum( (yhat-y)**2 )"
   ]
  },
  {
   "cell_type": "markdown",
   "metadata": {},
   "source": [
    "What if we squish the line down to the range `[0,1]` using a sigmoid function?"
   ]
  },
  {
   "cell_type": "code",
   "execution_count": 65,
   "metadata": {},
   "outputs": [],
   "source": [
    "yhat = 1/(1+np.exp(-(m*x+b))) #our model"
   ]
  },
  {
   "cell_type": "code",
   "execution_count": 66,
   "metadata": {},
   "outputs": [
    {
     "data": {
      "image/png": "[encoded data removed]",
      "text/plain": [
       "<Figure size 432x288 with 1 Axes>"
      ]
     },
     "metadata": {
      "needs_background": "light"
     },
     "output_type": "display_data"
    }
   ],
   "source": [
    "plt.scatter(x, yhat, color=\"orange\", s=2)\n",
    "plt.scatter(x,y,marker=\"+\", s=100)\n",
    "for x_i, y_i, yhat_i in zip(x, y, yhat):\n",
    "    plt.plot([x_i,x_i],[y_i,yhat_i], c=\"red\", lw=0.2)"
   ]
  },
  {
   "cell_type": "markdown",
   "metadata": {},
   "source": [
    "Just based on the sum square error alone, this is already a huge win."
   ]
  },
  {
   "cell_type": "code",
   "execution_count": 67,
   "metadata": {},
   "outputs": [
    {
     "data": {
      "text/plain": [
       "27.38837116706314"
      ]
     },
     "execution_count": 67,
     "metadata": {},
     "output_type": "execute_result"
    }
   ],
   "source": [
    "sum( (yhat-y)**2 )"
   ]
  },
  {
   "cell_type": "markdown",
   "metadata": {},
   "source": [
    "Typically for evaluating probabilistic loss we go with cross-entropy (aka sum log likelihood):\n",
    "\n",
    "$$loss = \\sum -(y \\log(\\hat{y})+(1-y)\\log(1−\\hat{y}))$$"
   ]
  },
  {
   "cell_type": "code",
   "execution_count": 68,
   "metadata": {},
   "outputs": [
    {
     "data": {
      "text/plain": [
       "80.4242968371776"
      ]
     },
     "execution_count": 68,
     "metadata": {},
     "output_type": "execute_result"
    }
   ],
   "source": [
    "sum( -(y*np.log(yhat)+(1-y)*np.log(1-yhat)) )"
   ]
  },
  {
   "cell_type": "markdown",
   "metadata": {},
   "source": [
    "Oh snap that's a differentiable loss function. We can find good model parameters with gradient descent, the **all-hammer of machine learning**."
   ]
  },
  {
   "cell_type": "code",
   "execution_count": 69,
   "metadata": {},
   "outputs": [],
   "source": [
    "X = np.stack([x,np.ones_like(x)]).T\n",
    "y_col = np.expand_dims(y,axis=1)\n",
    "\n",
    "beta = tf.Variable([[1.0], [0.0]])"
   ]
  },
  {
   "cell_type": "code",
   "execution_count": 70,
   "metadata": {},
   "outputs": [],
   "source": [
    "def model(beta):\n",
    "    return 1/(1+tf.exp(-(X@beta))) #our model"
   ]
  },
  {
   "cell_type": "code",
   "execution_count": 71,
   "metadata": {},
   "outputs": [],
   "source": [
    "def cross_entropy(y, yhat):\n",
    "    return tf.reduce_sum(-(y*tf.math.log(yhat)+(1-y)*tf.math.log(1-yhat)))"
   ]
  },
  {
   "cell_type": "code",
   "execution_count": 72,
   "metadata": {},
   "outputs": [
    {
     "data": {
      "text/plain": [
       "<tf.Tensor: id=19823, shape=(2, 1), dtype=float64, numpy=\n",
       "array([[-2.65443548],\n",
       "       [41.50333482]])>"
      ]
     },
     "execution_count": 72,
     "metadata": {},
     "output_type": "execute_result"
    }
   ],
   "source": [
    "beta = tf.Variable([[1.0], [0.0]], dtype=tf.double)\n",
    "\n",
    "with tf.GradientTape(persistent=True) as t:\n",
    "    t.watch(beta)\n",
    "    \n",
    "    yhat = model(beta)\n",
    "    loss = cross_entropy(y_col, yhat)\n",
    "    \n",
    "t.gradient(loss, beta)"
   ]
  },
  {
   "cell_type": "markdown",
   "metadata": {},
   "source": [
    "The gradient points the way to nudge our parameters $\\beta$."
   ]
  },
  {
   "cell_type": "code",
   "execution_count": 73,
   "metadata": {},
   "outputs": [],
   "source": [
    "optimizer = tf.optimizers.SGD(learning_rate=0.03)\n",
    "\n",
    "beta = tf.Variable([[1.0], [0.0]], dtype=tf.double)\n",
    "\n",
    "for i in range(100):\n",
    "    optimizer.minimize(lambda: cross_entropy(y_col, model(beta)), [beta])"
   ]
  },
  {
   "cell_type": "code",
   "execution_count": 74,
   "metadata": {},
   "outputs": [
    {
     "data": {
      "text/plain": [
       "(4.418187527716732, -6.430974483099049)"
      ]
     },
     "execution_count": 74,
     "metadata": {},
     "output_type": "execute_result"
    }
   ],
   "source": [
    "m, b = beta.numpy().ravel()\n",
    "m,b"
   ]
  },
  {
   "cell_type": "code",
   "execution_count": 75,
   "metadata": {},
   "outputs": [
    {
     "data": {
      "image/png": "[encoded data removed]",
      "text/plain": [
       "<Figure size 432x288 with 1 Axes>"
      ]
     },
     "metadata": {
      "needs_background": "light"
     },
     "output_type": "display_data"
    }
   ],
   "source": [
    "yhat = 1/(1+np.exp(-(m*x+b))) #our model\n",
    "plt.scatter(x, yhat, color=\"orange\", s=2)\n",
    "plt.scatter(x,y,marker=\"+\", s=100)\n",
    "for x_i, y_i, yhat_i in zip(x, y, yhat):\n",
    "    plt.plot([x_i,x_i],[y_i,yhat_i], c=\"red\", lw=0.2)"
   ]
  },
  {
   "cell_type": "code",
   "execution_count": 76,
   "metadata": {},
   "outputs": [
    {
     "name": "stdout",
     "output_type": "stream",
     "text": [
      "Epoch 1/1000\n",
      "200/200 [==============================] - 0s 155us/sample - loss: 167.3427\n",
      "Epoch 2/1000\n",
      "200/200 [==============================] - 0s 9us/sample - loss: 118.7020\n",
      "Epoch 3/1000\n",
      "200/200 [==============================] - 0s 14us/sample - loss: 92.1957\n",
      "Epoch 4/1000\n",
      "200/200 [==============================] - 0s 15us/sample - loss: 78.1108\n",
      "Epoch 5/1000\n",
      "200/200 [==============================] - 0s 23us/sample - loss: 69.9633\n",
      "Epoch 6/1000\n",
      "200/200 [==============================] - 0s 35us/sample - loss: 64.7921\n",
      "Epoch 7/1000\n",
      "200/200 [==============================] - 0s 13us/sample - loss: 61.2519\n",
      "Epoch 8/1000\n",
      "200/200 [==============================] - 0s 17us/sample - loss: 58.6793\n",
      "Epoch 9/1000\n",
      "200/200 [==============================] - 0s 15us/sample - loss: 56.7184\n",
      "Epoch 10/1000\n",
      "200/200 [==============================] - 0s 18us/sample - loss: 55.1647\n",
      "Epoch 11/1000\n",
      "200/200 [==============================] - 0s 64us/sample - loss: 53.8933\n",
      "Epoch 12/1000\n",
      "200/200 [==============================] - 0s 39us/sample - loss: 52.8245\n",
      "Epoch 13/1000\n",
      "200/200 [==============================] - 0s 15us/sample - loss: 51.9053\n",
      "Epoch 14/1000\n",
      "200/200 [==============================] - 0s 12us/sample - loss: 51.0994\n",
      "Epoch 15/1000\n",
      "200/200 [==============================] - 0s 55us/sample - loss: 50.3814\n",
      "Epoch 16/1000\n",
      "200/200 [==============================] - 0s 38us/sample - loss: 49.7326\n",
      "Epoch 17/1000\n",
      "200/200 [==============================] - 0s 24us/sample - loss: 49.1394\n",
      "Epoch 18/1000\n",
      "200/200 [==============================] - 0s 56us/sample - loss: 48.5918\n",
      "Epoch 19/1000\n",
      "200/200 [==============================] - 0s 11us/sample - loss: 48.0818\n",
      "Epoch 20/1000\n",
      "200/200 [==============================] - 0s 8us/sample - loss: 47.6036\n",
      "Epoch 21/1000\n",
      "200/200 [==============================] - 0s 26us/sample - loss: 47.1523\n",
      "Epoch 22/1000\n",
      "200/200 [==============================] - 0s 16us/sample - loss: 46.7243\n",
      "Epoch 23/1000\n",
      "200/200 [==============================] - 0s 53us/sample - loss: 46.3166\n",
      "Epoch 24/1000\n",
      "200/200 [==============================] - 0s 15us/sample - loss: 45.9266\n",
      "Epoch 25/1000\n",
      "200/200 [==============================] - 0s 38us/sample - loss: 45.5526\n",
      "Epoch 26/1000\n",
      "200/200 [==============================] - 0s 30us/sample - loss: 45.1927\n",
      "Epoch 27/1000\n",
      "200/200 [==============================] - 0s 25us/sample - loss: 44.8457\n",
      "Epoch 28/1000\n",
      "200/200 [==============================] - 0s 24us/sample - loss: 44.5104\n",
      "Epoch 29/1000\n",
      "200/200 [==============================] - 0s 16us/sample - loss: 44.1857\n",
      "Epoch 30/1000\n",
      "200/200 [==============================] - 0s 34us/sample - loss: 43.8710\n",
      "Epoch 31/1000\n",
      "200/200 [==============================] - 0s 26us/sample - loss: 43.5654\n",
      "Epoch 32/1000\n",
      "200/200 [==============================] - 0s 11us/sample - loss: 43.2684\n",
      "Epoch 33/1000\n",
      "200/200 [==============================] - 0s 20us/sample - loss: 42.9794\n",
      "Epoch 34/1000\n",
      "200/200 [==============================] - 0s 16us/sample - loss: 42.6979\n",
      "Epoch 35/1000\n",
      "200/200 [==============================] - 0s 22us/sample - loss: 42.4235\n",
      "Epoch 36/1000\n",
      "200/200 [==============================] - 0s 14us/sample - loss: 42.1558\n",
      "Epoch 37/1000\n",
      "200/200 [==============================] - 0s 19us/sample - loss: 41.8944\n",
      "Epoch 38/1000\n",
      "200/200 [==============================] - 0s 14us/sample - loss: 41.6392\n",
      "Epoch 39/1000\n",
      "200/200 [==============================] - 0s 21us/sample - loss: 41.3897\n",
      "Epoch 40/1000\n",
      "200/200 [==============================] - 0s 28us/sample - loss: 41.1458\n",
      "Epoch 41/1000\n",
      "200/200 [==============================] - 0s 24us/sample - loss: 40.9072\n",
      "Epoch 42/1000\n",
      "200/200 [==============================] - 0s 18us/sample - loss: 40.6736\n",
      "Epoch 43/1000\n",
      "200/200 [==============================] - 0s 19us/sample - loss: 40.4450\n",
      "Epoch 44/1000\n",
      "200/200 [==============================] - 0s 27us/sample - loss: 40.2210\n",
      "Epoch 45/1000\n",
      "200/200 [==============================] - 0s 20us/sample - loss: 40.0017\n",
      "Epoch 46/1000\n",
      "200/200 [==============================] - 0s 15us/sample - loss: 39.7866\n",
      "Epoch 47/1000\n",
      "200/200 [==============================] - 0s 19us/sample - loss: 39.5758\n",
      "Epoch 48/1000\n",
      "200/200 [==============================] - 0s 14us/sample - loss: 39.3691\n",
      "Epoch 49/1000\n",
      "200/200 [==============================] - 0s 12us/sample - loss: 39.1664\n",
      "Epoch 50/1000\n",
      "200/200 [==============================] - 0s 25us/sample - loss: 38.9675\n",
      "Epoch 51/1000\n",
      "200/200 [==============================] - 0s 13us/sample - loss: 38.7722\n",
      "Epoch 52/1000\n",
      "200/200 [==============================] - 0s 8us/sample - loss: 38.5806\n",
      "Epoch 53/1000\n",
      "200/200 [==============================] - 0s 13us/sample - loss: 38.3925\n",
      "Epoch 54/1000\n",
      "200/200 [==============================] - 0s 26us/sample - loss: 38.2077\n",
      "Epoch 55/1000\n",
      "200/200 [==============================] - 0s 28us/sample - loss: 38.0263\n",
      "Epoch 56/1000\n",
      "200/200 [==============================] - 0s 42us/sample - loss: 37.8480\n",
      "Epoch 57/1000\n",
      "200/200 [==============================] - 0s 42us/sample - loss: 37.6728\n",
      "Epoch 58/1000\n",
      "200/200 [==============================] - 0s 50us/sample - loss: 37.5007\n",
      "Epoch 59/1000\n",
      "200/200 [==============================] - 0s 37us/sample - loss: 37.3314\n",
      "Epoch 60/1000\n",
      "200/200 [==============================] - 0s 10us/sample - loss: 37.1651\n",
      "Epoch 61/1000\n",
      "200/200 [==============================] - 0s 8us/sample - loss: 37.0015\n",
      "Epoch 62/1000\n",
      "200/200 [==============================] - 0s 14us/sample - loss: 36.8406\n",
      "Epoch 63/1000\n",
      "200/200 [==============================] - 0s 24us/sample - loss: 36.6824\n",
      "Epoch 64/1000\n",
      "200/200 [==============================] - 0s 13us/sample - loss: 36.5268\n",
      "Epoch 65/1000\n",
      "200/200 [==============================] - 0s 14us/sample - loss: 36.3736\n",
      "Epoch 66/1000\n",
      "200/200 [==============================] - 0s 24us/sample - loss: 36.2229\n",
      "Epoch 67/1000\n",
      "200/200 [==============================] - 0s 28us/sample - loss: 36.0746\n",
      "Epoch 68/1000\n",
      "200/200 [==============================] - 0s 25us/sample - loss: 35.9286\n",
      "Epoch 69/1000\n",
      "200/200 [==============================] - 0s 10us/sample - loss: 35.7849\n",
      "Epoch 70/1000\n",
      "200/200 [==============================] - 0s 40us/sample - loss: 35.6433\n",
      "Epoch 71/1000\n",
      "200/200 [==============================] - 0s 30us/sample - loss: 35.5040\n",
      "Epoch 72/1000\n",
      "200/200 [==============================] - 0s 9us/sample - loss: 35.3667\n",
      "Epoch 73/1000\n",
      "200/200 [==============================] - 0s 24us/sample - loss: 35.2315\n",
      "Epoch 74/1000\n",
      "200/200 [==============================] - 0s 27us/sample - loss: 35.0984\n",
      "Epoch 75/1000\n",
      "200/200 [==============================] - 0s 27us/sample - loss: 34.9672\n",
      "Epoch 76/1000\n",
      "200/200 [==============================] - 0s 18us/sample - loss: 34.8379\n",
      "Epoch 77/1000\n",
      "200/200 [==============================] - 0s 17us/sample - loss: 34.7105\n",
      "Epoch 78/1000\n",
      "200/200 [==============================] - 0s 13us/sample - loss: 34.5849\n",
      "Epoch 79/1000\n",
      "200/200 [==============================] - 0s 35us/sample - loss: 34.4611\n",
      "Epoch 80/1000\n",
      "200/200 [==============================] - 0s 14us/sample - loss: 34.3391\n",
      "Epoch 81/1000\n",
      "200/200 [==============================] - 0s 25us/sample - loss: 34.2188\n",
      "Epoch 82/1000\n",
      "200/200 [==============================] - 0s 15us/sample - loss: 34.1002\n",
      "Epoch 83/1000\n",
      "200/200 [==============================] - 0s 13us/sample - loss: 33.9832\n",
      "Epoch 84/1000\n",
      "200/200 [==============================] - 0s 34us/sample - loss: 33.8678\n",
      "Epoch 85/1000\n",
      "200/200 [==============================] - 0s 31us/sample - loss: 33.7540\n",
      "Epoch 86/1000\n",
      "200/200 [==============================] - 0s 35us/sample - loss: 33.6418\n",
      "Epoch 87/1000\n",
      "200/200 [==============================] - 0s 35us/sample - loss: 33.5310\n",
      "Epoch 88/1000\n",
      "200/200 [==============================] - 0s 31us/sample - loss: 33.4218\n",
      "Epoch 89/1000\n",
      "200/200 [==============================] - 0s 45us/sample - loss: 33.3139\n",
      "Epoch 90/1000\n",
      "200/200 [==============================] - 0s 11us/sample - loss: 33.2075\n",
      "Epoch 91/1000\n",
      "200/200 [==============================] - 0s 11us/sample - loss: 33.1025\n",
      "Epoch 92/1000\n",
      "200/200 [==============================] - 0s 10us/sample - loss: 32.9989\n",
      "Epoch 93/1000\n",
      "200/200 [==============================] - 0s 42us/sample - loss: 32.8965\n",
      "Epoch 94/1000\n",
      "200/200 [==============================] - 0s 18us/sample - loss: 32.7955\n"
     ]
    },
    {
     "name": "stdout",
     "output_type": "stream",
     "text": [
      "Epoch 95/1000\n",
      "200/200 [==============================] - 0s 15us/sample - loss: 32.6958\n",
      "Epoch 96/1000\n",
      "200/200 [==============================] - 0s 36us/sample - loss: 32.5973\n",
      "Epoch 97/1000\n",
      "200/200 [==============================] - 0s 46us/sample - loss: 32.5001\n",
      "Epoch 98/1000\n",
      "200/200 [==============================] - 0s 16us/sample - loss: 32.4040\n",
      "Epoch 99/1000\n",
      "200/200 [==============================] - 0s 39us/sample - loss: 32.3092\n",
      "Epoch 100/1000\n",
      "200/200 [==============================] - 0s 17us/sample - loss: 32.2155\n",
      "Epoch 101/1000\n",
      "200/200 [==============================] - 0s 27us/sample - loss: 32.1229\n",
      "Epoch 102/1000\n",
      "200/200 [==============================] - 0s 13us/sample - loss: 32.0315\n",
      "Epoch 103/1000\n",
      "200/200 [==============================] - 0s 35us/sample - loss: 31.9412\n",
      "Epoch 104/1000\n",
      "200/200 [==============================] - 0s 11us/sample - loss: 31.8519\n",
      "Epoch 105/1000\n",
      "200/200 [==============================] - 0s 14us/sample - loss: 31.7637\n",
      "Epoch 106/1000\n",
      "200/200 [==============================] - 0s 9us/sample - loss: 31.6765\n",
      "Epoch 107/1000\n",
      "200/200 [==============================] - 0s 28us/sample - loss: 31.5904\n",
      "Epoch 108/1000\n",
      "200/200 [==============================] - 0s 68us/sample - loss: 31.5053\n",
      "Epoch 109/1000\n",
      "200/200 [==============================] - 0s 21us/sample - loss: 31.4211\n",
      "Epoch 110/1000\n",
      "200/200 [==============================] - 0s 32us/sample - loss: 31.3379\n",
      "Epoch 111/1000\n",
      "200/200 [==============================] - 0s 12us/sample - loss: 31.2556\n",
      "Epoch 112/1000\n",
      "200/200 [==============================] - 0s 40us/sample - loss: 31.1743\n",
      "Epoch 113/1000\n",
      "200/200 [==============================] - 0s 32us/sample - loss: 31.0939\n",
      "Epoch 114/1000\n",
      "200/200 [==============================] - 0s 15us/sample - loss: 31.0144\n",
      "Epoch 115/1000\n",
      "200/200 [==============================] - 0s 30us/sample - loss: 30.9358\n",
      "Epoch 116/1000\n",
      "200/200 [==============================] - 0s 14us/sample - loss: 30.8580\n",
      "Epoch 117/1000\n",
      "200/200 [==============================] - 0s 12us/sample - loss: 30.7811\n",
      "Epoch 118/1000\n",
      "200/200 [==============================] - 0s 12us/sample - loss: 30.7051\n",
      "Epoch 119/1000\n",
      "200/200 [==============================] - 0s 26us/sample - loss: 30.6298\n",
      "Epoch 120/1000\n",
      "200/200 [==============================] - 0s 15us/sample - loss: 30.5554\n",
      "Epoch 121/1000\n",
      "200/200 [==============================] - 0s 38us/sample - loss: 30.4817\n",
      "Epoch 122/1000\n",
      "200/200 [==============================] - 0s 19us/sample - loss: 30.4089\n",
      "Epoch 123/1000\n",
      "200/200 [==============================] - 0s 23us/sample - loss: 30.3368\n",
      "Epoch 124/1000\n",
      "200/200 [==============================] - 0s 27us/sample - loss: 30.2655\n",
      "Epoch 125/1000\n",
      "200/200 [==============================] - 0s 33us/sample - loss: 30.1949\n",
      "Epoch 126/1000\n",
      "200/200 [==============================] - 0s 23us/sample - loss: 30.1251\n",
      "Epoch 127/1000\n",
      "200/200 [==============================] - 0s 28us/sample - loss: 30.0559\n",
      "Epoch 128/1000\n",
      "200/200 [==============================] - 0s 30us/sample - loss: 29.9875\n",
      "Epoch 129/1000\n",
      "200/200 [==============================] - 0s 16us/sample - loss: 29.9198\n",
      "Epoch 130/1000\n",
      "200/200 [==============================] - 0s 43us/sample - loss: 29.8528\n",
      "Epoch 131/1000\n",
      "200/200 [==============================] - 0s 77us/sample - loss: 29.7864\n",
      "Epoch 132/1000\n",
      "200/200 [==============================] - 0s 61us/sample - loss: 29.7207\n",
      "Epoch 133/1000\n",
      "200/200 [==============================] - 0s 22us/sample - loss: 29.6557\n",
      "Epoch 134/1000\n",
      "200/200 [==============================] - 0s 46us/sample - loss: 29.5913\n",
      "Epoch 135/1000\n",
      "200/200 [==============================] - 0s 75us/sample - loss: 29.5275\n",
      "Epoch 136/1000\n",
      "200/200 [==============================] - 0s 26us/sample - loss: 29.4644\n",
      "Epoch 137/1000\n",
      "200/200 [==============================] - 0s 17us/sample - loss: 29.4019\n",
      "Epoch 138/1000\n",
      "200/200 [==============================] - 0s 10us/sample - loss: 29.3400\n",
      "Epoch 139/1000\n",
      "200/200 [==============================] - 0s 26us/sample - loss: 29.2787\n",
      "Epoch 140/1000\n",
      "200/200 [==============================] - 0s 40us/sample - loss: 29.2180\n",
      "Epoch 141/1000\n",
      "200/200 [==============================] - 0s 14us/sample - loss: 29.1578\n",
      "Epoch 142/1000\n",
      "200/200 [==============================] - 0s 28us/sample - loss: 29.0982\n",
      "Epoch 143/1000\n",
      "200/200 [==============================] - 0s 13us/sample - loss: 29.0392\n",
      "Epoch 144/1000\n",
      "200/200 [==============================] - 0s 15us/sample - loss: 28.9808\n",
      "Epoch 145/1000\n",
      "200/200 [==============================] - 0s 24us/sample - loss: 28.9229\n",
      "Epoch 146/1000\n",
      "200/200 [==============================] - 0s 28us/sample - loss: 28.8655\n",
      "Epoch 147/1000\n",
      "200/200 [==============================] - 0s 14us/sample - loss: 28.8087\n",
      "Epoch 148/1000\n",
      "200/200 [==============================] - 0s 52us/sample - loss: 28.7523\n",
      "Epoch 149/1000\n",
      "200/200 [==============================] - 0s 109us/sample - loss: 28.6965\n",
      "Epoch 150/1000\n",
      "200/200 [==============================] - 0s 48us/sample - loss: 28.6412\n",
      "Epoch 151/1000\n",
      "200/200 [==============================] - 0s 146us/sample - loss: 28.5864\n",
      "Epoch 152/1000\n",
      "200/200 [==============================] - 0s 14us/sample - loss: 28.5321\n",
      "Epoch 153/1000\n",
      "200/200 [==============================] - 0s 21us/sample - loss: 28.4783\n",
      "Epoch 154/1000\n",
      "200/200 [==============================] - 0s 9us/sample - loss: 28.4250\n",
      "Epoch 155/1000\n",
      "200/200 [==============================] - 0s 26us/sample - loss: 28.3721\n",
      "Epoch 156/1000\n",
      "200/200 [==============================] - 0s 14us/sample - loss: 28.3197\n",
      "Epoch 157/1000\n",
      "200/200 [==============================] - 0s 23us/sample - loss: 28.2678\n",
      "Epoch 158/1000\n",
      "200/200 [==============================] - 0s 16us/sample - loss: 28.2163\n",
      "Epoch 159/1000\n",
      "200/200 [==============================] - 0s 11us/sample - loss: 28.1653\n",
      "Epoch 160/1000\n",
      "200/200 [==============================] - 0s 10us/sample - loss: 28.1147\n",
      "Epoch 161/1000\n",
      "200/200 [==============================] - 0s 11us/sample - loss: 28.0645\n",
      "Epoch 162/1000\n",
      "200/200 [==============================] - 0s 12us/sample - loss: 28.0148\n",
      "Epoch 163/1000\n",
      "200/200 [==============================] - 0s 35us/sample - loss: 27.9655\n",
      "Epoch 164/1000\n",
      "200/200 [==============================] - 0s 22us/sample - loss: 27.9166\n",
      "Epoch 165/1000\n",
      "200/200 [==============================] - 0s 28us/sample - loss: 27.8681\n",
      "Epoch 166/1000\n",
      "200/200 [==============================] - 0s 25us/sample - loss: 27.8200\n",
      "Epoch 167/1000\n",
      "200/200 [==============================] - 0s 31us/sample - loss: 27.7724\n",
      "Epoch 168/1000\n",
      "200/200 [==============================] - 0s 18us/sample - loss: 27.7251\n",
      "Epoch 169/1000\n",
      "200/200 [==============================] - 0s 24us/sample - loss: 27.6782\n",
      "Epoch 170/1000\n",
      "200/200 [==============================] - 0s 31us/sample - loss: 27.6317\n",
      "Epoch 171/1000\n",
      "200/200 [==============================] - 0s 28us/sample - loss: 27.5856\n",
      "Epoch 172/1000\n",
      "200/200 [==============================] - 0s 26us/sample - loss: 27.5398\n",
      "Epoch 173/1000\n",
      "200/200 [==============================] - 0s 38us/sample - loss: 27.4945\n",
      "Epoch 174/1000\n",
      "200/200 [==============================] - 0s 13us/sample - loss: 27.4495\n",
      "Epoch 175/1000\n",
      "200/200 [==============================] - 0s 19us/sample - loss: 27.4048\n",
      "Epoch 176/1000\n",
      "200/200 [==============================] - 0s 45us/sample - loss: 27.3606\n",
      "Epoch 177/1000\n",
      "200/200 [==============================] - 0s 39us/sample - loss: 27.3166\n",
      "Epoch 178/1000\n",
      "200/200 [==============================] - 0s 9us/sample - loss: 27.2731\n",
      "Epoch 179/1000\n",
      "200/200 [==============================] - 0s 16us/sample - loss: 27.2298\n",
      "Epoch 180/1000\n",
      "200/200 [==============================] - 0s 33us/sample - loss: 27.1869\n",
      "Epoch 181/1000\n",
      "200/200 [==============================] - 0s 23us/sample - loss: 27.1444\n",
      "Epoch 182/1000\n",
      "200/200 [==============================] - 0s 17us/sample - loss: 27.1021\n",
      "Epoch 183/1000\n",
      "200/200 [==============================] - 0s 66us/sample - loss: 27.0603\n",
      "Epoch 184/1000\n",
      "200/200 [==============================] - 0s 30us/sample - loss: 27.0187\n",
      "Epoch 185/1000\n",
      "200/200 [==============================] - 0s 13us/sample - loss: 26.9774\n",
      "Epoch 186/1000\n",
      "200/200 [==============================] - 0s 51us/sample - loss: 26.9365\n",
      "Epoch 187/1000\n"
     ]
    },
    {
     "name": "stdout",
     "output_type": "stream",
     "text": [
      "200/200 [==============================] - 0s 37us/sample - loss: 26.8959\n",
      "Epoch 188/1000\n",
      "200/200 [==============================] - 0s 34us/sample - loss: 26.8555\n",
      "Epoch 189/1000\n",
      "200/200 [==============================] - 0s 23us/sample - loss: 26.8155\n",
      "Epoch 190/1000\n",
      "200/200 [==============================] - 0s 29us/sample - loss: 26.7758\n",
      "Epoch 191/1000\n",
      "200/200 [==============================] - 0s 17us/sample - loss: 26.7364\n",
      "Epoch 192/1000\n",
      "200/200 [==============================] - 0s 17us/sample - loss: 26.6973\n",
      "Epoch 193/1000\n",
      "200/200 [==============================] - 0s 27us/sample - loss: 26.6584\n",
      "Epoch 194/1000\n",
      "200/200 [==============================] - 0s 43us/sample - loss: 26.6199\n",
      "Epoch 195/1000\n",
      "200/200 [==============================] - 0s 22us/sample - loss: 26.5816\n",
      "Epoch 196/1000\n",
      "200/200 [==============================] - 0s 52us/sample - loss: 26.5436\n",
      "Epoch 197/1000\n",
      "200/200 [==============================] - 0s 20us/sample - loss: 26.5059\n",
      "Epoch 198/1000\n",
      "200/200 [==============================] - 0s 8us/sample - loss: 26.4685\n",
      "Epoch 199/1000\n",
      "200/200 [==============================] - 0s 30us/sample - loss: 26.4314\n",
      "Epoch 200/1000\n",
      "200/200 [==============================] - 0s 15us/sample - loss: 26.3945\n",
      "Epoch 201/1000\n",
      "200/200 [==============================] - 0s 12us/sample - loss: 26.3578\n",
      "Epoch 202/1000\n",
      "200/200 [==============================] - 0s 9us/sample - loss: 26.3215\n",
      "Epoch 203/1000\n",
      "200/200 [==============================] - 0s 12us/sample - loss: 26.2854\n",
      "Epoch 204/1000\n",
      "200/200 [==============================] - 0s 12us/sample - loss: 26.2495\n",
      "Epoch 205/1000\n",
      "200/200 [==============================] - 0s 13us/sample - loss: 26.2139\n",
      "Epoch 206/1000\n",
      "200/200 [==============================] - 0s 13us/sample - loss: 26.1786\n",
      "Epoch 207/1000\n",
      "200/200 [==============================] - 0s 16us/sample - loss: 26.1435\n",
      "Epoch 208/1000\n",
      "200/200 [==============================] - 0s 12us/sample - loss: 26.1087\n",
      "Epoch 209/1000\n",
      "200/200 [==============================] - 0s 61us/sample - loss: 26.0740\n",
      "Epoch 210/1000\n",
      "200/200 [==============================] - 0s 9us/sample - loss: 26.0397\n",
      "Epoch 211/1000\n",
      "200/200 [==============================] - 0s 20us/sample - loss: 26.0055\n",
      "Epoch 212/1000\n",
      "200/200 [==============================] - 0s 18us/sample - loss: 25.9716\n",
      "Epoch 213/1000\n",
      "200/200 [==============================] - 0s 33us/sample - loss: 25.9380\n",
      "Epoch 214/1000\n",
      "200/200 [==============================] - 0s 13us/sample - loss: 25.9045\n",
      "Epoch 215/1000\n",
      "200/200 [==============================] - 0s 22us/sample - loss: 25.8713\n",
      "Epoch 216/1000\n",
      "200/200 [==============================] - 0s 15us/sample - loss: 25.8383\n",
      "Epoch 217/1000\n",
      "200/200 [==============================] - 0s 42us/sample - loss: 25.8056\n",
      "Epoch 218/1000\n",
      "200/200 [==============================] - 0s 23us/sample - loss: 25.7730\n",
      "Epoch 219/1000\n",
      "200/200 [==============================] - 0s 35us/sample - loss: 25.7407\n",
      "Epoch 220/1000\n",
      "200/200 [==============================] - 0s 14us/sample - loss: 25.7086\n",
      "Epoch 221/1000\n",
      "200/200 [==============================] - 0s 33us/sample - loss: 25.6767\n",
      "Epoch 222/1000\n",
      "200/200 [==============================] - 0s 17us/sample - loss: 25.6450\n",
      "Epoch 223/1000\n",
      "200/200 [==============================] - 0s 22us/sample - loss: 25.6135\n",
      "Epoch 224/1000\n",
      "200/200 [==============================] - 0s 22us/sample - loss: 25.5823\n",
      "Epoch 225/1000\n",
      "200/200 [==============================] - 0s 29us/sample - loss: 25.5512\n",
      "Epoch 226/1000\n",
      "200/200 [==============================] - 0s 21us/sample - loss: 25.5203\n",
      "Epoch 227/1000\n",
      "200/200 [==============================] - 0s 33us/sample - loss: 25.4897\n",
      "Epoch 228/1000\n",
      "200/200 [==============================] - 0s 32us/sample - loss: 25.4592\n",
      "Epoch 229/1000\n",
      "200/200 [==============================] - 0s 44us/sample - loss: 25.4289\n",
      "Epoch 230/1000\n",
      "200/200 [==============================] - 0s 23us/sample - loss: 25.3989\n",
      "Epoch 231/1000\n",
      "200/200 [==============================] - 0s 33us/sample - loss: 25.3690\n",
      "Epoch 232/1000\n",
      "200/200 [==============================] - 0s 14us/sample - loss: 25.3393\n",
      "Epoch 233/1000\n",
      "200/200 [==============================] - 0s 37us/sample - loss: 25.3098\n",
      "Epoch 234/1000\n",
      "200/200 [==============================] - 0s 18us/sample - loss: 25.2804\n",
      "Epoch 235/1000\n",
      "200/200 [==============================] - 0s 57us/sample - loss: 25.2513\n",
      "Epoch 236/1000\n",
      "200/200 [==============================] - 0s 21us/sample - loss: 25.2224\n",
      "Epoch 237/1000\n",
      "200/200 [==============================] - 0s 30us/sample - loss: 25.1936\n",
      "Epoch 238/1000\n",
      "200/200 [==============================] - 0s 23us/sample - loss: 25.1650\n",
      "Epoch 239/1000\n",
      "200/200 [==============================] - 0s 17us/sample - loss: 25.1366\n",
      "Epoch 240/1000\n",
      "200/200 [==============================] - 0s 25us/sample - loss: 25.1083\n",
      "Epoch 241/1000\n",
      "200/200 [==============================] - 0s 22us/sample - loss: 25.0803\n",
      "Epoch 242/1000\n",
      "200/200 [==============================] - 0s 27us/sample - loss: 25.0524\n",
      "Epoch 243/1000\n",
      "200/200 [==============================] - 0s 22us/sample - loss: 25.0247\n",
      "Epoch 244/1000\n",
      "200/200 [==============================] - 0s 21us/sample - loss: 24.9971\n",
      "Epoch 245/1000\n",
      "200/200 [==============================] - 0s 28us/sample - loss: 24.9697\n",
      "Epoch 246/1000\n",
      "200/200 [==============================] - 0s 23us/sample - loss: 24.9425\n",
      "Epoch 247/1000\n",
      "200/200 [==============================] - 0s 9us/sample - loss: 24.9154\n",
      "Epoch 248/1000\n",
      "200/200 [==============================] - 0s 35us/sample - loss: 24.8885\n",
      "Epoch 249/1000\n",
      "200/200 [==============================] - 0s 15us/sample - loss: 24.8618\n",
      "Epoch 250/1000\n",
      "200/200 [==============================] - 0s 25us/sample - loss: 24.8352\n",
      "Epoch 251/1000\n",
      "200/200 [==============================] - 0s 24us/sample - loss: 24.8088\n",
      "Epoch 252/1000\n",
      "200/200 [==============================] - 0s 44us/sample - loss: 24.7826\n",
      "Epoch 253/1000\n",
      "200/200 [==============================] - 0s 33us/sample - loss: 24.7564\n",
      "Epoch 254/1000\n",
      "200/200 [==============================] - 0s 68us/sample - loss: 24.7305\n",
      "Epoch 255/1000\n",
      "200/200 [==============================] - 0s 23us/sample - loss: 24.7047\n",
      "Epoch 256/1000\n",
      "200/200 [==============================] - 0s 15us/sample - loss: 24.6790\n",
      "Epoch 257/1000\n",
      "200/200 [==============================] - 0s 47us/sample - loss: 24.6536\n",
      "Epoch 258/1000\n",
      "200/200 [==============================] - 0s 8us/sample - loss: 24.6282\n",
      "Epoch 259/1000\n",
      "200/200 [==============================] - 0s 9us/sample - loss: 24.6030\n",
      "Epoch 260/1000\n",
      "200/200 [==============================] - 0s 36us/sample - loss: 24.5779\n",
      "Epoch 261/1000\n",
      "200/200 [==============================] - 0s 10us/sample - loss: 24.5530\n",
      "Epoch 262/1000\n",
      "200/200 [==============================] - 0s 70us/sample - loss: 24.5283\n",
      "Epoch 263/1000\n",
      "200/200 [==============================] - 0s 31us/sample - loss: 24.5036\n",
      "Epoch 264/1000\n",
      "200/200 [==============================] - 0s 24us/sample - loss: 24.4791\n",
      "Epoch 265/1000\n",
      "200/200 [==============================] - 0s 30us/sample - loss: 24.4548\n",
      "Epoch 266/1000\n",
      "200/200 [==============================] - 0s 22us/sample - loss: 24.4306\n",
      "Epoch 267/1000\n",
      "200/200 [==============================] - 0s 19us/sample - loss: 24.4065\n",
      "Epoch 268/1000\n",
      "200/200 [==============================] - 0s 11us/sample - loss: 24.3826\n",
      "Epoch 269/1000\n",
      "200/200 [==============================] - 0s 90us/sample - loss: 24.3587\n",
      "Epoch 270/1000\n",
      "200/200 [==============================] - 0s 22us/sample - loss: 24.3351\n",
      "Epoch 271/1000\n",
      "200/200 [==============================] - 0s 28us/sample - loss: 24.3115\n",
      "Epoch 272/1000\n",
      "200/200 [==============================] - 0s 50us/sample - loss: 24.2881\n",
      "Epoch 273/1000\n",
      "200/200 [==============================] - 0s 13us/sample - loss: 24.2648\n",
      "Epoch 274/1000\n",
      "200/200 [==============================] - 0s 21us/sample - loss: 24.2417\n",
      "Epoch 275/1000\n",
      "200/200 [==============================] - 0s 26us/sample - loss: 24.2186\n",
      "Epoch 276/1000\n",
      "200/200 [==============================] - 0s 112us/sample - loss: 24.1957\n",
      "Epoch 277/1000\n",
      "200/200 [==============================] - 0s 60us/sample - loss: 24.1730\n",
      "Epoch 278/1000\n",
      "200/200 [==============================] - 0s 17us/sample - loss: 24.1503\n",
      "Epoch 279/1000\n",
      "200/200 [==============================] - 0s 149us/sample - loss: 24.1278\n"
     ]
    },
    {
     "name": "stdout",
     "output_type": "stream",
     "text": [
      "Epoch 280/1000\n",
      "200/200 [==============================] - 0s 36us/sample - loss: 24.1054\n",
      "Epoch 281/1000\n",
      "200/200 [==============================] - 0s 27us/sample - loss: 24.0831\n",
      "Epoch 282/1000\n",
      "200/200 [==============================] - 0s 111us/sample - loss: 24.0609\n",
      "Epoch 283/1000\n",
      "200/200 [==============================] - 0s 45us/sample - loss: 24.0389\n",
      "Epoch 284/1000\n",
      "200/200 [==============================] - 0s 15us/sample - loss: 24.0169\n",
      "Epoch 285/1000\n",
      "200/200 [==============================] - 0s 92us/sample - loss: 23.9951\n",
      "Epoch 286/1000\n",
      "200/200 [==============================] - 0s 14us/sample - loss: 23.9734\n",
      "Epoch 287/1000\n",
      "200/200 [==============================] - 0s 33us/sample - loss: 23.9519\n",
      "Epoch 288/1000\n",
      "200/200 [==============================] - 0s 18us/sample - loss: 23.9304\n",
      "Epoch 289/1000\n",
      "200/200 [==============================] - 0s 15us/sample - loss: 23.9090\n",
      "Epoch 290/1000\n",
      "200/200 [==============================] - 0s 13us/sample - loss: 23.8878\n",
      "Epoch 291/1000\n",
      "200/200 [==============================] - 0s 42us/sample - loss: 23.8666\n",
      "Epoch 292/1000\n",
      "200/200 [==============================] - 0s 29us/sample - loss: 23.8456\n",
      "Epoch 293/1000\n",
      "200/200 [==============================] - 0s 40us/sample - loss: 23.8247\n",
      "Epoch 294/1000\n",
      "200/200 [==============================] - 0s 27us/sample - loss: 23.8039\n",
      "Epoch 295/1000\n",
      "200/200 [==============================] - 0s 14us/sample - loss: 23.7832\n",
      "Epoch 296/1000\n",
      "200/200 [==============================] - 0s 72us/sample - loss: 23.7626\n",
      "Epoch 297/1000\n",
      "200/200 [==============================] - 0s 147us/sample - loss: 23.7421\n",
      "Epoch 298/1000\n",
      "200/200 [==============================] - 0s 51us/sample - loss: 23.7217\n",
      "Epoch 299/1000\n",
      "200/200 [==============================] - 0s 49us/sample - loss: 23.7015\n",
      "Epoch 300/1000\n",
      "200/200 [==============================] - 0s 61us/sample - loss: 23.6813\n",
      "Epoch 301/1000\n",
      "200/200 [==============================] - 0s 41us/sample - loss: 23.6612\n",
      "Epoch 302/1000\n",
      "200/200 [==============================] - 0s 30us/sample - loss: 23.6412\n",
      "Epoch 303/1000\n",
      "200/200 [==============================] - 0s 31us/sample - loss: 23.6214\n",
      "Epoch 304/1000\n",
      "200/200 [==============================] - 0s 76us/sample - loss: 23.6016\n",
      "Epoch 305/1000\n",
      "200/200 [==============================] - 0s 17us/sample - loss: 23.5819\n",
      "Epoch 306/1000\n",
      "200/200 [==============================] - 0s 13us/sample - loss: 23.5624\n",
      "Epoch 307/1000\n",
      "200/200 [==============================] - 0s 13us/sample - loss: 23.5429\n",
      "Epoch 308/1000\n",
      "200/200 [==============================] - 0s 80us/sample - loss: 23.5235\n",
      "Epoch 309/1000\n",
      "200/200 [==============================] - 0s 80us/sample - loss: 23.5042\n",
      "Epoch 310/1000\n",
      "200/200 [==============================] - 0s 120us/sample - loss: 23.4850\n",
      "Epoch 311/1000\n",
      "200/200 [==============================] - 0s 55us/sample - loss: 23.4660\n",
      "Epoch 312/1000\n",
      "200/200 [==============================] - 0s 33us/sample - loss: 23.4470\n",
      "Epoch 313/1000\n",
      "200/200 [==============================] - 0s 56us/sample - loss: 23.4280\n",
      "Epoch 314/1000\n",
      "200/200 [==============================] - 0s 17us/sample - loss: 23.4092\n",
      "Epoch 315/1000\n",
      "200/200 [==============================] - 0s 50us/sample - loss: 23.3905\n",
      "Epoch 316/1000\n",
      "200/200 [==============================] - 0s 26us/sample - loss: 23.3719\n",
      "Epoch 317/1000\n",
      "200/200 [==============================] - 0s 36us/sample - loss: 23.3533\n",
      "Epoch 318/1000\n",
      "200/200 [==============================] - 0s 12us/sample - loss: 23.3349\n",
      "Epoch 319/1000\n",
      "200/200 [==============================] - 0s 54us/sample - loss: 23.3165\n",
      "Epoch 320/1000\n",
      "200/200 [==============================] - 0s 21us/sample - loss: 23.2983\n",
      "Epoch 321/1000\n",
      "200/200 [==============================] - 0s 14us/sample - loss: 23.2801\n",
      "Epoch 322/1000\n",
      "200/200 [==============================] - 0s 14us/sample - loss: 23.2620\n",
      "Epoch 323/1000\n",
      "200/200 [==============================] - 0s 16us/sample - loss: 23.2440\n",
      "Epoch 324/1000\n",
      "200/200 [==============================] - 0s 19us/sample - loss: 23.2260\n",
      "Epoch 325/1000\n",
      "200/200 [==============================] - 0s 16us/sample - loss: 23.2082\n",
      "Epoch 326/1000\n",
      "200/200 [==============================] - 0s 30us/sample - loss: 23.1904\n",
      "Epoch 327/1000\n",
      "200/200 [==============================] - 0s 49us/sample - loss: 23.1728\n",
      "Epoch 328/1000\n",
      "200/200 [==============================] - 0s 90us/sample - loss: 23.1552\n",
      "Epoch 329/1000\n",
      "200/200 [==============================] - 0s 13us/sample - loss: 23.1377\n",
      "Epoch 330/1000\n",
      "200/200 [==============================] - 0s 43us/sample - loss: 23.1202\n",
      "Epoch 331/1000\n",
      "200/200 [==============================] - 0s 55us/sample - loss: 23.1029\n",
      "Epoch 332/1000\n",
      "200/200 [==============================] - 0s 9us/sample - loss: 23.0856\n",
      "Epoch 333/1000\n",
      "200/200 [==============================] - 0s 12us/sample - loss: 23.0684\n",
      "Epoch 334/1000\n",
      "200/200 [==============================] - 0s 14us/sample - loss: 23.0513\n",
      "Epoch 335/1000\n",
      "200/200 [==============================] - 0s 16us/sample - loss: 23.0343\n",
      "Epoch 336/1000\n",
      "200/200 [==============================] - 0s 17us/sample - loss: 23.0174\n",
      "Epoch 337/1000\n",
      "200/200 [==============================] - 0s 25us/sample - loss: 23.0005\n",
      "Epoch 338/1000\n",
      "200/200 [==============================] - 0s 28us/sample - loss: 22.9837\n",
      "Epoch 339/1000\n",
      "200/200 [==============================] - 0s 35us/sample - loss: 22.9670\n",
      "Epoch 340/1000\n",
      "200/200 [==============================] - 0s 31us/sample - loss: 22.9503\n",
      "Epoch 341/1000\n",
      "200/200 [==============================] - 0s 22us/sample - loss: 22.9338\n",
      "Epoch 342/1000\n",
      "200/200 [==============================] - 0s 37us/sample - loss: 22.9173\n",
      "Epoch 343/1000\n",
      "200/200 [==============================] - 0s 33us/sample - loss: 22.9009\n",
      "Epoch 344/1000\n",
      "200/200 [==============================] - 0s 49us/sample - loss: 22.8845\n",
      "Epoch 345/1000\n",
      "200/200 [==============================] - 0s 99us/sample - loss: 22.8683\n",
      "Epoch 346/1000\n",
      "200/200 [==============================] - 0s 76us/sample - loss: 22.8521\n",
      "Epoch 347/1000\n",
      "200/200 [==============================] - 0s 19us/sample - loss: 22.8359\n",
      "Epoch 348/1000\n",
      "200/200 [==============================] - 0s 14us/sample - loss: 22.8199\n",
      "Epoch 349/1000\n",
      "200/200 [==============================] - 0s 111us/sample - loss: 22.8039\n",
      "Epoch 350/1000\n",
      "200/200 [==============================] - 0s 44us/sample - loss: 22.7880\n",
      "Epoch 351/1000\n",
      "200/200 [==============================] - 0s 81us/sample - loss: 22.7722\n",
      "Epoch 352/1000\n",
      "200/200 [==============================] - 0s 20us/sample - loss: 22.7564\n",
      "Epoch 353/1000\n",
      "200/200 [==============================] - 0s 104us/sample - loss: 22.7407\n",
      "Epoch 354/1000\n",
      "200/200 [==============================] - 0s 27us/sample - loss: 22.7251\n",
      "Epoch 355/1000\n",
      "200/200 [==============================] - 0s 99us/sample - loss: 22.7095\n",
      "Epoch 356/1000\n",
      "200/200 [==============================] - 0s 16us/sample - loss: 22.6940\n",
      "Epoch 357/1000\n",
      "200/200 [==============================] - 0s 15us/sample - loss: 22.6786\n",
      "Epoch 358/1000\n",
      "200/200 [==============================] - 0s 15us/sample - loss: 22.6632\n",
      "Epoch 359/1000\n",
      "200/200 [==============================] - 0s 44us/sample - loss: 22.6479\n",
      "Epoch 360/1000\n",
      "200/200 [==============================] - 0s 23us/sample - loss: 22.6327\n",
      "Epoch 361/1000\n",
      "200/200 [==============================] - 0s 62us/sample - loss: 22.6176\n",
      "Epoch 362/1000\n",
      "200/200 [==============================] - 0s 55us/sample - loss: 22.6025\n",
      "Epoch 363/1000\n",
      "200/200 [==============================] - 0s 52us/sample - loss: 22.5874\n",
      "Epoch 364/1000\n",
      "200/200 [==============================] - 0s 14us/sample - loss: 22.5725\n",
      "Epoch 365/1000\n",
      "200/200 [==============================] - 0s 24us/sample - loss: 22.5576\n",
      "Epoch 366/1000\n",
      "200/200 [==============================] - 0s 98us/sample - loss: 22.5427\n",
      "Epoch 367/1000\n",
      "200/200 [==============================] - 0s 47us/sample - loss: 22.5279\n",
      "Epoch 368/1000\n",
      "200/200 [==============================] - 0s 10us/sample - loss: 22.5132\n",
      "Epoch 369/1000\n",
      "200/200 [==============================] - 0s 36us/sample - loss: 22.4986\n",
      "Epoch 370/1000\n",
      "200/200 [==============================] - 0s 15us/sample - loss: 22.4840\n",
      "Epoch 371/1000\n",
      "200/200 [==============================] - 0s 58us/sample - loss: 22.4695\n",
      "Epoch 372/1000\n",
      "200/200 [==============================] - 0s 14us/sample - loss: 22.4550\n"
     ]
    },
    {
     "name": "stdout",
     "output_type": "stream",
     "text": [
      "Epoch 373/1000\n",
      "200/200 [==============================] - 0s 47us/sample - loss: 22.4406\n",
      "Epoch 374/1000\n",
      "200/200 [==============================] - 0s 26us/sample - loss: 22.4262\n",
      "Epoch 375/1000\n",
      "200/200 [==============================] - 0s 39us/sample - loss: 22.4120\n",
      "Epoch 376/1000\n",
      "200/200 [==============================] - 0s 24us/sample - loss: 22.3977\n",
      "Epoch 377/1000\n",
      "200/200 [==============================] - 0s 8us/sample - loss: 22.3836\n",
      "Epoch 378/1000\n",
      "200/200 [==============================] - 0s 16us/sample - loss: 22.3695\n",
      "Epoch 379/1000\n",
      "200/200 [==============================] - 0s 14us/sample - loss: 22.3554\n",
      "Epoch 380/1000\n",
      "200/200 [==============================] - 0s 44us/sample - loss: 22.3414\n",
      "Epoch 381/1000\n",
      "200/200 [==============================] - 0s 46us/sample - loss: 22.3275\n",
      "Epoch 382/1000\n",
      "200/200 [==============================] - 0s 20us/sample - loss: 22.3136\n",
      "Epoch 383/1000\n",
      "200/200 [==============================] - 0s 101us/sample - loss: 22.2998\n",
      "Epoch 384/1000\n",
      "200/200 [==============================] - 0s 62us/sample - loss: 22.2860\n",
      "Epoch 385/1000\n",
      "200/200 [==============================] - 0s 44us/sample - loss: 22.2723\n",
      "Epoch 386/1000\n",
      "200/200 [==============================] - 0s 26us/sample - loss: 22.2586\n",
      "Epoch 387/1000\n",
      "200/200 [==============================] - 0s 12us/sample - loss: 22.2451\n",
      "Epoch 388/1000\n",
      "200/200 [==============================] - 0s 20us/sample - loss: 22.2315\n",
      "Epoch 389/1000\n",
      "200/200 [==============================] - 0s 39us/sample - loss: 22.2180\n",
      "Epoch 390/1000\n",
      "200/200 [==============================] - 0s 21us/sample - loss: 22.2046\n",
      "Epoch 391/1000\n",
      "200/200 [==============================] - 0s 34us/sample - loss: 22.1912\n",
      "Epoch 392/1000\n",
      "200/200 [==============================] - 0s 12us/sample - loss: 22.1779\n",
      "Epoch 393/1000\n",
      "200/200 [==============================] - 0s 42us/sample - loss: 22.1646\n",
      "Epoch 394/1000\n",
      "200/200 [==============================] - 0s 20us/sample - loss: 22.1514\n",
      "Epoch 395/1000\n",
      "200/200 [==============================] - 0s 24us/sample - loss: 22.1382\n",
      "Epoch 396/1000\n",
      "200/200 [==============================] - 0s 24us/sample - loss: 22.1251\n",
      "Epoch 397/1000\n",
      "200/200 [==============================] - 0s 20us/sample - loss: 22.1120\n",
      "Epoch 398/1000\n",
      "200/200 [==============================] - 0s 19us/sample - loss: 22.0990\n",
      "Epoch 399/1000\n",
      "200/200 [==============================] - 0s 25us/sample - loss: 22.0861\n",
      "Epoch 400/1000\n",
      "200/200 [==============================] - 0s 16us/sample - loss: 22.0732\n",
      "Epoch 401/1000\n",
      "200/200 [==============================] - 0s 19us/sample - loss: 22.0603\n",
      "Epoch 402/1000\n",
      "200/200 [==============================] - 0s 27us/sample - loss: 22.0475\n",
      "Epoch 403/1000\n",
      "200/200 [==============================] - 0s 12us/sample - loss: 22.0347\n",
      "Epoch 404/1000\n",
      "200/200 [==============================] - 0s 15us/sample - loss: 22.0220\n",
      "Epoch 405/1000\n",
      "200/200 [==============================] - 0s 30us/sample - loss: 22.0094\n",
      "Epoch 406/1000\n",
      "200/200 [==============================] - 0s 12us/sample - loss: 21.9967\n",
      "Epoch 407/1000\n",
      "200/200 [==============================] - 0s 12us/sample - loss: 21.9842\n",
      "Epoch 408/1000\n",
      "200/200 [==============================] - 0s 12us/sample - loss: 21.9717\n",
      "Epoch 409/1000\n",
      "200/200 [==============================] - 0s 70us/sample - loss: 21.9592\n",
      "Epoch 410/1000\n",
      "200/200 [==============================] - 0s 14us/sample - loss: 21.9468\n",
      "Epoch 411/1000\n",
      "200/200 [==============================] - 0s 65us/sample - loss: 21.9344\n",
      "Epoch 412/1000\n",
      "200/200 [==============================] - 0s 37us/sample - loss: 21.9221\n",
      "Epoch 413/1000\n",
      "200/200 [==============================] - 0s 21us/sample - loss: 21.9098\n",
      "Epoch 414/1000\n",
      "200/200 [==============================] - 0s 36us/sample - loss: 21.8976\n",
      "Epoch 415/1000\n",
      "200/200 [==============================] - 0s 17us/sample - loss: 21.8854\n",
      "Epoch 416/1000\n",
      "200/200 [==============================] - 0s 15us/sample - loss: 21.8733\n",
      "Epoch 417/1000\n",
      "200/200 [==============================] - 0s 20us/sample - loss: 21.8612\n",
      "Epoch 418/1000\n",
      "200/200 [==============================] - 0s 15us/sample - loss: 21.8491\n",
      "Epoch 419/1000\n",
      "200/200 [==============================] - 0s 19us/sample - loss: 21.8371\n",
      "Epoch 420/1000\n",
      "200/200 [==============================] - 0s 65us/sample - loss: 21.8252\n",
      "Epoch 421/1000\n",
      "200/200 [==============================] - 0s 18us/sample - loss: 21.8133\n",
      "Epoch 422/1000\n",
      "200/200 [==============================] - 0s 13us/sample - loss: 21.8014\n",
      "Epoch 423/1000\n",
      "200/200 [==============================] - 0s 57us/sample - loss: 21.7896\n",
      "Epoch 424/1000\n",
      "200/200 [==============================] - 0s 34us/sample - loss: 21.7778\n",
      "Epoch 425/1000\n",
      "200/200 [==============================] - 0s 29us/sample - loss: 21.7661\n",
      "Epoch 426/1000\n",
      "200/200 [==============================] - 0s 42us/sample - loss: 21.7544\n",
      "Epoch 427/1000\n",
      "200/200 [==============================] - 0s 12us/sample - loss: 21.7428\n",
      "Epoch 428/1000\n",
      "200/200 [==============================] - 0s 24us/sample - loss: 21.7312\n",
      "Epoch 429/1000\n",
      "200/200 [==============================] - 0s 35us/sample - loss: 21.7196\n",
      "Epoch 430/1000\n",
      "200/200 [==============================] - 0s 26us/sample - loss: 21.7081\n",
      "Epoch 431/1000\n",
      "200/200 [==============================] - 0s 61us/sample - loss: 21.6966\n",
      "Epoch 432/1000\n",
      "200/200 [==============================] - 0s 19us/sample - loss: 21.6852\n",
      "Epoch 433/1000\n",
      "200/200 [==============================] - 0s 104us/sample - loss: 21.6738\n",
      "Epoch 434/1000\n",
      "200/200 [==============================] - 0s 86us/sample - loss: 21.6624\n",
      "Epoch 435/1000\n",
      "200/200 [==============================] - 0s 59us/sample - loss: 21.6511\n",
      "Epoch 436/1000\n",
      "200/200 [==============================] - 0s 92us/sample - loss: 21.6399\n",
      "Epoch 437/1000\n",
      "200/200 [==============================] - 0s 42us/sample - loss: 21.6286\n",
      "Epoch 438/1000\n",
      "200/200 [==============================] - 0s 34us/sample - loss: 21.6175\n",
      "Epoch 439/1000\n",
      "200/200 [==============================] - 0s 15us/sample - loss: 21.6063\n",
      "Epoch 440/1000\n",
      "200/200 [==============================] - 0s 43us/sample - loss: 21.5952\n",
      "Epoch 441/1000\n",
      "200/200 [==============================] - 0s 15us/sample - loss: 21.5841\n",
      "Epoch 442/1000\n",
      "200/200 [==============================] - 0s 14us/sample - loss: 21.5731\n",
      "Epoch 443/1000\n",
      "200/200 [==============================] - 0s 12us/sample - loss: 21.5621\n",
      "Epoch 444/1000\n",
      "200/200 [==============================] - 0s 26us/sample - loss: 21.5512\n",
      "Epoch 445/1000\n",
      "200/200 [==============================] - 0s 36us/sample - loss: 21.5403\n",
      "Epoch 446/1000\n",
      "200/200 [==============================] - 0s 29us/sample - loss: 21.5294\n",
      "Epoch 447/1000\n",
      "200/200 [==============================] - 0s 60us/sample - loss: 21.5186\n",
      "Epoch 448/1000\n",
      "200/200 [==============================] - 0s 24us/sample - loss: 21.5078\n",
      "Epoch 449/1000\n",
      "200/200 [==============================] - 0s 29us/sample - loss: 21.4970\n",
      "Epoch 450/1000\n",
      "200/200 [==============================] - 0s 58us/sample - loss: 21.4863\n",
      "Epoch 451/1000\n",
      "200/200 [==============================] - 0s 18us/sample - loss: 21.4757\n",
      "Epoch 452/1000\n",
      "200/200 [==============================] - 0s 24us/sample - loss: 21.4650\n",
      "Epoch 453/1000\n",
      "200/200 [==============================] - 0s 23us/sample - loss: 21.4544\n",
      "Epoch 454/1000\n",
      "200/200 [==============================] - 0s 20us/sample - loss: 21.4438\n",
      "Epoch 455/1000\n",
      "200/200 [==============================] - 0s 14us/sample - loss: 21.4333\n",
      "Epoch 456/1000\n",
      "200/200 [==============================] - 0s 74us/sample - loss: 21.4228\n",
      "Epoch 457/1000\n",
      "200/200 [==============================] - 0s 20us/sample - loss: 21.4124\n",
      "Epoch 458/1000\n",
      "200/200 [==============================] - 0s 34us/sample - loss: 21.4020\n",
      "Epoch 459/1000\n",
      "200/200 [==============================] - 0s 11us/sample - loss: 21.3916\n",
      "Epoch 460/1000\n",
      "200/200 [==============================] - 0s 25us/sample - loss: 21.3812\n",
      "Epoch 461/1000\n",
      "200/200 [==============================] - 0s 34us/sample - loss: 21.3709\n",
      "Epoch 462/1000\n",
      "200/200 [==============================] - 0s 15us/sample - loss: 21.3606\n",
      "Epoch 463/1000\n",
      "200/200 [==============================] - 0s 71us/sample - loss: 21.3504\n",
      "Epoch 464/1000\n",
      "200/200 [==============================] - 0s 28us/sample - loss: 21.3402\n",
      "Epoch 465/1000\n"
     ]
    },
    {
     "name": "stdout",
     "output_type": "stream",
     "text": [
      "200/200 [==============================] - 0s 48us/sample - loss: 21.3300\n",
      "Epoch 466/1000\n",
      "200/200 [==============================] - 0s 25us/sample - loss: 21.3199\n",
      "Epoch 467/1000\n",
      "200/200 [==============================] - 0s 14us/sample - loss: 21.3098\n",
      "Epoch 468/1000\n",
      "200/200 [==============================] - 0s 14us/sample - loss: 21.2997\n",
      "Epoch 469/1000\n",
      "200/200 [==============================] - 0s 26us/sample - loss: 21.2897\n",
      "Epoch 470/1000\n",
      "200/200 [==============================] - 0s 21us/sample - loss: 21.2797\n",
      "Epoch 471/1000\n",
      "200/200 [==============================] - 0s 50us/sample - loss: 21.2697\n",
      "Epoch 472/1000\n",
      "200/200 [==============================] - 0s 23us/sample - loss: 21.2598\n",
      "Epoch 473/1000\n",
      "200/200 [==============================] - 0s 30us/sample - loss: 21.2499\n",
      "Epoch 474/1000\n",
      "200/200 [==============================] - 0s 35us/sample - loss: 21.2401\n",
      "Epoch 475/1000\n",
      "200/200 [==============================] - 0s 29us/sample - loss: 21.2302\n",
      "Epoch 476/1000\n",
      "200/200 [==============================] - 0s 14us/sample - loss: 21.2204\n",
      "Epoch 477/1000\n",
      "200/200 [==============================] - 0s 81us/sample - loss: 21.2107\n",
      "Epoch 478/1000\n",
      "200/200 [==============================] - 0s 15us/sample - loss: 21.2009\n",
      "Epoch 479/1000\n",
      "200/200 [==============================] - 0s 74us/sample - loss: 21.1912\n",
      "Epoch 480/1000\n",
      "200/200 [==============================] - 0s 140us/sample - loss: 21.1816\n",
      "Epoch 481/1000\n",
      "200/200 [==============================] - 0s 136us/sample - loss: 21.1719\n",
      "Epoch 482/1000\n",
      "200/200 [==============================] - 0s 168us/sample - loss: 21.1623\n",
      "Epoch 483/1000\n",
      "200/200 [==============================] - 0s 59us/sample - loss: 21.1528\n",
      "Epoch 484/1000\n",
      "200/200 [==============================] - 0s 107us/sample - loss: 21.1432\n",
      "Epoch 485/1000\n",
      "200/200 [==============================] - 0s 274us/sample - loss: 21.1337\n",
      "Epoch 486/1000\n",
      "200/200 [==============================] - 0s 13us/sample - loss: 21.1242\n",
      "Epoch 487/1000\n",
      "200/200 [==============================] - 0s 21us/sample - loss: 21.1148\n",
      "Epoch 488/1000\n",
      "200/200 [==============================] - 0s 123us/sample - loss: 21.1054\n",
      "Epoch 489/1000\n",
      "200/200 [==============================] - 0s 17us/sample - loss: 21.0960\n",
      "Epoch 490/1000\n",
      "200/200 [==============================] - 0s 19us/sample - loss: 21.0867\n",
      "Epoch 491/1000\n",
      "200/200 [==============================] - 0s 12us/sample - loss: 21.0773\n",
      "Epoch 492/1000\n",
      "200/200 [==============================] - 0s 38us/sample - loss: 21.0680\n",
      "Epoch 493/1000\n",
      "200/200 [==============================] - 0s 11us/sample - loss: 21.0588\n",
      "Epoch 494/1000\n",
      "200/200 [==============================] - 0s 81us/sample - loss: 21.0496\n",
      "Epoch 495/1000\n",
      "200/200 [==============================] - 0s 36us/sample - loss: 21.0404\n",
      "Epoch 496/1000\n",
      "200/200 [==============================] - 0s 90us/sample - loss: 21.0312\n",
      "Epoch 497/1000\n",
      "200/200 [==============================] - 0s 24us/sample - loss: 21.0220\n",
      "Epoch 498/1000\n",
      "200/200 [==============================] - 0s 82us/sample - loss: 21.0129\n",
      "Epoch 499/1000\n",
      "200/200 [==============================] - 0s 23us/sample - loss: 21.0038\n",
      "Epoch 500/1000\n",
      "200/200 [==============================] - 0s 12us/sample - loss: 20.9948\n",
      "Epoch 501/1000\n",
      "200/200 [==============================] - 0s 26us/sample - loss: 20.9858\n",
      "Epoch 502/1000\n",
      "200/200 [==============================] - 0s 63us/sample - loss: 20.9768\n",
      "Epoch 503/1000\n",
      "200/200 [==============================] - 0s 15us/sample - loss: 20.9678\n",
      "Epoch 504/1000\n",
      "200/200 [==============================] - 0s 119us/sample - loss: 20.9589\n",
      "Epoch 505/1000\n",
      "200/200 [==============================] - 0s 21us/sample - loss: 20.9500\n",
      "Epoch 506/1000\n",
      "200/200 [==============================] - 0s 129us/sample - loss: 20.9411\n",
      "Epoch 507/1000\n",
      "200/200 [==============================] - 0s 39us/sample - loss: 20.9322\n",
      "Epoch 508/1000\n",
      "200/200 [==============================] - 0s 30us/sample - loss: 20.9234\n",
      "Epoch 509/1000\n",
      "200/200 [==============================] - 0s 15us/sample - loss: 20.9146\n",
      "Epoch 510/1000\n",
      "200/200 [==============================] - 0s 37us/sample - loss: 20.9058\n",
      "Epoch 511/1000\n",
      "200/200 [==============================] - 0s 60us/sample - loss: 20.8971\n",
      "Epoch 512/1000\n",
      "200/200 [==============================] - 0s 108us/sample - loss: 20.8884\n",
      "Epoch 513/1000\n",
      "200/200 [==============================] - 0s 15us/sample - loss: 20.8797\n",
      "Epoch 514/1000\n",
      "200/200 [==============================] - 0s 64us/sample - loss: 20.8710\n",
      "Epoch 515/1000\n",
      "200/200 [==============================] - 0s 17us/sample - loss: 20.8624\n",
      "Epoch 516/1000\n",
      "200/200 [==============================] - 0s 116us/sample - loss: 20.8538\n",
      "Epoch 517/1000\n",
      "200/200 [==============================] - 0s 29us/sample - loss: 20.8452\n",
      "Epoch 518/1000\n",
      "200/200 [==============================] - 0s 85us/sample - loss: 20.8366\n",
      "Epoch 519/1000\n",
      "200/200 [==============================] - 0s 63us/sample - loss: 20.8281\n",
      "Epoch 520/1000\n",
      "200/200 [==============================] - 0s 17us/sample - loss: 20.8196\n",
      "Epoch 521/1000\n",
      "200/200 [==============================] - 0s 42us/sample - loss: 20.8111\n",
      "Epoch 522/1000\n",
      "200/200 [==============================] - 0s 22us/sample - loss: 20.8027\n",
      "Epoch 523/1000\n",
      "200/200 [==============================] - 0s 12us/sample - loss: 20.7943\n",
      "Epoch 524/1000\n",
      "200/200 [==============================] - 0s 13us/sample - loss: 20.7859\n",
      "Epoch 525/1000\n",
      "200/200 [==============================] - 0s 19us/sample - loss: 20.7775\n",
      "Epoch 526/1000\n",
      "200/200 [==============================] - 0s 15us/sample - loss: 20.7692\n",
      "Epoch 527/1000\n",
      "200/200 [==============================] - 0s 22us/sample - loss: 20.7608\n",
      "Epoch 528/1000\n",
      "200/200 [==============================] - 0s 13us/sample - loss: 20.7526\n",
      "Epoch 529/1000\n",
      "200/200 [==============================] - 0s 28us/sample - loss: 20.7443\n",
      "Epoch 530/1000\n",
      "200/200 [==============================] - 0s 51us/sample - loss: 20.7360\n",
      "Epoch 531/1000\n",
      "200/200 [==============================] - 0s 12us/sample - loss: 20.7278\n",
      "Epoch 532/1000\n",
      "200/200 [==============================] - 0s 31us/sample - loss: 20.7196\n",
      "Epoch 533/1000\n",
      "200/200 [==============================] - 0s 10us/sample - loss: 20.7115\n",
      "Epoch 534/1000\n",
      "200/200 [==============================] - 0s 9us/sample - loss: 20.7033\n",
      "Epoch 535/1000\n",
      "200/200 [==============================] - 0s 27us/sample - loss: 20.6952\n",
      "Epoch 536/1000\n",
      "200/200 [==============================] - 0s 21us/sample - loss: 20.6871\n",
      "Epoch 537/1000\n",
      "200/200 [==============================] - 0s 17us/sample - loss: 20.6790\n",
      "Epoch 538/1000\n",
      "200/200 [==============================] - 0s 16us/sample - loss: 20.6710\n",
      "Epoch 539/1000\n",
      "200/200 [==============================] - 0s 19us/sample - loss: 20.6630\n",
      "Epoch 540/1000\n",
      "200/200 [==============================] - 0s 24us/sample - loss: 20.6550\n",
      "Epoch 541/1000\n",
      "200/200 [==============================] - 0s 28us/sample - loss: 20.6470\n",
      "Epoch 542/1000\n",
      "200/200 [==============================] - 0s 20us/sample - loss: 20.6390\n",
      "Epoch 543/1000\n",
      "200/200 [==============================] - 0s 25us/sample - loss: 20.6311\n",
      "Epoch 544/1000\n",
      "200/200 [==============================] - 0s 32us/sample - loss: 20.6232\n",
      "Epoch 545/1000\n",
      "200/200 [==============================] - 0s 12us/sample - loss: 20.6153\n",
      "Epoch 546/1000\n",
      "200/200 [==============================] - 0s 20us/sample - loss: 20.6075\n",
      "Epoch 547/1000\n",
      "200/200 [==============================] - 0s 20us/sample - loss: 20.5997\n",
      "Epoch 548/1000\n",
      "200/200 [==============================] - 0s 15us/sample - loss: 20.5918\n",
      "Epoch 549/1000\n",
      "200/200 [==============================] - 0s 13us/sample - loss: 20.5841\n",
      "Epoch 550/1000\n",
      "200/200 [==============================] - 0s 15us/sample - loss: 20.5763\n",
      "Epoch 551/1000\n",
      "200/200 [==============================] - 0s 51us/sample - loss: 20.5686\n",
      "Epoch 552/1000\n",
      "200/200 [==============================] - 0s 21us/sample - loss: 20.5608\n",
      "Epoch 553/1000\n",
      "200/200 [==============================] - 0s 25us/sample - loss: 20.5531\n",
      "Epoch 554/1000\n",
      "200/200 [==============================] - 0s 23us/sample - loss: 20.5455\n",
      "Epoch 555/1000\n",
      "200/200 [==============================] - 0s 33us/sample - loss: 20.5378\n",
      "Epoch 556/1000\n",
      "200/200 [==============================] - 0s 15us/sample - loss: 20.5302\n",
      "Epoch 557/1000\n"
     ]
    },
    {
     "name": "stdout",
     "output_type": "stream",
     "text": [
      "200/200 [==============================] - 0s 26us/sample - loss: 20.5226\n",
      "Epoch 558/1000\n",
      "200/200 [==============================] - 0s 27us/sample - loss: 20.5150\n",
      "Epoch 559/1000\n",
      "200/200 [==============================] - 0s 31us/sample - loss: 20.5074\n",
      "Epoch 560/1000\n",
      "200/200 [==============================] - 0s 15us/sample - loss: 20.4999\n",
      "Epoch 561/1000\n",
      "200/200 [==============================] - 0s 29us/sample - loss: 20.4924\n",
      "Epoch 562/1000\n",
      "200/200 [==============================] - 0s 31us/sample - loss: 20.4849\n",
      "Epoch 563/1000\n",
      "200/200 [==============================] - 0s 31us/sample - loss: 20.4774\n",
      "Epoch 564/1000\n",
      "200/200 [==============================] - 0s 74us/sample - loss: 20.4699\n",
      "Epoch 565/1000\n",
      "200/200 [==============================] - 0s 69us/sample - loss: 20.4625\n",
      "Epoch 566/1000\n",
      "200/200 [==============================] - 0s 67us/sample - loss: 20.4551\n",
      "Epoch 567/1000\n",
      "200/200 [==============================] - 0s 51us/sample - loss: 20.4477\n",
      "Epoch 568/1000\n",
      "200/200 [==============================] - 0s 94us/sample - loss: 20.4403\n",
      "Epoch 569/1000\n",
      "200/200 [==============================] - 0s 35us/sample - loss: 20.4330\n",
      "Epoch 570/1000\n",
      "200/200 [==============================] - 0s 35us/sample - loss: 20.4257\n",
      "Epoch 571/1000\n",
      "200/200 [==============================] - 0s 44us/sample - loss: 20.4184\n",
      "Epoch 572/1000\n",
      "200/200 [==============================] - 0s 38us/sample - loss: 20.4111\n",
      "Epoch 573/1000\n",
      "200/200 [==============================] - 0s 32us/sample - loss: 20.4038\n",
      "Epoch 574/1000\n",
      "200/200 [==============================] - 0s 24us/sample - loss: 20.3966\n",
      "Epoch 575/1000\n",
      "200/200 [==============================] - 0s 22us/sample - loss: 20.3893\n",
      "Epoch 576/1000\n",
      "200/200 [==============================] - 0s 18us/sample - loss: 20.3821\n",
      "Epoch 577/1000\n",
      "200/200 [==============================] - 0s 32us/sample - loss: 20.3750\n",
      "Epoch 578/1000\n",
      "200/200 [==============================] - 0s 34us/sample - loss: 20.3678\n",
      "Epoch 579/1000\n",
      "200/200 [==============================] - 0s 13us/sample - loss: 20.3606\n",
      "Epoch 580/1000\n",
      "200/200 [==============================] - 0s 32us/sample - loss: 20.3535\n",
      "Epoch 581/1000\n",
      "200/200 [==============================] - 0s 32us/sample - loss: 20.3464\n",
      "Epoch 582/1000\n",
      "200/200 [==============================] - 0s 42us/sample - loss: 20.3393\n",
      "Epoch 583/1000\n",
      "200/200 [==============================] - 0s 21us/sample - loss: 20.3323\n",
      "Epoch 584/1000\n",
      "200/200 [==============================] - 0s 28us/sample - loss: 20.3252\n",
      "Epoch 585/1000\n",
      "200/200 [==============================] - 0s 20us/sample - loss: 20.3182\n",
      "Epoch 586/1000\n",
      "200/200 [==============================] - 0s 12us/sample - loss: 20.3112\n",
      "Epoch 587/1000\n",
      "200/200 [==============================] - 0s 10us/sample - loss: 20.3042\n",
      "Epoch 588/1000\n",
      "200/200 [==============================] - 0s 13us/sample - loss: 20.2972\n",
      "Epoch 589/1000\n",
      "200/200 [==============================] - 0s 18us/sample - loss: 20.2903\n",
      "Epoch 590/1000\n",
      "200/200 [==============================] - 0s 9us/sample - loss: 20.2834\n",
      "Epoch 591/1000\n",
      "200/200 [==============================] - 0s 13us/sample - loss: 20.2765\n",
      "Epoch 592/1000\n",
      "200/200 [==============================] - 0s 60us/sample - loss: 20.2696\n",
      "Epoch 593/1000\n",
      "200/200 [==============================] - 0s 43us/sample - loss: 20.2627\n",
      "Epoch 594/1000\n",
      "200/200 [==============================] - 0s 15us/sample - loss: 20.2559\n",
      "Epoch 595/1000\n",
      "200/200 [==============================] - 0s 12us/sample - loss: 20.2490\n",
      "Epoch 596/1000\n",
      "200/200 [==============================] - 0s 11us/sample - loss: 20.2422\n",
      "Epoch 597/1000\n",
      "200/200 [==============================] - 0s 12us/sample - loss: 20.2354\n",
      "Epoch 598/1000\n",
      "200/200 [==============================] - 0s 9us/sample - loss: 20.2286\n",
      "Epoch 599/1000\n",
      "200/200 [==============================] - 0s 11us/sample - loss: 20.2219\n",
      "Epoch 600/1000\n",
      "200/200 [==============================] - 0s 23us/sample - loss: 20.2151\n",
      "Epoch 601/1000\n",
      "200/200 [==============================] - 0s 15us/sample - loss: 20.2084\n",
      "Epoch 602/1000\n",
      "200/200 [==============================] - 0s 23us/sample - loss: 20.2017\n",
      "Epoch 603/1000\n",
      "200/200 [==============================] - 0s 11us/sample - loss: 20.1950\n",
      "Epoch 604/1000\n",
      "200/200 [==============================] - 0s 8us/sample - loss: 20.1884\n",
      "Epoch 605/1000\n",
      "200/200 [==============================] - 0s 27us/sample - loss: 20.1817\n",
      "Epoch 606/1000\n",
      "200/200 [==============================] - 0s 13us/sample - loss: 20.1751\n",
      "Epoch 607/1000\n",
      "200/200 [==============================] - 0s 36us/sample - loss: 20.1685\n",
      "Epoch 608/1000\n",
      "200/200 [==============================] - 0s 13us/sample - loss: 20.1619\n",
      "Epoch 609/1000\n",
      "200/200 [==============================] - 0s 10us/sample - loss: 20.1553\n",
      "Epoch 610/1000\n",
      "200/200 [==============================] - 0s 8us/sample - loss: 20.1487\n",
      "Epoch 611/1000\n",
      "200/200 [==============================] - 0s 21us/sample - loss: 20.1422\n",
      "Epoch 612/1000\n",
      "200/200 [==============================] - 0s 16us/sample - loss: 20.1357\n",
      "Epoch 613/1000\n",
      "200/200 [==============================] - 0s 26us/sample - loss: 20.1291\n",
      "Epoch 614/1000\n",
      "200/200 [==============================] - 0s 26us/sample - loss: 20.1227\n",
      "Epoch 615/1000\n",
      "200/200 [==============================] - 0s 14us/sample - loss: 20.1162\n",
      "Epoch 616/1000\n",
      "200/200 [==============================] - 0s 23us/sample - loss: 20.1097\n",
      "Epoch 617/1000\n",
      "200/200 [==============================] - 0s 24us/sample - loss: 20.1033\n",
      "Epoch 618/1000\n",
      "200/200 [==============================] - 0s 33us/sample - loss: 20.0969\n",
      "Epoch 619/1000\n",
      "200/200 [==============================] - 0s 14us/sample - loss: 20.0905\n",
      "Epoch 620/1000\n",
      "200/200 [==============================] - 0s 26us/sample - loss: 20.0841\n",
      "Epoch 621/1000\n",
      "200/200 [==============================] - 0s 15us/sample - loss: 20.0777\n",
      "Epoch 622/1000\n",
      "200/200 [==============================] - 0s 10us/sample - loss: 20.0713\n",
      "Epoch 623/1000\n",
      "200/200 [==============================] - 0s 11us/sample - loss: 20.0650\n",
      "Epoch 624/1000\n",
      "200/200 [==============================] - 0s 26us/sample - loss: 20.0587\n",
      "Epoch 625/1000\n",
      "200/200 [==============================] - 0s 57us/sample - loss: 20.0524\n",
      "Epoch 626/1000\n",
      "200/200 [==============================] - 0s 25us/sample - loss: 20.0461\n",
      "Epoch 627/1000\n",
      "200/200 [==============================] - 0s 33us/sample - loss: 20.0398\n",
      "Epoch 628/1000\n",
      "200/200 [==============================] - 0s 12us/sample - loss: 20.0335\n",
      "Epoch 629/1000\n",
      "200/200 [==============================] - 0s 17us/sample - loss: 20.0273\n",
      "Epoch 630/1000\n",
      "200/200 [==============================] - 0s 20us/sample - loss: 20.0211\n",
      "Epoch 631/1000\n",
      "200/200 [==============================] - 0s 21us/sample - loss: 20.0149\n",
      "Epoch 632/1000\n",
      "200/200 [==============================] - 0s 14us/sample - loss: 20.0087\n",
      "Epoch 633/1000\n",
      "200/200 [==============================] - 0s 26us/sample - loss: 20.0025\n",
      "Epoch 634/1000\n",
      "200/200 [==============================] - 0s 36us/sample - loss: 19.9963\n",
      "Epoch 635/1000\n",
      "200/200 [==============================] - 0s 16us/sample - loss: 19.9902\n",
      "Epoch 636/1000\n",
      "200/200 [==============================] - 0s 23us/sample - loss: 19.9841\n",
      "Epoch 637/1000\n",
      "200/200 [==============================] - 0s 13us/sample - loss: 19.9780\n",
      "Epoch 638/1000\n",
      "200/200 [==============================] - 0s 30us/sample - loss: 19.9719\n",
      "Epoch 639/1000\n",
      "200/200 [==============================] - 0s 17us/sample - loss: 19.9658\n",
      "Epoch 640/1000\n",
      "200/200 [==============================] - 0s 16us/sample - loss: 19.9597\n",
      "Epoch 641/1000\n",
      "200/200 [==============================] - 0s 40us/sample - loss: 19.9537\n",
      "Epoch 642/1000\n",
      "200/200 [==============================] - 0s 32us/sample - loss: 19.9476\n",
      "Epoch 643/1000\n",
      "200/200 [==============================] - 0s 15us/sample - loss: 19.9416\n",
      "Epoch 644/1000\n",
      "200/200 [==============================] - 0s 24us/sample - loss: 19.9356\n",
      "Epoch 645/1000\n",
      "200/200 [==============================] - 0s 27us/sample - loss: 19.9296\n",
      "Epoch 646/1000\n",
      "200/200 [==============================] - 0s 28us/sample - loss: 19.9237\n",
      "Epoch 647/1000\n",
      "200/200 [==============================] - 0s 16us/sample - loss: 19.9177\n",
      "Epoch 648/1000\n",
      "200/200 [==============================] - 0s 20us/sample - loss: 19.9118\n",
      "Epoch 649/1000\n",
      "200/200 [==============================] - 0s 51us/sample - loss: 19.9058\n"
     ]
    },
    {
     "name": "stdout",
     "output_type": "stream",
     "text": [
      "Epoch 650/1000\n",
      "200/200 [==============================] - 0s 9us/sample - loss: 19.8999\n",
      "Epoch 651/1000\n",
      "200/200 [==============================] - 0s 34us/sample - loss: 19.8940\n",
      "Epoch 652/1000\n",
      "200/200 [==============================] - 0s 8us/sample - loss: 19.8881\n",
      "Epoch 653/1000\n",
      "200/200 [==============================] - 0s 11us/sample - loss: 19.8823\n",
      "Epoch 654/1000\n",
      "200/200 [==============================] - 0s 12us/sample - loss: 19.8764\n",
      "Epoch 655/1000\n",
      "200/200 [==============================] - 0s 26us/sample - loss: 19.8706\n",
      "Epoch 656/1000\n",
      "200/200 [==============================] - 0s 15us/sample - loss: 19.8647\n",
      "Epoch 657/1000\n",
      "200/200 [==============================] - 0s 13us/sample - loss: 19.8589\n",
      "Epoch 658/1000\n",
      "200/200 [==============================] - 0s 153us/sample - loss: 19.8531\n",
      "Epoch 659/1000\n",
      "200/200 [==============================] - 0s 15us/sample - loss: 19.8474\n",
      "Epoch 660/1000\n",
      "200/200 [==============================] - 0s 81us/sample - loss: 19.8416\n",
      "Epoch 661/1000\n",
      "200/200 [==============================] - 0s 78us/sample - loss: 19.8358\n",
      "Epoch 662/1000\n",
      "200/200 [==============================] - 0s 12us/sample - loss: 19.8301\n",
      "Epoch 663/1000\n",
      "200/200 [==============================] - 0s 42us/sample - loss: 19.8244\n",
      "Epoch 664/1000\n",
      "200/200 [==============================] - 0s 71us/sample - loss: 19.8187\n",
      "Epoch 665/1000\n",
      "200/200 [==============================] - 0s 21us/sample - loss: 19.8130\n",
      "Epoch 666/1000\n",
      "200/200 [==============================] - 0s 48us/sample - loss: 19.8073\n",
      "Epoch 667/1000\n",
      "200/200 [==============================] - 0s 20us/sample - loss: 19.8016\n",
      "Epoch 668/1000\n",
      "200/200 [==============================] - 0s 47us/sample - loss: 19.7960\n",
      "Epoch 669/1000\n",
      "200/200 [==============================] - 0s 14us/sample - loss: 19.7903\n",
      "Epoch 670/1000\n",
      "200/200 [==============================] - 0s 64us/sample - loss: 19.7847\n",
      "Epoch 671/1000\n",
      "200/200 [==============================] - 0s 48us/sample - loss: 19.7791\n",
      "Epoch 672/1000\n",
      "200/200 [==============================] - 0s 14us/sample - loss: 19.7735\n",
      "Epoch 673/1000\n",
      "200/200 [==============================] - 0s 46us/sample - loss: 19.7679\n",
      "Epoch 674/1000\n",
      "200/200 [==============================] - 0s 33us/sample - loss: 19.7623\n",
      "Epoch 675/1000\n",
      "200/200 [==============================] - 0s 83us/sample - loss: 19.7568\n",
      "Epoch 676/1000\n",
      "200/200 [==============================] - 0s 93us/sample - loss: 19.7512\n",
      "Epoch 677/1000\n",
      "200/200 [==============================] - 0s 72us/sample - loss: 19.7457\n",
      "Epoch 678/1000\n",
      "200/200 [==============================] - 0s 22us/sample - loss: 19.7402\n",
      "Epoch 679/1000\n",
      "200/200 [==============================] - 0s 21us/sample - loss: 19.7347\n",
      "Epoch 680/1000\n",
      "200/200 [==============================] - 0s 46us/sample - loss: 19.7292\n",
      "Epoch 681/1000\n",
      "200/200 [==============================] - 0s 49us/sample - loss: 19.7237\n",
      "Epoch 682/1000\n",
      "200/200 [==============================] - 0s 16us/sample - loss: 19.7183\n",
      "Epoch 683/1000\n",
      "200/200 [==============================] - 0s 47us/sample - loss: 19.7128\n",
      "Epoch 684/1000\n",
      "200/200 [==============================] - 0s 19us/sample - loss: 19.7074\n",
      "Epoch 685/1000\n",
      "200/200 [==============================] - 0s 167us/sample - loss: 19.7019\n",
      "Epoch 686/1000\n",
      "200/200 [==============================] - 0s 20us/sample - loss: 19.6965\n",
      "Epoch 687/1000\n",
      "200/200 [==============================] - 0s 74us/sample - loss: 19.6911\n",
      "Epoch 688/1000\n",
      "200/200 [==============================] - 0s 15us/sample - loss: 19.6857\n",
      "Epoch 689/1000\n",
      "200/200 [==============================] - 0s 14us/sample - loss: 19.6804\n",
      "Epoch 690/1000\n",
      "200/200 [==============================] - 0s 56us/sample - loss: 19.6750\n",
      "Epoch 691/1000\n",
      "200/200 [==============================] - 0s 20us/sample - loss: 19.6697\n",
      "Epoch 692/1000\n",
      "200/200 [==============================] - 0s 121us/sample - loss: 19.6643\n",
      "Epoch 693/1000\n",
      "200/200 [==============================] - 0s 15us/sample - loss: 19.6590\n",
      "Epoch 694/1000\n",
      "200/200 [==============================] - 0s 46us/sample - loss: 19.6537\n",
      "Epoch 695/1000\n",
      "200/200 [==============================] - 0s 31us/sample - loss: 19.6484\n",
      "Epoch 696/1000\n",
      "200/200 [==============================] - 0s 117us/sample - loss: 19.6431\n",
      "Epoch 697/1000\n",
      "200/200 [==============================] - 0s 63us/sample - loss: 19.6379\n",
      "Epoch 698/1000\n",
      "200/200 [==============================] - 0s 45us/sample - loss: 19.6326\n",
      "Epoch 699/1000\n",
      "200/200 [==============================] - 0s 25us/sample - loss: 19.6273\n",
      "Epoch 700/1000\n",
      "200/200 [==============================] - 0s 35us/sample - loss: 19.6221\n",
      "Epoch 701/1000\n",
      "200/200 [==============================] - 0s 70us/sample - loss: 19.6169\n",
      "Epoch 702/1000\n",
      "200/200 [==============================] - 0s 90us/sample - loss: 19.6117\n",
      "Epoch 703/1000\n",
      "200/200 [==============================] - 0s 22us/sample - loss: 19.6065\n",
      "Epoch 704/1000\n",
      "200/200 [==============================] - 0s 69us/sample - loss: 19.6013\n",
      "Epoch 705/1000\n",
      "200/200 [==============================] - 0s 12us/sample - loss: 19.5961\n",
      "Epoch 706/1000\n",
      "200/200 [==============================] - 0s 29us/sample - loss: 19.5910\n",
      "Epoch 707/1000\n",
      "200/200 [==============================] - 0s 39us/sample - loss: 19.5858\n",
      "Epoch 708/1000\n",
      "200/200 [==============================] - 0s 91us/sample - loss: 19.5807\n",
      "Epoch 709/1000\n",
      "200/200 [==============================] - 0s 18us/sample - loss: 19.5756\n",
      "Epoch 710/1000\n",
      "200/200 [==============================] - 0s 17us/sample - loss: 19.5704\n",
      "Epoch 711/1000\n",
      "200/200 [==============================] - 0s 71us/sample - loss: 19.5653\n",
      "Epoch 712/1000\n",
      "200/200 [==============================] - 0s 66us/sample - loss: 19.5603\n",
      "Epoch 713/1000\n",
      "200/200 [==============================] - 0s 37us/sample - loss: 19.5552\n",
      "Epoch 714/1000\n",
      "200/200 [==============================] - 0s 14us/sample - loss: 19.5501\n",
      "Epoch 715/1000\n",
      "200/200 [==============================] - 0s 106us/sample - loss: 19.5451\n",
      "Epoch 716/1000\n",
      "200/200 [==============================] - 0s 28us/sample - loss: 19.5400\n",
      "Epoch 717/1000\n",
      "200/200 [==============================] - 0s 104us/sample - loss: 19.5350\n",
      "Epoch 718/1000\n",
      "200/200 [==============================] - 0s 13us/sample - loss: 19.5300\n",
      "Epoch 719/1000\n",
      "200/200 [==============================] - 0s 17us/sample - loss: 19.5250\n",
      "Epoch 720/1000\n",
      "200/200 [==============================] - 0s 179us/sample - loss: 19.5200\n",
      "Epoch 721/1000\n",
      "200/200 [==============================] - 0s 40us/sample - loss: 19.5150\n",
      "Epoch 722/1000\n",
      "200/200 [==============================] - 0s 129us/sample - loss: 19.5100\n",
      "Epoch 723/1000\n",
      "200/200 [==============================] - 0s 55us/sample - loss: 19.5051\n",
      "Epoch 724/1000\n",
      "200/200 [==============================] - 0s 27us/sample - loss: 19.5001\n",
      "Epoch 725/1000\n",
      "200/200 [==============================] - 0s 60us/sample - loss: 19.4952\n",
      "Epoch 726/1000\n",
      "200/200 [==============================] - 0s 20us/sample - loss: 19.4902\n",
      "Epoch 727/1000\n",
      "200/200 [==============================] - 0s 151us/sample - loss: 19.4853\n",
      "Epoch 728/1000\n",
      "200/200 [==============================] - 0s 58us/sample - loss: 19.4804\n",
      "Epoch 729/1000\n",
      "200/200 [==============================] - 0s 52us/sample - loss: 19.4755\n",
      "Epoch 730/1000\n",
      "200/200 [==============================] - 0s 36us/sample - loss: 19.4706\n",
      "Epoch 731/1000\n",
      "200/200 [==============================] - 0s 20us/sample - loss: 19.4658\n",
      "Epoch 732/1000\n",
      "200/200 [==============================] - 0s 20us/sample - loss: 19.4609\n",
      "Epoch 733/1000\n",
      "200/200 [==============================] - 0s 13us/sample - loss: 19.4561\n",
      "Epoch 734/1000\n",
      "200/200 [==============================] - 0s 17us/sample - loss: 19.4512\n",
      "Epoch 735/1000\n",
      "200/200 [==============================] - 0s 31us/sample - loss: 19.4464\n",
      "Epoch 736/1000\n",
      "200/200 [==============================] - 0s 12us/sample - loss: 19.4416\n",
      "Epoch 737/1000\n",
      "200/200 [==============================] - 0s 27us/sample - loss: 19.4368\n",
      "Epoch 738/1000\n",
      "200/200 [==============================] - 0s 42us/sample - loss: 19.4320\n",
      "Epoch 739/1000\n",
      "200/200 [==============================] - 0s 29us/sample - loss: 19.4272\n",
      "Epoch 740/1000\n",
      "200/200 [==============================] - 0s 42us/sample - loss: 19.4224\n",
      "Epoch 741/1000\n",
      "200/200 [==============================] - 0s 26us/sample - loss: 19.4177\n"
     ]
    },
    {
     "name": "stdout",
     "output_type": "stream",
     "text": [
      "Epoch 742/1000\n",
      "200/200 [==============================] - 0s 18us/sample - loss: 19.4129\n",
      "Epoch 743/1000\n",
      "200/200 [==============================] - 0s 29us/sample - loss: 19.4082\n",
      "Epoch 744/1000\n",
      "200/200 [==============================] - 0s 12us/sample - loss: 19.4034\n",
      "Epoch 745/1000\n",
      "200/200 [==============================] - 0s 20us/sample - loss: 19.3987\n",
      "Epoch 746/1000\n",
      "200/200 [==============================] - 0s 13us/sample - loss: 19.3940\n",
      "Epoch 747/1000\n",
      "200/200 [==============================] - 0s 40us/sample - loss: 19.3893\n",
      "Epoch 748/1000\n",
      "200/200 [==============================] - 0s 57us/sample - loss: 19.3846\n",
      "Epoch 749/1000\n",
      "200/200 [==============================] - 0s 9us/sample - loss: 19.3799\n",
      "Epoch 750/1000\n",
      "200/200 [==============================] - 0s 22us/sample - loss: 19.3753\n",
      "Epoch 751/1000\n",
      "200/200 [==============================] - 0s 14us/sample - loss: 19.3706\n",
      "Epoch 752/1000\n",
      "200/200 [==============================] - 0s 18us/sample - loss: 19.3660\n",
      "Epoch 753/1000\n",
      "200/200 [==============================] - 0s 85us/sample - loss: 19.3613\n",
      "Epoch 754/1000\n",
      "200/200 [==============================] - 0s 62us/sample - loss: 19.3567\n",
      "Epoch 755/1000\n",
      "200/200 [==============================] - 0s 53us/sample - loss: 19.3521\n",
      "Epoch 756/1000\n",
      "200/200 [==============================] - 0s 94us/sample - loss: 19.3475\n",
      "Epoch 757/1000\n",
      "200/200 [==============================] - 0s 30us/sample - loss: 19.3429\n",
      "Epoch 758/1000\n",
      "200/200 [==============================] - 0s 23us/sample - loss: 19.3383\n",
      "Epoch 759/1000\n",
      "200/200 [==============================] - 0s 14us/sample - loss: 19.3337\n",
      "Epoch 760/1000\n",
      "200/200 [==============================] - 0s 103us/sample - loss: 19.3291\n",
      "Epoch 761/1000\n",
      "200/200 [==============================] - 0s 15us/sample - loss: 19.3246\n",
      "Epoch 762/1000\n",
      "200/200 [==============================] - 0s 15us/sample - loss: 19.3200\n",
      "Epoch 763/1000\n",
      "200/200 [==============================] - 0s 16us/sample - loss: 19.3155\n",
      "Epoch 764/1000\n",
      "200/200 [==============================] - 0s 13us/sample - loss: 19.3110\n",
      "Epoch 765/1000\n",
      "200/200 [==============================] - 0s 16us/sample - loss: 19.3065\n",
      "Epoch 766/1000\n",
      "200/200 [==============================] - 0s 14us/sample - loss: 19.3020\n",
      "Epoch 767/1000\n",
      "200/200 [==============================] - 0s 29us/sample - loss: 19.2975\n",
      "Epoch 768/1000\n",
      "200/200 [==============================] - 0s 60us/sample - loss: 19.2930\n",
      "Epoch 769/1000\n",
      "200/200 [==============================] - 0s 14us/sample - loss: 19.2885\n",
      "Epoch 770/1000\n",
      "200/200 [==============================] - 0s 27us/sample - loss: 19.2840\n",
      "Epoch 771/1000\n",
      "200/200 [==============================] - 0s 70us/sample - loss: 19.2796\n",
      "Epoch 772/1000\n",
      "200/200 [==============================] - 0s 10us/sample - loss: 19.2751\n",
      "Epoch 773/1000\n",
      "200/200 [==============================] - 0s 17us/sample - loss: 19.2707\n",
      "Epoch 774/1000\n",
      "200/200 [==============================] - 0s 26us/sample - loss: 19.2662\n",
      "Epoch 775/1000\n",
      "200/200 [==============================] - 0s 41us/sample - loss: 19.2618\n",
      "Epoch 776/1000\n",
      "200/200 [==============================] - 0s 38us/sample - loss: 19.2574\n",
      "Epoch 777/1000\n",
      "200/200 [==============================] - 0s 14us/sample - loss: 19.2530\n",
      "Epoch 778/1000\n",
      "200/200 [==============================] - 0s 46us/sample - loss: 19.2486\n",
      "Epoch 779/1000\n",
      "200/200 [==============================] - 0s 17us/sample - loss: 19.2442\n",
      "Epoch 780/1000\n",
      "200/200 [==============================] - 0s 17us/sample - loss: 19.2399\n",
      "Epoch 781/1000\n",
      "200/200 [==============================] - 0s 109us/sample - loss: 19.2355\n",
      "Epoch 782/1000\n",
      "200/200 [==============================] - 0s 35us/sample - loss: 19.2311\n",
      "Epoch 783/1000\n",
      "200/200 [==============================] - 0s 20us/sample - loss: 19.2268\n",
      "Epoch 784/1000\n",
      "200/200 [==============================] - 0s 14us/sample - loss: 19.2225\n",
      "Epoch 785/1000\n",
      "200/200 [==============================] - 0s 25us/sample - loss: 19.2181\n",
      "Epoch 786/1000\n",
      "200/200 [==============================] - 0s 17us/sample - loss: 19.2138\n",
      "Epoch 787/1000\n",
      "200/200 [==============================] - 0s 13us/sample - loss: 19.2095\n",
      "Epoch 788/1000\n",
      "200/200 [==============================] - 0s 15us/sample - loss: 19.2052\n",
      "Epoch 789/1000\n",
      "200/200 [==============================] - 0s 25us/sample - loss: 19.2009\n",
      "Epoch 790/1000\n",
      "200/200 [==============================] - 0s 24us/sample - loss: 19.1966\n",
      "Epoch 791/1000\n",
      "200/200 [==============================] - 0s 30us/sample - loss: 19.1924\n",
      "Epoch 792/1000\n",
      "200/200 [==============================] - 0s 30us/sample - loss: 19.1881\n",
      "Epoch 793/1000\n",
      "200/200 [==============================] - 0s 14us/sample - loss: 19.1839\n",
      "Epoch 794/1000\n",
      "200/200 [==============================] - 0s 16us/sample - loss: 19.1796\n",
      "Epoch 795/1000\n",
      "200/200 [==============================] - 0s 92us/sample - loss: 19.1754\n",
      "Epoch 796/1000\n",
      "200/200 [==============================] - 0s 14us/sample - loss: 19.1711\n",
      "Epoch 797/1000\n",
      "200/200 [==============================] - 0s 13us/sample - loss: 19.1669\n",
      "Epoch 798/1000\n",
      "200/200 [==============================] - 0s 13us/sample - loss: 19.1627\n",
      "Epoch 799/1000\n",
      "200/200 [==============================] - 0s 34us/sample - loss: 19.1585\n",
      "Epoch 800/1000\n",
      "200/200 [==============================] - 0s 13us/sample - loss: 19.1543\n",
      "Epoch 801/1000\n",
      "200/200 [==============================] - 0s 38us/sample - loss: 19.1501\n",
      "Epoch 802/1000\n",
      "200/200 [==============================] - 0s 8us/sample - loss: 19.1460\n",
      "Epoch 803/1000\n",
      "200/200 [==============================] - 0s 13us/sample - loss: 19.1418\n",
      "Epoch 804/1000\n",
      "200/200 [==============================] - 0s 28us/sample - loss: 19.1376\n",
      "Epoch 805/1000\n",
      "200/200 [==============================] - 0s 48us/sample - loss: 19.1335\n",
      "Epoch 806/1000\n",
      "200/200 [==============================] - 0s 16us/sample - loss: 19.1294\n",
      "Epoch 807/1000\n",
      "200/200 [==============================] - 0s 45us/sample - loss: 19.1252\n",
      "Epoch 808/1000\n",
      "200/200 [==============================] - 0s 15us/sample - loss: 19.1211\n",
      "Epoch 809/1000\n",
      "200/200 [==============================] - 0s 43us/sample - loss: 19.1170\n",
      "Epoch 810/1000\n",
      "200/200 [==============================] - 0s 18us/sample - loss: 19.1129\n",
      "Epoch 811/1000\n",
      "200/200 [==============================] - 0s 58us/sample - loss: 19.1088\n",
      "Epoch 812/1000\n",
      "200/200 [==============================] - 0s 8us/sample - loss: 19.1047\n",
      "Epoch 813/1000\n",
      "200/200 [==============================] - 0s 20us/sample - loss: 19.1006\n",
      "Epoch 814/1000\n",
      "200/200 [==============================] - 0s 17us/sample - loss: 19.0965\n",
      "Epoch 815/1000\n",
      "200/200 [==============================] - 0s 26us/sample - loss: 19.0925\n",
      "Epoch 816/1000\n",
      "200/200 [==============================] - 0s 68us/sample - loss: 19.0884\n",
      "Epoch 817/1000\n",
      "200/200 [==============================] - 0s 22us/sample - loss: 19.0844\n",
      "Epoch 818/1000\n",
      "200/200 [==============================] - 0s 94us/sample - loss: 19.0803\n",
      "Epoch 819/1000\n",
      "200/200 [==============================] - 0s 89us/sample - loss: 19.0763\n",
      "Epoch 820/1000\n",
      "200/200 [==============================] - 0s 33us/sample - loss: 19.0723\n",
      "Epoch 821/1000\n",
      "200/200 [==============================] - 0s 16us/sample - loss: 19.0683\n",
      "Epoch 822/1000\n",
      "200/200 [==============================] - 0s 24us/sample - loss: 19.0643\n",
      "Epoch 823/1000\n",
      "200/200 [==============================] - 0s 46us/sample - loss: 19.0603\n",
      "Epoch 824/1000\n",
      "200/200 [==============================] - 0s 18us/sample - loss: 19.0563\n",
      "Epoch 825/1000\n",
      "200/200 [==============================] - 0s 10us/sample - loss: 19.0523\n",
      "Epoch 826/1000\n",
      "200/200 [==============================] - 0s 25us/sample - loss: 19.0483\n",
      "Epoch 827/1000\n",
      "200/200 [==============================] - 0s 87us/sample - loss: 19.0443\n",
      "Epoch 828/1000\n",
      "200/200 [==============================] - 0s 63us/sample - loss: 19.0404\n",
      "Epoch 829/1000\n",
      "200/200 [==============================] - 0s 11us/sample - loss: 19.0364\n",
      "Epoch 830/1000\n",
      "200/200 [==============================] - 0s 47us/sample - loss: 19.0325\n",
      "Epoch 831/1000\n",
      "200/200 [==============================] - 0s 79us/sample - loss: 19.0286\n",
      "Epoch 832/1000\n",
      "200/200 [==============================] - 0s 15us/sample - loss: 19.0246\n",
      "Epoch 833/1000\n",
      "200/200 [==============================] - 0s 23us/sample - loss: 19.0207\n",
      "Epoch 834/1000\n",
      "200/200 [==============================] - 0s 15us/sample - loss: 19.0168\n"
     ]
    },
    {
     "name": "stdout",
     "output_type": "stream",
     "text": [
      "Epoch 835/1000\n",
      "200/200 [==============================] - 0s 18us/sample - loss: 19.0129\n",
      "Epoch 836/1000\n",
      "200/200 [==============================] - 0s 35us/sample - loss: 19.0090\n",
      "Epoch 837/1000\n",
      "200/200 [==============================] - 0s 15us/sample - loss: 19.0051\n",
      "Epoch 838/1000\n",
      "200/200 [==============================] - 0s 32us/sample - loss: 19.0012\n",
      "Epoch 839/1000\n",
      "200/200 [==============================] - 0s 13us/sample - loss: 18.9974\n",
      "Epoch 840/1000\n",
      "200/200 [==============================] - 0s 19us/sample - loss: 18.9935\n",
      "Epoch 841/1000\n",
      "200/200 [==============================] - 0s 27us/sample - loss: 18.9897\n",
      "Epoch 842/1000\n",
      "200/200 [==============================] - 0s 31us/sample - loss: 18.9858\n",
      "Epoch 843/1000\n",
      "200/200 [==============================] - 0s 20us/sample - loss: 18.9820\n",
      "Epoch 844/1000\n",
      "200/200 [==============================] - 0s 39us/sample - loss: 18.9781\n",
      "Epoch 845/1000\n",
      "200/200 [==============================] - 0s 15us/sample - loss: 18.9743\n",
      "Epoch 846/1000\n",
      "200/200 [==============================] - 0s 12us/sample - loss: 18.9705\n",
      "Epoch 847/1000\n",
      "200/200 [==============================] - 0s 78us/sample - loss: 18.9667\n",
      "Epoch 848/1000\n",
      "200/200 [==============================] - 0s 36us/sample - loss: 18.9629\n",
      "Epoch 849/1000\n",
      "200/200 [==============================] - 0s 81us/sample - loss: 18.9591\n",
      "Epoch 850/1000\n",
      "200/200 [==============================] - 0s 60us/sample - loss: 18.9553\n",
      "Epoch 851/1000\n",
      "200/200 [==============================] - 0s 46us/sample - loss: 18.9515\n",
      "Epoch 852/1000\n",
      "200/200 [==============================] - 0s 19us/sample - loss: 18.9478\n",
      "Epoch 853/1000\n",
      "200/200 [==============================] - 0s 106us/sample - loss: 18.9440\n",
      "Epoch 854/1000\n",
      "200/200 [==============================] - 0s 24us/sample - loss: 18.9402\n",
      "Epoch 855/1000\n",
      "200/200 [==============================] - 0s 55us/sample - loss: 18.9365\n",
      "Epoch 856/1000\n",
      "200/200 [==============================] - 0s 59us/sample - loss: 18.9327\n",
      "Epoch 857/1000\n",
      "200/200 [==============================] - 0s 34us/sample - loss: 18.9290\n",
      "Epoch 858/1000\n",
      "200/200 [==============================] - 0s 49us/sample - loss: 18.9253\n",
      "Epoch 859/1000\n",
      "200/200 [==============================] - 0s 14us/sample - loss: 18.9216\n",
      "Epoch 860/1000\n",
      "200/200 [==============================] - 0s 15us/sample - loss: 18.9178\n",
      "Epoch 861/1000\n",
      "200/200 [==============================] - 0s 37us/sample - loss: 18.9141\n",
      "Epoch 862/1000\n",
      "200/200 [==============================] - 0s 53us/sample - loss: 18.9104\n",
      "Epoch 863/1000\n",
      "200/200 [==============================] - 0s 46us/sample - loss: 18.9067\n",
      "Epoch 864/1000\n",
      "200/200 [==============================] - 0s 13us/sample - loss: 18.9031\n",
      "Epoch 865/1000\n",
      "200/200 [==============================] - 0s 112us/sample - loss: 18.8994\n",
      "Epoch 866/1000\n",
      "200/200 [==============================] - 0s 20us/sample - loss: 18.8957\n",
      "Epoch 867/1000\n",
      "200/200 [==============================] - 0s 32us/sample - loss: 18.8920\n",
      "Epoch 868/1000\n",
      "200/200 [==============================] - 0s 25us/sample - loss: 18.8884\n",
      "Epoch 869/1000\n",
      "200/200 [==============================] - 0s 25us/sample - loss: 18.8847\n",
      "Epoch 870/1000\n",
      "200/200 [==============================] - 0s 85us/sample - loss: 18.8811\n",
      "Epoch 871/1000\n",
      "200/200 [==============================] - 0s 56us/sample - loss: 18.8775\n",
      "Epoch 872/1000\n",
      "200/200 [==============================] - 0s 9us/sample - loss: 18.8738\n",
      "Epoch 873/1000\n",
      "200/200 [==============================] - 0s 70us/sample - loss: 18.8702\n",
      "Epoch 874/1000\n",
      "200/200 [==============================] - 0s 12us/sample - loss: 18.8666\n",
      "Epoch 875/1000\n",
      "200/200 [==============================] - 0s 58us/sample - loss: 18.8630\n",
      "Epoch 876/1000\n",
      "200/200 [==============================] - 0s 16us/sample - loss: 18.8594\n",
      "Epoch 877/1000\n",
      "200/200 [==============================] - 0s 10us/sample - loss: 18.8558\n",
      "Epoch 878/1000\n",
      "200/200 [==============================] - 0s 29us/sample - loss: 18.8522\n",
      "Epoch 879/1000\n",
      "200/200 [==============================] - 0s 14us/sample - loss: 18.8486\n",
      "Epoch 880/1000\n",
      "200/200 [==============================] - 0s 50us/sample - loss: 18.8451\n",
      "Epoch 881/1000\n",
      "200/200 [==============================] - 0s 116us/sample - loss: 18.8415\n",
      "Epoch 882/1000\n",
      "200/200 [==============================] - 0s 19us/sample - loss: 18.8379\n",
      "Epoch 883/1000\n",
      "200/200 [==============================] - 0s 16us/sample - loss: 18.8344\n",
      "Epoch 884/1000\n",
      "200/200 [==============================] - 0s 23us/sample - loss: 18.8308\n",
      "Epoch 885/1000\n",
      "200/200 [==============================] - 0s 11us/sample - loss: 18.8273\n",
      "Epoch 886/1000\n",
      "200/200 [==============================] - 0s 27us/sample - loss: 18.8238\n",
      "Epoch 887/1000\n",
      "200/200 [==============================] - 0s 12us/sample - loss: 18.8202\n",
      "Epoch 888/1000\n",
      "200/200 [==============================] - 0s 136us/sample - loss: 18.8167\n",
      "Epoch 889/1000\n",
      "200/200 [==============================] - 0s 38us/sample - loss: 18.8132\n",
      "Epoch 890/1000\n",
      "200/200 [==============================] - 0s 21us/sample - loss: 18.8097\n",
      "Epoch 891/1000\n",
      "200/200 [==============================] - 0s 37us/sample - loss: 18.8062\n",
      "Epoch 892/1000\n",
      "200/200 [==============================] - 0s 56us/sample - loss: 18.8027\n",
      "Epoch 893/1000\n",
      "200/200 [==============================] - 0s 54us/sample - loss: 18.7992\n",
      "Epoch 894/1000\n",
      "200/200 [==============================] - 0s 19us/sample - loss: 18.7958\n",
      "Epoch 895/1000\n",
      "200/200 [==============================] - 0s 20us/sample - loss: 18.7923\n",
      "Epoch 896/1000\n",
      "200/200 [==============================] - 0s 30us/sample - loss: 18.7888\n",
      "Epoch 897/1000\n",
      "200/200 [==============================] - 0s 14us/sample - loss: 18.7854\n",
      "Epoch 898/1000\n",
      "200/200 [==============================] - 0s 11us/sample - loss: 18.7819\n",
      "Epoch 899/1000\n",
      "200/200 [==============================] - 0s 54us/sample - loss: 18.7785\n",
      "Epoch 900/1000\n",
      "200/200 [==============================] - 0s 20us/sample - loss: 18.7750\n",
      "Epoch 901/1000\n",
      "200/200 [==============================] - 0s 11us/sample - loss: 18.7716\n",
      "Epoch 902/1000\n",
      "200/200 [==============================] - 0s 19us/sample - loss: 18.7682\n",
      "Epoch 903/1000\n",
      "200/200 [==============================] - 0s 28us/sample - loss: 18.7647\n",
      "Epoch 904/1000\n",
      "200/200 [==============================] - 0s 15us/sample - loss: 18.7613\n",
      "Epoch 905/1000\n",
      "200/200 [==============================] - 0s 37us/sample - loss: 18.7579\n",
      "Epoch 906/1000\n",
      "200/200 [==============================] - 0s 15us/sample - loss: 18.7545\n",
      "Epoch 907/1000\n",
      "200/200 [==============================] - 0s 14us/sample - loss: 18.7511\n",
      "Epoch 908/1000\n",
      "200/200 [==============================] - 0s 12us/sample - loss: 18.7477\n",
      "Epoch 909/1000\n",
      "200/200 [==============================] - 0s 79us/sample - loss: 18.7444\n",
      "Epoch 910/1000\n",
      "200/200 [==============================] - 0s 27us/sample - loss: 18.7410\n",
      "Epoch 911/1000\n",
      "200/200 [==============================] - 0s 28us/sample - loss: 18.7376\n",
      "Epoch 912/1000\n",
      "200/200 [==============================] - 0s 21us/sample - loss: 18.7342\n",
      "Epoch 913/1000\n",
      "200/200 [==============================] - 0s 38us/sample - loss: 18.7309\n",
      "Epoch 914/1000\n",
      "200/200 [==============================] - 0s 11us/sample - loss: 18.7275\n",
      "Epoch 915/1000\n",
      "200/200 [==============================] - 0s 35us/sample - loss: 18.7242\n",
      "Epoch 916/1000\n",
      "200/200 [==============================] - 0s 17us/sample - loss: 18.7209\n",
      "Epoch 917/1000\n",
      "200/200 [==============================] - 0s 35us/sample - loss: 18.7175\n",
      "Epoch 918/1000\n",
      "200/200 [==============================] - 0s 8us/sample - loss: 18.7142\n",
      "Epoch 919/1000\n",
      "200/200 [==============================] - 0s 35us/sample - loss: 18.7109\n",
      "Epoch 920/1000\n",
      "200/200 [==============================] - 0s 40us/sample - loss: 18.7076\n",
      "Epoch 921/1000\n",
      "200/200 [==============================] - 0s 16us/sample - loss: 18.7043\n",
      "Epoch 922/1000\n",
      "200/200 [==============================] - 0s 39us/sample - loss: 18.7010\n",
      "Epoch 923/1000\n",
      "200/200 [==============================] - 0s 42us/sample - loss: 18.6977\n",
      "Epoch 924/1000\n",
      "200/200 [==============================] - 0s 21us/sample - loss: 18.6944\n",
      "Epoch 925/1000\n",
      "200/200 [==============================] - 0s 59us/sample - loss: 18.6911\n",
      "Epoch 926/1000\n",
      "200/200 [==============================] - 0s 45us/sample - loss: 18.6878\n",
      "Epoch 927/1000\n",
      "200/200 [==============================] - 0s 8us/sample - loss: 18.6845\n"
     ]
    },
    {
     "name": "stdout",
     "output_type": "stream",
     "text": [
      "Epoch 928/1000\n",
      "200/200 [==============================] - 0s 20us/sample - loss: 18.6813\n",
      "Epoch 929/1000\n",
      "200/200 [==============================] - 0s 54us/sample - loss: 18.6780\n",
      "Epoch 930/1000\n",
      "200/200 [==============================] - 0s 22us/sample - loss: 18.6748\n",
      "Epoch 931/1000\n",
      "200/200 [==============================] - 0s 15us/sample - loss: 18.6715\n",
      "Epoch 932/1000\n",
      "200/200 [==============================] - 0s 15us/sample - loss: 18.6683\n",
      "Epoch 933/1000\n",
      "200/200 [==============================] - 0s 16us/sample - loss: 18.6650\n",
      "Epoch 934/1000\n",
      "200/200 [==============================] - 0s 13us/sample - loss: 18.6618\n",
      "Epoch 935/1000\n",
      "200/200 [==============================] - 0s 10us/sample - loss: 18.6586\n",
      "Epoch 936/1000\n",
      "200/200 [==============================] - 0s 64us/sample - loss: 18.6554\n",
      "Epoch 937/1000\n",
      "200/200 [==============================] - 0s 14us/sample - loss: 18.6521\n",
      "Epoch 938/1000\n",
      "200/200 [==============================] - 0s 111us/sample - loss: 18.6489\n",
      "Epoch 939/1000\n",
      "200/200 [==============================] - 0s 58us/sample - loss: 18.6457\n",
      "Epoch 940/1000\n",
      "200/200 [==============================] - 0s 14us/sample - loss: 18.6425\n",
      "Epoch 941/1000\n",
      "200/200 [==============================] - 0s 14us/sample - loss: 18.6394\n",
      "Epoch 942/1000\n",
      "200/200 [==============================] - 0s 27us/sample - loss: 18.6362\n",
      "Epoch 943/1000\n",
      "200/200 [==============================] - 0s 12us/sample - loss: 18.6330\n",
      "Epoch 944/1000\n",
      "200/200 [==============================] - 0s 14us/sample - loss: 18.6298\n",
      "Epoch 945/1000\n",
      "200/200 [==============================] - 0s 88us/sample - loss: 18.6267\n",
      "Epoch 946/1000\n",
      "200/200 [==============================] - 0s 13us/sample - loss: 18.6235\n",
      "Epoch 947/1000\n",
      "200/200 [==============================] - 0s 14us/sample - loss: 18.6203\n",
      "Epoch 948/1000\n",
      "200/200 [==============================] - 0s 24us/sample - loss: 18.6172\n",
      "Epoch 949/1000\n",
      "200/200 [==============================] - 0s 17us/sample - loss: 18.6140\n",
      "Epoch 950/1000\n",
      "200/200 [==============================] - 0s 52us/sample - loss: 18.6109\n",
      "Epoch 951/1000\n",
      "200/200 [==============================] - 0s 39us/sample - loss: 18.6078\n",
      "Epoch 952/1000\n",
      "200/200 [==============================] - 0s 60us/sample - loss: 18.6046\n",
      "Epoch 953/1000\n",
      "200/200 [==============================] - 0s 13us/sample - loss: 18.6015\n",
      "Epoch 954/1000\n",
      "200/200 [==============================] - 0s 10us/sample - loss: 18.5984\n",
      "Epoch 955/1000\n",
      "200/200 [==============================] - 0s 66us/sample - loss: 18.5953\n",
      "Epoch 956/1000\n",
      "200/200 [==============================] - 0s 13us/sample - loss: 18.5922\n",
      "Epoch 957/1000\n",
      "200/200 [==============================] - 0s 11us/sample - loss: 18.5891\n",
      "Epoch 958/1000\n",
      "200/200 [==============================] - 0s 36us/sample - loss: 18.5860\n",
      "Epoch 959/1000\n",
      "200/200 [==============================] - 0s 12us/sample - loss: 18.5829\n",
      "Epoch 960/1000\n",
      "200/200 [==============================] - 0s 39us/sample - loss: 18.5798\n",
      "Epoch 961/1000\n",
      "200/200 [==============================] - 0s 21us/sample - loss: 18.5767\n",
      "Epoch 962/1000\n",
      "200/200 [==============================] - 0s 14us/sample - loss: 18.5737\n",
      "Epoch 963/1000\n",
      "200/200 [==============================] - 0s 68us/sample - loss: 18.5706\n",
      "Epoch 964/1000\n",
      "200/200 [==============================] - 0s 15us/sample - loss: 18.5675\n",
      "Epoch 965/1000\n",
      "200/200 [==============================] - 0s 143us/sample - loss: 18.5645\n",
      "Epoch 966/1000\n",
      "200/200 [==============================] - 0s 9us/sample - loss: 18.5614\n",
      "Epoch 967/1000\n",
      "200/200 [==============================] - 0s 21us/sample - loss: 18.5584\n",
      "Epoch 968/1000\n",
      "200/200 [==============================] - 0s 14us/sample - loss: 18.5554\n",
      "Epoch 969/1000\n",
      "200/200 [==============================] - 0s 12us/sample - loss: 18.5523\n",
      "Epoch 970/1000\n",
      "200/200 [==============================] - 0s 17us/sample - loss: 18.5493\n",
      "Epoch 971/1000\n",
      "200/200 [==============================] - 0s 19us/sample - loss: 18.5463\n",
      "Epoch 972/1000\n",
      "200/200 [==============================] - 0s 8us/sample - loss: 18.5432\n",
      "Epoch 973/1000\n",
      "200/200 [==============================] - 0s 21us/sample - loss: 18.5402\n",
      "Epoch 974/1000\n",
      "200/200 [==============================] - 0s 20us/sample - loss: 18.5372\n",
      "Epoch 975/1000\n",
      "200/200 [==============================] - 0s 27us/sample - loss: 18.5342\n",
      "Epoch 976/1000\n",
      "200/200 [==============================] - 0s 17us/sample - loss: 18.5312\n",
      "Epoch 977/1000\n",
      "200/200 [==============================] - 0s 16us/sample - loss: 18.5282\n",
      "Epoch 978/1000\n",
      "200/200 [==============================] - 0s 21us/sample - loss: 18.5252\n",
      "Epoch 979/1000\n",
      "200/200 [==============================] - 0s 11us/sample - loss: 18.5223\n",
      "Epoch 980/1000\n",
      "200/200 [==============================] - 0s 28us/sample - loss: 18.5193\n",
      "Epoch 981/1000\n",
      "200/200 [==============================] - 0s 23us/sample - loss: 18.5163\n",
      "Epoch 982/1000\n",
      "200/200 [==============================] - 0s 10us/sample - loss: 18.5134\n",
      "Epoch 983/1000\n",
      "200/200 [==============================] - 0s 10us/sample - loss: 18.5104\n",
      "Epoch 984/1000\n",
      "200/200 [==============================] - 0s 10us/sample - loss: 18.5074\n",
      "Epoch 985/1000\n",
      "200/200 [==============================] - 0s 10us/sample - loss: 18.5045\n",
      "Epoch 986/1000\n",
      "200/200 [==============================] - 0s 33us/sample - loss: 18.5015\n",
      "Epoch 987/1000\n",
      "200/200 [==============================] - 0s 13us/sample - loss: 18.4986\n",
      "Epoch 988/1000\n",
      "200/200 [==============================] - 0s 28us/sample - loss: 18.4957\n",
      "Epoch 989/1000\n",
      "200/200 [==============================] - 0s 27us/sample - loss: 18.4927\n",
      "Epoch 990/1000\n",
      "200/200 [==============================] - 0s 13us/sample - loss: 18.4898\n",
      "Epoch 991/1000\n",
      "200/200 [==============================] - 0s 23us/sample - loss: 18.4869\n",
      "Epoch 992/1000\n",
      "200/200 [==============================] - 0s 17us/sample - loss: 18.4840\n",
      "Epoch 993/1000\n",
      "200/200 [==============================] - 0s 48us/sample - loss: 18.4811\n",
      "Epoch 994/1000\n",
      "200/200 [==============================] - 0s 20us/sample - loss: 18.4782\n",
      "Epoch 995/1000\n",
      "200/200 [==============================] - 0s 12us/sample - loss: 18.4753\n",
      "Epoch 996/1000\n",
      "200/200 [==============================] - 0s 14us/sample - loss: 18.4724\n",
      "Epoch 997/1000\n",
      "200/200 [==============================] - 0s 13us/sample - loss: 18.4695\n",
      "Epoch 998/1000\n",
      "200/200 [==============================] - 0s 17us/sample - loss: 18.4666\n",
      "Epoch 999/1000\n",
      "200/200 [==============================] - 0s 34us/sample - loss: 18.4637\n",
      "Epoch 1000/1000\n",
      "200/200 [==============================] - 0s 31us/sample - loss: 18.4608\n"
     ]
    }
   ],
   "source": [
    "model = tf.keras.Sequential([\n",
    "  tf.keras.layers.Dense(1, use_bias=False, activation=\"sigmoid\")\n",
    "])\n",
    "\n",
    "model.compile(optimizer='sgd',\n",
    "              loss=cross_entropy)\n",
    "\n",
    "hist = model.fit(X,\n",
    "                y,\n",
    "                epochs=1000,\n",
    "                batch_size=200)"
   ]
  },
  {
   "cell_type": "code",
   "execution_count": 77,
   "metadata": {},
   "outputs": [
    {
     "data": {
      "text/plain": [
       "<matplotlib.collections.PathCollection at 0x7fe6e77efe10>"
      ]
     },
     "execution_count": 77,
     "metadata": {},
     "output_type": "execute_result"
    },
    {
     "data": {
      "image/png": "[encoded data removed]",
      "text/plain": [
       "<Figure size 432x288 with 1 Axes>"
      ]
     },
     "metadata": {
      "needs_background": "light"
     },
     "output_type": "display_data"
    }
   ],
   "source": [
    "plt.scatter(X[:,0],y)\n",
    "plt.scatter(X[:,0],model.apply(X))"
   ]
  },
  {
   "cell_type": "code",
   "execution_count": 78,
   "metadata": {},
   "outputs": [
    {
     "data": {
      "text/plain": [
       "[<tf.Variable 'dense_1/kernel:0' shape=(2, 1) dtype=float32, numpy=\n",
       " array([[ 3.3597586],\n",
       "        [-4.730612 ]], dtype=float32)>]"
      ]
     },
     "execution_count": 78,
     "metadata": {},
     "output_type": "execute_result"
    }
   ],
   "source": [
    "model.weights"
   ]
  },
  {
   "cell_type": "markdown",
   "metadata": {},
   "source": [
    "Behold, a neural net with no hidden layer is logistic regression. Side note: Keras is taking a lot longer and getting a worse fit than manual gradient descent. NN training is very fickle."
   ]
  },
  {
   "cell_type": "code",
   "execution_count": null,
   "metadata": {},
   "outputs": [],
   "source": []
  }
 ],
 "metadata": {
  "kernelspec": {
   "display_name": "Python 3",
   "language": "python",
   "name": "python3"
  },
  "language_info": {
   "codemirror_mode": {
    "name": "ipython",
    "version": 3
   },
   "file_extension": ".py",
   "mimetype": "text/x-python",
   "name": "python",
   "nbconvert_exporter": "python",
   "pygments_lexer": "ipython3",
   "version": "3.5.2"
  }
 },
 "nbformat": 4,
 "nbformat_minor": 2
}
