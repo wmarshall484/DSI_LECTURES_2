{
 "cells": [
  {
   "cell_type": "markdown",
   "metadata": {
    "slideshow": {
     "slide_type": "slide"
    }
   },
   "source": [
    "## Objectives\n",
    "* Define probability\n",
    "* Count\n",
    "* Set up & solve a probability problem using:\n",
    " * Law of total probability\n",
    " * Conditional probabilities\n",
    " * Bayes' rule"
   ]
  },
  {
   "cell_type": "markdown",
   "metadata": {},
   "source": [
    "# Probability\n",
    "credit to Moses Marsh\n",
    "\n",
    "## Propositional Logic\n",
    "(a.k.a. [Propositional calculus](https://en.wikipedia.org/wiki/Propositional_calculus), sentential logic, zeroth-order logic) \n",
    "\n",
    "It deals with propositions (which can be true or false) and argument flow. "
   ]
  },
  {
   "cell_type": "markdown",
   "metadata": {},
   "source": [
    "Let's say I go to the deli and order \"the special.\" I don't know what kind of sandwich it is, and it comes to me totally wrapped in paper.\n",
    "\n",
    "Here are some statements I could make about this MYSTERY SANDWICH\n",
    "\n",
    "A = \"it is a turkey sandwich\"\n",
    "\n",
    "B = \"there is mustard on this sandwich\"\n",
    "\n",
    "\n",
    "Let's review some boolean logic operators (T: True and F: False) in the truth table\n",
    "\n",
    "|A  | B | A OR B | A AND B |\n",
    "|-------|-------|:-------:|:-------:|\n",
    "|T|T|T|T|\n",
    "|T|F|T|F|\n",
    "|F|T|T|F|\n",
    "|F|F|F|F|"
   ]
  },
  {
   "cell_type": "markdown",
   "metadata": {
    "slideshow": {
     "slide_type": "slide"
    }
   },
   "source": [
    "## Sets\n",
    "\n",
    "Let $A$ and $B$ be two sets.\n",
    "\n",
    "$x \\in A$ says that \"x is an element of the set A\" \n",
    "$y \\notin A$ says \"y is not an element of the set A\"\n"
   ]
  },
  {
   "cell_type": "markdown",
   "metadata": {
    "slideshow": {
     "slide_type": "subslide"
    }
   },
   "source": [
    "### symbology\n",
    "* $\\in$: in\n",
    "* $\\vee$ or\n",
    "* $\\wedge$ and\n",
    "* $\\neg$ not\n",
    "* $\\iff$ iff (if and only if)\n",
    "* $\\cap$ intersection\n",
    "* $\\cup$ union\n",
    "* $\\mid $ such that in set, or given than/condition on in probability\n",
    "* $\\emptyset$ empty set\n",
    "* $\\forall$ for all\n",
    "* $\\therefore$ therefore"
   ]
  },
  {
   "cell_type": "markdown",
   "metadata": {
    "slideshow": {
     "slide_type": "slide"
    }
   },
   "source": [
    "### operations\n",
    "[Venn Diagram](https://en.wikipedia.org/wiki/Venn_diagram)\n",
    "* union:\n",
    "    * $A\\cup B = \\{x\\ |\\ x \\in A \\vee x \\in B\\}$\n",
    "* intersection:\n",
    "    * $A \\cap B = \\{x\\ |\\ x \\in A \\wedge x \\in B \\}$\n",
    "* difference:\n",
    "    * $A \\setminus B = \\{x\\ |\\ x \\in A \\wedge x \\notin B \\}$\n",
    "* complement:\n",
    "    * $A^C = \\{x\\ |\\ x \\notin A \\}$\n",
    "* disjoint:\n",
    "    * $A \\cap B = \\emptyset$\n",
    "* partition (of $S$):\n",
    "    * set of pairwise disjoint sets:\n",
    "    * $\\{A_i\\}\\  |\\  S = \\bigcup\\limits_{i=1}^{N} A_{i}$"
   ]
  },
  {
   "cell_type": "markdown",
   "metadata": {
    "slideshow": {
     "slide_type": "skip"
    }
   },
   "source": [
    "### DeMorgan's laws\n",
    "* $ \\neg (x \\vee y) \\iff \\neg x \\wedge \\neg y $\n",
    "* $ \\neg (x \\wedge y) \\iff \\neg x \\vee \\neg y $"
   ]
  },
  {
   "cell_type": "markdown",
   "metadata": {},
   "source": [
    "## The Laws of Probability\n",
    "\n",
    "Mathematically, ***probability*** is simply the act of assigning numbers to propositions like $A$ and $B$ above (with some constraints). Philosophically, we can interpret these numbers as ***measures of our certainty about the outcome of an event***.\n",
    "\n",
    "Imagine we have the ***set of all possible outcomes*** $S$ for some process (for example, all the sandwiches on the menu at the deli). What are the rules for assigning numbers (probabilities) to those outcomes?\n",
    "\n",
    "Let $x_i$ be the event \"I got the $i$-th sandwich on the menu,\" and $P(x_i)$ be \"the probability of getting the $i$-th sandwich on the menu\"\n",
    "\n",
    "Consider the statements A and B above. They are also events that will either be true or false, so we can define \n",
    "\n",
    "$P(A)$ as \"the probability that statement A is true\" or \"event A happened\"."
   ]
  },
  {
   "cell_type": "markdown",
   "metadata": {},
   "source": [
    "Here are the ***[axioms of probability](https://en.wikipedia.org/wiki/Probability_axioms)***\n",
    "- For any statement A, $P(A) \\ge 0$\n",
    "- $P(S) = 1$ as $S$ is the set of all possible events, the probability that _something_ in $S$ happens is 1\n",
    "- For any statements A and B,\n",
    "    -  $(A \\cap B = \\emptyset) \\Longrightarrow P(A \\cup B) = P(A) + P(B)$\n",
    "    \n",
    "Turns out that's all you need! Some useful consequences:\n",
    "- $P(A^C) = 1 - P(A)$, sometimes you'll see $A^C$ written as $\\neg A$ or $\\sim A$\n",
    "- $P(A \\cap B) = P(A) + P(B) - P(A \\cup B)$\n",
    "- let $\\{A_i\\}_{i=1\\cdots N}$ be a set of events satisfying\n",
    "    - $A_i \\cap A_j = \\emptyset$ (each pair of events is mutually exclusive)\n",
    "    - $\\bigcup\\limits_{i=1}^{N} A_{i} = S$ (all of the events together are collectively exhaustive of $S$)\n",
    "    - then we say that $\\{A_i\\}_{i=1\\cdots N}$ _partitions_ $S$, and $\\sum_{i=1}^{N}P(A_i) = 1$"
   ]
  },
  {
   "cell_type": "markdown",
   "metadata": {
    "slideshow": {
     "slide_type": "slide"
    }
   },
   "source": [
    "### conditional probability\n",
    "  \n",
    "a useful idea is conditional probability: if we know $A$ to be true, what is the probability of $B$?\n",
    "\n",
    "$$P(B\\mid A) = \\frac{P(A \\cap B)}{P(A)}$$"
   ]
  },
  {
   "cell_type": "markdown",
   "metadata": {
    "slideshow": {
     "slide_type": "slide"
    }
   },
   "source": [
    "### independence \n",
    "\n",
    "if $P(A \\cap B) = P(A)P(B)$ then we say that $A$ and $B$ are ***statistically independent***; sometimes written $ A \\perp B $  \n",
    "\n",
    "note that this also implies that \n",
    "$P(A\\mid B) = P(A)$ and $P(B \\mid A) = P(A)$"
   ]
  },
  {
   "cell_type": "markdown",
   "metadata": {
    "slideshow": {
     "slide_type": "fragment"
    }
   },
   "source": [
    "see sandwich example for more"
   ]
  },
  {
   "cell_type": "markdown",
   "metadata": {
    "slideshow": {
     "slide_type": "slide"
    }
   },
   "source": [
    "# Combinatorics (counting)"
   ]
  },
  {
   "cell_type": "markdown",
   "metadata": {
    "slideshow": {
     "slide_type": "slide"
    }
   },
   "source": [
    "### factorial\n",
    "\n",
    "* $n! = \\prod\\limits_{i=1}^{n} i = 1 \\times 2 \\times 3 \\times \\ldots\\ \\times (n-1) \\times n$\n",
    "* $0! = 1$ by definition\n",
    "* how many ways can we shuffle a deck of cards?\n"
   ]
  },
  {
   "cell_type": "code",
   "execution_count": 1,
   "metadata": {
    "slideshow": {
     "slide_type": "fragment"
    }
   },
   "outputs": [],
   "source": [
    "def factorial(n):\n",
    "    if n==1:\n",
    "        return 1\n",
    "    return n*factorial(n-1)\n",
    "#     result = 1\n",
    "#     for i in range(1,n+1):\n",
    "#         result *= i\n",
    "#     return result"
   ]
  },
  {
   "cell_type": "code",
   "execution_count": 2,
   "metadata": {
    "slideshow": {
     "slide_type": "fragment"
    }
   },
   "outputs": [
    {
     "name": "stdout",
     "output_type": "stream",
     "text": [
      "80658175170943878571660636856403766975289505440883277824000000000000\n"
     ]
    }
   ],
   "source": [
    "print(factorial(52))"
   ]
  },
  {
   "cell_type": "code",
   "execution_count": 3,
   "metadata": {},
   "outputs": [
    {
     "data": {
      "text/plain": [
       "'8.066e+67'"
      ]
     },
     "execution_count": 3,
     "metadata": {},
     "output_type": "execute_result"
    }
   ],
   "source": [
    "'{:.3e}'.format(factorial(52))"
   ]
  },
  {
   "cell_type": "code",
   "execution_count": 4,
   "metadata": {
    "slideshow": {
     "slide_type": "fragment"
    }
   },
   "outputs": [],
   "source": [
    "def display(n,code='.0f'):\n",
    "    outstring = '{{:{}}}'.format(code)\n",
    "    print(outstring.format(n))"
   ]
  },
  {
   "cell_type": "code",
   "execution_count": 5,
   "metadata": {
    "slideshow": {
     "slide_type": "fragment"
    }
   },
   "outputs": [
    {
     "name": "stdout",
     "output_type": "stream",
     "text": [
      "8.066e+67\n"
     ]
    }
   ],
   "source": [
    "display(factorial(52),'.3e')"
   ]
  },
  {
   "cell_type": "markdown",
   "metadata": {
    "slideshow": {
     "slide_type": "slide"
    }
   },
   "source": [
    "## permutations\n",
    "number of ways of selecting subgroups when **order matters**\n",
    "* select $k$ students in order from class of $n$\n",
    "$$n\\times (n-1) \\times (n-2) \\times \\cdots \\times (n-k+1) = \\frac{n!}{(n-k)!}$$\n",
    "* example: set batting order for 9 players on baseball team of 25"
   ]
  },
  {
   "cell_type": "code",
   "execution_count": 6,
   "metadata": {
    "slideshow": {
     "slide_type": "fragment"
    }
   },
   "outputs": [],
   "source": [
    "def permute(n,k):\n",
    "    return factorial(n)/factorial(n-k)"
   ]
  },
  {
   "cell_type": "code",
   "execution_count": 7,
   "metadata": {
    "slideshow": {
     "slide_type": "fragment"
    }
   },
   "outputs": [
    {
     "name": "stdout",
     "output_type": "stream",
     "text": [
      "741354768000\n"
     ]
    }
   ],
   "source": [
    "display(permute(25,9))"
   ]
  },
  {
   "cell_type": "markdown",
   "metadata": {
    "slideshow": {
     "slide_type": "slide"
    }
   },
   "source": [
    "## combinations\n",
    " \n",
    "An $k$-combination of elements of a set is an unordered section of $r$ elements from the set\n",
    " \n",
    " $${{n}\\choose{k}} = \\frac{n!}{(n-k)!k!}$$"
   ]
  },
  {
   "cell_type": "code",
   "execution_count": 8,
   "metadata": {
    "slideshow": {
     "slide_type": "fragment"
    }
   },
   "outputs": [],
   "source": [
    "def comb(n,k):\n",
    "    return permute(n,k)/factorial(k)"
   ]
  },
  {
   "cell_type": "code",
   "execution_count": 9,
   "metadata": {
    "slideshow": {
     "slide_type": "fragment"
    }
   },
   "outputs": [
    {
     "name": "stdout",
     "output_type": "stream",
     "text": [
      "2598960\n"
     ]
    }
   ],
   "source": [
    "display(comb(52,5))"
   ]
  },
  {
   "cell_type": "markdown",
   "metadata": {},
   "source": [
    "### Exercise: possible poker hands\n",
    "- 52 Cards in the deck \n",
    "- four suits: $\\spadesuit$ (spades) <font color=red>$\\heartsuit$ (hearts)</font> $\\clubsuit$ (clubs) <font color=red>$\\diamondsuit$ (diamonds)</font>\n",
    "- 13 ranks: $\\buildrel{Ace}\\over{A}$, 2, 3, 4, 5, 6, 7, 8, 9, 10, $\\buildrel{Jack}\\over{J}$, $\\buildrel{Queen}\\over{Q}$, $\\buildrel{King}\\over{K}$\n",
    "- there are 5 cards in one _hand_\n",
    "\n",
    "<details>\n",
    "<summary>1. Number of possible hands with a Four-of-a-Kind?</summary>\n",
    "    $$13  \\cdot 12 \\cdot {4 \\choose 1} = 624 $$\n",
    "</details>\n",
    "\n",
    "\n",
    "<details>\n",
    "<summary>2. Hands with a Full House </summary>\n",
    " $$13\\cdot {4\\choose 3} \\cdot 12\\cdot{4\\choose 2} = 3744 $$\n",
    "</details>\n",
    "\n",
    "<details>\n",
    "<summary>3. Hands with Two Pairs </summary>\n",
    "\\[\n",
    "13\\cdot {4\\choose 2} \\cdot 12 \\cdot {4\\choose 2} \\cdot 11 \\cdot 4 \\div 2 = 123552\n",
    "\\]\n",
    "</details>\n",
    "\n",
    "<details>\n",
    "<summary>4. Hands with Every Suit (rainbow) </summary>\n",
    "\\[\n",
    "{4\\choose 1}{13\\choose 2}13^3 = \\frac{13^4\\cdot 4\\cdot 12}{2}\n",
    "\\]\n",
    "</details>\n",
    "\n"
   ]
  },
  {
   "cell_type": "markdown",
   "metadata": {
    "slideshow": {
     "slide_type": "slide"
    }
   },
   "source": [
    "## Law of total probability\n",
    "\n",
    "Let $A$ be a subset of the total sample space $S$, i.e., $A \\subset S$\n",
    "\n",
    "If $\\{B_i\\}_{i= 1\\cdots N}$ is a partition of $ A $, then \n",
    "\n",
    "$$ P(A) = \\sum P(A_{}\\cap B_i) = \\sum P(A_{}\\mid B_i) P(B_i)$$\n",
    "\n",
    "And we call $A$ the marginal distribution of $B$"
   ]
  },
  {
   "cell_type": "markdown",
   "metadata": {
    "slideshow": {
     "slide_type": "slide"
    }
   },
   "source": [
    "## bring it together\n",
    "\n",
    "* we can reason about probability by carefully defining the sample space, and relevant subsets\n",
    "* we can calculate probabilities by performing mathematical, often combinatoric, operations on these sets\n",
    "* if you cannot properly determine the relevant space, it is not possible to define the probability"
   ]
  },
  {
   "cell_type": "markdown",
   "metadata": {
    "slideshow": {
     "slide_type": "slide"
    }
   },
   "source": [
    "### question\n",
    "Consider three fair coins in a bag {`HH`, `HT`, `TT`}. Draw a coin and flip it, you get heads, what is the probability of getting heads on a second flip?  "
   ]
  },
  {
   "cell_type": "markdown",
   "metadata": {
    "slideshow": {
     "slide_type": "slide"
    }
   },
   "source": [
    "### solution"
   ]
  },
  {
   "cell_type": "markdown",
   "metadata": {
    "slideshow": {
     "slide_type": "fragment"
    }
   },
   "source": [
    "$$P(X_2 = H | X_1 = H) = \\frac{P(X_2 = H \\cap X_1 = H)}{P(X_1 = H)}$$\n",
    "  \n",
    "$P(X_2 = H \\cap X_1 = H)$ is probability that $X_1 = H$ **and** $X_2 = H$  \n",
    "if you grab `HH` coin two head flips have probability: 1  \n",
    "but you could also grab `HT` coin and flip heads twice, probability:  $\\frac{1}{2} \\times\\frac{1}{2} = \\frac{1}{4}$  \n",
    "each of those has probability $\\frac{1}{3}$  \n",
    "so $P(X_2 = H \\cap X_1 = H) = \\frac{1}{3} \\times(1 + \\frac{1}{4}) = \\frac{5}{12}$  \n",
    "finally $P(X_1 = H)$ is $\\frac{1}{2}$  \n",
    "$\\therefore P(X_2 = H | X_1 = H) = \\frac{\\frac{5}{12}}{\\frac{1}{2}} = \\frac{5}{6}$\n"
   ]
  },
  {
   "cell_type": "code",
   "execution_count": 10,
   "metadata": {
    "slideshow": {
     "slide_type": "slide"
    }
   },
   "outputs": [
    {
     "name": "stdout",
     "output_type": "stream",
     "text": [
      "0.8326783494405903\n",
      "49874\n"
     ]
    }
   ],
   "source": [
    "import random\n",
    "coins = ['HH', 'HT','TT']\n",
    "results = []\n",
    "for i in range(10**5):\n",
    "    coin = random.choice(coins)\n",
    "    if random.choice(coin) == 'H': # first flip \n",
    "        results.append(random.choice(coin) == 'H') # second flip\n",
    "heads = 1.*sum(results)/len(results)\n",
    "print(heads)\n",
    "print(len(results))"
   ]
  },
  {
   "cell_type": "markdown",
   "metadata": {
    "slideshow": {
     "slide_type": "slide"
    }
   },
   "source": [
    "### question\n",
    "what happens if the coins in the bag are {`HH`, `HT`}"
   ]
  },
  {
   "cell_type": "code",
   "execution_count": 11,
   "metadata": {
    "slideshow": {
     "slide_type": "fragment"
    }
   },
   "outputs": [
    {
     "name": "stdout",
     "output_type": "stream",
     "text": [
      "0.8327854014987156\n",
      "0.1672145985012844\n"
     ]
    }
   ],
   "source": [
    "coins = ['HH', 'HT']\n",
    "results = []\n",
    "for i in range(10**5):\n",
    "    coin = random.choice(coins)\n",
    "    if random.choice(coin) == 'H':\n",
    "        results.append(random.choice(coin) == 'H')\n",
    "heads = 1.*sum(results)/len(results)\n",
    "print(heads)\n",
    "print(1 - heads)"
   ]
  },
  {
   "cell_type": "markdown",
   "metadata": {
    "slideshow": {
     "slide_type": "slide"
    }
   },
   "source": [
    "## chain rule\n",
    "\n",
    "$ P(\\bigcap\\limits_i^n X_i) = \\prod\\limits_i^n P(X_i \\mid \\bigcap\\limits_k^{i-1} X_k) $, for example, when $n = 3$, $P(X_1,X_2,X_3) = P(X_1|X_2,X_3)P(X_2|X_3)P(X_3)$  "
   ]
  },
  {
   "cell_type": "markdown",
   "metadata": {
    "slideshow": {
     "slide_type": "slide"
    }
   },
   "source": [
    "what if $X_1,X_2,X_3$ are independent?"
   ]
  },
  {
   "cell_type": "markdown",
   "metadata": {
    "slideshow": {
     "slide_type": "slide"
    }
   },
   "source": [
    "## Bayes' theorem\n",
    "$$P(B\\mid A) = \\frac{P(A\\mid B)P(B)}{P(A)}$$"
   ]
  },
  {
   "cell_type": "markdown",
   "metadata": {
    "slideshow": {
     "slide_type": "slide"
    }
   },
   "source": [
    "[Medical Tests and Baye's Theorem](https://www.math.hmc.edu/funfacts/ffiles/30002.6.shtml)\n",
    "\n",
    "Suppose that you are worried that you might have a rare disease. You decide to get tested, and suppose that the testing methods for this disease are correct 99% of the time (in other words, if you have the disease, it shows that you do (+) with 99% probability, and if you don't have the disease, it shows that you do not with 99% probability. Suppose this disease is actually quite rare, occurring randomly in the general population in only one of every 10,000 people.\n",
    "\n",
    "If your test results come back positive, what are your chances that you actually have the disease?\n",
    "<details>\n",
    "<summary>Do you think it is approximately: (a) .99, (b) .90, (c) .10, or (d) .01?</summary>\n",
    " the answer is (d)\n",
    "</details>\n",
    "\n",
    "Knowing \n",
    "\n",
    "|conditional events | probability |\n",
    "| --------- | ----------- |\n",
    "| $ P(+ \\mid \\text{diseased})$ | .99 |\n",
    "| $ P(+ \\mid \\text{healthy})$ | .01 |\n",
    "| $P(\\text{diseased})$ | .0001 |\n",
    "\n",
    "what is $ P(\\text{diseased}\\mid +) $?\n",
    "\n",
    "Applying Bayes' theorem, \n",
    "$$P(\\text{diseased}\\mid +) = \\frac{P(+ \\mid \\text{diseased})P(\\text{diseased})}{P(+)}$$  \n",
    "but what is $P(+)$?"
   ]
  },
  {
   "cell_type": "markdown",
   "metadata": {
    "slideshow": {
     "slide_type": "slide"
    }
   },
   "source": [
    "#### law of total probability to the rescue\n",
    "\\begin{align}\n",
    "P(+) & = P(+ \\mid \\text{diseased})P(\\text{diseased}) + P(+ \\mid \\text{healty})P(\\text{healthy})\\\\ \n",
    "P(\\text{healthy}) & = 1 - P(\\text{diseased})\\\\\n",
    "P(\\text{diseased}\\mid +) & = \\frac{P(+ \\mid \\text{diseased})P(\\text{diseased})}{P(+\\mid \\text{diseased})P(\\text{diseased}) + P(+\\mid \\text{healthy})P(\\text{healthy})}\\\\\n",
    "& = \\frac{0.99\\times0.0001}{0.99\\times0.0001 + 0.01\\times0.9999} \\approx 0.0098\n",
    "\\end{align}"
   ]
  },
  {
   "cell_type": "markdown",
   "metadata": {
    "slideshow": {
     "slide_type": "slide"
    }
   },
   "source": [
    "## probability overview\n",
    "\n",
    "* remember complements $P(A^C) = 1 - P(A)$\n",
    "* are things independent?\n",
    "* if conditional probabilites are involved, remember Bayes' rule\n",
    "* probabilites cannot be > 1, check if your reasoning leads to that happening\n",
    "* the law of total probability is your friend\n"
   ]
  }
 ],
 "metadata": {
  "anaconda-cloud": {},
  "kernelspec": {
   "display_name": "Python 3",
   "language": "python",
   "name": "python3"
  },
  "language_info": {
   "codemirror_mode": {
    "name": "ipython",
    "version": 3
   },
   "file_extension": ".py",
   "mimetype": "text/x-python",
   "name": "python",
   "nbconvert_exporter": "python",
   "pygments_lexer": "ipython3",
   "version": "3.7.1"
  }
 },
 "nbformat": 4,
 "nbformat_minor": 2
}
