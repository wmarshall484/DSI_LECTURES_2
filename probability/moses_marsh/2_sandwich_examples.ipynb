{
 "cells": [
  {
   "cell_type": "code",
   "execution_count": 1,
   "metadata": {},
   "outputs": [],
   "source": [
    "import scipy.stats as scs\n",
    "import numpy as np\n",
    "import pandas as pd"
   ]
  },
  {
   "cell_type": "markdown",
   "metadata": {},
   "source": [
    "# Sandwiches\n",
    "\n",
    "## Objectives\n",
    "- learn the laws of probability with sandwiches\n",
    "- learn about random variables with sandwiches"
   ]
  },
  {
   "cell_type": "code",
   "execution_count": 2,
   "metadata": {},
   "outputs": [
    {
     "data": {
      "text/html": [
       "<div>\n",
       "<style>\n",
       "    .dataframe thead tr:only-child th {\n",
       "        text-align: right;\n",
       "    }\n",
       "\n",
       "    .dataframe thead th {\n",
       "        text-align: left;\n",
       "    }\n",
       "\n",
       "    .dataframe tbody tr th {\n",
       "        vertical-align: top;\n",
       "    }\n",
       "</style>\n",
       "<table border=\"1\" class=\"dataframe\">\n",
       "  <thead>\n",
       "    <tr style=\"text-align: right;\">\n",
       "      <th></th>\n",
       "      <th>bread</th>\n",
       "      <th>cheese</th>\n",
       "      <th>mass</th>\n",
       "      <th>meat</th>\n",
       "      <th>mustard?</th>\n",
       "      <th>price</th>\n",
       "    </tr>\n",
       "  </thead>\n",
       "  <tbody>\n",
       "    <tr>\n",
       "      <th>0</th>\n",
       "      <td>wheat</td>\n",
       "      <td>Cheddar</td>\n",
       "      <td>0.41</td>\n",
       "      <td>ham</td>\n",
       "      <td>True</td>\n",
       "      <td>8</td>\n",
       "    </tr>\n",
       "    <tr>\n",
       "      <th>1</th>\n",
       "      <td>wheat</td>\n",
       "      <td>Cheddar</td>\n",
       "      <td>0.32</td>\n",
       "      <td>turkey</td>\n",
       "      <td>True</td>\n",
       "      <td>8</td>\n",
       "    </tr>\n",
       "    <tr>\n",
       "      <th>2</th>\n",
       "      <td>white</td>\n",
       "      <td>Cheddar</td>\n",
       "      <td>0.61</td>\n",
       "      <td>roast beef</td>\n",
       "      <td>True</td>\n",
       "      <td>9</td>\n",
       "    </tr>\n",
       "    <tr>\n",
       "      <th>3</th>\n",
       "      <td>white</td>\n",
       "      <td>Provolone</td>\n",
       "      <td>0.32</td>\n",
       "      <td>roast beef</td>\n",
       "      <td>False</td>\n",
       "      <td>6</td>\n",
       "    </tr>\n",
       "    <tr>\n",
       "      <th>4</th>\n",
       "      <td>wheat</td>\n",
       "      <td>Provolone</td>\n",
       "      <td>0.22</td>\n",
       "      <td>roast beef</td>\n",
       "      <td>True</td>\n",
       "      <td>8</td>\n",
       "    </tr>\n",
       "    <tr>\n",
       "      <th>5</th>\n",
       "      <td>white</td>\n",
       "      <td>Cheddar</td>\n",
       "      <td>0.60</td>\n",
       "      <td>roast beef</td>\n",
       "      <td>False</td>\n",
       "      <td>10</td>\n",
       "    </tr>\n",
       "    <tr>\n",
       "      <th>6</th>\n",
       "      <td>wheat</td>\n",
       "      <td>Nope</td>\n",
       "      <td>0.14</td>\n",
       "      <td>ham</td>\n",
       "      <td>True</td>\n",
       "      <td>8</td>\n",
       "    </tr>\n",
       "    <tr>\n",
       "      <th>7</th>\n",
       "      <td>white</td>\n",
       "      <td>Cheddar</td>\n",
       "      <td>0.26</td>\n",
       "      <td>turkey</td>\n",
       "      <td>True</td>\n",
       "      <td>5</td>\n",
       "    </tr>\n",
       "    <tr>\n",
       "      <th>8</th>\n",
       "      <td>wheat</td>\n",
       "      <td>Cheddar</td>\n",
       "      <td>0.74</td>\n",
       "      <td>roast beef</td>\n",
       "      <td>True</td>\n",
       "      <td>10</td>\n",
       "    </tr>\n",
       "    <tr>\n",
       "      <th>9</th>\n",
       "      <td>dutch crunch</td>\n",
       "      <td>Cheddar</td>\n",
       "      <td>0.75</td>\n",
       "      <td>roast beef</td>\n",
       "      <td>False</td>\n",
       "      <td>7</td>\n",
       "    </tr>\n",
       "    <tr>\n",
       "      <th>10</th>\n",
       "      <td>white</td>\n",
       "      <td>Cheddar</td>\n",
       "      <td>0.93</td>\n",
       "      <td>ham</td>\n",
       "      <td>True</td>\n",
       "      <td>5</td>\n",
       "    </tr>\n",
       "    <tr>\n",
       "      <th>11</th>\n",
       "      <td>wheat</td>\n",
       "      <td>Cheddar</td>\n",
       "      <td>0.74</td>\n",
       "      <td>turkey</td>\n",
       "      <td>False</td>\n",
       "      <td>5</td>\n",
       "    </tr>\n",
       "  </tbody>\n",
       "</table>\n",
       "</div>"
      ],
      "text/plain": [
       "           bread     cheese  mass        meat  mustard?  price\n",
       "0          wheat    Cheddar  0.41         ham      True      8\n",
       "1          wheat    Cheddar  0.32      turkey      True      8\n",
       "2          white    Cheddar  0.61  roast beef      True      9\n",
       "3          white  Provolone  0.32  roast beef     False      6\n",
       "4          wheat  Provolone  0.22  roast beef      True      8\n",
       "5          white    Cheddar  0.60  roast beef     False     10\n",
       "6          wheat       Nope  0.14         ham      True      8\n",
       "7          white    Cheddar  0.26      turkey      True      5\n",
       "8          wheat    Cheddar  0.74  roast beef      True     10\n",
       "9   dutch crunch    Cheddar  0.75  roast beef     False      7\n",
       "10         white    Cheddar  0.93         ham      True      5\n",
       "11         wheat    Cheddar  0.74      turkey     False      5"
      ]
     },
     "execution_count": 2,
     "metadata": {},
     "output_type": "execute_result"
    }
   ],
   "source": [
    "np.random.seed(5002)\n",
    "s_meat = np.random.choice(['turkey','ham','roast beef'], p=[0.5,0.2,0.3], size=12)\n",
    "s_bread = np.random.choice(['white','wheat','dutch crunch'], p=[0.4,0.4,0.2], size=12)\n",
    "s_cheese = np.random.choice(['Nope', 'Provolone', 'Cheddar'], p=[0.2, 0.3, 0.5], size=12)\n",
    "s_mustard = np.random.choice([True, False], p=[0.75, 0.25], size=12)\n",
    "s_price = np.random.randint(5,10, size=12)\n",
    "s_mass = np.random.normal(0.5, 0.2, size=12).round(2)\n",
    "\n",
    "sandwiches = pd.DataFrame(data={'meat':s_meat, \n",
    "                                'bread':s_bread, \n",
    "                                'cheese':s_cheese, \n",
    "                                'mustard?':s_mustard,\n",
    "                                'price':s_price,\n",
    "                                'mass':s_mass})\n",
    "\n",
    "sandwiches.loc[sandwiches['cheese'] == 'Nope', 'price'] -= 1\n",
    "sandwiches.loc[sandwiches['meat'] == 'roast beef', 'price'] += 1\n",
    "\n",
    "sandwiches.loc[sandwiches['cheese'] == 'Nope', 'mass'] -= 0.1\n",
    "sandwiches.loc[sandwiches['meat'] == 'roast beef', 'mass'] += 0.1\n",
    "\n",
    "\n",
    "\n",
    "sandwiches"
   ]
  },
  {
   "cell_type": "code",
   "execution_count": 3,
   "metadata": {},
   "outputs": [
    {
     "data": {
      "text/html": [
       "<div>\n",
       "<style>\n",
       "    .dataframe thead tr:only-child th {\n",
       "        text-align: right;\n",
       "    }\n",
       "\n",
       "    .dataframe thead th {\n",
       "        text-align: left;\n",
       "    }\n",
       "\n",
       "    .dataframe tbody tr th {\n",
       "        vertical-align: top;\n",
       "    }\n",
       "</style>\n",
       "<table border=\"1\" class=\"dataframe\">\n",
       "  <thead>\n",
       "    <tr style=\"text-align: right;\">\n",
       "      <th></th>\n",
       "      <th>bread</th>\n",
       "      <th>cheese</th>\n",
       "      <th>mass</th>\n",
       "      <th>meat</th>\n",
       "      <th>mustard?</th>\n",
       "      <th>price</th>\n",
       "    </tr>\n",
       "  </thead>\n",
       "  <tbody>\n",
       "    <tr>\n",
       "      <th>9</th>\n",
       "      <td>dutch crunch</td>\n",
       "      <td>Cheddar</td>\n",
       "      <td>0.75</td>\n",
       "      <td>roast beef</td>\n",
       "      <td>False</td>\n",
       "      <td>7</td>\n",
       "    </tr>\n",
       "    <tr>\n",
       "      <th>0</th>\n",
       "      <td>wheat</td>\n",
       "      <td>Cheddar</td>\n",
       "      <td>0.41</td>\n",
       "      <td>ham</td>\n",
       "      <td>True</td>\n",
       "      <td>8</td>\n",
       "    </tr>\n",
       "    <tr>\n",
       "      <th>1</th>\n",
       "      <td>wheat</td>\n",
       "      <td>Cheddar</td>\n",
       "      <td>0.32</td>\n",
       "      <td>turkey</td>\n",
       "      <td>True</td>\n",
       "      <td>8</td>\n",
       "    </tr>\n",
       "    <tr>\n",
       "      <th>8</th>\n",
       "      <td>wheat</td>\n",
       "      <td>Cheddar</td>\n",
       "      <td>0.74</td>\n",
       "      <td>roast beef</td>\n",
       "      <td>True</td>\n",
       "      <td>10</td>\n",
       "    </tr>\n",
       "    <tr>\n",
       "      <th>11</th>\n",
       "      <td>wheat</td>\n",
       "      <td>Cheddar</td>\n",
       "      <td>0.74</td>\n",
       "      <td>turkey</td>\n",
       "      <td>False</td>\n",
       "      <td>5</td>\n",
       "    </tr>\n",
       "    <tr>\n",
       "      <th>6</th>\n",
       "      <td>wheat</td>\n",
       "      <td>Nope</td>\n",
       "      <td>0.14</td>\n",
       "      <td>ham</td>\n",
       "      <td>True</td>\n",
       "      <td>8</td>\n",
       "    </tr>\n",
       "    <tr>\n",
       "      <th>4</th>\n",
       "      <td>wheat</td>\n",
       "      <td>Provolone</td>\n",
       "      <td>0.22</td>\n",
       "      <td>roast beef</td>\n",
       "      <td>True</td>\n",
       "      <td>8</td>\n",
       "    </tr>\n",
       "    <tr>\n",
       "      <th>2</th>\n",
       "      <td>white</td>\n",
       "      <td>Cheddar</td>\n",
       "      <td>0.61</td>\n",
       "      <td>roast beef</td>\n",
       "      <td>True</td>\n",
       "      <td>9</td>\n",
       "    </tr>\n",
       "    <tr>\n",
       "      <th>5</th>\n",
       "      <td>white</td>\n",
       "      <td>Cheddar</td>\n",
       "      <td>0.60</td>\n",
       "      <td>roast beef</td>\n",
       "      <td>False</td>\n",
       "      <td>10</td>\n",
       "    </tr>\n",
       "    <tr>\n",
       "      <th>7</th>\n",
       "      <td>white</td>\n",
       "      <td>Cheddar</td>\n",
       "      <td>0.26</td>\n",
       "      <td>turkey</td>\n",
       "      <td>True</td>\n",
       "      <td>5</td>\n",
       "    </tr>\n",
       "    <tr>\n",
       "      <th>10</th>\n",
       "      <td>white</td>\n",
       "      <td>Cheddar</td>\n",
       "      <td>0.93</td>\n",
       "      <td>ham</td>\n",
       "      <td>True</td>\n",
       "      <td>5</td>\n",
       "    </tr>\n",
       "    <tr>\n",
       "      <th>3</th>\n",
       "      <td>white</td>\n",
       "      <td>Provolone</td>\n",
       "      <td>0.32</td>\n",
       "      <td>roast beef</td>\n",
       "      <td>False</td>\n",
       "      <td>6</td>\n",
       "    </tr>\n",
       "  </tbody>\n",
       "</table>\n",
       "</div>"
      ],
      "text/plain": [
       "           bread     cheese  mass        meat  mustard?  price\n",
       "9   dutch crunch    Cheddar  0.75  roast beef     False      7\n",
       "0          wheat    Cheddar  0.41         ham      True      8\n",
       "1          wheat    Cheddar  0.32      turkey      True      8\n",
       "8          wheat    Cheddar  0.74  roast beef      True     10\n",
       "11         wheat    Cheddar  0.74      turkey     False      5\n",
       "6          wheat       Nope  0.14         ham      True      8\n",
       "4          wheat  Provolone  0.22  roast beef      True      8\n",
       "2          white    Cheddar  0.61  roast beef      True      9\n",
       "5          white    Cheddar  0.60  roast beef     False     10\n",
       "7          white    Cheddar  0.26      turkey      True      5\n",
       "10         white    Cheddar  0.93         ham      True      5\n",
       "3          white  Provolone  0.32  roast beef     False      6"
      ]
     },
     "execution_count": 3,
     "metadata": {},
     "output_type": "execute_result"
    }
   ],
   "source": [
    "sandwiches.sort_values(['bread', 'cheese'])"
   ]
  },
  {
   "cell_type": "markdown",
   "metadata": {},
   "source": [
    "`P(bread=wheat) = 6/12`\n",
    "\n",
    "`P(bread=dutch) = 1/12`\n",
    "\n",
    "`P(bread=white) = 5/12`"
   ]
  },
  {
   "cell_type": "code",
   "execution_count": 4,
   "metadata": {
    "scrolled": false
   },
   "outputs": [
    {
     "data": {
      "text/html": [
       "<div>\n",
       "<style>\n",
       "    .dataframe thead tr:only-child th {\n",
       "        text-align: right;\n",
       "    }\n",
       "\n",
       "    .dataframe thead th {\n",
       "        text-align: left;\n",
       "    }\n",
       "\n",
       "    .dataframe tbody tr th {\n",
       "        vertical-align: top;\n",
       "    }\n",
       "</style>\n",
       "<table border=\"1\" class=\"dataframe\">\n",
       "  <thead>\n",
       "    <tr style=\"text-align: right;\">\n",
       "      <th></th>\n",
       "      <th>bread</th>\n",
       "      <th>cheese</th>\n",
       "      <th>mass</th>\n",
       "      <th>meat</th>\n",
       "      <th>mustard?</th>\n",
       "      <th>price</th>\n",
       "    </tr>\n",
       "  </thead>\n",
       "  <tbody>\n",
       "    <tr>\n",
       "      <th>0</th>\n",
       "      <td>wheat</td>\n",
       "      <td>Cheddar</td>\n",
       "      <td>0.41</td>\n",
       "      <td>ham</td>\n",
       "      <td>True</td>\n",
       "      <td>8</td>\n",
       "    </tr>\n",
       "    <tr>\n",
       "      <th>10</th>\n",
       "      <td>white</td>\n",
       "      <td>Cheddar</td>\n",
       "      <td>0.93</td>\n",
       "      <td>ham</td>\n",
       "      <td>True</td>\n",
       "      <td>5</td>\n",
       "    </tr>\n",
       "    <tr>\n",
       "      <th>2</th>\n",
       "      <td>white</td>\n",
       "      <td>Cheddar</td>\n",
       "      <td>0.61</td>\n",
       "      <td>roast beef</td>\n",
       "      <td>True</td>\n",
       "      <td>9</td>\n",
       "    </tr>\n",
       "    <tr>\n",
       "      <th>5</th>\n",
       "      <td>white</td>\n",
       "      <td>Cheddar</td>\n",
       "      <td>0.60</td>\n",
       "      <td>roast beef</td>\n",
       "      <td>False</td>\n",
       "      <td>10</td>\n",
       "    </tr>\n",
       "    <tr>\n",
       "      <th>8</th>\n",
       "      <td>wheat</td>\n",
       "      <td>Cheddar</td>\n",
       "      <td>0.74</td>\n",
       "      <td>roast beef</td>\n",
       "      <td>True</td>\n",
       "      <td>10</td>\n",
       "    </tr>\n",
       "    <tr>\n",
       "      <th>9</th>\n",
       "      <td>dutch crunch</td>\n",
       "      <td>Cheddar</td>\n",
       "      <td>0.75</td>\n",
       "      <td>roast beef</td>\n",
       "      <td>False</td>\n",
       "      <td>7</td>\n",
       "    </tr>\n",
       "    <tr>\n",
       "      <th>1</th>\n",
       "      <td>wheat</td>\n",
       "      <td>Cheddar</td>\n",
       "      <td>0.32</td>\n",
       "      <td>turkey</td>\n",
       "      <td>True</td>\n",
       "      <td>8</td>\n",
       "    </tr>\n",
       "    <tr>\n",
       "      <th>7</th>\n",
       "      <td>white</td>\n",
       "      <td>Cheddar</td>\n",
       "      <td>0.26</td>\n",
       "      <td>turkey</td>\n",
       "      <td>True</td>\n",
       "      <td>5</td>\n",
       "    </tr>\n",
       "    <tr>\n",
       "      <th>11</th>\n",
       "      <td>wheat</td>\n",
       "      <td>Cheddar</td>\n",
       "      <td>0.74</td>\n",
       "      <td>turkey</td>\n",
       "      <td>False</td>\n",
       "      <td>5</td>\n",
       "    </tr>\n",
       "    <tr>\n",
       "      <th>6</th>\n",
       "      <td>wheat</td>\n",
       "      <td>Nope</td>\n",
       "      <td>0.14</td>\n",
       "      <td>ham</td>\n",
       "      <td>True</td>\n",
       "      <td>8</td>\n",
       "    </tr>\n",
       "    <tr>\n",
       "      <th>3</th>\n",
       "      <td>white</td>\n",
       "      <td>Provolone</td>\n",
       "      <td>0.32</td>\n",
       "      <td>roast beef</td>\n",
       "      <td>False</td>\n",
       "      <td>6</td>\n",
       "    </tr>\n",
       "    <tr>\n",
       "      <th>4</th>\n",
       "      <td>wheat</td>\n",
       "      <td>Provolone</td>\n",
       "      <td>0.22</td>\n",
       "      <td>roast beef</td>\n",
       "      <td>True</td>\n",
       "      <td>8</td>\n",
       "    </tr>\n",
       "  </tbody>\n",
       "</table>\n",
       "</div>"
      ],
      "text/plain": [
       "           bread     cheese  mass        meat  mustard?  price\n",
       "0          wheat    Cheddar  0.41         ham      True      8\n",
       "10         white    Cheddar  0.93         ham      True      5\n",
       "2          white    Cheddar  0.61  roast beef      True      9\n",
       "5          white    Cheddar  0.60  roast beef     False     10\n",
       "8          wheat    Cheddar  0.74  roast beef      True     10\n",
       "9   dutch crunch    Cheddar  0.75  roast beef     False      7\n",
       "1          wheat    Cheddar  0.32      turkey      True      8\n",
       "7          white    Cheddar  0.26      turkey      True      5\n",
       "11         wheat    Cheddar  0.74      turkey     False      5\n",
       "6          wheat       Nope  0.14         ham      True      8\n",
       "3          white  Provolone  0.32  roast beef     False      6\n",
       "4          wheat  Provolone  0.22  roast beef      True      8"
      ]
     },
     "execution_count": 4,
     "metadata": {},
     "output_type": "execute_result"
    }
   ],
   "source": [
    "sandwiches.sort_values(['cheese', 'meat'])"
   ]
  },
  {
   "cell_type": "markdown",
   "metadata": {},
   "source": [
    "`P(cheese=ched) = 9/12`\n",
    "\n",
    "`P(cheese=nope) = 1/12`\n",
    "\n",
    "`P(cheese=prov) = 2/12`\n"
   ]
  },
  {
   "cell_type": "code",
   "execution_count": 5,
   "metadata": {},
   "outputs": [
    {
     "data": {
      "text/html": [
       "<div>\n",
       "<style>\n",
       "    .dataframe thead tr:only-child th {\n",
       "        text-align: right;\n",
       "    }\n",
       "\n",
       "    .dataframe thead th {\n",
       "        text-align: left;\n",
       "    }\n",
       "\n",
       "    .dataframe tbody tr th {\n",
       "        vertical-align: top;\n",
       "    }\n",
       "</style>\n",
       "<table border=\"1\" class=\"dataframe\">\n",
       "  <thead>\n",
       "    <tr style=\"text-align: right;\">\n",
       "      <th></th>\n",
       "      <th>bread</th>\n",
       "      <th>cheese</th>\n",
       "      <th>mass</th>\n",
       "      <th>meat</th>\n",
       "      <th>mustard?</th>\n",
       "      <th>price</th>\n",
       "    </tr>\n",
       "  </thead>\n",
       "  <tbody>\n",
       "    <tr>\n",
       "      <th>0</th>\n",
       "      <td>wheat</td>\n",
       "      <td>Cheddar</td>\n",
       "      <td>0.41</td>\n",
       "      <td>ham</td>\n",
       "      <td>True</td>\n",
       "      <td>8</td>\n",
       "    </tr>\n",
       "    <tr>\n",
       "      <th>1</th>\n",
       "      <td>wheat</td>\n",
       "      <td>Cheddar</td>\n",
       "      <td>0.32</td>\n",
       "      <td>turkey</td>\n",
       "      <td>True</td>\n",
       "      <td>8</td>\n",
       "    </tr>\n",
       "    <tr>\n",
       "      <th>2</th>\n",
       "      <td>white</td>\n",
       "      <td>Cheddar</td>\n",
       "      <td>0.61</td>\n",
       "      <td>roast beef</td>\n",
       "      <td>True</td>\n",
       "      <td>9</td>\n",
       "    </tr>\n",
       "    <tr>\n",
       "      <th>5</th>\n",
       "      <td>white</td>\n",
       "      <td>Cheddar</td>\n",
       "      <td>0.60</td>\n",
       "      <td>roast beef</td>\n",
       "      <td>False</td>\n",
       "      <td>10</td>\n",
       "    </tr>\n",
       "    <tr>\n",
       "      <th>7</th>\n",
       "      <td>white</td>\n",
       "      <td>Cheddar</td>\n",
       "      <td>0.26</td>\n",
       "      <td>turkey</td>\n",
       "      <td>True</td>\n",
       "      <td>5</td>\n",
       "    </tr>\n",
       "    <tr>\n",
       "      <th>8</th>\n",
       "      <td>wheat</td>\n",
       "      <td>Cheddar</td>\n",
       "      <td>0.74</td>\n",
       "      <td>roast beef</td>\n",
       "      <td>True</td>\n",
       "      <td>10</td>\n",
       "    </tr>\n",
       "    <tr>\n",
       "      <th>9</th>\n",
       "      <td>dutch crunch</td>\n",
       "      <td>Cheddar</td>\n",
       "      <td>0.75</td>\n",
       "      <td>roast beef</td>\n",
       "      <td>False</td>\n",
       "      <td>7</td>\n",
       "    </tr>\n",
       "    <tr>\n",
       "      <th>10</th>\n",
       "      <td>white</td>\n",
       "      <td>Cheddar</td>\n",
       "      <td>0.93</td>\n",
       "      <td>ham</td>\n",
       "      <td>True</td>\n",
       "      <td>5</td>\n",
       "    </tr>\n",
       "    <tr>\n",
       "      <th>11</th>\n",
       "      <td>wheat</td>\n",
       "      <td>Cheddar</td>\n",
       "      <td>0.74</td>\n",
       "      <td>turkey</td>\n",
       "      <td>False</td>\n",
       "      <td>5</td>\n",
       "    </tr>\n",
       "  </tbody>\n",
       "</table>\n",
       "</div>"
      ],
      "text/plain": [
       "           bread   cheese  mass        meat  mustard?  price\n",
       "0          wheat  Cheddar  0.41         ham      True      8\n",
       "1          wheat  Cheddar  0.32      turkey      True      8\n",
       "2          white  Cheddar  0.61  roast beef      True      9\n",
       "5          white  Cheddar  0.60  roast beef     False     10\n",
       "7          white  Cheddar  0.26      turkey      True      5\n",
       "8          wheat  Cheddar  0.74  roast beef      True     10\n",
       "9   dutch crunch  Cheddar  0.75  roast beef     False      7\n",
       "10         white  Cheddar  0.93         ham      True      5\n",
       "11         wheat  Cheddar  0.74      turkey     False      5"
      ]
     },
     "execution_count": 5,
     "metadata": {},
     "output_type": "execute_result"
    }
   ],
   "source": [
    "sandwiches[sandwiches['cheese']=='Cheddar']"
   ]
  },
  {
   "cell_type": "code",
   "execution_count": 6,
   "metadata": {},
   "outputs": [
    {
     "data": {
      "text/html": [
       "<div>\n",
       "<style>\n",
       "    .dataframe thead tr:only-child th {\n",
       "        text-align: right;\n",
       "    }\n",
       "\n",
       "    .dataframe thead th {\n",
       "        text-align: left;\n",
       "    }\n",
       "\n",
       "    .dataframe tbody tr th {\n",
       "        vertical-align: top;\n",
       "    }\n",
       "</style>\n",
       "<table border=\"1\" class=\"dataframe\">\n",
       "  <thead>\n",
       "    <tr style=\"text-align: right;\">\n",
       "      <th></th>\n",
       "      <th>bread</th>\n",
       "      <th>cheese</th>\n",
       "      <th>mass</th>\n",
       "      <th>meat</th>\n",
       "      <th>mustard?</th>\n",
       "      <th>price</th>\n",
       "    </tr>\n",
       "  </thead>\n",
       "  <tbody>\n",
       "    <tr>\n",
       "      <th>2</th>\n",
       "      <td>white</td>\n",
       "      <td>Cheddar</td>\n",
       "      <td>0.61</td>\n",
       "      <td>roast beef</td>\n",
       "      <td>True</td>\n",
       "      <td>9</td>\n",
       "    </tr>\n",
       "    <tr>\n",
       "      <th>3</th>\n",
       "      <td>white</td>\n",
       "      <td>Provolone</td>\n",
       "      <td>0.32</td>\n",
       "      <td>roast beef</td>\n",
       "      <td>False</td>\n",
       "      <td>6</td>\n",
       "    </tr>\n",
       "    <tr>\n",
       "      <th>5</th>\n",
       "      <td>white</td>\n",
       "      <td>Cheddar</td>\n",
       "      <td>0.60</td>\n",
       "      <td>roast beef</td>\n",
       "      <td>False</td>\n",
       "      <td>10</td>\n",
       "    </tr>\n",
       "    <tr>\n",
       "      <th>7</th>\n",
       "      <td>white</td>\n",
       "      <td>Cheddar</td>\n",
       "      <td>0.26</td>\n",
       "      <td>turkey</td>\n",
       "      <td>True</td>\n",
       "      <td>5</td>\n",
       "    </tr>\n",
       "    <tr>\n",
       "      <th>10</th>\n",
       "      <td>white</td>\n",
       "      <td>Cheddar</td>\n",
       "      <td>0.93</td>\n",
       "      <td>ham</td>\n",
       "      <td>True</td>\n",
       "      <td>5</td>\n",
       "    </tr>\n",
       "  </tbody>\n",
       "</table>\n",
       "</div>"
      ],
      "text/plain": [
       "    bread     cheese  mass        meat  mustard?  price\n",
       "2   white    Cheddar  0.61  roast beef      True      9\n",
       "3   white  Provolone  0.32  roast beef     False      6\n",
       "5   white    Cheddar  0.60  roast beef     False     10\n",
       "7   white    Cheddar  0.26      turkey      True      5\n",
       "10  white    Cheddar  0.93         ham      True      5"
      ]
     },
     "execution_count": 6,
     "metadata": {},
     "output_type": "execute_result"
    }
   ],
   "source": [
    "sandwiches[sandwiches['bread'] == 'white']"
   ]
  },
  {
   "cell_type": "code",
   "execution_count": 7,
   "metadata": {},
   "outputs": [
    {
     "data": {
      "text/html": [
       "<div>\n",
       "<style>\n",
       "    .dataframe thead tr:only-child th {\n",
       "        text-align: right;\n",
       "    }\n",
       "\n",
       "    .dataframe thead th {\n",
       "        text-align: left;\n",
       "    }\n",
       "\n",
       "    .dataframe tbody tr th {\n",
       "        vertical-align: top;\n",
       "    }\n",
       "</style>\n",
       "<table border=\"1\" class=\"dataframe\">\n",
       "  <thead>\n",
       "    <tr style=\"text-align: right;\">\n",
       "      <th></th>\n",
       "      <th>bread</th>\n",
       "      <th>cheese</th>\n",
       "      <th>mass</th>\n",
       "      <th>meat</th>\n",
       "      <th>mustard?</th>\n",
       "      <th>price</th>\n",
       "    </tr>\n",
       "  </thead>\n",
       "  <tbody>\n",
       "    <tr>\n",
       "      <th>2</th>\n",
       "      <td>white</td>\n",
       "      <td>Cheddar</td>\n",
       "      <td>0.61</td>\n",
       "      <td>roast beef</td>\n",
       "      <td>True</td>\n",
       "      <td>9</td>\n",
       "    </tr>\n",
       "    <tr>\n",
       "      <th>5</th>\n",
       "      <td>white</td>\n",
       "      <td>Cheddar</td>\n",
       "      <td>0.60</td>\n",
       "      <td>roast beef</td>\n",
       "      <td>False</td>\n",
       "      <td>10</td>\n",
       "    </tr>\n",
       "    <tr>\n",
       "      <th>7</th>\n",
       "      <td>white</td>\n",
       "      <td>Cheddar</td>\n",
       "      <td>0.26</td>\n",
       "      <td>turkey</td>\n",
       "      <td>True</td>\n",
       "      <td>5</td>\n",
       "    </tr>\n",
       "    <tr>\n",
       "      <th>10</th>\n",
       "      <td>white</td>\n",
       "      <td>Cheddar</td>\n",
       "      <td>0.93</td>\n",
       "      <td>ham</td>\n",
       "      <td>True</td>\n",
       "      <td>5</td>\n",
       "    </tr>\n",
       "  </tbody>\n",
       "</table>\n",
       "</div>"
      ],
      "text/plain": [
       "    bread   cheese  mass        meat  mustard?  price\n",
       "2   white  Cheddar  0.61  roast beef      True      9\n",
       "5   white  Cheddar  0.60  roast beef     False     10\n",
       "7   white  Cheddar  0.26      turkey      True      5\n",
       "10  white  Cheddar  0.93         ham      True      5"
      ]
     },
     "execution_count": 7,
     "metadata": {},
     "output_type": "execute_result"
    }
   ],
   "source": [
    "sandwiches[(sandwiches['bread'] == 'white') & (sandwiches['cheese']=='Cheddar')]"
   ]
  },
  {
   "cell_type": "code",
   "execution_count": 8,
   "metadata": {},
   "outputs": [
    {
     "data": {
      "text/html": [
       "<div>\n",
       "<style>\n",
       "    .dataframe thead tr:only-child th {\n",
       "        text-align: right;\n",
       "    }\n",
       "\n",
       "    .dataframe thead th {\n",
       "        text-align: left;\n",
       "    }\n",
       "\n",
       "    .dataframe tbody tr th {\n",
       "        vertical-align: top;\n",
       "    }\n",
       "</style>\n",
       "<table border=\"1\" class=\"dataframe\">\n",
       "  <thead>\n",
       "    <tr style=\"text-align: right;\">\n",
       "      <th></th>\n",
       "      <th>bread</th>\n",
       "      <th>cheese</th>\n",
       "      <th>mass</th>\n",
       "      <th>meat</th>\n",
       "      <th>mustard?</th>\n",
       "      <th>price</th>\n",
       "    </tr>\n",
       "  </thead>\n",
       "  <tbody>\n",
       "    <tr>\n",
       "      <th>0</th>\n",
       "      <td>wheat</td>\n",
       "      <td>Cheddar</td>\n",
       "      <td>0.41</td>\n",
       "      <td>ham</td>\n",
       "      <td>True</td>\n",
       "      <td>8</td>\n",
       "    </tr>\n",
       "    <tr>\n",
       "      <th>1</th>\n",
       "      <td>wheat</td>\n",
       "      <td>Cheddar</td>\n",
       "      <td>0.32</td>\n",
       "      <td>turkey</td>\n",
       "      <td>True</td>\n",
       "      <td>8</td>\n",
       "    </tr>\n",
       "    <tr>\n",
       "      <th>2</th>\n",
       "      <td>white</td>\n",
       "      <td>Cheddar</td>\n",
       "      <td>0.61</td>\n",
       "      <td>roast beef</td>\n",
       "      <td>True</td>\n",
       "      <td>9</td>\n",
       "    </tr>\n",
       "    <tr>\n",
       "      <th>3</th>\n",
       "      <td>white</td>\n",
       "      <td>Provolone</td>\n",
       "      <td>0.32</td>\n",
       "      <td>roast beef</td>\n",
       "      <td>False</td>\n",
       "      <td>6</td>\n",
       "    </tr>\n",
       "    <tr>\n",
       "      <th>5</th>\n",
       "      <td>white</td>\n",
       "      <td>Cheddar</td>\n",
       "      <td>0.60</td>\n",
       "      <td>roast beef</td>\n",
       "      <td>False</td>\n",
       "      <td>10</td>\n",
       "    </tr>\n",
       "    <tr>\n",
       "      <th>7</th>\n",
       "      <td>white</td>\n",
       "      <td>Cheddar</td>\n",
       "      <td>0.26</td>\n",
       "      <td>turkey</td>\n",
       "      <td>True</td>\n",
       "      <td>5</td>\n",
       "    </tr>\n",
       "    <tr>\n",
       "      <th>8</th>\n",
       "      <td>wheat</td>\n",
       "      <td>Cheddar</td>\n",
       "      <td>0.74</td>\n",
       "      <td>roast beef</td>\n",
       "      <td>True</td>\n",
       "      <td>10</td>\n",
       "    </tr>\n",
       "    <tr>\n",
       "      <th>9</th>\n",
       "      <td>dutch crunch</td>\n",
       "      <td>Cheddar</td>\n",
       "      <td>0.75</td>\n",
       "      <td>roast beef</td>\n",
       "      <td>False</td>\n",
       "      <td>7</td>\n",
       "    </tr>\n",
       "    <tr>\n",
       "      <th>10</th>\n",
       "      <td>white</td>\n",
       "      <td>Cheddar</td>\n",
       "      <td>0.93</td>\n",
       "      <td>ham</td>\n",
       "      <td>True</td>\n",
       "      <td>5</td>\n",
       "    </tr>\n",
       "    <tr>\n",
       "      <th>11</th>\n",
       "      <td>wheat</td>\n",
       "      <td>Cheddar</td>\n",
       "      <td>0.74</td>\n",
       "      <td>turkey</td>\n",
       "      <td>False</td>\n",
       "      <td>5</td>\n",
       "    </tr>\n",
       "  </tbody>\n",
       "</table>\n",
       "</div>"
      ],
      "text/plain": [
       "           bread     cheese  mass        meat  mustard?  price\n",
       "0          wheat    Cheddar  0.41         ham      True      8\n",
       "1          wheat    Cheddar  0.32      turkey      True      8\n",
       "2          white    Cheddar  0.61  roast beef      True      9\n",
       "3          white  Provolone  0.32  roast beef     False      6\n",
       "5          white    Cheddar  0.60  roast beef     False     10\n",
       "7          white    Cheddar  0.26      turkey      True      5\n",
       "8          wheat    Cheddar  0.74  roast beef      True     10\n",
       "9   dutch crunch    Cheddar  0.75  roast beef     False      7\n",
       "10         white    Cheddar  0.93         ham      True      5\n",
       "11         wheat    Cheddar  0.74      turkey     False      5"
      ]
     },
     "execution_count": 8,
     "metadata": {},
     "output_type": "execute_result"
    }
   ],
   "source": [
    "sandwiches[(sandwiches['bread'] == 'white') | (sandwiches['cheese']=='Cheddar')]"
   ]
  },
  {
   "cell_type": "markdown",
   "metadata": {},
   "source": [
    "`P(white bread AND cheddar) = 4/12`\n",
    "\n",
    "`P(white bread OR cheddar) = 10/12`\n",
    "\n",
    "`P(white bread GIVEN cheddar) = 4/9`"
   ]
  },
  {
   "cell_type": "markdown",
   "metadata": {},
   "source": [
    "Does `P(white OR cheddar) = P(white) + P(cheddar) - P(white AND cheddar)` add up?"
   ]
  },
  {
   "cell_type": "markdown",
   "metadata": {},
   "source": [
    "Is the event `bread = white` independent of `cheese = cheddar`?"
   ]
  },
  {
   "cell_type": "markdown",
   "metadata": {},
   "source": [
    "What about `bread = wheat` and `cheese = provolone`? Are they statistically independent events?"
   ]
  },
  {
   "cell_type": "code",
   "execution_count": 9,
   "metadata": {},
   "outputs": [
    {
     "data": {
      "text/html": [
       "<div>\n",
       "<style>\n",
       "    .dataframe thead tr:only-child th {\n",
       "        text-align: right;\n",
       "    }\n",
       "\n",
       "    .dataframe thead th {\n",
       "        text-align: left;\n",
       "    }\n",
       "\n",
       "    .dataframe tbody tr th {\n",
       "        vertical-align: top;\n",
       "    }\n",
       "</style>\n",
       "<table border=\"1\" class=\"dataframe\">\n",
       "  <thead>\n",
       "    <tr style=\"text-align: right;\">\n",
       "      <th></th>\n",
       "      <th>bread</th>\n",
       "      <th>cheese</th>\n",
       "      <th>mass</th>\n",
       "      <th>meat</th>\n",
       "      <th>mustard?</th>\n",
       "      <th>price</th>\n",
       "    </tr>\n",
       "  </thead>\n",
       "  <tbody>\n",
       "    <tr>\n",
       "      <th>0</th>\n",
       "      <td>wheat</td>\n",
       "      <td>Cheddar</td>\n",
       "      <td>0.41</td>\n",
       "      <td>ham</td>\n",
       "      <td>True</td>\n",
       "      <td>8</td>\n",
       "    </tr>\n",
       "    <tr>\n",
       "      <th>1</th>\n",
       "      <td>wheat</td>\n",
       "      <td>Cheddar</td>\n",
       "      <td>0.32</td>\n",
       "      <td>turkey</td>\n",
       "      <td>True</td>\n",
       "      <td>8</td>\n",
       "    </tr>\n",
       "    <tr>\n",
       "      <th>2</th>\n",
       "      <td>white</td>\n",
       "      <td>Cheddar</td>\n",
       "      <td>0.61</td>\n",
       "      <td>roast beef</td>\n",
       "      <td>True</td>\n",
       "      <td>9</td>\n",
       "    </tr>\n",
       "    <tr>\n",
       "      <th>3</th>\n",
       "      <td>white</td>\n",
       "      <td>Provolone</td>\n",
       "      <td>0.32</td>\n",
       "      <td>roast beef</td>\n",
       "      <td>False</td>\n",
       "      <td>6</td>\n",
       "    </tr>\n",
       "    <tr>\n",
       "      <th>4</th>\n",
       "      <td>wheat</td>\n",
       "      <td>Provolone</td>\n",
       "      <td>0.22</td>\n",
       "      <td>roast beef</td>\n",
       "      <td>True</td>\n",
       "      <td>8</td>\n",
       "    </tr>\n",
       "    <tr>\n",
       "      <th>5</th>\n",
       "      <td>white</td>\n",
       "      <td>Cheddar</td>\n",
       "      <td>0.60</td>\n",
       "      <td>roast beef</td>\n",
       "      <td>False</td>\n",
       "      <td>10</td>\n",
       "    </tr>\n",
       "    <tr>\n",
       "      <th>6</th>\n",
       "      <td>wheat</td>\n",
       "      <td>Nope</td>\n",
       "      <td>0.14</td>\n",
       "      <td>ham</td>\n",
       "      <td>True</td>\n",
       "      <td>8</td>\n",
       "    </tr>\n",
       "    <tr>\n",
       "      <th>7</th>\n",
       "      <td>white</td>\n",
       "      <td>Cheddar</td>\n",
       "      <td>0.26</td>\n",
       "      <td>turkey</td>\n",
       "      <td>True</td>\n",
       "      <td>5</td>\n",
       "    </tr>\n",
       "    <tr>\n",
       "      <th>8</th>\n",
       "      <td>wheat</td>\n",
       "      <td>Cheddar</td>\n",
       "      <td>0.74</td>\n",
       "      <td>roast beef</td>\n",
       "      <td>True</td>\n",
       "      <td>10</td>\n",
       "    </tr>\n",
       "    <tr>\n",
       "      <th>9</th>\n",
       "      <td>dutch crunch</td>\n",
       "      <td>Cheddar</td>\n",
       "      <td>0.75</td>\n",
       "      <td>roast beef</td>\n",
       "      <td>False</td>\n",
       "      <td>7</td>\n",
       "    </tr>\n",
       "    <tr>\n",
       "      <th>10</th>\n",
       "      <td>white</td>\n",
       "      <td>Cheddar</td>\n",
       "      <td>0.93</td>\n",
       "      <td>ham</td>\n",
       "      <td>True</td>\n",
       "      <td>5</td>\n",
       "    </tr>\n",
       "    <tr>\n",
       "      <th>11</th>\n",
       "      <td>wheat</td>\n",
       "      <td>Cheddar</td>\n",
       "      <td>0.74</td>\n",
       "      <td>turkey</td>\n",
       "      <td>False</td>\n",
       "      <td>5</td>\n",
       "    </tr>\n",
       "  </tbody>\n",
       "</table>\n",
       "</div>"
      ],
      "text/plain": [
       "           bread     cheese  mass        meat  mustard?  price\n",
       "0          wheat    Cheddar  0.41         ham      True      8\n",
       "1          wheat    Cheddar  0.32      turkey      True      8\n",
       "2          white    Cheddar  0.61  roast beef      True      9\n",
       "3          white  Provolone  0.32  roast beef     False      6\n",
       "4          wheat  Provolone  0.22  roast beef      True      8\n",
       "5          white    Cheddar  0.60  roast beef     False     10\n",
       "6          wheat       Nope  0.14         ham      True      8\n",
       "7          white    Cheddar  0.26      turkey      True      5\n",
       "8          wheat    Cheddar  0.74  roast beef      True     10\n",
       "9   dutch crunch    Cheddar  0.75  roast beef     False      7\n",
       "10         white    Cheddar  0.93         ham      True      5\n",
       "11         wheat    Cheddar  0.74      turkey     False      5"
      ]
     },
     "execution_count": 9,
     "metadata": {},
     "output_type": "execute_result"
    }
   ],
   "source": [
    "sandwiches"
   ]
  },
  {
   "cell_type": "code",
   "execution_count": 10,
   "metadata": {},
   "outputs": [
    {
     "data": {
      "text/html": [
       "<div>\n",
       "<style>\n",
       "    .dataframe thead tr:only-child th {\n",
       "        text-align: right;\n",
       "    }\n",
       "\n",
       "    .dataframe thead th {\n",
       "        text-align: left;\n",
       "    }\n",
       "\n",
       "    .dataframe tbody tr th {\n",
       "        vertical-align: top;\n",
       "    }\n",
       "</style>\n",
       "<table border=\"1\" class=\"dataframe\">\n",
       "  <thead>\n",
       "    <tr style=\"text-align: right;\">\n",
       "      <th></th>\n",
       "      <th>bread</th>\n",
       "      <th>cheese</th>\n",
       "      <th>mass</th>\n",
       "      <th>meat</th>\n",
       "      <th>mustard?</th>\n",
       "      <th>price</th>\n",
       "    </tr>\n",
       "  </thead>\n",
       "  <tbody>\n",
       "    <tr>\n",
       "      <th>0</th>\n",
       "      <td>wheat</td>\n",
       "      <td>Cheddar</td>\n",
       "      <td>0.41</td>\n",
       "      <td>ham</td>\n",
       "      <td>True</td>\n",
       "      <td>8</td>\n",
       "    </tr>\n",
       "    <tr>\n",
       "      <th>1</th>\n",
       "      <td>wheat</td>\n",
       "      <td>Cheddar</td>\n",
       "      <td>0.32</td>\n",
       "      <td>turkey</td>\n",
       "      <td>True</td>\n",
       "      <td>8</td>\n",
       "    </tr>\n",
       "    <tr>\n",
       "      <th>4</th>\n",
       "      <td>wheat</td>\n",
       "      <td>Provolone</td>\n",
       "      <td>0.22</td>\n",
       "      <td>roast beef</td>\n",
       "      <td>True</td>\n",
       "      <td>8</td>\n",
       "    </tr>\n",
       "    <tr>\n",
       "      <th>6</th>\n",
       "      <td>wheat</td>\n",
       "      <td>Nope</td>\n",
       "      <td>0.14</td>\n",
       "      <td>ham</td>\n",
       "      <td>True</td>\n",
       "      <td>8</td>\n",
       "    </tr>\n",
       "    <tr>\n",
       "      <th>8</th>\n",
       "      <td>wheat</td>\n",
       "      <td>Cheddar</td>\n",
       "      <td>0.74</td>\n",
       "      <td>roast beef</td>\n",
       "      <td>True</td>\n",
       "      <td>10</td>\n",
       "    </tr>\n",
       "    <tr>\n",
       "      <th>11</th>\n",
       "      <td>wheat</td>\n",
       "      <td>Cheddar</td>\n",
       "      <td>0.74</td>\n",
       "      <td>turkey</td>\n",
       "      <td>False</td>\n",
       "      <td>5</td>\n",
       "    </tr>\n",
       "  </tbody>\n",
       "</table>\n",
       "</div>"
      ],
      "text/plain": [
       "    bread     cheese  mass        meat  mustard?  price\n",
       "0   wheat    Cheddar  0.41         ham      True      8\n",
       "1   wheat    Cheddar  0.32      turkey      True      8\n",
       "4   wheat  Provolone  0.22  roast beef      True      8\n",
       "6   wheat       Nope  0.14         ham      True      8\n",
       "8   wheat    Cheddar  0.74  roast beef      True     10\n",
       "11  wheat    Cheddar  0.74      turkey     False      5"
      ]
     },
     "execution_count": 10,
     "metadata": {},
     "output_type": "execute_result"
    }
   ],
   "source": [
    "sandwiches[sandwiches['bread']=='wheat']"
   ]
  },
  {
   "cell_type": "markdown",
   "metadata": {},
   "source": [
    "#### Sandwich exercises:\n",
    "\n",
    "Let's say that I get to the deli right as it is closing, and those 12 sandwiches are the only ones remaining, pre-made, in the fridge.\n",
    "\n",
    "Then I eat all 12 sandwiches and rank them based on how much I enjoyed them. My top three get, in order, my personal sandwich gold, silver, and bronze medals.\n",
    "\n",
    "How many possible ways are there for me to award gold, silver, and bronze?\n",
    "\n",
    "\n",
    "What if, instead of eating all 12 sandwiches, I just get 3 sandwiches at random. How many combinations of 3 sandwiches are there?"
   ]
  },
  {
   "cell_type": "markdown",
   "metadata": {},
   "source": [
    "## Random Variables"
   ]
  },
  {
   "cell_type": "code",
   "execution_count": 11,
   "metadata": {},
   "outputs": [],
   "source": [
    "import matplotlib.pyplot as plt\n",
    "%matplotlib inline\n",
    "plt.style.use('ggplot')"
   ]
  },
  {
   "cell_type": "markdown",
   "metadata": {},
   "source": [
    "Our sandwiches have two numerical properties: price and mass. What kind of probabilistic questions can we ask about these properties?"
   ]
  },
  {
   "cell_type": "code",
   "execution_count": 12,
   "metadata": {},
   "outputs": [
    {
     "data": {
      "text/html": [
       "<div>\n",
       "<style>\n",
       "    .dataframe thead tr:only-child th {\n",
       "        text-align: right;\n",
       "    }\n",
       "\n",
       "    .dataframe thead th {\n",
       "        text-align: left;\n",
       "    }\n",
       "\n",
       "    .dataframe tbody tr th {\n",
       "        vertical-align: top;\n",
       "    }\n",
       "</style>\n",
       "<table border=\"1\" class=\"dataframe\">\n",
       "  <thead>\n",
       "    <tr style=\"text-align: right;\">\n",
       "      <th></th>\n",
       "      <th>bread</th>\n",
       "      <th>cheese</th>\n",
       "      <th>mass</th>\n",
       "      <th>meat</th>\n",
       "      <th>mustard?</th>\n",
       "      <th>price</th>\n",
       "    </tr>\n",
       "  </thead>\n",
       "  <tbody>\n",
       "    <tr>\n",
       "      <th>0</th>\n",
       "      <td>wheat</td>\n",
       "      <td>Cheddar</td>\n",
       "      <td>0.41</td>\n",
       "      <td>ham</td>\n",
       "      <td>True</td>\n",
       "      <td>8</td>\n",
       "    </tr>\n",
       "    <tr>\n",
       "      <th>1</th>\n",
       "      <td>wheat</td>\n",
       "      <td>Cheddar</td>\n",
       "      <td>0.32</td>\n",
       "      <td>turkey</td>\n",
       "      <td>True</td>\n",
       "      <td>8</td>\n",
       "    </tr>\n",
       "    <tr>\n",
       "      <th>2</th>\n",
       "      <td>white</td>\n",
       "      <td>Cheddar</td>\n",
       "      <td>0.61</td>\n",
       "      <td>roast beef</td>\n",
       "      <td>True</td>\n",
       "      <td>9</td>\n",
       "    </tr>\n",
       "    <tr>\n",
       "      <th>3</th>\n",
       "      <td>white</td>\n",
       "      <td>Provolone</td>\n",
       "      <td>0.32</td>\n",
       "      <td>roast beef</td>\n",
       "      <td>False</td>\n",
       "      <td>6</td>\n",
       "    </tr>\n",
       "    <tr>\n",
       "      <th>4</th>\n",
       "      <td>wheat</td>\n",
       "      <td>Provolone</td>\n",
       "      <td>0.22</td>\n",
       "      <td>roast beef</td>\n",
       "      <td>True</td>\n",
       "      <td>8</td>\n",
       "    </tr>\n",
       "    <tr>\n",
       "      <th>5</th>\n",
       "      <td>white</td>\n",
       "      <td>Cheddar</td>\n",
       "      <td>0.60</td>\n",
       "      <td>roast beef</td>\n",
       "      <td>False</td>\n",
       "      <td>10</td>\n",
       "    </tr>\n",
       "    <tr>\n",
       "      <th>6</th>\n",
       "      <td>wheat</td>\n",
       "      <td>Nope</td>\n",
       "      <td>0.14</td>\n",
       "      <td>ham</td>\n",
       "      <td>True</td>\n",
       "      <td>8</td>\n",
       "    </tr>\n",
       "    <tr>\n",
       "      <th>7</th>\n",
       "      <td>white</td>\n",
       "      <td>Cheddar</td>\n",
       "      <td>0.26</td>\n",
       "      <td>turkey</td>\n",
       "      <td>True</td>\n",
       "      <td>5</td>\n",
       "    </tr>\n",
       "    <tr>\n",
       "      <th>8</th>\n",
       "      <td>wheat</td>\n",
       "      <td>Cheddar</td>\n",
       "      <td>0.74</td>\n",
       "      <td>roast beef</td>\n",
       "      <td>True</td>\n",
       "      <td>10</td>\n",
       "    </tr>\n",
       "    <tr>\n",
       "      <th>9</th>\n",
       "      <td>dutch crunch</td>\n",
       "      <td>Cheddar</td>\n",
       "      <td>0.75</td>\n",
       "      <td>roast beef</td>\n",
       "      <td>False</td>\n",
       "      <td>7</td>\n",
       "    </tr>\n",
       "    <tr>\n",
       "      <th>10</th>\n",
       "      <td>white</td>\n",
       "      <td>Cheddar</td>\n",
       "      <td>0.93</td>\n",
       "      <td>ham</td>\n",
       "      <td>True</td>\n",
       "      <td>5</td>\n",
       "    </tr>\n",
       "    <tr>\n",
       "      <th>11</th>\n",
       "      <td>wheat</td>\n",
       "      <td>Cheddar</td>\n",
       "      <td>0.74</td>\n",
       "      <td>turkey</td>\n",
       "      <td>False</td>\n",
       "      <td>5</td>\n",
       "    </tr>\n",
       "  </tbody>\n",
       "</table>\n",
       "</div>"
      ],
      "text/plain": [
       "           bread     cheese  mass        meat  mustard?  price\n",
       "0          wheat    Cheddar  0.41         ham      True      8\n",
       "1          wheat    Cheddar  0.32      turkey      True      8\n",
       "2          white    Cheddar  0.61  roast beef      True      9\n",
       "3          white  Provolone  0.32  roast beef     False      6\n",
       "4          wheat  Provolone  0.22  roast beef      True      8\n",
       "5          white    Cheddar  0.60  roast beef     False     10\n",
       "6          wheat       Nope  0.14         ham      True      8\n",
       "7          white    Cheddar  0.26      turkey      True      5\n",
       "8          wheat    Cheddar  0.74  roast beef      True     10\n",
       "9   dutch crunch    Cheddar  0.75  roast beef     False      7\n",
       "10         white    Cheddar  0.93         ham      True      5\n",
       "11         wheat    Cheddar  0.74      turkey     False      5"
      ]
     },
     "execution_count": 12,
     "metadata": {},
     "output_type": "execute_result"
    }
   ],
   "source": [
    "sandwiches"
   ]
  },
  {
   "cell_type": "code",
   "execution_count": 13,
   "metadata": {},
   "outputs": [],
   "source": [
    "price_counts = sandwiches['price'].value_counts().sort_index()"
   ]
  },
  {
   "cell_type": "code",
   "execution_count": 14,
   "metadata": {},
   "outputs": [
    {
     "data": {
      "text/plain": [
       "5     3\n",
       "6     1\n",
       "7     1\n",
       "8     4\n",
       "9     1\n",
       "10    2\n",
       "Name: price, dtype: int64"
      ]
     },
     "execution_count": 14,
     "metadata": {},
     "output_type": "execute_result"
    }
   ],
   "source": [
    "price_counts"
   ]
  },
  {
   "cell_type": "code",
   "execution_count": 15,
   "metadata": {},
   "outputs": [
    {
     "data": {
      "image/png": "[encoded data removed]",
      "text/plain": [
       "<matplotlib.figure.Figure at 0x7fd9faf9ca90>"
      ]
     },
     "metadata": {},
     "output_type": "display_data"
    }
   ],
   "source": [
    "sandwiches['price'].hist(bins=6);"
   ]
  },
  {
   "cell_type": "code",
   "execution_count": 16,
   "metadata": {},
   "outputs": [
    {
     "data": {
      "image/png": "[encoded data removed]",
      "text/plain": [
       "<matplotlib.figure.Figure at 0x7fd9faf9cf28>"
      ]
     },
     "metadata": {},
     "output_type": "display_data"
    }
   ],
   "source": [
    "sandwiches['price'].hist(bins=6, normed=True);"
   ]
  },
  {
   "cell_type": "code",
   "execution_count": 17,
   "metadata": {},
   "outputs": [],
   "source": [
    "prices = price_counts.index.values\n",
    "counts = price_counts.values"
   ]
  },
  {
   "cell_type": "code",
   "execution_count": 18,
   "metadata": {},
   "outputs": [
    {
     "data": {
      "text/plain": [
       "array([ 5,  6,  7,  8,  9, 10])"
      ]
     },
     "execution_count": 18,
     "metadata": {},
     "output_type": "execute_result"
    }
   ],
   "source": [
    "prices"
   ]
  },
  {
   "cell_type": "code",
   "execution_count": 19,
   "metadata": {},
   "outputs": [
    {
     "data": {
      "text/plain": [
       "array([3, 1, 1, 4, 1, 2])"
      ]
     },
     "execution_count": 19,
     "metadata": {},
     "output_type": "execute_result"
    }
   ],
   "source": [
    "counts"
   ]
  },
  {
   "cell_type": "code",
   "execution_count": 20,
   "metadata": {},
   "outputs": [],
   "source": [
    "probs = counts / counts.sum()"
   ]
  },
  {
   "cell_type": "code",
   "execution_count": 21,
   "metadata": {},
   "outputs": [
    {
     "data": {
      "text/plain": [
       "array([ 0.25      ,  0.08333333,  0.08333333,  0.33333333,  0.08333333,\n",
       "        0.16666667])"
      ]
     },
     "execution_count": 21,
     "metadata": {},
     "output_type": "execute_result"
    }
   ],
   "source": [
    "probs"
   ]
  },
  {
   "cell_type": "code",
   "execution_count": 22,
   "metadata": {},
   "outputs": [
    {
     "data": {
      "image/png": "[encoded data removed]",
      "text/plain": [
       "<matplotlib.figure.Figure at 0x7fd9f2e1ecf8>"
      ]
     },
     "metadata": {},
     "output_type": "display_data"
    }
   ],
   "source": [
    "plt.scatter(prices, \n",
    "            probs,\n",
    "            edgecolors='k')\n",
    "plt.xlabel('price $x$')\n",
    "plt.ylabel('probability $P(X=x)$')\n",
    "plt.vlines(prices, \n",
    "           ymin=0, \n",
    "           ymax=probs,\n",
    "           linestyle=':')\n",
    "plt.title('PMF for sandwich prices');"
   ]
  },
  {
   "cell_type": "code",
   "execution_count": 23,
   "metadata": {},
   "outputs": [
    {
     "data": {
      "image/png": "[encoded data removed]",
      "text/plain": [
       "<matplotlib.figure.Figure at 0x7fd9f2e10128>"
      ]
     },
     "metadata": {},
     "output_type": "display_data"
    }
   ],
   "source": [
    "plt.plot(prices, \n",
    "         probs.cumsum(),\n",
    "         'k:o',\n",
    "         markerfacecolor='r')\n",
    "plt.ylim([-0.05,1.05])\n",
    "plt.xlabel('price $x$')\n",
    "plt.ylabel(r'probability $P(X \\leq x)$')\n",
    "plt.title('CDF for sandwich prices');"
   ]
  },
  {
   "cell_type": "markdown",
   "metadata": {},
   "source": [
    "### expectation value $E[X]$"
   ]
  },
  {
   "cell_type": "code",
   "execution_count": 24,
   "metadata": {
    "scrolled": true
   },
   "outputs": [
    {
     "data": {
      "text/plain": [
       "array([ 5,  6,  7,  8,  9, 10])"
      ]
     },
     "execution_count": 24,
     "metadata": {},
     "output_type": "execute_result"
    }
   ],
   "source": [
    "prices"
   ]
  },
  {
   "cell_type": "code",
   "execution_count": 25,
   "metadata": {},
   "outputs": [
    {
     "data": {
      "text/plain": [
       "array([ 0.25      ,  0.08333333,  0.08333333,  0.33333333,  0.08333333,\n",
       "        0.16666667])"
      ]
     },
     "execution_count": 25,
     "metadata": {},
     "output_type": "execute_result"
    }
   ],
   "source": [
    "probs"
   ]
  },
  {
   "cell_type": "code",
   "execution_count": 26,
   "metadata": {
    "scrolled": true
   },
   "outputs": [
    {
     "data": {
      "text/plain": [
       "7.4166666666666661"
      ]
     },
     "execution_count": 26,
     "metadata": {},
     "output_type": "execute_result"
    }
   ],
   "source": [
    "sum(x*px for x,px in zip(prices, probs))"
   ]
  },
  {
   "cell_type": "code",
   "execution_count": 27,
   "metadata": {},
   "outputs": [
    {
     "data": {
      "text/plain": [
       "0      8\n",
       "1      8\n",
       "2      9\n",
       "3      6\n",
       "4      8\n",
       "5     10\n",
       "6      8\n",
       "7      5\n",
       "8     10\n",
       "9      7\n",
       "10     5\n",
       "11     5\n",
       "Name: price, dtype: int64"
      ]
     },
     "execution_count": 27,
     "metadata": {},
     "output_type": "execute_result"
    }
   ],
   "source": [
    "sandwiches['price']"
   ]
  },
  {
   "cell_type": "markdown",
   "metadata": {},
   "source": [
    "### Law of large numbers\n",
    "\n",
    "Let $X$ be a random variable that can take on the values $\\{s_i\\}$ with probabilities $P(X=s_i)$\n",
    "\n",
    "$$E[X] = \\sum_{i} s_i * P(X=s_i)$$\n",
    "\n",
    "Say we have $N$ draws of this random variable $[X_1, X_2, X_3, \\ldots, X_N]$\n",
    "$$ \\lim_{N\\to\\infty}\\frac{1}{N}\\sum_k X_k = E[X]$$"
   ]
  },
  {
   "cell_type": "code",
   "execution_count": 28,
   "metadata": {},
   "outputs": [],
   "source": [
    "sample_sizes = np.logspace(0, 5, 50)\n",
    "sample_means = [np.random.choice(sandwiches['price'], \n",
    "                                 size=int(i)).mean() \n",
    "                for i in sample_sizes]"
   ]
  },
  {
   "cell_type": "code",
   "execution_count": 29,
   "metadata": {},
   "outputs": [
    {
     "data": {
      "image/png": "[encoded data removed]",
      "text/plain": [
       "<matplotlib.figure.Figure at 0x7fd9f2cbe208>"
      ]
     },
     "metadata": {},
     "output_type": "display_data"
    }
   ],
   "source": [
    "plt.scatter(sample_sizes, sample_means)\n",
    "plt.xscale('log')\n",
    "plt.axhline(sandwiches['price'].mean(), linestyle='--', color='k')\n",
    "plt.xlabel('number of samples')\n",
    "plt.ylabel('mean price of samples');"
   ]
  },
  {
   "cell_type": "markdown",
   "metadata": {},
   "source": [
    "### a new random variable as a function of an old one: $Y \\sim X^2$"
   ]
  },
  {
   "cell_type": "code",
   "execution_count": 30,
   "metadata": {},
   "outputs": [],
   "source": [
    "prices_2 = prices**2"
   ]
  },
  {
   "cell_type": "code",
   "execution_count": 31,
   "metadata": {},
   "outputs": [
    {
     "data": {
      "text/plain": [
       "array([ 25,  36,  49,  64,  81, 100])"
      ]
     },
     "execution_count": 31,
     "metadata": {},
     "output_type": "execute_result"
    }
   ],
   "source": [
    "prices_2"
   ]
  },
  {
   "cell_type": "code",
   "execution_count": 32,
   "metadata": {},
   "outputs": [
    {
     "data": {
      "text/plain": [
       "array([ 0.25      ,  0.08333333,  0.08333333,  0.33333333,  0.08333333,\n",
       "        0.16666667])"
      ]
     },
     "execution_count": 32,
     "metadata": {},
     "output_type": "execute_result"
    }
   ],
   "source": [
    "probs"
   ]
  },
  {
   "cell_type": "code",
   "execution_count": 33,
   "metadata": {},
   "outputs": [
    {
     "data": {
      "text/plain": [
       "58.083333333333329"
      ]
     },
     "execution_count": 33,
     "metadata": {},
     "output_type": "execute_result"
    }
   ],
   "source": [
    "sum(x*px for x,px in zip(prices_2, probs))"
   ]
  },
  {
   "cell_type": "code",
   "execution_count": null,
   "metadata": {},
   "outputs": [],
   "source": []
  },
  {
   "cell_type": "markdown",
   "metadata": {},
   "source": [
    "### variance of price: $Var(X) = E[(X - E[X])^2]$"
   ]
  },
  {
   "cell_type": "code",
   "execution_count": 34,
   "metadata": {},
   "outputs": [
    {
     "data": {
      "text/plain": [
       "array([ 5,  6,  7,  8,  9, 10])"
      ]
     },
     "execution_count": 34,
     "metadata": {},
     "output_type": "execute_result"
    }
   ],
   "source": [
    "prices"
   ]
  },
  {
   "cell_type": "code",
   "execution_count": 35,
   "metadata": {},
   "outputs": [
    {
     "data": {
      "text/plain": [
       "array([ 0.25      ,  0.08333333,  0.08333333,  0.33333333,  0.08333333,\n",
       "        0.16666667])"
      ]
     },
     "execution_count": 35,
     "metadata": {},
     "output_type": "execute_result"
    }
   ],
   "source": [
    "probs"
   ]
  },
  {
   "cell_type": "code",
   "execution_count": 36,
   "metadata": {},
   "outputs": [],
   "source": [
    "e_x = sum(x*px for x,px in zip(prices, probs))"
   ]
  },
  {
   "cell_type": "code",
   "execution_count": 37,
   "metadata": {},
   "outputs": [
    {
     "data": {
      "text/plain": [
       "7.4166666666666661"
      ]
     },
     "execution_count": 37,
     "metadata": {},
     "output_type": "execute_result"
    }
   ],
   "source": [
    "e_x"
   ]
  },
  {
   "cell_type": "code",
   "execution_count": 38,
   "metadata": {},
   "outputs": [],
   "source": [
    "X_centered = prices - e_x"
   ]
  },
  {
   "cell_type": "code",
   "execution_count": 39,
   "metadata": {},
   "outputs": [
    {
     "data": {
      "text/plain": [
       "array([-2.41666667, -1.41666667, -0.41666667,  0.58333333,  1.58333333,\n",
       "        2.58333333])"
      ]
     },
     "execution_count": 39,
     "metadata": {},
     "output_type": "execute_result"
    }
   ],
   "source": [
    "X_centered"
   ]
  },
  {
   "cell_type": "code",
   "execution_count": 40,
   "metadata": {},
   "outputs": [],
   "source": [
    "Z = X_centered**2"
   ]
  },
  {
   "cell_type": "code",
   "execution_count": 41,
   "metadata": {},
   "outputs": [
    {
     "data": {
      "text/plain": [
       "array([ 5.84027778,  2.00694444,  0.17361111,  0.34027778,  2.50694444,\n",
       "        6.67361111])"
      ]
     },
     "execution_count": 41,
     "metadata": {},
     "output_type": "execute_result"
    }
   ],
   "source": [
    "Z"
   ]
  },
  {
   "cell_type": "code",
   "execution_count": 42,
   "metadata": {},
   "outputs": [
    {
     "data": {
      "text/plain": [
       "array([ 0.25      ,  0.08333333,  0.08333333,  0.33333333,  0.08333333,\n",
       "        0.16666667])"
      ]
     },
     "execution_count": 42,
     "metadata": {},
     "output_type": "execute_result"
    }
   ],
   "source": [
    "probs"
   ]
  },
  {
   "cell_type": "code",
   "execution_count": 43,
   "metadata": {},
   "outputs": [],
   "source": [
    "e_Z = sum(z*pz for z,pz in zip(Z, probs))"
   ]
  },
  {
   "cell_type": "code",
   "execution_count": 44,
   "metadata": {},
   "outputs": [
    {
     "data": {
      "text/plain": [
       "3.0763888888888888"
      ]
     },
     "execution_count": 44,
     "metadata": {},
     "output_type": "execute_result"
    }
   ],
   "source": [
    "e_Z"
   ]
  },
  {
   "cell_type": "code",
   "execution_count": 45,
   "metadata": {},
   "outputs": [
    {
     "data": {
      "text/plain": [
       "3.0763888888888888"
      ]
     },
     "execution_count": 45,
     "metadata": {},
     "output_type": "execute_result"
    }
   ],
   "source": [
    "# Variance\n",
    "variance = sum(((x - e_x)**2)*px for x,px in zip(prices, probs))\n",
    "variance"
   ]
  },
  {
   "cell_type": "code",
   "execution_count": 46,
   "metadata": {},
   "outputs": [
    {
     "data": {
      "text/plain": [
       "1.7539637649874324"
      ]
     },
     "execution_count": 46,
     "metadata": {},
     "output_type": "execute_result"
    }
   ],
   "source": [
    "# standard deviation\n",
    "np.sqrt(variance)"
   ]
  },
  {
   "cell_type": "code",
   "execution_count": null,
   "metadata": {},
   "outputs": [],
   "source": []
  },
  {
   "cell_type": "code",
   "execution_count": null,
   "metadata": {},
   "outputs": [],
   "source": []
  },
  {
   "cell_type": "code",
   "execution_count": null,
   "metadata": {},
   "outputs": [],
   "source": []
  },
  {
   "cell_type": "code",
   "execution_count": null,
   "metadata": {},
   "outputs": [],
   "source": []
  },
  {
   "cell_type": "code",
   "execution_count": null,
   "metadata": {},
   "outputs": [],
   "source": []
  },
  {
   "cell_type": "markdown",
   "metadata": {},
   "source": [
    "# Horses & Dogs"
   ]
  },
  {
   "cell_type": "code",
   "execution_count": 47,
   "metadata": {},
   "outputs": [],
   "source": [
    "import matplotlib.pyplot as plt\n",
    "%matplotlib inline\n",
    "plt.style.use('ggplot')"
   ]
  },
  {
   "cell_type": "code",
   "execution_count": 48,
   "metadata": {},
   "outputs": [],
   "source": [
    "np.random.seed(216)\n",
    "\n",
    "horse_wt = scs.distributions.norm(100,25).rvs(size=12)\n",
    "dog_wt = scs.distributions.norm(60,10).rvs(size=12)\n",
    "horse_color = np.random.choice(['white', 'black', 'brown'], p=[0.1, 0.3, 0.6], size=12)\n",
    "dog_color = np.random.choice(['white', 'black', 'brown'], p=[0.4, 0.3, 0.3], size=12)\n",
    "horse_ht = 0.05*horse_wt + scs.distributions.norm(0,1).rvs(size=12)\n",
    "dog_ht = 0.02*dog_wt + scs.distributions.norm(0,1).rvs(size=12)"
   ]
  },
  {
   "cell_type": "code",
   "execution_count": 49,
   "metadata": {},
   "outputs": [],
   "source": [
    "df_horse = pd.DataFrame(data={'weight':horse_wt, 'color':horse_color, 'height':horse_ht})\n",
    "df_dog = pd.DataFrame(data={'weight':dog_wt, 'color':dog_color, 'height':dog_ht})\n",
    "\n",
    "df_horse['animal'] = 'horse'\n",
    "df_dog['animal'] = 'dog'\n",
    "\n",
    "df = pd.concat([df_horse, df_dog]).sample(frac=1).reset_index(drop=True)"
   ]
  },
  {
   "cell_type": "code",
   "execution_count": 50,
   "metadata": {},
   "outputs": [
    {
     "data": {
      "text/html": [
       "<div>\n",
       "<style>\n",
       "    .dataframe thead tr:only-child th {\n",
       "        text-align: right;\n",
       "    }\n",
       "\n",
       "    .dataframe thead th {\n",
       "        text-align: left;\n",
       "    }\n",
       "\n",
       "    .dataframe tbody tr th {\n",
       "        vertical-align: top;\n",
       "    }\n",
       "</style>\n",
       "<table border=\"1\" class=\"dataframe\">\n",
       "  <thead>\n",
       "    <tr style=\"text-align: right;\">\n",
       "      <th></th>\n",
       "      <th>color</th>\n",
       "      <th>height</th>\n",
       "      <th>weight</th>\n",
       "      <th>animal</th>\n",
       "    </tr>\n",
       "  </thead>\n",
       "  <tbody>\n",
       "    <tr>\n",
       "      <th>0</th>\n",
       "      <td>black</td>\n",
       "      <td>1.975001</td>\n",
       "      <td>65.428189</td>\n",
       "      <td>dog</td>\n",
       "    </tr>\n",
       "    <tr>\n",
       "      <th>1</th>\n",
       "      <td>brown</td>\n",
       "      <td>2.234386</td>\n",
       "      <td>46.541458</td>\n",
       "      <td>horse</td>\n",
       "    </tr>\n",
       "    <tr>\n",
       "      <th>2</th>\n",
       "      <td>brown</td>\n",
       "      <td>2.480195</td>\n",
       "      <td>65.980122</td>\n",
       "      <td>dog</td>\n",
       "    </tr>\n",
       "    <tr>\n",
       "      <th>3</th>\n",
       "      <td>white</td>\n",
       "      <td>5.621873</td>\n",
       "      <td>84.139520</td>\n",
       "      <td>horse</td>\n",
       "    </tr>\n",
       "    <tr>\n",
       "      <th>4</th>\n",
       "      <td>black</td>\n",
       "      <td>2.043669</td>\n",
       "      <td>58.688497</td>\n",
       "      <td>dog</td>\n",
       "    </tr>\n",
       "    <tr>\n",
       "      <th>5</th>\n",
       "      <td>black</td>\n",
       "      <td>4.618539</td>\n",
       "      <td>86.726109</td>\n",
       "      <td>horse</td>\n",
       "    </tr>\n",
       "    <tr>\n",
       "      <th>6</th>\n",
       "      <td>white</td>\n",
       "      <td>-0.537184</td>\n",
       "      <td>65.110658</td>\n",
       "      <td>dog</td>\n",
       "    </tr>\n",
       "    <tr>\n",
       "      <th>7</th>\n",
       "      <td>brown</td>\n",
       "      <td>1.412375</td>\n",
       "      <td>46.620397</td>\n",
       "      <td>dog</td>\n",
       "    </tr>\n",
       "    <tr>\n",
       "      <th>8</th>\n",
       "      <td>white</td>\n",
       "      <td>0.726663</td>\n",
       "      <td>52.927190</td>\n",
       "      <td>dog</td>\n",
       "    </tr>\n",
       "    <tr>\n",
       "      <th>9</th>\n",
       "      <td>black</td>\n",
       "      <td>6.971577</td>\n",
       "      <td>116.575449</td>\n",
       "      <td>horse</td>\n",
       "    </tr>\n",
       "  </tbody>\n",
       "</table>\n",
       "</div>"
      ],
      "text/plain": [
       "   color    height      weight animal\n",
       "0  black  1.975001   65.428189    dog\n",
       "1  brown  2.234386   46.541458  horse\n",
       "2  brown  2.480195   65.980122    dog\n",
       "3  white  5.621873   84.139520  horse\n",
       "4  black  2.043669   58.688497    dog\n",
       "5  black  4.618539   86.726109  horse\n",
       "6  white -0.537184   65.110658    dog\n",
       "7  brown  1.412375   46.620397    dog\n",
       "8  white  0.726663   52.927190    dog\n",
       "9  black  6.971577  116.575449  horse"
      ]
     },
     "execution_count": 50,
     "metadata": {},
     "output_type": "execute_result"
    }
   ],
   "source": [
    "df.head(10)"
   ]
  },
  {
   "cell_type": "code",
   "execution_count": 51,
   "metadata": {},
   "outputs": [
    {
     "data": {
      "image/png": "[encoded data removed]",
      "text/plain": [
       "<matplotlib.figure.Figure at 0x7fd9f2dd2668>"
      ]
     },
     "metadata": {},
     "output_type": "display_data"
    }
   ],
   "source": [
    "ax = df[df['animal']=='dog'].plot.scatter('weight','height', color='blue', label='dog')\n",
    "df[df['animal']=='horse'].plot.scatter('weight','height', color='red', label='horse', ax=ax)\n",
    "plt.legend();"
   ]
  },
  {
   "cell_type": "code",
   "execution_count": 52,
   "metadata": {},
   "outputs": [
    {
     "data": {
      "text/html": [
       "<div>\n",
       "<style>\n",
       "    .dataframe thead tr:only-child th {\n",
       "        text-align: right;\n",
       "    }\n",
       "\n",
       "    .dataframe thead th {\n",
       "        text-align: left;\n",
       "    }\n",
       "\n",
       "    .dataframe tbody tr th {\n",
       "        vertical-align: top;\n",
       "    }\n",
       "</style>\n",
       "<table border=\"1\" class=\"dataframe\">\n",
       "  <thead>\n",
       "    <tr style=\"text-align: right;\">\n",
       "      <th></th>\n",
       "      <th>color</th>\n",
       "      <th>height</th>\n",
       "      <th>weight</th>\n",
       "      <th>animal</th>\n",
       "    </tr>\n",
       "  </thead>\n",
       "  <tbody>\n",
       "    <tr>\n",
       "      <th>3</th>\n",
       "      <td>white</td>\n",
       "      <td>5.621873</td>\n",
       "      <td>84.139520</td>\n",
       "      <td>horse</td>\n",
       "    </tr>\n",
       "    <tr>\n",
       "      <th>6</th>\n",
       "      <td>white</td>\n",
       "      <td>-0.537184</td>\n",
       "      <td>65.110658</td>\n",
       "      <td>dog</td>\n",
       "    </tr>\n",
       "    <tr>\n",
       "      <th>8</th>\n",
       "      <td>white</td>\n",
       "      <td>0.726663</td>\n",
       "      <td>52.927190</td>\n",
       "      <td>dog</td>\n",
       "    </tr>\n",
       "    <tr>\n",
       "      <th>11</th>\n",
       "      <td>white</td>\n",
       "      <td>2.288010</td>\n",
       "      <td>75.289859</td>\n",
       "      <td>dog</td>\n",
       "    </tr>\n",
       "    <tr>\n",
       "      <th>20</th>\n",
       "      <td>white</td>\n",
       "      <td>2.215331</td>\n",
       "      <td>68.325454</td>\n",
       "      <td>dog</td>\n",
       "    </tr>\n",
       "    <tr>\n",
       "      <th>23</th>\n",
       "      <td>white</td>\n",
       "      <td>1.683211</td>\n",
       "      <td>76.579886</td>\n",
       "      <td>dog</td>\n",
       "    </tr>\n",
       "  </tbody>\n",
       "</table>\n",
       "</div>"
      ],
      "text/plain": [
       "    color    height     weight animal\n",
       "3   white  5.621873  84.139520  horse\n",
       "6   white -0.537184  65.110658    dog\n",
       "8   white  0.726663  52.927190    dog\n",
       "11  white  2.288010  75.289859    dog\n",
       "20  white  2.215331  68.325454    dog\n",
       "23  white  1.683211  76.579886    dog"
      ]
     },
     "execution_count": 52,
     "metadata": {},
     "output_type": "execute_result"
    }
   ],
   "source": [
    "df[(df['color']=='white')]"
   ]
  },
  {
   "cell_type": "code",
   "execution_count": 53,
   "metadata": {},
   "outputs": [
    {
     "data": {
      "text/html": [
       "<div>\n",
       "<style>\n",
       "    .dataframe thead tr:only-child th {\n",
       "        text-align: right;\n",
       "    }\n",
       "\n",
       "    .dataframe thead th {\n",
       "        text-align: left;\n",
       "    }\n",
       "\n",
       "    .dataframe tbody tr th {\n",
       "        vertical-align: top;\n",
       "    }\n",
       "</style>\n",
       "<table border=\"1\" class=\"dataframe\">\n",
       "  <thead>\n",
       "    <tr style=\"text-align: right;\">\n",
       "      <th></th>\n",
       "      <th>color</th>\n",
       "      <th>height</th>\n",
       "      <th>weight</th>\n",
       "      <th>animal</th>\n",
       "    </tr>\n",
       "  </thead>\n",
       "  <tbody>\n",
       "    <tr>\n",
       "      <th>1</th>\n",
       "      <td>brown</td>\n",
       "      <td>2.234386</td>\n",
       "      <td>46.541458</td>\n",
       "      <td>horse</td>\n",
       "    </tr>\n",
       "    <tr>\n",
       "      <th>3</th>\n",
       "      <td>white</td>\n",
       "      <td>5.621873</td>\n",
       "      <td>84.139520</td>\n",
       "      <td>horse</td>\n",
       "    </tr>\n",
       "    <tr>\n",
       "      <th>5</th>\n",
       "      <td>black</td>\n",
       "      <td>4.618539</td>\n",
       "      <td>86.726109</td>\n",
       "      <td>horse</td>\n",
       "    </tr>\n",
       "    <tr>\n",
       "      <th>9</th>\n",
       "      <td>black</td>\n",
       "      <td>6.971577</td>\n",
       "      <td>116.575449</td>\n",
       "      <td>horse</td>\n",
       "    </tr>\n",
       "    <tr>\n",
       "      <th>10</th>\n",
       "      <td>brown</td>\n",
       "      <td>4.316814</td>\n",
       "      <td>103.697708</td>\n",
       "      <td>horse</td>\n",
       "    </tr>\n",
       "    <tr>\n",
       "      <th>12</th>\n",
       "      <td>black</td>\n",
       "      <td>4.915971</td>\n",
       "      <td>123.434038</td>\n",
       "      <td>horse</td>\n",
       "    </tr>\n",
       "    <tr>\n",
       "      <th>13</th>\n",
       "      <td>brown</td>\n",
       "      <td>3.890863</td>\n",
       "      <td>73.587133</td>\n",
       "      <td>horse</td>\n",
       "    </tr>\n",
       "    <tr>\n",
       "      <th>14</th>\n",
       "      <td>brown</td>\n",
       "      <td>7.333062</td>\n",
       "      <td>138.228909</td>\n",
       "      <td>horse</td>\n",
       "    </tr>\n",
       "    <tr>\n",
       "      <th>15</th>\n",
       "      <td>black</td>\n",
       "      <td>4.030712</td>\n",
       "      <td>94.478316</td>\n",
       "      <td>horse</td>\n",
       "    </tr>\n",
       "    <tr>\n",
       "      <th>17</th>\n",
       "      <td>brown</td>\n",
       "      <td>3.697125</td>\n",
       "      <td>74.212135</td>\n",
       "      <td>horse</td>\n",
       "    </tr>\n",
       "    <tr>\n",
       "      <th>18</th>\n",
       "      <td>black</td>\n",
       "      <td>6.677129</td>\n",
       "      <td>96.191062</td>\n",
       "      <td>horse</td>\n",
       "    </tr>\n",
       "    <tr>\n",
       "      <th>21</th>\n",
       "      <td>black</td>\n",
       "      <td>6.497529</td>\n",
       "      <td>126.599518</td>\n",
       "      <td>horse</td>\n",
       "    </tr>\n",
       "  </tbody>\n",
       "</table>\n",
       "</div>"
      ],
      "text/plain": [
       "    color    height      weight animal\n",
       "1   brown  2.234386   46.541458  horse\n",
       "3   white  5.621873   84.139520  horse\n",
       "5   black  4.618539   86.726109  horse\n",
       "9   black  6.971577  116.575449  horse\n",
       "10  brown  4.316814  103.697708  horse\n",
       "12  black  4.915971  123.434038  horse\n",
       "13  brown  3.890863   73.587133  horse\n",
       "14  brown  7.333062  138.228909  horse\n",
       "15  black  4.030712   94.478316  horse\n",
       "17  brown  3.697125   74.212135  horse\n",
       "18  black  6.677129   96.191062  horse\n",
       "21  black  6.497529  126.599518  horse"
      ]
     },
     "execution_count": 53,
     "metadata": {},
     "output_type": "execute_result"
    }
   ],
   "source": [
    "df[(df['animal']=='horse')]"
   ]
  },
  {
   "cell_type": "code",
   "execution_count": 54,
   "metadata": {},
   "outputs": [],
   "source": [
    "horses = df[df['animal']=='horse']"
   ]
  },
  {
   "cell_type": "code",
   "execution_count": 55,
   "metadata": {},
   "outputs": [
    {
     "data": {
      "image/png": "[encoded data removed]",
      "text/plain": [
       "<matplotlib.figure.Figure at 0x7fd9f2ad9eb8>"
      ]
     },
     "metadata": {},
     "output_type": "display_data"
    }
   ],
   "source": [
    "horses.plot.scatter('weight', 'height');"
   ]
  },
  {
   "cell_type": "code",
   "execution_count": 56,
   "metadata": {},
   "outputs": [
    {
     "data": {
      "image/png": "[encoded data removed]",
      "text/plain": [
       "<matplotlib.figure.Figure at 0x7fd9f2a70358>"
      ]
     },
     "metadata": {},
     "output_type": "display_data"
    }
   ],
   "source": [
    "horses['weight'].hist();"
   ]
  },
  {
   "cell_type": "code",
   "execution_count": 57,
   "metadata": {},
   "outputs": [
    {
     "data": {
      "image/png": "[encoded data removed]",
      "text/plain": [
       "<matplotlib.figure.Figure at 0x7fd9f2a84ac8>"
      ]
     },
     "metadata": {},
     "output_type": "display_data"
    }
   ],
   "source": [
    "horses['height'].hist();"
   ]
  },
  {
   "cell_type": "code",
   "execution_count": 58,
   "metadata": {},
   "outputs": [
    {
     "data": {
      "text/html": [
       "<div>\n",
       "<style>\n",
       "    .dataframe thead tr:only-child th {\n",
       "        text-align: right;\n",
       "    }\n",
       "\n",
       "    .dataframe thead th {\n",
       "        text-align: left;\n",
       "    }\n",
       "\n",
       "    .dataframe tbody tr th {\n",
       "        vertical-align: top;\n",
       "    }\n",
       "</style>\n",
       "<table border=\"1\" class=\"dataframe\">\n",
       "  <thead>\n",
       "    <tr style=\"text-align: right;\">\n",
       "      <th></th>\n",
       "      <th>color</th>\n",
       "      <th>height</th>\n",
       "      <th>weight</th>\n",
       "      <th>animal</th>\n",
       "    </tr>\n",
       "  </thead>\n",
       "  <tbody>\n",
       "    <tr>\n",
       "      <th>1</th>\n",
       "      <td>brown</td>\n",
       "      <td>2.234386</td>\n",
       "      <td>46.541458</td>\n",
       "      <td>horse</td>\n",
       "    </tr>\n",
       "    <tr>\n",
       "      <th>3</th>\n",
       "      <td>white</td>\n",
       "      <td>5.621873</td>\n",
       "      <td>84.139520</td>\n",
       "      <td>horse</td>\n",
       "    </tr>\n",
       "    <tr>\n",
       "      <th>5</th>\n",
       "      <td>black</td>\n",
       "      <td>4.618539</td>\n",
       "      <td>86.726109</td>\n",
       "      <td>horse</td>\n",
       "    </tr>\n",
       "    <tr>\n",
       "      <th>9</th>\n",
       "      <td>black</td>\n",
       "      <td>6.971577</td>\n",
       "      <td>116.575449</td>\n",
       "      <td>horse</td>\n",
       "    </tr>\n",
       "    <tr>\n",
       "      <th>10</th>\n",
       "      <td>brown</td>\n",
       "      <td>4.316814</td>\n",
       "      <td>103.697708</td>\n",
       "      <td>horse</td>\n",
       "    </tr>\n",
       "    <tr>\n",
       "      <th>12</th>\n",
       "      <td>black</td>\n",
       "      <td>4.915971</td>\n",
       "      <td>123.434038</td>\n",
       "      <td>horse</td>\n",
       "    </tr>\n",
       "    <tr>\n",
       "      <th>13</th>\n",
       "      <td>brown</td>\n",
       "      <td>3.890863</td>\n",
       "      <td>73.587133</td>\n",
       "      <td>horse</td>\n",
       "    </tr>\n",
       "    <tr>\n",
       "      <th>14</th>\n",
       "      <td>brown</td>\n",
       "      <td>7.333062</td>\n",
       "      <td>138.228909</td>\n",
       "      <td>horse</td>\n",
       "    </tr>\n",
       "    <tr>\n",
       "      <th>15</th>\n",
       "      <td>black</td>\n",
       "      <td>4.030712</td>\n",
       "      <td>94.478316</td>\n",
       "      <td>horse</td>\n",
       "    </tr>\n",
       "    <tr>\n",
       "      <th>17</th>\n",
       "      <td>brown</td>\n",
       "      <td>3.697125</td>\n",
       "      <td>74.212135</td>\n",
       "      <td>horse</td>\n",
       "    </tr>\n",
       "  </tbody>\n",
       "</table>\n",
       "</div>"
      ],
      "text/plain": [
       "    color    height      weight animal\n",
       "1   brown  2.234386   46.541458  horse\n",
       "3   white  5.621873   84.139520  horse\n",
       "5   black  4.618539   86.726109  horse\n",
       "9   black  6.971577  116.575449  horse\n",
       "10  brown  4.316814  103.697708  horse\n",
       "12  black  4.915971  123.434038  horse\n",
       "13  brown  3.890863   73.587133  horse\n",
       "14  brown  7.333062  138.228909  horse\n",
       "15  black  4.030712   94.478316  horse\n",
       "17  brown  3.697125   74.212135  horse"
      ]
     },
     "execution_count": 58,
     "metadata": {},
     "output_type": "execute_result"
    }
   ],
   "source": [
    "horses.head(10)"
   ]
  },
  {
   "cell_type": "code",
   "execution_count": 59,
   "metadata": {},
   "outputs": [
    {
     "data": {
      "text/html": [
       "<div>\n",
       "<style>\n",
       "    .dataframe thead tr:only-child th {\n",
       "        text-align: right;\n",
       "    }\n",
       "\n",
       "    .dataframe thead th {\n",
       "        text-align: left;\n",
       "    }\n",
       "\n",
       "    .dataframe tbody tr th {\n",
       "        vertical-align: top;\n",
       "    }\n",
       "</style>\n",
       "<table border=\"1\" class=\"dataframe\">\n",
       "  <thead>\n",
       "    <tr style=\"text-align: right;\">\n",
       "      <th></th>\n",
       "      <th>height</th>\n",
       "      <th>weight</th>\n",
       "    </tr>\n",
       "  </thead>\n",
       "  <tbody>\n",
       "    <tr>\n",
       "      <th>height</th>\n",
       "      <td>1.000000</td>\n",
       "      <td>0.807156</td>\n",
       "    </tr>\n",
       "    <tr>\n",
       "      <th>weight</th>\n",
       "      <td>0.807156</td>\n",
       "      <td>1.000000</td>\n",
       "    </tr>\n",
       "  </tbody>\n",
       "</table>\n",
       "</div>"
      ],
      "text/plain": [
       "          height    weight\n",
       "height  1.000000  0.807156\n",
       "weight  0.807156  1.000000"
      ]
     },
     "execution_count": 59,
     "metadata": {},
     "output_type": "execute_result"
    }
   ],
   "source": [
    "horses.corr()"
   ]
  },
  {
   "cell_type": "code",
   "execution_count": null,
   "metadata": {},
   "outputs": [],
   "source": []
  },
  {
   "cell_type": "code",
   "execution_count": null,
   "metadata": {},
   "outputs": [],
   "source": []
  }
 ],
 "metadata": {
  "kernelspec": {
   "display_name": "Python 3",
   "language": "python",
   "name": "python3"
  },
  "language_info": {
   "codemirror_mode": {
    "name": "ipython",
    "version": 3
   },
   "file_extension": ".py",
   "mimetype": "text/x-python",
   "name": "python",
   "nbconvert_exporter": "python",
   "pygments_lexer": "ipython3",
   "version": "3.6.2"
  }
 },
 "nbformat": 4,
 "nbformat_minor": 2
}
