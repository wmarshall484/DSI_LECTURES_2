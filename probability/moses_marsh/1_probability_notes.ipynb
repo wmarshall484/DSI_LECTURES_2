{
 "cells": [
  {
   "cell_type": "markdown",
   "metadata": {
    "slideshow": {
     "slide_type": "slide"
    }
   },
   "source": [
    "# probability"
   ]
  },
  {
   "cell_type": "markdown",
   "metadata": {
    "slideshow": {
     "slide_type": "slide"
    }
   },
   "source": [
    "## objectives\n",
    "By the end of the morning, you will be able to:\n",
    "* Define probability\n",
    "* Count\n",
    "* Set up & solve a probability problem using:\n",
    " * Law of total probability\n",
    " * Conditional probabilities\n",
    " * Bayes' rule\n",
    "\n",
    "\n",
    "By the end of the afternoon, you will be able to:\n",
    "* Define a random variable\n",
    "* Calculate expected values given a distribution\n",
    "* Define mean, variance, and covariance\n",
    "* Choose probability distributions to model things"
   ]
  },
  {
   "cell_type": "markdown",
   "metadata": {},
   "source": [
    "## Propositional Logic\n",
    "(a.k.a [statement logic](https://en.wikipedia.org/wiki/Propositional_calculus), sentential logic, zeroth-order logic)"
   ]
  },
  {
   "cell_type": "markdown",
   "metadata": {},
   "source": [
    "Let's say I go to the deli and order \"the special\". I don't know what kind of sandwich it is, and it comes to me totally wrapped in paper.\n",
    "\n",
    "Here are some statements I could make about this MYSTERY SANDWICH\n",
    "\n",
    "A = \"it is a turkey sandwich\"\n",
    "\n",
    "B = \"there is mustard on this sandwich\"\n",
    "\n",
    "\n",
    "Let's review some boolean logic operators (T means True and F means False):\n",
    "\n",
    "|A  | B | A OR B | A AND B |A XOR B |\n",
    "|-------|-------|:-------:|:-------:|:-------:|\n",
    "|T|T|T|T|F|\n",
    "|T|F|T|F|T|\n",
    "|F|T|T|F|T|\n",
    "|F|F|F|F|F|\n"
   ]
  },
  {
   "cell_type": "markdown",
   "metadata": {
    "slideshow": {
     "slide_type": "slide"
    }
   },
   "source": [
    "## Sets\n",
    "\n",
    "let $A$ and $B$ be sets of elements.\n",
    "\n",
    "$x \\in A$ says that \"x is an element of the set A\"\n",
    "\n",
    "$y \\notin A$ says \"y is not an element of the set A\"\n"
   ]
  },
  {
   "cell_type": "markdown",
   "metadata": {
    "slideshow": {
     "slide_type": "subslide"
    }
   },
   "source": [
    "### symbology\n",
    "* $\\in$: in\n",
    "* $\\vee$ or\n",
    "* $\\wedge$ and\n",
    "* $\\neg$ not\n",
    "* $\\iff$ iff (if and only if)\n",
    "* $\\cap$ intersection\n",
    "* $\\cup$ union\n",
    "* $|$ such that\n",
    "* $\\emptyset$ empty set\n",
    "* $\\forall$ for all\n",
    "* $\\therefore$ therefore"
   ]
  },
  {
   "cell_type": "markdown",
   "metadata": {
    "slideshow": {
     "slide_type": "slide"
    }
   },
   "source": [
    "### operations\n",
    "* union:\n",
    "    * $A\\cup B = \\{x\\ |\\ x \\in A \\vee x \\in B\\}$\n",
    "* intersection:\n",
    "    * $A \\cap B = \\{x\\ |\\ x \\in A \\wedge x \\in B \\}$\n",
    "* difference:\n",
    "    * $A \\setminus B = \\{x\\ |\\ x \\in A \\wedge x \\notin B \\}$\n",
    "* complement:\n",
    "    * $A^C = \\{x\\ |\\ x \\notin A \\}$\n",
    "* disjoint:\n",
    "    * $A \\cap B = \\emptyset$\n",
    "* partition (of S):\n",
    "    * set of pairwise disjoint sets:\n",
    "    * $\\{A_i\\}\\  |\\  S = \\bigcup\\limits_{i=1}^{N} A_{i}$"
   ]
  },
  {
   "cell_type": "markdown",
   "metadata": {
    "slideshow": {
     "slide_type": "skip"
    }
   },
   "source": [
    "### DeMorgan's laws\n",
    "* $ \\neg (x \\vee y) \\iff \\neg x \\wedge \\neg y $\n",
    "* $ \\neg (x \\wedge y) \\iff \\neg x \\vee \\neg y $"
   ]
  },
  {
   "cell_type": "markdown",
   "metadata": {},
   "source": [
    "## The Laws of Probability\n",
    "\n",
    "Mathematically, ***probability*** is simply the act of assigning numbers to propositions like $A$ and $B$ above (with some constraints). Philosophically, we can interpret these numbers as ***measures of our certainty about the outcome of an event***.\n",
    "\n",
    "Imagine we have the ***set of all possible outcomes*** $S$ for some process (for example, all the sandwiches on the menu at the deli). What are the rules for assigning numbers (probabilities) to those outcomes?\n",
    "\n",
    "Let $x_i$ be the event \"I got the $i^{th}$ sandwich on the menu\", and $P(x_i)$ be \"the probability of getting the $i^{th}$ sandwich on the menu\"\n",
    "\n",
    "Consider the statements A and B above. They are also events that will either be true or false, so we can define $P(A)$ as \"the probability that statement A is true\""
   ]
  },
  {
   "cell_type": "markdown",
   "metadata": {},
   "source": [
    "Here are the ***[axioms of probability](https://en.wikipedia.org/wiki/Probability_axioms)***\n",
    "- For any statement A,\n",
    "    - $P(A) \\ge 0$\n",
    "- $P(S) = 1$\n",
    "    - since $S$ is the set of all possible events, the probability that _something_ in $S$ happens is 1\n",
    "- For any statements A and B,\n",
    "    -  $(A \\cap B = \\emptyset) \\Rightarrow P(A \\cup B) = P(A) + P(B)$\n",
    "    \n",
    "Turns out that's all you need! Some useful consequences:\n",
    "- $P(A^C) = 1 - P(A)$\n",
    "    - sometimes you'll see $A^C$ written as $\\neg A$ or $\\sim A$\n",
    "- $P(A \\cap B) = P(A) + P(B) - P(A \\cup B)$\n",
    "- let $\\{A_i\\}_{i=1\\ldots N}$ be a set of events satisfying\n",
    "    - $A_i \\cap A_j = \\emptyset$ (each pair of events is mutually exclusive)\n",
    "    - $\\bigcup\\limits_{i=1}^{N} A_{i} = S$ (all of the events together are collectively exhaustive of S)\n",
    "    - then we say that $\\{A_i\\}_{i=1\\ldots N}$ _partitions_ $S$, and $\\left(\\sum_{i=1}^{N}P(A_i)\\right) = 1$"
   ]
  },
  {
   "cell_type": "markdown",
   "metadata": {
    "slideshow": {
     "slide_type": "slide"
    }
   },
   "source": [
    "### conditional probability\n",
    "  \n",
    "a useful idea (sometimes framed as an axiom) is conditional probability: if we know $A$ to be true, what is the probability of $B$?\n",
    "\n",
    "$P(B|A) = \\frac{P(A \\cap B)}{P(A)}$"
   ]
  },
  {
   "cell_type": "markdown",
   "metadata": {
    "slideshow": {
     "slide_type": "slide"
    }
   },
   "source": [
    "### independence \n",
    "\n",
    "if $P(A \\cap B) = P(A)P(B)$ then we say that $A$ and $B$ are ***statistically independent***\n",
    "\n",
    "sometimes written $ A \\bot B $  \n",
    "\n",
    "note that this also implies that \n",
    "$P(A|B) = P(A)$ and $P(B|A) = P(A)$"
   ]
  },
  {
   "cell_type": "markdown",
   "metadata": {
    "slideshow": {
     "slide_type": "fragment"
    }
   },
   "source": [
    "### see sandwich example for more"
   ]
  },
  {
   "cell_type": "markdown",
   "metadata": {
    "slideshow": {
     "slide_type": "slide"
    }
   },
   "source": [
    "## combinatorics (counting)"
   ]
  },
  {
   "cell_type": "markdown",
   "metadata": {
    "slideshow": {
     "slide_type": "slide"
    }
   },
   "source": [
    "## factorial\n",
    "\n",
    "* $n! = \\prod\\limits_{i=1}^{n} i = 1 * 2 * 3 *\\ \\ldots\\ *\\ n-1\\ *\\ n$\n",
    "* $0! = 1$ by definition\n",
    "* how many ways can we shuffle a deck of cards?\n"
   ]
  },
  {
   "cell_type": "code",
   "execution_count": 1,
   "metadata": {
    "slideshow": {
     "slide_type": "fragment"
    }
   },
   "outputs": [],
   "source": [
    "def factorial(n):\n",
    "    if n==1:\n",
    "        return 1\n",
    "    return n*factorial(n-1)\n",
    "#     result = 1\n",
    "#     for i in range(1,n+1):\n",
    "#         result *= i\n",
    "#     return result"
   ]
  },
  {
   "cell_type": "code",
   "execution_count": 2,
   "metadata": {
    "slideshow": {
     "slide_type": "fragment"
    }
   },
   "outputs": [
    {
     "name": "stdout",
     "output_type": "stream",
     "text": [
      "80658175170943878571660636856403766975289505440883277824000000000000\n"
     ]
    }
   ],
   "source": [
    "print(factorial(52))"
   ]
  },
  {
   "cell_type": "code",
   "execution_count": 3,
   "metadata": {},
   "outputs": [
    {
     "data": {
      "text/plain": [
       "'8.066e+67'"
      ]
     },
     "execution_count": 3,
     "metadata": {},
     "output_type": "execute_result"
    }
   ],
   "source": [
    "'{:.3e}'.format(factorial(52))"
   ]
  },
  {
   "cell_type": "code",
   "execution_count": 4,
   "metadata": {
    "slideshow": {
     "slide_type": "fragment"
    }
   },
   "outputs": [],
   "source": [
    "def display(n,code='.0f'):\n",
    "    outstring = '{{:{}}}'.format(code)\n",
    "    print(outstring.format(n))"
   ]
  },
  {
   "cell_type": "code",
   "execution_count": 5,
   "metadata": {
    "slideshow": {
     "slide_type": "fragment"
    }
   },
   "outputs": [
    {
     "name": "stdout",
     "output_type": "stream",
     "text": [
      "8.066e+67\n"
     ]
    }
   ],
   "source": [
    "display(factorial(52),'.3e')"
   ]
  },
  {
   "cell_type": "markdown",
   "metadata": {
    "slideshow": {
     "slide_type": "slide"
    }
   },
   "source": [
    "## permutations\n",
    "number of way of selecting subgroups when order matters\n",
    "* select k students in order from class of n\n",
    "$${n!}\\over{(n-k)!}$$\n",
    "* example: set batting order for 9 players on baseball team of 25"
   ]
  },
  {
   "cell_type": "code",
   "execution_count": 6,
   "metadata": {
    "slideshow": {
     "slide_type": "fragment"
    }
   },
   "outputs": [],
   "source": [
    "def permute(n,k):\n",
    "    return factorial(n)/factorial(n-k)"
   ]
  },
  {
   "cell_type": "code",
   "execution_count": 7,
   "metadata": {
    "slideshow": {
     "slide_type": "fragment"
    }
   },
   "outputs": [
    {
     "name": "stdout",
     "output_type": "stream",
     "text": [
      "741354768000\n"
     ]
    }
   ],
   "source": [
    "display(permute(25,9))"
   ]
  },
  {
   "cell_type": "markdown",
   "metadata": {
    "slideshow": {
     "slide_type": "slide"
    }
   },
   "source": [
    "## combinations\n",
    " \n",
    " \n",
    " \n",
    " $${{n}\\choose{k}} = {{n!}\\over{(n-k)!k!}}$$"
   ]
  },
  {
   "cell_type": "code",
   "execution_count": 8,
   "metadata": {
    "slideshow": {
     "slide_type": "fragment"
    }
   },
   "outputs": [],
   "source": [
    "def comb(n,k):\n",
    "    return permute(n,k)/factorial(k)"
   ]
  },
  {
   "cell_type": "code",
   "execution_count": 9,
   "metadata": {
    "slideshow": {
     "slide_type": "fragment"
    }
   },
   "outputs": [
    {
     "name": "stdout",
     "output_type": "stream",
     "text": [
      "2042975\n"
     ]
    }
   ],
   "source": [
    "display(comb(25,9))"
   ]
  },
  {
   "cell_type": "markdown",
   "metadata": {
    "slideshow": {
     "slide_type": "slide"
    }
   },
   "source": [
    "## law of total probability\n",
    "\n",
    "Let $A$ be a subset of the total sample space $S$.\n",
    "\n",
    "If $\\{B_n\\}$ is a partition of a sample subspace $ A $\n",
    "\n",
    "Then \n",
    "\n",
    "$ P(A) = \\sum P(A\\cap B_i) $\n",
    "\n",
    "or\n",
    "\n",
    "$ P(A) = \\sum P(A|B_i) P(B_i)$\n",
    "\n",
    "And we call A the marginal distribution of B"
   ]
  },
  {
   "cell_type": "markdown",
   "metadata": {
    "slideshow": {
     "slide_type": "slide"
    }
   },
   "source": [
    "## bring it together\n",
    "\n",
    "* we can reason about probability by carefully defining the sample space, and relevant subsets\n",
    "* we can calculate probabilities by performing mathematical, often combinatoric, operations on these sets\n",
    "* if you cannot properly determine the relevant space, it is not possible to define the probability"
   ]
  },
  {
   "cell_type": "markdown",
   "metadata": {
    "slideshow": {
     "slide_type": "slide"
    }
   },
   "source": [
    "## question\n",
    "three coins in a bag: {HH,HT,TT}  \n",
    "you draw a coin and flip it, getting heads  \n",
    "what is the probability of getting heads on a second flip?  "
   ]
  },
  {
   "cell_type": "markdown",
   "metadata": {
    "slideshow": {
     "slide_type": "slide"
    }
   },
   "source": [
    "## solution"
   ]
  },
  {
   "cell_type": "markdown",
   "metadata": {
    "slideshow": {
     "slide_type": "fragment"
    }
   },
   "source": [
    "\n",
    "  \n",
    "$P(X_2 = H | X_1 = H) = \\frac{P(X_2 = H \\cap X_1 = H)}{P(X_1 = H)}$\n",
    "  \n",
    "  \n",
    "$P(X_2 = H \\cap X_1 = H)$ is probability that $X_1 = H$ **and** $X_2 = H$  \n",
    "if you grab HH coin two head flips have probability: 1  \n",
    "but you could also grab HT coin and flip heads twice, probability:  $\\frac{1}{2} * \\frac{1}{2} = \\frac{1}{4}$  \n",
    "each of those has probability $\\frac{1}{3}$  \n",
    "so $P(X_2 = H \\cap X_1 = H) = \\frac{1}{3} * (1 + \\frac{1}{4}) = \\frac{5}{12}$  \n",
    "finally $P(X_1 = H)$ is $\\frac{1}{2}$  \n",
    "$\\therefore P(X_2 = H | X_1 = H) = \\frac{\\frac{5}{12}}{\\frac{1}{2}} = \\frac{5}{6}$\n"
   ]
  },
  {
   "cell_type": "code",
   "execution_count": 10,
   "metadata": {
    "slideshow": {
     "slide_type": "slide"
    }
   },
   "outputs": [
    {
     "name": "stdout",
     "output_type": "stream",
     "text": [
      "0.8311367708540712\n",
      "50230\n"
     ]
    }
   ],
   "source": [
    "import random\n",
    "coins = ['HH', 'HT','TT']\n",
    "results = []\n",
    "for i in range(100000):\n",
    "    coin = random.choice(coins)\n",
    "    if random.choice(coin) == 'H':\n",
    "        results.append(random.choice(coin) == 'H')\n",
    "heads = 1.*sum(results)/len(results)\n",
    "print(heads)\n",
    "print(len(results))"
   ]
  },
  {
   "cell_type": "markdown",
   "metadata": {
    "slideshow": {
     "slide_type": "slide"
    }
   },
   "source": [
    "## question\n",
    "what happens if the coins in the bag are {HH,HT}"
   ]
  },
  {
   "cell_type": "code",
   "execution_count": 11,
   "metadata": {
    "slideshow": {
     "slide_type": "fragment"
    }
   },
   "outputs": [
    {
     "name": "stdout",
     "output_type": "stream",
     "text": [
      "0.8335911867481128\n",
      "0.16640881325188717\n"
     ]
    }
   ],
   "source": [
    "coins = ['HH', 'HT']\n",
    "results = []\n",
    "for i in range(100000):\n",
    "    coin = random.choice(coins)\n",
    "    if random.choice(coin) == 'H':\n",
    "        results.append(random.choice(coin) == 'H')\n",
    "heads = 1.*sum(results)/len(results)\n",
    "print(heads)\n",
    "print(1 - heads)"
   ]
  },
  {
   "cell_type": "markdown",
   "metadata": {
    "slideshow": {
     "slide_type": "slide"
    }
   },
   "source": [
    "## chain rule\n",
    "\n",
    "$ P(\\bigcap\\limits_i^n X_i) = \\prod\\limits_i^n P(X_i | \\bigcap\\limits_k^{i-1} X_k) $  \n",
    "$P(X_1,X_2,X_3) = ?$  "
   ]
  },
  {
   "cell_type": "markdown",
   "metadata": {
    "slideshow": {
     "slide_type": "fragment"
    }
   },
   "source": [
    "$P(X_1|X_2,X_3)P(X_2|X_3)P(X_3)$"
   ]
  },
  {
   "cell_type": "markdown",
   "metadata": {
    "slideshow": {
     "slide_type": "slide"
    }
   },
   "source": [
    "### what if $X_1,X_2,X_3$ are independent?"
   ]
  },
  {
   "cell_type": "markdown",
   "metadata": {
    "slideshow": {
     "slide_type": "slide"
    }
   },
   "source": [
    "## Bayes' rule\n",
    "  \n",
    "  \n",
    "$P(B|A) = \\frac{P(A|B)P(B)}{P(A)}$"
   ]
  },
  {
   "cell_type": "markdown",
   "metadata": {
    "slideshow": {
     "slide_type": "slide"
    }
   },
   "source": [
    "|conditional events | probability |\n",
    "| --------- | ----------- |\n",
    "| $ P(+\\ ∣ \\ doped)$ | .99 |\n",
    "| $ P(+\\ ∣ \\ clean)$ | .05 |\n",
    "| $P(doped)$ | .005 |\n",
    "\n",
    "what is $ P(doped\\ |\\ +) $?\n"
   ]
  },
  {
   "cell_type": "markdown",
   "metadata": {
    "slideshow": {
     "slide_type": "fragment"
    }
   },
   "source": [
    "$P(doped\\ |\\ +) = \\frac{P(+\\ |\\ doped)P(doped)}{P(+)}$  \n",
    "but what is $P(+)$?"
   ]
  },
  {
   "cell_type": "markdown",
   "metadata": {
    "slideshow": {
     "slide_type": "slide"
    }
   },
   "source": [
    "## law of total probability to the rescue\n",
    "\n",
    "$P(+) = P(+\\ |\\ doped)P(doped) + P(+\\ |\\ clean)P(clean)$  \n",
    "$P(clean) = 1 - P(doped)$  "
   ]
  },
  {
   "cell_type": "markdown",
   "metadata": {
    "slideshow": {
     "slide_type": "fragment"
    }
   },
   "source": [
    "$P(doped\\ |\\ +) = \\frac{P(+\\ |\\ doped)P(doped)}{P(+\\ |\\ doped)P(doped) + P(+\\ |\\ clean)P(clean)}$ \n"
   ]
  },
  {
   "cell_type": "markdown",
   "metadata": {
    "slideshow": {
     "slide_type": "fragment"
    }
   },
   "source": [
    "$P(doped\\ |\\ +) = \\frac{0.99*0.005}{0.99*0.005 + 0.05 * 0.995} = 0.090$"
   ]
  },
  {
   "cell_type": "markdown",
   "metadata": {
    "slideshow": {
     "slide_type": "slide"
    }
   },
   "source": [
    "## probability overview\n",
    "\n",
    "* remember complements $P(A^C) = 1 - P(A)$\n",
    "* are things independent?\n",
    "* if conditional probabilites are involved, remember Bayes' rule\n",
    "* probabilites cannot be > 1, check if your reasoning leads to that happening\n",
    "* the law of total probability is your friend\n"
   ]
  },
  {
   "cell_type": "markdown",
   "metadata": {
    "slideshow": {
     "slide_type": "slide"
    }
   },
   "source": [
    "# afternoon"
   ]
  },
  {
   "cell_type": "markdown",
   "metadata": {
    "slideshow": {
     "slide_type": "slide"
    }
   },
   "source": [
    "## random variables\n",
    "\n",
    "random variables formalize a mapping we have been implicitly using already:\n",
    "\n",
    "$ X(s) : S\\Rightarrow \\Re $\n",
    "\n",
    "* capital letters refer to random variables.\n",
    "* lowercase to refer to specific realization.\n",
    "* $P(X=s)$ is the probability that a draw from $X$ results in the value $s$.\n",
    "* $ X \\sim dist(\\alpha, \\beta, ...) $ means that $P(X=x)$ is defined by the function $dist$ with parameters $(\\alpha, \\beta, ...)$.\n",
    "* \"i.i.d.\": If I draw from $X$ many times, all those draws are independent and identically distributed"
   ]
  },
  {
   "cell_type": "markdown",
   "metadata": {
    "slideshow": {
     "slide_type": "slide"
    }
   },
   "source": [
    "## cumulative distribution function\n",
    "\n",
    "$ F_X(s) = P(X \\leq s) $\n",
    "\n",
    "what kinds of bounds can we put on this function?\n",
    "\n",
    "this works for both continuous and discrete functions."
   ]
  },
  {
   "cell_type": "markdown",
   "metadata": {
    "slideshow": {
     "slide_type": "slide"
    }
   },
   "source": [
    "## probability mass function / probability density function\n",
    "\n",
    "for discrete variables:\n",
    "\n",
    "$ f_X(s) = P(X = s)$\n",
    "\n",
    "for continuous variables, think of it as the derivative of the CDF:\n",
    "\n",
    "$ f_X(s)ds = P(s < X < s+ds) $\n",
    "\n",
    "$ f_X(s) = \\frac{dF_X(s)}{ds} $"
   ]
  },
  {
   "cell_type": "markdown",
   "metadata": {
    "slideshow": {
     "slide_type": "slide"
    }
   },
   "source": [
    "## expected values\n",
    "\n",
    "discrete:\n",
    "$ E[X] = \\sum\\limits_{s\\in S} s f_X(s) $\n",
    "\n",
    "continuous:\n",
    "$ E[X] = \\int\\limits_{-\\infty}^{\\infty}s f_X(s)ds$\n",
    "\n",
    "\n",
    "a measure, but not the only one, of the central tendency of a distribution\n",
    "\n",
    "\n",
    "### any function of a random variable $g(X)$\n",
    "\n",
    "discrete: $\\sum_i g(s_i)\\ f_X(s_i)$\n",
    "\n",
    "continuous: $\\int g(s)\\ f(s) ds$"
   ]
  },
  {
   "cell_type": "markdown",
   "metadata": {
    "slideshow": {
     "slide_type": "slide"
    }
   },
   "source": [
    "## variance\n",
    "\n",
    "$ Var[X] = E[(X - E[X])^2] $\n",
    "\n",
    "a measure of the spread of a distribution"
   ]
  },
  {
   "cell_type": "markdown",
   "metadata": {
    "slideshow": {
     "slide_type": "fragment"
    }
   },
   "source": [
    "## standard deviation\n",
    "\n",
    "$ \\sigma(X) = \\sqrt{Var[X]} $\n",
    "\n",
    "useful because its units are in units of our original random variable."
   ]
  },
  {
   "cell_type": "markdown",
   "metadata": {
    "slideshow": {
     "slide_type": "slide"
    }
   },
   "source": [
    "## covariance  \n",
    "we can also compute the covariance between two different variables:\n",
    "\n",
    "$Cov[X,Y] = E[(X - E[X])(Y - E[Y])]$\n",
    "\n",
    "which is related to the\n",
    "\n",
    "## correlation\n",
    "\n",
    "$$ Corr[X,Y] = \\frac{E[(X - E[X])(Y - E[Y])]}{\\sigma(X)\\sigma(Y)} = \\frac{Cov[X,Y]}{\\sigma(X)\\sigma(Y)}$$"
   ]
  },
  {
   "cell_type": "markdown",
   "metadata": {
    "slideshow": {
     "slide_type": "slide"
    }
   },
   "source": [
    "## marginal distributions\n",
    "\n",
    "marginal distribution takes --possibly not independent-- multivariate distribution and returns only a single dimension\n",
    "\n",
    "accomplished by summing (discrete) or integrating (continuous)\n",
    "\n",
    "$$\n",
    "f_X(x) = \\int_{-\\infty}^\\infty f_{XY}(x,s) ds\n",
    "$$"
   ]
  },
  {
   "cell_type": "markdown",
   "metadata": {
    "slideshow": {
     "slide_type": "slide"
    }
   },
   "source": [
    "## example:\n",
    "\n",
    "![](multivariate_normal.png)"
   ]
  },
  {
   "cell_type": "markdown",
   "metadata": {
    "slideshow": {
     "slide_type": "slide"
    }
   },
   "source": [
    "## discrete case:\n",
    "\n",
    "|x1|x2|\tx3|\tx4|\tpy(Y)\n",
    "--|--|--|--|--\n",
    "y1|$\\frac{4}{32}$|$\\frac{2}{32}$|$\\frac{1}{32}$|$\\frac{1}{32}$|$\\frac{8}{32}$\n",
    "y2|$\\frac{2}{32}$|$\\frac{4}{32}$|$\\frac{1}{32}$|$\\frac{1}{32}$|$\\frac{8}{32}$\n",
    "y3|$\\frac{2}{32}$|$\\frac{2}{32}$|$\\frac{2}{32}$|$\\frac{2}{32}$|$\\frac{8}{32}$\n",
    "y4|$\\frac{8}{32}$|0|0|0|$\\frac{8}{32}$\n",
    "px(X)|?|?|?|?|?"
   ]
  },
  {
   "cell_type": "markdown",
   "metadata": {
    "slideshow": {
     "slide_type": "skip"
    }
   },
   "source": [
    "## conditional distributions\n",
    "\n",
    "$$\n",
    "f(y|x) = \\frac{f_{XY}(x,y)}{f_X(x)}\n",
    "$$\n"
   ]
  },
  {
   "cell_type": "markdown",
   "metadata": {
    "slideshow": {
     "slide_type": "slide"
    }
   },
   "source": [
    "## Anscombe's quartet"
   ]
  },
  {
   "cell_type": "code",
   "execution_count": 12,
   "metadata": {
    "slideshow": {
     "slide_type": "skip"
    }
   },
   "outputs": [],
   "source": [
    "import numpy as np\n",
    "import matplotlib.pyplot as plt\n",
    "%matplotlib inline\n",
    "\n",
    "def fit(x):\n",
    "    return 3+0.5*x\n",
    "\n",
    "def anscombe():\n",
    "    x =  np.array([10, 8, 13, 9, 11, 14, 6, 4, 12, 7, 5])\n",
    "    y1 = np.array([8.04, 6.95, 7.58, 8.81, 8.33, 9.96, 7.24, 4.26, 10.84, 4.82, 5.68])\n",
    "    y2 = np.array([9.14, 8.14, 8.74, 8.77, 9.26, 8.10, 6.13, 3.10, 9.13, 7.26, 4.74])\n",
    "    y3 = np.array([7.46, 6.77, 12.74, 7.11, 7.81, 8.84, 6.08, 5.39, 8.15, 6.42, 5.73])\n",
    "    x4 = np.array([8,8,8,8,8,8,8,19,8,8,8])\n",
    "    y4 = np.array([6.58,5.76,7.71,8.84,8.47,7.04,5.25,12.50,5.56,7.91,6.89])\n",
    "    xfit = np.array( [np.amin(x), np.amax(x) ] )\n",
    "    plt.figure(figsize=(12,8))\n",
    "    plt.subplot(221)\n",
    "    plt.plot(x,y1,'ks', xfit, fit(xfit), 'r-', lw=2)\n",
    "    plt.axis([2,20,2,14])\n",
    "    plt.setp(plt.gca(), xticklabels=[], yticks=(4,8,12), xticks=(0,10,20))\n",
    "    plt.text(3,12, 'I', fontsize=20)\n",
    "\n",
    "    plt.subplot(222)\n",
    "    plt.plot(x,y2,'ks', xfit, fit(xfit), 'r-', lw=2)\n",
    "    plt.axis([2,20,2,14])\n",
    "    plt.setp(plt.gca(), xticklabels=[], yticks=(4,8,12), yticklabels=[], xticks=(0,10,20))\n",
    "    plt.text(3,12, 'II', fontsize=20)\n",
    "\n",
    "    plt.subplot(223)\n",
    "    plt.plot(x,y3,'ks', xfit, fit(xfit), 'r-', lw=2)\n",
    "    plt.axis([2,20,2,14])\n",
    "    plt.text(3,12, 'III', fontsize=20)\n",
    "    plt.setp(plt.gca(), yticks=(4,8,12), xticks=(0,10,20))\n",
    "\n",
    "    plt.subplot(224)\n",
    "\n",
    "    xfit = np.array([np.amin(x4),np.amax(x4)])\n",
    "    plt.plot(x4,y4,'ks', xfit, fit(xfit), 'r-', lw=2)\n",
    "    plt.axis([2,20,2,14])\n",
    "    plt.setp(plt.gca(), yticklabels=[], yticks=(4,8,12), xticks=(0,10,20))\n",
    "    plt.text(3,12, 'IV', fontsize=20)\n",
    "\n",
    "    #verify the stats\n",
    "    pairs = (x,y1), (x,y2), (x,y3), (x4,y4)\n",
    "    for x,y in pairs:\n",
    "        print ('mean=%1.2f, std=%1.2f, r=%1.2f'%(np.mean(y), np.std(y), np.corrcoef(x,y)[0][1]))"
   ]
  },
  {
   "cell_type": "code",
   "execution_count": 13,
   "metadata": {
    "scrolled": false,
    "slideshow": {
     "slide_type": "fragment"
    }
   },
   "outputs": [
    {
     "name": "stdout",
     "output_type": "stream",
     "text": [
      "mean=7.50, std=1.94, r=0.82\n",
      "mean=7.50, std=1.94, r=0.82\n",
      "mean=7.50, std=1.94, r=0.82\n",
      "mean=7.50, std=1.94, r=0.82\n"
     ]
    },
    {
     "data": {
      "image/png": "[encoded data removed]",
      "text/plain": [
       "<matplotlib.figure.Figure at 0x7f2994161ac8>"
      ]
     },
     "metadata": {},
     "output_type": "display_data"
    }
   ],
   "source": [
    "anscombe()"
   ]
  },
  {
   "cell_type": "markdown",
   "metadata": {
    "slideshow": {
     "slide_type": "slide"
    }
   },
   "source": [
    "## correlation\n",
    "\n",
    "<img src=\"correlation.svg\" width=800 />"
   ]
  },
  {
   "cell_type": "markdown",
   "metadata": {
    "slideshow": {
     "slide_type": "slide"
    }
   },
   "source": [
    "## distributions\n",
    "\n",
    "* useful for modeling\n",
    "* can help constrain thinking on probability questions\n",
    "\n",
    "* useful thoughts:\n",
    "    * Is data discrete or continuous?\n",
    "    * Is data symmetric?\n",
    "    * What limits are there on possible values for the data?\n",
    "    * How likely are extreme values?"
   ]
  },
  {
   "cell_type": "markdown",
   "metadata": {
    "slideshow": {
     "slide_type": "slide"
    }
   },
   "source": [
    "## common distributions\n",
    "\n",
    "* Bernoulli\n",
    "* binomial\n",
    "* geometric\n",
    "* Poisson\n",
    "* exponential\n",
    "* uniform\n",
    "* Gaussian\n",
    "* t-distribution\n",
    "* gamma\n",
    "* [more distributions](http://www.math.wm.edu/~leemis/chart/UDR/UDR.html)"
   ]
  },
  {
   "cell_type": "markdown",
   "metadata": {
    "slideshow": {
     "slide_type": "slide"
    }
   },
   "source": [
    "## Bernoulli:\n",
    "\n",
    "$X \\in \\{0,1\\}$\n",
    "\n",
    "$P(success) = P(X = 1) = p$\n",
    "\n",
    "$P(failure)= P(X = 0) = 1-p $\n",
    "\n",
    "mean: $ E[X] = p $\n",
    "\n",
    "variance: $ Var(X) = p(1-p) $"
   ]
  },
  {
   "cell_type": "code",
   "execution_count": 14,
   "metadata": {
    "slideshow": {
     "slide_type": "skip"
    }
   },
   "outputs": [],
   "source": [
    "import numpy as np\n",
    "import scipy.stats as scs\n",
    "import matplotlib.pyplot as plt\n",
    "%matplotlib inline"
   ]
  },
  {
   "cell_type": "code",
   "execution_count": 15,
   "metadata": {
    "slideshow": {
     "slide_type": "skip"
    }
   },
   "outputs": [],
   "source": [
    "def plot_pmf(dist, x):\n",
    "    plt.scatter(x, dist.pmf(x),\n",
    "               edgecolor='k')\n",
    "    plt.vlines(x, 0, \n",
    "               dist.pmf(x),\n",
    "               linestyle=':')\n",
    "    plt.ylim(ymin=0)\n",
    "    plt.xlabel('x')\n",
    "    plt.ylabel('P(x)')\n",
    "\n",
    "def plot_pdf(dist, x):\n",
    "    plt.plot(x, dist.pdf(x))\n",
    "    plt.ylim(ymin=0)\n",
    "    plt.xlabel('x')\n",
    "    plt.ylabel('pdf')"
   ]
  },
  {
   "cell_type": "markdown",
   "metadata": {
    "slideshow": {
     "slide_type": "slide"
    }
   },
   "source": [
    "## binomial:  probability of k successes in n trials\n",
    "pmf: $P(X=k) = {n \\choose k}p^k(1-p)^{n-k}, \\forall k \\in \\{0, 1,..., n\\} $\n",
    "\n",
    "$E[X] = np$\n",
    "\n",
    "$Var(X) = np(1-p)$\n"
   ]
  },
  {
   "cell_type": "code",
   "execution_count": 16,
   "metadata": {
    "slideshow": {
     "slide_type": "slide"
    }
   },
   "outputs": [
    {
     "data": {
      "text/plain": [
       "<matplotlib.text.Text at 0x7f296d572160>"
      ]
     },
     "execution_count": 16,
     "metadata": {},
     "output_type": "execute_result"
    },
    {
     "data": {
      "image/png": "[encoded data removed]",
      "text/plain": [
       "<matplotlib.figure.Figure at 0x7f2964dfdd68>"
      ]
     },
     "metadata": {},
     "output_type": "display_data"
    }
   ],
   "source": [
    "n, p = (10, 0.3)\n",
    "binom = scs.distributions.binom(n=n,p=p)\n",
    "x = np.arange(0, 10, 1)\n",
    "plot_pmf(binom, x)\n",
    "plt.title('Binomial distribution, n={}, p={}'.format(n,p))\n",
    "plt.xlabel('x (number of successes)')\n"
   ]
  },
  {
   "cell_type": "code",
   "execution_count": 17,
   "metadata": {},
   "outputs": [
    {
     "data": {
      "text/plain": [
       "0.0"
      ]
     },
     "execution_count": 17,
     "metadata": {},
     "output_type": "execute_result"
    }
   ],
   "source": [
    "binom.pmf(11)"
   ]
  },
  {
   "cell_type": "code",
   "execution_count": 18,
   "metadata": {},
   "outputs": [
    {
     "data": {
      "text/plain": [
       "5.9e-06"
      ]
     },
     "execution_count": 18,
     "metadata": {},
     "output_type": "execute_result"
    }
   ],
   "source": [
    "5.9 * (10**-6)"
   ]
  },
  {
   "cell_type": "code",
   "execution_count": 19,
   "metadata": {},
   "outputs": [
    {
     "data": {
      "text/plain": [
       "0.84973166739999995"
      ]
     },
     "execution_count": 19,
     "metadata": {},
     "output_type": "execute_result"
    }
   ],
   "source": [
    "binom.cdf(4)"
   ]
  },
  {
   "cell_type": "code",
   "execution_count": 20,
   "metadata": {},
   "outputs": [
    {
     "data": {
      "text/plain": [
       "array([2, 5, 5, 5, 2, 1, 5, 2, 4, 4])"
      ]
     },
     "execution_count": 20,
     "metadata": {},
     "output_type": "execute_result"
    }
   ],
   "source": [
    "binom.rvs(size=10)"
   ]
  },
  {
   "cell_type": "code",
   "execution_count": 21,
   "metadata": {},
   "outputs": [],
   "source": [
    "scs.distributions.binom?"
   ]
  },
  {
   "cell_type": "code",
   "execution_count": 22,
   "metadata": {},
   "outputs": [
    {
     "data": {
      "text/plain": [
       "5.0"
      ]
     },
     "execution_count": 22,
     "metadata": {},
     "output_type": "execute_result"
    }
   ],
   "source": [
    "binom.ppf(.9)"
   ]
  },
  {
   "cell_type": "code",
   "execution_count": 23,
   "metadata": {},
   "outputs": [
    {
     "data": {
      "text/plain": [
       "0.95265101259999996"
      ]
     },
     "execution_count": 23,
     "metadata": {},
     "output_type": "execute_result"
    }
   ],
   "source": [
    "binom.cdf(5)"
   ]
  },
  {
   "cell_type": "code",
   "execution_count": 24,
   "metadata": {},
   "outputs": [
    {
     "data": {
      "text/plain": [
       "0.1493083459"
      ]
     },
     "execution_count": 24,
     "metadata": {},
     "output_type": "execute_result"
    }
   ],
   "source": [
    "binom.cdf(1)"
   ]
  },
  {
   "cell_type": "code",
   "execution_count": 25,
   "metadata": {},
   "outputs": [
    {
     "data": {
      "text/plain": [
       "0.028247524899999984"
      ]
     },
     "execution_count": 25,
     "metadata": {},
     "output_type": "execute_result"
    }
   ],
   "source": [
    "binom.cdf(0)"
   ]
  },
  {
   "cell_type": "markdown",
   "metadata": {
    "slideshow": {
     "slide_type": "slide"
    }
   },
   "source": [
    "## geometric:  probability of k trials with only the final trial succeeding\n",
    "pmf: $$ P(X=k) = p (1-p)^{k-1}, \\forall k \\in \\{1, 2,...\\}$$\n",
    "\n",
    "$E[X] = \\frac{1}{p} $\n",
    "\n",
    "$ Var(X) = \\frac{1-p}{p^2} $"
   ]
  },
  {
   "cell_type": "code",
   "execution_count": 26,
   "metadata": {
    "scrolled": true
   },
   "outputs": [
    {
     "data": {
      "image/png": "[encoded data removed]",
      "text/plain": [
       "<matplotlib.figure.Figure at 0x7f296d51d1d0>"
      ]
     },
     "metadata": {},
     "output_type": "display_data"
    }
   ],
   "source": [
    "p = 0.6\n",
    "geom = scs.distributions.geom(p=p)\n",
    "x = np.arange(0, 10, 1)\n",
    "plot_pmf(geom, x)\n",
    "plt.title('Geometric distribution, p={}'.format(p));"
   ]
  },
  {
   "cell_type": "code",
   "execution_count": 27,
   "metadata": {},
   "outputs": [
    {
     "data": {
      "text/plain": [
       "3"
      ]
     },
     "execution_count": 27,
     "metadata": {},
     "output_type": "execute_result"
    }
   ],
   "source": [
    "geom.rvs()"
   ]
  },
  {
   "cell_type": "markdown",
   "metadata": {
    "slideshow": {
     "slide_type": "slide"
    }
   },
   "source": [
    "## Poisson: probability of k occurrences in a fixed time interval\n",
    "\n",
    "pmf: $$P(X=k) = \\frac{\\lambda^k e^{-\\lambda}}{k!},\\forall k \\in \\{0,1,2,...\\}$$\n",
    "\n",
    "$E[X] = \\lambda $\n",
    "\n",
    "$Var(X) =  \\lambda $"
   ]
  },
  {
   "cell_type": "code",
   "execution_count": 28,
   "metadata": {
    "slideshow": {
     "slide_type": "slide"
    }
   },
   "outputs": [
    {
     "data": {
      "image/png": "[encoded data removed]",
      "text/plain": [
       "<matplotlib.figure.Figure at 0x7f296d63e240>"
      ]
     },
     "metadata": {},
     "output_type": "display_data"
    }
   ],
   "source": [
    "lam = 2.3\n",
    "# what we call lambda here, scipy calls mu\n",
    "pois = scs.distributions.poisson(mu=lam)\n",
    "x = np.arange(0, 10, 1)\n",
    "plot_pmf(pois, x)\n",
    "plt.title('Poisson distribution, lambda={}'.format(lam));"
   ]
  },
  {
   "cell_type": "markdown",
   "metadata": {
    "slideshow": {
     "slide_type": "slide"
    }
   },
   "source": [
    "## uniform (discrete): equal probability of generating an integer between $a$ and $b$ (inclusive)\n",
    "\n",
    "pmf: $$ P(X=k) = \\frac{1}{b-a + 1}, \\forall k\\in[a, b], \\text{0 otherwise} $$\n",
    "\n",
    "$E[X] =  \\frac{a+b}{2} $\n",
    "\n",
    "$Var(X) = \\frac{(b-a+1)^2 - 1}{12}$"
   ]
  },
  {
   "cell_type": "code",
   "execution_count": 29,
   "metadata": {
    "slideshow": {
     "slide_type": "slide"
    }
   },
   "outputs": [
    {
     "data": {
      "image/png": "[encoded data removed]",
      "text/plain": [
       "<matplotlib.figure.Figure at 0x7f296d567240>"
      ]
     },
     "metadata": {},
     "output_type": "display_data"
    }
   ],
   "source": [
    "a, b = (2, 5)\n",
    "unif_d = scs.randint(a,b+1)\n",
    "x = np.arange(0, 10, 1)\n",
    "plot_pmf(unif_d, x)\n",
    "plt.title('Discrete uniform distribution, a={}, b={}'.format(a,b));"
   ]
  },
  {
   "cell_type": "markdown",
   "metadata": {
    "slideshow": {
     "slide_type": "slide"
    }
   },
   "source": [
    "## uniform (continuous): equal probability of drawing any real number between $a$ and $b$ (inclusive)\n",
    "\n",
    "pdf: $ f(x) = \\frac{1}{b-a}, \\forall x\\in[a, b], \\text{0 otherwise} $\n",
    "\n",
    "$E[X] = \\frac{a+b}{2} $\n",
    "\n",
    "$Var(X)=  \\frac{(b-a)^2}{12}$"
   ]
  },
  {
   "cell_type": "code",
   "execution_count": 30,
   "metadata": {
    "slideshow": {
     "slide_type": "slide"
    }
   },
   "outputs": [
    {
     "data": {
      "image/png": "[encoded data removed]",
      "text/plain": [
       "<matplotlib.figure.Figure at 0x7f296d51d4a8>"
      ]
     },
     "metadata": {},
     "output_type": "display_data"
    }
   ],
   "source": [
    "a, b = (2, 5)\n",
    "# scipy takes 'loc' as the lower bound and 'scale' as the width\n",
    "unif = scs.distributions.uniform(loc=a, scale=b-a)\n",
    "x = np.linspace(0, 10, 1000)\n",
    "plot_pdf(unif, x)\n",
    "plt.title('Continuous uniform distribution, a={}, b={}'.format(a,b));"
   ]
  },
  {
   "cell_type": "markdown",
   "metadata": {
    "slideshow": {
     "slide_type": "slide"
    }
   },
   "source": [
    "## exponential: distribution of \"wait time until event happens\"\n",
    "\n",
    "cdf: $ P(X < t) = 1 - e^{-\\lambda t}, t \\ge 0, \\lambda \\ge 0 $\n",
    "\n",
    "pdf: $ f(t) = \\lambda e^{-\\lambda t} $\n",
    "\n",
    "$E[X] =  \\frac{1}{\\lambda} $\n",
    "\n",
    "$Var(X)= \\frac{1}{\\lambda^2} $"
   ]
  },
  {
   "cell_type": "code",
   "execution_count": 31,
   "metadata": {
    "slideshow": {
     "slide_type": "slide"
    }
   },
   "outputs": [
    {
     "data": {
      "image/png": "[encoded data removed]",
      "text/plain": [
       "<matplotlib.figure.Figure at 0x7f296cd7da20>"
      ]
     },
     "metadata": {},
     "output_type": "display_data"
    }
   ],
   "source": [
    "lam_e = 1.7\n",
    "# lambda here gets inverted and passed to scipy as 'scale'\n",
    "expo = scs.distributions.expon(scale=1./lam_e)\n",
    "x = np.linspace(0, 10, 1000)\n",
    "plot_pdf(expo, x)\n",
    "plt.title('Exponential distribution, lambda={}'.format(lam_e));"
   ]
  },
  {
   "cell_type": "markdown",
   "metadata": {
    "slideshow": {
     "slide_type": "slide"
    }
   },
   "source": [
    "## Gaussian\n",
    "\n",
    "(also called normal)\n",
    "\n",
    "pdf: $$f(x) = \\frac{1}{\\sqrt{2\\pi\\sigma^2}}e^{-\\frac{(x - \\mu)^2}{2\\sigma^2}} $$\n",
    "\n",
    "$E[X] = \\mu$\n",
    "\n",
    "$Var(X) =  \\sigma^2 $"
   ]
  },
  {
   "cell_type": "code",
   "execution_count": 32,
   "metadata": {
    "scrolled": false,
    "slideshow": {
     "slide_type": "slide"
    }
   },
   "outputs": [
    {
     "data": {
      "image/png": "[encoded data removed]",
      "text/plain": [
       "<matplotlib.figure.Figure at 0x7f29941855c0>"
      ]
     },
     "metadata": {},
     "output_type": "display_data"
    }
   ],
   "source": [
    "mu, sig = 3, 1.2\n",
    "# scipy takes the means as 'loc' and the standard deviation as 'scale'\n",
    "normal = scs.distributions.norm(loc=mu, scale=sig)\n",
    "x = np.linspace(-5, 10, 1000)\n",
    "plot_pdf(normal, x)\n",
    "plt.title('Normal distribution, mu={}, sigma={}'.format(mu, sig));"
   ]
  },
  {
   "cell_type": "markdown",
   "metadata": {
    "slideshow": {
     "slide_type": "slide"
    }
   },
   "source": [
    "## students-t\n",
    "\n",
    "pdf: $$f(x) = \\frac{\\Gamma(\\frac{\\nu+1}{2})}{\\sqrt{\\nu\\pi}\\Gamma(\\frac{\\nu}{2})}\\left(1+\\frac{x^2}{\\nu}\\right)^{-\\frac{\\nu+1}{2}}$$ \n",
    "$\\nu$ is degrees of freedom\n",
    "\n",
    "$E[X] =  0$  \n",
    "\n",
    "$Var(X) = \\frac{\\nu}{\\nu-2}$ for $\\nu \\gt 2$, $\\infty$ for $1 \\lt \\nu \\le 2$, otherwise undefined"
   ]
  },
  {
   "cell_type": "code",
   "execution_count": 33,
   "metadata": {
    "scrolled": false,
    "slideshow": {
     "slide_type": "slide"
    }
   },
   "outputs": [
    {
     "data": {
      "image/png": "[encoded data removed]",
      "text/plain": [
       "<matplotlib.figure.Figure at 0x7f2964d1d518>"
      ]
     },
     "metadata": {},
     "output_type": "display_data"
    }
   ],
   "source": [
    "degrees_of_freedom = 3\n",
    "# scipy takes this parameter as 'df'\n",
    "student_t = scs.distributions.t(df=degrees_of_freedom)\n",
    "x = np.linspace(-6, 6, 1000)\n",
    "plot_pdf(student_t, x)\n",
    "plt.title(\"Student's t distribution, d.o.f={}\".format(degrees_of_freedom));"
   ]
  },
  {
   "cell_type": "markdown",
   "metadata": {
    "slideshow": {
     "slide_type": "slide"
    }
   },
   "source": [
    "## gamma: kinda like the normal but for strictly non-negative things\n",
    "\n",
    "pdf: $$ f(x) = \\frac{\\theta^k x^{k-1} e^{-\\theta x}}{\\Gamma(k)}, x \\gt 0$$\n",
    "\n",
    "$E[X] = k\\theta$\n",
    "\n",
    "$Var(X) = k \\theta^2$"
   ]
  },
  {
   "cell_type": "code",
   "execution_count": 34,
   "metadata": {
    "slideshow": {
     "slide_type": "slide"
    }
   },
   "outputs": [
    {
     "data": {
      "image/png": "[encoded data removed]",
      "text/plain": [
       "<matplotlib.figure.Figure at 0x7f2964cf1550>"
      ]
     },
     "metadata": {},
     "output_type": "display_data"
    }
   ],
   "source": [
    "k, theta = 3,2\n",
    "# scipy calls k 'a' and wants 1/theta in 'scale'\n",
    "gamma = scs.distributions.gamma(a=k, scale=1./theta)\n",
    "x = np.linspace(-5, 10, 1000)\n",
    "plot_pdf(gamma, x)\n",
    "plt.title(\"Gamma distribution, k={}, theta={}\".format(k, theta));"
   ]
  },
  {
   "cell_type": "code",
   "execution_count": null,
   "metadata": {},
   "outputs": [],
   "source": []
  }
 ],
 "metadata": {
  "anaconda-cloud": {},
  "kernelspec": {
   "display_name": "Python 3",
   "language": "python",
   "name": "python3"
  },
  "language_info": {
   "codemirror_mode": {
    "name": "ipython",
    "version": 3
   },
   "file_extension": ".py",
   "mimetype": "text/x-python",
   "name": "python",
   "nbconvert_exporter": "python",
   "pygments_lexer": "ipython3",
   "version": "3.6.2"
  }
 },
 "nbformat": 4,
 "nbformat_minor": 1
}
