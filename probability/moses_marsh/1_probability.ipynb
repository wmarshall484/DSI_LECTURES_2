{
 "cells": [
  {
   "cell_type": "markdown",
   "metadata": {
    "slideshow": {
     "slide_type": "slide"
    }
   },
   "source": [
    "# probability"
   ]
  },
  {
   "cell_type": "markdown",
   "metadata": {
    "slideshow": {
     "slide_type": "slide"
    }
   },
   "source": [
    "## objectives\n",
    "By the end of this lesson, you will be able to:\n",
    "* Define probability\n",
    "* Count\n",
    "* Set up & solve a probability problem using:\n",
    " * Law of total probability\n",
    " * Conditional probabilities\n",
    " * Bayes' rule"
   ]
  },
  {
   "cell_type": "markdown",
   "metadata": {},
   "source": [
    "## Propositional Logic\n",
    "(a.k.a [statement logic](https://en.wikipedia.org/wiki/Propositional_calculus), sentential logic, zeroth-order logic)"
   ]
  },
  {
   "cell_type": "markdown",
   "metadata": {},
   "source": [
    "Let's say I go to the deli and order \"the special\". I don't know what kind of sandwich it is, and it comes to me totally wrapped in paper.\n",
    "\n",
    "Here are some statements I could make about this MYSTERY SANDWICH\n",
    "\n",
    "A = \"it is a turkey sandwich\"\n",
    "\n",
    "B = \"there is mustard on this sandwich\"\n",
    "\n",
    "\n",
    "Let's review some boolean logic operators (T means True and F means False):\n",
    "\n",
    "|A  | B | A OR B | A AND B |A XOR B |\n",
    "|-------|-------|:-------:|:-------:|:-------:|\n",
    "|T|T|T|T|F|\n",
    "|T|F|T|F|T|\n",
    "|F|T|T|F|T|\n",
    "|F|F|F|F|F|\n"
   ]
  },
  {
   "cell_type": "markdown",
   "metadata": {
    "slideshow": {
     "slide_type": "slide"
    }
   },
   "source": [
    "## Sets\n",
    "\n",
    "let $A$ and $B$ be sets of elements.\n",
    "\n",
    "$x \\in A$ says that \"x is an element of the set A\"\n",
    "\n",
    "$y \\notin A$ says \"y is not an element of the set A\"\n"
   ]
  },
  {
   "cell_type": "markdown",
   "metadata": {
    "slideshow": {
     "slide_type": "subslide"
    }
   },
   "source": [
    "### symbology\n",
    "* $\\in$: in\n",
    "* $\\vee$ or\n",
    "* $\\wedge$ and\n",
    "* $\\neg$ not\n",
    "* $\\iff$ iff (if and only if)\n",
    "* $\\cap$ intersection\n",
    "* $\\cup$ union\n",
    "* $|$ such that\n",
    "* $\\emptyset$ empty set\n",
    "* $\\forall$ for all\n",
    "* $\\therefore$ therefore"
   ]
  },
  {
   "cell_type": "markdown",
   "metadata": {
    "slideshow": {
     "slide_type": "slide"
    }
   },
   "source": [
    "### operations\n",
    "* union:\n",
    "    * $A\\cup B = \\{x\\ |\\ x \\in A \\vee x \\in B\\}$\n",
    "* intersection:\n",
    "    * $A \\cap B = \\{x\\ |\\ x \\in A \\wedge x \\in B \\}$\n",
    "* difference:\n",
    "    * $A \\setminus B = \\{x\\ |\\ x \\in A \\wedge x \\notin B \\}$\n",
    "* complement:\n",
    "    * $A^C = \\{x\\ |\\ x \\notin A \\}$\n",
    "* disjoint:\n",
    "    * $A \\cap B = \\emptyset$\n",
    "* partition (of S):\n",
    "    * set of pairwise disjoint sets:\n",
    "    * $\\{A_i\\}\\  |\\  S = \\bigcup\\limits_{i=1}^{N} A_{i}$"
   ]
  },
  {
   "cell_type": "markdown",
   "metadata": {
    "slideshow": {
     "slide_type": "skip"
    }
   },
   "source": [
    "### DeMorgan's laws\n",
    "* $ \\neg (x \\vee y) \\iff \\neg x \\wedge \\neg y $\n",
    "* $ \\neg (x \\wedge y) \\iff \\neg x \\vee \\neg y $"
   ]
  },
  {
   "cell_type": "markdown",
   "metadata": {},
   "source": [
    "## The Laws of Probability\n",
    "\n",
    "Mathematically, ***probability*** is simply the act of assigning numbers to propositions like $A$ and $B$ above (with some constraints). Philosophically, we can interpret these numbers as ***measures of our certainty about the outcome of an event***.\n",
    "\n",
    "Imagine we have the ***set of all possible outcomes*** $S$ for some process (for example, all the sandwiches on the menu at the deli). What are the rules for assigning numbers (probabilities) to those outcomes?\n",
    "\n",
    "Let $x_i$ be the event \"I got the $i^{th}$ sandwich on the menu\", and $P(x_i)$ be \"the probability of getting the $i^{th}$ sandwich on the menu\"\n",
    "\n",
    "Consider the statements A and B above. They are also events that will either be true or false, so we can define $P(A)$ as \"the probability that statement A is true\""
   ]
  },
  {
   "cell_type": "markdown",
   "metadata": {},
   "source": [
    "Here are the ***[axioms of probability](https://en.wikipedia.org/wiki/Probability_axioms)***\n",
    "- For any statement A,\n",
    "    - $P(A) \\ge 0$\n",
    "- $P(S) = 1$\n",
    "    - since $S$ is the set of all possible events, the probability that _something_ in $S$ happens is 1\n",
    "- For any statements A and B,\n",
    "    -  $(A \\cap B = \\emptyset) \\Rightarrow P(A \\cup B) = P(A) + P(B)$\n",
    "    \n",
    "Turns out that's all you need! Some useful consequences:\n",
    "- $P(A^C) = 1 - P(A)$\n",
    "    - sometimes you'll see $A^C$ written as $\\neg A$ or $\\sim A$\n",
    "- $P(A \\cap B) = P(A) + P(B) - P(A \\cup B)$\n",
    "- let $\\{A_i\\}_{i=1\\ldots N}$ be a set of events satisfying\n",
    "    - $A_i \\cap A_j = \\emptyset$ (each pair of events is mutually exclusive)\n",
    "    - $\\bigcup\\limits_{i=1}^{N} A_{i} = S$ (all of the events together are collectively exhaustive of S)\n",
    "    - then we say that $\\{A_i\\}_{i=1\\ldots N}$ _partitions_ $S$, and $\\left(\\sum_{i=1}^{N}P(A_i)\\right) = 1$"
   ]
  },
  {
   "cell_type": "markdown",
   "metadata": {
    "slideshow": {
     "slide_type": "slide"
    }
   },
   "source": [
    "### conditional probability\n",
    "  \n",
    "a useful idea (sometimes framed as an axiom) is conditional probability: if we know $A$ to be true, what is the probability of $B$?\n",
    "\n",
    "$P(B|A) = \\frac{P(A \\cap B)}{P(A)}$"
   ]
  },
  {
   "cell_type": "markdown",
   "metadata": {
    "slideshow": {
     "slide_type": "slide"
    }
   },
   "source": [
    "### independence \n",
    "\n",
    "if $P(A \\cap B) = P(A)P(B)$ then we say that $A$ and $B$ are ***statistically independent***\n",
    "\n",
    "sometimes written $ A \\bot B $  \n",
    "\n",
    "note that this also implies that \n",
    "$P(A|B) = P(A)$ and $P(B|A) = P(A)$"
   ]
  },
  {
   "cell_type": "markdown",
   "metadata": {
    "slideshow": {
     "slide_type": "fragment"
    }
   },
   "source": [
    "### see sandwich example for more"
   ]
  },
  {
   "cell_type": "markdown",
   "metadata": {
    "slideshow": {
     "slide_type": "slide"
    }
   },
   "source": [
    "## combinatorics (counting)"
   ]
  },
  {
   "cell_type": "markdown",
   "metadata": {
    "slideshow": {
     "slide_type": "slide"
    }
   },
   "source": [
    "## factorial\n",
    "\n",
    "* $n! = \\prod\\limits_{i=1}^{n} i = 1 * 2 * 3 *\\ \\ldots\\ *\\ n-1\\ *\\ n$\n",
    "* $0! = 1$ by definition\n",
    "* how many ways can we shuffle a deck of cards?\n"
   ]
  },
  {
   "cell_type": "code",
   "execution_count": 1,
   "metadata": {
    "slideshow": {
     "slide_type": "fragment"
    }
   },
   "outputs": [],
   "source": [
    "def factorial(n):\n",
    "    if n==1:\n",
    "        return 1\n",
    "    return n*factorial(n-1)\n",
    "#     result = 1\n",
    "#     for i in range(1,n+1):\n",
    "#         result *= i\n",
    "#     return result"
   ]
  },
  {
   "cell_type": "code",
   "execution_count": 2,
   "metadata": {
    "slideshow": {
     "slide_type": "fragment"
    }
   },
   "outputs": [
    {
     "name": "stdout",
     "output_type": "stream",
     "text": [
      "80658175170943878571660636856403766975289505440883277824000000000000\n"
     ]
    }
   ],
   "source": [
    "print(factorial(52))"
   ]
  },
  {
   "cell_type": "code",
   "execution_count": 3,
   "metadata": {},
   "outputs": [
    {
     "data": {
      "text/plain": [
       "'8.066e+67'"
      ]
     },
     "execution_count": 3,
     "metadata": {},
     "output_type": "execute_result"
    }
   ],
   "source": [
    "'{:.3e}'.format(factorial(52))"
   ]
  },
  {
   "cell_type": "code",
   "execution_count": 4,
   "metadata": {
    "slideshow": {
     "slide_type": "fragment"
    }
   },
   "outputs": [],
   "source": [
    "def display(n,code='.0f'):\n",
    "    outstring = '{{:{}}}'.format(code)\n",
    "    print(outstring.format(n))"
   ]
  },
  {
   "cell_type": "code",
   "execution_count": 5,
   "metadata": {
    "slideshow": {
     "slide_type": "fragment"
    }
   },
   "outputs": [
    {
     "name": "stdout",
     "output_type": "stream",
     "text": [
      "8.066e+67\n"
     ]
    }
   ],
   "source": [
    "display(factorial(52),'.3e')"
   ]
  },
  {
   "cell_type": "markdown",
   "metadata": {
    "slideshow": {
     "slide_type": "slide"
    }
   },
   "source": [
    "## permutations\n",
    "number of way of selecting subgroups when order matters\n",
    "* select k students in order from class of n\n",
    "$${n!}\\over{(n-k)!}$$\n",
    "* example: set batting order for 9 players on baseball team of 25"
   ]
  },
  {
   "cell_type": "code",
   "execution_count": 6,
   "metadata": {
    "slideshow": {
     "slide_type": "fragment"
    }
   },
   "outputs": [],
   "source": [
    "def permute(n,k):\n",
    "    return factorial(n)/factorial(n-k)"
   ]
  },
  {
   "cell_type": "code",
   "execution_count": 7,
   "metadata": {
    "slideshow": {
     "slide_type": "fragment"
    }
   },
   "outputs": [
    {
     "name": "stdout",
     "output_type": "stream",
     "text": [
      "741354768000\n"
     ]
    }
   ],
   "source": [
    "display(permute(25,9))"
   ]
  },
  {
   "cell_type": "markdown",
   "metadata": {
    "slideshow": {
     "slide_type": "slide"
    }
   },
   "source": [
    "## combinations\n",
    " \n",
    " \n",
    " \n",
    " $${{n}\\choose{k}} = {{n!}\\over{(n-k)!k!}}$$"
   ]
  },
  {
   "cell_type": "code",
   "execution_count": 8,
   "metadata": {
    "slideshow": {
     "slide_type": "fragment"
    }
   },
   "outputs": [],
   "source": [
    "def comb(n,k):\n",
    "    return permute(n,k)/factorial(k)"
   ]
  },
  {
   "cell_type": "code",
   "execution_count": 9,
   "metadata": {
    "slideshow": {
     "slide_type": "fragment"
    }
   },
   "outputs": [
    {
     "name": "stdout",
     "output_type": "stream",
     "text": [
      "2042975\n"
     ]
    }
   ],
   "source": [
    "display(comb(25,9))"
   ]
  },
  {
   "cell_type": "markdown",
   "metadata": {
    "slideshow": {
     "slide_type": "slide"
    }
   },
   "source": [
    "## law of total probability\n",
    "\n",
    "Let $A$ be a subset of the total sample space $S$.\n",
    "\n",
    "If $\\{B_n\\}$ is a partition of a sample subspace $ A $\n",
    "\n",
    "Then \n",
    "\n",
    "$ P(A) = \\sum P(A\\cap B_i) $\n",
    "\n",
    "or\n",
    "\n",
    "$ P(A) = \\sum P(A|B_i) P(B_i)$\n",
    "\n",
    "And we call A the marginal distribution of B"
   ]
  },
  {
   "cell_type": "markdown",
   "metadata": {
    "slideshow": {
     "slide_type": "slide"
    }
   },
   "source": [
    "## bring it together\n",
    "\n",
    "* we can reason about probability by carefully defining the sample space, and relevant subsets\n",
    "* we can calculate probabilities by performing mathematical, often combinatoric, operations on these sets\n",
    "* if you cannot properly determine the relevant space, it is not possible to define the probability"
   ]
  },
  {
   "cell_type": "markdown",
   "metadata": {
    "slideshow": {
     "slide_type": "slide"
    }
   },
   "source": [
    "## question\n",
    "three coins in a bag: {HH,HT,TT}  \n",
    "you draw a coin and flip it, getting heads  \n",
    "what is the probability of getting heads on a second flip?  "
   ]
  },
  {
   "cell_type": "markdown",
   "metadata": {
    "slideshow": {
     "slide_type": "slide"
    }
   },
   "source": [
    "## solution"
   ]
  },
  {
   "cell_type": "markdown",
   "metadata": {
    "slideshow": {
     "slide_type": "fragment"
    }
   },
   "source": [
    "\n",
    "  \n",
    "$P(X_2 = H | X_1 = H) = \\frac{P(X_2 = H \\cap X_1 = H)}{P(X_1 = H)}$\n",
    "  \n",
    "  \n",
    "$P(X_2 = H \\cap X_1 = H)$ is probability that $X_1 = H$ **and** $X_2 = H$  \n",
    "if you grab HH coin two head flips have probability: 1  \n",
    "but you could also grab HT coin and flip heads twice, probability:  $\\frac{1}{2} * \\frac{1}{2} = \\frac{1}{4}$  \n",
    "each of those has probability $\\frac{1}{3}$  \n",
    "so $P(X_2 = H \\cap X_1 = H) = \\frac{1}{3} * (1 + \\frac{1}{4}) = \\frac{5}{12}$  \n",
    "finally $P(X_1 = H)$ is $\\frac{1}{2}$  \n",
    "$\\therefore P(X_2 = H | X_1 = H) = \\frac{\\frac{5}{12}}{\\frac{1}{2}} = \\frac{5}{6}$\n"
   ]
  },
  {
   "cell_type": "code",
   "execution_count": 10,
   "metadata": {
    "slideshow": {
     "slide_type": "slide"
    }
   },
   "outputs": [
    {
     "name": "stdout",
     "output_type": "stream",
     "text": [
      "0.830954424769928\n",
      "50093\n"
     ]
    }
   ],
   "source": [
    "import random\n",
    "coins = ['HH', 'HT','TT']\n",
    "results = []\n",
    "for i in range(100000):\n",
    "    coin = random.choice(coins)\n",
    "    if random.choice(coin) == 'H':\n",
    "        results.append(random.choice(coin) == 'H')\n",
    "heads = 1.*sum(results)/len(results)\n",
    "print(heads)\n",
    "print(len(results))"
   ]
  },
  {
   "cell_type": "markdown",
   "metadata": {
    "slideshow": {
     "slide_type": "slide"
    }
   },
   "source": [
    "## question\n",
    "what happens if the coins in the bag are {HH,HT}"
   ]
  },
  {
   "cell_type": "code",
   "execution_count": 11,
   "metadata": {
    "slideshow": {
     "slide_type": "fragment"
    }
   },
   "outputs": [
    {
     "name": "stdout",
     "output_type": "stream",
     "text": [
      "0.8336534357661118\n",
      "0.16634656423388816\n"
     ]
    }
   ],
   "source": [
    "coins = ['HH', 'HT']\n",
    "results = []\n",
    "for i in range(100000):\n",
    "    coin = random.choice(coins)\n",
    "    if random.choice(coin) == 'H':\n",
    "        results.append(random.choice(coin) == 'H')\n",
    "heads = 1.*sum(results)/len(results)\n",
    "print(heads)\n",
    "print(1 - heads)"
   ]
  },
  {
   "cell_type": "markdown",
   "metadata": {
    "slideshow": {
     "slide_type": "slide"
    }
   },
   "source": [
    "## chain rule\n",
    "\n",
    "$ P(\\bigcap\\limits_i^n X_i) = \\prod\\limits_i^n P(X_i | \\bigcap\\limits_k^{i-1} X_k) $  \n",
    "$P(X_1,X_2,X_3) = ?$  "
   ]
  },
  {
   "cell_type": "markdown",
   "metadata": {
    "slideshow": {
     "slide_type": "fragment"
    }
   },
   "source": [
    "$P(X_1|X_2,X_3)P(X_2|X_3)P(X_3)$"
   ]
  },
  {
   "cell_type": "markdown",
   "metadata": {
    "slideshow": {
     "slide_type": "slide"
    }
   },
   "source": [
    "### what if $X_1,X_2,X_3$ are independent?"
   ]
  },
  {
   "cell_type": "markdown",
   "metadata": {
    "slideshow": {
     "slide_type": "slide"
    }
   },
   "source": [
    "## Bayes' rule\n",
    "  \n",
    "  \n",
    "$P(B|A) = \\frac{P(A|B)P(B)}{P(A)}$"
   ]
  },
  {
   "cell_type": "markdown",
   "metadata": {
    "slideshow": {
     "slide_type": "slide"
    }
   },
   "source": [
    "|conditional events | probability |\n",
    "| --------- | ----------- |\n",
    "| $ P(+\\ ∣ \\ doped)$ | .99 |\n",
    "| $ P(+\\ ∣ \\ clean)$ | .05 |\n",
    "| $P(doped)$ | .005 |\n",
    "\n",
    "what is $ P(doped\\ |\\ +) $?\n"
   ]
  },
  {
   "cell_type": "markdown",
   "metadata": {
    "slideshow": {
     "slide_type": "fragment"
    }
   },
   "source": [
    "$P(doped\\ |\\ +) = \\frac{P(+\\ |\\ doped)P(doped)}{P(+)}$  \n",
    "but what is $P(+)$?"
   ]
  },
  {
   "cell_type": "markdown",
   "metadata": {
    "slideshow": {
     "slide_type": "slide"
    }
   },
   "source": [
    "## law of total probability to the rescue\n",
    "\n",
    "$P(+) = P(+\\ |\\ doped)P(doped) + P(+\\ |\\ clean)P(clean)$  \n",
    "$P(clean) = 1 - P(doped)$  "
   ]
  },
  {
   "cell_type": "markdown",
   "metadata": {
    "slideshow": {
     "slide_type": "fragment"
    }
   },
   "source": [
    "$P(doped\\ |\\ +) = \\frac{P(+\\ |\\ doped)P(doped)}{P(+\\ |\\ doped)P(doped) + P(+\\ |\\ clean)P(clean)}$ \n"
   ]
  },
  {
   "cell_type": "markdown",
   "metadata": {
    "slideshow": {
     "slide_type": "fragment"
    }
   },
   "source": [
    "$P(doped\\ |\\ +) = \\frac{0.99*0.005}{0.99*0.005 + 0.05 * 0.995} = 0.090$"
   ]
  },
  {
   "cell_type": "markdown",
   "metadata": {
    "slideshow": {
     "slide_type": "slide"
    }
   },
   "source": [
    "## probability overview\n",
    "\n",
    "* remember complements $P(A^C) = 1 - P(A)$\n",
    "* are things independent?\n",
    "* if conditional probabilites are involved, remember Bayes' rule\n",
    "* probabilites cannot be > 1, check if your reasoning leads to that happening\n",
    "* the law of total probability is your friend\n"
   ]
  }
 ],
 "metadata": {
  "anaconda-cloud": {},
  "kernelspec": {
   "display_name": "Python 3",
   "language": "python",
   "name": "python3"
  },
  "language_info": {
   "codemirror_mode": {
    "name": "ipython",
    "version": 3
   },
   "file_extension": ".py",
   "mimetype": "text/x-python",
   "name": "python",
   "nbconvert_exporter": "python",
   "pygments_lexer": "ipython3",
   "version": "3.7.1"
  }
 },
 "nbformat": 4,
 "nbformat_minor": 2
}
