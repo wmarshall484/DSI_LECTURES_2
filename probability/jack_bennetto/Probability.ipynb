{
 "cells": [
  {
   "cell_type": "markdown",
   "metadata": {},
   "source": [
    "# Probability\n",
    "\n",
    "### Jack Bennetto\n",
    "#### January 16, 2017"
   ]
  },
  {
   "cell_type": "markdown",
   "metadata": {},
   "source": [
    "## Objectives\n",
    "\n",
    "* Use permutations and combinations to solve probability problems.\n",
    "* Use basic laws of probability.\n",
    "* Understand what a random variable is and derive common properties.\n",
    "* Understand the limitations of correlation.\n",
    "* Recognize common probability distributions, including Bernoulii, binomial, geometric, Poisson, uniform, normal, and exponetial."
   ]
  },
  {
   "cell_type": "markdown",
   "metadata": {},
   "source": [
    "## Agenda\n",
    "\n",
    "Morning\n",
    "\n",
    " * Review sets\n",
    " * Discuss permutations and combinations\n",
    " * Discuss laws of probability\n",
    " \n",
    "Afternoon\n",
    "\n",
    " * Discuss random variables\n",
    " * Discuss common distributions"
   ]
  },
  {
   "cell_type": "markdown",
   "metadata": {},
   "source": [
    "## Some definitions\n",
    "\n",
    "* A set $S$ consists of all possible outcomes or events and is called the sample space\n",
    "* Union: $A \\cup B = \\{ x: x \\in A ~\\mathtt{ or} ~x \\in B\\}$\n",
    "* Intersection: $A \\cap B = \\{x: x \\in A ~\\mathtt{and} ~x \\in B\\}$\n",
    "* Complement: $A^\\complement = \\{ x: x \\notin A \\}$\n",
    "* Disjoint: $A \\cap B = \\emptyset$\n",
    "* Partition: a set of pairwise disjoint sets, ${A_j}$, such that $\\underset{j=1}{\\overset{\\infty}{\\cup}}A_j = S$\n",
    "* $\\left|A \\right| \\equiv$ number of elements in $A$\n",
    "* DeMorgan's laws: $(A \\cup B)^\\complement = A^\\complement \\cap B^\\complement$ and  $(A \\cap B)^\\complement = A^\\complement \\cup B^\\complement$\n",
    "* Plus, commutative, associative, and distributive laws"
   ]
  },
  {
   "cell_type": "code",
   "execution_count": null,
   "metadata": {
    "collapsed": true
   },
   "outputs": [],
   "source": [
    "import scipy.stats as scs\n",
    "import numpy as np\n",
    "import math\n",
    "\n",
    "import matplotlib.pyplot as plt\n",
    "%matplotlib inline"
   ]
  },
  {
   "cell_type": "markdown",
   "metadata": {},
   "source": [
    "## Permutations and Combinations\n",
    "\n",
    "In general, there are $n!$ ways we can order $n$ objects, since there are $n$ that can come first, $n-1$ that can come 2nd, and so on. So we can line 20 students up $20!$ ways."
   ]
  },
  {
   "cell_type": "code",
   "execution_count": null,
   "metadata": {
    "collapsed": false
   },
   "outputs": [],
   "source": [
    "math.factorial(20)"
   ]
  },
  {
   "cell_type": "markdown",
   "metadata": {},
   "source": [
    "Suppose we choose 5 of you at random from the class of 20 students. How many different ways could we do that?\n",
    "\n",
    "If the order matters, it's a **permutation**. If the order doesn't, it's a **combination**.\n",
    "\n",
    "There are $20$ ways they can choose one student, $20 \\cdot 19$ ways we can choose two, and so on, so $$20\\cdot19\\cdot18\\cdot17\\cdot16 = \\frac{20!}{15!} = {_{20}P_{15}}$$ ways we can choose five students, assuming the order matters. In general\n",
    "\n",
    "$$_nP_k = \\frac{n!}{(n-k)!}$$"
   ]
  },
  {
   "cell_type": "code",
   "execution_count": null,
   "metadata": {
    "collapsed": false
   },
   "outputs": [],
   "source": [
    "def permutations(n, k):\n",
    "    return math.factorial(n)/math.factorial(n-k)\n",
    "\n",
    "permutations(20,5)"
   ]
  },
  {
   "cell_type": "markdown",
   "metadata": {},
   "source": [
    "There are $5!$ different way we can order those different students, so the number of combinations is that number divided by $5!$. We write this as $${20 \\choose 5} = \\frac{20!}{15! \\cdot 5!}$$\n",
    "\n",
    "In general,\n",
    "\n",
    "$${n \\choose k} = {_nC_k} = \\frac{n!}{n!(n-k)!}$$"
   ]
  },
  {
   "cell_type": "code",
   "execution_count": null,
   "metadata": {
    "collapsed": false
   },
   "outputs": [],
   "source": [
    "def combinations(n, k):\n",
    "    return math.factorial(n)/(math.factorial(n-k) * math.factorial(k))\n",
    "\n",
    "combinations(20,5)"
   ]
  },
  {
   "cell_type": "markdown",
   "metadata": {},
   "source": [
    "### Tea-drinking problem\n",
    "\n",
    "There's a classic problem in which a woman claims she can tell whether tea or milk is added to the cup first. The famous statistician R.A. Fisher proposed a test: he would prepare eight cups of tea, four each way, and she would select which was which.\n",
    "\n",
    "Assuming the null hypothesis (that she was guessing randomly) what's the probability she guess all correctly?"
   ]
  },
  {
   "cell_type": "code",
   "execution_count": null,
   "metadata": {
    "collapsed": false
   },
   "outputs": [],
   "source": []
  },
  {
   "cell_type": "markdown",
   "metadata": {},
   "source": [
    "## Multinomial\n",
    "\n",
    "Combinations explain the number of ways of dividing something into two catagoies. When dividing into more categories, use\n",
    "\n",
    "$${n \\choose {n_1, n_2, ... n_k}} = \\frac{n!}{n_1! n_2! ... n_k!}$$\n",
    "\n",
    "which reduces to the above for two cases."
   ]
  },
  {
   "cell_type": "markdown",
   "metadata": {},
   "source": [
    "## Definition of probability\n",
    "\n",
    "Given a sample space S, a *probability function* P of a set has three properties.\n",
    "\n",
    "* $P(A) \\ge 0 \\; \\forall \\; A \\subset S$\n",
    "* $P(S) = 1$\n",
    "* For a set of pairwise disjoint sets $\\{A_j\\}$, $P(\\cup_j A_j) = \\sum_j P(A_j)$"
   ]
  },
  {
   "cell_type": "markdown",
   "metadata": {},
   "source": [
    "## Independence\n",
    "\n",
    "Two events $A$ and $B$ are said to be *independent* iff \n",
    "\n",
    "$$ P(A \\cap B) = P(A) P(B)$$\n",
    "\n",
    "or equivalently\n",
    "\n",
    "$$ P(B \\mid A) = P(B)$$\n",
    "\n",
    "so knowlege of $A$ provides no information about $B$. This can also be written as $A \\perp B$."
   ]
  },
  {
   "cell_type": "markdown",
   "metadata": {},
   "source": [
    "### Example: dice\n",
    "\n",
    "The probability of rolling a 1 on a single fair 6-sided die is $1\\over 6$.\n",
    "\n",
    "What's the probability of two dice having a total value of 3?"
   ]
  },
  {
   "cell_type": "code",
   "execution_count": null,
   "metadata": {
    "collapsed": true
   },
   "outputs": [],
   "source": []
  },
  {
   "cell_type": "markdown",
   "metadata": {},
   "source": [
    "# Bayes' theorem\n",
    "\n",
    "Bayes' therem says that\n",
    "\n",
    "$$P(A\\mid B) = \\frac{P(B\\mid A) P(A)}{P(B)}$$\n",
    "Where A and B are two possible events.\n",
    "\n",
    "To prove it, consider that\n",
    "\n",
    "\n",
    "$$\\begin{equation}\n",
    "\\begin{aligned}\n",
    "P(A\\mid B) P(B) & = P(A \\cap B) \\\\\n",
    "            & = P(B \\cap A) \\\\\n",
    "            & = P(B\\mid A) P(A) \\\\\n",
    "\\end{aligned}\n",
    "\\end{equation}\n",
    "$$\n",
    "\n",
    "so dividing both sides by $P(B)$ gives the above theorem.\n",
    "\n",
    "In here we usually think of A as being our hypothesis, and B as our observed data, so\n",
    "\n",
    "$$ P(hypothesis \\mid data) = \\frac{P(data \\mid hypothesis) P(hypothesis)}{P(data)}$$\n",
    "\n",
    "where\n",
    "$$ P(data \\mid hypothesis) \\text{ is the likelihood} \\\\\n",
    "P(hypothesis) \\text{ is the prior probability} \\\\\n",
    "P(hypothesis \\mid data) \\text{ is the posterior probability} \\\\\n",
    "P(data) \\text{ is the normalizing constant} \\\\\n",
    "$$\n",
    "\n"
   ]
  },
  {
   "cell_type": "markdown",
   "metadata": {},
   "source": [
    "### Example: the cookie problem\n",
    "\n",
    "Bowl A has 30 vanilla cookies and 10 chocolate cookies; bowl B has 20 of each. You pick a bowl at random and draw a cookie. Assuming the cookie is vanilla, what's the probability it comes from bowl A?"
   ]
  },
  {
   "cell_type": "code",
   "execution_count": null,
   "metadata": {
    "collapsed": true
   },
   "outputs": [],
   "source": []
  },
  {
   "cell_type": "markdown",
   "metadata": {},
   "source": [
    "### Example: two-sided coins\n",
    "\n",
    "There are three coins in a bag, one with two heads, another with two tails, another with a head and a tail. You pick one and flip it, getting a head. What's the probability of getting a head on the next flip?"
   ]
  },
  {
   "cell_type": "code",
   "execution_count": null,
   "metadata": {
    "collapsed": true
   },
   "outputs": [],
   "source": []
  },
  {
   "cell_type": "markdown",
   "metadata": {},
   "source": [
    "## Law of Total Probability\n",
    "\n",
    "If {B_n} is a partition of all possible options, then\n",
    "\n",
    "$$\\begin{align}\n",
    "P(A) & = \\sum_j P(A \\cap B_j) \\\\\n",
    "     & = \\sum_j P(A \\mid B_j) \\cdot P(B_j)\n",
    "\\end{align}\n",
    "$$\n"
   ]
  },
  {
   "cell_type": "markdown",
   "metadata": {},
   "source": [
    "## Probability chain rule\n",
    "\n",
    "\n",
    "$$\\begin{align}\n",
    "P(A_n, A_{n-1}, ..., A_1) & = P(A_n \\mid A_{n-1},...,A_1) \\cdot P(A_{n-1},...,A_1) \\\\\n",
    " & = P(A_n \\mid A_{n-1},...,A_1) \\cdot P(A_{n-1} \\mid A_{n-2},...,A_1) \\cdot P(A_{n-1},...,A_1) \\\\\n",
    " & = \\prod_{j=1}^n P(A_j \\mid A_{j-1},...,A_1)\n",
    "\\end{align}\n",
    "$$"
   ]
  },
  {
   "cell_type": "code",
   "execution_count": null,
   "metadata": {
    "collapsed": true
   },
   "outputs": [],
   "source": []
  },
  {
   "cell_type": "markdown",
   "metadata": {},
   "source": [
    "# Afternoon Lecture"
   ]
  },
  {
   "cell_type": "markdown",
   "metadata": {},
   "source": [
    "## Random Variables\n",
    "\n",
    "Given a sample space $S$, a *random variable* $X$ is a function $X(s): S \\mapsto \\mathbb{R}$\n",
    "\n",
    "* Use capital letters for probability, lower case for instances\n",
    "* We write $X \\sim XYZ(\\alpha, \\beta, ...)$ to mean a variable is distributed like $XYZ$\n",
    "  * E.g.: $X \\sim N(0,1)$\n"
   ]
  },
  {
   "cell_type": "markdown",
   "metadata": {},
   "source": [
    "## Distributions\n",
    "\n",
    "We're using `scipy.stats` for all distributions, since those follow a nice, object-oriented with all the relavant methods for each.\n",
    "\n",
    "Note that many distributions can be parameterized in different ways, e.g., one could talk about the mean and standard deviation of a normal curve, or the mean and the variance.\n",
    "\n",
    "There are two different ways the methods can be called:"
   ]
  },
  {
   "cell_type": "code",
   "execution_count": null,
   "metadata": {
    "collapsed": false
   },
   "outputs": [],
   "source": [
    "print scs.norm(0,1).rvs(10)\n",
    "print scs.norm.rvs(0,1,10)"
   ]
  },
  {
   "cell_type": "markdown",
   "metadata": {},
   "source": [
    "Although scipy documentation focuses on the second, I prefer the first (frozen) form because the parameter order is easier to remember and it's an object oriented approach. That said, the second might be more clear when using arrays for distribution parameters."
   ]
  },
  {
   "cell_type": "code",
   "execution_count": null,
   "metadata": {
    "collapsed": false
   },
   "outputs": [],
   "source": []
  },
  {
   "cell_type": "markdown",
   "metadata": {},
   "source": [
    "## Cumulative distribution function (CDF)\n",
    "\n",
    "The **cumulative distribution function** of a random variable X is\n",
    "\n",
    "$$F_X(x) = P(X \\le x)$$\n",
    "\n",
    "Properties\n",
    " * Increases monotomically\n",
    " * $0 \\le F_X(x) \\le 1$\n",
    " * $\\underset{x \\rightarrow -\\infty}{\\lim} F_X(x) = 0$\n",
    " * $\\underset{x \\rightarrow \\infty}{\\lim} F_X(x) = 1$\n",
    "\n",
    "For example:"
   ]
  },
  {
   "cell_type": "code",
   "execution_count": null,
   "metadata": {
    "collapsed": false
   },
   "outputs": [],
   "source": [
    "x = np.linspace(-1,7,100)\n",
    "plt.plot(x, scs.norm(3,1).cdf(x), label='N(3,1)')\n",
    "plt.plot(x, scs.uniform(0,6).cdf(x), label='U(0,6)')\n",
    "plt.plot(x, scs.binom(6,0.5).cdf(x), label='B(6,0.5)')\n",
    "plt.legend(loc='upper left')\n",
    "plt.ylabel('CDF')\n",
    "plt.ylim(ymin= -0.1, ymax=1.1)"
   ]
  },
  {
   "cell_type": "markdown",
   "metadata": {},
   "source": [
    "## Discrete distributions: probability mass function (PMF)\n",
    "\n",
    "The **probability mass function** gives the probability of a random variable with a **discrete distribution** having a particular value.\n",
    "\n",
    "$$f_X(x) = P(X=x), \\; \\forall \\; x$$\n",
    "\n",
    "$$\\sum_{X=x} f_X(x) = 1$$"
   ]
  },
  {
   "cell_type": "markdown",
   "metadata": {},
   "source": [
    "## Continuous distributions: probability density function (PDF)\n",
    "The **probability density function** is the derivative of the CDF and gives the relative probability of a random variable with a continuous distribution having a particular value.\n",
    "\n",
    "$$f_X(x)dx = P(x < X < x + dx)$$\n",
    "\n",
    "$$\\int_{-\\infty}^\\infty f_X(x)dx = 1$$"
   ]
  },
  {
   "cell_type": "code",
   "execution_count": null,
   "metadata": {
    "collapsed": false
   },
   "outputs": [],
   "source": [
    "plt.plot(x, scs.norm(3,1).pdf(x), label='N(3,1)')\n",
    "plt.plot(x, scs.uniform(0,6).pdf(x), label='U(0,6)')\n",
    "plt.legend(loc='upper left')\n",
    "plt.ylabel('PDF')\n",
    "plt.ylim(ymin=-0.1, ymax=0.5)"
   ]
  },
  {
   "cell_type": "markdown",
   "metadata": {},
   "source": [
    "## Quantile (percentile point function)\n",
    "\n",
    "The **quantile** function or **PPF** is the inverse of the CDF.\n",
    "\n",
    "$$Q_{\\alpha}(X) = \\underset{X}{\\min} { x: P(X \\leq x) \\geq \\alpha }$$"
   ]
  },
  {
   "cell_type": "code",
   "execution_count": null,
   "metadata": {
    "collapsed": false
   },
   "outputs": [],
   "source": [
    "print scs.norm(0,1).ppf(.025)\n",
    "print scs.norm(0,1).ppf(.975)"
   ]
  },
  {
   "cell_type": "code",
   "execution_count": null,
   "metadata": {
    "collapsed": true
   },
   "outputs": [],
   "source": []
  },
  {
   "cell_type": "markdown",
   "metadata": {},
   "source": [
    "## Properties of distributions\n",
    "\n",
    "### Expectation/mean\n",
    "The **expectation** or or mean of some function $g(x)$ of a random variable is::\n",
    "\n",
    "$$\\mu_{g(X)} = \\mathbb{E}(g(X))$$\n",
    "\n",
    "For a discrete distribution:\n",
    "$$\\mathbb{E}(g(X)) = \\sum_{s} g(s)f_X(s)$$\n",
    "$$\\mu_X = \\sum_{s} s \\cdot f_X(s)$$\n",
    "\n",
    "For a continuous distribution:\n",
    "\n",
    "$$\\mathbb{E}(g(X)) = \\int_{-\\infty}^\\infty g(s)f_X(s)ds$$\n",
    "$$\\mu_X = \\int_{-\\infty}^\\infty s \\cdot f(s)ds$$"
   ]
  },
  {
   "cell_type": "code",
   "execution_count": null,
   "metadata": {
    "collapsed": false
   },
   "outputs": [],
   "source": [
    "dist = scs.poisson(3)\n",
    "x = np.arange(0,100)\n",
    "pmf = dist.pmf(x)\n",
    "print \"Calculated mean: {}\".format(np.sum(x*pmf))\n",
    "print \"Actual mean: {}\".format(dist.mean())"
   ]
  },
  {
   "cell_type": "markdown",
   "metadata": {},
   "source": [
    "### Variance\n",
    "\n",
    "The variance is the spread of a distribution.\n",
    "\n",
    "$$\\mathtt{Var}(X) = \\sigma^2(x) = \\mathbb{E}((x - \\mu_x)^2)$$\n"
   ]
  },
  {
   "cell_type": "code",
   "execution_count": null,
   "metadata": {
    "collapsed": false
   },
   "outputs": [],
   "source": [
    "print \"Calculated variance: {}\".format(np.sum((x-dist.mean())**2*pmf))\n",
    "print \"Actual variance: {}\".format(dist.var())"
   ]
  },
  {
   "cell_type": "markdown",
   "metadata": {},
   "source": []
  },
  {
   "cell_type": "markdown",
   "metadata": {},
   "source": [
    "## Skew and kurtosis\n",
    "\n",
    "The **skew** and **kurtosis** of a distribution are higher-order moments.\n",
    "\n",
    "$$\\gamma_1 = \\mathbb{E}\\left(\\left(\\dfrac{X - \\mu}{\\sigma}\\right)^3\\right)$$\n",
    "\n",
    "$$\\kappa = \\mathbb{E}\\left(\\left(\\dfrac{X - \\mu}{\\sigma}\\right)^4\\right)$$"
   ]
  },
  {
   "cell_type": "code",
   "execution_count": null,
   "metadata": {
    "collapsed": false
   },
   "outputs": [],
   "source": [
    "print \"Calculated skew: {}\".format(np.sum(((x-dist.mean())/dist.std())**3*pmf))\n",
    "print \"Actual skew: {}\".format(dist.stats(moments='mvsk')[2])\n",
    "\n",
    "print \"Calculated kurtosis: {}\".format(np.sum(((x-dist.mean())/dist.std())**4*pmf))\n",
    "print \"Actual kurtosis: {}\".format(dist.stats(moments='mvsk')[3] + 3)"
   ]
  },
  {
   "cell_type": "markdown",
   "metadata": {},
   "source": [
    "What's with that \"+ 3\" in kurtosis?"
   ]
  },
  {
   "cell_type": "code",
   "execution_count": null,
   "metadata": {
    "collapsed": true
   },
   "outputs": [],
   "source": []
  },
  {
   "cell_type": "markdown",
   "metadata": {},
   "source": [
    "## Covariance\n",
    "\n",
    "Covarince is a measure of how much two random variables change together.\n",
    "\n",
    "$$\\begin{align}\n",
    "Cov(X, Y) & = E((X-\\mu_x)(Y-\\mu_y)) \\\\\n",
    "          & = E(XY) - E(X)E(Y)\n",
    "\\end{align}\n",
    "$$"
   ]
  },
  {
   "cell_type": "markdown",
   "metadata": {},
   "source": [
    "## Correlation\n",
    "\n",
    "Correlation is a version of correlation normalized by the variance of each.\n",
    "\n",
    "$$Corr(X,Y) = \\frac{Cov(X,Y)}{\\sigma_X \\sigma_Y} $$\n",
    "\n",
    "It measures the strength of the relationship between variables...but does not imply causation (https://xkcd.com/552/)"
   ]
  },
  {
   "cell_type": "markdown",
   "metadata": {},
   "source": [
    "## Marginal distribution\n",
    "\n",
    "The **marginal distribution** takes multivariate distribution and returns only a single dimension by summing (discrete) or integrating (continuous).\n",
    "\n",
    "$$\n",
    "f_X(x) = \\int_{-\\infty}^\\infty f_{XY}(x,y) dy\n",
    "$$"
   ]
  },
  {
   "cell_type": "markdown",
   "metadata": {},
   "source": [
    "## Anscombe's quartet\n",
    "\n",
    "Sometimes numbers aren't enough."
   ]
  },
  {
   "cell_type": "code",
   "execution_count": null,
   "metadata": {
    "collapsed": false
   },
   "outputs": [],
   "source": [
    "quartet = pd.DataFrame(\n",
    "    [[10.0,8.04,10.0,9.14,10.0,7.46,8.0,6.58],\n",
    "    [8.0,6.95,8.0,8.14,8.0,6.77,8.0,5.76],\n",
    "    [13.0,7.58,13.0,8.74,13.0,12.74,8.0,7.71],\n",
    "    [9.0,8.81,9.0,8.77,9.0,7.11,8.0,8.84],\n",
    "    [11.0,8.33,11.0,9.26,11.0,7.81,8.0,8.47],\n",
    "    [14.0,9.96,14.0,8.10,14.0,8.84,8.0,7.04],\n",
    "    [6.0,7.24,6.0,6.13,6.0,6.08,8.0,5.25],\n",
    "    [4.0,4.26,4.0,3.10,4.0,5.39,19.0,12.50],\n",
    "    [12.0,10.84,12.0,9.13,12.0,8.15,8.0,5.56],\n",
    "    [7.0,4.82,7.0,7.26,7.0,6.42,8.0,7.91],\n",
    "    [5.0,5.68,5.0,4.74,5.0,5.73,8.0,6.89]],\n",
    "    columns=['x1','y1','x2','y2','x3','y3','x4','y4'])\n",
    "\n",
    "fig=plt.figure()\n",
    "fig.add_subplot(221).scatter(quartet.x1, quartet.y1)\n",
    "fig.add_subplot(222).scatter(quartet.x2, quartet.y2)\n",
    "fig.add_subplot(223).scatter(quartet.x3, quartet.y3)\n",
    "fig.add_subplot(224).scatter(quartet.x4, quartet.y4)"
   ]
  },
  {
   "cell_type": "code",
   "execution_count": null,
   "metadata": {
    "collapsed": true
   },
   "outputs": [],
   "source": []
  },
  {
   "cell_type": "code",
   "execution_count": null,
   "metadata": {
    "collapsed": true
   },
   "outputs": [],
   "source": []
  },
  {
   "cell_type": "markdown",
   "metadata": {},
   "source": [
    "## Common distributions\n",
    "\n",
    "Distributions are specified by one of more parameters, which can often be specified in different ways. The are sometimes clasified as *location parameters*, *scale parameters*, or *shape parameters*."
   ]
  },
  {
   "cell_type": "code",
   "execution_count": null,
   "metadata": {
    "collapsed": true
   },
   "outputs": [],
   "source": [
    "def generate_label(param_names, param_values):\n",
    "    '''generate parameter labels for the legend'''\n",
    "    params = [ \"{}={}\".format(name,value) for name,value\n",
    "                       in zip(param_names, param_values)\n",
    "                       if name is not None ]\n",
    "    return \",\".join(params)"
   ]
  },
  {
   "cell_type": "code",
   "execution_count": null,
   "metadata": {
    "collapsed": true
   },
   "outputs": [],
   "source": [
    "def draw_pmf_grid(ax, dist, param_names, param_values, xpts):\n",
    "    '''draw a pmf as part of a set of pmfs'''\n",
    "    label = generate_label(param_names, param_values)\n",
    "\n",
    "    ax.bar(xpts, [dist(*param_values).pmf(x) for x in xpts], label=label, align='center')\n",
    "    \n",
    "def draw_pmfs_grid(dist, param_names, param_values_list, xpts, figsize=(8,6)):\n",
    "    '''draw several pmfs for for various parameter values for a given distribution'''\n",
    "    fig = plt.figure(figsize=figsize)\n",
    "    \n",
    "\n",
    "    for i, param_values in enumerate(param_values_list, start=1):\n",
    "        if i == 1:\n",
    "            ax = ax1 = fig.add_subplot(len(param_values_list), 1, i)\n",
    "        else:\n",
    "            ax = fig.add_subplot(len(param_values_list), 1, i, sharey=ax1)\n",
    "\n",
    "        draw_pmf_grid(ax, dist, param_names, param_values, xpts)\n",
    "        ax.set_ylabel('pmf')\n",
    "        ax.set_ylim(ymin=0)\n",
    "        ax.set_xlim(xmin=min(xpts)-.5, xmax=max(xpts)+.5)\n",
    "        ax.legend()\n",
    "    plt.show() "
   ]
  },
  {
   "cell_type": "code",
   "execution_count": null,
   "metadata": {
    "collapsed": false
   },
   "outputs": [],
   "source": [
    "def draw_pdf(ax, dist, param_names, param_values, xpts):\n",
    "    '''draw a pdf of a given distribution for given parameters'''\n",
    "    label = generate_label(param_names, param_values)\n",
    "    ax.plot(xpts, [dist(*param_values).pdf(x) for x in xpts], label=label)\n",
    "    \n",
    "def draw_pdfs(dist, param_names, param_values_list, xmin, xmax, figsize=(8,6)):\n",
    "    '''draw several pdfs for for various parameter values for a given distribution'''\n",
    "    fig = plt.figure(figsize=figsize)\n",
    "    ax = fig.gca()\n",
    "    xpts = np.linspace(xmin, xmax, 100)\n",
    "\n",
    "    for param_values in param_values_list:\n",
    "        draw_pdf(ax, dist, param_names, param_values, xpts)\n",
    "    ax.set_ylabel('pdf')\n",
    "    ax.legend()\n",
    "    plt.show() "
   ]
  },
  {
   "cell_type": "markdown",
   "metadata": {},
   "source": [
    "## Discrete disbributions"
   ]
  },
  {
   "cell_type": "markdown",
   "metadata": {},
   "source": [
    "### Bernoulli distribution\n",
    "\n",
    "The [**Bernoulli distribution**](https://en.wikipedia.org/wiki/Bernoulli_distribution) is the simplest discrete distribution. It has one parameter $p$ and a support of $\\{0, 1\\}$ and a probability mass function and cumulative distribution function of\n",
    "\n",
    "$$  pmf(k;p) = \\begin{cases}\n",
    "      1-p, & \\text{if}\\ k=0 \\\\\n",
    "      p, & \\text{if}\\ k=1\n",
    "    \\end{cases}\n",
    "$$\n",
    "\n",
    "$$  F(k;p) = \\begin{cases}\n",
    "      0, & \\text{for}\\ k<0 \\\\\n",
    "      1-p, & \\text{for}\\ 0 \\le k<1 \\\\\n",
    "      1, & \\text{for}\\ k \\ge1 \\\\\n",
    "    \\end{cases}\n",
    "$$\n",
    "It can be seen as being generated by flipping a (unfair) coin."
   ]
  },
  {
   "cell_type": "code",
   "execution_count": null,
   "metadata": {
    "collapsed": false
   },
   "outputs": [],
   "source": [
    "draw_pmfs_grid(scs.bernoulli, ('p'), [(.25,), (.5,), (.75,)], [0,1])"
   ]
  },
  {
   "cell_type": "markdown",
   "metadata": {},
   "source": [
    "### Binomial distribution\n",
    "\n",
    "The [**Binomial distribution**](https://en.wikipedia.org/wiki/Binomial_distribution) is generated by adding together $n$ Bernoulii distributions. The probability mass function is\n",
    "\n",
    "$$pmf(k;n,p) = {n \\choose k} p^k (1-p)^{n-k} $$\n",
    "\n",
    "This comes from the fact that there are $n \\choose k$ ways in which the underlying Bernoulli distributions can have values of 1 or 0."
   ]
  },
  {
   "cell_type": "code",
   "execution_count": null,
   "metadata": {
    "collapsed": true
   },
   "outputs": [],
   "source": []
  },
  {
   "cell_type": "code",
   "execution_count": null,
   "metadata": {
    "collapsed": false
   },
   "outputs": [],
   "source": [
    "draw_pmfs_grid(scs.binom, ('n', 'p'), [(1,.5), (2,.5), (3,.5), (4,.5), (5,.5), (6,.5)], range(0,7))"
   ]
  },
  {
   "cell_type": "code",
   "execution_count": null,
   "metadata": {
    "collapsed": false
   },
   "outputs": [],
   "source": [
    "draw_pmfs_grid(scs.binom, ('n', 'p'), [(5,.5), (10,.5), (20,.5), (40,.5)], range(0,41))"
   ]
  },
  {
   "cell_type": "code",
   "execution_count": null,
   "metadata": {
    "collapsed": false
   },
   "outputs": [],
   "source": [
    "draw_pmfs_grid(scs.binom, ('n', 'p'), [(10,.1), (10,.2), (10,.3), (10,.3), (10,.5)], range(0,11))"
   ]
  },
  {
   "cell_type": "markdown",
   "metadata": {},
   "source": [
    "### Hypergeometric distribution\n",
    "\n",
    "The [**Hypergeometric distribution**](https://en.wikipedia.org/wiki/Hypergeometric_distribution) is a generalization of the binomial distribution, but rather than each success or failure an independent event with probability $p$ of success, they are calculated by randomly selecting from a set of $N$ objects of which $K$ are successes, *without* replacement.\n",
    "\n",
    "$$pdf(k; N,K,n) = \\frac{{K \\choose k}{N-K \\choose n-k}}{N \\choose n}$$"
   ]
  },
  {
   "cell_type": "code",
   "execution_count": null,
   "metadata": {
    "collapsed": false
   },
   "outputs": [],
   "source": [
    "draw_pmfs_grid(scs.hypergeom, ('N', 'K', 'n'), [(10,5,10),(12,6,10),(14,8,10),(16,8,10),(18,9,10),(20,10,10)], range(0,11))"
   ]
  },
  {
   "cell_type": "markdown",
   "metadata": {},
   "source": [
    "### Negative binomial distribution\n",
    "\n",
    "Another related distribution is the [**Negative binomial distribution**](https://en.wikipedia.org/wiki/Negative_binomial_distribution) with parameters $p$ and $r$ and a pmf of\n",
    "\n",
    "$$pmf(k; n,p) = {k+n-1 \\choose k} (1-p)^n p^k$$\n",
    "\n",
    "Rather than measuring the number of successes out of $n$ trials, it measures the number of successes until there have been $n$ failures."
   ]
  },
  {
   "cell_type": "code",
   "execution_count": null,
   "metadata": {
    "collapsed": false
   },
   "outputs": [],
   "source": [
    "draw_pmfs_grid(scs.nbinom, ('n', 'p'), [(1,.5), (2,.5), (4,.5), (8,.5)], range(0,20))"
   ]
  },
  {
   "cell_type": "code",
   "execution_count": null,
   "metadata": {
    "collapsed": true
   },
   "outputs": [],
   "source": []
  },
  {
   "cell_type": "markdown",
   "metadata": {},
   "source": [
    "### Geometric distribution\n",
    "\n",
    "The [**Geometric distribution**](https://en.wikipedia.org/wiki/Geometric_distribution) is a special case of the negative binomial distribution for $n=1$, so just has one parameter $p$. Alternatively, the negative binomial is the sum of geometric distributions, in the same way the binomial is the sum of Bernoulli distributions. The pmf is\n",
    "\n",
    "$$pmf(k; p) = (1-p)^{k-1}p$$"
   ]
  },
  {
   "cell_type": "code",
   "execution_count": null,
   "metadata": {
    "collapsed": false
   },
   "outputs": [],
   "source": [
    "draw_pmfs_grid(scs.geom, ('p'), [(.25,), (.5,), (.75,)], range(1,10))"
   ]
  },
  {
   "cell_type": "markdown",
   "metadata": {},
   "source": [
    "### Poisson distribution\n",
    "\n",
    "The [**Poisson distribution**](https://en.wikipedia.org/wiki/Poisson_distribution) represents to probability that, assuming some rate of independent events some number of events will happen. The pmf is\n",
    "\n",
    "$$pmf(k; \\lambda) = \\frac{\\lambda^k e^-\\lambda}{k!}$$"
   ]
  },
  {
   "cell_type": "code",
   "execution_count": null,
   "metadata": {
    "collapsed": false
   },
   "outputs": [],
   "source": [
    "draw_pmfs_grid(scs.poisson, ('lambda',), [(1,), (2,), (4,), (8,)], range(15))"
   ]
  },
  {
   "cell_type": "code",
   "execution_count": null,
   "metadata": {
    "collapsed": false
   },
   "outputs": [],
   "source": []
  },
  {
   "cell_type": "markdown",
   "metadata": {},
   "source": [
    "## Continuous distributions"
   ]
  },
  {
   "cell_type": "markdown",
   "metadata": {},
   "source": [
    "### Normal distribution\n",
    "\n",
    "\n",
    "The [**normal distribution**](https://en.wikipedia.org/wiki/Normal_distribution) is the most important distribution due to the *central limit theorem* which will be covered later. The pdf is\n",
    "\n",
    "$$pmf(x; \\mu,\\sigma) = \\frac{1}{\\sigma \\sqrt{2\\pi}} e^{-\\frac{(x-\\mu)^2}{2\\sigma}}$$\n"
   ]
  },
  {
   "cell_type": "code",
   "execution_count": null,
   "metadata": {
    "collapsed": false
   },
   "outputs": [],
   "source": [
    "draw_pdfs(scs.norm, (\"mean\", \"sd\"), [(0,1),(0,2),(0,4)], -10, 10)"
   ]
  },
  {
   "cell_type": "markdown",
   "metadata": {},
   "source": [
    "### Beta distribution\n",
    "The [**beta distribution**](https://en.wikipedia.org/wiki/Beta_distribution) is mostly used as the [conjugate prior](https://en.wikipedia.org/wiki/Conjugate_prior) to the binomial distribution in Bayesian statistics, but it can also be seen as the distribution of an [order statistic](https://en.wikipedia.org/wiki/Order_statistic) of uniformly-distributed random variables.\n",
    "\n",
    "Consider $\\alpha + \\beta - 1$ numbers choosed from $U(0,1)$. The $\\alpha^{th}$ largest number follows the distribution $Beta(\\alpha, \\beta)$. The pdf is given by\n",
    "\n",
    "$$pdf(x; \\alpha, \\beta) = \\frac{x^{\\alpha-1}(1-x)^{\\beta-1}}{B(\\alpha,\\beta)}$$"
   ]
  },
  {
   "cell_type": "code",
   "execution_count": null,
   "metadata": {
    "collapsed": false
   },
   "outputs": [],
   "source": []
  },
  {
   "cell_type": "code",
   "execution_count": null,
   "metadata": {
    "collapsed": false
   },
   "outputs": [],
   "source": [
    "draw_pdfs(scs.beta, (\"alpha\", \"beta\"), [(1,5),(2,4),(3,3),(4,2),(5,1)], 0, 1)"
   ]
  },
  {
   "cell_type": "code",
   "execution_count": null,
   "metadata": {
    "collapsed": false,
    "scrolled": true
   },
   "outputs": [],
   "source": [
    "draw_pdfs(scs.beta, (\"alpha\", \"beta\"), [(1,1),(2,2),(3,3),(4,4),(5,5)], 0, 1)"
   ]
  },
  {
   "cell_type": "markdown",
   "metadata": {},
   "source": [
    "### Gamma distribution\n",
    "\n",
    "The [**Gamma distribution**](https://en.wikipedia.org/wiki/Gamma_distribution) is the conjugate of the beta distribution. Rather than looking at the distribution of events that occur over a given amount of time, the gamma distribution shows the time before some given number of events occurs. The pmf is given by\n",
    "\n",
    "$$pmf(x; k, \\theta) = \\frac{1}{\\Gamma(k)\\theta^k} x^{k-1}e^{-\\frac{x}{\\theta}}$$"
   ]
  },
  {
   "cell_type": "code",
   "execution_count": null,
   "metadata": {
    "collapsed": false
   },
   "outputs": [],
   "source": [
    "draw_pdfs(scs.gamma, (\"k\", None, \"theta\"), [(1,0,1),(2,0,1),(3,0,1),(4,0,1),(5,0,1)], 0, 10)"
   ]
  },
  {
   "cell_type": "code",
   "execution_count": null,
   "metadata": {
    "collapsed": false
   },
   "outputs": [],
   "source": [
    "draw_pdfs(scs.gamma, (\"k\", None, \"theta\"), [(2,0,1),(2,0,2),(2,0,3),(2,0,4)], 0, 10)"
   ]
  },
  {
   "cell_type": "markdown",
   "metadata": {},
   "source": [
    "### Exponential distribution\n",
    "\n",
    "The [**exponential distribution**](https://en.wikipedia.org/wiki/Exponential_distribution) is a special case of the gamma distribution for $k=0$. The pdf is given by\n",
    "\n",
    "$$pdf(x; \\theta) = \\frac{1}{\\theta} e^{-\\frac{x}{\\theta}}$$\n",
    "\n",
    "though it's usually parameterized with $\\lambda = \\frac{1}{\\theta}$."
   ]
  },
  {
   "cell_type": "code",
   "execution_count": null,
   "metadata": {
    "collapsed": false
   },
   "outputs": [],
   "source": [
    "draw_pdfs(scs.expon, (None, \"theta\"), [(0,1),(0,2),(0,4)], 0, 10)"
   ]
  },
  {
   "cell_type": "code",
   "execution_count": null,
   "metadata": {
    "collapsed": true
   },
   "outputs": [],
   "source": []
  }
 ],
 "metadata": {
  "kernelspec": {
   "display_name": "Python 2",
   "language": "python",
   "name": "python2"
  },
  "language_info": {
   "codemirror_mode": {
    "name": "ipython",
    "version": 2
   },
   "file_extension": ".py",
   "mimetype": "text/x-python",
   "name": "python",
   "nbconvert_exporter": "python",
   "pygments_lexer": "ipython2",
   "version": "2.7.12"
  }
 },
 "nbformat": 4,
 "nbformat_minor": 0
}
