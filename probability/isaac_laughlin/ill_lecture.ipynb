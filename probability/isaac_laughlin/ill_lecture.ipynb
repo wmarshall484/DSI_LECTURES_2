{
 "cells": [
  {
   "cell_type": "markdown",
   "metadata": {
    "slideshow": {
     "slide_type": "slide"
    }
   },
   "source": [
    "# Probability\n",
    "\n",
    "## Objectives\n",
    "\n",
    "* Probability, definitions and concepts\n",
    "* Combinatorics, definitions and concepts\n",
    "* Know how to reason about random variables\n",
    "* Be able to choose probability distributions to model things appropriate"
   ]
  },
  {
   "cell_type": "markdown",
   "metadata": {
    "slideshow": {
     "slide_type": "slide"
    }
   },
   "source": [
    "# Probability defintions\n",
    "\n",
    "## Sets\n",
    "The range of all possible outcomes or events, also called the sample space.\n",
    " * Coin flips\n",
    " * Cookies\n",
    " * Heights\n",
    " * Number of slices of pizza eaten before 10 am\n",
    " \n"
   ]
  },
  {
   "cell_type": "markdown",
   "metadata": {
    "slideshow": {
     "slide_type": "slide"
    }
   },
   "source": [
    "## Set Operations\n",
    "\n",
    "Union: $ A \\cup B = \\{x: x \\in A \\vee x\\in B\\}$\n",
    "\n",
    "Intersection: $ A \\cap B = \\{x: x \\in A \\wedge x\\in B\\}$\n",
    "\n",
    "Difference: $ A \\setminus B = \\{x: x \\in A \\wedge x \\notin B\\}$\n",
    "\n",
    "Complement: $ A^C = \\{x: x\\notin A\\} $\n",
    "\n",
    "The null (empty) set: $ \\emptyset $\n",
    "\n",
    "### DeMorgan's Law\n",
    "\n",
    "$ \\neg (A \\vee B) \\iff \\neg A \\wedge \\neg B $\n",
    "\n",
    "$ \\neg (A \\wedge B) \\iff \\neg A \\vee \\neg B $"
   ]
  },
  {
   "cell_type": "markdown",
   "metadata": {
    "slideshow": {
     "slide_type": "slide"
    }
   },
   "source": [
    "# Combinatorics\n",
    "\n",
    "The mathematics of ordering, choosing sets, etc. Useful for counting events in your sample space.\n",
    "\n",
    "## Factorial\n",
    "If there are 10 lottery balls and we want draw them all, how many possible orderings are there?\n",
    "\n",
    "## Combinations\n",
    "Number of ways to choose things when order doesn't matter\n",
    "\n",
    "How many different pairs are there for afternoons sprints with 24 students?\n",
    "\n",
    "## Permutations\n",
    "Number of ways to choose things when order does matter.\n",
    "\n",
    "On a baseball team with 20 players, how many different batting orders are there?"
   ]
  },
  {
   "cell_type": "markdown",
   "metadata": {
    "slideshow": {
     "slide_type": "slide"
    }
   },
   "source": [
    "# Probability\n",
    "\n",
    "So far we only have a notion of sets, not of probability, what assumption do we rely on when we do basic set-based calculations, like cards?\n",
    "\n",
    "What're examples of some sets where this assumption might be unjustifiable?"
   ]
  },
  {
   "cell_type": "markdown",
   "metadata": {
    "collapsed": true,
    "slideshow": {
     "slide_type": "slide"
    }
   },
   "source": [
    "# Formal Probability\n",
    "\n",
    "For some sample space $S$, a probability function $P$ has three properties:\n",
    "\n",
    "$ P(A) \\ge 0 \\forall A \\in S $\n",
    "\n",
    "$ P(S) = 1 $\n",
    "\n",
    "$ \\forall A_i, A_j : A_i \\cap A_j = \\emptyset \\Rightarrow P(A_i \\cup A_j) = P(A_i) + P(A_j) $\n"
   ]
  },
  {
   "cell_type": "markdown",
   "metadata": {
    "slideshow": {
     "slide_type": "slide"
    }
   },
   "source": [
    "# Independence\n",
    "\n",
    "Events are independent (notation $ A\\bot B$) if:\n",
    "\n",
    "$$\n",
    "P(A\\cap B) = P(A)P(B)\n",
    "$$\n",
    "\n",
    "Or, equivalently\n",
    "\n",
    "$$\n",
    "P(A|B) = P(A)\n",
    "$$\n",
    "\n",
    "The above is known as _conditional_ probability.\n",
    "\n",
    "## Check understanding\n",
    "* How could we use the definition of independence to test whether two events are independent?\n",
    "* What does knowing that B has occurred tell us about the likelihood of A?\n",
    " * Under independence?\n",
    " * Without independence?"
   ]
  },
  {
   "cell_type": "markdown",
   "metadata": {
    "slideshow": {
     "slide_type": "slide"
    }
   },
   "source": [
    "# Urns\n",
    "\n",
    "> Bernoulli used the Latin word urna, which primarily means a clay vessel, but is also the term used in ancient Rome for a vessel of any kind for collecting ballots or lots; the present-day Italian word for ballot box is still urna. Bernoulli's inspiration may have been lotteries, elections, or games of chance which involved drawing balls from a container\n",
    "\n",
    "![Urn](http://i.dailymail.co.uk/i/pix/2015/01/29/article-urn:publicid:ap.org:fdadbd9d25a243bf92584d7b33ed6c20-6VwuLK88NHSK2-758_634x422.jpg)\n"
   ]
  },
  {
   "cell_type": "markdown",
   "metadata": {
    "slideshow": {
     "slide_type": "slide"
    }
   },
   "source": [
    "# A problem\n",
    "\n",
    "Three coins are in an Urn, HH, HT, and TT.\n",
    "\n",
    "Pull out a coin and flip it. It comes up H.\n",
    "\n",
    "What is the probability it comes out H if you flip it a second time?"
   ]
  },
  {
   "cell_type": "markdown",
   "metadata": {
    "slideshow": {
     "slide_type": "slide"
    }
   },
   "source": [
    "# Solution\n",
    "\n",
    "$ P(X_1 = H) = 1/2 $\n",
    "\n",
    "$ P(X_2 = H | X_1 = H) = \\frac{5}{6} \\ne \\frac{1}{2} = P(X_2=H) $\n",
    "\n",
    "# Conditional probability\n",
    "\n",
    "$ P(B|A) = P(A \\cap B) / P(A) $\n",
    "\n",
    "in other words\n",
    "\n",
    "$ P(X_2=H | X_1=H) = P(X_2 = H \\cap X_1 = H) / P(X_1=H) = \\frac{\\frac{1}{3} + \\frac{1}{3}\\frac{1}{4}}{\\frac{1}{2}}$\n"
   ]
  },
  {
   "cell_type": "code",
   "execution_count": 1,
   "metadata": {
    "collapsed": false,
    "slideshow": {
     "slide_type": "slide"
    }
   },
   "outputs": [
    {
     "data": {
      "text/html": [
       "<div>\n",
       "<table border=\"1\" class=\"dataframe\">\n",
       "  <thead>\n",
       "    <tr style=\"text-align: right;\">\n",
       "      <th></th>\n",
       "      <th>second</th>\n",
       "    </tr>\n",
       "    <tr>\n",
       "      <th>first</th>\n",
       "      <th></th>\n",
       "    </tr>\n",
       "  </thead>\n",
       "  <tbody>\n",
       "    <tr>\n",
       "      <th>False</th>\n",
       "      <td>0.163423</td>\n",
       "    </tr>\n",
       "    <tr>\n",
       "      <th>True</th>\n",
       "      <td>0.827357</td>\n",
       "    </tr>\n",
       "  </tbody>\n",
       "</table>\n",
       "</div>"
      ],
      "text/plain": [
       "         second\n",
       "first          \n",
       "False  0.163423\n",
       "True   0.827357"
      ]
     },
     "execution_count": 1,
     "metadata": {},
     "output_type": "execute_result"
    }
   ],
   "source": [
    "import random\n",
    "import pandas as pd\n",
    "coins = ['HH', 'HT', 'TT']\n",
    "results = []\n",
    "for i in range(10000):\n",
    "    coin = random.choice(coins)\n",
    "    results.append([random.choice(coin) for i in [1,2]])\n",
    "df = pd.DataFrame(results, columns=['first', 'second']) == 'H'\n",
    "df.groupby('first').mean()\n"
   ]
  },
  {
   "cell_type": "markdown",
   "metadata": {
    "slideshow": {
     "slide_type": "slide"
    }
   },
   "source": [
    "# Probability Chain Rule\n",
    "\n",
    "Under independence?\n",
    "\n",
    "$ P(X_1, X_2, X_3) = ? $\n",
    "\n",
    "Not under independence?\n",
    "\n",
    "$ P(X_1|X_2, X_3) P(X_2|X_3) P(X_3) $\n",
    "\n",
    "More generally:\n",
    "\n",
    "$ P(\\cap_{i}^nX_i) = \\prod_i^n P(X_i | \\cap_k^{i-1} X_k) $"
   ]
  },
  {
   "cell_type": "markdown",
   "metadata": {
    "slideshow": {
     "slide_type": "slide"
    }
   },
   "source": [
    "# Law of Total Probability\n",
    "\n",
    "If $\\{B_n\\}$ is a partition of a sample space $ A $, meaning $ \\cup_i B_i = A$ and $B_i \\cap B_j=\\emptyset \\forall i, j$\n",
    "\n",
    "Then \n",
    "\n",
    "$ P(A) = \\sum P(A\\cap B_i) $\n",
    "\n",
    "or\n",
    "\n",
    "$ P(A) = \\sum P(A|B_i) P(B_i)$\n",
    "\n",
    "And we call A the marginal distribution of B"
   ]
  },
  {
   "cell_type": "markdown",
   "metadata": {
    "slideshow": {
     "slide_type": "slide"
    }
   },
   "source": [
    "# A Famous Rule and a Famously Counterintuitive Example\n",
    "\n",
    "## Bayes Rule\n",
    "Allows us to compute $P(B|A)$ using information about $P(A|B)$\n",
    "\n",
    "$$\n",
    "P(B|A) = \\frac{P(A|B)P(B)}{P(A)}\n",
    "$$\n",
    "\n",
    "## Example\n",
    "|Conditional Events | Probability |\n",
    "| --------- | ----------- |\n",
    "| $ P(+&#124;doped)$ | .99 |\n",
    "| $ P(+&#124;clean)$ | .05 |\n",
    "| $P(doped)$ | .005 |\n",
    "\n",
    "What is $ P(doped | +) $?\n",
    "\n",
    "What would help with this?"
   ]
  },
  {
   "cell_type": "markdown",
   "metadata": {
    "slideshow": {
     "slide_type": "slide"
    }
   },
   "source": [
    "![](http://usercontent2.hubimg.com/3821609_f520.jpg)"
   ]
  },
  {
   "cell_type": "markdown",
   "metadata": {
    "slideshow": {
     "slide_type": "slide"
    }
   },
   "source": [
    "# Random Variables\n",
    "\n",
    "Random variables formalize a mapping we have been implicitly using already:\n",
    "\n",
    "$ X(s) : S\\Rightarrow \\Re $\n",
    "\n",
    "* Capital letters refer to random variables.\n",
    "* Lowercase to refer to specific realization.\n",
    "* $P(X=x) = P(\\{s\\in S : X(s) = x\\})$ \n",
    "* $ X \\sim XYZ(\\alpha, \\beta, ...) $ means X is distributed as, XYZ with parameters.\n",
    "* \"i.i.d.\""
   ]
  },
  {
   "cell_type": "markdown",
   "metadata": {
    "slideshow": {
     "slide_type": "slide"
    }
   },
   "source": [
    "# Cumulative distribution function\n",
    "\n",
    "$ F_X(x) = P(X < x) $\n",
    "\n",
    "What kinds of bounds can we put on this function?\n",
    "\n",
    "This works for both continuous and discrete functions."
   ]
  },
  {
   "cell_type": "markdown",
   "metadata": {
    "slideshow": {
     "slide_type": "slide"
    }
   },
   "source": [
    "# Probability mass function, PMF\n",
    "\n",
    "For discrete variables:\n",
    "\n",
    "$ f_X(x) = P(X = x), \\forall x $\n",
    "\n",
    "For continuous variables, think of it as the derivative of the CDF:\n",
    "\n",
    "$ f_X(x)dx = P(x < X < x+dx) $\n",
    "\n",
    "$ f_X(x) = \\frac{dF_X(x)}{dx} $"
   ]
  },
  {
   "cell_type": "markdown",
   "metadata": {
    "slideshow": {
     "slide_type": "slide"
    }
   },
   "source": [
    "# Expectation\n",
    "Discrete:\n",
    "$ E[X] = \\sum_{s\\in S} X(s) f_X(s) $\n",
    "\n",
    "Continuous:\n",
    "$ E[X] = \\int_{-\\infty}^{\\infty}X(s) f_X(s)ds$\n",
    "\n",
    "A measure, but not the only one, of the central tendecy of a distribution. Alternatives?\n",
    "\n",
    "Note, the sample mean is:\n",
    "\n",
    "$ \\bar{x} = \\frac{1}{n}\\sum_j^n x_j $"
   ]
  },
  {
   "cell_type": "markdown",
   "metadata": {
    "slideshow": {
     "slide_type": "slide"
    }
   },
   "source": [
    "# Variance\n",
    "\n",
    "$ Var[x] = E[(x - E[X])^2] $\n",
    "\n",
    "What are the units?\n",
    "\n",
    "Note, the sample variance is:\n",
    "\n",
    "$ s^2 = \\frac{1}{n-1} \\sum_j^n (x_j - \\bar{x})^2 $\n",
    "\n",
    "# Standard deviation\n",
    "\n",
    "$ \\sigma(x) = \\sqrt{Var[x]} $\n",
    "\n",
    "Useful because its units are in units of our original RV.\n"
   ]
  },
  {
   "cell_type": "markdown",
   "metadata": {
    "slideshow": {
     "slide_type": "slide"
    }
   },
   "source": [
    "# Covariance\n",
    "We can also compute the covariance between two different variables:\n",
    "\n",
    "$Cov[X,Y] = E[(x - E[X])(y - E[Y])]$\n",
    "\n",
    "Which is related to the\n",
    "\n",
    "# Correlation\n",
    "\n",
    "$ Corr[X,Y] = \\frac{E[(x - E[X])(y - E[Y])]}{\\sigma(X)\\sigma(Y)} = \\frac{Cov[X,Y]}{\\sigma(X)\\sigma(Y)}$ "
   ]
  },
  {
   "cell_type": "markdown",
   "metadata": {
    "slideshow": {
     "slide_type": "slide"
    }
   },
   "source": [
    "# Marginal Distributions\n",
    "\n",
    "Marginal distribution takes a--possibly not independent--multivariate distribution. And considers only a single dimension.\n",
    "\n",
    "Accomplished by summing (discrete) or integrating (continuous).\n",
    "\n",
    "$$\n",
    "f_X(x) = \\int_{-\\infty}^\\infty f_{XY}(x,s) ds\n",
    "$$"
   ]
  },
  {
   "cell_type": "markdown",
   "metadata": {
    "slideshow": {
     "slide_type": "slide"
    }
   },
   "source": [
    "# Example:\n",
    "\n",
    "![](https://upload.wikimedia.org/wikipedia/commons/8/8e/MultivariateNormal.png)"
   ]
  },
  {
   "cell_type": "markdown",
   "metadata": {
    "slideshow": {
     "slide_type": "slide"
    }
   },
   "source": [
    "# Discrete case:\n",
    "|x1|x2|\tx3|\tx4|\tpy(Y)\n",
    "--|--|--|--|--\n",
    "y1|$\\frac{4}{32}$|$\\frac{2}{32}$|$\\frac{1}{32}$|$\\frac{1}{32}$|$\\frac{8}{32}$\n",
    "y2|$\\frac{2}{32}$|$\\frac{4}{32}$|$\\frac{1}{32}$|$\\frac{1}{32}$|$\\frac{8}{32}$\n",
    "y3|$\\frac{2}{32}$|$\\frac{2}{32}$|$\\frac{2}{32}$|$\\frac{2}{32}$|$\\frac{8}{32}$\n",
    "y4|$\\frac{8}{32}$|0|0|0|$\\frac{8}{32}$\n",
    "px(X)|?|?|?|?|?"
   ]
  },
  {
   "cell_type": "markdown",
   "metadata": {
    "slideshow": {
     "slide_type": "slide"
    }
   },
   "source": [
    "# Conditional Distributions\n",
    "\n",
    "$$\n",
    "f(y|x) = \\frac{f_{XY}(x,y)}{f_X(x)}\n",
    "$$\n",
    "\n",
    "How would we relate that to the images we just saw?\n",
    "\n",
    "Why might this type of conditional probability be important in data science?"
   ]
  },
  {
   "cell_type": "markdown",
   "metadata": {
    "slideshow": {
     "slide_type": "slide"
    }
   },
   "source": [
    "# Anscombe's quartet"
   ]
  },
  {
   "cell_type": "code",
   "execution_count": 1,
   "metadata": {
    "collapsed": false,
    "slideshow": {
     "slide_type": "skip"
    }
   },
   "outputs": [
    {
     "name": "stdout",
     "output_type": "stream",
     "text": [
      "Populating the interactive namespace from numpy and matplotlib\n"
     ]
    }
   ],
   "source": [
    "from numpy import array, amin, amax\n",
    "%pylab inline\n",
    "\n",
    "def fit(x):\n",
    "    return 3+0.5*x\n",
    "\n",
    "def anscombe():\n",
    "    x =  array([10, 8, 13, 9, 11, 14, 6, 4, 12, 7, 5])\n",
    "    y1 = array([8.04, 6.95, 7.58, 8.81, 8.33, 9.96, 7.24, 4.26, 10.84, 4.82, 5.68])\n",
    "    y2 = array([9.14, 8.14, 8.74, 8.77, 9.26, 8.10, 6.13, 3.10, 9.13, 7.26, 4.74])\n",
    "    y3 = array([7.46, 6.77, 12.74, 7.11, 7.81, 8.84, 6.08, 5.39, 8.15, 6.42, 5.73])\n",
    "    x4 = array([8,8,8,8,8,8,8,19,8,8,8])\n",
    "    y4 = array([6.58,5.76,7.71,8.84,8.47,7.04,5.25,12.50,5.56,7.91,6.89])\n",
    "    xfit = array( [amin(x), amax(x) ] )\n",
    "    figure(figsize(12,8))\n",
    "    subplot(221)\n",
    "    plot(x,y1,'ks', xfit, fit(xfit), 'r-', lw=2)\n",
    "    axis([2,20,2,14])\n",
    "    setp(gca(), xticklabels=[], yticks=(4,8,12), xticks=(0,10,20))\n",
    "    text(3,12, 'I', fontsize=20)\n",
    "\n",
    "    subplot(222)\n",
    "    plot(x,y2,'ks', xfit, fit(xfit), 'r-', lw=2)\n",
    "    axis([2,20,2,14])\n",
    "    setp(gca(), xticklabels=[], yticks=(4,8,12), yticklabels=[], xticks=(0,10,20))\n",
    "    text(3,12, 'II', fontsize=20)\n",
    "\n",
    "    subplot(223)\n",
    "    plot(x,y3,'ks', xfit, fit(xfit), 'r-', lw=2)\n",
    "    axis([2,20,2,14])\n",
    "    text(3,12, 'III', fontsize=20)\n",
    "    setp(gca(), yticks=(4,8,12), xticks=(0,10,20))\n",
    "\n",
    "    subplot(224)\n",
    "\n",
    "    xfit = array([amin(x4),amax(x4)])\n",
    "    plot(x4,y4,'ks', xfit, fit(xfit), 'r-', lw=2)\n",
    "    axis([2,20,2,14])\n",
    "    setp(gca(), yticklabels=[], yticks=(4,8,12), xticks=(0,10,20))\n",
    "    text(3,12, 'IV', fontsize=20)\n",
    "\n",
    "    #verify the stats\n",
    "    pairs = (x,y1), (x,y2), (x,y3), (x4,y4)\n",
    "    for x,y in pairs:\n",
    "        print ('mean=%1.2f, std=%1.2f, r=%1.2f'%(mean(y), std(y), corrcoef(x,y)[0][1]))"
   ]
  },
  {
   "cell_type": "code",
   "execution_count": 21,
   "metadata": {
    "collapsed": false,
    "slideshow": {
     "slide_type": "fragment"
    }
   },
   "outputs": [
    {
     "name": "stdout",
     "output_type": "stream",
     "text": [
      "mean=7.50, std=1.94, r=0.82\n",
      "mean=7.50, std=1.94, r=0.82\n",
      "mean=7.50, std=1.94, r=0.82\n",
      "mean=7.50, std=1.94, r=0.82\n"
     ]
    },
    {
     "data": {
      "image/png": "[encoded data removed]",
      "text/plain": [
       "<matplotlib.figure.Figure at 0x107ebb110>"
      ]
     },
     "metadata": {},
     "output_type": "display_data"
    }
   ],
   "source": [
    "anscombe()"
   ]
  },
  {
   "cell_type": "markdown",
   "metadata": {
    "slideshow": {
     "slide_type": "slide"
    }
   },
   "source": [
    "# Correlation\n",
    "Captures:\n",
    " * Direction\n",
    " * ...\n",
    " \n",
    "Doesn't Capture:\n",
    " * ...\n",
    "<img src=\"https://upload.wikimedia.org/wikipedia/commons/d/d4/Correlation_examples2.svg\" width=800 />"
   ]
  },
  {
   "cell_type": "markdown",
   "metadata": {
    "slideshow": {
     "slide_type": "slide"
    }
   },
   "source": [
    "# Distributions\n",
    "\n",
    "Rules for choosing a good distribution:\n",
    "\n",
    "* Is data discrete or continuous?\n",
    "* Is data symmetric?\n",
    "* What limits are there on possible values for the data?\n",
    "* How likely are extreme values?"
   ]
  },
  {
   "cell_type": "markdown",
   "metadata": {
    "slideshow": {
     "slide_type": "slide"
    }
   },
   "source": [
    "# Bernoulli:\n",
    "\n",
    "PMF = $P[success] = p$ , $ P[failure] = 1-p $\n",
    "\n",
    "Mean: $ E[x] = p $\n",
    "\n",
    "Variance: $ Var(x) = p(1-p) $"
   ]
  },
  {
   "cell_type": "markdown",
   "metadata": {
    "slideshow": {
     "slide_type": "slide"
    }
   },
   "source": [
    "# Binomial:\n",
    "PMF: $P[X=k] = {n \\choose k}p^k(1-p)^{n-k}, \\forall k \\in \\{0, 1,..., n\\} $\n",
    "\n",
    "Mean: $np$\n",
    "\n",
    "Var: $np(1-p)$\n"
   ]
  },
  {
   "cell_type": "markdown",
   "metadata": {
    "slideshow": {
     "slide_type": "slide"
    }
   },
   "source": [
    "# Geometric:\n",
    "PMF: $ P[X=k] = p (1-p)^{k-1}, \\forall k \\in \\{0, 1,...\\}$\n",
    "\n",
    "Mean: $ \\frac{1}{p} $\n",
    "\n",
    "Variance: $ \\frac{1-p}{p^2} $"
   ]
  },
  {
   "cell_type": "markdown",
   "metadata": {
    "slideshow": {
     "slide_type": "slide"
    }
   },
   "source": [
    "# Poisson\n",
    "\n",
    "PMF: $P[X=k] = \\frac{\\lambda^k e^{-\\lambda}}{k!},\\forall k \\in \\{0,1,2,...\\}$\n",
    "\n",
    "Mean: $\\lambda $\n",
    "\n",
    "Variance: $ \\lambda $"
   ]
  },
  {
   "cell_type": "markdown",
   "metadata": {
    "slideshow": {
     "slide_type": "slide"
    }
   },
   "source": [
    "# Uniform\n",
    "\n",
    "PDF: $ f(x) = \\frac{1}{b-a}, \\forall x\\in[a, b], $ $0$ otherwise\n",
    "\n",
    "Mean: $ \\frac{a+b}{2} $\n",
    "\n",
    "Variance: $ \\frac{(b-a)^2}{2}$"
   ]
  },
  {
   "cell_type": "markdown",
   "metadata": {
    "slideshow": {
     "slide_type": "slide"
    }
   },
   "source": [
    "# Exponential\n",
    "\n",
    "CDF: $ P[T < t] = 1 - exp(\\lambda t), x \\ge 0, \\lambda \\ge 0 $\n",
    "\n",
    "Mean: $ \\frac{1}{\\lambda} $\n",
    "\n",
    "Variance: $ \\frac{1}{\\lambda^2} $"
   ]
  },
  {
   "cell_type": "markdown",
   "metadata": {
    "slideshow": {
     "slide_type": "slide"
    }
   },
   "source": [
    "# Normal aka Gaussian\n",
    "\n",
    "PDF: $\\frac{1}{\\sqrt{2\\pi\\sigma^2}}exp(-\\frac{(x - \\mu)^2}{2\\sigma^2}) $\n",
    "\n",
    "Mean: $\\mu$\n",
    "\n",
    "Variance: $ \\sigma^2 $\n",
    "\n",
    "## Central Limit Theorem Tomorrow\n",
    "\n",
    "Will show Normal distribution, is _profoundly_ important distribution."
   ]
  },
  {
   "cell_type": "code",
   "execution_count": null,
   "metadata": {
    "collapsed": true
   },
   "outputs": [],
   "source": []
  }
 ],
 "metadata": {
  "celltoolbar": "Slideshow",
  "kernelspec": {
   "display_name": "Python 2",
   "language": "python",
   "name": "python2"
  },
  "language_info": {
   "codemirror_mode": {
    "name": "ipython",
    "version": 2
   },
   "file_extension": ".py",
   "mimetype": "text/x-python",
   "name": "python",
   "nbconvert_exporter": "python",
   "pygments_lexer": "ipython2",
   "version": "2.7.12"
  }
 },
 "nbformat": 4,
 "nbformat_minor": 0
}
