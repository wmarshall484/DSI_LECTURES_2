{
 "cells": [
  {
   "cell_type": "markdown",
   "metadata": {},
   "source": [
    "# Probability\n",
    "\n",
    "## Objectives\n",
    "\n",
    "* Combinatorics, definitions and concepts\n",
    "* Probability, definitions and concepts\n",
    "* Major probability laws: Bayes Rule, Law of Total Probability, Chain Rule\n",
    "* Random variables, definitions, and major formulas: Expectation, Variance, Correlation\n",
    "* Major probability distributions\n",
    "    * Discrete: Bernoulli, Binomial, Geometric, Poisson\n",
    "    * Continuous: Uniform, Normal, Exponential\n",
    "\n",
    "# Morning\n",
    "\n",
    "## Sets\n",
    "\n",
    "The range of all possible outcomes or events, also called the sample space.\n",
    "\n",
    "* Coin flips\n",
    "* Cookies\n",
    "* Heights\n",
    "* Number of slices of pizza eaten before 10 AM\n",
    "\n",
    "### Symbology\n",
    "\n",
    "* $\\in$: in\n",
    "* $\\vee$ or\n",
    "* $\\wedge$ and\n",
    "* $\\neg$ not\n",
    "* $\\iff$ iff (if and only if)\n",
    "* $\\cap$ intersection\n",
    "* $\\cup$ union\n",
    "* $|$ such that\n",
    "* $\\emptyset$ empty set\n",
    "* $\\forall$ for all\n",
    "* $\\therefore$ therefore\n",
    "\n",
    "### Operations\n",
    "\n",
    "* Union:\n",
    "    * $A\\cup B=\\{x\\ |\\ x \\in A \\vee x \\in B\\}$\n",
    "* Intersection:\n",
    "    * $A \\cap B=\\{x\\ |\\ x \\in A \\wedge x \\in B \\}$\n",
    "* Difference:\n",
    "    * $A \\setminus B=\\{x\\ |\\ x \\in A \\wedge x \\notin B \\}$\n",
    "* Complement:\n",
    "    * $A^C=\\{x\\ |\\ x \\notin A \\}$\n",
    "* Disjoint:\n",
    "    * $A \\cap B=\\emptyset$\n",
    "* Partition $\\{A_i\\}$ (of S):\n",
    "    * $A_i \\cap A_j=\\emptyset \\forall i, j$\n",
    "    * $S=\\bigcup\\limits_{i=l}^{N} A_{i}$\n",
    "\n",
    "## DeMorgan's laws\n",
    "\n",
    "* $\\neg (A \\vee B) \\iff \\neg A \\wedge \\neg B$\n",
    "* $\\neg (A \\wedge B) \\iff \\neg A \\vee \\neg B$\n",
    "\n",
    "## Combinatorics\n",
    "\n",
    "The mathematics of ordering, choosing sets, etc. Useful for counting events in your sample space.\n",
    "\n",
    "### Factorial\n",
    "\n",
    "* $n!=\\prod\\limits_{i=1}^{n} i=1*2*3*\\ \\ldots\\ *\\ n-1\\ *\\ n$\n",
    "* $0!=1$ by definition\n",
    "* There are $n!$ ways to arrange $n$ objects into a sequence (where order matter)\n",
    "\n",
    "\n",
    "* E.g., how many ways can we shuffle a deck of cards?"
   ]
  },
  {
   "cell_type": "code",
   "execution_count": null,
   "metadata": {
    "collapsed": true
   },
   "outputs": [],
   "source": []
  },
  {
   "cell_type": "code",
   "execution_count": null,
   "metadata": {
    "collapsed": true
   },
   "outputs": [],
   "source": []
  },
  {
   "cell_type": "code",
   "execution_count": null,
   "metadata": {
    "collapsed": true
   },
   "outputs": [],
   "source": [
    "def fact(n):\n",
    "    result = 1\n",
    "    for i in xrange(1, n+1):\n",
    "        result *= i\n",
    "    return result"
   ]
  },
  {
   "cell_type": "code",
   "execution_count": null,
   "metadata": {
    "collapsed": true
   },
   "outputs": [],
   "source": [
    "def fact(n):\n",
    "    return reduce(lambda x, y: x*y, xrange(1, n+1))"
   ]
  },
  {
   "cell_type": "code",
   "execution_count": null,
   "metadata": {
    "collapsed": false
   },
   "outputs": [],
   "source": [
    "fact(52)"
   ]
  },
  {
   "cell_type": "code",
   "execution_count": null,
   "metadata": {
    "collapsed": false
   },
   "outputs": [],
   "source": [
    "'{:e}'.format(fact(52))"
   ]
  },
  {
   "cell_type": "markdown",
   "metadata": {},
   "source": [
    "### Permutations\n",
    "\n",
    "* $P(n,k)=\\frac{n!}{(n-k)!}$\n",
    "* There are $P(n,k)$ ways to select $k$ out of $n$ objects into a sequence (where order maters)\n",
    "\n",
    "\n",
    "* E.g., set batting order for 9 players on baseball team of 25"
   ]
  },
  {
   "cell_type": "code",
   "execution_count": null,
   "metadata": {
    "collapsed": true
   },
   "outputs": [],
   "source": [
    "def perm(n, k):\n",
    "    return fact(n)/fact(n-k)"
   ]
  },
  {
   "cell_type": "code",
   "execution_count": null,
   "metadata": {
    "collapsed": false
   },
   "outputs": [],
   "source": [
    "perm(25, 9)"
   ]
  },
  {
   "cell_type": "markdown",
   "metadata": {},
   "source": [
    "### Combinations\n",
    "\n",
    "* $C(n,k)={{n}\\choose{k}}={{n!}\\over{(n-k)!k!}}$"
   ]
  },
  {
   "cell_type": "code",
   "execution_count": null,
   "metadata": {
    "collapsed": true
   },
   "outputs": [],
   "source": [
    "def comb(n,k):\n",
    "    return perm(n,k)/fact(k)"
   ]
  },
  {
   "cell_type": "code",
   "execution_count": null,
   "metadata": {
    "collapsed": false
   },
   "outputs": [],
   "source": [
    "comb(25, 9)"
   ]
  },
  {
   "cell_type": "markdown",
   "metadata": {},
   "source": [
    "## Probability\n",
    "\n",
    "For some sample space $S$, a probability function $P$ has three properties:\n",
    "\n",
    "* $P(A)\\ \\ge\\ 0 \\ \\forall \\ A\\ \\in \\ S$\n",
    "* $P(S)=1$\n",
    "* $\\forall A_i, A_j : A_i \\cap A_j=\\emptyset \\Rightarrow P(A_i \\cup A_j)=P(A_i) + P(A_j)$\n",
    "\n",
    "$\\therefore$\n",
    "\n",
    "* $P(A^C)=1-P(A)$\n",
    "* $P(A \\cup B)=P(A)+P(B)-P(A \\cap B)$\n",
    "\n",
    "### Independence\n",
    "\n",
    "Events are independent (typically written $A \\bot B$) if\n",
    "\n",
    "$$P(A \\cap B)=P(A)P(B)$$\n",
    "\n",
    "Or, equivalently\n",
    "\n",
    "$$P(A|B)=P(A)$$\n",
    "\n",
    "The above is known as _conditional_ probability.\n",
    "\n",
    "### Bringing it together\n",
    "\n",
    "* We can reason about probabilities by carefully defining the sample space, and relevant subsets\n",
    "* We can calculate probabilities by performing mathematical, often combinatoric, operations on these sets\n",
    "* If you cannot properly determine the relevant space, it is not possible to define the probabilities\n",
    "\n",
    "### Question\n",
    "\n",
    "* Three coins are in a bag\n",
    "    * One coin is normal and has head and tail (HT)\n",
    "    * The other two are abnormal: one has two heads (HH), the other one two tails (TT)\n",
    "* You draw a coin and flip it, getting heads\n",
    "* What is the probability of getting heads on a second flip?\n",
    "\n",
    "https://pollev.com/galvanizedsi351"
   ]
  },
  {
   "cell_type": "code",
   "execution_count": null,
   "metadata": {
    "collapsed": true
   },
   "outputs": [],
   "source": [
    "import random\n",
    "import pandas as pd\n",
    "\n",
    "coins = ['HT', 'HH', 'TT']"
   ]
  },
  {
   "cell_type": "code",
   "execution_count": null,
   "metadata": {
    "collapsed": false
   },
   "outputs": [],
   "source": [
    "random.seed(5)\n",
    "\n",
    "coin = random.choice(coins)\n",
    "\n",
    "coin"
   ]
  },
  {
   "cell_type": "code",
   "execution_count": null,
   "metadata": {
    "collapsed": false
   },
   "outputs": [],
   "source": [
    "[random.choice(coin) for i in [1, 2]]"
   ]
  },
  {
   "cell_type": "code",
   "execution_count": null,
   "metadata": {
    "collapsed": false
   },
   "outputs": [],
   "source": [
    "results = []\n",
    "for i in xrange(1000000):\n",
    "    coin = random.choice(coins)\n",
    "    results.append([random.choice(coin) for i in [1, 2]])\n",
    "\n",
    "df = pd.DataFrame(results, columns=['X1', 'X2'])"
   ]
  },
  {
   "cell_type": "code",
   "execution_count": null,
   "metadata": {
    "collapsed": false
   },
   "outputs": [],
   "source": [
    "df.head()"
   ]
  },
  {
   "cell_type": "code",
   "execution_count": null,
   "metadata": {
    "collapsed": false
   },
   "outputs": [],
   "source": [
    "df = (df == 'H')\n",
    "\n",
    "df.head()"
   ]
  },
  {
   "cell_type": "code",
   "execution_count": null,
   "metadata": {
    "collapsed": false
   },
   "outputs": [],
   "source": [
    "df.groupby('X1').mean()"
   ]
  },
  {
   "cell_type": "markdown",
   "metadata": {},
   "source": [
    "## Question\n",
    "\n",
    "What happens if the coins in the bag are {HT,HH}?"
   ]
  },
  {
   "cell_type": "code",
   "execution_count": null,
   "metadata": {
    "collapsed": false
   },
   "outputs": [],
   "source": [
    "coins = ['HT', 'HH']\n",
    "\n",
    "results = []\n",
    "for i in xrange(1000000):\n",
    "    coin = random.choice(coins)\n",
    "    results.append([random.choice(coin) for i in [1, 2]])\n",
    "\n",
    "df = pd.DataFrame(results, columns=['X1', 'X2'])\n",
    "df = (df == 'H')\n",
    "df.groupby('X1').mean()"
   ]
  },
  {
   "cell_type": "markdown",
   "metadata": {},
   "source": [
    "## Probability Chain Rule\n",
    "\n",
    "$P(X_1, X_2, X_3)=P(X_1|X_2, X_3)P(X_2|X_3)P(X_3)$\n",
    "\n",
    "Under independence, $P(X_1|X_2, X_3)=P(X_1), P(X_2|X_3)=P(X_2)$\n",
    "\n",
    "$\\therefore $P(X_1, X_2, X_3)=P(X_1)P(X_2)P(X_3)$\n",
    "\n",
    "More generally:\n",
    "\n",
    "$P(\\cap_{i}^nX_i)=\\prod_i^n P(X_i | \\cap_k^{i-1} X_k)$\n",
    "\n",
    "## Law of Total Probability\n",
    "\n",
    "If $\\{B_n\\}$ is a partition of a sample space $A$, meaning $\\cup_i B_i=A$ and $B_i \\cap B_j=\\emptyset \\forall i, j$\n",
    "\n",
    "Then\n",
    "\n",
    "$P(A)=\\sum_i P(A\\cap B_i)$\n",
    "\n",
    "or\n",
    "\n",
    "$P(A)=\\sum_i P(A|B_i)P(B_i)$\n",
    "\n",
    "And we call A the marginal distribution of B\n",
    "\n",
    "## A Famous Rule and a Famously Counterintuitive Example\n",
    "\n",
    "The Bayes Rule allows us to compute $P(B|A)$ using information about $P(A|B)$:\n",
    "\n",
    "$$P(B|A)=\\frac{P(A|B)P(B)}{P(A)}$$\n",
    "\n",
    "### Example\n",
    "\n",
    "|Conditional Events|Probability|\n",
    "| --------- | ----------- |\n",
    "| $P(+|doped)$ | .99 |\n",
    "| $P(+|clean)$ | .05 |\n",
    "| $P(doped)$ | .005 |\n",
    "\n",
    "### Question\n",
    "\n",
    "What is $P(doped|+)$?"
   ]
  },
  {
   "cell_type": "markdown",
   "metadata": {},
   "source": [
    "### Probability overview\n",
    "\n",
    "* Remember compliments $P(A^C)=1-P(A)$\n",
    "* Are things independent?\n",
    "* If conditional probabilites are involved, remember Bayes' rule\n",
    "* Probabilites cannot be > 1, check if your reasoning leads to that happening\n",
    "* The law of total probability is your friend\n",
    "\n",
    "# Afternoon\n",
    "\n",
    "## Random Variables\n",
    "\n",
    "Random variables formalize a mapping we have been implicitly using already:\n",
    "\n",
    "$X(s) : S\\Rightarrow \\Re$\n",
    "\n",
    "* Capital letters refer to random variables.\n",
    "* Lowercase to refer to specific realization.\n",
    "* $P(X=x)=P(\\{s\\in S : X(s)=x\\})$\n",
    "* $X \\sim XYZ(\\alpha, \\beta, ...)$ means $X$ is distributed as, dist with parameters $(\\alpha, \\beta, ...)$.\n",
    "* \"i.i.d.\"\n",
    "\n",
    "## Cumulative distribution function\n",
    "\n",
    "$F_X(x)=P(X < x)$\n",
    "\n",
    "What kinds of bounds can we put on this function?\n",
    "\n",
    "This works for both continuous and discrete functions\n",
    "\n",
    "## Probability mass function, PMF\n",
    "\n",
    "For discrete variables:\n",
    "\n",
    "$f_X(x)=P(X=x),\\forall x$\n",
    "\n",
    "For continuous variables, think of it as the derivative of the CDF:\n",
    "\n",
    "$f_X(x)dx=P(x<X<x+dx)=dF_X(x)$\n",
    "\n",
    "$f_X(x)=\\frac{dF_X(x)}{dx}$\n",
    "\n",
    "## Expectation\n",
    "\n",
    "Discrete:\n",
    "$E[X]=\\sum_{s\\in S} X(s) f_X(s)$\n",
    "\n",
    "Continuous:\n",
    "$E[X]=\\int_{-\\infty}^{\\infty}X(s) f_X(s)ds$\n",
    "\n",
    "A measure, but not the only one, of the central tendency of a distribution. Alternatives?\n",
    "\n",
    "Note, the sample mean is:\n",
    "\n",
    "$\\bar{x}=\\frac{1}{n}\\sum_j^n x_j$\n",
    "\n",
    "## Variance\n",
    "\n",
    "$Var[x]=E[(x - E[X])^2]$\n",
    "\n",
    "What are the units?\n",
    "\n",
    "Note, the sample variance is:\n",
    "\n",
    "$s^2=\\frac{1}{n-1}\\sum_j^n (x_j-\\bar{x})^2$\n",
    "\n",
    "## Standard deviation\n",
    "\n",
    "$\\sigma(x)=\\sqrt{Var[x]}$\n",
    "\n",
    "Useful because its units are in units of our original random variable\n",
    "\n",
    "## Covariance\n",
    "We can also compute the covariance between two different variables:\n",
    "\n",
    "$Cov[X,Y]=E[(x - E[X])(y - E[Y])]$\n",
    "\n",
    "Which is related to the\n",
    "\n",
    "## Correlation\n",
    "\n",
    "$Corr[X,Y]=\\frac{Cov[X,Y]}{\\sigma(X)\\sigma(Y)}$\n",
    "\n",
    "## Marginal Distributions\n",
    "\n",
    "Marginal distribution takes a--possibly not independent--multivariate distribution and considers only a single dimension\n",
    "\n",
    "Accomplished by summing (discrete) or integrating (continuous)\n",
    "\n",
    "$$f_X(x)=\\int_{-\\infty}^\\infty f_{XY}(x,s) ds$$\n",
    "\n",
    "E.g.,\n",
    "\n",
    "![](https://upload.wikimedia.org/wikipedia/commons/8/8e/MultivariateNormal.png)\n",
    "\n",
    "Discrete case:\n",
    "\n",
    "||x1|x2|x3|x4|py(Y)|\n",
    "|---|---|---|---|---|\n",
    "|y1|$\\frac{4}{32}$|$\\frac{2}{32}$|$\\frac{1}{32}$|$\\frac{1}{32}$|$\\frac{8}{32}$|\n",
    "|y2|$\\frac{2}{32}$|$\\frac{4}{32}$|$\\frac{1}{32}$|$\\frac{1}{32}$|$\\frac{8}{32}$|\n",
    "|y3|$\\frac{2}{32}$|$\\frac{2}{32}$|$\\frac{2}{32}$|$\\frac{2}{32}$|$\\frac{8}{32}$|\n",
    "|y4|$\\frac{8}{32}$|0|0|0|$\\frac{8}{32}$|\n",
    "|px(X)|?|?|?|?|?|\n",
    "\n",
    "## Conditional Distributions\n",
    "\n",
    "$$f(y|x)=\\frac{f_{XY}(x,y)}{f_X(x)}$$\n",
    "\n",
    "## Anscombe's quartet"
   ]
  },
  {
   "cell_type": "code",
   "execution_count": null,
   "metadata": {
    "collapsed": false
   },
   "outputs": [],
   "source": [
    "from numpy import array, amin, amax\n",
    "%pylab inline\n",
    "\n",
    "\n",
    "def fit(x):\n",
    "    return 3+0.5*x\n",
    "\n",
    "def anscombe():\n",
    "    x =  array([10, 8, 13, 9, 11, 14, 6, 4, 12, 7, 5])\n",
    "    y1 = array([8.04, 6.95, 7.58, 8.81, 8.33, 9.96, 7.24, 4.26, 10.84, 4.82, 5.68])\n",
    "    y2 = array([9.14, 8.14, 8.74, 8.77, 9.26, 8.10, 6.13, 3.10, 9.13, 7.26, 4.74])\n",
    "    y3 = array([7.46, 6.77, 12.74, 7.11, 7.81, 8.84, 6.08, 5.39, 8.15, 6.42, 5.73])\n",
    "    x4 = array([8,8,8,8,8,8,8,19,8,8,8])\n",
    "    y4 = array([6.58,5.76,7.71,8.84,8.47,7.04,5.25,12.50,5.56,7.91,6.89])\n",
    "\n",
    "    xfit = array( [amin(x), amax(x) ] )\n",
    "    figure(figsize(12,8))\n",
    "    subplot(221)\n",
    "    plot(x,y1,'ks', xfit, fit(xfit), 'r-', lw=2)\n",
    "    axis([2,20,2,14])\n",
    "    setp(gca(), xticklabels=[], yticks=(4,8,12), xticks=(0,10,20))\n",
    "    text(3,12, 'I', fontsize=20)\n",
    "\n",
    "    subplot(222)\n",
    "    plot(x,y2,'ks', xfit, fit(xfit), 'r-', lw=2)\n",
    "    axis([2,20,2,14])\n",
    "    setp(gca(), xticklabels=[], yticks=(4,8,12), yticklabels=[], xticks=(0,10,20))\n",
    "    text(3,12, 'II', fontsize=20)\n",
    "\n",
    "    subplot(223)\n",
    "    plot(x,y3,'ks', xfit, fit(xfit), 'r-', lw=2)\n",
    "    axis([2,20,2,14])\n",
    "    text(3,12, 'III', fontsize=20)\n",
    "    setp(gca(), yticks=(4,8,12), xticks=(0,10,20))\n",
    "\n",
    "    subplot(224)\n",
    "\n",
    "    xfit = array([amin(x4),amax(x4)])\n",
    "    plot(x4,y4,'ks', xfit, fit(xfit), 'r-', lw=2)\n",
    "    axis([2,20,2,14])\n",
    "    setp(gca(), yticklabels=[], yticks=(4,8,12), xticks=(0,10,20))\n",
    "    text(3,12, 'IV', fontsize=20)\n",
    "\n",
    "    pairs = (x,y1), (x,y2), (x,y3), (x4,y4)\n",
    "    for x,y in pairs:\n",
    "        print ('mean=%1.2f, std=%1.2f, r=%1.2f'%(mean(y), std(y), corrcoef(x,y)[0][1]))\n",
    "\n",
    "anscombe()"
   ]
  },
  {
   "cell_type": "markdown",
   "metadata": {},
   "source": [
    "## Correlation\n",
    "\n",
    "<img src=\"https://upload.wikimedia.org/wikipedia/commons/d/d4/Correlation_examples2.svg\" width=800 />\n",
    "\n",
    "## Distributions\n",
    "\n",
    "* Useful for modeling\n",
    "* Can help constrain thinking on probability questions\n",
    "\n",
    "* Useful thoughts:\n",
    "    * Is data discrete or continuous?\n",
    "    * Is data symmetric?\n",
    "    * What limits are there on possible values for the data?\n",
    "    * How likely are extreme values?\n",
    "\n",
    "### Common distributions\n",
    "\n",
    "* Uniform\n",
    "* Bernoulli\n",
    "* Binomial\n",
    "* Geometric\n",
    "* Poisson\n",
    "* Exponential\n",
    "* Gaussian\n",
    "* t-distribution\n",
    "\n",
    "### Uniform (continuous)\n",
    "\n",
    "PDF: $f(x)=\\frac{1}{b-a},\\forall x\\in [a, b]$, $0$ otherwise\n",
    "\n",
    "Mean: $\\frac{a+b}{2}$\n",
    "\n",
    "Variance: $\\frac{(b-a)^2}{2}$\n",
    "\n",
    "### Bernoulli (discrete)\n",
    "\n",
    "PMF: $P[success]=p$ , $P[failure]=1-p$\n",
    "\n",
    "Mean: $E[x]=p$\n",
    "\n",
    "Variance: $Var(x)=p(1-p)$\n",
    "\n",
    "### Binomial (discrete)\n",
    "\n",
    "PMF: $P[X=k]={n \\choose k}p^k(1-p)^{n-k},\\forall k \\in \\{0,1,...,n\\}$\n",
    "\n",
    "Mean: $np$\n",
    "\n",
    "Var: $np(1-p)$\n",
    "\n",
    "### Geometric (discrete)\n",
    "\n",
    "PMF: $P[X=k]=p(1-p)^{k-1},\\forall k \\in \\{0,1,...\\}$\n",
    "\n",
    "Mean: $\\frac{1}{p}$\n",
    "\n",
    "Variance: $\\frac{1-p}{p^2}$\n",
    "\n",
    "### Poisson (discrete)\n",
    "\n",
    "PMF: $P[X=k]=\\frac{\\lambda^k e^{-\\lambda}}{k!},\\forall k \\in \\{0,1,2,...,n\\}$\n",
    "\n",
    "Mean: $\\lambda$\n",
    "\n",
    "Variance: $\\lambda$\n",
    "\n",
    "### Exponential (continuous)\n",
    "\n",
    "CDF: $P[T<t]=1-exp(\\lambda t), x \\ge 0, \\lambda \\ge 0$\n",
    "\n",
    "Mean: $\\frac{1}{\\lambda}$\n",
    "\n",
    "Variance: $\\frac{1}{\\lambda^2}$\n",
    "\n",
    "### Normal a.k.a., Gaussian (continuous)\n",
    "\n",
    "PDF: $\\frac{1}{\\sqrt{2\\pi\\sigma^2}}exp(-\\frac{(x-\\mu)^2}{2\\sigma^2})$\n",
    "\n",
    "Mean: $\\mu$\n",
    "\n",
    "Variance: $\\sigma^2$\n",
    "\n",
    "### Student-t (continuous)\n",
    "\n",
    "PDF: $\\frac{\\Gamma(\\frac{\\nu+1}{2})}{\\sqrt{\\nu\\pi}\\Gamma(\\frac{\\nu}{2})}(1+\\frac{x^2}{\\nu})^{-\\frac{\\nu+1}{2}}$  \n",
    "$\\nu$ is degrees of freedom\n",
    "\n",
    "Mean: 0  \n",
    "\n",
    "Variance: $\\frac{\\nu}{\\nu-2}$ for $\\nu \\gt 2$, $\\infty$ for $1 \\lt \\nu \\le 2$, otherwise undefined\n",
    "\n",
    "### Univariate Distribution Relationships\n",
    "\n",
    "<img src=\"https://media.licdn.com/mpr/mpr/shrinknp_800_800/p/8/005/0ae/160/1a9d155.png\" width=800 />\n",
    "\n",
    "[Univariate Distribution Relationships](http://www.math.wm.edu/~leemis/chart/UDR/UDR.html)"
   ]
  }
 ],
 "metadata": {
  "anaconda-cloud": {},
  "kernelspec": {
   "display_name": "Python [default]",
   "language": "python",
   "name": "python2"
  },
  "language_info": {
   "codemirror_mode": {
    "name": "ipython",
    "version": 2
   },
   "file_extension": ".py",
   "mimetype": "text/x-python",
   "name": "python",
   "nbconvert_exporter": "python",
   "pygments_lexer": "ipython2",
   "version": "2.7.12"
  }
 },
 "nbformat": 4,
 "nbformat_minor": 1
}
