{
 "cells": [
  {
   "cell_type": "markdown",
   "metadata": {},
   "source": [
    "# Probability\n",
    "\n",
    "### Miles Erickson\n",
    "#### August 14, 2017"
   ]
  },
  {
   "cell_type": "markdown",
   "metadata": {},
   "source": [
    "## Objectives\n",
    "\n",
    "* Use permutations and combinations to solve probability problems.\n",
    "* Explain basic laws of probability."
   ]
  },
  {
   "cell_type": "markdown",
   "metadata": {},
   "source": [
    "## Agenda\n",
    "\n",
    "Morning\n",
    "\n",
    " * Review Sets\n",
    " * Permutations and combinations\n",
    " * Laws of Probability"
   ]
  },
  {
   "cell_type": "markdown",
   "metadata": {},
   "source": [
    "## Some definitions\n",
    "\n",
    "* A set $S$ consists of all possible outcomes or events and is called the sample space\n",
    "* Union: $A \\cup B = \\{ x: x \\in A ~\\mathtt{ or} ~x \\in B\\}$\n",
    "* Intersection: $A \\cap B = \\{x: x \\in A ~\\mathtt{and} ~x \\in B\\}$\n",
    "* Complement: $A^\\complement = \\{ x: x \\notin A \\}$\n",
    "* Disjoint: $A \\cap B = \\emptyset$\n",
    "* Partition: a set of pairwise disjoint sets, ${A_j}$, such that $\\underset{j=1}{\\overset{\\infty}{\\cup}}A_j = S$\n",
    "* DeMorgan's laws: $(A \\cup B)^\\complement = A^\\complement \\cap B^\\complement$ and  $(A \\cap B)^\\complement = A^\\complement \\cup B^\\complement$"
   ]
  },
  {
   "cell_type": "code",
   "execution_count": 4,
   "metadata": {
    "ExecuteTime": {
     "end_time": "2017-08-14T10:24:08.045521",
     "start_time": "2017-08-14T10:24:06.125752"
    },
    "collapsed": false
   },
   "outputs": [],
   "source": [
    "from scipy import stats\n",
    "import numpy as np\n",
    "import math\n",
    "import pandas as pd\n",
    "\n",
    "import matplotlib.pyplot as plt\n",
    "%matplotlib inline"
   ]
  },
  {
   "cell_type": "markdown",
   "metadata": {},
   "source": [
    "## Permutations and Combinations\n",
    "\n",
    "In general, there are $n!$ ways we can order $n$ objects, since there are $n$ that can come first, $n-1$ that can come 2nd, and so on. So we can line 16 students up $16!$ ways."
   ]
  },
  {
   "cell_type": "code",
   "execution_count": 5,
   "metadata": {
    "ExecuteTime": {
     "end_time": "2017-08-14T10:24:08.077179",
     "start_time": "2017-08-14T10:24:08.047681"
    },
    "collapsed": false
   },
   "outputs": [
    {
     "data": {
      "text/plain": [
       "20922789888000"
      ]
     },
     "execution_count": 5,
     "metadata": {},
     "output_type": "execute_result"
    }
   ],
   "source": [
    "math.factorial(16)"
   ]
  },
  {
   "cell_type": "markdown",
   "metadata": {},
   "source": [
    "Suppose we choose 5 students at random from the class of 20 students. How many different ways could we do that?\n",
    "\n",
    "If the order matters, it's a **permutation**. If the order doesn't, it's a **combination**.\n",
    "\n",
    "There are $20$ ways they can choose one student, $20 \\cdot 19$ ways we can choose two, and so on, so $$20\\cdot19\\cdot18\\cdot17\\cdot16 = \\frac{20!}{15!} = {_{20}P_{15}}$$ ways we can choose five students, assuming the order matters. In general\n",
    "\n",
    "$$_nP_k = \\frac{n!}{(n-k)!}$$"
   ]
  },
  {
   "cell_type": "code",
   "execution_count": 6,
   "metadata": {
    "ExecuteTime": {
     "end_time": "2017-08-14T10:24:08.106764",
     "start_time": "2017-08-14T10:24:08.078710"
    },
    "collapsed": true
   },
   "outputs": [],
   "source": [
    "def permutations(n, k):\n",
    "    return math.factorial(n)/math.factorial(n-k)"
   ]
  },
  {
   "cell_type": "code",
   "execution_count": 7,
   "metadata": {
    "ExecuteTime": {
     "end_time": "2017-08-14T10:24:08.136306",
     "start_time": "2017-08-14T10:24:08.108435"
    },
    "collapsed": false
   },
   "outputs": [
    {
     "data": {
      "text/plain": [
       "1860480"
      ]
     },
     "execution_count": 7,
     "metadata": {},
     "output_type": "execute_result"
    }
   ],
   "source": [
    "permutations(20,5)"
   ]
  },
  {
   "cell_type": "markdown",
   "metadata": {},
   "source": [
    "There are $5!$ different way we can order those different students, so the number of combinations is that number divided by $5!$. We write this as $${20 \\choose 5} = \\frac{20!}{15! \\cdot 5!}$$\n",
    "\n",
    "In general,\n",
    "\n",
    "$${n \\choose k} = {_nC_k} = \\frac{n!}{k!(n-k)!}$$"
   ]
  },
  {
   "cell_type": "code",
   "execution_count": 8,
   "metadata": {
    "ExecuteTime": {
     "end_time": "2017-08-14T10:24:13.625360",
     "start_time": "2017-08-14T10:24:13.597935"
    },
    "collapsed": true
   },
   "outputs": [],
   "source": [
    "def combinations(n, k):\n",
    "    return math.factorial(n) / (math.factorial(n-k) * math.factorial(k))"
   ]
  },
  {
   "cell_type": "code",
   "execution_count": 9,
   "metadata": {
    "ExecuteTime": {
     "end_time": "2017-08-14T10:24:21.844850",
     "start_time": "2017-08-14T10:24:21.814982"
    },
    "collapsed": false
   },
   "outputs": [
    {
     "data": {
      "text/plain": [
       "15504"
      ]
     },
     "execution_count": 9,
     "metadata": {},
     "output_type": "execute_result"
    }
   ],
   "source": [
    "combinations(20,5)"
   ]
  },
  {
   "cell_type": "markdown",
   "metadata": {},
   "source": [
    "### Tea-drinking problem\n",
    "\n",
    "There's a classic problem in which a woman claims she can tell whether tea or milk is added to the cup first. The famous statistician R.A. Fisher proposed a test: he would prepare eight cups of tea, four each way, and she would select which was which.\n",
    "\n",
    "Assuming the null hypothesis (that she was guessing randomly) what's the probability that she would guess all correctly?"
   ]
  },
  {
   "cell_type": "code",
   "execution_count": null,
   "metadata": {
    "ExecuteTime": {
     "end_time": "2017-08-14T09:46:38.316100",
     "start_time": "2017-08-14T09:46:38.289070"
    },
    "collapsed": false
   },
   "outputs": [],
   "source": []
  },
  {
   "cell_type": "markdown",
   "metadata": {},
   "source": [
    "## Multinomial\n",
    "\n",
    "Combinations explain the number of ways of dividing something into two categories. When dividing into more categories, use\n",
    "\n",
    "$${n \\choose {n_1, n_2, ... n_k}} = \\frac{n!}{n_1! n_2! ... n_k!}$$\n",
    "\n",
    "which reduces to the above for two cases."
   ]
  },
  {
   "cell_type": "markdown",
   "metadata": {},
   "source": [
    "## Definition of probability\n",
    "\n",
    "Given a sample space S, a *probability function* P of a set has three properties.\n",
    "\n",
    "* $P(A) \\ge 0 \\; \\forall \\; A \\subset S$\n",
    "* $P(S) = 1$\n",
    "* For a set of pairwise disjoint sets $\\{A_j\\}$, $P(\\cup_j A_j) = \\sum_j P(A_j)$"
   ]
  },
  {
   "cell_type": "markdown",
   "metadata": {},
   "source": [
    "## Independence\n",
    "\n",
    "Two events $A$ and $B$ are said to be *independent* iff \n",
    "\n",
    "$$ P(A \\cap B) = P(A) P(B)$$\n",
    "\n",
    "or equivalently\n",
    "\n",
    "$$ P(B \\mid A) = P(B)$$\n",
    "\n",
    "so knowlege of $A$ provides no information about $B$. This can also be written as $A \\perp B$."
   ]
  },
  {
   "cell_type": "markdown",
   "metadata": {},
   "source": [
    "### Example: dice\n",
    "\n",
    "The probability of rolling a 1 on a single fair 6-sided die is $1\\over 6$.\n",
    "\n",
    "What's the probability of two dice having a total value of 3?"
   ]
  },
  {
   "cell_type": "code",
   "execution_count": null,
   "metadata": {
    "collapsed": true
   },
   "outputs": [],
   "source": []
  },
  {
   "cell_type": "markdown",
   "metadata": {},
   "source": [
    "# Bayes' theorem\n",
    "\n",
    "Bayes' therem says that\n",
    "\n",
    "$$P(A\\mid B) = \\frac{P(B\\mid A) P(A)}{P(B)}$$\n",
    "Where A and B are two possible events.\n",
    "\n",
    "To prove it, consider that\n",
    "\n",
    "\n",
    "$$\\begin{equation}\n",
    "\\begin{aligned}\n",
    "P(A\\mid B) P(B) & = P(A \\cap B) \\\\\n",
    "            & = P(B \\cap A) \\\\\n",
    "            & = P(B\\mid A) P(A) \\\\\n",
    "\\end{aligned}\n",
    "\\end{equation}\n",
    "$$\n",
    "\n",
    "so dividing both sides by $P(B)$ gives the above theorem.\n",
    "\n",
    "In here we usually think of A as being our hypothesis, and B as our observed data, so\n",
    "\n",
    "$$ P(hypothesis \\mid data) = \\frac{P(data \\mid hypothesis) P(hypothesis)}{P(data)}$$\n",
    "\n",
    "where\n",
    "$$ P(data \\mid hypothesis) \\text{ is the likelihood} \\\\\n",
    "P(hypothesis) \\text{ is the prior probability} \\\\\n",
    "P(hypothesis \\mid data) \\text{ is the posterior probability} \\\\\n",
    "P(data) \\text{ is the normalizing constant} \\\\\n",
    "$$\n",
    "\n"
   ]
  },
  {
   "cell_type": "markdown",
   "metadata": {},
   "source": [
    "## Law of Total Probability\n",
    "\n",
    "If ${B_n}$ is a partition of all possible options, then\n",
    "\n",
    "$$\\begin{align}\n",
    "P(A) & = \\sum_j P(A \\cap B_j) \\\\\n",
    "     & = \\sum_j P(A \\mid B_j) \\cdot P(B_j)\n",
    "\\end{align}\n",
    "$$\n"
   ]
  },
  {
   "cell_type": "markdown",
   "metadata": {},
   "source": [
    "### Example: the cookie problem\n",
    "\n",
    "Bowl A has 30 vanilla cookies and 10 chocolate cookies; bowl B has 30 of each. You pick a bowl at random and draw a cookie. Assuming the cookie is vanilla, what's the probability it comes from bowl A?"
   ]
  },
  {
   "cell_type": "code",
   "execution_count": null,
   "metadata": {
    "collapsed": true
   },
   "outputs": [],
   "source": []
  },
  {
   "cell_type": "markdown",
   "metadata": {},
   "source": [
    "### Example: two-sided coins\n",
    "\n",
    "There are three coins in a bag, one with two heads, another with two tails, another with a head and a tail. You pick one and flip it, getting a head. If you flip the SAME coin again, what's the probability of getting a head on the next flip?"
   ]
  },
  {
   "cell_type": "code",
   "execution_count": null,
   "metadata": {
    "collapsed": true
   },
   "outputs": [],
   "source": []
  },
  {
   "cell_type": "markdown",
   "metadata": {},
   "source": [
    "## Probability chain rule\n",
    "\n",
    "\n",
    "$$\\begin{align}\n",
    "P(A_n, A_{n-1}, ..., A_1) & = P(A_n \\mid A_{n-1},...,A_1) \\cdot P(A_{n-1},...,A_1) \\\\\n",
    " & = P(A_n \\mid A_{n-1},...,A_1) \\cdot P(A_{n-1} \\mid A_{n-2},...,A_1) \\cdot P(A_{n-1},...,A_1) \\\\\n",
    " & = \\prod_{j=1}^n P(A_j \\mid A_{j-1},...,A_1)\n",
    "\\end{align}\n",
    "$$"
   ]
  },
  {
   "cell_type": "code",
   "execution_count": null,
   "metadata": {
    "collapsed": true
   },
   "outputs": [],
   "source": []
  }
 ],
 "metadata": {
  "kernelspec": {
   "display_name": "Python 2",
   "language": "python",
   "name": "python2"
  },
  "language_info": {
   "codemirror_mode": {
    "name": "ipython",
    "version": 2
   },
   "file_extension": ".py",
   "mimetype": "text/x-python",
   "name": "python",
   "nbconvert_exporter": "python",
   "pygments_lexer": "ipython2",
   "version": "2.7.13"
  }
 },
 "nbformat": 4,
 "nbformat_minor": 0
}
