{
 "cells": [
  {
   "cell_type": "markdown",
   "metadata": {},
   "source": [
    "# Probability\n",
    "\n",
    "### Natalie Hunt\n",
    "#### March 19, 2018"
   ]
  },
  {
   "cell_type": "markdown",
   "metadata": {},
   "source": [
    "## Objectives\n",
    "\n",
    "* Explain the difference between probability and statistics.\n",
    "* Use permutations and combinations to solve probability problems.\n",
    "* Use basic laws of probability.\n",
    "* Understand what a random variable is and derive common properties.\n",
    "* Recognize common probability distributions, including Bernoulii, binomial, geometric, Poisson, uniform, normal, and exponetial."
   ]
  },
  {
   "cell_type": "markdown",
   "metadata": {},
   "source": [
    "## Agenda\n",
    "\n",
    "Morning\n",
    "\n",
    " * What is probability?\n",
    " * Review sets\n",
    " * Discuss permutations and combinations\n",
    " * Discuss laws of probability\n",
    " \n",
    "Afternoon\n",
    "\n",
    " * Discuss random variables\n",
    " * Discuss common distributions"
   ]
  },
  {
   "cell_type": "code",
   "execution_count": 20,
   "metadata": {
    "collapsed": true
   },
   "outputs": [],
   "source": [
    "import scipy.stats as scs\n",
    "import numpy as np\n",
    "import math\n",
    "\n",
    "import matplotlib.pyplot as plt\n",
    "%matplotlib inline"
   ]
  },
  {
   "cell_type": "markdown",
   "metadata": {},
   "source": [
    "# Morning Lecture – Introduction to Probability"
   ]
  },
  {
   "cell_type": "markdown",
   "metadata": {},
   "source": [
    "## Probability and Statistics\n",
    "\n",
    "Probability and statistics are closely related disciplines, though in some ways the opposite of each other.\n",
    "\n",
    "In **probability**, we have have a model of how some part of the world behaves. We use this rules to determine how probable it is that certain events occur.\n",
    "\n",
    "In **statistics** we see the events that actually occured, and we use them to try to infer a model."
   ]
  },
  {
   "cell_type": "markdown",
   "metadata": {},
   "source": [
    "### Some definitions and notation...\n",
    "\n",
    "* A set $S$ consists of all possible outcomes or events and is called the sample space\n",
    "* Union: $A \\cup B = \\{ x: x \\in A ~\\mathtt{ or} ~x \\in B\\}$\n",
    "* Intersection: $A \\cap B = \\{x: x \\in A ~\\mathtt{and} ~x \\in B\\}$\n",
    "* Complement: $A^\\complement = \\{ x: x \\notin A \\}$\n",
    "* Disjoint: $A \\cap B = \\emptyset$\n",
    "* Partition: a set of pairwise disjoint sets, ${A_j}$, such that $\\underset{j=1}{\\overset{\\infty}{\\cup}}A_j = S$\n",
    "* $\\left|A \\right| \\equiv$ number of elements in $A$\n",
    "\n",
    "### ...and some laws\n",
    "\n",
    "* DeMorgan's laws: $(A \\cup B)^\\complement = A^\\complement \\cap B^\\complement$ and  $(A \\cap B)^\\complement = A^\\complement \\cup B^\\complement$\n",
    "* Commutative Laws\n",
    "  * $A \\cup B = B \\cup A$\n",
    "  * $A \\cap B = B \\cap A$\n",
    "* Associative\n",
    "  * $A \\cup (B \\cup C) = (A \\cup B) \\cup C$\n",
    "  * $A \\cap (B \\cap C) = (A \\cap B) \\cap C$\n",
    "* Distributive laws\n",
    "  * $A \\cup (B \\cap C) = (A \\cup B) \\cap (A \\cup C)$\n",
    "  * $A \\cap (B \\cup C) = (A \\cap B) \\cup (A \\cap C)$"
   ]
  },
  {
   "cell_type": "markdown",
   "metadata": {},
   "source": [
    "## Permutations and Combinations\n",
    "\n",
    "In general, there are $n!$ ways we can order $n$ objects, since there are $n$ that can come first, $n-1$ that can come 2nd, and so on. So we can line 16 students up $16!$ ways."
   ]
  },
  {
   "cell_type": "code",
   "execution_count": 21,
   "metadata": {},
   "outputs": [
    {
     "data": {
      "text/plain": [
       "20922789888000"
      ]
     },
     "execution_count": 21,
     "metadata": {},
     "output_type": "execute_result"
    }
   ],
   "source": [
    "math.factorial(16)"
   ]
  },
  {
   "cell_type": "markdown",
   "metadata": {},
   "source": [
    "Suppose we choose 5 of you at random from the class of 16 students. How many different ways could we do that?\n",
    "\n",
    "If the order matters, it's a **permutation**. If the order doesn't, it's a **combination**.\n",
    "\n",
    "There are $16$ ways they can choose one student, $16 \\cdot 15$ ways we can choose two, and so on, so $$16\\cdot15\\cdot14\\cdot13\\cdot12 = \\frac{16!}{11!} = {_{16}P_{5}}$$ ways we can choose five students, assuming the order matters. In general\n",
    "\n",
    "$$_nP_k = \\frac{n!}{(n-k)!}$$"
   ]
  },
  {
   "cell_type": "code",
   "execution_count": 22,
   "metadata": {},
   "outputs": [
    {
     "data": {
      "text/plain": [
       "524160.0"
      ]
     },
     "execution_count": 22,
     "metadata": {},
     "output_type": "execute_result"
    }
   ],
   "source": [
    "def permutations(n, k):\n",
    "    return math.factorial(n)/math.factorial(n-k)\n",
    "\n",
    "permutations(16,5)"
   ]
  },
  {
   "cell_type": "markdown",
   "metadata": {},
   "source": [
    "There are $5!$ different way we can order those different students, so the number of combinations is that number divided by $5!$. We write this as $${16 \\choose 5} = \\frac{16!}{11! \\cdot 5!}$$\n",
    "\n",
    "In general,\n",
    "\n",
    "$${n \\choose k} = {_nC_k} = \\frac{n!}{(n-k)!\\cdot k!}$$"
   ]
  },
  {
   "cell_type": "code",
   "execution_count": 23,
   "metadata": {},
   "outputs": [
    {
     "data": {
      "text/plain": [
       "10.0"
      ]
     },
     "execution_count": 23,
     "metadata": {},
     "output_type": "execute_result"
    }
   ],
   "source": [
    "def combinations(n, k):\n",
    "    return math.factorial(n)/(math.factorial(n-k) * math.factorial(k))\n",
    "\n",
    "combinations(5,2)"
   ]
  },
  {
   "cell_type": "markdown",
   "metadata": {},
   "source": [
    "## Multinomial\n",
    "\n",
    "Combinations explain the number of ways of dividing something into two catagoies. When dividing into more categories, use\n",
    "\n",
    "$${n \\choose {n_1, n_2, ... n_k}} = \\frac{n!}{n_1! n_2! ... n_k!}$$\n",
    "\n",
    "which reduces to the above for two cases."
   ]
  },
  {
   "cell_type": "markdown",
   "metadata": {},
   "source": [
    "## Definition of probability\n",
    "\n",
    "Given a sample space S, a *probability function* P of a set (of outcomes) has three properties.\n",
    "\n",
    "* $P(S) = 1$\n",
    "* $P(A) \\ge 0 \\; \\forall \\; A \\subset S$\n",
    "* For a set of pairwise disjoint sets $\\{A_j\\}$, $P(\\cup_j A_j) = \\sum_j P(A_j)$\n",
    "\n",
    "With problems involving permutations and combinations, **every outcome is equally likely**, so the probability of some event is the number of ways it can happen divided by the number of possible outcomes."
   ]
  },
  {
   "cell_type": "markdown",
   "metadata": {},
   "source": [
    "### Tea-drinking problem\n",
    "\n",
    "There's a classic problem in which a woman claims she can tell whether tea or milk is added to the cup first. The famous statistician R.A. Fisher proposed a test: he would prepare eight cups of tea, four each way, and she would select which was which.\n",
    "\n",
    "Assuming the null hypothesis (that she was guessing randomly) what's the probability she guess all correctly?"
   ]
  },
  {
   "cell_type": "code",
   "execution_count": null,
   "metadata": {
    "collapsed": true
   },
   "outputs": [],
   "source": []
  },
  {
   "cell_type": "markdown",
   "metadata": {},
   "source": [
    "## Independence\n",
    "\n",
    "Two events $A$ and $B$ are said to be *independent* iff \n",
    "\n",
    "$$ P(A \\cap B) = P(A) P(B)$$\n",
    "\n",
    "or equivalently\n",
    "\n",
    "$$ P(B \\mid A) = P(B)$$\n",
    "\n",
    "so knowlege of $A$ provides no information about $B$. This can also be written as $A \\perp B$."
   ]
  },
  {
   "cell_type": "markdown",
   "metadata": {},
   "source": [
    "### Example: dice\n",
    "\n",
    "The probability of rolling a 1 on a single fair 6-sided die is $1\\over 6$.\n",
    "\n",
    "What's the probability of two dice having a total value of 3?"
   ]
  },
  {
   "cell_type": "code",
   "execution_count": null,
   "metadata": {
    "collapsed": true
   },
   "outputs": [],
   "source": []
  },
  {
   "cell_type": "markdown",
   "metadata": {},
   "source": [
    "# Bayes' theorem\n",
    "\n",
    "Bayes' theorem says that\n",
    "\n",
    "$$P(A\\mid B) = \\frac{P(B\\mid A) P(A)}{P(B)}$$\n",
    "Where A and B are two possible events.\n",
    "\n",
    "To prove it, consider that\n",
    "\n",
    "\n",
    "$$\\begin{equation}\n",
    "\\begin{aligned}\n",
    "P(A\\mid B) P(B) & = P(A \\cap B) \\\\\n",
    "            & = P(B \\cap A) \\\\\n",
    "            & = P(B\\mid A) P(A) \\\\\n",
    "\\end{aligned}\n",
    "\\end{equation}\n",
    "$$\n",
    "\n",
    "so dividing both sides by $P(B)$ gives the above theorem.\n",
    "\n",
    "In here we usually think of A as being our hypothesis, and B as our observed data, so\n",
    "\n",
    "$$ P(hypothesis \\mid data) = \\frac{P(data \\mid hypothesis) P(hypothesis)}{P(data)}$$\n",
    "\n",
    "where\n",
    "$$ P(data \\mid hypothesis) \\text{ is the likelihood} \\\\\n",
    "P(hypothesis) \\text{ is the prior probability} \\\\\n",
    "P(hypothesis \\mid data) \\text{ is the posterior probability} \\\\\n",
    "P(data) \\text{ is the normalizing constant} \\\\\n",
    "$$\n",
    "\n",
    "The normalizing constant is the difficult one to calculate. In general, we have to use something called the **Law of Total Probability**."
   ]
  },
  {
   "cell_type": "markdown",
   "metadata": {},
   "source": [
    "### Law of Total Probability\n",
    "\n",
    "If {A_n} is a partition of all possible options, then\n",
    "\n",
    "$$\\begin{align}\n",
    "P(B) & = \\sum_i P(B \\cap A_i) \\\\\n",
    "     & = \\sum_i P(B \\mid A_i) \\cdot P(A_i)\n",
    "\\end{align}\n",
    "$$\n",
    "\n",
    "So if $B$ is the observed data and $A_i$ are all the possible hypotheses, we can use this to calculate the normalizing constant."
   ]
  },
  {
   "cell_type": "markdown",
   "metadata": {},
   "source": [
    "### Example: the cookie problem\n",
    "\n",
    "Bowl A has 30 vanilla cookies and 10 chocolate cookies; bowl B has 20 of each. You pick a bowl at random and draw a cookie. Assuming the cookie is vanilla, what's the probability it comes from bowl A?"
   ]
  },
  {
   "cell_type": "code",
   "execution_count": null,
   "metadata": {
    "collapsed": true
   },
   "outputs": [],
   "source": []
  },
  {
   "cell_type": "markdown",
   "metadata": {},
   "source": [
    "### Example: two-sided coins\n",
    "\n",
    "There are three coins in a bag, one with two heads, another with two tails, another with a head and a tail. You pick one and flip it, getting a head. What's the probability of getting a head on the next flip?"
   ]
  },
  {
   "cell_type": "code",
   "execution_count": null,
   "metadata": {
    "collapsed": true
   },
   "outputs": [],
   "source": []
  },
  {
   "cell_type": "code",
   "execution_count": null,
   "metadata": {
    "collapsed": true
   },
   "outputs": [],
   "source": []
  },
  {
   "cell_type": "code",
   "execution_count": null,
   "metadata": {
    "collapsed": true
   },
   "outputs": [],
   "source": []
  },
  {
   "cell_type": "markdown",
   "metadata": {},
   "source": [
    "## Probability chain rule\n",
    "\n",
    "\n",
    "$$\\begin{align}\n",
    "P(A_n, A_{n-1}, ..., A_1) & = P(A_n \\mid A_{n-1},...,A_1) \\cdot P(A_{n-1},...,A_1) \\\\\n",
    " & = P(A_n \\mid A_{n-1},...,A_1) \\cdot P(A_{n-1} \\mid A_{n-2},...,A_1) \\cdot P(A_{n-1},...,A_1) \\\\\n",
    " & = \\prod_{j=1}^n P(A_j \\mid A_{j-1},...,A_1)\n",
    "\\end{align}\n",
    "$$"
   ]
  },
  {
   "cell_type": "code",
   "execution_count": null,
   "metadata": {
    "collapsed": true
   },
   "outputs": [],
   "source": []
  }
 ],
 "metadata": {
  "kernelspec": {
   "display_name": "Python 2",
   "language": "python",
   "name": "python2"
  },
  "language_info": {
   "codemirror_mode": {
    "name": "ipython",
    "version": 2
   },
   "file_extension": ".py",
   "mimetype": "text/x-python",
   "name": "python",
   "nbconvert_exporter": "python",
   "pygments_lexer": "ipython2",
   "version": "2.7.14"
  }
 },
 "nbformat": 4,
 "nbformat_minor": 1
}
