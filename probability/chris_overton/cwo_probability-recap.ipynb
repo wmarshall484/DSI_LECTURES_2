{
 "cells": [
  {
   "cell_type": "markdown",
   "metadata": {
    "slideshow": {
     "slide_type": "slide"
    }
   },
   "source": [
    "# Probability\n",
    "\n",
    "## Recap version: Chris Overton 2016-09-20\n",
    "\n",
    "Based on versions by Isaac and Ben, and after Giovanna's talk\n",
    "\n",
    "\n",
    "## Objectives\n",
    "\n",
    "* Probability, definitions and concepts\n",
    "* Combinatorics, definitions and concepts\n",
    "* Know how to reason about random variables\n",
    "* Be able to choose probability distributions to model things appropriate"
   ]
  },
  {
   "cell_type": "markdown",
   "metadata": {
    "slideshow": {
     "slide_type": "slide"
    }
   },
   "source": [
    "# Probability defintions\n",
    "\n",
    "## Sets\n",
    "The range of all possible outcomes or events, also called the sample space.\n",
    " * Coin flips\n",
    " * Cookies\n",
    " * Heights\n",
    " * Number of slices of pizza eaten before 10 am\n",
    " \n"
   ]
  },
  {
   "cell_type": "markdown",
   "metadata": {
    "slideshow": {
     "slide_type": "slide"
    }
   },
   "source": [
    "## Set Operations\n",
    "\n",
    "Union: $ A \\cup B = \\{x: x \\in A \\vee x\\in B\\}$\n",
    "\n",
    "Intersection: $ A \\cap B = \\{x: x \\in A \\wedge x\\in B\\}$\n",
    "\n",
    "Difference: $ A \\setminus B = \\{x: x \\in A \\wedge x \\notin B\\}$\n",
    "\n",
    "Complement: $ A^C = \\{x: x\\notin A\\} $\n",
    "\n",
    "The null (empty) set: $ \\emptyset $\n",
    "\n",
    "### DeMorgan's Law\n",
    "\n",
    "$ \\neg (A \\vee B) \\iff \\neg A \\wedge \\neg B $\n",
    "\n",
    "$ \\neg (A \\wedge B) \\iff \\neg A \\vee \\neg B $  \n",
    "\n",
    "Notice how union and intersection (or 'and' and 'or') get switched as not distributes over events."
   ]
  },
  {
   "cell_type": "markdown",
   "metadata": {
    "slideshow": {
     "slide_type": "slide"
    }
   },
   "source": [
    "# Combinatorics\n",
    "\n",
    "The mathematics of ordering, choosing sets, etc. Useful for counting events in your sample space.\n",
    "\n",
    "## Factorial\n",
    "If there are 10 lottery balls and we want draw them all, how many possible orderings are there?\n",
    "\n",
    "## Permutations\n",
    "Number of ways to choose things when order does matter.\n",
    "\n",
    "On a baseball team with 20 players, how many different batting orders are there?\n",
    "\n",
    "If only the first three batters get to bat, how many lineups are there?\n",
    "\n",
    "## Combinations\n",
    "Number of ways to choose things when order doesn't matter\n",
    "\n",
    "How many different pairs are there for afternoons sprints with 24 students?\n",
    "\n",
    "How many ways are there to assign 15 students to three groups with sizes 3, 5, and 7?"
   ]
  },
  {
   "cell_type": "markdown",
   "metadata": {
    "slideshow": {
     "slide_type": "slide"
    }
   },
   "source": [
    "# Probability\n",
    "\n",
    "So far we only have a notion of sets, not of probability, what assumption do we rely on when we do basic set-based calculations, like cards?\n",
    "\n",
    "What're examples of some sets where this assumption might be unjustifiable?"
   ]
  },
  {
   "cell_type": "markdown",
   "metadata": {
    "collapsed": true,
    "slideshow": {
     "slide_type": "slide"
    }
   },
   "source": [
    "# Formal Probability\n",
    "\n",
    "For some sample space $S$, a probability function $P$ has three properties:\n",
    "\n",
    "For every event $A$ allowed in $S$, $ P(A) \\ge 0 $\n",
    "\n",
    "$ P(S) = 1 $\n",
    "\n",
    "$ \\forall A_i, A_j : A_i \\cap A_j = \\emptyset \\Rightarrow P(A_i \\cup A_j) = P(A_i) + P(A_j) $\n"
   ]
  },
  {
   "cell_type": "markdown",
   "metadata": {
    "slideshow": {
     "slide_type": "slide"
    }
   },
   "source": [
    "# Independence\n",
    "\n",
    "Events are independent (notation $ A\\bot B$) if:\n",
    "\n",
    "$$\n",
    "P(A\\cap B) = P(A)P(B)\n",
    "$$\n",
    "\n",
    "Or, equivalently\n",
    "\n",
    "$$\n",
    "P(A|B) = P(A)\n",
    "$$\n",
    "\n",
    "The above is known as _conditional_ probability.\n",
    "\n",
    "## Check understanding\n",
    "* How could we use the definition of independence to test whether two events are independent?\n",
    "* What does knowing that B has occurred tell us about the likelihood of A?\n",
    " * Under independence?\n",
    " * Without independence?"
   ]
  },
  {
   "cell_type": "markdown",
   "metadata": {
    "slideshow": {
     "slide_type": "slide"
    }
   },
   "source": [
    "# Urns\n",
    "\n",
    "> Bernoulli used the Latin word urna, which primarily means a clay vessel, but is also the term used in ancient Rome for a vessel of any kind for collecting ballots or lots; the present-day Italian word for ballot box is still urna. Bernoulli's inspiration may have been lotteries, elections, or games of chance which involved drawing balls from a container\n",
    "\n",
    "![Urn](http://i.dailymail.co.uk/i/pix/2015/01/29/article-urn:publicid:ap.org:fdadbd9d25a243bf92584d7b33ed6c20-6VwuLK88NHSK2-758_634x422.jpg)\n"
   ]
  },
  {
   "cell_type": "markdown",
   "metadata": {
    "slideshow": {
     "slide_type": "slide"
    }
   },
   "source": [
    "# A problem\n",
    "\n",
    "Three coins are in an Urn.  \n",
    "\n",
    "Coin 1 has sides HH (i.e. heads on each side)  \n",
    "Coin 2 has sides HT (like a normal fair coin)  \n",
    "Coin 3 has sides TT (tails on each side.)\n",
    "\n",
    "Pull out a coin and flip it. It comes up H.\n",
    "\n",
    "What is the probability he same coin comes out H if you flip it a second time?"
   ]
  },
  {
   "cell_type": "markdown",
   "metadata": {
    "slideshow": {
     "slide_type": "slide"
    }
   },
   "source": [
    "# Solution\n",
    "\n",
    "$ P(X_2 = H) = 1/2 $\n",
    "\n",
    "$ P(X_2 = H | X_1 = H) = \\frac{5}{6} \\ne \\frac{1}{2} = P(X_2=H) $\n",
    "\n",
    "Originally, each coin had a probability 1/3 of being picked. Now it is impossible for the coin picked to have been the third, and it is now twice as likely that the coin picked is the second."
   ]
  },
  {
   "cell_type": "markdown",
   "metadata": {
    "slideshow": {
     "slide_type": "slide"
    }
   },
   "source": [
    "# Conditional probability\n",
    "\n",
    "$ P(B|A) = P(A \\cap B) / P(A) $\n",
    "\n",
    "in other words\n",
    "\n",
    "$ P(X_2=H | X_1=H) = P(X_2 = H \\cap X_1 = H) / P(X_1=H) = \\frac{\\frac{1}{3} + \\frac{1}{3}\\frac{1}{4}}{\\frac{1}{2}}$"
   ]
  },
  {
   "cell_type": "code",
   "execution_count": 21,
   "metadata": {
    "collapsed": false,
    "slideshow": {
     "slide_type": "slide"
    }
   },
   "outputs": [
    {
     "data": {
      "text/html": [
       "<div>\n",
       "<table border=\"1\" class=\"dataframe\">\n",
       "  <thead>\n",
       "    <tr style=\"text-align: right;\">\n",
       "      <th></th>\n",
       "      <th>second</th>\n",
       "    </tr>\n",
       "    <tr>\n",
       "      <th>first</th>\n",
       "      <th></th>\n",
       "    </tr>\n",
       "  </thead>\n",
       "  <tbody>\n",
       "    <tr>\n",
       "      <th>False</th>\n",
       "      <td>0.176715</td>\n",
       "    </tr>\n",
       "    <tr>\n",
       "      <th>True</th>\n",
       "      <td>0.816956</td>\n",
       "    </tr>\n",
       "  </tbody>\n",
       "</table>\n",
       "</div>"
      ],
      "text/plain": [
       "         second\n",
       "first          \n",
       "False  0.176715\n",
       "True   0.816956"
      ]
     },
     "execution_count": 21,
     "metadata": {},
     "output_type": "execute_result"
    }
   ],
   "source": [
    "import random\n",
    "import pandas as pd\n",
    "coins = ['HH', 'HT', 'TT']\n",
    "results = []\n",
    "for i in range(1000):\n",
    "    coin = random.choice(coins)\n",
    "    results.append([random.choice(coin) for i in [1,2]])\n",
    "df = pd.DataFrame(results, columns=['first', 'second']) == 'H'\n",
    "df.groupby('first').mean()"
   ]
  },
  {
   "cell_type": "markdown",
   "metadata": {
    "slideshow": {
     "slide_type": "slide"
    }
   },
   "source": [
    "# Probability Chain Rule\n",
    "\n",
    "Under independence?\n",
    "\n",
    "$ P(X_1, X_2, X_3) = P(X_1)*P(X_2)*P(X_3) $\n",
    "\n",
    "Not under independence?\n",
    "\n",
    "$ P(X_1, X_2, X_3) = P(X_1|X_2, X_3) P(X_2|X_3) P(X_3) $\n",
    "\n",
    "More generally:\n",
    "\n",
    "$ P(\\cap_{i}^nX_i) = \\prod_i^n P(X_i | \\cap_k^{i-1} X_k) $"
   ]
  },
  {
   "cell_type": "markdown",
   "metadata": {
    "slideshow": {
     "slide_type": "slide"
    }
   },
   "source": [
    "# Law of Total Probability\n",
    "\n",
    "If $\\{B_n\\}$ is a partition of a sample space $ X $, meaning $ \\cup_i B_i = X$ and $B_i \\cap B_j=\\emptyset$  $ \\forall i, j$\n",
    "\n",
    "Then for any event $A \\subset X$  \n",
    "\n",
    "$ P(A) = \\sum P(A\\cap B_i) $\n",
    "\n",
    "or\n",
    "\n",
    "$ P(A) = \\sum P(A|B_i) P(B_i)$  \n"
   ]
  },
  {
   "cell_type": "code",
   "execution_count": 19,
   "metadata": {
    "collapsed": false,
    "slideshow": {
     "slide_type": "skip"
    }
   },
   "outputs": [
    {
     "name": "stdout",
     "output_type": "stream",
     "text": [
      "place keeper because Jupyter slides don't work...\n"
     ]
    }
   ],
   "source": [
    "print('place keeper because Jupyter slides don\\'t work...')"
   ]
  },
  {
   "cell_type": "markdown",
   "metadata": {
    "slideshow": {
     "slide_type": "slide"
    }
   },
   "source": [
    "# A Famous Rule\n",
    "\n",
    "## Bayes Rule\n",
    "Allows us to compute $P(B|A)$ using information about $P(A|B)$\n",
    "\n",
    "$$P(B|A) = \\frac{P(A|B)P(B)}{P(A)}$$\n",
    "\n",
    "### Proof (remember this if nothing else):  \n",
    "\n",
    "The probability for the intersection can be obtained from either end of the equation below:\n",
    "\n",
    "$$P(B|A) * P(A) = P(A \\cap B) = P(A|B)* P(B)$$\n",
    "\n",
    "### The reson this is helpful: often, it is easier to compute conditional probabilities going in one direction, but you really want conditional probabilities going in the other \"hard\" direction"
   ]
  },
  {
   "cell_type": "markdown",
   "metadata": {
    "slideshow": {
     "slide_type": "slide"
    }
   },
   "source": [
    "## A famously counterintuitive example\n",
    "\n",
    "A fairly reliable diagnostic test T exists for a rare disease D. The result of the test is either positive ($T_+$) or negative ($T_-$)\n",
    "\n",
    "|Conditional Events | Probability |\n",
    "| --------- | ----------- |\n",
    "| $ P(T_+|D)$ | .99 |\n",
    "| $ P(T_+|\\neg D)$ | .05 |\n",
    "| $P(D)$ | .005 |\n",
    "\n",
    "So for someone who tests positive, what is their probability of having the disease ($ P(D | T_+) $)?\n",
    "\n",
    "First, give a quick rough answer!  \n",
    "In particular, are they more likely to have the disease or not?"
   ]
  },
  {
   "cell_type": "markdown",
   "metadata": {
    "slideshow": {
     "slide_type": "slide"
    }
   },
   "source": [
    "# Random Variables\n",
    "\n",
    "Random variables formalize a mapping we have been implicitly using already:\n",
    "\n",
    "$ X(s) : S\\Rightarrow \\Re $\n",
    "\n",
    "* Capital letters refer to random variables.\n",
    "* Lowercase to refer to specific realization.\n",
    "* $P(X=x) = P(\\{s\\in S : X(s) = x\\})$ \n",
    "* $ X \\sim XYZ(\\alpha, \\beta, ...) $ means X is distributed as, XYZ with parameters.\n",
    "* \"i.i.d.\""
   ]
  },
  {
   "cell_type": "markdown",
   "metadata": {
    "slideshow": {
     "slide_type": "slide"
    }
   },
   "source": [
    "# Cumulative distribution function\n",
    "\n",
    "$ F_X(x) = P(X \\leq x) $\n",
    "\n",
    "What kinds of bounds can we put on this function?\n",
    "\n",
    "This works for both continuous and discrete functions."
   ]
  },
  {
   "cell_type": "markdown",
   "metadata": {
    "slideshow": {
     "slide_type": "slide"
    }
   },
   "source": [
    "# Probability density/distribution function \"PDF\", Probability mass function (PMF)\n",
    "\n",
    "Suppose X is a standard normal variable, with mean = 0, variance = 1: $X ~ N(0, 1)$.  \n",
    "What is the probability p(X = 1)?\n",
    "\n",
    "PMF (probability mass function) for discrete variables:\n",
    "\n",
    "$ f_X(x) = P(X = x)$\n",
    "\n",
    "PDF (probability density/distribution function) for continuous variables, think of it as the derivative of the CDF:\n",
    "\n",
    "$ f_X(x)dx = P(x < X < x+dx) $\n",
    "\n",
    "$ f_X(x) = \\frac{dF_X(x)}{dx} $"
   ]
  },
  {
   "cell_type": "markdown",
   "metadata": {
    "slideshow": {
     "slide_type": "slide"
    }
   },
   "source": [
    "# Expectation\n",
    "Discrete:\n",
    "$ E[X] = \\sum_{s\\in S} s * f_X(s) $\n",
    "\n",
    "Continuous:\n",
    "$ E[X] = \\int_{-\\infty}^{\\infty}s * f_X(s)ds$\n",
    "\n",
    "A measure, but not the only one, of the central tendency of a distribution. Alternatives?\n",
    "\n",
    "Note, the sample mean is:\n",
    "\n",
    "$ \\bar{x} = \\frac{1}{n}\\sum_j^n x_j $\n",
    "\n",
    "## Mean vs. median:\n",
    "\n",
    "Mean: 'see-saw' point where the pdf/pmf graph would balance \n",
    "\n",
    "Median: a line that divides the total probability into equal halves (by area)\n",
    "\n",
    "* Q * : What happens to mean and median if a point in the upper half of the distribution (say with value greater than the mean) increases a hundred times?"
   ]
  },
  {
   "cell_type": "markdown",
   "metadata": {
    "slideshow": {
     "slide_type": "slide"
    }
   },
   "source": [
    "##  Quantiles (percentiles)\n",
    "\n",
    "Quantiles are another way to characterize the distribution of data. In contrast to PDF/CDF, they go *backwards* from probability to value.\n",
    "\n",
    "*   The *quantile function* of $X$ is\n",
    "\n",
    "$$Q_{\\alpha}(x) = \\underset{x}{\\min} \\{ x: \\Pr(X \\leq x) \\geq \\alpha \\}$$\n",
    "$$Q_{\\alpha}(x) = \\underset{x}{\\min} \\{ x: F(x) \\geq \\alpha \\},$$\n",
    "\n",
    "where $\\alpha \\in (0, 1)$\n",
    "\n",
    "*   Given regularity conditions, $Q_{\\alpha}[x] = F^{-1}(\\alpha)$\n",
    "*   If $U = F_X(x)$ then $u \\sim \\mathit{U}(0,1)$\n",
    "*   *percentiles* are just the quantile $\\times 100$\n",
    "\n",
    "Example: the 95th percentile of a varible X is the value x such that 95% of the time X (the variable) is $\\leq$ x (the value.)   \n",
    "This might be slightly confusing in case $P(X=x) > 0$"
   ]
  },
  {
   "cell_type": "markdown",
   "metadata": {
    "slideshow": {
     "slide_type": "slide"
    }
   },
   "source": [
    "##  Common quantiles\n",
    "\n",
    "During EDA, it is often helpful to examine:\n",
    "\n",
    "*   Median: $Q_{0.5}[x]$\n",
    "*   Upper quartile: $Q_{0.75}[x]$\n",
    "*   Lower quartile: $Q_{0.25}[x]$\n",
    "*   Note: the median usually does not equal the mean, especially for data with a long tail\n",
    "\n",
    "Pro tip:    compute a box plot"
   ]
  },
  {
   "cell_type": "markdown",
   "metadata": {
    "slideshow": {
     "slide_type": "slide"
    }
   },
   "source": [
    "# Variance\n",
    "\n",
    "$ Var[X] = E[(X - E[X])^2] $\n",
    "\n",
    "What are the units?\n",
    "\n",
    "* Q:  Suppose you get the value 1 for one realization of a random variable. What is your estimate of its variance?\n",
    "* Q:  Same question for two realizations with values {1, 1}\n",
    "* Q : Same question for two realizations with values {1, 0}\n",
    "\n",
    "Note, the sample variance is:\n",
    "\n",
    "$ s^2 = \\frac{1}{n-1} \\sum_{j=1}^n (x_j - \\bar{x})^2 $\n",
    "\n",
    "# Standard deviation\n",
    "\n",
    "$ \\sigma(X) = \\sqrt{Var[X]} $\n",
    "\n",
    "Useful because its units are in units of our original RV.\n"
   ]
  },
  {
   "cell_type": "markdown",
   "metadata": {
    "slideshow": {
     "slide_type": "slide"
    }
   },
   "source": [
    "##  Warning: ddof\n",
    "\n",
    "Many Numpy functions compute population values by default:\n",
    "\n",
    "*   Example:    `np.var(..., ddof=0, ...)` computes\n",
    "\n",
    "$$s^2 = \\dfrac{1}{n} \\underset{i=1}{\\overset{n}{\\sum}} (x_i - \\overline{x})^2$$\n",
    "\n",
    "*   Must set `ddof=1` to get sample variance!\n",
    "\n",
    "$$s^2 = \\dfrac{1}{n-1} \\underset{i=1}{\\overset{n}{\\sum}} (x_i - \\overline{x})^2$$\n",
    "\n",
    "*   `ddof` means 'delta degrees of freedom'"
   ]
  },
  {
   "cell_type": "markdown",
   "metadata": {
    "slideshow": {
     "slide_type": "slide"
    }
   },
   "source": [
    "# Covariance\n",
    "We can also compute the covariance between two different variables:\n",
    "\n",
    "$Cov[X,Y] = E[(X - E[X])(Y - E[Y])]$\n",
    "\n",
    "Notice $Cov[X, X]$ is just $Var(X)$  \n",
    "\n",
    "This is related to the\n",
    "\n",
    "# Correlation\n",
    "\n",
    "$ Corr[X,Y] = \\frac{E[(X - E[X])(Y - E[Y])]}{\\sigma(X)\\sigma(Y)} = \\frac{Cov[X,Y]}{\\sigma(X)\\sigma(Y)}$ "
   ]
  },
  {
   "cell_type": "markdown",
   "metadata": {
    "slideshow": {
     "slide_type": "slide"
    }
   },
   "source": [
    "# Marginal Distributions\n",
    "\n",
    "Marginal distribution takes a (multivariate) distribution of variables that might not be independent. \n",
    "\n",
    "It considers only a single dimension, by summing (discrete) or integrating (continuous) away the other dimensions:\n",
    "\n",
    "$$\n",
    "f_X(x) = \\int_{-\\infty}^\\infty f_{XY}(x,y) dy\n",
    "$$"
   ]
  },
  {
   "cell_type": "markdown",
   "metadata": {
    "slideshow": {
     "slide_type": "slide"
    }
   },
   "source": [
    "# Example:\n",
    "\n",
    "![](https://upload.wikimedia.org/wikipedia/commons/8/8e/MultivariateNormal.png)"
   ]
  },
  {
   "cell_type": "markdown",
   "metadata": {
    "slideshow": {
     "slide_type": "slide"
    }
   },
   "source": [
    "# Discrete case:\n",
    "|x1|x2|\tx3|\tx4|\tpy(Y)\n",
    "--|--|--|--|--\n",
    "y1|$\\frac{4}{32}$|$\\frac{2}{32}$|$\\frac{1}{32}$|$\\frac{1}{32}$|$\\frac{8}{32}$\n",
    "y2|$\\frac{2}{32}$|$\\frac{4}{32}$|$\\frac{1}{32}$|$\\frac{1}{32}$|$\\frac{8}{32}$\n",
    "y3|$\\frac{2}{32}$|$\\frac{2}{32}$|$\\frac{2}{32}$|$\\frac{2}{32}$|$\\frac{8}{32}$\n",
    "y4|$\\frac{8}{32}$|0|0|0|$\\frac{8}{32}$\n",
    "px(X)|?|?|?|?|?"
   ]
  },
  {
   "cell_type": "markdown",
   "metadata": {
    "slideshow": {
     "slide_type": "slide"
    }
   },
   "source": [
    "# Conditional Distributions\n",
    "\n",
    "$$\n",
    "f(y|x) = \\frac{f_{XY}(x,y)}{f_X(x)}\n",
    "$$\n",
    "\n",
    "How would we relate that to the images we just saw?\n",
    "\n",
    "Why might this type of conditional probability be important in data science?"
   ]
  },
  {
   "cell_type": "markdown",
   "metadata": {
    "slideshow": {
     "slide_type": "slide"
    }
   },
   "source": [
    "# Anscombe's quartet"
   ]
  },
  {
   "cell_type": "code",
   "execution_count": 5,
   "metadata": {
    "collapsed": false,
    "slideshow": {
     "slide_type": "skip"
    }
   },
   "outputs": [
    {
     "name": "stdout",
     "output_type": "stream",
     "text": [
      "Populating the interactive namespace from numpy and matplotlib\n"
     ]
    },
    {
     "name": "stderr",
     "output_type": "stream",
     "text": [
      "WARNING: pylab import has clobbered these variables: ['random']\n",
      "`%matplotlib` prevents importing * from pylab and numpy\n"
     ]
    }
   ],
   "source": [
    "from numpy import array, amin, amax\n",
    "%pylab inline\n",
    "\n",
    "def fit(x):\n",
    "    return 3+0.5*x\n",
    "\n",
    "def anscombe():\n",
    "    x =  array([10, 8, 13, 9, 11, 14, 6, 4, 12, 7, 5])\n",
    "    y1 = array([8.04, 6.95, 7.58, 8.81, 8.33, 9.96, 7.24, 4.26, 10.84, 4.82, 5.68])\n",
    "    y2 = array([9.14, 8.14, 8.74, 8.77, 9.26, 8.10, 6.13, 3.10, 9.13, 7.26, 4.74])\n",
    "    y3 = array([7.46, 6.77, 12.74, 7.11, 7.81, 8.84, 6.08, 5.39, 8.15, 6.42, 5.73])\n",
    "    x4 = array([8,8,8,8,8,8,8,19,8,8,8])\n",
    "    y4 = array([6.58,5.76,7.71,8.84,8.47,7.04,5.25,12.50,5.56,7.91,6.89])\n",
    "    xfit = array( [amin(x), amax(x) ] )\n",
    "    figure(figsize(12,8))\n",
    "    subplot(221)\n",
    "    plot(x,y1,'ks', xfit, fit(xfit), 'r-', lw=2)\n",
    "    axis([2,20,2,14])\n",
    "    setp(gca(), xticklabels=[], yticks=(4,8,12), xticks=(0,10,20))\n",
    "    text(3,12, 'I', fontsize=20)\n",
    "\n",
    "    subplot(222)\n",
    "    plot(x,y2,'ks', xfit, fit(xfit), 'r-', lw=2)\n",
    "    axis([2,20,2,14])\n",
    "    setp(gca(), xticklabels=[], yticks=(4,8,12), yticklabels=[], xticks=(0,10,20))\n",
    "    text(3,12, 'II', fontsize=20)\n",
    "\n",
    "    subplot(223)\n",
    "    plot(x,y3,'ks', xfit, fit(xfit), 'r-', lw=2)\n",
    "    axis([2,20,2,14])\n",
    "    text(3,12, 'III', fontsize=20)\n",
    "    setp(gca(), yticks=(4,8,12), xticks=(0,10,20))\n",
    "\n",
    "    subplot(224)\n",
    "\n",
    "    xfit = array([amin(x4),amax(x4)])\n",
    "    plot(x4,y4,'ks', xfit, fit(xfit), 'r-', lw=2)\n",
    "    axis([2,20,2,14])\n",
    "    setp(gca(), yticklabels=[], yticks=(4,8,12), xticks=(0,10,20))\n",
    "    text(3,12, 'IV', fontsize=20)\n",
    "\n",
    "    #verify the stats\n",
    "    pairs = (x,y1), (x,y2), (x,y3), (x4,y4)\n",
    "    for x,y in pairs:\n",
    "        print ('mean=%1.2f, std=%1.2f, r=%1.2f'%(mean(y), std(y), corrcoef(x,y)[0][1]))"
   ]
  },
  {
   "cell_type": "code",
   "execution_count": 20,
   "metadata": {
    "collapsed": false,
    "slideshow": {
     "slide_type": "slide"
    }
   },
   "outputs": [
    {
     "name": "stdout",
     "output_type": "stream",
     "text": [
      "mean=7.50, std=1.94, r=0.82\n",
      "mean=7.50, std=1.94, r=0.82\n",
      "mean=7.50, std=1.94, r=0.82\n",
      "mean=7.50, std=1.94, r=0.82\n"
     ]
    },
    {
     "data": {
      "image/png": "[encoded data removed]",
      "text/plain": [
       "<matplotlib.figure.Figure at 0x1149bf550>"
      ]
     },
     "metadata": {},
     "output_type": "display_data"
    }
   ],
   "source": [
    "anscombe()"
   ]
  },
  {
   "cell_type": "markdown",
   "metadata": {
    "slideshow": {
     "slide_type": "fragment"
    }
   },
   "source": [
    "In each of the four cases above, for each of x and y, mean and variance are nearly the same, as is the correlation of x and y.  \n",
    "That means the linear regression of y on x would is the same."
   ]
  },
  {
   "cell_type": "markdown",
   "metadata": {
    "slideshow": {
     "slide_type": "slide"
    }
   },
   "source": [
    "# Correlation\n",
    "Captures:\n",
    " * Direction (positive or negative)\n",
    " * Closeness to linearity of association\n",
    " \n",
    "Doesn't Capture:\n",
    "\n",
    "<img src=\"https://upload.wikimedia.org/wikipedia/commons/d/d4/Correlation_examples2.svg\" width=800 />"
   ]
  },
  {
   "cell_type": "markdown",
   "metadata": {
    "slideshow": {
     "slide_type": "fragment"
    }
   },
   "source": [
    "1) Notice that correlation doesn't care what the *slope* is of any linear association.  \n",
    "2) Even with zero correlation, y can have a very tight dependency on x. So 'not correlated' doesn't mean 'not related'."
   ]
  },
  {
   "cell_type": "markdown",
   "metadata": {
    "slideshow": {
     "slide_type": "slide"
    }
   },
   "source": [
    "#   Common distributions\n",
    "\n",
    "\n",
    "##  Overview\n",
    "\n",
    "We now review the properties of some common distributions:\n",
    "\n",
    "*   Discrete\n",
    "\n",
    "    -   Bernoulli\n",
    "    -   Binomial\n",
    "    -   Geometric\n",
    "    -   Poisson\n",
    "\n",
    "*   Continuous\n",
    "\n",
    "    -   Uniform\n",
    "    -   Exponential\n",
    "    -   Gaussian a.k.a. Normal\n",
    "    -   $\\chi^2$ ('chi squared')\n",
    "    -   Student's t\n",
    "    -   F distribution"
   ]
  },
  {
   "cell_type": "markdown",
   "metadata": {
    "slideshow": {
     "slide_type": "slide"
    }
   },
   "source": [
    "# Discrete distributions\n",
    "\n",
    "##  1-bit Bernoulli (and even less information if $p \\neq 1/2$)\n",
    "\n",
    "Models a toss of an unfair coin or clicking on a website:\n",
    "\n",
    "*   $X \\sim \\mathtt{Bernoulli}(p)$\n",
    "*   PMF:    $\\Pr[H] = p$ (\"success\") and $\\Pr[T] = 1 - p$ (\"failure\")\n",
    "*   Mean:   $\\mathbb{E}[x] = p$\n",
    "*   Variance:   $\\mathtt{Var}[x] = p \\cdot (1-p)$\n",
    "\n",
    "\n",
    "##  Example: click through rate\n",
    "\n",
    "Given $N$ visitors of whom $n$ click on the 'Buy' button:\n",
    "\n",
    "*   What is click through rate (CTR)?\n",
    "*   What is the variance of the click through rate?\n",
    "\n",
    "\n",
    "##  Binomial = n-Bernoulli's\n",
    "\n",
    "Models repeated tosses of a coin:\n",
    "\n",
    "*   $X \\sim \\mathtt{Binomial}(n,p)$ for $n$ tosses of a coin where $\\Pr[H] = p$\n",
    "*   PMF:    $\\Pr[X = k] = \\dbinom{n}{k} p^k \\cdot (1 - p)^{(n - k)}, \\forall \\, 0 \\leq k \\leq n$\n",
    "*   Mean:   $n \\cdot p$\n",
    "*   Variance:   $n \\cdot p \\cdot (1 - p)$\n",
    "*   Approaches Gaussian for limit of large $n$"
   ]
  },
  {
   "cell_type": "markdown",
   "metadata": {},
   "source": [
    "##  Geometric - number of independent Bernoulli's up to first success  \n",
    "\n",
    "### Caution: sometimes defined as this - 1: number of Bernoulli failures before success\n",
    "\n",
    "Models probability succeeding on the $k$-th try:\n",
    "\n",
    "*   $X \\sim \\mathtt{Geometric}(p, k)$\n",
    "*   PMF:    $\\Pr[X = k] = p \\cdot (1-p) ^{(k - 1)}$\n",
    "*   Mean:   $\\dfrac{1}{p}$\n",
    "*   Variance:   $\\dfrac{1-p}{p^2}$"
   ]
  },
  {
   "cell_type": "markdown",
   "metadata": {
    "slideshow": {
     "slide_type": "slide"
    }
   },
   "source": [
    "##  Poisson\n",
    "\n",
    "Models count of events in a period of time, assuming a certain average rate, and independent events.\n",
    "\n",
    "*   $X \\sim \\mathtt{Poisson}(\\lambda)$\n",
    "*   PMF:    $\\Pr[X = k] = \\exp(- \\lambda) \\cdot \\dfrac{\\lambda^k}{k!}, \\forall \\, k = 0, 1, 2, ...$\n",
    "*   Mean = variance = $\\lambda$\n",
    "*   $\\lambda$ is the number of events during the interval of interest\n",
    "*   Note:  $\\Pr[X = k]$ is just one term in the Taylor's series expansion of $\\exp(x)$ when suitably normalized\n",
    "\n",
    "Example: number of visitors to a web site\n",
    "\n",
    "Remark: the assumption that mean = variance is very strong.  In practice, better to fit a model with *overdispersion* such as the negative binomial distribution, and test whether the assumption holds"
   ]
  },
  {
   "cell_type": "markdown",
   "metadata": {},
   "source": [
    "# Continuous distributions  \n",
    "\n",
    "##  Uniform\n",
    "\n",
    "Models a process where all values in an interval $[a, b]$ are equally likely:\n",
    "\n",
    "*   $X \\sim \\mathtt{U}(a,b)$\n",
    "*   PDF:    $f(x) = \\dfrac{1}{b - a}, \\forall \\, x \\in [a, b]$ and $0$ otherwise\n",
    "*   Mean:   $\\dfrac{a+b}{2}$\n",
    "*   Variance:   $\\dfrac{(b-a)^2}{12}$\n",
    "*   Note:   any continuous random variable can be transformed into a uniformly distributed variable by letting $u = F_X(x)$"
   ]
  },
  {
   "cell_type": "markdown",
   "metadata": {
    "slideshow": {
     "slide_type": "slide"
    }
   },
   "source": [
    "##  Exponential\n",
    "\n",
    "Models survival, such as the fraction of uranium which has not decayed by time $t$ or time until a bus arrives:\n",
    "\n",
    "*   $T \\sim \\mathtt{Exp}(\\lambda)$\n",
    "*   $1 / \\lambda$ is close to the half-life\n",
    "*   CDF:    $\\Pr[T \\leq t] = 1 - e^{- \\lambda \\cdot t}, x \\geq 0, \\lambda \\geq 0$\n",
    "*   Mean:   $1/\\lambda$\n",
    "*   Variance:   $1/\\lambda^2$\n",
    "*   'Memory-less'"
   ]
  },
  {
   "cell_type": "markdown",
   "metadata": {
    "slideshow": {
     "slide_type": "slide"
    }
   },
   "source": [
    "##  Gaussian a.k.a. Normal - the mother of all distributions!\n",
    "\n",
    "A benchmark distribution:\n",
    "\n",
    "*   $X \\sim \\mathit{N}(\\mu, \\sigma^2)$\n",
    "*   PDF:    $f(x; \\mu, \\sigma^2) = \\dfrac{1}{\\sqrt{2 \\pi}} \\exp \\left(- \\dfrac{1}{2} \\dfrac{ (x - \\mu)^2 }{\\sigma^2} \\right)$\n",
    "*   Often, compute the 'z-statistic':\n",
    "    -   $z = \\dfrac{\\overline{x} - \\mu}{\\sigma / \\sqrt{n}}$\n",
    "    -   Perform a 'z-test' to check probability of observed value\n",
    "*   'Standard normal' is $\\mathit{N}(0,1)$ - mean $\\mu = 0$, variance $\\sigma^2 = 1$\n",
    "    -   PDF is $\\phi(x)$\n",
    "    -   CDF is $\\Phi(x)$  \n",
    "    - Caution: the literature usually passes variance in as the second argument, as in $N(\\mu, \\sigma^2) $, but for scipy.stats.norm, the second scale argument is $\\sigma$ (standard deviation) rather than $\\sigma^2$ variance.\n",
    "    \n",
    "*   Will discuss Central Limit Theorem tomorrow\n",
    "\n",
    "This is the famous 'Bell-curve' distribution and is associated with many processes, such as white noise, Brownian motion, etc.\n"
   ]
  },
  {
   "cell_type": "markdown",
   "metadata": {},
   "source": [
    "##  Other distributions\n",
    "\n",
    "Some other distributions:\n",
    "\n",
    "*   $\\chi^2$:\n",
    "    -   Models sum of $k$ squared, independent, normally-distributed random variables\n",
    "    -   Use for goodness of fit tests\n",
    "*   Student's t:    distribution of the *t-statistic*:\n",
    "    -   t-statistic:    $t = \\dfrac{\\overline{x} - \\mu}{s / \\sqrt{n}},$ where $s$ is the standard error\n",
    "    -   Perform a 't-test' to check probability of observed value\n",
    "    -   Has fatter tails than normal distribution\n",
    "*   F-distribution:\n",
    "    -   Distribution of the ratio of two $\\chi^2$ random variables\n",
    "    -   Use to test restrictions and ANOVA"
   ]
  },
  {
   "cell_type": "markdown",
   "metadata": {
    "slideshow": {
     "slide_type": "slide"
    }
   },
   "source": [
    "##  Digression: random numbers\n",
    "\n",
    "Bad news: the computer generates *pseudo*-random numbers:\n",
    "\n",
    "*   Not truly random\n",
    "*   Generated using a variety of algorithms so that they satisfy statistical tests\n",
    "*   Most proofs use true random numbers ... so be careful they may not hold with pseudo-random numbers"
   ]
  },
  {
   "cell_type": "markdown",
   "metadata": {
    "slideshow": {
     "slide_type": "slide"
    }
   },
   "source": [
    "# Distributions\n",
    "\n",
    "Rules for choosing a good distribution:\n",
    "\n",
    "* Is data discrete or continuous?\n",
    "* Is data symmetric?\n",
    "* What limits are there on possible values for the data?\n",
    "* How likely are extreme values?"
   ]
  },
  {
   "cell_type": "markdown",
   "metadata": {
    "slideshow": {
     "slide_type": "slide"
    }
   },
   "source": [
    "#  Summary\n",
    "\n",
    "\n",
    "##  Summary\n",
    "\n",
    "**Q**:  When do you use factorial vs. permutation vs. combination?\n",
    "\n",
    "**Q**:  What is independence?\n",
    "\n",
    "**Q**:  What is conditional probability? How do I use Bayes's rule?\n",
    "\n",
    "**Q**:  What are the PDF and CDF?\n",
    "\n",
    "**Q**:  What are moments and which should you use to characterize a distribution?  How do you calculate them?\n",
    "\n",
    "**Q**:  What is a quantile?\n",
    "\n",
    "**Q**:  What are some common distributions?  What type of processes do they model?"
   ]
  },
  {
   "cell_type": "code",
   "execution_count": null,
   "metadata": {
    "collapsed": true
   },
   "outputs": [],
   "source": []
  }
 ],
 "metadata": {
  "celltoolbar": "Slideshow",
  "kernelspec": {
   "display_name": "Python 2",
   "language": "python",
   "name": "python2"
  },
  "language_info": {
   "codemirror_mode": {
    "name": "ipython",
    "version": 2
   },
   "file_extension": ".py",
   "mimetype": "text/x-python",
   "name": "python",
   "nbconvert_exporter": "python",
   "pygments_lexer": "ipython2",
   "version": "2.7.12"
  }
 },
 "nbformat": 4,
 "nbformat_minor": 0
}
