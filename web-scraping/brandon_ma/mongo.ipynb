{
 "cells": [
  {
   "cell_type": "markdown",
   "metadata": {},
   "source": [
    "Think schemas are hard? Just want to store a huge pile of JSON documents? Then `mongodb` has you covered.\n",
    "\n",
    "## install and run mongdb\n",
    "\n",
    "```$ brew install mongodb```\n",
    "\n",
    "or maybe upgrade it\n",
    "\n",
    "```$ brew upgrade mongodb```\n",
    "\n",
    "use homebrew services to start it\n",
    "\n",
    "```$ brew services start mongodb```\n",
    "\n",
    "## install mongodb python library\n",
    "\n",
    "if Anaconda is managing your python installation:\n",
    "\n",
    "```$ conda install pymongo```\n",
    "\n",
    "otherwise use `pip`. In fact, `pip` should work in an Anaconda environment too.\n",
    "\n",
    "```$ pip3 install pymongo```\n",
    "\n"
   ]
  },
  {
   "cell_type": "markdown",
   "metadata": {},
   "source": [
    "## get right to it"
   ]
  },
  {
   "cell_type": "code",
   "execution_count": 11,
   "metadata": {},
   "outputs": [],
   "source": [
    "import pymongo"
   ]
  },
  {
   "cell_type": "markdown",
   "metadata": {},
   "source": [
    "create a client object to connect to the mongodb server instance"
   ]
  },
  {
   "cell_type": "code",
   "execution_count": 34,
   "metadata": {},
   "outputs": [],
   "source": [
    "# '27017' is mongodb's default port\n",
    "connection_string = 'mongodb://localhost:27017/'\n",
    "\n",
    "client = pymongo.MongoClient(connection_string)"
   ]
  },
  {
   "cell_type": "markdown",
   "metadata": {},
   "source": [
    "A mongodb server can host several databases. By default, it ships with a blank test database."
   ]
  },
  {
   "cell_type": "code",
   "execution_count": 35,
   "metadata": {},
   "outputs": [],
   "source": [
    "db = client.test_database"
   ]
  },
  {
   "cell_type": "code",
   "execution_count": 36,
   "metadata": {},
   "outputs": [
    {
     "data": {
      "text/plain": [
       "Database(MongoClient(host=['localhost:27017'], document_class=dict, tz_aware=False, connect=True), 'test_database')"
      ]
     },
     "execution_count": 36,
     "metadata": {},
     "output_type": "execute_result"
    }
   ],
   "source": [
    "db"
   ]
  },
  {
   "cell_type": "markdown",
   "metadata": {},
   "source": [
    "Databases consist of collections of documents. A collection is similar to a table."
   ]
  },
  {
   "cell_type": "code",
   "execution_count": 37,
   "metadata": {},
   "outputs": [],
   "source": [
    "collection = db.test_collection"
   ]
  },
  {
   "cell_type": "markdown",
   "metadata": {},
   "source": [
    "We can insert arbitrary key-value collections (ie, dicts) as documents. Documents are similar to rows."
   ]
  },
  {
   "cell_type": "code",
   "execution_count": 42,
   "metadata": {},
   "outputs": [
    {
     "data": {
      "text/plain": [
       "<pymongo.results.InsertOneResult at 0x10e2d0f88>"
      ]
     },
     "execution_count": 42,
     "metadata": {},
     "output_type": "execute_result"
    }
   ],
   "source": [
    "collection.insert_one({'name':'lekha', 'city':'seattle'})"
   ]
  },
  {
   "cell_type": "code",
   "execution_count": 43,
   "metadata": {},
   "outputs": [
    {
     "data": {
      "text/plain": [
       "<pymongo.results.InsertOneResult at 0x10e27c608>"
      ]
     },
     "execution_count": 43,
     "metadata": {},
     "output_type": "execute_result"
    }
   ],
   "source": [
    "collection.insert_one({'name':'joe', 'city':'new york' })\n"
   ]
  },
  {
   "cell_type": "markdown",
   "metadata": {},
   "source": [
    "We can inspect a collection."
   ]
  },
  {
   "cell_type": "code",
   "execution_count": 44,
   "metadata": {},
   "outputs": [
    {
     "data": {
      "text/plain": [
       "7"
      ]
     },
     "execution_count": 44,
     "metadata": {},
     "output_type": "execute_result"
    }
   ],
   "source": [
    "collection.estimated_document_count()"
   ]
  },
  {
   "cell_type": "markdown",
   "metadata": {},
   "source": [
    "We can query a collection for an arbitrary document."
   ]
  },
  {
   "cell_type": "code",
   "execution_count": 45,
   "metadata": {},
   "outputs": [
    {
     "data": {
      "text/plain": [
       "{'_id': ObjectId('5c37b0d1da446e7922350ab1'),\n",
       " 'name': 'lekha',\n",
       " 'city': 'seattle'}"
      ]
     },
     "execution_count": 45,
     "metadata": {},
     "output_type": "execute_result"
    }
   ],
   "source": [
    "collection.find_one()"
   ]
  },
  {
   "cell_type": "markdown",
   "metadata": {},
   "source": [
    "Or a document matching a particular field."
   ]
  },
  {
   "cell_type": "code",
   "execution_count": 50,
   "metadata": {},
   "outputs": [
    {
     "data": {
      "text/plain": [
       "{'_id': ObjectId('5c37b0ddda446e7922350ab2'),\n",
       " 'name': 'joe',\n",
       " 'city': 'new york'}"
      ]
     },
     "execution_count": 50,
     "metadata": {},
     "output_type": "execute_result"
    }
   ],
   "source": [
    "collection.find_one({'name': 'joe'})"
   ]
  },
  {
   "cell_type": "markdown",
   "metadata": {},
   "source": [
    "Queries that don't match a document return `None`."
   ]
  },
  {
   "cell_type": "code",
   "execution_count": 51,
   "metadata": {},
   "outputs": [
    {
     "name": "stdout",
     "output_type": "stream",
     "text": [
      "None\n"
     ]
    }
   ],
   "source": [
    "print( collection.find_one({'name': 'foobar'}) )"
   ]
  },
  {
   "cell_type": "code",
   "execution_count": 52,
   "metadata": {},
   "outputs": [
    {
     "name": "stdout",
     "output_type": "stream",
     "text": [
      "None\n"
     ]
    }
   ],
   "source": [
    "print( collection.find_one({'foo': 'bar'}) )"
   ]
  },
  {
   "cell_type": "markdown",
   "metadata": {},
   "source": [
    "## more than one way to connect to mongodb\n",
    "\n",
    "You don't have to connect to a mongodb instance using Python. There's a command-line client, `mongo`. By default, it connects to any mongodb instance running on the local machine at port `27017`, and presents you with a prompt at which you can enter mongo commands.\n",
    "\n",
    "```\n",
    "$ mongo\n",
    "\n",
    "MongoDB shell version v4.0.4\n",
    "connecting to: mongodb://127.0.0.1:27017\n",
    "Implicit session: session { \"id\" : UUID(\"e5eb87a5-04ad-4dc7-ae22-e03775bd548c\") }\n",
    "MongoDB server version: 4.0.2\n",
    "...\n",
    ">\n",
    "```\n"
   ]
  },
  {
   "cell_type": "markdown",
   "metadata": {},
   "source": [
    "From here you can list all databases:\n",
    "\n",
    "```\n",
    "> show dbs\n",
    "admin          0.000GB\n",
    "config         0.000GB\n",
    "local          0.000GB\n",
    "test_database  0.000GB\n",
    "```\n",
    "\n",
    "Connect to or create a database:\n",
    "\n",
    "```\n",
    "> use test\n",
    "```\n",
    "\n",
    "Create a collection and insert a document in the current database, in one line:\n",
    "\n",
    "```\n",
    "> db.users.insert({name: 'Jon',\n",
    "...                  age: '45',\n",
    "...                  friends: ['Henry', 'Ashley']\n",
    "...                  })\n",
    "WriteResult({ \"nInserted\" : 1 })\n",
    "> db.users.insert({name: 'Frank',\n",
    "...                  age: '17',\n",
    "...                  friends: ['Billy'],\n",
    "...                  car: 'Civic'})\n",
    "WriteResult({ \"nInserted\" : 1 })\n",
    "```\n",
    "\n",
    "Query all documents in a collection:\n",
    "\n",
    "```\n",
    "> db.users.find()\n",
    "{ \"_id\" : ObjectId(\"5c37bb94d97cb6a1ac682593\"), \"name\" : \"Jon\", \"age\" : \"45\", \"friends\" : [ \"Henry\", \"Ashley\" ] }\n",
    "{ \"_id\" : ObjectId(\"5c37bc28d97cb6a1ac682594\"), \"name\" : \"Frank\", \"age\" : \"17\", \"friends\" : [ \"Billy\" ], \"car\" : \"Civic\" }\n",
    "```\n",
    "\n",
    "Querying Data:\n",
    "\n",
    "```\n",
    "> // find by single field\n",
    "> db.users.find({ name: 'Jon'})\n",
    "{ \"_id\" : ObjectId(\"5c37bb94d97cb6a1ac682593\"), \"name\" : \"Jon\", \"age\" : \"45\", \"friends\" : [ \"Henry\", \"Ashley\" ] }\n",
    "\n",
    "> // find by presence of field\n",
    "> db.users.find({ car: { $exists : true } })\n",
    "{ \"_id\" : ObjectId(\"5c37bc28d97cb6a1ac682594\"), \"name\" : \"Frank\", \"age\" : \"17\", \"friends\" : [ \"Billy\" ], \"car\" : \"Civic\" }\n",
    "\n",
    "> // find by value in array\n",
    "> db.users.find({ friends: 'Henry' })\n",
    "{ \"_id\" : ObjectId(\"5c37bb94d97cb6a1ac682593\"), \"name\" : \"Jon\", \"age\" : \"45\", \"friends\" : [ \"Henry\", \"Ashley\" ] }\n",
    "\n",
    "> // field selection (only return name)\n",
    "> db.users.find({}, { name: true })\n",
    "{ \"_id\" : ObjectId(\"5c37bb94d97cb6a1ac682593\"), \"name\" : \"Jon\" }\n",
    "{ \"_id\" : ObjectId(\"5c37bc28d97cb6a1ac682594\"), \"name\" : \"Frank\" }\n",
    "```"
   ]
  },
  {
   "cell_type": "markdown",
   "metadata": {},
   "source": [
    "Updating Data:\n",
    "    \n",
    "```\n",
    "> // replaces friends array\n",
    "> db.users.update({name: \"Jon\"}, { $set: {friends: [\"Phil\"]}})\n",
    "WriteResult({ \"nMatched\" : 1, \"nUpserted\" : 0, \"nModified\" : 1 })\n",
    "\n",
    "> // adds to friends array\n",
    "> db.users.update({name: \"Jon\"}, { $push: {friends: \"Susie\"}})\n",
    "WriteResult({ \"nMatched\" : 1, \"nUpserted\" : 0, \"nModified\" : 1 })\n",
    "\n",
    "> // update or insert (\"upsert\")\n",
    "> db.users.update({name: \"Stevie\"}, { $push: {friends: \"Nicks\"}}, true)\n",
    "WriteResult({\n",
    "\t\"nMatched\" : 0,\n",
    "\t\"nUpserted\" : 1,\n",
    "\t\"nModified\" : 0,\n",
    "\t\"_id\" : ObjectId(\"5c37bea4f868c9e5cd4d912a\")\n",
    "})\n",
    "\n",
    "> // multiple updates\n",
    "> db.users.update({}, { $set: { activated : false } }, false, true)\n",
    "WriteResult({ \"nMatched\" : 5, \"nUpserted\" : 0, \"nModified\" : 5 })\n",
    "```\n",
    "\n",
    "Remove data:\n",
    "\n",
    "```\n",
    "> db.users.remove({})\n",
    "WriteResult({ \"nRemoved\" : 5 })\n",
    "```\n",
    "\n",
    "Quit `mongo` client:\n",
    "\n",
    "```\n",
    "> [CTRL-C]\n",
    "bye\n",
    "```"
   ]
  },
  {
   "cell_type": "code",
   "execution_count": null,
   "metadata": {},
   "outputs": [],
   "source": []
  }
 ],
 "metadata": {
  "kernelspec": {
   "display_name": "Python 3",
   "language": "python",
   "name": "python3"
  },
  "language_info": {
   "codemirror_mode": {
    "name": "ipython",
    "version": 3
   },
   "file_extension": ".py",
   "mimetype": "text/x-python",
   "name": "python",
   "nbconvert_exporter": "python",
   "pygments_lexer": "ipython3",
   "version": "3.6.8"
  }
 },
 "nbformat": 4,
 "nbformat_minor": 2
}
