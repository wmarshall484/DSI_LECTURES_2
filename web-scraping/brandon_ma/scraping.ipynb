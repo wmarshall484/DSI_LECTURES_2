{
 "cells": [
  {
   "cell_type": "markdown",
   "metadata": {},
   "source": [
    "# Web scraping\n",
    "\n",
    "Sometimes the data you want is on a web page, instead of a machine-readable table. The process for extracting this information is called **web scraping**.\n",
    "\n",
    "## General guidance\n",
    "\n",
    "Web scraping has significant downsides:\n",
    "* Error-prone\n",
    "* Time-consuming\n",
    "* Often forbidden by site terms of service\n",
    "\n",
    "On the other hand, web scraping is often the *only* way to get access to a novel dataset. Consequently, web scraping projects are subject to the following constraints:\n",
    "\n",
    "* The scrape-ee is not explicitly adversarial (e.g., competitor, government).\n",
    "* Be courteous. Limit your requests, connections, download speeds, and total download size.\n",
    "\n",
    "As a result:\n",
    "\n",
    "* Always look for another way to get the data first. A polite email does wonders.\n",
    "* Appropriate for datasets in the hundreds of megabytes. Web scraping becomes untenable for datasets around 1 GB.\n"
   ]
  },
  {
   "cell_type": "markdown",
   "metadata": {},
   "source": [
    "## Our first web scrape"
   ]
  },
  {
   "cell_type": "markdown",
   "metadata": {},
   "source": [
    "We all know about the web. Usually we use browsers to get web pages, but let's use Python instead."
   ]
  },
  {
   "cell_type": "code",
   "execution_count": 126,
   "metadata": {},
   "outputs": [],
   "source": [
    "from urllib.request import urlopen"
   ]
  },
  {
   "cell_type": "code",
   "execution_count": 127,
   "metadata": {},
   "outputs": [
    {
     "data": {
      "text/plain": [
       "b'<!doctype html>\\n<html>\\n<head>\\n    <title>Example Domain</title>\\n\\n    <meta charset=\"utf-8\" />\\n    <meta http-equiv=\"Content-type\" content=\"text/html; charset=utf-8\" />\\n    <meta name=\"viewport\" content=\"width=device-width, initial-scale=1\" />\\n    <style type=\"text/css\">\\n    body {\\n        background-color: #f0f0f2;\\n        margin: 0;\\n        padding: 0;\\n        font-family: \"Open Sans\", \"Helvetica Neue\", Helvetica, Arial, sans-serif;\\n        \\n    }\\n    div {\\n        width: 600px;\\n        margin: 5em auto;\\n        padding: 50px;\\n        background-color: #fff;\\n        border-radius: 1em;\\n    }\\n    a:link, a:visited {\\n        color: #38488f;\\n        text-decoration: none;\\n    }\\n    @media (max-width: 700px) {\\n        body {\\n            background-color: #fff;\\n        }\\n        div {\\n            width: auto;\\n            margin: 0 auto;\\n            border-radius: 0;\\n            padding: 1em;\\n        }\\n    }\\n    </style>    \\n</head>\\n\\n<body>\\n<div>\\n    <h1>Example Domain</h1>\\n    <p>This domain is established to be used for illustrative examples in documents. You may use this\\n    domain in examples without prior coordination or asking for permission.</p>\\n    <p><a href=\"http://www.iana.org/domains/example\">More information...</a></p>\\n</div>\\n</body>\\n</html>\\n'"
      ]
     },
     "execution_count": 127,
     "metadata": {},
     "output_type": "execute_result"
    }
   ],
   "source": [
    "url = \"http://www.example.com\"\n",
    "fp = urlopen(url)\n",
    "contents = fp.read()\n",
    "contents"
   ]
  },
  {
   "cell_type": "markdown",
   "metadata": {},
   "source": [
    "What just happened?\n",
    "\n",
    "1. The `urlopen` function takes a URL and returns a file-like object.\n",
    "2. The file-like object has a `read` method, which we can use to extact the contents of the web page.\n",
    "3. Jupyter automatically printed the return value of the `read` method.\n",
    "\n",
    "This is a very convenient way to fetch web pages using Python, but there's still work to be done.\n",
    "\n",
    "### Web pages aren't delivered as text\n",
    "\n",
    "The `read` method returns a **byte string**, as indicated by the `b'` at the beginning of the string. A byte string is a list of numbers between 0 and 255. Above, those numbers are represented with human-readable characters. For example 60 is printed as \"<\", 97 is printed as \"a\", and 10 is printed as \"\\n\". \n",
    "\n",
    "The byte string may look like text, **but that is an unhelpful illusion**. In fact it would be more true and less confusing to print out the contents of the web page as a number:"
   ]
  },
  {
   "cell_type": "code",
   "execution_count": 128,
   "metadata": {},
   "outputs": [
    {
     "data": {
      "text/plain": [
       "'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'"
      ]
     },
     "execution_count": 128,
     "metadata": {},
     "output_type": "execute_result"
    }
   ],
   "source": [
    "contents.hex()"
   ]
  },
  {
   "cell_type": "markdown",
   "metadata": {},
   "source": [
    "This byte string needs to be **decoded** into text, using its `decode` method. If you do not provide an encoding name, `decode` defaults to `utf8`."
   ]
  },
  {
   "cell_type": "code",
   "execution_count": 132,
   "metadata": {},
   "outputs": [
    {
     "data": {
      "text/plain": [
       "'<!doctype html>\\n<html>\\n<head>\\n    <title>Example Domain</title>\\n\\n    <meta charset=\"utf-8\" />\\n    <meta http-equiv=\"Content-type\" content=\"text/html; charset=utf-8\" />\\n    <meta name=\"viewport\" content=\"width=device-width, initial-scale=1\" />\\n    <style type=\"text/css\">\\n    body {\\n        background-color: #f0f0f2;\\n        margin: 0;\\n        padding: 0;\\n        font-family: \"Open Sans\", \"Helvetica Neue\", Helvetica, Arial, sans-serif;\\n        \\n    }\\n    div {\\n        width: 600px;\\n        margin: 5em auto;\\n        padding: 50px;\\n        background-color: #fff;\\n        border-radius: 1em;\\n    }\\n    a:link, a:visited {\\n        color: #38488f;\\n        text-decoration: none;\\n    }\\n    @media (max-width: 700px) {\\n        body {\\n            background-color: #fff;\\n        }\\n        div {\\n            width: auto;\\n            margin: 0 auto;\\n            border-radius: 0;\\n            padding: 1em;\\n        }\\n    }\\n    </style>    \\n</head>\\n\\n<body>\\n<div>\\n    <h1>Example Domain</h1>\\n    <p>This domain is established to be used for illustrative examples in documents. You may use this\\n    domain in examples without prior coordination or asking for permission.</p>\\n    <p><a href=\"http://www.iana.org/domains/example\">More information...</a></p>\\n</div>\\n</body>\\n</html>\\n'"
      ]
     },
     "execution_count": 132,
     "metadata": {},
     "output_type": "execute_result"
    }
   ],
   "source": [
    "decoded_contents = contents.decode()\n",
    "decoded_contents"
   ]
  },
  {
   "cell_type": "markdown",
   "metadata": {},
   "source": [
    "By default, jupyter displays line breaks as \"\\n\". If we want to see the text as it was meant to be seen, we need to use the `print` function."
   ]
  },
  {
   "cell_type": "code",
   "execution_count": 133,
   "metadata": {},
   "outputs": [
    {
     "name": "stdout",
     "output_type": "stream",
     "text": [
      "<!doctype html>\n",
      "<html>\n",
      "<head>\n",
      "    <title>Example Domain</title>\n",
      "\n",
      "    <meta charset=\"utf-8\" />\n",
      "    <meta http-equiv=\"Content-type\" content=\"text/html; charset=utf-8\" />\n",
      "    <meta name=\"viewport\" content=\"width=device-width, initial-scale=1\" />\n",
      "    <style type=\"text/css\">\n",
      "    body {\n",
      "        background-color: #f0f0f2;\n",
      "        margin: 0;\n",
      "        padding: 0;\n",
      "        font-family: \"Open Sans\", \"Helvetica Neue\", Helvetica, Arial, sans-serif;\n",
      "        \n",
      "    }\n",
      "    div {\n",
      "        width: 600px;\n",
      "        margin: 5em auto;\n",
      "        padding: 50px;\n",
      "        background-color: #fff;\n",
      "        border-radius: 1em;\n",
      "    }\n",
      "    a:link, a:visited {\n",
      "        color: #38488f;\n",
      "        text-decoration: none;\n",
      "    }\n",
      "    @media (max-width: 700px) {\n",
      "        body {\n",
      "            background-color: #fff;\n",
      "        }\n",
      "        div {\n",
      "            width: auto;\n",
      "            margin: 0 auto;\n",
      "            border-radius: 0;\n",
      "            padding: 1em;\n",
      "        }\n",
      "    }\n",
      "    </style>    \n",
      "</head>\n",
      "\n",
      "<body>\n",
      "<div>\n",
      "    <h1>Example Domain</h1>\n",
      "    <p>This domain is established to be used for illustrative examples in documents. You may use this\n",
      "    domain in examples without prior coordination or asking for permission.</p>\n",
      "    <p><a href=\"http://www.iana.org/domains/example\">More information...</a></p>\n",
      "</div>\n",
      "</body>\n",
      "</html>\n",
      "\n"
     ]
    }
   ],
   "source": [
    "print(decoded_contents)"
   ]
  },
  {
   "cell_type": "markdown",
   "metadata": {},
   "source": [
    "### Web pages aren't delivered formatted\n",
    "\n",
    "The contents of a web page is **source code**; usually a combination of HTML, CSS, and Javascript. It is the significant challenge of a web browser to convert this source code into an image of a web page. We won't attempt that; instead, we'll extract data directly from the source code, by searching and manipulating the source code string.\n",
    "\n",
    "For example we could find the position of the `<title>` and `</title>` tags and extract everything between them."
   ]
  },
  {
   "cell_type": "code",
   "execution_count": 142,
   "metadata": {},
   "outputs": [],
   "source": [
    "start = decoded_contents.find(\"<title>\")"
   ]
  },
  {
   "cell_type": "code",
   "execution_count": 144,
   "metadata": {},
   "outputs": [],
   "source": [
    "end = decoded_contents.find(\"</title>\")"
   ]
  },
  {
   "cell_type": "code",
   "execution_count": 147,
   "metadata": {},
   "outputs": [
    {
     "data": {
      "text/plain": [
       "'Example Domain'"
      ]
     },
     "execution_count": 147,
     "metadata": {},
     "output_type": "execute_result"
    }
   ],
   "source": [
    "decoded_contents[start+len(\"<title>\"):end]"
   ]
  },
  {
   "cell_type": "code",
   "execution_count": 149,
   "metadata": {},
   "outputs": [
    {
     "data": {
      "text/plain": [
       "'Example Domain'"
      ]
     },
     "execution_count": 149,
     "metadata": {},
     "output_type": "execute_result"
    }
   ],
   "source": [
    "#hacknology alert: this is a built-in string method\n",
    "\n",
    "start = decoded_contents.find(\"<title>\")\n",
    "end = decoded_contents.find(\"</title>\")\n",
    "decoded_contents[ start+len(\"<title>\") : end ]"
   ]
  },
  {
   "cell_type": "markdown",
   "metadata": {},
   "source": [
    "We did it! We scraped a piece of data from a web page. We'll get into more sophisticated ways to search the source code of a page. But first, we need to know a little bit about..."
   ]
  },
  {
   "cell_type": "markdown",
   "metadata": {},
   "source": [
    "## The Hypertext Transfer Protocol\n",
    "\n",
    "Stick with me here. Mostly we gloss over this, but understanding it is **essential** if you want to interact with the web programmatically.\n",
    "\n",
    "Web pages are delivered as a result of an **exchange of messages** between your computer and the server. The medium for this exchange may vary, but it is almost always the Transmission Control Protocol or (TCP). The format for this conversation is the **Hypertext Transfer Protocol**, or HTTP.\n",
    "\n",
    "It's totally possible to establish a TCP connection to a machine and send messages that do **not** conform to HTTP. Let's try it!"
   ]
  },
  {
   "cell_type": "code",
   "execution_count": 150,
   "metadata": {},
   "outputs": [],
   "source": [
    "import socket"
   ]
  },
  {
   "cell_type": "markdown",
   "metadata": {},
   "source": [
    "Open up a TCP connection to \"www.example.com\" port 80, which will be listening for connections from web clients. \n",
    "\n",
    "Send a random string which the server is not expecting, then read 1024 bytes of whatever it sends as a response."
   ]
  },
  {
   "cell_type": "code",
   "execution_count": 151,
   "metadata": {},
   "outputs": [
    {
     "name": "stdout",
     "output_type": "stream",
     "text": [
      "b'HTTP/1.0 501 Not Implemented\\r\\nContent-Type: text/html\\r\\nContent-Length: 357\\r\\nConnection: close\\r\\nDate: Mon, 28 Jan 2019 21:54:37 GMT\\r\\nServer: ECSF (sjc/4FBB)\\r\\n\\r\\n<?xml version=\"1.0\" encoding=\"iso-8859-1\"?>\\n<!DOCTYPE html PUBLIC \"-//W3C//DTD XHTML 1.0 Transitional//EN\"\\n         \"http://www.w3.org/TR/xhtml1/DTD/xhtml1-transitional.dtd\">\\n<html xmlns=\"http://www.w3.org/1999/xhtml\" xml:lang=\"en\" lang=\"en\">\\n\\t<head>\\n\\t\\t<title>501 - Not Implemented</title>\\n\\t</head>\\n\\t<body>\\n\\t\\t<h1>501 - Not Implemented</h1>\\n\\t</body>\\n</html>\\n'\n"
     ]
    }
   ],
   "source": [
    "s = socket.socket(socket.AF_INET, socket.SOCK_STREAM)\n",
    "s.connect((\"www.example.org\", 80))\n",
    "s.sendall(b\"SENDING AN ARBITRARY STRING TO www.example.com\")\n",
    "\n",
    "# then read 1024 bytes of data from the connection\n",
    "resp = s.recv(1024)\n",
    "print( resp )\n",
    "s.close()"
   ]
  },
  {
   "cell_type": "markdown",
   "metadata": {},
   "source": [
    "The server sent a message - a series of bytes (which remember is **not** a text string) - and then closed the connection. Let's decode it and take a look at it."
   ]
  },
  {
   "cell_type": "code",
   "execution_count": 152,
   "metadata": {},
   "outputs": [
    {
     "name": "stdout",
     "output_type": "stream",
     "text": [
      "HTTP/1.0 501 Not Implemented\n",
      "Content-Type: text/html\n",
      "Content-Length: 357\n",
      "Connection: close\n",
      "Date: Mon, 28 Jan 2019 21:54:37 GMT\n",
      "Server: ECSF (sjc/4FBB)\n",
      "\n",
      "<?xml version=\"1.0\" encoding=\"iso-8859-1\"?>\n",
      "<!DOCTYPE html PUBLIC \"-//W3C//DTD XHTML 1.0 Transitional//EN\"\n",
      "         \"http://www.w3.org/TR/xhtml1/DTD/xhtml1-transitional.dtd\">\n",
      "<html xmlns=\"http://www.w3.org/1999/xhtml\" xml:lang=\"en\" lang=\"en\">\n",
      "\t<head>\n",
      "\t\t<title>501 - Not Implemented</title>\n",
      "\t</head>\n",
      "\t<body>\n",
      "\t\t<h1>501 - Not Implemented</h1>\n",
      "\t</body>\n",
      "</html>\n",
      "\n"
     ]
    }
   ],
   "source": [
    "print( resp.decode() )"
   ]
  },
  {
   "cell_type": "markdown",
   "metadata": {},
   "source": [
    "The server responded with a proper HTTP-formattred response message saying, basically, \"whatever you asked, I don't know how to do it.\"\n",
    "\n",
    "Here's a very simple, barely valid message we can send:"
   ]
  },
  {
   "cell_type": "markdown",
   "metadata": {},
   "source": [
    "```\n",
    "GET / HTTP/1.1\\r\\n\n",
    "Host: www.example.com\\r\\n\n",
    "\\r\\n```"
   ]
  },
  {
   "cell_type": "markdown",
   "metadata": {},
   "source": [
    "Let's just send it over the wire, and then listen for 4 kilobytes of data."
   ]
  },
  {
   "cell_type": "code",
   "execution_count": 160,
   "metadata": {},
   "outputs": [],
   "source": [
    "request = \"GET / HTTP/1.1\\r\\nHost: www.example.com\\r\\n\\r\\n\".encode('ascii')"
   ]
  },
  {
   "cell_type": "code",
   "execution_count": 161,
   "metadata": {},
   "outputs": [
    {
     "name": "stdout",
     "output_type": "stream",
     "text": [
      "b'HTTP/1.1 200 OK\\r\\nCache-Control: max-age=604800\\r\\nContent-Type: text/html; charset=UTF-8\\r\\nDate: Mon, 28 Jan 2019 21:59:01 GMT\\r\\nEtag: \"1541025663+ident\"\\r\\nExpires: Mon, 04 Feb 2019 21:59:01 GMT\\r\\nLast-Modified: Fri, 09 Aug 2013 23:54:35 GMT\\r\\nServer: ECS (sjc/4EC1)\\r\\nVary: Accept-Encoding\\r\\nX-Cache: HIT\\r\\nContent-Length: 1270\\r\\n\\r\\n<!doctype html>\\n<html>\\n<head>\\n    <title>Example Domain</title>\\n\\n    <meta charset=\"utf-8\" />\\n    <meta http-equiv=\"Content-type\" content=\"text/html; charset=utf-8\" />\\n    <meta name=\"viewport\" content=\"width=device-width, initial-scale=1\" />\\n    <style type=\"text/css\">\\n    body {\\n        background-color: #f0f0f2;\\n        margin: 0;\\n        padding: 0;\\n        font-family: \"Open Sans\", \"Helvetica Neue\", Helvetica, Arial, sans-serif;\\n        \\n    }\\n    div {\\n        width: 600px;\\n        margin: 5em auto;\\n        padding: 50px;\\n        background-color: #fff;\\n        border-radius: 1em;\\n    }\\n    a:link, a:visited {\\n        color: #38488f;\\n        text-decoration: none;\\n    }\\n    @media (max-width: 700px) {\\n        body {\\n            background-color: #fff;\\n        }\\n        div {\\n            width: auto;\\n            margin: 0 auto;\\n            border-radius: 0;\\n            padding: 1em;\\n        }\\n    }\\n    </style>    \\n</head>\\n\\n<body>\\n<div>\\n    <h1>Example Domain</h1>\\n    <p>This domain is established to be used for illustrative examples in documents. You may use this\\n    domain in examples without prior coordination or asking for permission.</p>\\n    <p><a href=\"http://www.iana.org/domains/example\">More information...</a></p>\\n</div>\\n</body>\\n</html>\\n'\n"
     ]
    }
   ],
   "source": [
    "\n",
    "\n",
    "s = socket.socket(socket.AF_INET, socket.SOCK_STREAM)\n",
    "s.connect((\"www.example.org\", 80))\n",
    "s.sendall(request)\n",
    "\n",
    "resp = s.recv(4*1024)\n",
    "print( resp )\n",
    "s.close()"
   ]
  },
  {
   "cell_type": "markdown",
   "metadata": {},
   "source": [
    "Let's take a look at it, decoded and pretty-printed:"
   ]
  },
  {
   "cell_type": "code",
   "execution_count": 162,
   "metadata": {},
   "outputs": [
    {
     "name": "stdout",
     "output_type": "stream",
     "text": [
      "HTTP/1.1 200 OK\n",
      "Cache-Control: max-age=604800\n",
      "Content-Type: text/html; charset=UTF-8\n",
      "Date: Mon, 28 Jan 2019 21:59:01 GMT\n",
      "Etag: \"1541025663+ident\"\n",
      "Expires: Mon, 04 Feb 2019 21:59:01 GMT\n",
      "Last-Modified: Fri, 09 Aug 2013 23:54:35 GMT\n",
      "Server: ECS (sjc/4EC1)\n",
      "Vary: Accept-Encoding\n",
      "X-Cache: HIT\n",
      "Content-Length: 1270\n",
      "\n",
      "<!doctype html>\n",
      "<html>\n",
      "<head>\n",
      "    <title>Example Domain</title>\n",
      "\n",
      "    <meta charset=\"utf-8\" />\n",
      "    <meta http-equiv=\"Content-type\" content=\"text/html; charset=utf-8\" />\n",
      "    <meta name=\"viewport\" content=\"width=device-width, initial-scale=1\" />\n",
      "    <style type=\"text/css\">\n",
      "    body {\n",
      "        background-color: #f0f0f2;\n",
      "        margin: 0;\n",
      "        padding: 0;\n",
      "        font-family: \"Open Sans\", \"Helvetica Neue\", Helvetica, Arial, sans-serif;\n",
      "        \n",
      "    }\n",
      "    div {\n",
      "        width: 600px;\n",
      "        margin: 5em auto;\n",
      "        padding: 50px;\n",
      "        background-color: #fff;\n",
      "        border-radius: 1em;\n",
      "    }\n",
      "    a:link, a:visited {\n",
      "        color: #38488f;\n",
      "        text-decoration: none;\n",
      "    }\n",
      "    @media (max-width: 700px) {\n",
      "        body {\n",
      "            background-color: #fff;\n",
      "        }\n",
      "        div {\n",
      "            width: auto;\n",
      "            margin: 0 auto;\n",
      "            border-radius: 0;\n",
      "            padding: 1em;\n",
      "        }\n",
      "    }\n",
      "    </style>    \n",
      "</head>\n",
      "\n",
      "<body>\n",
      "<div>\n",
      "    <h1>Example Domain</h1>\n",
      "    <p>This domain is established to be used for illustrative examples in documents. You may use this\n",
      "    domain in examples without prior coordination or asking for permission.</p>\n",
      "    <p><a href=\"http://www.iana.org/domains/example\">More information...</a></p>\n",
      "</div>\n",
      "</body>\n",
      "</html>\n",
      "\n"
     ]
    }
   ],
   "source": [
    "print( resp.decode() )"
   ]
  },
  {
   "cell_type": "markdown",
   "metadata": {},
   "source": [
    "We just sent a valid message message, called an **HTTP Request**, and received a valid response, called an **HTTP Response**."
   ]
  },
  {
   "cell_type": "markdown",
   "metadata": {},
   "source": [
    "### Breaking down the HTTP format"
   ]
  },
  {
   "cell_type": "markdown",
   "metadata": {},
   "source": [
    "#### Request\n",
    "\n",
    "At its most basic, an HTTP Request is simply a text message with the format:\n",
    "\n",
    "```\n",
    "[method] [path] HTTP/1.1\n",
    "[list of key:value pairs each on their own line]\n",
    "[blank line]\n",
    "[optional body]\n",
    "```\n",
    "\n",
    "The `method` is the type of thing we're asking the server to do. The `path` is the location of the resources to be operated upon. The `list of key:value pairs` are called \"headers\"; they specify parameters for how the interaction will proceed. In some cases the server needs an additional payload of information; in such cases that information is included in the `body` section. Every line is terminated with a carriage return and line feed, `\\r\\n`.\n",
    "\n",
    "In our example above, the `method` was `GET`, the `path` was `/`, we only had one header, `Host: www.example.com`, and there was no body.\n",
    "\n",
    "#### Response\n",
    "\n",
    "The response format is very similar, with a different first line.\n",
    "\n",
    "```\n",
    "HTTP/1.1 [status code] [message]\n",
    "[list of key:value pairs each on their own line]\n",
    "[blank line]\n",
    "[optional body]\n",
    "```\n",
    "\n",
    "The `status code` is a standardized number for the type of response the server is delivering, along with a human-readable `message`.\n",
    "\n",
    "In our example above, the status code is `200` with message `OK`. This was followed by a large number of headers; for example\n",
    "\n",
    "```\n",
    "Accept-Ranges: bytes\n",
    "Cache-Control: max-age=604800\n",
    "Content-Type: text/html; charset=UTF-8\n",
    "```\n",
    "\n",
    "Headers are arbitrary key/value string pairs separated by a `:` character; header key and value formats are a product of wildly varying convention. Some are very standard; for example `Content-Type` specifies the format of the response, in this case utf-8 encoded HTML.\n",
    "\n",
    "Reponses *usually* (though not always) come with a body. In this case, it's the source code of the web page. The response body does not need to be HTML, or even text."
   ]
  },
  {
   "cell_type": "markdown",
   "metadata": {},
   "source": [
    "### Mid-lecture review\n",
    "\n",
    "HTTP libraries (e.g. `http`, `urllib.request`) automate this messaging process, but assume an understanding of the underlying protocol (a so-called \"leaky abstraction\"). At this point you should be recognize the component ideas and how they relate:\n",
    "\n",
    "* text encoding\n",
    "* Transport Control Protocl (TCP)\n",
    "* Hypertext Transfer Protocol (HTTP)\n",
    "* request, response\n",
    "* host\n",
    "* method\n",
    "* path\n",
    "* headers\n",
    "* body\n",
    "* response code\n",
    "* response message"
   ]
  },
  {
   "cell_type": "markdown",
   "metadata": {},
   "source": [
    "## Using an http client library\n",
    "\n",
    "In Python3, the most standard and basic http client library is `http`. A higher-level built-in alternative is `urllib`, as well as any number of installable libraries, eg `requests`."
   ]
  },
  {
   "cell_type": "code",
   "execution_count": 163,
   "metadata": {},
   "outputs": [],
   "source": [
    "from http.client import HTTPConnection"
   ]
  },
  {
   "cell_type": "markdown",
   "metadata": {},
   "source": [
    "The connection is with a host and a port."
   ]
  },
  {
   "cell_type": "code",
   "execution_count": 164,
   "metadata": {},
   "outputs": [],
   "source": [
    "conn = HTTPConnection(host=\"www.example.com\", port=80)"
   ]
  },
  {
   "cell_type": "markdown",
   "metadata": {},
   "source": [
    "A request consists of a method and a path."
   ]
  },
  {
   "cell_type": "code",
   "execution_count": 165,
   "metadata": {},
   "outputs": [],
   "source": [
    "conn.request(method=\"GET\", url=\"/\")"
   ]
  },
  {
   "cell_type": "markdown",
   "metadata": {},
   "source": [
    "A response in a bundle of information."
   ]
  },
  {
   "cell_type": "code",
   "execution_count": 166,
   "metadata": {},
   "outputs": [],
   "source": [
    "resp = conn.getresponse()"
   ]
  },
  {
   "cell_type": "code",
   "execution_count": 170,
   "metadata": {},
   "outputs": [
    {
     "data": {
      "text/plain": [
       "True"
      ]
     },
     "execution_count": 170,
     "metadata": {},
     "output_type": "execute_result"
    }
   ],
   "source": [
    "resp.code==200"
   ]
  },
  {
   "cell_type": "code",
   "execution_count": 171,
   "metadata": {},
   "outputs": [],
   "source": [
    "headers = resp.headers"
   ]
  },
  {
   "cell_type": "code",
   "execution_count": 172,
   "metadata": {},
   "outputs": [
    {
     "data": {
      "text/plain": [
       "{'Cache-Control': 'max-age=604800',\n",
       " 'Content-Type': 'text/html; charset=UTF-8',\n",
       " 'Date': 'Mon, 28 Jan 2019 22:08:09 GMT',\n",
       " 'Etag': '\"1541025663+gzip+ident\"',\n",
       " 'Expires': 'Mon, 04 Feb 2019 22:08:09 GMT',\n",
       " 'Last-Modified': 'Fri, 09 Aug 2013 23:54:35 GMT',\n",
       " 'Server': 'ECS (sjc/4F91)',\n",
       " 'Vary': 'Accept-Encoding',\n",
       " 'X-Cache': 'HIT',\n",
       " 'Content-Length': '1270'}"
      ]
     },
     "execution_count": 172,
     "metadata": {},
     "output_type": "execute_result"
    }
   ],
   "source": [
    "dict( headers )"
   ]
  },
  {
   "cell_type": "code",
   "execution_count": 175,
   "metadata": {},
   "outputs": [
    {
     "data": {
      "text/plain": [
       "'text/html; charset=UTF-8'"
      ]
     },
     "execution_count": 175,
     "metadata": {},
     "output_type": "execute_result"
    }
   ],
   "source": [
    "headers[\"Content-Type\"]"
   ]
  },
  {
   "cell_type": "markdown",
   "metadata": {},
   "source": [
    "Including the body, which we access by `read`ing the response."
   ]
  },
  {
   "cell_type": "code",
   "execution_count": 176,
   "metadata": {},
   "outputs": [
    {
     "data": {
      "text/plain": [
       "'<!doctype html>\\n<html>\\n<head>\\n    <title>Example Domain</title>\\n\\n    <meta charset=\"utf-8\" />\\n    <meta http-equiv=\"Content-type\" content=\"text/html; charset=utf-8\" />\\n    <meta name=\"viewport\" content=\"width=device-width, initial-scale=1\" />\\n    <style type=\"text/css\">\\n    body {\\n        background-color: #f0f0f2;\\n        margin: 0;\\n        padding: 0;\\n        font-family: \"Open Sans\", \"Helvetica Neue\", Helvetica, Arial, sans-serif;\\n        \\n    }\\n    div {\\n        width: 600px;\\n        margin: 5em auto;\\n        padding: 50px;\\n        background-color: #fff;\\n        border-radius: 1em;\\n    }\\n    a:link, a:visited {\\n        color: #38488f;\\n        text-decoration: none;\\n    }\\n    @media (max-width: 700px) {\\n        body {\\n            background-color: #fff;\\n        }\\n        div {\\n            width: auto;\\n            margin: 0 auto;\\n            border-radius: 0;\\n            padding: 1em;\\n        }\\n    }\\n    </style>    \\n</head>\\n\\n<body>\\n<div>\\n    <h1>Example Domain</h1>\\n    <p>This domain is established to be used for illustrative examples in documents. You may use this\\n    domain in examples without prior coordination or asking for permission.</p>\\n    <p><a href=\"http://www.iana.org/domains/example\">More information...</a></p>\\n</div>\\n</body>\\n</html>\\n'"
      ]
     },
     "execution_count": 176,
     "metadata": {},
     "output_type": "execute_result"
    }
   ],
   "source": [
    "response_body = resp.read()\n",
    "response_body.decode()"
   ]
  },
  {
   "cell_type": "markdown",
   "metadata": {},
   "source": [
    "### Detour to a familiar location: mongodb\n",
    "\n",
    "Like Moses said: the unparsed content of a web site is worth celebrating by saving it. But **how**?\n",
    "\n",
    "Most simple thing: just throw it into a file in a webscrape directory. But is this such a good idea if you're scraping **thousands** of pages?\n",
    "\n",
    "Second most simple thing: shove it into a **mongodb**."
   ]
  },
  {
   "cell_type": "code",
   "execution_count": 293,
   "metadata": {},
   "outputs": [],
   "source": [
    "from pymongo import MongoClient\n",
    "\n",
    "client = MongoClient()\n"
   ]
  },
  {
   "cell_type": "code",
   "execution_count": 294,
   "metadata": {},
   "outputs": [],
   "source": [
    "db = client.test_database\n",
    "collection = db.test_collection"
   ]
  },
  {
   "cell_type": "code",
   "execution_count": 295,
   "metadata": {},
   "outputs": [],
   "source": [
    "idx = collection.insert_one( {'host':'www.example.com',\n",
    "                              'path':\"/\", \n",
    "                              'headers':dict(headers),\n",
    "                              'body':response_body.decode()} ).inserted_id"
   ]
  },
  {
   "cell_type": "code",
   "execution_count": 297,
   "metadata": {},
   "outputs": [
    {
     "name": "stderr",
     "output_type": "stream",
     "text": [
      "/anaconda3/lib/python3.6/site-packages/ipykernel_launcher.py:1: DeprecationWarning: insert is deprecated. Use insert_one or insert_many instead.\n",
      "  \"\"\"Entry point for launching an IPython kernel.\n"
     ]
    },
    {
     "data": {
      "text/plain": [
       "ObjectId('5c4fafc3da446ee075780a70')"
      ]
     },
     "execution_count": 297,
     "metadata": {},
     "output_type": "execute_result"
    }
   ],
   "source": [
    "collection.insert({'foo':'bar'})"
   ]
  },
  {
   "cell_type": "code",
   "execution_count": 300,
   "metadata": {},
   "outputs": [
    {
     "data": {
      "text/plain": [
       "[{'_id': ObjectId('5c4fafc3da446ee075780a70'), 'foo': 'bar'}]"
      ]
     },
     "execution_count": 300,
     "metadata": {},
     "output_type": "execute_result"
    }
   ],
   "source": [
    "list( collection.find({'foo':'bar'}) )"
   ]
  },
  {
   "cell_type": "code",
   "execution_count": 296,
   "metadata": {},
   "outputs": [
    {
     "data": {
      "text/plain": [
       "{'_id': ObjectId('5c4fafb3da446ee075780a6f'),\n",
       " 'host': 'www.example.com',\n",
       " 'path': '/',\n",
       " 'headers': {'user_agent': 'DataWrangling/1.1 (brandon.martinanderson@galvanize.com; dsi example exercise)'},\n",
       " 'body': '<!doctype html>\\n<html>\\n<head>\\n    <title>Example Domain</title>\\n\\n    <meta charset=\"utf-8\" />\\n    <meta http-equiv=\"Content-type\" content=\"text/html; charset=utf-8\" />\\n    <meta name=\"viewport\" content=\"width=device-width, initial-scale=1\" />\\n    <style type=\"text/css\">\\n    body {\\n        background-color: #f0f0f2;\\n        margin: 0;\\n        padding: 0;\\n        font-family: \"Open Sans\", \"Helvetica Neue\", Helvetica, Arial, sans-serif;\\n        \\n    }\\n    div {\\n        width: 600px;\\n        margin: 5em auto;\\n        padding: 50px;\\n        background-color: #fff;\\n        border-radius: 1em;\\n    }\\n    a:link, a:visited {\\n        color: #38488f;\\n        text-decoration: none;\\n    }\\n    @media (max-width: 700px) {\\n        body {\\n            background-color: #fff;\\n        }\\n        div {\\n            width: auto;\\n            margin: 0 auto;\\n            border-radius: 0;\\n            padding: 1em;\\n        }\\n    }\\n    </style>    \\n</head>\\n\\n<body>\\n<div>\\n    <h1>Example Domain</h1>\\n    <p>This domain is established to be used for illustrative examples in documents. You may use this\\n    domain in examples without prior coordination or asking for permission.</p>\\n    <p><a href=\"http://www.iana.org/domains/example\">More information...</a></p>\\n</div>\\n</body>\\n</html>\\n'}"
      ]
     },
     "execution_count": 296,
     "metadata": {},
     "output_type": "execute_result"
    }
   ],
   "source": [
    "lazarus = collection.find_one({\"_id\":idx})\n",
    "lazarus"
   ]
  },
  {
   "cell_type": "markdown",
   "metadata": {},
   "source": [
    "### Reading HTML: a beautiful soup\n",
    "\n",
    "Now we know HTTP; let's use it to get data from HTTP servers! In the above example, we requested the document hosted by the `http` protocol at host `www.example.com`, port `80`, and path `/`, also known as \"http://www.example.com/\".\n",
    "\n",
    "We received a response. But what is it? The first step is to look at the `Content-Type` header, which is almost always present in a HTTP response. In this case, it's:\n",
    "\n",
    "```\n",
    "text/html; charset=UTF-8\n",
    "```\n",
    "\n",
    "Indicating that we should interpret and parse the message body as an HTML document. Simple, right?\n",
    "\n",
    "Not. So. Fast.\n",
    "\n",
    "HTML isn't really a language, it's more like a **cloud of conventions**. Intepreting this **cloud** with a computer is a heavyweight task; it's a big reason why web browsers are such significant pieces of software.\n",
    "\n",
    "In the world of Python, the weapon of choice is a library called `beautifulsoup`. Beautifulsoup4, (aka `bs4`) converts potentially poorly-formatted HTML code into a form that's convenient to query. Let's take a look at a simple example:"
   ]
  },
  {
   "cell_type": "code",
   "execution_count": 182,
   "metadata": {},
   "outputs": [],
   "source": [
    "from bs4 import BeautifulSoup"
   ]
  },
  {
   "cell_type": "code",
   "execution_count": 185,
   "metadata": {},
   "outputs": [],
   "source": [
    "soup = BeautifulSoup( response_body )"
   ]
  },
  {
   "cell_type": "code",
   "execution_count": 186,
   "metadata": {},
   "outputs": [
    {
     "data": {
      "text/plain": [
       "'Example Domain'"
      ]
     },
     "execution_count": 186,
     "metadata": {},
     "output_type": "execute_result"
    }
   ],
   "source": [
    "soup.title.text"
   ]
  },
  {
   "cell_type": "code",
   "execution_count": 190,
   "metadata": {},
   "outputs": [
    {
     "data": {
      "text/plain": [
       "'Example Domain'"
      ]
     },
     "execution_count": 190,
     "metadata": {},
     "output_type": "execute_result"
    }
   ],
   "source": [
    "soup.head.title.text"
   ]
  },
  {
   "cell_type": "markdown",
   "metadata": {},
   "source": [
    "More detail: `beautifulsoup` converts the text string into a **parse tree** of elements, where the child elements are the subcomponents of the document:"
   ]
  },
  {
   "cell_type": "code",
   "execution_count": 191,
   "metadata": {},
   "outputs": [
    {
     "name": "stdout",
     "output_type": "stream",
     "text": [
      "<class 'bs4.element.Doctype'>\n",
      "<class 'bs4.element.Tag'>\n",
      "<class 'bs4.element.NavigableString'>\n"
     ]
    }
   ],
   "source": [
    "for child in soup.children:\n",
    "    print( type(child) )"
   ]
  },
  {
   "cell_type": "markdown",
   "metadata": {},
   "source": [
    "In practice, `beautifulsoup` is a big swiss army knife of tools for rummaging through an HTML document."
   ]
  },
  {
   "cell_type": "code",
   "execution_count": 192,
   "metadata": {},
   "outputs": [
    {
     "data": {
      "text/plain": [
       "<title>Example Domain</title>"
      ]
     },
     "execution_count": 192,
     "metadata": {},
     "output_type": "execute_result"
    }
   ],
   "source": [
    "# find a single child element\n",
    "soup.title"
   ]
  },
  {
   "cell_type": "code",
   "execution_count": 193,
   "metadata": {},
   "outputs": [
    {
     "data": {
      "text/plain": [
       "<body>\n",
       "<div>\n",
       "<h1>Example Domain</h1>\n",
       "<p>This domain is established to be used for illustrative examples in documents. You may use this\n",
       "    domain in examples without prior coordination or asking for permission.</p>\n",
       "<p><a href=\"http://www.iana.org/domains/example\">More information...</a></p>\n",
       "</div>\n",
       "</body>"
      ]
     },
     "execution_count": 193,
     "metadata": {},
     "output_type": "execute_result"
    }
   ],
   "source": [
    "# find a single child element; it may contain its own children\n",
    "soup.body"
   ]
  },
  {
   "cell_type": "code",
   "execution_count": 195,
   "metadata": {},
   "outputs": [],
   "source": [
    "# strips away markup from all children of a tag\n",
    "bodytext = soup.body.text"
   ]
  },
  {
   "cell_type": "code",
   "execution_count": 197,
   "metadata": {},
   "outputs": [
    {
     "name": "stdout",
     "output_type": "stream",
     "text": [
      "\n",
      "\n",
      "Example Domain\n",
      "This domain is established to be used for illustrative examples in documents. You may use this\n",
      "    domain in examples without prior coordination or asking for permission.\n",
      "More information...\n",
      "\n",
      "\n"
     ]
    }
   ],
   "source": [
    "print( bodytext )"
   ]
  },
  {
   "cell_type": "code",
   "execution_count": 198,
   "metadata": {},
   "outputs": [
    {
     "data": {
      "text/plain": [
       "<h1>Example Domain</h1>"
      ]
     },
     "execution_count": 198,
     "metadata": {},
     "output_type": "execute_result"
    }
   ],
   "source": [
    "# use attribute notation to get a child of a child\n",
    "soup.body.h1"
   ]
  },
  {
   "cell_type": "code",
   "execution_count": 199,
   "metadata": {},
   "outputs": [
    {
     "data": {
      "text/plain": [
       "[<p>This domain is established to be used for illustrative examples in documents. You may use this\n",
       "     domain in examples without prior coordination or asking for permission.</p>,\n",
       " <p><a href=\"http://www.iana.org/domains/example\">More information...</a></p>]"
      ]
     },
     "execution_count": 199,
     "metadata": {},
     "output_type": "execute_result"
    }
   ],
   "source": [
    "# find all children with a particular tag\n",
    "soup.find_all('p')"
   ]
  },
  {
   "cell_type": "code",
   "execution_count": 208,
   "metadata": {},
   "outputs": [],
   "source": [
    "doc = BeautifulSoup(\"<html><body>hello world</body></html>\")"
   ]
  },
  {
   "cell_type": "code",
   "execution_count": 216,
   "metadata": {},
   "outputs": [
    {
     "data": {
      "text/plain": [
       "'hello world'"
      ]
     },
     "execution_count": 216,
     "metadata": {},
     "output_type": "execute_result"
    }
   ],
   "source": [
    "list( list( list( doc.children )[0].children )[0].children )[0]"
   ]
  },
  {
   "cell_type": "markdown",
   "metadata": {},
   "source": [
    "## Example: dog breeds\n",
    "\n",
    "Go take a look at the dog breed size chart at the American Kennel Club website: https://www.akc.org/expert-advice/nutrition/breed-weight-chart/.\n",
    "\n",
    "**breakout**\n",
    "* What is the protocol?\n",
    "* What is the host?\n",
    "* What is the path?\n",
    "* What is the method?\n",
    "* What is the _query string_?\n",
    "\n",
    "Let's do the thing together."
   ]
  },
  {
   "cell_type": "markdown",
   "metadata": {},
   "source": [
    "```https://en.wikipedia.org/w/api.php?format=json&action=query&prop=extracts&exintro&explaintext&redirects=1&titles=Stack%20Overflow```"
   ]
  },
  {
   "cell_type": "code",
   "execution_count": 219,
   "metadata": {},
   "outputs": [],
   "source": [
    "from http.client import HTTPSConnection #note the S"
   ]
  },
  {
   "cell_type": "code",
   "execution_count": 220,
   "metadata": {},
   "outputs": [],
   "source": [
    "conn = HTTPSConnection(host=\"www.akc.org\")"
   ]
  },
  {
   "cell_type": "code",
   "execution_count": 221,
   "metadata": {},
   "outputs": [],
   "source": [
    "conn.request(method=\"GET\", url=\"/expert-advice/nutrition/breed-weight-chart/\")"
   ]
  },
  {
   "cell_type": "code",
   "execution_count": 222,
   "metadata": {},
   "outputs": [],
   "source": [
    "resp = conn.getresponse()"
   ]
  },
  {
   "cell_type": "code",
   "execution_count": 223,
   "metadata": {},
   "outputs": [
    {
     "data": {
      "text/plain": [
       "'text/html; charset=UTF-8'"
      ]
     },
     "execution_count": 223,
     "metadata": {},
     "output_type": "execute_result"
    }
   ],
   "source": [
    "resp.headers[\"Content-Type\"]"
   ]
  },
  {
   "cell_type": "code",
   "execution_count": 224,
   "metadata": {},
   "outputs": [],
   "source": [
    "body = resp.read()"
   ]
  },
  {
   "cell_type": "code",
   "execution_count": 225,
   "metadata": {},
   "outputs": [
    {
     "data": {
      "text/plain": [
       "200"
      ]
     },
     "execution_count": 225,
     "metadata": {},
     "output_type": "execute_result"
    }
   ],
   "source": [
    "resp.status"
   ]
  },
  {
   "cell_type": "code",
   "execution_count": 226,
   "metadata": {},
   "outputs": [
    {
     "data": {
      "text/plain": [
       "240892"
      ]
     },
     "execution_count": 226,
     "metadata": {},
     "output_type": "execute_result"
    }
   ],
   "source": [
    "len(body)"
   ]
  },
  {
   "cell_type": "code",
   "execution_count": 227,
   "metadata": {},
   "outputs": [
    {
     "data": {
      "text/plain": [
       "b'\\n<!DOCTYPE html>\\n<html lang=\"en\">\\n<head>\\n    <meta charset=\"UTF-8\"><script type=\"text/javascript\">window.NREUM||(NREUM={}),__nr_require=function(e,n,t){function r(t){if(!n[t]){var o=n[t]={exports:{}};e[t][0].call(o.exports,function(n){var o=e[t][1][n];return r(o||n)},o,o.exports)}return n[t].exports}if(\"function\"==typeof __nr_require)return __nr_require;for(var o=0;o<t.length;o++)r(t[o]);return r}({1:[function(e,n,t){function r(){}function o(e,n,t){return function(){return i(e,[c.now()].concat(u(arguments)),n?null:this,t),n?void 0:this}}var i=e(\"handle\"),a=e(3),u=e(4),f=e(\"ee\").get(\"tracer\"),c=e(\"loader\"),s=NREUM;\"undefined\"==typeof window.newrelic&&(newrelic=s);var p=[\"setPageViewName\",\"setCustomAttribute\",\"setErrorHandler\",\"finished\",\"addToTrace\",\"inlineHit\",\"addRelease\"],d=\"api-\",l=d+\"ixn-\";a(p,function(e,n){s[n]=o(d+n,!0,\"api\")}),s.addPageAction=o(d+\"addPageAction\",!0),s.setCurrentRouteName=o(d+\"routeName\",!0),n.exports=newrelic,s.interaction=function(){return(new r).get()};var m=r'"
      ]
     },
     "execution_count": 227,
     "metadata": {},
     "output_type": "execute_result"
    }
   ],
   "source": [
    "body[0:1000]"
   ]
  },
  {
   "cell_type": "markdown",
   "metadata": {},
   "source": [
    "Oh snap. Welcome to the howling maelstrom of madness that is the modern web.\n",
    "\n",
    "But, then we have Beautiful Soup."
   ]
  },
  {
   "cell_type": "code",
   "execution_count": 228,
   "metadata": {},
   "outputs": [],
   "source": [
    "soup = BeautifulSoup(body)"
   ]
  },
  {
   "cell_type": "markdown",
   "metadata": {},
   "source": [
    "**Demo using dev tools to find the target tag**"
   ]
  },
  {
   "cell_type": "code",
   "execution_count": 233,
   "metadata": {},
   "outputs": [],
   "source": [
    "foo = soup.find(\"div\", class_=\"content-body\")"
   ]
  },
  {
   "cell_type": "code",
   "execution_count": 238,
   "metadata": {},
   "outputs": [],
   "source": [
    "# get first 'div' with class 'content-body', then get the first table\n",
    "atable = soup.find(\"div\", class_=\"content-body\").table"
   ]
  },
  {
   "cell_type": "code",
   "execution_count": 239,
   "metadata": {},
   "outputs": [],
   "source": [
    "#[x.text for x in atable.find_all(\"tr\")[1].find_all(\"td\")]"
   ]
  },
  {
   "cell_type": "code",
   "execution_count": 244,
   "metadata": {},
   "outputs": [
    {
     "name": "stdout",
     "output_type": "stream",
     "text": [
      "['Breed', 'Weight Male', 'Weight Female']\n",
      "['Affenpinschers', '7-10 pounds', '7-10 pounds']\n",
      "['Afghan Hounds', '50-60 pounds', '50-60 pounds']\n",
      "['Airedale Terriers', '50-70 pounds', '50-70 pounds']\n",
      "['Akitas', '100-130 pounds', '70-100 pounds']\n",
      "['Alaskan Malamutes', '85 pounds', '75 pounds']\n",
      "['American English Coonhounds', '45-65 pounds', '45-65 pounds']\n",
      "['American Eskimo Dogs', '6-10 pounds (toy), 10-20 pounds (miniature), 25-35 pounds (standard)', '6-10 pounds (toy), 10-20 pounds (miniature), 25-35 pounds (standard)']\n",
      "['American Foxhounds', '65-70 pounds', '60-65 pounds']\n",
      "['American Hairless Terriers', '12-16 pounds', '12-16 pounds']\n",
      "['American Staffordshire Terriers', '55-70 pounds', '40-55 pounds']\n",
      "['Anatolian Shepherd Dogs', '110-150 pounds', '80-120 pounds']\n",
      "['Australian Cattle Dogs', '35-50 pounds', '35-50 pounds']\n",
      "['Australian Shepherds', '50-65 pounds', '40-55 pounds']\n",
      "['Australian Terriers', '12-18 pounds', '12-18 pounds']\n",
      "['Basenjis', '24 pounds', '22 pounds']\n",
      "['Basset Hounds', '40-65 pounds', '40-65 pounds']\n",
      "['Beagles', 'under 20 pounds (13 inches & under), 20-30 pounds (13-15 inches)', 'under 20 pounds (13 inches & under), 20-30 pounds (13-15 inches)']\n",
      "['Bearded Collies', '45-55 pounds', '45-55 pounds']\n",
      "['Beaucerons', '70-110 pounds', '70-110 pounds']\n",
      "['Bedlington Terriers', '17-23 pounds', '17-23 pounds']\n",
      "['Belgian Malinois', '60-80 pounds', '40-60 pounds']\n",
      "['Belgian Sheepdogs', '55-75 pounds', '45-60 pounds']\n",
      "['Belgian Tervuren', '55-75 pounds', '45-60 pounds']\n",
      "['Bergamasco', '70-84 pounds', '57-71 pounds']\n",
      "['Berger Picards', '50-70 pounds', '50-70 pounds']\n",
      "['Bernese Mountain Dogs', '80-115 pounds', '70-95 pounds']\n",
      "['Bichons Frises', '12-18 pounds', '12-18 pounds']\n",
      "['Black and Tan Coonhounds', '65-110 pounds', '65-110 pounds']\n",
      "['Black Russian Terriers', '80-130 pounds', '80-130 pounds']\n",
      "['Bloodhounds', '90-110 pounds', '80-100 pounds']\n",
      "['Bluetick Coonhounds', '55-80 pounds', '45-65 pounds']\n",
      "['Boerboels', '150-200 pounds', '150-200 pounds']\n",
      "['Border Collies', '30-55 pounds', '30-55 pounds']\n",
      "['Border Terriers', '13-15.5 pounds', '11.5-14 pounds']\n",
      "['Borzois', '75-105 pounds', '60-85 pounds']\n",
      "['Boston Terriers', '12-25 pounds', '12-25 pounds']\n",
      "['Bouviers des Flandres', '70-110 pounds', '70-110 pounds']\n",
      "['Boxers', '65-80 pounds', '15 pounds less than male']\n",
      "['Briards', '55-100 pounds', '55-100 pounds']\n",
      "['Brittanys', '30-40 pounds', '30-40 pounds']\n",
      "['Brussels Griffons', '8-10 pounds', '8-10 pounds']\n",
      "['Bull Terriers', '50-70 pounds', '50-70 pounds']\n",
      "['Bulldogs', '50 pounds', '40 pounds']\n",
      "['Bullmastiffs', '110-130 pounds', '100-120 pounds']\n",
      "['Cairn Terriers', '14 pounds', '13 pounds']\n",
      "['Canaan Dogs', '45-55 pounds', '35-45 pounds']\n",
      "['Cane Corso', 'Proportionate to height', 'Proportionate to height']\n",
      "['Cardigan Welsh Corgis', '30-38 pounds', '25-34 pounds']\n",
      "['Cavalier King Charles Spaniels', '13-18 pounds', '13-18 pounds']\n",
      "['Cesky Terriers', '14-24 pounds', '14-24 pounds']\n",
      "['Chihuahuas', 'not exceeding 6 pounds', 'not exceeding 6 pounds']\n",
      "['Chinese Crested', '8-12 pounds', '8-12 pounds']\n",
      "['Chinese Shar-Pei', '45-60 pounds', '45-60 pounds']\n",
      "['Chinooks', '55-90 pounds', '50-65 pounds']\n",
      "['Chow Chows', '45-70 pounds', '45-70 pounds']\n",
      "[\"Cirnechi dell'Etna\", '22-26 pounds', '17-22 pounds']\n",
      "['Collies', '60-75 pounds', '50-65 pounds']\n",
      "['Coton de Tulear', '9-15 pounds', '8-13 pounds']\n",
      "['Dachshunds', '16-32 pounds (standard), 11 pounds & under (miniature)', '16-32 pounds (standard), 11 pounds & under (miniature)']\n",
      "['Dalmatians', '45-70 pounds', '45-70 pounds']\n",
      "['Dandie Dinmont Terriers', '18-24 pounds', '18-24 pounds']\n",
      "['Doberman Pinschers', '75-100 pounds', '60-90 pounds']\n",
      "['Dogues de Bordeaux', '110 pounds & up', '99 pounds & up']\n",
      "['English Foxhounds', '60-75 pounds', '60-75 pounds']\n",
      "['English Toy Spaniels', '8-14 pounds', '8-14 pounds']\n",
      "['Entlebucher Mountain Dogs', '55-65 pounds', '55-65 pounds']\n",
      "['Finnish Lapphunds', '33-53 pounds', '33-53 pounds']\n",
      "['Finnish Spitz', '25-33 pounds', '20-28 pounds']\n",
      "['Fox Terriers (Smooth)', '18 pounds in show condition', 'two pounds less than male']\n",
      "['Fox Terriers (Wire)', '18 pounds in show condition', 'two pounds less than male']\n",
      "['French Bulldogs', 'under 28 pounds', 'under 28 pounds']\n",
      "['German Pinschers', '25-45 pounds', '25-45 pounds']\n",
      "['German Shepherd Dogs', '65-90 pounds', '50-70 pounds']\n",
      "['Giant Schnauzers', '60-85 pounds', '55-75 pounds']\n",
      "['Glen of Imaal Terriers', '32-40 pounds', '32-40 pounds']\n",
      "['Great Danes', '140-175 pounds', '110-140 pounds']\n",
      "['Great Pyrenees', '100 pounds & up', '85 pounds & up']\n",
      "['Greater Swiss Mountain Dogs', '115-140 pounds', '85-110 pounds']\n",
      "['Greyhounds', '65-70 pounds', '60-65 pounds']\n",
      "['Harriers', '45-60 pounds', '45-60 pounds']\n",
      "['Havanese', '7-13 pounds', '7-13 pounds']\n",
      "['Ibizan Hounds', '50 pounds', '45 pounds']\n",
      "['Icelandic Sheepdogs', '30 pounds', '25 pounds']\n",
      "['Irish Terriers', '27 pounds', '25 pounds']\n",
      "['Irish Wolfhounds', '120 pounds', '105 pounds']\n",
      "['Italian Greyhounds', '7-14 pounds', '7-14 pounds']\n",
      "['Japanese Chin', '7-11 pounds', '7-11 pounds']\n",
      "['Keeshonden', '35-45 pounds', '35-45 pounds']\n",
      "['Kerry Blue Terriers', '33-40 pounds', 'females weigh slightly less than males']\n",
      "['Komondorok', '100 pounds or more', '80 pounds or more']\n",
      "['Kuvaszok', '100-115 pounds', '70-90 pounds']\n",
      "['Lagotti Romagnoli', '28.5-35 pounds', '24-31 pounds']\n",
      "['Lakeland Terriers', '17 pounds', 'slightly smaller']\n",
      "['Leonbergers', '110-170 pounds', '90-140 pounds']\n",
      "['Lhasa Apsos', '12-18 pounds', '12-18 pounds']\n",
      "['Lowchen', '15 pounds', '15 pounds']\n",
      "['Maltese', 'under 7 pounds', 'under 7 pounds']\n",
      "['Manchester Terriers', 'under 12 pounds (toy), 12-22 pounds (standard)', 'under 12 pounds (toy), 12-22 pounds (standard)']\n",
      "['Mastiffs', '160-230 pounds', '120-170 pounds']\n",
      "['Miniature American Shepherds', '20-40 pounds', '20-40 pounds']\n",
      "['Miniature Bull Terriers', '18-28 pounds', '18-28 pounds']\n",
      "['Miniature Pinschers', '8-10 pounds', '8-10 pounds']\n",
      "['Miniature Schnauzers', '11-20 pounds', '11-20 pounds']\n",
      "['Neapolitan Mastiffs', '150 pounds', '110 pounds']\n",
      "['Newfoundlands', '130-150 pounds', '100-120 pounds']\n",
      "['Norfolk Terriers', '11-12 pounds', '11-12 pounds']\n",
      "['Norwegian Buhunds', '31-40 pounds', '26-35 pounds']\n",
      "['Norwegian Elkhounds', '55 pounds', '48 pounds']\n",
      "['Norwegian Lundehunds', '20-30 pounds', '20-30 pounds']\n",
      "['Norwich Terriers', '12 pounds', '12 pounds']\n",
      "['Old English Sheepdogs', '60-100 pounds', '60-100 pounds']\n",
      "['Otterhounds', '115 pounds', '80 pounds']\n",
      "['Papillons', '5-10 pounds', '5-10 pounds']\n",
      "['Parson Russell Terriers', '13-17 pounds', '13-17 pounds']\n",
      "['Pekingese', 'up to 14 pounds', 'up to 14 pounds']\n",
      "['Pembroke Welsh Corgis', 'up to 30 pounds', 'up to 28 pounds']\n",
      "['Petits Bassets Griffons Vendeens', '25-40 pounds', '25-40 pounds']\n",
      "['Pharaoh Hounds', '45-55 pounds', '45-55 pounds']\n",
      "['Plotts', '50-60 pounds', '40-55 pounds']\n",
      "['Pointers', '55-75 pounds', '45-65 pounds']\n",
      "['Pointers (German Shorthaired)', '55-70 pounds', '45-60 pounds']\n",
      "['Pointers (German Wirehaired)', '50-70 pounds', '50-70 pounds']\n",
      "['Polish Lowland Sheepdogs', '30-50 pounds', '30-50 pounds \\t\\t\\t\\xa0']\n",
      "['Pomeranians', '3-7 pounds', '3-7 pounds']\n",
      "['Poodles', '4-6 pounds (toy), 10-15 pounds (miniature), 60-70 pounds (male standard)', '4-6 pounds (toy), 10-15 pounds (miniature), 40-50 pounds (female standard)']\n",
      "['Portuguese Podengo Pequenos', '9-13 pounds', '9-13 pounds']\n",
      "['Portuguese Water Dogs', '42-60 pounds', '35-50 pounds']\n",
      "['Pugs', '14-18 pounds', '14-18 pounds']\n",
      "['Pulik', '25-35 pounds', '25-35 pounds']\n",
      "['Pumik', '27-29 pounds', '22-24 pounds']\n",
      "['Pyrenean Shepherds', '15-30 pounds', '15-30 pounds']\n",
      "['Rat Terriers', '10-25 pounds', '10-25 pounds']\n",
      "['Redbone Coonhounds', '45-70 pounds', '45-70 pounds']\n",
      "['Retrievers (Chesapeake Bay)', '65-80 pounds', '55-70 pounds']\n",
      "['Retrievers (Curly-Coated)', '60-95 pounds', '60-95 pounds']\n",
      "['Retrievers (Flat-Coated)', '60-70 pounds', '60-70 pounds']\n",
      "['Retrievers (Golden)', '65-75 pounds', '55-65 pounds']\n",
      "['Retrievers (Labrador)', '65-80 pounds', '55-70 pounds']\n",
      "['Retrievers (Nova Scotia Duck Tolling)', '35-50 pounds', '35-50 pounds']\n",
      "['Rhodesian Ridgebacks', '85 pounds', '70 pounds']\n",
      "['Rottweilers', '95-135 pounds', '80-100 pounds']\n",
      "['Russell Terriers', '9-15 pounds', '9-15 pounds']\n",
      "['Salukis', '40-65 pounds', '40-65 pounds']\n",
      "['Samoyeds', '45-65 pounds', '35-50 pounds']\n",
      "['Schipperkes', '10-16 pounds', '10-16 pounds']\n",
      "['Scottish Deerhounds', '85-110 pounds', '75-95 pounds']\n",
      "['Scottish Terriers', '19-22 pounds', '18-21 pounds']\n",
      "['Sealyham Terriers', '23-24 pounds', 'slightly less']\n",
      "['Setters (English)', '65-80 pounds', '45-55 pounds']\n",
      "['Setters (Gordon)', '55-80 pounds', '45-70 pounds']\n",
      "['Setters (Irish Red and White)', '42-60 pounds', '35-50 pounds']\n",
      "['Setters (Irish)', '70 pounds', '60 pounds']\n",
      "['Shetland Sheepdogs', '15-25 pounds', '15-25 pounds']\n",
      "['Shiba Inu', '23 pounds', '17 pounds']\n",
      "['Shih Tzu', '9-16 pounds', '9-16 pounds']\n",
      "['Siberian Huskies', '45-60 pounds', '35-50 pounds']\n",
      "['Silky Terriers', 'around 10 pounds', 'around 10 pounds']\n",
      "['Skye Terriers', '35-45 pounds', 'slightly lighter']\n",
      "['Sloughis', '35-50 pounds', '35-50 pounds']\n",
      "['Soft Coated Wheaten Terriers', '35-40 pounds', '30-35 pounds']\n",
      "['Spaniels (American Water)', '30-45 pounds', '25-40 pounds']\n",
      "['Spaniels (Boykin)', '30-40 pounds', '25-35 pounds']\n",
      "['Spaniels (Clumber)', '70-85 pounds', '55-70 pounds']\n",
      "['Spaniels (English Cocker)', '28-34 pounds', '26-32 pounds']\n",
      "['Spaniels (English Springer)', '50 pounds', '40 pounds']\n",
      "['Spaniels (Field)', '35-50 pounds', '35-50 pounds']\n",
      "['Spaniels (Irish Water)', '55-68 pounds', '45-58 pounds']\n",
      "['Spaniels (Sussex)', '35-45 pounds', '35-45 pounds']\n",
      "['Spaniels (Welsh Springer)', '40-55 pounds', '35-50 pounds']\n",
      "['Spanish Water Dogs', '40-49 pounds', '31-40 pounds']\n",
      "['Spinoni Italiani', '56 pounds', '56 pounds']\n",
      "['St. Bernards', '140-180 pounds', '120-140 pounds']\n",
      "['Staffordshire Bull Terriers', '28-38 pounds', '24 to 34 pounds']\n",
      "['Standard Schnauzers', '35-50 pounds', '30-45 pounds']\n",
      "['Swedish Vallhunds', '20-35 pounds', '20-35 pounds']\n",
      "['Tibetan Mastiffs', '90-150 pounds', '70-120 pounds']\n",
      "['Tibetan Terriers', '18-30 pounds', 'slightly smaller']\n",
      "['Tibetan Spaniel', '9-15 pounds', '9-15 pounds']\n",
      "['Toy Fox Terriers', '3.5-7 pounds', '3.5-7 pounds']\n",
      "['Treeing Walker Coonhounds', '50-70 pounds', '50-70 pounds']\n",
      "['Vizslas', '55-60 pounds', '44-55 pounds']\n",
      "['Weimaraners', '70-90 pounds', '55-75 pounds']\n",
      "['Welsh Terriers', '20 pounds', 'proportionally smaller']\n",
      "['West Highland White Terriers', '15-20 pounds', '15-20 pounds']\n",
      "['Whippets', '25-40 pounds', '25-40 pounds']\n",
      "['Wirehaired Pointing Griffons', '50-70 pounds', '35 and 50 pounds']\n",
      "['Wirehaired Vizslas', '55-65 pounds', '45-55 pounds']\n",
      "['Xoloitzcuintli', '10-15 pounds (toy), 15-30 pounds (miniature), 30-55 pounds (standard)', '10-15 pounds (toy), 15-30 pounds (miniature), 30-55 pounds (standard)']\n",
      "['Yorkshire Terriers', '7 pounds', '7 pounds']\n"
     ]
    }
   ],
   "source": [
    "rows = []\n",
    "for row in atable.find_all('tr'):\n",
    "    textrow = [x.text for x in row.find_all('td')]\n",
    "    print( textrow )\n",
    "    rows.append( textrow )"
   ]
  },
  {
   "cell_type": "code",
   "execution_count": 245,
   "metadata": {},
   "outputs": [
    {
     "data": {
      "text/plain": [
       "[['Breed', 'Weight Male', 'Weight Female'],\n",
       " ['Affenpinschers', '7-10 pounds', '7-10 pounds'],\n",
       " ['Afghan Hounds', '50-60 pounds', '50-60 pounds'],\n",
       " ['Airedale Terriers', '50-70 pounds', '50-70 pounds'],\n",
       " ['Akitas', '100-130 pounds', '70-100 pounds'],\n",
       " ['Alaskan Malamutes', '85 pounds', '75 pounds'],\n",
       " ['American English Coonhounds', '45-65 pounds', '45-65 pounds'],\n",
       " ['American Eskimo Dogs',\n",
       "  '6-10 pounds (toy), 10-20 pounds (miniature), 25-35 pounds (standard)',\n",
       "  '6-10 pounds (toy), 10-20 pounds (miniature), 25-35 pounds (standard)'],\n",
       " ['American Foxhounds', '65-70 pounds', '60-65 pounds'],\n",
       " ['American Hairless Terriers', '12-16 pounds', '12-16 pounds']]"
      ]
     },
     "execution_count": 245,
     "metadata": {},
     "output_type": "execute_result"
    }
   ],
   "source": [
    "rows[0:10]"
   ]
  },
  {
   "cell_type": "markdown",
   "metadata": {},
   "source": [
    "## Back to mongodb\n",
    "\n",
    "Now we have some **semi-parsed** data from this page, which still needs a bunch of cleaning up. What's a good environment for saving semi-parsed data of uncertain format? **mongodb**."
   ]
  },
  {
   "cell_type": "code",
   "execution_count": 246,
   "metadata": {},
   "outputs": [],
   "source": [
    "client = MongoClient() #sensible defaults are sensible\n",
    "db = client.test_database\n",
    "\n",
    "dogs = db.dogs"
   ]
  },
  {
   "cell_type": "code",
   "execution_count": 247,
   "metadata": {},
   "outputs": [
    {
     "data": {
      "text/plain": [
       "Collection(Database(MongoClient(host=['localhost:27017'], document_class=dict, tz_aware=False, connect=True), 'test_database'), 'dogs')"
      ]
     },
     "execution_count": 247,
     "metadata": {},
     "output_type": "execute_result"
    }
   ],
   "source": [
    "dogs"
   ]
  },
  {
   "cell_type": "code",
   "execution_count": 255,
   "metadata": {},
   "outputs": [],
   "source": [
    "idx = dogs.insert_one({'data':rows}).inserted_id"
   ]
  },
  {
   "cell_type": "code",
   "execution_count": 256,
   "metadata": {},
   "outputs": [],
   "source": [
    "obj = dogs.find_one({\"_id\":idx})"
   ]
  },
  {
   "cell_type": "code",
   "execution_count": 257,
   "metadata": {},
   "outputs": [
    {
     "data": {
      "text/plain": [
       "{'_id': ObjectId('5c4f8624da446ee075780a6d'),\n",
       " 'data': [['Breed', 'Weight Male', 'Weight Female'],\n",
       "  ['Affenpinschers', '7-10 pounds', '7-10 pounds'],\n",
       "  ['Afghan Hounds', '50-60 pounds', '50-60 pounds'],\n",
       "  ['Airedale Terriers', '50-70 pounds', '50-70 pounds'],\n",
       "  ['Akitas', '100-130 pounds', '70-100 pounds'],\n",
       "  ['Alaskan Malamutes', '85 pounds', '75 pounds'],\n",
       "  ['American English Coonhounds', '45-65 pounds', '45-65 pounds'],\n",
       "  ['American Eskimo Dogs',\n",
       "   '6-10 pounds (toy), 10-20 pounds (miniature), 25-35 pounds (standard)',\n",
       "   '6-10 pounds (toy), 10-20 pounds (miniature), 25-35 pounds (standard)'],\n",
       "  ['American Foxhounds', '65-70 pounds', '60-65 pounds'],\n",
       "  ['American Hairless Terriers', '12-16 pounds', '12-16 pounds'],\n",
       "  ['American Staffordshire Terriers', '55-70 pounds', '40-55 pounds'],\n",
       "  ['Anatolian Shepherd Dogs', '110-150 pounds', '80-120 pounds'],\n",
       "  ['Australian Cattle Dogs', '35-50 pounds', '35-50 pounds'],\n",
       "  ['Australian Shepherds', '50-65 pounds', '40-55 pounds'],\n",
       "  ['Australian Terriers', '12-18 pounds', '12-18 pounds'],\n",
       "  ['Basenjis', '24 pounds', '22 pounds'],\n",
       "  ['Basset Hounds', '40-65 pounds', '40-65 pounds'],\n",
       "  ['Beagles',\n",
       "   'under 20 pounds (13 inches & under), 20-30 pounds (13-15 inches)',\n",
       "   'under 20 pounds (13 inches & under), 20-30 pounds (13-15 inches)'],\n",
       "  ['Bearded Collies', '45-55 pounds', '45-55 pounds'],\n",
       "  ['Beaucerons', '70-110 pounds', '70-110 pounds'],\n",
       "  ['Bedlington Terriers', '17-23 pounds', '17-23 pounds'],\n",
       "  ['Belgian Malinois', '60-80 pounds', '40-60 pounds'],\n",
       "  ['Belgian Sheepdogs', '55-75 pounds', '45-60 pounds'],\n",
       "  ['Belgian Tervuren', '55-75 pounds', '45-60 pounds'],\n",
       "  ['Bergamasco', '70-84 pounds', '57-71 pounds'],\n",
       "  ['Berger Picards', '50-70 pounds', '50-70 pounds'],\n",
       "  ['Bernese Mountain Dogs', '80-115 pounds', '70-95 pounds'],\n",
       "  ['Bichons Frises', '12-18 pounds', '12-18 pounds'],\n",
       "  ['Black and Tan Coonhounds', '65-110 pounds', '65-110 pounds'],\n",
       "  ['Black Russian Terriers', '80-130 pounds', '80-130 pounds'],\n",
       "  ['Bloodhounds', '90-110 pounds', '80-100 pounds'],\n",
       "  ['Bluetick Coonhounds', '55-80 pounds', '45-65 pounds'],\n",
       "  ['Boerboels', '150-200 pounds', '150-200 pounds'],\n",
       "  ['Border Collies', '30-55 pounds', '30-55 pounds'],\n",
       "  ['Border Terriers', '13-15.5 pounds', '11.5-14 pounds'],\n",
       "  ['Borzois', '75-105 pounds', '60-85 pounds'],\n",
       "  ['Boston Terriers', '12-25 pounds', '12-25 pounds'],\n",
       "  ['Bouviers des Flandres', '70-110 pounds', '70-110 pounds'],\n",
       "  ['Boxers', '65-80 pounds', '15 pounds less than male'],\n",
       "  ['Briards', '55-100 pounds', '55-100 pounds'],\n",
       "  ['Brittanys', '30-40 pounds', '30-40 pounds'],\n",
       "  ['Brussels Griffons', '8-10 pounds', '8-10 pounds'],\n",
       "  ['Bull Terriers', '50-70 pounds', '50-70 pounds'],\n",
       "  ['Bulldogs', '50 pounds', '40 pounds'],\n",
       "  ['Bullmastiffs', '110-130 pounds', '100-120 pounds'],\n",
       "  ['Cairn Terriers', '14 pounds', '13 pounds'],\n",
       "  ['Canaan Dogs', '45-55 pounds', '35-45 pounds'],\n",
       "  ['Cane Corso', 'Proportionate to height', 'Proportionate to height'],\n",
       "  ['Cardigan Welsh Corgis', '30-38 pounds', '25-34 pounds'],\n",
       "  ['Cavalier King Charles Spaniels', '13-18 pounds', '13-18 pounds'],\n",
       "  ['Cesky Terriers', '14-24 pounds', '14-24 pounds'],\n",
       "  ['Chihuahuas', 'not exceeding 6 pounds', 'not exceeding 6 pounds'],\n",
       "  ['Chinese Crested', '8-12 pounds', '8-12 pounds'],\n",
       "  ['Chinese Shar-Pei', '45-60 pounds', '45-60 pounds'],\n",
       "  ['Chinooks', '55-90 pounds', '50-65 pounds'],\n",
       "  ['Chow Chows', '45-70 pounds', '45-70 pounds'],\n",
       "  [\"Cirnechi dell'Etna\", '22-26 pounds', '17-22 pounds'],\n",
       "  ['Collies', '60-75 pounds', '50-65 pounds'],\n",
       "  ['Coton de Tulear', '9-15 pounds', '8-13 pounds'],\n",
       "  ['Dachshunds',\n",
       "   '16-32 pounds (standard), 11 pounds & under (miniature)',\n",
       "   '16-32 pounds (standard), 11 pounds & under (miniature)'],\n",
       "  ['Dalmatians', '45-70 pounds', '45-70 pounds'],\n",
       "  ['Dandie Dinmont Terriers', '18-24 pounds', '18-24 pounds'],\n",
       "  ['Doberman Pinschers', '75-100 pounds', '60-90 pounds'],\n",
       "  ['Dogues de Bordeaux', '110 pounds & up', '99 pounds & up'],\n",
       "  ['English Foxhounds', '60-75 pounds', '60-75 pounds'],\n",
       "  ['English Toy Spaniels', '8-14 pounds', '8-14 pounds'],\n",
       "  ['Entlebucher Mountain Dogs', '55-65 pounds', '55-65 pounds'],\n",
       "  ['Finnish Lapphunds', '33-53 pounds', '33-53 pounds'],\n",
       "  ['Finnish Spitz', '25-33 pounds', '20-28 pounds'],\n",
       "  ['Fox Terriers (Smooth)',\n",
       "   '18 pounds in show condition',\n",
       "   'two pounds less than male'],\n",
       "  ['Fox Terriers (Wire)',\n",
       "   '18 pounds in show condition',\n",
       "   'two pounds less than male'],\n",
       "  ['French Bulldogs', 'under 28 pounds', 'under 28 pounds'],\n",
       "  ['German Pinschers', '25-45 pounds', '25-45 pounds'],\n",
       "  ['German Shepherd Dogs', '65-90 pounds', '50-70 pounds'],\n",
       "  ['Giant Schnauzers', '60-85 pounds', '55-75 pounds'],\n",
       "  ['Glen of Imaal Terriers', '32-40 pounds', '32-40 pounds'],\n",
       "  ['Great Danes', '140-175 pounds', '110-140 pounds'],\n",
       "  ['Great Pyrenees', '100 pounds & up', '85 pounds & up'],\n",
       "  ['Greater Swiss Mountain Dogs', '115-140 pounds', '85-110 pounds'],\n",
       "  ['Greyhounds', '65-70 pounds', '60-65 pounds'],\n",
       "  ['Harriers', '45-60 pounds', '45-60 pounds'],\n",
       "  ['Havanese', '7-13 pounds', '7-13 pounds'],\n",
       "  ['Ibizan Hounds', '50 pounds', '45 pounds'],\n",
       "  ['Icelandic Sheepdogs', '30 pounds', '25 pounds'],\n",
       "  ['Irish Terriers', '27 pounds', '25 pounds'],\n",
       "  ['Irish Wolfhounds', '120 pounds', '105 pounds'],\n",
       "  ['Italian Greyhounds', '7-14 pounds', '7-14 pounds'],\n",
       "  ['Japanese Chin', '7-11 pounds', '7-11 pounds'],\n",
       "  ['Keeshonden', '35-45 pounds', '35-45 pounds'],\n",
       "  ['Kerry Blue Terriers',\n",
       "   '33-40 pounds',\n",
       "   'females weigh slightly less than males'],\n",
       "  ['Komondorok', '100 pounds or more', '80 pounds or more'],\n",
       "  ['Kuvaszok', '100-115 pounds', '70-90 pounds'],\n",
       "  ['Lagotti Romagnoli', '28.5-35 pounds', '24-31 pounds'],\n",
       "  ['Lakeland Terriers', '17 pounds', 'slightly smaller'],\n",
       "  ['Leonbergers', '110-170 pounds', '90-140 pounds'],\n",
       "  ['Lhasa Apsos', '12-18 pounds', '12-18 pounds'],\n",
       "  ['Lowchen', '15 pounds', '15 pounds'],\n",
       "  ['Maltese', 'under 7 pounds', 'under 7 pounds'],\n",
       "  ['Manchester Terriers',\n",
       "   'under 12 pounds (toy), 12-22 pounds (standard)',\n",
       "   'under 12 pounds (toy), 12-22 pounds (standard)'],\n",
       "  ['Mastiffs', '160-230 pounds', '120-170 pounds'],\n",
       "  ['Miniature American Shepherds', '20-40 pounds', '20-40 pounds'],\n",
       "  ['Miniature Bull Terriers', '18-28 pounds', '18-28 pounds'],\n",
       "  ['Miniature Pinschers', '8-10 pounds', '8-10 pounds'],\n",
       "  ['Miniature Schnauzers', '11-20 pounds', '11-20 pounds'],\n",
       "  ['Neapolitan Mastiffs', '150 pounds', '110 pounds'],\n",
       "  ['Newfoundlands', '130-150 pounds', '100-120 pounds'],\n",
       "  ['Norfolk Terriers', '11-12 pounds', '11-12 pounds'],\n",
       "  ['Norwegian Buhunds', '31-40 pounds', '26-35 pounds'],\n",
       "  ['Norwegian Elkhounds', '55 pounds', '48 pounds'],\n",
       "  ['Norwegian Lundehunds', '20-30 pounds', '20-30 pounds'],\n",
       "  ['Norwich Terriers', '12 pounds', '12 pounds'],\n",
       "  ['Old English Sheepdogs', '60-100 pounds', '60-100 pounds'],\n",
       "  ['Otterhounds', '115 pounds', '80 pounds'],\n",
       "  ['Papillons', '5-10 pounds', '5-10 pounds'],\n",
       "  ['Parson Russell Terriers', '13-17 pounds', '13-17 pounds'],\n",
       "  ['Pekingese', 'up to 14 pounds', 'up to 14 pounds'],\n",
       "  ['Pembroke Welsh Corgis', 'up to 30 pounds', 'up to 28 pounds'],\n",
       "  ['Petits Bassets Griffons Vendeens', '25-40 pounds', '25-40 pounds'],\n",
       "  ['Pharaoh Hounds', '45-55 pounds', '45-55 pounds'],\n",
       "  ['Plotts', '50-60 pounds', '40-55 pounds'],\n",
       "  ['Pointers', '55-75 pounds', '45-65 pounds'],\n",
       "  ['Pointers (German Shorthaired)', '55-70 pounds', '45-60 pounds'],\n",
       "  ['Pointers (German Wirehaired)', '50-70 pounds', '50-70 pounds'],\n",
       "  ['Polish Lowland Sheepdogs', '30-50 pounds', '30-50 pounds \\t\\t\\t\\xa0'],\n",
       "  ['Pomeranians', '3-7 pounds', '3-7 pounds'],\n",
       "  ['Poodles',\n",
       "   '4-6 pounds (toy), 10-15 pounds (miniature), 60-70 pounds (male standard)',\n",
       "   '4-6 pounds (toy), 10-15 pounds (miniature), 40-50 pounds (female standard)'],\n",
       "  ['Portuguese Podengo Pequenos', '9-13 pounds', '9-13 pounds'],\n",
       "  ['Portuguese Water Dogs', '42-60 pounds', '35-50 pounds'],\n",
       "  ['Pugs', '14-18 pounds', '14-18 pounds'],\n",
       "  ['Pulik', '25-35 pounds', '25-35 pounds'],\n",
       "  ['Pumik', '27-29 pounds', '22-24 pounds'],\n",
       "  ['Pyrenean Shepherds', '15-30 pounds', '15-30 pounds'],\n",
       "  ['Rat Terriers', '10-25 pounds', '10-25 pounds'],\n",
       "  ['Redbone Coonhounds', '45-70 pounds', '45-70 pounds'],\n",
       "  ['Retrievers (Chesapeake Bay)', '65-80 pounds', '55-70 pounds'],\n",
       "  ['Retrievers (Curly-Coated)', '60-95 pounds', '60-95 pounds'],\n",
       "  ['Retrievers (Flat-Coated)', '60-70 pounds', '60-70 pounds'],\n",
       "  ['Retrievers (Golden)', '65-75 pounds', '55-65 pounds'],\n",
       "  ['Retrievers (Labrador)', '65-80 pounds', '55-70 pounds'],\n",
       "  ['Retrievers (Nova Scotia Duck Tolling)', '35-50 pounds', '35-50 pounds'],\n",
       "  ['Rhodesian Ridgebacks', '85 pounds', '70 pounds'],\n",
       "  ['Rottweilers', '95-135 pounds', '80-100 pounds'],\n",
       "  ['Russell Terriers', '9-15 pounds', '9-15 pounds'],\n",
       "  ['Salukis', '40-65 pounds', '40-65 pounds'],\n",
       "  ['Samoyeds', '45-65 pounds', '35-50 pounds'],\n",
       "  ['Schipperkes', '10-16 pounds', '10-16 pounds'],\n",
       "  ['Scottish Deerhounds', '85-110 pounds', '75-95 pounds'],\n",
       "  ['Scottish Terriers', '19-22 pounds', '18-21 pounds'],\n",
       "  ['Sealyham Terriers', '23-24 pounds', 'slightly less'],\n",
       "  ['Setters (English)', '65-80 pounds', '45-55 pounds'],\n",
       "  ['Setters (Gordon)', '55-80 pounds', '45-70 pounds'],\n",
       "  ['Setters (Irish Red and White)', '42-60 pounds', '35-50 pounds'],\n",
       "  ['Setters (Irish)', '70 pounds', '60 pounds'],\n",
       "  ['Shetland Sheepdogs', '15-25 pounds', '15-25 pounds'],\n",
       "  ['Shiba Inu', '23 pounds', '17 pounds'],\n",
       "  ['Shih Tzu', '9-16 pounds', '9-16 pounds'],\n",
       "  ['Siberian Huskies', '45-60 pounds', '35-50 pounds'],\n",
       "  ['Silky Terriers', 'around 10 pounds', 'around 10 pounds'],\n",
       "  ['Skye Terriers', '35-45 pounds', 'slightly lighter'],\n",
       "  ['Sloughis', '35-50 pounds', '35-50 pounds'],\n",
       "  ['Soft Coated Wheaten Terriers', '35-40 pounds', '30-35 pounds'],\n",
       "  ['Spaniels (American Water)', '30-45 pounds', '25-40 pounds'],\n",
       "  ['Spaniels (Boykin)', '30-40 pounds', '25-35 pounds'],\n",
       "  ['Spaniels (Clumber)', '70-85 pounds', '55-70 pounds'],\n",
       "  ['Spaniels (English Cocker)', '28-34 pounds', '26-32 pounds'],\n",
       "  ['Spaniels (English Springer)', '50 pounds', '40 pounds'],\n",
       "  ['Spaniels (Field)', '35-50 pounds', '35-50 pounds'],\n",
       "  ['Spaniels (Irish Water)', '55-68 pounds', '45-58 pounds'],\n",
       "  ['Spaniels (Sussex)', '35-45 pounds', '35-45 pounds'],\n",
       "  ['Spaniels (Welsh Springer)', '40-55 pounds', '35-50 pounds'],\n",
       "  ['Spanish Water Dogs', '40-49 pounds', '31-40 pounds'],\n",
       "  ['Spinoni Italiani', '56 pounds', '56 pounds'],\n",
       "  ['St. Bernards', '140-180 pounds', '120-140 pounds'],\n",
       "  ['Staffordshire Bull Terriers', '28-38 pounds', '24 to 34 pounds'],\n",
       "  ['Standard Schnauzers', '35-50 pounds', '30-45 pounds'],\n",
       "  ['Swedish Vallhunds', '20-35 pounds', '20-35 pounds'],\n",
       "  ['Tibetan Mastiffs', '90-150 pounds', '70-120 pounds'],\n",
       "  ['Tibetan Terriers', '18-30 pounds', 'slightly smaller'],\n",
       "  ['Tibetan Spaniel', '9-15 pounds', '9-15 pounds'],\n",
       "  ['Toy Fox Terriers', '3.5-7 pounds', '3.5-7 pounds'],\n",
       "  ['Treeing Walker Coonhounds', '50-70 pounds', '50-70 pounds'],\n",
       "  ['Vizslas', '55-60 pounds', '44-55 pounds'],\n",
       "  ['Weimaraners', '70-90 pounds', '55-75 pounds'],\n",
       "  ['Welsh Terriers', '20 pounds', 'proportionally smaller'],\n",
       "  ['West Highland White Terriers', '15-20 pounds', '15-20 pounds'],\n",
       "  ['Whippets', '25-40 pounds', '25-40 pounds'],\n",
       "  ['Wirehaired Pointing Griffons', '50-70 pounds', '35 and 50 pounds'],\n",
       "  ['Wirehaired Vizslas', '55-65 pounds', '45-55 pounds'],\n",
       "  ['Xoloitzcuintli',\n",
       "   '10-15 pounds (toy), 15-30 pounds (miniature), 30-55 pounds (standard)',\n",
       "   '10-15 pounds (toy), 15-30 pounds (miniature), 30-55 pounds (standard)'],\n",
       "  ['Yorkshire Terriers', '7 pounds', '7 pounds']]}"
      ]
     },
     "execution_count": 257,
     "metadata": {},
     "output_type": "execute_result"
    }
   ],
   "source": [
    "obj"
   ]
  },
  {
   "cell_type": "markdown",
   "metadata": {},
   "source": [
    "With this the data has completed a round trip through mongodb."
   ]
  },
  {
   "cell_type": "code",
   "execution_count": 260,
   "metadata": {},
   "outputs": [],
   "source": [
    "rows = obj['data']"
   ]
  },
  {
   "cell_type": "code",
   "execution_count": 261,
   "metadata": {},
   "outputs": [
    {
     "data": {
      "text/plain": [
       "[['Breed', 'Weight Male', 'Weight Female'],\n",
       " ['Affenpinschers', '7-10 pounds', '7-10 pounds'],\n",
       " ['Afghan Hounds', '50-60 pounds', '50-60 pounds'],\n",
       " ['Airedale Terriers', '50-70 pounds', '50-70 pounds']]"
      ]
     },
     "execution_count": 261,
     "metadata": {},
     "output_type": "execute_result"
    }
   ],
   "source": [
    "rows[0:4]"
   ]
  },
  {
   "cell_type": "markdown",
   "metadata": {},
   "source": [
    "## pandas is strange but useful"
   ]
  },
  {
   "cell_type": "code",
   "execution_count": 262,
   "metadata": {},
   "outputs": [],
   "source": [
    "import pandas as pd"
   ]
  },
  {
   "cell_type": "code",
   "execution_count": 263,
   "metadata": {},
   "outputs": [
    {
     "data": {
      "text/html": [
       "<div>\n",
       "<style scoped>\n",
       "    .dataframe tbody tr th:only-of-type {\n",
       "        vertical-align: middle;\n",
       "    }\n",
       "\n",
       "    .dataframe tbody tr th {\n",
       "        vertical-align: top;\n",
       "    }\n",
       "\n",
       "    .dataframe thead th {\n",
       "        text-align: right;\n",
       "    }\n",
       "</style>\n",
       "<table border=\"1\" class=\"dataframe\">\n",
       "  <thead>\n",
       "    <tr style=\"text-align: right;\">\n",
       "      <th></th>\n",
       "      <th>Breed</th>\n",
       "      <th>Weight Male</th>\n",
       "      <th>Weight Female</th>\n",
       "    </tr>\n",
       "  </thead>\n",
       "  <tbody>\n",
       "    <tr>\n",
       "      <th>0</th>\n",
       "      <td>Affenpinschers</td>\n",
       "      <td>7-10 pounds</td>\n",
       "      <td>7-10 pounds</td>\n",
       "    </tr>\n",
       "    <tr>\n",
       "      <th>1</th>\n",
       "      <td>Afghan Hounds</td>\n",
       "      <td>50-60 pounds</td>\n",
       "      <td>50-60 pounds</td>\n",
       "    </tr>\n",
       "    <tr>\n",
       "      <th>2</th>\n",
       "      <td>Airedale Terriers</td>\n",
       "      <td>50-70 pounds</td>\n",
       "      <td>50-70 pounds</td>\n",
       "    </tr>\n",
       "    <tr>\n",
       "      <th>3</th>\n",
       "      <td>Akitas</td>\n",
       "      <td>100-130 pounds</td>\n",
       "      <td>70-100 pounds</td>\n",
       "    </tr>\n",
       "    <tr>\n",
       "      <th>4</th>\n",
       "      <td>Alaskan Malamutes</td>\n",
       "      <td>85 pounds</td>\n",
       "      <td>75 pounds</td>\n",
       "    </tr>\n",
       "    <tr>\n",
       "      <th>5</th>\n",
       "      <td>American English Coonhounds</td>\n",
       "      <td>45-65 pounds</td>\n",
       "      <td>45-65 pounds</td>\n",
       "    </tr>\n",
       "    <tr>\n",
       "      <th>6</th>\n",
       "      <td>American Eskimo Dogs</td>\n",
       "      <td>6-10 pounds (toy), 10-20 pounds (miniature), 2...</td>\n",
       "      <td>6-10 pounds (toy), 10-20 pounds (miniature), 2...</td>\n",
       "    </tr>\n",
       "    <tr>\n",
       "      <th>7</th>\n",
       "      <td>American Foxhounds</td>\n",
       "      <td>65-70 pounds</td>\n",
       "      <td>60-65 pounds</td>\n",
       "    </tr>\n",
       "    <tr>\n",
       "      <th>8</th>\n",
       "      <td>American Hairless Terriers</td>\n",
       "      <td>12-16 pounds</td>\n",
       "      <td>12-16 pounds</td>\n",
       "    </tr>\n",
       "    <tr>\n",
       "      <th>9</th>\n",
       "      <td>American Staffordshire Terriers</td>\n",
       "      <td>55-70 pounds</td>\n",
       "      <td>40-55 pounds</td>\n",
       "    </tr>\n",
       "    <tr>\n",
       "      <th>10</th>\n",
       "      <td>Anatolian Shepherd Dogs</td>\n",
       "      <td>110-150 pounds</td>\n",
       "      <td>80-120 pounds</td>\n",
       "    </tr>\n",
       "    <tr>\n",
       "      <th>11</th>\n",
       "      <td>Australian Cattle Dogs</td>\n",
       "      <td>35-50 pounds</td>\n",
       "      <td>35-50 pounds</td>\n",
       "    </tr>\n",
       "    <tr>\n",
       "      <th>12</th>\n",
       "      <td>Australian Shepherds</td>\n",
       "      <td>50-65 pounds</td>\n",
       "      <td>40-55 pounds</td>\n",
       "    </tr>\n",
       "    <tr>\n",
       "      <th>13</th>\n",
       "      <td>Australian Terriers</td>\n",
       "      <td>12-18 pounds</td>\n",
       "      <td>12-18 pounds</td>\n",
       "    </tr>\n",
       "    <tr>\n",
       "      <th>14</th>\n",
       "      <td>Basenjis</td>\n",
       "      <td>24 pounds</td>\n",
       "      <td>22 pounds</td>\n",
       "    </tr>\n",
       "    <tr>\n",
       "      <th>15</th>\n",
       "      <td>Basset Hounds</td>\n",
       "      <td>40-65 pounds</td>\n",
       "      <td>40-65 pounds</td>\n",
       "    </tr>\n",
       "    <tr>\n",
       "      <th>16</th>\n",
       "      <td>Beagles</td>\n",
       "      <td>under 20 pounds (13 inches &amp; under), 20-30 pou...</td>\n",
       "      <td>under 20 pounds (13 inches &amp; under), 20-30 pou...</td>\n",
       "    </tr>\n",
       "    <tr>\n",
       "      <th>17</th>\n",
       "      <td>Bearded Collies</td>\n",
       "      <td>45-55 pounds</td>\n",
       "      <td>45-55 pounds</td>\n",
       "    </tr>\n",
       "    <tr>\n",
       "      <th>18</th>\n",
       "      <td>Beaucerons</td>\n",
       "      <td>70-110 pounds</td>\n",
       "      <td>70-110 pounds</td>\n",
       "    </tr>\n",
       "    <tr>\n",
       "      <th>19</th>\n",
       "      <td>Bedlington Terriers</td>\n",
       "      <td>17-23 pounds</td>\n",
       "      <td>17-23 pounds</td>\n",
       "    </tr>\n",
       "    <tr>\n",
       "      <th>20</th>\n",
       "      <td>Belgian Malinois</td>\n",
       "      <td>60-80 pounds</td>\n",
       "      <td>40-60 pounds</td>\n",
       "    </tr>\n",
       "    <tr>\n",
       "      <th>21</th>\n",
       "      <td>Belgian Sheepdogs</td>\n",
       "      <td>55-75 pounds</td>\n",
       "      <td>45-60 pounds</td>\n",
       "    </tr>\n",
       "    <tr>\n",
       "      <th>22</th>\n",
       "      <td>Belgian Tervuren</td>\n",
       "      <td>55-75 pounds</td>\n",
       "      <td>45-60 pounds</td>\n",
       "    </tr>\n",
       "    <tr>\n",
       "      <th>23</th>\n",
       "      <td>Bergamasco</td>\n",
       "      <td>70-84 pounds</td>\n",
       "      <td>57-71 pounds</td>\n",
       "    </tr>\n",
       "    <tr>\n",
       "      <th>24</th>\n",
       "      <td>Berger Picards</td>\n",
       "      <td>50-70 pounds</td>\n",
       "      <td>50-70 pounds</td>\n",
       "    </tr>\n",
       "    <tr>\n",
       "      <th>25</th>\n",
       "      <td>Bernese Mountain Dogs</td>\n",
       "      <td>80-115 pounds</td>\n",
       "      <td>70-95 pounds</td>\n",
       "    </tr>\n",
       "    <tr>\n",
       "      <th>26</th>\n",
       "      <td>Bichons Frises</td>\n",
       "      <td>12-18 pounds</td>\n",
       "      <td>12-18 pounds</td>\n",
       "    </tr>\n",
       "    <tr>\n",
       "      <th>27</th>\n",
       "      <td>Black and Tan Coonhounds</td>\n",
       "      <td>65-110 pounds</td>\n",
       "      <td>65-110 pounds</td>\n",
       "    </tr>\n",
       "    <tr>\n",
       "      <th>28</th>\n",
       "      <td>Black Russian Terriers</td>\n",
       "      <td>80-130 pounds</td>\n",
       "      <td>80-130 pounds</td>\n",
       "    </tr>\n",
       "    <tr>\n",
       "      <th>29</th>\n",
       "      <td>Bloodhounds</td>\n",
       "      <td>90-110 pounds</td>\n",
       "      <td>80-100 pounds</td>\n",
       "    </tr>\n",
       "    <tr>\n",
       "      <th>...</th>\n",
       "      <td>...</td>\n",
       "      <td>...</td>\n",
       "      <td>...</td>\n",
       "    </tr>\n",
       "    <tr>\n",
       "      <th>159</th>\n",
       "      <td>Soft Coated Wheaten Terriers</td>\n",
       "      <td>35-40 pounds</td>\n",
       "      <td>30-35 pounds</td>\n",
       "    </tr>\n",
       "    <tr>\n",
       "      <th>160</th>\n",
       "      <td>Spaniels (American Water)</td>\n",
       "      <td>30-45 pounds</td>\n",
       "      <td>25-40 pounds</td>\n",
       "    </tr>\n",
       "    <tr>\n",
       "      <th>161</th>\n",
       "      <td>Spaniels (Boykin)</td>\n",
       "      <td>30-40 pounds</td>\n",
       "      <td>25-35 pounds</td>\n",
       "    </tr>\n",
       "    <tr>\n",
       "      <th>162</th>\n",
       "      <td>Spaniels (Clumber)</td>\n",
       "      <td>70-85 pounds</td>\n",
       "      <td>55-70 pounds</td>\n",
       "    </tr>\n",
       "    <tr>\n",
       "      <th>163</th>\n",
       "      <td>Spaniels (English Cocker)</td>\n",
       "      <td>28-34 pounds</td>\n",
       "      <td>26-32 pounds</td>\n",
       "    </tr>\n",
       "    <tr>\n",
       "      <th>164</th>\n",
       "      <td>Spaniels (English Springer)</td>\n",
       "      <td>50 pounds</td>\n",
       "      <td>40 pounds</td>\n",
       "    </tr>\n",
       "    <tr>\n",
       "      <th>165</th>\n",
       "      <td>Spaniels (Field)</td>\n",
       "      <td>35-50 pounds</td>\n",
       "      <td>35-50 pounds</td>\n",
       "    </tr>\n",
       "    <tr>\n",
       "      <th>166</th>\n",
       "      <td>Spaniels (Irish Water)</td>\n",
       "      <td>55-68 pounds</td>\n",
       "      <td>45-58 pounds</td>\n",
       "    </tr>\n",
       "    <tr>\n",
       "      <th>167</th>\n",
       "      <td>Spaniels (Sussex)</td>\n",
       "      <td>35-45 pounds</td>\n",
       "      <td>35-45 pounds</td>\n",
       "    </tr>\n",
       "    <tr>\n",
       "      <th>168</th>\n",
       "      <td>Spaniels (Welsh Springer)</td>\n",
       "      <td>40-55 pounds</td>\n",
       "      <td>35-50 pounds</td>\n",
       "    </tr>\n",
       "    <tr>\n",
       "      <th>169</th>\n",
       "      <td>Spanish Water Dogs</td>\n",
       "      <td>40-49 pounds</td>\n",
       "      <td>31-40 pounds</td>\n",
       "    </tr>\n",
       "    <tr>\n",
       "      <th>170</th>\n",
       "      <td>Spinoni Italiani</td>\n",
       "      <td>56 pounds</td>\n",
       "      <td>56 pounds</td>\n",
       "    </tr>\n",
       "    <tr>\n",
       "      <th>171</th>\n",
       "      <td>St. Bernards</td>\n",
       "      <td>140-180 pounds</td>\n",
       "      <td>120-140 pounds</td>\n",
       "    </tr>\n",
       "    <tr>\n",
       "      <th>172</th>\n",
       "      <td>Staffordshire Bull Terriers</td>\n",
       "      <td>28-38 pounds</td>\n",
       "      <td>24 to 34 pounds</td>\n",
       "    </tr>\n",
       "    <tr>\n",
       "      <th>173</th>\n",
       "      <td>Standard Schnauzers</td>\n",
       "      <td>35-50 pounds</td>\n",
       "      <td>30-45 pounds</td>\n",
       "    </tr>\n",
       "    <tr>\n",
       "      <th>174</th>\n",
       "      <td>Swedish Vallhunds</td>\n",
       "      <td>20-35 pounds</td>\n",
       "      <td>20-35 pounds</td>\n",
       "    </tr>\n",
       "    <tr>\n",
       "      <th>175</th>\n",
       "      <td>Tibetan Mastiffs</td>\n",
       "      <td>90-150 pounds</td>\n",
       "      <td>70-120 pounds</td>\n",
       "    </tr>\n",
       "    <tr>\n",
       "      <th>176</th>\n",
       "      <td>Tibetan Terriers</td>\n",
       "      <td>18-30 pounds</td>\n",
       "      <td>slightly smaller</td>\n",
       "    </tr>\n",
       "    <tr>\n",
       "      <th>177</th>\n",
       "      <td>Tibetan Spaniel</td>\n",
       "      <td>9-15 pounds</td>\n",
       "      <td>9-15 pounds</td>\n",
       "    </tr>\n",
       "    <tr>\n",
       "      <th>178</th>\n",
       "      <td>Toy Fox Terriers</td>\n",
       "      <td>3.5-7 pounds</td>\n",
       "      <td>3.5-7 pounds</td>\n",
       "    </tr>\n",
       "    <tr>\n",
       "      <th>179</th>\n",
       "      <td>Treeing Walker Coonhounds</td>\n",
       "      <td>50-70 pounds</td>\n",
       "      <td>50-70 pounds</td>\n",
       "    </tr>\n",
       "    <tr>\n",
       "      <th>180</th>\n",
       "      <td>Vizslas</td>\n",
       "      <td>55-60 pounds</td>\n",
       "      <td>44-55 pounds</td>\n",
       "    </tr>\n",
       "    <tr>\n",
       "      <th>181</th>\n",
       "      <td>Weimaraners</td>\n",
       "      <td>70-90 pounds</td>\n",
       "      <td>55-75 pounds</td>\n",
       "    </tr>\n",
       "    <tr>\n",
       "      <th>182</th>\n",
       "      <td>Welsh Terriers</td>\n",
       "      <td>20 pounds</td>\n",
       "      <td>proportionally smaller</td>\n",
       "    </tr>\n",
       "    <tr>\n",
       "      <th>183</th>\n",
       "      <td>West Highland White Terriers</td>\n",
       "      <td>15-20 pounds</td>\n",
       "      <td>15-20 pounds</td>\n",
       "    </tr>\n",
       "    <tr>\n",
       "      <th>184</th>\n",
       "      <td>Whippets</td>\n",
       "      <td>25-40 pounds</td>\n",
       "      <td>25-40 pounds</td>\n",
       "    </tr>\n",
       "    <tr>\n",
       "      <th>185</th>\n",
       "      <td>Wirehaired Pointing Griffons</td>\n",
       "      <td>50-70 pounds</td>\n",
       "      <td>35 and 50 pounds</td>\n",
       "    </tr>\n",
       "    <tr>\n",
       "      <th>186</th>\n",
       "      <td>Wirehaired Vizslas</td>\n",
       "      <td>55-65 pounds</td>\n",
       "      <td>45-55 pounds</td>\n",
       "    </tr>\n",
       "    <tr>\n",
       "      <th>187</th>\n",
       "      <td>Xoloitzcuintli</td>\n",
       "      <td>10-15 pounds (toy), 15-30 pounds (miniature), ...</td>\n",
       "      <td>10-15 pounds (toy), 15-30 pounds (miniature), ...</td>\n",
       "    </tr>\n",
       "    <tr>\n",
       "      <th>188</th>\n",
       "      <td>Yorkshire Terriers</td>\n",
       "      <td>7 pounds</td>\n",
       "      <td>7 pounds</td>\n",
       "    </tr>\n",
       "  </tbody>\n",
       "</table>\n",
       "<p>189 rows × 3 columns</p>\n",
       "</div>"
      ],
      "text/plain": [
       "                               Breed  \\\n",
       "0                     Affenpinschers   \n",
       "1                      Afghan Hounds   \n",
       "2                  Airedale Terriers   \n",
       "3                             Akitas   \n",
       "4                  Alaskan Malamutes   \n",
       "5        American English Coonhounds   \n",
       "6               American Eskimo Dogs   \n",
       "7                 American Foxhounds   \n",
       "8         American Hairless Terriers   \n",
       "9    American Staffordshire Terriers   \n",
       "10           Anatolian Shepherd Dogs   \n",
       "11            Australian Cattle Dogs   \n",
       "12              Australian Shepherds   \n",
       "13               Australian Terriers   \n",
       "14                          Basenjis   \n",
       "15                     Basset Hounds   \n",
       "16                           Beagles   \n",
       "17                   Bearded Collies   \n",
       "18                        Beaucerons   \n",
       "19               Bedlington Terriers   \n",
       "20                  Belgian Malinois   \n",
       "21                 Belgian Sheepdogs   \n",
       "22                  Belgian Tervuren   \n",
       "23                        Bergamasco   \n",
       "24                    Berger Picards   \n",
       "25             Bernese Mountain Dogs   \n",
       "26                    Bichons Frises   \n",
       "27          Black and Tan Coonhounds   \n",
       "28            Black Russian Terriers   \n",
       "29                       Bloodhounds   \n",
       "..                               ...   \n",
       "159     Soft Coated Wheaten Terriers   \n",
       "160        Spaniels (American Water)   \n",
       "161                Spaniels (Boykin)   \n",
       "162               Spaniels (Clumber)   \n",
       "163        Spaniels (English Cocker)   \n",
       "164      Spaniels (English Springer)   \n",
       "165                 Spaniels (Field)   \n",
       "166           Spaniels (Irish Water)   \n",
       "167                Spaniels (Sussex)   \n",
       "168        Spaniels (Welsh Springer)   \n",
       "169               Spanish Water Dogs   \n",
       "170                 Spinoni Italiani   \n",
       "171                     St. Bernards   \n",
       "172      Staffordshire Bull Terriers   \n",
       "173              Standard Schnauzers   \n",
       "174                Swedish Vallhunds   \n",
       "175                 Tibetan Mastiffs   \n",
       "176                 Tibetan Terriers   \n",
       "177                  Tibetan Spaniel   \n",
       "178                 Toy Fox Terriers   \n",
       "179        Treeing Walker Coonhounds   \n",
       "180                          Vizslas   \n",
       "181                      Weimaraners   \n",
       "182                   Welsh Terriers   \n",
       "183     West Highland White Terriers   \n",
       "184                         Whippets   \n",
       "185     Wirehaired Pointing Griffons   \n",
       "186               Wirehaired Vizslas   \n",
       "187                   Xoloitzcuintli   \n",
       "188               Yorkshire Terriers   \n",
       "\n",
       "                                           Weight Male  \\\n",
       "0                                          7-10 pounds   \n",
       "1                                         50-60 pounds   \n",
       "2                                         50-70 pounds   \n",
       "3                                       100-130 pounds   \n",
       "4                                            85 pounds   \n",
       "5                                         45-65 pounds   \n",
       "6    6-10 pounds (toy), 10-20 pounds (miniature), 2...   \n",
       "7                                         65-70 pounds   \n",
       "8                                         12-16 pounds   \n",
       "9                                         55-70 pounds   \n",
       "10                                      110-150 pounds   \n",
       "11                                        35-50 pounds   \n",
       "12                                        50-65 pounds   \n",
       "13                                        12-18 pounds   \n",
       "14                                           24 pounds   \n",
       "15                                        40-65 pounds   \n",
       "16   under 20 pounds (13 inches & under), 20-30 pou...   \n",
       "17                                        45-55 pounds   \n",
       "18                                       70-110 pounds   \n",
       "19                                        17-23 pounds   \n",
       "20                                        60-80 pounds   \n",
       "21                                        55-75 pounds   \n",
       "22                                        55-75 pounds   \n",
       "23                                        70-84 pounds   \n",
       "24                                        50-70 pounds   \n",
       "25                                       80-115 pounds   \n",
       "26                                        12-18 pounds   \n",
       "27                                       65-110 pounds   \n",
       "28                                       80-130 pounds   \n",
       "29                                       90-110 pounds   \n",
       "..                                                 ...   \n",
       "159                                       35-40 pounds   \n",
       "160                                       30-45 pounds   \n",
       "161                                       30-40 pounds   \n",
       "162                                       70-85 pounds   \n",
       "163                                       28-34 pounds   \n",
       "164                                          50 pounds   \n",
       "165                                       35-50 pounds   \n",
       "166                                       55-68 pounds   \n",
       "167                                       35-45 pounds   \n",
       "168                                       40-55 pounds   \n",
       "169                                       40-49 pounds   \n",
       "170                                          56 pounds   \n",
       "171                                     140-180 pounds   \n",
       "172                                       28-38 pounds   \n",
       "173                                       35-50 pounds   \n",
       "174                                       20-35 pounds   \n",
       "175                                      90-150 pounds   \n",
       "176                                       18-30 pounds   \n",
       "177                                        9-15 pounds   \n",
       "178                                       3.5-7 pounds   \n",
       "179                                       50-70 pounds   \n",
       "180                                       55-60 pounds   \n",
       "181                                       70-90 pounds   \n",
       "182                                          20 pounds   \n",
       "183                                       15-20 pounds   \n",
       "184                                       25-40 pounds   \n",
       "185                                       50-70 pounds   \n",
       "186                                       55-65 pounds   \n",
       "187  10-15 pounds (toy), 15-30 pounds (miniature), ...   \n",
       "188                                           7 pounds   \n",
       "\n",
       "                                         Weight Female  \n",
       "0                                          7-10 pounds  \n",
       "1                                         50-60 pounds  \n",
       "2                                         50-70 pounds  \n",
       "3                                        70-100 pounds  \n",
       "4                                            75 pounds  \n",
       "5                                         45-65 pounds  \n",
       "6    6-10 pounds (toy), 10-20 pounds (miniature), 2...  \n",
       "7                                         60-65 pounds  \n",
       "8                                         12-16 pounds  \n",
       "9                                         40-55 pounds  \n",
       "10                                       80-120 pounds  \n",
       "11                                        35-50 pounds  \n",
       "12                                        40-55 pounds  \n",
       "13                                        12-18 pounds  \n",
       "14                                           22 pounds  \n",
       "15                                        40-65 pounds  \n",
       "16   under 20 pounds (13 inches & under), 20-30 pou...  \n",
       "17                                        45-55 pounds  \n",
       "18                                       70-110 pounds  \n",
       "19                                        17-23 pounds  \n",
       "20                                        40-60 pounds  \n",
       "21                                        45-60 pounds  \n",
       "22                                        45-60 pounds  \n",
       "23                                        57-71 pounds  \n",
       "24                                        50-70 pounds  \n",
       "25                                        70-95 pounds  \n",
       "26                                        12-18 pounds  \n",
       "27                                       65-110 pounds  \n",
       "28                                       80-130 pounds  \n",
       "29                                       80-100 pounds  \n",
       "..                                                 ...  \n",
       "159                                       30-35 pounds  \n",
       "160                                       25-40 pounds  \n",
       "161                                       25-35 pounds  \n",
       "162                                       55-70 pounds  \n",
       "163                                       26-32 pounds  \n",
       "164                                          40 pounds  \n",
       "165                                       35-50 pounds  \n",
       "166                                       45-58 pounds  \n",
       "167                                       35-45 pounds  \n",
       "168                                       35-50 pounds  \n",
       "169                                       31-40 pounds  \n",
       "170                                          56 pounds  \n",
       "171                                     120-140 pounds  \n",
       "172                                    24 to 34 pounds  \n",
       "173                                       30-45 pounds  \n",
       "174                                       20-35 pounds  \n",
       "175                                      70-120 pounds  \n",
       "176                                   slightly smaller  \n",
       "177                                        9-15 pounds  \n",
       "178                                       3.5-7 pounds  \n",
       "179                                       50-70 pounds  \n",
       "180                                       44-55 pounds  \n",
       "181                                       55-75 pounds  \n",
       "182                             proportionally smaller  \n",
       "183                                       15-20 pounds  \n",
       "184                                       25-40 pounds  \n",
       "185                                   35 and 50 pounds  \n",
       "186                                       45-55 pounds  \n",
       "187  10-15 pounds (toy), 15-30 pounds (miniature), ...  \n",
       "188                                           7 pounds  \n",
       "\n",
       "[189 rows x 3 columns]"
      ]
     },
     "execution_count": 263,
     "metadata": {},
     "output_type": "execute_result"
    }
   ],
   "source": [
    "table = pd.DataFrame(data=rows[1:], columns=rows[0])\n",
    "table"
   ]
  },
  {
   "cell_type": "markdown",
   "metadata": {},
   "source": [
    "## It doesn't have to be so hard\n",
    "\n",
    "Some pages *want* to be scraped. We call them application programming interfaces, or APIs.\n",
    "\n",
    "* https://www.mediawiki.org/wiki/API:Main_page\n",
    "* https://en.wikipedia.org/wiki/Special:ApiSandbox#action=query&prop=extracts&format=json&exintro=&titles=Stack%20Overflow\n",
    "\n",
    "For example, there's this:\n",
    "\n",
    "`https://en.wikipedia.org/w/api.php?action=query&titles=Main_Page&prop=pageviews&format=json`\n",
    "\n",
    "\n"
   ]
  },
  {
   "cell_type": "code",
   "execution_count": 264,
   "metadata": {},
   "outputs": [],
   "source": [
    "wikiurl = \"https://en.wikipedia.org/w/api.php?action=query&titles=Main_Page&prop=pageviews&format=json\""
   ]
  },
  {
   "cell_type": "markdown",
   "metadata": {},
   "source": [
    "Which is short for:\n",
    "* Protocol: `https`\n",
    "* Host: `en.wikipedia.org`\n",
    "* Port: `80` (default)\n",
    "* Method: `GET` (default)\n",
    "* Path: `/w/api.php`\n",
    "* Query String: `action=query&titles=Main_Page&prop=pageviews&format=json`\n",
    "* Body: default none\n",
    "* Headers: whatever your user agent picks"
   ]
  },
  {
   "cell_type": "code",
   "execution_count": 265,
   "metadata": {},
   "outputs": [],
   "source": [
    "host = \"en.wikipedia.org\"\n",
    "path = \"/w/api.php?action=query&titles=Main_Page&prop=pageviews&format=json\"\n",
    "headers = {'user_agent': 'DataWrangling/1.1 (brandon.martinanderson@galvanize.com; dsi example exercise)'}\n",
    "method = \"GET\""
   ]
  },
  {
   "cell_type": "code",
   "execution_count": 266,
   "metadata": {},
   "outputs": [],
   "source": [
    "# some useful libraries\n",
    "from http.client import HTTPSConnection\n",
    "import json"
   ]
  },
  {
   "cell_type": "markdown",
   "metadata": {},
   "source": [
    "Create a connection."
   ]
  },
  {
   "cell_type": "code",
   "execution_count": 267,
   "metadata": {},
   "outputs": [],
   "source": [
    "conn = HTTPSConnection(host)"
   ]
  },
  {
   "cell_type": "markdown",
   "metadata": {},
   "source": [
    "Send a request to the HTTP server. This sends the first line, the headers, and any body."
   ]
  },
  {
   "cell_type": "code",
   "execution_count": 268,
   "metadata": {},
   "outputs": [],
   "source": [
    "conn.request(method=method, url=path, headers=headers)"
   ]
  },
  {
   "cell_type": "markdown",
   "metadata": {},
   "source": [
    "Wait for a response. This must be executed **immediately after** sending the request, before the server times out and closes the connection."
   ]
  },
  {
   "cell_type": "code",
   "execution_count": 269,
   "metadata": {},
   "outputs": [],
   "source": [
    "resp = conn.getresponse()"
   ]
  },
  {
   "cell_type": "markdown",
   "metadata": {},
   "source": [
    "At this point you've read from the connection up until the end of the headers, but the connection is **still open**. We have to do a thing real quick:\n",
    "\n"
   ]
  },
  {
   "cell_type": "code",
   "execution_count": 270,
   "metadata": {},
   "outputs": [],
   "source": [
    "respbody = resp.read()"
   ]
  },
  {
   "cell_type": "markdown",
   "metadata": {},
   "source": [
    "While the connection was open we had to actually read the message body until the end, when (by default) the server closes thre connection.\n",
    "\n",
    "At this point we're all done. We're no longer communicating with the server and the clock is no longer ticking. We can inspect the results of the communication at our leisure."
   ]
  },
  {
   "cell_type": "markdown",
   "metadata": {},
   "source": [
    "Here's the status. If all went well, it should be `200`."
   ]
  },
  {
   "cell_type": "code",
   "execution_count": 271,
   "metadata": {},
   "outputs": [
    {
     "data": {
      "text/plain": [
       "200"
      ]
     },
     "execution_count": 271,
     "metadata": {},
     "output_type": "execute_result"
    }
   ],
   "source": [
    "resp.status"
   ]
  },
  {
   "cell_type": "markdown",
   "metadata": {},
   "source": [
    "And the response headers, helpfully parsed from their raw form into a string:string dictionary."
   ]
  },
  {
   "cell_type": "code",
   "execution_count": 272,
   "metadata": {},
   "outputs": [
    {
     "data": {
      "text/plain": [
       "{'Date': 'Mon, 28 Jan 2019 22:48:26 GMT',\n",
       " 'Content-Type': 'application/json; charset=utf-8',\n",
       " 'Content-Length': '1485',\n",
       " 'Connection': 'keep-alive',\n",
       " 'Server': 'mw1224.eqiad.wmnet',\n",
       " 'X-Powered-By': 'HHVM/3.18.6-dev',\n",
       " 'P3P': 'CP=\"This is not a P3P policy! See https://en.wikipedia.org/wiki/Special:CentralAutoLogin/P3P for more info.\"',\n",
       " 'Cache-control': 'private, must-revalidate, max-age=0',\n",
       " 'Content-Disposition': 'inline; filename=api-result.json',\n",
       " 'X-Content-Type-Options': 'nosniff',\n",
       " 'X-Frame-Options': 'SAMEORIGIN',\n",
       " 'Backend-Timing': 'D=35818 t=1548715706708207',\n",
       " 'Vary': 'Accept-Encoding,Treat-as-Untrusted,X-Forwarded-Proto,Cookie,Authorization,X-Seven',\n",
       " 'X-Varnish': '567801778, 670691897, 380923116, 543276785',\n",
       " 'Via': '1.1 varnish (Varnish/5.1), 1.1 varnish (Varnish/5.1), 1.1 varnish (Varnish/5.1), 1.1 varnish (Varnish/5.1)',\n",
       " 'Accept-Ranges': 'bytes',\n",
       " 'Age': '0',\n",
       " 'X-Cache': 'cp1081 pass, cp2001 pass, cp4032 pass, cp4030 pass',\n",
       " 'X-Cache-Status': 'pass',\n",
       " 'Server-Timing': 'cache;desc=\"pass\"',\n",
       " 'Strict-Transport-Security': 'max-age=106384710; includeSubDomains; preload',\n",
       " 'Set-Cookie': 'WMF-Last-Access=28-Jan-2019;Path=/;HttpOnly;secure;Expires=Fri, 01 Mar 2019 12:00:00 GMT',\n",
       " 'X-Analytics': 'ns=-1;special=Badtitle;https=1;nocookies=1',\n",
       " 'X-Client-IP': '64.124.137.130'}"
      ]
     },
     "execution_count": 272,
     "metadata": {},
     "output_type": "execute_result"
    }
   ],
   "source": [
    "dict( resp.headers )"
   ]
  },
  {
   "cell_type": "markdown",
   "metadata": {},
   "source": [
    "The response body, in its raw bytestring form."
   ]
  },
  {
   "cell_type": "code",
   "execution_count": 273,
   "metadata": {},
   "outputs": [
    {
     "data": {
      "text/plain": [
       "'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'"
      ]
     },
     "execution_count": 273,
     "metadata": {},
     "output_type": "execute_result"
    }
   ],
   "source": [
    "respbody.hex()"
   ]
  },
  {
   "cell_type": "markdown",
   "metadata": {},
   "source": [
    "We could bow to convention and print its pseudo-decoded ASCII representation:"
   ]
  },
  {
   "cell_type": "code",
   "execution_count": 274,
   "metadata": {},
   "outputs": [
    {
     "data": {
      "text/plain": [
       "b'{\"batchcomplete\":\"\",\"query\":{\"normalized\":[{\"from\":\"Main_Page\",\"to\":\"Main Page\"}],\"pages\":{\"15580374\":{\"pageid\":15580374,\"ns\":0,\"title\":\"Main Page\",\"pageviews\":{\"2018-11-28\":17079874,\"2018-11-29\":15419487,\"2018-11-30\":13473789,\"2018-12-01\":16269313,\"2018-12-02\":16374525,\"2018-12-03\":18878261,\"2018-12-04\":16955103,\"2018-12-05\":17434296,\"2018-12-06\":17264732,\"2018-12-07\":15655476,\"2018-12-08\":16572228,\"2018-12-09\":16187649,\"2018-12-10\":18946847,\"2018-12-11\":17707080,\"2018-12-12\":16884572,\"2018-12-13\":15446322,\"2018-12-14\":14640903,\"2018-12-15\":16032729,\"2018-12-16\":15938708,\"2018-12-17\":18447120,\"2018-12-18\":16859230,\"2018-12-19\":16529561,\"2018-12-20\":15559163,\"2018-12-21\":14068023,\"2018-12-22\":16388617,\"2018-12-23\":16034921,\"2018-12-24\":18000379,\"2018-12-25\":15757346,\"2018-12-26\":16795736,\"2018-12-27\":16582890,\"2018-12-28\":14906247,\"2018-12-29\":16670166,\"2018-12-30\":16667106,\"2018-12-31\":18298079,\"2019-01-01\":16865930,\"2019-01-02\":16923511,\"2019-01-03\":16666430,\"2019-01-04\":15274054,\"2019-01-05\":16712678,\"2019-01-06\":16488079,\"2019-01-07\":19745929,\"2019-01-08\":17345085,\"2019-01-09\":16378043,\"2019-01-10\":15378628,\"2019-01-11\":14416268,\"2019-01-12\":16435873,\"2019-01-13\":16153417,\"2019-01-14\":19065877,\"2019-01-15\":17537361,\"2019-01-16\":16475819,\"2019-01-17\":16612705,\"2019-01-18\":15610428,\"2019-01-19\":17829732,\"2019-01-20\":16191156,\"2019-01-21\":18446678,\"2019-01-22\":17711520,\"2019-01-23\":17152354,\"2019-01-24\":16799498,\"2019-01-25\":14358261,\"2019-01-26\":16505812}}}}}'"
      ]
     },
     "execution_count": 274,
     "metadata": {},
     "output_type": "execute_result"
    }
   ],
   "source": [
    "respbody"
   ]
  },
  {
   "cell_type": "markdown",
   "metadata": {},
   "source": [
    "And then perform the necessary magic to imbue it with meaning into human-readable string form, via `decode`.\n",
    "\n",
    "**TIRESOME NOTE**: It is a **coincidence** in this case that the ASCII form looks a lot like the human-readable string. In many cases, the pre-decoded string is **not** readable, or is **sort of** readable but weird and confusing. You'll thank me on NLP week."
   ]
  },
  {
   "cell_type": "code",
   "execution_count": 275,
   "metadata": {},
   "outputs": [],
   "source": [
    "jsonstring = respbody.decode()"
   ]
  },
  {
   "cell_type": "code",
   "execution_count": 276,
   "metadata": {},
   "outputs": [
    {
     "data": {
      "text/plain": [
       "'{\"batchcomplete\":\"\",\"query\":{\"normalized\":[{\"from\":\"Main_Page\",\"to\":\"Main Page\"}],\"pages\":{\"15580374\":{\"pageid\":15580374,\"ns\":0,\"title\":\"Main Page\",\"pageviews\":{\"2018-11-28\":17079874,\"2018-11-29\":15419487,\"2018-11-30\":13473789,\"2018-12-01\":16269313,\"2018-12-02\":16374525,\"2018-12-03\":18878261,\"2018-12-04\":16955103,\"2018-12-05\":17434296,\"2018-12-06\":17264732,\"2018-12-07\":15655476,\"2018-12-08\":16572228,\"2018-12-09\":16187649,\"2018-12-10\":18946847,\"2018-12-11\":17707080,\"2018-12-12\":16884572,\"2018-12-13\":15446322,\"2018-12-14\":14640903,\"2018-12-15\":16032729,\"2018-12-16\":15938708,\"2018-12-17\":18447120,\"2018-12-18\":16859230,\"2018-12-19\":16529561,\"2018-12-20\":15559163,\"2018-12-21\":14068023,\"2018-12-22\":16388617,\"2018-12-23\":16034921,\"2018-12-24\":18000379,\"2018-12-25\":15757346,\"2018-12-26\":16795736,\"2018-12-27\":16582890,\"2018-12-28\":14906247,\"2018-12-29\":16670166,\"2018-12-30\":16667106,\"2018-12-31\":18298079,\"2019-01-01\":16865930,\"2019-01-02\":16923511,\"2019-01-03\":16666430,\"2019-01-04\":15274054,\"2019-01-05\":16712678,\"2019-01-06\":16488079,\"2019-01-07\":19745929,\"2019-01-08\":17345085,\"2019-01-09\":16378043,\"2019-01-10\":15378628,\"2019-01-11\":14416268,\"2019-01-12\":16435873,\"2019-01-13\":16153417,\"2019-01-14\":19065877,\"2019-01-15\":17537361,\"2019-01-16\":16475819,\"2019-01-17\":16612705,\"2019-01-18\":15610428,\"2019-01-19\":17829732,\"2019-01-20\":16191156,\"2019-01-21\":18446678,\"2019-01-22\":17711520,\"2019-01-23\":17152354,\"2019-01-24\":16799498,\"2019-01-25\":14358261,\"2019-01-26\":16505812}}}}}'"
      ]
     },
     "execution_count": 276,
     "metadata": {},
     "output_type": "execute_result"
    }
   ],
   "source": [
    "jsonstring"
   ]
  },
  {
   "cell_type": "markdown",
   "metadata": {},
   "source": [
    "Parse the JSON string into a Python-native dictionary."
   ]
  },
  {
   "cell_type": "code",
   "execution_count": 279,
   "metadata": {},
   "outputs": [],
   "source": [
    "data = json.loads( jsonstring )"
   ]
  },
  {
   "cell_type": "code",
   "execution_count": 280,
   "metadata": {},
   "outputs": [
    {
     "data": {
      "text/plain": [
       "{'batchcomplete': '',\n",
       " 'query': {'normalized': [{'from': 'Main_Page', 'to': 'Main Page'}],\n",
       "  'pages': {'15580374': {'pageid': 15580374,\n",
       "    'ns': 0,\n",
       "    'title': 'Main Page',\n",
       "    'pageviews': {'2018-11-28': 17079874,\n",
       "     '2018-11-29': 15419487,\n",
       "     '2018-11-30': 13473789,\n",
       "     '2018-12-01': 16269313,\n",
       "     '2018-12-02': 16374525,\n",
       "     '2018-12-03': 18878261,\n",
       "     '2018-12-04': 16955103,\n",
       "     '2018-12-05': 17434296,\n",
       "     '2018-12-06': 17264732,\n",
       "     '2018-12-07': 15655476,\n",
       "     '2018-12-08': 16572228,\n",
       "     '2018-12-09': 16187649,\n",
       "     '2018-12-10': 18946847,\n",
       "     '2018-12-11': 17707080,\n",
       "     '2018-12-12': 16884572,\n",
       "     '2018-12-13': 15446322,\n",
       "     '2018-12-14': 14640903,\n",
       "     '2018-12-15': 16032729,\n",
       "     '2018-12-16': 15938708,\n",
       "     '2018-12-17': 18447120,\n",
       "     '2018-12-18': 16859230,\n",
       "     '2018-12-19': 16529561,\n",
       "     '2018-12-20': 15559163,\n",
       "     '2018-12-21': 14068023,\n",
       "     '2018-12-22': 16388617,\n",
       "     '2018-12-23': 16034921,\n",
       "     '2018-12-24': 18000379,\n",
       "     '2018-12-25': 15757346,\n",
       "     '2018-12-26': 16795736,\n",
       "     '2018-12-27': 16582890,\n",
       "     '2018-12-28': 14906247,\n",
       "     '2018-12-29': 16670166,\n",
       "     '2018-12-30': 16667106,\n",
       "     '2018-12-31': 18298079,\n",
       "     '2019-01-01': 16865930,\n",
       "     '2019-01-02': 16923511,\n",
       "     '2019-01-03': 16666430,\n",
       "     '2019-01-04': 15274054,\n",
       "     '2019-01-05': 16712678,\n",
       "     '2019-01-06': 16488079,\n",
       "     '2019-01-07': 19745929,\n",
       "     '2019-01-08': 17345085,\n",
       "     '2019-01-09': 16378043,\n",
       "     '2019-01-10': 15378628,\n",
       "     '2019-01-11': 14416268,\n",
       "     '2019-01-12': 16435873,\n",
       "     '2019-01-13': 16153417,\n",
       "     '2019-01-14': 19065877,\n",
       "     '2019-01-15': 17537361,\n",
       "     '2019-01-16': 16475819,\n",
       "     '2019-01-17': 16612705,\n",
       "     '2019-01-18': 15610428,\n",
       "     '2019-01-19': 17829732,\n",
       "     '2019-01-20': 16191156,\n",
       "     '2019-01-21': 18446678,\n",
       "     '2019-01-22': 17711520,\n",
       "     '2019-01-23': 17152354,\n",
       "     '2019-01-24': 16799498,\n",
       "     '2019-01-25': 14358261,\n",
       "     '2019-01-26': 16505812}}}}}"
      ]
     },
     "execution_count": 280,
     "metadata": {},
     "output_type": "execute_result"
    }
   ],
   "source": [
    "data"
   ]
  },
  {
   "cell_type": "markdown",
   "metadata": {},
   "source": [
    "JSON stands for JavaScript Object Notation; it was originally meant for shuffling data between Javascript programs. The importance of dictionaries in Javascript is shared by Python (and Ruby and Swift & most modern imperative languages). This makes JSON a natural fit, because it's terse and human-readable and dovetails well with many programming languages.\n",
    "\n",
    "Parsed JSON objects are Python dictionaries, that can contain:\n",
    "* Dictionaries\n",
    "* Lists\n",
    "* Strings\n",
    "* Integers\n",
    "* Floats\n",
    "\n",
    "Let's take a looksee."
   ]
  },
  {
   "cell_type": "code",
   "execution_count": 282,
   "metadata": {},
   "outputs": [
    {
     "data": {
      "text/plain": [
       "{'batchcomplete': '',\n",
       " 'query': {'normalized': [{'from': 'Main_Page', 'to': 'Main Page'}],\n",
       "  'pages': {'15580374': {'pageid': 15580374,\n",
       "    'ns': 0,\n",
       "    'title': 'Main Page',\n",
       "    'pageviews': {'2018-11-28': 17079874,\n",
       "     '2018-11-29': 15419487,\n",
       "     '2018-11-30': 13473789,\n",
       "     '2018-12-01': 16269313,\n",
       "     '2018-12-02': 16374525,\n",
       "     '2018-12-03': 18878261,\n",
       "     '2018-12-04': 16955103,\n",
       "     '2018-12-05': 17434296,\n",
       "     '2018-12-06': 17264732,\n",
       "     '2018-12-07': 15655476,\n",
       "     '2018-12-08': 16572228,\n",
       "     '2018-12-09': 16187649,\n",
       "     '2018-12-10': 18946847,\n",
       "     '2018-12-11': 17707080,\n",
       "     '2018-12-12': 16884572,\n",
       "     '2018-12-13': 15446322,\n",
       "     '2018-12-14': 14640903,\n",
       "     '2018-12-15': 16032729,\n",
       "     '2018-12-16': 15938708,\n",
       "     '2018-12-17': 18447120,\n",
       "     '2018-12-18': 16859230,\n",
       "     '2018-12-19': 16529561,\n",
       "     '2018-12-20': 15559163,\n",
       "     '2018-12-21': 14068023,\n",
       "     '2018-12-22': 16388617,\n",
       "     '2018-12-23': 16034921,\n",
       "     '2018-12-24': 18000379,\n",
       "     '2018-12-25': 15757346,\n",
       "     '2018-12-26': 16795736,\n",
       "     '2018-12-27': 16582890,\n",
       "     '2018-12-28': 14906247,\n",
       "     '2018-12-29': 16670166,\n",
       "     '2018-12-30': 16667106,\n",
       "     '2018-12-31': 18298079,\n",
       "     '2019-01-01': 16865930,\n",
       "     '2019-01-02': 16923511,\n",
       "     '2019-01-03': 16666430,\n",
       "     '2019-01-04': 15274054,\n",
       "     '2019-01-05': 16712678,\n",
       "     '2019-01-06': 16488079,\n",
       "     '2019-01-07': 19745929,\n",
       "     '2019-01-08': 17345085,\n",
       "     '2019-01-09': 16378043,\n",
       "     '2019-01-10': 15378628,\n",
       "     '2019-01-11': 14416268,\n",
       "     '2019-01-12': 16435873,\n",
       "     '2019-01-13': 16153417,\n",
       "     '2019-01-14': 19065877,\n",
       "     '2019-01-15': 17537361,\n",
       "     '2019-01-16': 16475819,\n",
       "     '2019-01-17': 16612705,\n",
       "     '2019-01-18': 15610428,\n",
       "     '2019-01-19': 17829732,\n",
       "     '2019-01-20': 16191156,\n",
       "     '2019-01-21': 18446678,\n",
       "     '2019-01-22': 17711520,\n",
       "     '2019-01-23': 17152354,\n",
       "     '2019-01-24': 16799498,\n",
       "     '2019-01-25': 14358261,\n",
       "     '2019-01-26': 16505812}}}}}"
      ]
     },
     "execution_count": 282,
     "metadata": {},
     "output_type": "execute_result"
    }
   ],
   "source": [
    "data"
   ]
  },
  {
   "cell_type": "markdown",
   "metadata": {},
   "source": [
    "At this point, there's no need for special libraries. We can navigate this Python object with Python syntax."
   ]
  },
  {
   "cell_type": "code",
   "execution_count": 283,
   "metadata": {},
   "outputs": [
    {
     "data": {
      "text/plain": [
       "{'normalized': [{'from': 'Main_Page', 'to': 'Main Page'}],\n",
       " 'pages': {'15580374': {'pageid': 15580374,\n",
       "   'ns': 0,\n",
       "   'title': 'Main Page',\n",
       "   'pageviews': {'2018-11-28': 17079874,\n",
       "    '2018-11-29': 15419487,\n",
       "    '2018-11-30': 13473789,\n",
       "    '2018-12-01': 16269313,\n",
       "    '2018-12-02': 16374525,\n",
       "    '2018-12-03': 18878261,\n",
       "    '2018-12-04': 16955103,\n",
       "    '2018-12-05': 17434296,\n",
       "    '2018-12-06': 17264732,\n",
       "    '2018-12-07': 15655476,\n",
       "    '2018-12-08': 16572228,\n",
       "    '2018-12-09': 16187649,\n",
       "    '2018-12-10': 18946847,\n",
       "    '2018-12-11': 17707080,\n",
       "    '2018-12-12': 16884572,\n",
       "    '2018-12-13': 15446322,\n",
       "    '2018-12-14': 14640903,\n",
       "    '2018-12-15': 16032729,\n",
       "    '2018-12-16': 15938708,\n",
       "    '2018-12-17': 18447120,\n",
       "    '2018-12-18': 16859230,\n",
       "    '2018-12-19': 16529561,\n",
       "    '2018-12-20': 15559163,\n",
       "    '2018-12-21': 14068023,\n",
       "    '2018-12-22': 16388617,\n",
       "    '2018-12-23': 16034921,\n",
       "    '2018-12-24': 18000379,\n",
       "    '2018-12-25': 15757346,\n",
       "    '2018-12-26': 16795736,\n",
       "    '2018-12-27': 16582890,\n",
       "    '2018-12-28': 14906247,\n",
       "    '2018-12-29': 16670166,\n",
       "    '2018-12-30': 16667106,\n",
       "    '2018-12-31': 18298079,\n",
       "    '2019-01-01': 16865930,\n",
       "    '2019-01-02': 16923511,\n",
       "    '2019-01-03': 16666430,\n",
       "    '2019-01-04': 15274054,\n",
       "    '2019-01-05': 16712678,\n",
       "    '2019-01-06': 16488079,\n",
       "    '2019-01-07': 19745929,\n",
       "    '2019-01-08': 17345085,\n",
       "    '2019-01-09': 16378043,\n",
       "    '2019-01-10': 15378628,\n",
       "    '2019-01-11': 14416268,\n",
       "    '2019-01-12': 16435873,\n",
       "    '2019-01-13': 16153417,\n",
       "    '2019-01-14': 19065877,\n",
       "    '2019-01-15': 17537361,\n",
       "    '2019-01-16': 16475819,\n",
       "    '2019-01-17': 16612705,\n",
       "    '2019-01-18': 15610428,\n",
       "    '2019-01-19': 17829732,\n",
       "    '2019-01-20': 16191156,\n",
       "    '2019-01-21': 18446678,\n",
       "    '2019-01-22': 17711520,\n",
       "    '2019-01-23': 17152354,\n",
       "    '2019-01-24': 16799498,\n",
       "    '2019-01-25': 14358261,\n",
       "    '2019-01-26': 16505812}}}}"
      ]
     },
     "execution_count": 283,
     "metadata": {},
     "output_type": "execute_result"
    }
   ],
   "source": [
    "data['query']"
   ]
  },
  {
   "cell_type": "code",
   "execution_count": 284,
   "metadata": {},
   "outputs": [
    {
     "data": {
      "text/plain": [
       "{'2018-11-28': 17079874,\n",
       " '2018-11-29': 15419487,\n",
       " '2018-11-30': 13473789,\n",
       " '2018-12-01': 16269313,\n",
       " '2018-12-02': 16374525,\n",
       " '2018-12-03': 18878261,\n",
       " '2018-12-04': 16955103,\n",
       " '2018-12-05': 17434296,\n",
       " '2018-12-06': 17264732,\n",
       " '2018-12-07': 15655476,\n",
       " '2018-12-08': 16572228,\n",
       " '2018-12-09': 16187649,\n",
       " '2018-12-10': 18946847,\n",
       " '2018-12-11': 17707080,\n",
       " '2018-12-12': 16884572,\n",
       " '2018-12-13': 15446322,\n",
       " '2018-12-14': 14640903,\n",
       " '2018-12-15': 16032729,\n",
       " '2018-12-16': 15938708,\n",
       " '2018-12-17': 18447120,\n",
       " '2018-12-18': 16859230,\n",
       " '2018-12-19': 16529561,\n",
       " '2018-12-20': 15559163,\n",
       " '2018-12-21': 14068023,\n",
       " '2018-12-22': 16388617,\n",
       " '2018-12-23': 16034921,\n",
       " '2018-12-24': 18000379,\n",
       " '2018-12-25': 15757346,\n",
       " '2018-12-26': 16795736,\n",
       " '2018-12-27': 16582890,\n",
       " '2018-12-28': 14906247,\n",
       " '2018-12-29': 16670166,\n",
       " '2018-12-30': 16667106,\n",
       " '2018-12-31': 18298079,\n",
       " '2019-01-01': 16865930,\n",
       " '2019-01-02': 16923511,\n",
       " '2019-01-03': 16666430,\n",
       " '2019-01-04': 15274054,\n",
       " '2019-01-05': 16712678,\n",
       " '2019-01-06': 16488079,\n",
       " '2019-01-07': 19745929,\n",
       " '2019-01-08': 17345085,\n",
       " '2019-01-09': 16378043,\n",
       " '2019-01-10': 15378628,\n",
       " '2019-01-11': 14416268,\n",
       " '2019-01-12': 16435873,\n",
       " '2019-01-13': 16153417,\n",
       " '2019-01-14': 19065877,\n",
       " '2019-01-15': 17537361,\n",
       " '2019-01-16': 16475819,\n",
       " '2019-01-17': 16612705,\n",
       " '2019-01-18': 15610428,\n",
       " '2019-01-19': 17829732,\n",
       " '2019-01-20': 16191156,\n",
       " '2019-01-21': 18446678,\n",
       " '2019-01-22': 17711520,\n",
       " '2019-01-23': 17152354,\n",
       " '2019-01-24': 16799498,\n",
       " '2019-01-25': 14358261,\n",
       " '2019-01-26': 16505812}"
      ]
     },
     "execution_count": 284,
     "metadata": {},
     "output_type": "execute_result"
    }
   ],
   "source": [
    "pageviews = data['query']['pages']['15580374']['pageviews']\n",
    "pageviews"
   ]
  },
  {
   "cell_type": "markdown",
   "metadata": {},
   "source": [
    "And since we're already in Python land, we can do Pandas stuff."
   ]
  },
  {
   "cell_type": "code",
   "execution_count": 285,
   "metadata": {},
   "outputs": [],
   "source": [
    "import pandas as pd\n",
    "from matplotlib import pyplot as plt"
   ]
  },
  {
   "cell_type": "code",
   "execution_count": 286,
   "metadata": {},
   "outputs": [],
   "source": [
    "series = pd.Series( pageviews )"
   ]
  },
  {
   "cell_type": "code",
   "execution_count": 287,
   "metadata": {},
   "outputs": [],
   "source": [
    "# explicitly convert the index to pandas.datetime type\n",
    "series.index = pd.to_datetime( series.index )"
   ]
  },
  {
   "cell_type": "code",
   "execution_count": 289,
   "metadata": {},
   "outputs": [
    {
     "data": {
      "text/plain": [
       "2018-11-28    17079874\n",
       "2018-11-29    15419487\n",
       "2018-11-30    13473789\n",
       "2018-12-01    16269313\n",
       "2018-12-02    16374525\n",
       "2018-12-03    18878261\n",
       "2018-12-04    16955103\n",
       "2018-12-05    17434296\n",
       "2018-12-06    17264732\n",
       "2018-12-07    15655476\n",
       "2018-12-08    16572228\n",
       "2018-12-09    16187649\n",
       "2018-12-10    18946847\n",
       "2018-12-11    17707080\n",
       "2018-12-12    16884572\n",
       "2018-12-13    15446322\n",
       "2018-12-14    14640903\n",
       "2018-12-15    16032729\n",
       "2018-12-16    15938708\n",
       "2018-12-17    18447120\n",
       "2018-12-18    16859230\n",
       "2018-12-19    16529561\n",
       "2018-12-20    15559163\n",
       "2018-12-21    14068023\n",
       "2018-12-22    16388617\n",
       "2018-12-23    16034921\n",
       "2018-12-24    18000379\n",
       "2018-12-25    15757346\n",
       "2018-12-26    16795736\n",
       "2018-12-27    16582890\n",
       "2018-12-28    14906247\n",
       "2018-12-29    16670166\n",
       "2018-12-30    16667106\n",
       "2018-12-31    18298079\n",
       "2019-01-01    16865930\n",
       "2019-01-02    16923511\n",
       "2019-01-03    16666430\n",
       "2019-01-04    15274054\n",
       "2019-01-05    16712678\n",
       "2019-01-06    16488079\n",
       "2019-01-07    19745929\n",
       "2019-01-08    17345085\n",
       "2019-01-09    16378043\n",
       "2019-01-10    15378628\n",
       "2019-01-11    14416268\n",
       "2019-01-12    16435873\n",
       "2019-01-13    16153417\n",
       "2019-01-14    19065877\n",
       "2019-01-15    17537361\n",
       "2019-01-16    16475819\n",
       "2019-01-17    16612705\n",
       "2019-01-18    15610428\n",
       "2019-01-19    17829732\n",
       "2019-01-20    16191156\n",
       "2019-01-21    18446678\n",
       "2019-01-22    17711520\n",
       "2019-01-23    17152354\n",
       "2019-01-24    16799498\n",
       "2019-01-25    14358261\n",
       "2019-01-26    16505812\n",
       "dtype: int64"
      ]
     },
     "execution_count": 289,
     "metadata": {},
     "output_type": "execute_result"
    }
   ],
   "source": [
    "series"
   ]
  },
  {
   "cell_type": "code",
   "execution_count": 290,
   "metadata": {},
   "outputs": [
    {
     "data": {
      "text/plain": [
       "<matplotlib.axes._subplots.AxesSubplot at 0x119f82b00>"
      ]
     },
     "execution_count": 290,
     "metadata": {},
     "output_type": "execute_result"
    },
    {
     "data": {
      "image/png": "[encoded data removed]",
      "text/plain": [
       "<Figure size 432x288 with 1 Axes>"
      ]
     },
     "metadata": {
      "needs_background": "light"
     },
     "output_type": "display_data"
    }
   ],
   "source": [
    "# which gives is some stuff for free: eg, nice x label\n",
    "series.plot()"
   ]
  },
  {
   "cell_type": "markdown",
   "metadata": {},
   "source": [
    "## When you're in a hurry\n",
    "\n",
    "How to do art\n",
    "1. know the rules\n",
    "2. then break them, with elan\n",
    "\n",
    "Here's how to transact an HTTP message sequence and decode the response in a single line."
   ]
  },
  {
   "cell_type": "code",
   "execution_count": 291,
   "metadata": {},
   "outputs": [
    {
     "data": {
      "text/plain": [
       "{'batchcomplete': '',\n",
       " 'query': {'normalized': [{'from': 'Main_Page', 'to': 'Main Page'}],\n",
       "  'pages': {'15580374': {'pageid': 15580374,\n",
       "    'ns': 0,\n",
       "    'title': 'Main Page',\n",
       "    'pageviews': {'2018-11-28': 17079874,\n",
       "     '2018-11-29': 15419487,\n",
       "     '2018-11-30': 13473789,\n",
       "     '2018-12-01': 16269313,\n",
       "     '2018-12-02': 16374525,\n",
       "     '2018-12-03': 18878261,\n",
       "     '2018-12-04': 16955103,\n",
       "     '2018-12-05': 17434296,\n",
       "     '2018-12-06': 17264732,\n",
       "     '2018-12-07': 15655476,\n",
       "     '2018-12-08': 16572228,\n",
       "     '2018-12-09': 16187649,\n",
       "     '2018-12-10': 18946847,\n",
       "     '2018-12-11': 17707080,\n",
       "     '2018-12-12': 16884572,\n",
       "     '2018-12-13': 15446322,\n",
       "     '2018-12-14': 14640903,\n",
       "     '2018-12-15': 16032729,\n",
       "     '2018-12-16': 15938708,\n",
       "     '2018-12-17': 18447120,\n",
       "     '2018-12-18': 16859230,\n",
       "     '2018-12-19': 16529561,\n",
       "     '2018-12-20': 15559163,\n",
       "     '2018-12-21': 14068023,\n",
       "     '2018-12-22': 16388617,\n",
       "     '2018-12-23': 16034921,\n",
       "     '2018-12-24': 18000379,\n",
       "     '2018-12-25': 15757346,\n",
       "     '2018-12-26': 16795736,\n",
       "     '2018-12-27': 16582890,\n",
       "     '2018-12-28': 14906247,\n",
       "     '2018-12-29': 16670166,\n",
       "     '2018-12-30': 16667106,\n",
       "     '2018-12-31': 18298079,\n",
       "     '2019-01-01': 16865930,\n",
       "     '2019-01-02': 16923511,\n",
       "     '2019-01-03': 16666430,\n",
       "     '2019-01-04': 15274054,\n",
       "     '2019-01-05': 16712678,\n",
       "     '2019-01-06': 16488079,\n",
       "     '2019-01-07': 19745929,\n",
       "     '2019-01-08': 17345085,\n",
       "     '2019-01-09': 16378043,\n",
       "     '2019-01-10': 15378628,\n",
       "     '2019-01-11': 14416268,\n",
       "     '2019-01-12': 16435873,\n",
       "     '2019-01-13': 16153417,\n",
       "     '2019-01-14': 19065877,\n",
       "     '2019-01-15': 17537361,\n",
       "     '2019-01-16': 16475819,\n",
       "     '2019-01-17': 16612705,\n",
       "     '2019-01-18': 15610428,\n",
       "     '2019-01-19': 17829732,\n",
       "     '2019-01-20': 16191156,\n",
       "     '2019-01-21': 18446678,\n",
       "     '2019-01-22': 17711520,\n",
       "     '2019-01-23': 17152354,\n",
       "     '2019-01-24': 16799498,\n",
       "     '2019-01-25': 14358261,\n",
       "     '2019-01-26': 16505812}}}}}"
      ]
     },
     "execution_count": 291,
     "metadata": {},
     "output_type": "execute_result"
    }
   ],
   "source": [
    "from urllib.request import urlopen\n",
    "datachunk = json.loads(urlopen(wikiurl).read().decode()) #so fresh so clean\n",
    "datachunk"
   ]
  },
  {
   "cell_type": "markdown",
   "metadata": {},
   "source": [
    "All of this opens the possibility of THIS one-liner:"
   ]
  },
  {
   "cell_type": "code",
   "execution_count": 292,
   "metadata": {},
   "outputs": [
    {
     "data": {
      "text/plain": [
       "<matplotlib.axes._subplots.AxesSubplot at 0x11a3c8550>"
      ]
     },
     "execution_count": 292,
     "metadata": {},
     "output_type": "execute_result"
    },
    {
     "data": {
      "image/png": "[encoded data removed]",
      "text/plain": [
       "<Figure size 432x288 with 1 Axes>"
      ]
     },
     "metadata": {
      "needs_background": "light"
     },
     "output_type": "display_data"
    }
   ],
   "source": [
    "pd.Series( json.loads(urlopen(wikiurl).read().decode())[\"query\"][\"pages\"][\"15580374\"][\"pageviews\"] ).plot()\n"
   ]
  },
  {
   "cell_type": "code",
   "execution_count": null,
   "metadata": {},
   "outputs": [],
   "source": []
  }
 ],
 "metadata": {
  "kernelspec": {
   "display_name": "Python 3",
   "language": "python",
   "name": "python3"
  },
  "language_info": {
   "codemirror_mode": {
    "name": "ipython",
    "version": 3
   },
   "file_extension": ".py",
   "mimetype": "text/x-python",
   "name": "python",
   "nbconvert_exporter": "python",
   "pygments_lexer": "ipython3",
   "version": "3.6.8"
  }
 },
 "nbformat": 4,
 "nbformat_minor": 2
}
