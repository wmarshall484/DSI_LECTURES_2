{
 "cells": [
  {
   "cell_type": "markdown",
   "metadata": {
    "slideshow": {
     "slide_type": "slide"
    }
   },
   "source": [
    "# Web Scraping\n",
    "<br>\n",
    "## Requests, BeautifulSoup & PyMongo\n",
    "<br>\n",
    "### Mark Llorente, borrowed heavily from Cary Goltermann"
   ]
  },
  {
   "cell_type": "markdown",
   "metadata": {
    "slideshow": {
     "slide_type": "subslide"
    }
   },
   "source": [
    "# Afternoon Objectives\n",
    "\n",
    "1. Understand the process of getting data from the web.\n",
    "2. HTML/CSS for scraping:\n",
    "    * Connect to web pages from Python\n",
    "    * Parse HTML in Python\n",
    "3. Format data for insertion into Mongo.\n",
    "4. Be able to use existing API's to get fetch pre-formatted data."
   ]
  },
  {
   "cell_type": "markdown",
   "metadata": {
    "slideshow": {
     "slide_type": "slide"
    }
   },
   "source": [
    "### Internet vs. World Wide Web\n",
    "\n",
    "* The internet is commonly refered to as a network of networks. It is the infrastructure that allows networks all around the world to connect with one another. There are many different protocols to transfer information within this larger, meta-network.\n",
    "* The World Wide Web, or Web, provides one of the ways that data can be transfered over the internet. Uses a **U**niform **R**esource **L**ocator, URL, to specify the location, within the internet, of a document.\n",
    "\n",
    "<center><img src=\"images/url.png\" style=\"width: 600px\"></center>\n",
    "    \n",
    "* Documents on the web are generally written in **H**yper**T**ext **M**arkup **L**anguage, HTML, which can be natively viewed by browsers, the tool that we use to browse the web."
   ]
  },
  {
   "cell_type": "markdown",
   "metadata": {
    "slideshow": {
     "slide_type": "subslide"
    }
   },
   "source": [
    "### Communication on the Web\n",
    "\n",
    "* Information is transmitted around the web through a number of protocols. The main one that you will see is the **H**yper**T**ext **T**ransfer **P**rotocol, HTTP.\n",
    "* These transfers, called **requests**, are initiated in a number of ways, but always begin with the client, read: you at your browser.\n",
    "\n",
    "<center><img src=\"images/requests.png\" style=\"width: 600px\"></center>"
   ]
  },
  {
   "cell_type": "markdown",
   "metadata": {
    "slideshow": {
     "slide_type": "subslide"
    }
   },
   "source": [
    "## Requests\n",
    "\n",
    "There are 4 main types of request that can be issued by your browser: \n",
    "* get\n",
    "* post\n",
    "* put\n",
    "* delete\n",
    "\n",
    "For web scraping purposes, you will almost always be using get requests. We will learn some more about the others in a couple of weeks during data products day."
   ]
  },
  {
   "cell_type": "markdown",
   "metadata": {
    "slideshow": {
     "slide_type": "slide"
    }
   },
   "source": [
    "## Scraping from a Web Page with Python\n",
    "\n",
    "* Scraping a web site basically comes down to making a request from Python and parsing through the HTML that is returned from each page.\n",
    "* For each of these tasks we have a Python library:\n",
    "    * `requests`, for making...well requests, and\n",
    "    * `bs4`, aka BeautifulSoup."
   ]
  },
  {
   "cell_type": "markdown",
   "metadata": {
    "slideshow": {
     "slide_type": "slide"
    }
   },
   "source": [
    "## Requests Library\n",
    "\n",
    "* The [requests](http://docs.python-requests.org/en/latest/index.html) library is designed to simplify the process of making http requests within Python.\n",
    "* The interface is mindbogglingly simple:\n",
    "    1. Instantiate a requests object to the request, this will mostly be a `get`, with the URL and optional parameters you'd like passed through the request.\n",
    "    2. That instance makes the results of the request available via attributes/methods."
   ]
  },
  {
   "cell_type": "code",
   "execution_count": 2,
   "metadata": {
    "slideshow": {
     "slide_type": "subslide"
    }
   },
   "outputs": [
    {
     "data": {
      "text/plain": [
       "'\\r\\n<!DOCTYPE html PUBLIC \"-//W3C//DTD XHTML 1.0 Transitional//EN\" \"https://www.w3.org/TR/xhtml1/DTD/xhtml1-transitional.dtd\">\\n<html xmlns=\"https://www.w3.org/1999/xhtml\" lang=\"en-US\" xmlns:fb=\"http://www.facebook.com/2008/fbml\" xmlns:og=\"http://opengraphprotocol.org/schema/\" prefix=\"og: http://ogp.me/ns#\">\\n\\n<head profile=\"https://gmpg.org/xfn/11\">\\n<script src=\"//cdn.optimizely.com/js/195632799.js\"></script>\\n\\n<meta http-equiv=\"Content-Type\" content=\"text/html; charset=UTF-8\" />\\n\\n\\n<title>Funcheap | Free Events &amp; Things to Do in San Francisco</title>\\n\\n<meta name=\"generator\" content=\"WordPress\" /> <!-- leave this for stats -->\\n\\n<link rel=\"stylesheet\" href=\"https://cdn.funcheap.com/wp-content/themes/arthemia-premium/style.css?v=1.8.10\" type=\"text/css\" media=\"screen\" />\\n<link rel=\"stylesheet\" href=\"https://cdn.funcheap.com/wp-content/themes/arthemia-premium/madmenu.css?v=1.1\" type=\"text/css\" media=\"screen\" />\\n<!--[if IE 6]>\\n    <style type=\"text/css\">\\n    body {\\n        behavior:url(\"http'"
      ]
     },
     "execution_count": 2,
     "metadata": {},
     "output_type": "execute_result"
    }
   ],
   "source": [
    "import requests\n",
    "fun_cheap = 'http://sf.funcheap.com/'\n",
    "r = requests.get(fun_cheap)\n",
    "r.text[:1000] # First 1000 characters of the HTML, stored on the \"text\" attribute"
   ]
  },
  {
   "cell_type": "markdown",
   "metadata": {
    "slideshow": {
     "slide_type": "slide"
    }
   },
   "source": [
    "## Getting Info from a Web Page\n",
    "\n",
    "* Now that we can gain easy access to the HMTL for a web page, we need some way to pull the desired content from it. Luckily there is already a system in place to do this.\n",
    "* With a combination of HMTL and CSS selectors we can identify the information on a HMTL page that we wish to retrieve and grab it with [BeautifulSoup](https://www.crummy.com/software/BeautifulSoup/bs4/doc/#searching-the-tree)."
   ]
  },
  {
   "cell_type": "markdown",
   "metadata": {
    "slideshow": {
     "slide_type": "subslide"
    }
   },
   "source": [
    "# CSS Selectors\n",
    "\n",
    "* Cascading Style Sheet, or CSS, is the \"language\" used to make the items in a web page look better.\n",
    "* CSS allows for adding properties to specific part of a page, generally divided up into tags, e.g. `<tag_start> SOME STUFF </tag_end>`"
   ]
  },
  {
   "cell_type": "markdown",
   "metadata": {
    "slideshow": {
     "slide_type": "subslide"
    }
   },
   "source": [
    "# Very cool resource for learning about CSS selectors:\n",
    "* http://flukeout.github.io/\n",
    "* Let's work through some of these breakout style"
   ]
  },
  {
   "cell_type": "markdown",
   "metadata": {
    "slideshow": {
     "slide_type": "slide"
    }
   },
   "source": [
    "## sffuncheap.com\n",
    "\n",
    "* Say we want to scrape all of the events, their description and cost.\n",
    "* How do we do this?"
   ]
  },
  {
   "cell_type": "markdown",
   "metadata": {
    "slideshow": {
     "slide_type": "subslide"
    }
   },
   "source": [
    "### Let's take a the site\n",
    "\n",
    "What are we looking for:\n",
    "* Patterns in the way the site it put together.\n",
    "* If we can find a pattern we can algorithmically exploit it to get our scraping done.\n",
    "* Live demo of chrome dev tools!\n",
    "* [sffuncheap](http://sf.funcheap.com)"
   ]
  },
  {
   "cell_type": "markdown",
   "metadata": {
    "slideshow": {
     "slide_type": "subslide"
    }
   },
   "source": [
    "### Notes\n",
    "* If you look around the home page you'll see the current day and days in the near future.\n",
    "* If you click on one of those days the url will become: `sf.funcheap.com/<year>/<month>/<day>`\n",
    "* This can be exploited."
   ]
  },
  {
   "cell_type": "code",
   "execution_count": 3,
   "metadata": {
    "scrolled": true,
    "slideshow": {
     "slide_type": "slide"
    }
   },
   "outputs": [
    {
     "data": {
      "text/plain": [
       "bs4.BeautifulSoup"
      ]
     },
     "execution_count": 3,
     "metadata": {},
     "output_type": "execute_result"
    }
   ],
   "source": [
    "from bs4 import BeautifulSoup\n",
    "r = requests.get(fun_cheap + '2018/09/17')\n",
    "soup = BeautifulSoup(r.text, 'html.parser')\n",
    "type(soup)"
   ]
  },
  {
   "cell_type": "markdown",
   "metadata": {
    "slideshow": {
     "slide_type": "subslide"
    }
   },
   "source": [
    "## What is this SOUP?\n",
    "### And why is it BEAUTIFUL??\n",
    "\n",
    "Well, we can do some fancy HTML parsing/CSS selecting effortlessly."
   ]
  },
  {
   "cell_type": "code",
   "execution_count": 4,
   "metadata": {
    "slideshow": {
     "slide_type": "fragment"
    }
   },
   "outputs": [
    {
     "data": {
      "text/plain": [
       "[<h2 class=\"title\">Events for  September 17, 2018</h2>]"
      ]
     },
     "execution_count": 4,
     "metadata": {},
     "output_type": "execute_result"
    }
   ],
   "source": [
    "soup.select('h2.title')\n",
    "# Or we could do it like:"
   ]
  },
  {
   "cell_type": "code",
   "execution_count": 5,
   "metadata": {
    "slideshow": {
     "slide_type": "fragment"
    }
   },
   "outputs": [
    {
     "data": {
      "text/plain": [
       "<h2 class=\"title\">Events for  September 17, 2018</h2>"
      ]
     },
     "execution_count": 5,
     "metadata": {},
     "output_type": "execute_result"
    }
   ],
   "source": [
    "title = soup.find_all('h2', class_='title')[0] # Going to use this later\n",
    "title"
   ]
  },
  {
   "cell_type": "markdown",
   "metadata": {
    "slideshow": {
     "slide_type": "slide"
    }
   },
   "source": [
    "## Back to the task at hand\n",
    "\n",
    "* Want to scrape all of the events, their description and cost.\n",
    "* How do we do this?\n",
    "* What if we just inspect the page looking for a tag that has the info we want!"
   ]
  },
  {
   "cell_type": "code",
   "execution_count": 5,
   "metadata": {
    "slideshow": {
     "slide_type": "slide"
    }
   },
   "outputs": [
    {
     "name": "stdout",
     "output_type": "stream",
     "text": [
      "<class 'bs4.element.ResultSet'>\n"
     ]
    },
    {
     "data": {
      "text/plain": [
       "<div class=\"tanbox left\" style=\"background-color:white;\">\\n<span class=\"title\"><a href=\"http://sf.funcheap.com/clover-sonoma-milk-tasting-room-popup-free-cereal-coffee-closing-day/\" rel=\"bookmark\" title=\"Clover Sonoma Milk Tasting Room Pop-Up: Free Cereal &amp; Coffee | Final Day\">Clover Sonoma Milk Tasting Room Pop-Up: Free Cereal &amp; Coffee | Final Day</a></span>\\n<div class=\"meta archive-meta\">Monday, July 17 \\x96 8:00 am | \\n\\n\\n<span class=\"cost\">Cost: FREE</span> | <span>Clover Sonoma Milk Tasting Room Pop-up</span> </div>\\n<div class=\"thumbnail-wrapper\"><a href=\"http://sf.funcheap.com/clover-sonoma-milk-tasting-room-popup-free-cereal-coffee-closing-day/\" rel=\"bookmark\" title=\"Clover Sonoma Milk Tasting Room Pop-Up: Free Cereal &amp; Coffee | Final Day\"><img alt=\"Clover Sonoma Milk Tasting Room Pop-Up: Free Cereal &amp; Coffee | Final Day\" class=\"left\" src=\"http://cdn.funcheap.com/wp-content/uploads/2017/06/Screen-Shot-2017-06-06-at-10.40.54-AM1-175x130.png\"/></a></div><p>Clover Sonoma, the Bay Area\\u2019s favorite third-generation family-owned and operated dairy farm, has opened a Milk Tasting Room pop-up\\xa0in Hayes Valley, which will be open from June 5 through July 21, 2017. Clover Sonoma Milk Tasting Room June 5-July 21, 2017 Clover Sonoma Pop-up,\\xa0330 Fell ...</p></div>"
      ]
     },
     "execution_count": 5,
     "metadata": {},
     "output_type": "execute_result"
    }
   ],
   "source": [
    "tanbox_lefts = soup.find_all('div', class_='tanbox left')\n",
    "print(type(tanbox_lefts))\n",
    "tanbox_lefts[0]"
   ]
  },
  {
   "cell_type": "markdown",
   "metadata": {
    "slideshow": {
     "slide_type": "subslide"
    }
   },
   "source": [
    "## Did I Find the Right Things?"
   ]
  },
  {
   "cell_type": "code",
   "execution_count": 6,
   "metadata": {
    "slideshow": {
     "slide_type": "fragment"
    }
   },
   "outputs": [
    {
     "data": {
      "text/plain": [
       "<a href=\"http://sf.funcheap.com/clover-sonoma-milk-tasting-room-popup-free-cereal-coffee-closing-day/\" rel=\"bookmark\" title=\"Clover Sonoma Milk Tasting Room Pop-Up: Free Cereal &amp; Coffee | Final Day\">Clover Sonoma Milk Tasting Room Pop-Up: Free Cereal &amp; Coffee | Final Day</a>"
      ]
     },
     "execution_count": 6,
     "metadata": {},
     "output_type": "execute_result"
    }
   ],
   "source": [
    "tbl1 = tanbox_lefts[0]\n",
    "tbl1.find('a') # All the elements that come from beautiful soup parsing can be parsed too"
   ]
  },
  {
   "cell_type": "code",
   "execution_count": 7,
   "metadata": {
    "scrolled": true,
    "slideshow": {
     "slide_type": "fragment"
    }
   },
   "outputs": [
    {
     "data": {
      "text/plain": [
       "[<a href=\"http://sf.funcheap.com/event-series/popcorn-poker-movie-trivia-game-night-parkway/\" rel=\"bookmark\" title=\"Popcorn Poker: Movie Trivia Game Night | The New Parkway\">Popcorn Poker: Movie Trivia Game Night | The New Parkway</a>,\n",
       " <a href=\"http://sf.funcheap.com/event-series/move-free-comedy-night-light/\" rel=\"bookmark\" title=\"Free Comedy: Move Along, Nothing to See Here | Oakland\">Free Comedy: Move Along, Nothing to See Here | Oakland</a>,\n",
       " <a href=\"http://sf.funcheap.com/event-series/classical-revolution-chamber-music-jam-mission-dist/\" rel=\"bookmark\" title=\"\\u201cClassical Revolution\\u201d Chamber Music Jam | Mission Dist.\">\\u201cClassical Revolution\\u201d Chamber Music Jam | Mission Dist.</a>,\n",
       " <a href=\"http://sf.funcheap.com/event-series/ivy-league-free-comedy-monday-nights-albany/\" rel=\"bookmark\" title=\"Ivy League Free Comedy on Monday Nights | Albany\">Ivy League Free Comedy on Monday Nights | Albany</a>,\n",
       " <a href=\"http://sf.funcheap.com/event-series/kevin-wongs-funny-comedy-show-san-mateo/\" rel=\"bookmark\" title=\"\\u201cThe Secret Show\\u201d: Comedy Show at a Pub | San Mateo\">\\u201cThe Secret Show\\u201d: Comedy Show at a Pub | San Mateo</a>]"
      ]
     },
     "execution_count": 7,
     "metadata": {},
     "output_type": "execute_result"
    }
   ],
   "source": [
    "a_tags = [tbl.find('a') for tbl in tanbox_lefts]\n",
    "a_tags[-5:] # These are the every Monday events"
   ]
  },
  {
   "cell_type": "markdown",
   "metadata": {
    "slideshow": {
     "slide_type": "slide"
    }
   },
   "source": [
    "## So we got too much stuff.\n",
    "### What to do now?\n",
    "\n",
    "We could:\n",
    "* Only keep dates that have real dates, not \"Every Monday\". Requires going further down the HTML.\n",
    "* Find some other container that only holds the real events for the day."
   ]
  },
  {
   "cell_type": "code",
   "execution_count": 8,
   "metadata": {
    "slideshow": {
     "slide_type": "subslide"
    }
   },
   "outputs": [
    {
     "data": {
      "text/plain": [
       "'<div class=\"clearfloat\">\\n<span class=\"left\"><a href=\"/2017/07/16/\">&lt; Sunday, July 16</a></span>\\n<span class=\"right\"><a href=\"/2017/07/18/\">Tuesday, July 18 &gt;</a></span>\\n<div style=\"clear:both\"></div>\\n<div class=\"archive_date_title\" style=\"background-color:white;margin:0px;margin-bottom:4px;padding:0px;\"><h3 style=\"background-color:black;color:white;margin:0px;padding:3px;font: 16px Arial;font-weight:bold;\">Monday<span style=\"font-weight:normal;\">, July 17</span></h3></div>\\n<div class=\"tanb'"
      ]
     },
     "execution_count": 8,
     "metadata": {},
     "output_type": "execute_result"
    }
   ],
   "source": [
    "good_clear_float = title.next_sibling.next_sibling\n",
    "str(good_clear_float)[:500]"
   ]
  },
  {
   "cell_type": "code",
   "execution_count": 9,
   "metadata": {
    "slideshow": {
     "slide_type": "fragment"
    }
   },
   "outputs": [
    {
     "name": "stdout",
     "output_type": "stream",
     "text": [
      "http://sf.funcheap.com/clover-sonoma-milk-tasting-room-popup-free-cereal-coffee-closing-day/\n",
      "http://sf.funcheap.com/clover-sonoma-milk-tasting-room-popup-free-cereal-coffee-closing-day/\n",
      "http://sf.funcheap.com/free-coworking-job-sunnyvale/\n",
      "http://sf.funcheap.com/free-coworking-job-sunnyvale/\n",
      "http://sf.funcheap.com/jack-daniels-popup-store-trims-southern-cooking-happy-hour-sf-2/\n",
      "http://sf.funcheap.com/jack-daniels-popup-store-trims-southern-cooking-happy-hour-sf-2/\n",
      "http://sf.funcheap.com/tour-of-diego-riveras-1st-us-mural-union-square-36/\n",
      "http://sf.funcheap.com/laborfest2017-destruction-city-college-san-francisco-bernal-public-library/\n",
      "http://sf.funcheap.com/the-book-of-greens-book-launch-omnivore-books/\n",
      "http://sf.funcheap.com/free-sneak-preview-movie-dunkirk-sundance-kabuki-cinemas/\n",
      "http://sf.funcheap.com/free-sneak-preview-movie-dunkirk-amc-saratoga/\n",
      "http://sf.funcheap.com/haight-street-trivia-comedy-gaming-free-pizza-night-milk-bar-7/\n",
      "http://sf.funcheap.com/garage-surf-jurassic-punk-trextasy-swedish-american-hall/\n",
      "These look right, apart from some repeats\n"
     ]
    }
   ],
   "source": [
    "for tag in good_clear_float.find_all('a', rel=True):\n",
    "    print(tag.attrs['href'])\n",
    "print('These look right, apart from some repeats')"
   ]
  },
  {
   "cell_type": "markdown",
   "metadata": {
    "slideshow": {
     "slide_type": "slide"
    }
   },
   "source": [
    "## New Strategy\n",
    "\n",
    "As you go through a web site you should build up a dictionary for the documents that you want to store in Mongo. In the example above we may, for each post url, create a dictionary with the information:\n",
    "\n",
    "```python\n",
    "    { url: url_of_event,\n",
    "      date: date_event,\n",
    "      cost: cost_of_event }\n",
    "```\n",
    "\n",
    "We can then insert these dictionaries into a Mongo database via PyMongo, which we will learn about next. First we want a function that will allow us to do something like:\n",
    "\n",
    "```python\n",
    "event_list = []\n",
    "for tbl in good_clear_float.find_all('div', class_='tanbox left'):\n",
    "    event_dict.append(make_event_dict(tbl))\n",
    "```"
   ]
  },
  {
   "cell_type": "code",
   "execution_count": 10,
   "metadata": {
    "slideshow": {
     "slide_type": "subslide"
    }
   },
   "outputs": [
    {
     "data": {
      "text/plain": [
       "<div class=\"tanbox left\" style=\"background-color:white;\">\\n<span class=\"title\"><a href=\"http://sf.funcheap.com/clover-sonoma-milk-tasting-room-popup-free-cereal-coffee-closing-day/\" rel=\"bookmark\" title=\"Clover Sonoma Milk Tasting Room Pop-Up: Free Cereal &amp; Coffee | Final Day\">Clover Sonoma Milk Tasting Room Pop-Up: Free Cereal &amp; Coffee | Final Day</a></span>\\n<div class=\"meta archive-meta\">Monday, July 17 \\x96 8:00 am | \\n\\n\\n<span class=\"cost\">Cost: FREE</span> | <span>Clover Sonoma Milk Tasting Room Pop-up</span> </div>\\n<div class=\"thumbnail-wrapper\"><a href=\"http://sf.funcheap.com/clover-sonoma-milk-tasting-room-popup-free-cereal-coffee-closing-day/\" rel=\"bookmark\" title=\"Clover Sonoma Milk Tasting Room Pop-Up: Free Cereal &amp; Coffee | Final Day\"><img alt=\"Clover Sonoma Milk Tasting Room Pop-Up: Free Cereal &amp; Coffee | Final Day\" class=\"left\" src=\"http://cdn.funcheap.com/wp-content/uploads/2017/06/Screen-Shot-2017-06-06-at-10.40.54-AM1-175x130.png\"/></a></div><p>Clover Sonoma, the Bay Area\\u2019s favorite third-generation family-owned and operated dairy farm, has opened a Milk Tasting Room pop-up\\xa0in Hayes Valley, which will be open from June 5 through July 21, 2017. Clover Sonoma Milk Tasting Room June 5-July 21, 2017 Clover Sonoma Pop-up,\\xa0330 Fell ...</p></div>"
      ]
     },
     "execution_count": 10,
     "metadata": {},
     "output_type": "execute_result"
    }
   ],
   "source": [
    "# For testing\n",
    "tbl1"
   ]
  },
  {
   "cell_type": "code",
   "execution_count": 11,
   "metadata": {
    "collapsed": true,
    "slideshow": {
     "slide_type": "fragment"
    }
   },
   "outputs": [],
   "source": [
    "def make_event_dict(tbl):\n",
    "    pass"
   ]
  },
  {
   "cell_type": "code",
   "execution_count": 12,
   "metadata": {
    "collapsed": true,
    "slideshow": {
     "slide_type": "subslide"
    }
   },
   "outputs": [],
   "source": [
    "def make_event_dict(tbl):\n",
    "    \"\"\"Parses event in a \"tanbox left\" div for it's url, title and cost.\n",
    "    Returns as dictionary.\n",
    "    \"\"\"\n",
    "    event_dict = {}\n",
    "    event_dict['url'] = tbl.find('a', rel=True).attrs['href']\n",
    "    event_dict['title'] = tbl.find('a').attrs['title']\n",
    "    maybe_cost = tbl.find('span', class_='cost')\n",
    "    if maybe_cost:\n",
    "        event_dict['cost'] = maybe_cost.text\n",
    "    return event_dict"
   ]
  },
  {
   "cell_type": "code",
   "execution_count": 13,
   "metadata": {
    "slideshow": {
     "slide_type": "subslide"
    }
   },
   "outputs": [
    {
     "data": {
      "text/plain": [
       "[{'cost': u'Cost: FREE',\n",
       "  'title': u'Clover Sonoma Milk Tasting Room Pop-Up: Free Cereal & Coffee | Final Day',\n",
       "  'url': u'http://sf.funcheap.com/clover-sonoma-milk-tasting-room-popup-free-cereal-coffee-closing-day/'},\n",
       " {'cost': u'Cost:',\n",
       "  'title': u'Free Co-working: Getting The Job Done | Sunnyvale',\n",
       "  'url': u'http://sf.funcheap.com/free-coworking-job-sunnyvale/'},\n",
       " {'cost': u'Cost:',\n",
       "  'title': u'Jack Daniel\\u2019s Pop-Up Store: Trims, Southern Cooking & Daily Demos | SF',\n",
       "  'url': u'http://sf.funcheap.com/jack-daniels-popup-store-trims-southern-cooking-happy-hour-sf-2/'},\n",
       " {'title': u'Tour of Diego Rivera\\u2019s 1st US Mural | Union Square',\n",
       "  'url': u'http://sf.funcheap.com/tour-of-diego-riveras-1st-us-mural-union-square-36/'},\n",
       " {'title': u'LaborFest2017: The Destruction of City College of San Francisco | Bernal Public Library',\n",
       "  'url': u'http://sf.funcheap.com/laborfest2017-destruction-city-college-san-francisco-bernal-public-library/'},\n",
       " {'title': u'\\u201cThe Book of Greens\\u201d Book Launch | Omnivore Books',\n",
       "  'url': u'http://sf.funcheap.com/the-book-of-greens-book-launch-omnivore-books/'},\n",
       " {'title': u'Free Sneak Preview Movie: \\u201cDunkirk\\u201d | Sundance Kabuki Cinemas',\n",
       "  'url': u'http://sf.funcheap.com/free-sneak-preview-movie-dunkirk-sundance-kabuki-cinemas/'},\n",
       " {'title': u'Free Sneak Preview Movie: Dunkirk | AMC Saratoga',\n",
       "  'url': u'http://sf.funcheap.com/free-sneak-preview-movie-dunkirk-amc-saratoga/'},\n",
       " {'title': u'Haight Street Trivia, Comedy, Gaming & Free Pizza Night | Milk Bar',\n",
       "  'url': u'http://sf.funcheap.com/haight-street-trivia-comedy-gaming-free-pizza-night-milk-bar-7/'},\n",
       " {'title': u'Win Tix: Garage Surf Jurassic Punk \\u201cT-Rextasy\\u201d | Swedish American Hall',\n",
       "  'url': u'http://sf.funcheap.com/garage-surf-jurassic-punk-trextasy-swedish-american-hall/'}]"
      ]
     },
     "execution_count": 13,
     "metadata": {},
     "output_type": "execute_result"
    }
   ],
   "source": [
    "event_list = []\n",
    "for tbl in good_clear_float.find_all('div', class_='tanbox left'):\n",
    "    if tbl.find('a', rel=True):\n",
    "        event_list.append(make_event_dict(tbl))\n",
    "\n",
    "event_list"
   ]
  },
  {
   "cell_type": "markdown",
   "metadata": {
    "slideshow": {
     "slide_type": "slide"
    }
   },
   "source": [
    "Now that we have the contents of the events that we want, how to we save them to Mongo?"
   ]
  },
  {
   "cell_type": "code",
   "execution_count": 10,
   "metadata": {
    "slideshow": {
     "slide_type": "fragment"
    }
   },
   "outputs": [],
   "source": [
    "from pymongo import MongoClient\n",
    "\n",
    "remote_client = MongoClient(\"<string_from_morning_remote_connection>\")\n",
    "tweets = remote_client.tweets\n",
    "coffee = tweets.coffee"
   ]
  },
  {
   "cell_type": "code",
   "execution_count": 15,
   "metadata": {
    "scrolled": true,
    "slideshow": {
     "slide_type": "fragment"
    }
   },
   "outputs": [
    {
     "name": "stdout",
     "output_type": "stream",
     "text": [
      "<type 'dict'>\n"
     ]
    },
    {
     "data": {
      "text/plain": [
       "{u'country': u'United States',\n",
       " u'country_code': u'US',\n",
       " u'full_name': u'city, MS',\n",
       " u'place_type': u'city'}"
      ]
     },
     "execution_count": 15,
     "metadata": {},
     "output_type": "execute_result"
    }
   ],
   "source": [
    "tweet = coffee.find_one()\n",
    "print(type(tweet))\n",
    "tweet['place']"
   ]
  },
  {
   "cell_type": "code",
   "execution_count": 16,
   "metadata": {
    "slideshow": {
     "slide_type": "subslide"
    }
   },
   "outputs": [
    {
     "data": {
      "text/plain": [
       "[u'contributors',\n",
       " u'truncated',\n",
       " u'text',\n",
       " u'in_reply_to_status_id',\n",
       " u'id',\n",
       " u'favorite_count',\n",
       " u'source',\n",
       " u'retweeted',\n",
       " u'coordinates',\n",
       " u'entities',\n",
       " u'in_reply_to_screen_name',\n",
       " u'id_str',\n",
       " u'retweet_count',\n",
       " u'in_reply_to_user_id',\n",
       " u'favorited',\n",
       " u'user',\n",
       " u'geo',\n",
       " u'in_reply_to_user_id_str',\n",
       " u'lang',\n",
       " u'created_at',\n",
       " u'filter_level',\n",
       " u'in_reply_to_status_id_str',\n",
       " u'place',\n",
       " u'_id']"
      ]
     },
     "execution_count": 16,
     "metadata": {},
     "output_type": "execute_result"
    }
   ],
   "source": [
    "tweet.keys()"
   ]
  },
  {
   "cell_type": "code",
   "execution_count": 17,
   "metadata": {
    "scrolled": true,
    "slideshow": {
     "slide_type": "subslide"
    }
   },
   "outputs": [
    {
     "name": "stdout",
     "output_type": "stream",
     "text": [
      "TransitoRos\n",
      "BaristaBatgirl\n",
      "arianaskittles\n",
      "jordansundblad\n",
      "alexdelro\n",
      "RosenaraM\n",
      "MerveUygr\n",
      "melissat91\n",
      "_alysaperez\n",
      "hopethepope\n",
      "lucianamachad15\n",
      "Angela79248101\n",
      "hannahTkoch\n",
      "charleyleemcken\n",
      "jennifelovepink\n",
      "SoyLatte\n",
      "JustinC_93\n",
      "MO_SandraE\n",
      "NoFeelingsPls\n",
      "LoveAfrodita_HC\n"
     ]
    }
   ],
   "source": [
    "for tweet in coffee.find().limit(20):\n",
    "    print(tweet['user']['screen_name'])"
   ]
  },
  {
   "cell_type": "code",
   "execution_count": 18,
   "metadata": {
    "collapsed": true,
    "slideshow": {
     "slide_type": "fragment"
    }
   },
   "outputs": [],
   "source": [
    "# Remember to close the connection\n",
    "remote_client.close()"
   ]
  },
  {
   "cell_type": "markdown",
   "metadata": {
    "slideshow": {
     "slide_type": "slide"
    }
   },
   "source": [
    "## Back to sffuncheap\n",
    "\n",
    "Knowing what we know now, how do we put the events we scraped into Mongo?\n",
    "\n",
    "Steps are simple:\n",
    "1. Start a Mongo server\n",
    "2. Open a connection to the server with PyMongo\n",
    "3. Write code that executes queries (can be insertions) into a database from Python"
   ]
  },
  {
   "cell_type": "code",
   "execution_count": 11,
   "metadata": {
    "collapsed": true,
    "slideshow": {
     "slide_type": "slide"
    }
   },
   "outputs": [],
   "source": [
    "local_client = MongoClient() # Default is to connect locally\n",
    "db = local_client.sffuncheap # What's the server look like before we run this?\n",
    "events = db.events"
   ]
  },
  {
   "cell_type": "code",
   "execution_count": 20,
   "metadata": {
    "collapsed": true,
    "slideshow": {
     "slide_type": "fragment"
    }
   },
   "outputs": [],
   "source": [
    "for event in event_list[:5]:\n",
    "    events.insert_one(event)"
   ]
  },
  {
   "cell_type": "code",
   "execution_count": 21,
   "metadata": {
    "slideshow": {
     "slide_type": "fragment"
    }
   },
   "outputs": [
    {
     "data": {
      "text/plain": [
       "<pymongo.results.InsertManyResult at 0x10ceafe60>"
      ]
     },
     "execution_count": 21,
     "metadata": {},
     "output_type": "execute_result"
    }
   ],
   "source": [
    "events.insert_many(event_list[5:])"
   ]
  },
  {
   "cell_type": "code",
   "execution_count": 12,
   "metadata": {
    "collapsed": true,
    "slideshow": {
     "slide_type": "fragment"
    }
   },
   "outputs": [],
   "source": [
    "# Remember to close the connection\n",
    "events.drop() # <<<---- only for lecture refreshing purposes\n",
    "local_client.close()"
   ]
  },
  {
   "cell_type": "markdown",
   "metadata": {
    "slideshow": {
     "slide_type": "slide"
    }
   },
   "source": [
    "## Scraping Note\n",
    "\n",
    "* Frequently we don't know what data we're going to want for a project/employer/etc.\n",
    "* In these, likely, cases a good scraping practice is just to download all of the HTML and save it.\n",
    "* Later, then, you can figure out how to parse it into another database without the risk of having missed some important info."
   ]
  },
  {
   "cell_type": "markdown",
   "metadata": {
    "slideshow": {
     "slide_type": "slide"
    }
   },
   "source": [
    "## Scraping from an Existing API\n",
    "\n",
    "* Let's take a look at the API for all the publically avaliable policing data in the [UK](https://data.police.uk/docs/).\n",
    "* After taking a look at the documentation for the interface, let's experiment with what we get when we issue a request to this API.\n",
    "* The process looks remarkable similar to the one we went through for scraping a web page, except this time the response we're looking for is avaliable via the `json()` method."
   ]
  },
  {
   "cell_type": "markdown",
   "metadata": {
    "slideshow": {
     "slide_type": "slide"
    }
   },
   "source": [
    "## API Scraping and Mongo\n",
    "\n",
    "* Many APIs will give you a choice of how it will return data to you.\n",
    "* Choosing json will make life easier since we will frequently be using Mongo for our storage unit during our scraping endeavors, and it plays very well with json.\n",
    "* If an API doesn't offer a data format choice then take whatever they provide and coerce it into a dictionary format with Python so you can put it in Mongo."
   ]
  },
  {
   "cell_type": "markdown",
   "metadata": {
    "slideshow": {
     "slide_type": "slide"
    }
   },
   "source": [
    "## Demo: Network Tab\n",
    "\n",
    "* Some websites are powered on the backend by an api that isn't public but that can be reversed engineered.\n",
    "* [NBA Stats](http://stats.nba.com/) (technically most of this api has been made public)."
   ]
  },
  {
   "cell_type": "markdown",
   "metadata": {
    "slideshow": {
     "slide_type": "slide"
    }
   },
   "source": [
    "# Afternoon Objectives\n",
    "\n",
    "1. Understand the process of getting data from the web.\n",
    "2. HTML/CSS for scraping:\n",
    "    * Connect to web pages from Python\n",
    "    * Parse HTML in Python\n",
    "3. Format data for insertion into Mongo.\n",
    "4. Be able to use existing API's to get fetch pre-formatted data."
   ]
  }
 ],
 "metadata": {
  "celltoolbar": "Slideshow",
  "kernelspec": {
   "display_name": "Python 3",
   "language": "python",
   "name": "python3"
  },
  "language_info": {
   "codemirror_mode": {
    "name": "ipython",
    "version": 3
   },
   "file_extension": ".py",
   "mimetype": "text/x-python",
   "name": "python",
   "nbconvert_exporter": "python",
   "pygments_lexer": "ipython3",
   "version": "3.6.3"
  }
 },
 "nbformat": 4,
 "nbformat_minor": 2
}
