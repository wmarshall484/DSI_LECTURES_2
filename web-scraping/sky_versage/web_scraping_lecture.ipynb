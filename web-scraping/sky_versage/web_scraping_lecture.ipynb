{
 "cells": [
  {
   "cell_type": "markdown",
   "metadata": {},
   "source": [
    "# Web Scraping and HTML Concepts\n"
   ]
  },
  {
   "cell_type": "markdown",
   "metadata": {},
   "source": [
    "### Morning Objectives:\n",
    "* Install `mongo` and `pymongo`.\n",
    "* *Compare and Contrast* SQL and noSQL.\n",
    "* *Perform* basic operations using Mongo.\n",
    "\n",
    "### Afternoon Objectives:\n",
    "* *Describe* a typical web scraping data pipeline.\n",
    "* *Explain* the basic concepts of HTML.\n",
    "* *Learn how to* write code to pull elements from a web page using BeautifulSoup.\n",
    "* *Use* an existing API to fetch data and parse using BeautifulSoup."
   ]
  },
  {
   "cell_type": "markdown",
   "metadata": {},
   "source": [
    "## Resources\n",
    "\n",
    "* [Precourse-Web Awareness](https://github.com/zipfian/precourse/tree/master/Chapter_8_Web_Awareness)\n",
    "* [The Little MongoDB Book](http://openmymind.net/mongodb.pdf)\n",
    "* [w3 schools](http://www.w3schools.com/) : HTML tags and thier attributes.\n",
    "* [PyMongo tutorial](http://api.mongodb.org/python/current/tutorial.html)\n",
    "* [BeautifulSoup Documentation](http://www.crummy.com/software/BeautifulSoup/bs4/doc/)\n",
    "* [Scrape anonymously with Tor](https://deshmukhsuraj.wordpress.com/2015/03/08/anonymous-web-scraping-using-python-and-tor/)"
   ]
  },
  {
   "cell_type": "markdown",
   "metadata": {},
   "source": [
    "## Installing Mongo and PyMongo\n",
    "\n",
    "### Mongo\n",
    "1. Install MongoDB: `brew install mongodb`\n",
    "2. Start MongoDB: `brew services start mongodb`\n",
    "\n",
    "#### Do *not* run services as `root`.  Ever.  Even if someone tells you to.\n",
    "\n",
    "### PyMongo\n",
    "2. Install PyMongo: `conda install pymongo`"
   ]
  },
  {
   "cell_type": "markdown",
   "metadata": {},
   "source": [
    "### SQL vs NoSQL\n",
    "\n",
    "NoSQL does not stand for 'No SQL'. SQL is useful for many things, it's not going away.\n",
    "\n",
    "> NoSQL ==> \"Not Only SQL\"\n",
    "\n",
    "It's a different Paradigm to deal with messy data that does not lend itself to an RDBMS.  It's also very useful as a quick and painless solution to data storage, where a full relational database model takes much thought and investment.\n",
    "\n",
    "\n",
    "| Topic | SQL | NoSQL |\n",
    "| --- | --- | --- |\n",
    "| Database | Database (Schema for Oracle) | Database |\n",
    "| Table | Table | Collection |\n",
    "| Column | Columns | Document keys |\n",
    "\n",
    "**Not neccessary for NoSQL to have the same keys for each document in a collection -- whaaaaat?!"
   ]
  },
  {
   "cell_type": "markdown",
   "metadata": {},
   "source": [
    "Today we're talking about Mongo, but here is a high level overview of the Not Only SQL space\n",
    "\n",
    "<img src=\"images/noSQL.png\" width = 500>"
   ]
  },
  {
   "cell_type": "markdown",
   "metadata": {},
   "source": [
    "### Mongo Clients\n",
    "\n",
    "The command line program we use to interact with mongo is a *client*.  It's only job is to send messages to another program, a *server*, which holds all our data and knows how to operate on it.\n",
    "\n",
    "The command line Mongo client is written in javascript, so interacting with mongo with this client looks like writing javascript code.\n",
    "\n",
    "<img src=\"images/client-server.png\" width = 500>\n",
    "\n",
    "There are other clients.  Later on we will use `pymongo` to interact with our databases from python."
   ]
  },
  {
   "cell_type": "markdown",
   "metadata": {},
   "source": [
    "## Javascript Object Notation"
   ]
  },
  {
   "cell_type": "markdown",
   "metadata": {},
   "source": [
    "Javascript Object Notation, or JSON, is a simple data storage and communication protocall.  It was designed by [Douglas Crockford](https://en.wikipedia.org/wiki/Douglas_Crockford) based on the notation Javascipt uses for objects.\n",
    "\n",
    "It is meant as a replacement to XML."
   ]
  },
  {
   "cell_type": "markdown",
   "metadata": {},
   "source": [
    "```javascript\n",
    "{\n",
    "    name: 'TwilightSparkle',\n",
    "    friends: ['Applejack', 'Fluttershy'],\n",
    "    age: 16,\n",
    "    gender: 'f',\n",
    "    wings: true,\n",
    "    horn: true,\n",
    "    residence: {\n",
    "        town: 'Ponyville',\n",
    "        address: '15 Gandolfini Lane'}\n",
    "}\n",
    "```"
   ]
  },
  {
   "cell_type": "markdown",
   "metadata": {},
   "source": [
    "It is very similar to a python dictionary literal, but you *cannot use double quotes to enclose strings*."
   ]
  },
  {
   "cell_type": "markdown",
   "metadata": {},
   "source": [
    "## Working with Mongo DB"
   ]
  },
  {
   "cell_type": "markdown",
   "metadata": {},
   "source": [
    "### MongoDB Concepts\n",
    "\n",
    "#### What's it about? \n",
    "\n",
    "* MongoDB is a document-oriented database, an alternative to RDBMS, used for storing semi-structured data.\n",
    "* JSON-like objects form the data model, rather than RDBMS tables.\n",
    "* No schema, No joins, No transactions.\n",
    "* Sub-optimal for complicated queries.\n",
    "\n",
    "#### Structure of the database.\n",
    "\n",
    "* MongoDB is made up of databases which contain collections (tables).\n",
    "* A collection is made up of documents (analogous to rows or records).\n",
    "* Each document is a JSON object made up of key-value pairs (analogous to columns).\n",
    "\n",
    "\n",
    "So a RDBMS defines columns at the table level, document oriented database defines its fields at a document level."
   ]
  },
  {
   "cell_type": "markdown",
   "metadata": {},
   "source": [
    "I created a `unicorns.json` file that can be imported into MongoDB."
   ]
  },
  {
   "cell_type": "markdown",
   "metadata": {},
   "source": [
    "```\n",
    "mongoimport --db unicorns --collection unicorns < unicorns.json\n",
    "```"
   ]
  },
  {
   "cell_type": "markdown",
   "metadata": {},
   "source": [
    "**Note**: If you are using linux, you max need to add a switch `--jsonArray`."
   ]
  },
  {
   "cell_type": "markdown",
   "metadata": {},
   "source": [
    "Now start mongo. \n",
    "\n",
    "A MongoDB contains a collection of databases, so lets check that the `unicorns` database exists."
   ]
  },
  {
   "cell_type": "markdown",
   "metadata": {
    "collapsed": true
   },
   "source": [
    "```\n",
    "> show dbs\n",
    "```"
   ]
  },
  {
   "cell_type": "markdown",
   "metadata": {},
   "source": [
    "To use the `unicorns` database, we simply do the following:"
   ]
  },
  {
   "cell_type": "markdown",
   "metadata": {},
   "source": [
    "```\n",
    "> use unicorns\n",
    "```"
   ]
  },
  {
   "cell_type": "markdown",
   "metadata": {},
   "source": [
    "A database is made of `collection`s, which are containers for the actual stored data.  A `collection` would be analagous to a `table` in a classical relational database, but can contain much more flexible data than a table."
   ]
  },
  {
   "cell_type": "markdown",
   "metadata": {},
   "source": [
    "```\n",
    "> db.getCollectionNames()\n",
    "```"
   ]
  },
  {
   "cell_type": "markdown",
   "metadata": {},
   "source": [
    "### Inserting Data\n",
    "```javascript\n",
    "db.unicorns.insert({\n",
    "    name: 'Applejack',\n",
    "    age: 15,\n",
    "    friends: ['TwilightSparkle', 'Fluttershy'],\n",
    "    wings: false,\n",
    "    horn: false\n",
    "})\n",
    "\n",
    "db.unicorns.insert({\n",
    "    name: 'Fluttershy',\n",
    "    age: 15,\n",
    "    friends: ['Applejack', 'TwilightSparkle'],\n",
    "    wings: true,\n",
    "    horn: false\n",
    "})\n",
    "                 \n",
    "```"
   ]
  },
  {
   "cell_type": "markdown",
   "metadata": {},
   "source": [
    "## Querying Data\n",
    "\n",
    "Without any arguments, `find` dumps all the data in the collection. This is like the SQL where clause. \n",
    "\n",
    "```javascript\n",
    "db.unicorns.find()\n",
    "```\n",
    "\n",
    "`find` is much more flexible.\n",
    "\n",
    "```javascript\n",
    "// find by single field\n",
    "db.unicorns.find({name: 'TwilightSparkle'})\n",
    "\n",
    "// find by presence of field\n",
    "db.unicorns.find({friends: {$exists : true}})\n",
    "\n",
    "// find by value in array\n",
    "db.unicorns.find({friends: 'TwilightSparkle'})\n",
    "\n",
    "// To return only certain fields\n",
    "// This says, return only the names of unicorns who are friends with\n",
    "// twilight sparkle.\n",
    "db.unicorns.find({friends: 'TwilightSparkle'}, {name: true})\n",
    "\n",
    "Above the first dictionary is called a selector (makes sense) and the second is a projection. \n",
    "\n",
    "Chaining criteria together above is like using AND in SQL you would use OR using the syntax below\n",
    "\n",
    "\n",
    "db.unicorns.find({gender: 'f', $or: [{loves: 'apple'}, {weight: {$lt: 500}}]})"
   ]
  },
  {
   "cell_type": "markdown",
   "metadata": {},
   "source": [
    "**Excercises**: "
   ]
  },
  {
   "cell_type": "markdown",
   "metadata": {},
   "source": [
    "<details><summary>\n",
    "Q: Find all the unicorns with wings.\n",
    "</summary>\n",
    "db.unicorns.find({'winds':true})\n",
    "</details>\n",
    "\n",
    "<details><summary>\n",
    "Q: Find only the friends of unicorns with wings\n",
    "</summary>\n",
    "db.unicorns.find({'wings':true}, {'friends':true, _id:false})\n",
    "</details>\n",
    "\n",
    "<details><summary>\n",
    "Q: Return only those with friends (no blank arrays)\n",
    "</summary>\n",
    "db.unicorns.find({'wings':true, friends:{$ne:[]}}, {'friends':true, name:true, _id:false})\n",
    "</details>\n"
   ]
  },
  {
   "cell_type": "markdown",
   "metadata": {},
   "source": [
    "## Updating Data"
   ]
  },
  {
   "cell_type": "markdown",
   "metadata": {},
   "source": [
    "```javascript\n",
    "// Replaces friends array\n",
    "db.unicorns.update({\n",
    "    name: 'TwilightSparkle'}, {\n",
    "    $set: {\n",
    "        friends: ['Shutterfly', 'Rarity', 'Applejack']}})\n",
    "\n",
    "// Adds to friends array\n",
    "db.unicorns.update({\n",
    "    name: 'Applejack'}, {\n",
    "    $push: {\n",
    "        friends: 'Rarity'}})\n",
    "```\n",
    "\n",
    "We have to use the `$set` and `$push` operators, the default behaviour of `update` is to *replace the data*.\n",
    "\n",
    "```javascript\n",
    "// Replaces the TwighlightSparkle data completely!\n",
    "// It will no longer have even a name field after this!\n",
    "db.unicorns.update({\n",
    "    name: 'TwilightSparkle'}, {\n",
    "    friends: ['Shutterfly', 'Rarity', 'Applejack']})\n",
    "```\n",
    "\n",
    "\n",
    "An `upsert` either creates a document (when it does not already exist) or inserts into an existing document.\n",
    "\n",
    "```\n",
    "// Upsert: This one is created\n",
    "db.unicorns.update({\n",
    "    name: \"Rarity\"}, {\n",
    "    $push: {\n",
    "        friends: {\n",
    "            $each: [\"TwilightSparkle\", \"Applejack\", \"Fluttershy\"]}}}, {\n",
    "    upsert: true})\n",
    "\n",
    "// Upsert: This one is updated\n",
    "db.unicorns.update({\n",
    "    name: \"Fluttershy\"}, {\n",
    "    $push: {\n",
    "        friends: {\n",
    "            $each: [\"Rarity\", \"PrincessCelestia\"]}}}, {\n",
    "    upsert: true})\n",
    "```"
   ]
  },
  {
   "cell_type": "markdown",
   "metadata": {},
   "source": [
    "**Excercise**: Enter a unicorn named RainbowDash into the database that is friends with TwilightSparkle, Rarity, and Applejack."
   ]
  },
  {
   "cell_type": "markdown",
   "metadata": {},
   "source": [
    "## Deleting Data\n",
    "\n",
    "*Don't run this one!*\n",
    "\n",
    "```javascript\n",
    "db.unicorns.remove({})\n",
    "```"
   ]
  },
  {
   "cell_type": "markdown",
   "metadata": {},
   "source": [
    "## PyMongo\n"
   ]
  },
  {
   "cell_type": "markdown",
   "metadata": {},
   "source": [
    "`pymongo` allows python to connect to and manipulate MongoDB."
   ]
  },
  {
   "cell_type": "code",
   "execution_count": null,
   "metadata": {
    "ExecuteTime": {
     "end_time": "2016-06-20T16:43:39.233966",
     "start_time": "2016-06-20T16:43:39.156749"
    },
    "collapsed": true
   },
   "outputs": [],
   "source": [
    "from pymongo import MongoClient\n",
    "import pprint"
   ]
  },
  {
   "cell_type": "code",
   "execution_count": null,
   "metadata": {
    "ExecuteTime": {
     "end_time": "2016-06-20T16:43:40.363826",
     "start_time": "2016-06-20T16:43:40.347907"
    },
    "collapsed": true
   },
   "outputs": [],
   "source": [
    "# Connect to the hosted MongoDB instance\n",
    "client = MongoClient('mongodb://localhost:27017/')"
   ]
  },
  {
   "cell_type": "code",
   "execution_count": null,
   "metadata": {
    "ExecuteTime": {
     "end_time": "2016-06-20T16:43:42.583968",
     "start_time": "2016-06-20T16:43:42.572067"
    },
    "collapsed": true
   },
   "outputs": [],
   "source": [
    "db = client.unicorns"
   ]
  },
  {
   "cell_type": "code",
   "execution_count": null,
   "metadata": {
    "ExecuteTime": {
     "end_time": "2016-06-20T16:43:44.037973",
     "start_time": "2016-06-20T16:43:44.027177"
    },
    "collapsed": true
   },
   "outputs": [],
   "source": [
    "# Create a collection called unicorn\n",
    "unicorns = db.unicorns"
   ]
  },
  {
   "cell_type": "code",
   "execution_count": null,
   "metadata": {
    "ExecuteTime": {
     "end_time": "2016-06-20T16:43:45.358598",
     "start_time": "2016-06-20T16:43:45.298820"
    }
   },
   "outputs": [],
   "source": [
    "unicorns.insert_one({\n",
    "    'name': 'RainbowDash', \n",
    "    'age': 16, \n",
    "    'friends': ['TwilightSparkle', 'Applejack', 'Rarity']})"
   ]
  },
  {
   "cell_type": "code",
   "execution_count": null,
   "metadata": {
    "ExecuteTime": {
     "end_time": "2016-06-20T16:43:51.364472",
     "start_time": "2016-06-20T16:43:51.323466"
    }
   },
   "outputs": [],
   "source": [
    "unicorns.find().count()"
   ]
  },
  {
   "cell_type": "code",
   "execution_count": null,
   "metadata": {
    "ExecuteTime": {
     "end_time": "2016-06-20T16:43:56.025399",
     "start_time": "2016-06-20T16:43:55.979764"
    }
   },
   "outputs": [],
   "source": [
    "print(unicorns.find_one())"
   ]
  },
  {
   "cell_type": "code",
   "execution_count": null,
   "metadata": {
    "ExecuteTime": {
     "end_time": "2016-06-20T16:43:58.146325",
     "start_time": "2016-06-20T16:43:58.115367"
    }
   },
   "outputs": [],
   "source": [
    "rarity = unicorns.find_one({'name': 'Rarity'})\n",
    "pprint.pprint(rarity)"
   ]
  },
  {
   "cell_type": "markdown",
   "metadata": {},
   "source": [
    "The same selector strategies can be used for more complex queries in `pymongo`"
   ]
  },
  {
   "cell_type": "code",
   "execution_count": null,
   "metadata": {},
   "outputs": [],
   "source": [
    "friend_of_twilight = unicorns.find_one({'friends': 'TwilightSparkle'})\n",
    "pprint.pprint(friend_of_twilight)"
   ]
  },
  {
   "cell_type": "markdown",
   "metadata": {},
   "source": [
    "To get multiple results back, use `find`, which returns an iterator."
   ]
  },
  {
   "cell_type": "code",
   "execution_count": null,
   "metadata": {},
   "outputs": [],
   "source": [
    "friends_of_twilight = unicorns.find({'friends': 'TwilightSparkle'})\n",
    "for friend in friends_of_twilight:\n",
    "    pprint.pprint(friend)"
   ]
  },
  {
   "cell_type": "code",
   "execution_count": null,
   "metadata": {},
   "outputs": [],
   "source": [
    "young_unicorns = unicorns.find({'age': {'$lt': 16}})\n",
    "for unicorn in young_unicorns[:2]:\n",
    "    pprint.pprint(unicorn)"
   ]
  },
  {
   "cell_type": "markdown",
   "metadata": {},
   "source": [
    "**Exercise:** Find all the unicorns that have a horn and wings."
   ]
  },
  {
   "cell_type": "code",
   "execution_count": null,
   "metadata": {},
   "outputs": [],
   "source": [
    "unicorns.find({})"
   ]
  },
  {
   "cell_type": "code",
   "execution_count": null,
   "metadata": {
    "collapsed": true
   },
   "outputs": [],
   "source": [
    "young_unicorns = unicorns.find({'age': {'$lt': 16}})"
   ]
  },
  {
   "cell_type": "markdown",
   "metadata": {},
   "source": [
    "### Aggregations are not something you will do a ton of while working in Mongo, but here is an example"
   ]
  },
  {
   "cell_type": "code",
   "execution_count": null,
   "metadata": {
    "collapsed": true
   },
   "outputs": [],
   "source": [
    "popular_unicorns = unicorns.aggregate(\n",
    "[\n",
    " {'$project': {\n",
    "    'name': 1,\n",
    "    'numberOfFriends': { \n",
    "        '$size': \"$friends\" \n",
    "                        }\n",
    "               }\n",
    " }\n",
    "])"
   ]
  },
  {
   "cell_type": "code",
   "execution_count": null,
   "metadata": {},
   "outputs": [],
   "source": [
    "for row in popular_unicorns:\n",
    "    print(row)"
   ]
  },
  {
   "cell_type": "markdown",
   "metadata": {},
   "source": [
    "# Afternoon: Web Scraping using requests and BeautifulSoup"
   ]
  },
  {
   "cell_type": "markdown",
   "metadata": {},
   "source": [
    "## HTML Concepts"
   ]
  },
  {
   "cell_type": "markdown",
   "metadata": {},
   "source": [
    "**H**yper**T**ext **M**arkup **L**anguage\n",
    "\n",
    "A *markup language* (think markdown) that forms the building blocks of all websites.  Controls what to say and where to say it, along with some semantic meaning (this is a section, this is a list, this part is emphasised).\n",
    "\n",
    "Consists of tags enclosed in angle brackets (like `<html>`)"
   ]
  },
  {
   "cell_type": "markdown",
   "metadata": {},
   "source": [
    "A minimal HTML document, unfortuantely, contains a lot of cruft.  Here's one I got from [https://www.sitepoint.com/a-minimal-html-document/](https://www.sitepoint.com/a-minimal-html-document/).\n",
    "\n",
    "\n",
    "```html\n",
    "<!DOCTYPE html PUBLIC \"-//W3C//DTD HTML 4.01//EN\"\n",
    "    \"http://www.w3.org/TR/html4/strict.dtd\">\n",
    "<html lang=\"en\">\n",
    "  <head>\n",
    "  \n",
    "    <meta http-equiv=\"content-type\" content=\"text/html; charset=utf-8\">\n",
    "    <title>title</title>\n",
    "    <link rel=\"stylesheet\" type=\"text/css\" href=\"style.css\">\n",
    "    <script type=\"text/javascript\" src=\"script.js\"></script>\n",
    "  </head>\n",
    "  <body>\n",
    "\t\t\n",
    "  </body>\n",
    "</html>\n",
    "```"
   ]
  },
  {
   "cell_type": "markdown",
   "metadata": {},
   "source": [
    "The `<link>` and `<script>` tags are not strictly necessary, but will appear in more or less every HTML document.\n",
    "\n",
    "* The `<link>` tag points to a **stylesheet**, which controls who different parts of the docuemnt are rendered in the browser.  This makes things pretty.\n",
    "* The `<script>` tag points to a **javascript** program.  This allows programmers to add *dynamic behaviour* to a html document.\n",
    "* The `<body>` tag contains the guts of your document."
   ]
  },
  {
   "cell_type": "markdown",
   "metadata": {},
   "source": [
    "### Important Tags\n",
    "\n",
    "```html\n",
    "<div>Defines a division or section of the docuemnt.</div>\n",
    "<a href=\"http://www.w3schools.com\">A Gyperlink to W3Schools.com!</a>\n",
    "\n",
    "<h1>This is a header!</h1>\n",
    "\n",
    "<p>This is a paragraph!</p>\n",
    "\n",
    "<h2>This is a Subheading!</h2>\n",
    "\n",
    "<table>\n",
    "  This is a table!\n",
    "  <tr>\n",
    "    <td>An entry in the first row.</td>\n",
    "    \n",
    "    <td>Another entry in the first row.</td>\n",
    "  </tr>\n",
    "  <tr>\n",
    "    <td>An entry in the second row.</td>\n",
    "    <td>Another entry in the second row.</td>\n",
    "  </tr>\n",
    "</table>\n",
    "\n",
    "<ul>\n",
    "  This is a list!\n",
    "  <li>This is the first thing in the list!</li>\n",
    "  <li>This is the second thing in the list!</li>\n",
    "</ul>\n",
    "```"
   ]
  },
  {
   "cell_type": "markdown",
   "metadata": {},
   "source": [
    "I saved the HTML document described above as `basic.html`."
   ]
  },
  {
   "cell_type": "markdown",
   "metadata": {},
   "source": [
    "## Web vs Internet\n",
    "\n",
    "The web or www or (World Wide Web), is different from Internet.  You can think of the web as collection of islands and internet as bridges connecting the islands.\n",
    "\n",
    "I.e. the web is a collection of *content* and the internet is the *infastructure for accessing and distributing* this content.\n",
    "\n",
    "HTTP is the language of the Web.  Data on the web is distributed as HTTP documents."
   ]
  },
  {
   "cell_type": "markdown",
   "metadata": {},
   "source": [
    "## HTTP Requests\n",
    "\n",
    "To get data from the web, you need to make a HTTP request.  The two most important request types are:\n",
    "\n",
    "* GET (queries data, no data is *sent*)\n",
    "* POST (updates data, *data must be sent*)\n",
    "\n",
    "`curl` is a command line program for sending HTTP requests.  It's easy to send a `GET` request to a url."
   ]
  },
  {
   "cell_type": "code",
   "execution_count": null,
   "metadata": {},
   "outputs": [],
   "source": [
    "!curl http://madrury.github.io"
   ]
  },
  {
   "cell_type": "markdown",
   "metadata": {},
   "source": [
    "## Scraping"
   ]
  },
  {
   "cell_type": "markdown",
   "metadata": {},
   "source": [
    "Web Scraping is the process of programatically getting data from the web."
   ]
  },
  {
   "cell_type": "markdown",
   "metadata": {},
   "source": [
    "<img src=\"images/pipeline.png\" width = 500>"
   ]
  },
  {
   "cell_type": "markdown",
   "metadata": {},
   "source": [
    "### Example: Load table into a data frame.\n",
    "\n",
    "Lets load the Super Metroid speedrun leaderboards at [Deer Tier](http://deertier.com/Leaderboard/AnyPercentRealTime) into a Mongo database, and then load this database into a pandas data frame."
   ]
  },
  {
   "cell_type": "code",
   "execution_count": null,
   "metadata": {
    "collapsed": true
   },
   "outputs": [],
   "source": [
    "import warnings\n",
    "warnings.filterwarnings('ignore')"
   ]
  },
  {
   "cell_type": "code",
   "execution_count": null,
   "metadata": {
    "collapsed": true
   },
   "outputs": [],
   "source": [
    "import copy\n",
    "import pandas as pd\n",
    "\n",
    "# Requests sends and recieves HTTP requests.\n",
    "import requests\n",
    "\n",
    "# Beautiful Soup parses HTML documents in python.\n",
    "from bs4 import BeautifulSoup"
   ]
  },
  {
   "cell_type": "markdown",
   "metadata": {},
   "source": [
    "#### Step 1: Check out the website in a browser."
   ]
  },
  {
   "cell_type": "markdown",
   "metadata": {},
   "source": [
    "The first step is to check out the website in a browser.\n",
    "\n",
    "Open the `Developer Tools` to get a useful display of the hypertext we will be working with.\n",
    "\n",
    "The table we will need is inside a `<div>` with `class=scoreTable`.  Looking closely the structure is like this:\n",
    "\n",
    "```\n",
    "<div class=scoreTable>\n",
    "  <table>\n",
    "    <tr>..</tr>\n",
    "    ...\n",
    "    <tr>...</tr>\n",
    "  </table>\n",
    "</div>\n",
    "```\n",
    "\n",
    "Each row has a `title` attribute that contains some interesting data:\n",
    "\n",
    "```\n",
    "<tr title=\"Submitted by Oatsngoats on: 19/10/2016\">\n",
    "```\n",
    "\n",
    "Inside each row, the columns have the following data:\n",
    "\n",
    "```\n",
    "rank, player, time, video url, comment\n",
    "```\n",
    "\n",
    "This should be enough infomation for us to get to scraping."
   ]
  },
  {
   "cell_type": "markdown",
   "metadata": {},
   "source": [
    "#### Step 2: Send a GET request for the data."
   ]
  },
  {
   "cell_type": "code",
   "execution_count": null,
   "metadata": {
    "collapsed": true
   },
   "outputs": [],
   "source": [
    "deer_tier_url = 'http://deertier.com/Leaderboard/AnyPercentRealTime'\n",
    "r = requests.get(deer_tier_url)"
   ]
  },
  {
   "cell_type": "markdown",
   "metadata": {},
   "source": [
    "A status code of `200` means that everything went well."
   ]
  },
  {
   "cell_type": "code",
   "execution_count": null,
   "metadata": {},
   "outputs": [],
   "source": [
    "r.status_code"
   ]
  },
  {
   "cell_type": "markdown",
   "metadata": {},
   "source": [
    "We can check out the raw hypertext in the `content` attribute of the request."
   ]
  },
  {
   "cell_type": "code",
   "execution_count": null,
   "metadata": {},
   "outputs": [],
   "source": [
    "r.content"
   ]
  },
  {
   "cell_type": "markdown",
   "metadata": {},
   "source": [
    "#### Step 3: Save all the hypertext into mongo for later use."
   ]
  },
  {
   "cell_type": "code",
   "execution_count": null,
   "metadata": {},
   "outputs": [],
   "source": [
    "client = MongoClient('mongodb://localhost:27017/')\n",
    "db = client.metroid\n",
    "pages = db.pages\n",
    "\n",
    "pages.insert_one({'html': r.content})"
   ]
  },
  {
   "cell_type": "markdown",
   "metadata": {},
   "source": [
    "#### Step 4: Parse the hypertext with BeautifulSoup."
   ]
  },
  {
   "cell_type": "markdown",
   "metadata": {},
   "source": [
    "This is the beautiful part of the soup.  Parsing the HTML into a python object is effortless."
   ]
  },
  {
   "cell_type": "code",
   "execution_count": null,
   "metadata": {
    "collapsed": true
   },
   "outputs": [],
   "source": [
    "soup = BeautifulSoup(r.content, \"lxml\")"
   ]
  },
  {
   "cell_type": "code",
   "execution_count": null,
   "metadata": {},
   "outputs": [],
   "source": [
    "print(soup.prettify())"
   ]
  },
  {
   "cell_type": "code",
   "execution_count": null,
   "metadata": {},
   "outputs": [],
   "source": [
    "print soup.title"
   ]
  },
  {
   "cell_type": "markdown",
   "metadata": {},
   "source": [
    "#### Step 5: Navigate the data to pull out the table information."
   ]
  },
  {
   "cell_type": "markdown",
   "metadata": {},
   "source": [
    "Recall the structure of the table we are looking for:\n",
    "\n",
    "```\n",
    "<div class=scoreTable>\n",
    "  <table>\n",
    "    <tr>..</tr>\n",
    "    ...\n",
    "    <tr>...</tr>\n",
    "  </table>\n",
    "</div>\n",
    "```"
   ]
  },
  {
   "cell_type": "code",
   "execution_count": null,
   "metadata": {
    "collapsed": true
   },
   "outputs": [],
   "source": [
    "div = soup.find(\"div\", {\"class\": \"scoreTable\"})\n",
    "table = div.find(\"table\")\n",
    "\n",
    "# This returns an iterator over the rows in the table.\n",
    "rows = table.find_all(\"tr\")\n",
    "\n",
    "all_rows = []\n",
    "\n",
    "# Let's store each row as a dictionary \n",
    "empty_row = {\n",
    "    \"rank\": None, \"player\": None, \"time\": None, \"comment\": None\n",
    "}\n",
    "\n",
    "# The first row contains header information, so we are skipping it.\n",
    "for row in rows[1:]:\n",
    "    new_row = copy.copy(empty_row)\n",
    "    # A list of all the entries in the row.\n",
    "    columns = row.find_all(\"td\")\n",
    "    new_row['rank'] = int(columns[0].text.strip())\n",
    "    new_row['player'] = columns[1].text.strip()\n",
    "    new_row['time'] = columns[2].text.strip()\n",
    "    new_row['comment'] = columns[4].text.strip()\n",
    "    all_rows.append(new_row)    "
   ]
  },
  {
   "cell_type": "code",
   "execution_count": null,
   "metadata": {},
   "outputs": [],
   "source": [
    "pprint.pprint(all_rows[:4])"
   ]
  },
  {
   "cell_type": "markdown",
   "metadata": {},
   "source": [
    "#### Step 6: Load all the rows into a Mongo database."
   ]
  },
  {
   "cell_type": "markdown",
   "metadata": {},
   "source": [
    "Since we collected all the rows into python dictionaries, this is easy."
   ]
  },
  {
   "cell_type": "code",
   "execution_count": null,
   "metadata": {
    "collapsed": true
   },
   "outputs": [],
   "source": [
    "db = client.metroid"
   ]
  },
  {
   "cell_type": "code",
   "execution_count": null,
   "metadata": {
    "collapsed": true
   },
   "outputs": [],
   "source": [
    "deer_tier = db.deer_tier"
   ]
  },
  {
   "cell_type": "code",
   "execution_count": null,
   "metadata": {
    "collapsed": true
   },
   "outputs": [],
   "source": [
    "for row in all_rows:\n",
    "    deer_tier.insert_one(row)"
   ]
  },
  {
   "cell_type": "markdown",
   "metadata": {},
   "source": [
    "Now we can check from the command line that the data is really in there!"
   ]
  },
  {
   "cell_type": "markdown",
   "metadata": {},
   "source": [
    "#### Step 7: Load all the rows into a pandas dataframe."
   ]
  },
  {
   "cell_type": "markdown",
   "metadata": {},
   "source": [
    "Even though there is no real reason to, let's load all the rows from the Mongo database just to give a more thorough example of how you can go about things."
   ]
  },
  {
   "cell_type": "code",
   "execution_count": null,
   "metadata": {
    "collapsed": true
   },
   "outputs": [],
   "source": [
    "rows = deer_tier.find()\n",
    "super_metroid_times = pd.DataFrame(list(rows))"
   ]
  },
  {
   "cell_type": "code",
   "execution_count": null,
   "metadata": {},
   "outputs": [],
   "source": [
    "super_metroid_times.head()"
   ]
  },
  {
   "cell_type": "code",
   "execution_count": null,
   "metadata": {},
   "outputs": [],
   "source": [
    "super_metroid_times = super_metroid_times.drop(\"_id\", axis=1)\n",
    "super_metroid_times = super_metroid_times.set_index(\"rank\")\n",
    "super_metroid_times.head()"
   ]
  },
  {
   "cell_type": "markdown",
   "metadata": {},
   "source": [
    "Goal Achieved!"
   ]
  },
  {
   "cell_type": "markdown",
   "metadata": {
    "collapsed": true
   },
   "source": [
    "<details><summary>\n",
    "Q: **Large-ish Exercise**: Scrape the leaderboads for [Ocarana of Time](http://zeldaspeedruns.com/leaderboards/oot/any) into a dataframe.?\n",
    "</summary>\n",
    "```\n",
    "zelda_url = 'http://zeldaspeedruns.com/leaderboards/oot/any'\n",
    "rz = requests.get(zelda_url)\n",
    "\n",
    "soup = BeautifulSoup(rz.content, \"lxml\")\n",
    "\n",
    "#All of these below are equivalent for searching\n",
    "tab = soup.find(\"table\", class_='runs table')\n",
    "#tab = soup.find(\"table\")\n",
    "#tab = soup.find(\"table\", {\"class\":'runs table'})\n",
    "\n",
    "# This returns an iterator over the rows in the table.\n",
    "rows = tab.find_all(\"tr\")\n",
    "\n",
    "all_rows = []\n",
    "\n",
    "# Let's store each row as a dictionary \n",
    "empty_row = {\n",
    "    \"rank\": None, \n",
    "    \"player\": None, \n",
    "    \"time\": None, \n",
    "    \"version\": None,\n",
    "    \"date\": None,\n",
    "    \"status\": None,\n",
    "}\n",
    "\n",
    "# The first row contains header information, so we are skipping it.\n",
    "for row in rows[1:]:\n",
    "    new_row = copy.copy(empty_row)\n",
    "    # A list of all the entries in the row.\n",
    "    columns = row.find_all(\"td\")\n",
    "    new_row['rank'] = int(columns[0].text.strip())\n",
    "    new_row['player'] = columns[1].text.strip()\n",
    "    new_row['time'] = columns[2].text.strip()\n",
    "    new_row['version'] = columns[3].text.strip()\n",
    "    new_row['date'] = columns[4].text.strip()\n",
    "    new_row['comment'] = columns[5].text.strip()\n",
    "    all_rows.append(new_row)  \n",
    "    ```\n",
    "</details>"
   ]
  },
  {
   "cell_type": "markdown",
   "metadata": {},
   "source": [
    "## Example: Use a web API to scrape Brewery Location"
   ]
  },
  {
   "cell_type": "markdown",
   "metadata": {},
   "source": [
    "I used this API programatically collect dat for a beery recommendation engine.  This service is *designed* for programmers to interact with.\n",
    "\n",
    "[Brewery Map API Documentation](https://beermapping.com/api/)\n",
    "\n",
    "[Yelp API](https://www.yelp.com/developers/documentation/v2/search_api)\n",
    "\n",
    "A high level summary of the documentation:"
   ]
  },
  {
   "cell_type": "markdown",
   "metadata": {},
   "source": [
    "#### Step 1: Get the Data"
   ]
  },
  {
   "cell_type": "code",
   "execution_count": null,
   "metadata": {
    "collapsed": true
   },
   "outputs": [],
   "source": [
    "import json\n",
    "import re\n",
    "import requests\n",
    "from bs4 import BeautifulSoup\n",
    "from collections import defaultdict"
   ]
  },
  {
   "cell_type": "markdown",
   "metadata": {},
   "source": [
    "Notice a few things about the function below:\n",
    "     - We need to pass a key to get info back\n",
    "     - We specify the criteria of the query in the URL"
   ]
  },
  {
   "cell_type": "code",
   "execution_count": null,
   "metadata": {
    "collapsed": true
   },
   "outputs": [],
   "source": [
    "#Do NOT do this, and make sure not to push this to GitHub\n",
    "API_KEY = 'a670f41f909ce02de585b95a55fb8e9a'\n",
    "\n",
    "http://beermapping.com/webservice/loccity/a670f41f909ce02de585b95a55fb8e9a/phoenix,az\n",
    "\n",
    "def breweries_near_me(citystate):\n",
    "    \"\"\"Function to query the beermapping.com API for brewerys need a given city, state\n",
    "    \n",
    "        Input(str): A string of the city and state in the format phoenix,az\n",
    "        \n",
    "        Output(dict): returns a dictionary with a \n",
    "            key 'brewery_results' and v\n",
    "            value: a list of dictionaries of brewery specific info\n",
    "    \n",
    "    \"\"\"\n",
    "    #Create default dict for results from the API\n",
    "    brewery_ratings = []\n",
    "    \n",
    "    #Format input for API consumption\n",
    "    form_city_state = citystate.lower().replace(' ','')\n",
    "    \n",
    "    #Make a call to the beer mapping API for the user specified city, st.\n",
    "    breweries_content = requests.get('http://beermapping.com/webservice/loccity/{}/{}'.format(API_KEY, \n",
    "                                                                                              form_city_state))\n",
    "\n",
    "    #Make soup specific object from request API\n",
    "    content = BeautifulSoup(breweries_content.content, 'html.parser')\n",
    "    \n",
    "    #Iterate through all results from the API request\n",
    "    for brew_name, brew_id, status, zip_, phone in zip(content.findAll('name'), \\\n",
    "                                                       content.findAll('id'), \\\n",
    "                                                       content.findAll('status'), \\\n",
    "                                                       content.findAll('zip'), \\\n",
    "                                                       content.findAll('phone')):\n",
    "\n",
    "        #Skip beer store results to only return brewery information\n",
    "        if status.string != 'Beer Store':\n",
    "            temp_dict = dict()\n",
    "            temp_dict['name'] = brew_name.string\n",
    "            temp_dict['phone'] = phone.string\n",
    "            temp_dict['zip'] = zip_.string\n",
    "            temp_dict['rating'] = brew_rating(brew_id.string)\n",
    "            brewery_ratings.append(temp_dict)\n",
    "        else:\n",
    "            pass\n",
    "        \n",
    "    return brewery_ratings\n",
    "\n",
    "\n",
    "def brew_rating(brewery_id):\n",
    "    \"\"\"Helper function to breweries_near_me\n",
    "    \n",
    "    \n",
    "        Input(str): Brewery ID\n",
    "        \n",
    "        Output(dict): various ratings associated with the user defined brewery\n",
    "    \"\"\"\n",
    "    rating_dict = {}\n",
    "    \n",
    "    brew_rating = requests.get('http://beermapping.com/webservice/locscore/{}/{}'.format(API_KEY,\n",
    "                                                                                         brewery_id))\n",
    "    content = BeautifulSoup(brew_rating.content, 'html.parser')\n",
    "    rating_dict['overall'] = content.find('overall').string\n",
    "    rating_dict['selection'] = content.find('selection').string\n",
    "    rating_dict['service'] = content.find('service').string\n",
    "    rating_dict['atmosphere'] = content.find('atmosphere').string\n",
    "    rating_dict['food'] = content.find('food').string\n",
    "    rating_dict['reviewcount'] = content.find('reviewcount').string\n",
    "    \n",
    "    return rating_dict"
   ]
  },
  {
   "cell_type": "code",
   "execution_count": null,
   "metadata": {
    "collapsed": true
   },
   "outputs": [],
   "source": [
    "brewery_list = breweries_near_me('phoenix,az')"
   ]
  },
  {
   "cell_type": "markdown",
   "metadata": {},
   "source": [
    "#### Step 2: Store the Data in MongoDB"
   ]
  },
  {
   "cell_type": "code",
   "execution_count": null,
   "metadata": {
    "collapsed": true
   },
   "outputs": [],
   "source": [
    "# import MongoDB modules\n",
    "from pymongo import MongoClient\n",
    "#from bson.objectid import ObjectId\n",
    "\n",
    "# connect to the hosted MongoDB instance\n",
    "client = MongoClient('mongodb://localhost:27017/')\n",
    "db = client.beer_db"
   ]
  },
  {
   "cell_type": "code",
   "execution_count": null,
   "metadata": {
    "collapsed": true
   },
   "outputs": [],
   "source": [
    "collection = db.breweries"
   ]
  },
  {
   "cell_type": "code",
   "execution_count": null,
   "metadata": {
    "collapsed": true
   },
   "outputs": [],
   "source": []
  },
  {
   "cell_type": "code",
   "execution_count": null,
   "metadata": {
    "collapsed": true
   },
   "outputs": [],
   "source": [
    "for brewery in brewery_list:\n",
    "\n",
    "    if not collection.find_one(brewery['name']):\n",
    "        collection.insert_one(brewery)"
   ]
  },
  {
   "cell_type": "code",
   "execution_count": null,
   "metadata": {},
   "outputs": [],
   "source": [
    "for pub in collection.find():\n",
    "    print(pub)"
   ]
  },
  {
   "cell_type": "code",
   "execution_count": null,
   "metadata": {
    "collapsed": true
   },
   "outputs": [],
   "source": [
    "zelda_url = 'http://zeldaspeedruns.com/leaderboards/oot/any'\n",
    "rz = requests.get(zelda_url)\n",
    "\n",
    "soup = BeautifulSoup(rz.content, \"lxml\")\n",
    "\n",
    "#All of these below are equivalent for searching\n",
    "tab = soup.find(\"table\", class_='runs table')\n",
    "#tab = soup.find(\"table\")\n",
    "#tab = soup.find(\"table\", {\"class\":'runs table'})\n",
    "\n",
    "# This returns an iterator over the rows in the table.\n",
    "rows = tab.find_all(\"tr\")\n",
    "\n",
    "all_rows = []\n",
    "\n",
    "# Let's store each row as a dictionary \n",
    "empty_row = {\n",
    "    \"rank\": None, \n",
    "    \"player\": None, \n",
    "    \"time\": None, \n",
    "    \"version\": None,\n",
    "    \"date\": None,\n",
    "    \"status\": None,\n",
    "}\n",
    "\n",
    "# The first row contains header information, so we are skipping it.\n",
    "for row in rows[1:]:\n",
    "    new_row = copy.copy(empty_row)\n",
    "    # A list of all the entries in the row.\n",
    "    columns = row.find_all(\"td\")\n",
    "    new_row['rank'] = int(columns[0].text.strip())\n",
    "    new_row['player'] = columns[1].text.strip()\n",
    "    new_row['time'] = columns[2].text.strip()\n",
    "    new_row['version'] = columns[3].text.strip()\n",
    "    new_row['date'] = columns[4].text.strip()\n",
    "    new_row['comment'] = columns[5].text.strip()\n",
    "    all_rows.append(new_row)  "
   ]
  },
  {
   "cell_type": "code",
   "execution_count": null,
   "metadata": {
    "collapsed": true
   },
   "outputs": [],
   "source": [
    "import requests\n",
    "import json"
   ]
  },
  {
   "cell_type": "code",
   "execution_count": null,
   "metadata": {},
   "outputs": [],
   "source": [
    "import requests\n",
    "\n",
    "client_id = 'i7qXEh7xelvV5FXt_n5wnA'\n",
    "client_secret = 'WsjCqbcuBGtCL0cLBZWd2p5eOaXZu6B8d5yVPqY5PMxX4kp4GWkevYHG06o30XJK'\n",
    "\n",
    "token = requests.post(\"https://api.yelp.com/oauth2/token\", data={'client_id': client_id, \n",
    "                                                                 'client_secret': client_secret})\n",
    "\n",
    "access_token = token.json()['access_token']\n",
    "\n",
    "url = 'https://api.yelp.com/v3/businesses/search'\n",
    "headers = {'Authorization': 'bearer {}'.format(access_token)}\n",
    "params = {'location': 'sf', \n",
    "          'category_filter':'gastropubs'\n",
    "         }\n",
    "\n",
    "resp = requests.get(url=url, params=params, headers=headers)\n",
    "\n",
    "import pprint\n",
    "pprint.pprint(resp.json()['businesses'])"
   ]
  }
 ],
 "metadata": {
  "kernelspec": {
   "display_name": "Python 2",
   "language": "python",
   "name": "python2"
  },
  "language_info": {
   "codemirror_mode": {
    "name": "ipython",
    "version": 2
   },
   "file_extension": ".py",
   "mimetype": "text/x-python",
   "name": "python",
   "nbconvert_exporter": "python",
   "pygments_lexer": "ipython2",
   "version": "2.7.13"
  }
 },
 "nbformat": 4,
 "nbformat_minor": 1
}
