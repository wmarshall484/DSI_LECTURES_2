{
 "cells": [
  {
   "cell_type": "markdown",
   "metadata": {},
   "source": [
    "# Web Scraping and HTML Concepts\n"
   ]
  },
  {
   "cell_type": "markdown",
   "metadata": {},
   "source": [
    "### Morning Objectives:\n",
    "* *Understand* the basic structure of a web site (HTML & CSS), and how data is exchanged (JSON).\n",
    "* *Learn* what HTTP requests are and how to execute them in Python\n",
    "* *Practice* how to write code to pull elements from a web page using BeautifulSoup.\n",
    "* *Use* an existing API to fetch data and parse using BeautifulSoup.\n",
    "\n",
    "### Afternoon Objectives:\n",
    "* *Install* `mongo` and `pymongo`.\n",
    "* *Compare and Contrast* SQL and noSQL.\n",
    "* *Perform* basic operations using Mongo.\n",
    "* *Translate* smoothly between Javascript-based CLI commands and pymongo"
   ]
  },
  {
   "cell_type": "markdown",
   "metadata": {},
   "source": [
    "## Resources\n",
    "\n",
    "* [Precourse-Web Awareness](https://github.com/zipfian/precourse/tree/master/Chapter_8_Web_Awareness)\n",
    "* [The Little MongoDB Book](http://openmymind.net/mongodb.pdf)\n",
    "* [w3 schools](http://www.w3schools.com/) : HTML tags and their attributes.\n",
    "* [PyMongo tutorial](http://api.mongodb.org/python/current/tutorial.html)\n",
    "* [BeautifulSoup Documentation](http://www.crummy.com/software/BeautifulSoup/bs4/doc/)\n",
    "* [Scrape anonymously with Tor](https://deshmukhsuraj.wordpress.com/2015/03/08/anonymous-web-scraping-using-python-and-tor/)"
   ]
  },
  {
   "cell_type": "markdown",
   "metadata": {},
   "source": [
    "## Web Concepts"
   ]
  },
  {
   "cell_type": "markdown",
   "metadata": {},
   "source": [
    "#### Web vs Internet\n",
    "\n",
    "The web or www or (World Wide Web), is different from the Internet.  The web is a collection of *content* and the Internet is the *infastructure for accessing and distributing* this content.\n",
    "\n",
    "HTTP is the language of the Web.  Data on the web is distributed as HTTP documents, which can contain HTML or other types of data."
   ]
  },
  {
   "cell_type": "markdown",
   "metadata": {},
   "source": [
    "#### **H**yper**T**ext **M**arkup **L**anguage\n",
    "\n",
    "A *markup language* (think Markdown) that forms the building blocks of all websites.  Codifies the content and structure of a web page.\n",
    "\n",
    "Consists of tags enclosed in angle brackets (like `<html>`)"
   ]
  },
  {
   "cell_type": "markdown",
   "metadata": {},
   "source": [
    "A minimal HTML document:\n",
    "\n",
    "```html\n",
    "<html lang=\"en\">\n",
    "  <head>\n",
    "    <title>My Web Site</title>\n",
    "    <link rel=\"stylesheet\" type=\"text/css\" href=\"style.css\">\n",
    "    <script type=\"text/javascript\" src=\"script.js\"></script>\n",
    "  </head>\n",
    "  <body>\n",
    "\tThis is my web site\n",
    "  </body>\n",
    "</html>\n",
    "```"
   ]
  },
  {
   "cell_type": "markdown",
   "metadata": {},
   "source": [
    "The `<link>` and `<script>` tags are not strictly necessary, but will appear in more or less every HTML document.\n",
    "\n",
    "* The `<link>` tag points to a **stylesheet**, which controls how the document is displayed in the browser.\n",
    "* The `<script>` tag points to a **javascript** program.  This allows programmers to add *dynamic behavior* to a html document.\n",
    "* The `<body>` tag contains the actual contents of your site which are displayed to the user."
   ]
  },
  {
   "cell_type": "markdown",
   "metadata": {},
   "source": [
    "### The Language of the Web\n",
    "\n",
    "Communication over the web is governed by the [Hyper-Text Transfer Protocol (HTTP)](https://www.w3.org/Protocols/rfc2616/rfc2616.html).  A client (such as a web browser acting on your behalf) makes a request to a server, and then receives a response.\n",
    "\n",
    "###### An Example HTTP Request\n",
    "\n",
    "![HTTP Request](img/httprequest.jpg)\n",
    "\n",
    "###### An Example HTTP Response\n",
    "\n",
    "![HTTP Response](img/httpresponse.jpg)"
   ]
  },
  {
   "cell_type": "markdown",
   "metadata": {},
   "source": [
    "#### Requests:  \n",
    "\n",
    "There are several different types of requests, but the most common ones are GET and POST [(see here for more)](https://developer.mozilla.org/en-US/docs/Web/HTTP/Methods).\n",
    "\n",
    "* GET asks the server to send you some resource (usually a web page)\n",
    "* POST provides the server some information (like a username & password) for a contextual resource\n",
    "\n",
    "The main difference between these two is that a POST request has a template it must conform to, or it will be rejected.  The template is defined by the API (Application Programming Interface) being used.\n",
    "\n",
    "#### Responses:  \n",
    "\n",
    "You may have noticed the first line of the response contains a status code.  There are a few status codes you should be familiar with [(see here for more)](https://www.w3.org/Protocols/rfc2616/rfc2616-sec10.html):\n",
    "\n",
    "* 200 - Everything is good\n",
    "* 400 - Your POST request body was probably missing / not formatted correctly\n",
    "* 401 - You need to authenticate for this request to be allowed\n",
    "* 404 - The server couldn't find what you were looking for\n",
    "* 405 - You used the wrong HTTP request type (GET/POST/etc)"
   ]
  },
  {
   "cell_type": "markdown",
   "metadata": {},
   "source": [
    "### HTTP In Action\n",
    "\n",
    "Let's visit a website!  How about the site I made for my capstone, http://www.ambient-insights.live\n",
    "\n",
    "You can also visit it from the command line:"
   ]
  },
  {
   "cell_type": "code",
   "execution_count": 19,
   "metadata": {},
   "outputs": [
    {
     "name": "stdout",
     "output_type": "stream",
     "text": [
      "<!DOCTYPE html>\n",
      "<html lang=\"en\">\n",
      "\n",
      "  <head>\n",
      "    <!-- Global Site Tag (gtag.js) - Google Analytics -->\n",
      "    <script async src=\"https://www.googletagmanager.com/gtag/js?id=UA-106760358-1\"></script>\n",
      "    <script>\n",
      "      window.dataLayer = window.dataLayer || [];\n",
      "      function gtag(){dataLayer.push(arguments)};\n",
      "      gtag('js', new Date());\n",
      "\n",
      "      gtag('config', 'UA-106760358-1');\n",
      "    </script>\n",
      "\n",
      "<!-- Google Tag Manager -->\n",
      "<script>(function(w,d,s,l,i){w[l]=w[l]||[];w[l].push({'gtm.start':\n",
      "new Date().getTime(),event:'gtm.js'});var f=d.getElementsByTagName(s)[0],\n",
      "j=d.createElement(s),dl=l!='dataLayer'?'&l='+l:'';j.async=true;j.src=\n",
      "'https://www.googletagmanager.com/gtm.js?id='+i+dl;f.parentNode.insertBefore(j,f);\n",
      "})(window,document,'script','dataLayer','GTM-N5QWFGW');</script>\n",
      "<!-- End Google Tag Manager -->\n",
      "\n",
      "    <meta charset=\"utf-8\">\n",
      "    <meta name=\"viewport\" content=\"width=device-width, initial-scale=1, shrink-to-fit=no\">\n",
      "    <meta name=\"description\" content=\"Landing page for Ambient Dashboard\">\n",
      "    <meta name=\"author\" content=\"John Bourassa\">\n",
      "\n",
      "    <title>Ambient Forum Parser</title>\n",
      "\n",
      "    <!-- Bootstrap core CSS -->\n",
      "    <link href=\"../static/vendor/bootstrap/css/bootstrap.min.css\" rel=\"stylesheet\">\n",
      "\n",
      "    <!-- Custom fonts for this template -->\n",
      "    <link href=\"../static/vendor/font-awesome/css/font-awesome.min.css\" rel=\"stylesheet\" type=\"text/css\">\n",
      "    <link href=\"https://fonts.googleapis.com/css?family=Montserrat:400,700\" rel=\"stylesheet\" type=\"text/css\">\n",
      "    <link href='https://fonts.googleapis.com/css?family=Kaushan+Script' rel='stylesheet' type='text/css'>\n",
      "    <link href='https://fonts.googleapis.com/css?family=Droid+Serif:400,700,400italic,700italic' rel='stylesheet' type='text/css'>\n",
      "    <link href='https://fonts.googleapis.com/css?family=Roboto+Slab:400,100,300,700' rel='stylesheet' type='text/css'>\n",
      "\n",
      "    <!-- Custom styles for this template -->\n",
      "    <link href=\"../static/css/agency.css\" rel=\"stylesheet\">\n",
      "\n",
      "  </head>\n",
      "\n",
      "  <body id=\"page-top\">\n",
      "<!-- Google Tag Manager (noscript) -->\n",
      "<noscript><iframe src=\"https://www.googletagmanager.com/ns.html?id=GTM-N5QWFGW\"\n",
      "height=\"0\" width=\"0\" style=\"display:none;visibility:hidden\"></iframe></noscript>\n",
      "<!-- End Google Tag Manager (noscript) -->\n",
      "\n",
      "    <!-- Navigation -->\n",
      "    <nav class=\"navbar navbar-expand-lg navbar-dark fixed-top\" id=\"mainNav\">\n",
      "      <div class=\"container\">\n",
      "        <a class=\"navbar-brand js-scroll-trigger\" href=\"#page-top\">Ambient</a>\n",
      "        <button class=\"navbar-toggler navbar-toggler-right\" type=\"button\" data-toggle=\"collapse\" data-target=\"#navbarResponsive\" aria-controls=\"navbarResponsive\" aria-expanded=\"false\" aria-label=\"Toggle navigation\">\n",
      "          Menu\n",
      "          <i class=\"fa fa-bars\"></i>\n",
      "        </button>\n",
      "        <div class=\"collapse navbar-collapse\" id=\"navbarResponsive\">\n",
      "          <ul class=\"navbar-nav ml-auto\">\n",
      "            <li class=\"nav-item\">\n",
      "              <a class=\"nav-link js-scroll-trigger\" href=\"/dashboard\">Dashboard</a>\n",
      "            </li>\n",
      "            <li class=\"nav-item\">\n",
      "              <a class=\"nav-link js-scroll-trigger\" href=\"#what\">What It Is</a>\n",
      "            </li>\n",
      "            <li class=\"nav-item\">\n",
      "              <a class=\"nav-link js-scroll-trigger\" href=\"#how\">How It Works</a>\n",
      "            </li>\n",
      "            <li class=\"nav-item\">\n",
      "              <a class=\"nav-link js-scroll-trigger\" href=\"#about\">About Me</a>\n",
      "            </li>\n",
      "          </ul>\n",
      "        </div>\n",
      "      </div>\n",
      "    </nav>\n",
      "\n",
      "    <!-- Header -->\n",
      "    <header class=\"masthead\">\n",
      "      <div class=\"container\">\n",
      "        <div class=\"intro-text\">\n",
      "          <div class=\"intro-lead-in\">Cut Out The Noise With</div>\n",
      "          <div class=\"intro-heading\">Ambient</div>\n",
      "          <a class=\"btn btn-xl js-scroll-trigger\" href=\"/dashboard\">View Dashboard</a>\n",
      "        </div>\n",
      "      </div>\n",
      "    </header>\n",
      "\n",
      "    <section id=\"what\">\n",
      "      <div class=\"container\">\n",
      "        <div class=\"row\">\n",
      "          <div class=\"col-lg-12 text-center\">\n",
      "            <h2 class=\"section-heading\">What it is</h2>\n",
      "            <h3 class=\"section-subheading text-muted\">A dashboard app for forum posts</h3>\n",
      "          </div>\n",
      "        </div>\n",
      "        <div class=\"row text-center\">\n",
      "          <div class=\"col-md-4\">\n",
      "            <h4 class=\"service-heading\">Highlights Priority Posts</h4>\n",
      "            <p class=\"text-muted\">Don't sift through pages and pages of threads or use arbitrary search terms to look for helpful posts.  Ambient sorts them for you!</p>\n",
      "          </div>\n",
      "          <div class=\"col-md-4\">\n",
      "            <h4 class=\"service-heading\">Incorporates User Feedback</h4>\n",
      "            <p class=\"text-muted\">Tired of seeing posts from players who got banned for cheating?  Flag them as unhelpful, and the model will learn to exclude them!</p>\n",
      "          </div>\n",
      "          <div class=\"col-md-4\">\n",
      "            <h4 class=\"service-heading\">Automatically Updates</h4>\n",
      "            <p class=\"text-muted\">Worried about the data?  Don't be!  A nightly job pulls in all new posts for the last 24 hours.</p>\n",
      "          </div>\n",
      "        </div>\n",
      "      </div>\n",
      "    </section>\n",
      "\n",
      "    <!-- Portfolio Grid -->\n",
      "    <section class=\"bg-light\" id=\"how\">\n",
      "      <div class=\"container\">\n",
      "        <div class=\"row\">\n",
      "          <div class=\"col-lg-12 text-center\">\n",
      "            <h2 class=\"section-heading\">How it works</h2>\n",
      "            <h3 class=\"section-subheading text-muted\"><a href=\"https://github.com/johink/ambient\">Check it out on Github!</a></h3>\n",
      "          </div>\n",
      "        </div>\n",
      "        <div class=\"row\">\n",
      "          <div class=\"col-md-4 col-sm-6 portfolio-item\">\n",
      "\t\t    <div class=\"min_height\">\n",
      "              <img class=\"img-fluid\" src=\"../static/img/portfolio/01.jpg\" alt=\"Steam Logo\">\n",
      "\t\t\t</div>\n",
      "            <div class=\"portfolio-caption\">\n",
      "              <h4>Steam</h4>\n",
      "              <p class=\"text-muted\">Scraped threads using Python libraries including Requests, Selenium, and BeautifulSoup</p>\n",
      "            </div>\n",
      "          </div>\n",
      "          <div class=\"col-md-4 col-sm-6 portfolio-item\">\n",
      "\t\t    <div class=\"min_height\">\n",
      "              <img class=\"img-fluid\" src=\"../static/img/portfolio/02.jpg\" alt=\"AWS Logo\">\n",
      "\t\t\t</div>\n",
      "            <div class=\"portfolio-caption\">\n",
      "              <h4>AWS</h4>\n",
      "              <p class=\"text-muted\">Ran EC2 instances in parallel to scrape nearly a million posts of historic content and write results to S3 bucket</p>\n",
      "            </div>\n",
      "          </div>\n",
      "          <div class=\"col-md-4 col-sm-6 portfolio-item\">\n",
      "\t\t    <div class=\"min_height\">\n",
      "              <img class=\"img-fluid\" src=\"../static/img/portfolio/03.png\" alt=\"Pandas Logo\">\n",
      "\t\t\t</div>\n",
      "            <div class=\"portfolio-caption\">\n",
      "              <h4>pandas</h4>\n",
      "              <p class=\"text-muted\">Compared forum posts to future patch notes using cosine similarity as proxy for how 'useful' a post is</p>\n",
      "            </div>\n",
      "          </div>\n",
      "          <div class=\"col-md-4 col-sm-6 portfolio-item\">\n",
      "\t\t    <div class=\"min_height\">\n",
      "              <img class=\"img-fluid\" src=\"../static/img/portfolio/04.png\" alt=\"Scikit Logo\">\n",
      "\t\t\t</div>\n",
      "            <div class=\"portfolio-caption\">\n",
      "              <h4>scikit-learn</h4>\n",
      "              <p class=\"text-muted\">Built Random Forest model out of vectorized post titles and content, as well as factors like capital letter usage and profanity</p>\n",
      "            </div>\n",
      "          </div>\n",
      "          <div class=\"col-md-4 col-sm-6 portfolio-item\">\n",
      "\t\t    <div class=\"min_height\">\n",
      "              <img class=\"img-fluid\" src=\"../static/img/portfolio/05.png\" alt=\"Postgres Logo\">\n",
      "\t\t\t</div>\n",
      "            <div class=\"portfolio-caption\">\n",
      "              <h4>PostgreSQL</h4>\n",
      "              <p class=\"text-muted\">Designed database schema and API which allows dashboard users to rate posts for future models</p>\n",
      "            </div>\n",
      "          </div>\n",
      "          <div class=\"col-md-4 col-sm-6 portfolio-item\">\n",
      "\t\t    <div class=\"min_height\">\n",
      "              <img class=\"img-fluid\" src=\"../static/img/portfolio/06.png\" alt=\"Flask Logo\">\n",
      "\t\t\t</div>\n",
      "            <div class=\"portfolio-caption\">\n",
      "              <h4>Flask</h4>\n",
      "              <p class=\"text-muted\">Constructed dashboard from scratch using HTML, CSS, jQuery, and Bootstrap</p>\n",
      "            </div>\n",
      "          </div>\n",
      "        </div>\n",
      "      </div>\n",
      "    </section>\n",
      "\n",
      "    <!-- Team -->\n",
      "    <section class=\"bg-light\" id=\"about\">\n",
      "      <div class=\"container\">\n",
      "          <div class=\"col-lg-12\">\n",
      "            <div class=\"team-member\">\n",
      "              <img class=\"mx-auto rounded-circle\" src=\"../static/img/team/john.jpg\" alt=\"\">\n",
      "              <h4>John Bourassa</h4>\n",
      "              <p class=\"text-muted\">Data Scientist</p>\n",
      "              <ul class=\"list-inline social-buttons\">\n",
      "\t\t\t\t  <li class=\"list-inline-item\">\n",
      "\t\t\t\t\t<a href=\"https://github.com/johink\">\n",
      "\t\t\t\t\t  <i class=\"fa fa-github\"></i>\n",
      "\t\t\t\t\t</a>\n",
      "\t\t\t\t  </li>\n",
      "\t\t\t\t  <li class=\"list-inline-item\">\n",
      "\t\t\t\t\t<a href=\"https://www.linkedin.com/in/bourassa/\">\n",
      "\t\t\t\t\t  <i class=\"fa fa-linkedin\"></i>\n",
      "\t\t\t\t\t</a>\n",
      "\t\t\t\t  </li>\n",
      "              </ul>\n",
      "            </div>\n",
      "          </div>\n",
      "        </div>\n",
      "        <div class=\"row\">\n",
      "          <div class=\"col-lg-8 mx-auto text-center\">\n",
      "            <p class=\"large text-muted\">\n",
      "\t\t\t  John recently moved to Seattle from the East Coast, where he studied Accounting, Computer Science and Analytics.  \n",
      "\t\t\t  He built Ambient for his three-week capstone project as part of the Galvanize data science immersive program.\n",
      "\t\t\t  In addition to strengthening his data science skills, John enjoys playing games and going for hikes on Washington's many beautiful trails.\n",
      "\t\t\t</p>\n",
      "          </div>\n",
      "        </div>\n",
      "      </div>\n",
      "    </section>\n",
      "\n",
      "    <!-- Bootstrap core JavaScript -->\n",
      "    <script src=\"../static/vendor/jquery/jquery.min.js\"></script>\n",
      "    <script src=\"../static/vendor/popper/popper.min.js\"></script>\n",
      "    <script src=\"../static/vendor/bootstrap/js/bootstrap.min.js\"></script>\n",
      "\n",
      "    <!-- Plugin JavaScript -->\n",
      "    <script src=\"../static/vendor/jquery-easing/jquery.easing.min.js\"></script>\n",
      "\n",
      "    <!-- Contact form JavaScript -->\n",
      "    <script src=\"../static/js/jqBootstrapValidation.js\"></script>\n",
      "    <script src=\"../static/js/contact_me.js\"></script>\n",
      "\n",
      "    <!-- Custom scripts for this template -->\n",
      "    <script src=\"../static/js/agency.min.js\"></script>\n",
      "\n",
      "  </body>\n",
      "\n",
      "</html>\n"
     ]
    },
    {
     "name": "stderr",
     "output_type": "stream",
     "text": [
      "  % Total    % Received % Xferd  Average Speed   Time    Time     Time  Current\n",
      "                                 Dload  Upload   Total   Spent    Left  Speed\n",
      "\n",
      "  0     0    0     0    0     0      0      0 --:--:-- --:--:-- --:--:--     0\n",
      "100 10061  100 10061    0     0  10061      0  0:00:01 --:--:--  0:00:01  209k\n"
     ]
    }
   ],
   "source": [
    "!curl http://www.ambient-insights.live"
   ]
  },
  {
   "cell_type": "code",
   "execution_count": 20,
   "metadata": {},
   "outputs": [
    {
     "data": {
      "text/plain": [
       "200"
      ]
     },
     "execution_count": 20,
     "metadata": {},
     "output_type": "execute_result"
    }
   ],
   "source": [
    "# Now in code:\n",
    "import requests\n",
    "from IPython.display import HTML\n",
    "response = requests.get(\"http://www.ambient-insights.live\")\n",
    "response.status_code"
   ]
  },
  {
   "cell_type": "code",
   "execution_count": 21,
   "metadata": {},
   "outputs": [
    {
     "data": {
      "text/plain": [
       "'<!DOCTYPE html>\\n<html lang=\"en\">\\n\\n  <head>\\n    <!-- Global Site Tag (gtag.js) - Google Analytics -->\\n    <script async src=\"https://www.googletagmanager.com/gtag/js?id=UA-106760358-1\"></script>\\n    <script>\\n      window.dataLayer = window.dataLayer || [];\\n      function gtag(){dataLayer.push(arguments)};\\n      gtag(\\'js\\', new Date());\\n\\n      gtag(\\'config\\', \\'UA-106760358-1\\');\\n    </script>\\n\\n<!-- Google Tag Manager -->\\n<script>(function(w,d,s,l,i){w[l]=w[l]||[];w[l].push({\\'gtm.start\\':\\nnew Date().getTime(),event:\\'gtm.js\\'});var f=d.getElementsByTagName(s)[0],\\nj=d.createElement(s),dl=l!=\\'dataLayer\\'?\\'&l=\\'+l:\\'\\';j.async=true;j.src=\\n\\'https://www.googletagmanager.com/gtm.js?id=\\'+i+dl;f.parentNode.insertBefore(j,f);\\n})(window,document,\\'script\\',\\'dataLayer\\',\\'GTM-N5QWFGW\\');</script>\\n<!-- End Google Tag Manager -->\\n\\n    <meta charset=\"utf-8\">\\n    <meta name=\"viewport\" content=\"width=device-width, initial-scale=1, shrink-to-fit=no\">\\n    <meta name=\"description\" content=\"Landing page for Ambient Dashboard\">\\n    <meta name=\"author\" content=\"John Bourassa\">\\n\\n    <title>Ambient Forum Parser</title>\\n\\n    <!-- Bootstrap core CSS -->\\n    <link href=\"../static/vendor/bootstrap/css/bootstrap.min.css\" rel=\"stylesheet\">\\n\\n    <!-- Custom fonts for this template -->\\n    <link href=\"../static/vendor/font-awesome/css/font-awesome.min.css\" rel=\"stylesheet\" type=\"text/css\">\\n    <link href=\"https://fonts.googleapis.com/css?family=Montserrat:400,700\" rel=\"stylesheet\" type=\"text/css\">\\n    <link href=\\'https://fonts.googleapis.com/css?family=Kaushan+Script\\' rel=\\'stylesheet\\' type=\\'text/css\\'>\\n    <link href=\\'https://fonts.googleapis.com/css?family=Droid+Serif:400,700,400italic,700italic\\' rel=\\'stylesheet\\' type=\\'text/css\\'>\\n    <link href=\\'https://fonts.googleapis.com/css?family=Roboto+Slab:400,100,300,700\\' rel=\\'stylesheet\\' type=\\'text/css\\'>\\n\\n    <!-- Custom styles for this template -->\\n    <link href=\"../static/css/agency.css\" rel=\"stylesheet\">\\n\\n  </head>\\n\\n  <body id=\"page-top\">\\n<!-- Google Tag Manager (noscript) -->\\n<noscript><iframe src=\"https://www.googletagmanager.com/ns.html?id=GTM-N5QWFGW\"\\nheight=\"0\" width=\"0\" style=\"display:none;visibility:hidden\"></iframe></noscript>\\n<!-- End Google Tag Manager (noscript) -->\\n\\n    <!-- Navigation -->\\n    <nav class=\"navbar navbar-expand-lg navbar-dark fixed-top\" id=\"mainNav\">\\n      <div class=\"container\">\\n        <a class=\"navbar-brand js-scroll-trigger\" href=\"#page-top\">Ambient</a>\\n        <button class=\"navbar-toggler navbar-toggler-right\" type=\"button\" data-toggle=\"collapse\" data-target=\"#navbarResponsive\" aria-controls=\"navbarResponsive\" aria-expanded=\"false\" aria-label=\"Toggle navigation\">\\n          Menu\\n          <i class=\"fa fa-bars\"></i>\\n        </button>\\n        <div class=\"collapse navbar-collapse\" id=\"navbarResponsive\">\\n          <ul class=\"navbar-nav ml-auto\">\\n            <li class=\"nav-item\">\\n              <a class=\"nav-link js-scroll-trigger\" href=\"/dashboard\">Dashboard</a>\\n            </li>\\n            <li class=\"nav-item\">\\n              <a class=\"nav-link js-scroll-trigger\" href=\"#what\">What It Is</a>\\n            </li>\\n            <li class=\"nav-item\">\\n              <a class=\"nav-link js-scroll-trigger\" href=\"#how\">How It Works</a>\\n            </li>\\n            <li class=\"nav-item\">\\n              <a class=\"nav-link js-scroll-trigger\" href=\"#about\">About Me</a>\\n            </li>\\n          </ul>\\n        </div>\\n      </div>\\n    </nav>\\n\\n    <!-- Header -->\\n    <header class=\"masthead\">\\n      <div class=\"container\">\\n        <div class=\"intro-text\">\\n          <div class=\"intro-lead-in\">Cut Out The Noise With</div>\\n          <div class=\"intro-heading\">Ambient</div>\\n          <a class=\"btn btn-xl js-scroll-trigger\" href=\"/dashboard\">View Dashboard</a>\\n        </div>\\n      </div>\\n    </header>\\n\\n    <section id=\"what\">\\n      <div class=\"container\">\\n        <div class=\"row\">\\n          <div class=\"col-lg-12 text-center\">\\n            <h2 class=\"section-heading\">What it is</h2>\\n            <h3 class=\"section-subheading text-muted\">A dashboard app for forum posts</h3>\\n          </div>\\n        </div>\\n        <div class=\"row text-center\">\\n          <div class=\"col-md-4\">\\n            <h4 class=\"service-heading\">Highlights Priority Posts</h4>\\n            <p class=\"text-muted\">Don\\'t sift through pages and pages of threads or use arbitrary search terms to look for helpful posts.  Ambient sorts them for you!</p>\\n          </div>\\n          <div class=\"col-md-4\">\\n            <h4 class=\"service-heading\">Incorporates User Feedback</h4>\\n            <p class=\"text-muted\">Tired of seeing posts from players who got banned for cheating?  Flag them as unhelpful, and the model will learn to exclude them!</p>\\n          </div>\\n          <div class=\"col-md-4\">\\n            <h4 class=\"service-heading\">Automatically Updates</h4>\\n            <p class=\"text-muted\">Worried about the data?  Don\\'t be!  A nightly job pulls in all new posts for the last 24 hours.</p>\\n          </div>\\n        </div>\\n      </div>\\n    </section>\\n\\n    <!-- Portfolio Grid -->\\n    <section class=\"bg-light\" id=\"how\">\\n      <div class=\"container\">\\n        <div class=\"row\">\\n          <div class=\"col-lg-12 text-center\">\\n            <h2 class=\"section-heading\">How it works</h2>\\n            <h3 class=\"section-subheading text-muted\"><a href=\"https://github.com/johink/ambient\">Check it out on Github!</a></h3>\\n          </div>\\n        </div>\\n        <div class=\"row\">\\n          <div class=\"col-md-4 col-sm-6 portfolio-item\">\\n\\t\\t    <div class=\"min_height\">\\n              <img class=\"img-fluid\" src=\"../static/img/portfolio/01.jpg\" alt=\"Steam Logo\">\\n\\t\\t\\t</div>\\n            <div class=\"portfolio-caption\">\\n              <h4>Steam</h4>\\n              <p class=\"text-muted\">Scraped threads using Python libraries including Requests, Selenium, and BeautifulSoup</p>\\n            </div>\\n          </div>\\n          <div class=\"col-md-4 col-sm-6 portfolio-item\">\\n\\t\\t    <div class=\"min_height\">\\n              <img class=\"img-fluid\" src=\"../static/img/portfolio/02.jpg\" alt=\"AWS Logo\">\\n\\t\\t\\t</div>\\n            <div class=\"portfolio-caption\">\\n              <h4>AWS</h4>\\n              <p class=\"text-muted\">Ran EC2 instances in parallel to scrape nearly a million posts of historic content and write results to S3 bucket</p>\\n            </div>\\n          </div>\\n          <div class=\"col-md-4 col-sm-6 portfolio-item\">\\n\\t\\t    <div class=\"min_height\">\\n              <img class=\"img-fluid\" src=\"../static/img/portfolio/03.png\" alt=\"Pandas Logo\">\\n\\t\\t\\t</div>\\n            <div class=\"portfolio-caption\">\\n              <h4>pandas</h4>\\n              <p class=\"text-muted\">Compared forum posts to future patch notes using cosine similarity as proxy for how \\'useful\\' a post is</p>\\n            </div>\\n          </div>\\n          <div class=\"col-md-4 col-sm-6 portfolio-item\">\\n\\t\\t    <div class=\"min_height\">\\n              <img class=\"img-fluid\" src=\"../static/img/portfolio/04.png\" alt=\"Scikit Logo\">\\n\\t\\t\\t</div>\\n            <div class=\"portfolio-caption\">\\n              <h4>scikit-learn</h4>\\n              <p class=\"text-muted\">Built Random Forest model out of vectorized post titles and content, as well as factors like capital letter usage and profanity</p>\\n            </div>\\n          </div>\\n          <div class=\"col-md-4 col-sm-6 portfolio-item\">\\n\\t\\t    <div class=\"min_height\">\\n              <img class=\"img-fluid\" src=\"../static/img/portfolio/05.png\" alt=\"Postgres Logo\">\\n\\t\\t\\t</div>\\n            <div class=\"portfolio-caption\">\\n              <h4>PostgreSQL</h4>\\n              <p class=\"text-muted\">Designed database schema and API which allows dashboard users to rate posts for future models</p>\\n            </div>\\n          </div>\\n          <div class=\"col-md-4 col-sm-6 portfolio-item\">\\n\\t\\t    <div class=\"min_height\">\\n              <img class=\"img-fluid\" src=\"../static/img/portfolio/06.png\" alt=\"Flask Logo\">\\n\\t\\t\\t</div>\\n            <div class=\"portfolio-caption\">\\n              <h4>Flask</h4>\\n              <p class=\"text-muted\">Constructed dashboard from scratch using HTML, CSS, jQuery, and Bootstrap</p>\\n            </div>\\n          </div>\\n        </div>\\n      </div>\\n    </section>\\n\\n    <!-- Team -->\\n    <section class=\"bg-light\" id=\"about\">\\n      <div class=\"container\">\\n          <div class=\"col-lg-12\">\\n            <div class=\"team-member\">\\n              <img class=\"mx-auto rounded-circle\" src=\"../static/img/team/john.jpg\" alt=\"\">\\n              <h4>John Bourassa</h4>\\n              <p class=\"text-muted\">Data Scientist</p>\\n              <ul class=\"list-inline social-buttons\">\\n\\t\\t\\t\\t  <li class=\"list-inline-item\">\\n\\t\\t\\t\\t\\t<a href=\"https://github.com/johink\">\\n\\t\\t\\t\\t\\t  <i class=\"fa fa-github\"></i>\\n\\t\\t\\t\\t\\t</a>\\n\\t\\t\\t\\t  </li>\\n\\t\\t\\t\\t  <li class=\"list-inline-item\">\\n\\t\\t\\t\\t\\t<a href=\"https://www.linkedin.com/in/bourassa/\">\\n\\t\\t\\t\\t\\t  <i class=\"fa fa-linkedin\"></i>\\n\\t\\t\\t\\t\\t</a>\\n\\t\\t\\t\\t  </li>\\n              </ul>\\n            </div>\\n          </div>\\n        </div>\\n        <div class=\"row\">\\n          <div class=\"col-lg-8 mx-auto text-center\">\\n            <p class=\"large text-muted\">\\n\\t\\t\\t  John recently moved to Seattle from the East Coast, where he studied Accounting, Computer Science and Analytics.  \\n\\t\\t\\t  He built Ambient for his three-week capstone project as part of the Galvanize data science immersive program.\\n\\t\\t\\t  In addition to strengthening his data science skills, John enjoys playing games and going for hikes on Washington\\'s many beautiful trails.\\n\\t\\t\\t</p>\\n          </div>\\n        </div>\\n      </div>\\n    </section>\\n\\n    <!-- Bootstrap core JavaScript -->\\n    <script src=\"../static/vendor/jquery/jquery.min.js\"></script>\\n    <script src=\"../static/vendor/popper/popper.min.js\"></script>\\n    <script src=\"../static/vendor/bootstrap/js/bootstrap.min.js\"></script>\\n\\n    <!-- Plugin JavaScript -->\\n    <script src=\"../static/vendor/jquery-easing/jquery.easing.min.js\"></script>\\n\\n    <!-- Contact form JavaScript -->\\n    <script src=\"../static/js/jqBootstrapValidation.js\"></script>\\n    <script src=\"../static/js/contact_me.js\"></script>\\n\\n    <!-- Custom scripts for this template -->\\n    <script src=\"../static/js/agency.min.js\"></script>\\n\\n  </body>\\n\\n</html>'"
      ]
     },
     "execution_count": 21,
     "metadata": {},
     "output_type": "execute_result"
    }
   ],
   "source": [
    "response.text\n",
    "#HTML(response.text)"
   ]
  },
  {
   "cell_type": "markdown",
   "metadata": {},
   "source": [
    "### The Structure of the Web\n",
    "\n",
    "Okay, great; so we can send HTTP requests pretty easily in Python.  But how do we make sense out of the mess we get back?  First, we'll need to have a better understanding of what makes up a website!\n",
    "\n",
    "Websites are generally comprised of three parts:\n",
    "\n",
    "* Hyper-Text Markup Language (HTML) contains the page's content\n",
    "* Cascading Style Sheets (CSS) tells the browser how to display the content\n",
    "* JavaScript (JS) executes in the browser and enables interactivity and many other functionalities\n",
    "\n",
    "You will be looking at HTML extensively for your web scraping efforts, so we'll be focusing on it today."
   ]
  },
  {
   "cell_type": "markdown",
   "metadata": {},
   "source": [
    "### HTML\n",
    "\n",
    "###### Basic Tags:\n",
    "\n",
    "* ```<h1>, <h6>, <p>``` - Heading or paragraph text\n",
    "* ```<ul>, <ol>, <li>``` - Unordered list (bullets), ordered list (numbers), item in the list\n",
    "* ```<img>``` - Image\n",
    "* `<input>, <button>, <textarea>` - Elements which take user input [(see more)](https://www.w3schools.com/TagS/att_input_type.asp)\n",
    "* `<div>, <span>` - Denotes subsections of the html\n",
    "* `<a>` - Generates a clickable link\n",
    "\n",
    "###### Basic Attributes:\n",
    "\n",
    "* `src` - Give the source of the image or script\n",
    "* `href` - The target of a link\n",
    "* `type` - The type of an input element.  Many types are available; see above link for more info\n",
    "* `class` - Gives one or more classes to an element.  Usually used with CSS selectors to style content\n",
    "* `id` - Gives an ID to an element.  IDs should be **unique**!  Only one HTML element should have a given ID.\n",
    "\n",
    "Classes and IDs are the most common targets for scraping!"
   ]
  },
  {
   "cell_type": "markdown",
   "metadata": {},
   "source": [
    "```html\n",
    "<div>Defines a division or section of the document.</div>\n",
    "<a href=\"http://www.w3schools.com\">A Hyperlink to W3Schools.com!</a>\n",
    "\n",
    "<h1>This is a header!</h1>\n",
    "\n",
    "<p class=\"myclass\">This is a paragraph!</p>\n",
    "\n",
    "<h2 class=\"myclass\">This is a subheading!</h2>\n",
    "\n",
    "<table id=\"myid\">\n",
    "  This is a table!\n",
    "  <tr>\n",
    "    <td>An entry in the first row.</td>\n",
    "    <td>Another entry in the first row.</td>\n",
    "  </tr>\n",
    "  <tr>\n",
    "    <td>An entry in the second row.</td>\n",
    "    <td>Another entry in the second row.</td>\n",
    "  </tr>\n",
    "</table>\n",
    "\n",
    "<ul>\n",
    "  This is a list!\n",
    "  <li>This is the first thing in the list!</li>\n",
    "  <li>This is the second thing in the list!</li>\n",
    "</ul>\n",
    "```"
   ]
  },
  {
   "cell_type": "code",
   "execution_count": 22,
   "metadata": {
    "collapsed": true
   },
   "outputs": [],
   "source": [
    "HTML(\"\"\"\n",
    "<div>Defines a division or section of the document.</div>\n",
    "<a href=\"http://www.w3schools.com\">A Hyperlink to W3Schools.com!</a>\n",
    "\n",
    "<h1>This is a header!</h1>\n",
    "\n",
    "<p class=\"myclass\">This is a paragraph!</p>\n",
    "\n",
    "<h2 class=\"myclass\">This is a subheading!</h2>\n",
    "\n",
    "<table id=\"myid\">\n",
    "  This is a table!\n",
    "  <tr>\n",
    "    <td>An entry in the first row.</td>\n",
    "    <td>Another entry in the first row.</td>\n",
    "  </tr>\n",
    "  <tr>\n",
    "    <td>An entry in the second row.</td>\n",
    "    <td>Another entry in the second row.</td>\n",
    "  </tr>\n",
    "</table>\n",
    "\n",
    "<ul>\n",
    "  This is a list!\n",
    "  <li>This is the first thing in the list!</li>\n",
    "  <li>This is the second thing in the list!</li>\n",
    "</ul>\"\"\");"
   ]
  },
  {
   "cell_type": "markdown",
   "metadata": {},
   "source": [
    "### Short Exercise\n",
    "\n",
    "Go to https://www.mlssoccer.com/standings and pretend like you wanted to know the distribution of goals scored (but just the distribution, don't worry about which teams scored which amount).  What structure in the site could you take advantage of to get this information?"
   ]
  },
  {
   "cell_type": "markdown",
   "metadata": {},
   "source": [
    "## Parsing HTML\n",
    "\n",
    "So we've got a basic understanding of how web pages are structured, and we know how to retrieve the HTML from simple web sites, but what do we do with that very long string once we get it?  String splitting?  Regular expressions?  NO!\n",
    "\n",
    "There is an oddly-named Python library called BeautifulSoup that will make parsing HTML much, much easier:"
   ]
  },
  {
   "cell_type": "code",
   "execution_count": 23,
   "metadata": {
    "collapsed": true
   },
   "outputs": [],
   "source": [
    "from bs4 import BeautifulSoup\n",
    "\n",
    "response = requests.get(\"https://www.mlssoccer.com/standings\")\n",
    "soup = BeautifulSoup(response.text, \"html.parser\")\n",
    "soup;"
   ]
  },
  {
   "cell_type": "code",
   "execution_count": 24,
   "metadata": {
    "collapsed": true
   },
   "outputs": [],
   "source": [
    "# Return the first thing that matches search criteria\n",
    "soup.find(\"table\");"
   ]
  },
  {
   "cell_type": "code",
   "execution_count": 25,
   "metadata": {
    "collapsed": true
   },
   "outputs": [],
   "source": [
    "# Return a list of things that match search criteria\n",
    "soup.find_all(\"td\", {\"data-title\":\"Points\"});"
   ]
  },
  {
   "cell_type": "code",
   "execution_count": 26,
   "metadata": {},
   "outputs": [
    {
     "data": {
      "text/plain": [
       "46.909090909090907"
      ]
     },
     "execution_count": 26,
     "metadata": {},
     "output_type": "execute_result"
    }
   ],
   "source": [
    "import numpy as np\n",
    "np.mean([int(item.text) for item in soup.find_all(\"td\", {\"data-title\":\"Points\"})])"
   ]
  },
  {
   "cell_type": "markdown",
   "metadata": {},
   "source": [
    "There are many ways to navigate the tree-like structure of an HTML document with BeautifulSoup, but find and find_all are the most common.  Consult the [documentation](https://www.crummy.com/software/BeautifulSoup/bs4/doc/) for more!"
   ]
  },
  {
   "cell_type": "markdown",
   "metadata": {},
   "source": [
    "## Beyond HTML\n",
    "\n",
    "While using the web, you have probably noticed that the content of sites generally have structure.  For example, http://www.reddit.com has many posts that share the same structure but differ in content.  A very common pattern in site design is to create an HTML template, and then repeat the HTML for each element in your data while plugging things into the appropriate spot.\n",
    "\n",
    "What this means for you - the intrepid web-scraper - is that your life would be a lot easier if you could just access the data being plugged into the templates directly instead of pulling it back out of the page.  These data sources are called Application Programming Interfaces (APIs), and they may be advertised, or you may have to go looking for them.\n",
    "\n",
    "Reddit happily exposes their underlying data, just add /.json to the end of any Reddit link!  http://www.reddit.com/.json"
   ]
  },
  {
   "cell_type": "markdown",
   "metadata": {},
   "source": [
    "### But What is JSON?\n",
    "\n",
    "JavaScript Object Notation (JSON) is by far the most common data exchange format on the web.  As implied by the name, the syntax is the same one used to define objects in JavaScript.  You may notice that they look almost exactly the same as dictionary syntax in Python:"
   ]
  },
  {
   "cell_type": "markdown",
   "metadata": {},
   "source": [
    "```javascript\n",
    "{\n",
    "    name: 'TwilightSparkle',\n",
    "    friends: ['Applejack', 'Fluttershy'],\n",
    "    age: 16,\n",
    "    gender: 'f',\n",
    "    wings: true,\n",
    "    horn: true,\n",
    "    title: null,\n",
    "    residence: {\n",
    "        town: 'Ponyville',\n",
    "        address: '15 Gandolfini Lane'}\n",
    "}\n",
    "```"
   ]
  },
  {
   "cell_type": "code",
   "execution_count": 27,
   "metadata": {
    "collapsed": true
   },
   "outputs": [],
   "source": [
    "# Pony dictionary\n",
    "twilight = {\n",
    "    \"name\": \"TwilightSparkle\",\n",
    "    \"friends\": [\"Applejack\", \"Fluttershy\"],\n",
    "    \"age\": 16,\n",
    "    \"gender\": \"f\",\n",
    "    \"wings\": True,\n",
    "    \"horn\": True,\n",
    "    \"title\": None,\n",
    "    \"residence\": {\n",
    "        \"town\": \"Ponyville\",\n",
    "        \"address\": \"15 Gandolfini Lane\"\n",
    "    }\n",
    "}"
   ]
  },
  {
   "cell_type": "markdown",
   "metadata": {},
   "source": [
    "You can convert back and forth between JSON and Python objects using the json module"
   ]
  },
  {
   "cell_type": "code",
   "execution_count": 28,
   "metadata": {},
   "outputs": [
    {
     "data": {
      "text/plain": [
       "'{\"name\": \"TwilightSparkle\", \"friends\": [\"Applejack\", \"Fluttershy\"], \"age\": 16, \"gender\": \"f\", \"wings\": true, \"horn\": true, \"title\": null, \"residence\": {\"town\": \"Ponyville\", \"address\": \"15 Gandolfini Lane\"}}'"
      ]
     },
     "execution_count": 28,
     "metadata": {},
     "output_type": "execute_result"
    }
   ],
   "source": [
    "import json\n",
    "twilight_json = json.dumps(twilight) #Dump Python object to JSON string\n",
    "twilight_json"
   ]
  },
  {
   "cell_type": "code",
   "execution_count": 29,
   "metadata": {},
   "outputs": [
    {
     "data": {
      "text/plain": [
       "True"
      ]
     },
     "execution_count": 29,
     "metadata": {},
     "output_type": "execute_result"
    }
   ],
   "source": [
    "json.loads(twilight_json) == twilight #Load JSON string into Python object"
   ]
  },
  {
   "cell_type": "markdown",
   "metadata": {},
   "source": [
    "A common thing for sites to do to have a smooth user experience is to load data in dynamically by making requests from the browser when they are reaching the end of the current content.  Let's see how this works on http://www.instagram.com"
   ]
  },
  {
   "cell_type": "markdown",
   "metadata": {},
   "source": [
    "### Short Exercise\n",
    "\n",
    "Visit https://www.udemy.com/courses/it-and-software/all-courses/.  Now try using requests to send a GET request to the same link.  Do you get the same results?  Why or why not?  Can you find anything better to scrape than the user-facing website?"
   ]
  },
  {
   "cell_type": "markdown",
   "metadata": {},
   "source": [
    "### Extra Considerations\n",
    "\n",
    "By default, when you send a request in requests, you are identifying yourself as not a normal user:"
   ]
  },
  {
   "cell_type": "code",
   "execution_count": 30,
   "metadata": {},
   "outputs": [
    {
     "data": {
      "text/plain": [
       "{'User-Agent': 'python-requests/2.18.4', 'Accept-Encoding': 'gzip, deflate', 'Accept': '*/*', 'Connection': 'keep-alive'}"
      ]
     },
     "execution_count": 30,
     "metadata": {},
     "output_type": "execute_result"
    }
   ],
   "source": [
    "response = requests.get(\"http://google.com\")\n",
    "response.request.headers"
   ]
  },
  {
   "cell_type": "markdown",
   "metadata": {},
   "source": [
    "If you're scraping a site that doesn't want to be scraped, this User-Agent header is a dead giveaway"
   ]
  },
  {
   "cell_type": "markdown",
   "metadata": {},
   "source": [
    "Another dead giveaway that you're scraping is the rate at which you're making requests.  A real user could not possibly look at 1,000 Instagram posts in a minute.  Generally, you should pause between requests if you're hitting the same site repeatedly.  Even sites that don't protect against web scraping will still ban your IP if they think you're trying to launch a Denial of Service (DOS) attack on them."
   ]
  },
  {
   "cell_type": "code",
   "execution_count": 31,
   "metadata": {},
   "outputs": [
    {
     "name": "stdout",
     "output_type": "stream",
     "text": [
      "Page 1, 200\n",
      "Page 2, 200\n"
     ]
    }
   ],
   "source": [
    "import time\n",
    "pages = [1, 2]\n",
    "for page in pages:\n",
    "    response = requests.get(\"http://steamcommunity.com/app/276340/discussions/?fp={}\".format(page))\n",
    "    print(\"Page {}, {}\".format(page, response.status_code))\n",
    "    soup = BeautifulSoup(response.text, \"html.parser\")\n",
    "    # Process soup object\n",
    "    # Write to db\n",
    "    time.sleep(2)"
   ]
  },
  {
   "cell_type": "markdown",
   "metadata": {},
   "source": [
    "Something you may notice from the request in the previous cell is the question mark followed by some additional information.  These are called query parameters, and they are basically additional information that the server uses to return exactly what the user is requesting.  In the case of the Steam forums, the `fp` parameter determines which page of the forum posts will be returned.\n",
    "\n",
    "A query string starts with a `?`, then consists of `&` delimited `key=value` pairs.  For example, `http://www.bobsknobs.com/catalogue.php?finish=nickel&sort=price_desc&pg=2` could tell `catalogue.php` to return page two of the products with a nickel finish sorted by price descending.\n",
    "\n",
    "It's important to stress here that query parameters have no innate meaning; their value lies in how the web server interprets and uses them."
   ]
  },
  {
   "cell_type": "markdown",
   "metadata": {},
   "source": [
    "Requests requires a bit more thorough understanding of the web than other tools, and sometimes students have trouble getting it to do exactly what they want.  It's possible to emulate the way that a user actually browses the internet, and a library called Selenium exists to do exactly this:"
   ]
  },
  {
   "cell_type": "code",
   "execution_count": 32,
   "metadata": {
    "ExecuteTime": {
     "end_time": "2017-05-24T14:31:17.284977",
     "start_time": "2017-05-24T14:31:17.195905"
    },
    "collapsed": true
   },
   "outputs": [],
   "source": [
    "from selenium import webdriver\n",
    "import selenium\n",
    "import time"
   ]
  },
  {
   "cell_type": "code",
   "execution_count": 33,
   "metadata": {
    "ExecuteTime": {
     "end_time": "2017-05-24T14:31:19.933818",
     "start_time": "2017-05-24T14:31:17.287154"
    },
    "collapsed": true
   },
   "outputs": [],
   "source": [
    "browser = webdriver.Firefox()"
   ]
  },
  {
   "cell_type": "code",
   "execution_count": 34,
   "metadata": {
    "ExecuteTime": {
     "end_time": "2017-05-24T14:31:21.466751",
     "start_time": "2017-05-24T14:31:19.935488"
    },
    "collapsed": true
   },
   "outputs": [],
   "source": [
    "browser.get(\"http://www.amazon.com/\")"
   ]
  },
  {
   "cell_type": "code",
   "execution_count": 35,
   "metadata": {
    "ExecuteTime": {
     "end_time": "2017-05-24T14:31:21.505391",
     "start_time": "2017-05-24T14:31:21.468701"
    },
    "collapsed": true
   },
   "outputs": [],
   "source": [
    "search_box = browser.find_element_by_css_selector(\"input#twotabsearchtextbox\")"
   ]
  },
  {
   "cell_type": "code",
   "execution_count": 36,
   "metadata": {
    "ExecuteTime": {
     "end_time": "2017-05-24T14:31:21.662360",
     "start_time": "2017-05-24T14:31:21.507515"
    },
    "collapsed": true
   },
   "outputs": [],
   "source": [
    "search_box.click()"
   ]
  },
  {
   "cell_type": "code",
   "execution_count": 37,
   "metadata": {
    "ExecuteTime": {
     "end_time": "2017-05-24T14:31:21.735832",
     "start_time": "2017-05-24T14:31:21.663806"
    },
    "collapsed": true
   },
   "outputs": [],
   "source": [
    "search_box.send_keys(\"alexa\")"
   ]
  },
  {
   "cell_type": "code",
   "execution_count": 38,
   "metadata": {
    "ExecuteTime": {
     "end_time": "2017-05-24T14:31:21.758095",
     "start_time": "2017-05-24T14:31:21.737599"
    },
    "collapsed": true
   },
   "outputs": [],
   "source": [
    "search_button = browser.find_element_by_css_selector(\"div.nav-search-submit input\")"
   ]
  },
  {
   "cell_type": "code",
   "execution_count": 39,
   "metadata": {
    "ExecuteTime": {
     "end_time": "2017-05-24T14:31:24.845165",
     "start_time": "2017-05-24T14:31:21.760224"
    },
    "collapsed": true
   },
   "outputs": [],
   "source": [
    "search_button.click()\n",
    "time.sleep(3)"
   ]
  },
  {
   "cell_type": "code",
   "execution_count": 40,
   "metadata": {
    "ExecuteTime": {
     "end_time": "2017-05-24T14:31:24.876029",
     "start_time": "2017-05-24T14:31:24.846800"
    },
    "collapsed": true
   },
   "outputs": [],
   "source": [
    "products = browser.find_elements_by_css_selector(\"div.a-fixed-left-grid-col.a-col-right\")"
   ]
  },
  {
   "cell_type": "code",
   "execution_count": 41,
   "metadata": {
    "ExecuteTime": {
     "end_time": "2017-05-24T14:31:26.234825",
     "start_time": "2017-05-24T14:31:24.878874"
    },
    "collapsed": true
   },
   "outputs": [],
   "source": [
    "titles_prices = []\n",
    "for p in products:\n",
    "    try:\n",
    "        title_element = p.find_element_by_css_selector(\"h2.s-access-title\")\n",
    "        title = title_element.text\n",
    "\n",
    "        price_whole_element = p.find_element_by_css_selector(\"span.sx-price-whole\")\n",
    "        price = price_whole_element.text\n",
    "\n",
    "        price_fractional_element = p.find_element_by_css_selector(\n",
    "            \"sup.sx-price-fractional\")\n",
    "        price += (\".\" + price_fractional_element.text)\n",
    "    except selenium.common.exceptions.NoSuchElementException:\n",
    "        continue\n",
    "    titles_prices.append((title, price))"
   ]
  },
  {
   "cell_type": "code",
   "execution_count": 42,
   "metadata": {
    "ExecuteTime": {
     "end_time": "2017-05-24T14:31:26.258338",
     "start_time": "2017-05-24T14:31:26.236251"
    }
   },
   "outputs": [
    {
     "data": {
      "text/plain": [
       "[('All-new Echo (2nd Generation) with improved sound, powered by Dolby, and a new design – Charcoal Fabric',\n",
       "  '79.99'),\n",
       " ('Echo Dot (2nd Generation) - Black', '29.99'),\n",
       " ('Echo Dot (2nd Generation) - White', '29.99')]"
      ]
     },
     "execution_count": 42,
     "metadata": {},
     "output_type": "execute_result"
    }
   ],
   "source": [
    "titles_prices"
   ]
  },
  {
   "cell_type": "code",
   "execution_count": 43,
   "metadata": {
    "collapsed": true
   },
   "outputs": [],
   "source": [
    "browser.close()"
   ]
  },
  {
   "cell_type": "markdown",
   "metadata": {},
   "source": [
    "# Afternoon"
   ]
  },
  {
   "cell_type": "markdown",
   "metadata": {},
   "source": [
    "## Installing Mongo and PyMongo\n",
    "\n",
    "### Mongo\n",
    "1. Install MongoDB: `brew install mongodb`\n",
    "2. Start MongoDB: `brew services start mongodb`\n",
    "\n",
    "#### Do *not* run services as `root`.  Ever.  Even if someone tells you to.\n",
    "\n",
    "### PyMongo\n",
    "2. Install PyMongo: `conda install pymongo`"
   ]
  },
  {
   "cell_type": "markdown",
   "metadata": {},
   "source": [
    "### SQL vs NoSQL\n",
    "\n",
    "NoSQL does not stand for 'No SQL'. SQL is useful for many things, it's not going away.\n",
    "\n",
    "> NoSQL ==> \"Not Only SQL\"\n",
    "\n",
    "It's a different Paradigm to deal with messy data that does not lend itself to an RDBMS.  It's also very useful as a quick and painless solution to data storage, where a full relational database model takes much thought and investment."
   ]
  },
  {
   "cell_type": "markdown",
   "metadata": {},
   "source": [
    "### Mongo Clients\n",
    "\n",
    "The command line program we use to interact with mongo is a *client*.  It's only job is to send messages to another program, a *server*, which holds all our data and knows how to operate on it.\n",
    "\n",
    "The command line Mongo client is written in javascript, so interacting with mongo with this client looks like writing javascript code.\n",
    "\n",
    "<img src=\"images/client-server.png\" width = 500>\n",
    "\n",
    "There are other clients.  Late on we will use `pymongo` to interact with our databases from python."
   ]
  },
  {
   "cell_type": "markdown",
   "metadata": {},
   "source": [
    "## Working with Mongo DB"
   ]
  },
  {
   "cell_type": "markdown",
   "metadata": {},
   "source": [
    "### MongoDB Concepts\n",
    "\n",
    "#### What's it about? \n",
    "\n",
    "* MongoDB is a document-oriented database, an alternative to RDBMS, used for storing semi-structured data.\n",
    "* JSON-like objects form the data model, rather than RDBMS tables.\n",
    "* No schema, No joins, No transactions.\n",
    "* Sub-optimal for complicated queries.\n",
    "\n",
    "#### Structure of the database.\n",
    "\n",
    "* MongoDB is made up of databases which contain collections (tables).\n",
    "* A collection is made up of documents (analogous to rows or records).\n",
    "* Each document is a JSON object made up of key-value pairs (analogous to columns).\n",
    "\n",
    "\n",
    "So a RDBMS defines columns at the table level, document oriented database defines its fields at a document level."
   ]
  },
  {
   "cell_type": "markdown",
   "metadata": {},
   "source": [
    "#### Why Use a Document Database?\n",
    "\n",
    "![MongoDB vs. RDBMS](https://static1.squarespace.com/static/54022dc5e4b079634bab926c/t/588e0d33cd0f68ca7cec5871/1485704504058/)"
   ]
  },
  {
   "cell_type": "markdown",
   "metadata": {},
   "source": [
    "Matt created a `ponies.json` file that can be imported into MongoDB."
   ]
  },
  {
   "cell_type": "markdown",
   "metadata": {},
   "source": [
    "```\n",
    "mongoimport --db mlp --collection ponies < ponies.json\n",
    "```"
   ]
  },
  {
   "cell_type": "markdown",
   "metadata": {},
   "source": [
    "**Note**: If you are using linux, you may need to add a switch `--jsonArray`."
   ]
  },
  {
   "cell_type": "markdown",
   "metadata": {},
   "source": [
    "Now start `mongo`. \n",
    "\n",
    "A MongoDB contains a collection of databases, so lets check that the `ponies` database exists."
   ]
  },
  {
   "cell_type": "markdown",
   "metadata": {
    "collapsed": true
   },
   "source": [
    "```\n",
    "> show dbs\n",
    "```"
   ]
  },
  {
   "cell_type": "markdown",
   "metadata": {},
   "source": [
    "To use the `mlp` database, we simply do the following:"
   ]
  },
  {
   "cell_type": "markdown",
   "metadata": {},
   "source": [
    "```\n",
    "> use mlp\n",
    "```"
   ]
  },
  {
   "cell_type": "markdown",
   "metadata": {},
   "source": [
    "A database is made of collections, which are containers for the actual stored data.  A `collection` would be analagous to a `table` in a classical relational database, but can contain much more flexible data than a table."
   ]
  },
  {
   "cell_type": "markdown",
   "metadata": {},
   "source": [
    "```\n",
    "> db.getCollectionNames()\n",
    "```"
   ]
  },
  {
   "cell_type": "markdown",
   "metadata": {},
   "source": [
    "### Inserting Data\n",
    "\n",
    "`insert` takes one argument - the document to insert\n",
    "\n",
    "```javascript\n",
    "db.ponies.insert({\n",
    "    name: 'Fluttershy',\n",
    "    age: 15,\n",
    "    friends: ['TwilightSparkle', 'Applejack'],\n",
    "    wings: false,\n",
    "    horn: false\n",
    "})                 \n",
    "```\n",
    "\n",
    "A method also exists to insert many documents, which we will cover later."
   ]
  },
  {
   "cell_type": "markdown",
   "metadata": {},
   "source": [
    "## Querying Data\n",
    "\n",
    "`find` takes two arguments, the first provides filtering criteria for documents (like a `WHERE` clause), and the second determines which fields will be returned (`SELECT`)\n",
    "\n",
    "The default is to return all documents and all columns:\n",
    "\n",
    "```javascript\n",
    "db.ponies.find()\n",
    "```\n",
    "\n",
    "`findOne` returns the first document to match the query criteria\n",
    "\n",
    "```javascript\n",
    "db.ponies.findOne()\n",
    "```\n",
    "\n",
    "What's the deal with the `_id` field?"
   ]
  },
  {
   "cell_type": "markdown",
   "metadata": {},
   "source": [
    "##### An Aside on _id:\n",
    "\n",
    "The `_id` field is basically the same as a primary key in relational databases.  It is a unique identifier for every document in a collection.  By default, MongoDB will auto-generate a unique id for you when you insert data, but you can manually specify the `_id` field if you have a unique identifier.  An index is automatically generated on the `_id` field, which makes queries involving it very efficient"
   ]
  },
  {
   "cell_type": "markdown",
   "metadata": {},
   "source": [
    "##### Back to Queries!\n",
    "\n",
    "We can add the arguments for more functionality:\n",
    "\n",
    "```javascript\n",
    "// Find documents who have the value \"TwilightSparkle\" in the name field\n",
    "db.ponies.find({name: 'TwilightSparkle'})\n",
    "\n",
    "// Find documents where the friend field exists\n",
    "db.ponies.find({friends: {$exists : true}})\n",
    "\n",
    "// Find documents where \"TwilightSparkle\" is found in the friends field\n",
    "db.ponies.find({friends: 'TwilightSparkle'})\n",
    "\n",
    "// Return the documents where the field town inside the field residence is \"Ponyville\"\n",
    "// Note that _id is always returned and must explicitly be set to 0\n",
    "db.ponies.find({residence.town: 'Ponyville'}, {name: 1, _id: 0})\n",
    "```"
   ]
  },
  {
   "cell_type": "markdown",
   "metadata": {},
   "source": [
    "**Excercise**: Try to find all the ponies with wings.  Return just their names and ages."
   ]
  },
  {
   "cell_type": "markdown",
   "metadata": {},
   "source": [
    "## Updating Data"
   ]
  },
  {
   "cell_type": "markdown",
   "metadata": {},
   "source": [
    "`update` takes two arguments, the first determines which documents should be updated (`WHERE`), the second determines how they should be updated.\n",
    "\n",
    "The default behavior of `update` is to replace the entire document with what is in the second argument:\n",
    "\n",
    "```javascript\n",
    "// Replaces the Applejack data completely!\n",
    "// Poor Applejack will no longer have even a name field after this!\n",
    "db.ponies.update({\n",
    "    name: 'Applejack'}, {\n",
    "    friends: ['Shutterfly', 'Rarity', 'TwilightSparkle']})\n",
    "```\n",
    "\n",
    "We have to use the `$set` and `$push` operators:  `$set` modifies just the fields that are explicitly listed, and `$push` adds a new element to an array.\n",
    "\n",
    "```javascript\n",
    "// Replaces friends array\n",
    "db.ponies.update({\n",
    "    name: 'TwilightSparkle'}, {\n",
    "    $set: {\n",
    "        friends: ['Shutterfly', 'Rarity', 'Applejack']}})\n",
    "\n",
    "// Adds to friends array\n",
    "db.ponies.update({\n",
    "    name: 'PrincessCelestia'}, {\n",
    "    $push: {\n",
    "        friends: 'Rarity'}})\n",
    "```\n",
    "\n",
    "An `upsert` either creates a document (when it does not already exist) or inserts into an existing document.\n",
    "\n",
    "```javascript\n",
    "// Upsert: This one is created\n",
    "db.ponies.update({\n",
    "    name: \"Rarity\"}, {\n",
    "    $push: {\n",
    "        friends: {\n",
    "            \\$each: [\"TwilightSparkle\", \"Applejack\", \"Fluttershy\"]}}}, {\n",
    "    upsert: true})\n",
    "\n",
    "// Upsert: This one is updated\n",
    "db.ponies.update({\n",
    "    name: \"Fluttershy\"}, {\n",
    "    $push: {\n",
    "        friends: {\n",
    "            \\$each: [\"Rarity\", \"PrincessCelestia\"]}}}, {\n",
    "    upsert: true})\n",
    "```"
   ]
  },
  {
   "cell_type": "markdown",
   "metadata": {},
   "source": [
    "**Excercise**: Enter a pony named RainbowDash into the database that is friends with TwilightSparkle, Rarity, and Applejack."
   ]
  },
  {
   "cell_type": "markdown",
   "metadata": {},
   "source": [
    "## Deleting Data\n",
    "\n",
    "`remove` takes one argument, a selector for which documents to delete\n",
    "\n",
    "\n",
    "```javascript\n",
    "// All documents match the empty document, so this will delete every document\n",
    "db.ponies.remove({})\n",
    "```\n",
    "\n",
    "```javascript\n",
    "// Delete all documents where the age value is less than 25\n",
    "db.ponies.remove({age : { $lt : 25} })\n",
    "```"
   ]
  },
  {
   "cell_type": "markdown",
   "metadata": {},
   "source": [
    "## PyMongo\n"
   ]
  },
  {
   "cell_type": "markdown",
   "metadata": {},
   "source": [
    "`pymongo` allows Python to connect to and manipulate MongoDB.\n",
    "\n",
    "The commands are exactly the same as the shell commands above, except that we will be passing dictionaries instead of JSON and the method names are a bit more pythonic.  More specifically, your keys must be strings, and multiple-word methods are separated by _ and not capitalized:\n",
    "\n",
    "```python\n",
    "db.ponies.find_one({\"age\" : { \"$lt\" : 25 } })\n",
    "```\n",
    "\n",
    "The [documentation](https://api.mongodb.com/python/current/tutorial.html) may be helpful to you"
   ]
  },
  {
   "cell_type": "code",
   "execution_count": 1,
   "metadata": {
    "ExecuteTime": {
     "end_time": "2016-06-20T16:43:39.233966",
     "start_time": "2016-06-20T16:43:39.156749"
    },
    "collapsed": true
   },
   "outputs": [],
   "source": [
    "from pymongo import MongoClient\n",
    "import pprint"
   ]
  },
  {
   "cell_type": "code",
   "execution_count": 2,
   "metadata": {
    "ExecuteTime": {
     "end_time": "2016-06-20T16:43:40.363826",
     "start_time": "2016-06-20T16:43:40.347907"
    },
    "collapsed": true
   },
   "outputs": [],
   "source": [
    "# Connect to the hosted MongoDB instance\n",
    "# Localhost is the ip address of your own computer and maps to 127.0.0.1\n",
    "# Port 27017 is the default for MongoDB\n",
    "client = MongoClient('mongodb://localhost:27017/')"
   ]
  },
  {
   "cell_type": "code",
   "execution_count": 3,
   "metadata": {
    "ExecuteTime": {
     "end_time": "2016-06-20T16:43:42.583968",
     "start_time": "2016-06-20T16:43:42.572067"
    },
    "collapsed": true
   },
   "outputs": [],
   "source": [
    "# Get the database named mlp\n",
    "db = client.mlp"
   ]
  },
  {
   "cell_type": "code",
   "execution_count": 4,
   "metadata": {
    "ExecuteTime": {
     "end_time": "2016-06-20T16:43:44.037973",
     "start_time": "2016-06-20T16:43:44.027177"
    },
    "collapsed": true
   },
   "outputs": [],
   "source": [
    "# Get (or create) the collection called ponies\n",
    "ponies = db.ponies"
   ]
  },
  {
   "cell_type": "code",
   "execution_count": 5,
   "metadata": {
    "ExecuteTime": {
     "end_time": "2016-06-20T16:43:45.358598",
     "start_time": "2016-06-20T16:43:45.298820"
    }
   },
   "outputs": [
    {
     "data": {
      "text/plain": [
       "<pymongo.results.InsertOneResult at 0x7f37afa8eb40>"
      ]
     },
     "execution_count": 5,
     "metadata": {},
     "output_type": "execute_result"
    }
   ],
   "source": [
    "# InsertOneResults tells you how many records were inserted.\n",
    "ponies.insert_one({\n",
    "    'name': 'RainbowDash', \n",
    "    'age': 16, \n",
    "    'friends': ['TwilightSparkle', 'Applejack', 'Rarity']})"
   ]
  },
  {
   "cell_type": "code",
   "execution_count": 6,
   "metadata": {
    "ExecuteTime": {
     "end_time": "2016-06-20T16:43:51.364472",
     "start_time": "2016-06-20T16:43:51.323466"
    }
   },
   "outputs": [
    {
     "data": {
      "text/plain": [
       "7"
      ]
     },
     "execution_count": 6,
     "metadata": {},
     "output_type": "execute_result"
    }
   ],
   "source": [
    "ponies.find().count()"
   ]
  },
  {
   "cell_type": "code",
   "execution_count": 7,
   "metadata": {
    "ExecuteTime": {
     "end_time": "2016-06-20T16:43:56.025399",
     "start_time": "2016-06-20T16:43:55.979764"
    }
   },
   "outputs": [
    {
     "name": "stdout",
     "output_type": "stream",
     "text": [
      "{'_id': ObjectId('5a2e0a7e9c418975e80caf1a'),\n",
      " 'age': 20,\n",
      " 'friends': ['TwilightSparkle'],\n",
      " 'horn': True,\n",
      " 'name': 'PrincessCelestia',\n",
      " 'wings': True}\n"
     ]
    }
   ],
   "source": [
    "pprint.pprint(ponies.find_one())"
   ]
  },
  {
   "cell_type": "code",
   "execution_count": 8,
   "metadata": {
    "ExecuteTime": {
     "end_time": "2016-06-20T16:43:58.146325",
     "start_time": "2016-06-20T16:43:58.115367"
    },
    "scrolled": true
   },
   "outputs": [
    {
     "name": "stdout",
     "output_type": "stream",
     "text": [
      "{'_id': ObjectId('5a2e0a7e9c418975e80caf1d'),\n",
      " 'age': 18,\n",
      " 'friends': ['Applejack', 'Bill'],\n",
      " 'gender': 'f',\n",
      " 'horn': True,\n",
      " 'name': 'Rarity',\n",
      " 'residence': {'address': '25 Gandolfini Lane', 'town': 'Ponyville'},\n",
      " 'wings': True}\n"
     ]
    }
   ],
   "source": [
    "rarity = ponies.find_one({'name': 'Rarity'})\n",
    "pprint.pprint(rarity)"
   ]
  },
  {
   "cell_type": "markdown",
   "metadata": {},
   "source": [
    "The same selector strategies can be used for more complex queries in `pymongo`"
   ]
  },
  {
   "cell_type": "code",
   "execution_count": 9,
   "metadata": {},
   "outputs": [
    {
     "name": "stdout",
     "output_type": "stream",
     "text": [
      "{'_id': ObjectId('5a2e0a7e9c418975e80caf1a'),\n",
      " 'age': 20,\n",
      " 'friends': ['TwilightSparkle'],\n",
      " 'horn': True,\n",
      " 'name': 'PrincessCelestia',\n",
      " 'wings': True}\n"
     ]
    }
   ],
   "source": [
    "friend_of_twilight = ponies.find_one({'friends': 'TwilightSparkle'})\n",
    "pprint.pprint(friend_of_twilight)"
   ]
  },
  {
   "cell_type": "markdown",
   "metadata": {},
   "source": [
    "To get multiple results back, use `find`, which returns an iterator."
   ]
  },
  {
   "cell_type": "code",
   "execution_count": 10,
   "metadata": {},
   "outputs": [
    {
     "name": "stdout",
     "output_type": "stream",
     "text": [
      "PrincessCelestia\n",
      "Applejack\n",
      "Applejack\n",
      "RainbowDash\n"
     ]
    }
   ],
   "source": [
    "friends_of_twilight = ponies.find({'friends': 'TwilightSparkle'})\n",
    "for friend in friends_of_twilight:\n",
    "    print(friend[\"name\"])"
   ]
  },
  {
   "cell_type": "code",
   "execution_count": 19,
   "metadata": {},
   "outputs": [
    {
     "name": "stdout",
     "output_type": "stream",
     "text": [
      "{'age': 71, 'name': 'Applejack'}\n",
      "{'age': 16, 'name': 'TwilightSparkle'}\n",
      "{'age': 15.0, 'name': 'Applejack'}\n",
      "{'age': 16, 'name': 'RainbowDash'}\n"
     ]
    }
   ],
   "source": [
    "extreme_ponies = ponies.find({'$or': [{\"age\" : {'$lt': 18}}, {\"age\" : {\"$gt\": 40}}]}, {\"_id\": 0, \"name\": 1, \"age\": 1})\n",
    "for pony in extreme_ponies:\n",
    "    pprint.pprint(pony)"
   ]
  },
  {
   "cell_type": "code",
   "execution_count": 21,
   "metadata": {},
   "outputs": [
    {
     "name": "stdout",
     "output_type": "stream",
     "text": [
      "{'age': 18, 'name': 'Rarity'}\n",
      "{'age': 15.0, 'name': 'Applejack'}\n"
     ]
    }
   ],
   "source": [
    "special_ages = ponies.find({'age': {\"$in\" : [15, 18]}}, {\"_id\": 0, \"name\": 1, \"age\": 1})\n",
    "for pony in special_ages:\n",
    "    pprint.pprint(pony)"
   ]
  },
  {
   "cell_type": "markdown",
   "metadata": {},
   "source": [
    "**Exercise:** Find all the ponies that have a horn and wings."
   ]
  },
  {
   "cell_type": "code",
   "execution_count": null,
   "metadata": {
    "collapsed": true
   },
   "outputs": [],
   "source": [
    "#Code goes here"
   ]
  },
  {
   "cell_type": "markdown",
   "metadata": {},
   "source": [
    "A pretty important SQL functionality that we haven't mentioned so far is `GROUP BY`.  MongoDB provides the aggregation pipeline for this purpose.  [Check it out](https://docs.mongodb.com/v3.4/core/aggregation-pipeline/)\n",
    "if you're interested!  No worries, you won't need it for the pair assignment today."
   ]
  }
 ],
 "metadata": {
  "kernelspec": {
   "display_name": "Python 3",
   "language": "python",
   "name": "python3"
  },
  "language_info": {
   "codemirror_mode": {
    "name": "ipython",
    "version": 3
   },
   "file_extension": ".py",
   "mimetype": "text/x-python",
   "name": "python",
   "nbconvert_exporter": "python",
   "pygments_lexer": "ipython3",
   "version": "3.6.3"
  }
 },
 "nbformat": 4,
 "nbformat_minor": 1
}
