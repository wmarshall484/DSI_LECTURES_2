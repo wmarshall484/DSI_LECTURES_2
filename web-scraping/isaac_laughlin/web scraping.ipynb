{
 "cells": [
  {
   "cell_type": "code",
   "execution_count": null,
   "metadata": {
    "collapsed": false
   },
   "outputs": [],
   "source": [
    "from IPython.core.display import HTML\n",
    "from bs4 import BeautifulSoup, UnicodeDammit\n",
    "import pandas as pd\n",
    "import StringIO"
   ]
  },
  {
   "cell_type": "markdown",
   "metadata": {},
   "source": [
    "# Objectives:\n",
    "* Learn how the internet works so we can make it do what we want.\n",
    " * www vs. internet\n",
    " * GET, PUT, POST, DELETE\n",
    " * javascript, APIs.\n",
    "* Understand basic approach for\n",
    " * Simple web scraping\n",
    " * Session-based web scraping\n",
    " * Crawling?\n",
    " * Parsing documents.\n",
    "* Know that there's a lot more to know, specifically related to\n",
    " * Anonymity\n",
    " * Selenium"
   ]
  },
  {
   "cell_type": "markdown",
   "metadata": {},
   "source": [
    "## http vs internet\n",
    " * The internet is tubes. \n",
    "\n",
    " * HTTP is a protocol for transfering documents (especially Hyptertext) across the internet.\n",
    " * There are other protocols: like git, smtp, ftp etc."
   ]
  },
  {
   "cell_type": "markdown",
   "metadata": {},
   "source": [
    "## HTTP can't actually do much.\n",
    " * Stateless\n",
    " * Dumb framework\n",
    " \n",
    "### Can do\n",
    " * GET - think of this as \"read\"\n",
    " * PUT - think of this like an \"edit\"\n",
    " * POST - think of this as \"create\"\n",
    " * DELETE - be careful\n",
    " \n",
    "Everything you do on the web is one of these things."
   ]
  },
  {
   "cell_type": "markdown",
   "metadata": {},
   "source": [
    "### Morning:\n",
    "* *Describe* a typical web scraping data pipeline\n",
    "* *Compare and Contrast* SQL and noSQL\n",
    "* *Perform* basic operations using Mongo\n",
    "* *Explain* the basic concepts of HTML"
   ]
  },
  {
   "cell_type": "markdown",
   "metadata": {},
   "source": [
    "## 2. Installing Mongo and PyMongo\n",
    "\n",
    "### Mongo\n",
    "1. Install MongoDB: `brew install mongodb`\n",
    "2. Start MongoDB: `brew services start mongodb`\n",
    "\n",
    "#### Do *not* run services as `root`.\n",
    "\n",
    "### PyMongo\n",
    "2. Install PyMongo: `conda install pymongo`"
   ]
  },
  {
   "cell_type": "markdown",
   "metadata": {},
   "source": [
    "## 3. Typical Pipeline\n",
    "<img src=\"images/pipeline.png\" width = 500>"
   ]
  },
  {
   "cell_type": "markdown",
   "metadata": {},
   "source": [
    "## 4. SQL vs NoSQL\n",
    "\n",
    "* Contrary to what some folks may want, NoSQL does not stand for 'No SQL'.\n",
    "* Different Paradigm to deal with messy data that does not lend itself to an RDBMS\n",
    "* A NoSQL stack may include a RDBMS component, Redis to handle queuing and Hadoop for Big Data processing\n",
    "* NoSQL ==> \"Not Only SQL\""
   ]
  },
  {
   "cell_type": "markdown",
   "metadata": {},
   "source": [
    "## 5. MongoDB Concepts\n",
    "\n",
    "* MongoDB is a document-oriented database, an alternative to RDBMS\n",
    "* Used for storing semi-structured data\n",
    "* JSON-like objects form the data model, rather than RDBMS tables\n",
    "* No schema, No joins, No transactions\n",
    "* Sub-optimal for complicated queries\n",
    "\n",
    "* MongoDB is made up of databases which contain collections (tables)\n",
    "* A collection is made up of documents (analogous to rows or records)\n",
    "* Each document is made up of key-value pairs (analogous to columns)\n",
    "\n",
    "* RDBMS defines columns at the table level, document oriented database defines its fields at a document level.\n",
    "\n",
    "* CURSOR: When you ask MongoDB for data, it returns a pointer to the result set called a cursor.\n",
    "\n",
    "* Actual execution is delayed until necessary.\n",
    "\n"
   ]
  },
  {
   "cell_type": "markdown",
   "metadata": {},
   "source": [
    "### Mongo Clients\n",
    "<img src=\"images/client-server.png\" width = 500>\n"
   ]
  },
  {
   "cell_type": "markdown",
   "metadata": {},
   "source": [
    "## 6.  Create a Database and do some operations\n",
    "\n",
    "* Mongo can create databases, collections, documents, etc. on the fly. \n",
    "* To create a new database simply try to use the database you haven't created: use my_new_database"
   ]
  },
  {
   "cell_type": "markdown",
   "metadata": {},
   "source": [
    "## Inserting Data\n",
    "```\n",
    "db.users.insert({name: 'Jon',\n",
    "                 age: '45',\n",
    "                 friends: ['Henry', 'Ashley']\n",
    "                 })\n",
    "\n",
    "show dbs\n",
    "db.getCollectionNames()\n",
    "\n",
    "db.users.insert({name: 'Ashley',\n",
    "                 age: '37',\n",
    "                 friends: ['Jon', 'Henry']\n",
    "                 })\n",
    "                 \n",
    "db.users.insert({name: 'Frank',\n",
    "                 age: '17',\n",
    "                 friends: ['Billy'],\n",
    "                 car: 'Civic'})\n",
    "\n",
    "db.users.find()\n",
    "```\n",
    "* Mongo creates the _id field by default"
   ]
  },
  {
   "cell_type": "markdown",
   "metadata": {},
   "source": [
    "## Querying Data\n",
    "```\n",
    "// find by single field\n",
    "db.users.find({ name: 'Jon'})\n",
    "\n",
    "// find by presence of field\n",
    "db.users.find({ car: { $exists : true } })\n",
    "\n",
    "// find by value in array\n",
    "db.users.find({ friends: 'Henry' })\n",
    "\n",
    "// field selection (only return name)\n",
    "db.users.find({}, { name: true })\n",
    "```\n"
   ]
  },
  {
   "cell_type": "markdown",
   "metadata": {},
   "source": [
    "## Updating data \n",
    "```\n",
    "// replaces friends array\n",
    "db.users.update({name: \"Jon\"}, { $set: {friends: [\"Phil\"]}})\n",
    "\n",
    "// adds to friends array\n",
    "db.users.update({name: \"Jon\"}, { $push: {friends: \"Susie\"}})\n",
    "\n",
    "// upsert\n",
    "db.users.update({name: \"Stevie\"}, { $push: {friends: \"Nicks\"}}, true)\n",
    "\n",
    "// multiple updates\n",
    "db.users.update({}, { $set: { activated : false } }, false, true)\n",
    "```"
   ]
  },
  {
   "cell_type": "markdown",
   "metadata": {},
   "source": [
    "## Deleting Data\n",
    "```\n",
    "db.users.remove({})\n",
    "```"
   ]
  },
  {
   "cell_type": "markdown",
   "metadata": {},
   "source": [
    "# MongoDB Example\n",
    "## PyMongo\n"
   ]
  },
  {
   "cell_type": "code",
   "execution_count": null,
   "metadata": {
    "collapsed": true
   },
   "outputs": [],
   "source": [
    "# import MongoDB modules\n",
    "from pymongo import MongoClient"
   ]
  },
  {
   "cell_type": "code",
   "execution_count": null,
   "metadata": {
    "collapsed": true
   },
   "outputs": [],
   "source": [
    "# connect to the hosted MongoDB instance\n",
    "client = MongoClient('mongodb://localhost:27017/')"
   ]
  },
  {
   "cell_type": "code",
   "execution_count": null,
   "metadata": {
    "collapsed": true
   },
   "outputs": [],
   "source": [
    "db = client.lb_tst1"
   ]
  },
  {
   "cell_type": "code",
   "execution_count": null,
   "metadata": {
    "collapsed": true
   },
   "outputs": [],
   "source": [
    "# Create a collection called users\n",
    "users = db.lb_tst1"
   ]
  },
  {
   "cell_type": "code",
   "execution_count": null,
   "metadata": {
    "collapsed": true
   },
   "outputs": [],
   "source": [
    "users.insert_one({'name':'lekha', 'city':'seattle'})"
   ]
  },
  {
   "cell_type": "code",
   "execution_count": null,
   "metadata": {
    "collapsed": true
   },
   "outputs": [],
   "source": [
    "users.insert_one({'name':'joe', 'city':'new york' })"
   ]
  },
  {
   "cell_type": "code",
   "execution_count": null,
   "metadata": {
    "collapsed": true
   },
   "outputs": [],
   "source": [
    "users.find().count()"
   ]
  },
  {
   "cell_type": "code",
   "execution_count": null,
   "metadata": {
    "collapsed": true
   },
   "outputs": [],
   "source": [
    "users.find_one()"
   ]
  },
  {
   "cell_type": "code",
   "execution_count": null,
   "metadata": {
    "collapsed": true
   },
   "outputs": [],
   "source": [
    "t = users.find_one({'name': 'lekha'})\n",
    "t"
   ]
  },
  {
   "cell_type": "code",
   "execution_count": 10,
   "metadata": {
    "collapsed": false
   },
   "outputs": [
    {
     "ename": "NameError",
     "evalue": "name 'users' is not defined",
     "output_type": "error",
     "traceback": [
      "\u001b[0;31m---------------------------------------------------------------------------\u001b[0m",
      "\u001b[0;31mNameError\u001b[0m                                 Traceback (most recent call last)",
      "\u001b[0;32m<ipython-input-10-17ea6ceb32d2>\u001b[0m in \u001b[0;36m<module>\u001b[0;34m()\u001b[0m\n\u001b[0;32m----> 1\u001b[0;31m \u001b[0musers\u001b[0m\u001b[0;34m.\u001b[0m\u001b[0mfind\u001b[0m\u001b[0;34m(\u001b[0m\u001b[0;34m)\u001b[0m\u001b[0;34m.\u001b[0m\u001b[0mcount\u001b[0m\u001b[0;34m(\u001b[0m\u001b[0;34m)\u001b[0m\u001b[0;34m\u001b[0m\u001b[0m\n\u001b[0m",
      "\u001b[0;31mNameError\u001b[0m: name 'users' is not defined"
     ]
    }
   ],
   "source": [
    "users.find().count()"
   ]
  },
  {
   "cell_type": "markdown",
   "metadata": {},
   "source": [
    "# 7. HTML Concepts\n",
    "* HyperText Markup Language\n",
    "* A markup language that forms the building blocks of all websites\n",
    "* Consists of tags enclosed in angle brackets (like <html>)"
   ]
  },
  {
   "cell_type": "markdown",
   "metadata": {},
   "source": [
    "### Important Tags\n",
    "\n",
    "```html\n",
    "<div>Defines a division or section</div>\n",
    "<a href=\"http://www.w3schools.com\">Link to W3Schools.com!</a>\n",
    "<table>Will contain a table</table>\n",
    "<p>This is a paragraph</p>\n",
    "<h1>This is a header!<h1>\n",
    "<ul>\n",
    "    <li>This is a list</li>\n",
    "</ul>\n",
    "```"
   ]
  },
  {
   "cell_type": "markdown",
   "metadata": {},
   "source": [
    "# 8. CSS\n",
    "(Cascading Style Sheets)\n",
    "* Enable the separation of document content from document presentation\n",
    "* Controls aspects such as the layout, colors, and fonts.\n",
    "* \"Cascading\" is used because the most specific rule is chosen\n",
    "\n",
    "\n",
    "## CSS Syntax\n",
    "\n",
    "* A CSS rule-set consists of a selector and a declaration block:\n",
    "* Example:\n",
    "```\n",
    "p {\n",
    "    color: red;\n",
    "    text-align: center;\n",
    "}\n",
    "```\n",
    "\n",
    "* Learn more about CSS Syntax here: http://www.w3schools.com/css/css_syntax.asp"
   ]
  },
  {
   "cell_type": "markdown",
   "metadata": {},
   "source": [
    "# Scraping a webpage.\n",
    "\n",
    " * Use [Requests](http://docs.python-requests.org/en/latest/).\n",
    " * Use [BeautifulSoup](http://www.crummy.com/software/BeautifulSoup/)\n",
    " * Or get fancy and try [lxml](http://lxml.de/)"
   ]
  },
  {
   "cell_type": "code",
   "execution_count": null,
   "metadata": {
    "collapsed": true
   },
   "outputs": [],
   "source": [
    "import requests\n",
    "z = requests.get('http://galvanize.com')\n"
   ]
  },
  {
   "cell_type": "markdown",
   "metadata": {},
   "source": [
    "# I guess I can't scrape this site.\n",
    "Can you see it?\n",
    "\n",
    "* Basic auth. "
   ]
  },
  {
   "cell_type": "code",
   "execution_count": null,
   "metadata": {
    "collapsed": false
   },
   "outputs": [],
   "source": [
    "import requests\n",
    "z = requests.get('http://galvanizesf.roomzilla.net')\n"
   ]
  },
  {
   "cell_type": "code",
   "execution_count": null,
   "metadata": {
    "collapsed": false
   },
   "outputs": [],
   "source": [
    "HTML(z.content)"
   ]
  },
  {
   "cell_type": "code",
   "execution_count": null,
   "metadata": {
    "collapsed": false
   },
   "outputs": [],
   "source": [
    "import requests\n",
    "z = requests.get('http://galvanizesf.roomzilla.net', auth=('', 'gVIP543'))"
   ]
  },
  {
   "cell_type": "code",
   "execution_count": null,
   "metadata": {
    "collapsed": false
   },
   "outputs": [],
   "source": [
    "HTML(z.content)"
   ]
  },
  {
   "cell_type": "code",
   "execution_count": null,
   "metadata": {
    "collapsed": false
   },
   "outputs": [],
   "source": [
    "#But python can't see it.\n",
    "z = requests.get('https://accounts.craigslist.org/login/home')\n",
    "HTML(z.content)"
   ]
  },
  {
   "cell_type": "code",
   "execution_count": null,
   "metadata": {
    "collapsed": true
   },
   "outputs": [],
   "source": [
    "clist_pwd = 'G))XwjxV'"
   ]
  },
  {
   "cell_type": "code",
   "execution_count": null,
   "metadata": {
    "collapsed": false
   },
   "outputs": [],
   "source": [
    "s = requests.Session()\n",
    "#z_ = s.get('https://accounts.craigslist.org/login')\n",
    "form_data = {'step':'confirmation',\n",
    "         'p': 0,\n",
    "         'rt': '',\n",
    "         'rp': '',\n",
    "         'inputEmailHandle':'isaac.laughlin@gmail.com',\n",
    "         'inputPassword':clist_pwd}\n",
    "headers = {\"Host\": \"accounts.craigslist.org\",\n",
    "           \"Origin\": \"https://accounts.craigslist.org\",\n",
    "           \"Referer\": \"https://accounts.craigslist.org/login\",\n",
    "           'User-Agent':\"Mozilla/5.0 (Macintosh; Intel Mac OS X 10_10_3) AppleWebKit/537.36 (KHTML, like Gecko) Chrome/43.0.2357.130 Safari/537.36\"}\n",
    "\n",
    "s.headers.update(headers)\n",
    "z = s.post('https://accounts.craigslist.org/login', data=form_data)\n",
    "z"
   ]
  },
  {
   "cell_type": "code",
   "execution_count": null,
   "metadata": {
    "collapsed": true
   },
   "outputs": [],
   "source": []
  },
  {
   "cell_type": "code",
   "execution_count": null,
   "metadata": {
    "collapsed": false
   },
   "outputs": [],
   "source": [
    "HTML(z.text)"
   ]
  },
  {
   "cell_type": "code",
   "execution_count": null,
   "metadata": {
    "collapsed": false
   },
   "outputs": [],
   "source": [
    "HTML(z.text)"
   ]
  },
  {
   "cell_type": "code",
   "execution_count": null,
   "metadata": {
    "collapsed": false
   },
   "outputs": [],
   "source": [
    "z.content"
   ]
  },
  {
   "cell_type": "markdown",
   "metadata": {},
   "source": [
    "# Beautiful Soup (or getting data from your webpage)."
   ]
  },
  {
   "cell_type": "code",
   "execution_count": null,
   "metadata": {
    "collapsed": false
   },
   "outputs": [],
   "source": [
    "#w = UnicodeDammit(z.content, is_html=True)\n",
    "soup = BeautifulSoup(z.content, from_encoding='UTF-8')\n",
    "t = soup.findAll('table')\n",
    "listings = t[1]"
   ]
  },
  {
   "cell_type": "code",
   "execution_count": null,
   "metadata": {
    "collapsed": false
   },
   "outputs": [],
   "source": [
    "rows = listings.findAll('tr')\n",
    "data = [[x.text for x in row.findAll('td')] for row in rows]\n",
    "data"
   ]
  },
  {
   "cell_type": "code",
   "execution_count": null,
   "metadata": {
    "collapsed": false
   },
   "outputs": [],
   "source": [
    "[row.findAll('td') for row in rows]"
   ]
  },
  {
   "cell_type": "code",
   "execution_count": null,
   "metadata": {
    "collapsed": false
   },
   "outputs": [],
   "source": [
    "t[1]"
   ]
  },
  {
   "cell_type": "code",
   "execution_count": null,
   "metadata": {
    "collapsed": false
   },
   "outputs": [],
   "source": [
    "f = open('web scraping.ipynb', 'r')"
   ]
  },
  {
   "cell_type": "code",
   "execution_count": null,
   "metadata": {
    "collapsed": false
   },
   "outputs": [],
   "source": [
    "f.next()"
   ]
  },
  {
   "cell_type": "code",
   "execution_count": null,
   "metadata": {
    "collapsed": false
   },
   "outputs": [],
   "source": [
    "filestr = f.read()"
   ]
  },
  {
   "cell_type": "code",
   "execution_count": null,
   "metadata": {
    "collapsed": false
   },
   "outputs": [],
   "source": [
    "sio = StringIO.StringIO(t[1])\n",
    "sio.next()"
   ]
  },
  {
   "cell_type": "code",
   "execution_count": null,
   "metadata": {
    "collapsed": false
   },
   "outputs": [],
   "source": [
    "df = pd.read_html(StringIO.StringIO(t[1]),\n",
    "                header=0)[0]\n",
    "df.head()\n",
    "#WE'RE IN BUSINESS"
   ]
  },
  {
   "cell_type": "markdown",
   "metadata": {},
   "source": [
    "# Baseball scores\n",
    "\n"
   ]
  },
  {
   "cell_type": "code",
   "execution_count": null,
   "metadata": {
    "collapsed": false
   },
   "outputs": [],
   "source": [
    "scoreboard_html = requests.get('http://m.mlb.com/scoreboard#date=6/25/2015')\n",
    "HTML(scoreboard_html.content)"
   ]
  },
  {
   "cell_type": "markdown",
   "metadata": {},
   "source": [
    "# Where's the data?\n",
    "\n",
    "AJAX. (YAY).\n",
    "\n",
    "APIs and Javascript.\n",
    "\n",
    "* A lot of webpages are actually built out of many small APIs (Application Programming Interface). \n",
    "  * http://m.mlb.com/scoreboard/\n",
    "  * http://mlb.mlb.com/gdcross/components/game/mlb/year_2015/month_04/day_19/master_scoreboard.json\n",
    "* AJAX: the page is updated using javascript.\n",
    "* This might make scraping hard (requests doesn't resolve javascript)\n",
    " * Or easy."
   ]
  },
  {
   "cell_type": "code",
   "execution_count": null,
   "metadata": {
    "collapsed": true
   },
   "outputs": [],
   "source": [
    "sboard = requests.get('http://m.mlb.com/gdcross/components/game/mlb/year_2015/month_06/day_25/master_scoreboard.json')"
   ]
  },
  {
   "cell_type": "code",
   "execution_count": null,
   "metadata": {
    "collapsed": false
   },
   "outputs": [],
   "source": [
    "import json\n",
    "sb_dict = json.loads(sboard.text)\n",
    "\n",
    "sb_dict['copyright']"
   ]
  },
  {
   "cell_type": "markdown",
   "metadata": {},
   "source": [
    "# Logging in to galvanize roomzilla page."
   ]
  },
  {
   "cell_type": "code",
   "execution_count": null,
   "metadata": {
    "collapsed": true
   },
   "outputs": [],
   "source": [
    "gz = s.get('https://accounts.craigslist.org/login')"
   ]
  },
  {
   "cell_type": "code",
   "execution_count": null,
   "metadata": {
    "collapsed": false
   },
   "outputs": [],
   "source": [
    "s.post?"
   ]
  },
  {
   "cell_type": "markdown",
   "metadata": {},
   "source": [
    "# Mongo DB\n",
    "\n",
    "* NOSQL: Not Only SQL.\n",
    "* Documents vs. Schema\n",
    "* Good for:\n",
    "* Bad for:\n",
    "\n",
    "## Why for scraping?\n",
    "Oftentimes, in scraping you don't know what you'll get!"
   ]
  },
  {
   "cell_type": "code",
   "execution_count": null,
   "metadata": {
    "collapsed": false
   },
   "outputs": [],
   "source": [
    "import pymongo\n"
   ]
  },
  {
   "cell_type": "code",
   "execution_count": null,
   "metadata": {
    "collapsed": true
   },
   "outputs": [],
   "source": [
    "mdb = pymongo.MongoClient('localhost', 27017)"
   ]
  },
  {
   "cell_type": "code",
   "execution_count": null,
   "metadata": {
    "collapsed": false
   },
   "outputs": [],
   "source": [
    "test_db = mdb.test_db"
   ]
  },
  {
   "cell_type": "code",
   "execution_count": null,
   "metadata": {
    "collapsed": false
   },
   "outputs": [],
   "source": [
    "users = test_db.users"
   ]
  },
  {
   "cell_type": "code",
   "execution_count": null,
   "metadata": {
    "collapsed": false
   },
   "outputs": [],
   "source": [
    "users.find_one()"
   ]
  },
  {
   "cell_type": "code",
   "execution_count": null,
   "metadata": {
    "collapsed": false
   },
   "outputs": [],
   "source": [
    "post_id = users.insert({'name':'Boaz'})\n",
    "post_id"
   ]
  },
  {
   "cell_type": "code",
   "execution_count": null,
   "metadata": {
    "collapsed": false
   },
   "outputs": [],
   "source": [
    "post_id"
   ]
  },
  {
   "cell_type": "code",
   "execution_count": null,
   "metadata": {
    "collapsed": false
   },
   "outputs": [],
   "source": [
    "users.find_one({'_id': post_id})"
   ]
  },
  {
   "cell_type": "code",
   "execution_count": null,
   "metadata": {
    "collapsed": true
   },
   "outputs": [],
   "source": [
    "users.find_one({'_id': '5591a3866291224d1d7afb40'})"
   ]
  },
  {
   "cell_type": "code",
   "execution_count": null,
   "metadata": {
    "collapsed": false
   },
   "outputs": [],
   "source": [
    "users"
   ]
  }
 ],
 "metadata": {
  "kernelspec": {
   "display_name": "Python 2",
   "language": "python",
   "name": "python2"
  },
  "language_info": {
   "codemirror_mode": {
    "name": "ipython",
    "version": 2
   },
   "file_extension": ".py",
   "mimetype": "text/x-python",
   "name": "python",
   "nbconvert_exporter": "python",
   "pygments_lexer": "ipython2",
   "version": "2.7.12"
  }
 },
 "nbformat": 4,
 "nbformat_minor": 0
}
