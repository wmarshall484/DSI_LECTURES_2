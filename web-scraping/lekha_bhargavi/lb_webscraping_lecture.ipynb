{
 "cells": [
  {
   "cell_type": "markdown",
   "metadata": {},
   "source": [
    "# Web Scraping and HTML Concepts\n"
   ]
  },
  {
   "cell_type": "markdown",
   "metadata": {},
   "source": [
    "## Today's Objectives: \n",
    "### Morning:\n",
    "* *Walk through* a typical web data pipeline\n",
    "* *Compare and Contrast* SQL and noSQL\n",
    "* *Perform* basic operations using Mongo and PyMongo\n",
    "* *Explain* the basic concepts of HTML\n",
    "\n",
    "### Afternoon:\n",
    "* *Learn how to* write code to pull elements from a web page\n",
    "* *Use* an existing API to fetch data and parse using BeautifulSoup\n"
   ]
  },
  {
   "cell_type": "markdown",
   "metadata": {},
   "source": [
    "## 1. Resources\n",
    "\n",
    "* [Precourse-Web Awareness](https://github.com/zipfian/precourse/tree/master/Chapter_8_Web_Awareness)\n",
    "* [The Little MongoDB Bok](http://openmymind.net/mongodb.pdf)\n",
    "* [w3 schools](http://www.w3schools.com/)\n",
    "* [PyMongo tutorial](http://api.mongodb.org/python/current/tutorial.html)\n",
    "* [BeautifulSoup Documentation](http://www.crummy.com/software/BeautifulSoup/bs4/doc/)\n",
    "* [Scrape anonymously with Tor](https://deshmukhsuraj.wordpress.com/2015/03/08/anonymous-web-scraping-using-python-and-tor/)\n",
    "\n"
   ]
  },
  {
   "cell_type": "markdown",
   "metadata": {},
   "source": [
    "## 2. Installing Mongo and PyMongo\n",
    "\n",
    "### Mongo\n",
    "1. Install MongoDB: [https://docs.mongodb.org/manual/installation/](https://docs.mongodb.org/manual/installation/)\n",
    "\n",
    "2. Much like Postgres, you will need to launch the server before using Mongo. \n",
    "\n",
    "   - If the directory `/data/db` does not exist, create it by: `mkdir -p /data/db`\n",
    "   - To start the Mongo server: `sudo mongod`\n",
    "   - The server usually runs on `localhost:27017`\n",
    "   - Open a new terminal and type `mongo` to open up a Mongo shell\n",
    "   - Type `show dbs;` to show the databases you have\n",
    "   - You can exit by typing `exit`\n",
    "\n",
    "\n",
    "### PyMongo\n",
    "2. Install PyMongo: [http://api.mongodb.org/python/current/installation.html](http://api.mongodb.org/python/current/installation.html)"
   ]
  },
  {
   "cell_type": "markdown",
   "metadata": {},
   "source": [
    "## 3. SQL vs NoSQL\n",
    "\n",
    "* Contrary to what some folks may want, NoSQL does not stand for 'No SQL'.\n",
    "* Different Paradigm to deal with messy data that does not lend itself to an RDBMS\n",
    "* A NoSQL stack may include a RDBMS component, Redis to handle queuing and Hadoop for Big Data processing\n",
    "* NoSQL ==> \"Not Only SQL\"\n"
   ]
  },
  {
   "cell_type": "markdown",
   "metadata": {},
   "source": [
    "## 4. Typical Pipeline\n",
    "<img src=\"pipeline.png\" width = 500>"
   ]
  },
  {
   "cell_type": "markdown",
   "metadata": {},
   "source": [
    "## 5. MongoDB Concepts\n",
    "\n",
    "* MongoDB is a document-oriented database, an alternative to RDBMS\n",
    "* Used for storing semi-structured data\n",
    "* JSON-like objects form the data model, rather than RDBMS tables\n",
    "* No schema, No joins, No transactions\n",
    "* Sub-optimal for complicated queries\n",
    "\n",
    "* MongoDB is made up of databases which contain collections (tables)\n",
    "* A collection is made up of documents (rows or records)\n",
    "* Each document is made up of fields (columns)\n",
    "\n",
    "* RDBMS defines columns at the table level, document oriented database defines its fields at a document level.\n",
    "\n",
    "* CURSOR: When you ask MongoDB for data, it returns a pointer to the result set called a cursor, which we can do things to, such as counting or skipping ahead, before actually pulling down data. Actual execution is delayed until necessary.\n",
    "\n"
   ]
  },
  {
   "cell_type": "markdown",
   "metadata": {},
   "source": [
    "### Mongo Clients\n",
    "<img src=\"client-server.png\" width = 500>\n"
   ]
  },
  {
   "cell_type": "markdown",
   "metadata": {},
   "source": [
    "## 6.  Create a Database and do some operations\n",
    "\n",
    "* Mongo can create databases, collections, documents, etc. on the fly. \n",
    "* To create a new database simply try to use the database you haven't created: use my_new_database"
   ]
  },
  {
   "cell_type": "markdown",
   "metadata": {},
   "source": [
    "## Inserting Data\n",
    "```\n",
    "db.users.insert({ name: 'Jon', age: '45', friends: [ 'Henry', 'Ashley']})\n",
    "\n",
    "show dbs\n",
    "db.getCollectionNames()\n",
    "\n",
    "db.users.insert({ name: 'Ashley', age: '37', friends: [ 'Jon', 'Henry']})\n",
    "db.users.insert({ name: 'Frank', age: '17', friends: [ 'Billy'], car : 'Civic'})\n",
    "\n",
    "db.users.find()\n",
    "```\n",
    "* Mongo creates the _id field by default"
   ]
  },
  {
   "cell_type": "markdown",
   "metadata": {},
   "source": [
    "## Querying Data\n",
    "```\n",
    "// find by single field\n",
    "db.users.find({ name: 'Jon'})\n",
    "\n",
    "// find by presence of field\n",
    "db.users.find({ car: { $exists : true } })\n",
    "\n",
    "// find by value in array\n",
    "db.users.find({ friends: 'Henry' })\n",
    "\n",
    "// field selection (only return name)\n",
    "db.users.find({}, { name: true })\n",
    "```\n"
   ]
  },
  {
   "cell_type": "markdown",
   "metadata": {},
   "source": [
    "# MongoDB Example"
   ]
  },
  {
   "cell_type": "markdown",
   "metadata": {},
   "source": [
    "## PyMongo\n"
   ]
  },
  {
   "cell_type": "code",
   "execution_count": null,
   "metadata": {
    "collapsed": true
   },
   "outputs": [],
   "source": [
    "# import MongoDB modules\n",
    "from pymongo import MongoClient"
   ]
  },
  {
   "cell_type": "code",
   "execution_count": null,
   "metadata": {
    "collapsed": true
   },
   "outputs": [],
   "source": [
    "# connect to the hosted MongoDB instance\n",
    "client = MongoClient('mongodb://localhost:27017/')"
   ]
  },
  {
   "cell_type": "code",
   "execution_count": null,
   "metadata": {
    "collapsed": true
   },
   "outputs": [],
   "source": [
    "db = client.lb_test"
   ]
  },
  {
   "cell_type": "code",
   "execution_count": null,
   "metadata": {
    "collapsed": true
   },
   "outputs": [],
   "source": [
    "users = db.lb_users"
   ]
  },
  {
   "cell_type": "code",
   "execution_count": null,
   "metadata": {
    "collapsed": false
   },
   "outputs": [],
   "source": [
    "users.insert_one({'name':'lekha', 'city':'seattle'})"
   ]
  },
  {
   "cell_type": "code",
   "execution_count": null,
   "metadata": {
    "collapsed": false
   },
   "outputs": [],
   "source": [
    "users.insert_one({'name':'joe', 'city':'new york' })"
   ]
  },
  {
   "cell_type": "code",
   "execution_count": null,
   "metadata": {
    "collapsed": false
   },
   "outputs": [],
   "source": [
    "users.find().count()"
   ]
  },
  {
   "cell_type": "code",
   "execution_count": null,
   "metadata": {
    "collapsed": false
   },
   "outputs": [],
   "source": [
    "users.find_one()"
   ]
  },
  {
   "cell_type": "code",
   "execution_count": null,
   "metadata": {
    "collapsed": false
   },
   "outputs": [],
   "source": [
    "t = users.find_one({'name': 'lekha'})\n",
    "t"
   ]
  },
  {
   "cell_type": "code",
   "execution_count": null,
   "metadata": {
    "collapsed": true
   },
   "outputs": [],
   "source": [
    "users.find().count()"
   ]
  },
  {
   "cell_type": "code",
   "execution_count": null,
   "metadata": {
    "collapsed": true
   },
   "outputs": [],
   "source": []
  },
  {
   "cell_type": "markdown",
   "metadata": {},
   "source": [
    "# 7. HTML Concepts"
   ]
  },
  {
   "cell_type": "markdown",
   "metadata": {},
   "source": [
    "* HyperText Markup Language\n",
    "* A markup language that forms the building blocks of all websites\n",
    "* Consists of tags enclosed in angle brackets (like <html>)"
   ]
  },
  {
   "cell_type": "markdown",
   "metadata": {},
   "source": [
    "### Important Tags\n",
    "\n",
    "```html\n",
    "<div>Defines a division or section</div>\n",
    "<a href=\"http://www.w3schools.com\">Link to W3Schools.com!</a>\n",
    "<table>Will contain a table</table>\n",
    "<p>This is a paragraph</p>\n",
    "<h1>This is a header!<h1>\n",
    "<ul>\n",
    "    <li>This is a list</li>\n",
    "</ul>\n",
    "```"
   ]
  },
  {
   "cell_type": "markdown",
   "metadata": {},
   "source": [
    "# 8. CSS\n",
    "(Cascading Style Sheets)\n",
    "* Enable the separation of document content from document presentation\n",
    "* Controls aspects such as the layout, colors, and fonts.\n",
    "* \"Cascading\" is used because the most specific rule is chosen\n",
    "\n",
    "\n",
    "## CSS Syntax\n",
    "\n",
    "* A CSS rule-set consists of a selector and a declaration block:\n",
    "* Example:\n",
    "```\n",
    "p {\n",
    "    color: red;\n",
    "    text-align: center;\n",
    "}\n",
    "```\n",
    "\n",
    "* Examples of CSS selectors: ```id, class```"
   ]
  },
  {
   "cell_type": "markdown",
   "metadata": {},
   "source": [
    "# Afternoon: Web Scraping using requests and BeautifulSoup"
   ]
  },
  {
   "cell_type": "markdown",
   "metadata": {},
   "source": [
    "## Web vs Internet\n",
    "\n",
    "* Web is www (World Wide Web) \n",
    "* Different from Internet\n",
    "* Web as collection of islands and internet as bridges connecting the islands\n",
    "* HTTP is the language of the Web"
   ]
  },
  {
   "cell_type": "markdown",
   "metadata": {},
   "source": [
    "## Types of HTTP requests\n",
    "\n",
    "* GET (queries data)\n",
    "* POST (updates data)\n",
    "* PUT (updates data)\n",
    "* DELETE (updates data)\n",
    "\n",
    "## API\n",
    "* API is a way for developers to communicate with a certain application against a specific contract\n",
    "* An API is typically defined as a set of Hypertext Transfer Protocol (HTTP) request messages, along with a definition of the structure of response messages, which is usually in an Extensible Markup Language (XML) or JavaScript Object Notation (JSON) format.\n",
    "\n",
    "* Send queries through the URL\n",
    " * Google: geolocations\n",
    " * yelp: restaurants/reviews\n",
    " * Zillow: housing info/ demograpics\n",
    " * Socrata: government data"
   ]
  },
  {
   "cell_type": "code",
   "execution_count": null,
   "metadata": {
    "collapsed": false
   },
   "outputs": [],
   "source": [
    "# import the Requests HTTP library\n",
    "import requests\n",
    "\n",
    "# import the Beautiful Soup module \n",
    "from bs4 import BeautifulSoup"
   ]
  },
  {
   "cell_type": "markdown",
   "metadata": {},
   "source": [
    "## Scraping"
   ]
  },
  {
   "cell_type": "code",
   "execution_count": null,
   "metadata": {
    "collapsed": true
   },
   "outputs": [],
   "source": [
    "r = requests.get('https://en.wikipedia.org/wiki/Diurnal_cycle')"
   ]
  },
  {
   "cell_type": "code",
   "execution_count": null,
   "metadata": {
    "collapsed": false
   },
   "outputs": [],
   "source": [
    "soup = BeautifulSoup(r.content)"
   ]
  },
  {
   "cell_type": "code",
   "execution_count": null,
   "metadata": {
    "collapsed": false
   },
   "outputs": [],
   "source": [
    "print(soup.prettify())"
   ]
  },
  {
   "cell_type": "code",
   "execution_count": null,
   "metadata": {
    "collapsed": false
   },
   "outputs": [],
   "source": [
    "print soup.title"
   ]
  },
  {
   "cell_type": "code",
   "execution_count": null,
   "metadata": {
    "collapsed": false
   },
   "outputs": [],
   "source": [
    "for a in soup.findAll('link'):\n",
    "    print a['href']\n"
   ]
  },
  {
   "cell_type": "code",
   "execution_count": null,
   "metadata": {
    "collapsed": true
   },
   "outputs": [],
   "source": []
  }
 ],
 "metadata": {
  "kernelspec": {
   "display_name": "Python 2",
   "language": "python",
   "name": "python2"
  },
  "language_info": {
   "codemirror_mode": {
    "name": "ipython",
    "version": 2
   },
   "file_extension": ".py",
   "mimetype": "text/x-python",
   "name": "python",
   "nbconvert_exporter": "python",
   "pygments_lexer": "ipython2",
   "version": "2.7.11"
  }
 },
 "nbformat": 4,
 "nbformat_minor": 0
}
