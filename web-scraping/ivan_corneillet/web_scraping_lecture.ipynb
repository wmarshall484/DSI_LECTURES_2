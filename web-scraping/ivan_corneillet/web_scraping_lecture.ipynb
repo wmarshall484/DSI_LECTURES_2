{
 "cells": [
  {
   "cell_type": "markdown",
   "metadata": {
    "collapsed": true
   },
   "source": [
    "# Web Scraping!!!!\n",
    "\n",
    "(stolen from Cary...)\n",
    "\n",
    "## Morning Objectives\n",
    "\n",
    "1. Understand motivation for web scraping:\n",
    "    * What does a web data pipeline look like?\n",
    "    * How should we store data from the web?\n",
    "2. Know high level differences between NoSQL and SQL.\n",
    "3. Perform basic operations using Mongo Shell.\n",
    "\n",
    "<div style=\"text-align: center\"><h3>The Reality of Scraping</h3><img src=\"images/scraping_meme.png\" style=\"width: 600px\"></div>"
   ]
  },
  {
   "cell_type": "markdown",
   "metadata": {},
   "source": [
    "## Why do we scrape the web?\n",
    "\n",
    "* Realistically, data that you want to study won't always be avaliable to you in the form of a curated data set.\n",
    "* Need to go to the internets to find interesting data:\n",
    "    * From an existing company\n",
    "    * Text for NLP\n",
    "    * Images\n",
    "    <div style=\"text-align: center\"><h3>Web Data Pipeline</h3><img src=\"images/web_data_pipeline.png\" style=\"width: 600px\"></div>"
   ]
  },
  {
   "cell_type": "markdown",
   "metadata": {},
   "source": [
    "## Storing data from the web\n",
    "\n",
    "* We already know how to store data -> SQL (RBDMS).\n",
    "    * Why wouldn't SQL necessarily be the best tool for storing data that we retrieve from the web?\n",
    "        * Data are messy!\n",
    "* Enter No SQL. Stands for **N**ot **o**nly **SQL**. MongoDB is a flavor of NoSQL, like PosgreSQL is a flavor of SQL.\n",
    "    * A NoSQL paradigm may be preferable to SQL because it is schemaless.\n",
    "    * Great for storing unstructured data, as we may find on the web!\n",
    "    * MongoDB is a document-oriented DBMS:\n",
    "      <div style=\"text-align: center\"><h3>Centered around \"Documents\"</h3><img src=\"images/document_based_storage.png\" style=\"width: 600px\"></div>"
   ]
  },
  {
   "cell_type": "markdown",
   "metadata": {},
   "source": [
    "## SQL vs. Mongo\n",
    "\n",
    "* SQL - want to prevent reduncancy in data by having tables with unique information and relations between them (normalized data).\n",
    "    * Creates a framework for querying with joins.\n",
    "    * Makes it easier to update database. Only ever have to change information in a single place.\n",
    "    * This can result in \"simple\" queries being slower, but more complex queries are often faster.\n",
    "* Mongo - document based storage system. Does not enforce normalized data. Can have data redundancies in documents (denormalized data).\n",
    "    * No joins.\n",
    "    * A change to database generally results in needing to change many documents.\n",
    "    * Since there is redundancy in the documents, simple queries are generally faster. But complex queries are often slower.\n",
    "    \n",
    "\n",
    "|         | SQL          | Mongo          |\n",
    "|---------|--------------|----------------|\n",
    "| Schema  | Yes => Joins | No => No Joins |\n",
    "| Storage | Table        | Collection     |\n",
    "|         | Row          | Document       |\n",
    "|         | Column       | Field          |"
   ]
  },
  {
   "cell_type": "markdown",
   "metadata": {},
   "source": [
    "## Connecting to Mongo\n",
    "\n",
    "In practice, there two main ways that you will be connecting with mongo:\n",
    "\n",
    "* From Python\n",
    "* From the console - shell\n",
    "    \n",
    "<div style=\"text-align: center\"><img src=\"images/mongo_clients.png\" style=\"width: 600px\"></div>\n",
    "\n",
    "Both of these clients require a Mongo server to be running. In practice this will require you to start a Mongo Daemon process. To do this exectute the command `mongod` at the terminal.\n",
    "\n",
    "* Note: The Mongo Daemon will need to occupy the terminal that you started it in for the life of the server session. Read: run `mongod` in a seperate terminal tab (or tmux).\n",
    "\n",
    "Now we're going to explore the interacting with the mongo shell. This is not the main way that you'll be interacting with mongo while scraping, we have Python for that. But it's good to know how to issue queries from the shell for various reasons."
   ]
  },
  {
   "cell_type": "markdown",
   "metadata": {},
   "source": [
    "# Mongo Shell Demo Code\n",
    "\n",
    "## Using Mongo - General Commands for Inspecting Mongo\n",
    "\n",
    "```javascript\n",
    "help                        // List top level mongo commands\n",
    "\n",
    "db.help()                   // List database level mongo commands\n",
    "\n",
    "db.<collection name>.help() // List collection level mongo commands.\n",
    "\n",
    "show dbs                    // Get list of databases on your system\n",
    "\n",
    "use <database name>         // Change the database that you're current using\n",
    "\n",
    "show collections            // Get list of collections within the database that you're currently using\n",
    "```"
   ]
  },
  {
   "cell_type": "markdown",
   "metadata": {},
   "source": [
    "## Inserting\n",
    "\n",
    "Once you're using a database you refer to it with the name **db**. Collections within databases are accessible through dot notation.\n",
    "\n",
    "```javascript\n",
    "db.users.insert({ name: 'Jon', age: '45', friends: [ 'Henry', 'Ashley']})\n",
    "\n",
    "db.getCollectionNames()  // Another way to get the names of collections in current database\n",
    "\n",
    "db.users.insert({ name: 'Ashley', age: '37', friends: [ 'Jon', 'Henry']})\n",
    "db.users.insert({ name: 'Frank', age: '17', friends: [ 'Billy'], car : 'Civic'})\n",
    "\n",
    "db.users.find()\n",
    "\n",
    "    { \"_id\" : ObjectId(\"573a39\"), \"name\" : \"Jon\", \"age\" : \"45\", \"friends\" : [ \"Henry\", \"Ashley\" ] }\n",
    "    { \"_id\" : ObjectId(\"573a3a\"), \"name\" : \"Ashley\", \"age\" : \"37\", \"friends\" : [ \"Jon\", \"Henry\" ] }\n",
    "    { \"_id\" : ObjectId(\"573a3b\"), \"name\" : \"Frank\", \"age\" : \"17\", \"friends\" : [ \"Billy\" ], \"car\" : \"Civic\" }\n",
    "```\n",
    "\n",
    "Things to note:\n",
    "* The three documents that we inserted into the above database didn't all have the same fields.\n",
    "* Mongo creates an ` _id` field for each document if one isn't provided."
   ]
  },
  {
   "cell_type": "markdown",
   "metadata": {},
   "source": [
    "## Querying\n",
    "\n",
    "```javascript\n",
    "db.users.find({ name: 'Jon'})                       // find by single field\n",
    "\n",
    "db.users.find({ car: { $exists : true } })          // find by presence of field\n",
    "\n",
    "db.users.find({ friends: 'Henry' })                 // find by value in array\n",
    "\n",
    "db.users.find({}, { name: true })                   // field selection (only return name)\n",
    "```\n",
    "\n",
    "A quick way to figure out how to write a Mongo query is to think about how you would do it in SQL and check out a resource like this Mongo endorsed [conversion guide](https://docs.mongodb.com/manual/reference/sql-comparison/#create-and-alter), or use something like a [query translator](http://www.querymongo.com/)."
   ]
  },
  {
   "cell_type": "markdown",
   "metadata": {},
   "source": [
    "## Updating\n",
    "\n",
    "```javascript\n",
    "db.users.update({name: \"Jon\"}, { $set: {friends: [\"Phil\"]}})            // replaces friends array\n",
    "\n",
    "db.users.update({name: \"Jon\"}, { $push: {friends: \"Susie\"}})            // adds to friends array\n",
    "\n",
    "db.users.update({name: \"Stevie\"}, { $push: {friends: \"Nicks\"}}, true)   // upsert\n",
    "\n",
    "db.users.update({}, { $set: { activated : false } }, false, true)       // multiple updates\n",
    "```"
   ]
  },
  {
   "cell_type": "markdown",
   "metadata": {},
   "source": [
    "## Imports and Cursors\n",
    "\n",
    "To import existing data into a mongo database one uses `mongoimport` at the command line. In this way mongo will accept a number of data types: JSON, CSV, and TSV.\n",
    "\n",
    "```\n",
    "mongoimport --db tweets --collection coffee --file coffee-tweets.json\n",
    "```\n",
    "\n",
    "Now that we have some larger data we can see that returns from queries are not always so small.\n",
    "\n",
    "```javascript\n",
    "use tweets\n",
    "db.coffee.find()\n",
    "```\n",
    "\n",
    "When the return from a query will display up to the first 20 documents, after that you will need to type `it` to get more. The cursor that it returns is actually an object that has many methods implemented on it and supports the command `it` to iterate through more return items.\n",
    "\n",
    "```javascript\n",
    "db.coffee.find().count()      // 122\n",
    "\n",
    "db.coffee.find().limit(2)     // Only two documents\n",
    "\n",
    "db.coffee.find().sort({ 'user.followers_count' : -1}).limit(3)  // Top three users by followers count\n",
    "```"
   ]
  },
  {
   "cell_type": "markdown",
   "metadata": {},
   "source": [
    "## Iteration\n",
    "\n",
    "MongoDB also has a flexible shell/driver. This allows you take some action based on a query or update documents. You can use an iterator on the cursor to go document by document. In the Javascript shell we can do this with Javascript's `forEach`. `forEach` is similar to Python's iteration with the `for` loop; however, Javascript actually has a more functional approach to this type of iteration and requires that you pass a callback, a function, similar to `map` and `reduce`.\n",
    "\n",
    "```javascript\n",
    "db.coffee.find().forEach(function(doc) {\n",
    "    doc.entities.urls.forEach(function(url) {\n",
    "        db.urls.update({ 'url': url }, { $push: { 'user': doc.user } }, true)\n",
    "    });\n",
    "});\n",
    "```"
   ]
  },
  {
   "cell_type": "markdown",
   "metadata": {},
   "source": [
    "## Aggregation\n",
    "\n",
    "Aggregations in Mongo end up being way less pretty than in SQL/Pandas. Let's just bite the bullet and take a look:\n",
    "\n",
    "```\n",
    "db.coffee.aggregate( [ { $group :\n",
    "    {\n",
    "        _id: \"$filter_level\",\n",
    "        count: { $sum: 1 }\n",
    "    }\n",
    "}])\n",
    "```\n",
    "\n",
    "Here we are first declaring that we're going to do some sort of grouping operation. Then, as Mongo desires everything to have an `_id` field, we specify that the `_id` is going to be the filter level. And then we're going to perform a sum over each level counting 1 for each observation. This information is going to be stored in a field called `count`. What do we get back?\n",
    "\n",
    "We can also do more complicated stuff as well. Here's a query that returns the average number of friends users in this dataset by country. We need to access the country code field of the place field, but that is easy with an object oriented language like JS.\n",
    "\n",
    "```\n",
    "db.coffee.aggregate( [ { $group :\n",
    "    {\n",
    "        _id: \"$place.country_code\",\n",
    "        averageFriendCount: { $max: \"$user.friends_count\" }\n",
    "    }\n",
    "}])\n",
    "```\n",
    "\n",
    "For a guide on how to convert from an SQL style aggregation to a Mongo style aggreagetion, check out this [aggreagtion conversion guide](https://docs.mongodb.com/manual/reference/sql-aggregation-comparison)."
   ]
  },
  {
   "cell_type": "markdown",
   "metadata": {},
   "source": [
    "## Afternoon Objectives\n",
    "\n",
    "1. Understand the process of getting data from the web.\n",
    "2. Know the basics of HTML/CSS:\n",
    "    * Know how to pull desired data from web pages.\n",
    "3. Be able to use existing API's to get fetch pre-formatted data.\n",
    "\n",
    "### Internet vs. World Wide Web\n",
    "\n",
    "* The internet is commonly refered to as a network of networks. It is the infrastructure that allows networks all around the world to connect with one another. There are many different protocols to transfer information within this larger, meta-network.\n",
    "* The World Wide Web, or Web, provides one of the ways that data can be transfered over the internet. Uses a **U**niform **R**esource **L**ocator, URL, to specify the location, within the internet, of a document.\n",
    "\n",
    "    <div style=\"text-align: center\"><h3>Anatomy of a URL</h3><img src=\"images/url.png\" style=\"width: 600px\"></div>\n",
    "    \n",
    "* Documents on the web are generally written in **H**yper**T**ext **M**arkup **L**anguage, HTML, which can be natively viewed by browsers, the tool that we use to browse the web.\n",
    "\n",
    "### Communication on the Web\n",
    "\n",
    "Information is transmitted around the web through a number of protocols. The main one that you will see is the **H**yper**T**ext **T**ransfer **P**rotocol, HTTP. These transfers, called **requests**, are initiated in a number of ways, but always begin with the client, read: you at your browser.\n",
    "\n",
    " <div style=\"text-align: center\"><h3>Requests in Action</h3><img src=\"images/requests.png\" style=\"width: 600px\"></div>\n",
    " \n",
    "There are 4 main types of request that can be issued by your browser: get, post, put and delete. For web scraping purposes, you will almost always be using get requests. We will learn some more about the others in a couple of weeks during data products day."
   ]
  },
  {
   "cell_type": "markdown",
   "metadata": {},
   "source": [
    "# Scraping from a Web Page with Python\n",
    "\n",
    "Scraping a web site basically comes down to making a request from Python and parsing through the HTML that is returned from each page. For each of these tasks we have a Python library, `requests` and `bs4`, respectively.\n",
    "\n",
    "### Requests Library\n",
    "\n",
    "The [requests](http://docs.python-requests.org/en/latest/index.html) library is designed to simplify the process of making http requests within Python. The interface is mindbogglingly simple. Instantiate a requests object to the request, this will mostly be a `get`, with the URL and optional parameters you'd like passed through the request. That instance make the results of the request available via attributes/methods."
   ]
  },
  {
   "cell_type": "code",
   "execution_count": 1,
   "metadata": {
    "collapsed": true
   },
   "outputs": [],
   "source": [
    "import requests\n",
    "fun_cheap = 'http://sf.funcheap.com'\n",
    "r = requests.get('http://sf.funcheap.com/2016/06/25/')"
   ]
  },
  {
   "cell_type": "code",
   "execution_count": 2,
   "metadata": {
    "collapsed": false
   },
   "outputs": [
    {
     "data": {
      "text/plain": [
       "u'<!DOCTYPE html PUBLIC \"-//W3C//DTD XHTML 1.0 Transitional//EN\" \"http://www.w3.org/TR/xhtml1/DTD/xhtml1-transitional.dtd\">\\r\\n<html xmlns=\"http://www.w3.org/1999/xhtml\" lang=\"en-US\" xmlns:fb=\"http://www.facebook.com/2008/fbml\" xmlns:og=\"http://opengraphprotocol.org/schema/\">\\r\\n\\r\\n<head profile=\"http://gmpg.org/xfn/11\">\\r\\n<script src=\"//cdn.optimizely.com/js/195632799.js\"></script>\\r\\n\\r\\n<meta http-equiv=\"Content-Type\" content=\"text/html; charset=UTF-8\" />\\r\\n\\r\\n\\r\\n<title>Events for June 25, 2016 Archives - FunCheapSF.com</title>\\r\\n\\r\\n<meta name=\"generator\" content=\"WordPress\" /> <!-- leave this for stats -->\\r\\n\\r\\n<link rel=\"stylesheet\" href=\"http://cdn.funcheap.com/wp-content/themes/arthemia-premium/style.css?v=1.6\" type=\"text/css\" media=\"screen\" />\\r\\n<link rel=\"stylesheet\" href=\"http://cdn.funcheap.com/wp-content/themes/arthemia-premium/madmenu.css?v=1.1\" type=\"text/css\" media=\"screen\" />\\r\\n<!--[if IE 6]>\\r\\n    <style type=\"text/css\">\\r\\n    body {\\r\\n        behavior:url(\"http://cdn.funcheap.com/wp-content/'"
      ]
     },
     "execution_count": 2,
     "metadata": {},
     "output_type": "execute_result"
    }
   ],
   "source": [
    "r.text[:1000] # First 1000 characters of the HTML"
   ]
  },
  {
   "cell_type": "markdown",
   "metadata": {},
   "source": [
    "### Getting Info from a Web Page\n",
    "\n",
    "Now that we can gain easy access to the HMTL for a web page, we need some way to pull the desired content from it. Luckily there is already a system in place to do this. With a combination of HMTL and CSS selectors we can identify the information on a HMTL page that we wish to retrieve and grab it with [BeautifulSoup](https://www.crummy.com/software/BeautifulSoup/bs4/doc/#searching-the-tree)."
   ]
  },
  {
   "cell_type": "code",
   "execution_count": 3,
   "metadata": {
    "collapsed": true
   },
   "outputs": [],
   "source": [
    "from bs4 import BeautifulSoup\n",
    "soup = BeautifulSoup(r.text, 'html.parser')"
   ]
  },
  {
   "cell_type": "code",
   "execution_count": 4,
   "metadata": {
    "collapsed": false,
    "scrolled": true
   },
   "outputs": [
    {
     "data": {
      "text/plain": [
       "[<a href=\"http://sf.funcheap.com/set-prides-pink-triangle-twin-peaks/\" rel=\"bookmark\" title=\"Giant Pink Triangle on Twin Peaks: Set-Up &amp; Ceremony | Pride 2016\">Giant Pink Triangle on Twin Peaks: Set-Up &amp; Ceremony | Pride 2016</a>,\n",
       " <a href=\"http://sf.funcheap.com/set-prides-pink-triangle-twin-peaks/\" rel=\"bookmark\" title=\"Giant Pink Triangle on Twin Peaks: Set-Up &amp; Ceremony | Pride 2016\"><img alt=\"Giant Pink Triangle on Twin Peaks: Set-Up &amp; Ceremony | Pride 2016\" class=\"left\" src=\"http://cdn.funcheap.com/wp-content/uploads/2014/05/pink-triangle-175x130.jpg\"/></a>,\n",
       " <a href=\"http://sf.funcheap.com/1-flip-flop-day-navy/\" rel=\"bookmark\" title=\"$1 Flip Flop Day | Old Navy\">$1 Flip Flop Day | Old Navy</a>,\n",
       " <a href=\"http://sf.funcheap.com/1-flip-flop-day-navy/\" rel=\"bookmark\" title=\"$1 Flip Flop Day | Old Navy\"><img alt=\"$1 Flip Flop Day | Old Navy\" class=\"left\" src=\"http://cdn.funcheap.com/wp-content/uploads/2015/06/Screen-Shot-2015-06-18-at-2.13.03-PM-175x130.png\"/></a>,\n",
       " <a href=\"http://sf.funcheap.com/summer-free-yoga-series-santana-row/\" rel=\"bookmark\" title=\"Summer Morning Yoga on Santana Row | San Jose\">Summer Morning Yoga on Santana Row | San Jose</a>,\n",
       " <a href=\"http://sf.funcheap.com/summer-free-yoga-series-santana-row/\" rel=\"bookmark\" title=\"Summer Morning Yoga on Santana Row | San Jose\"><img alt=\"Summer Morning Yoga on Santana Row | San Jose\" class=\"left\" src=\"http://cdn.funcheap.com/wp-content/uploads/2015/06/Screen-Shot-2016-06-23-at-7.38.38-PM-175x130.png\"/></a>,\n",
       " <a href=\"http://sf.funcheap.com/pro-beach-volleyball-tournament-avp-san-francisco-open-piers-3032-3/\" rel=\"bookmark\" title=\"Pro Beach Volleyball Tournament: AVP San Francisco Open | Piers 30-32\">Pro Beach Volleyball Tournament: AVP San Francisco Open | Piers 30-32</a>,\n",
       " <a href=\"http://sf.funcheap.com/pro-beach-volleyball-tournament-avp-san-francisco-open-piers-3032-3/\" rel=\"bookmark\" title=\"Pro Beach Volleyball Tournament: AVP San Francisco Open | Piers 30-32\"><img alt=\"Pro Beach Volleyball Tournament: AVP San Francisco Open | Piers 30-32\" class=\"left\" src=\"http://cdn.funcheap.com/wp-content/uploads/2016/06/13443197_10154187379143162_7458978610581430723_o1-175x130.jpg\"/></a>,\n",
       " <a href=\"http://sf.funcheap.com/environmental-candlestick-point-nature-hike/\" rel=\"bookmark\" title=\"Candlestick Point Nature Hike | SF\">Candlestick Point Nature Hike | SF</a>,\n",
       " <a href=\"http://sf.funcheap.com/surf-city-classic-woodies-wharf-santa-cruz/\" rel=\"bookmark\" title=\"22nd Annual Surf City Classic: Woodies on the Wharf | Santa Cruz\">22nd Annual Surf City Classic: Woodies on the Wharf | Santa Cruz</a>]"
      ]
     },
     "execution_count": 4,
     "metadata": {},
     "output_type": "execute_result"
    }
   ],
   "source": [
    "soup.find_all('a', rel=True)[:10]"
   ]
  },
  {
   "cell_type": "code",
   "execution_count": 5,
   "metadata": {
    "collapsed": false
   },
   "outputs": [
    {
     "data": {
      "text/plain": [
       "[<h2 class=\"title\">Events for  June 25, 2016</h2>]"
      ]
     },
     "execution_count": 5,
     "metadata": {},
     "output_type": "execute_result"
    }
   ],
   "source": [
    "soup.select('h2.title')"
   ]
  },
  {
   "cell_type": "code",
   "execution_count": 6,
   "metadata": {
    "collapsed": false
   },
   "outputs": [],
   "source": [
    "title = soup.find_all('h2', class_='title')[0]"
   ]
  },
  {
   "cell_type": "code",
   "execution_count": 7,
   "metadata": {
    "collapsed": false
   },
   "outputs": [],
   "source": [
    "good_clear_float = title.next_sibling.next_sibling"
   ]
  },
  {
   "cell_type": "code",
   "execution_count": 8,
   "metadata": {
    "collapsed": false
   },
   "outputs": [],
   "source": [
    "urls = []\n",
    "for tag in good_clear_float.find_all('a', rel=True):\n",
    "    urls.append(tag.attrs['href'])"
   ]
  },
  {
   "cell_type": "code",
   "execution_count": 9,
   "metadata": {
    "collapsed": false
   },
   "outputs": [
    {
     "data": {
      "text/plain": [
       "[u'http://sf.funcheap.com/set-prides-pink-triangle-twin-peaks/',\n",
       " u'http://sf.funcheap.com/set-prides-pink-triangle-twin-peaks/',\n",
       " u'http://sf.funcheap.com/1-flip-flop-day-navy/',\n",
       " u'http://sf.funcheap.com/1-flip-flop-day-navy/',\n",
       " u'http://sf.funcheap.com/summer-free-yoga-series-santana-row/',\n",
       " u'http://sf.funcheap.com/summer-free-yoga-series-santana-row/',\n",
       " u'http://sf.funcheap.com/pro-beach-volleyball-tournament-avp-san-francisco-open-piers-3032-3/',\n",
       " u'http://sf.funcheap.com/pro-beach-volleyball-tournament-avp-san-francisco-open-piers-3032-3/',\n",
       " u'http://sf.funcheap.com/environmental-candlestick-point-nature-hike/',\n",
       " u'http://sf.funcheap.com/surf-city-classic-woodies-wharf-santa-cruz/',\n",
       " u'http://sf.funcheap.com/surf-city-classic-woodies-wharf-santa-cruz/',\n",
       " u'http://sf.funcheap.com/dyke-march-playground-brunch-dolores-park/',\n",
       " u'http://sf.funcheap.com/nor-cal-corgi-con-summer/',\n",
       " u'http://sf.funcheap.com/nor-cal-corgi-con-summer/',\n",
       " u'http://sf.funcheap.com/history-san-francisco-pride-photo-exhibit-fabulous-celebration-sf/',\n",
       " u'http://sf.funcheap.com/history-san-francisco-pride-photo-exhibit-fabulous-celebration-sf/',\n",
       " u'http://sf.funcheap.com/treasure-island-flea-epic-beard-competition-circus-sf/',\n",
       " u'http://sf.funcheap.com/treasure-island-flea-epic-beard-competition-circus-sf/',\n",
       " u'http://sf.funcheap.com/international-parkour-jam-urban-ninja-festival-berkeley-1/',\n",
       " u'http://sf.funcheap.com/international-parkour-jam-urban-ninja-festival-berkeley-1/',\n",
       " u'http://sf.funcheap.com/free-oakland-summer-walking-tours-oakland-15/',\n",
       " u'http://sf.funcheap.com/delta-board-kiteboarding-event/',\n",
       " u'http://sf.funcheap.com/delta-board-kiteboarding-event/',\n",
       " u'http://sf.funcheap.com/photography-meetup-tips-about-photography-sf-8/',\n",
       " u'http://sf.funcheap.com/san-franciscos-birthday-celebration-presidio/',\n",
       " u'http://sf.funcheap.com/san-franciscos-birthday-celebration-presidio/',\n",
       " u'http://sf.funcheap.com/lgbtq-family-storytime-oakland/',\n",
       " u'http://sf.funcheap.com/spark-food-truck-park-grand-opening-fire-pits-champagne-smores-mission-bay/',\n",
       " u'http://sf.funcheap.com/spark-food-truck-park-grand-opening-fire-pits-champagne-smores-mission-bay/',\n",
       " u'http://sf.funcheap.com/latino-culture-festival-aztec-dancing-capoeira-folklorico-oakland/',\n",
       " u'http://sf.funcheap.com/latino-culture-festival-aztec-dancing-capoeira-folklorico-oakland/',\n",
       " u'http://sf.funcheap.com/125th-birthday-party-blast-1890s-carnival-live-music-movies-oakland/',\n",
       " u'http://sf.funcheap.com/125th-birthday-party-blast-1890s-carnival-live-music-movies-oakland/',\n",
       " u'http://sf.funcheap.com/pink-mammoth-summertime-block-party-sf/',\n",
       " u'http://sf.funcheap.com/lyrical-workshop-emerge-with-better-songs-sf/',\n",
       " u'http://sf.funcheap.com/san-anselmo-art-wine-festival-sampling-pass/',\n",
       " u'http://sf.funcheap.com/free-seasonal-cooking-demo-tasting-ferry-plaza-farmers-market-38/',\n",
       " u'http://sf.funcheap.com/sf-dyke-march-womens-pride-dolores-park/',\n",
       " u'http://sf.funcheap.com/sf-dyke-march-womens-pride-dolores-park/',\n",
       " u'http://sf.funcheap.com/le-cirque-de-bohme-1920s-oldstyle-circus-treasure-island/',\n",
       " u'http://sf.funcheap.com/live-art-pride-party-support-local-arts/',\n",
       " u'http://sf.funcheap.com/live-art-pride-party-support-local-arts/',\n",
       " u'http://sf.funcheap.com/taste-mendocino-wine-party-fort-mason/',\n",
       " u'http://sf.funcheap.com/hood-2016-sf/',\n",
       " u'http://sf.funcheap.com/unity-documentary-screening-sf/',\n",
       " u'http://sf.funcheap.com/free-summer-circus-day-circus-bella-opening-weekend-sf-2/',\n",
       " u'http://sf.funcheap.com/free-summer-circus-day-circus-bella-opening-weekend-sf-2/']"
      ]
     },
     "execution_count": 9,
     "metadata": {},
     "output_type": "execute_result"
    }
   ],
   "source": [
    "urls"
   ]
  },
  {
   "cell_type": "markdown",
   "metadata": {},
   "source": [
    "### Very cool resource for learning about CSS selectors: http://flukeout.github.io/"
   ]
  },
  {
   "cell_type": "markdown",
   "metadata": {},
   "source": [
    "As you go through a web site you should build up a dictionary for the documents that you want to store in Mongo. In the example above we may, for each post url, create a dictionary with the information:\n",
    "```python\n",
    "    { url: url_of_event,\n",
    "      date: date_event,\n",
    "      cost: cost_of_event }\n",
    "```\n",
    "\n",
    "We can then insert these dictionaries into a Mongo database via PyMongo, which we will learn about next."
   ]
  },
  {
   "cell_type": "markdown",
   "metadata": {},
   "source": [
    "# Scraping from an Existing API\n",
    "\n",
    "Let's take a look at the API for all the publically avaliable policing data in the [UK](https://data.police.uk/docs/). After taking a look at the documentation for the interface, let's experiment with what we get when we issue a request to this API. The process looks remarkable similar to the one we went through for scraping a web page, except this time the response we're looking for is avaliable via the `json()` method."
   ]
  },
  {
   "cell_type": "code",
   "execution_count": 10,
   "metadata": {
    "collapsed": false,
    "scrolled": false
   },
   "outputs": [
    {
     "data": {
      "text/plain": [
       "[{u'category': u'anti-social-behaviour',\n",
       "  u'context': u'',\n",
       "  u'id': 20605700,\n",
       "  u'location': {u'latitude': u'52.624477',\n",
       "   u'longitude': u'-1.112399',\n",
       "   u'street': {u'id': 882437, u'name': u'On or near Mundella Street'}},\n",
       "  u'location_subtype': u'',\n",
       "  u'location_type': u'Force',\n",
       "  u'month': u'2013-01',\n",
       "  u'outcome_status': None,\n",
       "  u'persistent_id': u''},\n",
       " {u'category': u'anti-social-behaviour',\n",
       "  u'context': u'',\n",
       "  u'id': 20605689,\n",
       "  u'location': {u'latitude': u'52.629264',\n",
       "   u'longitude': u'-1.154764',\n",
       "   u'street': {u'id': 883534, u'name': u'On or near Westcotes Drive'}},\n",
       "  u'location_subtype': u'',\n",
       "  u'location_type': u'Force',\n",
       "  u'month': u'2013-01',\n",
       "  u'outcome_status': None,\n",
       "  u'persistent_id': u''}]"
      ]
     },
     "execution_count": 10,
     "metadata": {},
     "output_type": "execute_result"
    }
   ],
   "source": [
    "r = requests.get('https://data.police.uk/api/crimes-street/all-crime?lat=52.629729&lng=-1.131592&date=2013-01')\n",
    "r.json()[:2]"
   ]
  },
  {
   "cell_type": "code",
   "execution_count": 11,
   "metadata": {
    "collapsed": true
   },
   "outputs": [],
   "source": [
    "crime_stuff = r.json()"
   ]
  },
  {
   "cell_type": "markdown",
   "metadata": {},
   "source": [
    "## API Scraping and Mongo\n",
    "\n",
    "Many APIs will give you a choice of how it will return data to you, choosing json will make life easier since we will frequently be using Mongo for our storage unit during our scraping endeavors, and it plays very well with json. \n",
    "\n",
    "Interacting with Mongo from Python is done with the other Mongo client that we talked about earlier PyMongo. It is designed to have a similar interface as the Mongo shell does, this ends up being fairly intuitive since both Python and JavaScript are object oriented languages, and therefore store and refer to things in a similar manner."
   ]
  },
  {
   "cell_type": "code",
   "execution_count": 12,
   "metadata": {
    "collapsed": true
   },
   "outputs": [],
   "source": [
    "from pymongo import MongoClient\n",
    "\n",
    "client = MongoClient()\n",
    "db = client.uk_police\n",
    "collection = db.all_crime"
   ]
  },
  {
   "cell_type": "code",
   "execution_count": 13,
   "metadata": {
    "collapsed": false
   },
   "outputs": [],
   "source": [
    "other_request = requests.get('https://data.police.uk/api/crimes-no-location?category=all-crime&force=warwickshire&date=2013-09')"
   ]
  },
  {
   "cell_type": "code",
   "execution_count": 14,
   "metadata": {
    "collapsed": false,
    "scrolled": true
   },
   "outputs": [
    {
     "data": {
      "text/plain": [
       "[{u'category': u'burglary',\n",
       "  u'context': u'',\n",
       "  u'id': 26993975,\n",
       "  u'location': None,\n",
       "  u'location_subtype': u'',\n",
       "  u'location_type': None,\n",
       "  u'month': u'2013-09',\n",
       "  u'outcome_status': {u'category': u'Investigation complete; no suspect identified',\n",
       "   u'date': u'2013-10'},\n",
       "  u'persistent_id': u'601d1a058fb87207bfea500802ad9043fc9629fae479d0a9c3d2abd5b1bbe14d'},\n",
       " {u'category': u'burglary',\n",
       "  u'context': u'',\n",
       "  u'id': 26994099,\n",
       "  u'location': None,\n",
       "  u'location_subtype': u'',\n",
       "  u'location_type': None,\n",
       "  u'month': u'2013-09',\n",
       "  u'outcome_status': {u'category': u'Investigation complete; no suspect identified',\n",
       "   u'date': u'2013-10'},\n",
       "  u'persistent_id': u'34990376c7cb84ede03c06f3dda76cda7fd63cdaa9f2179213d9aa2d53b9d9e6'}]"
      ]
     },
     "execution_count": 14,
     "metadata": {},
     "output_type": "execute_result"
    }
   ],
   "source": [
    "other_request.json()[:2]"
   ]
  },
  {
   "cell_type": "code",
   "execution_count": 15,
   "metadata": {
    "collapsed": false,
    "scrolled": false
   },
   "outputs": [
    {
     "name": "stdout",
     "output_type": "stream",
     "text": [
      "Scraping year/month: 2013/1\n",
      "Scraping year/month: 2013/2\n",
      "Scraping year/month: 2013/3\n",
      "Scraping year/month: 2013/4\n",
      "Scraping year/month: 2013/5\n",
      "Scraping year/month: 2013/6\n",
      "Scraping year/month: 2013/7\n",
      "Scraping year/month: 2013/8\n",
      "Scraping year/month: 2013/9\n",
      "Scraping year/month: 2013/10\n",
      "Scraping year/month: 2013/11\n",
      "Scraping year/month: 2013/12\n"
     ]
    }
   ],
   "source": [
    "# Possible way to grab data for range of months and years\n",
    "for year in range(2013, 2014):\n",
    "    for month in range(1, 13):\n",
    "        print 'Scraping year/month: {}/{}'.format(year, month)\n",
    "        r = requests.get('https://data.police.uk/api/crimes-no-location?category=all-crime&force=warwickshire&date={}-{}'.format(year, month))\n",
    "        collection.insert_many(r.json())"
   ]
  },
  {
   "cell_type": "code",
   "execution_count": 16,
   "metadata": {
    "collapsed": false
   },
   "outputs": [
    {
     "data": {
      "text/plain": [
       "<pymongo.results.InsertManyResult at 0x107d025a0>"
      ]
     },
     "execution_count": 16,
     "metadata": {},
     "output_type": "execute_result"
    }
   ],
   "source": [
    "collection.insert_many(other_request.json())"
   ]
  },
  {
   "cell_type": "code",
   "execution_count": 17,
   "metadata": {
    "collapsed": false
   },
   "outputs": [
    {
     "name": "stdout",
     "output_type": "stream",
     "text": [
      "{u'_id': ObjectId('589e0e160310e901de42e783'),\n",
      " u'category': u'public-order',\n",
      " u'context': u'',\n",
      " u'id': 24587102,\n",
      " u'location': None,\n",
      " u'location_subtype': u'',\n",
      " u'location_type': None,\n",
      " u'month': u'2013-06',\n",
      " u'outcome_status': {u'category': u'Court result unavailable',\n",
      "                     u'date': u'2014-04'},\n",
      " u'persistent_id': u'0842db58ea7e0298d7528aa18d103f3b34e249435ba4c1c7feffd65da5f4b8d9'}\n",
      "{u'_id': ObjectId('589e0e170310e901de42e78b'),\n",
      " u'category': u'public-order',\n",
      " u'context': u'',\n",
      " u'id': 25758751,\n",
      " u'location': None,\n",
      " u'location_subtype': u'',\n",
      " u'location_type': None,\n",
      " u'month': u'2013-07',\n",
      " u'outcome_status': {u'category': u'Under investigation', u'date': u'2013-07'},\n",
      " u'persistent_id': u'a7d07d4cd6ba0f4a886ba12d0ff48a43b43039535eaa6a5b13569f1936cda98e'}\n",
      "{u'_id': ObjectId('589e0e190310e901de42e7a0'),\n",
      " u'category': u'public-order',\n",
      " u'context': u'',\n",
      " u'id': 26992793,\n",
      " u'location': None,\n",
      " u'location_subtype': u'',\n",
      " u'location_type': None,\n",
      " u'month': u'2013-09',\n",
      " u'outcome_status': {u'category': u'Court result unavailable',\n",
      "                     u'date': u'2014-03'},\n",
      " u'persistent_id': u'a12b6ddf39326c40ebdd1aac950e19d8fb8ef6e65e229bd3fd2f22b9b6a33814'}\n",
      "{u'_id': ObjectId('589e0e190310e901de42e7a1'),\n",
      " u'category': u'public-order',\n",
      " u'context': u'',\n",
      " u'id': 26992794,\n",
      " u'location': None,\n",
      " u'location_subtype': u'',\n",
      " u'location_type': None,\n",
      " u'month': u'2013-09',\n",
      " u'outcome_status': {u'category': u'Offender given community sentence',\n",
      "                     u'date': u'2013-10'},\n",
      " u'persistent_id': u'151f3b3eea51a8f6c850bbdb7e942845b2d31cc2782efb0e761e0abff633e045'}\n",
      "{u'_id': ObjectId('589e0e6a0310e901de42e814'),\n",
      " u'category': u'public-order',\n",
      " u'context': u'',\n",
      " u'id': 24587102,\n",
      " u'location': None,\n",
      " u'location_subtype': u'',\n",
      " u'location_type': None,\n",
      " u'month': u'2013-06',\n",
      " u'outcome_status': {u'category': u'Court result unavailable',\n",
      "                     u'date': u'2014-04'},\n",
      " u'persistent_id': u'0842db58ea7e0298d7528aa18d103f3b34e249435ba4c1c7feffd65da5f4b8d9'}\n",
      "{u'_id': ObjectId('589e0e6b0310e901de42e81c'),\n",
      " u'category': u'public-order',\n",
      " u'context': u'',\n",
      " u'id': 25758751,\n",
      " u'location': None,\n",
      " u'location_subtype': u'',\n",
      " u'location_type': None,\n",
      " u'month': u'2013-07',\n",
      " u'outcome_status': {u'category': u'Under investigation', u'date': u'2013-07'},\n",
      " u'persistent_id': u'a7d07d4cd6ba0f4a886ba12d0ff48a43b43039535eaa6a5b13569f1936cda98e'}\n",
      "{u'_id': ObjectId('589e0e6c0310e901de42e831'),\n",
      " u'category': u'public-order',\n",
      " u'context': u'',\n",
      " u'id': 26992793,\n",
      " u'location': None,\n",
      " u'location_subtype': u'',\n",
      " u'location_type': None,\n",
      " u'month': u'2013-09',\n",
      " u'outcome_status': {u'category': u'Court result unavailable',\n",
      "                     u'date': u'2014-03'},\n",
      " u'persistent_id': u'a12b6ddf39326c40ebdd1aac950e19d8fb8ef6e65e229bd3fd2f22b9b6a33814'}\n",
      "{u'_id': ObjectId('589e0e6c0310e901de42e832'),\n",
      " u'category': u'public-order',\n",
      " u'context': u'',\n",
      " u'id': 26992794,\n",
      " u'location': None,\n",
      " u'location_subtype': u'',\n",
      " u'location_type': None,\n",
      " u'month': u'2013-09',\n",
      " u'outcome_status': {u'category': u'Offender given community sentence',\n",
      "                     u'date': u'2013-10'},\n",
      " u'persistent_id': u'151f3b3eea51a8f6c850bbdb7e942845b2d31cc2782efb0e761e0abff633e045'}\n",
      "{u'_id': ObjectId('589e0ebe0310e901de42e8a5'),\n",
      " u'category': u'public-order',\n",
      " u'context': u'',\n",
      " u'id': 24587102,\n",
      " u'location': None,\n",
      " u'location_subtype': u'',\n",
      " u'location_type': None,\n",
      " u'month': u'2013-06',\n",
      " u'outcome_status': {u'category': u'Court result unavailable',\n",
      "                     u'date': u'2014-04'},\n",
      " u'persistent_id': u'0842db58ea7e0298d7528aa18d103f3b34e249435ba4c1c7feffd65da5f4b8d9'}\n",
      "{u'_id': ObjectId('589e0ebf0310e901de42e8ad'),\n",
      " u'category': u'public-order',\n",
      " u'context': u'',\n",
      " u'id': 25758751,\n",
      " u'location': None,\n",
      " u'location_subtype': u'',\n",
      " u'location_type': None,\n",
      " u'month': u'2013-07',\n",
      " u'outcome_status': {u'category': u'Under investigation', u'date': u'2013-07'},\n",
      " u'persistent_id': u'a7d07d4cd6ba0f4a886ba12d0ff48a43b43039535eaa6a5b13569f1936cda98e'}\n",
      "{u'_id': ObjectId('589e0ec00310e901de42e8c2'),\n",
      " u'category': u'public-order',\n",
      " u'context': u'',\n",
      " u'id': 26992793,\n",
      " u'location': None,\n",
      " u'location_subtype': u'',\n",
      " u'location_type': None,\n",
      " u'month': u'2013-09',\n",
      " u'outcome_status': {u'category': u'Court result unavailable',\n",
      "                     u'date': u'2014-03'},\n",
      " u'persistent_id': u'a12b6ddf39326c40ebdd1aac950e19d8fb8ef6e65e229bd3fd2f22b9b6a33814'}\n",
      "{u'_id': ObjectId('589e0ec00310e901de42e8c3'),\n",
      " u'category': u'public-order',\n",
      " u'context': u'',\n",
      " u'id': 26992794,\n",
      " u'location': None,\n",
      " u'location_subtype': u'',\n",
      " u'location_type': None,\n",
      " u'month': u'2013-09',\n",
      " u'outcome_status': {u'category': u'Offender given community sentence',\n",
      "                     u'date': u'2013-10'},\n",
      " u'persistent_id': u'151f3b3eea51a8f6c850bbdb7e942845b2d31cc2782efb0e761e0abff633e045'}\n",
      "{u'_id': ObjectId('589e0eef0310e901de42e936'),\n",
      " u'category': u'public-order',\n",
      " u'context': u'',\n",
      " u'id': 24587102,\n",
      " u'location': None,\n",
      " u'location_subtype': u'',\n",
      " u'location_type': None,\n",
      " u'month': u'2013-06',\n",
      " u'outcome_status': {u'category': u'Court result unavailable',\n",
      "                     u'date': u'2014-04'},\n",
      " u'persistent_id': u'0842db58ea7e0298d7528aa18d103f3b34e249435ba4c1c7feffd65da5f4b8d9'}\n",
      "{u'_id': ObjectId('589e0eef0310e901de42e93e'),\n",
      " u'category': u'public-order',\n",
      " u'context': u'',\n",
      " u'id': 25758751,\n",
      " u'location': None,\n",
      " u'location_subtype': u'',\n",
      " u'location_type': None,\n",
      " u'month': u'2013-07',\n",
      " u'outcome_status': {u'category': u'Under investigation', u'date': u'2013-07'},\n",
      " u'persistent_id': u'a7d07d4cd6ba0f4a886ba12d0ff48a43b43039535eaa6a5b13569f1936cda98e'}\n",
      "{u'_id': ObjectId('589e0ef10310e901de42e953'),\n",
      " u'category': u'public-order',\n",
      " u'context': u'',\n",
      " u'id': 26992793,\n",
      " u'location': None,\n",
      " u'location_subtype': u'',\n",
      " u'location_type': None,\n",
      " u'month': u'2013-09',\n",
      " u'outcome_status': {u'category': u'Court result unavailable',\n",
      "                     u'date': u'2014-03'},\n",
      " u'persistent_id': u'a12b6ddf39326c40ebdd1aac950e19d8fb8ef6e65e229bd3fd2f22b9b6a33814'}\n",
      "{u'_id': ObjectId('589e0ef10310e901de42e954'),\n",
      " u'category': u'public-order',\n",
      " u'context': u'',\n",
      " u'id': 26992794,\n",
      " u'location': None,\n",
      " u'location_subtype': u'',\n",
      " u'location_type': None,\n",
      " u'month': u'2013-09',\n",
      " u'outcome_status': {u'category': u'Offender given community sentence',\n",
      "                     u'date': u'2013-10'},\n",
      " u'persistent_id': u'151f3b3eea51a8f6c850bbdb7e942845b2d31cc2782efb0e761e0abff633e045'}\n",
      "{u'_id': ObjectId('589e0ef50310e901de42e971'),\n",
      " u'category': u'public-order',\n",
      " u'context': u'',\n",
      " u'id': 26992793,\n",
      " u'location': None,\n",
      " u'location_subtype': u'',\n",
      " u'location_type': None,\n",
      " u'month': u'2013-09',\n",
      " u'outcome_status': {u'category': u'Court result unavailable',\n",
      "                     u'date': u'2014-03'},\n",
      " u'persistent_id': u'a12b6ddf39326c40ebdd1aac950e19d8fb8ef6e65e229bd3fd2f22b9b6a33814'}\n",
      "{u'_id': ObjectId('589e0ef50310e901de42e972'),\n",
      " u'category': u'public-order',\n",
      " u'context': u'',\n",
      " u'id': 26992794,\n",
      " u'location': None,\n",
      " u'location_subtype': u'',\n",
      " u'location_type': None,\n",
      " u'month': u'2013-09',\n",
      " u'outcome_status': {u'category': u'Offender given community sentence',\n",
      "                     u'date': u'2013-10'},\n",
      " u'persistent_id': u'151f3b3eea51a8f6c850bbdb7e942845b2d31cc2782efb0e761e0abff633e045'}\n",
      "{u'_id': ObjectId('589e0f110310e90781d19e55'),\n",
      " u'category': u'public-order',\n",
      " u'context': u'',\n",
      " u'id': 24587102,\n",
      " u'location': None,\n",
      " u'location_subtype': u'',\n",
      " u'location_type': None,\n",
      " u'month': u'2013-06',\n",
      " u'outcome_status': {u'category': u'Court result unavailable',\n",
      "                     u'date': u'2014-04'},\n",
      " u'persistent_id': u'0842db58ea7e0298d7528aa18d103f3b34e249435ba4c1c7feffd65da5f4b8d9'}\n",
      "{u'_id': ObjectId('589e0f120310e90781d19e5d'),\n",
      " u'category': u'public-order',\n",
      " u'context': u'',\n",
      " u'id': 25758751,\n",
      " u'location': None,\n",
      " u'location_subtype': u'',\n",
      " u'location_type': None,\n",
      " u'month': u'2013-07',\n",
      " u'outcome_status': {u'category': u'Under investigation', u'date': u'2013-07'},\n",
      " u'persistent_id': u'a7d07d4cd6ba0f4a886ba12d0ff48a43b43039535eaa6a5b13569f1936cda98e'}\n",
      "{u'_id': ObjectId('589e0f130310e90781d19e72'),\n",
      " u'category': u'public-order',\n",
      " u'context': u'',\n",
      " u'id': 26992793,\n",
      " u'location': None,\n",
      " u'location_subtype': u'',\n",
      " u'location_type': None,\n",
      " u'month': u'2013-09',\n",
      " u'outcome_status': {u'category': u'Court result unavailable',\n",
      "                     u'date': u'2014-03'},\n",
      " u'persistent_id': u'a12b6ddf39326c40ebdd1aac950e19d8fb8ef6e65e229bd3fd2f22b9b6a33814'}\n",
      "{u'_id': ObjectId('589e0f130310e90781d19e73'),\n",
      " u'category': u'public-order',\n",
      " u'context': u'',\n",
      " u'id': 26992794,\n",
      " u'location': None,\n",
      " u'location_subtype': u'',\n",
      " u'location_type': None,\n",
      " u'month': u'2013-09',\n",
      " u'outcome_status': {u'category': u'Offender given community sentence',\n",
      "                     u'date': u'2013-10'},\n",
      " u'persistent_id': u'151f3b3eea51a8f6c850bbdb7e942845b2d31cc2782efb0e761e0abff633e045'}\n",
      "{u'_id': ObjectId('589e0f150310e90781d19e90'),\n",
      " u'category': u'public-order',\n",
      " u'context': u'',\n",
      " u'id': 26992793,\n",
      " u'location': None,\n",
      " u'location_subtype': u'',\n",
      " u'location_type': None,\n",
      " u'month': u'2013-09',\n",
      " u'outcome_status': {u'category': u'Court result unavailable',\n",
      "                     u'date': u'2014-03'},\n",
      " u'persistent_id': u'a12b6ddf39326c40ebdd1aac950e19d8fb8ef6e65e229bd3fd2f22b9b6a33814'}\n",
      "{u'_id': ObjectId('589e0f150310e90781d19e91'),\n",
      " u'category': u'public-order',\n",
      " u'context': u'',\n",
      " u'id': 26992794,\n",
      " u'location': None,\n",
      " u'location_subtype': u'',\n",
      " u'location_type': None,\n",
      " u'month': u'2013-09',\n",
      " u'outcome_status': {u'category': u'Offender given community sentence',\n",
      "                     u'date': u'2013-10'},\n",
      " u'persistent_id': u'151f3b3eea51a8f6c850bbdb7e942845b2d31cc2782efb0e761e0abff633e045'}\n",
      "{u'_id': ObjectId('589e10d40310e90806143a4d'),\n",
      " u'category': u'public-order',\n",
      " u'context': u'',\n",
      " u'id': 24587102,\n",
      " u'location': None,\n",
      " u'location_subtype': u'',\n",
      " u'location_type': None,\n",
      " u'month': u'2013-06',\n",
      " u'outcome_status': {u'category': u'Court result unavailable',\n",
      "                     u'date': u'2014-04'},\n",
      " u'persistent_id': u'0842db58ea7e0298d7528aa18d103f3b34e249435ba4c1c7feffd65da5f4b8d9'}\n",
      "{u'_id': ObjectId('589e10d50310e90806143a55'),\n",
      " u'category': u'public-order',\n",
      " u'context': u'',\n",
      " u'id': 25758751,\n",
      " u'location': None,\n",
      " u'location_subtype': u'',\n",
      " u'location_type': None,\n",
      " u'month': u'2013-07',\n",
      " u'outcome_status': {u'category': u'Under investigation', u'date': u'2013-07'},\n",
      " u'persistent_id': u'a7d07d4cd6ba0f4a886ba12d0ff48a43b43039535eaa6a5b13569f1936cda98e'}\n",
      "{u'_id': ObjectId('589e10d60310e90806143a6a'),\n",
      " u'category': u'public-order',\n",
      " u'context': u'',\n",
      " u'id': 26992793,\n",
      " u'location': None,\n",
      " u'location_subtype': u'',\n",
      " u'location_type': None,\n",
      " u'month': u'2013-09',\n",
      " u'outcome_status': {u'category': u'Court result unavailable',\n",
      "                     u'date': u'2014-03'},\n",
      " u'persistent_id': u'a12b6ddf39326c40ebdd1aac950e19d8fb8ef6e65e229bd3fd2f22b9b6a33814'}\n",
      "{u'_id': ObjectId('589e10d60310e90806143a6b'),\n",
      " u'category': u'public-order',\n",
      " u'context': u'',\n",
      " u'id': 26992794,\n",
      " u'location': None,\n",
      " u'location_subtype': u'',\n",
      " u'location_type': None,\n",
      " u'month': u'2013-09',\n",
      " u'outcome_status': {u'category': u'Offender given community sentence',\n",
      "                     u'date': u'2013-10'},\n",
      " u'persistent_id': u'151f3b3eea51a8f6c850bbdb7e942845b2d31cc2782efb0e761e0abff633e045'}\n",
      "{u'_id': ObjectId('589e10d80310e90806143a88'),\n",
      " u'category': u'public-order',\n",
      " u'context': u'',\n",
      " u'id': 26992793,\n",
      " u'location': None,\n",
      " u'location_subtype': u'',\n",
      " u'location_type': None,\n",
      " u'month': u'2013-09',\n",
      " u'outcome_status': {u'category': u'Court result unavailable',\n",
      "                     u'date': u'2014-03'},\n",
      " u'persistent_id': u'a12b6ddf39326c40ebdd1aac950e19d8fb8ef6e65e229bd3fd2f22b9b6a33814'}\n",
      "{u'_id': ObjectId('589e10d80310e90806143a89'),\n",
      " u'category': u'public-order',\n",
      " u'context': u'',\n",
      " u'id': 26992794,\n",
      " u'location': None,\n",
      " u'location_subtype': u'',\n",
      " u'location_type': None,\n",
      " u'month': u'2013-09',\n",
      " u'outcome_status': {u'category': u'Offender given community sentence',\n",
      "                     u'date': u'2013-10'},\n",
      " u'persistent_id': u'151f3b3eea51a8f6c850bbdb7e942845b2d31cc2782efb0e761e0abff633e045'}\n",
      "{u'_id': ObjectId('589e10fe0310e90814fb4655'),\n",
      " u'category': u'public-order',\n",
      " u'context': u'',\n",
      " u'id': 24587102,\n",
      " u'location': None,\n",
      " u'location_subtype': u'',\n",
      " u'location_type': None,\n",
      " u'month': u'2013-06',\n",
      " u'outcome_status': {u'category': u'Court result unavailable',\n",
      "                     u'date': u'2014-04'},\n",
      " u'persistent_id': u'0842db58ea7e0298d7528aa18d103f3b34e249435ba4c1c7feffd65da5f4b8d9'}\n",
      "{u'_id': ObjectId('589e10ff0310e90814fb465d'),\n",
      " u'category': u'public-order',\n",
      " u'context': u'',\n",
      " u'id': 25758751,\n",
      " u'location': None,\n",
      " u'location_subtype': u'',\n",
      " u'location_type': None,\n",
      " u'month': u'2013-07',\n",
      " u'outcome_status': {u'category': u'Under investigation', u'date': u'2013-07'},\n",
      " u'persistent_id': u'a7d07d4cd6ba0f4a886ba12d0ff48a43b43039535eaa6a5b13569f1936cda98e'}\n",
      "{u'_id': ObjectId('589e11000310e90814fb4672'),\n",
      " u'category': u'public-order',\n",
      " u'context': u'',\n",
      " u'id': 26992793,\n",
      " u'location': None,\n",
      " u'location_subtype': u'',\n",
      " u'location_type': None,\n",
      " u'month': u'2013-09',\n",
      " u'outcome_status': {u'category': u'Court result unavailable',\n",
      "                     u'date': u'2014-03'},\n",
      " u'persistent_id': u'a12b6ddf39326c40ebdd1aac950e19d8fb8ef6e65e229bd3fd2f22b9b6a33814'}\n",
      "{u'_id': ObjectId('589e11000310e90814fb4673'),\n",
      " u'category': u'public-order',\n",
      " u'context': u'',\n",
      " u'id': 26992794,\n",
      " u'location': None,\n",
      " u'location_subtype': u'',\n",
      " u'location_type': None,\n",
      " u'month': u'2013-09',\n",
      " u'outcome_status': {u'category': u'Offender given community sentence',\n",
      "                     u'date': u'2013-10'},\n",
      " u'persistent_id': u'151f3b3eea51a8f6c850bbdb7e942845b2d31cc2782efb0e761e0abff633e045'}\n",
      "{u'_id': ObjectId('589e11020310e90814fb4690'),\n",
      " u'category': u'public-order',\n",
      " u'context': u'',\n",
      " u'id': 26992793,\n",
      " u'location': None,\n",
      " u'location_subtype': u'',\n",
      " u'location_type': None,\n",
      " u'month': u'2013-09',\n",
      " u'outcome_status': {u'category': u'Court result unavailable',\n",
      "                     u'date': u'2014-03'},\n",
      " u'persistent_id': u'a12b6ddf39326c40ebdd1aac950e19d8fb8ef6e65e229bd3fd2f22b9b6a33814'}\n",
      "{u'_id': ObjectId('589e11020310e90814fb4691'),\n",
      " u'category': u'public-order',\n",
      " u'context': u'',\n",
      " u'id': 26992794,\n",
      " u'location': None,\n",
      " u'location_subtype': u'',\n",
      " u'location_type': None,\n",
      " u'month': u'2013-09',\n",
      " u'outcome_status': {u'category': u'Offender given community sentence',\n",
      "                     u'date': u'2013-10'},\n",
      " u'persistent_id': u'151f3b3eea51a8f6c850bbdb7e942845b2d31cc2782efb0e761e0abff633e045'}\n"
     ]
    }
   ],
   "source": [
    "import pprint as pp\n",
    "for item in collection.find({ 'category' : 'public-order' }):\n",
    "    pp.pprint(item)"
   ]
  },
  {
   "cell_type": "code",
   "execution_count": 18,
   "metadata": {
    "collapsed": true
   },
   "outputs": [],
   "source": [
    "# Remember to close the connection\n",
    "client.close()"
   ]
  }
 ],
 "metadata": {
  "anaconda-cloud": {},
  "kernelspec": {
   "display_name": "Python [default]",
   "language": "python",
   "name": "python2"
  },
  "language_info": {
   "codemirror_mode": {
    "name": "ipython",
    "version": 2
   },
   "file_extension": ".py",
   "mimetype": "text/x-python",
   "name": "python",
   "nbconvert_exporter": "python",
   "pygments_lexer": "ipython2",
   "version": "2.7.12"
  }
 },
 "nbformat": 4,
 "nbformat_minor": 0
}
