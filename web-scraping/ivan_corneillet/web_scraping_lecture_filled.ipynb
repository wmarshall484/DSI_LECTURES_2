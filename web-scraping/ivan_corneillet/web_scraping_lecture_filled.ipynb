{
 "cells": [
  {
   "cell_type": "markdown",
   "metadata": {
    "collapsed": true
   },
   "source": [
    "# Web Scraping!!!!\n",
    "\n",
    "(stolen from Cary...)\n",
    "\n",
    "## Morning Objectives\n",
    "\n",
    "1. Understand motivation for web scraping:\n",
    "    * What does a web data pipeline look like?\n",
    "    * How should we store data from the web?\n",
    "2. Know high level differences between NoSQL and SQL.\n",
    "3. Perform basic operations using Mongo Shell.\n",
    "\n",
    "<div style=\"text-align: center\"><h3>The Reality of Scraping</h3><img src=\"images/scraping_meme.png\" style=\"width: 600px\"></div>"
   ]
  },
  {
   "cell_type": "markdown",
   "metadata": {},
   "source": [
    "## Why do we scrape the web?\n",
    "\n",
    "* Realistically, data that you want to study won't always be available to you in the form of a curated data set.\n",
    "* Need to go to the internets to find interesting data:\n",
    "    * From an existing company\n",
    "    * Text for NLP\n",
    "    * Images\n",
    "    <div style=\"text-align: center\"><h3>Web Data Pipeline</h3><img src=\"images/web_data_pipeline.png\" style=\"width: 600px\"></div>"
   ]
  },
  {
   "cell_type": "markdown",
   "metadata": {},
   "source": [
    "## Storing data from the web\n",
    "\n",
    "* We already know how to store data -> SQL (RBDMS).\n",
    "    * Why wouldn't SQL necessarily be the best tool for storing data that we retrieve from the web?\n",
    "        * Data are messy!\n",
    "* Enter No SQL. Stands for **N**ot **o**nly **SQL**. MongoDB is a flavor of NoSQL, like PosgreSQL is a flavor of SQL.\n",
    "    * A NoSQL paradigm may be preferable to SQL because it is schemaless.\n",
    "    * Great for storing unstructured data, as we may find on the web!\n",
    "    * MongoDB is a document-oriented DBMS:\n",
    "      <div style=\"text-align: center\"><h3>Centered around \"Documents\"</h3><img src=\"images/document_based_storage.png\" style=\"width: 600px\"></div>"
   ]
  },
  {
   "cell_type": "markdown",
   "metadata": {},
   "source": [
    "## SQL vs. Mongo\n",
    "\n",
    "* SQL - want to prevent redundancy in data by having tables with unique information and relations between them (normalized data).\n",
    "    * Creates a framework for querying with joins.\n",
    "    * Makes it easier to update database. Only ever have to change information in a single place.\n",
    "    * This can result in \"simple\" queries being slower, but more complex queries are often faster.\n",
    "* Mongo - document based storage system. Does not enforce normalized data. Can have data redundancies in documents (denormalized data).\n",
    "    * No joins.\n",
    "    * A change to database generally results in needing to change many documents.\n",
    "    * Since there is redundancy in the documents, simple queries are generally faster. But complex queries are often slower.\n",
    "    \n",
    "\n",
    "|         | SQL          | Mongo          |\n",
    "|---------|--------------|----------------|\n",
    "| Schema  | Yes => Joins | No => No Joins |\n",
    "| Storage | Table        | Collection     |\n",
    "|         | Row          | Document       |\n",
    "|         | Column       | Field          |"
   ]
  },
  {
   "cell_type": "markdown",
   "metadata": {},
   "source": [
    "## Connecting to Mongo\n",
    "\n",
    "In practice, there two main ways that you will be connecting with mongo:\n",
    "\n",
    "* From Python\n",
    "* From the console - shell\n",
    "    \n",
    "<div style=\"text-align: center\"><img src=\"images/mongo_clients.png\" style=\"width: 600px\"></div>\n",
    "\n",
    "Both of these clients require a Mongo server to be running. In practice this will require you to start a Mongo Daemon process. To do this execute the command `mongod` at the terminal.\n",
    "\n",
    "* Note: The Mongo Daemon will need to occupy the terminal that you started it in for the life of the server session. Read: run `mongod` in a separate terminal tab (or tmux).\n",
    "\n",
    "Now we're going to explore the interacting with the mongo shell. This is not the main way that you'll be interacting with mongo while scraping, we have Python for that. But it's good to know how to issue queries from the shell for various reasons."
   ]
  },
  {
   "cell_type": "markdown",
   "metadata": {},
   "source": [
    "# Mongo Shell Demo Code\n",
    "\n",
    "## Using Mongo - General Commands for Inspecting Mongo\n",
    "\n",
    "```javascript\n",
    "help                        // List top level mongo commands\n",
    "\n",
    "db.help()                   // List database level mongo commands\n",
    "\n",
    "db.<collection name>.help() // List collection level mongo commands.\n",
    "\n",
    "show dbs                    // Get list of databases on your system\n",
    "\n",
    "use <database name>         // Change the database that you're current using\n",
    "\n",
    "show collections            // Get list of collections within the database that you're currently using\n",
    "```"
   ]
  },
  {
   "cell_type": "markdown",
   "metadata": {},
   "source": [
    "## Inserting\n",
    "\n",
    "Once you're using a database you refer to it with the name **db**. Collections within databases are accessible through dot notation.\n",
    "\n",
    "```javascript\n",
    "db.users.insert({ name: 'Jon', age: '45', friends: [ 'Henry', 'Ashley']})\n",
    "\n",
    "db.getCollectionNames()  // Another way to get the names of collections in current database\n",
    "\n",
    "db.users.insert({ name: 'Ashley', age: '37', friends: [ 'Jon', 'Henry']})\n",
    "db.users.insert({ name: 'Frank', age: '17', friends: [ 'Billy'], car : 'Civic'})\n",
    "\n",
    "db.users.find()\n",
    "\n",
    "    { \"_id\" : ObjectId(\"573a39\"), \"name\" : \"Jon\", \"age\" : \"45\", \"friends\" : [ \"Henry\", \"Ashley\" ] }\n",
    "    { \"_id\" : ObjectId(\"573a3a\"), \"name\" : \"Ashley\", \"age\" : \"37\", \"friends\" : [ \"Jon\", \"Henry\" ] }\n",
    "    { \"_id\" : ObjectId(\"573a3b\"), \"name\" : \"Frank\", \"age\" : \"17\", \"friends\" : [ \"Billy\" ], \"car\" : \"Civic\" }\n",
    "```\n",
    "\n",
    "Things to note:\n",
    "* The three documents that we inserted into the above database didn't all have the same fields.\n",
    "* Mongo creates an ` _id` field for each document if one isn't provided."
   ]
  },
  {
   "cell_type": "markdown",
   "metadata": {},
   "source": [
    "## Querying\n",
    "\n",
    "```javascript\n",
    "db.users.find({ name: 'Jon'})                       // find by single field\n",
    "\n",
    "db.users.find({ car: { $exists : true } })          // find by presence of field\n",
    "\n",
    "db.users.find({ friends: 'Henry' })                 // find by value in array\n",
    "\n",
    "db.users.find({}, { name: true })                   // field selection (only return name)\n",
    "```\n",
    "\n",
    "A quick way to figure out how to write a Mongo query is to think about how you would do it in SQL and check out a resource like this Mongo endorsed [conversion guide](https://docs.mongodb.com/manual/reference/sql-comparison/#create-and-alter), or use something like a [query translator](http://www.querymongo.com/)."
   ]
  },
  {
   "cell_type": "markdown",
   "metadata": {},
   "source": [
    "## Updating\n",
    "\n",
    "```javascript\n",
    "db.users.update({name: \"Jon\"}, { $set: {friends: [\"Phil\"]}})            // replaces friends array\n",
    "\n",
    "db.users.update({name: \"Jon\"}, { $push: {friends: \"Susie\"}})            // adds to friends array\n",
    "\n",
    "db.users.update({name: \"Stevie\"}, { $push: {friends: \"Nicks\"}}, true)   // upsert\n",
    "\n",
    "db.users.update({}, { $set: { activated : false } }, false, true)       // multiple updates\n",
    "```"
   ]
  },
  {
   "cell_type": "markdown",
   "metadata": {},
   "source": [
    "## Imports and Cursors\n",
    "\n",
    "To import existing data into a mongo database one uses `mongoimport` at the command line. In this way mongo will accept a number of data types: JSON, CSV, and TSV.\n",
    "\n",
    "```\n",
    "mongoimport --db tweets --collection coffee --file coffee-tweets.json\n",
    "```\n",
    "\n",
    "Now that we have some larger data we can see that returns from queries are not always so small.\n",
    "\n",
    "```javascript\n",
    "use tweets\n",
    "db.coffee.find()\n",
    "```\n",
    "\n",
    "When the return from a query will display up to the first 20 documents, after that you will need to type `it` to get more. The cursor that it returns is actually an object that has many methods implemented on it and supports the command `it` to iterate through more return items.\n",
    "\n",
    "```javascript\n",
    "db.coffee.find().count()      // 122\n",
    "\n",
    "db.coffee.find().limit(2)     // Only two documents\n",
    "\n",
    "db.coffee.find().sort({ 'user.followers_count' : -1}).limit(3)  // Top three users by followers count\n",
    "```"
   ]
  },
  {
   "cell_type": "markdown",
   "metadata": {},
   "source": [
    "## Iteration\n",
    "\n",
    "MongoDB also has a flexible shell/driver. This allows you take some action based on a query or update documents. You can use an iterator on the cursor to go document by document. In the Javascript shell we can do this with Javascript's `forEach`. `forEach` is similar to Python's iteration with the `for` loop; however, Javascript actually has a more functional approach to this type of iteration and requires that you pass a callback, a function, similar to `map` and `reduce`.\n",
    "\n",
    "```javascript\n",
    "db.coffee.find().forEach(function(doc) {\n",
    "    doc.entities.urls.forEach(function(url) {\n",
    "        db.urls.update({ 'url': url }, { $push: { 'user': doc.user } }, true)\n",
    "    });\n",
    "});\n",
    "```"
   ]
  },
  {
   "cell_type": "markdown",
   "metadata": {},
   "source": [
    "## Aggregation\n",
    "\n",
    "Aggregations in Mongo end up being way less pretty than in SQL/Pandas. Let's just bite the bullet and take a look:\n",
    "\n",
    "```\n",
    "db.coffee.aggregate( [ { $group :\n",
    "    {\n",
    "        _id: \"$filter_level\",\n",
    "        count: { $sum: 1 }\n",
    "    }\n",
    "}])\n",
    "```\n",
    "\n",
    "Here we are first declaring that we're going to do some sort of grouping operation. Then, as Mongo desires everything to have an `_id` field, we specify that the `_id` is going to be the filter level. And then we're going to perform a sum over each level counting 1 for each observation. This information is going to be stored in a field called `count`. What do we get back?\n",
    "\n",
    "We can also do more complicated stuff as well. Here's a query that returns the average number of friends users in this dataset by country. We need to access the country code field of the place field, but that is easy with an object oriented language like JS.\n",
    "\n",
    "```\n",
    "db.coffee.aggregate( [ { $group :\n",
    "    {\n",
    "        _id: \"$place.country_code\",\n",
    "        maxFriendCount: { $max: \"$user.friends_count\" }\n",
    "    }\n",
    "}])\n",
    "```\n",
    "\n",
    "For a guide on how to convert from an SQL style aggregation to a Mongo style aggregation, check out this [aggregation conversion guide](https://docs.mongodb.com/manual/reference/sql-aggregation-comparison)."
   ]
  },
  {
   "cell_type": "markdown",
   "metadata": {},
   "source": [
    "## Afternoon Objectives\n",
    "\n",
    "1. Understand the process of getting data from the web.\n",
    "2. Know the basics of HTML/CSS:\n",
    "    * Know how to pull desired data from web pages.\n",
    "3. Be able to use existing API's to get fetch pre-formatted data.\n",
    "\n",
    "### Internet vs. World Wide Web\n",
    "\n",
    "* The internet is commonly referred to as a network of networks. It is the infrastructure that allows networks all around the world to connect with one another. There are many different protocols to transfer information within this larger, meta-network.\n",
    "* The World Wide Web, or Web, provides one of the ways that data can be transferred over the internet. Uses a **U**niform **R**esource **L**ocator, URL, to specify the location, within the internet, of a document.\n",
    "\n",
    "    <div style=\"text-align: center\"><h3>Anatomy of a URL</h3><img src=\"images/url.png\" style=\"width: 600px\"></div>\n",
    "    \n",
    "* Documents on the web are generally written in **H**yper**T**ext **M**arkup **L**anguage, HTML, which can be natively viewed by browsers, the tool that we use to browse the web.\n",
    "\n",
    "### Communication on the Web\n",
    "\n",
    "Information is transmitted around the web through a number of protocols. The main one that you will see is the **H**yper**T**ext **T**ransfer **P**rotocol, HTTP. These transfers, called **requests**, are initiated in a number of ways, but always begin with the client, read: you at your browser.\n",
    "\n",
    " <div style=\"text-align: center\"><h3>Requests in Action</h3><img src=\"images/requests.png\" style=\"width: 600px\"></div>\n",
    " \n",
    "There are 4 main types of request that can be issued by your browser: get, post, put and delete. For web scraping purposes, you will almost always be using get requests. We will learn some more about the others in a couple of weeks during data products day."
   ]
  },
  {
   "cell_type": "markdown",
   "metadata": {},
   "source": [
    "# Scraping from a Web Page with Python\n",
    "\n",
    "Scraping a web site basically comes down to making a request from Python and parsing through the HTML that is returned from each page. For each of these tasks we have a Python library, `requests` and `bs4`, respectively.\n",
    "\n",
    "### Requests Library\n",
    "\n",
    "The [requests](http://docs.python-requests.org/en/latest/index.html) library is designed to simplify the process of making http requests within Python. The interface is mind-bogglingly simple. Instantiate a requests object to the request, this will mostly be a `get`, with the URL and optional parameters you'd like passed through the request. That instance make the results of the request available via attributes/methods."
   ]
  },
  {
   "cell_type": "code",
   "execution_count": 1,
   "metadata": {
    "collapsed": true
   },
   "outputs": [],
   "source": [
    "import requests\n",
    "fun_cheap = 'http://sf.funcheap.com'\n",
    "r = requests.get('http://sf.funcheap.com/2016/06/25/')"
   ]
  },
  {
   "cell_type": "code",
   "execution_count": 2,
   "metadata": {
    "collapsed": false
   },
   "outputs": [
    {
     "data": {
      "text/plain": [
       "u'<!DOCTYPE html PUBLIC \"-//W3C//DTD XHTML 1.0 Transitional//EN\" \"http://www.w3.org/TR/xhtml1/DTD/xhtml1-transitional.dtd\">\\r\\n<html xmlns=\"http://www.w3.org/1999/xhtml\" lang=\"en-US\" xmlns:fb=\"http://www.facebook.com/2008/fbml\" xmlns:og=\"http://opengraphprotocol.org/schema/\">\\r\\n\\r\\n<head profile=\"http://gmpg.org/xfn/11\">\\r\\n<script src=\"//cdn.optimizely.com/js/195632799.js\"></script>\\r\\n\\r\\n<meta http-equiv=\"Content-Type\" content=\"text/html; charset=UTF-8\" />\\r\\n\\r\\n\\r\\n<title>Events for June 25, 2016 Archives - FunCheapSF.com</title>\\r\\n\\r\\n<meta name=\"generator\" content=\"WordPress\" /> <!-- leave this for stats -->\\r\\n\\r\\n<link rel=\"stylesheet\" href=\"http://cdn.funcheap.com/wp-content/themes/arthemia-premium/style.css?v=1.6\" type=\"text/css\" media=\"screen\" />\\r\\n<link rel=\"stylesheet\" href=\"http://cdn.funcheap.com/wp-content/themes/arthemia-premium/madmenu.css?v=1.1\" type=\"text/css\" media=\"screen\" />\\r\\n<!--[if IE 6]>\\r\\n    <style type=\"text/css\">\\r\\n    body {\\r\\n        behavior:url(\"http://cdn.funcheap.com/wp-content/'"
      ]
     },
     "execution_count": 2,
     "metadata": {},
     "output_type": "execute_result"
    }
   ],
   "source": [
    "r.text[:1000] # First 1000 characters of the HTML"
   ]
  },
  {
   "cell_type": "markdown",
   "metadata": {},
   "source": [
    "### Getting Info from a Web Page\n",
    "\n",
    "Now that we can gain easy access to the HMTL for a web page, we need some way to pull the desired content from it. Luckily there is already a system in place to do this. With a combination of HMTL and CSS selectors we can identify the information on a HMTL page that we wish to retrieve and grab it with [BeautifulSoup](https://www.crummy.com/software/BeautifulSoup/bs4/doc/#searching-the-tree)."
   ]
  },
  {
   "cell_type": "code",
   "execution_count": 3,
   "metadata": {
    "collapsed": true
   },
   "outputs": [],
   "source": [
    "html = '''<!DOCTYPE html>\n",
    "<html>\n",
    "<head>\n",
    "<title>The title of this web page</title>\n",
    "</head>\n",
    "<body>\n",
    "<h1>My Photos</h1>\n",
    "<div class='intro'>\n",
    "<p>These are some photos of my trips.</p>\n",
    "<img src=\"me.png\">\n",
    "</div>\n",
    "\n",
    "<h3>Italy</h3>\n",
    "<div class='country'>\n",
    "<img src=\"venice1.png\" alt=\"Venice\"> <br />\n",
    "<img src=\"venice2.png\" alt=\"Venice\"> <br />\n",
    "<img src=\"rome.png\" alt=\"Roma\">\n",
    "</div>\n",
    "\n",
    "<h3>Germany</h3>\n",
    "<div class='country'>\n",
    "<img src=\"berlin.png\" alt=\"Berlin\">\n",
    "</div>\n",
    "</body>\n",
    "</html>\n",
    "'''\n",
    "\n",
    "from bs4 import BeautifulSoup\n",
    "soup = BeautifulSoup(html, 'html.parser')"
   ]
  },
  {
   "cell_type": "code",
   "execution_count": 4,
   "metadata": {
    "collapsed": false
   },
   "outputs": [
    {
     "data": {
      "text/plain": [
       "<title>The title of this web page</title>"
      ]
     },
     "execution_count": 4,
     "metadata": {},
     "output_type": "execute_result"
    }
   ],
   "source": [
    "soup.title"
   ]
  },
  {
   "cell_type": "code",
   "execution_count": 5,
   "metadata": {
    "collapsed": false
   },
   "outputs": [
    {
     "data": {
      "text/plain": [
       "u'The title of this web page'"
      ]
     },
     "execution_count": 5,
     "metadata": {},
     "output_type": "execute_result"
    }
   ],
   "source": [
    "soup.title.string"
   ]
  },
  {
   "cell_type": "code",
   "execution_count": 6,
   "metadata": {
    "collapsed": false
   },
   "outputs": [
    {
     "data": {
      "text/plain": [
       "<h1>My Photos</h1>"
      ]
     },
     "execution_count": 6,
     "metadata": {},
     "output_type": "execute_result"
    }
   ],
   "source": [
    "soup.h1"
   ]
  },
  {
   "cell_type": "code",
   "execution_count": 7,
   "metadata": {
    "collapsed": false
   },
   "outputs": [
    {
     "data": {
      "text/plain": [
       "<h3>Italy</h3>"
      ]
     },
     "execution_count": 7,
     "metadata": {},
     "output_type": "execute_result"
    }
   ],
   "source": [
    "soup.h3"
   ]
  },
  {
   "cell_type": "code",
   "execution_count": 8,
   "metadata": {
    "collapsed": false
   },
   "outputs": [
    {
     "data": {
      "text/plain": [
       "<h3>Italy</h3>"
      ]
     },
     "execution_count": 8,
     "metadata": {},
     "output_type": "execute_result"
    }
   ],
   "source": [
    "soup.find('h3')"
   ]
  },
  {
   "cell_type": "code",
   "execution_count": 9,
   "metadata": {
    "collapsed": false
   },
   "outputs": [
    {
     "data": {
      "text/plain": [
       "[<h3>Italy</h3>, <h3>Germany</h3>]"
      ]
     },
     "execution_count": 9,
     "metadata": {},
     "output_type": "execute_result"
    }
   ],
   "source": [
    "soup.find_all('h3')"
   ]
  },
  {
   "cell_type": "code",
   "execution_count": 10,
   "metadata": {
    "collapsed": false
   },
   "outputs": [
    {
     "data": {
      "text/plain": [
       "u'Germany'"
      ]
     },
     "execution_count": 10,
     "metadata": {},
     "output_type": "execute_result"
    }
   ],
   "source": [
    "soup.find_all('h3')[1].string"
   ]
  },
  {
   "cell_type": "code",
   "execution_count": 11,
   "metadata": {
    "collapsed": false
   },
   "outputs": [
    {
     "data": {
      "text/plain": [
       "[<div class=\"country\">\\n<img alt=\"Venice\" src=\"venice1.png\"> <br/>\\n<img alt=\"Venice\" src=\"venice2.png\"> <br/>\\n<img alt=\"Roma\" src=\"rome.png\">\\n</img></img></img></div>,\n",
       " <div class=\"country\">\\n<img alt=\"Berlin\" src=\"berlin.png\">\\n</img></div>]"
      ]
     },
     "execution_count": 11,
     "metadata": {},
     "output_type": "execute_result"
    }
   ],
   "source": [
    "soup.find_all('div', class_='country')"
   ]
  },
  {
   "cell_type": "code",
   "execution_count": 12,
   "metadata": {
    "collapsed": false
   },
   "outputs": [
    {
     "data": {
      "text/plain": [
       "[<img alt=\"Venice\" src=\"venice1.png\"> <br/>\\n<img alt=\"Venice\" src=\"venice2.png\"> <br/>\\n<img alt=\"Roma\" src=\"rome.png\">\\n</img></img></img>,\n",
       " <img alt=\"Venice\" src=\"venice2.png\"> <br/>\\n<img alt=\"Roma\" src=\"rome.png\">\\n</img></img>]"
      ]
     },
     "execution_count": 12,
     "metadata": {},
     "output_type": "execute_result"
    }
   ],
   "source": [
    "soup.find_all('img', alt='Venice')"
   ]
  },
  {
   "cell_type": "code",
   "execution_count": 13,
   "metadata": {
    "collapsed": false
   },
   "outputs": [
    {
     "data": {
      "text/plain": [
       "[<h3>Italy</h3>]"
      ]
     },
     "execution_count": 13,
     "metadata": {},
     "output_type": "execute_result"
    }
   ],
   "source": [
    "soup.find('div', class_='country').find_previous_siblings('h3')"
   ]
  },
  {
   "cell_type": "markdown",
   "metadata": {},
   "source": [
    "If I wanted to systematically get a list of all of the countries visited, how would I do it?"
   ]
  },
  {
   "cell_type": "code",
   "execution_count": 14,
   "metadata": {
    "collapsed": false
   },
   "outputs": [
    {
     "name": "stdout",
     "output_type": "stream",
     "text": [
      "Italy\n",
      "Germany\n"
     ]
    }
   ],
   "source": [
    "for div in soup.find_all('div', class_='country'):\n",
    "    h3 = div.find_previous_siblings('h3')[0]\n",
    "    country = h3.string\n",
    "    print country"
   ]
  },
  {
   "cell_type": "code",
   "execution_count": 15,
   "metadata": {
    "collapsed": false
   },
   "outputs": [
    {
     "name": "stdout",
     "output_type": "stream",
     "text": [
      "Country: Italy: image: venice1.png\n",
      "Country: Italy: image: venice2.png\n",
      "Country: Italy: image: rome.png\n",
      "Country: Germany: image: berlin.png\n"
     ]
    }
   ],
   "source": [
    "for div in soup.find_all('div', class_='country'):\n",
    "    h3 = div.find_previous_siblings('h3')[0]\n",
    "    country = h3.string\n",
    "    for img in div.find_all('img'):\n",
    "        image = img.get('src')\n",
    "        print 'Country: {}: image: {}'.format(country, image)"
   ]
  },
  {
   "cell_type": "markdown",
   "metadata": {},
   "source": [
    "### Getting Info from a Web Page - Take 2"
   ]
  },
  {
   "cell_type": "code",
   "execution_count": 16,
   "metadata": {
    "collapsed": true
   },
   "outputs": [],
   "source": [
    "soup = BeautifulSoup(r.text, 'html.parser')"
   ]
  },
  {
   "cell_type": "code",
   "execution_count": 17,
   "metadata": {
    "collapsed": false
   },
   "outputs": [
    {
     "data": {
      "text/plain": [
       "u'Events for  June 25, 2016'"
      ]
     },
     "execution_count": 17,
     "metadata": {},
     "output_type": "execute_result"
    }
   ],
   "source": [
    "soup.select('h2.title')[0].string"
   ]
  },
  {
   "cell_type": "code",
   "execution_count": 18,
   "metadata": {
    "collapsed": false
   },
   "outputs": [
    {
     "data": {
      "text/plain": [
       "<h2 class=\"title\">Events for  June 25, 2016</h2>"
      ]
     },
     "execution_count": 18,
     "metadata": {},
     "output_type": "execute_result"
    }
   ],
   "source": [
    "title = soup.find_all('h2', class_='title')[0]\n",
    "\n",
    "title"
   ]
  },
  {
   "cell_type": "code",
   "execution_count": 19,
   "metadata": {
    "collapsed": false
   },
   "outputs": [
    {
     "data": {
      "text/plain": [
       "<div class=\"clearfloat\">\\n<span class=\"left\"><a href=\"/2016/06/24/\">&lt; Friday, June 24</a></span>\\n<span class=\"right\"><a href=\"/2016/06/26/\">Sunday, June 26 &gt;</a></span>\\n<div style=\"clear:both\"></div>\\n<div class=\"archive_date_title\" style=\"background-color:white;margin:0px;margin-bottom:4px;padding:0px;\"><h3 style=\"background-color:black;color:white;margin:0px;padding:3px;font: 16px Arial;font-weight:bold;\">Saturday<span style=\"font-weight:normal;\">, June 25</span></h3></div>\\n<div class=\"tanbox left\" style=\"background-color:white;\">\\n<span class=\"title\"><a href=\"http://sf.funcheap.com/set-prides-pink-triangle-twin-peaks/\" rel=\"bookmark\" title=\"Giant Pink Triangle on Twin Peaks: Set-Up &amp; Ceremony | Pride 2016\">Giant Pink Triangle on Twin Peaks: Set-Up &amp; Ceremony | Pride 2016</a></span>\\n<div class=\"meta archive-meta\">Saturday, June 25 \\x96 7:00 am | \\n\\n\\n<span class=\"cost\">Cost:</span> <a class=\"tt\">FREE* \\n\\t\\t<div class=\"tooltip\">\\n<div class=\"top\"></div>\\n<div class=\"middle\">*Free to attend the ceremony, but an RSVP is requested to volunteer for the set-up</div>\\n<div class=\"bottom\"></div>\\n</div></a> | <span>Twin Peaks - Vista Overlook</span> </div>\\n<div class=\"thumbnail-wrapper\"><a href=\"http://sf.funcheap.com/set-prides-pink-triangle-twin-peaks/\" rel=\"bookmark\" title=\"Giant Pink Triangle on Twin Peaks: Set-Up &amp; Ceremony | Pride 2016\"><img alt=\"Giant Pink Triangle on Twin Peaks: Set-Up &amp; Ceremony | Pride 2016\" class=\"left\" src=\"http://cdn.funcheap.com/wp-content/uploads/2014/05/pink-triangle-175x130.jpg\"/></a></div>Besides the outdoor marches and gatherings, one of Pride SF\\u2019s most public displays is the giant cloth pink triangle installed for the weekend at the top of Twin Peaks\\xa0to remember gay victims of the Holocaust.\\nThe pink triangle was used by the Nazis in concentration camps ...</div>\\n<div class=\"tanbox left\" style=\"background-color:white;\">\\n<span class=\"title\"><a href=\"http://sf.funcheap.com/1-flip-flop-day-navy/\" rel=\"bookmark\" title=\"$1 Flip Flop Day | Old Navy\">$1 Flip Flop Day | Old Navy</a></span>\\n<div class=\"meta archive-meta\">Saturday, June 25 \\x96 7:00 am | \\n\\n\\n<span class=\"cost\">Cost:</span> <a class=\"tt\">$1* \\n\\t\\t<div class=\"tooltip\">\\n<div class=\"top\"></div>\\n<div class=\"middle\">*$1 flip flops at Old Navy from 7 am to noon.</div>\\n<div class=\"bottom\"></div>\\n</div></a> | <span>Old Navy (SF)</span> </div>\\n<div class=\"thumbnail-wrapper\"><a href=\"http://sf.funcheap.com/1-flip-flop-day-navy/\" rel=\"bookmark\" title=\"$1 Flip Flop Day | Old Navy\"><img alt=\"$1 Flip Flop Day | Old Navy\" class=\"left\" src=\"http://cdn.funcheap.com/wp-content/uploads/2015/06/Screen-Shot-2015-06-18-at-2.13.03-PM-175x130.png\"/></a></div>Get ready for summer and grab a pair of $1 flip-flops at participating Old Navy stores on Saturday, June 25, 2016. They\\u2019re opening extra early at 7 am for this special deal which will last only until noon.\\nBay Area Old Navy stores include:\\n\\nSan Francisco \\u2013\\xa0801 ...</div>\\n<div class=\"tanbox left\" style=\"background-color:white;padding-bottom:10px;\">\\n<p>\\n<!-- FunCheap_Archive_Listing -->\\n<div id=\"div-gpt-ad-1370026159345-1\" style=\"width:300px; height:250px;\">\\n<script type=\"text/javascript\">\\r\\n                googletag.cmd.push(function() { googletag.display('div-gpt-ad-1370026159345-1'); });\\r\\n                </script>\\n</div>\\n</p>\\n</div>\\n<div class=\"tanbox left\" style=\"background-color:white;\">\\n<span class=\"title\"><a href=\"http://sf.funcheap.com/summer-free-yoga-series-santana-row/\" rel=\"bookmark\" title=\"Summer Morning Yoga on Santana Row | San Jose\">Summer Morning Yoga on Santana Row | San Jose</a></span>\\n<div class=\"meta archive-meta\">Saturday, June 25 \\x96 9:00 am | \\n\\n\\n<span class=\"cost\">Cost: FREE</span> | <span>Santana Row</span> </div>\\n<div class=\"thumbnail-wrapper\"><a href=\"http://sf.funcheap.com/summer-free-yoga-series-santana-row/\" rel=\"bookmark\" title=\"Summer Morning Yoga on Santana Row | San Jose\"><img alt=\"Summer Morning Yoga on Santana Row | San Jose\" class=\"left\" src=\"http://cdn.funcheap.com/wp-content/uploads/2015/06/Screen-Shot-2016-06-23-at-7.38.38-PM-175x130.png\"/></a></div><p>Lululemon Athletica invites you to\\xa0free Summer Yoga sessions\\xa0every Saturday morning from May to September\\xa0at Park Valencia across from Left Bank Brasserie. Registration begins at 8:30 am, and class begins at 9 am.</p></div>\\n<div class=\"tanbox left\" style=\"background-color:white;\">\\n<span class=\"title\"><a href=\"http://sf.funcheap.com/pro-beach-volleyball-tournament-avp-san-francisco-open-piers-3032-3/\" rel=\"bookmark\" title=\"Pro Beach Volleyball Tournament: AVP San Francisco Open | Piers 30-32\">Pro Beach Volleyball Tournament: AVP San Francisco Open | Piers 30-32</a></span>\\n<div class=\"meta archive-meta\">Saturday, June 25 \\x96 All Day | \\n\\n\\n<span class=\"cost\">Cost:</span> <a class=\"tt\">FREE* \\n\\t\\t<div class=\"tooltip\">\\n<div class=\"top\"></div>\\n<div class=\"middle\">*FREE general admission, and all seating is free on Thursday 6/23. Other seating/VIP range from $45-$400. Tickets will be available on-site based on availability at the AVP Box Office.</div>\\n<div class=\"bottom\"></div>\\n</div></a> | <span>Pier 30</span> </div>\\n<div class=\"thumbnail-wrapper\"><a href=\"http://sf.funcheap.com/pro-beach-volleyball-tournament-avp-san-francisco-open-piers-3032-3/\" rel=\"bookmark\" title=\"Pro Beach Volleyball Tournament: AVP San Francisco Open | Piers 30-32\"><img alt=\"Pro Beach Volleyball Tournament: AVP San Francisco Open | Piers 30-32\" class=\"left\" src=\"http://cdn.funcheap.com/wp-content/uploads/2016/06/13443197_10154187379143162_7458978610581430723_o1-175x130.jpg\"/></a></div><p>The Mens &amp; Womens\\xa0AVP Pro Beach Volleyball Tour will make its return to San Francisco. In one of the last domestic events before the Olympics, the City by the Bay will host the AVP for the first time since 2009. Not only will there be ...</p></div>\\n<div class=\"tanbox left\" style=\"background-color:white;padding:3px 0;\"><table width=\"100%\"><tr><td style=\"width:66px\">9:30 am</td><td><span class=\"title2\"><a href=\"http://sf.funcheap.com/environmental-candlestick-point-nature-hike/\" rel=\"bookmark\" title=\"Candlestick Point Nature Hike | SF\">Candlestick Point Nature Hike | SF</a></span></td><td style=\"width:66px\">\\xa0\\xa0<a class=\"tt\">FREE*<div class=\"tooltip\">\\n<div class=\"top\"></div>\\n<div class=\"middle\">*Free but an RSVP is required.</div>\\n<div class=\"bottom\"></div>\\n</div></a></td></tr></table></div>\\n<div class=\"tanbox left\" style=\"background-color:white;\">\\n<span class=\"title\"><a href=\"http://sf.funcheap.com/surf-city-classic-woodies-wharf-santa-cruz/\" rel=\"bookmark\" title=\"22nd Annual Surf City Classic: Woodies on the Wharf | Santa Cruz\">22nd Annual Surf City Classic: Woodies on the Wharf | Santa Cruz</a></span>\\n<div class=\"meta archive-meta\">Saturday, June 25 \\x96 10:00 am | \\n\\n\\n<span class=\"cost\">Cost: FREE</span> | <span>Santa Cruz Wharf </span> </div>\\n<div class=\"thumbnail-wrapper\"><a href=\"http://sf.funcheap.com/surf-city-classic-woodies-wharf-santa-cruz/\" rel=\"bookmark\" title=\"22nd Annual Surf City Classic: Woodies on the Wharf | Santa Cruz\"><img alt=\"22nd Annual Surf City Classic: Woodies on the Wharf | Santa Cruz\" class=\"left\" src=\"http://cdn.funcheap.com/wp-content/uploads/2012/06/woodies-on-the-wharf-5-175x130.jpg\"/></a></div>\\nI bought a \\u201930 Ford wagon and we call it a woody (Surf City, here we come) You know it\\u2019s not very cherry, it\\u2019s an oldie but a goody (Surf City, here we come) \\u2013 Jan &amp; Dean\\nCome to Santa Cruz and meet the Woodie,\\xa0the ...</div>\\n<div class=\"tanbox left\" style=\"background-color:white;padding:3px 0;\"><table width=\"100%\"><tr><td style=\"width:66px\">10:00 am</td><td><span class=\"title2\"><a href=\"http://sf.funcheap.com/dyke-march-playground-brunch-dolores-park/\" rel=\"bookmark\" title=\"Dyke March Playground Brunch | Dolores Park\">Dyke March Playground Brunch | Dolores Park</a></span></td><td style=\"width:66px\">\\xa0\\xa0<a class=\"tt\">FREE*<div class=\"tooltip\">\\n<div class=\"top\"></div>\\n<div class=\"middle\">*Registration is requested and donations are appreciated.</div>\\n<div class=\"bottom\"></div>\\n</div></a></td></tr></table></div>\\n<div class=\"tanbox left\" style=\"background-color:white;\">\\n<span class=\"title\"><a href=\"http://sf.funcheap.com/nor-cal-corgi-con-summer/\" rel=\"bookmark\" title=\"NorCal \\u201cCorgi Con\\u201d Summer 2016 | Ocean Beach\">NorCal \\u201cCorgi Con\\u201d Summer 2016 | Ocean Beach</a></span>\\n<div class=\"meta archive-meta\">Saturday, June 25 \\x96 10:00 am | \\n\\n\\n<span class=\"cost\">Cost: FREE</span> | <span>Ocean Beach (Stairwell 17)</span> </div>\\n<div class=\"thumbnail-wrapper\"><a 2016=\"\" beach\"=\"\" con\"=\"\" corgi=\"\" href=\"http://sf.funcheap.com/nor-cal-corgi-con-summer/\" ocean=\"\" rel=\"bookmark\" summer=\"\" title=\"NorCal \" |=\"\"><img 2016=\"\" alt=\"NorCal \" beach\"=\"\" class=\"left\" con\"=\"\" corgi=\"\" ocean=\"\" src=\"http://cdn.funcheap.com/wp-content/uploads/2016/06/corgicon_grass-175x130.jpg\" summer=\"\" |=\"\"/></a></div>San Francisco\\u2019s\\xa0Corgi Con\\xa0San Francisco is a wonderfully bizarre beach day event for dogs (and their pawrents) bringing together hundreds\\xa0of enthusiastic Corgis (there were 650+ the last time), their owners and wannabes too on\\xa0Ocean Beach from 10 am to 2 pm.\\nThe day will be back with ...</div>\\n<div class=\"tanbox left\" style=\"background-color:white;\">\\n<span class=\"title\"><a href=\"http://sf.funcheap.com/history-san-francisco-pride-photo-exhibit-fabulous-celebration-sf/\" rel=\"bookmark\" title=\"\\u201cSan Francisco Pride\\u201d Photo Exhibit | Harvey Milk Photo Center\">\\u201cSan Francisco Pride\\u201d Photo Exhibit | Harvey Milk Photo Center</a></span>\\n<div class=\"meta archive-meta\">Saturday, June 25 \\x96 10:00 am | \\n\\n\\n<span class=\"cost\">Cost: FREE</span> | <span>Harvey Milk Photography Center</span> </div>\\n<div class=\"thumbnail-wrapper\"><a center\"=\"\" exhibit=\"\" francisco=\"\" harvey=\"\" href=\"http://sf.funcheap.com/history-san-francisco-pride-photo-exhibit-fabulous-celebration-sf/\" milk=\"\" photo=\"\" pride\"=\"\" rel=\"bookmark\" san=\"\" title=\"\" |=\"\"><img alt=\"\" center\"=\"\" class=\"left\" exhibit=\"\" francisco=\"\" harvey=\"\" milk=\"\" photo=\"\" pride\"=\"\" san=\"\" src=\"http://cdn.funcheap.com/wp-content/uploads/2016/06/harveymilkprideexhibit-175x130.jpg\" |=\"\"/></a></div><p>The Harvey Milk Photography Center\\u2019s annual San Francisco Pride photography exhibit for 2016 \\u201cLGBTQ Chronicled: 1933-2016\\u201d will focus on a historic body of exciting and iconic photographs showcasing \\u201cGay Pride\\u201d, as well as include contemporary photographs from both bay area LGBT Youth and LGBT Seniors. ...</p></div>\\n<div class=\"tanbox left\" style=\"background-color:white;\">\\n<span class=\"title\"><a href=\"http://sf.funcheap.com/treasure-island-flea-epic-beard-competition-circus-sf/\" rel=\"bookmark\" title=\"Treasure Island Flea: Epic Beard Competition &amp; Circus | SF\">Treasure Island Flea: Epic Beard Competition &amp; Circus | SF</a></span>\\n<div class=\"meta archive-meta\">Saturday, June 25 \\x96 All Day | \\n\\n\\n<span class=\"cost\">Cost:</span> <a class=\"tt\">$3* \\n\\t\\t<div class=\"tooltip\">\\n<div class=\"top\"></div>\\n<div class=\"middle\">*$3 is for general admission to the Flea. Additional activities including the circus require additional purchase.</div>\\n<div class=\"bottom\"></div>\\n</div></a> | <span>Great Lawn</span> </div>\\n<div class=\"thumbnail-wrapper\"><a href=\"http://sf.funcheap.com/treasure-island-flea-epic-beard-competition-circus-sf/\" rel=\"bookmark\" title=\"Treasure Island Flea: Epic Beard Competition &amp; Circus | SF\"><img alt=\"Treasure Island Flea: Epic Beard Competition &amp; Circus | SF\" class=\"left\" src=\"http://cdn.funcheap.com/wp-content/uploads/2013/03/tifleanicephoto1-175x130.jpg\"/></a></div>June 25th and 26th is shaping up to be one exciting Flea with a circus and facial hair contest added to the mix.\\nVintage Deluxe Trailers\\xa0host a\\xa0beard and facial hair competition around 2pm each day.\\xa0The audience will vote by way of cheer and the victors will ...</div>\\n<div class=\"tanbox left\" style=\"background-color:white;\">\\n<span class=\"title\"><a href=\"http://sf.funcheap.com/international-parkour-jam-urban-ninja-festival-berkeley-1/\" rel=\"bookmark\" title=\"2016 International Parkour Jam: Urban Ninjas in Bunkers | East Bay\">2016 International Parkour Jam: Urban Ninjas in Bunkers | East Bay</a></span>\\n<div class=\"meta archive-meta\">Saturday, June 25 \\x96 All Day | \\n\\n\\n<span class=\"cost\">Cost: FREE</span> | <span>All Over East Bay</span> </div>\\n<div class=\"thumbnail-wrapper\"><a href=\"http://sf.funcheap.com/international-parkour-jam-urban-ninja-festival-berkeley-1/\" rel=\"bookmark\" title=\"2016 International Parkour Jam: Urban Ninjas in Bunkers | East Bay\"><img alt=\"2016 International Parkour Jam: Urban Ninjas in Bunkers | East Bay\" class=\"left\" src=\"http://cdn.funcheap.com/wp-content/uploads/2015/06/551511_10151650498091554_1937017085_n-175x130.jpg\"/></a></div><p>If you see a bunch of Jackie Chan wannabes this weekend performing\\xa0amazing stunt-man like tricks you\\u2019ve probably stumbled upon the annual\\xa0SF Parkour International Jam. The free three-day event brings together parkour enthusiasts and freerunners (known as \\u201ctraceurs\\u201d) from all over the Bay Area to\\xa0perform like ...</p></div>\\n<div class=\"tanbox left\" style=\"background-color:white;padding:3px 0;\"><table width=\"100%\"><tr><td style=\"width:66px\">10:00 am</td><td><span class=\"title2\"><a href=\"http://sf.funcheap.com/free-oakland-summer-walking-tours-oakland-15/\" rel=\"bookmark\" title=\"Free Oakland Summer Walking Tours | Old Oakland\">Free Oakland Summer Walking Tours | Old Oakland</a></span></td><td style=\"width:66px\">\\xa0\\xa0<a class=\"tt\">FREE*<div class=\"tooltip\">\\n<div class=\"top\"></div>\\n<div class=\"middle\">*Reservations are recommended by leaving a message on the Tours\\u2019 24-hour hotline at (510) 238-3234 or via email to aallen@oaklandnet.com</div>\\n<div class=\"bottom\"></div>\\n</div></a></td></tr></table></div>\\n<div class=\"tanbox left\" style=\"background-color:white;\">\\n<span class=\"title\"><a href=\"http://sf.funcheap.com/delta-board-kiteboarding-event/\" rel=\"bookmark\" title=\"2016 Kiteboarding Competition: Big Air, Freestyle &amp; Slalom | East Bay\">2016 Kiteboarding Competition: Big Air, Freestyle &amp; Slalom | East Bay</a></span>\\n<div class=\"meta archive-meta\">Saturday, June 25 \\x96 All Day | \\n\\n\\n<span class=\"cost\">Cost:</span> <a class=\"tt\">FREE* \\n\\t\\t<div class=\"tooltip\">\\n<div class=\"top\"></div>\\n<div class=\"middle\">*Free to watch. Food and beverage available for purchase.</div>\\n<div class=\"bottom\"></div>\\n</div></a> | <span>Riverview Park</span> </div>\\n<div class=\"thumbnail-wrapper\"><a href=\"http://sf.funcheap.com/delta-board-kiteboarding-event/\" rel=\"bookmark\" title=\"2016 Kiteboarding Competition: Big Air, Freestyle &amp; Slalom | East Bay\"><img alt=\"2016 Kiteboarding Competition: Big Air, Freestyle &amp; Slalom | East Bay\" class=\"left\" src=\"http://cdn.funcheap.com/wp-content/uploads/2016/06/0312454259anton1-175x130.jpg\"/></a></div><p>Come witness the second annual Delta Board Meeting, June 25th &amp; 26th, 2016 in Pittsburg, California. Watch as Kiteboarders compete in the disciplines of big air, freestyle, and slalom in the Delta Waters to fight for the top spot. Don\\u2019t miss out on the action ...</p></div>\\n<div class=\"tanbox left\" style=\"background-color:white;padding:3px 0;\"><table width=\"100%\"><tr><td style=\"width:66px\">10:00 am</td><td><span class=\"title2\"><a href=\"http://sf.funcheap.com/photography-meetup-tips-about-photography-sf-8/\" rel=\"bookmark\" title=\"Photography Meetup: Pro Tips &amp; Talks | SF\">Photography Meetup: Pro Tips &amp; Talks | SF</a></span></td><td style=\"width:66px\">\\xa0\\xa0FREE</td></tr></table></div>\\n<div class=\"tanbox left\" style=\"background-color:white;\">\\n<span class=\"title\"><a href=\"http://sf.funcheap.com/san-franciscos-birthday-celebration-presidio/\" rel=\"bookmark\" title=\"San Francisco\\u2019s 240th Birthday Celebration | Presidio\">San Francisco\\u2019s 240th Birthday Celebration | Presidio</a></span>\\n<div class=\"meta archive-meta\">Saturday, June 25 \\x96 10:30 am | \\n\\n\\n<span class=\"cost\">Cost: FREE</span> | <span>Main Post Lawn</span> </div>\\n<div class=\"thumbnail-wrapper\"><a href=\"http://sf.funcheap.com/san-franciscos-birthday-celebration-presidio/\" rel=\"bookmark\" title=\"San Francisco's 240th Birthday Celebration | Presidio\"><img alt=\"San Francisco's 240th Birthday Celebration | Presidio\" class=\"left\" src=\"http://cdn.funcheap.com/wp-content/uploads/2015/06/carousel-3-pasados-175x130.jpg\"/></a></div>Descendants of the original founding families of the Juan Bautista de Anza Expedition (1775-76) return to the Presidio to recognize the journey of their forefathers and the founding of El Presidio de San Francisco.\\nSan Francisco\\u2019s 240th Birthday Celebration\\nSaturday, June 25, 2016 | 10:30 am to ...</div>\\n<div class=\"tanbox left\" style=\"background-color:white;padding:3px 0;\"><table width=\"100%\"><tr><td style=\"width:66px\">10:30 am</td><td><span class=\"title2\"><a href=\"http://sf.funcheap.com/lgbtq-family-storytime-oakland/\" rel=\"bookmark\" title=\"LGBTQ Family Storytime | Oakland\">LGBTQ Family Storytime | Oakland</a></span></td><td style=\"width:66px\">\\xa0\\xa0FREE</td></tr></table></div>\\n<div class=\"tanbox left\" style=\"background-color:white;\">\\n<span class=\"title\"><a href=\"http://sf.funcheap.com/spark-food-truck-park-grand-opening-fire-pits-champagne-smores-mission-bay/\" rel=\"bookmark\" title=\"SPARK Food Truck Park Grand Opening: Fire Pits, Champagne &amp; S\\u2019mores | Mission Bay\">SPARK Food Truck Park Grand Opening: Fire Pits, Champagne &amp; S\\u2019mores | Mission Bay</a></span>\\n<div class=\"meta archive-meta\">Saturday, June 25 \\x96 All Day | \\n\\n\\n<span class=\"cost\">Cost: FREE</span> | <span>SPARK Social SF</span> </div>\\n<div class=\"thumbnail-wrapper\"><a href=\"http://sf.funcheap.com/spark-food-truck-park-grand-opening-fire-pits-champagne-smores-mission-bay/\" rel=\"bookmark\" title=\"SPARK Food Truck Park Grand Opening: Fire Pits, Champagne &amp; S'mores | Mission Bay\"><img alt=\"SPARK Food Truck Park Grand Opening: Fire Pits, Champagne &amp; S'mores | Mission Bay\" class=\"left\" src=\"http://cdn.funcheap.com/wp-content/uploads/2016/06/spark-175x130.jpg\"/></a></div>Hungry residents of San Francisco\\u2019s Mission Bay neighborhood are about to get a slew of new dining options as the team behind SoMa StrEat Food Park opens\\xa0their new location at Parklab, in the heart of Mission Bay. SPARK Social SF\\xa0will kick off with the public ...</div>\\n<div class=\"tanbox left\" style=\"background-color:white;\">\\n<span class=\"title\"><a href=\"http://sf.funcheap.com/latino-culture-festival-aztec-dancing-capoeira-folklorico-oakland/\" rel=\"bookmark\" title=\"Latino Culture Festival: Aztec Dancing, Capoeira &amp; Folklorico | Oakland\">Latino Culture Festival: Aztec Dancing, Capoeira &amp; Folklorico | Oakland</a></span>\\n<div class=\"meta archive-meta\">Saturday, June 25 \\x96 All Day | \\n\\n\\n<span class=\"cost\">Cost:</span> <a class=\"tt\">FREE* \\n\\t\\t<div class=\"tooltip\">\\n<div class=\"top\"></div>\\n<div class=\"middle\">*Free, but an RSVP is requested.</div>\\n<div class=\"bottom\"></div>\\n</div></a> | <span>Peralta Hacienda Historical Park</span> </div>\\n<div class=\"thumbnail-wrapper\"><a href=\"http://sf.funcheap.com/latino-culture-festival-aztec-dancing-capoeira-folklorico-oakland/\" rel=\"bookmark\" title=\"Latino Culture Festival: Aztec Dancing, Capoeira &amp; Folklorico | Oakland\"><img alt=\"Latino Culture Festival: Aztec Dancing, Capoeira &amp; Folklorico | Oakland\" class=\"left\" src=\"http://cdn.funcheap.com/wp-content/uploads/2016/06/folklorico-175x130.jpg\"/></a></div>The Latino Culture Festival\\xa0features aztec and folklorico dancers, capoeira performance, food, and lots of music at the historic \\u201cbirthplace of Oakland,\\u201d Peralta Hacienda. Plus, there will be a dance contest where all are welcome to compete for prizes. It all happens from 11 am to ...</div>\\n<div class=\"tanbox left\" style=\"background-color:white;\">\\n<span class=\"title\"><a href=\"http://sf.funcheap.com/125th-birthday-party-blast-1890s-carnival-live-music-movies-oakland/\" rel=\"bookmark\" title=\"125th Birthday Party Blast: 1890\\u2019s Carnival, Live Music &amp; Movies | Oakland\">125th Birthday Party Blast: 1890\\u2019s Carnival, Live Music &amp; Movies | Oakland</a></span>\\n<div class=\"meta archive-meta\">Saturday, June 25 \\x96 11:00 am | \\n\\n\\n<span class=\"cost\">Cost: FREE</span> | <span>Fred Finch Youth Center</span> </div>\\n<div class=\"thumbnail-wrapper\"><a href=\"http://sf.funcheap.com/125th-birthday-party-blast-1890s-carnival-live-music-movies-oakland/\" rel=\"bookmark\" title=\"125th Birthday Party Blast: 1890's Carnival, Live Music &amp; Movies | Oakland\"><img alt=\"125th Birthday Party Blast: 1890's Carnival, Live Music &amp; Movies | Oakland\" class=\"left\" src=\"http://cdn.funcheap.com/wp-content/uploads/2016/06/Carnival-Birthday-Party-San-Diego1-175x130.jpeg\"/></a></div>Travel through time with Fred Finch Youth Center in celebration of their 125th year of providing services for children and families.\\nAs you stroll through the\\xa08 acre park-like campus you can enjoy a fun-filled day carnival with clowns, stilt walkers, games and face painting. Plus snack ...</div>\\n<div class=\"tanbox left\" style=\"background-color:white;padding:3px 0;\"><table width=\"100%\"><tr><td style=\"width:66px\">12:00 pm</td><td><span class=\"title2\"><a href=\"http://sf.funcheap.com/pink-mammoth-summertime-block-party-sf/\" rel=\"bookmark\" title=\"Win Tix: \\u201cPink Mammoth\\u201d 4th Annual Summer Block Party | SF\">Win Tix: \\u201cPink Mammoth\\u201d 4th Annual Summer Block Party | SF</a></span></td><td style=\"width:66px\">\\xa0\\xa0WIN</td></tr></table></div>\\n<div class=\"tanbox left\" style=\"background-color:white;padding:3px 0;\"><table width=\"100%\"><tr><td style=\"width:66px\">12:00 pm</td><td><span class=\"title2\"><a href=\"http://sf.funcheap.com/lyrical-workshop-emerge-with-better-songs-sf/\" rel=\"bookmark\" title=\"Lyrical Workshop: Emerge With Better Songs | SF\">Lyrical Workshop: Emerge With Better Songs | SF</a></span></td><td style=\"width:66px\">\\xa0\\xa0<a class=\"tt\">FREE*<div class=\"tooltip\">\\n<div class=\"top\"></div>\\n<div class=\"middle\">*Free but an RSVP is required.</div>\\n<div class=\"bottom\"></div>\\n</div></a></td></tr></table></div>\\n<div class=\"tanbox left\" style=\"background-color:white;padding:3px 0;\"><table width=\"100%\"><tr><td style=\"width:66px\">12:00 pm</td><td><span class=\"title2\"><a href=\"http://sf.funcheap.com/san-anselmo-art-wine-festival-sampling-pass/\" rel=\"bookmark\" title=\"Win Tix: San Anselmo Art &amp; Wine Festival: Sampling Pass | North Bay\">Win Tix: San Anselmo Art &amp; Wine Festival: Sampling Pass | North Bay</a></span></td><td style=\"width:66px\">\\xa0\\xa0WIN</td></tr></table></div>\\n<div class=\"tanbox left\" style=\"background-color:white;padding:3px 0;\"><table width=\"100%\"><tr><td style=\"width:66px\">12:00 pm</td><td><span class=\"title2\"><a href=\"http://sf.funcheap.com/free-seasonal-cooking-demo-tasting-ferry-plaza-farmers-market-38/\" rel=\"bookmark\" title=\"Free Seasonal Cooking Demo &amp; Tasting | Ferry Plaza Farmers Market\">Free Seasonal Cooking Demo &amp; Tasting | Ferry Plaza Farmers Market</a></span></td><td style=\"width:66px\">\\xa0\\xa0FREE</td></tr></table></div>\\n<div class=\"tanbox left\" style=\"background-color:white;\">\\n<span class=\"title\"><a href=\"http://sf.funcheap.com/sf-dyke-march-womens-pride-dolores-park/\" rel=\"bookmark\" title=\"SF Dyke March &amp; Rally 2016 | Dolores Park\">SF Dyke March &amp; Rally 2016 | Dolores Park</a></span>\\n<div class=\"meta archive-meta\">Saturday, June 25 \\x96 1:00 pm | \\n\\n\\n<span class=\"cost\">Cost: FREE</span> | <span>Dolores Park</span> </div>\\n<div class=\"thumbnail-wrapper\"><a href=\"http://sf.funcheap.com/sf-dyke-march-womens-pride-dolores-park/\" rel=\"bookmark\" title=\"SF Dyke March &amp; Rally 2016 | Dolores Park\"><img alt=\"SF Dyke March &amp; Rally 2016 | Dolores Park\" class=\"left\" src=\"http://cdn.funcheap.com/wp-content/uploads/2016/06/11666203_10153473185504306_5648974943887355492_n1-175x130.jpg\"/></a></div>The San Francisco Dyke March is an annual rally and march of close to 50,000 members of the\\xa0LGBTQ community that happens on Pride weekend to bring SF\\u2019s dyke communities together with a strength of voice and remain politically conscious and visible.\\nDyke March programming will begin ...</div>\\n<div class=\"tanbox left\" style=\"background-color:white;padding:3px 0;\"><table width=\"100%\"><tr><td style=\"width:66px\">1:00 pm</td><td><span class=\"title2\"><a href=\"http://sf.funcheap.com/le-cirque-de-bohme-1920s-oldstyle-circus-treasure-island/\" rel=\"bookmark\" title=\"Win Tix: Le Cirque de Boh\\xe8me: 1920s Old-Style Circus | Treasure Island\">Win Tix: Le Cirque de Boh\\xe8me: 1920s Old-Style Circus | Treasure Island</a></span></td><td style=\"width:66px\">\\xa0\\xa0WIN</td></tr></table></div>\\n<div class=\"tanbox left\" style=\"background-color:white;\">\\n<span class=\"title\"><a href=\"http://sf.funcheap.com/live-art-pride-party-support-local-arts/\" rel=\"bookmark\" title=\"Pride Weekend Live Art Day Party: Free Drinks, Live Art &amp; Music | SF\">Pride Weekend Live Art Day Party: Free Drinks, Live Art &amp; Music | SF</a></span>\\n<div class=\"meta archive-meta\">Saturday, June 25 \\x96 1:00 pm | \\n\\n\\n<span class=\"cost\">Cost: FREE</span> | <span>San Franpsycho (Inner Sunset)</span> </div>\\n<div class=\"thumbnail-wrapper\"><a href=\"http://sf.funcheap.com/live-art-pride-party-support-local-arts/\" rel=\"bookmark\" title=\"Pride Weekend Live Art Day Party: Free Drinks, Live Art &amp; Music | SF\"><img alt=\"Pride Weekend Live Art Day Party: Free Drinks, Live Art &amp; Music | SF\" class=\"left\" src=\"http://cdn.funcheap.com/wp-content/uploads/2016/06/page-image-2229-87d34055-add1-4cc6-9298-7a46858b50cb1-175x130.jpg\"/></a></div>The San Francisco Arts &amp; Families Funding Ordinance\\u2014a measure that would dedicate secure, increased funds to arts programming and cultural equity throughout San Francisco (without raising taxes for voters)\\u2014was filed at City Hall earlier this month. They have until July 11th to collect 13,000 signatures ...</div>\\n<div class=\"tanbox left\" style=\"background-color:white;padding:3px 0;\"><table width=\"100%\"><tr><td style=\"width:66px\">1:00 pm</td><td><span class=\"title2\"><a href=\"http://sf.funcheap.com/taste-mendocino-wine-party-fort-mason/\" rel=\"bookmark\" title=\"Win Tix: \\u201cTaste of Mendocino\\u201d Wine Party | Fort Mason\">Win Tix: \\u201cTaste of Mendocino\\u201d Wine Party | Fort Mason</a></span></td><td style=\"width:66px\">\\xa0\\xa0<a class=\"tt\">WIN*<div class=\"tooltip\">\\n<div class=\"top\"></div>\\n<div class=\"middle\">*must be 21+ to attend</div>\\n<div class=\"bottom\"></div>\\n</div></a></td></tr></table></div>\\n<div class=\"tanbox left\" style=\"background-color:white;padding:3px 0;\"><table width=\"100%\"><tr><td style=\"width:66px\">1:30 pm</td><td><span class=\"title2\"><a href=\"http://sf.funcheap.com/hood-2016-sf/\" rel=\"bookmark\" title=\"Under the Hood 2016:  Choreographic Process  | SF\">Under the Hood 2016:  Choreographic Process  | SF</a></span></td><td style=\"width:66px\">\\xa0\\xa0<a class=\"tt\">FREE*<div class=\"tooltip\">\\n<div class=\"top\"></div>\\n<div class=\"middle\">*Free  but an RSVP is required.</div>\\n<div class=\"bottom\"></div>\\n</div></a></td></tr></table></div>\\n<div class=\"tanbox left\" style=\"background-color:white;padding:3px 0;\"><table width=\"100%\"><tr><td style=\"width:66px\">2:00 pm</td><td><span class=\"title2\"><a href=\"http://sf.funcheap.com/unity-documentary-screening-sf/\" rel=\"bookmark\" title=\"\\u201cUnity\\u201d Documentary Screening | SF\">\\u201cUnity\\u201d Documentary Screening | SF</a></span></td><td style=\"width:66px\">\\xa0\\xa0<a class=\"tt\">FREE*<div class=\"tooltip\">\\n<div class=\"top\"></div>\\n<div class=\"middle\">*Free but an RSVP is required.</div>\\n<div class=\"bottom\"></div>\\n</div></a></td></tr></table></div>\\n<div class=\"tanbox left\" style=\"background-color:white;\">\\n<span class=\"title\"><a href=\"http://sf.funcheap.com/free-summer-circus-day-circus-bella-opening-weekend-sf-2/\" rel=\"bookmark\" title=\"Free Summer Circus Day with Circus Bella: Opening Weekend | SF\">Free Summer Circus Day with Circus Bella: Opening Weekend | SF</a></span>\\n<div class=\"meta archive-meta\">Saturday, June 25 \\x96 2:15 pm | \\n\\n\\n<span class=\"cost\">Cost: FREE</span> | <span>Yerba Buena Gardens (Main)</span> </div>\\n<div class=\"thumbnail-wrapper\"><a href=\"http://sf.funcheap.com/free-summer-circus-day-circus-bella-opening-weekend-sf-2/\" rel=\"bookmark\" title=\"Free Summer Circus Day with Circus Bella: Opening Weekend | SF\"><img alt=\"Free Summer Circus Day with Circus Bella: Opening Weekend | SF\" class=\"left\" src=\"http://cdn.funcheap.com/wp-content/uploads/2013/07/168928_10150136694056352_1585830_n1-175x130.jpg\"/></a></div><p>Circus Bella is a full-force, non-stop 60-minute kaleidoscope of thrilling feats of balance and strength, elegance demonstrations of grace and poise, and outrageous humor of slapstick antics. The circus showcases static trapeze, rope walking, a 9-person juggling act, contortion, hula hoop, original clowning and more. ...</p></div>\\n</div>"
      ]
     },
     "execution_count": 19,
     "metadata": {},
     "output_type": "execute_result"
    }
   ],
   "source": [
    "good_clear_float = title.next_sibling.next_sibling\n",
    "\n",
    "good_clear_float"
   ]
  },
  {
   "cell_type": "code",
   "execution_count": 20,
   "metadata": {
    "collapsed": false
   },
   "outputs": [],
   "source": [
    "urls = []\n",
    "for tag in good_clear_float.find_all('a', rel=True):\n",
    "    href = tag.attrs['href']\n",
    "    urls.append(href)"
   ]
  },
  {
   "cell_type": "code",
   "execution_count": 21,
   "metadata": {
    "collapsed": false
   },
   "outputs": [
    {
     "data": {
      "text/plain": [
       "[u'http://sf.funcheap.com/set-prides-pink-triangle-twin-peaks/',\n",
       " u'http://sf.funcheap.com/set-prides-pink-triangle-twin-peaks/',\n",
       " u'http://sf.funcheap.com/1-flip-flop-day-navy/',\n",
       " u'http://sf.funcheap.com/1-flip-flop-day-navy/',\n",
       " u'http://sf.funcheap.com/summer-free-yoga-series-santana-row/',\n",
       " u'http://sf.funcheap.com/summer-free-yoga-series-santana-row/',\n",
       " u'http://sf.funcheap.com/pro-beach-volleyball-tournament-avp-san-francisco-open-piers-3032-3/',\n",
       " u'http://sf.funcheap.com/pro-beach-volleyball-tournament-avp-san-francisco-open-piers-3032-3/',\n",
       " u'http://sf.funcheap.com/environmental-candlestick-point-nature-hike/',\n",
       " u'http://sf.funcheap.com/surf-city-classic-woodies-wharf-santa-cruz/',\n",
       " u'http://sf.funcheap.com/surf-city-classic-woodies-wharf-santa-cruz/',\n",
       " u'http://sf.funcheap.com/dyke-march-playground-brunch-dolores-park/',\n",
       " u'http://sf.funcheap.com/nor-cal-corgi-con-summer/',\n",
       " u'http://sf.funcheap.com/nor-cal-corgi-con-summer/',\n",
       " u'http://sf.funcheap.com/history-san-francisco-pride-photo-exhibit-fabulous-celebration-sf/',\n",
       " u'http://sf.funcheap.com/history-san-francisco-pride-photo-exhibit-fabulous-celebration-sf/',\n",
       " u'http://sf.funcheap.com/treasure-island-flea-epic-beard-competition-circus-sf/',\n",
       " u'http://sf.funcheap.com/treasure-island-flea-epic-beard-competition-circus-sf/',\n",
       " u'http://sf.funcheap.com/international-parkour-jam-urban-ninja-festival-berkeley-1/',\n",
       " u'http://sf.funcheap.com/international-parkour-jam-urban-ninja-festival-berkeley-1/',\n",
       " u'http://sf.funcheap.com/free-oakland-summer-walking-tours-oakland-15/',\n",
       " u'http://sf.funcheap.com/delta-board-kiteboarding-event/',\n",
       " u'http://sf.funcheap.com/delta-board-kiteboarding-event/',\n",
       " u'http://sf.funcheap.com/photography-meetup-tips-about-photography-sf-8/',\n",
       " u'http://sf.funcheap.com/san-franciscos-birthday-celebration-presidio/',\n",
       " u'http://sf.funcheap.com/san-franciscos-birthday-celebration-presidio/',\n",
       " u'http://sf.funcheap.com/lgbtq-family-storytime-oakland/',\n",
       " u'http://sf.funcheap.com/spark-food-truck-park-grand-opening-fire-pits-champagne-smores-mission-bay/',\n",
       " u'http://sf.funcheap.com/spark-food-truck-park-grand-opening-fire-pits-champagne-smores-mission-bay/',\n",
       " u'http://sf.funcheap.com/latino-culture-festival-aztec-dancing-capoeira-folklorico-oakland/',\n",
       " u'http://sf.funcheap.com/latino-culture-festival-aztec-dancing-capoeira-folklorico-oakland/',\n",
       " u'http://sf.funcheap.com/125th-birthday-party-blast-1890s-carnival-live-music-movies-oakland/',\n",
       " u'http://sf.funcheap.com/125th-birthday-party-blast-1890s-carnival-live-music-movies-oakland/',\n",
       " u'http://sf.funcheap.com/pink-mammoth-summertime-block-party-sf/',\n",
       " u'http://sf.funcheap.com/lyrical-workshop-emerge-with-better-songs-sf/',\n",
       " u'http://sf.funcheap.com/san-anselmo-art-wine-festival-sampling-pass/',\n",
       " u'http://sf.funcheap.com/free-seasonal-cooking-demo-tasting-ferry-plaza-farmers-market-38/',\n",
       " u'http://sf.funcheap.com/sf-dyke-march-womens-pride-dolores-park/',\n",
       " u'http://sf.funcheap.com/sf-dyke-march-womens-pride-dolores-park/',\n",
       " u'http://sf.funcheap.com/le-cirque-de-bohme-1920s-oldstyle-circus-treasure-island/',\n",
       " u'http://sf.funcheap.com/live-art-pride-party-support-local-arts/',\n",
       " u'http://sf.funcheap.com/live-art-pride-party-support-local-arts/',\n",
       " u'http://sf.funcheap.com/taste-mendocino-wine-party-fort-mason/',\n",
       " u'http://sf.funcheap.com/hood-2016-sf/',\n",
       " u'http://sf.funcheap.com/unity-documentary-screening-sf/',\n",
       " u'http://sf.funcheap.com/free-summer-circus-day-circus-bella-opening-weekend-sf-2/',\n",
       " u'http://sf.funcheap.com/free-summer-circus-day-circus-bella-opening-weekend-sf-2/']"
      ]
     },
     "execution_count": 21,
     "metadata": {},
     "output_type": "execute_result"
    }
   ],
   "source": [
    "urls"
   ]
  },
  {
   "cell_type": "markdown",
   "metadata": {},
   "source": [
    "### Very cool resource for learning about CSS selectors: http://flukeout.github.io/"
   ]
  },
  {
   "cell_type": "markdown",
   "metadata": {},
   "source": [
    "As you go through a web site you should build up a dictionary for the documents that you want to store in Mongo. In the example above we may, for each post url, create a dictionary with the information:\n",
    "```python\n",
    "    { url: url_of_event,\n",
    "      date: date_event,\n",
    "      cost: cost_of_event }\n",
    "```\n",
    "\n",
    "We can then insert these dictionaries into a Mongo database via PyMongo, which we will learn about next."
   ]
  },
  {
   "cell_type": "markdown",
   "metadata": {},
   "source": [
    "# Scraping from an Existing API\n",
    "\n",
    "Let's take a look at the API for all the publically available policing data in the [UK](https://data.police.uk/docs/). After taking a look at the documentation for the interface, let's experiment with what we get when we issue a request to this API. The process looks remarkable similar to the one we went through for scraping a web page, except this time the response we're looking for is available via the `json()` method."
   ]
  },
  {
   "cell_type": "code",
   "execution_count": 22,
   "metadata": {
    "collapsed": false,
    "scrolled": false
   },
   "outputs": [
    {
     "data": {
      "text/plain": [
       "[{u'category': u'anti-social-behaviour',\n",
       "  u'context': u'',\n",
       "  u'id': 20605700,\n",
       "  u'location': {u'latitude': u'52.624477',\n",
       "   u'longitude': u'-1.112399',\n",
       "   u'street': {u'id': 882437, u'name': u'On or near Mundella Street'}},\n",
       "  u'location_subtype': u'',\n",
       "  u'location_type': u'Force',\n",
       "  u'month': u'2013-01',\n",
       "  u'outcome_status': None,\n",
       "  u'persistent_id': u''},\n",
       " {u'category': u'anti-social-behaviour',\n",
       "  u'context': u'',\n",
       "  u'id': 20605689,\n",
       "  u'location': {u'latitude': u'52.629264',\n",
       "   u'longitude': u'-1.154764',\n",
       "   u'street': {u'id': 883534, u'name': u'On or near Westcotes Drive'}},\n",
       "  u'location_subtype': u'',\n",
       "  u'location_type': u'Force',\n",
       "  u'month': u'2013-01',\n",
       "  u'outcome_status': None,\n",
       "  u'persistent_id': u''}]"
      ]
     },
     "execution_count": 22,
     "metadata": {},
     "output_type": "execute_result"
    }
   ],
   "source": [
    "r = requests.get('https://data.police.uk/api/crimes-street/all-crime?lat=52.629729&lng=-1.131592&date=2013-01')\n",
    "r.json()[:2]"
   ]
  },
  {
   "cell_type": "code",
   "execution_count": 23,
   "metadata": {
    "collapsed": true
   },
   "outputs": [],
   "source": [
    "crime_stuff = r.json()"
   ]
  },
  {
   "cell_type": "markdown",
   "metadata": {},
   "source": [
    "## API Scraping and Mongo\n",
    "\n",
    "Many APIs will give you a choice of how it will return data to you, choosing json will make life easier since we will frequently be using Mongo for our storage unit during our scraping endeavors, and it plays very well with json. \n",
    "\n",
    "Interacting with Mongo from Python is done with the other Mongo client that we talked about earlier PyMongo. It is designed to have a similar interface as the Mongo shell does, this ends up being fairly intuitive since both Python and JavaScript are object oriented languages, and therefore store and refer to things in a similar manner."
   ]
  },
  {
   "cell_type": "code",
   "execution_count": 24,
   "metadata": {
    "collapsed": true
   },
   "outputs": [],
   "source": [
    "from pymongo import MongoClient\n",
    "\n",
    "client = MongoClient()\n",
    "db = client.uk_police\n",
    "collection = db.all_crime"
   ]
  },
  {
   "cell_type": "code",
   "execution_count": 25,
   "metadata": {
    "collapsed": false
   },
   "outputs": [],
   "source": [
    "other_request = requests.get('https://data.police.uk/api/crimes-no-location?category=all-crime&force=warwickshire&date=2013-09')"
   ]
  },
  {
   "cell_type": "code",
   "execution_count": 26,
   "metadata": {
    "collapsed": false,
    "scrolled": true
   },
   "outputs": [
    {
     "data": {
      "text/plain": [
       "[{u'category': u'burglary',\n",
       "  u'context': u'',\n",
       "  u'id': 26993975,\n",
       "  u'location': None,\n",
       "  u'location_subtype': u'',\n",
       "  u'location_type': None,\n",
       "  u'month': u'2013-09',\n",
       "  u'outcome_status': {u'category': u'Investigation complete; no suspect identified',\n",
       "   u'date': u'2013-10'},\n",
       "  u'persistent_id': u'601d1a058fb87207bfea500802ad9043fc9629fae479d0a9c3d2abd5b1bbe14d'},\n",
       " {u'category': u'burglary',\n",
       "  u'context': u'',\n",
       "  u'id': 26994099,\n",
       "  u'location': None,\n",
       "  u'location_subtype': u'',\n",
       "  u'location_type': None,\n",
       "  u'month': u'2013-09',\n",
       "  u'outcome_status': {u'category': u'Investigation complete; no suspect identified',\n",
       "   u'date': u'2013-10'},\n",
       "  u'persistent_id': u'34990376c7cb84ede03c06f3dda76cda7fd63cdaa9f2179213d9aa2d53b9d9e6'}]"
      ]
     },
     "execution_count": 26,
     "metadata": {},
     "output_type": "execute_result"
    }
   ],
   "source": [
    "other_request.json()[:2]"
   ]
  },
  {
   "cell_type": "code",
   "execution_count": 27,
   "metadata": {
    "collapsed": false,
    "scrolled": false
   },
   "outputs": [
    {
     "name": "stdout",
     "output_type": "stream",
     "text": [
      "Scraping year/month: 2013/1\n",
      "Scraping year/month: 2013/2\n",
      "Scraping year/month: 2013/3\n",
      "Scraping year/month: 2013/4\n",
      "Scraping year/month: 2013/5\n",
      "Scraping year/month: 2013/6\n",
      "Scraping year/month: 2013/7\n",
      "Scraping year/month: 2013/8\n",
      "Scraping year/month: 2013/9\n",
      "Scraping year/month: 2013/10\n",
      "Scraping year/month: 2013/11\n",
      "Scraping year/month: 2013/12\n"
     ]
    }
   ],
   "source": [
    "# Possible way to grab data for range of months and years\n",
    "for year in range(2013, 2014):\n",
    "    for month in range(1, 13):\n",
    "        print 'Scraping year/month: {}/{}'.format(year, month)\n",
    "        r = requests.get('https://data.police.uk/api/crimes-no-location?category=all-crime&force=warwickshire&date={}-{}'.format(year, month))\n",
    "        collection.insert_many(r.json())"
   ]
  },
  {
   "cell_type": "code",
   "execution_count": 28,
   "metadata": {
    "collapsed": false
   },
   "outputs": [
    {
     "data": {
      "text/plain": [
       "<pymongo.results.InsertManyResult at 0x107c4f280>"
      ]
     },
     "execution_count": 28,
     "metadata": {},
     "output_type": "execute_result"
    }
   ],
   "source": [
    "collection.insert_many(other_request.json())"
   ]
  },
  {
   "cell_type": "code",
   "execution_count": 29,
   "metadata": {
    "collapsed": false
   },
   "outputs": [
    {
     "name": "stdout",
     "output_type": "stream",
     "text": [
      "{u'_id': ObjectId('589e0e160310e901de42e783'),\n",
      " u'category': u'public-order',\n",
      " u'context': u'',\n",
      " u'id': 24587102,\n",
      " u'location': None,\n",
      " u'location_subtype': u'',\n",
      " u'location_type': None,\n",
      " u'month': u'2013-06',\n",
      " u'outcome_status': {u'category': u'Court result unavailable',\n",
      "                     u'date': u'2014-04'},\n",
      " u'persistent_id': u'0842db58ea7e0298d7528aa18d103f3b34e249435ba4c1c7feffd65da5f4b8d9'}\n",
      "{u'_id': ObjectId('589e0e170310e901de42e78b'),\n",
      " u'category': u'public-order',\n",
      " u'context': u'',\n",
      " u'id': 25758751,\n",
      " u'location': None,\n",
      " u'location_subtype': u'',\n",
      " u'location_type': None,\n",
      " u'month': u'2013-07',\n",
      " u'outcome_status': {u'category': u'Under investigation', u'date': u'2013-07'},\n",
      " u'persistent_id': u'a7d07d4cd6ba0f4a886ba12d0ff48a43b43039535eaa6a5b13569f1936cda98e'}\n",
      "{u'_id': ObjectId('589e0e190310e901de42e7a0'),\n",
      " u'category': u'public-order',\n",
      " u'context': u'',\n",
      " u'id': 26992793,\n",
      " u'location': None,\n",
      " u'location_subtype': u'',\n",
      " u'location_type': None,\n",
      " u'month': u'2013-09',\n",
      " u'outcome_status': {u'category': u'Court result unavailable',\n",
      "                     u'date': u'2014-03'},\n",
      " u'persistent_id': u'a12b6ddf39326c40ebdd1aac950e19d8fb8ef6e65e229bd3fd2f22b9b6a33814'}\n",
      "{u'_id': ObjectId('589e0e190310e901de42e7a1'),\n",
      " u'category': u'public-order',\n",
      " u'context': u'',\n",
      " u'id': 26992794,\n",
      " u'location': None,\n",
      " u'location_subtype': u'',\n",
      " u'location_type': None,\n",
      " u'month': u'2013-09',\n",
      " u'outcome_status': {u'category': u'Offender given community sentence',\n",
      "                     u'date': u'2013-10'},\n",
      " u'persistent_id': u'151f3b3eea51a8f6c850bbdb7e942845b2d31cc2782efb0e761e0abff633e045'}\n",
      "{u'_id': ObjectId('589e0e6a0310e901de42e814'),\n",
      " u'category': u'public-order',\n",
      " u'context': u'',\n",
      " u'id': 24587102,\n",
      " u'location': None,\n",
      " u'location_subtype': u'',\n",
      " u'location_type': None,\n",
      " u'month': u'2013-06',\n",
      " u'outcome_status': {u'category': u'Court result unavailable',\n",
      "                     u'date': u'2014-04'},\n",
      " u'persistent_id': u'0842db58ea7e0298d7528aa18d103f3b34e249435ba4c1c7feffd65da5f4b8d9'}\n",
      "{u'_id': ObjectId('589e0e6b0310e901de42e81c'),\n",
      " u'category': u'public-order',\n",
      " u'context': u'',\n",
      " u'id': 25758751,\n",
      " u'location': None,\n",
      " u'location_subtype': u'',\n",
      " u'location_type': None,\n",
      " u'month': u'2013-07',\n",
      " u'outcome_status': {u'category': u'Under investigation', u'date': u'2013-07'},\n",
      " u'persistent_id': u'a7d07d4cd6ba0f4a886ba12d0ff48a43b43039535eaa6a5b13569f1936cda98e'}\n",
      "{u'_id': ObjectId('589e0e6c0310e901de42e831'),\n",
      " u'category': u'public-order',\n",
      " u'context': u'',\n",
      " u'id': 26992793,\n",
      " u'location': None,\n",
      " u'location_subtype': u'',\n",
      " u'location_type': None,\n",
      " u'month': u'2013-09',\n",
      " u'outcome_status': {u'category': u'Court result unavailable',\n",
      "                     u'date': u'2014-03'},\n",
      " u'persistent_id': u'a12b6ddf39326c40ebdd1aac950e19d8fb8ef6e65e229bd3fd2f22b9b6a33814'}\n",
      "{u'_id': ObjectId('589e0e6c0310e901de42e832'),\n",
      " u'category': u'public-order',\n",
      " u'context': u'',\n",
      " u'id': 26992794,\n",
      " u'location': None,\n",
      " u'location_subtype': u'',\n",
      " u'location_type': None,\n",
      " u'month': u'2013-09',\n",
      " u'outcome_status': {u'category': u'Offender given community sentence',\n",
      "                     u'date': u'2013-10'},\n",
      " u'persistent_id': u'151f3b3eea51a8f6c850bbdb7e942845b2d31cc2782efb0e761e0abff633e045'}\n",
      "{u'_id': ObjectId('589e0ebe0310e901de42e8a5'),\n",
      " u'category': u'public-order',\n",
      " u'context': u'',\n",
      " u'id': 24587102,\n",
      " u'location': None,\n",
      " u'location_subtype': u'',\n",
      " u'location_type': None,\n",
      " u'month': u'2013-06',\n",
      " u'outcome_status': {u'category': u'Court result unavailable',\n",
      "                     u'date': u'2014-04'},\n",
      " u'persistent_id': u'0842db58ea7e0298d7528aa18d103f3b34e249435ba4c1c7feffd65da5f4b8d9'}\n",
      "{u'_id': ObjectId('589e0ebf0310e901de42e8ad'),\n",
      " u'category': u'public-order',\n",
      " u'context': u'',\n",
      " u'id': 25758751,\n",
      " u'location': None,\n",
      " u'location_subtype': u'',\n",
      " u'location_type': None,\n",
      " u'month': u'2013-07',\n",
      " u'outcome_status': {u'category': u'Under investigation', u'date': u'2013-07'},\n",
      " u'persistent_id': u'a7d07d4cd6ba0f4a886ba12d0ff48a43b43039535eaa6a5b13569f1936cda98e'}\n",
      "{u'_id': ObjectId('589e0ec00310e901de42e8c2'),\n",
      " u'category': u'public-order',\n",
      " u'context': u'',\n",
      " u'id': 26992793,\n",
      " u'location': None,\n",
      " u'location_subtype': u'',\n",
      " u'location_type': None,\n",
      " u'month': u'2013-09',\n",
      " u'outcome_status': {u'category': u'Court result unavailable',\n",
      "                     u'date': u'2014-03'},\n",
      " u'persistent_id': u'a12b6ddf39326c40ebdd1aac950e19d8fb8ef6e65e229bd3fd2f22b9b6a33814'}\n",
      "{u'_id': ObjectId('589e0ec00310e901de42e8c3'),\n",
      " u'category': u'public-order',\n",
      " u'context': u'',\n",
      " u'id': 26992794,\n",
      " u'location': None,\n",
      " u'location_subtype': u'',\n",
      " u'location_type': None,\n",
      " u'month': u'2013-09',\n",
      " u'outcome_status': {u'category': u'Offender given community sentence',\n",
      "                     u'date': u'2013-10'},\n",
      " u'persistent_id': u'151f3b3eea51a8f6c850bbdb7e942845b2d31cc2782efb0e761e0abff633e045'}\n",
      "{u'_id': ObjectId('589e0eef0310e901de42e936'),\n",
      " u'category': u'public-order',\n",
      " u'context': u'',\n",
      " u'id': 24587102,\n",
      " u'location': None,\n",
      " u'location_subtype': u'',\n",
      " u'location_type': None,\n",
      " u'month': u'2013-06',\n",
      " u'outcome_status': {u'category': u'Court result unavailable',\n",
      "                     u'date': u'2014-04'},\n",
      " u'persistent_id': u'0842db58ea7e0298d7528aa18d103f3b34e249435ba4c1c7feffd65da5f4b8d9'}\n",
      "{u'_id': ObjectId('589e0eef0310e901de42e93e'),\n",
      " u'category': u'public-order',\n",
      " u'context': u'',\n",
      " u'id': 25758751,\n",
      " u'location': None,\n",
      " u'location_subtype': u'',\n",
      " u'location_type': None,\n",
      " u'month': u'2013-07',\n",
      " u'outcome_status': {u'category': u'Under investigation', u'date': u'2013-07'},\n",
      " u'persistent_id': u'a7d07d4cd6ba0f4a886ba12d0ff48a43b43039535eaa6a5b13569f1936cda98e'}\n",
      "{u'_id': ObjectId('589e0ef10310e901de42e953'),\n",
      " u'category': u'public-order',\n",
      " u'context': u'',\n",
      " u'id': 26992793,\n",
      " u'location': None,\n",
      " u'location_subtype': u'',\n",
      " u'location_type': None,\n",
      " u'month': u'2013-09',\n",
      " u'outcome_status': {u'category': u'Court result unavailable',\n",
      "                     u'date': u'2014-03'},\n",
      " u'persistent_id': u'a12b6ddf39326c40ebdd1aac950e19d8fb8ef6e65e229bd3fd2f22b9b6a33814'}\n",
      "{u'_id': ObjectId('589e0ef10310e901de42e954'),\n",
      " u'category': u'public-order',\n",
      " u'context': u'',\n",
      " u'id': 26992794,\n",
      " u'location': None,\n",
      " u'location_subtype': u'',\n",
      " u'location_type': None,\n",
      " u'month': u'2013-09',\n",
      " u'outcome_status': {u'category': u'Offender given community sentence',\n",
      "                     u'date': u'2013-10'},\n",
      " u'persistent_id': u'151f3b3eea51a8f6c850bbdb7e942845b2d31cc2782efb0e761e0abff633e045'}\n",
      "{u'_id': ObjectId('589e0ef50310e901de42e971'),\n",
      " u'category': u'public-order',\n",
      " u'context': u'',\n",
      " u'id': 26992793,\n",
      " u'location': None,\n",
      " u'location_subtype': u'',\n",
      " u'location_type': None,\n",
      " u'month': u'2013-09',\n",
      " u'outcome_status': {u'category': u'Court result unavailable',\n",
      "                     u'date': u'2014-03'},\n",
      " u'persistent_id': u'a12b6ddf39326c40ebdd1aac950e19d8fb8ef6e65e229bd3fd2f22b9b6a33814'}\n",
      "{u'_id': ObjectId('589e0ef50310e901de42e972'),\n",
      " u'category': u'public-order',\n",
      " u'context': u'',\n",
      " u'id': 26992794,\n",
      " u'location': None,\n",
      " u'location_subtype': u'',\n",
      " u'location_type': None,\n",
      " u'month': u'2013-09',\n",
      " u'outcome_status': {u'category': u'Offender given community sentence',\n",
      "                     u'date': u'2013-10'},\n",
      " u'persistent_id': u'151f3b3eea51a8f6c850bbdb7e942845b2d31cc2782efb0e761e0abff633e045'}\n",
      "{u'_id': ObjectId('589e0f110310e90781d19e55'),\n",
      " u'category': u'public-order',\n",
      " u'context': u'',\n",
      " u'id': 24587102,\n",
      " u'location': None,\n",
      " u'location_subtype': u'',\n",
      " u'location_type': None,\n",
      " u'month': u'2013-06',\n",
      " u'outcome_status': {u'category': u'Court result unavailable',\n",
      "                     u'date': u'2014-04'},\n",
      " u'persistent_id': u'0842db58ea7e0298d7528aa18d103f3b34e249435ba4c1c7feffd65da5f4b8d9'}\n",
      "{u'_id': ObjectId('589e0f120310e90781d19e5d'),\n",
      " u'category': u'public-order',\n",
      " u'context': u'',\n",
      " u'id': 25758751,\n",
      " u'location': None,\n",
      " u'location_subtype': u'',\n",
      " u'location_type': None,\n",
      " u'month': u'2013-07',\n",
      " u'outcome_status': {u'category': u'Under investigation', u'date': u'2013-07'},\n",
      " u'persistent_id': u'a7d07d4cd6ba0f4a886ba12d0ff48a43b43039535eaa6a5b13569f1936cda98e'}\n",
      "{u'_id': ObjectId('589e0f130310e90781d19e72'),\n",
      " u'category': u'public-order',\n",
      " u'context': u'',\n",
      " u'id': 26992793,\n",
      " u'location': None,\n",
      " u'location_subtype': u'',\n",
      " u'location_type': None,\n",
      " u'month': u'2013-09',\n",
      " u'outcome_status': {u'category': u'Court result unavailable',\n",
      "                     u'date': u'2014-03'},\n",
      " u'persistent_id': u'a12b6ddf39326c40ebdd1aac950e19d8fb8ef6e65e229bd3fd2f22b9b6a33814'}\n",
      "{u'_id': ObjectId('589e0f130310e90781d19e73'),\n",
      " u'category': u'public-order',\n",
      " u'context': u'',\n",
      " u'id': 26992794,\n",
      " u'location': None,\n",
      " u'location_subtype': u'',\n",
      " u'location_type': None,\n",
      " u'month': u'2013-09',\n",
      " u'outcome_status': {u'category': u'Offender given community sentence',\n",
      "                     u'date': u'2013-10'},\n",
      " u'persistent_id': u'151f3b3eea51a8f6c850bbdb7e942845b2d31cc2782efb0e761e0abff633e045'}\n",
      "{u'_id': ObjectId('589e0f150310e90781d19e90'),\n",
      " u'category': u'public-order',\n",
      " u'context': u'',\n",
      " u'id': 26992793,\n",
      " u'location': None,\n",
      " u'location_subtype': u'',\n",
      " u'location_type': None,\n",
      " u'month': u'2013-09',\n",
      " u'outcome_status': {u'category': u'Court result unavailable',\n",
      "                     u'date': u'2014-03'},\n",
      " u'persistent_id': u'a12b6ddf39326c40ebdd1aac950e19d8fb8ef6e65e229bd3fd2f22b9b6a33814'}\n",
      "{u'_id': ObjectId('589e0f150310e90781d19e91'),\n",
      " u'category': u'public-order',\n",
      " u'context': u'',\n",
      " u'id': 26992794,\n",
      " u'location': None,\n",
      " u'location_subtype': u'',\n",
      " u'location_type': None,\n",
      " u'month': u'2013-09',\n",
      " u'outcome_status': {u'category': u'Offender given community sentence',\n",
      "                     u'date': u'2013-10'},\n",
      " u'persistent_id': u'151f3b3eea51a8f6c850bbdb7e942845b2d31cc2782efb0e761e0abff633e045'}\n",
      "{u'_id': ObjectId('589e10d40310e90806143a4d'),\n",
      " u'category': u'public-order',\n",
      " u'context': u'',\n",
      " u'id': 24587102,\n",
      " u'location': None,\n",
      " u'location_subtype': u'',\n",
      " u'location_type': None,\n",
      " u'month': u'2013-06',\n",
      " u'outcome_status': {u'category': u'Court result unavailable',\n",
      "                     u'date': u'2014-04'},\n",
      " u'persistent_id': u'0842db58ea7e0298d7528aa18d103f3b34e249435ba4c1c7feffd65da5f4b8d9'}\n",
      "{u'_id': ObjectId('589e10d50310e90806143a55'),\n",
      " u'category': u'public-order',\n",
      " u'context': u'',\n",
      " u'id': 25758751,\n",
      " u'location': None,\n",
      " u'location_subtype': u'',\n",
      " u'location_type': None,\n",
      " u'month': u'2013-07',\n",
      " u'outcome_status': {u'category': u'Under investigation', u'date': u'2013-07'},\n",
      " u'persistent_id': u'a7d07d4cd6ba0f4a886ba12d0ff48a43b43039535eaa6a5b13569f1936cda98e'}\n",
      "{u'_id': ObjectId('589e10d60310e90806143a6a'),\n",
      " u'category': u'public-order',\n",
      " u'context': u'',\n",
      " u'id': 26992793,\n",
      " u'location': None,\n",
      " u'location_subtype': u'',\n",
      " u'location_type': None,\n",
      " u'month': u'2013-09',\n",
      " u'outcome_status': {u'category': u'Court result unavailable',\n",
      "                     u'date': u'2014-03'},\n",
      " u'persistent_id': u'a12b6ddf39326c40ebdd1aac950e19d8fb8ef6e65e229bd3fd2f22b9b6a33814'}\n",
      "{u'_id': ObjectId('589e10d60310e90806143a6b'),\n",
      " u'category': u'public-order',\n",
      " u'context': u'',\n",
      " u'id': 26992794,\n",
      " u'location': None,\n",
      " u'location_subtype': u'',\n",
      " u'location_type': None,\n",
      " u'month': u'2013-09',\n",
      " u'outcome_status': {u'category': u'Offender given community sentence',\n",
      "                     u'date': u'2013-10'},\n",
      " u'persistent_id': u'151f3b3eea51a8f6c850bbdb7e942845b2d31cc2782efb0e761e0abff633e045'}\n",
      "{u'_id': ObjectId('589e10d80310e90806143a88'),\n",
      " u'category': u'public-order',\n",
      " u'context': u'',\n",
      " u'id': 26992793,\n",
      " u'location': None,\n",
      " u'location_subtype': u'',\n",
      " u'location_type': None,\n",
      " u'month': u'2013-09',\n",
      " u'outcome_status': {u'category': u'Court result unavailable',\n",
      "                     u'date': u'2014-03'},\n",
      " u'persistent_id': u'a12b6ddf39326c40ebdd1aac950e19d8fb8ef6e65e229bd3fd2f22b9b6a33814'}\n",
      "{u'_id': ObjectId('589e10d80310e90806143a89'),\n",
      " u'category': u'public-order',\n",
      " u'context': u'',\n",
      " u'id': 26992794,\n",
      " u'location': None,\n",
      " u'location_subtype': u'',\n",
      " u'location_type': None,\n",
      " u'month': u'2013-09',\n",
      " u'outcome_status': {u'category': u'Offender given community sentence',\n",
      "                     u'date': u'2013-10'},\n",
      " u'persistent_id': u'151f3b3eea51a8f6c850bbdb7e942845b2d31cc2782efb0e761e0abff633e045'}\n",
      "{u'_id': ObjectId('589e10fe0310e90814fb4655'),\n",
      " u'category': u'public-order',\n",
      " u'context': u'',\n",
      " u'id': 24587102,\n",
      " u'location': None,\n",
      " u'location_subtype': u'',\n",
      " u'location_type': None,\n",
      " u'month': u'2013-06',\n",
      " u'outcome_status': {u'category': u'Court result unavailable',\n",
      "                     u'date': u'2014-04'},\n",
      " u'persistent_id': u'0842db58ea7e0298d7528aa18d103f3b34e249435ba4c1c7feffd65da5f4b8d9'}\n",
      "{u'_id': ObjectId('589e10ff0310e90814fb465d'),\n",
      " u'category': u'public-order',\n",
      " u'context': u'',\n",
      " u'id': 25758751,\n",
      " u'location': None,\n",
      " u'location_subtype': u'',\n",
      " u'location_type': None,\n",
      " u'month': u'2013-07',\n",
      " u'outcome_status': {u'category': u'Under investigation', u'date': u'2013-07'},\n",
      " u'persistent_id': u'a7d07d4cd6ba0f4a886ba12d0ff48a43b43039535eaa6a5b13569f1936cda98e'}\n",
      "{u'_id': ObjectId('589e11000310e90814fb4672'),\n",
      " u'category': u'public-order',\n",
      " u'context': u'',\n",
      " u'id': 26992793,\n",
      " u'location': None,\n",
      " u'location_subtype': u'',\n",
      " u'location_type': None,\n",
      " u'month': u'2013-09',\n",
      " u'outcome_status': {u'category': u'Court result unavailable',\n",
      "                     u'date': u'2014-03'},\n",
      " u'persistent_id': u'a12b6ddf39326c40ebdd1aac950e19d8fb8ef6e65e229bd3fd2f22b9b6a33814'}\n",
      "{u'_id': ObjectId('589e11000310e90814fb4673'),\n",
      " u'category': u'public-order',\n",
      " u'context': u'',\n",
      " u'id': 26992794,\n",
      " u'location': None,\n",
      " u'location_subtype': u'',\n",
      " u'location_type': None,\n",
      " u'month': u'2013-09',\n",
      " u'outcome_status': {u'category': u'Offender given community sentence',\n",
      "                     u'date': u'2013-10'},\n",
      " u'persistent_id': u'151f3b3eea51a8f6c850bbdb7e942845b2d31cc2782efb0e761e0abff633e045'}\n",
      "{u'_id': ObjectId('589e11020310e90814fb4690'),\n",
      " u'category': u'public-order',\n",
      " u'context': u'',\n",
      " u'id': 26992793,\n",
      " u'location': None,\n",
      " u'location_subtype': u'',\n",
      " u'location_type': None,\n",
      " u'month': u'2013-09',\n",
      " u'outcome_status': {u'category': u'Court result unavailable',\n",
      "                     u'date': u'2014-03'},\n",
      " u'persistent_id': u'a12b6ddf39326c40ebdd1aac950e19d8fb8ef6e65e229bd3fd2f22b9b6a33814'}\n",
      "{u'_id': ObjectId('589e11020310e90814fb4691'),\n",
      " u'category': u'public-order',\n",
      " u'context': u'',\n",
      " u'id': 26992794,\n",
      " u'location': None,\n",
      " u'location_subtype': u'',\n",
      " u'location_type': None,\n",
      " u'month': u'2013-09',\n",
      " u'outcome_status': {u'category': u'Offender given community sentence',\n",
      "                     u'date': u'2013-10'},\n",
      " u'persistent_id': u'151f3b3eea51a8f6c850bbdb7e942845b2d31cc2782efb0e761e0abff633e045'}\n",
      "{u'_id': ObjectId('58a21bd90310e9219c36adae'),\n",
      " u'category': u'public-order',\n",
      " u'context': u'',\n",
      " u'id': 24587102,\n",
      " u'location': None,\n",
      " u'location_subtype': u'',\n",
      " u'location_type': None,\n",
      " u'month': u'2013-06',\n",
      " u'outcome_status': {u'category': u'Court result unavailable',\n",
      "                     u'date': u'2014-04'},\n",
      " u'persistent_id': u'0842db58ea7e0298d7528aa18d103f3b34e249435ba4c1c7feffd65da5f4b8d9'}\n",
      "{u'_id': ObjectId('58a21bda0310e9219c36adb6'),\n",
      " u'category': u'public-order',\n",
      " u'context': u'',\n",
      " u'id': 25758751,\n",
      " u'location': None,\n",
      " u'location_subtype': u'',\n",
      " u'location_type': None,\n",
      " u'month': u'2013-07',\n",
      " u'outcome_status': {u'category': u'Under investigation', u'date': u'2013-07'},\n",
      " u'persistent_id': u'a7d07d4cd6ba0f4a886ba12d0ff48a43b43039535eaa6a5b13569f1936cda98e'}\n",
      "{u'_id': ObjectId('58a21bdc0310e9219c36adcb'),\n",
      " u'category': u'public-order',\n",
      " u'context': u'',\n",
      " u'id': 26992793,\n",
      " u'location': None,\n",
      " u'location_subtype': u'',\n",
      " u'location_type': None,\n",
      " u'month': u'2013-09',\n",
      " u'outcome_status': {u'category': u'Court result unavailable',\n",
      "                     u'date': u'2014-03'},\n",
      " u'persistent_id': u'a12b6ddf39326c40ebdd1aac950e19d8fb8ef6e65e229bd3fd2f22b9b6a33814'}\n",
      "{u'_id': ObjectId('58a21bdc0310e9219c36adcc'),\n",
      " u'category': u'public-order',\n",
      " u'context': u'',\n",
      " u'id': 26992794,\n",
      " u'location': None,\n",
      " u'location_subtype': u'',\n",
      " u'location_type': None,\n",
      " u'month': u'2013-09',\n",
      " u'outcome_status': {u'category': u'Offender given community sentence',\n",
      "                     u'date': u'2013-10'},\n",
      " u'persistent_id': u'151f3b3eea51a8f6c850bbdb7e942845b2d31cc2782efb0e761e0abff633e045'}\n",
      "{u'_id': ObjectId('58a21bdf0310e9219c36ade9'),\n",
      " u'category': u'public-order',\n",
      " u'context': u'',\n",
      " u'id': 26992793,\n",
      " u'location': None,\n",
      " u'location_subtype': u'',\n",
      " u'location_type': None,\n",
      " u'month': u'2013-09',\n",
      " u'outcome_status': {u'category': u'Court result unavailable',\n",
      "                     u'date': u'2014-03'},\n",
      " u'persistent_id': u'a12b6ddf39326c40ebdd1aac950e19d8fb8ef6e65e229bd3fd2f22b9b6a33814'}\n",
      "{u'_id': ObjectId('58a21bdf0310e9219c36adea'),\n",
      " u'category': u'public-order',\n",
      " u'context': u'',\n",
      " u'id': 26992794,\n",
      " u'location': None,\n",
      " u'location_subtype': u'',\n",
      " u'location_type': None,\n",
      " u'month': u'2013-09',\n",
      " u'outcome_status': {u'category': u'Offender given community sentence',\n",
      "                     u'date': u'2013-10'},\n",
      " u'persistent_id': u'151f3b3eea51a8f6c850bbdb7e942845b2d31cc2782efb0e761e0abff633e045'}\n"
     ]
    }
   ],
   "source": [
    "import pprint as pp\n",
    "for item in collection.find({ 'category' : 'public-order' }):\n",
    "    pp.pprint(item)"
   ]
  },
  {
   "cell_type": "code",
   "execution_count": 30,
   "metadata": {
    "collapsed": true
   },
   "outputs": [],
   "source": [
    "# Remember to close the connection\n",
    "client.close()"
   ]
  }
 ],
 "metadata": {
  "anaconda-cloud": {},
  "kernelspec": {
   "display_name": "Python [default]",
   "language": "python",
   "name": "python2"
  },
  "language_info": {
   "codemirror_mode": {
    "name": "ipython",
    "version": 2
   },
   "file_extension": ".py",
   "mimetype": "text/x-python",
   "name": "python",
   "nbconvert_exporter": "python",
   "pygments_lexer": "ipython2",
   "version": "2.7.12"
  }
 },
 "nbformat": 4,
 "nbformat_minor": 0
}
