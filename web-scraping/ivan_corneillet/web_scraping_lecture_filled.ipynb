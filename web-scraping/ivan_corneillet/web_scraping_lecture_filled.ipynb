{
 "cells": [
  {
   "cell_type": "markdown",
   "metadata": {},
   "source": [
    "# Web Scraping\n",
    "\n",
    "## Morning Objectives\n",
    "\n",
    "1. Understand motivation for web scraping:\n",
    "    * What does a web data pipeline look like?\n",
    "    * How should we store data from the web?\n",
    "2. Know high level differences between NoSQL and SQL.\n",
    "3. Perform basic operations using Mongo Shell.\n",
    "\n",
    "<div style=\"text-align: center\"><h3>The Reality of Web Scraping</h3><img src=\"images/scraping_meme.png\" style=\"width: 600px\"></div>\n",
    "\n",
    "## Why do we scrape the web?\n",
    "\n",
    "* Realistically, data that you want to study won't always be available to you in the form of a curated data set.\n",
    "* Need to go to the internets to find interesting data:\n",
    "    * From an existing company\n",
    "    * Text for NLP\n",
    "    * Images\n",
    "\n",
    "<div style=\"text-align: center\"><h3>Web Data Pipeline</h3><img src=\"images/web_data_pipeline.png\" style=\"width: 600px\"></div>\n",
    "\n",
    "## Storing data from the web\n",
    "\n",
    "* We already know how to store data -> SQL (RBDMS).\n",
    "    * Why wouldn't SQL necessarily be the best tool for storing data that we retrieve from the web?\n",
    "        * Data are messy!\n",
    "* Enter No SQL. Stands for **N**ot **o**nly **SQL**. MongoDB is a flavor of NoSQL, like PosgreSQL is a flavor of SQL.\n",
    "    * A NoSQL paradigm may be preferable to SQL because it is schemaless.\n",
    "    * Great for storing unstructured data, as we may find on the web!\n",
    "    * MongoDB is a document-oriented DBMS:\n",
    "\n",
    "<div style=\"text-align: center\"><h3>Centered around \"Documents\"</h3><img src=\"images/document_based_storage.png\" style=\"width: 600px\"></div>\n",
    "\n",
    "## SQL vs. Mongo\n",
    "\n",
    "* SQL - want to prevent redundancy in data by having tables with unique information and relations between them (normalized data).\n",
    "    * Creates a framework for querying with joins.\n",
    "    * Makes it easier to update database. Only ever have to change information in a single place.\n",
    "    * This can result in \"simple\" queries being slower, but more complex queries are often faster.\n",
    "* Mongo - document based storage system. Does not enforce normalized data. Can have data redundancies in documents (denormalized data).\n",
    "    * No joins.\n",
    "    * A change to database generally results in needing to change many documents.\n",
    "    * Since there is redundancy in the documents, simple queries are generally faster. But complex queries are often slower.\n",
    "\n",
    "|         | SQL          | Mongo          |\n",
    "|---------|--------------|----------------|\n",
    "| Schema  | Yes => Joins | No => No Joins |\n",
    "| Storage | Table        | Collection     |\n",
    "|         | Row          | Document       |\n",
    "|         | Column       | Field          |\n",
    "\n",
    "## Connecting to Mongo\n",
    "\n",
    "In practice, there two main ways that you will be connecting with mongo:\n",
    "\n",
    "* From Python\n",
    "* From the console - shell\n",
    "\n",
    "<div style=\"text-align: center\"><img src=\"images/mongo_clients.png\" style=\"width: 600px\"></div>\n",
    "\n",
    "Both of these clients require a Mongo server to be running. In practice this will require you to start a Mongo Daemon process. To do this execute the command `mongod` at the terminal.\n",
    "\n",
    "* Note: The Mongo Daemon will need to occupy the terminal that you started it in for the life of the server session. Read: run `mongod` in a separate terminal tab (or tmux).\n",
    "\n",
    "Now we're going to explore the interacting with the mongo shell. This is not the main way that you'll be interacting with mongo while scraping, we have Python for that. But it's good to know how to issue queries from the shell for various reasons.\n",
    "\n",
    "# Mongo Shell Demo Code\n",
    "\n",
    "## Using Mongo - General Commands for Inspecting Mongo\n",
    "\n",
    "```javascript\n",
    "help                        // List top level mongo commands\n",
    "\n",
    "db.help()                   // List database level mongo commands\n",
    "\n",
    "db.<collection name>.help() // List collection level mongo commands.\n",
    "\n",
    "show dbs                    // Get list of databases on your system\n",
    "\n",
    "use <database name>         // Change the database that you're current using\n",
    "\n",
    "show collections            // Get list of collections within the database that you're currently using\n",
    "```\n",
    "\n",
    "## Inserting\n",
    "\n",
    "Once you're using a database you refer to it with the name **db**. Collections within databases are accessible through dot notation.\n",
    "\n",
    "```javascript\n",
    "db.users.insert({ name: 'Jon', age: '45', friends: [ 'Henry', 'Ashley']})\n",
    "\n",
    "db.getCollectionNames()  // Another way to get the names of collections in current database\n",
    "\n",
    "db.users.insert({ name: 'Ashley', age: '37', friends: [ 'Jon', 'Henry']})\n",
    "db.users.insert({ name: 'Frank', age: '17', friends: [ 'Billy'], car : 'Civic'})\n",
    "\n",
    "db.users.find()\n",
    "\n",
    "    { \"_id\" : ObjectId(\"573a39\"), \"name\" : \"Jon\", \"age\" : \"45\", \"friends\" : [ \"Henry\", \"Ashley\" ] }\n",
    "    { \"_id\" : ObjectId(\"573a3a\"), \"name\" : \"Ashley\", \"age\" : \"37\", \"friends\" : [ \"Jon\", \"Henry\" ] }\n",
    "    { \"_id\" : ObjectId(\"573a3b\"), \"name\" : \"Frank\", \"age\" : \"17\", \"friends\" : [ \"Billy\" ], \"car\" : \"Civic\" }\n",
    "```\n",
    "\n",
    "Things to note:\n",
    "* The three documents that we inserted into the above database didn't all have the same fields.\n",
    "* Mongo creates an ` _id` field for each document if one isn't provided.\n",
    "\n",
    "## Querying\n",
    "\n",
    "```javascript\n",
    "db.users.find({ name: 'Jon'})              // find by single field\n",
    "\n",
    "db.users.find({ car: { $exists : true } }) // find by presence of field\n",
    "\n",
    "db.users.find({ friends: 'Henry' })        // find by value in array\n",
    "\n",
    "db.users.find({}, { name: true })          // field selection (only return name)\n",
    "```\n",
    "\n",
    "A quick way to figure out how to write a Mongo query is to think about how you would do it in SQL and check out a resource like this Mongo endorsed [conversion guide](https://docs.mongodb.com/manual/reference/sql-comparison/#create-and-alter), or use something like a [query translator](http://www.querymongo.com/).\n",
    "\n",
    "## Updating\n",
    "\n",
    "```javascript\n",
    "db.users.update({name: \"Jon\"}, { $set: {friends: [\"Phil\"]}})          // replaces friends array\n",
    "\n",
    "db.users.update({name: \"Jon\"}, { $push: {friends: \"Susie\"}})          // adds to friends array\n",
    "\n",
    "db.users.update({name: \"Stevie\"}, { $push: {friends: \"Nicks\"}}, true) // upsert\n",
    "\n",
    "db.users.update({}, { $set: { activated : false } }, false, true)     // multiple updates\n",
    "```\n",
    "\n",
    "## Imports and Cursors\n",
    "\n",
    "To import existing data into a mongo database one uses `mongoimport` at the command line. In this way mongo will accept a number of data types: JSON, CSV, and TSV.\n",
    "\n",
    "```\n",
    "mongoimport --db tweets --collection coffee --file coffee-tweets.json\n",
    "```\n",
    "\n",
    "Now that we have some larger data we can see that returns from queries are not always so small.\n",
    "\n",
    "```javascript\n",
    "use tweets\n",
    "db.coffee.find()\n",
    "```\n",
    "\n",
    "When the return from a query will display up to the first 20 documents, after that you will need to type `it` to get more. The cursor that it returns is actually an object that has many methods implemented on it and supports the command `it` to iterate through more return items.\n",
    "\n",
    "```javascript\n",
    "db.coffee.find().count() // 122\n",
    "\n",
    "db.coffee.find().limit(2) // Only two documents\n",
    "\n",
    "db.coffee.find().sort({ 'user.followers_count' : -1}).limit(3) // Top three users by followers count\n",
    "```\n",
    "\n",
    "## Iteration\n",
    "\n",
    "MongoDB also has a flexible shell/driver. This allows you take some action based on a query or update documents. You can use an iterator on the cursor to go document by document. In the Javascript shell we can do this with Javascript's `forEach`. `forEach` is similar to Python's iteration with the `for` loop; however, Javascript actually has a more functional approach to this type of iteration and requires that you pass a callback, a function, similar to `map` and `reduce`.\n",
    "\n",
    "```javascript\n",
    "db.coffee.find().forEach(function(doc) {\n",
    "    doc.entities.urls.forEach(function(url) {\n",
    "        db.urls.update({ 'url': url }, { $push: { 'user': doc.user } }, true)\n",
    "    });\n",
    "});\n",
    "```\n",
    "\n",
    "## Aggregation\n",
    "\n",
    "Aggregations in Mongo end up being way less pretty than in SQL/Pandas. Let's just bite the bullet and take a look:\n",
    "\n",
    "```\n",
    "db.coffee.aggregate( [ { $group :\n",
    "    {\n",
    "        _id: \"$filter_level\",\n",
    "        count: { $sum: 1 }\n",
    "    }\n",
    "}])\n",
    "```\n",
    "\n",
    "Here we are first declaring that we're going to do some sort of grouping operation. Then, as Mongo desires everything to have an `_id` field, we specify that the `_id` is going to be the filter level. And then we're going to perform a sum over each level counting 1 for each observation. This information is going to be stored in a field called `count`. What do we get back?\n",
    "\n",
    "We can also do more complicated stuff as well. Here's a query that returns the average number of friends users in this dataset by country. We need to access the country code field of the place field, but that is easy with an object oriented language like JS.\n",
    "\n",
    "```\n",
    "db.coffee.aggregate( [ { $group :\n",
    "    {\n",
    "        _id: \"$place.country_code\",\n",
    "        maxFriendCount: { $max: \"$user.friends_count\" }\n",
    "    }\n",
    "}])\n",
    "```\n",
    "\n",
    "For a guide on how to convert from an SQL style aggregation to a Mongo style aggregation, check out this [aggregation conversion guide](https://docs.mongodb.com/manual/reference/sql-aggregation-comparison)."
   ]
  },
  {
   "cell_type": "markdown",
   "metadata": {},
   "source": [
    "## Afternoon Objectives\n",
    "\n",
    "1. Understand the process of getting data from the web.\n",
    "2. Know the basics of HTML/CSS:\n",
    "    * Know how to pull desired data from web pages.\n",
    "3. Be able to use existing API's to get fetch pre-formatted data.\n",
    "\n",
    "### Internet vs. World Wide Web\n",
    "\n",
    "* The internet is commonly referred to as a network of networks. It is the infrastructure that allows networks all around the world to connect with one another. There are many different protocols to transfer information within this larger, meta-network.\n",
    "* The World Wide Web, or Web, provides one of the ways that data can be transferred over the internet. Uses a **U**niform **R**esource **L**ocator, URL, to specify the location, within the internet, of a document.\n",
    "\n",
    "<div style=\"text-align: center\"><h3>Anatomy of a URL</h3><img src=\"images/url.png\" style=\"width: 600px\"></div>\n",
    "\n",
    "* Documents on the web are generally written in **H**yper**T**ext **M**arkup **L**anguage, HTML, which can be natively viewed by browsers, the tool that we use to browse the web.\n",
    "\n",
    "### Communication on the Web\n",
    "\n",
    "Information is transmitted around the web through a number of protocols. The main one that you will see is the **H**yper**T**ext **T**ransfer **P**rotocol, HTTP. These transfers, called **requests**, are initiated in a number of ways, but always begin with the client, read: you at your browser.\n",
    "\n",
    "<div style=\"text-align: center\"><h3>Requests in Action</h3><img src=\"images/requests.png\" style=\"width: 600px\"></div>\n",
    "\n",
    "There are 4 main types of request that can be issued by your browser: get, post, put and delete. For web scraping purposes, you will almost always be using get requests. We will learn some more about the others in a couple of weeks during data products day.\n",
    "\n",
    "# Scraping from a Web Page with Python\n",
    "\n",
    "Scraping a web site basically comes down to making a request from Python and parsing through the HTML that is returned from each page. For each of these tasks we have a Python library, `requests` and `bs4`, respectively.\n",
    "\n",
    "### Requests Library\n",
    "\n",
    "The [requests](http://docs.python-requests.org/en/latest/index.html) library is designed to simplify the process of making http requests within Python. The interface is mind-bogglingly simple. Instantiate a requests object to the request, this will mostly be a `get`, with the URL and optional parameters you'd like passed through the request. That instance make the results of the request available via attributes/methods."
   ]
  },
  {
   "cell_type": "code",
   "execution_count": 1,
   "metadata": {
    "collapsed": true
   },
   "outputs": [],
   "source": [
    "import requests\n",
    "fun_cheap = 'http://sf.funcheap.com'\n",
    "r = requests.get('http://sf.funcheap.com/2016/06/25/')"
   ]
  },
  {
   "cell_type": "code",
   "execution_count": 2,
   "metadata": {},
   "outputs": [
    {
     "data": {
      "text/plain": [
       "u'<!DOCTYPE html PUBLIC \"-//W3C//DTD XHTML 1.0 Transitional//EN\" \"http://www.w3.org/TR/xhtml1/DTD/xhtml1-transitional.dtd\">\\r\\n<html xmlns=\"http://www.w3.org/1999/xhtml\" lang=\"en-US\" xmlns:fb=\"http://www.facebook.com/2008/fbml\" xmlns:og=\"http://opengraphprotocol.org/schema/\">\\r\\n\\r\\n<head profile=\"http://gmpg.org/xfn/11\">\\r\\n<script src=\"//cdn.optimizely.com/js/195632799.js\"></script>\\r\\n\\r\\n<meta http-equiv=\"Content-Type\" content=\"text/html; charset=UTF-8\" />\\r\\n\\r\\n\\r\\n<title>Events for June 25, 2016 Archives - FunCheapSF.com</title>\\r\\n\\r\\n<meta name=\"generator\" content=\"WordPress\" /> <!-- leave this for stats -->\\r\\n\\r\\n<link rel=\"stylesheet\" href=\"http://cdn.funcheap.com/wp-content/themes/arthemia-premium/style.css?v=1.8.1\" type=\"text/css\" media=\"screen\" />\\r\\n<link rel=\"stylesheet\" href=\"http://cdn.funcheap.com/wp-content/themes/arthemia-premium/madmenu.css?v=1.1\" type=\"text/css\" media=\"screen\" />\\r\\n<!--[if IE 6]>\\r\\n    <style type=\"text/css\">\\r\\n    body {\\r\\n        behavior:url(\"http://cdn.funcheap.com/wp-conten'"
      ]
     },
     "execution_count": 2,
     "metadata": {},
     "output_type": "execute_result"
    }
   ],
   "source": [
    "r.text[:1000] # First 1000 characters of the HTML"
   ]
  },
  {
   "cell_type": "markdown",
   "metadata": {},
   "source": [
    "### Getting Info from a Web Page\n",
    "\n",
    "Now that we can gain easy access to the HMTL for a web page, we need some way to pull the desired content from it. Luckily there is already a system in place to do this. With a combination of HMTL and CSS selectors we can identify the information on a HMTL page that we wish to retrieve and grab it with [BeautifulSoup](https://www.crummy.com/software/BeautifulSoup/bs4/doc/#searching-the-tree)."
   ]
  },
  {
   "cell_type": "code",
   "execution_count": 3,
   "metadata": {
    "collapsed": true
   },
   "outputs": [],
   "source": [
    "html = '''<!DOCTYPE html>\n",
    "<html>\n",
    "<head>\n",
    "<title>The title of this web page</title>\n",
    "</head>\n",
    "<body>\n",
    "<h1>My Photos</h1>\n",
    "<div class='intro'>\n",
    "<p>These are some photos of my trips.</p>\n",
    "<img src=\"me.png\">\n",
    "</div>\n",
    "\n",
    "<h3>Italy</h3>\n",
    "<div class='country'>\n",
    "<img src=\"venice1.png\" alt=\"Venice\"> <br />\n",
    "<img src=\"venice2.png\" alt=\"Venice\"> <br />\n",
    "<img src=\"rome.png\" alt=\"Roma\">\n",
    "</div>\n",
    "\n",
    "<h3>Germany</h3>\n",
    "<div class='country'>\n",
    "<img src=\"berlin.png\" alt=\"Berlin\">\n",
    "</div>\n",
    "</body>\n",
    "</html>\n",
    "'''\n",
    "\n",
    "from bs4 import BeautifulSoup\n",
    "soup = BeautifulSoup(html, 'html.parser')"
   ]
  },
  {
   "cell_type": "code",
   "execution_count": 4,
   "metadata": {},
   "outputs": [
    {
     "data": {
      "text/plain": [
       "<title>The title of this web page</title>"
      ]
     },
     "execution_count": 4,
     "metadata": {},
     "output_type": "execute_result"
    }
   ],
   "source": [
    "soup.title"
   ]
  },
  {
   "cell_type": "code",
   "execution_count": 5,
   "metadata": {},
   "outputs": [
    {
     "data": {
      "text/plain": [
       "u'The title of this web page'"
      ]
     },
     "execution_count": 5,
     "metadata": {},
     "output_type": "execute_result"
    }
   ],
   "source": [
    "soup.title.string"
   ]
  },
  {
   "cell_type": "code",
   "execution_count": 6,
   "metadata": {},
   "outputs": [
    {
     "data": {
      "text/plain": [
       "<h1>My Photos</h1>"
      ]
     },
     "execution_count": 6,
     "metadata": {},
     "output_type": "execute_result"
    }
   ],
   "source": [
    "soup.h1"
   ]
  },
  {
   "cell_type": "code",
   "execution_count": 7,
   "metadata": {},
   "outputs": [
    {
     "data": {
      "text/plain": [
       "<h3>Italy</h3>"
      ]
     },
     "execution_count": 7,
     "metadata": {},
     "output_type": "execute_result"
    }
   ],
   "source": [
    "soup.h3"
   ]
  },
  {
   "cell_type": "code",
   "execution_count": 8,
   "metadata": {},
   "outputs": [
    {
     "data": {
      "text/plain": [
       "<h3>Italy</h3>"
      ]
     },
     "execution_count": 8,
     "metadata": {},
     "output_type": "execute_result"
    }
   ],
   "source": [
    "soup.find('h3')"
   ]
  },
  {
   "cell_type": "code",
   "execution_count": 9,
   "metadata": {},
   "outputs": [
    {
     "data": {
      "text/plain": [
       "[<h3>Italy</h3>, <h3>Germany</h3>]"
      ]
     },
     "execution_count": 9,
     "metadata": {},
     "output_type": "execute_result"
    }
   ],
   "source": [
    "soup.find_all('h3')"
   ]
  },
  {
   "cell_type": "code",
   "execution_count": 10,
   "metadata": {},
   "outputs": [
    {
     "data": {
      "text/plain": [
       "u'Germany'"
      ]
     },
     "execution_count": 10,
     "metadata": {},
     "output_type": "execute_result"
    }
   ],
   "source": [
    "soup.find_all('h3')[1].string"
   ]
  },
  {
   "cell_type": "code",
   "execution_count": 11,
   "metadata": {},
   "outputs": [
    {
     "data": {
      "text/plain": [
       "[<div class=\"country\">\\n<img alt=\"Venice\" src=\"venice1.png\"/> <br/>\\n<img alt=\"Venice\" src=\"venice2.png\"/> <br/>\\n<img alt=\"Roma\" src=\"rome.png\"/>\\n</div>,\n",
       " <div class=\"country\">\\n<img alt=\"Berlin\" src=\"berlin.png\"/>\\n</div>]"
      ]
     },
     "execution_count": 11,
     "metadata": {},
     "output_type": "execute_result"
    }
   ],
   "source": [
    "soup.find_all('div', class_='country')"
   ]
  },
  {
   "cell_type": "code",
   "execution_count": 12,
   "metadata": {},
   "outputs": [
    {
     "data": {
      "text/plain": [
       "[<img alt=\"Venice\" src=\"venice1.png\"/>, <img alt=\"Venice\" src=\"venice2.png\"/>]"
      ]
     },
     "execution_count": 12,
     "metadata": {},
     "output_type": "execute_result"
    }
   ],
   "source": [
    "soup.find_all('img', alt='Venice')"
   ]
  },
  {
   "cell_type": "code",
   "execution_count": 13,
   "metadata": {},
   "outputs": [
    {
     "data": {
      "text/plain": [
       "[<h3>Italy</h3>]"
      ]
     },
     "execution_count": 13,
     "metadata": {},
     "output_type": "execute_result"
    }
   ],
   "source": [
    "soup.find('div', class_='country').find_previous_siblings('h3')"
   ]
  },
  {
   "cell_type": "markdown",
   "metadata": {},
   "source": [
    "If I wanted to systematically get a list of all of the countries visited, how would I do it?"
   ]
  },
  {
   "cell_type": "code",
   "execution_count": 14,
   "metadata": {},
   "outputs": [
    {
     "name": "stdout",
     "output_type": "stream",
     "text": [
      "Italy\n",
      "Germany\n"
     ]
    }
   ],
   "source": [
    "for div in soup.find_all('div', class_='country'):\n",
    "    h3 = div.find_previous_siblings('h3')[0]\n",
    "    country = h3.string\n",
    "    print country"
   ]
  },
  {
   "cell_type": "code",
   "execution_count": 15,
   "metadata": {},
   "outputs": [
    {
     "name": "stdout",
     "output_type": "stream",
     "text": [
      "Country: Italy: image: venice1.png\n",
      "Country: Italy: image: venice2.png\n",
      "Country: Italy: image: rome.png\n",
      "Country: Germany: image: berlin.png\n"
     ]
    }
   ],
   "source": [
    "for div in soup.find_all('div', class_='country'):\n",
    "    h3 = div.find_previous_siblings('h3')[0]\n",
    "    country = h3.string\n",
    "    for img in div.find_all('img'):\n",
    "        image = img.get('src')\n",
    "        print 'Country: {}: image: {}'.format(country, image)"
   ]
  },
  {
   "cell_type": "markdown",
   "metadata": {},
   "source": [
    "### Getting Info from a Web Page - Take 2"
   ]
  },
  {
   "cell_type": "code",
   "execution_count": 16,
   "metadata": {
    "collapsed": true
   },
   "outputs": [],
   "source": [
    "soup = BeautifulSoup(r.text, 'html.parser')"
   ]
  },
  {
   "cell_type": "code",
   "execution_count": 17,
   "metadata": {},
   "outputs": [
    {
     "data": {
      "text/plain": [
       "u'Events for  June 25, 2016'"
      ]
     },
     "execution_count": 17,
     "metadata": {},
     "output_type": "execute_result"
    }
   ],
   "source": [
    "soup.select('h2.title')[0].string"
   ]
  },
  {
   "cell_type": "code",
   "execution_count": 18,
   "metadata": {},
   "outputs": [
    {
     "data": {
      "text/plain": [
       "<h2 class=\"title\">Events for  June 25, 2016</h2>"
      ]
     },
     "execution_count": 18,
     "metadata": {},
     "output_type": "execute_result"
    }
   ],
   "source": [
    "title = soup.find_all('h2', class_='title')[0]\n",
    "\n",
    "title"
   ]
  },
  {
   "cell_type": "code",
   "execution_count": 19,
   "metadata": {},
   "outputs": [
    {
     "data": {
      "text/plain": [
       "<div class=\"clearfloat\">\\n<span class=\"left\"><a href=\"/2016/06/24/\">&lt; Friday, June 24</a></span>\\n<span class=\"right\"><a href=\"/2016/06/26/\">Sunday, June 26 &gt;</a></span>\\n<div style=\"clear:both\"></div>\\n<div class=\"archive_date_title\" style=\"background-color:white;margin:0px;margin-bottom:4px;padding:0px;\"><h3 style=\"background-color:black;color:white;margin:0px;padding:3px;font: 16px Arial;font-weight:bold;\">Saturday<span style=\"font-weight:normal;\">, June 25</span></h3></div>\\n<div class=\"tanbox left\" style=\"background-color:white;padding:3px 0;\"><table width=\"100%\"><tr><td style=\"width:66px\">9:30 am</td><td><span class=\"title2\"><a href=\"http://sf.funcheap.com/environmental-candlestick-point-nature-hike/\" rel=\"bookmark\" title=\"Candlestick Point Nature Hike | SF\">Candlestick Point Nature Hike | SF</a></span></td><td style=\"width:66px\">\\xa0\\xa0<a class=\"tt\">FREE*<div class=\"tooltip\">\\n<div class=\"top\"></div>\\n<div class=\"middle\">*Free but an RSVP is required.</div>\\n<div class=\"bottom\"></div>\\n</div></a></td></tr></table></div>\\n<div class=\"tanbox left\" style=\"background-color:white;\">\\n<span class=\"title\"><a href=\"http://sf.funcheap.com/nor-cal-corgi-con-summer/\" rel=\"bookmark\" title=\"NorCal \\u201cCorgi Con\\u201d Summer 2016 | Ocean Beach\">NorCal \\u201cCorgi Con\\u201d Summer 2016 | Ocean Beach</a></span>\\n<div class=\"meta archive-meta\">Saturday, June 25 \\x96 10:00 am | \\n\\n\\n<span class=\"cost\">Cost: FREE</span> | <span>Ocean Beach (Stairwell 17)</span> </div>\\n<div class=\"thumbnail-wrapper\"><a 2016=\"\" beach\"=\"\" con\"=\"\" corgi=\"\" href=\"http://sf.funcheap.com/nor-cal-corgi-con-summer/\" ocean=\"\" rel=\"bookmark\" summer=\"\" title=\"NorCal \" |=\"\"><img 2016=\"\" alt=\"NorCal \" beach\"=\"\" class=\"left\" con\"=\"\" corgi=\"\" ocean=\"\" src=\"http://cdn.funcheap.com/wp-content/uploads/2016/06/corgicon_grass-175x130.jpg\" summer=\"\" |=\"\"/></a></div>San Francisco\\u2019s\\xa0Corgi Con\\xa0San Francisco is a wonderfully bizarre beach day event for dogs (and their pawrents) bringing together hundreds\\xa0of enthusiastic Corgis (there were 650+ the last time), their owners and wannabes too on\\xa0Ocean Beach from 10 am to 2 pm.\\nThe day will be back with ...</div>\\n<div class=\"tanbox left\" style=\"background-color:white;\">\\n<span class=\"title\"><a href=\"http://sf.funcheap.com/treasure-island-flea-epic-beard-competition-circus-sf/\" rel=\"bookmark\" title=\"Treasure Island Flea: Epic Beard Competition &amp; Circus | SF\">Treasure Island Flea: Epic Beard Competition &amp; Circus | SF</a></span>\\n<div class=\"meta archive-meta\">Saturday, June 25 \\x96 All Day | \\n\\n\\n<span class=\"cost\">Cost:</span> <a class=\"tt\">$3* \\n\\t\\t<div class=\"tooltip\">\\n<div class=\"top\"></div>\\n<div class=\"middle\">*$3 is for general admission to the Flea. Additional activities including the circus require additional purchase.</div>\\n<div class=\"bottom\"></div>\\n</div></a> | <span>Great Lawn</span> </div>\\n<div class=\"thumbnail-wrapper\"><a href=\"http://sf.funcheap.com/treasure-island-flea-epic-beard-competition-circus-sf/\" rel=\"bookmark\" title=\"Treasure Island Flea: Epic Beard Competition &amp; Circus | SF\"><img alt=\"Treasure Island Flea: Epic Beard Competition &amp; Circus | SF\" class=\"left\" src=\"http://cdn.funcheap.com/wp-content/uploads/2013/03/tifleanicephoto1-175x130.jpg\"/></a></div>June 25th and 26th is shaping up to be one exciting Flea with a circus and facial hair contest added to the mix.\\nVintage Deluxe Trailers\\xa0host a\\xa0beard and facial hair competition around 2pm each day.\\xa0The audience will vote by way of cheer and the victors will ...</div>\\n<div class=\"tanbox left\" style=\"background-color:white;padding-bottom:10px;\">\\n<p>\\n<!-- FunCheap_Archive_Listing -->\\n<div id=\"div-gpt-ad-1370026159345-1\" style=\"width:300px; height:250px;\">\\n<script type=\"text/javascript\">\\r\\n                googletag.cmd.push(function() { googletag.display('div-gpt-ad-1370026159345-1'); });\\r\\n                </script>\\n</div>\\n</p>\\n</div>\\n<div class=\"tanbox left\" style=\"background-color:white;padding:3px 0;\"><table width=\"100%\"><tr><td style=\"width:66px\">10:00 am</td><td><span class=\"title2\"><a href=\"http://sf.funcheap.com/photography-meetup-tips-about-photography-sf-8/\" rel=\"bookmark\" title=\"Photography Meetup: Pro Tips &amp; Talks | SF\">Photography Meetup: Pro Tips &amp; Talks | SF</a></span></td><td style=\"width:66px\">\\xa0\\xa0FREE</td></tr></table></div>\\n<div class=\"tanbox left\" style=\"background-color:white;padding:3px 0;\"><table width=\"100%\"><tr><td style=\"width:66px\">10:30 am</td><td><span class=\"title2\"><a href=\"http://sf.funcheap.com/lgbtq-family-storytime-oakland/\" rel=\"bookmark\" title=\"LGBTQ Family Storytime | Oakland\">LGBTQ Family Storytime | Oakland</a></span></td><td style=\"width:66px\">\\xa0\\xa0FREE</td></tr></table></div>\\n<div class=\"tanbox left\" style=\"background-color:white;\">\\n<span class=\"title\"><a href=\"http://sf.funcheap.com/spark-food-truck-park-grand-opening-fire-pits-champagne-smores-mission-bay/\" rel=\"bookmark\" title=\"SPARK Food Truck Park Grand Opening: Fire Pits, Champagne &amp; S\\u2019mores | Mission Bay\">SPARK Food Truck Park Grand Opening: Fire Pits, Champagne &amp; S\\u2019mores | Mission Bay</a></span>\\n<div class=\"meta archive-meta\">Saturday, June 25 \\x96 All Day | \\n\\n\\n<span class=\"cost\">Cost: FREE</span> | <span>SPARK Social SF</span> </div>\\n<div class=\"thumbnail-wrapper\"><a href=\"http://sf.funcheap.com/spark-food-truck-park-grand-opening-fire-pits-champagne-smores-mission-bay/\" rel=\"bookmark\" title=\"SPARK Food Truck Park Grand Opening: Fire Pits, Champagne &amp; S'mores | Mission Bay\"><img alt=\"SPARK Food Truck Park Grand Opening: Fire Pits, Champagne &amp; S'mores | Mission Bay\" class=\"left\" src=\"http://cdn.funcheap.com/wp-content/uploads/2016/06/spark-175x130.jpg\"/></a></div>Hungry residents of San Francisco\\u2019s Mission Bay neighborhood are about to get a slew of new dining options as the team behind SoMa StrEat Food Park opens\\xa0their new location at Parklab, in the heart of Mission Bay. SPARK Social SF\\xa0will kick off with the public ...</div>\\n<div class=\"tanbox left\" style=\"background-color:white;\">\\n<span class=\"title\"><a href=\"http://sf.funcheap.com/125th-birthday-party-blast-1890s-carnival-live-music-movies-oakland/\" rel=\"bookmark\" title=\"125th Birthday Party Blast: 1890\\u2019s Carnival, Live Music &amp; Movies | Oakland\">125th Birthday Party Blast: 1890\\u2019s Carnival, Live Music &amp; Movies | Oakland</a></span>\\n<div class=\"meta archive-meta\">Saturday, June 25 \\x96 11:00 am | \\n\\n\\n<span class=\"cost\">Cost: FREE</span> | <span>Fred Finch Youth Center</span> </div>\\n<div class=\"thumbnail-wrapper\"><a href=\"http://sf.funcheap.com/125th-birthday-party-blast-1890s-carnival-live-music-movies-oakland/\" rel=\"bookmark\" title=\"125th Birthday Party Blast: 1890's Carnival, Live Music &amp; Movies | Oakland\"><img alt=\"125th Birthday Party Blast: 1890's Carnival, Live Music &amp; Movies | Oakland\" class=\"left\" src=\"http://cdn.funcheap.com/wp-content/uploads/2016/06/Carnival-Birthday-Party-San-Diego1-175x130.jpeg\"/></a></div>Travel through time with Fred Finch Youth Center in celebration of their 125th year of providing services for children and families.\\nAs you stroll through the\\xa08 acre park-like campus you can enjoy a fun-filled day carnival with clowns, stilt walkers, games and face painting. Plus snack ...</div>\\n<div class=\"tanbox left\" style=\"background-color:white;padding:3px 0;\"><table width=\"100%\"><tr><td style=\"width:66px\">12:00 pm</td><td><span class=\"title2\"><a href=\"http://sf.funcheap.com/pink-mammoth-summertime-block-party-sf/\" rel=\"bookmark\" title=\"Win Tix: \\u201cPink Mammoth\\u201d 4th Annual Summer Block Party | SF\">Win Tix: \\u201cPink Mammoth\\u201d 4th Annual Summer Block Party | SF</a></span></td><td style=\"width:66px\">\\xa0\\xa0WIN</td></tr></table></div>\\n<div class=\"tanbox left\" style=\"background-color:white;padding:3px 0;\"><table width=\"100%\"><tr><td style=\"width:66px\">12:00 pm</td><td><span class=\"title2\"><a href=\"http://sf.funcheap.com/lyrical-workshop-emerge-with-better-songs-sf/\" rel=\"bookmark\" title=\"Lyrical Workshop: Emerge With Better Songs | SF\">Lyrical Workshop: Emerge With Better Songs | SF</a></span></td><td style=\"width:66px\">\\xa0\\xa0<a class=\"tt\">FREE*<div class=\"tooltip\">\\n<div class=\"top\"></div>\\n<div class=\"middle\">*Free but an RSVP is required.</div>\\n<div class=\"bottom\"></div>\\n</div></a></td></tr></table></div>\\n<div class=\"tanbox left\" style=\"background-color:white;padding:3px 0;\"><table width=\"100%\"><tr><td style=\"width:66px\">12:00 pm</td><td><span class=\"title2\"><a href=\"http://sf.funcheap.com/san-anselmo-art-wine-festival-sampling-pass/\" rel=\"bookmark\" title=\"Win Tix: San Anselmo Art &amp; Wine Festival: Sampling Pass | North Bay\">Win Tix: San Anselmo Art &amp; Wine Festival: Sampling Pass | North Bay</a></span></td><td style=\"width:66px\">\\xa0\\xa0WIN</td></tr></table></div>\\n<div class=\"tanbox left\" style=\"background-color:white;padding:3px 0;\"><table width=\"100%\"><tr><td style=\"width:66px\">12:00 pm</td><td><span class=\"title2\"><a href=\"http://sf.funcheap.com/free-seasonal-cooking-demo-tasting-ferry-plaza-farmers-market-38/\" rel=\"bookmark\" title=\"Free Seasonal Cooking Demo &amp; Tasting | Ferry Plaza Farmers Market\">Free Seasonal Cooking Demo &amp; Tasting | Ferry Plaza Farmers Market</a></span></td><td style=\"width:66px\">\\xa0\\xa0FREE</td></tr></table></div>\\n<div class=\"tanbox left\" style=\"background-color:white;padding:3px 0;\"><table width=\"100%\"><tr><td style=\"width:66px\">1:00 pm</td><td><span class=\"title2\"><a href=\"http://sf.funcheap.com/le-cirque-de-bohme-1920s-oldstyle-circus-treasure-island/\" rel=\"bookmark\" title=\"Win Tix: Le Cirque de Boh\\xe8me: 1920s Old-Style Circus | Treasure Island\">Win Tix: Le Cirque de Boh\\xe8me: 1920s Old-Style Circus | Treasure Island</a></span></td><td style=\"width:66px\">\\xa0\\xa0WIN</td></tr></table></div>\\n<div class=\"tanbox left\" style=\"background-color:white;\">\\n<span class=\"title\"><a href=\"http://sf.funcheap.com/live-art-pride-party-support-local-arts/\" rel=\"bookmark\" title=\"Pride Weekend Live Art Day Party: Free Drinks, Live Art &amp; Music | SF\">Pride Weekend Live Art Day Party: Free Drinks, Live Art &amp; Music | SF</a></span>\\n<div class=\"meta archive-meta\">Saturday, June 25 \\x96 1:00 pm | \\n\\n\\n<span class=\"cost\">Cost: FREE</span> | <span>San Franpsycho (Inner Sunset)</span> </div>\\n<div class=\"thumbnail-wrapper\"><a href=\"http://sf.funcheap.com/live-art-pride-party-support-local-arts/\" rel=\"bookmark\" title=\"Pride Weekend Live Art Day Party: Free Drinks, Live Art &amp; Music | SF\"><img alt=\"Pride Weekend Live Art Day Party: Free Drinks, Live Art &amp; Music | SF\" class=\"left\" src=\"http://cdn.funcheap.com/wp-content/uploads/2016/06/page-image-2229-87d34055-add1-4cc6-9298-7a46858b50cb1-175x130.jpg\"/></a></div>The San Francisco Arts &amp; Families Funding Ordinance\\u2014a measure that would dedicate secure, increased funds to arts programming and cultural equity throughout San Francisco (without raising taxes for voters)\\u2014was filed at City Hall earlier this month. They have until July 11th to collect 13,000 signatures ...</div>\\n<div class=\"tanbox left\" style=\"background-color:white;padding:3px 0;\"><table width=\"100%\"><tr><td style=\"width:66px\">1:00 pm</td><td><span class=\"title2\"><a href=\"http://sf.funcheap.com/taste-mendocino-wine-party-fort-mason/\" rel=\"bookmark\" title=\"Win Tix: \\u201cTaste of Mendocino\\u201d Wine Party | Fort Mason\">Win Tix: \\u201cTaste of Mendocino\\u201d Wine Party | Fort Mason</a></span></td><td style=\"width:66px\">\\xa0\\xa0<a class=\"tt\">WIN*<div class=\"tooltip\">\\n<div class=\"top\"></div>\\n<div class=\"middle\">*must be 21+ to attend</div>\\n<div class=\"bottom\"></div>\\n</div></a></td></tr></table></div>\\n<div class=\"tanbox left\" style=\"background-color:white;padding:3px 0;\"><table width=\"100%\"><tr><td style=\"width:66px\">1:30 pm</td><td><span class=\"title2\"><a href=\"http://sf.funcheap.com/hood-2016-sf/\" rel=\"bookmark\" title=\"Under the Hood 2016:  Choreographic Process  | SF\">Under the Hood 2016:  Choreographic Process  | SF</a></span></td><td style=\"width:66px\">\\xa0\\xa0<a class=\"tt\">FREE*<div class=\"tooltip\">\\n<div class=\"top\"></div>\\n<div class=\"middle\">*Free  but an RSVP is required.</div>\\n<div class=\"bottom\"></div>\\n</div></a></td></tr></table></div>\\n<div class=\"tanbox left\" style=\"background-color:white;padding:3px 0;\"><table width=\"100%\"><tr><td style=\"width:66px\">2:00 pm</td><td><span class=\"title2\"><a href=\"http://sf.funcheap.com/unity-documentary-screening-sf/\" rel=\"bookmark\" title=\"\\u201cUnity\\u201d Documentary Screening | SF\">\\u201cUnity\\u201d Documentary Screening | SF</a></span></td><td style=\"width:66px\">\\xa0\\xa0<a class=\"tt\">FREE*<div class=\"tooltip\">\\n<div class=\"top\"></div>\\n<div class=\"middle\">*Free but an RSVP is required.</div>\\n<div class=\"bottom\"></div>\\n</div></a></td></tr></table></div>\\n<div class=\"tanbox left\" style=\"background-color:white;\">\\n<span class=\"title\"><a href=\"http://sf.funcheap.com/free-summer-circus-day-circus-bella-opening-weekend-sf-2/\" rel=\"bookmark\" title=\"Free Summer Circus Day with Circus Bella: Opening Weekend | SF\">Free Summer Circus Day with Circus Bella: Opening Weekend | SF</a></span>\\n<div class=\"meta archive-meta\">Saturday, June 25 \\x96 2:15 pm | \\n\\n\\n<span class=\"cost\">Cost: FREE</span> | <span>Yerba Buena Gardens (Main)</span> </div>\\n<div class=\"thumbnail-wrapper\"><a href=\"http://sf.funcheap.com/free-summer-circus-day-circus-bella-opening-weekend-sf-2/\" rel=\"bookmark\" title=\"Free Summer Circus Day with Circus Bella: Opening Weekend | SF\"><img alt=\"Free Summer Circus Day with Circus Bella: Opening Weekend | SF\" class=\"left\" src=\"http://cdn.funcheap.com/wp-content/uploads/2013/07/168928_10150136694056352_1585830_n1-175x130.jpg\"/></a></div><p>Circus Bella is a full-force, non-stop 60-minute kaleidoscope of thrilling feats of balance and strength, elegance demonstrations of grace and poise, and outrageous humor of slapstick antics. The circus showcases static trapeze, rope walking, a 9-person juggling act, contortion, hula hoop, original clowning and more. ...</p></div>\\n<div class=\"tanbox left\" style=\"background-color:white;\">\\n<span class=\"title\"><a href=\"http://sf.funcheap.com/pink-saturday-pride-block-party-castro/\" rel=\"bookmark\" title=\"Cancelled for Pride 2016: Pink Saturday \\u201cPink Party\\u201d | Castro\">Cancelled for Pride 2016: Pink Saturday \\u201cPink Party\\u201d | Castro</a></span>\\n<div class=\"meta archive-meta\">Saturday, June 25 \\x96 All Day | \\n\\n\\n<span class=\"cost\">Cost:</span> <a class=\"tt\">FREE* \\n\\t\\t<div class=\"tooltip\">\\n<div class=\"top\"></div>\\n<div class=\"middle\">*Unfortunately in 2016 The Pink Party is cancelled.</div>\\n<div class=\"bottom\"></div>\\n</div></a> | <span>Castro &amp; Market</span> </div>\\n<div class=\"thumbnail-wrapper\"><a castro\"=\"\" href=\"http://sf.funcheap.com/pink-saturday-pride-block-party-castro/\" party\"=\"\" pink=\"\" rel=\"bookmark\" title=\"Cancelled for Pride 2016: Pink Saturday \" |=\"\"><img alt=\"Cancelled for Pride 2016: Pink Saturday \" castro\"=\"\" class=\"left\" party\"=\"\" pink=\"\" src=\"http://cdn.funcheap.com/wp-content/uploads/2015/06/7520943358_f6a9691524_b1-175x130.jpg\" |=\"\"/></a></div>The night before the Pride Parade, The Pink Party\\xa0typically takes over the streets of the Castro by closing them to cars and then pumping multiple sound stages to\\xa0celebrate a long-time tradition of fabulous, queer parties, but\\u2026 unfortunately in 2016 the party is cancelled.\\nFrom SFist: \\u201cCoordinated ...</div>\\n<div class=\"tanbox left\" style=\"background-color:white;padding:3px 0;\"><table width=\"100%\"><tr><td style=\"width:66px\">3:00 pm</td><td><span class=\"title2\"><a href=\"http://sf.funcheap.com/homebrew-arcade-play-meet-developers-san-jose/\" rel=\"bookmark\" title=\"Homebrew Arcade: Play &amp; Meet The Developers | San Jose\">Homebrew Arcade: Play &amp; Meet The Developers | San Jose</a></span></td><td style=\"width:66px\">\\xa0\\xa0FREE</td></tr></table></div>\\n<div class=\"tanbox left\" style=\"background-color:white;padding:3px 0;\"><table width=\"100%\"><tr><td style=\"width:66px\">3:00 pm</td><td><span class=\"title2\"><a href=\"http://sf.funcheap.com/dance-donuts-mimosas-sf/\" rel=\"bookmark\" title=\"Open Rehearsal, Donuts &amp; Mimosas | SF\">Open Rehearsal, Donuts &amp; Mimosas | SF</a></span></td><td style=\"width:66px\">\\xa0\\xa0<a class=\"tt\">FREE*<div class=\"tooltip\">\\n<div class=\"top\"></div>\\n<div class=\"middle\">*Free but an RSVP is required.</div>\\n<div class=\"bottom\"></div>\\n</div></a></td></tr></table></div>\\n<div class=\"tanbox left\" style=\"background-color:white;padding:3px 0;\"><table width=\"100%\"><tr><td style=\"width:66px\">4:00 pm</td><td><span class=\"title2\"><a href=\"http://sf.funcheap.com/bay-area-derby-girls-competition-richmond/\" rel=\"bookmark\" title=\"Win Tix: \\u201cBay Area Derby\\u201d Rockin\\u2019 Roller Derby | Richmond\">Win Tix: \\u201cBay Area Derby\\u201d Rockin\\u2019 Roller Derby | Richmond</a></span></td><td style=\"width:66px\">\\xa0\\xa0WIN</td></tr></table></div>\\n<div class=\"tanbox left\" style=\"background-color:white;padding:3px 0;\"><table width=\"100%\"><tr><td style=\"width:66px\">7:00 pm</td><td><span class=\"title2\"><a href=\"http://sf.funcheap.com/alegremania-2016-birthday-extravaganza-live-music-richmond/\" rel=\"bookmark\" title=\"AlegreMania 2016: A Birthday Extravaganza Live Music | Richmond\">AlegreMania 2016: A Birthday Extravaganza Live Music | Richmond</a></span></td><td style=\"width:66px\">\\xa0\\xa0FREE</td></tr></table></div>\\n<div class=\"tanbox left\" style=\"background-color:white;\">\\n<span class=\"title\"><a href=\"http://sf.funcheap.com/tribute-country-music/\" rel=\"bookmark\" title=\"Win Tix: Summertime Country Music Tribute | East Bay\">Win Tix: Summertime Country Music Tribute | East Bay</a></span>\\n<div class=\"meta archive-meta\">Saturday, June 25 \\x96 7:30 pm | \\n\\n\\n<span class=\"cost\">Cost: WIN</span> | <span>Historic BAL Theatre</span> </div>\\n<div class=\"thumbnail-wrapper\"><a href=\"http://sf.funcheap.com/tribute-country-music/\" rel=\"bookmark\" title=\"Summertime Country Music Tribute | East Bay\"><img alt=\"Summertime Country Music Tribute | East Bay\" class=\"left\" src=\"http://cdn.funcheap.com/wp-content/uploads/2016/06/AVlsblM1-175x130.jpg\"/><span class=\"badge-contest-ended\">Contest Ended</span></a></div>Are you hankering for some good ol\\u2019, down home, country music? You need to get yourself to Bal Theatre when Fred McCarty Band serves up the very best of country music. Journey through the decades as you enjoy some of the most beloved songs by ...</div>\\n<div class=\"tanbox left\" style=\"background-color:white;\">\\n<span class=\"title\"><a href=\"http://sf.funcheap.com/conservatory-flowers-lights-pride-golden-gate-park/\" rel=\"bookmark\" title=\"The Conservatory Flowers Lights up for Pride | Golden Gate Park\">The Conservatory Flowers Lights up for Pride | Golden Gate Park</a></span>\\n<div class=\"meta archive-meta\">Saturday, June 25 \\x96 8:00 pm | \\n\\n\\n<span class=\"cost\">Cost:</span> <a class=\"tt\">FREE* \\n\\t\\t<div class=\"tooltip\">\\n<div class=\"top\"></div>\\n<div class=\"middle\">*Free to see from the outside.</div>\\n<div class=\"bottom\"></div>\\n</div></a> | <span>Conservatory of Flowers</span> </div>\\n<div class=\"thumbnail-wrapper\"><a href=\"http://sf.funcheap.com/conservatory-flowers-lights-pride-golden-gate-park/\" rel=\"bookmark\" title=\"The Conservatory Flowers Lights up for Pride | Golden Gate Park\"><img alt=\"The Conservatory Flowers Lights up for Pride | Golden Gate Park\" class=\"left\" src=\"http://cdn.funcheap.com/wp-content/uploads/2016/06/ConservatoryPride-175x130.jpg\"/></a></div><p>The SF Department of Parks and Rec has let us know that the Conservatory of Flowers in Golden Gate Park will be lit up in rainbow colors for the first time ever beginning June 16, 2016. So come by and take a photo as another ...</p></div>\\n<div class=\"tanbox left\" style=\"background-color:white;padding:3px 0;\"><table width=\"100%\"><tr><td style=\"width:66px\">8:00 pm</td><td><span class=\"title2\"><a href=\"http://sf.funcheap.com/terror-managment-theory-tenderloin/\" rel=\"bookmark\" title=\"\\u201cTerror Managment Theory\\u201d Edgy Comedy Showcase | Exit Theater\">\\u201cTerror Managment Theory\\u201d Edgy Comedy Showcase | Exit Theater</a></span></td><td style=\"width:66px\">\\xa0\\xa0$5</td></tr></table></div>\\n<div class=\"tanbox left\" style=\"background-color:white;\">\\n<span class=\"title\"><a href=\"http://sf.funcheap.com/renegade-drivein-movie-night-aliens-north-bay/\" rel=\"bookmark\" title=\"Renegade Drive-In Movie Night: \\u201cAliens\\u201d | North Bay\">Renegade Drive-In Movie Night: \\u201cAliens\\u201d | North Bay</a></span>\\n<div class=\"meta archive-meta\">Saturday, June 25 \\x96 9:00 pm | \\n\\n\\n<span class=\"cost\">Cost: FREE</span> | <span>Old Hamilton Theater Building</span> </div>\\n<div class=\"thumbnail-wrapper\"><a aliens\"=\"\" bay\"=\"\" href=\"http://sf.funcheap.com/renegade-drivein-movie-night-aliens-north-bay/\" north=\"\" rel=\"bookmark\" title=\"Renegade Drive-In Movie Night: \" |=\"\"><img aliens\"=\"\" alt=\"Renegade Drive-In Movie Night: \" bay\"=\"\" class=\"left\" north=\"\" src=\"http://cdn.funcheap.com/wp-content/uploads/2016/06/THEDASCRYPT-175x130.jpg\" |=\"\"/></a></div>Their theme of girl power cranks it up to full chestburster as they celebrate the 30th Anniversary of James Cameron\\u2019s butt-kicking 1986 \\u201cAliens\\u201d, the sequel to Ridley Scott\\u2019s classic \\u201cAlien\\u201d (1979).\\nThe extraterrestrial threat is multiplied in this return to LV-426 where mankind has clearly not ...</div>\\n<div class=\"tanbox left\" style=\"background-color:white;padding:3px 0;\"><table width=\"100%\"><tr><td style=\"width:66px\">9:00 pm</td><td><span class=\"title2\"><a href=\"http://sf.funcheap.com/live-music-3-leafs-berkeley/\" rel=\"bookmark\" title=\"Live Music With the 3 Leafs | Berkeley\">Live Music With the 3 Leafs | Berkeley</a></span></td><td style=\"width:66px\">\\xa0\\xa0FREE</td></tr></table></div>\\n<div class=\"tanbox left\" style=\"background-color:white;\">\\n<span class=\"title\"><a href=\"http://sf.funcheap.com/classic-country-night-aubrie-sellers-slims/\" rel=\"bookmark\" title=\"Win Tix: Gritty &amp; Glorious Country: \\u201cAubrie Sellers\\u201d | Slim\\u2019s\">Win Tix: Gritty &amp; Glorious Country: \\u201cAubrie Sellers\\u201d | Slim\\u2019s</a></span>\\n<div class=\"meta archive-meta\">Saturday, June 25 \\x96 9:00 pm | \\n\\n\\n<span class=\"cost\">Cost: WIN</span> | <span>Slim's</span> </div>\\n<div class=\"thumbnail-wrapper\"><a aubrie=\"\" href=\"http://sf.funcheap.com/classic-country-night-aubrie-sellers-slims/\" rel=\"bookmark\" sellers\"=\"\" slim's\"=\"\" title=\"Gritty &amp; Glorious Country: \" |=\"\"><img alt=\"Gritty &amp; Glorious Country: \" aubrie=\"\" class=\"left\" sellers\"=\"\" slim's\"=\"\" src=\"http://cdn.funcheap.com/wp-content/uploads/2016/06/7CruaGe1-175x130.jpg\" |=\"\"/><span class=\"badge-contest-ended\">Contest Ended</span></a></div>Aubrie Sellers\\u2019 voice harkens back to a time when Country music was fresh and fun. Remember those days? No, because it\\u2019s been decades! But thankfully, artists like Aubrie are bringing a cool, unapologetically American vibe back to this genre.\\xa0She mingles classic Country music with modern ...</div>\\n<div class=\"tanbox left\" style=\"background-color:white;padding:3px 0;\"><table width=\"100%\"><tr><td style=\"width:66px\">9:30 pm</td><td><span class=\"title2\"><a href=\"http://sf.funcheap.com/hubba-hubba-uptown-cabaret-burlesque-night-oakland/\" rel=\"bookmark\" title=\"Win Tix: Hubba Hubba \\u201cUptown Cabaret\\u201d Burlesque Night | Oakland\">Win Tix: Hubba Hubba \\u201cUptown Cabaret\\u201d Burlesque Night | Oakland</a></span></td><td style=\"width:66px\">\\xa0\\xa0WIN</td></tr></table></div>\\n<div class=\"tanbox left\" style=\"background-color:white;padding:3px 0;\"><table width=\"100%\"><tr><td style=\"width:66px\">10:00 pm</td><td><span class=\"title2\"><a href=\"http://sf.funcheap.com/goshfather-friends-sf/\" rel=\"bookmark\" title=\"Dance To The Beat Of Goshfather &amp; Friends | SF\">Dance To The Beat Of Goshfather &amp; Friends | SF</a></span></td><td style=\"width:66px\">\\xa0\\xa0<a class=\"tt\">FREE*<div class=\"tooltip\">\\n<div class=\"top\"></div>\\n<div class=\"middle\">*Free before 11 PM with RSVP.</div>\\n<div class=\"bottom\"></div>\\n</div></a></td></tr></table></div>\\n</div>"
      ]
     },
     "execution_count": 19,
     "metadata": {},
     "output_type": "execute_result"
    }
   ],
   "source": [
    "good_clear_float = title.next_sibling.next_sibling\n",
    "\n",
    "good_clear_float"
   ]
  },
  {
   "cell_type": "code",
   "execution_count": 20,
   "metadata": {
    "collapsed": true
   },
   "outputs": [],
   "source": [
    "urls = []\n",
    "for tag in good_clear_float.find_all('a', rel=True):\n",
    "    href = tag.attrs['href']\n",
    "    urls.append(href)"
   ]
  },
  {
   "cell_type": "code",
   "execution_count": 21,
   "metadata": {},
   "outputs": [
    {
     "data": {
      "text/plain": [
       "[u'http://sf.funcheap.com/environmental-candlestick-point-nature-hike/',\n",
       " u'http://sf.funcheap.com/nor-cal-corgi-con-summer/',\n",
       " u'http://sf.funcheap.com/nor-cal-corgi-con-summer/',\n",
       " u'http://sf.funcheap.com/treasure-island-flea-epic-beard-competition-circus-sf/',\n",
       " u'http://sf.funcheap.com/treasure-island-flea-epic-beard-competition-circus-sf/',\n",
       " u'http://sf.funcheap.com/photography-meetup-tips-about-photography-sf-8/',\n",
       " u'http://sf.funcheap.com/lgbtq-family-storytime-oakland/',\n",
       " u'http://sf.funcheap.com/spark-food-truck-park-grand-opening-fire-pits-champagne-smores-mission-bay/',\n",
       " u'http://sf.funcheap.com/spark-food-truck-park-grand-opening-fire-pits-champagne-smores-mission-bay/',\n",
       " u'http://sf.funcheap.com/125th-birthday-party-blast-1890s-carnival-live-music-movies-oakland/',\n",
       " u'http://sf.funcheap.com/125th-birthday-party-blast-1890s-carnival-live-music-movies-oakland/',\n",
       " u'http://sf.funcheap.com/pink-mammoth-summertime-block-party-sf/',\n",
       " u'http://sf.funcheap.com/lyrical-workshop-emerge-with-better-songs-sf/',\n",
       " u'http://sf.funcheap.com/san-anselmo-art-wine-festival-sampling-pass/',\n",
       " u'http://sf.funcheap.com/free-seasonal-cooking-demo-tasting-ferry-plaza-farmers-market-38/',\n",
       " u'http://sf.funcheap.com/le-cirque-de-bohme-1920s-oldstyle-circus-treasure-island/',\n",
       " u'http://sf.funcheap.com/live-art-pride-party-support-local-arts/',\n",
       " u'http://sf.funcheap.com/live-art-pride-party-support-local-arts/',\n",
       " u'http://sf.funcheap.com/taste-mendocino-wine-party-fort-mason/',\n",
       " u'http://sf.funcheap.com/hood-2016-sf/',\n",
       " u'http://sf.funcheap.com/unity-documentary-screening-sf/',\n",
       " u'http://sf.funcheap.com/free-summer-circus-day-circus-bella-opening-weekend-sf-2/',\n",
       " u'http://sf.funcheap.com/free-summer-circus-day-circus-bella-opening-weekend-sf-2/',\n",
       " u'http://sf.funcheap.com/pink-saturday-pride-block-party-castro/',\n",
       " u'http://sf.funcheap.com/pink-saturday-pride-block-party-castro/',\n",
       " u'http://sf.funcheap.com/homebrew-arcade-play-meet-developers-san-jose/',\n",
       " u'http://sf.funcheap.com/dance-donuts-mimosas-sf/',\n",
       " u'http://sf.funcheap.com/bay-area-derby-girls-competition-richmond/',\n",
       " u'http://sf.funcheap.com/alegremania-2016-birthday-extravaganza-live-music-richmond/',\n",
       " u'http://sf.funcheap.com/tribute-country-music/',\n",
       " u'http://sf.funcheap.com/tribute-country-music/',\n",
       " u'http://sf.funcheap.com/conservatory-flowers-lights-pride-golden-gate-park/',\n",
       " u'http://sf.funcheap.com/conservatory-flowers-lights-pride-golden-gate-park/',\n",
       " u'http://sf.funcheap.com/terror-managment-theory-tenderloin/',\n",
       " u'http://sf.funcheap.com/renegade-drivein-movie-night-aliens-north-bay/',\n",
       " u'http://sf.funcheap.com/renegade-drivein-movie-night-aliens-north-bay/',\n",
       " u'http://sf.funcheap.com/live-music-3-leafs-berkeley/',\n",
       " u'http://sf.funcheap.com/classic-country-night-aubrie-sellers-slims/',\n",
       " u'http://sf.funcheap.com/classic-country-night-aubrie-sellers-slims/',\n",
       " u'http://sf.funcheap.com/hubba-hubba-uptown-cabaret-burlesque-night-oakland/',\n",
       " u'http://sf.funcheap.com/goshfather-friends-sf/']"
      ]
     },
     "execution_count": 21,
     "metadata": {},
     "output_type": "execute_result"
    }
   ],
   "source": [
    "urls"
   ]
  },
  {
   "cell_type": "markdown",
   "metadata": {},
   "source": [
    "### Very cool resource for learning about CSS selectors: http://flukeout.github.io/\n",
    "\n",
    "As you go through a web site you should build up a dictionary for the documents that you want to store in Mongo. In the example above we may, for each post url, create a dictionary with the information:\n",
    "\n",
    "```python\n",
    "{ url: url_of_event,\n",
    "  date: date_event,\n",
    "  cost: cost_of_event }\n",
    "```\n",
    "\n",
    "We can then insert these dictionaries into a Mongo database via PyMongo, which we will learn about next.\n",
    "\n",
    "# Scraping from an Existing API\n",
    "\n",
    "Let's take a look at the API for all the publically available policing data in the [UK](https://data.police.uk/docs/). After taking a look at the documentation for the interface, let's experiment with what we get when we issue a request to this API. The process looks remarkable similar to the one we went through for scraping a web page, except this time the response we're looking for is available via the `json()` method."
   ]
  },
  {
   "cell_type": "code",
   "execution_count": 22,
   "metadata": {},
   "outputs": [
    {
     "data": {
      "text/plain": [
       "[{u'category': u'anti-social-behaviour',\n",
       "  u'context': u'',\n",
       "  u'id': 38522657,\n",
       "  u'location': {u'latitude': u'52.627739',\n",
       "   u'longitude': u'-1.123074',\n",
       "   u'street': {u'id': 883259, u'name': u'On or near The Oval'}},\n",
       "  u'location_subtype': u'',\n",
       "  u'location_type': u'Force',\n",
       "  u'month': u'2015-01',\n",
       "  u'outcome_status': None,\n",
       "  u'persistent_id': u''},\n",
       " {u'category': u'anti-social-behaviour',\n",
       "  u'context': u'',\n",
       "  u'id': 38522663,\n",
       "  u'location': {u'latitude': u'52.631672',\n",
       "   u'longitude': u'-1.115194',\n",
       "   u'street': {u'id': 883106, u'name': u'On or near Oxendon Street'}},\n",
       "  u'location_subtype': u'',\n",
       "  u'location_type': u'Force',\n",
       "  u'month': u'2015-01',\n",
       "  u'outcome_status': None,\n",
       "  u'persistent_id': u''}]"
      ]
     },
     "execution_count": 22,
     "metadata": {},
     "output_type": "execute_result"
    }
   ],
   "source": [
    "r = requests.get('https://data.police.uk/api/crimes-street/all-crime?lat=52.629729&lng=-1.131592&date=2015-01')\n",
    "r.json()[:2]"
   ]
  },
  {
   "cell_type": "code",
   "execution_count": 23,
   "metadata": {
    "collapsed": true
   },
   "outputs": [],
   "source": [
    "crime_stuff = r.json()"
   ]
  },
  {
   "cell_type": "markdown",
   "metadata": {},
   "source": [
    "## API Scraping and Mongo\n",
    "\n",
    "Many APIs will give you a choice of how it will return data to you, choosing json will make life easier since we will frequently be using Mongo for our storage unit during our scraping endeavors, and it plays very well with json.\n",
    "\n",
    "Interacting with Mongo from Python is done with the other Mongo client that we talked about earlier PyMongo. It is designed to have a similar interface as the Mongo shell does, this ends up being fairly intuitive since both Python and JavaScript are object oriented languages, and therefore store and refer to things in a similar manner."
   ]
  },
  {
   "cell_type": "code",
   "execution_count": 24,
   "metadata": {
    "collapsed": true
   },
   "outputs": [],
   "source": [
    "from pymongo import MongoClient\n",
    "\n",
    "client = MongoClient()\n",
    "db = client.uk_police\n",
    "collection = db.all_crime"
   ]
  },
  {
   "cell_type": "code",
   "execution_count": 25,
   "metadata": {
    "collapsed": true
   },
   "outputs": [],
   "source": [
    "other_request = requests.get('https://data.police.uk/api/crimes-no-location?category=all-crime&force=avon-and-somerset&date=2015-01')"
   ]
  },
  {
   "cell_type": "code",
   "execution_count": 26,
   "metadata": {},
   "outputs": [
    {
     "data": {
      "text/plain": [
       "[{u'category': u'bicycle-theft',\n",
       "  u'context': u'',\n",
       "  u'id': 40643348,\n",
       "  u'location': None,\n",
       "  u'location_subtype': u'',\n",
       "  u'location_type': None,\n",
       "  u'month': u'2015-01',\n",
       "  u'outcome_status': {u'category': u'Offender given community sentence',\n",
       "   u'date': u'2015-06'},\n",
       "  u'persistent_id': u'c288b42b98c5cbf97afc024001a9b23d4bc49035bd0b7ebe34e24a14623c9810'},\n",
       " {u'category': u'bicycle-theft',\n",
       "  u'context': u'',\n",
       "  u'id': 40670414,\n",
       "  u'location': None,\n",
       "  u'location_subtype': u'',\n",
       "  u'location_type': None,\n",
       "  u'month': u'2015-01',\n",
       "  u'outcome_status': {u'category': u'Unable to prosecute suspect',\n",
       "   u'date': u'2015-02'},\n",
       "  u'persistent_id': u'9cdff19369416aeb8a27f5350eb003f63d74aef08cbb830c8b0590e97c898cd6'}]"
      ]
     },
     "execution_count": 26,
     "metadata": {},
     "output_type": "execute_result"
    }
   ],
   "source": [
    "other_request.json()[:2]"
   ]
  },
  {
   "cell_type": "code",
   "execution_count": 27,
   "metadata": {},
   "outputs": [
    {
     "data": {
      "text/plain": [
       "<pymongo.results.InsertManyResult at 0x107692a00>"
      ]
     },
     "execution_count": 27,
     "metadata": {},
     "output_type": "execute_result"
    }
   ],
   "source": [
    "collection.insert_many(other_request.json())"
   ]
  },
  {
   "cell_type": "code",
   "execution_count": 28,
   "metadata": {},
   "outputs": [
    {
     "name": "stdout",
     "output_type": "stream",
     "text": [
      "Scraping year/month: 2015/1\n",
      "Scraping year/month: 2015/2\n",
      "Scraping year/month: 2015/3\n",
      "Scraping year/month: 2015/4\n",
      "Scraping year/month: 2015/5\n",
      "Scraping year/month: 2015/6\n",
      "Scraping year/month: 2015/7\n",
      "Scraping year/month: 2015/8\n",
      "Scraping year/month: 2015/9\n",
      "Scraping year/month: 2015/10\n",
      "Scraping year/month: 2015/11\n",
      "Scraping year/month: 2015/12\n",
      "Scraping year/month: 2016/1\n",
      "Scraping year/month: 2016/2\n",
      "Scraping year/month: 2016/3\n",
      "Scraping year/month: 2016/4\n",
      "Scraping year/month: 2016/5\n",
      "Scraping year/month: 2016/6\n",
      "Scraping year/month: 2016/7\n",
      "Scraping year/month: 2016/8\n",
      "Scraping year/month: 2016/9\n",
      "Scraping year/month: 2016/10\n",
      "Scraping year/month: 2016/11\n",
      "Scraping year/month: 2016/12\n"
     ]
    }
   ],
   "source": [
    "# Possible way to grab data for range of months and years\n",
    "for year in range(2015, 2017):\n",
    "    for month in range(1, 13):\n",
    "        print 'Scraping year/month: {}/{}'.format(year, month)\n",
    "        r = requests.get('https://data.police.uk/api/crimes-no-location?category=all-crime&force=avon-and-somerset&date={}-{}'.format(year, month))\n",
    "        collection.insert_many(r.json())"
   ]
  },
  {
   "cell_type": "code",
   "execution_count": 29,
   "metadata": {},
   "outputs": [
    {
     "name": "stdout",
     "output_type": "stream",
     "text": [
      "{u'_id': ObjectId('589e0e160310e901de42e783'),\n",
      " u'category': u'public-order',\n",
      " u'context': u'',\n",
      " u'id': 24587102,\n",
      " u'location': None,\n",
      " u'location_subtype': u'',\n",
      " u'location_type': None,\n",
      " u'month': u'2013-06',\n",
      " u'outcome_status': {u'category': u'Court result unavailable',\n",
      "                     u'date': u'2014-04'},\n",
      " u'persistent_id': u'0842db58ea7e0298d7528aa18d103f3b34e249435ba4c1c7feffd65da5f4b8d9'}\n",
      "{u'_id': ObjectId('589e0e170310e901de42e78b'),\n",
      " u'category': u'public-order',\n",
      " u'context': u'',\n",
      " u'id': 25758751,\n",
      " u'location': None,\n",
      " u'location_subtype': u'',\n",
      " u'location_type': None,\n",
      " u'month': u'2013-07',\n",
      " u'outcome_status': {u'category': u'Under investigation', u'date': u'2013-07'},\n",
      " u'persistent_id': u'a7d07d4cd6ba0f4a886ba12d0ff48a43b43039535eaa6a5b13569f1936cda98e'}\n",
      "{u'_id': ObjectId('589e0e190310e901de42e7a0'),\n",
      " u'category': u'public-order',\n",
      " u'context': u'',\n",
      " u'id': 26992793,\n",
      " u'location': None,\n",
      " u'location_subtype': u'',\n",
      " u'location_type': None,\n",
      " u'month': u'2013-09',\n",
      " u'outcome_status': {u'category': u'Court result unavailable',\n",
      "                     u'date': u'2014-03'},\n",
      " u'persistent_id': u'a12b6ddf39326c40ebdd1aac950e19d8fb8ef6e65e229bd3fd2f22b9b6a33814'}\n",
      "{u'_id': ObjectId('589e0e190310e901de42e7a1'),\n",
      " u'category': u'public-order',\n",
      " u'context': u'',\n",
      " u'id': 26992794,\n",
      " u'location': None,\n",
      " u'location_subtype': u'',\n",
      " u'location_type': None,\n",
      " u'month': u'2013-09',\n",
      " u'outcome_status': {u'category': u'Offender given community sentence',\n",
      "                     u'date': u'2013-10'},\n",
      " u'persistent_id': u'151f3b3eea51a8f6c850bbdb7e942845b2d31cc2782efb0e761e0abff633e045'}\n",
      "{u'_id': ObjectId('589e0e6a0310e901de42e814'),\n",
      " u'category': u'public-order',\n",
      " u'context': u'',\n",
      " u'id': 24587102,\n",
      " u'location': None,\n",
      " u'location_subtype': u'',\n",
      " u'location_type': None,\n",
      " u'month': u'2013-06',\n",
      " u'outcome_status': {u'category': u'Court result unavailable',\n",
      "                     u'date': u'2014-04'},\n",
      " u'persistent_id': u'0842db58ea7e0298d7528aa18d103f3b34e249435ba4c1c7feffd65da5f4b8d9'}\n"
     ]
    }
   ],
   "source": [
    "import pprint as pp\n",
    "\n",
    "for item in collection.find({'category': 'public-order'}).limit(5):\n",
    "    pp.pprint(item)"
   ]
  },
  {
   "cell_type": "code",
   "execution_count": 30,
   "metadata": {
    "collapsed": true
   },
   "outputs": [],
   "source": [
    "# Remember to close the connection\n",
    "client.close()"
   ]
  }
 ],
 "metadata": {
  "kernelspec": {
   "display_name": "Python 2",
   "language": "python",
   "name": "python2"
  },
  "language_info": {
   "codemirror_mode": {
    "name": "ipython",
    "version": 2
   },
   "file_extension": ".py",
   "mimetype": "text/x-python",
   "name": "python",
   "nbconvert_exporter": "python",
   "pygments_lexer": "ipython2",
   "version": "2.7.13"
  }
 },
 "nbformat": 4,
 "nbformat_minor": 1
}
