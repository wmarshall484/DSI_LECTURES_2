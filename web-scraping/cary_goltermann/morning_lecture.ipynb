{
 "cells": [
  {
   "cell_type": "markdown",
   "metadata": {
    "slideshow": {
     "slide_type": "slide"
    }
   },
   "source": [
    "# Web Scraping\n",
    "<br>\n",
    "## MongoDB\n",
    "<br>\n",
    "### Cary Goltermann"
   ]
  },
  {
   "cell_type": "markdown",
   "metadata": {
    "slideshow": {
     "slide_type": "subslide"
    }
   },
   "source": [
    "# Objectives\n",
    "\n",
    "1. Understand motivation for web scraping:\n",
    "  * What does a web data pipeline look like?\n",
    "  * How should we store data from the web?\n",
    "2. Know high level differences between NoSQL and SQL.\n",
    "3. Perform basic operations using Mongo Shell."
   ]
  },
  {
   "cell_type": "markdown",
   "metadata": {
    "collapsed": true,
    "slideshow": {
     "slide_type": "slide"
    }
   },
   "source": [
    "<center><h2>The Reality of Scraping</h2></center><br>\n",
    "<center><img src=\"images/scraping_meme.png\" style=\"width: 800px\"></center>"
   ]
  },
  {
   "cell_type": "markdown",
   "metadata": {
    "slideshow": {
     "slide_type": "subslide"
    }
   },
   "source": [
    "# Why do we scrape the web?\n",
    "\n",
    "* Realistically, data that you want to study won't always be avaliable to you in the form of a curated data set.\n",
    "* Need to go to the internets to find interesting data:\n",
    "    * From an existing company\n",
    "    * Text for NLP\n",
    "    * Images"
   ]
  },
  {
   "cell_type": "markdown",
   "metadata": {
    "slideshow": {
     "slide_type": "subslide"
    }
   },
   "source": [
    "<center><h2>Web Data Pipeline</h2></center><br>\n",
    "<center><img src=\"images/web_data_pipeline.png\" style=\"width: 800px\"></center>"
   ]
  },
  {
   "cell_type": "markdown",
   "metadata": {
    "slideshow": {
     "slide_type": "slide"
    }
   },
   "source": [
    "# Storing Data from the Web\n",
    "\n",
    "* We already know how to store data -> SQL (RDBMS)."
   ]
  },
  {
   "cell_type": "markdown",
   "metadata": {
    "slideshow": {
     "slide_type": "fragment"
    }
   },
   "source": [
    "### Question:  Individual - 1 min\n",
    "* Why wouldn't SQL necessarily be the best tool for storing data that we retrieve from the web?"
   ]
  },
  {
   "cell_type": "markdown",
   "metadata": {
    "slideshow": {
     "slide_type": "fragment"
    }
   },
   "source": [
    "### Data are MESSY! Especially when you find them online!\n",
    "* Why? A site might:\n",
    "    * have changed the way the reference data internally\n",
    "    * have different conventions team-to-team, or even developer-to-developer\n",
    "    * deprecated old versions of sites but still have legacy code maintaining them"
   ]
  },
  {
   "cell_type": "markdown",
   "metadata": {
    "slideshow": {
     "slide_type": "slide"
    }
   },
   "source": [
    "# Why Not SQL?\n",
    "\n",
    "### Question: Pair - 2 mins\n",
    "* Given these aspects of online data, why might using SQL be hard for data collection?"
   ]
  },
  {
   "cell_type": "markdown",
   "metadata": {
    "slideshow": {
     "slide_type": "fragment"
    }
   },
   "source": [
    "### SCHEMAS\n",
    "* You need a schema, a priori, when setting up a relational database.\n",
    "* This might be difficult to impossible to ahve without looking at all of the data you want to scrape.\n",
    "* Catch 22, you need all your data to figure out the schema, but you need the schema so you can make a database to store your data."
   ]
  },
  {
   "cell_type": "markdown",
   "metadata": {
    "slideshow": {
     "slide_type": "slide"
    }
   },
   "source": [
    "# NoSQL\n",
    "\n",
    "* Stands for **N**ot **o**nly **SQL**. MongoDB is a flavor of NoSQL, like PosgreSQL is a flavor of SQL.\n",
    "    * A NoSQL paradigm may be preferable to SQL because it is schemaless.\n",
    "    * Great for storing unstructured data, as we may find on the web!\n",
    "    * MongoDB is a document-oriented DBMS."
   ]
  },
  {
   "cell_type": "markdown",
   "metadata": {
    "slideshow": {
     "slide_type": "subslide"
    }
   },
   "source": [
    "<center><h2>Centered around \"Documents\"</h2></center><br>\n",
    "<center><img src=\"images/document_based_storage.png\" style=\"width: 800px\"></center>"
   ]
  },
  {
   "cell_type": "markdown",
   "metadata": {
    "slideshow": {
     "slide_type": "slide"
    }
   },
   "source": [
    "<center><h1>Different Usage Methodologies,</h1></center>\n",
    "<center><h1>Different Databases</h1></center> "
   ]
  },
  {
   "cell_type": "markdown",
   "metadata": {
    "slideshow": {
     "slide_type": "subslide"
    }
   },
   "source": [
    "# SQL Methodology\n",
    "\n",
    "Want to prevent reduncancy in data by having tables with unique information and relations between them (normalized data).\n",
    "\n",
    "* Creates a framework for querying with joins.\n",
    "* Makes it easier to update database. Only ever have to change information in a single place.\n",
    "* This can result in \"simple\" queries being slower, but more complex queries are often faster."
   ]
  },
  {
   "cell_type": "markdown",
   "metadata": {
    "slideshow": {
     "slide_type": "subslide"
    }
   },
   "source": [
    "# Mongo Methodology\n",
    "\n",
    "Document based storage system. Does not enforce normalized data. Can have data redundancies in documents (denormalized data).\n",
    "* No joins.\n",
    "* A change to database generally results in needing to change many documents.\n",
    "* Since there is redundancy in the documents, simple queries are generally faster. But complex queries are often slower."
   ]
  },
  {
   "cell_type": "markdown",
   "metadata": {
    "slideshow": {
     "slide_type": "subslide"
    }
   },
   "source": [
    "<center><h2>SQL vs. Mongo\"</h2></center><br>\n",
    "<center><img src=\"images/sql_vs_mongo_table.png\" style=\"width: 900px\"></center>"
   ]
  },
  {
   "cell_type": "markdown",
   "metadata": {
    "slideshow": {
     "slide_type": "slide"
    }
   },
   "source": [
    "## Connecting to Mongo\n",
    "\n",
    "In practice, there two main ways that you will be connecting with Mongo:\n",
    "* From Python\n",
    "* From the console - shell\n",
    "    \n",
    "<center><img src=\"images/mongo_clients.png\" style=\"width: 500px\"></center>"
   ]
  },
  {
   "cell_type": "markdown",
   "metadata": {
    "slideshow": {
     "slide_type": "subslide"
    }
   },
   "source": [
    "## Mongo Clients\n",
    "\n",
    "Both the Mongo shell and PyMongo require a Mongo server to be running. In practice this will require you to start a Mongo Daemon process. To do this exectute the command `mongod` at the terminal.\n",
    "\n",
    "* Note: The Mongo daemon will need to occupy the terminal that you started it in for the life of the server session. Read: run `mongod` in a seperate terminal tab (or tmux).\n",
    "\n",
    "Now we're going to explore the interacting with the mongo shell. This is not the main way that you'll be interacting with mongo while scraping, we have Python for that. But it's good to know how to issue queries from the shell for various reasons.\n",
    "\n",
    "* Check slack for command to connect to remote Mongo server."
   ]
  },
  {
   "cell_type": "markdown",
   "metadata": {
    "slideshow": {
     "slide_type": "slide"
    }
   },
   "source": [
    "## Mongo Shell Demo Code\n",
    "\n",
    "#### Using Mongo - General Commands for Inspecting Mongo\n",
    "\n",
    "```javascript\n",
    "help                        // List top level mongo commands\n",
    "\n",
    "db.help()                   // List database level mongo commands\n",
    "\n",
    "db.<collection name>.help() // List collection level mongo commands.\n",
    "\n",
    "show dbs                    // Get list of databases on your system\n",
    "\n",
    "use <database name>         // Change current database\n",
    "\n",
    "show collections            // List collections in current database\n",
    "```"
   ]
  },
  {
   "cell_type": "markdown",
   "metadata": {
    "slideshow": {
     "slide_type": "subslide"
    }
   },
   "source": [
    "## Inserting\n",
    "\n",
    "Once you're using a database you refer to it with the name **db**. Collections within databases are accessible through dot notation.\n",
    "\n",
    "```javascript\n",
    "db.users.insert({ name: 'Jon', age: '45', friends: [ 'Henry', 'Ashley']})\n",
    "\n",
    "db.getCollectionNames()  // Another way to get collection list\n",
    "\n",
    "db.users.insert({ name: 'Ashley', age: '37', friends: [ 'Jon', 'Henry']})\n",
    "db.users.insert({ name: 'Frank', age: '17',\n",
    "                  friends: [ 'Billy'], car : 'Civic'})\n",
    "\n",
    "db.users.find()\n",
    "```\n",
    "* Note: The three documents that we inserted into the above database didn't all have the same fields.\n",
    "* Note: Mongo creates an ` _id` field for each document if one isn't provided."
   ]
  },
  {
   "cell_type": "markdown",
   "metadata": {
    "slideshow": {
     "slide_type": "subslide"
    }
   },
   "source": [
    "## Querying\n",
    "\n",
    "```javascript\n",
    "db.users.find({ name: 'Jon'})               // find by single field\n",
    "\n",
    "db.users.find({ car: { $exists : true } })  // find by presence of field\n",
    "\n",
    "db.users.find({ friends: 'Henry' })         // find by value in array\n",
    "\n",
    "db.users.find({}, { name: true })   // field selection (only return name)\n",
    "```\n",
    "\n",
    "A quick way to figure out how to write a Mongo query is to think about how you would do it in SQL and check out a resource like this Mongo endorsed [conversion guide](https://docs.mongodb.com/manual/reference/sql-comparison/#create-and-alter), or use something like a [query translator](http://www.querymongo.com/)."
   ]
  },
  {
   "cell_type": "markdown",
   "metadata": {
    "slideshow": {
     "slide_type": "subslide"
    }
   },
   "source": [
    "## Updating\n",
    "\n",
    "```javascript\n",
    "// replaces friends array\n",
    "db.users.update({name: \"Jon\"}, { $set: {friends: [\"Phil\"]}})\n",
    "\n",
    "// adds to friends array\n",
    "db.users.update({name: \"Jon\"}, { $push: {friends: \"Susie\"}})   \n",
    "\n",
    "// upsert\n",
    "db.users.update({name: \"Stevie\"}, { $push: {friends: \"Nicks\"}}, true)\n",
    "\n",
    "// multiple updates\n",
    "db.users.update({}, { $set: { activated : false } }, false, true)       \n",
    "```"
   ]
  },
  {
   "cell_type": "markdown",
   "metadata": {
    "slideshow": {
     "slide_type": "subslide"
    }
   },
   "source": [
    "## Importing\n",
    "\n",
    "To import existing data into a mongo database one uses `mongoimport` at the command line. In this way mongo will accept a number of data types: JSON, CSV, and TSV.\n",
    "\n",
    "```\n",
    "mongoimport --db tweets --collection coffee --file coffee-tweets.json\n",
    "```\n",
    "\n",
    "Now that we have some larger data we can see that returns from queries are not always so small.\n",
    "\n",
    "```javascript\n",
    "use tweets\n",
    "db.coffee.find()\n",
    "```"
   ]
  },
  {
   "cell_type": "markdown",
   "metadata": {
    "slideshow": {
     "slide_type": "subslide"
    }
   },
   "source": [
    "## Cursor\n",
    "\n",
    "When the return from a query will display up to the first 20 documents, after that you will need to type `it` to get more. The cursor that it returns is actually an object that has many methods implemented on it and supports the command `it` to iterate through more return items.\n",
    "\n",
    "```javascript\n",
    "db.coffee.find().count()      // 122\n",
    "\n",
    "db.coffee.find().limit(2)     // Only two documents\n",
    "\n",
    "// Top three users by followers count\n",
    "db.coffee.find().sort({ 'user.followers_count' : -1}).limit(3)\n",
    "```"
   ]
  },
  {
   "cell_type": "markdown",
   "metadata": {
    "slideshow": {
     "slide_type": "subslide"
    }
   },
   "source": [
    "## Iteration\n",
    "\n",
    "MongoDB also has a flexible shell/driver. This allows you take some action based on a query or update documents. You can use an iterator on the cursor to go document by document. In the Javascript shell we can do this with Javascript's `forEach`. `forEach` is similar to Python's iteration with the `for` loop; however, Javascript actually has a more functional approach to this type of iteration and requires that you pass a callback, a function, similar to `map` and `reduce`.\n",
    "\n",
    "```javascript\n",
    "db.coffee.find().forEach(function(doc) {\n",
    "    doc.entities.urls.forEach(function(url) {\n",
    "        db.urls.update({ 'url': url }, { $push: { 'user': doc.user } },\n",
    "                       true)\n",
    "    });\n",
    "});\n",
    "```"
   ]
  },
  {
   "cell_type": "markdown",
   "metadata": {
    "slideshow": {
     "slide_type": "subslide"
    }
   },
   "source": [
    "## Aggregation\n",
    "\n",
    "Aggregations in Mongo end up being way less pretty than in SQL/Pandas. Let's just bite the bullet and take a look:\n",
    "\n",
    "```\n",
    "db.coffee.aggregate( [ { $group :\n",
    "    {\n",
    "        _id: \"$filter_level\",\n",
    "        count: { $sum: 1 }\n",
    "    }\n",
    "}])\n",
    "```\n",
    "\n",
    "Here we are first declaring that we're going to do some sort of grouping operation. Then, as Mongo desires everything to have an `_id` field, we specify that the `_id` is going to be the filter level. And then we're going to perform a sum over each level counting 1 for each observation. This information is going to be stored in a field called `count`. What do we get back?"
   ]
  },
  {
   "cell_type": "markdown",
   "metadata": {
    "slideshow": {
     "slide_type": "subslide"
    }
   },
   "source": [
    "## Aggregation Cont.\n",
    "\n",
    "We can also do more complicated stuff as well. Here's a query that returns the average number of friends users in this dataset by country. We need to access the country code field of the place field, but that is easy with an object oriented language like JS.\n",
    "\n",
    "```\n",
    "db.coffee.aggregate( [ { $group :\n",
    "    {\n",
    "        _id: \"$place.country_code\",\n",
    "        averageFriendCount: { $max: \"$user.friends_count\" }\n",
    "    }\n",
    "}])\n",
    "```\n",
    "\n",
    "For a guide on how to convert from an SQL style aggregation to a Mongo style aggreagetion, check out this [aggreagtion conversion guide](https://docs.mongodb.com/manual/reference/sql-aggregation-comparison)."
   ]
  },
  {
   "cell_type": "markdown",
   "metadata": {
    "slideshow": {
     "slide_type": "slide"
    }
   },
   "source": [
    "# Objectives\n",
    "\n",
    "1. Understand motivation for web scraping:\n",
    "  * What does a web data pipeline look like?\n",
    "  * How should we store data from the web?\n",
    "2. Know high level differences between NoSQL and SQL.\n",
    "3. Perform basic operations using Mongo Shell."
   ]
  }
 ],
 "metadata": {
  "celltoolbar": "Slideshow",
  "kernelspec": {
   "display_name": "Python 2",
   "language": "python",
   "name": "python2"
  },
  "language_info": {
   "codemirror_mode": {
    "name": "ipython",
    "version": 2
   },
   "file_extension": ".py",
   "mimetype": "text/x-python",
   "name": "python",
   "nbconvert_exporter": "python",
   "pygments_lexer": "ipython2",
   "version": "2.7.11"
  }
 },
 "nbformat": 4,
 "nbformat_minor": 1
}
