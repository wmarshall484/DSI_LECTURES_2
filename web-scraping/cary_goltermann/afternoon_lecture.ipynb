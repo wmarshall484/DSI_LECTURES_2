{
 "cells": [
  {
   "cell_type": "markdown",
   "metadata": {
    "slideshow": {
     "slide_type": "skip"
    }
   },
   "source": [
    "# Web Scraping\n",
    "<br>\n",
    "## Requests, BeautifulSoup & PyMongo\n",
    "<br>\n",
    "### Cary Goltermann"
   ]
  },
  {
   "cell_type": "markdown",
   "metadata": {
    "slideshow": {
     "slide_type": "skip"
    }
   },
   "source": [
    "# Afternoon Objectives\n",
    "\n",
    "1. Understand the process of getting data from the web.\n",
    "2. Know the basics of HTML/CSS:\n",
    "    * Know how to pull desired data from web pages.\n",
    "3. Be able to use existing API's to get fetch pre-formatted data."
   ]
  },
  {
   "cell_type": "markdown",
   "metadata": {
    "slideshow": {
     "slide_type": "skip"
    }
   },
   "source": [
    "### Internet vs. World Wide Web\n",
    "\n",
    "* The internet is commonly refered to as a network of networks. It is the infrastructure that allows networks all around the world to connect with one another. There are many different protocols to transfer information within this larger, meta-network.\n",
    "* The World Wide Web, or Web, provides one of the ways that data can be transfered over the internet. Uses a **U**niform **R**esource **L**ocator, URL, to specify the location, within the internet, of a document.\n",
    "\n",
    "<center><img src=\"images/url.png\" style=\"width: 600px\"></center>\n",
    "    \n",
    "* Documents on the web are generally written in **H**yper**T**ext **M**arkup **L**anguage, HTML, which can be natively viewed by browsers, the tool that we use to browse the web."
   ]
  },
  {
   "cell_type": "markdown",
   "metadata": {
    "slideshow": {
     "slide_type": "skip"
    }
   },
   "source": [
    "### Communication on the Web\n",
    "\n",
    "* Information is transmitted around the web through a number of protocols. The main one that you will see is the **H**yper**T**ext **T**ransfer **P**rotocol, HTTP.\n",
    "* These transfers, called **requests**, are initiated in a number of ways, but always begin with the client, read: you at your browser.\n",
    "\n",
    "<center><img src=\"images/requests.png\" style=\"width: 600px\"></center>"
   ]
  },
  {
   "cell_type": "markdown",
   "metadata": {
    "slideshow": {
     "slide_type": "skip"
    }
   },
   "source": [
    "### Requests\n",
    "\n",
    "There are 4 main types of request that can be issued by your browser: \n",
    "* get\n",
    "* post\n",
    "* put\n",
    "* delete\n",
    "\n",
    "For web scraping purposes, you will almost always be using get requests. We will learn some more about the others in a couple of weeks during data products day."
   ]
  },
  {
   "cell_type": "markdown",
   "metadata": {
    "slideshow": {
     "slide_type": "skip"
    }
   },
   "source": [
    "# Scraping from a Web Page with Python\n",
    "\n",
    "* Scraping a web site basically comes down to making a request from Python and parsing through the HTML that is returned from each page.\n",
    "* For each of these tasks we have a Python library:\n",
    "    * `requests`, for making...well requests, and\n",
    "    * `bs4`, aka BeautifulSoup."
   ]
  },
  {
   "cell_type": "markdown",
   "metadata": {
    "slideshow": {
     "slide_type": "skip"
    }
   },
   "source": [
    "## Requests Library\n",
    "\n",
    "* The [requests](http://docs.python-requests.org/en/latest/index.html) library is designed to simplify the process of making http requests within Python.\n",
    "* The interface is mindbogglingly simple:\n",
    "    1. Instantiate a requests object to the request, this will mostly be a `get`, with the URL and optional parameters you'd like passed through the request.\n",
    "    2. That instance makes the results of the request available via attributes/methods."
   ]
  },
  {
   "cell_type": "code",
   "execution_count": 26,
   "metadata": {
    "slideshow": {
     "slide_type": "skip"
    }
   },
   "outputs": [
    {
     "data": {
      "text/plain": [
       "u'\\r\\n<!DOCTYPE html PUBLIC \"-//W3C//DTD XHTML 1.0 Transitional//EN\" \"http://www.w3.org/TR/xhtml1/DTD/xhtml1-transitional.dtd\">\\r\\n<html xmlns=\"http://www.w3.org/1999/xhtml\" lang=\"en-US\" xmlns:fb=\"http://www.facebook.com/2008/fbml\" xmlns:og=\"http://opengraphprotocol.org/schema/\">\\r\\n\\r\\n<head profile=\"http://gmpg.org/xfn/11\">\\r\\n<script src=\"//cdn.optimizely.com/js/195632799.js\"></script>\\r\\n\\r\\n<meta http-equiv=\"Content-Type\" content=\"text/html; charset=UTF-8\" />\\r\\n\\r\\n\\r\\n<title>Free &amp; Cheap Events &amp; Things to Do in the San Francisco Bay Area | Funcheap</title>\\r\\n\\r\\n<meta name=\"generator\" content=\"WordPress\" /> <!-- leave this for stats -->\\r\\n\\r\\n<link rel=\"stylesheet\" href=\"http://cdn.funcheap.com/wp-content/themes/arthemia-premium/style.css?v=1.6\" type=\"text/css\" media=\"screen\" />\\r\\n<link rel=\"stylesheet\" href=\"http://cdn.funcheap.com/wp-content/themes/arthemia-premium/madmenu.css?v=1.1\" type=\"text/css\" media=\"screen\" />\\r\\n<!--[if IE 6]>\\r\\n    <style type=\"text/css\">\\r\\n    body {\\r\\n        behavior:url(\"'"
      ]
     },
     "execution_count": 26,
     "metadata": {},
     "output_type": "execute_result"
    }
   ],
   "source": [
    "import requests\n",
    "fun_cheap = 'http://sf.funcheap.com/'\n",
    "r = requests.get(fun_cheap)\n",
    "r.text[:1000] # First 1000 characters of the HTML, stored on the \"text\" attribute"
   ]
  },
  {
   "cell_type": "markdown",
   "metadata": {
    "slideshow": {
     "slide_type": "skip"
    }
   },
   "source": [
    "## Getting Info from a Web Page\n",
    "\n",
    "* Now that we can gain easy access to the HMTL for a web page, we need some way to pull the desired content from it. Luckily there is already a system in place to do this.\n",
    "* With a combination of HMTL and CSS selectors we can identify the information on a HMTL page that we wish to retrieve and grab it with [BeautifulSoup](https://www.crummy.com/software/BeautifulSoup/bs4/doc/#searching-the-tree)."
   ]
  },
  {
   "cell_type": "markdown",
   "metadata": {
    "slideshow": {
     "slide_type": "skip"
    }
   },
   "source": [
    "# CSS Selectors\n",
    "\n",
    "* Cascading Style Sheet, or CSS, is the \"language\" used to make the items in a web page look better.\n",
    "* CSS allows for adding properties to specific part of a page, generally divided up into tags, e.g. `<tag_start> SOME STUFF </tag_end>`\n",
    "\n",
    "## Very cool resource for learning about CSS selectors: http://flukeout.github.io/"
   ]
  },
  {
   "cell_type": "markdown",
   "metadata": {
    "slideshow": {
     "slide_type": "skip"
    }
   },
   "source": [
    "## sffuncheap.com\n",
    "\n",
    "* Say we want to scrape all of the events, their description and cost.\n",
    "* How do we do this?"
   ]
  },
  {
   "cell_type": "markdown",
   "metadata": {
    "slideshow": {
     "slide_type": "skip"
    }
   },
   "source": [
    "### Let's take a the site\n",
    "\n",
    "What are we looking for:\n",
    "* Patterns in the way the site it put together.\n",
    "* If we can find a pattern we can algorithmically exploit it to get our scraping done.\n",
    "* Live demo of chrome dev tools!"
   ]
  },
  {
   "cell_type": "markdown",
   "metadata": {
    "slideshow": {
     "slide_type": "skip"
    }
   },
   "source": [
    "### Notes\n",
    "* If you look around the home page you'll see the current day and days in the near future.\n",
    "* If you click on one of those days the url will become: `sffuncheap.com/<year>/<month>/<day>`\n",
    "* This can be exploited."
   ]
  },
  {
   "cell_type": "code",
   "execution_count": 29,
   "metadata": {
    "scrolled": true,
    "slideshow": {
     "slide_type": "skip"
    }
   },
   "outputs": [
    {
     "data": {
      "text/plain": [
       "<!DOCTYPE html PUBLIC \"-//W3C//DTD XHTML 1.0 Transitional//EN\" \"http://www.w3.org/TR/xhtml1/DTD/xhtml1-transitional.dtd\">\\n\\n<html lang=\"en-US\" xmlns=\"http://www.w3.org/1999/xhtml\" xmlns:fb=\"http://www.facebook.com/2008/fbml\" xmlns:og=\"http://opengraphprotocol.org/schema/\">\\n<head profile=\"http://gmpg.org/xfn/11\">\\n<script src=\"//cdn.optimizely.com/js/195632799.js\"></script>\\n<meta content=\"text/html; charset=unicode-escape\" http-equiv=\"Content-Type\"/>\\n<title>Events for July 17, 2017 Archives - FunCheapSF.com</title>\\n<meta content=\"WordPress\" name=\"generator\"/> <!-- leave this for stats -->\\n<link href=\"http://cdn.funcheap.com/wp-content/themes/arthemia-premium/style.css?v=1.6\" media=\"screen\" rel=\"stylesheet\" type=\"text/css\"/>\\n<link href=\"http://cdn.funcheap.com/wp-content/themes/arthemia-premium/madmenu.css?v=1.1\" media=\"screen\" rel=\"stylesheet\" type=\"text/css\"/>\\n<!--[if IE 6]>\\r\\n    <style type=\"text/css\">\\r\\n    body {\\r\\n        behavior:url(\"http://cdn.funcheap.com/wp-content/themes/arthemia-premium/scripts/csshover2.htc\");\\r\\n    }\\r\\n    </style>\\r\\n<![endif]-->\\n<link href=\"http://sf.funcheap.com/feed/\" rel=\"alternate\" title=\"RSS 2.0\" type=\"application/rss+xml\"/>\\n<link href=\"http://sf.funcheap.com/feed/rss/\" rel=\"alternate\" title=\"RSS .92\" type=\"text/xml\"/>\\n<link href=\"http://sf.funcheap.com/feed/atom/\" rel=\"alternate\" title=\"Atom 0.3\" type=\"application/atom+xml\"/>\\n<link href=\"http://sf.funcheap.com/xmlrpc.php\" rel=\"pingback\"/>\\n<meta content=\"zh8rr_pd9WSkAHltEH9iyehX-16B4nRxilUSS0PNiUA\" name=\"google-site-verification\"/>\\n<link href=\"http://sf.funcheap.com/wp-content/themes/arthemia-premium/images/icons/favicon_fc.ico\" rel=\"icon\"/>\\n<link href=\"http://sf.funcheap.com/wp-content/themes/arthemia-premium/images/icons/favicon_fc.ico\" rel=\"shortcut icon\"/>\\n<style type=\"text/css\">\\n</style>\\n<!-- This site is optimized with the Yoast SEO plugin v3.8 - https://yoast.com/wordpress/plugins/seo/ -->\\n<link href=\"http://sf.funcheap.com/2017/07/17/\" rel=\"canonical\"/>\\n<link href=\"http://sf.funcheap.com/2017/07/17/page/2/\" rel=\"next\"/>\\n<link href=\"https://plus.google.com/111584757520812378310\" rel=\"publisher\"/>\\n<!-- / Yoast SEO plugin. -->\\n<link href=\"//s.w.org\" rel=\"dns-prefetch\"/>\\n<script type=\"text/javascript\">\\n\\t\\t\\twindow._wpemojiSettings = {\"baseUrl\":\"https:\\\\/\\\\/s.w.org\\\\/images\\\\/core\\\\/emoji\\\\/2.3\\\\/72x72\\\\/\",\"ext\":\".png\",\"svgUrl\":\"https:\\\\/\\\\/s.w.org\\\\/images\\\\/core\\\\/emoji\\\\/2.3\\\\/svg\\\\/\",\"svgExt\":\".svg\",\"source\":{\"concatemoji\":\"http:\\\\/\\\\/cdn.funcheap.com\\\\/wp-includes\\\\/js\\\\/wp-emoji-release.min.js?ver=4.8\"}};\\n\\t\\t\\t!function(a,b,c){function d(a){var b,c,d,e,f=String.fromCharCode;if(!k||!k.fillText)return!1;switch(k.clearRect(0,0,j.width,j.height),k.textBaseline=\"top\",k.font=\"600 32px Arial\",a){case\"flag\":return k.fillText(f(55356,56826,55356,56819),0,0),b=j.toDataURL(),k.clearRect(0,0,j.width,j.height),k.fillText(f(55356,56826,8203,55356,56819),0,0),c=j.toDataURL(),b===c&&(k.clearRect(0,0,j.width,j.height),k.fillText(f(55356,57332,56128,56423,56128,56418,56128,56421,56128,56430,56128,56423,56128,56447),0,0),b=j.toDataURL(),k.clearRect(0,0,j.width,j.height),k.fillText(f(55356,57332,8203,56128,56423,8203,56128,56418,8203,56128,56421,8203,56128,56430,8203,56128,56423,8203,56128,56447),0,0),c=j.toDataURL(),b!==c);case\"emoji4\":return k.fillText(f(55358,56794,8205,9794,65039),0,0),d=j.toDataURL(),k.clearRect(0,0,j.width,j.height),k.fillText(f(55358,56794,8203,9794,65039),0,0),e=j.toDataURL(),d!==e}return!1}function e(a){var c=b.createElement(\"script\");c.src=a,c.defer=c.type=\"text/javascript\",b.getElementsByTagName(\"head\")[0].appendChild(c)}var f,g,h,i,j=b.createElement(\"canvas\"),k=j.getContext&&j.getContext(\"2d\");for(i=Array(\"flag\",\"emoji4\"),c.supports={everything:!0,everythingExceptFlag:!0},h=0;h<i.length;h++)c.supports[i[h]]=d(i[h]),c.supports.everything=c.supports.everything&&c.supports[i[h]],\"flag\"!==i[h]&&(c.supports.everythingExceptFlag=c.supports.everythingExceptFlag&&c.supports[i[h]]);c.supports.everythingExceptFlag=c.supports.everythingExceptFlag&&!c.supports.flag,c.DOMReady=!1,c.readyCallback=function(){c.DOMReady=!0},c.supports.everything||(g=function(){c.readyCallback()},b.addEventListener?(b.addEventListener(\"DOMContentLoaded\",g,!1),a.addEventListener(\"load\",g,!1)):(a.attachEvent(\"onload\",g),b.attachEvent(\"onreadystatechange\",function(){\"complete\"===b.readyState&&c.readyCallback()})),f=c.source||{},f.concatemoji?e(f.concatemoji):f.wpemoji&&f.twemoji&&(e(f.twemoji),e(f.wpemoji)))}(window,document,window._wpemojiSettings);\\n\\t\\t</script>\\n<style type=\"text/css\">\\nimg.wp-smiley,\\nimg.emoji {\\n\\tdisplay: inline !important;\\n\\tborder: none !important;\\n\\tbox-shadow: none !important;\\n\\theight: 1em !important;\\n\\twidth: 1em !important;\\n\\tmargin: 0 .07em !important;\\n\\tvertical-align: -0.1em !important;\\n\\tbackground: none !important;\\n\\tpadding: 0 !important;\\n}\\n</style>\\n<link href=\"http://cdn.funcheap.com/wp-content/plugins/facebook-comments-for-wordpress/css/facebook-comments-hidewpcomments.css?ver=3.1\" id=\"fbComments_hideWpComments-css\" media=\"all\" rel=\"stylesheet\" type=\"text/css\"/>\\n<link href=\"http://cdn.funcheap.com/wp-content/plugins/facebook-comments-for-wordpress/css/facebook-comments-widgets.css?ver=4.8\" id=\"fbc_rc_widgets-style-css\" media=\"all\" rel=\"stylesheet\" type=\"text/css\"/>\\n<link href=\"http://cdn.funcheap.com/wp-content/plugins/media-credit/public/css/media-credit.css?ver=3.0.2\" id=\"media-credit-css\" media=\"all\" rel=\"stylesheet\" type=\"text/css\"/>\\n<link href=\"http://cdn.funcheap.com/wp-content/plugins/wp-email/email-css.css?ver=2.67.3\" id=\"wp-email-css\" media=\"all\" rel=\"stylesheet\" type=\"text/css\"/>\\n<link href=\"http://cdn.funcheap.com/wp-content/themes/arthemia-premium/pagenavi-css.css?ver=2.70\" id=\"wp-pagenavi-css\" media=\"all\" rel=\"stylesheet\" type=\"text/css\"/>\\n<!-- This site uses the Google Analytics by MonsterInsights plugin v5.5.4 - Universal enabled - https://www.monsterinsights.com/ -->\\n<script type=\"text/javascript\">\\n\\t(function(i,s,o,g,r,a,m){i['GoogleAnalyticsObject']=r;i[r]=i[r]||function(){\\n\\t\\t(i[r].q=i[r].q||[]).push(arguments)},i[r].l=1*new Date();a=s.createElement(o),\\n\\t\\tm=s.getElementsByTagName(o)[0];a.async=1;a.src=g;m.parentNode.insertBefore(a,m)\\n\\t})(window,document,'script','//www.google-analytics.com/analytics.js','__gaTracker');\\n\\n\\t__gaTracker('create', 'UA-172642-1', 'auto');\\n\\t__gaTracker('set', 'forceSSL', true);\\n\\t__gaTracker('send','pageview');\\n\\n</script>\\n<!-- / Google Analytics by MonsterInsights -->\\n<script src=\"http://cdn.funcheap.com/wp-includes/js/jquery/jquery.js?ver=1.12.4\" type=\"text/javascript\"></script>\\n<script src=\"http://cdn.funcheap.com/wp-includes/js/jquery/jquery-migrate.min.js?ver=1.4.1\" type=\"text/javascript\"></script>\\n<script type=\"text/javascript\">\\n/* <![CDATA[ */\\nvar toplytics = {\"json_url\":\"http:\\\\/\\\\/sf.funcheap.com\\\\/toplytics.json\"};\\n/* ]]> */\\n</script>\\n<script src=\"http://cdn.funcheap.com/wp-content/plugins/toplytics/js/toplytics.js?ver=4.8\" type=\"text/javascript\"></script>\\n<link href=\"http://sf.funcheap.com/wp-json/\" rel=\"https://api.w.org/\"/>\\n<link href=\"https://sf.funcheap.com/xmlrpc.php?rsd\" rel=\"EditURI\" title=\"RSD\" type=\"application/rsd+xml\"/>\\n<link href=\"http://cdn.funcheap.com/wp-includes/wlwmanifest.xml\" rel=\"wlwmanifest\" type=\"application/wlwmanifest+xml\"/>\\n<meta content=\"WordPress 4.8\" name=\"generator\"/>\\n<script type=\"text/javascript\">\\n\\t\\t(function () {\\n\\t\\t\\tvar xauth = document.createElement('script');\\n\\t\\t\\txauth.type = 'text/javascript';\\n\\t\\t\\txauth.async = true;\\n\\t\\t\\tvar host = 'http://sf.funcheap.com';\\n\\t\\t\\tif ('https:' == document.location.protocol) {\\n\\t\\t\\t\\thost = host.replace('http://', 'https://');\\n\\t\\t\\t}\\n\\t\\t\\txauth.src = host + '/presslabs.js?ts=' + Math.floor((Math.random() * 100000) + 1);\\n\\t\\t\\tvar s = document.getElementsByTagName('script')[0];\\n\\t\\t\\ts.parentNode.insertBefore(xauth, s);\\n\\t\\t})();\\n\\t</script>\\n<meta content=\"\" property=\"og:title\"/><meta content=\"FunCheapSF.com\" property=\"og:site_name\"/><meta content=\"http://sf.funcheap.com/burning-man-fire-sculpture-unveiling/\" property=\"og:url\"/><meta content=\"article\" property=\"og:type\"/><meta content=\"149344508436647\" property=\"fb:app_id\">\\n<script async=\"\" data-cfasync=\"false\" data-sumo-platform=\"wordpress\" data-sumo-site-id=\"74d5fb417b94b375ffa7f8b851bbe8b31c23adb8750d43bcfcc5ea1b8a475b48\" src=\"//load.sumome.com/\"></script> <style id=\"wp-custom-css\" type=\"text/css\">\\n\\t\\t\\tCome to the sneak preview of Flaming Lotus Girls 2009 Burning Man sculpture, \\u201cSoma\\u201d. Soma captures the essence of a neuron. Spinning balls of fire act as nuclei and dendrites extend up into the sky and reach down to the earth, emitting fire and light. The event lasts from 5pm to midnight and n addition to witnessing the unveiling of this amazing fire arts sculpture the evening will feature live bands, DJs, and a cash BBQ and bar.\\t\\t</style>\\n<style type=\"text/css\">\\r\\n/* Edits 12/21/11 */\\r\\n.cost_details {\\r\\n    font-weight:normal;\\r\\n    font-style:italic;\\r\\n}\\r\\nh3.url {\\r\\n    color:#505050;\\r\\n}\\r\\n\\r\\n\\r\\n/*---------- bubble tooltip -----------*/\\r\\na.tt{\\r\\n    position:relative;\\r\\n    z-index:24;\\r\\n    color:#369;\\r\\n    text-decoration:none;\\r\\n}\\r\\na.tt div{ display: none;  }\\r\\n\\r\\n/*background:; ie hack, something must be changed in a for ie to execute it*/\\r\\na.tt:hover{ z-index:25; color:#369; background:; }\\r\\na.tt:hover div.tooltip{\\r\\n    display:block;\\r\\n    position:absolute;\\r\\n    top:-5px; left:-10px;\\r\\n\\tpadding: 15px 0 0 0;\\r\\n\\twidth:200px;\\r\\n\\tcolor:#369;\\r\\n    text-align: center;\\r\\n\\tfilter: alpha(opacity:90);\\r\\n\\tKHTMLOpacity: 0.90;\\r\\n\\tMozOpacity: 0.90;\\r\\n\\topacity: 0.90;\\r\\n}\\r\\na.tt:hover div.top{\\r\\n\\tdisplay: block;\\r\\n\\tpadding: 30px 8px 0;\\r\\n    background: url(http://cdn.funcheap.com/wp-content/themes/arthemia-premium/images/bubble.png) no-repeat top;\\r\\n}\\r\\na.tt:hover div.middle{ /* different middle bg for stretch */\\r\\n\\tdisplay: block;\\r\\n\\tpadding: 0 8px;\\r\\n\\tbackground: url(http://cdn.funcheap.com/wp-content/themes/arthemia-premium/images/bubble_filler.png) repeat bottom;\\r\\n}\\r\\na.tt:hover div.bottom{\\r\\n\\tdisplay: block;\\r\\n\\tpadding:3px 8px 10px;\\r\\n\\tcolor:#369;\\r\\n    background: url(http://cdn.funcheap.com/wp-content/themes/arthemia-premium/images/bubble.png) no-repeat bottom;\\r\\n}\\r\\n.archive-meta {\\r\\n     font:100% Arial;\\r\\n     font-size:10px;\\r\\n     line-height:1.5em;\\r\\n     font-weight:bold;\\r\\n}\\r\\n.home-meta {\\r\\n     font:100% Arial;\\r\\n     font-size:10px;\\r\\n     line-height:1.5em;\\r\\n     font-weight:bold;\\r\\n}\\r\\n\\r\\n/* recurring event archive listing */\\r\\n#content.archive .recurring .tanbox {\\r\\nwidth: 560px;\\r\\nborder-bottom:#aaa 1px dotted;\\r\\npadding: 10px 1px 1px 7px;\\r\\nbackground: none;\\r\\n}\\r\\n</style>\\n<!-- Ad Manager -->\\n<script async=\"async\" src=\"https://www.googletagservices.com/tag/js/gpt.js\"></script>\\n<script>\\r\\n  var googletag = googletag || {};\\r\\n  googletag.cmd = googletag.cmd || [];\\r\\n</script>\\n<script type=\"text/javascript\">\\r\\ngoogletag.cmd.push(function() {\\r\\ngoogletag.defineSlot('/1063843/Top_Thin_Banner_940x54', [1, 1], 'div-gpt-ad-1387519013799-0').addService(googletag.pubads());\\r\\ngoogletag.defineSlot('/1063843/calendar_listing_inline_300x250', [300, 250], 'div-gpt-ad-1370026159345-0').addService(googletag.pubads());\\r\\ngoogletag.defineSlot('/1063843/FunCheap_Archive_Listing', [300, 250], 'div-gpt-ad-1370026159345-1').addService(googletag.pubads());\\r\\ngoogletag.defineSlot('/1063843/FunCheap_BelowSinglePost', [300, 250], 'div-gpt-ad-1370026159345-2').addService(googletag.pubads());\\r\\ngoogletag.defineSlot('/1063843/FunCheap_Header', [728, 90], 'div-gpt-ad-1370026159345-3').addService(googletag.pubads());\\r\\ngoogletag.defineSlot('/1063843/FunCheap_Sidebar', [300, 250], 'div-gpt-ad-1370026159345-4').addService(googletag.pubads());\\r\\ngoogletag.defineSlot('/1063843/Sidebar_160x600', [160, 600], 'div-gpt-ad-1370026159345-5').addService(googletag.pubads());\\r\\nvar myChannel = window.myChannel || \"\";\\r\\ngoogletag.pubads().set(\"adsense_channel_ids\", myChannel);\\r\\ngoogletag.pubads().setTargeting(\"pagetype\",\"datepage\");\\r\\ngoogletag.pubads().enableSingleRequest();\\r\\ngoogletag.enableServices();\\r\\n});\\r\\n    function GA_googleFillSlot(){ return; }\\r\\n</script>\\n<!-- END Ad Manager -->\\n<script>\\r\\n    var eventDate = \"\";\\r\\n    var eventCost = \"\";\\r\\n    var eventCategories = \"\";\\r\\n    </script>\\n</meta></head>\\n<body>\\n<script>\\r\\n  (function(i,s,o,g,r,a,m){i['GoogleAnalyticsObject']=r;i[r]=i[r]||function(){\\r\\n  (i[r].q=i[r].q||[]).push(arguments)},i[r].l=1*new Date();a=s.createElement(o),\\r\\n  m=s.getElementsByTagName(o)[0];a.async=1;a.src=g;m.parentNode.insertBefore(a,m)\\r\\n  })(window,document,'script','//www.google-analytics.com/analytics.js','ga');\\r\\n\\r\\n  ga('create', 'UA-43546512-1', 'funcheap.com');\\r\\n  ga('send', 'pageview', {\\r\\n   'dimension1': eventDate,\\r\\n   'dimension2': eventCost,\\r\\n   'dimension3': eventCategories\\r\\n  });\\r\\n\\r\\n</script>\\n<div class=\"clearfloat\" id=\"head\">\\n<div class=\"clearfloat\">\\n<div class=\"left\" id=\"logo\">\\n<a href=\"http://sf.funcheap.com\">\\n<img alt=\"FunCheap.com\" height=\"112\" src=\"http://cdn.funcheap.com/wp-content/themes/arthemia-premium/images/logo/funcheap_bannertop_oct09_2.gif\" width=\"930\"/></a>\\n</div>\\n<div class=\"clearfloat\"></div>\\n<div class=\"headerad\" style=\"width:890px;padding:5px;background-color: #ccc;margin:0 auto 7px auto;text-align:center;\">\\n<!-- FunCheap_Header -->\\n<div id=\"div-gpt-ad-1370026159345-3\" style=\"width:728px; height:90px;margin:0 auto;\">\\n<script type=\"text/javascript\">\\r\\ngoogletag.cmd.push(function() { googletag.display('div-gpt-ad-1370026159345-3'); });\\r\\n</script>\\n</div>\\n<!-- END OF AD SLOT FunCheap_Header -->\\n</div>\\n</div>\\n</div>\\n<div class=\"clearfloat\" id=\"navbar\">\\n<div id=\"madmenu\">\\n<ul>\\n<div class=\"li\"><ul class=\"menu\" id=\"menu-header-menu\"><li class=\"nav-home-icon nav-no-text menu-item menu-item-type-post_type menu-item-object-page menu-item-home menu-item-22534\" id=\"menu-item-22534\"><a href=\"http://sf.funcheap.com/\">Home</a></li>\\n<li class=\"menu-item menu-item-type-post_type menu-item-object-page menu-item-has-children menu-item-22546\" id=\"menu-item-22546\"><a href=\"http://sf.funcheap.com/events/\">Upcoming Events</a>\\n<ul class=\"sub-menu\">\\n<li class=\"menu-item menu-item-type-taxonomy menu-item-object-category menu-item-26315\" id=\"menu-item-26315\"><a href=\"http://sf.funcheap.com/category/event/top-pick/\">Top Picks of the Week</a></li>\\n<li class=\"menu-item menu-item-type-post_type menu-item-object-page menu-item-22543\" id=\"menu-item-22543\"><a href=\"http://sf.funcheap.com/events/san-francisco/\">San Francisco Calendar</a></li>\\n<li class=\"menu-item menu-item-type-post_type menu-item-object-page menu-item-22539\" id=\"menu-item-22539\"><a href=\"http://sf.funcheap.com/events/east-bay/\">East Bay Calendar</a></li>\\n<li class=\"menu-item menu-item-type-post_type menu-item-object-page menu-item-26316\" id=\"menu-item-26316\"><a href=\"http://sf.funcheap.com/events/\">Bay Area Calendar</a></li>\\n<li class=\"menu-item menu-item-type-taxonomy menu-item-object-category menu-item-508751\" id=\"menu-item-508751\"><a href=\"http://sf.funcheap.com/category/location/san-francisco-bay-area/north-bay/\">\\u2013 North Bay Events</a></li>\\n<li class=\"menu-item menu-item-type-taxonomy menu-item-object-category menu-item-508752\" id=\"menu-item-508752\"><a href=\"http://sf.funcheap.com/category/location/san-francisco-bay-area/south-bay/\">\\u2013 South Bay Events</a></li>\\n<li class=\"menu-item menu-item-type-taxonomy menu-item-object-category menu-item-508753\" id=\"menu-item-508753\"><a href=\"http://sf.funcheap.com/category/location/san-francisco-bay-area/peninsula/\">\\u2013 Peninsula Events</a></li>\\n</ul>\\n</li>\\n<li class=\"menu-item menu-item-type-post_type menu-item-object-page menu-item-271394\" id=\"menu-item-271394\"><a href=\"http://sf.funcheap.com/free-events/\">Free</a></li>\\n<li class=\"menu-item menu-item-type-post_type menu-item-object-page menu-item-136494\" id=\"menu-item-136494\"><a href=\"http://sf.funcheap.com/today/\">Today</a></li>\\n<li class=\"menu-item menu-item-type-post_type menu-item-object-page menu-item-136492\" id=\"menu-item-136492\"><a href=\"http://sf.funcheap.com/weekend/\">Weekend</a></li>\\n<li class=\"menu-item menu-item-type-post_type menu-item-object-page menu-item-22545\" id=\"menu-item-22545\"><a href=\"http://sf.funcheap.com/subscribe/\">Newsletter</a></li>\\n<li class=\"menu-item menu-item-type-post_type menu-item-object-page menu-item-329834\" id=\"menu-item-329834\"><a href=\"http://sf.funcheap.com/free-stuff/\">Win Tix</a></li>\\n<li class=\"nav-add-icon menu-item menu-item-type-post_type menu-item-object-page menu-item-has-children menu-item-22544\" id=\"menu-item-22544\"><a href=\"http://sf.funcheap.com/submit-form/\">Add Your Event</a>\\n<ul class=\"sub-menu\">\\n<li class=\"menu-item menu-item-type-post_type menu-item-object-page menu-item-167463\" id=\"menu-item-167463\"><a href=\"http://sf.funcheap.com/about/advertise/\">Advertise</a></li>\\n</ul>\\n</li>\\n</ul></div> </ul>\\n<form action=\"http://sf.funcheap.com/\" id=\"searchform\" method=\"get\">\\n<div id=\"search\">\\n<input class=\"search-input\" id=\"s\" name=\"s\" placeholder=\"Search Funcheap...\" type=\"search\" value=\"\"/>\\n</div>\\n</form> </div> <!-- /#madmenu -->\\n</div><!-- /#navbar -->\\n<!-- Top_Thin_Banner_940x54 -->\\n<div style=\"text-align:center;background-color:white;width: 950px;min-height:1px;margin: 0px auto;\">\\n<div id=\"div-gpt-ad-1387519013799-0\" style=\"text-align:center;background-color:black;width: 940px;min-height:1px;margin: 0px auto;\">\\n<script type=\"text/javascript\">\\r\\n    googletag.cmd.push(function() { googletag.display('div-gpt-ad-1387519013799-0'); });\\r\\n    </script>\\n</div>\\n</div>\\n<div class=\"clearfloat\" id=\"page\"> <!-- google_ad_section_start -->\\n<div class=\"clearfloat\" id=\"inner\"> <div class=\"archive\" id=\"content\">\\n<span id=\"map\"><a href=\"http://sf.funcheap.com/\">Home</a> \\xbb Archive by Day</span><h2 class=\"title\">Events for  July 17, 2017</h2>\\n<div class=\"clearfloat\">\\n<span class=\"left\"><a href=\"/2017/07/16/\">&lt; Sunday, July 16</a></span>\\n<span class=\"right\"><a href=\"/2017/07/18/\">Tuesday, July 18 &gt;</a></span>\\n<div style=\"clear:both\"></div>\\n<div class=\"archive_date_title\" style=\"background-color:white;margin:0px;margin-bottom:4px;padding:0px;\"><h3 style=\"background-color:black;color:white;margin:0px;padding:3px;font: 16px Arial;font-weight:bold;\">Monday<span style=\"font-weight:normal;\">, July 17</span></h3></div>\\n<div class=\"tanbox left\" style=\"background-color:white;\">\\n<span class=\"title\"><a href=\"http://sf.funcheap.com/clover-sonoma-milk-tasting-room-popup-free-cereal-coffee-closing-day/\" rel=\"bookmark\" title=\"Clover Sonoma Milk Tasting Room Pop-Up: Free Cereal &amp; Coffee | Final Day\">Clover Sonoma Milk Tasting Room Pop-Up: Free Cereal &amp; Coffee | Final Day</a></span>\\n<div class=\"meta archive-meta\">Monday, July 17 \\x96 8:00 am | \\n\\n\\n<span class=\"cost\">Cost: FREE</span> | <span>Clover Sonoma Milk Tasting Room Pop-up</span> </div>\\n<div class=\"thumbnail-wrapper\"><a href=\"http://sf.funcheap.com/clover-sonoma-milk-tasting-room-popup-free-cereal-coffee-closing-day/\" rel=\"bookmark\" title=\"Clover Sonoma Milk Tasting Room Pop-Up: Free Cereal &amp; Coffee | Final Day\"><img alt=\"Clover Sonoma Milk Tasting Room Pop-Up: Free Cereal &amp; Coffee | Final Day\" class=\"left\" src=\"http://cdn.funcheap.com/wp-content/uploads/2017/06/Screen-Shot-2017-06-06-at-10.40.54-AM1-175x130.png\"/></a></div><p>Clover Sonoma, the Bay Area\\u2019s favorite third-generation family-owned and operated dairy farm, has opened a Milk Tasting Room pop-up\\xa0in Hayes Valley, which will be open from June 5 through July 21, 2017. Clover Sonoma Milk Tasting Room June 5-July 21, 2017 Clover Sonoma Pop-up,\\xa0330 Fell ...</p></div>\\n<div class=\"tanbox left\" style=\"background-color:white;\">\\n<span class=\"title\"><a href=\"http://sf.funcheap.com/free-coworking-job-sunnyvale/\" rel=\"bookmark\" title=\"Free Co-working: Getting The Job Done | Sunnyvale\">Free Co-working: Getting The Job Done | Sunnyvale</a></span>\\n<div class=\"meta archive-meta\">Monday, July 17 \\x96 9:00 am | \\n\\n\\n<span class=\"cost\">Cost:</span> <a class=\"tt\">FREE* \\n\\t\\t<div class=\"tooltip\">\\n<div class=\"top\"></div>\\n<div class=\"middle\">*Free but an RSVP is required. By registering you confirm understanding that you will be added to their\\xa0 community.</div>\\n<div class=\"bottom\"></div>\\n</div></a> | <span>Innoworld Silicon Valley</span> </div>\\n<div class=\"thumbnail-wrapper\"><a href=\"http://sf.funcheap.com/free-coworking-job-sunnyvale/\" rel=\"bookmark\" title=\"Free Co-working: Getting The Job Done | Sunnyvale\"><img alt=\"Free Co-working: Getting The Job Done | Sunnyvale\" class=\"left\" src=\"http://cdn.funcheap.com/wp-content/uploads/2017/07/DSC01951-175x130.jpg\"/></a></div>Innoworld Co-working Week is approaching and they invite all freelancers, entrepreneurs, consultants, and curious professionals who have never tried co-working, to join them for a full week of free co-working.\\nYou and your laptop are invited to work at their\\xa0desks and meet their\\xa0members to experience what ...</div>\\n<div class=\"tanbox left\" style=\"background-color:white;padding-bottom:10px;\">\\n<p>\\n<!-- FunCheap_Archive_Listing -->\\n<div id=\"div-gpt-ad-1370026159345-1\" style=\"width:300px; height:250px;\">\\n<script type=\"text/javascript\">\\r\\n                googletag.cmd.push(function() { googletag.display('div-gpt-ad-1370026159345-1'); });\\r\\n                </script>\\n</div>\\n</p>\\n</div>\\n<div class=\"tanbox left\" style=\"background-color:white;\">\\n<span class=\"title\"><a href=\"http://sf.funcheap.com/jack-daniels-popup-store-trims-southern-cooking-happy-hour-sf-2/\" rel=\"bookmark\" title=\"Jack Daniel\\u2019s Pop-Up Store: Trims, Southern Cooking &amp; Daily Demos | SF\">Jack Daniel\\u2019s Pop-Up Store: Trims, Southern Cooking &amp; Daily Demos | SF</a></span>\\n<div class=\"meta archive-meta\">Monday, July 17 \\x96 11:00 am | \\n\\n\\n<span class=\"cost\">Cost:</span> <a class=\"tt\">FREE* \\n\\t\\t<div class=\"tooltip\">\\n<div class=\"top\"></div>\\n<div class=\"middle\">*Free admission, bring money for food and drinks.</div>\\n<div class=\"bottom\"></div>\\n</div></a> | <span>930 Alabama St.</span> </div>\\n<div class=\"thumbnail-wrapper\"><a href=\"http://sf.funcheap.com/jack-daniels-popup-store-trims-southern-cooking-happy-hour-sf-2/\" rel=\"bookmark\" title=\"Jack Daniel\\u2019s Pop-Up Store: Trims, Southern Cooking &amp; Daily Demos | SF\"><img alt=\"Jack Daniel\\u2019s Pop-Up Store: Trims, Southern Cooking &amp; Daily Demos | SF\" class=\"left\" src=\"http://cdn.funcheap.com/wp-content/uploads/2017/07/JD_2825_SponsorshipCityGuide_R1_V1_JT-175x130.jpg\"/></a></div><p>Jack Daniel\\u2019s is bringing a taste of Lynchburg to San Francisco by constructing a pop-up General Store in the Mission. Starting July 16, the store will be open for one week only and give you an inside look at Jack Daniel\\u2019s. Experience a whiskey sensory ...</p></div>\\n<div class=\"tanbox left\" style=\"background-color:white;padding:3px 0;\"><table width=\"100%\"><tr><td style=\"width:66px\">3:00 pm</td><td><span class=\"title2\"><a href=\"http://sf.funcheap.com/tour-of-diego-riveras-1st-us-mural-union-square-36/\" rel=\"bookmark\" title=\"Tour of Diego Rivera\\u2019s 1st US Mural | Union Square\">Tour of Diego Rivera\\u2019s 1st US Mural | Union Square</a></span></td><td style=\"width:66px\">\\xa0\\xa0<a class=\"tt\">FREE*<div class=\"tooltip\">\\n<div class=\"top\"></div>\\n<div class=\"middle\">*Free, but an RSVP is required. Please note, the tour is limited to 25 people.</div>\\n<div class=\"bottom\"></div>\\n</div></a></td></tr></table></div>\\n<div class=\"tanbox left\" style=\"background-color:white;padding:3px 0;\"><table width=\"100%\"><tr><td style=\"width:66px\">6:30 pm</td><td><span class=\"title2\"><a href=\"http://sf.funcheap.com/laborfest2017-destruction-city-college-san-francisco-bernal-public-library/\" rel=\"bookmark\" title=\"LaborFest2017: The Destruction of City College of San Francisco | Bernal Public Library\">LaborFest2017: The Destruction of City College of San Francisco | Bernal Public Library</a></span></td><td style=\"width:66px\">\\xa0\\xa0FREE</td></tr></table></div>\\n<div class=\"tanbox left\" style=\"background-color:white;padding:3px 0;\"><table width=\"100%\"><tr><td style=\"width:66px\">6:30 pm</td><td><span class=\"title2\"><a href=\"http://sf.funcheap.com/the-book-of-greens-book-launch-omnivore-books/\" rel=\"bookmark\" title=\"\\u201cThe Book of Greens\\u201d Book Launch | Omnivore Books\">\\u201cThe Book of Greens\\u201d Book Launch | Omnivore Books</a></span></td><td style=\"width:66px\">\\xa0\\xa0FREE</td></tr></table></div>\\n<div class=\"tanbox left\" style=\"background-color:white;padding:3px 0;\"><table width=\"100%\"><tr><td style=\"width:66px\">7:30 pm</td><td><span class=\"title2\"><a href=\"http://sf.funcheap.com/free-sneak-preview-movie-dunkirk-sundance-kabuki-cinemas/\" rel=\"bookmark\" title=\"Free Sneak Preview Movie: \\u201cDunkirk\\u201d | Sundance Kabuki Cinemas\">Free Sneak Preview Movie: \\u201cDunkirk\\u201d | Sundance Kabuki Cinemas</a></span></td><td style=\"width:66px\">\\xa0\\xa0<a class=\"tt\">FREE*<div class=\"tooltip\">\\n<div class=\"top\"></div>\\n<div class=\"middle\">*RSVP code required; arrive early as admission is not guaranteed.</div>\\n<div class=\"bottom\"></div>\\n</div></a></td></tr></table></div>\\n<div class=\"tanbox left\" style=\"background-color:white;padding:3px 0;\"><table width=\"100%\"><tr><td style=\"width:66px\">7:30 pm</td><td><span class=\"title2\"><a href=\"http://sf.funcheap.com/free-sneak-preview-movie-dunkirk-amc-saratoga/\" rel=\"bookmark\" title=\"Free Sneak Preview Movie: Dunkirk | AMC Saratoga\">Free Sneak Preview Movie: Dunkirk | AMC Saratoga</a></span></td><td style=\"width:66px\">\\xa0\\xa0<a class=\"tt\">FREE*<div class=\"tooltip\">\\n<div class=\"top\"></div>\\n<div class=\"middle\">*RSVP code required; arrive early as admission is not guaranteed.</div>\\n<div class=\"bottom\"></div>\\n</div></a></td></tr></table></div>\\n<div class=\"tanbox left\" style=\"background-color:white;padding:3px 0;\"><table width=\"100%\"><tr><td style=\"width:66px\">8:00 pm</td><td><span class=\"title2\"><a href=\"http://sf.funcheap.com/haight-street-trivia-comedy-gaming-free-pizza-night-milk-bar-7/\" rel=\"bookmark\" title=\"Haight Street Trivia, Comedy, Gaming &amp; Free Pizza Night | Milk Bar\">Haight Street Trivia, Comedy, Gaming &amp; Free Pizza Night | Milk Bar</a></span></td><td style=\"width:66px\">\\xa0\\xa0FREE</td></tr></table></div>\\n<div class=\"tanbox left\" style=\"background-color:white;padding:3px 0;\"><table width=\"100%\"><tr><td style=\"width:66px\">8:30 pm</td><td><span class=\"title2\"><a href=\"http://sf.funcheap.com/garage-surf-jurassic-punk-trextasy-swedish-american-hall/\" rel=\"bookmark\" title=\"Win Tix: Garage Surf Jurassic Punk \\u201cT-Rextasy\\u201d | Swedish American Hall\">Win Tix: Garage Surf Jurassic Punk \\u201cT-Rextasy\\u201d | Swedish American Hall</a></span></td><td style=\"width:66px\">\\xa0\\xa0WIN</td></tr></table></div>\\n</div>\\n<div class=\"recurring clearfloat\" style=\"text-align:left;background-color:lightgrey;\"> <div class=\"archive_date_title\" style=\"background-color:white;margin:0px;margin-bottom:4px;padding:0px;\"><h3 style=\"background-color:black;color:white;margin:0px;padding:3px;line-height:14px;\">Every Monday</h3></div>\\n<div class=\"tanbox left\">\\n<span class=\"title\"><a href=\"http://sf.funcheap.com/event-series/november-project-san-francisco-monday-edition/\" rel=\"bookmark\" title=\"Free Monday Workout: Cardio &amp; Strength | Fort Mason\">Free Monday Workout: Cardio &amp; Strength | Fort Mason</a></span>\\n<div class=\"meta archive-meta\">Every Monday \\x96 6:30 am | \\n\\n\\n<span class=\"cost\">Cost: FREE</span> | <span>Fort Mason Green</span> </div>\\n<div class=\"thumbnail-wrapper\"><a href=\"http://sf.funcheap.com/event-series/november-project-san-francisco-monday-edition/\" rel=\"bookmark\" title=\"Free Monday Workout: Cardio &amp; Strength | Fort Mason\"><img alt=\"Free Monday Workout: Cardio &amp; Strength | Fort Mason\" class=\"left\" src=\"http://cdn.funcheap.com/wp-content/uploads/2014/07/photo1-175x130.jpg\"/></a></div>\\n<p>Every Monday, November Project San Francisco meets in Fort Mason for a combination of cardio and strength exercises that are sure to leave you stronger than the day before.\\xa0Come at 6:30 am for\\xa0hugs, sweat and cheers.\\xa0<br/>\\nThe workouts are always free and they encourage all athletic \\u2026</p>\\n</div>\\n<div class=\"tanbox left\">\\n<span class=\"title\"><a href=\"http://sf.funcheap.com/event-series/free-bagel-mondays-la-victoria-mission/\" rel=\"bookmark\" title=\"Free Bagel Mondays | Mission Dist.\">Free Bagel Mondays | Mission Dist.</a></span>\\n<div class=\"meta archive-meta\">Every Monday \\x96 8:00 am | \\n\\n\\n<span class=\"cost\">Cost: FREE</span> | <span>La Victoria Bakery</span> </div>\\n<div class=\"thumbnail-wrapper\"><a href=\"http://sf.funcheap.com/event-series/free-bagel-mondays-la-victoria-mission/\" rel=\"bookmark\" title=\"Free Bagel Mondays | Mission Dist.\"><img alt=\"Free Bagel Mondays | Mission Dist.\" class=\"left\" src=\"http://cdn.funcheap.com/wp-content/uploads/2011/02/bagels-naan-175x130.jpg\"/></a></div>\\n<p>There are a lot of kind-hearted folks in this city by the bay, but Danny Gabriner of Sour Flour is in the pantheon of kind folks.\\xa0<br/>\\nEvery Monday, he bakes and then gives away hundreds of free bagels\\xa0on 24th and Alabama Street.\\xa0Tasty and fresh, free handmade, \\u2026</p>\\n</div>\\n<div class=\"tanbox left\">\\n<span class=\"title\"><a href=\"http://sf.funcheap.com/event-series/haightashbury-musical-trip-60s-wild-sf-tour/\" rel=\"bookmark\" title=\"Haight-Ashbury: A Musical Trip of the \\u201960s | Wild SF Tour\">Haight-Ashbury: A Musical Trip of the \\u201960s | Wild SF Tour</a></span>\\n<div class=\"meta archive-meta\">Every Monday \\x96 11:00 am | \\n\\n\\n<span class=\"cost\">Cost:</span> <a class=\"tt\">FREE* \\n\\t\\t<div class=\"tooltip\">\\n<div class=\"top\"></div>\\n<div class=\"middle\">*Free, but reservations are required. The tour is technically pay-what-you-wish, with a suggested donation $10-$18 per person. There is a limited number of tickets, so reserve yours soon.</div>\\n<div class=\"bottom\"></div>\\n</div></a> | <span>Secret Location (SF)</span> </div>\\n<div class=\"thumbnail-wrapper\"><a href=\"http://sf.funcheap.com/event-series/haightashbury-musical-trip-60s-wild-sf-tour/\" rel=\"bookmark\" title=\"Haight-Ashbury: A Musical Trip of the '60s | Wild SF Tour\"><img alt=\"Haight-Ashbury: A Musical Trip of the '60s | Wild SF Tour\" class=\"left\" src=\"http://cdn.funcheap.com/wp-content/uploads/2016/02/haight-175x130.jpg\"/></a></div>\\n<p>The quirky, hip historians at Wild SF Tours invite you\\xa0for an unforgettable through the Hippie heyday of the Haight-Ashbury every Monday morning at 11 am.<br/>\\nArmed with a mini-guitar, your witty troubadour and historian-guide shares tales of Janis Joplin, the Grateful Dead, Hell\\u2019s Angels, the Diggers, \\u2026</p>\\n</div>\\n<div class=\"tanbox left\">\\n<span class=\"title\"><a href=\"http://sf.funcheap.com/event-series/game-hour-free-pizza-games-comedy-night-haight/\" rel=\"bookmark\" title=\"Game Hour: Free Pizza, Games &amp; Comedy Night | Haight\">Game Hour: Free Pizza, Games &amp; Comedy Night | Haight</a></span>\\n<div class=\"meta archive-meta\">Every Monday \\x96 5:00 pm | \\n\\n\\n<span class=\"cost\">Cost: FREE</span> | <span>Milk Bar</span> </div>\\n<div class=\"thumbnail-wrapper\"><a href=\"http://sf.funcheap.com/event-series/game-hour-free-pizza-games-comedy-night-haight/\" rel=\"bookmark\" title=\"Game Hour: Free Pizza, Games &amp; Comedy Night | Haight\"><img alt=\"Game Hour: Free Pizza, Games &amp; Comedy Night | Haight\" class=\"left\" src=\"http://cdn.funcheap.com/wp-content/uploads/2014/03/pizza-175x130.jpg\"/></a></div>\\n<p>Game Hour is a happy hour with free\\xa0pizza, video games, card games and board games held at Milk Bar every Monday. Look forward to favorites like Mortal Kombat, UFC and Cards Against Humanity.<br/>\\nWe also have a Fake Podcast hosted by Feel Woods and Brandon Stokes \\u2026</p>\\n</div>\\n<div class=\"tanbox left\">\\n<span class=\"title\"><a href=\"http://sf.funcheap.com/event-series/motown-mondays-madrone/\" rel=\"bookmark\" title=\"\\u201cMotown On Mondays\\u201d DJ Night | Madrone Art Bar\">\\u201cMotown On Mondays\\u201d DJ Night | Madrone Art Bar</a></span>\\n<div class=\"meta archive-meta\">Every Monday \\x96 6:00 pm | \\n\\n\\n<span class=\"cost\">Cost:</span> <a class=\"tt\">FREE* \\n\\t\\t<div class=\"tooltip\">\\n<div class=\"top\"></div>\\n<div class=\"middle\">*Free before 9pm, $3 after</div>\\n<div class=\"bottom\"></div>\\n</div></a> | <span>Madrone Art Bar</span> </div>\\n<div class=\"thumbnail-wrapper\"><a art=\"\" bar\"=\"\" dj=\"\" href=\"http://sf.funcheap.com/event-series/motown-mondays-madrone/\" madrone=\"\" mondays\"=\"\" motown=\"\" night=\"\" on=\"\" rel=\"bookmark\" title=\"\" |=\"\"><img alt=\"\" art=\"\" bar\"=\"\" class=\"left\" dj=\"\" madrone=\"\" mondays\"=\"\" motown=\"\" night=\"\" on=\"\" src=\"http://cdn.funcheap.com/wp-content/uploads/2013/09/1398457_10153516577385360_391433010_o1-175x130.jpg\" |=\"\"/></a></div>\\n<p>Every Monday at Madrone, dance the night away with hosts DJ Gordo Cabeza and Timoteo Gigante and resident DJs spinning originals, exclusive remixes, and close relatives of your favorite Motown songs during M.O.M. Motown on Mondays.<br/>\\nArrive early for Happy Hour featuring $1 off drafts and \\u2026</p>\\n</div>\\n<div class=\"tanbox left\">\\n<span class=\"title\"><a href=\"http://sf.funcheap.com/event-series/mondays-community-theater-sf/\" rel=\"bookmark\" title=\"2-for-1 Film Night at The New Parkway | Oakland\">2-for-1 Film Night at The New Parkway | Oakland</a></span>\\n<div class=\"meta archive-meta\">Every Monday \\x96 6:00 pm | \\n\\n\\n<span class=\"cost\">Cost:</span> <a class=\"tt\">$12* \\n\\t\\t<div class=\"tooltip\">\\n<div class=\"top\"></div>\\n<div class=\"middle\">*You get two for the price of one.</div>\\n<div class=\"bottom\"></div>\\n</div></a> | <span>The New Parkway</span> </div>\\n<div class=\"thumbnail-wrapper\"><a href=\"http://sf.funcheap.com/event-series/mondays-community-theater-sf/\" rel=\"bookmark\" title=\"2-for-1 Film Night at The New Parkway | Oakland\"><img alt=\"2-for-1 Film Night at The New Parkway | Oakland\" class=\"left\" src=\"http://cdn.funcheap.com/wp-content/uploads/2016/10/Movie-Young-people-sitting-in-multip-4656389811-175x130.jpg\"/></a></div>\\n<p>The New Parkway offers a two-for-one Mondays each week. The New Parkway Theater is a community-centered cinema and pub located in Oakland\\u2019s Uptown district.<br/>\\nSit back and relax in their cozy couches while watching their new releases, cult classics, and fabulous special programming. Enjoy delicious food \\u2026</p>\\n</div>\\n<div class=\"tanbox left\">\\n<span class=\"title\"><a href=\"http://sf.funcheap.com/event-series/musical-mondays-castro/\" rel=\"bookmark\" title=\"\\u201cMusical Mondays\\u201d Sing-Along At The Edge | Castro\">\\u201cMusical Mondays\\u201d Sing-Along At The Edge | Castro</a></span>\\n<div class=\"meta archive-meta\">Every Monday \\x96 7:00 pm | \\n\\n\\n<span class=\"cost\">Cost: FREE</span> | <span>The Edge</span> </div>\\n<div class=\"thumbnail-wrapper\"><a at=\"\" castro\"=\"\" edge=\"\" href=\"http://sf.funcheap.com/event-series/musical-mondays-castro/\" mondays\"=\"\" musical=\"\" rel=\"bookmark\" sing-along=\"\" the=\"\" title=\"\" |=\"\"><img alt=\"\" at=\"\" castro\"=\"\" class=\"left\" edge=\"\" mondays\"=\"\" musical=\"\" sing-along=\"\" src=\"http://cdn.funcheap.com/wp-content/uploads/2014/02/broadway_magazine_bye_bye_birdie_-_funk_-_honestly_sincere__874-175x130.jpg\" the=\"\" |=\"\"/></a></div>\\n<p>Start your week singing with Musical Mondays\\xa0or get over the hump with Musical Wednesdays at The Edge in the Castro, where they play all of your favorite musicals to sing and drink along with a different theme each week from 7 pm to 2 am\\xa0every \\u2026</p>\\n</div>\\n<div class=\"tanbox left\">\\n<span class=\"title\"><a href=\"http://sf.funcheap.com/event-series/circuit-hacking-night-learn-cool-electronics-mission-dist/\" rel=\"bookmark\" title=\"Circuit Hacking Night: Make Cool Things with Electronics | Mission Dist.\">Circuit Hacking Night: Make Cool Things with Electronics | Mission Dist.</a></span>\\n<div class=\"meta archive-meta\">Every Monday \\x96 7:30 pm | \\n\\n\\n<span class=\"cost\">Cost:</span> <a class=\"tt\">FREE* \\n\\t\\t<div class=\"tooltip\">\\n<div class=\"top\"></div>\\n<div class=\"middle\">*Instruction is free. Bring in your own kits, or pay only for the cost of the parts used -- kit prices range from $10 to $30.</div>\\n<div class=\"bottom\"></div>\\n</div></a> | <span>Noisebridge</span> </div>\\n<div class=\"thumbnail-wrapper\"><a href=\"http://sf.funcheap.com/event-series/circuit-hacking-night-learn-cool-electronics-mission-dist/\" rel=\"bookmark\" title=\"Circuit Hacking Night: Make Cool Things with Electronics | Mission Dist.\"><img alt=\"Circuit Hacking Night: Make Cool Things with Electronics | Mission Dist.\" class=\"left\" src=\"http://cdn.funcheap.com/wp-content/uploads/2012/02/395546_300451206676618_112120188843055_760963_1749283485_n1.jpg\"/></a></div>\\n<p>Learn to solder and learn to make cool things with electronics.\\xa0Hang out with cool hardware geeks at Noisebridge\\u2019s weekly Circuit Hacking Monday.<br/>\\nAll ages, all skill levels, and all are\\xa0welcome\\xa0at this weekly Monday night event to give you inspiration to hack that project you\\u2019ve always wanted \\u2026</p>\\n</div>\\n<div class=\"tanbox left\">\\n<span class=\"title\"><a href=\"http://sf.funcheap.com/event-series/popcorn-poker-movie-trivia-game-night-parkway/\" rel=\"bookmark\" title=\"Popcorn Poker: Movie Trivia Game Night | The New Parkway\">Popcorn Poker: Movie Trivia Game Night | The New Parkway</a></span>\\n<div class=\"meta archive-meta\">Every Monday \\x96 7:30 pm | \\n\\n\\n<span class=\"cost\">Cost:</span> <a class=\"tt\">FREE* \\n\\t\\t<div class=\"tooltip\">\\n<div class=\"top\"></div>\\n<div class=\"middle\">*It's free to watch and enjoy but it'll be $15 for a popcorn poker set.</div>\\n<div class=\"bottom\"></div>\\n</div></a> | <span>The New Parkway</span> </div>\\n<div class=\"thumbnail-wrapper\"><a href=\"http://sf.funcheap.com/event-series/popcorn-poker-movie-trivia-game-night-parkway/\" rel=\"bookmark\" title=\"Popcorn Poker: Movie Trivia Game Night | The New Parkway\"><img alt=\"Popcorn Poker: Movie Trivia Game Night | The New Parkway\" class=\"left\" src=\"http://cdn.funcheap.com/wp-content/uploads/2015/05/IMG_1377.36164434_std-175x130.jpg\"/></a></div>\\n<p>Bet and bluff your way to victory, make new frenemies, and remember all the movies you\\u2019ve forgotten with your host David Macarchick. It\\u2019s part movie trivia game show, part social tour de force. Two teams enter the popper, one only team pops to greatness.\\xa0There will \\u2026</p>\\n</div>\\n<div class=\"tanbox left\">\\n<span class=\"title\"><a href=\"http://sf.funcheap.com/event-series/move-free-comedy-night-light/\" rel=\"bookmark\" title=\"Free Comedy: Move Along, Nothing to See Here | Oakland\">Free Comedy: Move Along, Nothing to See Here | Oakland</a></span>\\n<div class=\"meta archive-meta\">Every Monday \\x96 8:00 pm | \\n\\n\\n<span class=\"cost\">Cost: FREE</span> | <span>The Night Light</span> </div>\\n<div class=\"thumbnail-wrapper\"><a href=\"http://sf.funcheap.com/event-series/move-free-comedy-night-light/\" rel=\"bookmark\" title=\"Free Comedy: Move Along, Nothing to See Here | Oakland\"><img alt=\"Free Comedy: Move Along, Nothing to See Here | Oakland\" class=\"left\" src=\"http://cdn.funcheap.com/wp-content/uploads/2013/02/night-light-175x130.png\"/></a></div>\\n<p>Enjoy a free comedy show every Monday at The Night Light in Jack London Square,\\xa0featuring your hosts\\xa0Joey Devine, Cameron Vanini, Ben Kolina and Gabby O\\u2019Poccia,\\xa0along with special guests every week.<br/>\\nThe show starts at 8 pm with a fresh lineup every week.</p>\\n</div>\\n<div class=\"tanbox left\">\\n<span class=\"title\"><a href=\"http://sf.funcheap.com/event-series/classical-revolution-chamber-music-jam-mission-dist/\" rel=\"bookmark\" title=\"\\u201cClassical Revolution\\u201d Chamber Music Jam | Mission Dist.\">\\u201cClassical Revolution\\u201d Chamber Music Jam | Mission Dist.</a></span>\\n<div class=\"meta archive-meta\">Every Monday \\x96 8:00 pm | \\n\\n\\n<span class=\"cost\">Cost:</span> <a class=\"tt\">FREE* \\n\\t\\t<div class=\"tooltip\">\\n<div class=\"top\"></div>\\n<div class=\"middle\">*Free, but a $5-20 donation is welcome to support the musicians.</div>\\n<div class=\"bottom\"></div>\\n</div></a> | <span>The Revolution Cafe</span> </div>\\n<div class=\"thumbnail-wrapper\"><a chamber=\"\" classical=\"\" dist.\"=\"\" href=\"http://sf.funcheap.com/event-series/classical-revolution-chamber-music-jam-mission-dist/\" jam=\"\" mission=\"\" music=\"\" rel=\"bookmark\" revolution\"=\"\" title=\"\" |=\"\"><img alt=\"\" chamber=\"\" class=\"left\" classical=\"\" dist.\"=\"\" jam=\"\" mission=\"\" music=\"\" revolution\"=\"\" src=\"http://cdn.funcheap.com/wp-content/uploads/2013/03/1048556_10152137405047510_990147375_o1-175x130.jpg\" |=\"\"/></a></div>\\n<p>\\u201cClassical Revolution\\u201d is a\\xa0weekly chamber music night\\xa0at the Mission District\\u2019s Revolution Cafe.<br/>\\nEach week, they feature different local and visiting musicians in a unique Chamber Jam format, where musicians get a chance to perform in a casual environment and audiences get to hear chamber music in \\u2026</p>\\n</div>\\n<div class=\"tanbox left\">\\n<span class=\"title\"><a href=\"http://sf.funcheap.com/event-series/ivy-league-free-comedy-monday-nights-albany/\" rel=\"bookmark\" title=\"Ivy League Free Comedy on Monday Nights | Albany\">Ivy League Free Comedy on Monday Nights | Albany</a></span>\\n<div class=\"meta archive-meta\">Every Monday \\x96 8:00 pm | \\n\\n\\n<span class=\"cost\">Cost: FREE</span> | <span>Ivy Room</span> </div>\\n<div class=\"thumbnail-wrapper\"><a href=\"http://sf.funcheap.com/event-series/ivy-league-free-comedy-monday-nights-albany/\" rel=\"bookmark\" title=\"Ivy League Free Comedy on Monday Nights | Albany\"><img alt=\"Ivy League Free Comedy on Monday Nights | Albany\" class=\"left\" src=\"http://cdn.funcheap.com/wp-content/uploads/2017/03/justin-lockwood-175x130.jpg\"/></a></div>\\n<p>Nobody likes Monday mornings, but everyone is going to love Monday nights. Join in for Ivy League Comedy every Monday at the Ivy Room. For the low, low price of free\\xa0you can see some of the best local and nationally touring comics as featured on \\u2026</p>\\n</div>\\n<div class=\"tanbox left\">\\n<span class=\"title\"><a href=\"http://sf.funcheap.com/event-series/kevin-wongs-funny-comedy-show-san-mateo/\" rel=\"bookmark\" title=\"\\u201cThe Secret Show\\u201d: Comedy Show at a Pub | San Mateo\">\\u201cThe Secret Show\\u201d: Comedy Show at a Pub | San Mateo</a></span>\\n<div class=\"meta archive-meta\">Every Monday \\x96 9:00 pm | \\n\\n\\n<span class=\"cost\">Cost: FREE</span> | <span>The Swingin' Door</span> </div>\\n<div class=\"thumbnail-wrapper\"><a a=\"\" at=\"\" comedy=\"\" href=\"http://sf.funcheap.com/event-series/kevin-wongs-funny-comedy-show-san-mateo/\" mateo\"=\"\" pub=\"\" rel=\"bookmark\" san=\"\" secret=\"\" show=\"\" show\":=\"\" the=\"\" title=\"\" |=\"\"><img a=\"\" alt=\"\" at=\"\" class=\"left\" comedy=\"\" mateo\"=\"\" pub=\"\" san=\"\" secret=\"\" show=\"\" show\":=\"\" src=\"http://cdn.funcheap.com/wp-content/uploads/2014/12/inside-175x130.jpg\" the=\"\" |=\"\"/></a></div>\\n<p>Kevin Wong\\xa0hosts a free weekly comedy night at The Swinging\\u2019 Door in San Mateo featuring comedians who\\xa0have appeared at the Punch Line, Cobb\\u2019s, San Jose Improv, and Tommy T\\u2019s.<br/>\\nIf you\\u2019re in the Peninsula, come on down to The Swingin\\u2019 Door for some free laughs every \\u2026</p>\\n</div>\\n</div>\\n<span class=\"left\"><a href=\"/2017/07/16/\">&lt; Sunday, July 16</a></span>\\n<span class=\"right\"><a href=\"/2017/07/18/\">Tuesday, July 18 &gt;</a></span>\\n<div style=\"clear:both\"></div>\\n</div>\\n<div id=\"sidebar\">\\n<!-- google_ad_section_start(weight=ignore) -->\\n<div id=\"sidebar-top\">\\n<div class=\"textwidget\"> <div id=\"sidebar-ads2\" style=\"margin-top:10px;\">\\n<!-- FunCheap_Sidebar -->\\n<div id=\"div-gpt-ad-1370026159345-4\" style=\"width:300px; height:250px;\">\\n<script type=\"text/javascript\">\\r\\ngoogletag.cmd.push(function() { googletag.display('div-gpt-ad-1370026159345-4'); });\\r\\n</script>\\n</div>\\n</div></div>\\n<h3>Sign Up For Funcheap Emails</h3> <div class=\"textwidget\"><!-- Begin MailChimp Signup Form -->\\n<link href=\"//cdn-images.mailchimp.com/embedcode/slim-081711.css\" rel=\"stylesheet\" type=\"text/css\">\\n<style type=\"text/css\">\\r\\n\\t#mc_embed_signup{background:#fff; clear:left; font:14px Helvetica,Arial,sans-serif;  width:480px;}\\r\\n#mc_embed_signup .button {clear:both; background-color: #0099FF; border: 0 none; border-radius:4px; color: #FFFFFF; cursor: pointer; display: inline-block; font-size:15px; font-weight: bold; height: 32px; line-height: 32px; margin: 0 5px 10px 0; padding:0; text-align: center; text-decoration: none; vertical-align: top; white-space: nowrap; width: auto;}\\r\\n#mc_embed_signup .button:hover {background-color:#777;}\\r\\n\\t/* Add your own MailChimp form style overrides in your site stylesheet or in this style block.\\r\\n\\t   We recommend moving this block and the preceding CSS link to the HEAD of your HTML file. */\\r\\n</style>\\n<div id=\"mc_embed_signup\">\\n<form action=\"http://funcheapSF.us1.list-manage.com/subscribe/post?u=f5339395efdcfe92ceca94fbe&amp;id=4a404fc7a1&amp;SOURCE=Sidebar\" class=\"validate\" id=\"mc-embedded-subscribe-form\" method=\"post\" name=\"mc-embedded-subscribe-form\" novalidate=\"\" target=\"_blank\">\\n<label for=\"mce-EMAIL\">Join the Funcheap SF Email List</label>\\n<input class=\"email\" id=\"mce-EMAIL\" name=\"EMAIL\" placeholder=\"email address\" required=\"\" type=\"email\" value=\"\">\\n<div class=\"clear\"><input class=\"button\" id=\"mc-embedded-subscribe\" name=\"subscribe\" type=\"submit\" value=\"Sign Up Now\"/></div>\\n</input></form>\\n</div>\\r\\nJoin the <b>100,000+</b> San Franciscans and get our picks for the best  Bay Area<b> free &amp; cheap events</b> and deals each week.\\r\\n\\r\\n\\r\\n<!--End mc_embed_signup-->\\n</link></div>\\n<h3>Most Popular Upcoming Events</h3> <script type=\"text/javascript\">\\n\\t\\t\\t\\ttoplytics_args = {\\n\\t\\t\\t\\t\\tperiod       : '2days',\\n\\t\\t\\t\\t\\tnumberposts  : 10,\\n\\t\\t\\t\\t\\tshowviews    : 0,\\n\\t\\t\\t\\t\\twidget_id    : 'toplytics-widget-3'\\n\\t\\t\\t\\t}\\n\\t\\t\\t</script>\\n<div id=\"toplytics-widget-3\"></div><ol> <li>\\n<a href=\"http://sf.funcheap.com/2015-obon-festival-bazaar-japanese-dancing-taiko-calligraphy-mountain-view/\" title=\"2017 Obon Festival &amp; Bazaar: Japanese Dancing, Taiko &amp; Exhibits | Mountain View\">2017 Obon Festival &amp; Bazaar: Japanese Dancing, Taiko &amp; Exhibits | Mountain View</a>\\n</li> <li>\\n<a href=\"http://sf.funcheap.com/hellafunny-sundays-comedy-show-neck-woods-31/\" title=\"HellaFunny Sundays Comedy Show | Neck of the Woods\">HellaFunny Sundays Comedy Show | Neck of the Woods</a>\\n</li> <li>\\n<a href=\"http://sf.funcheap.com/san-francisco-symphony-park/\" title=\"Free Outdoor SF Symphony Concert | Pier 27\">Free Outdoor SF Symphony Concert | Pier 27</a>\\n</li> <li>\\n<a href=\"http://sf.funcheap.com/free-sneak-preview-movie-dunkirk-sundance-kabuki-cinemas/\" title=\"Free Sneak Preview Movie: \\u201cDunkirk\\u201d | Sundance Kabuki Cinemas\">Free Sneak Preview Movie: \\u201cDunkirk\\u201d | Sundance Kabuki Cinemas</a>\\n</li> <li>\\n<a href=\"http://sf.funcheap.com/1-summer-family-movie-festival-regal-theaters-12/\" title=\"$1 Summer Family Movie Festival | Regal Theaters\">$1 Summer Family Movie Festival | Regal Theaters</a>\\n</li> <li>\\n<a href=\"http://sf.funcheap.com/japanese-ginza-bazaar/\" title=\"79th Japanese \\u201cGinza Bazaar\\u201d: Food, Taiko &amp; Dance Festival | SF\">79th Japanese \\u201cGinza Bazaar\\u201d: Food, Taiko &amp; Dance Festival | SF</a>\\n</li> <li>\\n<a href=\"http://sf.funcheap.com/piano-performances-evening-sf-botanical-garden-gg-park/\" title=\"Flower Piano Free Concert Evening | Golden Gate Park\">Flower Piano Free Concert Evening | Golden Gate Park</a>\\n</li> <li>\\n<a href=\"http://sf.funcheap.com/clover-sonoma-milk-tasting-room-popup-free-cereal-coffee-closing-day/\" title=\"Clover Sonoma Milk Tasting Room Pop-Up: Free Cereal &amp; Coffee | Final Day\">Clover Sonoma Milk Tasting Room Pop-Up: Free Cereal &amp; Coffee | Final Day</a>\\n</li> <li>\\n<a href=\"http://sf.funcheap.com/free-outdoor-sfjazz-concert-sutro-baths-lands-sf/\" title=\"Free Outdoor SFJAZZ Concert at Sutro Baths &amp; Land\\u2019s End | SF\">Free Outdoor SFJAZZ Concert at Sutro Baths &amp; Land\\u2019s End | SF</a>\\n</li> <li>\\n<a href=\"http://sf.funcheap.com/alley-fair-soma/\" title=\"2017 Kinky \\u201cUp Your Alley\\u201d Fair | SoMa\">2017 Kinky \\u201cUp Your Alley\\u201d Fair | SoMa</a>\\n</li></ol><h3>Funcheap on Facebook</h3> <div class=\"textwidget\"><iframe allowtransparency=\"true\" frameborder=\"0\" scrolling=\"no\" src=\"//www.facebook.com/plugins/likebox.php?href=http%3A%2F%2Fwww.facebook.com%2Fpages%2FFunCheapSF%2F327396872503&amp;width=300&amp;height=220&amp;colorscheme=light&amp;show_faces=true&amp;border_color&amp;stream=false&amp;header=true\" style=\"border:none;height:220px;overflow:none;\"></iframe></div>\\n</div>\\n<div class=\"clearfloat\" id=\"sidebar-middle\">\\n<div id=\"sidebar-left\">\\n<div class=\"textwidget\"><div style=\"float:left;\"><!-- Sidebar_160x600 --><div id=\"div-gpt-ad-1370026159345-5\" style=\"width:160px; height:600px;\">\\n<script type=\"text/javascript\">\\r\\ngoogletag.cmd.push(function() { googletag.display('div-gpt-ad-1370026159345-5'); });\\r\\n</script></div></div></div>\\n</div>\\n<div id=\"sidebar-right\">\\n<h3>Locations</h3> <div class=\"textwidget\"><ul> <li class=\"cat-item cat-item-41\"><div class=\"avhec-widget-line\"><a href=\"http://sf.funcheap.com/category/location/san-francisco-bay-area/east-bay/\" title=\"View all posts filed under East Bay\">East Bay</a></div>\\n</li>\\n<li class=\"cat-item cat-item-42\"><div class=\"avhec-widget-line\"><a href=\"http://sf.funcheap.com/category/location/san-francisco-bay-area/north-bay/\" title=\"View all posts filed under North Bay\">North Bay</a></div>\\n</li>\\n<li class=\"cat-item cat-item-119\"><div class=\"avhec-widget-line\"><a href=\"http://sf.funcheap.com/category/location/san-francisco-bay-area/peninsula/\" title=\"View all posts filed under Peninsula\">Peninsula</a></div>\\n</li>\\n<li class=\"cat-item cat-item-40\"><div class=\"avhec-widget-line\"><a href=\"http://sf.funcheap.com/category/location/san-francisco-bay-area/san-francisco/\" title=\"View all posts filed under San Francisco\">San Francisco</a></div>\\n</li>\\n<li class=\"cat-item cat-item-43\"><div class=\"avhec-widget-line\"><a href=\"http://sf.funcheap.com/category/location/san-francisco-bay-area/south-bay/\" title=\"View all posts filed under South Bay\">South Bay</a></div>\\n</li>\\n</ul></div>\\n<h3>Categories</h3> <div class=\"textwidget\"><ul> <li class=\"cat-item cat-item-31\"><div class=\"avhec-widget-line\"><a href=\"http://sf.funcheap.com/category/event/event-types/art-museums/\" title=\"View all posts filed under Art &amp; Museums\">Art &amp; Museums</a></div>\\n</li>\\n<li class=\"cat-item cat-item-263\"><div class=\"avhec-widget-line\"><a href=\"http://sf.funcheap.com/category/event/event-types/charity-volunteering/\" title=\"View all posts filed under Charity &amp; Volunteering\">Charity &amp; Volunteering</a></div>\\n</li>\\n<li class=\"cat-item cat-item-156\"><div class=\"avhec-widget-line\"><a href=\"http://sf.funcheap.com/category/event/event-types/club-dj/\" title=\"View all posts filed under Club / DJ\">Club / DJ</a></div>\\n</li>\\n<li class=\"cat-item cat-item-210\"><div class=\"avhec-widget-line\"><a href=\"http://sf.funcheap.com/category/event/event-types/comedy-event-types-event/\" title=\"View all posts filed under Comedy\">Comedy</a></div>\\n</li>\\n<li class=\"cat-item cat-item-94\"><div class=\"avhec-widget-line\"><a href=\"http://sf.funcheap.com/category/event/event-types/eating-drinking/\" title=\"View all posts filed under Eating &amp; Drinking\">Eating &amp; Drinking</a></div>\\n</li>\\n<li class=\"cat-item cat-item-9\"><div class=\"avhec-widget-line\"><a href=\"http://sf.funcheap.com/category/event/event-types/fairs-festivals/\" title=\"View all posts filed under Fairs &amp; Festivals\">Fairs &amp; Festivals</a></div>\\n</li>\\n<li class=\"cat-item cat-item-27\"><div class=\"avhec-widget-line\"><a href=\"http://sf.funcheap.com/category/event/event-types/free-stuff/\" title=\"View all posts filed under Free Stuff\">Free Stuff</a></div>\\n</li>\\n<li class=\"cat-item cat-item-11\"><div class=\"avhec-widget-line\"><a href=\"http://sf.funcheap.com/category/event/event-types/fun-games/\" title=\"View all posts filed under Fun &amp; Games\">Fun &amp; Games</a></div>\\n</li>\\n<li class=\"cat-item cat-item-33\"><div class=\"avhec-widget-line\"><a href=\"http://sf.funcheap.com/category/event/event-types/geek-event/\" title=\"View all posts filed under Geek Event\">Geek Event</a></div>\\n</li>\\n<li class=\"cat-item cat-item-113\"><div class=\"avhec-widget-line\"><a href=\"http://sf.funcheap.com/category/event/event-types/kids-families/\" title=\"View all posts filed under Kids &amp; Families\">Kids &amp; Families</a></div>\\n</li>\\n<li class=\"cat-item cat-item-55\"><div class=\"avhec-widget-line\"><a href=\"http://sf.funcheap.com/category/event/event-types/lectures-workshops/\" title=\"View all posts filed under Lectures &amp; Workshops\">Lectures &amp; Workshops</a></div>\\n</li>\\n<li class=\"cat-item cat-item-78\"><div class=\"avhec-widget-line\"><a href=\"http://sf.funcheap.com/category/event/event-types/literature/\" title=\"View all posts filed under Literature\">Literature</a></div>\\n</li>\\n<li class=\"cat-item cat-item-10\"><div class=\"avhec-widget-line\"><a href=\"http://sf.funcheap.com/category/event/event-types/live-music-event/\" title=\"View all posts filed under Live Music\">Live Music</a></div>\\n</li>\\n<li class=\"cat-item cat-item-12\"><div class=\"avhec-widget-line\"><a href=\"http://sf.funcheap.com/category/event/event-types/movies/\" title=\"View all posts filed under Movies\">Movies</a></div>\\n</li>\\n<li class=\"cat-item cat-item-99\"><div class=\"avhec-widget-line\"><a href=\"http://sf.funcheap.com/category/event/event-types/shopping-fashion/\" title=\"View all posts filed under Shopping &amp; Fashion\">Shopping &amp; Fashion</a></div>\\n</li>\\n<li class=\"cat-item cat-item-71\"><div class=\"avhec-widget-line\"><a href=\"http://sf.funcheap.com/category/event/event-types/sports-fitness/\" title=\"View all posts filed under Sports &amp; Fitness\">Sports &amp; Fitness</a></div>\\n</li>\\n<li class=\"cat-item cat-item-23\"><div class=\"avhec-widget-line\"><a href=\"http://sf.funcheap.com/category/event/event-types/theater-performance/\" title=\"View all posts filed under Theater &amp; Performance\">Theater &amp; Performance</a></div>\\n</li>\\n</ul></div>\\n</div>\\n</div>\\n<div id=\"sidebar-bottom\">\\n<!-- Hard-coded blogroll commented out by Johnny Hayes on 7/29/09\\r\\n<h3>Tag Cloud</h3>\\r\\n<a href=\"http://sf.funcheap.com/tag/art/\" class=\"tag-cloud-link tag-link-17 tag-link-position-1\" style=\"font-size: 14.222222222222pt;\" aria-label=\"Art (537 items)\">Art</a>\\n<a href=\"http://sf.funcheap.com/tag/beer/\" class=\"tag-cloud-link tag-link-48 tag-link-position-2\" style=\"font-size: 8.0864197530864pt;\" aria-label=\"Beer (104 items)\">Beer</a>\\n<a href=\"http://sf.funcheap.com/tag/berkeley/\" class=\"tag-cloud-link tag-link-80 tag-link-position-3\" style=\"font-size: 8.7777777777778pt;\" aria-label=\"Berkeley (125 items)\">Berkeley</a>\\n<a href=\"http://sf.funcheap.com/tag/book-reading/\" class=\"tag-cloud-link tag-link-86 tag-link-position-4\" style=\"font-size: 8.6049382716049pt;\" aria-label=\"Book Reading (120 items)\">Book Reading</a>\\n<a href=\"http://sf.funcheap.com/tag/comedy/\" class=\"tag-cloud-link tag-link-70 tag-link-position-5\" style=\"font-size: 10.851851851852pt;\" aria-label=\"Comedy (217 items)\">Comedy</a>\\n<a href=\"http://sf.funcheap.com/tag/concert/\" class=\"tag-cloud-link tag-link-6 tag-link-position-6\" style=\"font-size: 12.493827160494pt;\" aria-label=\"Concert (336 items)\">Concert</a>\\n<a href=\"http://sf.funcheap.com/tag/dance/\" class=\"tag-cloud-link tag-link-24 tag-link-position-7\" style=\"font-size: 9.9876543209877pt;\" aria-label=\"Dance (173 items)\">Dance</a>\\n<a href=\"http://sf.funcheap.com/tag/deals-discounts/\" class=\"tag-cloud-link tag-link-581 tag-link-position-8\" style=\"font-size: 15.777777777778pt;\" aria-label=\"Deals &amp; Discounts (806 items)\">Deals &amp; Discounts</a>\\n<a href=\"http://sf.funcheap.com/tag/dj/\" class=\"tag-cloud-link tag-link-16 tag-link-position-9\" style=\"font-size: 10.246913580247pt;\" aria-label=\"DJ (186 items)\">DJ</a>\\n<a href=\"http://sf.funcheap.com/tag/family/\" class=\"tag-cloud-link tag-link-216 tag-link-position-10\" style=\"font-size: 9.1234567901235pt;\" aria-label=\"family (138 items)\">family</a>\\n<a href=\"http://sf.funcheap.com/tag/family-friendly/\" class=\"tag-cloud-link tag-link-18 tag-link-position-11\" style=\"font-size: 11.456790123457pt;\" aria-label=\"Family Friendly (254 items)\">Family Friendly</a>\\n<a href=\"http://sf.funcheap.com/tag/festival/\" class=\"tag-cloud-link tag-link-21 tag-link-position-12\" style=\"font-size: 8.7777777777778pt;\" aria-label=\"Festival (124 items)\">Festival</a>\\n<a href=\"http://sf.funcheap.com/tag/film/\" class=\"tag-cloud-link tag-link-68 tag-link-position-13\" style=\"font-size: 11.888888888889pt;\" aria-label=\"Film (287 items)\">Film</a>\\n<a href=\"http://sf.funcheap.com/tag/food/\" class=\"tag-cloud-link tag-link-28 tag-link-position-14\" style=\"font-size: 11.37037037037pt;\" aria-label=\"Food (248 items)\">Food</a>\\n<a href=\"http://sf.funcheap.com/tag/free/\" class=\"tag-cloud-link tag-link-15 tag-link-position-15\" style=\"font-size: 22pt;\" aria-label=\"Free (4,249 items)\">Free</a>\\n<a href=\"http://sf.funcheap.com/tag/free-food/\" class=\"tag-cloud-link tag-link-13141 tag-link-position-16\" style=\"font-size: 9.3827160493827pt;\" aria-label=\"Free Food (146 items)\">Free Food</a>\\n<a href=\"http://sf.funcheap.com/tag/free-movie-screening/\" class=\"tag-cloud-link tag-link-13335 tag-link-position-17\" style=\"font-size: 11.111111111111pt;\" aria-label=\"Free Sneak Preview Movie Screening (234 items)\">Free Sneak Preview Movie Screening</a>\\n<a href=\"http://sf.funcheap.com/tag/fun/\" class=\"tag-cloud-link tag-link-217 tag-link-position-18\" style=\"font-size: 10.16049382716pt;\" aria-label=\"fun (180 items)\">fun</a>\\n<a href=\"http://sf.funcheap.com/tag/gallery/\" class=\"tag-cloud-link tag-link-251 tag-link-position-19\" style=\"font-size: 8pt;\" aria-label=\"Gallery (101 items)\">Gallery</a>\\n<a href=\"http://sf.funcheap.com/tag/gofobo/\" class=\"tag-cloud-link tag-link-11768 tag-link-position-20\" style=\"font-size: 10.074074074074pt;\" aria-label=\"Gofobo (175 items)\">Gofobo</a>\\n<a href=\"http://sf.funcheap.com/tag/golden-gate-park/\" class=\"tag-cloud-link tag-link-36 tag-link-position-21\" style=\"font-size: 9.7283950617284pt;\" aria-label=\"Golden Gate Park (160 items)\">Golden Gate Park</a>\\n<a href=\"http://sf.funcheap.com/tag/history/\" class=\"tag-cloud-link tag-link-13162 tag-link-position-22\" style=\"font-size: 10.41975308642pt;\" aria-label=\"History (193 items)\">History</a>\\n<a href=\"http://sf.funcheap.com/tag/kids/\" class=\"tag-cloud-link tag-link-201 tag-link-position-23\" style=\"font-size: 8.6049382716049pt;\" aria-label=\"kids (119 items)\">kids</a>\\n<a href=\"http://sf.funcheap.com/tag/lecture/\" class=\"tag-cloud-link tag-link-34 tag-link-position-24\" style=\"font-size: 9.7283950617284pt;\" aria-label=\"Lecture (161 items)\">Lecture</a>\\n<a href=\"http://sf.funcheap.com/tag/literature/\" class=\"tag-cloud-link tag-link-13170 tag-link-position-25\" style=\"font-size: 8.7777777777778pt;\" aria-label=\"Literature (126 items)\">Literature</a>\\n<a href=\"http://sf.funcheap.com/tag/live-music/\" class=\"tag-cloud-link tag-link-5 tag-link-position-26\" style=\"font-size: 14.567901234568pt;\" aria-label=\"Live Music (592 items)\">Live Music</a>\\n<a href=\"http://sf.funcheap.com/tag/local-artists/\" class=\"tag-cloud-link tag-link-154 tag-link-position-27\" style=\"font-size: 9.2098765432099pt;\" aria-label=\"Local Artists (141 items)\">Local Artists</a>\\n<a href=\"http://sf.funcheap.com/tag/mission-district/\" class=\"tag-cloud-link tag-link-91 tag-link-position-28\" style=\"font-size: 10.506172839506pt;\" aria-label=\"Mission District (198 items)\">Mission District</a>\\n<a href=\"http://sf.funcheap.com/tag/movie/\" class=\"tag-cloud-link tag-link-62 tag-link-position-29\" style=\"font-size: 13.617283950617pt;\" aria-label=\"Movie (461 items)\">Movie</a>\\n<a href=\"http://sf.funcheap.com/tag/museum/\" class=\"tag-cloud-link tag-link-35 tag-link-position-30\" style=\"font-size: 8.1728395061728pt;\" aria-label=\"Museum (107 items)\">Museum</a>\\n<a href=\"http://sf.funcheap.com/tag/music/\" class=\"tag-cloud-link tag-link-324 tag-link-position-31\" style=\"font-size: 12.58024691358pt;\" aria-label=\"music (343 items)\">music</a>\\n<a href=\"http://sf.funcheap.com/tag/oakland/\" class=\"tag-cloud-link tag-link-13147 tag-link-position-32\" style=\"font-size: 9.5555555555556pt;\" aria-label=\"Oakland (154 items)\">Oakland</a>\\n<a href=\"http://sf.funcheap.com/tag/odd-weird/\" class=\"tag-cloud-link tag-link-52 tag-link-position-33\" style=\"font-size: 8pt;\" aria-label=\"Odd &amp; Weird (102 items)\">Odd &amp; Weird</a>\\n<a href=\"http://sf.funcheap.com/tag/outdoors/\" class=\"tag-cloud-link tag-link-59 tag-link-position-34\" style=\"font-size: 10.333333333333pt;\" aria-label=\"Outdoors (188 items)\">Outdoors</a>\\n<a href=\"http://sf.funcheap.com/tag/party/\" class=\"tag-cloud-link tag-link-353 tag-link-position-35\" style=\"font-size: 8.0864197530864pt;\" aria-label=\"party (103 items)\">party</a>\\n<a href=\"http://sf.funcheap.com/tag/perfect-for-a-picnic/\" class=\"tag-cloud-link tag-link-19 tag-link-position-36\" style=\"font-size: 8.2592592592593pt;\" aria-label=\"Perfect for a Picnic (109 items)\">Perfect for a Picnic</a>\\n<a href=\"http://sf.funcheap.com/tag/performance/\" class=\"tag-cloud-link tag-link-130 tag-link-position-37\" style=\"font-size: 9.9012345679012pt;\" aria-label=\"Performance (168 items)\">Performance</a>\\n<a href=\"http://sf.funcheap.com/tag/san-francisco/\" class=\"tag-cloud-link tag-link-13153 tag-link-position-38\" style=\"font-size: 8.7777777777778pt;\" aria-label=\"San Francisco (124 items)\">San Francisco</a>\\n<a href=\"http://sf.funcheap.com/tag/science/\" class=\"tag-cloud-link tag-link-54 tag-link-position-39\" style=\"font-size: 8.7777777777778pt;\" aria-label=\"Science (126 items)\">Science</a>\\n<a href=\"http://sf.funcheap.com/tag/shopping/\" class=\"tag-cloud-link tag-link-76 tag-link-position-40\" style=\"font-size: 8.9506172839506pt;\" aria-label=\"Shopping (132 items)\">Shopping</a>\\n<a href=\"http://sf.funcheap.com/tag/soma/\" class=\"tag-cloud-link tag-link-7 tag-link-position-41\" style=\"font-size: 11.456790123457pt;\" aria-label=\"SOMA (255 items)\">SOMA</a>\\n<a href=\"http://sf.funcheap.com/tag/theater/\" class=\"tag-cloud-link tag-link-45 tag-link-position-42\" style=\"font-size: 8.1728395061728pt;\" aria-label=\"Theater (106 items)\">Theater</a>\\n<a href=\"http://sf.funcheap.com/tag/wine/\" class=\"tag-cloud-link tag-link-279 tag-link-position-43\" style=\"font-size: 8pt;\" aria-label=\"wine (101 items)\">wine</a>\\n<a href=\"http://sf.funcheap.com/tag/workshop/\" class=\"tag-cloud-link tag-link-95 tag-link-position-44\" style=\"font-size: 8.5185185185185pt;\" aria-label=\"Workshop (117 items)\">Workshop</a>\\n<a href=\"http://sf.funcheap.com/tag/worth-the-splurge/\" class=\"tag-cloud-link tag-link-13188 tag-link-position-45\" style=\"font-size: 8.6913580246914pt;\" aria-label=\"Worth the Splurge (123 items)\">Worth the Splurge</a>-->\\n</div>\\n<!-- google_ad_section_end -->\\n</div></div><!-- google_ad_section_end -->\\n</div>\\n<div class=\"clearfloat\" id=\"front-popular\">\\n<div class=\"clearfloat\" id=\"recentpost\">\\n<div class=\"textwidget\"></div>\\n</div>\\n<div class=\"clearfloat\" id=\"mostcommented\">\\n<div class=\"textwidget\"></div>\\n</div>\\n<div class=\"clearfloat\" id=\"recent_comments\">\\n</div>\\n</div>\\n<style type=\"text/css\">\\n#footermenu ul {list-style-type:none; padding:0px; margin:0px; padding-bottom:7px;}\\n#footermenu li { float:left;position:relative;border-right-color:black;border-left-style:solid;border-left-width:1px;margin-left:3px;padding-left:3px;line-height:10px;}\\n#footermenu li.footermenustart { float:left;position:relative;border-right-color:black;border-left-style:none;margin-left:0px;padding-left:0px;}\\n</style>\\n<div class=\"clearfloat\" id=\"footer\">\\n<script type=\"text/javascript\">\\r\\n        jQuery(document).ready(function($) {\\r\\n            /*$('#sidebar-top ul li a').each(function() {\\r\\n                $(this).attr('onclick', \"javascript:__gaTracker(['send', 'event', 'Link Tracking','Recently Added Events','Sidebar Recently Added']);\");\\r\\n            });*/\\r\\n            $('#sidebar .toplytics-box a').each(function() {\\r\\n                $(this).attr('onclick', \"javascript:__gaTracker(['send', 'event', 'Link Tracking','Most Popular Events','Sidebar Most Popular Upcoming']);\");\\r\\n            });\\r\\n            $('.related-events a').each(function() {\\r\\n                $(this).attr('onclick', \"javascript:__gaTracker(['send', 'event', 'Link Tracking','Related Events','Below Post Widget']);\");\\r\\n            });\\r\\n            $('.region-links a').each(function() {\\r\\n                $(this).attr('onclick', \"javascript:__gaTracker(['send', 'event', 'Link Tracking','Region Links','Event Detail Page']);\");\\r\\n            });\\r\\n            $('#mc-embedded-subscribe').each(function() {\\r\\n                $(this).attr('onclick', \"javascript:__gaTracker(['send', 'event', 'Link Tracking','Email Newsletter','Subscribe Sidebar']);\");\\r\\n            });\\r\\n            $('#mc-embedded-subscribe-page').each(function() {\\r\\n                $(this).attr('onclick', \"javascript:__gaTracker(['send', 'event', 'Link Tracking','Email Newsletter','Subscribe Page']);\");\\r\\n            });\\r\\n        });\\r\\n    </script><script type=\"text/javascript\">\\n/* <![CDATA[ */\\nvar FcAjaxVenueSearch = {\"ajaxurl\":\"http:\\\\/\\\\/sf.funcheap.com\\\\/wp-admin\\\\/admin-ajax.php\",\"fc_nonce\":\"63ba84fa89\"};\\n/* ]]> */\\n</script>\\n<script src=\"http://cdn.funcheap.com/wp-content/plugins/fc-venue-search/scripts/jquery.autocomplete.min.js?ver=1\" type=\"text/javascript\"></script>\\n<script type=\"text/javascript\">\\n/* <![CDATA[ */\\nvar emailL10n = {\"ajax_url\":\"https:\\\\/\\\\/sf.funcheap.com\\\\/wp-admin\\\\/admin-ajax.php\",\"max_allowed\":\"5\",\"text_error\":\"The Following Error Occurs:\",\"text_name_invalid\":\"- Your Name is empty\\\\/invalid\",\"text_email_invalid\":\"- Your Email is empty\\\\/invalid\",\"text_remarks_invalid\":\"- Your Remarks is invalid\",\"text_friend_names_empty\":\"- Friend Name(s) is empty\",\"text_friend_name_invalid\":\"- Friend Name is empty\\\\/invalid: \",\"text_max_friend_names_allowed\":\"- Maximum 5 Friend Names allowed\",\"text_friend_emails_empty\":\"- Friend Email(s) is empty\",\"text_friend_email_invalid\":\"- Friend Email is invalid: \",\"text_max_friend_emails_allowed\":\"- Maximum 5 Friend Emails allowed\",\"text_friends_tally\":\"- Friend Name(s) count does not tally with Friend Email(s) count\",\"text_image_verify_empty\":\"- Image Verification is empty\"};\\n/* ]]> */\\n</script>\\n<script src=\"http://cdn.funcheap.com/wp-content/plugins/wp-email/email-js.js?ver=2.67.3\" type=\"text/javascript\"></script>\\n<script src=\"http://cdn.funcheap.com/wp-includes/js/wp-embed.min.js?ver=4.8\" type=\"text/javascript\"></script>\\n<ul class=\"left\" id=\"footermenu\"><div class=\"li\"><ul class=\"menu\" id=\"menu-footer-menu\"><li class=\"menu-item menu-item-type-post_type menu-item-object-page menu-item-113174\" id=\"menu-item-113174\"><a href=\"http://sf.funcheap.com/about/\">About Funcheap</a></li>\\n<li class=\"menu-item menu-item-type-post_type menu-item-object-page menu-item-22530\" id=\"menu-item-22530\"><a href=\"http://sf.funcheap.com/about/advertise/\">Advertise</a></li>\\n<li class=\"menu-item menu-item-type-post_type menu-item-object-page menu-item-22532\" id=\"menu-item-22532\"><a href=\"http://sf.funcheap.com/about/press/\">Press Room</a></li>\\n<li class=\"menu-item menu-item-type-post_type menu-item-object-page menu-item-113175\" id=\"menu-item-113175\"><a href=\"http://sf.funcheap.com/about/jobs-2/\">Jobs &amp; Internships</a></li>\\n<li class=\"menu-item menu-item-type-post_type menu-item-object-page menu-item-22533\" id=\"menu-item-22533\"><a href=\"http://sf.funcheap.com/terms-service/\">Terms of Service</a></li>\\n<li class=\"menu-item menu-item-type-post_type menu-item-object-page menu-item-83416\" id=\"menu-item-83416\"><a href=\"http://sf.funcheap.com/privacy-policy/\">Privacy Policy</a></li>\\n<li class=\"menu-item menu-item-type-post_type menu-item-object-page menu-item-22531\" id=\"menu-item-22531\"><a href=\"http://sf.funcheap.com/about/contact/\">Contact Us</a></li>\\n</ul></div></ul>\\n<br/><br/><div class=\"right\">Powered by <a href=\"http://wordpress.org/\">WordPress</a> |  <a href=\"https://sf.funcheap.com/wp-login.php\" rel=\"nofollow\">Log in</a> | <a href=\"http://sf.funcheap.com/feed/\">Entries (RSS)</a> | <a href=\"http://sf.funcheap.com/comments/feed/\">Comments (RSS)</a> | <a href=\"http://colorlabsproject.com/themes/arthemia-premium/\" target=\"_blank\">Arthemia Premium</a> theme by <a href=\"http://colorlabsproject.com\" target=\"_blank\">Colorlabs Project</a></div>\\n<!-- 45 queries. 1.018 seconds. -->\\n</div>\\n<!-- Start Quantcast tag -->\\n<script type=\"text/javascript\">\\n_qoptions={\\nqacct:\"p-fbfZk8l6DwKrg\"\\n};\\n</script>\\n<script src=\"http://edge.quantserve.com/quant.js\" type=\"text/javascript\"></script>\\n<noscript>\\n<img ;=\"\" alt=\"Quantcast\" border=\"0\" height=\"1\" src=\"http://pixel.quantserve.com/pixel/p-fbfZk8l6DwKrg.gif\" style=\"display: none;\" width=\"1\"/>\\n</noscript>\\n<!-- End Quantcast tag -->\\n<!-- Start Quantcast tag BLOGGER COLLECTIVE -->\\n<script type=\"text/javascript\">\\n_qoptions={\\nqacct:\"p-d2uwISjpvPZhw\"\\n};\\n</script>\\n<script src=\"http://edge.quantserve.com/quant.js\" type=\"text/javascript\"></script>\\n<noscript>\\n<img alt=\"Quantcast\" border=\"0\" height=\"1\" src=\"http://pixel.quantserve.com/pixel/p-d2uwISjpvPZhw.gif\" style=\"display: none;\" width=\"1\"/>\\n</noscript>\\n<!-- End Quantcast tag -->\\n</body>\\n</html>"
      ]
     },
     "execution_count": 29,
     "metadata": {},
     "output_type": "execute_result"
    }
   ],
   "source": [
    "from bs4 import BeautifulSoup\n",
    "r = requests.get(fun_cheap + '2017/07/17')\n",
    "soup = BeautifulSoup(r.text, 'html.parser')\n",
    "soup"
   ]
  },
  {
   "cell_type": "markdown",
   "metadata": {
    "slideshow": {
     "slide_type": "skip"
    }
   },
   "source": [
    "## What is this SOUP?\n",
    "### And why is it BEAUTIFUL??\n",
    "\n",
    "Well, we can do some fancy HTML parsing/CSS selecting effortlessly."
   ]
  },
  {
   "cell_type": "code",
   "execution_count": 56,
   "metadata": {
    "slideshow": {
     "slide_type": "skip"
    }
   },
   "outputs": [
    {
     "data": {
      "text/plain": [
       "[<h2 class=\"title\">Events for  July 17, 2017</h2>]"
      ]
     },
     "execution_count": 56,
     "metadata": {},
     "output_type": "execute_result"
    }
   ],
   "source": [
    "soup.select('h2.title') # Or we could do it like:"
   ]
  },
  {
   "cell_type": "code",
   "execution_count": 55,
   "metadata": {
    "slideshow": {
     "slide_type": "skip"
    }
   },
   "outputs": [
    {
     "data": {
      "text/plain": [
       "<h2 class=\"title\">Events for  July 17, 2017</h2>"
      ]
     },
     "execution_count": 55,
     "metadata": {},
     "output_type": "execute_result"
    }
   ],
   "source": [
    "title = soup.find_all('h2', class_='title')[0] # Going to use this later\n",
    "title"
   ]
  },
  {
   "cell_type": "markdown",
   "metadata": {
    "slideshow": {
     "slide_type": "skip"
    }
   },
   "source": [
    "## Back to the task at hand\n",
    "\n",
    "* Want to scrape all of the events, their description and cost.\n",
    "* How do we do this?\n",
    "* What if we just inspect the page looking for a tag that has the info we want!"
   ]
  },
  {
   "cell_type": "code",
   "execution_count": 38,
   "metadata": {
    "slideshow": {
     "slide_type": "skip"
    }
   },
   "outputs": [
    {
     "name": "stdout",
     "output_type": "stream",
     "text": [
      "<class 'bs4.element.ResultSet'>\n"
     ]
    },
    {
     "data": {
      "text/plain": [
       "<div class=\"tanbox left\" style=\"background-color:white;\">\\n<span class=\"title\"><a href=\"http://sf.funcheap.com/clover-sonoma-milk-tasting-room-popup-free-cereal-coffee-closing-day/\" rel=\"bookmark\" title=\"Clover Sonoma Milk Tasting Room Pop-Up: Free Cereal &amp; Coffee | Final Day\">Clover Sonoma Milk Tasting Room Pop-Up: Free Cereal &amp; Coffee | Final Day</a></span>\\n<div class=\"meta archive-meta\">Monday, July 17 \\x96 8:00 am | \\n\\n\\n<span class=\"cost\">Cost: FREE</span> | <span>Clover Sonoma Milk Tasting Room Pop-up</span> </div>\\n<div class=\"thumbnail-wrapper\"><a href=\"http://sf.funcheap.com/clover-sonoma-milk-tasting-room-popup-free-cereal-coffee-closing-day/\" rel=\"bookmark\" title=\"Clover Sonoma Milk Tasting Room Pop-Up: Free Cereal &amp; Coffee | Final Day\"><img alt=\"Clover Sonoma Milk Tasting Room Pop-Up: Free Cereal &amp; Coffee | Final Day\" class=\"left\" src=\"http://cdn.funcheap.com/wp-content/uploads/2017/06/Screen-Shot-2017-06-06-at-10.40.54-AM1-175x130.png\"/></a></div><p>Clover Sonoma, the Bay Area\\u2019s favorite third-generation family-owned and operated dairy farm, has opened a Milk Tasting Room pop-up\\xa0in Hayes Valley, which will be open from June 5 through July 21, 2017. Clover Sonoma Milk Tasting Room June 5-July 21, 2017 Clover Sonoma Pop-up,\\xa0330 Fell ...</p></div>"
      ]
     },
     "execution_count": 38,
     "metadata": {},
     "output_type": "execute_result"
    }
   ],
   "source": [
    "tanbox_lefts = soup.find_all('div', class_='tanbox left')\n",
    "print(type(tanbox_lefts))\n",
    "tanbox_lefts[0]"
   ]
  },
  {
   "cell_type": "markdown",
   "metadata": {
    "slideshow": {
     "slide_type": "skip"
    }
   },
   "source": [
    "## Did I Find the Right Things?"
   ]
  },
  {
   "cell_type": "code",
   "execution_count": 100,
   "metadata": {
    "slideshow": {
     "slide_type": "skip"
    }
   },
   "outputs": [
    {
     "data": {
      "text/plain": [
       "<a href=\"http://sf.funcheap.com/clover-sonoma-milk-tasting-room-popup-free-cereal-coffee-closing-day/\" rel=\"bookmark\" title=\"Clover Sonoma Milk Tasting Room Pop-Up: Free Cereal &amp; Coffee | Final Day\">Clover Sonoma Milk Tasting Room Pop-Up: Free Cereal &amp; Coffee | Final Day</a>"
      ]
     },
     "execution_count": 100,
     "metadata": {},
     "output_type": "execute_result"
    }
   ],
   "source": [
    "tbl1 = tanbox_lefts[0]\n",
    "tbl1.find('a') # All the elements that come from beautiful soup parsing can be parsed too"
   ]
  },
  {
   "cell_type": "code",
   "execution_count": 53,
   "metadata": {
    "scrolled": true,
    "slideshow": {
     "slide_type": "skip"
    }
   },
   "outputs": [
    {
     "data": {
      "text/plain": [
       "[<a href=\"http://sf.funcheap.com/event-series/popcorn-poker-movie-trivia-game-night-parkway/\" rel=\"bookmark\" title=\"Popcorn Poker: Movie Trivia Game Night | The New Parkway\">Popcorn Poker: Movie Trivia Game Night | The New Parkway</a>,\n",
       " <a href=\"http://sf.funcheap.com/event-series/move-free-comedy-night-light/\" rel=\"bookmark\" title=\"Free Comedy: Move Along, Nothing to See Here | Oakland\">Free Comedy: Move Along, Nothing to See Here | Oakland</a>,\n",
       " <a href=\"http://sf.funcheap.com/event-series/classical-revolution-chamber-music-jam-mission-dist/\" rel=\"bookmark\" title=\"\\u201cClassical Revolution\\u201d Chamber Music Jam | Mission Dist.\">\\u201cClassical Revolution\\u201d Chamber Music Jam | Mission Dist.</a>,\n",
       " <a href=\"http://sf.funcheap.com/event-series/ivy-league-free-comedy-monday-nights-albany/\" rel=\"bookmark\" title=\"Ivy League Free Comedy on Monday Nights | Albany\">Ivy League Free Comedy on Monday Nights | Albany</a>,\n",
       " <a href=\"http://sf.funcheap.com/event-series/kevin-wongs-funny-comedy-show-san-mateo/\" rel=\"bookmark\" title=\"\\u201cThe Secret Show\\u201d: Comedy Show at a Pub | San Mateo\">\\u201cThe Secret Show\\u201d: Comedy Show at a Pub | San Mateo</a>]"
      ]
     },
     "execution_count": 53,
     "metadata": {},
     "output_type": "execute_result"
    }
   ],
   "source": [
    "a_tags = [tbl.find('a') for tbl in tanbox_lefts]\n",
    "a_tags[-5:]"
   ]
  },
  {
   "cell_type": "markdown",
   "metadata": {
    "slideshow": {
     "slide_type": "skip"
    }
   },
   "source": [
    "## So we got too much stuff.\n",
    "### What to do now?\n",
    "\n",
    "We could:\n",
    "* Only keep dates that have real dates, not \"Every Monday\". Requires going further down the HTML.\n",
    "* Find some other container that only holds the real events for the day."
   ]
  },
  {
   "cell_type": "code",
   "execution_count": 57,
   "metadata": {
    "slideshow": {
     "slide_type": "skip"
    }
   },
   "outputs": [
    {
     "data": {
      "text/plain": [
       "'<div class=\"clearfloat\">\\n<span class=\"left\"><a href=\"/2017/07/16/\">&lt; Sunday, July 16</a></span>\\n<span class=\"right\"><a href=\"/2017/07/18/\">Tuesday, July 18 &gt;</a></span>\\n<div style=\"clear:both\"></div>\\n<div class=\"archive_date_title\" style=\"background-color:white;margin:0px;margin-bottom:4px;padding:0px;\"><h3 style=\"background-color:black;color:white;margin:0px;padding:3px;font: 16px Arial;font-weight:bold;\">Monday<span style=\"font-weight:normal;\">, July 17</span></h3></div>\\n<div class=\"tanb'"
      ]
     },
     "execution_count": 57,
     "metadata": {},
     "output_type": "execute_result"
    }
   ],
   "source": [
    "good_clear_float = title.next_sibling.next_sibling\n",
    "str(good_clear_float)[:500]"
   ]
  },
  {
   "cell_type": "code",
   "execution_count": 66,
   "metadata": {
    "slideshow": {
     "slide_type": "skip"
    }
   },
   "outputs": [
    {
     "name": "stdout",
     "output_type": "stream",
     "text": [
      "http://sf.funcheap.com/clover-sonoma-milk-tasting-room-popup-free-cereal-coffee-closing-day/\n",
      "http://sf.funcheap.com/clover-sonoma-milk-tasting-room-popup-free-cereal-coffee-closing-day/\n",
      "http://sf.funcheap.com/free-coworking-job-sunnyvale/\n",
      "http://sf.funcheap.com/free-coworking-job-sunnyvale/\n",
      "http://sf.funcheap.com/jack-daniels-popup-store-trims-southern-cooking-happy-hour-sf-2/\n",
      "http://sf.funcheap.com/jack-daniels-popup-store-trims-southern-cooking-happy-hour-sf-2/\n",
      "http://sf.funcheap.com/tour-of-diego-riveras-1st-us-mural-union-square-36/\n",
      "http://sf.funcheap.com/laborfest2017-destruction-city-college-san-francisco-bernal-public-library/\n",
      "http://sf.funcheap.com/the-book-of-greens-book-launch-omnivore-books/\n",
      "http://sf.funcheap.com/free-sneak-preview-movie-dunkirk-sundance-kabuki-cinemas/\n",
      "http://sf.funcheap.com/free-sneak-preview-movie-dunkirk-amc-saratoga/\n",
      "http://sf.funcheap.com/haight-street-trivia-comedy-gaming-free-pizza-night-milk-bar-7/\n",
      "http://sf.funcheap.com/garage-surf-jurassic-punk-trextasy-swedish-american-hall/\n",
      "These look right, apart from some repeats\n"
     ]
    }
   ],
   "source": [
    "for tag in good_clear_float.find_all('a', rel=True):\n",
    "    print(tag.attrs['href'])\n",
    "print('These look right, apart from some repeats')"
   ]
  },
  {
   "cell_type": "markdown",
   "metadata": {
    "slideshow": {
     "slide_type": "slide"
    }
   },
   "source": [
    "## New Strategy\n",
    "\n",
    "As you go through a web site you should build up a dictionary for the documents that you want to store in Mongo. In the example above we may, for each post url, create a dictionary with the information:\n",
    "\n",
    "```python\n",
    "    { url: url_of_event,\n",
    "      date: date_event,\n",
    "      cost: cost_of_event }\n",
    "```\n",
    "\n",
    "We can then insert these dictionaries into a Mongo database via PyMongo, which we will learn about next. First we want a function that will allow us to do something like:\n",
    "\n",
    "```python\n",
    "event_list = []\n",
    "for tbl in good_clear_float.find_all('div', class_='tanbox left'):\n",
    "    event_dict.append(make_event_dict(tbl))\n",
    "```"
   ]
  },
  {
   "cell_type": "code",
   "execution_count": 121,
   "metadata": {
    "slideshow": {
     "slide_type": "slide"
    }
   },
   "outputs": [
    {
     "data": {
      "text/plain": [
       "<div class=\"tanbox left\" style=\"background-color:white;\">\\n<span class=\"title\"><a href=\"http://sf.funcheap.com/clover-sonoma-milk-tasting-room-popup-free-cereal-coffee-closing-day/\" rel=\"bookmark\" title=\"Clover Sonoma Milk Tasting Room Pop-Up: Free Cereal &amp; Coffee | Final Day\">Clover Sonoma Milk Tasting Room Pop-Up: Free Cereal &amp; Coffee | Final Day</a></span>\\n<div class=\"meta archive-meta\">Monday, July 17 \\x96 8:00 am | \\n\\n\\n<span class=\"cost\">Cost: FREE</span> | <span>Clover Sonoma Milk Tasting Room Pop-up</span> </div>\\n<div class=\"thumbnail-wrapper\"><a href=\"http://sf.funcheap.com/clover-sonoma-milk-tasting-room-popup-free-cereal-coffee-closing-day/\" rel=\"bookmark\" title=\"Clover Sonoma Milk Tasting Room Pop-Up: Free Cereal &amp; Coffee | Final Day\"><img alt=\"Clover Sonoma Milk Tasting Room Pop-Up: Free Cereal &amp; Coffee | Final Day\" class=\"left\" src=\"http://cdn.funcheap.com/wp-content/uploads/2017/06/Screen-Shot-2017-06-06-at-10.40.54-AM1-175x130.png\"/></a></div><p>Clover Sonoma, the Bay Area\\u2019s favorite third-generation family-owned and operated dairy farm, has opened a Milk Tasting Room pop-up\\xa0in Hayes Valley, which will be open from June 5 through July 21, 2017. Clover Sonoma Milk Tasting Room June 5-July 21, 2017 Clover Sonoma Pop-up,\\xa0330 Fell ...</p></div>"
      ]
     },
     "execution_count": 121,
     "metadata": {},
     "output_type": "execute_result"
    }
   ],
   "source": [
    "tbl1"
   ]
  },
  {
   "cell_type": "code",
   "execution_count": null,
   "metadata": {
    "collapsed": true,
    "slideshow": {
     "slide_type": "fragment"
    }
   },
   "outputs": [],
   "source": [
    "def make_event_dict(tbl):\n",
    "    pass"
   ]
  },
  {
   "cell_type": "code",
   "execution_count": 118,
   "metadata": {
    "collapsed": true,
    "slideshow": {
     "slide_type": "subslide"
    }
   },
   "outputs": [],
   "source": [
    "def make_event_dict(tbl):\n",
    "    \"\"\"Parses event in a \"tanbox left\" div for it's url, title and cost.\n",
    "    Returns as dictionary.\n",
    "    \"\"\"\n",
    "    event_dict = {}\n",
    "    event_dict['url'] = tbl.find('a', rel=True).attrs['href']\n",
    "    event_dict['title'] = tbl.find('a').attrs['title']\n",
    "    maybe_cost = tbl.find('span', class_='cost')\n",
    "    if maybe_cost:\n",
    "        event_dict['cost'] = maybe_cost.text\n",
    "    return event_dict"
   ]
  },
  {
   "cell_type": "code",
   "execution_count": 119,
   "metadata": {
    "slideshow": {
     "slide_type": "subslide"
    }
   },
   "outputs": [],
   "source": [
    "event_list = []\n",
    "for tbl in good_clear_float.find_all('div', class_='tanbox left'):\n",
    "    if tbl.find('a', rel=True):\n",
    "        event_list.append(make_event_dict(tbl))\n",
    "\n",
    "event_list"
   ]
  },
  {
   "cell_type": "markdown",
   "metadata": {
    "slideshow": {
     "slide_type": "skip"
    }
   },
   "source": [
    "# Scraping from an Existing API\n",
    "\n",
    "Let's take a look at the API for all the publically avaliable policing data in the [UK](https://data.police.uk/docs/). After taking a look at the documentation for the interface, let's experiment with what we get when we issue a request to this API. The process looks remarkable similar to the one we went through for scraping a web page, except this time the response we're looking for is avaliable via the `json()` method."
   ]
  },
  {
   "cell_type": "code",
   "execution_count": 17,
   "metadata": {
    "slideshow": {
     "slide_type": "skip"
    }
   },
   "outputs": [
    {
     "data": {
      "text/plain": [
       "[{u'category': u'anti-social-behaviour',\n",
       "  u'context': u'',\n",
       "  u'id': 20603217,\n",
       "  u'location': {u'latitude': u'52.630069',\n",
       "   u'longitude': u'-1.133045',\n",
       "   u'street': {u'id': 883344, u'name': u'On or near Mill Street'}},\n",
       "  u'location_subtype': u'',\n",
       "  u'location_type': u'Force',\n",
       "  u'month': u'2013-01',\n",
       "  u'outcome_status': None,\n",
       "  u'persistent_id': u''},\n",
       " {u'category': u'anti-social-behaviour',\n",
       "  u'context': u'',\n",
       "  u'id': 20597171,\n",
       "  u'location': {u'latitude': u'52.636250',\n",
       "   u'longitude': u'-1.133691',\n",
       "   u'street': {u'id': 883415, u'name': u'On or near Shopping Area'}},\n",
       "  u'location_subtype': u'',\n",
       "  u'location_type': u'Force',\n",
       "  u'month': u'2013-01',\n",
       "  u'outcome_status': None,\n",
       "  u'persistent_id': u''}]"
      ]
     },
     "execution_count": 17,
     "metadata": {},
     "output_type": "execute_result"
    }
   ],
   "source": [
    "r = requests.get('https://data.police.uk/api/crimes-street/all-crime?lat=52.629729&lng=-1.131592&date=2013-01')\n",
    "r.json()[:2]"
   ]
  },
  {
   "cell_type": "code",
   "execution_count": 18,
   "metadata": {
    "collapsed": true,
    "slideshow": {
     "slide_type": "skip"
    }
   },
   "outputs": [],
   "source": [
    "crime_stuff = r.json()"
   ]
  },
  {
   "cell_type": "markdown",
   "metadata": {
    "slideshow": {
     "slide_type": "skip"
    }
   },
   "source": [
    "## API Scraping and Mongo\n",
    "\n",
    "Many APIs will give you a choice of how it will return data to you, choosing json will make life easier since we will frequently be using Mongo for our storage unit during our scraping endeavors, and it plays very well with json. \n",
    "\n",
    "Interacting with Mongo from Python is done with the other Mongo client that we talked about earlier PyMongo. It is designed to have a similar interface as the Mongo shell does, this ends up being fairly intuitive since both Python and JavaScript are object oriented languages, and therefore store and refer to things in a similar manner."
   ]
  },
  {
   "cell_type": "code",
   "execution_count": 19,
   "metadata": {
    "collapsed": true,
    "slideshow": {
     "slide_type": "skip"
    }
   },
   "outputs": [],
   "source": [
    "from pymongo import MongoClient\n",
    "\n",
    "client = MongoClient()\n",
    "db = client.uk_police\n",
    "collection = db.all_crime"
   ]
  },
  {
   "cell_type": "code",
   "execution_count": 20,
   "metadata": {
    "collapsed": true,
    "slideshow": {
     "slide_type": "skip"
    }
   },
   "outputs": [],
   "source": [
    "other_request = requests.get('https://data.police.uk/api/crimes-no-location?category=all-crime&force=warwickshire&date=2013-09')"
   ]
  },
  {
   "cell_type": "code",
   "execution_count": 21,
   "metadata": {
    "slideshow": {
     "slide_type": "skip"
    }
   },
   "outputs": [
    {
     "data": {
      "text/plain": [
       "[{u'category': u'burglary',\n",
       "  u'context': u'',\n",
       "  u'id': 26993975,\n",
       "  u'location': None,\n",
       "  u'location_subtype': u'',\n",
       "  u'location_type': None,\n",
       "  u'month': u'2013-09',\n",
       "  u'outcome_status': {u'category': u'Investigation complete; no suspect identified',\n",
       "   u'date': u'2013-10'},\n",
       "  u'persistent_id': u'601d1a058fb87207bfea500802ad9043fc9629fae479d0a9c3d2abd5b1bbe14d'},\n",
       " {u'category': u'burglary',\n",
       "  u'context': u'',\n",
       "  u'id': 26994099,\n",
       "  u'location': None,\n",
       "  u'location_subtype': u'',\n",
       "  u'location_type': None,\n",
       "  u'month': u'2013-09',\n",
       "  u'outcome_status': {u'category': u'Investigation complete; no suspect identified',\n",
       "   u'date': u'2013-10'},\n",
       "  u'persistent_id': u'34990376c7cb84ede03c06f3dda76cda7fd63cdaa9f2179213d9aa2d53b9d9e6'}]"
      ]
     },
     "execution_count": 21,
     "metadata": {},
     "output_type": "execute_result"
    }
   ],
   "source": [
    "other_request.json()[:2]"
   ]
  },
  {
   "cell_type": "code",
   "execution_count": null,
   "metadata": {
    "slideshow": {
     "slide_type": "skip"
    }
   },
   "outputs": [],
   "source": [
    "# Possible way to grab data for range of months and years\n",
    "for year in range(2001, 2016):\n",
    "    for month in range(1, 13):\n",
    "        r = requests.get('https://data.police.uk/api/crimes-no-location?category=all-crime&force=warwickshire&date={}-{}'.format(year, month))\n",
    "        collection.insert_many(r.json())"
   ]
  },
  {
   "cell_type": "code",
   "execution_count": null,
   "metadata": {
    "scrolled": true,
    "slideshow": {
     "slide_type": "skip"
    }
   },
   "outputs": [],
   "source": [
    "collection.insert_many(other_request.json())"
   ]
  },
  {
   "cell_type": "code",
   "execution_count": null,
   "metadata": {
    "collapsed": true,
    "slideshow": {
     "slide_type": "skip"
    }
   },
   "outputs": [],
   "source": [
    "import pprint as pp\n",
    "for item in collection.find({ 'category' : 'public-order' }):\n",
    "    pp.pprint(item)"
   ]
  },
  {
   "cell_type": "code",
   "execution_count": null,
   "metadata": {
    "collapsed": true,
    "slideshow": {
     "slide_type": "skip"
    }
   },
   "outputs": [],
   "source": [
    "# Remember to close the connection\n",
    "client.close()"
   ]
  }
 ],
 "metadata": {
  "celltoolbar": "Slideshow",
  "kernelspec": {
   "display_name": "Python 2",
   "language": "python",
   "name": "python2"
  },
  "language_info": {
   "codemirror_mode": {
    "name": "ipython",
    "version": 2
   },
   "file_extension": ".py",
   "mimetype": "text/x-python",
   "name": "python",
   "nbconvert_exporter": "python",
   "pygments_lexer": "ipython2",
   "version": "2.7.11"
  }
 },
 "nbformat": 4,
 "nbformat_minor": 1
}
