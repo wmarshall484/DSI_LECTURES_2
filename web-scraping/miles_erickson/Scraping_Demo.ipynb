{
 "cells": [
  {
   "cell_type": "code",
   "execution_count": 1,
   "metadata": {
    "ExecuteTime": {
     "end_time": "2016-10-04T14:48:58.308024",
     "start_time": "2016-10-04T14:48:58.224611"
    },
    "collapsed": true
   },
   "outputs": [],
   "source": [
    "import pymongo\n",
    "import requests\n",
    "from bs4 import BeautifulSoup\n",
    "import time\n",
    "import json"
   ]
  },
  {
   "cell_type": "code",
   "execution_count": 2,
   "metadata": {
    "ExecuteTime": {
     "end_time": "2016-10-04T14:48:58.324446",
     "start_time": "2016-10-04T14:48:58.309405"
    },
    "collapsed": true
   },
   "outputs": [],
   "source": [
    "# Set URL to scrape\n",
    "url = \"http://projects.fivethirtyeight.com/2016-election-forecast/?ex_cid=rrpromo\""
   ]
  },
  {
   "cell_type": "code",
   "execution_count": 3,
   "metadata": {
    "ExecuteTime": {
     "end_time": "2016-10-04T14:48:59.304964",
     "start_time": "2016-10-04T14:48:58.326107"
    },
    "collapsed": true
   },
   "outputs": [],
   "source": [
    "# Fetch the web page\n",
    "r = requests.get(url)\n",
    "html = r.content"
   ]
  },
  {
   "cell_type": "code",
   "execution_count": 4,
   "metadata": {
    "ExecuteTime": {
     "end_time": "2016-10-04T14:48:59.324427",
     "start_time": "2016-10-04T14:48:59.306852"
    },
    "collapsed": true
   },
   "outputs": [],
   "source": [
    "# Connect to MongoDB\n",
    "mc = pymongo.MongoClient()\n",
    "db = mc['foo']\n",
    "docs = db['docs']  # MongoDB Collection"
   ]
  },
  {
   "cell_type": "code",
   "execution_count": 5,
   "metadata": {
    "ExecuteTime": {
     "end_time": "2016-10-04T14:48:59.347806",
     "start_time": "2016-10-04T14:48:59.325995"
    },
    "collapsed": false
   },
   "outputs": [
    {
     "data": {
      "text/plain": [
       "<pymongo.results.DeleteResult at 0x107333aa0>"
      ]
     },
     "execution_count": 5,
     "metadata": {},
     "output_type": "execute_result"
    }
   ],
   "source": [
    "docs.delete_many({'ts': {'$exists': False}})"
   ]
  },
  {
   "cell_type": "code",
   "execution_count": 6,
   "metadata": {
    "ExecuteTime": {
     "end_time": "2016-10-04T14:48:59.374814",
     "start_time": "2016-10-04T14:48:59.349397"
    },
    "collapsed": false
   },
   "outputs": [
    {
     "data": {
      "text/plain": [
       "<pymongo.results.InsertOneResult at 0x107333910>"
      ]
     },
     "execution_count": 6,
     "metadata": {},
     "output_type": "execute_result"
    }
   ],
   "source": [
    "# Store the document in MongoDB with a timestamp\n",
    "docs.insert_one({'url': url,\n",
    "                 'ts': time.time(),\n",
    "                 'html': html\n",
    "                 })"
   ]
  },
  {
   "cell_type": "code",
   "execution_count": 7,
   "metadata": {
    "ExecuteTime": {
     "end_time": "2016-10-04T14:48:59.418017",
     "start_time": "2016-10-04T14:48:59.377011"
    },
    "collapsed": false
   },
   "outputs": [
    {
     "name": "stdout",
     "output_type": "stream",
     "text": [
      "URL: http://projects.fivethirtyeight.com/2016-election-forecast/?ex_cid=rrpromo\n",
      "Timestamp: 1475616631.93\n",
      "\n",
      "HTML:\n",
      "<!DOCTYPE html>\n",
      "<html lang=\"en\"><head data-prerender-ignore=\"\"><meta charset=\"UTF-8\"><meta name=\"viewport\" content=\"width=device-width, initial-scale=1, user-scalable=no\"><meta http-equiv=\"X-UA-Compat...\n"
     ]
    }
   ],
   "source": [
    "# Retrieve the document from MongoDB\n",
    "retrieved_document = docs.find_one({'url': url})\n",
    "\n",
    "# Show retrieved document\n",
    "print(\"URL: {}\".format(retrieved_document['url']))\n",
    "print(\"Timestamp: {}\").format(retrieved_document['ts'])\n",
    "print(\"\\nHTML:\\n{}...\".format(retrieved_document['html'][:200]))"
   ]
  },
  {
   "cell_type": "code",
   "execution_count": 8,
   "metadata": {
    "ExecuteTime": {
     "end_time": "2016-10-04T14:49:00.049941",
     "start_time": "2016-10-04T14:48:59.419432"
    },
    "collapsed": false
   },
   "outputs": [
    {
     "name": "stdout",
     "output_type": "stream",
     "text": [
      "['Hillary Clinton', '74.9%']\n",
      "['Donald Trump', '25.1%']\n"
     ]
    }
   ],
   "source": [
    "# Use BeautifulSoup to parse the HTML\n",
    "soup = BeautifulSoup(html, 'html.parser')\n",
    "candidate_text = soup.select(\"div.candidate-text\")\n",
    "candidates = candidate_text[:2]\n",
    "\n",
    "for c in candidates:\n",
    "    print([p.text.encode('utf-8') for p in c.select(\"p\")])"
   ]
  },
  {
   "cell_type": "code",
   "execution_count": 9,
   "metadata": {
    "ExecuteTime": {
     "end_time": "2016-10-04T14:49:00.068008",
     "start_time": "2016-10-04T14:49:00.051331"
    },
    "collapsed": false
   },
   "outputs": [
    {
     "data": {
      "text/plain": [
       "{u'nyt_key': u'80475398467'}"
      ]
     },
     "execution_count": 9,
     "metadata": {},
     "output_type": "execute_result"
    }
   ],
   "source": [
    "# 'secrets.json' is a text file containing one line:\n",
    "# {\"nyt_key\": ##CENSORED##}\n",
    "with open('secrets.json', 'r') as f:\n",
    "    json_str = f.read()\n",
    "    secrets = json.loads(json_str)\n",
    "    \n",
    "# Return the contents of secrets\n",
    "secrets"
   ]
  },
  {
   "cell_type": "code",
   "execution_count": 10,
   "metadata": {
    "ExecuteTime": {
     "end_time": "2016-10-04T14:49:03.090068",
     "start_time": "2016-10-04T14:49:00.069923"
    },
    "collapsed": false
   },
   "outputs": [
    {
     "name": "stdout",
     "output_type": "stream",
     "text": [
      "This took 3 seconds longer than usual.\n"
     ]
    }
   ],
   "source": [
    "# Don't forget to pause between HTTP requests.\n",
    "time.sleep(3)\n",
    "print(\"This took 3 seconds longer than usual.\")"
   ]
  }
 ],
 "metadata": {
  "kernelspec": {
   "display_name": "Python 2",
   "language": "python",
   "name": "python2"
  },
  "language_info": {
   "codemirror_mode": {
    "name": "ipython",
    "version": 2
   },
   "file_extension": ".py",
   "mimetype": "text/x-python",
   "name": "python",
   "nbconvert_exporter": "python",
   "pygments_lexer": "ipython2",
   "version": "2.7.11"
  }
 },
 "nbformat": 4,
 "nbformat_minor": 0
}
