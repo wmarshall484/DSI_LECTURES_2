{
 "cells": [
  {
   "cell_type": "markdown",
   "metadata": {},
   "source": [
    "# MongoDB"
   ]
  },
  {
   "cell_type": "markdown",
   "metadata": {},
   "source": [
    "## Left-align tables"
   ]
  },
  {
   "cell_type": "code",
   "execution_count": 1,
   "metadata": {
    "ExecuteTime": {
     "end_time": "2018-09-24T16:23:40.782859Z",
     "start_time": "2018-09-24T16:23:40.757443Z"
    }
   },
   "outputs": [
    {
     "data": {
      "text/html": [
       "<style>\n",
       "table td, table th {text-align: left !important}\n",
       "table {margin-left: 0 !important}\n",
       "</style>"
      ],
      "text/plain": [
       "<IPython.core.display.HTML object>"
      ]
     },
     "metadata": {},
     "output_type": "display_data"
    }
   ],
   "source": [
    "%%html\n",
    "<style>\n",
    "table td, table th {text-align: left !important}\n",
    "table {margin-left: 0 !important}\n",
    "</style>"
   ]
  },
  {
   "cell_type": "markdown",
   "metadata": {
    "ExecuteTime": {
     "end_time": "2018-09-24T13:50:04.406437Z",
     "start_time": "2018-09-24T13:50:04.388659Z"
    }
   },
   "source": [
    "## SQL vs. NoSQL\n",
    "\n",
    "### Examples of SQL and NoSQL Databases\n",
    "\n",
    "| Category | Examples\n",
    "| :- | :-\n",
    "| **SQL**      | PostgreSQL, MySQL, MS SQL Server, Oracle\n",
    "| **NoSQL**    | MongoDB, Amazon DynamoDB"
   ]
  },
  {
   "cell_type": "markdown",
   "metadata": {},
   "source": [
    "Documents and Collections\n",
    "\n",
    "| NoSQL | SQL | Explanation \n",
    "| - | - | - \n",
    "| Document | Record | Each row in a collection is called a _document_.<br />A document in a collection is analogous to a _record_ in a table.\n",
    "| Collection | Table | Unlike a table, a NoSQL collection does not have a fixed schema.\n",
    "| Database | Database | Each server can host more than one database.\n"
   ]
  },
  {
   "cell_type": "code",
   "execution_count": null,
   "metadata": {},
   "outputs": [],
   "source": []
  },
  {
   "cell_type": "code",
   "execution_count": null,
   "metadata": {},
   "outputs": [],
   "source": []
  }
 ],
 "metadata": {
  "kernelspec": {
   "display_name": "py36",
   "language": "python",
   "name": "py36"
  },
  "language_info": {
   "codemirror_mode": {
    "name": "ipython",
    "version": 3
   },
   "file_extension": ".py",
   "mimetype": "text/x-python",
   "name": "python",
   "nbconvert_exporter": "python",
   "pygments_lexer": "ipython3",
   "version": "3.6.5"
  }
 },
 "nbformat": 4,
 "nbformat_minor": 2
}
