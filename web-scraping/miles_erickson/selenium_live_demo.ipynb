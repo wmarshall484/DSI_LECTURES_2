{
 "cells": [
  {
   "cell_type": "code",
   "execution_count": 1,
   "metadata": {
    "ExecuteTime": {
     "end_time": "2017-05-24T14:31:17.284977",
     "start_time": "2017-05-24T14:31:17.195905"
    },
    "collapsed": true
   },
   "outputs": [],
   "source": [
    "from selenium import webdriver\n",
    "import selenium\n",
    "import time"
   ]
  },
  {
   "cell_type": "code",
   "execution_count": 2,
   "metadata": {
    "ExecuteTime": {
     "end_time": "2017-05-24T14:31:19.933818",
     "start_time": "2017-05-24T14:31:17.287154"
    },
    "collapsed": true
   },
   "outputs": [],
   "source": [
    "browser = webdriver.Firefox()"
   ]
  },
  {
   "cell_type": "code",
   "execution_count": 3,
   "metadata": {
    "ExecuteTime": {
     "end_time": "2017-05-24T14:31:21.466751",
     "start_time": "2017-05-24T14:31:19.935488"
    },
    "collapsed": true
   },
   "outputs": [],
   "source": [
    "browser.get(\"http://www.amazon.com/\")"
   ]
  },
  {
   "cell_type": "code",
   "execution_count": 4,
   "metadata": {
    "ExecuteTime": {
     "end_time": "2017-05-24T14:31:21.505391",
     "start_time": "2017-05-24T14:31:21.468701"
    },
    "collapsed": false
   },
   "outputs": [],
   "source": [
    "search_box = browser.find_element_by_css_selector(\"input#twotabsearchtextbox\")"
   ]
  },
  {
   "cell_type": "code",
   "execution_count": 5,
   "metadata": {
    "ExecuteTime": {
     "end_time": "2017-05-24T14:31:21.662360",
     "start_time": "2017-05-24T14:31:21.507515"
    },
    "collapsed": true
   },
   "outputs": [],
   "source": [
    "search_box.click()"
   ]
  },
  {
   "cell_type": "code",
   "execution_count": 6,
   "metadata": {
    "ExecuteTime": {
     "end_time": "2017-05-24T14:31:21.735832",
     "start_time": "2017-05-24T14:31:21.663806"
    },
    "collapsed": true
   },
   "outputs": [],
   "source": [
    "search_box.send_keys(\"alexa\")"
   ]
  },
  {
   "cell_type": "code",
   "execution_count": 7,
   "metadata": {
    "ExecuteTime": {
     "end_time": "2017-05-24T14:31:21.758095",
     "start_time": "2017-05-24T14:31:21.737599"
    },
    "collapsed": true
   },
   "outputs": [],
   "source": [
    "search_button = browser.find_element_by_css_selector(\"div.nav-search-submit input\")"
   ]
  },
  {
   "cell_type": "code",
   "execution_count": 8,
   "metadata": {
    "ExecuteTime": {
     "end_time": "2017-05-24T14:31:24.845165",
     "start_time": "2017-05-24T14:31:21.760224"
    },
    "collapsed": false
   },
   "outputs": [],
   "source": [
    "search_button.click()\n",
    "time.sleep(3)"
   ]
  },
  {
   "cell_type": "code",
   "execution_count": 9,
   "metadata": {
    "ExecuteTime": {
     "end_time": "2017-05-24T14:31:24.876029",
     "start_time": "2017-05-24T14:31:24.846800"
    },
    "collapsed": true
   },
   "outputs": [],
   "source": [
    "products = browser.find_elements_by_css_selector(\"div.a-fixed-left-grid-col.a-col-right\")"
   ]
  },
  {
   "cell_type": "code",
   "execution_count": 10,
   "metadata": {
    "ExecuteTime": {
     "end_time": "2017-05-24T14:31:26.234825",
     "start_time": "2017-05-24T14:31:24.878874"
    },
    "collapsed": false
   },
   "outputs": [],
   "source": [
    "titles_prices = []\n",
    "for p in products:\n",
    "    try:\n",
    "        title_element = p.find_element_by_css_selector(\"h2.s-access-title\")\n",
    "        title = title_element.text\n",
    "\n",
    "        price_whole_element = p.find_element_by_css_selector(\"span.sx-price-whole\")\n",
    "        price = price_whole_element.text\n",
    "\n",
    "        price_fractional_element = p.find_element_by_css_selector(\n",
    "            \"sup.sx-price-fractional\")\n",
    "        price += (\".\" + price_fractional_element.text)\n",
    "    except selenium.common.exceptions.NoSuchElementException:\n",
    "        continue\n",
    "    titles_prices.append((title, price))"
   ]
  },
  {
   "cell_type": "code",
   "execution_count": 11,
   "metadata": {
    "ExecuteTime": {
     "end_time": "2017-05-24T14:31:26.258338",
     "start_time": "2017-05-24T14:31:26.236251"
    },
    "collapsed": false
   },
   "outputs": [
    {
     "data": {
      "text/plain": [
       "[('Echo Dot (2nd Generation) - Black', '39.99'),\n",
       " ('Amazon Echo - Black', '179.99'),\n",
       " ('Amazon Tap - Alexa-Enabled Portable Bluetooth Speaker', '129.99'),\n",
       " ('Amazon Echo - White', '179.99'),\n",
       " ('Introducing Echo Show - Black', '229.99'),\n",
       " ('Alexa Voice Remote for Amazon Echo and Echo Dot', '29.99'),\n",
       " ('TP-Link Smart Plug, No Hub Required, Wi-Fi, Control your Devices from Anywhere, Works with Alexa (HS100)',\n",
       "  '25.99'),\n",
       " ('Philips Hue White A19 Starter Kit with two A19 LED light bulbs and bridge (hub), Works with Alexa',\n",
       "  '69.99'),\n",
       " ('All-New Fire HD 8 Tablet with Alexa, 8\" HD Display, 32 GB, Marine Blue - with Special Offers',\n",
       "  '109.99'),\n",
       " ('Certified Refurbished Echo Dot (2nd Generation) - Black', '44.99'),\n",
       " ('TP-Link Smart Plug Mini, No Hub Required, Wi-Fi, Works with Alexa, Control your Devices from Anywhere, Occupies Only One…',\n",
       "  '34.99'),\n",
       " ('Motion Activated Toilet Night light , Vintar Body Auto Motion Activated Sensor Colorful Nightlight, 16-Color Changes, Only…',\n",
       "  '10.99'),\n",
       " ('All-New Fire 7 Tablet with Alexa, 7\" Display, 8 GB, Marine Blue - with Special Offers',\n",
       "  '49.99'),\n",
       " ('TP-Link Smart Wi-Fi Light Switch, No Hub Required, Single Pole, Control Your Fixtures From Anywhere, Works with Alexa (HS200)',\n",
       "  '34.99'),\n",
       " ('2-Year Protection Plan for Amazon Fire TV Stick with Alexa Voice Remote (delivered via email)',\n",
       "  '4.99'),\n",
       " ('BFF For Alexa- Owl Statue Crafted Guard Station For Amazon Echo Dot 2nd And 1st generation Speaker,Jam Classic Speaker',\n",
       "  '18.50'),\n",
       " ('Certified Refurbished Amazon Echo', '134.99'),\n",
       " ('TP-Link HS100 Smart Plug (2-Pack), No Hub Required, Wi-Fi, Works with Alexa, Control Your Devices from anywhere (HS100…',\n",
       "  '54.76'),\n",
       " ('3-Year Protection Plan plus Accident Protection for All-New Fire HD 8 Tablet with Alexa (7th Generation, 2017 release) (delivered…',\n",
       "  '19.99'),\n",
       " ('Fire TV Stick with Alexa Voice Remote | Streaming Media Player', '39.99'),\n",
       " ('#1 Acrylic Amazon Alexa Echo Speaker Stand (Black) – Enhanced Strength and Stability to Protect Alexa Boom Speaker – Mount…',\n",
       "  '19.99'),\n",
       " ('Introducing Echo Show - White', '229.99'),\n",
       " ('Philips 4100448U7 Hue White Ambiance Being Flushmount 32 Connected LED Works with Amazon Alexa, Brush Aluminum',\n",
       "  '199.99'),\n",
       " ('Ecobee4 Alexa-Enabled Thermostat with Sensor', '249.00'),\n",
       " ('Logitech Harmony Elite Remote Control, Hub and App, works with Alexa',\n",
       "  '297.82'),\n",
       " ('Insteon Central Controller Hub, Works with Alexa, 2245-222', '58.44'),\n",
       " ('YEELIGHT Smart Wifi LED Lightstrip, Color Changing Light Strip Rope, Android IOS Smartphone and Amazon Alexa Compatible…',\n",
       "  '29.99')]"
      ]
     },
     "execution_count": 11,
     "metadata": {},
     "output_type": "execute_result"
    }
   ],
   "source": [
    "titles_prices"
   ]
  }
 ],
 "metadata": {
  "kernelspec": {
   "display_name": "py36",
   "language": "python",
   "name": "py36"
  },
  "language_info": {
   "codemirror_mode": {
    "name": "ipython",
    "version": 3
   },
   "file_extension": ".py",
   "mimetype": "text/x-python",
   "name": "python",
   "nbconvert_exporter": "python",
   "pygments_lexer": "ipython3",
   "version": "3.6.0"
  }
 },
 "nbformat": 4,
 "nbformat_minor": 0
}
