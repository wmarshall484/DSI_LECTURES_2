{
 "cells": [
  {
   "cell_type": "code",
   "execution_count": 73,
   "metadata": {
    "ExecuteTime": {
     "end_time": "2018-09-21T23:00:22.080350Z",
     "start_time": "2018-09-21T23:00:22.055043Z"
    }
   },
   "outputs": [],
   "source": [
    "from pymongo import MongoClient"
   ]
  },
  {
   "cell_type": "code",
   "execution_count": 2,
   "metadata": {
    "ExecuteTime": {
     "end_time": "2018-09-21T20:43:05.444320Z",
     "start_time": "2018-09-21T20:43:05.426002Z"
    }
   },
   "outputs": [],
   "source": [
    "import urllib.parse"
   ]
  },
  {
   "cell_type": "code",
   "execution_count": 27,
   "metadata": {
    "ExecuteTime": {
     "end_time": "2018-09-21T20:51:08.354724Z",
     "start_time": "2018-09-21T20:51:08.335820Z"
    }
   },
   "outputs": [],
   "source": [
    "url = 'https://apps.bea.gov/iTable/iTable.cfm?reqid=70&step=10&isuri=1&7003=200&7035=-1&7004=naics&7005=-1&7006=00000&7036=-1&7001=1200&7002=1&7090=70&7007=-1&7093=levels'\n",
    "params = urllib.parse.parse_qs(url.partition('?')[2])"
   ]
  },
  {
   "cell_type": "code",
   "execution_count": 28,
   "metadata": {
    "ExecuteTime": {
     "end_time": "2018-09-21T20:51:10.833255Z",
     "start_time": "2018-09-21T20:51:10.814990Z"
    }
   },
   "outputs": [
    {
     "data": {
      "text/plain": [
       "{'reqid': ['70'],\n",
       " 'step': ['10'],\n",
       " 'isuri': ['1'],\n",
       " '7003': ['200'],\n",
       " '7035': ['-1'],\n",
       " '7004': ['naics'],\n",
       " '7005': ['-1'],\n",
       " '7006': ['00000'],\n",
       " '7036': ['-1'],\n",
       " '7001': ['1200'],\n",
       " '7002': ['1'],\n",
       " '7090': ['70'],\n",
       " '7007': ['-1'],\n",
       " '7093': ['levels']}"
      ]
     },
     "execution_count": 28,
     "metadata": {},
     "output_type": "execute_result"
    }
   ],
   "source": [
    "params"
   ]
  },
  {
   "cell_type": "code",
   "execution_count": 22,
   "metadata": {
    "ExecuteTime": {
     "end_time": "2018-09-21T20:49:42.304664Z",
     "start_time": "2018-09-21T20:49:42.286797Z"
    }
   },
   "outputs": [],
   "source": [
    "qs = urllib.parse.urlencode(params)"
   ]
  },
  {
   "cell_type": "code",
   "execution_count": 20,
   "metadata": {
    "ExecuteTime": {
     "end_time": "2018-09-21T20:49:33.098018Z",
     "start_time": "2018-09-21T20:49:33.080225Z"
    }
   },
   "outputs": [],
   "source": [
    "base_url = 'https://api.foo.bar/'"
   ]
  },
  {
   "cell_type": "code",
   "execution_count": 32,
   "metadata": {
    "ExecuteTime": {
     "end_time": "2018-09-21T22:25:26.973676Z",
     "start_time": "2018-09-21T22:25:26.511781Z"
    },
    "scrolled": true
   },
   "outputs": [],
   "source": [
    "import requests\n",
    "from bs4 import BeautifulSoup"
   ]
  },
  {
   "cell_type": "code",
   "execution_count": null,
   "metadata": {},
   "outputs": [],
   "source": []
  },
  {
   "cell_type": "code",
   "execution_count": 33,
   "metadata": {
    "ExecuteTime": {
     "end_time": "2018-09-21T22:25:31.864396Z",
     "start_time": "2018-09-21T22:25:31.840046Z"
    }
   },
   "outputs": [],
   "source": [
    "name = \"Elon Musk\"\n",
    "name = name.replace(' ', '_')\n",
    "url = f\"https://en.wikipedia.org/wiki/{name}\""
   ]
  },
  {
   "cell_type": "code",
   "execution_count": 34,
   "metadata": {
    "ExecuteTime": {
     "end_time": "2018-09-21T22:25:33.000959Z",
     "start_time": "2018-09-21T22:25:32.375006Z"
    }
   },
   "outputs": [],
   "source": [
    "response = requests.get(url)\n",
    "html = response.content\n",
    "soup = BeautifulSoup(html, 'html.parser')\n",
    "sel = 'span.ForceAgeToShow'\n",
    "soup.select_one(sel).text.partition('\\xa0')[2].strip(')')"
   ]
  },
  {
   "cell_type": "code",
   "execution_count": 126,
   "metadata": {
    "ExecuteTime": {
     "end_time": "2018-09-21T23:47:45.095587Z",
     "start_time": "2018-09-21T23:47:45.072413Z"
    }
   },
   "outputs": [],
   "source": [
    "def get_age(name, scraper=scrape_mongo):\n",
    "    \"\"\"Return the age of the named celebrity via Wikipedia.\"\"\"\n",
    "    name = name.replace(' ', '_')\n",
    "    url = f\"https://en.wikipedia.org/wiki/{name}\"\n",
    "    html = scraper(url)\n",
    "    soup = BeautifulSoup(html, 'html.parser')\n",
    "    sel = 'span.ForceAgeToShow'\n",
    "    return int(soup.select_one(sel).text.partition('\\xa0')[2].strip(')'))"
   ]
  },
  {
   "cell_type": "code",
   "execution_count": 110,
   "metadata": {
    "ExecuteTime": {
     "end_time": "2018-09-21T23:44:35.000235Z",
     "start_time": "2018-09-21T23:44:34.976619Z"
    }
   },
   "outputs": [],
   "source": [
    "def scrape_mongo(url):\n",
    "    \"\"\"Return the HTML content of url.\"\"\"\n",
    "    mc = MongoClient()\n",
    "    db = mc['cache']\n",
    "    pages = db['pages']\n",
    "    cached_page = pages.find_one({'url': url})\n",
    "    if cached_page is None:\n",
    "        print(f\"Fetching {url}\")\n",
    "        response = requests.get(url)\n",
    "        if response.status_code == 200:\n",
    "            pages.insert_one({'url': url,\n",
    "                              'html': response.content})   \n",
    "        else:\n",
    "            pages.insert_one({'url': url,\n",
    "                              'html': None})   \n",
    "    return pages.find_one({'url': url})['html']\n",
    "    "
   ]
  },
  {
   "cell_type": "code",
   "execution_count": 111,
   "metadata": {
    "ExecuteTime": {
     "end_time": "2018-09-21T23:44:35.650393Z",
     "start_time": "2018-09-21T23:44:35.623508Z"
    }
   },
   "outputs": [],
   "source": [
    "html = scrape_mongo(url)"
   ]
  },
  {
   "cell_type": "code",
   "execution_count": 112,
   "metadata": {
    "ExecuteTime": {
     "end_time": "2018-09-21T23:44:36.446044Z",
     "start_time": "2018-09-21T23:44:36.423923Z"
    }
   },
   "outputs": [
    {
     "data": {
      "text/plain": [
       "b'<!DOCTYPE html>\\n<html class=\"client-nojs\" lang=\"en\" dir=\"ltr\">\\n<head>\\n<meta charset=\"UTF-8\"/>\\n<title>Elon Musk - Wikipedia</title>\\n<script>document.documentElement.className = document.documentElement.className.replace( /(^|\\\\s)client-nojs(\\\\s|$)/, \"$1client-js$2\" );</script>\\n<script>(window.RLQ=windo'"
      ]
     },
     "execution_count": 112,
     "metadata": {},
     "output_type": "execute_result"
    }
   ],
   "source": [
    "html[:300]"
   ]
  },
  {
   "cell_type": "code",
   "execution_count": 129,
   "metadata": {
    "ExecuteTime": {
     "end_time": "2018-09-21T23:48:13.370186Z",
     "start_time": "2018-09-21T23:48:13.344679Z"
    }
   },
   "outputs": [],
   "source": [
    "mc = MongoClient()\n",
    "db = mc['cache']\n",
    "pages = db['pages']\n",
    "cached_page = pages.find_one({'url': url})"
   ]
  },
  {
   "cell_type": "code",
   "execution_count": 114,
   "metadata": {
    "ExecuteTime": {
     "end_time": "2018-09-21T23:44:38.023152Z",
     "start_time": "2018-09-21T23:44:38.000600Z"
    }
   },
   "outputs": [
    {
     "data": {
      "text/plain": [
       "False"
      ]
     },
     "execution_count": 114,
     "metadata": {},
     "output_type": "execute_result"
    }
   ],
   "source": [
    "cached_page is None"
   ]
  },
  {
   "cell_type": "code",
   "execution_count": 115,
   "metadata": {
    "ExecuteTime": {
     "end_time": "2018-09-21T23:44:38.463161Z",
     "start_time": "2018-09-21T23:44:38.439988Z"
    }
   },
   "outputs": [],
   "source": [
    "class Scraper:\n",
    "    def __init__(self):\n",
    "        self.cache = {}\n",
    "    def scrape(self, url):\n",
    "        if url not in self.cache:\n",
    "            response = requests.get(url)\n",
    "            if response.status_code == 200:\n",
    "                self.cache[url] = response.content\n",
    "            else:\n",
    "                self.cache[url] = None\n",
    "        return self.cache[url]\n",
    "\n",
    "scraper = Scraper()"
   ]
  },
  {
   "cell_type": "code",
   "execution_count": 116,
   "metadata": {
    "ExecuteTime": {
     "end_time": "2018-09-21T23:44:39.529359Z",
     "start_time": "2018-09-21T23:44:39.030478Z"
    }
   },
   "outputs": [
    {
     "data": {
      "text/plain": [
       "84"
      ]
     },
     "execution_count": 116,
     "metadata": {},
     "output_type": "execute_result"
    }
   ],
   "source": [
    "get_age('Jane Goodall')"
   ]
  },
  {
   "cell_type": "code",
   "execution_count": 117,
   "metadata": {
    "ExecuteTime": {
     "end_time": "2018-09-21T23:44:40.315587Z",
     "start_time": "2018-09-21T23:44:39.824113Z"
    }
   },
   "outputs": [
    {
     "data": {
      "text/plain": [
       "84"
      ]
     },
     "execution_count": 117,
     "metadata": {},
     "output_type": "execute_result"
    }
   ],
   "source": [
    "get_age('Jane Goodall', scraper=scraper.scrape)"
   ]
  },
  {
   "cell_type": "code",
   "execution_count": 118,
   "metadata": {
    "ExecuteTime": {
     "end_time": "2018-09-21T23:44:40.724982Z",
     "start_time": "2018-09-21T23:44:40.317394Z"
    }
   },
   "outputs": [
    {
     "data": {
      "text/plain": [
       "62"
      ]
     },
     "execution_count": 118,
     "metadata": {},
     "output_type": "execute_result"
    }
   ],
   "source": [
    "get_age('Guido Van Rossum')"
   ]
  },
  {
   "cell_type": "code",
   "execution_count": 119,
   "metadata": {
    "ExecuteTime": {
     "end_time": "2018-09-21T23:44:40.987557Z",
     "start_time": "2018-09-21T23:44:40.965897Z"
    }
   },
   "outputs": [],
   "source": [
    "names = ['Linus Torvalds',\n",
    "         'Britney Spears',\n",
    "         'Noam Chomsky',\n",
    "         'Ric Flair']"
   ]
  },
  {
   "cell_type": "code",
   "execution_count": 104,
   "metadata": {
    "ExecuteTime": {
     "end_time": "2018-09-21T23:43:53.557000Z",
     "start_time": "2018-09-21T23:43:53.531953Z"
    }
   },
   "outputs": [],
   "source": [
    "from multiprocessing import Pool"
   ]
  },
  {
   "cell_type": "code",
   "execution_count": 105,
   "metadata": {
    "ExecuteTime": {
     "end_time": "2018-09-21T23:43:53.956288Z",
     "start_time": "2018-09-21T23:43:53.818989Z"
    }
   },
   "outputs": [],
   "source": [
    "pool = Pool(20)"
   ]
  },
  {
   "cell_type": "code",
   "execution_count": 128,
   "metadata": {
    "ExecuteTime": {
     "end_time": "2018-09-21T23:47:59.215294Z",
     "start_time": "2018-09-21T23:47:58.681293Z"
    }
   },
   "outputs": [
    {
     "data": {
      "text/plain": [
       "[48, 36, 89, 69]"
      ]
     },
     "execution_count": 128,
     "metadata": {},
     "output_type": "execute_result"
    }
   ],
   "source": [
    "pool.map(get_age, names)"
   ]
  },
  {
   "cell_type": "code",
   "execution_count": 123,
   "metadata": {
    "ExecuteTime": {
     "end_time": "2018-09-21T23:47:18.841569Z",
     "start_time": "2018-09-21T23:47:17.505135Z"
    }
   },
   "outputs": [
    {
     "data": {
      "text/plain": [
       "[48, 36, 89, 69]"
      ]
     },
     "execution_count": 123,
     "metadata": {},
     "output_type": "execute_result"
    }
   ],
   "source": [
    "list(map(get_age, names))"
   ]
  },
  {
   "cell_type": "code",
   "execution_count": 120,
   "metadata": {
    "ExecuteTime": {
     "end_time": "2018-09-21T23:46:50.405416Z",
     "start_time": "2018-09-21T23:46:50.380106Z"
    }
   },
   "outputs": [
    {
     "data": {
      "text/plain": [
       "7"
      ]
     },
     "execution_count": 120,
     "metadata": {},
     "output_type": "execute_result"
    }
   ],
   "source": [
    "db['pages'].find().count()"
   ]
  },
  {
   "cell_type": "code",
   "execution_count": 125,
   "metadata": {
    "ExecuteTime": {
     "end_time": "2018-09-21T23:47:31.043452Z",
     "start_time": "2018-09-21T23:47:30.961078Z"
    }
   },
   "outputs": [
    {
     "data": {
      "text/plain": [
       "62"
      ]
     },
     "execution_count": 125,
     "metadata": {},
     "output_type": "execute_result"
    }
   ],
   "source": [
    "get_age('Guido van Rossum')"
   ]
  },
  {
   "cell_type": "code",
   "execution_count": null,
   "metadata": {},
   "outputs": [],
   "source": []
  }
 ],
 "metadata": {
  "kernelspec": {
   "display_name": "py36",
   "language": "python",
   "name": "py36"
  },
  "language_info": {
   "codemirror_mode": {
    "name": "ipython",
    "version": 3
   },
   "file_extension": ".py",
   "mimetype": "text/x-python",
   "name": "python",
   "nbconvert_exporter": "python",
   "pygments_lexer": "ipython3",
   "version": "3.6.5"
  }
 },
 "nbformat": 4,
 "nbformat_minor": 2
}
