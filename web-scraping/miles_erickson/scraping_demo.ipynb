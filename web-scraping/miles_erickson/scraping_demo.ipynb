{
 "cells": [
  {
   "cell_type": "code",
   "execution_count": null,
   "metadata": {
    "ExecuteTime": {
     "end_time": "2017-05-24T08:23:36.352906",
     "start_time": "2017-05-24T08:23:35.963030"
    },
    "collapsed": true
   },
   "outputs": [],
   "source": [
    "import pymongo\n",
    "import requests\n",
    "from bs4 import BeautifulSoup\n",
    "import time\n",
    "import json"
   ]
  },
  {
   "cell_type": "code",
   "execution_count": null,
   "metadata": {
    "ExecuteTime": {
     "end_time": "2017-05-24T08:23:36.373381",
     "start_time": "2017-05-24T08:23:36.354669"
    },
    "collapsed": true
   },
   "outputs": [],
   "source": [
    "mc = pymongo.MongoClient()  # Connect to the MongoDB server using default settings\n",
    "db = mc['election_predictions']  # Use (or create) a database called 'election_predictions'\n",
    "docs = db['docs']  # Use (or create) a collection called 'docs'"
   ]
  },
  {
   "cell_type": "code",
   "execution_count": null,
   "metadata": {
    "ExecuteTime": {
     "end_time": "2017-05-24T08:34:43.217088",
     "start_time": "2017-05-24T08:34:43.196455"
    },
    "collapsed": false
   },
   "outputs": [],
   "source": [
    "docs.count()"
   ]
  },
  {
   "cell_type": "code",
   "execution_count": null,
   "metadata": {
    "ExecuteTime": {
     "end_time": "2017-05-24T08:34:49.600372",
     "start_time": "2017-05-24T08:34:49.579608"
    },
    "collapsed": false
   },
   "outputs": [],
   "source": [
    "docs.delete_many({})  # Delete all documents"
   ]
  },
  {
   "cell_type": "code",
   "execution_count": null,
   "metadata": {
    "ExecuteTime": {
     "end_time": "2017-05-24T08:34:50.887651",
     "start_time": "2017-05-24T08:34:50.866892"
    },
    "collapsed": false
   },
   "outputs": [],
   "source": [
    "docs.count()"
   ]
  },
  {
   "cell_type": "code",
   "execution_count": null,
   "metadata": {
    "ExecuteTime": {
     "end_time": "2017-05-24T08:23:36.488032",
     "start_time": "2017-05-24T08:23:36.463973"
    },
    "collapsed": true
   },
   "outputs": [],
   "source": [
    "# Set URL to scrape\n",
    "url = \"http://projects.fivethirtyeight.com/2016-election-forecast/?ex_cid=rrpromo\""
   ]
  },
  {
   "cell_type": "code",
   "execution_count": null,
   "metadata": {
    "ExecuteTime": {
     "end_time": "2017-05-24T08:23:36.830245",
     "start_time": "2017-05-24T08:23:36.489749"
    },
    "collapsed": true
   },
   "outputs": [],
   "source": [
    "r = requests.get(url)  # Fetch the web page\n",
    "html = r.content  # Store the HTML content as a string"
   ]
  },
  {
   "cell_type": "code",
   "execution_count": null,
   "metadata": {
    "ExecuteTime": {
     "end_time": "2017-05-24T08:23:36.851635",
     "start_time": "2017-05-24T08:23:36.832093"
    },
    "collapsed": false
   },
   "outputs": [],
   "source": [
    "r.status_code  # 200 indicates success, anything else indicates an issue"
   ]
  },
  {
   "cell_type": "code",
   "execution_count": null,
   "metadata": {
    "ExecuteTime": {
     "end_time": "2017-05-24T08:23:36.964662",
     "start_time": "2017-05-24T08:23:36.853875"
    },
    "collapsed": false
   },
   "outputs": [],
   "source": [
    "# Store the document in MongoDB with a timestamp\n",
    "docs.insert_one({'url': url,\n",
    "                 'ts': time.time(),\n",
    "                 'html': html\n",
    "                 })"
   ]
  },
  {
   "cell_type": "code",
   "execution_count": null,
   "metadata": {
    "ExecuteTime": {
     "end_time": "2017-05-24T08:23:36.994862",
     "start_time": "2017-05-24T08:23:36.966427"
    },
    "collapsed": true
   },
   "outputs": [],
   "source": [
    "# Retrieve the document from MongoDB\n",
    "retrieved_document = docs.find_one({'url': url})"
   ]
  },
  {
   "cell_type": "code",
   "execution_count": null,
   "metadata": {
    "ExecuteTime": {
     "end_time": "2017-05-24T08:23:37.021530",
     "start_time": "2017-05-24T08:23:36.997410"
    },
    "collapsed": false
   },
   "outputs": [],
   "source": [
    "type(retrieved_document)"
   ]
  },
  {
   "cell_type": "code",
   "execution_count": null,
   "metadata": {
    "ExecuteTime": {
     "end_time": "2017-05-24T08:23:37.052297",
     "start_time": "2017-05-24T08:23:37.023823"
    },
    "collapsed": false
   },
   "outputs": [],
   "source": [
    "retrieved_document.keys()"
   ]
  },
  {
   "cell_type": "code",
   "execution_count": null,
   "metadata": {
    "ExecuteTime": {
     "end_time": "2017-05-24T08:23:37.091726",
     "start_time": "2017-05-24T08:23:37.056773"
    },
    "collapsed": false
   },
   "outputs": [],
   "source": [
    "# Show retrieved document\n",
    "print(\"\\nID:\\n{}\").format(retrieved_document['_id'])\n",
    "print(\"\\nURL:\\n{}\".format(retrieved_document['url']))\n",
    "print(\"\\nTimestamp:\\n{}\").format(retrieved_document['ts'])\n",
    "print(\"\\nHTML:\\n{}...\".format(retrieved_document['html'][:500]))"
   ]
  },
  {
   "cell_type": "code",
   "execution_count": null,
   "metadata": {
    "ExecuteTime": {
     "end_time": "2017-05-24T08:23:38.129688",
     "start_time": "2017-05-24T08:23:37.094059"
    },
    "collapsed": false
   },
   "outputs": [],
   "source": [
    "# Use BeautifulSoup to parse the HTML\n",
    "soup = BeautifulSoup(html, 'html.parser')\n",
    "candidate_text = soup.select(\"div.candidate-text\")\n",
    "candidates = candidate_text[:2]\n",
    "\n",
    "for c in candidates:\n",
    "    print([p.text.encode('utf-8') for p in c.select(\"p\")])"
   ]
  },
  {
   "cell_type": "code",
   "execution_count": null,
   "metadata": {
    "ExecuteTime": {
     "end_time": "2017-05-24T08:25:54.743173",
     "start_time": "2017-05-24T08:25:54.722339"
    },
    "collapsed": false
   },
   "outputs": [],
   "source": [
    "# 'secrets.json' is a text file containing one line:\n",
    "# {\"nyt_key\": ##CENSORED##}\n",
    "with open('secrets.json', 'r') as f:\n",
    "    json_str = f.read()\n",
    "    secrets = json.loads(json_str)\n",
    "    \n",
    "# Return the contents of secrets\n",
    "secrets"
   ]
  },
  {
   "cell_type": "code",
   "execution_count": null,
   "metadata": {
    "ExecuteTime": {
     "end_time": "2017-05-24T08:26:58.650846",
     "start_time": "2017-05-24T08:26:55.630558"
    },
    "collapsed": false
   },
   "outputs": [],
   "source": [
    "DELAY = 3  # time to wait between HTTP requests\n",
    "time.sleep(DELAY)  # pause between HTTP requests\n",
    "print(\"This took {} seconds longer than usual.\".format(DELAY))"
   ]
  },
  {
   "cell_type": "code",
   "execution_count": null,
   "metadata": {
    "collapsed": true
   },
   "outputs": [],
   "source": []
  }
 ],
 "metadata": {
  "kernelspec": {
   "display_name": "Python 2",
   "language": "python",
   "name": "python2"
  },
  "language_info": {
   "codemirror_mode": {
    "name": "ipython",
    "version": 2
   },
   "file_extension": ".py",
   "mimetype": "text/x-python",
   "name": "python",
   "nbconvert_exporter": "python",
   "pygments_lexer": "ipython2",
   "version": "2.7.13"
  }
 },
 "nbformat": 4,
 "nbformat_minor": 0
}
