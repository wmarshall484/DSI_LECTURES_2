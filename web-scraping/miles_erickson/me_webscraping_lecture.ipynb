{
 "cells": [
  {
   "cell_type": "markdown",
   "metadata": {},
   "source": [
    "# Web Scraping and HTML Concepts\n"
   ]
  },
  {
   "cell_type": "markdown",
   "metadata": {},
   "source": [
    "## DSI Standards: Web Scraping\n",
    "\n",
    "* Compare and contrast SQL and NoSQL\n",
    "* Complete basic operations with mongo\n",
    "* Explain the basic concepts of HTML\n",
    "* Write Python code to pull out an element from a web page\n",
    "* Fetch data from an existing API"
   ]
  },
  {
   "cell_type": "markdown",
   "metadata": {},
   "source": [
    "### Morning:\n",
    "* *Describe* a typical web scraping data pipeline\n",
    "* *Compare and Contrast* SQL and noSQL\n",
    "* *Perform* basic operations using Mongo\n",
    "* *Explain* the basic concepts of HTML\n",
    "\n",
    "### Afternoon:\n",
    "* *Learn how to* write code to pull elements from a web page\n",
    "* *Use* an existing API to fetch data and parse using BeautifulSoup\n"
   ]
  },
  {
   "cell_type": "markdown",
   "metadata": {},
   "source": [
    "## 1. Resources\n",
    "\n",
    "* [Precourse-Web Awareness](https://github.com/zipfian/precourse/tree/master/Chapter_8_Web_Awareness)\n",
    "* [The Little MongoDB Bok](http://openmymind.net/mongodb.pdf)\n",
    "* [w3 schools](http://www.w3schools.com/)\n",
    "* [PyMongo tutorial](http://api.mongodb.org/python/current/tutorial.html)\n",
    "* [BeautifulSoup Documentation](http://www.crummy.com/software/BeautifulSoup/bs4/doc/)\n",
    "* [Scrape anonymously with Tor](https://deshmukhsuraj.wordpress.com/2015/03/08/anonymous-web-scraping-using-python-and-tor/)\n",
    "\n"
   ]
  },
  {
   "cell_type": "markdown",
   "metadata": {},
   "source": [
    "## 2. Installing Mongo and PyMongo\n",
    "\n",
    "### Mongo\n",
    "1. Install MongoDB: `brew install mongodb`\n",
    "2. Start MongoDB: `brew services start mongodb`\n",
    "\n",
    "#### Do *not* run services as `root`.\n",
    "\n",
    "### PyMongo\n",
    "2. Install PyMongo: `conda install pymongo`"
   ]
  },
  {
   "cell_type": "markdown",
   "metadata": {},
   "source": [
    "## 3. Typical Pipeline\n",
    "<img src=\"images/pipeline.png\" width = 500>"
   ]
  },
  {
   "cell_type": "markdown",
   "metadata": {},
   "source": [
    "## 4. SQL vs NoSQL\n",
    "\n",
    "* Contrary to what some folks may want, NoSQL does not stand for 'No SQL'.\n",
    "* Different Paradigm to deal with messy data that does not lend itself to an RDBMS\n",
    "* A NoSQL stack may include a RDBMS component, Redis to handle queuing and Hadoop for Big Data processing\n",
    "* NoSQL ==> \"Not Only SQL\"\n"
   ]
  },
  {
   "cell_type": "markdown",
   "metadata": {},
   "source": [
    "## 5. MongoDB Concepts\n",
    "\n",
    "* MongoDB is a document-oriented database, an alternative to RDBMS\n",
    "* Used for storing semi-structured data\n",
    "* JSON-like objects form the data model, rather than RDBMS tables\n",
    "* No schema, No joins, No transactions\n",
    "* Sub-optimal for complicated queries\n",
    "\n",
    "* MongoDB is made up of databases which contain collections (tables)\n",
    "* A collection is made up of documents (analogous to rows or records)\n",
    "* Each document is made up of key-value pairs (analogous to columns)\n",
    "\n",
    "* RDBMS defines columns at the table level, document oriented database defines its fields at a document level.\n",
    "\n",
    "* CURSOR: When you ask MongoDB for data, it returns a pointer to the result set called a cursor.\n",
    "\n",
    "* Actual execution is delayed until necessary.\n",
    "\n"
   ]
  },
  {
   "cell_type": "markdown",
   "metadata": {},
   "source": [
    "### Mongo Clients\n",
    "<img src=\"images/client-server.png\" width = 500>\n"
   ]
  },
  {
   "cell_type": "markdown",
   "metadata": {},
   "source": [
    "## 6.  Create a Database and do some operations\n",
    "\n",
    "* Mongo can create databases, collections, documents, etc. on the fly. \n",
    "* To create a new database simply try to use the database you haven't created: use my_new_database"
   ]
  },
  {
   "cell_type": "markdown",
   "metadata": {},
   "source": [
    "## Inserting Data\n",
    "```\n",
    "db.users.insert({name: 'Jon',\n",
    "                 age: '45',\n",
    "                 friends: ['Henry', 'Ashley']\n",
    "                 })\n",
    "\n",
    "show dbs\n",
    "db.getCollectionNames()\n",
    "\n",
    "db.users.insert({name: 'Ashley',\n",
    "                 age: '37',\n",
    "                 friends: ['Jon', 'Henry']\n",
    "                 })\n",
    "                 \n",
    "db.users.insert({name: 'Frank',\n",
    "                 age: '17',\n",
    "                 friends: ['Billy'],\n",
    "                 car: 'Civic'})\n",
    "\n",
    "db.users.find()\n",
    "```\n",
    "* Mongo creates the _id field by default"
   ]
  },
  {
   "cell_type": "markdown",
   "metadata": {},
   "source": [
    "## Querying Data\n",
    "```\n",
    "// find by single field\n",
    "db.users.find({ name: 'Jon'})\n",
    "\n",
    "// find by presence of field\n",
    "db.users.find({ car: { $exists : true } })\n",
    "\n",
    "// find by value in array\n",
    "db.users.find({ friends: 'Henry' })\n",
    "\n",
    "// field selection (only return name)\n",
    "db.users.find({}, { name: true })\n",
    "```\n"
   ]
  },
  {
   "cell_type": "markdown",
   "metadata": {},
   "source": [
    "## Updating Data"
   ]
  },
  {
   "cell_type": "markdown",
   "metadata": {},
   "source": [
    "```\n",
    "// replaces friends array\n",
    "db.users.update({name: \"Jon\"}, { $set: {friends: [\"Phil\"]}})\n",
    "\n",
    "// adds to friends array\n",
    "db.users.update({name: \"Jon\"}, { $push: {friends: \"Susie\"}})\n",
    "\n",
    "// upsert\n",
    "db.users.update({name: \"Stevie\"}, { $push: {friends: \"Nicks\"}}, true)\n",
    "\n",
    "// multiple updates\n",
    "db.users.update({}, { $set: { activated : false } }, false, true)\n",
    "```"
   ]
  },
  {
   "cell_type": "markdown",
   "metadata": {},
   "source": [
    "## Deleting Data\n",
    "```\n",
    "db.users.remove({})\n",
    "```"
   ]
  },
  {
   "cell_type": "markdown",
   "metadata": {},
   "source": [
    "# MongoDB Example"
   ]
  },
  {
   "cell_type": "markdown",
   "metadata": {},
   "source": [
    "## PyMongo\n"
   ]
  },
  {
   "cell_type": "code",
   "execution_count": 1,
   "metadata": {
    "ExecuteTime": {
     "end_time": "2016-06-20T16:43:39.233966",
     "start_time": "2016-06-20T16:43:39.156749"
    },
    "collapsed": true
   },
   "outputs": [],
   "source": [
    "# import MongoDB modules\n",
    "from pymongo import MongoClient"
   ]
  },
  {
   "cell_type": "code",
   "execution_count": 2,
   "metadata": {
    "ExecuteTime": {
     "end_time": "2016-06-20T16:43:40.363826",
     "start_time": "2016-06-20T16:43:40.347907"
    },
    "collapsed": true
   },
   "outputs": [],
   "source": [
    "# connect to the hosted MongoDB instance\n",
    "client = MongoClient('mongodb://localhost:27017/')"
   ]
  },
  {
   "cell_type": "code",
   "execution_count": 3,
   "metadata": {
    "ExecuteTime": {
     "end_time": "2016-06-20T16:43:42.583968",
     "start_time": "2016-06-20T16:43:42.572067"
    },
    "collapsed": true
   },
   "outputs": [],
   "source": [
    "db = client.lb_tst1"
   ]
  },
  {
   "cell_type": "code",
   "execution_count": 4,
   "metadata": {
    "ExecuteTime": {
     "end_time": "2016-06-20T16:43:44.037973",
     "start_time": "2016-06-20T16:43:44.027177"
    },
    "collapsed": true
   },
   "outputs": [],
   "source": [
    "# Create a collection called users\n",
    "users = db.lb_tst1"
   ]
  },
  {
   "cell_type": "code",
   "execution_count": 5,
   "metadata": {
    "ExecuteTime": {
     "end_time": "2016-06-20T16:43:45.358598",
     "start_time": "2016-06-20T16:43:45.298820"
    },
    "collapsed": false
   },
   "outputs": [
    {
     "data": {
      "text/plain": [
       "<pymongo.results.InsertOneResult at 0x10647f410>"
      ]
     },
     "execution_count": 5,
     "metadata": {},
     "output_type": "execute_result"
    }
   ],
   "source": [
    "users.insert_one({'name':'lekha', 'city':'seattle'})"
   ]
  },
  {
   "cell_type": "code",
   "execution_count": 6,
   "metadata": {
    "ExecuteTime": {
     "end_time": "2016-06-20T16:43:47.845885",
     "start_time": "2016-06-20T16:43:47.833624"
    },
    "collapsed": false
   },
   "outputs": [
    {
     "data": {
      "text/plain": [
       "<pymongo.results.InsertOneResult at 0x10647f5a0>"
      ]
     },
     "execution_count": 6,
     "metadata": {},
     "output_type": "execute_result"
    }
   ],
   "source": [
    "users.insert_one({'name':'joe', 'city':'new york' })"
   ]
  },
  {
   "cell_type": "code",
   "execution_count": 7,
   "metadata": {
    "ExecuteTime": {
     "end_time": "2016-06-20T16:43:51.364472",
     "start_time": "2016-06-20T16:43:51.323466"
    },
    "collapsed": false
   },
   "outputs": [
    {
     "data": {
      "text/plain": [
       "4"
      ]
     },
     "execution_count": 7,
     "metadata": {},
     "output_type": "execute_result"
    }
   ],
   "source": [
    "users.find().count()"
   ]
  },
  {
   "cell_type": "code",
   "execution_count": 8,
   "metadata": {
    "ExecuteTime": {
     "end_time": "2016-06-20T16:43:56.025399",
     "start_time": "2016-06-20T16:43:55.979764"
    },
    "collapsed": false
   },
   "outputs": [
    {
     "data": {
      "text/plain": [
       "{u'_id': ObjectId('56e723d2feb488233188c7bc'),\n",
       " u'city': u'seattle',\n",
       " u'name': u'lekha'}"
      ]
     },
     "execution_count": 8,
     "metadata": {},
     "output_type": "execute_result"
    }
   ],
   "source": [
    "users.find_one()"
   ]
  },
  {
   "cell_type": "code",
   "execution_count": 9,
   "metadata": {
    "ExecuteTime": {
     "end_time": "2016-06-20T16:43:58.146325",
     "start_time": "2016-06-20T16:43:58.115367"
    },
    "collapsed": false
   },
   "outputs": [
    {
     "data": {
      "text/plain": [
       "{u'_id': ObjectId('56e723d2feb488233188c7bc'),\n",
       " u'city': u'seattle',\n",
       " u'name': u'lekha'}"
      ]
     },
     "execution_count": 9,
     "metadata": {},
     "output_type": "execute_result"
    }
   ],
   "source": [
    "t = users.find_one({'name': 'lekha'})\n",
    "t"
   ]
  },
  {
   "cell_type": "code",
   "execution_count": 10,
   "metadata": {
    "ExecuteTime": {
     "end_time": "2016-06-20T16:44:05.151382",
     "start_time": "2016-06-20T16:44:05.138650"
    },
    "collapsed": false
   },
   "outputs": [
    {
     "data": {
      "text/plain": [
       "4"
      ]
     },
     "execution_count": 10,
     "metadata": {},
     "output_type": "execute_result"
    }
   ],
   "source": [
    "users.find().count()"
   ]
  },
  {
   "cell_type": "markdown",
   "metadata": {
    "collapsed": true
   },
   "source": []
  },
  {
   "cell_type": "markdown",
   "metadata": {},
   "source": [
    "# 7. HTML Concepts"
   ]
  },
  {
   "cell_type": "markdown",
   "metadata": {},
   "source": [
    "* HyperText Markup Language\n",
    "* A markup language that forms the building blocks of all websites\n",
    "* Consists of tags enclosed in angle brackets (like <html>)"
   ]
  },
  {
   "cell_type": "markdown",
   "metadata": {},
   "source": [
    "### Important Tags\n",
    "\n",
    "```html\n",
    "<div>Defines a division or section</div>\n",
    "<a href=\"http://www.w3schools.com\">Link to W3Schools.com!</a>\n",
    "<table>Will contain a table</table>\n",
    "<p>This is a paragraph</p>\n",
    "<h1>This is a header!<h1>\n",
    "<ul>\n",
    "    <li>This is a list</li>\n",
    "</ul>\n",
    "```"
   ]
  },
  {
   "cell_type": "markdown",
   "metadata": {},
   "source": [
    "# 8. CSS\n",
    "(Cascading Style Sheets)\n",
    "* Enable the separation of document content from document presentation\n",
    "* Controls aspects such as the layout, colors, and fonts.\n",
    "* \"Cascading\" is used because the most specific rule is chosen\n",
    "\n",
    "\n",
    "## CSS Syntax\n",
    "\n",
    "* A CSS rule-set consists of a selector and a declaration block:\n",
    "* Example:\n",
    "```\n",
    "p {\n",
    "    color: red;\n",
    "    text-align: center;\n",
    "}\n",
    "```\n",
    "\n",
    "* Learn more about CSS Syntax here: http://www.w3schools.com/css/css_syntax.asp"
   ]
  },
  {
   "cell_type": "markdown",
   "metadata": {},
   "source": [
    "# Afternoon: Web Scraping using requests and BeautifulSoup"
   ]
  },
  {
   "cell_type": "markdown",
   "metadata": {},
   "source": [
    "## Web vs Internet\n",
    "\n",
    "* Web is www (World Wide Web) \n",
    "* Different from Internet\n",
    "* Web as collection of islands and internet as bridges connecting the islands\n",
    "* HTTP is the language of the Web"
   ]
  },
  {
   "cell_type": "markdown",
   "metadata": {},
   "source": [
    "## Types of HTTP requests\n",
    "\n",
    "* GET (queries data)\n",
    "* POST (updates data)\n",
    "* PUT (updates data)\n",
    "* DELETE (updates data)\n",
    "\n",
    "## API\n",
    "* API is a way for developers to communicate with a certain application against a specific contract\n",
    "* An API is typically defined as a set of Hypertext Transfer Protocol (HTTP) request messages, along with a definition of the structure of response messages, which is usually in an Extensible Markup Language (XML) or JavaScript Object Notation (JSON) format.\n",
    "\n",
    "* Send queries through the URL\n",
    " * Google: geolocations\n",
    " * yelp: restaurants/reviews\n",
    " * Zillow: housing info/ demograpics\n",
    " * Socrata: government data"
   ]
  },
  {
   "cell_type": "code",
   "execution_count": 2,
   "metadata": {
    "collapsed": true
   },
   "outputs": [],
   "source": [
    "import warnings\n",
    "warnings.filterwarnings('ignore')"
   ]
  },
  {
   "cell_type": "code",
   "execution_count": 3,
   "metadata": {
    "collapsed": false
   },
   "outputs": [],
   "source": [
    "# import the Requests HTTP library\n",
    "import requests\n",
    "\n",
    "# import the Beautiful Soup module \n",
    "from bs4 import BeautifulSoup"
   ]
  },
  {
   "cell_type": "markdown",
   "metadata": {},
   "source": [
    "## Scraping"
   ]
  },
  {
   "cell_type": "code",
   "execution_count": null,
   "metadata": {
    "collapsed": false
   },
   "outputs": [],
   "source": [
    "r = requests.get('https://en.wikipedia.org/wiki/Pi_Day')"
   ]
  },
  {
   "cell_type": "code",
   "execution_count": null,
   "metadata": {
    "collapsed": false
   },
   "outputs": [],
   "source": [
    "soup = BeautifulSoup(r.content)"
   ]
  },
  {
   "cell_type": "code",
   "execution_count": null,
   "metadata": {
    "collapsed": false
   },
   "outputs": [],
   "source": [
    "print(soup.prettify())"
   ]
  },
  {
   "cell_type": "code",
   "execution_count": null,
   "metadata": {
    "collapsed": false
   },
   "outputs": [],
   "source": [
    "print soup.title"
   ]
  },
  {
   "cell_type": "code",
   "execution_count": null,
   "metadata": {
    "collapsed": false
   },
   "outputs": [],
   "source": [
    "for a in soup.findAll('link'):\n",
    "    print a['href']\n"
   ]
  },
  {
   "cell_type": "code",
   "execution_count": null,
   "metadata": {
    "collapsed": false
   },
   "outputs": [],
   "source": [
    "for link in soup.find_all('a'):\n",
    "    print(link.get('href'))"
   ]
  },
  {
   "cell_type": "markdown",
   "metadata": {},
   "source": [
    "## In Class Exercise: Use an API to scrape Wikipedia"
   ]
  },
  {
   "cell_type": "markdown",
   "metadata": {},
   "source": [
    "### Step 1: Get the Data"
   ]
  },
  {
   "cell_type": "code",
   "execution_count": 1,
   "metadata": {
    "collapsed": true
   },
   "outputs": [],
   "source": [
    "# import the Requests HTTP library\n",
    "import requests\n",
    "import json\n",
    "import re\n",
    "# A User agent header required for the Wikipedia API.\n",
    "headers = {'user_agent': 'DataWrangling/1.1 (lekha.bhargavi@galvanize.com; dsi example exercise)'}"
   ]
  },
  {
   "cell_type": "code",
   "execution_count": 4,
   "metadata": {
    "collapsed": true
   },
   "outputs": [
    {
     "name": "stdout",
     "output_type": "stream",
     "text": [
      "{u'templates': [{u'*': u'Template:Probability distribution', u'ns': 10, u'exists': u''}, {u'*': u'Template:Infobox probability distribution', u'ns': 10, u'exists': u''}, {u'*': u'Template:Infobox', u'ns': 10, u'exists': u''}, {u'*': u'Template:IPAc-en', u'ns': 10, u'exists': u''}, {u'*': u'Template:Div col', u'ns': 10, u'exists': u''}, {u'*': u'Template:Column-count', u'ns': 10, u'exists': u''}, {u'*': u'Template:Div col end', u'ns': 10, u'exists': u''}, {u'*': u'Template:Reflist', u'ns': 10, u'exists': u''}, {u'*': u'Template:Cite journal', u'ns': 10, u'exists': u''}, {u'*': u'Template:Citation', u'ns': 10, u'exists': u''}, {u'*': u'Template:Cite conference', u'ns': 10, u'exists': u''}, {u'*': u'Template:Cite book', u'ns': 10, u'exists': u''}, {u'*': u'Template:Cite web', u'ns': 10, u'exists': u''}, {u'*': u'Template:ISSN', u'ns': 10, u'exists': u''}, {u'*': u'Template:Hide in print', u'ns': 10, u'exists': u''}, {u'*': u'Template:Trim', u'ns': 10, u'exists': u''}, {u'*': u'Template:Only in print', u'ns': 10, u'exists': u''}, {u'*': u'Template:Please check ISSN', u'ns': 10, u'exists': u''}, {u'*': u'Template:Commons category', u'ns': 10, u'exists': u''}, {u'*': u'Template:Commons', u'ns': 10, u'exists': u''}, {u'*': u'Template:Sister project', u'ns': 10, u'exists': u''}, {u'*': u'Template:Side box', u'ns': 10, u'exists': u''}, {u'*': u'Template:Cite news', u'ns': 10, u'exists': u''}, {u'*': u'Template:MathWorld', u'ns': 10, u'exists': u''}, {u'*': u'Template:ProbDistributions', u'ns': 10, u'exists': u''}, {u'*': u'Template:Probability distributions', u'ns': 10, u'exists': u''}, {u'*': u'Template:Navbox with collapsible groups', u'ns': 10, u'exists': u''}, {u'*': u'Template:Nobold', u'ns': 10, u'exists': u''}, {u'*': u'Template:Authority control', u'ns': 10, u'exists': u''}, {u'*': u'Module:Infobox', u'ns': 828, u'exists': u''}, {u'*': u'Module:Navbar', u'ns': 828, u'exists': u''}, {u'*': u'Module:InfoboxImage', u'ns': 828, u'exists': u''}, {u'*': u'Module:IPAc-en', u'ns': 828, u'exists': u''}, {u'*': u'Module:IPAc-en/data', u'ns': 828, u'exists': u''}, {u'*': u'Module:IPAc-en/pronunciation', u'ns': 828, u'exists': u''}, {u'*': u'Module:IPAc-en/phonemes', u'ns': 828, u'exists': u''}, {u'*': u'Module:Citation/CS1', u'ns': 828, u'exists': u''}, {u'*': u'Module:Citation/CS1/Configuration', u'ns': 828, u'exists': u''}, {u'*': u'Module:Citation/CS1/Whitelist', u'ns': 828, u'exists': u''}, {u'*': u'Module:Citation/CS1/Utilities', u'ns': 828, u'exists': u''}, {u'*': u'Module:Citation/CS1/Date validation', u'ns': 828, u'exists': u''}, {u'*': u'Module:Citation/CS1/Identifiers', u'ns': 828, u'exists': u''}, {u'*': u'Module:Citation/CS1/COinS', u'ns': 828, u'exists': u''}, {u'*': u'Module:Check isxn', u'ns': 828, u'exists': u''}, {u'*': u'Module:Side box', u'ns': 828, u'exists': u''}, {u'*': u'Module:Yesno', u'ns': 828, u'exists': u''}, {u'*': u'Module:Navbox', u'ns': 828, u'exists': u''}, {u'*': u'Module:Arguments', u'ns': 828, u'exists': u''}, {u'*': u'Module:Authority control', u'ns': 828, u'exists': u''}, {u'*': u'Module:No globals', u'ns': 828, u'exists': u''}, {u'*': u'Module:Check for unknown parameters', u'ns': 828, u'exists': u''}], u'iwlinks': [{u'url': u'http://commons.wikimedia.org/wiki/Category:Zipf%27s_law', u'prefix': u'commons', u'*': u\"commons:Category:Zipf's law\"}], u'pageid': 43218, u'links': [{u'*': u'Template:Probability distributions', u'ns': 10, u'exists': u''}, {u'*': u'ARGUS distribution', u'ns': 0, u'exists': u''}, {u'*': u'Arcsine distribution', u'ns': 0, u'exists': u''}, {u'*': u'Asymmetric Laplace distribution', u'ns': 0, u'exists': u''}, {u'*': u'Balding\\u2013Nichols model', u'ns': 0, u'exists': u''}, {u'*': u'Bates distribution', u'ns': 0, u'exists': u''}, {u'*': u\"Benford's law\", u'ns': 0, u'exists': u''}, {u'*': u'Benini distribution', u'ns': 0, u'exists': u''}, {u'*': u'Benktander type II distribution', u'ns': 0, u'exists': u''}, {u'*': u'Benktander type I distribution', u'ns': 0, u'exists': u''}, {u'*': u'Beno\\xeet Mandelbrot', u'ns': 0, u'exists': u''}, {u'*': u'Bernoulli distribution', u'ns': 0, u'exists': u''}, {u'*': u'Beta-binomial distribution', u'ns': 0, u'exists': u''}, {u'*': u'Beta distribution', u'ns': 0, u'exists': u''}, {u'*': u'Beta negative binomial distribution', u'ns': 0, u'exists': u''}, {u'*': u'Beta prime distribution', u'ns': 0, u'exists': u''}, {u'*': u'Beta rectangular distribution', u'ns': 0, u'exists': u''}, {u'*': u'Bingham distribution', u'ns': 0, u'exists': u''}, {u'*': u'Binomial distribution', u'ns': 0, u'exists': u''}, {u'*': u'Bivariate von Mises distribution', u'ns': 0, u'exists': u''}, {u'*': u'Borel distribution', u'ns': 0, u'exists': u''}, {u'*': u\"Bradford's law\", u'ns': 0, u'exists': u''}, {u'*': u'Broken power law', u'ns': 0, u'exists': u''}, {u'*': u'Brown Corpus', u'ns': 0, u'exists': u''}, {u'*': u'Burr distribution', u'ns': 0, u'exists': u''}, {u'*': u'CICLing', u'ns': 0, u'exists': u''}, {u'*': u'Cantor distribution', u'ns': 0, u'exists': u''}, {u'*': u'Categorical distribution', u'ns': 0, u'exists': u''}, {u'*': u'Cauchy distribution', u'ns': 0, u'exists': u''}, {u'*': u'Characteristic function (probability theory)', u'ns': 0, u'exists': u''}, {u'*': u'Chi-squared distribution', u'ns': 0, u'exists': u''}, {u'*': u'Chi distribution', u'ns': 0, u'exists': u''}, {u'*': u'Circular distribution', u'ns': 0, u'exists': u''}, {u'*': u'Circular uniform distribution', u'ns': 0, u'exists': u''}, {u'*': u'Compound Poisson distribution', u'ns': 0, u'exists': u''}, {u'*': u'Conway\\u2013Maxwell\\u2013Poisson distribution', u'ns': 0, u'exists': u''}, {u'*': u'Cumulative distribution function', u'ns': 0, u'exists': u''}, {u'*': u'Dagum distribution', u'ns': 0, u'exists': u''}, {u'*': u'Davis distribution', u'ns': 0, u'exists': u''}, {u'*': u'Degenerate distribution', u'ns': 0, u'exists': u''}, {u'*': u'Delaporte distribution', u'ns': 0, u'exists': u''}, {u'*': u'Demographic gravitation', u'ns': 0, u'exists': u''}, {u'*': u'Digital object identifier', u'ns': 0, u'exists': u''}, {u'*': u'Dirac delta function', u'ns': 0, u'exists': u''}, {u'*': u'Directional statistics', u'ns': 0, u'exists': u''}, {u'*': u'Dirichlet-multinomial distribution', u'ns': 0, u'exists': u''}, {u'*': u'Dirichlet distribution', u'ns': 0, u'exists': u''}, {u'*': u'Discrete phase-type distribution', u'ns': 0, u'exists': u''}, {u'*': u'Elliptical distribution', u'ns': 0, u'exists': u''}, {u'*': u'Empirical law', u'ns': 0, u'exists': u''}, {u'*': u'English articles', u'ns': 0, u'exists': u''}, {u'*': u'Eric W. Weisstein', u'ns': 0, u'exists': u''}, {u'*': u'Erlang distribution', u'ns': 0, u'exists': u''}, {u'*': u'Esperanto', u'ns': 0, u'exists': u''}, {u'*': u\"Ewens's sampling formula\", u'ns': 0, u'exists': u''}, {u'*': u'Expected value', u'ns': 0, u'exists': u''}, {u'*': u'Exponential-Logarithmic distribution', u'ns': 0, u'exists': u''}, {u'*': u'Exponential distribution', u'ns': 0, u'exists': u''}, {u'*': u'Exponential family', u'ns': 0, u'exists': u''}, {u'*': u'Extended negative binomial distribution', u'ns': 0, u'exists': u''}, {u'*': u'F-distribution', u'ns': 0, u'exists': u''}, {u'*': u'Felix Auerbach', u'ns': 0, u'exists': u''}, {u'*': u\"Fisher's z-distribution\", u'ns': 0, u'exists': u''}, {u'*': u'Flory\\u2013Schulz distribution', u'ns': 0, u'exists': u''}, {u'*': u'Folded normal distribution', u'ns': 0, u'exists': u''}, {u'*': u'Frequency list', u'ns': 0, u'exists': u''}, {u'*': u'Frequency table', u'ns': 0, u'exists': u''}, {u'*': u'Fr\\xe9chet distribution', u'ns': 0, u'exists': u''}, {u'*': u'Gamma/Gompertz distribution', u'ns': 0, u'exists': u''}, {u'*': u'Gamma distribution', u'ns': 0, u'exists': u''}, {u'*': u'Gauss\\u2013Kuzmin distribution', u'ns': 0, u'exists': u''}, {u'*': u'Generalised hyperbolic distribution', u'ns': 0, u'exists': u''}, {u'*': u'Generalized Dirichlet distribution', u'ns': 0, u'exists': u''}, {u'*': u'Generalized Pareto distribution', u'ns': 0, u'exists': u''}, {u'*': u'Generalized extreme value distribution', u'ns': 0, u'exists': u''}, {u'*': u'Generalized inverse Gaussian distribution', u'ns': 0, u'exists': u''}, {u'*': u'Generalized normal distribution', u'ns': 0, u'exists': u''}, {u'*': u'Geometric distribution', u'ns': 0, u'exists': u''}, {u'*': u'Geometric stable distribution', u'ns': 0, u'exists': u''}, {u'*': u'George K. Zipf', u'ns': 0, u'exists': u''}, {u'*': u'George Kingsley Zipf', u'ns': 0, u'exists': u''}, {u'*': u\"Gibrat's law\", u'ns': 0, u'exists': u''}, {u'*': u'Gompertz distribution', u'ns': 0, u'exists': u''}, {u'*': u'Graph of a function', u'ns': 0, u'exists': u''}, {u'*': u'Gumbel distribution', u'ns': 0, u'exists': u''}, {u'*': u'Half-logistic distribution', u'ns': 0, u'exists': u''}, {u'*': u'Half-normal distribution', u'ns': 0, u'exists': u''}, {u'*': u'Hapax legomenon', u'ns': 0, u'exists': u''}, {u'*': u'Harmonic number', u'ns': 0, u'exists': u''}, {u'*': u'Harmonic series (mathematics)', u'ns': 0, u'exists': u''}, {u'*': u\"Heaps' law\", u'ns': 0, u'exists': u''}, {u'*': u'Holtsmark distribution', u'ns': 0, u'exists': u''}, {u'*': u\"Hotelling's T-squared distribution\", u'ns': 0, u'exists': u''}, {u'*': u'Hurwitz zeta function', u'ns': 0, u'exists': u''}, {u'*': u'Hyper-Erlang distribution', u'ns': 0, u'exists': u''}, {u'*': u'Hyperbolic secant distribution', u'ns': 0, u'exists': u''}, {u'*': u'Hyperexponential distribution', u'ns': 0, u'exists': u''}, {u'*': u'Hypergeometric distribution', u'ns': 0, u'exists': u''}, {u'*': u'Hypoexponential distribution', u'ns': 0, u'exists': u''}, {u'*': u'IEEE Transactions on Information Theory', u'ns': 0, u'exists': u''}, {u'*': u'Information entropy', u'ns': 0, u'exists': u''}, {u'*': u'Integer', u'ns': 0, u'exists': u''}, {u'*': u'Integrated Authority File', u'ns': 0, u'exists': u''}, {u'*': u'International Standard Book Number', u'ns': 0, u'exists': u''}, {u'*': u'International Standard Serial Number', u'ns': 0, u'exists': u''}, {u'*': u'Inverse-Wishart distribution', u'ns': 0, u'exists': u''}, {u'*': u'Inverse-chi-squared distribution', u'ns': 0, u'exists': u''}, {u'*': u'Inverse-gamma distribution', u'ns': 0, u'exists': u''}, {u'*': u'Inverse Gaussian distribution', u'ns': 0, u'exists': u''}, {u'*': u'Inverse matrix gamma distribution', u'ns': 0, u'exists': u''}, {u'*': u'Inversely proportional', u'ns': 0, u'exists': u''}, {u'*': u'Irwin\\u2013Hall distribution', u'ns': 0, u'exists': u''}, {u'*': u'Jean-Baptiste Estoup', u'ns': 0, u'exists': u''}, {u'*': u'Johnson SU distribution', u'ns': 0, u'exists': u''}, {u'*': u'Joint probability distribution', u'ns': 0, u'exists': u''}, {u'*': u'Kent distribution', u'ns': 0, u'exists': u''}, {u'*': u'King effect', u'ns': 0, u'exists': u''}, {u'*': u'Kolmogorov distribution', u'ns': 0, u'exists': u''}, {u'*': u'Kolmogorov\\u2013Smirnov test', u'ns': 0, u'exists': u''}, {u'*': u'Kumaraswamy distribution', u'ns': 0, u'exists': u''}, {u'*': u'Landau distribution', u'ns': 0, u'exists': u''}, {u'*': u'Laplace distribution', u'ns': 0, u'exists': u''}, {u'*': u'Linear equation', u'ns': 0, u'exists': u''}, {u'*': u'Linguistics', u'ns': 0, u'exists': u''}, {u'*': u'Linnik distribution', u'ns': 0, u'exists': u''}, {u'*': u'List of probability distributions', u'ns': 0, u'exists': u''}, {u'*': u'Location-scale family', u'ns': 0, u'exists': u''}, {u'*': u'Log-Cauchy distribution', u'ns': 0, u'exists': u''}, {u'*': u'Log-Laplace distribution', u'ns': 0, u'exists': u''}, {u'*': u'Log-log', u'ns': 0, u'exists': u''}, {u'*': u'Log-logistic distribution', u'ns': 0, u'exists': u''}, {u'*': u'Log-normal distribution', u'ns': 0, u'exists': u''}, {u'*': u'Logarithm', u'ns': 0, u'exists': u''}, {u'*': u'Logarithmic distribution', u'ns': 0, u'exists': u''}, {u'*': u'Logistic distribution', u'ns': 0, u'exists': u''}, {u'*': u'Logit-normal distribution', u'ns': 0, u'exists': u''}, {u'*': u'Lorenz curve', u'ns': 0, u'exists': u''}, {u'*': u\"Lotka's law\", u'ns': 0, u'exists': u''}, {u'*': u'L\\xe9on Brillouin', u'ns': 0, u'exists': u''}, {u'*': u'L\\xe9vy distribution', u'ns': 0, u'exists': u''}, {u'*': u'MathWorld', u'ns': 0, u'exists': u''}, {u'*': u'Mathematical statistics', u'ns': 0, u'exists': u''}, {u'*': u'Matrix-exponential distribution', u'ns': 0, u'exists': u''}, {u'*': u'Matrix gamma distribution', u'ns': 0, u'exists': u''}, {u'*': u'Matrix normal distribution', u'ns': 0, u'exists': u''}, {u'*': u'Matrix t-distribution', u'ns': 0, u'exists': u''}, {u'*': u'Maximum entropy probability distribution', u'ns': 0, u'exists': u''}, {u'*': u'Maxwell\\u2013Boltzmann distribution', u'ns': 0, u'exists': u''}, {u'*': u'Maxwell\\u2013J\\xfcttner distribution', u'ns': 0, u'exists': u''}, {u'*': u'Mittag\\u2013Leffler distribution', u'ns': 0, u'exists': u''}, {u'*': u'Mixture density', u'ns': 0, u'exists': u''}, {u'*': u'Mode (statistics)', u'ns': 0, u'exists': u''}, {u'*': u'Moment-generating function', u'ns': 0, u'exists': u''}, {u'*': u'Multinomial distribution', u'ns': 0, u'exists': u''}, {u'*': u'Multivariate Student distribution', u'ns': 0, u'exists': u''}, {u'*': u'Multivariate normal distribution', u'ns': 0, u'exists': u''}, {u'*': u'Multivariate stable distribution', u'ns': 0, u'exists': u''}, {u'*': u'Nakagami distribution', u'ns': 0, u'exists': u''}, {u'*': u'Natural exponential family', u'ns': 0, u'exists': u''}, {u'*': u'Natural language', u'ns': 0, u'exists': u''}, {u'*': u'Negative binomial distribution', u'ns': 0, u'exists': u''}, {u'*': u'Negative multinomial distribution', u'ns': 0, u'exists': u''}, {u'*': u'Noncentral beta distribution', u'ns': 0, u'exists': u''}, {u'*': u'Noncentral chi-squared distribution', u'ns': 0, u'exists': u''}, {u'*': u'Noncentral t-distribution', u'ns': 0, u'exists': u''}, {u'*': u'Normal-Wishart distribution', u'ns': 0, u'exists': u''}, {u'*': u'Normal-gamma distribution', u'ns': 0, u'exists': u''}, {u'*': u'Normal-inverse-Wishart distribution', u'ns': 0, u'exists': u''}, {u'*': u'Normal-inverse Gaussian distribution', u'ns': 0, u'exists': u''}, {u'*': u'Normal-scaled inverse gamma distribution', u'ns': 0, u'exists': u''}, {u'*': u'Normal distribution', u'ns': 0, u'exists': u''}, {u'*': u'Parabolic fractal distribution', u'ns': 0, u'exists': u''}, {u'*': u'Pareto distribution', u'ns': 0, u'exists': u''}, {u'*': u'Pareto principle', u'ns': 0, u'exists': u''}, {u'*': u'Pearson distribution', u'ns': 0, u'exists': u''}, {u'*': u'Peter G. Neumann', u'ns': 0, u'exists': u''}, {u'*': u'Phase-type distribution', u'ns': 0, u'exists': u''}, {u'*': u'Physical science', u'ns': 0, u'exists': u''}, {u'*': u'Poisson binomial distribution', u'ns': 0, u'exists': u''}, {u'*': u'Poisson distribution', u'ns': 0, u'exists': u''}, {u'*': u'Poly-Weibull distribution', u'ns': 0, u'exists': u''}, {u'*': u'Power law', u'ns': 0, u'exists': u''}, {u'*': u'Principle of least effort', u'ns': 0, u'exists': u''}, {u'*': u'Probability distribution', u'ns': 0, u'exists': u''}, {u'*': u'Probability mass function', u'ns': 0, u'exists': u''}, {u'*': u'Proceedings of the National Academy of Sciences of the United States of America', u'ns': 0, u'exists': u''}, {u'*': u'PubMed Central', u'ns': 0, u'exists': u''}, {u'*': u'PubMed Identifier', u'ns': 0, u'exists': u''}, {u'*': u'Q-Gaussian distribution', u'ns': 0, u'exists': u''}, {u'*': u'Q-Weibull distribution', u'ns': 0, u'exists': u''}, {u'*': u'Q-exponential distribution', u'ns': 0, u'exists': u''}, {u'*': u'Rademacher distribution', u'ns': 0, u'exists': u''}, {u'*': u'Raised cosine distribution', u'ns': 0, u'exists': u''}, {u'*': u'Random matrix', u'ns': 0, u'exists': u''}, {u'*': u'Rank-frequency distribution', u'ns': 0, u'exists': u''}, {u'*': u'Rank-size distribution', u'ns': 0, u'exists': u''}, {u'*': u'Rayleigh distribution', u'ns': 0, u'exists': u''}, {u'*': u'Real number', u'ns': 0, u'exists': u''}, {u'*': u'Reciprocal distribution', u'ns': 0, u'exists': u''}, {u'*': u'Rectified Gaussian distribution', u'ns': 0, u'exists': u''}, {u'*': u'Relativistic Breit\\u2013Wigner distribution', u'ns': 0, u'exists': u''}, {u'*': u'Rice distribution', u'ns': 0, u'exists': u''}, {u'*': u'Riemann zeta function', u'ns': 0, u'exists': u''}, {u'*': u'Rosin\\u2013Rammler distribution', u'ns': 0, u'exists': u''}, {u'*': u'Scaled inverse chi-squared distribution', u'ns': 0, u'exists': u''}, {u'*': u'Shifted Gompertz distribution', u'ns': 0, u'exists': u''}, {u'*': u'Shifted log-logistic distribution', u'ns': 0, u'exists': u''}, {u'*': u'Singular distribution', u'ns': 0, u'exists': u''}, {u'*': u'Skellam distribution', u'ns': 0, u'exists': u''}, {u'*': u'Skew normal distribution', u'ns': 0, u'exists': u''}, {u'*': u'Slash distribution', u'ns': 0, u'exists': u''}, {u'*': u'Social science', u'ns': 0, u'exists': u''}, {u'*': u'Stable distribution', u'ns': 0, u'exists': u''}, {u'*': u'Statistical distribution', u'ns': 0, u'exists': u''}, {u'*': u'Steven Strogatz', u'ns': 0, u'exists': u''}, {u'*': u\"Stigler's law of eponymy\", u'ns': 0, u'exists': u''}, {u'*': u\"Student's t-distribution\", u'ns': 0, u'exists': u''}, {u'*': u'Support (mathematics)', u'ns': 0, u'exists': u''}, {u'*': u'Taylor series', u'ns': 0, u'exists': u''}, {u'*': u'Text corpus', u'ns': 0, u'exists': u''}, {u'*': u'Tracy\\u2013Widom distribution', u'ns': 0, u'exists': u''}, {u'*': u'Triangular distribution', u'ns': 0, u'exists': u''}, {u'*': u'Truncated normal distribution', u'ns': 0, u'exists': u''}, {u'*': u'Tukey lambda distribution', u'ns': 0, u'exists': u''}, {u'*': u'Tweedie distribution', u'ns': 0, u'exists': u''}, {u'*': u'Type-1 Gumbel distribution', u'ns': 0, u'exists': u''}, {u'*': u'Type-2 Gumbel distribution', u'ns': 0, u'exists': u''}, {u'*': u'U-quadratic distribution', u'ns': 0, u'exists': u''}, {u'*': u'Uniform distribution (continuous)', u'ns': 0, u'exists': u''}, {u'*': u'Uniform distribution (discrete)', u'ns': 0, u'exists': u''}, {u'*': u'Variance-gamma distribution', u'ns': 0, u'exists': u''}, {u'*': u'Vitold Belevitch', u'ns': 0, u'exists': u''}, {u'*': u'Voigt profile', u'ns': 0, u'exists': u''}, {u'*': u'Von Mises distribution', u'ns': 0, u'exists': u''}, {u'*': u'Von Mises\\u2013Fisher distribution', u'ns': 0, u'exists': u''}, {u'*': u'Weibull distribution', u'ns': 0, u'exists': u''}, {u'*': u'Wigner semicircle distribution', u'ns': 0, u'exists': u''}, {u'*': u\"Wilks' lambda distribution\", u'ns': 0, u'exists': u''}, {u'*': u'Wishart distribution', u'ns': 0, u'exists': u''}, {u'*': u'Wolfram Demonstrations Project', u'ns': 0, u'exists': u''}, {u'*': u'Wrapped Cauchy distribution', u'ns': 0, u'exists': u''}, {u'*': u'Wrapped L\\xe9vy distribution', u'ns': 0, u'exists': u''}, {u'*': u'Wrapped asymmetric Laplace distribution', u'ns': 0, u'exists': u''}, {u'*': u'Wrapped distribution', u'ns': 0, u'exists': u''}, {u'*': u'Wrapped exponential distribution', u'ns': 0, u'exists': u''}, {u'*': u'Wrapped normal distribution', u'ns': 0, u'exists': u''}, {u'*': u'Xavier Gabaix', u'ns': 0, u'exists': u''}, {u'*': u'Yule\\u2013Simon distribution', u'ns': 0, u'exists': u''}, {u'*': u'Zeta distribution', u'ns': 0, u'exists': u''}, {u'*': u'Zipf\\u2013Mandelbrot law', u'ns': 0, u'exists': u''}, {u'*': u'Artificial Intelligence and Applications', u'ns': 0}, {u'*': u'Template talk:Probability distributions', u'ns': 11, u'exists': u''}, {u'*': u'Help:Authority control', u'ns': 12, u'exists': u''}, {u'*': u'Help:CS1 errors', u'ns': 12, u'exists': u''}, {u'*': u'Help:IPA for English', u'ns': 12, u'exists': u''}], u'langlinks': [{u'lang': u'be', u'url': u'http://be.wikipedia.org/wiki/%D0%97%D0%B0%D0%BA%D0%BE%D0%BD_%D0%A6%D1%96%D0%BF%D1%84%D0%B0', u'*': u'\\u0417\\u0430\\u043a\\u043e\\u043d \\u0426\\u0456\\u043f\\u0444\\u0430', u'autonym': u'\\u0431\\u0435\\u043b\\u0430\\u0440\\u0443\\u0441\\u043a\\u0430\\u044f', u'langname': u'Belarusian'}, {u'lang': u'bs', u'url': u'http://bs.wikipedia.org/wiki/Zipfov_zakon', u'*': u'Zipfov zakon', u'autonym': u'bosanski', u'langname': u'Bosnian'}, {u'lang': u'ca', u'url': u'http://ca.wikipedia.org/wiki/Llei_de_Zipf', u'*': u'Llei de Zipf', u'autonym': u'catal\\xe0', u'langname': u'Catalan'}, {u'lang': u'cs', u'url': u'http://cs.wikipedia.org/wiki/Zipf%C5%AFv_z%C3%A1kon', u'*': u'Zipf\\u016fv z\\xe1kon', u'autonym': u'\\u010de\\u0161tina', u'langname': u'Czech'}, {u'lang': u'da', u'url': u'http://da.wikipedia.org/wiki/Zipfs_lov', u'*': u'Zipfs lov', u'autonym': u'dansk', u'langname': u'Danish'}, {u'lang': u'de', u'url': u'http://de.wikipedia.org/wiki/Zipfsches_Gesetz', u'*': u'Zipfsches Gesetz', u'autonym': u'Deutsch', u'langname': u'German'}, {u'lang': u'es', u'url': u'http://es.wikipedia.org/wiki/Ley_de_Zipf', u'*': u'Ley de Zipf', u'autonym': u'espa\\xf1ol', u'langname': u'Spanish'}, {u'lang': u'eo', u'url': u'http://eo.wikipedia.org/wiki/Le%C4%9Do_de_Zipf', u'*': u'Le\\u011do de Zipf', u'autonym': u'Esperanto', u'langname': u'Esperanto'}, {u'lang': u'eu', u'url': u'http://eu.wikipedia.org/wiki/Zipfen_lege', u'*': u'Zipfen lege', u'autonym': u'euskara', u'langname': u'Basque'}, {u'lang': u'fa', u'url': u'http://fa.wikipedia.org/wiki/%D9%82%D8%A7%D9%86%D9%88%D9%86_%D8%B2%DB%8C%D9%81', u'*': u'\\u0642\\u0627\\u0646\\u0648\\u0646 \\u0632\\u06cc\\u0641', u'autonym': u'\\u0641\\u0627\\u0631\\u0633\\u06cc', u'langname': u'Persian'}, {u'lang': u'fr', u'url': u'http://fr.wikipedia.org/wiki/Loi_de_Zipf', u'*': u'Loi de Zipf', u'autonym': u'fran\\xe7ais', u'langname': u'French'}, {u'lang': u'ga', u'url': u'http://ga.wikipedia.org/wiki/Dl%C3%AD_Zipf', u'*': u'Dl\\xed Zipf', u'autonym': u'Gaeilge', u'langname': u'Irish'}, {u'lang': u'gl', u'url': u'http://gl.wikipedia.org/wiki/Lei_de_Zipf', u'*': u'Lei de Zipf', u'autonym': u'galego', u'langname': u'Galician'}, {u'lang': u'ko', u'url': u'http://ko.wikipedia.org/wiki/%EC%A7%80%ED%94%84%EC%9D%98_%EB%B2%95%EC%B9%99', u'*': u'\\uc9c0\\ud504\\uc758 \\ubc95\\uce59', u'autonym': u'\\ud55c\\uad6d\\uc5b4', u'langname': u'Korean'}, {u'lang': u'it', u'url': u'http://it.wikipedia.org/wiki/Legge_di_Zipf', u'*': u'Legge di Zipf', u'autonym': u'italiano', u'langname': u'Italian'}, {u'lang': u'he', u'url': u'http://he.wikipedia.org/wiki/%D7%97%D7%95%D7%A7_%D7%96%D7%99%D7%A3', u'*': u'\\u05d7\\u05d5\\u05e7 \\u05d6\\u05d9\\u05e3', u'autonym': u'\\u05e2\\u05d1\\u05e8\\u05d9\\u05ea', u'langname': u'Hebrew'}, {u'lang': u'ltg', u'url': u'http://ltg.wikipedia.org/wiki/Zipfa_lykums', u'*': u'Zipfa lykums', u'autonym': u'latga\\u013cu', u'langname': u'Latgalian'}, {u'lang': u'hu', u'url': u'http://hu.wikipedia.org/wiki/Zipf-eloszl%C3%A1s', u'*': u'Zipf-eloszl\\xe1s', u'autonym': u'magyar', u'langname': u'Hungarian'}, {u'lang': u'nl', u'url': u'http://nl.wikipedia.org/wiki/Wet_van_Zipf', u'*': u'Wet van Zipf', u'autonym': u'Nederlands', u'langname': u'Dutch'}, {u'lang': u'ja', u'url': u'http://ja.wikipedia.org/wiki/%E3%82%B8%E3%83%83%E3%83%97%E3%81%AE%E6%B3%95%E5%89%87', u'*': u'\\u30b8\\u30c3\\u30d7\\u306e\\u6cd5\\u5247', u'autonym': u'\\u65e5\\u672c\\u8a9e', u'langname': u'Japanese'}, {u'lang': u'pnb', u'url': u'http://pnb.wikipedia.org/wiki/%D8%B2%D9%BE%D9%81_%D8%AF%D8%A7_%D9%82%D9%86%D9%88%D9%86', u'*': u'\\u0632\\u067e\\u0641 \\u062f\\u0627 \\u0642\\u0646\\u0648\\u0646', u'autonym': u'\\u067e\\u0646\\u062c\\u0627\\u0628\\u06cc', u'langname': u'Western Punjabi'}, {u'lang': u'pl', u'url': u'http://pl.wikipedia.org/wiki/Rozk%C5%82ad_Zipfa', u'*': u'Rozk\\u0142ad Zipfa', u'autonym': u'polski', u'langname': u'Polish'}, {u'lang': u'pt', u'url': u'http://pt.wikipedia.org/wiki/Lei_de_Zipf', u'*': u'Lei de Zipf', u'autonym': u'portugu\\xeas', u'langname': u'Portuguese'}, {u'lang': u'ru', u'url': u'http://ru.wikipedia.org/wiki/%D0%97%D0%B0%D0%BA%D0%BE%D0%BD_%D0%A6%D0%B8%D0%BF%D1%84%D0%B0', u'*': u'\\u0417\\u0430\\u043a\\u043e\\u043d \\u0426\\u0438\\u043f\\u0444\\u0430', u'autonym': u'\\u0440\\u0443\\u0441\\u0441\\u043a\\u0438\\u0439', u'langname': u'Russian'}, {u'lang': u'simple', u'url': u'http://simple.wikipedia.org/wiki/Zipf%27s_law', u'*': u\"Zipf's law\", u'autonym': u'Simple English', u'langname': u'Simple English'}, {u'lang': u'sl', u'url': u'http://sl.wikipedia.org/wiki/Zipfov_zakon', u'*': u'Zipfov zakon', u'autonym': u'sloven\\u0161\\u010dina', u'langname': u'Slovenian'}, {u'lang': u'fi', u'url': u'http://fi.wikipedia.org/wiki/Zipfin_laki', u'*': u'Zipfin laki', u'autonym': u'suomi', u'langname': u'Finnish'}, {u'lang': u'sv', u'url': u'http://sv.wikipedia.org/wiki/Zipfs_lag', u'*': u'Zipfs lag', u'autonym': u'svenska', u'langname': u'Swedish'}, {u'lang': u'ta', u'url': u'http://ta.wikipedia.org/wiki/%E0%AE%9A%E0%AE%BF%E0%AE%83%E0%AE%AA%E0%AF%81%E0%AE%B5%E0%AE%BF%E0%AE%A9%E0%AF%8D_%E0%AE%B5%E0%AE%BF%E0%AE%A4%E0%AE%BF', u'*': u'\\u0b9a\\u0bbf\\u0b83\\u0baa\\u0bc1\\u0bb5\\u0bbf\\u0ba9\\u0bcd \\u0bb5\\u0bbf\\u0ba4\\u0bbf', u'autonym': u'\\u0ba4\\u0bae\\u0bbf\\u0bb4\\u0bcd', u'langname': u'Tamil'}, {u'lang': u'tr', u'url': u'http://tr.wikipedia.org/wiki/Zipf_yasas%C4%B1', u'*': u'Zipf yasas\\u0131', u'autonym': u'T\\xfcrk\\xe7e', u'langname': u'Turkish'}, {u'lang': u'uk', u'url': u'http://uk.wikipedia.org/wiki/%D0%97%D0%B0%D0%BA%D0%BE%D0%BD_%D0%A6%D0%B8%D0%BF%D1%84%D0%B0', u'*': u'\\u0417\\u0430\\u043a\\u043e\\u043d \\u0426\\u0438\\u043f\\u0444\\u0430', u'autonym': u'\\u0443\\u043a\\u0440\\u0430\\u0457\\u043d\\u0441\\u044c\\u043a\\u0430', u'langname': u'Ukrainian'}, {u'lang': u'ur', u'url': u'http://ur.wikipedia.org/wiki/%D8%B0%D9%81_%DA%A9%D8%A7_%D9%82%D8%A7%D9%86%D9%88%D9%86', u'*': u'\\u0630\\u0641 \\u06a9\\u0627 \\u0642\\u0627\\u0646\\u0648\\u0646', u'autonym': u'\\u0627\\u0631\\u062f\\u0648', u'langname': u'Urdu'}, {u'lang': u'zh', u'url': u'http://zh.wikipedia.org/wiki/%E9%BD%8A%E5%A4%AB%E5%AE%9A%E5%BE%8B', u'*': u'\\u9f4a\\u592b\\u5b9a\\u5f8b', u'autonym': u'\\u4e2d\\u6587', u'langname': u'Chinese'}], u'title': u\"Zipf's law\", u'text': {u'*': u'<table class=\"infobox bordered\" style=\"width:22em;width:325px; max-width:325px; font-size:95%;\">\\n<caption>Zipf\\'s law</caption>\\n<tr>\\n<td colspan=\"2\" style=\"text-align:center\">\\n<div>Probability mass function</div>\\n<a href=\"/wiki/File:Zipf_distribution_PMF.png\" class=\"image\" title=\"Plot of the Zipf PMF for N = 10\"><img alt=\"Plot of the Zipf PMF for N = 10\" src=\"//upload.wikimedia.org/wikipedia/commons/thumb/7/70/Zipf_distribution_PMF.png/325px-Zipf_distribution_PMF.png\" width=\"325\" height=\"244\" srcset=\"//upload.wikimedia.org/wikipedia/commons/thumb/7/70/Zipf_distribution_PMF.png/488px-Zipf_distribution_PMF.png 1.5x, //upload.wikimedia.org/wikipedia/commons/thumb/7/70/Zipf_distribution_PMF.png/650px-Zipf_distribution_PMF.png 2x\" data-file-width=\"1300\" data-file-height=\"975\" /></a><br />\\n<small>Zipf PMF for <i>N</i> = 10 on a log\\u2013log scale. The horizontal axis is the index <i>k</i>&#160;. (Note that the function is only defined at integer values of <i>k</i>. The connecting lines do not indicate continuity.)</small></td>\\n</tr>\\n<tr>\\n<td colspan=\"2\" style=\"text-align:center\">\\n<div>Cumulative distribution function</div>\\n<a href=\"/wiki/File:Zipf_distribution_CMF.png\" class=\"image\" title=\"Plot of the Zipf CDF for N=10\"><img alt=\"Plot of the Zipf CDF for N=10\" src=\"//upload.wikimedia.org/wikipedia/commons/thumb/2/2b/Zipf_distribution_CMF.png/325px-Zipf_distribution_CMF.png\" width=\"325\" height=\"244\" srcset=\"//upload.wikimedia.org/wikipedia/commons/thumb/2/2b/Zipf_distribution_CMF.png/488px-Zipf_distribution_CMF.png 1.5x, //upload.wikimedia.org/wikipedia/commons/thumb/2/2b/Zipf_distribution_CMF.png/650px-Zipf_distribution_CMF.png 2x\" data-file-width=\"1300\" data-file-height=\"975\" /></a><br />\\n<small>Zipf CDF for <i>N</i> = 10. The horizontal axis is the index <i>k</i>&#160;. (Note that the function is only defined at integer values of <i>k</i>. The connecting lines do not indicate continuity.)</small></td>\\n</tr>\\n<tr>\\n<th scope=\"row\">Parameters</th>\\n<td><img class=\"mwe-math-fallback-image-inline tex\" alt=\"s&gt;1\\\\,\" src=\"//upload.wikimedia.org/math/5/1/5/5157c38208174b115b1b542c4ea71109.png\" /> (<a href=\"/wiki/Real_number\" title=\"Real number\">real</a>)<br />\\n<img class=\"mwe-math-fallback-image-inline tex\" alt=\"N \\\\in \\\\{1,2,3\\\\ldots\\\\}\" src=\"//upload.wikimedia.org/math/3/0/5/3058dc7df08e4fa71208eca58b6a62ac.png\" /> (<a href=\"/wiki/Integer\" title=\"Integer\">integer</a>)</td>\\n</tr>\\n<tr>\\n<th scope=\"row\"><a href=\"/wiki/Support_(mathematics)\" title=\"Support (mathematics)\">Support</a></th>\\n<td><img class=\"mwe-math-fallback-image-inline tex\" alt=\"k \\\\in \\\\{1,2,\\\\ldots,N\\\\}\" src=\"//upload.wikimedia.org/math/c/d/7/cd78b4f6d2651ba6301759c6e6314d70.png\" /></td>\\n</tr>\\n<tr>\\n<th scope=\"row\"><a href=\"/wiki/Probability_mass_function\" title=\"Probability mass function\">pmf</a></th>\\n<td><img class=\"mwe-math-fallback-image-inline tex\" alt=\"\\\\frac{1/k^s}{H_{N,s}}\" src=\"//upload.wikimedia.org/math/d/9/7/d97d3fd7535620600d05c161b9864817.png\" /></td>\\n</tr>\\n<tr>\\n<th scope=\"row\"><a href=\"/wiki/Cumulative_distribution_function\" title=\"Cumulative distribution function\">CDF</a></th>\\n<td><img class=\"mwe-math-fallback-image-inline tex\" alt=\"\\\\frac{H_{k,s}}{H_{N,s}}\" src=\"//upload.wikimedia.org/math/d/5/2/d52158c5d1e24d4659ae186dac2bcd08.png\" /></td>\\n</tr>\\n<tr>\\n<th scope=\"row\"><a href=\"/wiki/Expected_value\" title=\"Expected value\">Mean</a></th>\\n<td><img class=\"mwe-math-fallback-image-inline tex\" alt=\"\\\\frac{H_{N,s-1}}{H_{N,s}}\" src=\"//upload.wikimedia.org/math/9/b/4/9b4b0fef83463b13f4de49b9f5040d88.png\" /></td>\\n</tr>\\n<tr>\\n<th scope=\"row\"><a href=\"/wiki/Mode_(statistics)\" title=\"Mode (statistics)\">Mode</a></th>\\n<td><img class=\"mwe-math-fallback-image-inline tex\" alt=\"1\\\\,\" src=\"//upload.wikimedia.org/math/d/0/6/d06c48671eacd7f1e2afde7289e483d5.png\" /></td>\\n</tr>\\n<tr>\\n<th scope=\"row\"><a href=\"/wiki/Information_entropy\" title=\"Information entropy\" class=\"mw-redirect\">Entropy</a></th>\\n<td><img class=\"mwe-math-fallback-image-inline tex\" alt=\"\\\\frac{s}{H_{N,s}}\\\\sum_{k=1}^N\\\\frac{\\\\ln(k)}{k^s}\\n+\\\\ln(H_{N,s})\" src=\"//upload.wikimedia.org/math/f/f/6/ff6117a4f39d91f3b6296f37e6d8ff2c.png\" /></td>\\n</tr>\\n<tr>\\n<th scope=\"row\"><a href=\"/wiki/Moment-generating_function\" title=\"Moment-generating function\">MGF</a></th>\\n<td><img class=\"mwe-math-fallback-image-inline tex\" alt=\"\\\\frac{1}{H_{N,s}}\\\\sum_{n=1}^N \\\\frac{e^{nt}}{n^s}\" src=\"//upload.wikimedia.org/math/7/2/9/729e3738cdb6d7ad68ba9d6cf602b917.png\" /></td>\\n</tr>\\n<tr>\\n<th scope=\"row\"><a href=\"/wiki/Characteristic_function_(probability_theory)\" title=\"Characteristic function (probability theory)\">CF</a></th>\\n<td><img class=\"mwe-math-fallback-image-inline tex\" alt=\"\\\\frac{1}{H_{N,s}}\\\\sum_{n=1}^N \\\\frac{e^{int}}{n^s}\" src=\"//upload.wikimedia.org/math/2/3/d/23d45d04d9b0d5d43a9f99e262fa248c.png\" /></td>\\n</tr>\\n</table>\\n<p><b>Zipf\\'s law</b> <span class=\"nowrap\"><span class=\"IPA nopopups\"><a href=\"/wiki/Help:IPA_for_English\" title=\"Help:IPA for English\">/<span style=\"border-bottom:1px dotted\"><span title=\"/\\u02c8/ primary stress follows\">\\u02c8</span><span title=\"\\'z\\' in \\'Zion\\'\">z</span><span title=\"/\\u026a/ short \\'i\\' in \\'bid\\'\">\\u026a</span><span title=\"\\'f\\' in \\'find\\'\">f</span></span>/</a></span></span>, an <a href=\"/wiki/Empirical_law\" title=\"Empirical law\" class=\"mw-redirect\">empirical law</a> formulated using <a href=\"/wiki/Mathematical_statistics\" title=\"Mathematical statistics\">mathematical statistics</a>, refers to the fact that many types of data studied in the <a href=\"/wiki/Physical_science\" title=\"Physical science\" class=\"mw-redirect\">physical</a> and <a href=\"/wiki/Social_science\" title=\"Social science\">social</a> sciences can be approximated with a Zipfian distribution, one of a family of related discrete <a href=\"/wiki/Power_law\" title=\"Power law\">power law</a> <a href=\"/wiki/Probability_distribution\" title=\"Probability distribution\">probability distributions</a>. The law is named after the American <a href=\"/wiki/Linguistics\" title=\"Linguistics\">linguist</a> <a href=\"/wiki/George_Kingsley_Zipf\" title=\"George Kingsley Zipf\">George Kingsley Zipf</a> (1902\\u20131950), who popularized it and sought to explain it (Zipf 1935, 1949), though he did not claim to have originated it.<sup id=\"cite_ref-Powers1998_1-0\" class=\"reference\"><a href=\"#cite_note-Powers1998-1\"><span>[</span>1<span>]</span></a></sup> The French stenographer <a href=\"/wiki/Jean-Baptiste_Estoup\" title=\"Jean-Baptiste Estoup\">Jean-Baptiste Estoup</a> (1868\\u20131950) appears to have noticed the regularity before Zipf.<sup id=\"cite_ref-2\" class=\"reference\"><a href=\"#cite_note-2\"><span>[</span>2<span>]</span></a></sup> It was also noted in 1913 by German physicist <a href=\"/wiki/Felix_Auerbach\" title=\"Felix Auerbach\">Felix Auerbach</a><sup id=\"cite_ref-Auerbach1913_3-0\" class=\"reference\"><a href=\"#cite_note-Auerbach1913-3\"><span>[</span>3<span>]</span></a></sup> (1856\\u20131933).</p>\\n<p></p>\\n<div id=\"toc\" class=\"toc\">\\n<div id=\"toctitle\">\\n<h2>Contents</h2>\\n</div>\\n<ul>\\n<li class=\"toclevel-1 tocsection-1\"><a href=\"#Motivation\"><span class=\"tocnumber\">1</span> <span class=\"toctext\">Motivation</span></a></li>\\n<li class=\"toclevel-1 tocsection-2\"><a href=\"#Theoretical_review\"><span class=\"tocnumber\">2</span> <span class=\"toctext\">Theoretical review</span></a></li>\\n<li class=\"toclevel-1 tocsection-3\"><a href=\"#Statistical_explanation\"><span class=\"tocnumber\">3</span> <span class=\"toctext\">Statistical explanation</span></a></li>\\n<li class=\"toclevel-1 tocsection-4\"><a href=\"#Related_laws\"><span class=\"tocnumber\">4</span> <span class=\"toctext\">Related laws</span></a></li>\\n<li class=\"toclevel-1 tocsection-5\"><a href=\"#See_also\"><span class=\"tocnumber\">5</span> <span class=\"toctext\">See also</span></a></li>\\n<li class=\"toclevel-1 tocsection-6\"><a href=\"#References\"><span class=\"tocnumber\">6</span> <span class=\"toctext\">References</span></a></li>\\n<li class=\"toclevel-1 tocsection-7\"><a href=\"#Further_reading\"><span class=\"tocnumber\">7</span> <span class=\"toctext\">Further reading</span></a></li>\\n<li class=\"toclevel-1 tocsection-8\"><a href=\"#External_links\"><span class=\"tocnumber\">8</span> <span class=\"toctext\">External links</span></a></li>\\n</ul>\\n</div>\\n<p></p>\\n<h2><span class=\"mw-headline\" id=\"Motivation\">Motivation</span><span class=\"mw-editsection\"><span class=\"mw-editsection-bracket\">[</span><a href=\"/w/index.php?title=Zipf%27s_law&amp;action=edit&amp;section=1\" title=\"Edit section: Motivation\">edit</a><span class=\"mw-editsection-bracket\">]</span></span></h2>\\n<p>Zipf\\'s law states that given some <a href=\"/wiki/Text_corpus\" title=\"Text corpus\">corpus</a> of <a href=\"/wiki/Natural_language\" title=\"Natural language\">natural language</a> utterances, the frequency of any word is <a href=\"/wiki/Inversely_proportional\" title=\"Inversely proportional\" class=\"mw-redirect\">inversely proportional</a> to its rank in the <a href=\"/wiki/Frequency_table\" title=\"Frequency table\" class=\"mw-redirect\">frequency table</a>. Thus the most frequent word will occur approximately twice as often as the second most frequent word, three times as often as the third most frequent word, etc.: the <a href=\"/wiki/Rank-frequency_distribution\" title=\"Rank-frequency distribution\" class=\"mw-redirect\">rank-frequency distribution</a> is an inverse relation. For example, in the <a href=\"/wiki/Brown_Corpus\" title=\"Brown Corpus\">Brown Corpus</a> of American English text, the word \"<a href=\"/wiki/English_articles#Definite_article\" title=\"English articles\">the</a>\" is the most frequently occurring word, and by itself accounts for nearly 7% of all word occurrences (69,971 out of slightly over 1 million). True to Zipf\\'s Law, the second-place word \"of\" accounts for slightly over 3.5% of words (36,411 occurrences), followed by \"and\" (28,852). Only 135 vocabulary items are needed to account for half the Brown Corpus.<sup id=\"cite_ref-4\" class=\"reference\"><a href=\"#cite_note-4\"><span>[</span>4<span>]</span></a></sup></p>\\n<p>The same relationship occurs in many other rankings unrelated to language, such as the population ranks of cities in various countries, corporation sizes, income rankings, ranks of number of people watching the same TV channel,<sup id=\"cite_ref-5\" class=\"reference\"><a href=\"#cite_note-5\"><span>[</span>5<span>]</span></a></sup> and so on. The appearance of the distribution in rankings of cities by population was first noticed by Felix Auerbach in 1913.<sup id=\"cite_ref-Auerbach1913_3-1\" class=\"reference\"><a href=\"#cite_note-Auerbach1913-3\"><span>[</span>3<span>]</span></a></sup> Empirically, a data set can be tested to see whether Zipf\\'s law applies by checking the goodness of fit of an empirical distribution to the hypothesized power law distribution with a <a href=\"/wiki/Kolmogorov%E2%80%93Smirnov_test\" title=\"Kolmogorov\\u2013Smirnov test\">Kolmogorov-Smirnov test</a>, and then comparing the (log) likelihood ratio of the power law distribution to alternative distributions like an exponential distribution or lognormal distribution.<sup id=\"cite_ref-Clausetetal2009_6-0\" class=\"reference\"><a href=\"#cite_note-Clausetetal2009-6\"><span>[</span>6<span>]</span></a></sup> When Zipf\\'s law is checked for cities, a better fit has been found with <i>b</i> = 1.07; i.e. the <img class=\"mwe-math-fallback-image-inline tex\" alt=\"n^{th}\" src=\"//upload.wikimedia.org/math/c/c/7/cc778408df16bd74114dcbb47797a740.png\" /> largest settlement is <img class=\"mwe-math-fallback-image-inline tex\" alt=\"\\\\frac{1}{n^{1.07}}\" src=\"//upload.wikimedia.org/math/f/c/3/fc3d2affe5a50d1d9030fb269b4403bf.png\" /> the size of the largest settlement. While Zipf\\'s law holds for the upper tail of the distribution, the entire distribution of cities is <a href=\"/wiki/Log-normal_distribution\" title=\"Log-normal distribution\">log-normal</a> and follows <a href=\"/wiki/Gibrat%27s_law\" title=\"Gibrat\\'s law\">Gibrat\\'s law</a>.<sup id=\"cite_ref-Eeckhout2004_7-0\" class=\"reference\"><a href=\"#cite_note-Eeckhout2004-7\"><span>[</span>7<span>]</span></a></sup> Both laws are consistent because a log-normal tail can typically not be distinguished from a <a href=\"/wiki/Pareto_distribution\" title=\"Pareto distribution\">Pareto</a> (Zipf) tail.</p>\\n<h2><span class=\"mw-headline\" id=\"Theoretical_review\">Theoretical review</span><span class=\"mw-editsection\"><span class=\"mw-editsection-bracket\">[</span><a href=\"/w/index.php?title=Zipf%27s_law&amp;action=edit&amp;section=2\" title=\"Edit section: Theoretical review\">edit</a><span class=\"mw-editsection-bracket\">]</span></span></h2>\\n<p>Zipf\\'s law is most easily observed by <a href=\"/wiki/Graph_of_a_function\" title=\"Graph of a function\">plotting</a> the data on a <a href=\"/wiki/Log-log\" title=\"Log-log\" class=\"mw-redirect\">log-log</a> graph, with the axes being <a href=\"/wiki/Logarithm\" title=\"Logarithm\">log</a> (rank order) and log (frequency). For example, the word \"the\" (as described above) would appear at <i>x</i> = log(1), <i>y</i> = log(69971). It is also possible to plot reciprocal rank against frequency or reciprocal frequency or interword interval against rank.<sup id=\"cite_ref-Powers1998_1-1\" class=\"reference\"><a href=\"#cite_note-Powers1998-1\"><span>[</span>1<span>]</span></a></sup> The data conform to Zipf\\'s law to the extent that the plot is <a href=\"/wiki/Linear_equation\" title=\"Linear equation\">linear</a>.</p>\\n<p>Formally, let:</p>\\n<ul>\\n<li><i>N</i> be the number of elements;</li>\\n<li><i>k</i> be their rank;</li>\\n<li><i>s</i> be the value of the exponent characterizing the distribution.</li>\\n</ul>\\n<p>Zipf\\'s law then predicts that out of a population of <i>N</i> elements, the frequency of elements of rank <i>k</i>, <i>f</i>(<i>k</i>;<i>s</i>,<i>N</i>), is:</p>\\n<dl>\\n<dd><img class=\"mwe-math-fallback-image-inline tex\" alt=\"f(k;s,N)=\\\\frac{1/k^s}{\\\\sum_{n=1}^N (1/n^s)}\" src=\"//upload.wikimedia.org/math/2/d/8/2d87fb15b00aab1129162be2090dde61.png\" /></dd>\\n</dl>\\n<p>Zipf\\'s law holds if the number of elements with a given frequency is a random variable with power law distribution <img class=\"mwe-math-fallback-image-inline tex\" alt=\"p(f) = \\\\alpha f^{-1-1/s}.\" src=\"//upload.wikimedia.org/math/a/3/7/a378beed52a483fde2f028485426736a.png\" /><sup id=\"cite_ref-Adamic2000_8-0\" class=\"reference\"><a href=\"#cite_note-Adamic2000-8\"><span>[</span>8<span>]</span></a></sup></p>\\n<p>It has been claimed that this representation of Zipf\\'s law is more suitable for statistical testing, and in this way it has been analyzed in more than 30,000 English texts. The goodness-of-fit tests yield that only about 15% of the texts are statistically compatible with this form of Zipf\\'s law. Slight variations in the definition of Zipf\\'s law can increase this percentage up to close to 50%.<sup id=\"cite_ref-9\" class=\"reference\"><a href=\"#cite_note-9\"><span>[</span>9<span>]</span></a></sup></p>\\n<p>In the example of the frequency of words in the English language, <i>N</i> is the number of words in the English language and, if we use the classic version of Zipf\\'s law, the exponent <i>s</i> is 1. <i>f</i>(<i>k</i>;&#160;<i>s</i>,<i>N</i>) will then be the fraction of the time the <i>k</i>th most common word occurs.</p>\\n<p>The law may also be written:</p>\\n<dl>\\n<dd><img class=\"mwe-math-fallback-image-inline tex\" alt=\"f(k;s,N)=\\\\frac{1}{k^s H_{N,s}}\" src=\"//upload.wikimedia.org/math/f/8/9/f89bb3878c4d2424dd9cef433c0d395d.png\" /></dd>\\n</dl>\\n<p>where <i>H<sub>N,s</sub></i> is the <i>N</i>th generalized <a href=\"/wiki/Harmonic_number\" title=\"Harmonic number\">harmonic number</a>.</p>\\n<p>The simplest case of Zipf\\'s law is a \"<sup>1</sup>\\u2044<sub><i>f</i></sub> function\". Given a set of Zipfian distributed frequencies, sorted from most common to least common, the second most common frequency will occur \\xbd as often as the first. The third most common frequency will occur \\u2153 as often as the first. The <i>n</i><sup>th</sup> most common frequency will occur <sup>1</sup>\\u2044<sub><i>n</i></sub> as often as the first. However, this cannot hold exactly, because items must occur an integer number of times; there cannot be 2.5 occurrences of a word. Nevertheless, over fairly wide ranges, and to a fairly good approximation, many natural phenomena obey Zipf\\'s law.</p>\\n<p>Mathematically, the sum of all relative frequencies in a Zipf distribution is equal to the <a href=\"/wiki/Harmonic_series_(mathematics)\" title=\"Harmonic series (mathematics)\">harmonic series</a>, and</p>\\n<dl>\\n<dd><img class=\"mwe-math-fallback-image-inline tex\" alt=\"\\\\sum_{n=1}^\\\\infty \\\\frac{1}{n}=\\\\infty.\\\\!\" src=\"//upload.wikimedia.org/math/1/5/5/15538377c63afccd0268f20928be2f53.png\" /></dd>\\n</dl>\\n<p>In human languages, word frequencies have a very heavy-tailed distribution, and can therefore be modeled reasonably well by a Zipf distribution with an <i>s</i> close to 1.</p>\\n<p>As long as the exponent <i>s</i> exceeds 1, it is possible for such a law to hold with infinitely many words, since if <i>s</i>&#160;&gt;&#160;1 then</p>\\n<dl>\\n<dd><img class=\"mwe-math-fallback-image-inline tex\" alt=\"\\\\zeta (s) = \\\\sum_{n=1}^\\\\infty \\\\frac{1}{n^s}&lt;\\\\infty. \\\\!\" src=\"//upload.wikimedia.org/math/6/0/2/6023cb121a396569778fe156baf5f8a8.png\" /></dd>\\n</dl>\\n<p>where \\u03b6 is <a href=\"/wiki/Riemann_zeta_function\" title=\"Riemann zeta function\">Riemann\\'s zeta function</a>.</p>\\n<h2><span class=\"mw-headline\" id=\"Statistical_explanation\">Statistical explanation</span><span class=\"mw-editsection\"><span class=\"mw-editsection-bracket\">[</span><a href=\"/w/index.php?title=Zipf%27s_law&amp;action=edit&amp;section=3\" title=\"Edit section: Statistical explanation\">edit</a><span class=\"mw-editsection-bracket\">]</span></span></h2>\\n<div class=\"thumb tleft\">\\n<div class=\"thumbinner\" style=\"width:222px;\"><a href=\"/wiki/File:Zipf_30wiki_en_labels.png\" class=\"image\"><img alt=\"\" src=\"//upload.wikimedia.org/wikipedia/commons/thumb/a/ac/Zipf_30wiki_en_labels.png/220px-Zipf_30wiki_en_labels.png\" width=\"220\" height=\"165\" class=\"thumbimage\" srcset=\"//upload.wikimedia.org/wikipedia/commons/thumb/a/ac/Zipf_30wiki_en_labels.png/330px-Zipf_30wiki_en_labels.png 1.5x, //upload.wikimedia.org/wikipedia/commons/thumb/a/ac/Zipf_30wiki_en_labels.png/440px-Zipf_30wiki_en_labels.png 2x\" data-file-width=\"5600\" data-file-height=\"4200\" /></a>\\n<div class=\"thumbcaption\">\\n<div class=\"magnify\"><a href=\"/wiki/File:Zipf_30wiki_en_labels.png\" class=\"internal\" title=\"Enlarge\"></a></div>\\nA plot of the rank versus frequency for the first 10 million words in 30 Wikipedias (dumps from October 2015) in a <a href=\"/wiki/Log-log\" title=\"Log-log\" class=\"mw-redirect\">log-log</a> scale.</div>\\n</div>\\n</div>\\n<p>Although Zipf\\u2019s Law holds for most languages, even for non-natural languages like <a href=\"/wiki/Esperanto\" title=\"Esperanto\">Esperanto</a>,<sup id=\"cite_ref-10\" class=\"reference\"><a href=\"#cite_note-10\"><span>[</span>10<span>]</span></a></sup> the reason is still not well understood .<sup id=\"cite_ref-11\" class=\"reference\"><a href=\"#cite_note-11\"><span>[</span>11<span>]</span></a></sup> However, it may be partially explained by the statistical analysis of randomly generated texts. Wentian Li has shown that in a document in which each character has been chosen randomly from a uniform distribution of all letters (plus a space character), the \"words\" follow the general trend of Zipf\\'s law (appearing approximately linear on log-log plot).<sup id=\"cite_ref-12\" class=\"reference\"><a href=\"#cite_note-12\"><span>[</span>12<span>]</span></a></sup> <a href=\"/wiki/Vitold_Belevitch\" title=\"Vitold Belevitch\">Vitold Belevitch</a> in a paper, <i>On the Statistical Laws of Linguistic Distribution</i> offered a mathematical derivation. He took a large class of well-behaved <a href=\"/wiki/Statistical_distribution\" title=\"Statistical distribution\" class=\"mw-redirect\">statistical distributions</a> (not only the <a href=\"/wiki/Normal_distribution\" title=\"Normal distribution\">normal distribution</a>) and expressed them in terms of rank. He then expanded each expression into a <a href=\"/wiki/Taylor_series\" title=\"Taylor series\">Taylor series</a>. In every case Belevitch obtained the remarkable result that a first-order truncation of the series resulted in Zipf\\'s law. Further, a second-order truncation of the Taylor series resulted in <a href=\"/wiki/Zipf%E2%80%93Mandelbrot_law\" title=\"Zipf\\u2013Mandelbrot law\">Mandelbrot\\'s law</a>.<sup id=\"cite_ref-13\" class=\"reference\"><a href=\"#cite_note-13\"><span>[</span>13<span>]</span></a></sup><sup id=\"cite_ref-14\" class=\"reference\"><a href=\"#cite_note-14\"><span>[</span>14<span>]</span></a></sup></p>\\n<p>The <a href=\"/wiki/Principle_of_least_effort\" title=\"Principle of least effort\">principle of least effort</a> is another possible explanation: Zipf himself proposed that neither speakers nor hearers using a given language want to work any harder than necessary to reach understanding, and the process that results in approximately equal distribution of effort leads to the observed Zipf distribution.<sup id=\"cite_ref-15\" class=\"reference\"><a href=\"#cite_note-15\"><span>[</span>15<span>]</span></a></sup><sup id=\"cite_ref-16\" class=\"reference\"><a href=\"#cite_note-16\"><span>[</span>16<span>]</span></a></sup></p>\\n<h2><span class=\"mw-headline\" id=\"Related_laws\">Related laws</span><span class=\"mw-editsection\"><span class=\"mw-editsection-bracket\">[</span><a href=\"/w/index.php?title=Zipf%27s_law&amp;action=edit&amp;section=4\" title=\"Edit section: Related laws\">edit</a><span class=\"mw-editsection-bracket\">]</span></span></h2>\\n<div class=\"thumb tleft\">\\n<div class=\"thumbinner\" style=\"width:322px;\"><a href=\"/wiki/File:Wikipedia-n-zipf.png\" class=\"image\"><img alt=\"\" src=\"//upload.wikimedia.org/wikipedia/commons/thumb/b/b9/Wikipedia-n-zipf.png/320px-Wikipedia-n-zipf.png\" width=\"320\" height=\"240\" class=\"thumbimage\" srcset=\"//upload.wikimedia.org/wikipedia/commons/thumb/b/b9/Wikipedia-n-zipf.png/480px-Wikipedia-n-zipf.png 1.5x, //upload.wikimedia.org/wikipedia/commons/b/b9/Wikipedia-n-zipf.png 2x\" data-file-width=\"640\" data-file-height=\"480\" /></a>\\n<div class=\"thumbcaption\">\\n<div class=\"magnify\"><a href=\"/wiki/File:Wikipedia-n-zipf.png\" class=\"internal\" title=\"Enlarge\"></a></div>\\nA plot of word frequency in Wikipedia (November 27, 2006). The plot is in <a href=\"/wiki/Log-log\" title=\"Log-log\" class=\"mw-redirect\">log-log</a> coordinates. <i>x</i>&#160; is rank of a word in the frequency table; <i>y</i>&#160; is the total number of the word\\u2019s occurrences. Most popular words are \"the\", \"of\" and \"and\", as expected. Zipf\\'s law corresponds to the middle linear portion of the curve, roughly following the green (1/<i>x</i>)&#160; line, while the early part is closer to the magenta (1/\"x^0.5\") line while the later part is closer to the cyan (1/\"(k+x)^2.0\") line. These lines correspond to three distinct parameterizations of the Zipf-Mandelbrot distribution, overall a <a href=\"/wiki/Broken_power_law\" title=\"Broken power law\" class=\"mw-redirect\">broken power law</a> with three segments: a head, middle, and tail.</div>\\n</div>\\n</div>\\n<p><i>Zipf\\'s law</i> in fact refers more generally to frequency distributions of \"rank data,\" in which the relative frequency of the <i>n</i>th-ranked item is given by the <a href=\"/wiki/Zeta_distribution\" title=\"Zeta distribution\">Zeta distribution</a>, 1/(<i>n</i><sup><i>s</i></sup>\\u03b6(<i>s</i>)), where the parameter <i>s</i>&#160;&gt;&#160;1 indexes the members of this family of <a href=\"/wiki/Probability_distribution\" title=\"Probability distribution\">probability distributions</a>. Indeed, <i>Zipf\\'s law</i> is sometimes synonymous with \"zeta distribution,\" since probability distributions are sometimes called \"laws\". This distribution is sometimes called the <b>Zipfian</b> or <b>Yule</b> distribution.</p>\\n<p>A generalization of Zipf\\'s law is the <a href=\"/wiki/Zipf%E2%80%93Mandelbrot_law\" title=\"Zipf\\u2013Mandelbrot law\">Zipf\\u2013Mandelbrot law</a>, proposed by <a href=\"/wiki/Beno%C3%AEt_Mandelbrot\" title=\"Beno\\xeet Mandelbrot\" class=\"mw-redirect\">Beno\\xeet Mandelbrot</a>, whose frequencies are:</p>\\n<dl>\\n<dd><img class=\"mwe-math-fallback-image-inline tex\" alt=\"f(k;N,q,s)=\\\\frac{[\\\\mbox{constant}]}{(k+q)^s}.\\\\,\" src=\"//upload.wikimedia.org/math/1/b/6/1b692df3c837478895f4e8afafa07c25.png\" /></dd>\\n</dl>\\n<p>The \"constant\" is the reciprocal of the <a href=\"/wiki/Hurwitz_zeta_function\" title=\"Hurwitz zeta function\">Hurwitz zeta function</a> evaluated at <i>s</i>. In practice, as easily observable in distribution plots for large corpora, the observed distribution can better be modelled as a sum of separate distributions for different subsets or subtypes of words that follow different parameterizations of the Zipf-Mandelbrot distribution, in particular the closed class of functional words exhibit \"s\" lower than 1, while open-ended vocabulary growth with document size and corpus size require \"s\" greater than 1 for convergence of the <a href=\"/wiki/Harmonic_series_(mathematics)\" title=\"Harmonic series (mathematics)\">Generalized Harmonic Series</a>.<sup id=\"cite_ref-Powers1998_1-2\" class=\"reference\"><a href=\"#cite_note-Powers1998-1\"><span>[</span>1<span>]</span></a></sup></p>\\n<p>Zipfian distributions can be obtained from <a href=\"/wiki/Pareto_distribution\" title=\"Pareto distribution\">Pareto distributions</a> by an exchange of variables.<sup id=\"cite_ref-Adamic2000_8-1\" class=\"reference\"><a href=\"#cite_note-Adamic2000-8\"><span>[</span>8<span>]</span></a></sup></p>\\n<p>The Zipf distribution is sometimes called the <b>discrete Pareto distribution</b><sup id=\"cite_ref-17\" class=\"reference\"><a href=\"#cite_note-17\"><span>[</span>17<span>]</span></a></sup> because it is analogous to the continuous <a href=\"/wiki/Pareto_distribution\" title=\"Pareto distribution\">Pareto distribution</a> in the same way that the <a href=\"/wiki/Uniform_distribution_(discrete)\" title=\"Uniform distribution (discrete)\">discrete uniform distribution</a> is analogous to the <a href=\"/wiki/Uniform_distribution_(continuous)\" title=\"Uniform distribution (continuous)\">continuous uniform distribution</a>.</p>\\n<p>The tail frequencies of the <a href=\"/wiki/Yule%E2%80%93Simon_distribution\" title=\"Yule\\u2013Simon distribution\">Yule\\u2013Simon distribution</a> are approximately</p>\\n<dl>\\n<dd><img class=\"mwe-math-fallback-image-inline tex\" alt=\"f(k;\\\\rho) \\\\approx \\\\frac{[\\\\mbox{constant}]}{k^{\\\\rho+1}}\" src=\"//upload.wikimedia.org/math/7/6/0/760a3313829267bf212b9b153158ca80.png\" /></dd>\\n</dl>\\n<p>for any choice of <i>\\u03c1</i> &gt; 0.</p>\\n<p>In the <a href=\"/wiki/Parabolic_fractal_distribution\" title=\"Parabolic fractal distribution\">parabolic fractal distribution</a>, the logarithm of the frequency is a quadratic polynomial of the logarithm of the rank. This can markedly improve the fit over a simple power-law relationship.<sup id=\"cite_ref-Galien_18-0\" class=\"reference\"><a href=\"#cite_note-Galien-18\"><span>[</span>18<span>]</span></a></sup> Like fractal dimension, it is possible to calculate Zipf dimension, which is a useful parameter in the analysis of texts.<sup id=\"cite_ref-19\" class=\"reference\"><a href=\"#cite_note-19\"><span>[</span>19<span>]</span></a></sup></p>\\n<p>It has been argued that <a href=\"/wiki/Benford%27s_law\" title=\"Benford\\'s law\">Benford\\'s law</a> is a special bounded case of Zipf\\'s law,<sup id=\"cite_ref-Galien_18-1\" class=\"reference\"><a href=\"#cite_note-Galien-18\"><span>[</span>18<span>]</span></a></sup> with the connection between these two laws being explained by their both originating from scale invariant functional relations from statistical physics and critical phenomena.<sup id=\"cite_ref-20\" class=\"reference\"><a href=\"#cite_note-20\"><span>[</span>20<span>]</span></a></sup> The ratios of probabilities in Benford\\'s law are not constant. The leading digits of data satisfying Zipf\\'s law with s = 1 satisfies Benford\\'s law.</p>\\n<table class=\"wikitable\" style=\"text-align: center; font-size:8pt;\">\\n<tr>\\n<th><img class=\"mwe-math-fallback-image-inline tex\" alt=\"n\" src=\"//upload.wikimedia.org/math/7/b/8/7b8b965ad4bca0e41ab51de7b31363a1.png\" /></th>\\n<th>Benford\\'s law: <img class=\"mwe-math-fallback-image-inline tex\" alt=\"P(n) = \" src=\"//upload.wikimedia.org/math/c/9/1/c9189f27db572f53e4d0d0c417b694d3.png\" /><br />\\n<img class=\"mwe-math-fallback-image-inline tex\" alt=\"\\\\log_{10}(n+1)-\\\\log_{10}(n)\" src=\"//upload.wikimedia.org/math/c/7/b/c7bd6bb213ee2f5d315167cd7d5f2517.png\" /></th>\\n<th><img class=\"mwe-math-fallback-image-inline tex\" alt=\"\\\\tfrac{\\\\log(P(n)/P(n-1))}{\\\\log(n/(n-1))}\" src=\"//upload.wikimedia.org/math/3/f/b/3fba2552ca89139cb38306da0b924f92.png\" /></th>\\n</tr>\\n<tr>\\n<td>1</td>\\n<td>0.30103000</td>\\n<td></td>\\n</tr>\\n<tr>\\n<td>2</td>\\n<td>0.17609126</td>\\n<td>-0.7735840</td>\\n</tr>\\n<tr>\\n<td>3</td>\\n<td>0.12493874</td>\\n<td>-0.8463832</td>\\n</tr>\\n<tr>\\n<td>4</td>\\n<td>0.09691001</td>\\n<td>-0.8830605</td>\\n</tr>\\n<tr>\\n<td>5</td>\\n<td>0.07918125</td>\\n<td>-0.9054412</td>\\n</tr>\\n<tr>\\n<td>6</td>\\n<td>0.06694679</td>\\n<td>-0.9205788</td>\\n</tr>\\n<tr>\\n<td>7</td>\\n<td>0.05799195</td>\\n<td>-0.9315169</td>\\n</tr>\\n<tr>\\n<td>8</td>\\n<td>0.05115252</td>\\n<td>-0.9397966</td>\\n</tr>\\n<tr>\\n<td>9</td>\\n<td>0.04575749</td>\\n<td>-0.9462848</td>\\n</tr>\\n</table>\\n<h2><span class=\"mw-headline\" id=\"See_also\">See also</span><span class=\"mw-editsection\"><span class=\"mw-editsection-bracket\">[</span><a href=\"/w/index.php?title=Zipf%27s_law&amp;action=edit&amp;section=5\" title=\"Edit section: See also\">edit</a><span class=\"mw-editsection-bracket\">]</span></span></h2>\\n<div class=\"div-col columns column-count column-count-2\" style=\"-moz-column-count: 2; -webkit-column-count: 2; column-count: 2;\">\\n<ul>\\n<li><a href=\"/wiki/Bradford%27s_law\" title=\"Bradford\\'s law\">Bradford\\'s law</a></li>\\n<li><a href=\"/wiki/Benford%27s_law\" title=\"Benford\\'s law\">Benford\\'s law</a></li>\\n<li><a href=\"/wiki/Demographic_gravitation\" title=\"Demographic gravitation\">Demographic gravitation</a></li>\\n<li><a href=\"/wiki/Frequency_list\" title=\"Frequency list\" class=\"mw-redirect\">Frequency list</a></li>\\n<li><a href=\"/wiki/Gibrat%27s_law\" title=\"Gibrat\\'s law\">Gibrat\\'s law</a></li>\\n<li><a href=\"/wiki/Heaps%27_law\" title=\"Heaps\\' law\">Heaps\\' law</a></li>\\n<li><a href=\"/wiki/Hapax_legomenon\" title=\"Hapax legomenon\">Hapax legomenon</a></li>\\n<li><a href=\"/wiki/Lorenz_curve\" title=\"Lorenz curve\">Lorenz curve</a></li>\\n<li><a href=\"/wiki/Lotka%27s_law\" title=\"Lotka\\'s law\">Lotka\\'s law</a></li>\\n<li><a href=\"/wiki/Pareto_distribution\" title=\"Pareto distribution\">Pareto distribution</a></li>\\n<li><a href=\"/wiki/Pareto_principle\" title=\"Pareto principle\">Pareto principle</a>, a.k.a. the \"80\\u201320 rule\"</li>\\n<li><a href=\"/wiki/Principle_of_least_effort\" title=\"Principle of least effort\">Principle of least effort</a></li>\\n<li><a href=\"/wiki/Rank-size_distribution\" title=\"Rank-size distribution\">Rank-size distribution</a></li>\\n<li><a href=\"/wiki/King_effect\" title=\"King effect\">King effect</a></li>\\n<li><a href=\"/wiki/Stigler%27s_law_of_eponymy\" title=\"Stigler\\'s law of eponymy\">Stigler\\'s law of eponymy</a></li>\\n</ul>\\n</div>\\n<h2><span class=\"mw-headline\" id=\"References\">References</span><span class=\"mw-editsection\"><span class=\"mw-editsection-bracket\">[</span><a href=\"/w/index.php?title=Zipf%27s_law&amp;action=edit&amp;section=6\" title=\"Edit section: References\">edit</a><span class=\"mw-editsection-bracket\">]</span></span></h2>\\n<div class=\"reflist\" style=\"list-style-type: decimal;\">\\n<ol class=\"references\">\\n<li id=\"cite_note-Powers1998-1\"><span class=\"mw-cite-backlink\">^ <a href=\"#cite_ref-Powers1998_1-0\"><sup><i><b>a</b></i></sup></a> <a href=\"#cite_ref-Powers1998_1-1\"><sup><i><b>b</b></i></sup></a> <a href=\"#cite_ref-Powers1998_1-2\"><sup><i><b>c</b></i></sup></a></span> <span class=\"reference-text\"><cite class=\"citation journal\">Powers, David M W (1998). \"<a rel=\"nofollow\" class=\"external text\" href=\"http://aclweb.org/anthology/W98-1218\">Applications and explanations of Zipf\\'s law</a>\". Association for Computational Linguistics: 151\\u2013160.</cite><span title=\"ctx_ver=Z39.88-2004&amp;rfr_id=info%3Asid%2Fen.wikipedia.org%3AZipf%27s+law&amp;rft.atitle=%5Bhttp%3A%2F%2Faclweb.org%2Fanthology%2FW98-1218+Applications+and+explanations+of+Zipf%27s+law%5D&amp;rft.aufirst=David+M+W&amp;rft.aulast=Powers&amp;rft.date=1998&amp;rft.genre=article&amp;rft.pages=151-160&amp;rft_val_fmt=info%3Aofi%2Ffmt%3Akev%3Amtx%3Ajournal\" class=\"Z3988\"><span style=\"display:none;\">&#160;</span></span> <span style=\"font-size:100%\" class=\"error citation-comment\">External link in <code style=\"color:inherit; border:inherit; padding:inherit;\">|title=</code> (<a href=\"/wiki/Help:CS1_errors#param_has_ext_link\" title=\"Help:CS1 errors\">help</a>)</span></span></li>\\n<li id=\"cite_note-2\"><span class=\"mw-cite-backlink\"><b><a href=\"#cite_ref-2\">^</a></b></span> <span class=\"reference-text\">Christopher D. Manning, Hinrich Sch\\xfctze <i>Foundations of Statistical Natural Language Processing</i>, MIT Press (1999), <a href=\"/wiki/Special:BookSources/9780262133609\" class=\"internal mw-magiclink-isbn\">ISBN 978-0-262-13360-9</a>, p. 24</span></li>\\n<li id=\"cite_note-Auerbach1913-3\"><span class=\"mw-cite-backlink\">^ <a href=\"#cite_ref-Auerbach1913_3-0\"><sup><i><b>a</b></i></sup></a> <a href=\"#cite_ref-Auerbach1913_3-1\"><sup><i><b>b</b></i></sup></a></span> <span class=\"reference-text\">Auerbach F. (1913) Das Gesetz der Bev\\xf6lkerungskonzentration. Petermann\\u2019s Geographische Mitteilungen 59, 74\\u201376</span></li>\\n<li id=\"cite_note-4\"><span class=\"mw-cite-backlink\"><b><a href=\"#cite_ref-4\">^</a></b></span> <span class=\"reference-text\"><cite id=\"CITEREFFaganGen.C3.A7ay2010\" class=\"citation\">Fagan, Stephen; Gen\\xe7ay, Ramazan (2010), \"An introduction to textual econometrics\", in Ullah, Aman; Giles, David E. A., <i>Handbook of Empirical Economics and Finance</i>, CRC Press, pp.&#160;133\\u2013153, <a href=\"/wiki/International_Standard_Book_Number\" title=\"International Standard Book Number\">ISBN</a>&#160;<a href=\"/wiki/Special:BookSources/9781420070361\" title=\"Special:BookSources/9781420070361\">9781420070361</a></cite><span title=\"ctx_ver=Z39.88-2004&amp;rfr_id=info%3Asid%2Fen.wikipedia.org%3AZipf%27s+law&amp;rft.atitle=An+introduction+to+textual+econometrics&amp;rft.aufirst=Stephen&amp;rft.au=Gen%C3%A7ay%2C+Ramazan&amp;rft.aulast=Fagan&amp;rft.btitle=Handbook+of+Empirical+Economics+and+Finance&amp;rft.date=2010&amp;rft.genre=bookitem&amp;rft.isbn=9781420070361&amp;rft.pages=133-153&amp;rft.pub=CRC+Press&amp;rft_val_fmt=info%3Aofi%2Ffmt%3Akev%3Amtx%3Abook\" class=\"Z3988\"><span style=\"display:none;\">&#160;</span></span>. <a rel=\"nofollow\" class=\"external text\" href=\"http://books.google.com/books?hl=en&amp;lr=&amp;id=QAUv9R6bJzwC&amp;oi=fnd&amp;pg=PA139\">P.&#160;139</a>: \"For example, in the Brown Corpus, consisting of over one million words, half of the word volume consists of repeated uses of only 135 words.\"</span></li>\\n<li id=\"cite_note-5\"><span class=\"mw-cite-backlink\"><b><a href=\"#cite_ref-5\">^</a></b></span> <span class=\"reference-text\">M. Eriksson, S.M. Hasibur Rahman, F. Fraille, M. Sj\\xf6str\\xf6m, \\u201d<a rel=\"nofollow\" class=\"external text\" href=\"http://apachepersonal.miun.se/~mageri/myresearch/bmsb2013-Eriksson.pdf\">Efficient Interactive Multicast over DVB-T2 - Utilizing Dynamic SFNs and PARPS</a>\\u201d, 2013 IEEE International Conference on Computer and Information Technology (BMSB\\u201913), London, UK, June 2013. Suggests a heterogeneous Zipf-law TV channel-selection model</span></li>\\n<li id=\"cite_note-Clausetetal2009-6\"><span class=\"mw-cite-backlink\"><b><a href=\"#cite_ref-Clausetetal2009_6-0\">^</a></b></span> <span class=\"reference-text\">Clauset, A., Shalizi, C. R., &amp; Newman, M. E. J. (2009). Power-Law Distributions in Empirical Data. SIAM Review, 51(4), 661\\u2013703. doi:10.1137/070710111</span></li>\\n<li id=\"cite_note-Eeckhout2004-7\"><span class=\"mw-cite-backlink\"><b><a href=\"#cite_ref-Eeckhout2004_7-0\">^</a></b></span> <span class=\"reference-text\">Eeckhout J. (2004), Gibrat\\'s law for (All) Cities. American Economic Review 94(5), 1429-1451.</span></li>\\n<li id=\"cite_note-Adamic2000-8\"><span class=\"mw-cite-backlink\">^ <a href=\"#cite_ref-Adamic2000_8-0\"><sup><i><b>a</b></i></sup></a> <a href=\"#cite_ref-Adamic2000_8-1\"><sup><i><b>b</b></i></sup></a></span> <span class=\"reference-text\">Adamic, Lada A. (2000) <a rel=\"nofollow\" class=\"external text\" href=\"http://www.hpl.hp.com/research/idl/papers/ranking/ranking.html\">\"Zipf, Power-laws, and Pareto - a ranking tutorial\", originally published at http://www.parc.xerox.com/istl/groups/iea/papers/ranking/ranking.html</a></span></li>\\n<li id=\"cite_note-9\"><span class=\"mw-cite-backlink\"><b><a href=\"#cite_ref-9\">^</a></b></span> <span class=\"reference-text\"><cite class=\"citation journal\">Moreno-S\\xe1nchez, I; Font-Clos, F; Corral, A (2016). \"Large-Scale Analysis of Zipf\\u2019s Law in English Texts\". <i>PLoS ONE</i>. <a href=\"/wiki/Digital_object_identifier\" title=\"Digital object identifier\">doi</a>:<a rel=\"nofollow\" class=\"external text\" href=\"//dx.doi.org/10.1371%2Fjournal.pone.0147073\">10.1371/journal.pone.0147073</a>.</cite><span title=\"ctx_ver=Z39.88-2004&amp;rfr_id=info%3Asid%2Fen.wikipedia.org%3AZipf%27s+law&amp;rft.atitle=Large-Scale+Analysis+of+Zipf%99s+Law+in+English+Texts&amp;rft.au=Corral%2C+A&amp;rft.aufirst=I&amp;rft.au=Font-Clos%2C+F&amp;rft.aulast=Moreno-S%C3%A1nchez&amp;rft.date=2016&amp;rft.genre=article&amp;rft_id=info%3Adoi%2F10.1371%2Fjournal.pone.0147073&amp;rft.jtitle=PLoS+ONE&amp;rft_val_fmt=info%3Aofi%2Ffmt%3Akev%3Amtx%3Ajournal\" class=\"Z3988\"><span style=\"display:none;\">&#160;</span></span></span></li>\\n<li id=\"cite_note-10\"><span class=\"mw-cite-backlink\"><b><a href=\"#cite_ref-10\">^</a></b></span> <span class=\"reference-text\"><cite class=\"citation conference\">Bill Manaris, Luca Pellicoro, George Pothering, Harland Hodges (13 February 2006). <a rel=\"nofollow\" class=\"external text\" href=\"http://www.cs.cofc.edu/~manaris/uploads/Main/IASTED2006.pdf\"><i>INVESTIGATING ESPERANTO\\u2019S STATISTICAL PROPORTIONS RELATIVE TO OTHER LANGUAGES USING NEURAL NETWORKS AND ZIPF\\u2019S LAW</i></a> <span style=\"font-size:85%;\">(PDF)</span>. <i><a href=\"/w/index.php?title=Artificial_Intelligence_and_Applications&amp;action=edit&amp;redlink=1\" class=\"new\" title=\"Artificial Intelligence and Applications (page does not exist)\">Artificial Intelligence and Applications</a></i> (Innsbruck, Austria). pp.&#160;102\\u2013108.</cite><span title=\"ctx_ver=Z39.88-2004&amp;rfr_id=info%3Asid%2Fen.wikipedia.org%3AZipf%27s+law&amp;rft.atitle=INVESTIGATING+ESPERANTO%99S+STATISTICAL+PROPORTIONS+RELATIVE+TO+OTHER+LANGUAGES+USING+NEURAL+NETWORKS+AND+ZIPF%99S+LAW&amp;rft.au=Bill+Manaris%2C+Luca+Pellicoro%2C+George+Pothering%2C+Harland+Hodges&amp;rft.date=2006-02-13&amp;rft.genre=conference&amp;rft_id=http%3A%2F%2Fwww.cs.cofc.edu%2F~manaris%2Fuploads%2FMain%2FIASTED2006.pdf&amp;rft.jtitle=Artificial+Intelligence+and+Applications&amp;rft.pages=102-108&amp;rft_val_fmt=info%3Aofi%2Ffmt%3Akev%3Amtx%3Ajournal\" class=\"Z3988\"><span style=\"display:none;\">&#160;</span></span></span></li>\\n<li id=\"cite_note-11\"><span class=\"mw-cite-backlink\"><b><a href=\"#cite_ref-11\">^</a></b></span> <span class=\"reference-text\"><a href=\"/wiki/L%C3%A9on_Brillouin\" title=\"L\\xe9on Brillouin\">L\\xe9on Brillouin</a>, <i>La science et la th\\xe9orie de l\\'information</i>, 1959, r\\xe9\\xe9dit\\xe9 en 1988, traduction anglaise r\\xe9\\xe9dit\\xe9e en 2004</span></li>\\n<li id=\"cite_note-12\"><span class=\"mw-cite-backlink\"><b><a href=\"#cite_ref-12\">^</a></b></span> <span class=\"reference-text\"><cite class=\"citation journal\">Wentian Li (1992). <a rel=\"nofollow\" class=\"external text\" href=\"http://citeseerx.ist.psu.edu/viewdoc/download?doi=10.1.1.164.8422&amp;rep=rep1&amp;type=pdf\">\"Random Texts Exhibit Zipf\\'s-Law-Like Word Frequency Distribution\"</a>. <i><a href=\"/wiki/IEEE_Transactions_on_Information_Theory\" title=\"IEEE Transactions on Information Theory\">IEEE Transactions on Information Theory</a></i> <b>38</b> (6): 1842\\u20131845. <a href=\"/wiki/Digital_object_identifier\" title=\"Digital object identifier\">doi</a>:<a rel=\"nofollow\" class=\"external text\" href=\"//dx.doi.org/10.1109%2F18.165464\">10.1109/18.165464</a>.</cite><span title=\"ctx_ver=Z39.88-2004&amp;rfr_id=info%3Asid%2Fen.wikipedia.org%3AZipf%27s+law&amp;rft.atitle=Random+Texts+Exhibit+Zipf%27s-Law-Like+Word+Frequency+Distribution&amp;rft.au=Wentian+Li&amp;rft.date=1992&amp;rft.genre=article&amp;rft_id=http%3A%2F%2Fciteseerx.ist.psu.edu%2Fviewdoc%2Fdownload%3Fdoi%3D10.1.1.164.8422%26rep%3Drep1%26type%3Dpdf&amp;rft_id=info%3Adoi%2F10.1109%2F18.165464&amp;rft.issue=6&amp;rft.jtitle=IEEE+Transactions+on+Information+Theory&amp;rft.pages=1842-1845&amp;rft_val_fmt=info%3Aofi%2Ffmt%3Akev%3Amtx%3Ajournal&amp;rft.volume=38\" class=\"Z3988\"><span style=\"display:none;\">&#160;</span></span></span></li>\\n<li id=\"cite_note-13\"><span class=\"mw-cite-backlink\"><b><a href=\"#cite_ref-13\">^</a></b></span> <span class=\"reference-text\"><a href=\"/wiki/Peter_G._Neumann\" title=\"Peter G. Neumann\">Neumann, Peter G.</a> <a rel=\"nofollow\" class=\"external text\" href=\"http://www.csl.sri.com/users/neumann/#12a\">\"Statistical metalinguistics and Zipf/Pareto/Mandelbrot\"</a>, <i>SRI International Computer Science Laboratory</i>, accessed and <a rel=\"nofollow\" class=\"external text\" href=\"http://www.webcitation.org/5z2UByabR\">archived</a> 29 May 2011.</span></li>\\n<li id=\"cite_note-14\"><span class=\"mw-cite-backlink\"><b><a href=\"#cite_ref-14\">^</a></b></span> <span class=\"reference-text\"><cite class=\"citation journal\">Belevitch V (18 December 1959). \"On the statistical laws of linguistic distributions\". <i>Annales de la Soci\\xe9t\\xe9 Scientifique de Bruxelles</i>. I <b>73</b>: 310\\u2013326.</cite><span title=\"ctx_ver=Z39.88-2004&amp;rfr_id=info%3Asid%2Fen.wikipedia.org%3AZipf%27s+law&amp;rft.atitle=On+the+statistical+laws+of+linguistic+distributions&amp;rft.au=Belevitch+V&amp;rft.date=1959-12-18&amp;rft.genre=article&amp;rft.jtitle=Annales+de+la+Soci%C3%A9t%C3%A9+Scientifique+de+Bruxelles&amp;rft.pages=310-326.&amp;rft_val_fmt=info%3Aofi%2Ffmt%3Akev%3Amtx%3Ajournal&amp;rft.volume=73\" class=\"Z3988\"><span style=\"display:none;\">&#160;</span></span></span></li>\\n<li id=\"cite_note-15\"><span class=\"mw-cite-backlink\"><b><a href=\"#cite_ref-15\">^</a></b></span> <span class=\"reference-text\"><cite class=\"citation book\">Zipf GK (1949). <i>Human Behavior and the Principle of Least Effort</i>. Cambridge, Massachusetts: Addison-Wesley. p.&#160;1.</cite><span title=\"ctx_ver=Z39.88-2004&amp;rfr_id=info%3Asid%2Fen.wikipedia.org%3AZipf%27s+law&amp;rft.au=Zipf+GK&amp;rft.btitle=Human+Behavior+and+the+Principle+of+Least+Effort&amp;rft.date=1949&amp;rft.genre=book&amp;rft.pages=1&amp;rft.place=Cambridge%2C+Massachusetts&amp;rft.pub=Addison-Wesley&amp;rft_val_fmt=info%3Aofi%2Ffmt%3Akev%3Amtx%3Abook\" class=\"Z3988\"><span style=\"display:none;\">&#160;</span></span></span></li>\\n<li id=\"cite_note-16\"><span class=\"mw-cite-backlink\"><b><a href=\"#cite_ref-16\">^</a></b></span> <span class=\"reference-text\"><cite class=\"citation journal\">Ramon Ferrer i Cancho and Ricard V. Sole (2003). <a rel=\"nofollow\" class=\"external text\" href=\"http://www.pnas.org/content/100/3/788.abstract?sid=cc7fae18-87c9-4b67-863a-4195bb47c1d1\">\"Least effort and the origins of scaling in human language\"</a>. <i><a href=\"/wiki/Proceedings_of_the_National_Academy_of_Sciences_of_the_United_States_of_America\" title=\"Proceedings of the National Academy of Sciences of the United States of America\">Proceedings of the National Academy of Sciences of the United States of America</a></i> <b>100</b> (3): 788\\u2013791. <a href=\"/wiki/Digital_object_identifier\" title=\"Digital object identifier\">doi</a>:<a rel=\"nofollow\" class=\"external text\" href=\"//dx.doi.org/10.1073%2Fpnas.0335980100\">10.1073/pnas.0335980100</a>. <a href=\"/wiki/PubMed_Central\" title=\"PubMed Central\">PMC</a>&#160;<a rel=\"nofollow\" class=\"external text\" href=\"//www.ncbi.nlm.nih.gov/pmc/articles/PMC298679\">298679</a>. <a href=\"/wiki/PubMed_Identifier\" title=\"PubMed Identifier\" class=\"mw-redirect\">PMID</a>&#160;<a rel=\"nofollow\" class=\"external text\" href=\"//www.ncbi.nlm.nih.gov/pubmed/12540826\">12540826</a>.</cite><span title=\"ctx_ver=Z39.88-2004&amp;rfr_id=info%3Asid%2Fen.wikipedia.org%3AZipf%27s+law&amp;rft.atitle=Least+effort+and+the+origins+of+scaling+in+human+language&amp;rft.au=Ramon+Ferrer+i+Cancho+and+Ricard+V.+Sole&amp;rft.date=2003&amp;rft.genre=article&amp;rft_id=%2F%2Fwww.ncbi.nlm.nih.gov%2Fpmc%2Farticles%2FPMC298679&amp;rft_id=http%3A%2F%2Fwww.pnas.org%2Fcontent%2F100%2F3%2F788.abstract%3Fsid%3Dcc7fae18-87c9-4b67-863a-4195bb47c1d1&amp;rft_id=info%3Adoi%2F10.1073%2Fpnas.0335980100&amp;rft_id=info%3Apmid%2F12540826&amp;rft.issue=3&amp;rft.jtitle=Proceedings+of+the+National+Academy+of+Sciences+of+the+United+States+of+America&amp;rft.pages=788-791&amp;rft_val_fmt=info%3Aofi%2Ffmt%3Akev%3Amtx%3Ajournal&amp;rft.volume=100\" class=\"Z3988\"><span style=\"display:none;\">&#160;</span></span></span></li>\\n<li id=\"cite_note-17\"><span class=\"mw-cite-backlink\"><b><a href=\"#cite_ref-17\">^</a></b></span> <span class=\"reference-text\"><cite id=\"CITEREFN._L._Johnson.2C_S._Kotz.2C_and_A._W._Kemp1992\" class=\"citation book\">N. L. Johnson, S. Kotz, and A. W. Kemp (1992). <i>Univariate Discrete Distributions</i> (second ed.). New York: John Wiley &amp; Sons, Inc. <a href=\"/wiki/International_Standard_Book_Number\" title=\"International Standard Book Number\">ISBN</a>&#160;<a href=\"/wiki/Special:BookSources/0-471-54897-9\" title=\"Special:BookSources/0-471-54897-9\">0-471-54897-9</a>.</cite><span title=\"ctx_ver=Z39.88-2004&amp;rfr_id=info%3Asid%2Fen.wikipedia.org%3AZipf%27s+law&amp;rft.au=N.+L.+Johnson%2C+S.+Kotz%2C+and+A.+W.+Kemp&amp;rft.btitle=Univariate+Discrete+Distributions&amp;rft.date=1992&amp;rft.edition=second&amp;rft.genre=book&amp;rft.isbn=0-471-54897-9&amp;rft.place=New+York&amp;rft.pub=John+Wiley+%26+Sons%2C+Inc.&amp;rft_val_fmt=info%3Aofi%2Ffmt%3Akev%3Amtx%3Abook\" class=\"Z3988\"><span style=\"display:none;\">&#160;</span></span>, p. 466.</span></li>\\n<li id=\"cite_note-Galien-18\"><span class=\"mw-cite-backlink\">^ <a href=\"#cite_ref-Galien_18-0\"><sup><i><b>a</b></i></sup></a> <a href=\"#cite_ref-Galien_18-1\"><sup><i><b>b</b></i></sup></a></span> <span class=\"reference-text\"><cite class=\"citation web\">Johan Gerard van der Galien (2003-11-08). <a rel=\"nofollow\" class=\"external text\" href=\"http://home.zonnet.nl/galien8/factor/factor.html\">\"Factorial randomness: the Laws of Benford and Zipf with respect to the first digit distribution of the factor sequence from the natural numbers\"</a>.</cite><span title=\"ctx_ver=Z39.88-2004&amp;rfr_id=info%3Asid%2Fen.wikipedia.org%3AZipf%27s+law&amp;rft.au=Johan+Gerard+van+der+Galien&amp;rft.btitle=Factorial+randomness%3A+the+Laws+of+Benford+and+Zipf+with+respect+to+the+first+digit+distribution+of+the+factor+sequence+from+the+natural+numbers&amp;rft.date=2003-11-08&amp;rft.genre=unknown&amp;rft_id=http%3A%2F%2Fhome.zonnet.nl%2Fgalien8%2Ffactor%2Ffactor.html&amp;rft_val_fmt=info%3Aofi%2Ffmt%3Akev%3Amtx%3Abook\" class=\"Z3988\"><span style=\"display:none;\">&#160;</span></span></span></li>\\n<li id=\"cite_note-19\"><span class=\"mw-cite-backlink\"><b><a href=\"#cite_ref-19\">^</a></b></span> <span class=\"reference-text\">Ali Eftekhari (2006) Fractal geometry of texts. <i>Journal of Quantitative Linguistic</i> 13(2-3): 177 \\u2013 193.</span></li>\\n<li id=\"cite_note-20\"><span class=\"mw-cite-backlink\"><b><a href=\"#cite_ref-20\">^</a></b></span> <span class=\"reference-text\">L. Pietronero, E. Tosatti, V. Tosatti, A. Vespignani (2001) Explaining the uneven distribution of numbers in nature: The laws of Benford and Zipf. <i>Physica A</i> 293: 297 \\u2013 304.</span></li>\\n</ol>\\n</div>\\n<h2><span class=\"mw-headline\" id=\"Further_reading\">Further reading</span><span class=\"mw-editsection\"><span class=\"mw-editsection-bracket\">[</span><a href=\"/w/index.php?title=Zipf%27s_law&amp;action=edit&amp;section=7\" title=\"Edit section: Further reading\">edit</a><span class=\"mw-editsection-bracket\">]</span></span></h2>\\n<p>Primary:</p>\\n<ul>\\n<li><a href=\"/wiki/George_K._Zipf\" title=\"George K. Zipf\" class=\"mw-redirect\">George K. Zipf</a> (1949) <i>Human Behavior and the Principle of Least Effort</i>. Addison-Wesley.</li>\\n<li>George K. Zipf (1935) <i>The Psychobiology of Language</i>. Houghton-Mifflin. (see citations at <a rel=\"nofollow\" class=\"external free\" href=\"http://citeseer.ist.psu.edu/context/64879/0\">http://citeseer.ist.psu.edu/context/64879/0</a> )</li>\\n</ul>\\n<p>Secondary:</p>\\n<ul>\\n<li>Alexander Gelbukh and Grigori Sidorov (2001) <a rel=\"nofollow\" class=\"external text\" href=\"http://www.gelbukh.com/CV/Publications/2001/CICLing-2001-Zipf.htm\">\"Zipf and Heaps Laws\\u2019 Coefficients Depend on Language\"</a>. Proc. <a href=\"/wiki/CICLing\" title=\"CICLing\" class=\"mw-redirect\">CICLing</a>-2001, <i>Conference on Intelligent Text Processing and Computational Linguistics</i>, February 18\\u201324, 2001, Mexico City. Lecture Notes in Computer Science N 2004, <a href=\"/wiki/International_Standard_Serial_Number\" title=\"International Standard Serial Number\">ISSN</a>&#160;<a rel=\"nofollow\" class=\"external text\" href=\"//www.worldcat.org/search?fq=x0:jrnl&amp;q=n2:0302-9743\">0302-9743</a>, <a href=\"/wiki/Special:BookSources/3540416870\" class=\"internal mw-magiclink-isbn\">ISBN 3-540-41687-0</a>, Springer-Verlag: 332\\u2013335.</li>\\n<li>Dami\\xe1n H. Zanette (2006) \"<a rel=\"nofollow\" class=\"external text\" href=\"http://xxx.arxiv.org/abs/cs.CL/0406015\">Zipf\\'s law and the creation of musical context,</a>\" <i>Musicae Scientiae 10</i>: 3-18.</li>\\n<li>Kali R. (2003) \"The city as a giant component: a random graph approach to Zipf\\'s law,\" <i>Applied Economics Letters 10</i>: 717-720(4)</li>\\n<li><cite class=\"citation journal\"><a href=\"/wiki/Xavier_Gabaix\" title=\"Xavier Gabaix\">Gabaix, Xavier</a> (August 1999). <a rel=\"nofollow\" class=\"external text\" href=\"http://pages.stern.nyu.edu/~xgabaix/papers/zipf.pdf\">\"Zipf\\'s Law for Cities: An Explanation\"</a> <span style=\"font-size:85%;\">(PDF)</span>. <i>Quarterly Journal of Economics</i> <b>114</b> (3): 739\\u201367. <a href=\"/wiki/Digital_object_identifier\" title=\"Digital object identifier\">doi</a>:<a rel=\"nofollow\" class=\"external text\" href=\"//dx.doi.org/10.1162%2F003355399556133\">10.1162/003355399556133</a>. <a href=\"/wiki/International_Standard_Serial_Number\" title=\"International Standard Serial Number\">ISSN</a>&#160;<a rel=\"nofollow\" class=\"external text\" href=\"//www.worldcat.org/issn/0033-5533\">0033-5533</a>.</cite><span title=\"ctx_ver=Z39.88-2004&amp;rfr_id=info%3Asid%2Fen.wikipedia.org%3AZipf%27s+law&amp;rft.atitle=Zipf%27s+Law+for+Cities%3A+An+Explanation&amp;rft.aufirst=Xavier&amp;rft.aulast=Gabaix&amp;rft.date=1999-08&amp;rft.genre=article&amp;rft_id=http%3A%2F%2Fpages.stern.nyu.edu%2F~xgabaix%2Fpapers%2Fzipf.pdf&amp;rft_id=info%3Adoi%2F10.1162%2F003355399556133&amp;rft.issn=0033-5533&amp;rft.issue=3&amp;rft.jtitle=Quarterly+Journal+of+Economics&amp;rft.pages=739-67&amp;rft_val_fmt=info%3Aofi%2Ffmt%3Akev%3Amtx%3Ajournal&amp;rft.volume=114\" class=\"Z3988\"><span style=\"display:none;\">&#160;</span></span></li>\\n<li>Axtell, Robert L; <a rel=\"nofollow\" class=\"external text\" href=\"http://www.sciencemag.org/content/293/5536/1818.short\">Zipf distribution of US firm sizes</a>, Science, 293, 5536, 1818, 2001, American Association for the Advancement of Science</li>\\n<li>Ramu Chenna, Toby Gibson; <a rel=\"nofollow\" class=\"external text\" href=\"http://www.worldcomp-proceedings.com/proc/p2011/BIC4329.pdf\">Evaluation of the Suitability of a Zipfian Gap Model for Pairwise Sequence Alignment</a>,</li>\\n</ul>\\n<p>International Conference on Bioinformatics Computational Biology: 2011.</p>\\n<h2><span class=\"mw-headline\" id=\"External_links\">External links</span><span class=\"mw-editsection\"><span class=\"mw-editsection-bracket\">[</span><a href=\"/w/index.php?title=Zipf%27s_law&amp;action=edit&amp;section=8\" title=\"Edit section: External links\">edit</a><span class=\"mw-editsection-bracket\">]</span></span></h2>\\n<table class=\"mbox-small plainlinks sistersitebox\" style=\"border:1px solid #aaa;background-color:#f9f9f9\">\\n<tr>\\n<td class=\"mbox-image\"><img alt=\"\" src=\"//upload.wikimedia.org/wikipedia/en/thumb/4/4a/Commons-logo.svg/30px-Commons-logo.svg.png\" width=\"30\" height=\"40\" srcset=\"//upload.wikimedia.org/wikipedia/en/thumb/4/4a/Commons-logo.svg/45px-Commons-logo.svg.png 1.5x, //upload.wikimedia.org/wikipedia/en/thumb/4/4a/Commons-logo.svg/59px-Commons-logo.svg.png 2x\" data-file-width=\"1024\" data-file-height=\"1376\" /></td>\\n<td class=\"mbox-text plainlist\">Wikimedia Commons has media related to <i><b><a href=\"//commons.wikimedia.org/wiki/Category:Zipf%27s_law\" class=\"extiw\" title=\"commons:Category:Zipf\\'s law\">Zipf\\'s law</a></b></i>.</td>\\n</tr>\\n</table>\\n<ul>\\n<li><cite class=\"citation news\"><a href=\"/wiki/Steven_Strogatz\" title=\"Steven Strogatz\">Strogatz, Steven</a> (2009-05-29). <a rel=\"nofollow\" class=\"external text\" href=\"http://judson.blogs.nytimes.com/2009/05/19/math-and-the-city/\">\"Guest Column: Math and the City\"</a>. <i>The New York Times</i><span class=\"reference-accessdate\">. Retrieved <span class=\"nowrap\">2009-05-29</span></span>.</cite><span title=\"ctx_ver=Z39.88-2004&amp;rfr_id=info%3Asid%2Fen.wikipedia.org%3AZipf%27s+law&amp;rft.atitle=Guest+Column%3A+Math+and+the+City&amp;rft.aufirst=Steven&amp;rft.aulast=Strogatz&amp;rft.date=2009-05-29&amp;rft.genre=article&amp;rft_id=http%3A%2F%2Fjudson.blogs.nytimes.com%2F2009%2F05%2F19%2Fmath-and-the-city%2F&amp;rft.jtitle=The+New+York+Times&amp;rft_val_fmt=info%3Aofi%2Ffmt%3Akev%3Amtx%3Ajournal\" class=\"Z3988\"><span style=\"display:none;\">&#160;</span></span>\\u2014An article on Zipf\\'s law applied to city populations</li>\\n<li><a rel=\"nofollow\" class=\"external text\" href=\"http://www.theatlantic.com/issues/2002/04/rauch.htm\">Seeing Around Corners (Artificial societies turn up Zipf\\'s law)</a></li>\\n<li><a rel=\"nofollow\" class=\"external text\" href=\"http://planetmath.org/encyclopedia/ZipfsLaw.html\">PlanetMath article on Zipf\\'s law</a></li>\\n<li><a rel=\"nofollow\" class=\"external text\" href=\"http://www.hubbertpeak.com/laherrere/fractal.htm\">Distributions de type \"fractal parabolique\" dans la Nature (French, with English summary)</a></li>\\n<li><a rel=\"nofollow\" class=\"external text\" href=\"http://www.newscientist.com/article.ns?id=mg18524904.300\">An analysis of income distribution</a></li>\\n<li><a rel=\"nofollow\" class=\"external text\" href=\"http://www.lexique.org/listes/liste_mots.txt\">Zipf List of French words</a></li>\\n<li><a rel=\"nofollow\" class=\"external text\" href=\"http://1.1o1.in/en/webtools/semantic-depth\">Zipf list for English, French, Spanish, Italian, Swedish, Icelandic, Latin, Portuguese and Finnish from Gutenberg Project and online calculator to rank words in texts</a></li>\\n<li><a rel=\"nofollow\" class=\"external text\" href=\"http://uk.arxiv.org/abs/physics/9901035\">Citations and the Zipf\\u2013Mandelbrot\\'s law</a></li>\\n<li><a rel=\"nofollow\" class=\"external text\" href=\"http://demonstrations.wolfram.com/ZipfsLawForUSCities/\">Zipf\\'s Law for U.S. Cities</a> by Fiona Maclachlan, <a href=\"/wiki/Wolfram_Demonstrations_Project\" title=\"Wolfram Demonstrations Project\">Wolfram Demonstrations Project</a>.</li>\\n<li><span class=\"citation mathworld\" id=\"Reference-Mathworld-Zipf.27s_Law\"><a href=\"/wiki/Eric_W._Weisstein\" title=\"Eric W. Weisstein\">Weisstein, Eric W.</a>, <a rel=\"nofollow\" class=\"external text\" href=\"http://mathworld.wolfram.com/ZipfsLaw.html\">\"Zipf\\'s Law\"</a>, <i><a href=\"/wiki/MathWorld\" title=\"MathWorld\">MathWorld</a></i>.</span></li>\\n<li><a rel=\"nofollow\" class=\"external text\" href=\"http://www.geoffkirby.co.uk/ZIPFSLAW.pdf\">Zipf\\'s Law examples and modelling (1985)</a></li>\\n<li><a rel=\"nofollow\" class=\"external text\" href=\"http://www.nature.com/nature/journal/v474/n7350/full/474164a.html\">Complex systems: Unzipping Zipf\\'s law (2011)</a></li>\\n<li><a rel=\"nofollow\" class=\"external text\" href=\"http://terrytao.wordpress.com/2009/07/03/benfords-law-zipfs-law-and-the-pareto-distribution/\">Benford\\u2019s law, Zipf\\u2019s law, and the Pareto distribution</a> by Terence Tao.</li>\\n</ul>\\n<table class=\"navbox\" style=\"border-spacing:0\">\\n<tr>\\n<td style=\"padding:2px\">\\n<table class=\"nowraplinks collapsible autocollapse navbox-inner\" style=\"border-spacing:0;background:transparent;color:inherit\">\\n<tr>\\n<th scope=\"col\" class=\"navbox-title\" colspan=\"2\">\\n<div class=\"plainlinks hlist navbar mini\">\\n<ul>\\n<li class=\"nv-view\"><a href=\"/wiki/Template:Probability_distributions\" title=\"Template:Probability distributions\"><abbr title=\"View this template\" style=\";;background:none transparent;border:none;\">v</abbr></a></li>\\n<li class=\"nv-talk\"><a href=\"/wiki/Template_talk:Probability_distributions\" title=\"Template talk:Probability distributions\"><abbr title=\"Discuss this template\" style=\";;background:none transparent;border:none;\">t</abbr></a></li>\\n<li class=\"nv-edit\"><a class=\"external text\" href=\"//en.wikipedia.org/w/index.php?title=Template:Probability_distributions&amp;action=edit\"><abbr title=\"Edit this template\" style=\";;background:none transparent;border:none;\">e</abbr></a></li>\\n</ul>\\n</div>\\n<div style=\"font-size:114%\"><a href=\"/wiki/Probability_distribution\" title=\"Probability distribution\">Probability distributions</a></div>\\n</th>\\n</tr>\\n<tr style=\"height:2px\">\\n<td colspan=\"2\"></td>\\n</tr>\\n<tr>\\n<td colspan=\"2\" class=\"navbox-list navbox-odd hlist\" style=\"width:100%;padding:0px\">\\n<div style=\"padding:0em 0.25em\"></div>\\n<table class=\"nowraplinks collapsible uncollapsed navbox-subgroup\" style=\"border-spacing:0\">\\n<tr>\\n<th scope=\"col\" class=\"navbox-title\" colspan=\"2\" style=\";\"><span style=\"float:left;width:6em\">&#160;</span>\\n<div style=\"font-size:114%\"><a href=\"/wiki/List_of_probability_distributions#With_finite_support\" title=\"List of probability distributions\">Discrete univariate with finite support</a></div>\\n</th>\\n</tr>\\n<tr style=\"height:2px\">\\n<td colspan=\"2\"></td>\\n</tr>\\n<tr>\\n<td colspan=\"2\" class=\"navbox-list navbox-odd\" style=\"width:100%;padding:0px\">\\n<div style=\"padding:0em 0.25em\">\\n<ul>\\n<li><a href=\"/wiki/Benford%27s_law\" title=\"Benford\\'s law\">Benford</a></li>\\n<li><a href=\"/wiki/Bernoulli_distribution\" title=\"Bernoulli distribution\">Bernoulli</a></li>\\n<li><a href=\"/wiki/Beta-binomial_distribution\" title=\"Beta-binomial distribution\">Beta-binomial</a></li>\\n<li><a href=\"/wiki/Binomial_distribution\" title=\"Binomial distribution\">binomial</a></li>\\n<li><a href=\"/wiki/Categorical_distribution\" title=\"Categorical distribution\">categorical</a></li>\\n<li><a href=\"/wiki/Hypergeometric_distribution\" title=\"Hypergeometric distribution\">hypergeometric</a></li>\\n<li><a href=\"/wiki/Poisson_binomial_distribution\" title=\"Poisson binomial distribution\">Poisson binomial</a></li>\\n<li><a href=\"/wiki/Rademacher_distribution\" title=\"Rademacher distribution\">Rademacher</a></li>\\n<li><a href=\"/wiki/Uniform_distribution_(discrete)\" title=\"Uniform distribution (discrete)\">discrete uniform</a></li>\\n<li><strong class=\"selflink\">Zipf</strong></li>\\n<li><a href=\"/wiki/Zipf%E2%80%93Mandelbrot_law\" title=\"Zipf\\u2013Mandelbrot law\">Zipf\\u2013Mandelbrot</a></li>\\n</ul>\\n</div>\\n</td>\\n</tr>\\n</table>\\n</td>\\n</tr>\\n<tr style=\"height:2px\">\\n<td colspan=\"2\"></td>\\n</tr>\\n<tr>\\n<td colspan=\"2\" class=\"navbox-list navbox-even hlist\" style=\"width:100%;padding:0px\">\\n<div style=\"padding:0em 0.25em\"></div>\\n<table class=\"nowraplinks collapsible collapsed navbox-subgroup\" style=\"border-spacing:0\">\\n<tr>\\n<th scope=\"col\" class=\"navbox-title\" colspan=\"2\" style=\";\"><span style=\"float:left;width:6em\">&#160;</span>\\n<div style=\"font-size:114%\"><a href=\"/wiki/List_of_probability_distributions#With_infinite_support\" title=\"List of probability distributions\">Discrete univariate with infinite support</a></div>\\n</th>\\n</tr>\\n<tr style=\"height:2px\">\\n<td colspan=\"2\"></td>\\n</tr>\\n<tr>\\n<td colspan=\"2\" class=\"navbox-list navbox-odd\" style=\"width:100%;padding:0px\">\\n<div style=\"padding:0em 0.25em\">\\n<ul>\\n<li><a href=\"/wiki/Beta_negative_binomial_distribution\" title=\"Beta negative binomial distribution\">beta negative binomial</a></li>\\n<li><a href=\"/wiki/Borel_distribution\" title=\"Borel distribution\">Borel</a></li>\\n<li><a href=\"/wiki/Conway%E2%80%93Maxwell%E2%80%93Poisson_distribution\" title=\"Conway\\u2013Maxwell\\u2013Poisson distribution\">Conway\\u2013Maxwell\\u2013Poisson</a></li>\\n<li><a href=\"/wiki/Discrete_phase-type_distribution\" title=\"Discrete phase-type distribution\">discrete phase-type</a></li>\\n<li><a href=\"/wiki/Delaporte_distribution\" title=\"Delaporte distribution\">Delaporte</a></li>\\n<li><a href=\"/wiki/Extended_negative_binomial_distribution\" title=\"Extended negative binomial distribution\">extended negative binomial</a></li>\\n<li><a href=\"/wiki/Gauss%E2%80%93Kuzmin_distribution\" title=\"Gauss\\u2013Kuzmin distribution\">Gauss\\u2013Kuzmin</a></li>\\n<li><a href=\"/wiki/Geometric_distribution\" title=\"Geometric distribution\">geometric</a></li>\\n<li><a href=\"/wiki/Logarithmic_distribution\" title=\"Logarithmic distribution\">logarithmic</a></li>\\n<li><a href=\"/wiki/Negative_binomial_distribution\" title=\"Negative binomial distribution\">negative binomial</a></li>\\n<li><a href=\"/wiki/Parabolic_fractal_distribution\" title=\"Parabolic fractal distribution\">parabolic fractal</a></li>\\n<li><a href=\"/wiki/Poisson_distribution\" title=\"Poisson distribution\">Poisson</a></li>\\n<li><a href=\"/wiki/Skellam_distribution\" title=\"Skellam distribution\">Skellam</a></li>\\n<li><a href=\"/wiki/Yule%E2%80%93Simon_distribution\" title=\"Yule\\u2013Simon distribution\">Yule\\u2013Simon</a></li>\\n<li><a href=\"/wiki/Zeta_distribution\" title=\"Zeta distribution\">zeta</a></li>\\n</ul>\\n</div>\\n</td>\\n</tr>\\n</table>\\n</td>\\n</tr>\\n<tr style=\"height:2px\">\\n<td colspan=\"2\"></td>\\n</tr>\\n<tr>\\n<td colspan=\"2\" class=\"navbox-list navbox-odd hlist\" style=\"width:100%;padding:0px\">\\n<div style=\"padding:0em 0.25em\"></div>\\n<table class=\"nowraplinks collapsible collapsed navbox-subgroup\" style=\"border-spacing:0\">\\n<tr>\\n<th scope=\"col\" class=\"navbox-title\" colspan=\"2\" style=\";\"><span style=\"float:left;width:6em\">&#160;</span>\\n<div style=\"font-size:114%\"><a href=\"/wiki/List_of_probability_distributions#Supported_on_a_bounded_interval\" title=\"List of probability distributions\">Continuous univariate supported on a bounded interval, e.g. [0,1]</a></div>\\n</th>\\n</tr>\\n<tr style=\"height:2px\">\\n<td colspan=\"2\"></td>\\n</tr>\\n<tr>\\n<td colspan=\"2\" class=\"navbox-list navbox-odd\" style=\"width:100%;padding:0px\">\\n<div style=\"padding:0em 0.25em\">\\n<ul>\\n<li><a href=\"/wiki/Arcsine_distribution\" title=\"Arcsine distribution\">Arcsine</a></li>\\n<li><a href=\"/wiki/ARGUS_distribution\" title=\"ARGUS distribution\">ARGUS</a></li>\\n<li><a href=\"/wiki/Balding%E2%80%93Nichols_model\" title=\"Balding\\u2013Nichols model\">Balding\\u2013Nichols</a></li>\\n<li><a href=\"/wiki/Bates_distribution\" title=\"Bates distribution\">Bates</a></li>\\n<li><a href=\"/wiki/Beta_distribution\" title=\"Beta distribution\">Beta</a></li>\\n<li><a href=\"/wiki/Beta_rectangular_distribution\" title=\"Beta rectangular distribution\">Beta rectangular</a></li>\\n<li><a href=\"/wiki/Irwin%E2%80%93Hall_distribution\" title=\"Irwin\\u2013Hall distribution\">Irwin\\u2013Hall</a></li>\\n<li><a href=\"/wiki/Kumaraswamy_distribution\" title=\"Kumaraswamy distribution\">Kumaraswamy</a></li>\\n<li><a href=\"/wiki/Logit-normal_distribution\" title=\"Logit-normal distribution\">logit-normal</a></li>\\n<li><a href=\"/wiki/Noncentral_beta_distribution\" title=\"Noncentral beta distribution\">Noncentral beta</a></li>\\n<li><a href=\"/wiki/Raised_cosine_distribution\" title=\"Raised cosine distribution\">raised cosine</a></li>\\n<li><a href=\"/wiki/Reciprocal_distribution\" title=\"Reciprocal distribution\">Reciprocal</a></li>\\n<li><a href=\"/wiki/Triangular_distribution\" title=\"Triangular distribution\">Triangular</a></li>\\n<li><a href=\"/wiki/U-quadratic_distribution\" title=\"U-quadratic distribution\">U-quadratic</a></li>\\n<li><a href=\"/wiki/Uniform_distribution_(continuous)\" title=\"Uniform distribution (continuous)\">uniform</a></li>\\n<li><a href=\"/wiki/Wigner_semicircle_distribution\" title=\"Wigner semicircle distribution\">Wigner semicircle</a></li>\\n</ul>\\n</div>\\n</td>\\n</tr>\\n</table>\\n</td>\\n</tr>\\n<tr style=\"height:2px\">\\n<td colspan=\"2\"></td>\\n</tr>\\n<tr>\\n<td colspan=\"2\" class=\"navbox-list navbox-even hlist\" style=\"width:100%;padding:0px\">\\n<div style=\"padding:0em 0.25em\"></div>\\n<table class=\"nowraplinks collapsible collapsed navbox-subgroup\" style=\"border-spacing:0\">\\n<tr>\\n<th scope=\"col\" class=\"navbox-title\" colspan=\"2\" style=\";\"><span style=\"float:left;width:6em\">&#160;</span>\\n<div style=\"font-size:114%\"><a href=\"/wiki/List_of_probability_distributions#Supported_on_semi-infinite_intervals.2C_usually_.5B0.2C.E2.88.9E.29\" title=\"List of probability distributions\">Continuous univariate supported on a semi-infinite interval, usually [0,\\u221e)</a></div>\\n</th>\\n</tr>\\n<tr style=\"height:2px\">\\n<td colspan=\"2\"></td>\\n</tr>\\n<tr>\\n<td colspan=\"2\" class=\"navbox-list navbox-odd\" style=\"width:100%;padding:0px\">\\n<div style=\"padding:0em 0.25em\">\\n<ul>\\n<li><a href=\"/wiki/Benini_distribution\" title=\"Benini distribution\">Benini</a></li>\\n<li><a href=\"/wiki/Benktander_type_I_distribution\" title=\"Benktander type I distribution\">Benktander 1st kind</a></li>\\n<li><a href=\"/wiki/Benktander_type_II_distribution\" title=\"Benktander type II distribution\">Benktander 2nd kind</a></li>\\n<li><a href=\"/wiki/Beta_prime_distribution\" title=\"Beta prime distribution\">Beta prime</a></li>\\n<li><a href=\"/wiki/Burr_distribution\" title=\"Burr distribution\">Burr</a></li>\\n<li><a href=\"/wiki/Chi-squared_distribution\" title=\"Chi-squared distribution\">chi-squared</a></li>\\n<li><a href=\"/wiki/Chi_distribution\" title=\"Chi distribution\">chi</a></li>\\n<li><a href=\"/wiki/Phase-type_distribution#Coxian_distribution\" title=\"Phase-type distribution\">Coxian</a></li>\\n<li><a href=\"/wiki/Dagum_distribution\" title=\"Dagum distribution\">Dagum</a></li>\\n<li><a href=\"/wiki/Davis_distribution\" title=\"Davis distribution\">Davis</a></li>\\n<li><a href=\"/wiki/Exponential-Logarithmic_distribution\" title=\"Exponential-Logarithmic distribution\" class=\"mw-redirect\">EL</a></li>\\n<li><a href=\"/wiki/Erlang_distribution\" title=\"Erlang distribution\">Erlang</a></li>\\n<li><a href=\"/wiki/Exponential_distribution\" title=\"Exponential distribution\">exponential</a></li>\\n<li><a href=\"/wiki/F-distribution\" title=\"F-distribution\"><i>F</i></a></li>\\n<li><a href=\"/wiki/Folded_normal_distribution\" title=\"Folded normal distribution\">folded normal</a></li>\\n<li><a href=\"/wiki/Flory%E2%80%93Schulz_distribution\" title=\"Flory\\u2013Schulz distribution\">Flory-Schulz</a></li>\\n<li><a href=\"/wiki/Fr%C3%A9chet_distribution\" title=\"Fr\\xe9chet distribution\">Fr\\xe9chet</a></li>\\n<li><a href=\"/wiki/Gamma_distribution\" title=\"Gamma distribution\">Gamma</a></li>\\n<li><a href=\"/wiki/Gamma/Gompertz_distribution\" title=\"Gamma/Gompertz distribution\">Gamma/Gompertz</a></li>\\n<li><a href=\"/wiki/Generalized_inverse_Gaussian_distribution\" title=\"Generalized inverse Gaussian distribution\">generalized inverse Gaussian</a></li>\\n<li><a href=\"/wiki/Gompertz_distribution\" title=\"Gompertz distribution\">Gompertz</a></li>\\n<li><a href=\"/wiki/Half-logistic_distribution\" title=\"Half-logistic distribution\">half-logistic</a></li>\\n<li><a href=\"/wiki/Half-normal_distribution\" title=\"Half-normal distribution\">half-normal</a></li>\\n<li><a href=\"/wiki/Hotelling%27s_T-squared_distribution\" title=\"Hotelling\\'s T-squared distribution\">Hotelling\\'s T-squared</a></li>\\n<li><a href=\"/wiki/Hyper-Erlang_distribution\" title=\"Hyper-Erlang distribution\">hyper-Erlang</a></li>\\n<li><a href=\"/wiki/Hyperexponential_distribution\" title=\"Hyperexponential distribution\">hyperexponential</a></li>\\n<li><a href=\"/wiki/Hypoexponential_distribution\" title=\"Hypoexponential distribution\">hypoexponential</a></li>\\n<li><a href=\"/wiki/Inverse-chi-squared_distribution\" title=\"Inverse-chi-squared distribution\">inverse chi-squared</a> (<a href=\"/wiki/Scaled_inverse_chi-squared_distribution\" title=\"Scaled inverse chi-squared distribution\">scaled inverse chi-squared</a>)</li>\\n<li><a href=\"/wiki/Inverse_Gaussian_distribution\" title=\"Inverse Gaussian distribution\">inverse Gaussian</a></li>\\n<li><a href=\"/wiki/Inverse-gamma_distribution\" title=\"Inverse-gamma distribution\">inverse gamma</a></li>\\n<li><a href=\"/wiki/Kolmogorov_distribution\" title=\"Kolmogorov distribution\" class=\"mw-redirect\">Kolmogorov</a></li>\\n<li><a href=\"/wiki/L%C3%A9vy_distribution\" title=\"L\\xe9vy distribution\">L\\xe9vy</a></li>\\n<li><a href=\"/wiki/Log-Cauchy_distribution\" title=\"Log-Cauchy distribution\">log-Cauchy</a></li>\\n<li><a href=\"/wiki/Log-Laplace_distribution\" title=\"Log-Laplace distribution\">log-Laplace</a></li>\\n<li><a href=\"/wiki/Log-logistic_distribution\" title=\"Log-logistic distribution\">log-logistic</a></li>\\n<li><a href=\"/wiki/Log-normal_distribution\" title=\"Log-normal distribution\">log-normal</a></li>\\n<li><a href=\"/wiki/Matrix-exponential_distribution\" title=\"Matrix-exponential distribution\">matrix-exponential</a></li>\\n<li><a href=\"/wiki/Maxwell%E2%80%93Boltzmann_distribution\" title=\"Maxwell\\u2013Boltzmann distribution\">Maxwell\\u2013Boltzmann</a></li>\\n<li><a href=\"/wiki/Maxwell%E2%80%93J%C3%BCttner_distribution\" title=\"Maxwell\\u2013J\\xfcttner distribution\">Maxwell\\u2013J\\xfcttner</a></li>\\n<li><a href=\"/wiki/Mittag%E2%80%93Leffler_distribution\" title=\"Mittag\\u2013Leffler distribution\" class=\"mw-redirect\">Mittag\\u2013Leffler</a></li>\\n<li><a href=\"/wiki/Nakagami_distribution\" title=\"Nakagami distribution\">Nakagami</a></li>\\n<li><a href=\"/wiki/Noncentral_chi-squared_distribution\" title=\"Noncentral chi-squared distribution\">noncentral chi-squared</a></li>\\n<li><a href=\"/wiki/Pareto_distribution\" title=\"Pareto distribution\">Pareto</a></li>\\n<li><a href=\"/wiki/Phase-type_distribution\" title=\"Phase-type distribution\">phase-type</a></li>\\n<li><a href=\"/wiki/Poly-Weibull_distribution\" title=\"Poly-Weibull distribution\">Poly-Weibull</a></li>\\n<li><a href=\"/wiki/Rayleigh_distribution\" title=\"Rayleigh distribution\">Rayleigh</a></li>\\n<li><a href=\"/wiki/Relativistic_Breit%E2%80%93Wigner_distribution\" title=\"Relativistic Breit\\u2013Wigner distribution\">relativistic Breit\\u2013Wigner</a></li>\\n<li><a href=\"/wiki/Rice_distribution\" title=\"Rice distribution\">Rice</a></li>\\n<li><a href=\"/wiki/Rosin%E2%80%93Rammler_distribution\" title=\"Rosin\\u2013Rammler distribution\" class=\"mw-redirect\">Rosin\\u2013Rammler</a></li>\\n<li><a href=\"/wiki/Shifted_Gompertz_distribution\" title=\"Shifted Gompertz distribution\">shifted Gompertz</a></li>\\n<li><a href=\"/wiki/Truncated_normal_distribution\" title=\"Truncated normal distribution\">truncated normal</a></li>\\n<li><a href=\"/wiki/Type-2_Gumbel_distribution\" title=\"Type-2 Gumbel distribution\">type-2 Gumbel</a></li>\\n<li><a href=\"/wiki/Weibull_distribution\" title=\"Weibull distribution\">Weibull</a></li>\\n<li><a href=\"/wiki/Wilks%27_lambda_distribution\" title=\"Wilks\\' lambda distribution\" class=\"mw-redirect\">Wilks\\' lambda</a></li>\\n</ul>\\n</div>\\n</td>\\n</tr>\\n</table>\\n</td>\\n</tr>\\n<tr style=\"height:2px\">\\n<td colspan=\"2\"></td>\\n</tr>\\n<tr>\\n<td colspan=\"2\" class=\"navbox-list navbox-odd hlist\" style=\"width:100%;padding:0px\">\\n<div style=\"padding:0em 0.25em\"></div>\\n<table class=\"nowraplinks collapsible collapsed navbox-subgroup\" style=\"border-spacing:0\">\\n<tr>\\n<th scope=\"col\" class=\"navbox-title\" colspan=\"2\" style=\";\"><span style=\"float:left;width:6em\">&#160;</span>\\n<div style=\"font-size:114%\"><a href=\"/wiki/List_of_probability_distributions#Supported_on_the_whole_real_line\" title=\"List of probability distributions\">Continuous univariate supported on the whole real line (\\u2212\\u221e, \\u221e)</a></div>\\n</th>\\n</tr>\\n<tr style=\"height:2px\">\\n<td colspan=\"2\"></td>\\n</tr>\\n<tr>\\n<td colspan=\"2\" class=\"navbox-list navbox-odd\" style=\"width:100%;padding:0px\">\\n<div style=\"padding:0em 0.25em\">\\n<ul>\\n<li><a href=\"/wiki/Cauchy_distribution\" title=\"Cauchy distribution\">Cauchy</a></li>\\n<li><a href=\"/wiki/Generalized_normal_distribution#Version_1\" title=\"Generalized normal distribution\">exponential power</a></li>\\n<li><a href=\"/wiki/Fisher%27s_z-distribution\" title=\"Fisher\\'s z-distribution\">Fisher\\'s z</a></li>\\n<li><a href=\"/wiki/Generalized_normal_distribution\" title=\"Generalized normal distribution\">generalized normal</a></li>\\n<li><a href=\"/wiki/Generalised_hyperbolic_distribution\" title=\"Generalised hyperbolic distribution\">generalized hyperbolic</a></li>\\n<li><a href=\"/wiki/Geometric_stable_distribution\" title=\"Geometric stable distribution\">geometric stable</a></li>\\n<li><a href=\"/wiki/Gumbel_distribution\" title=\"Gumbel distribution\">Gumbel</a></li>\\n<li><a href=\"/wiki/Holtsmark_distribution\" title=\"Holtsmark distribution\">Holtsmark</a></li>\\n<li><a href=\"/wiki/Hyperbolic_secant_distribution\" title=\"Hyperbolic secant distribution\">hyperbolic secant</a></li>\\n<li><a href=\"/wiki/Johnson_SU_distribution\" title=\"Johnson SU distribution\">Johnson <i>S<sub>U</sub></i></a></li>\\n<li><a href=\"/wiki/Landau_distribution\" title=\"Landau distribution\">Landau</a></li>\\n<li><a href=\"/wiki/Laplace_distribution\" title=\"Laplace distribution\">Laplace</a></li>\\n<li><a href=\"/wiki/Asymmetric_Laplace_distribution\" title=\"Asymmetric Laplace distribution\">Asymmetric Laplace</a></li>\\n<li><a href=\"/wiki/Linnik_distribution\" title=\"Linnik distribution\" class=\"mw-redirect\">Linnik</a></li>\\n<li><a href=\"/wiki/Logistic_distribution\" title=\"Logistic distribution\">logistic</a></li>\\n<li><a href=\"/wiki/Noncentral_t-distribution\" title=\"Noncentral t-distribution\">noncentral t</a></li>\\n<li><a href=\"/wiki/Normal_distribution\" title=\"Normal distribution\">normal (Gaussian)</a></li>\\n<li><a href=\"/wiki/Normal-inverse_Gaussian_distribution\" title=\"Normal-inverse Gaussian distribution\">normal-inverse Gaussian</a></li>\\n<li><a href=\"/wiki/Skew_normal_distribution\" title=\"Skew normal distribution\">skew normal</a></li>\\n<li><a href=\"/wiki/Slash_distribution\" title=\"Slash distribution\">slash</a></li>\\n<li><a href=\"/wiki/Stable_distribution\" title=\"Stable distribution\">stable</a></li>\\n<li><a href=\"/wiki/Student%27s_t-distribution\" title=\"Student\\'s t-distribution\">Student\\'s <i>t</i></a></li>\\n<li><a href=\"/wiki/Type-1_Gumbel_distribution\" title=\"Type-1 Gumbel distribution\">type-1 Gumbel</a></li>\\n<li><a href=\"/wiki/Tracy%E2%80%93Widom_distribution\" title=\"Tracy\\u2013Widom distribution\">Tracy\\u2013Widom</a></li>\\n<li><a href=\"/wiki/Variance-gamma_distribution\" title=\"Variance-gamma distribution\">variance-gamma</a></li>\\n<li><a href=\"/wiki/Voigt_profile\" title=\"Voigt profile\">Voigt</a></li>\\n</ul>\\n</div>\\n</td>\\n</tr>\\n</table>\\n</td>\\n</tr>\\n<tr style=\"height:2px\">\\n<td colspan=\"2\"></td>\\n</tr>\\n<tr>\\n<td colspan=\"2\" class=\"navbox-list navbox-even hlist\" style=\"width:100%;padding:0px\">\\n<div style=\"padding:0em 0.25em\"></div>\\n<table class=\"nowraplinks collapsible collapsed navbox-subgroup\" style=\"border-spacing:0\">\\n<tr>\\n<th scope=\"col\" class=\"navbox-title\" colspan=\"2\" style=\";\"><span style=\"float:left;width:6em\">&#160;</span>\\n<div style=\"font-size:114%\"><a href=\"/wiki/List_of_probability_distributions#With_variable_support\" title=\"List of probability distributions\">Continuous univariate with support whose type varies</a></div>\\n</th>\\n</tr>\\n<tr style=\"height:2px\">\\n<td colspan=\"2\"></td>\\n</tr>\\n<tr>\\n<td colspan=\"2\" class=\"navbox-list navbox-odd\" style=\"width:100%;padding:0px\">\\n<div style=\"padding:0em 0.25em\">\\n<ul>\\n<li><a href=\"/wiki/Generalized_extreme_value_distribution\" title=\"Generalized extreme value distribution\">generalized extreme value</a></li>\\n<li><a href=\"/wiki/Generalized_Pareto_distribution\" title=\"Generalized Pareto distribution\">generalized Pareto</a></li>\\n<li><a href=\"/wiki/Tukey_lambda_distribution\" title=\"Tukey lambda distribution\">Tukey lambda</a></li>\\n<li><a href=\"/wiki/Q-Gaussian_distribution\" title=\"Q-Gaussian distribution\">q-Gaussian</a></li>\\n<li><a href=\"/wiki/Q-exponential_distribution\" title=\"Q-exponential distribution\">q-exponential</a></li>\\n<li><a href=\"/wiki/Q-Weibull_distribution\" title=\"Q-Weibull distribution\">q-Weibull</a></li>\\n<li><a href=\"/wiki/Shifted_log-logistic_distribution\" title=\"Shifted log-logistic distribution\">shifted log-logistic</a></li>\\n</ul>\\n</div>\\n</td>\\n</tr>\\n</table>\\n</td>\\n</tr>\\n<tr style=\"height:2px\">\\n<td colspan=\"2\"></td>\\n</tr>\\n<tr>\\n<td colspan=\"2\" class=\"navbox-list navbox-odd hlist\" style=\"width:100%;padding:0px\">\\n<div style=\"padding:0em 0.25em\"></div>\\n<table class=\"nowraplinks collapsible collapsed navbox-subgroup\" style=\"border-spacing:0\">\\n<tr>\\n<th scope=\"col\" class=\"navbox-title\" colspan=\"2\" style=\";\"><span style=\"float:left;width:6em\">&#160;</span>\\n<div style=\"font-size:114%\">Mixed continuous-discrete univariate distributions</div>\\n</th>\\n</tr>\\n<tr style=\"height:2px\">\\n<td colspan=\"2\"></td>\\n</tr>\\n<tr>\\n<td colspan=\"2\" class=\"navbox-list navbox-odd\" style=\"width:100%;padding:0px\">\\n<div style=\"padding:0em 0.25em\">\\n<ul>\\n<li><a href=\"/wiki/Rectified_Gaussian_distribution\" title=\"Rectified Gaussian distribution\">rectified Gaussian</a></li>\\n</ul>\\n</div>\\n</td>\\n</tr>\\n</table>\\n</td>\\n</tr>\\n<tr style=\"height:2px\">\\n<td colspan=\"2\"></td>\\n</tr>\\n<tr>\\n<td colspan=\"2\" class=\"navbox-list navbox-even hlist\" style=\"width:100%;padding:0px\">\\n<div style=\"padding:0em 0.25em\"></div>\\n<table class=\"nowraplinks collapsible collapsed navbox-subgroup\" style=\"border-spacing:0\">\\n<tr>\\n<th scope=\"col\" class=\"navbox-title\" colspan=\"2\" style=\";\"><span style=\"float:left;width:6em\">&#160;</span>\\n<div style=\"font-size:114%\"><a href=\"/wiki/Joint_probability_distribution\" title=\"Joint probability distribution\">Multivariate (joint)</a></div>\\n</th>\\n</tr>\\n<tr style=\"height:2px\">\\n<td colspan=\"2\"></td>\\n</tr>\\n<tr>\\n<td colspan=\"2\" class=\"navbox-list navbox-odd\" style=\"width:100%;padding:0px\">\\n<div style=\"padding:0em 0.25em\">\\n<dl>\\n<dt><span style=\"font-weight:normal;\"><i>Discrete</i></span></dt>\\n<dd><a href=\"/wiki/Ewens%27s_sampling_formula\" title=\"Ewens\\'s sampling formula\">Ewens</a></dd>\\n<dd><a href=\"/wiki/Multinomial_distribution\" title=\"Multinomial distribution\">multinomial</a></dd>\\n<dd><a href=\"/wiki/Dirichlet-multinomial_distribution\" title=\"Dirichlet-multinomial distribution\">Dirichlet-multinomial</a></dd>\\n<dd><a href=\"/wiki/Negative_multinomial_distribution\" title=\"Negative multinomial distribution\">negative multinomial</a></dd>\\n</dl>\\n<dl>\\n<dt><span style=\"font-weight:normal;\"><i>Continuous</i></span></dt>\\n<dd><a href=\"/wiki/Dirichlet_distribution\" title=\"Dirichlet distribution\">Dirichlet</a></dd>\\n<dd><a href=\"/wiki/Generalized_Dirichlet_distribution\" title=\"Generalized Dirichlet distribution\">Generalized Dirichlet</a></dd>\\n<dd><a href=\"/wiki/Multivariate_normal_distribution\" title=\"Multivariate normal distribution\">multivariate normal</a></dd>\\n<dd><a href=\"/wiki/Multivariate_stable_distribution\" title=\"Multivariate stable distribution\">Multivariate stable</a></dd>\\n<dd><a href=\"/wiki/Multivariate_Student_distribution\" title=\"Multivariate Student distribution\" class=\"mw-redirect\">multivariate Student</a></dd>\\n<dd><a href=\"/wiki/Normal-scaled_inverse_gamma_distribution\" title=\"Normal-scaled inverse gamma distribution\" class=\"mw-redirect\">normal-scaled inverse gamma</a></dd>\\n<dd><a href=\"/wiki/Normal-gamma_distribution\" title=\"Normal-gamma distribution\">normal-gamma</a></dd>\\n</dl>\\n<dl>\\n<dt><span style=\"font-weight:normal;\"><i><a href=\"/wiki/Random_matrix\" title=\"Random matrix\">Matrix-valued</a></i></span></dt>\\n<dd><a href=\"/wiki/Inverse_matrix_gamma_distribution\" title=\"Inverse matrix gamma distribution\">inverse matrix gamma</a></dd>\\n<dd><a href=\"/wiki/Inverse-Wishart_distribution\" title=\"Inverse-Wishart distribution\">inverse-Wishart</a></dd>\\n<dd><a href=\"/wiki/Matrix_normal_distribution\" title=\"Matrix normal distribution\">matrix normal</a></dd>\\n<dd><a href=\"/wiki/Matrix_t-distribution\" title=\"Matrix t-distribution\">matrix t</a></dd>\\n<dd><a href=\"/wiki/Matrix_gamma_distribution\" title=\"Matrix gamma distribution\">matrix gamma</a></dd>\\n<dd><a href=\"/wiki/Normal-inverse-Wishart_distribution\" title=\"Normal-inverse-Wishart distribution\">normal-inverse-Wishart</a></dd>\\n<dd><a href=\"/wiki/Normal-Wishart_distribution\" title=\"Normal-Wishart distribution\">normal-Wishart</a></dd>\\n<dd><a href=\"/wiki/Wishart_distribution\" title=\"Wishart distribution\">Wishart</a></dd>\\n</dl>\\n</div>\\n</td>\\n</tr>\\n</table>\\n</td>\\n</tr>\\n<tr style=\"height:2px\">\\n<td colspan=\"2\"></td>\\n</tr>\\n<tr>\\n<td colspan=\"2\" class=\"navbox-list navbox-odd hlist\" style=\"width:100%;padding:0px\">\\n<div style=\"padding:0em 0.25em\"></div>\\n<table class=\"nowraplinks collapsible collapsed navbox-subgroup\" style=\"border-spacing:0\">\\n<tr>\\n<th scope=\"col\" class=\"navbox-title\" colspan=\"2\" style=\";\"><span style=\"float:left;width:6em\">&#160;</span>\\n<div style=\"font-size:114%\"><a href=\"/wiki/Directional_statistics\" title=\"Directional statistics\">Directional</a></div>\\n</th>\\n</tr>\\n<tr style=\"height:2px\">\\n<td colspan=\"2\"></td>\\n</tr>\\n<tr>\\n<td colspan=\"2\" class=\"navbox-list navbox-odd\" style=\"width:100%;padding:0px\">\\n<div style=\"padding:0em 0.25em\">\\n<dl>\\n<dt><span style=\"font-weight:normal;\"><i>Univariate (circular) <a href=\"/wiki/Directional_statistics\" title=\"Directional statistics\">directional</a></i></span></dt>\\n<dd><a href=\"/wiki/Circular_uniform_distribution\" title=\"Circular uniform distribution\">Circular uniform</a></dd>\\n<dd><a href=\"/wiki/Von_Mises_distribution\" title=\"Von Mises distribution\">univariate von Mises</a></dd>\\n<dd><a href=\"/wiki/Wrapped_normal_distribution\" title=\"Wrapped normal distribution\">wrapped normal</a></dd>\\n<dd><a href=\"/wiki/Wrapped_Cauchy_distribution\" title=\"Wrapped Cauchy distribution\">wrapped Cauchy</a></dd>\\n<dd><a href=\"/wiki/Wrapped_exponential_distribution\" title=\"Wrapped exponential distribution\">wrapped exponential</a></dd>\\n<dd><a href=\"/wiki/Wrapped_asymmetric_Laplace_distribution\" title=\"Wrapped asymmetric Laplace distribution\">wrapped asymmetric Laplace</a></dd>\\n<dd><a href=\"/wiki/Wrapped_L%C3%A9vy_distribution\" title=\"Wrapped L\\xe9vy distribution\">wrapped L\\xe9vy</a></dd>\\n</dl>\\n<dl>\\n<dt><span style=\"font-weight:normal;\"><i>Bivariate (spherical)</i></span></dt>\\n<dd><a href=\"/wiki/Kent_distribution\" title=\"Kent distribution\">Kent</a></dd>\\n<dt><span style=\"font-weight:normal;\"><i>Bivariate (toroidal)</i></span></dt>\\n<dd><a href=\"/wiki/Bivariate_von_Mises_distribution\" title=\"Bivariate von Mises distribution\">bivariate von Mises</a></dd>\\n</dl>\\n<dl>\\n<dt><span style=\"font-weight:normal;\"><i>Multivariate</i></span></dt>\\n<dd><a href=\"/wiki/Von_Mises%E2%80%93Fisher_distribution\" title=\"Von Mises\\u2013Fisher distribution\">von Mises\\u2013Fisher</a></dd>\\n<dd><a href=\"/wiki/Bingham_distribution\" title=\"Bingham distribution\">Bingham</a></dd>\\n</dl>\\n</div>\\n</td>\\n</tr>\\n</table>\\n</td>\\n</tr>\\n<tr style=\"height:2px\">\\n<td colspan=\"2\"></td>\\n</tr>\\n<tr>\\n<td colspan=\"2\" class=\"navbox-list navbox-even hlist\" style=\"width:100%;padding:0px\">\\n<div style=\"padding:0em 0.25em\"></div>\\n<table class=\"nowraplinks collapsible collapsed navbox-subgroup\" style=\"border-spacing:0\">\\n<tr>\\n<th scope=\"col\" class=\"navbox-title\" colspan=\"2\" style=\";\"><span style=\"float:left;width:6em\">&#160;</span>\\n<div style=\"font-size:114%\"><a href=\"/wiki/Degenerate_distribution\" title=\"Degenerate distribution\">Degenerate</a> and <a href=\"/wiki/Singular_distribution\" title=\"Singular distribution\">singular</a></div>\\n</th>\\n</tr>\\n<tr style=\"height:2px\">\\n<td colspan=\"2\"></td>\\n</tr>\\n<tr>\\n<td colspan=\"2\" class=\"navbox-list navbox-odd\" style=\"width:100%;padding:0px\">\\n<div style=\"padding:0em 0.25em\">\\n<dl>\\n<dt><span style=\"font-weight:normal;\"><i><a href=\"/wiki/Degenerate_distribution\" title=\"Degenerate distribution\">Degenerate</a></i></span></dt>\\n<dd><a href=\"/wiki/Degenerate_distribution\" title=\"Degenerate distribution\">discrete degenerate</a></dd>\\n<dd><a href=\"/wiki/Dirac_delta_function\" title=\"Dirac delta function\">Dirac delta function</a></dd>\\n</dl>\\n<dl>\\n<dt><span style=\"font-weight:normal;\"><i><a href=\"/wiki/Singular_distribution\" title=\"Singular distribution\">Singular</a></i></span></dt>\\n<dd><a href=\"/wiki/Cantor_distribution\" title=\"Cantor distribution\">Cantor</a></dd>\\n</dl>\\n</div>\\n</td>\\n</tr>\\n</table>\\n</td>\\n</tr>\\n<tr style=\"height:2px\">\\n<td colspan=\"2\"></td>\\n</tr>\\n<tr>\\n<td colspan=\"2\" class=\"navbox-list navbox-odd hlist\" style=\"width:100%;padding:0px\">\\n<div style=\"padding:0em 0.25em\"></div>\\n<table class=\"nowraplinks collapsible collapsed navbox-subgroup\" style=\"border-spacing:0\">\\n<tr>\\n<th scope=\"col\" class=\"navbox-title\" colspan=\"2\" style=\";\"><span style=\"float:left;width:6em\">&#160;</span>\\n<div style=\"font-size:114%\">Families</div>\\n</th>\\n</tr>\\n<tr style=\"height:2px\">\\n<td colspan=\"2\"></td>\\n</tr>\\n<tr>\\n<td colspan=\"2\" class=\"navbox-list navbox-odd\" style=\"width:100%;padding:0px\">\\n<div style=\"padding:0em 0.25em\">\\n<ul>\\n<li><a href=\"/wiki/Circular_distribution\" title=\"Circular distribution\">Circular</a></li>\\n<li><a href=\"/wiki/Compound_Poisson_distribution\" title=\"Compound Poisson distribution\">compound Poisson</a></li>\\n<li><a href=\"/wiki/Elliptical_distribution\" title=\"Elliptical distribution\">elliptical</a></li>\\n<li><a href=\"/wiki/Exponential_family\" title=\"Exponential family\">exponential</a></li>\\n<li><a href=\"/wiki/Natural_exponential_family\" title=\"Natural exponential family\">natural exponential</a></li>\\n<li><a href=\"/wiki/Location-scale_family\" title=\"Location-scale family\">location-scale</a></li>\\n<li><a href=\"/wiki/Maximum_entropy_probability_distribution\" title=\"Maximum entropy probability distribution\">maximum entropy</a></li>\\n<li><a href=\"/wiki/Mixture_density\" title=\"Mixture density\" class=\"mw-redirect\">mixture</a></li>\\n<li><a href=\"/wiki/Pearson_distribution\" title=\"Pearson distribution\">Pearson</a></li>\\n<li><a href=\"/wiki/Tweedie_distribution\" title=\"Tweedie distribution\">Tweedie</a></li>\\n<li><a href=\"/wiki/Wrapped_distribution\" title=\"Wrapped distribution\">wrapped</a></li>\\n</ul>\\n</div>\\n</td>\\n</tr>\\n</table>\\n</td>\\n</tr>\\n</table>\\n</td>\\n</tr>\\n</table>\\n<table class=\"navbox\" style=\"border-spacing:0\">\\n<tr>\\n<td style=\"padding:2px\">\\n<table class=\"nowraplinks hlist navbox-inner\" style=\"border-spacing:0;background:transparent;color:inherit\">\\n<tr>\\n<th scope=\"row\" class=\"navbox-group\"><a href=\"/wiki/Help:Authority_control\" title=\"Help:Authority control\">Authority control</a></th>\\n<td class=\"navbox-list navbox-odd\" style=\"text-align:left;border-left-width:2px;border-left-style:solid;width:100%;padding:0px\">\\n<div style=\"padding:0em 0.25em\">\\n<ul>\\n<li><a href=\"/wiki/Integrated_Authority_File\" title=\"Integrated Authority File\">GND</a>: <span class=\"uid\"><a rel=\"nofollow\" class=\"external text\" href=\"http://d-nb.info/gnd/4190937-9\">4190937-9</a></span></li>\\n</ul>\\n</div>\\n</td>\\n</tr>\\n</table>\\n</td>\\n</tr>\\n</table>\\n\\n\\n<!-- \\nNewPP limit report\\nParsed by mw1096\\nCached time: 20160311160619\\nCache expiry: 2592000\\nDynamic content: false\\nCPU time usage: 0.480 seconds\\nReal time usage: 0.635 seconds\\nPreprocessor visited node count: 2488/1000000\\nPreprocessor generated node count: 0/1500000\\nPost\\u2010expand include size: 116464/2097152 bytes\\nTemplate argument size: 13373/2097152 bytes\\nHighest expansion depth: 10/40\\nExpensive parser function count: 0/500\\nLua time usage: 0.175/10.000 seconds\\nLua memory usage: 3.87 MB/50 MB\\nNumber of Wikibase entities loaded: 1-->\\n\\n<!-- \\nTransclusion expansion time report (%,ms,calls,template)\\n100.00%  497.873      1 - -total\\n 28.61%  142.451      1 - Template:Reflist\\n 17.87%   88.956      1 - Template:ProbDistributions\\n 17.56%   87.409      1 - Template:Probability_distribution\\n 16.52%   82.227      1 - Template:Navbox_with_collapsible_groups\\n 16.21%   80.696      1 - Template:Infobox\\n 15.58%   77.584      6 - Template:Cite_journal\\n  6.68%   33.251      1 - Template:Commons_category\\n  5.65%   28.117      1 - Template:Commons\\n  5.12%   25.469      1 - Template:Sister_project\\n-->\\n\\n<!-- Saved in parser cache with key enwiki:pcache:idhash:43218-0!*!0!!en!4!*!math=0 and timestamp 20160311160618 and revision id 709498660\\n -->\\n'}, u'revid': 709498660, u'externallinks': [u'http://aclweb.org/anthology/W98-1218', u'http://books.google.com/books?hl=en&lr=&id=QAUv9R6bJzwC&oi=fnd&pg=PA139', u'http://apachepersonal.miun.se/~mageri/myresearch/bmsb2013-Eriksson.pdf', u'http://www.hpl.hp.com/research/idl/papers/ranking/ranking.html', u'//dx.doi.org/10.1371%2Fjournal.pone.0147073', u'http://www.cs.cofc.edu/~manaris/uploads/Main/IASTED2006.pdf', u'http://citeseerx.ist.psu.edu/viewdoc/download?doi=10.1.1.164.8422&rep=rep1&type=pdf', u'//dx.doi.org/10.1109%2F18.165464', u'http://www.csl.sri.com/users/neumann/#12a', u'http://www.webcitation.org/5z2UByabR', u'http://www.pnas.org/content/100/3/788.abstract?sid=cc7fae18-87c9-4b67-863a-4195bb47c1d1', u'//dx.doi.org/10.1073%2Fpnas.0335980100', u'//www.ncbi.nlm.nih.gov/pmc/articles/PMC298679', u'//www.ncbi.nlm.nih.gov/pubmed/12540826', u'http://home.zonnet.nl/galien8/factor/factor.html', u'http://www.gelbukh.com/CV/Publications/2001/CICLing-2001-Zipf.htm', u'//www.worldcat.org/search?fq=x0:jrnl&q=n2:0302-9743', u'http://xxx.arxiv.org/abs/cs.CL/0406015', u'http://pages.stern.nyu.edu/~xgabaix/papers/zipf.pdf', u'//dx.doi.org/10.1162%2F003355399556133', u'//www.worldcat.org/issn/0033-5533', u'http://www.sciencemag.org/content/293/5536/1818.short', u'http://www.worldcomp-proceedings.com/proc/p2011/BIC4329.pdf', u'http://judson.blogs.nytimes.com/2009/05/19/math-and-the-city/', u'http://www.theatlantic.com/issues/2002/04/rauch.htm', u'http://planetmath.org/encyclopedia/ZipfsLaw.html', u'http://www.hubbertpeak.com/laherrere/fractal.htm', u'http://www.newscientist.com/article.ns?id=mg18524904.300', u'http://www.lexique.org/listes/liste_mots.txt', u'http://1.1o1.in/en/webtools/semantic-depth', u'http://uk.arxiv.org/abs/physics/9901035', u'http://demonstrations.wolfram.com/ZipfsLawForUSCities/', u'http://mathworld.wolfram.com/ZipfsLaw.html', u'http://www.geoffkirby.co.uk/ZIPFSLAW.pdf', u'http://www.nature.com/nature/journal/v474/n7350/full/474164a.html', u'http://terrytao.wordpress.com/2009/07/03/benfords-law-zipfs-law-and-the-pareto-distribution/', u'http://d-nb.info/gnd/4190937-9', u'http://citeseer.ist.psu.edu/context/64879/0'], u'images': [u'Zipf_distribution_PMF.png', u'Zipf_distribution_CMF.png', u'Zipf_30wiki_en_labels.png', u'Wikipedia-n-zipf.png', u'Commons-logo.svg'], u'displaytitle': u\"Zipf's law\", u'sections': [{u'index': u'1', u'level': u'2', u'fromtitle': u\"Zipf's_law\", u'toclevel': 1, u'number': u'1', u'byteoffset': 2951, u'line': u'Motivation', u'anchor': u'Motivation'}, {u'index': u'2', u'level': u'2', u'fromtitle': u\"Zipf's_law\", u'toclevel': 1, u'number': u'2', u'byteoffset': 6402, u'line': u'Theoretical review', u'anchor': u'Theoretical_review'}, {u'index': u'3', u'level': u'2', u'fromtitle': u\"Zipf's_law\", u'toclevel': 1, u'number': u'3', u'byteoffset': 10120, u'line': u'Statistical explanation', u'anchor': u'Statistical_explanation'}, {u'index': u'4', u'level': u'2', u'fromtitle': u\"Zipf's_law\", u'toclevel': 1, u'number': u'4', u'byteoffset': 13756, u'line': u'Related laws', u'anchor': u'Related_laws'}, {u'index': u'5', u'level': u'2', u'fromtitle': u\"Zipf's_law\", u'toclevel': 1, u'number': u'5', u'byteoffset': 18610, u'line': u'See also', u'anchor': u'See_also'}, {u'index': u'6', u'level': u'2', u'fromtitle': u\"Zipf's_law\", u'toclevel': 1, u'number': u'6', u'byteoffset': 19023, u'line': u'References', u'anchor': u'References'}, {u'index': u'7', u'level': u'2', u'fromtitle': u\"Zipf's_law\", u'toclevel': 1, u'number': u'7', u'byteoffset': 19051, u'line': u'Further reading', u'anchor': u'Further_reading'}, {u'index': u'8', u'level': u'2', u'fromtitle': u\"Zipf's_law\", u'toclevel': 1, u'number': u'8', u'byteoffset': 20786, u'line': u'External links', u'anchor': u'External_links'}], u'properties': [{u'*': u'Q205472', u'name': u'wikibase_item'}], u'categories': [{u'hidden': u'', u'*': u'CS1_errors:_external_links', u'sortkey': u''}, {u'hidden': u'', u'*': u'Commons_category_with_page_title_same_as_on_Wikidata', u'sortkey': u''}, {u'hidden': u'', u'*': u'Wikipedia_articles_with_GND_identifiers', u'sortkey': u''}, {u'*': u'Discrete_distributions', u'sortkey': u''}, {u'*': u'Computational_linguistics', u'sortkey': u''}, {u'*': u'Power_laws', u'sortkey': u''}, {u'*': u'Statistical_laws', u'sortkey': u''}, {u'*': u'Empirical_laws', u'sortkey': u''}, {u'*': u'Tails_of_probability_distributions', u'sortkey': u''}, {u'*': u'Quantitative_linguistics', u'sortkey': u''}, {u'*': u'Bibliometrics', u'sortkey': u''}, {u'*': u'Corpus_linguistics', u'sortkey': u''}]}\n"
     ]
    }
   ],
   "source": [
    "# Experiment with fetching one or two pages and examining the result (fill in URL and payload)\n",
    "url = 'http://en.wikipedia.org/w/api.php'\n",
    "\n",
    "# parameters for the API request\n",
    "payload = { 'action' : 'parse' , 'format' : 'json','page' : \"Zipf's law\" }\n",
    "\n",
    "# make the request\n",
    "r = requests.post(url, data=payload, headers=headers)\n",
    "\n",
    "# print out the result of the request as JSON\n",
    "# print r.json()['parse'];"
   ]
  },
  {
   "cell_type": "markdown",
   "metadata": {},
   "source": [
    "### Step 2: Store the Data in MongoDB"
   ]
  },
  {
   "cell_type": "code",
   "execution_count": 5,
   "metadata": {
    "collapsed": true
   },
   "outputs": [],
   "source": [
    "# import MongoDB modules\n",
    "from pymongo import MongoClient\n",
    "from bson.objectid import ObjectId\n",
    "\n",
    "# connect to the hosted MongoDB instance\n",
    "client = MongoClient('mongodb://localhost:27017/')\n",
    "\n",
    "# connect to the wikipedia database: if it does not exist it will automatically create it -- one reason why mongoDB can be nice.\n",
    "db = client.wikipedia"
   ]
  },
  {
   "cell_type": "code",
   "execution_count": 6,
   "metadata": {
    "collapsed": true
   },
   "outputs": [],
   "source": [
    "# create a new collection that is unique to me, this is a necessity since we are all sharing a database \n",
    "collection = db.sea_feb"
   ]
  },
  {
   "cell_type": "code",
   "execution_count": 16,
   "metadata": {
    "collapsed": false
   },
   "outputs": [
    {
     "data": {
      "text/plain": [
       "dict"
      ]
     },
     "execution_count": 16,
     "metadata": {},
     "output_type": "execute_result"
    }
   ],
   "source": [
    "type(r.json())"
   ]
  },
  {
   "cell_type": "code",
   "execution_count": 7,
   "metadata": {
    "collapsed": false
   },
   "outputs": [],
   "source": [
    "# try storing the document you retrieved earlier in MongoDB (be careful to not store duplicates!)\n",
    "if not collection.find_one(r.json()['parse']):\n",
    "    collection.insert(r.json()['parse'])"
   ]
  },
  {
   "cell_type": "code",
   "execution_count": 8,
   "metadata": {
    "collapsed": true
   },
   "outputs": [],
   "source": [
    "# now see if you can query the database for the article you just stored\n",
    "zipf = collection.find_one({ \"title\" : \"Zipf's law\"})"
   ]
  },
  {
   "cell_type": "code",
   "execution_count": null,
   "metadata": {
    "collapsed": false
   },
   "outputs": [],
   "source": [
    "print zipf"
   ]
  },
  {
   "cell_type": "markdown",
   "metadata": {},
   "source": [
    "### Step 3: Retrieve and store every article (with associated metadata) within 1\n",
    "\n",
    "hop from the 'Zipf's law' article. *Do not follow external links, only linked Wikipedia articles*\n",
    "\n",
    "HINT: The Zipf's Law article should be located at: \n",
    "'http://en.wikipedia.org/w /api.php?action=parse&format=json&page=Zipf's%20law'"
   ]
  },
  {
   "cell_type": "code",
   "execution_count": 10,
   "metadata": {
    "collapsed": false
   },
   "outputs": [
    {
     "name": "stdout",
     "output_type": "stream",
     "text": [
      "<type 'list'>\n"
     ]
    },
    {
     "data": {
      "text/plain": [
       "[{u'*': u'Template:Probability distributions', u'exists': u'', u'ns': 10},\n",
       " {u'*': u'ARGUS distribution', u'exists': u'', u'ns': 0},\n",
       " {u'*': u'Arcsine distribution', u'exists': u'', u'ns': 0},\n",
       " {u'*': u'Asymmetric Laplace distribution', u'exists': u'', u'ns': 0},\n",
       " {u'*': u'Balding\\u2013Nichols model', u'exists': u'', u'ns': 0},\n",
       " {u'*': u'Bates distribution', u'exists': u'', u'ns': 0},\n",
       " {u'*': u\"Benford's law\", u'exists': u'', u'ns': 0},\n",
       " {u'*': u'Benini distribution', u'exists': u'', u'ns': 0},\n",
       " {u'*': u'Benktander type II distribution', u'exists': u'', u'ns': 0},\n",
       " {u'*': u'Benktander type I distribution', u'exists': u'', u'ns': 0},\n",
       " {u'*': u'Beno\\xeet Mandelbrot', u'exists': u'', u'ns': 0},\n",
       " {u'*': u'Bernoulli distribution', u'exists': u'', u'ns': 0},\n",
       " {u'*': u'Beta-binomial distribution', u'exists': u'', u'ns': 0},\n",
       " {u'*': u'Beta distribution', u'exists': u'', u'ns': 0},\n",
       " {u'*': u'Beta negative binomial distribution', u'exists': u'', u'ns': 0},\n",
       " {u'*': u'Beta prime distribution', u'exists': u'', u'ns': 0},\n",
       " {u'*': u'Beta rectangular distribution', u'exists': u'', u'ns': 0},\n",
       " {u'*': u'Bingham distribution', u'exists': u'', u'ns': 0},\n",
       " {u'*': u'Binomial distribution', u'exists': u'', u'ns': 0},\n",
       " {u'*': u'Bivariate von Mises distribution', u'exists': u'', u'ns': 0},\n",
       " {u'*': u'Borel distribution', u'exists': u'', u'ns': 0},\n",
       " {u'*': u\"Bradford's law\", u'exists': u'', u'ns': 0},\n",
       " {u'*': u'Broken power law', u'exists': u'', u'ns': 0},\n",
       " {u'*': u'Brown Corpus', u'exists': u'', u'ns': 0},\n",
       " {u'*': u'Burr distribution', u'exists': u'', u'ns': 0},\n",
       " {u'*': u'CICLing', u'exists': u'', u'ns': 0},\n",
       " {u'*': u'Cantor distribution', u'exists': u'', u'ns': 0},\n",
       " {u'*': u'Categorical distribution', u'exists': u'', u'ns': 0},\n",
       " {u'*': u'Cauchy distribution', u'exists': u'', u'ns': 0},\n",
       " {u'*': u'Characteristic function (probability theory)',\n",
       "  u'exists': u'',\n",
       "  u'ns': 0},\n",
       " {u'*': u'Chi-squared distribution', u'exists': u'', u'ns': 0},\n",
       " {u'*': u'Chi distribution', u'exists': u'', u'ns': 0},\n",
       " {u'*': u'Circular distribution', u'exists': u'', u'ns': 0},\n",
       " {u'*': u'Circular uniform distribution', u'exists': u'', u'ns': 0},\n",
       " {u'*': u'Compound Poisson distribution', u'exists': u'', u'ns': 0},\n",
       " {u'*': u'Conway\\u2013Maxwell\\u2013Poisson distribution',\n",
       "  u'exists': u'',\n",
       "  u'ns': 0},\n",
       " {u'*': u'Cumulative distribution function', u'exists': u'', u'ns': 0},\n",
       " {u'*': u'Dagum distribution', u'exists': u'', u'ns': 0},\n",
       " {u'*': u'Davis distribution', u'exists': u'', u'ns': 0},\n",
       " {u'*': u'Degenerate distribution', u'exists': u'', u'ns': 0},\n",
       " {u'*': u'Delaporte distribution', u'exists': u'', u'ns': 0},\n",
       " {u'*': u'Demographic gravitation', u'exists': u'', u'ns': 0},\n",
       " {u'*': u'Digital object identifier', u'exists': u'', u'ns': 0},\n",
       " {u'*': u'Dirac delta function', u'exists': u'', u'ns': 0},\n",
       " {u'*': u'Directional statistics', u'exists': u'', u'ns': 0},\n",
       " {u'*': u'Dirichlet-multinomial distribution', u'exists': u'', u'ns': 0},\n",
       " {u'*': u'Dirichlet distribution', u'exists': u'', u'ns': 0},\n",
       " {u'*': u'Discrete phase-type distribution', u'exists': u'', u'ns': 0},\n",
       " {u'*': u'Elliptical distribution', u'exists': u'', u'ns': 0},\n",
       " {u'*': u'Empirical law', u'exists': u'', u'ns': 0},\n",
       " {u'*': u'English articles', u'exists': u'', u'ns': 0},\n",
       " {u'*': u'Eric W. Weisstein', u'exists': u'', u'ns': 0},\n",
       " {u'*': u'Erlang distribution', u'exists': u'', u'ns': 0},\n",
       " {u'*': u'Esperanto', u'exists': u'', u'ns': 0},\n",
       " {u'*': u\"Ewens's sampling formula\", u'exists': u'', u'ns': 0},\n",
       " {u'*': u'Expected value', u'exists': u'', u'ns': 0},\n",
       " {u'*': u'Exponential-Logarithmic distribution', u'exists': u'', u'ns': 0},\n",
       " {u'*': u'Exponential distribution', u'exists': u'', u'ns': 0},\n",
       " {u'*': u'Exponential family', u'exists': u'', u'ns': 0},\n",
       " {u'*': u'Extended negative binomial distribution', u'exists': u'', u'ns': 0},\n",
       " {u'*': u'F-distribution', u'exists': u'', u'ns': 0},\n",
       " {u'*': u'Felix Auerbach', u'exists': u'', u'ns': 0},\n",
       " {u'*': u\"Fisher's z-distribution\", u'exists': u'', u'ns': 0},\n",
       " {u'*': u'Flory\\u2013Schulz distribution', u'exists': u'', u'ns': 0},\n",
       " {u'*': u'Folded normal distribution', u'exists': u'', u'ns': 0},\n",
       " {u'*': u'Frequency list', u'exists': u'', u'ns': 0},\n",
       " {u'*': u'Frequency table', u'exists': u'', u'ns': 0},\n",
       " {u'*': u'Fr\\xe9chet distribution', u'exists': u'', u'ns': 0},\n",
       " {u'*': u'Gamma/Gompertz distribution', u'exists': u'', u'ns': 0},\n",
       " {u'*': u'Gamma distribution', u'exists': u'', u'ns': 0},\n",
       " {u'*': u'Gauss\\u2013Kuzmin distribution', u'exists': u'', u'ns': 0},\n",
       " {u'*': u'Generalised hyperbolic distribution', u'exists': u'', u'ns': 0},\n",
       " {u'*': u'Generalized Dirichlet distribution', u'exists': u'', u'ns': 0},\n",
       " {u'*': u'Generalized Pareto distribution', u'exists': u'', u'ns': 0},\n",
       " {u'*': u'Generalized extreme value distribution', u'exists': u'', u'ns': 0},\n",
       " {u'*': u'Generalized inverse Gaussian distribution',\n",
       "  u'exists': u'',\n",
       "  u'ns': 0},\n",
       " {u'*': u'Generalized normal distribution', u'exists': u'', u'ns': 0},\n",
       " {u'*': u'Geometric distribution', u'exists': u'', u'ns': 0},\n",
       " {u'*': u'Geometric stable distribution', u'exists': u'', u'ns': 0},\n",
       " {u'*': u'George K. Zipf', u'exists': u'', u'ns': 0},\n",
       " {u'*': u'George Kingsley Zipf', u'exists': u'', u'ns': 0},\n",
       " {u'*': u\"Gibrat's law\", u'exists': u'', u'ns': 0},\n",
       " {u'*': u'Gompertz distribution', u'exists': u'', u'ns': 0},\n",
       " {u'*': u'Graph of a function', u'exists': u'', u'ns': 0},\n",
       " {u'*': u'Gumbel distribution', u'exists': u'', u'ns': 0},\n",
       " {u'*': u'Half-logistic distribution', u'exists': u'', u'ns': 0},\n",
       " {u'*': u'Half-normal distribution', u'exists': u'', u'ns': 0},\n",
       " {u'*': u'Hapax legomenon', u'exists': u'', u'ns': 0},\n",
       " {u'*': u'Harmonic number', u'exists': u'', u'ns': 0},\n",
       " {u'*': u'Harmonic series (mathematics)', u'exists': u'', u'ns': 0},\n",
       " {u'*': u\"Heaps' law\", u'exists': u'', u'ns': 0},\n",
       " {u'*': u'Holtsmark distribution', u'exists': u'', u'ns': 0},\n",
       " {u'*': u\"Hotelling's T-squared distribution\", u'exists': u'', u'ns': 0},\n",
       " {u'*': u'Hurwitz zeta function', u'exists': u'', u'ns': 0},\n",
       " {u'*': u'Hyper-Erlang distribution', u'exists': u'', u'ns': 0},\n",
       " {u'*': u'Hyperbolic secant distribution', u'exists': u'', u'ns': 0},\n",
       " {u'*': u'Hyperexponential distribution', u'exists': u'', u'ns': 0},\n",
       " {u'*': u'Hypergeometric distribution', u'exists': u'', u'ns': 0},\n",
       " {u'*': u'Hypoexponential distribution', u'exists': u'', u'ns': 0},\n",
       " {u'*': u'IEEE Transactions on Information Theory', u'exists': u'', u'ns': 0},\n",
       " {u'*': u'Information entropy', u'exists': u'', u'ns': 0},\n",
       " {u'*': u'Integer', u'exists': u'', u'ns': 0},\n",
       " {u'*': u'Integrated Authority File', u'exists': u'', u'ns': 0},\n",
       " {u'*': u'International Standard Book Number', u'exists': u'', u'ns': 0},\n",
       " {u'*': u'International Standard Serial Number', u'exists': u'', u'ns': 0},\n",
       " {u'*': u'Inverse-Wishart distribution', u'exists': u'', u'ns': 0},\n",
       " {u'*': u'Inverse-chi-squared distribution', u'exists': u'', u'ns': 0},\n",
       " {u'*': u'Inverse-gamma distribution', u'exists': u'', u'ns': 0},\n",
       " {u'*': u'Inverse Gaussian distribution', u'exists': u'', u'ns': 0},\n",
       " {u'*': u'Inverse matrix gamma distribution', u'exists': u'', u'ns': 0},\n",
       " {u'*': u'Inversely proportional', u'exists': u'', u'ns': 0},\n",
       " {u'*': u'Irwin\\u2013Hall distribution', u'exists': u'', u'ns': 0},\n",
       " {u'*': u'Jean-Baptiste Estoup', u'exists': u'', u'ns': 0},\n",
       " {u'*': u'Johnson SU distribution', u'exists': u'', u'ns': 0},\n",
       " {u'*': u'Joint probability distribution', u'exists': u'', u'ns': 0},\n",
       " {u'*': u'Kent distribution', u'exists': u'', u'ns': 0},\n",
       " {u'*': u'King effect', u'exists': u'', u'ns': 0},\n",
       " {u'*': u'Kolmogorov distribution', u'exists': u'', u'ns': 0},\n",
       " {u'*': u'Kolmogorov\\u2013Smirnov test', u'exists': u'', u'ns': 0},\n",
       " {u'*': u'Kumaraswamy distribution', u'exists': u'', u'ns': 0},\n",
       " {u'*': u'Landau distribution', u'exists': u'', u'ns': 0},\n",
       " {u'*': u'Laplace distribution', u'exists': u'', u'ns': 0},\n",
       " {u'*': u'Linear equation', u'exists': u'', u'ns': 0},\n",
       " {u'*': u'Linguistics', u'exists': u'', u'ns': 0},\n",
       " {u'*': u'Linnik distribution', u'exists': u'', u'ns': 0},\n",
       " {u'*': u'List of probability distributions', u'exists': u'', u'ns': 0},\n",
       " {u'*': u'Location-scale family', u'exists': u'', u'ns': 0},\n",
       " {u'*': u'Log-Cauchy distribution', u'exists': u'', u'ns': 0},\n",
       " {u'*': u'Log-Laplace distribution', u'exists': u'', u'ns': 0},\n",
       " {u'*': u'Log-log', u'exists': u'', u'ns': 0},\n",
       " {u'*': u'Log-logistic distribution', u'exists': u'', u'ns': 0},\n",
       " {u'*': u'Log-normal distribution', u'exists': u'', u'ns': 0},\n",
       " {u'*': u'Logarithm', u'exists': u'', u'ns': 0},\n",
       " {u'*': u'Logarithmic distribution', u'exists': u'', u'ns': 0},\n",
       " {u'*': u'Logistic distribution', u'exists': u'', u'ns': 0},\n",
       " {u'*': u'Logit-normal distribution', u'exists': u'', u'ns': 0},\n",
       " {u'*': u'Lorenz curve', u'exists': u'', u'ns': 0},\n",
       " {u'*': u\"Lotka's law\", u'exists': u'', u'ns': 0},\n",
       " {u'*': u'L\\xe9on Brillouin', u'exists': u'', u'ns': 0},\n",
       " {u'*': u'L\\xe9vy distribution', u'exists': u'', u'ns': 0},\n",
       " {u'*': u'MathWorld', u'exists': u'', u'ns': 0},\n",
       " {u'*': u'Mathematical statistics', u'exists': u'', u'ns': 0},\n",
       " {u'*': u'Matrix-exponential distribution', u'exists': u'', u'ns': 0},\n",
       " {u'*': u'Matrix gamma distribution', u'exists': u'', u'ns': 0},\n",
       " {u'*': u'Matrix normal distribution', u'exists': u'', u'ns': 0},\n",
       " {u'*': u'Matrix t-distribution', u'exists': u'', u'ns': 0},\n",
       " {u'*': u'Maximum entropy probability distribution', u'exists': u'', u'ns': 0},\n",
       " {u'*': u'Maxwell\\u2013Boltzmann distribution', u'exists': u'', u'ns': 0},\n",
       " {u'*': u'Maxwell\\u2013J\\xfcttner distribution', u'exists': u'', u'ns': 0},\n",
       " {u'*': u'Mittag\\u2013Leffler distribution', u'exists': u'', u'ns': 0},\n",
       " {u'*': u'Mixture density', u'exists': u'', u'ns': 0},\n",
       " {u'*': u'Mode (statistics)', u'exists': u'', u'ns': 0},\n",
       " {u'*': u'Moment-generating function', u'exists': u'', u'ns': 0},\n",
       " {u'*': u'Multinomial distribution', u'exists': u'', u'ns': 0},\n",
       " {u'*': u'Multivariate Student distribution', u'exists': u'', u'ns': 0},\n",
       " {u'*': u'Multivariate normal distribution', u'exists': u'', u'ns': 0},\n",
       " {u'*': u'Multivariate stable distribution', u'exists': u'', u'ns': 0},\n",
       " {u'*': u'Nakagami distribution', u'exists': u'', u'ns': 0},\n",
       " {u'*': u'Natural exponential family', u'exists': u'', u'ns': 0},\n",
       " {u'*': u'Natural language', u'exists': u'', u'ns': 0},\n",
       " {u'*': u'Negative binomial distribution', u'exists': u'', u'ns': 0},\n",
       " {u'*': u'Negative multinomial distribution', u'exists': u'', u'ns': 0},\n",
       " {u'*': u'Noncentral beta distribution', u'exists': u'', u'ns': 0},\n",
       " {u'*': u'Noncentral chi-squared distribution', u'exists': u'', u'ns': 0},\n",
       " {u'*': u'Noncentral t-distribution', u'exists': u'', u'ns': 0},\n",
       " {u'*': u'Normal-Wishart distribution', u'exists': u'', u'ns': 0},\n",
       " {u'*': u'Normal-gamma distribution', u'exists': u'', u'ns': 0},\n",
       " {u'*': u'Normal-inverse-Wishart distribution', u'exists': u'', u'ns': 0},\n",
       " {u'*': u'Normal-inverse Gaussian distribution', u'exists': u'', u'ns': 0},\n",
       " {u'*': u'Normal-scaled inverse gamma distribution', u'exists': u'', u'ns': 0},\n",
       " {u'*': u'Normal distribution', u'exists': u'', u'ns': 0},\n",
       " {u'*': u'Parabolic fractal distribution', u'exists': u'', u'ns': 0},\n",
       " {u'*': u'Pareto distribution', u'exists': u'', u'ns': 0},\n",
       " {u'*': u'Pareto principle', u'exists': u'', u'ns': 0},\n",
       " {u'*': u'Pearson distribution', u'exists': u'', u'ns': 0},\n",
       " {u'*': u'Peter G. Neumann', u'exists': u'', u'ns': 0},\n",
       " {u'*': u'Phase-type distribution', u'exists': u'', u'ns': 0},\n",
       " {u'*': u'Physical science', u'exists': u'', u'ns': 0},\n",
       " {u'*': u'Poisson binomial distribution', u'exists': u'', u'ns': 0},\n",
       " {u'*': u'Poisson distribution', u'exists': u'', u'ns': 0},\n",
       " {u'*': u'Poly-Weibull distribution', u'exists': u'', u'ns': 0},\n",
       " {u'*': u'Power law', u'exists': u'', u'ns': 0},\n",
       " {u'*': u'Principle of least effort', u'exists': u'', u'ns': 0},\n",
       " {u'*': u'Probability distribution', u'exists': u'', u'ns': 0},\n",
       " {u'*': u'Probability mass function', u'exists': u'', u'ns': 0},\n",
       " {u'*': u'Proceedings of the National Academy of Sciences of the United States of America',\n",
       "  u'exists': u'',\n",
       "  u'ns': 0},\n",
       " {u'*': u'PubMed Central', u'exists': u'', u'ns': 0},\n",
       " {u'*': u'PubMed Identifier', u'exists': u'', u'ns': 0},\n",
       " {u'*': u'Q-Gaussian distribution', u'exists': u'', u'ns': 0},\n",
       " {u'*': u'Q-Weibull distribution', u'exists': u'', u'ns': 0},\n",
       " {u'*': u'Q-exponential distribution', u'exists': u'', u'ns': 0},\n",
       " {u'*': u'Rademacher distribution', u'exists': u'', u'ns': 0},\n",
       " {u'*': u'Raised cosine distribution', u'exists': u'', u'ns': 0},\n",
       " {u'*': u'Random matrix', u'exists': u'', u'ns': 0},\n",
       " {u'*': u'Rank-frequency distribution', u'exists': u'', u'ns': 0},\n",
       " {u'*': u'Rank-size distribution', u'exists': u'', u'ns': 0},\n",
       " {u'*': u'Rayleigh distribution', u'exists': u'', u'ns': 0},\n",
       " {u'*': u'Real number', u'exists': u'', u'ns': 0},\n",
       " {u'*': u'Reciprocal distribution', u'exists': u'', u'ns': 0},\n",
       " {u'*': u'Rectified Gaussian distribution', u'exists': u'', u'ns': 0},\n",
       " {u'*': u'Relativistic Breit\\u2013Wigner distribution',\n",
       "  u'exists': u'',\n",
       "  u'ns': 0},\n",
       " {u'*': u'Rice distribution', u'exists': u'', u'ns': 0},\n",
       " {u'*': u'Riemann zeta function', u'exists': u'', u'ns': 0},\n",
       " {u'*': u'Rosin\\u2013Rammler distribution', u'exists': u'', u'ns': 0},\n",
       " {u'*': u'Scaled inverse chi-squared distribution', u'exists': u'', u'ns': 0},\n",
       " {u'*': u'Shifted Gompertz distribution', u'exists': u'', u'ns': 0},\n",
       " {u'*': u'Shifted log-logistic distribution', u'exists': u'', u'ns': 0},\n",
       " {u'*': u'Singular distribution', u'exists': u'', u'ns': 0},\n",
       " {u'*': u'Skellam distribution', u'exists': u'', u'ns': 0},\n",
       " {u'*': u'Skew normal distribution', u'exists': u'', u'ns': 0},\n",
       " {u'*': u'Slash distribution', u'exists': u'', u'ns': 0},\n",
       " {u'*': u'Social science', u'exists': u'', u'ns': 0},\n",
       " {u'*': u'Stable distribution', u'exists': u'', u'ns': 0},\n",
       " {u'*': u'Statistical distribution', u'exists': u'', u'ns': 0},\n",
       " {u'*': u'Steven Strogatz', u'exists': u'', u'ns': 0},\n",
       " {u'*': u\"Stigler's law of eponymy\", u'exists': u'', u'ns': 0},\n",
       " {u'*': u\"Student's t-distribution\", u'exists': u'', u'ns': 0},\n",
       " {u'*': u'Support (mathematics)', u'exists': u'', u'ns': 0},\n",
       " {u'*': u'Taylor series', u'exists': u'', u'ns': 0},\n",
       " {u'*': u'Text corpus', u'exists': u'', u'ns': 0},\n",
       " {u'*': u'Tracy\\u2013Widom distribution', u'exists': u'', u'ns': 0},\n",
       " {u'*': u'Triangular distribution', u'exists': u'', u'ns': 0},\n",
       " {u'*': u'Truncated normal distribution', u'exists': u'', u'ns': 0},\n",
       " {u'*': u'Tukey lambda distribution', u'exists': u'', u'ns': 0},\n",
       " {u'*': u'Tweedie distribution', u'exists': u'', u'ns': 0},\n",
       " {u'*': u'Type-1 Gumbel distribution', u'exists': u'', u'ns': 0},\n",
       " {u'*': u'Type-2 Gumbel distribution', u'exists': u'', u'ns': 0},\n",
       " {u'*': u'U-quadratic distribution', u'exists': u'', u'ns': 0},\n",
       " {u'*': u'Uniform distribution (continuous)', u'exists': u'', u'ns': 0},\n",
       " {u'*': u'Uniform distribution (discrete)', u'exists': u'', u'ns': 0},\n",
       " {u'*': u'Variance-gamma distribution', u'exists': u'', u'ns': 0},\n",
       " {u'*': u'Vitold Belevitch', u'exists': u'', u'ns': 0},\n",
       " {u'*': u'Voigt profile', u'exists': u'', u'ns': 0},\n",
       " {u'*': u'Von Mises distribution', u'exists': u'', u'ns': 0},\n",
       " {u'*': u'Von Mises\\u2013Fisher distribution', u'exists': u'', u'ns': 0},\n",
       " {u'*': u'Weibull distribution', u'exists': u'', u'ns': 0},\n",
       " {u'*': u'Wigner semicircle distribution', u'exists': u'', u'ns': 0},\n",
       " {u'*': u\"Wilks' lambda distribution\", u'exists': u'', u'ns': 0},\n",
       " {u'*': u'Wishart distribution', u'exists': u'', u'ns': 0},\n",
       " {u'*': u'Wolfram Demonstrations Project', u'exists': u'', u'ns': 0},\n",
       " {u'*': u'Wrapped Cauchy distribution', u'exists': u'', u'ns': 0},\n",
       " {u'*': u'Wrapped L\\xe9vy distribution', u'exists': u'', u'ns': 0},\n",
       " {u'*': u'Wrapped asymmetric Laplace distribution', u'exists': u'', u'ns': 0},\n",
       " {u'*': u'Wrapped distribution', u'exists': u'', u'ns': 0},\n",
       " {u'*': u'Wrapped exponential distribution', u'exists': u'', u'ns': 0},\n",
       " {u'*': u'Wrapped normal distribution', u'exists': u'', u'ns': 0},\n",
       " {u'*': u'Xavier Gabaix', u'exists': u'', u'ns': 0},\n",
       " {u'*': u'Yule\\u2013Simon distribution', u'exists': u'', u'ns': 0},\n",
       " {u'*': u'Zeta distribution', u'exists': u'', u'ns': 0},\n",
       " {u'*': u'Zipf\\u2013Mandelbrot law', u'exists': u'', u'ns': 0},\n",
       " {u'*': u'Artificial Intelligence and Applications', u'ns': 0},\n",
       " {u'*': u'Template talk:Probability distributions', u'exists': u'', u'ns': 11},\n",
       " {u'*': u'Help:Authority control', u'exists': u'', u'ns': 12},\n",
       " {u'*': u'Help:CS1 errors', u'exists': u'', u'ns': 12},\n",
       " {u'*': u'Help:IPA for English', u'exists': u'', u'ns': 12}]"
      ]
     },
     "execution_count": 10,
     "metadata": {},
     "output_type": "execute_result"
    }
   ],
   "source": [
    "# grab the list of linked Wikipedia articles from the API result \n",
    "links = zipf['links']\n",
    "\n",
    "print type(links)\n",
    "links"
   ]
  },
  {
   "cell_type": "code",
   "execution_count": 11,
   "metadata": {
    "collapsed": false
   },
   "outputs": [],
   "source": [
    "# iterate over each link and store the returned document in MongoDB\n",
    "for link in links:\n",
    "\n",
    "    # parameters for API request\n",
    "    payload = { 'action' : 'parse' , 'format' : 'json','page' : link['*'] }\n",
    "\n",
    "    r = requests.post(url, data=payload, headers=headers)\n",
    "\n",
    "    # check to first see if the document is already in our database, if not... store it!\n",
    "    #print payload\n",
    "    try:\n",
    "        if not collection.find_one(r.json()['parse']):\n",
    "            collection.insert(r.json()['parse'])\n",
    "    except:\n",
    "        continue"
   ]
  },
  {
   "cell_type": "markdown",
   "metadata": {},
   "source": [
    "### Step 4: Find all articles that mention 'Zipf' or 'Zipfian' (case insensitive)\n",
    "\n",
    "* Use regular expressions in order to search the content of the articles for the terms Zipf or Zipfian. \n",
    "* We only want articles that mention these terms in the displayed text however, so we must first remove all the unnecessary HTML tags and only keep what is in between the relevant tags. \n",
    "* Beautiful Soup makes this almost trivial. Explore the documentation to find how to do this effortlessly: http://www.crummy.com/softwa re/BeautifulSoup/bs4/doc/\n",
    "\n",
    "* Test out your Regular Expressions before you run them over every document you have in your database: http://pythex.org/. Here is some useful documentation on regular expressions in Python: http://docs .python.org/2/howto/regex.html\n",
    "\n",
    "* Once you have identified the relevant articles, save them to a file for now, we do not need to persist them in the database."
   ]
  },
  {
   "cell_type": "code",
   "execution_count": 12,
   "metadata": {
    "collapsed": true
   },
   "outputs": [],
   "source": [
    "# import the Beautiful Soup module \n",
    "from bs4 import BeautifulSoup\n",
    "\n",
    "count = 0\n",
    "\n",
    "# compile our regular expression since we will use it many times\n",
    "regex = re.compile('Zipf | Zipfian', re.IGNORECASE)\n",
    "\n",
    "# create an output file if it doesn't already exist, and open it in binary mode\n",
    "out = open('zipfian.txt', 'w+b')\n",
    "\n",
    "# iterate over every document we have stored\n",
    "for doc in collection.find():\n",
    "    # extract the HTML from the document\n",
    "    html = doc['text']['*']\n",
    "\n",
    "    # stringify the ID for serialization to our text file\n",
    "    doc['_id'] = str(doc['_id'])\n",
    "\n",
    "    # create a Beautiful Soup object from the HTML\n",
    "    soup = BeautifulSoup(html)\n",
    "\n",
    "    # extract all the relevant text of the web page: strips out tags and head/meta content\n",
    "    text = soup.get_text()\n",
    "\n",
    "    # perform a regex search with the expression we compiled earlier\n",
    "    m = regex.search(text)\n",
    "\n",
    "    # if our search returned an object (it matched the regex), write the document to our output file\n",
    "    if m:\n",
    "        count += 1\n",
    "        json.dump(doc, out) \n",
    "        out.write('\\n')\n",
    "\n",
    "# close the opened output file for good measure\n",
    "out.close()"
   ]
  },
  {
   "cell_type": "markdown",
   "metadata": {},
   "source": [
    "### Step 5: Augmentation! Time to remix the web... or rather just Wikipedia.\n",
    "\n",
    "But hey, isn't Wikipedia the web.\n",
    "\n",
    "We want to augment our Zipfian Wikipedia articles with content from the WWW at large. \n",
    "Stepping out of the walled garden of collaboratively edited document safety... let us scrape! \n",
    "For each of the articles we found to contain 'Zipf' or 'Zipfian', we want to know what the web has to say. \n",
    "For each of the external links of said articles, fetch the linked webpage and extract the ```<title> and <meta name=\"keywords\">``` from the HTML. Beautiful Soup would probably help you a lot here.\n",
    "\n",
    "You still have to watch out for pages without keywords or a title\n",
    "\n",
    "Once you have extracted this information, update the stored document in your database with this information. Add a field called 'extraexternal' that contains the additional contextual information. 'extraexternal' should be an array of JSON objects, each of which have keys:\n",
    "\n",
    "'url' : the url of the page\n",
    "'title' : the title of the page\n",
    "'keywords' : the keywords from the meta tag"
   ]
  },
  {
   "cell_type": "code",
   "execution_count": 13,
   "metadata": {
    "collapsed": true
   },
   "outputs": [],
   "source": [
    "import urlparse"
   ]
  },
  {
   "cell_type": "code",
   "execution_count": 14,
   "metadata": {
    "collapsed": false
   },
   "outputs": [],
   "source": [
    "# re-open our output file of matched articles \n",
    "articles = open('zip1.txt', 'r')\n",
    "\n",
    "# iterate over each article that contains 'Zipf' or 'Zipfian'\n",
    "for line in articles:\n",
    "    doc = json.loads(line)\n",
    "\n",
    "    # extract the external links from the Wikipedia article\n",
    "    links = doc['externallinks']\n",
    "\n",
    "    # deserialize our document ID into a Mongo ObjectID\n",
    "    _id = ObjectId(doc['_id'])\n",
    "\n",
    "    # create an empty 'extraexternal' array to store the results of our web scraping\n",
    "    collection.update( { '_id' : _id }, { '$set' :  { 'extraexternal' : [] } } )\n",
    "\n",
    "    # iterate over the URLs of the external links\n",
    "    for url in links:\n",
    "        # sometimes the URLs are malformed, split the URL into its component parts to fix\n",
    "        scheme, netloc, path, qs, anchor = urlparse.urlsplit(url)\n",
    "\n",
    "        # if there is not a scheme specified (what comes before the ://) default to HTTP\n",
    "        scheme = scheme if scheme else 'http'\n",
    "\n",
    "        # rejoin the fixed components into a URL string\n",
    "        fixed_url = urlparse.urlunsplit((scheme, netloc, path, qs, anchor))\n",
    "\n",
    "        # make the request to grab the content of the external link\n",
    "        html = requests.get(fixed_url)\n",
    "\n",
    "        # soupify the HTML so we can traverse/parse it for what we are looking for\n",
    "        soup = BeautifulSoup(html.text)\n",
    "\n",
    "        # extract the title from the page\n",
    "        title = soup.title\n",
    "\n",
    "        # extract the keywords from the meta tag\n",
    "        keywords = soup.find('meta', attrs={'name' : 'keywords'})\n",
    "\n",
    "        # create a object to store our extra data related to each external link\n",
    "        augment = { \n",
    "                    'url' : url, \n",
    "                    'title' : title.string if title else \"\", \n",
    "                    'keywords' : keywords['content'].split(',') if keywords else [] \n",
    "                  }\n",
    "\n",
    "        # update the document we already have stored in MongoDB with our additional information\n",
    "        collection.update({ '_id' : _id }, { '$push' : { 'extraexternal' : augment } } )"
   ]
  },
  {
   "cell_type": "code",
   "execution_count": 15,
   "metadata": {
    "collapsed": false
   },
   "outputs": [
    {
     "name": "stdout",
     "output_type": "stream",
     "text": [
      "u\"Zipf's law\"\n",
      "[{u'keywords': [],\n",
      "  u'title': u'',\n",
      "  u'url': u'http://aclweb.org/anthology/W98-1218'},\n",
      " {u'keywords': [],\n",
      "  u'title': u'Handbook of Empirical Economics and Finance - Google Books',\n",
      "  u'url': u'http://books.google.com/books?hl=en&lr=&id=QAUv9R6bJzwC&oi=fnd&pg=PA139'},\n",
      " {u'keywords': [],\n",
      "  u'title': u'',\n",
      "  u'url': u'http://apachepersonal.miun.se/~mageri/myresearch/bmsb2013-Eriksson.pdf'},\n",
      " {u'keywords': [],\n",
      "  u'title': u'Zipf, Power-law, Pareto - a ranking tutorial',\n",
      "  u'url': u'http://www.hpl.hp.com/research/idl/papers/ranking/ranking.html'},\n",
      " {u'keywords': [u'Computational linguistics',\n",
      "                u'Probability distribution',\n",
      "                u'Statistical distributions',\n",
      "                u'Language',\n",
      "                u'Monte Carlo method',\n",
      "                u'Random variables',\n",
      "                u'Probability density',\n",
      "                u'Law of large numbers'],\n",
      "  u'title': u'PLOS ONE: Large-Scale Analysis of Zipf\\u2019s Law in English Texts',\n",
      "  u'url': u'//dx.doi.org/10.1371%2Fjournal.pone.0147073'},\n",
      " {u'keywords': [],\n",
      "  u'title': u'',\n",
      "  u'url': u'http://www.cs.cofc.edu/~manaris/uploads/Main/IASTED2006.pdf'},\n",
      " {u'keywords': [],\n",
      "  u'title': u'',\n",
      "  u'url': u'http://citeseerx.ist.psu.edu/viewdoc/download?doi=10.1.1.164.8422&rep=rep1&type=pdf'},\n",
      " {u'keywords': [],\n",
      "  u'title': u'IEEE Xplore Abstract \\n\\t\\t\\n\\t\\t\\n\\t\\t\\n\\t\\t\\n\\t\\t\\n\\t\\t\\t\\n\\t\\t\\n\\t\\t\\n\\t\\t\\t\\n\\t\\t\\t\\t\\n\\t\\t - \\t\\n\\t\\tRandom texts exhibit Zipf&#39;s-law-like word frequency distribution\\n\\t',\n",
      "  u'url': u'//dx.doi.org/10.1109%2F18.165464'},\n",
      " {u'keywords': [],\n",
      "  u'title': u\"Peter Neumann's Home Page\",\n",
      "  u'url': u'http://www.csl.sri.com/users/neumann/#12a'},\n",
      " {u'keywords': [],\n",
      "  u'title': u'WebCite query result',\n",
      "  u'url': u'http://www.webcitation.org/5z2UByabR'},\n",
      " {u'keywords': [],\n",
      "  u'title': u'Least effort and the origins of scaling in human language ',\n",
      "  u'url': u'http://www.pnas.org/content/100/3/788.abstract?sid=cc7fae18-87c9-4b67-863a-4195bb47c1d1'},\n",
      " {u'keywords': [],\n",
      "  u'title': u'Least effort and the origins of scaling in human language ',\n",
      "  u'url': u'//dx.doi.org/10.1073%2Fpnas.0335980100'},\n",
      " {u'keywords': [],\n",
      "  u'title': u'Page not available',\n",
      "  u'url': u'//www.ncbi.nlm.nih.gov/pmc/articles/PMC298679'},\n",
      " {u'keywords': [u'Communication;Hearing;Humans;Models',\n",
      "                u' Statistical;Models',\n",
      "                u' Theoretical'],\n",
      "  u'title': u'Least effort and the origins of scaling in human language.  - PubMed - NCBI\\n',\n",
      "  u'url': u'//www.ncbi.nlm.nih.gov/pubmed/12540826'},\n",
      " {u'keywords': [u'factorial randomness',\n",
      "                u\" Zipf's Law\",\n",
      "                u\" Benford's Law\",\n",
      "                u' factors',\n",
      "                u' natural numbers',\n",
      "                u' random',\n",
      "                u' randomness',\n",
      "                u' chi-square',\n",
      "                u' linear regression',\n",
      "                u' PASCAL',\n",
      "                u' lemma',\n",
      "                u' correlation coefficient',\n",
      "                u' benford',\n",
      "                u' zipf'],\n",
      "  u'title': u'Factorial Randomness',\n",
      "  u'url': u'http://home.zonnet.nl/galien8/factor/factor.html'},\n",
      " {u'keywords': [],\n",
      "  u'title': u'Zipf Law Peculiarities for Dictionary Definitions',\n",
      "  u'url': u'http://www.gelbukh.com/CV/Publications/2001/CICLing-2001-Zipf.htm'},\n",
      " {u'keywords': [],\n",
      "  u'title': u\"Results for 'n2:0302-9743' > 'Journal, magazine' [WorldCat.org]\",\n",
      "  u'url': u'//www.worldcat.org/search?fq=x0:jrnl&q=n2:0302-9743'},\n",
      " {u'keywords': [],\n",
      "  u'title': u\"[cs/0406015] Zipf's law and the creation of musical context\",\n",
      "  u'url': u'http://xxx.arxiv.org/abs/cs.CL/0406015'},\n",
      " {u'keywords': [],\n",
      "  u'title': u'',\n",
      "  u'url': u'http://pages.stern.nyu.edu/~xgabaix/papers/zipf.pdf'},\n",
      " {u'keywords': [],\n",
      "  u'title': u\"Zipf's Law for Cities: An Explanation \",\n",
      "  u'url': u'//dx.doi.org/10.1162%2F003355399556133'},\n",
      " {u'keywords': [u'Economics Periodicals',\n",
      "                u' Economie',\n",
      "                u' E\\xc3\\x8c\\xc2\\x81conomie politique Pe\\xc3\\x8c\\xc2\\x81riodiques',\n",
      "                u' Economics',\n",
      "                u' Publications pe\\xc3\\x8c\\xc2\\x81riodiques',\n",
      "                u' Science e\\xc3\\x8c\\xc2\\x81conomique.'],\n",
      "  u'title': u'The quarterly journal of economics. (Journal, magazine, 1886) [WorldCat.org]',\n",
      "  u'url': u'//www.worldcat.org/issn/0033-5533'},\n",
      " {u'keywords': [],\n",
      "  u'title': u'Zipf Distribution of U.S. Firm Sizes | Science',\n",
      "  u'url': u'http://www.sciencemag.org/content/293/5536/1818.short'},\n",
      " {u'keywords': [],\n",
      "  u'title': u'',\n",
      "  u'url': u'http://www.worldcomp-proceedings.com/proc/p2011/BIC4329.pdf'},\n",
      " {u'keywords': [u'Uncategorized'],\n",
      "  u'title': u'Guest Column: Math and the City - The New York Times',\n",
      "  u'url': u'http://judson.blogs.nytimes.com/2009/05/19/math-and-the-city/'},\n",
      " {u'keywords': [u'The Atlantic',\n",
      "                u' The Atlantic Magazine',\n",
      "                u' TheAtlantic.com',\n",
      "                u' Atlantic',\n",
      "                u' news',\n",
      "                u' opinion',\n",
      "                u' breaking news',\n",
      "                u' analysis',\n",
      "                u' commentary',\n",
      "                u' business',\n",
      "                u' politics',\n",
      "                u' culture',\n",
      "                u' international',\n",
      "                u' science',\n",
      "                u' technology',\n",
      "                u' national and life'],\n",
      "  u'title': u'Seeing Around Corners - The Atlantic',\n",
      "  u'url': u'http://www.theatlantic.com/issues/2002/04/rauch.htm'},\n",
      " {u'keywords': [],\n",
      "  u'title': u'Page not found | planetmath.org',\n",
      "  u'url': u'http://planetmath.org/encyclopedia/ZipfsLaw.html'},\n",
      " {u'keywords': [],\n",
      "  u'title': u'Comptes Rendus de l\\x92Acad\\xe9mie des Sciences',\n",
      "  u'url': u'http://www.hubbertpeak.com/laherrere/fractal.htm'},\n",
      " {u'keywords': [],\n",
      "  u'title': u'Why it is hard to share the wealth | New Scientist\\t\\t',\n",
      "  u'url': u'http://www.newscientist.com/article.ns?id=mg18524904.300'},\n",
      " {u'keywords': [],\n",
      "  u'title': u'',\n",
      "  u'url': u'http://www.lexique.org/listes/liste_mots.txt'},\n",
      " {u'keywords': [u'mobile',\n",
      "                u' pi theorem',\n",
      "                u' php',\n",
      "                u' ajax',\n",
      "                u' semantic web',\n",
      "                u' india',\n",
      "                u' philosophy'],\n",
      "  u'title': u'Semantic Depth Analyzer',\n",
      "  u'url': u'http://1.1o1.in/en/webtools/semantic-depth'},\n",
      " {u'keywords': [],\n",
      "  u'title': u'arXiv mirror uk.arxiv.org has been discontinued',\n",
      "  u'url': u'http://uk.arxiv.org/abs/physics/9901035'},\n",
      " {u'keywords': [],\n",
      "  u'title': u'Wolfram Demonstrations Project',\n",
      "  u'url': u'http://demonstrations.wolfram.com/ZipfsLawForUSCities/'},\n",
      " {u'keywords': [],\n",
      "  u'title': u\"Zipf's Law -- from Wolfram MathWorld\",\n",
      "  u'url': u'http://mathworld.wolfram.com/ZipfsLaw.html'},\n",
      " {u'keywords': [],\n",
      "  u'title': u'',\n",
      "  u'url': u'http://www.geoffkirby.co.uk/ZIPFSLAW.pdf'},\n",
      " {u'keywords': [u'Physics'],\n",
      "  u'title': u\"Complex systems: Unzipping Zipf's law :  Nature :  Nature Publishing Group\",\n",
      "  u'url': u'http://www.nature.com/nature/journal/v474/n7350/full/474164a.html'},\n",
      " {u'keywords': [],\n",
      "  u'title': u\"Benford\\u2019s law, Zipf\\u2019s law, and the Pareto distribution | What's new\",\n",
      "  u'url': u'http://terrytao.wordpress.com/2009/07/03/benfords-law-zipfs-law-and-the-pareto-distribution/'},\n",
      " {u'keywords': [u'Deutsche Nationalbibliothek',\n",
      "                u' Die Deutsche Bibliothek',\n",
      "                u' Suche',\n",
      "                u' Katalogsuche'],\n",
      "  u'title': u'DNB, Katalog der Deutschen Nationalbibliothek',\n",
      "  u'url': u'http://d-nb.info/gnd/4190937-9'},\n",
      " {u'keywords': [],\n",
      "  u'title': u'CiteSeerX',\n",
      "  u'url': u'http://citeseer.ist.psu.edu/context/64879/0'}]\n",
      "\n",
      "\n",
      "u'Brown Corpus'\n",
      "[{u'keywords': [],\n",
      "  u'title': u'The Linguistics Encyclopedia - Kirsten Malmkj\\xe6r - Google Books',\n",
      "  u'url': u'http://books.google.com.au/books?id=IG7tE4-p-uUC&pg=PA87'},\n",
      " {u'keywords': [],\n",
      "  u'title': u'ICAME CORPUS MANUALS',\n",
      "  u'url': u'http://clu.uni.no/icame/manuals/'},\n",
      " {u'keywords': [], u'title': u'', u'url': u'http://www.nltk.org/nltk_data/'},\n",
      " {u'keywords': [],\n",
      "  u'title': u'Sketch Engine: Open corpora',\n",
      "  u'url': u'https://the.sketchengine.co.uk/open/'},\n",
      " {u'keywords': [],\n",
      "  u'title': u'The Brown Corpus Tag-set',\n",
      "  u'url': u'http://www.scs.leeds.ac.uk/ccalas/tagsets/brown.html'},\n",
      " {u'keywords': [],\n",
      "  u'title': u'Natural Language Toolkit \\u2014 NLTK 3.0 documentation',\n",
      "  u'url': u'http://www.nltk.org/'},\n",
      " {u'keywords': [],\n",
      "  u'title': u'Part Of Speech Tagging',\n",
      "  u'url': u'http://phpir.com/part-of-speech-tagging'}]\n",
      "\n",
      "\n",
      "u'George Kingsley Zipf'\n",
      "[{u'keywords': [],\n",
      "  u'title': u'A Pocket Guide to Risk Mathematics: Key Concepts Every Auditor Should Know - Matthew Leitch - Google Books',\n",
      "  u'url': u'http://books.google.com/books?id=f8GrzlnMSm8C&pg=PA62'},\n",
      " {u'keywords': [],\n",
      "  u'title': u'\\n    Zipf Dies After 3 - Month Illness |\\n    \\n        News |\\n    \\n    The Harvard Crimson\\n',\n",
      "  u'url': u'http://www.thecrimson.com/article/1950/9/27/zipf-dies-after-3-month/'},\n",
      " {u'keywords': [],\n",
      "  u'title': u\"Theory of Zipf's Law and Beyond - Alexander I. Saichev, Yannick Malevergne, Didier Sornette - Google Books\",\n",
      "  u'url': u'http://books.google.com/books?id=orSSCf69ZhMC&pg=PA1'},\n",
      " {u'keywords': [],\n",
      "  u'title': u'Word Frequency Distributions - R. Harald Baayen - Google Books',\n",
      "  u'url': u'http://books.google.com/books?id=fzkQPKoFEb0C&pg=PA1'},\n",
      " {u'keywords': [],\n",
      "  u'title': u'Zipf, George Kingsley 1902-1950 [WorldCat Identities]',\n",
      "  u'url': u'//www.worldcat.org/identities/lccn-no2004-044803'},\n",
      " {u'keywords': [],\n",
      "  u'title': u'79156155',\n",
      "  u'url': u'https://viaf.org/viaf/79156155'},\n",
      " {u'keywords': [u'Library of Congress Name Authority File: --Zipf',\n",
      "                u' George Kingsley',\n",
      "                u' 1902-1950 - LC Linked Data Service (Library of Congress)',\n",
      "                u' LC Linked Data Service',\n",
      "                u' linked data',\n",
      "                u' Library of Congress Subject Headings',\n",
      "                u'                         subject headings',\n",
      "                u' lcsh',\n",
      "                u' id.loc.gov',\n",
      "                u' linked data',\n",
      "                u'                         authorities',\n",
      "                u' standards',\n",
      "                u' vocabularies'],\n",
      "  u'title': u'Zipf, George Kingsley, 1902-1950 - LC Linked Data Service (Library of Congress)',\n",
      "  u'url': u'http://id.loc.gov/authorities/names/no2004044803'},\n",
      " {u'keywords': [],\n",
      "  u'title': u'ISNI 000000012141127X George Kingsley Zipf (American statistician) (1902-1950)',\n",
      "  u'url': u'http://isni.org/isni/000000012141127X'},\n",
      " {u'keywords': [u'Deutsche Nationalbibliothek',\n",
      "                u' Die Deutsche Bibliothek',\n",
      "                u' Suche',\n",
      "                u' Katalogsuche'],\n",
      "  u'title': u'DNB, Katalog der Deutschen Nationalbibliothek',\n",
      "  u'url': u'http://d-nb.info/gnd/11863710X'},\n",
      " {u'keywords': [],\n",
      "  u'title': u'Authority record',\n",
      "  u'url': u'//libris.kb.se/auth/201300'},\n",
      " {u'keywords': [],\n",
      "  u'title': u'Zipf, George Kingsley (1902-1950) - Notice documentaire IdRef ',\n",
      "  u'url': u'http://www.idref.fr/052579999'},\n",
      " {u'keywords': [],\n",
      "  u'title': u'\\n',\n",
      "  u'url': u'http://catalogue.bnf.fr/ark:/12148/cb13565858d'},\n",
      " {u'keywords': [u'Auteur \\u0153uvres Biographie dates \\u0153uvres compl\\xe8tes George Kingsley Zipf (1902-1950)'],\n",
      "  u'title': u'George Kingsley Zipf (1902-1950) - Auteur - Ressources de la Biblioth\\xe8que nationale de France',\n",
      "  u'url': u'http://data.bnf.fr/ark:/12148/cb13565858d'}]\n",
      "\n",
      "\n",
      "u'List of probability distributions'\n",
      "[]\n",
      "\n",
      "\n",
      "u'Principle of least effort'\n",
      "[]\n",
      "\n",
      "\n",
      "u'Pareto principle'\n",
      "[{u'keywords': [],\n",
      "  u'title': u'',\n",
      "  u'url': u'http://www2.latech.edu/~box/ase/papers2011/Ankunda_termpaper.PDF'},\n",
      " {u'keywords': [u'Juran  Joseph M',\n",
      "                u'Executives and Management',\n",
      "                u'Quality Control Handbook (Book)',\n",
      "                u'Deaths (Obituaries)',\n",
      "                u'New York State'],\n",
      "  u'title': u'Joseph Juran, 103, Pioneer in Quality Control, Dies - The New York Times',\n",
      "  u'url': u'http://www.nytimes.com/2008/03/03/business/03juran.html'},\n",
      " {u'keywords': [u'Management Guru',\n",
      "                u' 80/20 rule',\n",
      "                u' Pareto\\u2019s law',\n",
      "                u' pareto principle',\n",
      "                u' the 80 20 principle',\n",
      "                u' effective speaking',\n",
      "                u' the 80 20 rule',\n",
      "                u' 80 20 principle',\n",
      "                u' 80 20 rule',\n",
      "                u' keynote address',\n",
      "                u' Consulting Service',\n",
      "                u' second opinion',\n",
      "                u' second opinion services',\n",
      "                u' Conference presentation',\n",
      "                u' Seminar presentation',\n",
      "                u' Report writing',\n",
      "                u' Written communication',\n",
      "                u' Presentation training',\n",
      "                u' Presentation skills',\n",
      "                u' Presentation skills training'],\n",
      "  u'title': u'What is 80/20 Rule, Pareto\\u2019s Law, Pareto Principle,  The 80 20 Principle, Written communication, Presentation skills',\n",
      "  u'url': u'http://web.archive.org/web/20130128204020/http://www.80-20presentationrule.com/whatisrule.html'},\n",
      " {u'keywords': [],\n",
      "  u'title': u'404 Not Found',\n",
      "  u'url': u'http://www.80-20presentationrule.com/whatisrule.html'},\n",
      " {u'keywords': [],\n",
      "  u'title': u'',\n",
      "  u'url': u'http://arxiv.org/PS_cache/cond-mat/pdf/0412/0412004v3.pdf'},\n",
      " {u'keywords': [],\n",
      "  u'title': u'Reports | Human Development Reports',\n",
      "  u'url': u'http://hdr.undp.org/en/reports/global/hdr1992/chapters/'},\n",
      " {u'keywords': [u'.NET ', u' Security'],\n",
      "  u'title': u\"Microsoft's CEO: 80-20 Rule Applies To Bugs, Not Just Features - Page: 1 | CRN\",\n",
      "  u'url': u'http://www.crn.com/news/security/18821726/microsofts-ceo-80-20-rule-applies-to-bugs-not-just-features.htm'},\n",
      " {u'keywords': [u''],\n",
      "  u'title': u'\\n\\nKathryn Woodcock - Ryerson University\\n',\n",
      "  u'url': u'http://www.ryerson.ca/woodcock/'},\n",
      " {u'keywords': [],\n",
      "  u'title': u'USCG: Page Not Found',\n",
      "  u'url': u'http://www.uscg.mil/hq/cg5/cg5211/docs/RBDM_Files/PDF/RBDM_Guidelines/Volume%202/Volume%202-Chapter%206.pdf'},\n",
      " {u'keywords': [],\n",
      "  u'title': u'Growing Artificial Societies: Social Science from the Bottom Up - Joshua M. Epstein, Robert Axtell - Google Books',\n",
      "  u'url': u'https://books.google.com/?id=xXvelSs2caQC'},\n",
      " {u'keywords': [],\n",
      "  u'title': u'Home - providencejournal.com - Providence, RI',\n",
      "  u'url': u'http://www.projo.com/opinion/contributors/content/CT_weinberg27_07-27-09_HQF0P1E_v15.3f89889.html'},\n",
      " {u'keywords': [],\n",
      "  u'title': u'The Web site cannot be found',\n",
      "  u'url': u'http://www.dmacorporation.com/dmarecognized/MortgagePress.pdf'},\n",
      " {u'keywords': [],\n",
      "  u'title': u'On Line Calculator: Inequality',\n",
      "  u'url': u'http://www.poorcity.richcity.org/calculator/?quantiles=82.4,17.6%7C17.6,82.4'},\n",
      " {u'keywords': [],\n",
      "  u'title': u'Informetric distributions, part I: Unified overview - Bookstein - 1999 - Journal of the American Society for Information Science - Wiley Online Library',\n",
      "  u'url': u'//dx.doi.org/10.1002%2F(SICI)1097-4571(199007)41:5%3C368::AID-ASI8%3E3.0.CO;2-C'},\n",
      " {u'keywords': [],\n",
      "  u'title': u'\\n The Forbes 400 and the Pareto wealth distribution\\n ',\n",
      "  u'url': u'//dx.doi.org/10.1016%2Fj.econlet.2005.08.020'},\n",
      " {u'keywords': [],\n",
      "  u'title': u'The 80/20 Principle by Richard Koch - Read Online',\n",
      "  u'url': u'http://www.scribd.com/doc/3664882/The-8020-Principle-The-Secret-to-Success-by-Achieving-More-with-Less'},\n",
      " {u'keywords': [],\n",
      "  u'title': u'\\n The Pareto, Zipf and other power laws\\n ',\n",
      "  u'url': u'//dx.doi.org/10.1016%2FS0165-1765(01)00524-9'},\n",
      " {u'keywords': [],\n",
      "  u'title': u'\\n    The size distribution of cities: An examination of the Pareto law and primacy\\n',\n",
      "  u'url': u'//dx.doi.org/10.1016%2F0094-1190(80)90043-1'},\n",
      " {u'keywords': [],\n",
      "  u'title': u\"Pareto's Principle - The 80-20 Rule\",\n",
      "  u'url': u'http://management.about.com/cs/generalmanagement/a/Pareto081202.htm'},\n",
      " {u'keywords': [],\n",
      "  u'title': u'',\n",
      "  u'url': u'http://web.archive.org/web/20080528063231/http://www.ma.hw.ac.uk/~des/HWM00-26.pdf'}]\n",
      "\n",
      "\n",
      "u'Rank-size distribution'\n",
      "[{u'keywords': [],\n",
      "  u'title': u'Stretched exponential distributions in nature and economy: \\u201cfat tails\\u201d with characteristic scales - Springer',\n",
      "  u'url': u'http://www.springerlink.com/content/r57ryrkfx94xgdlx/'},\n",
      " {u'keywords': [],\n",
      "  u'title': u'Illustrating the Long Tail - Moz',\n",
      "  u'url': u'https://moz.com/blog/illustrating-the-long-tail'},\n",
      " {u'keywords': [],\n",
      "  u'title': u'403 Forbidden',\n",
      "  u'url': u'https://gigaom.com/2006/09/04/digg-that-fat-belly/'},\n",
      " {u'keywords': [u'long tail profit',\n",
      "                u' profiting from long tail',\n",
      "                u' profiting from the long tail',\n",
      "                u' long tail keyword profit',\n",
      "                u' long tail guide',\n",
      "                u' long tail keyword guide',\n",
      "                u' long tail keywords guide'],\n",
      "  u'title': u'The Long Tail SEO Keyword Optimization Guide - How to Profit from Long Tail Keywords | WordStream',\n",
      "  u'url': u'http://www.wordstream.com/blog/ws/08/03/09/long-tail-guide'},\n",
      " {u'keywords': [u'SharePoint Community', u' Inside Microsoft'],\n",
      "  u'title': u\"\\r\\n\\tBlogs - Lawrence Liu's Report from the Inside - Site Home - TechNet Blogs\\r\\n\",\n",
      "  u'url': u'http://blogs.technet.com/b/lliu/archive/2005/03/12/394732.aspx'},\n",
      " {u'keywords': [],\n",
      "  u'title': u'404 Not Found',\n",
      "  u'url': u'http://people.few.eur.nl/vanmarrewijk/geography/zipf/'}]\n",
      "\n",
      "\n"
     ]
    }
   ],
   "source": [
    "import pprint as pp\n",
    "\n",
    "for doc in collection.find({'extraexternal' : { '$exists' :  True } }):\n",
    "    pp.pprint(doc['title'])\n",
    "    pp.pprint(doc['extraexternal'])\n",
    "    print '\\n'"
   ]
  },
  {
   "cell_type": "code",
   "execution_count": null,
   "metadata": {
    "collapsed": true
   },
   "outputs": [],
   "source": []
  }
 ],
 "metadata": {
  "kernelspec": {
   "display_name": "Python 2",
   "language": "python",
   "name": "python2"
  },
  "language_info": {
   "codemirror_mode": {
    "name": "ipython",
    "version": 2
   },
   "file_extension": ".py",
   "mimetype": "text/x-python",
   "name": "python",
   "nbconvert_exporter": "python",
   "pygments_lexer": "ipython2",
   "version": "2.7.11"
  }
 },
 "nbformat": 4,
 "nbformat_minor": 0
}
