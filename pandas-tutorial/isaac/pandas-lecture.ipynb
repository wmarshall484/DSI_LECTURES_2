{
 "cells": [
  {
   "cell_type": "markdown",
   "metadata": {},
   "source": [
    "#Pandas\n",
    "\n",
    "##What is Pandas?\n",
    "A Python library providing data structures and data analysis tools.\n",
    "\n",
    "##Huh?\n",
    "Think of it like Excel for Python that doesn't suck."
   ]
  },
  {
   "cell_type": "code",
   "execution_count": 2,
   "metadata": {
    "collapsed": true
   },
   "outputs": [],
   "source": [
    "#By convention import pandas like:\n",
    "import pandas as pd\n",
    "#For fake data.\n",
    "from numpy.random import randn\n",
    "import numpy as np"
   ]
  },
  {
   "cell_type": "markdown",
   "metadata": {},
   "source": [
    "#Series\n",
    "Think of a Pandas Series as a _labeled_ one-dimensional vector. In fact, it need not be a numeric vector, it can contain arbitrary python objects."
   ]
  },
  {
   "cell_type": "code",
   "execution_count": 3,
   "metadata": {
    "collapsed": false
   },
   "outputs": [
    {
     "data": {
      "text/plain": [
       "0    0\n",
       "1    1\n",
       "2    2\n",
       "3    3\n",
       "4    4\n",
       "dtype: int64"
      ]
     },
     "execution_count": 3,
     "metadata": {},
     "output_type": "execute_result"
    }
   ],
   "source": [
    "int_series = pd.Series(range(10))\n",
    "int_series.head()"
   ]
  },
  {
   "cell_type": "code",
   "execution_count": 4,
   "metadata": {
    "collapsed": false
   },
   "outputs": [
    {
     "data": {
      "text/plain": [
       "0    1.212042\n",
       "1   -0.974782\n",
       "2   -0.043153\n",
       "3   -0.218214\n",
       "4    0.132688\n",
       "dtype: float64"
      ]
     },
     "execution_count": 4,
     "metadata": {},
     "output_type": "execute_result"
    }
   ],
   "source": [
    "num_series = pd.Series(randn(10))\n",
    "num_series.head()"
   ]
  },
  {
   "cell_type": "code",
   "execution_count": 5,
   "metadata": {
    "collapsed": false
   },
   "outputs": [
    {
     "data": {
      "text/plain": [
       "0    a\n",
       "1    b\n",
       "2    c\n",
       "3    d\n",
       "4    e\n",
       "dtype: object"
      ]
     },
     "execution_count": 5,
     "metadata": {},
     "output_type": "execute_result"
    }
   ],
   "source": [
    "str_series = pd.Series([x for x in 'abcde'*2])\n",
    "str_series.head()"
   ]
  },
  {
   "cell_type": "code",
   "execution_count": 6,
   "metadata": {
    "collapsed": false
   },
   "outputs": [
    {
     "data": {
      "text/plain": [
       "0    <function <lambda> at 0x109211cf8>\n",
       "1    <function <lambda> at 0x109211b90>\n",
       "2    <function <lambda> at 0x109211d70>\n",
       "3    <function <lambda> at 0x109211de8>\n",
       "4    <function <lambda> at 0x109211e60>\n",
       "dtype: object"
      ]
     },
     "execution_count": 6,
     "metadata": {},
     "output_type": "execute_result"
    }
   ],
   "source": [
    "fun_series = pd.Series([lambda x: x*i for i in range(10)])\n",
    "fun_series.head()"
   ]
  },
  {
   "cell_type": "markdown",
   "metadata": {},
   "source": [
    "#Indexes.\n",
    "Notice how each series has an index (in this case a relatively meaningless default index).\n",
    "\n",
    "Pandas can make great use of informative indexes. Indexes work similarly to a dictionary key, allowing fast lookups of the data associated with the index.\n",
    "\n",
    "Indexes can also be exploited for fast group-bys, merges, time-series operations and lots more.\n",
    "\n",
    "When you're really in the zone with pandas, you'll be thinking a lot about indexes."
   ]
  },
  {
   "cell_type": "code",
   "execution_count": 7,
   "metadata": {
    "collapsed": false
   },
   "outputs": [
    {
     "name": "stdout",
     "output_type": "stream",
     "text": [
      "California   -0.870324\n",
      "Alabama       1.041032\n",
      "Indiana      -0.203621\n",
      "Montana      -1.654428\n",
      "Kentucky      1.581031\n",
      "dtype: float64\n",
      "\n",
      "\n",
      "Washington    0.875304\n",
      "Alabama       0.827337\n",
      "Montana      -0.899027\n",
      "Indiana      -1.989425\n",
      "New York      1.083379\n",
      "dtype: float64\n"
     ]
    }
   ],
   "source": [
    "indexed_series = pd.Series(randn(5), \n",
    "                           index = ['California', 'Alabama', \n",
    "                                    'Indiana', 'Montana', \n",
    "                                    'Kentucky'])\n",
    "alt_indexed_series = pd.Series(randn(5),\n",
    "                               index = ['Washington', 'Alabama', \n",
    "                                        'Montana', 'Indiana', \n",
    "                                        'New York'])\n",
    "print indexed_series\n",
    "print '\\n'\n",
    "print alt_indexed_series"
   ]
  },
  {
   "cell_type": "code",
   "execution_count": 8,
   "metadata": {
    "collapsed": false
   },
   "outputs": [
    {
     "data": {
      "text/plain": [
       "Alabama       1.868369\n",
       "California         NaN\n",
       "Indiana      -2.193045\n",
       "Kentucky           NaN\n",
       "Montana      -2.553455\n",
       "New York           NaN\n",
       "Washington         NaN\n",
       "dtype: float64"
      ]
     },
     "execution_count": 8,
     "metadata": {},
     "output_type": "execute_result"
    }
   ],
   "source": [
    "#Pandas uses the index by default to align series for arithmetic!\n",
    "indexed_series + alt_indexed_series"
   ]
  },
  {
   "cell_type": "code",
   "execution_count": 9,
   "metadata": {
    "collapsed": false
   },
   "outputs": [
    {
     "data": {
      "text/plain": [
       "Alabama      -0.162075\n",
       "California    0.447403\n",
       "Indiana       0.283566\n",
       "Kentucky     -0.074788\n",
       "Montana       0.364133\n",
       "dtype: float64"
      ]
     },
     "execution_count": 9,
     "metadata": {},
     "output_type": "execute_result"
    }
   ],
   "source": [
    "indexed_series = pd.Series(randn(5*10), \n",
    "                           index = ['California', 'Alabama', \n",
    "                                    'Indiana', 'Montana', \n",
    "                                    'Kentucky']*10)\n",
    "#If you have non-unique indexes, you can use them \n",
    "#to do groupby operations.\n",
    "indexed_series.groupby(level=0).mean()"
   ]
  },
  {
   "cell_type": "code",
   "execution_count": 10,
   "metadata": {
    "collapsed": false
   },
   "outputs": [
    {
     "data": {
      "text/plain": [
       "2015-01-31    0.504738\n",
       "2015-02-28   -0.459458\n",
       "2015-03-31    0.506868\n",
       "2015-04-30   -0.915323\n",
       "2015-05-31    0.059727\n",
       "2015-06-30    0.575471\n",
       "2015-07-31   -0.474501\n",
       "2015-08-31    0.945958\n",
       "2015-09-30   -2.055448\n",
       "2015-10-31   -0.909151\n",
       "Freq: M, dtype: float64"
      ]
     },
     "execution_count": 10,
     "metadata": {},
     "output_type": "execute_result"
    }
   ],
   "source": [
    "#Datetime index\n",
    "dt_index = pd.date_range('2015-1-1', \n",
    "                        '2015-11-1', \n",
    "                        freq='m')\n",
    "dt_series = pd.Series(randn(10), \n",
    "                      index = dt_index)\n",
    "dt_series"
   ]
  },
  {
   "cell_type": "code",
   "execution_count": 11,
   "metadata": {
    "collapsed": false
   },
   "outputs": [
    {
     "data": {
      "text/plain": [
       "2015-03-31    0.184049\n",
       "2015-06-30   -0.093375\n",
       "2015-09-30   -0.527997\n",
       "2015-12-31   -0.909151\n",
       "Freq: Q-DEC, dtype: float64"
      ]
     },
     "execution_count": 11,
     "metadata": {},
     "output_type": "execute_result"
    }
   ],
   "source": [
    "#Datetime indexes make it easy to transform freqs etc!\n",
    "dt_series.resample('q')"
   ]
  },
  {
   "cell_type": "markdown",
   "metadata": {},
   "source": [
    "#DataFrames\n",
    "Data frames extend the concept of Series to table-like data."
   ]
  },
  {
   "cell_type": "code",
   "execution_count": 12,
   "metadata": {
    "collapsed": false
   },
   "outputs": [
    {
     "data": {
      "text/html": [
       "<div style=\"max-height:1000px;max-width:1500px;overflow:auto;\">\n",
       "<table border=\"1\" class=\"dataframe\">\n",
       "  <thead>\n",
       "    <tr style=\"text-align: right;\">\n",
       "      <th></th>\n",
       "      <th>a</th>\n",
       "      <th>b</th>\n",
       "      <th>c</th>\n",
       "      <th>d</th>\n",
       "      <th>e</th>\n",
       "    </tr>\n",
       "  </thead>\n",
       "  <tbody>\n",
       "    <tr>\n",
       "      <th>2015-01-31</th>\n",
       "      <td>-1.657205</td>\n",
       "      <td> 1.327598</td>\n",
       "      <td> 0.089523</td>\n",
       "      <td> 0.236615</td>\n",
       "      <td>-0.618540</td>\n",
       "    </tr>\n",
       "    <tr>\n",
       "      <th>2015-02-28</th>\n",
       "      <td> 0.205703</td>\n",
       "      <td> 0.492161</td>\n",
       "      <td>-0.908150</td>\n",
       "      <td>-1.046884</td>\n",
       "      <td>-1.866464</td>\n",
       "    </tr>\n",
       "    <tr>\n",
       "      <th>2015-03-31</th>\n",
       "      <td>-0.617292</td>\n",
       "      <td> 1.294780</td>\n",
       "      <td>-0.868324</td>\n",
       "      <td> 1.731087</td>\n",
       "      <td> 1.072597</td>\n",
       "    </tr>\n",
       "    <tr>\n",
       "      <th>2015-04-30</th>\n",
       "      <td>-0.401299</td>\n",
       "      <td> 1.053874</td>\n",
       "      <td>-2.168286</td>\n",
       "      <td> 0.239333</td>\n",
       "      <td>-0.065319</td>\n",
       "    </tr>\n",
       "    <tr>\n",
       "      <th>2015-05-31</th>\n",
       "      <td> 0.776351</td>\n",
       "      <td>-0.168937</td>\n",
       "      <td> 0.766012</td>\n",
       "      <td>-0.893749</td>\n",
       "      <td>-0.384974</td>\n",
       "    </tr>\n",
       "    <tr>\n",
       "      <th>2015-06-30</th>\n",
       "      <td>-0.950140</td>\n",
       "      <td> 1.092466</td>\n",
       "      <td> 0.251853</td>\n",
       "      <td>-0.627443</td>\n",
       "      <td>-0.774666</td>\n",
       "    </tr>\n",
       "    <tr>\n",
       "      <th>2015-07-31</th>\n",
       "      <td>-0.043847</td>\n",
       "      <td>-1.650048</td>\n",
       "      <td> 0.212819</td>\n",
       "      <td>-0.910350</td>\n",
       "      <td>-0.148582</td>\n",
       "    </tr>\n",
       "    <tr>\n",
       "      <th>2015-08-31</th>\n",
       "      <td> 0.309600</td>\n",
       "      <td> 0.133462</td>\n",
       "      <td>-0.274229</td>\n",
       "      <td> 0.164151</td>\n",
       "      <td> 0.170393</td>\n",
       "    </tr>\n",
       "    <tr>\n",
       "      <th>2015-09-30</th>\n",
       "      <td>-0.519885</td>\n",
       "      <td>-0.994730</td>\n",
       "      <td>-0.023866</td>\n",
       "      <td> 1.131055</td>\n",
       "      <td> 1.542167</td>\n",
       "    </tr>\n",
       "    <tr>\n",
       "      <th>2015-10-31</th>\n",
       "      <td> 0.080585</td>\n",
       "      <td>-1.175553</td>\n",
       "      <td>-1.044394</td>\n",
       "      <td> 1.079449</td>\n",
       "      <td> 0.450442</td>\n",
       "    </tr>\n",
       "  </tbody>\n",
       "</table>\n",
       "</div>"
      ],
      "text/plain": [
       "                   a         b         c         d         e\n",
       "2015-01-31 -1.657205  1.327598  0.089523  0.236615 -0.618540\n",
       "2015-02-28  0.205703  0.492161 -0.908150 -1.046884 -1.866464\n",
       "2015-03-31 -0.617292  1.294780 -0.868324  1.731087  1.072597\n",
       "2015-04-30 -0.401299  1.053874 -2.168286  0.239333 -0.065319\n",
       "2015-05-31  0.776351 -0.168937  0.766012 -0.893749 -0.384974\n",
       "2015-06-30 -0.950140  1.092466  0.251853 -0.627443 -0.774666\n",
       "2015-07-31 -0.043847 -1.650048  0.212819 -0.910350 -0.148582\n",
       "2015-08-31  0.309600  0.133462 -0.274229  0.164151  0.170393\n",
       "2015-09-30 -0.519885 -0.994730 -0.023866  1.131055  1.542167\n",
       "2015-10-31  0.080585 -1.175553 -1.044394  1.079449  0.450442"
      ]
     },
     "execution_count": 12,
     "metadata": {},
     "output_type": "execute_result"
    }
   ],
   "source": [
    "df = pd.DataFrame(randn(10, 5), index=dt_index, columns=[x for x in 'abcde'])\n",
    "df"
   ]
  },
  {
   "cell_type": "code",
   "execution_count": 13,
   "metadata": {
    "collapsed": false
   },
   "outputs": [
    {
     "data": {
      "text/plain": [
       "pandas.core.series.Series"
      ]
     },
     "execution_count": 13,
     "metadata": {},
     "output_type": "execute_result"
    }
   ],
   "source": [
    "#A dataframes columns are series:\n",
    "col = df.a\n",
    "type(col)"
   ]
  },
  {
   "cell_type": "code",
   "execution_count": 14,
   "metadata": {
    "collapsed": false
   },
   "outputs": [
    {
     "data": {
      "text/plain": [
       "pandas.core.series.Series"
      ]
     },
     "execution_count": 14,
     "metadata": {},
     "output_type": "execute_result"
    }
   ],
   "source": [
    "#So are the rows.\n",
    "row = df.ix['2015-01-31']\n",
    "type(row)"
   ]
  },
  {
   "cell_type": "code",
   "execution_count": 15,
   "metadata": {
    "collapsed": false
   },
   "outputs": [
    {
     "data": {
      "text/plain": [
       "<class 'pandas.tseries.index.DatetimeIndex'>\n",
       "[2015-01-31, ..., 2015-10-31]\n",
       "Length: 10, Freq: M, Timezone: None"
      ]
     },
     "execution_count": 15,
     "metadata": {},
     "output_type": "execute_result"
    }
   ],
   "source": [
    "#The columns all have the same index:\n",
    "col.index   "
   ]
  },
  {
   "cell_type": "code",
   "execution_count": 16,
   "metadata": {
    "collapsed": false
   },
   "outputs": [
    {
     "data": {
      "text/plain": [
       "Index([u'a', u'b', u'c', u'd', u'e'], dtype='object')"
      ]
     },
     "execution_count": 16,
     "metadata": {},
     "output_type": "execute_result"
    }
   ],
   "source": [
    "#What's the index for the rows?\n",
    "row.index"
   ]
  },
  {
   "cell_type": "markdown",
   "metadata": {},
   "source": [
    "#DataFrame basics"
   ]
  },
  {
   "cell_type": "code",
   "execution_count": 17,
   "metadata": {
    "collapsed": false
   },
   "outputs": [
    {
     "data": {
      "text/html": [
       "<div style=\"max-height:1000px;max-width:1500px;overflow:auto;\">\n",
       "<table border=\"1\" class=\"dataframe\">\n",
       "  <thead>\n",
       "    <tr style=\"text-align: right;\">\n",
       "      <th></th>\n",
       "      <th>a</th>\n",
       "      <th>b</th>\n",
       "      <th>c</th>\n",
       "      <th>d</th>\n",
       "      <th>e</th>\n",
       "      <th>new</th>\n",
       "    </tr>\n",
       "  </thead>\n",
       "  <tbody>\n",
       "    <tr>\n",
       "      <th>2015-01-31</th>\n",
       "      <td>-1.657205</td>\n",
       "      <td> 1.327598</td>\n",
       "      <td> 0.089523</td>\n",
       "      <td> 0.236615</td>\n",
       "      <td>-0.618540</td>\n",
       "      <td>-0.329607</td>\n",
       "    </tr>\n",
       "    <tr>\n",
       "      <th>2015-02-28</th>\n",
       "      <td> 0.205703</td>\n",
       "      <td> 0.492161</td>\n",
       "      <td>-0.908150</td>\n",
       "      <td>-1.046884</td>\n",
       "      <td>-1.866464</td>\n",
       "      <td> 0.697864</td>\n",
       "    </tr>\n",
       "    <tr>\n",
       "      <th>2015-03-31</th>\n",
       "      <td>-0.617292</td>\n",
       "      <td> 1.294780</td>\n",
       "      <td>-0.868324</td>\n",
       "      <td> 1.731087</td>\n",
       "      <td> 1.072597</td>\n",
       "      <td> 0.677488</td>\n",
       "    </tr>\n",
       "    <tr>\n",
       "      <th>2015-04-30</th>\n",
       "      <td>-0.401299</td>\n",
       "      <td> 1.053874</td>\n",
       "      <td>-2.168286</td>\n",
       "      <td> 0.239333</td>\n",
       "      <td>-0.065319</td>\n",
       "      <td> 0.652575</td>\n",
       "    </tr>\n",
       "    <tr>\n",
       "      <th>2015-05-31</th>\n",
       "      <td> 0.776351</td>\n",
       "      <td>-0.168937</td>\n",
       "      <td> 0.766012</td>\n",
       "      <td>-0.893749</td>\n",
       "      <td>-0.384974</td>\n",
       "      <td> 0.607414</td>\n",
       "    </tr>\n",
       "    <tr>\n",
       "      <th>2015-06-30</th>\n",
       "      <td>-0.950140</td>\n",
       "      <td> 1.092466</td>\n",
       "      <td> 0.251853</td>\n",
       "      <td>-0.627443</td>\n",
       "      <td>-0.774666</td>\n",
       "      <td> 0.142326</td>\n",
       "    </tr>\n",
       "    <tr>\n",
       "      <th>2015-07-31</th>\n",
       "      <td>-0.043847</td>\n",
       "      <td>-1.650048</td>\n",
       "      <td> 0.212819</td>\n",
       "      <td>-0.910350</td>\n",
       "      <td>-0.148582</td>\n",
       "      <td>-1.693895</td>\n",
       "    </tr>\n",
       "    <tr>\n",
       "      <th>2015-08-31</th>\n",
       "      <td> 0.309600</td>\n",
       "      <td> 0.133462</td>\n",
       "      <td>-0.274229</td>\n",
       "      <td> 0.164151</td>\n",
       "      <td> 0.170393</td>\n",
       "      <td> 0.443061</td>\n",
       "    </tr>\n",
       "    <tr>\n",
       "      <th>2015-09-30</th>\n",
       "      <td>-0.519885</td>\n",
       "      <td>-0.994730</td>\n",
       "      <td>-0.023866</td>\n",
       "      <td> 1.131055</td>\n",
       "      <td> 1.542167</td>\n",
       "      <td>-1.514614</td>\n",
       "    </tr>\n",
       "    <tr>\n",
       "      <th>2015-10-31</th>\n",
       "      <td> 0.080585</td>\n",
       "      <td>-1.175553</td>\n",
       "      <td>-1.044394</td>\n",
       "      <td> 1.079449</td>\n",
       "      <td> 0.450442</td>\n",
       "      <td>-1.094968</td>\n",
       "    </tr>\n",
       "  </tbody>\n",
       "</table>\n",
       "</div>"
      ],
      "text/plain": [
       "                   a         b         c         d         e       new\n",
       "2015-01-31 -1.657205  1.327598  0.089523  0.236615 -0.618540 -0.329607\n",
       "2015-02-28  0.205703  0.492161 -0.908150 -1.046884 -1.866464  0.697864\n",
       "2015-03-31 -0.617292  1.294780 -0.868324  1.731087  1.072597  0.677488\n",
       "2015-04-30 -0.401299  1.053874 -2.168286  0.239333 -0.065319  0.652575\n",
       "2015-05-31  0.776351 -0.168937  0.766012 -0.893749 -0.384974  0.607414\n",
       "2015-06-30 -0.950140  1.092466  0.251853 -0.627443 -0.774666  0.142326\n",
       "2015-07-31 -0.043847 -1.650048  0.212819 -0.910350 -0.148582 -1.693895\n",
       "2015-08-31  0.309600  0.133462 -0.274229  0.164151  0.170393  0.443061\n",
       "2015-09-30 -0.519885 -0.994730 -0.023866  1.131055  1.542167 -1.514614\n",
       "2015-10-31  0.080585 -1.175553 -1.044394  1.079449  0.450442 -1.094968"
      ]
     },
     "execution_count": 17,
     "metadata": {},
     "output_type": "execute_result"
    }
   ],
   "source": [
    "#New column\n",
    "df['new'] = df['a'] + df['b']\n",
    "df"
   ]
  },
  {
   "cell_type": "code",
   "execution_count": 18,
   "metadata": {
    "collapsed": false
   },
   "outputs": [
    {
     "data": {
      "text/html": [
       "<div style=\"max-height:1000px;max-width:1500px;overflow:auto;\">\n",
       "<table border=\"1\" class=\"dataframe\">\n",
       "  <thead>\n",
       "    <tr style=\"text-align: right;\">\n",
       "      <th></th>\n",
       "      <th>a</th>\n",
       "      <th>b</th>\n",
       "      <th>c</th>\n",
       "      <th>d</th>\n",
       "      <th>e</th>\n",
       "    </tr>\n",
       "  </thead>\n",
       "  <tbody>\n",
       "    <tr>\n",
       "      <th>2015-01-31</th>\n",
       "      <td>-1.657205</td>\n",
       "      <td> 1.327598</td>\n",
       "      <td> 0.089523</td>\n",
       "      <td> 0.236615</td>\n",
       "      <td>-0.618540</td>\n",
       "    </tr>\n",
       "    <tr>\n",
       "      <th>2015-02-28</th>\n",
       "      <td> 0.205703</td>\n",
       "      <td> 0.492161</td>\n",
       "      <td>-0.908150</td>\n",
       "      <td>-1.046884</td>\n",
       "      <td>-1.866464</td>\n",
       "    </tr>\n",
       "    <tr>\n",
       "      <th>2015-03-31</th>\n",
       "      <td>-0.617292</td>\n",
       "      <td> 1.294780</td>\n",
       "      <td>-0.868324</td>\n",
       "      <td> 1.731087</td>\n",
       "      <td> 1.072597</td>\n",
       "    </tr>\n",
       "    <tr>\n",
       "      <th>2015-04-30</th>\n",
       "      <td>-0.401299</td>\n",
       "      <td> 1.053874</td>\n",
       "      <td>-2.168286</td>\n",
       "      <td> 0.239333</td>\n",
       "      <td>-0.065319</td>\n",
       "    </tr>\n",
       "    <tr>\n",
       "      <th>2015-05-31</th>\n",
       "      <td> 0.776351</td>\n",
       "      <td>-0.168937</td>\n",
       "      <td> 0.766012</td>\n",
       "      <td>-0.893749</td>\n",
       "      <td>-0.384974</td>\n",
       "    </tr>\n",
       "    <tr>\n",
       "      <th>2015-06-30</th>\n",
       "      <td>-0.950140</td>\n",
       "      <td> 1.092466</td>\n",
       "      <td> 0.251853</td>\n",
       "      <td>-0.627443</td>\n",
       "      <td>-0.774666</td>\n",
       "    </tr>\n",
       "    <tr>\n",
       "      <th>2015-07-31</th>\n",
       "      <td>-0.043847</td>\n",
       "      <td>-1.650048</td>\n",
       "      <td> 0.212819</td>\n",
       "      <td>-0.910350</td>\n",
       "      <td>-0.148582</td>\n",
       "    </tr>\n",
       "    <tr>\n",
       "      <th>2015-08-31</th>\n",
       "      <td> 0.309600</td>\n",
       "      <td> 0.133462</td>\n",
       "      <td>-0.274229</td>\n",
       "      <td> 0.164151</td>\n",
       "      <td> 0.170393</td>\n",
       "    </tr>\n",
       "    <tr>\n",
       "      <th>2015-09-30</th>\n",
       "      <td>-0.519885</td>\n",
       "      <td>-0.994730</td>\n",
       "      <td>-0.023866</td>\n",
       "      <td> 1.131055</td>\n",
       "      <td> 1.542167</td>\n",
       "    </tr>\n",
       "    <tr>\n",
       "      <th>2015-10-31</th>\n",
       "      <td> 0.080585</td>\n",
       "      <td>-1.175553</td>\n",
       "      <td>-1.044394</td>\n",
       "      <td> 1.079449</td>\n",
       "      <td> 0.450442</td>\n",
       "    </tr>\n",
       "  </tbody>\n",
       "</table>\n",
       "</div>"
      ],
      "text/plain": [
       "                   a         b         c         d         e\n",
       "2015-01-31 -1.657205  1.327598  0.089523  0.236615 -0.618540\n",
       "2015-02-28  0.205703  0.492161 -0.908150 -1.046884 -1.866464\n",
       "2015-03-31 -0.617292  1.294780 -0.868324  1.731087  1.072597\n",
       "2015-04-30 -0.401299  1.053874 -2.168286  0.239333 -0.065319\n",
       "2015-05-31  0.776351 -0.168937  0.766012 -0.893749 -0.384974\n",
       "2015-06-30 -0.950140  1.092466  0.251853 -0.627443 -0.774666\n",
       "2015-07-31 -0.043847 -1.650048  0.212819 -0.910350 -0.148582\n",
       "2015-08-31  0.309600  0.133462 -0.274229  0.164151  0.170393\n",
       "2015-09-30 -0.519885 -0.994730 -0.023866  1.131055  1.542167\n",
       "2015-10-31  0.080585 -1.175553 -1.044394  1.079449  0.450442"
      ]
     },
     "execution_count": 18,
     "metadata": {},
     "output_type": "execute_result"
    }
   ],
   "source": [
    "#Delete a column\n",
    "df.drop('new', axis=1)"
   ]
  },
  {
   "cell_type": "markdown",
   "metadata": {},
   "source": [
    "##Axis?\n",
    "Because pandas thinks of rows and columns as both being series, anything we can do to rows we can do to columns too. \n",
    "\n",
    "Axis describes which one we want to do it to. 0=rows, 1=columns."
   ]
  },
  {
   "cell_type": "code",
   "execution_count": 19,
   "metadata": {
    "collapsed": false
   },
   "outputs": [
    {
     "data": {
      "text/html": [
       "<div style=\"max-height:1000px;max-width:1500px;overflow:auto;\">\n",
       "<table border=\"1\" class=\"dataframe\">\n",
       "  <thead>\n",
       "    <tr style=\"text-align: right;\">\n",
       "      <th></th>\n",
       "      <th>a</th>\n",
       "      <th>b</th>\n",
       "      <th>c</th>\n",
       "      <th>d</th>\n",
       "      <th>e</th>\n",
       "      <th>new</th>\n",
       "    </tr>\n",
       "  </thead>\n",
       "  <tbody>\n",
       "    <tr>\n",
       "      <th>2015-01-31</th>\n",
       "      <td>-1.657205</td>\n",
       "      <td> 1.327598</td>\n",
       "      <td> 0.089523</td>\n",
       "      <td> 0.236615</td>\n",
       "      <td>-0.618540</td>\n",
       "      <td>-0.329607</td>\n",
       "    </tr>\n",
       "    <tr>\n",
       "      <th>2015-02-28</th>\n",
       "      <td> 0.205703</td>\n",
       "      <td> 0.492161</td>\n",
       "      <td>-0.908150</td>\n",
       "      <td>-1.046884</td>\n",
       "      <td>-1.866464</td>\n",
       "      <td> 0.697864</td>\n",
       "    </tr>\n",
       "    <tr>\n",
       "      <th>2015-03-31</th>\n",
       "      <td>-0.617292</td>\n",
       "      <td> 1.294780</td>\n",
       "      <td>-0.868324</td>\n",
       "      <td> 1.731087</td>\n",
       "      <td> 1.072597</td>\n",
       "      <td> 0.677488</td>\n",
       "    </tr>\n",
       "    <tr>\n",
       "      <th>2015-05-31</th>\n",
       "      <td> 0.776351</td>\n",
       "      <td>-0.168937</td>\n",
       "      <td> 0.766012</td>\n",
       "      <td>-0.893749</td>\n",
       "      <td>-0.384974</td>\n",
       "      <td> 0.607414</td>\n",
       "    </tr>\n",
       "    <tr>\n",
       "      <th>2015-06-30</th>\n",
       "      <td>-0.950140</td>\n",
       "      <td> 1.092466</td>\n",
       "      <td> 0.251853</td>\n",
       "      <td>-0.627443</td>\n",
       "      <td>-0.774666</td>\n",
       "      <td> 0.142326</td>\n",
       "    </tr>\n",
       "    <tr>\n",
       "      <th>2015-07-31</th>\n",
       "      <td>-0.043847</td>\n",
       "      <td>-1.650048</td>\n",
       "      <td> 0.212819</td>\n",
       "      <td>-0.910350</td>\n",
       "      <td>-0.148582</td>\n",
       "      <td>-1.693895</td>\n",
       "    </tr>\n",
       "    <tr>\n",
       "      <th>2015-08-31</th>\n",
       "      <td> 0.309600</td>\n",
       "      <td> 0.133462</td>\n",
       "      <td>-0.274229</td>\n",
       "      <td> 0.164151</td>\n",
       "      <td> 0.170393</td>\n",
       "      <td> 0.443061</td>\n",
       "    </tr>\n",
       "    <tr>\n",
       "      <th>2015-09-30</th>\n",
       "      <td>-0.519885</td>\n",
       "      <td>-0.994730</td>\n",
       "      <td>-0.023866</td>\n",
       "      <td> 1.131055</td>\n",
       "      <td> 1.542167</td>\n",
       "      <td>-1.514614</td>\n",
       "    </tr>\n",
       "    <tr>\n",
       "      <th>2015-10-31</th>\n",
       "      <td> 0.080585</td>\n",
       "      <td>-1.175553</td>\n",
       "      <td>-1.044394</td>\n",
       "      <td> 1.079449</td>\n",
       "      <td> 0.450442</td>\n",
       "      <td>-1.094968</td>\n",
       "    </tr>\n",
       "  </tbody>\n",
       "</table>\n",
       "</div>"
      ],
      "text/plain": [
       "                   a         b         c         d         e       new\n",
       "2015-01-31 -1.657205  1.327598  0.089523  0.236615 -0.618540 -0.329607\n",
       "2015-02-28  0.205703  0.492161 -0.908150 -1.046884 -1.866464  0.697864\n",
       "2015-03-31 -0.617292  1.294780 -0.868324  1.731087  1.072597  0.677488\n",
       "2015-05-31  0.776351 -0.168937  0.766012 -0.893749 -0.384974  0.607414\n",
       "2015-06-30 -0.950140  1.092466  0.251853 -0.627443 -0.774666  0.142326\n",
       "2015-07-31 -0.043847 -1.650048  0.212819 -0.910350 -0.148582 -1.693895\n",
       "2015-08-31  0.309600  0.133462 -0.274229  0.164151  0.170393  0.443061\n",
       "2015-09-30 -0.519885 -0.994730 -0.023866  1.131055  1.542167 -1.514614\n",
       "2015-10-31  0.080585 -1.175553 -1.044394  1.079449  0.450442 -1.094968"
      ]
     },
     "execution_count": 19,
     "metadata": {},
     "output_type": "execute_result"
    }
   ],
   "source": [
    "lbl = pd.Timestamp('2015-04-30 00:00:00', offset='M')\n",
    "df.drop(lbl, axis=0)"
   ]
  },
  {
   "cell_type": "markdown",
   "metadata": {},
   "source": [
    "#Selecting subsets.\n",
    "There a couple of ways to select a subset of a python data frame."
   ]
  },
  {
   "cell_type": "code",
   "execution_count": 20,
   "metadata": {
    "collapsed": false
   },
   "outputs": [
    {
     "data": {
      "text/html": [
       "<div style=\"max-height:1000px;max-width:1500px;overflow:auto;\">\n",
       "<table border=\"1\" class=\"dataframe\">\n",
       "  <thead>\n",
       "    <tr style=\"text-align: right;\">\n",
       "      <th></th>\n",
       "      <th>a</th>\n",
       "      <th>b</th>\n",
       "      <th>c</th>\n",
       "      <th>d</th>\n",
       "      <th>e</th>\n",
       "      <th>new</th>\n",
       "    </tr>\n",
       "  </thead>\n",
       "  <tbody>\n",
       "    <tr>\n",
       "      <th>2015-02-28</th>\n",
       "      <td> 0.205703</td>\n",
       "      <td> 0.492161</td>\n",
       "      <td>-0.908150</td>\n",
       "      <td>-1.046884</td>\n",
       "      <td>-1.866464</td>\n",
       "      <td> 0.697864</td>\n",
       "    </tr>\n",
       "    <tr>\n",
       "      <th>2015-05-31</th>\n",
       "      <td> 0.776351</td>\n",
       "      <td>-0.168937</td>\n",
       "      <td> 0.766012</td>\n",
       "      <td>-0.893749</td>\n",
       "      <td>-0.384974</td>\n",
       "      <td> 0.607414</td>\n",
       "    </tr>\n",
       "    <tr>\n",
       "      <th>2015-08-31</th>\n",
       "      <td> 0.309600</td>\n",
       "      <td> 0.133462</td>\n",
       "      <td>-0.274229</td>\n",
       "      <td> 0.164151</td>\n",
       "      <td> 0.170393</td>\n",
       "      <td> 0.443061</td>\n",
       "    </tr>\n",
       "    <tr>\n",
       "      <th>2015-10-31</th>\n",
       "      <td> 0.080585</td>\n",
       "      <td>-1.175553</td>\n",
       "      <td>-1.044394</td>\n",
       "      <td> 1.079449</td>\n",
       "      <td> 0.450442</td>\n",
       "      <td>-1.094968</td>\n",
       "    </tr>\n",
       "  </tbody>\n",
       "</table>\n",
       "</div>"
      ],
      "text/plain": [
       "                   a         b         c         d         e       new\n",
       "2015-02-28  0.205703  0.492161 -0.908150 -1.046884 -1.866464  0.697864\n",
       "2015-05-31  0.776351 -0.168937  0.766012 -0.893749 -0.384974  0.607414\n",
       "2015-08-31  0.309600  0.133462 -0.274229  0.164151  0.170393  0.443061\n",
       "2015-10-31  0.080585 -1.175553 -1.044394  1.079449  0.450442 -1.094968"
      ]
     },
     "execution_count": 20,
     "metadata": {},
     "output_type": "execute_result"
    }
   ],
   "source": [
    "#To subset the rows, you can use the convenient:\n",
    "df[df.a > 0]"
   ]
  },
  {
   "cell_type": "code",
   "execution_count": 21,
   "metadata": {
    "collapsed": false
   },
   "outputs": [
    {
     "data": {
      "text/html": [
       "<div style=\"max-height:1000px;max-width:1500px;overflow:auto;\">\n",
       "<table border=\"1\" class=\"dataframe\">\n",
       "  <thead>\n",
       "    <tr style=\"text-align: right;\">\n",
       "      <th></th>\n",
       "      <th>a</th>\n",
       "      <th>b</th>\n",
       "      <th>c</th>\n",
       "      <th>d</th>\n",
       "      <th>e</th>\n",
       "      <th>new</th>\n",
       "    </tr>\n",
       "  </thead>\n",
       "  <tbody>\n",
       "    <tr>\n",
       "      <th>2015-02-28</th>\n",
       "      <td> 0.205703</td>\n",
       "      <td> 0.492161</td>\n",
       "      <td>-0.908150</td>\n",
       "      <td>-1.046884</td>\n",
       "      <td>-1.866464</td>\n",
       "      <td> 0.697864</td>\n",
       "    </tr>\n",
       "    <tr>\n",
       "      <th>2015-08-31</th>\n",
       "      <td> 0.309600</td>\n",
       "      <td> 0.133462</td>\n",
       "      <td>-0.274229</td>\n",
       "      <td> 0.164151</td>\n",
       "      <td> 0.170393</td>\n",
       "      <td> 0.443061</td>\n",
       "    </tr>\n",
       "    <tr>\n",
       "      <th>2015-10-31</th>\n",
       "      <td> 0.080585</td>\n",
       "      <td>-1.175553</td>\n",
       "      <td>-1.044394</td>\n",
       "      <td> 1.079449</td>\n",
       "      <td> 0.450442</td>\n",
       "      <td>-1.094968</td>\n",
       "    </tr>\n",
       "  </tbody>\n",
       "</table>\n",
       "</div>"
      ],
      "text/plain": [
       "                   a         b         c         d         e       new\n",
       "2015-02-28  0.205703  0.492161 -0.908150 -1.046884 -1.866464  0.697864\n",
       "2015-08-31  0.309600  0.133462 -0.274229  0.164151  0.170393  0.443061\n",
       "2015-10-31  0.080585 -1.175553 -1.044394  1.079449  0.450442 -1.094968"
      ]
     },
     "execution_count": 21,
     "metadata": {},
     "output_type": "execute_result"
    }
   ],
   "source": [
    "#Or combine multiple conditions:\n",
    "df[(df.a > 0) & (df.c < 0)]"
   ]
  },
  {
   "cell_type": "code",
   "execution_count": 22,
   "metadata": {
    "collapsed": false
   },
   "outputs": [
    {
     "data": {
      "text/plain": [
       "2015-01-31   -1.657205\n",
       "2015-02-28    0.205703\n",
       "2015-03-31   -0.617292\n",
       "2015-04-30   -0.401299\n",
       "2015-05-31    0.776351\n",
       "2015-06-30   -0.950140\n",
       "2015-07-31   -0.043847\n",
       "2015-08-31    0.309600\n",
       "2015-09-30   -0.519885\n",
       "2015-10-31    0.080585\n",
       "Freq: M, Name: a, dtype: float64"
      ]
     },
     "execution_count": 22,
     "metadata": {},
     "output_type": "execute_result"
    }
   ],
   "source": [
    "#Selecting a column\n",
    "df.a\n",
    "#Works sometimes."
   ]
  },
  {
   "cell_type": "code",
   "execution_count": 23,
   "metadata": {
    "collapsed": false
   },
   "outputs": [
    {
     "data": {
      "text/plain": [
       "2015-01-31   -1.657205\n",
       "2015-02-28    0.205703\n",
       "2015-03-31   -0.617292\n",
       "2015-04-30   -0.401299\n",
       "2015-05-31    0.776351\n",
       "2015-06-30   -0.950140\n",
       "2015-07-31   -0.043847\n",
       "2015-08-31    0.309600\n",
       "2015-09-30   -0.519885\n",
       "2015-10-31    0.080585\n",
       "Freq: M, Name: a, dtype: float64"
      ]
     },
     "execution_count": 23,
     "metadata": {},
     "output_type": "execute_result"
    }
   ],
   "source": [
    "df['a'] #works always"
   ]
  },
  {
   "cell_type": "code",
   "execution_count": 24,
   "metadata": {
    "collapsed": false
   },
   "outputs": [
    {
     "data": {
      "text/html": [
       "<div style=\"max-height:1000px;max-width:1500px;overflow:auto;\">\n",
       "<table border=\"1\" class=\"dataframe\">\n",
       "  <thead>\n",
       "    <tr style=\"text-align: right;\">\n",
       "      <th></th>\n",
       "      <th>a</th>\n",
       "      <th>b</th>\n",
       "    </tr>\n",
       "  </thead>\n",
       "  <tbody>\n",
       "    <tr>\n",
       "      <th>2015-01-31</th>\n",
       "      <td>-1.657205</td>\n",
       "      <td> 1.327598</td>\n",
       "    </tr>\n",
       "    <tr>\n",
       "      <th>2015-02-28</th>\n",
       "      <td> 0.205703</td>\n",
       "      <td> 0.492161</td>\n",
       "    </tr>\n",
       "    <tr>\n",
       "      <th>2015-03-31</th>\n",
       "      <td>-0.617292</td>\n",
       "      <td> 1.294780</td>\n",
       "    </tr>\n",
       "    <tr>\n",
       "      <th>2015-04-30</th>\n",
       "      <td>-0.401299</td>\n",
       "      <td> 1.053874</td>\n",
       "    </tr>\n",
       "    <tr>\n",
       "      <th>2015-05-31</th>\n",
       "      <td> 0.776351</td>\n",
       "      <td>-0.168937</td>\n",
       "    </tr>\n",
       "    <tr>\n",
       "      <th>2015-06-30</th>\n",
       "      <td>-0.950140</td>\n",
       "      <td> 1.092466</td>\n",
       "    </tr>\n",
       "    <tr>\n",
       "      <th>2015-07-31</th>\n",
       "      <td>-0.043847</td>\n",
       "      <td>-1.650048</td>\n",
       "    </tr>\n",
       "    <tr>\n",
       "      <th>2015-08-31</th>\n",
       "      <td> 0.309600</td>\n",
       "      <td> 0.133462</td>\n",
       "    </tr>\n",
       "    <tr>\n",
       "      <th>2015-09-30</th>\n",
       "      <td>-0.519885</td>\n",
       "      <td>-0.994730</td>\n",
       "    </tr>\n",
       "    <tr>\n",
       "      <th>2015-10-31</th>\n",
       "      <td> 0.080585</td>\n",
       "      <td>-1.175553</td>\n",
       "    </tr>\n",
       "  </tbody>\n",
       "</table>\n",
       "</div>"
      ],
      "text/plain": [
       "                   a         b\n",
       "2015-01-31 -1.657205  1.327598\n",
       "2015-02-28  0.205703  0.492161\n",
       "2015-03-31 -0.617292  1.294780\n",
       "2015-04-30 -0.401299  1.053874\n",
       "2015-05-31  0.776351 -0.168937\n",
       "2015-06-30 -0.950140  1.092466\n",
       "2015-07-31 -0.043847 -1.650048\n",
       "2015-08-31  0.309600  0.133462\n",
       "2015-09-30 -0.519885 -0.994730\n",
       "2015-10-31  0.080585 -1.175553"
      ]
     },
     "execution_count": 24,
     "metadata": {},
     "output_type": "execute_result"
    }
   ],
   "source": [
    "df[['a', 'b']]\n",
    "#Or a subset of columns"
   ]
  },
  {
   "cell_type": "markdown",
   "metadata": {},
   "source": [
    "#Advanced selection.\n",
    "The above methods work for simple types of selections, but what if you need something more complex?"
   ]
  },
  {
   "cell_type": "code",
   "execution_count": 25,
   "metadata": {
    "collapsed": false
   },
   "outputs": [
    {
     "data": {
      "text/html": [
       "<div style=\"max-height:1000px;max-width:1500px;overflow:auto;\">\n",
       "<table border=\"1\" class=\"dataframe\">\n",
       "  <thead>\n",
       "    <tr style=\"text-align: right;\">\n",
       "      <th></th>\n",
       "      <th>c</th>\n",
       "      <th>d</th>\n",
       "      <th>e</th>\n",
       "    </tr>\n",
       "  </thead>\n",
       "  <tbody>\n",
       "    <tr>\n",
       "      <th>2015-05-31</th>\n",
       "      <td> 0.766012</td>\n",
       "      <td>-0.893749</td>\n",
       "      <td>-0.384974</td>\n",
       "    </tr>\n",
       "    <tr>\n",
       "      <th>2015-06-30</th>\n",
       "      <td> 0.251853</td>\n",
       "      <td>-0.627443</td>\n",
       "      <td>-0.774666</td>\n",
       "    </tr>\n",
       "    <tr>\n",
       "      <th>2015-07-31</th>\n",
       "      <td> 0.212819</td>\n",
       "      <td>-0.910350</td>\n",
       "      <td>-0.148582</td>\n",
       "    </tr>\n",
       "    <tr>\n",
       "      <th>2015-08-31</th>\n",
       "      <td>-0.274229</td>\n",
       "      <td> 0.164151</td>\n",
       "      <td> 0.170393</td>\n",
       "    </tr>\n",
       "  </tbody>\n",
       "</table>\n",
       "</div>"
      ],
      "text/plain": [
       "                   c         d         e\n",
       "2015-05-31  0.766012 -0.893749 -0.384974\n",
       "2015-06-30  0.251853 -0.627443 -0.774666\n",
       "2015-07-31  0.212819 -0.910350 -0.148582\n",
       "2015-08-31 -0.274229  0.164151  0.170393"
      ]
     },
     "execution_count": 25,
     "metadata": {},
     "output_type": "execute_result"
    }
   ],
   "source": [
    "df.loc['2015-05-31':'2015-08-31', 'c':'e'] #Ranges by label."
   ]
  },
  {
   "cell_type": "code",
   "execution_count": 26,
   "metadata": {
    "collapsed": false
   },
   "outputs": [
    {
     "data": {
      "text/html": [
       "<div style=\"max-height:1000px;max-width:1500px;overflow:auto;\">\n",
       "<table border=\"1\" class=\"dataframe\">\n",
       "  <thead>\n",
       "    <tr style=\"text-align: right;\">\n",
       "      <th></th>\n",
       "      <th>c</th>\n",
       "      <th>d</th>\n",
       "      <th>e</th>\n",
       "    </tr>\n",
       "  </thead>\n",
       "  <tbody>\n",
       "    <tr>\n",
       "      <th>2015-03-31</th>\n",
       "      <td>-0.868324</td>\n",
       "      <td> 1.731087</td>\n",
       "      <td> 1.072597</td>\n",
       "    </tr>\n",
       "    <tr>\n",
       "      <th>2015-04-30</th>\n",
       "      <td>-2.168286</td>\n",
       "      <td> 0.239333</td>\n",
       "      <td>-0.065319</td>\n",
       "    </tr>\n",
       "    <tr>\n",
       "      <th>2015-05-31</th>\n",
       "      <td> 0.766012</td>\n",
       "      <td>-0.893749</td>\n",
       "      <td>-0.384974</td>\n",
       "    </tr>\n",
       "    <tr>\n",
       "      <th>2015-06-30</th>\n",
       "      <td> 0.251853</td>\n",
       "      <td>-0.627443</td>\n",
       "      <td>-0.774666</td>\n",
       "    </tr>\n",
       "    <tr>\n",
       "      <th>2015-07-31</th>\n",
       "      <td> 0.212819</td>\n",
       "      <td>-0.910350</td>\n",
       "      <td>-0.148582</td>\n",
       "    </tr>\n",
       "  </tbody>\n",
       "</table>\n",
       "</div>"
      ],
      "text/plain": [
       "                   c         d         e\n",
       "2015-03-31 -0.868324  1.731087  1.072597\n",
       "2015-04-30 -2.168286  0.239333 -0.065319\n",
       "2015-05-31  0.766012 -0.893749 -0.384974\n",
       "2015-06-30  0.251853 -0.627443 -0.774666\n",
       "2015-07-31  0.212819 -0.910350 -0.148582"
      ]
     },
     "execution_count": 26,
     "metadata": {},
     "output_type": "execute_result"
    }
   ],
   "source": [
    "df.iloc[2:-3,2:5] #Ranges by number."
   ]
  },
  {
   "cell_type": "code",
   "execution_count": 27,
   "metadata": {
    "collapsed": false
   },
   "outputs": [
    {
     "data": {
      "text/html": [
       "<div style=\"max-height:1000px;max-width:1500px;overflow:auto;\">\n",
       "<table border=\"1\" class=\"dataframe\">\n",
       "  <thead>\n",
       "    <tr style=\"text-align: right;\">\n",
       "      <th></th>\n",
       "      <th>a</th>\n",
       "      <th>b</th>\n",
       "      <th>c</th>\n",
       "      <th>d</th>\n",
       "      <th>e</th>\n",
       "      <th>new</th>\n",
       "    </tr>\n",
       "  </thead>\n",
       "  <tbody>\n",
       "  </tbody>\n",
       "</table>\n",
       "</div>"
      ],
      "text/plain": [
       "Empty DataFrame\n",
       "Columns: [a, b, c, d, e, new]\n",
       "Index: []"
      ]
     },
     "execution_count": 27,
     "metadata": {},
     "output_type": "execute_result"
    }
   ],
   "source": [
    "#SQL-like queries for parsimonious row selection.\n",
    "#Experimental\n",
    "df.query('a > 1 and c <1')"
   ]
  },
  {
   "cell_type": "code",
   "execution_count": 28,
   "metadata": {
    "collapsed": false
   },
   "outputs": [],
   "source": [
    "#Multi Index:\n",
    "dt_index = pd.date_range('2015-1-1', \n",
    "                        '2017-7-1', \n",
    "                        freq='m')\n",
    "df = pd.DataFrame(randn(30,5), index=dt_index)"
   ]
  },
  {
   "cell_type": "code",
   "execution_count": 29,
   "metadata": {
    "collapsed": false
   },
   "outputs": [
    {
     "data": {
      "text/html": [
       "<div style=\"max-height:1000px;max-width:1500px;overflow:auto;\">\n",
       "<table border=\"1\" class=\"dataframe\">\n",
       "  <thead>\n",
       "    <tr style=\"text-align: right;\">\n",
       "      <th></th>\n",
       "      <th>0</th>\n",
       "      <th>1</th>\n",
       "      <th>2</th>\n",
       "      <th>3</th>\n",
       "      <th>4</th>\n",
       "      <th>state</th>\n",
       "    </tr>\n",
       "  </thead>\n",
       "  <tbody>\n",
       "    <tr>\n",
       "      <th>2015-01-31</th>\n",
       "      <td>-0.546028</td>\n",
       "      <td>-0.822243</td>\n",
       "      <td>-0.291714</td>\n",
       "      <td>-0.694214</td>\n",
       "      <td>-0.094855</td>\n",
       "      <td> Alabama</td>\n",
       "    </tr>\n",
       "    <tr>\n",
       "      <th>2015-02-28</th>\n",
       "      <td>-0.551993</td>\n",
       "      <td> 0.288256</td>\n",
       "      <td>-0.261363</td>\n",
       "      <td>-0.327318</td>\n",
       "      <td> 0.553394</td>\n",
       "      <td>  Alaska</td>\n",
       "    </tr>\n",
       "    <tr>\n",
       "      <th>2015-03-31</th>\n",
       "      <td> 0.618683</td>\n",
       "      <td>-1.279797</td>\n",
       "      <td>-0.249600</td>\n",
       "      <td> 0.566629</td>\n",
       "      <td> 1.959620</td>\n",
       "      <td> Arizona</td>\n",
       "    </tr>\n",
       "    <tr>\n",
       "      <th>2015-04-30</th>\n",
       "      <td> 0.970790</td>\n",
       "      <td> 1.361079</td>\n",
       "      <td> 0.295785</td>\n",
       "      <td> 0.687432</td>\n",
       "      <td>-0.650602</td>\n",
       "      <td> Alabama</td>\n",
       "    </tr>\n",
       "    <tr>\n",
       "      <th>2015-05-31</th>\n",
       "      <td>-0.862692</td>\n",
       "      <td> 0.535427</td>\n",
       "      <td>-0.512315</td>\n",
       "      <td> 1.246345</td>\n",
       "      <td> 1.755285</td>\n",
       "      <td>  Alaska</td>\n",
       "    </tr>\n",
       "  </tbody>\n",
       "</table>\n",
       "</div>"
      ],
      "text/plain": [
       "                   0         1         2         3         4    state\n",
       "2015-01-31 -0.546028 -0.822243 -0.291714 -0.694214 -0.094855  Alabama\n",
       "2015-02-28 -0.551993  0.288256 -0.261363 -0.327318  0.553394   Alaska\n",
       "2015-03-31  0.618683 -1.279797 -0.249600  0.566629  1.959620  Arizona\n",
       "2015-04-30  0.970790  1.361079  0.295785  0.687432 -0.650602  Alabama\n",
       "2015-05-31 -0.862692  0.535427 -0.512315  1.246345  1.755285   Alaska"
      ]
     },
     "execution_count": 29,
     "metadata": {},
     "output_type": "execute_result"
    }
   ],
   "source": [
    "df['state'] = ['Alabama', 'Alaska' , 'Arizona'] * 10\n",
    "df.head()"
   ]
  },
  {
   "cell_type": "code",
   "execution_count": 30,
   "metadata": {
    "collapsed": false
   },
   "outputs": [
    {
     "data": {
      "text/html": [
       "<div style=\"max-height:1000px;max-width:1500px;overflow:auto;\">\n",
       "<table border=\"1\" class=\"dataframe\">\n",
       "  <thead>\n",
       "    <tr style=\"text-align: right;\">\n",
       "      <th></th>\n",
       "      <th></th>\n",
       "      <th>0</th>\n",
       "      <th>1</th>\n",
       "      <th>2</th>\n",
       "      <th>3</th>\n",
       "      <th>4</th>\n",
       "    </tr>\n",
       "    <tr>\n",
       "      <th>state</th>\n",
       "      <th>index</th>\n",
       "      <th></th>\n",
       "      <th></th>\n",
       "      <th></th>\n",
       "      <th></th>\n",
       "      <th></th>\n",
       "    </tr>\n",
       "  </thead>\n",
       "  <tbody>\n",
       "    <tr>\n",
       "      <th>Alabama</th>\n",
       "      <th>2015-01-31</th>\n",
       "      <td>-0.546028</td>\n",
       "      <td>-0.822243</td>\n",
       "      <td>-0.291714</td>\n",
       "      <td>-0.694214</td>\n",
       "      <td>-0.094855</td>\n",
       "    </tr>\n",
       "    <tr>\n",
       "      <th>Alaska</th>\n",
       "      <th>2015-02-28</th>\n",
       "      <td>-0.551993</td>\n",
       "      <td> 0.288256</td>\n",
       "      <td>-0.261363</td>\n",
       "      <td>-0.327318</td>\n",
       "      <td> 0.553394</td>\n",
       "    </tr>\n",
       "    <tr>\n",
       "      <th>Arizona</th>\n",
       "      <th>2015-03-31</th>\n",
       "      <td> 0.618683</td>\n",
       "      <td>-1.279797</td>\n",
       "      <td>-0.249600</td>\n",
       "      <td> 0.566629</td>\n",
       "      <td> 1.959620</td>\n",
       "    </tr>\n",
       "    <tr>\n",
       "      <th>Alabama</th>\n",
       "      <th>2015-04-30</th>\n",
       "      <td> 0.970790</td>\n",
       "      <td> 1.361079</td>\n",
       "      <td> 0.295785</td>\n",
       "      <td> 0.687432</td>\n",
       "      <td>-0.650602</td>\n",
       "    </tr>\n",
       "    <tr>\n",
       "      <th>Alaska</th>\n",
       "      <th>2015-05-31</th>\n",
       "      <td>-0.862692</td>\n",
       "      <td> 0.535427</td>\n",
       "      <td>-0.512315</td>\n",
       "      <td> 1.246345</td>\n",
       "      <td> 1.755285</td>\n",
       "    </tr>\n",
       "  </tbody>\n",
       "</table>\n",
       "</div>"
      ],
      "text/plain": [
       "                           0         1         2         3         4\n",
       "state   index                                                       \n",
       "Alabama 2015-01-31 -0.546028 -0.822243 -0.291714 -0.694214 -0.094855\n",
       "Alaska  2015-02-28 -0.551993  0.288256 -0.261363 -0.327318  0.553394\n",
       "Arizona 2015-03-31  0.618683 -1.279797 -0.249600  0.566629  1.959620\n",
       "Alabama 2015-04-30  0.970790  1.361079  0.295785  0.687432 -0.650602\n",
       "Alaska  2015-05-31 -0.862692  0.535427 -0.512315  1.246345  1.755285"
      ]
     },
     "execution_count": 30,
     "metadata": {},
     "output_type": "execute_result"
    }
   ],
   "source": [
    "df = df.reset_index()\n",
    "df = df.set_index(['state', 'index'])\n",
    "df.head()"
   ]
  },
  {
   "cell_type": "code",
   "execution_count": 31,
   "metadata": {
    "collapsed": false
   },
   "outputs": [
    {
     "data": {
      "text/html": [
       "<div style=\"max-height:1000px;max-width:1500px;overflow:auto;\">\n",
       "<table border=\"1\" class=\"dataframe\">\n",
       "  <thead>\n",
       "    <tr style=\"text-align: right;\">\n",
       "      <th></th>\n",
       "      <th>0</th>\n",
       "      <th>1</th>\n",
       "      <th>2</th>\n",
       "      <th>3</th>\n",
       "      <th>4</th>\n",
       "    </tr>\n",
       "    <tr>\n",
       "      <th>index</th>\n",
       "      <th></th>\n",
       "      <th></th>\n",
       "      <th></th>\n",
       "      <th></th>\n",
       "      <th></th>\n",
       "    </tr>\n",
       "  </thead>\n",
       "  <tbody>\n",
       "    <tr>\n",
       "      <th>2015-01-31</th>\n",
       "      <td>-0.546028</td>\n",
       "      <td>-0.822243</td>\n",
       "      <td>-0.291714</td>\n",
       "      <td>-0.694214</td>\n",
       "      <td>-0.094855</td>\n",
       "    </tr>\n",
       "    <tr>\n",
       "      <th>2015-04-30</th>\n",
       "      <td> 0.970790</td>\n",
       "      <td> 1.361079</td>\n",
       "      <td> 0.295785</td>\n",
       "      <td> 0.687432</td>\n",
       "      <td>-0.650602</td>\n",
       "    </tr>\n",
       "    <tr>\n",
       "      <th>2015-07-31</th>\n",
       "      <td>-1.507617</td>\n",
       "      <td>-0.352099</td>\n",
       "      <td> 0.058671</td>\n",
       "      <td> 1.457373</td>\n",
       "      <td>-0.439507</td>\n",
       "    </tr>\n",
       "    <tr>\n",
       "      <th>2015-10-31</th>\n",
       "      <td>-1.058088</td>\n",
       "      <td>-1.447244</td>\n",
       "      <td> 1.391490</td>\n",
       "      <td> 0.790345</td>\n",
       "      <td>-2.058820</td>\n",
       "    </tr>\n",
       "    <tr>\n",
       "      <th>2016-01-31</th>\n",
       "      <td>-0.120362</td>\n",
       "      <td>-0.585842</td>\n",
       "      <td> 1.425730</td>\n",
       "      <td> 1.307099</td>\n",
       "      <td>-0.165931</td>\n",
       "    </tr>\n",
       "  </tbody>\n",
       "</table>\n",
       "</div>"
      ],
      "text/plain": [
       "                   0         1         2         3         4\n",
       "index                                                       \n",
       "2015-01-31 -0.546028 -0.822243 -0.291714 -0.694214 -0.094855\n",
       "2015-04-30  0.970790  1.361079  0.295785  0.687432 -0.650602\n",
       "2015-07-31 -1.507617 -0.352099  0.058671  1.457373 -0.439507\n",
       "2015-10-31 -1.058088 -1.447244  1.391490  0.790345 -2.058820\n",
       "2016-01-31 -0.120362 -0.585842  1.425730  1.307099 -0.165931"
      ]
     },
     "execution_count": 31,
     "metadata": {},
     "output_type": "execute_result"
    }
   ],
   "source": [
    "df.loc['Alabama'].head()"
   ]
  },
  {
   "cell_type": "code",
   "execution_count": 32,
   "metadata": {
    "collapsed": false
   },
   "outputs": [
    {
     "ename": "KeyError",
     "evalue": "'the label [2015-01-31] is not in the [index]'",
     "output_type": "error",
     "traceback": [
      "\u001b[0;31m---------------------------------------------------------------------------\u001b[0m",
      "\u001b[0;31mKeyError\u001b[0m                                  Traceback (most recent call last)",
      "\u001b[0;32m<ipython-input-32-5a5a10bc40e7>\u001b[0m in \u001b[0;36m<module>\u001b[0;34m()\u001b[0m\n\u001b[0;32m----> 1\u001b[0;31m \u001b[0mdf\u001b[0m\u001b[0;34m.\u001b[0m\u001b[0mloc\u001b[0m\u001b[0;34m[\u001b[0m\u001b[0;34m'2015-01-31'\u001b[0m\u001b[0;34m]\u001b[0m \u001b[0;31m#Doesn't work.\u001b[0m\u001b[0;34m\u001b[0m\u001b[0m\n\u001b[0m",
      "\u001b[0;32m/Users/clayton.schupp/anaconda/lib/python2.7/site-packages/pandas/core/indexing.pyc\u001b[0m in \u001b[0;36m__getitem__\u001b[0;34m(self, key)\u001b[0m\n\u001b[1;32m   1200\u001b[0m             \u001b[0;32mreturn\u001b[0m \u001b[0mself\u001b[0m\u001b[0;34m.\u001b[0m\u001b[0m_getitem_tuple\u001b[0m\u001b[0;34m(\u001b[0m\u001b[0mkey\u001b[0m\u001b[0;34m)\u001b[0m\u001b[0;34m\u001b[0m\u001b[0m\n\u001b[1;32m   1201\u001b[0m         \u001b[0;32melse\u001b[0m\u001b[0;34m:\u001b[0m\u001b[0;34m\u001b[0m\u001b[0m\n\u001b[0;32m-> 1202\u001b[0;31m             \u001b[0;32mreturn\u001b[0m \u001b[0mself\u001b[0m\u001b[0;34m.\u001b[0m\u001b[0m_getitem_axis\u001b[0m\u001b[0;34m(\u001b[0m\u001b[0mkey\u001b[0m\u001b[0;34m,\u001b[0m \u001b[0maxis\u001b[0m\u001b[0;34m=\u001b[0m\u001b[0;36m0\u001b[0m\u001b[0;34m)\u001b[0m\u001b[0;34m\u001b[0m\u001b[0m\n\u001b[0m\u001b[1;32m   1203\u001b[0m \u001b[0;34m\u001b[0m\u001b[0m\n\u001b[1;32m   1204\u001b[0m     \u001b[0;32mdef\u001b[0m \u001b[0m_getitem_axis\u001b[0m\u001b[0;34m(\u001b[0m\u001b[0mself\u001b[0m\u001b[0;34m,\u001b[0m \u001b[0mkey\u001b[0m\u001b[0;34m,\u001b[0m \u001b[0maxis\u001b[0m\u001b[0;34m=\u001b[0m\u001b[0;36m0\u001b[0m\u001b[0;34m)\u001b[0m\u001b[0;34m:\u001b[0m\u001b[0;34m\u001b[0m\u001b[0m\n",
      "\u001b[0;32m/Users/clayton.schupp/anaconda/lib/python2.7/site-packages/pandas/core/indexing.pyc\u001b[0m in \u001b[0;36m_getitem_axis\u001b[0;34m(self, key, axis)\u001b[0m\n\u001b[1;32m   1343\u001b[0m \u001b[0;34m\u001b[0m\u001b[0m\n\u001b[1;32m   1344\u001b[0m         \u001b[0;31m# fall thru to straight lookup\u001b[0m\u001b[0;34m\u001b[0m\u001b[0;34m\u001b[0m\u001b[0m\n\u001b[0;32m-> 1345\u001b[0;31m         \u001b[0mself\u001b[0m\u001b[0;34m.\u001b[0m\u001b[0m_has_valid_type\u001b[0m\u001b[0;34m(\u001b[0m\u001b[0mkey\u001b[0m\u001b[0;34m,\u001b[0m \u001b[0maxis\u001b[0m\u001b[0;34m)\u001b[0m\u001b[0;34m\u001b[0m\u001b[0m\n\u001b[0m\u001b[1;32m   1346\u001b[0m         \u001b[0;32mreturn\u001b[0m \u001b[0mself\u001b[0m\u001b[0;34m.\u001b[0m\u001b[0m_get_label\u001b[0m\u001b[0;34m(\u001b[0m\u001b[0mkey\u001b[0m\u001b[0;34m,\u001b[0m \u001b[0maxis\u001b[0m\u001b[0;34m=\u001b[0m\u001b[0maxis\u001b[0m\u001b[0;34m)\u001b[0m\u001b[0;34m\u001b[0m\u001b[0m\n\u001b[1;32m   1347\u001b[0m \u001b[0;34m\u001b[0m\u001b[0m\n",
      "\u001b[0;32m/Users/clayton.schupp/anaconda/lib/python2.7/site-packages/pandas/core/indexing.pyc\u001b[0m in \u001b[0;36m_has_valid_type\u001b[0;34m(self, key, axis)\u001b[0m\n\u001b[1;32m   1305\u001b[0m                 \u001b[0;32mraise\u001b[0m\u001b[0;34m\u001b[0m\u001b[0m\n\u001b[1;32m   1306\u001b[0m             \u001b[0;32mexcept\u001b[0m\u001b[0;34m:\u001b[0m\u001b[0;34m\u001b[0m\u001b[0m\n\u001b[0;32m-> 1307\u001b[0;31m                 \u001b[0merror\u001b[0m\u001b[0;34m(\u001b[0m\u001b[0;34m)\u001b[0m\u001b[0;34m\u001b[0m\u001b[0m\n\u001b[0m\u001b[1;32m   1308\u001b[0m \u001b[0;34m\u001b[0m\u001b[0m\n\u001b[1;32m   1309\u001b[0m         \u001b[0;32mreturn\u001b[0m \u001b[0mTrue\u001b[0m\u001b[0;34m\u001b[0m\u001b[0m\n",
      "\u001b[0;32m/Users/clayton.schupp/anaconda/lib/python2.7/site-packages/pandas/core/indexing.pyc\u001b[0m in \u001b[0;36merror\u001b[0;34m()\u001b[0m\n\u001b[1;32m   1292\u001b[0m                         \"cannot use label indexing with a null key\")\n\u001b[1;32m   1293\u001b[0m                 raise KeyError(\"the label [%s] is not in the [%s]\" %\n\u001b[0;32m-> 1294\u001b[0;31m                                (key, self.obj._get_axis_name(axis)))\n\u001b[0m\u001b[1;32m   1295\u001b[0m \u001b[0;34m\u001b[0m\u001b[0m\n\u001b[1;32m   1296\u001b[0m             \u001b[0;32mtry\u001b[0m\u001b[0;34m:\u001b[0m\u001b[0;34m\u001b[0m\u001b[0m\n",
      "\u001b[0;31mKeyError\u001b[0m: 'the label [2015-01-31] is not in the [index]'"
     ]
    }
   ],
   "source": [
    "df.loc['2015-01-31'] #Doesn't work."
   ]
  },
  {
   "cell_type": "code",
   "execution_count": 33,
   "metadata": {
    "collapsed": false
   },
   "outputs": [
    {
     "data": {
      "text/plain": [
       "0   -0.546028\n",
       "1   -0.822243\n",
       "2   -0.291714\n",
       "3   -0.694214\n",
       "4   -0.094855\n",
       "Name: (Alabama, 2015-01-31 00:00:00), dtype: float64"
      ]
     },
     "execution_count": 33,
     "metadata": {},
     "output_type": "execute_result"
    }
   ],
   "source": [
    "df.loc[('Alabama', '2015-01-31')] #Can do this."
   ]
  },
  {
   "cell_type": "code",
   "execution_count": 34,
   "metadata": {
    "collapsed": false
   },
   "outputs": [
    {
     "data": {
      "text/html": [
       "<div style=\"max-height:1000px;max-width:1500px;overflow:auto;\">\n",
       "<table border=\"1\" class=\"dataframe\">\n",
       "  <thead>\n",
       "    <tr>\n",
       "      <th></th>\n",
       "      <th colspan=\"3\" halign=\"left\">0</th>\n",
       "      <th colspan=\"3\" halign=\"left\">1</th>\n",
       "      <th colspan=\"3\" halign=\"left\">2</th>\n",
       "      <th colspan=\"3\" halign=\"left\">3</th>\n",
       "      <th colspan=\"3\" halign=\"left\">4</th>\n",
       "    </tr>\n",
       "    <tr>\n",
       "      <th>state</th>\n",
       "      <th>Alabama</th>\n",
       "      <th>Alaska</th>\n",
       "      <th>Arizona</th>\n",
       "      <th>Alabama</th>\n",
       "      <th>Alaska</th>\n",
       "      <th>Arizona</th>\n",
       "      <th>Alabama</th>\n",
       "      <th>Alaska</th>\n",
       "      <th>Arizona</th>\n",
       "      <th>Alabama</th>\n",
       "      <th>Alaska</th>\n",
       "      <th>Arizona</th>\n",
       "      <th>Alabama</th>\n",
       "      <th>Alaska</th>\n",
       "      <th>Arizona</th>\n",
       "    </tr>\n",
       "    <tr>\n",
       "      <th>index</th>\n",
       "      <th></th>\n",
       "      <th></th>\n",
       "      <th></th>\n",
       "      <th></th>\n",
       "      <th></th>\n",
       "      <th></th>\n",
       "      <th></th>\n",
       "      <th></th>\n",
       "      <th></th>\n",
       "      <th></th>\n",
       "      <th></th>\n",
       "      <th></th>\n",
       "      <th></th>\n",
       "      <th></th>\n",
       "      <th></th>\n",
       "    </tr>\n",
       "  </thead>\n",
       "  <tbody>\n",
       "    <tr>\n",
       "      <th>2015-01-31</th>\n",
       "      <td>-0.546028</td>\n",
       "      <td>      NaN</td>\n",
       "      <td>      NaN</td>\n",
       "      <td>-0.822243</td>\n",
       "      <td>      NaN</td>\n",
       "      <td>      NaN</td>\n",
       "      <td>-0.291714</td>\n",
       "      <td>      NaN</td>\n",
       "      <td>    NaN</td>\n",
       "      <td>-0.694214</td>\n",
       "      <td>      NaN</td>\n",
       "      <td>      NaN</td>\n",
       "      <td>-0.094855</td>\n",
       "      <td>      NaN</td>\n",
       "      <td>     NaN</td>\n",
       "    </tr>\n",
       "    <tr>\n",
       "      <th>2015-02-28</th>\n",
       "      <td>      NaN</td>\n",
       "      <td>-0.551993</td>\n",
       "      <td>      NaN</td>\n",
       "      <td>      NaN</td>\n",
       "      <td> 0.288256</td>\n",
       "      <td>      NaN</td>\n",
       "      <td>      NaN</td>\n",
       "      <td>-0.261363</td>\n",
       "      <td>    NaN</td>\n",
       "      <td>      NaN</td>\n",
       "      <td>-0.327318</td>\n",
       "      <td>      NaN</td>\n",
       "      <td>      NaN</td>\n",
       "      <td> 0.553394</td>\n",
       "      <td>     NaN</td>\n",
       "    </tr>\n",
       "    <tr>\n",
       "      <th>2015-03-31</th>\n",
       "      <td>      NaN</td>\n",
       "      <td>      NaN</td>\n",
       "      <td> 0.618683</td>\n",
       "      <td>      NaN</td>\n",
       "      <td>      NaN</td>\n",
       "      <td>-1.279797</td>\n",
       "      <td>      NaN</td>\n",
       "      <td>      NaN</td>\n",
       "      <td>-0.2496</td>\n",
       "      <td>      NaN</td>\n",
       "      <td>      NaN</td>\n",
       "      <td> 0.566629</td>\n",
       "      <td>      NaN</td>\n",
       "      <td>      NaN</td>\n",
       "      <td> 1.95962</td>\n",
       "    </tr>\n",
       "    <tr>\n",
       "      <th>2015-04-30</th>\n",
       "      <td> 0.970790</td>\n",
       "      <td>      NaN</td>\n",
       "      <td>      NaN</td>\n",
       "      <td> 1.361079</td>\n",
       "      <td>      NaN</td>\n",
       "      <td>      NaN</td>\n",
       "      <td> 0.295785</td>\n",
       "      <td>      NaN</td>\n",
       "      <td>    NaN</td>\n",
       "      <td> 0.687432</td>\n",
       "      <td>      NaN</td>\n",
       "      <td>      NaN</td>\n",
       "      <td>-0.650602</td>\n",
       "      <td>      NaN</td>\n",
       "      <td>     NaN</td>\n",
       "    </tr>\n",
       "    <tr>\n",
       "      <th>2015-05-31</th>\n",
       "      <td>      NaN</td>\n",
       "      <td>-0.862692</td>\n",
       "      <td>      NaN</td>\n",
       "      <td>      NaN</td>\n",
       "      <td> 0.535427</td>\n",
       "      <td>      NaN</td>\n",
       "      <td>      NaN</td>\n",
       "      <td>-0.512315</td>\n",
       "      <td>    NaN</td>\n",
       "      <td>      NaN</td>\n",
       "      <td> 1.246345</td>\n",
       "      <td>      NaN</td>\n",
       "      <td>      NaN</td>\n",
       "      <td> 1.755285</td>\n",
       "      <td>     NaN</td>\n",
       "    </tr>\n",
       "  </tbody>\n",
       "</table>\n",
       "</div>"
      ],
      "text/plain": [
       "                   0                             1                      \\\n",
       "state        Alabama    Alaska   Arizona   Alabama    Alaska   Arizona   \n",
       "index                                                                    \n",
       "2015-01-31 -0.546028       NaN       NaN -0.822243       NaN       NaN   \n",
       "2015-02-28       NaN -0.551993       NaN       NaN  0.288256       NaN   \n",
       "2015-03-31       NaN       NaN  0.618683       NaN       NaN -1.279797   \n",
       "2015-04-30  0.970790       NaN       NaN  1.361079       NaN       NaN   \n",
       "2015-05-31       NaN -0.862692       NaN       NaN  0.535427       NaN   \n",
       "\n",
       "                   2                           3                      \\\n",
       "state        Alabama    Alaska Arizona   Alabama    Alaska   Arizona   \n",
       "index                                                                  \n",
       "2015-01-31 -0.291714       NaN     NaN -0.694214       NaN       NaN   \n",
       "2015-02-28       NaN -0.261363     NaN       NaN -0.327318       NaN   \n",
       "2015-03-31       NaN       NaN -0.2496       NaN       NaN  0.566629   \n",
       "2015-04-30  0.295785       NaN     NaN  0.687432       NaN       NaN   \n",
       "2015-05-31       NaN -0.512315     NaN       NaN  1.246345       NaN   \n",
       "\n",
       "                   4                     \n",
       "state        Alabama    Alaska  Arizona  \n",
       "index                                    \n",
       "2015-01-31 -0.094855       NaN      NaN  \n",
       "2015-02-28       NaN  0.553394      NaN  \n",
       "2015-03-31       NaN       NaN  1.95962  \n",
       "2015-04-30 -0.650602       NaN      NaN  \n",
       "2015-05-31       NaN  1.755285      NaN  "
      ]
     },
     "execution_count": 34,
     "metadata": {},
     "output_type": "execute_result"
    }
   ],
   "source": [
    "#Can also have multi-index in columns.\n",
    "df.reset_index().set_index(['index', 'state']).unstack().head()"
   ]
  },
  {
   "cell_type": "code",
   "execution_count": 35,
   "metadata": {
    "collapsed": false
   },
   "outputs": [
    {
     "data": {
      "text/html": [
       "<div style=\"max-height:1000px;max-width:1500px;overflow:auto;\">\n",
       "<table border=\"1\" class=\"dataframe\">\n",
       "  <thead>\n",
       "    <tr style=\"text-align: right;\">\n",
       "      <th></th>\n",
       "      <th></th>\n",
       "      <th>0</th>\n",
       "      <th>1</th>\n",
       "      <th>2</th>\n",
       "      <th>3</th>\n",
       "      <th>4</th>\n",
       "    </tr>\n",
       "    <tr>\n",
       "      <th>state</th>\n",
       "      <th>index</th>\n",
       "      <th></th>\n",
       "      <th></th>\n",
       "      <th></th>\n",
       "      <th></th>\n",
       "      <th></th>\n",
       "    </tr>\n",
       "  </thead>\n",
       "  <tbody>\n",
       "    <tr>\n",
       "      <th>Alabama</th>\n",
       "      <th>2015-01-31</th>\n",
       "      <td>-0.546028</td>\n",
       "      <td>-0.822243</td>\n",
       "      <td>-0.291714</td>\n",
       "      <td>-0.694214</td>\n",
       "      <td>-0.094855</td>\n",
       "    </tr>\n",
       "    <tr>\n",
       "      <th>Alaska</th>\n",
       "      <th>2015-02-28</th>\n",
       "      <td>-0.551993</td>\n",
       "      <td> 0.288256</td>\n",
       "      <td>-0.261363</td>\n",
       "      <td>-0.327318</td>\n",
       "      <td> 0.553394</td>\n",
       "    </tr>\n",
       "    <tr>\n",
       "      <th>Arizona</th>\n",
       "      <th>2015-03-31</th>\n",
       "      <td> 0.618683</td>\n",
       "      <td>-1.279797</td>\n",
       "      <td>-0.249600</td>\n",
       "      <td> 0.566629</td>\n",
       "      <td> 1.959620</td>\n",
       "    </tr>\n",
       "    <tr>\n",
       "      <th>Alabama</th>\n",
       "      <th>2015-04-30</th>\n",
       "      <td> 0.970790</td>\n",
       "      <td> 1.361079</td>\n",
       "      <td> 0.295785</td>\n",
       "      <td> 0.687432</td>\n",
       "      <td>-0.650602</td>\n",
       "    </tr>\n",
       "    <tr>\n",
       "      <th>Alaska</th>\n",
       "      <th>2015-05-31</th>\n",
       "      <td>-0.862692</td>\n",
       "      <td> 0.535427</td>\n",
       "      <td>-0.512315</td>\n",
       "      <td> 1.246345</td>\n",
       "      <td> 1.755285</td>\n",
       "    </tr>\n",
       "  </tbody>\n",
       "</table>\n",
       "</div>"
      ],
      "text/plain": [
       "                           0         1         2         3         4\n",
       "state   index                                                       \n",
       "Alabama 2015-01-31 -0.546028 -0.822243 -0.291714 -0.694214 -0.094855\n",
       "Alaska  2015-02-28 -0.551993  0.288256 -0.261363 -0.327318  0.553394\n",
       "Arizona 2015-03-31  0.618683 -1.279797 -0.249600  0.566629  1.959620\n",
       "Alabama 2015-04-30  0.970790  1.361079  0.295785  0.687432 -0.650602\n",
       "Alaska  2015-05-31 -0.862692  0.535427 -0.512315  1.246345  1.755285"
      ]
     },
     "execution_count": 35,
     "metadata": {},
     "output_type": "execute_result"
    }
   ],
   "source": [
    "df.head()"
   ]
  },
  {
   "cell_type": "markdown",
   "metadata": {},
   "source": [
    "#split-apply-combine"
   ]
  },
  {
   "cell_type": "code",
   "execution_count": 36,
   "metadata": {
    "collapsed": false
   },
   "outputs": [
    {
     "data": {
      "text/html": [
       "<div style=\"max-height:1000px;max-width:1500px;overflow:auto;\">\n",
       "<table border=\"1\" class=\"dataframe\">\n",
       "  <thead>\n",
       "    <tr style=\"text-align: right;\">\n",
       "      <th></th>\n",
       "      <th>0</th>\n",
       "      <th>1</th>\n",
       "      <th>2</th>\n",
       "      <th>3</th>\n",
       "      <th>4</th>\n",
       "    </tr>\n",
       "    <tr>\n",
       "      <th>index</th>\n",
       "      <th></th>\n",
       "      <th></th>\n",
       "      <th></th>\n",
       "      <th></th>\n",
       "      <th></th>\n",
       "    </tr>\n",
       "  </thead>\n",
       "  <tbody>\n",
       "    <tr>\n",
       "      <th>2015-01-31</th>\n",
       "      <td>-0.546028</td>\n",
       "      <td>-0.822243</td>\n",
       "      <td>-0.291714</td>\n",
       "      <td>-0.694214</td>\n",
       "      <td>-0.094855</td>\n",
       "    </tr>\n",
       "    <tr>\n",
       "      <th>2015-02-28</th>\n",
       "      <td>-0.551993</td>\n",
       "      <td> 0.288256</td>\n",
       "      <td>-0.261363</td>\n",
       "      <td>-0.327318</td>\n",
       "      <td> 0.553394</td>\n",
       "    </tr>\n",
       "    <tr>\n",
       "      <th>2015-03-31</th>\n",
       "      <td> 0.618683</td>\n",
       "      <td>-1.279797</td>\n",
       "      <td>-0.249600</td>\n",
       "      <td> 0.566629</td>\n",
       "      <td> 1.959620</td>\n",
       "    </tr>\n",
       "    <tr>\n",
       "      <th>2015-04-30</th>\n",
       "      <td> 0.970790</td>\n",
       "      <td> 1.361079</td>\n",
       "      <td> 0.295785</td>\n",
       "      <td> 0.687432</td>\n",
       "      <td>-0.650602</td>\n",
       "    </tr>\n",
       "    <tr>\n",
       "      <th>2015-05-31</th>\n",
       "      <td>-0.862692</td>\n",
       "      <td> 0.535427</td>\n",
       "      <td>-0.512315</td>\n",
       "      <td> 1.246345</td>\n",
       "      <td> 1.755285</td>\n",
       "    </tr>\n",
       "  </tbody>\n",
       "</table>\n",
       "</div>"
      ],
      "text/plain": [
       "                   0         1         2         3         4\n",
       "index                                                       \n",
       "2015-01-31 -0.546028 -0.822243 -0.291714 -0.694214 -0.094855\n",
       "2015-02-28 -0.551993  0.288256 -0.261363 -0.327318  0.553394\n",
       "2015-03-31  0.618683 -1.279797 -0.249600  0.566629  1.959620\n",
       "2015-04-30  0.970790  1.361079  0.295785  0.687432 -0.650602\n",
       "2015-05-31 -0.862692  0.535427 -0.512315  1.246345  1.755285"
      ]
     },
     "execution_count": 36,
     "metadata": {},
     "output_type": "execute_result"
    }
   ],
   "source": [
    "df.groupby(level=1).mean().head()"
   ]
  },
  {
   "cell_type": "code",
   "execution_count": 37,
   "metadata": {
    "collapsed": false
   },
   "outputs": [
    {
     "data": {
      "text/html": [
       "<div style=\"max-height:1000px;max-width:1500px;overflow:auto;\">\n",
       "<table border=\"1\" class=\"dataframe\">\n",
       "  <thead>\n",
       "    <tr style=\"text-align: right;\">\n",
       "      <th></th>\n",
       "      <th>0</th>\n",
       "      <th>1</th>\n",
       "      <th>2</th>\n",
       "      <th>3</th>\n",
       "      <th>4</th>\n",
       "    </tr>\n",
       "    <tr>\n",
       "      <th>state</th>\n",
       "      <th></th>\n",
       "      <th></th>\n",
       "      <th></th>\n",
       "      <th></th>\n",
       "      <th></th>\n",
       "    </tr>\n",
       "  </thead>\n",
       "  <tbody>\n",
       "    <tr>\n",
       "      <th>Alabama</th>\n",
       "      <td> 0.037268</td>\n",
       "      <td> 0.081085</td>\n",
       "      <td> 0.420181</td>\n",
       "      <td> 0.020299</td>\n",
       "      <td>-0.083521</td>\n",
       "    </tr>\n",
       "    <tr>\n",
       "      <th>Alaska</th>\n",
       "      <td>-0.329448</td>\n",
       "      <td> 0.534201</td>\n",
       "      <td>-0.178615</td>\n",
       "      <td> 0.462316</td>\n",
       "      <td> 0.547336</td>\n",
       "    </tr>\n",
       "    <tr>\n",
       "      <th>Arizona</th>\n",
       "      <td> 0.050443</td>\n",
       "      <td> 0.108193</td>\n",
       "      <td> 0.121912</td>\n",
       "      <td>-0.600514</td>\n",
       "      <td> 0.237994</td>\n",
       "    </tr>\n",
       "  </tbody>\n",
       "</table>\n",
       "</div>"
      ],
      "text/plain": [
       "                0         1         2         3         4\n",
       "state                                                    \n",
       "Alabama  0.037268  0.081085  0.420181  0.020299 -0.083521\n",
       "Alaska  -0.329448  0.534201 -0.178615  0.462316  0.547336\n",
       "Arizona  0.050443  0.108193  0.121912 -0.600514  0.237994"
      ]
     },
     "execution_count": 37,
     "metadata": {},
     "output_type": "execute_result"
    }
   ],
   "source": [
    "df.groupby(level=0).mean().head() #Groupby index"
   ]
  },
  {
   "cell_type": "code",
   "execution_count": 38,
   "metadata": {
    "collapsed": false
   },
   "outputs": [
    {
     "data": {
      "text/html": [
       "<div style=\"max-height:1000px;max-width:1500px;overflow:auto;\">\n",
       "<table border=\"1\" class=\"dataframe\">\n",
       "  <thead>\n",
       "    <tr style=\"text-align: right;\">\n",
       "      <th></th>\n",
       "      <th>0</th>\n",
       "      <th>1</th>\n",
       "      <th>2</th>\n",
       "      <th>3</th>\n",
       "      <th>4</th>\n",
       "    </tr>\n",
       "    <tr>\n",
       "      <th>state</th>\n",
       "      <th></th>\n",
       "      <th></th>\n",
       "      <th></th>\n",
       "      <th></th>\n",
       "      <th></th>\n",
       "    </tr>\n",
       "  </thead>\n",
       "  <tbody>\n",
       "    <tr>\n",
       "      <th>Alabama</th>\n",
       "      <td> 0.037268</td>\n",
       "      <td> 0.081085</td>\n",
       "      <td> 0.420181</td>\n",
       "      <td> 0.020299</td>\n",
       "      <td>-0.083521</td>\n",
       "    </tr>\n",
       "    <tr>\n",
       "      <th>Alaska</th>\n",
       "      <td>-0.329448</td>\n",
       "      <td> 0.534201</td>\n",
       "      <td>-0.178615</td>\n",
       "      <td> 0.462316</td>\n",
       "      <td> 0.547336</td>\n",
       "    </tr>\n",
       "    <tr>\n",
       "      <th>Arizona</th>\n",
       "      <td> 0.050443</td>\n",
       "      <td> 0.108193</td>\n",
       "      <td> 0.121912</td>\n",
       "      <td>-0.600514</td>\n",
       "      <td> 0.237994</td>\n",
       "    </tr>\n",
       "  </tbody>\n",
       "</table>\n",
       "</div>"
      ],
      "text/plain": [
       "                0         1         2         3         4\n",
       "state                                                    \n",
       "Alabama  0.037268  0.081085  0.420181  0.020299 -0.083521\n",
       "Alaska  -0.329448  0.534201 -0.178615  0.462316  0.547336\n",
       "Arizona  0.050443  0.108193  0.121912 -0.600514  0.237994"
      ]
     },
     "execution_count": 38,
     "metadata": {},
     "output_type": "execute_result"
    }
   ],
   "source": [
    "#Groupby doesn't have to be on index.\n",
    "df.reset_index().groupby('state').mean().head()\n",
    "#'state' could be a list of columns to group on."
   ]
  },
  {
   "cell_type": "code",
   "execution_count": 39,
   "metadata": {
    "collapsed": false
   },
   "outputs": [],
   "source": [
    "#Apply\n",
    "g = df.groupby(level=0)"
   ]
  },
  {
   "cell_type": "code",
   "execution_count": 40,
   "metadata": {
    "collapsed": false
   },
   "outputs": [
    {
     "data": {
      "text/html": [
       "<div style=\"max-height:1000px;max-width:1500px;overflow:auto;\">\n",
       "<table border=\"1\" class=\"dataframe\">\n",
       "  <thead>\n",
       "    <tr style=\"text-align: right;\">\n",
       "      <th></th>\n",
       "      <th>0</th>\n",
       "      <th>1</th>\n",
       "      <th>2</th>\n",
       "      <th>3</th>\n",
       "      <th>4</th>\n",
       "    </tr>\n",
       "    <tr>\n",
       "      <th>state</th>\n",
       "      <th></th>\n",
       "      <th></th>\n",
       "      <th></th>\n",
       "      <th></th>\n",
       "      <th></th>\n",
       "    </tr>\n",
       "  </thead>\n",
       "  <tbody>\n",
       "    <tr>\n",
       "      <th>Alabama</th>\n",
       "      <td> 0.037268</td>\n",
       "      <td> 0.081085</td>\n",
       "      <td> 0.420181</td>\n",
       "      <td> 0.020299</td>\n",
       "      <td>-0.083521</td>\n",
       "    </tr>\n",
       "    <tr>\n",
       "      <th>Alaska</th>\n",
       "      <td>-0.329448</td>\n",
       "      <td> 0.534201</td>\n",
       "      <td>-0.178615</td>\n",
       "      <td> 0.462316</td>\n",
       "      <td> 0.547336</td>\n",
       "    </tr>\n",
       "    <tr>\n",
       "      <th>Arizona</th>\n",
       "      <td> 0.050443</td>\n",
       "      <td> 0.108193</td>\n",
       "      <td> 0.121912</td>\n",
       "      <td>-0.600514</td>\n",
       "      <td> 0.237994</td>\n",
       "    </tr>\n",
       "  </tbody>\n",
       "</table>\n",
       "</div>"
      ],
      "text/plain": [
       "                0         1         2         3         4\n",
       "state                                                    \n",
       "Alabama  0.037268  0.081085  0.420181  0.020299 -0.083521\n",
       "Alaska  -0.329448  0.534201 -0.178615  0.462316  0.547336\n",
       "Arizona  0.050443  0.108193  0.121912 -0.600514  0.237994"
      ]
     },
     "execution_count": 40,
     "metadata": {},
     "output_type": "execute_result"
    }
   ],
   "source": [
    "#If one row for each index.\n",
    "g.aggregate(np.mean)"
   ]
  },
  {
   "cell_type": "code",
   "execution_count": 41,
   "metadata": {
    "collapsed": false
   },
   "outputs": [
    {
     "data": {
      "text/html": [
       "<div style=\"max-height:1000px;max-width:1500px;overflow:auto;\">\n",
       "<table border=\"1\" class=\"dataframe\">\n",
       "  <thead>\n",
       "    <tr style=\"text-align: right;\">\n",
       "      <th></th>\n",
       "      <th></th>\n",
       "      <th>0</th>\n",
       "      <th>1</th>\n",
       "      <th>2</th>\n",
       "      <th>3</th>\n",
       "      <th>4</th>\n",
       "    </tr>\n",
       "    <tr>\n",
       "      <th>state</th>\n",
       "      <th>index</th>\n",
       "      <th></th>\n",
       "      <th></th>\n",
       "      <th></th>\n",
       "      <th></th>\n",
       "      <th></th>\n",
       "    </tr>\n",
       "  </thead>\n",
       "  <tbody>\n",
       "    <tr>\n",
       "      <th>Alabama</th>\n",
       "      <th>2015-01-31</th>\n",
       "      <td>-0.674210</td>\n",
       "      <td>-0.767335</td>\n",
       "      <td>-1.014870</td>\n",
       "      <td>-0.706299</td>\n",
       "      <td>-0.011594</td>\n",
       "    </tr>\n",
       "    <tr>\n",
       "      <th>Alaska</th>\n",
       "      <th>2015-02-28</th>\n",
       "      <td>-0.225259</td>\n",
       "      <td>-0.408031</td>\n",
       "      <td>-0.110461</td>\n",
       "      <td>-0.802035</td>\n",
       "      <td> 0.004916</td>\n",
       "    </tr>\n",
       "    <tr>\n",
       "      <th>Arizona</th>\n",
       "      <th>2015-03-31</th>\n",
       "      <td> 0.516673</td>\n",
       "      <td>-1.142311</td>\n",
       "      <td>-0.402138</td>\n",
       "      <td> 1.177104</td>\n",
       "      <td> 1.758756</td>\n",
       "    </tr>\n",
       "    <tr>\n",
       "      <th>Alabama</th>\n",
       "      <th>2015-04-30</th>\n",
       "      <td> 1.079023</td>\n",
       "      <td> 1.087295</td>\n",
       "      <td>-0.177338</td>\n",
       "      <td> 0.659463</td>\n",
       "      <td>-0.580126</td>\n",
       "    </tr>\n",
       "    <tr>\n",
       "      <th>Alaska</th>\n",
       "      <th>2015-05-31</th>\n",
       "      <td>-0.539745</td>\n",
       "      <td> 0.002034</td>\n",
       "      <td>-0.445460</td>\n",
       "      <td> 0.796342</td>\n",
       "      <td> 0.980200</td>\n",
       "    </tr>\n",
       "  </tbody>\n",
       "</table>\n",
       "</div>"
      ],
      "text/plain": [
       "                           0         1         2         3         4\n",
       "state   index                                                       \n",
       "Alabama 2015-01-31 -0.674210 -0.767335 -1.014870 -0.706299 -0.011594\n",
       "Alaska  2015-02-28 -0.225259 -0.408031 -0.110461 -0.802035  0.004916\n",
       "Arizona 2015-03-31  0.516673 -1.142311 -0.402138  1.177104  1.758756\n",
       "Alabama 2015-04-30  1.079023  1.087295 -0.177338  0.659463 -0.580126\n",
       "Alaska  2015-05-31 -0.539745  0.002034 -0.445460  0.796342  0.980200"
      ]
     },
     "execution_count": 41,
     "metadata": {},
     "output_type": "execute_result"
    }
   ],
   "source": [
    "#If same shape as original:\n",
    "g.transform(lambda x: (x - x.mean())/x.std()).head()"
   ]
  },
  {
   "cell_type": "code",
   "execution_count": 42,
   "metadata": {
    "collapsed": false
   },
   "outputs": [
    {
     "data": {
      "text/html": [
       "<div style=\"max-height:1000px;max-width:1500px;overflow:auto;\">\n",
       "<table border=\"1\" class=\"dataframe\">\n",
       "  <thead>\n",
       "    <tr style=\"text-align: right;\">\n",
       "      <th></th>\n",
       "      <th></th>\n",
       "      <th>0</th>\n",
       "      <th>1</th>\n",
       "      <th>2</th>\n",
       "      <th>3</th>\n",
       "      <th>4</th>\n",
       "    </tr>\n",
       "    <tr>\n",
       "      <th>state</th>\n",
       "      <th></th>\n",
       "      <th></th>\n",
       "      <th></th>\n",
       "      <th></th>\n",
       "      <th></th>\n",
       "      <th></th>\n",
       "    </tr>\n",
       "  </thead>\n",
       "  <tbody>\n",
       "    <tr>\n",
       "      <th rowspan=\"8\" valign=\"top\">Alabama</th>\n",
       "      <th>count</th>\n",
       "      <td> 10.000000</td>\n",
       "      <td> 10.000000</td>\n",
       "      <td> 10.000000</td>\n",
       "      <td> 10.000000</td>\n",
       "      <td> 10.000000</td>\n",
       "    </tr>\n",
       "    <tr>\n",
       "      <th>mean</th>\n",
       "      <td>  0.037268</td>\n",
       "      <td>  0.081085</td>\n",
       "      <td>  0.420181</td>\n",
       "      <td>  0.020299</td>\n",
       "      <td> -0.083521</td>\n",
       "    </tr>\n",
       "    <tr>\n",
       "      <th>std</th>\n",
       "      <td>  0.865155</td>\n",
       "      <td>  1.177228</td>\n",
       "      <td>  0.701465</td>\n",
       "      <td>  1.011630</td>\n",
       "      <td>  0.977513</td>\n",
       "    </tr>\n",
       "    <tr>\n",
       "      <th>min</th>\n",
       "      <td> -1.507617</td>\n",
       "      <td> -1.447244</td>\n",
       "      <td> -0.375247</td>\n",
       "      <td> -1.490115</td>\n",
       "      <td> -2.058820</td>\n",
       "    </tr>\n",
       "    <tr>\n",
       "      <th>25%</th>\n",
       "      <td> -0.439611</td>\n",
       "      <td> -0.763143</td>\n",
       "      <td> -0.080384</td>\n",
       "      <td> -0.592628</td>\n",
       "      <td> -0.597828</td>\n",
       "    </tr>\n",
       "    <tr>\n",
       "      <th>50%</th>\n",
       "      <td>  0.169061</td>\n",
       "      <td> -0.317909</td>\n",
       "      <td>  0.222923</td>\n",
       "      <td> -0.188092</td>\n",
       "      <td> -0.130393</td>\n",
       "    </tr>\n",
       "    <tr>\n",
       "      <th>75%</th>\n",
       "      <td>  0.799590</td>\n",
       "      <td>  1.133440</td>\n",
       "      <td>  1.078980</td>\n",
       "      <td>  0.764617</td>\n",
       "      <td>  0.735493</td>\n",
       "    </tr>\n",
       "    <tr>\n",
       "      <th>max</th>\n",
       "      <td>  0.970790</td>\n",
       "      <td>  2.003367</td>\n",
       "      <td>  1.425730</td>\n",
       "      <td>  1.457373</td>\n",
       "      <td>  1.109165</td>\n",
       "    </tr>\n",
       "    <tr>\n",
       "      <th rowspan=\"4\" valign=\"top\">Alaska</th>\n",
       "      <th>count</th>\n",
       "      <td> 10.000000</td>\n",
       "      <td> 10.000000</td>\n",
       "      <td> 10.000000</td>\n",
       "      <td> 10.000000</td>\n",
       "      <td> 10.000000</td>\n",
       "    </tr>\n",
       "    <tr>\n",
       "      <th>mean</th>\n",
       "      <td> -0.329448</td>\n",
       "      <td>  0.534201</td>\n",
       "      <td> -0.178615</td>\n",
       "      <td>  0.462316</td>\n",
       "      <td>  0.547336</td>\n",
       "    </tr>\n",
       "    <tr>\n",
       "      <th>std</th>\n",
       "      <td>  0.987955</td>\n",
       "      <td>  0.602762</td>\n",
       "      <td>  0.749113</td>\n",
       "      <td>  0.984538</td>\n",
       "      <td>  1.232349</td>\n",
       "    </tr>\n",
       "    <tr>\n",
       "      <th>min</th>\n",
       "      <td> -1.565014</td>\n",
       "      <td> -0.218996</td>\n",
       "      <td> -1.185870</td>\n",
       "      <td> -1.558486</td>\n",
       "      <td> -2.252353</td>\n",
       "    </tr>\n",
       "  </tbody>\n",
       "</table>\n",
       "</div>"
      ],
      "text/plain": [
       "                       0          1          2          3          4\n",
       "state                                                               \n",
       "Alabama count  10.000000  10.000000  10.000000  10.000000  10.000000\n",
       "        mean    0.037268   0.081085   0.420181   0.020299  -0.083521\n",
       "        std     0.865155   1.177228   0.701465   1.011630   0.977513\n",
       "        min    -1.507617  -1.447244  -0.375247  -1.490115  -2.058820\n",
       "        25%    -0.439611  -0.763143  -0.080384  -0.592628  -0.597828\n",
       "        50%     0.169061  -0.317909   0.222923  -0.188092  -0.130393\n",
       "        75%     0.799590   1.133440   1.078980   0.764617   0.735493\n",
       "        max     0.970790   2.003367   1.425730   1.457373   1.109165\n",
       "Alaska  count  10.000000  10.000000  10.000000  10.000000  10.000000\n",
       "        mean   -0.329448   0.534201  -0.178615   0.462316   0.547336\n",
       "        std     0.987955   0.602762   0.749113   0.984538   1.232349\n",
       "        min    -1.565014  -0.218996  -1.185870  -1.558486  -2.252353"
      ]
     },
     "execution_count": 42,
     "metadata": {},
     "output_type": "execute_result"
    }
   ],
   "source": [
    "#Different index than I started with.\n",
    "g.apply(lambda x: x.describe()).head(12)"
   ]
  },
  {
   "cell_type": "markdown",
   "metadata": {},
   "source": [
    "#Reading and writing data.\n"
   ]
  },
  {
   "cell_type": "code",
   "execution_count": 43,
   "metadata": {
    "collapsed": true
   },
   "outputs": [],
   "source": [
    "df.to_csv('saved_data.csv', delimiter='\\t')"
   ]
  },
  {
   "cell_type": "code",
   "execution_count": 44,
   "metadata": {
    "collapsed": true
   },
   "outputs": [],
   "source": [
    "read = pd.read_csv('saved_data.csv', delimiter='\\t')\n",
    "#TONS OF options for reading data"
   ]
  },
  {
   "cell_type": "code",
   "execution_count": 45,
   "metadata": {
    "collapsed": false
   },
   "outputs": [
    {
     "data": {
      "text/plain": [
       "'Other methods:\\npd.read_excel\\npd.read_sql\\npd.read_stata\\n...\\n'"
      ]
     },
     "execution_count": 45,
     "metadata": {},
     "output_type": "execute_result"
    }
   ],
   "source": [
    "\"\"\"Other methods:\n",
    "pd.read_excel\n",
    "pd.read_sql\n",
    "pd.read_stata\n",
    "...\n",
    "\"\"\""
   ]
  },
  {
   "cell_type": "markdown",
   "metadata": {},
   "source": [
    "#Other very useful things.\n",
    "\n",
    "join, concat and merge"
   ]
  },
  {
   "cell_type": "code",
   "execution_count": 46,
   "metadata": {
    "collapsed": false
   },
   "outputs": [
    {
     "data": {
      "text/html": [
       "<div style=\"max-height:1000px;max-width:1500px;overflow:auto;\">\n",
       "<table border=\"1\" class=\"dataframe\">\n",
       "  <thead>\n",
       "    <tr style=\"text-align: right;\">\n",
       "      <th></th>\n",
       "      <th>state</th>\n",
       "      <th>index</th>\n",
       "      <th>0</th>\n",
       "      <th>1</th>\n",
       "      <th>2</th>\n",
       "      <th>3</th>\n",
       "      <th>4</th>\n",
       "      <th>governor</th>\n",
       "    </tr>\n",
       "  </thead>\n",
       "  <tbody>\n",
       "    <tr>\n",
       "      <th>20</th>\n",
       "      <td>  Arizona</td>\n",
       "      <td>2016-09-30</td>\n",
       "      <td>-0.112634</td>\n",
       "      <td> 1.385187</td>\n",
       "      <td> 0.916402</td>\n",
       "      <td>-0.086643</td>\n",
       "      <td> 0.657601</td>\n",
       "      <td>     Doug Ducey</td>\n",
       "    </tr>\n",
       "    <tr>\n",
       "      <th>23</th>\n",
       "      <td>  Arizona</td>\n",
       "      <td>2016-12-31</td>\n",
       "      <td>-1.630700</td>\n",
       "      <td> 0.045678</td>\n",
       "      <td> 0.495404</td>\n",
       "      <td>-1.584445</td>\n",
       "      <td> 0.489049</td>\n",
       "      <td>     Doug Ducey</td>\n",
       "    </tr>\n",
       "    <tr>\n",
       "      <th>26</th>\n",
       "      <td>  Arizona</td>\n",
       "      <td>2017-03-31</td>\n",
       "      <td>-1.978720</td>\n",
       "      <td>-1.570582</td>\n",
       "      <td> 1.112793</td>\n",
       "      <td>-0.191446</td>\n",
       "      <td>-1.145482</td>\n",
       "      <td>     Doug Ducey</td>\n",
       "    </tr>\n",
       "    <tr>\n",
       "      <th>29</th>\n",
       "      <td>  Arizona</td>\n",
       "      <td>2017-06-30</td>\n",
       "      <td> 0.985663</td>\n",
       "      <td> 0.931330</td>\n",
       "      <td> 0.703577</td>\n",
       "      <td>-1.322677</td>\n",
       "      <td>-0.654936</td>\n",
       "      <td>     Doug Ducey</td>\n",
       "    </tr>\n",
       "    <tr>\n",
       "      <th>29</th>\n",
       "      <td> Arkansas</td>\n",
       "      <td>       NaT</td>\n",
       "      <td>      NaN</td>\n",
       "      <td>      NaN</td>\n",
       "      <td>      NaN</td>\n",
       "      <td>      NaN</td>\n",
       "      <td>      NaN</td>\n",
       "      <td> Asa Hutchinson</td>\n",
       "    </tr>\n",
       "  </tbody>\n",
       "</table>\n",
       "</div>"
      ],
      "text/plain": [
       "       state      index         0         1         2         3         4  \\\n",
       "20   Arizona 2016-09-30 -0.112634  1.385187  0.916402 -0.086643  0.657601   \n",
       "23   Arizona 2016-12-31 -1.630700  0.045678  0.495404 -1.584445  0.489049   \n",
       "26   Arizona 2017-03-31 -1.978720 -1.570582  1.112793 -0.191446 -1.145482   \n",
       "29   Arizona 2017-06-30  0.985663  0.931330  0.703577 -1.322677 -0.654936   \n",
       "29  Arkansas        NaT       NaN       NaN       NaN       NaN       NaN   \n",
       "\n",
       "          governor  \n",
       "20      Doug Ducey  \n",
       "23      Doug Ducey  \n",
       "26      Doug Ducey  \n",
       "29      Doug Ducey  \n",
       "29  Asa Hutchinson  "
      ]
     },
     "execution_count": 46,
     "metadata": {},
     "output_type": "execute_result"
    }
   ],
   "source": [
    "state_df = pd.DataFrame({'governor':['Robert Bentley',\n",
    "                                    'Bill Walker',\n",
    "                                    'Doug Ducey',\n",
    "                                    'Asa Hutchinson']}, \n",
    "                        index=['Alabama', 'Alaska', 'Arizona', 'Arkansas'])\n",
    "#Note merge is most useful when you want to merge on something other than the index.\n",
    "#Default is to merge on common column names.\n",
    "pd.merge(df.reset_index(), state_df, \n",
    "         left_on='state', right_index=True, how='right').tail()"
   ]
  },
  {
   "cell_type": "code",
   "execution_count": 47,
   "metadata": {
    "collapsed": false
   },
   "outputs": [
    {
     "data": {
      "text/html": [
       "<div style=\"max-height:1000px;max-width:1500px;overflow:auto;\">\n",
       "<table border=\"1\" class=\"dataframe\">\n",
       "  <thead>\n",
       "    <tr style=\"text-align: right;\">\n",
       "      <th></th>\n",
       "      <th>0</th>\n",
       "      <th>1</th>\n",
       "      <th>2</th>\n",
       "      <th>3</th>\n",
       "      <th>4</th>\n",
       "    </tr>\n",
       "    <tr>\n",
       "      <th>state</th>\n",
       "      <th></th>\n",
       "      <th></th>\n",
       "      <th></th>\n",
       "      <th></th>\n",
       "      <th></th>\n",
       "    </tr>\n",
       "  </thead>\n",
       "  <tbody>\n",
       "    <tr>\n",
       "      <th>Alabama</th>\n",
       "      <td> 0.037268</td>\n",
       "      <td> 0.081085</td>\n",
       "      <td> 0.420181</td>\n",
       "      <td> 0.020299</td>\n",
       "      <td>-0.083521</td>\n",
       "    </tr>\n",
       "    <tr>\n",
       "      <th>Alaska</th>\n",
       "      <td>-0.329448</td>\n",
       "      <td> 0.534201</td>\n",
       "      <td>-0.178615</td>\n",
       "      <td> 0.462316</td>\n",
       "      <td> 0.547336</td>\n",
       "    </tr>\n",
       "    <tr>\n",
       "      <th>Arizona</th>\n",
       "      <td> 0.050443</td>\n",
       "      <td> 0.108193</td>\n",
       "      <td> 0.121912</td>\n",
       "      <td>-0.600514</td>\n",
       "      <td> 0.237994</td>\n",
       "    </tr>\n",
       "  </tbody>\n",
       "</table>\n",
       "</div>"
      ],
      "text/plain": [
       "                0         1         2         3         4\n",
       "state                                                    \n",
       "Alabama  0.037268  0.081085  0.420181  0.020299 -0.083521\n",
       "Alaska  -0.329448  0.534201 -0.178615  0.462316  0.547336\n",
       "Arizona  0.050443  0.108193  0.121912 -0.600514  0.237994"
      ]
     },
     "execution_count": 47,
     "metadata": {},
     "output_type": "execute_result"
    }
   ],
   "source": [
    "state_avg = df.groupby(level=0).mean()\n",
    "state_avg.head()"
   ]
  },
  {
   "cell_type": "code",
   "execution_count": 48,
   "metadata": {
    "collapsed": false
   },
   "outputs": [
    {
     "data": {
      "text/html": [
       "<div style=\"max-height:1000px;max-width:1500px;overflow:auto;\">\n",
       "<table border=\"1\" class=\"dataframe\">\n",
       "  <thead>\n",
       "    <tr style=\"text-align: right;\">\n",
       "      <th></th>\n",
       "      <th>0</th>\n",
       "      <th>1</th>\n",
       "      <th>2</th>\n",
       "      <th>3</th>\n",
       "      <th>4</th>\n",
       "      <th>governor</th>\n",
       "    </tr>\n",
       "  </thead>\n",
       "  <tbody>\n",
       "    <tr>\n",
       "      <th>Alabama</th>\n",
       "      <td> 0.037268</td>\n",
       "      <td> 0.081085</td>\n",
       "      <td> 0.420181</td>\n",
       "      <td> 0.020299</td>\n",
       "      <td>-0.083521</td>\n",
       "      <td> Robert Bentley</td>\n",
       "    </tr>\n",
       "    <tr>\n",
       "      <th>Alaska</th>\n",
       "      <td>-0.329448</td>\n",
       "      <td> 0.534201</td>\n",
       "      <td>-0.178615</td>\n",
       "      <td> 0.462316</td>\n",
       "      <td> 0.547336</td>\n",
       "      <td>    Bill Walker</td>\n",
       "    </tr>\n",
       "    <tr>\n",
       "      <th>Arizona</th>\n",
       "      <td> 0.050443</td>\n",
       "      <td> 0.108193</td>\n",
       "      <td> 0.121912</td>\n",
       "      <td>-0.600514</td>\n",
       "      <td> 0.237994</td>\n",
       "      <td>     Doug Ducey</td>\n",
       "    </tr>\n",
       "    <tr>\n",
       "      <th>Arkansas</th>\n",
       "      <td>      NaN</td>\n",
       "      <td>      NaN</td>\n",
       "      <td>      NaN</td>\n",
       "      <td>      NaN</td>\n",
       "      <td>      NaN</td>\n",
       "      <td> Asa Hutchinson</td>\n",
       "    </tr>\n",
       "  </tbody>\n",
       "</table>\n",
       "</div>"
      ],
      "text/plain": [
       "                 0         1         2         3         4        governor\n",
       "Alabama   0.037268  0.081085  0.420181  0.020299 -0.083521  Robert Bentley\n",
       "Alaska   -0.329448  0.534201 -0.178615  0.462316  0.547336     Bill Walker\n",
       "Arizona   0.050443  0.108193  0.121912 -0.600514  0.237994      Doug Ducey\n",
       "Arkansas       NaN       NaN       NaN       NaN       NaN  Asa Hutchinson"
      ]
     },
     "execution_count": 48,
     "metadata": {},
     "output_type": "execute_result"
    }
   ],
   "source": [
    "#Concat allows joining along the axes.\n",
    "pd.concat([state_avg, state_df], axis=1)"
   ]
  },
  {
   "cell_type": "code",
   "execution_count": 64,
   "metadata": {
    "collapsed": false
   },
   "outputs": [
    {
     "data": {
      "text/html": [
       "<div style=\"max-height:1000px;max-width:1500px;overflow:auto;\">\n",
       "<table border=\"1\" class=\"dataframe\">\n",
       "  <thead>\n",
       "    <tr style=\"text-align: right;\">\n",
       "      <th></th>\n",
       "      <th>0</th>\n",
       "      <th>1</th>\n",
       "      <th>2</th>\n",
       "      <th>3</th>\n",
       "      <th>4</th>\n",
       "      <th>governor</th>\n",
       "    </tr>\n",
       "  </thead>\n",
       "  <tbody>\n",
       "    <tr>\n",
       "      <th>Alabama</th>\n",
       "      <td> 0.037268</td>\n",
       "      <td> 0.081085</td>\n",
       "      <td> 0.420181</td>\n",
       "      <td> 0.020299</td>\n",
       "      <td>-0.083521</td>\n",
       "      <td> Robert Bentley</td>\n",
       "    </tr>\n",
       "    <tr>\n",
       "      <th>Alaska</th>\n",
       "      <td>-0.329448</td>\n",
       "      <td> 0.534201</td>\n",
       "      <td>-0.178615</td>\n",
       "      <td> 0.462316</td>\n",
       "      <td> 0.547336</td>\n",
       "      <td>    Bill Walker</td>\n",
       "    </tr>\n",
       "    <tr>\n",
       "      <th>Arizona</th>\n",
       "      <td> 0.050443</td>\n",
       "      <td> 0.108193</td>\n",
       "      <td> 0.121912</td>\n",
       "      <td>-0.600514</td>\n",
       "      <td> 0.237994</td>\n",
       "      <td>     Doug Ducey</td>\n",
       "    </tr>\n",
       "    <tr>\n",
       "      <th>Arkansas</th>\n",
       "      <td>      NaN</td>\n",
       "      <td>      NaN</td>\n",
       "      <td>      NaN</td>\n",
       "      <td>      NaN</td>\n",
       "      <td>      NaN</td>\n",
       "      <td> Asa Hutchinson</td>\n",
       "    </tr>\n",
       "  </tbody>\n",
       "</table>\n",
       "</div>"
      ],
      "text/plain": [
       "                 0         1         2         3         4        governor\n",
       "Alabama   0.037268  0.081085  0.420181  0.020299 -0.083521  Robert Bentley\n",
       "Alaska   -0.329448  0.534201 -0.178615  0.462316  0.547336     Bill Walker\n",
       "Arizona   0.050443  0.108193  0.121912 -0.600514  0.237994      Doug Ducey\n",
       "Arkansas       NaN       NaN       NaN       NaN       NaN  Asa Hutchinson"
      ]
     },
     "execution_count": 64,
     "metadata": {},
     "output_type": "execute_result"
    }
   ],
   "source": [
    "#Join also works. Just like merge, but \n",
    "#default is to join on indexes.\n",
    "state_avg.join(state_df, how='right')"
   ]
  },
  {
   "cell_type": "markdown",
   "metadata": {},
   "source": [
    "#Exploratory Data Analysis with Pandas"
   ]
  },
  {
   "cell_type": "code",
   "execution_count": 190,
   "metadata": {
    "collapsed": true
   },
   "outputs": [],
   "source": [
    "import matplotlib.pyplot as plt\n",
    "%matplotlib inline"
   ]
  },
  {
   "cell_type": "code",
   "execution_count": 191,
   "metadata": {
    "collapsed": false
   },
   "outputs": [
    {
     "name": "stdout",
     "output_type": "stream",
     "text": [
      "         Date   Outlook  Temperature  Humidity  Windy      Result\n",
      "0  07-01-2014     sunny           85        85  False  Don't Play\n",
      "1  07-02-2014     sunny           80        90   True  Don't Play\n",
      "2  07-03-2014  overcast           83        78  False        Play\n",
      "3  07-04-2014      rain           70        96  False        Play\n",
      "4  07-05-2014      rain           68        80  False        Play\n"
     ]
    }
   ],
   "source": [
    "df = pd.read_csv('data/playgolf.csv', delimiter='|' )\n",
    "print df.head()"
   ]
  },
  {
   "cell_type": "markdown",
   "metadata": {},
   "source": [
    "#Describe the continuous variables\n",
    "##This treats the Boolean Windy variable as a series of 0's and 1's"
   ]
  },
  {
   "cell_type": "code",
   "execution_count": 192,
   "metadata": {
    "collapsed": false
   },
   "outputs": [
    {
     "data": {
      "text/html": [
       "<div style=\"max-height:1000px;max-width:1500px;overflow:auto;\">\n",
       "<table border=\"1\" class=\"dataframe\">\n",
       "  <thead>\n",
       "    <tr style=\"text-align: right;\">\n",
       "      <th></th>\n",
       "      <th>Temperature</th>\n",
       "      <th>Humidity</th>\n",
       "      <th>Windy</th>\n",
       "    </tr>\n",
       "  </thead>\n",
       "  <tbody>\n",
       "    <tr>\n",
       "      <th>count</th>\n",
       "      <td> 14.000000</td>\n",
       "      <td> 14.000000</td>\n",
       "      <td>        14</td>\n",
       "    </tr>\n",
       "    <tr>\n",
       "      <th>mean</th>\n",
       "      <td> 73.571429</td>\n",
       "      <td> 80.285714</td>\n",
       "      <td> 0.4285714</td>\n",
       "    </tr>\n",
       "    <tr>\n",
       "      <th>std</th>\n",
       "      <td>  6.571667</td>\n",
       "      <td>  9.840486</td>\n",
       "      <td> 0.5135526</td>\n",
       "    </tr>\n",
       "    <tr>\n",
       "      <th>min</th>\n",
       "      <td> 64.000000</td>\n",
       "      <td> 65.000000</td>\n",
       "      <td>     False</td>\n",
       "    </tr>\n",
       "    <tr>\n",
       "      <th>25%</th>\n",
       "      <td> 69.250000</td>\n",
       "      <td> 71.250000</td>\n",
       "      <td>         0</td>\n",
       "    </tr>\n",
       "    <tr>\n",
       "      <th>50%</th>\n",
       "      <td> 72.000000</td>\n",
       "      <td> 80.000000</td>\n",
       "      <td>         0</td>\n",
       "    </tr>\n",
       "    <tr>\n",
       "      <th>75%</th>\n",
       "      <td> 78.750000</td>\n",
       "      <td> 88.750000</td>\n",
       "      <td>         1</td>\n",
       "    </tr>\n",
       "    <tr>\n",
       "      <th>max</th>\n",
       "      <td> 85.000000</td>\n",
       "      <td> 96.000000</td>\n",
       "      <td>      True</td>\n",
       "    </tr>\n",
       "  </tbody>\n",
       "</table>\n",
       "</div>"
      ],
      "text/plain": [
       "       Temperature   Humidity      Windy\n",
       "count    14.000000  14.000000         14\n",
       "mean     73.571429  80.285714  0.4285714\n",
       "std       6.571667   9.840486  0.5135526\n",
       "min      64.000000  65.000000      False\n",
       "25%      69.250000  71.250000          0\n",
       "50%      72.000000  80.000000          0\n",
       "75%      78.750000  88.750000          1\n",
       "max      85.000000  96.000000       True"
      ]
     },
     "execution_count": 192,
     "metadata": {},
     "output_type": "execute_result"
    }
   ],
   "source": [
    "df.describe()"
   ]
  },
  {
   "cell_type": "markdown",
   "metadata": {},
   "source": [
    "Can see the general pattern of Temperature and Humidity and mean of a Boolean represents the percentage"
   ]
  },
  {
   "cell_type": "markdown",
   "metadata": {},
   "source": [
    "##We can make use of df.plot() to produce simple graphs that calls on the more adjustable Matplotlib library "
   ]
  },
  {
   "cell_type": "code",
   "execution_count": 196,
   "metadata": {
    "collapsed": false,
    "scrolled": true
   },
   "outputs": [
    {
     "data": {
      "text/plain": [
       "array([[<matplotlib.axes._subplots.AxesSubplot object at 0x10edc7690>,\n",
       "        <matplotlib.axes._subplots.AxesSubplot object at 0x10ed53b90>]], dtype=object)"
      ]
     },
     "execution_count": 196,
     "metadata": {},
     "output_type": "execute_result"
    },
    {
     "data": {
      "image/png": "[encoded data removed]",
      "text/plain": [
       "<matplotlib.figure.Figure at 0x10eddf590>"
      ]
     },
     "metadata": {},
     "output_type": "display_data"
    }
   ],
   "source": [
    "df.hist(['Temperature','Humidity'],bins=5)"
   ]
  },
  {
   "cell_type": "code",
   "execution_count": 197,
   "metadata": {
    "collapsed": false
   },
   "outputs": [
    {
     "data": {
      "text/plain": [
       "<matplotlib.axes._subplots.AxesSubplot at 0x10f911210>"
      ]
     },
     "execution_count": 197,
     "metadata": {},
     "output_type": "execute_result"
    },
    {
     "data": {
      "image/png": "[encoded data removed]",
      "text/plain": [
       "<matplotlib.figure.Figure at 0x10fe790d0>"
      ]
     },
     "metadata": {},
     "output_type": "display_data"
    }
   ],
   "source": [
    "df[['Temperature','Humidity']].plot(kind='box')"
   ]
  },
  {
   "cell_type": "markdown",
   "metadata": {},
   "source": [
    "###Scatterplots for examining bivariate relationships"
   ]
  },
  {
   "cell_type": "code",
   "execution_count": 198,
   "metadata": {
    "collapsed": false,
    "scrolled": false
   },
   "outputs": [
    {
     "data": {
      "text/plain": [
       "<matplotlib.axes._subplots.AxesSubplot at 0x10f9bb490>"
      ]
     },
     "execution_count": 198,
     "metadata": {},
     "output_type": "execute_result"
    },
    {
     "data": {
      "image/png": "[encoded data removed]",
      "text/plain": [
       "<matplotlib.figure.Figure at 0x10f9ec550>"
      ]
     },
     "metadata": {},
     "output_type": "display_data"
    }
   ],
   "source": [
    "df.plot('Temperature', 'Humidity', kind='scatter')"
   ]
  },
  {
   "cell_type": "markdown",
   "metadata": {},
   "source": [
    "###If we want to color the scatterplots according to a category, it requires a bit of matplotlib...ugh!"
   ]
  },
  {
   "cell_type": "code",
   "execution_count": 199,
   "metadata": {
    "collapsed": false
   },
   "outputs": [
    {
     "name": "stdout",
     "output_type": "stream",
     "text": [
      "overcast\n",
      "rain\n",
      "sunny\n"
     ]
    }
   ],
   "source": [
    "groups=df.groupby('Outlook')\n",
    "for name, group in groups:\n",
    "    print name"
   ]
  },
  {
   "cell_type": "code",
   "execution_count": 200,
   "metadata": {
    "collapsed": false
   },
   "outputs": [
    {
     "data": {
      "image/png": "[encoded data removed]",
      "text/plain": [
       "<matplotlib.figure.Figure at 0x10fe2c390>"
      ]
     },
     "metadata": {},
     "output_type": "display_data"
    }
   ],
   "source": [
    "fig, ax = plt.subplots()\n",
    "\n",
    "ax.margins(0.05)\n",
    "for name, group in groups:\n",
    "    ax.plot(group.Temperature, group.Humidity, marker='o', linestyle='', ms=12, label=name)\n",
    "ax.legend(numpoints=1, loc='lower right')\n",
    "\n",
    "plt.show()"
   ]
  },
  {
   "cell_type": "markdown",
   "metadata": {},
   "source": [
    "#What about the categorical variables? Frequency tables and relative frequency tables"
   ]
  },
  {
   "cell_type": "markdown",
   "metadata": {},
   "source": [
    "###Simply df.value_counts() gets you the frequencies"
   ]
  },
  {
   "cell_type": "code",
   "execution_count": 201,
   "metadata": {
    "collapsed": false
   },
   "outputs": [
    {
     "data": {
      "text/plain": [
       "rain        5\n",
       "sunny       5\n",
       "overcast    4\n",
       "dtype: int64"
      ]
     },
     "execution_count": 201,
     "metadata": {},
     "output_type": "execute_result"
    }
   ],
   "source": [
    "df['Outlook'].value_counts()"
   ]
  },
  {
   "cell_type": "markdown",
   "metadata": {},
   "source": [
    "###Using apply will get you the value counts for multiple columns at once"
   ]
  },
  {
   "cell_type": "code",
   "execution_count": 202,
   "metadata": {
    "collapsed": false
   },
   "outputs": [
    {
     "data": {
      "text/html": [
       "<div style=\"max-height:1000px;max-width:1500px;overflow:auto;\">\n",
       "<table border=\"1\" class=\"dataframe\">\n",
       "  <thead>\n",
       "    <tr style=\"text-align: right;\">\n",
       "      <th></th>\n",
       "      <th>Outlook</th>\n",
       "      <th>Result</th>\n",
       "    </tr>\n",
       "  </thead>\n",
       "  <tbody>\n",
       "    <tr>\n",
       "      <th>Don't Play</th>\n",
       "      <td>NaN</td>\n",
       "      <td>  5</td>\n",
       "    </tr>\n",
       "    <tr>\n",
       "      <th>Play</th>\n",
       "      <td>NaN</td>\n",
       "      <td>  9</td>\n",
       "    </tr>\n",
       "    <tr>\n",
       "      <th>overcast</th>\n",
       "      <td>  4</td>\n",
       "      <td>NaN</td>\n",
       "    </tr>\n",
       "    <tr>\n",
       "      <th>rain</th>\n",
       "      <td>  5</td>\n",
       "      <td>NaN</td>\n",
       "    </tr>\n",
       "    <tr>\n",
       "      <th>sunny</th>\n",
       "      <td>  5</td>\n",
       "      <td>NaN</td>\n",
       "    </tr>\n",
       "  </tbody>\n",
       "</table>\n",
       "</div>"
      ],
      "text/plain": [
       "            Outlook  Result\n",
       "Don't Play      NaN       5\n",
       "Play            NaN       9\n",
       "overcast          4     NaN\n",
       "rain              5     NaN\n",
       "sunny             5     NaN"
      ]
     },
     "execution_count": 202,
     "metadata": {},
     "output_type": "execute_result"
    }
   ],
   "source": [
    "df[['Outlook','Result']].apply(lambda x: x.value_counts())"
   ]
  },
  {
   "cell_type": "markdown",
   "metadata": {},
   "source": [
    "###Contingency Tables for looking at bivariate relationships between two categorical variables"
   ]
  },
  {
   "cell_type": "code",
   "execution_count": 203,
   "metadata": {
    "collapsed": false
   },
   "outputs": [
    {
     "data": {
      "text/html": [
       "<div style=\"max-height:1000px;max-width:1500px;overflow:auto;\">\n",
       "<table border=\"1\" class=\"dataframe\">\n",
       "  <thead>\n",
       "    <tr style=\"text-align: right;\">\n",
       "      <th>Result</th>\n",
       "      <th>Don't Play</th>\n",
       "      <th>Play</th>\n",
       "    </tr>\n",
       "    <tr>\n",
       "      <th>Outlook</th>\n",
       "      <th></th>\n",
       "      <th></th>\n",
       "    </tr>\n",
       "  </thead>\n",
       "  <tbody>\n",
       "    <tr>\n",
       "      <th>overcast</th>\n",
       "      <td> 0</td>\n",
       "      <td> 4</td>\n",
       "    </tr>\n",
       "    <tr>\n",
       "      <th>rain</th>\n",
       "      <td> 2</td>\n",
       "      <td> 3</td>\n",
       "    </tr>\n",
       "    <tr>\n",
       "      <th>sunny</th>\n",
       "      <td> 3</td>\n",
       "      <td> 2</td>\n",
       "    </tr>\n",
       "  </tbody>\n",
       "</table>\n",
       "</div>"
      ],
      "text/plain": [
       "Result    Don't Play  Play\n",
       "Outlook                   \n",
       "overcast           0     4\n",
       "rain               2     3\n",
       "sunny              3     2"
      ]
     },
     "execution_count": 203,
     "metadata": {},
     "output_type": "execute_result"
    }
   ],
   "source": [
    "pd.crosstab(df['Outlook'], df['Result'])"
   ]
  },
  {
   "cell_type": "markdown",
   "metadata": {},
   "source": [
    "###Often we want the row percentages"
   ]
  },
  {
   "cell_type": "code",
   "execution_count": 204,
   "metadata": {
    "collapsed": false
   },
   "outputs": [
    {
     "data": {
      "text/html": [
       "<div style=\"max-height:1000px;max-width:1500px;overflow:auto;\">\n",
       "<table border=\"1\" class=\"dataframe\">\n",
       "  <thead>\n",
       "    <tr style=\"text-align: right;\">\n",
       "      <th>Result</th>\n",
       "      <th>Don't Play</th>\n",
       "      <th>Play</th>\n",
       "    </tr>\n",
       "    <tr>\n",
       "      <th>Outlook</th>\n",
       "      <th></th>\n",
       "      <th></th>\n",
       "    </tr>\n",
       "  </thead>\n",
       "  <tbody>\n",
       "    <tr>\n",
       "      <th>overcast</th>\n",
       "      <td> 0.0</td>\n",
       "      <td> 1.0</td>\n",
       "    </tr>\n",
       "    <tr>\n",
       "      <th>rain</th>\n",
       "      <td> 0.4</td>\n",
       "      <td> 0.6</td>\n",
       "    </tr>\n",
       "    <tr>\n",
       "      <th>sunny</th>\n",
       "      <td> 0.6</td>\n",
       "      <td> 0.4</td>\n",
       "    </tr>\n",
       "  </tbody>\n",
       "</table>\n",
       "</div>"
      ],
      "text/plain": [
       "Result    Don't Play  Play\n",
       "Outlook                   \n",
       "overcast         0.0   1.0\n",
       "rain             0.4   0.6\n",
       "sunny            0.6   0.4"
      ]
     },
     "execution_count": 204,
     "metadata": {},
     "output_type": "execute_result"
    }
   ],
   "source": [
    "pd.crosstab(df['Outlook'], df['Result']).apply(lambda r: r/r.sum(), axis=1)"
   ]
  },
  {
   "cell_type": "markdown",
   "metadata": {},
   "source": [
    "###Or the column percentages"
   ]
  },
  {
   "cell_type": "code",
   "execution_count": 205,
   "metadata": {
    "collapsed": false
   },
   "outputs": [
    {
     "data": {
      "text/html": [
       "<div style=\"max-height:1000px;max-width:1500px;overflow:auto;\">\n",
       "<table border=\"1\" class=\"dataframe\">\n",
       "  <thead>\n",
       "    <tr style=\"text-align: right;\">\n",
       "      <th>Result</th>\n",
       "      <th>Don't Play</th>\n",
       "      <th>Play</th>\n",
       "    </tr>\n",
       "    <tr>\n",
       "      <th>Outlook</th>\n",
       "      <th></th>\n",
       "      <th></th>\n",
       "    </tr>\n",
       "  </thead>\n",
       "  <tbody>\n",
       "    <tr>\n",
       "      <th>overcast</th>\n",
       "      <td> 0.0</td>\n",
       "      <td> 0.444444</td>\n",
       "    </tr>\n",
       "    <tr>\n",
       "      <th>rain</th>\n",
       "      <td> 0.4</td>\n",
       "      <td> 0.333333</td>\n",
       "    </tr>\n",
       "    <tr>\n",
       "      <th>sunny</th>\n",
       "      <td> 0.6</td>\n",
       "      <td> 0.222222</td>\n",
       "    </tr>\n",
       "  </tbody>\n",
       "</table>\n",
       "</div>"
      ],
      "text/plain": [
       "Result    Don't Play      Play\n",
       "Outlook                       \n",
       "overcast         0.0  0.444444\n",
       "rain             0.4  0.333333\n",
       "sunny            0.6  0.222222"
      ]
     },
     "execution_count": 205,
     "metadata": {},
     "output_type": "execute_result"
    }
   ],
   "source": [
    "pd.crosstab(df['Outlook'], df['Result']).apply(lambda c: c/c.sum(), axis=0)"
   ]
  },
  {
   "cell_type": "markdown",
   "metadata": {},
   "source": [
    "#Enough...lets get to the pair sprint\n",
    "\n",
    "https://www.youtube.com/watch?v=yGf6LNWY9AI"
   ]
  },
  {
   "cell_type": "code",
   "execution_count": null,
   "metadata": {
    "collapsed": true
   },
   "outputs": [],
   "source": []
  }
 ],
 "metadata": {
  "kernelspec": {
   "display_name": "Python 2",
   "language": "python",
   "name": "python2"
  },
  "language_info": {
   "codemirror_mode": {
    "name": "ipython",
    "version": 2
   },
   "file_extension": ".py",
   "mimetype": "text/x-python",
   "name": "python",
   "nbconvert_exporter": "python",
   "pygments_lexer": "ipython2",
   "version": "2.7.9"
  }
 },
 "nbformat": 4,
 "nbformat_minor": 0
}
