{
 "cells": [
  {
   "cell_type": "markdown",
   "metadata": {
    "slideshow": {
     "slide_type": "slide"
    }
   },
   "source": [
    "#Pandas\n",
    "\n",
    "##What is Pandas?\n",
    "A Python library providing data structures and analysis tools for labeled, relational, or tabular data.\n",
    "\n",
    "You could think of it as a more powerful Excel spreadsheet or R dataframe in Python.\n",
    "\n",
    "This lecture is a very brief introduction intended to prepare you for the sprint."
   ]
  },
  {
   "cell_type": "code",
   "execution_count": 1,
   "metadata": {
    "collapsed": true,
    "slideshow": {
     "slide_type": "fragment"
    }
   },
   "outputs": [],
   "source": [
    "import pandas as pd"
   ]
  },
  {
   "cell_type": "code",
   "execution_count": 2,
   "metadata": {
    "collapsed": true,
    "slideshow": {
     "slide_type": "skip"
    }
   },
   "outputs": [],
   "source": [
    "import numpy as np"
   ]
  },
  {
   "cell_type": "markdown",
   "metadata": {
    "slideshow": {
     "slide_type": "slide"
    }
   },
   "source": [
    "#Series\n",
    "One of the essential Pandas data types is the Series.\n",
    "\n",
    "A Pandas Series as a _labeled_ one-dimensional vector whose entries can contain any type of Python object."
   ]
  },
  {
   "cell_type": "code",
   "execution_count": 20,
   "metadata": {
    "collapsed": false,
    "slideshow": {
     "slide_type": "fragment"
    }
   },
   "outputs": [
    {
     "name": "stdout",
     "output_type": "stream",
     "text": [
      "0    101\n",
      "1    102\n",
      "2    103\n",
      "3    104\n",
      "4    105\n",
      "dtype: int64\n"
     ]
    }
   ],
   "source": [
    "# int\n",
    "int_series = pd.Series(range(101,110))\n",
    "print int_series.head()"
   ]
  },
  {
   "cell_type": "code",
   "execution_count": 17,
   "metadata": {
    "collapsed": false,
    "slideshow": {
     "slide_type": "subslide"
    }
   },
   "outputs": [
    {
     "name": "stdout",
     "output_type": "stream",
     "text": [
      "0    0.00000\n",
      "1    0.10101\n",
      "2    0.20202\n",
      "3    0.30303\n",
      "4    0.40404\n",
      "dtype: float64\n"
     ]
    }
   ],
   "source": [
    "# float\n",
    "float_series = pd.Series(np.linspace(0, 10, 100))\n",
    "print float_series.head()"
   ]
  },
  {
   "cell_type": "code",
   "execution_count": 18,
   "metadata": {
    "collapsed": false,
    "slideshow": {
     "slide_type": "subslide"
    }
   },
   "outputs": [
    {
     "name": "stdout",
     "output_type": "stream",
     "text": [
      "0    a\n",
      "1    b\n",
      "2    c\n",
      "3    d\n",
      "4    e\n",
      "dtype: object\n"
     ]
    }
   ],
   "source": [
    "# string\n",
    "str_series = pd.Series([x for x in 'abcde'*2], dtype='string')\n",
    "print str_series.head()"
   ]
  },
  {
   "cell_type": "code",
   "execution_count": 19,
   "metadata": {
    "collapsed": false,
    "slideshow": {
     "slide_type": "subslide"
    }
   },
   "outputs": [
    {
     "name": "stdout",
     "output_type": "stream",
     "text": [
      "0   2015-01-31\n",
      "1   2015-02-28\n",
      "2   2015-03-31\n",
      "3   2015-04-30\n",
      "4   2015-05-31\n",
      "dtype: datetime64[ns]\n"
     ]
    }
   ],
   "source": [
    "# datetime\n",
    "date_series = pd.Series(pd.date_range('2015-1-1', \n",
    "                                      '2015-11-1',\n",
    "                                      freq='m'))\n",
    "\n",
    "print date_series.head()\n"
   ]
  },
  {
   "cell_type": "markdown",
   "metadata": {
    "slideshow": {
     "slide_type": "slide"
    }
   },
   "source": [
    "#DataFrames\n",
    "Data frames extend the concept of Series to tabular data."
   ]
  },
  {
   "cell_type": "code",
   "execution_count": 68,
   "metadata": {
    "collapsed": false,
    "slideshow": {
     "slide_type": "fragment"
    }
   },
   "outputs": [
    {
     "data": {
      "text/html": [
       "<div style=\"max-height:1000px;max-width:1500px;overflow:auto;\">\n",
       "<table border=\"1\" class=\"dataframe\">\n",
       "  <thead>\n",
       "    <tr style=\"text-align: right;\">\n",
       "      <th></th>\n",
       "      <th>a</th>\n",
       "      <th>b</th>\n",
       "      <th>c</th>\n",
       "      <th>d</th>\n",
       "      <th>e</th>\n",
       "    </tr>\n",
       "  </thead>\n",
       "  <tbody>\n",
       "    <tr>\n",
       "      <th>0</th>\n",
       "      <td> 0.879186</td>\n",
       "      <td>-0.483880</td>\n",
       "      <td>-0.193364</td>\n",
       "      <td> 0.538595</td>\n",
       "      <td>-0.479076</td>\n",
       "    </tr>\n",
       "    <tr>\n",
       "      <th>1</th>\n",
       "      <td>-0.504337</td>\n",
       "      <td>-0.815071</td>\n",
       "      <td>-0.255533</td>\n",
       "      <td>-1.637823</td>\n",
       "      <td> 0.962461</td>\n",
       "    </tr>\n",
       "    <tr>\n",
       "      <th>2</th>\n",
       "      <td> 0.462413</td>\n",
       "      <td>-0.097132</td>\n",
       "      <td>-0.943511</td>\n",
       "      <td> 1.720747</td>\n",
       "      <td>-1.114607</td>\n",
       "    </tr>\n",
       "    <tr>\n",
       "      <th>3</th>\n",
       "      <td>-0.232390</td>\n",
       "      <td>-2.556239</td>\n",
       "      <td> 1.997716</td>\n",
       "      <td>-0.626188</td>\n",
       "      <td>-0.106642</td>\n",
       "    </tr>\n",
       "    <tr>\n",
       "      <th>4</th>\n",
       "      <td> 0.479790</td>\n",
       "      <td>-1.744325</td>\n",
       "      <td> 0.768285</td>\n",
       "      <td>-1.557014</td>\n",
       "      <td>-0.573672</td>\n",
       "    </tr>\n",
       "    <tr>\n",
       "      <th>5</th>\n",
       "      <td>-0.599831</td>\n",
       "      <td>-0.210520</td>\n",
       "      <td>-0.449362</td>\n",
       "      <td> 0.869437</td>\n",
       "      <td> 0.394829</td>\n",
       "    </tr>\n",
       "    <tr>\n",
       "      <th>6</th>\n",
       "      <td> 0.764018</td>\n",
       "      <td>-0.153589</td>\n",
       "      <td> 1.326025</td>\n",
       "      <td> 2.292867</td>\n",
       "      <td> 0.378869</td>\n",
       "    </tr>\n",
       "    <tr>\n",
       "      <th>7</th>\n",
       "      <td> 2.852531</td>\n",
       "      <td> 0.565726</td>\n",
       "      <td>-0.040722</td>\n",
       "      <td>-0.905428</td>\n",
       "      <td>-1.298709</td>\n",
       "    </tr>\n",
       "    <tr>\n",
       "      <th>8</th>\n",
       "      <td> 0.553279</td>\n",
       "      <td> 0.380876</td>\n",
       "      <td>-0.349890</td>\n",
       "      <td> 0.232721</td>\n",
       "      <td>-0.279359</td>\n",
       "    </tr>\n",
       "    <tr>\n",
       "      <th>9</th>\n",
       "      <td> 1.672047</td>\n",
       "      <td>-2.654748</td>\n",
       "      <td> 0.251786</td>\n",
       "      <td>-0.102103</td>\n",
       "      <td> 0.265498</td>\n",
       "    </tr>\n",
       "  </tbody>\n",
       "</table>\n",
       "</div>"
      ],
      "text/plain": [
       "          a         b         c         d         e\n",
       "0  0.879186 -0.483880 -0.193364  0.538595 -0.479076\n",
       "1 -0.504337 -0.815071 -0.255533 -1.637823  0.962461\n",
       "2  0.462413 -0.097132 -0.943511  1.720747 -1.114607\n",
       "3 -0.232390 -2.556239  1.997716 -0.626188 -0.106642\n",
       "4  0.479790 -1.744325  0.768285 -1.557014 -0.573672\n",
       "5 -0.599831 -0.210520 -0.449362  0.869437  0.394829\n",
       "6  0.764018 -0.153589  1.326025  2.292867  0.378869\n",
       "7  2.852531  0.565726 -0.040722 -0.905428 -1.298709\n",
       "8  0.553279  0.380876 -0.349890  0.232721 -0.279359\n",
       "9  1.672047 -2.654748  0.251786 -0.102103  0.265498"
      ]
     },
     "execution_count": 68,
     "metadata": {},
     "output_type": "execute_result"
    }
   ],
   "source": [
    "df = pd.DataFrame(np.random.randn(10, 5), \n",
    "                  columns=[x for x in 'abcde'])\n",
    "df"
   ]
  },
  {
   "cell_type": "code",
   "execution_count": 69,
   "metadata": {
    "collapsed": false,
    "slideshow": {
     "slide_type": "slide"
    }
   },
   "outputs": [
    {
     "name": "stdout",
     "output_type": "stream",
     "text": [
      "<class 'pandas.core.series.Series'>\n",
      "<class 'pandas.core.series.Series'>\n"
     ]
    }
   ],
   "source": [
    "# rows and columns in dataframes are both series\n",
    "column = df.a\n",
    "print type(column)\n",
    "row = df.ix[0]\n",
    "print type(row)"
   ]
  },
  {
   "cell_type": "markdown",
   "metadata": {
    "slideshow": {
     "slide_type": "slide"
    }
   },
   "source": [
    "## Working with DataFrames"
   ]
  },
  {
   "cell_type": "code",
   "execution_count": 71,
   "metadata": {
    "collapsed": false,
    "slideshow": {
     "slide_type": "fragment"
    }
   },
   "outputs": [
    {
     "data": {
      "text/html": [
       "<div style=\"max-height:1000px;max-width:1500px;overflow:auto;\">\n",
       "<table border=\"1\" class=\"dataframe\">\n",
       "  <thead>\n",
       "    <tr style=\"text-align: right;\">\n",
       "      <th></th>\n",
       "      <th>a</th>\n",
       "      <th>b</th>\n",
       "      <th>c</th>\n",
       "      <th>d</th>\n",
       "      <th>e</th>\n",
       "      <th>new</th>\n",
       "    </tr>\n",
       "  </thead>\n",
       "  <tbody>\n",
       "    <tr>\n",
       "      <th>0</th>\n",
       "      <td> 0.879186</td>\n",
       "      <td>-0.483880</td>\n",
       "      <td>-0.193364</td>\n",
       "      <td> 0.538595</td>\n",
       "      <td>-0.479076</td>\n",
       "      <td> 1.274492</td>\n",
       "    </tr>\n",
       "    <tr>\n",
       "      <th>1</th>\n",
       "      <td>-0.504337</td>\n",
       "      <td>-0.815071</td>\n",
       "      <td>-0.255533</td>\n",
       "      <td>-1.637823</td>\n",
       "      <td> 0.962461</td>\n",
       "      <td>-1.823744</td>\n",
       "    </tr>\n",
       "    <tr>\n",
       "      <th>2</th>\n",
       "      <td> 0.462413</td>\n",
       "      <td>-0.097132</td>\n",
       "      <td>-0.943511</td>\n",
       "      <td> 1.720747</td>\n",
       "      <td>-1.114607</td>\n",
       "      <td> 0.827694</td>\n",
       "    </tr>\n",
       "    <tr>\n",
       "      <th>3</th>\n",
       "      <td>-0.232390</td>\n",
       "      <td>-2.556239</td>\n",
       "      <td> 1.997716</td>\n",
       "      <td>-0.626188</td>\n",
       "      <td>-0.106642</td>\n",
       "      <td>-3.021019</td>\n",
       "    </tr>\n",
       "    <tr>\n",
       "      <th>4</th>\n",
       "      <td> 0.479790</td>\n",
       "      <td>-1.744325</td>\n",
       "      <td> 0.768285</td>\n",
       "      <td>-1.557014</td>\n",
       "      <td>-0.573672</td>\n",
       "      <td>-0.784746</td>\n",
       "    </tr>\n",
       "    <tr>\n",
       "      <th>5</th>\n",
       "      <td>-0.599831</td>\n",
       "      <td>-0.210520</td>\n",
       "      <td>-0.449362</td>\n",
       "      <td> 0.869437</td>\n",
       "      <td> 0.394829</td>\n",
       "      <td>-1.410181</td>\n",
       "    </tr>\n",
       "    <tr>\n",
       "      <th>6</th>\n",
       "      <td> 0.764018</td>\n",
       "      <td>-0.153589</td>\n",
       "      <td> 1.326025</td>\n",
       "      <td> 2.292867</td>\n",
       "      <td> 0.378869</td>\n",
       "      <td> 1.374447</td>\n",
       "    </tr>\n",
       "    <tr>\n",
       "      <th>7</th>\n",
       "      <td> 2.852531</td>\n",
       "      <td> 0.565726</td>\n",
       "      <td>-0.040722</td>\n",
       "      <td>-0.905428</td>\n",
       "      <td>-1.298709</td>\n",
       "      <td> 6.270788</td>\n",
       "    </tr>\n",
       "    <tr>\n",
       "      <th>8</th>\n",
       "      <td> 0.553279</td>\n",
       "      <td> 0.380876</td>\n",
       "      <td>-0.349890</td>\n",
       "      <td> 0.232721</td>\n",
       "      <td>-0.279359</td>\n",
       "      <td> 1.487435</td>\n",
       "    </tr>\n",
       "    <tr>\n",
       "      <th>9</th>\n",
       "      <td> 1.672047</td>\n",
       "      <td>-2.654748</td>\n",
       "      <td> 0.251786</td>\n",
       "      <td>-0.102103</td>\n",
       "      <td> 0.265498</td>\n",
       "      <td> 0.689346</td>\n",
       "    </tr>\n",
       "  </tbody>\n",
       "</table>\n",
       "</div>"
      ],
      "text/plain": [
       "          a         b         c         d         e       new\n",
       "0  0.879186 -0.483880 -0.193364  0.538595 -0.479076  1.274492\n",
       "1 -0.504337 -0.815071 -0.255533 -1.637823  0.962461 -1.823744\n",
       "2  0.462413 -0.097132 -0.943511  1.720747 -1.114607  0.827694\n",
       "3 -0.232390 -2.556239  1.997716 -0.626188 -0.106642 -3.021019\n",
       "4  0.479790 -1.744325  0.768285 -1.557014 -0.573672 -0.784746\n",
       "5 -0.599831 -0.210520 -0.449362  0.869437  0.394829 -1.410181\n",
       "6  0.764018 -0.153589  1.326025  2.292867  0.378869  1.374447\n",
       "7  2.852531  0.565726 -0.040722 -0.905428 -1.298709  6.270788\n",
       "8  0.553279  0.380876 -0.349890  0.232721 -0.279359  1.487435\n",
       "9  1.672047 -2.654748  0.251786 -0.102103  0.265498  0.689346"
      ]
     },
     "execution_count": 71,
     "metadata": {},
     "output_type": "execute_result"
    }
   ],
   "source": [
    "# add a column\n",
    "df['new'] = 2*df['a'] + df['b']\n",
    "df"
   ]
  },
  {
   "cell_type": "code",
   "execution_count": 73,
   "metadata": {
    "collapsed": false,
    "slideshow": {
     "slide_type": "subslide"
    }
   },
   "outputs": [
    {
     "data": {
      "text/html": [
       "<div style=\"max-height:1000px;max-width:1500px;overflow:auto;\">\n",
       "<table border=\"1\" class=\"dataframe\">\n",
       "  <thead>\n",
       "    <tr style=\"text-align: right;\">\n",
       "      <th></th>\n",
       "      <th>a</th>\n",
       "      <th>b</th>\n",
       "      <th>c</th>\n",
       "      <th>d</th>\n",
       "      <th>e</th>\n",
       "    </tr>\n",
       "  </thead>\n",
       "  <tbody>\n",
       "    <tr>\n",
       "      <th>0</th>\n",
       "      <td> 0.879186</td>\n",
       "      <td>-0.483880</td>\n",
       "      <td>-0.193364</td>\n",
       "      <td> 0.538595</td>\n",
       "      <td>-0.479076</td>\n",
       "    </tr>\n",
       "    <tr>\n",
       "      <th>1</th>\n",
       "      <td>-0.504337</td>\n",
       "      <td>-0.815071</td>\n",
       "      <td>-0.255533</td>\n",
       "      <td>-1.637823</td>\n",
       "      <td> 0.962461</td>\n",
       "    </tr>\n",
       "    <tr>\n",
       "      <th>2</th>\n",
       "      <td> 0.462413</td>\n",
       "      <td>-0.097132</td>\n",
       "      <td>-0.943511</td>\n",
       "      <td> 1.720747</td>\n",
       "      <td>-1.114607</td>\n",
       "    </tr>\n",
       "    <tr>\n",
       "      <th>3</th>\n",
       "      <td>-0.232390</td>\n",
       "      <td>-2.556239</td>\n",
       "      <td> 1.997716</td>\n",
       "      <td>-0.626188</td>\n",
       "      <td>-0.106642</td>\n",
       "    </tr>\n",
       "    <tr>\n",
       "      <th>4</th>\n",
       "      <td> 0.479790</td>\n",
       "      <td>-1.744325</td>\n",
       "      <td> 0.768285</td>\n",
       "      <td>-1.557014</td>\n",
       "      <td>-0.573672</td>\n",
       "    </tr>\n",
       "    <tr>\n",
       "      <th>5</th>\n",
       "      <td>-0.599831</td>\n",
       "      <td>-0.210520</td>\n",
       "      <td>-0.449362</td>\n",
       "      <td> 0.869437</td>\n",
       "      <td> 0.394829</td>\n",
       "    </tr>\n",
       "    <tr>\n",
       "      <th>6</th>\n",
       "      <td> 0.764018</td>\n",
       "      <td>-0.153589</td>\n",
       "      <td> 1.326025</td>\n",
       "      <td> 2.292867</td>\n",
       "      <td> 0.378869</td>\n",
       "    </tr>\n",
       "    <tr>\n",
       "      <th>7</th>\n",
       "      <td> 2.852531</td>\n",
       "      <td> 0.565726</td>\n",
       "      <td>-0.040722</td>\n",
       "      <td>-0.905428</td>\n",
       "      <td>-1.298709</td>\n",
       "    </tr>\n",
       "    <tr>\n",
       "      <th>8</th>\n",
       "      <td> 0.553279</td>\n",
       "      <td> 0.380876</td>\n",
       "      <td>-0.349890</td>\n",
       "      <td> 0.232721</td>\n",
       "      <td>-0.279359</td>\n",
       "    </tr>\n",
       "    <tr>\n",
       "      <th>9</th>\n",
       "      <td> 1.672047</td>\n",
       "      <td>-2.654748</td>\n",
       "      <td> 0.251786</td>\n",
       "      <td>-0.102103</td>\n",
       "      <td> 0.265498</td>\n",
       "    </tr>\n",
       "  </tbody>\n",
       "</table>\n",
       "</div>"
      ],
      "text/plain": [
       "          a         b         c         d         e\n",
       "0  0.879186 -0.483880 -0.193364  0.538595 -0.479076\n",
       "1 -0.504337 -0.815071 -0.255533 -1.637823  0.962461\n",
       "2  0.462413 -0.097132 -0.943511  1.720747 -1.114607\n",
       "3 -0.232390 -2.556239  1.997716 -0.626188 -0.106642\n",
       "4  0.479790 -1.744325  0.768285 -1.557014 -0.573672\n",
       "5 -0.599831 -0.210520 -0.449362  0.869437  0.394829\n",
       "6  0.764018 -0.153589  1.326025  2.292867  0.378869\n",
       "7  2.852531  0.565726 -0.040722 -0.905428 -1.298709\n",
       "8  0.553279  0.380876 -0.349890  0.232721 -0.279359\n",
       "9  1.672047 -2.654748  0.251786 -0.102103  0.265498"
      ]
     },
     "execution_count": 73,
     "metadata": {},
     "output_type": "execute_result"
    }
   ],
   "source": [
    "# delete a column\n",
    "df.drop('new', axis=1)"
   ]
  },
  {
   "cell_type": "code",
   "execution_count": 77,
   "metadata": {
    "collapsed": false,
    "slideshow": {
     "slide_type": "slide"
    }
   },
   "outputs": [
    {
     "data": {
      "text/html": [
       "<div style=\"max-height:1000px;max-width:1500px;overflow:auto;\">\n",
       "<table border=\"1\" class=\"dataframe\">\n",
       "  <thead>\n",
       "    <tr style=\"text-align: right;\">\n",
       "      <th></th>\n",
       "      <th>a</th>\n",
       "      <th>b</th>\n",
       "    </tr>\n",
       "  </thead>\n",
       "  <tbody>\n",
       "    <tr>\n",
       "      <th>0</th>\n",
       "      <td> 0.879186</td>\n",
       "      <td>-0.483880</td>\n",
       "    </tr>\n",
       "    <tr>\n",
       "      <th>1</th>\n",
       "      <td>-0.504337</td>\n",
       "      <td>-0.815071</td>\n",
       "    </tr>\n",
       "    <tr>\n",
       "      <th>2</th>\n",
       "      <td> 0.462413</td>\n",
       "      <td>-0.097132</td>\n",
       "    </tr>\n",
       "    <tr>\n",
       "      <th>3</th>\n",
       "      <td>-0.232390</td>\n",
       "      <td>-2.556239</td>\n",
       "    </tr>\n",
       "    <tr>\n",
       "      <th>4</th>\n",
       "      <td> 0.479790</td>\n",
       "      <td>-1.744325</td>\n",
       "    </tr>\n",
       "    <tr>\n",
       "      <th>5</th>\n",
       "      <td>-0.599831</td>\n",
       "      <td>-0.210520</td>\n",
       "    </tr>\n",
       "    <tr>\n",
       "      <th>6</th>\n",
       "      <td> 0.764018</td>\n",
       "      <td>-0.153589</td>\n",
       "    </tr>\n",
       "    <tr>\n",
       "      <th>7</th>\n",
       "      <td> 2.852531</td>\n",
       "      <td> 0.565726</td>\n",
       "    </tr>\n",
       "    <tr>\n",
       "      <th>8</th>\n",
       "      <td> 0.553279</td>\n",
       "      <td> 0.380876</td>\n",
       "    </tr>\n",
       "    <tr>\n",
       "      <th>9</th>\n",
       "      <td> 1.672047</td>\n",
       "      <td>-2.654748</td>\n",
       "    </tr>\n",
       "  </tbody>\n",
       "</table>\n",
       "</div>"
      ],
      "text/plain": [
       "          a         b\n",
       "0  0.879186 -0.483880\n",
       "1 -0.504337 -0.815071\n",
       "2  0.462413 -0.097132\n",
       "3 -0.232390 -2.556239\n",
       "4  0.479790 -1.744325\n",
       "5 -0.599831 -0.210520\n",
       "6  0.764018 -0.153589\n",
       "7  2.852531  0.565726\n",
       "8  0.553279  0.380876\n",
       "9  1.672047 -2.654748"
      ]
     },
     "execution_count": 77,
     "metadata": {},
     "output_type": "execute_result"
    }
   ],
   "source": [
    "# select a subset\n",
    "df[['a', 'b']]"
   ]
  },
  {
   "cell_type": "code",
   "execution_count": 78,
   "metadata": {
    "collapsed": false,
    "slideshow": {
     "slide_type": "subslide"
    }
   },
   "outputs": [
    {
     "data": {
      "text/html": [
       "<div style=\"max-height:1000px;max-width:1500px;overflow:auto;\">\n",
       "<table border=\"1\" class=\"dataframe\">\n",
       "  <thead>\n",
       "    <tr style=\"text-align: right;\">\n",
       "      <th></th>\n",
       "      <th>a</th>\n",
       "      <th>b</th>\n",
       "      <th>c</th>\n",
       "      <th>d</th>\n",
       "      <th>e</th>\n",
       "      <th>new</th>\n",
       "    </tr>\n",
       "  </thead>\n",
       "  <tbody>\n",
       "    <tr>\n",
       "      <th>0</th>\n",
       "      <td> 0.879186</td>\n",
       "      <td>-0.483880</td>\n",
       "      <td>-0.193364</td>\n",
       "      <td> 0.538595</td>\n",
       "      <td>-0.479076</td>\n",
       "      <td> 1.274492</td>\n",
       "    </tr>\n",
       "    <tr>\n",
       "      <th>1</th>\n",
       "      <td>-0.504337</td>\n",
       "      <td>-0.815071</td>\n",
       "      <td>-0.255533</td>\n",
       "      <td>-1.637823</td>\n",
       "      <td> 0.962461</td>\n",
       "      <td>-1.823744</td>\n",
       "    </tr>\n",
       "    <tr>\n",
       "      <th>2</th>\n",
       "      <td> 0.462413</td>\n",
       "      <td>-0.097132</td>\n",
       "      <td>-0.943511</td>\n",
       "      <td> 1.720747</td>\n",
       "      <td>-1.114607</td>\n",
       "      <td> 0.827694</td>\n",
       "    </tr>\n",
       "    <tr>\n",
       "      <th>3</th>\n",
       "      <td>-0.232390</td>\n",
       "      <td>-2.556239</td>\n",
       "      <td> 1.997716</td>\n",
       "      <td>-0.626188</td>\n",
       "      <td>-0.106642</td>\n",
       "      <td>-3.021019</td>\n",
       "    </tr>\n",
       "    <tr>\n",
       "      <th>4</th>\n",
       "      <td> 0.479790</td>\n",
       "      <td>-1.744325</td>\n",
       "      <td> 0.768285</td>\n",
       "      <td>-1.557014</td>\n",
       "      <td>-0.573672</td>\n",
       "      <td>-0.784746</td>\n",
       "    </tr>\n",
       "    <tr>\n",
       "      <th>6</th>\n",
       "      <td> 0.764018</td>\n",
       "      <td>-0.153589</td>\n",
       "      <td> 1.326025</td>\n",
       "      <td> 2.292867</td>\n",
       "      <td> 0.378869</td>\n",
       "      <td> 1.374447</td>\n",
       "    </tr>\n",
       "    <tr>\n",
       "      <th>7</th>\n",
       "      <td> 2.852531</td>\n",
       "      <td> 0.565726</td>\n",
       "      <td>-0.040722</td>\n",
       "      <td>-0.905428</td>\n",
       "      <td>-1.298709</td>\n",
       "      <td> 6.270788</td>\n",
       "    </tr>\n",
       "    <tr>\n",
       "      <th>9</th>\n",
       "      <td> 1.672047</td>\n",
       "      <td>-2.654748</td>\n",
       "      <td> 0.251786</td>\n",
       "      <td>-0.102103</td>\n",
       "      <td> 0.265498</td>\n",
       "      <td> 0.689346</td>\n",
       "    </tr>\n",
       "  </tbody>\n",
       "</table>\n",
       "</div>"
      ],
      "text/plain": [
       "          a         b         c         d         e       new\n",
       "0  0.879186 -0.483880 -0.193364  0.538595 -0.479076  1.274492\n",
       "1 -0.504337 -0.815071 -0.255533 -1.637823  0.962461 -1.823744\n",
       "2  0.462413 -0.097132 -0.943511  1.720747 -1.114607  0.827694\n",
       "3 -0.232390 -2.556239  1.997716 -0.626188 -0.106642 -3.021019\n",
       "4  0.479790 -1.744325  0.768285 -1.557014 -0.573672 -0.784746\n",
       "6  0.764018 -0.153589  1.326025  2.292867  0.378869  1.374447\n",
       "7  2.852531  0.565726 -0.040722 -0.905428 -1.298709  6.270788\n",
       "9  1.672047 -2.654748  0.251786 -0.102103  0.265498  0.689346"
      ]
     },
     "execution_count": 78,
     "metadata": {},
     "output_type": "execute_result"
    }
   ],
   "source": [
    "df[df.a > 2*df.b]"
   ]
  },
  {
   "cell_type": "code",
   "execution_count": 79,
   "metadata": {
    "collapsed": false,
    "slideshow": {
     "slide_type": "subslide"
    }
   },
   "outputs": [
    {
     "data": {
      "text/html": [
       "<div style=\"max-height:1000px;max-width:1500px;overflow:auto;\">\n",
       "<table border=\"1\" class=\"dataframe\">\n",
       "  <thead>\n",
       "    <tr style=\"text-align: right;\">\n",
       "      <th></th>\n",
       "      <th>a</th>\n",
       "      <th>b</th>\n",
       "      <th>c</th>\n",
       "      <th>d</th>\n",
       "      <th>e</th>\n",
       "      <th>new</th>\n",
       "    </tr>\n",
       "  </thead>\n",
       "  <tbody>\n",
       "    <tr>\n",
       "      <th>0</th>\n",
       "      <td> 0.879186</td>\n",
       "      <td>-0.483880</td>\n",
       "      <td>-0.193364</td>\n",
       "      <td> 0.538595</td>\n",
       "      <td>-0.479076</td>\n",
       "      <td> 1.274492</td>\n",
       "    </tr>\n",
       "    <tr>\n",
       "      <th>2</th>\n",
       "      <td> 0.462413</td>\n",
       "      <td>-0.097132</td>\n",
       "      <td>-0.943511</td>\n",
       "      <td> 1.720747</td>\n",
       "      <td>-1.114607</td>\n",
       "      <td> 0.827694</td>\n",
       "    </tr>\n",
       "    <tr>\n",
       "      <th>7</th>\n",
       "      <td> 2.852531</td>\n",
       "      <td> 0.565726</td>\n",
       "      <td>-0.040722</td>\n",
       "      <td>-0.905428</td>\n",
       "      <td>-1.298709</td>\n",
       "      <td> 6.270788</td>\n",
       "    </tr>\n",
       "    <tr>\n",
       "      <th>8</th>\n",
       "      <td> 0.553279</td>\n",
       "      <td> 0.380876</td>\n",
       "      <td>-0.349890</td>\n",
       "      <td> 0.232721</td>\n",
       "      <td>-0.279359</td>\n",
       "      <td> 1.487435</td>\n",
       "    </tr>\n",
       "  </tbody>\n",
       "</table>\n",
       "</div>"
      ],
      "text/plain": [
       "          a         b         c         d         e       new\n",
       "0  0.879186 -0.483880 -0.193364  0.538595 -0.479076  1.274492\n",
       "2  0.462413 -0.097132 -0.943511  1.720747 -1.114607  0.827694\n",
       "7  2.852531  0.565726 -0.040722 -0.905428 -1.298709  6.270788\n",
       "8  0.553279  0.380876 -0.349890  0.232721 -0.279359  1.487435"
      ]
     },
     "execution_count": 79,
     "metadata": {},
     "output_type": "execute_result"
    }
   ],
   "source": [
    "df[(df.a > 0) & (df.c < 0)]"
   ]
  },
  {
   "cell_type": "code",
   "execution_count": 80,
   "metadata": {
    "collapsed": false,
    "slideshow": {
     "slide_type": "slide"
    }
   },
   "outputs": [
    {
     "data": {
      "text/html": [
       "<div style=\"max-height:1000px;max-width:1500px;overflow:auto;\">\n",
       "<table border=\"1\" class=\"dataframe\">\n",
       "  <thead>\n",
       "    <tr style=\"text-align: right;\">\n",
       "      <th></th>\n",
       "      <th>a</th>\n",
       "      <th>b</th>\n",
       "      <th>c</th>\n",
       "      <th>d</th>\n",
       "      <th>e</th>\n",
       "      <th>new</th>\n",
       "    </tr>\n",
       "  </thead>\n",
       "  <tbody>\n",
       "    <tr>\n",
       "      <th>count</th>\n",
       "      <td> 10.000000</td>\n",
       "      <td> 10.000000</td>\n",
       "      <td> 10.000000</td>\n",
       "      <td> 10.000000</td>\n",
       "      <td> 10.000000</td>\n",
       "      <td> 10.000000</td>\n",
       "    </tr>\n",
       "    <tr>\n",
       "      <th>mean</th>\n",
       "      <td>  0.632671</td>\n",
       "      <td> -0.776890</td>\n",
       "      <td>  0.211143</td>\n",
       "      <td>  0.082581</td>\n",
       "      <td> -0.185041</td>\n",
       "      <td>  0.488451</td>\n",
       "    </tr>\n",
       "    <tr>\n",
       "      <th>std</th>\n",
       "      <td>  1.038425</td>\n",
       "      <td>  1.156146</td>\n",
       "      <td>  0.899133</td>\n",
       "      <td>  1.315686</td>\n",
       "      <td>  0.709528</td>\n",
       "      <td>  2.557780</td>\n",
       "    </tr>\n",
       "    <tr>\n",
       "      <th>min</th>\n",
       "      <td> -0.599831</td>\n",
       "      <td> -2.654748</td>\n",
       "      <td> -0.943511</td>\n",
       "      <td> -1.637823</td>\n",
       "      <td> -1.298709</td>\n",
       "      <td> -3.021019</td>\n",
       "    </tr>\n",
       "    <tr>\n",
       "      <th>25%</th>\n",
       "      <td> -0.058689</td>\n",
       "      <td> -1.512012</td>\n",
       "      <td> -0.326301</td>\n",
       "      <td> -0.835618</td>\n",
       "      <td> -0.550023</td>\n",
       "      <td> -1.253822</td>\n",
       "    </tr>\n",
       "    <tr>\n",
       "      <th>50%</th>\n",
       "      <td>  0.516535</td>\n",
       "      <td> -0.347200</td>\n",
       "      <td> -0.117043</td>\n",
       "      <td>  0.065309</td>\n",
       "      <td> -0.193000</td>\n",
       "      <td>  0.758520</td>\n",
       "    </tr>\n",
       "    <tr>\n",
       "      <th>75%</th>\n",
       "      <td>  0.850394</td>\n",
       "      <td> -0.111247</td>\n",
       "      <td>  0.639160</td>\n",
       "      <td>  0.786727</td>\n",
       "      <td>  0.350526</td>\n",
       "      <td>  1.349458</td>\n",
       "    </tr>\n",
       "    <tr>\n",
       "      <th>max</th>\n",
       "      <td>  2.852531</td>\n",
       "      <td>  0.565726</td>\n",
       "      <td>  1.997716</td>\n",
       "      <td>  2.292867</td>\n",
       "      <td>  0.962461</td>\n",
       "      <td>  6.270788</td>\n",
       "    </tr>\n",
       "  </tbody>\n",
       "</table>\n",
       "</div>"
      ],
      "text/plain": [
       "               a          b          c          d          e        new\n",
       "count  10.000000  10.000000  10.000000  10.000000  10.000000  10.000000\n",
       "mean    0.632671  -0.776890   0.211143   0.082581  -0.185041   0.488451\n",
       "std     1.038425   1.156146   0.899133   1.315686   0.709528   2.557780\n",
       "min    -0.599831  -2.654748  -0.943511  -1.637823  -1.298709  -3.021019\n",
       "25%    -0.058689  -1.512012  -0.326301  -0.835618  -0.550023  -1.253822\n",
       "50%     0.516535  -0.347200  -0.117043   0.065309  -0.193000   0.758520\n",
       "75%     0.850394  -0.111247   0.639160   0.786727   0.350526   1.349458\n",
       "max     2.852531   0.565726   1.997716   2.292867   0.962461   6.270788"
      ]
     },
     "execution_count": 80,
     "metadata": {},
     "output_type": "execute_result"
    }
   ],
   "source": [
    "df.describe()"
   ]
  },
  {
   "cell_type": "markdown",
   "metadata": {
    "slideshow": {
     "slide_type": "slide"
    }
   },
   "source": [
    "#Indexes\n",
    "Pandas Series and Dataframes have a default integer index. Indexes work like a dictionary key, allowing fast lookups based on the index. Indexes can also be exploited for fast group-bys, merges, time-series operations, etc. You can create custom indexes too."
   ]
  },
  {
   "cell_type": "code",
   "execution_count": 87,
   "metadata": {
    "collapsed": false,
    "slideshow": {
     "slide_type": "slide"
    }
   },
   "outputs": [
    {
     "name": "stdout",
     "output_type": "stream",
     "text": [
      "California    0\n",
      "Alabama       1\n",
      "Indiana       2\n",
      "Montana       3\n",
      "Kentucky      4\n",
      "dtype: int64\n",
      "\n",
      "Washington    5\n",
      "Alabama       6\n",
      "Montana       7\n",
      "Indiana       8\n",
      "New York      9\n",
      "dtype: int64\n"
     ]
    }
   ],
   "source": [
    "indexed_series = pd.Series(range(5), \n",
    "                           index = ['California', 'Alabama', \n",
    "                                    'Indiana', 'Montana', \n",
    "                                    'Kentucky'])\n",
    "alt_indexed_series = pd.Series(range(5, 10),\n",
    "                               index = ['Washington', 'Alabama', \n",
    "                                        'Montana', 'Indiana', \n",
    "                                        'New York'])\n",
    "print indexed_series\n",
    "print\n",
    "print alt_indexed_series"
   ]
  },
  {
   "cell_type": "code",
   "execution_count": 88,
   "metadata": {
    "collapsed": false,
    "slideshow": {
     "slide_type": "fragment"
    }
   },
   "outputs": [
    {
     "data": {
      "text/plain": [
       "Alabama        7\n",
       "California   NaN\n",
       "Indiana       10\n",
       "Kentucky     NaN\n",
       "Montana       10\n",
       "New York     NaN\n",
       "Washington   NaN\n",
       "dtype: float64"
      ]
     },
     "execution_count": 88,
     "metadata": {},
     "output_type": "execute_result"
    }
   ],
   "source": [
    "#Pandas uses the index by default to align series for arithmetic\n",
    "indexed_series = pd.Series(range(5), \n",
    "                           index = ['California', 'Alabama', \n",
    "                                    'Indiana', 'Montana', \n",
    "                                    'Kentucky'])\n",
    "alt_indexed_series = pd.Series(range(5, 10),\n",
    "                               index = ['Washington', 'Alabama', \n",
    "                                        'Montana', 'Indiana', \n",
    "                                        'New York'])\n",
    "\n",
    "indexed_series + alt_indexed_series"
   ]
  },
  {
   "cell_type": "code",
   "execution_count": 83,
   "metadata": {
    "collapsed": false,
    "slideshow": {
     "slide_type": "slide"
    }
   },
   "outputs": [
    {
     "data": {
      "text/html": [
       "<div style=\"max-height:1000px;max-width:1500px;overflow:auto;\">\n",
       "<table border=\"1\" class=\"dataframe\">\n",
       "  <thead>\n",
       "    <tr style=\"text-align: right;\">\n",
       "      <th></th>\n",
       "      <th>a</th>\n",
       "      <th>b</th>\n",
       "      <th>c</th>\n",
       "      <th>d</th>\n",
       "      <th>e</th>\n",
       "      <th>new</th>\n",
       "    </tr>\n",
       "  </thead>\n",
       "  <tbody>\n",
       "    <tr>\n",
       "      <th>2015-01-31</th>\n",
       "      <td> 0.879186</td>\n",
       "      <td>-0.483880</td>\n",
       "      <td>-0.193364</td>\n",
       "      <td> 0.538595</td>\n",
       "      <td>-0.479076</td>\n",
       "      <td> 1.274492</td>\n",
       "    </tr>\n",
       "    <tr>\n",
       "      <th>2015-02-28</th>\n",
       "      <td>-0.504337</td>\n",
       "      <td>-0.815071</td>\n",
       "      <td>-0.255533</td>\n",
       "      <td>-1.637823</td>\n",
       "      <td> 0.962461</td>\n",
       "      <td>-1.823744</td>\n",
       "    </tr>\n",
       "    <tr>\n",
       "      <th>2015-03-31</th>\n",
       "      <td> 0.462413</td>\n",
       "      <td>-0.097132</td>\n",
       "      <td>-0.943511</td>\n",
       "      <td> 1.720747</td>\n",
       "      <td>-1.114607</td>\n",
       "      <td> 0.827694</td>\n",
       "    </tr>\n",
       "    <tr>\n",
       "      <th>2015-04-30</th>\n",
       "      <td>-0.232390</td>\n",
       "      <td>-2.556239</td>\n",
       "      <td> 1.997716</td>\n",
       "      <td>-0.626188</td>\n",
       "      <td>-0.106642</td>\n",
       "      <td>-3.021019</td>\n",
       "    </tr>\n",
       "    <tr>\n",
       "      <th>2015-05-31</th>\n",
       "      <td> 0.479790</td>\n",
       "      <td>-1.744325</td>\n",
       "      <td> 0.768285</td>\n",
       "      <td>-1.557014</td>\n",
       "      <td>-0.573672</td>\n",
       "      <td>-0.784746</td>\n",
       "    </tr>\n",
       "    <tr>\n",
       "      <th>2015-06-30</th>\n",
       "      <td>-0.599831</td>\n",
       "      <td>-0.210520</td>\n",
       "      <td>-0.449362</td>\n",
       "      <td> 0.869437</td>\n",
       "      <td> 0.394829</td>\n",
       "      <td>-1.410181</td>\n",
       "    </tr>\n",
       "    <tr>\n",
       "      <th>2015-07-31</th>\n",
       "      <td> 0.764018</td>\n",
       "      <td>-0.153589</td>\n",
       "      <td> 1.326025</td>\n",
       "      <td> 2.292867</td>\n",
       "      <td> 0.378869</td>\n",
       "      <td> 1.374447</td>\n",
       "    </tr>\n",
       "    <tr>\n",
       "      <th>2015-08-31</th>\n",
       "      <td> 2.852531</td>\n",
       "      <td> 0.565726</td>\n",
       "      <td>-0.040722</td>\n",
       "      <td>-0.905428</td>\n",
       "      <td>-1.298709</td>\n",
       "      <td> 6.270788</td>\n",
       "    </tr>\n",
       "    <tr>\n",
       "      <th>2015-09-30</th>\n",
       "      <td> 0.553279</td>\n",
       "      <td> 0.380876</td>\n",
       "      <td>-0.349890</td>\n",
       "      <td> 0.232721</td>\n",
       "      <td>-0.279359</td>\n",
       "      <td> 1.487435</td>\n",
       "    </tr>\n",
       "    <tr>\n",
       "      <th>2015-10-31</th>\n",
       "      <td> 1.672047</td>\n",
       "      <td>-2.654748</td>\n",
       "      <td> 0.251786</td>\n",
       "      <td>-0.102103</td>\n",
       "      <td> 0.265498</td>\n",
       "      <td> 0.689346</td>\n",
       "    </tr>\n",
       "  </tbody>\n",
       "</table>\n",
       "</div>"
      ],
      "text/plain": [
       "                   a         b         c         d         e       new\n",
       "2015-01-31  0.879186 -0.483880 -0.193364  0.538595 -0.479076  1.274492\n",
       "2015-02-28 -0.504337 -0.815071 -0.255533 -1.637823  0.962461 -1.823744\n",
       "2015-03-31  0.462413 -0.097132 -0.943511  1.720747 -1.114607  0.827694\n",
       "2015-04-30 -0.232390 -2.556239  1.997716 -0.626188 -0.106642 -3.021019\n",
       "2015-05-31  0.479790 -1.744325  0.768285 -1.557014 -0.573672 -0.784746\n",
       "2015-06-30 -0.599831 -0.210520 -0.449362  0.869437  0.394829 -1.410181\n",
       "2015-07-31  0.764018 -0.153589  1.326025  2.292867  0.378869  1.374447\n",
       "2015-08-31  2.852531  0.565726 -0.040722 -0.905428 -1.298709  6.270788\n",
       "2015-09-30  0.553279  0.380876 -0.349890  0.232721 -0.279359  1.487435\n",
       "2015-10-31  1.672047 -2.654748  0.251786 -0.102103  0.265498  0.689346"
      ]
     },
     "execution_count": 83,
     "metadata": {},
     "output_type": "execute_result"
    }
   ],
   "source": [
    "#Datetime index\n",
    "dt_index = pd.date_range('2015-1-1', \n",
    "                        '2015-11-1', \n",
    "                        freq='m')\n",
    "df.index = dt_index\n",
    "df"
   ]
  },
  {
   "cell_type": "markdown",
   "metadata": {
    "collapsed": true,
    "slideshow": {
     "slide_type": "slide"
    }
   },
   "source": [
    "# SQL-like operations\n",
    "\n",
    "Pandas dataframes can be combined relationally like SQL tables.\n",
    "\n",
    "Examples: http://pandas.pydata.org/pandas-docs/stable/comparison_with_sql.html"
   ]
  },
  {
   "cell_type": "code",
   "execution_count": null,
   "metadata": {
    "collapsed": true
   },
   "outputs": [],
   "source": []
  }
 ],
 "metadata": {
  "celltoolbar": "Slideshow",
  "kernelspec": {
   "display_name": "Python 2",
   "language": "python",
   "name": "python2"
  },
  "language_info": {
   "codemirror_mode": {
    "name": "ipython",
    "version": 2
   },
   "file_extension": ".py",
   "mimetype": "text/x-python",
   "name": "python",
   "nbconvert_exporter": "python",
   "pygments_lexer": "ipython2",
   "version": "2.7.10"
  }
 },
 "nbformat": 4,
 "nbformat_minor": 0
}
