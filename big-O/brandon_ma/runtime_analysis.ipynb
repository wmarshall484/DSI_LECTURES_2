{
 "cells": [
  {
   "cell_type": "code",
   "execution_count": 1,
   "metadata": {},
   "outputs": [],
   "source": [
    "from matplotlib import pyplot as plt\n",
    "from math import factorial\n",
    "import numpy as np\n",
    "from scipy.special import factorial\n",
    "%config InlineBackend.figure_format = 'retina'"
   ]
  },
  {
   "cell_type": "markdown",
   "metadata": {},
   "source": [
    "# Runtime Analysis\n",
    "\n",
    "## Motivation\n",
    "\n",
    "Ever noticed that sometimes code is slow, and sometimes it's fast?\n",
    "\n",
    "For example, here's a function where \n",
    "* **input**: a document and a list of special words\n",
    "* **output**: the number of times the special words were used in the document"
   ]
  },
  {
   "cell_type": "code",
   "execution_count": 47,
   "metadata": {},
   "outputs": [],
   "source": [
    "def count_special_words( doc: list, special_words: list ) -> int:\n",
    "    special_words = set(special_words)\n",
    "\n",
    "    n_special_words = 0\n",
    "\n",
    "    for word in doc:\n",
    "        if word in special_words:\n",
    "            n_special_words += 1\n",
    "            \n",
    "    return n_special_words"
   ]
  },
  {
   "cell_type": "markdown",
   "metadata": {},
   "source": [
    "Let's test it out on the text of Pride and Prejudice, and 1000 arbitrary words:"
   ]
  },
  {
   "cell_type": "code",
   "execution_count": 48,
   "metadata": {},
   "outputs": [],
   "source": [
    "import nltk\n",
    "\n",
    "# Get Pride and Prejudice\n",
    "pp = nltk.tokenize.word_tokenize( open(\"data/pp.txt\").read().lower() )"
   ]
  },
  {
   "cell_type": "code",
   "execution_count": 49,
   "metadata": {},
   "outputs": [
    {
     "data": {
      "text/plain": [
       "['left',\n",
       " 'the',\n",
       " 'room',\n",
       " ',',\n",
       " 'fatigued',\n",
       " 'with',\n",
       " 'the',\n",
       " 'raptures',\n",
       " 'of',\n",
       " 'his']"
      ]
     },
     "execution_count": 49,
     "metadata": {},
     "output_type": "execute_result"
    }
   ],
   "source": [
    "pp[2000:2010]"
   ]
  },
  {
   "cell_type": "code",
   "execution_count": 50,
   "metadata": {},
   "outputs": [],
   "source": [
    "# Get 1000 arbitrary words\n",
    "words = list(set(pp))\n",
    "special_words = words[0:1000]"
   ]
  },
  {
   "cell_type": "code",
   "execution_count": 51,
   "metadata": {},
   "outputs": [
    {
     "data": {
      "text/plain": [
       "['premises',\n",
       " 'withheld',\n",
       " 'incapable',\n",
       " 'patroness',\n",
       " 'constitution',\n",
       " 'utter',\n",
       " 'teasing',\n",
       " 'fulfil',\n",
       " '!',\n",
       " 'altar']"
      ]
     },
     "execution_count": 51,
     "metadata": {},
     "output_type": "execute_result"
    }
   ],
   "source": [
    "special_words[0:10]"
   ]
  },
  {
   "cell_type": "markdown",
   "metadata": {},
   "source": [
    "How long does it take?"
   ]
  },
  {
   "cell_type": "code",
   "execution_count": 52,
   "metadata": {},
   "outputs": [
    {
     "name": "stdout",
     "output_type": "stream",
     "text": [
      "CPU times: user 8.93 ms, sys: 97 µs, total: 9.02 ms\n",
      "Wall time: 8.98 ms\n"
     ]
    },
    {
     "data": {
      "text/plain": [
       "21371"
      ]
     },
     "execution_count": 52,
     "metadata": {},
     "output_type": "execute_result"
    }
   ],
   "source": [
    "%time count_special_words( pp, special_words )"
   ]
  },
  {
   "cell_type": "markdown",
   "metadata": {},
   "source": [
    "Can we improve this? With one line of code?"
   ]
  },
  {
   "cell_type": "code",
   "execution_count": 53,
   "metadata": {},
   "outputs": [],
   "source": [
    "# put improved implementation here. \n",
    "\n",
    "#%time count_special_words( pp, special_words )"
   ]
  },
  {
   "cell_type": "markdown",
   "metadata": {},
   "source": [
    "## Writing fast code\n",
    "\n",
    "Running software consumes two things: **memory space** and **time**. Of the two, **time** is most valuable, and optimizing speed gets the most attention.\n",
    "\n",
    "There are two ways to speed up code:\n",
    "\n",
    "### 1: Speed up every operation\n",
    "\n",
    "There are two ways to do this:\n",
    "* faster computers\n",
    "* faster programming languages. \n",
    "\n",
    "This comes with two problems:\n",
    "* As software engineers, we can't control this.\n",
    "* At best, we can get a 10x speedup.\n",
    "* Very expensive\n",
    "\n",
    "### 2: Reduce the number of operations\n",
    "\n",
    "In contrast to the above, this\n",
    "* Is something we can control.\n",
    "* Can result in speedups literally by a factor of billions.\n",
    "* Often only takes a few moments to implement.\n",
    "\n",
    "\n",
    "Our main tool in this domain is **runtime analysis**. The goal of runtime analysis is to determine the **time complexity**, which we express with **big-O notation**.\n",
    "\n",
    "A function's time complexity will give us a very rough estimate of execution time and whether or not the function implementation is **tractable**.\n"
   ]
  },
  {
   "cell_type": "markdown",
   "metadata": {},
   "source": [
    "## Fundamental task of runtime analysis: counting operations\n",
    "\n",
    "An **operation** is like a line of code that does one thing. Every operation takes roughly the same amount of time - optimizing operations means optimizing time.\n",
    "\n",
    "How any operations does the following code use? How much time does it take?\n",
    "\n",
    "```python\n",
    "for number in range(n):\n",
    "    print( number )\n",
    "```"
   ]
  },
  {
   "cell_type": "markdown",
   "metadata": {},
   "source": [
    "(this is where the class answers)"
   ]
  },
  {
   "cell_type": "markdown",
   "metadata": {},
   "source": [
    "How many operations does this take? How much time?\n",
    "\n",
    "```python\n",
    "for num0 in range(n):\n",
    "    for num1 in range(n):\n",
    "        print( num0, num1 )\n",
    "```\n",
    "\n",
    "(maybe do it on the board)\n",
    "\n",
    "Yet more:\n",
    "\n",
    "```python\n",
    "word in list_of_words\n",
    "```\n",
    "\n",
    "or\n",
    "\n",
    "```python\n",
    "word0 == word\n",
    "```\n",
    "\n",
    "how about this?\n",
    "\n",
    "```python\n",
    "for i in range(n):\n",
    "    for j in range(n):\n",
    "        pass\n",
    "```"
   ]
  },
  {
   "cell_type": "markdown",
   "metadata": {},
   "source": [
    "How about a big one:"
   ]
  },
  {
   "cell_type": "code",
   "execution_count": 54,
   "metadata": {},
   "outputs": [],
   "source": [
    "from itertools import permutations\n",
    "\n",
    "# returns a list of anagram pairs\n",
    "def find_anagrams(lst):\n",
    "    result = []\n",
    "    for word1 in lst:\n",
    "        for word2 in lst:\n",
    "            if word1 != word2:\n",
    "                for perm in permutations(word1):\n",
    "                    if perm == tuple(word2):\n",
    "                        result.append((word1,word2))\n",
    "    return result"
   ]
  },
  {
   "cell_type": "code",
   "execution_count": 55,
   "metadata": {},
   "outputs": [
    {
     "data": {
      "text/plain": [
       "[('listen', 'silent'), ('silent', 'listen')]"
      ]
     },
     "execution_count": 55,
     "metadata": {},
     "output_type": "execute_result"
    }
   ],
   "source": [
    "find_anagrams( [\"listen\",\"silent\",\"foobar\"] )"
   ]
  },
  {
   "cell_type": "markdown",
   "metadata": {},
   "source": [
    "(work out number of ops on whiteboard)\n",
    "\n",
    "It works out to:\n",
    "\n",
    "$$ 1 + n^2k + n^2k!k + n^2k!$$"
   ]
  },
  {
   "cell_type": "code",
   "execution_count": 56,
   "metadata": {},
   "outputs": [
    {
     "data": {
      "image/png": "[encoded data removed]",
      "text/plain": [
       "<Figure size 720x360 with 2 Axes>"
      ]
     },
     "metadata": {
      "image/png": {
       "height": 352,
       "width": 612
      },
      "needs_background": "light"
     },
     "output_type": "display_data"
    }
   ],
   "source": [
    "term1 = lambda n,k: n**2*k\n",
    "term2 = lambda n,k: n**2*factorial(k)*k\n",
    "term3 = lambda n,k: n**2*factorial(k)\n",
    "\n",
    "fig, (ax0,ax1) = plt.subplots( nrows=1, ncols=2, figsize=(10,5) )\n",
    "\n",
    "n = 5\n",
    "k = np.linspace(1,10)\n",
    "\n",
    "ax0.plot( k, term1(n,k), label=\"$n^2k$\" )\n",
    "ax0.plot( k, term2(n,k), label=\"$n^2k!k$\" )\n",
    "ax0.plot( k, term3(n,k), label=\"$n^2k!$\" )\n",
    "\n",
    "ax0.semilogy()\n",
    "\n",
    "ax0.legend()\n",
    "ax0.set_title(\"n held constant, n=%d\"%n)\n",
    "ax0.set_xlabel(\"k\")\n",
    "ax0.set_ylabel(\"operation count\")\n",
    "\n",
    "n = np.linspace(1,10)\n",
    "k = 5\n",
    "\n",
    "ax1.plot( n, term1(n,k), label=\"$n^2k$\" )\n",
    "ax1.plot( n, term2(n,k), label=\"$n^2k!k$\" )\n",
    "ax1.plot( n, term3(n,k), label=\"$n^2k!$\" )\n",
    "\n",
    "ax1.semilogy()\n",
    "\n",
    "ax1.legend()\n",
    "ax1.set_title(\"k held constant, k=%d\"%k)\n",
    "ax1.set_xlabel(\"n\")\n",
    "ax1.set_ylabel(\"operation count\")\n",
    "ax1.set_ylim( *ax0.get_ylim() )\n",
    "\n",
    "plt.suptitle(\"Contribution of terms to operation count\")\n",
    "\n",
    "plt.show()"
   ]
  },
  {
   "cell_type": "markdown",
   "metadata": {},
   "source": [
    "For large inputs generally the largest term completely dominates. That is, for large inputs the running time is almost completely determined by the largest term."
   ]
  },
  {
   "cell_type": "markdown",
   "metadata": {},
   "source": [
    "## Simplifying Runtime Analysis: \"Big O\"\n",
    "\n",
    "* Runtime expression can get very complicated\n",
    "* A single term often dominates the runtime expression\n",
    "* \"Big O\" notation provides a principled way to simplify runtime expressions"
   ]
  },
  {
   "cell_type": "markdown",
   "metadata": {},
   "source": [
    "Technical definition:\n",
    "    \n",
    "> Let $f$ and $g$ be two functions $f, g: \\mathbb{N} \\rightarrow \\mathbb{R}^+$. We say that:\n",
    "> $$ f(n) \\in \\mathscr{O}(g(n))$$\n",
    "> (read: $f$ is Big-O of $g$) if there exists a constant $c \\in \\mathbb{R}^+$ and $n_0 \\in \\mathbb{N}$ such that for every integer $n \\ge n_0$,\n",
    "> $$ f(n) \\le cg(n) $$\n",
    "\n",
    "$ f(n) \\in \\mathscr{O}(g(n))$ is often written `f = O(g(n))`, or even just `O(g(n))`.\n",
    "\n",
    "Big-O is way of notating when $f$ is _bounded by_ a multiple of $g$, above a some arbitary argument.\n",
    "\n",
    "> For example, imagine I buy a \\\\$5000 oven and get to work making and selling croissants at a marginal profit of \\\\$0.75 per croissant. The expression for the profit is $0.75n - 5000$. In this case, my profit is O(n). \n",
    "> * \\\\$5000 disappears, because we care about large n.\n",
    "> * \\\\$0.75 disappears, because we only care to be _proportional_ to the profit.\n"
   ]
  },
  {
   "cell_type": "code",
   "execution_count": null,
   "metadata": {},
   "outputs": [],
   "source": []
  },
  {
   "cell_type": "markdown",
   "metadata": {},
   "source": [
    "## Big-O in practice"
   ]
  },
  {
   "cell_type": "markdown",
   "metadata": {},
   "source": [
    "What is the Big-O analysis of the anagram running time?\n",
    "\n",
    "$$ 1 + n^2k + n^2k!k + n^2k!$$"
   ]
  },
  {
   "cell_type": "markdown",
   "metadata": {},
   "source": [
    "(whiteboard time)\n",
    "\n",
    "In most cases big-O analaysis can be performed by inspection given a piece of code by multiplying the dominanent term in a chain of nested scopes."
   ]
  },
  {
   "cell_type": "markdown",
   "metadata": {},
   "source": [
    "## Return to the anagram example\n",
    "\n",
    "```python\n",
    "def find_anagrams(lst):\n",
    "    result = []                       \n",
    "    d = defaultdict(list)             \n",
    "    for word in lst:                  \n",
    "        sortedword = sorted(word)     \n",
    "        key = tuple(sortedword)       \n",
    "        d[key].append( word )         \n",
    "    for key, value in d.items():      \n",
    "        if len(value) > 1:            \n",
    "            result.extend( value )    \n",
    "    return result                     \n",
    "```\n",
    "\n",
    "What is the big-O time complexity of this implementation?"
   ]
  },
  {
   "cell_type": "markdown",
   "metadata": {},
   "source": [
    "## Common runtimes to remember\n",
    "\n",
    "| complexity  |  name |  example |  n=10? | n=100?  | n=1000? | n=1e6? | n=1e100?\n",
    "|---|---|---|---|---|---|---|---|\n",
    "|  O(1) | constant  | hash table access (set, dict)  | ✅  |  ✅ | ✅ | ✅ | 😎\n",
    "| O(log n)  |  logarithmic | searching a sorted list  | ✅  | ✅  | ✅ | ✅ | ✅\n",
    "|  O(n) | linear  | searching an unsorted list  | ✅  |  ✅ | ✅ | barely | ❌\n",
    "|  O(n log n) | quasilinear  | sorting a list; shortest path search  | ✅  |  ✅ | ✅ | barely | ❌\n",
    "|  O(n^2) | quadratic  | search a matrix  | ✅  |  ✅ | barely | ❌ | ❌\n",
    "|  O(n^3) | cubic  | triple-nested loop  | ✅  |  barely | ❌ | ❌ | ❌\n",
    "|  O(n^p + n^(p-1)...) | polynomial  | loop nested p deep  | ✅  |  ❌ | ❌ | ❌ | ❌\n",
    "|  O(2^n) | exponential  |  optimizing using dynamic programming  | ✅  |  ❌ | ❌ | ❌ | ❌\n",
    "|  O(n!) | factorial  |  combinatorial problems; brute-force TSP  | barely  |  ❌ | ❌ | ❌ | ❌"
   ]
  },
  {
   "cell_type": "markdown",
   "metadata": {},
   "source": [
    "### List operations\n",
    "\n",
    "| operation | complexity | notes\n",
    "|-----------|------------|--------\n",
    "| appending | O(1)\n",
    "| pop from the end | O(1)\n",
    "| adding to middle | O(n) | Have to slide everything over\n",
    "| pop from the middle | O(n) | \"\n",
    "| lookup by index | O(1) \n",
    "| searching | O(n)\n",
    "| search sorted list | O(log(n)) | binary search algorithm\n",
    "\n",
    "### Dictionary operations\n",
    "\n",
    "| operation | complexity | notes\n",
    "|-----------|------------|--------\n",
    "| insert | O(1)\n",
    "| remove | O(1)\n",
    "| lookup by key | O(1) |\n",
    "| lookup by value | O(n) | have to check every item"
   ]
  },
  {
   "cell_type": "markdown",
   "metadata": {},
   "source": [
    "## Optimizing code for time\n",
    "\n",
    "It's easy to write slow code. Fortunately, it only takes a little extra effort to write really fast code. Here are some rules of thumb.\n",
    "\n",
    "### Avoid hidden internal loops\n",
    "For $n$ larger than a few tens of thousands, complexities above quasilinear (ie, O(n*log(n))) time become intractable. However, it's _very_ easy to write O(n^2) code, either by explicitly writing a double-nested loop or, more common, executing a loop that calls an O(n) function.\n",
    "\n",
    "For example, let's write a function where\n",
    " * input: a document\n",
    " * output: for every word in the original document, the number of times that word appears up to but not including that word."
   ]
  },
  {
   "cell_type": "code",
   "execution_count": 57,
   "metadata": {},
   "outputs": [],
   "source": [
    "def term_count(doc, word, upto_index):\n",
    "    return len( [x for x in doc[0:upto_index] if x==word] )"
   ]
  },
  {
   "cell_type": "code",
   "execution_count": 58,
   "metadata": {},
   "outputs": [],
   "source": [
    "def cumulative_term_count(doc):\n",
    "    ret = []\n",
    "    for i, word in enumerate( doc ):\n",
    "        ret.append( term_count(doc, word, i) )\n",
    "    return ret"
   ]
  },
  {
   "cell_type": "code",
   "execution_count": 61,
   "metadata": {},
   "outputs": [
    {
     "ename": "KeyboardInterrupt",
     "evalue": "",
     "output_type": "error",
     "traceback": [
      "\u001b[0;31m---------------------------------------------------------------------------\u001b[0m",
      "\u001b[0;31mKeyboardInterrupt\u001b[0m                         Traceback (most recent call last)",
      "\u001b[0;32m<ipython-input-61-16e5bf888e64>\u001b[0m in \u001b[0;36m<module>\u001b[0;34m\u001b[0m\n\u001b[1;32m      1\u001b[0m \u001b[0;31m# go ahead. try your luck.\u001b[0m\u001b[0;34m\u001b[0m\u001b[0;34m\u001b[0m\u001b[0;34m\u001b[0m\u001b[0m\n\u001b[0;32m----> 2\u001b[0;31m \u001b[0mcumulative_term_count\u001b[0m\u001b[0;34m(\u001b[0m \u001b[0mpp\u001b[0m \u001b[0;34m)\u001b[0m\u001b[0;34m\u001b[0m\u001b[0;34m\u001b[0m\u001b[0m\n\u001b[0m",
      "\u001b[0;32m<ipython-input-58-6a0cb34a3c21>\u001b[0m in \u001b[0;36mcumulative_term_count\u001b[0;34m(doc)\u001b[0m\n\u001b[1;32m      2\u001b[0m     \u001b[0mret\u001b[0m \u001b[0;34m=\u001b[0m \u001b[0;34m[\u001b[0m\u001b[0;34m]\u001b[0m\u001b[0;34m\u001b[0m\u001b[0;34m\u001b[0m\u001b[0m\n\u001b[1;32m      3\u001b[0m     \u001b[0;32mfor\u001b[0m \u001b[0mi\u001b[0m\u001b[0;34m,\u001b[0m \u001b[0mword\u001b[0m \u001b[0;32min\u001b[0m \u001b[0menumerate\u001b[0m\u001b[0;34m(\u001b[0m \u001b[0mdoc\u001b[0m \u001b[0;34m)\u001b[0m\u001b[0;34m:\u001b[0m\u001b[0;34m\u001b[0m\u001b[0;34m\u001b[0m\u001b[0m\n\u001b[0;32m----> 4\u001b[0;31m         \u001b[0mret\u001b[0m\u001b[0;34m.\u001b[0m\u001b[0mappend\u001b[0m\u001b[0;34m(\u001b[0m \u001b[0mterm_count\u001b[0m\u001b[0;34m(\u001b[0m\u001b[0mdoc\u001b[0m\u001b[0;34m,\u001b[0m \u001b[0mword\u001b[0m\u001b[0;34m,\u001b[0m \u001b[0mi\u001b[0m\u001b[0;34m)\u001b[0m \u001b[0;34m)\u001b[0m\u001b[0;34m\u001b[0m\u001b[0;34m\u001b[0m\u001b[0m\n\u001b[0m\u001b[1;32m      5\u001b[0m     \u001b[0;32mreturn\u001b[0m \u001b[0mret\u001b[0m\u001b[0;34m\u001b[0m\u001b[0;34m\u001b[0m\u001b[0m\n",
      "\u001b[0;32m<ipython-input-57-5cd25415047b>\u001b[0m in \u001b[0;36mterm_count\u001b[0;34m(doc, word, upto_index)\u001b[0m\n\u001b[1;32m      1\u001b[0m \u001b[0;32mdef\u001b[0m \u001b[0mterm_count\u001b[0m\u001b[0;34m(\u001b[0m\u001b[0mdoc\u001b[0m\u001b[0;34m,\u001b[0m \u001b[0mword\u001b[0m\u001b[0;34m,\u001b[0m \u001b[0mupto_index\u001b[0m\u001b[0;34m)\u001b[0m\u001b[0;34m:\u001b[0m\u001b[0;34m\u001b[0m\u001b[0;34m\u001b[0m\u001b[0m\n\u001b[0;32m----> 2\u001b[0;31m     \u001b[0;32mreturn\u001b[0m \u001b[0mlen\u001b[0m\u001b[0;34m(\u001b[0m \u001b[0;34m[\u001b[0m\u001b[0mx\u001b[0m \u001b[0;32mfor\u001b[0m \u001b[0mx\u001b[0m \u001b[0;32min\u001b[0m \u001b[0mdoc\u001b[0m\u001b[0;34m[\u001b[0m\u001b[0;36m0\u001b[0m\u001b[0;34m:\u001b[0m\u001b[0mupto_index\u001b[0m\u001b[0;34m]\u001b[0m \u001b[0;32mif\u001b[0m \u001b[0mx\u001b[0m\u001b[0;34m==\u001b[0m\u001b[0mword\u001b[0m\u001b[0;34m]\u001b[0m \u001b[0;34m)\u001b[0m\u001b[0;34m\u001b[0m\u001b[0;34m\u001b[0m\u001b[0m\n\u001b[0m",
      "\u001b[0;32m<ipython-input-57-5cd25415047b>\u001b[0m in \u001b[0;36m<listcomp>\u001b[0;34m(.0)\u001b[0m\n\u001b[1;32m      1\u001b[0m \u001b[0;32mdef\u001b[0m \u001b[0mterm_count\u001b[0m\u001b[0;34m(\u001b[0m\u001b[0mdoc\u001b[0m\u001b[0;34m,\u001b[0m \u001b[0mword\u001b[0m\u001b[0;34m,\u001b[0m \u001b[0mupto_index\u001b[0m\u001b[0;34m)\u001b[0m\u001b[0;34m:\u001b[0m\u001b[0;34m\u001b[0m\u001b[0;34m\u001b[0m\u001b[0m\n\u001b[0;32m----> 2\u001b[0;31m     \u001b[0;32mreturn\u001b[0m \u001b[0mlen\u001b[0m\u001b[0;34m(\u001b[0m \u001b[0;34m[\u001b[0m\u001b[0mx\u001b[0m \u001b[0;32mfor\u001b[0m \u001b[0mx\u001b[0m \u001b[0;32min\u001b[0m \u001b[0mdoc\u001b[0m\u001b[0;34m[\u001b[0m\u001b[0;36m0\u001b[0m\u001b[0;34m:\u001b[0m\u001b[0mupto_index\u001b[0m\u001b[0;34m]\u001b[0m \u001b[0;32mif\u001b[0m \u001b[0mx\u001b[0m\u001b[0;34m==\u001b[0m\u001b[0mword\u001b[0m\u001b[0;34m]\u001b[0m \u001b[0;34m)\u001b[0m\u001b[0;34m\u001b[0m\u001b[0;34m\u001b[0m\u001b[0m\n\u001b[0m",
      "\u001b[0;31mKeyboardInterrupt\u001b[0m: "
     ]
    }
   ],
   "source": [
    "# go ahead. try your luck.\n",
    "cumulative_term_count( pp )"
   ]
  },
  {
   "cell_type": "markdown",
   "metadata": {},
   "source": [
    "The time complexity of `term_count` is O(n), which is called by `cumulative_term_count` n times, for a total time complexity of O(n^2). Pride and Prejudice is 146820 words long. \n",
    "\n",
    "That n^2 is 21,556,112,400. We've found ourselves in intractable territory.\n",
    "\n",
    "Whenever you find yourself with a O(n^2) or worse algorithm, the primary strategy is generally to change the internal loop from O(n) to O(1) or O(log n) by using either a hash table or sorted list to do most of the work. Let's try:"
   ]
  },
  {
   "cell_type": "code",
   "execution_count": 62,
   "metadata": {},
   "outputs": [],
   "source": [
    "from collections import Counter\n",
    "\n",
    "def cumulative_term_count(doc):\n",
    "    counts = Counter()                    # 1\n",
    "    ret = []                              # 1\n",
    "    for i, word in enumerate( doc ):      # n times\n",
    "        word_count = counts.get(word, 0)  # constant time lookups from dict\n",
    "        ret.append( word_count )          # constant time appends to list\n",
    "        counts.update( word )             # constant time set value to dict\n",
    "    return ret"
   ]
  },
  {
   "cell_type": "markdown",
   "metadata": {},
   "source": [
    "The total operation count in this case is $2 + 3n$; the time complexity is O(n). We did it!"
   ]
  },
  {
   "cell_type": "code",
   "execution_count": 63,
   "metadata": {},
   "outputs": [],
   "source": [
    "foo = cumulative_term_count(pp)"
   ]
  },
  {
   "cell_type": "markdown",
   "metadata": {},
   "source": [
    "## Appendix: the Sieve of Eratosthenes\n",
    "\n",
    "Here's a function that checks whether or not a number is a prime, and then another function that finds every prime less than $n$.\n",
    "\n"
   ]
  },
  {
   "cell_type": "code",
   "execution_count": 57,
   "metadata": {},
   "outputs": [],
   "source": [
    "def is_prime(n):\n",
    "    for i in range(2, int(n**0.5)+1):   # n**5 times\n",
    "        if n%i==0:                      # 1\n",
    "            return False                # 1\n",
    "    return True                         #\n",
    "\n",
    "def get_primes(n):\n",
    "    ret = []                 # 1\n",
    "    for i in range(1,n):     # n times\n",
    "        if is_prime( i ):    # i**0.5\n",
    "            ret.append( i )  # 1\n",
    "    return ret               #"
   ]
  },
  {
   "cell_type": "markdown",
   "metadata": {},
   "source": [
    "The runtime is $1+\\sum^n_{i=0}{\\sqrt{i}}$. The average value of $i$ is $n/2$, simplifying this expression to $1+n{\\sqrt{n/2}} = 1 + n^{1.5}/\\sqrt(2)$.\n",
    "\n",
    "The runtime complexity is thus `O(n^1.5)`. To glance at `get_primes` it might seem to run in linear time, but in fact it's running in superlinear polynomial time. Not great!"
   ]
  },
  {
   "cell_type": "code",
   "execution_count": 56,
   "metadata": {},
   "outputs": [
    {
     "name": "stdout",
     "output_type": "stream",
     "text": [
      "CPU times: user 5.47 s, sys: 25 ms, total: 5.5 s\n",
      "Wall time: 5.53 s\n"
     ]
    }
   ],
   "source": [
    "%time _ = get_primes(1000000)"
   ]
  },
  {
   "cell_type": "code",
   "execution_count": 111,
   "metadata": {},
   "outputs": [],
   "source": [
    "def get_primes(n):\n",
    "    ret = []                               # O(1)\n",
    "    \n",
    "    primes = [True]*n                      # O(n)\n",
    "    primes[0] = False # 0 is not a prime   # O(1)\n",
    "    \n",
    "    for i in range(2, int(n**0.5)+1):      # n^0.5 times\n",
    "        for j in range(i*2, n, i):         # n/i times\n",
    "            primes[j] = False              # O(1)\n",
    "\n",
    "    for i, is_prime in enumerate( primes ):# n times\n",
    "        if is_prime:                       # O(1)\n",
    "            ret.append( i )                # O(1)\n",
    "    \n",
    "    return ret"
   ]
  },
  {
   "cell_type": "markdown",
   "metadata": {},
   "source": [
    "Of central interest is the middle loop, with a number of operations proportional to:\n",
    "\n",
    "$$\\sqrt{n}\\frac{n}{\\sqrt{n}/2} = 2n$$\n",
    "\n",
    "Thus the running time is `O(n)`! Linear!"
   ]
  },
  {
   "cell_type": "code",
   "execution_count": 115,
   "metadata": {},
   "outputs": [
    {
     "name": "stdout",
     "output_type": "stream",
     "text": [
      "CPU times: user 724 ms, sys: 10.9 ms, total: 735 ms\n",
      "Wall time: 740 ms\n"
     ]
    }
   ],
   "source": [
    "%time _ = get_primes(1000000)"
   ]
  },
  {
   "cell_type": "code",
   "execution_count": null,
   "metadata": {},
   "outputs": [],
   "source": []
  }
 ],
 "metadata": {
  "kernelspec": {
   "display_name": "Python 3",
   "language": "python",
   "name": "python3"
  },
  "language_info": {
   "codemirror_mode": {
    "name": "ipython",
    "version": 3
   },
   "file_extension": ".py",
   "mimetype": "text/x-python",
   "name": "python",
   "nbconvert_exporter": "python",
   "pygments_lexer": "ipython3",
   "version": "3.6.8"
  }
 },
 "nbformat": 4,
 "nbformat_minor": 2
}
