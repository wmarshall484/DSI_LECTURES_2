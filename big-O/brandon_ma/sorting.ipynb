{
 "cells": [
  {
   "cell_type": "code",
   "execution_count": 70,
   "metadata": {},
   "outputs": [],
   "source": [
    "import random"
   ]
  },
  {
   "cell_type": "code",
   "execution_count": 71,
   "metadata": {},
   "outputs": [],
   "source": [
    "a = [random.randint(1,1000) for _ in range(100)]"
   ]
  },
  {
   "cell_type": "code",
   "execution_count": 78,
   "metadata": {},
   "outputs": [],
   "source": [
    "# insertion sort\n",
    "\n",
    "b = []\n",
    "for a_i in a:\n",
    "    for j, b_j in enumerate(b):\n",
    "        if a_i < b_j:\n",
    "            b.insert(j, a_i)\n",
    "            break\n",
    "    else:\n",
    "        b.append(a_i)"
   ]
  },
  {
   "cell_type": "code",
   "execution_count": 86,
   "metadata": {},
   "outputs": [],
   "source": [
    "# bubble sort\n",
    "b = a.copy()\n",
    "\n",
    "def is_sorted(ary):\n",
    "    for i in range(len(ary)-1):\n",
    "        if ary[i]>ary[i+1]:\n",
    "            return False\n",
    "    return True\n",
    "\n",
    "while not is_sorted(b):\n",
    "    for i in range(len(b)-1):\n",
    "        if b[i]>b[i+1]:\n",
    "            b[i], b[i+1] = b[i+1], b[i]\n"
   ]
  },
  {
   "cell_type": "code",
   "execution_count": null,
   "metadata": {},
   "outputs": [],
   "source": []
  }
 ],
 "metadata": {
  "kernelspec": {
   "display_name": "Python 3",
   "language": "python",
   "name": "python3"
  },
  "language_info": {
   "codemirror_mode": {
    "name": "ipython",
    "version": 3
   },
   "file_extension": ".py",
   "mimetype": "text/x-python",
   "name": "python",
   "nbconvert_exporter": "python",
   "pygments_lexer": "ipython3",
   "version": "3.6.8"
  }
 },
 "nbformat": 4,
 "nbformat_minor": 2
}
