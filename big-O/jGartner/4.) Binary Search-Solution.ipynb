{
 "cells": [
  {
   "cell_type": "markdown",
   "metadata": {
    "deletable": true,
    "editable": true
   },
   "source": [
    "<h1>Binary Search</h1>\n",
    "<p>We'll be doing a little exercise to see if a particular number is a [Fibonacci number](https://en.wikipedia.org/wiki/Fibonacci_number) using Binary Search. <br/>\n",
    "\n",
    "To start, write a function to build a list of Fibonacci number of length N.  Note, the list should be sorted.</p>"
   ]
  },
  {
   "cell_type": "code",
   "execution_count": 52,
   "metadata": {
    "collapsed": true,
    "deletable": true,
    "editable": true
   },
   "outputs": [],
   "source": [
    "# Any includes you may want to provide\n",
    "%matplotlib inline\n",
    "import matplotlib.pyplot as plt\n",
    "import numpy as np\n"
   ]
  },
  {
   "cell_type": "code",
   "execution_count": 8,
   "metadata": {
    "collapsed": false,
    "deletable": true,
    "editable": true
   },
   "outputs": [
    {
     "name": "stdout",
     "output_type": "stream",
     "text": [
      "[1, 1, 2, 3, 5, 8, 13, 21, 34, 55, 89, 144, 233, 377, 610, 987, 1597, 2584, 4181, 6765]\n"
     ]
    }
   ],
   "source": [
    "def make_fibs(n):\n",
    "    fibs = [1, 1]\n",
    "    if n < 2:\n",
    "        return fibs[n]\n",
    "    for i in range(n-2):\n",
    "        fibs.append(fibs[-1]+fibs[-2])\n",
    "    return fibs\n",
    "    \n",
    "l_fib = make_fibs(20)\n",
    "print(l_fib)"
   ]
  },
  {
   "cell_type": "markdown",
   "metadata": {
    "deletable": true,
    "editable": true
   },
   "source": [
    "<h2>Now we will implement binary search</h2>\n",
    "<p>Binary search works by identifying a pivot (i.e. a number that represents a midway point in the list).  It compares the number to the number you are looking for, until it either finds the number, or it idetifies that it is not in the list.  Write an implementation of binary search that returns the index of the number if it is found, and -1 if not found.  In addition, have the algorythm return the number of comparisons it took to search the 200 elements.</p>"
   ]
  },
  {
   "cell_type": "code",
   "execution_count": 37,
   "metadata": {
    "collapsed": true,
    "deletable": true,
    "editable": true
   },
   "outputs": [],
   "source": [
    "def binary_search(n, l_s):\n",
    "    low, high, n_comp = 0, len(l_s)-1, 0\n",
    "    while low != high:\n",
    "        if n_comp ==10:\n",
    "            break\n",
    "        n_comp += 1\n",
    "        p = int((high-low)/2) + low\n",
    "        if l_s[p]==n:\n",
    "            return (p, n_comp)\n",
    "        if high-low==1:\n",
    "            if l_s[p+1]==n:\n",
    "                return (p+1, n_comp)\n",
    "            return(-1, n_comp)\n",
    "        if l_s[p] < n:\n",
    "            low = p\n",
    "        else:\n",
    "            high = p\n",
    "    return (-1, n_comp)"
   ]
  },
  {
   "cell_type": "code",
   "execution_count": 40,
   "metadata": {
    "collapsed": false,
    "deletable": true,
    "editable": true
   },
   "outputs": [
    {
     "name": "stdout",
     "output_type": "stream",
     "text": [
      "(-1, 5)\n",
      "(6, 3)\n",
      "(5, 4)\n"
     ]
    }
   ],
   "source": [
    "#Unit tests, Expected output:\n",
    "# (-1, 5)\n",
    "# (6, 3)\n",
    "# (5, 4)\n",
    "l_fib = make_fibs(20)\n",
    "print(binary_search(10, l_fib))\n",
    "print(binary_search(13, l_fib))\n",
    "print(binary_search(8, l_fib))"
   ]
  },
  {
   "cell_type": "markdown",
   "metadata": {
    "deletable": true,
    "editable": true
   },
   "source": [
    "<h2>Plot Time Complexity</h2>\n",
    "<p>Use the number of iterations returned by your function to plot the O(n) for an increasing list.</p>"
   ]
  },
  {
   "cell_type": "code",
   "execution_count": 54,
   "metadata": {
    "collapsed": false,
    "deletable": true,
    "editable": true
   },
   "outputs": [
    {
     "name": "stdout",
     "output_type": "stream",
     "text": [
      "(6, 10)\n"
     ]
    },
    {
     "name": "stderr",
     "output_type": "stream",
     "text": [
      "/Library/Frameworks/Python.framework/Versions/3.5/lib/python3.5/site-packages/matplotlib/collections.py:590: FutureWarning: elementwise comparison failed; returning scalar instead, but in the future will perform elementwise comparison\n",
      "  if self._edgecolors == str('face'):\n"
     ]
    },
    {
     "data": {
      "image/png": "[encoded data removed]",
      "text/plain": [
       "<matplotlib.figure.Figure at 0x104ddf3c8>"
      ]
     },
     "metadata": {},
     "output_type": "display_data"
    }
   ],
   "source": [
    "n_fib = [10, 50, 100, 150, 250, 500, 1000]\n",
    "t_search = []\n",
    "for n in n_fib:\n",
    "    l_fib = make_fibs(n)\n",
    "    t_search.append(binary_search(13, l_fib)[1])\n",
    "    \n",
    "print(binary_search(13, l_fib))\n",
    "    \n",
    "plt.figure()\n",
    "plt.scatter(n_fib, t_search, color='r', marker='x', lw=2)\n",
    "plt.xlabel('Input Array Size')\n",
    "plt.ylabel('N Comparisons')\n",
    "plt.title('Binary Search')\n",
    "plt.show()"
   ]
  },
  {
   "cell_type": "code",
   "execution_count": null,
   "metadata": {
    "collapsed": true,
    "deletable": true,
    "editable": true
   },
   "outputs": [],
   "source": []
  }
 ],
 "metadata": {
  "kernelspec": {
   "display_name": "Python 3",
   "language": "python",
   "name": "python3"
  },
  "language_info": {
   "codemirror_mode": {
    "name": "ipython",
    "version": 3
   },
   "file_extension": ".py",
   "mimetype": "text/x-python",
   "name": "python",
   "nbconvert_exporter": "python",
   "pygments_lexer": "ipython3",
   "version": "3.5.2"
  }
 },
 "nbformat": 4,
 "nbformat_minor": 2
}
