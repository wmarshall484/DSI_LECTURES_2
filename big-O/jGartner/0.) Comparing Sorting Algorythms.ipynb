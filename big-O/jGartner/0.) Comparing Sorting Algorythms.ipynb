{
 "cells": [
  {
   "cell_type": "markdown",
   "metadata": {
    "deletable": true,
    "editable": true
   },
   "source": [
    "<h1>Sorting Basics</h1>\n",
    "<p>Algorythmic analysis typically uses the task of sorting a list of integers.  An algorythm is considered bad if it operates O(n^2).</p>"
   ]
  },
  {
   "cell_type": "code",
   "execution_count": 1,
   "metadata": {
    "collapsed": true,
    "deletable": true,
    "editable": true
   },
   "outputs": [],
   "source": [
    "%matplotlib inline\n",
    "\n",
    "import numpy as np\n",
    "import matplotlib.pyplot as plt\n",
    "from copy import copy\n",
    "from scipy.optimize import curve_fit"
   ]
  },
  {
   "cell_type": "markdown",
   "metadata": {
    "deletable": true,
    "editable": true
   },
   "source": [
    "<h2>Create timing decoratore</h2>"
   ]
  },
  {
   "cell_type": "code",
   "execution_count": 2,
   "metadata": {
    "collapsed": false,
    "deletable": true,
    "editable": true
   },
   "outputs": [],
   "source": [
    "import time                                                \n",
    " \n",
    "def timeit(method):\n",
    " \n",
    "    def timed(*args, **kw):\n",
    "        ts = time.time()\n",
    "        result = method(*args, **kw)\n",
    "        te = time.time()\n",
    " \n",
    "        print(\"{0} took {1:0.3e} seconds\".format(method.__name__, te-ts))\n",
    "        return (result, te-ts)\n",
    " \n",
    "    return timed"
   ]
  },
  {
   "cell_type": "markdown",
   "metadata": {
    "deletable": true,
    "editable": true
   },
   "source": [
    "<h2>Define sort functions</h2>\n",
    "<p>We define bubble, shuffle sort, and merge sort.</p>"
   ]
  },
  {
   "cell_type": "code",
   "execution_count": 3,
   "metadata": {
    "collapsed": false,
    "deletable": true,
    "editable": true
   },
   "outputs": [],
   "source": [
    "#n.b. this is optimized bubble sort\n",
    "@timeit\n",
    "def bubble_sort(l_in):\n",
    "    n = len(l_in)\n",
    "    while n > 0:\n",
    "        newn = 0\n",
    "        for i in range(1, n):\n",
    "            if l_in[i-1] > l_in[i]:\n",
    "                l_in[i], l_in[i-1] = l_in[i-1], l_in[i]\n",
    "                newn = i\n",
    "        n = newn\n",
    "\n",
    "def combine(left, right):\n",
    "    r_list = []\n",
    "    l, r = 0, 0\n",
    "    while l<len(left) and r< len(right):\n",
    "        if left[l] < right[r]:\n",
    "            r_list.append(left[l])\n",
    "            l+=1\n",
    "        else:\n",
    "            r_list.append(right[r])\n",
    "            r+=1\n",
    "    if l==len(left):\n",
    "        r_list.extend(right[r:])\n",
    "    else:\n",
    "        r_list.extend(left[l:])\n",
    "    return r_list\n",
    " \n",
    "def merge_sort(l_in):\n",
    "    if len(l_in) == 1:\n",
    "        return l_in\n",
    "    pivot = int(len(l_in)/2)\n",
    "    left = merge_sort(l_in[:pivot])\n",
    "    right = merge_sort(l_in[pivot:])\n",
    "    return combine(left, right)\n",
    "\n",
    "@timeit\n",
    "def wrap_merge(l_in):\n",
    "    return merge_sort(l_in)"
   ]
  },
  {
   "cell_type": "markdown",
   "metadata": {
    "deletable": true,
    "editable": true
   },
   "source": [
    "<h2>Unit Test</h2>"
   ]
  },
  {
   "cell_type": "code",
   "execution_count": 4,
   "metadata": {
    "collapsed": false,
    "deletable": true,
    "editable": true
   },
   "outputs": [
    {
     "name": "stdout",
     "output_type": "stream",
     "text": [
      "wrap_merge took 2.003e-05 seconds\n",
      "([1, 2, 3, 4], 2.002716064453125e-05)\n",
      "[4, 1, 3, 2]\n",
      "bubble_sort took 1.311e-05 seconds\n",
      "(None, 1.3113021850585938e-05)\n",
      "[1, 2, 3, 4]\n"
     ]
    }
   ],
   "source": [
    "the_list = [4, 1, 3, 2]\n",
    "list_cpy = copy(the_list)\n",
    "\n",
    "\n",
    "print(wrap_merge(the_list))\n",
    "print(the_list)\n",
    "print(bubble_sort(the_list))\n",
    "print(the_list)"
   ]
  },
  {
   "cell_type": "markdown",
   "metadata": {
    "deletable": true,
    "editable": true
   },
   "source": [
    "<h2>Plot Time Complexity</h2>"
   ]
  },
  {
   "cell_type": "code",
   "execution_count": 24,
   "metadata": {
    "collapsed": false,
    "deletable": true,
    "editable": true,
    "scrolled": true
   },
   "outputs": [
    {
     "name": "stdout",
     "output_type": "stream",
     "text": [
      "N:  10\n",
      "wrap_merge took 1.092e-04 seconds\n",
      "bubble_sort took 6.390e-05 seconds\n",
      "\n",
      "\n",
      "N:  20\n",
      "wrap_merge took 1.998e-04 seconds\n",
      "bubble_sort took 2.179e-04 seconds\n",
      "\n",
      "\n",
      "N:  50\n",
      "wrap_merge took 2.711e-04 seconds\n",
      "bubble_sort took 5.980e-04 seconds\n",
      "\n",
      "\n",
      "N:  100\n",
      "wrap_merge took 5.848e-04 seconds\n",
      "bubble_sort took 3.493e-03 seconds\n",
      "\n",
      "\n",
      "N:  200\n",
      "wrap_merge took 1.893e-03 seconds\n",
      "bubble_sort took 1.152e-02 seconds\n",
      "\n",
      "\n",
      "N:  500\n",
      "wrap_merge took 5.546e-03 seconds\n",
      "bubble_sort took 8.084e-02 seconds\n",
      "\n",
      "\n",
      "N:  1000\n",
      "wrap_merge took 7.518e-03 seconds\n",
      "bubble_sort took 2.943e-01 seconds\n",
      "\n",
      "\n",
      "N:  2000\n",
      "wrap_merge took 1.544e-02 seconds\n",
      "bubble_sort took 1.075e+00 seconds\n",
      "\n",
      "\n",
      "N:  5000\n",
      "wrap_merge took 4.479e-02 seconds\n",
      "bubble_sort took 7.201e+00 seconds\n",
      "\n",
      "\n",
      "N:  10000\n",
      "wrap_merge took 9.092e-02 seconds\n",
      "bubble_sort took 2.767e+01 seconds\n",
      "\n",
      "\n"
     ]
    }
   ],
   "source": [
    "sizes = [10, 20, 50, 100, 200, 500, 1000, 2000, 5000, 10000]\n",
    "t_m, t_b = [], []\n",
    "\n",
    "for n in sizes:\n",
    "    print(\"N: \", n)\n",
    "    the_list = np.random.randint(10000, size=n)\n",
    "    t_m.append(wrap_merge(the_list)[1])\n",
    "    t_b.append(bubble_sort(the_list)[1])\n",
    "    print(\"\\n\")"
   ]
  },
  {
   "cell_type": "code",
   "execution_count": 29,
   "metadata": {
    "collapsed": true,
    "deletable": true,
    "editable": true
   },
   "outputs": [],
   "source": [
    "def polynomial(x, b0, b1):\n",
    "    return b0*x + b1*x*x\n",
    "\n",
    "def lin_log(x, b0, b1, b2):\n",
    "    return b0 + b1 * x + b2 * x * np.log2(x)"
   ]
  },
  {
   "cell_type": "code",
   "execution_count": 31,
   "metadata": {
    "collapsed": false,
    "deletable": true,
    "editable": true
   },
   "outputs": [],
   "source": [
    "space = np.logspace(1, 5)\n",
    "\n",
    "#lin_fit = list(np.polyfit(sizes, t_b, 2))\n",
    "lin_fit, pcov = curve_fit(polynomial, sizes, t_b)\n",
    "line_lin = [polynomial(x, lin_fit[0], lin_fit[1]) for x in space]\n",
    "\n",
    "log_fit, pcov = curve_fit(lin_log, sizes, t_m)\n",
    "line_log = [lin_log(x, log_fit[0], log_fit[1], log_fit[2]) for x in space]"
   ]
  },
  {
   "cell_type": "code",
   "execution_count": 32,
   "metadata": {
    "collapsed": false,
    "deletable": true,
    "editable": true
   },
   "outputs": [
    {
     "name": "stderr",
     "output_type": "stream",
     "text": [
      "/Library/Frameworks/Python.framework/Versions/3.5/lib/python3.5/site-packages/matplotlib/collections.py:590: FutureWarning: elementwise comparison failed; returning scalar instead, but in the future will perform elementwise comparison\n",
      "  if self._edgecolors == str('face'):\n"
     ]
    },
    {
     "data": {
      "image/png": "[encoded data removed]",
      "text/plain": [
       "<matplotlib.figure.Figure at 0x1076e74a8>"
      ]
     },
     "metadata": {},
     "output_type": "display_data"
    }
   ],
   "source": [
    "# Plot the data + line of best fit\n",
    "fig = plt.figure()\n",
    "ax = fig.add_subplot(111)\n",
    "ax.scatter(sizes, t_b, color='r', marker='x', lw=2, label=\"Bubble Data\")\n",
    "ax.scatter(sizes, t_m, color='b', marker='x', lw=2, label=\"Merge Data\")\n",
    "plt.plot(space, line_lin, color='orange', label=\"Bubble Fit\")\n",
    "plt.plot(space, line_log, color='c', label=\"Merge Fit\")\n",
    "ax.set_xlabel('Input Array Size')\n",
    "ax.set_ylabel('Sort Time (s)')\n",
    "ax.set_xscale(\"log\")\n",
    "ax.set_yscale(\"log\")\n",
    "ax.set_ylim(0.000001, 10000)\n",
    "ax.set_xlim(1, 1000000)\n",
    "ax.set_title('Increasing Time Complexity')\n",
    "plt.legend(loc=\"upper left\", ncol=2, shadow=True, fancybox=True)\n",
    "plt.show()"
   ]
  },
  {
   "cell_type": "markdown",
   "metadata": {
    "collapsed": true,
    "deletable": true,
    "editable": true
   },
   "source": [
    "<h2>Questions</h2>\n",
    "<p>\n",
    "1.) What is the time complexity of merge sort? <br/>\n",
    "2.) What is the space complexity of merge sort? <br/>\n",
    "3.) Is merge sort a good solution for sorting large lists of numbers?\n",
    "</p>"
   ]
  },
  {
   "cell_type": "code",
   "execution_count": 2,
   "metadata": {
    "collapsed": false
   },
   "outputs": [
    {
     "data": {
      "text/plain": [
       "[1, 2, 4, 5, 7, 10, 14, 17]"
      ]
     },
     "execution_count": 2,
     "metadata": {},
     "output_type": "execute_result"
    }
   ],
   "source": [
    "[1, 2, 4, 5, 7, 10, 14, 17]"
   ]
  },
  {
   "cell_type": "code",
   "execution_count": null,
   "metadata": {
    "collapsed": true
   },
   "outputs": [],
   "source": []
  }
 ],
 "metadata": {
  "kernelspec": {
   "display_name": "Python 3",
   "language": "python",
   "name": "python3"
  },
  "language_info": {
   "codemirror_mode": {
    "name": "ipython",
    "version": 3
   },
   "file_extension": ".py",
   "mimetype": "text/x-python",
   "name": "python",
   "nbconvert_exporter": "python",
   "pygments_lexer": "ipython3",
   "version": "3.5.2"
  }
 },
 "nbformat": 4,
 "nbformat_minor": 2
}
