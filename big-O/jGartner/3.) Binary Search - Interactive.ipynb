{
 "cells": [
  {
   "cell_type": "markdown",
   "metadata": {
    "deletable": true,
    "editable": true
   },
   "source": [
    "<h1>Binary Search</h1>\n",
    "<p>We'll be doing a little exercise to see if a particular number is a [Fibonacci number](https://en.wikipedia.org/wiki/Fibonacci_number) using Binary Search. <br/>\n",
    "\n",
    "To start, write a function to build a list of Fibonacci number of length N.  Note, the list should be sorted.</p>"
   ]
  },
  {
   "cell_type": "code",
   "execution_count": null,
   "metadata": {
    "collapsed": true,
    "deletable": true,
    "editable": true
   },
   "outputs": [],
   "source": [
    "# Any includes you may want to provide\n",
    "## YOUR CODE HERE"
   ]
  },
  {
   "cell_type": "code",
   "execution_count": null,
   "metadata": {
    "collapsed": false,
    "deletable": true,
    "editable": true
   },
   "outputs": [],
   "source": [
    "def make_fibs(n):\n",
    "    ## YOUR CODE HERE\n",
    "    \n",
    "l_fib = make_fibs(20)\n",
    "print(l_fib)"
   ]
  },
  {
   "cell_type": "markdown",
   "metadata": {
    "deletable": true,
    "editable": true
   },
   "source": [
    "<h2>Now we will implement binary search</h2>\n",
    "<p>Binary search works by identifying a pivot (i.e. a number that represents a midway point in the list).  It compares the number to the number you are looking for, until it either finds the number, or it idetifies that it is not in the list.  Write an implementation of binary search that returns the index of the number if it is found, and -1 if not found.  In addition, have the algorythm return the number of comparisons it took to search the 200 elements.</p>"
   ]
  },
  {
   "cell_type": "code",
   "execution_count": null,
   "metadata": {
    "collapsed": true,
    "deletable": true,
    "editable": true
   },
   "outputs": [],
   "source": [
    "def binary_search(n, l_s):\n",
    "    ## YOUR CODE HERE"
   ]
  },
  {
   "cell_type": "code",
   "execution_count": null,
   "metadata": {
    "collapsed": false,
    "deletable": true,
    "editable": true
   },
   "outputs": [],
   "source": [
    "#Unit tests, Expected output:\n",
    "# (-1, 5)\n",
    "# (6, 3)\n",
    "# (5, 4)\n",
    "l_fib = make_fibs(20)\n",
    "print(binary_search(10, l_fib))\n",
    "print(binary_search(13, l_fib))\n",
    "print(binary_search(8, l_fib))"
   ]
  },
  {
   "cell_type": "markdown",
   "metadata": {
    "deletable": true,
    "editable": true
   },
   "source": [
    "<h2>Plot Time Complexity</h2>\n",
    "<p>Use the number of iterations returned by your function to plot the O(n) for an increasing list.</p>"
   ]
  },
  {
   "cell_type": "code",
   "execution_count": null,
   "metadata": {
    "collapsed": false,
    "deletable": true,
    "editable": true
   },
   "outputs": [],
   "source": [
    "n_fib = [10, 50, 100, 150, 250, 500, 1000]\n",
    "t_search = []\n",
    "for n in n_fib:\n",
    "    ## YOUR CODE HERE\n",
    "\n",
    "\n",
    "plt.figure()\n",
    "## YOUR CODE HERE\n",
    "plt.show()"
   ]
  },
  {
   "cell_type": "markdown",
   "metadata": {
    "collapsed": true,
    "deletable": true,
    "editable": true
   },
   "source": [
    "<p>With pen and paper (as you would on a whiteboard during an interview), write down the analysis that shows the time complexity of binary search</p>"
   ]
  }
 ],
 "metadata": {
  "kernelspec": {
   "display_name": "Python 3",
   "language": "python",
   "name": "python3"
  },
  "language_info": {
   "codemirror_mode": {
    "name": "ipython",
    "version": 3
   },
   "file_extension": ".py",
   "mimetype": "text/x-python",
   "name": "python",
   "nbconvert_exporter": "python",
   "pygments_lexer": "ipython3",
   "version": "3.5.2"
  }
 },
 "nbformat": 4,
 "nbformat_minor": 2
}
