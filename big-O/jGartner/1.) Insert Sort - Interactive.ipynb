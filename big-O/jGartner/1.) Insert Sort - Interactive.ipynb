{
 "cells": [
  {
   "cell_type": "markdown",
   "metadata": {
    "deletable": true,
    "editable": true
   },
   "source": [
    "<h1>Insert Sort</h1>\n",
    "<p>Imagine you're dealt a hand of cards, and you want to sort by rank.  The way most people do so is scanning left to right, and moving low ranked cards left as you find them.  This technique is calles insert sort, and is an example of an O(n^2) algorythm.  We'll start by creating this algorythm.</p>"
   ]
  },
  {
   "cell_type": "code",
   "execution_count": null,
   "metadata": {
    "collapsed": true,
    "deletable": true,
    "editable": true
   },
   "outputs": [],
   "source": [
    "%matplotlib inline\n",
    "import matplotlib.pyplot as plt\n",
    "import numpy as np\n",
    "from time import time"
   ]
  },
  {
   "cell_type": "code",
   "execution_count": null,
   "metadata": {
    "collapsed": true,
    "deletable": true,
    "editable": true
   },
   "outputs": [],
   "source": [
    "def insert_sort(l_in):\n",
    "    for i in range(len(l_in)):\n",
    "        # Create a 2nd index to itterate down as needed\n",
    "        ##YOUR CODE HERE\n",
    "        while j > 0:\n",
    "            #Check if the element to it's left is less than the current element\n",
    "            if l_in[j-1] > l_in[j]:\n",
    "                #Do an in place swap\n",
    "                ##YOUR CODE HERE\n",
    "                #Itterate your 2nd index down\n",
    "                ##YOUR CODE HERE\n",
    "            #Exit while loop\n",
    "            else:\n",
    "                ##YOUR CODE HERE"
   ]
  },
  {
   "cell_type": "code",
   "execution_count": null,
   "metadata": {
    "collapsed": true,
    "deletable": true,
    "editable": true
   },
   "outputs": [],
   "source": [
    "#Unit test\n",
    "l_test = [4, 1, 3, 2]\n",
    "insert_sort(l_test)\n",
    "print(l_test)"
   ]
  },
  {
   "cell_type": "markdown",
   "metadata": {
    "deletable": true,
    "editable": true
   },
   "source": [
    "<h2>Plotting time growth</h2>"
   ]
  },
  {
   "cell_type": "code",
   "execution_count": null,
   "metadata": {
    "collapsed": false,
    "deletable": true,
    "editable": true
   },
   "outputs": [],
   "source": [
    "n_in = [10, 20, 50, 100, 200, 500, 1000, 2000, 5000, 10000]\n",
    "n_sec = []\n",
    "# Fit Arrays of various size, record time to perform fit\n",
    "for n in n_in:\n",
    "    ##YOUR CODE HERE"
   ]
  },
  {
   "cell_type": "code",
   "execution_count": null,
   "metadata": {
    "collapsed": false,
    "deletable": true,
    "editable": true
   },
   "outputs": [],
   "source": [
    "# Plot the data + line of best fit\n",
    "##YOUR CODE HERE"
   ]
  }
 ],
 "metadata": {
  "kernelspec": {
   "display_name": "Python 3",
   "language": "python",
   "name": "python3"
  },
  "language_info": {
   "codemirror_mode": {
    "name": "ipython",
    "version": 3
   },
   "file_extension": ".py",
   "mimetype": "text/x-python",
   "name": "python",
   "nbconvert_exporter": "python",
   "pygments_lexer": "ipython3",
   "version": "3.5.2"
  }
 },
 "nbformat": 4,
 "nbformat_minor": 2
}
