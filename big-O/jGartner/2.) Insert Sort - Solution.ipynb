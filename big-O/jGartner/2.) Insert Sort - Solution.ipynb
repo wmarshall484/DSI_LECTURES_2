{
 "cells": [
  {
   "cell_type": "markdown",
   "metadata": {
    "deletable": true,
    "editable": true
   },
   "source": [
    "<h1>Insert Sort</h1>\n",
    "<p>Imagine you're dealt a hand of cards, and you want to sort by rank.  The way most people do so is scanning left to right, and moving low ranked cards left as you find them.  This technique is calles insert sort, and is an example of an O(n^2) algorythm.  We'll start by creating this algorythm.</p>"
   ]
  },
  {
   "cell_type": "code",
   "execution_count": null,
   "metadata": {
    "collapsed": true,
    "deletable": true,
    "editable": true
   },
   "outputs": [],
   "source": [
    "%matplotlib inline\n",
    "import matplotlib.pyplot as plt\n",
    "import numpy as np\n",
    "from time import time"
   ]
  },
  {
   "cell_type": "code",
   "execution_count": null,
   "metadata": {
    "collapsed": true,
    "deletable": true,
    "editable": true
   },
   "outputs": [],
   "source": [
    "def insert_sort(l_in):\n",
    "    for i in range(len(l_in)):\n",
    "        # Create a 2nd index to itterate down as needed\n",
    "        j = i\n",
    "        while j > 0:\n",
    "            #Check if the element to it's left is less than the current element\n",
    "            if l_in[j-1] > l_in[j]:\n",
    "                #Do an in place swap\n",
    "                l_in[j], l_in[j-1] = l_in[j-1], l_in[j]\n",
    "                #Itterate your 2nd index down\n",
    "                j -= 1\n",
    "            #Exit while loop\n",
    "            else:\n",
    "                break"
   ]
  },
  {
   "cell_type": "code",
   "execution_count": null,
   "metadata": {
    "collapsed": true
   },
   "outputs": [],
   "source": [
    "#Unit test\n",
    "l_test = [4, 1, 3, 2]\n",
    "insert_sort(l_test)\n",
    "print(l_test)"
   ]
  },
  {
   "cell_type": "markdown",
   "metadata": {
    "deletable": true,
    "editable": true
   },
   "source": [
    "<h2>Plotting time growth</h2>"
   ]
  },
  {
   "cell_type": "code",
   "execution_count": null,
   "metadata": {
    "collapsed": false,
    "deletable": true,
    "editable": true
   },
   "outputs": [],
   "source": [
    "n_in = [10, 20, 50, 100, 200, 500, 1000, 2000, 5000, 10000]\n",
    "n_sec = []\n",
    "# Fit Arrays of various size, record time to perform fit\n",
    "for n in n_in:\n",
    "    start = time()\n",
    "    l_in = np.random.randint(10000, size=n)\n",
    "    insert_sort(l_in)\n",
    "    n_sec.append(time()-start)"
   ]
  },
  {
   "cell_type": "code",
   "execution_count": null,
   "metadata": {
    "collapsed": false,
    "deletable": true,
    "editable": true
   },
   "outputs": [],
   "source": [
    "# Plot the data + line of best fit\n",
    "fit = list(np.polyfit(n_in, n_sec, 2))\n",
    "\n",
    "def polynomial(x, pars):\n",
    "    return pars[2] + pars[1]*x + pars[0]*x*x\n",
    "\n",
    "line_sp = np.linspace(0, 10000)\n",
    "line_fit = [polynomial(x, fit) for x in line_sp]\n",
    "\n",
    "plt.figure()\n",
    "plt.scatter(n_in, n_sec, color='r', marker='x', lw=2)\n",
    "plt.plot(line_sp, line_fit, color='c')\n",
    "plt.xlabel('Input Array Size')\n",
    "plt.ylabel('Sort Time')\n",
    "plt.title('Increasing Time Complexity')\n",
    "plt.text(0, 20, r\"y = {0:0.2e} $x^2$ + {1:0.2e} x + {2:0.2e}\".format(fit[0], fit[1], fit[2]))\n",
    "plt.show()"
   ]
  },
  {
   "cell_type": "code",
   "execution_count": null,
   "metadata": {
    "collapsed": true,
    "deletable": true,
    "editable": true
   },
   "outputs": [],
   "source": []
  }
 ],
 "metadata": {
  "kernelspec": {
   "display_name": "Python 3",
   "language": "python",
   "name": "python3"
  },
  "language_info": {
   "codemirror_mode": {
    "name": "ipython",
    "version": 3
   },
   "file_extension": ".py",
   "mimetype": "text/x-python",
   "name": "python",
   "nbconvert_exporter": "python",
   "pygments_lexer": "ipython3",
   "version": "3.5.2"
  }
 },
 "nbformat": 4,
 "nbformat_minor": 2
}
