{
 "cells": [
  {
   "cell_type": "markdown",
   "metadata": {},
   "source": [
    "### Decorators\n",
    "\n",
    "A decorator is a function that takes another function and extends the behavior of that function without modifying it.\n",
    "\n",
    "Let's build up to this concept.  Example taken from the [Real Python](https://realpython.com/primer-on-python-decorators/) blog."
   ]
  },
  {
   "cell_type": "code",
   "execution_count": null,
   "metadata": {},
   "outputs": [],
   "source": [
    "def my_decorator(func):\n",
    "    def wrapper():\n",
    "        print(\"Something is happening before the function is called.\")\n",
    "        func()\n",
    "        print(\"Something is happening after the function is called.\")\n",
    "    return wrapper"
   ]
  },
  {
   "cell_type": "markdown",
   "metadata": {},
   "source": [
    "Now define a function..."
   ]
  },
  {
   "cell_type": "code",
   "execution_count": null,
   "metadata": {},
   "outputs": [],
   "source": [
    "def say_whee():\n",
    "    print(\"Whee!\")"
   ]
  },
  {
   "cell_type": "code",
   "execution_count": null,
   "metadata": {},
   "outputs": [],
   "source": [
    "# test it out\n",
    "say_whee()"
   ]
  },
  {
   "cell_type": "markdown",
   "metadata": {},
   "source": [
    "Now wrap it (the hard way) with the decorator to extend its functionality"
   ]
  },
  {
   "cell_type": "code",
   "execution_count": null,
   "metadata": {},
   "outputs": [],
   "source": [
    "say_whee = my_decorator(say_whee) # brute force way to assign a \"decorator\""
   ]
  },
  {
   "cell_type": "code",
   "execution_count": null,
   "metadata": {},
   "outputs": [],
   "source": [
    "say_whee()"
   ]
  },
  {
   "cell_type": "markdown",
   "metadata": {},
   "source": [
    "Now let's show people that we know what we are doing.  This does the exact same thing."
   ]
  },
  {
   "cell_type": "code",
   "execution_count": null,
   "metadata": {},
   "outputs": [],
   "source": [
    "@my_decorator\n",
    "def say_whee():\n",
    "    print(\"Whee!\")"
   ]
  },
  {
   "cell_type": "code",
   "execution_count": null,
   "metadata": {},
   "outputs": [],
   "source": [
    "say_whee()"
   ]
  },
  {
   "cell_type": "markdown",
   "metadata": {},
   "source": [
    "Why do this?  Timing functions, for one.  [Example adapted from Medium](https://medium.com/pythonhive/python-decorator-to-measure-the-execution-time-of-methods-fa04cb6bb36d)"
   ]
  },
  {
   "cell_type": "code",
   "execution_count": null,
   "metadata": {},
   "outputs": [],
   "source": [
    "import numpy as np\n",
    "\n",
    "def numpy_sort(nparray):\n",
    "    return(nparray.sort())"
   ]
  },
  {
   "cell_type": "code",
   "execution_count": null,
   "metadata": {},
   "outputs": [],
   "source": [
    "arr = np.random.randint(1,1000000, size=20)\n",
    "print(\"Unsorted:\\n {}\".format(arr))\n",
    "numpy_sort(arr)\n",
    "print(\"Sorted:\\n {}\".format(arr))"
   ]
  },
  {
   "cell_type": "markdown",
   "metadata": {},
   "source": [
    "Add a decorator to time the function."
   ]
  },
  {
   "cell_type": "code",
   "execution_count": null,
   "metadata": {},
   "outputs": [],
   "source": [
    "from time import time\n",
    "\n",
    "def timeit(method):\n",
    "    def timed(*args, **kw):\n",
    "        ts = time()\n",
    "        result = method(*args, **kw)\n",
    "        te = time()\n",
    "        result = te-ts\n",
    "        return result\n",
    "    return timed"
   ]
  },
  {
   "cell_type": "code",
   "execution_count": null,
   "metadata": {},
   "outputs": [],
   "source": [
    "@timeit\n",
    "def numpy_sort(nparray):\n",
    "    return(nparray.sort())"
   ]
  },
  {
   "cell_type": "code",
   "execution_count": null,
   "metadata": {},
   "outputs": [],
   "source": [
    "arr = np.random.randint(1,1000000, size=20)\n",
    "print(\"Unsorted:\\n {}\".format(arr))\n",
    "time_to_sort = numpy_sort(arr)\n",
    "print(\"Sorted:\\n {}\".format(arr))\n",
    "print(\"\\nExecution time: {0:0.4e} seconds.\".format(time_to_sort))"
   ]
  },
  {
   "cell_type": "markdown",
   "metadata": {},
   "source": [
    "### Now the @classmethod and @staticmethod decorators\n",
    "Example taken from [here](https://stackabuse.com/pythons-classmethod-and-staticmethod-explained/)\n",
    "\n",
    "@classmethod - create methods that are passed the class object within the method call (similar to the idea of self) and instantiates an object\n",
    "\n",
    "@staticmethod - provides functionality associated with the class but does not instantiate an object"
   ]
  },
  {
   "cell_type": "code",
   "execution_count": null,
   "metadata": {},
   "outputs": [],
   "source": [
    "class ClassGrades:\n",
    "\n",
    "    def __init__(self, grades):\n",
    "        self.grades = grades\n",
    "\n",
    "    @classmethod\n",
    "    def from_csv(cls, grade_csv_str):\n",
    "        grades = list(map(int, grade_csv_str.split(', ')))\n",
    "        cls.validate(grades)\n",
    "        return cls(grades)\n",
    "\n",
    "\n",
    "    @staticmethod\n",
    "    def validate(grades):\n",
    "        for g in grades:\n",
    "            if g < 0 or g > 100:\n",
    "                raise Exception()\n",
    "\n",
    "try:  \n",
    "    # Try out some valid grades\n",
    "    class_grades_valid = ClassGrades.from_csv('90, 80, 85, 94, 70')\n",
    "    print('Got grades:', class_grades_valid.grades)\n",
    "\n",
    "    # Should fail with invalid grades\n",
    "    class_grades_invalid = ClassGrades.from_csv('92, -15, 99, 101, 77, 65, 100')\n",
    "    print(class_grades_invalid.grades)\n",
    "except:  \n",
    "    print('Invalid!')"
   ]
  },
  {
   "cell_type": "code",
   "execution_count": null,
   "metadata": {},
   "outputs": [],
   "source": []
  }
 ],
 "metadata": {
  "kernelspec": {
   "display_name": "Python 3",
   "language": "python",
   "name": "python3"
  },
  "language_info": {
   "codemirror_mode": {
    "name": "ipython",
    "version": 3
   },
   "file_extension": ".py",
   "mimetype": "text/x-python",
   "name": "python",
   "nbconvert_exporter": "python",
   "pygments_lexer": "ipython3",
   "version": "3.7.3"
  }
 },
 "nbformat": 4,
 "nbformat_minor": 2
}
