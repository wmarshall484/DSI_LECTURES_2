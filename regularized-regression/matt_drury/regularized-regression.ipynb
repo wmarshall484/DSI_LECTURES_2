{
 "cells": [
  {
   "cell_type": "code",
   "execution_count": 1,
   "metadata": {},
   "outputs": [
    {
     "name": "stderr",
     "output_type": "stream",
     "text": [
      "/Users/matthewdrury/anaconda3/lib/python3.6/site-packages/matplotlib/__init__.py:800: MatplotlibDeprecationWarning: axes.color_cycle is deprecated and replaced with axes.prop_cycle; please use the latter.\n",
      "  mplDeprecation)\n"
     ]
    }
   ],
   "source": [
    "from math import ceil\n",
    "import numpy as np\n",
    "import pandas as pd\n",
    "from pandas.plotting import scatter_matrix\n",
    "\n",
    "from sklearn.linear_model import LinearRegression\n",
    "from sklearn.pipeline import Pipeline\n",
    "from sklearn.utils import resample\n",
    "\n",
    "from basis_expansions.basis_expansions import NaturalCubicSpline\n",
    "from regression_tools.dftransformers import (\n",
    "    ColumnSelector, Identity,\n",
    "    FeatureUnion, MapFeature,\n",
    "    StandardScaler)\n",
    "from regression_tools.plotting_tools import (plot_univariate_smooth,\n",
    "                                bootstrap_train,\n",
    "                                display_coef,\n",
    "                                plot_bootstrap_coefs,\n",
    "                                plot_partial_depenence,\n",
    "                                plot_partial_dependences,\n",
    "                                predicteds_vs_actuals)\n",
    "\n",
    "%matplotlib inline\n",
    "import matplotlib.pyplot as plt\n",
    "plt.style.use('ggplot')"
   ]
  },
  {
   "cell_type": "code",
   "execution_count": 2,
   "metadata": {
    "collapsed": true
   },
   "outputs": [],
   "source": [
    "balance = pd.read_csv('balance.csv')\n",
    "balance = balance.drop(balance.columns[[0]], axis=1)"
   ]
  },
  {
   "cell_type": "code",
   "execution_count": 3,
   "metadata": {
    "collapsed": true
   },
   "outputs": [],
   "source": [
    "numeric_predictors = [\n",
    "    \"Income\", \"Limit\", \"Rating\", \"Cards\", \"Age\", \"Education\"]"
   ]
  },
  {
   "cell_type": "code",
   "execution_count": 4,
   "metadata": {
    "collapsed": true
   },
   "outputs": [],
   "source": [
    "def simple_spline_specification(name, knots):\n",
    "    select_name = \"{}_select\".format(name)\n",
    "    spline_name = \"{}_spline\".format(name)\n",
    "    return Pipeline([\n",
    "        (select_name, ColumnSelector(name=name)),\n",
    "        (spline_name, NaturalCubicSpline(knots=knots))\n",
    "    ])"
   ]
  },
  {
   "cell_type": "code",
   "execution_count": 5,
   "metadata": {},
   "outputs": [],
   "source": [
    "income_spec = simple_spline_specification(\"Income\", [25, 50, 75, 100, 125])\n",
    "limit_spec = simple_spline_specification(\"Limit\", [3000, 4000, 5000, 6000, 7000, 8000])\n",
    "rating_spec = simple_spline_specification(\"Rating\", [200, 300, 400, 500, 600])\n",
    "age_spec = simple_spline_specification(\"Age\", [30, 40, 50, 60, 70])\n",
    "education_spec = simple_spline_specification(\"Education\", [8, 10, 12, 14, 16])"
   ]
  },
  {
   "cell_type": "code",
   "execution_count": 6,
   "metadata": {
    "collapsed": true
   },
   "outputs": [],
   "source": [
    "def simple_indicator_specification(var_name, levels):\n",
    "    select_name = \"{}_select\".format(var_name)\n",
    "    map_features = []\n",
    "    for level in levels:\n",
    "        indicator_name = \"{}_{}_indicator\".format(var_name, level)\n",
    "        map_features.append(\n",
    "            (indicator_name, MapFeature(lambda var: var == level, indicator_name))\n",
    "        )\n",
    "    return Pipeline([\n",
    "        (select_name, ColumnSelector(name=var_name)),\n",
    "        (\"indicator_features\", FeatureUnion(map_features))\n",
    "    ])"
   ]
  },
  {
   "cell_type": "code",
   "execution_count": 7,
   "metadata": {},
   "outputs": [],
   "source": [
    "cards_spec = simple_indicator_specification(\"Cards\", [0, 1, 2, 3])\n",
    "is_female = simple_indicator_specification(\"Gender\", \"Female\")\n",
    "student_spec = simple_indicator_specification(\"Student\", \"Yes\")\n",
    "married_spec = simple_indicator_specification(\"Married\", \"Yes\")"
   ]
  },
  {
   "cell_type": "code",
   "execution_count": 8,
   "metadata": {},
   "outputs": [],
   "source": [
    "continuous_features_scaled = Pipeline([\n",
    "    ('continuous_features', FeatureUnion([\n",
    "        ('income_fit', income_spec),\n",
    "        ('limit_fit', limit_spec),\n",
    "        ('rating_fit', rating_spec),\n",
    "        ('age_fit', age_spec),\n",
    "        ('education_fit', education_spec)])),\n",
    "    ('standardizer', StandardScaler())\n",
    "])\n",
    "    \n",
    "    \n",
    "indicator_features = FeatureUnion([\n",
    "    ('cards_fit', cards_spec),\n",
    "    ('education_fit', education_spec),\n",
    "    ('student_fit', student_spec),\n",
    "    ('married_fit', married_spec)\n",
    "])\n",
    "\n",
    "balance_pipeline = FeatureUnion([\n",
    "    ('continuous_features', continuous_features_scaled),\n",
    "    ('indicator_features', indicator_features)\n",
    "])"
   ]
  },
  {
   "cell_type": "code",
   "execution_count": 9,
   "metadata": {},
   "outputs": [],
   "source": [
    "balance_pipeline.fit(balance)\n",
    "balance_modeling = balance_pipeline.transform(balance)"
   ]
  },
  {
   "cell_type": "code",
   "execution_count": null,
   "metadata": {
    "collapsed": true
   },
   "outputs": [],
   "source": []
  }
 ],
 "metadata": {
  "kernelspec": {
   "display_name": "Python 3",
   "language": "python",
   "name": "python3"
  },
  "language_info": {
   "codemirror_mode": {
    "name": "ipython",
    "version": 3
   },
   "file_extension": ".py",
   "mimetype": "text/x-python",
   "name": "python",
   "nbconvert_exporter": "python",
   "pygments_lexer": "ipython3",
   "version": "3.6.3"
  }
 },
 "nbformat": 4,
 "nbformat_minor": 2
}
