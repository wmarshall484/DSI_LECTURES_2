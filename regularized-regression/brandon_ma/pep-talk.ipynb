{
 "cells": [
  {
   "cell_type": "markdown",
   "metadata": {},
   "source": [
    "### Friday pep talk: \"it\"\n",
    "\n",
    "Here's something you may have said to me at some point:\n",
    "\n",
    "> * \"It's failing when I run this line of code.\"\n",
    "> * \"When I give it this command, it's drawing the wrong line.\"\n",
    "> * \"When I pass it to the function, it just sits there.\"\n",
    "\n",
    "Or simply\n",
    "\n",
    "> * \"It isn't working.\"\n",
    "\n",
    "And maybe you've heard me say,\n",
    "\n",
    "> \"What's 'it'?\"\n",
    "\n",
    "Here's why I say that, and here's what I want you to do, and why.\n",
    "\n",
    "Learning programming can be very challenging. So is teaching programming. Sometimes, it seems like there's - this - small, unspoken thing that somehow needs to be communicated before software can make any sense. Some people receive that understanding intuitively, and some people struggle for years. I think that word, `it`, is the key.\n",
    "\n",
    "`It` belies a mental model of human-computer interaction in which here are **two minds**, with **two intentions**. There is your mind, and then there is the machine. And the task of progamming is to convince the other mind - the `it` - to align with your intention.\n",
    "\n",
    "The problem is - _there is no `it`_. There is no other mind; there is no other cohesive entity to possess an intention to resist your own. You are alone in a room with a hunk of atoms.\n",
    "\n",
    "I know you don't consciously think that the computer is another person that hates you, but the way you use the word `it` reveals a mental model based on a single undifferentiated other entity. For example, imagine someone who types a bash command into the shell, sees the wrong result, and says:\n",
    "\n",
    "> * \"When I give it this command, it's drawing the wrong line.\"\n",
    "\n",
    "Here, the first `it` is the bash command prompt. The second `it` is the program you're calling, which is not behaving as expected. The two are totally separate entities, but conflated by the cohesive entity you think of as \"the computer\". As `it`.\n",
    "\n",
    "Writing computer programs with this mental model is really frustating and confusing, because everything is the mysterious whim of an ineffable spirit. You need to learn that there is no spirit, and here's how we'll do it.\n",
    "\n",
    "Don't use the word \"it\" anymore. Every time, instead, say exactly what you're talking about. If you don't know, find out before you say the sentence, or else the sentence doesn't have any meaning. For example:\n",
    "\n",
    "* \"It's failing when I run this line of code.\" -> \"The python interpreter is printing a stack trace when I run this script.\"\n",
    "\n",
    "* \"When I give it this command, it's drawing the wrong line.\" -> \"When execute this bash command, the script draws a different line than expect.\"\n",
    "\n",
    "* \"When I pass it to the function, it just sits there.\" -> \"When I pass the dataframe to the function, the python interpreter doesn't print anything and the function doesn't return anything.\"\n",
    "\n",
    "Finally:\n",
    "\n",
    "* \"It isn't working.\" -> \"I don't know where to start.\"\n",
    "\n",
    "\n",
    "\n"
   ]
  }
 ],
 "metadata": {
  "kernelspec": {
   "display_name": "Python 3",
   "language": "python",
   "name": "python3"
  },
  "language_info": {
   "codemirror_mode": {
    "name": "ipython",
    "version": 3
   },
   "file_extension": ".py",
   "mimetype": "text/x-python",
   "name": "python",
   "nbconvert_exporter": "python",
   "pygments_lexer": "ipython3",
   "version": "3.6.8"
  }
 },
 "nbformat": 4,
 "nbformat_minor": 2
}
