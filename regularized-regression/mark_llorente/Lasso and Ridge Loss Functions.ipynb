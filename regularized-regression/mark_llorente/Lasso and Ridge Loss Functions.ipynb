{
 "cells": [
  {
   "cell_type": "code",
   "execution_count": null,
   "metadata": {
    "collapsed": true
   },
   "outputs": [],
   "source": [
    "import matplotlib.pyplot as plt\n",
    "import numpy as np\n",
    "%matplotlib inline"
   ]
  },
  {
   "cell_type": "markdown",
   "metadata": {},
   "source": [
    "### Train-error and cost function with moderate Lasso constant added"
   ]
  },
  {
   "cell_type": "code",
   "execution_count": null,
   "metadata": {
    "collapsed": true
   },
   "outputs": [],
   "source": [
    "beta=np.linspace(-2,2,601)\n",
    "\n",
    "lam=0.5\n",
    "n_subplots=7\n",
    "\n",
    "mse=(beta-1)**2+.5\n",
    "lasso_penalty=lam*abs(beta)\n",
    "lasso_cost=mse+lasso_penalty\n",
    "\n",
    "plt.plot(beta,mse, c='r', linestyle='--')\n",
    "plt.plot(beta,lasso_penalty, c='b', linestyle=':')\n",
    "plt.plot(beta,lasso_cost, c='m')\n",
    "plt.xlabel('Beta 1')"
   ]
  },
  {
   "cell_type": "markdown",
   "metadata": {},
   "source": [
    "### Varying lambda to increase Lasso penalty"
   ]
  },
  {
   "cell_type": "code",
   "execution_count": null,
   "metadata": {
    "collapsed": true
   },
   "outputs": [],
   "source": [
    "n_subplots=13\n",
    "\n",
    "mse=(beta-1)**2+.5\n",
    "plt.figure(1, figsize=(10,40))\n",
    "\n",
    "for i,lam in enumerate(np.logspace(-2,1,n_subplots),1):\n",
    "    lasso_penalty=lam*abs(beta)\n",
    "    lasso_cost=mse+lasso_penalty\n",
    "    lasso_min=beta[np.argmin(lasso_cost)]\n",
    "\n",
    "    ax=plt.subplot(n_subplots,2,i)\n",
    "    ax.set_title('lamda = {}, min @ {:.{prec}}'.format(lam, lasso_min, prec=3))\n",
    "    ax.plot(beta,mse, c='r', linestyle='--')\n",
    "    ax.plot(beta,lasso_penalty, c='b', linestyle=':')\n",
    "    ax.plot(beta,lasso_cost, c='m')\n",
    "    ax.set_ylim(0,10)\n",
    "    ax.set_xlabel('Beta 1')\n",
    "plt.tight_layout()"
   ]
  },
  {
   "cell_type": "markdown",
   "metadata": {},
   "source": [
    "### Varying lambda to increase Ridge penalty"
   ]
  },
  {
   "cell_type": "code",
   "execution_count": null,
   "metadata": {
    "collapsed": true
   },
   "outputs": [],
   "source": [
    "n_subplots=13\n",
    "\n",
    "mse=(beta-1)**2+.5\n",
    "plt.figure(1, figsize=(10,40))\n",
    "\n",
    "for i,lam in enumerate(np.logspace(-2,1,n_subplots),1):\n",
    "    ridge_penalty=lam*beta**2\n",
    "    ridge_cost=mse+ridge_penalty\n",
    "    ridge_min=beta[np.argmin(ridge_cost)]\n",
    "\n",
    "    ax=plt.subplot(n_subplots,2,i)\n",
    "    ax.set_title('lamda = {}, min @ {:.{prec}}'.format(lam, ridge_min, prec=3))\n",
    "    ax.plot(beta,mse, c='r', linestyle='--')\n",
    "    ax.plot(beta,ridge_penalty, c='b', linestyle=':')\n",
    "    ax.plot(beta,ridge_cost, c='m')\n",
    "    ax.set_ylim(0,10)\n",
    "    ax.set_xlabel('Beta 1')\n",
    "plt.tight_layout()"
   ]
  },
  {
   "cell_type": "markdown",
   "metadata": {},
   "source": [
    "### Lasso with \"varying\" train-error curvature\n",
    "A nice proxy for Lasso with multiple (9) dimensions"
   ]
  },
  {
   "cell_type": "code",
   "execution_count": null,
   "metadata": {
    "collapsed": true
   },
   "outputs": [],
   "source": [
    "n_subplots=9\n",
    "lam=1.5 # as taken from above!\n",
    "lasso_penalty=lam*abs(beta)\n",
    "plt.figure(1, figsize=(10,40))\n",
    "\n",
    "for i,curvature in enumerate(np.linspace(1.8,.2,n_subplots),1):\n",
    "    mse=curvature*(beta-1)**2+.5\n",
    "    lasso_cost=mse+lasso_penalty\n",
    "    lasso_min=beta[np.argmin(lasso_cost)]\n",
    "\n",
    "    ax=plt.subplot(n_subplots,2,i)\n",
    "    ax.set_title('curvature = {}, min @ {:.{prec}}'.format(curvature, lasso_min, prec=3))\n",
    "    ax.plot(beta,mse, c='r', linestyle='--')\n",
    "    ax.plot(beta,lasso_penalty, c='b', linestyle=':')\n",
    "    ax.plot(beta,lasso_cost, c='m')\n",
    "    ax.set_ylim(0,10)\n",
    "    ax.set_xlabel('Beta_{}'.format(i))\n",
    "plt.tight_layout()"
   ]
  },
  {
   "cell_type": "markdown",
   "metadata": {},
   "source": [
    "#### "
   ]
  }
 ],
 "metadata": {
  "kernelspec": {
   "display_name": "Python 3",
   "language": "python",
   "name": "python3"
  },
  "language_info": {
   "codemirror_mode": {
    "name": "ipython",
    "version": 3
   },
   "file_extension": ".py",
   "mimetype": "text/x-python",
   "name": "python",
   "nbconvert_exporter": "python",
   "pygments_lexer": "ipython3",
   "version": "3.6.3"
  }
 },
 "nbformat": 4,
 "nbformat_minor": 2
}
