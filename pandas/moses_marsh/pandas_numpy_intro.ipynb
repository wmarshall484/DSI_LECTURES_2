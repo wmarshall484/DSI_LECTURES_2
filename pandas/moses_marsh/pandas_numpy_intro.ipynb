{
 "cells": [
  {
   "cell_type": "markdown",
   "metadata": {},
   "source": [
    "# Pandas\n",
    "\n",
    "## What is Pandas?\n",
    "A Python library providing data structures and data analysis tools.\n",
    "\n",
    "\n",
    "## Benefits\n",
    "\n",
    "* Efficient storage and processing of data.\n",
    "* Includes many built in functions for data transformation, aggregations, and plotting.\n",
    "* Great for exploratory work.\n",
    "\n",
    "## Not so greats\n",
    "\n",
    "* Does not scale terribly well to large datasets.\n",
    "\n",
    "## Documentation:\n",
    "\n",
    "* http://pandas.pydata.org/pandas-docs/stable/index.html"
   ]
  },
  {
   "cell_type": "code",
   "execution_count": 1,
   "metadata": {},
   "outputs": [],
   "source": [
    "#By convention import pandas like:\n",
    "import pandas as pd\n",
    "\n",
    "#By convention import numpy like:\n",
    "import numpy as np\n",
    "\n",
    "\n",
    "#Make sure you have both lines when using matplotlib in Jupyter notebook\n",
    "import matplotlib.pyplot as plt\n",
    "%matplotlib inline\n",
    "\n",
    "\n",
    "#For fake data.\n",
    "from numpy.random import randn"
   ]
  },
  {
   "cell_type": "markdown",
   "metadata": {},
   "source": [
    "# Pandas \n",
    "* They are built on top of NumPy NdArrays\n",
    "* http://pandas.pydata.org/pandas-docs/stable/comparison_with_sql.html\n",
    "\n",
    "## Objectives\n",
    "\n",
    "* Create `Series` and `DataFrame`s from Python data types. \n",
    "* Create `DataFrame`s from on disk data.\n",
    "* Index and Slice `pandas` objects.\n",
    "* Aggregate data in `DataFrame`s.\n",
    "* Join multiple `DataFrame`s."
   ]
  },
  {
   "cell_type": "markdown",
   "metadata": {},
   "source": [
    "# Pandas is built on Numpy\n",
    "* Numpy is one of the fundamental packages for scientific computing in Python.\n",
    "\n",
    "\n",
    "## Numpy Arrays\n",
    "* Or NdArrays (n-dimensional array)\n",
    "* They are like lists in Python however they allow faster computation\n",
    "    1. They are stored as one contiguous block of memory, rather than being spread out across multiple locations like a list. \n",
    "    2. Each item in a numpy array is of the same data type (i.e. all integers, all floats, etc.), rather than a conglomerate of any number of data types (as a list is). We call this idea homogeneity, as opposed to the possible heterogeneity of Python lists.\n",
    "\n",
    "\n",
    "Just how much faster are they? Let's take the numbers from 0 to 1 million, and sum those numbers, timing it with both a list and a numpy array.\n"
   ]
  },
  {
   "cell_type": "code",
   "execution_count": 3,
   "metadata": {},
   "outputs": [
    {
     "name": "stdout",
     "output_type": "stream",
     "text": [
      "python list\n",
      "19.6 ms ± 0 ns per loop (mean ± std. dev. of 1 run, 100 loops each)\n",
      "0.019594595560000698\n",
      "\n",
      "numpy array\n",
      "705 µs ± 0 ns per loop (mean ± std. dev. of 1 run, 1000 loops each)\n",
      "0.0007054206039999826\n",
      "\n",
      "numpy array -- standard library sum\n",
      "85.2 ms ± 0 ns per loop (mean ± std. dev. of 1 run, 10 loops each)\n",
      "0.08522267759999522\n"
     ]
    }
   ],
   "source": [
    "numpy_array = np.arange(0, 1000000)\n",
    "python_list = range(1000000)\n",
    "\n",
    "print(\"python list\")\n",
    "time = %timeit -r 1 -o sum(python_list)\n",
    "print (time.all_runs[0]/time.loops )\n",
    "\n",
    "print(\"\\n\" + \"numpy array\")\n",
    "time = %timeit -r 1 -o np.sum(numpy_array)\n",
    "print (time.all_runs[0]/time.loops)\n",
    "\n",
    "print(\"\\n\" + \"numpy array -- standard library sum\")\n",
    "time = %timeit -r 1 -o sum(numpy_array)\n",
    "print(time.all_runs[0]/time.loops)"
   ]
  },
  {
   "cell_type": "markdown",
   "metadata": {},
   "source": [
    "# Numpy NdArrays\n",
    "\n",
    "* have types\n",
    "* Each array is of one type"
   ]
  },
  {
   "cell_type": "code",
   "execution_count": 4,
   "metadata": {},
   "outputs": [
    {
     "name": "stdout",
     "output_type": "stream",
     "text": [
      "int64 <U1 <U3\n"
     ]
    }
   ],
   "source": [
    "ints = np.array(range(3))\n",
    "chars = np.array(list('ABC'))\n",
    "strings = np.array(['A','BC',\"DEF\"])\n",
    "\n",
    "print(ints.dtype, chars.dtype, strings.dtype)"
   ]
  },
  {
   "cell_type": "markdown",
   "metadata": {},
   "source": [
    "# Creating and using NdArrays"
   ]
  },
  {
   "cell_type": "code",
   "execution_count": 5,
   "metadata": {},
   "outputs": [],
   "source": [
    "my_lst_ndarray = np.array([1, 2, 3, 4, 5])\n",
    "my_tuple_ndarray = np.array((1, 2, 3, 4, 5), np.int32) "
   ]
  },
  {
   "cell_type": "code",
   "execution_count": 6,
   "metadata": {},
   "outputs": [
    {
     "name": "stdout",
     "output_type": "stream",
     "text": [
      "int64\n",
      "int32\n"
     ]
    }
   ],
   "source": [
    "print(my_lst_ndarray.dtype)\n",
    "print(my_tuple_ndarray.dtype)"
   ]
  },
  {
   "cell_type": "code",
   "execution_count": 7,
   "metadata": {},
   "outputs": [
    {
     "name": "stdout",
     "output_type": "stream",
     "text": [
      "(5,)\n",
      "(5,)\n"
     ]
    }
   ],
   "source": [
    "print(my_lst_ndarray.shape)\n",
    "print(my_tuple_ndarray.shape)"
   ]
  },
  {
   "cell_type": "markdown",
   "metadata": {},
   "source": [
    "# 2D arrays"
   ]
  },
  {
   "cell_type": "code",
   "execution_count": 8,
   "metadata": {},
   "outputs": [
    {
     "data": {
      "text/plain": [
       "array([[ 1,  2,  3,  4,  5],\n",
       "       [ 6,  7,  8,  9, 10],\n",
       "       [11, 12, 13, 14, 15]])"
      ]
     },
     "execution_count": 8,
     "metadata": {},
     "output_type": "execute_result"
    }
   ],
   "source": [
    "nd_arr = np.array([[1, 2, 3, 4, 5],[6, 7, 8, 9, 10],[11, 12, 13, 14, 15]])\n",
    "nd_arr"
   ]
  },
  {
   "cell_type": "markdown",
   "metadata": {},
   "source": [
    "# Access info in the array\n",
    "* Individual data\n",
    "* Slices of data"
   ]
  },
  {
   "cell_type": "code",
   "execution_count": 9,
   "metadata": {},
   "outputs": [
    {
     "data": {
      "text/plain": [
       "7"
      ]
     },
     "execution_count": 9,
     "metadata": {},
     "output_type": "execute_result"
    }
   ],
   "source": [
    "nd_arr[1,1]"
   ]
  },
  {
   "cell_type": "code",
   "execution_count": 10,
   "metadata": {},
   "outputs": [
    {
     "data": {
      "text/plain": [
       "array([[1, 2],\n",
       "       [6, 7]])"
      ]
     },
     "execution_count": 10,
     "metadata": {},
     "output_type": "execute_result"
    }
   ],
   "source": [
    "nd_arr[0:2,0:2]"
   ]
  },
  {
   "cell_type": "code",
   "execution_count": null,
   "metadata": {},
   "outputs": [],
   "source": []
  },
  {
   "cell_type": "code",
   "execution_count": 11,
   "metadata": {},
   "outputs": [
    {
     "data": {
      "text/plain": [
       "(3, 5)"
      ]
     },
     "execution_count": 11,
     "metadata": {},
     "output_type": "execute_result"
    }
   ],
   "source": [
    "nd_arr.shape"
   ]
  },
  {
   "cell_type": "code",
   "execution_count": 12,
   "metadata": {},
   "outputs": [
    {
     "data": {
      "text/plain": [
       "120"
      ]
     },
     "execution_count": 12,
     "metadata": {},
     "output_type": "execute_result"
    }
   ],
   "source": [
    "nd_arr.sum()"
   ]
  },
  {
   "cell_type": "code",
   "execution_count": 13,
   "metadata": {},
   "outputs": [
    {
     "data": {
      "text/plain": [
       "array([15, 40, 65])"
      ]
     },
     "execution_count": 13,
     "metadata": {},
     "output_type": "execute_result"
    }
   ],
   "source": [
    "nd_arr.sum(axis=1)"
   ]
  },
  {
   "cell_type": "code",
   "execution_count": 14,
   "metadata": {},
   "outputs": [
    {
     "data": {
      "text/plain": [
       "15"
      ]
     },
     "execution_count": 14,
     "metadata": {},
     "output_type": "execute_result"
    }
   ],
   "source": [
    "nd_arr.max()"
   ]
  },
  {
   "cell_type": "markdown",
   "metadata": {},
   "source": [
    "# Broadcasting"
   ]
  },
  {
   "cell_type": "code",
   "execution_count": 15,
   "metadata": {},
   "outputs": [
    {
     "name": "stdout",
     "output_type": "stream",
     "text": [
      "(2, 1) (2, 2)\n",
      "\n",
      "\n",
      "[[ 11  12]\n",
      " [-11 -12]]\n"
     ]
    }
   ],
   "source": [
    "a = np.array([[10], [-10]]) \n",
    "b = np.array([[1, 2], [-1, -2]]) \n",
    "\n",
    "print(a.shape, b.shape )\n",
    "print(\"\\n\")\n",
    "print(a + b)\n",
    "\n",
    "# elements will \"duplicate, expand, and fill up\" \n",
    "# to make the dimensions compatible for element-wise operations\n",
    "# cool."
   ]
  },
  {
   "cell_type": "code",
   "execution_count": 16,
   "metadata": {},
   "outputs": [
    {
     "name": "stdout",
     "output_type": "stream",
     "text": [
      "[[ 10]\n",
      " [-10]]\n",
      "[[14]\n",
      " [-6]]\n",
      "[[ 30]\n",
      " [-30]]\n"
     ]
    }
   ],
   "source": [
    "print(a)\n",
    "print(a+4)\n",
    "print(a*3)"
   ]
  },
  {
   "cell_type": "code",
   "execution_count": 17,
   "metadata": {},
   "outputs": [
    {
     "name": "stdout",
     "output_type": "stream",
     "text": [
      "(2, 4) (2, 2)\n",
      "\n"
     ]
    },
    {
     "ename": "ValueError",
     "evalue": "operands could not be broadcast together with shapes (2,4) (2,2) ",
     "output_type": "error",
     "traceback": [
      "\u001b[0;31m---------------------------------------------------------------------------\u001b[0m",
      "\u001b[0;31mValueError\u001b[0m                                Traceback (most recent call last)",
      "\u001b[0;32m<ipython-input-17-f91883d31484>\u001b[0m in \u001b[0;36m<module>\u001b[0;34m()\u001b[0m\n\u001b[1;32m      3\u001b[0m \u001b[0mprint\u001b[0m \u001b[0;34m(\u001b[0m\u001b[0ma\u001b[0m\u001b[0;34m.\u001b[0m\u001b[0mshape\u001b[0m\u001b[0;34m,\u001b[0m \u001b[0mb\u001b[0m\u001b[0;34m.\u001b[0m\u001b[0mshape\u001b[0m \u001b[0;34m)\u001b[0m\u001b[0;34m\u001b[0m\u001b[0m\n\u001b[1;32m      4\u001b[0m \u001b[0mprint\u001b[0m \u001b[0;34m(\u001b[0m\u001b[0;34m\"\"\u001b[0m\u001b[0;34m)\u001b[0m\u001b[0;34m\u001b[0m\u001b[0m\n\u001b[0;32m----> 5\u001b[0;31m \u001b[0mprint\u001b[0m \u001b[0;34m(\u001b[0m\u001b[0ma\u001b[0m \u001b[0;34m+\u001b[0m \u001b[0mb\u001b[0m\u001b[0;34m)\u001b[0m\u001b[0;34m\u001b[0m\u001b[0m\n\u001b[0m\u001b[1;32m      6\u001b[0m \u001b[0;34m\u001b[0m\u001b[0m\n",
      "\u001b[0;31mValueError\u001b[0m: operands could not be broadcast together with shapes (2,4) (2,2) "
     ]
    }
   ],
   "source": [
    "a = np.array([[10, 0, -10, 0],[-10, 0, -10, 0]]) \n",
    "b = np.array([[2,2],[-1,0]]) \n",
    "print (a.shape, b.shape )\n",
    "print (\"\")\n",
    "print (a + b)\n",
    "\n"
   ]
  },
  {
   "cell_type": "code",
   "execution_count": null,
   "metadata": {
    "collapsed": true
   },
   "outputs": [],
   "source": [
    "# it's not clear how it should fill up in this case... so it can't/doesn't"
   ]
  },
  {
   "cell_type": "markdown",
   "metadata": {},
   "source": [
    "----------------------------------------------------\n",
    "\n",
    "# Pandas \n",
    "\n",
    "\n",
    "## Pandas Series\n",
    "* are (one dimensional) np.ndarray vectors **with an index**\n",
    "* They are built upon NdArrays"
   ]
  },
  {
   "cell_type": "code",
   "execution_count": 18,
   "metadata": {},
   "outputs": [
    {
     "name": "stdout",
     "output_type": "stream",
     "text": [
      "0    5775.0\n",
      "1     373.0\n",
      "2       7.0\n",
      "3      42.0\n",
      "4       NaN\n",
      "5      33.0\n",
      "dtype: float64\n",
      "\n",
      "\n",
      "(6,)\n"
     ]
    }
   ],
   "source": [
    "series = pd.Series([5775,373,7,42,np.nan,33])\n",
    "print(series)\n",
    "print(\"\\n\")\n",
    "print(series.shape)"
   ]
  },
  {
   "cell_type": "code",
   "execution_count": 19,
   "metadata": {},
   "outputs": [
    {
     "data": {
      "text/plain": [
       "0      cubs\n",
       "1    royals\n",
       "2    giants\n",
       "3       sox\n",
       "4    giants\n",
       "5     cards\n",
       "6    giants\n",
       "7       ...\n",
       "8      None\n",
       "dtype: object"
      ]
     },
     "execution_count": 19,
     "metadata": {},
     "output_type": "execute_result"
    }
   ],
   "source": [
    "world_series = pd.Series([\"cubs\",\"royals\",\"giants\",\"sox\",\"giants\",\"cards\",\"giants\",\"...\",None])\n",
    "world_series"
   ]
  },
  {
   "cell_type": "markdown",
   "metadata": {},
   "source": [
    "## Pandas Series are very powerful when dealing with dates"
   ]
  },
  {
   "cell_type": "code",
   "execution_count": 20,
   "metadata": {},
   "outputs": [
    {
     "data": {
      "text/plain": [
       "2015-01-31    0.813130\n",
       "2015-02-28   -0.565614\n",
       "2015-03-31    0.576677\n",
       "2015-04-30    0.597328\n",
       "2015-05-31    0.057497\n",
       "2015-06-30   -0.004164\n",
       "2015-07-31    1.134371\n",
       "2015-08-31    0.374322\n",
       "2015-09-30    1.593793\n",
       "2015-10-31   -0.830639\n",
       "Freq: M, dtype: float64"
      ]
     },
     "execution_count": 20,
     "metadata": {},
     "output_type": "execute_result"
    }
   ],
   "source": [
    "#Datetime index\n",
    "dt_index = pd.date_range('2015-1-1', \n",
    "                        '2015-11-1', \n",
    "                        freq='m')\n",
    "dt_series = pd.Series(randn(10), \n",
    "                      index = dt_index)\n",
    "dt_series"
   ]
  },
  {
   "cell_type": "markdown",
   "metadata": {},
   "source": [
    "# Index\n",
    "Notice how each series has an index (in this case a relatively meaningless default index).\n",
    "\n",
    "Pandas can make great use of informative indexes. Indexes work similarly to a dictionary key, allowing fast lookups of the data associated with the index.\n",
    "\n",
    "Indexes can also be exploited for fast group-bys, merges, time-series operations and lots more.\n",
    "\n",
    "When you're really in the zone with pandas, you'll be thinking a lot about indexes."
   ]
  },
  {
   "cell_type": "code",
   "execution_count": 21,
   "metadata": {},
   "outputs": [
    {
     "name": "stdout",
     "output_type": "stream",
     "text": [
      "California   -1.665557\n",
      "Alabama       1.447049\n",
      "Indiana       1.819369\n",
      "Montana      -0.237382\n",
      "Kentucky     -0.506190\n",
      "dtype: float64\n",
      "\n",
      "\n",
      "Washington   -0.702198\n",
      "Alabama       1.163738\n",
      "Montana       0.652911\n",
      "Indiana       0.595966\n",
      "New York     -0.467933\n",
      "dtype: float64\n"
     ]
    }
   ],
   "source": [
    "indexed_series = pd.Series(randn(5), \n",
    "                           index = ['California', 'Alabama', \n",
    "                                    'Indiana', 'Montana', \n",
    "                                    'Kentucky'])\n",
    "alt_indexed_series = pd.Series(randn(5),\n",
    "                               index = ['Washington', 'Alabama', \n",
    "                                        'Montana', 'Indiana', \n",
    "                                        'New York'])\n",
    "print(indexed_series)\n",
    "print('\\n')\n",
    "print(alt_indexed_series)"
   ]
  },
  {
   "cell_type": "code",
   "execution_count": 22,
   "metadata": {},
   "outputs": [
    {
     "data": {
      "text/plain": [
       "Alabama       2.610787\n",
       "California         NaN\n",
       "Indiana       2.415335\n",
       "Kentucky           NaN\n",
       "Montana       0.415529\n",
       "New York           NaN\n",
       "Washington         NaN\n",
       "dtype: float64"
      ]
     },
     "execution_count": 22,
     "metadata": {},
     "output_type": "execute_result"
    }
   ],
   "source": [
    "#Pandas uses the index by default to align series for arithmetic!\n",
    "indexed_series + alt_indexed_series"
   ]
  },
  {
   "cell_type": "markdown",
   "metadata": {},
   "source": [
    "# Pandas DataFrames\n",
    "* are a set of Pandas Series **that share the same index** \n"
   ]
  },
  {
   "cell_type": "code",
   "execution_count": 23,
   "metadata": {},
   "outputs": [
    {
     "data": {
      "text/html": [
       "<div>\n",
       "<style>\n",
       "    .dataframe thead tr:only-child th {\n",
       "        text-align: right;\n",
       "    }\n",
       "\n",
       "    .dataframe thead th {\n",
       "        text-align: left;\n",
       "    }\n",
       "\n",
       "    .dataframe tbody tr th {\n",
       "        vertical-align: top;\n",
       "    }\n",
       "</style>\n",
       "<table border=\"1\" class=\"dataframe\">\n",
       "  <thead>\n",
       "    <tr style=\"text-align: right;\">\n",
       "      <th></th>\n",
       "      <th>a</th>\n",
       "      <th>b</th>\n",
       "      <th>c</th>\n",
       "    </tr>\n",
       "  </thead>\n",
       "  <tbody>\n",
       "    <tr>\n",
       "      <th>foo</th>\n",
       "      <td>1</td>\n",
       "      <td>2</td>\n",
       "      <td>3</td>\n",
       "    </tr>\n",
       "    <tr>\n",
       "      <th>bar</th>\n",
       "      <td>4</td>\n",
       "      <td>5</td>\n",
       "      <td>6</td>\n",
       "    </tr>\n",
       "  </tbody>\n",
       "</table>\n",
       "</div>"
      ],
      "text/plain": [
       "     a  b  c\n",
       "foo  1  2  3\n",
       "bar  4  5  6"
      ]
     },
     "execution_count": 23,
     "metadata": {},
     "output_type": "execute_result"
    }
   ],
   "source": [
    "pd.DataFrame(\n",
    "    [[1, 2, 3], [4, 5, 6]], \n",
    "    columns=['a', 'b', 'c'], \n",
    "    index=['foo', 'bar'])"
   ]
  },
  {
   "cell_type": "code",
   "execution_count": 24,
   "metadata": {},
   "outputs": [
    {
     "data": {
      "text/html": [
       "<div>\n",
       "<style>\n",
       "    .dataframe thead tr:only-child th {\n",
       "        text-align: right;\n",
       "    }\n",
       "\n",
       "    .dataframe thead th {\n",
       "        text-align: left;\n",
       "    }\n",
       "\n",
       "    .dataframe tbody tr th {\n",
       "        vertical-align: top;\n",
       "    }\n",
       "</style>\n",
       "<table border=\"1\" class=\"dataframe\">\n",
       "  <thead>\n",
       "    <tr style=\"text-align: right;\">\n",
       "      <th></th>\n",
       "      <th>a</th>\n",
       "      <th>b</th>\n",
       "      <th>c</th>\n",
       "      <th>d</th>\n",
       "      <th>e</th>\n",
       "    </tr>\n",
       "  </thead>\n",
       "  <tbody>\n",
       "    <tr>\n",
       "      <th>2015-01-31</th>\n",
       "      <td>0.001802</td>\n",
       "      <td>0.330959</td>\n",
       "      <td>-0.117159</td>\n",
       "      <td>-1.053053</td>\n",
       "      <td>0.839262</td>\n",
       "    </tr>\n",
       "    <tr>\n",
       "      <th>2015-02-28</th>\n",
       "      <td>1.261846</td>\n",
       "      <td>2.146015</td>\n",
       "      <td>0.943208</td>\n",
       "      <td>-1.230948</td>\n",
       "      <td>1.028456</td>\n",
       "    </tr>\n",
       "    <tr>\n",
       "      <th>2015-03-31</th>\n",
       "      <td>0.016157</td>\n",
       "      <td>0.540495</td>\n",
       "      <td>1.158699</td>\n",
       "      <td>1.340901</td>\n",
       "      <td>2.279944</td>\n",
       "    </tr>\n",
       "    <tr>\n",
       "      <th>2015-04-30</th>\n",
       "      <td>1.286424</td>\n",
       "      <td>0.055554</td>\n",
       "      <td>-0.330005</td>\n",
       "      <td>1.535541</td>\n",
       "      <td>0.745758</td>\n",
       "    </tr>\n",
       "    <tr>\n",
       "      <th>2015-05-31</th>\n",
       "      <td>-0.041403</td>\n",
       "      <td>0.005423</td>\n",
       "      <td>-0.466109</td>\n",
       "      <td>0.221599</td>\n",
       "      <td>0.541730</td>\n",
       "    </tr>\n",
       "    <tr>\n",
       "      <th>2015-06-30</th>\n",
       "      <td>0.195242</td>\n",
       "      <td>-3.000245</td>\n",
       "      <td>-0.341730</td>\n",
       "      <td>-1.030697</td>\n",
       "      <td>0.113351</td>\n",
       "    </tr>\n",
       "    <tr>\n",
       "      <th>2015-07-31</th>\n",
       "      <td>-0.141635</td>\n",
       "      <td>-0.181972</td>\n",
       "      <td>0.837091</td>\n",
       "      <td>1.372244</td>\n",
       "      <td>1.268435</td>\n",
       "    </tr>\n",
       "    <tr>\n",
       "      <th>2015-08-31</th>\n",
       "      <td>-0.730999</td>\n",
       "      <td>-1.454007</td>\n",
       "      <td>-0.632989</td>\n",
       "      <td>-0.654115</td>\n",
       "      <td>-0.917950</td>\n",
       "    </tr>\n",
       "    <tr>\n",
       "      <th>2015-09-30</th>\n",
       "      <td>0.596635</td>\n",
       "      <td>-0.391445</td>\n",
       "      <td>-0.589018</td>\n",
       "      <td>-1.032677</td>\n",
       "      <td>-1.176668</td>\n",
       "    </tr>\n",
       "    <tr>\n",
       "      <th>2015-10-31</th>\n",
       "      <td>-0.043072</td>\n",
       "      <td>-0.384681</td>\n",
       "      <td>-0.828345</td>\n",
       "      <td>1.082411</td>\n",
       "      <td>0.608415</td>\n",
       "    </tr>\n",
       "  </tbody>\n",
       "</table>\n",
       "</div>"
      ],
      "text/plain": [
       "                   a         b         c         d         e\n",
       "2015-01-31  0.001802  0.330959 -0.117159 -1.053053  0.839262\n",
       "2015-02-28  1.261846  2.146015  0.943208 -1.230948  1.028456\n",
       "2015-03-31  0.016157  0.540495  1.158699  1.340901  2.279944\n",
       "2015-04-30  1.286424  0.055554 -0.330005  1.535541  0.745758\n",
       "2015-05-31 -0.041403  0.005423 -0.466109  0.221599  0.541730\n",
       "2015-06-30  0.195242 -3.000245 -0.341730 -1.030697  0.113351\n",
       "2015-07-31 -0.141635 -0.181972  0.837091  1.372244  1.268435\n",
       "2015-08-31 -0.730999 -1.454007 -0.632989 -0.654115 -0.917950\n",
       "2015-09-30  0.596635 -0.391445 -0.589018 -1.032677 -1.176668\n",
       "2015-10-31 -0.043072 -0.384681 -0.828345  1.082411  0.608415"
      ]
     },
     "execution_count": 24,
     "metadata": {},
     "output_type": "execute_result"
    }
   ],
   "source": [
    "df = pd.DataFrame(randn(10, 5), index=dt_index, columns=[x for x in 'abcde'])\n",
    "df"
   ]
  },
  {
   "cell_type": "code",
   "execution_count": null,
   "metadata": {},
   "outputs": [],
   "source": [
    "# To select just one column, use brackets\n",
    "df['a']"
   ]
  },
  {
   "cell_type": "code",
   "execution_count": 27,
   "metadata": {},
   "outputs": [
    {
     "data": {
      "text/plain": [
       "a   -0.043072\n",
       "b   -0.384681\n",
       "c   -0.828345\n",
       "d    1.082411\n",
       "e    0.608415\n",
       "Name: 2015-10-31 00:00:00, dtype: float64"
      ]
     },
     "execution_count": 27,
     "metadata": {},
     "output_type": "execute_result"
    }
   ],
   "source": [
    "# To select one row, use .loc[]\n",
    "df.loc['2015-10-31']"
   ]
  },
  {
   "cell_type": "code",
   "execution_count": 28,
   "metadata": {},
   "outputs": [
    {
     "data": {
      "text/plain": [
       "pandas.core.series.Series"
      ]
     },
     "execution_count": 28,
     "metadata": {},
     "output_type": "execute_result"
    }
   ],
   "source": [
    "# A column of a dataframe is a series:\n",
    "col = df['d']\n",
    "type(col)"
   ]
  },
  {
   "cell_type": "code",
   "execution_count": 29,
   "metadata": {},
   "outputs": [
    {
     "data": {
      "text/plain": [
       "pandas.core.series.Series"
      ]
     },
     "execution_count": 29,
     "metadata": {},
     "output_type": "execute_result"
    }
   ],
   "source": [
    "# So is a row.\n",
    "row = df.loc['2015-01-31']\n",
    "type(row)"
   ]
  },
  {
   "cell_type": "code",
   "execution_count": 30,
   "metadata": {},
   "outputs": [
    {
     "data": {
      "text/plain": [
       "DatetimeIndex(['2015-01-31', '2015-02-28', '2015-03-31', '2015-04-30',\n",
       "               '2015-05-31', '2015-06-30', '2015-07-31', '2015-08-31',\n",
       "               '2015-09-30', '2015-10-31'],\n",
       "              dtype='datetime64[ns]', freq='M')"
      ]
     },
     "execution_count": 30,
     "metadata": {},
     "output_type": "execute_result"
    }
   ],
   "source": [
    "#The columns all have the same index:\n",
    "col.index   "
   ]
  },
  {
   "cell_type": "code",
   "execution_count": 31,
   "metadata": {},
   "outputs": [
    {
     "data": {
      "text/plain": [
       "Index(['a', 'b', 'c', 'd', 'e'], dtype='object')"
      ]
     },
     "execution_count": 31,
     "metadata": {},
     "output_type": "execute_result"
    }
   ],
   "source": [
    "#What's the index for the rows?\n",
    "row.index"
   ]
  },
  {
   "cell_type": "markdown",
   "metadata": {},
   "source": [
    "# Pandas DataFrame basics"
   ]
  },
  {
   "cell_type": "code",
   "execution_count": 32,
   "metadata": {},
   "outputs": [
    {
     "data": {
      "text/plain": [
       "2015-01-31    0.001802\n",
       "2015-02-28    1.261846\n",
       "2015-03-31    0.016157\n",
       "2015-04-30    1.286424\n",
       "2015-05-31   -0.041403\n",
       "2015-06-30    0.195242\n",
       "2015-07-31   -0.141635\n",
       "2015-08-31   -0.730999\n",
       "2015-09-30    0.596635\n",
       "2015-10-31   -0.043072\n",
       "Freq: M, Name: a, dtype: float64"
      ]
     },
     "execution_count": 32,
     "metadata": {},
     "output_type": "execute_result"
    }
   ],
   "source": [
    "df['a']"
   ]
  },
  {
   "cell_type": "code",
   "execution_count": 33,
   "metadata": {},
   "outputs": [
    {
     "data": {
      "text/html": [
       "<div>\n",
       "<style>\n",
       "    .dataframe thead tr:only-child th {\n",
       "        text-align: right;\n",
       "    }\n",
       "\n",
       "    .dataframe thead th {\n",
       "        text-align: left;\n",
       "    }\n",
       "\n",
       "    .dataframe tbody tr th {\n",
       "        vertical-align: top;\n",
       "    }\n",
       "</style>\n",
       "<table border=\"1\" class=\"dataframe\">\n",
       "  <thead>\n",
       "    <tr style=\"text-align: right;\">\n",
       "      <th></th>\n",
       "      <th>a</th>\n",
       "      <th>b</th>\n",
       "    </tr>\n",
       "  </thead>\n",
       "  <tbody>\n",
       "    <tr>\n",
       "      <th>2015-01-31</th>\n",
       "      <td>0.001802</td>\n",
       "      <td>0.330959</td>\n",
       "    </tr>\n",
       "    <tr>\n",
       "      <th>2015-02-28</th>\n",
       "      <td>1.261846</td>\n",
       "      <td>2.146015</td>\n",
       "    </tr>\n",
       "    <tr>\n",
       "      <th>2015-03-31</th>\n",
       "      <td>0.016157</td>\n",
       "      <td>0.540495</td>\n",
       "    </tr>\n",
       "    <tr>\n",
       "      <th>2015-04-30</th>\n",
       "      <td>1.286424</td>\n",
       "      <td>0.055554</td>\n",
       "    </tr>\n",
       "    <tr>\n",
       "      <th>2015-05-31</th>\n",
       "      <td>-0.041403</td>\n",
       "      <td>0.005423</td>\n",
       "    </tr>\n",
       "    <tr>\n",
       "      <th>2015-06-30</th>\n",
       "      <td>0.195242</td>\n",
       "      <td>-3.000245</td>\n",
       "    </tr>\n",
       "    <tr>\n",
       "      <th>2015-07-31</th>\n",
       "      <td>-0.141635</td>\n",
       "      <td>-0.181972</td>\n",
       "    </tr>\n",
       "    <tr>\n",
       "      <th>2015-08-31</th>\n",
       "      <td>-0.730999</td>\n",
       "      <td>-1.454007</td>\n",
       "    </tr>\n",
       "    <tr>\n",
       "      <th>2015-09-30</th>\n",
       "      <td>0.596635</td>\n",
       "      <td>-0.391445</td>\n",
       "    </tr>\n",
       "    <tr>\n",
       "      <th>2015-10-31</th>\n",
       "      <td>-0.043072</td>\n",
       "      <td>-0.384681</td>\n",
       "    </tr>\n",
       "  </tbody>\n",
       "</table>\n",
       "</div>"
      ],
      "text/plain": [
       "                   a         b\n",
       "2015-01-31  0.001802  0.330959\n",
       "2015-02-28  1.261846  2.146015\n",
       "2015-03-31  0.016157  0.540495\n",
       "2015-04-30  1.286424  0.055554\n",
       "2015-05-31 -0.041403  0.005423\n",
       "2015-06-30  0.195242 -3.000245\n",
       "2015-07-31 -0.141635 -0.181972\n",
       "2015-08-31 -0.730999 -1.454007\n",
       "2015-09-30  0.596635 -0.391445\n",
       "2015-10-31 -0.043072 -0.384681"
      ]
     },
     "execution_count": 33,
     "metadata": {},
     "output_type": "execute_result"
    }
   ],
   "source": [
    "# Selecting multiple columns \n",
    "df[['a','b']]"
   ]
  },
  {
   "cell_type": "markdown",
   "metadata": {},
   "source": [
    "# Advanced sleection\n"
   ]
  },
  {
   "cell_type": "markdown",
   "metadata": {},
   "source": [
    "## .loc \n",
    "select by row label (index), and column label"
   ]
  },
  {
   "cell_type": "code",
   "execution_count": 34,
   "metadata": {},
   "outputs": [
    {
     "data": {
      "text/html": [
       "<div>\n",
       "<style>\n",
       "    .dataframe thead tr:only-child th {\n",
       "        text-align: right;\n",
       "    }\n",
       "\n",
       "    .dataframe thead th {\n",
       "        text-align: left;\n",
       "    }\n",
       "\n",
       "    .dataframe tbody tr th {\n",
       "        vertical-align: top;\n",
       "    }\n",
       "</style>\n",
       "<table border=\"1\" class=\"dataframe\">\n",
       "  <thead>\n",
       "    <tr style=\"text-align: right;\">\n",
       "      <th></th>\n",
       "      <th>c</th>\n",
       "      <th>d</th>\n",
       "      <th>e</th>\n",
       "    </tr>\n",
       "  </thead>\n",
       "  <tbody>\n",
       "    <tr>\n",
       "      <th>2015-05-31</th>\n",
       "      <td>-0.466109</td>\n",
       "      <td>0.221599</td>\n",
       "      <td>0.541730</td>\n",
       "    </tr>\n",
       "    <tr>\n",
       "      <th>2015-06-30</th>\n",
       "      <td>-0.341730</td>\n",
       "      <td>-1.030697</td>\n",
       "      <td>0.113351</td>\n",
       "    </tr>\n",
       "    <tr>\n",
       "      <th>2015-07-31</th>\n",
       "      <td>0.837091</td>\n",
       "      <td>1.372244</td>\n",
       "      <td>1.268435</td>\n",
       "    </tr>\n",
       "    <tr>\n",
       "      <th>2015-08-31</th>\n",
       "      <td>-0.632989</td>\n",
       "      <td>-0.654115</td>\n",
       "      <td>-0.917950</td>\n",
       "    </tr>\n",
       "  </tbody>\n",
       "</table>\n",
       "</div>"
      ],
      "text/plain": [
       "                   c         d         e\n",
       "2015-05-31 -0.466109  0.221599  0.541730\n",
       "2015-06-30 -0.341730 -1.030697  0.113351\n",
       "2015-07-31  0.837091  1.372244  1.268435\n",
       "2015-08-31 -0.632989 -0.654115 -0.917950"
      ]
     },
     "execution_count": 34,
     "metadata": {},
     "output_type": "execute_result"
    }
   ],
   "source": [
    "df.loc['2015-05-31':'2015-08-31', 'c':'e'] #Ranges by label."
   ]
  },
  {
   "cell_type": "markdown",
   "metadata": {},
   "source": [
    "## .iloc\n",
    "select by __positional__ index"
   ]
  },
  {
   "cell_type": "code",
   "execution_count": 35,
   "metadata": {},
   "outputs": [
    {
     "data": {
      "text/html": [
       "<div>\n",
       "<style>\n",
       "    .dataframe thead tr:only-child th {\n",
       "        text-align: right;\n",
       "    }\n",
       "\n",
       "    .dataframe thead th {\n",
       "        text-align: left;\n",
       "    }\n",
       "\n",
       "    .dataframe tbody tr th {\n",
       "        vertical-align: top;\n",
       "    }\n",
       "</style>\n",
       "<table border=\"1\" class=\"dataframe\">\n",
       "  <thead>\n",
       "    <tr style=\"text-align: right;\">\n",
       "      <th></th>\n",
       "      <th>c</th>\n",
       "      <th>d</th>\n",
       "      <th>e</th>\n",
       "    </tr>\n",
       "  </thead>\n",
       "  <tbody>\n",
       "    <tr>\n",
       "      <th>2015-03-31</th>\n",
       "      <td>1.158699</td>\n",
       "      <td>1.340901</td>\n",
       "      <td>2.279944</td>\n",
       "    </tr>\n",
       "    <tr>\n",
       "      <th>2015-04-30</th>\n",
       "      <td>-0.330005</td>\n",
       "      <td>1.535541</td>\n",
       "      <td>0.745758</td>\n",
       "    </tr>\n",
       "    <tr>\n",
       "      <th>2015-05-31</th>\n",
       "      <td>-0.466109</td>\n",
       "      <td>0.221599</td>\n",
       "      <td>0.541730</td>\n",
       "    </tr>\n",
       "    <tr>\n",
       "      <th>2015-06-30</th>\n",
       "      <td>-0.341730</td>\n",
       "      <td>-1.030697</td>\n",
       "      <td>0.113351</td>\n",
       "    </tr>\n",
       "    <tr>\n",
       "      <th>2015-07-31</th>\n",
       "      <td>0.837091</td>\n",
       "      <td>1.372244</td>\n",
       "      <td>1.268435</td>\n",
       "    </tr>\n",
       "  </tbody>\n",
       "</table>\n",
       "</div>"
      ],
      "text/plain": [
       "                   c         d         e\n",
       "2015-03-31  1.158699  1.340901  2.279944\n",
       "2015-04-30 -0.330005  1.535541  0.745758\n",
       "2015-05-31 -0.466109  0.221599  0.541730\n",
       "2015-06-30 -0.341730 -1.030697  0.113351\n",
       "2015-07-31  0.837091  1.372244  1.268435"
      ]
     },
     "execution_count": 35,
     "metadata": {},
     "output_type": "execute_result"
    }
   ],
   "source": [
    "df.iloc[2:-3,2:5] #Ranges by number."
   ]
  },
  {
   "cell_type": "markdown",
   "metadata": {},
   "source": [
    "## .ix (deprecated)\n",
    "select by either label or position index\n",
    "(deprecated because it led to too much ambiguity)"
   ]
  },
  {
   "cell_type": "code",
   "execution_count": 36,
   "metadata": {},
   "outputs": [
    {
     "name": "stderr",
     "output_type": "stream",
     "text": [
      "/home/moses/anaconda3/lib/python3.6/site-packages/ipykernel_launcher.py:1: DeprecationWarning: \n",
      ".ix is deprecated. Please use\n",
      ".loc for label based indexing or\n",
      ".iloc for positional indexing\n",
      "\n",
      "See the documentation here:\n",
      "http://pandas.pydata.org/pandas-docs/stable/indexing.html#ix-indexer-is-deprecated\n",
      "  \"\"\"Entry point for launching an IPython kernel.\n"
     ]
    },
    {
     "data": {
      "text/html": [
       "<div>\n",
       "<style>\n",
       "    .dataframe thead tr:only-child th {\n",
       "        text-align: right;\n",
       "    }\n",
       "\n",
       "    .dataframe thead th {\n",
       "        text-align: left;\n",
       "    }\n",
       "\n",
       "    .dataframe tbody tr th {\n",
       "        vertical-align: top;\n",
       "    }\n",
       "</style>\n",
       "<table border=\"1\" class=\"dataframe\">\n",
       "  <thead>\n",
       "    <tr style=\"text-align: right;\">\n",
       "      <th></th>\n",
       "      <th>c</th>\n",
       "      <th>d</th>\n",
       "      <th>e</th>\n",
       "    </tr>\n",
       "  </thead>\n",
       "  <tbody>\n",
       "    <tr>\n",
       "      <th>2015-03-31</th>\n",
       "      <td>1.158699</td>\n",
       "      <td>1.340901</td>\n",
       "      <td>2.279944</td>\n",
       "    </tr>\n",
       "    <tr>\n",
       "      <th>2015-04-30</th>\n",
       "      <td>-0.330005</td>\n",
       "      <td>1.535541</td>\n",
       "      <td>0.745758</td>\n",
       "    </tr>\n",
       "    <tr>\n",
       "      <th>2015-05-31</th>\n",
       "      <td>-0.466109</td>\n",
       "      <td>0.221599</td>\n",
       "      <td>0.541730</td>\n",
       "    </tr>\n",
       "    <tr>\n",
       "      <th>2015-06-30</th>\n",
       "      <td>-0.341730</td>\n",
       "      <td>-1.030697</td>\n",
       "      <td>0.113351</td>\n",
       "    </tr>\n",
       "    <tr>\n",
       "      <th>2015-07-31</th>\n",
       "      <td>0.837091</td>\n",
       "      <td>1.372244</td>\n",
       "      <td>1.268435</td>\n",
       "    </tr>\n",
       "  </tbody>\n",
       "</table>\n",
       "</div>"
      ],
      "text/plain": [
       "                   c         d         e\n",
       "2015-03-31  1.158699  1.340901  2.279944\n",
       "2015-04-30 -0.330005  1.535541  0.745758\n",
       "2015-05-31 -0.466109  0.221599  0.541730\n",
       "2015-06-30 -0.341730 -1.030697  0.113351\n",
       "2015-07-31  0.837091  1.372244  1.268435"
      ]
     },
     "execution_count": 36,
     "metadata": {},
     "output_type": "execute_result"
    }
   ],
   "source": [
    "df.ix[2:-3,2:5] # Figures out what you probably want"
   ]
  },
  {
   "cell_type": "code",
   "execution_count": 37,
   "metadata": {},
   "outputs": [
    {
     "data": {
      "text/html": [
       "<div>\n",
       "<style>\n",
       "    .dataframe thead tr:only-child th {\n",
       "        text-align: right;\n",
       "    }\n",
       "\n",
       "    .dataframe thead th {\n",
       "        text-align: left;\n",
       "    }\n",
       "\n",
       "    .dataframe tbody tr th {\n",
       "        vertical-align: top;\n",
       "    }\n",
       "</style>\n",
       "<table border=\"1\" class=\"dataframe\">\n",
       "  <thead>\n",
       "    <tr style=\"text-align: right;\">\n",
       "      <th></th>\n",
       "      <th>c</th>\n",
       "      <th>d</th>\n",
       "      <th>e</th>\n",
       "    </tr>\n",
       "  </thead>\n",
       "  <tbody>\n",
       "    <tr>\n",
       "      <th>2015-05-31</th>\n",
       "      <td>-0.466109</td>\n",
       "      <td>0.221599</td>\n",
       "      <td>0.541730</td>\n",
       "    </tr>\n",
       "    <tr>\n",
       "      <th>2015-06-30</th>\n",
       "      <td>-0.341730</td>\n",
       "      <td>-1.030697</td>\n",
       "      <td>0.113351</td>\n",
       "    </tr>\n",
       "    <tr>\n",
       "      <th>2015-07-31</th>\n",
       "      <td>0.837091</td>\n",
       "      <td>1.372244</td>\n",
       "      <td>1.268435</td>\n",
       "    </tr>\n",
       "    <tr>\n",
       "      <th>2015-08-31</th>\n",
       "      <td>-0.632989</td>\n",
       "      <td>-0.654115</td>\n",
       "      <td>-0.917950</td>\n",
       "    </tr>\n",
       "  </tbody>\n",
       "</table>\n",
       "</div>"
      ],
      "text/plain": [
       "                   c         d         e\n",
       "2015-05-31 -0.466109  0.221599  0.541730\n",
       "2015-06-30 -0.341730 -1.030697  0.113351\n",
       "2015-07-31  0.837091  1.372244  1.268435\n",
       "2015-08-31 -0.632989 -0.654115 -0.917950"
      ]
     },
     "execution_count": 37,
     "metadata": {},
     "output_type": "execute_result"
    }
   ],
   "source": [
    "df.ix['2015-05-31':'2015-08-31', 'c':'e']"
   ]
  },
  {
   "cell_type": "markdown",
   "metadata": {},
   "source": [
    "# DO NOT USE .ix \n",
    "It is here so you can recognize it and scold others for using it.\n",
    "  \n",
    "  \n",
    "--------------------------------------------------------------------------------------------     \n",
    "        \n",
    "      \n",
    "      \n",
    "# DataFrame Indexing"
   ]
  },
  {
   "cell_type": "code",
   "execution_count": null,
   "metadata": {},
   "outputs": [],
   "source": [
    "#Multi Index:\n",
    "dt_index = pd.date_range('2015-1-1', \n",
    "                        '2017-7-1', \n",
    "                        freq='m')\n",
    "df = pd.DataFrame(randn(30,5), index=dt_index)\n",
    "df"
   ]
  },
  {
   "cell_type": "code",
   "execution_count": null,
   "metadata": {},
   "outputs": [],
   "source": [
    "# Adding new column\n",
    "df['state'] = ['Alabama', 'Alaska' , 'Arizona'] * 10\n",
    "df.head()"
   ]
  },
  {
   "cell_type": "code",
   "execution_count": null,
   "metadata": {},
   "outputs": [],
   "source": [
    "df = df.reset_index()\n",
    "df = df.set_index(['state', 'index'])\n",
    "df.head()"
   ]
  },
  {
   "cell_type": "code",
   "execution_count": null,
   "metadata": {},
   "outputs": [],
   "source": [
    "df.loc['Alabama'].head()"
   ]
  },
  {
   "cell_type": "code",
   "execution_count": null,
   "metadata": {},
   "outputs": [],
   "source": [
    "df.loc['2015-01-31'] #Doesn't work."
   ]
  },
  {
   "cell_type": "code",
   "execution_count": null,
   "metadata": {},
   "outputs": [],
   "source": [
    "df.loc[('Alabama', '2015-01-31')] #Can do this."
   ]
  },
  {
   "cell_type": "markdown",
   "metadata": {},
   "source": [
    "# Load Data from file for use"
   ]
  },
  {
   "cell_type": "code",
   "execution_count": null,
   "metadata": {
    "collapsed": true
   },
   "outputs": [],
   "source": [
    "df = pd.read_csv('data/winequality-red.csv', delimiter=';')"
   ]
  },
  {
   "cell_type": "code",
   "execution_count": null,
   "metadata": {},
   "outputs": [],
   "source": [
    "df.head()  #Display the first x rows (default is 5)"
   ]
  },
  {
   "cell_type": "code",
   "execution_count": null,
   "metadata": {},
   "outputs": [],
   "source": [
    "df.shape"
   ]
  },
  {
   "cell_type": "code",
   "execution_count": null,
   "metadata": {},
   "outputs": [],
   "source": [
    "df.columns"
   ]
  },
  {
   "cell_type": "code",
   "execution_count": null,
   "metadata": {},
   "outputs": [],
   "source": [
    "df.info()"
   ]
  },
  {
   "cell_type": "code",
   "execution_count": null,
   "metadata": {},
   "outputs": [],
   "source": [
    "df.describe()"
   ]
  },
  {
   "cell_type": "code",
   "execution_count": null,
   "metadata": {},
   "outputs": [],
   "source": [
    "df.tail()"
   ]
  },
  {
   "cell_type": "markdown",
   "metadata": {},
   "source": [
    "# Filtering (i.e., row selecting or boolean indexing)"
   ]
  },
  {
   "cell_type": "code",
   "execution_count": null,
   "metadata": {},
   "outputs": [],
   "source": [
    "trueFalse= df['chlorides'] <= 0.08 \n",
    "trueFalse"
   ]
  },
  {
   "cell_type": "code",
   "execution_count": null,
   "metadata": {},
   "outputs": [],
   "source": [
    "df[trueFalse]"
   ]
  },
  {
   "cell_type": "code",
   "execution_count": null,
   "metadata": {},
   "outputs": [],
   "source": [
    "# To use a mask, we actually have to use it to index into the DataFrame (using square brackets). \n",
    "df[df['chlorides'] <= 0.08]"
   ]
  },
  {
   "cell_type": "code",
   "execution_count": null,
   "metadata": {},
   "outputs": [],
   "source": [
    "# Okay, this is cool. What if I wanted a slightly more complicated query...\n",
    "df[(df['chlorides'] >= 0.04) & (df['chlorides'] < 0.08)]"
   ]
  },
  {
   "cell_type": "code",
   "execution_count": null,
   "metadata": {},
   "outputs": [],
   "source": [
    "df.groupby('quality') # Note that this returns back to us a groupby object. It doesn't actually \n",
    "                      # return to us anything useful until we perform some aggregation on it. "
   ]
  },
  {
   "cell_type": "code",
   "execution_count": null,
   "metadata": {},
   "outputs": [],
   "source": [
    "# Note we can also group by multilple columns by passing them in in a list. It will group by \n",
    "# the first column passed in first, and then the second after that (i.e. it will group by \n",
    "# the second within the group by of the first). \n",
    "df2 = df.groupby(['pH', 'quality']).count()['chlorides']\n",
    "\n",
    "df2"
   ]
  },
  {
   "cell_type": "markdown",
   "metadata": {},
   "source": [
    "# Adding / Remove columns"
   ]
  },
  {
   "cell_type": "code",
   "execution_count": null,
   "metadata": {
    "collapsed": true
   },
   "outputs": [],
   "source": [
    "# add a computed column\n",
    "\n",
    "df['pct_free_sulf'] = df['free sulfur dioxide'] / df['total sulfur dioxide']"
   ]
  },
  {
   "cell_type": "code",
   "execution_count": null,
   "metadata": {},
   "outputs": [],
   "source": [
    "df"
   ]
  },
  {
   "cell_type": "code",
   "execution_count": null,
   "metadata": {
    "collapsed": true
   },
   "outputs": [],
   "source": [
    "# Droping a row"
   ]
  },
  {
   "cell_type": "code",
   "execution_count": null,
   "metadata": {},
   "outputs": [],
   "source": [
    "df.drop('pct_free_sulf')"
   ]
  },
  {
   "cell_type": "code",
   "execution_count": null,
   "metadata": {},
   "outputs": [],
   "source": [
    "df.drop('pct_free_sulf', axis = 1)"
   ]
  },
  {
   "cell_type": "code",
   "execution_count": null,
   "metadata": {},
   "outputs": [],
   "source": [
    "df.columns"
   ]
  },
  {
   "cell_type": "code",
   "execution_count": null,
   "metadata": {
    "collapsed": true
   },
   "outputs": [],
   "source": []
  },
  {
   "cell_type": "code",
   "execution_count": null,
   "metadata": {
    "collapsed": true
   },
   "outputs": [],
   "source": []
  },
  {
   "cell_type": "markdown",
   "metadata": {},
   "source": [
    "# Managing Missing Values\n",
    "* http://pandas.pydata.org/pandas-docs/stable/missing_data.html"
   ]
  },
  {
   "cell_type": "code",
   "execution_count": null,
   "metadata": {},
   "outputs": [],
   "source": [
    "miss_val_df = pd.DataFrame(\n",
    "    [[1, 2, 3], [4, np.nan, 6]], \n",
    "    columns=['a', 'b', 'c'], \n",
    "    index=['foo', 'bar'])\n",
    "miss_val_df"
   ]
  },
  {
   "cell_type": "code",
   "execution_count": null,
   "metadata": {},
   "outputs": [],
   "source": [
    "miss_val_df.fillna(0)"
   ]
  },
  {
   "cell_type": "code",
   "execution_count": null,
   "metadata": {},
   "outputs": [],
   "source": [
    "miss_val_df"
   ]
  },
  {
   "cell_type": "code",
   "execution_count": null,
   "metadata": {},
   "outputs": [],
   "source": [
    "# IF YOU WANT THE CHANGE TO HAPPEN INPLACE YOU MUST add that\n",
    "miss_val_df.fillna(0,inplace=True)\n",
    "miss_val_df"
   ]
  },
  {
   "cell_type": "code",
   "execution_count": null,
   "metadata": {
    "collapsed": true
   },
   "outputs": [],
   "source": [
    "## DROP ROW"
   ]
  },
  {
   "cell_type": "code",
   "execution_count": null,
   "metadata": {},
   "outputs": [],
   "source": [
    "miss_val_df['b']['foo'] =np.nan"
   ]
  },
  {
   "cell_type": "code",
   "execution_count": null,
   "metadata": {},
   "outputs": [],
   "source": [
    "miss_val_df"
   ]
  },
  {
   "cell_type": "code",
   "execution_count": null,
   "metadata": {},
   "outputs": [],
   "source": [
    "miss_val_df.dropna()"
   ]
  },
  {
   "cell_type": "markdown",
   "metadata": {},
   "source": [
    "# Merge \n",
    "* http://pandas.pydata.org/pandas-docs/stable/merging.html\n",
    "\n",
    "We can join DataFrames in a similar way that we join tables to SQL.  In fact, left, right, outer, and inner joins work the same way here."
   ]
  },
  {
   "cell_type": "code",
   "execution_count": null,
   "metadata": {},
   "outputs": [],
   "source": [
    "merge1 = pd.DataFrame(\n",
    "    [[1, 2, 3], [4, 3, 6]], \n",
    "    columns=['a', 'b', 'c'])\n",
    "\n",
    "merge2 = pd.DataFrame(\n",
    "    [[1, 2, 3], [4, 3, 6]], \n",
    "    columns=['z', 'b', 'y'])\n",
    "\n",
    "merge1"
   ]
  },
  {
   "cell_type": "code",
   "execution_count": null,
   "metadata": {},
   "outputs": [],
   "source": [
    "merged_df = merge1.merge(merge2, how='inner')"
   ]
  },
  {
   "cell_type": "code",
   "execution_count": null,
   "metadata": {},
   "outputs": [],
   "source": [
    "merged_df"
   ]
  },
  {
   "cell_type": "code",
   "execution_count": null,
   "metadata": {
    "collapsed": true
   },
   "outputs": [],
   "source": []
  },
  {
   "cell_type": "markdown",
   "metadata": {},
   "source": [
    "# Concatenating\n",
    "* adding *rows*\n",
    "* see also: df.append()"
   ]
  },
  {
   "cell_type": "code",
   "execution_count": null,
   "metadata": {},
   "outputs": [],
   "source": [
    "df1 = pd.DataFrame(\n",
    "    {'Col1': range(5), 'Col2': range(5), 'Col3': range(5)})\n",
    "df2 = pd.DataFrame(\n",
    "    {'Col1': range(5), 'Col2': range(5), 'Col4': range(5)},\n",
    "    index=range(5, 10))"
   ]
  },
  {
   "cell_type": "code",
   "execution_count": null,
   "metadata": {},
   "outputs": [],
   "source": [
    "df1"
   ]
  },
  {
   "cell_type": "code",
   "execution_count": null,
   "metadata": {},
   "outputs": [],
   "source": [
    "df2"
   ]
  },
  {
   "cell_type": "code",
   "execution_count": null,
   "metadata": {},
   "outputs": [],
   "source": [
    "#Vertically\n",
    "pd.concat([df1, df2], axis=0)"
   ]
  },
  {
   "cell_type": "code",
   "execution_count": null,
   "metadata": {},
   "outputs": [],
   "source": [
    "pd.concat([df1, df2], join='outer', axis=1)"
   ]
  },
  {
   "cell_type": "markdown",
   "metadata": {},
   "source": [
    "# Graphing DataFrames"
   ]
  },
  {
   "cell_type": "code",
   "execution_count": null,
   "metadata": {},
   "outputs": [],
   "source": [
    "df = pd.read_csv('data/playgolf.csv', delimiter=',' )\n",
    "df.head()"
   ]
  },
  {
   "cell_type": "code",
   "execution_count": null,
   "metadata": {},
   "outputs": [],
   "source": [
    "df.hist(['Temperature','Humidity'],bins=5)"
   ]
  },
  {
   "cell_type": "code",
   "execution_count": null,
   "metadata": {},
   "outputs": [],
   "source": [
    "df[['Temperature','Humidity']].plot(kind='box')"
   ]
  },
  {
   "cell_type": "code",
   "execution_count": null,
   "metadata": {},
   "outputs": [],
   "source": [
    "df.plot('Temperature', 'Humidity', kind='scatter')"
   ]
  },
  {
   "cell_type": "code",
   "execution_count": null,
   "metadata": {},
   "outputs": [],
   "source": [
    "groups=df.groupby('Outlook')\n",
    "for name, group in groups:\n",
    "    print( name)"
   ]
  },
  {
   "cell_type": "code",
   "execution_count": null,
   "metadata": {},
   "outputs": [],
   "source": [
    "fig, ax = plt.subplots()\n",
    "\n",
    "ax.margins(0.05)\n",
    "for name, group in groups:\n",
    "    ax.plot(group.Temperature, group.Humidity, marker='o', linestyle='', ms=12, label=name)\n",
    "ax.legend(numpoints=1, loc='lower right')\n",
    "\n",
    "plt.show()"
   ]
  },
  {
   "cell_type": "code",
   "execution_count": null,
   "metadata": {},
   "outputs": [],
   "source": [
    "df['Outlook'].value_counts()"
   ]
  },
  {
   "cell_type": "code",
   "execution_count": null,
   "metadata": {
    "collapsed": true
   },
   "outputs": [],
   "source": []
  },
  {
   "cell_type": "code",
   "execution_count": null,
   "metadata": {
    "collapsed": true
   },
   "outputs": [],
   "source": []
  },
  {
   "cell_type": "code",
   "execution_count": null,
   "metadata": {
    "collapsed": true
   },
   "outputs": [],
   "source": []
  },
  {
   "cell_type": "code",
   "execution_count": null,
   "metadata": {
    "collapsed": true
   },
   "outputs": [],
   "source": []
  },
  {
   "cell_type": "code",
   "execution_count": null,
   "metadata": {
    "collapsed": true
   },
   "outputs": [],
   "source": []
  }
 ],
 "metadata": {
  "kernelspec": {
   "display_name": "Python 3",
   "language": "python",
   "name": "python3"
  },
  "language_info": {
   "codemirror_mode": {
    "name": "ipython",
    "version": 3
   },
   "file_extension": ".py",
   "mimetype": "text/x-python",
   "name": "python",
   "nbconvert_exporter": "python",
   "pygments_lexer": "ipython3",
   "version": "3.6.2"
  }
 },
 "nbformat": 4,
 "nbformat_minor": 2
}
