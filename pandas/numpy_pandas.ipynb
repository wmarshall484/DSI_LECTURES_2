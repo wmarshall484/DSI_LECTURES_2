{
 "cells": [
  {
   "cell_type": "code",
   "execution_count": 1,
   "metadata": {
    "collapsed": true
   },
   "outputs": [],
   "source": [
    "%matplotlib inline\n",
    "import matplotlib.pyplot as plt \n",
    "import numpy as np\n",
    "import pandas as pd \n",
    "import seaborn as sns "
   ]
  },
  {
   "cell_type": "markdown",
   "metadata": {},
   "source": [
    "##Numpy"
   ]
  },
  {
   "cell_type": "code",
   "execution_count": 2,
   "metadata": {
    "collapsed": false
   },
   "outputs": [
    {
     "data": {
      "text/plain": [
       "array([ 0.35973079,  0.59579931, -0.56582699, -0.17707843, -1.05321293,\n",
       "        1.40916724,  0.25210403, -1.15888753,  1.30032559, -1.23115986])"
      ]
     },
     "execution_count": 2,
     "metadata": {},
     "output_type": "execute_result"
    }
   ],
   "source": [
    "x = np.random.randn(1000)  # 1000 draws from N(0,1)\n",
    "x[:10]                     # view the first 10 elements"
   ]
  },
  {
   "cell_type": "markdown",
   "metadata": {},
   "source": [
    "###Histogram of the array \n",
    "\n",
    "$\\alpha + \\beta$"
   ]
  },
  {
   "cell_type": "code",
   "execution_count": 3,
   "metadata": {
    "collapsed": false
   },
   "outputs": [
    {
     "data": {
      "image/png": "[encoded data removed]",
      "text/plain": [
       "<matplotlib.figure.Figure at 0x1042cb290>"
      ]
     },
     "metadata": {},
     "output_type": "display_data"
    }
   ],
   "source": [
    "plt.hist(x, bins=30, color='b', alpha=0.5)  # histogram of x, 30 bins, blue, slightly transparent; \n",
    "plt.ylabel('Frequency'); plt.xlabel('x'); plt.title('Histogram of x', y=1.02, fontsize=16); "
   ]
  },
  {
   "cell_type": "markdown",
   "metadata": {
    "collapsed": true
   },
   "source": [
    "###Describe the array"
   ]
  },
  {
   "cell_type": "code",
   "execution_count": 4,
   "metadata": {
    "collapsed": false
   },
   "outputs": [
    {
     "name": "stdout",
     "output_type": "stream",
     "text": [
      "mean     : -0.036\n",
      "st. dev. : 0.994\n",
      "variance : 0.988\n",
      "min      : -3.002\n",
      "max      : 3.078\n",
      "shape    : (1000,)\n",
      "length   : 1000\n"
     ]
    }
   ],
   "source": [
    "print 'mean     :', np.round(x.mean(), 3)     \n",
    "print 'st. dev. :', np.round(x.std(), 3)    \n",
    "print 'variance :', np.round(x.var(), 3)\n",
    "print 'min      :', np.round(x.min(), 3)\n",
    "print 'max      :', np.round(x.max(), 3)\n",
    "print 'shape    :', x.shape  # note this is an attribute, not a method\n",
    "print 'length   :', len(x)"
   ]
  },
  {
   "cell_type": "markdown",
   "metadata": {
    "collapsed": true
   },
   "source": [
    "###Subsetting the array"
   ]
  },
  {
   "cell_type": "code",
   "execution_count": 5,
   "metadata": {
    "collapsed": false
   },
   "outputs": [
    {
     "name": "stdout",
     "output_type": "stream",
     "text": [
      "[ 0.35973079  0.59579931 -0.56582699]\n",
      "[ -7.41626807e-04  -8.46051143e-01   5.91700400e-01]\n",
      "[-1.05321293  1.40916724  0.25210403]\n",
      "[ 0.35973079 -0.56582699 -1.05321293]\n",
      "[  5.91700400e-01  -7.41626807e-04   1.12084913e+00]\n"
     ]
    }
   ],
   "source": [
    "print x[:3]        # first 3 elements\n",
    "print x[-3:]       # last 3 elements\n",
    "print x[4:7]       # 3 elements starting at index 4\n",
    "print x[:6:2]      # every other element from the first 6 elements\n",
    "print x[::-2][:3]  # reverse the array, take every other element, subset to first 3"
   ]
  },
  {
   "cell_type": "markdown",
   "metadata": {},
   "source": [
    "###argmin & argmax "
   ]
  },
  {
   "cell_type": "code",
   "execution_count": 6,
   "metadata": {
    "collapsed": false
   },
   "outputs": [
    {
     "name": "stdout",
     "output_type": "stream",
     "text": [
      "199\n",
      "-3.00248088673\n",
      "-3.00248088673\n",
      "251\n",
      "3.07802924392\n",
      "3.07802924392\n"
     ]
    }
   ],
   "source": [
    "print np.argmin(x)     # the index of the minimum value in the array\n",
    "print x[np.argmin(x)]  # the value corresponding to that index\n",
    "print np.min(x)        # same thing\n",
    "print np.argmax(x)     # and so on...\n",
    "print x[np.argmax(x)]  \n",
    "print np.max(x)"
   ]
  },
  {
   "cell_type": "markdown",
   "metadata": {},
   "source": [
    "###$n$ largest elements"
   ]
  },
  {
   "cell_type": "code",
   "execution_count": 7,
   "metadata": {
    "collapsed": false
   },
   "outputs": [
    {
     "name": "stdout",
     "output_type": "stream",
     "text": [
      "[ 2.45757201  3.07802924  2.62062422  2.4973345   2.61194065]\n"
     ]
    }
   ],
   "source": [
    "largest5 = np.argpartition(x, -5)[-5:]  # partial sort is fast, but note order of result!!\n",
    "print x[largest5]"
   ]
  },
  {
   "cell_type": "code",
   "execution_count": 8,
   "metadata": {
    "collapsed": false
   },
   "outputs": [
    {
     "name": "stdout",
     "output_type": "stream",
     "text": [
      "[ 2.45757201  2.4973345   2.61194065  2.62062422  3.07802924]\n"
     ]
    }
   ],
   "source": [
    "largest5 = np.argsort(x)[-5:]  # complete sort is slower, but ordered results\n",
    "print x[largest5]"
   ]
  },
  {
   "cell_type": "code",
   "execution_count": 9,
   "metadata": {
    "collapsed": false
   },
   "outputs": [
    {
     "name": "stdout",
     "output_type": "stream",
     "text": [
      "[ 2.45757201  3.07802924  2.62062422  2.4973345   2.61194065]\n",
      "[ 2.45757201  2.4973345   2.61194065  2.62062422  3.07802924]\n"
     ]
    }
   ],
   "source": [
    "def n_largest(arr, n, sorted=False):\n",
    "    '''\n",
    "    Return the indices of the n largest elements in arr. \n",
    "    If sorted, complete sort the array and return the \n",
    "    indices for the elements ordered least to greatest. \n",
    "    '''\n",
    "    if sorted:\n",
    "        return np.argsort(x)[-5:]\n",
    "    else:\n",
    "        return np.argpartition(arr, -n)[-n:]\n",
    "\n",
    "print x[n_largest(x, 5)]\n",
    "print x[n_largest(x, 5, sorted=True)]"
   ]
  },
  {
   "cell_type": "markdown",
   "metadata": {},
   "source": [
    "###2D arrays"
   ]
  },
  {
   "cell_type": "code",
   "execution_count": 10,
   "metadata": {
    "collapsed": false
   },
   "outputs": [
    {
     "name": "stdout",
     "output_type": "stream",
     "text": [
      "new shape of x: (100, 10)\n"
     ]
    }
   ],
   "source": [
    "x = x.reshape(100, 10)\n",
    "print 'new shape of x:', x.shape"
   ]
  },
  {
   "cell_type": "markdown",
   "metadata": {},
   "source": [
    "###Subsetting in two dimensions"
   ]
  },
  {
   "cell_type": "code",
   "execution_count": 11,
   "metadata": {
    "collapsed": false
   },
   "outputs": [
    {
     "name": "stdout",
     "output_type": "stream",
     "text": [
      "[[ 0.35973079  0.59579931 -0.56582699 -0.17707843 -1.05321293]\n",
      " [-0.26410336 -0.11484386  0.25526291  0.32681497 -0.17516635]\n",
      " [-0.39735736  1.23286017 -1.03217971  0.12043713  0.06920716]\n",
      " [-0.40902449  0.48792283 -0.39923261 -0.50892756  0.76815399]\n",
      " [-0.24619984  1.82385504  1.40655654  0.63293448 -0.21840447]\n",
      " [-0.1287826   1.25337158 -1.19143005 -0.44808546 -0.52354592]\n",
      " [-1.31760752  0.18980812  0.39724813  0.3416159  -1.24628544]\n",
      " [ 0.42965439  1.82678541 -0.06919504  1.31338907  1.2406593 ]\n",
      " [ 0.46640395 -1.09163082 -0.43041082  0.66084893  1.26310398]\n",
      " [-0.94164454  0.0981151  -1.25528261  0.11244241  0.69347414]]\n"
     ]
    }
   ],
   "source": [
    "print x[:10, :5]  # first 10 rows, first 5 columns"
   ]
  },
  {
   "cell_type": "markdown",
   "metadata": {},
   "source": [
    "###Describe "
   ]
  },
  {
   "cell_type": "code",
   "execution_count": 12,
   "metadata": {
    "collapsed": false
   },
   "outputs": [
    {
     "name": "stdout",
     "output_type": "stream",
     "text": [
      "[ -1.31772834e-01   1.33000007e-01  -1.84196357e-01   1.36273649e-02\n",
      "   1.02141667e-02   1.22906335e-01   1.92434418e-02  -9.40280280e-02\n",
      "   6.79572902e-05  -2.48388764e-01]\n"
     ]
    }
   ],
   "source": [
    "print x.mean(axis=0)  # mean over rows"
   ]
  },
  {
   "cell_type": "code",
   "execution_count": 13,
   "metadata": {
    "collapsed": false
   },
   "outputs": [
    {
     "name": "stdout",
     "output_type": "stream",
     "text": [
      "[-0.02690388  0.2775243   0.20224858 -0.51594934  0.28384686 -0.25293883\n",
      " -0.05557174  0.15132503 -0.10347102 -0.05520989 -0.40837907  0.31090036\n",
      "  0.04026476  0.08311213  0.02345225 -0.22398393  0.15131019  0.41772188\n",
      " -0.82034331 -0.2140774   0.0415439   0.12209714 -0.36939653  0.7108997\n",
      "  0.20698319  0.17765043  0.15296142 -0.28779356 -0.07553005 -0.47878001\n",
      " -0.19519166 -0.32692251  0.34173213 -0.2032509   0.06311512  0.55652502\n",
      " -0.36806541  0.64142592  0.24477361 -0.30313838 -0.54108275  0.06888312\n",
      "  0.42250479  0.53261946 -0.2398111   0.22218738 -0.3095368   0.10750328\n",
      " -0.19966572  0.13045416 -0.02325513 -0.16051343 -0.39976384  0.07739296\n",
      "  0.11841269 -0.0281554  -0.32286442 -0.25339647  0.0037371  -0.18481818\n",
      " -0.45956575 -0.62977025  0.04088583 -0.19118633  0.00330319 -0.08158461\n",
      "  0.67990643  0.10997839  0.03059626 -0.12151461 -0.04845083 -0.28370986\n",
      " -0.15306236 -0.10533997  0.30317141  0.20669144 -0.18838455  0.53298942\n",
      " -0.34421039 -0.13689582  0.04315114  0.06724998 -0.1261857   0.00635686\n",
      " -0.41726185  0.35652611 -0.87500269 -0.13576393  0.45025651  0.22692753\n",
      " -0.36860969 -0.27561989  0.05944271 -0.38927255 -0.16898472 -0.04066103\n",
      " -0.17192303  0.45186348 -0.22298385 -0.1639677 ]\n"
     ]
    }
   ],
   "source": [
    "print x.mean(axis=1)  # mean over columns"
   ]
  },
  {
   "cell_type": "markdown",
   "metadata": {},
   "source": [
    "##Pandas"
   ]
  },
  {
   "cell_type": "code",
   "execution_count": 14,
   "metadata": {
    "collapsed": false
   },
   "outputs": [
    {
     "data": {
      "text/plain": [
       "(1000,)"
      ]
     },
     "execution_count": 14,
     "metadata": {},
     "output_type": "execute_result"
    }
   ],
   "source": [
    "s = pd.Series(np.random.randn(1000))  # Series\n",
    "s.shape"
   ]
  },
  {
   "cell_type": "code",
   "execution_count": 15,
   "metadata": {
    "collapsed": false
   },
   "outputs": [
    {
     "data": {
      "text/plain": [
       "count    1000.000000\n",
       "mean       -0.008404\n",
       "std         0.995717\n",
       "min        -3.096751\n",
       "25%        -0.684944\n",
       "50%         0.007640\n",
       "75%         0.635887\n",
       "max         4.449218\n",
       "dtype: float64"
      ]
     },
     "execution_count": 15,
     "metadata": {},
     "output_type": "execute_result"
    }
   ],
   "source": [
    "s.describe()  # descriptive statistics"
   ]
  },
  {
   "cell_type": "markdown",
   "metadata": {},
   "source": [
    "###Easy plotting in Pandas"
   ]
  },
  {
   "cell_type": "code",
   "execution_count": 16,
   "metadata": {
    "collapsed": false
   },
   "outputs": [
    {
     "data": {
      "image/png": "[encoded data removed]",
      "text/plain": [
       "<matplotlib.figure.Figure at 0x10760ab90>"
      ]
     },
     "metadata": {},
     "output_type": "display_data"
    }
   ],
   "source": [
    "s.hist(); "
   ]
  },
  {
   "cell_type": "markdown",
   "metadata": {},
   "source": [
    "###Index "
   ]
  },
  {
   "cell_type": "code",
   "execution_count": 17,
   "metadata": {
    "collapsed": false
   },
   "outputs": [
    {
     "data": {
      "text/plain": [
       "Int64Index([  0,   1,   2,   3,   4,   5,   6,   7,   8,   9, \n",
       "            ...\n",
       "            990, 991, 992, 993, 994, 995, 996, 997, 998, 999],\n",
       "           dtype='int64', length=1000)"
      ]
     },
     "execution_count": 17,
     "metadata": {},
     "output_type": "execute_result"
    }
   ],
   "source": [
    "s.index"
   ]
  },
  {
   "cell_type": "code",
   "execution_count": 18,
   "metadata": {
    "collapsed": false
   },
   "outputs": [
    {
     "data": {
      "text/plain": [
       "array([0, 1, 2, 3, 4, 5, 6, 7, 8, 9])"
      ]
     },
     "execution_count": 18,
     "metadata": {},
     "output_type": "execute_result"
    }
   ],
   "source": [
    "s.index.values[:10]"
   ]
  },
  {
   "cell_type": "code",
   "execution_count": 19,
   "metadata": {
    "collapsed": false
   },
   "outputs": [],
   "source": [
    "s = pd.Series(np.random.randn(1000), index = ['a','b','c','d','e','f','g','h','i','j'] * 100)"
   ]
  },
  {
   "cell_type": "code",
   "execution_count": 20,
   "metadata": {
    "collapsed": false
   },
   "outputs": [
    {
     "data": {
      "text/plain": [
       "Index([u'a', u'b', u'c', u'd', u'e', u'f', u'g', u'h', u'i', u'j', \n",
       "       ...\n",
       "       u'a', u'b', u'c', u'd', u'e', u'f', u'g', u'h', u'i', u'j'],\n",
       "      dtype='object', length=1000)"
      ]
     },
     "execution_count": 20,
     "metadata": {},
     "output_type": "execute_result"
    }
   ],
   "source": [
    "s.index"
   ]
  },
  {
   "cell_type": "code",
   "execution_count": 21,
   "metadata": {
    "collapsed": false
   },
   "outputs": [
    {
     "data": {
      "text/plain": [
       "a    0.480649\n",
       "b    0.296039\n",
       "c    1.559428\n",
       "d    1.159576\n",
       "e    1.126089\n",
       "dtype: float64"
      ]
     },
     "execution_count": 21,
     "metadata": {},
     "output_type": "execute_result"
    }
   ],
   "source": [
    "s.head()  # equivalent to s[:5]"
   ]
  },
  {
   "cell_type": "markdown",
   "metadata": {},
   "source": [
    "###Selecting by index"
   ]
  },
  {
   "cell_type": "markdown",
   "metadata": {},
   "source": [
    "[Note the Pandas docs for indexing options.](http://pandas.pydata.org/pandas-docs/version/0.15.2/indexing.html#different-choices-for-indexing)"
   ]
  },
  {
   "cell_type": "code",
   "execution_count": 22,
   "metadata": {
    "collapsed": false
   },
   "outputs": [
    {
     "data": {
      "text/plain": [
       "a    0.480649\n",
       "a   -1.678022\n",
       "a   -0.242941\n",
       "a   -0.191286\n",
       "a   -0.093750\n",
       "dtype: float64"
      ]
     },
     "execution_count": 22,
     "metadata": {},
     "output_type": "execute_result"
    }
   ],
   "source": [
    "s.ix['a'].head()  # ix will also take integers"
   ]
  },
  {
   "cell_type": "code",
   "execution_count": 23,
   "metadata": {
    "collapsed": false
   },
   "outputs": [
    {
     "data": {
      "text/plain": [
       "b    0.296039\n",
       "b   -0.047207\n",
       "b   -1.586004\n",
       "b   -1.356379\n",
       "b   -0.960712\n",
       "dtype: float64"
      ]
     },
     "execution_count": 23,
     "metadata": {},
     "output_type": "execute_result"
    }
   ],
   "source": [
    "s.loc['b'].head()"
   ]
  },
  {
   "cell_type": "code",
   "execution_count": 24,
   "metadata": {
    "collapsed": false
   },
   "outputs": [],
   "source": [
    "#s.iloc['a']  # this throws an error since iloc expects an integer"
   ]
  },
  {
   "cell_type": "markdown",
   "metadata": {},
   "source": [
    "###Boolean indexing (masking)"
   ]
  },
  {
   "cell_type": "code",
   "execution_count": 25,
   "metadata": {
    "collapsed": false
   },
   "outputs": [
    {
     "data": {
      "text/plain": [
       "a    True\n",
       "b    True\n",
       "c    True\n",
       "d    True\n",
       "e    True\n",
       "dtype: bool"
      ]
     },
     "execution_count": 25,
     "metadata": {},
     "output_type": "execute_result"
    }
   ],
   "source": [
    "(s > 0).head()  "
   ]
  },
  {
   "cell_type": "code",
   "execution_count": 26,
   "metadata": {
    "collapsed": false
   },
   "outputs": [
    {
     "data": {
      "text/plain": [
       "a    0.480649\n",
       "b    0.296039\n",
       "c    1.559428\n",
       "d    1.159576\n",
       "e    1.126089\n",
       "dtype: float64"
      ]
     },
     "execution_count": 26,
     "metadata": {},
     "output_type": "execute_result"
    }
   ],
   "source": [
    "s[s > 0].head() "
   ]
  },
  {
   "cell_type": "markdown",
   "metadata": {},
   "source": [
    "###Data frame from array"
   ]
  },
  {
   "cell_type": "code",
   "execution_count": 27,
   "metadata": {
    "collapsed": false
   },
   "outputs": [
    {
     "data": {
      "text/plain": [
       "(100, 10)"
      ]
     },
     "execution_count": 27,
     "metadata": {},
     "output_type": "execute_result"
    }
   ],
   "source": [
    "df = pd.DataFrame(np.random.randn(1000).reshape(100, 10))\n",
    "df.shape"
   ]
  },
  {
   "cell_type": "code",
   "execution_count": 28,
   "metadata": {
    "collapsed": false
   },
   "outputs": [
    {
     "data": {
      "text/html": [
       "<div>\n",
       "<table border=\"1\" class=\"dataframe\">\n",
       "  <thead>\n",
       "    <tr style=\"text-align: right;\">\n",
       "      <th></th>\n",
       "      <th>0</th>\n",
       "      <th>1</th>\n",
       "      <th>2</th>\n",
       "      <th>3</th>\n",
       "      <th>4</th>\n",
       "      <th>5</th>\n",
       "      <th>6</th>\n",
       "      <th>7</th>\n",
       "      <th>8</th>\n",
       "      <th>9</th>\n",
       "    </tr>\n",
       "  </thead>\n",
       "  <tbody>\n",
       "    <tr>\n",
       "      <th>0</th>\n",
       "      <td>-0.815277</td>\n",
       "      <td>-1.063672</td>\n",
       "      <td>0.300824</td>\n",
       "      <td>0.395850</td>\n",
       "      <td>0.514517</td>\n",
       "      <td>0.667627</td>\n",
       "      <td>0.002359</td>\n",
       "      <td>1.495104</td>\n",
       "      <td>0.465181</td>\n",
       "      <td>-0.013415</td>\n",
       "    </tr>\n",
       "    <tr>\n",
       "      <th>1</th>\n",
       "      <td>0.795083</td>\n",
       "      <td>-0.012986</td>\n",
       "      <td>0.382194</td>\n",
       "      <td>0.222208</td>\n",
       "      <td>-0.322641</td>\n",
       "      <td>1.195609</td>\n",
       "      <td>0.388969</td>\n",
       "      <td>-0.670427</td>\n",
       "      <td>-0.805757</td>\n",
       "      <td>0.485942</td>\n",
       "    </tr>\n",
       "    <tr>\n",
       "      <th>2</th>\n",
       "      <td>-0.050164</td>\n",
       "      <td>-0.093422</td>\n",
       "      <td>-0.201932</td>\n",
       "      <td>-0.293422</td>\n",
       "      <td>1.965747</td>\n",
       "      <td>-0.550011</td>\n",
       "      <td>1.983426</td>\n",
       "      <td>-1.246699</td>\n",
       "      <td>2.638995</td>\n",
       "      <td>-0.624673</td>\n",
       "    </tr>\n",
       "    <tr>\n",
       "      <th>3</th>\n",
       "      <td>2.512696</td>\n",
       "      <td>-1.221828</td>\n",
       "      <td>-1.070902</td>\n",
       "      <td>0.231011</td>\n",
       "      <td>-1.236860</td>\n",
       "      <td>-0.089283</td>\n",
       "      <td>-1.363142</td>\n",
       "      <td>-0.207014</td>\n",
       "      <td>0.284304</td>\n",
       "      <td>1.484649</td>\n",
       "    </tr>\n",
       "    <tr>\n",
       "      <th>4</th>\n",
       "      <td>-0.590091</td>\n",
       "      <td>1.558136</td>\n",
       "      <td>0.816073</td>\n",
       "      <td>0.662078</td>\n",
       "      <td>-0.858696</td>\n",
       "      <td>-2.220318</td>\n",
       "      <td>-0.366172</td>\n",
       "      <td>0.049772</td>\n",
       "      <td>-0.263912</td>\n",
       "      <td>2.231625</td>\n",
       "    </tr>\n",
       "  </tbody>\n",
       "</table>\n",
       "</div>"
      ],
      "text/plain": [
       "          0         1         2         3         4         5         6  \\\n",
       "0 -0.815277 -1.063672  0.300824  0.395850  0.514517  0.667627  0.002359   \n",
       "1  0.795083 -0.012986  0.382194  0.222208 -0.322641  1.195609  0.388969   \n",
       "2 -0.050164 -0.093422 -0.201932 -0.293422  1.965747 -0.550011  1.983426   \n",
       "3  2.512696 -1.221828 -1.070902  0.231011 -1.236860 -0.089283 -1.363142   \n",
       "4 -0.590091  1.558136  0.816073  0.662078 -0.858696 -2.220318 -0.366172   \n",
       "\n",
       "          7         8         9  \n",
       "0  1.495104  0.465181 -0.013415  \n",
       "1 -0.670427 -0.805757  0.485942  \n",
       "2 -1.246699  2.638995 -0.624673  \n",
       "3 -0.207014  0.284304  1.484649  \n",
       "4  0.049772 -0.263912  2.231625  "
      ]
     },
     "execution_count": 28,
     "metadata": {},
     "output_type": "execute_result"
    }
   ],
   "source": [
    "df.head()"
   ]
  },
  {
   "cell_type": "code",
   "execution_count": 29,
   "metadata": {
    "collapsed": false
   },
   "outputs": [
    {
     "data": {
      "text/html": [
       "<div>\n",
       "<table border=\"1\" class=\"dataframe\">\n",
       "  <thead>\n",
       "    <tr style=\"text-align: right;\">\n",
       "      <th></th>\n",
       "      <th>0</th>\n",
       "      <th>1</th>\n",
       "      <th>2</th>\n",
       "      <th>3</th>\n",
       "      <th>4</th>\n",
       "      <th>5</th>\n",
       "      <th>6</th>\n",
       "      <th>7</th>\n",
       "      <th>8</th>\n",
       "      <th>9</th>\n",
       "    </tr>\n",
       "  </thead>\n",
       "  <tbody>\n",
       "    <tr>\n",
       "      <th>count</th>\n",
       "      <td>100.000000</td>\n",
       "      <td>100.000000</td>\n",
       "      <td>100.000000</td>\n",
       "      <td>100.000000</td>\n",
       "      <td>100.000000</td>\n",
       "      <td>100.000000</td>\n",
       "      <td>100.000000</td>\n",
       "      <td>100.000000</td>\n",
       "      <td>100.000000</td>\n",
       "      <td>100.000000</td>\n",
       "    </tr>\n",
       "    <tr>\n",
       "      <th>mean</th>\n",
       "      <td>-0.094380</td>\n",
       "      <td>-0.054068</td>\n",
       "      <td>0.215490</td>\n",
       "      <td>0.191869</td>\n",
       "      <td>-0.084597</td>\n",
       "      <td>-0.149412</td>\n",
       "      <td>-0.004247</td>\n",
       "      <td>-0.058292</td>\n",
       "      <td>-0.055546</td>\n",
       "      <td>-0.065212</td>\n",
       "    </tr>\n",
       "    <tr>\n",
       "      <th>std</th>\n",
       "      <td>0.969570</td>\n",
       "      <td>1.073664</td>\n",
       "      <td>0.841087</td>\n",
       "      <td>1.158943</td>\n",
       "      <td>1.010123</td>\n",
       "      <td>1.043226</td>\n",
       "      <td>0.892802</td>\n",
       "      <td>1.052902</td>\n",
       "      <td>0.996900</td>\n",
       "      <td>1.059221</td>\n",
       "    </tr>\n",
       "    <tr>\n",
       "      <th>min</th>\n",
       "      <td>-2.910561</td>\n",
       "      <td>-3.650530</td>\n",
       "      <td>-2.170181</td>\n",
       "      <td>-2.453943</td>\n",
       "      <td>-2.409786</td>\n",
       "      <td>-2.619386</td>\n",
       "      <td>-2.190314</td>\n",
       "      <td>-2.493085</td>\n",
       "      <td>-3.212619</td>\n",
       "      <td>-2.340602</td>\n",
       "    </tr>\n",
       "    <tr>\n",
       "      <th>25%</th>\n",
       "      <td>-0.711176</td>\n",
       "      <td>-0.701007</td>\n",
       "      <td>-0.363884</td>\n",
       "      <td>-0.634952</td>\n",
       "      <td>-0.817703</td>\n",
       "      <td>-0.775090</td>\n",
       "      <td>-0.737884</td>\n",
       "      <td>-0.778563</td>\n",
       "      <td>-0.664682</td>\n",
       "      <td>-0.777374</td>\n",
       "    </tr>\n",
       "    <tr>\n",
       "      <th>50%</th>\n",
       "      <td>-0.126290</td>\n",
       "      <td>-0.138166</td>\n",
       "      <td>0.265926</td>\n",
       "      <td>0.226610</td>\n",
       "      <td>-0.152760</td>\n",
       "      <td>-0.116106</td>\n",
       "      <td>-0.023186</td>\n",
       "      <td>-0.084042</td>\n",
       "      <td>0.078494</td>\n",
       "      <td>-0.054801</td>\n",
       "    </tr>\n",
       "    <tr>\n",
       "      <th>75%</th>\n",
       "      <td>0.536699</td>\n",
       "      <td>0.738558</td>\n",
       "      <td>0.781150</td>\n",
       "      <td>0.931961</td>\n",
       "      <td>0.816860</td>\n",
       "      <td>0.425174</td>\n",
       "      <td>0.444900</td>\n",
       "      <td>0.647957</td>\n",
       "      <td>0.613410</td>\n",
       "      <td>0.698476</td>\n",
       "    </tr>\n",
       "    <tr>\n",
       "      <th>max</th>\n",
       "      <td>2.662303</td>\n",
       "      <td>1.896182</td>\n",
       "      <td>1.976441</td>\n",
       "      <td>3.145319</td>\n",
       "      <td>1.965747</td>\n",
       "      <td>2.844362</td>\n",
       "      <td>2.169294</td>\n",
       "      <td>2.583740</td>\n",
       "      <td>2.638995</td>\n",
       "      <td>2.362681</td>\n",
       "    </tr>\n",
       "  </tbody>\n",
       "</table>\n",
       "</div>"
      ],
      "text/plain": [
       "                0           1           2           3           4           5  \\\n",
       "count  100.000000  100.000000  100.000000  100.000000  100.000000  100.000000   \n",
       "mean    -0.094380   -0.054068    0.215490    0.191869   -0.084597   -0.149412   \n",
       "std      0.969570    1.073664    0.841087    1.158943    1.010123    1.043226   \n",
       "min     -2.910561   -3.650530   -2.170181   -2.453943   -2.409786   -2.619386   \n",
       "25%     -0.711176   -0.701007   -0.363884   -0.634952   -0.817703   -0.775090   \n",
       "50%     -0.126290   -0.138166    0.265926    0.226610   -0.152760   -0.116106   \n",
       "75%      0.536699    0.738558    0.781150    0.931961    0.816860    0.425174   \n",
       "max      2.662303    1.896182    1.976441    3.145319    1.965747    2.844362   \n",
       "\n",
       "                6           7           8           9  \n",
       "count  100.000000  100.000000  100.000000  100.000000  \n",
       "mean    -0.004247   -0.058292   -0.055546   -0.065212  \n",
       "std      0.892802    1.052902    0.996900    1.059221  \n",
       "min     -2.190314   -2.493085   -3.212619   -2.340602  \n",
       "25%     -0.737884   -0.778563   -0.664682   -0.777374  \n",
       "50%     -0.023186   -0.084042    0.078494   -0.054801  \n",
       "75%      0.444900    0.647957    0.613410    0.698476  \n",
       "max      2.169294    2.583740    2.638995    2.362681  "
      ]
     },
     "execution_count": 29,
     "metadata": {},
     "output_type": "execute_result"
    }
   ],
   "source": [
    "df.describe() "
   ]
  },
  {
   "cell_type": "code",
   "execution_count": 30,
   "metadata": {
    "collapsed": false
   },
   "outputs": [
    {
     "data": {
      "text/plain": [
       "0   -0.094380\n",
       "1   -0.054068\n",
       "2    0.215490\n",
       "3    0.191869\n",
       "4   -0.084597\n",
       "5   -0.149412\n",
       "6   -0.004247\n",
       "7   -0.058292\n",
       "8   -0.055546\n",
       "9   -0.065212\n",
       "dtype: float64"
      ]
     },
     "execution_count": 30,
     "metadata": {},
     "output_type": "execute_result"
    }
   ],
   "source": [
    "df.mean()  # equivalent to df.mean(axis=0) & df.describe().loc['mean]"
   ]
  },
  {
   "cell_type": "markdown",
   "metadata": {},
   "source": [
    "###Data frame from list of lists"
   ]
  },
  {
   "cell_type": "code",
   "execution_count": 31,
   "metadata": {
    "collapsed": false
   },
   "outputs": [
    {
     "data": {
      "text/html": [
       "<div>\n",
       "<table border=\"1\" class=\"dataframe\">\n",
       "  <thead>\n",
       "    <tr style=\"text-align: right;\">\n",
       "      <th></th>\n",
       "      <th>0</th>\n",
       "      <th>1</th>\n",
       "      <th>2</th>\n",
       "    </tr>\n",
       "  </thead>\n",
       "  <tbody>\n",
       "    <tr>\n",
       "      <th>0</th>\n",
       "      <td>0</td>\n",
       "      <td>2</td>\n",
       "      <td>4</td>\n",
       "    </tr>\n",
       "    <tr>\n",
       "      <th>1</th>\n",
       "      <td>1</td>\n",
       "      <td>3</td>\n",
       "      <td>5</td>\n",
       "    </tr>\n",
       "  </tbody>\n",
       "</table>\n",
       "</div>"
      ],
      "text/plain": [
       "   0  1  2\n",
       "0  0  2  4\n",
       "1  1  3  5"
      ]
     },
     "execution_count": 31,
     "metadata": {},
     "output_type": "execute_result"
    }
   ],
   "source": [
    "pd.DataFrame([[0, 2, 4], [1, 3, 5]])"
   ]
  },
  {
   "cell_type": "markdown",
   "metadata": {},
   "source": [
    "###Data frame from dictionary"
   ]
  },
  {
   "cell_type": "code",
   "execution_count": 32,
   "metadata": {
    "collapsed": false
   },
   "outputs": [
    {
     "data": {
      "text/html": [
       "<div>\n",
       "<table border=\"1\" class=\"dataframe\">\n",
       "  <thead>\n",
       "    <tr style=\"text-align: right;\">\n",
       "      <th></th>\n",
       "      <th>a</th>\n",
       "      <th>b</th>\n",
       "    </tr>\n",
       "  </thead>\n",
       "  <tbody>\n",
       "    <tr>\n",
       "      <th>r1</th>\n",
       "      <td>0</td>\n",
       "      <td>1</td>\n",
       "    </tr>\n",
       "    <tr>\n",
       "      <th>r2</th>\n",
       "      <td>2</td>\n",
       "      <td>3</td>\n",
       "    </tr>\n",
       "    <tr>\n",
       "      <th>r3</th>\n",
       "      <td>4</td>\n",
       "      <td>5</td>\n",
       "    </tr>\n",
       "  </tbody>\n",
       "</table>\n",
       "</div>"
      ],
      "text/plain": [
       "    a  b\n",
       "r1  0  1\n",
       "r2  2  3\n",
       "r3  4  5"
      ]
     },
     "execution_count": 32,
     "metadata": {},
     "output_type": "execute_result"
    }
   ],
   "source": [
    "pd.DataFrame({'a' : [0, 2, 4], 'b' : [1, 3, 5]}, index=['r1','r2','r3'])"
   ]
  },
  {
   "cell_type": "markdown",
   "metadata": {},
   "source": [
    "###Data frame from CSV files"
   ]
  },
  {
   "cell_type": "code",
   "execution_count": 33,
   "metadata": {
    "collapsed": false
   },
   "outputs": [
    {
     "data": {
      "text/html": [
       "<div>\n",
       "<table border=\"1\" class=\"dataframe\">\n",
       "  <thead>\n",
       "    <tr style=\"text-align: right;\">\n",
       "      <th></th>\n",
       "      <th>schoolID</th>\n",
       "      <th>schoolName</th>\n",
       "      <th>schoolCity</th>\n",
       "      <th>schoolState</th>\n",
       "      <th>schoolNick</th>\n",
       "    </tr>\n",
       "  </thead>\n",
       "  <tbody>\n",
       "    <tr>\n",
       "      <th>0</th>\n",
       "      <td>abilchrist</td>\n",
       "      <td>Abilene Christian University</td>\n",
       "      <td>Abilene</td>\n",
       "      <td>TX</td>\n",
       "      <td>Wildcats</td>\n",
       "    </tr>\n",
       "    <tr>\n",
       "      <th>1</th>\n",
       "      <td>adelphi</td>\n",
       "      <td>Adelphi University</td>\n",
       "      <td>Garden City</td>\n",
       "      <td>NY</td>\n",
       "      <td>Panthers</td>\n",
       "    </tr>\n",
       "    <tr>\n",
       "      <th>2</th>\n",
       "      <td>adrianmi</td>\n",
       "      <td>Adrian College</td>\n",
       "      <td>Adrian</td>\n",
       "      <td>MI</td>\n",
       "      <td>Bulldogs</td>\n",
       "    </tr>\n",
       "  </tbody>\n",
       "</table>\n",
       "</div>"
      ],
      "text/plain": [
       "     schoolID                    schoolName   schoolCity schoolState  \\\n",
       "0  abilchrist  Abilene Christian University      Abilene          TX   \n",
       "1     adelphi            Adelphi University  Garden City          NY   \n",
       "2    adrianmi                Adrian College       Adrian          MI   \n",
       "\n",
       "  schoolNick  \n",
       "0   Wildcats  \n",
       "1   Panthers  \n",
       "2   Bulldogs  "
      ]
     },
     "execution_count": 33,
     "metadata": {},
     "output_type": "execute_result"
    }
   ],
   "source": [
    "schools = pd.read_csv('data/Schools.csv')\n",
    "schools.head(3)   "
   ]
  },
  {
   "cell_type": "code",
   "execution_count": 34,
   "metadata": {
    "collapsed": false
   },
   "outputs": [
    {
     "data": {
      "text/html": [
       "<div>\n",
       "<table border=\"1\" class=\"dataframe\">\n",
       "  <thead>\n",
       "    <tr style=\"text-align: right;\">\n",
       "      <th></th>\n",
       "      <th>playerID</th>\n",
       "      <th>schoolID</th>\n",
       "      <th>yearMin</th>\n",
       "      <th>yearMax</th>\n",
       "    </tr>\n",
       "  </thead>\n",
       "  <tbody>\n",
       "    <tr>\n",
       "      <th>0</th>\n",
       "      <td>aardsda01</td>\n",
       "      <td>pennst</td>\n",
       "      <td>2001</td>\n",
       "      <td>2001</td>\n",
       "    </tr>\n",
       "    <tr>\n",
       "      <th>1</th>\n",
       "      <td>aardsda01</td>\n",
       "      <td>rice</td>\n",
       "      <td>2002</td>\n",
       "      <td>2003</td>\n",
       "    </tr>\n",
       "    <tr>\n",
       "      <th>2</th>\n",
       "      <td>abbeybe01</td>\n",
       "      <td>vermont</td>\n",
       "      <td>1888</td>\n",
       "      <td>1892</td>\n",
       "    </tr>\n",
       "  </tbody>\n",
       "</table>\n",
       "</div>"
      ],
      "text/plain": [
       "    playerID schoolID  yearMin  yearMax\n",
       "0  aardsda01   pennst     2001     2001\n",
       "1  aardsda01     rice     2002     2003\n",
       "2  abbeybe01  vermont     1888     1892"
      ]
     },
     "execution_count": 34,
     "metadata": {},
     "output_type": "execute_result"
    }
   ],
   "source": [
    "players = pd.read_csv('data/SchoolsPlayers.csv')\n",
    "players.head(3)"
   ]
  },
  {
   "cell_type": "markdown",
   "metadata": {
    "collapsed": true
   },
   "source": [
    "###Merging data frames"
   ]
  },
  {
   "cell_type": "markdown",
   "metadata": {},
   "source": [
    "[Pandas docs on concatenating, merging, & joining data frames](http://pandas.pydata.org/pandas-docs/stable/merging.html)"
   ]
  },
  {
   "cell_type": "code",
   "execution_count": 35,
   "metadata": {
    "collapsed": false
   },
   "outputs": [
    {
     "name": "stdout",
     "output_type": "stream",
     "text": [
      "(749, 5)\n",
      "(6147, 4)\n"
     ]
    }
   ],
   "source": [
    "print schools.shape\n",
    "print players.shape"
   ]
  },
  {
   "cell_type": "code",
   "execution_count": 36,
   "metadata": {
    "collapsed": false
   },
   "outputs": [
    {
     "name": "stdout",
     "output_type": "stream",
     "text": [
      "(6147, 8)\n"
     ]
    }
   ],
   "source": [
    "players2 = pd.merge(players, schools, on='schoolID', how='left')\n",
    "print players2.shape"
   ]
  },
  {
   "cell_type": "code",
   "execution_count": 37,
   "metadata": {
    "collapsed": false
   },
   "outputs": [
    {
     "data": {
      "text/html": [
       "<div>\n",
       "<table border=\"1\" class=\"dataframe\">\n",
       "  <thead>\n",
       "    <tr style=\"text-align: right;\">\n",
       "      <th></th>\n",
       "      <th>playerID</th>\n",
       "      <th>schoolID</th>\n",
       "      <th>yearMin</th>\n",
       "      <th>yearMax</th>\n",
       "    </tr>\n",
       "  </thead>\n",
       "  <tbody>\n",
       "    <tr>\n",
       "      <th>0</th>\n",
       "      <td>aardsda01</td>\n",
       "      <td>pennst</td>\n",
       "      <td>2001</td>\n",
       "      <td>2001</td>\n",
       "    </tr>\n",
       "    <tr>\n",
       "      <th>1</th>\n",
       "      <td>aardsda01</td>\n",
       "      <td>rice</td>\n",
       "      <td>2002</td>\n",
       "      <td>2003</td>\n",
       "    </tr>\n",
       "    <tr>\n",
       "      <th>2</th>\n",
       "      <td>abbeybe01</td>\n",
       "      <td>vermont</td>\n",
       "      <td>1888</td>\n",
       "      <td>1892</td>\n",
       "    </tr>\n",
       "    <tr>\n",
       "      <th>3</th>\n",
       "      <td>abbotgl01</td>\n",
       "      <td>carkansas</td>\n",
       "      <td>1970</td>\n",
       "      <td>1970</td>\n",
       "    </tr>\n",
       "  </tbody>\n",
       "</table>\n",
       "</div>"
      ],
      "text/plain": [
       "    playerID   schoolID  yearMin  yearMax\n",
       "0  aardsda01     pennst     2001     2001\n",
       "1  aardsda01       rice     2002     2003\n",
       "2  abbeybe01    vermont     1888     1892\n",
       "3  abbotgl01  carkansas     1970     1970"
      ]
     },
     "execution_count": 37,
     "metadata": {},
     "output_type": "execute_result"
    }
   ],
   "source": [
    "pd.concat([players[:2], players[2:4]])"
   ]
  },
  {
   "cell_type": "markdown",
   "metadata": {},
   "source": [
    "###Aggregation, split-apply-combine"
   ]
  },
  {
   "cell_type": "code",
   "execution_count": 38,
   "metadata": {
    "collapsed": false
   },
   "outputs": [
    {
     "data": {
      "text/plain": [
       "schoolID\n",
       "usc          102\n",
       "texas        100\n",
       "arizonast     98\n",
       "stanford      82\n",
       "michigan      77\n",
       "dtype: int64"
      ]
     },
     "execution_count": 38,
     "metadata": {},
     "output_type": "execute_result"
    }
   ],
   "source": [
    "cnt = players2.groupby('schoolID').size()  # how many players by school?\n",
    "cnt.sort(ascending=False)\n",
    "cnt.head()"
   ]
  },
  {
   "cell_type": "code",
   "execution_count": 39,
   "metadata": {
    "collapsed": false
   },
   "outputs": [
    {
     "data": {
      "text/plain": [
       "schoolState  yearMax\n",
       "CA           1987       30\n",
       "             1986       22\n",
       "             1997       21\n",
       "             1978       20\n",
       "TX           2004       20\n",
       "dtype: int64"
      ]
     },
     "execution_count": 39,
     "metadata": {},
     "output_type": "execute_result"
    }
   ],
   "source": [
    "cnt2 = players2.groupby(['schoolState','yearMax']).size()  # how many players by state-year?\n",
    "cnt2.sort(ascending=False)\n",
    "cnt2.head()"
   ]
  },
  {
   "cell_type": "markdown",
   "metadata": {},
   "source": [
    "###Passing functions to aggregations"
   ]
  },
  {
   "cell_type": "code",
   "execution_count": 40,
   "metadata": {
    "collapsed": false
   },
   "outputs": [
    {
     "data": {
      "text/html": [
       "<div>\n",
       "<table border=\"1\" class=\"dataframe\">\n",
       "  <thead>\n",
       "    <tr style=\"text-align: right;\">\n",
       "      <th></th>\n",
       "      <th>schoolState</th>\n",
       "      <th>yearMax</th>\n",
       "    </tr>\n",
       "    <tr>\n",
       "      <th>schoolState</th>\n",
       "      <th></th>\n",
       "      <th></th>\n",
       "    </tr>\n",
       "  </thead>\n",
       "  <tbody>\n",
       "    <tr>\n",
       "      <th>AL</th>\n",
       "      <td>AL</td>\n",
       "      <td>2008</td>\n",
       "    </tr>\n",
       "    <tr>\n",
       "      <th>AR</th>\n",
       "      <td>AR</td>\n",
       "      <td>2007</td>\n",
       "    </tr>\n",
       "    <tr>\n",
       "      <th>AZ</th>\n",
       "      <td>AZ</td>\n",
       "      <td>2008</td>\n",
       "    </tr>\n",
       "    <tr>\n",
       "      <th>CA</th>\n",
       "      <td>CA</td>\n",
       "      <td>2008</td>\n",
       "    </tr>\n",
       "    <tr>\n",
       "      <th>CO</th>\n",
       "      <td>CO</td>\n",
       "      <td>2005</td>\n",
       "    </tr>\n",
       "  </tbody>\n",
       "</table>\n",
       "</div>"
      ],
      "text/plain": [
       "            schoolState  yearMax\n",
       "schoolState                     \n",
       "AL                   AL     2008\n",
       "AR                   AR     2007\n",
       "AZ                   AZ     2008\n",
       "CA                   CA     2008\n",
       "CO                   CO     2005"
      ]
     },
     "execution_count": 40,
     "metadata": {},
     "output_type": "execute_result"
    }
   ],
   "source": [
    "players2[['schoolState','yearMax']].groupby('schoolState').apply(np.max).head()  # max value of yearMax by schoolID"
   ]
  },
  {
   "cell_type": "markdown",
   "metadata": {},
   "source": [
    "###Use categories as grouping variables"
   ]
  },
  {
   "cell_type": "code",
   "execution_count": 41,
   "metadata": {
    "collapsed": false
   },
   "outputs": [
    {
     "data": {
      "text/plain": [
       "dtype('O')"
      ]
     },
     "execution_count": 41,
     "metadata": {},
     "output_type": "execute_result"
    }
   ],
   "source": [
    "players2['schoolID'].dtype"
   ]
  },
  {
   "cell_type": "code",
   "execution_count": 42,
   "metadata": {
    "collapsed": false
   },
   "outputs": [
    {
     "data": {
      "text/plain": [
       "category"
      ]
     },
     "execution_count": 42,
     "metadata": {},
     "output_type": "execute_result"
    }
   ],
   "source": [
    "players2['schoolID'] = players2['schoolID'].astype('category')\n",
    "players2['schoolID'].dtype"
   ]
  },
  {
   "cell_type": "code",
   "execution_count": 43,
   "metadata": {
    "collapsed": false
   },
   "outputs": [
    {
     "data": {
      "text/plain": [
       "schoolID\n",
       "usc          102\n",
       "texas        100\n",
       "arizonast     98\n",
       "stanford      82\n",
       "michigan      77\n",
       "dtype: int64"
      ]
     },
     "execution_count": 43,
     "metadata": {},
     "output_type": "execute_result"
    }
   ],
   "source": [
    "cnt = players2.groupby('schoolID').size()  # how many players by school, more efficiently... \n",
    "cnt.sort(ascending=False)\n",
    "cnt.head()"
   ]
  },
  {
   "cell_type": "markdown",
   "metadata": {},
   "source": [
    "###Value counts"
   ]
  },
  {
   "cell_type": "code",
   "execution_count": 44,
   "metadata": {
    "collapsed": false
   },
   "outputs": [
    {
     "data": {
      "text/plain": [
       "CA    857\n",
       "TX    411\n",
       "PA    348\n",
       "NY    275\n",
       "FL    265\n",
       "dtype: int64"
      ]
     },
     "execution_count": 44,
     "metadata": {},
     "output_type": "execute_result"
    }
   ],
   "source": [
    "players2['schoolState'].value_counts().head() "
   ]
  },
  {
   "cell_type": "markdown",
   "metadata": {},
   "source": [
    "###Sort by column"
   ]
  },
  {
   "cell_type": "code",
   "execution_count": 45,
   "metadata": {
    "collapsed": false
   },
   "outputs": [
    {
     "data": {
      "text/html": [
       "<div>\n",
       "<table border=\"1\" class=\"dataframe\">\n",
       "  <thead>\n",
       "    <tr style=\"text-align: right;\">\n",
       "      <th></th>\n",
       "      <th>playerID</th>\n",
       "      <th>schoolID</th>\n",
       "      <th>yearMin</th>\n",
       "      <th>yearMax</th>\n",
       "      <th>schoolName</th>\n",
       "      <th>schoolCity</th>\n",
       "      <th>schoolState</th>\n",
       "      <th>schoolNick</th>\n",
       "    </tr>\n",
       "  </thead>\n",
       "  <tbody>\n",
       "    <tr>\n",
       "      <th>2561</th>\n",
       "      <td>hudsoda01</td>\n",
       "      <td>olddom</td>\n",
       "      <td>2006</td>\n",
       "      <td>2008</td>\n",
       "      <td>Old Dominion University</td>\n",
       "      <td>Norfolk</td>\n",
       "      <td>VA</td>\n",
       "      <td>Monarchs</td>\n",
       "    </tr>\n",
       "    <tr>\n",
       "      <th>3821</th>\n",
       "      <td>mooread01</td>\n",
       "      <td>utarl</td>\n",
       "      <td>2006</td>\n",
       "      <td>2006</td>\n",
       "      <td>University of Texas at Arlington</td>\n",
       "      <td>Arlington</td>\n",
       "      <td>TX</td>\n",
       "      <td>Mavericks</td>\n",
       "    </tr>\n",
       "    <tr>\n",
       "      <th>332</th>\n",
       "      <td>beckhgo01</td>\n",
       "      <td>georgia</td>\n",
       "      <td>2006</td>\n",
       "      <td>2008</td>\n",
       "      <td>University of Georgia</td>\n",
       "      <td>Athens</td>\n",
       "      <td>GA</td>\n",
       "      <td>Bulldogs</td>\n",
       "    </tr>\n",
       "    <tr>\n",
       "      <th>3479</th>\n",
       "      <td>masteju01</td>\n",
       "      <td>sandiegost</td>\n",
       "      <td>2006</td>\n",
       "      <td>2006</td>\n",
       "      <td>San Diego State University</td>\n",
       "      <td>San Diego</td>\n",
       "      <td>CA</td>\n",
       "      <td>Aztecs</td>\n",
       "    </tr>\n",
       "    <tr>\n",
       "      <th>868</th>\n",
       "      <td>carpean01</td>\n",
       "      <td>longbeach</td>\n",
       "      <td>2006</td>\n",
       "      <td>2006</td>\n",
       "      <td>California State University, Long Beach</td>\n",
       "      <td>Long Beach</td>\n",
       "      <td>CA</td>\n",
       "      <td>49ers</td>\n",
       "    </tr>\n",
       "  </tbody>\n",
       "</table>\n",
       "</div>"
      ],
      "text/plain": [
       "       playerID    schoolID  yearMin  yearMax  \\\n",
       "2561  hudsoda01      olddom     2006     2008   \n",
       "3821  mooread01       utarl     2006     2006   \n",
       "332   beckhgo01     georgia     2006     2008   \n",
       "3479  masteju01  sandiegost     2006     2006   \n",
       "868   carpean01   longbeach     2006     2006   \n",
       "\n",
       "                                   schoolName  schoolCity schoolState  \\\n",
       "2561                  Old Dominion University     Norfolk          VA   \n",
       "3821         University of Texas at Arlington   Arlington          TX   \n",
       "332                     University of Georgia      Athens          GA   \n",
       "3479               San Diego State University   San Diego          CA   \n",
       "868   California State University, Long Beach  Long Beach          CA   \n",
       "\n",
       "     schoolNick  \n",
       "2561   Monarchs  \n",
       "3821  Mavericks  \n",
       "332    Bulldogs  \n",
       "3479     Aztecs  \n",
       "868       49ers  "
      ]
     },
     "execution_count": 45,
     "metadata": {},
     "output_type": "execute_result"
    }
   ],
   "source": [
    "players2.sort(columns='yearMin', ascending=False).head()"
   ]
  },
  {
   "cell_type": "code",
   "execution_count": 46,
   "metadata": {
    "collapsed": false
   },
   "outputs": [
    {
     "data": {
      "text/html": [
       "<div>\n",
       "<table border=\"1\" class=\"dataframe\">\n",
       "  <thead>\n",
       "    <tr style=\"text-align: right;\">\n",
       "      <th></th>\n",
       "      <th>playerID</th>\n",
       "      <th>schoolID</th>\n",
       "      <th>yearMin</th>\n",
       "      <th>yearMax</th>\n",
       "      <th>schoolName</th>\n",
       "      <th>schoolCity</th>\n",
       "      <th>schoolState</th>\n",
       "      <th>schoolNick</th>\n",
       "    </tr>\n",
       "  </thead>\n",
       "  <tbody>\n",
       "    <tr>\n",
       "      <th>868</th>\n",
       "      <td>carpean01</td>\n",
       "      <td>longbeach</td>\n",
       "      <td>2006</td>\n",
       "      <td>2006</td>\n",
       "      <td>California State University, Long Beach</td>\n",
       "      <td>Long Beach</td>\n",
       "      <td>CA</td>\n",
       "      <td>49ers</td>\n",
       "    </tr>\n",
       "    <tr>\n",
       "      <th>2567</th>\n",
       "      <td>huffda01</td>\n",
       "      <td>ucla</td>\n",
       "      <td>2006</td>\n",
       "      <td>2006</td>\n",
       "      <td>University of California, Los Angeles</td>\n",
       "      <td>Los Angeles</td>\n",
       "      <td>CA</td>\n",
       "      <td>Bruins</td>\n",
       "    </tr>\n",
       "    <tr>\n",
       "      <th>3479</th>\n",
       "      <td>masteju01</td>\n",
       "      <td>sandiegost</td>\n",
       "      <td>2006</td>\n",
       "      <td>2006</td>\n",
       "      <td>San Diego State University</td>\n",
       "      <td>San Diego</td>\n",
       "      <td>CA</td>\n",
       "      <td>Aztecs</td>\n",
       "    </tr>\n",
       "    <tr>\n",
       "      <th>3821</th>\n",
       "      <td>mooread01</td>\n",
       "      <td>utarl</td>\n",
       "      <td>2006</td>\n",
       "      <td>2006</td>\n",
       "      <td>University of Texas at Arlington</td>\n",
       "      <td>Arlington</td>\n",
       "      <td>TX</td>\n",
       "      <td>Mavericks</td>\n",
       "    </tr>\n",
       "    <tr>\n",
       "      <th>1402</th>\n",
       "      <td>dillojo02</td>\n",
       "      <td>txtech</td>\n",
       "      <td>2006</td>\n",
       "      <td>2007</td>\n",
       "      <td>Texas Tech University</td>\n",
       "      <td>Lubbock</td>\n",
       "      <td>TX</td>\n",
       "      <td>Red Raiders</td>\n",
       "    </tr>\n",
       "  </tbody>\n",
       "</table>\n",
       "</div>"
      ],
      "text/plain": [
       "       playerID    schoolID  yearMin  yearMax  \\\n",
       "868   carpean01   longbeach     2006     2006   \n",
       "2567   huffda01        ucla     2006     2006   \n",
       "3479  masteju01  sandiegost     2006     2006   \n",
       "3821  mooread01       utarl     2006     2006   \n",
       "1402  dillojo02      txtech     2006     2007   \n",
       "\n",
       "                                   schoolName   schoolCity schoolState  \\\n",
       "868   California State University, Long Beach   Long Beach          CA   \n",
       "2567    University of California, Los Angeles  Los Angeles          CA   \n",
       "3479               San Diego State University    San Diego          CA   \n",
       "3821         University of Texas at Arlington    Arlington          TX   \n",
       "1402                    Texas Tech University      Lubbock          TX   \n",
       "\n",
       "       schoolNick  \n",
       "868         49ers  \n",
       "2567       Bruins  \n",
       "3479       Aztecs  \n",
       "3821    Mavericks  \n",
       "1402  Red Raiders  "
      ]
     },
     "execution_count": 46,
     "metadata": {},
     "output_type": "execute_result"
    }
   ],
   "source": [
    "players2.sort(columns=['yearMin', 'yearMax'], ascending=[0, 1]).head()"
   ]
  },
  {
   "cell_type": "markdown",
   "metadata": {},
   "source": [
    "###Creating and dropping columns"
   ]
  },
  {
   "cell_type": "code",
   "execution_count": 47,
   "metadata": {
    "collapsed": false
   },
   "outputs": [
    {
     "data": {
      "text/html": [
       "<div>\n",
       "<table border=\"1\" class=\"dataframe\">\n",
       "  <thead>\n",
       "    <tr style=\"text-align: right;\">\n",
       "      <th></th>\n",
       "      <th>playerID</th>\n",
       "      <th>schoolID</th>\n",
       "      <th>yearMin</th>\n",
       "      <th>yearMax</th>\n",
       "      <th>schoolName</th>\n",
       "      <th>schoolCity</th>\n",
       "      <th>schoolState</th>\n",
       "      <th>schoolNick</th>\n",
       "      <th>duration</th>\n",
       "    </tr>\n",
       "  </thead>\n",
       "  <tbody>\n",
       "    <tr>\n",
       "      <th>0</th>\n",
       "      <td>aardsda01</td>\n",
       "      <td>pennst</td>\n",
       "      <td>2001</td>\n",
       "      <td>2001</td>\n",
       "      <td>Pennsylvania State University</td>\n",
       "      <td>State College</td>\n",
       "      <td>PA</td>\n",
       "      <td>Nittany Lions</td>\n",
       "      <td>0</td>\n",
       "    </tr>\n",
       "    <tr>\n",
       "      <th>1</th>\n",
       "      <td>aardsda01</td>\n",
       "      <td>rice</td>\n",
       "      <td>2002</td>\n",
       "      <td>2003</td>\n",
       "      <td>Rice University</td>\n",
       "      <td>Houston</td>\n",
       "      <td>TX</td>\n",
       "      <td>Owls</td>\n",
       "      <td>1</td>\n",
       "    </tr>\n",
       "    <tr>\n",
       "      <th>2</th>\n",
       "      <td>abbeybe01</td>\n",
       "      <td>vermont</td>\n",
       "      <td>1888</td>\n",
       "      <td>1892</td>\n",
       "      <td>University of Vermont</td>\n",
       "      <td>South Burlington</td>\n",
       "      <td>VT</td>\n",
       "      <td>Catamounts</td>\n",
       "      <td>4</td>\n",
       "    </tr>\n",
       "  </tbody>\n",
       "</table>\n",
       "</div>"
      ],
      "text/plain": [
       "    playerID schoolID  yearMin  yearMax                     schoolName  \\\n",
       "0  aardsda01   pennst     2001     2001  Pennsylvania State University   \n",
       "1  aardsda01     rice     2002     2003                Rice University   \n",
       "2  abbeybe01  vermont     1888     1892          University of Vermont   \n",
       "\n",
       "         schoolCity schoolState     schoolNick  duration  \n",
       "0     State College          PA  Nittany Lions         0  \n",
       "1           Houston          TX           Owls         1  \n",
       "2  South Burlington          VT     Catamounts         4  "
      ]
     },
     "execution_count": 47,
     "metadata": {},
     "output_type": "execute_result"
    }
   ],
   "source": [
    "players2['duration'] = players2.eval('yearMax - yearMin')  # equivalent to players2['yearMax'] - players2['yearMin']\n",
    "players2.head(3) "
   ]
  },
  {
   "cell_type": "code",
   "execution_count": 48,
   "metadata": {
    "collapsed": false
   },
   "outputs": [
    {
     "data": {
      "text/html": [
       "<div>\n",
       "<table border=\"1\" class=\"dataframe\">\n",
       "  <thead>\n",
       "    <tr style=\"text-align: right;\">\n",
       "      <th></th>\n",
       "      <th>playerID</th>\n",
       "      <th>schoolID</th>\n",
       "      <th>yearMin</th>\n",
       "      <th>yearMax</th>\n",
       "      <th>schoolName</th>\n",
       "      <th>schoolCity</th>\n",
       "      <th>schoolState</th>\n",
       "      <th>duration</th>\n",
       "    </tr>\n",
       "  </thead>\n",
       "  <tbody>\n",
       "    <tr>\n",
       "      <th>0</th>\n",
       "      <td>aardsda01</td>\n",
       "      <td>pennst</td>\n",
       "      <td>2001</td>\n",
       "      <td>2001</td>\n",
       "      <td>Pennsylvania State University</td>\n",
       "      <td>State College</td>\n",
       "      <td>PA</td>\n",
       "      <td>0</td>\n",
       "    </tr>\n",
       "    <tr>\n",
       "      <th>1</th>\n",
       "      <td>aardsda01</td>\n",
       "      <td>rice</td>\n",
       "      <td>2002</td>\n",
       "      <td>2003</td>\n",
       "      <td>Rice University</td>\n",
       "      <td>Houston</td>\n",
       "      <td>TX</td>\n",
       "      <td>1</td>\n",
       "    </tr>\n",
       "    <tr>\n",
       "      <th>2</th>\n",
       "      <td>abbeybe01</td>\n",
       "      <td>vermont</td>\n",
       "      <td>1888</td>\n",
       "      <td>1892</td>\n",
       "      <td>University of Vermont</td>\n",
       "      <td>South Burlington</td>\n",
       "      <td>VT</td>\n",
       "      <td>4</td>\n",
       "    </tr>\n",
       "  </tbody>\n",
       "</table>\n",
       "</div>"
      ],
      "text/plain": [
       "    playerID schoolID  yearMin  yearMax                     schoolName  \\\n",
       "0  aardsda01   pennst     2001     2001  Pennsylvania State University   \n",
       "1  aardsda01     rice     2002     2003                Rice University   \n",
       "2  abbeybe01  vermont     1888     1892          University of Vermont   \n",
       "\n",
       "         schoolCity schoolState  duration  \n",
       "0     State College          PA         0  \n",
       "1           Houston          TX         1  \n",
       "2  South Burlington          VT         4  "
      ]
     },
     "execution_count": 48,
     "metadata": {},
     "output_type": "execute_result"
    }
   ],
   "source": [
    "players2.drop('schoolNick', axis=1, inplace=True)  # pass multiple columns to drop in an array\n",
    "players2.head(3) "
   ]
  },
  {
   "cell_type": "markdown",
   "metadata": {},
   "source": [
    "###Querying a data frame"
   ]
  },
  {
   "cell_type": "code",
   "execution_count": 49,
   "metadata": {
    "collapsed": false
   },
   "outputs": [
    {
     "data": {
      "text/html": [
       "<div>\n",
       "<table border=\"1\" class=\"dataframe\">\n",
       "  <thead>\n",
       "    <tr style=\"text-align: right;\">\n",
       "      <th></th>\n",
       "      <th>playerID</th>\n",
       "      <th>schoolID</th>\n",
       "      <th>yearMin</th>\n",
       "      <th>yearMax</th>\n",
       "      <th>schoolName</th>\n",
       "      <th>schoolCity</th>\n",
       "      <th>schoolState</th>\n",
       "      <th>duration</th>\n",
       "    </tr>\n",
       "  </thead>\n",
       "  <tbody>\n",
       "    <tr>\n",
       "      <th>4</th>\n",
       "      <td>abbotje01</td>\n",
       "      <td>kentucky</td>\n",
       "      <td>1991</td>\n",
       "      <td>1992</td>\n",
       "      <td>University of Kentucky</td>\n",
       "      <td>Lexington</td>\n",
       "      <td>KY</td>\n",
       "      <td>1</td>\n",
       "    </tr>\n",
       "    <tr>\n",
       "      <th>106</th>\n",
       "      <td>anderjo03</td>\n",
       "      <td>ekentucky</td>\n",
       "      <td>2001</td>\n",
       "      <td>2003</td>\n",
       "      <td>Eastern Kentucky University</td>\n",
       "      <td>Richmond</td>\n",
       "      <td>KY</td>\n",
       "      <td>2</td>\n",
       "    </tr>\n",
       "    <tr>\n",
       "      <th>221</th>\n",
       "      <td>ballowi01</td>\n",
       "      <td>ekentucky</td>\n",
       "      <td>1916</td>\n",
       "      <td>1920</td>\n",
       "      <td>Eastern Kentucky University</td>\n",
       "      <td>Richmond</td>\n",
       "      <td>KY</td>\n",
       "      <td>4</td>\n",
       "    </tr>\n",
       "  </tbody>\n",
       "</table>\n",
       "</div>"
      ],
      "text/plain": [
       "      playerID   schoolID  yearMin  yearMax                   schoolName  \\\n",
       "4    abbotje01   kentucky     1991     1992       University of Kentucky   \n",
       "106  anderjo03  ekentucky     2001     2003  Eastern Kentucky University   \n",
       "221  ballowi01  ekentucky     1916     1920  Eastern Kentucky University   \n",
       "\n",
       "    schoolCity schoolState  duration  \n",
       "4    Lexington          KY         1  \n",
       "106   Richmond          KY         2  \n",
       "221   Richmond          KY         4  "
      ]
     },
     "execution_count": 49,
     "metadata": {},
     "output_type": "execute_result"
    }
   ],
   "source": [
    "players2[players2['schoolState'] == 'KY'].head(3)"
   ]
  },
  {
   "cell_type": "code",
   "execution_count": 50,
   "metadata": {
    "collapsed": false
   },
   "outputs": [
    {
     "data": {
      "text/html": [
       "<div>\n",
       "<table border=\"1\" class=\"dataframe\">\n",
       "  <thead>\n",
       "    <tr style=\"text-align: right;\">\n",
       "      <th></th>\n",
       "      <th>playerID</th>\n",
       "      <th>schoolID</th>\n",
       "      <th>yearMin</th>\n",
       "      <th>yearMax</th>\n",
       "      <th>schoolName</th>\n",
       "      <th>schoolCity</th>\n",
       "      <th>schoolState</th>\n",
       "      <th>duration</th>\n",
       "    </tr>\n",
       "  </thead>\n",
       "  <tbody>\n",
       "    <tr>\n",
       "      <th>4</th>\n",
       "      <td>abbotje01</td>\n",
       "      <td>kentucky</td>\n",
       "      <td>1991</td>\n",
       "      <td>1992</td>\n",
       "      <td>University of Kentucky</td>\n",
       "      <td>Lexington</td>\n",
       "      <td>KY</td>\n",
       "      <td>1</td>\n",
       "    </tr>\n",
       "    <tr>\n",
       "      <th>106</th>\n",
       "      <td>anderjo03</td>\n",
       "      <td>ekentucky</td>\n",
       "      <td>2001</td>\n",
       "      <td>2003</td>\n",
       "      <td>Eastern Kentucky University</td>\n",
       "      <td>Richmond</td>\n",
       "      <td>KY</td>\n",
       "      <td>2</td>\n",
       "    </tr>\n",
       "    <tr>\n",
       "      <th>221</th>\n",
       "      <td>ballowi01</td>\n",
       "      <td>ekentucky</td>\n",
       "      <td>1916</td>\n",
       "      <td>1920</td>\n",
       "      <td>Eastern Kentucky University</td>\n",
       "      <td>Richmond</td>\n",
       "      <td>KY</td>\n",
       "      <td>4</td>\n",
       "    </tr>\n",
       "  </tbody>\n",
       "</table>\n",
       "</div>"
      ],
      "text/plain": [
       "      playerID   schoolID  yearMin  yearMax                   schoolName  \\\n",
       "4    abbotje01   kentucky     1991     1992       University of Kentucky   \n",
       "106  anderjo03  ekentucky     2001     2003  Eastern Kentucky University   \n",
       "221  ballowi01  ekentucky     1916     1920  Eastern Kentucky University   \n",
       "\n",
       "    schoolCity schoolState  duration  \n",
       "4    Lexington          KY         1  \n",
       "106   Richmond          KY         2  \n",
       "221   Richmond          KY         4  "
      ]
     },
     "execution_count": 50,
     "metadata": {},
     "output_type": "execute_result"
    }
   ],
   "source": [
    "players2.query('schoolState == \"KY\"').head(3)"
   ]
  },
  {
   "cell_type": "code",
   "execution_count": 51,
   "metadata": {
    "collapsed": false
   },
   "outputs": [
    {
     "data": {
      "text/html": [
       "<div>\n",
       "<table border=\"1\" class=\"dataframe\">\n",
       "  <thead>\n",
       "    <tr style=\"text-align: right;\">\n",
       "      <th></th>\n",
       "      <th>playerID</th>\n",
       "      <th>schoolID</th>\n",
       "      <th>yearMin</th>\n",
       "      <th>yearMax</th>\n",
       "      <th>schoolName</th>\n",
       "      <th>schoolCity</th>\n",
       "      <th>schoolState</th>\n",
       "      <th>duration</th>\n",
       "    </tr>\n",
       "  </thead>\n",
       "  <tbody>\n",
       "    <tr>\n",
       "      <th>106</th>\n",
       "      <td>anderjo03</td>\n",
       "      <td>ekentucky</td>\n",
       "      <td>2001</td>\n",
       "      <td>2003</td>\n",
       "      <td>Eastern Kentucky University</td>\n",
       "      <td>Richmond</td>\n",
       "      <td>KY</td>\n",
       "      <td>2</td>\n",
       "    </tr>\n",
       "    <tr>\n",
       "      <th>458</th>\n",
       "      <td>blantjo01</td>\n",
       "      <td>kentucky</td>\n",
       "      <td>2000</td>\n",
       "      <td>2002</td>\n",
       "      <td>University of Kentucky</td>\n",
       "      <td>Lexington</td>\n",
       "      <td>KY</td>\n",
       "      <td>2</td>\n",
       "    </tr>\n",
       "    <tr>\n",
       "      <th>2647</th>\n",
       "      <td>jacksza01</td>\n",
       "      <td>louisville</td>\n",
       "      <td>2002</td>\n",
       "      <td>2003</td>\n",
       "      <td>University of Louisville</td>\n",
       "      <td>Louisville</td>\n",
       "      <td>KY</td>\n",
       "      <td>1</td>\n",
       "    </tr>\n",
       "  </tbody>\n",
       "</table>\n",
       "</div>"
      ],
      "text/plain": [
       "       playerID    schoolID  yearMin  yearMax                   schoolName  \\\n",
       "106   anderjo03   ekentucky     2001     2003  Eastern Kentucky University   \n",
       "458   blantjo01    kentucky     2000     2002       University of Kentucky   \n",
       "2647  jacksza01  louisville     2002     2003     University of Louisville   \n",
       "\n",
       "      schoolCity schoolState  duration  \n",
       "106     Richmond          KY         2  \n",
       "458    Lexington          KY         2  \n",
       "2647  Louisville          KY         1  "
      ]
     },
     "execution_count": 51,
     "metadata": {},
     "output_type": "execute_result"
    }
   ],
   "source": [
    "players2.query('schoolState == \"KY\" & yearMax > 2000').head(3)"
   ]
  },
  {
   "cell_type": "code",
   "execution_count": 52,
   "metadata": {
    "collapsed": false
   },
   "outputs": [
    {
     "data": {
      "text/html": [
       "<div>\n",
       "<table border=\"1\" class=\"dataframe\">\n",
       "  <thead>\n",
       "    <tr style=\"text-align: right;\">\n",
       "      <th></th>\n",
       "      <th>playerID</th>\n",
       "      <th>schoolID</th>\n",
       "      <th>yearMin</th>\n",
       "      <th>yearMax</th>\n",
       "      <th>schoolName</th>\n",
       "      <th>schoolCity</th>\n",
       "      <th>schoolState</th>\n",
       "      <th>duration</th>\n",
       "    </tr>\n",
       "  </thead>\n",
       "  <tbody>\n",
       "    <tr>\n",
       "      <th>106</th>\n",
       "      <td>anderjo03</td>\n",
       "      <td>ekentucky</td>\n",
       "      <td>2001</td>\n",
       "      <td>2003</td>\n",
       "      <td>Eastern Kentucky University</td>\n",
       "      <td>Richmond</td>\n",
       "      <td>KY</td>\n",
       "      <td>2</td>\n",
       "    </tr>\n",
       "    <tr>\n",
       "      <th>458</th>\n",
       "      <td>blantjo01</td>\n",
       "      <td>kentucky</td>\n",
       "      <td>2000</td>\n",
       "      <td>2002</td>\n",
       "      <td>University of Kentucky</td>\n",
       "      <td>Lexington</td>\n",
       "      <td>KY</td>\n",
       "      <td>2</td>\n",
       "    </tr>\n",
       "    <tr>\n",
       "      <th>2647</th>\n",
       "      <td>jacksza01</td>\n",
       "      <td>louisville</td>\n",
       "      <td>2002</td>\n",
       "      <td>2003</td>\n",
       "      <td>University of Louisville</td>\n",
       "      <td>Louisville</td>\n",
       "      <td>KY</td>\n",
       "      <td>1</td>\n",
       "    </tr>\n",
       "  </tbody>\n",
       "</table>\n",
       "</div>"
      ],
      "text/plain": [
       "       playerID    schoolID  yearMin  yearMax                   schoolName  \\\n",
       "106   anderjo03   ekentucky     2001     2003  Eastern Kentucky University   \n",
       "458   blantjo01    kentucky     2000     2002       University of Kentucky   \n",
       "2647  jacksza01  louisville     2002     2003     University of Louisville   \n",
       "\n",
       "      schoolCity schoolState  duration  \n",
       "106     Richmond          KY         2  \n",
       "458    Lexington          KY         2  \n",
       "2647  Louisville          KY         1  "
      ]
     },
     "execution_count": 52,
     "metadata": {},
     "output_type": "execute_result"
    }
   ],
   "source": [
    "players2.query('schoolState == {0} & yearMax > {1}'.format('\"KY\"', '2000')).head(3)"
   ]
  },
  {
   "cell_type": "code",
   "execution_count": 53,
   "metadata": {
    "collapsed": false
   },
   "outputs": [
    {
     "data": {
      "text/html": [
       "<div>\n",
       "<table border=\"1\" class=\"dataframe\">\n",
       "  <thead>\n",
       "    <tr style=\"text-align: right;\">\n",
       "      <th></th>\n",
       "      <th>playerID</th>\n",
       "      <th>schoolID</th>\n",
       "      <th>yearMin</th>\n",
       "      <th>yearMax</th>\n",
       "      <th>schoolName</th>\n",
       "      <th>schoolCity</th>\n",
       "      <th>schoolState</th>\n",
       "      <th>duration</th>\n",
       "    </tr>\n",
       "  </thead>\n",
       "  <tbody>\n",
       "    <tr>\n",
       "      <th>106</th>\n",
       "      <td>anderjo03</td>\n",
       "      <td>ekentucky</td>\n",
       "      <td>2001</td>\n",
       "      <td>2003</td>\n",
       "      <td>Eastern Kentucky University</td>\n",
       "      <td>Richmond</td>\n",
       "      <td>KY</td>\n",
       "      <td>2</td>\n",
       "    </tr>\n",
       "    <tr>\n",
       "      <th>458</th>\n",
       "      <td>blantjo01</td>\n",
       "      <td>kentucky</td>\n",
       "      <td>2000</td>\n",
       "      <td>2002</td>\n",
       "      <td>University of Kentucky</td>\n",
       "      <td>Lexington</td>\n",
       "      <td>KY</td>\n",
       "      <td>2</td>\n",
       "    </tr>\n",
       "    <tr>\n",
       "      <th>2647</th>\n",
       "      <td>jacksza01</td>\n",
       "      <td>louisville</td>\n",
       "      <td>2002</td>\n",
       "      <td>2003</td>\n",
       "      <td>University of Louisville</td>\n",
       "      <td>Louisville</td>\n",
       "      <td>KY</td>\n",
       "      <td>1</td>\n",
       "    </tr>\n",
       "  </tbody>\n",
       "</table>\n",
       "</div>"
      ],
      "text/plain": [
       "       playerID    schoolID  yearMin  yearMax                   schoolName  \\\n",
       "106   anderjo03   ekentucky     2001     2003  Eastern Kentucky University   \n",
       "458   blantjo01    kentucky     2000     2002       University of Kentucky   \n",
       "2647  jacksza01  louisville     2002     2003     University of Louisville   \n",
       "\n",
       "      schoolCity schoolState  duration  \n",
       "106     Richmond          KY         2  \n",
       "458    Lexington          KY         2  \n",
       "2647  Louisville          KY         1  "
      ]
     },
     "execution_count": 53,
     "metadata": {},
     "output_type": "execute_result"
    }
   ],
   "source": [
    "state_var = 'KY'\n",
    "year_var = 2000\n",
    "players2.query('schoolState == @state_var & yearMax > @year_var').head(3) "
   ]
  },
  {
   "cell_type": "code",
   "execution_count": 54,
   "metadata": {
    "collapsed": false
   },
   "outputs": [
    {
     "data": {
      "text/html": [
       "<div>\n",
       "<table border=\"1\" class=\"dataframe\">\n",
       "  <thead>\n",
       "    <tr style=\"text-align: right;\">\n",
       "      <th></th>\n",
       "      <th>playerID</th>\n",
       "      <th>schoolID</th>\n",
       "      <th>yearMin</th>\n",
       "      <th>yearMax</th>\n",
       "      <th>schoolName</th>\n",
       "      <th>schoolCity</th>\n",
       "      <th>schoolState</th>\n",
       "      <th>duration</th>\n",
       "    </tr>\n",
       "  </thead>\n",
       "  <tbody>\n",
       "    <tr>\n",
       "      <th>106</th>\n",
       "      <td>anderjo03</td>\n",
       "      <td>ekentucky</td>\n",
       "      <td>2001</td>\n",
       "      <td>2003</td>\n",
       "      <td>Eastern Kentucky University</td>\n",
       "      <td>Richmond</td>\n",
       "      <td>KY</td>\n",
       "      <td>2</td>\n",
       "    </tr>\n",
       "    <tr>\n",
       "      <th>458</th>\n",
       "      <td>blantjo01</td>\n",
       "      <td>kentucky</td>\n",
       "      <td>2000</td>\n",
       "      <td>2002</td>\n",
       "      <td>University of Kentucky</td>\n",
       "      <td>Lexington</td>\n",
       "      <td>KY</td>\n",
       "      <td>2</td>\n",
       "    </tr>\n",
       "    <tr>\n",
       "      <th>2647</th>\n",
       "      <td>jacksza01</td>\n",
       "      <td>louisville</td>\n",
       "      <td>2002</td>\n",
       "      <td>2003</td>\n",
       "      <td>University of Louisville</td>\n",
       "      <td>Louisville</td>\n",
       "      <td>KY</td>\n",
       "      <td>1</td>\n",
       "    </tr>\n",
       "  </tbody>\n",
       "</table>\n",
       "</div>"
      ],
      "text/plain": [
       "       playerID    schoolID  yearMin  yearMax                   schoolName  \\\n",
       "106   anderjo03   ekentucky     2001     2003  Eastern Kentucky University   \n",
       "458   blantjo01    kentucky     2000     2002       University of Kentucky   \n",
       "2647  jacksza01  louisville     2002     2003     University of Louisville   \n",
       "\n",
       "      schoolCity schoolState  duration  \n",
       "106     Richmond          KY         2  \n",
       "458    Lexington          KY         2  \n",
       "2647  Louisville          KY         1  "
      ]
     },
     "execution_count": 54,
     "metadata": {},
     "output_type": "execute_result"
    }
   ],
   "source": [
    "year_list = [2002, 2003]\n",
    "players2.query('schoolState == @state_var & yearMax in @year_list')"
   ]
  },
  {
   "cell_type": "code",
   "execution_count": 55,
   "metadata": {
    "collapsed": false
   },
   "outputs": [
    {
     "data": {
      "text/html": [
       "<div>\n",
       "<table border=\"1\" class=\"dataframe\">\n",
       "  <thead>\n",
       "    <tr style=\"text-align: right;\">\n",
       "      <th></th>\n",
       "      <th>playerID</th>\n",
       "      <th>schoolID</th>\n",
       "      <th>yearMin</th>\n",
       "      <th>yearMax</th>\n",
       "      <th>schoolName</th>\n",
       "      <th>schoolCity</th>\n",
       "      <th>schoolState</th>\n",
       "      <th>duration</th>\n",
       "    </tr>\n",
       "  </thead>\n",
       "  <tbody>\n",
       "    <tr>\n",
       "      <th>1</th>\n",
       "      <td>aardsda01</td>\n",
       "      <td>rice</td>\n",
       "      <td>2002</td>\n",
       "      <td>2003</td>\n",
       "      <td>Rice University</td>\n",
       "      <td>Houston</td>\n",
       "      <td>TX</td>\n",
       "      <td>1</td>\n",
       "    </tr>\n",
       "    <tr>\n",
       "      <th>6</th>\n",
       "      <td>abbotky01</td>\n",
       "      <td>longbeach</td>\n",
       "      <td>1989</td>\n",
       "      <td>1989</td>\n",
       "      <td>California State University, Long Beach</td>\n",
       "      <td>Long Beach</td>\n",
       "      <td>CA</td>\n",
       "      <td>0</td>\n",
       "    </tr>\n",
       "    <tr>\n",
       "      <th>7</th>\n",
       "      <td>abbotky01</td>\n",
       "      <td>ucsd</td>\n",
       "      <td>1987</td>\n",
       "      <td>1988</td>\n",
       "      <td>University of California, San Diego</td>\n",
       "      <td>La Jolla</td>\n",
       "      <td>CA</td>\n",
       "      <td>1</td>\n",
       "    </tr>\n",
       "  </tbody>\n",
       "</table>\n",
       "</div>"
      ],
      "text/plain": [
       "    playerID   schoolID  yearMin  yearMax  \\\n",
       "1  aardsda01       rice     2002     2003   \n",
       "6  abbotky01  longbeach     1989     1989   \n",
       "7  abbotky01       ucsd     1987     1988   \n",
       "\n",
       "                                schoolName  schoolCity schoolState  duration  \n",
       "1                          Rice University     Houston          TX         1  \n",
       "6  California State University, Long Beach  Long Beach          CA         0  \n",
       "7      University of California, San Diego    La Jolla          CA         1  "
      ]
     },
     "execution_count": 55,
     "metadata": {},
     "output_type": "execute_result"
    }
   ],
   "source": [
    "players2[players2['schoolState'].isin(['CO','CA','WA','TX'])].head(3)"
   ]
  },
  {
   "cell_type": "code",
   "execution_count": 56,
   "metadata": {
    "collapsed": false
   },
   "outputs": [
    {
     "data": {
      "text/html": [
       "<div>\n",
       "<table border=\"1\" class=\"dataframe\">\n",
       "  <thead>\n",
       "    <tr style=\"text-align: right;\">\n",
       "      <th></th>\n",
       "      <th>playerID</th>\n",
       "      <th>schoolID</th>\n",
       "      <th>yearMin</th>\n",
       "      <th>yearMax</th>\n",
       "      <th>schoolName</th>\n",
       "      <th>schoolCity</th>\n",
       "      <th>schoolState</th>\n",
       "      <th>duration</th>\n",
       "    </tr>\n",
       "  </thead>\n",
       "  <tbody>\n",
       "    <tr>\n",
       "      <th>106</th>\n",
       "      <td>anderjo03</td>\n",
       "      <td>ekentucky</td>\n",
       "      <td>2001</td>\n",
       "      <td>2003</td>\n",
       "      <td>Eastern Kentucky University</td>\n",
       "      <td>Richmond</td>\n",
       "      <td>KY</td>\n",
       "      <td>2</td>\n",
       "    </tr>\n",
       "    <tr>\n",
       "      <th>458</th>\n",
       "      <td>blantjo01</td>\n",
       "      <td>kentucky</td>\n",
       "      <td>2000</td>\n",
       "      <td>2002</td>\n",
       "      <td>University of Kentucky</td>\n",
       "      <td>Lexington</td>\n",
       "      <td>KY</td>\n",
       "      <td>2</td>\n",
       "    </tr>\n",
       "    <tr>\n",
       "      <th>2647</th>\n",
       "      <td>jacksza01</td>\n",
       "      <td>louisville</td>\n",
       "      <td>2002</td>\n",
       "      <td>2003</td>\n",
       "      <td>University of Louisville</td>\n",
       "      <td>Louisville</td>\n",
       "      <td>KY</td>\n",
       "      <td>1</td>\n",
       "    </tr>\n",
       "  </tbody>\n",
       "</table>\n",
       "</div>"
      ],
      "text/plain": [
       "       playerID    schoolID  yearMin  yearMax                   schoolName  \\\n",
       "106   anderjo03   ekentucky     2001     2003  Eastern Kentucky University   \n",
       "458   blantjo01    kentucky     2000     2002       University of Kentucky   \n",
       "2647  jacksza01  louisville     2002     2003     University of Louisville   \n",
       "\n",
       "      schoolCity schoolState  duration  \n",
       "106     Richmond          KY         2  \n",
       "458    Lexington          KY         2  \n",
       "2647  Louisville          KY         1  "
      ]
     },
     "execution_count": 56,
     "metadata": {},
     "output_type": "execute_result"
    }
   ],
   "source": [
    "players2[(players2['schoolState'] == 'KY') & (players2['yearMax'] > 2000)].head(3)"
   ]
  },
  {
   "cell_type": "markdown",
   "metadata": {},
   "source": [
    "###Querying patterns in string variables"
   ]
  },
  {
   "cell_type": "code",
   "execution_count": 57,
   "metadata": {
    "collapsed": false
   },
   "outputs": [
    {
     "data": {
      "text/html": [
       "<div>\n",
       "<table border=\"1\" class=\"dataframe\">\n",
       "  <thead>\n",
       "    <tr style=\"text-align: right;\">\n",
       "      <th></th>\n",
       "      <th>playerID</th>\n",
       "      <th>schoolID</th>\n",
       "      <th>yearMin</th>\n",
       "      <th>yearMax</th>\n",
       "      <th>schoolName</th>\n",
       "      <th>schoolCity</th>\n",
       "      <th>schoolState</th>\n",
       "      <th>duration</th>\n",
       "    </tr>\n",
       "  </thead>\n",
       "  <tbody>\n",
       "    <tr>\n",
       "      <th>4</th>\n",
       "      <td>abbotje01</td>\n",
       "      <td>kentucky</td>\n",
       "      <td>1991</td>\n",
       "      <td>1992</td>\n",
       "      <td>University of Kentucky</td>\n",
       "      <td>Lexington</td>\n",
       "      <td>KY</td>\n",
       "      <td>1</td>\n",
       "    </tr>\n",
       "    <tr>\n",
       "      <th>106</th>\n",
       "      <td>anderjo03</td>\n",
       "      <td>ekentucky</td>\n",
       "      <td>2001</td>\n",
       "      <td>2003</td>\n",
       "      <td>Eastern Kentucky University</td>\n",
       "      <td>Richmond</td>\n",
       "      <td>KY</td>\n",
       "      <td>2</td>\n",
       "    </tr>\n",
       "    <tr>\n",
       "      <th>221</th>\n",
       "      <td>ballowi01</td>\n",
       "      <td>ekentucky</td>\n",
       "      <td>1916</td>\n",
       "      <td>1920</td>\n",
       "      <td>Eastern Kentucky University</td>\n",
       "      <td>Richmond</td>\n",
       "      <td>KY</td>\n",
       "      <td>4</td>\n",
       "    </tr>\n",
       "  </tbody>\n",
       "</table>\n",
       "</div>"
      ],
      "text/plain": [
       "      playerID   schoolID  yearMin  yearMax                   schoolName  \\\n",
       "4    abbotje01   kentucky     1991     1992       University of Kentucky   \n",
       "106  anderjo03  ekentucky     2001     2003  Eastern Kentucky University   \n",
       "221  ballowi01  ekentucky     1916     1920  Eastern Kentucky University   \n",
       "\n",
       "    schoolCity schoolState  duration  \n",
       "4    Lexington          KY         1  \n",
       "106   Richmond          KY         2  \n",
       "221   Richmond          KY         4  "
      ]
     },
     "execution_count": 57,
     "metadata": {},
     "output_type": "execute_result"
    }
   ],
   "source": [
    "players2[players2['schoolName'].str.contains('Kentucky')].head(3) "
   ]
  },
  {
   "cell_type": "markdown",
   "metadata": {},
   "source": [
    "###Other common string methods"
   ]
  },
  {
   "cell_type": "code",
   "execution_count": 58,
   "metadata": {
    "collapsed": false
   },
   "outputs": [
    {
     "data": {
      "text/plain": [
       "0       state college\n",
       "1             houston\n",
       "2    south burlington\n",
       "Name: schoolCity, dtype: object"
      ]
     },
     "execution_count": 58,
     "metadata": {},
     "output_type": "execute_result"
    }
   ],
   "source": [
    "players2['schoolCity'].str.lower().head(3) "
   ]
  },
  {
   "cell_type": "code",
   "execution_count": 59,
   "metadata": {
    "collapsed": false
   },
   "outputs": [
    {
     "data": {
      "text/plain": [
       "0       [State, College]\n",
       "1              [Houston]\n",
       "2    [South, Burlington]\n",
       "dtype: object"
      ]
     },
     "execution_count": 59,
     "metadata": {},
     "output_type": "execute_result"
    }
   ],
   "source": [
    "players2['schoolCity'].str.split().head(3)"
   ]
  },
  {
   "cell_type": "markdown",
   "metadata": {},
   "source": [
    "###Accessing and renaming columns"
   ]
  },
  {
   "cell_type": "code",
   "execution_count": 60,
   "metadata": {
    "collapsed": false
   },
   "outputs": [
    {
     "data": {
      "text/plain": [
       "Index([u'schoolID', u'schoolName', u'schoolCity', u'schoolState',\n",
       "       u'schoolNick'],\n",
       "      dtype='object')"
      ]
     },
     "execution_count": 60,
     "metadata": {},
     "output_type": "execute_result"
    }
   ],
   "source": [
    "schools.columns  # or schools.columns.values to get array "
   ]
  },
  {
   "cell_type": "code",
   "execution_count": 61,
   "metadata": {
    "collapsed": false
   },
   "outputs": [
    {
     "data": {
      "text/html": [
       "<div>\n",
       "<table border=\"1\" class=\"dataframe\">\n",
       "  <thead>\n",
       "    <tr style=\"text-align: right;\">\n",
       "      <th></th>\n",
       "      <th>school_id</th>\n",
       "      <th>school_name</th>\n",
       "      <th>school_city</th>\n",
       "      <th>school_state</th>\n",
       "      <th>school_nickname</th>\n",
       "    </tr>\n",
       "  </thead>\n",
       "  <tbody>\n",
       "    <tr>\n",
       "      <th>0</th>\n",
       "      <td>abilchrist</td>\n",
       "      <td>Abilene Christian University</td>\n",
       "      <td>Abilene</td>\n",
       "      <td>TX</td>\n",
       "      <td>Wildcats</td>\n",
       "    </tr>\n",
       "    <tr>\n",
       "      <th>1</th>\n",
       "      <td>adelphi</td>\n",
       "      <td>Adelphi University</td>\n",
       "      <td>Garden City</td>\n",
       "      <td>NY</td>\n",
       "      <td>Panthers</td>\n",
       "    </tr>\n",
       "    <tr>\n",
       "      <th>2</th>\n",
       "      <td>adrianmi</td>\n",
       "      <td>Adrian College</td>\n",
       "      <td>Adrian</td>\n",
       "      <td>MI</td>\n",
       "      <td>Bulldogs</td>\n",
       "    </tr>\n",
       "  </tbody>\n",
       "</table>\n",
       "</div>"
      ],
      "text/plain": [
       "    school_id                   school_name  school_city school_state  \\\n",
       "0  abilchrist  Abilene Christian University      Abilene           TX   \n",
       "1     adelphi            Adelphi University  Garden City           NY   \n",
       "2    adrianmi                Adrian College       Adrian           MI   \n",
       "\n",
       "  school_nickname  \n",
       "0        Wildcats  \n",
       "1        Panthers  \n",
       "2        Bulldogs  "
      ]
     },
     "execution_count": 61,
     "metadata": {},
     "output_type": "execute_result"
    }
   ],
   "source": [
    "schools.rename(columns={'schoolID' : 'school_id', \n",
    "                        'schoolName' : 'school_name',\n",
    "                        'schoolCity' : 'school_city',\n",
    "                        'schoolState' : 'school_state',\n",
    "                        'schoolNick' : 'school_nickname'}, inplace=True)\n",
    "schools.head(3)"
   ]
  },
  {
   "cell_type": "markdown",
   "metadata": {},
   "source": [
    "###lambda functions"
   ]
  },
  {
   "cell_type": "code",
   "execution_count": 62,
   "metadata": {
    "collapsed": false
   },
   "outputs": [
    {
     "data": {
      "text/html": [
       "<div>\n",
       "<table border=\"1\" class=\"dataframe\">\n",
       "  <thead>\n",
       "    <tr style=\"text-align: right;\">\n",
       "      <th></th>\n",
       "      <th>playerID</th>\n",
       "      <th>schoolID</th>\n",
       "      <th>yearMin</th>\n",
       "      <th>yearMax</th>\n",
       "      <th>schoolName</th>\n",
       "      <th>schoolCity</th>\n",
       "      <th>schoolState</th>\n",
       "      <th>duration</th>\n",
       "      <th>root_duration</th>\n",
       "    </tr>\n",
       "  </thead>\n",
       "  <tbody>\n",
       "    <tr>\n",
       "      <th>0</th>\n",
       "      <td>aardsda01</td>\n",
       "      <td>pennst</td>\n",
       "      <td>2001</td>\n",
       "      <td>2001</td>\n",
       "      <td>Pennsylvania State University</td>\n",
       "      <td>State College</td>\n",
       "      <td>PA</td>\n",
       "      <td>0</td>\n",
       "      <td>0</td>\n",
       "    </tr>\n",
       "    <tr>\n",
       "      <th>1</th>\n",
       "      <td>aardsda01</td>\n",
       "      <td>rice</td>\n",
       "      <td>2002</td>\n",
       "      <td>2003</td>\n",
       "      <td>Rice University</td>\n",
       "      <td>Houston</td>\n",
       "      <td>TX</td>\n",
       "      <td>1</td>\n",
       "      <td>1</td>\n",
       "    </tr>\n",
       "    <tr>\n",
       "      <th>2</th>\n",
       "      <td>abbeybe01</td>\n",
       "      <td>vermont</td>\n",
       "      <td>1888</td>\n",
       "      <td>1892</td>\n",
       "      <td>University of Vermont</td>\n",
       "      <td>South Burlington</td>\n",
       "      <td>VT</td>\n",
       "      <td>4</td>\n",
       "      <td>2</td>\n",
       "    </tr>\n",
       "  </tbody>\n",
       "</table>\n",
       "</div>"
      ],
      "text/plain": [
       "    playerID schoolID  yearMin  yearMax                     schoolName  \\\n",
       "0  aardsda01   pennst     2001     2001  Pennsylvania State University   \n",
       "1  aardsda01     rice     2002     2003                Rice University   \n",
       "2  abbeybe01  vermont     1888     1892          University of Vermont   \n",
       "\n",
       "         schoolCity schoolState  duration  root_duration  \n",
       "0     State College          PA         0              0  \n",
       "1           Houston          TX         1              1  \n",
       "2  South Burlington          VT         4              2  "
      ]
     },
     "execution_count": 62,
     "metadata": {},
     "output_type": "execute_result"
    }
   ],
   "source": [
    "players2['root_duration'] = players2['duration'].apply(lambda x: np.sqrt(x))\n",
    "players2.head(3) "
   ]
  },
  {
   "cell_type": "markdown",
   "metadata": {},
   "source": [
    "###Date functions"
   ]
  },
  {
   "cell_type": "code",
   "execution_count": 63,
   "metadata": {
    "collapsed": false
   },
   "outputs": [
    {
     "name": "stdout",
     "output_type": "stream",
     "text": [
      "object\n"
     ]
    },
    {
     "data": {
      "text/html": [
       "<div>\n",
       "<table border=\"1\" class=\"dataframe\">\n",
       "  <thead>\n",
       "    <tr style=\"text-align: right;\">\n",
       "      <th></th>\n",
       "      <th>playerID</th>\n",
       "      <th>schoolID</th>\n",
       "      <th>yearMin</th>\n",
       "      <th>yearMax</th>\n",
       "      <th>date</th>\n",
       "    </tr>\n",
       "  </thead>\n",
       "  <tbody>\n",
       "    <tr>\n",
       "      <th>0</th>\n",
       "      <td>aardsda01</td>\n",
       "      <td>pennst</td>\n",
       "      <td>2001</td>\n",
       "      <td>2001</td>\n",
       "      <td>10/15/2001</td>\n",
       "    </tr>\n",
       "    <tr>\n",
       "      <th>1</th>\n",
       "      <td>aardsda01</td>\n",
       "      <td>rice</td>\n",
       "      <td>2002</td>\n",
       "      <td>2003</td>\n",
       "      <td>10/15/2003</td>\n",
       "    </tr>\n",
       "    <tr>\n",
       "      <th>2</th>\n",
       "      <td>abbeybe01</td>\n",
       "      <td>vermont</td>\n",
       "      <td>1888</td>\n",
       "      <td>1892</td>\n",
       "      <td>10/15/1892</td>\n",
       "    </tr>\n",
       "  </tbody>\n",
       "</table>\n",
       "</div>"
      ],
      "text/plain": [
       "    playerID schoolID  yearMin  yearMax        date\n",
       "0  aardsda01   pennst     2001     2001  10/15/2001\n",
       "1  aardsda01     rice     2002     2003  10/15/2003\n",
       "2  abbeybe01  vermont     1888     1892  10/15/1892"
      ]
     },
     "execution_count": 63,
     "metadata": {},
     "output_type": "execute_result"
    }
   ],
   "source": [
    "players['date'] = '10/15/' + players['yearMax'].astype(str)\n",
    "print players['date'].dtype\n",
    "players.head(3)"
   ]
  },
  {
   "cell_type": "code",
   "execution_count": 64,
   "metadata": {
    "collapsed": false
   },
   "outputs": [
    {
     "name": "stdout",
     "output_type": "stream",
     "text": [
      "datetime64[ns]\n"
     ]
    },
    {
     "data": {
      "text/html": [
       "<div>\n",
       "<table border=\"1\" class=\"dataframe\">\n",
       "  <thead>\n",
       "    <tr style=\"text-align: right;\">\n",
       "      <th></th>\n",
       "      <th>playerID</th>\n",
       "      <th>schoolID</th>\n",
       "      <th>yearMin</th>\n",
       "      <th>yearMax</th>\n",
       "      <th>date</th>\n",
       "      <th>date2</th>\n",
       "    </tr>\n",
       "  </thead>\n",
       "  <tbody>\n",
       "    <tr>\n",
       "      <th>0</th>\n",
       "      <td>aardsda01</td>\n",
       "      <td>pennst</td>\n",
       "      <td>2001</td>\n",
       "      <td>2001</td>\n",
       "      <td>10/15/2001</td>\n",
       "      <td>2001-10-15</td>\n",
       "    </tr>\n",
       "    <tr>\n",
       "      <th>1</th>\n",
       "      <td>aardsda01</td>\n",
       "      <td>rice</td>\n",
       "      <td>2002</td>\n",
       "      <td>2003</td>\n",
       "      <td>10/15/2003</td>\n",
       "      <td>2003-10-15</td>\n",
       "    </tr>\n",
       "    <tr>\n",
       "      <th>2</th>\n",
       "      <td>abbeybe01</td>\n",
       "      <td>vermont</td>\n",
       "      <td>1888</td>\n",
       "      <td>1892</td>\n",
       "      <td>10/15/1892</td>\n",
       "      <td>1892-10-15 00:00:00</td>\n",
       "    </tr>\n",
       "  </tbody>\n",
       "</table>\n",
       "</div>"
      ],
      "text/plain": [
       "    playerID schoolID  yearMin  yearMax        date               date2\n",
       "0  aardsda01   pennst     2001     2001  10/15/2001          2001-10-15\n",
       "1  aardsda01     rice     2002     2003  10/15/2003          2003-10-15\n",
       "2  abbeybe01  vermont     1888     1892  10/15/1892 1892-10-15 00:00:00"
      ]
     },
     "execution_count": 64,
     "metadata": {},
     "output_type": "execute_result"
    }
   ],
   "source": [
    "players['date2'] = pd.to_datetime(players['date'])\n",
    "print players['date2'].dtype\n",
    "players.head(3)"
   ]
  },
  {
   "cell_type": "code",
   "execution_count": 65,
   "metadata": {
    "collapsed": false
   },
   "outputs": [
    {
     "name": "stdout",
     "output_type": "stream",
     "text": [
      "float64\n"
     ]
    },
    {
     "data": {
      "text/html": [
       "<div>\n",
       "<table border=\"1\" class=\"dataframe\">\n",
       "  <thead>\n",
       "    <tr style=\"text-align: right;\">\n",
       "      <th></th>\n",
       "      <th>playerID</th>\n",
       "      <th>schoolID</th>\n",
       "      <th>yearMin</th>\n",
       "      <th>yearMax</th>\n",
       "      <th>date</th>\n",
       "      <th>date2</th>\n",
       "      <th>date_ord</th>\n",
       "    </tr>\n",
       "  </thead>\n",
       "  <tbody>\n",
       "    <tr>\n",
       "      <th>0</th>\n",
       "      <td>aardsda01</td>\n",
       "      <td>pennst</td>\n",
       "      <td>2001</td>\n",
       "      <td>2001</td>\n",
       "      <td>10/15/2001</td>\n",
       "      <td>2001-10-15</td>\n",
       "      <td>730773</td>\n",
       "    </tr>\n",
       "    <tr>\n",
       "      <th>1</th>\n",
       "      <td>aardsda01</td>\n",
       "      <td>rice</td>\n",
       "      <td>2002</td>\n",
       "      <td>2003</td>\n",
       "      <td>10/15/2003</td>\n",
       "      <td>2003-10-15</td>\n",
       "      <td>731503</td>\n",
       "    </tr>\n",
       "    <tr>\n",
       "      <th>2</th>\n",
       "      <td>abbeybe01</td>\n",
       "      <td>vermont</td>\n",
       "      <td>1888</td>\n",
       "      <td>1892</td>\n",
       "      <td>10/15/1892</td>\n",
       "      <td>1892-10-15 00:00:00</td>\n",
       "      <td>690962</td>\n",
       "    </tr>\n",
       "  </tbody>\n",
       "</table>\n",
       "</div>"
      ],
      "text/plain": [
       "    playerID schoolID  yearMin  yearMax        date               date2  \\\n",
       "0  aardsda01   pennst     2001     2001  10/15/2001          2001-10-15   \n",
       "1  aardsda01     rice     2002     2003  10/15/2003          2003-10-15   \n",
       "2  abbeybe01  vermont     1888     1892  10/15/1892 1892-10-15 00:00:00   \n",
       "\n",
       "   date_ord  \n",
       "0    730773  \n",
       "1    731503  \n",
       "2    690962  "
      ]
     },
     "execution_count": 65,
     "metadata": {},
     "output_type": "execute_result"
    }
   ],
   "source": [
    "# apply many functions to get ordinal representation, use a lambda\n",
    "players['date_ord'] = players['date'].apply(lambda x: pd.to_datetime(x).date().toordinal()).head(3) \n",
    "print players['date_ord'].dtype\n",
    "players.head(3)"
   ]
  },
  {
   "cell_type": "code",
   "execution_count": 66,
   "metadata": {
    "collapsed": false
   },
   "outputs": [
    {
     "data": {
      "text/html": [
       "<div>\n",
       "<table border=\"1\" class=\"dataframe\">\n",
       "  <thead>\n",
       "    <tr style=\"text-align: right;\">\n",
       "      <th></th>\n",
       "      <th>playerID</th>\n",
       "      <th>schoolID</th>\n",
       "      <th>yearMin</th>\n",
       "      <th>yearMax</th>\n",
       "      <th>date</th>\n",
       "      <th>date2</th>\n",
       "      <th>date_ord</th>\n",
       "      <th>month</th>\n",
       "      <th>day</th>\n",
       "      <th>dow</th>\n",
       "    </tr>\n",
       "  </thead>\n",
       "  <tbody>\n",
       "    <tr>\n",
       "      <th>0</th>\n",
       "      <td>aardsda01</td>\n",
       "      <td>pennst</td>\n",
       "      <td>2001</td>\n",
       "      <td>2001</td>\n",
       "      <td>10/15/2001</td>\n",
       "      <td>2001-10-15</td>\n",
       "      <td>730773</td>\n",
       "      <td>10</td>\n",
       "      <td>15</td>\n",
       "      <td>0</td>\n",
       "    </tr>\n",
       "    <tr>\n",
       "      <th>1</th>\n",
       "      <td>aardsda01</td>\n",
       "      <td>rice</td>\n",
       "      <td>2002</td>\n",
       "      <td>2003</td>\n",
       "      <td>10/15/2003</td>\n",
       "      <td>2003-10-15</td>\n",
       "      <td>731503</td>\n",
       "      <td>10</td>\n",
       "      <td>15</td>\n",
       "      <td>2</td>\n",
       "    </tr>\n",
       "    <tr>\n",
       "      <th>2</th>\n",
       "      <td>abbeybe01</td>\n",
       "      <td>vermont</td>\n",
       "      <td>1888</td>\n",
       "      <td>1892</td>\n",
       "      <td>10/15/1892</td>\n",
       "      <td>1892-10-15 00:00:00</td>\n",
       "      <td>690962</td>\n",
       "      <td>10</td>\n",
       "      <td>15</td>\n",
       "      <td>5</td>\n",
       "    </tr>\n",
       "  </tbody>\n",
       "</table>\n",
       "</div>"
      ],
      "text/plain": [
       "    playerID schoolID  yearMin  yearMax        date               date2  \\\n",
       "0  aardsda01   pennst     2001     2001  10/15/2001          2001-10-15   \n",
       "1  aardsda01     rice     2002     2003  10/15/2003          2003-10-15   \n",
       "2  abbeybe01  vermont     1888     1892  10/15/1892 1892-10-15 00:00:00   \n",
       "\n",
       "   date_ord  month  day  dow  \n",
       "0    730773     10   15    0  \n",
       "1    731503     10   15    2  \n",
       "2    690962     10   15    5  "
      ]
     },
     "execution_count": 66,
     "metadata": {},
     "output_type": "execute_result"
    }
   ],
   "source": [
    "# with datetime object, use DatetimeIndex to extract month, day, etc. \n",
    "players['month'] = pd.DatetimeIndex(players['date2']).month\n",
    "players['day'] = pd.DatetimeIndex(players['date2']).day\n",
    "players['dow'] = pd.DatetimeIndex(players['date2']).weekday \n",
    "players.head(3)"
   ]
  },
  {
   "cell_type": "code",
   "execution_count": 67,
   "metadata": {
    "collapsed": false
   },
   "outputs": [
    {
     "data": {
      "text/html": [
       "<div>\n",
       "<table border=\"1\" class=\"dataframe\">\n",
       "  <thead>\n",
       "    <tr style=\"text-align: right;\">\n",
       "      <th></th>\n",
       "      <th>playerID</th>\n",
       "      <th>schoolID</th>\n",
       "      <th>yearMin</th>\n",
       "      <th>yearMax</th>\n",
       "      <th>date</th>\n",
       "      <th>date2</th>\n",
       "      <th>date_ord</th>\n",
       "      <th>month</th>\n",
       "      <th>day</th>\n",
       "      <th>dow</th>\n",
       "    </tr>\n",
       "  </thead>\n",
       "  <tbody>\n",
       "    <tr>\n",
       "      <th>0</th>\n",
       "      <td>aardsda01</td>\n",
       "      <td>pennst</td>\n",
       "      <td>2001</td>\n",
       "      <td>2001</td>\n",
       "      <td>10/15/2001</td>\n",
       "      <td>2001-10-15</td>\n",
       "      <td>730773</td>\n",
       "      <td>10</td>\n",
       "      <td>15</td>\n",
       "      <td>Mon</td>\n",
       "    </tr>\n",
       "    <tr>\n",
       "      <th>1</th>\n",
       "      <td>aardsda01</td>\n",
       "      <td>rice</td>\n",
       "      <td>2002</td>\n",
       "      <td>2003</td>\n",
       "      <td>10/15/2003</td>\n",
       "      <td>2003-10-15</td>\n",
       "      <td>731503</td>\n",
       "      <td>10</td>\n",
       "      <td>15</td>\n",
       "      <td>Wed</td>\n",
       "    </tr>\n",
       "    <tr>\n",
       "      <th>2</th>\n",
       "      <td>abbeybe01</td>\n",
       "      <td>vermont</td>\n",
       "      <td>1888</td>\n",
       "      <td>1892</td>\n",
       "      <td>10/15/1892</td>\n",
       "      <td>1892-10-15 00:00:00</td>\n",
       "      <td>690962</td>\n",
       "      <td>10</td>\n",
       "      <td>15</td>\n",
       "      <td>Sat</td>\n",
       "    </tr>\n",
       "  </tbody>\n",
       "</table>\n",
       "</div>"
      ],
      "text/plain": [
       "    playerID schoolID  yearMin  yearMax        date               date2  \\\n",
       "0  aardsda01   pennst     2001     2001  10/15/2001          2001-10-15   \n",
       "1  aardsda01     rice     2002     2003  10/15/2003          2003-10-15   \n",
       "2  abbeybe01  vermont     1888     1892  10/15/1892 1892-10-15 00:00:00   \n",
       "\n",
       "   date_ord  month  day  dow  \n",
       "0    730773     10   15  Mon  \n",
       "1    731503     10   15  Wed  \n",
       "2    690962     10   15  Sat  "
      ]
     },
     "execution_count": 67,
     "metadata": {},
     "output_type": "execute_result"
    }
   ],
   "source": [
    "players['dow'] = players['dow'].replace({0 : 'Mon', 1 : 'Tue', 2 : 'Wed', 3 : 'Thu', 4 : 'Fri', 5 : 'Sat', 6 : 'Sun'})\n",
    "players.head(3)"
   ]
  },
  {
   "cell_type": "markdown",
   "metadata": {},
   "source": [
    "###Time series functionality"
   ]
  },
  {
   "cell_type": "code",
   "execution_count": 68,
   "metadata": {
    "collapsed": false
   },
   "outputs": [
    {
     "data": {
      "text/plain": [
       "DatetimeIndex(['2014-01-31', '2014-02-28', '2014-03-31', '2014-04-30',\n",
       "               '2014-05-31', '2014-06-30', '2014-07-31', '2014-08-31',\n",
       "               '2014-09-30', '2014-10-31', '2014-11-30', '2014-12-31',\n",
       "               '2015-01-31', '2015-02-28', '2015-03-31', '2015-04-30',\n",
       "               '2015-05-31', '2015-06-30', '2015-07-31', '2015-08-31',\n",
       "               '2015-09-30'],\n",
       "              dtype='datetime64[ns]', freq='M', tz=None)"
      ]
     },
     "execution_count": 68,
     "metadata": {},
     "output_type": "execute_result"
    }
   ],
   "source": [
    "dates = pd.date_range('1/1/2014', '10/1/2015', freq='m')\n",
    "dates"
   ]
  },
  {
   "cell_type": "code",
   "execution_count": 69,
   "metadata": {
    "collapsed": false
   },
   "outputs": [
    {
     "data": {
      "text/html": [
       "<div>\n",
       "<table border=\"1\" class=\"dataframe\">\n",
       "  <thead>\n",
       "    <tr style=\"text-align: right;\">\n",
       "      <th></th>\n",
       "      <th>value1</th>\n",
       "      <th>value2</th>\n",
       "    </tr>\n",
       "  </thead>\n",
       "  <tbody>\n",
       "    <tr>\n",
       "      <th>2014-01-31</th>\n",
       "      <td>-1.145554</td>\n",
       "      <td>0.469475</td>\n",
       "    </tr>\n",
       "    <tr>\n",
       "      <th>2014-02-28</th>\n",
       "      <td>-1.651611</td>\n",
       "      <td>-0.763767</td>\n",
       "    </tr>\n",
       "    <tr>\n",
       "      <th>2014-03-31</th>\n",
       "      <td>-2.235411</td>\n",
       "      <td>1.275031</td>\n",
       "    </tr>\n",
       "    <tr>\n",
       "      <th>2014-04-30</th>\n",
       "      <td>-1.374284</td>\n",
       "      <td>2.586536</td>\n",
       "    </tr>\n",
       "    <tr>\n",
       "      <th>2014-05-31</th>\n",
       "      <td>0.538337</td>\n",
       "      <td>0.684859</td>\n",
       "    </tr>\n",
       "    <tr>\n",
       "      <th>2014-06-30</th>\n",
       "      <td>0.830726</td>\n",
       "      <td>0.171711</td>\n",
       "    </tr>\n",
       "    <tr>\n",
       "      <th>2014-07-31</th>\n",
       "      <td>2.205524</td>\n",
       "      <td>-0.188124</td>\n",
       "    </tr>\n",
       "    <tr>\n",
       "      <th>2014-08-31</th>\n",
       "      <td>1.426140</td>\n",
       "      <td>-0.508306</td>\n",
       "    </tr>\n",
       "    <tr>\n",
       "      <th>2014-09-30</th>\n",
       "      <td>0.188461</td>\n",
       "      <td>-0.690596</td>\n",
       "    </tr>\n",
       "    <tr>\n",
       "      <th>2014-10-31</th>\n",
       "      <td>1.283815</td>\n",
       "      <td>0.074214</td>\n",
       "    </tr>\n",
       "    <tr>\n",
       "      <th>2014-11-30</th>\n",
       "      <td>-0.360149</td>\n",
       "      <td>-0.488783</td>\n",
       "    </tr>\n",
       "    <tr>\n",
       "      <th>2014-12-31</th>\n",
       "      <td>-0.720647</td>\n",
       "      <td>-0.040374</td>\n",
       "    </tr>\n",
       "    <tr>\n",
       "      <th>2015-01-31</th>\n",
       "      <td>-2.811873</td>\n",
       "      <td>-0.550271</td>\n",
       "    </tr>\n",
       "    <tr>\n",
       "      <th>2015-02-28</th>\n",
       "      <td>-1.548829</td>\n",
       "      <td>-0.951356</td>\n",
       "    </tr>\n",
       "    <tr>\n",
       "      <th>2015-03-31</th>\n",
       "      <td>-0.895406</td>\n",
       "      <td>-0.974838</td>\n",
       "    </tr>\n",
       "    <tr>\n",
       "      <th>2015-04-30</th>\n",
       "      <td>0.405784</td>\n",
       "      <td>0.997154</td>\n",
       "    </tr>\n",
       "    <tr>\n",
       "      <th>2015-05-31</th>\n",
       "      <td>0.711220</td>\n",
       "      <td>-0.272300</td>\n",
       "    </tr>\n",
       "    <tr>\n",
       "      <th>2015-06-30</th>\n",
       "      <td>-1.094759</td>\n",
       "      <td>0.510180</td>\n",
       "    </tr>\n",
       "    <tr>\n",
       "      <th>2015-07-31</th>\n",
       "      <td>0.267126</td>\n",
       "      <td>-1.258596</td>\n",
       "    </tr>\n",
       "    <tr>\n",
       "      <th>2015-08-31</th>\n",
       "      <td>-0.030389</td>\n",
       "      <td>1.296854</td>\n",
       "    </tr>\n",
       "    <tr>\n",
       "      <th>2015-09-30</th>\n",
       "      <td>0.980959</td>\n",
       "      <td>1.695631</td>\n",
       "    </tr>\n",
       "  </tbody>\n",
       "</table>\n",
       "</div>"
      ],
      "text/plain": [
       "              value1    value2\n",
       "2014-01-31 -1.145554  0.469475\n",
       "2014-02-28 -1.651611 -0.763767\n",
       "2014-03-31 -2.235411  1.275031\n",
       "2014-04-30 -1.374284  2.586536\n",
       "2014-05-31  0.538337  0.684859\n",
       "2014-06-30  0.830726  0.171711\n",
       "2014-07-31  2.205524 -0.188124\n",
       "2014-08-31  1.426140 -0.508306\n",
       "2014-09-30  0.188461 -0.690596\n",
       "2014-10-31  1.283815  0.074214\n",
       "2014-11-30 -0.360149 -0.488783\n",
       "2014-12-31 -0.720647 -0.040374\n",
       "2015-01-31 -2.811873 -0.550271\n",
       "2015-02-28 -1.548829 -0.951356\n",
       "2015-03-31 -0.895406 -0.974838\n",
       "2015-04-30  0.405784  0.997154\n",
       "2015-05-31  0.711220 -0.272300\n",
       "2015-06-30 -1.094759  0.510180\n",
       "2015-07-31  0.267126 -1.258596\n",
       "2015-08-31 -0.030389  1.296854\n",
       "2015-09-30  0.980959  1.695631"
      ]
     },
     "execution_count": 69,
     "metadata": {},
     "output_type": "execute_result"
    }
   ],
   "source": [
    "values1 = pd.DataFrame(np.random.randn(len(dates)), columns=['value1'], index=dates)\n",
    "values2 = pd.DataFrame(np.random.randn(len(dates)), columns=['value2'], index=dates)\n",
    "values = values1.join(values2)\n",
    "values"
   ]
  },
  {
   "cell_type": "code",
   "execution_count": 70,
   "metadata": {
    "collapsed": false
   },
   "outputs": [
    {
     "data": {
      "text/plain": [
       "<matplotlib.figure.Figure at 0x1091fcf50>"
      ]
     },
     "metadata": {},
     "output_type": "display_data"
    },
    {
     "data": {
      "image/png": "[encoded data removed]",
      "text/plain": [
       "<matplotlib.figure.Figure at 0x10a2c4d10>"
      ]
     },
     "metadata": {},
     "output_type": "display_data"
    }
   ],
   "source": [
    "plt.figure(figsize=(10, 5))\n",
    "values.plot(); "
   ]
  },
  {
   "cell_type": "code",
   "execution_count": 71,
   "metadata": {
    "collapsed": false
   },
   "outputs": [
    {
     "data": {
      "text/html": [
       "<div>\n",
       "<table border=\"1\" class=\"dataframe\">\n",
       "  <thead>\n",
       "    <tr style=\"text-align: right;\">\n",
       "      <th></th>\n",
       "      <th>value1</th>\n",
       "      <th>value2</th>\n",
       "    </tr>\n",
       "  </thead>\n",
       "  <tbody>\n",
       "    <tr>\n",
       "      <th>2014-03-31</th>\n",
       "      <td>-1.677525</td>\n",
       "      <td>0.326913</td>\n",
       "    </tr>\n",
       "    <tr>\n",
       "      <th>2014-06-30</th>\n",
       "      <td>-0.001740</td>\n",
       "      <td>1.147702</td>\n",
       "    </tr>\n",
       "    <tr>\n",
       "      <th>2014-09-30</th>\n",
       "      <td>1.273375</td>\n",
       "      <td>-0.462342</td>\n",
       "    </tr>\n",
       "    <tr>\n",
       "      <th>2014-12-31</th>\n",
       "      <td>0.067673</td>\n",
       "      <td>-0.151648</td>\n",
       "    </tr>\n",
       "    <tr>\n",
       "      <th>2015-03-31</th>\n",
       "      <td>-1.752036</td>\n",
       "      <td>-0.825488</td>\n",
       "    </tr>\n",
       "    <tr>\n",
       "      <th>2015-06-30</th>\n",
       "      <td>0.007415</td>\n",
       "      <td>0.411678</td>\n",
       "    </tr>\n",
       "    <tr>\n",
       "      <th>2015-09-30</th>\n",
       "      <td>0.405899</td>\n",
       "      <td>0.577963</td>\n",
       "    </tr>\n",
       "  </tbody>\n",
       "</table>\n",
       "</div>"
      ],
      "text/plain": [
       "              value1    value2\n",
       "2014-03-31 -1.677525  0.326913\n",
       "2014-06-30 -0.001740  1.147702\n",
       "2014-09-30  1.273375 -0.462342\n",
       "2014-12-31  0.067673 -0.151648\n",
       "2015-03-31 -1.752036 -0.825488\n",
       "2015-06-30  0.007415  0.411678\n",
       "2015-09-30  0.405899  0.577963"
      ]
     },
     "execution_count": 71,
     "metadata": {},
     "output_type": "execute_result"
    }
   ],
   "source": [
    "values.resample('q')  # downsamples using mean for the quarter "
   ]
  },
  {
   "cell_type": "code",
   "execution_count": 72,
   "metadata": {
    "collapsed": false
   },
   "outputs": [
    {
     "data": {
      "text/html": [
       "<div>\n",
       "<table border=\"1\" class=\"dataframe\">\n",
       "  <thead>\n",
       "    <tr style=\"text-align: right;\">\n",
       "      <th></th>\n",
       "      <th>value1</th>\n",
       "      <th>value2</th>\n",
       "    </tr>\n",
       "  </thead>\n",
       "  <tbody>\n",
       "    <tr>\n",
       "      <th>2014-03-31</th>\n",
       "      <td>-1.145554</td>\n",
       "      <td>1.275031</td>\n",
       "    </tr>\n",
       "    <tr>\n",
       "      <th>2014-06-30</th>\n",
       "      <td>0.830726</td>\n",
       "      <td>2.586536</td>\n",
       "    </tr>\n",
       "    <tr>\n",
       "      <th>2014-09-30</th>\n",
       "      <td>2.205524</td>\n",
       "      <td>-0.188124</td>\n",
       "    </tr>\n",
       "    <tr>\n",
       "      <th>2014-12-31</th>\n",
       "      <td>1.283815</td>\n",
       "      <td>0.074214</td>\n",
       "    </tr>\n",
       "    <tr>\n",
       "      <th>2015-03-31</th>\n",
       "      <td>-0.895406</td>\n",
       "      <td>-0.550271</td>\n",
       "    </tr>\n",
       "    <tr>\n",
       "      <th>2015-06-30</th>\n",
       "      <td>0.711220</td>\n",
       "      <td>0.997154</td>\n",
       "    </tr>\n",
       "    <tr>\n",
       "      <th>2015-09-30</th>\n",
       "      <td>0.980959</td>\n",
       "      <td>1.695631</td>\n",
       "    </tr>\n",
       "  </tbody>\n",
       "</table>\n",
       "</div>"
      ],
      "text/plain": [
       "              value1    value2\n",
       "2014-03-31 -1.145554  1.275031\n",
       "2014-06-30  0.830726  2.586536\n",
       "2014-09-30  2.205524 -0.188124\n",
       "2014-12-31  1.283815  0.074214\n",
       "2015-03-31 -0.895406 -0.550271\n",
       "2015-06-30  0.711220  0.997154\n",
       "2015-09-30  0.980959  1.695631"
      ]
     },
     "execution_count": 72,
     "metadata": {},
     "output_type": "execute_result"
    }
   ],
   "source": [
    "values.resample('q', how='max')"
   ]
  },
  {
   "cell_type": "code",
   "execution_count": 73,
   "metadata": {
    "collapsed": false
   },
   "outputs": [
    {
     "data": {
      "text/html": [
       "<div>\n",
       "<table border=\"1\" class=\"dataframe\">\n",
       "  <thead>\n",
       "    <tr style=\"text-align: right;\">\n",
       "      <th></th>\n",
       "      <th>value1</th>\n",
       "      <th>value2</th>\n",
       "    </tr>\n",
       "  </thead>\n",
       "  <tbody>\n",
       "    <tr>\n",
       "      <th>2014-01-31</th>\n",
       "      <td>-1.145554</td>\n",
       "      <td>0.469475</td>\n",
       "    </tr>\n",
       "    <tr>\n",
       "      <th>2014-02-01</th>\n",
       "      <td>NaN</td>\n",
       "      <td>NaN</td>\n",
       "    </tr>\n",
       "    <tr>\n",
       "      <th>2014-02-02</th>\n",
       "      <td>NaN</td>\n",
       "      <td>NaN</td>\n",
       "    </tr>\n",
       "    <tr>\n",
       "      <th>2014-02-03</th>\n",
       "      <td>NaN</td>\n",
       "      <td>NaN</td>\n",
       "    </tr>\n",
       "    <tr>\n",
       "      <th>2014-02-04</th>\n",
       "      <td>NaN</td>\n",
       "      <td>NaN</td>\n",
       "    </tr>\n",
       "  </tbody>\n",
       "</table>\n",
       "</div>"
      ],
      "text/plain": [
       "              value1    value2\n",
       "2014-01-31 -1.145554  0.469475\n",
       "2014-02-01       NaN       NaN\n",
       "2014-02-02       NaN       NaN\n",
       "2014-02-03       NaN       NaN\n",
       "2014-02-04       NaN       NaN"
      ]
     },
     "execution_count": 73,
     "metadata": {},
     "output_type": "execute_result"
    }
   ],
   "source": [
    "values.resample('d').head()  # upsampling, note default fill method is NaN"
   ]
  },
  {
   "cell_type": "code",
   "execution_count": 74,
   "metadata": {
    "collapsed": false
   },
   "outputs": [
    {
     "data": {
      "text/html": [
       "<div>\n",
       "<table border=\"1\" class=\"dataframe\">\n",
       "  <thead>\n",
       "    <tr style=\"text-align: right;\">\n",
       "      <th></th>\n",
       "      <th>value1</th>\n",
       "      <th>value2</th>\n",
       "    </tr>\n",
       "  </thead>\n",
       "  <tbody>\n",
       "    <tr>\n",
       "      <th>2014-01-31</th>\n",
       "      <td>-1.145554</td>\n",
       "      <td>0.469475</td>\n",
       "    </tr>\n",
       "    <tr>\n",
       "      <th>2014-02-01</th>\n",
       "      <td>-1.651611</td>\n",
       "      <td>-0.763767</td>\n",
       "    </tr>\n",
       "    <tr>\n",
       "      <th>2014-02-02</th>\n",
       "      <td>-1.651611</td>\n",
       "      <td>-0.763767</td>\n",
       "    </tr>\n",
       "    <tr>\n",
       "      <th>2014-02-03</th>\n",
       "      <td>-1.651611</td>\n",
       "      <td>-0.763767</td>\n",
       "    </tr>\n",
       "    <tr>\n",
       "      <th>2014-02-04</th>\n",
       "      <td>-1.651611</td>\n",
       "      <td>-0.763767</td>\n",
       "    </tr>\n",
       "  </tbody>\n",
       "</table>\n",
       "</div>"
      ],
      "text/plain": [
       "              value1    value2\n",
       "2014-01-31 -1.145554  0.469475\n",
       "2014-02-01 -1.651611 -0.763767\n",
       "2014-02-02 -1.651611 -0.763767\n",
       "2014-02-03 -1.651611 -0.763767\n",
       "2014-02-04 -1.651611 -0.763767"
      ]
     },
     "execution_count": 74,
     "metadata": {},
     "output_type": "execute_result"
    }
   ],
   "source": [
    "values.resample('d', fill_method='bfill').head()  # back fill missing values"
   ]
  },
  {
   "cell_type": "code",
   "execution_count": 75,
   "metadata": {
    "collapsed": false
   },
   "outputs": [
    {
     "data": {
      "text/html": [
       "<div>\n",
       "<table border=\"1\" class=\"dataframe\">\n",
       "  <thead>\n",
       "    <tr style=\"text-align: right;\">\n",
       "      <th></th>\n",
       "      <th>value1</th>\n",
       "      <th>value2</th>\n",
       "    </tr>\n",
       "  </thead>\n",
       "  <tbody>\n",
       "    <tr>\n",
       "      <th>2014-01-31</th>\n",
       "      <td>-1.145554</td>\n",
       "      <td>0.469475</td>\n",
       "    </tr>\n",
       "    <tr>\n",
       "      <th>2014-02-01</th>\n",
       "      <td>-1.145554</td>\n",
       "      <td>0.469475</td>\n",
       "    </tr>\n",
       "    <tr>\n",
       "      <th>2014-02-02</th>\n",
       "      <td>-1.145554</td>\n",
       "      <td>0.469475</td>\n",
       "    </tr>\n",
       "    <tr>\n",
       "      <th>2014-02-03</th>\n",
       "      <td>-1.145554</td>\n",
       "      <td>0.469475</td>\n",
       "    </tr>\n",
       "    <tr>\n",
       "      <th>2014-02-04</th>\n",
       "      <td>-1.145554</td>\n",
       "      <td>0.469475</td>\n",
       "    </tr>\n",
       "  </tbody>\n",
       "</table>\n",
       "</div>"
      ],
      "text/plain": [
       "              value1    value2\n",
       "2014-01-31 -1.145554  0.469475\n",
       "2014-02-01 -1.145554  0.469475\n",
       "2014-02-02 -1.145554  0.469475\n",
       "2014-02-03 -1.145554  0.469475\n",
       "2014-02-04 -1.145554  0.469475"
      ]
     },
     "execution_count": 75,
     "metadata": {},
     "output_type": "execute_result"
    }
   ],
   "source": [
    "values.resample('d', fill_method='ffill').head()  # forward fill missing values "
   ]
  },
  {
   "cell_type": "markdown",
   "metadata": {},
   "source": [
    "###Missing Values"
   ]
  },
  {
   "cell_type": "code",
   "execution_count": 76,
   "metadata": {
    "collapsed": true
   },
   "outputs": [],
   "source": [
    "d = {'a' : np.array([0.3, 2.5, 1.7, np.nan, 6.3, np.nan]),\n",
    "     'b' : np.array([np.nan, 3.1, 1.2, np.nan, 2.7, 0.9])}\n",
    "df = pd.DataFrame(d)"
   ]
  },
  {
   "cell_type": "code",
   "execution_count": 77,
   "metadata": {
    "collapsed": false
   },
   "outputs": [
    {
     "data": {
      "text/html": [
       "<div>\n",
       "<table border=\"1\" class=\"dataframe\">\n",
       "  <thead>\n",
       "    <tr style=\"text-align: right;\">\n",
       "      <th></th>\n",
       "      <th>a</th>\n",
       "      <th>b</th>\n",
       "    </tr>\n",
       "  </thead>\n",
       "  <tbody>\n",
       "    <tr>\n",
       "      <th>0</th>\n",
       "      <td>0.3</td>\n",
       "      <td>NaN</td>\n",
       "    </tr>\n",
       "    <tr>\n",
       "      <th>1</th>\n",
       "      <td>2.5</td>\n",
       "      <td>3.1</td>\n",
       "    </tr>\n",
       "    <tr>\n",
       "      <th>2</th>\n",
       "      <td>1.7</td>\n",
       "      <td>1.2</td>\n",
       "    </tr>\n",
       "    <tr>\n",
       "      <th>3</th>\n",
       "      <td>NaN</td>\n",
       "      <td>NaN</td>\n",
       "    </tr>\n",
       "    <tr>\n",
       "      <th>4</th>\n",
       "      <td>6.3</td>\n",
       "      <td>2.7</td>\n",
       "    </tr>\n",
       "    <tr>\n",
       "      <th>5</th>\n",
       "      <td>NaN</td>\n",
       "      <td>0.9</td>\n",
       "    </tr>\n",
       "  </tbody>\n",
       "</table>\n",
       "</div>"
      ],
      "text/plain": [
       "     a    b\n",
       "0  0.3  NaN\n",
       "1  2.5  3.1\n",
       "2  1.7  1.2\n",
       "3  NaN  NaN\n",
       "4  6.3  2.7\n",
       "5  NaN  0.9"
      ]
     },
     "execution_count": 77,
     "metadata": {},
     "output_type": "execute_result"
    }
   ],
   "source": [
    "df"
   ]
  },
  {
   "cell_type": "code",
   "execution_count": 78,
   "metadata": {
    "collapsed": false
   },
   "outputs": [
    {
     "data": {
      "text/plain": [
       "0    False\n",
       "1    False\n",
       "2    False\n",
       "3     True\n",
       "4    False\n",
       "5     True\n",
       "Name: a, dtype: bool"
      ]
     },
     "execution_count": 78,
     "metadata": {},
     "output_type": "execute_result"
    }
   ],
   "source": [
    "df['a'].isnull()  # boolean check for missing values"
   ]
  },
  {
   "cell_type": "code",
   "execution_count": 79,
   "metadata": {
    "collapsed": false
   },
   "outputs": [
    {
     "data": {
      "text/plain": [
       "0    False\n",
       "1     True\n",
       "2     True\n",
       "3    False\n",
       "4     True\n",
       "5     True\n",
       "Name: b, dtype: bool"
      ]
     },
     "execution_count": 79,
     "metadata": {},
     "output_type": "execute_result"
    }
   ],
   "source": [
    "df['b'].notnull()  # boolean check non-missing values "
   ]
  },
  {
   "cell_type": "code",
   "execution_count": 80,
   "metadata": {
    "collapsed": false
   },
   "outputs": [
    {
     "data": {
      "text/html": [
       "<div>\n",
       "<table border=\"1\" class=\"dataframe\">\n",
       "  <thead>\n",
       "    <tr style=\"text-align: right;\">\n",
       "      <th></th>\n",
       "      <th>a</th>\n",
       "      <th>b</th>\n",
       "    </tr>\n",
       "  </thead>\n",
       "  <tbody>\n",
       "    <tr>\n",
       "      <th>1</th>\n",
       "      <td>2.5</td>\n",
       "      <td>3.1</td>\n",
       "    </tr>\n",
       "    <tr>\n",
       "      <th>2</th>\n",
       "      <td>1.7</td>\n",
       "      <td>1.2</td>\n",
       "    </tr>\n",
       "    <tr>\n",
       "      <th>4</th>\n",
       "      <td>6.3</td>\n",
       "      <td>2.7</td>\n",
       "    </tr>\n",
       "  </tbody>\n",
       "</table>\n",
       "</div>"
      ],
      "text/plain": [
       "     a    b\n",
       "1  2.5  3.1\n",
       "2  1.7  1.2\n",
       "4  6.3  2.7"
      ]
     },
     "execution_count": 80,
     "metadata": {},
     "output_type": "execute_result"
    }
   ],
   "source": [
    "df.dropna()  # list-wise deletion"
   ]
  },
  {
   "cell_type": "code",
   "execution_count": 81,
   "metadata": {
    "collapsed": false
   },
   "outputs": [
    {
     "data": {
      "text/html": [
       "<div>\n",
       "<table border=\"1\" class=\"dataframe\">\n",
       "  <thead>\n",
       "    <tr style=\"text-align: right;\">\n",
       "      <th></th>\n",
       "      <th>a</th>\n",
       "      <th>b</th>\n",
       "    </tr>\n",
       "  </thead>\n",
       "  <tbody>\n",
       "    <tr>\n",
       "      <th>0</th>\n",
       "      <td>0.3</td>\n",
       "      <td>NaN</td>\n",
       "    </tr>\n",
       "    <tr>\n",
       "      <th>1</th>\n",
       "      <td>2.5</td>\n",
       "      <td>3.1</td>\n",
       "    </tr>\n",
       "    <tr>\n",
       "      <th>2</th>\n",
       "      <td>1.7</td>\n",
       "      <td>1.2</td>\n",
       "    </tr>\n",
       "    <tr>\n",
       "      <th>4</th>\n",
       "      <td>6.3</td>\n",
       "      <td>2.7</td>\n",
       "    </tr>\n",
       "    <tr>\n",
       "      <th>5</th>\n",
       "      <td>NaN</td>\n",
       "      <td>0.9</td>\n",
       "    </tr>\n",
       "  </tbody>\n",
       "</table>\n",
       "</div>"
      ],
      "text/plain": [
       "     a    b\n",
       "0  0.3  NaN\n",
       "1  2.5  3.1\n",
       "2  1.7  1.2\n",
       "4  6.3  2.7\n",
       "5  NaN  0.9"
      ]
     },
     "execution_count": 81,
     "metadata": {},
     "output_type": "execute_result"
    }
   ],
   "source": [
    "df.dropna(how='all')  # drop only where entire is null "
   ]
  },
  {
   "cell_type": "code",
   "execution_count": 82,
   "metadata": {
    "collapsed": false
   },
   "outputs": [
    {
     "data": {
      "text/html": [
       "<div>\n",
       "<table border=\"1\" class=\"dataframe\">\n",
       "  <thead>\n",
       "    <tr style=\"text-align: right;\">\n",
       "      <th></th>\n",
       "      <th>a</th>\n",
       "      <th>b</th>\n",
       "    </tr>\n",
       "  </thead>\n",
       "  <tbody>\n",
       "    <tr>\n",
       "      <th>0</th>\n",
       "      <td>0.3</td>\n",
       "      <td>NaN</td>\n",
       "    </tr>\n",
       "    <tr>\n",
       "      <th>1</th>\n",
       "      <td>2.5</td>\n",
       "      <td>3.1</td>\n",
       "    </tr>\n",
       "    <tr>\n",
       "      <th>2</th>\n",
       "      <td>1.7</td>\n",
       "      <td>1.2</td>\n",
       "    </tr>\n",
       "    <tr>\n",
       "      <th>4</th>\n",
       "      <td>6.3</td>\n",
       "      <td>2.7</td>\n",
       "    </tr>\n",
       "  </tbody>\n",
       "</table>\n",
       "</div>"
      ],
      "text/plain": [
       "     a    b\n",
       "0  0.3  NaN\n",
       "1  2.5  3.1\n",
       "2  1.7  1.2\n",
       "4  6.3  2.7"
      ]
     },
     "execution_count": 82,
     "metadata": {},
     "output_type": "execute_result"
    }
   ],
   "source": [
    "df.dropna(subset=['a'])  # drop rows only where 'a' contains null values"
   ]
  },
  {
   "cell_type": "code",
   "execution_count": 83,
   "metadata": {
    "collapsed": false
   },
   "outputs": [
    {
     "data": {
      "text/html": [
       "<div>\n",
       "<table border=\"1\" class=\"dataframe\">\n",
       "  <thead>\n",
       "    <tr style=\"text-align: right;\">\n",
       "      <th></th>\n",
       "      <th>a</th>\n",
       "      <th>b</th>\n",
       "    </tr>\n",
       "  </thead>\n",
       "  <tbody>\n",
       "    <tr>\n",
       "      <th>0</th>\n",
       "      <td>0.3</td>\n",
       "      <td>0.0</td>\n",
       "    </tr>\n",
       "    <tr>\n",
       "      <th>1</th>\n",
       "      <td>2.5</td>\n",
       "      <td>3.1</td>\n",
       "    </tr>\n",
       "    <tr>\n",
       "      <th>2</th>\n",
       "      <td>1.7</td>\n",
       "      <td>1.2</td>\n",
       "    </tr>\n",
       "    <tr>\n",
       "      <th>3</th>\n",
       "      <td>0.0</td>\n",
       "      <td>0.0</td>\n",
       "    </tr>\n",
       "    <tr>\n",
       "      <th>4</th>\n",
       "      <td>6.3</td>\n",
       "      <td>2.7</td>\n",
       "    </tr>\n",
       "    <tr>\n",
       "      <th>5</th>\n",
       "      <td>0.0</td>\n",
       "      <td>0.9</td>\n",
       "    </tr>\n",
       "  </tbody>\n",
       "</table>\n",
       "</div>"
      ],
      "text/plain": [
       "     a    b\n",
       "0  0.3  0.0\n",
       "1  2.5  3.1\n",
       "2  1.7  1.2\n",
       "3  0.0  0.0\n",
       "4  6.3  2.7\n",
       "5  0.0  0.9"
      ]
     },
     "execution_count": 83,
     "metadata": {},
     "output_type": "execute_result"
    }
   ],
   "source": [
    "df.fillna(0)  # fill missing with zeros"
   ]
  },
  {
   "cell_type": "code",
   "execution_count": 84,
   "metadata": {
    "collapsed": false
   },
   "outputs": [
    {
     "data": {
      "text/html": [
       "<div>\n",
       "<table border=\"1\" class=\"dataframe\">\n",
       "  <thead>\n",
       "    <tr style=\"text-align: right;\">\n",
       "      <th></th>\n",
       "      <th>a</th>\n",
       "      <th>b</th>\n",
       "    </tr>\n",
       "  </thead>\n",
       "  <tbody>\n",
       "    <tr>\n",
       "      <th>0</th>\n",
       "      <td>0.3</td>\n",
       "      <td>NaN</td>\n",
       "    </tr>\n",
       "    <tr>\n",
       "      <th>1</th>\n",
       "      <td>2.5</td>\n",
       "      <td>3.1</td>\n",
       "    </tr>\n",
       "    <tr>\n",
       "      <th>2</th>\n",
       "      <td>1.7</td>\n",
       "      <td>1.2</td>\n",
       "    </tr>\n",
       "    <tr>\n",
       "      <th>3</th>\n",
       "      <td>1.7</td>\n",
       "      <td>1.2</td>\n",
       "    </tr>\n",
       "    <tr>\n",
       "      <th>4</th>\n",
       "      <td>6.3</td>\n",
       "      <td>2.7</td>\n",
       "    </tr>\n",
       "    <tr>\n",
       "      <th>5</th>\n",
       "      <td>6.3</td>\n",
       "      <td>0.9</td>\n",
       "    </tr>\n",
       "  </tbody>\n",
       "</table>\n",
       "</div>"
      ],
      "text/plain": [
       "     a    b\n",
       "0  0.3  NaN\n",
       "1  2.5  3.1\n",
       "2  1.7  1.2\n",
       "3  1.7  1.2\n",
       "4  6.3  2.7\n",
       "5  6.3  0.9"
      ]
     },
     "execution_count": 84,
     "metadata": {},
     "output_type": "execute_result"
    }
   ],
   "source": [
    "df.fillna(method='ffill')  # forward fill missing values, eqivalent to 'pad'"
   ]
  },
  {
   "cell_type": "code",
   "execution_count": 85,
   "metadata": {
    "collapsed": false
   },
   "outputs": [
    {
     "data": {
      "text/html": [
       "<div>\n",
       "<table border=\"1\" class=\"dataframe\">\n",
       "  <thead>\n",
       "    <tr style=\"text-align: right;\">\n",
       "      <th></th>\n",
       "      <th>a</th>\n",
       "      <th>b</th>\n",
       "    </tr>\n",
       "  </thead>\n",
       "  <tbody>\n",
       "    <tr>\n",
       "      <th>0</th>\n",
       "      <td>0.3</td>\n",
       "      <td>3.1</td>\n",
       "    </tr>\n",
       "    <tr>\n",
       "      <th>1</th>\n",
       "      <td>2.5</td>\n",
       "      <td>3.1</td>\n",
       "    </tr>\n",
       "    <tr>\n",
       "      <th>2</th>\n",
       "      <td>1.7</td>\n",
       "      <td>1.2</td>\n",
       "    </tr>\n",
       "    <tr>\n",
       "      <th>3</th>\n",
       "      <td>6.3</td>\n",
       "      <td>2.7</td>\n",
       "    </tr>\n",
       "    <tr>\n",
       "      <th>4</th>\n",
       "      <td>6.3</td>\n",
       "      <td>2.7</td>\n",
       "    </tr>\n",
       "    <tr>\n",
       "      <th>5</th>\n",
       "      <td>NaN</td>\n",
       "      <td>0.9</td>\n",
       "    </tr>\n",
       "  </tbody>\n",
       "</table>\n",
       "</div>"
      ],
      "text/plain": [
       "     a    b\n",
       "0  0.3  3.1\n",
       "1  2.5  3.1\n",
       "2  1.7  1.2\n",
       "3  6.3  2.7\n",
       "4  6.3  2.7\n",
       "5  NaN  0.9"
      ]
     },
     "execution_count": 85,
     "metadata": {},
     "output_type": "execute_result"
    }
   ],
   "source": [
    "df.fillna(method='bfill')  # back fill missing values"
   ]
  }
 ],
 "metadata": {
  "kernelspec": {
   "display_name": "Python 2",
   "language": "python",
   "name": "python2"
  },
  "language_info": {
   "codemirror_mode": {
    "name": "ipython",
    "version": 2
   },
   "file_extension": ".py",
   "mimetype": "text/x-python",
   "name": "python",
   "nbconvert_exporter": "python",
   "pygments_lexer": "ipython2",
   "version": "2.7.10"
  }
 },
 "nbformat": 4,
 "nbformat_minor": 0
}
