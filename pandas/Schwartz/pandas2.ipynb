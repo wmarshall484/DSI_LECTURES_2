{
 "cells": [
  {
   "cell_type": "code",
   "execution_count": null,
   "metadata": {
    "collapsed": false
   },
   "outputs": [],
   "source": [
    "from IPython.display import YouTubeVideo\n",
    "YouTubeVideo(\"hlmsjstN6Aw\")"
   ]
  },
  {
   "cell_type": "markdown",
   "metadata": {
    "slideshow": {
     "slide_type": "subslide"
    }
   },
   "source": [
    "# We're not saying \"no\" to Pandas, but first...\n",
    "* Connect to a Postgres server \n",
    "    * in python \n",
    "        * using psycopg2\n",
    "* Understand psycopg2's \"cursors\"\n",
    "    * executes\n",
    "    * commits\n",
    "* Generate dynamic queries\n",
    "\n",
    "# psycopg2 is a python/postgreSQL server interface"
   ]
  },
  {
   "cell_type": "code",
   "execution_count": null,
   "metadata": {
    "collapsed": false
   },
   "outputs": [],
   "source": [
    "# install homebrew: http://brew.sh\n",
    "\n",
    "# brew cask install postgres -> double click -> applications\n",
    "### not needed ### brew cask install pgadmin4 -> double click -> applications, click plug\n",
    "# brew tap homebrew/services\n",
    "# brew services start postgresql\n",
    "\n",
    "# https://github.com/zipfian/welcome/blob/master/notes/postgres_setup.md\n",
    "\n",
    "# conda install psycopg2\n",
    "import psycopg2"
   ]
  },
  {
   "cell_type": "code",
   "execution_count": null,
   "metadata": {
    "collapsed": true
   },
   "outputs": [],
   "source": [
    "# https://github.com/zipfian/precourse/tree/master/Chapter_3_SQL/data\n",
    "# psql -f stuff/beds.sql"
   ]
  },
  {
   "cell_type": "markdown",
   "metadata": {},
   "source": [
    "# Step 1: open a connection"
   ]
  },
  {
   "cell_type": "code",
   "execution_count": null,
   "metadata": {
    "collapsed": false
   },
   "outputs": [],
   "source": [
    "# ALTER USER schwarls37 ENCRYPTED PASSWORD 'need a password';\n",
    "\n",
    "conn = psycopg2.connect(dbname='schwarls37',port=5432,password=\"\",\n",
    "                        user='schwarls37',host='localhost')\n",
    "\n",
    "# host could be a remote database as well"
   ]
  },
  {
   "cell_type": "markdown",
   "metadata": {
    "slideshow": {
     "slide_type": "subslide"
    }
   },
   "source": [
    "<table align=\"center\">\n",
    "<tr>\n",
    "<td><img src=\"stuff/whywouldyoudothat1.jpg\" width=\"300px\" align=\"center\"></td> \n",
    "<td><img src=\"stuff/whywouldyoudothat2.jpg\" width=\"415px\" align=\"center\"></td> \n",
    "</tr>\n",
    "</table>\n",
    "<table align=\"center\">\n",
    "<tr>\n",
    "<td><img src=\"stuff/whywouldyoudothat3.jpg\" width=\"400px\" align=\"center\"></td> \n",
    "<td><img src=\"stuff/whywouldyoudothat4.jpg\" width=\"305px\" align=\"center\"></td> \n",
    "</tr>\n",
    "</table>"
   ]
  },
  {
   "cell_type": "markdown",
   "metadata": {
    "slideshow": {
     "slide_type": "subslide"
    }
   },
   "source": [
    "## Allows us to combine data sources in one place\n",
    "* Can use python to simultaneously pull data from other databases as well \n",
    "    * mysql-connector-python (MySql)\n",
    "    * sqlite (SQLite)\n",
    "    * pymongo (MongoDB)\n",
    "    * sqlalchemy (all the things)\n",
    "    * [psychopg2 (postgreSQL), obviously]\n",
    "\n",
    "## Allows us to bring other python tools to bear\n",
    "* DataFrames and associated functionality, Machine Learning tools, etc.\n",
    "\n",
    "## Allows for easy dynamic query generation\n",
    "* And hence, automation"
   ]
  },
  {
   "cell_type": "markdown",
   "metadata": {},
   "source": [
    "# Step 2: create a cursor object"
   ]
  },
  {
   "cell_type": "code",
   "execution_count": null,
   "metadata": {
    "collapsed": true
   },
   "outputs": [],
   "source": [
    "cur = conn.cursor()\n",
    "#cur.close()\n",
    "\n",
    "# The cursor interfaces and traverses the database \n",
    "# We don't have to worry about how it does it\n",
    "# Queries are returned as (single iteration) generators "
   ]
  },
  {
   "cell_type": "markdown",
   "metadata": {},
   "source": [
    "# Step 3: execute some SQL queries"
   ]
  },
  {
   "cell_type": "code",
   "execution_count": null,
   "metadata": {
    "collapsed": false
   },
   "outputs": [],
   "source": [
    "query = '''SELECT \"facility_name\", \"available_residential_beds\" \n",
    "           FROM Beds \n",
    "           WHERE \"city\" = 'Cuba' \n",
    "           LIMIT 10;'''\n",
    "\n",
    "cur.execute(query)"
   ]
  },
  {
   "cell_type": "code",
   "execution_count": null,
   "metadata": {
    "collapsed": false
   },
   "outputs": [],
   "source": [
    "# If you see this error \n",
    "\n",
    "print \"InternalError: current transaction is aborted, commands ignored until end of transaction block\"\n",
    "\n",
    "# Then the cursor is chocking on a current command \n",
    "# and it needs to be aborted with: conn.rollback()"
   ]
  },
  {
   "cell_type": "code",
   "execution_count": null,
   "metadata": {
    "collapsed": false
   },
   "outputs": [],
   "source": [
    "for row in cur:\n",
    "    print row"
   ]
  },
  {
   "cell_type": "code",
   "execution_count": null,
   "metadata": {
    "collapsed": false
   },
   "outputs": [],
   "source": [
    "for row in cur:\n",
    "    print row\n",
    "    \n",
    "# See, I told you: cur saves results as a (one pass) generator    "
   ]
  },
  {
   "cell_type": "code",
   "execution_count": null,
   "metadata": {
    "collapsed": true
   },
   "outputs": [],
   "source": [
    "# Other options for iterating through the generator\n",
    "\n",
    "# cur.fetchone(), or cur.next()\n",
    "# cur.fetchmany(n)\n",
    "# cur.fetchall()"
   ]
  },
  {
   "cell_type": "code",
   "execution_count": null,
   "metadata": {
    "collapsed": false
   },
   "outputs": [],
   "source": [
    "query = '''ALTER TABLE Beds \n",
    "           RENAME COLUMN \"available_residential_beds\" \n",
    "           TO \"Available Residential Beds\"'''\n",
    "\n",
    "cur.execute(query)"
   ]
  },
  {
   "cell_type": "markdown",
   "metadata": {},
   "source": [
    "# Step 4: commit SQL actions \n",
    "### (to actually make the changes to the DB permanent)"
   ]
  },
  {
   "cell_type": "code",
   "execution_count": null,
   "metadata": {
    "collapsed": true
   },
   "outputs": [],
   "source": [
    "conn.commit()\n",
    "# conn.autocommit = True\n",
    "\n",
    "# database level operations are also available"
   ]
  },
  {
   "cell_type": "code",
   "execution_count": null,
   "metadata": {
    "collapsed": true
   },
   "outputs": [],
   "source": [
    "query = '''ALTER TABLE Beds \n",
    "           RENAME COLUMN \"Available Residential Beds\" \n",
    "           TO \"available_residential_beds\"'''\n",
    "cur.execute(query)\n",
    "conn.commit()"
   ]
  },
  {
   "cell_type": "markdown",
   "metadata": {
    "slideshow": {
     "slide_type": "subslide"
    }
   },
   "source": [
    "# $$\\textbf{\"Sanitize yo' queries, foo'!\"}$$\n",
    "\n",
    "<table align=\"center\">\n",
    "<tr><td>\n",
    "<img src=\"stuff/exploits_of_a_mom.png\" width=\"600px\" align=\"center\"> \n",
    "</tr></td>\n",
    "</table>\n",
    "\n",
    "# $$\\textbf{\"I pity the foo'!\"}$$"
   ]
  },
  {
   "cell_type": "code",
   "execution_count": null,
   "metadata": {
    "collapsed": true
   },
   "outputs": [],
   "source": [
    "my_name = \"Scott\"\n",
    "unsafe_query = '''SELECT * FROM Users \n",
    "                  WHERE Name = ''' + my_name\n",
    "\n",
    "# what if...\n",
    "my_name = \"Scott; DROP TABLE Users\"\n",
    "\n",
    "# This is called SQL Injection and it's obviously risky"
   ]
  },
  {
   "cell_type": "code",
   "execution_count": null,
   "metadata": {
    "collapsed": true
   },
   "outputs": [],
   "source": [
    "# Instead \n",
    "my_name = \"Scott; DROP TABLE Users\"\n",
    "\n",
    "cur.execute('''SELECT * FROM Users WHERE Name = %s''', my_name)\n",
    "\n",
    "# will search for rows in Name *exactly* equal to 'Scott; DROP TABLE Users'"
   ]
  },
  {
   "cell_type": "markdown",
   "metadata": {},
   "source": [
    "# Step 5: close the connection"
   ]
  },
  {
   "cell_type": "code",
   "execution_count": null,
   "metadata": {
    "collapsed": true
   },
   "outputs": [],
   "source": [
    "cur.close() # optional, automatically close with conn.close()\n",
    "conn.close()"
   ]
  },
  {
   "cell_type": "code",
   "execution_count": null,
   "metadata": {
    "collapsed": false
   },
   "outputs": [],
   "source": [
    "# Or... \n",
    "\n",
    "# just read directly into a pandas data frame... which we shall begin learning about: now.\n",
    "\n",
    "conn = psycopg2.connect(dbname='schwarls37',port=5432,password=\"\",\n",
    "                        user='schwarls37',host='localhost')\n",
    "\n",
    "\n",
    "import pandas as pd\n",
    "query = '''SELECT \"facility_name\", \"available_residential_beds\" \n",
    "           FROM Beds \n",
    "           WHERE \"city\" = 'Cuba' \n",
    "           LIMIT 10;'''\n",
    "rows = pd.read_sql_query(query, conn)\n",
    "conn.close()\n",
    "\n",
    "rows"
   ]
  },
  {
   "cell_type": "markdown",
   "metadata": {},
   "source": [
    "# $$\\textit{pandas}$$\n",
    "$$\\text{Schwartz}$$"
   ]
  },
  {
   "cell_type": "markdown",
   "metadata": {
    "slideshow": {
     "slide_type": "subslide"
    }
   },
   "source": [
    "## $$\\textbf{They're not on the endangered species list any more}$$\n",
    "# $$\\textbf{How China saved the Giant Panda}$$\n",
    "\n",
    "As of September 2016 the International Union for the Conservation of Nature (IUCN) has taken the global icon off the endangered species list. The giant panda is now listed as \"vulnerable\" as opposed to \"endangered\". Thanks to Chinese conservation efforts the Giant Panda population has increased to approximately 2,000 individuals up from a low of about 1,000 in the 1970's when the species was at the most risk.  This population increase has been the result of bamboo forest restoration projects and the incorporation of improved captive breeding and husbandry methods -- initiatives driven by a better understanding of Giant Panda physiology and behaviour. Challenges remain, however. Climate change is predicted to wipe out more than one-third of the panda's bamboo habitat in the next 80 years, and reintroduction of captive-bred pandas into the wild remains challenging. \n",
    "\n",
    "<table align=\"center\">\n",
    "<tr><td>\n",
    "<img src=\"stuff/pandas.png\" width=\"600px\" align=\"center\"> \n",
    "</tr></td>\n",
    "</table>"
   ]
  },
  {
   "cell_type": "code",
   "execution_count": null,
   "metadata": {
    "collapsed": false
   },
   "outputs": [],
   "source": [
    "from IPython.display import YouTubeVideo\n",
    "YouTubeVideo(\"RDrfE9I8_hs\")"
   ]
  },
  {
   "cell_type": "markdown",
   "metadata": {
    "slideshow": {
     "slide_type": "subslide"
    }
   },
   "source": [
    "\n",
    "# QUIZ\n",
    "\n",
    "* 1:\n",
    "* 2:\n",
    "* 3:\n",
    "* 4:\n",
    "* 5:\n",
    "* Bonus #1:\n",
    "* Bonus #2:"
   ]
  },
  {
   "cell_type": "markdown",
   "metadata": {
    "slideshow": {
     "slide_type": "subslide"
    }
   },
   "source": [
    "\n",
    "# Pandas are cute cuddly animals\n",
    "* They are also the Flying Circus' answer to Excel and R Data Frames\n",
    "* They are built on top of NumPy NdArrays\n",
    "* http://pandas.pydata.org/pandas-docs/stable/comparison_with_sql.html\n",
    "\n",
    "# Objectives\n",
    "* psycopg2\n",
    "* numpy\n",
    "    * Speed\n",
    "    * Broadcasting\n",
    "* Pandas Series\n",
    "    * Pandas Time Series Type\n",
    "* Pandas DataFrames\n",
    "    * Creating and destroying columns\n",
    "    * Merging/Joining DataFrames\n",
    "    * Concatenating/Appening DataFrames\n",
    "    * Sorting\n",
    "    * Accessing data\n",
    "    * Manipulating the DataFrame Index    \n",
    "* Exploratory Data Analysis (EDA) with Matplotlib and Pandas \n",
    "    * Grouping/Aggregation\n",
    "    * Creating pivot tables\n",
    "    * Applying functions/plotting"
   ]
  },
  {
   "cell_type": "markdown",
   "metadata": {
    "slideshow": {
     "slide_type": "subslide"
    }
   },
   "source": [
    "# Pandas is very functional\n",
    "\n",
    "<table align=\"center\">\n",
    "<tr>\n",
    "<td><img src=\"stuff/panda7.jpg\" width=\"300px\" align=\"center\"></td> \n",
    "<td><img src=\"stuff/panda2.jpg\" width=\"180px\" align=\"center\"></td> \n",
    "<td><img src=\"stuff/panda6.jpg\" width=\"475px\" align=\"center\"></td> \n",
    "<tr><td>Killer Panda</td><td>Red Handed Panda</td><td>Sexy Panda</td></tr>\n",
    "\n",
    "\n",
    "</tr>\n",
    "</table>\n",
    "<table align=\"center\">\n",
    "<tr>\n",
    "\n",
    "<td><img src=\"stuff/panda4.jpg\" width=\"230px\" align=\"center\"></td> \n",
    "<td><img src=\"stuff/panda3.jpg\" width=\"300px\" align=\"center\"></td> \n",
    "<td><img src=\"stuff/panda1.jpg\" width=\"205x\" align=\"center\"></td> \n",
    "<td><img src=\"stuff/panda8.jpg\" width=\"210px\" align=\"center\"></td> \n",
    "<tr><td>Ranch Hand Panda</td><td>Assisted Pushup Panda</td><td>Acrobat Panda (Beginner)</td><td>Acrobat Panda (Advanced)</td></tr>\n",
    "</tr>\n",
    "</table>"
   ]
  },
  {
   "cell_type": "markdown",
   "metadata": {
    "slideshow": {
     "slide_type": "subslide"
    }
   },
   "source": [
    "# (Standard Library) Lists\n",
    "* concatenate"
   ]
  },
  {
   "cell_type": "code",
   "execution_count": 1,
   "metadata": {
    "collapsed": false
   },
   "outputs": [
    {
     "data": {
      "text/plain": [
       "[1, 2, 3, 4, 5, 6]"
      ]
     },
     "execution_count": 1,
     "metadata": {},
     "output_type": "execute_result"
    }
   ],
   "source": [
    "[1,2,3] + [4,5,6]"
   ]
  },
  {
   "cell_type": "markdown",
   "metadata": {
    "slideshow": {
     "slide_type": "subslide"
    }
   },
   "source": [
    "# Numpy NdArrays\n",
    "* operate elementwise"
   ]
  },
  {
   "cell_type": "code",
   "execution_count": 3,
   "metadata": {
    "collapsed": false
   },
   "outputs": [],
   "source": [
    "import numpy as np"
   ]
  },
  {
   "cell_type": "code",
   "execution_count": 4,
   "metadata": {
    "collapsed": false
   },
   "outputs": [
    {
     "data": {
      "text/plain": [
       "array([ 11.,  14.,  17.])"
      ]
     },
     "execution_count": 4,
     "metadata": {},
     "output_type": "execute_result"
    }
   ],
   "source": [
    "np.array([1,2,3]) + np.arange(3) + np.linspace(10,12,3)"
   ]
  },
  {
   "cell_type": "markdown",
   "metadata": {
    "slideshow": {
     "slide_type": "subslide"
    }
   },
   "source": [
    "# Numpy NdArrays\n",
    "\n",
    "* have types"
   ]
  },
  {
   "cell_type": "code",
   "execution_count": 5,
   "metadata": {
    "collapsed": false
   },
   "outputs": [
    {
     "name": "stdout",
     "output_type": "stream",
     "text": [
      "int64 |S1 |S3\n"
     ]
    }
   ],
   "source": [
    "ints = np.array(range(3))\n",
    "chars = np.array(list('ABC'))\n",
    "strings = np.array(['A','BC',\"DEF\"])\n",
    "\n",
    "print ints.dtype, chars.dtype, strings.dtype"
   ]
  },
  {
   "cell_type": "markdown",
   "metadata": {
    "slideshow": {
     "slide_type": "subslide"
    }
   },
   "source": [
    "# Speed\n",
    "\n",
    "https://ipython.org/ipython-doc/3/interactive/magics.html"
   ]
  },
  {
   "cell_type": "code",
   "execution_count": 6,
   "metadata": {
    "collapsed": false
   },
   "outputs": [
    {
     "name": "stdout",
     "output_type": "stream",
     "text": [
      "python list\n",
      "100 loops, best of 1: 12.2 ms per loop\n",
      "0.0121877813339\n",
      "\n",
      "numpy array\n",
      "1000 loops, best of 1: 1.34 ms per loop\n",
      "0.00133687806129\n",
      "\n",
      "numpy array -- standard library sum\n",
      "10 loops, best of 1: 139 ms per loop\n",
      "0.139155602455\n"
     ]
    }
   ],
   "source": [
    "numpy_array = np.arange(0, 1000000)\n",
    "python_list = range(1000000)\n",
    "\n",
    "print \"python list\"\n",
    "time = %timeit -r 1 -o sum(python_list)\n",
    "print time.all_runs[0]/time.loops \n",
    "\n",
    "print \"\\n\" + \"numpy array\"\n",
    "time = %timeit -r 1 -o np.sum(numpy_array)\n",
    "print time.all_runs[0]/time.loops\n",
    "\n",
    "print \"\\n\" + \"numpy array -- standard library sum\"\n",
    "time = %timeit -r 1 -o sum(numpy_array)\n",
    "print time.all_runs[0]/time.loops"
   ]
  },
  {
   "cell_type": "markdown",
   "metadata": {
    "slideshow": {
     "slide_type": "subslide"
    }
   },
   "source": [
    "# Broadcasting\n",
    "\n",
    "http://docs.scipy.org/doc/numpy-1.10.1/user/basics.broadcasting.html"
   ]
  },
  {
   "cell_type": "code",
   "execution_count": 7,
   "metadata": {
    "collapsed": false
   },
   "outputs": [
    {
     "name": "stdout",
     "output_type": "stream",
     "text": [
      "(2, 1) (2, 2)\n",
      "\n",
      "\n",
      "[[ 11  12]\n",
      " [-11 -12]]\n"
     ]
    }
   ],
   "source": [
    "a = np.array([[10], [-10]]) \n",
    "b = np.array([[1, 2], [-1, -2]]) \n",
    "\n",
    "print a.shape, b.shape \n",
    "print \"\\n\"\n",
    "print a + b\n",
    "\n",
    "# elements will \"duplicate, expand, and fill up\" \n",
    "# to make the dimensions compatible for element-wise operations\n",
    "# cool."
   ]
  },
  {
   "cell_type": "code",
   "execution_count": 8,
   "metadata": {
    "collapsed": false,
    "scrolled": true
   },
   "outputs": [
    {
     "name": "stdout",
     "output_type": "stream",
     "text": [
      "(2, 4) (2, 2)\n",
      "\n"
     ]
    },
    {
     "ename": "ValueError",
     "evalue": "operands could not be broadcast together with shapes (2,4) (2,2) ",
     "output_type": "error",
     "traceback": [
      "\u001b[0;31m---------------------------------------------------------------------------\u001b[0m",
      "\u001b[0;31mValueError\u001b[0m                                Traceback (most recent call last)",
      "\u001b[0;32m<ipython-input-8-a73749235f22>\u001b[0m in \u001b[0;36m<module>\u001b[0;34m()\u001b[0m\n\u001b[1;32m      3\u001b[0m \u001b[0;32mprint\u001b[0m \u001b[0ma\u001b[0m\u001b[0;34m.\u001b[0m\u001b[0mshape\u001b[0m\u001b[0;34m,\u001b[0m \u001b[0mb\u001b[0m\u001b[0;34m.\u001b[0m\u001b[0mshape\u001b[0m\u001b[0;34m\u001b[0m\u001b[0m\n\u001b[1;32m      4\u001b[0m \u001b[0;32mprint\u001b[0m \u001b[0;34m\"\"\u001b[0m\u001b[0;34m\u001b[0m\u001b[0m\n\u001b[0;32m----> 5\u001b[0;31m \u001b[0;32mprint\u001b[0m \u001b[0ma\u001b[0m \u001b[0;34m+\u001b[0m \u001b[0mb\u001b[0m\u001b[0;34m\u001b[0m\u001b[0m\n\u001b[0m\u001b[1;32m      6\u001b[0m \u001b[0;34m\u001b[0m\u001b[0m\n\u001b[1;32m      7\u001b[0m \u001b[0;31m# it's not clear how it should fill up in this case... so it can't/doesn't\u001b[0m\u001b[0;34m\u001b[0m\u001b[0;34m\u001b[0m\u001b[0m\n",
      "\u001b[0;31mValueError\u001b[0m: operands could not be broadcast together with shapes (2,4) (2,2) "
     ]
    }
   ],
   "source": [
    "a = np.array([[10, 0, -10, 0],[-10, 0, -10, 0]]) \n",
    "b = np.array([[2,2],[-1,-1]]) \n",
    "print a.shape, b.shape \n",
    "print \"\"\n",
    "print a + b\n",
    "\n",
    "# it's not clear how it should fill up in this case... so it can't/doesn't"
   ]
  },
  {
   "cell_type": "markdown",
   "metadata": {},
   "source": [
    "# Dimension Dimentia..."
   ]
  },
  {
   "cell_type": "code",
   "execution_count": 20,
   "metadata": {
    "collapsed": false
   },
   "outputs": [
    {
     "name": "stdout",
     "output_type": "stream",
     "text": [
      "(2, 1) (2, 2)\n",
      "\n",
      "\n",
      "[[11 12]\n",
      " [ 9  8]]\n"
     ]
    }
   ],
   "source": [
    "a = 10\n",
    "#a = np.array(10)\n",
    "#a = np.array([10])\n",
    "#a = np.array([[[10]]])\n",
    "#a = np.array([[10],[10]])\n",
    "b = np.array([[1,2],[-1,-2]])\n",
    "\n",
    "print a.shape, b.shape\n",
    "print \"\\n\"\n",
    "print a + b"
   ]
  },
  {
   "cell_type": "code",
   "execution_count": null,
   "metadata": {
    "collapsed": true
   },
   "outputs": [],
   "source": [
    "# Notes:\n",
    "\n",
    "# a.shape can be assigned into to change the shape with compatible shapes\n",
    "# a.reshape() can be used to change shape as well to compatible shapes \n",
    "\n",
    "# see also a.flatten() and a.ravel(), which leads us to the following... "
   ]
  },
  {
   "cell_type": "markdown",
   "metadata": {},
   "source": [
    "# Aliasing Amnesia... \n",
    "* *Copy* versus *View* (and not accidentally editing another variables memory)\n"
   ]
  },
  {
   "cell_type": "code",
   "execution_count": 22,
   "metadata": {
    "collapsed": false
   },
   "outputs": [
    {
     "data": {
      "text/plain": [
       "[11, 2]"
      ]
     },
     "execution_count": 22,
     "metadata": {},
     "output_type": "execute_result"
    }
   ],
   "source": [
    "z = [1, 2]\n",
    "zz = z#[:]\n",
    "zz[0]=11\n",
    "z"
   ]
  },
  {
   "cell_type": "code",
   "execution_count": 24,
   "metadata": {
    "collapsed": false
   },
   "outputs": [
    {
     "name": "stdout",
     "output_type": "stream",
     "text": [
      "[[ 1  2]\n",
      " [-1 -2]]\n",
      "\n",
      "[[666   2]\n",
      " [ -1  -2]]\n",
      "\n",
      "[[666   2]\n",
      " [ -1  -2]]\n"
     ]
    }
   ],
   "source": [
    "b = np.array([[1,2],[-1,-2]])\n",
    "print b\n",
    "print \"\"\n",
    "\n",
    "c = b#[:]#.copy()\n",
    "# also see \"deepcopy()\"\n",
    "c[0,0]=666\n",
    "\n",
    "print c\n",
    "print \"\"\n",
    "print b"
   ]
  },
  {
   "cell_type": "markdown",
   "metadata": {
    "slideshow": {
     "slide_type": "subslide"
    }
   },
   "source": [
    "# Pandas Series\n",
    "* are (one dimensional) np.ndarray vectors **with an index**\n"
   ]
  },
  {
   "cell_type": "code",
   "execution_count": 25,
   "metadata": {
    "collapsed": true
   },
   "outputs": [],
   "source": [
    "import pandas as pd"
   ]
  },
  {
   "cell_type": "code",
   "execution_count": 26,
   "metadata": {
    "collapsed": false
   },
   "outputs": [
    {
     "name": "stdout",
     "output_type": "stream",
     "text": [
      "0    5775.0\n",
      "1     373.0\n",
      "2       7.0\n",
      "3      42.0\n",
      "4       NaN\n",
      "5      33.0\n",
      "dtype: float64\n",
      "\n",
      "\n",
      "(6,)\n"
     ]
    }
   ],
   "source": [
    "series = pd.Series([5775,373,7,42,np.nan,33])\n",
    "print series\n",
    "print \"\\n\"\n",
    "print series.shape"
   ]
  },
  {
   "cell_type": "code",
   "execution_count": 27,
   "metadata": {
    "collapsed": false
   },
   "outputs": [
    {
     "data": {
      "text/plain": [
       "0      cubs\n",
       "1    royals\n",
       "2    giants\n",
       "3       sox\n",
       "4    giants\n",
       "5     cards\n",
       "6    giants\n",
       "7       ...\n",
       "8      None\n",
       "dtype: object"
      ]
     },
     "execution_count": 27,
     "metadata": {},
     "output_type": "execute_result"
    }
   ],
   "source": [
    "world_series = pd.Series([\"cubs\",\"royals\",\"giants\",\"sox\",\"giants\",\"cards\",\"giants\",\"...\",None])\n",
    "world_series"
   ]
  },
  {
   "cell_type": "markdown",
   "metadata": {
    "slideshow": {
     "slide_type": "subslide"
    }
   },
   "source": [
    "# Pandas Date Series\n",
    "* are fancy: http://pandas.pydata.org/pandas-docs/stable/timeseries.html"
   ]
  },
  {
   "cell_type": "code",
   "execution_count": 29,
   "metadata": {
    "collapsed": false
   },
   "outputs": [
    {
     "data": {
      "text/plain": [
       "(35,)"
      ]
     },
     "execution_count": 29,
     "metadata": {},
     "output_type": "execute_result"
    }
   ],
   "source": [
    "bdays = pd.date_range(start='19821107', periods=34+1, freq=pd.DateOffset(years=1))\n",
    "bdays.shape"
   ]
  },
  {
   "cell_type": "markdown",
   "metadata": {
    "slideshow": {
     "slide_type": "subslide"
    }
   },
   "source": [
    "### After you learn Pandas you might care about using Date Series Types and the following could be useful:\n",
    "* df = pd.read_csv(infile, parse_dates=['datetime'], date_parser=dateparse)\n",
    "* df['Date'] = df['Date'].apply(lambda x: pd.to_datetime(x))\n",
    "\n"
   ]
  },
  {
   "cell_type": "markdown",
   "metadata": {
    "slideshow": {
     "slide_type": "subslide"
    }
   },
   "source": [
    "# Pandas DataFrames\n",
    "* are a set of Pandas Series **that share the same index** \n",
    "<br>\n",
    "<br>\n",
    "\n",
    "$$\\large \\text{Python List} \\subset \\text{NumPy Array} \\subset \\text{Pandas Series} \\subset \\text{Pandas DataFrame}$$\n",
    "<br>"
   ]
  },
  {
   "cell_type": "code",
   "execution_count": 30,
   "metadata": {
    "collapsed": false
   },
   "outputs": [
    {
     "name": "stdout",
     "output_type": "stream",
     "text": [
      "          2    3    0  1    C          b\n",
      "0     train  NaN  NaN  1  3.0 2013-01-02\n",
      "1      test  foo  1.0  1  3.0 2013-01-02\n",
      "2  validate  NaN  1.0  1  3.0 2013-01-02\n",
      "3       win  foo  1.0  1  3.0 2013-01-02\n",
      "\n",
      "(4, 6)\n",
      "\n"
     ]
    },
    {
     "data": {
      "text/plain": [
       "2          category\n",
       "3            object\n",
       "0           float64\n",
       "1             int32\n",
       "C           float32\n",
       "b    datetime64[ns]\n",
       "dtype: object"
      ]
     },
     "execution_count": 30,
     "metadata": {},
     "output_type": "execute_result"
    }
   ],
   "source": [
    "mixedTypes_df = pd.DataFrame({ '0' : [np.nan] + 3 * [1.],\n",
    "                               'b' : pd.Timestamp('20130102'),\n",
    "                               'C' : pd.Series(3, index=list(range(4)), dtype='float32'),\n",
    "                               '1' : np.array(4 * [1], dtype='int32'),\n",
    "                                2  : pd.Categorical([\"train\", \"test\", \"validate\", \"win\"]),\n",
    "                                3 : 2*[np.nan, 'foo'] }) #, index=bdays[:4]\n",
    "print mixedTypes_df\n",
    "print \"\"\n",
    "print mixedTypes_df.shape\n",
    "print \"\"\n",
    "mixedTypes_df.dtypes"
   ]
  },
  {
   "cell_type": "markdown",
   "metadata": {
    "slideshow": {
     "slide_type": "subslide"
    }
   },
   "source": [
    "# Managing Columns"
   ]
  },
  {
   "cell_type": "code",
   "execution_count": 31,
   "metadata": {
    "collapsed": false
   },
   "outputs": [
    {
     "data": {
      "text/html": [
       "<div>\n",
       "<table border=\"1\" class=\"dataframe\">\n",
       "  <thead>\n",
       "    <tr style=\"text-align: right;\">\n",
       "      <th></th>\n",
       "      <th>2</th>\n",
       "      <th>3</th>\n",
       "      <th>0</th>\n",
       "      <th>1</th>\n",
       "      <th>C</th>\n",
       "      <th>B</th>\n",
       "    </tr>\n",
       "  </thead>\n",
       "  <tbody>\n",
       "    <tr>\n",
       "      <th>0</th>\n",
       "      <td>train</td>\n",
       "      <td>NaN</td>\n",
       "      <td>NaN</td>\n",
       "      <td>1</td>\n",
       "      <td>3.0</td>\n",
       "      <td>2013-01-02</td>\n",
       "    </tr>\n",
       "    <tr>\n",
       "      <th>1</th>\n",
       "      <td>test</td>\n",
       "      <td>foo</td>\n",
       "      <td>1.0</td>\n",
       "      <td>1</td>\n",
       "      <td>3.0</td>\n",
       "      <td>2013-01-02</td>\n",
       "    </tr>\n",
       "    <tr>\n",
       "      <th>2</th>\n",
       "      <td>validate</td>\n",
       "      <td>NaN</td>\n",
       "      <td>1.0</td>\n",
       "      <td>1</td>\n",
       "      <td>3.0</td>\n",
       "      <td>2013-01-02</td>\n",
       "    </tr>\n",
       "    <tr>\n",
       "      <th>3</th>\n",
       "      <td>win</td>\n",
       "      <td>foo</td>\n",
       "      <td>1.0</td>\n",
       "      <td>1</td>\n",
       "      <td>3.0</td>\n",
       "      <td>2013-01-02</td>\n",
       "    </tr>\n",
       "  </tbody>\n",
       "</table>\n",
       "</div>"
      ],
      "text/plain": [
       "          2    3    0  1    C          B\n",
       "0     train  NaN  NaN  1  3.0 2013-01-02\n",
       "1      test  foo  1.0  1  3.0 2013-01-02\n",
       "2  validate  NaN  1.0  1  3.0 2013-01-02\n",
       "3       win  foo  1.0  1  3.0 2013-01-02"
      ]
     },
     "execution_count": 31,
     "metadata": {},
     "output_type": "execute_result"
    }
   ],
   "source": [
    "mixedTypes_df.rename(columns={'b': 'B'}, inplace=True)\n",
    "mixedTypes_df"
   ]
  },
  {
   "cell_type": "code",
   "execution_count": 32,
   "metadata": {
    "collapsed": false
   },
   "outputs": [
    {
     "data": {
      "text/plain": [
       "0    1\n",
       "1    1\n",
       "2    1\n",
       "3    1\n",
       "Name: 1, dtype: int32"
      ]
     },
     "execution_count": 32,
     "metadata": {},
     "output_type": "execute_result"
    }
   ],
   "source": [
    "mixedTypes_df['1']"
   ]
  },
  {
   "cell_type": "code",
   "execution_count": 33,
   "metadata": {
    "collapsed": false
   },
   "outputs": [
    {
     "data": {
      "text/plain": [
       "pandas.core.series.Series"
      ]
     },
     "execution_count": 33,
     "metadata": {},
     "output_type": "execute_result"
    }
   ],
   "source": [
    "type(mixedTypes_df['1'])"
   ]
  },
  {
   "cell_type": "code",
   "execution_count": 34,
   "metadata": {
    "collapsed": false
   },
   "outputs": [
    {
     "data": {
      "text/html": [
       "<div>\n",
       "<table border=\"1\" class=\"dataframe\">\n",
       "  <thead>\n",
       "    <tr style=\"text-align: right;\">\n",
       "      <th></th>\n",
       "      <th>2</th>\n",
       "      <th>3</th>\n",
       "      <th>0</th>\n",
       "      <th>C</th>\n",
       "      <th>B</th>\n",
       "    </tr>\n",
       "  </thead>\n",
       "  <tbody>\n",
       "    <tr>\n",
       "      <th>0</th>\n",
       "      <td>train</td>\n",
       "      <td>NaN</td>\n",
       "      <td>NaN</td>\n",
       "      <td>3.0</td>\n",
       "      <td>2013-01-02</td>\n",
       "    </tr>\n",
       "    <tr>\n",
       "      <th>1</th>\n",
       "      <td>test</td>\n",
       "      <td>foo</td>\n",
       "      <td>1.0</td>\n",
       "      <td>3.0</td>\n",
       "      <td>2013-01-02</td>\n",
       "    </tr>\n",
       "    <tr>\n",
       "      <th>2</th>\n",
       "      <td>validate</td>\n",
       "      <td>NaN</td>\n",
       "      <td>1.0</td>\n",
       "      <td>3.0</td>\n",
       "      <td>2013-01-02</td>\n",
       "    </tr>\n",
       "    <tr>\n",
       "      <th>3</th>\n",
       "      <td>win</td>\n",
       "      <td>foo</td>\n",
       "      <td>1.0</td>\n",
       "      <td>3.0</td>\n",
       "      <td>2013-01-02</td>\n",
       "    </tr>\n",
       "  </tbody>\n",
       "</table>\n",
       "</div>"
      ],
      "text/plain": [
       "          2    3    0    C          B\n",
       "0     train  NaN  NaN  3.0 2013-01-02\n",
       "1      test  foo  1.0  3.0 2013-01-02\n",
       "2  validate  NaN  1.0  3.0 2013-01-02\n",
       "3       win  foo  1.0  3.0 2013-01-02"
      ]
     },
     "execution_count": 34,
     "metadata": {},
     "output_type": "execute_result"
    }
   ],
   "source": [
    "del mixedTypes_df['1']\n",
    "mixedTypes_df"
   ]
  },
  {
   "cell_type": "code",
   "execution_count": 35,
   "metadata": {
    "collapsed": false
   },
   "outputs": [
    {
     "name": "stdout",
     "output_type": "stream",
     "text": [
      "mixedTypes_df\n",
      "                   2    3    0    C          B\n",
      "1982-11-07     train  NaN  NaN  3.0 2013-01-02\n",
      "1983-11-07      test  foo  1.0  3.0 2013-01-02\n",
      "1984-11-07  validate  NaN  1.0  3.0 2013-01-02\n",
      "1985-11-07       win  foo  1.0  3.0 2013-01-02\n",
      "\n",
      "mixedTypes_augmented_df\n",
      "                  2    3    0    C          B        G\n",
      "0     train, I must  NaN  NaN  3.0 2013-01-02  hommies\n",
      "1      test, I must  foo  1.0  3.0 2013-01-02  hommies\n",
      "2  validate, I must  NaN  1.0  3.0 2013-01-02  hommies\n",
      "3       win, I must  foo  1.0  3.0 2013-01-02  hommies\n"
     ]
    }
   ],
   "source": [
    "mixedTypes_augmented_df = mixedTypes_df.copy() # de-referencing\n",
    "\n",
    "mixedTypes_df.index = bdays[:4]\n",
    "\n",
    "mixedTypes_augmented_df[2] = mixedTypes_augmented_df[2] + np.array([\", I\"]*4) # element-wise\n",
    "mixedTypes_augmented_df[2] = mixedTypes_augmented_df[2] + \" must\" # broadcasting\n",
    "mixedTypes_augmented_df['G'] = 'hommies' # broadcasting\n",
    "\n",
    "print \"mixedTypes_df\"\n",
    "print mixedTypes_df\n",
    "print \"\\n\"+\"mixedTypes_augmented_df\"\n",
    "print mixedTypes_augmented_df"
   ]
  },
  {
   "cell_type": "markdown",
   "metadata": {
    "slideshow": {
     "slide_type": "subslide"
    }
   },
   "source": [
    "# Accessing Data\n",
    "* is kind of special in Pandas"
   ]
  },
  {
   "cell_type": "code",
   "execution_count": 37,
   "metadata": {
    "collapsed": false
   },
   "outputs": [
    {
     "data": {
      "text/plain": [
       "0    hommies\n",
       "1    hommies\n",
       "2    hommies\n",
       "3    hommies\n",
       "Name: G, dtype: object"
      ]
     },
     "execution_count": 37,
     "metadata": {},
     "output_type": "execute_result"
    }
   ],
   "source": [
    "# getting columns\n",
    "mixedTypes_augmented_df[\"G\"]\n",
    "mixedTypes_augmented_df.G\n",
    "#.values\n",
    "#tolist()"
   ]
  },
  {
   "cell_type": "code",
   "execution_count": 41,
   "metadata": {
    "collapsed": false
   },
   "outputs": [
    {
     "name": "stdout",
     "output_type": "stream",
     "text": [
      "DatetimeIndex(['1982-11-07', '1983-11-07', '1984-11-07', '1985-11-07'], dtype='datetime64[ns]', freq='<DateOffset: kwds={'years': 1}>')\n",
      "\n",
      "<type 'numpy.ndarray'>\n",
      "\n",
      "[Timestamp('1982-11-07 00:00:00', offset='<DateOffset: kwds={'years': 1}>'), Timestamp('1983-11-07 00:00:00', offset='<DateOffset: kwds={'years': 1}>'), Timestamp('1984-11-07 00:00:00', offset='<DateOffset: kwds={'years': 1}>'), Timestamp('1985-11-07 00:00:00', offset='<DateOffset: kwds={'years': 1}>')]\n"
     ]
    }
   ],
   "source": [
    "print mixedTypes_df.index\n",
    "print \"\"\n",
    "print mixedTypes_df.index.values #.dtype # type(\n",
    "print \"\"\n",
    "print mixedTypes_df.index.tolist()"
   ]
  },
  {
   "cell_type": "code",
   "execution_count": null,
   "metadata": {
    "collapsed": false
   },
   "outputs": [],
   "source": [
    "print mixedTypes_df.columns\n",
    "print \"\"\n",
    "print mixedTypes_df.columns.values #.dtype\n",
    "print \"\"\n",
    "print mixedTypes_df.columns.tolist()"
   ]
  },
  {
   "cell_type": "code",
   "execution_count": 42,
   "metadata": {
    "collapsed": false
   },
   "outputs": [
    {
     "data": {
      "text/plain": [
       "array([[ 1.,  1.,  1.],\n",
       "       [ 1.,  1.,  1.],\n",
       "       [ 1.,  1.,  1.]])"
      ]
     },
     "execution_count": 42,
     "metadata": {},
     "output_type": "execute_result"
    }
   ],
   "source": [
    "np.ones((10,10))[:3,:3]"
   ]
  },
  {
   "cell_type": "code",
   "execution_count": 43,
   "metadata": {
    "collapsed": true
   },
   "outputs": [],
   "source": [
    "zeros_ndarray = np.zeros((3,4))        # Create a matrix of zeros with 3 rows and 4 columns. \n",
    "ones_ndarray = np.ones((10,20))        # Create a matrix of ones with 10 rows and 20 columns.\n",
    "identity_ndarray = np.identity(50)     # Create an identity matrix with 50 rows and 50 columns. \n",
    "random_ndarray = np.random.rand(2, 2)  # Create a 2x2 array of random floats ranging from 0 to 1. \n",
    "range_ndarray = np.arange(0, 20, 0.5)  # Create a numpy array with arguments (start, end, step_size). \n",
    "noise_nparray = np.random.randn(35, 6) # Create a 35x6 array of normally distributed random normal variables"
   ]
  },
  {
   "cell_type": "code",
   "execution_count": 44,
   "metadata": {
    "collapsed": false
   },
   "outputs": [
    {
     "ename": "TypeError",
     "evalue": "unhashable type",
     "output_type": "error",
     "traceback": [
      "\u001b[0;31m---------------------------------------------------------------------------\u001b[0m",
      "\u001b[0;31mTypeError\u001b[0m                                 Traceback (most recent call last)",
      "\u001b[0;32m<ipython-input-44-99902d89f350>\u001b[0m in \u001b[0;36m<module>\u001b[0;34m()\u001b[0m\n\u001b[1;32m      1\u001b[0m \u001b[0mmixedTypes_df\u001b[0m\u001b[0;34m.\u001b[0m\u001b[0mhead\u001b[0m\u001b[0;34m(\u001b[0m\u001b[0;34m)\u001b[0m\u001b[0;34m\u001b[0m\u001b[0m\n\u001b[0;32m----> 2\u001b[0;31m \u001b[0mmixedTypes_df\u001b[0m\u001b[0;34m[\u001b[0m\u001b[0;34m:\u001b[0m\u001b[0;36m3\u001b[0m\u001b[0;34m,\u001b[0m\u001b[0;34m:\u001b[0m\u001b[0;36m3\u001b[0m\u001b[0;34m]\u001b[0m\u001b[0;34m\u001b[0m\u001b[0m\n\u001b[0m\u001b[1;32m      3\u001b[0m \u001b[0;31m# is mixedTypes_df a matrix?\u001b[0m\u001b[0;34m\u001b[0m\u001b[0;34m\u001b[0m\u001b[0m\n",
      "\u001b[0;32m/Users/schwarls37/anaconda/lib/python2.7/site-packages/pandas/core/frame.pyc\u001b[0m in \u001b[0;36m__getitem__\u001b[0;34m(self, key)\u001b[0m\n\u001b[1;32m   1995\u001b[0m             \u001b[0;32mreturn\u001b[0m \u001b[0mself\u001b[0m\u001b[0;34m.\u001b[0m\u001b[0m_getitem_multilevel\u001b[0m\u001b[0;34m(\u001b[0m\u001b[0mkey\u001b[0m\u001b[0;34m)\u001b[0m\u001b[0;34m\u001b[0m\u001b[0m\n\u001b[1;32m   1996\u001b[0m         \u001b[0;32melse\u001b[0m\u001b[0;34m:\u001b[0m\u001b[0;34m\u001b[0m\u001b[0m\n\u001b[0;32m-> 1997\u001b[0;31m             \u001b[0;32mreturn\u001b[0m \u001b[0mself\u001b[0m\u001b[0;34m.\u001b[0m\u001b[0m_getitem_column\u001b[0m\u001b[0;34m(\u001b[0m\u001b[0mkey\u001b[0m\u001b[0;34m)\u001b[0m\u001b[0;34m\u001b[0m\u001b[0m\n\u001b[0m\u001b[1;32m   1998\u001b[0m \u001b[0;34m\u001b[0m\u001b[0m\n\u001b[1;32m   1999\u001b[0m     \u001b[0;32mdef\u001b[0m \u001b[0m_getitem_column\u001b[0m\u001b[0;34m(\u001b[0m\u001b[0mself\u001b[0m\u001b[0;34m,\u001b[0m \u001b[0mkey\u001b[0m\u001b[0;34m)\u001b[0m\u001b[0;34m:\u001b[0m\u001b[0;34m\u001b[0m\u001b[0m\n",
      "\u001b[0;32m/Users/schwarls37/anaconda/lib/python2.7/site-packages/pandas/core/frame.pyc\u001b[0m in \u001b[0;36m_getitem_column\u001b[0;34m(self, key)\u001b[0m\n\u001b[1;32m   2002\u001b[0m         \u001b[0;31m# get column\u001b[0m\u001b[0;34m\u001b[0m\u001b[0;34m\u001b[0m\u001b[0m\n\u001b[1;32m   2003\u001b[0m         \u001b[0;32mif\u001b[0m \u001b[0mself\u001b[0m\u001b[0;34m.\u001b[0m\u001b[0mcolumns\u001b[0m\u001b[0;34m.\u001b[0m\u001b[0mis_unique\u001b[0m\u001b[0;34m:\u001b[0m\u001b[0;34m\u001b[0m\u001b[0m\n\u001b[0;32m-> 2004\u001b[0;31m             \u001b[0;32mreturn\u001b[0m \u001b[0mself\u001b[0m\u001b[0;34m.\u001b[0m\u001b[0m_get_item_cache\u001b[0m\u001b[0;34m(\u001b[0m\u001b[0mkey\u001b[0m\u001b[0;34m)\u001b[0m\u001b[0;34m\u001b[0m\u001b[0m\n\u001b[0m\u001b[1;32m   2005\u001b[0m \u001b[0;34m\u001b[0m\u001b[0m\n\u001b[1;32m   2006\u001b[0m         \u001b[0;31m# duplicate columns & possible reduce dimensionality\u001b[0m\u001b[0;34m\u001b[0m\u001b[0;34m\u001b[0m\u001b[0m\n",
      "\u001b[0;32m/Users/schwarls37/anaconda/lib/python2.7/site-packages/pandas/core/generic.pyc\u001b[0m in \u001b[0;36m_get_item_cache\u001b[0;34m(self, item)\u001b[0m\n\u001b[1;32m   1346\u001b[0m         \u001b[0;34m\"\"\"Return the cached item, item represents a label indexer.\"\"\"\u001b[0m\u001b[0;34m\u001b[0m\u001b[0m\n\u001b[1;32m   1347\u001b[0m         \u001b[0mcache\u001b[0m \u001b[0;34m=\u001b[0m \u001b[0mself\u001b[0m\u001b[0;34m.\u001b[0m\u001b[0m_item_cache\u001b[0m\u001b[0;34m\u001b[0m\u001b[0m\n\u001b[0;32m-> 1348\u001b[0;31m         \u001b[0mres\u001b[0m \u001b[0;34m=\u001b[0m \u001b[0mcache\u001b[0m\u001b[0;34m.\u001b[0m\u001b[0mget\u001b[0m\u001b[0;34m(\u001b[0m\u001b[0mitem\u001b[0m\u001b[0;34m)\u001b[0m\u001b[0;34m\u001b[0m\u001b[0m\n\u001b[0m\u001b[1;32m   1349\u001b[0m         \u001b[0;32mif\u001b[0m \u001b[0mres\u001b[0m \u001b[0;32mis\u001b[0m \u001b[0mNone\u001b[0m\u001b[0;34m:\u001b[0m\u001b[0;34m\u001b[0m\u001b[0m\n\u001b[1;32m   1350\u001b[0m             \u001b[0mvalues\u001b[0m \u001b[0;34m=\u001b[0m \u001b[0mself\u001b[0m\u001b[0;34m.\u001b[0m\u001b[0m_data\u001b[0m\u001b[0;34m.\u001b[0m\u001b[0mget\u001b[0m\u001b[0;34m(\u001b[0m\u001b[0mitem\u001b[0m\u001b[0;34m)\u001b[0m\u001b[0;34m\u001b[0m\u001b[0m\n",
      "\u001b[0;31mTypeError\u001b[0m: unhashable type"
     ]
    }
   ],
   "source": [
    "mixedTypes_df.head()\n",
    "mixedTypes_df[:3,:3]\n",
    "# is mixedTypes_df a matrix?"
   ]
  },
  {
   "cell_type": "code",
   "execution_count": 46,
   "metadata": {
    "collapsed": false
   },
   "outputs": [
    {
     "name": "stdout",
     "output_type": "stream",
     "text": [
      "[['train' nan nan]\n",
      " ['test' 'foo' 1.0]\n",
      " ['validate' nan 1.0]]\n"
     ]
    },
    {
     "data": {
      "text/plain": [
       "array([['train', nan, nan, 3.0, Timestamp('2013-01-02 00:00:00')],\n",
       "       ['test', 'foo', 1.0, 3.0, Timestamp('2013-01-02 00:00:00')],\n",
       "       ['validate', nan, 1.0, 3.0, Timestamp('2013-01-02 00:00:00')],\n",
       "       ['win', 'foo', 1.0, 3.0, Timestamp('2013-01-02 00:00:00')]], dtype=object)"
      ]
     },
     "execution_count": 46,
     "metadata": {},
     "output_type": "execute_result"
    }
   ],
   "source": [
    "print mixedTypes_df.values[:3,:3] \n",
    "# mixedTypes_df.as_matrix()"
   ]
  },
  {
   "cell_type": "code",
   "execution_count": 47,
   "metadata": {
    "collapsed": false
   },
   "outputs": [
    {
     "data": {
      "text/html": [
       "<div>\n",
       "<table border=\"1\" class=\"dataframe\">\n",
       "  <thead>\n",
       "    <tr style=\"text-align: right;\">\n",
       "      <th></th>\n",
       "      <th>2</th>\n",
       "      <th>3</th>\n",
       "      <th>0</th>\n",
       "      <th>B</th>\n",
       "    </tr>\n",
       "  </thead>\n",
       "  <tbody>\n",
       "    <tr>\n",
       "      <th>1982-11-07</th>\n",
       "      <td>train</td>\n",
       "      <td>NaN</td>\n",
       "      <td>NaN</td>\n",
       "      <td>2013-01-02</td>\n",
       "    </tr>\n",
       "    <tr>\n",
       "      <th>1983-11-07</th>\n",
       "      <td>test</td>\n",
       "      <td>foo</td>\n",
       "      <td>1.0</td>\n",
       "      <td>2013-01-02</td>\n",
       "    </tr>\n",
       "    <tr>\n",
       "      <th>1984-11-07</th>\n",
       "      <td>validate</td>\n",
       "      <td>NaN</td>\n",
       "      <td>1.0</td>\n",
       "      <td>2013-01-02</td>\n",
       "    </tr>\n",
       "    <tr>\n",
       "      <th>1985-11-07</th>\n",
       "      <td>win</td>\n",
       "      <td>foo</td>\n",
       "      <td>1.0</td>\n",
       "      <td>2013-01-02</td>\n",
       "    </tr>\n",
       "  </tbody>\n",
       "</table>\n",
       "</div>"
      ],
      "text/plain": [
       "                   2    3    0          B\n",
       "1982-11-07     train  NaN  NaN 2013-01-02\n",
       "1983-11-07      test  foo  1.0 2013-01-02\n",
       "1984-11-07  validate  NaN  1.0 2013-01-02\n",
       "1985-11-07       win  foo  1.0 2013-01-02"
      ]
     },
     "execution_count": 47,
     "metadata": {},
     "output_type": "execute_result"
    }
   ],
   "source": [
    "# getting columns\n",
    "mixedTypes_df[[2,3,\"0\",\"B\"]]"
   ]
  },
  {
   "cell_type": "code",
   "execution_count": 52,
   "metadata": {
    "collapsed": false
   },
   "outputs": [
    {
     "name": "stdout",
     "output_type": "stream",
     "text": [
      "1983-11-07 00:00:00\n"
     ]
    },
    {
     "data": {
      "text/html": [
       "<div>\n",
       "<table border=\"1\" class=\"dataframe\">\n",
       "  <thead>\n",
       "    <tr style=\"text-align: right;\">\n",
       "      <th></th>\n",
       "      <th>2</th>\n",
       "      <th>3</th>\n",
       "      <th>0</th>\n",
       "      <th>C</th>\n",
       "      <th>B</th>\n",
       "    </tr>\n",
       "  </thead>\n",
       "  <tbody>\n",
       "    <tr>\n",
       "      <th>1982-11-07</th>\n",
       "      <td>train</td>\n",
       "      <td>NaN</td>\n",
       "      <td>NaN</td>\n",
       "      <td>3.0</td>\n",
       "      <td>2013-01-02</td>\n",
       "    </tr>\n",
       "    <tr>\n",
       "      <th>1983-11-07</th>\n",
       "      <td>test</td>\n",
       "      <td>foo</td>\n",
       "      <td>1.0</td>\n",
       "      <td>3.0</td>\n",
       "      <td>2013-01-02</td>\n",
       "    </tr>\n",
       "  </tbody>\n",
       "</table>\n",
       "</div>"
      ],
      "text/plain": [
       "                2    3    0    C          B\n",
       "1982-11-07  train  NaN  NaN  3.0 2013-01-02\n",
       "1983-11-07   test  foo  1.0  3.0 2013-01-02"
      ]
     },
     "execution_count": 52,
     "metadata": {},
     "output_type": "execute_result"
    }
   ],
   "source": [
    "# getting rows\n",
    "print bdays[1]\n",
    "mixedTypes_df[:bdays[1]] # hint: \"slice\""
   ]
  },
  {
   "cell_type": "code",
   "execution_count": 53,
   "metadata": {
    "collapsed": false
   },
   "outputs": [
    {
     "data": {
      "text/html": [
       "<div>\n",
       "<table border=\"1\" class=\"dataframe\">\n",
       "  <thead>\n",
       "    <tr style=\"text-align: right;\">\n",
       "      <th></th>\n",
       "      <th>2</th>\n",
       "      <th>3</th>\n",
       "      <th>0</th>\n",
       "      <th>C</th>\n",
       "      <th>B</th>\n",
       "    </tr>\n",
       "  </thead>\n",
       "  <tbody>\n",
       "    <tr>\n",
       "      <th>1982-11-07</th>\n",
       "      <td>train</td>\n",
       "      <td>NaN</td>\n",
       "      <td>NaN</td>\n",
       "      <td>3.0</td>\n",
       "      <td>2013-01-02</td>\n",
       "    </tr>\n",
       "    <tr>\n",
       "      <th>1983-11-07</th>\n",
       "      <td>test</td>\n",
       "      <td>foo</td>\n",
       "      <td>1.0</td>\n",
       "      <td>3.0</td>\n",
       "      <td>2013-01-02</td>\n",
       "    </tr>\n",
       "    <tr>\n",
       "      <th>1984-11-07</th>\n",
       "      <td>validate</td>\n",
       "      <td>NaN</td>\n",
       "      <td>1.0</td>\n",
       "      <td>3.0</td>\n",
       "      <td>2013-01-02</td>\n",
       "    </tr>\n",
       "    <tr>\n",
       "      <th>1985-11-07</th>\n",
       "      <td>win</td>\n",
       "      <td>foo</td>\n",
       "      <td>1.0</td>\n",
       "      <td>3.0</td>\n",
       "      <td>2013-01-02</td>\n",
       "    </tr>\n",
       "  </tbody>\n",
       "</table>\n",
       "</div>"
      ],
      "text/plain": [
       "                   2    3    0    C          B\n",
       "1982-11-07     train  NaN  NaN  3.0 2013-01-02\n",
       "1983-11-07      test  foo  1.0  3.0 2013-01-02\n",
       "1984-11-07  validate  NaN  1.0  3.0 2013-01-02\n",
       "1985-11-07       win  foo  1.0  3.0 2013-01-02"
      ]
     },
     "execution_count": 53,
     "metadata": {},
     "output_type": "execute_result"
    }
   ],
   "source": [
    "mixedTypes_df"
   ]
  },
  {
   "cell_type": "code",
   "execution_count": 54,
   "metadata": {
    "collapsed": false
   },
   "outputs": [
    {
     "data": {
      "text/html": [
       "<div>\n",
       "<table border=\"1\" class=\"dataframe\">\n",
       "  <thead>\n",
       "    <tr style=\"text-align: right;\">\n",
       "      <th></th>\n",
       "      <th>2</th>\n",
       "      <th>3</th>\n",
       "      <th>0</th>\n",
       "      <th>C</th>\n",
       "      <th>B</th>\n",
       "    </tr>\n",
       "  </thead>\n",
       "  <tbody>\n",
       "    <tr>\n",
       "      <th>1982-11-07</th>\n",
       "      <td>train</td>\n",
       "      <td>NaN</td>\n",
       "      <td>NaN</td>\n",
       "      <td>3.0</td>\n",
       "      <td>2013-01-02</td>\n",
       "    </tr>\n",
       "  </tbody>\n",
       "</table>\n",
       "</div>"
      ],
      "text/plain": [
       "                2    3   0    C          B\n",
       "1982-11-07  train  NaN NaN  3.0 2013-01-02"
      ]
     },
     "execution_count": 54,
     "metadata": {},
     "output_type": "execute_result"
    }
   ],
   "source": [
    "# Quiz 1\n",
    "#-------\n",
    "mixedTypes_df[:1]\n",
    "#mixedTypes_df[2:3]\n",
    "#mixedTypes_df[[2,3]]\n",
    "#mixedTypes_df[2]\n",
    "#mixedTypes_df[1]\n",
    "#mixedTypes_df[0]\n",
    "#mixedTypes_df['0']"
   ]
  },
  {
   "cell_type": "code",
   "execution_count": 55,
   "metadata": {
    "collapsed": false
   },
   "outputs": [
    {
     "data": {
      "text/html": [
       "<div>\n",
       "<table border=\"1\" class=\"dataframe\">\n",
       "  <thead>\n",
       "    <tr style=\"text-align: right;\">\n",
       "      <th></th>\n",
       "      <th>index</th>\n",
       "      <th>2</th>\n",
       "      <th>3</th>\n",
       "      <th>0</th>\n",
       "      <th>C</th>\n",
       "      <th>B</th>\n",
       "    </tr>\n",
       "  </thead>\n",
       "  <tbody>\n",
       "    <tr>\n",
       "      <th>0</th>\n",
       "      <td>1982-11-07</td>\n",
       "      <td>train</td>\n",
       "      <td>NaN</td>\n",
       "      <td>NaN</td>\n",
       "      <td>3.0</td>\n",
       "      <td>2013-01-02</td>\n",
       "    </tr>\n",
       "    <tr>\n",
       "      <th>1</th>\n",
       "      <td>1983-11-07</td>\n",
       "      <td>test</td>\n",
       "      <td>foo</td>\n",
       "      <td>1.0</td>\n",
       "      <td>3.0</td>\n",
       "      <td>2013-01-02</td>\n",
       "    </tr>\n",
       "    <tr>\n",
       "      <th>2</th>\n",
       "      <td>1984-11-07</td>\n",
       "      <td>validate</td>\n",
       "      <td>NaN</td>\n",
       "      <td>1.0</td>\n",
       "      <td>3.0</td>\n",
       "      <td>2013-01-02</td>\n",
       "    </tr>\n",
       "    <tr>\n",
       "      <th>3</th>\n",
       "      <td>1985-11-07</td>\n",
       "      <td>win</td>\n",
       "      <td>foo</td>\n",
       "      <td>1.0</td>\n",
       "      <td>3.0</td>\n",
       "      <td>2013-01-02</td>\n",
       "    </tr>\n",
       "  </tbody>\n",
       "</table>\n",
       "</div>"
      ],
      "text/plain": [
       "       index         2    3    0    C          B\n",
       "0 1982-11-07     train  NaN  NaN  3.0 2013-01-02\n",
       "1 1983-11-07      test  foo  1.0  3.0 2013-01-02\n",
       "2 1984-11-07  validate  NaN  1.0  3.0 2013-01-02\n",
       "3 1985-11-07       win  foo  1.0  3.0 2013-01-02"
      ]
     },
     "execution_count": 55,
     "metadata": {},
     "output_type": "execute_result"
    }
   ],
   "source": [
    "mixedTypes_df = mixedTypes_df.reset_index()\n",
    "mixedTypes_df"
   ]
  },
  {
   "cell_type": "code",
   "execution_count": 61,
   "metadata": {
    "collapsed": false
   },
   "outputs": [
    {
     "data": {
      "text/html": [
       "<div>\n",
       "<table border=\"1\" class=\"dataframe\">\n",
       "  <thead>\n",
       "    <tr style=\"text-align: right;\">\n",
       "      <th></th>\n",
       "      <th>index</th>\n",
       "      <th>2</th>\n",
       "      <th>3</th>\n",
       "      <th>0</th>\n",
       "      <th>C</th>\n",
       "      <th>B</th>\n",
       "    </tr>\n",
       "  </thead>\n",
       "  <tbody>\n",
       "    <tr>\n",
       "      <th>0</th>\n",
       "      <td>1982-11-07</td>\n",
       "      <td>train</td>\n",
       "      <td>NaN</td>\n",
       "      <td>NaN</td>\n",
       "      <td>3.0</td>\n",
       "      <td>2013-01-02</td>\n",
       "    </tr>\n",
       "  </tbody>\n",
       "</table>\n",
       "</div>"
      ],
      "text/plain": [
       "       index      2    3   0    C          B\n",
       "0 1982-11-07  train  NaN NaN  3.0 2013-01-02"
      ]
     },
     "execution_count": 61,
     "metadata": {},
     "output_type": "execute_result"
    }
   ],
   "source": [
    "# Quiz 2\n",
    "#-------\n",
    "\n",
    "mixedTypes_df[:1]\n",
    "#mixedTypes_df[2:3]\n",
    "#mixedTypes_df[[2,3]]\n",
    "#mixedTypes_df[2]\n",
    "#mixedTypes_df[1]\n",
    "#mixedTypes_df[0]\n",
    "#mixedTypes_df['0']"
   ]
  },
  {
   "cell_type": "code",
   "execution_count": 62,
   "metadata": {
    "collapsed": false
   },
   "outputs": [
    {
     "data": {
      "text/html": [
       "<div>\n",
       "<table border=\"1\" class=\"dataframe\">\n",
       "  <thead>\n",
       "    <tr style=\"text-align: right;\">\n",
       "      <th></th>\n",
       "      <th>2</th>\n",
       "      <th>3</th>\n",
       "      <th>0</th>\n",
       "      <th>C</th>\n",
       "      <th>B</th>\n",
       "    </tr>\n",
       "  </thead>\n",
       "  <tbody>\n",
       "    <tr>\n",
       "      <th>1982-11-07</th>\n",
       "      <td>train</td>\n",
       "      <td>NaN</td>\n",
       "      <td>NaN</td>\n",
       "      <td>3.0</td>\n",
       "      <td>2013-01-02</td>\n",
       "    </tr>\n",
       "    <tr>\n",
       "      <th>1983-11-07</th>\n",
       "      <td>test</td>\n",
       "      <td>foo</td>\n",
       "      <td>1.0</td>\n",
       "      <td>3.0</td>\n",
       "      <td>2013-01-02</td>\n",
       "    </tr>\n",
       "    <tr>\n",
       "      <th>1984-11-07</th>\n",
       "      <td>validate</td>\n",
       "      <td>NaN</td>\n",
       "      <td>1.0</td>\n",
       "      <td>3.0</td>\n",
       "      <td>2013-01-02</td>\n",
       "    </tr>\n",
       "    <tr>\n",
       "      <th>1985-11-07</th>\n",
       "      <td>win</td>\n",
       "      <td>foo</td>\n",
       "      <td>1.0</td>\n",
       "      <td>3.0</td>\n",
       "      <td>2013-01-02</td>\n",
       "    </tr>\n",
       "  </tbody>\n",
       "</table>\n",
       "</div>"
      ],
      "text/plain": [
       "                   2    3    0    C          B\n",
       "1982-11-07     train  NaN  NaN  3.0 2013-01-02\n",
       "1983-11-07      test  foo  1.0  3.0 2013-01-02\n",
       "1984-11-07  validate  NaN  1.0  3.0 2013-01-02\n",
       "1985-11-07       win  foo  1.0  3.0 2013-01-02"
      ]
     },
     "execution_count": 62,
     "metadata": {},
     "output_type": "execute_result"
    }
   ],
   "source": [
    "mixedTypes_df = mixedTypes_df.set_index('index')\n",
    "del mixedTypes_df.index.name\n",
    "mixedTypes_df"
   ]
  },
  {
   "cell_type": "markdown",
   "metadata": {
    "slideshow": {
     "slide_type": "subslide"
    }
   },
   "source": [
    "# The *.loc*"
   ]
  },
  {
   "cell_type": "code",
   "execution_count": 68,
   "metadata": {
    "collapsed": false
   },
   "outputs": [
    {
     "data": {
      "text/html": [
       "<div>\n",
       "<table border=\"1\" class=\"dataframe\">\n",
       "  <thead>\n",
       "    <tr style=\"text-align: right;\">\n",
       "      <th></th>\n",
       "      <th>B</th>\n",
       "      <th>C</th>\n",
       "    </tr>\n",
       "  </thead>\n",
       "  <tbody>\n",
       "    <tr>\n",
       "      <th>1983-11-07</th>\n",
       "      <td>2013-01-02</td>\n",
       "      <td>3.0</td>\n",
       "    </tr>\n",
       "    <tr>\n",
       "      <th>1984-11-07</th>\n",
       "      <td>2013-01-02</td>\n",
       "      <td>3.0</td>\n",
       "    </tr>\n",
       "    <tr>\n",
       "      <th>1985-11-07</th>\n",
       "      <td>2013-01-02</td>\n",
       "      <td>3.0</td>\n",
       "    </tr>\n",
       "  </tbody>\n",
       "</table>\n",
       "</div>"
      ],
      "text/plain": [
       "                    B    C\n",
       "1983-11-07 2013-01-02  3.0\n",
       "1984-11-07 2013-01-02  3.0\n",
       "1985-11-07 2013-01-02  3.0"
      ]
     },
     "execution_count": 68,
     "metadata": {},
     "output_type": "execute_result"
    }
   ],
   "source": [
    "mixedTypes_df.loc[bdays[1]:bdays[3],[\"B\",\"C\"]]\n",
    "#mixedTypes_df.loc[[\"B\",\"C\"]] # hint: ,\n",
    "#mixedTypes_df.loc[:,[\"2\",\"3\"]] # hint: \"\n",
    "#mixedTypes_df.loc[:3,[\"B\",\"C\"]] # hint: bdays[3]"
   ]
  },
  {
   "cell_type": "markdown",
   "metadata": {
    "slideshow": {
     "slide_type": "subslide"
    }
   },
   "source": [
    "# The *.iloc*\n",
    "* as opposed to the *.loc*"
   ]
  },
  {
   "cell_type": "code",
   "execution_count": 71,
   "metadata": {
    "collapsed": false
   },
   "outputs": [
    {
     "name": "stdout",
     "output_type": "stream",
     "text": [
      "              0    C\n",
      "1984-11-07  1.0  3.0\n",
      "1985-11-07  1.0  3.0\n"
     ]
    }
   ],
   "source": [
    "#print mixedTypes_df.iloc[:bdays[3],[\"B\",\"C\"]]\n",
    "print mixedTypes_df.iloc[2:4,2:4]"
   ]
  },
  {
   "cell_type": "markdown",
   "metadata": {
    "slideshow": {
     "slide_type": "subslide"
    }
   },
   "source": [
    "# The *.ix*\n",
    "* as opposed(?) to the *.loc* and the *.iloc*"
   ]
  },
  {
   "cell_type": "code",
   "execution_count": 72,
   "metadata": {
    "collapsed": false
   },
   "outputs": [
    {
     "data": {
      "text/html": [
       "<div>\n",
       "<table border=\"1\" class=\"dataframe\">\n",
       "  <thead>\n",
       "    <tr style=\"text-align: right;\">\n",
       "      <th></th>\n",
       "      <th>2</th>\n",
       "      <th>3</th>\n",
       "      <th>0</th>\n",
       "      <th>C</th>\n",
       "      <th>B</th>\n",
       "    </tr>\n",
       "  </thead>\n",
       "  <tbody>\n",
       "    <tr>\n",
       "      <th>1982-11-07</th>\n",
       "      <td>train</td>\n",
       "      <td>NaN</td>\n",
       "      <td>NaN</td>\n",
       "      <td>3.0</td>\n",
       "      <td>2013-01-02</td>\n",
       "    </tr>\n",
       "    <tr>\n",
       "      <th>1983-11-07</th>\n",
       "      <td>test</td>\n",
       "      <td>foo</td>\n",
       "      <td>1.0</td>\n",
       "      <td>3.0</td>\n",
       "      <td>2013-01-02</td>\n",
       "    </tr>\n",
       "    <tr>\n",
       "      <th>1984-11-07</th>\n",
       "      <td>validate</td>\n",
       "      <td>NaN</td>\n",
       "      <td>1.0</td>\n",
       "      <td>3.0</td>\n",
       "      <td>2013-01-02</td>\n",
       "    </tr>\n",
       "    <tr>\n",
       "      <th>1985-11-07</th>\n",
       "      <td>win</td>\n",
       "      <td>foo</td>\n",
       "      <td>1.0</td>\n",
       "      <td>3.0</td>\n",
       "      <td>2013-01-02</td>\n",
       "    </tr>\n",
       "  </tbody>\n",
       "</table>\n",
       "</div>"
      ],
      "text/plain": [
       "                   2    3    0    C          B\n",
       "1982-11-07     train  NaN  NaN  3.0 2013-01-02\n",
       "1983-11-07      test  foo  1.0  3.0 2013-01-02\n",
       "1984-11-07  validate  NaN  1.0  3.0 2013-01-02\n",
       "1985-11-07       win  foo  1.0  3.0 2013-01-02"
      ]
     },
     "execution_count": 72,
     "metadata": {},
     "output_type": "execute_result"
    }
   ],
   "source": [
    "mixedTypes_df"
   ]
  },
  {
   "cell_type": "code",
   "execution_count": 73,
   "metadata": {
    "collapsed": false
   },
   "outputs": [
    {
     "name": "stdout",
     "output_type": "stream",
     "text": [
      "              3    0\n",
      "1982-11-07  NaN  NaN\n",
      "1983-11-07  foo  1.0\n",
      "1984-11-07  NaN  1.0\n",
      "\n",
      "              3    0\n",
      "1982-11-07  NaN  NaN\n",
      "1983-11-07  foo  1.0\n",
      "1984-11-07  NaN  1.0\n",
      "1985-11-07  foo  1.0\n",
      "\n",
      "                    B    C\n",
      "1982-11-07 2013-01-02  3.0\n",
      "1983-11-07 2013-01-02  3.0\n",
      "1984-11-07 2013-01-02  3.0\n",
      "\n",
      "                   2    3\n",
      "1982-11-07     train  NaN\n",
      "1983-11-07      test  foo\n",
      "1984-11-07  validate  NaN\n",
      "1985-11-07       win  foo\n"
     ]
    }
   ],
   "source": [
    "print mixedTypes_df.ix[:3,1:3]\n",
    "print \"\"\n",
    "print mixedTypes_df.ix[:bdays[3],1:3]\n",
    "print \"\"\n",
    "print mixedTypes_df.ix[:3,['B','C']]\n",
    "print \"\"\n",
    "print mixedTypes_df.ix[:bdays[3],[2,3]]"
   ]
  },
  {
   "cell_type": "markdown",
   "metadata": {
    "slideshow": {
     "slide_type": "subslide"
    }
   },
   "source": [
    "# The *.at/.iat*?\n",
    "* gets you a single scalar. fast."
   ]
  },
  {
   "cell_type": "markdown",
   "metadata": {
    "slideshow": {
     "slide_type": "subslide"
    }
   },
   "source": [
    "# Pandas talks to all sorts of data types\n",
    "## SQL, csv, .xlsx, pickle, etc.\n",
    "* http://pandas.pydata.org/pandas-docs/stable/io.html\n",
    "* https://docs.python.org/2/library/pickle.html"
   ]
  },
  {
   "cell_type": "code",
   "execution_count": 74,
   "metadata": {
    "collapsed": false
   },
   "outputs": [
    {
     "data": {
      "text/html": [
       "<div>\n",
       "<table border=\"1\" class=\"dataframe\">\n",
       "  <thead>\n",
       "    <tr style=\"text-align: right;\">\n",
       "      <th></th>\n",
       "      <th>schoolID</th>\n",
       "      <th>schoolName</th>\n",
       "      <th>schoolCity</th>\n",
       "      <th>schoolState</th>\n",
       "      <th>schoolNick</th>\n",
       "    </tr>\n",
       "  </thead>\n",
       "  <tbody>\n",
       "    <tr>\n",
       "      <th>0</th>\n",
       "      <td>abilchrist</td>\n",
       "      <td>Abilene Christian University</td>\n",
       "      <td>Abilene</td>\n",
       "      <td>TX</td>\n",
       "      <td>Wildcats</td>\n",
       "    </tr>\n",
       "    <tr>\n",
       "      <th>1</th>\n",
       "      <td>adelphi</td>\n",
       "      <td>Adelphi University</td>\n",
       "      <td>Garden City</td>\n",
       "      <td>NY</td>\n",
       "      <td>Panthers</td>\n",
       "    </tr>\n",
       "    <tr>\n",
       "      <th>2</th>\n",
       "      <td>adrianmi</td>\n",
       "      <td>Adrian College</td>\n",
       "      <td>Adrian</td>\n",
       "      <td>MI</td>\n",
       "      <td>Bulldogs</td>\n",
       "    </tr>\n",
       "    <tr>\n",
       "      <th>3</th>\n",
       "      <td>airforce</td>\n",
       "      <td>United States Air Force Academy</td>\n",
       "      <td>Colorado Springs</td>\n",
       "      <td>CO</td>\n",
       "      <td>Falcons</td>\n",
       "    </tr>\n",
       "    <tr>\n",
       "      <th>4</th>\n",
       "      <td>akron</td>\n",
       "      <td>University of Akron</td>\n",
       "      <td>Akron</td>\n",
       "      <td>OH</td>\n",
       "      <td>Zips</td>\n",
       "    </tr>\n",
       "  </tbody>\n",
       "</table>\n",
       "</div>"
      ],
      "text/plain": [
       "     schoolID                       schoolName        schoolCity schoolState  \\\n",
       "0  abilchrist     Abilene Christian University           Abilene          TX   \n",
       "1     adelphi               Adelphi University       Garden City          NY   \n",
       "2    adrianmi                   Adrian College            Adrian          MI   \n",
       "3    airforce  United States Air Force Academy  Colorado Springs          CO   \n",
       "4       akron              University of Akron             Akron          OH   \n",
       "\n",
       "  schoolNick  \n",
       "0   Wildcats  \n",
       "1   Panthers  \n",
       "2   Bulldogs  \n",
       "3    Falcons  \n",
       "4       Zips  "
      ]
     },
     "execution_count": 74,
     "metadata": {},
     "output_type": "execute_result"
    }
   ],
   "source": [
    "Schools_df = pd.read_csv(\"stuff/Schools.csv\")\n",
    "Schools_df.head()"
   ]
  },
  {
   "cell_type": "markdown",
   "metadata": {
    "slideshow": {
     "slide_type": "subslide"
    }
   },
   "source": [
    "# Applying functions to Data\n",
    "## A.K.A., transforming data, doing stuff to data, etc.\n",
    "<br>\n",
    "$$\\LARGE \\text{NumPy Array} \\subset \\text{Pandas Series} \\subset \\text{Pandas DataFrame}$$\n",
    "\n",
    "* http://pandas.pydata.org/pandas-docs/stable/basics.html#descriptive-statistics"
   ]
  },
  {
   "cell_type": "markdown",
   "metadata": {
    "slideshow": {
     "slide_type": "subslide"
    }
   },
   "source": [
    "# Filtering (i.e., row selecting or boolean indexing)"
   ]
  },
  {
   "cell_type": "code",
   "execution_count": 75,
   "metadata": {
    "collapsed": false
   },
   "outputs": [
    {
     "data": {
      "text/html": [
       "<div>\n",
       "<table border=\"1\" class=\"dataframe\">\n",
       "  <thead>\n",
       "    <tr style=\"text-align: right;\">\n",
       "      <th></th>\n",
       "      <th>schoolID</th>\n",
       "      <th>schoolName</th>\n",
       "      <th>schoolCity</th>\n",
       "      <th>schoolState</th>\n",
       "      <th>schoolNick</th>\n",
       "    </tr>\n",
       "  </thead>\n",
       "  <tbody>\n",
       "    <tr>\n",
       "      <th>131</th>\n",
       "      <td>concrdiatx</td>\n",
       "      <td>Concordia University at Austin</td>\n",
       "      <td>Austin</td>\n",
       "      <td>TX</td>\n",
       "      <td>Tornados</td>\n",
       "    </tr>\n",
       "    <tr>\n",
       "      <th>180</th>\n",
       "      <td>etxbaptist</td>\n",
       "      <td>East Texas Baptist University</td>\n",
       "      <td>Marshall</td>\n",
       "      <td>TX</td>\n",
       "      <td>Tigers</td>\n",
       "    </tr>\n",
       "    <tr>\n",
       "      <th>565</th>\n",
       "      <td>stedwardtx</td>\n",
       "      <td>St. Edward's University</td>\n",
       "      <td>Austin</td>\n",
       "      <td>TX</td>\n",
       "      <td>Hilltoppers</td>\n",
       "    </tr>\n",
       "    <tr>\n",
       "      <th>618</th>\n",
       "      <td>trinitytx</td>\n",
       "      <td>Trinity University</td>\n",
       "      <td>San Antonio</td>\n",
       "      <td>TX</td>\n",
       "      <td>Tigers</td>\n",
       "    </tr>\n",
       "    <tr>\n",
       "      <th>628</th>\n",
       "      <td>txsouth</td>\n",
       "      <td>Texas Southern University</td>\n",
       "      <td>Houston</td>\n",
       "      <td>TX</td>\n",
       "      <td>Tigers</td>\n",
       "    </tr>\n",
       "  </tbody>\n",
       "</table>\n",
       "</div>"
      ],
      "text/plain": [
       "       schoolID                      schoolName   schoolCity schoolState  \\\n",
       "131  concrdiatx  Concordia University at Austin       Austin          TX   \n",
       "180  etxbaptist   East Texas Baptist University     Marshall          TX   \n",
       "565  stedwardtx         St. Edward's University       Austin          TX   \n",
       "618   trinitytx              Trinity University  San Antonio          TX   \n",
       "628     txsouth       Texas Southern University      Houston          TX   \n",
       "\n",
       "      schoolNick  \n",
       "131     Tornados  \n",
       "180       Tigers  \n",
       "565  Hilltoppers  \n",
       "618       Tigers  \n",
       "628       Tigers  "
      ]
     },
     "execution_count": 75,
     "metadata": {},
     "output_type": "execute_result"
    }
   ],
   "source": [
    "# & | ~ == != VERSUS and or not equals\n",
    "\n",
    "Schools_df[(Schools_df.schoolState.isin([\"TX\"]) & Schools_df.schoolNick.str.contains(\"Tigers\")) \n",
    "           | ((Schools_df.schoolCity.astype(str) == \"Austin\") & \n",
    "              (Schools_df[\"schoolName\"].astype(str) != \"University of Texas at Austin\")) ]"
   ]
  },
  {
   "cell_type": "code",
   "execution_count": 76,
   "metadata": {
    "collapsed": false
   },
   "outputs": [
    {
     "name": "stdout",
     "output_type": "stream",
     "text": [
      "                         schoolName   schoolNick\n",
      "131  Concordia University at Austin     Tornados\n",
      "180   East Texas Baptist University       Tigers\n",
      "565         St. Edward's University  Hilltoppers\n",
      "618              Trinity University       Tigers\n",
      "628       Texas Southern University       Tigers\n",
      "\n",
      "                         schoolName   schoolCity schoolState   schoolNick\n",
      "131  Concordia University at Austin       Austin          TX     Tornados\n",
      "180   East Texas Baptist University     Marshall          TX       Tigers\n",
      "565         St. Edward's University       Austin          TX  Hilltoppers\n",
      "618              Trinity University  San Antonio          TX       Tigers\n",
      "628       Texas Southern University      Houston          TX       Tigers\n",
      "\n"
     ]
    },
    {
     "ename": "NotImplementedError",
     "evalue": "iLocation based boolean indexing on an integer type is not available",
     "output_type": "error",
     "traceback": [
      "\u001b[0;31m---------------------------------------------------------------------------\u001b[0m",
      "\u001b[0;31mNotImplementedError\u001b[0m                       Traceback (most recent call last)",
      "\u001b[0;32m<ipython-input-76-ce61b25ab964>\u001b[0m in \u001b[0;36m<module>\u001b[0;34m()\u001b[0m\n\u001b[1;32m      5\u001b[0m \u001b[0;32mprint\u001b[0m \u001b[0mSchools_df\u001b[0m\u001b[0;34m.\u001b[0m\u001b[0mloc\u001b[0m\u001b[0;34m[\u001b[0m\u001b[0mkp\u001b[0m\u001b[0;34m,\u001b[0m \u001b[0;34m\"schoolName\"\u001b[0m\u001b[0;34m:\u001b[0m\u001b[0;34m\"schoolNick\"\u001b[0m\u001b[0;34m]\u001b[0m\u001b[0;34m\u001b[0m\u001b[0m\n\u001b[1;32m      6\u001b[0m \u001b[0;32mprint\u001b[0m \u001b[0;34m\"\"\u001b[0m\u001b[0;34m\u001b[0m\u001b[0m\n\u001b[0;32m----> 7\u001b[0;31m \u001b[0;32mprint\u001b[0m \u001b[0mSchools_df\u001b[0m\u001b[0;34m.\u001b[0m\u001b[0miloc\u001b[0m\u001b[0;34m[\u001b[0m\u001b[0mkp\u001b[0m \u001b[0;34m,\u001b[0m\u001b[0;36m1\u001b[0m\u001b[0;34m:\u001b[0m\u001b[0;36m2\u001b[0m\u001b[0;34m]\u001b[0m\u001b[0;34m\u001b[0m\u001b[0m\n\u001b[0m",
      "\u001b[0;32m/Users/schwarls37/anaconda/lib/python2.7/site-packages/pandas/core/indexing.pyc\u001b[0m in \u001b[0;36m__getitem__\u001b[0;34m(self, key)\u001b[0m\n\u001b[1;32m   1292\u001b[0m \u001b[0;34m\u001b[0m\u001b[0m\n\u001b[1;32m   1293\u001b[0m         \u001b[0;32mif\u001b[0m \u001b[0mtype\u001b[0m\u001b[0;34m(\u001b[0m\u001b[0mkey\u001b[0m\u001b[0;34m)\u001b[0m \u001b[0;32mis\u001b[0m \u001b[0mtuple\u001b[0m\u001b[0;34m:\u001b[0m\u001b[0;34m\u001b[0m\u001b[0m\n\u001b[0;32m-> 1294\u001b[0;31m             \u001b[0;32mreturn\u001b[0m \u001b[0mself\u001b[0m\u001b[0;34m.\u001b[0m\u001b[0m_getitem_tuple\u001b[0m\u001b[0;34m(\u001b[0m\u001b[0mkey\u001b[0m\u001b[0;34m)\u001b[0m\u001b[0;34m\u001b[0m\u001b[0m\n\u001b[0m\u001b[1;32m   1295\u001b[0m         \u001b[0;32melse\u001b[0m\u001b[0;34m:\u001b[0m\u001b[0;34m\u001b[0m\u001b[0m\n\u001b[1;32m   1296\u001b[0m             \u001b[0;32mreturn\u001b[0m \u001b[0mself\u001b[0m\u001b[0;34m.\u001b[0m\u001b[0m_getitem_axis\u001b[0m\u001b[0;34m(\u001b[0m\u001b[0mkey\u001b[0m\u001b[0;34m,\u001b[0m \u001b[0maxis\u001b[0m\u001b[0;34m=\u001b[0m\u001b[0;36m0\u001b[0m\u001b[0;34m)\u001b[0m\u001b[0;34m\u001b[0m\u001b[0m\n",
      "\u001b[0;32m/Users/schwarls37/anaconda/lib/python2.7/site-packages/pandas/core/indexing.pyc\u001b[0m in \u001b[0;36m_getitem_tuple\u001b[0;34m(self, tup)\u001b[0m\n\u001b[1;32m   1542\u001b[0m     \u001b[0;32mdef\u001b[0m \u001b[0m_getitem_tuple\u001b[0m\u001b[0;34m(\u001b[0m\u001b[0mself\u001b[0m\u001b[0;34m,\u001b[0m \u001b[0mtup\u001b[0m\u001b[0;34m)\u001b[0m\u001b[0;34m:\u001b[0m\u001b[0;34m\u001b[0m\u001b[0m\n\u001b[1;32m   1543\u001b[0m \u001b[0;34m\u001b[0m\u001b[0m\n\u001b[0;32m-> 1544\u001b[0;31m         \u001b[0mself\u001b[0m\u001b[0;34m.\u001b[0m\u001b[0m_has_valid_tuple\u001b[0m\u001b[0;34m(\u001b[0m\u001b[0mtup\u001b[0m\u001b[0;34m)\u001b[0m\u001b[0;34m\u001b[0m\u001b[0m\n\u001b[0m\u001b[1;32m   1545\u001b[0m         \u001b[0;32mtry\u001b[0m\u001b[0;34m:\u001b[0m\u001b[0;34m\u001b[0m\u001b[0m\n\u001b[1;32m   1546\u001b[0m             \u001b[0;32mreturn\u001b[0m \u001b[0mself\u001b[0m\u001b[0;34m.\u001b[0m\u001b[0m_getitem_lowerdim\u001b[0m\u001b[0;34m(\u001b[0m\u001b[0mtup\u001b[0m\u001b[0;34m)\u001b[0m\u001b[0;34m\u001b[0m\u001b[0m\n",
      "\u001b[0;32m/Users/schwarls37/anaconda/lib/python2.7/site-packages/pandas/core/indexing.pyc\u001b[0m in \u001b[0;36m_has_valid_tuple\u001b[0;34m(self, key)\u001b[0m\n\u001b[1;32m    140\u001b[0m             \u001b[0;32mif\u001b[0m \u001b[0mi\u001b[0m \u001b[0;34m>=\u001b[0m \u001b[0mself\u001b[0m\u001b[0;34m.\u001b[0m\u001b[0mobj\u001b[0m\u001b[0;34m.\u001b[0m\u001b[0mndim\u001b[0m\u001b[0;34m:\u001b[0m\u001b[0;34m\u001b[0m\u001b[0m\n\u001b[1;32m    141\u001b[0m                 \u001b[0;32mraise\u001b[0m \u001b[0mIndexingError\u001b[0m\u001b[0;34m(\u001b[0m\u001b[0;34m'Too many indexers'\u001b[0m\u001b[0;34m)\u001b[0m\u001b[0;34m\u001b[0m\u001b[0m\n\u001b[0;32m--> 142\u001b[0;31m             \u001b[0;32mif\u001b[0m \u001b[0;32mnot\u001b[0m \u001b[0mself\u001b[0m\u001b[0;34m.\u001b[0m\u001b[0m_has_valid_type\u001b[0m\u001b[0;34m(\u001b[0m\u001b[0mk\u001b[0m\u001b[0;34m,\u001b[0m \u001b[0mi\u001b[0m\u001b[0;34m)\u001b[0m\u001b[0;34m:\u001b[0m\u001b[0;34m\u001b[0m\u001b[0m\n\u001b[0m\u001b[1;32m    143\u001b[0m                 raise ValueError(\"Location based indexing can only have [%s] \"\n\u001b[1;32m    144\u001b[0m                                  \"types\" % self._valid_types)\n",
      "\u001b[0;32m/Users/schwarls37/anaconda/lib/python2.7/site-packages/pandas/core/indexing.pyc\u001b[0m in \u001b[0;36m_has_valid_type\u001b[0;34m(self, key, axis)\u001b[0m\n\u001b[1;32m   1500\u001b[0m             \u001b[0;32mif\u001b[0m \u001b[0mhasattr\u001b[0m\u001b[0;34m(\u001b[0m\u001b[0mkey\u001b[0m\u001b[0;34m,\u001b[0m \u001b[0;34m'index'\u001b[0m\u001b[0;34m)\u001b[0m \u001b[0;32mand\u001b[0m \u001b[0misinstance\u001b[0m\u001b[0;34m(\u001b[0m\u001b[0mkey\u001b[0m\u001b[0;34m.\u001b[0m\u001b[0mindex\u001b[0m\u001b[0;34m,\u001b[0m \u001b[0mIndex\u001b[0m\u001b[0;34m)\u001b[0m\u001b[0;34m:\u001b[0m\u001b[0;34m\u001b[0m\u001b[0m\n\u001b[1;32m   1501\u001b[0m                 \u001b[0;32mif\u001b[0m \u001b[0mkey\u001b[0m\u001b[0;34m.\u001b[0m\u001b[0mindex\u001b[0m\u001b[0;34m.\u001b[0m\u001b[0minferred_type\u001b[0m \u001b[0;34m==\u001b[0m \u001b[0;34m'integer'\u001b[0m\u001b[0;34m:\u001b[0m\u001b[0;34m\u001b[0m\u001b[0m\n\u001b[0;32m-> 1502\u001b[0;31m                     raise NotImplementedError(\"iLocation based boolean \"\n\u001b[0m\u001b[1;32m   1503\u001b[0m                                               \u001b[0;34m\"indexing on an integer type \"\u001b[0m\u001b[0;34m\u001b[0m\u001b[0m\n\u001b[1;32m   1504\u001b[0m                                               \"is not available\")\n",
      "\u001b[0;31mNotImplementedError\u001b[0m: iLocation based boolean indexing on an integer type is not available"
     ]
    }
   ],
   "source": [
    "kp = (Schools_df.schoolState.isin([\"TX\"]) & Schools_df.schoolNick.str.contains(\"Tigers\")) | \\\n",
    "    ((Schools_df.schoolCity.astype(str) == \"Austin\") & ~(Schools_df.schoolName.astype(str) == \"University of Texas at Austin\"))\n",
    "\n",
    "print Schools_df.ix[kp, [\"schoolName\",\"schoolNick\"]]\n",
    "print \"\"\n",
    "print Schools_df.loc[kp, \"schoolName\":\"schoolNick\"]\n",
    "print \"\"\n",
    "print Schools_df.iloc[kp ,1:2]"
   ]
  },
  {
   "cell_type": "code",
   "execution_count": 77,
   "metadata": {
    "collapsed": false
   },
   "outputs": [
    {
     "data": {
      "text/html": [
       "<div>\n",
       "<table border=\"1\" class=\"dataframe\">\n",
       "  <thead>\n",
       "    <tr style=\"text-align: right;\">\n",
       "      <th></th>\n",
       "      <th>0</th>\n",
       "      <th>1</th>\n",
       "      <th>2</th>\n",
       "      <th>3</th>\n",
       "      <th>4</th>\n",
       "      <th>5</th>\n",
       "      <th>6</th>\n",
       "      <th>7</th>\n",
       "    </tr>\n",
       "  </thead>\n",
       "  <tbody>\n",
       "    <tr>\n",
       "      <th>0</th>\n",
       "      <td>Wildcats</td>\n",
       "      <td>Kangaroos</td>\n",
       "      <td>Bears</td>\n",
       "      <td>Tornados</td>\n",
       "      <td>Patriots</td>\n",
       "      <td>Tigers</td>\n",
       "      <td>Cowboys</td>\n",
       "      <td>Huskies</td>\n",
       "    </tr>\n",
       "    <tr>\n",
       "      <th>1</th>\n",
       "      <td>Cougars</td>\n",
       "      <td>Yellow Jackets</td>\n",
       "      <td>Cardinals</td>\n",
       "      <td>Chaparrals</td>\n",
       "      <td>Crusaders</td>\n",
       "      <td>Mean Green</td>\n",
       "      <td>Panthers</td>\n",
       "      <td>Owls</td>\n",
       "    </tr>\n",
       "    <tr>\n",
       "      <th>2</th>\n",
       "      <td>Bearkats</td>\n",
       "      <td>Mountaineers</td>\n",
       "      <td>Lumberjacks</td>\n",
       "      <td>Mustangs</td>\n",
       "      <td>Hilltoppers</td>\n",
       "      <td>Rattlers</td>\n",
       "      <td>Lobos</td>\n",
       "      <td>Pirates</td>\n",
       "    </tr>\n",
       "    <tr>\n",
       "      <th>3</th>\n",
       "      <td>Bobcats</td>\n",
       "      <td>Islanders</td>\n",
       "      <td>Lions</td>\n",
       "      <td>Javelinas</td>\n",
       "      <td>Texans</td>\n",
       "      <td>Longhorns</td>\n",
       "      <td>Aggies</td>\n",
       "      <td>Tigers</td>\n",
       "    </tr>\n",
       "    <tr>\n",
       "      <th>4</th>\n",
       "      <td>Horned Frogs</td>\n",
       "      <td>Tigers</td>\n",
       "      <td>Red Raiders</td>\n",
       "      <td>Rams</td>\n",
       "      <td>Mavericks</td>\n",
       "      <td>Miners</td>\n",
       "      <td>Broncs</td>\n",
       "      <td>Roadrunners</td>\n",
       "    </tr>\n",
       "  </tbody>\n",
       "</table>\n",
       "</div>"
      ],
      "text/plain": [
       "              0               1            2           3            4  \\\n",
       "0      Wildcats       Kangaroos        Bears    Tornados     Patriots   \n",
       "1       Cougars  Yellow Jackets    Cardinals  Chaparrals    Crusaders   \n",
       "2      Bearkats    Mountaineers  Lumberjacks    Mustangs  Hilltoppers   \n",
       "3       Bobcats       Islanders        Lions   Javelinas       Texans   \n",
       "4  Horned Frogs          Tigers  Red Raiders        Rams    Mavericks   \n",
       "\n",
       "            5         6            7  \n",
       "0      Tigers   Cowboys      Huskies  \n",
       "1  Mean Green  Panthers         Owls  \n",
       "2    Rattlers     Lobos      Pirates  \n",
       "3   Longhorns    Aggies       Tigers  \n",
       "4      Miners    Broncs  Roadrunners  "
      ]
     },
     "execution_count": 77,
     "metadata": {},
     "output_type": "execute_result"
    }
   ],
   "source": [
    "pd.DataFrame(Schools_df[Schools_df.schoolNick.notnull() & Schools_df.schoolState.isin([\"TX\"])].schoolNick.reshape(5,8))"
   ]
  },
  {
   "cell_type": "markdown",
   "metadata": {
    "slideshow": {
     "slide_type": "subslide"
    }
   },
   "source": [
    "# Managing Missing Values\n",
    "* http://pandas.pydata.org/pandas-docs/stable/missing_data.html"
   ]
  },
  {
   "cell_type": "code",
   "execution_count": 78,
   "metadata": {
    "collapsed": false
   },
   "outputs": [
    {
     "name": "stdout",
     "output_type": "stream",
     "text": [
      "                   2    3    0    C          B\n",
      "1982-11-07     train  NaN  NaN  3.0 2013-01-02\n",
      "1983-11-07      test  foo  1.0  3.0 2013-01-02\n",
      "1984-11-07  validate  NaN  1.0  3.0 2013-01-02\n",
      "1985-11-07       win  foo  1.0  3.0 2013-01-02\n",
      "\n",
      "               2    3    0    C          B\n",
      "1983-11-07  test  foo  1.0  3.0 2013-01-02\n",
      "1985-11-07   win  foo  1.0  3.0 2013-01-02\n",
      "\n",
      "                   2    3    0    C          B\n",
      "1982-11-07     train  NaN  NaN  3.0 2013-01-02\n",
      "1983-11-07      test  foo  1.0  3.0 2013-01-02\n",
      "1984-11-07  validate  NaN  1.0  3.0 2013-01-02\n",
      "1985-11-07       win  foo  1.0  3.0 2013-01-02\n"
     ]
    }
   ],
   "source": [
    "print mixedTypes_df\n",
    "print \"\"\n",
    "print mixedTypes_df.dropna(how='any') # subset=['0'], inplace=True\n",
    "print \"\"\n",
    "print mixedTypes_df"
   ]
  },
  {
   "cell_type": "code",
   "execution_count": 79,
   "metadata": {
    "collapsed": false
   },
   "outputs": [
    {
     "name": "stdout",
     "output_type": "stream",
     "text": [
      "                   2           3    0    C          B\n",
      "1982-11-07     train  I pity the  NaN  3.0 2013-01-02\n",
      "1983-11-07      test         foo  1.0  3.0 2013-01-02\n",
      "1984-11-07  validate  I pity the  1.0  3.0 2013-01-02\n",
      "1985-11-07       win         foo  1.0  3.0 2013-01-02\n"
     ]
    }
   ],
   "source": [
    "mixedTypes_df[3]= mixedTypes_df[3].fillna(value=\"I pity the\")\n",
    "print mixedTypes_df"
   ]
  },
  {
   "cell_type": "markdown",
   "metadata": {
    "slideshow": {
     "slide_type": "subslide"
    }
   },
   "source": [
    "# Group By\n",
    "* Aggregate, Apply\n",
    "* http://pandas.pydata.org/pandas-docs/stable/groupby.html"
   ]
  },
  {
   "cell_type": "code",
   "execution_count": 82,
   "metadata": {
    "collapsed": false
   },
   "outputs": [
    {
     "data": {
      "text/html": [
       "<div>\n",
       "<table border=\"1\" class=\"dataframe\">\n",
       "  <thead>\n",
       "    <tr style=\"text-align: right;\">\n",
       "      <th></th>\n",
       "      <th>schoolID</th>\n",
       "    </tr>\n",
       "    <tr>\n",
       "      <th>schoolState</th>\n",
       "      <th></th>\n",
       "    </tr>\n",
       "  </thead>\n",
       "  <tbody>\n",
       "    <tr>\n",
       "      <th>AL</th>\n",
       "      <td>18</td>\n",
       "    </tr>\n",
       "    <tr>\n",
       "      <th>AR</th>\n",
       "      <td>15</td>\n",
       "    </tr>\n",
       "    <tr>\n",
       "      <th>AZ</th>\n",
       "      <td>4</td>\n",
       "    </tr>\n",
       "    <tr>\n",
       "      <th>CA</th>\n",
       "      <td>48</td>\n",
       "    </tr>\n",
       "    <tr>\n",
       "      <th>CO</th>\n",
       "      <td>7</td>\n",
       "    </tr>\n",
       "  </tbody>\n",
       "</table>\n",
       "</div>"
      ],
      "text/plain": [
       "             schoolID\n",
       "schoolState          \n",
       "AL                 18\n",
       "AR                 15\n",
       "AZ                  4\n",
       "CA                 48\n",
       "CO                  7"
      ]
     },
     "execution_count": 82,
     "metadata": {},
     "output_type": "execute_result"
    }
   ],
   "source": [
    "Schools_df.groupby(['schoolState'])[['schoolID']].count().head()\n",
    "#Schools_df.schoolState.value_counts()"
   ]
  },
  {
   "cell_type": "markdown",
   "metadata": {
    "slideshow": {
     "slide_type": "subslide"
    }
   },
   "source": [
    "# Pivot Tables\n",
    "* http://pandas.pydata.org/pandas-docs/version/0.15.2/reshaping.html#pivot-tables-and-cross-tabulations"
   ]
  },
  {
   "cell_type": "code",
   "execution_count": 103,
   "metadata": {
    "collapsed": false
   },
   "outputs": [
    {
     "data": {
      "text/html": [
       "<div>\n",
       "<table border=\"1\" class=\"dataframe\">\n",
       "  <thead>\n",
       "    <tr style=\"text-align: right;\">\n",
       "      <th>schoolState</th>\n",
       "      <th>IN</th>\n",
       "      <th>KS</th>\n",
       "      <th>KY</th>\n",
       "      <th>LA</th>\n",
       "      <th>MA</th>\n",
       "      <th>MD</th>\n",
       "      <th>ME</th>\n",
       "      <th>MI</th>\n",
       "      <th>MN</th>\n",
       "      <th>MO</th>\n",
       "      <th>...</th>\n",
       "      <th>OK</th>\n",
       "      <th>OR</th>\n",
       "      <th>PA</th>\n",
       "      <th>RI</th>\n",
       "      <th>SC</th>\n",
       "      <th>SD</th>\n",
       "      <th>TN</th>\n",
       "      <th>TX</th>\n",
       "      <th>UT</th>\n",
       "      <th>VA</th>\n",
       "    </tr>\n",
       "    <tr>\n",
       "      <th>schoolNick</th>\n",
       "      <th></th>\n",
       "      <th></th>\n",
       "      <th></th>\n",
       "      <th></th>\n",
       "      <th></th>\n",
       "      <th></th>\n",
       "      <th></th>\n",
       "      <th></th>\n",
       "      <th></th>\n",
       "      <th></th>\n",
       "      <th></th>\n",
       "      <th></th>\n",
       "      <th></th>\n",
       "      <th></th>\n",
       "      <th></th>\n",
       "      <th></th>\n",
       "      <th></th>\n",
       "      <th></th>\n",
       "      <th></th>\n",
       "      <th></th>\n",
       "      <th></th>\n",
       "    </tr>\n",
       "  </thead>\n",
       "  <tbody>\n",
       "    <tr>\n",
       "      <th>Tigers</th>\n",
       "      <td>1</td>\n",
       "      <td>1</td>\n",
       "      <td>1</td>\n",
       "      <td>2</td>\n",
       "      <td>0</td>\n",
       "      <td>1</td>\n",
       "      <td>0</td>\n",
       "      <td>0</td>\n",
       "      <td>0</td>\n",
       "      <td>1</td>\n",
       "      <td>...</td>\n",
       "      <td>1</td>\n",
       "      <td>0</td>\n",
       "      <td>0</td>\n",
       "      <td>0</td>\n",
       "      <td>1</td>\n",
       "      <td>0</td>\n",
       "      <td>3</td>\n",
       "      <td>3</td>\n",
       "      <td>0</td>\n",
       "      <td>1</td>\n",
       "    </tr>\n",
       "    <tr>\n",
       "      <th>Timberwolves</th>\n",
       "      <td>0</td>\n",
       "      <td>0</td>\n",
       "      <td>0</td>\n",
       "      <td>0</td>\n",
       "      <td>0</td>\n",
       "      <td>0</td>\n",
       "      <td>0</td>\n",
       "      <td>1</td>\n",
       "      <td>0</td>\n",
       "      <td>0</td>\n",
       "      <td>...</td>\n",
       "      <td>0</td>\n",
       "      <td>0</td>\n",
       "      <td>0</td>\n",
       "      <td>0</td>\n",
       "      <td>0</td>\n",
       "      <td>0</td>\n",
       "      <td>0</td>\n",
       "      <td>0</td>\n",
       "      <td>0</td>\n",
       "      <td>0</td>\n",
       "    </tr>\n",
       "    <tr>\n",
       "      <th>Titans</th>\n",
       "      <td>0</td>\n",
       "      <td>0</td>\n",
       "      <td>0</td>\n",
       "      <td>0</td>\n",
       "      <td>0</td>\n",
       "      <td>0</td>\n",
       "      <td>0</td>\n",
       "      <td>1</td>\n",
       "      <td>0</td>\n",
       "      <td>0</td>\n",
       "      <td>...</td>\n",
       "      <td>0</td>\n",
       "      <td>0</td>\n",
       "      <td>1</td>\n",
       "      <td>0</td>\n",
       "      <td>0</td>\n",
       "      <td>0</td>\n",
       "      <td>0</td>\n",
       "      <td>0</td>\n",
       "      <td>0</td>\n",
       "      <td>0</td>\n",
       "    </tr>\n",
       "    <tr>\n",
       "      <th>Tomcats</th>\n",
       "      <td>0</td>\n",
       "      <td>0</td>\n",
       "      <td>0</td>\n",
       "      <td>0</td>\n",
       "      <td>0</td>\n",
       "      <td>0</td>\n",
       "      <td>0</td>\n",
       "      <td>0</td>\n",
       "      <td>0</td>\n",
       "      <td>0</td>\n",
       "      <td>...</td>\n",
       "      <td>0</td>\n",
       "      <td>0</td>\n",
       "      <td>1</td>\n",
       "      <td>0</td>\n",
       "      <td>0</td>\n",
       "      <td>0</td>\n",
       "      <td>0</td>\n",
       "      <td>0</td>\n",
       "      <td>0</td>\n",
       "      <td>0</td>\n",
       "    </tr>\n",
       "    <tr>\n",
       "      <th>Tommies</th>\n",
       "      <td>0</td>\n",
       "      <td>0</td>\n",
       "      <td>0</td>\n",
       "      <td>0</td>\n",
       "      <td>0</td>\n",
       "      <td>0</td>\n",
       "      <td>0</td>\n",
       "      <td>0</td>\n",
       "      <td>1</td>\n",
       "      <td>0</td>\n",
       "      <td>...</td>\n",
       "      <td>0</td>\n",
       "      <td>0</td>\n",
       "      <td>0</td>\n",
       "      <td>0</td>\n",
       "      <td>0</td>\n",
       "      <td>0</td>\n",
       "      <td>0</td>\n",
       "      <td>0</td>\n",
       "      <td>0</td>\n",
       "      <td>0</td>\n",
       "    </tr>\n",
       "    <tr>\n",
       "      <th>Toreros</th>\n",
       "      <td>0</td>\n",
       "      <td>0</td>\n",
       "      <td>0</td>\n",
       "      <td>0</td>\n",
       "      <td>0</td>\n",
       "      <td>0</td>\n",
       "      <td>0</td>\n",
       "      <td>0</td>\n",
       "      <td>0</td>\n",
       "      <td>0</td>\n",
       "      <td>...</td>\n",
       "      <td>0</td>\n",
       "      <td>0</td>\n",
       "      <td>0</td>\n",
       "      <td>0</td>\n",
       "      <td>0</td>\n",
       "      <td>0</td>\n",
       "      <td>0</td>\n",
       "      <td>0</td>\n",
       "      <td>0</td>\n",
       "      <td>0</td>\n",
       "    </tr>\n",
       "    <tr>\n",
       "      <th>Tornados</th>\n",
       "      <td>0</td>\n",
       "      <td>0</td>\n",
       "      <td>0</td>\n",
       "      <td>0</td>\n",
       "      <td>0</td>\n",
       "      <td>0</td>\n",
       "      <td>0</td>\n",
       "      <td>0</td>\n",
       "      <td>0</td>\n",
       "      <td>0</td>\n",
       "      <td>...</td>\n",
       "      <td>0</td>\n",
       "      <td>0</td>\n",
       "      <td>0</td>\n",
       "      <td>0</td>\n",
       "      <td>0</td>\n",
       "      <td>0</td>\n",
       "      <td>0</td>\n",
       "      <td>1</td>\n",
       "      <td>0</td>\n",
       "      <td>0</td>\n",
       "    </tr>\n",
       "    <tr>\n",
       "      <th>Toros</th>\n",
       "      <td>0</td>\n",
       "      <td>0</td>\n",
       "      <td>0</td>\n",
       "      <td>0</td>\n",
       "      <td>0</td>\n",
       "      <td>0</td>\n",
       "      <td>0</td>\n",
       "      <td>0</td>\n",
       "      <td>0</td>\n",
       "      <td>0</td>\n",
       "      <td>...</td>\n",
       "      <td>0</td>\n",
       "      <td>0</td>\n",
       "      <td>0</td>\n",
       "      <td>0</td>\n",
       "      <td>0</td>\n",
       "      <td>0</td>\n",
       "      <td>0</td>\n",
       "      <td>0</td>\n",
       "      <td>0</td>\n",
       "      <td>0</td>\n",
       "    </tr>\n",
       "    <tr>\n",
       "      <th>Trailblazers</th>\n",
       "      <td>0</td>\n",
       "      <td>0</td>\n",
       "      <td>0</td>\n",
       "      <td>0</td>\n",
       "      <td>1</td>\n",
       "      <td>0</td>\n",
       "      <td>0</td>\n",
       "      <td>0</td>\n",
       "      <td>0</td>\n",
       "      <td>0</td>\n",
       "      <td>...</td>\n",
       "      <td>0</td>\n",
       "      <td>0</td>\n",
       "      <td>0</td>\n",
       "      <td>0</td>\n",
       "      <td>0</td>\n",
       "      <td>0</td>\n",
       "      <td>0</td>\n",
       "      <td>0</td>\n",
       "      <td>0</td>\n",
       "      <td>0</td>\n",
       "    </tr>\n",
       "    <tr>\n",
       "      <th>Tribe</th>\n",
       "      <td>0</td>\n",
       "      <td>0</td>\n",
       "      <td>0</td>\n",
       "      <td>0</td>\n",
       "      <td>0</td>\n",
       "      <td>0</td>\n",
       "      <td>0</td>\n",
       "      <td>0</td>\n",
       "      <td>0</td>\n",
       "      <td>0</td>\n",
       "      <td>...</td>\n",
       "      <td>0</td>\n",
       "      <td>0</td>\n",
       "      <td>0</td>\n",
       "      <td>0</td>\n",
       "      <td>0</td>\n",
       "      <td>0</td>\n",
       "      <td>0</td>\n",
       "      <td>0</td>\n",
       "      <td>0</td>\n",
       "      <td>1</td>\n",
       "    </tr>\n",
       "    <tr>\n",
       "      <th>Tribunes</th>\n",
       "      <td>0</td>\n",
       "      <td>0</td>\n",
       "      <td>0</td>\n",
       "      <td>0</td>\n",
       "      <td>0</td>\n",
       "      <td>0</td>\n",
       "      <td>0</td>\n",
       "      <td>0</td>\n",
       "      <td>0</td>\n",
       "      <td>0</td>\n",
       "      <td>...</td>\n",
       "      <td>0</td>\n",
       "      <td>0</td>\n",
       "      <td>0</td>\n",
       "      <td>0</td>\n",
       "      <td>0</td>\n",
       "      <td>0</td>\n",
       "      <td>0</td>\n",
       "      <td>0</td>\n",
       "      <td>0</td>\n",
       "      <td>0</td>\n",
       "    </tr>\n",
       "    <tr>\n",
       "      <th>Tritons</th>\n",
       "      <td>0</td>\n",
       "      <td>0</td>\n",
       "      <td>0</td>\n",
       "      <td>0</td>\n",
       "      <td>0</td>\n",
       "      <td>0</td>\n",
       "      <td>0</td>\n",
       "      <td>0</td>\n",
       "      <td>0</td>\n",
       "      <td>0</td>\n",
       "      <td>...</td>\n",
       "      <td>0</td>\n",
       "      <td>0</td>\n",
       "      <td>0</td>\n",
       "      <td>0</td>\n",
       "      <td>0</td>\n",
       "      <td>0</td>\n",
       "      <td>0</td>\n",
       "      <td>0</td>\n",
       "      <td>0</td>\n",
       "      <td>0</td>\n",
       "    </tr>\n",
       "    <tr>\n",
       "      <th>Trojans</th>\n",
       "      <td>0</td>\n",
       "      <td>0</td>\n",
       "      <td>0</td>\n",
       "      <td>0</td>\n",
       "      <td>0</td>\n",
       "      <td>0</td>\n",
       "      <td>0</td>\n",
       "      <td>0</td>\n",
       "      <td>0</td>\n",
       "      <td>0</td>\n",
       "      <td>...</td>\n",
       "      <td>0</td>\n",
       "      <td>0</td>\n",
       "      <td>0</td>\n",
       "      <td>0</td>\n",
       "      <td>1</td>\n",
       "      <td>0</td>\n",
       "      <td>0</td>\n",
       "      <td>0</td>\n",
       "      <td>0</td>\n",
       "      <td>1</td>\n",
       "    </tr>\n",
       "    <tr>\n",
       "      <th>Utes</th>\n",
       "      <td>0</td>\n",
       "      <td>0</td>\n",
       "      <td>0</td>\n",
       "      <td>0</td>\n",
       "      <td>0</td>\n",
       "      <td>0</td>\n",
       "      <td>0</td>\n",
       "      <td>0</td>\n",
       "      <td>0</td>\n",
       "      <td>0</td>\n",
       "      <td>...</td>\n",
       "      <td>0</td>\n",
       "      <td>0</td>\n",
       "      <td>0</td>\n",
       "      <td>0</td>\n",
       "      <td>0</td>\n",
       "      <td>0</td>\n",
       "      <td>0</td>\n",
       "      <td>0</td>\n",
       "      <td>1</td>\n",
       "      <td>0</td>\n",
       "    </tr>\n",
       "    <tr>\n",
       "      <th>Vandals</th>\n",
       "      <td>0</td>\n",
       "      <td>0</td>\n",
       "      <td>0</td>\n",
       "      <td>0</td>\n",
       "      <td>0</td>\n",
       "      <td>0</td>\n",
       "      <td>0</td>\n",
       "      <td>0</td>\n",
       "      <td>0</td>\n",
       "      <td>0</td>\n",
       "      <td>...</td>\n",
       "      <td>0</td>\n",
       "      <td>0</td>\n",
       "      <td>0</td>\n",
       "      <td>0</td>\n",
       "      <td>0</td>\n",
       "      <td>0</td>\n",
       "      <td>0</td>\n",
       "      <td>0</td>\n",
       "      <td>0</td>\n",
       "      <td>0</td>\n",
       "    </tr>\n",
       "  </tbody>\n",
       "</table>\n",
       "<p>15 rows × 30 columns</p>\n",
       "</div>"
      ],
      "text/plain": [
       "schoolState   IN  KS  KY  LA  MA  MD  ME  MI  MN  MO ...  OK  OR  PA  RI  SC  \\\n",
       "schoolNick                                           ...                       \n",
       "Tigers         1   1   1   2   0   1   0   0   0   1 ...   1   0   0   0   1   \n",
       "Timberwolves   0   0   0   0   0   0   0   1   0   0 ...   0   0   0   0   0   \n",
       "Titans         0   0   0   0   0   0   0   1   0   0 ...   0   0   1   0   0   \n",
       "Tomcats        0   0   0   0   0   0   0   0   0   0 ...   0   0   1   0   0   \n",
       "Tommies        0   0   0   0   0   0   0   0   1   0 ...   0   0   0   0   0   \n",
       "Toreros        0   0   0   0   0   0   0   0   0   0 ...   0   0   0   0   0   \n",
       "Tornados       0   0   0   0   0   0   0   0   0   0 ...   0   0   0   0   0   \n",
       "Toros          0   0   0   0   0   0   0   0   0   0 ...   0   0   0   0   0   \n",
       "Trailblazers   0   0   0   0   1   0   0   0   0   0 ...   0   0   0   0   0   \n",
       "Tribe          0   0   0   0   0   0   0   0   0   0 ...   0   0   0   0   0   \n",
       "Tribunes       0   0   0   0   0   0   0   0   0   0 ...   0   0   0   0   0   \n",
       "Tritons        0   0   0   0   0   0   0   0   0   0 ...   0   0   0   0   0   \n",
       "Trojans        0   0   0   0   0   0   0   0   0   0 ...   0   0   0   0   1   \n",
       "Utes           0   0   0   0   0   0   0   0   0   0 ...   0   0   0   0   0   \n",
       "Vandals        0   0   0   0   0   0   0   0   0   0 ...   0   0   0   0   0   \n",
       "\n",
       "schoolState   SD  TN  TX  UT  VA  \n",
       "schoolNick                        \n",
       "Tigers         0   3   3   0   1  \n",
       "Timberwolves   0   0   0   0   0  \n",
       "Titans         0   0   0   0   0  \n",
       "Tomcats        0   0   0   0   0  \n",
       "Tommies        0   0   0   0   0  \n",
       "Toreros        0   0   0   0   0  \n",
       "Tornados       0   0   1   0   0  \n",
       "Toros          0   0   0   0   0  \n",
       "Trailblazers   0   0   0   0   0  \n",
       "Tribe          0   0   0   0   1  \n",
       "Tribunes       0   0   0   0   0  \n",
       "Tritons        0   0   0   0   0  \n",
       "Trojans        0   0   0   0   1  \n",
       "Utes           0   0   0   1   0  \n",
       "Vandals        0   0   0   0   0  \n",
       "\n",
       "[15 rows x 30 columns]"
      ]
     },
     "execution_count": 103,
     "metadata": {},
     "output_type": "execute_result"
    }
   ],
   "source": [
    "nicknames_states = pd.crosstab(Schools_df.schoolNick, Schools_df.schoolState) \n",
    "nicknames_states.ix[\"Tigers\":\"Vandals\",\"IN\":\"VA\"]"
   ]
  },
  {
   "cell_type": "markdown",
   "metadata": {},
   "source": [
    "# More Aggregations"
   ]
  },
  {
   "cell_type": "code",
   "execution_count": 104,
   "metadata": {
    "collapsed": false
   },
   "outputs": [
    {
     "data": {
      "text/html": [
       "<div>\n",
       "<table border=\"1\" class=\"dataframe\">\n",
       "  <thead>\n",
       "    <tr style=\"text-align: right;\">\n",
       "      <th>schoolState</th>\n",
       "      <th>AL</th>\n",
       "      <th>AR</th>\n",
       "      <th>AZ</th>\n",
       "      <th>CA</th>\n",
       "      <th>CO</th>\n",
       "      <th>CT</th>\n",
       "      <th>DC</th>\n",
       "      <th>DE</th>\n",
       "      <th>FL</th>\n",
       "      <th>GA</th>\n",
       "      <th>...</th>\n",
       "      <th>TN</th>\n",
       "      <th>TX</th>\n",
       "      <th>UT</th>\n",
       "      <th>VA</th>\n",
       "      <th>VT</th>\n",
       "      <th>WA</th>\n",
       "      <th>WI</th>\n",
       "      <th>WV</th>\n",
       "      <th>WY</th>\n",
       "      <th>total</th>\n",
       "    </tr>\n",
       "    <tr>\n",
       "      <th>schoolNick</th>\n",
       "      <th></th>\n",
       "      <th></th>\n",
       "      <th></th>\n",
       "      <th></th>\n",
       "      <th></th>\n",
       "      <th></th>\n",
       "      <th></th>\n",
       "      <th></th>\n",
       "      <th></th>\n",
       "      <th></th>\n",
       "      <th></th>\n",
       "      <th></th>\n",
       "      <th></th>\n",
       "      <th></th>\n",
       "      <th></th>\n",
       "      <th></th>\n",
       "      <th></th>\n",
       "      <th></th>\n",
       "      <th></th>\n",
       "      <th></th>\n",
       "      <th></th>\n",
       "    </tr>\n",
       "  </thead>\n",
       "  <tbody>\n",
       "    <tr>\n",
       "      <th>49ers</th>\n",
       "      <td>0</td>\n",
       "      <td>0</td>\n",
       "      <td>0</td>\n",
       "      <td>1</td>\n",
       "      <td>0</td>\n",
       "      <td>0</td>\n",
       "      <td>0</td>\n",
       "      <td>0</td>\n",
       "      <td>0</td>\n",
       "      <td>0</td>\n",
       "      <td>...</td>\n",
       "      <td>0</td>\n",
       "      <td>0</td>\n",
       "      <td>0</td>\n",
       "      <td>0</td>\n",
       "      <td>0</td>\n",
       "      <td>0</td>\n",
       "      <td>0</td>\n",
       "      <td>0</td>\n",
       "      <td>0</td>\n",
       "      <td>2</td>\n",
       "    </tr>\n",
       "    <tr>\n",
       "      <th>Aggies</th>\n",
       "      <td>0</td>\n",
       "      <td>0</td>\n",
       "      <td>0</td>\n",
       "      <td>1</td>\n",
       "      <td>0</td>\n",
       "      <td>0</td>\n",
       "      <td>0</td>\n",
       "      <td>0</td>\n",
       "      <td>0</td>\n",
       "      <td>0</td>\n",
       "      <td>...</td>\n",
       "      <td>0</td>\n",
       "      <td>1</td>\n",
       "      <td>1</td>\n",
       "      <td>0</td>\n",
       "      <td>0</td>\n",
       "      <td>0</td>\n",
       "      <td>0</td>\n",
       "      <td>0</td>\n",
       "      <td>0</td>\n",
       "      <td>6</td>\n",
       "    </tr>\n",
       "    <tr>\n",
       "      <th>Anchormen</th>\n",
       "      <td>0</td>\n",
       "      <td>0</td>\n",
       "      <td>0</td>\n",
       "      <td>0</td>\n",
       "      <td>0</td>\n",
       "      <td>0</td>\n",
       "      <td>0</td>\n",
       "      <td>0</td>\n",
       "      <td>0</td>\n",
       "      <td>0</td>\n",
       "      <td>...</td>\n",
       "      <td>0</td>\n",
       "      <td>0</td>\n",
       "      <td>0</td>\n",
       "      <td>0</td>\n",
       "      <td>0</td>\n",
       "      <td>0</td>\n",
       "      <td>0</td>\n",
       "      <td>0</td>\n",
       "      <td>0</td>\n",
       "      <td>1</td>\n",
       "    </tr>\n",
       "    <tr>\n",
       "      <th>Anteaters</th>\n",
       "      <td>0</td>\n",
       "      <td>0</td>\n",
       "      <td>0</td>\n",
       "      <td>1</td>\n",
       "      <td>0</td>\n",
       "      <td>0</td>\n",
       "      <td>0</td>\n",
       "      <td>0</td>\n",
       "      <td>0</td>\n",
       "      <td>0</td>\n",
       "      <td>...</td>\n",
       "      <td>0</td>\n",
       "      <td>0</td>\n",
       "      <td>0</td>\n",
       "      <td>0</td>\n",
       "      <td>0</td>\n",
       "      <td>0</td>\n",
       "      <td>0</td>\n",
       "      <td>0</td>\n",
       "      <td>0</td>\n",
       "      <td>1</td>\n",
       "    </tr>\n",
       "    <tr>\n",
       "      <th>Antelopes</th>\n",
       "      <td>0</td>\n",
       "      <td>0</td>\n",
       "      <td>1</td>\n",
       "      <td>0</td>\n",
       "      <td>0</td>\n",
       "      <td>0</td>\n",
       "      <td>0</td>\n",
       "      <td>0</td>\n",
       "      <td>0</td>\n",
       "      <td>0</td>\n",
       "      <td>...</td>\n",
       "      <td>0</td>\n",
       "      <td>0</td>\n",
       "      <td>0</td>\n",
       "      <td>0</td>\n",
       "      <td>0</td>\n",
       "      <td>0</td>\n",
       "      <td>0</td>\n",
       "      <td>0</td>\n",
       "      <td>0</td>\n",
       "      <td>1</td>\n",
       "    </tr>\n",
       "  </tbody>\n",
       "</table>\n",
       "<p>5 rows × 50 columns</p>\n",
       "</div>"
      ],
      "text/plain": [
       "schoolState  AL  AR  AZ  CA  CO  CT  DC  DE  FL  GA  ...    TN  TX  UT  VA  \\\n",
       "schoolNick                                           ...                     \n",
       "49ers         0   0   0   1   0   0   0   0   0   0  ...     0   0   0   0   \n",
       "Aggies        0   0   0   1   0   0   0   0   0   0  ...     0   1   1   0   \n",
       "Anchormen     0   0   0   0   0   0   0   0   0   0  ...     0   0   0   0   \n",
       "Anteaters     0   0   0   1   0   0   0   0   0   0  ...     0   0   0   0   \n",
       "Antelopes     0   0   1   0   0   0   0   0   0   0  ...     0   0   0   0   \n",
       "\n",
       "schoolState  VT  WA  WI  WV  WY  total  \n",
       "schoolNick                              \n",
       "49ers         0   0   0   0   0      2  \n",
       "Aggies        0   0   0   0   0      6  \n",
       "Anchormen     0   0   0   0   0      1  \n",
       "Anteaters     0   0   0   0   0      1  \n",
       "Antelopes     0   0   0   0   0      1  \n",
       "\n",
       "[5 rows x 50 columns]"
      ]
     },
     "execution_count": 104,
     "metadata": {},
     "output_type": "execute_result"
    }
   ],
   "source": [
    "nicknames_states['total'] = nicknames_states.T.sum() #axis=1\n",
    "nicknames_states.head()"
   ]
  },
  {
   "cell_type": "markdown",
   "metadata": {},
   "source": [
    "# Sorting"
   ]
  },
  {
   "cell_type": "code",
   "execution_count": 105,
   "metadata": {
    "collapsed": false
   },
   "outputs": [
    {
     "data": {
      "text/html": [
       "<div>\n",
       "<table border=\"1\" class=\"dataframe\">\n",
       "  <thead>\n",
       "    <tr style=\"text-align: right;\">\n",
       "      <th>schoolState</th>\n",
       "      <th>AL</th>\n",
       "      <th>AR</th>\n",
       "      <th>AZ</th>\n",
       "      <th>CA</th>\n",
       "      <th>CO</th>\n",
       "      <th>CT</th>\n",
       "      <th>DC</th>\n",
       "      <th>DE</th>\n",
       "      <th>FL</th>\n",
       "      <th>GA</th>\n",
       "      <th>...</th>\n",
       "      <th>TN</th>\n",
       "      <th>TX</th>\n",
       "      <th>UT</th>\n",
       "      <th>VA</th>\n",
       "      <th>VT</th>\n",
       "      <th>WA</th>\n",
       "      <th>WI</th>\n",
       "      <th>WV</th>\n",
       "      <th>WY</th>\n",
       "      <th>total</th>\n",
       "    </tr>\n",
       "    <tr>\n",
       "      <th>schoolNick</th>\n",
       "      <th></th>\n",
       "      <th></th>\n",
       "      <th></th>\n",
       "      <th></th>\n",
       "      <th></th>\n",
       "      <th></th>\n",
       "      <th></th>\n",
       "      <th></th>\n",
       "      <th></th>\n",
       "      <th></th>\n",
       "      <th></th>\n",
       "      <th></th>\n",
       "      <th></th>\n",
       "      <th></th>\n",
       "      <th></th>\n",
       "      <th></th>\n",
       "      <th></th>\n",
       "      <th></th>\n",
       "      <th></th>\n",
       "      <th></th>\n",
       "      <th></th>\n",
       "    </tr>\n",
       "  </thead>\n",
       "  <tbody>\n",
       "    <tr>\n",
       "      <th>Tigers</th>\n",
       "      <td>2</td>\n",
       "      <td>1</td>\n",
       "      <td>0</td>\n",
       "      <td>2</td>\n",
       "      <td>1</td>\n",
       "      <td>0</td>\n",
       "      <td>0</td>\n",
       "      <td>0</td>\n",
       "      <td>0</td>\n",
       "      <td>1</td>\n",
       "      <td>...</td>\n",
       "      <td>3</td>\n",
       "      <td>3</td>\n",
       "      <td>0</td>\n",
       "      <td>1</td>\n",
       "      <td>0</td>\n",
       "      <td>0</td>\n",
       "      <td>0</td>\n",
       "      <td>1</td>\n",
       "      <td>0</td>\n",
       "      <td>29</td>\n",
       "    </tr>\n",
       "    <tr>\n",
       "      <th>Bulldogs</th>\n",
       "      <td>2</td>\n",
       "      <td>0</td>\n",
       "      <td>0</td>\n",
       "      <td>1</td>\n",
       "      <td>0</td>\n",
       "      <td>1</td>\n",
       "      <td>0</td>\n",
       "      <td>0</td>\n",
       "      <td>0</td>\n",
       "      <td>1</td>\n",
       "      <td>...</td>\n",
       "      <td>3</td>\n",
       "      <td>0</td>\n",
       "      <td>0</td>\n",
       "      <td>0</td>\n",
       "      <td>0</td>\n",
       "      <td>1</td>\n",
       "      <td>0</td>\n",
       "      <td>0</td>\n",
       "      <td>0</td>\n",
       "      <td>25</td>\n",
       "    </tr>\n",
       "    <tr>\n",
       "      <th>Panthers</th>\n",
       "      <td>1</td>\n",
       "      <td>1</td>\n",
       "      <td>0</td>\n",
       "      <td>1</td>\n",
       "      <td>0</td>\n",
       "      <td>0</td>\n",
       "      <td>0</td>\n",
       "      <td>0</td>\n",
       "      <td>3</td>\n",
       "      <td>1</td>\n",
       "      <td>...</td>\n",
       "      <td>0</td>\n",
       "      <td>1</td>\n",
       "      <td>0</td>\n",
       "      <td>1</td>\n",
       "      <td>1</td>\n",
       "      <td>0</td>\n",
       "      <td>1</td>\n",
       "      <td>0</td>\n",
       "      <td>0</td>\n",
       "      <td>19</td>\n",
       "    </tr>\n",
       "    <tr>\n",
       "      <th>Eagles</th>\n",
       "      <td>0</td>\n",
       "      <td>1</td>\n",
       "      <td>0</td>\n",
       "      <td>1</td>\n",
       "      <td>0</td>\n",
       "      <td>0</td>\n",
       "      <td>1</td>\n",
       "      <td>0</td>\n",
       "      <td>0</td>\n",
       "      <td>2</td>\n",
       "      <td>...</td>\n",
       "      <td>2</td>\n",
       "      <td>0</td>\n",
       "      <td>0</td>\n",
       "      <td>1</td>\n",
       "      <td>0</td>\n",
       "      <td>1</td>\n",
       "      <td>1</td>\n",
       "      <td>0</td>\n",
       "      <td>0</td>\n",
       "      <td>17</td>\n",
       "    </tr>\n",
       "    <tr>\n",
       "      <th>Wildcats</th>\n",
       "      <td>0</td>\n",
       "      <td>0</td>\n",
       "      <td>1</td>\n",
       "      <td>1</td>\n",
       "      <td>0</td>\n",
       "      <td>0</td>\n",
       "      <td>0</td>\n",
       "      <td>0</td>\n",
       "      <td>1</td>\n",
       "      <td>0</td>\n",
       "      <td>...</td>\n",
       "      <td>0</td>\n",
       "      <td>1</td>\n",
       "      <td>1</td>\n",
       "      <td>0</td>\n",
       "      <td>0</td>\n",
       "      <td>1</td>\n",
       "      <td>0</td>\n",
       "      <td>0</td>\n",
       "      <td>0</td>\n",
       "      <td>16</td>\n",
       "    </tr>\n",
       "  </tbody>\n",
       "</table>\n",
       "<p>5 rows × 50 columns</p>\n",
       "</div>"
      ],
      "text/plain": [
       "schoolState  AL  AR  AZ  CA  CO  CT  DC  DE  FL  GA  ...    TN  TX  UT  VA  \\\n",
       "schoolNick                                           ...                     \n",
       "Tigers        2   1   0   2   1   0   0   0   0   1  ...     3   3   0   1   \n",
       "Bulldogs      2   0   0   1   0   1   0   0   0   1  ...     3   0   0   0   \n",
       "Panthers      1   1   0   1   0   0   0   0   3   1  ...     0   1   0   1   \n",
       "Eagles        0   1   0   1   0   0   1   0   0   2  ...     2   0   0   1   \n",
       "Wildcats      0   0   1   1   0   0   0   0   1   0  ...     0   1   1   0   \n",
       "\n",
       "schoolState  VT  WA  WI  WV  WY  total  \n",
       "schoolNick                              \n",
       "Tigers        0   0   0   1   0     29  \n",
       "Bulldogs      0   1   0   0   0     25  \n",
       "Panthers      1   0   1   0   0     19  \n",
       "Eagles        0   1   1   0   0     17  \n",
       "Wildcats      0   1   0   0   0     16  \n",
       "\n",
       "[5 rows x 50 columns]"
      ]
     },
     "execution_count": 105,
     "metadata": {},
     "output_type": "execute_result"
    }
   ],
   "source": [
    "nicknames_states.sort_values(axis=0, by=['total'], ascending=False).head()"
   ]
  },
  {
   "cell_type": "code",
   "execution_count": 107,
   "metadata": {
    "collapsed": false
   },
   "outputs": [
    {
     "data": {
      "text/html": [
       "<div>\n",
       "<table border=\"1\" class=\"dataframe\">\n",
       "  <thead>\n",
       "    <tr style=\"text-align: right;\">\n",
       "      <th></th>\n",
       "      <th>id</th>\n",
       "      <th>comments_count</th>\n",
       "      <th>num_makers</th>\n",
       "      <th>num_topics</th>\n",
       "      <th>user_id</th>\n",
       "      <th>votes_count</th>\n",
       "    </tr>\n",
       "  </thead>\n",
       "  <tbody>\n",
       "    <tr>\n",
       "      <th>count</th>\n",
       "      <td>18129.000000</td>\n",
       "      <td>18129.000000</td>\n",
       "      <td>18129.000000</td>\n",
       "      <td>18129.000000</td>\n",
       "      <td>18129.000000</td>\n",
       "      <td>18129.000000</td>\n",
       "    </tr>\n",
       "    <tr>\n",
       "      <th>mean</th>\n",
       "      <td>41323.984941</td>\n",
       "      <td>13.324177</td>\n",
       "      <td>1.447625</td>\n",
       "      <td>3.050527</td>\n",
       "      <td>71037.719896</td>\n",
       "      <td>206.963760</td>\n",
       "    </tr>\n",
       "    <tr>\n",
       "      <th>std</th>\n",
       "      <td>22583.065636</td>\n",
       "      <td>19.600407</td>\n",
       "      <td>1.630038</td>\n",
       "      <td>1.797040</td>\n",
       "      <td>130719.406141</td>\n",
       "      <td>287.343707</td>\n",
       "    </tr>\n",
       "    <tr>\n",
       "      <th>min</th>\n",
       "      <td>2847.000000</td>\n",
       "      <td>0.000000</td>\n",
       "      <td>0.000000</td>\n",
       "      <td>1.000000</td>\n",
       "      <td>1.000000</td>\n",
       "      <td>5.000000</td>\n",
       "    </tr>\n",
       "    <tr>\n",
       "      <th>25%</th>\n",
       "      <td>18973.000000</td>\n",
       "      <td>3.000000</td>\n",
       "      <td>0.000000</td>\n",
       "      <td>2.000000</td>\n",
       "      <td>1446.000000</td>\n",
       "      <td>54.000000</td>\n",
       "    </tr>\n",
       "    <tr>\n",
       "      <th>50%</th>\n",
       "      <td>39099.000000</td>\n",
       "      <td>7.000000</td>\n",
       "      <td>1.000000</td>\n",
       "      <td>3.000000</td>\n",
       "      <td>13310.000000</td>\n",
       "      <td>111.000000</td>\n",
       "    </tr>\n",
       "    <tr>\n",
       "      <th>75%</th>\n",
       "      <td>61353.000000</td>\n",
       "      <td>16.000000</td>\n",
       "      <td>2.000000</td>\n",
       "      <td>4.000000</td>\n",
       "      <td>72708.000000</td>\n",
       "      <td>243.000000</td>\n",
       "    </tr>\n",
       "    <tr>\n",
       "      <th>max</th>\n",
       "      <td>82534.000000</td>\n",
       "      <td>698.000000</td>\n",
       "      <td>24.000000</td>\n",
       "      <td>18.000000</td>\n",
       "      <td>707422.000000</td>\n",
       "      <td>7032.000000</td>\n",
       "    </tr>\n",
       "  </tbody>\n",
       "</table>\n",
       "</div>"
      ],
      "text/plain": [
       "                 id  comments_count    num_makers    num_topics  \\\n",
       "count  18129.000000    18129.000000  18129.000000  18129.000000   \n",
       "mean   41323.984941       13.324177      1.447625      3.050527   \n",
       "std    22583.065636       19.600407      1.630038      1.797040   \n",
       "min     2847.000000        0.000000      0.000000      1.000000   \n",
       "25%    18973.000000        3.000000      0.000000      2.000000   \n",
       "50%    39099.000000        7.000000      1.000000      3.000000   \n",
       "75%    61353.000000       16.000000      2.000000      4.000000   \n",
       "max    82534.000000      698.000000     24.000000     18.000000   \n",
       "\n",
       "             user_id   votes_count  \n",
       "count   18129.000000  18129.000000  \n",
       "mean    71037.719896    206.963760  \n",
       "std    130719.406141    287.343707  \n",
       "min         1.000000      5.000000  \n",
       "25%      1446.000000     54.000000  \n",
       "50%     13310.000000    111.000000  \n",
       "75%     72708.000000    243.000000  \n",
       "max    707422.000000   7032.000000  "
      ]
     },
     "execution_count": 107,
     "metadata": {},
     "output_type": "execute_result"
    }
   ],
   "source": [
    "posts_df = pd.read_csv('stuff/PostsForAnalysis.txt')\n",
    "users_df = pd.read_csv('stuff/UsersForAnalysis.txt')\n",
    "posts_df.describe()"
   ]
  },
  {
   "cell_type": "markdown",
   "metadata": {},
   "source": [
    "# Discretization"
   ]
  },
  {
   "cell_type": "code",
   "execution_count": 108,
   "metadata": {
    "collapsed": false
   },
   "outputs": [
    {
     "name": "stdout",
     "output_type": "stream",
     "text": [
      "0.00      0.0\n",
      "0.25      3.0\n",
      "0.50      7.0\n",
      "0.75     16.0\n",
      "1.00    698.0\n",
      "Name: comments_count, dtype: float64\n",
      "\n",
      "0    (16, 698]\n",
      "1    (16, 698]\n",
      "2    (16, 698]\n",
      "3    (16, 698]\n",
      "4    (16, 698]\n",
      "Name: comments_count, dtype: category\n",
      "Categories (4, object): [[0, 3] < (3, 7] < (7, 16] < (16, 698]]\n",
      "\n",
      "0    (-0.698, 139.6]\n",
      "1    (-0.698, 139.6]\n",
      "2    (-0.698, 139.6]\n",
      "3    (-0.698, 139.6]\n",
      "4    (-0.698, 139.6]\n",
      "Name: comments_count, dtype: category\n",
      "Categories (5, object): [(-0.698, 139.6] < (139.6, 279.2] < (279.2, 418.8] < (418.8, 558.4] < (558.4, 698]]\n"
     ]
    }
   ],
   "source": [
    "print posts_df.comments_count.quantile([0, .25, .5, .75, 1])\n",
    "print \"\"\n",
    "print pd.qcut(posts_df.comments_count, [0, .25, .5, .75, 1])[:5]\n",
    "print \"\"\n",
    "print pd.cut(posts_df.comments_count, 5)[:5]"
   ]
  },
  {
   "cell_type": "markdown",
   "metadata": {},
   "source": [
    "# .apply - more Aggregations and Transformations\n",
    "* [Guru God Level Extra Credit] Transform versus Apply -- what's the difference?\n",
    "* see also: df.isnull, df.notnull, pd.isnull, pd.notnull\n",
    "* etc."
   ]
  },
  {
   "cell_type": "code",
   "execution_count": 110,
   "metadata": {
    "collapsed": false
   },
   "outputs": [
    {
     "data": {
      "text/plain": [
       "0    0.117012\n",
       "1    0.358536\n",
       "2    0.312632\n",
       "3    0.519758\n",
       "4    0.362421\n",
       "dtype: float64"
      ]
     },
     "execution_count": 110,
     "metadata": {},
     "output_type": "execute_result"
    }
   ],
   "source": [
    "# show combining columns \n",
    "((posts_df.comments_count/posts_df.votes_count)*np.log(posts_df.votes_count))[:5]"
   ]
  },
  {
   "cell_type": "code",
   "execution_count": 111,
   "metadata": {
    "collapsed": false
   },
   "outputs": [
    {
     "data": {
      "text/plain": [
       "array(['nbashaw', 'rrhoover', 'ashbhoopathy', ..., 'sylkelopez',\n",
       "       'toothinthebooth', 'bigtrains'], dtype=object)"
      ]
     },
     "execution_count": 111,
     "metadata": {},
     "output_type": "execute_result"
    }
   ],
   "source": [
    "users_df.twitter_username.unique()"
   ]
  },
  {
   "cell_type": "code",
   "execution_count": 112,
   "metadata": {
    "collapsed": false
   },
   "outputs": [
    {
     "data": {
      "text/plain": [
       "0    Boss\n",
       "1    Boss\n",
       "2    Nots\n",
       "3    Nots\n",
       "4    Nots\n",
       "Name: headline, dtype: object"
      ]
     },
     "execution_count": 112,
     "metadata": {},
     "output_type": "execute_result"
    }
   ],
   "source": [
    "users_df.headline.apply(lambda x: \"Boss\" if \"founder\" in str(x).lower() or \"ceo\" in str(x).lower() else \"Nots\")[:5]"
   ]
  },
  {
   "cell_type": "code",
   "execution_count": 113,
   "metadata": {
    "collapsed": false
   },
   "outputs": [
    {
     "data": {
      "text/plain": [
       "0    0\n",
       "1    0\n",
       "2    4\n",
       "3    5\n",
       "4    5\n",
       "5    5\n",
       "6    5\n",
       "7    5\n",
       "8    5\n",
       "9    5\n",
       "Name: created_at, dtype: int64"
      ]
     },
     "execution_count": 113,
     "metadata": {},
     "output_type": "execute_result"
    }
   ],
   "source": [
    "users_df[:10].created_at.apply(pd.to_datetime).apply(lambda x: (x - pd.to_datetime('2013-11-21T23:06:54.070-08:00')) / np.timedelta64(1, 'D')).apply(int)"
   ]
  },
  {
   "cell_type": "code",
   "execution_count": 114,
   "metadata": {
    "collapsed": false
   },
   "outputs": [
    {
     "name": "stderr",
     "output_type": "stream",
     "text": [
      "/Users/schwarls37/anaconda/lib/python2.7/site-packages/scipy/stats/stats.py:250: RuntimeWarning: The input array could not be properly checked for nan values. nan values will be ignored.\n",
      "  \"values. nan values will be ignored.\", RuntimeWarning)\n"
     ]
    },
    {
     "data": {
      "text/plain": [
       "date                   ([2015-02-18], [59])\n",
       "day                     ([Tuesday], [3596])\n",
       "created_at     ([2016-09-14 00:01:00], [9])\n",
       "time_of_day               ([Night], [9250])\n",
       "dtype: object"
      ]
     },
     "execution_count": 114,
     "metadata": {},
     "output_type": "execute_result"
    }
   ],
   "source": [
    "from scipy.stats import mode\n",
    "posts_df.ix[:, \"date\":\"time_of_day\"].apply(mode)"
   ]
  },
  {
   "cell_type": "markdown",
   "metadata": {
    "slideshow": {
     "slide_type": "subslide"
    }
   },
   "source": [
    "# Merge \n",
    "* http://pandas.pydata.org/pandas-docs/stable/merging.html\n",
    "* adding *columns*\n",
    "* see also: df.join\n",
    "* Inner, Left, Right, Outer..."
   ]
  },
  {
   "cell_type": "code",
   "execution_count": 115,
   "metadata": {
    "collapsed": false
   },
   "outputs": [
    {
     "name": "stdout",
     "output_type": "stream",
     "text": [
      "X\n",
      "   key  lval\n",
      "0  foo     1\n",
      "1  foo     2\n",
      "2  bar     3\n",
      "\n",
      "Y\n",
      "    key rval\n",
      "0   foo    A\n",
      "1   foo    B\n",
      "2  post    C\n",
      "\n",
      "X outer join Y\n",
      "    key  lval rval\n",
      "0   foo   1.0    A\n",
      "1   foo   1.0    B\n",
      "2   foo   2.0    A\n",
      "3   foo   2.0    B\n",
      "4   bar   3.0  NaN\n",
      "5  post   NaN    C\n",
      "\n",
      "X inner join Y\n",
      "   key  lval rval\n",
      "0  foo     1    A\n",
      "1  foo     1    B\n",
      "2  foo     2    A\n",
      "3  foo     2    B\n",
      "\n",
      "X left join Y\n",
      "   key  lval rval\n",
      "0  foo     1    A\n",
      "1  foo     1    B\n",
      "2  foo     2    A\n",
      "3  foo     2    B\n",
      "4  bar     3  NaN\n",
      "\n",
      "X right join Y\n",
      "    key  lval rval\n",
      "0   foo   1.0    A\n",
      "1   foo   2.0    A\n",
      "2   foo   1.0    B\n",
      "3   foo   2.0    B\n",
      "4  post   NaN    C\n"
     ]
    }
   ],
   "source": [
    "left = pd.DataFrame({'key': ['foo', 'foo', 'bar'], 'lval': [1, 2, 3]})\n",
    "right = pd.DataFrame({'key': ['foo', 'foo','post'], 'rval': [\"A\", \"B\", \"C\"]})\n",
    "\n",
    "print \"X\"\n",
    "print left\n",
    "print \"\\n\" + \"Y\"\n",
    "print right\n",
    "print \"\\n\" + \"X outer join Y\"\n",
    "print pd.merge(left, right, on='key', how='outer')\n",
    "print \"\\n\" + \"X inner join Y\"\n",
    "print pd.merge(left, right, on='key', how='inner')\n",
    "print \"\\n\" + \"X left join Y\"\n",
    "print pd.merge(left, right, on='key', how='left')\n",
    "print \"\\n\" + \"X right join Y\"\n",
    "print pd.merge(left, right, on='key', how='right')"
   ]
  },
  {
   "cell_type": "code",
   "execution_count": 116,
   "metadata": {
    "collapsed": false
   },
   "outputs": [
    {
     "data": {
      "text/html": [
       "<div>\n",
       "<table border=\"1\" class=\"dataframe\">\n",
       "  <thead>\n",
       "    <tr style=\"text-align: right;\">\n",
       "      <th></th>\n",
       "      <th>id</th>\n",
       "      <th>date</th>\n",
       "      <th>day</th>\n",
       "      <th>created_at_x</th>\n",
       "      <th>time_of_day</th>\n",
       "      <th>name_x</th>\n",
       "      <th>tagline</th>\n",
       "      <th>thumbnail_type</th>\n",
       "      <th>product_state</th>\n",
       "      <th>comments_count</th>\n",
       "      <th>...</th>\n",
       "      <th>headline</th>\n",
       "      <th>twitter_username</th>\n",
       "      <th>website_url</th>\n",
       "      <th>collections_count</th>\n",
       "      <th>followed_topics_count</th>\n",
       "      <th>followers_count</th>\n",
       "      <th>followings_count</th>\n",
       "      <th>maker_of_count</th>\n",
       "      <th>posts_count</th>\n",
       "      <th>votes_count_y</th>\n",
       "    </tr>\n",
       "  </thead>\n",
       "  <tbody>\n",
       "    <tr>\n",
       "      <th>0</th>\n",
       "      <td>82423</td>\n",
       "      <td>2016-11-16</td>\n",
       "      <td>Wednesday</td>\n",
       "      <td>2016-11-16 00:20:00</td>\n",
       "      <td>Night</td>\n",
       "      <td>A.I. Experiments by Google</td>\n",
       "      <td>Explore machine learning by playing w/ pics, m...</td>\n",
       "      <td>image</td>\n",
       "      <td>default</td>\n",
       "      <td>24</td>\n",
       "      <td>...</td>\n",
       "      <td>NaN</td>\n",
       "      <td>tonybrix</td>\n",
       "      <td>NaN</td>\n",
       "      <td>0</td>\n",
       "      <td>0</td>\n",
       "      <td>7</td>\n",
       "      <td>2</td>\n",
       "      <td>0</td>\n",
       "      <td>2</td>\n",
       "      <td>235</td>\n",
       "    </tr>\n",
       "    <tr>\n",
       "      <th>1</th>\n",
       "      <td>82480</td>\n",
       "      <td>2016-11-16</td>\n",
       "      <td>Wednesday</td>\n",
       "      <td>2016-11-16 05:40:53</td>\n",
       "      <td>Morning</td>\n",
       "      <td>Init.ai</td>\n",
       "      <td>Build powerful and intelligent conversational ...</td>\n",
       "      <td>image</td>\n",
       "      <td>default</td>\n",
       "      <td>43</td>\n",
       "      <td>...</td>\n",
       "      <td>Co-founder and CEO of Hardbound</td>\n",
       "      <td>nbashaw</td>\n",
       "      <td>https://hardbound.co</td>\n",
       "      <td>4</td>\n",
       "      <td>1</td>\n",
       "      <td>4014</td>\n",
       "      <td>1618</td>\n",
       "      <td>27</td>\n",
       "      <td>107</td>\n",
       "      <td>822</td>\n",
       "    </tr>\n",
       "    <tr>\n",
       "      <th>2</th>\n",
       "      <td>80448</td>\n",
       "      <td>2016-10-26</td>\n",
       "      <td>Wednesday</td>\n",
       "      <td>2016-10-26 07:19:25</td>\n",
       "      <td>Morning</td>\n",
       "      <td>Vigilante</td>\n",
       "      <td>Instant crime alerts and live broadcasts, laun...</td>\n",
       "      <td>image</td>\n",
       "      <td>default</td>\n",
       "      <td>9</td>\n",
       "      <td>...</td>\n",
       "      <td>Co-founder and CEO of Hardbound</td>\n",
       "      <td>nbashaw</td>\n",
       "      <td>https://hardbound.co</td>\n",
       "      <td>4</td>\n",
       "      <td>1</td>\n",
       "      <td>4014</td>\n",
       "      <td>1618</td>\n",
       "      <td>27</td>\n",
       "      <td>107</td>\n",
       "      <td>822</td>\n",
       "    </tr>\n",
       "    <tr>\n",
       "      <th>3</th>\n",
       "      <td>80152</td>\n",
       "      <td>2016-10-24</td>\n",
       "      <td>Monday</td>\n",
       "      <td>2016-10-24 09:49:12</td>\n",
       "      <td>Morning</td>\n",
       "      <td>TrueJob</td>\n",
       "      <td>Startup job search, with automated feedback fo...</td>\n",
       "      <td>image</td>\n",
       "      <td>default</td>\n",
       "      <td>7</td>\n",
       "      <td>...</td>\n",
       "      <td>Co-founder and CEO of Hardbound</td>\n",
       "      <td>nbashaw</td>\n",
       "      <td>https://hardbound.co</td>\n",
       "      <td>4</td>\n",
       "      <td>1</td>\n",
       "      <td>4014</td>\n",
       "      <td>1618</td>\n",
       "      <td>27</td>\n",
       "      <td>107</td>\n",
       "      <td>822</td>\n",
       "    </tr>\n",
       "    <tr>\n",
       "      <th>4</th>\n",
       "      <td>78959</td>\n",
       "      <td>2016-10-12</td>\n",
       "      <td>Wednesday</td>\n",
       "      <td>2016-10-12 05:51:05</td>\n",
       "      <td>Morning</td>\n",
       "      <td>PH Boomerang</td>\n",
       "      <td>Get a daily email of a previously upvoted product</td>\n",
       "      <td>image</td>\n",
       "      <td>default</td>\n",
       "      <td>10</td>\n",
       "      <td>...</td>\n",
       "      <td>Co-founder and CEO of Hardbound</td>\n",
       "      <td>nbashaw</td>\n",
       "      <td>https://hardbound.co</td>\n",
       "      <td>4</td>\n",
       "      <td>1</td>\n",
       "      <td>4014</td>\n",
       "      <td>1618</td>\n",
       "      <td>27</td>\n",
       "      <td>107</td>\n",
       "      <td>822</td>\n",
       "    </tr>\n",
       "  </tbody>\n",
       "</table>\n",
       "<p>5 rows × 328 columns</p>\n",
       "</div>"
      ],
      "text/plain": [
       "      id        date        day         created_at_x time_of_day  \\\n",
       "0  82423  2016-11-16  Wednesday  2016-11-16 00:20:00       Night   \n",
       "1  82480  2016-11-16  Wednesday  2016-11-16 05:40:53     Morning   \n",
       "2  80448  2016-10-26  Wednesday  2016-10-26 07:19:25     Morning   \n",
       "3  80152  2016-10-24     Monday  2016-10-24 09:49:12     Morning   \n",
       "4  78959  2016-10-12  Wednesday  2016-10-12 05:51:05     Morning   \n",
       "\n",
       "                       name_x  \\\n",
       "0  A.I. Experiments by Google   \n",
       "1                     Init.ai   \n",
       "2                   Vigilante   \n",
       "3                     TrueJob   \n",
       "4                PH Boomerang   \n",
       "\n",
       "                                             tagline thumbnail_type  \\\n",
       "0  Explore machine learning by playing w/ pics, m...          image   \n",
       "1  Build powerful and intelligent conversational ...          image   \n",
       "2  Instant crime alerts and live broadcasts, laun...          image   \n",
       "3  Startup job search, with automated feedback fo...          image   \n",
       "4  Get a daily email of a previously upvoted product          image   \n",
       "\n",
       "  product_state  comments_count      ...       \\\n",
       "0       default              24      ...        \n",
       "1       default              43      ...        \n",
       "2       default               9      ...        \n",
       "3       default               7      ...        \n",
       "4       default              10      ...        \n",
       "\n",
       "                          headline  twitter_username           website_url  \\\n",
       "0                              NaN          tonybrix                   NaN   \n",
       "1  Co-founder and CEO of Hardbound           nbashaw  https://hardbound.co   \n",
       "2  Co-founder and CEO of Hardbound           nbashaw  https://hardbound.co   \n",
       "3  Co-founder and CEO of Hardbound           nbashaw  https://hardbound.co   \n",
       "4  Co-founder and CEO of Hardbound           nbashaw  https://hardbound.co   \n",
       "\n",
       "  collections_count followed_topics_count followers_count followings_count  \\\n",
       "0                 0                     0               7                2   \n",
       "1                 4                     1            4014             1618   \n",
       "2                 4                     1            4014             1618   \n",
       "3                 4                     1            4014             1618   \n",
       "4                 4                     1            4014             1618   \n",
       "\n",
       "  maker_of_count posts_count votes_count_y  \n",
       "0              0           2           235  \n",
       "1             27         107           822  \n",
       "2             27         107           822  \n",
       "3             27         107           822  \n",
       "4             27         107           822  \n",
       "\n",
       "[5 rows x 328 columns]"
      ]
     },
     "execution_count": 116,
     "metadata": {},
     "output_type": "execute_result"
    }
   ],
   "source": [
    "posts_users_df = pd.merge(posts_df, users_df, on='user_id')\n",
    "posts_users_df.head()"
   ]
  },
  {
   "cell_type": "markdown",
   "metadata": {
    "slideshow": {
     "slide_type": "subslide"
    }
   },
   "source": [
    "# Concatenating\n",
    "* adding *rows*\n",
    "* see also: df.append()"
   ]
  },
  {
   "cell_type": "code",
   "execution_count": 117,
   "metadata": {
    "collapsed": false
   },
   "outputs": [
    {
     "data": {
      "text/html": [
       "<div>\n",
       "<table border=\"1\" class=\"dataframe\">\n",
       "  <thead>\n",
       "    <tr style=\"text-align: right;\">\n",
       "      <th></th>\n",
       "      <th>id</th>\n",
       "      <th>date</th>\n",
       "      <th>day</th>\n",
       "      <th>created_at_x</th>\n",
       "      <th>time_of_day</th>\n",
       "      <th>name_x</th>\n",
       "      <th>tagline</th>\n",
       "      <th>thumbnail_type</th>\n",
       "      <th>product_state</th>\n",
       "      <th>comments_count</th>\n",
       "      <th>...</th>\n",
       "      <th>headline</th>\n",
       "      <th>twitter_username</th>\n",
       "      <th>website_url</th>\n",
       "      <th>collections_count</th>\n",
       "      <th>followed_topics_count</th>\n",
       "      <th>followers_count</th>\n",
       "      <th>followings_count</th>\n",
       "      <th>maker_of_count</th>\n",
       "      <th>posts_count</th>\n",
       "      <th>votes_count_y</th>\n",
       "    </tr>\n",
       "  </thead>\n",
       "  <tbody>\n",
       "    <tr>\n",
       "      <th>0</th>\n",
       "      <td>82423</td>\n",
       "      <td>2016-11-16</td>\n",
       "      <td>Wednesday</td>\n",
       "      <td>2016-11-16 00:20:00</td>\n",
       "      <td>Night</td>\n",
       "      <td>A.I. Experiments by Google</td>\n",
       "      <td>Explore machine learning by playing w/ pics, m...</td>\n",
       "      <td>image</td>\n",
       "      <td>default</td>\n",
       "      <td>24</td>\n",
       "      <td>...</td>\n",
       "      <td>NaN</td>\n",
       "      <td>tonybrix</td>\n",
       "      <td>NaN</td>\n",
       "      <td>0</td>\n",
       "      <td>0</td>\n",
       "      <td>7</td>\n",
       "      <td>2</td>\n",
       "      <td>0</td>\n",
       "      <td>2</td>\n",
       "      <td>235</td>\n",
       "    </tr>\n",
       "    <tr>\n",
       "      <th>1</th>\n",
       "      <td>82480</td>\n",
       "      <td>2016-11-16</td>\n",
       "      <td>Wednesday</td>\n",
       "      <td>2016-11-16 05:40:53</td>\n",
       "      <td>Morning</td>\n",
       "      <td>Init.ai</td>\n",
       "      <td>Build powerful and intelligent conversational ...</td>\n",
       "      <td>image</td>\n",
       "      <td>default</td>\n",
       "      <td>43</td>\n",
       "      <td>...</td>\n",
       "      <td>Co-founder and CEO of Hardbound</td>\n",
       "      <td>nbashaw</td>\n",
       "      <td>https://hardbound.co</td>\n",
       "      <td>4</td>\n",
       "      <td>1</td>\n",
       "      <td>4014</td>\n",
       "      <td>1618</td>\n",
       "      <td>27</td>\n",
       "      <td>107</td>\n",
       "      <td>822</td>\n",
       "    </tr>\n",
       "    <tr>\n",
       "      <th>2</th>\n",
       "      <td>80448</td>\n",
       "      <td>2016-10-26</td>\n",
       "      <td>Wednesday</td>\n",
       "      <td>2016-10-26 07:19:25</td>\n",
       "      <td>Morning</td>\n",
       "      <td>Vigilante</td>\n",
       "      <td>Instant crime alerts and live broadcasts, laun...</td>\n",
       "      <td>image</td>\n",
       "      <td>default</td>\n",
       "      <td>9</td>\n",
       "      <td>...</td>\n",
       "      <td>Co-founder and CEO of Hardbound</td>\n",
       "      <td>nbashaw</td>\n",
       "      <td>https://hardbound.co</td>\n",
       "      <td>4</td>\n",
       "      <td>1</td>\n",
       "      <td>4014</td>\n",
       "      <td>1618</td>\n",
       "      <td>27</td>\n",
       "      <td>107</td>\n",
       "      <td>822</td>\n",
       "    </tr>\n",
       "    <tr>\n",
       "      <th>17973</th>\n",
       "      <td>11429</td>\n",
       "      <td>2014-11-24</td>\n",
       "      <td>Monday</td>\n",
       "      <td>2014-11-24 09:05:58</td>\n",
       "      <td>Morning</td>\n",
       "      <td>Kitchenbowl</td>\n",
       "      <td>A social community for foodies to share &amp; disc...</td>\n",
       "      <td>image</td>\n",
       "      <td>default</td>\n",
       "      <td>14</td>\n",
       "      <td>...</td>\n",
       "      <td>Founder of CoffeeMe</td>\n",
       "      <td>hsukenooi</td>\n",
       "      <td>http://hsukenooi.com</td>\n",
       "      <td>0</td>\n",
       "      <td>0</td>\n",
       "      <td>390</td>\n",
       "      <td>132</td>\n",
       "      <td>2</td>\n",
       "      <td>12</td>\n",
       "      <td>367</td>\n",
       "    </tr>\n",
       "    <tr>\n",
       "      <th>17974</th>\n",
       "      <td>11430</td>\n",
       "      <td>2014-11-24</td>\n",
       "      <td>Monday</td>\n",
       "      <td>2014-11-24 09:08:39</td>\n",
       "      <td>Morning</td>\n",
       "      <td>Code with Anna+Elsa</td>\n",
       "      <td>Hour of Code - draw fractals and snowflakes. A...</td>\n",
       "      <td>image</td>\n",
       "      <td>default</td>\n",
       "      <td>1</td>\n",
       "      <td>...</td>\n",
       "      <td>Co-founder, Code.org</td>\n",
       "      <td>hadip</td>\n",
       "      <td>http://code.org</td>\n",
       "      <td>0</td>\n",
       "      <td>0</td>\n",
       "      <td>1282</td>\n",
       "      <td>129</td>\n",
       "      <td>2</td>\n",
       "      <td>1</td>\n",
       "      <td>4</td>\n",
       "    </tr>\n",
       "    <tr>\n",
       "      <th>17975</th>\n",
       "      <td>11433</td>\n",
       "      <td>2014-11-24</td>\n",
       "      <td>Monday</td>\n",
       "      <td>2014-11-24 09:32:43</td>\n",
       "      <td>Morning</td>\n",
       "      <td>Take My Cash</td>\n",
       "      <td>Handpicked products from Amazon UK</td>\n",
       "      <td>image</td>\n",
       "      <td>default</td>\n",
       "      <td>4</td>\n",
       "      <td>...</td>\n",
       "      <td>Creative Director, FFFabs.com</td>\n",
       "      <td>fffabs</td>\n",
       "      <td>http://fabio.cool</td>\n",
       "      <td>1</td>\n",
       "      <td>0</td>\n",
       "      <td>2017</td>\n",
       "      <td>629</td>\n",
       "      <td>4</td>\n",
       "      <td>1</td>\n",
       "      <td>61</td>\n",
       "    </tr>\n",
       "  </tbody>\n",
       "</table>\n",
       "<p>6 rows × 328 columns</p>\n",
       "</div>"
      ],
      "text/plain": [
       "          id        date        day         created_at_x time_of_day  \\\n",
       "0      82423  2016-11-16  Wednesday  2016-11-16 00:20:00       Night   \n",
       "1      82480  2016-11-16  Wednesday  2016-11-16 05:40:53     Morning   \n",
       "2      80448  2016-10-26  Wednesday  2016-10-26 07:19:25     Morning   \n",
       "17973  11429  2014-11-24     Monday  2014-11-24 09:05:58     Morning   \n",
       "17974  11430  2014-11-24     Monday  2014-11-24 09:08:39     Morning   \n",
       "17975  11433  2014-11-24     Monday  2014-11-24 09:32:43     Morning   \n",
       "\n",
       "                           name_x  \\\n",
       "0      A.I. Experiments by Google   \n",
       "1                         Init.ai   \n",
       "2                       Vigilante   \n",
       "17973                 Kitchenbowl   \n",
       "17974         Code with Anna+Elsa   \n",
       "17975                Take My Cash   \n",
       "\n",
       "                                                 tagline thumbnail_type  \\\n",
       "0      Explore machine learning by playing w/ pics, m...          image   \n",
       "1      Build powerful and intelligent conversational ...          image   \n",
       "2      Instant crime alerts and live broadcasts, laun...          image   \n",
       "17973  A social community for foodies to share & disc...          image   \n",
       "17974  Hour of Code - draw fractals and snowflakes. A...          image   \n",
       "17975                 Handpicked products from Amazon UK          image   \n",
       "\n",
       "      product_state  comments_count      ...       \\\n",
       "0           default              24      ...        \n",
       "1           default              43      ...        \n",
       "2           default               9      ...        \n",
       "17973       default              14      ...        \n",
       "17974       default               1      ...        \n",
       "17975       default               4      ...        \n",
       "\n",
       "                              headline  twitter_username  \\\n",
       "0                                  NaN          tonybrix   \n",
       "1      Co-founder and CEO of Hardbound           nbashaw   \n",
       "2      Co-founder and CEO of Hardbound           nbashaw   \n",
       "17973              Founder of CoffeeMe         hsukenooi   \n",
       "17974             Co-founder, Code.org             hadip   \n",
       "17975    Creative Director, FFFabs.com            fffabs   \n",
       "\n",
       "                website_url collections_count followed_topics_count  \\\n",
       "0                       NaN                 0                     0   \n",
       "1      https://hardbound.co                 4                     1   \n",
       "2      https://hardbound.co                 4                     1   \n",
       "17973  http://hsukenooi.com                 0                     0   \n",
       "17974       http://code.org                 0                     0   \n",
       "17975     http://fabio.cool                 1                     0   \n",
       "\n",
       "      followers_count followings_count maker_of_count posts_count  \\\n",
       "0                   7                2              0           2   \n",
       "1                4014             1618             27         107   \n",
       "2                4014             1618             27         107   \n",
       "17973             390              132              2          12   \n",
       "17974            1282              129              2           1   \n",
       "17975            2017              629              4           1   \n",
       "\n",
       "      votes_count_y  \n",
       "0               235  \n",
       "1               822  \n",
       "2               822  \n",
       "17973           367  \n",
       "17974             4  \n",
       "17975            61  \n",
       "\n",
       "[6 rows x 328 columns]"
      ]
     },
     "execution_count": 117,
     "metadata": {},
     "output_type": "execute_result"
    }
   ],
   "source": [
    "pd.concat([posts_users_df[:3],posts_users_df[-3:]], axis=0)"
   ]
  },
  {
   "cell_type": "code",
   "execution_count": 118,
   "metadata": {
    "collapsed": false
   },
   "outputs": [
    {
     "data": {
      "text/html": [
       "<div>\n",
       "<table border=\"1\" class=\"dataframe\">\n",
       "  <thead>\n",
       "    <tr style=\"text-align: right;\">\n",
       "      <th></th>\n",
       "      <th>id</th>\n",
       "      <th>date</th>\n",
       "      <th>day</th>\n",
       "      <th>headline</th>\n",
       "      <th>twitter_username</th>\n",
       "      <th>website_url</th>\n",
       "    </tr>\n",
       "  </thead>\n",
       "  <tbody>\n",
       "    <tr>\n",
       "      <th>0</th>\n",
       "      <td>82423</td>\n",
       "      <td>2016-11-16</td>\n",
       "      <td>Wednesday</td>\n",
       "      <td>NaN</td>\n",
       "      <td>tonybrix</td>\n",
       "      <td>NaN</td>\n",
       "    </tr>\n",
       "    <tr>\n",
       "      <th>1</th>\n",
       "      <td>82480</td>\n",
       "      <td>2016-11-16</td>\n",
       "      <td>Wednesday</td>\n",
       "      <td>Co-founder and CEO of Hardbound</td>\n",
       "      <td>nbashaw</td>\n",
       "      <td>https://hardbound.co</td>\n",
       "    </tr>\n",
       "    <tr>\n",
       "      <th>2</th>\n",
       "      <td>80448</td>\n",
       "      <td>2016-10-26</td>\n",
       "      <td>Wednesday</td>\n",
       "      <td>Co-founder and CEO of Hardbound</td>\n",
       "      <td>nbashaw</td>\n",
       "      <td>https://hardbound.co</td>\n",
       "    </tr>\n",
       "    <tr>\n",
       "      <th>3</th>\n",
       "      <td>80152</td>\n",
       "      <td>2016-10-24</td>\n",
       "      <td>Monday</td>\n",
       "      <td>Co-founder and CEO of Hardbound</td>\n",
       "      <td>nbashaw</td>\n",
       "      <td>https://hardbound.co</td>\n",
       "    </tr>\n",
       "    <tr>\n",
       "      <th>4</th>\n",
       "      <td>78959</td>\n",
       "      <td>2016-10-12</td>\n",
       "      <td>Wednesday</td>\n",
       "      <td>Co-founder and CEO of Hardbound</td>\n",
       "      <td>nbashaw</td>\n",
       "      <td>https://hardbound.co</td>\n",
       "    </tr>\n",
       "  </tbody>\n",
       "</table>\n",
       "</div>"
      ],
      "text/plain": [
       "      id        date        day                         headline  \\\n",
       "0  82423  2016-11-16  Wednesday                              NaN   \n",
       "1  82480  2016-11-16  Wednesday  Co-founder and CEO of Hardbound   \n",
       "2  80448  2016-10-26  Wednesday  Co-founder and CEO of Hardbound   \n",
       "3  80152  2016-10-24     Monday  Co-founder and CEO of Hardbound   \n",
       "4  78959  2016-10-12  Wednesday  Co-founder and CEO of Hardbound   \n",
       "\n",
       "  twitter_username           website_url  \n",
       "0         tonybrix                   NaN  \n",
       "1          nbashaw  https://hardbound.co  \n",
       "2          nbashaw  https://hardbound.co  \n",
       "3          nbashaw  https://hardbound.co  \n",
       "4          nbashaw  https://hardbound.co  "
      ]
     },
     "execution_count": 118,
     "metadata": {},
     "output_type": "execute_result"
    }
   ],
   "source": [
    "pd.concat([posts_users_df[[\"id\",\"date\",\"day\"]],posts_users_df[[\"headline\",\"twitter_username\",\"website_url\"]]], axis=1).head()"
   ]
  },
  {
   "cell_type": "markdown",
   "metadata": {
    "slideshow": {
     "slide_type": "subslide"
    }
   },
   "source": [
    "# Multi-Indexing\n",
    "* group by structuring"
   ]
  },
  {
   "cell_type": "code",
   "execution_count": 119,
   "metadata": {
    "collapsed": false
   },
   "outputs": [
    {
     "data": {
      "text/html": [
       "<div>\n",
       "<table border=\"1\" class=\"dataframe\">\n",
       "  <thead>\n",
       "    <tr style=\"text-align: right;\">\n",
       "      <th></th>\n",
       "      <th></th>\n",
       "      <th>A</th>\n",
       "      <th>B</th>\n",
       "      <th>C</th>\n",
       "    </tr>\n",
       "    <tr>\n",
       "      <th>first</th>\n",
       "      <th>second</th>\n",
       "      <th></th>\n",
       "      <th></th>\n",
       "      <th></th>\n",
       "    </tr>\n",
       "  </thead>\n",
       "  <tbody>\n",
       "    <tr>\n",
       "      <th rowspan=\"2\" valign=\"top\">bar</th>\n",
       "      <th>one</th>\n",
       "      <td>1.159158</td>\n",
       "      <td>-0.899764</td>\n",
       "      <td>0.033517</td>\n",
       "    </tr>\n",
       "    <tr>\n",
       "      <th>two</th>\n",
       "      <td>1.121299</td>\n",
       "      <td>-0.195418</td>\n",
       "      <td>-0.475588</td>\n",
       "    </tr>\n",
       "    <tr>\n",
       "      <th rowspan=\"2\" valign=\"top\">baz</th>\n",
       "      <th>one</th>\n",
       "      <td>-1.475543</td>\n",
       "      <td>0.460814</td>\n",
       "      <td>-1.103353</td>\n",
       "    </tr>\n",
       "    <tr>\n",
       "      <th>two</th>\n",
       "      <td>0.654302</td>\n",
       "      <td>0.521286</td>\n",
       "      <td>0.818769</td>\n",
       "    </tr>\n",
       "    <tr>\n",
       "      <th rowspan=\"2\" valign=\"top\">foo</th>\n",
       "      <th>one</th>\n",
       "      <td>-0.541846</td>\n",
       "      <td>0.864059</td>\n",
       "      <td>1.074224</td>\n",
       "    </tr>\n",
       "    <tr>\n",
       "      <th>two</th>\n",
       "      <td>1.341459</td>\n",
       "      <td>-0.712094</td>\n",
       "      <td>-2.143827</td>\n",
       "    </tr>\n",
       "    <tr>\n",
       "      <th rowspan=\"2\" valign=\"top\">qux</th>\n",
       "      <th>one</th>\n",
       "      <td>-1.578330</td>\n",
       "      <td>0.343214</td>\n",
       "      <td>0.675488</td>\n",
       "    </tr>\n",
       "    <tr>\n",
       "      <th>two</th>\n",
       "      <td>0.329659</td>\n",
       "      <td>0.293344</td>\n",
       "      <td>-0.079629</td>\n",
       "    </tr>\n",
       "  </tbody>\n",
       "</table>\n",
       "</div>"
      ],
      "text/plain": [
       "                     A         B         C\n",
       "first second                              \n",
       "bar   one     1.159158 -0.899764  0.033517\n",
       "      two     1.121299 -0.195418 -0.475588\n",
       "baz   one    -1.475543  0.460814 -1.103353\n",
       "      two     0.654302  0.521286  0.818769\n",
       "foo   one    -0.541846  0.864059  1.074224\n",
       "      two     1.341459 -0.712094 -2.143827\n",
       "qux   one    -1.578330  0.343214  0.675488\n",
       "      two     0.329659  0.293344 -0.079629"
      ]
     },
     "execution_count": 119,
     "metadata": {},
     "output_type": "execute_result"
    }
   ],
   "source": [
    "index = pd.MultiIndex.from_tuples(names=['first', 'second'],\n",
    "            tuples = list(zip(['bar', 'bar', 'baz', 'baz','foo', 'foo', 'qux', 'qux'],\n",
    "                              ['one', 'two', 'one', 'two','one', 'two', 'one', 'two'])))\n",
    "df = pd.DataFrame(np.random.randn(8, 3), index=index, columns=['A', 'B', 'C'])\n",
    "df"
   ]
  },
  {
   "cell_type": "code",
   "execution_count": 120,
   "metadata": {
    "collapsed": false
   },
   "outputs": [
    {
     "data": {
      "text/plain": [
       "first  second   \n",
       "bar    one     A    1.159158\n",
       "               B   -0.899764\n",
       "               C    0.033517\n",
       "       two     A    1.121299\n",
       "               B   -0.195418\n",
       "               C   -0.475588\n",
       "baz    one     A   -1.475543\n",
       "               B    0.460814\n",
       "               C   -1.103353\n",
       "       two     A    0.654302\n",
       "               B    0.521286\n",
       "               C    0.818769\n",
       "foo    one     A   -0.541846\n",
       "               B    0.864059\n",
       "               C    1.074224\n",
       "       two     A    1.341459\n",
       "               B   -0.712094\n",
       "               C   -2.143827\n",
       "qux    one     A   -1.578330\n",
       "               B    0.343214\n",
       "               C    0.675488\n",
       "       two     A    0.329659\n",
       "               B    0.293344\n",
       "               C   -0.079629\n",
       "dtype: float64"
      ]
     },
     "execution_count": 120,
     "metadata": {},
     "output_type": "execute_result"
    }
   ],
   "source": [
    "stacked = df.stack()\n",
    "stacked"
   ]
  },
  {
   "cell_type": "code",
   "execution_count": 121,
   "metadata": {
    "collapsed": false
   },
   "outputs": [
    {
     "data": {
      "text/html": [
       "<div>\n",
       "<table border=\"1\" class=\"dataframe\">\n",
       "  <thead>\n",
       "    <tr style=\"text-align: right;\">\n",
       "      <th></th>\n",
       "      <th></th>\n",
       "      <th>A</th>\n",
       "      <th>B</th>\n",
       "      <th>C</th>\n",
       "    </tr>\n",
       "    <tr>\n",
       "      <th>first</th>\n",
       "      <th>second</th>\n",
       "      <th></th>\n",
       "      <th></th>\n",
       "      <th></th>\n",
       "    </tr>\n",
       "  </thead>\n",
       "  <tbody>\n",
       "    <tr>\n",
       "      <th rowspan=\"2\" valign=\"top\">bar</th>\n",
       "      <th>one</th>\n",
       "      <td>1.159158</td>\n",
       "      <td>-0.899764</td>\n",
       "      <td>0.033517</td>\n",
       "    </tr>\n",
       "    <tr>\n",
       "      <th>two</th>\n",
       "      <td>1.121299</td>\n",
       "      <td>-0.195418</td>\n",
       "      <td>-0.475588</td>\n",
       "    </tr>\n",
       "    <tr>\n",
       "      <th rowspan=\"2\" valign=\"top\">baz</th>\n",
       "      <th>one</th>\n",
       "      <td>-1.475543</td>\n",
       "      <td>0.460814</td>\n",
       "      <td>-1.103353</td>\n",
       "    </tr>\n",
       "    <tr>\n",
       "      <th>two</th>\n",
       "      <td>0.654302</td>\n",
       "      <td>0.521286</td>\n",
       "      <td>0.818769</td>\n",
       "    </tr>\n",
       "    <tr>\n",
       "      <th rowspan=\"2\" valign=\"top\">foo</th>\n",
       "      <th>one</th>\n",
       "      <td>-0.541846</td>\n",
       "      <td>0.864059</td>\n",
       "      <td>1.074224</td>\n",
       "    </tr>\n",
       "    <tr>\n",
       "      <th>two</th>\n",
       "      <td>1.341459</td>\n",
       "      <td>-0.712094</td>\n",
       "      <td>-2.143827</td>\n",
       "    </tr>\n",
       "    <tr>\n",
       "      <th rowspan=\"2\" valign=\"top\">qux</th>\n",
       "      <th>one</th>\n",
       "      <td>-1.578330</td>\n",
       "      <td>0.343214</td>\n",
       "      <td>0.675488</td>\n",
       "    </tr>\n",
       "    <tr>\n",
       "      <th>two</th>\n",
       "      <td>0.329659</td>\n",
       "      <td>0.293344</td>\n",
       "      <td>-0.079629</td>\n",
       "    </tr>\n",
       "  </tbody>\n",
       "</table>\n",
       "</div>"
      ],
      "text/plain": [
       "                     A         B         C\n",
       "first second                              \n",
       "bar   one     1.159158 -0.899764  0.033517\n",
       "      two     1.121299 -0.195418 -0.475588\n",
       "baz   one    -1.475543  0.460814 -1.103353\n",
       "      two     0.654302  0.521286  0.818769\n",
       "foo   one    -0.541846  0.864059  1.074224\n",
       "      two     1.341459 -0.712094 -2.143827\n",
       "qux   one    -1.578330  0.343214  0.675488\n",
       "      two     0.329659  0.293344 -0.079629"
      ]
     },
     "execution_count": 121,
     "metadata": {},
     "output_type": "execute_result"
    }
   ],
   "source": [
    "stacked.unstack() #.unstack() "
   ]
  },
  {
   "cell_type": "code",
   "execution_count": 122,
   "metadata": {
    "collapsed": false
   },
   "outputs": [
    {
     "data": {
      "text/html": [
       "<div>\n",
       "<table border=\"1\" class=\"dataframe\">\n",
       "  <thead>\n",
       "    <tr style=\"text-align: right;\">\n",
       "      <th></th>\n",
       "      <th>first</th>\n",
       "      <th>bar</th>\n",
       "      <th>baz</th>\n",
       "      <th>foo</th>\n",
       "      <th>qux</th>\n",
       "    </tr>\n",
       "    <tr>\n",
       "      <th>second</th>\n",
       "      <th></th>\n",
       "      <th></th>\n",
       "      <th></th>\n",
       "      <th></th>\n",
       "      <th></th>\n",
       "    </tr>\n",
       "  </thead>\n",
       "  <tbody>\n",
       "    <tr>\n",
       "      <th rowspan=\"3\" valign=\"top\">one</th>\n",
       "      <th>A</th>\n",
       "      <td>1.159158</td>\n",
       "      <td>-1.475543</td>\n",
       "      <td>-0.541846</td>\n",
       "      <td>-1.578330</td>\n",
       "    </tr>\n",
       "    <tr>\n",
       "      <th>B</th>\n",
       "      <td>-0.899764</td>\n",
       "      <td>0.460814</td>\n",
       "      <td>0.864059</td>\n",
       "      <td>0.343214</td>\n",
       "    </tr>\n",
       "    <tr>\n",
       "      <th>C</th>\n",
       "      <td>0.033517</td>\n",
       "      <td>-1.103353</td>\n",
       "      <td>1.074224</td>\n",
       "      <td>0.675488</td>\n",
       "    </tr>\n",
       "    <tr>\n",
       "      <th rowspan=\"3\" valign=\"top\">two</th>\n",
       "      <th>A</th>\n",
       "      <td>1.121299</td>\n",
       "      <td>0.654302</td>\n",
       "      <td>1.341459</td>\n",
       "      <td>0.329659</td>\n",
       "    </tr>\n",
       "    <tr>\n",
       "      <th>B</th>\n",
       "      <td>-0.195418</td>\n",
       "      <td>0.521286</td>\n",
       "      <td>-0.712094</td>\n",
       "      <td>0.293344</td>\n",
       "    </tr>\n",
       "    <tr>\n",
       "      <th>C</th>\n",
       "      <td>-0.475588</td>\n",
       "      <td>0.818769</td>\n",
       "      <td>-2.143827</td>\n",
       "      <td>-0.079629</td>\n",
       "    </tr>\n",
       "  </tbody>\n",
       "</table>\n",
       "</div>"
      ],
      "text/plain": [
       "first          bar       baz       foo       qux\n",
       "second                                          \n",
       "one    A  1.159158 -1.475543 -0.541846 -1.578330\n",
       "       B -0.899764  0.460814  0.864059  0.343214\n",
       "       C  0.033517 -1.103353  1.074224  0.675488\n",
       "two    A  1.121299  0.654302  1.341459  0.329659\n",
       "       B -0.195418  0.521286 -0.712094  0.293344\n",
       "       C -0.475588  0.818769 -2.143827 -0.079629"
      ]
     },
     "execution_count": 122,
     "metadata": {},
     "output_type": "execute_result"
    }
   ],
   "source": [
    "stacked.unstack(0)"
   ]
  },
  {
   "cell_type": "code",
   "execution_count": 123,
   "metadata": {
    "collapsed": false
   },
   "outputs": [
    {
     "data": {
      "text/html": [
       "<div>\n",
       "<table border=\"1\" class=\"dataframe\">\n",
       "  <thead>\n",
       "    <tr>\n",
       "      <th>second</th>\n",
       "      <th colspan=\"3\" halign=\"left\">one</th>\n",
       "      <th colspan=\"3\" halign=\"left\">two</th>\n",
       "    </tr>\n",
       "    <tr>\n",
       "      <th></th>\n",
       "      <th>A</th>\n",
       "      <th>B</th>\n",
       "      <th>C</th>\n",
       "      <th>A</th>\n",
       "      <th>B</th>\n",
       "      <th>C</th>\n",
       "    </tr>\n",
       "    <tr>\n",
       "      <th>first</th>\n",
       "      <th></th>\n",
       "      <th></th>\n",
       "      <th></th>\n",
       "      <th></th>\n",
       "      <th></th>\n",
       "      <th></th>\n",
       "    </tr>\n",
       "  </thead>\n",
       "  <tbody>\n",
       "    <tr>\n",
       "      <th>bar</th>\n",
       "      <td>1.159158</td>\n",
       "      <td>-0.899764</td>\n",
       "      <td>0.033517</td>\n",
       "      <td>1.121299</td>\n",
       "      <td>-0.195418</td>\n",
       "      <td>-0.475588</td>\n",
       "    </tr>\n",
       "    <tr>\n",
       "      <th>baz</th>\n",
       "      <td>-1.475543</td>\n",
       "      <td>0.460814</td>\n",
       "      <td>-1.103353</td>\n",
       "      <td>0.654302</td>\n",
       "      <td>0.521286</td>\n",
       "      <td>0.818769</td>\n",
       "    </tr>\n",
       "    <tr>\n",
       "      <th>foo</th>\n",
       "      <td>-0.541846</td>\n",
       "      <td>0.864059</td>\n",
       "      <td>1.074224</td>\n",
       "      <td>1.341459</td>\n",
       "      <td>-0.712094</td>\n",
       "      <td>-2.143827</td>\n",
       "    </tr>\n",
       "    <tr>\n",
       "      <th>qux</th>\n",
       "      <td>-1.578330</td>\n",
       "      <td>0.343214</td>\n",
       "      <td>0.675488</td>\n",
       "      <td>0.329659</td>\n",
       "      <td>0.293344</td>\n",
       "      <td>-0.079629</td>\n",
       "    </tr>\n",
       "  </tbody>\n",
       "</table>\n",
       "</div>"
      ],
      "text/plain": [
       "second       one                           two                    \n",
       "               A         B         C         A         B         C\n",
       "first                                                             \n",
       "bar     1.159158 -0.899764  0.033517  1.121299 -0.195418 -0.475588\n",
       "baz    -1.475543  0.460814 -1.103353  0.654302  0.521286  0.818769\n",
       "foo    -0.541846  0.864059  1.074224  1.341459 -0.712094 -2.143827\n",
       "qux    -1.578330  0.343214  0.675488  0.329659  0.293344 -0.079629"
      ]
     },
     "execution_count": 123,
     "metadata": {},
     "output_type": "execute_result"
    }
   ],
   "source": [
    "stacked.unstack(0).T"
   ]
  },
  {
   "cell_type": "markdown",
   "metadata": {
    "slideshow": {
     "slide_type": "subslide"
    }
   },
   "source": [
    "# Plotting\n",
    "* for good, not evil\n",
    "* http://pandas.pydata.org/pandas-docs/stable/visualization.html\n",
    "* http://matplotlib.org\n",
    "* http://matplotlib.org/users/style_sheets.html\n",
    "* https://stanford.edu/~mwaskom/software/seaborn/ \n",
    "* http://bokeh.pydata.org/en/latest/"
   ]
  },
  {
   "cell_type": "code",
   "execution_count": 124,
   "metadata": {
    "collapsed": false
   },
   "outputs": [],
   "source": [
    "import matplotlib.pyplot as plt\n",
    "%matplotlib inline"
   ]
  },
  {
   "cell_type": "code",
   "execution_count": 125,
   "metadata": {
    "collapsed": false
   },
   "outputs": [],
   "source": [
    "import pylab\n",
    "pylab.rcParams['figure.figsize']=(6,5)"
   ]
  },
  {
   "cell_type": "code",
   "execution_count": 126,
   "metadata": {
    "collapsed": false
   },
   "outputs": [],
   "source": [
    "import matplotlib\n",
    "matplotlib.style.use('classic')\n",
    "#matplotlib.style.use('ggplot')\n",
    "#print plt.style.available "
   ]
  },
  {
   "cell_type": "code",
   "execution_count": 127,
   "metadata": {
    "collapsed": false
   },
   "outputs": [],
   "source": [
    "zeros_ndarray = np.zeros((3,4))        # Create a matrix of zeros with 3 rows and 4 columns. \n",
    "ones_ndarray = np.ones((10,20))        # Create a matrix of ones with 10 rows and 20 columns.\n",
    "identity_ndarray = np.identity(50)     # Create an identity matrix with 50 rows and 50 columns. \n",
    "random_ndarray = np.random.rand(2, 2)  # Create a 2x2 array of random floats ranging from 0 to 1. \n",
    "range_ndarray = np.arange(0, 20, 0.5)  # Create a numpy array with arguments (start, end, step_size). \n",
    "noise_nparray = np.random.randn(35,6)  # Create a 35x6 array of normally distributed random normal variables\n",
    "\n",
    "noise_df = pd.DataFrame(noise_nparray, index=bdays, columns=list('ABC123'))\n",
    "for i in range(6):\n",
    "    noise_df.iloc[i,i] = np.nan\n",
    "    \n",
    "random_walk_df = noise_df.apply(np.cumsum)\n",
    "standarized_walk_df = (random_walk_df - random_walk_df.mean()) / random_walk_df.std()"
   ]
  },
  {
   "cell_type": "code",
   "execution_count": 128,
   "metadata": {
    "collapsed": false
   },
   "outputs": [
    {
     "name": "stdout",
     "output_type": "stream",
     "text": [
      "        index         A         B         C         1         2         3\n",
      "0  1982-11-07       NaN  1.063179 -0.664004  0.132875 -0.925414  0.537053\n",
      "1  1983-11-07 -1.088771       NaN -0.478099 -0.483204 -1.329139  0.022429\n",
      "2  1984-11-07 -1.141769  0.855985       NaN  0.099639 -1.178698  1.383977\n",
      "3  1985-11-07 -0.940473  1.423220 -0.513786       NaN -1.004392  0.288437\n",
      "4  1986-11-07 -0.542578  0.789338 -0.592913  0.007434       NaN  1.499743\n",
      "5  1987-11-07 -1.799397  0.775813 -1.266924 -0.314264 -1.304998       NaN\n",
      "6  1988-11-07 -2.223692  0.705921 -1.514455 -0.496142 -1.100117 -0.239202\n",
      "7  1989-11-07 -0.451626  0.564023 -0.485664 -0.340567 -0.571919  0.482829\n",
      "8  1990-11-07  0.362864  0.631516  0.398419 -0.755779 -0.704987  0.587022\n",
      "9  1991-11-07  0.207596  1.050164  0.620002 -1.329651 -0.775880  0.764755\n",
      "10 1992-11-07 -0.318149  1.157753  0.361604 -0.592673 -1.193991  1.744978\n",
      "11 1993-11-07  0.657733  0.481888  0.297373  0.497050 -1.293208 -0.914305\n",
      "12 1994-11-07  0.271191  0.441029  0.023563 -0.807141 -0.785452 -0.697552\n",
      "13 1995-11-07  1.190616  1.549885  0.501614 -1.170547  0.040235 -0.839627\n",
      "14 1996-11-07  1.164848  1.031740  1.085694 -0.374426  0.026204 -0.856061\n",
      "15 1997-11-07  0.359313 -0.004700  1.528639 -1.281936 -0.037877  0.550261\n",
      "16 1998-11-07  1.123503  0.323458  1.661202 -1.991980  0.147419 -2.582147\n",
      "17 1999-11-07  0.832907  0.207195  1.777718 -1.215976  0.661877 -1.331504\n",
      "18 2000-11-07  1.556705  0.287625  1.590353 -0.749344  0.767405  0.216475\n",
      "19 2001-11-07  1.178519  0.454678  1.164488  0.059081  0.823342 -0.659658\n",
      "20 2002-11-07  1.753112 -0.394171  1.559138  0.598793  0.940850 -1.154635\n",
      "21 2003-11-07  1.158355 -0.376419  0.824401  0.368650  1.493760  1.042729\n",
      "22 2004-11-07  0.441736 -0.495017  0.641697 -0.419472  1.545530  1.585918\n",
      "23 2005-11-07 -0.024979 -1.131144  0.087139 -0.759556  1.755592  0.881929\n",
      "24 2006-11-07 -0.450235 -0.651044  0.081288 -0.560284  1.707098  0.320288\n",
      "25 2007-11-07 -0.162192 -1.090710 -0.847645  1.302796  1.703198  1.264052\n",
      "26 2008-11-07 -0.053470 -0.583321 -1.422281  1.734061  1.408619  0.010435\n",
      "27 2009-11-07  0.299193  0.076370 -0.926213  1.719204  1.041465  0.539550\n",
      "28 2010-11-07  0.856916  0.299864 -0.841589  0.420272  0.111533 -0.681961\n",
      "29 2011-11-07 -0.150381 -0.761847  0.246934  1.044380 -0.275200  0.073192\n",
      "30 2012-11-07  0.519927 -1.365170 -0.354714  0.500403 -0.358856 -0.266439\n",
      "31 2013-11-07 -0.975914 -1.957643 -1.255853  0.429539 -0.272852 -0.310048\n",
      "32 2014-11-07 -1.597176 -2.052112 -1.225810  0.702364 -0.411754 -0.802224\n",
      "33 2015-11-07 -1.010045 -1.467209 -1.102161  1.991196 -0.164689 -0.914632\n",
      "34 2016-11-07 -1.004184 -1.840139 -0.959153  2.035207 -0.484704 -1.546058\n"
     ]
    },
    {
     "data": {
      "text/plain": [
       "<matplotlib.axes._subplots.AxesSubplot at 0x128edabd0>"
      ]
     },
     "execution_count": 128,
     "metadata": {},
     "output_type": "execute_result"
    },
    {
     "data": {
      "image/png": "[encoded data removed]",
      "text/plain": [
       "<matplotlib.figure.Figure at 0x128eda510>"
      ]
     },
     "metadata": {},
     "output_type": "display_data"
    }
   ],
   "source": [
    "standarized_walk_df = standarized_walk_df.reset_index()\n",
    "print standarized_walk_df\n",
    "del standarized_walk_df['index'] # or df.drop('index', inplace=True, axis=1)\n",
    "\n",
    "standarized_walk_df.plot()"
   ]
  },
  {
   "cell_type": "code",
   "execution_count": 129,
   "metadata": {
    "collapsed": false
   },
   "outputs": [
    {
     "data": {
      "text/plain": [
       "<matplotlib.figure.Figure at 0x11b198810>"
      ]
     },
     "metadata": {},
     "output_type": "display_data"
    },
    {
     "data": {
      "image/png": "[encoded data removed]",
      "text/plain": [
       "<matplotlib.figure.Figure at 0x11b19d410>"
      ]
     },
     "metadata": {},
     "output_type": "display_data"
    }
   ],
   "source": [
    "plt.figure()\n",
    "random_walk_df.hist()\n",
    "plt.tight_layout()"
   ]
  },
  {
   "cell_type": "code",
   "execution_count": 130,
   "metadata": {
    "collapsed": false
   },
   "outputs": [
    {
     "data": {
      "text/plain": [
       "<matplotlib.axes._subplots.AxesSubplot at 0x11aa18690>"
      ]
     },
     "execution_count": 130,
     "metadata": {},
     "output_type": "execute_result"
    },
    {
     "data": {
      "image/png": "[encoded data removed]",
      "text/plain": [
       "<matplotlib.figure.Figure at 0x11b4b4b90>"
      ]
     },
     "metadata": {},
     "output_type": "display_data"
    }
   ],
   "source": [
    "random_walk_df.plot(kind='box')"
   ]
  },
  {
   "cell_type": "code",
   "execution_count": 131,
   "metadata": {
    "collapsed": false
   },
   "outputs": [
    {
     "data": {
      "image/png": "[encoded data removed]",
      "text/plain": [
       "<matplotlib.figure.Figure at 0x11c2dfad0>"
      ]
     },
     "metadata": {},
     "output_type": "display_data"
    }
   ],
   "source": [
    "pylab.rcParams['figure.figsize']=(17,5)\n",
    "random_walk_df.plot(kind='bar')\n",
    "pylab.rcParams['figure.figsize']=(7,5)"
   ]
  },
  {
   "cell_type": "code",
   "execution_count": 132,
   "metadata": {
    "collapsed": false
   },
   "outputs": [
    {
     "data": {
      "image/png": "[encoded data removed]",
      "text/plain": [
       "<matplotlib.figure.Figure at 0x11c517350>"
      ]
     },
     "metadata": {},
     "output_type": "display_data"
    }
   ],
   "source": [
    "from pandas.tools.plotting import scatter_matrix\n",
    "scatter_matrix(random_walk_df, alpha=0.9, figsize=(10, 10), diagonal='kde')\n",
    "pylab.rcParams['figure.figsize']=(6,5)"
   ]
  },
  {
   "cell_type": "markdown",
   "metadata": {
    "slideshow": {
     "slide_type": "subslide"
    }
   },
   "source": [
    "\n",
    "\n",
    "# When will I ever even have to use Pandas? \n",
    "\n",
    "\"Is it when I need a team of hardy animals to pull me across the expansive frozen tundra in a sled?\"\n",
    "\n",
    "<br>\n",
    "# Answer: all the time.\n",
    "So you might as well get good at it sooner rather than later... \n",
    "\n",
    "### Some other \"Intro To Pandas\" notebooks that I like a lot\n",
    "* https://github.com/zipfian/DSI_Lectures/blob/master/pandas/sallamander/numpy_notes.ipynb\n",
    "* https://github.com/zipfian/DSI_Lectures/blob/master/pandas/numpy_pandas.ipynb  \n",
    "* http://pandas.pydata.org/pandas-docs/stable/10min.html\n",
    "\n",
    "### The Official Documentation\n",
    "* http://pandas.pydata.org/pandas-docs/stable/index.html\n",
    "\n",
    "### An In-House Cheat Sheet\n",
    "* https://github.com/zipfian/precourse/tree/master/Chapter_4_Pandas#functions-i-use-all-the-time"
   ]
  }
 ],
 "metadata": {
  "anaconda-cloud": {},
  "celltoolbar": "Slideshow",
  "kernelspec": {
   "display_name": "Python [Root]",
   "language": "python",
   "name": "Python [Root]"
  },
  "language_info": {
   "codemirror_mode": {
    "name": "ipython",
    "version": 2
   },
   "file_extension": ".py",
   "mimetype": "text/x-python",
   "name": "python",
   "nbconvert_exporter": "python",
   "pygments_lexer": "ipython2",
   "version": "2.7.12"
  }
 },
 "nbformat": 4,
 "nbformat_minor": 0
}
