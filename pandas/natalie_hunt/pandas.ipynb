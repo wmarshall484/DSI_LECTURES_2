{
 "cells": [
  {
   "cell_type": "markdown",
   "metadata": {},
   "source": [
    "# Pandas\n",
    "\n",
    "## What is Pandas?\n",
    "A Python library providing data structures and data analysis tools.\n",
    "\n",
    "## Huh?\n",
    "Think of it like Excel for Python that doesn't suck."
   ]
  },
  {
   "cell_type": "code",
   "execution_count": 1,
   "metadata": {
    "collapsed": true
   },
   "outputs": [],
   "source": [
    "#By convention import pandas like:\n",
    "import pandas as pd\n",
    "#For fake data.\n",
    "from numpy.random import randn\n",
    "import numpy as np"
   ]
  },
  {
   "cell_type": "markdown",
   "metadata": {},
   "source": [
    "# Series\n",
    "Think of a Pandas Series as a _labeled_ one-dimensional vector. In fact, it need not be a numeric vector, it can contain arbitrary python objects."
   ]
  },
  {
   "cell_type": "code",
   "execution_count": 4,
   "metadata": {
    "collapsed": false
   },
   "outputs": [
    {
     "data": {
      "text/plain": [
       "0    10\n",
       "1    11\n",
       "2    12\n",
       "3    13\n",
       "4    14\n",
       "5    15\n",
       "6    16\n",
       "dtype: int64"
      ]
     },
     "execution_count": 4,
     "metadata": {},
     "output_type": "execute_result"
    }
   ],
   "source": [
    "int_series = pd.Series([i + 10 for i in xrange(10)])\n",
    "int_series.head(7)"
   ]
  },
  {
   "cell_type": "code",
   "execution_count": 8,
   "metadata": {
    "collapsed": false
   },
   "outputs": [
    {
     "data": {
      "text/plain": [
       "0   -0.180569\n",
       "1   -2.791679\n",
       "2    0.548299\n",
       "3   -0.155339\n",
       "4    1.161123\n",
       "dtype: float64"
      ]
     },
     "execution_count": 8,
     "metadata": {},
     "output_type": "execute_result"
    }
   ],
   "source": [
    "num_series = pd.Series(randn(10))\n",
    "num_series.head()"
   ]
  },
  {
   "cell_type": "code",
   "execution_count": 9,
   "metadata": {
    "collapsed": false
   },
   "outputs": [
    {
     "data": {
      "text/plain": [
       "0    a\n",
       "1    b\n",
       "2    c\n",
       "3    d\n",
       "4    e\n",
       "dtype: object"
      ]
     },
     "execution_count": 9,
     "metadata": {},
     "output_type": "execute_result"
    }
   ],
   "source": [
    "str_series = pd.Series([x for x in 'abcde'*2])\n",
    "str_series.head()"
   ]
  },
  {
   "cell_type": "code",
   "execution_count": 11,
   "metadata": {
    "collapsed": false
   },
   "outputs": [
    {
     "data": {
      "text/plain": [
       "0    <function <lambda> at 0x10aa30cf8>\n",
       "1    <function <lambda> at 0x10aa67668>\n",
       "2    <function <lambda> at 0x10aa67488>\n",
       "3    <function <lambda> at 0x10aa676e0>\n",
       "4    <function <lambda> at 0x10aa67758>\n",
       "5    <function <lambda> at 0x10aa677d0>\n",
       "6    <function <lambda> at 0x10aa67848>\n",
       "7    <function <lambda> at 0x10aa678c0>\n",
       "8    <function <lambda> at 0x10aa67938>\n",
       "9    <function <lambda> at 0x10aa679b0>\n",
       "dtype: object"
      ]
     },
     "execution_count": 11,
     "metadata": {},
     "output_type": "execute_result"
    }
   ],
   "source": [
    "fun_series = pd.Series([lambda x: x*i for i in range(10)])\n",
    "fun_series"
   ]
  },
  {
   "cell_type": "markdown",
   "metadata": {},
   "source": [
    "# Indexes.\n",
    "Notice how each series has an index (in this case a relatively meaningless default index).\n",
    "\n",
    "Pandas can make great use of informative indexes. Indexes work similarly to a dictionary key, allowing fast lookups of the data associated with the index.\n",
    "\n",
    "Indexes can also be exploited for fast group-bys, merges, time-series operations and lots more.\n",
    "\n",
    "When you're really in the zone with pandas, you'll be thinking a lot about indexes."
   ]
  },
  {
   "cell_type": "code",
   "execution_count": 12,
   "metadata": {
    "collapsed": false
   },
   "outputs": [
    {
     "name": "stdout",
     "output_type": "stream",
     "text": [
      "California    0.000259\n",
      "Alabama      -0.303370\n",
      "Indiana      -0.492151\n",
      "Montana       0.944631\n",
      "Kentucky      0.780585\n",
      "dtype: float64\n",
      "\n",
      "\n",
      "Washington    1.634667\n",
      "Alabama      -1.046461\n",
      "Montana      -0.142955\n",
      "Indiana       0.407422\n",
      "New York     -0.042223\n",
      "dtype: float64\n"
     ]
    }
   ],
   "source": [
    "indexed_series = pd.Series(randn(5), \n",
    "                           index = ['California', 'Alabama', \n",
    "                                    'Indiana', 'Montana', \n",
    "                                    'Kentucky'])\n",
    "alt_indexed_series = pd.Series(randn(5),\n",
    "                               index = ['Washington', 'Alabama', \n",
    "                                        'Montana', 'Indiana', \n",
    "                                        'New York'])\n",
    "print indexed_series\n",
    "print '\\n'\n",
    "print alt_indexed_series"
   ]
  },
  {
   "cell_type": "code",
   "execution_count": 13,
   "metadata": {
    "collapsed": false
   },
   "outputs": [
    {
     "data": {
      "text/plain": [
       "Alabama      -1.349830\n",
       "California         NaN\n",
       "Indiana      -0.084729\n",
       "Kentucky           NaN\n",
       "Montana       0.801677\n",
       "New York           NaN\n",
       "Washington         NaN\n",
       "dtype: float64"
      ]
     },
     "execution_count": 13,
     "metadata": {},
     "output_type": "execute_result"
    }
   ],
   "source": [
    "#Pandas uses the index by default to align series for arithmetic!\n",
    "indexed_series + alt_indexed_series"
   ]
  },
  {
   "cell_type": "code",
   "execution_count": 20,
   "metadata": {
    "collapsed": false
   },
   "outputs": [
    {
     "data": {
      "text/plain": [
       "Alabama       0.009645\n",
       "California   -0.013155\n",
       "Indiana      -0.080862\n",
       "Kentucky     -0.042087\n",
       "Montana      -0.036061\n",
       "dtype: float64"
      ]
     },
     "execution_count": 20,
     "metadata": {},
     "output_type": "execute_result"
    }
   ],
   "source": [
    "indexed_series = pd.Series(randn(5*100), \n",
    "                           index = ['California', 'Alabama', \n",
    "                                    'Indiana', 'Montana', \n",
    "                                    'Kentucky']*100)\n",
    "\n",
    "#If you have non-unique indexes, you can use them \n",
    "#to do groupby operations.\n",
    "\n",
    "# indexed_series\n",
    "indexed_series.groupby(level=0).mean()"
   ]
  },
  {
   "cell_type": "code",
   "execution_count": 21,
   "metadata": {
    "collapsed": true
   },
   "outputs": [
    {
     "data": {
      "text/plain": [
       "Alabama   -0.149723\n",
       "Alabama    1.614123\n",
       "Alabama    2.126128\n",
       "Alabama    0.602461\n",
       "Alabama    1.326214\n",
       "Alabama    1.348567\n",
       "Alabama    1.150699\n",
       "Alabama   -1.419701\n",
       "Alabama   -0.861687\n",
       "Alabama   -1.460732\n",
       "Alabama    1.159095\n",
       "Alabama   -0.285822\n",
       "Alabama   -0.758488\n",
       "Alabama    0.871491\n",
       "Alabama   -0.385540\n",
       "Alabama   -0.596399\n",
       "Alabama    1.324315\n",
       "Alabama    0.158434\n",
       "Alabama   -1.106628\n",
       "Alabama   -0.133078\n",
       "Alabama   -0.300011\n",
       "Alabama    0.420643\n",
       "Alabama    1.030458\n",
       "Alabama    0.710441\n",
       "Alabama    1.030093\n",
       "Alabama    0.786824\n",
       "Alabama    1.118410\n",
       "Alabama    1.947856\n",
       "Alabama   -0.186550\n",
       "Alabama   -0.341569\n",
       "             ...   \n",
       "Alabama    0.176938\n",
       "Alabama    0.222018\n",
       "Alabama    1.366404\n",
       "Alabama   -0.772393\n",
       "Alabama    0.311182\n",
       "Alabama   -0.465768\n",
       "Alabama   -0.579202\n",
       "Alabama    0.666047\n",
       "Alabama    0.007628\n",
       "Alabama   -0.204245\n",
       "Alabama    0.469916\n",
       "Alabama   -0.972548\n",
       "Alabama    0.554355\n",
       "Alabama   -0.988082\n",
       "Alabama   -1.389041\n",
       "Alabama    2.527709\n",
       "Alabama    0.774091\n",
       "Alabama   -1.109784\n",
       "Alabama    1.748445\n",
       "Alabama   -0.443867\n",
       "Alabama    0.578724\n",
       "Alabama   -1.052413\n",
       "Alabama    1.860730\n",
       "Alabama   -2.142783\n",
       "Alabama   -1.100718\n",
       "Alabama   -1.818698\n",
       "Alabama   -0.161725\n",
       "Alabama    0.677379\n",
       "Alabama   -1.735826\n",
       "Alabama    0.574943\n",
       "dtype: float64"
      ]
     },
     "execution_count": 21,
     "metadata": {},
     "output_type": "execute_result"
    }
   ],
   "source": [
    "indexed_series['Alabama']"
   ]
  },
  {
   "cell_type": "code",
   "execution_count": 22,
   "metadata": {
    "collapsed": false
   },
   "outputs": [
    {
     "data": {
      "text/plain": [
       "2015-01-31   -0.806393\n",
       "2015-02-28   -1.217313\n",
       "2015-03-31    0.247658\n",
       "2015-04-30   -1.577593\n",
       "2015-05-31    0.400231\n",
       "2015-06-30    0.028665\n",
       "2015-07-31   -2.788628\n",
       "2015-08-31    1.112595\n",
       "2015-09-30    2.279571\n",
       "2015-10-31    0.100993\n",
       "Freq: M, dtype: float64"
      ]
     },
     "execution_count": 22,
     "metadata": {},
     "output_type": "execute_result"
    }
   ],
   "source": [
    "#Datetime index\n",
    "dt_index = pd.date_range('2015-1-1', \n",
    "                        '2015-11-1', \n",
    "                        freq='m')\n",
    "dt_series = pd.Series(randn(10), \n",
    "                      index = dt_index)\n",
    "dt_series"
   ]
  },
  {
   "cell_type": "code",
   "execution_count": 29,
   "metadata": {
    "collapsed": false
   },
   "outputs": [
    {
     "data": {
      "text/plain": [
       "2015-03-31   -0.592016\n",
       "2015-06-30   -0.382899\n",
       "2015-09-30    0.201180\n",
       "2015-12-31    0.100993\n",
       "Freq: Q-DEC, dtype: float64"
      ]
     },
     "execution_count": 29,
     "metadata": {},
     "output_type": "execute_result"
    }
   ],
   "source": [
    "#Datetime indexes make it easy to transform freqs etc!\n",
    "dt_series.resample('q').mean()"
   ]
  },
  {
   "cell_type": "code",
   "execution_count": 30,
   "metadata": {
    "collapsed": false
   },
   "outputs": [
    {
     "data": {
      "text/plain": [
       "2015-01-31   -0.806393\n",
       "2015-02-28   -1.217313\n",
       "2015-03-31    0.247658\n",
       "2015-04-30   -1.577593\n",
       "2015-05-31    0.400231\n",
       "2015-06-30    0.028665\n",
       "2015-07-31   -2.788628\n",
       "2015-08-31    1.112595\n",
       "2015-09-30    2.279571\n",
       "2015-10-31    0.100993\n",
       "Freq: M, dtype: float64"
      ]
     },
     "execution_count": 30,
     "metadata": {},
     "output_type": "execute_result"
    }
   ],
   "source": [
    "dt_series"
   ]
  },
  {
   "cell_type": "markdown",
   "metadata": {},
   "source": [
    "# DataFrames\n",
    "Data frames extend the concept of Series to table-like data."
   ]
  },
  {
   "cell_type": "code",
   "execution_count": 31,
   "metadata": {
    "collapsed": false
   },
   "outputs": [
    {
     "data": {
      "text/html": [
       "<div>\n",
       "<table border=\"1\" class=\"dataframe\">\n",
       "  <thead>\n",
       "    <tr style=\"text-align: right;\">\n",
       "      <th></th>\n",
       "      <th>a</th>\n",
       "      <th>b</th>\n",
       "      <th>c</th>\n",
       "      <th>d</th>\n",
       "      <th>e</th>\n",
       "    </tr>\n",
       "  </thead>\n",
       "  <tbody>\n",
       "    <tr>\n",
       "      <th>2015-01-31</th>\n",
       "      <td>-0.218412</td>\n",
       "      <td>-0.178087</td>\n",
       "      <td>0.054843</td>\n",
       "      <td>-1.092393</td>\n",
       "      <td>0.492776</td>\n",
       "    </tr>\n",
       "    <tr>\n",
       "      <th>2015-02-28</th>\n",
       "      <td>-2.111047</td>\n",
       "      <td>-1.358571</td>\n",
       "      <td>1.342461</td>\n",
       "      <td>-0.141034</td>\n",
       "      <td>1.915312</td>\n",
       "    </tr>\n",
       "    <tr>\n",
       "      <th>2015-03-31</th>\n",
       "      <td>0.509160</td>\n",
       "      <td>1.274408</td>\n",
       "      <td>-0.144697</td>\n",
       "      <td>-0.627779</td>\n",
       "      <td>0.144554</td>\n",
       "    </tr>\n",
       "    <tr>\n",
       "      <th>2015-04-30</th>\n",
       "      <td>-1.127749</td>\n",
       "      <td>0.130294</td>\n",
       "      <td>-2.228916</td>\n",
       "      <td>-0.272287</td>\n",
       "      <td>-2.521556</td>\n",
       "    </tr>\n",
       "    <tr>\n",
       "      <th>2015-05-31</th>\n",
       "      <td>1.248606</td>\n",
       "      <td>-0.972224</td>\n",
       "      <td>-0.311218</td>\n",
       "      <td>0.247401</td>\n",
       "      <td>-0.664475</td>\n",
       "    </tr>\n",
       "    <tr>\n",
       "      <th>2015-06-30</th>\n",
       "      <td>-0.204152</td>\n",
       "      <td>-0.951529</td>\n",
       "      <td>-0.813809</td>\n",
       "      <td>0.966478</td>\n",
       "      <td>1.545573</td>\n",
       "    </tr>\n",
       "    <tr>\n",
       "      <th>2015-07-31</th>\n",
       "      <td>0.536897</td>\n",
       "      <td>0.127886</td>\n",
       "      <td>0.859988</td>\n",
       "      <td>-0.668712</td>\n",
       "      <td>0.235046</td>\n",
       "    </tr>\n",
       "    <tr>\n",
       "      <th>2015-08-31</th>\n",
       "      <td>-0.749025</td>\n",
       "      <td>-0.055542</td>\n",
       "      <td>-1.137550</td>\n",
       "      <td>0.487150</td>\n",
       "      <td>-0.765034</td>\n",
       "    </tr>\n",
       "    <tr>\n",
       "      <th>2015-09-30</th>\n",
       "      <td>-0.815057</td>\n",
       "      <td>-0.422420</td>\n",
       "      <td>-0.193805</td>\n",
       "      <td>0.738350</td>\n",
       "      <td>0.066260</td>\n",
       "    </tr>\n",
       "    <tr>\n",
       "      <th>2015-10-31</th>\n",
       "      <td>0.544570</td>\n",
       "      <td>-0.298744</td>\n",
       "      <td>1.826473</td>\n",
       "      <td>0.937489</td>\n",
       "      <td>0.441093</td>\n",
       "    </tr>\n",
       "  </tbody>\n",
       "</table>\n",
       "</div>"
      ],
      "text/plain": [
       "                   a         b         c         d         e\n",
       "2015-01-31 -0.218412 -0.178087  0.054843 -1.092393  0.492776\n",
       "2015-02-28 -2.111047 -1.358571  1.342461 -0.141034  1.915312\n",
       "2015-03-31  0.509160  1.274408 -0.144697 -0.627779  0.144554\n",
       "2015-04-30 -1.127749  0.130294 -2.228916 -0.272287 -2.521556\n",
       "2015-05-31  1.248606 -0.972224 -0.311218  0.247401 -0.664475\n",
       "2015-06-30 -0.204152 -0.951529 -0.813809  0.966478  1.545573\n",
       "2015-07-31  0.536897  0.127886  0.859988 -0.668712  0.235046\n",
       "2015-08-31 -0.749025 -0.055542 -1.137550  0.487150 -0.765034\n",
       "2015-09-30 -0.815057 -0.422420 -0.193805  0.738350  0.066260\n",
       "2015-10-31  0.544570 -0.298744  1.826473  0.937489  0.441093"
      ]
     },
     "execution_count": 31,
     "metadata": {},
     "output_type": "execute_result"
    }
   ],
   "source": [
    "df = pd.DataFrame(randn(10, 5), index=dt_index, columns=[x for x in 'abcde'])\n",
    "df"
   ]
  },
  {
   "cell_type": "code",
   "execution_count": 32,
   "metadata": {
    "collapsed": false
   },
   "outputs": [
    {
     "data": {
      "text/plain": [
       "pandas.core.series.Series"
      ]
     },
     "execution_count": 32,
     "metadata": {},
     "output_type": "execute_result"
    }
   ],
   "source": [
    "#A dataframes columns are series:\n",
    "col = df.a\n",
    "type(col)"
   ]
  },
  {
   "cell_type": "code",
   "execution_count": 38,
   "metadata": {
    "collapsed": false
   },
   "outputs": [
    {
     "data": {
      "text/html": [
       "<div>\n",
       "<table border=\"1\" class=\"dataframe\">\n",
       "  <thead>\n",
       "    <tr style=\"text-align: right;\">\n",
       "      <th></th>\n",
       "      <th>a</th>\n",
       "    </tr>\n",
       "  </thead>\n",
       "  <tbody>\n",
       "    <tr>\n",
       "      <th>2015-01-31</th>\n",
       "      <td>-0.218412</td>\n",
       "    </tr>\n",
       "    <tr>\n",
       "      <th>2015-02-28</th>\n",
       "      <td>-2.111047</td>\n",
       "    </tr>\n",
       "    <tr>\n",
       "      <th>2015-03-31</th>\n",
       "      <td>0.509160</td>\n",
       "    </tr>\n",
       "    <tr>\n",
       "      <th>2015-04-30</th>\n",
       "      <td>-1.127749</td>\n",
       "    </tr>\n",
       "    <tr>\n",
       "      <th>2015-05-31</th>\n",
       "      <td>1.248606</td>\n",
       "    </tr>\n",
       "    <tr>\n",
       "      <th>2015-06-30</th>\n",
       "      <td>-0.204152</td>\n",
       "    </tr>\n",
       "    <tr>\n",
       "      <th>2015-07-31</th>\n",
       "      <td>0.536897</td>\n",
       "    </tr>\n",
       "    <tr>\n",
       "      <th>2015-08-31</th>\n",
       "      <td>-0.749025</td>\n",
       "    </tr>\n",
       "    <tr>\n",
       "      <th>2015-09-30</th>\n",
       "      <td>-0.815057</td>\n",
       "    </tr>\n",
       "    <tr>\n",
       "      <th>2015-10-31</th>\n",
       "      <td>0.544570</td>\n",
       "    </tr>\n",
       "  </tbody>\n",
       "</table>\n",
       "</div>"
      ],
      "text/plain": [
       "                   a\n",
       "2015-01-31 -0.218412\n",
       "2015-02-28 -2.111047\n",
       "2015-03-31  0.509160\n",
       "2015-04-30 -1.127749\n",
       "2015-05-31  1.248606\n",
       "2015-06-30 -0.204152\n",
       "2015-07-31  0.536897\n",
       "2015-08-31 -0.749025\n",
       "2015-09-30 -0.815057\n",
       "2015-10-31  0.544570"
      ]
     },
     "execution_count": 38,
     "metadata": {},
     "output_type": "execute_result"
    }
   ],
   "source": [
    "df['a']"
   ]
  },
  {
   "cell_type": "code",
   "execution_count": 33,
   "metadata": {
    "collapsed": false
   },
   "outputs": [
    {
     "data": {
      "text/plain": [
       "pandas.core.series.Series"
      ]
     },
     "execution_count": 33,
     "metadata": {},
     "output_type": "execute_result"
    }
   ],
   "source": [
    "#So are the rows.\n",
    "row = df.ix['2015-01-31']\n",
    "type(row)"
   ]
  },
  {
   "cell_type": "code",
   "execution_count": 40,
   "metadata": {
    "collapsed": false
   },
   "outputs": [
    {
     "data": {
      "text/plain": [
       "a   -0.218412\n",
       "b   -0.178087\n",
       "c    0.054843\n",
       "d   -1.092393\n",
       "e    0.492776\n",
       "Name: 2015-01-31 00:00:00, dtype: float64"
      ]
     },
     "execution_count": 40,
     "metadata": {},
     "output_type": "execute_result"
    }
   ],
   "source": [
    "# select row by row label\n",
    "df.loc['2015-01-31']"
   ]
  },
  {
   "cell_type": "code",
   "execution_count": 46,
   "metadata": {
    "collapsed": false,
    "scrolled": false
   },
   "outputs": [
    {
     "data": {
      "text/plain": [
       "a   -0.218412\n",
       "b   -0.178087\n",
       "c    0.054843\n",
       "d   -1.092393\n",
       "e    0.492776\n",
       "Name: 2015-01-31 00:00:00, dtype: float64"
      ]
     },
     "execution_count": 46,
     "metadata": {},
     "output_type": "execute_result"
    }
   ],
   "source": [
    "# select row by index\n",
    "df.iloc[0]"
   ]
  },
  {
   "cell_type": "code",
   "execution_count": 44,
   "metadata": {
    "collapsed": false
   },
   "outputs": [
    {
     "data": {
      "text/plain": [
       "a   -0.218412\n",
       "b   -0.178087\n",
       "c    0.054843\n",
       "d   -1.092393\n",
       "e    0.492776\n",
       "Name: 2015-01-31 00:00:00, dtype: float64"
      ]
     },
     "execution_count": 44,
     "metadata": {},
     "output_type": "execute_result"
    }
   ],
   "source": [
    "# select row by either label OR index\n",
    "df.ix['2015-01-31']\n",
    "# df.ix[0]"
   ]
  },
  {
   "cell_type": "code",
   "execution_count": 48,
   "metadata": {
    "collapsed": false
   },
   "outputs": [
    {
     "data": {
      "text/plain": [
       "DatetimeIndex(['2015-01-31', '2015-02-28', '2015-03-31', '2015-04-30',\n",
       "               '2015-05-31', '2015-06-30', '2015-07-31', '2015-08-31',\n",
       "               '2015-09-30', '2015-10-31'],\n",
       "              dtype='datetime64[ns]', freq='M')"
      ]
     },
     "execution_count": 48,
     "metadata": {},
     "output_type": "execute_result"
    }
   ],
   "source": [
    "#The columns all have the same index:\n",
    "col.index"
   ]
  },
  {
   "cell_type": "code",
   "execution_count": 49,
   "metadata": {
    "collapsed": false
   },
   "outputs": [
    {
     "data": {
      "text/plain": [
       "Index([u'a', u'b', u'c', u'd', u'e'], dtype='object')"
      ]
     },
     "execution_count": 49,
     "metadata": {},
     "output_type": "execute_result"
    }
   ],
   "source": [
    "#What's the index for the rows?\n",
    "row.index"
   ]
  },
  {
   "cell_type": "markdown",
   "metadata": {},
   "source": [
    "# DataFrame basics"
   ]
  },
  {
   "cell_type": "code",
   "execution_count": 52,
   "metadata": {
    "collapsed": false,
    "scrolled": true
   },
   "outputs": [
    {
     "data": {
      "text/html": [
       "<div>\n",
       "<table border=\"1\" class=\"dataframe\">\n",
       "  <thead>\n",
       "    <tr style=\"text-align: right;\">\n",
       "      <th></th>\n",
       "      <th>a</th>\n",
       "      <th>b</th>\n",
       "      <th>c</th>\n",
       "      <th>d</th>\n",
       "      <th>e</th>\n",
       "      <th>new</th>\n",
       "      <th>new2</th>\n",
       "    </tr>\n",
       "  </thead>\n",
       "  <tbody>\n",
       "    <tr>\n",
       "      <th>2015-01-31</th>\n",
       "      <td>-0.218412</td>\n",
       "      <td>-0.178087</td>\n",
       "      <td>0.054843</td>\n",
       "      <td>-1.092393</td>\n",
       "      <td>0.492776</td>\n",
       "      <td>-0.396499</td>\n",
       "      <td>5</td>\n",
       "    </tr>\n",
       "    <tr>\n",
       "      <th>2015-02-28</th>\n",
       "      <td>-2.111047</td>\n",
       "      <td>-1.358571</td>\n",
       "      <td>1.342461</td>\n",
       "      <td>-0.141034</td>\n",
       "      <td>1.915312</td>\n",
       "      <td>-3.469617</td>\n",
       "      <td>5</td>\n",
       "    </tr>\n",
       "    <tr>\n",
       "      <th>2015-03-31</th>\n",
       "      <td>0.509160</td>\n",
       "      <td>1.274408</td>\n",
       "      <td>-0.144697</td>\n",
       "      <td>-0.627779</td>\n",
       "      <td>0.144554</td>\n",
       "      <td>1.783568</td>\n",
       "      <td>5</td>\n",
       "    </tr>\n",
       "    <tr>\n",
       "      <th>2015-04-30</th>\n",
       "      <td>-1.127749</td>\n",
       "      <td>0.130294</td>\n",
       "      <td>-2.228916</td>\n",
       "      <td>-0.272287</td>\n",
       "      <td>-2.521556</td>\n",
       "      <td>-0.997455</td>\n",
       "      <td>5</td>\n",
       "    </tr>\n",
       "    <tr>\n",
       "      <th>2015-05-31</th>\n",
       "      <td>1.248606</td>\n",
       "      <td>-0.972224</td>\n",
       "      <td>-0.311218</td>\n",
       "      <td>0.247401</td>\n",
       "      <td>-0.664475</td>\n",
       "      <td>0.276381</td>\n",
       "      <td>5</td>\n",
       "    </tr>\n",
       "    <tr>\n",
       "      <th>2015-06-30</th>\n",
       "      <td>-0.204152</td>\n",
       "      <td>-0.951529</td>\n",
       "      <td>-0.813809</td>\n",
       "      <td>0.966478</td>\n",
       "      <td>1.545573</td>\n",
       "      <td>-1.155681</td>\n",
       "      <td>5</td>\n",
       "    </tr>\n",
       "    <tr>\n",
       "      <th>2015-07-31</th>\n",
       "      <td>0.536897</td>\n",
       "      <td>0.127886</td>\n",
       "      <td>0.859988</td>\n",
       "      <td>-0.668712</td>\n",
       "      <td>0.235046</td>\n",
       "      <td>0.664783</td>\n",
       "      <td>5</td>\n",
       "    </tr>\n",
       "    <tr>\n",
       "      <th>2015-08-31</th>\n",
       "      <td>-0.749025</td>\n",
       "      <td>-0.055542</td>\n",
       "      <td>-1.137550</td>\n",
       "      <td>0.487150</td>\n",
       "      <td>-0.765034</td>\n",
       "      <td>-0.804567</td>\n",
       "      <td>5</td>\n",
       "    </tr>\n",
       "    <tr>\n",
       "      <th>2015-09-30</th>\n",
       "      <td>-0.815057</td>\n",
       "      <td>-0.422420</td>\n",
       "      <td>-0.193805</td>\n",
       "      <td>0.738350</td>\n",
       "      <td>0.066260</td>\n",
       "      <td>-1.237477</td>\n",
       "      <td>5</td>\n",
       "    </tr>\n",
       "    <tr>\n",
       "      <th>2015-10-31</th>\n",
       "      <td>0.544570</td>\n",
       "      <td>-0.298744</td>\n",
       "      <td>1.826473</td>\n",
       "      <td>0.937489</td>\n",
       "      <td>0.441093</td>\n",
       "      <td>0.245826</td>\n",
       "      <td>5</td>\n",
       "    </tr>\n",
       "  </tbody>\n",
       "</table>\n",
       "</div>"
      ],
      "text/plain": [
       "                   a         b         c         d         e       new  new2\n",
       "2015-01-31 -0.218412 -0.178087  0.054843 -1.092393  0.492776 -0.396499     5\n",
       "2015-02-28 -2.111047 -1.358571  1.342461 -0.141034  1.915312 -3.469617     5\n",
       "2015-03-31  0.509160  1.274408 -0.144697 -0.627779  0.144554  1.783568     5\n",
       "2015-04-30 -1.127749  0.130294 -2.228916 -0.272287 -2.521556 -0.997455     5\n",
       "2015-05-31  1.248606 -0.972224 -0.311218  0.247401 -0.664475  0.276381     5\n",
       "2015-06-30 -0.204152 -0.951529 -0.813809  0.966478  1.545573 -1.155681     5\n",
       "2015-07-31  0.536897  0.127886  0.859988 -0.668712  0.235046  0.664783     5\n",
       "2015-08-31 -0.749025 -0.055542 -1.137550  0.487150 -0.765034 -0.804567     5\n",
       "2015-09-30 -0.815057 -0.422420 -0.193805  0.738350  0.066260 -1.237477     5\n",
       "2015-10-31  0.544570 -0.298744  1.826473  0.937489  0.441093  0.245826     5"
      ]
     },
     "execution_count": 52,
     "metadata": {},
     "output_type": "execute_result"
    }
   ],
   "source": [
    "#New column\n",
    "df['new'] = df['a'] + df['b']\n",
    "df['new2'] = 5\n",
    "df"
   ]
  },
  {
   "cell_type": "code",
   "execution_count": 53,
   "metadata": {
    "collapsed": false
   },
   "outputs": [
    {
     "data": {
      "text/plain": [
       "2015-01-31   -0.396499\n",
       "2015-02-28   -3.469617\n",
       "2015-03-31    1.783568\n",
       "2015-04-30   -0.997455\n",
       "2015-05-31    0.276381\n",
       "2015-06-30   -1.155681\n",
       "2015-07-31    0.664783\n",
       "2015-08-31   -0.804567\n",
       "2015-09-30   -1.237477\n",
       "2015-10-31    0.245826\n",
       "Freq: M, dtype: float64"
      ]
     },
     "execution_count": 53,
     "metadata": {},
     "output_type": "execute_result"
    }
   ],
   "source": [
    "df['a'] + df['b']"
   ]
  },
  {
   "cell_type": "code",
   "execution_count": 58,
   "metadata": {
    "collapsed": true,
    "scrolled": true
   },
   "outputs": [],
   "source": [
    "#Delete a column\n",
    "df = df.drop('new', axis=1)"
   ]
  },
  {
   "cell_type": "code",
   "execution_count": 60,
   "metadata": {
    "collapsed": false
   },
   "outputs": [
    {
     "data": {
      "text/html": [
       "<div>\n",
       "<table border=\"1\" class=\"dataframe\">\n",
       "  <thead>\n",
       "    <tr style=\"text-align: right;\">\n",
       "      <th></th>\n",
       "      <th>a</th>\n",
       "      <th>b</th>\n",
       "      <th>c</th>\n",
       "      <th>d</th>\n",
       "      <th>e</th>\n",
       "      <th>new2</th>\n",
       "    </tr>\n",
       "  </thead>\n",
       "  <tbody>\n",
       "    <tr>\n",
       "      <th>2015-01-31</th>\n",
       "      <td>-0.218412</td>\n",
       "      <td>-0.178087</td>\n",
       "      <td>0.054843</td>\n",
       "      <td>-1.092393</td>\n",
       "      <td>0.492776</td>\n",
       "      <td>5</td>\n",
       "    </tr>\n",
       "    <tr>\n",
       "      <th>2015-02-28</th>\n",
       "      <td>-2.111047</td>\n",
       "      <td>-1.358571</td>\n",
       "      <td>1.342461</td>\n",
       "      <td>-0.141034</td>\n",
       "      <td>1.915312</td>\n",
       "      <td>5</td>\n",
       "    </tr>\n",
       "    <tr>\n",
       "      <th>2015-03-31</th>\n",
       "      <td>0.509160</td>\n",
       "      <td>1.274408</td>\n",
       "      <td>-0.144697</td>\n",
       "      <td>-0.627779</td>\n",
       "      <td>0.144554</td>\n",
       "      <td>5</td>\n",
       "    </tr>\n",
       "    <tr>\n",
       "      <th>2015-04-30</th>\n",
       "      <td>-1.127749</td>\n",
       "      <td>0.130294</td>\n",
       "      <td>-2.228916</td>\n",
       "      <td>-0.272287</td>\n",
       "      <td>-2.521556</td>\n",
       "      <td>5</td>\n",
       "    </tr>\n",
       "    <tr>\n",
       "      <th>2015-05-31</th>\n",
       "      <td>1.248606</td>\n",
       "      <td>-0.972224</td>\n",
       "      <td>-0.311218</td>\n",
       "      <td>0.247401</td>\n",
       "      <td>-0.664475</td>\n",
       "      <td>5</td>\n",
       "    </tr>\n",
       "    <tr>\n",
       "      <th>2015-06-30</th>\n",
       "      <td>-0.204152</td>\n",
       "      <td>-0.951529</td>\n",
       "      <td>-0.813809</td>\n",
       "      <td>0.966478</td>\n",
       "      <td>1.545573</td>\n",
       "      <td>5</td>\n",
       "    </tr>\n",
       "    <tr>\n",
       "      <th>2015-07-31</th>\n",
       "      <td>0.536897</td>\n",
       "      <td>0.127886</td>\n",
       "      <td>0.859988</td>\n",
       "      <td>-0.668712</td>\n",
       "      <td>0.235046</td>\n",
       "      <td>5</td>\n",
       "    </tr>\n",
       "    <tr>\n",
       "      <th>2015-08-31</th>\n",
       "      <td>-0.749025</td>\n",
       "      <td>-0.055542</td>\n",
       "      <td>-1.137550</td>\n",
       "      <td>0.487150</td>\n",
       "      <td>-0.765034</td>\n",
       "      <td>5</td>\n",
       "    </tr>\n",
       "    <tr>\n",
       "      <th>2015-09-30</th>\n",
       "      <td>-0.815057</td>\n",
       "      <td>-0.422420</td>\n",
       "      <td>-0.193805</td>\n",
       "      <td>0.738350</td>\n",
       "      <td>0.066260</td>\n",
       "      <td>5</td>\n",
       "    </tr>\n",
       "    <tr>\n",
       "      <th>2015-10-31</th>\n",
       "      <td>0.544570</td>\n",
       "      <td>-0.298744</td>\n",
       "      <td>1.826473</td>\n",
       "      <td>0.937489</td>\n",
       "      <td>0.441093</td>\n",
       "      <td>5</td>\n",
       "    </tr>\n",
       "  </tbody>\n",
       "</table>\n",
       "</div>"
      ],
      "text/plain": [
       "                   a         b         c         d         e  new2\n",
       "2015-01-31 -0.218412 -0.178087  0.054843 -1.092393  0.492776     5\n",
       "2015-02-28 -2.111047 -1.358571  1.342461 -0.141034  1.915312     5\n",
       "2015-03-31  0.509160  1.274408 -0.144697 -0.627779  0.144554     5\n",
       "2015-04-30 -1.127749  0.130294 -2.228916 -0.272287 -2.521556     5\n",
       "2015-05-31  1.248606 -0.972224 -0.311218  0.247401 -0.664475     5\n",
       "2015-06-30 -0.204152 -0.951529 -0.813809  0.966478  1.545573     5\n",
       "2015-07-31  0.536897  0.127886  0.859988 -0.668712  0.235046     5\n",
       "2015-08-31 -0.749025 -0.055542 -1.137550  0.487150 -0.765034     5\n",
       "2015-09-30 -0.815057 -0.422420 -0.193805  0.738350  0.066260     5\n",
       "2015-10-31  0.544570 -0.298744  1.826473  0.937489  0.441093     5"
      ]
     },
     "execution_count": 60,
     "metadata": {},
     "output_type": "execute_result"
    }
   ],
   "source": [
    "df"
   ]
  },
  {
   "cell_type": "markdown",
   "metadata": {},
   "source": [
    "## Axis?\n",
    "Because pandas thinks of rows and columns as both being series, anything we can do to rows we can do to columns too. \n",
    "\n",
    "Axis describes which one we want to do it to. 0=rows, 1=columns."
   ]
  },
  {
   "cell_type": "code",
   "execution_count": 61,
   "metadata": {
    "collapsed": false,
    "scrolled": true
   },
   "outputs": [
    {
     "data": {
      "text/html": [
       "<div>\n",
       "<table border=\"1\" class=\"dataframe\">\n",
       "  <thead>\n",
       "    <tr style=\"text-align: right;\">\n",
       "      <th></th>\n",
       "      <th>a</th>\n",
       "      <th>b</th>\n",
       "      <th>c</th>\n",
       "      <th>d</th>\n",
       "      <th>e</th>\n",
       "      <th>new2</th>\n",
       "    </tr>\n",
       "  </thead>\n",
       "  <tbody>\n",
       "    <tr>\n",
       "      <th>2015-01-31</th>\n",
       "      <td>-0.218412</td>\n",
       "      <td>-0.178087</td>\n",
       "      <td>0.054843</td>\n",
       "      <td>-1.092393</td>\n",
       "      <td>0.492776</td>\n",
       "      <td>5</td>\n",
       "    </tr>\n",
       "    <tr>\n",
       "      <th>2015-02-28</th>\n",
       "      <td>-2.111047</td>\n",
       "      <td>-1.358571</td>\n",
       "      <td>1.342461</td>\n",
       "      <td>-0.141034</td>\n",
       "      <td>1.915312</td>\n",
       "      <td>5</td>\n",
       "    </tr>\n",
       "    <tr>\n",
       "      <th>2015-03-31</th>\n",
       "      <td>0.509160</td>\n",
       "      <td>1.274408</td>\n",
       "      <td>-0.144697</td>\n",
       "      <td>-0.627779</td>\n",
       "      <td>0.144554</td>\n",
       "      <td>5</td>\n",
       "    </tr>\n",
       "    <tr>\n",
       "      <th>2015-05-31</th>\n",
       "      <td>1.248606</td>\n",
       "      <td>-0.972224</td>\n",
       "      <td>-0.311218</td>\n",
       "      <td>0.247401</td>\n",
       "      <td>-0.664475</td>\n",
       "      <td>5</td>\n",
       "    </tr>\n",
       "    <tr>\n",
       "      <th>2015-06-30</th>\n",
       "      <td>-0.204152</td>\n",
       "      <td>-0.951529</td>\n",
       "      <td>-0.813809</td>\n",
       "      <td>0.966478</td>\n",
       "      <td>1.545573</td>\n",
       "      <td>5</td>\n",
       "    </tr>\n",
       "    <tr>\n",
       "      <th>2015-07-31</th>\n",
       "      <td>0.536897</td>\n",
       "      <td>0.127886</td>\n",
       "      <td>0.859988</td>\n",
       "      <td>-0.668712</td>\n",
       "      <td>0.235046</td>\n",
       "      <td>5</td>\n",
       "    </tr>\n",
       "    <tr>\n",
       "      <th>2015-08-31</th>\n",
       "      <td>-0.749025</td>\n",
       "      <td>-0.055542</td>\n",
       "      <td>-1.137550</td>\n",
       "      <td>0.487150</td>\n",
       "      <td>-0.765034</td>\n",
       "      <td>5</td>\n",
       "    </tr>\n",
       "    <tr>\n",
       "      <th>2015-09-30</th>\n",
       "      <td>-0.815057</td>\n",
       "      <td>-0.422420</td>\n",
       "      <td>-0.193805</td>\n",
       "      <td>0.738350</td>\n",
       "      <td>0.066260</td>\n",
       "      <td>5</td>\n",
       "    </tr>\n",
       "    <tr>\n",
       "      <th>2015-10-31</th>\n",
       "      <td>0.544570</td>\n",
       "      <td>-0.298744</td>\n",
       "      <td>1.826473</td>\n",
       "      <td>0.937489</td>\n",
       "      <td>0.441093</td>\n",
       "      <td>5</td>\n",
       "    </tr>\n",
       "  </tbody>\n",
       "</table>\n",
       "</div>"
      ],
      "text/plain": [
       "                   a         b         c         d         e  new2\n",
       "2015-01-31 -0.218412 -0.178087  0.054843 -1.092393  0.492776     5\n",
       "2015-02-28 -2.111047 -1.358571  1.342461 -0.141034  1.915312     5\n",
       "2015-03-31  0.509160  1.274408 -0.144697 -0.627779  0.144554     5\n",
       "2015-05-31  1.248606 -0.972224 -0.311218  0.247401 -0.664475     5\n",
       "2015-06-30 -0.204152 -0.951529 -0.813809  0.966478  1.545573     5\n",
       "2015-07-31  0.536897  0.127886  0.859988 -0.668712  0.235046     5\n",
       "2015-08-31 -0.749025 -0.055542 -1.137550  0.487150 -0.765034     5\n",
       "2015-09-30 -0.815057 -0.422420 -0.193805  0.738350  0.066260     5\n",
       "2015-10-31  0.544570 -0.298744  1.826473  0.937489  0.441093     5"
      ]
     },
     "execution_count": 61,
     "metadata": {},
     "output_type": "execute_result"
    }
   ],
   "source": [
    "lbl = pd.Timestamp('2015-04-30 00:00:00', freq='M')\n",
    "df.drop(lbl, axis=0)"
   ]
  },
  {
   "cell_type": "code",
   "execution_count": 64,
   "metadata": {
    "collapsed": false
   },
   "outputs": [
    {
     "data": {
      "text/html": [
       "<div>\n",
       "<table border=\"1\" class=\"dataframe\">\n",
       "  <thead>\n",
       "    <tr style=\"text-align: right;\">\n",
       "      <th></th>\n",
       "      <th>a</th>\n",
       "      <th>b</th>\n",
       "      <th>c</th>\n",
       "      <th>d</th>\n",
       "      <th>e</th>\n",
       "      <th>new2</th>\n",
       "    </tr>\n",
       "  </thead>\n",
       "  <tbody>\n",
       "    <tr>\n",
       "      <th>2015-01-31</th>\n",
       "      <td>-0.218412</td>\n",
       "      <td>-0.178087</td>\n",
       "      <td>0.054843</td>\n",
       "      <td>-1.092393</td>\n",
       "      <td>0.492776</td>\n",
       "      <td>5</td>\n",
       "    </tr>\n",
       "    <tr>\n",
       "      <th>2015-02-28</th>\n",
       "      <td>-2.111047</td>\n",
       "      <td>-1.358571</td>\n",
       "      <td>1.342461</td>\n",
       "      <td>-0.141034</td>\n",
       "      <td>1.915312</td>\n",
       "      <td>5</td>\n",
       "    </tr>\n",
       "    <tr>\n",
       "      <th>2015-03-31</th>\n",
       "      <td>0.509160</td>\n",
       "      <td>1.274408</td>\n",
       "      <td>-0.144697</td>\n",
       "      <td>-0.627779</td>\n",
       "      <td>0.144554</td>\n",
       "      <td>5</td>\n",
       "    </tr>\n",
       "    <tr>\n",
       "      <th>2015-04-30</th>\n",
       "      <td>-1.127749</td>\n",
       "      <td>0.130294</td>\n",
       "      <td>-2.228916</td>\n",
       "      <td>-0.272287</td>\n",
       "      <td>-2.521556</td>\n",
       "      <td>5</td>\n",
       "    </tr>\n",
       "    <tr>\n",
       "      <th>2015-05-31</th>\n",
       "      <td>1.248606</td>\n",
       "      <td>-0.972224</td>\n",
       "      <td>-0.311218</td>\n",
       "      <td>0.247401</td>\n",
       "      <td>-0.664475</td>\n",
       "      <td>5</td>\n",
       "    </tr>\n",
       "    <tr>\n",
       "      <th>2015-06-30</th>\n",
       "      <td>-0.204152</td>\n",
       "      <td>-0.951529</td>\n",
       "      <td>-0.813809</td>\n",
       "      <td>0.966478</td>\n",
       "      <td>1.545573</td>\n",
       "      <td>5</td>\n",
       "    </tr>\n",
       "    <tr>\n",
       "      <th>2015-07-31</th>\n",
       "      <td>0.536897</td>\n",
       "      <td>0.127886</td>\n",
       "      <td>0.859988</td>\n",
       "      <td>-0.668712</td>\n",
       "      <td>0.235046</td>\n",
       "      <td>5</td>\n",
       "    </tr>\n",
       "    <tr>\n",
       "      <th>2015-08-31</th>\n",
       "      <td>-0.749025</td>\n",
       "      <td>-0.055542</td>\n",
       "      <td>-1.137550</td>\n",
       "      <td>0.487150</td>\n",
       "      <td>-0.765034</td>\n",
       "      <td>5</td>\n",
       "    </tr>\n",
       "    <tr>\n",
       "      <th>2015-09-30</th>\n",
       "      <td>-0.815057</td>\n",
       "      <td>-0.422420</td>\n",
       "      <td>-0.193805</td>\n",
       "      <td>0.738350</td>\n",
       "      <td>0.066260</td>\n",
       "      <td>5</td>\n",
       "    </tr>\n",
       "    <tr>\n",
       "      <th>2015-10-31</th>\n",
       "      <td>0.544570</td>\n",
       "      <td>-0.298744</td>\n",
       "      <td>1.826473</td>\n",
       "      <td>0.937489</td>\n",
       "      <td>0.441093</td>\n",
       "      <td>5</td>\n",
       "    </tr>\n",
       "  </tbody>\n",
       "</table>\n",
       "</div>"
      ],
      "text/plain": [
       "                   a         b         c         d         e  new2\n",
       "2015-01-31 -0.218412 -0.178087  0.054843 -1.092393  0.492776     5\n",
       "2015-02-28 -2.111047 -1.358571  1.342461 -0.141034  1.915312     5\n",
       "2015-03-31  0.509160  1.274408 -0.144697 -0.627779  0.144554     5\n",
       "2015-04-30 -1.127749  0.130294 -2.228916 -0.272287 -2.521556     5\n",
       "2015-05-31  1.248606 -0.972224 -0.311218  0.247401 -0.664475     5\n",
       "2015-06-30 -0.204152 -0.951529 -0.813809  0.966478  1.545573     5\n",
       "2015-07-31  0.536897  0.127886  0.859988 -0.668712  0.235046     5\n",
       "2015-08-31 -0.749025 -0.055542 -1.137550  0.487150 -0.765034     5\n",
       "2015-09-30 -0.815057 -0.422420 -0.193805  0.738350  0.066260     5\n",
       "2015-10-31  0.544570 -0.298744  1.826473  0.937489  0.441093     5"
      ]
     },
     "execution_count": 64,
     "metadata": {},
     "output_type": "execute_result"
    }
   ],
   "source": [
    "df"
   ]
  },
  {
   "cell_type": "markdown",
   "metadata": {},
   "source": [
    "# Selecting subsets.\n",
    "There a couple of ways to select a subset of a python data frame."
   ]
  },
  {
   "cell_type": "code",
   "execution_count": 65,
   "metadata": {
    "collapsed": false
   },
   "outputs": [
    {
     "data": {
      "text/html": [
       "<div>\n",
       "<table border=\"1\" class=\"dataframe\">\n",
       "  <thead>\n",
       "    <tr style=\"text-align: right;\">\n",
       "      <th></th>\n",
       "      <th>a</th>\n",
       "      <th>b</th>\n",
       "      <th>c</th>\n",
       "      <th>d</th>\n",
       "      <th>e</th>\n",
       "      <th>new2</th>\n",
       "    </tr>\n",
       "  </thead>\n",
       "  <tbody>\n",
       "    <tr>\n",
       "      <th>2015-03-31</th>\n",
       "      <td>0.509160</td>\n",
       "      <td>1.274408</td>\n",
       "      <td>-0.144697</td>\n",
       "      <td>-0.627779</td>\n",
       "      <td>0.144554</td>\n",
       "      <td>5</td>\n",
       "    </tr>\n",
       "    <tr>\n",
       "      <th>2015-05-31</th>\n",
       "      <td>1.248606</td>\n",
       "      <td>-0.972224</td>\n",
       "      <td>-0.311218</td>\n",
       "      <td>0.247401</td>\n",
       "      <td>-0.664475</td>\n",
       "      <td>5</td>\n",
       "    </tr>\n",
       "    <tr>\n",
       "      <th>2015-07-31</th>\n",
       "      <td>0.536897</td>\n",
       "      <td>0.127886</td>\n",
       "      <td>0.859988</td>\n",
       "      <td>-0.668712</td>\n",
       "      <td>0.235046</td>\n",
       "      <td>5</td>\n",
       "    </tr>\n",
       "    <tr>\n",
       "      <th>2015-10-31</th>\n",
       "      <td>0.544570</td>\n",
       "      <td>-0.298744</td>\n",
       "      <td>1.826473</td>\n",
       "      <td>0.937489</td>\n",
       "      <td>0.441093</td>\n",
       "      <td>5</td>\n",
       "    </tr>\n",
       "  </tbody>\n",
       "</table>\n",
       "</div>"
      ],
      "text/plain": [
       "                   a         b         c         d         e  new2\n",
       "2015-03-31  0.509160  1.274408 -0.144697 -0.627779  0.144554     5\n",
       "2015-05-31  1.248606 -0.972224 -0.311218  0.247401 -0.664475     5\n",
       "2015-07-31  0.536897  0.127886  0.859988 -0.668712  0.235046     5\n",
       "2015-10-31  0.544570 -0.298744  1.826473  0.937489  0.441093     5"
      ]
     },
     "execution_count": 65,
     "metadata": {},
     "output_type": "execute_result"
    }
   ],
   "source": [
    "#To subset the rows, you can use the convenient:\n",
    "df[df['a'] > 0]"
   ]
  },
  {
   "cell_type": "code",
   "execution_count": 66,
   "metadata": {
    "collapsed": false
   },
   "outputs": [
    {
     "data": {
      "text/html": [
       "<div>\n",
       "<table border=\"1\" class=\"dataframe\">\n",
       "  <thead>\n",
       "    <tr style=\"text-align: right;\">\n",
       "      <th></th>\n",
       "      <th>a</th>\n",
       "      <th>b</th>\n",
       "      <th>c</th>\n",
       "      <th>d</th>\n",
       "      <th>e</th>\n",
       "      <th>new2</th>\n",
       "    </tr>\n",
       "  </thead>\n",
       "  <tbody>\n",
       "    <tr>\n",
       "      <th>2015-03-31</th>\n",
       "      <td>0.509160</td>\n",
       "      <td>1.274408</td>\n",
       "      <td>-0.144697</td>\n",
       "      <td>-0.627779</td>\n",
       "      <td>0.144554</td>\n",
       "      <td>5</td>\n",
       "    </tr>\n",
       "    <tr>\n",
       "      <th>2015-05-31</th>\n",
       "      <td>1.248606</td>\n",
       "      <td>-0.972224</td>\n",
       "      <td>-0.311218</td>\n",
       "      <td>0.247401</td>\n",
       "      <td>-0.664475</td>\n",
       "      <td>5</td>\n",
       "    </tr>\n",
       "  </tbody>\n",
       "</table>\n",
       "</div>"
      ],
      "text/plain": [
       "                   a         b         c         d         e  new2\n",
       "2015-03-31  0.509160  1.274408 -0.144697 -0.627779  0.144554     5\n",
       "2015-05-31  1.248606 -0.972224 -0.311218  0.247401 -0.664475     5"
      ]
     },
     "execution_count": 66,
     "metadata": {},
     "output_type": "execute_result"
    }
   ],
   "source": [
    "#Or combine multiple conditions:\n",
    "df[(df.a > 0) & (df.c < 0)]"
   ]
  },
  {
   "cell_type": "code",
   "execution_count": 67,
   "metadata": {
    "collapsed": false
   },
   "outputs": [
    {
     "data": {
      "text/plain": [
       "2015-01-31   -0.218412\n",
       "2015-02-28   -2.111047\n",
       "2015-03-31    0.509160\n",
       "2015-04-30   -1.127749\n",
       "2015-05-31    1.248606\n",
       "2015-06-30   -0.204152\n",
       "2015-07-31    0.536897\n",
       "2015-08-31   -0.749025\n",
       "2015-09-30   -0.815057\n",
       "2015-10-31    0.544570\n",
       "Freq: M, Name: a, dtype: float64"
      ]
     },
     "execution_count": 67,
     "metadata": {},
     "output_type": "execute_result"
    }
   ],
   "source": [
    "#Selecting a column\n",
    "df.a\n",
    "#Works sometimes."
   ]
  },
  {
   "cell_type": "code",
   "execution_count": 68,
   "metadata": {
    "collapsed": false
   },
   "outputs": [
    {
     "data": {
      "text/plain": [
       "2015-01-31   -0.218412\n",
       "2015-02-28   -2.111047\n",
       "2015-03-31    0.509160\n",
       "2015-04-30   -1.127749\n",
       "2015-05-31    1.248606\n",
       "2015-06-30   -0.204152\n",
       "2015-07-31    0.536897\n",
       "2015-08-31   -0.749025\n",
       "2015-09-30   -0.815057\n",
       "2015-10-31    0.544570\n",
       "Freq: M, Name: a, dtype: float64"
      ]
     },
     "execution_count": 68,
     "metadata": {},
     "output_type": "execute_result"
    }
   ],
   "source": [
    "df['a'] #works always"
   ]
  },
  {
   "cell_type": "code",
   "execution_count": 69,
   "metadata": {
    "collapsed": false
   },
   "outputs": [
    {
     "data": {
      "text/html": [
       "<div>\n",
       "<table border=\"1\" class=\"dataframe\">\n",
       "  <thead>\n",
       "    <tr style=\"text-align: right;\">\n",
       "      <th></th>\n",
       "      <th>a</th>\n",
       "      <th>b</th>\n",
       "    </tr>\n",
       "  </thead>\n",
       "  <tbody>\n",
       "    <tr>\n",
       "      <th>2015-01-31</th>\n",
       "      <td>-0.218412</td>\n",
       "      <td>-0.178087</td>\n",
       "    </tr>\n",
       "    <tr>\n",
       "      <th>2015-02-28</th>\n",
       "      <td>-2.111047</td>\n",
       "      <td>-1.358571</td>\n",
       "    </tr>\n",
       "    <tr>\n",
       "      <th>2015-03-31</th>\n",
       "      <td>0.509160</td>\n",
       "      <td>1.274408</td>\n",
       "    </tr>\n",
       "    <tr>\n",
       "      <th>2015-04-30</th>\n",
       "      <td>-1.127749</td>\n",
       "      <td>0.130294</td>\n",
       "    </tr>\n",
       "    <tr>\n",
       "      <th>2015-05-31</th>\n",
       "      <td>1.248606</td>\n",
       "      <td>-0.972224</td>\n",
       "    </tr>\n",
       "    <tr>\n",
       "      <th>2015-06-30</th>\n",
       "      <td>-0.204152</td>\n",
       "      <td>-0.951529</td>\n",
       "    </tr>\n",
       "    <tr>\n",
       "      <th>2015-07-31</th>\n",
       "      <td>0.536897</td>\n",
       "      <td>0.127886</td>\n",
       "    </tr>\n",
       "    <tr>\n",
       "      <th>2015-08-31</th>\n",
       "      <td>-0.749025</td>\n",
       "      <td>-0.055542</td>\n",
       "    </tr>\n",
       "    <tr>\n",
       "      <th>2015-09-30</th>\n",
       "      <td>-0.815057</td>\n",
       "      <td>-0.422420</td>\n",
       "    </tr>\n",
       "    <tr>\n",
       "      <th>2015-10-31</th>\n",
       "      <td>0.544570</td>\n",
       "      <td>-0.298744</td>\n",
       "    </tr>\n",
       "  </tbody>\n",
       "</table>\n",
       "</div>"
      ],
      "text/plain": [
       "                   a         b\n",
       "2015-01-31 -0.218412 -0.178087\n",
       "2015-02-28 -2.111047 -1.358571\n",
       "2015-03-31  0.509160  1.274408\n",
       "2015-04-30 -1.127749  0.130294\n",
       "2015-05-31  1.248606 -0.972224\n",
       "2015-06-30 -0.204152 -0.951529\n",
       "2015-07-31  0.536897  0.127886\n",
       "2015-08-31 -0.749025 -0.055542\n",
       "2015-09-30 -0.815057 -0.422420\n",
       "2015-10-31  0.544570 -0.298744"
      ]
     },
     "execution_count": 69,
     "metadata": {},
     "output_type": "execute_result"
    }
   ],
   "source": [
    "df[['a', 'b']]\n",
    "#Or a subset of columns"
   ]
  },
  {
   "cell_type": "markdown",
   "metadata": {},
   "source": [
    "# Advanced selection.\n",
    "The above methods work for simple types of selections, but what if you need something more complex?"
   ]
  },
  {
   "cell_type": "code",
   "execution_count": 71,
   "metadata": {
    "collapsed": false
   },
   "outputs": [
    {
     "data": {
      "text/html": [
       "<div>\n",
       "<table border=\"1\" class=\"dataframe\">\n",
       "  <thead>\n",
       "    <tr style=\"text-align: right;\">\n",
       "      <th></th>\n",
       "      <th>c</th>\n",
       "      <th>d</th>\n",
       "      <th>e</th>\n",
       "    </tr>\n",
       "  </thead>\n",
       "  <tbody>\n",
       "    <tr>\n",
       "      <th>2015-05-31</th>\n",
       "      <td>-0.311218</td>\n",
       "      <td>0.247401</td>\n",
       "      <td>-0.664475</td>\n",
       "    </tr>\n",
       "    <tr>\n",
       "      <th>2015-06-30</th>\n",
       "      <td>-0.813809</td>\n",
       "      <td>0.966478</td>\n",
       "      <td>1.545573</td>\n",
       "    </tr>\n",
       "    <tr>\n",
       "      <th>2015-07-31</th>\n",
       "      <td>0.859988</td>\n",
       "      <td>-0.668712</td>\n",
       "      <td>0.235046</td>\n",
       "    </tr>\n",
       "    <tr>\n",
       "      <th>2015-08-31</th>\n",
       "      <td>-1.137550</td>\n",
       "      <td>0.487150</td>\n",
       "      <td>-0.765034</td>\n",
       "    </tr>\n",
       "  </tbody>\n",
       "</table>\n",
       "</div>"
      ],
      "text/plain": [
       "                   c         d         e\n",
       "2015-05-31 -0.311218  0.247401 -0.664475\n",
       "2015-06-30 -0.813809  0.966478  1.545573\n",
       "2015-07-31  0.859988 -0.668712  0.235046\n",
       "2015-08-31 -1.137550  0.487150 -0.765034"
      ]
     },
     "execution_count": 71,
     "metadata": {},
     "output_type": "execute_result"
    }
   ],
   "source": [
    "df.loc['2015-05-31':'2015-08-31', 'c':'e'] #Ranges by label."
   ]
  },
  {
   "cell_type": "code",
   "execution_count": 75,
   "metadata": {
    "collapsed": false
   },
   "outputs": [
    {
     "data": {
      "text/html": [
       "<div>\n",
       "<table border=\"1\" class=\"dataframe\">\n",
       "  <thead>\n",
       "    <tr style=\"text-align: right;\">\n",
       "      <th></th>\n",
       "      <th>a</th>\n",
       "      <th>b</th>\n",
       "      <th>c</th>\n",
       "      <th>d</th>\n",
       "      <th>e</th>\n",
       "      <th>new2</th>\n",
       "    </tr>\n",
       "  </thead>\n",
       "  <tbody>\n",
       "    <tr>\n",
       "      <th>2015-01-31</th>\n",
       "      <td>-0.218412</td>\n",
       "      <td>-0.178087</td>\n",
       "      <td>0.054843</td>\n",
       "      <td>-1.092393</td>\n",
       "      <td>0.492776</td>\n",
       "      <td>5</td>\n",
       "    </tr>\n",
       "    <tr>\n",
       "      <th>2015-02-28</th>\n",
       "      <td>-2.111047</td>\n",
       "      <td>-1.358571</td>\n",
       "      <td>1.342461</td>\n",
       "      <td>-0.141034</td>\n",
       "      <td>1.915312</td>\n",
       "      <td>5</td>\n",
       "    </tr>\n",
       "    <tr>\n",
       "      <th>2015-03-31</th>\n",
       "      <td>0.509160</td>\n",
       "      <td>1.274408</td>\n",
       "      <td>-0.144697</td>\n",
       "      <td>-0.627779</td>\n",
       "      <td>0.144554</td>\n",
       "      <td>5</td>\n",
       "    </tr>\n",
       "    <tr>\n",
       "      <th>2015-04-30</th>\n",
       "      <td>-1.127749</td>\n",
       "      <td>0.130294</td>\n",
       "      <td>-2.228916</td>\n",
       "      <td>-0.272287</td>\n",
       "      <td>-2.521556</td>\n",
       "      <td>5</td>\n",
       "    </tr>\n",
       "    <tr>\n",
       "      <th>2015-05-31</th>\n",
       "      <td>1.248606</td>\n",
       "      <td>-0.972224</td>\n",
       "      <td>-0.311218</td>\n",
       "      <td>0.247401</td>\n",
       "      <td>-0.664475</td>\n",
       "      <td>5</td>\n",
       "    </tr>\n",
       "    <tr>\n",
       "      <th>2015-06-30</th>\n",
       "      <td>-0.204152</td>\n",
       "      <td>-0.951529</td>\n",
       "      <td>-0.813809</td>\n",
       "      <td>0.966478</td>\n",
       "      <td>1.545573</td>\n",
       "      <td>5</td>\n",
       "    </tr>\n",
       "    <tr>\n",
       "      <th>2015-07-31</th>\n",
       "      <td>0.536897</td>\n",
       "      <td>0.127886</td>\n",
       "      <td>0.859988</td>\n",
       "      <td>-0.668712</td>\n",
       "      <td>0.235046</td>\n",
       "      <td>5</td>\n",
       "    </tr>\n",
       "    <tr>\n",
       "      <th>2015-08-31</th>\n",
       "      <td>-0.749025</td>\n",
       "      <td>-0.055542</td>\n",
       "      <td>-1.137550</td>\n",
       "      <td>0.487150</td>\n",
       "      <td>-0.765034</td>\n",
       "      <td>5</td>\n",
       "    </tr>\n",
       "    <tr>\n",
       "      <th>2015-09-30</th>\n",
       "      <td>-0.815057</td>\n",
       "      <td>-0.422420</td>\n",
       "      <td>-0.193805</td>\n",
       "      <td>0.738350</td>\n",
       "      <td>0.066260</td>\n",
       "      <td>5</td>\n",
       "    </tr>\n",
       "    <tr>\n",
       "      <th>2015-10-31</th>\n",
       "      <td>0.544570</td>\n",
       "      <td>-0.298744</td>\n",
       "      <td>1.826473</td>\n",
       "      <td>0.937489</td>\n",
       "      <td>0.441093</td>\n",
       "      <td>5</td>\n",
       "    </tr>\n",
       "  </tbody>\n",
       "</table>\n",
       "</div>"
      ],
      "text/plain": [
       "                   a         b         c         d         e  new2\n",
       "2015-01-31 -0.218412 -0.178087  0.054843 -1.092393  0.492776     5\n",
       "2015-02-28 -2.111047 -1.358571  1.342461 -0.141034  1.915312     5\n",
       "2015-03-31  0.509160  1.274408 -0.144697 -0.627779  0.144554     5\n",
       "2015-04-30 -1.127749  0.130294 -2.228916 -0.272287 -2.521556     5\n",
       "2015-05-31  1.248606 -0.972224 -0.311218  0.247401 -0.664475     5\n",
       "2015-06-30 -0.204152 -0.951529 -0.813809  0.966478  1.545573     5\n",
       "2015-07-31  0.536897  0.127886  0.859988 -0.668712  0.235046     5\n",
       "2015-08-31 -0.749025 -0.055542 -1.137550  0.487150 -0.765034     5\n",
       "2015-09-30 -0.815057 -0.422420 -0.193805  0.738350  0.066260     5\n",
       "2015-10-31  0.544570 -0.298744  1.826473  0.937489  0.441093     5"
      ]
     },
     "execution_count": 75,
     "metadata": {},
     "output_type": "execute_result"
    }
   ],
   "source": [
    "df"
   ]
  },
  {
   "cell_type": "code",
   "execution_count": 76,
   "metadata": {
    "collapsed": false
   },
   "outputs": [
    {
     "data": {
      "text/html": [
       "<div>\n",
       "<table border=\"1\" class=\"dataframe\">\n",
       "  <thead>\n",
       "    <tr style=\"text-align: right;\">\n",
       "      <th></th>\n",
       "      <th>c</th>\n",
       "      <th>d</th>\n",
       "      <th>e</th>\n",
       "    </tr>\n",
       "  </thead>\n",
       "  <tbody>\n",
       "    <tr>\n",
       "      <th>2015-03-31</th>\n",
       "      <td>-0.144697</td>\n",
       "      <td>-0.627779</td>\n",
       "      <td>0.144554</td>\n",
       "    </tr>\n",
       "    <tr>\n",
       "      <th>2015-04-30</th>\n",
       "      <td>-2.228916</td>\n",
       "      <td>-0.272287</td>\n",
       "      <td>-2.521556</td>\n",
       "    </tr>\n",
       "    <tr>\n",
       "      <th>2015-05-31</th>\n",
       "      <td>-0.311218</td>\n",
       "      <td>0.247401</td>\n",
       "      <td>-0.664475</td>\n",
       "    </tr>\n",
       "    <tr>\n",
       "      <th>2015-06-30</th>\n",
       "      <td>-0.813809</td>\n",
       "      <td>0.966478</td>\n",
       "      <td>1.545573</td>\n",
       "    </tr>\n",
       "    <tr>\n",
       "      <th>2015-07-31</th>\n",
       "      <td>0.859988</td>\n",
       "      <td>-0.668712</td>\n",
       "      <td>0.235046</td>\n",
       "    </tr>\n",
       "  </tbody>\n",
       "</table>\n",
       "</div>"
      ],
      "text/plain": [
       "                   c         d         e\n",
       "2015-03-31 -0.144697 -0.627779  0.144554\n",
       "2015-04-30 -2.228916 -0.272287 -2.521556\n",
       "2015-05-31 -0.311218  0.247401 -0.664475\n",
       "2015-06-30 -0.813809  0.966478  1.545573\n",
       "2015-07-31  0.859988 -0.668712  0.235046"
      ]
     },
     "execution_count": 76,
     "metadata": {},
     "output_type": "execute_result"
    }
   ],
   "source": [
    "df.iloc[2:-3,2:5] #Ranges by number."
   ]
  },
  {
   "cell_type": "code",
   "execution_count": 77,
   "metadata": {
    "collapsed": false
   },
   "outputs": [
    {
     "data": {
      "text/html": [
       "<div>\n",
       "<table border=\"1\" class=\"dataframe\">\n",
       "  <thead>\n",
       "    <tr style=\"text-align: right;\">\n",
       "      <th></th>\n",
       "      <th>a</th>\n",
       "      <th>b</th>\n",
       "      <th>c</th>\n",
       "      <th>d</th>\n",
       "      <th>e</th>\n",
       "      <th>new2</th>\n",
       "    </tr>\n",
       "  </thead>\n",
       "  <tbody>\n",
       "    <tr>\n",
       "      <th>2015-05-31</th>\n",
       "      <td>1.248606</td>\n",
       "      <td>-0.972224</td>\n",
       "      <td>-0.311218</td>\n",
       "      <td>0.247401</td>\n",
       "      <td>-0.664475</td>\n",
       "      <td>5</td>\n",
       "    </tr>\n",
       "  </tbody>\n",
       "</table>\n",
       "</div>"
      ],
      "text/plain": [
       "                   a         b         c         d         e  new2\n",
       "2015-05-31  1.248606 -0.972224 -0.311218  0.247401 -0.664475     5"
      ]
     },
     "execution_count": 77,
     "metadata": {},
     "output_type": "execute_result"
    }
   ],
   "source": [
    "#SQL-like queries for parsimonious row selection.\n",
    "#Experimental\n",
    "df.query('a > 1 and c <1')"
   ]
  },
  {
   "cell_type": "code",
   "execution_count": 78,
   "metadata": {
    "collapsed": true
   },
   "outputs": [],
   "source": [
    "#Multi Index:\n",
    "dt_index = pd.date_range('2015-1-1', \n",
    "                        '2017-7-1', \n",
    "                        freq='m')\n",
    "df = pd.DataFrame(randn(30,5), index=dt_index)"
   ]
  },
  {
   "cell_type": "code",
   "execution_count": 79,
   "metadata": {
    "collapsed": false
   },
   "outputs": [
    {
     "data": {
      "text/html": [
       "<div>\n",
       "<table border=\"1\" class=\"dataframe\">\n",
       "  <thead>\n",
       "    <tr style=\"text-align: right;\">\n",
       "      <th></th>\n",
       "      <th>0</th>\n",
       "      <th>1</th>\n",
       "      <th>2</th>\n",
       "      <th>3</th>\n",
       "      <th>4</th>\n",
       "      <th>state</th>\n",
       "    </tr>\n",
       "  </thead>\n",
       "  <tbody>\n",
       "    <tr>\n",
       "      <th>2015-01-31</th>\n",
       "      <td>-0.919334</td>\n",
       "      <td>-1.383597</td>\n",
       "      <td>0.192523</td>\n",
       "      <td>-1.380100</td>\n",
       "      <td>0.791858</td>\n",
       "      <td>Alabama</td>\n",
       "    </tr>\n",
       "    <tr>\n",
       "      <th>2015-02-28</th>\n",
       "      <td>0.057079</td>\n",
       "      <td>-0.409658</td>\n",
       "      <td>-1.570921</td>\n",
       "      <td>-0.426461</td>\n",
       "      <td>0.123522</td>\n",
       "      <td>Alaska</td>\n",
       "    </tr>\n",
       "    <tr>\n",
       "      <th>2015-03-31</th>\n",
       "      <td>-0.989938</td>\n",
       "      <td>1.346695</td>\n",
       "      <td>1.069703</td>\n",
       "      <td>0.058300</td>\n",
       "      <td>0.060748</td>\n",
       "      <td>Arizona</td>\n",
       "    </tr>\n",
       "    <tr>\n",
       "      <th>2015-04-30</th>\n",
       "      <td>-0.808419</td>\n",
       "      <td>-0.559032</td>\n",
       "      <td>-0.982988</td>\n",
       "      <td>-0.274446</td>\n",
       "      <td>-1.993158</td>\n",
       "      <td>Alabama</td>\n",
       "    </tr>\n",
       "    <tr>\n",
       "      <th>2015-05-31</th>\n",
       "      <td>-0.642066</td>\n",
       "      <td>-0.426967</td>\n",
       "      <td>0.857912</td>\n",
       "      <td>0.198351</td>\n",
       "      <td>0.529363</td>\n",
       "      <td>Alaska</td>\n",
       "    </tr>\n",
       "  </tbody>\n",
       "</table>\n",
       "</div>"
      ],
      "text/plain": [
       "                   0         1         2         3         4    state\n",
       "2015-01-31 -0.919334 -1.383597  0.192523 -1.380100  0.791858  Alabama\n",
       "2015-02-28  0.057079 -0.409658 -1.570921 -0.426461  0.123522   Alaska\n",
       "2015-03-31 -0.989938  1.346695  1.069703  0.058300  0.060748  Arizona\n",
       "2015-04-30 -0.808419 -0.559032 -0.982988 -0.274446 -1.993158  Alabama\n",
       "2015-05-31 -0.642066 -0.426967  0.857912  0.198351  0.529363   Alaska"
      ]
     },
     "execution_count": 79,
     "metadata": {},
     "output_type": "execute_result"
    }
   ],
   "source": [
    "df['state'] = ['Alabama', 'Alaska' , 'Arizona'] * 10\n",
    "df.head()"
   ]
  },
  {
   "cell_type": "code",
   "execution_count": 83,
   "metadata": {
    "collapsed": false
   },
   "outputs": [
    {
     "data": {
      "text/html": [
       "<div>\n",
       "<table border=\"1\" class=\"dataframe\">\n",
       "  <thead>\n",
       "    <tr style=\"text-align: right;\">\n",
       "      <th></th>\n",
       "      <th></th>\n",
       "      <th>0</th>\n",
       "      <th>1</th>\n",
       "      <th>2</th>\n",
       "      <th>3</th>\n",
       "      <th>4</th>\n",
       "    </tr>\n",
       "    <tr>\n",
       "      <th>state</th>\n",
       "      <th>index</th>\n",
       "      <th></th>\n",
       "      <th></th>\n",
       "      <th></th>\n",
       "      <th></th>\n",
       "      <th></th>\n",
       "    </tr>\n",
       "  </thead>\n",
       "  <tbody>\n",
       "    <tr>\n",
       "      <th>Alabama</th>\n",
       "      <th>2015-01-31</th>\n",
       "      <td>-0.919334</td>\n",
       "      <td>-1.383597</td>\n",
       "      <td>0.192523</td>\n",
       "      <td>-1.380100</td>\n",
       "      <td>0.791858</td>\n",
       "    </tr>\n",
       "    <tr>\n",
       "      <th>Alaska</th>\n",
       "      <th>2015-02-28</th>\n",
       "      <td>0.057079</td>\n",
       "      <td>-0.409658</td>\n",
       "      <td>-1.570921</td>\n",
       "      <td>-0.426461</td>\n",
       "      <td>0.123522</td>\n",
       "    </tr>\n",
       "    <tr>\n",
       "      <th>Arizona</th>\n",
       "      <th>2015-03-31</th>\n",
       "      <td>-0.989938</td>\n",
       "      <td>1.346695</td>\n",
       "      <td>1.069703</td>\n",
       "      <td>0.058300</td>\n",
       "      <td>0.060748</td>\n",
       "    </tr>\n",
       "    <tr>\n",
       "      <th>Alabama</th>\n",
       "      <th>2015-04-30</th>\n",
       "      <td>-0.808419</td>\n",
       "      <td>-0.559032</td>\n",
       "      <td>-0.982988</td>\n",
       "      <td>-0.274446</td>\n",
       "      <td>-1.993158</td>\n",
       "    </tr>\n",
       "    <tr>\n",
       "      <th>Alaska</th>\n",
       "      <th>2015-05-31</th>\n",
       "      <td>-0.642066</td>\n",
       "      <td>-0.426967</td>\n",
       "      <td>0.857912</td>\n",
       "      <td>0.198351</td>\n",
       "      <td>0.529363</td>\n",
       "    </tr>\n",
       "  </tbody>\n",
       "</table>\n",
       "</div>"
      ],
      "text/plain": [
       "                           0         1         2         3         4\n",
       "state   index                                                       \n",
       "Alabama 2015-01-31 -0.919334 -1.383597  0.192523 -1.380100  0.791858\n",
       "Alaska  2015-02-28  0.057079 -0.409658 -1.570921 -0.426461  0.123522\n",
       "Arizona 2015-03-31 -0.989938  1.346695  1.069703  0.058300  0.060748\n",
       "Alabama 2015-04-30 -0.808419 -0.559032 -0.982988 -0.274446 -1.993158\n",
       "Alaska  2015-05-31 -0.642066 -0.426967  0.857912  0.198351  0.529363"
      ]
     },
     "execution_count": 83,
     "metadata": {},
     "output_type": "execute_result"
    }
   ],
   "source": [
    "df = df.reset_index()\n",
    "df = df.set_index(['state', 'index'])\n",
    "df.head()"
   ]
  },
  {
   "cell_type": "code",
   "execution_count": 85,
   "metadata": {
    "collapsed": false
   },
   "outputs": [
    {
     "data": {
      "text/html": [
       "<div>\n",
       "<table border=\"1\" class=\"dataframe\">\n",
       "  <thead>\n",
       "    <tr style=\"text-align: right;\">\n",
       "      <th></th>\n",
       "      <th>0</th>\n",
       "      <th>1</th>\n",
       "      <th>2</th>\n",
       "      <th>3</th>\n",
       "      <th>4</th>\n",
       "    </tr>\n",
       "    <tr>\n",
       "      <th>index</th>\n",
       "      <th></th>\n",
       "      <th></th>\n",
       "      <th></th>\n",
       "      <th></th>\n",
       "      <th></th>\n",
       "    </tr>\n",
       "  </thead>\n",
       "  <tbody>\n",
       "    <tr>\n",
       "      <th>2015-01-31</th>\n",
       "      <td>-0.919334</td>\n",
       "      <td>-1.383597</td>\n",
       "      <td>0.192523</td>\n",
       "      <td>-1.380100</td>\n",
       "      <td>0.791858</td>\n",
       "    </tr>\n",
       "    <tr>\n",
       "      <th>2015-04-30</th>\n",
       "      <td>-0.808419</td>\n",
       "      <td>-0.559032</td>\n",
       "      <td>-0.982988</td>\n",
       "      <td>-0.274446</td>\n",
       "      <td>-1.993158</td>\n",
       "    </tr>\n",
       "    <tr>\n",
       "      <th>2015-07-31</th>\n",
       "      <td>0.449599</td>\n",
       "      <td>0.238201</td>\n",
       "      <td>-0.631288</td>\n",
       "      <td>-1.720481</td>\n",
       "      <td>1.131846</td>\n",
       "    </tr>\n",
       "    <tr>\n",
       "      <th>2015-10-31</th>\n",
       "      <td>-0.009543</td>\n",
       "      <td>-0.148364</td>\n",
       "      <td>-0.442470</td>\n",
       "      <td>-0.260507</td>\n",
       "      <td>-0.957607</td>\n",
       "    </tr>\n",
       "    <tr>\n",
       "      <th>2016-01-31</th>\n",
       "      <td>0.534068</td>\n",
       "      <td>0.403782</td>\n",
       "      <td>-0.645354</td>\n",
       "      <td>0.283447</td>\n",
       "      <td>-1.697415</td>\n",
       "    </tr>\n",
       "  </tbody>\n",
       "</table>\n",
       "</div>"
      ],
      "text/plain": [
       "                   0         1         2         3         4\n",
       "index                                                       \n",
       "2015-01-31 -0.919334 -1.383597  0.192523 -1.380100  0.791858\n",
       "2015-04-30 -0.808419 -0.559032 -0.982988 -0.274446 -1.993158\n",
       "2015-07-31  0.449599  0.238201 -0.631288 -1.720481  1.131846\n",
       "2015-10-31 -0.009543 -0.148364 -0.442470 -0.260507 -0.957607\n",
       "2016-01-31  0.534068  0.403782 -0.645354  0.283447 -1.697415"
      ]
     },
     "execution_count": 85,
     "metadata": {},
     "output_type": "execute_result"
    }
   ],
   "source": [
    "df.loc['Alabama'].head()"
   ]
  },
  {
   "cell_type": "code",
   "execution_count": 88,
   "metadata": {
    "collapsed": false
   },
   "outputs": [
    {
     "ename": "KeyError",
     "evalue": "'the label [2015-01-31] is not in the [index]'",
     "output_type": "error",
     "traceback": [
      "\u001b[0;31m-------------------------------------------------------------------------\u001b[0m",
      "\u001b[0;31mKeyError\u001b[0m                                Traceback (most recent call last)",
      "\u001b[0;32m<ipython-input-88-5a5a10bc40e7>\u001b[0m in \u001b[0;36m<module>\u001b[0;34m()\u001b[0m\n\u001b[0;32m----> 1\u001b[0;31m \u001b[0mdf\u001b[0m\u001b[0;34m.\u001b[0m\u001b[0mloc\u001b[0m\u001b[0;34m[\u001b[0m\u001b[0;34m'2015-01-31'\u001b[0m\u001b[0;34m]\u001b[0m \u001b[0;31m#Doesn't work.\u001b[0m\u001b[0;34m\u001b[0m\u001b[0m\n\u001b[0m",
      "\u001b[0;32m/Users/natalie.hunt/anaconda2/lib/python2.7/site-packages/pandas/core/indexing.pyc\u001b[0m in \u001b[0;36m__getitem__\u001b[0;34m(self, key)\u001b[0m\n\u001b[1;32m   1310\u001b[0m             \u001b[0;32mreturn\u001b[0m \u001b[0mself\u001b[0m\u001b[0;34m.\u001b[0m\u001b[0m_getitem_tuple\u001b[0m\u001b[0;34m(\u001b[0m\u001b[0mkey\u001b[0m\u001b[0;34m)\u001b[0m\u001b[0;34m\u001b[0m\u001b[0m\n\u001b[1;32m   1311\u001b[0m         \u001b[0;32melse\u001b[0m\u001b[0;34m:\u001b[0m\u001b[0;34m\u001b[0m\u001b[0m\n\u001b[0;32m-> 1312\u001b[0;31m             \u001b[0;32mreturn\u001b[0m \u001b[0mself\u001b[0m\u001b[0;34m.\u001b[0m\u001b[0m_getitem_axis\u001b[0m\u001b[0;34m(\u001b[0m\u001b[0mkey\u001b[0m\u001b[0;34m,\u001b[0m \u001b[0maxis\u001b[0m\u001b[0;34m=\u001b[0m\u001b[0;36m0\u001b[0m\u001b[0;34m)\u001b[0m\u001b[0;34m\u001b[0m\u001b[0m\n\u001b[0m\u001b[1;32m   1313\u001b[0m \u001b[0;34m\u001b[0m\u001b[0m\n\u001b[1;32m   1314\u001b[0m     \u001b[0;32mdef\u001b[0m \u001b[0m_getitem_axis\u001b[0m\u001b[0;34m(\u001b[0m\u001b[0mself\u001b[0m\u001b[0;34m,\u001b[0m \u001b[0mkey\u001b[0m\u001b[0;34m,\u001b[0m \u001b[0maxis\u001b[0m\u001b[0;34m=\u001b[0m\u001b[0;36m0\u001b[0m\u001b[0;34m)\u001b[0m\u001b[0;34m:\u001b[0m\u001b[0;34m\u001b[0m\u001b[0m\n",
      "\u001b[0;32m/Users/natalie.hunt/anaconda2/lib/python2.7/site-packages/pandas/core/indexing.pyc\u001b[0m in \u001b[0;36m_getitem_axis\u001b[0;34m(self, key, axis)\u001b[0m\n\u001b[1;32m   1480\u001b[0m \u001b[0;34m\u001b[0m\u001b[0m\n\u001b[1;32m   1481\u001b[0m         \u001b[0;31m# fall thru to straight lookup\u001b[0m\u001b[0;34m\u001b[0m\u001b[0;34m\u001b[0m\u001b[0m\n\u001b[0;32m-> 1482\u001b[0;31m         \u001b[0mself\u001b[0m\u001b[0;34m.\u001b[0m\u001b[0m_has_valid_type\u001b[0m\u001b[0;34m(\u001b[0m\u001b[0mkey\u001b[0m\u001b[0;34m,\u001b[0m \u001b[0maxis\u001b[0m\u001b[0;34m)\u001b[0m\u001b[0;34m\u001b[0m\u001b[0m\n\u001b[0m\u001b[1;32m   1483\u001b[0m         \u001b[0;32mreturn\u001b[0m \u001b[0mself\u001b[0m\u001b[0;34m.\u001b[0m\u001b[0m_get_label\u001b[0m\u001b[0;34m(\u001b[0m\u001b[0mkey\u001b[0m\u001b[0;34m,\u001b[0m \u001b[0maxis\u001b[0m\u001b[0;34m=\u001b[0m\u001b[0maxis\u001b[0m\u001b[0;34m)\u001b[0m\u001b[0;34m\u001b[0m\u001b[0m\n\u001b[1;32m   1484\u001b[0m \u001b[0;34m\u001b[0m\u001b[0m\n",
      "\u001b[0;32m/Users/natalie.hunt/anaconda2/lib/python2.7/site-packages/pandas/core/indexing.pyc\u001b[0m in \u001b[0;36m_has_valid_type\u001b[0;34m(self, key, axis)\u001b[0m\n\u001b[1;32m   1417\u001b[0m                 \u001b[0;32mraise\u001b[0m\u001b[0;34m\u001b[0m\u001b[0m\n\u001b[1;32m   1418\u001b[0m             \u001b[0;32mexcept\u001b[0m\u001b[0;34m:\u001b[0m\u001b[0;34m\u001b[0m\u001b[0m\n\u001b[0;32m-> 1419\u001b[0;31m                 \u001b[0merror\u001b[0m\u001b[0;34m(\u001b[0m\u001b[0;34m)\u001b[0m\u001b[0;34m\u001b[0m\u001b[0m\n\u001b[0m\u001b[1;32m   1420\u001b[0m \u001b[0;34m\u001b[0m\u001b[0m\n\u001b[1;32m   1421\u001b[0m         \u001b[0;32mreturn\u001b[0m \u001b[0mTrue\u001b[0m\u001b[0;34m\u001b[0m\u001b[0m\n",
      "\u001b[0;32m/Users/natalie.hunt/anaconda2/lib/python2.7/site-packages/pandas/core/indexing.pyc\u001b[0m in \u001b[0;36merror\u001b[0;34m()\u001b[0m\n\u001b[1;32m   1404\u001b[0m                                     \"key\")\n\u001b[1;32m   1405\u001b[0m                 raise KeyError(\"the label [%s] is not in the [%s]\" %\n\u001b[0;32m-> 1406\u001b[0;31m                                (key, self.obj._get_axis_name(axis)))\n\u001b[0m\u001b[1;32m   1407\u001b[0m \u001b[0;34m\u001b[0m\u001b[0m\n\u001b[1;32m   1408\u001b[0m             \u001b[0;32mtry\u001b[0m\u001b[0;34m:\u001b[0m\u001b[0;34m\u001b[0m\u001b[0m\n",
      "\u001b[0;31mKeyError\u001b[0m: 'the label [2015-01-31] is not in the [index]'"
     ]
    }
   ],
   "source": [
    "df.loc['2015-01-31'] #Doesn't work."
   ]
  },
  {
   "cell_type": "code",
   "execution_count": 90,
   "metadata": {
    "collapsed": false
   },
   "outputs": [
    {
     "data": {
      "text/plain": [
       "0   -0.919334\n",
       "1   -1.383597\n",
       "2    0.192523\n",
       "3   -1.380100\n",
       "4    0.791858\n",
       "Name: (Alabama, 2015-01-31 00:00:00), dtype: float64"
      ]
     },
     "execution_count": 90,
     "metadata": {},
     "output_type": "execute_result"
    }
   ],
   "source": [
    "df.loc[('Alabama', '2015-01-31')] #Can do this."
   ]
  },
  {
   "cell_type": "code",
   "execution_count": 98,
   "metadata": {
    "collapsed": false
   },
   "outputs": [
    {
     "data": {
      "text/html": [
       "<div>\n",
       "<table border=\"1\" class=\"dataframe\">\n",
       "  <thead>\n",
       "    <tr>\n",
       "      <th></th>\n",
       "      <th colspan=\"3\" halign=\"left\">0</th>\n",
       "      <th colspan=\"3\" halign=\"left\">1</th>\n",
       "      <th colspan=\"3\" halign=\"left\">2</th>\n",
       "      <th colspan=\"3\" halign=\"left\">3</th>\n",
       "      <th colspan=\"3\" halign=\"left\">4</th>\n",
       "    </tr>\n",
       "    <tr>\n",
       "      <th>state</th>\n",
       "      <th>Alabama</th>\n",
       "      <th>Alaska</th>\n",
       "      <th>Arizona</th>\n",
       "      <th>Alabama</th>\n",
       "      <th>Alaska</th>\n",
       "      <th>Arizona</th>\n",
       "      <th>Alabama</th>\n",
       "      <th>Alaska</th>\n",
       "      <th>Arizona</th>\n",
       "      <th>Alabama</th>\n",
       "      <th>Alaska</th>\n",
       "      <th>Arizona</th>\n",
       "      <th>Alabama</th>\n",
       "      <th>Alaska</th>\n",
       "      <th>Arizona</th>\n",
       "    </tr>\n",
       "    <tr>\n",
       "      <th>index</th>\n",
       "      <th></th>\n",
       "      <th></th>\n",
       "      <th></th>\n",
       "      <th></th>\n",
       "      <th></th>\n",
       "      <th></th>\n",
       "      <th></th>\n",
       "      <th></th>\n",
       "      <th></th>\n",
       "      <th></th>\n",
       "      <th></th>\n",
       "      <th></th>\n",
       "      <th></th>\n",
       "      <th></th>\n",
       "      <th></th>\n",
       "    </tr>\n",
       "  </thead>\n",
       "  <tbody>\n",
       "    <tr>\n",
       "      <th>2015-01-31</th>\n",
       "      <td>-0.919334</td>\n",
       "      <td>NaN</td>\n",
       "      <td>NaN</td>\n",
       "      <td>-1.383597</td>\n",
       "      <td>NaN</td>\n",
       "      <td>NaN</td>\n",
       "      <td>0.192523</td>\n",
       "      <td>NaN</td>\n",
       "      <td>NaN</td>\n",
       "      <td>-1.380100</td>\n",
       "      <td>NaN</td>\n",
       "      <td>NaN</td>\n",
       "      <td>0.791858</td>\n",
       "      <td>NaN</td>\n",
       "      <td>NaN</td>\n",
       "    </tr>\n",
       "    <tr>\n",
       "      <th>2015-02-28</th>\n",
       "      <td>NaN</td>\n",
       "      <td>0.057079</td>\n",
       "      <td>NaN</td>\n",
       "      <td>NaN</td>\n",
       "      <td>-0.409658</td>\n",
       "      <td>NaN</td>\n",
       "      <td>NaN</td>\n",
       "      <td>-1.570921</td>\n",
       "      <td>NaN</td>\n",
       "      <td>NaN</td>\n",
       "      <td>-0.426461</td>\n",
       "      <td>NaN</td>\n",
       "      <td>NaN</td>\n",
       "      <td>0.123522</td>\n",
       "      <td>NaN</td>\n",
       "    </tr>\n",
       "    <tr>\n",
       "      <th>2015-03-31</th>\n",
       "      <td>NaN</td>\n",
       "      <td>NaN</td>\n",
       "      <td>-0.989938</td>\n",
       "      <td>NaN</td>\n",
       "      <td>NaN</td>\n",
       "      <td>1.346695</td>\n",
       "      <td>NaN</td>\n",
       "      <td>NaN</td>\n",
       "      <td>1.069703</td>\n",
       "      <td>NaN</td>\n",
       "      <td>NaN</td>\n",
       "      <td>0.0583</td>\n",
       "      <td>NaN</td>\n",
       "      <td>NaN</td>\n",
       "      <td>0.060748</td>\n",
       "    </tr>\n",
       "    <tr>\n",
       "      <th>2015-04-30</th>\n",
       "      <td>-0.808419</td>\n",
       "      <td>NaN</td>\n",
       "      <td>NaN</td>\n",
       "      <td>-0.559032</td>\n",
       "      <td>NaN</td>\n",
       "      <td>NaN</td>\n",
       "      <td>-0.982988</td>\n",
       "      <td>NaN</td>\n",
       "      <td>NaN</td>\n",
       "      <td>-0.274446</td>\n",
       "      <td>NaN</td>\n",
       "      <td>NaN</td>\n",
       "      <td>-1.993158</td>\n",
       "      <td>NaN</td>\n",
       "      <td>NaN</td>\n",
       "    </tr>\n",
       "    <tr>\n",
       "      <th>2015-05-31</th>\n",
       "      <td>NaN</td>\n",
       "      <td>-0.642066</td>\n",
       "      <td>NaN</td>\n",
       "      <td>NaN</td>\n",
       "      <td>-0.426967</td>\n",
       "      <td>NaN</td>\n",
       "      <td>NaN</td>\n",
       "      <td>0.857912</td>\n",
       "      <td>NaN</td>\n",
       "      <td>NaN</td>\n",
       "      <td>0.198351</td>\n",
       "      <td>NaN</td>\n",
       "      <td>NaN</td>\n",
       "      <td>0.529363</td>\n",
       "      <td>NaN</td>\n",
       "    </tr>\n",
       "  </tbody>\n",
       "</table>\n",
       "</div>"
      ],
      "text/plain": [
       "                   0                             1                      \\\n",
       "state        Alabama    Alaska   Arizona   Alabama    Alaska   Arizona   \n",
       "index                                                                    \n",
       "2015-01-31 -0.919334       NaN       NaN -1.383597       NaN       NaN   \n",
       "2015-02-28       NaN  0.057079       NaN       NaN -0.409658       NaN   \n",
       "2015-03-31       NaN       NaN -0.989938       NaN       NaN  1.346695   \n",
       "2015-04-30 -0.808419       NaN       NaN -0.559032       NaN       NaN   \n",
       "2015-05-31       NaN -0.642066       NaN       NaN -0.426967       NaN   \n",
       "\n",
       "                   2                             3                    \\\n",
       "state        Alabama    Alaska   Arizona   Alabama    Alaska Arizona   \n",
       "index                                                                  \n",
       "2015-01-31  0.192523       NaN       NaN -1.380100       NaN     NaN   \n",
       "2015-02-28       NaN -1.570921       NaN       NaN -0.426461     NaN   \n",
       "2015-03-31       NaN       NaN  1.069703       NaN       NaN  0.0583   \n",
       "2015-04-30 -0.982988       NaN       NaN -0.274446       NaN     NaN   \n",
       "2015-05-31       NaN  0.857912       NaN       NaN  0.198351     NaN   \n",
       "\n",
       "                   4                      \n",
       "state        Alabama    Alaska   Arizona  \n",
       "index                                     \n",
       "2015-01-31  0.791858       NaN       NaN  \n",
       "2015-02-28       NaN  0.123522       NaN  \n",
       "2015-03-31       NaN       NaN  0.060748  \n",
       "2015-04-30 -1.993158       NaN       NaN  \n",
       "2015-05-31       NaN  0.529363       NaN  "
      ]
     },
     "execution_count": 98,
     "metadata": {},
     "output_type": "execute_result"
    }
   ],
   "source": [
    "#Can also have multi-index in columns.\n",
    "df.reset_index().set_index(['index', 'state']).unstack().head()"
   ]
  },
  {
   "cell_type": "code",
   "execution_count": 100,
   "metadata": {
    "collapsed": false
   },
   "outputs": [
    {
     "data": {
      "text/html": [
       "<div>\n",
       "<table border=\"1\" class=\"dataframe\">\n",
       "  <thead>\n",
       "    <tr style=\"text-align: right;\">\n",
       "      <th></th>\n",
       "      <th></th>\n",
       "      <th>0</th>\n",
       "      <th>1</th>\n",
       "      <th>2</th>\n",
       "      <th>3</th>\n",
       "      <th>4</th>\n",
       "    </tr>\n",
       "    <tr>\n",
       "      <th>state</th>\n",
       "      <th>index</th>\n",
       "      <th></th>\n",
       "      <th></th>\n",
       "      <th></th>\n",
       "      <th></th>\n",
       "      <th></th>\n",
       "    </tr>\n",
       "  </thead>\n",
       "  <tbody>\n",
       "    <tr>\n",
       "      <th>Alabama</th>\n",
       "      <th>2015-01-31</th>\n",
       "      <td>-0.919334</td>\n",
       "      <td>-1.383597</td>\n",
       "      <td>0.192523</td>\n",
       "      <td>-1.380100</td>\n",
       "      <td>0.791858</td>\n",
       "    </tr>\n",
       "    <tr>\n",
       "      <th>Alaska</th>\n",
       "      <th>2015-02-28</th>\n",
       "      <td>0.057079</td>\n",
       "      <td>-0.409658</td>\n",
       "      <td>-1.570921</td>\n",
       "      <td>-0.426461</td>\n",
       "      <td>0.123522</td>\n",
       "    </tr>\n",
       "    <tr>\n",
       "      <th>Arizona</th>\n",
       "      <th>2015-03-31</th>\n",
       "      <td>-0.989938</td>\n",
       "      <td>1.346695</td>\n",
       "      <td>1.069703</td>\n",
       "      <td>0.058300</td>\n",
       "      <td>0.060748</td>\n",
       "    </tr>\n",
       "    <tr>\n",
       "      <th>Alabama</th>\n",
       "      <th>2015-04-30</th>\n",
       "      <td>-0.808419</td>\n",
       "      <td>-0.559032</td>\n",
       "      <td>-0.982988</td>\n",
       "      <td>-0.274446</td>\n",
       "      <td>-1.993158</td>\n",
       "    </tr>\n",
       "    <tr>\n",
       "      <th>Alaska</th>\n",
       "      <th>2015-05-31</th>\n",
       "      <td>-0.642066</td>\n",
       "      <td>-0.426967</td>\n",
       "      <td>0.857912</td>\n",
       "      <td>0.198351</td>\n",
       "      <td>0.529363</td>\n",
       "    </tr>\n",
       "  </tbody>\n",
       "</table>\n",
       "</div>"
      ],
      "text/plain": [
       "                           0         1         2         3         4\n",
       "state   index                                                       \n",
       "Alabama 2015-01-31 -0.919334 -1.383597  0.192523 -1.380100  0.791858\n",
       "Alaska  2015-02-28  0.057079 -0.409658 -1.570921 -0.426461  0.123522\n",
       "Arizona 2015-03-31 -0.989938  1.346695  1.069703  0.058300  0.060748\n",
       "Alabama 2015-04-30 -0.808419 -0.559032 -0.982988 -0.274446 -1.993158\n",
       "Alaska  2015-05-31 -0.642066 -0.426967  0.857912  0.198351  0.529363"
      ]
     },
     "execution_count": 100,
     "metadata": {},
     "output_type": "execute_result"
    }
   ],
   "source": [
    "df.head()"
   ]
  },
  {
   "cell_type": "markdown",
   "metadata": {},
   "source": [
    "# split-apply-combine"
   ]
  },
  {
   "cell_type": "code",
   "execution_count": 108,
   "metadata": {
    "collapsed": false
   },
   "outputs": [
    {
     "data": {
      "text/html": [
       "<div>\n",
       "<table border=\"1\" class=\"dataframe\">\n",
       "  <thead>\n",
       "    <tr style=\"text-align: right;\">\n",
       "      <th></th>\n",
       "      <th>0</th>\n",
       "      <th>1</th>\n",
       "      <th>2</th>\n",
       "      <th>3</th>\n",
       "      <th>4</th>\n",
       "    </tr>\n",
       "    <tr>\n",
       "      <th>state</th>\n",
       "      <th></th>\n",
       "      <th></th>\n",
       "      <th></th>\n",
       "      <th></th>\n",
       "      <th></th>\n",
       "    </tr>\n",
       "  </thead>\n",
       "  <tbody>\n",
       "    <tr>\n",
       "      <th>Alabama</th>\n",
       "      <td>0.246758</td>\n",
       "      <td>-0.101736</td>\n",
       "      <td>-0.137930</td>\n",
       "      <td>-0.576965</td>\n",
       "      <td>-0.265274</td>\n",
       "    </tr>\n",
       "    <tr>\n",
       "      <th>Alaska</th>\n",
       "      <td>-0.447685</td>\n",
       "      <td>-0.264967</td>\n",
       "      <td>-0.139876</td>\n",
       "      <td>-0.072223</td>\n",
       "      <td>0.239833</td>\n",
       "    </tr>\n",
       "    <tr>\n",
       "      <th>Arizona</th>\n",
       "      <td>-0.351562</td>\n",
       "      <td>0.752285</td>\n",
       "      <td>0.090259</td>\n",
       "      <td>-0.363086</td>\n",
       "      <td>-0.177778</td>\n",
       "    </tr>\n",
       "  </tbody>\n",
       "</table>\n",
       "</div>"
      ],
      "text/plain": [
       "                0         1         2         3         4\n",
       "state                                                    \n",
       "Alabama  0.246758 -0.101736 -0.137930 -0.576965 -0.265274\n",
       "Alaska  -0.447685 -0.264967 -0.139876 -0.072223  0.239833\n",
       "Arizona -0.351562  0.752285  0.090259 -0.363086 -0.177778"
      ]
     },
     "execution_count": 108,
     "metadata": {},
     "output_type": "execute_result"
    }
   ],
   "source": [
    "df.groupby(level=0).mean()"
   ]
  },
  {
   "cell_type": "code",
   "execution_count": 110,
   "metadata": {
    "collapsed": false
   },
   "outputs": [
    {
     "data": {
      "text/html": [
       "<div>\n",
       "<table border=\"1\" class=\"dataframe\">\n",
       "  <thead>\n",
       "    <tr style=\"text-align: right;\">\n",
       "      <th></th>\n",
       "      <th>0</th>\n",
       "      <th>1</th>\n",
       "      <th>2</th>\n",
       "      <th>3</th>\n",
       "      <th>4</th>\n",
       "    </tr>\n",
       "    <tr>\n",
       "      <th>index</th>\n",
       "      <th></th>\n",
       "      <th></th>\n",
       "      <th></th>\n",
       "      <th></th>\n",
       "      <th></th>\n",
       "    </tr>\n",
       "  </thead>\n",
       "  <tbody>\n",
       "    <tr>\n",
       "      <th>2015-01-31</th>\n",
       "      <td>-0.919334</td>\n",
       "      <td>-1.383597</td>\n",
       "      <td>0.192523</td>\n",
       "      <td>-1.380100</td>\n",
       "      <td>0.791858</td>\n",
       "    </tr>\n",
       "    <tr>\n",
       "      <th>2015-02-28</th>\n",
       "      <td>0.057079</td>\n",
       "      <td>-0.409658</td>\n",
       "      <td>-1.570921</td>\n",
       "      <td>-0.426461</td>\n",
       "      <td>0.123522</td>\n",
       "    </tr>\n",
       "    <tr>\n",
       "      <th>2015-03-31</th>\n",
       "      <td>-0.989938</td>\n",
       "      <td>1.346695</td>\n",
       "      <td>1.069703</td>\n",
       "      <td>0.058300</td>\n",
       "      <td>0.060748</td>\n",
       "    </tr>\n",
       "    <tr>\n",
       "      <th>2015-04-30</th>\n",
       "      <td>-0.808419</td>\n",
       "      <td>-0.559032</td>\n",
       "      <td>-0.982988</td>\n",
       "      <td>-0.274446</td>\n",
       "      <td>-1.993158</td>\n",
       "    </tr>\n",
       "    <tr>\n",
       "      <th>2015-05-31</th>\n",
       "      <td>-0.642066</td>\n",
       "      <td>-0.426967</td>\n",
       "      <td>0.857912</td>\n",
       "      <td>0.198351</td>\n",
       "      <td>0.529363</td>\n",
       "    </tr>\n",
       "  </tbody>\n",
       "</table>\n",
       "</div>"
      ],
      "text/plain": [
       "                   0         1         2         3         4\n",
       "index                                                       \n",
       "2015-01-31 -0.919334 -1.383597  0.192523 -1.380100  0.791858\n",
       "2015-02-28  0.057079 -0.409658 -1.570921 -0.426461  0.123522\n",
       "2015-03-31 -0.989938  1.346695  1.069703  0.058300  0.060748\n",
       "2015-04-30 -0.808419 -0.559032 -0.982988 -0.274446 -1.993158\n",
       "2015-05-31 -0.642066 -0.426967  0.857912  0.198351  0.529363"
      ]
     },
     "execution_count": 110,
     "metadata": {},
     "output_type": "execute_result"
    }
   ],
   "source": [
    "df.groupby(level=1).mean().head() #Groupby index"
   ]
  },
  {
   "cell_type": "code",
   "execution_count": 111,
   "metadata": {
    "collapsed": false
   },
   "outputs": [
    {
     "data": {
      "text/html": [
       "<div>\n",
       "<table border=\"1\" class=\"dataframe\">\n",
       "  <thead>\n",
       "    <tr style=\"text-align: right;\">\n",
       "      <th></th>\n",
       "      <th>0</th>\n",
       "      <th>1</th>\n",
       "      <th>2</th>\n",
       "      <th>3</th>\n",
       "      <th>4</th>\n",
       "    </tr>\n",
       "    <tr>\n",
       "      <th>state</th>\n",
       "      <th></th>\n",
       "      <th></th>\n",
       "      <th></th>\n",
       "      <th></th>\n",
       "      <th></th>\n",
       "    </tr>\n",
       "  </thead>\n",
       "  <tbody>\n",
       "    <tr>\n",
       "      <th>Alabama</th>\n",
       "      <td>0.246758</td>\n",
       "      <td>-0.101736</td>\n",
       "      <td>-0.137930</td>\n",
       "      <td>-0.576965</td>\n",
       "      <td>-0.265274</td>\n",
       "    </tr>\n",
       "    <tr>\n",
       "      <th>Alaska</th>\n",
       "      <td>-0.447685</td>\n",
       "      <td>-0.264967</td>\n",
       "      <td>-0.139876</td>\n",
       "      <td>-0.072223</td>\n",
       "      <td>0.239833</td>\n",
       "    </tr>\n",
       "    <tr>\n",
       "      <th>Arizona</th>\n",
       "      <td>-0.351562</td>\n",
       "      <td>0.752285</td>\n",
       "      <td>0.090259</td>\n",
       "      <td>-0.363086</td>\n",
       "      <td>-0.177778</td>\n",
       "    </tr>\n",
       "  </tbody>\n",
       "</table>\n",
       "</div>"
      ],
      "text/plain": [
       "                0         1         2         3         4\n",
       "state                                                    \n",
       "Alabama  0.246758 -0.101736 -0.137930 -0.576965 -0.265274\n",
       "Alaska  -0.447685 -0.264967 -0.139876 -0.072223  0.239833\n",
       "Arizona -0.351562  0.752285  0.090259 -0.363086 -0.177778"
      ]
     },
     "execution_count": 111,
     "metadata": {},
     "output_type": "execute_result"
    }
   ],
   "source": [
    "#Groupby doesn't have to be on index.\n",
    "df.reset_index().groupby('state').mean().head()\n",
    "#'state' could be a list of columns to group on."
   ]
  },
  {
   "cell_type": "code",
   "execution_count": 116,
   "metadata": {
    "collapsed": false
   },
   "outputs": [],
   "source": [
    "#Apply\n",
    "g = df.groupby(level=0)"
   ]
  },
  {
   "cell_type": "code",
   "execution_count": 120,
   "metadata": {
    "collapsed": false
   },
   "outputs": [
    {
     "data": {
      "text/html": [
       "<div>\n",
       "<table border=\"1\" class=\"dataframe\">\n",
       "  <thead>\n",
       "    <tr style=\"text-align: right;\">\n",
       "      <th></th>\n",
       "      <th>0</th>\n",
       "      <th>1</th>\n",
       "      <th>2</th>\n",
       "      <th>3</th>\n",
       "      <th>4</th>\n",
       "    </tr>\n",
       "    <tr>\n",
       "      <th>state</th>\n",
       "      <th></th>\n",
       "      <th></th>\n",
       "      <th></th>\n",
       "      <th></th>\n",
       "      <th></th>\n",
       "    </tr>\n",
       "  </thead>\n",
       "  <tbody>\n",
       "    <tr>\n",
       "      <th>Alabama</th>\n",
       "      <td>0.246758</td>\n",
       "      <td>-0.101736</td>\n",
       "      <td>-0.137930</td>\n",
       "      <td>-0.576965</td>\n",
       "      <td>-0.265274</td>\n",
       "    </tr>\n",
       "    <tr>\n",
       "      <th>Alaska</th>\n",
       "      <td>-0.447685</td>\n",
       "      <td>-0.264967</td>\n",
       "      <td>-0.139876</td>\n",
       "      <td>-0.072223</td>\n",
       "      <td>0.239833</td>\n",
       "    </tr>\n",
       "    <tr>\n",
       "      <th>Arizona</th>\n",
       "      <td>-0.351562</td>\n",
       "      <td>0.752285</td>\n",
       "      <td>0.090259</td>\n",
       "      <td>-0.363086</td>\n",
       "      <td>-0.177778</td>\n",
       "    </tr>\n",
       "  </tbody>\n",
       "</table>\n",
       "</div>"
      ],
      "text/plain": [
       "                0         1         2         3         4\n",
       "state                                                    \n",
       "Alabama  0.246758 -0.101736 -0.137930 -0.576965 -0.265274\n",
       "Alaska  -0.447685 -0.264967 -0.139876 -0.072223  0.239833\n",
       "Arizona -0.351562  0.752285  0.090259 -0.363086 -0.177778"
      ]
     },
     "execution_count": 120,
     "metadata": {},
     "output_type": "execute_result"
    }
   ],
   "source": [
    "#If one row for each index.\n",
    "# g.aggregate(np.mean)\n",
    "g.mean()"
   ]
  },
  {
   "cell_type": "code",
   "execution_count": 122,
   "metadata": {
    "collapsed": false
   },
   "outputs": [
    {
     "data": {
      "text/html": [
       "<div>\n",
       "<table border=\"1\" class=\"dataframe\">\n",
       "  <thead>\n",
       "    <tr style=\"text-align: right;\">\n",
       "      <th></th>\n",
       "      <th></th>\n",
       "      <th>0</th>\n",
       "      <th>1</th>\n",
       "      <th>2</th>\n",
       "      <th>3</th>\n",
       "      <th>4</th>\n",
       "    </tr>\n",
       "    <tr>\n",
       "      <th>state</th>\n",
       "      <th>index</th>\n",
       "      <th></th>\n",
       "      <th></th>\n",
       "      <th></th>\n",
       "      <th></th>\n",
       "      <th></th>\n",
       "    </tr>\n",
       "  </thead>\n",
       "  <tbody>\n",
       "    <tr>\n",
       "      <th>Alabama</th>\n",
       "      <th>2015-01-31</th>\n",
       "      <td>-1.326950</td>\n",
       "      <td>-1.224173</td>\n",
       "      <td>0.320683</td>\n",
       "      <td>-0.782312</td>\n",
       "      <td>0.941702</td>\n",
       "    </tr>\n",
       "    <tr>\n",
       "      <th>Alaska</th>\n",
       "      <th>2015-02-28</th>\n",
       "      <td>0.740444</td>\n",
       "      <td>-0.205716</td>\n",
       "      <td>-1.184748</td>\n",
       "      <td>-0.624493</td>\n",
       "      <td>-0.179109</td>\n",
       "    </tr>\n",
       "    <tr>\n",
       "      <th>Arizona</th>\n",
       "      <th>2015-03-31</th>\n",
       "      <td>-0.941888</td>\n",
       "      <td>0.649376</td>\n",
       "      <td>0.959817</td>\n",
       "      <td>0.504767</td>\n",
       "      <td>0.294167</td>\n",
       "    </tr>\n",
       "    <tr>\n",
       "      <th>Alabama</th>\n",
       "      <th>2015-04-30</th>\n",
       "      <td>-1.200734</td>\n",
       "      <td>-0.436717</td>\n",
       "      <td>-0.820074</td>\n",
       "      <td>0.294675</td>\n",
       "      <td>-1.539214</td>\n",
       "    </tr>\n",
       "    <tr>\n",
       "      <th>Alaska</th>\n",
       "      <th>2015-05-31</th>\n",
       "      <td>-0.285139</td>\n",
       "      <td>-0.230324</td>\n",
       "      <td>0.826060</td>\n",
       "      <td>0.477000</td>\n",
       "      <td>0.445852</td>\n",
       "    </tr>\n",
       "  </tbody>\n",
       "</table>\n",
       "</div>"
      ],
      "text/plain": [
       "                           0         1         2         3         4\n",
       "state   index                                                       \n",
       "Alabama 2015-01-31 -1.326950 -1.224173  0.320683 -0.782312  0.941702\n",
       "Alaska  2015-02-28  0.740444 -0.205716 -1.184748 -0.624493 -0.179109\n",
       "Arizona 2015-03-31 -0.941888  0.649376  0.959817  0.504767  0.294167\n",
       "Alabama 2015-04-30 -1.200734 -0.436717 -0.820074  0.294675 -1.539214\n",
       "Alaska  2015-05-31 -0.285139 -0.230324  0.826060  0.477000  0.445852"
      ]
     },
     "execution_count": 122,
     "metadata": {},
     "output_type": "execute_result"
    }
   ],
   "source": [
    "#If same shape as original:\n",
    "g.transform(lambda x: (x - x.mean())/x.std()).head()"
   ]
  },
  {
   "cell_type": "code",
   "execution_count": 128,
   "metadata": {
    "collapsed": false
   },
   "outputs": [
    {
     "data": {
      "text/html": [
       "<div>\n",
       "<table border=\"1\" class=\"dataframe\">\n",
       "  <thead>\n",
       "    <tr style=\"text-align: right;\">\n",
       "      <th></th>\n",
       "      <th></th>\n",
       "      <th>0</th>\n",
       "      <th>1</th>\n",
       "      <th>2</th>\n",
       "      <th>3</th>\n",
       "      <th>4</th>\n",
       "    </tr>\n",
       "    <tr>\n",
       "      <th>state</th>\n",
       "      <th></th>\n",
       "      <th></th>\n",
       "      <th></th>\n",
       "      <th></th>\n",
       "      <th></th>\n",
       "      <th></th>\n",
       "    </tr>\n",
       "  </thead>\n",
       "  <tbody>\n",
       "    <tr>\n",
       "      <th rowspan=\"8\" valign=\"top\">Alabama</th>\n",
       "      <th>count</th>\n",
       "      <td>10.000000</td>\n",
       "      <td>10.000000</td>\n",
       "      <td>10.000000</td>\n",
       "      <td>10.000000</td>\n",
       "      <td>10.000000</td>\n",
       "    </tr>\n",
       "    <tr>\n",
       "      <th>mean</th>\n",
       "      <td>0.246758</td>\n",
       "      <td>-0.101736</td>\n",
       "      <td>-0.137930</td>\n",
       "      <td>-0.576965</td>\n",
       "      <td>-0.265274</td>\n",
       "    </tr>\n",
       "    <tr>\n",
       "      <th>std</th>\n",
       "      <td>0.878776</td>\n",
       "      <td>1.047124</td>\n",
       "      <td>1.030465</td>\n",
       "      <td>1.026618</td>\n",
       "      <td>1.122576</td>\n",
       "    </tr>\n",
       "    <tr>\n",
       "      <th>min</th>\n",
       "      <td>-0.968390</td>\n",
       "      <td>-1.583106</td>\n",
       "      <td>-1.372483</td>\n",
       "      <td>-1.736529</td>\n",
       "      <td>-1.993158</td>\n",
       "    </tr>\n",
       "    <tr>\n",
       "      <th>25%</th>\n",
       "      <td>-0.608700</td>\n",
       "      <td>-0.568329</td>\n",
       "      <td>-0.723565</td>\n",
       "      <td>-1.354127</td>\n",
       "      <td>-1.191267</td>\n",
       "    </tr>\n",
       "    <tr>\n",
       "      <th>50%</th>\n",
       "      <td>0.491833</td>\n",
       "      <td>-0.025803</td>\n",
       "      <td>-0.536879</td>\n",
       "      <td>-0.674528</td>\n",
       "      <td>0.093839</td>\n",
       "    </tr>\n",
       "    <tr>\n",
       "      <th>75%</th>\n",
       "      <td>0.864882</td>\n",
       "      <td>0.330210</td>\n",
       "      <td>0.229484</td>\n",
       "      <td>0.147458</td>\n",
       "      <td>0.642780</td>\n",
       "    </tr>\n",
       "    <tr>\n",
       "      <th>max</th>\n",
       "      <td>1.333029</td>\n",
       "      <td>2.128550</td>\n",
       "      <td>2.095595</td>\n",
       "      <td>1.351130</td>\n",
       "      <td>1.131846</td>\n",
       "    </tr>\n",
       "    <tr>\n",
       "      <th rowspan=\"8\" valign=\"top\">Alaska</th>\n",
       "      <th>count</th>\n",
       "      <td>10.000000</td>\n",
       "      <td>10.000000</td>\n",
       "      <td>10.000000</td>\n",
       "      <td>10.000000</td>\n",
       "      <td>10.000000</td>\n",
       "    </tr>\n",
       "    <tr>\n",
       "      <th>mean</th>\n",
       "      <td>-0.447685</td>\n",
       "      <td>-0.264967</td>\n",
       "      <td>-0.139876</td>\n",
       "      <td>-0.072223</td>\n",
       "      <td>0.239833</td>\n",
       "    </tr>\n",
       "    <tr>\n",
       "      <th>std</th>\n",
       "      <td>0.681706</td>\n",
       "      <td>0.703358</td>\n",
       "      <td>1.207889</td>\n",
       "      <td>0.567241</td>\n",
       "      <td>0.649386</td>\n",
       "    </tr>\n",
       "    <tr>\n",
       "      <th>min</th>\n",
       "      <td>-1.572050</td>\n",
       "      <td>-1.523134</td>\n",
       "      <td>-1.570921</td>\n",
       "      <td>-1.062511</td>\n",
       "      <td>-0.603636</td>\n",
       "    </tr>\n",
       "    <tr>\n",
       "      <th>25%</th>\n",
       "      <td>-0.790815</td>\n",
       "      <td>-0.640880</td>\n",
       "      <td>-1.182629</td>\n",
       "      <td>-0.416661</td>\n",
       "      <td>-0.143724</td>\n",
       "    </tr>\n",
       "    <tr>\n",
       "      <th>50%</th>\n",
       "      <td>-0.338183</td>\n",
       "      <td>-0.380893</td>\n",
       "      <td>-0.252520</td>\n",
       "      <td>-0.202492</td>\n",
       "      <td>0.109577</td>\n",
       "    </tr>\n",
       "    <tr>\n",
       "      <th>75%</th>\n",
       "      <td>0.007461</td>\n",
       "      <td>0.172829</td>\n",
       "      <td>0.685303</td>\n",
       "      <td>0.348839</td>\n",
       "      <td>0.519812</td>\n",
       "    </tr>\n",
       "    <tr>\n",
       "      <th>max</th>\n",
       "      <td>0.618968</td>\n",
       "      <td>1.003100</td>\n",
       "      <td>2.196336</td>\n",
       "      <td>0.734049</td>\n",
       "      <td>1.311548</td>\n",
       "    </tr>\n",
       "    <tr>\n",
       "      <th rowspan=\"8\" valign=\"top\">Arizona</th>\n",
       "      <th>count</th>\n",
       "      <td>10.000000</td>\n",
       "      <td>10.000000</td>\n",
       "      <td>10.000000</td>\n",
       "      <td>10.000000</td>\n",
       "      <td>10.000000</td>\n",
       "    </tr>\n",
       "    <tr>\n",
       "      <th>mean</th>\n",
       "      <td>-0.351562</td>\n",
       "      <td>0.752285</td>\n",
       "      <td>0.090259</td>\n",
       "      <td>-0.363086</td>\n",
       "      <td>-0.177778</td>\n",
       "    </tr>\n",
       "    <tr>\n",
       "      <th>std</th>\n",
       "      <td>0.677762</td>\n",
       "      <td>0.915356</td>\n",
       "      <td>1.020449</td>\n",
       "      <td>0.834812</td>\n",
       "      <td>0.810852</td>\n",
       "    </tr>\n",
       "    <tr>\n",
       "      <th>min</th>\n",
       "      <td>-1.137731</td>\n",
       "      <td>-0.800764</td>\n",
       "      <td>-1.239290</td>\n",
       "      <td>-2.013384</td>\n",
       "      <td>-1.765701</td>\n",
       "    </tr>\n",
       "    <tr>\n",
       "      <th>25%</th>\n",
       "      <td>-0.930254</td>\n",
       "      <td>0.445139</td>\n",
       "      <td>-0.571193</td>\n",
       "      <td>-0.634870</td>\n",
       "      <td>-0.549071</td>\n",
       "    </tr>\n",
       "    <tr>\n",
       "      <th>50%</th>\n",
       "      <td>-0.436857</td>\n",
       "      <td>0.633338</td>\n",
       "      <td>-0.147186</td>\n",
       "      <td>-0.234806</td>\n",
       "      <td>-0.125014</td>\n",
       "    </tr>\n",
       "    <tr>\n",
       "      <th>75%</th>\n",
       "      <td>0.095831</td>\n",
       "      <td>1.219665</td>\n",
       "      <td>0.982945</td>\n",
       "      <td>0.197726</td>\n",
       "      <td>0.067441</td>\n",
       "    </tr>\n",
       "    <tr>\n",
       "      <th>max</th>\n",
       "      <td>0.947802</td>\n",
       "      <td>2.412360</td>\n",
       "      <td>1.721852</td>\n",
       "      <td>0.594006</td>\n",
       "      <td>1.443708</td>\n",
       "    </tr>\n",
       "  </tbody>\n",
       "</table>\n",
       "</div>"
      ],
      "text/plain": [
       "                       0          1          2          3          4\n",
       "state                                                               \n",
       "Alabama count  10.000000  10.000000  10.000000  10.000000  10.000000\n",
       "        mean    0.246758  -0.101736  -0.137930  -0.576965  -0.265274\n",
       "        std     0.878776   1.047124   1.030465   1.026618   1.122576\n",
       "        min    -0.968390  -1.583106  -1.372483  -1.736529  -1.993158\n",
       "        25%    -0.608700  -0.568329  -0.723565  -1.354127  -1.191267\n",
       "        50%     0.491833  -0.025803  -0.536879  -0.674528   0.093839\n",
       "        75%     0.864882   0.330210   0.229484   0.147458   0.642780\n",
       "        max     1.333029   2.128550   2.095595   1.351130   1.131846\n",
       "Alaska  count  10.000000  10.000000  10.000000  10.000000  10.000000\n",
       "        mean   -0.447685  -0.264967  -0.139876  -0.072223   0.239833\n",
       "        std     0.681706   0.703358   1.207889   0.567241   0.649386\n",
       "        min    -1.572050  -1.523134  -1.570921  -1.062511  -0.603636\n",
       "        25%    -0.790815  -0.640880  -1.182629  -0.416661  -0.143724\n",
       "        50%    -0.338183  -0.380893  -0.252520  -0.202492   0.109577\n",
       "        75%     0.007461   0.172829   0.685303   0.348839   0.519812\n",
       "        max     0.618968   1.003100   2.196336   0.734049   1.311548\n",
       "Arizona count  10.000000  10.000000  10.000000  10.000000  10.000000\n",
       "        mean   -0.351562   0.752285   0.090259  -0.363086  -0.177778\n",
       "        std     0.677762   0.915356   1.020449   0.834812   0.810852\n",
       "        min    -1.137731  -0.800764  -1.239290  -2.013384  -1.765701\n",
       "        25%    -0.930254   0.445139  -0.571193  -0.634870  -0.549071\n",
       "        50%    -0.436857   0.633338  -0.147186  -0.234806  -0.125014\n",
       "        75%     0.095831   1.219665   0.982945   0.197726   0.067441\n",
       "        max     0.947802   2.412360   1.721852   0.594006   1.443708"
      ]
     },
     "execution_count": 128,
     "metadata": {},
     "output_type": "execute_result"
    }
   ],
   "source": [
    "#Different index than I started with.\n",
    "g.apply(lambda x: x.describe())"
   ]
  },
  {
   "cell_type": "code",
   "execution_count": 129,
   "metadata": {
    "collapsed": false
   },
   "outputs": [
    {
     "data": {
      "text/html": [
       "<div>\n",
       "<table border=\"1\" class=\"dataframe\">\n",
       "  <thead>\n",
       "    <tr style=\"text-align: right;\">\n",
       "      <th></th>\n",
       "      <th></th>\n",
       "      <th>0</th>\n",
       "      <th>1</th>\n",
       "      <th>2</th>\n",
       "      <th>3</th>\n",
       "      <th>4</th>\n",
       "    </tr>\n",
       "    <tr>\n",
       "      <th>state</th>\n",
       "      <th>index</th>\n",
       "      <th></th>\n",
       "      <th></th>\n",
       "      <th></th>\n",
       "      <th></th>\n",
       "      <th></th>\n",
       "    </tr>\n",
       "  </thead>\n",
       "  <tbody>\n",
       "    <tr>\n",
       "      <th>Alabama</th>\n",
       "      <th>2015-01-31</th>\n",
       "      <td>-0.919334</td>\n",
       "      <td>-1.383597</td>\n",
       "      <td>0.192523</td>\n",
       "      <td>-1.380100</td>\n",
       "      <td>0.791858</td>\n",
       "    </tr>\n",
       "    <tr>\n",
       "      <th>Alaska</th>\n",
       "      <th>2015-02-28</th>\n",
       "      <td>0.057079</td>\n",
       "      <td>-0.409658</td>\n",
       "      <td>-1.570921</td>\n",
       "      <td>-0.426461</td>\n",
       "      <td>0.123522</td>\n",
       "    </tr>\n",
       "    <tr>\n",
       "      <th>Arizona</th>\n",
       "      <th>2015-03-31</th>\n",
       "      <td>-0.989938</td>\n",
       "      <td>1.346695</td>\n",
       "      <td>1.069703</td>\n",
       "      <td>0.058300</td>\n",
       "      <td>0.060748</td>\n",
       "    </tr>\n",
       "    <tr>\n",
       "      <th>Alabama</th>\n",
       "      <th>2015-04-30</th>\n",
       "      <td>-0.808419</td>\n",
       "      <td>-0.559032</td>\n",
       "      <td>-0.982988</td>\n",
       "      <td>-0.274446</td>\n",
       "      <td>-1.993158</td>\n",
       "    </tr>\n",
       "    <tr>\n",
       "      <th>Alaska</th>\n",
       "      <th>2015-05-31</th>\n",
       "      <td>-0.642066</td>\n",
       "      <td>-0.426967</td>\n",
       "      <td>0.857912</td>\n",
       "      <td>0.198351</td>\n",
       "      <td>0.529363</td>\n",
       "    </tr>\n",
       "    <tr>\n",
       "      <th>Arizona</th>\n",
       "      <th>2015-06-30</th>\n",
       "      <td>-0.930582</td>\n",
       "      <td>0.748677</td>\n",
       "      <td>-0.625711</td>\n",
       "      <td>0.594006</td>\n",
       "      <td>-0.208552</td>\n",
       "    </tr>\n",
       "    <tr>\n",
       "      <th>Alabama</th>\n",
       "      <th>2015-07-31</th>\n",
       "      <td>0.449599</td>\n",
       "      <td>0.238201</td>\n",
       "      <td>-0.631288</td>\n",
       "      <td>-1.720481</td>\n",
       "      <td>1.131846</td>\n",
       "    </tr>\n",
       "    <tr>\n",
       "      <th>Alaska</th>\n",
       "      <th>2015-08-31</th>\n",
       "      <td>-1.572050</td>\n",
       "      <td>-1.523134</td>\n",
       "      <td>-1.289395</td>\n",
       "      <td>-0.450398</td>\n",
       "      <td>0.491159</td>\n",
       "    </tr>\n",
       "    <tr>\n",
       "      <th>Arizona</th>\n",
       "      <th>2015-09-30</th>\n",
       "      <td>-0.929270</td>\n",
       "      <td>0.517999</td>\n",
       "      <td>0.722671</td>\n",
       "      <td>0.530052</td>\n",
       "      <td>-0.662577</td>\n",
       "    </tr>\n",
       "    <tr>\n",
       "      <th>Alabama</th>\n",
       "      <th>2015-10-31</th>\n",
       "      <td>-0.009543</td>\n",
       "      <td>-0.148364</td>\n",
       "      <td>-0.442470</td>\n",
       "      <td>-0.260507</td>\n",
       "      <td>-0.957607</td>\n",
       "    </tr>\n",
       "    <tr>\n",
       "      <th>Alaska</th>\n",
       "      <th>2015-11-30</th>\n",
       "      <td>0.109871</td>\n",
       "      <td>-0.211638</td>\n",
       "      <td>2.196336</td>\n",
       "      <td>-0.254223</td>\n",
       "      <td>-0.119909</td>\n",
       "    </tr>\n",
       "    <tr>\n",
       "      <th>Arizona</th>\n",
       "      <th>2015-12-31</th>\n",
       "      <td>0.017010</td>\n",
       "      <td>0.838575</td>\n",
       "      <td>-1.180754</td>\n",
       "      <td>0.244202</td>\n",
       "      <td>1.443708</td>\n",
       "    </tr>\n",
       "    <tr>\n",
       "      <th>Alabama</th>\n",
       "      <th>2016-01-31</th>\n",
       "      <td>0.534068</td>\n",
       "      <td>0.403782</td>\n",
       "      <td>-0.645354</td>\n",
       "      <td>0.283447</td>\n",
       "      <td>-1.697415</td>\n",
       "    </tr>\n",
       "    <tr>\n",
       "      <th>Alaska</th>\n",
       "      <th>2016-02-29</th>\n",
       "      <td>0.618968</td>\n",
       "      <td>-0.733934</td>\n",
       "      <td>-1.281730</td>\n",
       "      <td>-1.062511</td>\n",
       "      <td>1.210235</td>\n",
       "    </tr>\n",
       "    <tr>\n",
       "      <th>Arizona</th>\n",
       "      <th>2016-03-31</th>\n",
       "      <td>0.122105</td>\n",
       "      <td>0.453806</td>\n",
       "      <td>-1.239290</td>\n",
       "      <td>-0.480301</td>\n",
       "      <td>0.213631</td>\n",
       "    </tr>\n",
       "    <tr>\n",
       "      <th>Alabama</th>\n",
       "      <th>2016-04-30</th>\n",
       "      <td>0.916937</td>\n",
       "      <td>0.360880</td>\n",
       "      <td>-1.372483</td>\n",
       "      <td>-1.074611</td>\n",
       "      <td>-1.269153</td>\n",
       "    </tr>\n",
       "    <tr>\n",
       "      <th>Alaska</th>\n",
       "      <th>2016-05-31</th>\n",
       "      <td>-0.248174</td>\n",
       "      <td>-0.352128</td>\n",
       "      <td>-0.586102</td>\n",
       "      <td>0.399002</td>\n",
       "      <td>-0.151663</td>\n",
       "    </tr>\n",
       "    <tr>\n",
       "      <th>Arizona</th>\n",
       "      <th>2016-06-30</th>\n",
       "      <td>-1.137731</td>\n",
       "      <td>-0.800764</td>\n",
       "      <td>-0.407640</td>\n",
       "      <td>-0.082878</td>\n",
       "      <td>0.069672</td>\n",
       "    </tr>\n",
       "    <tr>\n",
       "      <th>Alabama</th>\n",
       "      <th>2016-07-31</th>\n",
       "      <td>1.230913</td>\n",
       "      <td>-0.571428</td>\n",
       "      <td>2.095595</td>\n",
       "      <td>0.318657</td>\n",
       "      <td>0.444254</td>\n",
       "    </tr>\n",
       "    <tr>\n",
       "      <th>Alaska</th>\n",
       "      <th>2016-08-31</th>\n",
       "      <td>-0.428193</td>\n",
       "      <td>0.415893</td>\n",
       "      <td>0.911926</td>\n",
       "      <td>0.734049</td>\n",
       "      <td>1.311548</td>\n",
       "    </tr>\n",
       "    <tr>\n",
       "      <th>Arizona</th>\n",
       "      <th>2016-09-30</th>\n",
       "      <td>0.947802</td>\n",
       "      <td>0.442250</td>\n",
       "      <td>1.721852</td>\n",
       "      <td>-2.013384</td>\n",
       "      <td>-0.162719</td>\n",
       "    </tr>\n",
       "    <tr>\n",
       "      <th>Alabama</th>\n",
       "      <th>2016-10-31</th>\n",
       "      <td>-0.968390</td>\n",
       "      <td>0.096757</td>\n",
       "      <td>0.914992</td>\n",
       "      <td>-1.276208</td>\n",
       "      <td>-0.043868</td>\n",
       "    </tr>\n",
       "    <tr>\n",
       "      <th>Alaska</th>\n",
       "      <th>2016-11-30</th>\n",
       "      <td>-0.840399</td>\n",
       "      <td>-0.712185</td>\n",
       "      <td>-0.885329</td>\n",
       "      <td>0.677981</td>\n",
       "      <td>-0.603636</td>\n",
       "    </tr>\n",
       "    <tr>\n",
       "      <th>Arizona</th>\n",
       "      <th>2016-12-31</th>\n",
       "      <td>0.258698</td>\n",
       "      <td>-0.159245</td>\n",
       "      <td>-0.137034</td>\n",
       "      <td>-0.686393</td>\n",
       "      <td>-0.678679</td>\n",
       "    </tr>\n",
       "    <tr>\n",
       "      <th>Alabama</th>\n",
       "      <th>2017-01-31</th>\n",
       "      <td>0.708717</td>\n",
       "      <td>2.128550</td>\n",
       "      <td>0.241805</td>\n",
       "      <td>1.351130</td>\n",
       "      <td>0.231547</td>\n",
       "    </tr>\n",
       "    <tr>\n",
       "      <th>Alaska</th>\n",
       "      <th>2017-02-28</th>\n",
       "      <td>-0.141393</td>\n",
       "      <td>0.300985</td>\n",
       "      <td>0.081062</td>\n",
       "      <td>-0.387261</td>\n",
       "      <td>0.095632</td>\n",
       "    </tr>\n",
       "    <tr>\n",
       "      <th>Arizona</th>\n",
       "      <th>2017-03-31</th>\n",
       "      <td>-0.482341</td>\n",
       "      <td>2.412360</td>\n",
       "      <td>1.136128</td>\n",
       "      <td>-1.407732</td>\n",
       "      <td>-1.765701</td>\n",
       "    </tr>\n",
       "    <tr>\n",
       "      <th>Alabama</th>\n",
       "      <th>2017-04-30</th>\n",
       "      <td>1.333029</td>\n",
       "      <td>-1.583106</td>\n",
       "      <td>-0.749635</td>\n",
       "      <td>-1.736529</td>\n",
       "      <td>0.708956</td>\n",
       "    </tr>\n",
       "    <tr>\n",
       "      <th>Alaska</th>\n",
       "      <th>2017-05-31</th>\n",
       "      <td>-1.390498</td>\n",
       "      <td>1.003100</td>\n",
       "      <td>0.167476</td>\n",
       "      <td>-0.150760</td>\n",
       "      <td>-0.487923</td>\n",
       "    </tr>\n",
       "    <tr>\n",
       "      <th>Arizona</th>\n",
       "      <th>2017-06-30</th>\n",
       "      <td>-0.391373</td>\n",
       "      <td>1.722498</td>\n",
       "      <td>-0.157337</td>\n",
       "      <td>-0.386733</td>\n",
       "      <td>-0.087310</td>\n",
       "    </tr>\n",
       "  </tbody>\n",
       "</table>\n",
       "</div>"
      ],
      "text/plain": [
       "                           0         1         2         3         4\n",
       "state   index                                                       \n",
       "Alabama 2015-01-31 -0.919334 -1.383597  0.192523 -1.380100  0.791858\n",
       "Alaska  2015-02-28  0.057079 -0.409658 -1.570921 -0.426461  0.123522\n",
       "Arizona 2015-03-31 -0.989938  1.346695  1.069703  0.058300  0.060748\n",
       "Alabama 2015-04-30 -0.808419 -0.559032 -0.982988 -0.274446 -1.993158\n",
       "Alaska  2015-05-31 -0.642066 -0.426967  0.857912  0.198351  0.529363\n",
       "Arizona 2015-06-30 -0.930582  0.748677 -0.625711  0.594006 -0.208552\n",
       "Alabama 2015-07-31  0.449599  0.238201 -0.631288 -1.720481  1.131846\n",
       "Alaska  2015-08-31 -1.572050 -1.523134 -1.289395 -0.450398  0.491159\n",
       "Arizona 2015-09-30 -0.929270  0.517999  0.722671  0.530052 -0.662577\n",
       "Alabama 2015-10-31 -0.009543 -0.148364 -0.442470 -0.260507 -0.957607\n",
       "Alaska  2015-11-30  0.109871 -0.211638  2.196336 -0.254223 -0.119909\n",
       "Arizona 2015-12-31  0.017010  0.838575 -1.180754  0.244202  1.443708\n",
       "Alabama 2016-01-31  0.534068  0.403782 -0.645354  0.283447 -1.697415\n",
       "Alaska  2016-02-29  0.618968 -0.733934 -1.281730 -1.062511  1.210235\n",
       "Arizona 2016-03-31  0.122105  0.453806 -1.239290 -0.480301  0.213631\n",
       "Alabama 2016-04-30  0.916937  0.360880 -1.372483 -1.074611 -1.269153\n",
       "Alaska  2016-05-31 -0.248174 -0.352128 -0.586102  0.399002 -0.151663\n",
       "Arizona 2016-06-30 -1.137731 -0.800764 -0.407640 -0.082878  0.069672\n",
       "Alabama 2016-07-31  1.230913 -0.571428  2.095595  0.318657  0.444254\n",
       "Alaska  2016-08-31 -0.428193  0.415893  0.911926  0.734049  1.311548\n",
       "Arizona 2016-09-30  0.947802  0.442250  1.721852 -2.013384 -0.162719\n",
       "Alabama 2016-10-31 -0.968390  0.096757  0.914992 -1.276208 -0.043868\n",
       "Alaska  2016-11-30 -0.840399 -0.712185 -0.885329  0.677981 -0.603636\n",
       "Arizona 2016-12-31  0.258698 -0.159245 -0.137034 -0.686393 -0.678679\n",
       "Alabama 2017-01-31  0.708717  2.128550  0.241805  1.351130  0.231547\n",
       "Alaska  2017-02-28 -0.141393  0.300985  0.081062 -0.387261  0.095632\n",
       "Arizona 2017-03-31 -0.482341  2.412360  1.136128 -1.407732 -1.765701\n",
       "Alabama 2017-04-30  1.333029 -1.583106 -0.749635 -1.736529  0.708956\n",
       "Alaska  2017-05-31 -1.390498  1.003100  0.167476 -0.150760 -0.487923\n",
       "Arizona 2017-06-30 -0.391373  1.722498 -0.157337 -0.386733 -0.087310"
      ]
     },
     "execution_count": 129,
     "metadata": {},
     "output_type": "execute_result"
    }
   ],
   "source": [
    "df"
   ]
  },
  {
   "cell_type": "markdown",
   "metadata": {},
   "source": [
    "# Reading and writing data.\n"
   ]
  },
  {
   "cell_type": "code",
   "execution_count": 134,
   "metadata": {
    "collapsed": false
   },
   "outputs": [],
   "source": [
    "df.to_csv('saved_data.csv', sep='\\t')"
   ]
  },
  {
   "cell_type": "code",
   "execution_count": 135,
   "metadata": {
    "collapsed": false
   },
   "outputs": [],
   "source": [
    "read = pd.read_csv('saved_data.csv', sep='\\t')\n",
    "#TONS OF options for reading data"
   ]
  },
  {
   "cell_type": "code",
   "execution_count": 136,
   "metadata": {
    "collapsed": true
   },
   "outputs": [
    {
     "data": {
      "text/html": [
       "<div>\n",
       "<table border=\"1\" class=\"dataframe\">\n",
       "  <thead>\n",
       "    <tr style=\"text-align: right;\">\n",
       "      <th></th>\n",
       "      <th>state</th>\n",
       "      <th>index</th>\n",
       "      <th>0</th>\n",
       "      <th>1</th>\n",
       "      <th>2</th>\n",
       "      <th>3</th>\n",
       "      <th>4</th>\n",
       "    </tr>\n",
       "  </thead>\n",
       "  <tbody>\n",
       "    <tr>\n",
       "      <th>0</th>\n",
       "      <td>Alabama</td>\n",
       "      <td>2015-01-31</td>\n",
       "      <td>-0.919334</td>\n",
       "      <td>-1.383597</td>\n",
       "      <td>0.192523</td>\n",
       "      <td>-1.380100</td>\n",
       "      <td>0.791858</td>\n",
       "    </tr>\n",
       "    <tr>\n",
       "      <th>1</th>\n",
       "      <td>Alaska</td>\n",
       "      <td>2015-02-28</td>\n",
       "      <td>0.057079</td>\n",
       "      <td>-0.409658</td>\n",
       "      <td>-1.570921</td>\n",
       "      <td>-0.426461</td>\n",
       "      <td>0.123522</td>\n",
       "    </tr>\n",
       "    <tr>\n",
       "      <th>2</th>\n",
       "      <td>Arizona</td>\n",
       "      <td>2015-03-31</td>\n",
       "      <td>-0.989938</td>\n",
       "      <td>1.346695</td>\n",
       "      <td>1.069703</td>\n",
       "      <td>0.058300</td>\n",
       "      <td>0.060748</td>\n",
       "    </tr>\n",
       "    <tr>\n",
       "      <th>3</th>\n",
       "      <td>Alabama</td>\n",
       "      <td>2015-04-30</td>\n",
       "      <td>-0.808419</td>\n",
       "      <td>-0.559032</td>\n",
       "      <td>-0.982988</td>\n",
       "      <td>-0.274446</td>\n",
       "      <td>-1.993158</td>\n",
       "    </tr>\n",
       "    <tr>\n",
       "      <th>4</th>\n",
       "      <td>Alaska</td>\n",
       "      <td>2015-05-31</td>\n",
       "      <td>-0.642066</td>\n",
       "      <td>-0.426967</td>\n",
       "      <td>0.857912</td>\n",
       "      <td>0.198351</td>\n",
       "      <td>0.529363</td>\n",
       "    </tr>\n",
       "    <tr>\n",
       "      <th>5</th>\n",
       "      <td>Arizona</td>\n",
       "      <td>2015-06-30</td>\n",
       "      <td>-0.930582</td>\n",
       "      <td>0.748677</td>\n",
       "      <td>-0.625711</td>\n",
       "      <td>0.594006</td>\n",
       "      <td>-0.208552</td>\n",
       "    </tr>\n",
       "    <tr>\n",
       "      <th>6</th>\n",
       "      <td>Alabama</td>\n",
       "      <td>2015-07-31</td>\n",
       "      <td>0.449599</td>\n",
       "      <td>0.238201</td>\n",
       "      <td>-0.631288</td>\n",
       "      <td>-1.720481</td>\n",
       "      <td>1.131846</td>\n",
       "    </tr>\n",
       "    <tr>\n",
       "      <th>7</th>\n",
       "      <td>Alaska</td>\n",
       "      <td>2015-08-31</td>\n",
       "      <td>-1.572050</td>\n",
       "      <td>-1.523134</td>\n",
       "      <td>-1.289395</td>\n",
       "      <td>-0.450398</td>\n",
       "      <td>0.491159</td>\n",
       "    </tr>\n",
       "    <tr>\n",
       "      <th>8</th>\n",
       "      <td>Arizona</td>\n",
       "      <td>2015-09-30</td>\n",
       "      <td>-0.929270</td>\n",
       "      <td>0.517999</td>\n",
       "      <td>0.722671</td>\n",
       "      <td>0.530052</td>\n",
       "      <td>-0.662577</td>\n",
       "    </tr>\n",
       "    <tr>\n",
       "      <th>9</th>\n",
       "      <td>Alabama</td>\n",
       "      <td>2015-10-31</td>\n",
       "      <td>-0.009543</td>\n",
       "      <td>-0.148364</td>\n",
       "      <td>-0.442470</td>\n",
       "      <td>-0.260507</td>\n",
       "      <td>-0.957607</td>\n",
       "    </tr>\n",
       "    <tr>\n",
       "      <th>10</th>\n",
       "      <td>Alaska</td>\n",
       "      <td>2015-11-30</td>\n",
       "      <td>0.109871</td>\n",
       "      <td>-0.211638</td>\n",
       "      <td>2.196336</td>\n",
       "      <td>-0.254223</td>\n",
       "      <td>-0.119909</td>\n",
       "    </tr>\n",
       "    <tr>\n",
       "      <th>11</th>\n",
       "      <td>Arizona</td>\n",
       "      <td>2015-12-31</td>\n",
       "      <td>0.017010</td>\n",
       "      <td>0.838575</td>\n",
       "      <td>-1.180754</td>\n",
       "      <td>0.244202</td>\n",
       "      <td>1.443708</td>\n",
       "    </tr>\n",
       "    <tr>\n",
       "      <th>12</th>\n",
       "      <td>Alabama</td>\n",
       "      <td>2016-01-31</td>\n",
       "      <td>0.534068</td>\n",
       "      <td>0.403782</td>\n",
       "      <td>-0.645354</td>\n",
       "      <td>0.283447</td>\n",
       "      <td>-1.697415</td>\n",
       "    </tr>\n",
       "    <tr>\n",
       "      <th>13</th>\n",
       "      <td>Alaska</td>\n",
       "      <td>2016-02-29</td>\n",
       "      <td>0.618968</td>\n",
       "      <td>-0.733934</td>\n",
       "      <td>-1.281730</td>\n",
       "      <td>-1.062511</td>\n",
       "      <td>1.210235</td>\n",
       "    </tr>\n",
       "    <tr>\n",
       "      <th>14</th>\n",
       "      <td>Arizona</td>\n",
       "      <td>2016-03-31</td>\n",
       "      <td>0.122105</td>\n",
       "      <td>0.453806</td>\n",
       "      <td>-1.239290</td>\n",
       "      <td>-0.480301</td>\n",
       "      <td>0.213631</td>\n",
       "    </tr>\n",
       "    <tr>\n",
       "      <th>15</th>\n",
       "      <td>Alabama</td>\n",
       "      <td>2016-04-30</td>\n",
       "      <td>0.916937</td>\n",
       "      <td>0.360880</td>\n",
       "      <td>-1.372483</td>\n",
       "      <td>-1.074611</td>\n",
       "      <td>-1.269153</td>\n",
       "    </tr>\n",
       "    <tr>\n",
       "      <th>16</th>\n",
       "      <td>Alaska</td>\n",
       "      <td>2016-05-31</td>\n",
       "      <td>-0.248174</td>\n",
       "      <td>-0.352128</td>\n",
       "      <td>-0.586102</td>\n",
       "      <td>0.399002</td>\n",
       "      <td>-0.151663</td>\n",
       "    </tr>\n",
       "    <tr>\n",
       "      <th>17</th>\n",
       "      <td>Arizona</td>\n",
       "      <td>2016-06-30</td>\n",
       "      <td>-1.137731</td>\n",
       "      <td>-0.800764</td>\n",
       "      <td>-0.407640</td>\n",
       "      <td>-0.082878</td>\n",
       "      <td>0.069672</td>\n",
       "    </tr>\n",
       "    <tr>\n",
       "      <th>18</th>\n",
       "      <td>Alabama</td>\n",
       "      <td>2016-07-31</td>\n",
       "      <td>1.230913</td>\n",
       "      <td>-0.571428</td>\n",
       "      <td>2.095595</td>\n",
       "      <td>0.318657</td>\n",
       "      <td>0.444254</td>\n",
       "    </tr>\n",
       "    <tr>\n",
       "      <th>19</th>\n",
       "      <td>Alaska</td>\n",
       "      <td>2016-08-31</td>\n",
       "      <td>-0.428193</td>\n",
       "      <td>0.415893</td>\n",
       "      <td>0.911926</td>\n",
       "      <td>0.734049</td>\n",
       "      <td>1.311548</td>\n",
       "    </tr>\n",
       "    <tr>\n",
       "      <th>20</th>\n",
       "      <td>Arizona</td>\n",
       "      <td>2016-09-30</td>\n",
       "      <td>0.947802</td>\n",
       "      <td>0.442250</td>\n",
       "      <td>1.721852</td>\n",
       "      <td>-2.013384</td>\n",
       "      <td>-0.162719</td>\n",
       "    </tr>\n",
       "    <tr>\n",
       "      <th>21</th>\n",
       "      <td>Alabama</td>\n",
       "      <td>2016-10-31</td>\n",
       "      <td>-0.968390</td>\n",
       "      <td>0.096757</td>\n",
       "      <td>0.914992</td>\n",
       "      <td>-1.276208</td>\n",
       "      <td>-0.043868</td>\n",
       "    </tr>\n",
       "    <tr>\n",
       "      <th>22</th>\n",
       "      <td>Alaska</td>\n",
       "      <td>2016-11-30</td>\n",
       "      <td>-0.840399</td>\n",
       "      <td>-0.712185</td>\n",
       "      <td>-0.885329</td>\n",
       "      <td>0.677981</td>\n",
       "      <td>-0.603636</td>\n",
       "    </tr>\n",
       "    <tr>\n",
       "      <th>23</th>\n",
       "      <td>Arizona</td>\n",
       "      <td>2016-12-31</td>\n",
       "      <td>0.258698</td>\n",
       "      <td>-0.159245</td>\n",
       "      <td>-0.137034</td>\n",
       "      <td>-0.686393</td>\n",
       "      <td>-0.678679</td>\n",
       "    </tr>\n",
       "    <tr>\n",
       "      <th>24</th>\n",
       "      <td>Alabama</td>\n",
       "      <td>2017-01-31</td>\n",
       "      <td>0.708717</td>\n",
       "      <td>2.128550</td>\n",
       "      <td>0.241805</td>\n",
       "      <td>1.351130</td>\n",
       "      <td>0.231547</td>\n",
       "    </tr>\n",
       "    <tr>\n",
       "      <th>25</th>\n",
       "      <td>Alaska</td>\n",
       "      <td>2017-02-28</td>\n",
       "      <td>-0.141393</td>\n",
       "      <td>0.300985</td>\n",
       "      <td>0.081062</td>\n",
       "      <td>-0.387261</td>\n",
       "      <td>0.095632</td>\n",
       "    </tr>\n",
       "    <tr>\n",
       "      <th>26</th>\n",
       "      <td>Arizona</td>\n",
       "      <td>2017-03-31</td>\n",
       "      <td>-0.482341</td>\n",
       "      <td>2.412360</td>\n",
       "      <td>1.136128</td>\n",
       "      <td>-1.407732</td>\n",
       "      <td>-1.765701</td>\n",
       "    </tr>\n",
       "    <tr>\n",
       "      <th>27</th>\n",
       "      <td>Alabama</td>\n",
       "      <td>2017-04-30</td>\n",
       "      <td>1.333029</td>\n",
       "      <td>-1.583106</td>\n",
       "      <td>-0.749635</td>\n",
       "      <td>-1.736529</td>\n",
       "      <td>0.708956</td>\n",
       "    </tr>\n",
       "    <tr>\n",
       "      <th>28</th>\n",
       "      <td>Alaska</td>\n",
       "      <td>2017-05-31</td>\n",
       "      <td>-1.390498</td>\n",
       "      <td>1.003100</td>\n",
       "      <td>0.167476</td>\n",
       "      <td>-0.150760</td>\n",
       "      <td>-0.487923</td>\n",
       "    </tr>\n",
       "    <tr>\n",
       "      <th>29</th>\n",
       "      <td>Arizona</td>\n",
       "      <td>2017-06-30</td>\n",
       "      <td>-0.391373</td>\n",
       "      <td>1.722498</td>\n",
       "      <td>-0.157337</td>\n",
       "      <td>-0.386733</td>\n",
       "      <td>-0.087310</td>\n",
       "    </tr>\n",
       "  </tbody>\n",
       "</table>\n",
       "</div>"
      ],
      "text/plain": [
       "      state       index         0         1         2         3         4\n",
       "0   Alabama  2015-01-31 -0.919334 -1.383597  0.192523 -1.380100  0.791858\n",
       "1    Alaska  2015-02-28  0.057079 -0.409658 -1.570921 -0.426461  0.123522\n",
       "2   Arizona  2015-03-31 -0.989938  1.346695  1.069703  0.058300  0.060748\n",
       "3   Alabama  2015-04-30 -0.808419 -0.559032 -0.982988 -0.274446 -1.993158\n",
       "4    Alaska  2015-05-31 -0.642066 -0.426967  0.857912  0.198351  0.529363\n",
       "5   Arizona  2015-06-30 -0.930582  0.748677 -0.625711  0.594006 -0.208552\n",
       "6   Alabama  2015-07-31  0.449599  0.238201 -0.631288 -1.720481  1.131846\n",
       "7    Alaska  2015-08-31 -1.572050 -1.523134 -1.289395 -0.450398  0.491159\n",
       "8   Arizona  2015-09-30 -0.929270  0.517999  0.722671  0.530052 -0.662577\n",
       "9   Alabama  2015-10-31 -0.009543 -0.148364 -0.442470 -0.260507 -0.957607\n",
       "10   Alaska  2015-11-30  0.109871 -0.211638  2.196336 -0.254223 -0.119909\n",
       "11  Arizona  2015-12-31  0.017010  0.838575 -1.180754  0.244202  1.443708\n",
       "12  Alabama  2016-01-31  0.534068  0.403782 -0.645354  0.283447 -1.697415\n",
       "13   Alaska  2016-02-29  0.618968 -0.733934 -1.281730 -1.062511  1.210235\n",
       "14  Arizona  2016-03-31  0.122105  0.453806 -1.239290 -0.480301  0.213631\n",
       "15  Alabama  2016-04-30  0.916937  0.360880 -1.372483 -1.074611 -1.269153\n",
       "16   Alaska  2016-05-31 -0.248174 -0.352128 -0.586102  0.399002 -0.151663\n",
       "17  Arizona  2016-06-30 -1.137731 -0.800764 -0.407640 -0.082878  0.069672\n",
       "18  Alabama  2016-07-31  1.230913 -0.571428  2.095595  0.318657  0.444254\n",
       "19   Alaska  2016-08-31 -0.428193  0.415893  0.911926  0.734049  1.311548\n",
       "20  Arizona  2016-09-30  0.947802  0.442250  1.721852 -2.013384 -0.162719\n",
       "21  Alabama  2016-10-31 -0.968390  0.096757  0.914992 -1.276208 -0.043868\n",
       "22   Alaska  2016-11-30 -0.840399 -0.712185 -0.885329  0.677981 -0.603636\n",
       "23  Arizona  2016-12-31  0.258698 -0.159245 -0.137034 -0.686393 -0.678679\n",
       "24  Alabama  2017-01-31  0.708717  2.128550  0.241805  1.351130  0.231547\n",
       "25   Alaska  2017-02-28 -0.141393  0.300985  0.081062 -0.387261  0.095632\n",
       "26  Arizona  2017-03-31 -0.482341  2.412360  1.136128 -1.407732 -1.765701\n",
       "27  Alabama  2017-04-30  1.333029 -1.583106 -0.749635 -1.736529  0.708956\n",
       "28   Alaska  2017-05-31 -1.390498  1.003100  0.167476 -0.150760 -0.487923\n",
       "29  Arizona  2017-06-30 -0.391373  1.722498 -0.157337 -0.386733 -0.087310"
      ]
     },
     "execution_count": 136,
     "metadata": {},
     "output_type": "execute_result"
    }
   ],
   "source": [
    "read"
   ]
  },
  {
   "cell_type": "raw",
   "metadata": {},
   "source": []
  },
  {
   "cell_type": "code",
   "execution_count": null,
   "metadata": {
    "collapsed": false
   },
   "outputs": [],
   "source": [
    "\"\"\"Other methods:\n",
    "pd.read_excel\n",
    "pd.read_sql\n",
    "pd.read_stata\n",
    "...\n",
    "\"\"\""
   ]
  },
  {
   "cell_type": "markdown",
   "metadata": {},
   "source": [
    "# Other very useful things.\n",
    "\n",
    "join, concat and merge"
   ]
  },
  {
   "cell_type": "code",
   "execution_count": 146,
   "metadata": {
    "collapsed": false
   },
   "outputs": [
    {
     "data": {
      "text/html": [
       "<div>\n",
       "<table border=\"1\" class=\"dataframe\">\n",
       "  <thead>\n",
       "    <tr style=\"text-align: right;\">\n",
       "      <th></th>\n",
       "      <th>governor</th>\n",
       "    </tr>\n",
       "  </thead>\n",
       "  <tbody>\n",
       "    <tr>\n",
       "      <th>Alaska</th>\n",
       "      <td>Robert Bentley</td>\n",
       "    </tr>\n",
       "    <tr>\n",
       "      <th>Alabama</th>\n",
       "      <td>Bill Walker</td>\n",
       "    </tr>\n",
       "    <tr>\n",
       "      <th>Arizona</th>\n",
       "      <td>Doug Ducey</td>\n",
       "    </tr>\n",
       "    <tr>\n",
       "      <th>Arkansas</th>\n",
       "      <td>Asa Hutchinson</td>\n",
       "    </tr>\n",
       "  </tbody>\n",
       "</table>\n",
       "</div>"
      ],
      "text/plain": [
       "                governor\n",
       "Alaska    Robert Bentley\n",
       "Alabama      Bill Walker\n",
       "Arizona       Doug Ducey\n",
       "Arkansas  Asa Hutchinson"
      ]
     },
     "execution_count": 146,
     "metadata": {},
     "output_type": "execute_result"
    }
   ],
   "source": [
    "state_df = pd.DataFrame({'governor':['Robert Bentley',\n",
    "                                    'Bill Walker',\n",
    "                                    'Doug Ducey',\n",
    "                                    'Asa Hutchinson']}, \n",
    "                        index=['Alaska', 'Alabama', 'Arizona', 'Arkansas'])\n",
    "state_df\n",
    "#Note merge is most useful when you want to merge on something other than the index.\n",
    "#Default is to merge on common column names.\n",
    "# pd.merge(df.reset_index(), state_df, \n",
    "#          left_on='state', right_index=True, how='left').tail()"
   ]
  },
  {
   "cell_type": "code",
   "execution_count": 142,
   "metadata": {
    "collapsed": false
   },
   "outputs": [
    {
     "data": {
      "text/html": [
       "<div>\n",
       "<table border=\"1\" class=\"dataframe\">\n",
       "  <thead>\n",
       "    <tr style=\"text-align: right;\">\n",
       "      <th></th>\n",
       "      <th>0</th>\n",
       "      <th>1</th>\n",
       "      <th>2</th>\n",
       "      <th>3</th>\n",
       "      <th>4</th>\n",
       "    </tr>\n",
       "    <tr>\n",
       "      <th>state</th>\n",
       "      <th></th>\n",
       "      <th></th>\n",
       "      <th></th>\n",
       "      <th></th>\n",
       "      <th></th>\n",
       "    </tr>\n",
       "  </thead>\n",
       "  <tbody>\n",
       "    <tr>\n",
       "      <th>Alabama</th>\n",
       "      <td>0.246758</td>\n",
       "      <td>-0.101736</td>\n",
       "      <td>-0.137930</td>\n",
       "      <td>-0.576965</td>\n",
       "      <td>-0.265274</td>\n",
       "    </tr>\n",
       "    <tr>\n",
       "      <th>Alaska</th>\n",
       "      <td>-0.447685</td>\n",
       "      <td>-0.264967</td>\n",
       "      <td>-0.139876</td>\n",
       "      <td>-0.072223</td>\n",
       "      <td>0.239833</td>\n",
       "    </tr>\n",
       "    <tr>\n",
       "      <th>Arizona</th>\n",
       "      <td>-0.351562</td>\n",
       "      <td>0.752285</td>\n",
       "      <td>0.090259</td>\n",
       "      <td>-0.363086</td>\n",
       "      <td>-0.177778</td>\n",
       "    </tr>\n",
       "  </tbody>\n",
       "</table>\n",
       "</div>"
      ],
      "text/plain": [
       "                0         1         2         3         4\n",
       "state                                                    \n",
       "Alabama  0.246758 -0.101736 -0.137930 -0.576965 -0.265274\n",
       "Alaska  -0.447685 -0.264967 -0.139876 -0.072223  0.239833\n",
       "Arizona -0.351562  0.752285  0.090259 -0.363086 -0.177778"
      ]
     },
     "execution_count": 142,
     "metadata": {},
     "output_type": "execute_result"
    }
   ],
   "source": [
    "state_avg = df.groupby(level=0).mean()\n",
    "state_avg.head()"
   ]
  },
  {
   "cell_type": "code",
   "execution_count": 147,
   "metadata": {
    "collapsed": false
   },
   "outputs": [
    {
     "data": {
      "text/html": [
       "<div>\n",
       "<table border=\"1\" class=\"dataframe\">\n",
       "  <thead>\n",
       "    <tr style=\"text-align: right;\">\n",
       "      <th></th>\n",
       "      <th>0</th>\n",
       "      <th>1</th>\n",
       "      <th>2</th>\n",
       "      <th>3</th>\n",
       "      <th>4</th>\n",
       "      <th>governor</th>\n",
       "    </tr>\n",
       "  </thead>\n",
       "  <tbody>\n",
       "    <tr>\n",
       "      <th>Alabama</th>\n",
       "      <td>0.246758</td>\n",
       "      <td>-0.101736</td>\n",
       "      <td>-0.137930</td>\n",
       "      <td>-0.576965</td>\n",
       "      <td>-0.265274</td>\n",
       "      <td>Bill Walker</td>\n",
       "    </tr>\n",
       "    <tr>\n",
       "      <th>Alaska</th>\n",
       "      <td>-0.447685</td>\n",
       "      <td>-0.264967</td>\n",
       "      <td>-0.139876</td>\n",
       "      <td>-0.072223</td>\n",
       "      <td>0.239833</td>\n",
       "      <td>Robert Bentley</td>\n",
       "    </tr>\n",
       "    <tr>\n",
       "      <th>Arizona</th>\n",
       "      <td>-0.351562</td>\n",
       "      <td>0.752285</td>\n",
       "      <td>0.090259</td>\n",
       "      <td>-0.363086</td>\n",
       "      <td>-0.177778</td>\n",
       "      <td>Doug Ducey</td>\n",
       "    </tr>\n",
       "    <tr>\n",
       "      <th>Arkansas</th>\n",
       "      <td>NaN</td>\n",
       "      <td>NaN</td>\n",
       "      <td>NaN</td>\n",
       "      <td>NaN</td>\n",
       "      <td>NaN</td>\n",
       "      <td>Asa Hutchinson</td>\n",
       "    </tr>\n",
       "  </tbody>\n",
       "</table>\n",
       "</div>"
      ],
      "text/plain": [
       "                 0         1         2         3         4        governor\n",
       "Alabama   0.246758 -0.101736 -0.137930 -0.576965 -0.265274     Bill Walker\n",
       "Alaska   -0.447685 -0.264967 -0.139876 -0.072223  0.239833  Robert Bentley\n",
       "Arizona  -0.351562  0.752285  0.090259 -0.363086 -0.177778      Doug Ducey\n",
       "Arkansas       NaN       NaN       NaN       NaN       NaN  Asa Hutchinson"
      ]
     },
     "execution_count": 147,
     "metadata": {},
     "output_type": "execute_result"
    }
   ],
   "source": [
    "#Concat allows joining along the axes.\n",
    "pd.concat([state_avg, state_df], axis=1)"
   ]
  },
  {
   "cell_type": "code",
   "execution_count": 149,
   "metadata": {
    "collapsed": false
   },
   "outputs": [
    {
     "data": {
      "text/html": [
       "<div>\n",
       "<table border=\"1\" class=\"dataframe\">\n",
       "  <thead>\n",
       "    <tr style=\"text-align: right;\">\n",
       "      <th></th>\n",
       "      <th>0</th>\n",
       "      <th>1</th>\n",
       "      <th>2</th>\n",
       "      <th>3</th>\n",
       "      <th>4</th>\n",
       "      <th>governor</th>\n",
       "    </tr>\n",
       "    <tr>\n",
       "      <th>state</th>\n",
       "      <th></th>\n",
       "      <th></th>\n",
       "      <th></th>\n",
       "      <th></th>\n",
       "      <th></th>\n",
       "      <th></th>\n",
       "    </tr>\n",
       "  </thead>\n",
       "  <tbody>\n",
       "    <tr>\n",
       "      <th>Alabama</th>\n",
       "      <td>0.246758</td>\n",
       "      <td>-0.101736</td>\n",
       "      <td>-0.137930</td>\n",
       "      <td>-0.576965</td>\n",
       "      <td>-0.265274</td>\n",
       "      <td>Bill Walker</td>\n",
       "    </tr>\n",
       "    <tr>\n",
       "      <th>Alaska</th>\n",
       "      <td>-0.447685</td>\n",
       "      <td>-0.264967</td>\n",
       "      <td>-0.139876</td>\n",
       "      <td>-0.072223</td>\n",
       "      <td>0.239833</td>\n",
       "      <td>Robert Bentley</td>\n",
       "    </tr>\n",
       "    <tr>\n",
       "      <th>Arizona</th>\n",
       "      <td>-0.351562</td>\n",
       "      <td>0.752285</td>\n",
       "      <td>0.090259</td>\n",
       "      <td>-0.363086</td>\n",
       "      <td>-0.177778</td>\n",
       "      <td>Doug Ducey</td>\n",
       "    </tr>\n",
       "  </tbody>\n",
       "</table>\n",
       "</div>"
      ],
      "text/plain": [
       "                0         1         2         3         4        governor\n",
       "state                                                                    \n",
       "Alabama  0.246758 -0.101736 -0.137930 -0.576965 -0.265274     Bill Walker\n",
       "Alaska  -0.447685 -0.264967 -0.139876 -0.072223  0.239833  Robert Bentley\n",
       "Arizona -0.351562  0.752285  0.090259 -0.363086 -0.177778      Doug Ducey"
      ]
     },
     "execution_count": 149,
     "metadata": {},
     "output_type": "execute_result"
    }
   ],
   "source": [
    "#Join also works. Just like merge, but \n",
    "#default is to join on indexes.\n",
    "state_avg.join(state_df, how='left')"
   ]
  },
  {
   "cell_type": "markdown",
   "metadata": {},
   "source": [
    "# Exploratory Data Analysis with Pandas"
   ]
  },
  {
   "cell_type": "code",
   "execution_count": 150,
   "metadata": {
    "collapsed": true
   },
   "outputs": [],
   "source": [
    "import matplotlib.pyplot as plt\n",
    "%matplotlib inline"
   ]
  },
  {
   "cell_type": "code",
   "execution_count": 185,
   "metadata": {
    "collapsed": false
   },
   "outputs": [
    {
     "name": "stdout",
     "output_type": "stream",
     "text": [
      "          Date   Outlook  Temperature  Humidity  Windy      Result\n",
      "0   07-01-2014     sunny           85        85  False  Don't Play\n",
      "1   07-02-2014     sunny           80        90   True  Don't Play\n",
      "2   07-03-2014  overcast           83        78  False        Play\n",
      "3   07-04-2014      rain           70        96  False        Play\n",
      "4   07-05-2014      rain           68        80  False        Play\n",
      "5   07-06-2014      rain           65        70   True  Don't Play\n",
      "6   07-07-2014  overcast           64        65   True        Play\n",
      "7   07-08-2014     sunny           72        95  False  Don't Play\n",
      "8   07-09-2014     sunny           69        70  False        Play\n",
      "9   07-10-2014      rain           75        80  False        Play\n",
      "10  07-11-2014     sunny           75        70   True        Play\n",
      "11  07-12-2014  overcast           72        90   True        Play\n",
      "12  07-13-2014  overcast           81        75  False        Play\n",
      "13  07-14-2014      rain           71        80   True  Don't Play\n"
     ]
    }
   ],
   "source": [
    "df = pd.read_csv('data/playgolf.csv', delimiter='|' )\n",
    "print df"
   ]
  },
  {
   "cell_type": "markdown",
   "metadata": {},
   "source": [
    "# Describe the continuous variables"
   ]
  },
  {
   "cell_type": "code",
   "execution_count": 163,
   "metadata": {
    "collapsed": false
   },
   "outputs": [
    {
     "data": {
      "text/html": [
       "<div>\n",
       "<table border=\"1\" class=\"dataframe\">\n",
       "  <thead>\n",
       "    <tr style=\"text-align: right;\">\n",
       "      <th></th>\n",
       "      <th>count</th>\n",
       "      <th>mean</th>\n",
       "      <th>std</th>\n",
       "      <th>min</th>\n",
       "      <th>25%</th>\n",
       "      <th>50%</th>\n",
       "      <th>75%</th>\n",
       "      <th>max</th>\n",
       "    </tr>\n",
       "  </thead>\n",
       "  <tbody>\n",
       "    <tr>\n",
       "      <th>Temperature</th>\n",
       "      <td>14.0</td>\n",
       "      <td>73.571429</td>\n",
       "      <td>6.571667</td>\n",
       "      <td>64.0</td>\n",
       "      <td>69.25</td>\n",
       "      <td>72.0</td>\n",
       "      <td>78.75</td>\n",
       "      <td>85.0</td>\n",
       "    </tr>\n",
       "    <tr>\n",
       "      <th>Humidity</th>\n",
       "      <td>14.0</td>\n",
       "      <td>80.285714</td>\n",
       "      <td>9.840486</td>\n",
       "      <td>65.0</td>\n",
       "      <td>71.25</td>\n",
       "      <td>80.0</td>\n",
       "      <td>88.75</td>\n",
       "      <td>96.0</td>\n",
       "    </tr>\n",
       "  </tbody>\n",
       "</table>\n",
       "</div>"
      ],
      "text/plain": [
       "             count       mean       std   min    25%   50%    75%   max\n",
       "Temperature   14.0  73.571429  6.571667  64.0  69.25  72.0  78.75  85.0\n",
       "Humidity      14.0  80.285714  9.840486  65.0  71.25  80.0  88.75  96.0"
      ]
     },
     "execution_count": 163,
     "metadata": {},
     "output_type": "execute_result"
    }
   ],
   "source": [
    "df['Windy'] = df[\"Windy\"].astype('bool')\n",
    "df.describe().T"
   ]
  },
  {
   "cell_type": "markdown",
   "metadata": {},
   "source": [
    "Can see the general pattern of Temperature and Humidity"
   ]
  },
  {
   "cell_type": "markdown",
   "metadata": {},
   "source": [
    "## We can make use of df.plot() to produce simple graphs that calls on the more adjustable Matplotlib library "
   ]
  },
  {
   "cell_type": "code",
   "execution_count": 172,
   "metadata": {
    "collapsed": false,
    "scrolled": true
   },
   "outputs": [
    {
     "data": {
      "text/plain": [
       "array([[<matplotlib.axes._subplots.AxesSubplot object at 0x11174d6d0>,\n",
       "        <matplotlib.axes._subplots.AxesSubplot object at 0x111819c50>]], dtype=object)"
      ]
     },
     "execution_count": 172,
     "metadata": {},
     "output_type": "execute_result"
    },
    {
     "data": {
      "image/png": "[encoded data removed]",
      "text/plain": [
       "<matplotlib.figure.Figure at 0x1116f4e90>"
      ]
     },
     "metadata": {},
     "output_type": "display_data"
    }
   ],
   "source": [
    "import seaborn as sns\n",
    "df.hist(['Temperature','Humidity'],bins=[60,66,72,80,90])"
   ]
  },
  {
   "cell_type": "code",
   "execution_count": 173,
   "metadata": {
    "collapsed": false
   },
   "outputs": [
    {
     "data": {
      "text/plain": [
       "<matplotlib.axes._subplots.AxesSubplot at 0x1116f4650>"
      ]
     },
     "execution_count": 173,
     "metadata": {},
     "output_type": "execute_result"
    },
    {
     "data": {
      "image/png": "[encoded data removed]",
      "text/plain": [
       "<matplotlib.figure.Figure at 0x1118e1d90>"
      ]
     },
     "metadata": {},
     "output_type": "display_data"
    }
   ],
   "source": [
    "df[['Temperature','Humidity']].plot(kind='box')"
   ]
  },
  {
   "cell_type": "markdown",
   "metadata": {},
   "source": [
    "### Scatterplots for examining bivariate relationships"
   ]
  },
  {
   "cell_type": "code",
   "execution_count": 175,
   "metadata": {
    "collapsed": false,
    "scrolled": false
   },
   "outputs": [
    {
     "data": {
      "text/plain": [
       "<matplotlib.axes._subplots.AxesSubplot at 0x111cfed10>"
      ]
     },
     "execution_count": 175,
     "metadata": {},
     "output_type": "execute_result"
    },
    {
     "data": {
      "image/png": "[encoded data removed]",
      "text/plain": [
       "<matplotlib.figure.Figure at 0x111cf1610>"
      ]
     },
     "metadata": {},
     "output_type": "display_data"
    }
   ],
   "source": [
    "reload(plt)\n",
    "df.plot('Temperature', 'Humidity', kind='scatter')"
   ]
  },
  {
   "cell_type": "markdown",
   "metadata": {},
   "source": [
    "### If we want to color the scatterplots according to a category, it requires a bit of matplotlib...ugh!"
   ]
  },
  {
   "cell_type": "code",
   "execution_count": 178,
   "metadata": {
    "collapsed": false
   },
   "outputs": [
    {
     "name": "stdout",
     "output_type": "stream",
     "text": [
      "overcast\n",
      "rain\n",
      "sunny\n"
     ]
    }
   ],
   "source": [
    "groups=df.groupby('Outlook')\n",
    "for name, group in groups:\n",
    "    print name"
   ]
  },
  {
   "cell_type": "code",
   "execution_count": 180,
   "metadata": {
    "collapsed": false
   },
   "outputs": [
    {
     "data": {
      "image/png": "[encoded data removed]",
      "text/plain": [
       "<matplotlib.figure.Figure at 0x1121780d0>"
      ]
     },
     "metadata": {},
     "output_type": "display_data"
    }
   ],
   "source": [
    "sns.set()\n",
    "fig, ax = plt.subplots()\n",
    "\n",
    "ax.margins(0.05)\n",
    "for name, group in groups:\n",
    "    ax.plot(group.Temperature, group.Humidity, marker='o', linestyle='', ms=12, label=name)\n",
    "ax.legend(numpoints=1, loc='lower right')\n",
    "\n",
    "plt.show()"
   ]
  },
  {
   "cell_type": "markdown",
   "metadata": {},
   "source": [
    "# What about the categorical variables? Frequency tables and relative frequency tables"
   ]
  },
  {
   "cell_type": "markdown",
   "metadata": {},
   "source": [
    "### Simply df.value_counts() gets you the frequencies"
   ]
  },
  {
   "cell_type": "code",
   "execution_count": 182,
   "metadata": {
    "collapsed": false
   },
   "outputs": [
    {
     "data": {
      "text/plain": [
       "rain        5\n",
       "sunny       5\n",
       "overcast    4\n",
       "Name: Outlook, dtype: int64"
      ]
     },
     "execution_count": 182,
     "metadata": {},
     "output_type": "execute_result"
    }
   ],
   "source": [
    "df['Outlook'].value_counts()"
   ]
  },
  {
   "cell_type": "markdown",
   "metadata": {},
   "source": [
    "### Using apply will get you the value counts for multiple columns at once"
   ]
  },
  {
   "cell_type": "code",
   "execution_count": 184,
   "metadata": {
    "collapsed": false
   },
   "outputs": [
    {
     "data": {
      "text/html": [
       "<div>\n",
       "<table border=\"1\" class=\"dataframe\">\n",
       "  <thead>\n",
       "    <tr style=\"text-align: right;\">\n",
       "      <th></th>\n",
       "      <th>Outlook</th>\n",
       "      <th>Result</th>\n",
       "    </tr>\n",
       "  </thead>\n",
       "  <tbody>\n",
       "    <tr>\n",
       "      <th>Don't Play</th>\n",
       "      <td>NaN</td>\n",
       "      <td>5.0</td>\n",
       "    </tr>\n",
       "    <tr>\n",
       "      <th>Play</th>\n",
       "      <td>NaN</td>\n",
       "      <td>9.0</td>\n",
       "    </tr>\n",
       "    <tr>\n",
       "      <th>overcast</th>\n",
       "      <td>4.0</td>\n",
       "      <td>NaN</td>\n",
       "    </tr>\n",
       "    <tr>\n",
       "      <th>rain</th>\n",
       "      <td>5.0</td>\n",
       "      <td>NaN</td>\n",
       "    </tr>\n",
       "    <tr>\n",
       "      <th>sunny</th>\n",
       "      <td>5.0</td>\n",
       "      <td>NaN</td>\n",
       "    </tr>\n",
       "  </tbody>\n",
       "</table>\n",
       "</div>"
      ],
      "text/plain": [
       "            Outlook  Result\n",
       "Don't Play      NaN     5.0\n",
       "Play            NaN     9.0\n",
       "overcast        4.0     NaN\n",
       "rain            5.0     NaN\n",
       "sunny           5.0     NaN"
      ]
     },
     "execution_count": 184,
     "metadata": {},
     "output_type": "execute_result"
    }
   ],
   "source": [
    "df[['Outlook','Result']].apply(lambda x: x.value_counts())"
   ]
  },
  {
   "cell_type": "markdown",
   "metadata": {},
   "source": [
    "### Contingency Tables for looking at bivariate relationships between two categorical variables"
   ]
  },
  {
   "cell_type": "code",
   "execution_count": 190,
   "metadata": {
    "collapsed": false
   },
   "outputs": [
    {
     "data": {
      "text/html": [
       "<div>\n",
       "<table border=\"1\" class=\"dataframe\">\n",
       "  <thead>\n",
       "    <tr style=\"text-align: right;\">\n",
       "      <th>Result</th>\n",
       "      <th>Don't Play</th>\n",
       "      <th>Play</th>\n",
       "    </tr>\n",
       "    <tr>\n",
       "      <th>Outlook</th>\n",
       "      <th></th>\n",
       "      <th></th>\n",
       "    </tr>\n",
       "  </thead>\n",
       "  <tbody>\n",
       "    <tr>\n",
       "      <th>overcast</th>\n",
       "      <td>0</td>\n",
       "      <td>4</td>\n",
       "    </tr>\n",
       "    <tr>\n",
       "      <th>rain</th>\n",
       "      <td>2</td>\n",
       "      <td>3</td>\n",
       "    </tr>\n",
       "    <tr>\n",
       "      <th>sunny</th>\n",
       "      <td>3</td>\n",
       "      <td>2</td>\n",
       "    </tr>\n",
       "  </tbody>\n",
       "</table>\n",
       "</div>"
      ],
      "text/plain": [
       "Result    Don't Play  Play\n",
       "Outlook                   \n",
       "overcast           0     4\n",
       "rain               2     3\n",
       "sunny              3     2"
      ]
     },
     "execution_count": 190,
     "metadata": {},
     "output_type": "execute_result"
    }
   ],
   "source": [
    "pd.crosstab(df['Outlook'],df['Result'])"
   ]
  },
  {
   "cell_type": "markdown",
   "metadata": {},
   "source": [
    "### Often we want the row percentages"
   ]
  },
  {
   "cell_type": "code",
   "execution_count": 191,
   "metadata": {
    "collapsed": false
   },
   "outputs": [
    {
     "data": {
      "text/html": [
       "<div>\n",
       "<table border=\"1\" class=\"dataframe\">\n",
       "  <thead>\n",
       "    <tr style=\"text-align: right;\">\n",
       "      <th>Result</th>\n",
       "      <th>Don't Play</th>\n",
       "      <th>Play</th>\n",
       "    </tr>\n",
       "    <tr>\n",
       "      <th>Outlook</th>\n",
       "      <th></th>\n",
       "      <th></th>\n",
       "    </tr>\n",
       "  </thead>\n",
       "  <tbody>\n",
       "    <tr>\n",
       "      <th>overcast</th>\n",
       "      <td>0.0</td>\n",
       "      <td>1.0</td>\n",
       "    </tr>\n",
       "    <tr>\n",
       "      <th>rain</th>\n",
       "      <td>0.4</td>\n",
       "      <td>0.6</td>\n",
       "    </tr>\n",
       "    <tr>\n",
       "      <th>sunny</th>\n",
       "      <td>0.6</td>\n",
       "      <td>0.4</td>\n",
       "    </tr>\n",
       "  </tbody>\n",
       "</table>\n",
       "</div>"
      ],
      "text/plain": [
       "Result    Don't Play  Play\n",
       "Outlook                   \n",
       "overcast         0.0   1.0\n",
       "rain             0.4   0.6\n",
       "sunny            0.6   0.4"
      ]
     },
     "execution_count": 191,
     "metadata": {},
     "output_type": "execute_result"
    }
   ],
   "source": [
    "pd.crosstab(df['Outlook'], df['Result']).apply(lambda r: r/r.sum(), axis=1)"
   ]
  },
  {
   "cell_type": "markdown",
   "metadata": {},
   "source": [
    "### Or the column percentages"
   ]
  },
  {
   "cell_type": "code",
   "execution_count": 192,
   "metadata": {
    "collapsed": false
   },
   "outputs": [
    {
     "data": {
      "text/html": [
       "<div>\n",
       "<table border=\"1\" class=\"dataframe\">\n",
       "  <thead>\n",
       "    <tr style=\"text-align: right;\">\n",
       "      <th>Result</th>\n",
       "      <th>Don't Play</th>\n",
       "      <th>Play</th>\n",
       "    </tr>\n",
       "    <tr>\n",
       "      <th>Outlook</th>\n",
       "      <th></th>\n",
       "      <th></th>\n",
       "    </tr>\n",
       "  </thead>\n",
       "  <tbody>\n",
       "    <tr>\n",
       "      <th>overcast</th>\n",
       "      <td>0.0</td>\n",
       "      <td>0.444444</td>\n",
       "    </tr>\n",
       "    <tr>\n",
       "      <th>rain</th>\n",
       "      <td>0.4</td>\n",
       "      <td>0.333333</td>\n",
       "    </tr>\n",
       "    <tr>\n",
       "      <th>sunny</th>\n",
       "      <td>0.6</td>\n",
       "      <td>0.222222</td>\n",
       "    </tr>\n",
       "  </tbody>\n",
       "</table>\n",
       "</div>"
      ],
      "text/plain": [
       "Result    Don't Play      Play\n",
       "Outlook                       \n",
       "overcast         0.0  0.444444\n",
       "rain             0.4  0.333333\n",
       "sunny            0.6  0.222222"
      ]
     },
     "execution_count": 192,
     "metadata": {},
     "output_type": "execute_result"
    }
   ],
   "source": [
    "pd.crosstab(df['Outlook'], df['Result']).apply(lambda c: c/c.sum(), axis=0)"
   ]
  },
  {
   "cell_type": "markdown",
   "metadata": {},
   "source": [
    "# Enough...lets get to the pair sprint\n",
    "\n",
    "https://www.youtube.com/watch?v=yGf6LNWY9AI"
   ]
  },
  {
   "cell_type": "code",
   "execution_count": null,
   "metadata": {
    "collapsed": true
   },
   "outputs": [],
   "source": []
  },
  {
   "cell_type": "code",
   "execution_count": null,
   "metadata": {
    "collapsed": true
   },
   "outputs": [],
   "source": []
  }
 ],
 "metadata": {
  "kernelspec": {
   "display_name": "Python 2",
   "language": "python",
   "name": "python2"
  },
  "language_info": {
   "codemirror_mode": {
    "name": "ipython",
    "version": 2
   },
   "file_extension": ".py",
   "mimetype": "text/x-python",
   "name": "python",
   "nbconvert_exporter": "python",
   "pygments_lexer": "ipython2",
   "version": "2.7.13"
  }
 },
 "nbformat": 4,
 "nbformat_minor": 1
}
