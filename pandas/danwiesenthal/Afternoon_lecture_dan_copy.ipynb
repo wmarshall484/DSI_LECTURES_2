{
 "cells": [
  {
   "cell_type": "markdown",
   "metadata": {},
   "source": [
    "#Pandas\n",
    "\n",
    "##What is Pandas?\n",
    "A Python library providing data structures and data analysis tools.\n",
    "\n",
    "##Huh?\n",
    "Think of it like Excel for Python that doesn't suck."
   ]
  },
  {
   "cell_type": "code",
   "execution_count": 43,
   "metadata": {
    "collapsed": true
   },
   "outputs": [],
   "source": [
    "#By convention import pandas like:\n",
    "import pandas as pd\n",
    "#For fake data.\n",
    "from numpy.random import randn\n",
    "import numpy as np"
   ]
  },
  {
   "cell_type": "markdown",
   "metadata": {},
   "source": [
    "#Series\n",
    "Think of a Pandas Series as a _labeled_ one-dimensional vector. In fact, it need not be a numeric vector, it can contain arbitrary python objects."
   ]
  },
  {
   "cell_type": "code",
   "execution_count": 44,
   "metadata": {},
   "outputs": [
    {
     "data": {
      "text/plain": [
       "0    10\n",
       "1    11\n",
       "2    12\n",
       "3    13\n",
       "4    14\n",
       "dtype: int64"
      ]
     },
     "execution_count": 44,
     "metadata": {},
     "output_type": "execute_result"
    }
   ],
   "source": [
    "int_series = pd.Series([i + 10 for i in xrange(10)])\n",
    "int_series.head()"
   ]
  },
  {
   "cell_type": "code",
   "execution_count": 45,
   "metadata": {},
   "outputs": [
    {
     "data": {
      "text/plain": [
       "0    1.006335\n",
       "1    0.943686\n",
       "2    0.072052\n",
       "3   -0.561034\n",
       "4    0.733169\n",
       "dtype: float64"
      ]
     },
     "execution_count": 45,
     "metadata": {},
     "output_type": "execute_result"
    }
   ],
   "source": [
    "num_series = pd.Series(randn(10))\n",
    "num_series.head()"
   ]
  },
  {
   "cell_type": "code",
   "execution_count": 46,
   "metadata": {},
   "outputs": [
    {
     "data": {
      "text/plain": [
       "0    a\n",
       "1    b\n",
       "2    c\n",
       "3    d\n",
       "4    e\n",
       "dtype: object"
      ]
     },
     "execution_count": 46,
     "metadata": {},
     "output_type": "execute_result"
    }
   ],
   "source": [
    "str_series = pd.Series([x for x in 'abcde'*2])\n",
    "str_series.head()"
   ]
  },
  {
   "cell_type": "code",
   "execution_count": 47,
   "metadata": {},
   "outputs": [
    {
     "data": {
      "text/plain": [
       "0    <function <lambda> at 0x132ecc488>\n",
       "1    <function <lambda> at 0x132eccb90>\n",
       "2    <function <lambda> at 0x132eccc08>\n",
       "3    <function <lambda> at 0x132eccc80>\n",
       "4    <function <lambda> at 0x132ecccf8>\n",
       "dtype: object"
      ]
     },
     "execution_count": 47,
     "metadata": {},
     "output_type": "execute_result"
    }
   ],
   "source": [
    "fun_series = pd.Series([lambda x: x*i for i in range(10)])\n",
    "fun_series.head()"
   ]
  },
  {
   "cell_type": "markdown",
   "metadata": {},
   "source": [
    "#Indexes.\n",
    "Notice how each series has an index (in this case a relatively meaningless default index).\n",
    "\n",
    "Pandas can make great use of informative indexes. Indexes work similarly to a dictionary key, allowing fast lookups of the data associated with the index.\n",
    "\n",
    "Indexes can also be exploited for fast group-bys, merges, time-series operations and lots more.\n",
    "\n",
    "When you're really in the zone with pandas, you'll be thinking a lot about indexes."
   ]
  },
  {
   "cell_type": "code",
   "execution_count": 48,
   "metadata": {},
   "outputs": [
    {
     "name": "stdout",
     "output_type": "stream",
     "text": [
      "California   -0.775453\n",
      "Alabama      -0.187505\n",
      "Indiana      -1.495521\n",
      "Montana       0.883465\n",
      "Kentucky     -0.834188\n",
      "dtype: float64\n",
      "\n",
      "\n",
      "Washington   -1.908426\n",
      "Alabama       0.601834\n",
      "Montana       0.339667\n",
      "Indiana      -0.752145\n",
      "New York     -1.076266\n",
      "dtype: float64\n"
     ]
    }
   ],
   "source": [
    "indexed_series = pd.Series(randn(5), \n",
    "                           index = ['California', 'Alabama', \n",
    "                                    'Indiana', 'Montana', \n",
    "                                    'Kentucky'])\n",
    "alt_indexed_series = pd.Series(randn(5),\n",
    "                               index = ['Washington', 'Alabama', \n",
    "                                        'Montana', 'Indiana', \n",
    "                                        'New York'])\n",
    "print indexed_series\n",
    "print '\\n'\n",
    "print alt_indexed_series"
   ]
  },
  {
   "cell_type": "code",
   "execution_count": 49,
   "metadata": {},
   "outputs": [
    {
     "data": {
      "text/plain": [
       "<function randn>"
      ]
     },
     "execution_count": 49,
     "metadata": {},
     "output_type": "execute_result"
    }
   ],
   "source": [
    "randn"
   ]
  },
  {
   "cell_type": "code",
   "execution_count": 50,
   "metadata": {},
   "outputs": [
    {
     "data": {
      "text/plain": [
       "Alabama       0.414329\n",
       "California         NaN\n",
       "Indiana      -2.247666\n",
       "Kentucky           NaN\n",
       "Montana       1.223132\n",
       "New York           NaN\n",
       "Washington         NaN\n",
       "dtype: float64"
      ]
     },
     "execution_count": 50,
     "metadata": {},
     "output_type": "execute_result"
    }
   ],
   "source": [
    "#Pandas uses the index by default to align series for arithmetic!\n",
    "indexed_series + alt_indexed_series"
   ]
  },
  {
   "cell_type": "code",
   "execution_count": 51,
   "metadata": {},
   "outputs": [
    {
     "data": {
      "text/plain": [
       "Alabama       0.096566\n",
       "California    0.003965\n",
       "Indiana       0.101769\n",
       "Kentucky      0.073375\n",
       "Montana       0.154150\n",
       "dtype: float64"
      ]
     },
     "execution_count": 51,
     "metadata": {},
     "output_type": "execute_result"
    }
   ],
   "source": [
    "indexed_series = pd.Series(randn(5*100), \n",
    "                           index = ['California', 'Alabama', \n",
    "                                    'Indiana', 'Montana', \n",
    "                                    'Kentucky']*100)\n",
    "\n",
    "#If you have non-unique indexes, you can use them \n",
    "#to do groupby operations.\n",
    "indexed_series.groupby(level=0).mean()"
   ]
  },
  {
   "cell_type": "code",
   "execution_count": 52,
   "metadata": {},
   "outputs": [
    {
     "data": {
      "text/plain": [
       "Alabama    0.407137\n",
       "Alabama   -0.605136\n",
       "Alabama    1.208549\n",
       "Alabama   -1.675229\n",
       "Alabama    0.388081\n",
       "Alabama    1.099500\n",
       "Alabama   -1.273222\n",
       "Alabama   -0.962282\n",
       "Alabama   -0.732389\n",
       "Alabama   -1.596713\n",
       "Alabama   -2.321826\n",
       "Alabama   -2.056358\n",
       "Alabama   -0.684123\n",
       "Alabama    1.072933\n",
       "Alabama    0.245200\n",
       "Alabama   -0.315406\n",
       "Alabama    0.775253\n",
       "Alabama    0.521265\n",
       "Alabama    1.060680\n",
       "Alabama   -0.673585\n",
       "Alabama    0.378784\n",
       "Alabama   -0.265631\n",
       "Alabama    0.596083\n",
       "Alabama   -0.201401\n",
       "Alabama   -0.168350\n",
       "Alabama    0.149781\n",
       "Alabama    0.451899\n",
       "Alabama   -0.382803\n",
       "Alabama   -0.353658\n",
       "Alabama   -1.101916\n",
       "             ...   \n",
       "Alabama   -0.512687\n",
       "Alabama   -0.900939\n",
       "Alabama   -0.635252\n",
       "Alabama   -0.661041\n",
       "Alabama    1.309125\n",
       "Alabama   -0.030970\n",
       "Alabama    1.187511\n",
       "Alabama   -0.626553\n",
       "Alabama   -1.583957\n",
       "Alabama    1.990285\n",
       "Alabama    1.158375\n",
       "Alabama    1.356672\n",
       "Alabama    1.335114\n",
       "Alabama    1.383221\n",
       "Alabama    1.071085\n",
       "Alabama   -0.705745\n",
       "Alabama    0.751454\n",
       "Alabama    0.692177\n",
       "Alabama   -1.164334\n",
       "Alabama    1.466293\n",
       "Alabama   -0.320052\n",
       "Alabama   -0.380281\n",
       "Alabama   -0.799432\n",
       "Alabama    0.573818\n",
       "Alabama    0.585333\n",
       "Alabama    0.363941\n",
       "Alabama    0.481879\n",
       "Alabama    1.460723\n",
       "Alabama   -0.092016\n",
       "Alabama    2.007477\n",
       "dtype: float64"
      ]
     },
     "execution_count": 52,
     "metadata": {},
     "output_type": "execute_result"
    }
   ],
   "source": [
    "indexed_series['Alabama']"
   ]
  },
  {
   "cell_type": "code",
   "execution_count": 53,
   "metadata": {},
   "outputs": [
    {
     "data": {
      "text/plain": [
       "2015-01-31   -0.692082\n",
       "2015-02-28    1.495285\n",
       "2015-03-31    0.607731\n",
       "2015-04-30    1.335168\n",
       "2015-05-31   -1.693763\n",
       "2015-06-30    0.123814\n",
       "2015-07-31    2.471251\n",
       "2015-08-31    1.395070\n",
       "2015-09-30   -0.334911\n",
       "2015-10-31   -0.394800\n",
       "Freq: M, dtype: float64"
      ]
     },
     "execution_count": 53,
     "metadata": {},
     "output_type": "execute_result"
    }
   ],
   "source": [
    "#Datetime index\n",
    "dt_index = pd.date_range('2015-1-1', \n",
    "                        '2015-11-1', \n",
    "                        freq='m')\n",
    "dt_series = pd.Series(randn(10), \n",
    "                      index = dt_index)\n",
    "dt_series"
   ]
  },
  {
   "cell_type": "code",
   "execution_count": 54,
   "metadata": {},
   "outputs": [
    {
     "data": {
      "text/plain": [
       "2015-03-31    0.470311\n",
       "2015-06-30   -0.078260\n",
       "2015-09-30    1.177137\n",
       "2015-12-31   -0.394800\n",
       "Freq: Q-DEC, dtype: float64"
      ]
     },
     "execution_count": 54,
     "metadata": {},
     "output_type": "execute_result"
    }
   ],
   "source": [
    "#Datetime indexes make it easy to transform freqs etc!\n",
    "dt_series.resample('q').mean()"
   ]
  },
  {
   "cell_type": "code",
   "execution_count": 55,
   "metadata": {},
   "outputs": [
    {
     "data": {
      "text/plain": [
       "2015-01-31   -0.692082\n",
       "2015-02-28    1.495285\n",
       "2015-03-31    0.607731\n",
       "2015-04-30    1.335168\n",
       "2015-05-31   -1.693763\n",
       "2015-06-30    0.123814\n",
       "2015-07-31    2.471251\n",
       "2015-08-31    1.395070\n",
       "2015-09-30   -0.334911\n",
       "2015-10-31   -0.394800\n",
       "Freq: M, dtype: float64"
      ]
     },
     "execution_count": 55,
     "metadata": {},
     "output_type": "execute_result"
    }
   ],
   "source": [
    "dt_series"
   ]
  },
  {
   "cell_type": "markdown",
   "metadata": {},
   "source": [
    "#DataFrames\n",
    "Data frames extend the concept of Series to table-like data."
   ]
  },
  {
   "cell_type": "code",
   "execution_count": 56,
   "metadata": {},
   "outputs": [
    {
     "data": {
      "text/html": [
       "<div>\n",
       "<table border=\"1\" class=\"dataframe\">\n",
       "  <thead>\n",
       "    <tr style=\"text-align: right;\">\n",
       "      <th></th>\n",
       "      <th>a</th>\n",
       "      <th>b</th>\n",
       "      <th>c</th>\n",
       "      <th>d</th>\n",
       "      <th>e</th>\n",
       "    </tr>\n",
       "  </thead>\n",
       "  <tbody>\n",
       "    <tr>\n",
       "      <th>2015-01-31</th>\n",
       "      <td>0.424187</td>\n",
       "      <td>0.185441</td>\n",
       "      <td>-0.891893</td>\n",
       "      <td>0.397587</td>\n",
       "      <td>0.619936</td>\n",
       "    </tr>\n",
       "    <tr>\n",
       "      <th>2015-02-28</th>\n",
       "      <td>-0.654483</td>\n",
       "      <td>0.298451</td>\n",
       "      <td>1.940105</td>\n",
       "      <td>-0.299176</td>\n",
       "      <td>0.144280</td>\n",
       "    </tr>\n",
       "    <tr>\n",
       "      <th>2015-03-31</th>\n",
       "      <td>1.243162</td>\n",
       "      <td>1.828352</td>\n",
       "      <td>-1.296907</td>\n",
       "      <td>2.297991</td>\n",
       "      <td>-0.955161</td>\n",
       "    </tr>\n",
       "    <tr>\n",
       "      <th>2015-04-30</th>\n",
       "      <td>1.203313</td>\n",
       "      <td>-1.938373</td>\n",
       "      <td>-0.394935</td>\n",
       "      <td>1.252614</td>\n",
       "      <td>0.937311</td>\n",
       "    </tr>\n",
       "    <tr>\n",
       "      <th>2015-05-31</th>\n",
       "      <td>1.039116</td>\n",
       "      <td>0.675949</td>\n",
       "      <td>0.021356</td>\n",
       "      <td>-0.969792</td>\n",
       "      <td>-0.991426</td>\n",
       "    </tr>\n",
       "    <tr>\n",
       "      <th>2015-06-30</th>\n",
       "      <td>-2.315052</td>\n",
       "      <td>0.407984</td>\n",
       "      <td>-0.271221</td>\n",
       "      <td>0.516628</td>\n",
       "      <td>0.913065</td>\n",
       "    </tr>\n",
       "    <tr>\n",
       "      <th>2015-07-31</th>\n",
       "      <td>0.521136</td>\n",
       "      <td>0.866788</td>\n",
       "      <td>0.399734</td>\n",
       "      <td>0.892011</td>\n",
       "      <td>2.104426</td>\n",
       "    </tr>\n",
       "    <tr>\n",
       "      <th>2015-08-31</th>\n",
       "      <td>-0.500195</td>\n",
       "      <td>-1.938934</td>\n",
       "      <td>-0.594108</td>\n",
       "      <td>-2.344727</td>\n",
       "      <td>-0.833046</td>\n",
       "    </tr>\n",
       "    <tr>\n",
       "      <th>2015-09-30</th>\n",
       "      <td>0.142694</td>\n",
       "      <td>0.180279</td>\n",
       "      <td>-0.726867</td>\n",
       "      <td>-0.179593</td>\n",
       "      <td>-0.443363</td>\n",
       "    </tr>\n",
       "    <tr>\n",
       "      <th>2015-10-31</th>\n",
       "      <td>0.637735</td>\n",
       "      <td>0.287018</td>\n",
       "      <td>0.163205</td>\n",
       "      <td>0.673314</td>\n",
       "      <td>0.284388</td>\n",
       "    </tr>\n",
       "  </tbody>\n",
       "</table>\n",
       "</div>"
      ],
      "text/plain": [
       "                   a         b         c         d         e\n",
       "2015-01-31  0.424187  0.185441 -0.891893  0.397587  0.619936\n",
       "2015-02-28 -0.654483  0.298451  1.940105 -0.299176  0.144280\n",
       "2015-03-31  1.243162  1.828352 -1.296907  2.297991 -0.955161\n",
       "2015-04-30  1.203313 -1.938373 -0.394935  1.252614  0.937311\n",
       "2015-05-31  1.039116  0.675949  0.021356 -0.969792 -0.991426\n",
       "2015-06-30 -2.315052  0.407984 -0.271221  0.516628  0.913065\n",
       "2015-07-31  0.521136  0.866788  0.399734  0.892011  2.104426\n",
       "2015-08-31 -0.500195 -1.938934 -0.594108 -2.344727 -0.833046\n",
       "2015-09-30  0.142694  0.180279 -0.726867 -0.179593 -0.443363\n",
       "2015-10-31  0.637735  0.287018  0.163205  0.673314  0.284388"
      ]
     },
     "execution_count": 56,
     "metadata": {},
     "output_type": "execute_result"
    }
   ],
   "source": [
    "df = pd.DataFrame(randn(10, 5), index=dt_index, columns=[x for x in 'abcde'])\n",
    "df"
   ]
  },
  {
   "cell_type": "code",
   "execution_count": 57,
   "metadata": {},
   "outputs": [
    {
     "data": {
      "text/plain": [
       "pandas.core.series.Series"
      ]
     },
     "execution_count": 57,
     "metadata": {},
     "output_type": "execute_result"
    }
   ],
   "source": [
    "#A dataframes columns are series:\n",
    "col = df.a\n",
    "type(col)"
   ]
  },
  {
   "cell_type": "code",
   "execution_count": 58,
   "metadata": {},
   "outputs": [
    {
     "data": {
      "text/plain": [
       "2015-01-31    0.424187\n",
       "2015-02-28   -0.654483\n",
       "2015-03-31    1.243162\n",
       "2015-04-30    1.203313\n",
       "2015-05-31    1.039116\n",
       "2015-06-30   -2.315052\n",
       "2015-07-31    0.521136\n",
       "2015-08-31   -0.500195\n",
       "2015-09-30    0.142694\n",
       "2015-10-31    0.637735\n",
       "Freq: M, Name: a, dtype: float64"
      ]
     },
     "execution_count": 58,
     "metadata": {},
     "output_type": "execute_result"
    }
   ],
   "source": [
    "df['a']"
   ]
  },
  {
   "cell_type": "code",
   "execution_count": 59,
   "metadata": {},
   "outputs": [
    {
     "data": {
      "text/plain": [
       "pandas.core.series.Series"
      ]
     },
     "execution_count": 59,
     "metadata": {},
     "output_type": "execute_result"
    }
   ],
   "source": [
    "#So are the rows.\n",
    "row = df.ix['2015-01-31']\n",
    "type(row)"
   ]
  },
  {
   "cell_type": "code",
   "execution_count": 60,
   "metadata": {},
   "outputs": [
    {
     "data": {
      "text/plain": [
       "a    0.424187\n",
       "b    0.185441\n",
       "c   -0.891893\n",
       "d    0.397587\n",
       "e    0.619936\n",
       "Name: 2015-01-31 00:00:00, dtype: float64"
      ]
     },
     "execution_count": 60,
     "metadata": {},
     "output_type": "execute_result"
    }
   ],
   "source": [
    "df.loc['2015-01-31']"
   ]
  },
  {
   "cell_type": "code",
   "execution_count": 61,
   "metadata": {
    "scrolled": true
   },
   "outputs": [
    {
     "data": {
      "text/plain": [
       "a    0.424187\n",
       "b    0.185441\n",
       "c   -0.891893\n",
       "d    0.397587\n",
       "e    0.619936\n",
       "Name: 2015-01-31 00:00:00, dtype: float64"
      ]
     },
     "execution_count": 61,
     "metadata": {},
     "output_type": "execute_result"
    }
   ],
   "source": [
    "df.iloc[0]"
   ]
  },
  {
   "cell_type": "code",
   "execution_count": 62,
   "metadata": {},
   "outputs": [
    {
     "data": {
      "text/plain": [
       "a    0.424187\n",
       "b    0.185441\n",
       "c   -0.891893\n",
       "d    0.397587\n",
       "e    0.619936\n",
       "Name: 2015-01-31 00:00:00, dtype: float64"
      ]
     },
     "execution_count": 62,
     "metadata": {},
     "output_type": "execute_result"
    }
   ],
   "source": [
    "df.ix[0]"
   ]
  },
  {
   "cell_type": "code",
   "execution_count": 63,
   "metadata": {},
   "outputs": [
    {
     "data": {
      "text/plain": [
       "DatetimeIndex(['2015-01-31', '2015-02-28', '2015-03-31', '2015-04-30',\n",
       "               '2015-05-31', '2015-06-30', '2015-07-31', '2015-08-31',\n",
       "               '2015-09-30', '2015-10-31'],\n",
       "              dtype='datetime64[ns]', freq='M')"
      ]
     },
     "execution_count": 63,
     "metadata": {},
     "output_type": "execute_result"
    }
   ],
   "source": [
    "#The columns all have the same index:\n",
    "col.index   "
   ]
  },
  {
   "cell_type": "code",
   "execution_count": 64,
   "metadata": {},
   "outputs": [
    {
     "data": {
      "text/plain": [
       "Index([u'a', u'b', u'c', u'd', u'e'], dtype='object')"
      ]
     },
     "execution_count": 64,
     "metadata": {},
     "output_type": "execute_result"
    }
   ],
   "source": [
    "#What's the index for the rows?\n",
    "row.index"
   ]
  },
  {
   "cell_type": "markdown",
   "metadata": {},
   "source": [
    "#DataFrame basics"
   ]
  },
  {
   "cell_type": "code",
   "execution_count": 65,
   "metadata": {
    "scrolled": true
   },
   "outputs": [
    {
     "data": {
      "text/html": [
       "<div>\n",
       "<table border=\"1\" class=\"dataframe\">\n",
       "  <thead>\n",
       "    <tr style=\"text-align: right;\">\n",
       "      <th></th>\n",
       "      <th>a</th>\n",
       "      <th>b</th>\n",
       "      <th>c</th>\n",
       "      <th>d</th>\n",
       "      <th>e</th>\n",
       "      <th>new</th>\n",
       "    </tr>\n",
       "  </thead>\n",
       "  <tbody>\n",
       "    <tr>\n",
       "      <th>2015-01-31</th>\n",
       "      <td>0.424187</td>\n",
       "      <td>0.185441</td>\n",
       "      <td>-0.891893</td>\n",
       "      <td>0.397587</td>\n",
       "      <td>0.619936</td>\n",
       "      <td>0.609627</td>\n",
       "    </tr>\n",
       "    <tr>\n",
       "      <th>2015-02-28</th>\n",
       "      <td>-0.654483</td>\n",
       "      <td>0.298451</td>\n",
       "      <td>1.940105</td>\n",
       "      <td>-0.299176</td>\n",
       "      <td>0.144280</td>\n",
       "      <td>-0.356032</td>\n",
       "    </tr>\n",
       "    <tr>\n",
       "      <th>2015-03-31</th>\n",
       "      <td>1.243162</td>\n",
       "      <td>1.828352</td>\n",
       "      <td>-1.296907</td>\n",
       "      <td>2.297991</td>\n",
       "      <td>-0.955161</td>\n",
       "      <td>3.071514</td>\n",
       "    </tr>\n",
       "    <tr>\n",
       "      <th>2015-04-30</th>\n",
       "      <td>1.203313</td>\n",
       "      <td>-1.938373</td>\n",
       "      <td>-0.394935</td>\n",
       "      <td>1.252614</td>\n",
       "      <td>0.937311</td>\n",
       "      <td>-0.735060</td>\n",
       "    </tr>\n",
       "    <tr>\n",
       "      <th>2015-05-31</th>\n",
       "      <td>1.039116</td>\n",
       "      <td>0.675949</td>\n",
       "      <td>0.021356</td>\n",
       "      <td>-0.969792</td>\n",
       "      <td>-0.991426</td>\n",
       "      <td>1.715065</td>\n",
       "    </tr>\n",
       "    <tr>\n",
       "      <th>2015-06-30</th>\n",
       "      <td>-2.315052</td>\n",
       "      <td>0.407984</td>\n",
       "      <td>-0.271221</td>\n",
       "      <td>0.516628</td>\n",
       "      <td>0.913065</td>\n",
       "      <td>-1.907068</td>\n",
       "    </tr>\n",
       "    <tr>\n",
       "      <th>2015-07-31</th>\n",
       "      <td>0.521136</td>\n",
       "      <td>0.866788</td>\n",
       "      <td>0.399734</td>\n",
       "      <td>0.892011</td>\n",
       "      <td>2.104426</td>\n",
       "      <td>1.387924</td>\n",
       "    </tr>\n",
       "    <tr>\n",
       "      <th>2015-08-31</th>\n",
       "      <td>-0.500195</td>\n",
       "      <td>-1.938934</td>\n",
       "      <td>-0.594108</td>\n",
       "      <td>-2.344727</td>\n",
       "      <td>-0.833046</td>\n",
       "      <td>-2.439129</td>\n",
       "    </tr>\n",
       "    <tr>\n",
       "      <th>2015-09-30</th>\n",
       "      <td>0.142694</td>\n",
       "      <td>0.180279</td>\n",
       "      <td>-0.726867</td>\n",
       "      <td>-0.179593</td>\n",
       "      <td>-0.443363</td>\n",
       "      <td>0.322973</td>\n",
       "    </tr>\n",
       "    <tr>\n",
       "      <th>2015-10-31</th>\n",
       "      <td>0.637735</td>\n",
       "      <td>0.287018</td>\n",
       "      <td>0.163205</td>\n",
       "      <td>0.673314</td>\n",
       "      <td>0.284388</td>\n",
       "      <td>0.924752</td>\n",
       "    </tr>\n",
       "  </tbody>\n",
       "</table>\n",
       "</div>"
      ],
      "text/plain": [
       "                   a         b         c         d         e       new\n",
       "2015-01-31  0.424187  0.185441 -0.891893  0.397587  0.619936  0.609627\n",
       "2015-02-28 -0.654483  0.298451  1.940105 -0.299176  0.144280 -0.356032\n",
       "2015-03-31  1.243162  1.828352 -1.296907  2.297991 -0.955161  3.071514\n",
       "2015-04-30  1.203313 -1.938373 -0.394935  1.252614  0.937311 -0.735060\n",
       "2015-05-31  1.039116  0.675949  0.021356 -0.969792 -0.991426  1.715065\n",
       "2015-06-30 -2.315052  0.407984 -0.271221  0.516628  0.913065 -1.907068\n",
       "2015-07-31  0.521136  0.866788  0.399734  0.892011  2.104426  1.387924\n",
       "2015-08-31 -0.500195 -1.938934 -0.594108 -2.344727 -0.833046 -2.439129\n",
       "2015-09-30  0.142694  0.180279 -0.726867 -0.179593 -0.443363  0.322973\n",
       "2015-10-31  0.637735  0.287018  0.163205  0.673314  0.284388  0.924752"
      ]
     },
     "execution_count": 65,
     "metadata": {},
     "output_type": "execute_result"
    }
   ],
   "source": [
    "#New column\n",
    "df['new'] = df['a'] + df['b']\n",
    "df"
   ]
  },
  {
   "cell_type": "code",
   "execution_count": 66,
   "metadata": {},
   "outputs": [
    {
     "data": {
      "text/plain": [
       "2015-01-31    0.609627\n",
       "2015-02-28   -0.356032\n",
       "2015-03-31    3.071514\n",
       "2015-04-30   -0.735060\n",
       "2015-05-31    1.715065\n",
       "2015-06-30   -1.907068\n",
       "2015-07-31    1.387924\n",
       "2015-08-31   -2.439129\n",
       "2015-09-30    0.322973\n",
       "2015-10-31    0.924752\n",
       "Freq: M, dtype: float64"
      ]
     },
     "execution_count": 66,
     "metadata": {},
     "output_type": "execute_result"
    }
   ],
   "source": [
    "df['a'] + df['b']"
   ]
  },
  {
   "cell_type": "code",
   "execution_count": 67,
   "metadata": {
    "scrolled": true
   },
   "outputs": [],
   "source": [
    "#Delete a column\n",
    "df2 = df.drop('new', axis=1)"
   ]
  },
  {
   "cell_type": "code",
   "execution_count": 68,
   "metadata": {},
   "outputs": [
    {
     "data": {
      "text/html": [
       "<div>\n",
       "<table border=\"1\" class=\"dataframe\">\n",
       "  <thead>\n",
       "    <tr style=\"text-align: right;\">\n",
       "      <th></th>\n",
       "      <th>a</th>\n",
       "      <th>b</th>\n",
       "      <th>c</th>\n",
       "      <th>d</th>\n",
       "      <th>e</th>\n",
       "      <th>new</th>\n",
       "    </tr>\n",
       "  </thead>\n",
       "  <tbody>\n",
       "    <tr>\n",
       "      <th>2015-01-31</th>\n",
       "      <td>0.424187</td>\n",
       "      <td>0.185441</td>\n",
       "      <td>-0.891893</td>\n",
       "      <td>0.397587</td>\n",
       "      <td>0.619936</td>\n",
       "      <td>0.609627</td>\n",
       "    </tr>\n",
       "    <tr>\n",
       "      <th>2015-02-28</th>\n",
       "      <td>-0.654483</td>\n",
       "      <td>0.298451</td>\n",
       "      <td>1.940105</td>\n",
       "      <td>-0.299176</td>\n",
       "      <td>0.144280</td>\n",
       "      <td>-0.356032</td>\n",
       "    </tr>\n",
       "    <tr>\n",
       "      <th>2015-03-31</th>\n",
       "      <td>1.243162</td>\n",
       "      <td>1.828352</td>\n",
       "      <td>-1.296907</td>\n",
       "      <td>2.297991</td>\n",
       "      <td>-0.955161</td>\n",
       "      <td>3.071514</td>\n",
       "    </tr>\n",
       "    <tr>\n",
       "      <th>2015-04-30</th>\n",
       "      <td>1.203313</td>\n",
       "      <td>-1.938373</td>\n",
       "      <td>-0.394935</td>\n",
       "      <td>1.252614</td>\n",
       "      <td>0.937311</td>\n",
       "      <td>-0.735060</td>\n",
       "    </tr>\n",
       "    <tr>\n",
       "      <th>2015-05-31</th>\n",
       "      <td>1.039116</td>\n",
       "      <td>0.675949</td>\n",
       "      <td>0.021356</td>\n",
       "      <td>-0.969792</td>\n",
       "      <td>-0.991426</td>\n",
       "      <td>1.715065</td>\n",
       "    </tr>\n",
       "    <tr>\n",
       "      <th>2015-06-30</th>\n",
       "      <td>-2.315052</td>\n",
       "      <td>0.407984</td>\n",
       "      <td>-0.271221</td>\n",
       "      <td>0.516628</td>\n",
       "      <td>0.913065</td>\n",
       "      <td>-1.907068</td>\n",
       "    </tr>\n",
       "    <tr>\n",
       "      <th>2015-07-31</th>\n",
       "      <td>0.521136</td>\n",
       "      <td>0.866788</td>\n",
       "      <td>0.399734</td>\n",
       "      <td>0.892011</td>\n",
       "      <td>2.104426</td>\n",
       "      <td>1.387924</td>\n",
       "    </tr>\n",
       "    <tr>\n",
       "      <th>2015-08-31</th>\n",
       "      <td>-0.500195</td>\n",
       "      <td>-1.938934</td>\n",
       "      <td>-0.594108</td>\n",
       "      <td>-2.344727</td>\n",
       "      <td>-0.833046</td>\n",
       "      <td>-2.439129</td>\n",
       "    </tr>\n",
       "    <tr>\n",
       "      <th>2015-09-30</th>\n",
       "      <td>0.142694</td>\n",
       "      <td>0.180279</td>\n",
       "      <td>-0.726867</td>\n",
       "      <td>-0.179593</td>\n",
       "      <td>-0.443363</td>\n",
       "      <td>0.322973</td>\n",
       "    </tr>\n",
       "    <tr>\n",
       "      <th>2015-10-31</th>\n",
       "      <td>0.637735</td>\n",
       "      <td>0.287018</td>\n",
       "      <td>0.163205</td>\n",
       "      <td>0.673314</td>\n",
       "      <td>0.284388</td>\n",
       "      <td>0.924752</td>\n",
       "    </tr>\n",
       "  </tbody>\n",
       "</table>\n",
       "</div>"
      ],
      "text/plain": [
       "                   a         b         c         d         e       new\n",
       "2015-01-31  0.424187  0.185441 -0.891893  0.397587  0.619936  0.609627\n",
       "2015-02-28 -0.654483  0.298451  1.940105 -0.299176  0.144280 -0.356032\n",
       "2015-03-31  1.243162  1.828352 -1.296907  2.297991 -0.955161  3.071514\n",
       "2015-04-30  1.203313 -1.938373 -0.394935  1.252614  0.937311 -0.735060\n",
       "2015-05-31  1.039116  0.675949  0.021356 -0.969792 -0.991426  1.715065\n",
       "2015-06-30 -2.315052  0.407984 -0.271221  0.516628  0.913065 -1.907068\n",
       "2015-07-31  0.521136  0.866788  0.399734  0.892011  2.104426  1.387924\n",
       "2015-08-31 -0.500195 -1.938934 -0.594108 -2.344727 -0.833046 -2.439129\n",
       "2015-09-30  0.142694  0.180279 -0.726867 -0.179593 -0.443363  0.322973\n",
       "2015-10-31  0.637735  0.287018  0.163205  0.673314  0.284388  0.924752"
      ]
     },
     "execution_count": 68,
     "metadata": {},
     "output_type": "execute_result"
    }
   ],
   "source": [
    "df"
   ]
  },
  {
   "cell_type": "markdown",
   "metadata": {},
   "source": [
    "##Axis?\n",
    "Because pandas thinks of rows and columns as both being series, anything we can do to rows we can do to columns too. \n",
    "\n",
    "Axis describes which one we want to do it to. 0=rows, 1=columns."
   ]
  },
  {
   "cell_type": "code",
   "execution_count": 69,
   "metadata": {
    "scrolled": true
   },
   "outputs": [
    {
     "name": "stderr",
     "output_type": "stream",
     "text": [
      "/Users/dan/.virtualenvs/pandas/lib/python2.7/site-packages/ipykernel_launcher.py:1: FutureWarning: offset is deprecated. Use freq instead\n",
      "  \"\"\"Entry point for launching an IPython kernel.\n"
     ]
    },
    {
     "data": {
      "text/html": [
       "<div>\n",
       "<table border=\"1\" class=\"dataframe\">\n",
       "  <thead>\n",
       "    <tr style=\"text-align: right;\">\n",
       "      <th></th>\n",
       "      <th>a</th>\n",
       "      <th>b</th>\n",
       "      <th>c</th>\n",
       "      <th>d</th>\n",
       "      <th>e</th>\n",
       "      <th>new</th>\n",
       "    </tr>\n",
       "  </thead>\n",
       "  <tbody>\n",
       "    <tr>\n",
       "      <th>2015-01-31</th>\n",
       "      <td>0.424187</td>\n",
       "      <td>0.185441</td>\n",
       "      <td>-0.891893</td>\n",
       "      <td>0.397587</td>\n",
       "      <td>0.619936</td>\n",
       "      <td>0.609627</td>\n",
       "    </tr>\n",
       "    <tr>\n",
       "      <th>2015-02-28</th>\n",
       "      <td>-0.654483</td>\n",
       "      <td>0.298451</td>\n",
       "      <td>1.940105</td>\n",
       "      <td>-0.299176</td>\n",
       "      <td>0.144280</td>\n",
       "      <td>-0.356032</td>\n",
       "    </tr>\n",
       "    <tr>\n",
       "      <th>2015-03-31</th>\n",
       "      <td>1.243162</td>\n",
       "      <td>1.828352</td>\n",
       "      <td>-1.296907</td>\n",
       "      <td>2.297991</td>\n",
       "      <td>-0.955161</td>\n",
       "      <td>3.071514</td>\n",
       "    </tr>\n",
       "    <tr>\n",
       "      <th>2015-05-31</th>\n",
       "      <td>1.039116</td>\n",
       "      <td>0.675949</td>\n",
       "      <td>0.021356</td>\n",
       "      <td>-0.969792</td>\n",
       "      <td>-0.991426</td>\n",
       "      <td>1.715065</td>\n",
       "    </tr>\n",
       "    <tr>\n",
       "      <th>2015-06-30</th>\n",
       "      <td>-2.315052</td>\n",
       "      <td>0.407984</td>\n",
       "      <td>-0.271221</td>\n",
       "      <td>0.516628</td>\n",
       "      <td>0.913065</td>\n",
       "      <td>-1.907068</td>\n",
       "    </tr>\n",
       "    <tr>\n",
       "      <th>2015-07-31</th>\n",
       "      <td>0.521136</td>\n",
       "      <td>0.866788</td>\n",
       "      <td>0.399734</td>\n",
       "      <td>0.892011</td>\n",
       "      <td>2.104426</td>\n",
       "      <td>1.387924</td>\n",
       "    </tr>\n",
       "    <tr>\n",
       "      <th>2015-08-31</th>\n",
       "      <td>-0.500195</td>\n",
       "      <td>-1.938934</td>\n",
       "      <td>-0.594108</td>\n",
       "      <td>-2.344727</td>\n",
       "      <td>-0.833046</td>\n",
       "      <td>-2.439129</td>\n",
       "    </tr>\n",
       "    <tr>\n",
       "      <th>2015-09-30</th>\n",
       "      <td>0.142694</td>\n",
       "      <td>0.180279</td>\n",
       "      <td>-0.726867</td>\n",
       "      <td>-0.179593</td>\n",
       "      <td>-0.443363</td>\n",
       "      <td>0.322973</td>\n",
       "    </tr>\n",
       "    <tr>\n",
       "      <th>2015-10-31</th>\n",
       "      <td>0.637735</td>\n",
       "      <td>0.287018</td>\n",
       "      <td>0.163205</td>\n",
       "      <td>0.673314</td>\n",
       "      <td>0.284388</td>\n",
       "      <td>0.924752</td>\n",
       "    </tr>\n",
       "  </tbody>\n",
       "</table>\n",
       "</div>"
      ],
      "text/plain": [
       "                   a         b         c         d         e       new\n",
       "2015-01-31  0.424187  0.185441 -0.891893  0.397587  0.619936  0.609627\n",
       "2015-02-28 -0.654483  0.298451  1.940105 -0.299176  0.144280 -0.356032\n",
       "2015-03-31  1.243162  1.828352 -1.296907  2.297991 -0.955161  3.071514\n",
       "2015-05-31  1.039116  0.675949  0.021356 -0.969792 -0.991426  1.715065\n",
       "2015-06-30 -2.315052  0.407984 -0.271221  0.516628  0.913065 -1.907068\n",
       "2015-07-31  0.521136  0.866788  0.399734  0.892011  2.104426  1.387924\n",
       "2015-08-31 -0.500195 -1.938934 -0.594108 -2.344727 -0.833046 -2.439129\n",
       "2015-09-30  0.142694  0.180279 -0.726867 -0.179593 -0.443363  0.322973\n",
       "2015-10-31  0.637735  0.287018  0.163205  0.673314  0.284388  0.924752"
      ]
     },
     "execution_count": 69,
     "metadata": {},
     "output_type": "execute_result"
    }
   ],
   "source": [
    "lbl = pd.Timestamp('2015-04-30 00:00:00', offset='M')\n",
    "df.drop(lbl, axis=0)"
   ]
  },
  {
   "cell_type": "code",
   "execution_count": 70,
   "metadata": {},
   "outputs": [
    {
     "data": {
      "text/html": [
       "<div>\n",
       "<table border=\"1\" class=\"dataframe\">\n",
       "  <thead>\n",
       "    <tr style=\"text-align: right;\">\n",
       "      <th></th>\n",
       "      <th>a</th>\n",
       "      <th>b</th>\n",
       "      <th>c</th>\n",
       "      <th>d</th>\n",
       "      <th>e</th>\n",
       "      <th>new</th>\n",
       "    </tr>\n",
       "  </thead>\n",
       "  <tbody>\n",
       "    <tr>\n",
       "      <th>2015-01-31</th>\n",
       "      <td>0.424187</td>\n",
       "      <td>0.185441</td>\n",
       "      <td>-0.891893</td>\n",
       "      <td>0.397587</td>\n",
       "      <td>0.619936</td>\n",
       "      <td>0.609627</td>\n",
       "    </tr>\n",
       "    <tr>\n",
       "      <th>2015-02-28</th>\n",
       "      <td>-0.654483</td>\n",
       "      <td>0.298451</td>\n",
       "      <td>1.940105</td>\n",
       "      <td>-0.299176</td>\n",
       "      <td>0.144280</td>\n",
       "      <td>-0.356032</td>\n",
       "    </tr>\n",
       "    <tr>\n",
       "      <th>2015-03-31</th>\n",
       "      <td>1.243162</td>\n",
       "      <td>1.828352</td>\n",
       "      <td>-1.296907</td>\n",
       "      <td>2.297991</td>\n",
       "      <td>-0.955161</td>\n",
       "      <td>3.071514</td>\n",
       "    </tr>\n",
       "    <tr>\n",
       "      <th>2015-04-30</th>\n",
       "      <td>1.203313</td>\n",
       "      <td>-1.938373</td>\n",
       "      <td>-0.394935</td>\n",
       "      <td>1.252614</td>\n",
       "      <td>0.937311</td>\n",
       "      <td>-0.735060</td>\n",
       "    </tr>\n",
       "    <tr>\n",
       "      <th>2015-05-31</th>\n",
       "      <td>1.039116</td>\n",
       "      <td>0.675949</td>\n",
       "      <td>0.021356</td>\n",
       "      <td>-0.969792</td>\n",
       "      <td>-0.991426</td>\n",
       "      <td>1.715065</td>\n",
       "    </tr>\n",
       "    <tr>\n",
       "      <th>2015-06-30</th>\n",
       "      <td>-2.315052</td>\n",
       "      <td>0.407984</td>\n",
       "      <td>-0.271221</td>\n",
       "      <td>0.516628</td>\n",
       "      <td>0.913065</td>\n",
       "      <td>-1.907068</td>\n",
       "    </tr>\n",
       "    <tr>\n",
       "      <th>2015-07-31</th>\n",
       "      <td>0.521136</td>\n",
       "      <td>0.866788</td>\n",
       "      <td>0.399734</td>\n",
       "      <td>0.892011</td>\n",
       "      <td>2.104426</td>\n",
       "      <td>1.387924</td>\n",
       "    </tr>\n",
       "    <tr>\n",
       "      <th>2015-08-31</th>\n",
       "      <td>-0.500195</td>\n",
       "      <td>-1.938934</td>\n",
       "      <td>-0.594108</td>\n",
       "      <td>-2.344727</td>\n",
       "      <td>-0.833046</td>\n",
       "      <td>-2.439129</td>\n",
       "    </tr>\n",
       "    <tr>\n",
       "      <th>2015-09-30</th>\n",
       "      <td>0.142694</td>\n",
       "      <td>0.180279</td>\n",
       "      <td>-0.726867</td>\n",
       "      <td>-0.179593</td>\n",
       "      <td>-0.443363</td>\n",
       "      <td>0.322973</td>\n",
       "    </tr>\n",
       "    <tr>\n",
       "      <th>2015-10-31</th>\n",
       "      <td>0.637735</td>\n",
       "      <td>0.287018</td>\n",
       "      <td>0.163205</td>\n",
       "      <td>0.673314</td>\n",
       "      <td>0.284388</td>\n",
       "      <td>0.924752</td>\n",
       "    </tr>\n",
       "  </tbody>\n",
       "</table>\n",
       "</div>"
      ],
      "text/plain": [
       "                   a         b         c         d         e       new\n",
       "2015-01-31  0.424187  0.185441 -0.891893  0.397587  0.619936  0.609627\n",
       "2015-02-28 -0.654483  0.298451  1.940105 -0.299176  0.144280 -0.356032\n",
       "2015-03-31  1.243162  1.828352 -1.296907  2.297991 -0.955161  3.071514\n",
       "2015-04-30  1.203313 -1.938373 -0.394935  1.252614  0.937311 -0.735060\n",
       "2015-05-31  1.039116  0.675949  0.021356 -0.969792 -0.991426  1.715065\n",
       "2015-06-30 -2.315052  0.407984 -0.271221  0.516628  0.913065 -1.907068\n",
       "2015-07-31  0.521136  0.866788  0.399734  0.892011  2.104426  1.387924\n",
       "2015-08-31 -0.500195 -1.938934 -0.594108 -2.344727 -0.833046 -2.439129\n",
       "2015-09-30  0.142694  0.180279 -0.726867 -0.179593 -0.443363  0.322973\n",
       "2015-10-31  0.637735  0.287018  0.163205  0.673314  0.284388  0.924752"
      ]
     },
     "execution_count": 70,
     "metadata": {},
     "output_type": "execute_result"
    }
   ],
   "source": [
    "df"
   ]
  },
  {
   "cell_type": "markdown",
   "metadata": {},
   "source": [
    "#Selecting subsets.\n",
    "There a couple of ways to select a subset of a python data frame."
   ]
  },
  {
   "cell_type": "code",
   "execution_count": 71,
   "metadata": {},
   "outputs": [
    {
     "data": {
      "text/html": [
       "<div>\n",
       "<table border=\"1\" class=\"dataframe\">\n",
       "  <thead>\n",
       "    <tr style=\"text-align: right;\">\n",
       "      <th></th>\n",
       "      <th>a</th>\n",
       "      <th>b</th>\n",
       "      <th>c</th>\n",
       "      <th>d</th>\n",
       "      <th>e</th>\n",
       "      <th>new</th>\n",
       "    </tr>\n",
       "  </thead>\n",
       "  <tbody>\n",
       "    <tr>\n",
       "      <th>2015-01-31</th>\n",
       "      <td>0.424187</td>\n",
       "      <td>0.185441</td>\n",
       "      <td>-0.891893</td>\n",
       "      <td>0.397587</td>\n",
       "      <td>0.619936</td>\n",
       "      <td>0.609627</td>\n",
       "    </tr>\n",
       "    <tr>\n",
       "      <th>2015-03-31</th>\n",
       "      <td>1.243162</td>\n",
       "      <td>1.828352</td>\n",
       "      <td>-1.296907</td>\n",
       "      <td>2.297991</td>\n",
       "      <td>-0.955161</td>\n",
       "      <td>3.071514</td>\n",
       "    </tr>\n",
       "    <tr>\n",
       "      <th>2015-04-30</th>\n",
       "      <td>1.203313</td>\n",
       "      <td>-1.938373</td>\n",
       "      <td>-0.394935</td>\n",
       "      <td>1.252614</td>\n",
       "      <td>0.937311</td>\n",
       "      <td>-0.735060</td>\n",
       "    </tr>\n",
       "    <tr>\n",
       "      <th>2015-05-31</th>\n",
       "      <td>1.039116</td>\n",
       "      <td>0.675949</td>\n",
       "      <td>0.021356</td>\n",
       "      <td>-0.969792</td>\n",
       "      <td>-0.991426</td>\n",
       "      <td>1.715065</td>\n",
       "    </tr>\n",
       "    <tr>\n",
       "      <th>2015-07-31</th>\n",
       "      <td>0.521136</td>\n",
       "      <td>0.866788</td>\n",
       "      <td>0.399734</td>\n",
       "      <td>0.892011</td>\n",
       "      <td>2.104426</td>\n",
       "      <td>1.387924</td>\n",
       "    </tr>\n",
       "    <tr>\n",
       "      <th>2015-09-30</th>\n",
       "      <td>0.142694</td>\n",
       "      <td>0.180279</td>\n",
       "      <td>-0.726867</td>\n",
       "      <td>-0.179593</td>\n",
       "      <td>-0.443363</td>\n",
       "      <td>0.322973</td>\n",
       "    </tr>\n",
       "    <tr>\n",
       "      <th>2015-10-31</th>\n",
       "      <td>0.637735</td>\n",
       "      <td>0.287018</td>\n",
       "      <td>0.163205</td>\n",
       "      <td>0.673314</td>\n",
       "      <td>0.284388</td>\n",
       "      <td>0.924752</td>\n",
       "    </tr>\n",
       "  </tbody>\n",
       "</table>\n",
       "</div>"
      ],
      "text/plain": [
       "                   a         b         c         d         e       new\n",
       "2015-01-31  0.424187  0.185441 -0.891893  0.397587  0.619936  0.609627\n",
       "2015-03-31  1.243162  1.828352 -1.296907  2.297991 -0.955161  3.071514\n",
       "2015-04-30  1.203313 -1.938373 -0.394935  1.252614  0.937311 -0.735060\n",
       "2015-05-31  1.039116  0.675949  0.021356 -0.969792 -0.991426  1.715065\n",
       "2015-07-31  0.521136  0.866788  0.399734  0.892011  2.104426  1.387924\n",
       "2015-09-30  0.142694  0.180279 -0.726867 -0.179593 -0.443363  0.322973\n",
       "2015-10-31  0.637735  0.287018  0.163205  0.673314  0.284388  0.924752"
      ]
     },
     "execution_count": 71,
     "metadata": {},
     "output_type": "execute_result"
    }
   ],
   "source": [
    "#To subset the rows, you can use the convenient:\n",
    "df[df['a'] > 0]"
   ]
  },
  {
   "cell_type": "code",
   "execution_count": 72,
   "metadata": {},
   "outputs": [
    {
     "data": {
      "text/html": [
       "<div>\n",
       "<table border=\"1\" class=\"dataframe\">\n",
       "  <thead>\n",
       "    <tr style=\"text-align: right;\">\n",
       "      <th></th>\n",
       "      <th>a</th>\n",
       "      <th>b</th>\n",
       "      <th>c</th>\n",
       "      <th>d</th>\n",
       "      <th>e</th>\n",
       "      <th>new</th>\n",
       "    </tr>\n",
       "  </thead>\n",
       "  <tbody>\n",
       "    <tr>\n",
       "      <th>2015-01-31</th>\n",
       "      <td>0.424187</td>\n",
       "      <td>0.185441</td>\n",
       "      <td>-0.891893</td>\n",
       "      <td>0.397587</td>\n",
       "      <td>0.619936</td>\n",
       "      <td>0.609627</td>\n",
       "    </tr>\n",
       "    <tr>\n",
       "      <th>2015-03-31</th>\n",
       "      <td>1.243162</td>\n",
       "      <td>1.828352</td>\n",
       "      <td>-1.296907</td>\n",
       "      <td>2.297991</td>\n",
       "      <td>-0.955161</td>\n",
       "      <td>3.071514</td>\n",
       "    </tr>\n",
       "    <tr>\n",
       "      <th>2015-04-30</th>\n",
       "      <td>1.203313</td>\n",
       "      <td>-1.938373</td>\n",
       "      <td>-0.394935</td>\n",
       "      <td>1.252614</td>\n",
       "      <td>0.937311</td>\n",
       "      <td>-0.735060</td>\n",
       "    </tr>\n",
       "    <tr>\n",
       "      <th>2015-09-30</th>\n",
       "      <td>0.142694</td>\n",
       "      <td>0.180279</td>\n",
       "      <td>-0.726867</td>\n",
       "      <td>-0.179593</td>\n",
       "      <td>-0.443363</td>\n",
       "      <td>0.322973</td>\n",
       "    </tr>\n",
       "  </tbody>\n",
       "</table>\n",
       "</div>"
      ],
      "text/plain": [
       "                   a         b         c         d         e       new\n",
       "2015-01-31  0.424187  0.185441 -0.891893  0.397587  0.619936  0.609627\n",
       "2015-03-31  1.243162  1.828352 -1.296907  2.297991 -0.955161  3.071514\n",
       "2015-04-30  1.203313 -1.938373 -0.394935  1.252614  0.937311 -0.735060\n",
       "2015-09-30  0.142694  0.180279 -0.726867 -0.179593 -0.443363  0.322973"
      ]
     },
     "execution_count": 72,
     "metadata": {},
     "output_type": "execute_result"
    }
   ],
   "source": [
    "#Or combine multiple conditions:\n",
    "df[(df.a > 0) & (df.c < 0)]"
   ]
  },
  {
   "cell_type": "code",
   "execution_count": 73,
   "metadata": {},
   "outputs": [
    {
     "data": {
      "text/plain": [
       "2015-01-31    0.424187\n",
       "2015-02-28   -0.654483\n",
       "2015-03-31    1.243162\n",
       "2015-04-30    1.203313\n",
       "2015-05-31    1.039116\n",
       "2015-06-30   -2.315052\n",
       "2015-07-31    0.521136\n",
       "2015-08-31   -0.500195\n",
       "2015-09-30    0.142694\n",
       "2015-10-31    0.637735\n",
       "Freq: M, Name: a, dtype: float64"
      ]
     },
     "execution_count": 73,
     "metadata": {},
     "output_type": "execute_result"
    }
   ],
   "source": [
    "#Selecting a column\n",
    "df.a\n",
    "#Works sometimes."
   ]
  },
  {
   "cell_type": "code",
   "execution_count": 74,
   "metadata": {},
   "outputs": [
    {
     "data": {
      "text/plain": [
       "2015-01-31    0.424187\n",
       "2015-02-28   -0.654483\n",
       "2015-03-31    1.243162\n",
       "2015-04-30    1.203313\n",
       "2015-05-31    1.039116\n",
       "2015-06-30   -2.315052\n",
       "2015-07-31    0.521136\n",
       "2015-08-31   -0.500195\n",
       "2015-09-30    0.142694\n",
       "2015-10-31    0.637735\n",
       "Freq: M, Name: a, dtype: float64"
      ]
     },
     "execution_count": 74,
     "metadata": {},
     "output_type": "execute_result"
    }
   ],
   "source": [
    "df['a'] #works always"
   ]
  },
  {
   "cell_type": "code",
   "execution_count": 75,
   "metadata": {},
   "outputs": [
    {
     "data": {
      "text/html": [
       "<div>\n",
       "<table border=\"1\" class=\"dataframe\">\n",
       "  <thead>\n",
       "    <tr style=\"text-align: right;\">\n",
       "      <th></th>\n",
       "      <th>a</th>\n",
       "      <th>b</th>\n",
       "    </tr>\n",
       "  </thead>\n",
       "  <tbody>\n",
       "    <tr>\n",
       "      <th>2015-01-31</th>\n",
       "      <td>0.424187</td>\n",
       "      <td>0.185441</td>\n",
       "    </tr>\n",
       "    <tr>\n",
       "      <th>2015-02-28</th>\n",
       "      <td>-0.654483</td>\n",
       "      <td>0.298451</td>\n",
       "    </tr>\n",
       "    <tr>\n",
       "      <th>2015-03-31</th>\n",
       "      <td>1.243162</td>\n",
       "      <td>1.828352</td>\n",
       "    </tr>\n",
       "    <tr>\n",
       "      <th>2015-04-30</th>\n",
       "      <td>1.203313</td>\n",
       "      <td>-1.938373</td>\n",
       "    </tr>\n",
       "    <tr>\n",
       "      <th>2015-05-31</th>\n",
       "      <td>1.039116</td>\n",
       "      <td>0.675949</td>\n",
       "    </tr>\n",
       "    <tr>\n",
       "      <th>2015-06-30</th>\n",
       "      <td>-2.315052</td>\n",
       "      <td>0.407984</td>\n",
       "    </tr>\n",
       "    <tr>\n",
       "      <th>2015-07-31</th>\n",
       "      <td>0.521136</td>\n",
       "      <td>0.866788</td>\n",
       "    </tr>\n",
       "    <tr>\n",
       "      <th>2015-08-31</th>\n",
       "      <td>-0.500195</td>\n",
       "      <td>-1.938934</td>\n",
       "    </tr>\n",
       "    <tr>\n",
       "      <th>2015-09-30</th>\n",
       "      <td>0.142694</td>\n",
       "      <td>0.180279</td>\n",
       "    </tr>\n",
       "    <tr>\n",
       "      <th>2015-10-31</th>\n",
       "      <td>0.637735</td>\n",
       "      <td>0.287018</td>\n",
       "    </tr>\n",
       "  </tbody>\n",
       "</table>\n",
       "</div>"
      ],
      "text/plain": [
       "                   a         b\n",
       "2015-01-31  0.424187  0.185441\n",
       "2015-02-28 -0.654483  0.298451\n",
       "2015-03-31  1.243162  1.828352\n",
       "2015-04-30  1.203313 -1.938373\n",
       "2015-05-31  1.039116  0.675949\n",
       "2015-06-30 -2.315052  0.407984\n",
       "2015-07-31  0.521136  0.866788\n",
       "2015-08-31 -0.500195 -1.938934\n",
       "2015-09-30  0.142694  0.180279\n",
       "2015-10-31  0.637735  0.287018"
      ]
     },
     "execution_count": 75,
     "metadata": {},
     "output_type": "execute_result"
    }
   ],
   "source": [
    "df[['a', 'b']]\n",
    "#Or a subset of columns"
   ]
  },
  {
   "cell_type": "markdown",
   "metadata": {},
   "source": [
    "#Advanced selection.\n",
    "The above methods work for simple types of selections, but what if you need something more complex?"
   ]
  },
  {
   "cell_type": "code",
   "execution_count": 76,
   "metadata": {},
   "outputs": [
    {
     "data": {
      "text/html": [
       "<div>\n",
       "<table border=\"1\" class=\"dataframe\">\n",
       "  <thead>\n",
       "    <tr style=\"text-align: right;\">\n",
       "      <th></th>\n",
       "      <th>c</th>\n",
       "      <th>d</th>\n",
       "      <th>e</th>\n",
       "    </tr>\n",
       "  </thead>\n",
       "  <tbody>\n",
       "    <tr>\n",
       "      <th>2015-05-31</th>\n",
       "      <td>0.021356</td>\n",
       "      <td>-0.969792</td>\n",
       "      <td>-0.991426</td>\n",
       "    </tr>\n",
       "    <tr>\n",
       "      <th>2015-06-30</th>\n",
       "      <td>-0.271221</td>\n",
       "      <td>0.516628</td>\n",
       "      <td>0.913065</td>\n",
       "    </tr>\n",
       "    <tr>\n",
       "      <th>2015-07-31</th>\n",
       "      <td>0.399734</td>\n",
       "      <td>0.892011</td>\n",
       "      <td>2.104426</td>\n",
       "    </tr>\n",
       "    <tr>\n",
       "      <th>2015-08-31</th>\n",
       "      <td>-0.594108</td>\n",
       "      <td>-2.344727</td>\n",
       "      <td>-0.833046</td>\n",
       "    </tr>\n",
       "  </tbody>\n",
       "</table>\n",
       "</div>"
      ],
      "text/plain": [
       "                   c         d         e\n",
       "2015-05-31  0.021356 -0.969792 -0.991426\n",
       "2015-06-30 -0.271221  0.516628  0.913065\n",
       "2015-07-31  0.399734  0.892011  2.104426\n",
       "2015-08-31 -0.594108 -2.344727 -0.833046"
      ]
     },
     "execution_count": 76,
     "metadata": {},
     "output_type": "execute_result"
    }
   ],
   "source": [
    "df.loc['2015-05-31':'2015-08-31', 'c':'e'] #Ranges by label."
   ]
  },
  {
   "cell_type": "code",
   "execution_count": 77,
   "metadata": {},
   "outputs": [
    {
     "data": {
      "text/html": [
       "<div>\n",
       "<table border=\"1\" class=\"dataframe\">\n",
       "  <thead>\n",
       "    <tr style=\"text-align: right;\">\n",
       "      <th></th>\n",
       "      <th>c</th>\n",
       "      <th>d</th>\n",
       "      <th>e</th>\n",
       "    </tr>\n",
       "  </thead>\n",
       "  <tbody>\n",
       "    <tr>\n",
       "      <th>2015-03-31</th>\n",
       "      <td>-1.296907</td>\n",
       "      <td>2.297991</td>\n",
       "      <td>-0.955161</td>\n",
       "    </tr>\n",
       "    <tr>\n",
       "      <th>2015-04-30</th>\n",
       "      <td>-0.394935</td>\n",
       "      <td>1.252614</td>\n",
       "      <td>0.937311</td>\n",
       "    </tr>\n",
       "    <tr>\n",
       "      <th>2015-05-31</th>\n",
       "      <td>0.021356</td>\n",
       "      <td>-0.969792</td>\n",
       "      <td>-0.991426</td>\n",
       "    </tr>\n",
       "    <tr>\n",
       "      <th>2015-06-30</th>\n",
       "      <td>-0.271221</td>\n",
       "      <td>0.516628</td>\n",
       "      <td>0.913065</td>\n",
       "    </tr>\n",
       "    <tr>\n",
       "      <th>2015-07-31</th>\n",
       "      <td>0.399734</td>\n",
       "      <td>0.892011</td>\n",
       "      <td>2.104426</td>\n",
       "    </tr>\n",
       "  </tbody>\n",
       "</table>\n",
       "</div>"
      ],
      "text/plain": [
       "                   c         d         e\n",
       "2015-03-31 -1.296907  2.297991 -0.955161\n",
       "2015-04-30 -0.394935  1.252614  0.937311\n",
       "2015-05-31  0.021356 -0.969792 -0.991426\n",
       "2015-06-30 -0.271221  0.516628  0.913065\n",
       "2015-07-31  0.399734  0.892011  2.104426"
      ]
     },
     "execution_count": 77,
     "metadata": {},
     "output_type": "execute_result"
    }
   ],
   "source": [
    "df.iloc[2:-3,2:5] #Ranges by number."
   ]
  },
  {
   "cell_type": "code",
   "execution_count": 78,
   "metadata": {},
   "outputs": [
    {
     "data": {
      "text/html": [
       "<div>\n",
       "<table border=\"1\" class=\"dataframe\">\n",
       "  <thead>\n",
       "    <tr style=\"text-align: right;\">\n",
       "      <th></th>\n",
       "      <th>a</th>\n",
       "      <th>b</th>\n",
       "      <th>c</th>\n",
       "      <th>d</th>\n",
       "      <th>e</th>\n",
       "      <th>new</th>\n",
       "    </tr>\n",
       "  </thead>\n",
       "  <tbody>\n",
       "    <tr>\n",
       "      <th>2015-03-31</th>\n",
       "      <td>1.243162</td>\n",
       "      <td>1.828352</td>\n",
       "      <td>-1.296907</td>\n",
       "      <td>2.297991</td>\n",
       "      <td>-0.955161</td>\n",
       "      <td>3.071514</td>\n",
       "    </tr>\n",
       "    <tr>\n",
       "      <th>2015-04-30</th>\n",
       "      <td>1.203313</td>\n",
       "      <td>-1.938373</td>\n",
       "      <td>-0.394935</td>\n",
       "      <td>1.252614</td>\n",
       "      <td>0.937311</td>\n",
       "      <td>-0.735060</td>\n",
       "    </tr>\n",
       "    <tr>\n",
       "      <th>2015-05-31</th>\n",
       "      <td>1.039116</td>\n",
       "      <td>0.675949</td>\n",
       "      <td>0.021356</td>\n",
       "      <td>-0.969792</td>\n",
       "      <td>-0.991426</td>\n",
       "      <td>1.715065</td>\n",
       "    </tr>\n",
       "  </tbody>\n",
       "</table>\n",
       "</div>"
      ],
      "text/plain": [
       "                   a         b         c         d         e       new\n",
       "2015-03-31  1.243162  1.828352 -1.296907  2.297991 -0.955161  3.071514\n",
       "2015-04-30  1.203313 -1.938373 -0.394935  1.252614  0.937311 -0.735060\n",
       "2015-05-31  1.039116  0.675949  0.021356 -0.969792 -0.991426  1.715065"
      ]
     },
     "execution_count": 78,
     "metadata": {},
     "output_type": "execute_result"
    }
   ],
   "source": [
    "#SQL-like queries for parsimonious row selection.\n",
    "#Experimental\n",
    "df.query('a > 1 and c <1')"
   ]
  },
  {
   "cell_type": "code",
   "execution_count": 79,
   "metadata": {
    "collapsed": true
   },
   "outputs": [],
   "source": [
    "#Multi Index:\n",
    "dt_index = pd.date_range('2015-1-1', \n",
    "                        '2017-7-1', \n",
    "                        freq='m')\n",
    "df = pd.DataFrame(randn(30,5), index=dt_index)"
   ]
  },
  {
   "cell_type": "code",
   "execution_count": 80,
   "metadata": {},
   "outputs": [
    {
     "data": {
      "text/html": [
       "<div>\n",
       "<table border=\"1\" class=\"dataframe\">\n",
       "  <thead>\n",
       "    <tr style=\"text-align: right;\">\n",
       "      <th></th>\n",
       "      <th>0</th>\n",
       "      <th>1</th>\n",
       "      <th>2</th>\n",
       "      <th>3</th>\n",
       "      <th>4</th>\n",
       "      <th>state</th>\n",
       "    </tr>\n",
       "  </thead>\n",
       "  <tbody>\n",
       "    <tr>\n",
       "      <th>2015-01-31</th>\n",
       "      <td>-1.535318</td>\n",
       "      <td>-0.659581</td>\n",
       "      <td>-2.059859</td>\n",
       "      <td>-0.095004</td>\n",
       "      <td>0.052339</td>\n",
       "      <td>Alabama</td>\n",
       "    </tr>\n",
       "    <tr>\n",
       "      <th>2015-02-28</th>\n",
       "      <td>0.957904</td>\n",
       "      <td>-0.614561</td>\n",
       "      <td>-2.051313</td>\n",
       "      <td>-0.172500</td>\n",
       "      <td>0.382566</td>\n",
       "      <td>Alaska</td>\n",
       "    </tr>\n",
       "    <tr>\n",
       "      <th>2015-03-31</th>\n",
       "      <td>0.683149</td>\n",
       "      <td>0.361947</td>\n",
       "      <td>0.330422</td>\n",
       "      <td>-0.992731</td>\n",
       "      <td>-2.562506</td>\n",
       "      <td>Arizona</td>\n",
       "    </tr>\n",
       "    <tr>\n",
       "      <th>2015-04-30</th>\n",
       "      <td>1.463378</td>\n",
       "      <td>0.499032</td>\n",
       "      <td>-0.244120</td>\n",
       "      <td>0.030788</td>\n",
       "      <td>-1.118923</td>\n",
       "      <td>Alabama</td>\n",
       "    </tr>\n",
       "    <tr>\n",
       "      <th>2015-05-31</th>\n",
       "      <td>0.906240</td>\n",
       "      <td>-1.118386</td>\n",
       "      <td>-1.015312</td>\n",
       "      <td>-0.705858</td>\n",
       "      <td>-2.179260</td>\n",
       "      <td>Alaska</td>\n",
       "    </tr>\n",
       "  </tbody>\n",
       "</table>\n",
       "</div>"
      ],
      "text/plain": [
       "                   0         1         2         3         4    state\n",
       "2015-01-31 -1.535318 -0.659581 -2.059859 -0.095004  0.052339  Alabama\n",
       "2015-02-28  0.957904 -0.614561 -2.051313 -0.172500  0.382566   Alaska\n",
       "2015-03-31  0.683149  0.361947  0.330422 -0.992731 -2.562506  Arizona\n",
       "2015-04-30  1.463378  0.499032 -0.244120  0.030788 -1.118923  Alabama\n",
       "2015-05-31  0.906240 -1.118386 -1.015312 -0.705858 -2.179260   Alaska"
      ]
     },
     "execution_count": 80,
     "metadata": {},
     "output_type": "execute_result"
    }
   ],
   "source": [
    "df['state'] = ['Alabama', 'Alaska' , 'Arizona'] * 10\n",
    "df.head()"
   ]
  },
  {
   "cell_type": "code",
   "execution_count": 81,
   "metadata": {},
   "outputs": [
    {
     "data": {
      "text/html": [
       "<div>\n",
       "<table border=\"1\" class=\"dataframe\">\n",
       "  <thead>\n",
       "    <tr style=\"text-align: right;\">\n",
       "      <th></th>\n",
       "      <th></th>\n",
       "      <th>0</th>\n",
       "      <th>1</th>\n",
       "      <th>2</th>\n",
       "      <th>3</th>\n",
       "      <th>4</th>\n",
       "    </tr>\n",
       "    <tr>\n",
       "      <th>state</th>\n",
       "      <th>index</th>\n",
       "      <th></th>\n",
       "      <th></th>\n",
       "      <th></th>\n",
       "      <th></th>\n",
       "      <th></th>\n",
       "    </tr>\n",
       "  </thead>\n",
       "  <tbody>\n",
       "    <tr>\n",
       "      <th>Alabama</th>\n",
       "      <th>2015-01-31</th>\n",
       "      <td>-1.535318</td>\n",
       "      <td>-0.659581</td>\n",
       "      <td>-2.059859</td>\n",
       "      <td>-0.095004</td>\n",
       "      <td>0.052339</td>\n",
       "    </tr>\n",
       "    <tr>\n",
       "      <th>Alaska</th>\n",
       "      <th>2015-02-28</th>\n",
       "      <td>0.957904</td>\n",
       "      <td>-0.614561</td>\n",
       "      <td>-2.051313</td>\n",
       "      <td>-0.172500</td>\n",
       "      <td>0.382566</td>\n",
       "    </tr>\n",
       "    <tr>\n",
       "      <th>Arizona</th>\n",
       "      <th>2015-03-31</th>\n",
       "      <td>0.683149</td>\n",
       "      <td>0.361947</td>\n",
       "      <td>0.330422</td>\n",
       "      <td>-0.992731</td>\n",
       "      <td>-2.562506</td>\n",
       "    </tr>\n",
       "    <tr>\n",
       "      <th>Alabama</th>\n",
       "      <th>2015-04-30</th>\n",
       "      <td>1.463378</td>\n",
       "      <td>0.499032</td>\n",
       "      <td>-0.244120</td>\n",
       "      <td>0.030788</td>\n",
       "      <td>-1.118923</td>\n",
       "    </tr>\n",
       "    <tr>\n",
       "      <th>Alaska</th>\n",
       "      <th>2015-05-31</th>\n",
       "      <td>0.906240</td>\n",
       "      <td>-1.118386</td>\n",
       "      <td>-1.015312</td>\n",
       "      <td>-0.705858</td>\n",
       "      <td>-2.179260</td>\n",
       "    </tr>\n",
       "  </tbody>\n",
       "</table>\n",
       "</div>"
      ],
      "text/plain": [
       "                           0         1         2         3         4\n",
       "state   index                                                       \n",
       "Alabama 2015-01-31 -1.535318 -0.659581 -2.059859 -0.095004  0.052339\n",
       "Alaska  2015-02-28  0.957904 -0.614561 -2.051313 -0.172500  0.382566\n",
       "Arizona 2015-03-31  0.683149  0.361947  0.330422 -0.992731 -2.562506\n",
       "Alabama 2015-04-30  1.463378  0.499032 -0.244120  0.030788 -1.118923\n",
       "Alaska  2015-05-31  0.906240 -1.118386 -1.015312 -0.705858 -2.179260"
      ]
     },
     "execution_count": 81,
     "metadata": {},
     "output_type": "execute_result"
    }
   ],
   "source": [
    "df = df.reset_index()\n",
    "df = df.set_index(['state', 'index'])\n",
    "df.head()"
   ]
  },
  {
   "cell_type": "code",
   "execution_count": 82,
   "metadata": {},
   "outputs": [
    {
     "data": {
      "text/html": [
       "<div>\n",
       "<table border=\"1\" class=\"dataframe\">\n",
       "  <thead>\n",
       "    <tr style=\"text-align: right;\">\n",
       "      <th></th>\n",
       "      <th>0</th>\n",
       "      <th>1</th>\n",
       "      <th>2</th>\n",
       "      <th>3</th>\n",
       "      <th>4</th>\n",
       "    </tr>\n",
       "    <tr>\n",
       "      <th>index</th>\n",
       "      <th></th>\n",
       "      <th></th>\n",
       "      <th></th>\n",
       "      <th></th>\n",
       "      <th></th>\n",
       "    </tr>\n",
       "  </thead>\n",
       "  <tbody>\n",
       "    <tr>\n",
       "      <th>2015-01-31</th>\n",
       "      <td>-1.535318</td>\n",
       "      <td>-0.659581</td>\n",
       "      <td>-2.059859</td>\n",
       "      <td>-0.095004</td>\n",
       "      <td>0.052339</td>\n",
       "    </tr>\n",
       "    <tr>\n",
       "      <th>2015-04-30</th>\n",
       "      <td>1.463378</td>\n",
       "      <td>0.499032</td>\n",
       "      <td>-0.244120</td>\n",
       "      <td>0.030788</td>\n",
       "      <td>-1.118923</td>\n",
       "    </tr>\n",
       "    <tr>\n",
       "      <th>2015-07-31</th>\n",
       "      <td>-1.815991</td>\n",
       "      <td>-0.176974</td>\n",
       "      <td>1.114214</td>\n",
       "      <td>0.906525</td>\n",
       "      <td>0.682195</td>\n",
       "    </tr>\n",
       "    <tr>\n",
       "      <th>2015-10-31</th>\n",
       "      <td>-1.320991</td>\n",
       "      <td>-0.039426</td>\n",
       "      <td>0.375936</td>\n",
       "      <td>0.335449</td>\n",
       "      <td>1.759226</td>\n",
       "    </tr>\n",
       "    <tr>\n",
       "      <th>2016-01-31</th>\n",
       "      <td>0.400241</td>\n",
       "      <td>0.535632</td>\n",
       "      <td>0.408407</td>\n",
       "      <td>0.441412</td>\n",
       "      <td>1.553293</td>\n",
       "    </tr>\n",
       "  </tbody>\n",
       "</table>\n",
       "</div>"
      ],
      "text/plain": [
       "                   0         1         2         3         4\n",
       "index                                                       \n",
       "2015-01-31 -1.535318 -0.659581 -2.059859 -0.095004  0.052339\n",
       "2015-04-30  1.463378  0.499032 -0.244120  0.030788 -1.118923\n",
       "2015-07-31 -1.815991 -0.176974  1.114214  0.906525  0.682195\n",
       "2015-10-31 -1.320991 -0.039426  0.375936  0.335449  1.759226\n",
       "2016-01-31  0.400241  0.535632  0.408407  0.441412  1.553293"
      ]
     },
     "execution_count": 82,
     "metadata": {},
     "output_type": "execute_result"
    }
   ],
   "source": [
    "df.loc['Alabama'].head()"
   ]
  },
  {
   "cell_type": "code",
   "execution_count": 83,
   "metadata": {},
   "outputs": [
    {
     "ename": "KeyError",
     "evalue": "'the label [2015-01-31] is not in the [index]'",
     "output_type": "error",
     "traceback": [
      "\u001b[0;31m-------------------------------------------------------------\u001b[0m",
      "\u001b[0;31mKeyError\u001b[0m                    Traceback (most recent call last)",
      "\u001b[0;32m<ipython-input-83-5a5a10bc40e7>\u001b[0m in \u001b[0;36m<module>\u001b[0;34m()\u001b[0m\n\u001b[0;32m----> 1\u001b[0;31m \u001b[0mdf\u001b[0m\u001b[0;34m.\u001b[0m\u001b[0mloc\u001b[0m\u001b[0;34m[\u001b[0m\u001b[0;34m'2015-01-31'\u001b[0m\u001b[0;34m]\u001b[0m \u001b[0;31m#Doesn't work.\u001b[0m\u001b[0;34m\u001b[0m\u001b[0m\n\u001b[0m",
      "\u001b[0;32m/Users/dan/.virtualenvs/pandas/lib/python2.7/site-packages/pandas/core/indexing.pyc\u001b[0m in \u001b[0;36m__getitem__\u001b[0;34m(self, key)\u001b[0m\n\u001b[1;32m   1310\u001b[0m             \u001b[0;32mreturn\u001b[0m \u001b[0mself\u001b[0m\u001b[0;34m.\u001b[0m\u001b[0m_getitem_tuple\u001b[0m\u001b[0;34m(\u001b[0m\u001b[0mkey\u001b[0m\u001b[0;34m)\u001b[0m\u001b[0;34m\u001b[0m\u001b[0m\n\u001b[1;32m   1311\u001b[0m         \u001b[0;32melse\u001b[0m\u001b[0;34m:\u001b[0m\u001b[0;34m\u001b[0m\u001b[0m\n\u001b[0;32m-> 1312\u001b[0;31m             \u001b[0;32mreturn\u001b[0m \u001b[0mself\u001b[0m\u001b[0;34m.\u001b[0m\u001b[0m_getitem_axis\u001b[0m\u001b[0;34m(\u001b[0m\u001b[0mkey\u001b[0m\u001b[0;34m,\u001b[0m \u001b[0maxis\u001b[0m\u001b[0;34m=\u001b[0m\u001b[0;36m0\u001b[0m\u001b[0;34m)\u001b[0m\u001b[0;34m\u001b[0m\u001b[0m\n\u001b[0m\u001b[1;32m   1313\u001b[0m \u001b[0;34m\u001b[0m\u001b[0m\n\u001b[1;32m   1314\u001b[0m     \u001b[0;32mdef\u001b[0m \u001b[0m_getitem_axis\u001b[0m\u001b[0;34m(\u001b[0m\u001b[0mself\u001b[0m\u001b[0;34m,\u001b[0m \u001b[0mkey\u001b[0m\u001b[0;34m,\u001b[0m \u001b[0maxis\u001b[0m\u001b[0;34m=\u001b[0m\u001b[0;36m0\u001b[0m\u001b[0;34m)\u001b[0m\u001b[0;34m:\u001b[0m\u001b[0;34m\u001b[0m\u001b[0m\n",
      "\u001b[0;32m/Users/dan/.virtualenvs/pandas/lib/python2.7/site-packages/pandas/core/indexing.pyc\u001b[0m in \u001b[0;36m_getitem_axis\u001b[0;34m(self, key, axis)\u001b[0m\n\u001b[1;32m   1480\u001b[0m \u001b[0;34m\u001b[0m\u001b[0m\n\u001b[1;32m   1481\u001b[0m         \u001b[0;31m# fall thru to straight lookup\u001b[0m\u001b[0;34m\u001b[0m\u001b[0;34m\u001b[0m\u001b[0m\n\u001b[0;32m-> 1482\u001b[0;31m         \u001b[0mself\u001b[0m\u001b[0;34m.\u001b[0m\u001b[0m_has_valid_type\u001b[0m\u001b[0;34m(\u001b[0m\u001b[0mkey\u001b[0m\u001b[0;34m,\u001b[0m \u001b[0maxis\u001b[0m\u001b[0;34m)\u001b[0m\u001b[0;34m\u001b[0m\u001b[0m\n\u001b[0m\u001b[1;32m   1483\u001b[0m         \u001b[0;32mreturn\u001b[0m \u001b[0mself\u001b[0m\u001b[0;34m.\u001b[0m\u001b[0m_get_label\u001b[0m\u001b[0;34m(\u001b[0m\u001b[0mkey\u001b[0m\u001b[0;34m,\u001b[0m \u001b[0maxis\u001b[0m\u001b[0;34m=\u001b[0m\u001b[0maxis\u001b[0m\u001b[0;34m)\u001b[0m\u001b[0;34m\u001b[0m\u001b[0m\n\u001b[1;32m   1484\u001b[0m \u001b[0;34m\u001b[0m\u001b[0m\n",
      "\u001b[0;32m/Users/dan/.virtualenvs/pandas/lib/python2.7/site-packages/pandas/core/indexing.pyc\u001b[0m in \u001b[0;36m_has_valid_type\u001b[0;34m(self, key, axis)\u001b[0m\n\u001b[1;32m   1417\u001b[0m                 \u001b[0;32mraise\u001b[0m\u001b[0;34m\u001b[0m\u001b[0m\n\u001b[1;32m   1418\u001b[0m             \u001b[0;32mexcept\u001b[0m\u001b[0;34m:\u001b[0m\u001b[0;34m\u001b[0m\u001b[0m\n\u001b[0;32m-> 1419\u001b[0;31m                 \u001b[0merror\u001b[0m\u001b[0;34m(\u001b[0m\u001b[0;34m)\u001b[0m\u001b[0;34m\u001b[0m\u001b[0m\n\u001b[0m\u001b[1;32m   1420\u001b[0m \u001b[0;34m\u001b[0m\u001b[0m\n\u001b[1;32m   1421\u001b[0m         \u001b[0;32mreturn\u001b[0m \u001b[0mTrue\u001b[0m\u001b[0;34m\u001b[0m\u001b[0m\n",
      "\u001b[0;32m/Users/dan/.virtualenvs/pandas/lib/python2.7/site-packages/pandas/core/indexing.pyc\u001b[0m in \u001b[0;36merror\u001b[0;34m()\u001b[0m\n\u001b[1;32m   1404\u001b[0m                                     \"key\")\n\u001b[1;32m   1405\u001b[0m                 raise KeyError(\"the label [%s] is not in the [%s]\" %\n\u001b[0;32m-> 1406\u001b[0;31m                                (key, self.obj._get_axis_name(axis)))\n\u001b[0m\u001b[1;32m   1407\u001b[0m \u001b[0;34m\u001b[0m\u001b[0m\n\u001b[1;32m   1408\u001b[0m             \u001b[0;32mtry\u001b[0m\u001b[0;34m:\u001b[0m\u001b[0;34m\u001b[0m\u001b[0m\n",
      "\u001b[0;31mKeyError\u001b[0m: 'the label [2015-01-31] is not in the [index]'"
     ]
    }
   ],
   "source": [
    "df.loc['2015-01-31'] #Doesn't work."
   ]
  },
  {
   "cell_type": "code",
   "execution_count": 84,
   "metadata": {},
   "outputs": [
    {
     "data": {
      "text/plain": [
       "0   -1.535318\n",
       "1   -0.659581\n",
       "2   -2.059859\n",
       "3   -0.095004\n",
       "4    0.052339\n",
       "Name: (Alabama, 2015-01-31 00:00:00), dtype: float64"
      ]
     },
     "execution_count": 84,
     "metadata": {},
     "output_type": "execute_result"
    }
   ],
   "source": [
    "df.loc[('Alabama', '2015-01-31')] #Can do this."
   ]
  },
  {
   "cell_type": "code",
   "execution_count": 85,
   "metadata": {},
   "outputs": [
    {
     "data": {
      "text/html": [
       "<div>\n",
       "<table border=\"1\" class=\"dataframe\">\n",
       "  <thead>\n",
       "    <tr>\n",
       "      <th></th>\n",
       "      <th colspan=\"3\" halign=\"left\">0</th>\n",
       "      <th colspan=\"3\" halign=\"left\">1</th>\n",
       "      <th colspan=\"3\" halign=\"left\">2</th>\n",
       "      <th colspan=\"3\" halign=\"left\">3</th>\n",
       "      <th colspan=\"3\" halign=\"left\">4</th>\n",
       "    </tr>\n",
       "    <tr>\n",
       "      <th>state</th>\n",
       "      <th>Alabama</th>\n",
       "      <th>Alaska</th>\n",
       "      <th>Arizona</th>\n",
       "      <th>Alabama</th>\n",
       "      <th>Alaska</th>\n",
       "      <th>Arizona</th>\n",
       "      <th>Alabama</th>\n",
       "      <th>Alaska</th>\n",
       "      <th>Arizona</th>\n",
       "      <th>Alabama</th>\n",
       "      <th>Alaska</th>\n",
       "      <th>Arizona</th>\n",
       "      <th>Alabama</th>\n",
       "      <th>Alaska</th>\n",
       "      <th>Arizona</th>\n",
       "    </tr>\n",
       "    <tr>\n",
       "      <th>index</th>\n",
       "      <th></th>\n",
       "      <th></th>\n",
       "      <th></th>\n",
       "      <th></th>\n",
       "      <th></th>\n",
       "      <th></th>\n",
       "      <th></th>\n",
       "      <th></th>\n",
       "      <th></th>\n",
       "      <th></th>\n",
       "      <th></th>\n",
       "      <th></th>\n",
       "      <th></th>\n",
       "      <th></th>\n",
       "      <th></th>\n",
       "    </tr>\n",
       "  </thead>\n",
       "  <tbody>\n",
       "    <tr>\n",
       "      <th>2015-01-31</th>\n",
       "      <td>-1.535318</td>\n",
       "      <td>NaN</td>\n",
       "      <td>NaN</td>\n",
       "      <td>-0.659581</td>\n",
       "      <td>NaN</td>\n",
       "      <td>NaN</td>\n",
       "      <td>-2.059859</td>\n",
       "      <td>NaN</td>\n",
       "      <td>NaN</td>\n",
       "      <td>-0.095004</td>\n",
       "      <td>NaN</td>\n",
       "      <td>NaN</td>\n",
       "      <td>0.052339</td>\n",
       "      <td>NaN</td>\n",
       "      <td>NaN</td>\n",
       "    </tr>\n",
       "    <tr>\n",
       "      <th>2015-02-28</th>\n",
       "      <td>NaN</td>\n",
       "      <td>0.957904</td>\n",
       "      <td>NaN</td>\n",
       "      <td>NaN</td>\n",
       "      <td>-0.614561</td>\n",
       "      <td>NaN</td>\n",
       "      <td>NaN</td>\n",
       "      <td>-2.051313</td>\n",
       "      <td>NaN</td>\n",
       "      <td>NaN</td>\n",
       "      <td>-0.172500</td>\n",
       "      <td>NaN</td>\n",
       "      <td>NaN</td>\n",
       "      <td>0.382566</td>\n",
       "      <td>NaN</td>\n",
       "    </tr>\n",
       "    <tr>\n",
       "      <th>2015-03-31</th>\n",
       "      <td>NaN</td>\n",
       "      <td>NaN</td>\n",
       "      <td>0.683149</td>\n",
       "      <td>NaN</td>\n",
       "      <td>NaN</td>\n",
       "      <td>0.361947</td>\n",
       "      <td>NaN</td>\n",
       "      <td>NaN</td>\n",
       "      <td>0.330422</td>\n",
       "      <td>NaN</td>\n",
       "      <td>NaN</td>\n",
       "      <td>-0.992731</td>\n",
       "      <td>NaN</td>\n",
       "      <td>NaN</td>\n",
       "      <td>-2.562506</td>\n",
       "    </tr>\n",
       "    <tr>\n",
       "      <th>2015-04-30</th>\n",
       "      <td>1.463378</td>\n",
       "      <td>NaN</td>\n",
       "      <td>NaN</td>\n",
       "      <td>0.499032</td>\n",
       "      <td>NaN</td>\n",
       "      <td>NaN</td>\n",
       "      <td>-0.244120</td>\n",
       "      <td>NaN</td>\n",
       "      <td>NaN</td>\n",
       "      <td>0.030788</td>\n",
       "      <td>NaN</td>\n",
       "      <td>NaN</td>\n",
       "      <td>-1.118923</td>\n",
       "      <td>NaN</td>\n",
       "      <td>NaN</td>\n",
       "    </tr>\n",
       "    <tr>\n",
       "      <th>2015-05-31</th>\n",
       "      <td>NaN</td>\n",
       "      <td>0.906240</td>\n",
       "      <td>NaN</td>\n",
       "      <td>NaN</td>\n",
       "      <td>-1.118386</td>\n",
       "      <td>NaN</td>\n",
       "      <td>NaN</td>\n",
       "      <td>-1.015312</td>\n",
       "      <td>NaN</td>\n",
       "      <td>NaN</td>\n",
       "      <td>-0.705858</td>\n",
       "      <td>NaN</td>\n",
       "      <td>NaN</td>\n",
       "      <td>-2.179260</td>\n",
       "      <td>NaN</td>\n",
       "    </tr>\n",
       "  </tbody>\n",
       "</table>\n",
       "</div>"
      ],
      "text/plain": [
       "                   0                             1                      \\\n",
       "state        Alabama    Alaska   Arizona   Alabama    Alaska   Arizona   \n",
       "index                                                                    \n",
       "2015-01-31 -1.535318       NaN       NaN -0.659581       NaN       NaN   \n",
       "2015-02-28       NaN  0.957904       NaN       NaN -0.614561       NaN   \n",
       "2015-03-31       NaN       NaN  0.683149       NaN       NaN  0.361947   \n",
       "2015-04-30  1.463378       NaN       NaN  0.499032       NaN       NaN   \n",
       "2015-05-31       NaN  0.906240       NaN       NaN -1.118386       NaN   \n",
       "\n",
       "                   2                             3                      \\\n",
       "state        Alabama    Alaska   Arizona   Alabama    Alaska   Arizona   \n",
       "index                                                                    \n",
       "2015-01-31 -2.059859       NaN       NaN -0.095004       NaN       NaN   \n",
       "2015-02-28       NaN -2.051313       NaN       NaN -0.172500       NaN   \n",
       "2015-03-31       NaN       NaN  0.330422       NaN       NaN -0.992731   \n",
       "2015-04-30 -0.244120       NaN       NaN  0.030788       NaN       NaN   \n",
       "2015-05-31       NaN -1.015312       NaN       NaN -0.705858       NaN   \n",
       "\n",
       "                   4                      \n",
       "state        Alabama    Alaska   Arizona  \n",
       "index                                     \n",
       "2015-01-31  0.052339       NaN       NaN  \n",
       "2015-02-28       NaN  0.382566       NaN  \n",
       "2015-03-31       NaN       NaN -2.562506  \n",
       "2015-04-30 -1.118923       NaN       NaN  \n",
       "2015-05-31       NaN -2.179260       NaN  "
      ]
     },
     "execution_count": 85,
     "metadata": {},
     "output_type": "execute_result"
    }
   ],
   "source": [
    "#Can also have multi-index in columns.\n",
    "df.reset_index().set_index(['index', 'state']).unstack().head()"
   ]
  },
  {
   "cell_type": "code",
   "execution_count": 86,
   "metadata": {},
   "outputs": [
    {
     "data": {
      "text/html": [
       "<div>\n",
       "<table border=\"1\" class=\"dataframe\">\n",
       "  <thead>\n",
       "    <tr style=\"text-align: right;\">\n",
       "      <th></th>\n",
       "      <th></th>\n",
       "      <th>0</th>\n",
       "      <th>1</th>\n",
       "      <th>2</th>\n",
       "      <th>3</th>\n",
       "      <th>4</th>\n",
       "    </tr>\n",
       "    <tr>\n",
       "      <th>state</th>\n",
       "      <th>index</th>\n",
       "      <th></th>\n",
       "      <th></th>\n",
       "      <th></th>\n",
       "      <th></th>\n",
       "      <th></th>\n",
       "    </tr>\n",
       "  </thead>\n",
       "  <tbody>\n",
       "    <tr>\n",
       "      <th>Alabama</th>\n",
       "      <th>2015-01-31</th>\n",
       "      <td>-1.535318</td>\n",
       "      <td>-0.659581</td>\n",
       "      <td>-2.059859</td>\n",
       "      <td>-0.095004</td>\n",
       "      <td>0.052339</td>\n",
       "    </tr>\n",
       "    <tr>\n",
       "      <th>Alaska</th>\n",
       "      <th>2015-02-28</th>\n",
       "      <td>0.957904</td>\n",
       "      <td>-0.614561</td>\n",
       "      <td>-2.051313</td>\n",
       "      <td>-0.172500</td>\n",
       "      <td>0.382566</td>\n",
       "    </tr>\n",
       "    <tr>\n",
       "      <th>Arizona</th>\n",
       "      <th>2015-03-31</th>\n",
       "      <td>0.683149</td>\n",
       "      <td>0.361947</td>\n",
       "      <td>0.330422</td>\n",
       "      <td>-0.992731</td>\n",
       "      <td>-2.562506</td>\n",
       "    </tr>\n",
       "    <tr>\n",
       "      <th>Alabama</th>\n",
       "      <th>2015-04-30</th>\n",
       "      <td>1.463378</td>\n",
       "      <td>0.499032</td>\n",
       "      <td>-0.244120</td>\n",
       "      <td>0.030788</td>\n",
       "      <td>-1.118923</td>\n",
       "    </tr>\n",
       "    <tr>\n",
       "      <th>Alaska</th>\n",
       "      <th>2015-05-31</th>\n",
       "      <td>0.906240</td>\n",
       "      <td>-1.118386</td>\n",
       "      <td>-1.015312</td>\n",
       "      <td>-0.705858</td>\n",
       "      <td>-2.179260</td>\n",
       "    </tr>\n",
       "  </tbody>\n",
       "</table>\n",
       "</div>"
      ],
      "text/plain": [
       "                           0         1         2         3         4\n",
       "state   index                                                       \n",
       "Alabama 2015-01-31 -1.535318 -0.659581 -2.059859 -0.095004  0.052339\n",
       "Alaska  2015-02-28  0.957904 -0.614561 -2.051313 -0.172500  0.382566\n",
       "Arizona 2015-03-31  0.683149  0.361947  0.330422 -0.992731 -2.562506\n",
       "Alabama 2015-04-30  1.463378  0.499032 -0.244120  0.030788 -1.118923\n",
       "Alaska  2015-05-31  0.906240 -1.118386 -1.015312 -0.705858 -2.179260"
      ]
     },
     "execution_count": 86,
     "metadata": {},
     "output_type": "execute_result"
    }
   ],
   "source": [
    "df.head()"
   ]
  },
  {
   "cell_type": "markdown",
   "metadata": {},
   "source": [
    "#split-apply-combine"
   ]
  },
  {
   "cell_type": "code",
   "execution_count": 87,
   "metadata": {},
   "outputs": [
    {
     "data": {
      "text/html": [
       "<div>\n",
       "<table border=\"1\" class=\"dataframe\">\n",
       "  <thead>\n",
       "    <tr style=\"text-align: right;\">\n",
       "      <th></th>\n",
       "      <th>0</th>\n",
       "      <th>1</th>\n",
       "      <th>2</th>\n",
       "      <th>3</th>\n",
       "      <th>4</th>\n",
       "    </tr>\n",
       "    <tr>\n",
       "      <th>index</th>\n",
       "      <th></th>\n",
       "      <th></th>\n",
       "      <th></th>\n",
       "      <th></th>\n",
       "      <th></th>\n",
       "    </tr>\n",
       "  </thead>\n",
       "  <tbody>\n",
       "    <tr>\n",
       "      <th>2015-01-31</th>\n",
       "      <td>-1.535318</td>\n",
       "      <td>-0.659581</td>\n",
       "      <td>-2.059859</td>\n",
       "      <td>-0.095004</td>\n",
       "      <td>0.052339</td>\n",
       "    </tr>\n",
       "    <tr>\n",
       "      <th>2015-02-28</th>\n",
       "      <td>0.957904</td>\n",
       "      <td>-0.614561</td>\n",
       "      <td>-2.051313</td>\n",
       "      <td>-0.172500</td>\n",
       "      <td>0.382566</td>\n",
       "    </tr>\n",
       "    <tr>\n",
       "      <th>2015-03-31</th>\n",
       "      <td>0.683149</td>\n",
       "      <td>0.361947</td>\n",
       "      <td>0.330422</td>\n",
       "      <td>-0.992731</td>\n",
       "      <td>-2.562506</td>\n",
       "    </tr>\n",
       "    <tr>\n",
       "      <th>2015-04-30</th>\n",
       "      <td>1.463378</td>\n",
       "      <td>0.499032</td>\n",
       "      <td>-0.244120</td>\n",
       "      <td>0.030788</td>\n",
       "      <td>-1.118923</td>\n",
       "    </tr>\n",
       "    <tr>\n",
       "      <th>2015-05-31</th>\n",
       "      <td>0.906240</td>\n",
       "      <td>-1.118386</td>\n",
       "      <td>-1.015312</td>\n",
       "      <td>-0.705858</td>\n",
       "      <td>-2.179260</td>\n",
       "    </tr>\n",
       "  </tbody>\n",
       "</table>\n",
       "</div>"
      ],
      "text/plain": [
       "                   0         1         2         3         4\n",
       "index                                                       \n",
       "2015-01-31 -1.535318 -0.659581 -2.059859 -0.095004  0.052339\n",
       "2015-02-28  0.957904 -0.614561 -2.051313 -0.172500  0.382566\n",
       "2015-03-31  0.683149  0.361947  0.330422 -0.992731 -2.562506\n",
       "2015-04-30  1.463378  0.499032 -0.244120  0.030788 -1.118923\n",
       "2015-05-31  0.906240 -1.118386 -1.015312 -0.705858 -2.179260"
      ]
     },
     "execution_count": 87,
     "metadata": {},
     "output_type": "execute_result"
    }
   ],
   "source": [
    "df.groupby(level=1).mean().head()"
   ]
  },
  {
   "cell_type": "code",
   "execution_count": 88,
   "metadata": {},
   "outputs": [
    {
     "data": {
      "text/html": [
       "<div>\n",
       "<table border=\"1\" class=\"dataframe\">\n",
       "  <thead>\n",
       "    <tr style=\"text-align: right;\">\n",
       "      <th></th>\n",
       "      <th>0</th>\n",
       "      <th>1</th>\n",
       "      <th>2</th>\n",
       "      <th>3</th>\n",
       "      <th>4</th>\n",
       "    </tr>\n",
       "    <tr>\n",
       "      <th>state</th>\n",
       "      <th></th>\n",
       "      <th></th>\n",
       "      <th></th>\n",
       "      <th></th>\n",
       "      <th></th>\n",
       "    </tr>\n",
       "  </thead>\n",
       "  <tbody>\n",
       "    <tr>\n",
       "      <th>Alabama</th>\n",
       "      <td>-0.294015</td>\n",
       "      <td>0.378143</td>\n",
       "      <td>-0.272110</td>\n",
       "      <td>0.564878</td>\n",
       "      <td>-0.195203</td>\n",
       "    </tr>\n",
       "    <tr>\n",
       "      <th>Alaska</th>\n",
       "      <td>0.530297</td>\n",
       "      <td>-0.879668</td>\n",
       "      <td>-0.478329</td>\n",
       "      <td>-0.168765</td>\n",
       "      <td>-0.091122</td>\n",
       "    </tr>\n",
       "    <tr>\n",
       "      <th>Arizona</th>\n",
       "      <td>-0.157923</td>\n",
       "      <td>-0.031870</td>\n",
       "      <td>0.441283</td>\n",
       "      <td>-0.159877</td>\n",
       "      <td>-0.249299</td>\n",
       "    </tr>\n",
       "  </tbody>\n",
       "</table>\n",
       "</div>"
      ],
      "text/plain": [
       "                0         1         2         3         4\n",
       "state                                                    \n",
       "Alabama -0.294015  0.378143 -0.272110  0.564878 -0.195203\n",
       "Alaska   0.530297 -0.879668 -0.478329 -0.168765 -0.091122\n",
       "Arizona -0.157923 -0.031870  0.441283 -0.159877 -0.249299"
      ]
     },
     "execution_count": 88,
     "metadata": {},
     "output_type": "execute_result"
    }
   ],
   "source": [
    "df.groupby(level=0).mean().head() #Groupby index"
   ]
  },
  {
   "cell_type": "code",
   "execution_count": 89,
   "metadata": {},
   "outputs": [
    {
     "data": {
      "text/html": [
       "<div>\n",
       "<table border=\"1\" class=\"dataframe\">\n",
       "  <thead>\n",
       "    <tr style=\"text-align: right;\">\n",
       "      <th></th>\n",
       "      <th>0</th>\n",
       "      <th>1</th>\n",
       "      <th>2</th>\n",
       "      <th>3</th>\n",
       "      <th>4</th>\n",
       "    </tr>\n",
       "    <tr>\n",
       "      <th>state</th>\n",
       "      <th></th>\n",
       "      <th></th>\n",
       "      <th></th>\n",
       "      <th></th>\n",
       "      <th></th>\n",
       "    </tr>\n",
       "  </thead>\n",
       "  <tbody>\n",
       "    <tr>\n",
       "      <th>Alabama</th>\n",
       "      <td>-0.294015</td>\n",
       "      <td>0.378143</td>\n",
       "      <td>-0.272110</td>\n",
       "      <td>0.564878</td>\n",
       "      <td>-0.195203</td>\n",
       "    </tr>\n",
       "    <tr>\n",
       "      <th>Alaska</th>\n",
       "      <td>0.530297</td>\n",
       "      <td>-0.879668</td>\n",
       "      <td>-0.478329</td>\n",
       "      <td>-0.168765</td>\n",
       "      <td>-0.091122</td>\n",
       "    </tr>\n",
       "    <tr>\n",
       "      <th>Arizona</th>\n",
       "      <td>-0.157923</td>\n",
       "      <td>-0.031870</td>\n",
       "      <td>0.441283</td>\n",
       "      <td>-0.159877</td>\n",
       "      <td>-0.249299</td>\n",
       "    </tr>\n",
       "  </tbody>\n",
       "</table>\n",
       "</div>"
      ],
      "text/plain": [
       "                0         1         2         3         4\n",
       "state                                                    \n",
       "Alabama -0.294015  0.378143 -0.272110  0.564878 -0.195203\n",
       "Alaska   0.530297 -0.879668 -0.478329 -0.168765 -0.091122\n",
       "Arizona -0.157923 -0.031870  0.441283 -0.159877 -0.249299"
      ]
     },
     "execution_count": 89,
     "metadata": {},
     "output_type": "execute_result"
    }
   ],
   "source": [
    "#Groupby doesn't have to be on index.\n",
    "df.reset_index().groupby('state').mean().head()\n",
    "#'state' could be a list of columns to group on."
   ]
  },
  {
   "cell_type": "code",
   "execution_count": 90,
   "metadata": {
    "collapsed": true
   },
   "outputs": [],
   "source": [
    "#Apply\n",
    "g = df.groupby(level=0)"
   ]
  },
  {
   "cell_type": "code",
   "execution_count": 91,
   "metadata": {},
   "outputs": [
    {
     "data": {
      "text/html": [
       "<div>\n",
       "<table border=\"1\" class=\"dataframe\">\n",
       "  <thead>\n",
       "    <tr style=\"text-align: right;\">\n",
       "      <th></th>\n",
       "      <th>0</th>\n",
       "      <th>1</th>\n",
       "      <th>2</th>\n",
       "      <th>3</th>\n",
       "      <th>4</th>\n",
       "    </tr>\n",
       "    <tr>\n",
       "      <th>state</th>\n",
       "      <th></th>\n",
       "      <th></th>\n",
       "      <th></th>\n",
       "      <th></th>\n",
       "      <th></th>\n",
       "    </tr>\n",
       "  </thead>\n",
       "  <tbody>\n",
       "    <tr>\n",
       "      <th>Alabama</th>\n",
       "      <td>-0.294015</td>\n",
       "      <td>0.378143</td>\n",
       "      <td>-0.272110</td>\n",
       "      <td>0.564878</td>\n",
       "      <td>-0.195203</td>\n",
       "    </tr>\n",
       "    <tr>\n",
       "      <th>Alaska</th>\n",
       "      <td>0.530297</td>\n",
       "      <td>-0.879668</td>\n",
       "      <td>-0.478329</td>\n",
       "      <td>-0.168765</td>\n",
       "      <td>-0.091122</td>\n",
       "    </tr>\n",
       "    <tr>\n",
       "      <th>Arizona</th>\n",
       "      <td>-0.157923</td>\n",
       "      <td>-0.031870</td>\n",
       "      <td>0.441283</td>\n",
       "      <td>-0.159877</td>\n",
       "      <td>-0.249299</td>\n",
       "    </tr>\n",
       "  </tbody>\n",
       "</table>\n",
       "</div>"
      ],
      "text/plain": [
       "                0         1         2         3         4\n",
       "state                                                    \n",
       "Alabama -0.294015  0.378143 -0.272110  0.564878 -0.195203\n",
       "Alaska   0.530297 -0.879668 -0.478329 -0.168765 -0.091122\n",
       "Arizona -0.157923 -0.031870  0.441283 -0.159877 -0.249299"
      ]
     },
     "execution_count": 91,
     "metadata": {},
     "output_type": "execute_result"
    }
   ],
   "source": [
    "#If one row for each index.\n",
    "g.aggregate(np.mean)"
   ]
  },
  {
   "cell_type": "code",
   "execution_count": 92,
   "metadata": {},
   "outputs": [
    {
     "data": {
      "text/html": [
       "<div>\n",
       "<table border=\"1\" class=\"dataframe\">\n",
       "  <thead>\n",
       "    <tr style=\"text-align: right;\">\n",
       "      <th></th>\n",
       "      <th></th>\n",
       "      <th>0</th>\n",
       "      <th>1</th>\n",
       "      <th>2</th>\n",
       "      <th>3</th>\n",
       "      <th>4</th>\n",
       "    </tr>\n",
       "    <tr>\n",
       "      <th>state</th>\n",
       "      <th>index</th>\n",
       "      <th></th>\n",
       "      <th></th>\n",
       "      <th></th>\n",
       "      <th></th>\n",
       "      <th></th>\n",
       "    </tr>\n",
       "  </thead>\n",
       "  <tbody>\n",
       "    <tr>\n",
       "      <th>Alabama</th>\n",
       "      <th>2015-01-31</th>\n",
       "      <td>-0.817501</td>\n",
       "      <td>-1.069838</td>\n",
       "      <td>-1.939239</td>\n",
       "      <td>-0.706159</td>\n",
       "      <td>0.206713</td>\n",
       "    </tr>\n",
       "    <tr>\n",
       "      <th>Alaska</th>\n",
       "      <th>2015-02-28</th>\n",
       "      <td>0.514303</td>\n",
       "      <td>0.355061</td>\n",
       "      <td>-1.312191</td>\n",
       "      <td>-0.003561</td>\n",
       "      <td>0.399299</td>\n",
       "    </tr>\n",
       "    <tr>\n",
       "      <th>Arizona</th>\n",
       "      <th>2015-03-31</th>\n",
       "      <td>0.961484</td>\n",
       "      <td>0.554143</td>\n",
       "      <td>-0.101270</td>\n",
       "      <td>-0.915931</td>\n",
       "      <td>-1.613929</td>\n",
       "    </tr>\n",
       "    <tr>\n",
       "      <th>Alabama</th>\n",
       "      <th>2015-04-30</th>\n",
       "      <td>1.157389</td>\n",
       "      <td>0.124630</td>\n",
       "      <td>0.030361</td>\n",
       "      <td>-0.571546</td>\n",
       "      <td>-0.771364</td>\n",
       "    </tr>\n",
       "    <tr>\n",
       "      <th>Alaska</th>\n",
       "      <th>2015-05-31</th>\n",
       "      <td>0.452165</td>\n",
       "      <td>-0.319718</td>\n",
       "      <td>-0.447954</td>\n",
       "      <td>-0.512036</td>\n",
       "      <td>-1.760212</td>\n",
       "    </tr>\n",
       "  </tbody>\n",
       "</table>\n",
       "</div>"
      ],
      "text/plain": [
       "                           0         1         2         3         4\n",
       "state   index                                                       \n",
       "Alabama 2015-01-31 -0.817501 -1.069838 -1.939239 -0.706159  0.206713\n",
       "Alaska  2015-02-28  0.514303  0.355061 -1.312191 -0.003561  0.399299\n",
       "Arizona 2015-03-31  0.961484  0.554143 -0.101270 -0.915931 -1.613929\n",
       "Alabama 2015-04-30  1.157389  0.124630  0.030361 -0.571546 -0.771364\n",
       "Alaska  2015-05-31  0.452165 -0.319718 -0.447954 -0.512036 -1.760212"
      ]
     },
     "execution_count": 92,
     "metadata": {},
     "output_type": "execute_result"
    }
   ],
   "source": [
    "#If same shape as original:\n",
    "g.transform(lambda x: (x - x.mean())/x.std()).head()"
   ]
  },
  {
   "cell_type": "code",
   "execution_count": 93,
   "metadata": {},
   "outputs": [
    {
     "data": {
      "text/html": [
       "<div>\n",
       "<table border=\"1\" class=\"dataframe\">\n",
       "  <thead>\n",
       "    <tr style=\"text-align: right;\">\n",
       "      <th></th>\n",
       "      <th></th>\n",
       "      <th>0</th>\n",
       "      <th>1</th>\n",
       "      <th>2</th>\n",
       "      <th>3</th>\n",
       "      <th>4</th>\n",
       "    </tr>\n",
       "    <tr>\n",
       "      <th>state</th>\n",
       "      <th></th>\n",
       "      <th></th>\n",
       "      <th></th>\n",
       "      <th></th>\n",
       "      <th></th>\n",
       "      <th></th>\n",
       "    </tr>\n",
       "  </thead>\n",
       "  <tbody>\n",
       "    <tr>\n",
       "      <th rowspan=\"8\" valign=\"top\">Alabama</th>\n",
       "      <th>count</th>\n",
       "      <td>10.000000</td>\n",
       "      <td>10.000000</td>\n",
       "      <td>10.000000</td>\n",
       "      <td>10.000000</td>\n",
       "      <td>10.000000</td>\n",
       "    </tr>\n",
       "    <tr>\n",
       "      <th>mean</th>\n",
       "      <td>-0.294015</td>\n",
       "      <td>0.378143</td>\n",
       "      <td>-0.272110</td>\n",
       "      <td>0.564878</td>\n",
       "      <td>-0.195203</td>\n",
       "    </tr>\n",
       "    <tr>\n",
       "      <th>std</th>\n",
       "      <td>1.518412</td>\n",
       "      <td>0.969983</td>\n",
       "      <td>0.921882</td>\n",
       "      <td>0.934466</td>\n",
       "      <td>1.197515</td>\n",
       "    </tr>\n",
       "    <tr>\n",
       "      <th>min</th>\n",
       "      <td>-2.014115</td>\n",
       "      <td>-0.781046</td>\n",
       "      <td>-2.059859</td>\n",
       "      <td>-0.867382</td>\n",
       "      <td>-1.937355</td>\n",
       "    </tr>\n",
       "    <tr>\n",
       "      <th>25%</th>\n",
       "      <td>-1.481736</td>\n",
       "      <td>-0.142587</td>\n",
       "      <td>-0.866701</td>\n",
       "      <td>-0.063556</td>\n",
       "      <td>-0.923800</td>\n",
       "    </tr>\n",
       "    <tr>\n",
       "      <th>50%</th>\n",
       "      <td>-0.464952</td>\n",
       "      <td>0.242782</td>\n",
       "      <td>-0.116214</td>\n",
       "      <td>0.388430</td>\n",
       "      <td>-0.556038</td>\n",
       "    </tr>\n",
       "    <tr>\n",
       "      <th>75%</th>\n",
       "      <td>0.322515</td>\n",
       "      <td>0.719715</td>\n",
       "      <td>0.371266</td>\n",
       "      <td>1.206553</td>\n",
       "      <td>0.524731</td>\n",
       "    </tr>\n",
       "    <tr>\n",
       "      <th>max</th>\n",
       "      <td>2.723212</td>\n",
       "      <td>2.547010</td>\n",
       "      <td>1.114214</td>\n",
       "      <td>2.212153</td>\n",
       "      <td>1.759226</td>\n",
       "    </tr>\n",
       "    <tr>\n",
       "      <th rowspan=\"4\" valign=\"top\">Alaska</th>\n",
       "      <th>count</th>\n",
       "      <td>10.000000</td>\n",
       "      <td>10.000000</td>\n",
       "      <td>10.000000</td>\n",
       "      <td>10.000000</td>\n",
       "      <td>10.000000</td>\n",
       "    </tr>\n",
       "    <tr>\n",
       "      <th>mean</th>\n",
       "      <td>0.530297</td>\n",
       "      <td>-0.879668</td>\n",
       "      <td>-0.478329</td>\n",
       "      <td>-0.168765</td>\n",
       "      <td>-0.091122</td>\n",
       "    </tr>\n",
       "    <tr>\n",
       "      <th>std</th>\n",
       "      <td>0.831429</td>\n",
       "      <td>0.746651</td>\n",
       "      <td>1.198746</td>\n",
       "      <td>1.048938</td>\n",
       "      <td>1.186299</td>\n",
       "    </tr>\n",
       "    <tr>\n",
       "      <th>min</th>\n",
       "      <td>-0.678926</td>\n",
       "      <td>-1.789336</td>\n",
       "      <td>-2.051313</td>\n",
       "      <td>-1.316932</td>\n",
       "      <td>-2.179260</td>\n",
       "    </tr>\n",
       "  </tbody>\n",
       "</table>\n",
       "</div>"
      ],
      "text/plain": [
       "                       0          1          2          3          4\n",
       "state                                                               \n",
       "Alabama count  10.000000  10.000000  10.000000  10.000000  10.000000\n",
       "        mean   -0.294015   0.378143  -0.272110   0.564878  -0.195203\n",
       "        std     1.518412   0.969983   0.921882   0.934466   1.197515\n",
       "        min    -2.014115  -0.781046  -2.059859  -0.867382  -1.937355\n",
       "        25%    -1.481736  -0.142587  -0.866701  -0.063556  -0.923800\n",
       "        50%    -0.464952   0.242782  -0.116214   0.388430  -0.556038\n",
       "        75%     0.322515   0.719715   0.371266   1.206553   0.524731\n",
       "        max     2.723212   2.547010   1.114214   2.212153   1.759226\n",
       "Alaska  count  10.000000  10.000000  10.000000  10.000000  10.000000\n",
       "        mean    0.530297  -0.879668  -0.478329  -0.168765  -0.091122\n",
       "        std     0.831429   0.746651   1.198746   1.048938   1.186299\n",
       "        min    -0.678926  -1.789336  -2.051313  -1.316932  -2.179260"
      ]
     },
     "execution_count": 93,
     "metadata": {},
     "output_type": "execute_result"
    }
   ],
   "source": [
    "#Different index than I started with.\n",
    "g.apply(lambda x: x.describe()).head(12)"
   ]
  },
  {
   "cell_type": "markdown",
   "metadata": {},
   "source": [
    "#Reading and writing data.\n"
   ]
  },
  {
   "cell_type": "code",
   "execution_count": 94,
   "metadata": {},
   "outputs": [
    {
     "ename": "TypeError",
     "evalue": "to_csv() got an unexpected keyword argument 'delimiter'",
     "output_type": "error",
     "traceback": [
      "\u001b[0;31m-------------------------------------------------------------\u001b[0m",
      "\u001b[0;31mTypeError\u001b[0m                   Traceback (most recent call last)",
      "\u001b[0;32m<ipython-input-94-832d74ac49b1>\u001b[0m in \u001b[0;36m<module>\u001b[0;34m()\u001b[0m\n\u001b[0;32m----> 1\u001b[0;31m \u001b[0mdf\u001b[0m\u001b[0;34m.\u001b[0m\u001b[0mto_csv\u001b[0m\u001b[0;34m(\u001b[0m\u001b[0;34m'saved_data.csv'\u001b[0m\u001b[0;34m,\u001b[0m \u001b[0mdelimiter\u001b[0m\u001b[0;34m=\u001b[0m\u001b[0;34m'\\t'\u001b[0m\u001b[0;34m)\u001b[0m\u001b[0;34m\u001b[0m\u001b[0m\n\u001b[0m",
      "\u001b[0;31mTypeError\u001b[0m: to_csv() got an unexpected keyword argument 'delimiter'"
     ]
    }
   ],
   "source": [
    "df.to_csv('saved_data.csv', delimiter='\\t')"
   ]
  },
  {
   "cell_type": "code",
   "execution_count": 95,
   "metadata": {},
   "outputs": [
    {
     "ename": "IOError",
     "evalue": "File saved_data.csv does not exist",
     "output_type": "error",
     "traceback": [
      "\u001b[0;31m-------------------------------------------------------------\u001b[0m",
      "\u001b[0;31mIOError\u001b[0m                     Traceback (most recent call last)",
      "\u001b[0;32m<ipython-input-95-046e55d3af72>\u001b[0m in \u001b[0;36m<module>\u001b[0;34m()\u001b[0m\n\u001b[0;32m----> 1\u001b[0;31m \u001b[0mread\u001b[0m \u001b[0;34m=\u001b[0m \u001b[0mpd\u001b[0m\u001b[0;34m.\u001b[0m\u001b[0mread_csv\u001b[0m\u001b[0;34m(\u001b[0m\u001b[0;34m'saved_data.csv'\u001b[0m\u001b[0;34m,\u001b[0m \u001b[0mdelimiter\u001b[0m\u001b[0;34m=\u001b[0m\u001b[0;34m'\\t'\u001b[0m\u001b[0;34m)\u001b[0m\u001b[0;34m\u001b[0m\u001b[0m\n\u001b[0m\u001b[1;32m      2\u001b[0m \u001b[0;31m#TONS OF options for reading data\u001b[0m\u001b[0;34m\u001b[0m\u001b[0;34m\u001b[0m\u001b[0m\n",
      "\u001b[0;32m/Users/dan/.virtualenvs/pandas/lib/python2.7/site-packages/pandas/io/parsers.pyc\u001b[0m in \u001b[0;36mparser_f\u001b[0;34m(filepath_or_buffer, sep, delimiter, header, names, index_col, usecols, squeeze, prefix, mangle_dupe_cols, dtype, engine, converters, true_values, false_values, skipinitialspace, skiprows, nrows, na_values, keep_default_na, na_filter, verbose, skip_blank_lines, parse_dates, infer_datetime_format, keep_date_col, date_parser, dayfirst, iterator, chunksize, compression, thousands, decimal, lineterminator, quotechar, quoting, escapechar, comment, encoding, dialect, tupleize_cols, error_bad_lines, warn_bad_lines, skipfooter, skip_footer, doublequote, delim_whitespace, as_recarray, compact_ints, use_unsigned, low_memory, buffer_lines, memory_map, float_precision)\u001b[0m\n\u001b[1;32m    644\u001b[0m                     skip_blank_lines=skip_blank_lines)\n\u001b[1;32m    645\u001b[0m \u001b[0;34m\u001b[0m\u001b[0m\n\u001b[0;32m--> 646\u001b[0;31m         \u001b[0;32mreturn\u001b[0m \u001b[0m_read\u001b[0m\u001b[0;34m(\u001b[0m\u001b[0mfilepath_or_buffer\u001b[0m\u001b[0;34m,\u001b[0m \u001b[0mkwds\u001b[0m\u001b[0;34m)\u001b[0m\u001b[0;34m\u001b[0m\u001b[0m\n\u001b[0m\u001b[1;32m    647\u001b[0m \u001b[0;34m\u001b[0m\u001b[0m\n\u001b[1;32m    648\u001b[0m     \u001b[0mparser_f\u001b[0m\u001b[0;34m.\u001b[0m\u001b[0m__name__\u001b[0m \u001b[0;34m=\u001b[0m \u001b[0mname\u001b[0m\u001b[0;34m\u001b[0m\u001b[0m\n",
      "\u001b[0;32m/Users/dan/.virtualenvs/pandas/lib/python2.7/site-packages/pandas/io/parsers.pyc\u001b[0m in \u001b[0;36m_read\u001b[0;34m(filepath_or_buffer, kwds)\u001b[0m\n\u001b[1;32m    387\u001b[0m \u001b[0;34m\u001b[0m\u001b[0m\n\u001b[1;32m    388\u001b[0m     \u001b[0;31m# Create the parser.\u001b[0m\u001b[0;34m\u001b[0m\u001b[0;34m\u001b[0m\u001b[0m\n\u001b[0;32m--> 389\u001b[0;31m     \u001b[0mparser\u001b[0m \u001b[0;34m=\u001b[0m \u001b[0mTextFileReader\u001b[0m\u001b[0;34m(\u001b[0m\u001b[0mfilepath_or_buffer\u001b[0m\u001b[0;34m,\u001b[0m \u001b[0;34m**\u001b[0m\u001b[0mkwds\u001b[0m\u001b[0;34m)\u001b[0m\u001b[0;34m\u001b[0m\u001b[0m\n\u001b[0m\u001b[1;32m    390\u001b[0m \u001b[0;34m\u001b[0m\u001b[0m\n\u001b[1;32m    391\u001b[0m     \u001b[0;32mif\u001b[0m \u001b[0;34m(\u001b[0m\u001b[0mnrows\u001b[0m \u001b[0;32mis\u001b[0m \u001b[0;32mnot\u001b[0m \u001b[0mNone\u001b[0m\u001b[0;34m)\u001b[0m \u001b[0;32mand\u001b[0m \u001b[0;34m(\u001b[0m\u001b[0mchunksize\u001b[0m \u001b[0;32mis\u001b[0m \u001b[0;32mnot\u001b[0m \u001b[0mNone\u001b[0m\u001b[0;34m)\u001b[0m\u001b[0;34m:\u001b[0m\u001b[0;34m\u001b[0m\u001b[0m\n",
      "\u001b[0;32m/Users/dan/.virtualenvs/pandas/lib/python2.7/site-packages/pandas/io/parsers.pyc\u001b[0m in \u001b[0;36m__init__\u001b[0;34m(self, f, engine, **kwds)\u001b[0m\n\u001b[1;32m    728\u001b[0m             \u001b[0mself\u001b[0m\u001b[0;34m.\u001b[0m\u001b[0moptions\u001b[0m\u001b[0;34m[\u001b[0m\u001b[0;34m'has_index_names'\u001b[0m\u001b[0;34m]\u001b[0m \u001b[0;34m=\u001b[0m \u001b[0mkwds\u001b[0m\u001b[0;34m[\u001b[0m\u001b[0;34m'has_index_names'\u001b[0m\u001b[0;34m]\u001b[0m\u001b[0;34m\u001b[0m\u001b[0m\n\u001b[1;32m    729\u001b[0m \u001b[0;34m\u001b[0m\u001b[0m\n\u001b[0;32m--> 730\u001b[0;31m         \u001b[0mself\u001b[0m\u001b[0;34m.\u001b[0m\u001b[0m_make_engine\u001b[0m\u001b[0;34m(\u001b[0m\u001b[0mself\u001b[0m\u001b[0;34m.\u001b[0m\u001b[0mengine\u001b[0m\u001b[0;34m)\u001b[0m\u001b[0;34m\u001b[0m\u001b[0m\n\u001b[0m\u001b[1;32m    731\u001b[0m \u001b[0;34m\u001b[0m\u001b[0m\n\u001b[1;32m    732\u001b[0m     \u001b[0;32mdef\u001b[0m \u001b[0mclose\u001b[0m\u001b[0;34m(\u001b[0m\u001b[0mself\u001b[0m\u001b[0;34m)\u001b[0m\u001b[0;34m:\u001b[0m\u001b[0;34m\u001b[0m\u001b[0m\n",
      "\u001b[0;32m/Users/dan/.virtualenvs/pandas/lib/python2.7/site-packages/pandas/io/parsers.pyc\u001b[0m in \u001b[0;36m_make_engine\u001b[0;34m(self, engine)\u001b[0m\n\u001b[1;32m    921\u001b[0m     \u001b[0;32mdef\u001b[0m \u001b[0m_make_engine\u001b[0m\u001b[0;34m(\u001b[0m\u001b[0mself\u001b[0m\u001b[0;34m,\u001b[0m \u001b[0mengine\u001b[0m\u001b[0;34m=\u001b[0m\u001b[0;34m'c'\u001b[0m\u001b[0;34m)\u001b[0m\u001b[0;34m:\u001b[0m\u001b[0;34m\u001b[0m\u001b[0m\n\u001b[1;32m    922\u001b[0m         \u001b[0;32mif\u001b[0m \u001b[0mengine\u001b[0m \u001b[0;34m==\u001b[0m \u001b[0;34m'c'\u001b[0m\u001b[0;34m:\u001b[0m\u001b[0;34m\u001b[0m\u001b[0m\n\u001b[0;32m--> 923\u001b[0;31m             \u001b[0mself\u001b[0m\u001b[0;34m.\u001b[0m\u001b[0m_engine\u001b[0m \u001b[0;34m=\u001b[0m \u001b[0mCParserWrapper\u001b[0m\u001b[0;34m(\u001b[0m\u001b[0mself\u001b[0m\u001b[0;34m.\u001b[0m\u001b[0mf\u001b[0m\u001b[0;34m,\u001b[0m \u001b[0;34m**\u001b[0m\u001b[0mself\u001b[0m\u001b[0;34m.\u001b[0m\u001b[0moptions\u001b[0m\u001b[0;34m)\u001b[0m\u001b[0;34m\u001b[0m\u001b[0m\n\u001b[0m\u001b[1;32m    924\u001b[0m         \u001b[0;32melse\u001b[0m\u001b[0;34m:\u001b[0m\u001b[0;34m\u001b[0m\u001b[0m\n\u001b[1;32m    925\u001b[0m             \u001b[0;32mif\u001b[0m \u001b[0mengine\u001b[0m \u001b[0;34m==\u001b[0m \u001b[0;34m'python'\u001b[0m\u001b[0;34m:\u001b[0m\u001b[0;34m\u001b[0m\u001b[0m\n",
      "\u001b[0;32m/Users/dan/.virtualenvs/pandas/lib/python2.7/site-packages/pandas/io/parsers.pyc\u001b[0m in \u001b[0;36m__init__\u001b[0;34m(self, src, **kwds)\u001b[0m\n\u001b[1;32m   1388\u001b[0m         \u001b[0mkwds\u001b[0m\u001b[0;34m[\u001b[0m\u001b[0;34m'allow_leading_cols'\u001b[0m\u001b[0;34m]\u001b[0m \u001b[0;34m=\u001b[0m \u001b[0mself\u001b[0m\u001b[0;34m.\u001b[0m\u001b[0mindex_col\u001b[0m \u001b[0;32mis\u001b[0m \u001b[0;32mnot\u001b[0m \u001b[0mFalse\u001b[0m\u001b[0;34m\u001b[0m\u001b[0m\n\u001b[1;32m   1389\u001b[0m \u001b[0;34m\u001b[0m\u001b[0m\n\u001b[0;32m-> 1390\u001b[0;31m         \u001b[0mself\u001b[0m\u001b[0;34m.\u001b[0m\u001b[0m_reader\u001b[0m \u001b[0;34m=\u001b[0m \u001b[0m_parser\u001b[0m\u001b[0;34m.\u001b[0m\u001b[0mTextReader\u001b[0m\u001b[0;34m(\u001b[0m\u001b[0msrc\u001b[0m\u001b[0;34m,\u001b[0m \u001b[0;34m**\u001b[0m\u001b[0mkwds\u001b[0m\u001b[0;34m)\u001b[0m\u001b[0;34m\u001b[0m\u001b[0m\n\u001b[0m\u001b[1;32m   1391\u001b[0m \u001b[0;34m\u001b[0m\u001b[0m\n\u001b[1;32m   1392\u001b[0m         \u001b[0;31m# XXX\u001b[0m\u001b[0;34m\u001b[0m\u001b[0;34m\u001b[0m\u001b[0m\n",
      "\u001b[0;32mpandas/parser.pyx\u001b[0m in \u001b[0;36mpandas.parser.TextReader.__cinit__ (pandas/parser.c:4184)\u001b[0;34m()\u001b[0m\n",
      "\u001b[0;32mpandas/parser.pyx\u001b[0m in \u001b[0;36mpandas.parser.TextReader._setup_parser_source (pandas/parser.c:8449)\u001b[0;34m()\u001b[0m\n",
      "\u001b[0;31mIOError\u001b[0m: File saved_data.csv does not exist"
     ]
    }
   ],
   "source": [
    "read = pd.read_csv('saved_data.csv', delimiter='\\t')\n",
    "#TONS OF options for reading data"
   ]
  },
  {
   "cell_type": "code",
   "execution_count": 96,
   "metadata": {},
   "outputs": [
    {
     "data": {
      "text/plain": [
       "'Other methods:\\npd.read_excel\\npd.read_sql\\npd.read_stata\\n...\\n'"
      ]
     },
     "execution_count": 96,
     "metadata": {},
     "output_type": "execute_result"
    }
   ],
   "source": [
    "\"\"\"Other methods:\n",
    "pd.read_excel\n",
    "pd.read_sql\n",
    "pd.read_stata\n",
    "...\n",
    "\"\"\""
   ]
  },
  {
   "cell_type": "markdown",
   "metadata": {},
   "source": [
    "#Other very useful things.\n",
    "\n",
    "join, concat and merge"
   ]
  },
  {
   "cell_type": "code",
   "execution_count": 97,
   "metadata": {},
   "outputs": [
    {
     "data": {
      "text/html": [
       "<div>\n",
       "<table border=\"1\" class=\"dataframe\">\n",
       "  <thead>\n",
       "    <tr style=\"text-align: right;\">\n",
       "      <th></th>\n",
       "      <th>state</th>\n",
       "      <th>index</th>\n",
       "      <th>0</th>\n",
       "      <th>1</th>\n",
       "      <th>2</th>\n",
       "      <th>3</th>\n",
       "      <th>4</th>\n",
       "      <th>governor</th>\n",
       "    </tr>\n",
       "  </thead>\n",
       "  <tbody>\n",
       "    <tr>\n",
       "      <th>20</th>\n",
       "      <td>Arizona</td>\n",
       "      <td>2016-09-30</td>\n",
       "      <td>1.166778</td>\n",
       "      <td>0.215424</td>\n",
       "      <td>1.676064</td>\n",
       "      <td>0.789007</td>\n",
       "      <td>0.882805</td>\n",
       "      <td>Doug Ducey</td>\n",
       "    </tr>\n",
       "    <tr>\n",
       "      <th>23</th>\n",
       "      <td>Arizona</td>\n",
       "      <td>2016-12-31</td>\n",
       "      <td>-2.074321</td>\n",
       "      <td>0.511545</td>\n",
       "      <td>-0.838102</td>\n",
       "      <td>-0.121717</td>\n",
       "      <td>0.807526</td>\n",
       "      <td>Doug Ducey</td>\n",
       "    </tr>\n",
       "    <tr>\n",
       "      <th>26</th>\n",
       "      <td>Arizona</td>\n",
       "      <td>2017-03-31</td>\n",
       "      <td>-0.094881</td>\n",
       "      <td>-0.022026</td>\n",
       "      <td>0.909659</td>\n",
       "      <td>-1.230812</td>\n",
       "      <td>1.006387</td>\n",
       "      <td>Doug Ducey</td>\n",
       "    </tr>\n",
       "    <tr>\n",
       "      <th>29</th>\n",
       "      <td>Arizona</td>\n",
       "      <td>2017-06-30</td>\n",
       "      <td>-0.487389</td>\n",
       "      <td>-0.451617</td>\n",
       "      <td>0.646114</td>\n",
       "      <td>-0.147433</td>\n",
       "      <td>0.132407</td>\n",
       "      <td>Doug Ducey</td>\n",
       "    </tr>\n",
       "    <tr>\n",
       "      <th>29</th>\n",
       "      <td>Arkansas</td>\n",
       "      <td>NaT</td>\n",
       "      <td>NaN</td>\n",
       "      <td>NaN</td>\n",
       "      <td>NaN</td>\n",
       "      <td>NaN</td>\n",
       "      <td>NaN</td>\n",
       "      <td>Asa Hutchinson</td>\n",
       "    </tr>\n",
       "  </tbody>\n",
       "</table>\n",
       "</div>"
      ],
      "text/plain": [
       "       state      index         0         1         2         3         4  \\\n",
       "20   Arizona 2016-09-30  1.166778  0.215424  1.676064  0.789007  0.882805   \n",
       "23   Arizona 2016-12-31 -2.074321  0.511545 -0.838102 -0.121717  0.807526   \n",
       "26   Arizona 2017-03-31 -0.094881 -0.022026  0.909659 -1.230812  1.006387   \n",
       "29   Arizona 2017-06-30 -0.487389 -0.451617  0.646114 -0.147433  0.132407   \n",
       "29  Arkansas        NaT       NaN       NaN       NaN       NaN       NaN   \n",
       "\n",
       "          governor  \n",
       "20      Doug Ducey  \n",
       "23      Doug Ducey  \n",
       "26      Doug Ducey  \n",
       "29      Doug Ducey  \n",
       "29  Asa Hutchinson  "
      ]
     },
     "execution_count": 97,
     "metadata": {},
     "output_type": "execute_result"
    }
   ],
   "source": [
    "state_df = pd.DataFrame({'governor':['Robert Bentley',\n",
    "                                    'Bill Walker',\n",
    "                                    'Doug Ducey',\n",
    "                                    'Asa Hutchinson']}, \n",
    "                        index=['Alabama', 'Alaska', 'Arizona', 'Arkansas'])\n",
    "#Note merge is most useful when you want to merge on something other than the index.\n",
    "#Default is to merge on common column names.\n",
    "pd.merge(df.reset_index(), state_df, \n",
    "         left_on='state', right_index=True, how='right').tail()"
   ]
  },
  {
   "cell_type": "code",
   "execution_count": 98,
   "metadata": {},
   "outputs": [
    {
     "data": {
      "text/html": [
       "<div>\n",
       "<table border=\"1\" class=\"dataframe\">\n",
       "  <thead>\n",
       "    <tr style=\"text-align: right;\">\n",
       "      <th></th>\n",
       "      <th>0</th>\n",
       "      <th>1</th>\n",
       "      <th>2</th>\n",
       "      <th>3</th>\n",
       "      <th>4</th>\n",
       "    </tr>\n",
       "    <tr>\n",
       "      <th>state</th>\n",
       "      <th></th>\n",
       "      <th></th>\n",
       "      <th></th>\n",
       "      <th></th>\n",
       "      <th></th>\n",
       "    </tr>\n",
       "  </thead>\n",
       "  <tbody>\n",
       "    <tr>\n",
       "      <th>Alabama</th>\n",
       "      <td>-0.294015</td>\n",
       "      <td>0.378143</td>\n",
       "      <td>-0.272110</td>\n",
       "      <td>0.564878</td>\n",
       "      <td>-0.195203</td>\n",
       "    </tr>\n",
       "    <tr>\n",
       "      <th>Alaska</th>\n",
       "      <td>0.530297</td>\n",
       "      <td>-0.879668</td>\n",
       "      <td>-0.478329</td>\n",
       "      <td>-0.168765</td>\n",
       "      <td>-0.091122</td>\n",
       "    </tr>\n",
       "    <tr>\n",
       "      <th>Arizona</th>\n",
       "      <td>-0.157923</td>\n",
       "      <td>-0.031870</td>\n",
       "      <td>0.441283</td>\n",
       "      <td>-0.159877</td>\n",
       "      <td>-0.249299</td>\n",
       "    </tr>\n",
       "  </tbody>\n",
       "</table>\n",
       "</div>"
      ],
      "text/plain": [
       "                0         1         2         3         4\n",
       "state                                                    \n",
       "Alabama -0.294015  0.378143 -0.272110  0.564878 -0.195203\n",
       "Alaska   0.530297 -0.879668 -0.478329 -0.168765 -0.091122\n",
       "Arizona -0.157923 -0.031870  0.441283 -0.159877 -0.249299"
      ]
     },
     "execution_count": 98,
     "metadata": {},
     "output_type": "execute_result"
    }
   ],
   "source": [
    "state_avg = df.groupby(level=0).mean()\n",
    "state_avg.head()"
   ]
  },
  {
   "cell_type": "code",
   "execution_count": 99,
   "metadata": {},
   "outputs": [
    {
     "data": {
      "text/html": [
       "<div>\n",
       "<table border=\"1\" class=\"dataframe\">\n",
       "  <thead>\n",
       "    <tr style=\"text-align: right;\">\n",
       "      <th></th>\n",
       "      <th>0</th>\n",
       "      <th>1</th>\n",
       "      <th>2</th>\n",
       "      <th>3</th>\n",
       "      <th>4</th>\n",
       "      <th>governor</th>\n",
       "    </tr>\n",
       "  </thead>\n",
       "  <tbody>\n",
       "    <tr>\n",
       "      <th>Alabama</th>\n",
       "      <td>-0.294015</td>\n",
       "      <td>0.378143</td>\n",
       "      <td>-0.272110</td>\n",
       "      <td>0.564878</td>\n",
       "      <td>-0.195203</td>\n",
       "      <td>Robert Bentley</td>\n",
       "    </tr>\n",
       "    <tr>\n",
       "      <th>Alaska</th>\n",
       "      <td>0.530297</td>\n",
       "      <td>-0.879668</td>\n",
       "      <td>-0.478329</td>\n",
       "      <td>-0.168765</td>\n",
       "      <td>-0.091122</td>\n",
       "      <td>Bill Walker</td>\n",
       "    </tr>\n",
       "    <tr>\n",
       "      <th>Arizona</th>\n",
       "      <td>-0.157923</td>\n",
       "      <td>-0.031870</td>\n",
       "      <td>0.441283</td>\n",
       "      <td>-0.159877</td>\n",
       "      <td>-0.249299</td>\n",
       "      <td>Doug Ducey</td>\n",
       "    </tr>\n",
       "    <tr>\n",
       "      <th>Arkansas</th>\n",
       "      <td>NaN</td>\n",
       "      <td>NaN</td>\n",
       "      <td>NaN</td>\n",
       "      <td>NaN</td>\n",
       "      <td>NaN</td>\n",
       "      <td>Asa Hutchinson</td>\n",
       "    </tr>\n",
       "  </tbody>\n",
       "</table>\n",
       "</div>"
      ],
      "text/plain": [
       "                 0         1         2         3         4        governor\n",
       "Alabama  -0.294015  0.378143 -0.272110  0.564878 -0.195203  Robert Bentley\n",
       "Alaska    0.530297 -0.879668 -0.478329 -0.168765 -0.091122     Bill Walker\n",
       "Arizona  -0.157923 -0.031870  0.441283 -0.159877 -0.249299      Doug Ducey\n",
       "Arkansas       NaN       NaN       NaN       NaN       NaN  Asa Hutchinson"
      ]
     },
     "execution_count": 99,
     "metadata": {},
     "output_type": "execute_result"
    }
   ],
   "source": [
    "#Concat allows joining along the axes.\n",
    "pd.concat([state_avg, state_df], axis=1)"
   ]
  },
  {
   "cell_type": "code",
   "execution_count": 100,
   "metadata": {},
   "outputs": [
    {
     "data": {
      "text/html": [
       "<div>\n",
       "<table border=\"1\" class=\"dataframe\">\n",
       "  <thead>\n",
       "    <tr style=\"text-align: right;\">\n",
       "      <th></th>\n",
       "      <th>0</th>\n",
       "      <th>1</th>\n",
       "      <th>2</th>\n",
       "      <th>3</th>\n",
       "      <th>4</th>\n",
       "      <th>governor</th>\n",
       "    </tr>\n",
       "  </thead>\n",
       "  <tbody>\n",
       "    <tr>\n",
       "      <th>Alabama</th>\n",
       "      <td>-0.294015</td>\n",
       "      <td>0.378143</td>\n",
       "      <td>-0.272110</td>\n",
       "      <td>0.564878</td>\n",
       "      <td>-0.195203</td>\n",
       "      <td>Robert Bentley</td>\n",
       "    </tr>\n",
       "    <tr>\n",
       "      <th>Alaska</th>\n",
       "      <td>0.530297</td>\n",
       "      <td>-0.879668</td>\n",
       "      <td>-0.478329</td>\n",
       "      <td>-0.168765</td>\n",
       "      <td>-0.091122</td>\n",
       "      <td>Bill Walker</td>\n",
       "    </tr>\n",
       "    <tr>\n",
       "      <th>Arizona</th>\n",
       "      <td>-0.157923</td>\n",
       "      <td>-0.031870</td>\n",
       "      <td>0.441283</td>\n",
       "      <td>-0.159877</td>\n",
       "      <td>-0.249299</td>\n",
       "      <td>Doug Ducey</td>\n",
       "    </tr>\n",
       "    <tr>\n",
       "      <th>Arkansas</th>\n",
       "      <td>NaN</td>\n",
       "      <td>NaN</td>\n",
       "      <td>NaN</td>\n",
       "      <td>NaN</td>\n",
       "      <td>NaN</td>\n",
       "      <td>Asa Hutchinson</td>\n",
       "    </tr>\n",
       "  </tbody>\n",
       "</table>\n",
       "</div>"
      ],
      "text/plain": [
       "                 0         1         2         3         4        governor\n",
       "Alabama  -0.294015  0.378143 -0.272110  0.564878 -0.195203  Robert Bentley\n",
       "Alaska    0.530297 -0.879668 -0.478329 -0.168765 -0.091122     Bill Walker\n",
       "Arizona  -0.157923 -0.031870  0.441283 -0.159877 -0.249299      Doug Ducey\n",
       "Arkansas       NaN       NaN       NaN       NaN       NaN  Asa Hutchinson"
      ]
     },
     "execution_count": 100,
     "metadata": {},
     "output_type": "execute_result"
    }
   ],
   "source": [
    "#Join also works. Just like merge, but \n",
    "#default is to join on indexes.\n",
    "state_avg.join(state_df, how='right')"
   ]
  },
  {
   "cell_type": "markdown",
   "metadata": {},
   "source": [
    "#Exploratory Data Analysis with Pandas"
   ]
  },
  {
   "cell_type": "code",
   "execution_count": 101,
   "metadata": {
    "collapsed": true
   },
   "outputs": [],
   "source": [
    "import matplotlib.pyplot as plt\n",
    "%matplotlib inline"
   ]
  },
  {
   "cell_type": "code",
   "execution_count": 102,
   "metadata": {},
   "outputs": [
    {
     "name": "stdout",
     "output_type": "stream",
     "text": [
      "         Date   Outlook  Temperature  Humidity  Windy      Result\n",
      "0  07-01-2014     sunny           85        85  False  Don't Play\n",
      "1  07-02-2014     sunny           80        90   True  Don't Play\n",
      "2  07-03-2014  overcast           83        78  False        Play\n",
      "3  07-04-2014      rain           70        96  False        Play\n",
      "4  07-05-2014      rain           68        80  False        Play\n"
     ]
    }
   ],
   "source": [
    "df = pd.read_csv('data/playgolf.csv', delimiter='|' )\n",
    "print df.head()"
   ]
  },
  {
   "cell_type": "markdown",
   "metadata": {},
   "source": [
    "#Describe the continuous variables\n",
    "##This treats the Boolean Windy variable as a series of 0's and 1's"
   ]
  },
  {
   "cell_type": "code",
   "execution_count": 103,
   "metadata": {},
   "outputs": [
    {
     "data": {
      "text/html": [
       "<div>\n",
       "<table border=\"1\" class=\"dataframe\">\n",
       "  <thead>\n",
       "    <tr style=\"text-align: right;\">\n",
       "      <th></th>\n",
       "      <th>count</th>\n",
       "      <th>mean</th>\n",
       "      <th>std</th>\n",
       "      <th>min</th>\n",
       "      <th>25%</th>\n",
       "      <th>50%</th>\n",
       "      <th>75%</th>\n",
       "      <th>max</th>\n",
       "    </tr>\n",
       "  </thead>\n",
       "  <tbody>\n",
       "    <tr>\n",
       "      <th>Temperature</th>\n",
       "      <td>14.0</td>\n",
       "      <td>73.571429</td>\n",
       "      <td>6.571667</td>\n",
       "      <td>64.0</td>\n",
       "      <td>69.25</td>\n",
       "      <td>72.0</td>\n",
       "      <td>78.75</td>\n",
       "      <td>85.0</td>\n",
       "    </tr>\n",
       "    <tr>\n",
       "      <th>Humidity</th>\n",
       "      <td>14.0</td>\n",
       "      <td>80.285714</td>\n",
       "      <td>9.840486</td>\n",
       "      <td>65.0</td>\n",
       "      <td>71.25</td>\n",
       "      <td>80.0</td>\n",
       "      <td>88.75</td>\n",
       "      <td>96.0</td>\n",
       "    </tr>\n",
       "  </tbody>\n",
       "</table>\n",
       "</div>"
      ],
      "text/plain": [
       "             count       mean       std   min    25%   50%    75%   max\n",
       "Temperature   14.0  73.571429  6.571667  64.0  69.25  72.0  78.75  85.0\n",
       "Humidity      14.0  80.285714  9.840486  65.0  71.25  80.0  88.75  96.0"
      ]
     },
     "execution_count": 103,
     "metadata": {},
     "output_type": "execute_result"
    }
   ],
   "source": [
    "df.describe().T"
   ]
  },
  {
   "cell_type": "markdown",
   "metadata": {},
   "source": [
    "Can see the general pattern of Temperature and Humidity and mean of a Boolean represents the percentage"
   ]
  },
  {
   "cell_type": "markdown",
   "metadata": {},
   "source": [
    "##We can make use of df.plot() to produce simple graphs that calls on the more adjustable Matplotlib library "
   ]
  },
  {
   "cell_type": "code",
   "execution_count": 104,
   "metadata": {
    "scrolled": true
   },
   "outputs": [
    {
     "data": {
      "text/plain": [
       "array([[<matplotlib.axes._subplots.AxesSubplot object at 0x1084fb910>,\n",
       "        <matplotlib.axes._subplots.AxesSubplot object at 0x10864da90>]], dtype=object)"
      ]
     },
     "execution_count": 104,
     "metadata": {},
     "output_type": "execute_result"
    },
    {
     "data": {
      "image/png": "[encoded data removed]",
      "text/plain": [
       "<matplotlib.figure.Figure at 0x1084ee7d0>"
      ]
     },
     "metadata": {},
     "output_type": "display_data"
    }
   ],
   "source": [
    "df.hist(['Temperature','Humidity'],bins=5)"
   ]
  },
  {
   "cell_type": "code",
   "execution_count": 105,
   "metadata": {},
   "outputs": [
    {
     "data": {
      "text/plain": [
       "<matplotlib.axes._subplots.AxesSubplot at 0x10873ead0>"
      ]
     },
     "execution_count": 105,
     "metadata": {},
     "output_type": "execute_result"
    },
    {
     "data": {
      "image/png": "[encoded data removed]",
      "text/plain": [
       "<matplotlib.figure.Figure at 0x1084ee110>"
      ]
     },
     "metadata": {},
     "output_type": "display_data"
    }
   ],
   "source": [
    "df[['Temperature','Humidity']].plot(kind='box')"
   ]
  },
  {
   "cell_type": "markdown",
   "metadata": {},
   "source": [
    "###Scatterplots for examining bivariate relationships"
   ]
  },
  {
   "cell_type": "code",
   "execution_count": 106,
   "metadata": {
    "scrolled": false
   },
   "outputs": [
    {
     "data": {
      "text/plain": [
       "<matplotlib.axes._subplots.AxesSubplot at 0x1084ce8d0>"
      ]
     },
     "execution_count": 106,
     "metadata": {},
     "output_type": "execute_result"
    },
    {
     "data": {
      "image/png": "[encoded data removed]",
      "text/plain": [
       "<matplotlib.figure.Figure at 0x108837850>"
      ]
     },
     "metadata": {},
     "output_type": "display_data"
    }
   ],
   "source": [
    "df.plot('Temperature', 'Humidity', kind='scatter')"
   ]
  },
  {
   "cell_type": "markdown",
   "metadata": {},
   "source": [
    "###If we want to color the scatterplots according to a category, it requires a bit of matplotlib...ugh!"
   ]
  },
  {
   "cell_type": "code",
   "execution_count": 107,
   "metadata": {},
   "outputs": [
    {
     "name": "stdout",
     "output_type": "stream",
     "text": [
      "overcast\n",
      "rain\n",
      "sunny\n"
     ]
    }
   ],
   "source": [
    "groups=df.groupby('Outlook')\n",
    "for name, group in groups:\n",
    "    print name"
   ]
  },
  {
   "cell_type": "code",
   "execution_count": 108,
   "metadata": {},
   "outputs": [
    {
     "data": {
      "image/png": "[encoded data removed]",
      "text/plain": [
       "<matplotlib.figure.Figure at 0x10882c090>"
      ]
     },
     "metadata": {},
     "output_type": "display_data"
    }
   ],
   "source": [
    "fig, ax = plt.subplots()\n",
    "\n",
    "ax.margins(0.05)\n",
    "for name, group in groups:\n",
    "    ax.plot(group.Temperature, group.Humidity, marker='o', linestyle='', ms=12, label=name)\n",
    "ax.legend(numpoints=1, loc='lower right')\n",
    "\n",
    "plt.show()"
   ]
  },
  {
   "cell_type": "markdown",
   "metadata": {},
   "source": [
    "#What about the categorical variables? Frequency tables and relative frequency tables"
   ]
  },
  {
   "cell_type": "markdown",
   "metadata": {},
   "source": [
    "###Simply df.value_counts() gets you the frequencies"
   ]
  },
  {
   "cell_type": "code",
   "execution_count": 109,
   "metadata": {},
   "outputs": [
    {
     "data": {
      "text/plain": [
       "rain        5\n",
       "sunny       5\n",
       "overcast    4\n",
       "Name: Outlook, dtype: int64"
      ]
     },
     "execution_count": 109,
     "metadata": {},
     "output_type": "execute_result"
    }
   ],
   "source": [
    "df['Outlook'].value_counts()"
   ]
  },
  {
   "cell_type": "markdown",
   "metadata": {},
   "source": [
    "###Using apply will get you the value counts for multiple columns at once"
   ]
  },
  {
   "cell_type": "code",
   "execution_count": 110,
   "metadata": {},
   "outputs": [
    {
     "data": {
      "text/html": [
       "<div>\n",
       "<table border=\"1\" class=\"dataframe\">\n",
       "  <thead>\n",
       "    <tr style=\"text-align: right;\">\n",
       "      <th></th>\n",
       "      <th>Outlook</th>\n",
       "      <th>Result</th>\n",
       "    </tr>\n",
       "  </thead>\n",
       "  <tbody>\n",
       "    <tr>\n",
       "      <th>Don't Play</th>\n",
       "      <td>NaN</td>\n",
       "      <td>5.0</td>\n",
       "    </tr>\n",
       "    <tr>\n",
       "      <th>Play</th>\n",
       "      <td>NaN</td>\n",
       "      <td>9.0</td>\n",
       "    </tr>\n",
       "    <tr>\n",
       "      <th>overcast</th>\n",
       "      <td>4.0</td>\n",
       "      <td>NaN</td>\n",
       "    </tr>\n",
       "    <tr>\n",
       "      <th>rain</th>\n",
       "      <td>5.0</td>\n",
       "      <td>NaN</td>\n",
       "    </tr>\n",
       "    <tr>\n",
       "      <th>sunny</th>\n",
       "      <td>5.0</td>\n",
       "      <td>NaN</td>\n",
       "    </tr>\n",
       "  </tbody>\n",
       "</table>\n",
       "</div>"
      ],
      "text/plain": [
       "            Outlook  Result\n",
       "Don't Play      NaN     5.0\n",
       "Play            NaN     9.0\n",
       "overcast        4.0     NaN\n",
       "rain            5.0     NaN\n",
       "sunny           5.0     NaN"
      ]
     },
     "execution_count": 110,
     "metadata": {},
     "output_type": "execute_result"
    }
   ],
   "source": [
    "df[['Outlook','Result']].apply(lambda x: x.value_counts())"
   ]
  },
  {
   "cell_type": "markdown",
   "metadata": {},
   "source": [
    "###Contingency Tables for looking at bivariate relationships between two categorical variables"
   ]
  },
  {
   "cell_type": "code",
   "execution_count": 111,
   "metadata": {},
   "outputs": [
    {
     "data": {
      "text/html": [
       "<div>\n",
       "<table border=\"1\" class=\"dataframe\">\n",
       "  <thead>\n",
       "    <tr style=\"text-align: right;\">\n",
       "      <th>Result</th>\n",
       "      <th>Don't Play</th>\n",
       "      <th>Play</th>\n",
       "    </tr>\n",
       "    <tr>\n",
       "      <th>Outlook</th>\n",
       "      <th></th>\n",
       "      <th></th>\n",
       "    </tr>\n",
       "  </thead>\n",
       "  <tbody>\n",
       "    <tr>\n",
       "      <th>overcast</th>\n",
       "      <td>0</td>\n",
       "      <td>4</td>\n",
       "    </tr>\n",
       "    <tr>\n",
       "      <th>rain</th>\n",
       "      <td>2</td>\n",
       "      <td>3</td>\n",
       "    </tr>\n",
       "    <tr>\n",
       "      <th>sunny</th>\n",
       "      <td>3</td>\n",
       "      <td>2</td>\n",
       "    </tr>\n",
       "  </tbody>\n",
       "</table>\n",
       "</div>"
      ],
      "text/plain": [
       "Result    Don't Play  Play\n",
       "Outlook                   \n",
       "overcast           0     4\n",
       "rain               2     3\n",
       "sunny              3     2"
      ]
     },
     "execution_count": 111,
     "metadata": {},
     "output_type": "execute_result"
    }
   ],
   "source": [
    "pd.crosstab(df['Outlook'], df['Result'])"
   ]
  },
  {
   "cell_type": "markdown",
   "metadata": {},
   "source": [
    "###Often we want the row percentages"
   ]
  },
  {
   "cell_type": "code",
   "execution_count": 112,
   "metadata": {},
   "outputs": [
    {
     "data": {
      "text/html": [
       "<div>\n",
       "<table border=\"1\" class=\"dataframe\">\n",
       "  <thead>\n",
       "    <tr style=\"text-align: right;\">\n",
       "      <th>Result</th>\n",
       "      <th>Don't Play</th>\n",
       "      <th>Play</th>\n",
       "    </tr>\n",
       "    <tr>\n",
       "      <th>Outlook</th>\n",
       "      <th></th>\n",
       "      <th></th>\n",
       "    </tr>\n",
       "  </thead>\n",
       "  <tbody>\n",
       "    <tr>\n",
       "      <th>overcast</th>\n",
       "      <td>0.0</td>\n",
       "      <td>1.0</td>\n",
       "    </tr>\n",
       "    <tr>\n",
       "      <th>rain</th>\n",
       "      <td>0.4</td>\n",
       "      <td>0.6</td>\n",
       "    </tr>\n",
       "    <tr>\n",
       "      <th>sunny</th>\n",
       "      <td>0.6</td>\n",
       "      <td>0.4</td>\n",
       "    </tr>\n",
       "  </tbody>\n",
       "</table>\n",
       "</div>"
      ],
      "text/plain": [
       "Result    Don't Play  Play\n",
       "Outlook                   \n",
       "overcast         0.0   1.0\n",
       "rain             0.4   0.6\n",
       "sunny            0.6   0.4"
      ]
     },
     "execution_count": 112,
     "metadata": {},
     "output_type": "execute_result"
    }
   ],
   "source": [
    "pd.crosstab(df['Outlook'], df['Result']).apply(lambda r: r/r.sum(), axis=1)"
   ]
  },
  {
   "cell_type": "markdown",
   "metadata": {},
   "source": [
    "###Or the column percentages"
   ]
  },
  {
   "cell_type": "code",
   "execution_count": 113,
   "metadata": {},
   "outputs": [
    {
     "data": {
      "text/html": [
       "<div>\n",
       "<table border=\"1\" class=\"dataframe\">\n",
       "  <thead>\n",
       "    <tr style=\"text-align: right;\">\n",
       "      <th>Result</th>\n",
       "      <th>Don't Play</th>\n",
       "      <th>Play</th>\n",
       "    </tr>\n",
       "    <tr>\n",
       "      <th>Outlook</th>\n",
       "      <th></th>\n",
       "      <th></th>\n",
       "    </tr>\n",
       "  </thead>\n",
       "  <tbody>\n",
       "    <tr>\n",
       "      <th>overcast</th>\n",
       "      <td>0.0</td>\n",
       "      <td>0.444444</td>\n",
       "    </tr>\n",
       "    <tr>\n",
       "      <th>rain</th>\n",
       "      <td>0.4</td>\n",
       "      <td>0.333333</td>\n",
       "    </tr>\n",
       "    <tr>\n",
       "      <th>sunny</th>\n",
       "      <td>0.6</td>\n",
       "      <td>0.222222</td>\n",
       "    </tr>\n",
       "  </tbody>\n",
       "</table>\n",
       "</div>"
      ],
      "text/plain": [
       "Result    Don't Play      Play\n",
       "Outlook                       \n",
       "overcast         0.0  0.444444\n",
       "rain             0.4  0.333333\n",
       "sunny            0.6  0.222222"
      ]
     },
     "execution_count": 113,
     "metadata": {},
     "output_type": "execute_result"
    }
   ],
   "source": [
    "pd.crosstab(df['Outlook'], df['Result']).apply(lambda c: c/c.sum(), axis=0)"
   ]
  },
  {
   "cell_type": "markdown",
   "metadata": {},
   "source": [
    "#Enough...lets get to the pair sprint\n",
    "\n",
    "https://www.youtube.com/watch?v=yGf6LNWY9AI"
   ]
  },
  {
   "cell_type": "code",
   "execution_count": null,
   "metadata": {
    "collapsed": true
   },
   "outputs": [],
   "source": []
  },
  {
   "cell_type": "code",
   "execution_count": null,
   "metadata": {
    "collapsed": true
   },
   "outputs": [],
   "source": []
  }
 ],
 "metadata": {
  "kernelspec": {
   "display_name": "Python 2",
   "language": "python",
   "name": "python2"
  },
  "language_info": {
   "codemirror_mode": {
    "name": "ipython",
    "version": 2
   },
   "file_extension": ".py",
   "mimetype": "text/x-python",
   "name": "python",
   "nbconvert_exporter": "python",
   "pygments_lexer": "ipython2",
   "version": "2.7.13"
  }
 },
 "nbformat": 4,
 "nbformat_minor": 1
}
