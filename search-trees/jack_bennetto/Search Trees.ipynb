{
 "cells": [
  {
   "cell_type": "markdown",
   "metadata": {},
   "source": [
    "## Binary Search Trees\n",
    "\n",
    "Jack Bennetto"
   ]
  },
  {
   "cell_type": "markdown",
   "metadata": {},
   "source": [
    "#### Objectives\n",
    "\n",
    "* Define a **tree**, a **binary tree**, a **binary search tree** (BST), and other related terms.\n",
    "* Describe the process of inserting a node and searching for a node in a BST.\n",
    "* Write code for a simple BST.\n",
    "* State the computational complexity of searching for a node in a BST in the average case.\n",
    "* State the complexity for searching in the worst case, and describe when that occurs."
   ]
  },
  {
   "cell_type": "markdown",
   "metadata": {},
   "source": [
    "A **tree** is an **undirected** **acyclic** **connected** **graph** with one node marked as **root**.\n",
    "\n",
    "**Discussion:** What do you think these terms mean?"
   ]
  },
  {
   "cell_type": "markdown",
   "metadata": {},
   "source": [
    "In a tree, the **parent** of a node is an **adjacent** node (node connected by an **edge**) that is closer to the root.\n",
    "\n",
    "**Question:** Can a node have two parents?\n",
    "\n",
    "In a tree, the **children** of a node are adjacent nodes that are farther from the root."
   ]
  },
  {
   "cell_type": "markdown",
   "metadata": {},
   "source": [
    "**Question:** what is a **binary tree**?"
   ]
  },
  {
   "cell_type": "markdown",
   "metadata": {},
   "source": [
    "### Binary Search Trees (BST)\n",
    "\n",
    "In a BST, each node has an associated **value**. A BST is a binary tree in which:\n",
    "\n",
    "* the values of all descendents on the **left**-hand side of the node are **smaller** than the value of the node, and \n",
    "* the values of all descendents on the **right**-hand side of the node are **larger** than the value of the node, and "
   ]
  },
  {
   "cell_type": "markdown",
   "metadata": {},
   "source": [
    "**Question:** How should we insert a node in a tree?\n",
    "\n",
    "**Question:** How should we search for a value in a tree?"
   ]
  },
  {
   "cell_type": "markdown",
   "metadata": {},
   "source": [
    "#### Computational Complexity\n",
    "\n",
    "We talked earlier about **computational complexity**, a measure of how a the time to complete something scales with the size of the input. In the case of search trees, we want to know how the log it takes to search for a node scales with the number of nodes in the tree.\n",
    "\n",
    "Imagine a perfectly balanced tree of **depth** 1 (the node farthest from the root is 1 step away), so it has three nodes. How many comparison might we have to make to search for a node?\n",
    "\n",
    "**Question:** Consider a perfectly balanced tree of depth 2. How many nodes will it have? How many comparisons will we have to make?\n",
    "\n",
    "**Question:** What about a tree of depth 3? Four? Five?\n",
    "\n",
    "**Question:** How does the number of comparisons scale with the size of the tree?\n",
    "\n",
    "**Discussion:** What if the tree is unbalanced? What does an unbalanced tree look like? How might it occur?"
   ]
  },
  {
   "cell_type": "markdown",
   "metadata": {},
   "source": [
    "### Recursion\n",
    "\n",
    "One way to implement BST is with recursive method.  Recursion uses the idea of \"divide and conquer\" to solve problems. It divides a complex problem you are working on into smaller sub-problems that are easily solved, rather than trying to solve the complex problem directly.\n",
    "\n",
    "Recursive functions split the problem into two cases: the base case and the recursive case. The function continually calls itself until it reaches the base case.\n",
    "\n",
    "Base case: Stopping criteria, the simplest case that can be solved directly.\n",
    "\n",
    "Recursive case: Function that splits the problem into the smaller subproblems.\n",
    "\n",
    "Three Laws of Recursion\n",
    "* A recursive algorithm must have a base case.\n",
    "* A recursive algorithm must call itself, recursively.\n",
    "* A recursive algorithm must call itself with different arguments so as to move it toward the base case.\n",
    "\n",
    "Example: Factorial\n",
    "\n",
    "Are the following functions the same?\n",
    "\n",
    "$$ f(x) = \\prod_{i=1}^xi $$$$f(x) =\n",
    "\\left\\{\n",
    "    \\begin{array}{ll}\n",
    "        1  &amp; \\mbox{if } x \\leq 1 \\\\\n",
    "        xf(x-1) &amp; \\mbox otherwise\n",
    "    \\end{array}\n",
    "\\right.\n",
    "$$\n",
    "Let's code this together."
   ]
  },
  {
   "cell_type": "code",
   "execution_count": 1,
   "metadata": {},
   "outputs": [],
   "source": [
    "def factorial(x):\n",
    "    \"\"\"Recursively calculate x!\"\"\"\n",
    "    # base case is when we get to x=0, which is 0! = 1"
   ]
  },
  {
   "cell_type": "code",
   "execution_count": null,
   "metadata": {},
   "outputs": [],
   "source": []
  },
  {
   "cell_type": "markdown",
   "metadata": {},
   "source": [
    "Let's try another together."
   ]
  },
  {
   "cell_type": "code",
   "execution_count": 2,
   "metadata": {},
   "outputs": [],
   "source": [
    "def power(base, exp):\n",
    "    \"\"\"Recrsively calculate base ** exp\"\"\""
   ]
  },
  {
   "cell_type": "code",
   "execution_count": null,
   "metadata": {},
   "outputs": [],
   "source": []
  },
  {
   "cell_type": "markdown",
   "metadata": {},
   "source": [
    "Fill in the following function."
   ]
  },
  {
   "cell_type": "code",
   "execution_count": 3,
   "metadata": {},
   "outputs": [],
   "source": [
    "def is_power_of_2(x):\n",
    "    \"\"\"Recursively check if a number is a power of two by dividing by two until odd.\n",
    "    Return True if 2 is the only prime factor\"\"\"\n",
    "    # base case, when should you stop?  \n",
    "    # recursive case, how can you reduce your problem?"
   ]
  },
  {
   "cell_type": "markdown",
   "metadata": {},
   "source": [
    "**Discussion:** How does this apply to binary search trees?\n"
   ]
  },
  {
   "cell_type": "code",
   "execution_count": null,
   "metadata": {},
   "outputs": [],
   "source": []
  }
 ],
 "metadata": {
  "kernelspec": {
   "display_name": "Python 3",
   "language": "python",
   "name": "python3"
  },
  "language_info": {
   "codemirror_mode": {
    "name": "ipython",
    "version": 3
   },
   "file_extension": ".py",
   "mimetype": "text/x-python",
   "name": "python",
   "nbconvert_exporter": "python",
   "pygments_lexer": "ipython3",
   "version": "3.6.7"
  }
 },
 "nbformat": 4,
 "nbformat_minor": 2
}
