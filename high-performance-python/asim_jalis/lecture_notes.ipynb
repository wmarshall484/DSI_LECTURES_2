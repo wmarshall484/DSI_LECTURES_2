{
 "cells": [
  {
   "cell_type": "code",
   "execution_count": 1,
   "metadata": {
    "collapsed": false
   },
   "outputs": [
    {
     "data": {
      "application/javascript": [
       "$.getScript('http://asimjalis.github.io/ipyn-ext/js/ipyn-present.js')"
      ],
      "text/plain": [
       "<IPython.core.display.Javascript object>"
      ]
     },
     "metadata": {},
     "output_type": "display_data"
    }
   ],
   "source": [
    "%%javascript\n",
    "$.getScript('http://asimjalis.github.io/ipyn-ext/js/ipyn-present.js')"
   ]
  },
  {
   "cell_type": "markdown",
   "metadata": {},
   "source": [
    "<!-- \n",
    "The ipynb was auto-generated from markdown using notedown.\n",
    "Instead of modifying the ipynb file modify the markdown source. \n",
    "-->\n",
    "\n",
    "<h1 class=\"tocheading\">AWS Services</h1>\n",
    "<div id=\"toc\"></div>\n",
    "\n",
    "AWS Services\n",
    "============\n",
    "\n",
    "AWS Storage + Execution\n",
    "-----------------------\n",
    "\n",
    "What are the primary services that Amazon AWS offers?\n",
    "\n",
    "\n",
    "Name   |Full Name                  |Service\n",
    "----   |---------                  |-------\n",
    "EC2    |Elastic Compute Cloud      |Execution\n",
    "S3     |Simple Storage Service     |Storage\n",
    "EBS    |Elastic Block Store        |Storage attached to EC2 instances\n",
    "\n",
    "Pop Quiz\n",
    "--------\n",
    "\n",
    "<details><summary>\n",
    "Q: I want to store some video files on the web. Which Amazon service\n",
    "should I use?\n",
    "</summary>\n",
    "S3\n",
    "</details>\n",
    "\n",
    "<details><summary>\n",
    "Q: I just created an iPhone app which needs to store user profiles on the\n",
    "web somewhere. Which Amazon service should I use?\n",
    "</summary>\n",
    "S3\n",
    "</details>\n",
    "\n",
    "<details><summary>\n",
    "Q: I want to create a web application in PHP. Which Amazon service\n",
    "should I use?\n",
    "</summary>\n",
    "EC2 + EBS or EC2 + S3\n",
    "</details>\n",
    "\n",
    "\n",
    "\n",
    "S3 vs EBS\n",
    "---------\n",
    "\n",
    "What is the difference between S3 and EBS? Why would I use one versus\n",
    "the other?\n",
    "\n",
    "\n",
    "Feature                |S3                   |EBS\n",
    "-------                |--                   |---\n",
    "Can be accessed from   |Anywhere on the web  |Particular availability zone\n",
    "Can be accessed from   |Any EC2 instance     |EC2 instance attached to it\n",
    "Pricing                |Storage              |Storage + IOPS\n",
    "Price                  |Cheaper              |More Expensive\n",
    "Latency                |Higher               |Lower\n",
    "Throughput             |Varies More          |Varies Less\n",
    "Performance            |Slightly Worse       |Slightly Better\n",
    "Max volume size        |Unlimited            |16 TB\n",
    "Max file size          |5 TB                 |16 TB\n",
    "\n",
    "Pop Quiz\n",
    "--------\n",
    "\n",
    "<details><summary>\n",
    "Q: What is latency?\n",
    "</summary>\n",
    "Latency is the time it takes between making a request and the start of a response.\n",
    "</details>\n",
    "\n",
    "\n",
    "<details><summary>\n",
    "Q: Which is better? Higher latency or lower?\n",
    "</summary>\n",
    "Lower is better.\n",
    "</details>\n",
    "\n",
    "<details><summary>\n",
    "Q: Why is S3 latency higher than EBS?\n",
    "</summary>\n",
    "One reason is that EBS is in the same availability zone.\n",
    "</details>\n",
    "\n",
    "\n",
    "Amazon vs Other Cloud Services\n",
    "------------------------------\n",
    "\n",
    "Why do so many companies use Amazon's Web Services for their backend?\n",
    "\n",
    "- Steve Yegge provides one of the big reasons for AWS's popularity.\n",
    "\n",
    "\n",
    "Steve Yegge and Decoupled Design\n",
    "--------------------------------\n",
    "\n",
    "<img src=\"img/yegge.jpg\">\n",
    "\n",
    "Who is Steve Yegge?\n",
    "\n",
    "- Steve Yegge is a developer from Amazon and Google.\n",
    "\n",
    "- Steve blogged a long [rant][yegge-rant] about Amazon's APIs vs\n",
    "  Google's APIs.\n",
    "\n",
    "[yegge-rant]: https://plus.google.com/+RipRowan/posts/eVeouesvaVX\n",
    "\n",
    "What is the difference between Amazon and Google's APIs?\n",
    "\n",
    "- At Amazon developers have to use Amazon's public APIs to for their\n",
    "  internal dependencies.\n",
    "\n",
    "- At Google developers can use private APIs for dependencies.\n",
    "\n",
    "- The forced dogfooding makes Amazon's APIs more decoupled.\n",
    "\n",
    "---\n",
    "\n",
    "Amazon S3\n",
    "=========\n",
    "\n",
    "Buckets and Files\n",
    "-----------------\n",
    "\n",
    "What is a bucket?\n",
    "\n",
    "- A bucket is a container for files.\n",
    "\n",
    "- Think of a bucket as a logical grouping of files like a sub-domain.\n",
    "\n",
    "- A bucket can contain an arbitrary number of files.\n",
    "\n",
    "How large can a file in a bucket be?\n",
    "\n",
    "- A file in a bucket can be 5 TB.\n",
    "\n",
    "\n",
    "Bucket Names\n",
    "------------\n",
    "\n",
    "What are best practices on naming buckets?\n",
    "\n",
    "- Bucket names should be DNS-compliant.\n",
    "\n",
    "- They must be at least 3 and no more than 63 characters long.\n",
    "\n",
    "- They must be a series of one or more labels, separated by a single\n",
    "  period. \n",
    "  \n",
    "- Bucket names can contain lowercase letters, numbers, and hyphens. \n",
    "\n",
    "- Each label must start and end with a lowercase letter or a number.\n",
    "\n",
    "- Bucket names must not be formatted as an IP address (e.g., 192.168.5.4).\n",
    "\n",
    "What are some examples of valid bucket names?\n",
    "\n",
    "- `myawsbucket`\n",
    "\n",
    "- `my.aws.bucket`\n",
    "\n",
    "- `myawsbucket.1`\n",
    "\n",
    "What are some examples of invalid bucket names? \n",
    "\n",
    "- `.myawsbucket`\n",
    "\n",
    "- `myawsbucket.`\n",
    "\n",
    "- `my..examplebucket`\n",
    "\n",
    "Pop Quiz\n",
    "--------\n",
    "\n",
    "<details><summary>\n",
    "Q: Why are these bucket names invalid?\n",
    "</summary>\n",
    "Bucket names cannot start or end with a period. And they cannot have a\n",
    "multiple periods next to each other.\n",
    "</details>\n",
    "\n",
    "\n",
    "Creating Buckets\n",
    "----------------\n",
    "\n",
    "Q: How can I create a bucket?\n",
    "\n",
    "- Get your access key and secret key from the `rootkey.csv` that you\n",
    "  downloaded from Amazon AWS.\n",
    "  \n",
    "- Create a file called `~/.aws/credentials` (on Linux/Mac) or\n",
    "  `%USERPROFILE%\\.aws\\credentials` (on Windows), and insert the\n",
    "  following code into it. Replace `ACCESS_KEY` and `SECRET_KEY` with\n",
    "  the S3 keys you got from Amazon.\n",
    "  \n",
    "```\n",
    "[default]\n",
    "aws_access_key_id = ACCESS_KEY\n",
    "aws_secret_access_key = SECRET_KEY\n",
    "```\n",
    "\n",
    "- Create a connection to S3."
   ]
  },
  {
   "cell_type": "code",
   "execution_count": 2,
   "metadata": {
    "collapsed": false
   },
   "outputs": [
    {
     "name": "stdout",
     "output_type": "stream",
     "text": [
      "S3Connection:s3.amazonaws.com\n"
     ]
    }
   ],
   "source": [
    "import boto\n",
    "conn = boto.connect_s3()\n",
    "print conn"
   ]
  },
  {
   "cell_type": "markdown",
   "metadata": {},
   "source": [
    "- List all the buckets."
   ]
  },
  {
   "cell_type": "code",
   "execution_count": 3,
   "metadata": {
    "collapsed": false
   },
   "outputs": [
    {
     "data": {
      "text/plain": [
       "[<Bucket: dsci>,\n",
       " <Bucket: gu-msds>,\n",
       " <Bucket: ill-instructor>,\n",
       " <Bucket: msdsci>,\n",
       " <Bucket: seattle-dsi>]"
      ]
     },
     "execution_count": 3,
     "metadata": {},
     "output_type": "execute_result"
    }
   ],
   "source": [
    "conn.get_all_buckets()"
   ]
  },
  {
   "cell_type": "markdown",
   "metadata": {},
   "source": [
    "- Create new bucket."
   ]
  },
  {
   "cell_type": "code",
   "execution_count": 4,
   "metadata": {
    "collapsed": false
   },
   "outputs": [
    {
     "name": "stdout",
     "output_type": "stream",
     "text": [
      "isaac1\n",
      "<Bucket: isaac1>\n"
     ]
    }
   ],
   "source": [
    "import os\n",
    "user = os.environ['USER']\n",
    "bucket_name = user + \"1\"\n",
    "bucket_name = bucket_name.lower()\n",
    "print bucket_name\n",
    "bucket = conn.create_bucket(bucket_name)\n",
    "print bucket"
   ]
  },
  {
   "cell_type": "markdown",
   "metadata": {},
   "source": [
    "Upgrading Boto\n",
    "--------------\n",
    "\n",
    "Q: Boto is not able to find the credentials. How can I fix this?\n",
    "\n",
    "- Older versions of Boto were not able to read the credentials file.\n",
    "\n",
    "- You might run into this problem on the EC2 instance.\n",
    "\n",
    "- Here is how to upgrade Boto to the latest version."
   ]
  },
  {
   "cell_type": "code",
   "execution_count": null,
   "metadata": {
    "collapsed": true
   },
   "outputs": [],
   "source": [
    "sudo pip install --upgrade boto"
   ]
  },
  {
   "cell_type": "markdown",
   "metadata": {},
   "source": [
    "Adding Files\n",
    "------------\n",
    "\n",
    "Q: How can I add a file to a bucket?\n",
    "\n",
    "- List files."
   ]
  },
  {
   "cell_type": "code",
   "execution_count": 5,
   "metadata": {
    "collapsed": false
   },
   "outputs": [
    {
     "data": {
      "text/plain": [
       "[]"
      ]
     },
     "execution_count": 5,
     "metadata": {},
     "output_type": "execute_result"
    }
   ],
   "source": [
    "bucket.get_all_keys()"
   ]
  },
  {
   "cell_type": "markdown",
   "metadata": {},
   "source": [
    "- Add file."
   ]
  },
  {
   "cell_type": "code",
   "execution_count": 7,
   "metadata": {
    "collapsed": false
   },
   "outputs": [
    {
     "name": "stdout",
     "output_type": "stream",
     "text": [
      "<Key: isaac1,file.txt>\n"
     ]
    },
    {
     "data": {
      "text/plain": [
       "13"
      ]
     },
     "execution_count": 7,
     "metadata": {},
     "output_type": "execute_result"
    }
   ],
   "source": [
    "file = bucket.new_key('file.txt')\n",
    "print file\n",
    "file.set_contents_from_string('hello world!!')"
   ]
  },
  {
   "cell_type": "markdown",
   "metadata": {},
   "source": [
    "- List files again. New file should appear."
   ]
  },
  {
   "cell_type": "code",
   "execution_count": 8,
   "metadata": {
    "collapsed": false
   },
   "outputs": [
    {
     "data": {
      "text/plain": [
       "[<Key: isaac1,file.txt>]"
      ]
     },
     "execution_count": 8,
     "metadata": {},
     "output_type": "execute_result"
    }
   ],
   "source": [
    "bucket.get_all_keys()"
   ]
  },
  {
   "cell_type": "markdown",
   "metadata": {},
   "source": [
    "Q: How can I get a file from a bucket?\n",
    "\n",
    "- Get file."
   ]
  },
  {
   "cell_type": "code",
   "execution_count": 9,
   "metadata": {
    "collapsed": false
   },
   "outputs": [
    {
     "name": "stdout",
     "output_type": "stream",
     "text": [
      "hello world!!\n"
     ]
    }
   ],
   "source": [
    "f = bucket.get_key('file.txt')\n",
    "print f.get_contents_as_string()\n"
   ]
  },
  {
   "cell_type": "markdown",
   "metadata": {},
   "source": [
    "Creating Buckets With Periods\n",
    "-----------------------------\n",
    "\n",
    "Q: How can I create a bucket in Boto with a period in the name?\n",
    "\n",
    "- There is a bug in Boto that causes `create_bucket` to fail if the\n",
    "  bucket name has a period in it. \n",
    "\n",
    "- Try creating the bucket with a period in its name. This should fail."
   ]
  },
  {
   "cell_type": "code",
   "execution_count": 10,
   "metadata": {
    "collapsed": false
   },
   "outputs": [
    {
     "ename": "CertificateError",
     "evalue": "hostname 'isaac1.1.2.3.s3.amazonaws.com' doesn't match either of '*.s3.amazonaws.com', 's3.amazonaws.com'",
     "output_type": "error",
     "traceback": [
      "\u001b[0;31m---------------------------------------------------------------------------\u001b[0m",
      "\u001b[0;31mCertificateError\u001b[0m                          Traceback (most recent call last)",
      "\u001b[0;32m<ipython-input-10-1577e62450c9>\u001b[0m in \u001b[0;36m<module>\u001b[0;34m()\u001b[0m\n\u001b[1;32m      1\u001b[0m \u001b[0mbucket_name_with_period\u001b[0m \u001b[0;34m=\u001b[0m \u001b[0mbucket_name\u001b[0m \u001b[0;34m+\u001b[0m \u001b[0;34m\".1.2.3\"\u001b[0m\u001b[0;34m\u001b[0m\u001b[0m\n\u001b[0;32m----> 2\u001b[0;31m \u001b[0mbucket_with_period\u001b[0m \u001b[0;34m=\u001b[0m \u001b[0mconn\u001b[0m\u001b[0;34m.\u001b[0m\u001b[0mcreate_bucket\u001b[0m\u001b[0;34m(\u001b[0m\u001b[0mbucket_name_with_period\u001b[0m\u001b[0;34m)\u001b[0m\u001b[0;34m\u001b[0m\u001b[0m\n\u001b[0m\u001b[1;32m      3\u001b[0m \u001b[0;32mprint\u001b[0m \u001b[0mbucket_with_period\u001b[0m\u001b[0;34m\u001b[0m\u001b[0m\n",
      "\u001b[0;32m/Users/isaac/anaconda/lib/python2.7/site-packages/boto/s3/connection.pyc\u001b[0m in \u001b[0;36mcreate_bucket\u001b[0;34m(self, bucket_name, headers, location, policy)\u001b[0m\n\u001b[1;32m    610\u001b[0m                     \u001b[0mlocation\u001b[0m \u001b[0;34m+\u001b[0m \u001b[0;34m'</LocationConstraint></CreateBucketConfiguration>'\u001b[0m\u001b[0;34m\u001b[0m\u001b[0m\n\u001b[1;32m    611\u001b[0m         response = self.make_request('PUT', bucket_name, headers=headers,\n\u001b[0;32m--> 612\u001b[0;31m                 data=data)\n\u001b[0m\u001b[1;32m    613\u001b[0m         \u001b[0mbody\u001b[0m \u001b[0;34m=\u001b[0m \u001b[0mresponse\u001b[0m\u001b[0;34m.\u001b[0m\u001b[0mread\u001b[0m\u001b[0;34m(\u001b[0m\u001b[0;34m)\u001b[0m\u001b[0;34m\u001b[0m\u001b[0m\n\u001b[1;32m    614\u001b[0m         \u001b[0;32mif\u001b[0m \u001b[0mresponse\u001b[0m\u001b[0;34m.\u001b[0m\u001b[0mstatus\u001b[0m \u001b[0;34m==\u001b[0m \u001b[0;36m409\u001b[0m\u001b[0;34m:\u001b[0m\u001b[0;34m\u001b[0m\u001b[0m\n",
      "\u001b[0;32m/Users/isaac/anaconda/lib/python2.7/site-packages/boto/s3/connection.pyc\u001b[0m in \u001b[0;36mmake_request\u001b[0;34m(self, method, bucket, key, headers, data, query_args, sender, override_num_retries, retry_handler)\u001b[0m\n\u001b[1;32m    662\u001b[0m             \u001b[0mdata\u001b[0m\u001b[0;34m,\u001b[0m \u001b[0mhost\u001b[0m\u001b[0;34m,\u001b[0m \u001b[0mauth_path\u001b[0m\u001b[0;34m,\u001b[0m \u001b[0msender\u001b[0m\u001b[0;34m,\u001b[0m\u001b[0;34m\u001b[0m\u001b[0m\n\u001b[1;32m    663\u001b[0m             \u001b[0moverride_num_retries\u001b[0m\u001b[0;34m=\u001b[0m\u001b[0moverride_num_retries\u001b[0m\u001b[0;34m,\u001b[0m\u001b[0;34m\u001b[0m\u001b[0m\n\u001b[0;32m--> 664\u001b[0;31m             \u001b[0mretry_handler\u001b[0m\u001b[0;34m=\u001b[0m\u001b[0mretry_handler\u001b[0m\u001b[0;34m\u001b[0m\u001b[0m\n\u001b[0m\u001b[1;32m    665\u001b[0m         )\n",
      "\u001b[0;32m/Users/isaac/anaconda/lib/python2.7/site-packages/boto/connection.pyc\u001b[0m in \u001b[0;36mmake_request\u001b[0;34m(self, method, path, headers, data, host, auth_path, sender, override_num_retries, params, retry_handler)\u001b[0m\n\u001b[1;32m   1069\u001b[0m                                                     params, headers, data, host)\n\u001b[1;32m   1070\u001b[0m         return self._mexe(http_request, sender, override_num_retries,\n\u001b[0;32m-> 1071\u001b[0;31m                           retry_handler=retry_handler)\n\u001b[0m\u001b[1;32m   1072\u001b[0m \u001b[0;34m\u001b[0m\u001b[0m\n\u001b[1;32m   1073\u001b[0m     \u001b[0;32mdef\u001b[0m \u001b[0mclose\u001b[0m\u001b[0;34m(\u001b[0m\u001b[0mself\u001b[0m\u001b[0;34m)\u001b[0m\u001b[0;34m:\u001b[0m\u001b[0;34m\u001b[0m\u001b[0m\n",
      "\u001b[0;32m/Users/isaac/anaconda/lib/python2.7/site-packages/boto/connection.pyc\u001b[0m in \u001b[0;36m_mexe\u001b[0;34m(self, request, sender, override_num_retries, retry_handler)\u001b[0m\n\u001b[1;32m    941\u001b[0m                 \u001b[0;32melse\u001b[0m\u001b[0;34m:\u001b[0m\u001b[0;34m\u001b[0m\u001b[0m\n\u001b[1;32m    942\u001b[0m                     connection.request(request.method, request.path,\n\u001b[0;32m--> 943\u001b[0;31m                                        request.body, request.headers)\n\u001b[0m\u001b[1;32m    944\u001b[0m                     \u001b[0mresponse\u001b[0m \u001b[0;34m=\u001b[0m \u001b[0mconnection\u001b[0m\u001b[0;34m.\u001b[0m\u001b[0mgetresponse\u001b[0m\u001b[0;34m(\u001b[0m\u001b[0;34m)\u001b[0m\u001b[0;34m\u001b[0m\u001b[0m\n\u001b[1;32m    945\u001b[0m                 \u001b[0mboto\u001b[0m\u001b[0;34m.\u001b[0m\u001b[0mlog\u001b[0m\u001b[0;34m.\u001b[0m\u001b[0mdebug\u001b[0m\u001b[0;34m(\u001b[0m\u001b[0;34m'Response headers: %s'\u001b[0m \u001b[0;34m%\u001b[0m \u001b[0mresponse\u001b[0m\u001b[0;34m.\u001b[0m\u001b[0mgetheaders\u001b[0m\u001b[0;34m(\u001b[0m\u001b[0;34m)\u001b[0m\u001b[0;34m)\u001b[0m\u001b[0;34m\u001b[0m\u001b[0m\n",
      "\u001b[0;32m/Users/isaac/anaconda/lib/python2.7/httplib.pyc\u001b[0m in \u001b[0;36mrequest\u001b[0;34m(self, method, url, body, headers)\u001b[0m\n\u001b[1;32m   1055\u001b[0m     \u001b[0;32mdef\u001b[0m \u001b[0mrequest\u001b[0m\u001b[0;34m(\u001b[0m\u001b[0mself\u001b[0m\u001b[0;34m,\u001b[0m \u001b[0mmethod\u001b[0m\u001b[0;34m,\u001b[0m \u001b[0murl\u001b[0m\u001b[0;34m,\u001b[0m \u001b[0mbody\u001b[0m\u001b[0;34m=\u001b[0m\u001b[0mNone\u001b[0m\u001b[0;34m,\u001b[0m \u001b[0mheaders\u001b[0m\u001b[0;34m=\u001b[0m\u001b[0;34m{\u001b[0m\u001b[0;34m}\u001b[0m\u001b[0;34m)\u001b[0m\u001b[0;34m:\u001b[0m\u001b[0;34m\u001b[0m\u001b[0m\n\u001b[1;32m   1056\u001b[0m         \u001b[0;34m\"\"\"Send a complete request to the server.\"\"\"\u001b[0m\u001b[0;34m\u001b[0m\u001b[0m\n\u001b[0;32m-> 1057\u001b[0;31m         \u001b[0mself\u001b[0m\u001b[0;34m.\u001b[0m\u001b[0m_send_request\u001b[0m\u001b[0;34m(\u001b[0m\u001b[0mmethod\u001b[0m\u001b[0;34m,\u001b[0m \u001b[0murl\u001b[0m\u001b[0;34m,\u001b[0m \u001b[0mbody\u001b[0m\u001b[0;34m,\u001b[0m \u001b[0mheaders\u001b[0m\u001b[0;34m)\u001b[0m\u001b[0;34m\u001b[0m\u001b[0m\n\u001b[0m\u001b[1;32m   1058\u001b[0m \u001b[0;34m\u001b[0m\u001b[0m\n\u001b[1;32m   1059\u001b[0m     \u001b[0;32mdef\u001b[0m \u001b[0m_set_content_length\u001b[0m\u001b[0;34m(\u001b[0m\u001b[0mself\u001b[0m\u001b[0;34m,\u001b[0m \u001b[0mbody\u001b[0m\u001b[0;34m,\u001b[0m \u001b[0mmethod\u001b[0m\u001b[0;34m)\u001b[0m\u001b[0;34m:\u001b[0m\u001b[0;34m\u001b[0m\u001b[0m\n",
      "\u001b[0;32m/Users/isaac/anaconda/lib/python2.7/httplib.pyc\u001b[0m in \u001b[0;36m_send_request\u001b[0;34m(self, method, url, body, headers)\u001b[0m\n\u001b[1;32m   1095\u001b[0m         \u001b[0;32mfor\u001b[0m \u001b[0mhdr\u001b[0m\u001b[0;34m,\u001b[0m \u001b[0mvalue\u001b[0m \u001b[0;32min\u001b[0m \u001b[0mheaders\u001b[0m\u001b[0;34m.\u001b[0m\u001b[0miteritems\u001b[0m\u001b[0;34m(\u001b[0m\u001b[0;34m)\u001b[0m\u001b[0;34m:\u001b[0m\u001b[0;34m\u001b[0m\u001b[0m\n\u001b[1;32m   1096\u001b[0m             \u001b[0mself\u001b[0m\u001b[0;34m.\u001b[0m\u001b[0mputheader\u001b[0m\u001b[0;34m(\u001b[0m\u001b[0mhdr\u001b[0m\u001b[0;34m,\u001b[0m \u001b[0mvalue\u001b[0m\u001b[0;34m)\u001b[0m\u001b[0;34m\u001b[0m\u001b[0m\n\u001b[0;32m-> 1097\u001b[0;31m         \u001b[0mself\u001b[0m\u001b[0;34m.\u001b[0m\u001b[0mendheaders\u001b[0m\u001b[0;34m(\u001b[0m\u001b[0mbody\u001b[0m\u001b[0;34m)\u001b[0m\u001b[0;34m\u001b[0m\u001b[0m\n\u001b[0m\u001b[1;32m   1098\u001b[0m \u001b[0;34m\u001b[0m\u001b[0m\n\u001b[1;32m   1099\u001b[0m     \u001b[0;32mdef\u001b[0m \u001b[0mgetresponse\u001b[0m\u001b[0;34m(\u001b[0m\u001b[0mself\u001b[0m\u001b[0;34m,\u001b[0m \u001b[0mbuffering\u001b[0m\u001b[0;34m=\u001b[0m\u001b[0mFalse\u001b[0m\u001b[0;34m)\u001b[0m\u001b[0;34m:\u001b[0m\u001b[0;34m\u001b[0m\u001b[0m\n",
      "\u001b[0;32m/Users/isaac/anaconda/lib/python2.7/httplib.pyc\u001b[0m in \u001b[0;36mendheaders\u001b[0;34m(self, message_body)\u001b[0m\n\u001b[1;32m   1051\u001b[0m         \u001b[0;32melse\u001b[0m\u001b[0;34m:\u001b[0m\u001b[0;34m\u001b[0m\u001b[0m\n\u001b[1;32m   1052\u001b[0m             \u001b[0;32mraise\u001b[0m \u001b[0mCannotSendHeader\u001b[0m\u001b[0;34m(\u001b[0m\u001b[0;34m)\u001b[0m\u001b[0;34m\u001b[0m\u001b[0m\n\u001b[0;32m-> 1053\u001b[0;31m         \u001b[0mself\u001b[0m\u001b[0;34m.\u001b[0m\u001b[0m_send_output\u001b[0m\u001b[0;34m(\u001b[0m\u001b[0mmessage_body\u001b[0m\u001b[0;34m)\u001b[0m\u001b[0;34m\u001b[0m\u001b[0m\n\u001b[0m\u001b[1;32m   1054\u001b[0m \u001b[0;34m\u001b[0m\u001b[0m\n\u001b[1;32m   1055\u001b[0m     \u001b[0;32mdef\u001b[0m \u001b[0mrequest\u001b[0m\u001b[0;34m(\u001b[0m\u001b[0mself\u001b[0m\u001b[0;34m,\u001b[0m \u001b[0mmethod\u001b[0m\u001b[0;34m,\u001b[0m \u001b[0murl\u001b[0m\u001b[0;34m,\u001b[0m \u001b[0mbody\u001b[0m\u001b[0;34m=\u001b[0m\u001b[0mNone\u001b[0m\u001b[0;34m,\u001b[0m \u001b[0mheaders\u001b[0m\u001b[0;34m=\u001b[0m\u001b[0;34m{\u001b[0m\u001b[0;34m}\u001b[0m\u001b[0;34m)\u001b[0m\u001b[0;34m:\u001b[0m\u001b[0;34m\u001b[0m\u001b[0m\n",
      "\u001b[0;32m/Users/isaac/anaconda/lib/python2.7/httplib.pyc\u001b[0m in \u001b[0;36m_send_output\u001b[0;34m(self, message_body)\u001b[0m\n\u001b[1;32m    895\u001b[0m             \u001b[0mmsg\u001b[0m \u001b[0;34m+=\u001b[0m \u001b[0mmessage_body\u001b[0m\u001b[0;34m\u001b[0m\u001b[0m\n\u001b[1;32m    896\u001b[0m             \u001b[0mmessage_body\u001b[0m \u001b[0;34m=\u001b[0m \u001b[0mNone\u001b[0m\u001b[0;34m\u001b[0m\u001b[0m\n\u001b[0;32m--> 897\u001b[0;31m         \u001b[0mself\u001b[0m\u001b[0;34m.\u001b[0m\u001b[0msend\u001b[0m\u001b[0;34m(\u001b[0m\u001b[0mmsg\u001b[0m\u001b[0;34m)\u001b[0m\u001b[0;34m\u001b[0m\u001b[0m\n\u001b[0m\u001b[1;32m    898\u001b[0m         \u001b[0;32mif\u001b[0m \u001b[0mmessage_body\u001b[0m \u001b[0;32mis\u001b[0m \u001b[0;32mnot\u001b[0m \u001b[0mNone\u001b[0m\u001b[0;34m:\u001b[0m\u001b[0;34m\u001b[0m\u001b[0m\n\u001b[1;32m    899\u001b[0m             \u001b[0;31m#message_body was not a string (i.e. it is a file) and\u001b[0m\u001b[0;34m\u001b[0m\u001b[0;34m\u001b[0m\u001b[0m\n",
      "\u001b[0;32m/Users/isaac/anaconda/lib/python2.7/httplib.pyc\u001b[0m in \u001b[0;36msend\u001b[0;34m(self, data)\u001b[0m\n\u001b[1;32m    857\u001b[0m         \u001b[0;32mif\u001b[0m \u001b[0mself\u001b[0m\u001b[0;34m.\u001b[0m\u001b[0msock\u001b[0m \u001b[0;32mis\u001b[0m \u001b[0mNone\u001b[0m\u001b[0;34m:\u001b[0m\u001b[0;34m\u001b[0m\u001b[0m\n\u001b[1;32m    858\u001b[0m             \u001b[0;32mif\u001b[0m \u001b[0mself\u001b[0m\u001b[0;34m.\u001b[0m\u001b[0mauto_open\u001b[0m\u001b[0;34m:\u001b[0m\u001b[0;34m\u001b[0m\u001b[0m\n\u001b[0;32m--> 859\u001b[0;31m                 \u001b[0mself\u001b[0m\u001b[0;34m.\u001b[0m\u001b[0mconnect\u001b[0m\u001b[0;34m(\u001b[0m\u001b[0;34m)\u001b[0m\u001b[0;34m\u001b[0m\u001b[0m\n\u001b[0m\u001b[1;32m    860\u001b[0m             \u001b[0;32melse\u001b[0m\u001b[0;34m:\u001b[0m\u001b[0;34m\u001b[0m\u001b[0m\n\u001b[1;32m    861\u001b[0m                 \u001b[0;32mraise\u001b[0m \u001b[0mNotConnected\u001b[0m\u001b[0;34m(\u001b[0m\u001b[0;34m)\u001b[0m\u001b[0;34m\u001b[0m\u001b[0m\n",
      "\u001b[0;32m/Users/isaac/anaconda/lib/python2.7/httplib.pyc\u001b[0m in \u001b[0;36mconnect\u001b[0;34m(self)\u001b[0m\n\u001b[1;32m   1276\u001b[0m \u001b[0;34m\u001b[0m\u001b[0m\n\u001b[1;32m   1277\u001b[0m             self.sock = self._context.wrap_socket(self.sock,\n\u001b[0;32m-> 1278\u001b[0;31m                                                   server_hostname=server_hostname)\n\u001b[0m\u001b[1;32m   1279\u001b[0m \u001b[0;34m\u001b[0m\u001b[0m\n\u001b[1;32m   1280\u001b[0m     \u001b[0m__all__\u001b[0m\u001b[0;34m.\u001b[0m\u001b[0mappend\u001b[0m\u001b[0;34m(\u001b[0m\u001b[0;34m\"HTTPSConnection\"\u001b[0m\u001b[0;34m)\u001b[0m\u001b[0;34m\u001b[0m\u001b[0m\n",
      "\u001b[0;32m/Users/isaac/anaconda/lib/python2.7/ssl.pyc\u001b[0m in \u001b[0;36mwrap_socket\u001b[0;34m(self, sock, server_side, do_handshake_on_connect, suppress_ragged_eofs, server_hostname)\u001b[0m\n\u001b[1;32m    350\u001b[0m                          \u001b[0msuppress_ragged_eofs\u001b[0m\u001b[0;34m=\u001b[0m\u001b[0msuppress_ragged_eofs\u001b[0m\u001b[0;34m,\u001b[0m\u001b[0;34m\u001b[0m\u001b[0m\n\u001b[1;32m    351\u001b[0m                          \u001b[0mserver_hostname\u001b[0m\u001b[0;34m=\u001b[0m\u001b[0mserver_hostname\u001b[0m\u001b[0;34m,\u001b[0m\u001b[0;34m\u001b[0m\u001b[0m\n\u001b[0;32m--> 352\u001b[0;31m                          _context=self)\n\u001b[0m\u001b[1;32m    353\u001b[0m \u001b[0;34m\u001b[0m\u001b[0m\n\u001b[1;32m    354\u001b[0m     \u001b[0;32mdef\u001b[0m \u001b[0mset_npn_protocols\u001b[0m\u001b[0;34m(\u001b[0m\u001b[0mself\u001b[0m\u001b[0;34m,\u001b[0m \u001b[0mnpn_protocols\u001b[0m\u001b[0;34m)\u001b[0m\u001b[0;34m:\u001b[0m\u001b[0;34m\u001b[0m\u001b[0m\n",
      "\u001b[0;32m/Users/isaac/anaconda/lib/python2.7/ssl.pyc\u001b[0m in \u001b[0;36m__init__\u001b[0;34m(self, sock, keyfile, certfile, server_side, cert_reqs, ssl_version, ca_certs, do_handshake_on_connect, family, type, proto, fileno, suppress_ragged_eofs, npn_protocols, ciphers, server_hostname, _context)\u001b[0m\n\u001b[1;32m    577\u001b[0m                         \u001b[0;31m# non-blocking\u001b[0m\u001b[0;34m\u001b[0m\u001b[0;34m\u001b[0m\u001b[0m\n\u001b[1;32m    578\u001b[0m                         \u001b[0;32mraise\u001b[0m \u001b[0mValueError\u001b[0m\u001b[0;34m(\u001b[0m\u001b[0;34m\"do_handshake_on_connect should not be specified for non-blocking sockets\"\u001b[0m\u001b[0;34m)\u001b[0m\u001b[0;34m\u001b[0m\u001b[0m\n\u001b[0;32m--> 579\u001b[0;31m                     \u001b[0mself\u001b[0m\u001b[0;34m.\u001b[0m\u001b[0mdo_handshake\u001b[0m\u001b[0;34m(\u001b[0m\u001b[0;34m)\u001b[0m\u001b[0;34m\u001b[0m\u001b[0m\n\u001b[0m\u001b[1;32m    580\u001b[0m \u001b[0;34m\u001b[0m\u001b[0m\n\u001b[1;32m    581\u001b[0m             \u001b[0;32mexcept\u001b[0m \u001b[0;34m(\u001b[0m\u001b[0mOSError\u001b[0m\u001b[0;34m,\u001b[0m \u001b[0mValueError\u001b[0m\u001b[0;34m)\u001b[0m\u001b[0;34m:\u001b[0m\u001b[0;34m\u001b[0m\u001b[0m\n",
      "\u001b[0;32m/Users/isaac/anaconda/lib/python2.7/ssl.pyc\u001b[0m in \u001b[0;36mdo_handshake\u001b[0;34m(self, block)\u001b[0m\n\u001b[1;32m    814\u001b[0m                 raise ValueError(\"check_hostname needs server_hostname \"\n\u001b[1;32m    815\u001b[0m                                  \"argument\")\n\u001b[0;32m--> 816\u001b[0;31m             \u001b[0mmatch_hostname\u001b[0m\u001b[0;34m(\u001b[0m\u001b[0mself\u001b[0m\u001b[0;34m.\u001b[0m\u001b[0mgetpeercert\u001b[0m\u001b[0;34m(\u001b[0m\u001b[0;34m)\u001b[0m\u001b[0;34m,\u001b[0m \u001b[0mself\u001b[0m\u001b[0;34m.\u001b[0m\u001b[0mserver_hostname\u001b[0m\u001b[0;34m)\u001b[0m\u001b[0;34m\u001b[0m\u001b[0m\n\u001b[0m\u001b[1;32m    817\u001b[0m \u001b[0;34m\u001b[0m\u001b[0m\n\u001b[1;32m    818\u001b[0m     \u001b[0;32mdef\u001b[0m \u001b[0m_real_connect\u001b[0m\u001b[0;34m(\u001b[0m\u001b[0mself\u001b[0m\u001b[0;34m,\u001b[0m \u001b[0maddr\u001b[0m\u001b[0;34m,\u001b[0m \u001b[0mconnect_ex\u001b[0m\u001b[0;34m)\u001b[0m\u001b[0;34m:\u001b[0m\u001b[0;34m\u001b[0m\u001b[0m\n",
      "\u001b[0;32m/Users/isaac/anaconda/lib/python2.7/ssl.pyc\u001b[0m in \u001b[0;36mmatch_hostname\u001b[0;34m(cert, hostname)\u001b[0m\n\u001b[1;32m    269\u001b[0m         raise CertificateError(\"hostname %r \"\n\u001b[1;32m    270\u001b[0m             \u001b[0;34m\"doesn't match either of %s\"\u001b[0m\u001b[0;34m\u001b[0m\u001b[0m\n\u001b[0;32m--> 271\u001b[0;31m             % (hostname, ', '.join(map(repr, dnsnames))))\n\u001b[0m\u001b[1;32m    272\u001b[0m     \u001b[0;32melif\u001b[0m \u001b[0mlen\u001b[0m\u001b[0;34m(\u001b[0m\u001b[0mdnsnames\u001b[0m\u001b[0;34m)\u001b[0m \u001b[0;34m==\u001b[0m \u001b[0;36m1\u001b[0m\u001b[0;34m:\u001b[0m\u001b[0;34m\u001b[0m\u001b[0m\n\u001b[1;32m    273\u001b[0m         raise CertificateError(\"hostname %r \"\n",
      "\u001b[0;31mCertificateError\u001b[0m: hostname 'isaac1.1.2.3.s3.amazonaws.com' doesn't match either of '*.s3.amazonaws.com', 's3.amazonaws.com'"
     ]
    }
   ],
   "source": [
    "bucket_name_with_period = bucket_name + \".1.2.3\"\n",
    "bucket_with_period = conn.create_bucket(bucket_name_with_period)\n",
    "print bucket_with_period"
   ]
  },
  {
   "cell_type": "markdown",
   "metadata": {},
   "source": [
    "- To get around this run this code snippet."
   ]
  },
  {
   "cell_type": "code",
   "execution_count": 11,
   "metadata": {
    "collapsed": true
   },
   "outputs": [],
   "source": [
    "import ssl\n",
    "if hasattr(ssl, '_create_unverified_context'):\n",
    "   ssl._create_default_https_context = ssl._create_unverified_context"
   ]
  },
  {
   "cell_type": "markdown",
   "metadata": {},
   "source": [
    "- Now try creating the bucket with a period in its name and it should work."
   ]
  },
  {
   "cell_type": "code",
   "execution_count": 12,
   "metadata": {
    "collapsed": false
   },
   "outputs": [
    {
     "name": "stdout",
     "output_type": "stream",
     "text": [
      "<Bucket: isaac1.1.2.3>\n"
     ]
    }
   ],
   "source": [
    "bucket_name_with_period = bucket_name + \".1.2.3\"\n",
    "bucket_with_period = conn.create_bucket(bucket_name_with_period)\n",
    "print bucket_with_period"
   ]
  },
  {
   "cell_type": "markdown",
   "metadata": {},
   "source": [
    "- Now lets delete the bucket."
   ]
  },
  {
   "cell_type": "code",
   "execution_count": 13,
   "metadata": {
    "collapsed": true
   },
   "outputs": [],
   "source": [
    "bucket_with_period.delete()"
   ]
  },
  {
   "cell_type": "markdown",
   "metadata": {},
   "source": [
    "- For more details see <https://github.com/boto/boto/issues/2836>.\n",
    "\n",
    "\n",
    "Access Control\n",
    "--------------\n",
    "\n",
    "Q: I want to access my S3 file from a web browser without giving my\n",
    "access and secret keys. How can I open up access to the file to\n",
    "anyone?\n",
    "\n",
    "- You can set up Access Control Lists (ACLs) at the level of the\n",
    "  bucket or at the level of the individual objects in the bucket\n",
    "  (folders, files).\n",
    "\n",
    "Q: What are the different ACL policies?\n",
    "\n",
    "ACL Policy           |Meaning\n",
    "----------           |-------\n",
    "`private`            |No one else besides owner has any access rights.\n",
    "`public-read`        |Everyone has read access.\n",
    "`public-read-write`  |Everyone has read/write access.\n",
    "`authenticated-read` |Registered Amazon S3 users have read access.\n",
    "\n",
    "Q: What does `read` and `write` mean for buckets and files?\n",
    "\n",
    "- Read access to a file lets you read the file.\n",
    "\n",
    "- Read access to a bucket or folder lets you see the names of the\n",
    "  files inside it.\n",
    "\n",
    "\n",
    "Pop Quiz\n",
    "--------\n",
    "\n",
    "<details><summary>\n",
    "Q: If a bucket is `private` and a file inside it is `public-read` can\n",
    "I view it through a web browser?\n",
    "</summary>\n",
    "Yes. Access to the file is only determined by its ACL policy.\n",
    "</details>\n",
    "\n",
    "\n",
    "<details><summary>\n",
    "Q: If a bucket is `public-read` and a file inside it is `private` can\n",
    "I view the file through a web browser?\n",
    "</summary>\n",
    "No, you cannot. However, if you access the URL for the bucket you will see the file listed.\n",
    "</details>\n",
    "\n",
    "Applying Access Control\n",
    "-----------------------\n",
    "\n",
    "Q: How can I make a file available on the web so anyone can read it?\n",
    "\n",
    "- Create a file with a specific ACL."
   ]
  },
  {
   "cell_type": "code",
   "execution_count": null,
   "metadata": {
    "collapsed": true
   },
   "outputs": [],
   "source": [
    "file2 = bucket.new_key('file2.txt')\n",
    "file2.set_contents_from_string('hello world!!!',policy='private')"
   ]
  },
  {
   "cell_type": "markdown",
   "metadata": {},
   "source": [
    "- Try reading the file."
   ]
  },
  {
   "cell_type": "code",
   "execution_count": null,
   "metadata": {
    "collapsed": true
   },
   "outputs": [],
   "source": [
    "file2_url = 'http://s3.amazonaws.com/' + bucket_name + '/file2.txt'\n",
    "print file2_url\n",
    "!curl $file2_url"
   ]
  },
  {
   "cell_type": "markdown",
   "metadata": {},
   "source": [
    "- Now change its ACL."
   ]
  },
  {
   "cell_type": "code",
   "execution_count": null,
   "metadata": {
    "collapsed": true
   },
   "outputs": [],
   "source": [
    "file2.set_acl('public-read')\n",
    "!curl $file2_url"
   ]
  },
  {
   "cell_type": "markdown",
   "metadata": {},
   "source": [
    "- Also you can try accessing the file through the browser.\n",
    "\n",
    "- If you do not specify the ACL for a file when you set its contents,\n",
    "  the file is `private` by default.\n",
    "\n",
    "\n",
    "S3 Files to URLs\n",
    "----------------\n",
    "\n",
    "Q: How can I figure out the URL of my S3 file?\n",
    "\n",
    "- As above, you can compose the URL using the region, bucket, and file name. \n",
    "\n",
    "- For N. Virginia the general template for the URL is `http://s3.amazonaws.com/BUCKET/FILE`.\n",
    "\n",
    "- You can also find the URL by looking at the file on the AWS web console.\n",
    "\n",
    "\n",
    "Deleting Buckets\n",
    "----------------\n",
    "\n",
    "Q: How can I delete a bucket?\n",
    "\n",
    "- Try deleting a bucket containing files. What happens?"
   ]
  },
  {
   "cell_type": "code",
   "execution_count": null,
   "metadata": {
    "collapsed": true
   },
   "outputs": [],
   "source": [
    "print conn.get_all_buckets()\n",
    "bucket.delete()"
   ]
  },
  {
   "cell_type": "markdown",
   "metadata": {},
   "source": [
    "- To delete the bucket first delete all the files in it."
   ]
  },
  {
   "cell_type": "code",
   "execution_count": null,
   "metadata": {
    "collapsed": true
   },
   "outputs": [],
   "source": [
    "for key in bucket.get_all_keys(): \n",
    "    key.delete()"
   ]
  },
  {
   "cell_type": "markdown",
   "metadata": {},
   "source": [
    "- Then delete the bucket."
   ]
  },
  {
   "cell_type": "code",
   "execution_count": null,
   "metadata": {
    "collapsed": true
   },
   "outputs": [],
   "source": [
    "print conn.get_all_buckets()\n",
    "bucket.delete()\n",
    "print conn.get_all_buckets()"
   ]
  },
  {
   "cell_type": "markdown",
   "metadata": {},
   "source": [
    "---\n",
    "\n",
    "Amazon EC2\n",
    "==========\n",
    "\n",
    "Regions\n",
    "-------\n",
    "\n",
    "Q: What are *AWS Regions*?\n",
    "\n",
    "- AWS is hosted in different geographic locations world-wide. \n",
    "\n",
    "- For example, there are 3 regions in the US.\n",
    "\n",
    "\n",
    "Q: What are the regions in the US\n",
    "\n",
    "Region       |Name       |Location \n",
    "------       |----       |-------- \n",
    "us-east-1    |US East    |N. Virginia\n",
    "us-west-1    |US West    |N. California\n",
    "us-west-2    |US West 2  |Oregon\n",
    "\n",
    "\n",
    "Q: How should I choose a region?\n",
    "\n",
    "- N. Virginia or `us-east-1` is the default region for EC2.\n",
    "\n",
    "- Using a region other than N. Virginia requires additional configuration.\n",
    "\n",
    "- If you are not sure choose N. Virginia.\n",
    "\n",
    "\n",
    "Availability Zones\n",
    "------------------\n",
    "\n",
    "Q: What are *AWS Availability Zones*?\n",
    "\n",
    "- Regions are divided into isolated availability zones for fault\n",
    "  tolerance.\n",
    "\n",
    "- Availability zone run on physically separate hardware and\n",
    "  infrastructure.\n",
    "\n",
    "- They do not share hardware, or generators, or cooling equipment. \n",
    "\n",
    "- Availability zones are assigned automatically to your EC2 instances\n",
    "  based on your user ID.\n",
    "\n",
    "<img src=\"img/aws_regions.png\">\n",
    "\n",
    "\n",
    "\n",
    "<details><summary>\n",
    "Q: Is it possible for two separate users to coordinate and land on the\n",
    "same availability zone?\n",
    "</summary>\n",
    "1. Availability zones are assigned automatically by the system.\n",
    "<br>\n",
    "2. It is not possible for two AWS users to coordinate and be hosted on the same\n",
    "availability zone.\n",
    "</details>\n",
    "\n",
    "----\n",
    "\n",
    "Connecting to EC2\n",
    "-----------------\n",
    "\n",
    "Q: How can I connect to an EC2 instance?\n",
    "\n",
    "- Login to the AWS console.\n",
    "\n",
    "- Navigate: EC2 > Launch Instance > Community AMIs > Search community AMIs > `ami-d1737bb8`\n",
    "\n",
    "- View the instance and get its Public DNS.\n",
    "\n",
    "- This should look something like `ec2-52-3-161-43.compute-1.amazonaws.com`.\n",
    "\n",
    "- Use this command to connect to it.\n",
    "\n",
    "- `ssh -X -i ~/.ssh/keypair.pem user@domain`\n",
    "\n",
    "- Here is an example. \n",
    "\n",
    "- `ssh -X -i ~/.ssh/keypair.pem ubuntu@ec2-52-3-161-43.compute-1.amazonaws.com`\n",
    "\n",
    "- Make sure you replace the Public DNS value below with the value you\n",
    "  have for your instance.\n",
    "\n",
    "Copying Files to EC2\n",
    "--------------------\n",
    "\n",
    "Q: How can I copy files to the EC2 instance?\n",
    "\n",
    "- To copy a file `myfile.txt` to EC2, use a command like this.\n",
    "\n",
    "- `scp -i ~/.ssh/keypair.pem myfile.txt user@domain:`\n",
    "\n",
    "- To copy a directory `mydir` recursively to EC2, use a command like\n",
    "  this. \n",
    "  \n",
    "- `scp -i ~/.ssh/keypair.pem -r mydir user@domain:`\n",
    "\n",
    "Pop Quiz\n",
    "--------\n",
    "\n",
    "<details><summary>\n",
    "Q: When you copy a file to EC2 with `scp` will this show up in S3?\n",
    "</summary>\n",
    "No. The file will be stored on the disk on the EC2 instance. It will\n",
    "not be in S3.\n",
    "</details>\n",
    "\n",
    "\n",
    "High-Performance Python\n",
    "=======================\n",
    "\n",
    "Multi-Processing vs Multi-Threading\n",
    "-----------------------------------\n",
    "\n",
    "Q: What is the difference between *multi-processing* and\n",
    "*multi-threading*?\n",
    "\n",
    "- Multi-threading (also known as concurrency) splits the work between\n",
    "  different threads running on the same processor. \n",
    "  \n",
    "- When one thread is blocked the processor works on the tasks for the\n",
    "  next one.\n",
    "\n",
    "- Multi-processing splits work across processes running on different\n",
    "  processors or even different machines.\n",
    "\n",
    "- Multi-threading works better if you need to exchange data between\n",
    "  the threads. \n",
    "\n",
    "- Multi-processing works better if the different processes can work\n",
    "  heads down without communicating very much.\n",
    "\n",
    "Pop Quiz\n",
    "--------\n",
    "\n",
    "<details><summary>\n",
    "Q: I have to process a very large dataset and run it through a\n",
    "CPU-intensive algorithm. Should I use multi-processing or\n",
    "multi-threading to speed it up?\n",
    "</summary>\n",
    "Multi-processing will produce a result faster. This is because it will\n",
    "be able to split the work across different processors or machines.\n",
    "</details>\n",
    "\n",
    "\n",
    "<details><summary>\n",
    "Q: I have a web scraping application that spends most of its time\n",
    "waiting for web servers to respond. Should I use multi-processing or\n",
    "multi-threading to speed it up?\n",
    "</summary>\n",
    "Multi-threading will produce a bigger payoff. This is because it will\n",
    "ensure that the CPU is fully utilized and does not waste time blocked\n",
    "on input.\n",
    "</details>\n",
    "\n",
    "Analogies\n",
    "---------\n",
    "\n",
    "Multi-Threading  |Multi-Processing\n",
    "-----------      |----------------\n",
    "Laundromat       |Everyone has a washer-dryer\n",
    "Uber or Carpool  |Everyone has a car\n",
    "\n",
    "\n",
    "Multi-Threading\n",
    "---------------\n",
    "\n",
    "Q: How can I write a multi-threaded program that prints `\"hello\"` in\n",
    "different threads?\n",
    "\n",
    "- Define print as a function."
   ]
  },
  {
   "cell_type": "code",
   "execution_count": 14,
   "metadata": {
    "collapsed": false
   },
   "outputs": [
    {
     "name": "stdout",
     "output_type": "stream",
     "text": [
      "hello\n"
     ]
    }
   ],
   "source": [
    "def print2(x): print x\n",
    "print2(\"hello\")"
   ]
  },
  {
   "cell_type": "markdown",
   "metadata": {},
   "source": [
    "- Create 2 threads that are going to print."
   ]
  },
  {
   "cell_type": "code",
   "execution_count": 30,
   "metadata": {
    "collapsed": false
   },
   "outputs": [
    {
     "name": "stdout",
     "output_type": "stream",
     "text": [
      "hello1\n",
      "hello1\n"
     ]
    }
   ],
   "source": [
    "import threading\n",
    "from time import sleep\n",
    "def print3(arg):\n",
    "    sleep(1)\n",
    "    print arg\n",
    "t1 = threading.Thread(target=print3('hello1'))\n",
    "t2 = threading.Thread(target=lambda:print2('hello2'))"
   ]
  },
  {
   "cell_type": "markdown",
   "metadata": {},
   "source": [
    "- Start the threads."
   ]
  },
  {
   "cell_type": "code",
   "execution_count": 31,
   "metadata": {
    "collapsed": false
   },
   "outputs": [
    {
     "name": "stdout",
     "output_type": "stream",
     "text": [
      "hello2\n"
     ]
    }
   ],
   "source": [
    "t1.start()\n",
    "t2.start()"
   ]
  },
  {
   "cell_type": "markdown",
   "metadata": {},
   "source": [
    "- Wait for threads to finish."
   ]
  },
  {
   "cell_type": "code",
   "execution_count": 27,
   "metadata": {
    "collapsed": false
   },
   "outputs": [
    {
     "name": "stdout",
     "output_type": "stream",
     "text": [
      "hello1\n"
     ]
    }
   ],
   "source": [
    "t1.join()\n",
    "t2.join()"
   ]
  },
  {
   "cell_type": "markdown",
   "metadata": {},
   "source": [
    "Multi-Processing\n",
    "----------------\n",
    "\n",
    "Q: Calculate the word count of strings using multi-processing.\n",
    "\n",
    "- Import `Pool`"
   ]
  },
  {
   "cell_type": "code",
   "execution_count": 32,
   "metadata": {
    "collapsed": true
   },
   "outputs": [],
   "source": [
    "from multiprocessing import Pool"
   ]
  },
  {
   "cell_type": "markdown",
   "metadata": {},
   "source": [
    "- Define how to count words in a string."
   ]
  },
  {
   "cell_type": "code",
   "execution_count": 44,
   "metadata": {
    "collapsed": true
   },
   "outputs": [],
   "source": [
    "def word_count(string):\n",
    "    assert False\n",
    "    return len(string.split())"
   ]
  },
  {
   "cell_type": "markdown",
   "metadata": {},
   "source": [
    "- Define counting words sequentially."
   ]
  },
  {
   "cell_type": "code",
   "execution_count": 34,
   "metadata": {
    "collapsed": true
   },
   "outputs": [],
   "source": [
    "def sequential_word_count(string_list):\n",
    "    return sum([word_count(s) for s in string_list])"
   ]
  },
  {
   "cell_type": "markdown",
   "metadata": {},
   "source": [
    "- Define counting words in parallel."
   ]
  },
  {
   "cell_type": "code",
   "execution_count": 35,
   "metadata": {
    "collapsed": true
   },
   "outputs": [],
   "source": [
    "def parallel_word_count(string_list):\n",
    "    pool = Pool(processes=4)\n",
    "    results = pool.map(word_count, string_list)\n",
    "    return sum(results)"
   ]
  },
  {
   "cell_type": "markdown",
   "metadata": {},
   "source": [
    "- Create `word_count` version that saves result in thread object."
   ]
  },
  {
   "cell_type": "code",
   "execution_count": 40,
   "metadata": {
    "collapsed": true
   },
   "outputs": [],
   "source": [
    "def thread_word_count(string):\n",
    "    self = threading.current_thread()\n",
    "    self.result = word_count(string)"
   ]
  },
  {
   "cell_type": "markdown",
   "metadata": {},
   "source": [
    "- Define counting words using `Thread`."
   ]
  },
  {
   "cell_type": "code",
   "execution_count": 38,
   "metadata": {
    "collapsed": true
   },
   "outputs": [],
   "source": [
    "def concurrent_word_count(string_list):\n",
    "    threads = []\n",
    "    for string in string_list:\n",
    "        thread = threading.Thread(\n",
    "            target=thread_word_count,\n",
    "            args=(string,))\n",
    "        threads.append(thread)\n",
    "    for thread in threads: thread.start()\n",
    "    for thread in threads: thread.join()\n",
    "    results = []\n",
    "    for thread in threads: results.append(thread.result)\n",
    "    return sum(results)"
   ]
  },
  {
   "cell_type": "markdown",
   "metadata": {},
   "source": [
    "Q: Time all 3 versions.\n",
    "\n",
    "- Create a sample input."
   ]
  },
  {
   "cell_type": "code",
   "execution_count": 42,
   "metadata": {
    "collapsed": true
   },
   "outputs": [],
   "source": [
    "string_list = [\n",
    "    'hello world',\n",
    "    'this is another line',\n",
    "    'this is yet another line']*10000"
   ]
  },
  {
   "cell_type": "markdown",
   "metadata": {},
   "source": [
    "- Time each one"
   ]
  },
  {
   "cell_type": "code",
   "execution_count": 45,
   "metadata": {
    "collapsed": false
   },
   "outputs": [
    {
     "ename": "AssertionError",
     "evalue": "",
     "output_type": "error",
     "traceback": [
      "\u001b[0;31m---------------------------------------------------------------------------\u001b[0m",
      "\u001b[0;31mAssertionError\u001b[0m                            Traceback (most recent call last)",
      "\u001b[0;32m<ipython-input-45-c7730d0c65ac>\u001b[0m in \u001b[0;36m<module>\u001b[0;34m()\u001b[0m\n\u001b[0;32m----> 1\u001b[0;31m \u001b[0mparallel_word_count\u001b[0m\u001b[0;34m(\u001b[0m\u001b[0mstring_list\u001b[0m\u001b[0;34m)\u001b[0m\u001b[0;34m\u001b[0m\u001b[0m\n\u001b[0m",
      "\u001b[0;32m<ipython-input-35-75c7c7b6ca95>\u001b[0m in \u001b[0;36mparallel_word_count\u001b[0;34m(string_list)\u001b[0m\n\u001b[1;32m      1\u001b[0m \u001b[0;32mdef\u001b[0m \u001b[0mparallel_word_count\u001b[0m\u001b[0;34m(\u001b[0m\u001b[0mstring_list\u001b[0m\u001b[0;34m)\u001b[0m\u001b[0;34m:\u001b[0m\u001b[0;34m\u001b[0m\u001b[0m\n\u001b[1;32m      2\u001b[0m     \u001b[0mpool\u001b[0m \u001b[0;34m=\u001b[0m \u001b[0mPool\u001b[0m\u001b[0;34m(\u001b[0m\u001b[0mprocesses\u001b[0m\u001b[0;34m=\u001b[0m\u001b[0;36m4\u001b[0m\u001b[0;34m)\u001b[0m\u001b[0;34m\u001b[0m\u001b[0m\n\u001b[0;32m----> 3\u001b[0;31m     \u001b[0mresults\u001b[0m \u001b[0;34m=\u001b[0m \u001b[0mpool\u001b[0m\u001b[0;34m.\u001b[0m\u001b[0mmap\u001b[0m\u001b[0;34m(\u001b[0m\u001b[0mword_count\u001b[0m\u001b[0;34m,\u001b[0m \u001b[0mstring_list\u001b[0m\u001b[0;34m)\u001b[0m\u001b[0;34m\u001b[0m\u001b[0m\n\u001b[0m\u001b[1;32m      4\u001b[0m     \u001b[0;32mreturn\u001b[0m \u001b[0msum\u001b[0m\u001b[0;34m(\u001b[0m\u001b[0mresults\u001b[0m\u001b[0;34m)\u001b[0m\u001b[0;34m\u001b[0m\u001b[0m\n",
      "\u001b[0;32m/Users/isaac/anaconda/lib/python2.7/multiprocessing/pool.pyc\u001b[0m in \u001b[0;36mmap\u001b[0;34m(self, func, iterable, chunksize)\u001b[0m\n\u001b[1;32m    249\u001b[0m         '''\n\u001b[1;32m    250\u001b[0m         \u001b[0;32massert\u001b[0m \u001b[0mself\u001b[0m\u001b[0;34m.\u001b[0m\u001b[0m_state\u001b[0m \u001b[0;34m==\u001b[0m \u001b[0mRUN\u001b[0m\u001b[0;34m\u001b[0m\u001b[0m\n\u001b[0;32m--> 251\u001b[0;31m         \u001b[0;32mreturn\u001b[0m \u001b[0mself\u001b[0m\u001b[0;34m.\u001b[0m\u001b[0mmap_async\u001b[0m\u001b[0;34m(\u001b[0m\u001b[0mfunc\u001b[0m\u001b[0;34m,\u001b[0m \u001b[0miterable\u001b[0m\u001b[0;34m,\u001b[0m \u001b[0mchunksize\u001b[0m\u001b[0;34m)\u001b[0m\u001b[0;34m.\u001b[0m\u001b[0mget\u001b[0m\u001b[0;34m(\u001b[0m\u001b[0;34m)\u001b[0m\u001b[0;34m\u001b[0m\u001b[0m\n\u001b[0m\u001b[1;32m    252\u001b[0m \u001b[0;34m\u001b[0m\u001b[0m\n\u001b[1;32m    253\u001b[0m     \u001b[0;32mdef\u001b[0m \u001b[0mimap\u001b[0m\u001b[0;34m(\u001b[0m\u001b[0mself\u001b[0m\u001b[0;34m,\u001b[0m \u001b[0mfunc\u001b[0m\u001b[0;34m,\u001b[0m \u001b[0miterable\u001b[0m\u001b[0;34m,\u001b[0m \u001b[0mchunksize\u001b[0m\u001b[0;34m=\u001b[0m\u001b[0;36m1\u001b[0m\u001b[0;34m)\u001b[0m\u001b[0;34m:\u001b[0m\u001b[0;34m\u001b[0m\u001b[0m\n",
      "\u001b[0;32m/Users/isaac/anaconda/lib/python2.7/multiprocessing/pool.pyc\u001b[0m in \u001b[0;36mget\u001b[0;34m(self, timeout)\u001b[0m\n\u001b[1;32m    565\u001b[0m             \u001b[0;32mreturn\u001b[0m \u001b[0mself\u001b[0m\u001b[0;34m.\u001b[0m\u001b[0m_value\u001b[0m\u001b[0;34m\u001b[0m\u001b[0m\n\u001b[1;32m    566\u001b[0m         \u001b[0;32melse\u001b[0m\u001b[0;34m:\u001b[0m\u001b[0;34m\u001b[0m\u001b[0m\n\u001b[0;32m--> 567\u001b[0;31m             \u001b[0;32mraise\u001b[0m \u001b[0mself\u001b[0m\u001b[0;34m.\u001b[0m\u001b[0m_value\u001b[0m\u001b[0;34m\u001b[0m\u001b[0m\n\u001b[0m\u001b[1;32m    568\u001b[0m \u001b[0;34m\u001b[0m\u001b[0m\n\u001b[1;32m    569\u001b[0m     \u001b[0;32mdef\u001b[0m \u001b[0m_set\u001b[0m\u001b[0;34m(\u001b[0m\u001b[0mself\u001b[0m\u001b[0;34m,\u001b[0m \u001b[0mi\u001b[0m\u001b[0;34m,\u001b[0m \u001b[0mobj\u001b[0m\u001b[0;34m)\u001b[0m\u001b[0;34m:\u001b[0m\u001b[0;34m\u001b[0m\u001b[0m\n",
      "\u001b[0;31mAssertionError\u001b[0m: "
     ]
    }
   ],
   "source": [
    "parallel_word_count(string_list)"
   ]
  },
  {
   "cell_type": "code",
   "execution_count": 43,
   "metadata": {
    "collapsed": false
   },
   "outputs": [
    {
     "name": "stdout",
     "output_type": "stream",
     "text": [
      "110000\n",
      "CPU times: user 25.1 ms, sys: 11.1 ms, total: 36.2 ms\n",
      "Wall time: 33.1 ms\n",
      "110000\n",
      "CPU times: user 2.36 s, sys: 1.62 s, total: 3.98 s\n",
      "Wall time: 3.43 s\n",
      "110000\n",
      "CPU times: user 12.5 ms, sys: 8.53 ms, total: 21 ms\n",
      "Wall time: 29.6 ms\n"
     ]
    }
   ],
   "source": [
    "%time print sequential_word_count(string_list)\n",
    "%time print concurrent_word_count(string_list)\n",
    "%time print parallel_word_count(string_list)"
   ]
  },
  {
   "cell_type": "markdown",
   "metadata": {},
   "source": [
    "Pop Quiz\n",
    "--------\n",
    "\n",
    "<details><summary>\n",
    "Q: Between sequential, parallel, and concurrent, which one is the\n",
    "fastest? Which one is the slowest? Why?\n",
    "</summary>\n",
    "1. Sequential is the fastest. Concurrent is second. Parallel is the\n",
    "slowest.\n",
    "<br>\n",
    "2. Concurrent and parallel have a higher setup overhead. This is not\n",
    "recovered for small problems.\n",
    "<br>\n",
    "3. Use these only if your processing takes longer than the setup\n",
    "overhead.\n",
    "</details>\n",
    "\n",
    "Cleaning Up Zombie Python Processes\n",
    "-----------------------------------\n",
    "\n",
    "Here is how to kill all the processes that `multiprocessing` will\n",
    "bring up in the background.\n",
    "\n",
    "```sh\n",
    "ps ux | grep IPython.kernel | grep -v grep | awk '{print $2}' | xargs kill -9\n",
    "```"
   ]
  },
  {
   "cell_type": "code",
   "execution_count": null,
   "metadata": {
    "collapsed": false
   },
   "outputs": [],
   "source": [
    "!ps ux | grep ipykernel | grep -v grep | awk '{print $2}' | xargs kill -9"
   ]
  },
  {
   "cell_type": "code",
   "execution_count": null,
   "metadata": {
    "collapsed": true
   },
   "outputs": [],
   "source": []
  }
 ],
 "metadata": {
  "kernelspec": {
   "display_name": "Python 2",
   "language": "python",
   "name": "python2"
  },
  "language_info": {
   "codemirror_mode": {
    "name": "ipython",
    "version": 2
   },
   "file_extension": ".py",
   "mimetype": "text/x-python",
   "name": "python",
   "nbconvert_exporter": "python",
   "pygments_lexer": "ipython2",
   "version": "2.7.11"
  }
 },
 "nbformat": 4,
 "nbformat_minor": 0
}
