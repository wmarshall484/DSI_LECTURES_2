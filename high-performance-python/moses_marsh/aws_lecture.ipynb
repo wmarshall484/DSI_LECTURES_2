{
 "cells": [
  {
   "cell_type": "markdown",
   "metadata": {},
   "source": [
    "# Using Amazon Web Services (AWS)\n",
    "\n",
    "## Objectives\n",
    "\n",
    "- Describe core AWS services & concepts\n",
    "- Configure your laptop to use AWS\n",
    "- Use SSH key to access EC2 instances\n",
    "- Launch & access EC2\n",
    "- Access S3"
   ]
  },
  {
   "cell_type": "markdown",
   "metadata": {},
   "source": [
    "## Cloud computing & AWS\n",
    "\n",
    "the numbers on cloud computing adoption: https://www.rightscale.com/lp/state-of-the-cloud"
   ]
  },
  {
   "cell_type": "markdown",
   "metadata": {},
   "source": [
    "### What are the benefits of AWS and other cloud services?\n",
    "\n",
    "- AWS provides on-demand use of computing resources in the cloud\n",
    "- No need to build data centers\n",
    "- Easy to create a new business\n",
    "- Only pay for what you use\n",
    "- Handle spikes in computational demand\n",
    "- Secure, reliable, flexible, scalable, cost-effective\n",
    "\n",
    "AWS skills are much in demand!\n"
   ]
  },
  {
   "cell_type": "markdown",
   "metadata": {},
   "source": [
    "### AWS core services:\n",
    "- Elastic compute cloud (EC2): computers for diverse problems\n",
    "- Elastic block store (EBS): virtual hard disks to use with EC2\n",
    "- Simple storage solution (S3): long-term bulk storage\n",
    "- DynamoDB: NoSQL database\n",
    "- And much, much more\n"
   ]
  },
  {
   "cell_type": "markdown",
   "metadata": {},
   "source": [
    "### S3 vs. EBS\n",
    "\n",
    "What is the difference between S3 and EBS? Why would I use one versus the other?\n",
    "\n",
    "- [S3 pricing](https://aws.amazon.com/s3/pricing/): `1¢` to `2.2¢` per GB per month\n",
    "- [EBS SSD pricing](https://aws.amazon.com/ebs/pricing/): `10¢` per GB per month\n",
    "\n",
    "Feature | S3 | EBS\n",
    "---|---|---\n",
    "Can be accessed from | Anywhere on the web;<br/>any EC2 instance | Specific availability zone;<br/>EC2 instance attached to it\n",
    "Latency | Higher | Lower\n",
    "Throughput | Usually more | Usually less\n",
    "Performance | Slightly worse |Slightly better\n",
    "Max volume size | Unlimited | 16 TB\n",
    "Max file size | 5 TB | 16 TB"
   ]
  },
  {
   "cell_type": "markdown",
   "metadata": {},
   "source": [
    "#### Pop Quiz\n",
    "\n",
    "<details>\n",
    "<summary>Q: I want to store some video files on the web. Which Amazon service should I use?</summary>\n",
    "A: S3\n",
    "</details>\n",
    "\n",
    "<details>\n",
    "<summary>Q: I just created an iPhone app which needs to store user profiles on the web somewhere. Which Amazon service should I use?</summary>\n",
    "A: S3\n",
    "</details>\n",
    "\n",
    "<details>\n",
    "<summary>Q: I want to create a web application that uses Javascript in the backend along with a MongoDB database. Which Amazon service should I use?</summary>\n",
    "A: S3 + EC2 + EBS\n",
    "</details>"
   ]
  },
  {
   "cell_type": "markdown",
   "metadata": {},
   "source": [
    "## Setting up AWS access\n",
    "\n",
    "- sign in to your AWS console: https://console.aws.amazon.com\n",
    "\n",
    "- click on your name in the upper right, then click `My Security Credentials`\n",
    "\n",
    "- click `Get started with IAM users`, which should take you [here](https://console.aws.amazon.com/iam/)\n",
    "\n",
    "- click the blue `Add User` button\n",
    "    - type your name in the `User Name` text box\n",
    "    - check the `Programmatic Access` box\n",
    "    - add a custom password\n",
    "    - uncheck `require password reset`\n",
    "    - click `Next`\n",
    "- click `Create Group`\n",
    "    - in the `Group name` box, enter `admin`\n",
    "    - in the search box next to \"filter policies\", type `AdministratorAccess`\n",
    "    - check the box next to that entry and click `Create Group`\n",
    "    - then click `Review` and `Next`\n",
    "- **important**: you are now on a screen displaying your user credentials. Click `Download .csv` to save them: by default, this downloads `credentials.csv` to your `~/Downloads` folder. You will not be able to download these credentials again! If you close the window and lose the file, you'll have to generate a new set of credentials.\n",
    "    - open `~/Downloads/credentials.csv` in a text editor to make sure the download succeeded.\n",
    "- Back at the [IAM dashboard](https://console.aws.amazon.com/iam), click `Roles` and `Create Role`\n",
    "    - under \"Choose the service that will use this role\", click `EC2`, then `Next`\n",
    "    - check `AdministratorAccess`, then `Next`\n",
    "    - in `Role Name`, type `yourname_role` or `admin_role`, then `Create Role` and you're done\n",
    "\n",
    "\n",
    "- in your terminal, install the AWS command line tools with `pip install awscli`\n",
    "- then type `aws configure`\n",
    "    - paste your AWS Access Key ID and AWS Secret Access Key when prompted\n",
    "    - for Default Region Name, enter `us-east-1`\n",
    "    - for Default Output Format, enter `json` (or leave it as `None`, this doesn't matter to us for now)\n",
    "- this created a folder, `~/.aws`, containing two files: `config` and `credentials`. You can use these to manage multiple profiles. For now, we're cool.    \n"
   ]
  },
  {
   "cell_type": "markdown",
   "metadata": {},
   "source": [
    "## Amazon S3"
   ]
  },
  {
   "cell_type": "markdown",
   "metadata": {},
   "source": [
    "### Buckets and Files\n",
    "\n",
    "[Amazon S3 FAQ](https://aws.amazon.com/s3/faqs/)\n",
    "\n",
    "What is a bucket?\n",
    "- A bucket is a container for files.\n",
    "- Think of a bucket as a logical grouping of files, like a [subdomain](https://en.wikipedia.org/wiki/Subdomain).\n",
    "- A bucket can contain an arbitrary number of files.\n",
    "\n",
    "How large can a file in a bucket be?\n",
    "- A file in a bucket can be 5 TB."
   ]
  },
  {
   "cell_type": "markdown",
   "metadata": {},
   "source": [
    "### Bucket Names\n",
    "\n",
    "[AWS bucket name guidelines](https://docs.aws.amazon.com/AmazonS3/latest/dev/BucketRestrictions.html)\n",
    "\n",
    "What are best practices on naming buckets?\n",
    "- Bucket names should be DNS-compliant.\n",
    "- They must be at least 3 and no more than 63 characters long.\n",
    "- Bucket names can contain lowercase letters, numbers, and hyphens. \n",
    "- Bucket names must be a series of one or more labels. Adjacent labels are separated by a single period (.). Each label must start and end with a lowercase letter or a number.\n",
    "- Bucket names must not be formatted as an IP address (e.g., 192.168.5.4).\n",
    "\n",
    "What are some examples of valid bucket names?\n",
    "- `myawsbucket`\n",
    "- `my.aws.bucket`\n",
    "- `myawsbucket.1`\n",
    "- `my-aws-bucket`\n",
    "\n",
    "What are some examples of invalid bucket names? \n",
    "- `.myawsbucket`\n",
    "- `myawsbucket.`\n",
    "- `my..examplebucket`\n",
    "- `MyAwsBucket`\n",
    "- `my_aws_bucket`"
   ]
  },
  {
   "cell_type": "markdown",
   "metadata": {},
   "source": [
    "### Managing buckets with the AWS console GUI"
   ]
  },
  {
   "cell_type": "markdown",
   "metadata": {},
   "source": [
    "You can use the [AWS console web interface for S3](https://s3.console.aws.amazon.com/s3/home) to create & manage buckets.\n",
    "\n",
    "- click `Create Bucket`\n",
    "- give the bucket a GLOBALLY UNIQUE name\n",
    "- we can leave the region as the default, `US East (N. Virginia)`\n",
    "- click `Next`, note all the options we don't care about right now, and click `Next` again\n",
    "- this screen is about permission: which accounts do you want to give read / write access to this bucket? do you want the bucket to be publicly readable?\n",
    "    - you do not want your bucket to be publicly writable. \n",
    "- click `Next` to review your settings, then `Create`\n",
    "\n",
    "Clicking on the bucket name brings you to the page where you can update bucket permissions, create folders, upload files, and so on. \n",
    "\n",
    "##### S3 Files to URLs\n",
    "- you can compose the URL using the region, bucket, and filename. \n",
    "- For the `N. Virginia` region, the general template for the URL is `http://s3.amazonaws.com/BUCKETNAME/FILENAME`.\n",
    "    - [Region-specific endpoint](https://docs.aws.amazon.com/AmazonRDS/latest/UserGuide/Concepts.RegionsAndAvailabilityZones.html) is `http://s3-AWSREGION.amazonaws.com/BUCKETNAME/FILENAME`\n",
    "- You can also find the URL by looking at the file on the AWS web console.\n",
    "\n",
    "##### Permissions\n",
    "You can manage individual file permissions as well. For example:\n",
    "- If a bucket is `private` and a file inside it is `public-read`, anyone can view the file through a web browser\n",
    "- If a bucket is `public-read` and a file inside it is `private`, the file will not be readable by everyone. However, if anyone accesses the URL for the bucket, they will see the file listed."
   ]
  },
  {
   "cell_type": "markdown",
   "metadata": {},
   "source": [
    "### Managing buckets with the AWS command line interface\n",
    "\n",
    "I loathe the mouse, the cursor, the clicking. I would like to use the keyboard only. But how?\n",
    "\n",
    "[AWS CLI S3 documentation](https://docs.aws.amazon.com/cli/latest/userguide/using-s3-commands.html)"
   ]
  },
  {
   "cell_type": "markdown",
   "metadata": {},
   "source": [
    "- `aws s3 ls` to list your buckets\n",
    "- `aws s3 ls s3://BUCKETNAME/` to list contents of a bucket\n",
    "- `aws s3 ls s3://BUCKETNAME/FOLDERNAME/` to list contents of a directory in the bucket (the trailing `/` is necessary)\n",
    "- `aws s3 mb s3://BUCKETNAME` to create a new bucket\n",
    "- `aws s3 rb s3://BUCKETNAME` to delete a bucket (the bucket must be empty)\n",
    "    - `aws s3 rb s3://BUCKETNAME --force` to delete a non-empty bucket\n",
    "- `aws s3 cp LOCALFILE s3://BUCKETNAME/` to upload a local file to a bucket\n",
    "- `aws s3 cp s3://BUCKETNAME/FILENAME .` to download a `FILENAME` to the current directory\n",
    "    - just like the UNIX `cd`, use the `--recursive` flag for copying directories\n",
    "    - you can also use `rm` and `mv` the same way\n",
    "- see the `aws s3 sync` command in the docs above for more examples of how to keep a local directory & a remote bucket directory synchronized\n"
   ]
  },
  {
   "cell_type": "markdown",
   "metadata": {},
   "source": [
    "### Managing buckets using the `boto3` library in python"
   ]
  },
  {
   "cell_type": "markdown",
   "metadata": {},
   "source": [
    "[boto3 s3 documentation](https://boto3.amazonaws.com/v1/documentation/api/latest/guide/s3-examples.html)"
   ]
  },
  {
   "cell_type": "code",
   "execution_count": 1,
   "metadata": {},
   "outputs": [],
   "source": [
    "import boto3\n",
    "\n",
    "s3 = boto3.client('s3')"
   ]
  },
  {
   "cell_type": "markdown",
   "metadata": {},
   "source": [
    "##### List buckets"
   ]
  },
  {
   "cell_type": "code",
   "execution_count": 2,
   "metadata": {
    "scrolled": false
   },
   "outputs": [
    {
     "data": {
      "text/plain": [
       "{'Buckets': [{'CreationDate': datetime.datetime(2017, 12, 11, 22, 44, 10, tzinfo=tzutc()),\n",
       "   'Name': 'aws-logs-232319016740-us-east-1'},\n",
       "  {'CreationDate': datetime.datetime(2018, 3, 29, 2, 39, 34, tzinfo=tzutc()),\n",
       "   'Name': 'aws-logs-232319016740-us-west-1'},\n",
       "  {'CreationDate': datetime.datetime(2017, 12, 14, 22, 6, 6, tzinfo=tzutc()),\n",
       "   'Name': 'galv-wiki-data'},\n",
       "  {'CreationDate': datetime.datetime(2018, 9, 18, 1, 6, 10, tzinfo=tzutc()),\n",
       "   'Name': 'moses-party-bucket-zone'},\n",
       "  {'CreationDate': datetime.datetime(2018, 9, 18, 1, 19, 28, tzinfo=tzutc()),\n",
       "   'Name': 'moses-test-bucket-horse'},\n",
       "  {'CreationDate': datetime.datetime(2018, 9, 18, 17, 9, 8, tzinfo=tzutc()),\n",
       "   'Name': 'moses-unique-breadfruit'},\n",
       "  {'CreationDate': datetime.datetime(2018, 9, 18, 1, 34, 2, tzinfo=tzutc()),\n",
       "   'Name': 'moses79'}],\n",
       " 'Owner': {'DisplayName': 'mosesmarsh',\n",
       "  'ID': '9b5e4b0fcb1e508dcd31e5c87181a04d913f35587d2d9ff551ef61aaf7ce14f4'},\n",
       " 'ResponseMetadata': {'HTTPHeaders': {'content-type': 'application/xml',\n",
       "   'date': 'Tue, 18 Sep 2018 17:15:16 GMT',\n",
       "   'server': 'AmazonS3',\n",
       "   'transfer-encoding': 'chunked',\n",
       "   'x-amz-id-2': 'iUdzUbWiDX4vRXiz+tFFz2u+Cej/Ulf6Mp0JFqVyBqy0cVuVl3QoriOEnty3pT10vOJa+D+QrU8=',\n",
       "   'x-amz-request-id': '8F4FF2A0271994FC'},\n",
       "  'HTTPStatusCode': 200,\n",
       "  'HostId': 'iUdzUbWiDX4vRXiz+tFFz2u+Cej/Ulf6Mp0JFqVyBqy0cVuVl3QoriOEnty3pT10vOJa+D+QrU8=',\n",
       "  'RequestId': '8F4FF2A0271994FC',\n",
       "  'RetryAttempts': 0}}"
      ]
     },
     "execution_count": 2,
     "metadata": {},
     "output_type": "execute_result"
    }
   ],
   "source": [
    "s3.list_buckets()"
   ]
  },
  {
   "cell_type": "code",
   "execution_count": 3,
   "metadata": {},
   "outputs": [
    {
     "data": {
      "text/plain": [
       "[{'CreationDate': datetime.datetime(2017, 12, 11, 22, 44, 10, tzinfo=tzutc()),\n",
       "  'Name': 'aws-logs-232319016740-us-east-1'},\n",
       " {'CreationDate': datetime.datetime(2018, 3, 29, 2, 39, 34, tzinfo=tzutc()),\n",
       "  'Name': 'aws-logs-232319016740-us-west-1'},\n",
       " {'CreationDate': datetime.datetime(2017, 12, 14, 22, 6, 6, tzinfo=tzutc()),\n",
       "  'Name': 'galv-wiki-data'},\n",
       " {'CreationDate': datetime.datetime(2018, 9, 18, 1, 6, 10, tzinfo=tzutc()),\n",
       "  'Name': 'moses-party-bucket-zone'},\n",
       " {'CreationDate': datetime.datetime(2018, 9, 18, 1, 19, 28, tzinfo=tzutc()),\n",
       "  'Name': 'moses-test-bucket-horse'},\n",
       " {'CreationDate': datetime.datetime(2018, 9, 18, 17, 9, 8, tzinfo=tzutc()),\n",
       "  'Name': 'moses-unique-breadfruit'},\n",
       " {'CreationDate': datetime.datetime(2018, 9, 18, 1, 34, 2, tzinfo=tzutc()),\n",
       "  'Name': 'moses79'}]"
      ]
     },
     "execution_count": 3,
     "metadata": {},
     "output_type": "execute_result"
    }
   ],
   "source": [
    "s3.list_buckets()['Buckets']"
   ]
  },
  {
   "cell_type": "code",
   "execution_count": 4,
   "metadata": {},
   "outputs": [
    {
     "name": "stdout",
     "output_type": "stream",
     "text": [
      "aws-logs-232319016740-us-east-1\n",
      "aws-logs-232319016740-us-west-1\n",
      "galv-wiki-data\n",
      "moses-party-bucket-zone\n",
      "moses-test-bucket-horse\n",
      "moses-unique-breadfruit\n",
      "moses79\n"
     ]
    }
   ],
   "source": [
    "for b in s3.list_buckets()['Buckets']:\n",
    "    print(b['Name'])"
   ]
  },
  {
   "cell_type": "markdown",
   "metadata": {},
   "source": [
    "##### Create a bucket"
   ]
  },
  {
   "cell_type": "code",
   "execution_count": 5,
   "metadata": {},
   "outputs": [
    {
     "data": {
      "text/plain": [
       "{'Location': '/moses79',\n",
       " 'ResponseMetadata': {'HTTPHeaders': {'content-length': '0',\n",
       "   'date': 'Tue, 18 Sep 2018 17:15:57 GMT',\n",
       "   'location': '/moses79',\n",
       "   'server': 'AmazonS3',\n",
       "   'x-amz-id-2': 'whVTr9PvorMadWThIot0pHiB1nufG6yzW3hrR2hl16udRyDQk86onI/0QCUVztOHzNYG1k8Z4zo=',\n",
       "   'x-amz-request-id': '08C7E4401A4C43EB'},\n",
       "  'HTTPStatusCode': 200,\n",
       "  'HostId': 'whVTr9PvorMadWThIot0pHiB1nufG6yzW3hrR2hl16udRyDQk86onI/0QCUVztOHzNYG1k8Z4zo=',\n",
       "  'RequestId': '08C7E4401A4C43EB',\n",
       "  'RetryAttempts': 0}}"
      ]
     },
     "execution_count": 5,
     "metadata": {},
     "output_type": "execute_result"
    }
   ],
   "source": [
    "s3.create_bucket(Bucket='moses79')"
   ]
  },
  {
   "cell_type": "code",
   "execution_count": 6,
   "metadata": {},
   "outputs": [
    {
     "name": "stdout",
     "output_type": "stream",
     "text": [
      "aws-logs-232319016740-us-east-1\n",
      "aws-logs-232319016740-us-west-1\n",
      "galv-wiki-data\n",
      "moses-party-bucket-zone\n",
      "moses-test-bucket-horse\n",
      "moses-unique-breadfruit\n",
      "moses79\n"
     ]
    }
   ],
   "source": [
    "for b in s3.list_buckets()['Buckets']:\n",
    "    print(b['Name'])"
   ]
  },
  {
   "cell_type": "markdown",
   "metadata": {},
   "source": [
    "##### List the contents of a bucket"
   ]
  },
  {
   "cell_type": "code",
   "execution_count": 7,
   "metadata": {},
   "outputs": [],
   "source": [
    "response = s3.list_objects_v2(Bucket='moses-party-bucket-zone')"
   ]
  },
  {
   "cell_type": "code",
   "execution_count": 8,
   "metadata": {},
   "outputs": [
    {
     "data": {
      "text/plain": [
       "{'Contents': [{'ETag': '\"7285c37765d363b534fd9708d33ce234\"',\n",
       "   'Key': 'test.txt',\n",
       "   'LastModified': datetime.datetime(2018, 9, 18, 1, 25, 5, tzinfo=tzutc()),\n",
       "   'Size': 20,\n",
       "   'StorageClass': 'STANDARD'},\n",
       "  {'ETag': '\"c876003b30f30e80f1e0259da3321749\"',\n",
       "   'Key': 'uploaded_bee.jpg',\n",
       "   'LastModified': datetime.datetime(2018, 9, 18, 1, 47, 22, tzinfo=tzutc()),\n",
       "   'Size': 44582,\n",
       "   'StorageClass': 'STANDARD'}],\n",
       " 'IsTruncated': False,\n",
       " 'KeyCount': 2,\n",
       " 'MaxKeys': 1000,\n",
       " 'Name': 'moses-party-bucket-zone',\n",
       " 'Prefix': '',\n",
       " 'ResponseMetadata': {'HTTPHeaders': {'content-type': 'application/xml',\n",
       "   'date': 'Tue, 18 Sep 2018 17:16:10 GMT',\n",
       "   'server': 'AmazonS3',\n",
       "   'transfer-encoding': 'chunked',\n",
       "   'x-amz-bucket-region': 'us-east-1',\n",
       "   'x-amz-id-2': 'n1wlI8BH7HZDpTG9D5YFy/G3wFYeNbI/LqfqStgrkYWXSXXztly5LxZsQhLShHSWo2ZEn8C+4fc=',\n",
       "   'x-amz-request-id': '8AF7F05CE61A409C'},\n",
       "  'HTTPStatusCode': 200,\n",
       "  'HostId': 'n1wlI8BH7HZDpTG9D5YFy/G3wFYeNbI/LqfqStgrkYWXSXXztly5LxZsQhLShHSWo2ZEn8C+4fc=',\n",
       "  'RequestId': '8AF7F05CE61A409C',\n",
       "  'RetryAttempts': 0}}"
      ]
     },
     "execution_count": 8,
     "metadata": {},
     "output_type": "execute_result"
    }
   ],
   "source": [
    "response"
   ]
  },
  {
   "cell_type": "code",
   "execution_count": 9,
   "metadata": {},
   "outputs": [
    {
     "data": {
      "text/plain": [
       "[{'ETag': '\"7285c37765d363b534fd9708d33ce234\"',\n",
       "  'Key': 'test.txt',\n",
       "  'LastModified': datetime.datetime(2018, 9, 18, 1, 25, 5, tzinfo=tzutc()),\n",
       "  'Size': 20,\n",
       "  'StorageClass': 'STANDARD'},\n",
       " {'ETag': '\"c876003b30f30e80f1e0259da3321749\"',\n",
       "  'Key': 'uploaded_bee.jpg',\n",
       "  'LastModified': datetime.datetime(2018, 9, 18, 1, 47, 22, tzinfo=tzutc()),\n",
       "  'Size': 44582,\n",
       "  'StorageClass': 'STANDARD'}]"
      ]
     },
     "execution_count": 9,
     "metadata": {},
     "output_type": "execute_result"
    }
   ],
   "source": [
    "response['Contents']"
   ]
  },
  {
   "cell_type": "code",
   "execution_count": 10,
   "metadata": {},
   "outputs": [
    {
     "name": "stdout",
     "output_type": "stream",
     "text": [
      "test.txt\n",
      "uploaded_bee.jpg\n"
     ]
    }
   ],
   "source": [
    "for obj in response['Contents']:\n",
    "    print(obj['Key'])"
   ]
  },
  {
   "cell_type": "markdown",
   "metadata": {},
   "source": [
    "##### Upload a file"
   ]
  },
  {
   "cell_type": "code",
   "execution_count": 11,
   "metadata": {},
   "outputs": [
    {
     "name": "stdout",
     "output_type": "stream",
     "text": [
      "test.txt\n",
      "uploaded_bee.jpg\n"
     ]
    }
   ],
   "source": [
    "for obj in s3.list_objects_v2(Bucket='moses-party-bucket-zone')['Contents']:\n",
    "    print(obj['Key'])"
   ]
  },
  {
   "cell_type": "code",
   "execution_count": 13,
   "metadata": {},
   "outputs": [],
   "source": [
    "remote_file_name = 'uploaded_bee.jpg'\n",
    "local_file_name = 'carpenter_bee.jpg'\n",
    "bucket_name = 'moses-party-bucket-zone'\n",
    "\n",
    "s3.upload_file(Filename=local_file_name, \n",
    "               Bucket=bucket_name, \n",
    "               Key=remote_file_name)"
   ]
  },
  {
   "cell_type": "code",
   "execution_count": 14,
   "metadata": {},
   "outputs": [
    {
     "name": "stdout",
     "output_type": "stream",
     "text": [
      "test.txt\n",
      "uploaded_bee.jpg\n"
     ]
    }
   ],
   "source": [
    "for obj in s3.list_objects_v2(Bucket='moses-party-bucket-zone')['Contents']:\n",
    "    print(obj['Key'])"
   ]
  },
  {
   "cell_type": "markdown",
   "metadata": {},
   "source": [
    "##### Read contents of an file"
   ]
  },
  {
   "cell_type": "code",
   "execution_count": 15,
   "metadata": {},
   "outputs": [],
   "source": [
    "response = s3.get_object(Bucket='moses-party-bucket-zone',\n",
    "                         Key='test.txt')"
   ]
  },
  {
   "cell_type": "code",
   "execution_count": 16,
   "metadata": {},
   "outputs": [
    {
     "data": {
      "text/plain": [
       "{'AcceptRanges': 'bytes',\n",
       " 'Body': <botocore.response.StreamingBody at 0x7fcd2c72e828>,\n",
       " 'ContentLength': 20,\n",
       " 'ContentType': 'text/plain',\n",
       " 'ETag': '\"7285c37765d363b534fd9708d33ce234\"',\n",
       " 'LastModified': datetime.datetime(2018, 9, 18, 1, 25, 5, tzinfo=tzutc()),\n",
       " 'Metadata': {},\n",
       " 'ResponseMetadata': {'HTTPHeaders': {'accept-ranges': 'bytes',\n",
       "   'content-length': '20',\n",
       "   'content-type': 'text/plain',\n",
       "   'date': 'Tue, 18 Sep 2018 17:16:48 GMT',\n",
       "   'etag': '\"7285c37765d363b534fd9708d33ce234\"',\n",
       "   'last-modified': 'Tue, 18 Sep 2018 01:25:05 GMT',\n",
       "   'server': 'AmazonS3',\n",
       "   'x-amz-id-2': '/85cXRRCxyJ2sScWr8r9t1oUPB/U+Ckm8hnFPJx/ZBVDMcQMAX933eJRU812FMXCwRL0jkl0oe8=',\n",
       "   'x-amz-request-id': '3DF65B4EAC7E074F'},\n",
       "  'HTTPStatusCode': 200,\n",
       "  'HostId': '/85cXRRCxyJ2sScWr8r9t1oUPB/U+Ckm8hnFPJx/ZBVDMcQMAX933eJRU812FMXCwRL0jkl0oe8=',\n",
       "  'RequestId': '3DF65B4EAC7E074F',\n",
       "  'RetryAttempts': 0}}"
      ]
     },
     "execution_count": 16,
     "metadata": {},
     "output_type": "execute_result"
    }
   ],
   "source": [
    "response"
   ]
  },
  {
   "cell_type": "code",
   "execution_count": 17,
   "metadata": {},
   "outputs": [
    {
     "data": {
      "text/plain": [
       "<botocore.response.StreamingBody at 0x7fcd2c72e828>"
      ]
     },
     "execution_count": 17,
     "metadata": {},
     "output_type": "execute_result"
    }
   ],
   "source": [
    "response['Body']"
   ]
  },
  {
   "cell_type": "code",
   "execution_count": 18,
   "metadata": {},
   "outputs": [
    {
     "data": {
      "text/plain": [
       "b'not a poem anymore\\n\\n'"
      ]
     },
     "execution_count": 18,
     "metadata": {},
     "output_type": "execute_result"
    }
   ],
   "source": [
    "response['Body'].read()"
   ]
  },
  {
   "cell_type": "markdown",
   "metadata": {},
   "source": [
    "##### Download a file"
   ]
  },
  {
   "cell_type": "code",
   "execution_count": 19,
   "metadata": {},
   "outputs": [],
   "source": [
    "s3.download_file(Bucket=bucket_name,\n",
    "                 Key=remote_file_name,\n",
    "                 Filename=\"downloaded-\" + local_file_name)"
   ]
  },
  {
   "cell_type": "code",
   "execution_count": 20,
   "metadata": {},
   "outputs": [
    {
     "name": "stdout",
     "output_type": "stream",
     "text": [
      "assets\t\t   downloaded-carpenter_bee.jpg\r\n",
      "aws_lecture.ipynb  high_performance_python_lecture.ipynb\r\n",
      "carpenter_bee.jpg\r\n"
     ]
    }
   ],
   "source": [
    "!ls"
   ]
  },
  {
   "cell_type": "markdown",
   "metadata": {},
   "source": [
    "## Amazon EC2"
   ]
  },
  {
   "cell_type": "markdown",
   "metadata": {},
   "source": [
    "### [Regions](https://docs.aws.amazon.com/AmazonRDS/latest/UserGuide/Concepts.RegionsAndAvailabilityZones.html)\n",
    "\n",
    "Q: What are *AWS Regions*?\n",
    "- AWS is hosted in different geographic locations worldwide. \n",
    "- For example, there are 4 regions in the US.\n",
    "\n",
    "Region | Name | Location \n",
    "---|---|--- \n",
    "us-east-1 | US East | N. Virginia\n",
    "us-east-2 | US East 2 | Ohio\n",
    "us-west-1 | US West | N. California\n",
    "us-west-2 | US West 2 | Oregon\n",
    "\n",
    "Q: How should I choose a region?\n",
    "- N. Virginia or `us-east-1` is the default region for EC2.\n",
    "- Using a region other than N. Virginia requires additional configuration.\n",
    "- If you are not sure, choose N. Virginia."
   ]
  },
  {
   "cell_type": "markdown",
   "metadata": {},
   "source": [
    "### Availability Zones\n",
    "\n",
    "Q: What are *AWS Availability Zones*?\n",
    "\n",
    "- Regions are divided into isolated availability zones for fault tolerance.\n",
    "- Availability zones run on physically separate hardware and infrastructure.\n",
    "- They do not share hardware, generators, or cooling equipment. \n",
    "- Availability zones are assigned automatically to your EC2 instances based on your user ID.\n",
    "\n",
    "<img src='assets/aws_regions.png'>\n",
    "\n",
    "- Availability zones are assigned automatically by the system. It is not possible for two AWS users to coordinate and be hosted on the same availability zone."
   ]
  },
  {
   "cell_type": "markdown",
   "metadata": {},
   "source": [
    "### Starting an EC2 instance\n",
    "- Login to the AWS console, click `Services`, then, under \"Compute\", click `EC2`\n",
    "- In the upper right corner of the page, make sure your region is `N. Virginia`\n",
    "- Click the blue `Launch Instance` button\n",
    "- scroll down to the first entry that says `ubuntu` and click `select`\n",
    "- by default, the `t2.micro` instance (free tier) is selected. leave it, then click `Next: Configure instance details`\n",
    "- under `IAM role`, select your username, then click `Next`\n",
    "- here we can add EBS (think of it as more hard drive space). The default disk size is 8 GB. Change it to 20 (which still qualifies for the free tier).\n",
    "- click `Next` until you are at the `Configure Security Group` screen. Make sure there is an entry with `Type: SSH`, `Protocol: TCP`, `Port Range: 22`, and `Source: Anywhere`. (If not, create one with `Add Rule`)\n",
    "- Now click `Review and Launch`, then `Launch`\n",
    "- This brings up a window asking you to select a secure key pair to access this instance. Select `create a new key pair`, give it a name (for example, `my_first_key`), then click `Download Key Pair`\n",
    "    - this is your only chance to download it. if you lose this file, you'll have to generate a new one, and you'll lose access to any EC2 instances that need the old key pair. \n",
    "- Click `launch instance`\n",
    "\n",
    "##### is there an AWS CLI way to start EC2 instances?\n",
    "yes, good luck: https://docs.aws.amazon.com/cli/latest/userguide/cli-using-ec2.html"
   ]
  },
  {
   "cell_type": "markdown",
   "metadata": {},
   "source": [
    "### Accessing your EC2 instance\n",
    "We are going to set up convenient SSH access to your cloud computer\n",
    "- move the `pem` file you downloaded to your `~/.ssh` folder (if it doesnt exist, create it)\n",
    "    - example: `mv ~/Downloads/my_first_key.pem ~/.ssh`\n",
    "- SSH requires that your key file be accessible only to you, so change the permissions with:\n",
    "    - `chmod 400 ~/.ssh/my_first_key.pem`\n",
    "- back on the EC2 dashboard of the AWS web console, click on your instance\n",
    "- copy its public DNS (which looks something like `ec2-52-90-35-125.compute-1.amazonaws.com`)\n",
    "- in the `~/.ssh` folder, create a file named `config` (you can create a blank file by typing `touch config`) and enter the following text:\n",
    "\n",
    "```\n",
    "Host my_first_ec2\n",
    "    Hostname PUBLICDNS\n",
    "    User ubuntu\n",
    "    IdentityFile ~/.ssh/my_first_key.pem\n",
    "\n",
    "```\n",
    "\n",
    "- now we can open a terminal on the remote computer with \n",
    "    - `ssh my_first_ec2`  \n",
    "- you now have a terminal open to enter shell commands on a remote computer! wow! the following commands are to be run on the remote computer, NOT on a local terminal\n",
    "- let's install the AWS CLI on this system. To do so, in this case:\n",
    "    - `sudo apt update`\n",
    "    - `sudo apt upgrade`\n",
    "    - `sudo apt install awscli`\n",
    "- since we gave this instance the right IAM role, you don't need to copy over your AWS credentials. Try it!\n",
    "    - `aws s3 ls`"
   ]
  },
  {
   "cell_type": "markdown",
   "metadata": {},
   "source": [
    "### Copying Files to EC2\n",
    "- To copy a file `myfile.txt` to EC2, use a command like this.\n",
    "    - `scp myfile.txt my_first_ec2:`\n",
    "- To copy a file from the EC2 to the current directory on the local machine, try\n",
    "    - `scp my_first_ec2:path/to/remote_file .`\n",
    "- To copy a directory `mydir` to EC2, use a command like this. \n",
    "    - `scp -r mydir my_first ec2:`"
   ]
  },
  {
   "cell_type": "code",
   "execution_count": null,
   "metadata": {},
   "outputs": [],
   "source": []
  }
 ],
 "metadata": {
  "kernelspec": {
   "display_name": "Python 3",
   "language": "python",
   "name": "python3"
  },
  "language_info": {
   "codemirror_mode": {
    "name": "ipython",
    "version": 3
   },
   "file_extension": ".py",
   "mimetype": "text/x-python",
   "name": "python",
   "nbconvert_exporter": "python",
   "pygments_lexer": "ipython3",
   "version": "3.6.2"
  }
 },
 "nbformat": 4,
 "nbformat_minor": 1
}
