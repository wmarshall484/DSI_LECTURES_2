{
 "cells": [
  {
   "cell_type": "markdown",
   "metadata": {},
   "source": [
    "# Using Amazon Web Services (AWS)\n",
    "\n",
    "## Objectives\n",
    "\n",
    "- Describe core AWS services & concepts\n",
    "- Configure your laptop to use AWS\n",
    "- Use SSH key to access EC2 instances\n",
    "- Launch & access EC2\n",
    "- Access S3"
   ]
  },
  {
   "cell_type": "markdown",
   "metadata": {},
   "source": [
    "## What are the benefits of AWS and other cloud services?\n",
    "\n",
    "<img src='assets/cloud_benefits.png'>"
   ]
  },
  {
   "cell_type": "markdown",
   "metadata": {},
   "source": [
    "## Amazon vs. Other Cloud Services\n",
    "\n",
    "<img src='assets/public_cloud_adoption.png'>"
   ]
  },
  {
   "cell_type": "markdown",
   "metadata": {},
   "source": [
    "## AWS Storage + Execution\n",
    "\n",
    "What are the primary services that Amazon AWS offers?\n",
    "\n",
    "Name | Full Name | Service\n",
    "---|---|---\n",
    "S3 | Simple Storage Service | Storage\n",
    "EC2 | Elastic Compute Cloud | Execution\n",
    "EBS | Elastic Block Store | Storage attached to EC2 instances"
   ]
  },
  {
   "cell_type": "markdown",
   "metadata": {},
   "source": [
    "### Pop Quiz\n",
    "\n",
    "<details>\n",
    "<summary>Q: I want to store some video files on the web. Which Amazon service should I use?</summary>\n",
    "A: S3\n",
    "</details>\n",
    "\n",
    "<details>\n",
    "<summary>Q: I just created an iPhone app which needs to store user profiles on the web somewhere. Which Amazon service should I use?</summary>\n",
    "A: S3\n",
    "</details>\n",
    "\n",
    "<details>\n",
    "<summary>Q: I want to create a web application that uses Javascript in the backend along with a MongoDB database. Which Amazon service should I use?</summary>\n",
    "A: S3 + EC2 + EBS\n",
    "</details>"
   ]
  },
  {
   "cell_type": "markdown",
   "metadata": {},
   "source": [
    "## S3 vs. EBS\n",
    "\n",
    "What is the difference between S3 and EBS? Why would I use one versus the other?\n",
    "\n",
    "Feature | S3 | EBS\n",
    "---|---|---\n",
    "Can be accessed from | Anywhere on the web;<br/>any EC2 instance | Specific availability zone;<br/>EC2 instance attached to it\n",
    "Pricing | Less expensive;<br/>Storage (3¢/GB);<br/>Use (1¢/10,000 requests) | More expensive;<br/>Storage (3¢/GB) [+ IOPS]\n",
    "Latency | Higher | Lower\n",
    "Throughput | Usually more | Usually less\n",
    "Performance | Slightly worse |Slightly better\n",
    "Max volume size | Unlimited | 16 TB\n",
    "Max file size | 5 TB | 16 TB"
   ]
  },
  {
   "cell_type": "markdown",
   "metadata": {},
   "source": [
    "### Pop Quiz\n",
    "\n",
    "<details>\n",
    "<summary>Q: What is latency?</summary>\n",
    "A: Latency is the time it takes between making a request and the start of a response.\n",
    "</details>\n",
    "\n",
    "<details>\n",
    "<summary>Q: Which is better?  Higher latency or lower?</summary>\n",
    "A: Lower is better.\n",
    "</details>\n",
    "\n",
    "<details>\n",
    "<summary>Q: Why is S3 latency higher than EBS?</summary>\n",
    "A: One reason is that EBS is in the same availability zone.\n",
    "</details>"
   ]
  },
  {
   "cell_type": "markdown",
   "metadata": {},
   "source": [
    "## Amazon S3"
   ]
  },
  {
   "cell_type": "markdown",
   "metadata": {},
   "source": [
    "### Buckets and Files\n",
    "\n",
    "What is a bucket?\n",
    "- A bucket is a container for files.\n",
    "- Think of a bucket as a logical grouping of files like a sub-domain.\n",
    "- A bucket can contain an arbitrary number of files.\n",
    "\n",
    "How large can a file in a bucket be?\n",
    "- A file in a bucket can be 5 TB."
   ]
  },
  {
   "cell_type": "markdown",
   "metadata": {},
   "source": [
    "### Bucket Names\n",
    "\n",
    "What are best practices on naming buckets?\n",
    "- Bucket names should be DNS-compliant.\n",
    "- They must be at least 3 and no more than 63 characters long.\n",
    "- They must be a series of one or more labels, separated by a single period. \n",
    "- Bucket names can contain lowercase letters, numbers, and hyphens. \n",
    "- Each label must start and end with a lowercase letter or a number.\n",
    "- Bucket names must not be formatted as an IP address (e.g., 192.168.5.4).\n",
    "\n",
    "What are some examples of valid bucket names?\n",
    "- `myawsbucket`\n",
    "- `my.aws.bucket`\n",
    "- `myawsbucket.1`\n",
    "\n",
    "What are some examples of invalid bucket names? \n",
    "- `.myawsbucket`\n",
    "- `myawsbucket.`\n",
    "- `my..examplebucket`"
   ]
  },
  {
   "cell_type": "markdown",
   "metadata": {},
   "source": [
    "#### Pop Quiz\n",
    "\n",
    "<details>\n",
    "<summary>Q: Why are these bucket names invalid?</summary>\n",
    "A: Bucket names cannot start or end with a period. And they cannot have a multiple periods next to each other.\n",
    "</details>"
   ]
  },
  {
   "cell_type": "markdown",
   "metadata": {},
   "source": [
    "### Creating Buckets\n",
    "\n",
    "Q: How can I create a bucket?\n",
    "\n",
    "- Create an access key and secret key here: https://console.aws.amazon.com/iam/home?region=us-east-1#/security_credential , make sure to save the `rootkey.csv` file.\n",
    "- Create a file called `~/.aws/credentials` (on Linux/Mac) or `%USERPROFILE%\\.aws\\credentials` (on Windows), and insert the following code into it. Replace `ACCESS_KEY` and `SECRET_KEY` with the keys you got from Amazon.\n",
    "  \n",
    "```\n",
    "[default]\n",
    "aws_access_key_id = ACCESS_KEY\n",
    "aws_secret_access_key = SECRET_KEY\n",
    "```"
   ]
  },
  {
   "cell_type": "markdown",
   "metadata": {},
   "source": [
    "- Create a connection to S3."
   ]
  },
  {
   "cell_type": "code",
   "execution_count": null,
   "metadata": {},
   "outputs": [],
   "source": [
    "import boto\n",
    "\n",
    "conn = boto.connect_s3()\n",
    "\n",
    "conn"
   ]
  },
  {
   "cell_type": "markdown",
   "metadata": {},
   "source": [
    "- List all the buckets."
   ]
  },
  {
   "cell_type": "code",
   "execution_count": null,
   "metadata": {},
   "outputs": [],
   "source": [
    "conn.get_all_buckets()"
   ]
  },
  {
   "cell_type": "markdown",
   "metadata": {},
   "source": [
    "- Create new bucket."
   ]
  },
  {
   "cell_type": "code",
   "execution_count": null,
   "metadata": {},
   "outputs": [],
   "source": [
    "import os\n",
    "\n",
    "username = os.environ['USER']\n",
    "print 'username =', username\n",
    "\n",
    "bucket_name = username + \"-new-bucket\"\n",
    "print 'bucket_name =', bucket_name\n",
    "\n",
    "bucket = conn.create_bucket(bucket_name)\n",
    "print 'bucket =', bucket"
   ]
  },
  {
   "cell_type": "markdown",
   "metadata": {},
   "source": [
    "### Upgrading Boto\n",
    "\n",
    "Q: Boto is not able to find the credentials. How can I fix this?\n",
    "- Older versions of Boto were not able to read the credentials file."
   ]
  },
  {
   "cell_type": "markdown",
   "metadata": {},
   "source": [
    "### Adding Files\n",
    "\n",
    "Q: How can I add a file to a bucket?"
   ]
  },
  {
   "cell_type": "markdown",
   "metadata": {},
   "source": [
    "- List files."
   ]
  },
  {
   "cell_type": "code",
   "execution_count": null,
   "metadata": {},
   "outputs": [],
   "source": [
    "bucket.get_all_keys()"
   ]
  },
  {
   "cell_type": "markdown",
   "metadata": {},
   "source": [
    "- Add file."
   ]
  },
  {
   "cell_type": "code",
   "execution_count": null,
   "metadata": {},
   "outputs": [],
   "source": [
    "text_file = bucket.new_key('hello-world.txt')\n",
    "print text_file\n",
    "\n",
    "text_file.set_contents_from_string('Hello World!')"
   ]
  },
  {
   "cell_type": "markdown",
   "metadata": {},
   "source": [
    "- List files again; new file should appear."
   ]
  },
  {
   "cell_type": "code",
   "execution_count": null,
   "metadata": {},
   "outputs": [],
   "source": [
    "bucket.get_all_keys()"
   ]
  },
  {
   "cell_type": "markdown",
   "metadata": {},
   "source": [
    "Q: How can I get a file from a bucket?"
   ]
  },
  {
   "cell_type": "code",
   "execution_count": null,
   "metadata": {},
   "outputs": [],
   "source": [
    "another_file = bucket.get_key('hello-world.txt')\n",
    "print another_file\n",
    "\n",
    "another_file.get_contents_as_string()"
   ]
  },
  {
   "cell_type": "markdown",
   "metadata": {},
   "source": [
    "### Creating Buckets With Periods\n",
    "\n",
    "Q: How can I create a bucket in Boto with a period in the name?\n",
    "- There is a bug in Boto that causes `create_bucket` to fail if the bucket name has a period in it. \n",
    "- Try creating the bucket with a period in its name. This should fail."
   ]
  },
  {
   "cell_type": "code",
   "execution_count": null,
   "metadata": {},
   "outputs": [],
   "source": [
    "bucket_name_with_period = bucket_name + \".1.2.3\"\n",
    "\n",
    "bucket_with_period = conn.create_bucket(bucket_name_with_period)\n",
    "\n",
    "bucket_with_period"
   ]
  },
  {
   "cell_type": "markdown",
   "metadata": {},
   "source": [
    "- To get around this run this code snippet."
   ]
  },
  {
   "cell_type": "code",
   "execution_count": null,
   "metadata": {
    "collapsed": true
   },
   "outputs": [],
   "source": [
    "import ssl\n",
    "\n",
    "if hasattr(ssl, '_create_unverified_context'):\n",
    "    ssl._create_default_https_context = ssl._create_unverified_context"
   ]
  },
  {
   "cell_type": "markdown",
   "metadata": {},
   "source": [
    "- Now try creating the bucket with a period in its name and it should work."
   ]
  },
  {
   "cell_type": "code",
   "execution_count": null,
   "metadata": {},
   "outputs": [],
   "source": [
    "bucket_name_with_period = bucket_name + \".1.2.3\"\n",
    "\n",
    "bucket_with_period = conn.create_bucket(bucket_name_with_period)\n",
    "\n",
    "bucket_with_period"
   ]
  },
  {
   "cell_type": "markdown",
   "metadata": {},
   "source": [
    "- Now lets delete the bucket."
   ]
  },
  {
   "cell_type": "code",
   "execution_count": null,
   "metadata": {
    "collapsed": true
   },
   "outputs": [],
   "source": [
    "bucket_with_period.delete()"
   ]
  },
  {
   "cell_type": "markdown",
   "metadata": {},
   "source": [
    "- For more details see <https://github.com/boto/boto/issues/2836>."
   ]
  },
  {
   "cell_type": "markdown",
   "metadata": {},
   "source": [
    "### Access Control\n",
    "\n",
    "Q: I want to access my S3 file from a web browser without giving my access and secret keys. How can I open up access to the file to anyone?\n",
    "- You can set up Access Control Lists (ACLs) at the level of the bucket or at the level of the individual objects in the bucket (folders, files).\n",
    "\n",
    "Q: What are the different ACL policies?\n",
    "\n",
    "ACL Policy | Meaning\n",
    "---|---\n",
    "`private` | No one else besides owner has any access rights.\n",
    "`public-read` | Everyone has read access.\n",
    "`public-read-write` | Everyone has read/write access.\n",
    "`authenticated-read` | Registered Amazon S3 users have read access.\n",
    "\n",
    "Q: What does `read` and `write` mean for buckets and files?\n",
    "- Read access to a file lets you read the file.\n",
    "- Read access to a bucket or folder lets you see the names of the files inside it."
   ]
  },
  {
   "cell_type": "markdown",
   "metadata": {},
   "source": [
    "#### Pop Quiz\n",
    "\n",
    "<details>\n",
    "<summary>Q: If a bucket is `private` and a file inside it is `public-read` can I view it through a web browser?</summary>\n",
    "A: Yes. Access to the file is only determined by its ACL policy.\n",
    "</details>\n",
    "\n",
    "<details>\n",
    "<summary>Q: If a bucket is `public-read` and a file inside it is `private` can I view the file through a web browser?</summary>\n",
    "A: No, you cannot. However, if you access the URL for the bucket you will see the file listed.\n",
    "</details>"
   ]
  },
  {
   "cell_type": "markdown",
   "metadata": {},
   "source": [
    "### Applying Access Control\n",
    "\n",
    "Q: How can I make a file available on the web so anyone can read it?\n",
    "- Create a file with a specific ACL."
   ]
  },
  {
   "cell_type": "code",
   "execution_count": null,
   "metadata": {},
   "outputs": [],
   "source": [
    "secret_file = bucket.new_key('yet-another-hello-world.txt')\n",
    "\n",
    "secret_file.set_contents_from_string('Hello World!', policy = 'private')"
   ]
  },
  {
   "cell_type": "markdown",
   "metadata": {},
   "source": [
    "- Try reading the file."
   ]
  },
  {
   "cell_type": "code",
   "execution_count": null,
   "metadata": {},
   "outputs": [],
   "source": [
    "file_url = 'http://s3.amazonaws.com/' + bucket_name + '/yet-another-hello-world.txt'\n",
    "\n",
    "print file_url\n",
    "\n",
    "!curl $file_url"
   ]
  },
  {
   "cell_type": "markdown",
   "metadata": {},
   "source": [
    "- Now change its ACL."
   ]
  },
  {
   "cell_type": "code",
   "execution_count": null,
   "metadata": {},
   "outputs": [],
   "source": [
    "secret_file.set_acl('public-read')\n",
    "\n",
    "!curl $file_url"
   ]
  },
  {
   "cell_type": "code",
   "execution_count": null,
   "metadata": {},
   "outputs": [],
   "source": [
    "file_url"
   ]
  },
  {
   "cell_type": "markdown",
   "metadata": {
    "collapsed": true
   },
   "source": [
    "- Also you can try accessing the file through the browser.\n",
    "- If you do not specify the ACL for a file when you set its contents, the file is `private` by default."
   ]
  },
  {
   "cell_type": "markdown",
   "metadata": {},
   "source": [
    "### S3 Files to URLs\n",
    "\n",
    "Q: How can I figure out the URL of my S3 file?\n",
    "- As above, you can compose the URL using the region, bucket, and filename. \n",
    "- For 'N. Virginia' the general template for the URL is `http://s3.amazonaws.com/BUCKET/FILE`.\n",
    "    - Region-specific endpoint is `http://s3-AWSREGION.amazonaws.com/BUCKET/FILE`\n",
    "- You can also find the URL by looking at the file on the AWS web console."
   ]
  },
  {
   "cell_type": "markdown",
   "metadata": {},
   "source": [
    "### Deleting Buckets\n",
    "\n",
    "Q: How can I delete a bucket?\n",
    "- Try deleting a bucket containing files. What happens?"
   ]
  },
  {
   "cell_type": "code",
   "execution_count": null,
   "metadata": {
    "scrolled": true
   },
   "outputs": [],
   "source": [
    "print conn.get_all_buckets()"
   ]
  },
  {
   "cell_type": "code",
   "execution_count": null,
   "metadata": {},
   "outputs": [],
   "source": [
    "bucket"
   ]
  },
  {
   "cell_type": "code",
   "execution_count": null,
   "metadata": {},
   "outputs": [],
   "source": [
    "bucket.delete()"
   ]
  },
  {
   "cell_type": "markdown",
   "metadata": {},
   "source": [
    "- To delete the bucket first delete all the files in it."
   ]
  },
  {
   "cell_type": "code",
   "execution_count": null,
   "metadata": {
    "collapsed": true
   },
   "outputs": [],
   "source": [
    "for key in bucket.get_all_keys(): \n",
    "    key.delete()"
   ]
  },
  {
   "cell_type": "markdown",
   "metadata": {},
   "source": [
    "- Then delete the bucket."
   ]
  },
  {
   "cell_type": "code",
   "execution_count": null,
   "metadata": {},
   "outputs": [],
   "source": [
    "print 'Before bucket deletion'\n",
    "print conn.get_all_buckets()\n",
    "\n",
    "bucket.delete()\n",
    "\n",
    "print 'After bucket deletion'\n",
    "print conn.get_all_buckets()"
   ]
  },
  {
   "cell_type": "markdown",
   "metadata": {},
   "source": [
    "## Amazon EC2"
   ]
  },
  {
   "cell_type": "markdown",
   "metadata": {},
   "source": [
    "### Regions\n",
    "\n",
    "Q: What are *AWS Regions*?\n",
    "- AWS is hosted in different geographic locations worldwide. \n",
    "- For example, there are 4 regions in the US.\n",
    "\n",
    "Region | Name | Location \n",
    "---|---|--- \n",
    "us-east-1 | US East | N. Virginia\n",
    "us-east-2 | US East 2 | Ohio\n",
    "us-west-1 | US West | N. California\n",
    "us-west-2 | US West 2 | Oregon\n",
    "\n",
    "Q: How should I choose a region?\n",
    "- N. Virginia or `us-east-1` is the default region for EC2.\n",
    "- Using a region other than N. Virginia requires additional configuration.\n",
    "- If you are not sure, choose N. Virginia."
   ]
  },
  {
   "cell_type": "markdown",
   "metadata": {},
   "source": [
    "### Availability Zones\n",
    "\n",
    "Q: What are *AWS Availability Zones*?\n",
    "\n",
    "- Regions are divided into isolated availability zones for fault tolerance.\n",
    "- Availability zones run on physically separate hardware and infrastructure.\n",
    "- They do not share hardware, generators, or cooling equipment. \n",
    "- Availability zones are assigned automatically to your EC2 instances based on your user ID.\n",
    "\n",
    "<img src='assets/aws_regions.png'>\n",
    "\n",
    "<details>\n",
    "<summary>Q: Is it possible for two separate users to coordinate and land on the same availability zone?</summary>\n",
    "1. Availability zones are assigned automatically by the system.\n",
    "2. It is not possible for two AWS users to coordinate and be hosted on the same availability zone.\n",
    "</details>"
   ]
  },
  {
   "cell_type": "markdown",
   "metadata": {},
   "source": [
    "### Connecting to EC2\n",
    "\n",
    "Q: How can I connect to an EC2 instance?\n",
    "- Login to the AWS console.\n",
    "- Navigate: EC2 > Launch Instance > Community AMIs > Search community AMIs > `ami-a4c7edb2` (An Amazon AMI)\n",
    "- Make sure to create and download private key file (ending in `.pem`) if you haven't already. \n",
    "    - Store the file in `~/.ssh/` and change its permissions (for example, `chmod 600 keypair.pem`)\n",
    "- View the instance and get its Public DNS.\n",
    "    - This should look something like `ec2-34-229-96-155.compute-1.amazonaws.com`.\n",
    "- Use this command to connect to it.\n",
    "    - `ssh -X -i ~/.ssh/keypair.pem user@domain`\n",
    "      - The default username is usually `ec2-user` or `ubuntu`\n",
    "    - Here is an example:\n",
    "        - `ssh -X -i ~/.ssh/keypair.pem ec2-user@ec2-34-229-96-155.compute-1.amazonaws.com`\n",
    "- Make sure you replace the Public DNS value below with the value you have for your instance."
   ]
  },
  {
   "cell_type": "markdown",
   "metadata": {},
   "source": [
    "### Copying Files to EC2\n",
    "\n",
    "Q: How can I copy files to the EC2 instance?\n",
    "- To copy a file `myfile.txt` to EC2, use a command like this.\n",
    "    - `scp -i ~/.ssh/keypair.pem myfile.txt user@domain:`\n",
    "- To copy a directory `mydir` recursively to EC2, use a command like this. \n",
    "    - `scp -i ~/.ssh/keypair.pem -r mydir user@domain:`"
   ]
  },
  {
   "cell_type": "markdown",
   "metadata": {},
   "source": [
    "#### Pop Quiz\n",
    "\n",
    "<details>\n",
    "<summary>Q: When you copy a file to EC2 with `scp` will this show up in S3?</summary>\n",
    "A: No. The file will be stored on the disk on the EC2 instance. It will not be in S3.\n",
    "</details>"
   ]
  }
 ],
 "metadata": {
  "kernelspec": {
   "display_name": "Python 2",
   "language": "python",
   "name": "python2"
  },
  "language_info": {
   "codemirror_mode": {
    "name": "ipython",
    "version": 2
   },
   "file_extension": ".py",
   "mimetype": "text/x-python",
   "name": "python",
   "nbconvert_exporter": "python",
   "pygments_lexer": "ipython2",
   "version": "2.7.13"
  }
 },
 "nbformat": 4,
 "nbformat_minor": 1
}
