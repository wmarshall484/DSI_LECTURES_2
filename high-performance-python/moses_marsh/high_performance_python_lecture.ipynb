{
 "cells": [
  {
   "cell_type": "markdown",
   "metadata": {},
   "source": [
    "# High-Performance Python\n",
    "\n",
    "## Objectives\n",
    "\n",
    "- Describe basic components of a computer\n",
    "- Describe basic components of an operating system (OS)\n",
    "- State difference between processes & threads\n",
    "- List issues involved in parallelizing computation"
   ]
  },
  {
   "cell_type": "markdown",
   "metadata": {},
   "source": [
    "## Multi-Processing vs. Multi-Threading\n",
    "\n",
    "Q: What is the difference between *multi-processing* and *multi-threading*?\n",
    "- Multi-threading (also known as concurrency) splits the work between different threads running on the same processor. \n",
    "- When one thread is blocked the processor works on the tasks for the next one.\n",
    "- Multi-processing splits work across processes running on different processors or even different machines.\n",
    "- Multi-threading works better if you need to exchange data between the threads. \n",
    "- Multi-processing works better if the different processes do not need to pass much data to each other."
   ]
  },
  {
   "cell_type": "markdown",
   "metadata": {},
   "source": [
    "### Pop Quiz\n",
    "\n",
    "<details>\n",
    "<summary>Q: I have to process a very large dataset and run it through a CPU-intensive algorithm. Should I use multi-processing or multi-threading to speed it up?</summary>\n",
    "A: Multi-processing will produce a result faster. This is because it will be able to split the work across different processors or machines.\n",
    "</details>\n",
    "\n",
    "<details>\n",
    "<summary>Q: I have a web scraping application that spends most of its time waiting for web servers to respond. Should I use multi-processing or multi-threading to speed it up?\n",
    "</summary>\n",
    "A: Multi-threading will produce a bigger payoff. This is because it will ensure that the CPU is fully utilized and does not waste time blocked on input.\n",
    "</details>"
   ]
  },
  {
   "cell_type": "markdown",
   "metadata": {},
   "source": [
    "### Analogies\n",
    "\n",
    "Multi-Threading | Multi-Processing\n",
    "---|---\n",
    "Laundromat | Everyone has a washer-dryer\n",
    "Uber or Carpool | Everyone has a car"
   ]
  },
  {
   "cell_type": "markdown",
   "metadata": {},
   "source": [
    "## Multi-Threading\n",
    "\n",
    "Let's write a multi-threaded program that prints `\"hello\"` in different threads."
   ]
  },
  {
   "cell_type": "markdown",
   "metadata": {},
   "source": [
    "- Import `threading`"
   ]
  },
  {
   "cell_type": "code",
   "execution_count": null,
   "metadata": {},
   "outputs": [],
   "source": [
    "import threading"
   ]
  },
  {
   "cell_type": "markdown",
   "metadata": {},
   "source": [
    "- Define a \"print after delay\" function."
   ]
  },
  {
   "cell_type": "code",
   "execution_count": null,
   "metadata": {},
   "outputs": [],
   "source": [
    "from time import sleep\n",
    "\n",
    "def print_with_delay(d, x):\n",
    "    sleep(d)\n",
    "    print(x)"
   ]
  },
  {
   "cell_type": "markdown",
   "metadata": {},
   "source": [
    "- Create threads for printing."
   ]
  },
  {
   "cell_type": "code",
   "execution_count": null,
   "metadata": {},
   "outputs": [],
   "source": [
    "t1 = threading.Thread(target = print_with_delay,\n",
    "                      args = (5, 'hello with delay 5'))\n",
    "t2 = threading.Thread(target = print_with_delay,\n",
    "                      args = (2, 'hello with delay 2'))\n",
    "t3 = threading.Thread(target = print_with_delay,\n",
    "                      args = (3, 'hello with delay 3'))"
   ]
  },
  {
   "cell_type": "markdown",
   "metadata": {},
   "source": [
    "- Start the threads."
   ]
  },
  {
   "cell_type": "code",
   "execution_count": null,
   "metadata": {},
   "outputs": [],
   "source": [
    "t1.start()\n",
    "print('{} started'.format(t1.name))\n",
    "t2.start()\n",
    "print('{} started'.format(t2.name))\n",
    "t3.start()\n",
    "print('{} started'.format(t3.name))\n"
   ]
  },
  {
   "cell_type": "markdown",
   "metadata": {},
   "source": [
    "- Wait for threads to finish."
   ]
  },
  {
   "cell_type": "code",
   "execution_count": null,
   "metadata": {},
   "outputs": [],
   "source": [
    "threading.currentThread().getName()"
   ]
  },
  {
   "cell_type": "code",
   "execution_count": null,
   "metadata": {},
   "outputs": [],
   "source": [
    "print(threading.currentThread().getName())\n",
    "\n",
    "t1.join()\n",
    "print('{} finished'.format(t1.name))\n",
    "t2.join()\n",
    "print('{} finished'.format(t2.name))\n",
    "t3.join()\n",
    "print('{} finished'.format(t3.name))"
   ]
  },
  {
   "cell_type": "code",
   "execution_count": null,
   "metadata": {},
   "outputs": [],
   "source": [
    "t1.name"
   ]
  },
  {
   "cell_type": "markdown",
   "metadata": {},
   "source": [
    "What if our function returned something instead of printing?"
   ]
  },
  {
   "cell_type": "code",
   "execution_count": null,
   "metadata": {},
   "outputs": [],
   "source": [
    "def count_string(string):\n",
    "    return len(string)"
   ]
  },
  {
   "cell_type": "code",
   "execution_count": null,
   "metadata": {},
   "outputs": [],
   "source": [
    "t1 = threading.Thread(target = count_string,\n",
    "                      args = (\"here's a string\",))\n",
    "t2 = threading.Thread(target = count_string,\n",
    "                      args = (\"here's another\",))\n",
    "t3 = threading.Thread(target = count_string,\n",
    "                      args = (\"watch out for a third\",))"
   ]
  },
  {
   "cell_type": "code",
   "execution_count": null,
   "metadata": {},
   "outputs": [],
   "source": [
    "for thread in [t1, t2, t3]:\n",
    "    thread.start()"
   ]
  },
  {
   "cell_type": "code",
   "execution_count": null,
   "metadata": {},
   "outputs": [],
   "source": [
    "for thread in [t1, t2, t3]:\n",
    "    thread.join()"
   ]
  },
  {
   "cell_type": "markdown",
   "metadata": {},
   "source": [
    "Nothing. The output of the functions was `return`ed into the ether. So let's set up some data structure to keep our results in, and the functions should explicitly populate that data structure. "
   ]
  },
  {
   "cell_type": "code",
   "execution_count": null,
   "metadata": {},
   "outputs": [],
   "source": [
    "def count_and_store(string, results_container):\n",
    "    results_container.append(len(string))"
   ]
  },
  {
   "cell_type": "code",
   "execution_count": null,
   "metadata": {},
   "outputs": [],
   "source": [
    "results = []\n",
    "\n",
    "t1 = threading.Thread(target = count_and_store,\n",
    "                      args = (\"here's a string\"*10000, results))\n",
    "t2 = threading.Thread(target = count_and_store,\n",
    "                      args = (\"here's another\"*10000, results))\n",
    "t3 = threading.Thread(target = count_and_store,\n",
    "                      args = (\"watch out for a third\", results))"
   ]
  },
  {
   "cell_type": "code",
   "execution_count": null,
   "metadata": {},
   "outputs": [],
   "source": [
    "results"
   ]
  },
  {
   "cell_type": "code",
   "execution_count": null,
   "metadata": {},
   "outputs": [],
   "source": [
    "for thread in [t1, t2, t3]:\n",
    "    thread.start()"
   ]
  },
  {
   "cell_type": "code",
   "execution_count": null,
   "metadata": {},
   "outputs": [],
   "source": [
    "results"
   ]
  },
  {
   "cell_type": "code",
   "execution_count": null,
   "metadata": {},
   "outputs": [],
   "source": [
    "for thread in [t1, t2, t3]:\n",
    "    thread.join()"
   ]
  },
  {
   "cell_type": "code",
   "execution_count": null,
   "metadata": {},
   "outputs": [],
   "source": [
    "results"
   ]
  },
  {
   "cell_type": "markdown",
   "metadata": {},
   "source": [
    "Instead of populating a list, you may find it safer to have a database and let each function populate the databse."
   ]
  },
  {
   "cell_type": "markdown",
   "metadata": {},
   "source": [
    "### Multi-Processing\n",
    "\n",
    "Let's calculate the word count of strings using multi-processing."
   ]
  },
  {
   "cell_type": "code",
   "execution_count": null,
   "metadata": {},
   "outputs": [],
   "source": [
    "import multiprocessing\n",
    "multiprocessing.cpu_count()"
   ]
  },
  {
   "cell_type": "code",
   "execution_count": null,
   "metadata": {},
   "outputs": [],
   "source": [
    "from multiprocessing import Pool"
   ]
  },
  {
   "cell_type": "markdown",
   "metadata": {},
   "source": [
    "- Define how to count words in a string."
   ]
  },
  {
   "cell_type": "code",
   "execution_count": null,
   "metadata": {},
   "outputs": [],
   "source": [
    "def word_count(string):\n",
    "    return len(string.split())"
   ]
  },
  {
   "cell_type": "markdown",
   "metadata": {},
   "source": [
    "- Define counting words sequentially."
   ]
  },
  {
   "cell_type": "code",
   "execution_count": null,
   "metadata": {},
   "outputs": [],
   "source": [
    "def sequential_word_count(strings):\n",
    "    return sum([word_count(string) for string in strings])"
   ]
  },
  {
   "cell_type": "markdown",
   "metadata": {},
   "source": [
    "- First, here's the multi-threaded (\"concurrent\") version"
   ]
  },
  {
   "cell_type": "code",
   "execution_count": null,
   "metadata": {},
   "outputs": [],
   "source": [
    "# each thread will execute this function, which counts words & appends the\n",
    "# result to the specified list\n",
    "def thread_word_count(string, results_container):\n",
    "    results_container.append(word_count(string))\n",
    "    \n",
    "# this function creates a thread for each string\n",
    "# in strings, then sums the results when they've\n",
    "# all finished executing\n",
    "def concurrent_word_count(strings):\n",
    "    threads = []\n",
    "    thread_results = []\n",
    "    for string in strings:\n",
    "        thread = threading.Thread(\n",
    "            target = thread_word_count,\n",
    "            args = (string, thread_results))\n",
    "        threads.append(thread)\n",
    "        \n",
    "    for thread in threads:\n",
    "        thread.start()\n",
    "        \n",
    "    for thread in threads:\n",
    "        thread.join()\n",
    "        \n",
    "    return sum(thread_results)"
   ]
  },
  {
   "cell_type": "markdown",
   "metadata": {},
   "source": [
    "- Here's the truly parallel (multiprocessing) version"
   ]
  },
  {
   "cell_type": "code",
   "execution_count": null,
   "metadata": {},
   "outputs": [],
   "source": [
    "def parallel_word_count(strings):\n",
    "    pool = Pool(processes = 4)\n",
    "    results = pool.map(word_count, strings)\n",
    "    return sum(results)"
   ]
  },
  {
   "cell_type": "code",
   "execution_count": null,
   "metadata": {},
   "outputs": [],
   "source": [
    "parallel_word_count(['nice hat', \n",
    "                     'for a clown to wear',\n",
    "                     'to the circus. idiot.']*100)"
   ]
  },
  {
   "cell_type": "markdown",
   "metadata": {
    "hidePrompt": false
   },
   "source": [
    "How does this work? What is `pool.map`?"
   ]
  },
  {
   "cell_type": "code",
   "execution_count": null,
   "metadata": {},
   "outputs": [],
   "source": [
    "Pool?"
   ]
  },
  {
   "cell_type": "code",
   "execution_count": null,
   "metadata": {},
   "outputs": [],
   "source": [
    "Pool().map?"
   ]
  },
  {
   "cell_type": "markdown",
   "metadata": {},
   "source": [
    "- Well, perhaps you've seen the built-in function `map`. It takes a function and an iterable, and applies the function to each element of that iterable."
   ]
  },
  {
   "cell_type": "code",
   "execution_count": null,
   "metadata": {},
   "outputs": [],
   "source": [
    "map?"
   ]
  },
  {
   "cell_type": "code",
   "execution_count": null,
   "metadata": {},
   "outputs": [],
   "source": [
    "def dum_fun(x):\n",
    "    return int(x**3.2)"
   ]
  },
  {
   "cell_type": "code",
   "execution_count": null,
   "metadata": {},
   "outputs": [],
   "source": [
    "numbers = range(10)\n",
    "print(list(numbers))"
   ]
  },
  {
   "cell_type": "code",
   "execution_count": null,
   "metadata": {},
   "outputs": [],
   "source": [
    "map(dum_fun, numbers)"
   ]
  },
  {
   "cell_type": "code",
   "execution_count": null,
   "metadata": {},
   "outputs": [],
   "source": [
    "list(map(dum_fun, numbers))"
   ]
  },
  {
   "cell_type": "markdown",
   "metadata": {},
   "source": [
    "`pool.map` works in a similar way: it takes a function and an iterable, and it splits up the job of applying the function to each element across all available processors, to be executed in parallel.\n",
    "\n",
    "Notice that our `word_count` function takes in a string a returns an `int`, and that `pool.map(word_count, strings)` returned a **list** of `int`s: all of the results got collected into one big list."
   ]
  },
  {
   "cell_type": "markdown",
   "metadata": {},
   "source": [
    "### Let's time the three versions above \n",
    "- Create a sample input."
   ]
  },
  {
   "cell_type": "code",
   "execution_count": null,
   "metadata": {},
   "outputs": [],
   "source": [
    "strings = [\n",
    "    'hello world',\n",
    "    'this is another line',\n",
    "    'this is yet another line'] * 100"
   ]
  },
  {
   "cell_type": "markdown",
   "metadata": {},
   "source": [
    "- Time each one"
   ]
  },
  {
   "cell_type": "code",
   "execution_count": null,
   "metadata": {},
   "outputs": [],
   "source": [
    "%time print(sequential_word_count(strings))"
   ]
  },
  {
   "cell_type": "code",
   "execution_count": null,
   "metadata": {},
   "outputs": [],
   "source": [
    "%time print(concurrent_word_count(strings))"
   ]
  },
  {
   "cell_type": "code",
   "execution_count": null,
   "metadata": {},
   "outputs": [],
   "source": [
    "%time print(parallel_word_count(strings))"
   ]
  },
  {
   "cell_type": "markdown",
   "metadata": {},
   "source": [
    "### Pop Quiz\n",
    "\n",
    "<details>\n",
    "<summary>Q: Between sequential, parallel, and concurrent, which one is the fastest? Which one is the slowest? Why?</summary>\n",
    "1. Parallel is the fastest. Sequential is second.  Concurrent is the slowest.\n",
    "<br/>\n",
    "2. Concurrent and parallel have a higher setup overhead. This is not recovered for small problems.\n",
    "<br/>\n",
    "3. Use these only if your processing takes longer than the setup overhead.\n",
    "</details>"
   ]
  },
  {
   "cell_type": "markdown",
   "metadata": {},
   "source": [
    "### Cleaning Up Zombie Python Processes\n",
    "\n",
    "Here is how to kill all the processes that `multiprocessing` will bring up in the background.\n",
    "\n",
    "```sh\n",
    "ps ux | grep ipykernel | grep -v grep | awk '{print $2}' | xargs kill -9\n",
    "```"
   ]
  },
  {
   "cell_type": "code",
   "execution_count": null,
   "metadata": {},
   "outputs": [],
   "source": []
  }
 ],
 "metadata": {
  "kernelspec": {
   "display_name": "Python 3",
   "language": "python",
   "name": "python3"
  },
  "language_info": {
   "codemirror_mode": {
    "name": "ipython",
    "version": 3
   },
   "file_extension": ".py",
   "mimetype": "text/x-python",
   "name": "python",
   "nbconvert_exporter": "python",
   "pygments_lexer": "ipython3",
   "version": "3.7.1"
  }
 },
 "nbformat": 4,
 "nbformat_minor": 2
}
