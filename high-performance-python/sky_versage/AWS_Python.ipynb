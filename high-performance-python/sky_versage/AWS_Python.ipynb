{
 "cells": [
  {
   "cell_type": "markdown",
   "metadata": {},
   "source": [
    "# Highe Performance Python -- AWS and Multi-Processing/Threading"
   ]
  },
  {
   "cell_type": "markdown",
   "metadata": {},
   "source": [
    "AWS Services\n",
    "============\n",
    "\n",
    "AWS Storage + Execution\n",
    "-----------------------\n",
    "\n",
    "What are the primary services that Amazon AWS offers?\n",
    "\n",
    "\n",
    "Name   |Full Name                  |Service\n",
    "----   |---------                  |-------\n",
    "EC2    |Elastic Compute Cloud      |Execution\n",
    "S3     |Simple Storage Service     |Storage\n",
    "EBS    |Elastic Block Store        |Storage attached to EC2 instances\n",
    "\n",
    "Pop Quiz\n",
    "--------\n",
    "\n",
    "<details><summary>\n",
    "Q: I want to store some video files on the web. Which Amazon service\n",
    "should I use?\n",
    "</summary>\n",
    "S3\n",
    "</details>\n",
    "\n",
    "<details><summary>\n",
    "Q: I just created an iPhone app which needs to store user profiles on the\n",
    "web somewhere. Which Amazon service should I use?\n",
    "</summary>\n",
    "S3\n",
    "</details>\n",
    "\n",
    "<details><summary>\n",
    "Q: I want to create a web application in PHP. Which Amazon service\n",
    "should I use?\n",
    "</summary>\n",
    "EC2 + EBS or EC2 + S3\n",
    "</details>\n",
    "\n",
    "\n",
    "\n",
    "S3 vs EBS\n",
    "---------\n",
    "\n",
    "What is the difference between S3 and EBS? Why would I use one versus\n",
    "the other?\n",
    "\n",
    "\n",
    "Feature                |S3                   |EBS\n",
    "-------                |--                   |---\n",
    "Can be accessed from   |Anywhere on the web  |Particular availability zone\n",
    "Can be accessed from   |Any EC2 instance     |EC2 instance attached to it\n",
    "Pricing                |Storage              |Storage + IOPS\n",
    "Price                  |Cheaper              |More Expensive\n",
    "Latency                |Higher               |Lower\n",
    "Throughput             |Varies More          |Varies Less\n",
    "Performance            |Slightly Worse       |Slightly Better\n",
    "Max volume size        |Unlimited            |16 TB\n",
    "Max file size          |5 TB                 |16 TB\n",
    "\n",
    "Pop Quiz\n",
    "--------\n",
    "\n",
    "<details><summary>\n",
    "Q: What is latency?\n",
    "</summary>\n",
    "Latency is the time it takes between making a request and the start of a response.\n",
    "</details>\n",
    "\n",
    "\n",
    "<details><summary>\n",
    "Q: Which is better? Higher latency or lower?\n",
    "</summary>\n",
    "Lower is better.\n",
    "</details>\n",
    "\n",
    "<details><summary>\n",
    "Q: Why is S3 latency higher than EBS?\n",
    "</summary>\n",
    "One reason is that EBS is in the same availability zone.\n",
    "</details>\n",
    "\n",
    "\n",
    "Amazon vs Other Cloud Services\n",
    "------------------------------\n",
    "\n",
    "Why do so many companies use Amazon's Web Services for their backend?\n",
    "\n",
    "- Steve Yegge provides one of the big reasons for AWS's popularity.\n",
    "\n",
    "\n",
    "Steve Yegge and Decoupled Design\n",
    "--------------------------------\n",
    "\n",
    "<img src=\"img/yegge.jpg\">\n",
    "\n",
    "Who is Steve Yegge?\n",
    "\n",
    "- Steve Yegge is a developer from Amazon and Google.\n",
    "\n",
    "- Steve blogged a long [rant][yegge-rant] about Amazon's APIs vs\n",
    "  Google's APIs.\n",
    "\n",
    "[yegge-rant]: https://plus.google.com/+RipRowan/posts/eVeouesvaVX\n",
    "\n",
    "What is the difference between Amazon and Google's APIs?\n",
    "\n",
    "- At Amazon developers have to use Amazon's public APIs to for their\n",
    "  internal dependencies.\n",
    "\n",
    "- At Google developers can use private APIs for dependencies.\n",
    "\n",
    "- The forced dogfooding makes Amazon's APIs more decoupled.\n",
    "\n",
    "---\n",
    "\n",
    "Amazon S3\n",
    "=========\n",
    "\n",
    "Buckets and Files\n",
    "-----------------\n",
    "\n",
    "What is a bucket?\n",
    "\n",
    "- A bucket is a container for files.\n",
    "\n",
    "- Think of a bucket as a logical grouping of files like a sub-domain.\n",
    "\n",
    "- A bucket can contain an arbitrary number of files.\n",
    "\n",
    "How large can a file in a bucket be?\n",
    "\n",
    "- A file in a bucket can be 5 TB.\n",
    "\n",
    "\n",
    "Bucket Names\n",
    "------------\n",
    "\n",
    "What are best practices on naming buckets?\n",
    "\n",
    "Bucket names should be DNS-compliant.\n",
    "\n",
    "- They must be at least 3 and no more than 63 characters long.\n",
    "\n",
    "- They must be a series of one or more labels, separated by a single\n",
    "  period. \n",
    "  \n",
    "- Bucket names can contain lowercase letters, numbers, and hyphens. \n",
    "\n",
    "- Each label must start and end with a lowercase letter or a number.\n",
    "\n",
    "- Bucket names must not be formatted as an IP address (e.g., 192.168.5.4).\n",
    "\n",
    "What are some examples of valid bucket names?\n",
    "\n",
    "- `myawsbucket`\n",
    "\n",
    "- `my.aws.bucket`\n",
    "\n",
    "- `myawsbucket.1`\n",
    "\n",
    "What are some examples of invalid bucket names? \n",
    "\n",
    "- `.myawsbucket`\n",
    "\n",
    "- `myawsbucket.`\n",
    "\n",
    "- `my..examplebucket`\n",
    "\n",
    "Pop Quiz\n",
    "--------\n",
    "\n",
    "<details><summary>\n",
    "Q: Why are these bucket names invalid?\n",
    "</summary>\n",
    "Bucket names cannot start or end with a period. And they cannot have a\n",
    "multiple periods next to each other.\n",
    "</details>\n",
    "\n",
    "\n",
    "Creating Buckets\n",
    "----------------\n",
    "\n",
    "Q: How can I create a bucket?\n",
    "\n",
    "- Get your access key and secret key from the `rootkey.csv` that you\n",
    "  downloaded from Amazon AWS.\n",
    "  \n",
    "- Create a file called `~/.aws/credentials` (on Linux/Mac) or\n",
    "  `%USERPROFILE%\\.aws\\credentials` (on Windows), and insert the\n",
    "  following code into it. Replace `ACCESS_KEY` and `SECRET_KEY` with\n",
    "  the S3 keys you got from Amazon.\n",
    "  \n",
    "```\n",
    "[default]\n",
    "aws_access_key_id = ACCESS_KEY\n",
    "aws_secret_access_key = SECRET_KEY\n",
    "```\n",
    "\n",
    "- Create a connection to S3."
   ]
  },
  {
   "cell_type": "code",
   "execution_count": 2,
   "metadata": {},
   "outputs": [
    {
     "name": "stdout",
     "output_type": "stream",
     "text": [
      "S3Connection:s3.amazonaws.com\n"
     ]
    }
   ],
   "source": [
    "import boto\n",
    "\n",
    "conn = boto.connect_s3()\n",
    "print conn"
   ]
  },
  {
   "cell_type": "markdown",
   "metadata": {},
   "source": [
    "- List all the buckets."
   ]
  },
  {
   "cell_type": "code",
   "execution_count": 6,
   "metadata": {},
   "outputs": [
    {
     "data": {
      "text/plain": [
       "[<Bucket: aritro1>,\n",
       " <Bucket: aws-logs-991777501832-us-west-1>,\n",
       " <Bucket: aws-logs-991777501832-us-west-2>,\n",
       " <Bucket: sversage1>,\n",
       " <Bucket: versage.galvanize>]"
      ]
     },
     "execution_count": 6,
     "metadata": {},
     "output_type": "execute_result"
    }
   ],
   "source": [
    "conn.get_all_buckets()"
   ]
  },
  {
   "cell_type": "markdown",
   "metadata": {},
   "source": [
    "- Create new bucket."
   ]
  },
  {
   "cell_type": "code",
   "execution_count": 9,
   "metadata": {},
   "outputs": [
    {
     "name": "stdout",
     "output_type": "stream",
     "text": [
      "sversage1\n",
      "<Bucket: sversage1>\n"
     ]
    }
   ],
   "source": [
    "import os\n",
    "\n",
    "user = os.environ['USER']\n",
    "bucket_name = user + \"1\"\n",
    "bucket_name = bucket_name.lower()\n",
    "\n",
    "print bucket_name\n",
    "\n",
    "bucket = conn.create_bucket(bucket_name)\n",
    "\n",
    "print bucket\n"
   ]
  },
  {
   "cell_type": "markdown",
   "metadata": {},
   "source": [
    "Upgrading Boto\n",
    "--------------\n",
    "\n",
    "Q: Boto is not able to find the credentials. How can I fix this?\n",
    "\n",
    "- Older versions of Boto were not able to read the credentials file.\n",
    "\n",
    "- You might run into this problem on the EC2 instance.\n",
    "\n",
    "- Here is how to upgrade Boto to the latest version."
   ]
  },
  {
   "cell_type": "code",
   "execution_count": 7,
   "metadata": {},
   "outputs": [
    {
     "name": "stdout",
     "output_type": "stream",
     "text": [
      "Password:\n"
     ]
    }
   ],
   "source": [
    "! sudo pip install --upgrade boto"
   ]
  },
  {
   "cell_type": "markdown",
   "metadata": {},
   "source": [
    "Adding Files\n",
    "------------\n",
    "\n",
    "Q: How can I add a file to a bucket?\n",
    "\n",
    "- List files."
   ]
  },
  {
   "cell_type": "code",
   "execution_count": 10,
   "metadata": {},
   "outputs": [
    {
     "data": {
      "text/plain": [
       "[<Key: sversage1,airline-data-extract.csv>,\n",
       " <Key: sversage1,file.txt>,\n",
       " <Key: sversage1,file2.txt>,\n",
       " <Key: sversage1,scripts/bootstrap-emr.sh>]"
      ]
     },
     "execution_count": 10,
     "metadata": {},
     "output_type": "execute_result"
    }
   ],
   "source": [
    "bucket.get_all_keys()"
   ]
  },
  {
   "cell_type": "markdown",
   "metadata": {},
   "source": [
    "- Add file."
   ]
  },
  {
   "cell_type": "code",
   "execution_count": 11,
   "metadata": {},
   "outputs": [
    {
     "name": "stdout",
     "output_type": "stream",
     "text": [
      "<Key: sversage1,file.txt>\n"
     ]
    },
    {
     "data": {
      "text/plain": [
       "13"
      ]
     },
     "execution_count": 11,
     "metadata": {},
     "output_type": "execute_result"
    }
   ],
   "source": [
    "file_ = bucket.new_key('file.txt')\n",
    "print file_\n",
    "file_.set_contents_from_string('hello world!!')"
   ]
  },
  {
   "cell_type": "markdown",
   "metadata": {},
   "source": [
    "- copy local file over"
   ]
  },
  {
   "cell_type": "code",
   "execution_count": 18,
   "metadata": {},
   "outputs": [],
   "source": [
    "file_ = bucket.new_key('aws_regions.png')\n",
    "file_.set_contents_from_filename('img/aws_regions.png')\n",
    "file_.get_contents_to_filename('aws_regions.png')"
   ]
  },
  {
   "cell_type": "markdown",
   "metadata": {},
   "source": [
    "- List files again. New file should appear."
   ]
  },
  {
   "cell_type": "code",
   "execution_count": 19,
   "metadata": {},
   "outputs": [
    {
     "data": {
      "text/plain": [
       "[<Key: sversage1,airline-data-extract.csv>,\n",
       " <Key: sversage1,aws_regions.png>,\n",
       " <Key: sversage1,file.txt>,\n",
       " <Key: sversage1,file2.txt>,\n",
       " <Key: sversage1,scripts/bootstrap-emr.sh>]"
      ]
     },
     "execution_count": 19,
     "metadata": {},
     "output_type": "execute_result"
    }
   ],
   "source": [
    "bucket.get_all_keys()"
   ]
  },
  {
   "cell_type": "markdown",
   "metadata": {},
   "source": [
    "Q: How can I get a file from a bucket?\n",
    "\n",
    "- Get file. This reads it all at once."
   ]
  },
  {
   "cell_type": "code",
   "execution_count": null,
   "metadata": {
    "collapsed": true
   },
   "outputs": [],
   "source": [
    "f = bucket.get_key('file.txt')\n",
    "print f.get_contents_as_string()\n"
   ]
  },
  {
   "cell_type": "markdown",
   "metadata": {},
   "source": [
    "Creating Buckets With Periods\n",
    "-----------------------------\n",
    "\n",
    "Q: How can I create a bucket in Boto with a period in the name?\n",
    "\n",
    "- There is a bug in Boto that causes `create_bucket` to fail if the\n",
    "  bucket name has a period in it. \n",
    "\n",
    "- Try creating the bucket with a period in its name. This should fail."
   ]
  },
  {
   "cell_type": "code",
   "execution_count": null,
   "metadata": {
    "collapsed": true
   },
   "outputs": [],
   "source": [
    "bucket_name_with_period = bucket_name + \".1.2.3\"\n",
    "bucket_with_period = conn.create_bucket(bucket_name_with_period)\n",
    "print bucket_with_period"
   ]
  },
  {
   "cell_type": "markdown",
   "metadata": {},
   "source": [
    "- To get around this run this code snippet."
   ]
  },
  {
   "cell_type": "code",
   "execution_count": null,
   "metadata": {
    "collapsed": true
   },
   "outputs": [],
   "source": [
    "import ssl\n",
    "if hasattr(ssl, '_create_unverified_context'):\n",
    "   ssl._create_default_https_context = ssl._create_unverified_context"
   ]
  },
  {
   "cell_type": "markdown",
   "metadata": {},
   "source": [
    "- Now try creating the bucket with a period in its name and it should work."
   ]
  },
  {
   "cell_type": "code",
   "execution_count": null,
   "metadata": {
    "collapsed": true
   },
   "outputs": [],
   "source": [
    "bucket_name_with_period = bucket_name + \".1.2.3\"\n",
    "bucket_with_period = conn.create_bucket(bucket_name_with_period)\n",
    "print bucket_with_period"
   ]
  },
  {
   "cell_type": "markdown",
   "metadata": {},
   "source": [
    "- Now lets delete the bucket."
   ]
  },
  {
   "cell_type": "code",
   "execution_count": null,
   "metadata": {
    "collapsed": true
   },
   "outputs": [],
   "source": [
    "bucket_with_period.delete()"
   ]
  },
  {
   "cell_type": "markdown",
   "metadata": {},
   "source": [
    "- For more details see <https://github.com/boto/boto/issues/2836>.\n",
    "\n",
    "\n",
    "Access Control\n",
    "--------------\n",
    "\n",
    "Q: I want to access my S3 file from a web browser without giving my\n",
    "access and secret keys. How can I open up access to the file to\n",
    "anyone?\n",
    "\n",
    "- You can set up Access Control Lists (ACLs) at the level of the\n",
    "  bucket or at the level of the individual objects in the bucket\n",
    "  (folders, files).\n",
    "\n",
    "Q: What are the different ACL policies?\n",
    "\n",
    "ACL Policy           |Meaning\n",
    "----------           |-------\n",
    "`private`            |No one else besides owner has any access rights.\n",
    "`public-read`        |Everyone has read access.\n",
    "`public-read-write`  |Everyone has read/write access.\n",
    "`authenticated-read` |Registered Amazon S3 users have read access.\n",
    "\n",
    "Q: What does `read` and `write` mean for buckets and files?\n",
    "\n",
    "- Read access to a file lets you read the file.\n",
    "\n",
    "- Read access to a bucket or folder lets you see the names of the\n",
    "  files inside it.\n",
    "\n",
    "\n",
    "Pop Quiz\n",
    "--------\n",
    "\n",
    "<details><summary>\n",
    "Q: If a bucket is `private` and a file inside it is `public-read` can\n",
    "I view it through a web browser?\n",
    "</summary>\n",
    "Yes. Access to the file is only determined by its ACL policy.\n",
    "</details>\n",
    "\n",
    "\n",
    "<details><summary>\n",
    "Q: If a bucket is `public-read` and a file inside it is `private` can\n",
    "I view the file through a web browser?\n",
    "</summary>\n",
    "No, you cannot. However, if you access the URL for the bucket you will see the file listed.\n",
    "</details>\n",
    "\n",
    "Applying Access Control\n",
    "-----------------------\n",
    "\n",
    "Q: How can I make a file available on the web so anyone can read it?\n",
    "\n",
    "- Create a file with a specific ACL."
   ]
  },
  {
   "cell_type": "code",
   "execution_count": 13,
   "metadata": {},
   "outputs": [
    {
     "data": {
      "text/plain": [
       "14"
      ]
     },
     "execution_count": 13,
     "metadata": {},
     "output_type": "execute_result"
    }
   ],
   "source": [
    "file2 = bucket.new_key('file2.txt')\n",
    "file2.set_contents_from_string('hello world!!!',policy='private')"
   ]
  },
  {
   "cell_type": "markdown",
   "metadata": {},
   "source": [
    "- Try reading the file."
   ]
  },
  {
   "cell_type": "code",
   "execution_count": 14,
   "metadata": {},
   "outputs": [
    {
     "name": "stdout",
     "output_type": "stream",
     "text": [
      "http://s3.amazonaws.com/sversage1/file2.txt\n",
      "<?xml version=\"1.0\" encoding=\"UTF-8\"?>\n",
      "<Error><Code>AccessDenied</Code><Message>Access Denied</Message><RequestId>BE3202554FB5DF7B</RequestId><HostId>jK1CvY8Pr2ztgACibD6hl+yAl77z+NIBodUVVIdbNhrienAldCB7AIzTH15oN0Ew/sQCIbQzX3o=</HostId></Error>"
     ]
    }
   ],
   "source": [
    "file2_url = 'http://s3.amazonaws.com/' + bucket_name + '/file2.txt'\n",
    "print file2_url\n",
    "!curl $file2_url"
   ]
  },
  {
   "cell_type": "markdown",
   "metadata": {},
   "source": [
    "- Now change its ACL."
   ]
  },
  {
   "cell_type": "code",
   "execution_count": 15,
   "metadata": {},
   "outputs": [
    {
     "name": "stdout",
     "output_type": "stream",
     "text": [
      "hello world!!!"
     ]
    }
   ],
   "source": [
    "file2.set_acl('public-read')\n",
    "!curl $file2_url"
   ]
  },
  {
   "cell_type": "markdown",
   "metadata": {},
   "source": [
    "- Also you can try accessing the file through the browser.\n",
    "\n",
    "- If you do not specify the ACL for a file when you set its contents,\n",
    "  the file is `private` by default.\n",
    "\n",
    "\n",
    "S3 Files to URLs\n",
    "----------------\n",
    "\n",
    "Q: How can I figure out the URL of my S3 file?\n",
    "\n",
    "- As above, you can compose the URL using the bucket and file name. \n",
    "\n",
    "- The general template for the URL is `http://s3.amazonaws.com/BUCKET/FILE`.\n",
    "\n",
    "- You can also find the URL by looking at the file on the AWS web console.\n",
    "\n",
    "\n",
    "Deleting Buckets\n",
    "----------------\n",
    "\n",
    "Q: How can I delete a bucket?\n",
    "\n",
    "- Try deleting a bucket containing files. What happens?"
   ]
  },
  {
   "cell_type": "code",
   "execution_count": null,
   "metadata": {
    "collapsed": true
   },
   "outputs": [],
   "source": [
    "print conn.get_all_buckets()\n",
    "bucket.delete()"
   ]
  },
  {
   "cell_type": "code",
   "execution_count": null,
   "metadata": {
    "collapsed": true
   },
   "outputs": [],
   "source": [
    "bucket.k"
   ]
  },
  {
   "cell_type": "markdown",
   "metadata": {},
   "source": [
    "- To delete the bucket first delete all the files in it."
   ]
  },
  {
   "cell_type": "code",
   "execution_count": null,
   "metadata": {
    "collapsed": true
   },
   "outputs": [],
   "source": [
    "for key in bucket.get_all_keys(): \n",
    "    key.delete()"
   ]
  },
  {
   "cell_type": "markdown",
   "metadata": {},
   "source": [
    "- Then delete the bucket."
   ]
  },
  {
   "cell_type": "code",
   "execution_count": null,
   "metadata": {
    "collapsed": true
   },
   "outputs": [],
   "source": [
    "print conn.get_all_buckets()\n",
    "bucket.delete()\n",
    "print conn.get_all_buckets()"
   ]
  },
  {
   "cell_type": "markdown",
   "metadata": {},
   "source": [
    "---\n",
    "\n",
    "Amazon EC2\n",
    "==========\n",
    "\n",
    "Regions\n",
    "-------\n",
    "\n",
    "Q: What are *AWS Regions*?\n",
    "\n",
    "- AWS is hosted in different geographic locations world-wide. \n",
    "\n",
    "- For example, there are 3 regions in the US.\n",
    "\n",
    "\n",
    "Q: What are the regions in the US\n",
    "\n",
    "Region       |Name       |Location \n",
    "------       |----       |-------- \n",
    "us-east-1    |US East    |N. Virginia\n",
    "us-west-1    |US West    |N. California\n",
    "us-west-2    |US West 2  |Oregon\n",
    "\n",
    "\n",
    "Q: How should I choose a region?\n",
    "\n",
    "- N. Virginia or `us-east-1` is the default region for EC2.\n",
    "\n",
    "- Using a region other than N. Virginia requires additional configuration.\n",
    "\n",
    "- If you are not sure choose N. Virginia.\n",
    "\n",
    "\n",
    "Availability Zones\n",
    "------------------\n",
    "\n",
    "Q: What are *AWS Availability Zones*?\n",
    "\n",
    "- Regions are divided into isolated availability zones for fault\n",
    "  tolerance.\n",
    "\n",
    "- Availability zone run on physically separate hardware and\n",
    "  infrastructure.\n",
    "\n",
    "- They do not share hardware, or generators, or cooling equipment. \n",
    "\n",
    "- Availability zones are assigned automatically to your EC2 instances\n",
    "  based on your user ID.\n",
    "\n",
    "<img src=\"img/aws_regions.png\">\n",
    "\n",
    "\n",
    "\n",
    "<details><summary>\n",
    "Q: Is it possible for two separate users to coordinate and land on the\n",
    "same availability zone?\n",
    "</summary>\n",
    "1. Availability zones are assigned automatically by the system.\n",
    "<br>\n",
    "2. It is not possible for two AWS users to coordinate and be hosted on the same\n",
    "availability zone.\n",
    "</details>\n",
    "\n",
    "----\n",
    "\n",
    "Connecting to EC2\n",
    "-----------------\n",
    "\n",
    "Q: How can I connect to an EC2 instance?\n",
    "\n",
    "- Login to the AWS console.\n",
    "\n",
    "- Navigate: EC2 launch and instance (a free linux instance will do for now) \n",
    "\n",
    "- This should look something like `ec2-52-3-161-43.compute-1.amazonaws.com`.\n",
    "\n",
    "- Use this command to connect to it.\n",
    "\n",
    "- `ssh -X -i ~/.ssh/keypair.pem user@domain`\n",
    "\n",
    "- Here is an example. \n",
    "\n",
    "- `ssh -X -i ~/.ssh/keypair.pem ubuntu@ec2-52-3-161-43.compute-1.amazonaws.com`\n",
    "\n",
    "- Make sure you replace the Public DNS value below with the value you\n",
    "  have for your instance.\n"
   ]
  },
  {
   "cell_type": "markdown",
   "metadata": {},
   "source": [
    "## Install/test Anaconda\n",
    "\n",
    "The first step is to get the link to the most recent version of Anaconda for 64-bit Linux. At the time of writing, that link is https://3230d63b5fc54e62148e-c95ac804525aac4b6dba79b00b39d1d3.ssl.cf1.rackcdn.com/Anaconda2-4.0.0-Linux-x86_64.sh\n",
    "\n",
    "ssh into your ECS instance.\n",
    "\n",
    "Run the following commands (replace commands with the most recent version of Anaconda for 64-bit linux):\n",
    "\n",
    "wget https://3230d63b5fc54e62148e-c95ac804525aac4b6dba79b00b39d1d3.ssl.cf1.rackcdn.com/Anaconda2-4.0.0-Linux-x86_64.sh\n",
    "\n",
    "bash Anaconda2-4.0.0-Linux-x86_64.sh\n",
    "exit\n",
    "\n",
    "Now re-ssh into your EC2 instance.\n",
    "\n",
    "Make sure the python command will launch Anaconda's version of Python. Run the command which python to be sure Anaconda is being used."
   ]
  },
  {
   "cell_type": "markdown",
   "metadata": {},
   "source": [
    "## Copying Files to EC2\n",
    "--------------------\n",
    "\n",
    "Q: How can I copy files to the EC2 instance?\n",
    "\n",
    "### SSH  \n",
    "- To copy a file `myfile.txt` to EC2, use a command like this.\n",
    "\n",
    "- `scp -i ~/.ssh/keypair.pem myfile.txt user@domain:`\n",
    "\n",
    "- To copy a directory `mydir` recursively to EC2, use a command like\n",
    "  this. \n",
    "  \n",
    "- `scp -i ~/.ssh/keypair.pem -r mydir user@domain:`\n",
    "\n",
    "### SFTP\n",
    "\n",
    "While scp works great, it is a very bare-bones command. We can use the sftp command to add more pizzazz. Rather, we'll use programs that user sftp under the hood.\n",
    "\n",
    "First up, Cyberduck. Cyberduck is a great free program that can use sftp to connect to your EC2 instance and let you transfer and edit remote file with ease. See: https://cyberduck.io/\n",
    "\n",
    "Next up, OSX Fuse and SSHFS. Together these two programs can mount your remote EC2 instance's file system as a drive on your Mac. The mounted drive looks and works much like a Flash Drive, allowing you to drag-and-drop and edit remote files like they were local. See: https://osxfuse.github.io/\n",
    "\n",
    "Note: SSHFS requires you use the Terminal to mount your remote file system. To mount your EC2 instance's file system, run\n",
    "\n",
    "sshfs ec2-user@IP_ADDRESS: ec2server -o IdentityFile=~/Desktop/awskey.pem -f\n",
    "Note that the command above will appear to hang--that is normal and it will continue to hang until the remote file system is unmounted.\n",
    "To unmount your remote file system, right click the mounted drive and click \"eject\". That will make the command above terminate.\n",
    "\n",
    "Pop Quiz\n",
    "--------\n",
    "\n",
    "<details><summary>\n",
    "Q: When you copy a file to EC2 with `scp` will this show up in S3?\n",
    "</summary>\n",
    "No. The file will be stored on the disk on the EC2 instance. It will\n",
    "not be in S3.\n",
    "</details>"
   ]
  },
  {
   "cell_type": "markdown",
   "metadata": {},
   "source": [
    "## Connect a local jupyter notebook to your SSH\n",
    "\n",
    "### On your EC2 instance\n",
    "- jupyter notebook --generate-config\n",
    "- mkdir certs\n",
    "- cd certs\n",
    "- sudo openssl req -x509 -nodes -days 365 -newkey rsa:1024 -keyout mycert.pem -out mycert.pem\n",
    "- cd /.jupyter\n",
    "- vim jupyter_notebook_config.py (paste contents below at top\n",
    "\n",
    "```\n",
    "c = get_config()\n",
    "\n",
    "# Notebook config this is where you saved your pem cert\n",
    "c.NotebookApp.certfile = u'/home/ec2-user/certs/mycert.pem' \n",
    "# Run on all IP addresses of your instance\n",
    "c.NotebookApp.ip = '*'\n",
    "# Don't open browser by default\n",
    "c.NotebookApp.open_browser = False  \n",
    "# Fix port to 8888\n",
    "c.NotebookApp.port = 8888\n",
    "# in-line figure when using Matplotlib\n",
    "c.IPKernelApp.pylab = 'inline'\n",
    "```\n",
    "\n",
    "- `jupyter notebook --no-browser` (could use tmux here as well to keep the server going) \n",
    "### LOCALLY \n",
    "- Open a new window and execute `ssh -i YOUR.PEM -L 8000:localhost:8888 ec2-user@YOUR ADDRESS\n",
    "- Open a window locally and navigate to https://localhost:8000/tree"
   ]
  },
  {
   "cell_type": "markdown",
   "metadata": {},
   "source": [
    "High-Performance Python\n",
    "=======================\n",
    "\n",
    "Multi-Processing vs Multi-Threading\n",
    "-----------------------------------\n",
    "\n",
    "Q: What is the difference between *multi-processing* and\n",
    "*multi-threading*?\n",
    "\n",
    "- Multi-threading (also known as concurrency) splits the work between\n",
    "  different threads running on the same processor. \n",
    "  \n",
    "- When one thread is blocked the processor works on the tasks for the\n",
    "  next one.\n",
    "\n",
    "- Multi-processing splits work across processes running on different\n",
    "  processors or even different machines.\n",
    "\n",
    "- Multi-threading works better if you need to exchange data between\n",
    "  the threads. \n",
    "\n",
    "- Multi-processing works better if the different processes can work\n",
    "  heads down without communicating very much.\n",
    "\n",
    "Pop Quiz\n",
    "--------\n",
    "\n",
    "<details><summary>\n",
    "Q: I have to process a very large dataset and run it through a\n",
    "CPU-intensive algorithm. Should I use multi-processing or\n",
    "multi-threading to speed it up?\n",
    "</summary>\n",
    "Multi-processing will produce a result faster. This is because it will\n",
    "be able to split the work across different processors or machines.\n",
    "</details>\n",
    "\n",
    "\n",
    "<details><summary>\n",
    "Q: I have a web scraping application that spends most of its time\n",
    "waiting for web servers to respond. Should I use multi-processing or\n",
    "multi-threading to speed it up?\n",
    "</summary>\n",
    "Multi-threading will produce a bigger payoff. This is because it will\n",
    "ensure that the CPU is fully utilized and does not waste time blocked\n",
    "on input.\n",
    "</details>\n",
    "\n",
    "Analogies\n",
    "---------\n",
    "\n",
    "Multi-Threading  |Multi-Processing\n",
    "-----------      |----------------\n",
    "Laundromat       |Everyone has a washer-dryer\n",
    "Uber or Carpool  |Everyone has a car\n",
    "\n",
    "\n",
    "Multi-Threading\n",
    "---------------\n",
    "\n",
    "Q: How can I write a multi-threaded program that prints `\"hello\"` in\n",
    "different threads?\n",
    "\n",
    "- Define print as a function."
   ]
  },
  {
   "cell_type": "code",
   "execution_count": 69,
   "metadata": {
    "collapsed": true
   },
   "outputs": [],
   "source": [
    "import time\n",
    "import threading\n",
    "import multiprocessing\n",
    "import Queue\n",
    "import random\n",
    "\n",
    "def thread_demo(thread_num, sleep_time=None):\n",
    "    if not sleep_time:\n",
    "        sleep_time = random.randint(3,10)\n",
    "    \n",
    "    time.sleep(sleep_time)\n",
    "    print ('Thread {} done, slept for {}'.format(thread_num, sleep_time))\n",
    "    "
   ]
  },
  {
   "cell_type": "markdown",
   "metadata": {},
   "source": [
    "- Create threads that are going to print."
   ]
  },
  {
   "cell_type": "code",
   "execution_count": 70,
   "metadata": {
    "collapsed": true
   },
   "outputs": [],
   "source": [
    "t1 = threading.Thread(target = thread_demo, args=[1,3])\n",
    "t2 = threading.Thread(target = thread_demo, args=[2,6])\n",
    "t3 = threading.Thread(target = thread_demo, args=[3,6])"
   ]
  },
  {
   "cell_type": "markdown",
   "metadata": {},
   "source": [
    "- Start the threads."
   ]
  },
  {
   "cell_type": "code",
   "execution_count": 71,
   "metadata": {},
   "outputs": [
    {
     "name": "stdout",
     "output_type": "stream",
     "text": [
      "Main thread keeps on trucking\n",
      "Thread 1 done, slept for 3\n",
      "first thread joined back\n",
      "third thread joined back\n",
      "Main thread is back\n",
      "Thread 2 done, slept for 6\n",
      "Thread 3 done, slept for 6\n"
     ]
    }
   ],
   "source": [
    "t1.start()\n",
    "t2.start()\n",
    "t3.start()\n",
    "\n",
    "#Notice how this executes\n",
    "print('Main thread keeps on trucking')\n",
    "\n",
    "t1.join()\n",
    "t2.join()\n",
    "t3.join()\n",
    "\n",
    "#Notice how this waits to execute until all threads are done\n",
    "print('Main thead is running the rest of the script')\n",
    "\n"
   ]
  },
  {
   "cell_type": "markdown",
   "metadata": {},
   "source": [
    "## What's the deal with the join? \n",
    "\n",
    "It tells the main thread to wait for that thread to finish before it proceeds in the code.\n",
    "\n",
    "If you only call join on one thread, then the main thread will only waiy for that thread prior to continuing through the scipt. "
   ]
  },
  {
   "cell_type": "markdown",
   "metadata": {},
   "source": [
    "Multi-Processing\n",
    "----------------\n",
    "\n",
    "Q: Calculate the all the prime number specified by the start value\n",
    "\n",
    "- Import `Pool`"
   ]
  },
  {
   "cell_type": "code",
   "execution_count": 23,
   "metadata": {
    "collapsed": true
   },
   "outputs": [],
   "source": [
    "from multiprocessing import Pool"
   ]
  },
  {
   "cell_type": "markdown",
   "metadata": {},
   "source": [
    "- Define how to count words in a string."
   ]
  },
  {
   "cell_type": "code",
   "execution_count": 44,
   "metadata": {
    "collapsed": true
   },
   "outputs": [],
   "source": [
    "def isprime(n):\n",
    "    for i in range(2,int(n**0.5)+1):\n",
    "        if n%i==0:\n",
    "            return False\n",
    "    return True\n",
    "\n",
    "def prime(nth, q=None):\n",
    "    n_found = 0\n",
    "    i = 0 \n",
    "    while n_found < nth:\n",
    "        i += 1\n",
    "        n_found = n_found + int(isprime(i))\n",
    "    if q:\n",
    "        q.put(i)\n",
    "    return i"
   ]
  },
  {
   "cell_type": "markdown",
   "metadata": {},
   "source": [
    "- Find primes words sequentially."
   ]
  },
  {
   "cell_type": "code",
   "execution_count": 45,
   "metadata": {
    "collapsed": true
   },
   "outputs": [],
   "source": [
    "start = 20000"
   ]
  },
  {
   "cell_type": "code",
   "execution_count": 46,
   "metadata": {},
   "outputs": [
    {
     "name": "stdout",
     "output_type": "stream",
     "text": [
      "(224729, 224737, 224743, 224759)\n",
      "Serial time took 4.74701499939 seconds\n"
     ]
    }
   ],
   "source": [
    "#Serial example\n",
    "t1 = time.time()\n",
    "\n",
    "print(prime(start), prime(start+1), prime(start+2), prime(start+3))\n",
    "print('Serial time took {} seconds'.format(time.time() - t1))"
   ]
  },
  {
   "cell_type": "markdown",
   "metadata": {},
   "source": [
    "- Find primes in parallel."
   ]
  },
  {
   "cell_type": "code",
   "execution_count": 47,
   "metadata": {},
   "outputs": [
    {
     "name": "stdout",
     "output_type": "stream",
     "text": [
      "[224737, 224759, 224743, 224729]\n",
      "Processing time took 2.55824589729 seconds\n"
     ]
    }
   ],
   "source": [
    "#Processing example\n",
    "t3 = time.time()    \n",
    "proc_queue = multiprocessing.Queue()\n",
    "\n",
    "jobs = [multiprocessing.Process(target=prime, args=(start, proc_queue)),\n",
    "        multiprocessing.Process(target=prime, args=(start+1, proc_queue)),\n",
    "        multiprocessing.Process(target=prime, args=(start+2, proc_queue)),\n",
    "        multiprocessing.Process(target=prime, args=(start+3, proc_queue))]\n",
    "\n",
    "for job in jobs:\n",
    "    job.start()\n",
    "    \n",
    "for job in jobs:\n",
    "    job.join()\n",
    "\n",
    "print([proc_queue.get() for job in jobs])\n",
    "    \n",
    "print('Processing time took {} seconds'.format(time.time() - t3))"
   ]
  },
  {
   "cell_type": "code",
   "execution_count": 29,
   "metadata": {},
   "outputs": [
    {
     "name": "stdout",
     "output_type": "stream",
     "text": [
      "[224729, 224737, 224743, 224759]\n",
      "Pool processing time took 2.67378401756 seconds\n"
     ]
    }
   ],
   "source": [
    "#OR using pool \n",
    "\n",
    "t4 = time.time()\n",
    "pool = multiprocessing.Pool(processes=4)\n",
    "result = pool.map(prime, range(start, start+4))\n",
    "print(result)\n",
    "print('Pool processing time took {} seconds'.format(time.time() - t4))"
   ]
  },
  {
   "cell_type": "markdown",
   "metadata": {},
   "source": [
    "- Find primes using `Thread`."
   ]
  },
  {
   "cell_type": "code",
   "execution_count": 48,
   "metadata": {},
   "outputs": [
    {
     "name": "stdout",
     "output_type": "stream",
     "text": [
      "[224743, 224759, 224729, 224737]\n",
      "Threading time took 9.0032119751 seconds\n"
     ]
    }
   ],
   "source": [
    "#Threading example\n",
    "t2 = time.time()\n",
    "thread_queue = Queue.Queue()\n",
    "\n",
    "jobs = [threading.Thread(target=prime, args=(start, thread_queue)),\n",
    "        threading.Thread(target=prime, args=(start+1, thread_queue)),\n",
    "        threading.Thread(target=prime, args=(start+2, thread_queue)),\n",
    "        threading.Thread(target=prime, args=(start+3, thread_queue))]\n",
    "\n",
    "for job in jobs:\n",
    "    job.start()\n",
    "    \n",
    "for job in jobs:\n",
    "    job.join()\n",
    "\n",
    "#Typically we would have other threads/processes on the other end of the queue grabbing the\n",
    "# data and doing something with it etc etc\n",
    "print([thread_queue.get() for job in jobs])\n",
    "    \n",
    "print('Threading time took {} seconds'.format(time.time() - t2))"
   ]
  },
  {
   "cell_type": "markdown",
   "metadata": {},
   "source": [
    "Pop Quiz\n",
    "--------\n",
    "\n",
    "<details><summary>\n",
    "Q: Between sequential, parallel, and concurrent, which one is the\n",
    "fastest? Which one is the slowest? Why?\n",
    "</summary>\n",
    "1. Sequential is the fastest. Concurrent is second. Parallel is the\n",
    "slowest.\n",
    "<br>\n",
    "2. Concurrent and parallel have a higher setup overhead. This is not\n",
    "recovered for small problems.\n",
    "<br>\n",
    "3. Use these only if your processing takes longer than the setup\n",
    "overhead.\n",
    "</details>\n",
    "\n",
    "Cleaning Up Zombie Python Processes\n",
    "-----------------------------------\n",
    "\n",
    "Here is how to kill all the processes that `multiprocessing` will\n",
    "bring up in the background.\n",
    "\n",
    "```sh\n",
    "ps ux | grep IPython.kernel | grep -v grep | awk '{print $2}' | xargs kill -9\n",
    "```"
   ]
  },
  {
   "cell_type": "markdown",
   "metadata": {},
   "source": [
    "### Real world example\n",
    "\n",
    "Was building an application that would make many calls to a database and write the data returned locally. \n",
    "\n",
    "<details><summary>\n",
    "Q: For the calls to the database there was a generator that was providing the queries, what would you use in this scenario?\n",
    "</summary>\n",
    "You would use threads here as they share the same memory space (need to use thread safe iters as a warning to avoid thread lock)\n",
    "</details>\n",
    "\n",
    "<details><summary>\n",
    "Q: For the writing locally we would write to many local databases to package and send those over FTP, what would you use here?\n",
    "</summary>\n",
    "You would want to use multi processing here, you can write the data coming back from the database to a pool and have the processes pick it up from the pool and write to their respective databases/package and send back individually. /\n",
    "</details>"
   ]
  },
  {
   "cell_type": "code",
   "execution_count": null,
   "metadata": {
    "collapsed": true
   },
   "outputs": [],
   "source": []
  },
  {
   "cell_type": "code",
   "execution_count": null,
   "metadata": {
    "collapsed": true
   },
   "outputs": [],
   "source": []
  }
 ],
 "metadata": {
  "kernelspec": {
   "display_name": "Python 2",
   "language": "python",
   "name": "python2"
  },
  "language_info": {
   "codemirror_mode": {
    "name": "ipython",
    "version": 2
   },
   "file_extension": ".py",
   "mimetype": "text/x-python",
   "name": "python",
   "nbconvert_exporter": "python",
   "pygments_lexer": "ipython2",
   "version": "2.7.13"
  }
 },
 "nbformat": 4,
 "nbformat_minor": 1
}
