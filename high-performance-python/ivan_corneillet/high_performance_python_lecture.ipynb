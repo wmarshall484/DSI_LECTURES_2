{
 "cells": [
  {
   "cell_type": "markdown",
   "metadata": {},
   "source": [
    "# High-Performance Python\n",
    "\n",
    "## Objectives\n",
    "\n",
    "- Describe basic components of a computer\n",
    "- Describe basic components of an operating system (OS)\n",
    "- List components of a process\n",
    "- State difference between processes & threads\n",
    "- List issues involved in parallelizing computation"
   ]
  },
  {
   "cell_type": "markdown",
   "metadata": {},
   "source": [
    "## Multi-Processing vs. Multi-Threading\n",
    "\n",
    "Q: What is the difference between *multi-processing* and *multi-threading*?\n",
    "- Multi-threading (also known as concurrency) splits the work between different threads running on the same processor. \n",
    "- When one thread is blocked the processor works on the tasks for the next one.\n",
    "- Multi-processing splits work across processes running on different processors or even different machines.\n",
    "- Multi-threading works better if you need to exchange data between the threads. \n",
    "- Multi-processing works better if the different processes can work heads down without communicating very much."
   ]
  },
  {
   "cell_type": "markdown",
   "metadata": {},
   "source": [
    "### Pop Quiz\n",
    "\n",
    "<details>\n",
    "<summary>Q: I have to process a very large dataset and run it through a CPU-intensive algorithm. Should I use multi-processing or multi-threading to speed it up?</summary>\n",
    "A: Multi-processing will produce a result faster. This is because it will be able to split the work across different processors or machines.\n",
    "</details>\n",
    "\n",
    "<details>\n",
    "<summary>Q: I have a web scraping application that spends most of its time waiting for web servers to respond. Should I use multi-processing or multi-threading to speed it up?\n",
    "</summary>\n",
    "A: Multi-threading will produce a bigger payoff. This is because it will ensure that the CPU is fully utilized and does not waste time blocked on input.\n",
    "</details>"
   ]
  },
  {
   "cell_type": "markdown",
   "metadata": {},
   "source": [
    "### Analogies\n",
    "\n",
    "Multi-Threading | Multi-Processing\n",
    "---|---\n",
    "Laundromat | Everyone has a washer-dryer\n",
    "Uber or Carpool | Everyone has a car"
   ]
  },
  {
   "cell_type": "markdown",
   "metadata": {},
   "source": [
    "## Multi-Threading\n",
    "\n",
    "Q: How can I write a multi-threaded program that prints `\"hello\"` in different threads?"
   ]
  },
  {
   "cell_type": "markdown",
   "metadata": {},
   "source": [
    "- Import `threading`"
   ]
  },
  {
   "cell_type": "code",
   "execution_count": 1,
   "metadata": {
    "collapsed": true
   },
   "outputs": [],
   "source": [
    "import threading"
   ]
  },
  {
   "cell_type": "markdown",
   "metadata": {},
   "source": [
    "- Define print as function."
   ]
  },
  {
   "cell_type": "code",
   "execution_count": 2,
   "metadata": {
    "collapsed": false
   },
   "outputs": [],
   "source": [
    "from time import sleep\n",
    "\n",
    "def print_with_delay(d, x):\n",
    "    sleep(d)\n",
    "    print x"
   ]
  },
  {
   "cell_type": "markdown",
   "metadata": {},
   "source": [
    "- Create threads for printing."
   ]
  },
  {
   "cell_type": "code",
   "execution_count": 3,
   "metadata": {
    "collapsed": false
   },
   "outputs": [],
   "source": [
    "t1 = threading.Thread(target = lambda: print_with_delay(1, 'hello with delay 1'))\n",
    "t2 = threading.Thread(target = lambda: print_with_delay(2, 'hello with delay 2'))\n",
    "t3 = threading.Thread(target = lambda: print_with_delay(3, 'hello with delay 3'))"
   ]
  },
  {
   "cell_type": "markdown",
   "metadata": {},
   "source": [
    "- Start the threads."
   ]
  },
  {
   "cell_type": "code",
   "execution_count": 4,
   "metadata": {
    "collapsed": false
   },
   "outputs": [],
   "source": [
    "t1.start()\n",
    "t2.start()\n",
    "t3.start()"
   ]
  },
  {
   "cell_type": "markdown",
   "metadata": {},
   "source": [
    "- Wait for threads to finish."
   ]
  },
  {
   "cell_type": "code",
   "execution_count": 5,
   "metadata": {
    "collapsed": false
   },
   "outputs": [
    {
     "name": "stdout",
     "output_type": "stream",
     "text": [
      "hello with delay 1\n",
      "hello with delay 2\n",
      "hello with delay 3\n"
     ]
    }
   ],
   "source": [
    "t1.join()\n",
    "t2.join()\n",
    "t3.join()"
   ]
  },
  {
   "cell_type": "markdown",
   "metadata": {},
   "source": [
    "### Multi-Processing\n",
    "\n",
    "Q: Calculate the word count of strings using multi-processing.\n",
    "\n",
    "- Import `Pool`"
   ]
  },
  {
   "cell_type": "code",
   "execution_count": 6,
   "metadata": {
    "collapsed": true
   },
   "outputs": [],
   "source": [
    "from multiprocessing import Pool"
   ]
  },
  {
   "cell_type": "markdown",
   "metadata": {},
   "source": [
    "- Define how to count words in a string."
   ]
  },
  {
   "cell_type": "code",
   "execution_count": 7,
   "metadata": {
    "collapsed": true
   },
   "outputs": [],
   "source": [
    "def word_count(string):\n",
    "    return len(string.split())"
   ]
  },
  {
   "cell_type": "markdown",
   "metadata": {},
   "source": [
    "- Define counting words sequentially."
   ]
  },
  {
   "cell_type": "code",
   "execution_count": 8,
   "metadata": {
    "collapsed": true
   },
   "outputs": [],
   "source": [
    "def sequential_word_count(strings):\n",
    "    return sum([word_count(string) for string in strings])"
   ]
  },
  {
   "cell_type": "markdown",
   "metadata": {},
   "source": [
    "- Define counting words in parallel."
   ]
  },
  {
   "cell_type": "code",
   "execution_count": 9,
   "metadata": {
    "collapsed": true
   },
   "outputs": [],
   "source": [
    "def parallel_word_count(strings):\n",
    "    pool = Pool(processes = 4)\n",
    "    results = pool.map(word_count, strings)\n",
    "    return sum(results)"
   ]
  },
  {
   "cell_type": "code",
   "execution_count": 10,
   "metadata": {
    "collapsed": false
   },
   "outputs": [
    {
     "name": "stdout",
     "output_type": "stream",
     "text": [
      "[0, 1, 2, 3, 4, 5, 6, 7, 8, 9]\n",
      "[0, 1, 4, 9, 16, 25, 36, 49, 64, 81]\n"
     ]
    }
   ],
   "source": [
    "x = range(10)\n",
    "print x\n",
    "print map(lambda x: x ** 2, x)"
   ]
  },
  {
   "cell_type": "markdown",
   "metadata": {},
   "source": [
    "- Create `word_count` version that saves result in thread object."
   ]
  },
  {
   "cell_type": "code",
   "execution_count": 11,
   "metadata": {
    "collapsed": true
   },
   "outputs": [],
   "source": [
    "def thread_word_count(string):\n",
    "    self = threading.current_thread()\n",
    "    self.result = word_count(string)"
   ]
  },
  {
   "cell_type": "markdown",
   "metadata": {},
   "source": [
    "- Define counting words using `Thread`."
   ]
  },
  {
   "cell_type": "code",
   "execution_count": 12,
   "metadata": {
    "collapsed": true
   },
   "outputs": [],
   "source": [
    "def concurrent_word_count(strings):\n",
    "    threads = []\n",
    "    \n",
    "    for string in strings:\n",
    "        thread = threading.Thread(\n",
    "            target = thread_word_count,\n",
    "            args = (string,))\n",
    "        threads.append(thread)\n",
    "        \n",
    "    for thread in threads:\n",
    "        thread.start()\n",
    "        \n",
    "    for thread in threads:\n",
    "        thread.join()\n",
    "        \n",
    "    results = []\n",
    "    for thread in threads: results.append(thread.result)\n",
    "    return sum(results)"
   ]
  },
  {
   "cell_type": "markdown",
   "metadata": {},
   "source": [
    "Q: Time all 3 versions.\n",
    "\n",
    "- Create a sample input."
   ]
  },
  {
   "cell_type": "code",
   "execution_count": 13,
   "metadata": {
    "collapsed": true
   },
   "outputs": [],
   "source": [
    "strings = [\n",
    "    'hello world',\n",
    "    'this is another line',\n",
    "    'this is yet another line'] * 100000"
   ]
  },
  {
   "cell_type": "markdown",
   "metadata": {},
   "source": [
    "- Time each one"
   ]
  },
  {
   "cell_type": "code",
   "execution_count": 14,
   "metadata": {
    "collapsed": false
   },
   "outputs": [
    {
     "name": "stdout",
     "output_type": "stream",
     "text": [
      "1100000\n",
      "CPU times: user 181 ms, sys: 11.3 ms, total: 192 ms\n",
      "Wall time: 197 ms\n"
     ]
    }
   ],
   "source": [
    "%time print sequential_word_count(strings)"
   ]
  },
  {
   "cell_type": "code",
   "execution_count": 15,
   "metadata": {
    "collapsed": false
   },
   "outputs": [
    {
     "name": "stdout",
     "output_type": "stream",
     "text": [
      "1100000\n",
      "CPU times: user 21.9 s, sys: 14.2 s, total: 36.2 s\n",
      "Wall time: 29.1 s\n"
     ]
    }
   ],
   "source": [
    "%time print concurrent_word_count(strings)"
   ]
  },
  {
   "cell_type": "code",
   "execution_count": 16,
   "metadata": {
    "collapsed": false
   },
   "outputs": [
    {
     "name": "stdout",
     "output_type": "stream",
     "text": [
      "1100000\n",
      "CPU times: user 95.8 ms, sys: 25.3 ms, total: 121 ms\n",
      "Wall time: 152 ms\n"
     ]
    }
   ],
   "source": [
    "%time print parallel_word_count(strings)"
   ]
  },
  {
   "cell_type": "markdown",
   "metadata": {},
   "source": [
    "### Pop Quiz\n",
    "\n",
    "<details>\n",
    "<summary>Q: Between sequential, parallel, and concurrent, which one is the fastest? Which one is the slowest? Why?</summary>\n",
    "1. Parallel is the fastest. Sequential is second.  Concurrent is the slowest.\n",
    "<br/>\n",
    "2. Concurrent and parallel have a higher setup overhead. This is not recovered for small problems.\n",
    "<br/>\n",
    "3. Use these only if your processing takes longer than the setup overhead.\n",
    "</details>"
   ]
  },
  {
   "cell_type": "markdown",
   "metadata": {},
   "source": [
    "### Cleaning Up Zombie Python Processes\n",
    "\n",
    "Here is how to kill all the processes that `multiprocessing` will bring up in the background.\n",
    "\n",
    "```sh\n",
    "ps ux | grep ipykernel | grep -v grep | awk '{print $2}' | xargs kill -9\n",
    "```"
   ]
  }
 ],
 "metadata": {
  "kernelspec": {
   "display_name": "Python 2",
   "language": "python",
   "name": "python2"
  },
  "language_info": {
   "codemirror_mode": {
    "name": "ipython",
    "version": 2
   },
   "file_extension": ".py",
   "mimetype": "text/x-python",
   "name": "python",
   "nbconvert_exporter": "python",
   "pygments_lexer": "ipython2",
   "version": "2.7.13"
  }
 },
 "nbformat": 4,
 "nbformat_minor": 0
}
