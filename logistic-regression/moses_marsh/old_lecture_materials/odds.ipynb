{
 "cells": [
  {
   "cell_type": "markdown",
   "metadata": {
    "nbpresent": {
     "id": "23d952a1-8b5d-4a12-a9b9-7494991d8655"
    },
    "slideshow": {
     "slide_type": "-"
    }
   },
   "source": [
    "# Probability & Odds"
   ]
  },
  {
   "cell_type": "markdown",
   "metadata": {
    "nbpresent": {
     "id": "3f5986b8-629d-4a9d-8dfe-221decd9abc5"
    },
    "slideshow": {
     "slide_type": "slide"
    }
   },
   "source": [
    "## Probability:"
   ]
  },
  {
   "cell_type": "markdown",
   "metadata": {
    "nbpresent": {
     "id": "c7ad8f14-54dd-40d9-9c13-3be7ff0ed006"
    },
    "slideshow": {
     "slide_type": "fragment"
    }
   },
   "source": [
    "$p \\in [0,1]$"
   ]
  },
  {
   "cell_type": "markdown",
   "metadata": {
    "nbpresent": {
     "id": "2c2ec551-7d3b-460c-afba-1dc8c4506e1a"
    },
    "slideshow": {
     "slide_type": "fragment"
    }
   },
   "source": [
    " $p \\sim \\frac{\\#successes}{\\#trials}$"
   ]
  },
  {
   "cell_type": "markdown",
   "metadata": {
    "nbpresent": {
     "id": "5a70bc63-286c-4807-bdda-ba4b2565305c"
    },
    "slideshow": {
     "slide_type": "slide"
    }
   },
   "source": [
    "## Odds:"
   ]
  },
  {
   "cell_type": "markdown",
   "metadata": {
    "collapsed": true,
    "nbpresent": {
     "id": "8312f4f8-531e-4c7b-a1d4-90f6273cd7d0"
    },
    "slideshow": {
     "slide_type": "fragment"
    }
   },
   "source": [
    "$d = \\frac{p}{1-p}$ "
   ]
  },
  {
   "cell_type": "markdown",
   "metadata": {
    "nbpresent": {
     "id": "54817a5f-c586-4c99-bd95-1ed5331d3931"
    },
    "slideshow": {
     "slide_type": "fragment"
    }
   },
   "source": [
    "$d \\in [0, \\infty)$"
   ]
  },
  {
   "cell_type": "markdown",
   "metadata": {
    "collapsed": true,
    "nbpresent": {
     "id": "a38c0a35-0eac-4c82-a57a-37286f3a0da0"
    },
    "slideshow": {
     "slide_type": "fragment"
    }
   },
   "source": [
    "$d \\sim \\frac{\\#successes}{\\#failures}$"
   ]
  },
  {
   "cell_type": "markdown",
   "metadata": {
    "collapsed": true,
    "nbpresent": {
     "id": "b6619ea2-6f1e-4cc0-8050-ba27c23d6a11"
    },
    "slideshow": {
     "slide_type": "slide"
    }
   },
   "source": [
    "## Log odds\n",
    "$\\theta = \\ln(d) = \\ln(\\frac{p}{1-p})$"
   ]
  },
  {
   "cell_type": "markdown",
   "metadata": {
    "nbpresent": {
     "id": "4e7f2571-73bb-42ab-9531-3f0c3ebb0757"
    },
    "slideshow": {
     "slide_type": "fragment"
    }
   },
   "source": [
    "$\\theta \\in (-\\infty, \\infty)$"
   ]
  },
  {
   "cell_type": "markdown",
   "metadata": {
    "nbpresent": {
     "id": "305b31e7-2a5f-4db1-8dc1-7a86e8972123"
    },
    "slideshow": {
     "slide_type": "fragment"
    }
   },
   "source": [
    "$\\theta$ is the quantity we estimate with linear regression"
   ]
  },
  {
   "cell_type": "markdown",
   "metadata": {
    "nbpresent": {
     "id": "1a483579-abca-413e-812d-04f1703112f0"
    },
    "slideshow": {
     "slide_type": "slide"
    }
   },
   "source": [
    "$\\theta= \\beta_{0} + \\sum_{i=1}^{n}\\beta_{i}x_{i}$"
   ]
  },
  {
   "cell_type": "markdown",
   "metadata": {
    "nbpresent": {
     "id": "5cab2cfa-8321-4f8b-a8f0-4fd804ee1821"
    },
    "slideshow": {
     "slide_type": "fragment"
    }
   },
   "source": [
    "$\\theta = \\ln(\\frac{p}{1-p})$"
   ]
  },
  {
   "cell_type": "markdown",
   "metadata": {
    "collapsed": true,
    "nbpresent": {
     "id": "d295295d-27a5-452c-8aee-afa952c28e97"
    },
    "slideshow": {
     "slide_type": "fragment"
    }
   },
   "source": [
    "$p = \\frac{1}{1+e^{-\\theta}}$"
   ]
  },
  {
   "cell_type": "markdown",
   "metadata": {
    "nbpresent": {
     "id": "1919a2bb-3a3a-4435-9d57-09cc725337b8"
    },
    "slideshow": {
     "slide_type": "slide"
    }
   },
   "source": [
    "# Interpreting $\\beta_i$"
   ]
  },
  {
   "cell_type": "markdown",
   "metadata": {
    "nbpresent": {
     "id": "54c05981-941f-4712-9e51-ed98094524d6"
    },
    "slideshow": {
     "slide_type": "fragment"
    }
   },
   "source": [
    "#### Let's work in just one dimension, and consider only a one-unit change in $x$"
   ]
  },
  {
   "cell_type": "markdown",
   "metadata": {
    "nbpresent": {
     "id": "b2c8c99c-cee9-4e3f-ba5a-3579c87a9575"
    },
    "slideshow": {
     "slide_type": "fragment"
    }
   },
   "source": [
    "$\\theta(x) =\\beta_0 + \\beta_1x$\n",
    "\n",
    "$\\theta_0 = \\beta_0$\n",
    "\n",
    "$\\theta_1 = \\beta_0 + \\beta_1$"
   ]
  },
  {
   "cell_type": "markdown",
   "metadata": {
    "nbpresent": {
     "id": "526f595a-7759-423a-b5cc-b9e2c6631358"
    },
    "slideshow": {
     "slide_type": "slide"
    }
   },
   "source": [
    "$d_0 = e^{\\theta_0} = e^{\\beta_0}$\n",
    "\n",
    "$d_1 = e^{\\theta_1} = e^{\\beta_0 + \\beta_1}$"
   ]
  },
  {
   "cell_type": "markdown",
   "metadata": {
    "nbpresent": {
     "id": "e94e3912-3d3b-4a9b-a15d-4e64362b35fc"
    },
    "slideshow": {
     "slide_type": "fragment"
    }
   },
   "source": [
    "$\\frac{d_1}{d_0} = e^{\\beta_1}$"
   ]
  },
  {
   "cell_type": "markdown",
   "metadata": {
    "nbpresent": {
     "id": "17699fac-bac1-4513-8205-715c6e2412b9"
    },
    "slideshow": {
     "slide_type": "fragment"
    }
   },
   "source": [
    "#### This is as interpretable as it gets, which is OK! Odds are very intuitive! \"the number of successes over the number of failures\""
   ]
  },
  {
   "cell_type": "markdown",
   "metadata": {
    "nbpresent": {
     "id": "49eeb3f1-40a8-4bcd-ae04-776d695c5ac9"
    },
    "slideshow": {
     "slide_type": "slide"
    }
   },
   "source": [
    "$\\ldots$\n",
    "\n",
    "$p_1 = \\frac{1}{1 + (\\frac{1}{p_0}-1)e^{-\\beta_1}}$"
   ]
  },
  {
   "cell_type": "markdown",
   "metadata": {
    "nbpresent": {
     "id": "5a0af741-6f29-4900-956d-36a7c2b2eba3"
    },
    "slideshow": {
     "slide_type": "fragment"
    }
   },
   "source": [
    "$\\beta_1 \\rightarrow \\infty \\Rightarrow p_1 \\rightarrow 1$\n",
    "\n",
    "$\\beta_1 = 0 \\Rightarrow p_1 = p_0$\n",
    "\n",
    "$\\beta_1 \\rightarrow -\\infty \\Rightarrow p_1 \\rightarrow 0$"
   ]
  }
 ],
 "metadata": {
  "anaconda-cloud": {},
  "celltoolbar": "Slideshow",
  "kernelspec": {
   "display_name": "Python 3",
   "language": "python",
   "name": "python3"
  },
  "language_info": {
   "codemirror_mode": {
    "name": "ipython",
    "version": 3
   },
   "file_extension": ".py",
   "mimetype": "text/x-python",
   "name": "python",
   "nbconvert_exporter": "python",
   "pygments_lexer": "ipython3",
   "version": "3.6.2"
  },
  "nbpresent": {
   "slides": {
    "28f39532-f794-4453-884a-99ff6e71bb10": {
     "id": "28f39532-f794-4453-884a-99ff6e71bb10",
     "prev": "543fe9c9-fa81-44aa-b488-28df21d5d85d",
     "regions": {
      "0869c1a4-0611-449e-8e8b-5a145ab9f2ff": {
       "attrs": {
        "height": 0.4,
        "width": 0.8,
        "x": 0.1,
        "y": 0.5
       },
       "content": {
        "cell": "2c2ec551-7d3b-460c-afba-1dc8c4506e1a",
        "part": "whole"
       },
       "id": "0869c1a4-0611-449e-8e8b-5a145ab9f2ff"
      },
      "62b1a4bc-df4c-4cde-84ca-386607417f7b": {
       "attrs": {
        "height": 0.8,
        "width": 0.8,
        "x": 0.1,
        "y": 0.1
       },
       "content": {
        "cell": "3f5986b8-629d-4a9d-8dfe-221decd9abc5",
        "part": "whole"
       },
       "id": "62b1a4bc-df4c-4cde-84ca-386607417f7b"
      },
      "ab1307e0-3a6c-4022-8be0-0d611e840b52": {
       "attrs": {
        "height": 0.4,
        "width": 0.8,
        "x": 0.1,
        "y": 0.5
       },
       "content": {
        "cell": "c7ad8f14-54dd-40d9-9c13-3be7ff0ed006",
        "part": "whole"
       },
       "id": "ab1307e0-3a6c-4022-8be0-0d611e840b52"
      }
     }
    },
    "3fec3018-9c03-4c31-ba40-6473787c6c64": {
     "id": "3fec3018-9c03-4c31-ba40-6473787c6c64",
     "prev": "28f39532-f794-4453-884a-99ff6e71bb10",
     "regions": {
      "3fab9798-a29d-4ada-8ad3-05d71c83ad2b": {
       "attrs": {
        "height": 0.4,
        "width": 0.8,
        "x": 0.1,
        "y": 0.5
       },
       "content": {
        "cell": "54817a5f-c586-4c99-bd95-1ed5331d3931",
        "part": "whole"
       },
       "id": "3fab9798-a29d-4ada-8ad3-05d71c83ad2b"
      },
      "474eebc0-3a80-4756-9690-5061c79e6c21": {
       "attrs": {
        "height": 0.8,
        "width": 0.8,
        "x": 0.1,
        "y": 0.1
       },
       "content": {
        "cell": "5a70bc63-286c-4807-bdda-ba4b2565305c",
        "part": "whole"
       },
       "id": "474eebc0-3a80-4756-9690-5061c79e6c21"
      },
      "5885d8ac-90ac-4e17-97c6-33af3ba38f0a": {
       "attrs": {
        "height": 0.4,
        "width": 0.8,
        "x": 0.1,
        "y": 0.5
       },
       "content": {
        "cell": "8312f4f8-531e-4c7b-a1d4-90f6273cd7d0",
        "part": "whole"
       },
       "id": "5885d8ac-90ac-4e17-97c6-33af3ba38f0a"
      },
      "dc9f4c55-2ecf-48ed-bb69-317742aa4c60": {
       "attrs": {
        "height": 0.4,
        "width": 0.8,
        "x": 0.1,
        "y": 0.5
       },
       "content": {
        "cell": "a38c0a35-0eac-4c82-a57a-37286f3a0da0",
        "part": "whole"
       },
       "id": "dc9f4c55-2ecf-48ed-bb69-317742aa4c60"
      }
     }
    },
    "444b0fe4-6a82-4cf7-85b0-8f562c02d219": {
     "id": "444b0fe4-6a82-4cf7-85b0-8f562c02d219",
     "prev": "e4d3011c-a2cb-4144-bd8c-cc057e847d6b",
     "regions": {
      "651491a1-12aa-4941-a45a-784c7796b5bd": {
       "attrs": {
        "height": 0.4,
        "width": 0.8,
        "x": 0.1,
        "y": 0.5
       },
       "content": {
        "cell": "54c05981-941f-4712-9e51-ed98094524d6",
        "part": "whole"
       },
       "id": "651491a1-12aa-4941-a45a-784c7796b5bd"
      },
      "cd565ea1-eda5-4ea4-bddc-7be3beb14509": {
       "attrs": {
        "height": 0.4,
        "width": 0.8,
        "x": 0.1,
        "y": 0.5
       },
       "content": {
        "cell": "b2c8c99c-cee9-4e3f-ba5a-3579c87a9575",
        "part": "whole"
       },
       "id": "cd565ea1-eda5-4ea4-bddc-7be3beb14509"
      },
      "f6e8c17a-d2ca-4de6-a325-8f836da12cbb": {
       "attrs": {
        "height": 0.8,
        "width": 0.8,
        "x": 0.1,
        "y": 0.1
       },
       "content": {
        "cell": "1919a2bb-3a3a-4435-9d57-09cc725337b8",
        "part": "whole"
       },
       "id": "f6e8c17a-d2ca-4de6-a325-8f836da12cbb"
      }
     }
    },
    "543fe9c9-fa81-44aa-b488-28df21d5d85d": {
     "id": "543fe9c9-fa81-44aa-b488-28df21d5d85d",
     "prev": null,
     "regions": {
      "ef3f0acd-1e58-429d-8c94-d9e48fb22d3c": {
       "attrs": {
        "height": 0.8,
        "width": 0.8,
        "x": 0.1,
        "y": 0.1
       },
       "content": {
        "cell": "23d952a1-8b5d-4a12-a9b9-7494991d8655",
        "part": "whole"
       },
       "id": "ef3f0acd-1e58-429d-8c94-d9e48fb22d3c"
      }
     }
    },
    "8e341df1-d660-4a4e-a294-4adc324ed3f4": {
     "id": "8e341df1-d660-4a4e-a294-4adc324ed3f4",
     "prev": "3fec3018-9c03-4c31-ba40-6473787c6c64",
     "regions": {
      "514301a0-00ec-4784-8b10-fe7fee2c6829": {
       "attrs": {
        "height": 0.4,
        "width": 0.8,
        "x": 0.1,
        "y": 0.5
       },
       "content": {
        "cell": "305b31e7-2a5f-4db1-8dc1-7a86e8972123",
        "part": "whole"
       },
       "id": "514301a0-00ec-4784-8b10-fe7fee2c6829"
      },
      "e0877687-071a-4b95-a634-6b21c27945e6": {
       "attrs": {
        "height": 0.8,
        "width": 0.8,
        "x": 0.1,
        "y": 0.1
       },
       "content": {
        "cell": "b6619ea2-6f1e-4cc0-8050-ba27c23d6a11",
        "part": "whole"
       },
       "id": "e0877687-071a-4b95-a634-6b21c27945e6"
      },
      "f05a8e50-b87f-414b-a9ac-a48eb0b9385d": {
       "attrs": {
        "height": 0.4,
        "width": 0.8,
        "x": 0.1,
        "y": 0.5
       },
       "content": {
        "cell": "4e7f2571-73bb-42ab-9531-3f0c3ebb0757",
        "part": "whole"
       },
       "id": "f05a8e50-b87f-414b-a9ac-a48eb0b9385d"
      }
     }
    },
    "e4d3011c-a2cb-4144-bd8c-cc057e847d6b": {
     "id": "e4d3011c-a2cb-4144-bd8c-cc057e847d6b",
     "prev": "8e341df1-d660-4a4e-a294-4adc324ed3f4",
     "regions": {
      "37d413d1-c321-4aa8-aed4-41fb9c726e8c": {
       "attrs": {
        "height": 0.4,
        "width": 0.8,
        "x": 0.1,
        "y": 0.5
       },
       "content": {
        "cell": "d295295d-27a5-452c-8aee-afa952c28e97",
        "part": "whole"
       },
       "id": "37d413d1-c321-4aa8-aed4-41fb9c726e8c"
      },
      "be7d9810-72fb-44f6-ad8a-6bf4d1232afb": {
       "attrs": {
        "height": 0.8,
        "width": 0.8,
        "x": 0.1,
        "y": 0.1
       },
       "content": {
        "cell": "1a483579-abca-413e-812d-04f1703112f0",
        "part": "whole"
       },
       "id": "be7d9810-72fb-44f6-ad8a-6bf4d1232afb"
      },
      "ca3a76d7-143e-4a77-a11c-295ad4544ad0": {
       "attrs": {
        "height": 0.4,
        "width": 0.8,
        "x": 0.1,
        "y": 0.5
       },
       "content": {
        "cell": "5cab2cfa-8321-4f8b-a8f0-4fd804ee1821",
        "part": "whole"
       },
       "id": "ca3a76d7-143e-4a77-a11c-295ad4544ad0"
      }
     }
    },
    "f7f96482-57a8-48ae-90a1-8cc83b01612d": {
     "id": "f7f96482-57a8-48ae-90a1-8cc83b01612d",
     "prev": "444b0fe4-6a82-4cf7-85b0-8f562c02d219",
     "regions": {
      "0b573487-76eb-454b-8eac-bb5a1c53e9d8": {
       "attrs": {
        "height": 0.8,
        "width": 0.8,
        "x": 0.1,
        "y": 0.1
       },
       "content": {
        "cell": "526f595a-7759-423a-b5cc-b9e2c6631358",
        "part": "whole"
       },
       "id": "0b573487-76eb-454b-8eac-bb5a1c53e9d8"
      },
      "529f17dc-52aa-40f0-ac42-823e87ab02a6": {
       "attrs": {
        "height": 0.4,
        "width": 0.8,
        "x": 0.1,
        "y": 0.5
       },
       "content": {
        "cell": "e94e3912-3d3b-4a9b-a15d-4e64362b35fc",
        "part": "whole"
       },
       "id": "529f17dc-52aa-40f0-ac42-823e87ab02a6"
      },
      "f9d8d2a2-cc4d-449f-86dc-7c0d1e088472": {
       "attrs": {
        "height": 0.4,
        "width": 0.8,
        "x": 0.1,
        "y": 0.5
       },
       "content": {
        "cell": "17699fac-bac1-4513-8205-715c6e2412b9",
        "part": "whole"
       },
       "id": "f9d8d2a2-cc4d-449f-86dc-7c0d1e088472"
      }
     }
    },
    "ffbc176c-f929-4848-9681-4e35ece5a783": {
     "id": "ffbc176c-f929-4848-9681-4e35ece5a783",
     "prev": "f7f96482-57a8-48ae-90a1-8cc83b01612d",
     "regions": {
      "62a547e4-a435-4a53-908b-674641613a8e": {
       "attrs": {
        "height": 0.4,
        "width": 0.8,
        "x": 0.1,
        "y": 0.5
       },
       "content": {
        "cell": "5a0af741-6f29-4900-956d-36a7c2b2eba3",
        "part": "whole"
       },
       "id": "62a547e4-a435-4a53-908b-674641613a8e"
      },
      "77904e99-d48a-41d4-984c-b56e92a2476f": {
       "attrs": {
        "height": 0.8,
        "width": 0.8,
        "x": 0.1,
        "y": 0.1
       },
       "content": {
        "cell": "49eeb3f1-40a8-4bcd-ae04-776d695c5ac9",
        "part": "whole"
       },
       "id": "77904e99-d48a-41d4-984c-b56e92a2476f"
      }
     }
    }
   },
   "themes": {}
  }
 },
 "nbformat": 4,
 "nbformat_minor": 1
}
