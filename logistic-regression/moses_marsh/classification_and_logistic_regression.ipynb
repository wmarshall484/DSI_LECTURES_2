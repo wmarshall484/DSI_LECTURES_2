{
 "cells": [
  {
   "cell_type": "markdown",
   "metadata": {},
   "source": [
    "# Logistic Regression"
   ]
  },
  {
   "cell_type": "markdown",
   "metadata": {},
   "source": [
    "## Morning\n",
    "- What is classification?\n",
    "- What is Logistic Regression, and how is it used for classification?\n",
    "- What are some evaluation metrics for classification?\n",
    "- How does Logistic Regression produce probabilities?\n",
    "- How are its parameters found?\n",
    "- What do its parameters mean? What is an odds ratio?"
   ]
  },
  {
   "cell_type": "markdown",
   "metadata": {},
   "source": [
    "## Classification: Examples\n",
    "- Identifying spam emails\n",
    "- Predicting if borrowers will default on their loans\n",
    "- Determining whether someone has a disease\n",
    "- Determining if an animal is a dog or a horse (credit: Michael Jancsy)\n",
    "\n",
    "These are all examples of binary classification "
   ]
  },
  {
   "cell_type": "markdown",
   "metadata": {},
   "source": [
    "In regression, the target $y$ is **numerical and unbounded**\n",
    " \n",
    "In classification, the target $y$ is **categorical**: it is a finite set of class labels"
   ]
  },
  {
   "cell_type": "markdown",
   "metadata": {},
   "source": [
    "## Classifier: mathematical description"
   ]
  },
  {
   "cell_type": "markdown",
   "metadata": {},
   "source": [
    "- A classifier model maps between feature space and a finite set of class labels\n",
    "- A binary classifier maps onto {0, 1}\n",
    "- Example: predicting college admission based on academic performance\n",
    "  - Features \n",
    "    - GPA: real number in the range $[0, 4]$\n",
    "    - SAT score: integer in the range $[600, 2400]$\n",
    "  - Target\n",
    "    - Not admitted: $\\{0\\}$\n",
    "    - Admitted: $\\{1\\}$\n",
    "- Our model is some function that takes GPA and SAT scores as input, then outputs either a zero or a one\n",
    "  - $f(\\text{GPA},\\text{SAT}) \\rightarrow \\{0,1\\}$"
   ]
  },
  {
   "cell_type": "markdown",
   "metadata": {},
   "source": [
    "## Let's model class *probabilities*\n",
    "\n",
    "Let's build a model that maps from feature space to the *range* $(0,1)$\n",
    "\n",
    "If your model returns a class probability for each class, it is a *soft classifier*.\n",
    "\n",
    "If your model returns only a membership indicator ($0$ or $1$) for each class, it is a *hard classifier*. \n",
    "\n",
    "\n",
    "To turn a soft classifer into a hard one, pick a ***threshold*** $t$. Any point with predicted probability exceeding $t$ get classified as category $1$, and data with probability less than $t$ gets classified as category $0$."
   ]
  },
  {
   "cell_type": "markdown",
   "metadata": {},
   "source": [
    "## Example: Big dog or small horse?"
   ]
  },
  {
   "cell_type": "code",
   "execution_count": 1,
   "metadata": {},
   "outputs": [],
   "source": [
    "import numpy as np\n",
    "\n",
    "import matplotlib.pyplot as plt\n",
    "from mpl_toolkits.mplot3d import Axes3D\n",
    "\n",
    "plt.style.use('ggplot')\n",
    "\n",
    "%matplotlib inline"
   ]
  },
  {
   "cell_type": "code",
   "execution_count": 2,
   "metadata": {},
   "outputs": [
    {
     "data": {
      "text/plain": [
       "array([[ 78.14341023,  27.87084604,   0.        ],\n",
       "       [ 76.90787624,  24.73832921,   0.        ],\n",
       "       [ 75.36582307,   1.        ,   0.        ],\n",
       "       [ 96.14686403,  33.91701715,   1.        ],\n",
       "       [ 82.96120277,  11.16142564,   0.        ],\n",
       "       [ 76.98896304,  21.84633859,   0.        ],\n",
       "       [ 77.65412867,   8.57029702,   0.        ],\n",
       "       [107.5896922 ,  42.21003842,   1.        ],\n",
       "       [100.81874139,  40.69856946,   1.        ],\n",
       "       [105.13785951,  36.08428611,   1.        ]])"
      ]
     },
     "execution_count": 2,
     "metadata": {},
     "output_type": "execute_result"
    }
   ],
   "source": [
    "# LARGE DOGS AND SMALL HORSES\n",
    "# MAY OR MAY NOT CORRESPOND TO ACTUAL EARTH MAMMAL DIMENSIONS\n",
    "\n",
    "data = np.load('animals.npy')\n",
    "data[:10]"
   ]
  },
  {
   "cell_type": "markdown",
   "metadata": {},
   "source": [
    "Columns: `weight (lbs)`, `height (ins)`, `animal: 0 = dog, 1 = horse`"
   ]
  },
  {
   "cell_type": "code",
   "execution_count": 3,
   "metadata": {},
   "outputs": [
    {
     "data": {
      "text/plain": [
       "array([[ 78.14341023,  27.87084604],\n",
       "       [ 76.90787624,  24.73832921],\n",
       "       [ 75.36582307,   1.        ],\n",
       "       [ 96.14686403,  33.91701715],\n",
       "       [ 82.96120277,  11.16142564],\n",
       "       [ 76.98896304,  21.84633859],\n",
       "       [ 77.65412867,   8.57029702],\n",
       "       [107.5896922 ,  42.21003842],\n",
       "       [100.81874139,  40.69856946],\n",
       "       [105.13785951,  36.08428611]])"
      ]
     },
     "execution_count": 3,
     "metadata": {},
     "output_type": "execute_result"
    }
   ],
   "source": [
    "X = data[:, :2]\n",
    "X[:10]"
   ]
  },
  {
   "cell_type": "code",
   "execution_count": 4,
   "metadata": {},
   "outputs": [
    {
     "data": {
      "text/plain": [
       "array([0., 0., 0., 1., 0., 0., 0., 1., 1., 1.])"
      ]
     },
     "execution_count": 4,
     "metadata": {},
     "output_type": "execute_result"
    }
   ],
   "source": [
    "y = data[:, 2]\n",
    "y[:10]"
   ]
  },
  {
   "cell_type": "code",
   "execution_count": 5,
   "metadata": {},
   "outputs": [
    {
     "data": {
      "text/plain": [
       "array([[78.14341023],\n",
       "       [76.90787624],\n",
       "       [75.36582307],\n",
       "       [96.14686403],\n",
       "       [82.96120277]])"
      ]
     },
     "execution_count": 5,
     "metadata": {},
     "output_type": "execute_result"
    }
   ],
   "source": [
    "x_weights = X[:,:1]\n",
    "x_weights[:5]"
   ]
  },
  {
   "cell_type": "code",
   "execution_count": 6,
   "metadata": {},
   "outputs": [
    {
     "data": {
      "image/png": "[encoded data removed]",
      "text/plain": [
       "<Figure size 432x288 with 1 Axes>"
      ]
     },
     "metadata": {
      "needs_background": "light"
     },
     "output_type": "display_data"
    }
   ],
   "source": [
    "plt.hist(x_weights[y==1], \n",
    "         label='horse', \n",
    "         color='red',\n",
    "         density=True,\n",
    "         alpha=0.6)\n",
    "plt.hist(x_weights[y==0], \n",
    "         label='dog', \n",
    "         color='blue', \n",
    "         density=True,\n",
    "         alpha=0.6)\n",
    "plt.legend()\n",
    "plt.xlabel('weight')\n",
    "plt.ylabel('fraction');"
   ]
  },
  {
   "cell_type": "code",
   "execution_count": 11,
   "metadata": {},
   "outputs": [
    {
     "data": {
      "text/plain": [
       "(200, 1)"
      ]
     },
     "execution_count": 11,
     "metadata": {},
     "output_type": "execute_result"
    }
   ],
   "source": [
    "x_weights.shape"
   ]
  },
  {
   "cell_type": "code",
   "execution_count": 12,
   "metadata": {},
   "outputs": [
    {
     "data": {
      "text/plain": [
       "(200,)"
      ]
     },
     "execution_count": 12,
     "metadata": {},
     "output_type": "execute_result"
    }
   ],
   "source": [
    "y.shape"
   ]
  },
  {
   "cell_type": "code",
   "execution_count": 19,
   "metadata": {},
   "outputs": [
    {
     "data": {
      "image/png": "[encoded data removed]",
      "text/plain": [
       "<Figure size 432x288 with 1 Axes>"
      ]
     },
     "metadata": {
      "needs_background": "light"
     },
     "output_type": "display_data"
    }
   ],
   "source": [
    "plt.scatter(x_weights[y==0], np.zeros(x_weights[y==0].shape), \n",
    "            c='b', label='dog', alpha=0.2)\n",
    "plt.scatter(x_weights[y==1], np.zeros(x_weights[y==1].shape), \n",
    "            c='r', label='horse', alpha=0.2)\n",
    "plt.xlabel('weight')\n",
    "plt.yticks([])\n",
    "plt.legend();"
   ]
  },
  {
   "cell_type": "code",
   "execution_count": 7,
   "metadata": {},
   "outputs": [
    {
     "data": {
      "image/png": "[encoded data removed]",
      "text/plain": [
       "<Figure size 432x288 with 1 Axes>"
      ]
     },
     "metadata": {
      "needs_background": "light"
     },
     "output_type": "display_data"
    }
   ],
   "source": [
    "plt.scatter(x_weights, y, c=y, cmap='bwr', alpha=0.2)\n",
    "plt.xlabel('weight (lb)')\n",
    "plt.title('horse-ness');"
   ]
  },
  {
   "cell_type": "markdown",
   "metadata": {},
   "source": [
    "well fitting a line to this seems dumb.\n",
    "\n",
    "let's do it"
   ]
  },
  {
   "cell_type": "code",
   "execution_count": 8,
   "metadata": {},
   "outputs": [],
   "source": [
    "from sklearn.linear_model import LinearRegression"
   ]
  },
  {
   "cell_type": "code",
   "execution_count": 9,
   "metadata": {},
   "outputs": [
    {
     "data": {
      "text/plain": [
       "LinearRegression(copy_X=True, fit_intercept=True, n_jobs=None,\n",
       "         normalize=False)"
      ]
     },
     "execution_count": 9,
     "metadata": {},
     "output_type": "execute_result"
    }
   ],
   "source": [
    "linear_model = LinearRegression()\n",
    "linear_model.fit(x_weights, y)"
   ]
  },
  {
   "cell_type": "code",
   "execution_count": 10,
   "metadata": {},
   "outputs": [],
   "source": [
    "x_ = np.linspace(x_weights.min(), x_weights.max())\n",
    "slope = linear_model.coef_\n",
    "intercept = linear_model.intercept_"
   ]
  },
  {
   "cell_type": "code",
   "execution_count": 11,
   "metadata": {},
   "outputs": [
    {
     "data": {
      "image/png": "[encoded data removed]",
      "text/plain": [
       "<Figure size 432x288 with 1 Axes>"
      ]
     },
     "metadata": {
      "needs_background": "light"
     },
     "output_type": "display_data"
    }
   ],
   "source": [
    "plt.scatter(x_weights, y, c=y, cmap='bwr', alpha=0.2)\n",
    "plt.xlabel('weight (lb)')\n",
    "plt.title('horse-ness')\n",
    "plt.plot(x_, slope*x_ + intercept, 'k--')\n",
    "plt.ylim([-0.3,1.3]);"
   ]
  },
  {
   "cell_type": "code",
   "execution_count": 12,
   "metadata": {},
   "outputs": [
    {
     "data": {
      "text/plain": [
       "array([1.77401462])"
      ]
     },
     "execution_count": 12,
     "metadata": {},
     "output_type": "execute_result"
    }
   ],
   "source": [
    "linear_model.predict(np.array(140).reshape(1,1))"
   ]
  },
  {
   "cell_type": "code",
   "execution_count": 13,
   "metadata": {},
   "outputs": [
    {
     "data": {
      "text/plain": [
       "array([-1.02146929])"
      ]
     },
     "execution_count": 13,
     "metadata": {},
     "output_type": "execute_result"
    }
   ],
   "source": [
    "linear_model.predict(np.array(30).reshape(1,1))"
   ]
  },
  {
   "cell_type": "markdown",
   "metadata": {},
   "source": [
    "yeah pretty dumb"
   ]
  },
  {
   "cell_type": "markdown",
   "metadata": {},
   "source": [
    "# Logistic Regression: Derivation"
   ]
  },
  {
   "cell_type": "markdown",
   "metadata": {},
   "source": [
    "### Remember linear regression?\n",
    "\n",
    "There we assumed the data follows the form\n",
    "\n",
    "$$\\begin{align}\n",
    "Y & = \\beta_0 + \\beta_1 X_1 + \\beta_2 X_2 + ... \\beta_p X_p + \\epsilon \\\\\n",
    "  & = \\mathbf{X} \\vec{\\beta} + \\epsilon\n",
    "\\end{align}$$\n",
    "\n",
    "where \n",
    "\n",
    "$$\\epsilon \\sim N(0, \\sigma)$$\n",
    "\n",
    "Equivalently, we could write\n",
    "$$Y \\sim N(\\mathbf{X} \\vec{\\beta}, \\sigma)$$\n",
    "\n",
    "From there, we want to find the values for $\\vec{\\beta}$ under which the data is most likely. We can frame this as a maximum likelihood problem:\n",
    "\n",
    "$$ L(\\vec{\\beta}) = f(Y | \\vec{\\beta}, \\mathbf{X}) = \\prod_i f(y_i | \\vec{\\beta}, \\vec{x}_i) $$\n",
    "\n",
    "where $f(y_i | \\vec{\\beta}, \\vec{x}_i)$ here is the probability density function for the normal distribution with mean $\\vec{x}_i \\cdot \\vec{\\beta}$ and variance $\\sigma^2$ evaluated at $y_i$\n",
    "\n",
    "The values of $\\vec{\\beta}$ that maximize the likelihood $L$ above turn out to be the same values that minimize sum of squared errors, \n",
    "$$SSE = \\sum_i (y_i - \\vec{x}_i\\cdot\\vec{\\beta})^2$$\n",
    "\n",
    "See the proof of this [here](https://www.statlect.com/fundamentals-of-statistics/linear-regression-maximum-likelihood#hid5)"
   ]
  },
  {
   "cell_type": "markdown",
   "metadata": {},
   "source": [
    "To recap:\n",
    "\n",
    "Above, we assumed $y \\sim N(\\mu, \\sigma)$, and we assumed $\\mu$ was a function of $\\vec{x}$. Not just any function, but a linear combination of  $\\vec{x}$'s components.\n",
    "$$ \\mu = h(\\vec{x}) =  \\beta_0 + \\beta_1 x_1 + \\beta_2 x_2 + \\cdots $$\n",
    "\n",
    "So..."
   ]
  },
  {
   "cell_type": "markdown",
   "metadata": {},
   "source": [
    "### How can we do the same when $y$ is categorical instead of numerical?"
   ]
  },
  {
   "cell_type": "markdown",
   "metadata": {},
   "source": [
    "Let's stick with binary classification: $y \\in \\{0, 1\\}$"
   ]
  },
  {
   "cell_type": "markdown",
   "metadata": {},
   "source": [
    "#### Two values? Sounds Bernoulli enough for me"
   ]
  },
  {
   "cell_type": "markdown",
   "metadata": {},
   "source": [
    "Let's assume every $y$ is a Bernoulli trial whose probability $p$ depends on $\\vec{x}$\n",
    "\n",
    "$$ y \\sim \\text{Bernoulli}(p) = \\text{Bernoulli}(h(\\vec{x}))$$ \n",
    "\n",
    "Let's make another assumption: this function $h(\\vec{x})$ is a function of a linear combination of $\\vec{x}$'s components:\n",
    "$$ p = h(\\beta_0 + \\beta_1 x_1 + \\beta_2 x_2 + \\cdots) = h(\\vec{\\beta}\\cdot\\vec{x})$$\n",
    "\n",
    "Now we gotta come up with a function. I'll pull this out of a textbook and see how it behaves.\n",
    "\n",
    "$$ h(\\theta) = \\frac{1}{1 + e^{-\\theta}} $$\n",
    "\n",
    "So\n",
    "$$ p(\\vec{x}) = h(\\vec{\\beta}\\cdot\\vec{x}) = \\frac{1}{1 + e^{-(\\vec{\\beta}\\cdot\\vec{x})}} =  \\frac{1}{1 + e^{-(\\beta_0 + \\beta_1 x_1 + \\beta_2 x_2 + \\cdots)}}  $$\n"
   ]
  },
  {
   "cell_type": "markdown",
   "metadata": {},
   "source": [
    "These are the modeling assumptions for logistic regression. "
   ]
  },
  {
   "cell_type": "markdown",
   "metadata": {},
   "source": [
    "### Finding the $\\beta$ coefficients"
   ]
  },
  {
   "cell_type": "markdown",
   "metadata": {},
   "source": [
    "Now we can construct a likelihood function\n",
    "\n",
    "We assume \n",
    "$$y \\sim Bernoulli(h(\\vec{x}\\cdot \\vec{\\beta}))$$\n",
    "\n",
    "For a Bernoulli trial with success probability $p$, the likelihood is\n",
    "$$ P(y|p) = p^y(1-p)^{1-y} $$\n",
    "\n",
    "So for our case, \n",
    "\n",
    "$$L(\\vec{\\beta}) = \\prod_i h(\\vec{\\beta}\\cdot \\vec{x}_i)^{y_i}(1-h(\\vec{\\beta}\\cdot \\vec{x}_i))^{1-y_i}$$\n",
    "\n",
    "Unfortunately, setting the derivative of the likelihood to zero results in a set of nonlinear equations for $\\beta_j$ that has **no analytical solution**. Frowning emoticon.\n",
    "\n",
    "This afternoon we'll show how to numerically maximize the likelihood. For computational convenience, we often use the log likelihood. \n",
    "\n",
    "$$\\log L(\\vec{\\beta}) = \\sum_i \\left(\\, y_i\\,\\text{log}(h(\\vec{\\beta}\\cdot \\vec{x}_i)) + (1 - y_i)\\log(1 - h(\\vec{\\beta}\\cdot \\vec{x}_i))\\, \\right)$$\n",
    "\n",
    "Also, since in general we talk about minimizing a cost function, let's call the cost function $J$ for logistic regression the *negative log likelihood*\n",
    "$$ J(\\vec{\\beta}) = -\\log L(\\vec{\\beta}) $$"
   ]
  },
  {
   "cell_type": "markdown",
   "metadata": {},
   "source": [
    "For now, take it for granted that we can call `.fit()` and get out the values of the $\\beta$ parameters that maximize the likelihood (and so minimize $J$)"
   ]
  },
  {
   "cell_type": "markdown",
   "metadata": {},
   "source": [
    "#### Logistic regression with one variable (weight)"
   ]
  },
  {
   "cell_type": "code",
   "execution_count": 14,
   "metadata": {},
   "outputs": [
    {
     "data": {
      "image/png": "[encoded data removed]",
      "text/plain": [
       "<Figure size 432x288 with 1 Axes>"
      ]
     },
     "metadata": {
      "needs_background": "light"
     },
     "output_type": "display_data"
    }
   ],
   "source": [
    "plt.scatter(x_weights, y, c=y, cmap='bwr', alpha=0.2)\n",
    "plt.xlabel('weight (lb)')\n",
    "plt.title('horse-ness');"
   ]
  },
  {
   "cell_type": "markdown",
   "metadata": {},
   "source": [
    "Model the probability with the following formula:\n",
    "\n",
    "$$ P(\\text{horse}\\,|\\,x) = p(x) = \\frac{1}{1 + e^{-(\\beta_0 + \\beta_1 x)}}$$"
   ]
  },
  {
   "cell_type": "markdown",
   "metadata": {},
   "source": [
    "##### statsmodels syntax"
   ]
  },
  {
   "cell_type": "code",
   "execution_count": 15,
   "metadata": {},
   "outputs": [
    {
     "name": "stdout",
     "output_type": "stream",
     "text": [
      "Optimization terminated successfully.\n",
      "         Current function value: 0.292122\n",
      "         Iterations 8\n"
     ]
    },
    {
     "data": {
      "text/html": [
       "<table class=\"simpletable\">\n",
       "<caption>Logit Regression Results</caption>\n",
       "<tr>\n",
       "  <th>Dep. Variable:</th>         <td>y</td>        <th>  No. Observations:  </th>  <td>   200</td>  \n",
       "</tr>\n",
       "<tr>\n",
       "  <th>Model:</th>               <td>Logit</td>      <th>  Df Residuals:      </th>  <td>   198</td>  \n",
       "</tr>\n",
       "<tr>\n",
       "  <th>Method:</th>               <td>MLE</td>       <th>  Df Model:          </th>  <td>     1</td>  \n",
       "</tr>\n",
       "<tr>\n",
       "  <th>Date:</th>          <td>Mon, 11 Feb 2019</td> <th>  Pseudo R-squ.:     </th>  <td>0.5786</td>  \n",
       "</tr>\n",
       "<tr>\n",
       "  <th>Time:</th>              <td>11:01:48</td>     <th>  Log-Likelihood:    </th> <td> -58.424</td> \n",
       "</tr>\n",
       "<tr>\n",
       "  <th>converged:</th>           <td>True</td>       <th>  LL-Null:           </th> <td> -138.63</td> \n",
       "</tr>\n",
       "<tr>\n",
       "  <th> </th>                      <td> </td>        <th>  LLR p-value:       </th> <td>9.206e-37</td>\n",
       "</tr>\n",
       "</table>\n",
       "<table class=\"simpletable\">\n",
       "<tr>\n",
       "    <td></td>       <th>coef</th>     <th>std err</th>      <th>z</th>      <th>P>|z|</th>  <th>[0.025</th>    <th>0.975]</th>  \n",
       "</tr>\n",
       "<tr>\n",
       "  <th>const</th> <td>  -22.0656</td> <td>    3.110</td> <td>   -7.094</td> <td> 0.000</td> <td>  -28.162</td> <td>  -15.969</td>\n",
       "</tr>\n",
       "<tr>\n",
       "  <th>x1</th>    <td>    0.2470</td> <td>    0.035</td> <td>    7.089</td> <td> 0.000</td> <td>    0.179</td> <td>    0.315</td>\n",
       "</tr>\n",
       "</table>"
      ],
      "text/plain": [
       "<class 'statsmodels.iolib.summary.Summary'>\n",
       "\"\"\"\n",
       "                           Logit Regression Results                           \n",
       "==============================================================================\n",
       "Dep. Variable:                      y   No. Observations:                  200\n",
       "Model:                          Logit   Df Residuals:                      198\n",
       "Method:                           MLE   Df Model:                            1\n",
       "Date:                Mon, 11 Feb 2019   Pseudo R-squ.:                  0.5786\n",
       "Time:                        11:01:48   Log-Likelihood:                -58.424\n",
       "converged:                       True   LL-Null:                       -138.63\n",
       "                                        LLR p-value:                 9.206e-37\n",
       "==============================================================================\n",
       "                 coef    std err          z      P>|z|      [0.025      0.975]\n",
       "------------------------------------------------------------------------------\n",
       "const        -22.0656      3.110     -7.094      0.000     -28.162     -15.969\n",
       "x1             0.2470      0.035      7.089      0.000       0.179       0.315\n",
       "==============================================================================\n",
       "\"\"\""
      ]
     },
     "execution_count": 15,
     "metadata": {},
     "output_type": "execute_result"
    }
   ],
   "source": [
    "import statsmodels.api as sm\n",
    "logsm = sm.Logit(y, sm.add_constant(x_weights))\n",
    "logsm_results = logsm.fit()\n",
    "logsm_results.summary()"
   ]
  },
  {
   "cell_type": "code",
   "execution_count": 16,
   "metadata": {},
   "outputs": [
    {
     "data": {
      "text/plain": [
       "array([6.03706778e-05, 9.50276149e-05, 1.49577051e-04, 2.35432547e-04,\n",
       "       3.70549842e-04, 5.83167187e-04, 9.17669986e-04, 1.44376532e-03,\n",
       "       2.27078282e-03, 3.56983878e-03])"
      ]
     },
     "execution_count": 16,
     "metadata": {},
     "output_type": "execute_result"
    }
   ],
   "source": [
    "xx = np.linspace(50,140).reshape(-1,1)\n",
    "pred_prob = logsm_results.predict(sm.add_constant(xx))\n",
    "pred_prob[:10]"
   ]
  },
  {
   "cell_type": "code",
   "execution_count": 17,
   "metadata": {},
   "outputs": [
    {
     "data": {
      "image/png": "[encoded data removed]",
      "text/plain": [
       "<Figure size 432x288 with 1 Axes>"
      ]
     },
     "metadata": {
      "needs_background": "light"
     },
     "output_type": "display_data"
    }
   ],
   "source": [
    "plt.scatter(x_weights, y, c=y, cmap='bwr')\n",
    "plt.plot(xx, pred_prob, \"k--\")\n",
    "plt.xlabel('weight (lb)')\n",
    "plt.title('horse probability');"
   ]
  },
  {
   "cell_type": "markdown",
   "metadata": {},
   "source": [
    "##### sklearn syntax"
   ]
  },
  {
   "cell_type": "code",
   "execution_count": 18,
   "metadata": {},
   "outputs": [
    {
     "name": "stderr",
     "output_type": "stream",
     "text": [
      "/home/moses/anaconda3/lib/python3.7/site-packages/sklearn/linear_model/logistic.py:433: FutureWarning: Default solver will be changed to 'lbfgs' in 0.22. Specify a solver to silence this warning.\n",
      "  FutureWarning)\n"
     ]
    },
    {
     "data": {
      "text/plain": [
       "LogisticRegression(C=1.0, class_weight=None, dual=False, fit_intercept=True,\n",
       "          intercept_scaling=1, max_iter=100, multi_class='warn',\n",
       "          n_jobs=None, penalty='l2', random_state=None, solver='warn',\n",
       "          tol=0.0001, verbose=0, warm_start=False)"
      ]
     },
     "execution_count": 18,
     "metadata": {},
     "output_type": "execute_result"
    }
   ],
   "source": [
    "from sklearn.linear_model import LogisticRegression\n",
    "\n",
    "log_model = LogisticRegression()\n",
    "log_model.fit(x_weights, y)"
   ]
  },
  {
   "cell_type": "code",
   "execution_count": 19,
   "metadata": {},
   "outputs": [
    {
     "data": {
      "text/plain": [
       "array([[0.06424881]])"
      ]
     },
     "execution_count": 19,
     "metadata": {},
     "output_type": "execute_result"
    }
   ],
   "source": [
    "log_model.coef_"
   ]
  },
  {
   "cell_type": "code",
   "execution_count": 20,
   "metadata": {},
   "outputs": [
    {
     "data": {
      "text/plain": [
       "array([-5.6306737])"
      ]
     },
     "execution_count": 20,
     "metadata": {},
     "output_type": "execute_result"
    }
   ],
   "source": [
    "log_model.intercept_"
   ]
  },
  {
   "cell_type": "markdown",
   "metadata": {},
   "source": [
    "Note that `sklearn`'s `predict_proba()` method returns the predicted probabilities for each class ($0$ and $1$)."
   ]
  },
  {
   "cell_type": "code",
   "execution_count": 21,
   "metadata": {},
   "outputs": [
    {
     "data": {
      "text/plain": [
       "array([[0.91820717, 0.08179283],\n",
       "       [0.90889571, 0.09110429],\n",
       "       [0.89864123, 0.10135877],\n",
       "       [0.88737555, 0.11262445],\n",
       "       [0.87503185, 0.12496815],\n",
       "       [0.86154637, 0.13845363],\n",
       "       [0.84686033, 0.15313967],\n",
       "       [0.83092222, 0.16907778],\n",
       "       [0.81369028, 0.18630972],\n",
       "       [0.79513511, 0.20486489]])"
      ]
     },
     "execution_count": 21,
     "metadata": {},
     "output_type": "execute_result"
    }
   ],
   "source": [
    "xx = np.linspace(50,140).reshape(-1,1)\n",
    "pred_prob_sk = log_model.predict_proba(xx)\n",
    "pred_prob_sk[:10]"
   ]
  },
  {
   "cell_type": "code",
   "execution_count": 22,
   "metadata": {},
   "outputs": [],
   "source": [
    "pred_prob_sk_horse = pred_prob_sk[:,1]"
   ]
  },
  {
   "cell_type": "code",
   "execution_count": 23,
   "metadata": {},
   "outputs": [
    {
     "data": {
      "text/plain": [
       "array([0.08179283, 0.09110429, 0.10135877, 0.11262445, 0.12496815,\n",
       "       0.13845363, 0.15313967, 0.16907778, 0.18630972, 0.20486489])"
      ]
     },
     "execution_count": 23,
     "metadata": {},
     "output_type": "execute_result"
    }
   ],
   "source": [
    "pred_prob_sk_horse[:10]"
   ]
  },
  {
   "cell_type": "code",
   "execution_count": 24,
   "metadata": {},
   "outputs": [
    {
     "data": {
      "image/png": "[encoded data removed]",
      "text/plain": [
       "<Figure size 432x288 with 1 Axes>"
      ]
     },
     "metadata": {
      "needs_background": "light"
     },
     "output_type": "display_data"
    }
   ],
   "source": [
    "plt.scatter(x_weights, y, c=y, cmap='bwr')\n",
    "plt.plot(xx, pred_prob_sk_horse, \"k--\")\n",
    "plt.xlabel('weight (lb)')\n",
    "plt.title('horse probability');"
   ]
  },
  {
   "cell_type": "markdown",
   "metadata": {},
   "source": [
    "Why is this curve so different? It turns out that the `sklearn` implementation of logistic regression is **regularized by default**. That is, its cost function is\n",
    "$$J(\\vec{\\beta}) = (-\\log L(\\vec{\\beta})) + \\lambda |\\vec{\\beta}|^2 $$"
   ]
  },
  {
   "cell_type": "markdown",
   "metadata": {},
   "source": [
    "`sklearn`'s `LogisticRegression` controls regularization with the parameter `C`, where `C = 1/lambda`. The default value of `C` is 1. To relax the regularization constraint, make `C` higher."
   ]
  },
  {
   "cell_type": "code",
   "execution_count": 25,
   "metadata": {},
   "outputs": [
    {
     "name": "stderr",
     "output_type": "stream",
     "text": [
      "/home/moses/anaconda3/lib/python3.7/site-packages/sklearn/linear_model/logistic.py:433: FutureWarning: Default solver will be changed to 'lbfgs' in 0.22. Specify a solver to silence this warning.\n",
      "  FutureWarning)\n"
     ]
    },
    {
     "data": {
      "text/plain": [
       "LogisticRegression(C=1000, class_weight=None, dual=False, fit_intercept=True,\n",
       "          intercept_scaling=1, max_iter=100, multi_class='warn',\n",
       "          n_jobs=None, penalty='l2', random_state=None, solver='warn',\n",
       "          tol=0.0001, verbose=0, warm_start=False)"
      ]
     },
     "execution_count": 25,
     "metadata": {},
     "output_type": "execute_result"
    }
   ],
   "source": [
    "log_model_unreg = LogisticRegression(C=1000)\n",
    "log_model_unreg.fit(x_weights, y)"
   ]
  },
  {
   "cell_type": "code",
   "execution_count": 26,
   "metadata": {},
   "outputs": [
    {
     "data": {
      "text/plain": [
       "(array([-21.76263018]), array([[0.24362914]]))"
      ]
     },
     "execution_count": 26,
     "metadata": {},
     "output_type": "execute_result"
    }
   ],
   "source": [
    "log_model_unreg.intercept_, log_model_unreg.coef_"
   ]
  },
  {
   "cell_type": "code",
   "execution_count": 27,
   "metadata": {},
   "outputs": [],
   "source": [
    "xx = np.linspace(50,140).reshape(-1,1)\n",
    "pred_prob_sk_unreg = log_model_unreg.predict_proba(xx)[:,1]"
   ]
  },
  {
   "cell_type": "code",
   "execution_count": 28,
   "metadata": {},
   "outputs": [
    {
     "data": {
      "image/png": "[encoded data removed]",
      "text/plain": [
       "<Figure size 432x288 with 1 Axes>"
      ]
     },
     "metadata": {
      "needs_background": "light"
     },
     "output_type": "display_data"
    }
   ],
   "source": [
    "plt.scatter(x_weights, y, c=y, cmap='bwr')\n",
    "plt.plot(xx, pred_prob_sk_unreg, \"k--\")\n",
    "plt.xlabel('weight (lb)')\n",
    "plt.title('horse probability');"
   ]
  },
  {
   "cell_type": "markdown",
   "metadata": {},
   "source": [
    "### How do you score a soft classifier?"
   ]
  },
  {
   "cell_type": "markdown",
   "metadata": {},
   "source": [
    "**[log loss](http://scikit-learn.org/stable/modules/generated/sklearn.metrics.log_loss.html)** is simply the negative log likelihood defined above"
   ]
  },
  {
   "cell_type": "code",
   "execution_count": 29,
   "metadata": {},
   "outputs": [],
   "source": [
    "from sklearn.metrics import log_loss"
   ]
  },
  {
   "cell_type": "markdown",
   "metadata": {},
   "source": [
    "To get the total log loss, specify `normalize=False`, otherwise you will get the average log loss per sample."
   ]
  },
  {
   "cell_type": "code",
   "execution_count": 30,
   "metadata": {},
   "outputs": [],
   "source": [
    "train_pred_probs = log_model_unreg.predict_proba(x_weights)"
   ]
  },
  {
   "cell_type": "code",
   "execution_count": 31,
   "metadata": {},
   "outputs": [
    {
     "data": {
      "text/plain": [
       "58.429254087786745"
      ]
     },
     "execution_count": 31,
     "metadata": {},
     "output_type": "execute_result"
    }
   ],
   "source": [
    "log_loss(y, train_pred_probs, normalize=False)"
   ]
  },
  {
   "cell_type": "code",
   "execution_count": 32,
   "metadata": {},
   "outputs": [
    {
     "data": {
      "text/plain": [
       "0.2921462704389337"
      ]
     },
     "execution_count": 32,
     "metadata": {},
     "output_type": "execute_result"
    }
   ],
   "source": [
    "log_loss(y, train_pred_probs)"
   ]
  },
  {
   "cell_type": "markdown",
   "metadata": {},
   "source": [
    "Sanity check: the results from the statsmodels implementation should be the same"
   ]
  },
  {
   "cell_type": "code",
   "execution_count": 33,
   "metadata": {},
   "outputs": [
    {
     "data": {
      "text/plain": [
       "0.29212228030806175"
      ]
     },
     "execution_count": 33,
     "metadata": {},
     "output_type": "execute_result"
    }
   ],
   "source": [
    "log_loss(y, logsm_results.predict(sm.add_constant(x_weights)))"
   ]
  },
  {
   "cell_type": "markdown",
   "metadata": {},
   "source": [
    "Log loss also generalizes to multiple classes, see the [sklearn user guide](http://scikit-learn.org/stable/modules/model_evaluation.html#log-loss)"
   ]
  },
  {
   "cell_type": "markdown",
   "metadata": {},
   "source": [
    "### Logistic regression with two features"
   ]
  },
  {
   "cell_type": "code",
   "execution_count": 34,
   "metadata": {},
   "outputs": [
    {
     "data": {
      "image/png": "[encoded data removed]",
      "text/plain": [
       "<Figure size 1080x432 with 2 Axes>"
      ]
     },
     "metadata": {
      "needs_background": "light"
     },
     "output_type": "display_data"
    }
   ],
   "source": [
    "fig, axes = plt.subplots(1,2, figsize=(15,6))\n",
    "\n",
    "axes[0].scatter(X[:,0], y, c=y, cmap='bwr', edgecolor='')\n",
    "axes[0].set_xlabel('Weight (lb)')\n",
    "axes[0].set_ylabel('Horse')\n",
    "axes[0].set_title('Horseness vs. weight')\n",
    "axes[1].scatter(X[:,1], y, c=y, cmap='bwr', edgecolor='')\n",
    "axes[1].set_xlabel('Height (in)')\n",
    "axes[1].set_ylabel('Horse')\n",
    "axes[1].set_title('Horseness vs. height');"
   ]
  },
  {
   "cell_type": "code",
   "execution_count": 35,
   "metadata": {},
   "outputs": [],
   "source": [
    "X_dogs = X[y == 0]\n",
    "X_horses = X[y == 1]\n",
    "y_dogs = y[ y== 0]\n",
    "y_horses = y[ y== 1]"
   ]
  },
  {
   "cell_type": "code",
   "execution_count": 36,
   "metadata": {},
   "outputs": [
    {
     "data": {
      "image/png": "[encoded data removed]",
      "text/plain": [
       "<Figure size 576x432 with 1 Axes>"
      ]
     },
     "metadata": {
      "needs_background": "light"
     },
     "output_type": "display_data"
    }
   ],
   "source": [
    "plt.figure(figsize=(8,6))\n",
    "plt.scatter(X_dogs[:,0], X_dogs[:,1], color='b', label='dogs')\n",
    "plt.scatter(X_horses[:,0], X_horses[:,1], color='r', label='horses')\n",
    "plt.legend()\n",
    "plt.xlabel('Weight (lb)')\n",
    "plt.ylabel('Height (in)')\n",
    "plt.title('Horse or dog?')\n",
    "plt.show()"
   ]
  },
  {
   "cell_type": "code",
   "execution_count": 37,
   "metadata": {},
   "outputs": [
    {
     "data": {
      "image/png": "[encoded data removed]",
      "text/plain": [
       "<Figure size 432x288 with 1 Axes>"
      ]
     },
     "metadata": {
      "needs_background": "light"
     },
     "output_type": "display_data"
    }
   ],
   "source": [
    "fig = plt.figure()\n",
    "ax = fig.add_subplot(111, projection='3d')\n",
    "ax.scatter(X[:,0], X[:,1], y, c=y, cmap='bwr')\n",
    "ax.set_xlabel('Weight (lb)')\n",
    "ax.set_ylabel('Height (in)')\n",
    "ax.set_zlabel('Horseness')\n",
    "plt.tight_layout()\n",
    "plt.show()"
   ]
  },
  {
   "cell_type": "markdown",
   "metadata": {},
   "source": [
    "### what does this function $p(\\text{weight}, \\text{height})$ look like?"
   ]
  },
  {
   "cell_type": "code",
   "execution_count": 38,
   "metadata": {},
   "outputs": [
    {
     "name": "stderr",
     "output_type": "stream",
     "text": [
      "/home/moses/anaconda3/lib/python3.7/site-packages/sklearn/linear_model/logistic.py:433: FutureWarning: Default solver will be changed to 'lbfgs' in 0.22. Specify a solver to silence this warning.\n",
      "  FutureWarning)\n"
     ]
    },
    {
     "data": {
      "text/plain": [
       "LogisticRegression(C=1000, class_weight=None, dual=False, fit_intercept=True,\n",
       "          intercept_scaling=1, max_iter=100, multi_class='warn',\n",
       "          n_jobs=None, penalty='l2', random_state=None, solver='warn',\n",
       "          tol=0.0001, verbose=0, warm_start=False)"
      ]
     },
     "execution_count": 38,
     "metadata": {},
     "output_type": "execute_result"
    }
   ],
   "source": [
    "log_model = LogisticRegression(C=1000)\n",
    "log_model.fit(X,y)"
   ]
  },
  {
   "cell_type": "code",
   "execution_count": 39,
   "metadata": {},
   "outputs": [],
   "source": [
    "x_ = np.linspace(40, 160, 100)\n",
    "log_model.coef_[0]\n",
    "discriminator_line = -(log_model.intercept_ + log_model.coef_[0][0]*x_)/log_model.coef_[0][1]"
   ]
  },
  {
   "cell_type": "code",
   "execution_count": 50,
   "metadata": {},
   "outputs": [],
   "source": [
    "# to get interactive plot widgets, follow the installation\n",
    "# instructions here: https://github.com/matplotlib/jupyter-matplotlib\n",
    "\n",
    "%matplotlib widget"
   ]
  },
  {
   "cell_type": "code",
   "execution_count": 43,
   "metadata": {},
   "outputs": [
    {
     "data": {
      "application/vnd.jupyter.widget-view+json": {
       "model_id": "",
       "version_major": 2,
       "version_minor": 0
      },
      "text/plain": [
       "FigureCanvasNbAgg()"
      ]
     },
     "metadata": {},
     "output_type": "display_data"
    }
   ],
   "source": [
    "xx, yy = np.meshgrid(np.linspace(40,160,300), np.linspace(0,70,300))\n",
    "xy = np.c_[xx.ravel(), yy.ravel()]\n",
    "z = log_model.predict_proba(xy)[:,1].reshape(xx.shape)\n",
    "\n",
    "fig = plt.figure(figsize=(15,6))\n",
    "ax = fig.add_subplot(121, projection='3d')\n",
    "ax.scatter(X[:,0], X[:,1], y, c=y, cmap='bwr')\n",
    "ax.set_xlim([50,145])\n",
    "ax.set_ylim([0,65])\n",
    "ax.set_xlabel('Weight (lb)')\n",
    "ax.set_ylabel('Height (in)')\n",
    "ax.set_zlabel('Horse Probability')\n",
    "\n",
    "ax2 = fig.add_subplot(122, projection='3d')\n",
    "ax2.scatter(X[:,0], X[:,1], y, c=y, cmap='bwr')\n",
    "ax2.plot_surface(xx, yy, z, cmap='bwr', alpha=0.3, rstride=7, cstride=7)\n",
    "ax2.plot(x_, discriminator_line, zs=0.5, linestyle='--', color='g')\n",
    "ax2.set_xlim([50,145])\n",
    "ax2.set_ylim([0,65])\n",
    "ax2.set_xlabel('Weight (lb)')\n",
    "ax2.set_ylabel('Height (in)')\n",
    "ax2.set_zlabel('Horse Probability')\n",
    "plt.tight_layout()"
   ]
  },
  {
   "cell_type": "code",
   "execution_count": 52,
   "metadata": {},
   "outputs": [],
   "source": [
    "%matplotlib inline"
   ]
  },
  {
   "cell_type": "code",
   "execution_count": 47,
   "metadata": {},
   "outputs": [
    {
     "data": {
      "image/png": "[encoded data removed]",
      "text/plain": [
       "<Figure size 720x432 with 1 Axes>"
      ]
     },
     "metadata": {
      "needs_background": "light"
     },
     "output_type": "display_data"
    }
   ],
   "source": [
    "plt.figure(figsize=(10,6))\n",
    "plt.scatter(X_dogs[:,0], X_dogs[:,1], color='b', label='dogs')\n",
    "plt.scatter(X_horses[:,0], X_horses[:,1], color='r', label='horses')\n",
    "plt.plot(x_, discriminator_line, 'g--', label = \"decision boundary \\n $p=0.5$\")\n",
    "plt.xlim([50,145])\n",
    "plt.ylim([0,65])\n",
    "plt.legend()\n",
    "plt.xlabel('Weight (lb)')\n",
    "plt.ylabel('Height (in)')\n",
    "plt.title('Horse or dog?')\n",
    "plt.show()"
   ]
  },
  {
   "cell_type": "markdown",
   "metadata": {},
   "source": [
    "#### exercise: how can you derive the decision boundary for p=0.5? How about some other probability p=t?"
   ]
  },
  {
   "cell_type": "markdown",
   "metadata": {},
   "source": [
    "### What do these $\\beta$ parameters mean???"
   ]
  },
  {
   "cell_type": "markdown",
   "metadata": {},
   "source": [
    "For the moment let $\\theta = \\vec{\\beta}\\cdot\\vec{x} $\n",
    "\n",
    "Then $$p = h(\\theta) = \\frac{1}{1 + e^{-\\theta}} $$\n",
    "\n",
    "If we invert this formula, we get\n",
    "$$ \\theta = \\text{ln}\\left(\\frac{p}{1-p}\\right)$$\n",
    "\n",
    "Let's break this down.\n",
    "\n",
    "What does probability $p$ represent in a Bernoulli trial?\n",
    "\n",
    "$p \\sim \\frac{\\#successes}{\\#trials}$\n",
    "\n",
    "$p \\in [0,1]$\n",
    "\n",
    "$\\frac{p}{1-p}$ has a name: it's the odds. I'll use $d$ to represent odds\n",
    "\n",
    "$d = \\frac{p}{1-p}$ ; $p = \\frac{d}{1+d}$\n",
    "\n",
    "$d \\sim \\frac{\\#successes}{\\#failures}$\n",
    "\n",
    "$d \\in [0, \\infty)$\n",
    "\n",
    "So now,\n",
    "$\\theta  = \\ln(\\frac{p}{1-p}) = \\ln(d)$\n",
    "\n",
    "$\\theta \\in (-\\infty, \\infty)$\n",
    "\n",
    "$\\theta$ is the **log of the odds**\n",
    "\n",
    "So the assumption we're making in logistic regression is that ***the log odds are modeled by a linear combination of our features***."
   ]
  },
  {
   "cell_type": "markdown",
   "metadata": {},
   "source": [
    "That's our map from feature space to class probabilities."
   ]
  },
  {
   "cell_type": "markdown",
   "metadata": {},
   "source": [
    "## Interpreting the coefficients"
   ]
  },
  {
   "cell_type": "markdown",
   "metadata": {},
   "source": [
    "#### Let's work in just one dimension, and consider only a one-unit change in $x$"
   ]
  },
  {
   "cell_type": "markdown",
   "metadata": {},
   "source": [
    "$\\theta(x) =\\beta_0 + \\beta_1x$\n",
    "\n",
    "$\\theta(0) = \\beta_0$\n",
    "\n",
    "$\\theta(1) = \\beta_0 + \\beta_1$"
   ]
  },
  {
   "cell_type": "markdown",
   "metadata": {},
   "source": [
    "$d(x) = e^{\\theta(x)}$\n",
    "\n",
    "$d(0) = e^{\\theta(0)} = e^{\\beta_0}$\n",
    "\n",
    "$d(1) = e^{\\theta(1)} = e^{\\beta_0 + \\beta_1}$ = $e^{\\beta_0}e^{\\beta_1} = d(0)e^{\\beta_1}$"
   ]
  },
  {
   "cell_type": "markdown",
   "metadata": {},
   "source": [
    "$\\frac{d(1)}{d(0)} = e^{\\beta_1}$"
   ]
  },
  {
   "cell_type": "markdown",
   "metadata": {},
   "source": [
    "Thus, a one-unit increase in $x$ corresponds to a $\\beta_1$ increase in the log-odds, which is an $e^{\\beta_1}$ **multiplicative factor** on the odds. This ratio between two odds is called an *odds ratio*."
   ]
  },
  {
   "cell_type": "markdown",
   "metadata": {},
   "source": [
    "#### This is as interpretable as it gets, which is OK! Odds are very intuitive! \"the number of successes over the number of failures\""
   ]
  },
  {
   "cell_type": "markdown",
   "metadata": {},
   "source": [
    "$\\beta_1 \\rightarrow \\infty \\Rightarrow p_1 \\rightarrow 1$\n",
    "\n",
    "$\\beta_1 = 0 \\Rightarrow p_1 = p_0$\n",
    "\n",
    "$\\beta_1 \\rightarrow -\\infty \\Rightarrow p_1 \\rightarrow 0$"
   ]
  },
  {
   "cell_type": "code",
   "execution_count": 48,
   "metadata": {},
   "outputs": [],
   "source": [
    "import pandas as pd"
   ]
  },
  {
   "cell_type": "code",
   "execution_count": 49,
   "metadata": {},
   "outputs": [
    {
     "data": {
      "text/html": [
       "<div>\n",
       "<style scoped>\n",
       "    .dataframe tbody tr th:only-of-type {\n",
       "        vertical-align: middle;\n",
       "    }\n",
       "\n",
       "    .dataframe tbody tr th {\n",
       "        vertical-align: top;\n",
       "    }\n",
       "\n",
       "    .dataframe thead th {\n",
       "        text-align: right;\n",
       "    }\n",
       "</style>\n",
       "<table border=\"1\" class=\"dataframe\">\n",
       "  <thead>\n",
       "    <tr style=\"text-align: right;\">\n",
       "      <th></th>\n",
       "      <th>probability</th>\n",
       "    </tr>\n",
       "    <tr>\n",
       "      <th>log odds</th>\n",
       "      <th></th>\n",
       "    </tr>\n",
       "  </thead>\n",
       "  <tbody>\n",
       "    <tr>\n",
       "      <th>-10</th>\n",
       "      <td>0.005%</td>\n",
       "    </tr>\n",
       "    <tr>\n",
       "      <th>-9</th>\n",
       "      <td>0.012%</td>\n",
       "    </tr>\n",
       "    <tr>\n",
       "      <th>-8</th>\n",
       "      <td>0.034%</td>\n",
       "    </tr>\n",
       "    <tr>\n",
       "      <th>-7</th>\n",
       "      <td>0.091%</td>\n",
       "    </tr>\n",
       "    <tr>\n",
       "      <th>-6</th>\n",
       "      <td>0.247%</td>\n",
       "    </tr>\n",
       "    <tr>\n",
       "      <th>-5</th>\n",
       "      <td>0.669%</td>\n",
       "    </tr>\n",
       "    <tr>\n",
       "      <th>-4</th>\n",
       "      <td>1.799%</td>\n",
       "    </tr>\n",
       "    <tr>\n",
       "      <th>-3</th>\n",
       "      <td>4.743%</td>\n",
       "    </tr>\n",
       "    <tr>\n",
       "      <th>-2</th>\n",
       "      <td>11.920%</td>\n",
       "    </tr>\n",
       "    <tr>\n",
       "      <th>-1</th>\n",
       "      <td>26.894%</td>\n",
       "    </tr>\n",
       "    <tr>\n",
       "      <th>0</th>\n",
       "      <td>50.000%</td>\n",
       "    </tr>\n",
       "    <tr>\n",
       "      <th>1</th>\n",
       "      <td>73.106%</td>\n",
       "    </tr>\n",
       "    <tr>\n",
       "      <th>2</th>\n",
       "      <td>88.080%</td>\n",
       "    </tr>\n",
       "    <tr>\n",
       "      <th>3</th>\n",
       "      <td>95.257%</td>\n",
       "    </tr>\n",
       "    <tr>\n",
       "      <th>4</th>\n",
       "      <td>98.201%</td>\n",
       "    </tr>\n",
       "    <tr>\n",
       "      <th>5</th>\n",
       "      <td>99.331%</td>\n",
       "    </tr>\n",
       "    <tr>\n",
       "      <th>6</th>\n",
       "      <td>99.753%</td>\n",
       "    </tr>\n",
       "    <tr>\n",
       "      <th>7</th>\n",
       "      <td>99.909%</td>\n",
       "    </tr>\n",
       "    <tr>\n",
       "      <th>8</th>\n",
       "      <td>99.966%</td>\n",
       "    </tr>\n",
       "    <tr>\n",
       "      <th>9</th>\n",
       "      <td>99.988%</td>\n",
       "    </tr>\n",
       "    <tr>\n",
       "      <th>10</th>\n",
       "      <td>99.995%</td>\n",
       "    </tr>\n",
       "  </tbody>\n",
       "</table>\n",
       "</div>"
      ],
      "text/plain": [
       "         probability\n",
       "log odds            \n",
       "-10           0.005%\n",
       "-9            0.012%\n",
       "-8            0.034%\n",
       "-7            0.091%\n",
       "-6            0.247%\n",
       "-5            0.669%\n",
       "-4            1.799%\n",
       "-3            4.743%\n",
       "-2           11.920%\n",
       "-1           26.894%\n",
       " 0           50.000%\n",
       " 1           73.106%\n",
       " 2           88.080%\n",
       " 3           95.257%\n",
       " 4           98.201%\n",
       " 5           99.331%\n",
       " 6           99.753%\n",
       " 7           99.909%\n",
       " 8           99.966%\n",
       " 9           99.988%\n",
       " 10          99.995%"
      ]
     },
     "execution_count": 49,
     "metadata": {},
     "output_type": "execute_result"
    }
   ],
   "source": [
    "x = np.arange(-10, 11)\n",
    "df = pd.DataFrame(['{:.3f}%'.format(a*100) for a in 1/(1+np.exp(-x))], index=x, columns=['probability'])\n",
    "df.index.name = 'log odds'\n",
    "df"
   ]
  },
  {
   "cell_type": "code",
   "execution_count": null,
   "metadata": {},
   "outputs": [],
   "source": []
  }
 ],
 "metadata": {
  "kernelspec": {
   "display_name": "Python 3",
   "language": "python",
   "name": "python3"
  },
  "language_info": {
   "codemirror_mode": {
    "name": "ipython",
    "version": 3
   },
   "file_extension": ".py",
   "mimetype": "text/x-python",
   "name": "python",
   "nbconvert_exporter": "python",
   "pygments_lexer": "ipython3",
   "version": "3.7.1"
  }
 },
 "nbformat": 4,
 "nbformat_minor": 2
}
