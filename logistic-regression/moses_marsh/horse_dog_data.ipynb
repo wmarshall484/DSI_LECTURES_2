{
 "cells": [
  {
   "cell_type": "code",
   "execution_count": 10,
   "metadata": {},
   "outputs": [],
   "source": [
    "import numpy as np\n",
    "\n",
    "import matplotlib.pyplot as plt\n",
    "from mpl_toolkits.mplot3d import Axes3D\n",
    "\n",
    "plt.style.use('ggplot')\n",
    "\n",
    "%matplotlib inline"
   ]
  },
  {
   "cell_type": "code",
   "execution_count": 11,
   "metadata": {},
   "outputs": [],
   "source": [
    "# LARGE DOGS AND SMALL HORSES - SET DISTRIBUTION PARAMETERS\n",
    "# MAY OR MAY NOT CORRESPOND TO ACTUAL EARTH MAMMAL DIMENSIONS\n",
    "\n",
    "number_of_horse_observations = 4000 # \n",
    "number_of_dog_observations = 10000 # \n",
    "dog_weight_mean = 80\n",
    "dog_weight_stddev = 10\n",
    "dog_height_mean = 20\n",
    "dog_height_stddev = 10\n",
    "horse_weight_mean = 100\n",
    "horse_weight_stddev = 10\n",
    "horse_height_mean = 42\n",
    "horse_height_stddev = 10"
   ]
  },
  {
   "cell_type": "code",
   "execution_count": 12,
   "metadata": {
    "scrolled": true
   },
   "outputs": [],
   "source": [
    "# GENERATE SAMPLE OBSERVATIONS\n",
    "np.random.seed(42)\n",
    "dog_weights = np.random.normal(dog_weight_mean,\n",
    "                               dog_weight_stddev,\n",
    "                               number_of_dog_observations)\n",
    "dog_heights = np.random.normal(dog_height_mean,\n",
    "                               dog_height_stddev,\n",
    "                               number_of_dog_observations)\n",
    "dog_targets = [0]*number_of_dog_observations\n",
    "horse_weights = np.random.normal(horse_weight_mean,\n",
    "                                 horse_weight_stddev,\n",
    "                                 number_of_horse_observations).clip(80)\n",
    "horse_heights = np.random.normal(horse_height_mean,\n",
    "                                 horse_height_stddev,\n",
    "                                 number_of_horse_observations)\n",
    "horse_targets = [1]*number_of_horse_observations\n",
    "\n",
    "weights = np.hstack((dog_weights, horse_weights))\n",
    "heights = np.hstack((dog_heights, horse_heights))\n",
    "\n",
    "X = np.vstack((weights, heights)).T.clip(min=1)\n",
    "y = np.hstack((dog_targets,horse_targets))\n",
    "\n",
    "data = np.hstack((X,y.reshape(-1,1)))\n",
    "np.random.shuffle(data)"
   ]
  },
  {
   "cell_type": "code",
   "execution_count": 13,
   "metadata": {},
   "outputs": [],
   "source": [
    "np.save('animals_big', data, allow_pickle=False)"
   ]
  },
  {
   "cell_type": "code",
   "execution_count": null,
   "metadata": {},
   "outputs": [],
   "source": []
  }
 ],
 "metadata": {
  "kernelspec": {
   "display_name": "Python 3",
   "language": "python",
   "name": "python3"
  },
  "language_info": {
   "codemirror_mode": {
    "name": "ipython",
    "version": 3
   },
   "file_extension": ".py",
   "mimetype": "text/x-python",
   "name": "python",
   "nbconvert_exporter": "python",
   "pygments_lexer": "ipython3",
   "version": "3.6.2"
  }
 },
 "nbformat": 4,
 "nbformat_minor": 2
}
