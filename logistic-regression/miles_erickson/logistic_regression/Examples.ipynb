{
 "cells": [
  {
   "cell_type": "code",
   "execution_count": 69,
   "metadata": {
    "ExecuteTime": {
     "end_time": "2016-09-23T10:44:53.818417",
     "start_time": "2016-09-23T10:44:53.803480"
    },
    "collapsed": true
   },
   "outputs": [],
   "source": [
    "import math\n",
    "import matplotlib.pyplot as plt\n",
    "import numpy as np\n",
    "%matplotlib inline"
   ]
  },
  {
   "cell_type": "code",
   "execution_count": 93,
   "metadata": {
    "ExecuteTime": {
     "end_time": "2016-09-23T10:53:07.436934",
     "start_time": "2016-09-23T10:53:07.420481"
    },
    "collapsed": true
   },
   "outputs": [],
   "source": [
    "# Plot Income vs. Car"
   ]
  },
  {
   "cell_type": "code",
   "execution_count": 91,
   "metadata": {
    "ExecuteTime": {
     "end_time": "2016-09-23T10:51:48.873069",
     "start_time": "2016-09-23T10:51:48.856606"
    },
    "collapsed": false
   },
   "outputs": [],
   "source": [
    "data = [\n",
    " ('11', '0'),\n",
    " ('17', '0'),\n",
    " ('32', '0'),\n",
    " ('83', '0'),\n",
    " ('147', '1'),\n",
    " ('120', '1'),\n",
    " ('107', '1'),\n",
    " ('52', '1'),\n",
    " ('15', '0')\n",
    "]"
   ]
  },
  {
   "cell_type": "code",
   "execution_count": 92,
   "metadata": {
    "ExecuteTime": {
     "end_time": "2016-09-23T10:52:20.114567",
     "start_time": "2016-09-23T10:52:19.949679"
    },
    "collapsed": false,
    "scrolled": true
   },
   "outputs": [
    {
     "data": {
      "image/png": "[encoded data removed]",
      "text/plain": [
       "<matplotlib.figure.Figure at 0x1138a9050>"
      ]
     },
     "metadata": {},
     "output_type": "display_data"
    }
   ],
   "source": [
    "fig, ax = plt.subplots(1, 1) \n",
    "ax.scatter([p[0] for p in data], [p[1] for p in data])\n",
    "ax.set_xlabel('Income')\n",
    "ax.set_ylabel('Car')\n",
    "plt.ylim((-.1,1.1))\n",
    "plt.show()"
   ]
  },
  {
   "cell_type": "markdown",
   "metadata": {},
   "source": [
    "# Logit vs. tanh"
   ]
  },
  {
   "cell_type": "code",
   "execution_count": 90,
   "metadata": {
    "ExecuteTime": {
     "end_time": "2016-09-23T10:49:58.063938",
     "start_time": "2016-09-23T10:49:57.898285"
    },
    "collapsed": false,
    "scrolled": true
   },
   "outputs": [
    {
     "data": {
      "image/png": "[encoded data removed]",
      "text/plain": [
       "<matplotlib.figure.Figure at 0x113d4b810>"
      ]
     },
     "metadata": {},
     "output_type": "display_data"
    }
   ],
   "source": [
    "x = np.linspace(-10, 10, 100)\n",
    "plt.plot(x, 1/(1+np.exp(-x)), label=\"logit\")\n",
    "plt.plot(x, (np.tanh(x)+1)/2, label=\"tanh\")\n",
    "plt.legend(loc=\"lower right\")\n",
    "plt.ylim((-0.1, 1.1))\n",
    "plt.show()"
   ]
  },
  {
   "cell_type": "code",
   "execution_count": null,
   "metadata": {
    "collapsed": true
   },
   "outputs": [],
   "source": []
  }
 ],
 "metadata": {
  "kernelspec": {
   "display_name": "Python 2",
   "language": "python",
   "name": "python2"
  },
  "language_info": {
   "codemirror_mode": {
    "name": "ipython",
    "version": 2
   },
   "file_extension": ".py",
   "mimetype": "text/x-python",
   "name": "python",
   "nbconvert_exporter": "python",
   "pygments_lexer": "ipython2",
   "version": "2.7.11"
  }
 },
 "nbformat": 4,
 "nbformat_minor": 0
}
