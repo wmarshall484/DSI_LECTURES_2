{
 "cells": [
  {
   "cell_type": "markdown",
   "metadata": {
    "slideshow": {
     "slide_type": "slide"
    }
   },
   "source": [
    "## Logistic Regression / ROC Curves\n",
    "\n",
    "### Caution: I am still debuggins one of the calculations! Please pull update tomorrow!\n",
    "\n",
    "Chris Overton  \n",
    "2016.09.29"
   ]
  },
  {
   "cell_type": "markdown",
   "metadata": {
    "slideshow": {
     "slide_type": "slide"
    }
   },
   "source": [
    "## Goals\n",
    "* Understand how and when to use logistic regression (e.g. instead of linear regression)\n",
    "* Solid understanding definitions and and good intuition related to ROC curves:\n",
    "    - Type I, Type II errors\n",
    "    - {True, False} * {Positive, Negative}\n",
    "    - Accuracy\n",
    "    - Sensitivity, Specificity\n",
    "    - Precision, Recall\n",
    "    - How relative costs of errors can be used with a ROC curve to choose prediction: model and threshold"
   ]
  },
  {
   "cell_type": "markdown",
   "metadata": {
    "slideshow": {
     "slide_type": "slide"
    }
   },
   "source": [
    "# Recap: Bias - Variance tradeoff\n",
    "\n",
    "(Caution: watch out for mean questions!)\n",
    "\n",
    "Suppose you are trying to model a variable y that (really) is generated from a single inputs feature x through the following process, with random error $\\epsilon$:  \n",
    "$$y = f(x) + \\epsilon$$\n",
    "\n",
    "1) For this to be a good description, how should $\\epsilon$ behave?\n"
   ]
  },
  {
   "cell_type": "markdown",
   "metadata": {
    "slideshow": {
     "slide_type": "fragment"
    }
   },
   "source": [
    "2) Assuming $\\epsilon$ has variance $\\sigma^2$, what are some steps you can take to make your model have MSE less than $\\sigma^2$?"
   ]
  },
  {
   "cell_type": "markdown",
   "metadata": {
    "slideshow": {
     "slide_type": "fragment"
    }
   },
   "source": [
    "3) If $f(x) = x^2$, and your model is linear ($\\hat{f}(x) = \\beta_0 + \\beta_1 * x$), how do bias and variance appear (e.g. graphically)?"
   ]
  },
  {
   "cell_type": "markdown",
   "metadata": {
    "slideshow": {
     "slide_type": "fragment"
    }
   },
   "source": [
    "4) What happens to bias and variance as you model $\\hat{f}$ as a polynomial of higher degree n?"
   ]
  },
  {
   "cell_type": "markdown",
   "metadata": {
    "slideshow": {
     "slide_type": "fragment"
    }
   },
   "source": [
    "5) In this case, where does model variance become particularly scary?"
   ]
  },
  {
   "cell_type": "markdown",
   "metadata": {
    "slideshow": {
     "slide_type": "slide"
    }
   },
   "source": [
    "# Recap: Train/validation/test\n",
    "\n",
    "Suppose you hve build zillions of models on a training set and have been selecting models based on their error on a validation set.\n",
    "\n",
    "What is a possible bias if you estimate out-of-sample error as the error of the best model on the validation set?\n",
    "\n",
    "<img src = 'images/biasVariance.png'></img>"
   ]
  },
  {
   "cell_type": "markdown",
   "metadata": {
    "slideshow": {
     "slide_type": "slide"
    }
   },
   "source": [
    "# Recap: Regularization (\"shrinkage\")\n",
    "\n",
    "* What are the relative merits of Ridge ($L_2$ penalty) and Lasso ($L_1$ penalty)?\n",
    "* How do you adjust penalties so that you re doing 80% variable reduction and 20% reducing contribution of squared predictors?\n",
    "\n",
    "<img src = 'images/shrinkage.png'></img>"
   ]
  },
  {
   "cell_type": "markdown",
   "metadata": {
    "ExecuteTime": {
     "end_time": "2016-09-23T10:53:07.436934",
     "start_time": "2016-09-23T10:53:07.420481"
    },
    "collapsed": true,
    "slideshow": {
     "slide_type": "slide"
    }
   },
   "source": [
    "# Limits of linear regression: Income vs Car"
   ]
  },
  {
   "cell_type": "code",
   "execution_count": 1,
   "metadata": {
    "ExecuteTime": {
     "end_time": "2016-09-23T10:44:53.818417",
     "start_time": "2016-09-23T10:44:53.803480"
    },
    "collapsed": true,
    "slideshow": {
     "slide_type": "skip"
    }
   },
   "outputs": [],
   "source": [
    "import math\n",
    "import matplotlib.pyplot as plt\n",
    "import numpy as np\n",
    "%matplotlib inline\n",
    "import seaborn as sns\n",
    "import statsmodels.api as sm\n",
    "import statsmodels.formula.api as smf"
   ]
  },
  {
   "cell_type": "code",
   "execution_count": 73,
   "metadata": {
    "ExecuteTime": {
     "end_time": "2016-09-23T10:51:48.873069",
     "start_time": "2016-09-23T10:51:48.856606"
    },
    "collapsed": false,
    "slideshow": {
     "slide_type": "subslide"
    }
   },
   "outputs": [],
   "source": [
    "data = np.array([\n",
    " [11, 0],\n",
    " [14,0],\n",
    " [17, 0],\n",
    " [19, 0],\n",
    " [15, 0],\n",
    " [21, 0],\n",
    " [22, 0],\n",
    " [32, 0],\n",
    " [83, 0],\n",
    " [147, 1],\n",
    " [120, 1],\n",
    " [107, 1],\n",
    " [52, 1],\n",
    " [99,1]\n",
    "])\n",
    "df = pd.DataFrame(data, columns=['Income', 'Car'])"
   ]
  },
  {
   "cell_type": "code",
   "execution_count": 76,
   "metadata": {
    "ExecuteTime": {
     "end_time": "2016-09-23T10:52:20.114567",
     "start_time": "2016-09-23T10:52:19.949679"
    },
    "collapsed": false,
    "scrolled": true,
    "slideshow": {
     "slide_type": "subslide"
    }
   },
   "outputs": [
    {
     "data": {
      "image/png": "[encoded data removed]",
      "text/plain": [
       "<matplotlib.figure.Figure at 0x11c557910>"
      ]
     },
     "metadata": {},
     "output_type": "display_data"
    }
   ],
   "source": [
    "fig, ax = plt.subplots(1, 1) \n",
    "plt.scatter(df.Income, df.Car)\n",
    "ax.set_xlabel('Income')\n",
    "ax.set_ylabel('Car')\n",
    "plt.ylim((-.1,1.1))\n",
    "plt.show()"
   ]
  },
  {
   "cell_type": "code",
   "execution_count": 78,
   "metadata": {
    "collapsed": false,
    "slideshow": {
     "slide_type": "subslide"
    }
   },
   "outputs": [
    {
     "data": {
      "text/html": [
       "<table class=\"simpletable\">\n",
       "<caption>OLS Regression Results</caption>\n",
       "<tr>\n",
       "  <th>Dep. Variable:</th>           <td>Car</td>       <th>  R-squared:         </th> <td>   0.788</td>\n",
       "</tr>\n",
       "<tr>\n",
       "  <th>Model:</th>                   <td>OLS</td>       <th>  Adj. R-squared:    </th> <td>   0.771</td>\n",
       "</tr>\n",
       "<tr>\n",
       "  <th>Method:</th>             <td>Least Squares</td>  <th>  F-statistic:       </th> <td>   48.20</td>\n",
       "</tr>\n",
       "<tr>\n",
       "  <th>Date:</th>             <td>Thu, 29 Sep 2016</td> <th>  Prob (F-statistic):</th> <td>1.02e-05</td>\n",
       "</tr>\n",
       "<tr>\n",
       "  <th>Time:</th>                 <td>13:07:03</td>     <th>  Log-Likelihood:    </th> <td> -1.8135</td>\n",
       "</tr>\n",
       "<tr>\n",
       "  <th>No. Observations:</th>      <td>    14</td>      <th>  AIC:               </th> <td>   5.627</td>\n",
       "</tr>\n",
       "<tr>\n",
       "  <th>Df Residuals:</th>          <td>    13</td>      <th>  BIC:               </th> <td>   6.266</td>\n",
       "</tr>\n",
       "<tr>\n",
       "  <th>Df Model:</th>              <td>     1</td>      <th>                     </th>     <td> </td>   \n",
       "</tr>\n",
       "<tr>\n",
       "  <th>Covariance Type:</th>      <td>nonrobust</td>    <th>                     </th>     <td> </td>   \n",
       "</tr>\n",
       "</table>\n",
       "<table class=\"simpletable\">\n",
       "<tr>\n",
       "     <td></td>       <th>coef</th>     <th>std err</th>      <th>t</th>      <th>P>|t|</th> <th>[95.0% Conf. Int.]</th> \n",
       "</tr>\n",
       "<tr>\n",
       "  <th>Income</th> <td>    0.0075</td> <td>    0.001</td> <td>    6.943</td> <td> 0.000</td> <td>    0.005     0.010</td>\n",
       "</tr>\n",
       "</table>\n",
       "<table class=\"simpletable\">\n",
       "<tr>\n",
       "  <th>Omnibus:</th>       <td> 3.770</td> <th>  Durbin-Watson:     </th> <td>   0.726</td>\n",
       "</tr>\n",
       "<tr>\n",
       "  <th>Prob(Omnibus):</th> <td> 0.152</td> <th>  Jarque-Bera (JB):  </th> <td>   1.291</td>\n",
       "</tr>\n",
       "<tr>\n",
       "  <th>Skew:</th>          <td> 0.482</td> <th>  Prob(JB):          </th> <td>   0.524</td>\n",
       "</tr>\n",
       "<tr>\n",
       "  <th>Kurtosis:</th>      <td> 4.133</td> <th>  Cond. No.          </th> <td>    1.00</td>\n",
       "</tr>\n",
       "</table>"
      ],
      "text/plain": [
       "<class 'statsmodels.iolib.summary.Summary'>\n",
       "\"\"\"\n",
       "                            OLS Regression Results                            \n",
       "==============================================================================\n",
       "Dep. Variable:                    Car   R-squared:                       0.788\n",
       "Model:                            OLS   Adj. R-squared:                  0.771\n",
       "Method:                 Least Squares   F-statistic:                     48.20\n",
       "Date:                Thu, 29 Sep 2016   Prob (F-statistic):           1.02e-05\n",
       "Time:                        13:07:03   Log-Likelihood:                -1.8135\n",
       "No. Observations:                  14   AIC:                             5.627\n",
       "Df Residuals:                      13   BIC:                             6.266\n",
       "Df Model:                           1                                         \n",
       "Covariance Type:            nonrobust                                         \n",
       "==============================================================================\n",
       "                 coef    std err          t      P>|t|      [95.0% Conf. Int.]\n",
       "------------------------------------------------------------------------------\n",
       "Income         0.0075      0.001      6.943      0.000         0.005     0.010\n",
       "==============================================================================\n",
       "Omnibus:                        3.770   Durbin-Watson:                   0.726\n",
       "Prob(Omnibus):                  0.152   Jarque-Bera (JB):                1.291\n",
       "Skew:                           0.482   Prob(JB):                        0.524\n",
       "Kurtosis:                       4.133   Cond. No.                         1.00\n",
       "==============================================================================\n",
       "\n",
       "Warnings:\n",
       "[1] Standard Errors assume that the covariance matrix of the errors is correctly specified.\n",
       "\"\"\""
      ]
     },
     "execution_count": 78,
     "metadata": {},
     "output_type": "execute_result"
    }
   ],
   "source": [
    "model = sm.OLS(df.Car, df.Income).fit()\n",
    "model.summary()"
   ]
  },
  {
   "cell_type": "code",
   "execution_count": 79,
   "metadata": {
    "collapsed": false,
    "slideshow": {
     "slide_type": "subslide"
    }
   },
   "outputs": [
    {
     "data": {
      "image/png": "[encoded data removed]",
      "text/plain": [
       "<matplotlib.figure.Figure at 0x11b03c990>"
      ]
     },
     "metadata": {},
     "output_type": "display_data"
    }
   ],
   "source": [
    "### What are the problems with this regression model?\n",
    "\n",
    "x_lin = np.linspace(-50, 200)\n",
    "y_lin = model.predict(x_lin)\n",
    "\n",
    "fig, ax = plt.subplots(1, 1) \n",
    "plt.scatter(df.Income, df.Car)\n",
    "ax.set_xlabel('Income')\n",
    "ax.set_ylabel('Car')\n",
    "plt.ylim((-.5,1.5))\n",
    "ax.plot(x_lin, y_lin, color = 'red', lw = 3)\n",
    "plt.show()"
   ]
  },
  {
   "cell_type": "markdown",
   "metadata": {
    "slideshow": {
     "slide_type": "subslide"
    }
   },
   "source": [
    "## Logistic Regression\n",
    "\n",
    "Linear regression in this case:\n",
    "\n",
    "Pros:\n",
    "- Nice least squares solution\n",
    "\n",
    "Cons:\n",
    "- Models a continuous variable\n",
    "- Produces unbounded results - we just want a probability from 0 to 1.\n",
    "\n",
    "To use 'linear' tools to model a discrete probability, we transform the problem, using a link function"
   ]
  },
  {
   "cell_type": "markdown",
   "metadata": {
    "slideshow": {
     "slide_type": "subslide"
    }
   },
   "source": [
    "## Logit link\n",
    "\n",
    "<img src='images/logitLink.png'></img>"
   ]
  },
  {
   "cell_type": "markdown",
   "metadata": {
    "slideshow": {
     "slide_type": "subslide"
    }
   },
   "source": [
    "## Logit link\n",
    "This s-shaped curve was created using the logistic function which comes from the sigmoid family:\n",
    "\n",
    "$$s(t) = \\frac{1}{1 + e^{-t}}$$\n",
    "\n",
    "This is going to be our “link” function.  \n",
    "\n",
    "This is going to be one of several link functions used in *General Linear Models* (GLM.)\n",
    "\n",
    "Today, we will only study Logistic regression."
   ]
  },
  {
   "cell_type": "markdown",
   "metadata": {
    "slideshow": {
     "slide_type": "subslide"
    }
   },
   "source": [
    "## The basic transform of Logistic Regression\n",
    "\n",
    "Instead of modeling p(x) (probability), we model logarithm of 'odds':\n",
    "$$\\frac{p}{1-p}$$\n",
    "\n",
    "What we actually obtain indirectly is:\n",
    "\n",
    "$$ p(y) = \\frac{1}{e^{-(\\beta_0 + X_{features} \\cdot \\beta)}}$$\n",
    "\n",
    "But we do this by doing (roughly) linear modeling on:\n",
    "\n",
    "$$ ln(\\frac{p(y)}{1-p(y)}) = \\beta_0 + X_{features} \\cdot \\beta $$"
   ]
  },
  {
   "cell_type": "markdown",
   "metadata": {
    "slideshow": {
     "slide_type": "slide"
    }
   },
   "source": [
    "# Logistic Regression with Statsmodels\n",
    "\n",
    "Compared to the main alternative (scikit learn), statsmodels offer more built-in diagnostics.  \n",
    "\n",
    "For logistic regression, several of these are based on likelihoods rather than on direct mean squared errors.\n",
    "\n",
    "'Pseudo $R^2$' is one metric useful to compare fits of different logistic models on a data set."
   ]
  },
  {
   "cell_type": "code",
   "execution_count": 105,
   "metadata": {
    "collapsed": true,
    "slideshow": {
     "slide_type": "fragment"
    }
   },
   "outputs": [],
   "source": [
    "from statsmodels.discrete.discrete_model import Logit\n",
    "from statsmodels.tools import tools"
   ]
  },
  {
   "cell_type": "code",
   "execution_count": 115,
   "metadata": {
    "collapsed": false,
    "slideshow": {
     "slide_type": "subslide"
    }
   },
   "outputs": [
    {
     "name": "stdout",
     "output_type": "stream",
     "text": [
      "Optimization terminated successfully.\n",
      "         Current function value: 0.230090\n",
      "         Iterations 7\n"
     ]
    },
    {
     "data": {
      "text/html": [
       "<table class=\"simpletable\">\n",
       "<caption>Logit Regression Results</caption>\n",
       "<tr>\n",
       "  <th>Dep. Variable:</th>        <td>Car</td>       <th>  No. Observations:  </th>  <td>    14</td>  \n",
       "</tr>\n",
       "<tr>\n",
       "  <th>Model:</th>               <td>Logit</td>      <th>  Df Residuals:      </th>  <td>    12</td>  \n",
       "</tr>\n",
       "<tr>\n",
       "  <th>Method:</th>               <td>MLE</td>       <th>  Df Model:          </th>  <td>     1</td>  \n",
       "</tr>\n",
       "<tr>\n",
       "  <th>Date:</th>          <td>Thu, 29 Sep 2016</td> <th>  Pseudo R-squ.:     </th>  <td>0.6470</td>  \n",
       "</tr>\n",
       "<tr>\n",
       "  <th>Time:</th>              <td>13:39:04</td>     <th>  Log-Likelihood:    </th> <td> -3.2213</td> \n",
       "</tr>\n",
       "<tr>\n",
       "  <th>converged:</th>           <td>True</td>       <th>  LL-Null:           </th> <td> -9.1246</td> \n",
       "</tr>\n",
       "<tr>\n",
       "  <th> </th>                      <td> </td>        <th>  LLR p-value:       </th> <td>0.0005902</td>\n",
       "</tr>\n",
       "</table>\n",
       "<table class=\"simpletable\">\n",
       "<tr>\n",
       "     <td></td>       <th>coef</th>     <th>std err</th>      <th>z</th>      <th>P>|z|</th> <th>[95.0% Conf. Int.]</th> \n",
       "</tr>\n",
       "<tr>\n",
       "  <th>const</th>  <td>   -4.5932</td> <td>    2.225</td> <td>   -2.064</td> <td> 0.039</td> <td>   -8.954    -0.232</td>\n",
       "</tr>\n",
       "<tr>\n",
       "  <th>Income</th> <td>    0.0661</td> <td>    0.031</td> <td>    2.124</td> <td> 0.034</td> <td>    0.005     0.127</td>\n",
       "</tr>\n",
       "</table>"
      ],
      "text/plain": [
       "<class 'statsmodels.iolib.summary.Summary'>\n",
       "\"\"\"\n",
       "                           Logit Regression Results                           \n",
       "==============================================================================\n",
       "Dep. Variable:                    Car   No. Observations:                   14\n",
       "Model:                          Logit   Df Residuals:                       12\n",
       "Method:                           MLE   Df Model:                            1\n",
       "Date:                Thu, 29 Sep 2016   Pseudo R-squ.:                  0.6470\n",
       "Time:                        13:39:04   Log-Likelihood:                -3.2213\n",
       "converged:                       True   LL-Null:                       -9.1246\n",
       "                                        LLR p-value:                 0.0005902\n",
       "==============================================================================\n",
       "                 coef    std err          z      P>|z|      [95.0% Conf. Int.]\n",
       "------------------------------------------------------------------------------\n",
       "const         -4.5932      2.225     -2.064      0.039        -8.954    -0.232\n",
       "Income         0.0661      0.031      2.124      0.034         0.005     0.127\n",
       "==============================================================================\n",
       "\"\"\""
      ]
     },
     "execution_count": 115,
     "metadata": {},
     "output_type": "execute_result"
    }
   ],
   "source": [
    "#statsmodels variable order: y, then x\n",
    "x_train = tools.add_constant(df.Income)\n",
    "model2 = Logit(df.Car,x_train).fit()\n",
    "model2.summary()"
   ]
  },
  {
   "cell_type": "code",
   "execution_count": 135,
   "metadata": {
    "collapsed": false,
    "slideshow": {
     "slide_type": "subslide"
    }
   },
   "outputs": [
    {
     "data": {
      "image/png": "[encoded data removed]",
      "text/plain": [
       "<matplotlib.figure.Figure at 0x11d762650>"
      ]
     },
     "metadata": {},
     "output_type": "display_data"
    }
   ],
   "source": [
    "x_sm_test = tools.add_constant(np.linspace(-30, 200))\n",
    "y_sm = model2.predict(x_sm_test)\n",
    "\n",
    "fig, ax = plt.subplots(1, 1) \n",
    "plt.scatter(df.Income, df.Car)\n",
    "ax.set_xlabel('Income')\n",
    "ax.set_ylabel('Car')\n",
    "plt.ylim((-.1,1.1))\n",
    "\n",
    "\n",
    "ax.plot(x_sm_test[:,1], y_sm, color = 'red', lw = 3)\n",
    "\n",
    "plt.show()"
   ]
  },
  {
   "cell_type": "markdown",
   "metadata": {
    "slideshow": {
     "slide_type": "slide"
    }
   },
   "source": [
    "# Logistic Regression with Sklearn"
   ]
  },
  {
   "cell_type": "code",
   "execution_count": 112,
   "metadata": {
    "collapsed": true,
    "slideshow": {
     "slide_type": "fragment"
    }
   },
   "outputs": [],
   "source": [
    "from sklearn.linear_model import LogisticRegression\n",
    "from sklearn import datasets\n",
    "from sklearn.metrics import roc_auc_score"
   ]
  },
  {
   "cell_type": "code",
   "execution_count": 85,
   "metadata": {
    "collapsed": false,
    "slideshow": {
     "slide_type": "subslide"
    }
   },
   "outputs": [
    {
     "data": {
      "text/plain": [
       "{'C': 1.0,\n",
       " 'class_weight': None,\n",
       " 'dual': False,\n",
       " 'fit_intercept': True,\n",
       " 'intercept_scaling': 1,\n",
       " 'max_iter': 100,\n",
       " 'multi_class': 'ovr',\n",
       " 'n_jobs': 1,\n",
       " 'penalty': 'l2',\n",
       " 'random_state': None,\n",
       " 'solver': 'liblinear',\n",
       " 'tol': 0.0001,\n",
       " 'verbose': 0,\n",
       " 'warm_start': False}"
      ]
     },
     "execution_count": 85,
     "metadata": {},
     "output_type": "execute_result"
    }
   ],
   "source": [
    "model3 = LogisticRegression()\n",
    "model3.get_params()"
   ]
  },
  {
   "cell_type": "code",
   "execution_count": 126,
   "metadata": {
    "collapsed": false,
    "slideshow": {
     "slide_type": "subslide"
    }
   },
   "outputs": [
    {
     "data": {
      "text/plain": [
       "LogisticRegression(C=1.0, class_weight=None, dual=False, fit_intercept=True,\n",
       "          intercept_scaling=1, max_iter=100, multi_class='ovr', n_jobs=1,\n",
       "          penalty='l2', random_state=None, solver='liblinear', tol=0.0001,\n",
       "          verbose=0, warm_start=False)"
      ]
     },
     "execution_count": 126,
     "metadata": {},
     "output_type": "execute_result"
    }
   ],
   "source": [
    "# Notice that argument order is features \"x\" first, then y -- unlike statsmodel!)\n",
    "\n",
    "model3.fit(pd.DataFrame(df.Income),df.Car)"
   ]
  },
  {
   "cell_type": "markdown",
   "metadata": {
    "slideshow": {
     "slide_type": "subslide"
    }
   },
   "source": [
    "Each kind of estimator has its own 'score' implementation. In the Case of LogisticRegression, this calculates the fraction of sample points correctly classified - in this case 12 / 14."
   ]
  },
  {
   "cell_type": "code",
   "execution_count": 128,
   "metadata": {
    "collapsed": false,
    "slideshow": {
     "slide_type": "fragment"
    }
   },
   "outputs": [
    {
     "data": {
      "text/plain": [
       "0.8571428571428571"
      ]
     },
     "execution_count": 128,
     "metadata": {},
     "output_type": "execute_result"
    }
   ],
   "source": [
    "model3.score(pd.DataFrame(df.Income),df.Car)"
   ]
  },
  {
   "cell_type": "markdown",
   "metadata": {
    "slideshow": {
     "slide_type": "subslide"
    }
   },
   "source": [
    "The coefficient list below does not include the intercept ($\\beta_0$), which must be pulled separately:"
   ]
  },
  {
   "cell_type": "code",
   "execution_count": 129,
   "metadata": {
    "collapsed": false,
    "slideshow": {
     "slide_type": "fragment"
    }
   },
   "outputs": [
    {
     "data": {
      "text/plain": [
       "array([[ 0.02846398]])"
      ]
     },
     "execution_count": 129,
     "metadata": {},
     "output_type": "execute_result"
    }
   ],
   "source": [
    "model3.coef_"
   ]
  },
  {
   "cell_type": "code",
   "execution_count": 130,
   "metadata": {
    "collapsed": false,
    "slideshow": {
     "slide_type": "fragment"
    }
   },
   "outputs": [
    {
     "data": {
      "text/plain": [
       "array([-1.59639797])"
      ]
     },
     "execution_count": 130,
     "metadata": {},
     "output_type": "execute_result"
    }
   ],
   "source": [
    "model3.intercept_"
   ]
  },
  {
   "cell_type": "code",
   "execution_count": 145,
   "metadata": {
    "collapsed": false
   },
   "outputs": [
    {
     "data": {
      "text/plain": [
       "array([0, 0, 1, 1])"
      ]
     },
     "execution_count": 145,
     "metadata": {},
     "output_type": "execute_result"
    }
   ],
   "source": [
    "test = np.arange(40,80,10)\n",
    "model3.predict(pd.DataFrame(test))"
   ]
  },
  {
   "cell_type": "code",
   "execution_count": 134,
   "metadata": {
    "collapsed": false,
    "slideshow": {
     "slide_type": "subslide"
    }
   },
   "outputs": [
    {
     "data": {
      "image/png": "[encoded data removed]",
      "text/plain": [
       "<matplotlib.figure.Figure at 0x11d3cd990>"
      ]
     },
     "metadata": {},
     "output_type": "display_data"
    }
   ],
   "source": [
    "#YIKES! The following decision boundary seems way too sharp!\n",
    "\n",
    "#What happens here is that unlike statsmodels, the 'predict' function chooses its own threshold (0.5),\n",
    "#and shows the classification, which is either 0 or 1. (See next slide for the probability function.)\n",
    "\n",
    "x_log_sk = np.linspace(-0, 150)\n",
    "y_log_sk = model3.predict(pd.DataFrame(x_log_sk))\n",
    "\n",
    "fig, ax = plt.subplots(1, 1) \n",
    "plt.scatter(df.Income, df.Car)\n",
    "ax.set_xlabel('Income')\n",
    "ax.set_ylabel('Car')\n",
    "plt.ylim((-.1,1.1))\n",
    "ax.plot(x_log_sk, y_log_sk, color = 'red', lw = 3)\n",
    "plt.show()"
   ]
  },
  {
   "cell_type": "code",
   "execution_count": 149,
   "metadata": {
    "collapsed": false,
    "slideshow": {
     "slide_type": "subslide"
    }
   },
   "outputs": [
    {
     "data": {
      "image/png": "[encoded data removed]",
      "text/plain": [
       "<matplotlib.figure.Figure at 0x11c59ea50>"
      ]
     },
     "metadata": {},
     "output_type": "display_data"
    }
   ],
   "source": [
    "#This is how to show a graph like we saw for statsmodels:\n",
    "#instead of 'predict', use 'predict_proba' (line 2)\n",
    "#Choosing element 1 of this returns probabilities for the second category.\n",
    "\n",
    "x_log_sk = np.linspace(-0, 150)\n",
    "y_log_sk = model3.predict_proba(pd.DataFrame(x_log_sk))[:,1]\n",
    "\n",
    "fig, ax = plt.subplots(1, 1) \n",
    "plt.scatter(df.Income, df.Car)\n",
    "ax.set_xlabel('Income')\n",
    "ax.set_ylabel('Car')\n",
    "plt.ylim((-.1,1.1))\n",
    "ax.plot(x_log_sk, y_log_sk, color = 'red', lw = 3)\n",
    "plt.show()"
   ]
  },
  {
   "cell_type": "code",
   "execution_count": 132,
   "metadata": {
    "collapsed": true
   },
   "outputs": [],
   "source": [
    "predicted_Car = model3.predict(pd.DataFrame(df.Income))"
   ]
  },
  {
   "cell_type": "code",
   "execution_count": 133,
   "metadata": {
    "collapsed": false
   },
   "outputs": [
    {
     "data": {
      "text/plain": [
       "0.84444444444444433"
      ]
     },
     "execution_count": 133,
     "metadata": {},
     "output_type": "execute_result"
    }
   ],
   "source": [
    "roc_auc_score(predicted_Car, df.Car)"
   ]
  },
  {
   "cell_type": "markdown",
   "metadata": {
    "slideshow": {
     "slide_type": "slide"
    }
   },
   "source": [
    "# ROC Curves\n",
    "\n",
    "It turns out we could actually derive infinitely many predictors from our logistic model!\n",
    "\n",
    "<img src='images/assessingModelFit.png'></img>"
   ]
  },
  {
   "cell_type": "markdown",
   "metadata": {
    "slideshow": {
     "slide_type": "subslide"
    }
   },
   "source": [
    "## ROC curves\n",
    "\n",
    "<img src='images/roc.png'></img>"
   ]
  },
  {
   "cell_type": "markdown",
   "metadata": {
    "slideshow": {
     "slide_type": "subslide"
    }
   },
   "source": [
    "## Confusion matrices\n",
    "\n",
    "<img src='images/confusion.png'></img>"
   ]
  },
  {
   "cell_type": "markdown",
   "metadata": {
    "slideshow": {
     "slide_type": "subslide"
    }
   },
   "source": [
    "## Confusion matrices\n",
    "\n",
    "Review of different measures of (in)accuracy:\n",
    "- Accuracy\n",
    "- 'Positive'/'Negative' refer to predictions\n",
    "- True/False compare predictions to reality\n",
    "- Recall the kinds of errors: Type I, Type II\n",
    "- Traditional accuracy metrics: Sensitivity, Specificity\n",
    "\n",
    "- New terminology: Precision/Recall\n",
    "\n",
    "Roc graphs sensitivity (recall) by 1-specificity."
   ]
  },
  {
   "cell_type": "markdown",
   "metadata": {
    "slideshow": {
     "slide_type": "subslide"
    }
   },
   "source": [
    "## Building a ROC curve from raw data points\n",
    "\n",
    "<img src='images/rocStart.png'></img>"
   ]
  },
  {
   "cell_type": "code",
   "execution_count": null,
   "metadata": {
    "collapsed": true
   },
   "outputs": [],
   "source": []
  }
 ],
 "metadata": {
  "celltoolbar": "Slideshow",
  "kernelspec": {
   "display_name": "Python 2",
   "language": "python",
   "name": "python2"
  },
  "language_info": {
   "codemirror_mode": {
    "name": "ipython",
    "version": 2
   },
   "file_extension": ".py",
   "mimetype": "text/x-python",
   "name": "python",
   "nbconvert_exporter": "python",
   "pygments_lexer": "ipython2",
   "version": "2.7.12"
  }
 },
 "nbformat": 4,
 "nbformat_minor": 0
}
