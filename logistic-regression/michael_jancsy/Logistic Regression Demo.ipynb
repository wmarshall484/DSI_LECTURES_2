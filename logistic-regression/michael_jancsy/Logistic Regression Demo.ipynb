{
 "cells": [
  {
   "cell_type": "code",
   "execution_count": 1,
   "metadata": {
    "collapsed": false,
    "slideshow": {
     "slide_type": "skip"
    }
   },
   "outputs": [],
   "source": [
    "import numpy as np\n",
    "import scipy as sc\n",
    "from sklearn.linear_model import LogisticRegressionCV\n",
    "import plotly.plotly as py\n",
    "from plotly.graph_objs import *\n",
    "from itertools import product\n",
    "np.random.seed = 0"
   ]
  },
  {
   "cell_type": "code",
   "execution_count": 2,
   "metadata": {
    "collapsed": true,
    "slideshow": {
     "slide_type": "slide"
    }
   },
   "outputs": [],
   "source": [
    "# LARGE DOGS AND SMALL HORSES - SET DISTRIBUTION PARAMETERS\n",
    "\n",
    "number_of_observations = 100\n",
    "dog_weight_mean = 80\n",
    "dog_weight_stddev = 10\n",
    "dog_height_mean = 20\n",
    "dog_height_stddev = 10\n",
    "horse_weight_mean = 100\n",
    "horse_weight_stddev = 10\n",
    "horse_height_mean = 42\n",
    "horse_height_stddev = 10"
   ]
  },
  {
   "cell_type": "code",
   "execution_count": 3,
   "metadata": {
    "collapsed": true,
    "slideshow": {
     "slide_type": "slide"
    }
   },
   "outputs": [],
   "source": [
    "# GENERATE SAMPLE OBSERVATIONS\n",
    "dog_weights = np.random.normal(dog_weight_mean,\n",
    "                               dog_weight_stddev,\n",
    "                               number_of_observations)\n",
    "dog_heights = np.random.normal(dog_height_mean,\n",
    "                               dog_height_stddev,\n",
    "                               number_of_observations)\n",
    "dog_targets = [0]*number_of_observations\n",
    "horse_weights = np.random.normal(horse_weight_mean,\n",
    "                                 horse_weight_stddev,\n",
    "                                 number_of_observations)\n",
    "horse_heights = np.random.normal(horse_height_mean,\n",
    "                                 horse_height_stddev,\n",
    "                                 number_of_observations)\n",
    "horse_targets = [1]*number_of_observations\n",
    "\n",
    "weights = np.hstack((dog_weights, horse_weights))\n",
    "heights = np.hstack((dog_heights, horse_heights))\n",
    "\n",
    "X = np.vstack((weights, heights)).T\n",
    "y = np.hstack((dog_targets,horse_targets))"
   ]
  },
  {
   "cell_type": "code",
   "execution_count": 4,
   "metadata": {
    "collapsed": false,
    "slideshow": {
     "slide_type": "slide"
    }
   },
   "outputs": [],
   "source": [
    "X_dogs = np.random.multivariate_normal(mean=[dog_weight_mean, \n",
    "                                             dog_height_mean],\n",
    "                               cov=np.diag([dog_weight_stddev**2, \n",
    "                                            dog_height_stddev**2]),\n",
    "                               size=number_of_observations)\n",
    "y_dogs = [0]*number_of_observations\n",
    "\n",
    "X_horses = np.random.multivariate_normal(mean=[horse_weight_mean, \n",
    "                                               horse_height_mean],\n",
    "                               cov=np.diag([horse_weight_stddev**2, \n",
    "                                            horse_height_stddev**2]),\n",
    "                               size=number_of_observations)\n",
    "y_horses = [1]*number_of_observations\n",
    "\n",
    "X = np.vstack((X_dogs, X_horses))\n",
    "y = np.concatenate((y_dogs, y_horses))\n",
    "\n"
   ]
  },
  {
   "cell_type": "code",
   "execution_count": 5,
   "metadata": {
    "collapsed": false,
    "slideshow": {
     "slide_type": "slide"
    }
   },
   "outputs": [
    {
     "data": {
      "text/plain": [
       "LogisticRegressionCV(Cs=50, class_weight=None, cv=None, dual=False,\n",
       "           fit_intercept=True, intercept_scaling=1.0, max_iter=100,\n",
       "           multi_class='ovr', n_jobs=1, penalty='l2', refit=True,\n",
       "           scoring=None, solver='lbfgs', tol=0.0001, verbose=0)"
      ]
     },
     "execution_count": 5,
     "metadata": {},
     "output_type": "execute_result"
    }
   ],
   "source": [
    "# MAKE MODEL\n",
    "model = LogisticRegressionCV(50)\n",
    "model.fit(X,y)"
   ]
  },
  {
   "cell_type": "code",
   "execution_count": 6,
   "metadata": {
    "collapsed": false,
    "slideshow": {
     "slide_type": "slide"
    }
   },
   "outputs": [
    {
     "data": {
      "text/html": [
       "<iframe id=\"igraph\" scrolling=\"no\" style=\"border:none;\"seamless=\"seamless\" src=\"https://plot.ly/~michaeljancsy/289.embed\" height=\"525\" width=\"100%\"></iframe>"
      ],
      "text/plain": [
       "<plotly.tools.PlotlyDisplay object>"
      ]
     },
     "execution_count": 6,
     "metadata": {},
     "output_type": "execute_result"
    }
   ],
   "source": [
    "# PLOT UNDERLYING DISTRIBUTIONS\n",
    "plot_weights = np.linspace(dog_weight_mean-4*dog_weight_stddev,\n",
    "                           horse_weight_mean+4*horse_weight_stddev,\n",
    "                           number_of_observations*2)\n",
    "\n",
    "dog_weight_distribution = Scatter(name='Dog Weight Distribution',\n",
    "                                  x=plot_weights,\n",
    "                                  y=sc.stats.norm.pdf(plot_weights,\n",
    "                                                      loc=dog_weight_mean,\n",
    "                                                      scale=dog_weight_stddev),\n",
    "                                  mode='lines+markers',\n",
    "                                  line=Line(shape='spline'))\n",
    "\n",
    "horse_weight_distribution = Scatter(name='Horse Weight Distribution',\n",
    "                                    x=plot_weights,\n",
    "                                    y=sc.stats.norm.pdf(plot_weights,\n",
    "                                                        loc=horse_weight_mean,\n",
    "                                                        scale=horse_weight_stddev),\n",
    "                                    mode='lines+markers',\n",
    "                                    line=Line(shape='spline'))\n",
    "\n",
    "distribution_data = Data([dog_weight_distribution, horse_weight_distribution])\n",
    "\n",
    "py.iplot(distribution_data, filename = 'underlying distributions')"
   ]
  },
  {
   "cell_type": "code",
   "execution_count": 7,
   "metadata": {
    "collapsed": false,
    "slideshow": {
     "slide_type": "slide"
    }
   },
   "outputs": [
    {
     "data": {
      "text/html": [
       "<iframe id=\"igraph\" scrolling=\"no\" style=\"border:none;\"seamless=\"seamless\" src=\"https://plot.ly/~michaeljancsy/291.embed\" height=\"525\" width=\"100%\"></iframe>"
      ],
      "text/plain": [
       "<plotly.tools.PlotlyDisplay object>"
      ]
     },
     "execution_count": 7,
     "metadata": {},
     "output_type": "execute_result"
    }
   ],
   "source": [
    "# PLOT HISTOGRAMS OF SAMPLE\n",
    "dog_weight_histogram = Histogram(x=X[y==0,0], \n",
    "                                 name='Dog Weights')\n",
    "horse_weight_histogram = Histogram(x=X[y==1,0], \n",
    "                                   name='Horse Weights')\n",
    "\n",
    "histogram_data = Data([dog_weight_histogram, horse_weight_histogram])\n",
    "\n",
    "py.iplot(histogram_data, filename = 'histograms of sample')"
   ]
  },
  {
   "cell_type": "code",
   "execution_count": 9,
   "metadata": {
    "collapsed": false,
    "slideshow": {
     "slide_type": "slide"
    }
   },
   "outputs": [
    {
     "data": {
      "text/html": [
       "<iframe id=\"igraph\" scrolling=\"no\" style=\"border:none;\"seamless=\"seamless\" src=\"https://plot.ly/~michaeljancsy/293.embed\" height=\"525\" width=\"100%\"></iframe>"
      ],
      "text/plain": [
       "<plotly.tools.PlotlyDisplay object>"
      ]
     },
     "execution_count": 9,
     "metadata": {},
     "output_type": "execute_result"
    }
   ],
   "source": [
    "# PLOT FEATURE SPACE\n",
    "dog_feature_space = Scatter(name='Dogs',\n",
    "                            x=dog_weights,\n",
    "                            y=dog_heights,\n",
    "                            mode='markers')\n",
    "horse_feature_space = Scatter(name='Horses',\n",
    "                              x=horse_weights,\n",
    "                              y=horse_heights,\n",
    "                              mode='markers')\n",
    "feature_data = Data([dog_feature_space, \n",
    "                     horse_feature_space])\n",
    "layout = Layout(title='Feature Space',\n",
    "                xaxis=XAxis(title='Weight (lbs)',\n",
    "                            range=[min(dog_weights),\n",
    "                                   max(horse_weights)]),\n",
    "    yaxis=YAxis(title='Height (in)',\n",
    "                range=[min(dog_heights),\n",
    "                       max(horse_heights)]))\n",
    "\n",
    "feature_space_figure = Figure(data=feature_data, layout=layout)\n",
    "\n",
    "py.iplot(feature_space_figure, filename = 'Feature Space')"
   ]
  },
  {
   "cell_type": "code",
   "execution_count": 10,
   "metadata": {
    "collapsed": false,
    "slideshow": {
     "slide_type": "slide"
    }
   },
   "outputs": [
    {
     "data": {
      "text/html": [
       "<iframe id=\"igraph\" scrolling=\"no\" style=\"border:none;\"seamless=\"seamless\" src=\"https://plot.ly/~michaeljancsy/295.embed\" height=\"525\" width=\"100%\"></iframe>"
      ],
      "text/plain": [
       "<plotly.tools.PlotlyDisplay object>"
      ]
     },
     "execution_count": 10,
     "metadata": {},
     "output_type": "execute_result"
    }
   ],
   "source": [
    "# PLOT DECISION BOUNDARY\n",
    "intercept = model.intercept_\n",
    "theta1, theta2 = model.coef_[0]\n",
    "\n",
    "def decision_boundary(x1):\n",
    "    x2 = -(intercept + theta1*x1)/theta2\n",
    "    return x2\n",
    "\n",
    "x1 = np.linspace(50,150,number_of_observations)\n",
    "x2 = decision_boundary(x1)\n",
    "\n",
    "decision_boundary_plot = Scatter(name='Decision Boundary',\n",
    "                                 x=x1,\n",
    "                                 y=x2,\n",
    "                                 mode='line')\n",
    "\n",
    "feature_data.append(decision_boundary_plot)\n",
    "feature_space_figure_with_boundary = Figure(data=feature_data, \n",
    "                                            layout=layout)\n",
    "\n",
    "py.iplot(feature_space_figure_with_boundary, filename = 'Feature Space with Boundary')\n"
   ]
  },
  {
   "cell_type": "code",
   "execution_count": 11,
   "metadata": {
    "collapsed": false,
    "slideshow": {
     "slide_type": "skip"
    }
   },
   "outputs": [],
   "source": [
    "sample_weights = np.linspace(50, 150, number_of_observations*2)\n",
    "sample_heights = np.linspace(0, 75, number_of_observations*2)\n",
    "samples = list(product(sample_weights, sample_heights))\n",
    "hypotheses = model.predict_proba(samples)[:,1]\n",
    "\n",
    "hypotheses = np.reshape(hypotheses,\n",
    "                 (len(sample_weights),\n",
    "                  len(sample_heights)))"
   ]
  },
  {
   "cell_type": "code",
   "execution_count": 12,
   "metadata": {
    "collapsed": false,
    "slideshow": {
     "slide_type": "slide"
    }
   },
   "outputs": [
    {
     "data": {
      "text/html": [
       "<iframe id=\"igraph\" scrolling=\"no\" style=\"border:none;\"seamless=\"seamless\" src=\"https://plot.ly/~michaeljancsy/309.embed\" height=\"525\" width=\"100%\"></iframe>"
      ],
      "text/plain": [
       "<plotly.tools.PlotlyDisplay object>"
      ]
     },
     "execution_count": 12,
     "metadata": {},
     "output_type": "execute_result"
    }
   ],
   "source": [
    "hypothesis_surface = Surface(z = hypotheses,\n",
    "                             x = sample_weights,\n",
    "                             y = sample_heights,\n",
    "                             colorscale = [[0, 'rgb(31,119,180)'], \n",
    "                                           [0.5, 'rgb(143, 123, 196)'], \n",
    "                                           [1, 'rgb(255,127,97)']],\n",
    "                             name='Hypothesis Function')\n",
    "\n",
    "dog_scatter_3d = Scatter3d(x = dog_weights,\n",
    "                           y = dog_heights,\n",
    "                           z = dog_targets,\n",
    "                           name = 'Dogs')\n",
    "\n",
    "horse_scatter_3d = Scatter3d(x = horse_weights,\n",
    "                             y = horse_heights,\n",
    "                             z = horse_targets,\n",
    "                             name = 'Horses')\n",
    "\n",
    "data_3d_plot = Data([dog_scatter_3d, \n",
    "                     horse_scatter_3d, \n",
    "                     hypothesis_surface])\n",
    "\n",
    "figure_3d = Figure(data=data_3d_plot)\n",
    "\n",
    "py.iplot(figure_3d, filename = '3D View')\n",
    "\n"
   ]
  },
  {
   "cell_type": "code",
   "execution_count": 13,
   "metadata": {
    "collapsed": false,
    "slideshow": {
     "slide_type": "skip"
    }
   },
   "outputs": [
    {
     "data": {
      "text/html": [
       "<iframe id=\"igraph\" scrolling=\"no\" style=\"border:none;\"seamless=\"seamless\" src=\"https://plot.ly/~michaeljancsy/1343.embed\" height=\"525\" width=\"100%\"></iframe>"
      ],
      "text/plain": [
       "<plotly.tools.PlotlyDisplay object>"
      ]
     },
     "execution_count": 13,
     "metadata": {},
     "output_type": "execute_result"
    }
   ],
   "source": [
    "# CONFUSION MATRIX PLOT\n",
    "examples = 25\n",
    "x_sigmoid = np.linspace(-10, 10,examples)\n",
    "y_sigmoid = 1./(1+np.e**(-(x_sigmoid)))\n",
    "\n",
    "sigmoid_plot = Scatter(x = x_sigmoid,\n",
    "                       y = y_sigmoid,\n",
    "                       mode = 'line')\n",
    "\n",
    "boundary_plot = Scatter(x = x_sigmoid,\n",
    "                        y = [.5]*len(x_sigmoid),\n",
    "                        mode = 'line')\n",
    "negatives = np.random.normal(loc=-5, scale=5, size=examples)\n",
    "positives = np.random.normal(loc=5, scale=5, size=examples)\n",
    "negative_plot = Scatter(x = negatives,\n",
    "                        y = [0]*len(negatives),\n",
    "                        mode='markers')\n",
    "positive_plot = Scatter(x = positives,\n",
    "                        y = [1]*len(positives),\n",
    "                        mode='markers')\n",
    "layout = Layout(xaxis = XAxis(range = [-10, 10],\n",
    "                              title = 'x'),\n",
    "                yaxis = YAxis(title = 'h(x) - Estimated Probability'))\n",
    "data = Data([negative_plot, positive_plot, sigmoid_plot])\n",
    "figure = Figure(data=data, layout=layout)\n",
    "\n",
    "py.iplot(figure)    "
   ]
  }
 ],
 "metadata": {
  "kernelspec": {
   "display_name": "Python 2",
   "language": "python",
   "name": "python2"
  },
  "language_info": {
   "codemirror_mode": {
    "name": "ipython",
    "version": 2
   },
   "file_extension": ".py",
   "mimetype": "text/x-python",
   "name": "python",
   "nbconvert_exporter": "python",
   "pygments_lexer": "ipython2",
   "version": "2.7.10"
  }
 },
 "nbformat": 4,
 "nbformat_minor": 0
}
