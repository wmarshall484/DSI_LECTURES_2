{
 "cells": [
  {
   "cell_type": "code",
   "execution_count": 67,
   "metadata": {
    "collapsed": true
   },
   "outputs": [],
   "source": [
    "import numpy as np\n",
    "np.random.seed = 0\n",
    "from scipy.stats import pearsonr\n",
    "import matplotlib.pylab as plt\n",
    "import pandas as pd\n",
    "%matplotlib inline"
   ]
  },
  {
   "cell_type": "code",
   "execution_count": 70,
   "metadata": {
    "collapsed": false
   },
   "outputs": [
    {
     "name": "stdout",
     "output_type": "stream",
     "text": [
      "sample mean  4.1\n"
     ]
    }
   ],
   "source": [
    "# draw from population\n",
    "surrogate_population = np.random.poisson(lam=4, size=30)\n",
    "print 'sample mean ', np.mean(surrogate_population)"
   ]
  },
  {
   "cell_type": "code",
   "execution_count": 71,
   "metadata": {
    "collapsed": false
   },
   "outputs": [],
   "source": [
    "def bootstrap_sample(surrogate_population, n_bootstraps):\n",
    "    samples = np.empty((0, len(surrogate_population)))\n",
    "    for _ in xrange(n_bootstraps):\n",
    "        indices = np.random.randint(low=0,\n",
    "                                    high=len(surrogate_population),\n",
    "                                   size=len(surrogate_population))\n",
    "        sample = surrogate_population[indices]\n",
    "        samples = np.vstack((samples, sample))\n",
    "    return samples\n",
    "\n",
    "bootstrap_samples = bootstrap_sample(surrogate_population, 10000)\n",
    "bootstrap_means = np.mean(bootstrap_samples, axis=1)"
   ]
  },
  {
   "cell_type": "code",
   "execution_count": 72,
   "metadata": {
    "collapsed": false
   },
   "outputs": [
    {
     "data": {
      "text/plain": [
       "array([[<matplotlib.axes._subplots.AxesSubplot object at 0x10a432990>]], dtype=object)"
      ]
     },
     "execution_count": 72,
     "metadata": {},
     "output_type": "execute_result"
    },
    {
     "data": {
      "image/png": "[encoded data removed]",
      "text/plain": [
       "<matplotlib.figure.Figure at 0x10a4ef050>"
      ]
     },
     "metadata": {},
     "output_type": "display_data"
    }
   ],
   "source": [
    "pd.DataFrame(bootstrap_means).hist(bins=20)"
   ]
  },
  {
   "cell_type": "code",
   "execution_count": null,
   "metadata": {
    "collapsed": false
   },
   "outputs": [],
   "source": []
  }
 ],
 "metadata": {
  "kernelspec": {
   "display_name": "Python 2",
   "language": "python",
   "name": "python2"
  }
 },
 "nbformat": 4,
 "nbformat_minor": 0
}
