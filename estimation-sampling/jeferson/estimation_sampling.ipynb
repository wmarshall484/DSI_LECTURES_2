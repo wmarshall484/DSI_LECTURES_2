{
 "cells": [
  {
   "cell_type": "code",
   "execution_count": null,
   "metadata": {
    "collapsed": false
   },
   "outputs": [],
   "source": [
    "import numpy as np\n",
    "from matplotlib import pyplot as plt\n",
    "from scipy.stats import norm\n",
    "%pylab inline"
   ]
  },
  {
   "cell_type": "markdown",
   "metadata": {},
   "source": [
    "## Confidence Interval Simulation"
   ]
  },
  {
   "cell_type": "code",
   "execution_count": null,
   "metadata": {
    "collapsed": false
   },
   "outputs": [],
   "source": [
    "from scipy.stats import norm\n",
    "\n",
    "# Weird distribution\n",
    "npts = 1000\n",
    "n1 = norm(-5,1)  # Mean=-5, Sigma=1\n",
    "n2 = norm(2,2)\n",
    "n3 = norm(4,.2)\n",
    "\n",
    "# 1000 points from each normal distribution\n",
    "obs = np.array([n1.rvs(npts), n2.rvs(npts), n3.rvs(npts)]).ravel()\n",
    "plt.hist(obs, bins=30)"
   ]
  },
  {
   "cell_type": "code",
   "execution_count": null,
   "metadata": {
    "collapsed": false
   },
   "outputs": [],
   "source": [
    "# Collect nsamp samples of size sampsize\n",
    "nsamp = 1000\n",
    "sampsize = 200\n",
    "sample_list = [np.random.choice(obs,sampsize) for i in range(nsamp)]\n",
    " \n",
    "# Get the mean of each sample and plot a histogram\n",
    "sample_means = [np.mean(x) for x in sample_list]\n",
    "plt.hist(sample_means, bins=20)"
   ]
  },
  {
   "cell_type": "code",
   "execution_count": null,
   "metadata": {
    "collapsed": true
   },
   "outputs": [],
   "source": []
  }
 ],
 "metadata": {
  "kernelspec": {
   "display_name": "Python 2",
   "language": "python",
   "name": "python2"
  },
  "language_info": {
   "codemirror_mode": {
    "name": "ipython",
    "version": 2
   },
   "file_extension": ".py",
   "mimetype": "text/x-python",
   "name": "python",
   "nbconvert_exporter": "python",
   "pygments_lexer": "ipython2",
   "version": "2.7.10"
  }
 },
 "nbformat": 4,
 "nbformat_minor": 0
}
