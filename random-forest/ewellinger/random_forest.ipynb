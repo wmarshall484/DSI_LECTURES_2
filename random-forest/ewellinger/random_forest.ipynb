{
 "cells": [
  {
   "cell_type": "markdown",
   "metadata": {},
   "source": [
    "# Random-Forests in Scikit-Learn\n",
    "\n",
    "For this example we will be using the [diamonds dataset](http://docs.ggplot2.org/0.9.3.1/diamonds.html) to demonstrate using [Scikit-Learn's Random Forest Regressor](http://scikit-learn.org/stable/modules/generated/sklearn.ensemble.RandomForestRegressor.html) (dealing with classification is similar)."
   ]
  },
  {
   "cell_type": "code",
   "execution_count": 1,
   "metadata": {
    "collapsed": true
   },
   "outputs": [],
   "source": [
    "# First let's import the packages we'll need\n",
    "%matplotlib inline\n",
    "import pandas as pd\n",
    "import numpy as np\n",
    "import matplotlib.pyplot as plt\n",
    "from sklearn.ensemble import RandomForestRegressor\n",
    "from sklearn.metrics import mean_squared_error\n",
    "\n",
    "# Set style options\n",
    "plt.style.use('ggplot')"
   ]
  },
  {
   "cell_type": "code",
   "execution_count": 2,
   "metadata": {
    "collapsed": true
   },
   "outputs": [],
   "source": [
    "# Read in diamonds dataset\n",
    "# See http://docs.ggplot2.org/0.9.3.1/diamonds.html for more info\n",
    "df = pd.read_csv('./data/diamonds.csv')\n",
    "\n",
    "# Get dummies of some categorical columns\n",
    "df = pd.get_dummies(df, columns=['cut', 'color', 'clarity'], drop_first=True)"
   ]
  },
  {
   "cell_type": "code",
   "execution_count": 3,
   "metadata": {
    "collapsed": false
   },
   "outputs": [
    {
     "name": "stdout",
     "output_type": "stream",
     "text": [
      "<class 'pandas.core.frame.DataFrame'>\n",
      "RangeIndex: 53940 entries, 0 to 53939\n",
      "Data columns (total 24 columns):\n",
      "carat            53940 non-null float64\n",
      "depth            53940 non-null float64\n",
      "table            53940 non-null float64\n",
      "price            53940 non-null int64\n",
      "x                53940 non-null float64\n",
      "y                53940 non-null float64\n",
      "z                53940 non-null float64\n",
      "cut_Good         53940 non-null float64\n",
      "cut_Ideal        53940 non-null float64\n",
      "cut_Premium      53940 non-null float64\n",
      "cut_Very Good    53940 non-null float64\n",
      "color_E          53940 non-null float64\n",
      "color_F          53940 non-null float64\n",
      "color_G          53940 non-null float64\n",
      "color_H          53940 non-null float64\n",
      "color_I          53940 non-null float64\n",
      "color_J          53940 non-null float64\n",
      "clarity_IF       53940 non-null float64\n",
      "clarity_SI1      53940 non-null float64\n",
      "clarity_SI2      53940 non-null float64\n",
      "clarity_VS1      53940 non-null float64\n",
      "clarity_VS2      53940 non-null float64\n",
      "clarity_VVS1     53940 non-null float64\n",
      "clarity_VVS2     53940 non-null float64\n",
      "dtypes: float64(23), int64(1)\n",
      "memory usage: 9.9 MB\n"
     ]
    }
   ],
   "source": [
    "df.info()"
   ]
  },
  {
   "cell_type": "code",
   "execution_count": 4,
   "metadata": {
    "collapsed": false
   },
   "outputs": [
    {
     "data": {
      "text/html": [
       "<div>\n",
       "<table border=\"1\" class=\"dataframe\">\n",
       "  <thead>\n",
       "    <tr style=\"text-align: right;\">\n",
       "      <th></th>\n",
       "      <th>carat</th>\n",
       "      <th>depth</th>\n",
       "      <th>table</th>\n",
       "      <th>price</th>\n",
       "      <th>x</th>\n",
       "      <th>y</th>\n",
       "      <th>z</th>\n",
       "      <th>cut_Good</th>\n",
       "      <th>cut_Ideal</th>\n",
       "      <th>cut_Premium</th>\n",
       "      <th>...</th>\n",
       "      <th>color_H</th>\n",
       "      <th>color_I</th>\n",
       "      <th>color_J</th>\n",
       "      <th>clarity_IF</th>\n",
       "      <th>clarity_SI1</th>\n",
       "      <th>clarity_SI2</th>\n",
       "      <th>clarity_VS1</th>\n",
       "      <th>clarity_VS2</th>\n",
       "      <th>clarity_VVS1</th>\n",
       "      <th>clarity_VVS2</th>\n",
       "    </tr>\n",
       "  </thead>\n",
       "  <tbody>\n",
       "    <tr>\n",
       "      <th>count</th>\n",
       "      <td>53940.000000</td>\n",
       "      <td>53940.000000</td>\n",
       "      <td>53940.000000</td>\n",
       "      <td>53940.000000</td>\n",
       "      <td>53940.000000</td>\n",
       "      <td>53940.000000</td>\n",
       "      <td>53940.000000</td>\n",
       "      <td>53940.000000</td>\n",
       "      <td>53940.000000</td>\n",
       "      <td>53940.000000</td>\n",
       "      <td>...</td>\n",
       "      <td>53940.000000</td>\n",
       "      <td>53940.000000</td>\n",
       "      <td>53940.000000</td>\n",
       "      <td>53940.000000</td>\n",
       "      <td>53940.000000</td>\n",
       "      <td>53940.000000</td>\n",
       "      <td>53940.000000</td>\n",
       "      <td>53940.000000</td>\n",
       "      <td>53940.000000</td>\n",
       "      <td>53940.000000</td>\n",
       "    </tr>\n",
       "    <tr>\n",
       "      <th>mean</th>\n",
       "      <td>0.797940</td>\n",
       "      <td>61.749405</td>\n",
       "      <td>57.457184</td>\n",
       "      <td>3932.799722</td>\n",
       "      <td>5.731157</td>\n",
       "      <td>5.734526</td>\n",
       "      <td>3.538734</td>\n",
       "      <td>0.090953</td>\n",
       "      <td>0.399537</td>\n",
       "      <td>0.255673</td>\n",
       "      <td>...</td>\n",
       "      <td>0.153949</td>\n",
       "      <td>0.100519</td>\n",
       "      <td>0.052058</td>\n",
       "      <td>0.033185</td>\n",
       "      <td>0.242214</td>\n",
       "      <td>0.170449</td>\n",
       "      <td>0.151483</td>\n",
       "      <td>0.227253</td>\n",
       "      <td>0.067760</td>\n",
       "      <td>0.093919</td>\n",
       "    </tr>\n",
       "    <tr>\n",
       "      <th>std</th>\n",
       "      <td>0.474011</td>\n",
       "      <td>1.432621</td>\n",
       "      <td>2.234491</td>\n",
       "      <td>3989.439738</td>\n",
       "      <td>1.121761</td>\n",
       "      <td>1.142135</td>\n",
       "      <td>0.705699</td>\n",
       "      <td>0.287545</td>\n",
       "      <td>0.489808</td>\n",
       "      <td>0.436243</td>\n",
       "      <td>...</td>\n",
       "      <td>0.360903</td>\n",
       "      <td>0.300694</td>\n",
       "      <td>0.222146</td>\n",
       "      <td>0.179121</td>\n",
       "      <td>0.428427</td>\n",
       "      <td>0.376030</td>\n",
       "      <td>0.358522</td>\n",
       "      <td>0.419061</td>\n",
       "      <td>0.251337</td>\n",
       "      <td>0.291719</td>\n",
       "    </tr>\n",
       "    <tr>\n",
       "      <th>min</th>\n",
       "      <td>0.200000</td>\n",
       "      <td>43.000000</td>\n",
       "      <td>43.000000</td>\n",
       "      <td>326.000000</td>\n",
       "      <td>0.000000</td>\n",
       "      <td>0.000000</td>\n",
       "      <td>0.000000</td>\n",
       "      <td>0.000000</td>\n",
       "      <td>0.000000</td>\n",
       "      <td>0.000000</td>\n",
       "      <td>...</td>\n",
       "      <td>0.000000</td>\n",
       "      <td>0.000000</td>\n",
       "      <td>0.000000</td>\n",
       "      <td>0.000000</td>\n",
       "      <td>0.000000</td>\n",
       "      <td>0.000000</td>\n",
       "      <td>0.000000</td>\n",
       "      <td>0.000000</td>\n",
       "      <td>0.000000</td>\n",
       "      <td>0.000000</td>\n",
       "    </tr>\n",
       "    <tr>\n",
       "      <th>25%</th>\n",
       "      <td>0.400000</td>\n",
       "      <td>61.000000</td>\n",
       "      <td>56.000000</td>\n",
       "      <td>950.000000</td>\n",
       "      <td>4.710000</td>\n",
       "      <td>4.720000</td>\n",
       "      <td>2.910000</td>\n",
       "      <td>0.000000</td>\n",
       "      <td>0.000000</td>\n",
       "      <td>0.000000</td>\n",
       "      <td>...</td>\n",
       "      <td>0.000000</td>\n",
       "      <td>0.000000</td>\n",
       "      <td>0.000000</td>\n",
       "      <td>0.000000</td>\n",
       "      <td>0.000000</td>\n",
       "      <td>0.000000</td>\n",
       "      <td>0.000000</td>\n",
       "      <td>0.000000</td>\n",
       "      <td>0.000000</td>\n",
       "      <td>0.000000</td>\n",
       "    </tr>\n",
       "    <tr>\n",
       "      <th>50%</th>\n",
       "      <td>0.700000</td>\n",
       "      <td>61.800000</td>\n",
       "      <td>57.000000</td>\n",
       "      <td>2401.000000</td>\n",
       "      <td>5.700000</td>\n",
       "      <td>5.710000</td>\n",
       "      <td>3.530000</td>\n",
       "      <td>0.000000</td>\n",
       "      <td>0.000000</td>\n",
       "      <td>0.000000</td>\n",
       "      <td>...</td>\n",
       "      <td>0.000000</td>\n",
       "      <td>0.000000</td>\n",
       "      <td>0.000000</td>\n",
       "      <td>0.000000</td>\n",
       "      <td>0.000000</td>\n",
       "      <td>0.000000</td>\n",
       "      <td>0.000000</td>\n",
       "      <td>0.000000</td>\n",
       "      <td>0.000000</td>\n",
       "      <td>0.000000</td>\n",
       "    </tr>\n",
       "    <tr>\n",
       "      <th>75%</th>\n",
       "      <td>1.040000</td>\n",
       "      <td>62.500000</td>\n",
       "      <td>59.000000</td>\n",
       "      <td>5324.250000</td>\n",
       "      <td>6.540000</td>\n",
       "      <td>6.540000</td>\n",
       "      <td>4.040000</td>\n",
       "      <td>0.000000</td>\n",
       "      <td>1.000000</td>\n",
       "      <td>1.000000</td>\n",
       "      <td>...</td>\n",
       "      <td>0.000000</td>\n",
       "      <td>0.000000</td>\n",
       "      <td>0.000000</td>\n",
       "      <td>0.000000</td>\n",
       "      <td>0.000000</td>\n",
       "      <td>0.000000</td>\n",
       "      <td>0.000000</td>\n",
       "      <td>0.000000</td>\n",
       "      <td>0.000000</td>\n",
       "      <td>0.000000</td>\n",
       "    </tr>\n",
       "    <tr>\n",
       "      <th>max</th>\n",
       "      <td>5.010000</td>\n",
       "      <td>79.000000</td>\n",
       "      <td>95.000000</td>\n",
       "      <td>18823.000000</td>\n",
       "      <td>10.740000</td>\n",
       "      <td>58.900000</td>\n",
       "      <td>31.800000</td>\n",
       "      <td>1.000000</td>\n",
       "      <td>1.000000</td>\n",
       "      <td>1.000000</td>\n",
       "      <td>...</td>\n",
       "      <td>1.000000</td>\n",
       "      <td>1.000000</td>\n",
       "      <td>1.000000</td>\n",
       "      <td>1.000000</td>\n",
       "      <td>1.000000</td>\n",
       "      <td>1.000000</td>\n",
       "      <td>1.000000</td>\n",
       "      <td>1.000000</td>\n",
       "      <td>1.000000</td>\n",
       "      <td>1.000000</td>\n",
       "    </tr>\n",
       "  </tbody>\n",
       "</table>\n",
       "<p>8 rows × 24 columns</p>\n",
       "</div>"
      ],
      "text/plain": [
       "              carat         depth         table         price             x  \\\n",
       "count  53940.000000  53940.000000  53940.000000  53940.000000  53940.000000   \n",
       "mean       0.797940     61.749405     57.457184   3932.799722      5.731157   \n",
       "std        0.474011      1.432621      2.234491   3989.439738      1.121761   \n",
       "min        0.200000     43.000000     43.000000    326.000000      0.000000   \n",
       "25%        0.400000     61.000000     56.000000    950.000000      4.710000   \n",
       "50%        0.700000     61.800000     57.000000   2401.000000      5.700000   \n",
       "75%        1.040000     62.500000     59.000000   5324.250000      6.540000   \n",
       "max        5.010000     79.000000     95.000000  18823.000000     10.740000   \n",
       "\n",
       "                  y             z      cut_Good     cut_Ideal   cut_Premium  \\\n",
       "count  53940.000000  53940.000000  53940.000000  53940.000000  53940.000000   \n",
       "mean       5.734526      3.538734      0.090953      0.399537      0.255673   \n",
       "std        1.142135      0.705699      0.287545      0.489808      0.436243   \n",
       "min        0.000000      0.000000      0.000000      0.000000      0.000000   \n",
       "25%        4.720000      2.910000      0.000000      0.000000      0.000000   \n",
       "50%        5.710000      3.530000      0.000000      0.000000      0.000000   \n",
       "75%        6.540000      4.040000      0.000000      1.000000      1.000000   \n",
       "max       58.900000     31.800000      1.000000      1.000000      1.000000   \n",
       "\n",
       "           ...            color_H       color_I       color_J    clarity_IF  \\\n",
       "count      ...       53940.000000  53940.000000  53940.000000  53940.000000   \n",
       "mean       ...           0.153949      0.100519      0.052058      0.033185   \n",
       "std        ...           0.360903      0.300694      0.222146      0.179121   \n",
       "min        ...           0.000000      0.000000      0.000000      0.000000   \n",
       "25%        ...           0.000000      0.000000      0.000000      0.000000   \n",
       "50%        ...           0.000000      0.000000      0.000000      0.000000   \n",
       "75%        ...           0.000000      0.000000      0.000000      0.000000   \n",
       "max        ...           1.000000      1.000000      1.000000      1.000000   \n",
       "\n",
       "        clarity_SI1   clarity_SI2   clarity_VS1   clarity_VS2  clarity_VVS1  \\\n",
       "count  53940.000000  53940.000000  53940.000000  53940.000000  53940.000000   \n",
       "mean       0.242214      0.170449      0.151483      0.227253      0.067760   \n",
       "std        0.428427      0.376030      0.358522      0.419061      0.251337   \n",
       "min        0.000000      0.000000      0.000000      0.000000      0.000000   \n",
       "25%        0.000000      0.000000      0.000000      0.000000      0.000000   \n",
       "50%        0.000000      0.000000      0.000000      0.000000      0.000000   \n",
       "75%        0.000000      0.000000      0.000000      0.000000      0.000000   \n",
       "max        1.000000      1.000000      1.000000      1.000000      1.000000   \n",
       "\n",
       "       clarity_VVS2  \n",
       "count  53940.000000  \n",
       "mean       0.093919  \n",
       "std        0.291719  \n",
       "min        0.000000  \n",
       "25%        0.000000  \n",
       "50%        0.000000  \n",
       "75%        0.000000  \n",
       "max        1.000000  \n",
       "\n",
       "[8 rows x 24 columns]"
      ]
     },
     "execution_count": 4,
     "metadata": {},
     "output_type": "execute_result"
    }
   ],
   "source": [
    "df.describe()"
   ]
  },
  {
   "cell_type": "markdown",
   "metadata": {},
   "source": [
    "## Feature Importances\n",
    "\n",
    "Let's first look at a graph using the built in Scikit-Learn feature importance attribute.  For convience, the function `feature_importance` will create our feature importance plot for us..."
   ]
  },
  {
   "cell_type": "code",
   "execution_count": 5,
   "metadata": {
    "collapsed": true
   },
   "outputs": [],
   "source": [
    "def feature_importance(rf, col_labels=None, importances=None, err=True):\n",
    "    if isinstance(importances, type(None)):\n",
    "        importances = rf.feature_importances_\n",
    "        std = np.std([tree.feature_importances_ for tree in rf.estimators_], axis=0)\n",
    "    idxs = np.argsort(importances)[::-1]\n",
    "\n",
    "    if isinstance(col_labels, type(None)):\n",
    "        col_labels = {}\n",
    "    else:\n",
    "        col_labels = {idx: label for idx, label in enumerate(col_labels)}\n",
    "\n",
    "    # Print the ranking\n",
    "    print('Feature ranking:')\n",
    "    for feat in range(importances.shape[0]):\n",
    "        print(\"{}. {} ({})\".format(feat+1, col_labels.get(idxs[feat], idxs[feat]), importances[idxs[feat]]))\n",
    "\n",
    "    plt.figure(figsize=(10, 8))\n",
    "    plt.title('Feature Importances')\n",
    "    if err:\n",
    "        plt.bar(range(importances.shape[0]), importances[idxs], yerr=std[idxs], align='center')\n",
    "    else:\n",
    "        plt.bar(range(importances.shape[0]), importances[idxs], align='center')\n",
    "    xticks = [col_labels.get(idx, idx) for idx in idxs]\n",
    "    plt.xticks(range(importances.shape[0]), xticks, rotation=-45)\n",
    "    plt.xlim([-1, importances.shape[0]])\n",
    "    plt.tight_layout()"
   ]
  },
  {
   "cell_type": "code",
   "execution_count": 6,
   "metadata": {
    "collapsed": false
   },
   "outputs": [
    {
     "name": "stdout",
     "output_type": "stream",
     "text": [
      "Feature ranking:\n",
      "1. carat (0.618561360826)\n",
      "2. y (0.269352579855)\n",
      "3. clarity_SI2 (0.0194505226746)\n",
      "4. clarity_SI1 (0.0139472217024)\n",
      "5. color_J (0.0113181909223)\n",
      "6. color_I (0.0085500398463)\n",
      "7. color_H (0.00718807006449)\n",
      "8. z (0.00601150437747)\n",
      "9. depth (0.00585093471215)\n",
      "10. x (0.00564108880239)\n",
      "11. clarity_VS2 (0.00520856170556)\n",
      "12. clarity_VVS2 (0.004993243633)\n",
      "13. clarity_IF (0.00483114829743)\n",
      "14. clarity_VVS1 (0.00466614781693)\n",
      "15. clarity_VS1 (0.00407792018927)\n",
      "16. color_G (0.00319833201969)\n",
      "17. table (0.00302819875478)\n",
      "18. color_F (0.00109482026955)\n",
      "19. cut_Ideal (0.00102923266885)\n",
      "20. color_E (0.000894832864822)\n",
      "21. cut_Premium (0.000416274748709)\n",
      "22. cut_Good (0.000386456490274)\n",
      "23. cut_Very Good (0.000303316758249)\n"
     ]
    },
    {
     "data": {
      "image/png": "[encoded data removed]",
      "text/plain": [
       "<matplotlib.figure.Figure at 0x116ba2a50>"
      ]
     },
     "metadata": {},
     "output_type": "display_data"
    }
   ],
   "source": [
    "y = df.pop('price').values\n",
    "X = df.values\n",
    "\n",
    "rf = RandomForestRegressor(n_estimators=100)\n",
    "rf.fit(X, y)\n",
    "\n",
    "feature_importance(rf, df.columns.tolist())"
   ]
  },
  {
   "cell_type": "markdown",
   "metadata": {},
   "source": [
    "### Leave One Out Feature Importance\n",
    "\n",
    "Let's compare this to a leave one out feature importance whereby we iteratively drop each feature from our model and compare the change in MSE from before and after that feature was removed.  If the feature isn't important the resulting change in MSE should be small."
   ]
  },
  {
   "cell_type": "code",
   "execution_count": 7,
   "metadata": {
    "collapsed": true
   },
   "outputs": [],
   "source": [
    "def leave_one_out_feature_import(X, y, model, criterion=mean_squared_error, norm=True):\n",
    "    ''' Drop each feature out and observe the effect on the specified criterion\n",
    "    INPUT:\n",
    "        X: numpy array\n",
    "            Numpy array holding all features\n",
    "        y: numpy array\n",
    "            Numpy array of targets\n",
    "        model: Model implementing .fit() and .predict()\n",
    "        criterion: function evaluating a particular metric\n",
    "            This function should be called like so: criterion(y_true, y_pred)\n",
    "    OUTPUT:\n",
    "        importances: numpy array\n",
    "    '''\n",
    "    model.fit(X, y)\n",
    "    base = criterion(y, model.predict(X))\n",
    "    importances = []\n",
    "\n",
    "    for feat in range(X.shape[1]):\n",
    "        X_sub = X[:, np.array([col != feat for col in range(X.shape[1])])]\n",
    "        model.fit(X_sub, y)\n",
    "        importances.append(abs(base - criterion(y, model.predict(X_sub))))\n",
    "\n",
    "    importances = np.array(importances)\n",
    "    if norm:\n",
    "        importances = importances / np.sum(importances)\n",
    "    return importances"
   ]
  },
  {
   "cell_type": "code",
   "execution_count": 8,
   "metadata": {
    "collapsed": false
   },
   "outputs": [
    {
     "name": "stdout",
     "output_type": "stream",
     "text": [
      "Feature ranking:\n",
      "1. color_J (0.154859238191)\n",
      "2. color_I (0.118499882631)\n",
      "3. clarity_VS1 (0.100736963509)\n",
      "4. clarity_VS2 (0.0938223964663)\n",
      "5. clarity_VVS2 (0.0925021264022)\n",
      "6. clarity_VVS1 (0.0891325398241)\n",
      "7. clarity_IF (0.0869917985206)\n",
      "8. color_H (0.0860718320484)\n",
      "9. color_G (0.0486975504867)\n",
      "10. clarity_SI1 (0.047449317829)\n",
      "11. carat (0.0196462434719)\n",
      "12. color_F (0.0180931343938)\n",
      "13. clarity_SI2 (0.0138746807024)\n",
      "14. cut_Very Good (0.00471763294253)\n",
      "15. y (0.00464188667718)\n",
      "16. cut_Good (0.00421003448687)\n",
      "17. color_E (0.00389561517461)\n",
      "18. x (0.00336246285797)\n",
      "19. table (0.00255238961453)\n",
      "20. depth (0.0025161815981)\n",
      "21. cut_Ideal (0.00198161944995)\n",
      "22. z (0.00142923691308)\n",
      "23. cut_Premium (0.000315235808528)\n"
     ]
    },
    {
     "data": {
      "image/png": "[encoded data removed]",
      "text/plain": [
       "<matplotlib.figure.Figure at 0x115e576d0>"
      ]
     },
     "metadata": {},
     "output_type": "display_data"
    }
   ],
   "source": [
    "loo_importance = leave_one_out_feature_import(X, y, rf)\n",
    "feature_importance(rf, df.columns.tolist(), importances=loo_importance, err=False)"
   ]
  },
  {
   "cell_type": "markdown",
   "metadata": {},
   "source": [
    "Why are these estimations of importance so different?  One possible explaination is that features that were deemed to be important in our initial feature importance plot can be represented by other features in our dataset.  For example, `carat` (a measure of weight) can likely be accurately represented by `x`, `y`, `z` (length, width, and depth respectively).\n",
    "\n",
    "This also points out a crucial nuance to Scikit-Learn's measure of feature importance: continuous features often are deemed more important than categorical ones.  This is due to the fact that a features importance are calculated by measuring the total decrease in node impurity (weighted by the probability of reaching that node) averaged over all trees of the ensemble.  A boolean feature can only be split on once in a given tree whereas a continous feature can be split on multiple times.\n",
    "\n",
    "Indeed, if you drop both `carat` and `y`, continous features `x` and `z` move up to be the most important features by sklearn's measure."
   ]
  },
  {
   "cell_type": "markdown",
   "metadata": {},
   "source": [
    "### Permuted Feature Importance\n",
    "\n",
    "A similar approach to dropping an entire column is to instead permute that column.  This would give you a sense of how your model would be effected by replacing a feature with random noise.  If the feature truly wasn't important, permuting it wouldn't effect the resulting MSE.\n",
    "\n",
    "The result is very similar to our previous approach..."
   ]
  },
  {
   "cell_type": "code",
   "execution_count": 9,
   "metadata": {
    "collapsed": true
   },
   "outputs": [],
   "source": [
    "def permuted_feature_import(X, y, model, criterion=mean_squared_error, norm=True):\n",
    "    ''' Drop each feature out and observe the effect on the specified criterion\n",
    "    INPUT:\n",
    "        X: numpy array\n",
    "            Numpy array holding all features\n",
    "        y: numpy array\n",
    "            Numpy array of targets\n",
    "        model: Model implementing .fit() and .predict()\n",
    "        criterion: function evaluating a particular metric\n",
    "            This function should be called like so: criterion(y_true, y_pred)\n",
    "    OUTPUT:\n",
    "        importances: numpy array\n",
    "    '''\n",
    "    model.fit(X, y)\n",
    "    base = criterion(y, model.predict(X))\n",
    "    importances = []\n",
    "\n",
    "    for feat in range(X.shape[1]):\n",
    "        Xc = np.copy(X)\n",
    "        np.random.shuffle(Xc[:, feat])\n",
    "        model.fit(Xc, y)\n",
    "        importances.append(abs(base - criterion(y, model.predict(Xc))))\n",
    "\n",
    "    importances = np.array(importances)\n",
    "    if norm:\n",
    "        importances = importances / np.sum(importances)\n",
    "    return importances"
   ]
  },
  {
   "cell_type": "code",
   "execution_count": 10,
   "metadata": {
    "collapsed": false
   },
   "outputs": [
    {
     "name": "stdout",
     "output_type": "stream",
     "text": [
      "Feature ranking:\n",
      "1. color_J (0.145052409101)\n",
      "2. color_I (0.120642284059)\n",
      "3. clarity_VVS2 (0.100625915161)\n",
      "4. clarity_VS2 (0.090941643857)\n",
      "5. clarity_VS1 (0.0878452307219)\n",
      "6. clarity_IF (0.0857274222348)\n",
      "7. clarity_VVS1 (0.0845622020999)\n",
      "8. color_H (0.083763322616)\n",
      "9. clarity_SI1 (0.0530575255619)\n",
      "10. color_G (0.0464863582451)\n",
      "11. carat (0.0211355044577)\n",
      "12. color_F (0.0144683637957)\n",
      "13. clarity_SI2 (0.0132474328562)\n",
      "14. z (0.0131600651053)\n",
      "15. depth (0.0110022743216)\n",
      "16. table (0.00819853837838)\n",
      "17. x (0.0072347233763)\n",
      "18. color_E (0.0033848007809)\n",
      "19. cut_Ideal (0.00281533285779)\n",
      "20. cut_Very Good (0.00224790672323)\n",
      "21. cut_Good (0.00219751709702)\n",
      "22. y (0.0020674707975)\n",
      "23. cut_Premium (0.000135755795236)\n"
     ]
    },
    {
     "data": {
      "image/png": "[encoded data removed]",
      "text/plain": [
       "<matplotlib.figure.Figure at 0x1151891d0>"
      ]
     },
     "metadata": {},
     "output_type": "display_data"
    }
   ],
   "source": [
    "permute_importance = permuted_feature_import(X, y, rf)\n",
    "feature_importance(rf, df.columns.tolist(), importances=permute_importance, err=False)"
   ]
  },
  {
   "cell_type": "markdown",
   "metadata": {},
   "source": [
    "### Interpreting our Forest\n",
    "\n",
    "We can use the package `treeinterpreter` to get a sense for how each feature is changing our prediction for a given data point..."
   ]
  },
  {
   "cell_type": "code",
   "execution_count": null,
   "metadata": {
    "collapsed": true
   },
   "outputs": [],
   "source": [
    "# pip install tree interpreter\n",
    "from treeinterpreter import treeinterpreter as ti\n",
    "\n",
    "rf.fit(X, y)\n",
    "\n",
    "# Get feature contributions\n",
    "prediction, bias, contributions = ti.predict(rf, X)\n",
    "df_contrib = pd.DataFrame(contributions, columns=df.columns.tolist())\n",
    "df_contrib['bias'] = bias\n",
    "df_contrib['prediction'] = prediction\n",
    "\n",
    "# First plot a scatter of caret vs. y\n",
    "df.plot('carat', 'y', kind='scatter')"
   ]
  },
  {
   "cell_type": "code",
   "execution_count": null,
   "metadata": {
    "collapsed": true
   },
   "outputs": [],
   "source": [
    "# Plot feature contributions for top two variables\n",
    "df_contrib.plot('carat', 'y', kind='scatter')"
   ]
  },
  {
   "cell_type": "markdown",
   "metadata": {},
   "source": [
    "## Partial Dependency Plots"
   ]
  },
  {
   "cell_type": "code",
   "execution_count": null,
   "metadata": {
    "collapsed": true
   },
   "outputs": [],
   "source": [
    "from sklearn.ensemble.partial_dependence import plot_partial_dependence\n",
    "from sklearn.ensemble.partial_dependence import partial_dependence"
   ]
  }
 ],
 "metadata": {
  "anaconda-cloud": {},
  "kernelspec": {
   "display_name": "Python [conda root]",
   "language": "python",
   "name": "conda-root-py"
  },
  "language_info": {
   "codemirror_mode": {
    "name": "ipython",
    "version": 2
   },
   "file_extension": ".py",
   "mimetype": "text/x-python",
   "name": "python",
   "nbconvert_exporter": "python",
   "pygments_lexer": "ipython2",
   "version": "2.7.12"
  }
 },
 "nbformat": 4,
 "nbformat_minor": 1
}
