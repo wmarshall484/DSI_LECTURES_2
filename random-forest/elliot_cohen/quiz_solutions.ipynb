{
 "cells": [
  {
   "cell_type": "markdown",
   "metadata": {},
   "source": [
    "# Quiz Solutions"
   ]
  },
  {
   "cell_type": "markdown",
   "metadata": {},
   "source": [
    "$\\frac{\\mathrm d}{\\mathrm d x} ( 3x^2 + 3 ) = 6x $\n",
    "\n",
    "$\\frac{\\mathrm d}{\\mathrm d x} \\left(\\frac{2}{x^5}\\right) = \\left(\\frac{-10}{x^6}\\right)$\n",
    "\n",
    "$\\frac{\\mathrm d}{\\mathrm d x} \\left( x^2 e^x \\right) = 2x e^x + e^x x^2$\n",
    "\n",
    "Who is the Prime Minister of Canada? Justin Trudeau\n",
    "\n",
    "La Paz is the capital of what South American country? Bolivia\n",
    "\n",
    "_Taraxacum officinale_, the common dandelion, is a flowering herbaceous perennial plant of what family? Asteraceae"
   ]
  },
  {
   "cell_type": "code",
   "execution_count": null,
   "metadata": {},
   "outputs": [],
   "source": []
  }
 ],
 "metadata": {
  "kernelspec": {
   "display_name": "Python 3",
   "language": "python",
   "name": "python3"
  },
  "language_info": {
   "codemirror_mode": {
    "name": "ipython",
    "version": 3
   },
   "file_extension": ".py",
   "mimetype": "text/x-python",
   "name": "python",
   "nbconvert_exporter": "python",
   "pygments_lexer": "ipython3",
   "version": "3.6.5"
  }
 },
 "nbformat": 4,
 "nbformat_minor": 2
}
