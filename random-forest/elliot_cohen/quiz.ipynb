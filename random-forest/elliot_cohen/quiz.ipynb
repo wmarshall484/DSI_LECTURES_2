{
 "cells": [
  {
   "cell_type": "markdown",
   "metadata": {},
   "source": [
    "# Quiz!\n",
    "\n",
    "## Instructions\n",
    "1. Complete the following 6-question quiz without the help of your neighbor or the internet.\n",
    "2. When 4 minutes are up, congregate with the 5 or 7 people sitting closest to you.\n",
    "    - Compare your answers and identify the majority answer for each question. \n",
    "    - For example, if 2 people answered \"red\" and 3 answered \"blue\", choose \"blue\".\n",
    "4. Compile your team's majority-rules answers.\n",
    "    - When all teams are done (no more than 2 minutes to discuss) the official solutions will be released.\n",
    "    - Score your team's answers against the solutions. \n",
    "    - Score your own answers against the solutions. \n",
    "    - Who did better?\n",
    "5. Come back together as one big group to discuss."
   ]
  },
  {
   "cell_type": "markdown",
   "metadata": {},
   "source": [
    "$$\\frac{\\mathrm d}{\\mathrm d x} ( 3x^2 + 3 )$$"
   ]
  },
  {
   "cell_type": "markdown",
   "metadata": {},
   "source": [
    "$$\\frac{\\mathrm d}{\\mathrm d x} \\left(\\frac{2}{x^5}\\right) $$"
   ]
  },
  {
   "cell_type": "markdown",
   "metadata": {},
   "source": [
    "$$\\frac{\\mathrm d}{\\mathrm d x} \\left( x^2 e^x \\right)$$"
   ]
  },
  {
   "cell_type": "markdown",
   "metadata": {},
   "source": [
    "Who is the Prime Minister of Canada?"
   ]
  },
  {
   "cell_type": "markdown",
   "metadata": {},
   "source": [
    "La Paz is the capital of what South American country?"
   ]
  },
  {
   "cell_type": "markdown",
   "metadata": {},
   "source": [
    "_Taraxacum officinale_, the common dandelion, is a flowering herbaceous perennial plant of what family?"
   ]
  },
  {
   "cell_type": "code",
   "execution_count": null,
   "metadata": {},
   "outputs": [],
   "source": []
  }
 ],
 "metadata": {
  "kernelspec": {
   "display_name": "Python 3",
   "language": "python",
   "name": "python3"
  },
  "language_info": {
   "codemirror_mode": {
    "name": "ipython",
    "version": 3
   },
   "file_extension": ".py",
   "mimetype": "text/x-python",
   "name": "python",
   "nbconvert_exporter": "python",
   "pygments_lexer": "ipython3",
   "version": "3.6.5"
  }
 },
 "nbformat": 4,
 "nbformat_minor": 2
}
