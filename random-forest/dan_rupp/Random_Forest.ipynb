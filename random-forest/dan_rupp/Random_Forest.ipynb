{
 "cells": [
  {
   "cell_type": "code",
   "execution_count": null,
   "metadata": {
    "collapsed": true
   },
   "outputs": [],
   "source": [
    "## Code from Brian Bargh\n",
    "import numpy as np\n",
    "import pandas as pd\n",
    "import matplotlib.pyplot as plt\n",
    "%matplotlib inline\n",
    "\n",
    "from scipy.misc import comb"
   ]
  },
  {
   "cell_type": "markdown",
   "metadata": {},
   "source": [
    "## Ensembles: Intuition\n",
    "\n",
    "Suppose we have 5 *independent* hard binary classifers (they only give 0 or 1 probability). If they are each  70% accurate, what's the accuracy of an ensemble of them?"
   ]
  },
  {
   "cell_type": "code",
   "execution_count": null,
   "metadata": {
    "collapsed": true
   },
   "outputs": [],
   "source": [
    "def find_ensemble_accuracy(n, p):\n",
    "    '''Given a n independent classifiers each of p accuracy,\n",
    "    return the emsumble accuracy'''\n",
    "    ensemble_accuracy = 0\n",
    "    for k in range((n + 1) / 2, n+1):\n",
    "        ensemble_accuracy += comb(n, k) * p**k * (1-p)**(n-k)\n",
    "    return ensemble_accuracy"
   ]
  },
  {
   "cell_type": "code",
   "execution_count": null,
   "metadata": {
    "collapsed": false
   },
   "outputs": [],
   "source": [
    "find_ensemble_accuracy(5, 0.7)"
   ]
  },
  {
   "cell_type": "code",
   "execution_count": null,
   "metadata": {
    "collapsed": false
   },
   "outputs": [],
   "source": [
    "ns = np.arange(1, 55, 2)\n",
    "vfea = np.vectorize(find_ensemble_accuracy, excluded=['p'])\n",
    "ensemble_accuracies = vfea(ns, p=0.7)\n",
    "\n",
    "fig, ax = plt.subplots()\n",
    "ax.plot(ns, ensemble_accuracies, '.')\n",
    "ax.set_ylabel(\"Ensemble accuracy\")\n",
    "ax.set_xlabel(\"Number of independent 0.7-accuracy classifiers\")\n",
    "ax.set_title(\"Accuracy of an Ensemble of Independent Classifiers\")"
   ]
  },
  {
   "cell_type": "markdown",
   "metadata": {
    "collapsed": true
   },
   "source": [
    "## Random Forest "
   ]
  },
  {
   "cell_type": "code",
   "execution_count": null,
   "metadata": {
    "collapsed": false
   },
   "outputs": [],
   "source": [
    "from sklearn.ensemble import RandomForestRegressor\n",
    "from sklearn.datasets import load_boston\n",
    "from sklearn.model_selection import train_test_split\n",
    "\n",
    "# Load Boston data\n",
    "data = load_boston()\n",
    "\n",
    "# Split into test/train\n",
    "X_train, X_test, y_train, y_test = train_test_split(data.data, \n",
    "                                                    data.target, \n",
    "                                                    test_size=.33,\n",
    "                                                    random_state=0)\n",
    "\n",
    "# Train and fit model                                                   \n",
    "rf = RandomForestRegressor(n_estimators=1000,\n",
    "                                  max_features='auto',\n",
    "                                  oob_score=True,\n",
    "                                  random_state=0)\n",
    "rf.fit(X_train,y_train)\n",
    "\n",
    "                                                    \n",
    "# Test Prediction\n",
    "pred = rf.predict(X_test)\n",
    "mse = np.mean((y_test - pred)**2)\n",
    "print('MSE Score: ' + str(mse))\n",
    "\n",
    "# R2 score using built in scoring method\n",
    "r2 = rf.score(X_test,y_test)\n",
    "print('R2 Score: ' + str(r2))"
   ]
  },
  {
   "cell_type": "markdown",
   "metadata": {
    "collapsed": true
   },
   "source": [
    "### Random Forest Interpretation\n",
    "\n",
    "#### Mean Decrease Impurity"
   ]
  },
  {
   "cell_type": "code",
   "execution_count": null,
   "metadata": {
    "collapsed": false
   },
   "outputs": [],
   "source": [
    "# Plot the feature importance\n",
    "feat_scores = pd.DataFrame({'Mean Decrease Impurity' : rf.feature_importances_},\n",
    "                           index=data.feature_names)\n",
    "feat_scores = feat_scores.sort_values(by='Mean Decrease Impurity')\n",
    "feat_scores.plot(kind='barh')"
   ]
  },
  {
   "cell_type": "markdown",
   "metadata": {},
   "source": [
    "### Mean Decrease Accuracy"
   ]
  },
  {
   "cell_type": "code",
   "execution_count": null,
   "metadata": {
    "collapsed": false
   },
   "outputs": [],
   "source": [
    "from sklearn.cross_validation import ShuffleSplit\n",
    "from sklearn.metrics import r2_score\n",
    "from collections import defaultdict\n",
    "\n",
    " \n",
    "boston = load_boston()   \n",
    "names = boston.feature_names\n",
    "X = boston[\"data\"]\n",
    "Y = boston[\"target\"]\n",
    " \n",
    "rf = RandomForestRegressor()\n",
    "scores = defaultdict(list)\n",
    " \n",
    "# crossvalidate the scores on a number of \n",
    "# different random splits of the data\n",
    "for train_idx, test_idx in ShuffleSplit(len(X), 100, .3):\n",
    "    X_train, X_test = X[train_idx], X[test_idx]\n",
    "    Y_train, Y_test = Y[train_idx], Y[test_idx]\n",
    "    r = rf.fit(X_train, Y_train)\n",
    "    acc = r2_score(Y_test, rf.predict(X_test))\n",
    "    for i in range(X.shape[1]):\n",
    "        X_t = X_test.copy()\n",
    "        np.random.shuffle(X_t[:, i])\n",
    "        shuff_acc = r2_score(Y_test, rf.predict(X_t))\n",
    "        scores[names[i]].append((acc-shuff_acc)/acc)\n",
    "\n",
    "score_series = pd.DataFrame(scores).mean()\n",
    "scores = pd.DataFrame({'Mean Decrease Accuracy' : score_series})\n",
    "scores.sort_values(by='Mean Decrease Accuracy').plot(kind='barh')"
   ]
  },
  {
   "cell_type": "code",
   "execution_count": null,
   "metadata": {
    "collapsed": true
   },
   "outputs": [],
   "source": []
  }
 ],
 "metadata": {
  "kernelspec": {
   "display_name": "Python 2",
   "language": "python",
   "name": "python2"
  },
  "language_info": {
   "codemirror_mode": {
    "name": "ipython",
    "version": 2
   },
   "file_extension": ".py",
   "mimetype": "text/x-python",
   "name": "python",
   "nbconvert_exporter": "python",
   "pygments_lexer": "ipython2",
   "version": "2.7.13"
  }
 },
 "nbformat": 4,
 "nbformat_minor": 2
}
