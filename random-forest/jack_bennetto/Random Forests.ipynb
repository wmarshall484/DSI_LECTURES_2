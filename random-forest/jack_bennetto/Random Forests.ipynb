{
 "cells": [
  {
   "cell_type": "markdown",
   "metadata": {},
   "source": [
    "# Bagging and Random Forests\n",
    "### Jack Bennetto\n",
    "### August 31, 2017"
   ]
  },
  {
   "cell_type": "code",
   "execution_count": 1,
   "metadata": {
    "collapsed": true
   },
   "outputs": [],
   "source": [
    "import numpy as np\n",
    "import pandas as pd\n",
    "import matplotlib.pyplot as plt\n",
    "%matplotlib inline\n",
    "from scipy.misc import comb\n",
    "\n",
    "from sklearn.tree import DecisionTreeRegressor, DecisionTreeClassifier\n",
    "from sklearn.ensemble import RandomForestRegressor, RandomForestClassifier\n",
    "\n",
    "from sklearn.datasets import load_breast_cancer, load_iris\n",
    "from sklearn.model_selection import cross_val_score, train_test_split, GridSearchCV"
   ]
  },
  {
   "cell_type": "markdown",
   "metadata": {},
   "source": [
    "## Objectives\n",
    "\n",
    "Morning Objectives\n",
    "\n",
    " * Explain & construct a random forest (classification or regression).\n",
    " * Explain the relationship and difference between random forest and bagging.\n",
    " * Explain why random forests are more accurate than a single decision tree.\n",
    "\n",
    "Afternoon Objectives\n",
    "\n",
    " * Get feature importances from a random forest.\n",
    " * Explain how OOB error is calculated and what it estimates."
   ]
  },
  {
   "cell_type": "markdown",
   "metadata": {},
   "source": [
    "## Agenda\n",
    "\n",
    "Morning Agenda:\n",
    "\n",
    " * Discuss ensemble methods\n",
    " * Review bias/variance tradeoff\n",
    " * Review decision trees\n",
    " * Discuss bagging (bootstrap aggregation)\n",
    " * Discuss random forests\n",
    "\n",
    "Afternoon Agenda:\n",
    "\n",
    " * Discuss out-of-bag error\n",
    " * Discuss feature importance\n",
    "\n"
   ]
  },
  {
   "cell_type": "markdown",
   "metadata": {},
   "source": [
    "## What is an Ensemble Method?\n",
    "\n",
    "In general, an **ensemble** method combines many weak models to form a strong model. We train multiple models on the data, such that each is different. They could be trained on different subsets of the data, or trained in different ways, or even be completely different types of models.\n",
    "\n",
    "Once we've done that, we need to combine the models to form a single model.\n",
    "\n",
    "Class discussion: how would get a single prediction from an ensemble of **regression** models?\n",
    "\n",
    "Class discussion: how would get a single prediction from an ensemble of **classification** models?\n",
    "\n"
   ]
  },
  {
   "cell_type": "markdown",
   "metadata": {},
   "source": [
    "## Ensembles: Intuition\n",
    "\n",
    "Suppose we have 5 *independent* hard binary classifers (they only give 0 or 1 probability). If they are each  70% accurate, what's the accuracy of an ensemble of them?"
   ]
  },
  {
   "cell_type": "code",
   "execution_count": 2,
   "metadata": {
    "collapsed": true
   },
   "outputs": [],
   "source": [
    "def find_ensemble_accuracy(n, p):\n",
    "    '''Given a n independent classifiers each of p accuracy,\n",
    "    return the emsumble accuracy'''\n",
    "    ensemble_accuracy = 0\n",
    "    for k in range((n + 1) / 2, n+1):\n",
    "        ensemble_accuracy += comb(n, k) * p**k * (1-p)**(n-k)\n",
    "    return ensemble_accuracy"
   ]
  },
  {
   "cell_type": "code",
   "execution_count": 3,
   "metadata": {
    "collapsed": false
   },
   "outputs": [
    {
     "data": {
      "text/plain": [
       "0.83691999999999989"
      ]
     },
     "execution_count": 3,
     "metadata": {},
     "output_type": "execute_result"
    }
   ],
   "source": [
    "find_ensemble_accuracy(5, 0.7)"
   ]
  },
  {
   "cell_type": "code",
   "execution_count": 4,
   "metadata": {
    "collapsed": false
   },
   "outputs": [
    {
     "data": {
      "text/plain": [
       "<matplotlib.text.Text at 0x116462310>"
      ]
     },
     "execution_count": 4,
     "metadata": {},
     "output_type": "execute_result"
    },
    {
     "data": {
      "image/png": "[encoded data removed]",
      "text/plain": [
       "<matplotlib.figure.Figure at 0x113e45290>"
      ]
     },
     "metadata": {},
     "output_type": "display_data"
    }
   ],
   "source": [
    "ns = np.arange(1, 55, 2)\n",
    "vfea = np.vectorize(find_ensemble_accuracy, excluded=['p'])\n",
    "ensemble_accuracies = vfea(ns, p=0.7)\n",
    "\n",
    "fig, ax = plt.subplots()\n",
    "ax.plot(ns, ensemble_accuracies, '.')\n",
    "ax.set_ylabel(\"Ensemble accuracy\")\n",
    "ax.set_xlabel(\"Number of independent 0.7-accuracy classifiers\")\n",
    "ax.set_title(\"Accuracy of an Ensemble of Independent Classifiers\")"
   ]
  },
  {
   "cell_type": "markdown",
   "metadata": {},
   "source": [
    "$$ \\binom{5}{5} 0.7^5 + \\binom{5}{4} 0.7^4 0.3 + \\binom{5}{3} 0.7^3 0.3^2 \\approx 0.83 $$\n",
    "\n",
    "With 55 such classifiers we can achieve 99.9% accuracy.\n",
    "\n",
    "\n",
    "Question: what's the limitation?"
   ]
  },
  {
   "cell_type": "markdown",
   "metadata": {},
   "source": [
    "## How to Make Them Independent?\n",
    "\n",
    "If the learners are all the same, ensembles don't help.\n",
    "\n",
    "Train each learner on different subset of data.\n",
    "\n",
    "Question: Why is this better than a single good model?"
   ]
  },
  {
   "cell_type": "markdown",
   "metadata": {},
   "source": [
    "## Bias and Variance\n",
    "\n",
    "**Bias:** Error from failure to match training set\n",
    "\n",
    "**Variance:** Error from sampling training set\n",
    "\n",
    "Question: what is the bias of an unpruned decision tree?"
   ]
  },
  {
   "cell_type": "markdown",
   "metadata": {},
   "source": [
    "## Review: Classification Trees\n",
    "\n",
    "A **classification tree** is a decision tree to predicts whether a data point is in one class or another. Each branch node is a decision, choosing left or right based on the value of a certain feature. Each leaf node gives the probability that a data point is in one class or another.\n",
    "\n",
    "Let's look at the tennis dataset from the other day."
   ]
  },
  {
   "cell_type": "code",
   "execution_count": 5,
   "metadata": {
    "collapsed": false
   },
   "outputs": [
    {
     "data": {
      "text/html": [
       "<div>\n",
       "<style>\n",
       "    .dataframe thead tr:only-child th {\n",
       "        text-align: right;\n",
       "    }\n",
       "\n",
       "    .dataframe thead th {\n",
       "        text-align: left;\n",
       "    }\n",
       "\n",
       "    .dataframe tbody tr th {\n",
       "        vertical-align: top;\n",
       "    }\n",
       "</style>\n",
       "<table border=\"1\" class=\"dataframe\">\n",
       "  <thead>\n",
       "    <tr style=\"text-align: right;\">\n",
       "      <th></th>\n",
       "      <th>outlook</th>\n",
       "      <th>temperature</th>\n",
       "      <th>humidity</th>\n",
       "      <th>wind</th>\n",
       "      <th>played</th>\n",
       "    </tr>\n",
       "  </thead>\n",
       "  <tbody>\n",
       "    <tr>\n",
       "      <th>0</th>\n",
       "      <td>sunny</td>\n",
       "      <td>hot</td>\n",
       "      <td>high</td>\n",
       "      <td>False</td>\n",
       "      <td>no</td>\n",
       "    </tr>\n",
       "    <tr>\n",
       "      <th>1</th>\n",
       "      <td>sunny</td>\n",
       "      <td>hot</td>\n",
       "      <td>high</td>\n",
       "      <td>True</td>\n",
       "      <td>no</td>\n",
       "    </tr>\n",
       "    <tr>\n",
       "      <th>2</th>\n",
       "      <td>overcast</td>\n",
       "      <td>hot</td>\n",
       "      <td>high</td>\n",
       "      <td>False</td>\n",
       "      <td>yes</td>\n",
       "    </tr>\n",
       "    <tr>\n",
       "      <th>3</th>\n",
       "      <td>rainy</td>\n",
       "      <td>mild</td>\n",
       "      <td>high</td>\n",
       "      <td>False</td>\n",
       "      <td>yes</td>\n",
       "    </tr>\n",
       "    <tr>\n",
       "      <th>4</th>\n",
       "      <td>rainy</td>\n",
       "      <td>cool</td>\n",
       "      <td>normal</td>\n",
       "      <td>False</td>\n",
       "      <td>yes</td>\n",
       "    </tr>\n",
       "    <tr>\n",
       "      <th>5</th>\n",
       "      <td>rainy</td>\n",
       "      <td>cool</td>\n",
       "      <td>normal</td>\n",
       "      <td>True</td>\n",
       "      <td>no</td>\n",
       "    </tr>\n",
       "    <tr>\n",
       "      <th>6</th>\n",
       "      <td>overcast</td>\n",
       "      <td>cool</td>\n",
       "      <td>normal</td>\n",
       "      <td>True</td>\n",
       "      <td>yes</td>\n",
       "    </tr>\n",
       "    <tr>\n",
       "      <th>7</th>\n",
       "      <td>sunny</td>\n",
       "      <td>mild</td>\n",
       "      <td>high</td>\n",
       "      <td>False</td>\n",
       "      <td>no</td>\n",
       "    </tr>\n",
       "    <tr>\n",
       "      <th>8</th>\n",
       "      <td>sunny</td>\n",
       "      <td>cool</td>\n",
       "      <td>normal</td>\n",
       "      <td>False</td>\n",
       "      <td>yes</td>\n",
       "    </tr>\n",
       "    <tr>\n",
       "      <th>9</th>\n",
       "      <td>rainy</td>\n",
       "      <td>mild</td>\n",
       "      <td>normal</td>\n",
       "      <td>False</td>\n",
       "      <td>yes</td>\n",
       "    </tr>\n",
       "    <tr>\n",
       "      <th>10</th>\n",
       "      <td>sunny</td>\n",
       "      <td>mild</td>\n",
       "      <td>normal</td>\n",
       "      <td>True</td>\n",
       "      <td>yes</td>\n",
       "    </tr>\n",
       "    <tr>\n",
       "      <th>11</th>\n",
       "      <td>overcast</td>\n",
       "      <td>mild</td>\n",
       "      <td>high</td>\n",
       "      <td>True</td>\n",
       "      <td>yes</td>\n",
       "    </tr>\n",
       "    <tr>\n",
       "      <th>12</th>\n",
       "      <td>overcast</td>\n",
       "      <td>hot</td>\n",
       "      <td>normal</td>\n",
       "      <td>False</td>\n",
       "      <td>yes</td>\n",
       "    </tr>\n",
       "    <tr>\n",
       "      <th>13</th>\n",
       "      <td>rainy</td>\n",
       "      <td>mild</td>\n",
       "      <td>high</td>\n",
       "      <td>True</td>\n",
       "      <td>no</td>\n",
       "    </tr>\n",
       "  </tbody>\n",
       "</table>\n",
       "</div>"
      ],
      "text/plain": [
       "     outlook temperature humidity   wind played\n",
       "0      sunny         hot     high  False     no\n",
       "1      sunny         hot     high   True     no\n",
       "2   overcast         hot     high  False    yes\n",
       "3      rainy        mild     high  False    yes\n",
       "4      rainy        cool   normal  False    yes\n",
       "5      rainy        cool   normal   True     no\n",
       "6   overcast        cool   normal   True    yes\n",
       "7      sunny        mild     high  False     no\n",
       "8      sunny        cool   normal  False    yes\n",
       "9      rainy        mild   normal  False    yes\n",
       "10     sunny        mild   normal   True    yes\n",
       "11  overcast        mild     high   True    yes\n",
       "12  overcast         hot   normal  False    yes\n",
       "13     rainy        mild     high   True     no"
      ]
     },
     "execution_count": 5,
     "metadata": {},
     "output_type": "execute_result"
    }
   ],
   "source": [
    "# Read in our data\n",
    "tennis_df = pd.read_table('data/tennis.txt', delim_whitespace=True)\n",
    "tennis_df.rename(columns={'playtennis': 'played'}, inplace=True)\n",
    "#tennis_df['played'] = tennis_df['played'].apply(lambda x: 1 if x == 'yes' else 0)\n",
    "tennis_df"
   ]
  },
  {
   "cell_type": "code",
   "execution_count": 6,
   "metadata": {
    "collapsed": false
   },
   "outputs": [
    {
     "data": {
      "image/svg+xml": [
       "<?xml version=\"1.0\" encoding=\"UTF-8\" standalone=\"no\"?>\n",
       "<!DOCTYPE svg PUBLIC \"-//W3C//DTD SVG 1.1//EN\"\n",
       " \"http://www.w3.org/Graphics/SVG/1.1/DTD/svg11.dtd\">\n",
       "<!-- Generated by graphviz version 2.38.0 (20140413.2041)\n",
       " -->\n",
       "<!-- Title: %3 Pages: 1 -->\n",
       "<svg width=\"435pt\" height=\"388pt\"\n",
       " viewBox=\"0.00 0.00 434.56 388.00\" xmlns=\"http://www.w3.org/2000/svg\" xmlns:xlink=\"http://www.w3.org/1999/xlink\">\n",
       "<g id=\"graph0\" class=\"graph\" transform=\"scale(1 1) rotate(0) translate(4 384)\">\n",
       "<title>%3</title>\n",
       "<polygon fill=\"white\" stroke=\"none\" points=\"-4,4 -4,-384 430.562,-384 430.562,4 -4,4\"/>\n",
       "<!-- O -->\n",
       "<g id=\"node1\" class=\"node\"><title>O</title>\n",
       "<polygon fill=\"none\" stroke=\"black\" points=\"113,-380 54.8799,-362 113,-344 171.12,-362 113,-380\"/>\n",
       "<text text-anchor=\"middle\" x=\"113\" y=\"-357.8\" font-family=\"Times,serif\" font-size=\"14.00\">outlook?</text>\n",
       "</g>\n",
       "<!-- 1 -->\n",
       "<g id=\"node2\" class=\"node\"><title>1</title>\n",
       "<polygon fill=\"none\" stroke=\"black\" points=\"95,-294 41,-294 41,-258 95,-258 95,-294\"/>\n",
       "<text text-anchor=\"middle\" x=\"68\" y=\"-271.8\" font-family=\"Times,serif\" font-size=\"14.00\">no</text>\n",
       "</g>\n",
       "<!-- O&#45;&gt;1 -->\n",
       "<g id=\"edge1\" class=\"edge\"><title>O&#45;&gt;1</title>\n",
       "<path fill=\"none\" stroke=\"black\" d=\"M102.729,-347.068C98.3339,-340.796 93.3142,-333.197 89.3584,-326 85.4863,-318.955 81.7892,-311.068 78.5919,-303.714\"/>\n",
       "<polygon fill=\"black\" stroke=\"black\" points=\"81.6726,-302.011 74.5724,-294.147 75.2191,-304.722 81.6726,-302.011\"/>\n",
       "<text text-anchor=\"middle\" x=\"113.321\" y=\"-314.8\" font-family=\"Times,serif\" font-size=\"14.00\">overcast</text>\n",
       "</g>\n",
       "<!-- H -->\n",
       "<g id=\"node3\" class=\"node\"><title>H</title>\n",
       "<polygon fill=\"none\" stroke=\"black\" points=\"178,-294 112.981,-276 178,-258 243.019,-276 178,-294\"/>\n",
       "<text text-anchor=\"middle\" x=\"178\" y=\"-271.8\" font-family=\"Times,serif\" font-size=\"14.00\">humidity?</text>\n",
       "</g>\n",
       "<!-- O&#45;&gt;H -->\n",
       "<g id=\"edge2\" class=\"edge\"><title>O&#45;&gt;H</title>\n",
       "<path fill=\"none\" stroke=\"black\" d=\"M123.733,-347.129C133.834,-334.076 149.126,-314.313 160.906,-299.091\"/>\n",
       "<polygon fill=\"black\" stroke=\"black\" points=\"163.682,-301.223 167.033,-291.172 158.145,-296.939 163.682,-301.223\"/>\n",
       "<text text-anchor=\"middle\" x=\"184.016\" y=\"-314.8\" font-family=\"Times,serif\" font-size=\"14.00\">not overcast</text>\n",
       "</g>\n",
       "<!-- O2 -->\n",
       "<g id=\"node4\" class=\"node\"><title>O2</title>\n",
       "<polygon fill=\"none\" stroke=\"black\" points=\"109,-208 50.8799,-190 109,-172 167.12,-190 109,-208\"/>\n",
       "<text text-anchor=\"middle\" x=\"109\" y=\"-185.8\" font-family=\"Times,serif\" font-size=\"14.00\">outlook?</text>\n",
       "</g>\n",
       "<!-- H&#45;&gt;O2 -->\n",
       "<g id=\"edge3\" class=\"edge\"><title>H&#45;&gt;O2</title>\n",
       "<path fill=\"none\" stroke=\"black\" d=\"M166.606,-261.129C155.754,-247.918 139.258,-227.836 126.696,-212.543\"/>\n",
       "<polygon fill=\"black\" stroke=\"black\" points=\"129.234,-210.118 120.182,-204.613 123.825,-214.562 129.234,-210.118\"/>\n",
       "<text text-anchor=\"middle\" x=\"160.445\" y=\"-228.8\" font-family=\"Times,serif\" font-size=\"14.00\">high</text>\n",
       "</g>\n",
       "<!-- W -->\n",
       "<g id=\"node5\" class=\"node\"><title>W</title>\n",
       "<polygon fill=\"none\" stroke=\"black\" points=\"230,-208 185.285,-190 230,-172 274.715,-190 230,-208\"/>\n",
       "<text text-anchor=\"middle\" x=\"230\" y=\"-185.8\" font-family=\"Times,serif\" font-size=\"14.00\">wind?</text>\n",
       "</g>\n",
       "<!-- H&#45;&gt;W -->\n",
       "<g id=\"edge4\" class=\"edge\"><title>H&#45;&gt;W</title>\n",
       "<path fill=\"none\" stroke=\"black\" d=\"M187.058,-260.368C195.106,-247.367 206.991,-228.168 216.218,-213.263\"/>\n",
       "<polygon fill=\"black\" stroke=\"black\" points=\"219.275,-214.975 221.562,-204.63 213.323,-211.291 219.275,-214.975\"/>\n",
       "<text text-anchor=\"middle\" x=\"226.828\" y=\"-228.8\" font-family=\"Times,serif\" font-size=\"14.00\">normal</text>\n",
       "</g>\n",
       "<!-- 2 -->\n",
       "<g id=\"node10\" class=\"node\"><title>2</title>\n",
       "<polygon fill=\"none\" stroke=\"black\" points=\"54,-122 0,-122 0,-86 54,-86 54,-122\"/>\n",
       "<text text-anchor=\"middle\" x=\"27\" y=\"-99.8\" font-family=\"Times,serif\" font-size=\"14.00\">no</text>\n",
       "</g>\n",
       "<!-- O2&#45;&gt;2 -->\n",
       "<g id=\"edge9\" class=\"edge\"><title>O2&#45;&gt;2</title>\n",
       "<path fill=\"none\" stroke=\"black\" d=\"M96.1875,-175.875C84.1432,-163.537 65.8087,-144.755 51.0392,-129.625\"/>\n",
       "<polygon fill=\"black\" stroke=\"black\" points=\"53.1827,-126.811 43.6928,-122.1 48.1736,-131.701 53.1827,-126.811\"/>\n",
       "<text text-anchor=\"middle\" x=\"89.7241\" y=\"-142.8\" font-family=\"Times,serif\" font-size=\"14.00\">sunny</text>\n",
       "</g>\n",
       "<!-- W2 -->\n",
       "<g id=\"node11\" class=\"node\"><title>W2</title>\n",
       "<polygon fill=\"none\" stroke=\"black\" points=\"117,-122 72.2849,-104 117,-86 161.715,-104 117,-122\"/>\n",
       "<text text-anchor=\"middle\" x=\"117\" y=\"-99.8\" font-family=\"Times,serif\" font-size=\"14.00\">wind?</text>\n",
       "</g>\n",
       "<!-- O2&#45;&gt;W2 -->\n",
       "<g id=\"edge10\" class=\"edge\"><title>O2&#45;&gt;W2</title>\n",
       "<path fill=\"none\" stroke=\"black\" d=\"M110.581,-172.404C111.687,-160.784 113.19,-145.009 114.463,-131.641\"/>\n",
       "<polygon fill=\"black\" stroke=\"black\" points=\"117.959,-131.848 115.423,-121.561 110.99,-131.184 117.959,-131.848\"/>\n",
       "<text text-anchor=\"middle\" x=\"128.383\" y=\"-142.8\" font-family=\"Times,serif\" font-size=\"14.00\">rainy</text>\n",
       "</g>\n",
       "<!-- 3 -->\n",
       "<g id=\"node6\" class=\"node\"><title>3</title>\n",
       "<polygon fill=\"none\" stroke=\"black\" points=\"249,-122 195,-122 195,-86 249,-86 249,-122\"/>\n",
       "<text text-anchor=\"middle\" x=\"222\" y=\"-99.8\" font-family=\"Times,serif\" font-size=\"14.00\">yes</text>\n",
       "</g>\n",
       "<!-- W&#45;&gt;3 -->\n",
       "<g id=\"edge5\" class=\"edge\"><title>W&#45;&gt;3</title>\n",
       "<path fill=\"none\" stroke=\"black\" d=\"M228.419,-172.404C227.327,-160.935 225.849,-145.418 224.587,-132.163\"/>\n",
       "<polygon fill=\"black\" stroke=\"black\" points=\"228.065,-131.761 223.632,-122.138 221.096,-132.425 228.065,-131.761\"/>\n",
       "<text text-anchor=\"middle\" x=\"240.776\" y=\"-142.8\" font-family=\"Times,serif\" font-size=\"14.00\">False</text>\n",
       "</g>\n",
       "<!-- T -->\n",
       "<g id=\"node7\" class=\"node\"><title>T</title>\n",
       "<polygon fill=\"none\" stroke=\"black\" points=\"347,-122 267.376,-104 347,-86 426.624,-104 347,-122\"/>\n",
       "<text text-anchor=\"middle\" x=\"347\" y=\"-99.8\" font-family=\"Times,serif\" font-size=\"14.00\">temperature?</text>\n",
       "</g>\n",
       "<!-- W&#45;&gt;T -->\n",
       "<g id=\"edge6\" class=\"edge\"><title>W&#45;&gt;T</title>\n",
       "<path fill=\"none\" stroke=\"black\" d=\"M245.296,-178.018C264.3,-164.375 297.048,-140.863 320.244,-124.209\"/>\n",
       "<polygon fill=\"black\" stroke=\"black\" points=\"322.536,-126.872 328.618,-118.197 318.454,-121.186 322.536,-126.872\"/>\n",
       "<text text-anchor=\"middle\" x=\"307.971\" y=\"-142.8\" font-family=\"Times,serif\" font-size=\"14.00\">True</text>\n",
       "</g>\n",
       "<!-- 4 -->\n",
       "<g id=\"node8\" class=\"node\"><title>4</title>\n",
       "<polygon fill=\"none\" stroke=\"black\" points=\"338,-36 284,-36 284,-0 338,-0 338,-36\"/>\n",
       "<text text-anchor=\"middle\" x=\"311\" y=\"-13.8\" font-family=\"Times,serif\" font-size=\"14.00\">yes</text>\n",
       "</g>\n",
       "<!-- T&#45;&gt;4 -->\n",
       "<g id=\"edge7\" class=\"edge\"><title>T&#45;&gt;4</title>\n",
       "<path fill=\"none\" stroke=\"black\" d=\"M340.229,-87.2002C335.213,-75.498 328.262,-59.2775 322.396,-45.5913\"/>\n",
       "<polygon fill=\"black\" stroke=\"black\" points=\"325.517,-43.9871 318.36,-36.1744 319.083,-46.7446 325.517,-43.9871\"/>\n",
       "<text text-anchor=\"middle\" x=\"343.834\" y=\"-56.8\" font-family=\"Times,serif\" font-size=\"14.00\">mild</text>\n",
       "</g>\n",
       "<!-- 5 -->\n",
       "<g id=\"node9\" class=\"node\"><title>5</title>\n",
       "<polygon fill=\"none\" stroke=\"black\" points=\"410,-36 356,-36 356,-0 410,-0 410,-36\"/>\n",
       "<text text-anchor=\"middle\" x=\"383\" y=\"-13.8\" font-family=\"Times,serif\" font-size=\"14.00\">no</text>\n",
       "</g>\n",
       "<!-- T&#45;&gt;5 -->\n",
       "<g id=\"edge8\" class=\"edge\"><title>T&#45;&gt;5</title>\n",
       "<path fill=\"none\" stroke=\"black\" d=\"M353.771,-87.2002C358.787,-75.498 365.738,-59.2775 371.604,-45.5913\"/>\n",
       "<polygon fill=\"black\" stroke=\"black\" points=\"374.917,-46.7446 375.64,-36.1744 368.483,-43.9871 374.917,-46.7446\"/>\n",
       "<text text-anchor=\"middle\" x=\"379.052\" y=\"-56.8\" font-family=\"Times,serif\" font-size=\"14.00\">cool</text>\n",
       "</g>\n",
       "<!-- 6 -->\n",
       "<g id=\"node12\" class=\"node\"><title>6</title>\n",
       "<polygon fill=\"none\" stroke=\"black\" points=\"107,-36 53,-36 53,-0 107,-0 107,-36\"/>\n",
       "<text text-anchor=\"middle\" x=\"80\" y=\"-13.8\" font-family=\"Times,serif\" font-size=\"14.00\">no</text>\n",
       "</g>\n",
       "<!-- W2&#45;&gt;6 -->\n",
       "<g id=\"edge12\" class=\"edge\"><title>W2&#45;&gt;6</title>\n",
       "<path fill=\"none\" stroke=\"black\" d=\"M110.555,-88.3683C105.34,-76.5289 97.8615,-59.5505 91.6085,-45.3544\"/>\n",
       "<polygon fill=\"black\" stroke=\"black\" points=\"94.7523,-43.8089 87.5182,-36.0682 88.3462,-46.6307 94.7523,-43.8089\"/>\n",
       "<text text-anchor=\"middle\" x=\"113.971\" y=\"-56.8\" font-family=\"Times,serif\" font-size=\"14.00\">True</text>\n",
       "</g>\n",
       "<!-- 7 -->\n",
       "<g id=\"node13\" class=\"node\"><title>7</title>\n",
       "<polygon fill=\"none\" stroke=\"black\" points=\"179,-36 125,-36 125,-0 179,-0 179,-36\"/>\n",
       "<text text-anchor=\"middle\" x=\"152\" y=\"-13.8\" font-family=\"Times,serif\" font-size=\"14.00\">yes</text>\n",
       "</g>\n",
       "<!-- W2&#45;&gt;7 -->\n",
       "<g id=\"edge11\" class=\"edge\"><title>W2&#45;&gt;7</title>\n",
       "<path fill=\"none\" stroke=\"black\" d=\"M123.097,-88.3683C128.03,-76.5289 135.104,-59.5505 141.019,-45.3544\"/>\n",
       "<polygon fill=\"black\" stroke=\"black\" points=\"144.273,-46.6452 144.888,-36.0682 137.811,-43.9528 144.273,-46.6452\"/>\n",
       "<text text-anchor=\"middle\" x=\"151.776\" y=\"-56.8\" font-family=\"Times,serif\" font-size=\"14.00\">False</text>\n",
       "</g>\n",
       "</g>\n",
       "</svg>\n"
      ],
      "text/plain": [
       "<graphviz.dot.Digraph at 0x116590390>"
      ]
     },
     "execution_count": 6,
     "metadata": {},
     "output_type": "execute_result"
    }
   ],
   "source": [
    "from graphviz import Digraph\n",
    "dot = Digraph(comment='A simple classification tree')\n",
    "\n",
    "dot.node('O', 'outlook?', shape='diamond')\n",
    "dot.node('1', \"no\", shape='rectangle')\n",
    "dot.node('H', 'humidity?', shape='diamond')\n",
    "dot.node('O2', 'outlook?', shape='diamond')\n",
    "dot.node('W', 'wind?', shape='diamond')\n",
    "dot.node('3', 'yes', shape='rectangle')\n",
    "dot.node('T', 'temperature?', shape='diamond')\n",
    "dot.node('4', 'yes', shape='rectangle')\n",
    "dot.node('5', \"no\", shape='rectangle')\n",
    "dot.node('2', \"no\", shape='rectangle')\n",
    "dot.node('W2', 'wind?', shape='diamond')\n",
    "dot.node('6', \"no\", shape='rectangle')\n",
    "dot.node('7', 'yes', shape='rectangle')\n",
    "\n",
    "dot.edge('O', '1', 'overcast')\n",
    "dot.edge('O', 'H', 'not overcast')\n",
    "dot.edge('H', 'O2', 'high')\n",
    "dot.edge('H', 'W', 'normal')\n",
    "dot.edge('W', '3', 'False')\n",
    "dot.edge('W', 'T', 'True')\n",
    "dot.edge('T', '4', 'mild')\n",
    "dot.edge('T', '5', 'cool')\n",
    "dot.edge('O2', '2', 'sunny')\n",
    "dot.edge('O2', 'W2', 'rainy')\n",
    "dot.edge('W2', '7', 'False')\n",
    "dot.edge('W2', '6', 'True')\n",
    "dot"
   ]
  },
  {
   "cell_type": "markdown",
   "metadata": {},
   "source": [
    "A classification tree is built by\n",
    "\n",
    "* Iteratively divide the nodes such that (entropy/gini impurity) is minimized\n",
    "* Various stopping conditions like a depth limit\n",
    "* Prune trees by merging nodes"
   ]
  },
  {
   "cell_type": "markdown",
   "metadata": {},
   "source": [
    "## Review: Regression Trees\n",
    "\n",
    "A **regression tree** predicting a number rather than the probability that something is in one class or another. Prediction works the same as with classification trees, but the leaf nodes give a number rather than probabilities of a class.\n",
    "\n",
    "To train a regression tree, we\n",
    "\n",
    "* Iteratively divide the nodes such that *total squared error* is minimized,\n",
    "\n",
    "$$\\sum_{i \\in L} (y_i - m_L)^2 + \\sum_{i\\in R} (y_i - m_R)^2$$\n",
    "\n",
    "* Use various stopping conditions like a depth limit, minimum leaf size, and\n",
    "* Prune trees by merging nodes"
   ]
  },
  {
   "cell_type": "markdown",
   "metadata": {},
   "source": [
    "## Regression Trees: Example\n",
    "\n",
    " $x_1$ |   $x_2$ |  $y$\n",
    "-------|---------|--------\n",
    " 1     |    1    |   1\n",
    " 0     |    0    |   2\n",
    " 1     |    0    |   3\n",
    " 0     |    1    |   4\n",
    "\n",
    " Prior to the split we guess the mean, 2.5, for everything, giving total squared error:\n",
    " \n",
    " $$ E = (1-2.5)^2 + (2-2.5)^2 + (3-2.5)^2 + (4-2.5)^2  = 5$$\n",
    " After we split on $x_1$ we guess 2 for rows 1 & 3 and 3 for rows 2 & 4:\n",
    " \n",
    " $$ E = (1-2)^2 + (3-2)^2 + (2-3)^2 + (4-3)^2 = 4 $$"
   ]
  },
  {
   "cell_type": "markdown",
   "metadata": {},
   "source": [
    "## Decision Tree Summary\n",
    "\n",
    "What are the pros and cons?\n",
    "\n",
    "Pros\n",
    " * No feature scaling needed\n",
    " * Model nonlinear relationships\n",
    " * Can do both classification and regression\n",
    " * Robust\n",
    " * Highly interpretable\n",
    "\n",
    "Cons\n",
    " * Can be expensive to train\n",
    " * Often poor predictors because of high variance\n"
   ]
  },
  {
   "cell_type": "markdown",
   "metadata": {},
   "source": [
    "## Review: Bootstrapping\n",
    "\n",
    "What is a bootstrap sample?\n",
    "\n",
    "What have we learned that bootstrap samples are good for so far?\n",
    "\n",
    "Let's get the median of some data."
   ]
  },
  {
   "cell_type": "code",
   "execution_count": 7,
   "metadata": {
    "collapsed": false
   },
   "outputs": [
    {
     "data": {
      "text/plain": [
       "5.0186782525370006"
      ]
     },
     "execution_count": 7,
     "metadata": {},
     "output_type": "execute_result"
    }
   ],
   "source": [
    "data = scs.uniform(0,10).rvs(100)\n",
    "np.median(data)"
   ]
  },
  {
   "cell_type": "markdown",
   "metadata": {},
   "source": [
    "What's the confidence interval of this estimate?"
   ]
  },
  {
   "cell_type": "code",
   "execution_count": 8,
   "metadata": {
    "collapsed": true
   },
   "outputs": [],
   "source": [
    "def bootstrap_confidence_interval(data, function, alpha=0.05, n_bootstraps=1000):\n",
    "    '''return a the confidence interval for a function of data using bootstrapping'''\n",
    "    medians = []\n",
    "    for _ in range(n_bootstraps):\n",
    "        bootstrap_sample = np.random.choice(data, len(data))\n",
    "        medians.append(function(bootstrap_sample))\n",
    "    return (np.percentile(medians, 100*(alpha/2.)),\n",
    "            np.percentile(medians, 100*(1-alpha/2.)))"
   ]
  },
  {
   "cell_type": "code",
   "execution_count": 9,
   "metadata": {
    "collapsed": false
   },
   "outputs": [
    {
     "name": "stdout",
     "output_type": "stream",
     "text": [
      "The 0.95% confidence interval is from 4.44315902849 to 5.70556182156\n"
     ]
    }
   ],
   "source": [
    "alpha = .05\n",
    "ci = bootstrap_confidence_interval(data, np.median, alpha)\n",
    "\n",
    "print(\"The {}% confidence interval is from {} to {}\".format(1-alpha, *ci))"
   ]
  },
  {
   "cell_type": "markdown",
   "metadata": {},
   "source": [
    "Our procedure was\n",
    "  * Take 1000 bootstrap samples.\n",
    "  * Take the median of each sample.\n",
    "  * The 95% confidence inverval for the median is between the 25th and 975th largest samples.\n",
    "  \n",
    "To confirm this worked, let's do it a bunch of times."
   ]
  },
  {
   "cell_type": "code",
   "execution_count": 10,
   "metadata": {
    "collapsed": false
   },
   "outputs": [
    {
     "name": "stdout",
     "output_type": "stream",
     "text": [
      "0.95\n"
     ]
    }
   ],
   "source": [
    "hits = []\n",
    "for _ in range(100):\n",
    "    data = scs.uniform(0,10).rvs(100)\n",
    "    ci = bootstrap_confidence_interval(data, np.median)\n",
    "    hits.append(ci[0] < 5.0 and ci[1] > 5.0)\n",
    "print np.mean(hits)"
   ]
  },
  {
   "cell_type": "markdown",
   "metadata": {},
   "source": [
    "Maybe that didn't work, but it would have if we'd done it a lot longer."
   ]
  },
  {
   "cell_type": "markdown",
   "metadata": {},
   "source": [
    "## Bootstrapped aggregation\n",
    "\n",
    " * We are thinking about the population of all possible decision tree models on our data.\n",
    " * If I take $n$ samples *iid* from this distribution and average them the variance goes down by $\\sqrt n$\n",
    " * There is some correlation between models because they are all trained on bootstrap samples from the same draw."
   ]
  },
  {
   "cell_type": "markdown",
   "metadata": {},
   "source": [
    "## An Experiment\n",
    "\n",
    "You're each going to be a decision tree on some data based on a bootstrap sample, and then we'll all ensemble the results."
   ]
  },
  {
   "cell_type": "code",
   "execution_count": 11,
   "metadata": {
    "collapsed": false
   },
   "outputs": [],
   "source": [
    "data = load_iris()\n",
    "\n",
    "# Split into test/train, using the same random state for everyone\n",
    "X_train, X_test, y_train, y_test = train_test_split(data.data, data.target, random_state=462)"
   ]
  },
  {
   "cell_type": "code",
   "execution_count": 12,
   "metadata": {
    "collapsed": false
   },
   "outputs": [
    {
     "data": {
      "text/plain": [
       "DecisionTreeClassifier(class_weight=None, criterion='gini', max_depth=None,\n",
       "            max_features=None, max_leaf_nodes=None,\n",
       "            min_impurity_split=1e-07, min_samples_leaf=1,\n",
       "            min_samples_split=2, min_weight_fraction_leaf=0.0,\n",
       "            presort=False, random_state=None, splitter='best')"
      ]
     },
     "execution_count": 12,
     "metadata": {},
     "output_type": "execute_result"
    }
   ],
   "source": [
    "clf = DecisionTreeClassifier()\n",
    "# each of you has a different bootstrap sample\n",
    "bootstrap_sample = np.random.choice(range(len(X_train)), len(X_train))\n",
    "clf.fit(X_train[np.where(bootstrap_sample)], y_train[np.where(bootstrap_sample)])"
   ]
  },
  {
   "cell_type": "code",
   "execution_count": 13,
   "metadata": {
    "collapsed": false
   },
   "outputs": [
    {
     "name": "stdout",
     "output_type": "stream",
     "text": [
      "Accuracy = 0.921\n"
     ]
    }
   ],
   "source": [
    "print(\"Accuracy = {:.3f}\".format(np.mean(clf.predict(X_test) == y_test)))"
   ]
  },
  {
   "cell_type": "code",
   "execution_count": 14,
   "metadata": {
    "collapsed": false
   },
   "outputs": [
    {
     "name": "stdout",
     "output_type": "stream",
     "text": [
      "My prediction: [0 2 0 1 2 1 2 2 0 2 2 0 2 2 2 1 1 2 1 0]\n",
      "Actual result: [0 2 0 1 2 1 2 2 0 2 2 0 1 2 2 2 1 2 1 0]\n"
     ]
    }
   ],
   "source": [
    "print(\"My prediction: {}\".format(clf.predict(X_test)[0:20]))\n",
    "print(\"Actual result: {}\".format(y_test[0:20]))"
   ]
  },
  {
   "cell_type": "markdown",
   "metadata": {},
   "source": [
    "What is your prediction?"
   ]
  },
  {
   "cell_type": "markdown",
   "metadata": {},
   "source": [
    "This concept, creating each model from a bootstrap sample and aggregating the results, is called **bagging**. It could really be used with any sort of model, but is generally done with decision trees.\n",
    "\n",
    "Question: why?"
   ]
  },
  {
   "cell_type": "markdown",
   "metadata": {},
   "source": [
    "## Random Forests\n",
    "\n",
    "Bagging decision trees are pretty cool, but the trees still tend to look pretty similar. We want a way to make the trees more different (decorrelating them) without substantially increasing the bias of each tree.\n",
    "\n",
    "Random forests do this with **subspace sampling**. When we are building a tree and considering the feature to use at each split, we only consider a few of them, randomly choosen. The number of features $m$ to consider at each split is a hyperparameter; typically $m = \\sqrt k$ is used.\n",
    "\n",
    "Again, the features to consider are chosen **at each split**, not each tree.\n",
    "\n",
    "For example, suppose we're building a model with nine features. One of them is really predictive, another is pretty good, and the others are just ok.\n",
    "\n",
    "If we build an ensemble of bagged trees, probably each will use the good feature as the first split, and probably each will use the pretty-good feature at the next split. For the other splits the trees might differ, particularly father down when only a few points are being considered, but the first branches will be pretty much the same.\n",
    "\n",
    "If we build a trees in a random forest, we'll only consider three (random) features for that first split. Only a fraction of the trees (around 30%) will consider the good feature on the first split, so they will use that. Some of the others will consider the pretty-good feature, so they will start there. The others will start at some other feature. Those trees will still consider the good and pretty-good features at some of the lower nodes, and will get to take advantage of them, but the overall structure of those trees will be completely different."
   ]
  },
  {
   "cell_type": "markdown",
   "metadata": {},
   "source": [
    "## Random Forest Parameters\n",
    "\n",
    "Random Forest Parameters\n",
    "\n",
    " * Total number of trees\n",
    " * Number of features to use at each split\n",
    " * Individual decision tree Parameters\n",
    "    - e.g., tree depth, pruning, split criterion\n",
    "\n",
    "In general, RF are fairly robust to the choice of parameters and overfitting."
   ]
  },
  {
   "cell_type": "markdown",
   "metadata": {},
   "source": [
    "## Pros and Cons of Random Forest\n",
    "\n",
    "Pros\n",
    "\n",
    " * Often give near state-of-the-art performance\n",
    " * Good out-of-the-box performance\n",
    " * No feature scaling needed\n",
    " * Model nonlinear relationships\n",
    "\n",
    "Cons\n",
    "\n",
    " * Can be expensive to train (though can be done in parallel)\n",
    " * Not interpretable"
   ]
  },
  {
   "cell_type": "markdown",
   "metadata": {},
   "source": [
    "## Accuracy\n",
    "\n",
    "Let's investigate the accuracy of a random forests compared with a single decision tree using the boston dataset. "
   ]
  },
  {
   "cell_type": "code",
   "execution_count": 15,
   "metadata": {
    "collapsed": false
   },
   "outputs": [],
   "source": [
    "# Load Boston data\n",
    "data = load_breast_cancer()\n",
    "#data = pd.drop(data, )\n",
    "X = pd.DataFrame(data.data, columns=data.feature_names)\n",
    "y = pd.Series(data.target)\n",
    "\n",
    "X = X.drop(['worst concave points', 'mean concave points', 'worst perimeter', 'worst radius', 'worst area', 'mean concavity'], axis=1)\n",
    "# Split into test/train\n",
    "X_train, X_test, y_train, y_test = train_test_split(X, y, \n",
    "                                                    test_size=.33,\n",
    "                                                    random_state=0)\n"
   ]
  },
  {
   "cell_type": "code",
   "execution_count": 16,
   "metadata": {
    "collapsed": false
   },
   "outputs": [
    {
     "data": {
      "text/plain": [
       "Index([u'mean radius', u'mean texture', u'mean perimeter', u'mean area',\n",
       "       u'mean smoothness', u'mean compactness', u'mean symmetry',\n",
       "       u'mean fractal dimension', u'radius error', u'texture error',\n",
       "       u'perimeter error', u'area error', u'smoothness error',\n",
       "       u'compactness error', u'concavity error', u'concave points error',\n",
       "       u'symmetry error', u'fractal dimension error', u'worst texture',\n",
       "       u'worst smoothness', u'worst compactness', u'worst concavity',\n",
       "       u'worst symmetry', u'worst fractal dimension'],\n",
       "      dtype='object')"
      ]
     },
     "execution_count": 16,
     "metadata": {},
     "output_type": "execute_result"
    }
   ],
   "source": [
    "X_train.columns"
   ]
  },
  {
   "cell_type": "markdown",
   "metadata": {},
   "source": [
    "First, consider a decision tree, doing a grid search over hyperparameters."
   ]
  },
  {
   "cell_type": "code",
   "execution_count": 17,
   "metadata": {
    "collapsed": false
   },
   "outputs": [
    {
     "name": "stdout",
     "output_type": "stream",
     "text": [
      "0.893617021277\n"
     ]
    }
   ],
   "source": [
    "# Parameter Search                                     \n",
    "model = DecisionTreeClassifier()\n",
    "depth_parm = np.arange(1, 12, 1)\n",
    "num_samples_parm = np.arange(5,95,10)\n",
    "parameters = {'max_depth' : depth_parm,\n",
    "             'min_samples_leaf' : num_samples_parm}\n",
    "clf = GridSearchCV(model, parameters, cv=10)\n",
    "clf.fit(X_train,y_train)\n",
    "print(clf.score(X_test, y_test))"
   ]
  },
  {
   "cell_type": "code",
   "execution_count": 18,
   "metadata": {
    "collapsed": false
   },
   "outputs": [
    {
     "data": {
      "text/plain": [
       "DecisionTreeClassifier(class_weight=None, criterion='gini', max_depth=2,\n",
       "            max_features=None, max_leaf_nodes=None,\n",
       "            min_impurity_split=1e-07, min_samples_leaf=5,\n",
       "            min_samples_split=2, min_weight_fraction_leaf=0.0,\n",
       "            presort=False, random_state=None, splitter='best')"
      ]
     },
     "execution_count": 18,
     "metadata": {},
     "output_type": "execute_result"
    }
   ],
   "source": [
    "clf.best_estimator_"
   ]
  },
  {
   "cell_type": "code",
   "execution_count": 19,
   "metadata": {
    "collapsed": false
   },
   "outputs": [
    {
     "data": {
      "text/plain": [
       "{'max_depth': 2, 'min_samples_leaf': 5}"
      ]
     },
     "execution_count": 19,
     "metadata": {},
     "output_type": "execute_result"
    }
   ],
   "source": [
    "clf.best_params_"
   ]
  },
  {
   "cell_type": "markdown",
   "metadata": {},
   "source": [
    "Now random forests."
   ]
  },
  {
   "cell_type": "code",
   "execution_count": 20,
   "metadata": {
    "collapsed": false
   },
   "outputs": [
    {
     "name": "stdout",
     "output_type": "stream",
     "text": [
      "0.952127659574\n"
     ]
    }
   ],
   "source": [
    "\n",
    "# Train and fit model                                                   \n",
    "rf = RandomForestClassifier(n_estimators=1000,\n",
    "                           max_features='auto',\n",
    "                           random_state=0)\n",
    "rf.fit(X_train, y_train)\n",
    "                                     \n",
    "# Test Prediction\n",
    "pred = rf.predict(X_test)\n",
    "print(rf.score(X_test, y_test))"
   ]
  },
  {
   "cell_type": "markdown",
   "metadata": {},
   "source": [
    "So that's better."
   ]
  },
  {
   "cell_type": "code",
   "execution_count": null,
   "metadata": {
    "collapsed": true
   },
   "outputs": [],
   "source": []
  },
  {
   "cell_type": "code",
   "execution_count": null,
   "metadata": {
    "collapsed": true
   },
   "outputs": [],
   "source": []
  },
  {
   "cell_type": "markdown",
   "metadata": {},
   "source": [
    "# Afternoon Lecture\n",
    "\n",
    "## Interpreting Random Forests"
   ]
  },
  {
   "cell_type": "markdown",
   "metadata": {},
   "source": [
    "## Objectives\n",
    "\n",
    "Morning Objectives\n",
    "\n",
    " * Explain & construct a random forest (classification or regression).\n",
    " * Explain the relationship and difference between random forest and bagging.\n",
    " * Explain why random forests are more accurate than a single decision tree.\n",
    "\n",
    "Afternoon Objectives\n",
    "\n",
    " * Get feature importances from a random forest.\n",
    " * Explain how OOB error is calculated and what is it an estimate of."
   ]
  },
  {
   "cell_type": "markdown",
   "metadata": {},
   "source": [
    "## Agenda\n",
    "\n",
    "Morning Agenda\n",
    "\n",
    " * Discuss ensemble methods\n",
    " * Review bias/variance tradeoff\n",
    " * Review decision trees\n",
    " * Discuss bagging (bootstrap aggregation)\n",
    " * Discuss random forests\n",
    "\n",
    "Afternoon Agenda\n",
    "\n",
    " * Discuss out-of-bag error\n",
    " * Discuss feature importance"
   ]
  },
  {
   "cell_type": "markdown",
   "metadata": {},
   "source": [
    "## Review: Bagging and Random Forests\n",
    "\n",
    "What is bagging?\n",
    "\n",
    "Can bagging be used with other models?\n",
    "\n",
    "What's the difference between bagging and random forests?"
   ]
  },
  {
   "cell_type": "code",
   "execution_count": 21,
   "metadata": {
    "collapsed": false
   },
   "outputs": [
    {
     "data": {
      "text/plain": [
       "0.36787944117144233"
      ]
     },
     "execution_count": 21,
     "metadata": {},
     "output_type": "execute_result"
    }
   ],
   "source": [
    "1/np.e"
   ]
  },
  {
   "cell_type": "markdown",
   "metadata": {},
   "source": [
    "## Out-Of-Bag Error\n",
    "\n",
    "Measuring error of a bagged model.\n",
    "\n",
    "* Out-of-bag (OOB) error is a method of estimating the error of ensemble methods that use Bagging.  \n",
    "* About 37% of the estimators will not have been trained on each data point.\n",
    "* Test each data point only on the estimators that didn't see that data point during training.  \n",
    "* Often use cross validation anyway because we're comparing with other models and want to measure the accuracy the same way.\n",
    "\n",
    "---\n",
    "\n",
    "## Feature Importances\n",
    "\n",
    "One of the challenges of random forests is the lack of interpretability. Feature importances are a measure of which features aften actually effect the predictions.\n",
    "\n",
    "This can be a critical business question. For example, with churn analysis, it's generally more important to understand *why* customers are churning than to predict which customers are going to churn.\n",
    "\n",
    "How should we measure it?"
   ]
  },
  {
   "cell_type": "markdown",
   "metadata": {},
   "source": [
    "## Feature Importances: Mean Decrease Impurity\n",
    "\n",
    "How much does each feature decrease the impurity?\n",
    "\n",
    "To compute the importance of the $j^{th}$ feature:\n",
    "\n",
    " * For each tree, each split is made in order to reduce the total impurity of the tree (Gini/entropy/MSE); we can record the magnitude of the reduction.\n",
    " * Then the importance of a feature is the average decrease in impurity across trees in the forest, as a result of splits defined by that feature.  \n",
    " * This is implemented in sklearn."
   ]
  },
  {
   "cell_type": "markdown",
   "metadata": {},
   "source": [
    "## Feature Importances: Mean Decrease Accuracy\n",
    "\n",
    "How much does randomly mixing values of a feature affect accuracy?\n",
    "\n",
    "To compute the importance of the $j^{th}$ feature:\n",
    "\n",
    " * When the $b^{th}$ tree is grown, use it to predict the OOB samples and record accuracy.\n",
    " * Scramble the values of the $j^{th}$ feature in the OOB samples and do the prediction again.  Compute the new (lower) accuracy.\n",
    " * Average the decrease in accuracy across all trees."
   ]
  },
  {
   "cell_type": "markdown",
   "metadata": {},
   "source": [
    "## Feature Importances: ipython"
   ]
  },
  {
   "cell_type": "code",
   "execution_count": 22,
   "metadata": {
    "collapsed": false
   },
   "outputs": [
    {
     "data": {
      "text/plain": [
       "<matplotlib.axes._subplots.AxesSubplot at 0x1166b2150>"
      ]
     },
     "execution_count": 22,
     "metadata": {},
     "output_type": "execute_result"
    },
    {
     "data": {
      "image/png": "[encoded data removed]",
      "text/plain": [
       "<matplotlib.figure.Figure at 0x105ca4bd0>"
      ]
     },
     "metadata": {},
     "output_type": "display_data"
    }
   ],
   "source": [
    "# Plot the feature importance\n",
    "feat_scores = pd.DataFrame({'Fraction of Samples Affected' : rf.feature_importances_},\n",
    "                           index=X.columns)\n",
    "feat_scores = feat_scores.sort_values(by='Fraction of Samples Affected')\n",
    "feat_scores.plot(kind='barh')"
   ]
  },
  {
   "cell_type": "markdown",
   "metadata": {},
   "source": [
    "#### Mean Decrease Accuracy\n",
    "\n",
    "A different approach to calculating feature importances shuufles the values of a feature, and measures the decrease in accuracy. "
   ]
  },
  {
   "cell_type": "code",
   "execution_count": null,
   "metadata": {
    "collapsed": false
   },
   "outputs": [],
   "source": [
    "from sklearn.model_selection import ShuffleSplit\n",
    "from sklearn.metrics import r2_score\n",
    "from collections import defaultdict\n",
    "\n",
    "rf = RandomForestRegressor()\n",
    "scores = defaultdict(list)\n",
    "\n",
    "\n",
    "names = data.feature_names\n",
    " \n",
    "rf = RandomForestRegressor()\n",
    "scores = defaultdict(list)\n",
    " \n",
    "# crossvalidate the scores on a number of \n",
    "# different random splits of the data\n",
    "splitter = ShuffleSplit(100, test_size=.3)\n",
    "\n",
    "for train_idx, test_idx in splitter.split(X, y):\n",
    "    X_train, X_test = X.values[train_idx], X.values[test_idx]\n",
    "    y_train, y_test = y.values[train_idx], y.values[test_idx]\n",
    "    rf.fit(X_train, y_train)\n",
    "    acc = r2_score(y_test, rf.predict(X_test))\n",
    "    for i in range(X.shape[1]):\n",
    "        X_t = X_test.copy()\n",
    "        np.random.shuffle(X_t[:, i])\n",
    "        shuff_acc = r2_score(y_test, rf.predict(X_t))\n",
    "        scores[names[i]].append((acc-shuff_acc)/acc)\n",
    "\n",
    "score_series = pd.DataFrame(scores).mean()\n",
    "scores = pd.DataFrame({'Mean Decrease Accuracy' : score_series})\n",
    "scores.sort_values(by='Mean Decrease Accuracy').plot(kind='barh')"
   ]
  },
  {
   "cell_type": "code",
   "execution_count": null,
   "metadata": {
    "collapsed": true
   },
   "outputs": [],
   "source": []
  }
 ],
 "metadata": {
  "kernelspec": {
   "display_name": "Python 2",
   "language": "python",
   "name": "python2"
  },
  "language_info": {
   "codemirror_mode": {
    "name": "ipython",
    "version": 2
   },
   "file_extension": ".py",
   "mimetype": "text/x-python",
   "name": "python",
   "nbconvert_exporter": "python",
   "pygments_lexer": "ipython2",
   "version": "2.7.13"
  }
 },
 "nbformat": 4,
 "nbformat_minor": 0
}
