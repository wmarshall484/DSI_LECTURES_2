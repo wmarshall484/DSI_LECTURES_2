{
 "cells": [
  {
   "cell_type": "markdown",
   "metadata": {},
   "source": [
    "# Formal set notation"
   ]
  },
  {
   "cell_type": "markdown",
   "metadata": {},
   "source": [
    "## De Morgan's Laws\n",
    "\n",
    "Recall that we have two De Morgan's Laws:\n",
    "\n",
    "+ Law A: \\\\( (E_{1} \\cup E_{2})^C = E_{1}^C \\cap E_{2}^C \\\\)\n",
    "\n",
    "+ Law B: \\\\( (E_{1} \\cap E_{2})^C = E_{1}^C \\cup E_{2}^C \\\\)\n",
    "\n",
    "### For this exercise, we can also use an alternate formulation:\n",
    "\n",
    "Given the following sets:\n",
    "\n",
    "+ \\\\(S\\\\) is the set of the total sample space\n",
    "+ \\\\(E_1\\\\) is the first event space\n",
    "+ \\\\(E_2\\\\) is the second event space\n",
    "\n",
    "And the following conditions:\n",
    "\n",
    "+ \\\\( A \\subseteq E_1 \\\\): \\\\(E_1\\\\) contains all or some elements of \\\\(S\\\\) \n",
    "+ \\\\( A \\subseteq E_2 \\\\): \\\\(E_2\\\\) contains all or some elements of \\\\(S\\\\)\n",
    "\n",
    "Then:\n",
    "\n",
    "+ Law A: \\\\( S \\setminus (E_1 \\cup E_2) = (E_{1} \\cup E_{2})^C = E_{1}^C \\cap E_{2}^C \\\\)\n",
    "\n",
    "+ Law B: \\\\( S \\setminus (E_1 \\cap E_2) = (E_{1} \\cap E_{2})^C = E_{1}^C \\cup E_{2}^C \\\\)"
   ]
  },
  {
   "cell_type": "code",
   "execution_count": 3,
   "metadata": {},
   "outputs": [],
   "source": [
    "def deMorgans(E, F, S):\n",
    "    '''\n",
    "    Return, as a tuple of the form (Law A, Law B), each of the sets\n",
    "    associated with De Morgan's laws as applied to sets E and F.\n",
    "\n",
    "    Return \"Improper Specification\" if three sets are not supplied\n",
    "    or if the events E and F are not subsets of the sample space S.\n",
    "    \n",
    "    Parameters\n",
    "    ----------\n",
    "    E : {set} First event space\n",
    "    F : {set} Second event space\n",
    "    S : {set} Complete sample space\n",
    "\n",
    "    Returns\n",
    "    -------\n",
    "    tuple({set}, {set}) or {str} \n",
    "\n",
    "    Example:\n",
    "    >>> DeMorgans(set([1,2,3]), set([2,3,4]), set([0,1,2,3,4,5]))\n",
    "    (set([0, 5]), set([0, 1, 2, 4, 5])\n",
    "    '''\n",
    "\n",
    "    if check_specs(E, F, S) == \"fail\":\n",
    "        return \"Improper Specification\"\n",
    "    else:\n",
    "        law_a = lawA(E, F, S)\n",
    "        law_b = lawB(E, F, S)\n",
    "    return (law_a, law_b)\n",
    "\n",
    "\n",
    "def check_specs(E, F, S):\n",
    "    '''\n",
    "    Return the compliment of the union of E and F\n",
    "    \n",
    "    Parameters\n",
    "    ----------\n",
    "    E : {set} First event space\n",
    "    F : {set} Second event space\n",
    "    S : {set} Complete sample space\n",
    "    \n",
    "    Returns\n",
    "    -------\n",
    "    {set}\n",
    "    '''\n",
    "    if not isinstance(E, set) or not isinstance(F, set) or not isinstance(S, set):\n",
    "        return 'fail'\n",
    "    if S.intersection(E) != E or S.intersection(F) != F:\n",
    "        return 'fail'\n",
    "    return 'pass'\n",
    "\n",
    "\n",
    "def lawA(E, F, S):\n",
    "    '''\n",
    "    Return the complement of the union of E and F.\n",
    "    \n",
    "    Parameters\n",
    "    ----------\n",
    "    E : {set} First event space\n",
    "    F : {set} Second event space\n",
    "    S : {set} Complete sample space\n",
    "    \n",
    "    Returns\n",
    "    -------\n",
    "    {set} \n",
    "    '''\n",
    "    return S - E.union(F)\n",
    "\n",
    "\n",
    "def lawB(E, F, S):\n",
    "    '''\n",
    "    Return the complement of the intersection of E and F.\n",
    "    \n",
    "    Parameters\n",
    "    ----------\n",
    "    E : {set} First event space\n",
    "    F : {set} Second event space\n",
    "    S : {set} Complete sample space\n",
    "    \n",
    "    Returns\n",
    "    -------\n",
    "    {set} \n",
    "    '''\n",
    "    return S - E.intersection(F)"
   ]
  },
  {
   "cell_type": "code",
   "execution_count": 4,
   "metadata": {},
   "outputs": [
    {
     "data": {
      "text/plain": [
       "({0, 5}, {0, 1, 4, 5})"
      ]
     },
     "execution_count": 4,
     "metadata": {},
     "output_type": "execute_result"
    }
   ],
   "source": [
    "deMorgans(set([1,2,3]), set([2,3,4]), set([0,1,2,3,4,5]))"
   ]
  },
  {
   "cell_type": "markdown",
   "metadata": {},
   "source": [
    "# Law of Total Probability\n",
    "\n",
    "Recall:\n",
    "\n",
    "+ The set of events \\\\(F_1, F_2, F_3, \\cdots, F_p\\\\) must be mutually exclusive. Hence, \\\\(F_i \\cap F_j = \\emptyset\\\\) for all \\\\(i \\not = j \\text{ and } i \\text{ and } j \\text{ between } 1 \\text{ and } p\\\\))\n",
    "\n",
    "+ When unioned together perfectly recapitulate event \\\\(E_1\\\\) (i.e, \\\\(F_1 \\cup F_2 \\cup F_3 \\cup \\cdots \\cup F_p = E_1\\\\)).\n",
    "\n",
    "With your neighbor, discuss:\n",
    "\n",
    "+ \"Why must the sum of the marginal probabilities equal one?\"\n",
    "\n",
    "+ \"How does partitioning an event space and determining the marginal probabilites relate?\""
   ]
  },
  {
   "cell_type": "markdown",
   "metadata": {},
   "source": [
    "## Law of Total Probability Coding Challenge\n",
    "\n",
    "Write a function that accepts numpy arrays of corresponding conditional and marginal probabilities,\n",
    "\n",
    "i.e., \\\\(Pr(E_1|F_1), Pr(E_1|F_2), \\cdots, Pr(E_1|F_m) \\text{ and } Pr(F_1), Pr(F_2), \\cdots, Pr(F_m)\\\\),\n",
    "\n",
    "and computes and returns the total probability of event \\\\(E_1\\\\) using the law of total probability.\n",
    "\n",
    "First, confirm that your input is two numpy arrays of the same length. If not, return \"Two equal length numpy arrays only\".\n",
    "\n",
    "Next, confirm that the probabilities in the second array sum to 1. If not, return \"The marginal probabilities do not sum to 1\".\n",
    "\n",
    "If the two conditions above are met, calculate and return the total probability of \\\\(E_1\\\\)"
   ]
  },
  {
   "cell_type": "code",
   "execution_count": 3,
   "metadata": {},
   "outputs": [],
   "source": [
    "import numpy as np\n",
    "\n",
    "def LawOfTotalProbability(conditional_probabilities, marginal_probabilities):\n",
    "    '''\n",
    "    Calculate the marginal probability of Pr(E_1) using the law of total probability\n",
    "    when you are given numpy arrays of the conditional and marginal probabilities\n",
    "\n",
    "    Return \"Two equal length numpy arrays only\" if the arrays are not equal length\n",
    "    Return \"The marginal probabilities do not sum to 1\" if the marginal probabilities\n",
    "    do not sum to one.\n",
    "    \n",
    "    Parameters\n",
    "    ----------\n",
    "    conditional_probabilities : {numpy array} \n",
    "        [Pr(E_1|F_1), Pr(E_1|F_2), ..., Pr(E_1|F_m)]\n",
    "    marginal_probabilities : {numpy array} [Pr(F_1), Pr(F_2), ..., Pr(F_m)]\n",
    "\n",
    "    Returns\n",
    "    -------\n",
    "    {float} probability of E_1 or {str} invalid input message\n",
    "    \n",
    "    Example:\n",
    "    >>> LawOfTotalProbability(np.array([0.4, 0.03]), np.array([0.02, 0.98]))\n",
    "    0.0374\n",
    "    '''\n",
    "    if conditional_probabilities.shape != marginal_probabilities.shape:\n",
    "        return \"Two equal length numpy arrays only\"\n",
    "    if marginal_probabilities.sum() != 1:\n",
    "        return \"The marginal probabilities do not sum to 1\"\n",
    "    \n",
    "    return np.dot(conditional_probabilities, marginal_probabilities)"
   ]
  },
  {
   "cell_type": "code",
   "execution_count": 4,
   "metadata": {},
   "outputs": [
    {
     "data": {
      "text/plain": [
       "0.0374"
      ]
     },
     "execution_count": 4,
     "metadata": {},
     "output_type": "execute_result"
    }
   ],
   "source": [
    "LawOfTotalProbability(np.array([0.4, 0.03]), np.array([0.02, 0.98]))"
   ]
  },
  {
   "cell_type": "markdown",
   "metadata": {},
   "source": [
    "### Why the dot product? Consider\n",
    "\n",
    "The dot product is:\n",
    "\n",
    "$$ a \\bullet b = \\sum_{i=0}^n a_i b_i = a_1 b_1 + a_2 + b_2 + \\cdots + a_n b_n $$\n",
    "\n",
    "The Law of Total Probability is:\n",
    "\n",
    "$$ Pr(E) = Pr(E|F_1)Pr(F_1) + Pr(E|F_2)Pr(F_2) + \\cdots + Pr(E|F_p)Pr(F_p) $$"
   ]
  },
  {
   "cell_type": "code",
   "execution_count": null,
   "metadata": {},
   "outputs": [],
   "source": []
  }
 ],
 "metadata": {
  "kernelspec": {
   "display_name": "Python 3",
   "language": "python",
   "name": "python3"
  },
  "language_info": {
   "codemirror_mode": {
    "name": "ipython",
    "version": 3
   },
   "file_extension": ".py",
   "mimetype": "text/x-python",
   "name": "python",
   "nbconvert_exporter": "python",
   "pygments_lexer": "ipython3",
   "version": "3.6.5"
  }
 },
 "nbformat": 4,
 "nbformat_minor": 2
}
