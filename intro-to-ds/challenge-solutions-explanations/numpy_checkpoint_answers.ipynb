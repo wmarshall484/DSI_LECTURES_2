{
 "cells": [
  {
   "cell_type": "markdown",
   "metadata": {},
   "source": [
    "# NumPy Checkpoint Answers"
   ]
  },
  {
   "cell_type": "code",
   "execution_count": 1,
   "metadata": {},
   "outputs": [],
   "source": [
    "def elements_twice_min(arr):\n",
    "    \"\"\"\n",
    "    Return all elements of array arr that are greater than or equal to 2 times\n",
    "    the minimum element of arr.\n",
    "\n",
    "    Parameters\n",
    "    ----------\n",
    "    arr: NumPy array (n, m)\n",
    "\n",
    "    Returns\n",
    "    -------\n",
    "    NumPy Array, a vector of size between: 0 and (n * m) - 1\n",
    "    \"\"\"\n",
    "    return arr[arr >= 2 * np.min(arr)]"
   ]
  },
  {
   "cell_type": "code",
   "execution_count": 2,
   "metadata": {},
   "outputs": [],
   "source": [
    "import numpy as np\n",
    "\n",
    "def mat_addition(A, B):\n",
    "    \"\"\"\n",
    "    Add vector/matrix arrays A and B together. If they cannot be added\n",
    "    return False.\n",
    "\n",
    "    Parameters\n",
    "    ----------\n",
    "    A: NumPy array size of (n,) or (n, m)\n",
    "    B: NumPy array size of (p,) or (p, q)\n",
    "\n",
    "    Returns\n",
    "    -------\n",
    "    NumPy Array of same size as A and B, or False if their sizes differ.\n",
    "    \"\"\"\n",
    "    if A.shape == B.shape:\n",
    "        return A + B\n",
    "    return False"
   ]
  },
  {
   "cell_type": "code",
   "execution_count": 3,
   "metadata": {},
   "outputs": [],
   "source": [
    "import numpy as np\n",
    "\n",
    "def xtx_product(X):\n",
    "    \"\"\"\n",
    "    Given a matrix X, calculate the inner product X^T X, where the ^T\n",
    "    operator denotes the transpose.\n",
    "\n",
    "    Parameters\n",
    "    ----------\n",
    "    X: NumPy array size of (n, m)\n",
    "\n",
    "    Returns\n",
    "    -------\n",
    "    NumPy Array of size (m, m)\n",
    "    \"\"\"\n",
    "    return np.dot(X.T, X)"
   ]
  },
  {
   "cell_type": "code",
   "execution_count": 4,
   "metadata": {},
   "outputs": [],
   "source": [
    "import numpy as np\n",
    "\n",
    "def mat_rank(X):\n",
    "    \"\"\"\n",
    "    Given a matrix X, return its rank.\n",
    "\n",
    "    Parameters\n",
    "    ----------\n",
    "    X: NumPy array size of (n, m)\n",
    "\n",
    "    Returns\n",
    "    -------\n",
    "    (int) the rank of X\n",
    "    \"\"\"\n",
    "    return np.linalg.matrix_rank(X)"
   ]
  },
  {
   "cell_type": "code",
   "execution_count": 5,
   "metadata": {},
   "outputs": [],
   "source": [
    "import numpy as np\n",
    "\n",
    "def mat_rank(X):\n",
    "    \"\"\"\n",
    "    Given a matrix X, return its rank.\n",
    "\n",
    "    Parameters\n",
    "    ----------\n",
    "    X: NumPy array size of (n, m)\n",
    "\n",
    "    Returns\n",
    "    -------\n",
    "    (int) the rank of X\n",
    "    \"\"\"\n",
    "    return np.linalg.matrix_rank(X)"
   ]
  },
  {
   "cell_type": "code",
   "execution_count": null,
   "metadata": {},
   "outputs": [],
   "source": []
  }
 ],
 "metadata": {
  "kernelspec": {
   "display_name": "Python 3",
   "language": "python",
   "name": "python3"
  },
  "language_info": {
   "codemirror_mode": {
    "name": "ipython",
    "version": 3
   },
   "file_extension": ".py",
   "mimetype": "text/x-python",
   "name": "python",
   "nbconvert_exporter": "python",
   "pygments_lexer": "ipython3",
   "version": "3.6.6"
  }
 },
 "nbformat": 4,
 "nbformat_minor": 2
}
