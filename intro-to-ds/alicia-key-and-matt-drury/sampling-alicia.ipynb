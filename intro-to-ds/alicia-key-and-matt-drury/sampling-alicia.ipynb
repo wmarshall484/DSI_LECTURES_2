{
 "cells": [
  {
   "cell_type": "code",
   "execution_count": 1,
   "metadata": {},
   "outputs": [],
   "source": [
    "%matplotlib inline\n",
    "\n",
    "import numpy as np\n",
    "import matplotlib.pyplot as plt\n",
    "import scipy.optimize as optim\n",
    "\n",
    "from itertools import product\n",
    "\n",
    "# Always make it pretty.\n",
    "plt.style.use('ggplot')\n",
    "\n",
    "import samplers as spl"
   ]
  },
  {
   "cell_type": "markdown",
   "metadata": {},
   "source": [
    "# Sampling\n",
    "\n",
    "## Confidence Intervals\n",
    "\n",
    "The central limit theorem (CLT) is great for finding a population mean from sample means. But how confident are we in what we find? This is measured by a **confidence interval**.\n",
    "\n",
    "A confidence interval is the answer to a question like this\n",
    "\n",
    "> How far do I have to go to the left and the right of the sample mean so that 95% of the time (i.e. in 95% of possible samples) I will have enclosed the population mean?\n",
    "\n",
    "The **sample mean** is an approximation of the population mean: the expected value (mean of the individual sample means) of the sample mean *is* the population mean.\n",
    "\n",
    "The sample mean is approximately normally distributed, the mean and variance of this normal distribution can be computed in terms of the population mean and variance, and the size of the sample.\n",
    "\n",
    "Some notation:\n",
    "  - \\\\(\\mu\\\\) the population mean.\n",
    "  - \\\\(\\sigma^2\\\\) the population variance.\n",
    "  - \\\\(\\bar x\\\\) the **sample mean**.\n",
    "  - \\\\(s\\\\) is the standard deviation of our **sample mean**\n",
    "  - \\\\(\\frac{\\sigma}{\\sqrt{n}}\\\\) is the standard error of the mean (SEM)\n",
    "\n",
    "From here calculation of the confidence interval is straightforward:\n",
    "\n",
    "$$ [\\bar x-1.96\\frac{\\sigma}{\\sqrt{n}}  ,  \\bar x+1.96\\frac{\\sigma}{\\sqrt{n}}] $$"
   ]
  },
  {
   "cell_type": "code",
   "execution_count": null,
   "metadata": {},
   "outputs": [],
   "source": []
  }
 ],
 "metadata": {
  "kernelspec": {
   "display_name": "Python 3",
   "language": "python",
   "name": "python3"
  },
  "language_info": {
   "codemirror_mode": {
    "name": "ipython",
    "version": 3
   },
   "file_extension": ".py",
   "mimetype": "text/x-python",
   "name": "python",
   "nbconvert_exporter": "python",
   "pygments_lexer": "ipython3",
   "version": "3.6.5"
  }
 },
 "nbformat": 4,
 "nbformat_minor": 2
}
