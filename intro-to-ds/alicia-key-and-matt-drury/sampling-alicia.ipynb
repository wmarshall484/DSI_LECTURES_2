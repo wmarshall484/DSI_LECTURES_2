{
 "cells": [
  {
   "cell_type": "code",
   "execution_count": 3,
   "metadata": {},
   "outputs": [],
   "source": [
    "%matplotlib inline\n",
    "\n",
    "import numpy as np\n",
    "import matplotlib.pyplot as plt\n",
    "import scipy.optimize as optim\n",
    "\n",
    "from itertools import product\n",
    "\n",
    "# Always make it pretty.\n",
    "plt.style.use('ggplot')\n",
    "\n",
    "import samplers as spl"
   ]
  },
  {
   "cell_type": "markdown",
   "metadata": {},
   "source": [
    "# Sampling\n",
    "\n",
    "## Confidence Intervals\n",
    "\n",
    "The central limit theorem (CLT) is great for finding a population mean from sample means. But how confident are we in what we find? This is measured by a **confidence interval**.\n",
    "\n",
    "A confidence interval is the answer to a question like this\n",
    "\n",
    "> How far do I have to go to the left and the right of the sample mean so that 95% of the time (i.e. in 95% of possible samples) I will have enclosed the population mean?\n",
    "\n",
    "Let \\\\(alpha\\\\) denote the distance you move to the left and right of the sample mean when drawing your interval.  In notation, we are asking to find \\\\(alpha\\\\) such that\n",
    "\n",
    "The **sample mean** is an approximation of the population mean: the expected value (mean of the individual sample means) of the sample mean *is* the population mean.\n",
    "\n",
    "The sample mean is approximately normally distributed, the mean and variance of this normal distribution can be computed in terms of the population mean and variance, and the size of the sample.\n",
    "\n",
    "Some notation:\n",
    "  - \\\\(\\mu\\\\) the population mean.\n",
    "  - \\\\(\\sigma^2\\\\) the population variance.\n",
    "  - \\\\(\\bar x\\\\) the **sample mean**.\n",
    "  - \\\\(s\\\\) is the standard deviation of our **sample mean**\n",
    "  - \\\\(\\frac{\\sigma}{\\sqrt{n}}\\\\) is the standard error of the mean (SEM)\n",
    "\n",
    "From here calculation of a **95%** confidence interval is straightforward:\n",
    "\n",
    "$$ [\\bar x-1.96\\frac{\\sigma}{\\sqrt{n}}  ,  \\bar x+1.96\\frac{\\sigma}{\\sqrt{n}}] $$\n",
    "\n",
    "What does this look like graphically and how can we interpret it?"
   ]
  },
  {
   "cell_type": "code",
   "execution_count": 19,
   "metadata": {},
   "outputs": [
    {
     "data": {
      "text/plain": [
       "[]"
      ]
     },
     "execution_count": 19,
     "metadata": {},
     "output_type": "execute_result"
    },
    {
     "data": {
      "image/png": "[encoded data removed]",
      "text/plain": [
       "<Figure size 720x288 with 1 Axes>"
      ]
     },
     "metadata": {},
     "output_type": "display_data"
    }
   ],
   "source": [
    "data = spl.secret_data()\n",
    "\n",
    "sample_mean = np.mean(data)\n",
    "sample_varaince = np.var(data)\n",
    "distribution_of_sample_minus_population_mean = spl.Normal(0, np.sqrt(sample_varaince / len(data)))\n",
    "\n",
    "fig, ax = plt.subplots(1, figsize=(10, 4))\n",
    "x = np.linspace(-0.3, 0.3, num=250)\n",
    "pdf = distribution_of_sample_minus_population_mean.pdf(x)\n",
    "ax.plot(x, pdf, linewidth=3)\n",
    "\n",
    "# Shade under curve\n",
    "# Note: The 0.1 here is just for illustration, it does not correspond to\n",
    "#       any particular value of alpha.\n",
    "ax.set_xlim(-0.3, 0.3)\n",
    "ax.fill_between(x, pdf, 0, \n",
    "                where=( (-0.1 <= x) * (x <= 0.1) ), color=\"red\", alpha=0.2)\n",
    "ax.text(-0.04, 1.5, \"0.95\", fontsize=35, color=\"red\")\n",
    "\n",
    "ax.axvline(x=-0.1, ymin=0.0, ymax=100, color=\"black\", \n",
    "           linestyle='--', alpha=0.5)\n",
    "ax.text(-0.105, -0.5, r\"$-\\alpha$\", fontsize=16)\n",
    "\n",
    "ax.axvline(x=0.1, ymin=0.0, ymax=100, color=\"black\", \n",
    "           linestyle='--', alpha=0.5)\n",
    "ax.text(0.105, -0.5, r\"$+\\alpha$\", fontsize=16)\n",
    "\n",
    "ax.axvline(x=0.0, ymin=0.0, ymax=100, color=\"black\", \n",
    "           linestyle='--', alpha=0.5)\n",
    "ax.text(-0.005, -0.5, r\"$\\bar x$\", fontsize=16)\n",
    "\n",
    "ax.set_xticks([])"
   ]
  },
  {
   "cell_type": "markdown",
   "metadata": {},
   "source": [
    "The shaded region is the area under the density between $-\\alpha$ and $\\alpha$. We want the **shaded region** to account for $0.95$ of the total area.\n",
    "\n",
    "This means that each *half* of the shaded area to the *left and right* of zero should account for $0.475$ of the total area."
   ]
  },
  {
   "cell_type": "code",
   "execution_count": null,
   "metadata": {},
   "outputs": [],
   "source": []
  }
 ],
 "metadata": {
  "kernelspec": {
   "display_name": "Python 3",
   "language": "python",
   "name": "python3"
  },
  "language_info": {
   "codemirror_mode": {
    "name": "ipython",
    "version": 3
   },
   "file_extension": ".py",
   "mimetype": "text/x-python",
   "name": "python",
   "nbconvert_exporter": "python",
   "pygments_lexer": "ipython3",
   "version": "3.6.5"
  }
 },
 "nbformat": 4,
 "nbformat_minor": 2
}
