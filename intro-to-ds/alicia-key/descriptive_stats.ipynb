{
 "cells": [
  {
   "cell_type": "code",
   "execution_count": 1,
   "metadata": {},
   "outputs": [],
   "source": [
    "import numpy as np\n",
    "import pandas as pd\n",
    "import matplotlib.pyplot as plt\n",
    "import seaborn as sns\n",
    "from scipy import stats\n",
    "%matplotlib inline"
   ]
  },
  {
   "cell_type": "markdown",
   "metadata": {},
   "source": [
    "# Descriptive Statistics\n",
    "\n",
    "Often, we have the need to summarize a dataset with numbers and/or data visualization. This is where desriptive statistics comes in. For many of you this will be a review. But we will enhance our discussion with real world data from the UCI Machine Repository about concrete quality.\n",
    "\n",
    "Or we could wine quality [https://archive.ics.uci.edu/ml/datasets/Wine+Quality](https://archive.ics.uci.edu/ml/datasets/Wine+Quality)\n",
    "\n",
    "I will have links to Wikipedia for more information if you want to know more but the Wikipedia content is optional.\n",
    "\n",
    "## For this exercise, I will give code examples using NumPy and SciPy stats!"
   ]
  },
  {
   "cell_type": "markdown",
   "metadata": {},
   "source": [
    "## Discrete versus Continuous Values\n",
    "\n",
    "**Continuous** can take any number. Take heights of mountains as an example.\n",
    "\n",
    "**Discrete** values take on a selected set of values and no others. Think of the sides of 6-sided die as an example.\n",
    "\n",
    "## Population versus Sample\n",
    "\n",
    "A **population** is the set of *all* entities (humans, bacteria in a petri dish, etc) we are studying. Often, though, it is impractical or impossible to measure all entities. In this case we select a **sample** that is a carefully selected subset of the population to study.\n",
    "\n",
    "A population is described by population *parameters*. A sample is described by sample *statistics*. In data science, we often sample a population and use its statistics to estimate population parameters. In this way we can, to various degrees of confidence, use a sample to describe an entire population. Even better, we may take a sample and use it to predict the future behavior of a population.\n",
    "\n",
    "## Central tendency\n",
    "\n",
    "We need to know where the \"middle\" of a dataset lies. This is what central tendency is. There are few measures of this that are commonly used."
   ]
  },
  {
   "cell_type": "markdown",
   "metadata": {},
   "source": [
    "### Mean \n",
    "\n",
    "This is the \"average\" you were taught in elementary school. \\\\(N\\\\) as the count of elements in the dataset. This calculation is the same for both populations and samples, though differnt notation is used.\n",
    "\n",
    "#### Population mean\n",
    "\n",
    "$$ \\mu = \\frac{\\sum_{i=1}^N x_i}{N} $$\n",
    "\n",
    "where\n",
    "\n",
    "+ \\\\(\\mu\\\\) is the population mean\n",
    "+ \\\\(N\\\\) is the population count\n",
    "\n",
    "#### Sample mean\n",
    "\n",
    "$$ \\bar x = \\frac{\\sum_{i=1}^n x_i}{n} $$\n",
    "\n",
    "where\n",
    "\n",
    "+ \\\\(\\bar x\\\\) is the sample mean\n",
    "+ \\\\(n\\\\) is the number of samples"
   ]
  },
  {
   "cell_type": "code",
   "execution_count": 2,
   "metadata": {},
   "outputs": [
    {
     "data": {
      "text/plain": [
       "8.219999999999999"
      ]
     },
     "execution_count": 2,
     "metadata": {},
     "output_type": "execute_result"
    }
   ],
   "source": [
    "data = np.array([1.0, 9.2, 10.6, 5.2, 15.1])\n",
    "np.mean(data)"
   ]
  },
  {
   "cell_type": "markdown",
   "metadata": {},
   "source": [
    "### Median\n",
    "\n",
    "Calculate the median in two steps. First, sort the values from lowest to highest. Next, if the count of values is odd, find the middle value in the sequence. If the count of the values is even, take the mean of the two values in the middle."
   ]
  },
  {
   "cell_type": "code",
   "execution_count": 3,
   "metadata": {},
   "outputs": [
    {
     "data": {
      "text/plain": [
       "9.2"
      ]
     },
     "execution_count": 3,
     "metadata": {},
     "output_type": "execute_result"
    }
   ],
   "source": [
    "data = np.array([1.0, 9.2, 10.6, 5.2, 15.1])\n",
    "np.median(data)"
   ]
  },
  {
   "cell_type": "markdown",
   "metadata": {},
   "source": [
    "### Mode \n",
    "This is the value most frequently seen in a dataset."
   ]
  },
  {
   "cell_type": "code",
   "execution_count": 4,
   "metadata": {},
   "outputs": [
    {
     "data": {
      "text/plain": [
       "ModeResult(mode=array([3]), count=array([3]))"
      ]
     },
     "execution_count": 4,
     "metadata": {},
     "output_type": "execute_result"
    }
   ],
   "source": [
    "data = np.array([1, 2, 3, 4, 3, 3, 2])\n",
    "stats.mode(data)"
   ]
  },
  {
   "cell_type": "markdown",
   "metadata": {},
   "source": [
    "## Dispersion\n",
    "\n",
    "With central tendcney we know where the middle of a dataset is. But often we need to find out how far from the middle the data is spread. We measure this with dispersion.\n",
    "\n",
    "### Interquartile Range\n",
    "\n",
    "Consider the median. It cuts the dataset into two pieces. Those two pieces, in turn, can also be cut in half. This gives four **quartiles**.\n",
    "\n",
    "1. Q1: The middle value between the start and median of the dataset.\n",
    "\n",
    "1. Median: The median!\n",
    "\n",
    "1. Q3: The middle value between the median and end of the dataset.\n",
    "\n",
    "The **interquartile range** (called **IQR**) is the range of values from the beginning of the 2nd quartile to the end of the 3rd quartile. \n",
    "\n",
    "If this seems weird when explained in words, don't worry. Here it is graphically, on a normal curve, as created by [Jhguch at en.wikipedia](https://commons.wikimedia.org/wiki/File:Boxplot_vs_PDF.svg). We will also see more box plots below."
   ]
  },
  {
   "cell_type": "markdown",
   "metadata": {},
   "source": [
    "![Quartiles and IQR](500px-Boxplot_vs_PDF.png \"Quartiles and IQR\")"
   ]
  },
  {
   "cell_type": "markdown",
   "metadata": {},
   "source": [
    "More on IQR can be found at: [https://en.wikipedia.org/wiki/Interquartile_range](https://en.wikipedia.org/wiki/Interquartile_range)\n",
    "\n",
    "Also, note that other non normal distrubutions will have box plots that are a lot different. 1.5 * IQR is the threshold for outliers in a dataset.\n",
    "\n",
    "### Variance\n",
    "\n",
    "Variance is the sum of the squares of the distance from the mean of each individual point. So if points generally tend to steer away from the mean, the variance will increase.\n",
    "\n",
    "#### Population variance\n",
    "\n",
    "$$ \\sigma^2 = \\frac{\\sum_{i=1}^N (x_i - \\mu)^2}{N} $$\n",
    "\n",
    "Where:\n",
    "\n",
    "+ \\\\(\\sigma^2\\\\) is the population variance\n",
    "+ \\\\(\\mu\\\\) is the population mean\n",
    "+ \\\\(N\\\\) is the population count\n",
    "\n",
    "#### Sample variance\n",
    "\n",
    "$$ s^2 = \\frac{\\sum_{i=1}^n (x_i - \\bar x)^2}{n-1} $$\n",
    "\n",
    "Where:\n",
    "\n",
    "+ \\\\(s^2\\\\) is the sample variance\n",
    "+ \\\\(\\bar x\\\\) is the population mean\n",
    "+ \\\\(n\\\\) is the population count\n",
    "\n",
    "You may notice that the denomiator is \\\\(n-1\\\\). This is called Bessel's correction. It is used when calculating the variance of samples. You can dive down the rabbit hole on Wikipedia.\n",
    "\n",
    "A couple of notes about variance: First, the distances are squared so that the variance always adds to a positive sum. Second, the *the units in which the original data was measured are squared!* This means that the variance cannot be interpreted in terms of the units of the original measurements.\n",
    "\n",
    "Wikipedia has more about variance at: [https://en.wikipedia.org/wiki/Variance](https://en.wikipedia.org/wiki/Variance)\n",
    "\n",
    "It is nice to be able to view the dispersion in terms of the original measurement units. That is where standard deviation comes in.\n",
    "\n",
    "### Standard deviation\n",
    "\n",
    "Standard deviation is simply the square root of the variance:\n",
    "\n",
    "#### Population standard deviation\n",
    "\n",
    "$$ \\sigma = \\sqrt{\\frac{\\sum_{i=1}^N (x_i - \\mu)^2}{N}} $$\n",
    "\n",
    "Where:\n",
    "\n",
    "+ \\\\(\\sigma\\\\) is the population standard deviation\n",
    "+ \\\\(\\mu\\\\) is the population mean\n",
    "+ \\\\(N\\\\) is the population count\n",
    "\n",
    "You will also see something similar in concept to standard deviation called *standard error of the mean* in the sampling lesson, when we build confidence intervals.\n",
    "\n",
    "#### Sample standard deviation\n",
    "\n",
    "$$ s = \\sqrt{\\frac{\\sum_{i=1}^n (x_i - \\bar x)^2}{n-1}} $$\n",
    "\n",
    "Where:\n",
    "\n",
    "+ \\\\(s\\\\) is the sample standard deviation\n",
    "+ \\\\(\\bar x\\\\) is the population mean\n",
    "+ \\\\(n\\\\) is the population count\n",
    "\n",
    "### Want more?!\n",
    "\n",
    "For more on Standard deviation and variance, and Bessel's correction head over to Wikipedia:\n",
    "\n",
    "+ [https://en.wikipedia.org/wiki/Bessel%27s_correction](https://en.wikipedia.org/wiki/Bessel%27s_correction)\n",
    "+ [https://en.wikipedia.org/wiki/Standard_deviation](https://en.wikipedia.org/wiki/Standard_deviation)\n",
    "+ [https://en.wikipedia.org/wiki/Variance](https://en.wikipedia.org/wiki/Variance)"
   ]
  },
  {
   "cell_type": "markdown",
   "metadata": {},
   "source": [
    "In the \"Normal Distribution\" lesson, you will see how increasing or decreasing standard deviation (or variance) affects the shape of the data."
   ]
  },
  {
   "cell_type": "markdown",
   "metadata": {},
   "source": [
    "# Explore Red Wine\n",
    "\n",
    "This is a dataset about chemical analyses of red wine.\n",
    "\n",
    "### pH and density are very normally distributed\n",
    "\n",
    "Their mean and median are very close and they are symmetrical.\n",
    "\n",
    "### alcohol and fixed acidity are skewed\n",
    "\n",
    "The mean and median are separated\n",
    "\n",
    "### histograms and binning\n",
    "\n",
    "We will see what binning and histrograms do here."
   ]
  },
  {
   "cell_type": "code",
   "execution_count": 20,
   "metadata": {},
   "outputs": [],
   "source": [
    "df = pd.read_csv('data/winequality-red.csv', delimiter=';')\n",
    "df3 = df[['pH', 'alcohol', 'density', 'fixed acidity']]"
   ]
  },
  {
   "cell_type": "markdown",
   "metadata": {},
   "source": [
    "Get basic summary statitics for the 4 columns we are looking at. We see the number of calues, mean, standard deviation, quartiles, minimums and maximums"
   ]
  },
  {
   "cell_type": "code",
   "execution_count": 16,
   "metadata": {},
   "outputs": [
    {
     "data": {
      "text/html": [
       "<div>\n",
       "<style scoped>\n",
       "    .dataframe tbody tr th:only-of-type {\n",
       "        vertical-align: middle;\n",
       "    }\n",
       "\n",
       "    .dataframe tbody tr th {\n",
       "        vertical-align: top;\n",
       "    }\n",
       "\n",
       "    .dataframe thead th {\n",
       "        text-align: right;\n",
       "    }\n",
       "</style>\n",
       "<table border=\"1\" class=\"dataframe\">\n",
       "  <thead>\n",
       "    <tr style=\"text-align: right;\">\n",
       "      <th></th>\n",
       "      <th>pH</th>\n",
       "      <th>alcohol</th>\n",
       "      <th>density</th>\n",
       "      <th>fixed acidity</th>\n",
       "    </tr>\n",
       "  </thead>\n",
       "  <tbody>\n",
       "    <tr>\n",
       "      <th>count</th>\n",
       "      <td>1599.000000</td>\n",
       "      <td>1599.000000</td>\n",
       "      <td>1599.000000</td>\n",
       "      <td>1599.000000</td>\n",
       "    </tr>\n",
       "    <tr>\n",
       "      <th>mean</th>\n",
       "      <td>3.311113</td>\n",
       "      <td>10.422983</td>\n",
       "      <td>0.996747</td>\n",
       "      <td>8.319637</td>\n",
       "    </tr>\n",
       "    <tr>\n",
       "      <th>std</th>\n",
       "      <td>0.154386</td>\n",
       "      <td>1.065668</td>\n",
       "      <td>0.001887</td>\n",
       "      <td>1.741096</td>\n",
       "    </tr>\n",
       "    <tr>\n",
       "      <th>min</th>\n",
       "      <td>2.740000</td>\n",
       "      <td>8.400000</td>\n",
       "      <td>0.990070</td>\n",
       "      <td>4.600000</td>\n",
       "    </tr>\n",
       "    <tr>\n",
       "      <th>25%</th>\n",
       "      <td>3.210000</td>\n",
       "      <td>9.500000</td>\n",
       "      <td>0.995600</td>\n",
       "      <td>7.100000</td>\n",
       "    </tr>\n",
       "    <tr>\n",
       "      <th>50%</th>\n",
       "      <td>3.310000</td>\n",
       "      <td>10.200000</td>\n",
       "      <td>0.996750</td>\n",
       "      <td>7.900000</td>\n",
       "    </tr>\n",
       "    <tr>\n",
       "      <th>75%</th>\n",
       "      <td>3.400000</td>\n",
       "      <td>11.100000</td>\n",
       "      <td>0.997835</td>\n",
       "      <td>9.200000</td>\n",
       "    </tr>\n",
       "    <tr>\n",
       "      <th>max</th>\n",
       "      <td>4.010000</td>\n",
       "      <td>14.900000</td>\n",
       "      <td>1.003690</td>\n",
       "      <td>15.900000</td>\n",
       "    </tr>\n",
       "  </tbody>\n",
       "</table>\n",
       "</div>"
      ],
      "text/plain": [
       "                pH      alcohol      density  fixed acidity\n",
       "count  1599.000000  1599.000000  1599.000000    1599.000000\n",
       "mean      3.311113    10.422983     0.996747       8.319637\n",
       "std       0.154386     1.065668     0.001887       1.741096\n",
       "min       2.740000     8.400000     0.990070       4.600000\n",
       "25%       3.210000     9.500000     0.995600       7.100000\n",
       "50%       3.310000    10.200000     0.996750       7.900000\n",
       "75%       3.400000    11.100000     0.997835       9.200000\n",
       "max       4.010000    14.900000     1.003690      15.900000"
      ]
     },
     "execution_count": 16,
     "metadata": {},
     "output_type": "execute_result"
    }
   ],
   "source": [
    "df3.describe()"
   ]
  },
  {
   "cell_type": "code",
   "execution_count": 19,
   "metadata": {},
   "outputs": [
    {
     "name": "stderr",
     "output_type": "stream",
     "text": [
      "/Users/alicia/anaconda3/lib/python3.6/site-packages/matplotlib/axes/_axes.py:6462: UserWarning: The 'normed' kwarg is deprecated, and has been replaced by the 'density' kwarg.\n",
      "  warnings.warn(\"The 'normed' kwarg is deprecated, and has been \"\n",
      "/Users/alicia/anaconda3/lib/python3.6/site-packages/matplotlib/axes/_axes.py:6462: UserWarning: The 'normed' kwarg is deprecated, and has been replaced by the 'density' kwarg.\n",
      "  warnings.warn(\"The 'normed' kwarg is deprecated, and has been \"\n",
      "/Users/alicia/anaconda3/lib/python3.6/site-packages/matplotlib/axes/_axes.py:6462: UserWarning: The 'normed' kwarg is deprecated, and has been replaced by the 'density' kwarg.\n",
      "  warnings.warn(\"The 'normed' kwarg is deprecated, and has been \"\n",
      "/Users/alicia/anaconda3/lib/python3.6/site-packages/matplotlib/axes/_axes.py:6462: UserWarning: The 'normed' kwarg is deprecated, and has been replaced by the 'density' kwarg.\n",
      "  warnings.warn(\"The 'normed' kwarg is deprecated, and has been \"\n"
     ]
    },
    {
     "data": {
      "image/png": "[encoded data removed]",
      "text/plain": [
       "<Figure size 1440x360 with 1 Axes>"
      ]
     },
     "metadata": {},
     "output_type": "display_data"
    },
    {
     "data": {
      "image/png": "[encoded data removed]",
      "text/plain": [
       "<Figure size 1440x360 with 1 Axes>"
      ]
     },
     "metadata": {},
     "output_type": "display_data"
    },
    {
     "data": {
      "image/png": "[encoded data removed]",
      "text/plain": [
       "<Figure size 1440x360 with 1 Axes>"
      ]
     },
     "metadata": {},
     "output_type": "display_data"
    },
    {
     "data": {
      "image/png": "[encoded data removed]",
      "text/plain": [
       "<Figure size 1440x360 with 1 Axes>"
      ]
     },
     "metadata": {},
     "output_type": "display_data"
    }
   ],
   "source": [
    "bins = 20\n",
    "cols = df3.columns\n",
    "for col in df3.columns:\n",
    "    plt.figure(figsize=(20,5))\n",
    "    ax = sns.distplot(df3[col], bins=bins, kde=False)\n",
    "    ax.axvline(x=df3[col].mean(), ymin=0.0, ymax=1.0, color='red', ls=':', lw=5.0, alpha=0.9)\n",
    "    ax.axvline(x=df3[col].median(), ymin=0.0, ymax=1.0, color='green', ls='-', lw=5.0, alpha=0.9)"
   ]
  },
  {
   "cell_type": "code",
   "execution_count": null,
   "metadata": {},
   "outputs": [],
   "source": []
  }
 ],
 "metadata": {
  "kernelspec": {
   "display_name": "Python 3",
   "language": "python",
   "name": "python3"
  },
  "language_info": {
   "codemirror_mode": {
    "name": "ipython",
    "version": 3
   },
   "file_extension": ".py",
   "mimetype": "text/x-python",
   "name": "python",
   "nbconvert_exporter": "python",
   "pygments_lexer": "ipython3",
   "version": "3.6.5"
  }
 },
 "nbformat": 4,
 "nbformat_minor": 2
}
