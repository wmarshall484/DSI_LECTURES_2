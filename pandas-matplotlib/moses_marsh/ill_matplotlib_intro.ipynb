{
 "cells": [
  {
   "cell_type": "code",
   "execution_count": 4,
   "metadata": {
    "collapsed": false
   },
   "outputs": [
    {
     "name": "stderr",
     "output_type": "stream",
     "text": [
      "/Users/isaac/anaconda/lib/python2.7/site-packages/matplotlib/__init__.py:917: UserWarning: axes.hold is deprecated. Please remove it from your matplotlibrc and/or style files.\n",
      "  warnings.warn(self.msg_depr_set % key)\n"
     ]
    },
    {
     "data": {
      "text/plain": [
       "<module 'matplotlib' from '/Users/isaac/anaconda/lib/python2.7/site-packages/matplotlib/__init__.pyc'>"
      ]
     },
     "execution_count": 4,
     "metadata": {},
     "output_type": "execute_result"
    }
   ],
   "source": [
    "reload(matplotlib)"
   ]
  },
  {
   "cell_type": "code",
   "execution_count": 52,
   "metadata": {
    "collapsed": false
   },
   "outputs": [],
   "source": [
    "import matplotlib\n",
    "matplotlib.__version__\n",
    "import seaborn as sns"
   ]
  },
  {
   "cell_type": "code",
   "execution_count": null,
   "metadata": {
    "collapsed": true
   },
   "outputs": [],
   "source": []
  },
  {
   "cell_type": "code",
   "execution_count": 53,
   "metadata": {
    "collapsed": false
   },
   "outputs": [
    {
     "name": "stdout",
     "output_type": "stream",
     "text": [
      "Populating the interactive namespace from numpy and matplotlib\n"
     ]
    },
    {
     "name": "stderr",
     "output_type": "stream",
     "text": [
      "/Users/isaac/anaconda/envs/py35/lib/python3.5/site-packages/IPython/core/magics/pylab.py:161: UserWarning: pylab import has clobbered these variables: ['axes']\n",
      "`%matplotlib` prevents importing * from pylab and numpy\n",
      "  \"\\n`%matplotlib` prevents importing * from pylab and numpy\"\n"
     ]
    }
   ],
   "source": [
    "import matplotlib.pyplot as plt\n",
    "import numpy as np\n",
    "%pylab inline"
   ]
  },
  {
   "cell_type": "markdown",
   "metadata": {},
   "source": [
    "# Learning Objectives\n",
    "\n",
    "1. Name and recognize the two interfaces to matplotlib\n",
    "2. Be able to use both interfaces to generate charts\n",
    "3. Understand the connection between matplotlib and seaborne/pandas\n",
    "4. Make plots with multiple datasets, and figures\n",
    "5. Know the recommended functional form for writing your own plotting functions"
   ]
  },
  {
   "cell_type": "markdown",
   "metadata": {},
   "source": [
    "# Plotting in Python\n",
    "\n",
    "There are many libraries for doing plotting in Python. Some you may encounter\n",
    "* Plotly\n",
    "* Bokeh\n",
    "* **Matplotlib**\n",
    "* **Seaborne**\n",
    "* **Pandas**\n",
    "* ggplot (port of R package of same name)\n",
    "\n",
    "All of these aim to solve the same problem: allowing you to visualize your data."
   ]
  },
  {
   "cell_type": "markdown",
   "metadata": {},
   "source": [
    "# Appreciating the challenges\n",
    "\n",
    "A good plotting library should:\n",
    "\n",
    "* Be easy to use.\n",
    "* Allow plotting of all kinds of data.\n",
    "* Support arbitrarily fine-grained control.\n",
    "* Support a variety of backends to make graphs in various formats."
   ]
  },
  {
   "cell_type": "markdown",
   "metadata": {},
   "source": [
    "# Matplotlib\n",
    "\n",
    "While everyone has different opinions about what library is best, everybody knows and has used matplotlib. This makes it the de-facto choice for plotting in python.\n",
    "\n",
    "## How does it work?\n",
    "\n",
    "In an effort to make easy things easy, and hard things possible, matplotlib has a number of different levels at which it can be accessed. They are:\n",
    "\n",
    "| Level | Control | Complexity |\n",
    "|-------|---------|------------|\n",
    "| plt | minimal, fast interface for plots, annotations | low |\n",
    "| OO interface w/ pyplot | fine-grained control over figure, axes, etc. | medium |\n",
    "| pure OO interface | Embed plots in GUI applicatione e.g. | too high |"
   ]
  },
  {
   "cell_type": "markdown",
   "metadata": {},
   "source": [
    "# plt example"
   ]
  },
  {
   "cell_type": "code",
   "execution_count": 54,
   "metadata": {
    "collapsed": false,
    "scrolled": true
   },
   "outputs": [
    {
     "data": {
      "image/png": "[encoded data removed]",
      "text/plain": [
       "<matplotlib.figure.Figure at 0x115b4b3c8>"
      ]
     },
     "metadata": {},
     "output_type": "display_data"
    }
   ],
   "source": [
    "x_data = np.arange(0, 4, .011)\n",
    "y_data = np.sin(x_data)\n",
    "plt.plot(x_data, y_data)\n",
    "plt.plot(x_data, np.cos(x_data))\n",
    "plt.show()"
   ]
  },
  {
   "cell_type": "code",
   "execution_count": 55,
   "metadata": {
    "collapsed": false
   },
   "outputs": [
    {
     "data": {
      "text/plain": [
       "module"
      ]
     },
     "execution_count": 55,
     "metadata": {},
     "output_type": "execute_result"
    }
   ],
   "source": [
    "type(plt)"
   ]
  },
  {
   "cell_type": "code",
   "execution_count": 56,
   "metadata": {
    "collapsed": false
   },
   "outputs": [
    {
     "data": {
      "text/plain": [
       "function"
      ]
     },
     "execution_count": 56,
     "metadata": {},
     "output_type": "execute_result"
    }
   ],
   "source": [
    "type(plt.plot)"
   ]
  },
  {
   "cell_type": "markdown",
   "metadata": {},
   "source": [
    "## Weird\n",
    "\n",
    "`plt` was imported as a library, but it appears to be keeping some state between the last two lines above, behavior that we'd usually associate with objects.\n",
    "\n",
    "In fact, `plt`, operates in a not-very-pythonic way."
   ]
  },
  {
   "cell_type": "code",
   "execution_count": 57,
   "metadata": {
    "collapsed": false
   },
   "outputs": [
    {
     "data": {
      "image/png": "[encoded data removed]",
      "text/plain": [
       "<matplotlib.figure.Figure at 0x1137d0ba8>"
      ]
     },
     "metadata": {},
     "output_type": "display_data"
    }
   ],
   "source": [
    "x_data = np.arange(0, 4, .01)\n",
    "y_data = np.sin(x_data)\n",
    "plt.plot(x_data, y_data)\n",
    "#We can actually keep adding state here, and it will be \n",
    "#reflected when we finally call show.\n",
    "plt.plot(x_data, np.cos(x_data))\n",
    "plt.title(\"sin(x) & cos(x)\")\n",
    "plt.show()"
   ]
  },
  {
   "cell_type": "markdown",
   "metadata": {},
   "source": [
    "If you thought it was strange that we were working in Python, but there didn't seem to be any objects required to make our image, join the club!\n",
    "\n",
    "# Behind the curtain\n",
    "\n",
    "![Matplotlib diagram](http://matplotlib.org/_images/fig_map.png)\n",
    "\n"
   ]
  },
  {
   "cell_type": "code",
   "execution_count": 58,
   "metadata": {
    "collapsed": true
   },
   "outputs": [],
   "source": [
    "plt.figure?"
   ]
  },
  {
   "cell_type": "code",
   "execution_count": 59,
   "metadata": {
    "collapsed": false
   },
   "outputs": [
    {
     "data": {
      "text/plain": [
       "<matplotlib.figure.Figure at 0x11401b5c0>"
      ]
     },
     "metadata": {},
     "output_type": "display_data"
    }
   ],
   "source": [
    "fig = plt.figure()\n",
    "fig.add_subplot?"
   ]
  },
  {
   "cell_type": "code",
   "execution_count": 60,
   "metadata": {
    "collapsed": false,
    "scrolled": true
   },
   "outputs": [
    {
     "data": {
      "image/png": "[encoded data removed]",
      "text/plain": [
       "<matplotlib.figure.Figure at 0x11600bac8>"
      ]
     },
     "metadata": {},
     "output_type": "display_data"
    }
   ],
   "source": [
    "fig = plt.figure(figsize=(9,4))\n",
    "ax = fig.add_subplot(121) #nrows, ncols, plotnumber\n",
    "ax2 = fig.add_subplot(3, 5, 10)\n",
    "ax.plot(x_data, y_data)\n",
    "ax.plot(x_data, np.cos(x_data))\n",
    "ax.set_title('sin(x) and cos(x)')\n",
    "ax2.plot(x_data, y_data)\n",
    "plt.show()"
   ]
  },
  {
   "cell_type": "markdown",
   "metadata": {},
   "source": [
    "In this example, the fact that state is maintained is less surprising.\n",
    "\n",
    "## Polling break 1"
   ]
  },
  {
   "cell_type": "markdown",
   "metadata": {},
   "source": [
    "# Mix 'n' Match\n",
    "\n",
    "Turns out, you can combine `plt` and object-oriented approach."
   ]
  },
  {
   "cell_type": "code",
   "execution_count": 61,
   "metadata": {
    "collapsed": false
   },
   "outputs": [
    {
     "data": {
      "image/png": "[encoded data removed]",
      "text/plain": [
       "<matplotlib.figure.Figure at 0x110201cc0>"
      ]
     },
     "metadata": {},
     "output_type": "display_data"
    }
   ],
   "source": [
    "fig = plt.figure()\n",
    "ax = fig.add_subplot(121)\n",
    "plt.title('sin(x) and cos(x)')\n",
    "ax2 = fig.add_subplot(1,2,2)\n",
    "plt.title('straight line')\n",
    "ax_ret = ax.plot(x_data, y_data, color='m', alpha=.25)\n",
    "ax.plot(x_data, np.cos(x_data))\n",
    "#ax_ret[0].set_alpha(.25)\n",
    "ax2.plot(x_data, x_data)\n",
    "plt.show()"
   ]
  },
  {
   "cell_type": "code",
   "execution_count": 62,
   "metadata": {
    "collapsed": false
   },
   "outputs": [],
   "source": [
    "line = ax_ret[0]\n",
    "line.set_alpha(.25)"
   ]
  },
  {
   "cell_type": "code",
   "execution_count": 63,
   "metadata": {
    "collapsed": false
   },
   "outputs": [
    {
     "data": {
      "text/plain": [
       "[<matplotlib.lines.Line2D at 0x11314c048>]"
      ]
     },
     "execution_count": 63,
     "metadata": {},
     "output_type": "execute_result"
    }
   ],
   "source": [
    "ax_ret"
   ]
  },
  {
   "cell_type": "markdown",
   "metadata": {},
   "source": [
    "# Why should we use the OO oriented approach?\n",
    "\n",
    "If we want to exercise fine-grained control over our plots that isn't offered via the `plt` shortcuts."
   ]
  },
  {
   "cell_type": "code",
   "execution_count": 64,
   "metadata": {
    "collapsed": false
   },
   "outputs": [
    {
     "data": {
      "text/plain": [
       "<matplotlib.legend.Legend at 0x11316e3c8>"
      ]
     },
     "execution_count": 64,
     "metadata": {},
     "output_type": "execute_result"
    },
    {
     "data": {
      "image/png": "[encoded data removed]",
      "text/plain": [
       "<matplotlib.figure.Figure at 0x11344f7f0>"
      ]
     },
     "metadata": {},
     "output_type": "display_data"
    }
   ],
   "source": [
    "#Layout\n",
    "fig = plt.figure()\n",
    "ax = fig.add_subplot(111)\n",
    "#Plotting\n",
    "ax.plot(x_data, y_data, label='sin(x)')\n",
    "ax.plot(x_data, np.cos(x_data), label='cos(x)')\n",
    "ax.set_title('sin(x) and cos(x)')\n",
    "ax.legend()"
   ]
  },
  {
   "cell_type": "markdown",
   "metadata": {},
   "source": [
    "# Multiple plots"
   ]
  },
  {
   "cell_type": "code",
   "execution_count": 65,
   "metadata": {
    "collapsed": false
   },
   "outputs": [
    {
     "name": "stderr",
     "output_type": "stream",
     "text": [
      "/Users/isaac/anaconda/envs/py35/lib/python3.5/site-packages/ipykernel/__main__.py:8: RuntimeWarning: divide by zero encountered in log\n"
     ]
    },
    {
     "data": {
      "text/plain": [
       "[<matplotlib.lines.Line2D at 0x1161eaa20>]"
      ]
     },
     "execution_count": 65,
     "metadata": {},
     "output_type": "execute_result"
    },
    {
     "data": {
      "image/png": "[encoded data removed]",
      "text/plain": [
       "<matplotlib.figure.Figure at 0x116145668>"
      ]
     },
     "metadata": {},
     "output_type": "display_data"
    }
   ],
   "source": [
    "#Layout 2,2 with center pane.\n",
    "fig, ax_list = plt.subplots(2, 2)\n",
    "ax = fig.add_subplot(3, 3, 5)\n",
    "#Draw on axes\n",
    "y_funcs = [np.sin, np.cos, np.sqrt, lambda x: x]\n",
    "for subp, y_func in zip(ax_list.flatten(), y_funcs):\n",
    "    subp.plot(x_data, y_func(x_data))\n",
    "ax.plot(x_data, np.log(x_data))"
   ]
  },
  {
   "cell_type": "code",
   "execution_count": 66,
   "metadata": {
    "collapsed": false
   },
   "outputs": [
    {
     "data": {
      "text/plain": [
       "array([[<matplotlib.axes._subplots.AxesSubplot object at 0x110974400>,\n",
       "        <matplotlib.axes._subplots.AxesSubplot object at 0x11601c8d0>],\n",
       "       [<matplotlib.axes._subplots.AxesSubplot object at 0x11326f358>,\n",
       "        <matplotlib.axes._subplots.AxesSubplot object at 0x1131c1198>]], dtype=object)"
      ]
     },
     "execution_count": 66,
     "metadata": {},
     "output_type": "execute_result"
    }
   ],
   "source": [
    "ax_list"
   ]
  },
  {
   "cell_type": "markdown",
   "metadata": {},
   "source": [
    "# What about pandas?"
   ]
  },
  {
   "cell_type": "code",
   "execution_count": 67,
   "metadata": {
    "collapsed": false
   },
   "outputs": [],
   "source": [
    "import pandas as pd"
   ]
  },
  {
   "cell_type": "code",
   "execution_count": 68,
   "metadata": {
    "collapsed": false
   },
   "outputs": [
    {
     "data": {
      "text/html": [
       "<div>\n",
       "<table border=\"1\" class=\"dataframe\">\n",
       "  <thead>\n",
       "    <tr style=\"text-align: right;\">\n",
       "      <th></th>\n",
       "      <th>cosx</th>\n",
       "      <th>rand</th>\n",
       "      <th>sinx</th>\n",
       "    </tr>\n",
       "    <tr>\n",
       "      <th>x</th>\n",
       "      <th></th>\n",
       "      <th></th>\n",
       "      <th></th>\n",
       "    </tr>\n",
       "  </thead>\n",
       "  <tbody>\n",
       "    <tr>\n",
       "      <th>0.00</th>\n",
       "      <td>1.00000</td>\n",
       "      <td>0.845067</td>\n",
       "      <td>0.000000</td>\n",
       "    </tr>\n",
       "    <tr>\n",
       "      <th>0.01</th>\n",
       "      <td>0.99995</td>\n",
       "      <td>0.974333</td>\n",
       "      <td>0.010000</td>\n",
       "    </tr>\n",
       "    <tr>\n",
       "      <th>0.02</th>\n",
       "      <td>0.99980</td>\n",
       "      <td>0.960266</td>\n",
       "      <td>0.019999</td>\n",
       "    </tr>\n",
       "    <tr>\n",
       "      <th>0.03</th>\n",
       "      <td>0.99955</td>\n",
       "      <td>0.776198</td>\n",
       "      <td>0.029996</td>\n",
       "    </tr>\n",
       "    <tr>\n",
       "      <th>0.04</th>\n",
       "      <td>0.99920</td>\n",
       "      <td>0.506315</td>\n",
       "      <td>0.039989</td>\n",
       "    </tr>\n",
       "  </tbody>\n",
       "</table>\n",
       "</div>"
      ],
      "text/plain": [
       "         cosx      rand      sinx\n",
       "x                                \n",
       "0.00  1.00000  0.845067  0.000000\n",
       "0.01  0.99995  0.974333  0.010000\n",
       "0.02  0.99980  0.960266  0.019999\n",
       "0.03  0.99955  0.776198  0.029996\n",
       "0.04  0.99920  0.506315  0.039989"
      ]
     },
     "execution_count": 68,
     "metadata": {},
     "output_type": "execute_result"
    }
   ],
   "source": [
    "df = pd.DataFrame({'x':x_data, 'sinx':np.sin(x_data), 'cosx':np.cos(x_data),\n",
    "                  'rand':np.random.rand(len(x_data))})\n",
    "df = df.set_index('x')\n",
    "df.head()"
   ]
  },
  {
   "cell_type": "code",
   "execution_count": 69,
   "metadata": {
    "collapsed": true
   },
   "outputs": [],
   "source": [
    "df.cosx.plot?"
   ]
  },
  {
   "cell_type": "code",
   "execution_count": 70,
   "metadata": {
    "collapsed": false
   },
   "outputs": [
    {
     "data": {
      "text/plain": [
       "<matplotlib.axes._subplots.AxesSubplot at 0x1130b9c88>"
      ]
     },
     "execution_count": 70,
     "metadata": {},
     "output_type": "execute_result"
    },
    {
     "data": {
      "image/png": "[encoded data removed]",
      "text/plain": [
       "<matplotlib.figure.Figure at 0x11607d8d0>"
      ]
     },
     "metadata": {},
     "output_type": "display_data"
    }
   ],
   "source": [
    "ax = df.cosx.plot()\n",
    "ax.set_title('sin(x) & cos(x)')\n",
    "df.sinx.plot()"
   ]
  },
  {
   "cell_type": "markdown",
   "metadata": {},
   "source": [
    "Calling the plot method on a pandas series returns a familiar matplotlib axes object."
   ]
  },
  {
   "cell_type": "code",
   "execution_count": null,
   "metadata": {
    "collapsed": true
   },
   "outputs": [],
   "source": []
  },
  {
   "cell_type": "code",
   "execution_count": 71,
   "metadata": {
    "collapsed": false
   },
   "outputs": [
    {
     "data": {
      "text/plain": [
       "(-1, 1)"
      ]
     },
     "execution_count": 71,
     "metadata": {},
     "output_type": "execute_result"
    },
    {
     "data": {
      "image/png": "[encoded data removed]",
      "text/plain": [
       "<matplotlib.figure.Figure at 0x116340fd0>"
      ]
     },
     "metadata": {},
     "output_type": "display_data"
    }
   ],
   "source": [
    "#We can also supply an axes object on which to draw!\n",
    "fig, ax_list = plt.subplots(3,1)\n",
    "cols = ['sinx', 'cosx', 'rand']\n",
    "for ax, col in zip(ax_list, cols):\n",
    "    df[col].plot(ax=ax)\n",
    "    ax.legend()\n",
    "top_ax = ax_list[0]\n",
    "top_ax.set_ylim(bottom=-1, top=1)"
   ]
  },
  {
   "cell_type": "code",
   "execution_count": 72,
   "metadata": {
    "collapsed": false
   },
   "outputs": [
    {
     "ename": "SyntaxError",
     "evalue": "Missing parentheses in call to 'print' (<ipython-input-72-e33e41ac61b3>, line 2)",
     "output_type": "error",
     "traceback": [
      "\u001b[0;36m  File \u001b[0;32m\"<ipython-input-72-e33e41ac61b3>\"\u001b[0;36m, line \u001b[0;32m2\u001b[0m\n\u001b[0;31m    print args, kwargs\u001b[0m\n\u001b[0m             ^\u001b[0m\n\u001b[0;31mSyntaxError\u001b[0m\u001b[0;31m:\u001b[0m Missing parentheses in call to 'print'\n"
     ]
    }
   ],
   "source": [
    "def our_own(*args, **kwargs):\n",
    "    print args, kwargs\n",
    "our_own(1,2,3, one=1, two=2)"
   ]
  },
  {
   "cell_type": "code",
   "execution_count": null,
   "metadata": {
    "collapsed": false
   },
   "outputs": [],
   "source": [
    "data = (x_data, y_data)\n",
    "plt.plot(*data)"
   ]
  },
  {
   "cell_type": "code",
   "execution_count": null,
   "metadata": {
    "collapsed": true
   },
   "outputs": [],
   "source": [
    "import sklearn.linear_model as lm"
   ]
  },
  {
   "cell_type": "code",
   "execution_count": null,
   "metadata": {
    "collapsed": false
   },
   "outputs": [],
   "source": [
    "fig = plt.figure()\n",
    "ax = fig.add_subplot(1,1,1)\n",
    "ret_val = ax.plot(x_data, y_data)\n",
    "ret_val"
   ]
  },
  {
   "cell_type": "markdown",
   "metadata": {},
   "source": [
    "# Writing plotting functions"
   ]
  },
  {
   "cell_type": "code",
   "execution_count": null,
   "metadata": {
    "collapsed": true
   },
   "outputs": [],
   "source": [
    "def my_plotter(ax, data1, data2, param_dict):\n",
    "    \"\"\"\n",
    "    A helper function to make a graph\n",
    "\n",
    "    Parameters\n",
    "    ----------\n",
    "    ax : Axes\n",
    "        The axes to draw to\n",
    "\n",
    "    data1 : array\n",
    "       The x data\n",
    "\n",
    "    data2 : array\n",
    "       The y data\n",
    "\n",
    "    param_dict : dict\n",
    "       Dictionary of kwargs to pass to ax.plot\n",
    "\n",
    "    Returns\n",
    "    -------\n",
    "    out : list\n",
    "        list of artists added\n",
    "    \"\"\"\n",
    "    out = ax.plot(data1, data2, **param_dict)\n",
    "    return out"
   ]
  },
  {
   "cell_type": "code",
   "execution_count": null,
   "metadata": {
    "collapsed": false
   },
   "outputs": [],
   "source": [
    "ax = fig.add_subplot(111)\n",
    "ax.plot(x_data, y_data)\n",
    "ax"
   ]
  },
  {
   "cell_type": "markdown",
   "metadata": {},
   "source": [
    "# Example:\n",
    "Let's write a function that draws some data, and some horizontal\n",
    "lines representing the 25th and 75th percentile.\n",
    "\n",
    "We'll call it iqr_plot.\n",
    "\n",
    "### I do: \n",
    "a function for drawing a horizontal line at some point.\n",
    "\n",
    "### We do: \n",
    "write the iqr_plot function.\n",
    "\n",
    "### You do: \n",
    "make a 2 by 2 grid of plots using this function.\n"
   ]
  },
  {
   "cell_type": "code",
   "execution_count": null,
   "metadata": {
    "collapsed": true
   },
   "outputs": [],
   "source": [
    "def horizontal_line(ax, x_data, y):\n",
    "    line = ax.hlines(y, min(x_data), max(x_data))\n",
    "    return [line]"
   ]
  },
  {
   "cell_type": "code",
   "execution_count": null,
   "metadata": {
    "collapsed": false
   },
   "outputs": [],
   "source": [
    "def horizontal_line(ax, x_data, y):\n",
    "    line = ax.hlines(y, min(x_data), max(x_data))\n",
    "    return [line]\n",
    "fig = plt.figure()\n",
    "ax = fig.add_subplot(111)\n",
    "horizontal_line(ax, x_data, .5)\n",
    "plt.show()"
   ]
  },
  {
   "cell_type": "code",
   "execution_count": null,
   "metadata": {
    "collapsed": false
   },
   "outputs": [],
   "source": [
    "def iqr_plot(ax, x_data, y_data):\n",
    "    #plot 3 things, 2 horizontal lines, data itself.\n",
    "    data_line = ax.plot(x_data, y_data)\n",
    "    pct_75 = np.percentile(y_data, 75)\n",
    "    pct_25 = np.percentile(y_data, 25)\n",
    "    upper = horizontal_line(ax, x_data, pct_75)\n",
    "    lower = horizontal_line(ax, x_data, pct_25)\n",
    "    return data_line + upper + lower\n",
    "fig, axes = plt.subplots(1,1)\n",
    "lines = iqr_plot(axes, x_data, y_data)\n",
    "axes.set_title(\"IQR Plot\")\n"
   ]
  },
  {
   "cell_type": "code",
   "execution_count": null,
   "metadata": {
    "collapsed": false
   },
   "outputs": [],
   "source": [
    "lines"
   ]
  },
  {
   "cell_type": "code",
   "execution_count": null,
   "metadata": {
    "collapsed": true
   },
   "outputs": [],
   "source": [
    "np.percentile?"
   ]
  },
  {
   "cell_type": "markdown",
   "metadata": {},
   "source": []
  },
  {
   "cell_type": "code",
   "execution_count": null,
   "metadata": {
    "collapsed": true
   },
   "outputs": [],
   "source": []
  },
  {
   "cell_type": "code",
   "execution_count": null,
   "metadata": {
    "collapsed": true
   },
   "outputs": [],
   "source": []
  },
  {
   "cell_type": "code",
   "execution_count": null,
   "metadata": {
    "collapsed": true
   },
   "outputs": [],
   "source": []
  },
  {
   "cell_type": "code",
   "execution_count": null,
   "metadata": {
    "collapsed": false
   },
   "outputs": [],
   "source": [
    "def iqr_plot(ax, x_data, y_data):\n",
    "    #plot some data\n",
    "    #plot 25th and 75th percentiles a lines\n",
    "    p25, p75 = np.percentile(y_data, [25, 75])\n",
    "    l1 = horizontal_line(ax, x_data, p25)\n",
    "    l2 = horizontal_line(ax, x_data, p75)\n",
    "    l3 = ax.plot(x_data, y_data)\n",
    "    return l1 + l2 + l3\n",
    "fig = plt.figure()\n",
    "ax = fig.add_subplot(111)\n",
    "iqr_plot(ax, x_data, np.sin(x_data))\n",
    "plt.show()"
   ]
  },
  {
   "cell_type": "code",
   "execution_count": null,
   "metadata": {
    "collapsed": false
   },
   "outputs": [],
   "source": [
    "fig, ax_list = plt.subplots(2,2)\n",
    "Y = [f(x_data) for f in [np.sin, np.cos, np.exp, lambda x: x**3]]\n",
    "for ax, y_data in zip(ax_list.flatten(), Y):\n",
    "    iqr_plot(ax, x_data, y_data)"
   ]
  },
  {
   "cell_type": "code",
   "execution_count": null,
   "metadata": {
    "collapsed": true
   },
   "outputs": [],
   "source": [
    "%pylab inline"
   ]
  },
  {
   "cell_type": "code",
   "execution_count": null,
   "metadata": {
    "collapsed": true
   },
   "outputs": [],
   "source": [
    "import matplotlib.pyplot as plt"
   ]
  },
  {
   "cell_type": "code",
   "execution_count": null,
   "metadata": {
    "collapsed": false
   },
   "outputs": [],
   "source": [
    "x_data = np.arange(1, 4, .1)\n",
    "Y = [f(x_data) for f in [np.cos, np.sin, lambda x: x**2, np.log]]\n",
    "Y"
   ]
  },
  {
   "cell_type": "code",
   "execution_count": null,
   "metadata": {
    "collapsed": false
   },
   "outputs": [],
   "source": [
    "def draw_horizontal(ax, x_data, y, *args, **kwargs):\n",
    "    line = ax.hlines(y, min(x_data), max(x_data), **kwargs)\n",
    "    return [line]\n",
    "fig = plt.figure()\n",
    "ax = fig.add_subplot(111)\n",
    "draw_horizontal(ax, x_data, .5, color='m')"
   ]
  },
  {
   "cell_type": "code",
   "execution_count": null,
   "metadata": {
    "collapsed": false
   },
   "outputs": [],
   "source": [
    "def draw_iqr(ax, x_data, y_data):\n",
    "    #25th and 75th percentiles\n",
    "    p25, p75 = np.percentile(y_data, [25, 75])\n",
    "    h1 = draw_horizontal(ax, x_data, p25)\n",
    "    h1[0].set_color('r')\n",
    "    h2 = draw_horizontal(ax, x_data, p75)\n",
    "    h2[0].set_color('g')\n",
    "    h3 = ax.plot(x_data, y_data)\n",
    "    return h1 + h2 + h3\n",
    "fig = plt.figure()\n",
    "ax = fig.add_subplot(111)\n",
    "draw_iqr(ax, x_data, np.cos(x_data))"
   ]
  },
  {
   "cell_type": "code",
   "execution_count": null,
   "metadata": {
    "collapsed": false
   },
   "outputs": [],
   "source": [
    "ax_list.flatten()"
   ]
  },
  {
   "cell_type": "code",
   "execution_count": null,
   "metadata": {
    "collapsed": false,
    "scrolled": true
   },
   "outputs": [],
   "source": [
    "fig, ax_list = plt.subplots(2,2)\n",
    "for ax, y in zip(ax_list.flatten(), Y):\n",
    "    draw_iqr(ax, x_data, y)"
   ]
  },
  {
   "cell_type": "code",
   "execution_count": null,
   "metadata": {
    "collapsed": false
   },
   "outputs": [],
   "source": [
    "fig = plt.figure()\n",
    "ax = fig.add_subplot(111)\n",
    "my_line = draw_horizontal(ax, x_data, .5)\n",
    "my_line.set_color('m')\n",
    "plt.show()"
   ]
  },
  {
   "cell_type": "code",
   "execution_count": null,
   "metadata": {
    "collapsed": false
   },
   "outputs": [],
   "source": [
    "axes_array = pd.scatter_matrix(df)\n",
    "axes_array[1,0].hlines(0,-1,1)"
   ]
  },
  {
   "cell_type": "markdown",
   "metadata": {},
   "source": [
    "# Seaborn\n",
    "\n",
    "A special data visualization library, *built on matplotlib*, for drawing statistical graphics."
   ]
  },
  {
   "cell_type": "code",
   "execution_count": null,
   "metadata": {
    "collapsed": false
   },
   "outputs": [],
   "source": [
    "import seaborn as sns"
   ]
  },
  {
   "cell_type": "code",
   "execution_count": null,
   "metadata": {
    "collapsed": false
   },
   "outputs": [],
   "source": [
    "#Seaborn\n",
    "seaborn_grid = sns.lmplot(x=\"x\", y=\"sinx\", data=df.reset_index())\n",
    "#Combined with matplotlib\n",
    "seaborn_grid.axes[0,0].hlines(0, -1, 5)"
   ]
  },
  {
   "cell_type": "code",
   "execution_count": null,
   "metadata": {
    "collapsed": false
   },
   "outputs": [],
   "source": [
    "seaborn_grid.axes"
   ]
  },
  {
   "cell_type": "code",
   "execution_count": null,
   "metadata": {
    "collapsed": true
   },
   "outputs": [],
   "source": []
  }
 ],
 "metadata": {
  "kernelspec": {
   "display_name": "Python 3",
   "language": "python",
   "name": "python3"
  },
  "language_info": {
   "codemirror_mode": {
    "name": "ipython",
    "version": 3
   },
   "file_extension": ".py",
   "mimetype": "text/x-python",
   "name": "python",
   "nbconvert_exporter": "python",
   "pygments_lexer": "ipython3",
   "version": "3.5.2"
  }
 },
 "nbformat": 4,
 "nbformat_minor": 0
}
