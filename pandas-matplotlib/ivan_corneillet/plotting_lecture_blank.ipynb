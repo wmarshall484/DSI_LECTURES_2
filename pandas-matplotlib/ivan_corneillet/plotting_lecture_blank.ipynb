{
 "cells": [
  {
   "cell_type": "markdown",
   "metadata": {},
   "source": [
    "# Introduction to plotting with Matplotlib, pandas, and Seaborn\n",
    "\n",
    "## Learning Objectives\n",
    "\n",
    "1. Say why Matplotlib and Jupyter pair well together\n",
    "2. Name, recognize, and use the two interfaces to Matplotlib\n",
    "3. Understand the connection between Matplotlib, pandas, and Seaborn\n",
    "4. Understand subplots, figures, and axes\n",
    "5. Know the recommended functional form for writing your own plotting functions\n",
    "\n",
    "## Plotting in Python\n",
    "\n",
    "There are many libraries for doing plotting in Python. Some you may encounter:\n",
    "- **Matplotlib**\n",
    "- **pandas**\n",
    "- **Seaborn**\n",
    "- ggplot (port of R package of the same name)\n",
    "- Plotly\n",
    "- Bokeh\n",
    "\n",
    "All of these aim to solve the same problem: allowing you to visualize your data.\n",
    "\n",
    "## Why so many?\n",
    "\n",
    "Plotting is at the intersection of widely varying disciplines, such as:\n",
    "- Aesthetics\n",
    "- Human perception\n",
    "- Trade-offs in combining simple interfaces with the ability to customize them\n",
    "\n",
    "## Appreciating the challenges\n",
    "\n",
    "A good plotting library should:\n",
    "- Be easy to use\n",
    "- Allow plotting of all kinds of data\n",
    "- Support arbitrarily fine-grained control\n",
    "- Support a variety of backends to make graphs in various formats\n",
    "\n",
    "## Matplotlib\n",
    "\n",
    "While everyone has different opinions about what library is best, everybody knows and has used Matplotlib. This makes it the de-facto choice for plotting in Python.\n",
    "\n",
    "### How does it work?\n",
    "\n",
    "In an effort to make easy things easy, and hard things possible, Matplotlib has a number of different levels at which it can be accessed. They are:\n",
    "\n",
    "| Level | Control | Complexity |\n",
    "|---|---|---|\n",
    "| Function interface w/ `plt` | Minimal and fast interface for plots and annotations | low |\n",
    "| OO interface | Fine-grained control over figure, axes, etc. | Medium |\n",
    "| Pure OO interface | Embed plots in GUI applications | HIGH |"
   ]
  },
  {
   "cell_type": "code",
   "execution_count": null,
   "metadata": {
    "collapsed": true
   },
   "outputs": [],
   "source": [
    "import matplotlib.pyplot as plt\n",
    "\n",
    "%matplotlib inline\n",
    "# (use Jupyter notebook's \"magic\" function to plot directly in the notebook)"
   ]
  },
  {
   "cell_type": "markdown",
   "metadata": {},
   "source": [
    "## Function interface w/ `plt`"
   ]
  },
  {
   "cell_type": "code",
   "execution_count": null,
   "metadata": {
    "collapsed": true
   },
   "outputs": [],
   "source": [
    "import numpy as np\n",
    "\n",
    "x_data = np.arange(0, 5, .011)\n",
    "y1_data = np.sin(x_data)\n",
    "y2_data = np.cos(x_data)"
   ]
  },
  {
   "cell_type": "code",
   "execution_count": null,
   "metadata": {
    "collapsed": true
   },
   "outputs": [],
   "source": [
    "plt.plot(x_data, y1_data)\n",
    "plt.title('Plotting with plt')\n",
    "\n",
    "plt.show() # (optional)"
   ]
  },
  {
   "cell_type": "code",
   "execution_count": null,
   "metadata": {
    "collapsed": true
   },
   "outputs": [],
   "source": [
    "type(plt)"
   ]
  },
  {
   "cell_type": "markdown",
   "metadata": {},
   "source": [
    "### Weird\n",
    "\n",
    "`plt` was imported as a library, but it appears to be keeping some state between the lines above, behavior that we'd usually associate with objects. In fact, `plt`, operates in a not-very-pythonic way."
   ]
  },
  {
   "cell_type": "code",
   "execution_count": null,
   "metadata": {
    "collapsed": true
   },
   "outputs": [],
   "source": [
    "plt.plot(x_data, y1_data)\n",
    "\n",
    "# we can actually keep adding state here; it will be reflected when the plot is generated\n",
    "\n",
    "plt.plot(x_data, y2_data) # second plot in same figure\n",
    "\n",
    "# and so on...\n",
    "\n",
    "plt.xlabel('x')\n",
    "plt.ylabel('sin(x) and cos(x)')"
   ]
  },
  {
   "cell_type": "markdown",
   "metadata": {},
   "source": [
    "If you thought it was strange that we were working in Python, but that we didn't seem to be using any objects to make our plot, join the club!\n",
    "\n",
    "### Behind the curtain\n",
    "\n",
    "![Matplotlib Objects](http://matplotlib.org/_images/fig_map.png)"
   ]
  },
  {
   "cell_type": "markdown",
   "metadata": {},
   "source": [
    "### Common things to do with plots\n",
    "\n",
    "Axis sizes, aspect ratios, titles, legends, colors and line styles, etc. E.g.:"
   ]
  },
  {
   "cell_type": "code",
   "execution_count": null,
   "metadata": {
    "collapsed": true
   },
   "outputs": [],
   "source": [
    "plt.plot(y1_data, color='g', linestyle='--') # green, dashed"
   ]
  },
  {
   "cell_type": "code",
   "execution_count": null,
   "metadata": {
    "collapsed": true
   },
   "outputs": [],
   "source": [
    "plt.plot(y1_data, 'go') # green, thick"
   ]
  },
  {
   "cell_type": "markdown",
   "metadata": {},
   "source": [
    "### Subplots"
   ]
  },
  {
   "cell_type": "code",
   "execution_count": null,
   "metadata": {
    "collapsed": true
   },
   "outputs": [],
   "source": [
    "plt.subplot(2, 1, 1) # number of rows, number of columns, plot number\n",
    "plt.plot(x_data, y1_data) # first plot\n",
    "plt.plot(x_data, y2_data) # second plot in same subplot\n",
    "plt.title('plt w/ multiple subplots; first subplot')\n",
    "plt.xlabel('x')\n",
    "plt.ylabel('sin(x) and cos(x)')\n",
    "\n",
    "plt.subplot(2, 1, 2) # number of rows, number of columns, plot number\n",
    "plt.plot(x_data, y2_data, color='r') # second plot in a separate subplot\n",
    "plt.title('second subplot')\n",
    "plt.xlabel('x')\n",
    "plt.ylabel('cos(x)')"
   ]
  },
  {
   "cell_type": "markdown",
   "metadata": {},
   "source": [
    "## OO interface w/ pyplot"
   ]
  },
  {
   "cell_type": "code",
   "execution_count": null,
   "metadata": {
    "collapsed": true
   },
   "outputs": [],
   "source": [
    "plt.figure?"
   ]
  },
  {
   "cell_type": "code",
   "execution_count": null,
   "metadata": {
    "collapsed": true
   },
   "outputs": [],
   "source": [
    "fig = plt.figure()\n",
    "fig.add_subplot?"
   ]
  },
  {
   "cell_type": "markdown",
   "metadata": {},
   "source": [
    "Same example as above but using the OO interface:"
   ]
  },
  {
   "cell_type": "code",
   "execution_count": null,
   "metadata": {
    "collapsed": true
   },
   "outputs": [],
   "source": [
    "fig = plt.figure()\n",
    "\n",
    "ax1 = fig.add_subplot(2, 1, 1) # number of rows, number of columns, plot number\n",
    "ax1.plot(x_data, y1_data) # first plot\n",
    "ax1.plot(x_data, y2_data) # second plot in same subplot\n",
    "ax1.set_title('plt w/ multiple subplots; first subplot')\n",
    "ax1.set_xlabel('x')\n",
    "ax1.set_ylabel('sin(x) and cos(x)')\n",
    "\n",
    "ax2 = fig.add_subplot(2, 1, 2) # number of rows, number of columns, plot number\n",
    "ax2.plot(x_data, y2_data, color='r') # second plot in a separate subplot\n",
    "ax2.set_title('second subplot')\n",
    "ax2.set_xlabel('x')\n",
    "ax2.set_ylabel('cos(x)')"
   ]
  },
  {
   "cell_type": "markdown",
   "metadata": {},
   "source": [
    "In this example, the fact that state is maintained is less surprising.\n",
    "\n",
    "Let's make the plot larger, and let's put on subplot on top of the other!"
   ]
  },
  {
   "cell_type": "code",
   "execution_count": null,
   "metadata": {
    "collapsed": true
   },
   "outputs": [],
   "source": [
    "fig = plt.figure(figsize=(12, 8))\n",
    "\n",
    "ax1 = fig.add_subplot(121) # number of rows, number of columns, plot number; same as 1, 2, 1\n",
    "ax1.plot(x_data, y1_data)\n",
    "ax1.plot(x_data, y2_data)\n",
    "\n",
    "ax2 = fig.add_subplot(222)\n",
    "ax2.plot(x_data, y1_data)\n",
    "\n",
    "ax3 = fig.add_subplot(224)\n",
    "ax3.plot(x_data, y2_data)"
   ]
  },
  {
   "cell_type": "markdown",
   "metadata": {},
   "source": [
    "### Mix 'n' Match\n",
    "\n",
    "Turns out, you can combine Matplotlib function-oriented and object-oriented approaches."
   ]
  },
  {
   "cell_type": "code",
   "execution_count": null,
   "metadata": {
    "collapsed": true
   },
   "outputs": [],
   "source": [
    "fig = plt.figure()\n",
    "\n",
    "ax = fig.add_subplot(111)\n",
    "ax.plot(x_data, y1_data)\n",
    "ax.plot(x_data, y2_data)\n",
    "\n",
    "plt.title('sin(x) and cos(x)')"
   ]
  },
  {
   "cell_type": "markdown",
   "metadata": {},
   "source": [
    "### Why should we use the OO oriented approach?\n",
    "\n",
    "If we want to exercise fine-grained control over our plots that isn't offered via the `plt` shortcuts."
   ]
  },
  {
   "cell_type": "code",
   "execution_count": null,
   "metadata": {
    "collapsed": true
   },
   "outputs": [],
   "source": [
    "fig = plt.figure()\n",
    "ax = fig.add_subplot(111)\n",
    "ax.plot(x_data, y1_data, label='sin(x)')\n",
    "ax.plot(x_data, y2_data, label='cos(x)')\n",
    "ax.set_title('sin(x) and cos(x)')\n",
    "ax.legend()"
   ]
  },
  {
   "cell_type": "markdown",
   "metadata": {},
   "source": [
    "# Multiple plots, using 'subplots'"
   ]
  },
  {
   "cell_type": "code",
   "execution_count": null,
   "metadata": {
    "collapsed": true
   },
   "outputs": [],
   "source": [
    "_, ax_list = plt.subplots(2, 2)\n",
    "\n",
    "ax_list"
   ]
  },
  {
   "cell_type": "code",
   "execution_count": null,
   "metadata": {
    "collapsed": true
   },
   "outputs": [],
   "source": [
    "ax_list.flatten()"
   ]
  },
  {
   "cell_type": "code",
   "execution_count": null,
   "metadata": {
    "collapsed": true
   },
   "outputs": [],
   "source": [
    "_, ax_list = plt.subplots(2, 2)\n",
    "\n",
    "y_funcs = [np.sin, np.cos, np.sqrt, lambda x: x]\n",
    "for ax, y_func in zip(ax_list.flatten(), y_funcs):\n",
    "    y_data = y_func(x_data)\n",
    "    ax.plot(x_data, y_data)"
   ]
  },
  {
   "cell_type": "markdown",
   "metadata": {},
   "source": [
    "## pandas\n",
    "\n",
    "pandas provides a 'one-stop shop' for dataframes and plots."
   ]
  },
  {
   "cell_type": "code",
   "execution_count": null,
   "metadata": {
    "collapsed": true
   },
   "outputs": [],
   "source": [
    "import pandas as pd"
   ]
  },
  {
   "cell_type": "code",
   "execution_count": null,
   "metadata": {
    "collapsed": true
   },
   "outputs": [],
   "source": [
    "df = pd.DataFrame({'x': x_data, 'sinx': np.sin(x_data), 'cosx': np.cos(x_data)}).set_index('x')\n",
    "\n",
    "df.head()"
   ]
  },
  {
   "cell_type": "code",
   "execution_count": null,
   "metadata": {
    "collapsed": true
   },
   "outputs": [],
   "source": [
    "df.cosx.plot?"
   ]
  },
  {
   "cell_type": "code",
   "execution_count": null,
   "metadata": {
    "collapsed": true
   },
   "outputs": [],
   "source": [
    "df.cosx.plot()"
   ]
  },
  {
   "cell_type": "code",
   "execution_count": null,
   "metadata": {
    "collapsed": true
   },
   "outputs": [],
   "source": [
    "# two plot commands just add to the same figure:\n",
    "\n",
    "df.sinx.plot()\n",
    "ax = df.cosx.plot()\n",
    "ax.set_title('sin(x) and cos(x)')"
   ]
  },
  {
   "cell_type": "markdown",
   "metadata": {},
   "source": [
    "The pandas series plot method returns a familiar Matplotlib axes object."
   ]
  },
  {
   "cell_type": "code",
   "execution_count": null,
   "metadata": {
    "collapsed": true
   },
   "outputs": [],
   "source": [
    "type(ax)"
   ]
  },
  {
   "cell_type": "markdown",
   "metadata": {},
   "source": [
    "What will this look like?"
   ]
  },
  {
   "cell_type": "code",
   "execution_count": null,
   "metadata": {
    "collapsed": true
   },
   "outputs": [],
   "source": [
    "ax = df.plot('cosx', 'sinx')\n",
    "ax.set_xlim(-1.5, 1.5)"
   ]
  },
  {
   "cell_type": "markdown",
   "metadata": {},
   "source": [
    "We can also supply an axes object on which to draw!"
   ]
  },
  {
   "cell_type": "code",
   "execution_count": null,
   "metadata": {
    "collapsed": true
   },
   "outputs": [],
   "source": [
    "_, ax_list = plt.subplots(2, 1)\n",
    "cols = ['sinx', 'cosx']\n",
    "for ax, col in zip(ax_list, cols):\n",
    "    df[col].plot(ax=ax)\n",
    "    ax.legend()\n",
    "top_ax = ax_list[0]\n",
    "top_ax.set_ylim(bottom=-3, top=3)"
   ]
  },
  {
   "cell_type": "code",
   "execution_count": null,
   "metadata": {
    "collapsed": true
   },
   "outputs": [],
   "source": [
    "plt.plot(x_data, y1_data)"
   ]
  },
  {
   "cell_type": "code",
   "execution_count": null,
   "metadata": {
    "collapsed": true
   },
   "outputs": [],
   "source": [
    "def our_own_function(*args, **kwargs):\n",
    "    print args, kwargs\n",
    "\n",
    "our_own_function(1,2,3, one=1, two=2)"
   ]
  },
  {
   "cell_type": "code",
   "execution_count": null,
   "metadata": {
    "collapsed": true
   },
   "outputs": [],
   "source": [
    "data = (x_data, y1_data)\n",
    "plt.plot(*data)"
   ]
  },
  {
   "cell_type": "markdown",
   "metadata": {},
   "source": [
    "# Writing plotting functions"
   ]
  },
  {
   "cell_type": "code",
   "execution_count": null,
   "metadata": {
    "collapsed": true
   },
   "outputs": [],
   "source": [
    "def my_plotter(ax, data1, data2, **kwargs):\n",
    "    \"\"\"\n",
    "    A helper function to make a graph\n",
    "\n",
    "    Parameters\n",
    "    ----------\n",
    "    ax: Axes\n",
    "        The axes to draw to\n",
    "\n",
    "    data1: array\n",
    "       The x data\n",
    "\n",
    "    data2: array\n",
    "       The y data\n",
    "\n",
    "    **kwargs, a dictionnary of keyword arguments to pass to ax.plot\n",
    "\n",
    "    Returns\n",
    "    -------\n",
    "    out: list\n",
    "        list of artists added\n",
    "    \"\"\"\n",
    "\n",
    "    out = ax.plot(data1, data2, **kwargs)\n",
    "    return [out]"
   ]
  },
  {
   "cell_type": "markdown",
   "metadata": {},
   "source": [
    "Here's an example of how you might use the function above:"
   ]
  },
  {
   "cell_type": "code",
   "execution_count": null,
   "metadata": {
    "collapsed": true
   },
   "outputs": [],
   "source": [
    "fig = plt.figure()\n",
    "ax = fig.add_subplot(111)\n",
    "my_plotter(ax, x_data, y1_data)"
   ]
  },
  {
   "cell_type": "markdown",
   "metadata": {},
   "source": [
    "### Example:\n",
    "\n",
    "Let's write a function that plots data and some horizontal lines representing the 25th and 75th percentile. We'll call this function `iqr_plot()`.\n",
    "\n",
    "- I DO: Write a function `horizontal_line` for drawing a horizontal line on an axis object\n",
    "- WE DO: Write the `iqr_plot()` function that plots the data and inner-quartile range on an axis object\n",
    "- YOU DO: Make a 2-by-2 grid of plots using the `iqr_plot()` function using `sin`, `cos`, `exp`, and `x ** 3`"
   ]
  },
  {
   "cell_type": "code",
   "execution_count": null,
   "metadata": {
    "collapsed": true
   },
   "outputs": [],
   "source": [
    "# I DO: Write a function horizontal_line for drawing a horizontal line on an axis object"
   ]
  },
  {
   "cell_type": "code",
   "execution_count": null,
   "metadata": {
    "collapsed": true
   },
   "outputs": [],
   "source": [
    "# WE DO: Write the iqr_plot() function that plots the data and inner-quartile range on an axis object"
   ]
  },
  {
   "cell_type": "code",
   "execution_count": null,
   "metadata": {
    "collapsed": true
   },
   "outputs": [],
   "source": [
    "# YOU DO: Make a 2-by-2 grid of plots using the iqr_plot() function using sin, cos, exp, and x ** 3"
   ]
  },
  {
   "cell_type": "markdown",
   "metadata": {},
   "source": [
    "## Seaborn\n",
    "\n",
    "A special data visualization library, built on Matplotlib, for drawing statistical graphics."
   ]
  },
  {
   "cell_type": "code",
   "execution_count": null,
   "metadata": {
    "collapsed": true
   },
   "outputs": [],
   "source": [
    "import seaborn as sns"
   ]
  },
  {
   "cell_type": "code",
   "execution_count": null,
   "metadata": {
    "collapsed": true
   },
   "outputs": [],
   "source": [
    "# Seaborn's lmplot method also creates a linear model (pretty fancy for a plotting object?!)\n",
    "lmplot = sns.lmplot(x='x', y='sinx', data=df.reset_index())\n",
    "\n",
    "print type(lmplot)\n",
    "\n",
    "# combine with Matplotlib\n",
    "lmplot.axes[0,0].hlines(0, -1, 5)"
   ]
  },
  {
   "cell_type": "markdown",
   "metadata": {},
   "source": [
    "## Compare & Contrast Aesthetics: Seaborn vs. Matplotlib"
   ]
  },
  {
   "cell_type": "markdown",
   "metadata": {},
   "source": [
    "A traditional matplotlib plot:"
   ]
  },
  {
   "cell_type": "code",
   "execution_count": null,
   "metadata": {
    "collapsed": true
   },
   "outputs": [],
   "source": [
    "x = np.linspace(0, 10, 1000)\n",
    "\n",
    "# Seaborn hijacks plt, so as to implement a prettier version of plt's functionality\n",
    "sns.reset_orig()\n",
    "\n",
    "plt.plot(x, np.sin(x), x, np.cos(x))"
   ]
  },
  {
   "cell_type": "code",
   "execution_count": null,
   "metadata": {
    "collapsed": true
   },
   "outputs": [],
   "source": [
    "sns.set()\n",
    "\n",
    "plt.plot(x, np.sin(x), x, np.cos(x))"
   ]
  },
  {
   "cell_type": "markdown",
   "metadata": {},
   "source": [
    "Oooh, sooo much prettier!"
   ]
  },
  {
   "cell_type": "markdown",
   "metadata": {},
   "source": [
    "## Important plot types"
   ]
  },
  {
   "cell_type": "markdown",
   "metadata": {},
   "source": [
    "### Histograms"
   ]
  },
  {
   "cell_type": "code",
   "execution_count": null,
   "metadata": {
    "collapsed": true
   },
   "outputs": [],
   "source": [
    "data = np.random.multivariate_normal([0, 0], [[5, 2], [2, 2]], size=2000)\n",
    "data = pd.DataFrame(data, columns=['x', 'y'])\n",
    "\n",
    "for col in 'xy':\n",
    "    plt.hist(data[col], normed=True, alpha=0.5)"
   ]
  },
  {
   "cell_type": "markdown",
   "metadata": {},
   "source": [
    "### Kernel density estimate plots (smoothed histograms)"
   ]
  },
  {
   "cell_type": "code",
   "execution_count": null,
   "metadata": {
    "collapsed": true
   },
   "outputs": [],
   "source": [
    "for col in 'xy':\n",
    "    sns.kdeplot(data[col], shade=True)"
   ]
  },
  {
   "cell_type": "code",
   "execution_count": null,
   "metadata": {
    "collapsed": true
   },
   "outputs": [],
   "source": [
    "# both histograms and Kernel density plots can be shown together:\n",
    "\n",
    "sns.distplot(data['x'])"
   ]
  },
  {
   "cell_type": "markdown",
   "metadata": {},
   "source": [
    "With histograms, few bins can hide details. With many, each point just becomes its own 'needle', which obscures density. The width of kernels is a very similar trade-off for kde-plots.\n",
    "\n",
    "Kde-plots can also be used in two dimensions to give a better feel for the density distribution."
   ]
  },
  {
   "cell_type": "markdown",
   "metadata": {},
   "source": [
    "### Pair plots\n",
    "\n",
    "These offer a great first look at a data set. If there are too many variables, these can be run on targeted subsets of columns."
   ]
  },
  {
   "cell_type": "code",
   "execution_count": null,
   "metadata": {
    "collapsed": true
   },
   "outputs": [],
   "source": [
    "iris = sns.load_dataset('iris')\n",
    "\n",
    "iris.head()"
   ]
  },
  {
   "cell_type": "code",
   "execution_count": null,
   "metadata": {
    "collapsed": true
   },
   "outputs": [],
   "source": [
    "sns.pairplot(iris, hue='species', size=2.5)"
   ]
  },
  {
   "cell_type": "markdown",
   "metadata": {},
   "source": [
    "### Facetplots\n",
    "\n",
    "Show subplots by values of given columns. Allows you to see how things are affected by categorical variables (or dividing lines within continuous variables)."
   ]
  },
  {
   "cell_type": "code",
   "execution_count": null,
   "metadata": {
    "collapsed": true
   },
   "outputs": [],
   "source": [
    "tips = sns.load_dataset('tips')\n",
    "\n",
    "tips.head()"
   ]
  },
  {
   "cell_type": "code",
   "execution_count": null,
   "metadata": {
    "collapsed": true
   },
   "outputs": [],
   "source": [
    "tips['tip_pct'] = 100. * tips['tip'] / tips['total_bill']\n",
    "\n",
    "grid = sns.FacetGrid(tips, row='sex', col='time', margin_titles=True)\n",
    "grid.map(plt.hist, 'tip_pct', bins=np.linspace(0, 40, 15))"
   ]
  },
  {
   "cell_type": "markdown",
   "metadata": {},
   "source": [
    "### Challenge: How many dimensions can you visualize at once?\n",
    "\n",
    "2 + 'several'\n",
    "\n",
    "### How many would you want to?\n",
    "\n",
    "Not so many that your audience gets lost\n",
    "\n",
    "### Joint distributions\n",
    "\n",
    "`kind='hex'` shows a density function with two input dimensions."
   ]
  },
  {
   "cell_type": "code",
   "execution_count": null,
   "metadata": {
    "collapsed": true
   },
   "outputs": [],
   "source": [
    "with sns.axes_style('white'):\n",
    "    sns.jointplot('total_bill', 'tip', data=tips, kind='hex')"
   ]
  },
  {
   "cell_type": "markdown",
   "metadata": {},
   "source": [
    "By specifying `kind='reg'` instead, we get a more informative linear regression.  Benefit: understanding model behavior in addition to data!"
   ]
  },
  {
   "cell_type": "code",
   "execution_count": null,
   "metadata": {
    "collapsed": true
   },
   "outputs": [],
   "source": [
    "sns.jointplot('total_bill', 'tip', data=tips, kind='reg')"
   ]
  },
  {
   "cell_type": "markdown",
   "metadata": {},
   "source": [
    "### Violin plots\n",
    "\n",
    "A pretty way to show densities as they depend on another variable (or even paired densities on a third variable)."
   ]
  },
  {
   "cell_type": "code",
   "execution_count": null,
   "metadata": {
    "collapsed": true
   },
   "outputs": [],
   "source": [
    "sns.violinplot(x='day', y='total_bill', hue='smoker', data=tips, palette='muted')"
   ]
  },
  {
   "cell_type": "markdown",
   "metadata": {},
   "source": [
    "Now, here's the same information except scrunched together in a way that highlights the contrast by smoker. (Note the `split` argument)"
   ]
  },
  {
   "cell_type": "code",
   "execution_count": null,
   "metadata": {
    "collapsed": true
   },
   "outputs": [],
   "source": [
    "sns.violinplot(x='day', y='total_bill', hue='smoker', data=tips, palette='muted', split=True)"
   ]
  },
  {
   "cell_type": "markdown",
   "metadata": {},
   "source": [
    "# Plotting Takeways\n",
    "\n",
    "- Being good at **one** plotting tool is a vital Data Science skill:\n",
    "  - For learning from your data\n",
    "  - For telling persuasive stories to others\n",
    "- pandas and Seaborn are modern and relatively seamless plugins to Matplotlib. Why don't you standardize on one of them (at least for now)?\n",
    "- Plots are mostly 2D, with some 3D. But you can cram in up to several additional dimensions if you really need to\n",
    "- **In order to get fluent with this, you really do need to experiment with the different plot types and their objects and methods!**"
   ]
  }
 ],
 "metadata": {
  "kernelspec": {
   "display_name": "Python 2",
   "language": "python",
   "name": "python2"
  },
  "language_info": {
   "codemirror_mode": {
    "name": "ipython",
    "version": 2
   },
   "file_extension": ".py",
   "mimetype": "text/x-python",
   "name": "python",
   "nbconvert_exporter": "python",
   "pygments_lexer": "ipython2",
   "version": "2.7.13"
  }
 },
 "nbformat": 4,
 "nbformat_minor": 0
}
