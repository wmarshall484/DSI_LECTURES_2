{
 "cells": [
  {
   "cell_type": "code",
   "execution_count": 30,
   "metadata": {
    "collapsed": true
   },
   "outputs": [],
   "source": [
    "from __future__ import division\n",
    "import pandas as pd\n",
    "import numpy as np\n",
    "import matplotlib.pyplot as plt\n",
    "plt.style.use('ggplot')"
   ]
  },
  {
   "cell_type": "code",
   "execution_count": 13,
   "metadata": {
    "collapsed": false
   },
   "outputs": [
    {
     "data": {
      "text/html": [
       "<div>\n",
       "<table border=\"1\" class=\"dataframe\">\n",
       "  <thead>\n",
       "    <tr style=\"text-align: right;\">\n",
       "      <th></th>\n",
       "      <th>windy</th>\n",
       "      <th>rainy</th>\n",
       "      <th>daytime</th>\n",
       "      <th>went_for_run</th>\n",
       "    </tr>\n",
       "  </thead>\n",
       "  <tbody>\n",
       "    <tr>\n",
       "      <th>0</th>\n",
       "      <td>0</td>\n",
       "      <td>1</td>\n",
       "      <td>0</td>\n",
       "      <td>1</td>\n",
       "    </tr>\n",
       "    <tr>\n",
       "      <th>1</th>\n",
       "      <td>1</td>\n",
       "      <td>0</td>\n",
       "      <td>1</td>\n",
       "      <td>0</td>\n",
       "    </tr>\n",
       "    <tr>\n",
       "      <th>2</th>\n",
       "      <td>1</td>\n",
       "      <td>0</td>\n",
       "      <td>1</td>\n",
       "      <td>1</td>\n",
       "    </tr>\n",
       "    <tr>\n",
       "      <th>3</th>\n",
       "      <td>0</td>\n",
       "      <td>0</td>\n",
       "      <td>0</td>\n",
       "      <td>1</td>\n",
       "    </tr>\n",
       "    <tr>\n",
       "      <th>4</th>\n",
       "      <td>0</td>\n",
       "      <td>0</td>\n",
       "      <td>1</td>\n",
       "      <td>0</td>\n",
       "    </tr>\n",
       "    <tr>\n",
       "      <th>5</th>\n",
       "      <td>1</td>\n",
       "      <td>1</td>\n",
       "      <td>1</td>\n",
       "      <td>0</td>\n",
       "    </tr>\n",
       "  </tbody>\n",
       "</table>\n",
       "</div>"
      ],
      "text/plain": [
       "   windy  rainy  daytime  went_for_run\n",
       "0      0      1        0             1\n",
       "1      1      0        1             0\n",
       "2      1      0        1             1\n",
       "3      0      0        0             1\n",
       "4      0      0        1             0\n",
       "5      1      1        1             0"
      ]
     },
     "execution_count": 13,
     "metadata": {},
     "output_type": "execute_result"
    }
   ],
   "source": [
    "df = pd.DataFrame()\n",
    "df['windy'] = [0, 1, 1, 0, 0, 1]\n",
    "df['rainy'] = [1, 0, 0, 0, 0, 1]\n",
    "df['daytime'] = [0, 1, 1, 0, 1, 1]\n",
    "df['went_for_run'] = [1, 0, 1, 1, 0, 0]\n",
    "df"
   ]
  },
  {
   "cell_type": "code",
   "execution_count": 35,
   "metadata": {
    "collapsed": false
   },
   "outputs": [
    {
     "data": {
      "image/png": "[encoded data removed]",
      "text/plain": [
       "<matplotlib.figure.Figure at 0x10adb5050>"
      ]
     },
     "metadata": {},
     "output_type": "display_data"
    }
   ],
   "source": [
    "# Binary splits mean the fomula for entropy is simple\n",
    "# p is the proportion which is in the positive class\n",
    "def entropy(p):\n",
    "    if p == 1 or p == 0:\n",
    "        return 0\n",
    "    return -(p * np.log2(p) + (1-p) * np.log2(1-p))\n",
    "\n",
    "x = np.linspace(0,1,100)\n",
    "y = [entropy(t) for t in x]\n",
    "\n",
    "plt.figure(figsize=(8,6))\n",
    "plt.plot(x, y)\n",
    "plt.title(\"Graph of entropy for two classes.\")\n",
    "plt.xlabel(\"Percent labeled class 1\")\n",
    "plt.ylabel(\"Entropy\")\n",
    "plt.show()"
   ]
  },
  {
   "cell_type": "code",
   "execution_count": 36,
   "metadata": {
    "collapsed": false
   },
   "outputs": [
    {
     "name": "stdout",
     "output_type": "stream",
     "text": [
      "Information gain for splitting on windy:\n",
      "0.0817041659455\n",
      "Information gain for splitting on rainy:\n",
      "0.0\n",
      "Information gain for splitting in daytime:\n",
      "0.459147917027\n",
      "\n",
      "\n",
      "Therefore, split on daytime.\n"
     ]
    }
   ],
   "source": [
    "print \"Information gain for splitting on windy:\"\n",
    "print entropy(1/2) - (1/2 * entropy(1/3) + 1/2 * entropy(2/3))\n",
    "print \"Information gain for splitting on rainy:\"\n",
    "print entropy(1/2) - (1/3 * entropy(1/2) + 2/3 * entropy(1/2))\n",
    "print \"Information gain for splitting in daytime:\"\n",
    "print entropy(1/2) - (2/3 * entropy(1/4) + 1/3 * entropy(1))\n",
    "\n",
    "print \"\\n\"\n",
    "print \"Therefore, split on daytime.\""
   ]
  },
  {
   "cell_type": "code",
   "execution_count": 19,
   "metadata": {
    "collapsed": false
   },
   "outputs": [
    {
     "name": "stdout",
     "output_type": "stream",
     "text": [
      "daytime = 0 has all labels == 1. Therefore, create leaf note with label 1. \n",
      "\n"
     ]
    },
    {
     "data": {
      "text/html": [
       "<div>\n",
       "<table border=\"1\" class=\"dataframe\">\n",
       "  <thead>\n",
       "    <tr style=\"text-align: right;\">\n",
       "      <th></th>\n",
       "      <th>windy</th>\n",
       "      <th>rainy</th>\n",
       "      <th>daytime</th>\n",
       "      <th>went_for_run</th>\n",
       "    </tr>\n",
       "  </thead>\n",
       "  <tbody>\n",
       "    <tr>\n",
       "      <th>1</th>\n",
       "      <td>1</td>\n",
       "      <td>0</td>\n",
       "      <td>1</td>\n",
       "      <td>0</td>\n",
       "    </tr>\n",
       "    <tr>\n",
       "      <th>2</th>\n",
       "      <td>1</td>\n",
       "      <td>0</td>\n",
       "      <td>1</td>\n",
       "      <td>1</td>\n",
       "    </tr>\n",
       "    <tr>\n",
       "      <th>4</th>\n",
       "      <td>0</td>\n",
       "      <td>0</td>\n",
       "      <td>1</td>\n",
       "      <td>0</td>\n",
       "    </tr>\n",
       "    <tr>\n",
       "      <th>5</th>\n",
       "      <td>1</td>\n",
       "      <td>1</td>\n",
       "      <td>1</td>\n",
       "      <td>0</td>\n",
       "    </tr>\n",
       "  </tbody>\n",
       "</table>\n",
       "</div>"
      ],
      "text/plain": [
       "   windy  rainy  daytime  went_for_run\n",
       "1      1      0        1             0\n",
       "2      1      0        1             1\n",
       "4      0      0        1             0\n",
       "5      1      1        1             0"
      ]
     },
     "execution_count": 19,
     "metadata": {},
     "output_type": "execute_result"
    }
   ],
   "source": [
    "print \"daytime = 0 has all labels == 1. Therefore, create leaf note with label 1. \\n\"\n",
    "\n",
    "df[df.daytime == 1]"
   ]
  },
  {
   "cell_type": "code",
   "execution_count": 22,
   "metadata": {
    "collapsed": false
   },
   "outputs": [
    {
     "name": "stdout",
     "output_type": "stream",
     "text": [
      "Gain for daytime = 1 split on windy:\n",
      "0.122556248918\n",
      "Gain for daytime = 1 split on rainy:\n",
      "0.122556248918\n",
      "\n",
      "\n",
      "They are the same, so pick at random. Let's pick windy.\n"
     ]
    }
   ],
   "source": [
    "print \"Gain for daytime = 1 split on windy:\"\n",
    "print entropy(1/4) - (3/4 * entropy(1/3) + 1/4 * entropy(0))\n",
    "print \"Gain for daytime = 1 split on rainy:\"\n",
    "print entropy(1/4) - (1/4 * entropy(0) + 3/4 * entropy(1/3))\n",
    "\n",
    "print \"\\n\"\n",
    "print \"They are the same, so pick at random. Let's pick windy.\""
   ]
  },
  {
   "cell_type": "code",
   "execution_count": 23,
   "metadata": {
    "collapsed": false
   },
   "outputs": [
    {
     "name": "stdout",
     "output_type": "stream",
     "text": [
      "windy = 0 has label 0. Make leaf node with label 0. \n",
      "\n"
     ]
    },
    {
     "data": {
      "text/html": [
       "<div>\n",
       "<table border=\"1\" class=\"dataframe\">\n",
       "  <thead>\n",
       "    <tr style=\"text-align: right;\">\n",
       "      <th></th>\n",
       "      <th>windy</th>\n",
       "      <th>rainy</th>\n",
       "      <th>daytime</th>\n",
       "      <th>went_for_run</th>\n",
       "    </tr>\n",
       "  </thead>\n",
       "  <tbody>\n",
       "    <tr>\n",
       "      <th>1</th>\n",
       "      <td>1</td>\n",
       "      <td>0</td>\n",
       "      <td>1</td>\n",
       "      <td>0</td>\n",
       "    </tr>\n",
       "    <tr>\n",
       "      <th>2</th>\n",
       "      <td>1</td>\n",
       "      <td>0</td>\n",
       "      <td>1</td>\n",
       "      <td>1</td>\n",
       "    </tr>\n",
       "    <tr>\n",
       "      <th>5</th>\n",
       "      <td>1</td>\n",
       "      <td>1</td>\n",
       "      <td>1</td>\n",
       "      <td>0</td>\n",
       "    </tr>\n",
       "  </tbody>\n",
       "</table>\n",
       "</div>"
      ],
      "text/plain": [
       "   windy  rainy  daytime  went_for_run\n",
       "1      1      0        1             0\n",
       "2      1      0        1             1\n",
       "5      1      1        1             0"
      ]
     },
     "execution_count": 23,
     "metadata": {},
     "output_type": "execute_result"
    }
   ],
   "source": [
    "print \"windy = 0 has label 0. Make leaf node with label 0. \\n\"\n",
    "\n",
    "df[(df.daytime == 1) & (df.windy == 1)]"
   ]
  },
  {
   "cell_type": "code",
   "execution_count": null,
   "metadata": {
    "collapsed": true
   },
   "outputs": [],
   "source": []
  }
 ],
 "metadata": {
  "kernelspec": {
   "display_name": "Python 2",
   "language": "python",
   "name": "python2"
  },
  "language_info": {
   "codemirror_mode": {
    "name": "ipython",
    "version": 2
   },
   "file_extension": ".py",
   "mimetype": "text/x-python",
   "name": "python",
   "nbconvert_exporter": "python",
   "pygments_lexer": "ipython2",
   "version": "2.7.10"
  }
 },
 "nbformat": 4,
 "nbformat_minor": 0
}
