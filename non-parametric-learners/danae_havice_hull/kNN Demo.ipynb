{
 "cells": [
  {
   "cell_type": "code",
   "execution_count": 16,
   "metadata": {
    "collapsed": false
   },
   "outputs": [],
   "source": [
    "from itertools import product\n",
    "import numpy as np\n",
    "import scipy as sc\n",
    "from scipy.stats import multivariate_normal\n",
    "from sklearn.datasets import make_classification, make_circles\n",
    "from sklearn.neighbors import KNeighborsClassifier\n",
    "from sklearn.linear_model import LogisticRegressionCV\n",
    "import plotly.plotly as py\n",
    "from plotly.graph_objs import *\n",
    "np.random.seed = 0\n",
    "\n",
    "def make_figure(X, y, voronoi=True, other_plots = []):\n",
    "    scatters = []\n",
    "    for class_ in set(y):\n",
    "        scatter = Scatter(\n",
    "            x = X[y==class_, 1],\n",
    "            y = X[y==class_, 0],\n",
    "            mode = 'markers'            \n",
    "        )\n",
    "        scatters.append(scatter)\n",
    "    data = scatters + other_plots\n",
    "    if voronoi:\n",
    "        # set bounds\n",
    "        x_min = X[:,1].min()\n",
    "        x_max = X[:,1].max()\n",
    "        y_min = X[:,0].min()\n",
    "        y_max = X[:,0].max()\n",
    "        x_axis_values = np.linspace(x_min, x_max, 250)\n",
    "        y_axis_values = np.linspace(y_min, y_max, 250)\n",
    "        # make predictions\n",
    "        predictions = knn_model.predict(np.array(list(product(y_axis_values, x_axis_values))))\n",
    "        z_heat_values = np.reshape(predictions, (len(x_axis_values), -1))\n",
    "        # make plot objects\n",
    "        heat_map = Heatmap(x=x_axis_values,\n",
    "                            y=y_axis_values,\n",
    "                            z=z_heat_values,\n",
    "                            connectgaps=False)\n",
    "        data += [heat_map]\n",
    "\n",
    "    figure = Figure(data=data)\n",
    "    return figure"
   ]
  },
  {
   "cell_type": "code",
   "execution_count": 77,
   "metadata": {
    "collapsed": false
   },
   "outputs": [],
   "source": [
    "# make data\n",
    "X, y = make_classification(n_classes=2, n_features=2, \n",
    "                           n_informative=2, n_redundant=0, random_state=0)\n",
    "X, y = make_circles(n_samples=200, noise=.09, factor=.7)"
   ]
  },
  {
   "cell_type": "code",
   "execution_count": 78,
   "metadata": {
    "collapsed": false
   },
   "outputs": [
    {
     "data": {
      "text/html": [
       "<iframe id=\"igraph\" scrolling=\"no\" style=\"border:none;\"seamless=\"seamless\" src=\"https://plot.ly/~d43/101.embed\" height=\"525px\" width=\"100%\"></iframe>"
      ],
      "text/plain": [
       "<plotly.tools.PlotlyDisplay object>"
      ]
     },
     "execution_count": 78,
     "metadata": {},
     "output_type": "execute_result"
    }
   ],
   "source": [
    "figure = make_figure(X, y, voronoi=False)\n",
    "py.iplot(figure)"
   ]
  },
  {
   "cell_type": "code",
   "execution_count": 79,
   "metadata": {
    "collapsed": false
   },
   "outputs": [
    {
     "data": {
      "text/html": [
       "<iframe id=\"igraph\" scrolling=\"no\" style=\"border:none;\"seamless=\"seamless\" src=\"https://plot.ly/~d43/103.embed\" height=\"525px\" width=\"100%\"></iframe>"
      ],
      "text/plain": [
       "<plotly.tools.PlotlyDisplay object>"
      ]
     },
     "execution_count": 79,
     "metadata": {},
     "output_type": "execute_result"
    }
   ],
   "source": [
    "# 2 classes, K = 1 #\n",
    "# fit KNN model\n",
    "knn_model = KNeighborsClassifier(1)\n",
    "knn_model.fit(X, y)\n",
    "\n",
    "figure = make_figure(X, y)\n",
    "py.iplot(figure)"
   ]
  },
  {
   "cell_type": "code",
   "execution_count": 80,
   "metadata": {
    "collapsed": false
   },
   "outputs": [
    {
     "data": {
      "text/html": [
       "<iframe id=\"igraph\" scrolling=\"no\" style=\"border:none;\"seamless=\"seamless\" src=\"https://plot.ly/~d43/105.embed\" height=\"525px\" width=\"100%\"></iframe>"
      ],
      "text/plain": [
       "<plotly.tools.PlotlyDisplay object>"
      ]
     },
     "execution_count": 80,
     "metadata": {},
     "output_type": "execute_result"
    }
   ],
   "source": [
    "# 2 classes, K = 3 #\n",
    "# fit KNN model\n",
    "knn_model = KNeighborsClassifier(3)\n",
    "knn_model.fit(X, y)\n",
    "\n",
    "figure = make_figure(X, y)\n",
    "py.iplot(figure)"
   ]
  },
  {
   "cell_type": "code",
   "execution_count": 81,
   "metadata": {
    "collapsed": false
   },
   "outputs": [
    {
     "data": {
      "text/html": [
       "<iframe id=\"igraph\" scrolling=\"no\" style=\"border:none;\"seamless=\"seamless\" src=\"https://plot.ly/~d43/107.embed\" height=\"525px\" width=\"100%\"></iframe>"
      ],
      "text/plain": [
       "<plotly.tools.PlotlyDisplay object>"
      ]
     },
     "execution_count": 81,
     "metadata": {},
     "output_type": "execute_result"
    }
   ],
   "source": [
    "# 2 classes, K = 5 #\n",
    "# fit KNN model\n",
    "knn_model = KNeighborsClassifier(5)\n",
    "knn_model.fit(X, y)\n",
    "\n",
    "figure = make_figure(X, y)\n",
    "py.iplot(figure)"
   ]
  },
  {
   "cell_type": "code",
   "execution_count": 82,
   "metadata": {
    "collapsed": false
   },
   "outputs": [
    {
     "data": {
      "text/html": [
       "<iframe id=\"igraph\" scrolling=\"no\" style=\"border:none;\"seamless=\"seamless\" src=\"https://plot.ly/~d43/109.embed\" height=\"525px\" width=\"100%\"></iframe>"
      ],
      "text/plain": [
       "<plotly.tools.PlotlyDisplay object>"
      ]
     },
     "execution_count": 82,
     "metadata": {},
     "output_type": "execute_result"
    }
   ],
   "source": [
    "# COMPARE WITH LOGISTIC REGRESSION #\n",
    "lr_model = LogisticRegressionCV()\n",
    "lr_model.fit(X, y)\n",
    "\n",
    "intercept = lr_model.intercept_\n",
    "theta1, theta2 = lr_model.coef_[0]\n",
    "\n",
    "def decision_boundary(x1, intercept, theta1, theta2):\n",
    "    x2 = -(intercept + theta1*x1)/theta2\n",
    "    return x2\n",
    "\n",
    "x1 = np.linspace(X[:,1].min(), X[:,1].max(), 250)\n",
    "x2 = decision_boundary(x1, intercept, theta2, theta1)\n",
    "\n",
    "decision_boundary_plot = Scatter(\n",
    "    name='Decision Boundary',\n",
    "    x=x1,\n",
    "    y=x2,\n",
    "    mode='marker',\n",
    "    marker=Marker(\n",
    "        color='green',\n",
    "        line=Line(\n",
    "            #color='rgba(156, 165, 196, 1.0)',\n",
    "            width=1,\n",
    "        ))\n",
    ")\n",
    "figure = make_figure(X, y, other_plots = [decision_boundary_plot])\n",
    "py.iplot(figure)"
   ]
  },
  {
   "cell_type": "code",
   "execution_count": 8,
   "metadata": {
    "collapsed": true
   },
   "outputs": [],
   "source": [
    "# make sample data with 4 classes\n",
    "observations_per_class = 100\n",
    "n_features = 2\n",
    "means = [(1, 1), (1, -1), (-1, 1), (-1, -1)]\n",
    "X = np.zeros((0, n_features))\n",
    "y = np.array([])\n",
    "for target, mean in enumerate(means):\n",
    "    data = multivariate_normal(mean = mean).rvs(observations_per_class)\n",
    "    X = np.vstack((X, data))\n",
    "    y = np.append(y, [target]*observations_per_class)"
   ]
  },
  {
   "cell_type": "code",
   "execution_count": 9,
   "metadata": {
    "collapsed": false
   },
   "outputs": [
    {
     "data": {
      "text/html": [
       "<iframe id=\"igraph\" scrolling=\"no\" style=\"border:none;\"seamless=\"seamless\" src=\"https://plot.ly/~d43/12.embed\" height=\"525px\" width=\"100%\"></iframe>"
      ],
      "text/plain": [
       "<plotly.tools.PlotlyDisplay object>"
      ]
     },
     "execution_count": 9,
     "metadata": {},
     "output_type": "execute_result"
    }
   ],
   "source": [
    "# K = 1 #\n",
    "# fit KNN model\n",
    "knn_model = KNeighborsClassifier(1)\n",
    "knn_model.fit(X, y)\n",
    "\n",
    "figure = make_figure(X, y)\n",
    "py.iplot(figure)"
   ]
  },
  {
   "cell_type": "code",
   "execution_count": 11,
   "metadata": {
    "collapsed": false
   },
   "outputs": [
    {
     "data": {
      "text/html": [
       "<iframe id=\"igraph\" scrolling=\"no\" style=\"border:none;\"seamless=\"seamless\" src=\"https://plot.ly/~d43/16.embed\" height=\"525px\" width=\"100%\"></iframe>"
      ],
      "text/plain": [
       "<plotly.tools.PlotlyDisplay object>"
      ]
     },
     "execution_count": 11,
     "metadata": {},
     "output_type": "execute_result"
    }
   ],
   "source": [
    "# K = 2 #\n",
    "knn_model = KNeighborsClassifier(2)\n",
    "knn_model.fit(X, y)\n",
    "\n",
    "figure = make_figure(X, y)\n",
    "py.iplot(figure)"
   ]
  },
  {
   "cell_type": "code",
   "execution_count": 12,
   "metadata": {
    "collapsed": false
   },
   "outputs": [
    {
     "data": {
      "text/html": [
       "<iframe id=\"igraph\" scrolling=\"no\" style=\"border:none;\"seamless=\"seamless\" src=\"https://plot.ly/~d43/18.embed\" height=\"525px\" width=\"100%\"></iframe>"
      ],
      "text/plain": [
       "<plotly.tools.PlotlyDisplay object>"
      ]
     },
     "execution_count": 12,
     "metadata": {},
     "output_type": "execute_result"
    }
   ],
   "source": [
    "# K = 3 #\n",
    "# fit KNN model\n",
    "knn_model = KNeighborsClassifier(3)\n",
    "knn_model.fit(X, y)\n",
    "\n",
    "figure = make_figure(X, y)\n",
    "py.iplot(figure)"
   ]
  },
  {
   "cell_type": "code",
   "execution_count": 13,
   "metadata": {
    "collapsed": false
   },
   "outputs": [
    {
     "data": {
      "text/html": [
       "<iframe id=\"igraph\" scrolling=\"no\" style=\"border:none;\"seamless=\"seamless\" src=\"https://plot.ly/~d43/20.embed\" height=\"525px\" width=\"100%\"></iframe>"
      ],
      "text/plain": [
       "<plotly.tools.PlotlyDisplay object>"
      ]
     },
     "execution_count": 13,
     "metadata": {},
     "output_type": "execute_result"
    }
   ],
   "source": [
    "# K = 10 #\n",
    "# fit KNN model\n",
    "knn_model = KNeighborsClassifier(10)\n",
    "knn_model.fit(X, y)\n",
    "\n",
    "figure = make_figure(X, y)\n",
    "py.iplot(figure)"
   ]
  },
  {
   "cell_type": "code",
   "execution_count": 15,
   "metadata": {
    "collapsed": false
   },
   "outputs": [
    {
     "data": {
      "text/html": [
       "<iframe id=\"igraph\" scrolling=\"no\" style=\"border:none;\"seamless=\"seamless\" src=\"https://plot.ly/~d43/24.embed\" height=\"525px\" width=\"100%\"></iframe>"
      ],
      "text/plain": [
       "<plotly.tools.PlotlyDisplay object>"
      ]
     },
     "execution_count": 15,
     "metadata": {},
     "output_type": "execute_result"
    }
   ],
   "source": [
    "# K = 25 #\n",
    "knn_model = KNeighborsClassifier(25)\n",
    "knn_model.fit(X, y)\n",
    "\n",
    "figure = make_figure(X, y)\n",
    "py.iplot(figure)"
   ]
  },
  {
   "cell_type": "code",
   "execution_count": 10,
   "metadata": {
    "collapsed": false
   },
   "outputs": [
    {
     "data": {
      "text/html": [
       "<iframe id=\"igraph\" scrolling=\"no\" style=\"border:none;\"seamless=\"seamless\" src=\"https://plot.ly/~d43/14.embed\" height=\"525px\" width=\"100%\"></iframe>"
      ],
      "text/plain": [
       "<plotly.tools.PlotlyDisplay object>"
      ]
     },
     "execution_count": 10,
     "metadata": {},
     "output_type": "execute_result"
    }
   ],
   "source": [
    "# K = 1 #\n",
    "# fit KNN model\n",
    "knn_model = KNeighborsClassifier(1, metric='cosine', algorithm='brute')\n",
    "knn_model.fit(X, y)\n",
    "\n",
    "figure = make_figure(X, y)\n",
    "py.iplot(figure)"
   ]
  },
  {
   "cell_type": "code",
   "execution_count": 14,
   "metadata": {
    "collapsed": false
   },
   "outputs": [
    {
     "data": {
      "text/html": [
       "<iframe id=\"igraph\" scrolling=\"no\" style=\"border:none;\"seamless=\"seamless\" src=\"https://plot.ly/~d43/22.embed\" height=\"525px\" width=\"100%\"></iframe>"
      ],
      "text/plain": [
       "<plotly.tools.PlotlyDisplay object>"
      ]
     },
     "execution_count": 14,
     "metadata": {},
     "output_type": "execute_result"
    }
   ],
   "source": [
    "# K = 10, cosine #\n",
    "knn_model = KNeighborsClassifier(10, metric='cosine', algorithm='brute')\n",
    "knn_model.fit(X, y)\n",
    "\n",
    "figure = make_figure(X, y)\n",
    "py.iplot(figure)"
   ]
  },
  {
   "cell_type": "code",
   "execution_count": null,
   "metadata": {
    "collapsed": true
   },
   "outputs": [],
   "source": []
  }
 ],
 "metadata": {
  "kernelspec": {
   "display_name": "Python 2",
   "language": "python",
   "name": "python2"
  },
  "language_info": {
   "codemirror_mode": {
    "name": "ipython",
    "version": 2
   },
   "file_extension": ".py",
   "mimetype": "text/x-python",
   "name": "python",
   "nbconvert_exporter": "python",
   "pygments_lexer": "ipython2",
   "version": "2.7.10"
  }
 },
 "nbformat": 4,
 "nbformat_minor": 0
}
