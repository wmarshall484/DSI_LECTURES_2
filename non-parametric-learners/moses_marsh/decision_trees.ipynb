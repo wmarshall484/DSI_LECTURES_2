{
 "cells": [
  {
   "cell_type": "code",
   "execution_count": 1,
   "metadata": {},
   "outputs": [],
   "source": [
    "import numpy as np\n",
    "import pandas as pd\n",
    "import scipy.stats as scs\n",
    "import matplotlib.pyplot as plt\n",
    "from matplotlib.patches import Rectangle\n",
    "from sklearn import tree\n",
    "import graphviz\n",
    "\n",
    "%matplotlib inline\n",
    "# Make it pretty\n",
    "plt.style.use('ggplot')\n",
    "\n",
    "# Seed random functions for reproducibility\n",
    "#np.random.seed(12345)"
   ]
  },
  {
   "cell_type": "markdown",
   "metadata": {},
   "source": [
    "# Decision Trees"
   ]
  },
  {
   "cell_type": "markdown",
   "metadata": {},
   "source": [
    "#### Objectives: Answer the following\n",
    " * When splitting a data set, how do you evaluate the quality of a split?\n",
    "   * entropy, Gini impurity, and information gain\n",
    "   * classification vs regression\n",
    " * How do you build a decision tree?\n",
    "   * recursion\n",
    " * How can you tune a decision tree to prevent overfitting?\n",
    "   * pruning"
   ]
  },
  {
   "cell_type": "markdown",
   "metadata": {},
   "source": [
    "# \"Play Tennis\" data set"
   ]
  },
  {
   "cell_type": "code",
   "execution_count": 2,
   "metadata": {},
   "outputs": [],
   "source": [
    "# Read in our data\n",
    "tennis_df = pd.read_table('data/tennis.txt', delim_whitespace=True)"
   ]
  },
  {
   "cell_type": "code",
   "execution_count": 3,
   "metadata": {},
   "outputs": [],
   "source": [
    "# Clean up a few things, based on my preferences and making calculating probabilities easier\n",
    "tennis_df.rename(columns={'playtennis': 'played'}, inplace=True)\n",
    "tennis_df['played'] = tennis_df['played'].apply(lambda x: 1 if x == 'yes' else 0)"
   ]
  },
  {
   "cell_type": "code",
   "execution_count": 38,
   "metadata": {},
   "outputs": [
    {
     "data": {
      "text/html": [
       "<div>\n",
       "<style>\n",
       "    .dataframe thead tr:only-child th {\n",
       "        text-align: right;\n",
       "    }\n",
       "\n",
       "    .dataframe thead th {\n",
       "        text-align: left;\n",
       "    }\n",
       "\n",
       "    .dataframe tbody tr th {\n",
       "        vertical-align: top;\n",
       "    }\n",
       "</style>\n",
       "<table border=\"1\" class=\"dataframe\">\n",
       "  <thead>\n",
       "    <tr style=\"text-align: right;\">\n",
       "      <th></th>\n",
       "      <th>outlook</th>\n",
       "      <th>temperature</th>\n",
       "      <th>humidity</th>\n",
       "      <th>wind</th>\n",
       "      <th>played</th>\n",
       "    </tr>\n",
       "  </thead>\n",
       "  <tbody>\n",
       "    <tr>\n",
       "      <th>0</th>\n",
       "      <td>sunny</td>\n",
       "      <td>hot</td>\n",
       "      <td>high</td>\n",
       "      <td>False</td>\n",
       "      <td>0</td>\n",
       "    </tr>\n",
       "    <tr>\n",
       "      <th>1</th>\n",
       "      <td>sunny</td>\n",
       "      <td>hot</td>\n",
       "      <td>high</td>\n",
       "      <td>True</td>\n",
       "      <td>0</td>\n",
       "    </tr>\n",
       "    <tr>\n",
       "      <th>5</th>\n",
       "      <td>rainy</td>\n",
       "      <td>cool</td>\n",
       "      <td>normal</td>\n",
       "      <td>True</td>\n",
       "      <td>0</td>\n",
       "    </tr>\n",
       "    <tr>\n",
       "      <th>7</th>\n",
       "      <td>sunny</td>\n",
       "      <td>mild</td>\n",
       "      <td>high</td>\n",
       "      <td>False</td>\n",
       "      <td>0</td>\n",
       "    </tr>\n",
       "    <tr>\n",
       "      <th>13</th>\n",
       "      <td>rainy</td>\n",
       "      <td>mild</td>\n",
       "      <td>high</td>\n",
       "      <td>True</td>\n",
       "      <td>0</td>\n",
       "    </tr>\n",
       "    <tr>\n",
       "      <th>2</th>\n",
       "      <td>overcast</td>\n",
       "      <td>hot</td>\n",
       "      <td>high</td>\n",
       "      <td>False</td>\n",
       "      <td>1</td>\n",
       "    </tr>\n",
       "    <tr>\n",
       "      <th>3</th>\n",
       "      <td>rainy</td>\n",
       "      <td>mild</td>\n",
       "      <td>high</td>\n",
       "      <td>False</td>\n",
       "      <td>1</td>\n",
       "    </tr>\n",
       "    <tr>\n",
       "      <th>4</th>\n",
       "      <td>rainy</td>\n",
       "      <td>cool</td>\n",
       "      <td>normal</td>\n",
       "      <td>False</td>\n",
       "      <td>1</td>\n",
       "    </tr>\n",
       "    <tr>\n",
       "      <th>6</th>\n",
       "      <td>overcast</td>\n",
       "      <td>cool</td>\n",
       "      <td>normal</td>\n",
       "      <td>True</td>\n",
       "      <td>1</td>\n",
       "    </tr>\n",
       "    <tr>\n",
       "      <th>8</th>\n",
       "      <td>sunny</td>\n",
       "      <td>cool</td>\n",
       "      <td>normal</td>\n",
       "      <td>False</td>\n",
       "      <td>1</td>\n",
       "    </tr>\n",
       "    <tr>\n",
       "      <th>9</th>\n",
       "      <td>rainy</td>\n",
       "      <td>mild</td>\n",
       "      <td>normal</td>\n",
       "      <td>False</td>\n",
       "      <td>1</td>\n",
       "    </tr>\n",
       "    <tr>\n",
       "      <th>10</th>\n",
       "      <td>sunny</td>\n",
       "      <td>mild</td>\n",
       "      <td>normal</td>\n",
       "      <td>True</td>\n",
       "      <td>1</td>\n",
       "    </tr>\n",
       "    <tr>\n",
       "      <th>11</th>\n",
       "      <td>overcast</td>\n",
       "      <td>mild</td>\n",
       "      <td>high</td>\n",
       "      <td>True</td>\n",
       "      <td>1</td>\n",
       "    </tr>\n",
       "    <tr>\n",
       "      <th>12</th>\n",
       "      <td>overcast</td>\n",
       "      <td>hot</td>\n",
       "      <td>normal</td>\n",
       "      <td>False</td>\n",
       "      <td>1</td>\n",
       "    </tr>\n",
       "  </tbody>\n",
       "</table>\n",
       "</div>"
      ],
      "text/plain": [
       "     outlook temperature humidity   wind  played\n",
       "0      sunny         hot     high  False       0\n",
       "1      sunny         hot     high   True       0\n",
       "5      rainy        cool   normal   True       0\n",
       "7      sunny        mild     high  False       0\n",
       "13     rainy        mild     high   True       0\n",
       "2   overcast         hot     high  False       1\n",
       "3      rainy        mild     high  False       1\n",
       "4      rainy        cool   normal  False       1\n",
       "6   overcast        cool   normal   True       1\n",
       "8      sunny        cool   normal  False       1\n",
       "9      rainy        mild   normal  False       1\n",
       "10     sunny        mild   normal   True       1\n",
       "11  overcast        mild     high   True       1\n",
       "12  overcast         hot   normal  False       1"
      ]
     },
     "execution_count": 38,
     "metadata": {},
     "output_type": "execute_result"
    }
   ],
   "source": [
    "# Let's look at the data\n",
    "tennis_df.sort_values('played')"
   ]
  },
  {
   "cell_type": "markdown",
   "metadata": {},
   "source": [
    "## How Would You Determine If You Played Tennis?\n",
    "\n",
    "Class discussion"
   ]
  },
  {
   "cell_type": "markdown",
   "metadata": {},
   "source": [
    "## Quantifying Our Decisions"
   ]
  },
  {
   "cell_type": "markdown",
   "metadata": {},
   "source": [
    "Does windiness do a good job of predicting \"played\"? Let's split our dataset into two subsets: points with `wind == True` and points with `wind == False`"
   ]
  },
  {
   "cell_type": "code",
   "execution_count": 5,
   "metadata": {
    "scrolled": true
   },
   "outputs": [
    {
     "name": "stdout",
     "output_type": "stream",
     "text": [
      "     outlook temperature humidity  wind  played\n",
      "1      sunny         hot     high  True       0\n",
      "5      rainy        cool   normal  True       0\n",
      "6   overcast        cool   normal  True       1\n",
      "10     sunny        mild   normal  True       1\n",
      "11  overcast        mild     high  True       1\n",
      "13     rainy        mild     high  True       0\n",
      "--------------------------------------------------\n",
      "     outlook temperature humidity   wind  played\n",
      "0      sunny         hot     high  False       0\n",
      "2   overcast         hot     high  False       1\n",
      "3      rainy        mild     high  False       1\n",
      "4      rainy        cool   normal  False       1\n",
      "7      sunny        mild     high  False       0\n",
      "8      sunny        cool   normal  False       1\n",
      "9      rainy        mild   normal  False       1\n",
      "12  overcast         hot   normal  False       1\n"
     ]
    }
   ],
   "source": [
    "mask = tennis_df['wind'] == True\n",
    "print(tennis_df[mask])\n",
    "print('-'*50)\n",
    "print(tennis_df[~mask])"
   ]
  },
  {
   "cell_type": "markdown",
   "metadata": {},
   "source": [
    "How much did this help us? A perfect decision would have separated all the `played == 0` points from the `played == 1` points, and a perfectly useless decision would have given us two subsets of the data that each had equal amounts of `0`s and `1`s. Let's look at some possible metrics for quantifying how \"mixed up\" or \"impure\" a set of labels is."
   ]
  },
  {
   "cell_type": "markdown",
   "metadata": {},
   "source": [
    "### Shannon Entropy\n",
    "\n",
    "One common measure of impurity is _entropy_ (there are other measures, but let's check this one out first). Let $Y$ be a discrete random variable with probability mass function $P(Y)$.\n",
    "\n",
    "For today's purposes, the values of $Y$ are _class labels_, and $P(Y=j)=p_j$ is the _probability of drawing a point with class $j$_\n",
    "\n",
    "For $m$ classes, the entropy is defined as:\n",
    "$$\\begin{align}\n",
    "H(Y) & = E[log_2(\\tfrac{1}{P(Y)})] \\\\\n",
    "     & = -E[log_2(P(Y))] \\\\\n",
    "     & = - \\sum_{j=1}^m p_j log_2(p_j)\n",
    "\\end{align}\n",
    "$$"
   ]
  },
  {
   "cell_type": "markdown",
   "metadata": {},
   "source": [
    "### Entropy Graph of Bernoulli Random Variable\n",
    "Say we have a set of labeled data $S = \\{y_1, y_2, y_3, \\ldots, y_n\\}$, where each label $y_i$ is either positive ($+$) or negative ($-$). Let $p(+)$ be the probability of drawing a data point from $S$ with the positive label.\n",
    "\n",
    "<img src=\"images/entropy_graph.png\" width=500 align=\"left\"/>"
   ]
  },
  {
   "cell_type": "code",
   "execution_count": 6,
   "metadata": {},
   "outputs": [],
   "source": [
    "def calc_entropy(y):\n",
    "    \"\"\"Return the entropy of the array y.\n",
    "    \n",
    "    Parameters\n",
    "    ----------\n",
    "    y: 1d numpy array\n",
    "    \n",
    "    Returns\n",
    "    -------\n",
    "    float\n",
    "    \"\"\"\n",
    "    summation = 0\n",
    "    \n",
    "    for class_i in np.unique(y):\n",
    "        prob = np.mean(y == class_i)\n",
    "        summation += prob * np.log2(prob)\n",
    "    \n",
    "    return -summation"
   ]
  },
  {
   "cell_type": "code",
   "execution_count": 7,
   "metadata": {},
   "outputs": [
    {
     "name": "stdout",
     "output_type": "stream",
     "text": [
      "labels from all data:  [0 0 1 1 1 0 1 0 1 1 1 1 1 0]\n",
      "labels of windy data:  [0 0 1 1 1 0]\n",
      "labels of non-windy data:  [0 1 1 1 0 1 1 1]\n"
     ]
    }
   ],
   "source": [
    "y = tennis_df['played'].values\n",
    "y1 = tennis_df.loc[mask, 'played'].values\n",
    "y2 = tennis_df.loc[~mask, 'played'].values\n",
    "\n",
    "print('labels from all data: ', y)\n",
    "print('labels of windy data: ', y1)\n",
    "print('labels of non-windy data: ', y2)"
   ]
  },
  {
   "cell_type": "code",
   "execution_count": 8,
   "metadata": {},
   "outputs": [
    {
     "name": "stdout",
     "output_type": "stream",
     "text": [
      "Entropy of original data set: 0.9403\n",
      "Entropy of windy data: 1.0\n",
      "Entropy of non windy data: 0.8113\n"
     ]
    }
   ],
   "source": [
    "print(\"Entropy of original data set: {:.4}\".format(calc_entropy(y)))\n",
    "print(\"Entropy of windy data: {:.4}\".format(calc_entropy(y1)))\n",
    "print(\"Entropy of non windy data: {:.4}\".format(calc_entropy(y2)))"
   ]
  },
  {
   "cell_type": "markdown",
   "metadata": {},
   "source": [
    "### Information Gain \n",
    "The information gained from splitting a data set (parent node) into two subsets (child nodes) is defined as follows: the difference between the _impurity of the parent node $S$_ and the _sum of weighted impurities of the child nodes $\\{C_i\\}$_. A higher IG for a split means that the split did a better job of separating (or un-mixing) the class labels. \n",
    "\n",
    "$$\\text{IG}(S, \\{C_1, C_2, \\ldots, C_k\\}) = H(S) - \\sum_{i=1}^k \\frac{|C_i|}{|S|} H(C_i)$$\n"
   ]
  },
  {
   "cell_type": "code",
   "execution_count": 9,
   "metadata": {},
   "outputs": [],
   "source": [
    "def calc_info_gain(y, y1, y2, impurity_func):\n",
    "    \"\"\"Return the information gain of making the given split.\n",
    "    \n",
    "    Parameters\n",
    "    ----------\n",
    "    y: 1d numpy array\n",
    "        Labels for parent node\n",
    "    \n",
    "    y1: 1d numpy array\n",
    "        Labels for potential child node 1\n",
    "    \n",
    "    y2: 1d numpy array\n",
    "        Labels for potential child node 2\n",
    "    \n",
    "    impurity_func: function\n",
    "        Function which calculates the impurity of the node \n",
    "        (e.g. Shannon Entropy)\n",
    "    \n",
    "    Returns\n",
    "    -------\n",
    "    float\n",
    "    \"\"\"\n",
    "    total_samples = float(y.shape[0])\n",
    "    child_imp = 0\n",
    "    y_impurity = impurity_func(y)\n",
    "    \n",
    "    for child_node in (y1, y2):\n",
    "        child_num = child_node.shape[0]\n",
    "        child_imp += (child_num / total_samples) * impurity_func(child_node)\n",
    "        \n",
    "    return y_impurity - child_imp"
   ]
  },
  {
   "cell_type": "code",
   "execution_count": 10,
   "metadata": {},
   "outputs": [
    {
     "name": "stdout",
     "output_type": "stream",
     "text": [
      "Information Gain is 0.04812703040826927.\n"
     ]
    }
   ],
   "source": [
    "# Information gain from splitting on wind\n",
    "print(\"Information Gain is {0}.\".format(calc_info_gain(y, y1, y2, calc_entropy)))"
   ]
  },
  {
   "cell_type": "markdown",
   "metadata": {},
   "source": [
    "What if we try splitting on \"temperature == hot\"?"
   ]
  },
  {
   "cell_type": "code",
   "execution_count": 11,
   "metadata": {},
   "outputs": [],
   "source": [
    "y1 = tennis_df.loc[tennis_df['temperature'] == 'hot','played'].values\n",
    "y2 = tennis_df.loc[tennis_df['temperature'] != 'hot','played'].values"
   ]
  },
  {
   "cell_type": "code",
   "execution_count": 12,
   "metadata": {},
   "outputs": [
    {
     "name": "stdout",
     "output_type": "stream",
     "text": [
      "labels from all data:  [0 0 1 1 1 0 1 0 1 1 1 1 1 0]\n",
      "labels of hot data:  [0 0 1 1]\n",
      "labels of non-hot data:  [1 1 0 1 0 1 1 1 1 0]\n"
     ]
    }
   ],
   "source": [
    "print('labels from all data: ', y)\n",
    "print('labels of hot data: ', y1)\n",
    "print('labels of non-hot data: ', y2)"
   ]
  },
  {
   "cell_type": "code",
   "execution_count": 13,
   "metadata": {},
   "outputs": [
    {
     "name": "stdout",
     "output_type": "stream",
     "text": [
      "Information Gain is 0.0250781735058504.\n"
     ]
    }
   ],
   "source": [
    "print(\"Information Gain is {0}.\".format(calc_info_gain(y, y1, y2, calc_entropy)))"
   ]
  },
  {
   "cell_type": "markdown",
   "metadata": {},
   "source": [
    "That's a lower information gain, so we can say that splitting the data on `temperature == hot` is worse than splitting the data on `windy == true`.\n",
    "\n",
    "So what's the best splitting decision we could make? Let's try 'em all and see what has the highest information gain."
   ]
  },
  {
   "cell_type": "code",
   "execution_count": 14,
   "metadata": {},
   "outputs": [],
   "source": [
    "def calc_ig_for_all_splits(X, y):\n",
    "    possible_splits = {}\n",
    "    # Get just my features names\n",
    "    feature_cols = X.columns\n",
    "\n",
    "    # For a given column, find all the unique possible values\n",
    "    for col in feature_cols:\n",
    "        col_splits = np.unique(X[col])\n",
    "        # For each possible value, split the dataset using that value\n",
    "        for pos_val in col_splits:\n",
    "            y1 = y.loc[X[col] == pos_val].values\n",
    "            y2 = y.loc[X[col] != pos_val].values\n",
    "            # Calculate the information gain, save it for later\n",
    "            ig = calc_info_gain(y, y1, y2, calc_entropy)\n",
    "            key = \"{0}: {1}\".format(col, pos_val)\n",
    "            possible_splits[key] = ig\n",
    "    return possible_splits\n",
    "\n",
    "def display_split_results(possible_splits):\n",
    "    # Print out our results in a pretty way\n",
    "    colname1 = \"Col Name: Value\"\n",
    "    colname2 = \"Information Gain\"\n",
    "\n",
    "    # :20 is specifying a column width, https://docs.python.org/3/library/string.html#formatspec\n",
    "    print(\"{0:20} || {1}\".format(colname1, colname2))\n",
    "    print(\"-----------------------------------------\")\n",
    "    for k,v in sorted(possible_splits.items(), key=lambda x: x[1], reverse=True):\n",
    "        print(\"{0:20} || {1}\".format(k, v))    "
   ]
  },
  {
   "cell_type": "code",
   "execution_count": 15,
   "metadata": {},
   "outputs": [
    {
     "name": "stdout",
     "output_type": "stream",
     "text": [
      "Col Name: Value      || Information Gain\n",
      "-----------------------------------------\n",
      "outlook: overcast    || 0.22600024438491662\n",
      "humidity: high       || 0.15183550136234136\n",
      "humidity: normal     || 0.15183550136234136\n",
      "outlook: sunny       || 0.10224356360985054\n",
      "wind: False          || 0.04812703040826927\n",
      "wind: True           || 0.04812703040826927\n",
      "temperature: hot     || 0.0250781735058504\n",
      "temperature: cool    || 0.014956069928972582\n",
      "outlook: rainy       || 0.003184853044648772\n",
      "temperature: mild    || 0.0013397424044412354\n"
     ]
    }
   ],
   "source": [
    "X = tennis_df.drop('played', axis = 1)\n",
    "y = tennis_df['played']\n",
    "\n",
    "possible_splits = calc_ig_for_all_splits(X,y)\n",
    "display_split_results(possible_splits)"
   ]
  },
  {
   "cell_type": "markdown",
   "metadata": {},
   "source": [
    "Splitting on overcast gave us the largest info gain. Let's look at what those child nodes look like and their respective entropies."
   ]
  },
  {
   "cell_type": "code",
   "execution_count": 16,
   "metadata": {},
   "outputs": [
    {
     "name": "stdout",
     "output_type": "stream",
     "text": [
      "Entropy of left child node is -0.0\n"
     ]
    },
    {
     "data": {
      "text/html": [
       "<div>\n",
       "<style>\n",
       "    .dataframe thead tr:only-child th {\n",
       "        text-align: right;\n",
       "    }\n",
       "\n",
       "    .dataframe thead th {\n",
       "        text-align: left;\n",
       "    }\n",
       "\n",
       "    .dataframe tbody tr th {\n",
       "        vertical-align: top;\n",
       "    }\n",
       "</style>\n",
       "<table border=\"1\" class=\"dataframe\">\n",
       "  <thead>\n",
       "    <tr style=\"text-align: right;\">\n",
       "      <th></th>\n",
       "      <th>outlook</th>\n",
       "      <th>temperature</th>\n",
       "      <th>humidity</th>\n",
       "      <th>wind</th>\n",
       "      <th>played</th>\n",
       "    </tr>\n",
       "  </thead>\n",
       "  <tbody>\n",
       "    <tr>\n",
       "      <th>2</th>\n",
       "      <td>overcast</td>\n",
       "      <td>hot</td>\n",
       "      <td>high</td>\n",
       "      <td>False</td>\n",
       "      <td>1</td>\n",
       "    </tr>\n",
       "    <tr>\n",
       "      <th>6</th>\n",
       "      <td>overcast</td>\n",
       "      <td>cool</td>\n",
       "      <td>normal</td>\n",
       "      <td>True</td>\n",
       "      <td>1</td>\n",
       "    </tr>\n",
       "    <tr>\n",
       "      <th>11</th>\n",
       "      <td>overcast</td>\n",
       "      <td>mild</td>\n",
       "      <td>high</td>\n",
       "      <td>True</td>\n",
       "      <td>1</td>\n",
       "    </tr>\n",
       "    <tr>\n",
       "      <th>12</th>\n",
       "      <td>overcast</td>\n",
       "      <td>hot</td>\n",
       "      <td>normal</td>\n",
       "      <td>False</td>\n",
       "      <td>1</td>\n",
       "    </tr>\n",
       "  </tbody>\n",
       "</table>\n",
       "</div>"
      ],
      "text/plain": [
       "     outlook temperature humidity   wind  played\n",
       "2   overcast         hot     high  False       1\n",
       "6   overcast        cool   normal   True       1\n",
       "11  overcast        mild     high   True       1\n",
       "12  overcast         hot   normal  False       1"
      ]
     },
     "execution_count": 16,
     "metadata": {},
     "output_type": "execute_result"
    }
   ],
   "source": [
    "child_node_left = tennis_df[tennis_df['outlook'] == 'overcast']\n",
    "print(\"Entropy of left child node is {0}\".format(\n",
    "          calc_entropy(child_node_left['played'].values)))\n",
    "child_node_left"
   ]
  },
  {
   "cell_type": "code",
   "execution_count": 17,
   "metadata": {},
   "outputs": [
    {
     "name": "stdout",
     "output_type": "stream",
     "text": [
      "Entropy of right child node is 1.0\n"
     ]
    },
    {
     "data": {
      "text/html": [
       "<div>\n",
       "<style>\n",
       "    .dataframe thead tr:only-child th {\n",
       "        text-align: right;\n",
       "    }\n",
       "\n",
       "    .dataframe thead th {\n",
       "        text-align: left;\n",
       "    }\n",
       "\n",
       "    .dataframe tbody tr th {\n",
       "        vertical-align: top;\n",
       "    }\n",
       "</style>\n",
       "<table border=\"1\" class=\"dataframe\">\n",
       "  <thead>\n",
       "    <tr style=\"text-align: right;\">\n",
       "      <th></th>\n",
       "      <th>outlook</th>\n",
       "      <th>temperature</th>\n",
       "      <th>humidity</th>\n",
       "      <th>wind</th>\n",
       "      <th>played</th>\n",
       "    </tr>\n",
       "  </thead>\n",
       "  <tbody>\n",
       "    <tr>\n",
       "      <th>0</th>\n",
       "      <td>sunny</td>\n",
       "      <td>hot</td>\n",
       "      <td>high</td>\n",
       "      <td>False</td>\n",
       "      <td>0</td>\n",
       "    </tr>\n",
       "    <tr>\n",
       "      <th>1</th>\n",
       "      <td>sunny</td>\n",
       "      <td>hot</td>\n",
       "      <td>high</td>\n",
       "      <td>True</td>\n",
       "      <td>0</td>\n",
       "    </tr>\n",
       "    <tr>\n",
       "      <th>3</th>\n",
       "      <td>rainy</td>\n",
       "      <td>mild</td>\n",
       "      <td>high</td>\n",
       "      <td>False</td>\n",
       "      <td>1</td>\n",
       "    </tr>\n",
       "    <tr>\n",
       "      <th>4</th>\n",
       "      <td>rainy</td>\n",
       "      <td>cool</td>\n",
       "      <td>normal</td>\n",
       "      <td>False</td>\n",
       "      <td>1</td>\n",
       "    </tr>\n",
       "    <tr>\n",
       "      <th>5</th>\n",
       "      <td>rainy</td>\n",
       "      <td>cool</td>\n",
       "      <td>normal</td>\n",
       "      <td>True</td>\n",
       "      <td>0</td>\n",
       "    </tr>\n",
       "    <tr>\n",
       "      <th>7</th>\n",
       "      <td>sunny</td>\n",
       "      <td>mild</td>\n",
       "      <td>high</td>\n",
       "      <td>False</td>\n",
       "      <td>0</td>\n",
       "    </tr>\n",
       "    <tr>\n",
       "      <th>8</th>\n",
       "      <td>sunny</td>\n",
       "      <td>cool</td>\n",
       "      <td>normal</td>\n",
       "      <td>False</td>\n",
       "      <td>1</td>\n",
       "    </tr>\n",
       "    <tr>\n",
       "      <th>9</th>\n",
       "      <td>rainy</td>\n",
       "      <td>mild</td>\n",
       "      <td>normal</td>\n",
       "      <td>False</td>\n",
       "      <td>1</td>\n",
       "    </tr>\n",
       "    <tr>\n",
       "      <th>10</th>\n",
       "      <td>sunny</td>\n",
       "      <td>mild</td>\n",
       "      <td>normal</td>\n",
       "      <td>True</td>\n",
       "      <td>1</td>\n",
       "    </tr>\n",
       "    <tr>\n",
       "      <th>13</th>\n",
       "      <td>rainy</td>\n",
       "      <td>mild</td>\n",
       "      <td>high</td>\n",
       "      <td>True</td>\n",
       "      <td>0</td>\n",
       "    </tr>\n",
       "  </tbody>\n",
       "</table>\n",
       "</div>"
      ],
      "text/plain": [
       "   outlook temperature humidity   wind  played\n",
       "0    sunny         hot     high  False       0\n",
       "1    sunny         hot     high   True       0\n",
       "3    rainy        mild     high  False       1\n",
       "4    rainy        cool   normal  False       1\n",
       "5    rainy        cool   normal   True       0\n",
       "7    sunny        mild     high  False       0\n",
       "8    sunny        cool   normal  False       1\n",
       "9    rainy        mild   normal  False       1\n",
       "10   sunny        mild   normal   True       1\n",
       "13   rainy        mild     high   True       0"
      ]
     },
     "execution_count": 17,
     "metadata": {},
     "output_type": "execute_result"
    }
   ],
   "source": [
    "child_node_right = tennis_df[tennis_df['outlook'] != 'overcast']\n",
    "print(\"Entropy of right child node is {0}\".format(\n",
    "          calc_entropy(child_node_right['played'].values)))\n",
    "child_node_right"
   ]
  },
  {
   "cell_type": "markdown",
   "metadata": {},
   "source": [
    "So we made a splitting decision that divided the data into two subsets: one that had all the same label (a _pure node_) and another that was perfectly mixed: five $0$s and five $1$s. That's a little frustrating. What can we do?\n",
    "\n",
    "Well lets's see if there's a splitting decision we can make for this second subset of data (the `outlook != overcast` data) to sort out the labels better."
   ]
  },
  {
   "cell_type": "code",
   "execution_count": 18,
   "metadata": {},
   "outputs": [
    {
     "name": "stdout",
     "output_type": "stream",
     "text": [
      "Col Name: Value      || Information Gain\n",
      "-----------------------------------------\n",
      "humidity: high       || 0.2780719051126377\n",
      "humidity: normal     || 0.2780719051126377\n",
      "temperature: hot     || 0.23645279766002802\n",
      "wind: False          || 0.12451124978365313\n",
      "wind: True           || 0.12451124978365313\n",
      "temperature: cool    || 0.034851554559677034\n",
      "outlook: rainy       || 0.02904940554533142\n",
      "outlook: sunny       || 0.02904940554533142\n",
      "temperature: mild    || 0.02904940554533142\n"
     ]
    }
   ],
   "source": [
    "mask = tennis_df['outlook'] != 'overcast'\n",
    "\n",
    "possible_splits = calc_ig_for_all_splits(X[mask],y[mask])\n",
    "display_split_results(possible_splits)"
   ]
  },
  {
   "cell_type": "code",
   "execution_count": 19,
   "metadata": {},
   "outputs": [
    {
     "name": "stdout",
     "output_type": "stream",
     "text": [
      "Entropy of left child node is 0.7219280948873623\n"
     ]
    },
    {
     "data": {
      "text/html": [
       "<div>\n",
       "<style>\n",
       "    .dataframe thead tr:only-child th {\n",
       "        text-align: right;\n",
       "    }\n",
       "\n",
       "    .dataframe thead th {\n",
       "        text-align: left;\n",
       "    }\n",
       "\n",
       "    .dataframe tbody tr th {\n",
       "        vertical-align: top;\n",
       "    }\n",
       "</style>\n",
       "<table border=\"1\" class=\"dataframe\">\n",
       "  <thead>\n",
       "    <tr style=\"text-align: right;\">\n",
       "      <th></th>\n",
       "      <th>outlook</th>\n",
       "      <th>temperature</th>\n",
       "      <th>humidity</th>\n",
       "      <th>wind</th>\n",
       "      <th>played</th>\n",
       "    </tr>\n",
       "  </thead>\n",
       "  <tbody>\n",
       "    <tr>\n",
       "      <th>0</th>\n",
       "      <td>sunny</td>\n",
       "      <td>hot</td>\n",
       "      <td>high</td>\n",
       "      <td>False</td>\n",
       "      <td>0</td>\n",
       "    </tr>\n",
       "    <tr>\n",
       "      <th>1</th>\n",
       "      <td>sunny</td>\n",
       "      <td>hot</td>\n",
       "      <td>high</td>\n",
       "      <td>True</td>\n",
       "      <td>0</td>\n",
       "    </tr>\n",
       "    <tr>\n",
       "      <th>3</th>\n",
       "      <td>rainy</td>\n",
       "      <td>mild</td>\n",
       "      <td>high</td>\n",
       "      <td>False</td>\n",
       "      <td>1</td>\n",
       "    </tr>\n",
       "    <tr>\n",
       "      <th>7</th>\n",
       "      <td>sunny</td>\n",
       "      <td>mild</td>\n",
       "      <td>high</td>\n",
       "      <td>False</td>\n",
       "      <td>0</td>\n",
       "    </tr>\n",
       "    <tr>\n",
       "      <th>13</th>\n",
       "      <td>rainy</td>\n",
       "      <td>mild</td>\n",
       "      <td>high</td>\n",
       "      <td>True</td>\n",
       "      <td>0</td>\n",
       "    </tr>\n",
       "  </tbody>\n",
       "</table>\n",
       "</div>"
      ],
      "text/plain": [
       "   outlook temperature humidity   wind  played\n",
       "0    sunny         hot     high  False       0\n",
       "1    sunny         hot     high   True       0\n",
       "3    rainy        mild     high  False       1\n",
       "7    sunny        mild     high  False       0\n",
       "13   rainy        mild     high   True       0"
      ]
     },
     "execution_count": 19,
     "metadata": {},
     "output_type": "execute_result"
    }
   ],
   "source": [
    "child_node_left = tennis_df[mask & (tennis_df['humidity'] == 'high')]\n",
    "print(\"Entropy of left child node is {0}\".format(\n",
    "          calc_entropy(child_node_left['played'].values)))\n",
    "child_node_left"
   ]
  },
  {
   "cell_type": "code",
   "execution_count": 20,
   "metadata": {},
   "outputs": [
    {
     "name": "stdout",
     "output_type": "stream",
     "text": [
      "Entropy of right child node is 0.7219280948873623\n"
     ]
    },
    {
     "data": {
      "text/html": [
       "<div>\n",
       "<style>\n",
       "    .dataframe thead tr:only-child th {\n",
       "        text-align: right;\n",
       "    }\n",
       "\n",
       "    .dataframe thead th {\n",
       "        text-align: left;\n",
       "    }\n",
       "\n",
       "    .dataframe tbody tr th {\n",
       "        vertical-align: top;\n",
       "    }\n",
       "</style>\n",
       "<table border=\"1\" class=\"dataframe\">\n",
       "  <thead>\n",
       "    <tr style=\"text-align: right;\">\n",
       "      <th></th>\n",
       "      <th>outlook</th>\n",
       "      <th>temperature</th>\n",
       "      <th>humidity</th>\n",
       "      <th>wind</th>\n",
       "      <th>played</th>\n",
       "    </tr>\n",
       "  </thead>\n",
       "  <tbody>\n",
       "    <tr>\n",
       "      <th>4</th>\n",
       "      <td>rainy</td>\n",
       "      <td>cool</td>\n",
       "      <td>normal</td>\n",
       "      <td>False</td>\n",
       "      <td>1</td>\n",
       "    </tr>\n",
       "    <tr>\n",
       "      <th>5</th>\n",
       "      <td>rainy</td>\n",
       "      <td>cool</td>\n",
       "      <td>normal</td>\n",
       "      <td>True</td>\n",
       "      <td>0</td>\n",
       "    </tr>\n",
       "    <tr>\n",
       "      <th>8</th>\n",
       "      <td>sunny</td>\n",
       "      <td>cool</td>\n",
       "      <td>normal</td>\n",
       "      <td>False</td>\n",
       "      <td>1</td>\n",
       "    </tr>\n",
       "    <tr>\n",
       "      <th>9</th>\n",
       "      <td>rainy</td>\n",
       "      <td>mild</td>\n",
       "      <td>normal</td>\n",
       "      <td>False</td>\n",
       "      <td>1</td>\n",
       "    </tr>\n",
       "    <tr>\n",
       "      <th>10</th>\n",
       "      <td>sunny</td>\n",
       "      <td>mild</td>\n",
       "      <td>normal</td>\n",
       "      <td>True</td>\n",
       "      <td>1</td>\n",
       "    </tr>\n",
       "  </tbody>\n",
       "</table>\n",
       "</div>"
      ],
      "text/plain": [
       "   outlook temperature humidity   wind  played\n",
       "4    rainy        cool   normal  False       1\n",
       "5    rainy        cool   normal   True       0\n",
       "8    sunny        cool   normal  False       1\n",
       "9    rainy        mild   normal  False       1\n",
       "10   sunny        mild   normal   True       1"
      ]
     },
     "execution_count": 20,
     "metadata": {},
     "output_type": "execute_result"
    }
   ],
   "source": [
    "child_node_right = tennis_df[mask & (tennis_df['humidity'] != 'high')]\n",
    "print(\"Entropy of right child node is {0}\".format(\n",
    "          calc_entropy(child_node_right['played'].values)))\n",
    "child_node_right"
   ]
  },
  {
   "cell_type": "code",
   "execution_count": 21,
   "metadata": {},
   "outputs": [
    {
     "data": {
      "text/plain": [
       "DecisionTreeClassifier(class_weight=None, criterion='entropy', max_depth=2,\n",
       "            max_features=None, max_leaf_nodes=None,\n",
       "            min_impurity_decrease=0.0, min_impurity_split=None,\n",
       "            min_samples_leaf=1, min_samples_split=2,\n",
       "            min_weight_fraction_leaf=0.0, presort=False, random_state=None,\n",
       "            splitter='best')"
      ]
     },
     "execution_count": 21,
     "metadata": {},
     "output_type": "execute_result"
    }
   ],
   "source": [
    "# sklearn's implementation requires\n",
    "# numerical features and only makes\n",
    "# binary splits\n",
    "\n",
    "X_dum = pd.get_dummies(X)\n",
    "\n",
    "dt = tree.DecisionTreeClassifier(max_depth=2, criterion='entropy')\n",
    "dt.fit(X_dum, y)"
   ]
  },
  {
   "cell_type": "code",
   "execution_count": 22,
   "metadata": {},
   "outputs": [
    {
     "data": {
      "image/svg+xml": [
       "<?xml version=\"1.0\" encoding=\"UTF-8\" standalone=\"no\"?>\n",
       "<!DOCTYPE svg PUBLIC \"-//W3C//DTD SVG 1.1//EN\"\n",
       " \"http://www.w3.org/Graphics/SVG/1.1/DTD/svg11.dtd\">\n",
       "<!-- Generated by graphviz version 2.40.1 (20161225.0304)\n",
       " -->\n",
       "<!-- Title: Tree Pages: 1 -->\n",
       "<svg width=\"300pt\" height=\"269pt\"\n",
       " viewBox=\"0.00 0.00 300.00 269.00\" xmlns=\"http://www.w3.org/2000/svg\" xmlns:xlink=\"http://www.w3.org/1999/xlink\">\n",
       "<g id=\"graph0\" class=\"graph\" transform=\"scale(1 1) rotate(0) translate(4 265)\">\n",
       "<title>Tree</title>\n",
       "<polygon fill=\"#ffffff\" stroke=\"transparent\" points=\"-4,4 -4,-265 296,-265 296,4 -4,4\"/>\n",
       "<!-- 0 -->\n",
       "<g id=\"node1\" class=\"node\">\n",
       "<title>0</title>\n",
       "<polygon fill=\"#399de5\" fill-opacity=\"0.443137\" stroke=\"#000000\" points=\"254.5,-261 103.5,-261 103.5,-193 254.5,-193 254.5,-261\"/>\n",
       "<text text-anchor=\"middle\" x=\"179\" y=\"-245.8\" font-family=\"Times,serif\" font-size=\"14.00\" fill=\"#000000\">outlook_overcast &lt;= 0.5</text>\n",
       "<text text-anchor=\"middle\" x=\"179\" y=\"-230.8\" font-family=\"Times,serif\" font-size=\"14.00\" fill=\"#000000\">entropy = 0.94</text>\n",
       "<text text-anchor=\"middle\" x=\"179\" y=\"-215.8\" font-family=\"Times,serif\" font-size=\"14.00\" fill=\"#000000\">samples = 14</text>\n",
       "<text text-anchor=\"middle\" x=\"179\" y=\"-200.8\" font-family=\"Times,serif\" font-size=\"14.00\" fill=\"#000000\">value = [5, 9]</text>\n",
       "</g>\n",
       "<!-- 1 -->\n",
       "<g id=\"node2\" class=\"node\">\n",
       "<title>1</title>\n",
       "<polygon fill=\"transparent\" stroke=\"#000000\" points=\"182,-157 44,-157 44,-89 182,-89 182,-157\"/>\n",
       "<text text-anchor=\"middle\" x=\"113\" y=\"-141.8\" font-family=\"Times,serif\" font-size=\"14.00\" fill=\"#000000\">humidity_high &lt;= 0.5</text>\n",
       "<text text-anchor=\"middle\" x=\"113\" y=\"-126.8\" font-family=\"Times,serif\" font-size=\"14.00\" fill=\"#000000\">entropy = 1.0</text>\n",
       "<text text-anchor=\"middle\" x=\"113\" y=\"-111.8\" font-family=\"Times,serif\" font-size=\"14.00\" fill=\"#000000\">samples = 10</text>\n",
       "<text text-anchor=\"middle\" x=\"113\" y=\"-96.8\" font-family=\"Times,serif\" font-size=\"14.00\" fill=\"#000000\">value = [5, 5]</text>\n",
       "</g>\n",
       "<!-- 0&#45;&gt;1 -->\n",
       "<g id=\"edge1\" class=\"edge\">\n",
       "<title>0&#45;&gt;1</title>\n",
       "<path fill=\"none\" stroke=\"#000000\" d=\"M157.3891,-192.9465C151.8622,-184.2373 145.8494,-174.7626 140.0854,-165.6801\"/>\n",
       "<polygon fill=\"#000000\" stroke=\"#000000\" points=\"142.9729,-163.6979 134.6594,-157.13 137.0626,-167.4487 142.9729,-163.6979\"/>\n",
       "<text text-anchor=\"middle\" x=\"129.2058\" y=\"-177.8279\" font-family=\"Times,serif\" font-size=\"14.00\" fill=\"#000000\">True</text>\n",
       "</g>\n",
       "<!-- 4 -->\n",
       "<g id=\"node5\" class=\"node\">\n",
       "<title>4</title>\n",
       "<polygon fill=\"#399de5\" stroke=\"#000000\" points=\"292,-149.5 200,-149.5 200,-96.5 292,-96.5 292,-149.5\"/>\n",
       "<text text-anchor=\"middle\" x=\"246\" y=\"-134.3\" font-family=\"Times,serif\" font-size=\"14.00\" fill=\"#000000\">entropy = 0.0</text>\n",
       "<text text-anchor=\"middle\" x=\"246\" y=\"-119.3\" font-family=\"Times,serif\" font-size=\"14.00\" fill=\"#000000\">samples = 4</text>\n",
       "<text text-anchor=\"middle\" x=\"246\" y=\"-104.3\" font-family=\"Times,serif\" font-size=\"14.00\" fill=\"#000000\">value = [0, 4]</text>\n",
       "</g>\n",
       "<!-- 0&#45;&gt;4 -->\n",
       "<g id=\"edge4\" class=\"edge\">\n",
       "<title>0&#45;&gt;4</title>\n",
       "<path fill=\"none\" stroke=\"#000000\" d=\"M200.9383,-192.9465C208.1054,-181.8215 216.0773,-169.4473 223.2993,-158.237\"/>\n",
       "<polygon fill=\"#000000\" stroke=\"#000000\" points=\"226.4272,-159.8442 228.9007,-149.5422 220.5426,-156.0532 226.4272,-159.8442\"/>\n",
       "<text text-anchor=\"middle\" x=\"234.1877\" y=\"-170.2767\" font-family=\"Times,serif\" font-size=\"14.00\" fill=\"#000000\">False</text>\n",
       "</g>\n",
       "<!-- 2 -->\n",
       "<g id=\"node3\" class=\"node\">\n",
       "<title>2</title>\n",
       "<polygon fill=\"#399de5\" fill-opacity=\"0.749020\" stroke=\"#000000\" points=\"104,-53 0,-53 0,0 104,0 104,-53\"/>\n",
       "<text text-anchor=\"middle\" x=\"52\" y=\"-37.8\" font-family=\"Times,serif\" font-size=\"14.00\" fill=\"#000000\">entropy = 0.722</text>\n",
       "<text text-anchor=\"middle\" x=\"52\" y=\"-22.8\" font-family=\"Times,serif\" font-size=\"14.00\" fill=\"#000000\">samples = 5</text>\n",
       "<text text-anchor=\"middle\" x=\"52\" y=\"-7.8\" font-family=\"Times,serif\" font-size=\"14.00\" fill=\"#000000\">value = [1, 4]</text>\n",
       "</g>\n",
       "<!-- 1&#45;&gt;2 -->\n",
       "<g id=\"edge2\" class=\"edge\">\n",
       "<title>1&#45;&gt;2</title>\n",
       "<path fill=\"none\" stroke=\"#000000\" d=\"M91.4937,-88.9777C85.9369,-80.187 79.9427,-70.7044 74.3441,-61.8477\"/>\n",
       "<polygon fill=\"#000000\" stroke=\"#000000\" points=\"77.2101,-59.8312 68.9084,-53.2485 71.2931,-63.5714 77.2101,-59.8312\"/>\n",
       "</g>\n",
       "<!-- 3 -->\n",
       "<g id=\"node4\" class=\"node\">\n",
       "<title>3</title>\n",
       "<polygon fill=\"#e58139\" fill-opacity=\"0.749020\" stroke=\"#000000\" points=\"226,-53 122,-53 122,0 226,0 226,-53\"/>\n",
       "<text text-anchor=\"middle\" x=\"174\" y=\"-37.8\" font-family=\"Times,serif\" font-size=\"14.00\" fill=\"#000000\">entropy = 0.722</text>\n",
       "<text text-anchor=\"middle\" x=\"174\" y=\"-22.8\" font-family=\"Times,serif\" font-size=\"14.00\" fill=\"#000000\">samples = 5</text>\n",
       "<text text-anchor=\"middle\" x=\"174\" y=\"-7.8\" font-family=\"Times,serif\" font-size=\"14.00\" fill=\"#000000\">value = [4, 1]</text>\n",
       "</g>\n",
       "<!-- 1&#45;&gt;3 -->\n",
       "<g id=\"edge3\" class=\"edge\">\n",
       "<title>1&#45;&gt;3</title>\n",
       "<path fill=\"none\" stroke=\"#000000\" d=\"M134.5063,-88.9777C140.0631,-80.187 146.0573,-70.7044 151.6559,-61.8477\"/>\n",
       "<polygon fill=\"#000000\" stroke=\"#000000\" points=\"154.7069,-63.5714 157.0916,-53.2485 148.7899,-59.8312 154.7069,-63.5714\"/>\n",
       "</g>\n",
       "</g>\n",
       "</svg>\n"
      ],
      "text/plain": [
       "<graphviz.files.Source at 0x7f0755d80c18>"
      ]
     },
     "execution_count": 22,
     "metadata": {},
     "output_type": "execute_result"
    }
   ],
   "source": [
    "graphviz.Source(tree.export_graphviz(dt, out_file=None, \n",
    "                                     feature_names=X_dum.columns,\n",
    "                                     filled=True))"
   ]
  },
  {
   "cell_type": "markdown",
   "metadata": {},
   "source": [
    "#### exercise\n",
    "\n",
    "Using this tree, what would we predict for a day with `outlook == overcast` and `humidity == normal`?\n",
    "\n",
    "How about `outlook == sunny` and `humidity == high`?"
   ]
  },
  {
   "cell_type": "markdown",
   "metadata": {},
   "source": [
    "### When do we stop?\n",
    "\n",
    "We've made two decisions that almost completely sort out \"played\" from \"not played\"\n",
    "\n",
    "Almost completely.. we could find splits that completely sort out these sets too, couldn't we?"
   ]
  },
  {
   "cell_type": "code",
   "execution_count": 23,
   "metadata": {},
   "outputs": [
    {
     "data": {
      "text/plain": [
       "DecisionTreeClassifier(class_weight=None, criterion='entropy', max_depth=None,\n",
       "            max_features=None, max_leaf_nodes=None,\n",
       "            min_impurity_decrease=0.0, min_impurity_split=None,\n",
       "            min_samples_leaf=1, min_samples_split=2,\n",
       "            min_weight_fraction_leaf=0.0, presort=False, random_state=None,\n",
       "            splitter='best')"
      ]
     },
     "execution_count": 23,
     "metadata": {},
     "output_type": "execute_result"
    }
   ],
   "source": [
    "dt = tree.DecisionTreeClassifier(criterion='entropy')\n",
    "dt.fit(X_dum, y)"
   ]
  },
  {
   "cell_type": "code",
   "execution_count": 24,
   "metadata": {},
   "outputs": [
    {
     "data": {
      "image/svg+xml": [
       "<?xml version=\"1.0\" encoding=\"UTF-8\" standalone=\"no\"?>\n",
       "<!DOCTYPE svg PUBLIC \"-//W3C//DTD SVG 1.1//EN\"\n",
       " \"http://www.w3.org/Graphics/SVG/1.1/DTD/svg11.dtd\">\n",
       "<!-- Generated by graphviz version 2.40.1 (20161225.0304)\n",
       " -->\n",
       "<!-- Title: Tree Pages: 1 -->\n",
       "<svg width=\"492pt\" height=\"477pt\"\n",
       " viewBox=\"0.00 0.00 492.00 477.00\" xmlns=\"http://www.w3.org/2000/svg\" xmlns:xlink=\"http://www.w3.org/1999/xlink\">\n",
       "<g id=\"graph0\" class=\"graph\" transform=\"scale(1 1) rotate(0) translate(4 473)\">\n",
       "<title>Tree</title>\n",
       "<polygon fill=\"#ffffff\" stroke=\"transparent\" points=\"-4,4 -4,-473 488,-473 488,4 -4,4\"/>\n",
       "<!-- 0 -->\n",
       "<g id=\"node1\" class=\"node\">\n",
       "<title>0</title>\n",
       "<polygon fill=\"#399de5\" fill-opacity=\"0.443137\" stroke=\"#000000\" points=\"398.5,-469 247.5,-469 247.5,-401 398.5,-401 398.5,-469\"/>\n",
       "<text text-anchor=\"middle\" x=\"323\" y=\"-453.8\" font-family=\"Times,serif\" font-size=\"14.00\" fill=\"#000000\">outlook_overcast &lt;= 0.5</text>\n",
       "<text text-anchor=\"middle\" x=\"323\" y=\"-438.8\" font-family=\"Times,serif\" font-size=\"14.00\" fill=\"#000000\">entropy = 0.94</text>\n",
       "<text text-anchor=\"middle\" x=\"323\" y=\"-423.8\" font-family=\"Times,serif\" font-size=\"14.00\" fill=\"#000000\">samples = 14</text>\n",
       "<text text-anchor=\"middle\" x=\"323\" y=\"-408.8\" font-family=\"Times,serif\" font-size=\"14.00\" fill=\"#000000\">value = [5, 9]</text>\n",
       "</g>\n",
       "<!-- 1 -->\n",
       "<g id=\"node2\" class=\"node\">\n",
       "<title>1</title>\n",
       "<polygon fill=\"transparent\" stroke=\"#000000\" points=\"326,-365 188,-365 188,-297 326,-297 326,-365\"/>\n",
       "<text text-anchor=\"middle\" x=\"257\" y=\"-349.8\" font-family=\"Times,serif\" font-size=\"14.00\" fill=\"#000000\">humidity_high &lt;= 0.5</text>\n",
       "<text text-anchor=\"middle\" x=\"257\" y=\"-334.8\" font-family=\"Times,serif\" font-size=\"14.00\" fill=\"#000000\">entropy = 1.0</text>\n",
       "<text text-anchor=\"middle\" x=\"257\" y=\"-319.8\" font-family=\"Times,serif\" font-size=\"14.00\" fill=\"#000000\">samples = 10</text>\n",
       "<text text-anchor=\"middle\" x=\"257\" y=\"-304.8\" font-family=\"Times,serif\" font-size=\"14.00\" fill=\"#000000\">value = [5, 5]</text>\n",
       "</g>\n",
       "<!-- 0&#45;&gt;1 -->\n",
       "<g id=\"edge1\" class=\"edge\">\n",
       "<title>0&#45;&gt;1</title>\n",
       "<path fill=\"none\" stroke=\"#000000\" d=\"M301.3891,-400.9465C295.8622,-392.2373 289.8494,-382.7626 284.0854,-373.6801\"/>\n",
       "<polygon fill=\"#000000\" stroke=\"#000000\" points=\"286.9729,-371.6979 278.6594,-365.13 281.0626,-375.4487 286.9729,-371.6979\"/>\n",
       "<text text-anchor=\"middle\" x=\"273.2058\" y=\"-385.8279\" font-family=\"Times,serif\" font-size=\"14.00\" fill=\"#000000\">True</text>\n",
       "</g>\n",
       "<!-- 12 -->\n",
       "<g id=\"node13\" class=\"node\">\n",
       "<title>12</title>\n",
       "<polygon fill=\"#399de5\" stroke=\"#000000\" points=\"436,-357.5 344,-357.5 344,-304.5 436,-304.5 436,-357.5\"/>\n",
       "<text text-anchor=\"middle\" x=\"390\" y=\"-342.3\" font-family=\"Times,serif\" font-size=\"14.00\" fill=\"#000000\">entropy = 0.0</text>\n",
       "<text text-anchor=\"middle\" x=\"390\" y=\"-327.3\" font-family=\"Times,serif\" font-size=\"14.00\" fill=\"#000000\">samples = 4</text>\n",
       "<text text-anchor=\"middle\" x=\"390\" y=\"-312.3\" font-family=\"Times,serif\" font-size=\"14.00\" fill=\"#000000\">value = [0, 4]</text>\n",
       "</g>\n",
       "<!-- 0&#45;&gt;12 -->\n",
       "<g id=\"edge12\" class=\"edge\">\n",
       "<title>0&#45;&gt;12</title>\n",
       "<path fill=\"none\" stroke=\"#000000\" d=\"M344.9383,-400.9465C352.1054,-389.8215 360.0773,-377.4473 367.2993,-366.237\"/>\n",
       "<polygon fill=\"#000000\" stroke=\"#000000\" points=\"370.4272,-367.8442 372.9007,-357.5422 364.5426,-364.0532 370.4272,-367.8442\"/>\n",
       "<text text-anchor=\"middle\" x=\"378.1877\" y=\"-378.2767\" font-family=\"Times,serif\" font-size=\"14.00\" fill=\"#000000\">False</text>\n",
       "</g>\n",
       "<!-- 2 -->\n",
       "<g id=\"node3\" class=\"node\">\n",
       "<title>2</title>\n",
       "<polygon fill=\"#399de5\" fill-opacity=\"0.749020\" stroke=\"#000000\" points=\"239,-261 135,-261 135,-193 239,-193 239,-261\"/>\n",
       "<text text-anchor=\"middle\" x=\"187\" y=\"-245.8\" font-family=\"Times,serif\" font-size=\"14.00\" fill=\"#000000\">wind &lt;= 0.5</text>\n",
       "<text text-anchor=\"middle\" x=\"187\" y=\"-230.8\" font-family=\"Times,serif\" font-size=\"14.00\" fill=\"#000000\">entropy = 0.722</text>\n",
       "<text text-anchor=\"middle\" x=\"187\" y=\"-215.8\" font-family=\"Times,serif\" font-size=\"14.00\" fill=\"#000000\">samples = 5</text>\n",
       "<text text-anchor=\"middle\" x=\"187\" y=\"-200.8\" font-family=\"Times,serif\" font-size=\"14.00\" fill=\"#000000\">value = [1, 4]</text>\n",
       "</g>\n",
       "<!-- 1&#45;&gt;2 -->\n",
       "<g id=\"edge2\" class=\"edge\">\n",
       "<title>1&#45;&gt;2</title>\n",
       "<path fill=\"none\" stroke=\"#000000\" d=\"M234.0794,-296.9465C228.2174,-288.2373 221.8402,-278.7626 215.727,-269.6801\"/>\n",
       "<polygon fill=\"#000000\" stroke=\"#000000\" points=\"218.4595,-267.4716 209.9721,-261.13 212.6524,-271.3802 218.4595,-267.4716\"/>\n",
       "</g>\n",
       "<!-- 7 -->\n",
       "<g id=\"node8\" class=\"node\">\n",
       "<title>7</title>\n",
       "<polygon fill=\"#e58139\" fill-opacity=\"0.749020\" stroke=\"#000000\" points=\"397,-261 259,-261 259,-193 397,-193 397,-261\"/>\n",
       "<text text-anchor=\"middle\" x=\"328\" y=\"-245.8\" font-family=\"Times,serif\" font-size=\"14.00\" fill=\"#000000\">outlook_sunny &lt;= 0.5</text>\n",
       "<text text-anchor=\"middle\" x=\"328\" y=\"-230.8\" font-family=\"Times,serif\" font-size=\"14.00\" fill=\"#000000\">entropy = 0.722</text>\n",
       "<text text-anchor=\"middle\" x=\"328\" y=\"-215.8\" font-family=\"Times,serif\" font-size=\"14.00\" fill=\"#000000\">samples = 5</text>\n",
       "<text text-anchor=\"middle\" x=\"328\" y=\"-200.8\" font-family=\"Times,serif\" font-size=\"14.00\" fill=\"#000000\">value = [4, 1]</text>\n",
       "</g>\n",
       "<!-- 1&#45;&gt;7 -->\n",
       "<g id=\"edge7\" class=\"edge\">\n",
       "<title>1&#45;&gt;7</title>\n",
       "<path fill=\"none\" stroke=\"#000000\" d=\"M280.2481,-296.9465C286.255,-288.1475 292.7955,-278.5672 299.0543,-269.3993\"/>\n",
       "<polygon fill=\"#000000\" stroke=\"#000000\" points=\"301.952,-271.3623 304.6997,-261.13 296.1707,-267.4155 301.952,-271.3623\"/>\n",
       "</g>\n",
       "<!-- 3 -->\n",
       "<g id=\"node4\" class=\"node\">\n",
       "<title>3</title>\n",
       "<polygon fill=\"#399de5\" stroke=\"#000000\" points=\"92,-149.5 0,-149.5 0,-96.5 92,-96.5 92,-149.5\"/>\n",
       "<text text-anchor=\"middle\" x=\"46\" y=\"-134.3\" font-family=\"Times,serif\" font-size=\"14.00\" fill=\"#000000\">entropy = 0.0</text>\n",
       "<text text-anchor=\"middle\" x=\"46\" y=\"-119.3\" font-family=\"Times,serif\" font-size=\"14.00\" fill=\"#000000\">samples = 3</text>\n",
       "<text text-anchor=\"middle\" x=\"46\" y=\"-104.3\" font-family=\"Times,serif\" font-size=\"14.00\" fill=\"#000000\">value = [0, 3]</text>\n",
       "</g>\n",
       "<!-- 2&#45;&gt;3 -->\n",
       "<g id=\"edge3\" class=\"edge\">\n",
       "<title>2&#45;&gt;3</title>\n",
       "<path fill=\"none\" stroke=\"#000000\" d=\"M140.8313,-192.9465C124.5536,-180.9403 106.3035,-167.4791 90.193,-155.5962\"/>\n",
       "<polygon fill=\"#000000\" stroke=\"#000000\" points=\"92.1103,-152.6614 81.985,-149.5422 87.9552,-158.2948 92.1103,-152.6614\"/>\n",
       "</g>\n",
       "<!-- 4 -->\n",
       "<g id=\"node5\" class=\"node\">\n",
       "<title>4</title>\n",
       "<polygon fill=\"transparent\" stroke=\"#000000\" points=\"263.5,-157 110.5,-157 110.5,-89 263.5,-89 263.5,-157\"/>\n",
       "<text text-anchor=\"middle\" x=\"187\" y=\"-141.8\" font-family=\"Times,serif\" font-size=\"14.00\" fill=\"#000000\">temperature_cool &lt;= 0.5</text>\n",
       "<text text-anchor=\"middle\" x=\"187\" y=\"-126.8\" font-family=\"Times,serif\" font-size=\"14.00\" fill=\"#000000\">entropy = 1.0</text>\n",
       "<text text-anchor=\"middle\" x=\"187\" y=\"-111.8\" font-family=\"Times,serif\" font-size=\"14.00\" fill=\"#000000\">samples = 2</text>\n",
       "<text text-anchor=\"middle\" x=\"187\" y=\"-96.8\" font-family=\"Times,serif\" font-size=\"14.00\" fill=\"#000000\">value = [1, 1]</text>\n",
       "</g>\n",
       "<!-- 2&#45;&gt;4 -->\n",
       "<g id=\"edge4\" class=\"edge\">\n",
       "<title>2&#45;&gt;4</title>\n",
       "<path fill=\"none\" stroke=\"#000000\" d=\"M187,-192.9465C187,-184.776 187,-175.9318 187,-167.3697\"/>\n",
       "<polygon fill=\"#000000\" stroke=\"#000000\" points=\"190.5001,-167.13 187,-157.13 183.5001,-167.13 190.5001,-167.13\"/>\n",
       "</g>\n",
       "<!-- 5 -->\n",
       "<g id=\"node6\" class=\"node\">\n",
       "<title>5</title>\n",
       "<polygon fill=\"#399de5\" stroke=\"#000000\" points=\"131,-53 39,-53 39,0 131,0 131,-53\"/>\n",
       "<text text-anchor=\"middle\" x=\"85\" y=\"-37.8\" font-family=\"Times,serif\" font-size=\"14.00\" fill=\"#000000\">entropy = 0.0</text>\n",
       "<text text-anchor=\"middle\" x=\"85\" y=\"-22.8\" font-family=\"Times,serif\" font-size=\"14.00\" fill=\"#000000\">samples = 1</text>\n",
       "<text text-anchor=\"middle\" x=\"85\" y=\"-7.8\" font-family=\"Times,serif\" font-size=\"14.00\" fill=\"#000000\">value = [0, 1]</text>\n",
       "</g>\n",
       "<!-- 4&#45;&gt;5 -->\n",
       "<g id=\"edge5\" class=\"edge\">\n",
       "<title>4&#45;&gt;5</title>\n",
       "<path fill=\"none\" stroke=\"#000000\" d=\"M151.0386,-88.9777C141.1662,-79.6376 130.468,-69.5163 120.6151,-60.1947\"/>\n",
       "<polygon fill=\"#000000\" stroke=\"#000000\" points=\"122.9426,-57.5785 113.273,-53.2485 118.1318,-62.6635 122.9426,-57.5785\"/>\n",
       "</g>\n",
       "<!-- 6 -->\n",
       "<g id=\"node7\" class=\"node\">\n",
       "<title>6</title>\n",
       "<polygon fill=\"#e58139\" stroke=\"#000000\" points=\"241,-53 149,-53 149,0 241,0 241,-53\"/>\n",
       "<text text-anchor=\"middle\" x=\"195\" y=\"-37.8\" font-family=\"Times,serif\" font-size=\"14.00\" fill=\"#000000\">entropy = 0.0</text>\n",
       "<text text-anchor=\"middle\" x=\"195\" y=\"-22.8\" font-family=\"Times,serif\" font-size=\"14.00\" fill=\"#000000\">samples = 1</text>\n",
       "<text text-anchor=\"middle\" x=\"195\" y=\"-7.8\" font-family=\"Times,serif\" font-size=\"14.00\" fill=\"#000000\">value = [1, 0]</text>\n",
       "</g>\n",
       "<!-- 4&#45;&gt;6 -->\n",
       "<g id=\"edge6\" class=\"edge\">\n",
       "<title>4&#45;&gt;6</title>\n",
       "<path fill=\"none\" stroke=\"#000000\" d=\"M189.8205,-88.9777C190.5113,-80.6449 191.2537,-71.6903 191.9545,-63.2364\"/>\n",
       "<polygon fill=\"#000000\" stroke=\"#000000\" points=\"195.4443,-63.5035 192.7825,-53.2485 188.4682,-62.9251 195.4443,-63.5035\"/>\n",
       "</g>\n",
       "<!-- 8 -->\n",
       "<g id=\"node9\" class=\"node\">\n",
       "<title>8</title>\n",
       "<polygon fill=\"transparent\" stroke=\"#000000\" points=\"374,-157 282,-157 282,-89 374,-89 374,-157\"/>\n",
       "<text text-anchor=\"middle\" x=\"328\" y=\"-141.8\" font-family=\"Times,serif\" font-size=\"14.00\" fill=\"#000000\">wind &lt;= 0.5</text>\n",
       "<text text-anchor=\"middle\" x=\"328\" y=\"-126.8\" font-family=\"Times,serif\" font-size=\"14.00\" fill=\"#000000\">entropy = 1.0</text>\n",
       "<text text-anchor=\"middle\" x=\"328\" y=\"-111.8\" font-family=\"Times,serif\" font-size=\"14.00\" fill=\"#000000\">samples = 2</text>\n",
       "<text text-anchor=\"middle\" x=\"328\" y=\"-96.8\" font-family=\"Times,serif\" font-size=\"14.00\" fill=\"#000000\">value = [1, 1]</text>\n",
       "</g>\n",
       "<!-- 7&#45;&gt;8 -->\n",
       "<g id=\"edge8\" class=\"edge\">\n",
       "<title>7&#45;&gt;8</title>\n",
       "<path fill=\"none\" stroke=\"#000000\" d=\"M328,-192.9465C328,-184.776 328,-175.9318 328,-167.3697\"/>\n",
       "<polygon fill=\"#000000\" stroke=\"#000000\" points=\"331.5001,-167.13 328,-157.13 324.5001,-167.13 331.5001,-167.13\"/>\n",
       "</g>\n",
       "<!-- 11 -->\n",
       "<g id=\"node12\" class=\"node\">\n",
       "<title>11</title>\n",
       "<polygon fill=\"#e58139\" stroke=\"#000000\" points=\"484,-149.5 392,-149.5 392,-96.5 484,-96.5 484,-149.5\"/>\n",
       "<text text-anchor=\"middle\" x=\"438\" y=\"-134.3\" font-family=\"Times,serif\" font-size=\"14.00\" fill=\"#000000\">entropy = 0.0</text>\n",
       "<text text-anchor=\"middle\" x=\"438\" y=\"-119.3\" font-family=\"Times,serif\" font-size=\"14.00\" fill=\"#000000\">samples = 3</text>\n",
       "<text text-anchor=\"middle\" x=\"438\" y=\"-104.3\" font-family=\"Times,serif\" font-size=\"14.00\" fill=\"#000000\">value = [3, 0]</text>\n",
       "</g>\n",
       "<!-- 7&#45;&gt;11 -->\n",
       "<g id=\"edge11\" class=\"edge\">\n",
       "<title>7&#45;&gt;11</title>\n",
       "<path fill=\"none\" stroke=\"#000000\" d=\"M364.0181,-192.9465C376.3675,-181.2707 390.1722,-168.219 402.4817,-156.5809\"/>\n",
       "<polygon fill=\"#000000\" stroke=\"#000000\" points=\"405.0646,-158.9556 409.9266,-149.5422 400.2555,-153.869 405.0646,-158.9556\"/>\n",
       "</g>\n",
       "<!-- 9 -->\n",
       "<g id=\"node10\" class=\"node\">\n",
       "<title>9</title>\n",
       "<polygon fill=\"#399de5\" stroke=\"#000000\" points=\"366,-53 274,-53 274,0 366,0 366,-53\"/>\n",
       "<text text-anchor=\"middle\" x=\"320\" y=\"-37.8\" font-family=\"Times,serif\" font-size=\"14.00\" fill=\"#000000\">entropy = 0.0</text>\n",
       "<text text-anchor=\"middle\" x=\"320\" y=\"-22.8\" font-family=\"Times,serif\" font-size=\"14.00\" fill=\"#000000\">samples = 1</text>\n",
       "<text text-anchor=\"middle\" x=\"320\" y=\"-7.8\" font-family=\"Times,serif\" font-size=\"14.00\" fill=\"#000000\">value = [0, 1]</text>\n",
       "</g>\n",
       "<!-- 8&#45;&gt;9 -->\n",
       "<g id=\"edge9\" class=\"edge\">\n",
       "<title>8&#45;&gt;9</title>\n",
       "<path fill=\"none\" stroke=\"#000000\" d=\"M325.1795,-88.9777C324.4887,-80.6449 323.7463,-71.6903 323.0455,-63.2364\"/>\n",
       "<polygon fill=\"#000000\" stroke=\"#000000\" points=\"326.5318,-62.9251 322.2175,-53.2485 319.5557,-63.5035 326.5318,-62.9251\"/>\n",
       "</g>\n",
       "<!-- 10 -->\n",
       "<g id=\"node11\" class=\"node\">\n",
       "<title>10</title>\n",
       "<polygon fill=\"#e58139\" stroke=\"#000000\" points=\"476,-53 384,-53 384,0 476,0 476,-53\"/>\n",
       "<text text-anchor=\"middle\" x=\"430\" y=\"-37.8\" font-family=\"Times,serif\" font-size=\"14.00\" fill=\"#000000\">entropy = 0.0</text>\n",
       "<text text-anchor=\"middle\" x=\"430\" y=\"-22.8\" font-family=\"Times,serif\" font-size=\"14.00\" fill=\"#000000\">samples = 1</text>\n",
       "<text text-anchor=\"middle\" x=\"430\" y=\"-7.8\" font-family=\"Times,serif\" font-size=\"14.00\" fill=\"#000000\">value = [1, 0]</text>\n",
       "</g>\n",
       "<!-- 8&#45;&gt;10 -->\n",
       "<g id=\"edge10\" class=\"edge\">\n",
       "<title>8&#45;&gt;10</title>\n",
       "<path fill=\"none\" stroke=\"#000000\" d=\"M363.9614,-88.9777C373.8338,-79.6376 384.532,-69.5163 394.3849,-60.1947\"/>\n",
       "<polygon fill=\"#000000\" stroke=\"#000000\" points=\"396.8682,-62.6635 401.727,-53.2485 392.0574,-57.5785 396.8682,-62.6635\"/>\n",
       "</g>\n",
       "</g>\n",
       "</svg>\n"
      ],
      "text/plain": [
       "<graphviz.files.Source at 0x7f0755d8b828>"
      ]
     },
     "execution_count": 24,
     "metadata": {},
     "output_type": "execute_result"
    }
   ],
   "source": [
    "graphviz.Source(tree.export_graphviz(dt, out_file=None, \n",
    "                                     feature_names=X_dum.columns,\n",
    "                                     filled=True))"
   ]
  },
  {
   "cell_type": "markdown",
   "metadata": {},
   "source": [
    "### Decision Tree Vocabulary\n",
    "Each subset of data is called a ***node***. The full set of data is called the ***root node***. Each decision is a ***split*** based on some ***split criterion*** that divides a ***parent node*** into ***child nodes***. A node with data from only one class is called a ***pure node***, and a node with no children is called a ***leaf node***."
   ]
  },
  {
   "cell_type": "markdown",
   "metadata": {},
   "source": [
    "## Other Ways to Calculate Impurity\n",
    "\n",
    "### Gini Impurity\n",
    "\n",
    "This is the default for sci-kit learn trees. Again it involves knowing the class frequencies $p_i$ within a set of points.\n",
    "\n",
    "The Gini impurity is the _probability of misclassification_ under the following procedure:\n",
    "* Take a random element from the set.\n",
    "* Label it randomly according to the distribution of labels in the set.\n",
    "\n",
    "The probability of picking a point of class $i$ is $p_i$, and the probability of then giving it the wrong label is $(1-p_i)$, so the total misclassification probability for a set containing $m$ classes is\n",
    "\n",
    "$$\\text{Gini}(S) = \\sum_{i=1}^m p_i(1-p_i) = 1 - \\sum_{i=1}^m p_i^2$$\n",
    "\n",
    "### Information Gain with Gini Impurity\n",
    "\n",
    "$$\\text{IG}(S, C) = \\text{Gini}(S) - \\sum_{C_i \\in C} \\frac{|C_i|}{|S|} \\text{Gini}(C_i)$$"
   ]
  },
  {
   "cell_type": "markdown",
   "metadata": {},
   "source": [
    "## Regression Trees\n",
    "\n",
    "### What if your target $y$ is numerical instead of categorical?\n",
    "\n",
    "For a classification tree, the predicted label is simply the majority class (mode) of the data in the given node. How does prediction work in a regression tree?\n",
    "\n",
    "Information gain, entropy, and Gini impurity are only defined for sets of discrete class labels (and we defined them because we wanted a way to measure how \"mixed up\" a set of class labels is). If we have a set of *numbers* instead, what is an analogous measure for how \"mixed up\" the values are?"
   ]
  },
  {
   "cell_type": "markdown",
   "metadata": {},
   "source": [
    "Variance! For a node $S$ with $N$ data points:\n",
    "$$ \\text{Var}(S) = \\frac{1}{N}\\sum_{i=1}^N (y_i - \\bar{y})^2$$\n",
    "$$ \\bar{y} = \\frac{1}{N}\\sum_{i=1}^N y_i $$\n",
    "\n",
    "$$\\text{reduction_of_variance}(S, C) = \\text{Var}(S) - \\sum_{C_i \\in C} \\frac{|C_i|}{|S|} \\text{Var}(C_i)$$\n"
   ]
  },
  {
   "cell_type": "markdown",
   "metadata": {},
   "source": [
    "#### example\n",
    "\n",
    " $x_1$ |   $x_2$ |  $y$\n",
    "-------|---------|--------\n",
    " 1     |    1    |   1\n",
    " 0     |    0    |   2\n",
    " 1     |    0    |   3\n",
    " 0     |    1    |   4\n",
    "\n",
    " Prior to the split we guess the mean, 2.5, for everything, giving total squared error:\n",
    " \n",
    " $$ E = (1-2.5)^2 + (2-2.5)^2 + (3-2.5)^2 + (4-2.5)^2  = 5$$\n",
    " After we split on $x_1$ we guess 2 for rows 1 & 3 and 3 for rows 2 & 4:\n",
    " \n",
    " $$ I = 5 - [(1-2)^2 + (3-2)^2 + (2-3)^2 + (4-3)^2] = 5 - 4  = 1 $$"
   ]
  },
  {
   "cell_type": "markdown",
   "metadata": {},
   "source": [
    "## Predicting\n",
    "\n",
    "The final predictions of a decision tree and a regression tree are implemented differently:\n",
    "\n",
    "### Classification\n",
    "\n",
    "* Majority class in leaf node\n",
    "* Better to output the class frequency for every class (that is, label probability if you were drawing data only from that node).\n",
    "\n",
    "### Regression\n",
    "\n",
    "* Mean of values in leaf node\n",
    "* Or fit a line to all the values in a leaf node, so you have a linear regression model for each leaf\n",
    "    * Also called *model trees*"
   ]
  },
  {
   "cell_type": "markdown",
   "metadata": {},
   "source": [
    "## Building a decision tree with recursion\n",
    "\n",
    "Let's review the process of building a decision tree:\n",
    "- find the feature & value that best splits your data into two subsets (nodes), where \"best\" is measured by information gain\n",
    "- then, for each node, find the feature & value that best splits that node into two more nodes\n",
    " - if a node is pure, then it doesn't need to be split\n",
    "- then, for each of those nodes, find the feature & value that best splits that node into two more ...\n",
    "- stop when all your nodes are pure (we'll consider other stopping criteria later)\n",
    "\n",
    "How would we write code to do this? It seems like the main work will be done by one function, `find_best_feature_and_value_to_split_on(X, y)`. First we'll call it on the entire data set, then we'll call it on each child node, then each child node's children, etc., making sure not to call it on a pure node. \n",
    "\n",
    "We can write this as a ***recursive*** function: a function that calls itself. A recursive function must have two cases, and which case is executed depends on the input:\n",
    "- a base case, where the function does not call itself. this is the stopping criterion for execution. an ill-defined base case will result in an infinite loop\n",
    "- a recursive case, where the function somehow splits or reduces its input and calls itself on the split / reduced input. The recursive case will be called again and again until the base case is reached."
   ]
  },
  {
   "cell_type": "markdown",
   "metadata": {},
   "source": [
    "### DT Pseudocode\n",
    "\n",
    "Recursive partitioning algorithm\n",
    "\n",
    "```\n",
    "function build_tree(data):\n",
    "    # base case, stop building tree\n",
    "    If every item in the dataset is in the same class (or if every split has zero information gain):\n",
    "        return a leaf node with the class label (or the majority class label)\n",
    "        \n",
    "    # recursive case, keep splitting stuff\n",
    "    Else:\n",
    "        find the best feature and value to split the data\n",
    "        split the dataset into two subsets, c1 and c2\n",
    "        create a node\n",
    "        set c1 and c2 as the child nodes\n",
    "        node.left_child = build_tree(c1)\n",
    "        node.right_child = build_tree(c2)\n",
    "        return node\n",
    "```\n",
    "Then `build_tree(full_data_set)` will return the root node of the tree (which, through its children and grandchildren, contains the entire tree)."
   ]
  },
  {
   "cell_type": "markdown",
   "metadata": {
    "hideCode": true
   },
   "source": [
    "## Recursion practice \n",
    "\n",
    "Recursion uses the idea of \"divide and conquer\" to solve problems. It divides a complex problem you are working on into smaller sub-problems that are easily solved, rather than trying to solve the complex problem directly.\n",
    "\n",
    "### Three Laws of Recursion\n",
    "\n",
    "1. A recursive algorithm must have a base case.\n",
    "2. A recursive algorithm must change its state and move toward the base case.\n",
    "3. A recursive algorithm must call itself, recursively.\n",
    "    \n",
    "### Example: Factorial\n",
    "\n",
    "$$ f(x) = \\prod_{i=1}^xi $$\n",
    "\n",
    "$$f(x) =\n",
    "\\left\\{\n",
    "\t\\begin{array}{ll}\n",
    "\t\t1  & \\mbox{if } x \\leq 1 \\\\\n",
    "\t\txf(x-1) & \\mbox otherwise\n",
    "\t\\end{array}\n",
    "\\right.\n",
    "$$"
   ]
  },
  {
   "cell_type": "code",
   "execution_count": 25,
   "metadata": {},
   "outputs": [],
   "source": [
    "def factorial(x):\n",
    "    \"\"\"Recursively calculate x!\"\"\"\n",
    "    # base case is when we get to x=0, which is 0! = 1\n",
    "    if x == 0:\n",
    "        return 1\n",
    "    # otherwise, recursive case, notice how we are reducing x\n",
    "    else:\n",
    "        return x * factorial(x-1)"
   ]
  },
  {
   "cell_type": "code",
   "execution_count": 26,
   "metadata": {},
   "outputs": [
    {
     "data": {
      "text/plain": [
       "15511210043330985984000000"
      ]
     },
     "execution_count": 26,
     "metadata": {},
     "output_type": "execute_result"
    }
   ],
   "source": [
    "factorial(25)"
   ]
  },
  {
   "cell_type": "code",
   "execution_count": 27,
   "metadata": {
    "scrolled": true
   },
   "outputs": [
    {
     "data": {
      "text/plain": [
       "788657867364790503552363213932185062295135977687173263294742533244359449963403342920304284011984623904177212138919638830257642790242637105061926624952829931113462857270763317237396988943922445621451664240254033291864131227428294853277524242407573903240321257405579568660226031904170324062351700858796178922222789623703897374720000000000000000000000000000000000000000000000000"
      ]
     },
     "execution_count": 27,
     "metadata": {},
     "output_type": "execute_result"
    }
   ],
   "source": [
    "factorial(200)"
   ]
  },
  {
   "cell_type": "code",
   "execution_count": 28,
   "metadata": {},
   "outputs": [],
   "source": [
    "def power(base, exp):\n",
    "    \"\"\"Recursively caclulate base ** exp\"\"\"\n",
    "    # base case is when exp = 0, base ** 0 = 1\n",
    "    if exp == 0:\n",
    "        return 1\n",
    "    #  otherwise, recursive case, reduce exp\n",
    "    return base * power(base, exp - 1)"
   ]
  },
  {
   "cell_type": "code",
   "execution_count": 29,
   "metadata": {},
   "outputs": [
    {
     "data": {
      "text/plain": [
       "64"
      ]
     },
     "execution_count": 29,
     "metadata": {},
     "output_type": "execute_result"
    }
   ],
   "source": [
    "power(2, 6)"
   ]
  },
  {
   "cell_type": "code",
   "execution_count": 30,
   "metadata": {},
   "outputs": [
    {
     "name": "stdout",
     "output_type": "stream",
     "text": [
      "1.93 µs ± 296 ns per loop (mean ± std. dev. of 7 runs, 20 loops each)\n"
     ]
    }
   ],
   "source": [
    "%%timeit -n 20\n",
    "power(25, 5)"
   ]
  },
  {
   "cell_type": "code",
   "execution_count": 31,
   "metadata": {},
   "outputs": [
    {
     "name": "stdout",
     "output_type": "stream",
     "text": [
      "29.8 ns ± 14.2 ns per loop (mean ± std. dev. of 7 runs, 20 loops each)\n"
     ]
    }
   ],
   "source": [
    "%%timeit -n 20\n",
    "25 ** 5"
   ]
  },
  {
   "cell_type": "markdown",
   "metadata": {},
   "source": [
    "Recursion not always the answer, but useful tool to have."
   ]
  },
  {
   "cell_type": "markdown",
   "metadata": {},
   "source": [
    "### You do, fill in the following function"
   ]
  },
  {
   "cell_type": "code",
   "execution_count": 32,
   "metadata": {},
   "outputs": [],
   "source": [
    "def len_str(s):\n",
    "    \"\"\"Recursively determine the length of a string\"\"\"\n",
    "    # base case, when should you stop?\n",
    "\n",
    "    # recursive case, how can you reduce your problem?\n"
   ]
  },
  {
   "cell_type": "code",
   "execution_count": 33,
   "metadata": {},
   "outputs": [],
   "source": [
    "#test your function\n",
    "len_str('pineapple')"
   ]
  },
  {
   "cell_type": "markdown",
   "metadata": {},
   "source": [
    "## Performance of Decision Trees\n",
    "\n",
    "Class discussion: what are some problems you forsee with this approach?\n",
    "\n",
    "http://www.r2d3.us/visual-intro-to-machine-learning-part-1/\n",
    "\n",
    "Let's go back to the dogs and horses."
   ]
  },
  {
   "cell_type": "code",
   "execution_count": 34,
   "metadata": {},
   "outputs": [],
   "source": [
    "def make_horse_dog_data(n_horses, n_dogs, messiness=1):\n",
    "    \"\"\"Return sample of horse dog data\n",
    "    \n",
    "    Parameters\n",
    "    ----------\n",
    "    n_horses: int\n",
    "        The number of horses\n",
    "    n_dogs: numpy array\n",
    "        The number of dogs\n",
    "    messiness: float\n",
    "        How much to multiple by the standard deviations of the logs (default 1)\n",
    "        \n",
    "    Returns\n",
    "    -------\n",
    "    horse_weight: numpy array\n",
    "        The weights of the horses\n",
    "    horse_height: numpy array\n",
    "        The height of the horses\n",
    "    dog_weight: numpy array\n",
    "        The weight of the dogs\n",
    "    dog_height: numpy array\n",
    "        The height of the dogs\n",
    "    \"\"\"\n",
    "\n",
    "    horse_weight = scs.norm(3,0.15*messiness).rvs(n_horses)\n",
    "    horse_height = horse_weight * 0.4 + scs.norm(-0.5,0.05*messiness).rvs(n_horses)\n",
    "    horse_weight = 10**horse_weight\n",
    "    horse_height = 10**horse_height\n",
    "    dog_weight = np.zeros(n_dogs)\n",
    "    dog_height = np.zeros(n_dogs)\n",
    "\n",
    "    dog_weight[:n_dogs//2] = scs.norm(1.7,0.20*messiness).rvs(n_dogs//2)\n",
    "    dog_weight[n_dogs//2:] = scs.norm(2.5,0.25*messiness).rvs(n_dogs//2)\n",
    "    dog_height[:n_dogs//2] = dog_weight[:n_dogs//2]*0.50 + scs.norm(-0.5,0.2*messiness).rvs(n_dogs//2)\n",
    "    dog_height[n_dogs//2:] = dog_weight[n_dogs//2:]*0.30 + scs.norm(-0.5,0.1*messiness).rvs(n_dogs//2)\n",
    "    dog_weight = 10**dog_weight\n",
    "    dog_height = 10**dog_height\n",
    "    return horse_weight, horse_height, dog_weight, dog_height\n",
    "\n",
    "\n",
    "def prep_data_for_model(horse_weight, horse_height, dog_weight, dog_height):\n",
    "    \"\"\"Return horse dog data in format for kNN classification.\n",
    "    \n",
    "    Parameters\n",
    "    ----------\n",
    "    horse_weight: numpy array\n",
    "        The weights of the horses\n",
    "    horse_height: numpy array\n",
    "        The height of the horses\n",
    "    dog_weight: numpy array\n",
    "        The weight of the dogs\n",
    "    dog_height: numpy array\n",
    "        The height of the dogs\n",
    "        \n",
    "    Returns\n",
    "    -------\n",
    "    X: numpy array, shape = [n_samples, 2]\n",
    "        The features (weight, height) of the data\n",
    "    y: numpy array, shape = [n_samples,]\n",
    "        The labels for our classification (horse=0, dog=1)\n",
    "    \"\"\"\n",
    "    X = np.column_stack((np.concatenate((horse_weight, dog_weight)),\n",
    "                         np.concatenate((horse_height, dog_height))))\n",
    "    y = np.concatenate((np.zeros(horse_weight.shape),\n",
    "                        np.ones(dog_weight.shape)))\n",
    "    return X, y\n",
    "\n",
    "# Function to make getting new samples for model input easier, laziness always wins\n",
    "def get_new_ugly_sample():\n",
    "    \"\"\"Return new sample ready for modeling.\n",
    "    \n",
    "    Combines make_ugly_data and prep_data_for_model, see the docs for those functions\n",
    "    \"\"\"\n",
    "    horse_weight, horse_height, dog_weight, dog_height = make_horse_dog_data(100, 60, messiness=1.5)\n",
    "    X, y = prep_data_for_model(horse_weight, horse_height, dog_weight, dog_height)\n",
    "    return X, y\n",
    "\n",
    "\n",
    "def plot_classification_tree(ax, X, y, model=None):\n",
    "    \"\"\"Plot the horse dog data\"\"\"\n",
    "    ax.plot(X[y==0, 0], X[y==0, 1], 'r.', label='Horse')\n",
    "    ax.plot(X[y==1, 0], X[y==1, 1], 'b.', label='Dog')\n",
    "    ax.set_title(\"Classifying Horses and Dogs with Decision Trees\")\n",
    "    ax.set_xlabel(\"Weight (lbs)\")\n",
    "    ax.set_ylabel(\"Height (ft)\")\n",
    "    ax.legend(loc='upper left')\n",
    "    \n",
    "    if model is None:\n",
    "        model = tree.DecisionTreeClassifier()\n",
    "    model.fit(X, y)\n",
    "    # preserve upper limits\n",
    "    xlim = (0, ax.get_xlim()[1])\n",
    "    ylim = (0, ax.get_ylim()[1])\n",
    "    plot_classification_thresholds(ax, X, y, 0, model.tree_, xlim, ylim)\n",
    "    ax.set_xlim(xlim)\n",
    "    ax.set_ylim(ylim)\n",
    "\n",
    "def plot_classification_thresholds(ax, X, y, inode, tree, xlim, ylim):\n",
    "    threshold = tree.threshold[inode]\n",
    "    if tree.feature[inode] == -2:\n",
    "        color = ['r', 'b'][np.argmax(tree.value[inode])]\n",
    "        ax.add_patch(Rectangle((xlim[0], ylim[0]), xlim[1]-xlim[0], ylim[1]-ylim[0], fc=color, alpha=0.3))\n",
    "        return\n",
    "    if tree.feature[inode] == 0:\n",
    "        ax.plot((threshold, threshold), ylim, 'k', lw=0.5)\n",
    "        plot_classification_thresholds(ax, X, y, tree.children_left[inode],  tree, (xlim[0], threshold), ylim)\n",
    "        plot_classification_thresholds(ax, X, y, tree.children_right[inode], tree, (threshold, xlim[1]), ylim)\n",
    "    else:\n",
    "        ax.plot(xlim, (threshold, threshold), 'k', lw=0.5)\n",
    "        plot_classification_thresholds(ax, X, y, tree.children_left[inode],  tree, xlim, (ylim[0], threshold))\n",
    "        plot_classification_thresholds(ax, X, y, tree.children_right[inode], tree, xlim, (threshold, ylim[1]))        \n"
   ]
  },
  {
   "cell_type": "code",
   "execution_count": 35,
   "metadata": {},
   "outputs": [],
   "source": [
    "X, y = get_new_ugly_sample()"
   ]
  },
  {
   "cell_type": "code",
   "execution_count": 36,
   "metadata": {},
   "outputs": [
    {
     "data": {
      "image/png": "[encoded data removed]",
      "text/plain": [
       "<matplotlib.figure.Figure at 0x7f0755d8b6d8>"
      ]
     },
     "metadata": {},
     "output_type": "display_data"
    }
   ],
   "source": [
    "model = tree.DecisionTreeClassifier()\n",
    "fig, ax = plt.subplots(figsize=(12,8))\n",
    "plot_classification_tree(ax, X, y, model)"
   ]
  },
  {
   "cell_type": "markdown",
   "metadata": {},
   "source": [
    "Clearly there is some risk of overfitting."
   ]
  },
  {
   "cell_type": "markdown",
   "metadata": {},
   "source": [
    "## Combatting overfitting: Pruning\n",
    "\n",
    "We call the idea of modifying a decision tree to improve its test-set performance ***pruning***.\n",
    "\n",
    "There are two approaches: ***pre-pruning*** and ***post-pruning***.\n",
    "\n",
    "### Pre-pruning\n",
    "- minimum leaf size: don't split a node if it has min_leaf_size samples or fewer\n",
    "- maximum tree depth: limit the maximum number of successive splits (for example, if the max_depth is 2, the root node can have grandchildren but not great-grandchildren).\n",
    "- maximum purity: if the purity of a node is above a certain threshold, don't bother splitting it\n",
    "- gain threshold: if the information gain (or reduction in variance, for a regression three) is below a certain threshold, don't bother with the split"
   ]
  },
  {
   "cell_type": "code",
   "execution_count": 37,
   "metadata": {},
   "outputs": [
    {
     "name": "stdout",
     "output_type": "stream",
     "text": [
      "Common Things to Pre-Prune\n",
      "\n",
      "--------------------------\n",
      "\n",
      "* Leaf size: stop splitting when num of samples is small enough\n",
      "\n",
      "* Tree depth: stop splitting at a certain depth\n",
      "\n",
      "* Purity: stop splitting if purity of leaf nodes hits certain threshold\n",
      "\n",
      "* Gain Threshold: stop splitting when info gain fails to meet threshold\n",
      "\n"
     ]
    }
   ],
   "source": [
    "with open('answers/preprune.txt') as f:\n",
    "    for line in f:\n",
    "        print(line)"
   ]
  },
  {
   "cell_type": "markdown",
   "metadata": {},
   "source": [
    "### Post-pruning\n",
    "\n",
    "Build a complete, overfit tree full of pure leaf nodes that only have one or two samples each. Then merge leaf nodes if doing so decreases test-set error\n",
    "\n",
    "#### Pseudocode\n",
    "```\n",
    "function Prune:\n",
    "    if either left or right is not a leaf:\n",
    "        call Prune on those that aren't\n",
    "    if both left and right are (now) leaf nodes:\n",
    "        calculate error associated with merging two leaf nodes\n",
    "        calculate error associated without merging two leaf nodes\n",
    "        if merging results in lower error:\n",
    "            merge the leaf nodes\n",
    "```"
   ]
  },
  {
   "cell_type": "markdown",
   "metadata": {},
   "source": [
    "## Picking the Best Tree\n",
    "\n",
    "* Cross validate!\n",
    "    * Train trees with different hyperparameters, see which performs best on validation set\n",
    "    * No different than any other model"
   ]
  },
  {
   "cell_type": "markdown",
   "metadata": {},
   "source": [
    "## Decision Tree Summary\n",
    "\n",
    "What are the pros and cons?\n",
    "\n",
    "Pros\n",
    " * No feature scaling needed\n",
    " * Model nonlinear relationships\n",
    " * Can do both classification and regression\n",
    " * Robust\n",
    " * Highly interpretable\n",
    "\n",
    "Cons\n",
    " * Can be expensive to train\n",
    " * Need to be tuned so they don't totally overfit\n"
   ]
  },
  {
   "cell_type": "markdown",
   "metadata": {},
   "source": [
    "## The Decision Tree Algorithms\n",
    "\n",
    "There are some famous variants of the decision tree algorithm:\n",
    "\n",
    "### ID3\n",
    "\n",
    "Short for Iterative Dichotomiser 3, the original Decision Tree algorithm developed by Ross Quinlan (who's responsible for a lot of proprietary decision tree algorithms) in the 1980's.\n",
    "\n",
    "* designed for only categorial features\n",
    "* splits categorical features completely\n",
    "* uses entropy and information gain to pick the best split\n",
    "\n",
    "### CART\n",
    "\n",
    "Short for Classification and Regression Tree was invented about the same time as ID3 by Breiman, Friedman, Olshen and Stone. The CART algorithm has the following properties:\n",
    "\n",
    "* handles both categorial and continuous data\n",
    "* always uses binary splits\n",
    "* uses gini impurity to pick the best split\n",
    "\n",
    "Algorithms will be called CART even if they don't follow all of the specifications of the original algorithm.\n",
    "\n",
    "### C4.5\n",
    "\n",
    "This is Quinlan's first improvement on the ID3 algorithm. The main improvements are:\n",
    "\n",
    "* handles continuous data\n",
    "* implements pruning to reduce overfitting\n",
    "\n",
    "### C5.0\n",
    "\n",
    "This is supposedly better, but it's proprietary so we don't have access to the specifics of the improvements."
   ]
  }
 ],
 "metadata": {
  "anaconda-cloud": {},
  "kernelspec": {
   "display_name": "Python 3",
   "language": "python",
   "name": "python3"
  },
  "language_info": {
   "codemirror_mode": {
    "name": "ipython",
    "version": 3
   },
   "file_extension": ".py",
   "mimetype": "text/x-python",
   "name": "python",
   "nbconvert_exporter": "python",
   "pygments_lexer": "ipython3",
   "version": "3.6.4"
  }
 },
 "nbformat": 4,
 "nbformat_minor": 1
}
