{
 "cells": [
  {
   "cell_type": "code",
   "execution_count": 1,
   "metadata": {},
   "outputs": [],
   "source": [
    "import numpy as np\n",
    "import pandas as pd\n",
    "import scipy.stats as scs\n",
    "import matplotlib.pyplot as plt\n",
    "from matplotlib.patches import Rectangle\n",
    "from sklearn import tree\n",
    "\n",
    "# you probably need to do `pip install graphviz`\n",
    "import graphviz\n",
    "\n",
    "%matplotlib inline\n",
    "# Make it pretty\n",
    "plt.style.use('ggplot')\n",
    "\n",
    "# Seed random functions for reproducibility\n",
    "#np.random.seed(12345)"
   ]
  },
  {
   "cell_type": "markdown",
   "metadata": {},
   "source": [
    "# Decision Trees"
   ]
  },
  {
   "cell_type": "markdown",
   "metadata": {},
   "source": [
    "#### Objectives: Answer the following\n",
    " * When splitting a data set, how do you evaluate the quality of a split?\n",
    "   * entropy, Gini impurity, and information gain\n",
    "   * classification vs regression\n",
    " * How do you build a decision tree?\n",
    "   * recursion\n",
    " * How can you tune a decision tree to prevent overfitting?\n",
    "   * pruning"
   ]
  },
  {
   "cell_type": "markdown",
   "metadata": {},
   "source": [
    "# \"Play Tennis\" data set"
   ]
  },
  {
   "cell_type": "code",
   "execution_count": 2,
   "metadata": {},
   "outputs": [],
   "source": [
    "# Read in our data\n",
    "tennis_df = pd.read_table('data/tennis.txt', delim_whitespace=True)"
   ]
  },
  {
   "cell_type": "code",
   "execution_count": 3,
   "metadata": {},
   "outputs": [],
   "source": [
    "# Clean up a few things, based on my preferences and making calculating probabilities easier\n",
    "tennis_df.rename(columns={'playtennis': 'played'}, inplace=True)\n",
    "tennis_df['played'] = tennis_df['played'].apply(lambda x: 1 if x == 'yes' else 0)"
   ]
  },
  {
   "cell_type": "code",
   "execution_count": 4,
   "metadata": {},
   "outputs": [
    {
     "data": {
      "text/html": [
       "<div>\n",
       "<style scoped>\n",
       "    .dataframe tbody tr th:only-of-type {\n",
       "        vertical-align: middle;\n",
       "    }\n",
       "\n",
       "    .dataframe tbody tr th {\n",
       "        vertical-align: top;\n",
       "    }\n",
       "\n",
       "    .dataframe thead th {\n",
       "        text-align: right;\n",
       "    }\n",
       "</style>\n",
       "<table border=\"1\" class=\"dataframe\">\n",
       "  <thead>\n",
       "    <tr style=\"text-align: right;\">\n",
       "      <th></th>\n",
       "      <th>outlook</th>\n",
       "      <th>temperature</th>\n",
       "      <th>humidity</th>\n",
       "      <th>wind</th>\n",
       "      <th>played</th>\n",
       "    </tr>\n",
       "  </thead>\n",
       "  <tbody>\n",
       "    <tr>\n",
       "      <th>0</th>\n",
       "      <td>sunny</td>\n",
       "      <td>hot</td>\n",
       "      <td>high</td>\n",
       "      <td>False</td>\n",
       "      <td>0</td>\n",
       "    </tr>\n",
       "    <tr>\n",
       "      <th>1</th>\n",
       "      <td>sunny</td>\n",
       "      <td>hot</td>\n",
       "      <td>high</td>\n",
       "      <td>True</td>\n",
       "      <td>0</td>\n",
       "    </tr>\n",
       "    <tr>\n",
       "      <th>5</th>\n",
       "      <td>rainy</td>\n",
       "      <td>cool</td>\n",
       "      <td>normal</td>\n",
       "      <td>True</td>\n",
       "      <td>0</td>\n",
       "    </tr>\n",
       "    <tr>\n",
       "      <th>7</th>\n",
       "      <td>sunny</td>\n",
       "      <td>mild</td>\n",
       "      <td>high</td>\n",
       "      <td>False</td>\n",
       "      <td>0</td>\n",
       "    </tr>\n",
       "    <tr>\n",
       "      <th>13</th>\n",
       "      <td>rainy</td>\n",
       "      <td>mild</td>\n",
       "      <td>high</td>\n",
       "      <td>True</td>\n",
       "      <td>0</td>\n",
       "    </tr>\n",
       "    <tr>\n",
       "      <th>2</th>\n",
       "      <td>overcast</td>\n",
       "      <td>hot</td>\n",
       "      <td>high</td>\n",
       "      <td>False</td>\n",
       "      <td>1</td>\n",
       "    </tr>\n",
       "    <tr>\n",
       "      <th>3</th>\n",
       "      <td>rainy</td>\n",
       "      <td>mild</td>\n",
       "      <td>high</td>\n",
       "      <td>False</td>\n",
       "      <td>1</td>\n",
       "    </tr>\n",
       "    <tr>\n",
       "      <th>4</th>\n",
       "      <td>rainy</td>\n",
       "      <td>cool</td>\n",
       "      <td>normal</td>\n",
       "      <td>False</td>\n",
       "      <td>1</td>\n",
       "    </tr>\n",
       "    <tr>\n",
       "      <th>6</th>\n",
       "      <td>overcast</td>\n",
       "      <td>cool</td>\n",
       "      <td>normal</td>\n",
       "      <td>True</td>\n",
       "      <td>1</td>\n",
       "    </tr>\n",
       "    <tr>\n",
       "      <th>8</th>\n",
       "      <td>sunny</td>\n",
       "      <td>cool</td>\n",
       "      <td>normal</td>\n",
       "      <td>False</td>\n",
       "      <td>1</td>\n",
       "    </tr>\n",
       "    <tr>\n",
       "      <th>9</th>\n",
       "      <td>rainy</td>\n",
       "      <td>mild</td>\n",
       "      <td>normal</td>\n",
       "      <td>False</td>\n",
       "      <td>1</td>\n",
       "    </tr>\n",
       "    <tr>\n",
       "      <th>10</th>\n",
       "      <td>sunny</td>\n",
       "      <td>mild</td>\n",
       "      <td>normal</td>\n",
       "      <td>True</td>\n",
       "      <td>1</td>\n",
       "    </tr>\n",
       "    <tr>\n",
       "      <th>11</th>\n",
       "      <td>overcast</td>\n",
       "      <td>mild</td>\n",
       "      <td>high</td>\n",
       "      <td>True</td>\n",
       "      <td>1</td>\n",
       "    </tr>\n",
       "    <tr>\n",
       "      <th>12</th>\n",
       "      <td>overcast</td>\n",
       "      <td>hot</td>\n",
       "      <td>normal</td>\n",
       "      <td>False</td>\n",
       "      <td>1</td>\n",
       "    </tr>\n",
       "  </tbody>\n",
       "</table>\n",
       "</div>"
      ],
      "text/plain": [
       "     outlook temperature humidity   wind  played\n",
       "0      sunny         hot     high  False       0\n",
       "1      sunny         hot     high   True       0\n",
       "5      rainy        cool   normal   True       0\n",
       "7      sunny        mild     high  False       0\n",
       "13     rainy        mild     high   True       0\n",
       "2   overcast         hot     high  False       1\n",
       "3      rainy        mild     high  False       1\n",
       "4      rainy        cool   normal  False       1\n",
       "6   overcast        cool   normal   True       1\n",
       "8      sunny        cool   normal  False       1\n",
       "9      rainy        mild   normal  False       1\n",
       "10     sunny        mild   normal   True       1\n",
       "11  overcast        mild     high   True       1\n",
       "12  overcast         hot   normal  False       1"
      ]
     },
     "execution_count": 4,
     "metadata": {},
     "output_type": "execute_result"
    }
   ],
   "source": [
    "# Let's look at the data\n",
    "tennis_df.sort_values('played')"
   ]
  },
  {
   "cell_type": "markdown",
   "metadata": {},
   "source": [
    "## How Would You Determine If You Played Tennis?\n",
    "\n",
    "Class discussion"
   ]
  },
  {
   "cell_type": "markdown",
   "metadata": {},
   "source": [
    "## Quantifying Our Decisions"
   ]
  },
  {
   "cell_type": "markdown",
   "metadata": {},
   "source": [
    "Does windiness do a good job of predicting \"played\"? Let's split our dataset into two subsets: points with `wind == True` and points with `wind == False`"
   ]
  },
  {
   "cell_type": "code",
   "execution_count": 5,
   "metadata": {
    "scrolled": true
   },
   "outputs": [
    {
     "name": "stdout",
     "output_type": "stream",
     "text": [
      "     outlook temperature humidity  wind  played\n",
      "1      sunny         hot     high  True       0\n",
      "5      rainy        cool   normal  True       0\n",
      "6   overcast        cool   normal  True       1\n",
      "10     sunny        mild   normal  True       1\n",
      "11  overcast        mild     high  True       1\n",
      "13     rainy        mild     high  True       0\n",
      "--------------------------------------------------\n",
      "     outlook temperature humidity   wind  played\n",
      "0      sunny         hot     high  False       0\n",
      "2   overcast         hot     high  False       1\n",
      "3      rainy        mild     high  False       1\n",
      "4      rainy        cool   normal  False       1\n",
      "7      sunny        mild     high  False       0\n",
      "8      sunny        cool   normal  False       1\n",
      "9      rainy        mild   normal  False       1\n",
      "12  overcast         hot   normal  False       1\n"
     ]
    }
   ],
   "source": [
    "mask = tennis_df['wind'] == True\n",
    "print(tennis_df[mask])\n",
    "print('-'*50)\n",
    "print(tennis_df[~mask])"
   ]
  },
  {
   "cell_type": "markdown",
   "metadata": {},
   "source": [
    "How much did this help us? A perfect decision would have separated all the `played == 0` points from the `played == 1` points, and a perfectly useless decision would have given us two subsets of the data that each had equal amounts of `0`s and `1`s. Let's look at some possible metrics for quantifying how \"mixed up\" or \"impure\" a set of labels is."
   ]
  },
  {
   "cell_type": "markdown",
   "metadata": {},
   "source": [
    "### Shannon Entropy\n",
    "\n",
    "One common measure of impurity is _entropy_ (there are other measures, but let's check this one out first). Let $Y$ be a discrete random variable with probability mass function $P(Y)$.\n",
    "\n",
    "For today's purposes, the values of $Y$ are _class labels_, and $P(Y=j)=p_j$ is the _probability of drawing a point with class $j$_\n",
    "\n",
    "For $m$ classes, the entropy is defined as:\n",
    "$$\\begin{align}\n",
    "H(Y) & = E[log_2(\\tfrac{1}{P(Y)})] \\\\\n",
    "     & = -E[log_2(P(Y))] \\\\\n",
    "     & = - \\sum_{j=1}^m p_j log_2(p_j)\n",
    "\\end{align}\n",
    "$$"
   ]
  },
  {
   "cell_type": "markdown",
   "metadata": {},
   "source": [
    "### Entropy Graph of Bernoulli Random Variable\n",
    "Say we have a set of labeled data $S = \\{y_1, y_2, y_3, \\ldots, y_n\\}$, where each label $y_i$ is either positive ($+$) or negative ($-$). Let $p(+)$ be the probability of drawing a data point from $S$ with the positive label.\n",
    "\n",
    "<img src=\"images/entropy_graph.png\" width=500 align=\"left\"/>"
   ]
  },
  {
   "cell_type": "code",
   "execution_count": 6,
   "metadata": {},
   "outputs": [],
   "source": [
    "def calc_entropy(y):\n",
    "    \"\"\"Return the entropy of the array y.\n",
    "    \n",
    "    Parameters\n",
    "    ----------\n",
    "    y: 1d numpy array\n",
    "    \n",
    "    Returns\n",
    "    -------\n",
    "    float\n",
    "    \"\"\"\n",
    "    summation = 0\n",
    "    \n",
    "    for class_i in np.unique(y):\n",
    "        prob = np.mean(y == class_i)\n",
    "        summation += prob * np.log2(prob)\n",
    "    \n",
    "    return -summation"
   ]
  },
  {
   "cell_type": "code",
   "execution_count": 7,
   "metadata": {},
   "outputs": [
    {
     "name": "stdout",
     "output_type": "stream",
     "text": [
      "labels from all data:  [0 0 1 1 1 0 1 0 1 1 1 1 1 0]\n",
      "labels of windy data:  [0 0 1 1 1 0]\n",
      "labels of non-windy data:  [0 1 1 1 0 1 1 1]\n"
     ]
    }
   ],
   "source": [
    "y = tennis_df['played'].values\n",
    "y1 = tennis_df.loc[mask, 'played'].values\n",
    "y2 = tennis_df.loc[~mask, 'played'].values\n",
    "\n",
    "print('labels from all data: ', y)\n",
    "print('labels of windy data: ', y1)\n",
    "print('labels of non-windy data: ', y2)"
   ]
  },
  {
   "cell_type": "code",
   "execution_count": 8,
   "metadata": {},
   "outputs": [
    {
     "name": "stdout",
     "output_type": "stream",
     "text": [
      "Entropy of original data set: 0.9403\n",
      "Entropy of windy data: 1.0\n",
      "Entropy of non windy data: 0.8113\n"
     ]
    }
   ],
   "source": [
    "print(\"Entropy of original data set: {:.4}\".format(calc_entropy(y)))\n",
    "print(\"Entropy of windy data: {:.4}\".format(calc_entropy(y1)))\n",
    "print(\"Entropy of non windy data: {:.4}\".format(calc_entropy(y2)))"
   ]
  },
  {
   "cell_type": "markdown",
   "metadata": {},
   "source": [
    "### Information Gain \n",
    "The information gained from splitting a data set (parent node) into two subsets (child nodes) is defined as follows: the difference between the _impurity of the parent node $S$_ and the _sum of weighted impurities of the child nodes $\\{C_i\\}$_. A higher IG for a split means that the split did a better job of separating (or un-mixing) the class labels. \n",
    "\n",
    "$$\\text{IG}(S, \\{C_1, C_2, \\ldots, C_k\\}) = H(S) - \\sum_{i=1}^k \\frac{|C_i|}{|S|} H(C_i)$$\n"
   ]
  },
  {
   "cell_type": "code",
   "execution_count": 9,
   "metadata": {},
   "outputs": [],
   "source": [
    "def calc_info_gain(y, y1, y2, impurity_func):\n",
    "    \"\"\"Return the information gain of making the given split.\n",
    "    \n",
    "    Parameters\n",
    "    ----------\n",
    "    y: 1d numpy array\n",
    "        Labels for parent node\n",
    "    \n",
    "    y1: 1d numpy array\n",
    "        Labels for potential child node 1\n",
    "    \n",
    "    y2: 1d numpy array\n",
    "        Labels for potential child node 2\n",
    "    \n",
    "    impurity_func: function\n",
    "        Function which calculates the impurity of the node \n",
    "        (e.g. Shannon Entropy)\n",
    "    \n",
    "    Returns\n",
    "    -------\n",
    "    float\n",
    "    \"\"\"\n",
    "    total_samples = float(y.shape[0])\n",
    "    child_imp = 0\n",
    "    y_impurity = impurity_func(y)\n",
    "    \n",
    "    for child_node in (y1, y2):\n",
    "        child_num = child_node.shape[0]\n",
    "        child_imp += (child_num / total_samples) * impurity_func(child_node)\n",
    "        \n",
    "    return y_impurity - child_imp"
   ]
  },
  {
   "cell_type": "code",
   "execution_count": 10,
   "metadata": {},
   "outputs": [
    {
     "name": "stdout",
     "output_type": "stream",
     "text": [
      "Information Gain is 0.04812703040826927.\n"
     ]
    }
   ],
   "source": [
    "# Information gain from splitting on wind\n",
    "print(\"Information Gain is {0}.\".format(calc_info_gain(y, y1, y2, calc_entropy)))"
   ]
  },
  {
   "cell_type": "markdown",
   "metadata": {},
   "source": [
    "What if we try splitting on \"temperature == hot\"?"
   ]
  },
  {
   "cell_type": "code",
   "execution_count": 11,
   "metadata": {},
   "outputs": [],
   "source": [
    "y1 = tennis_df.loc[tennis_df['temperature'] == 'hot','played'].values\n",
    "y2 = tennis_df.loc[tennis_df['temperature'] != 'hot','played'].values"
   ]
  },
  {
   "cell_type": "code",
   "execution_count": 12,
   "metadata": {},
   "outputs": [
    {
     "name": "stdout",
     "output_type": "stream",
     "text": [
      "labels from all data:  [0 0 1 1 1 0 1 0 1 1 1 1 1 0]\n",
      "labels of hot data:  [0 0 1 1]\n",
      "labels of non-hot data:  [1 1 0 1 0 1 1 1 1 0]\n"
     ]
    }
   ],
   "source": [
    "print('labels from all data: ', y)\n",
    "print('labels of hot data: ', y1)\n",
    "print('labels of non-hot data: ', y2)"
   ]
  },
  {
   "cell_type": "code",
   "execution_count": 13,
   "metadata": {},
   "outputs": [
    {
     "name": "stdout",
     "output_type": "stream",
     "text": [
      "Information Gain is 0.0250781735058504.\n"
     ]
    }
   ],
   "source": [
    "print(\"Information Gain is {0}.\".format(calc_info_gain(y, y1, y2, calc_entropy)))"
   ]
  },
  {
   "cell_type": "markdown",
   "metadata": {},
   "source": [
    "That's a lower information gain, so we can say that splitting the data on `temperature == hot` is worse than splitting the data on `windy == true`.\n",
    "\n",
    "So what's the best splitting decision we could make? Let's try 'em all and see what has the highest information gain."
   ]
  },
  {
   "cell_type": "code",
   "execution_count": 14,
   "metadata": {},
   "outputs": [],
   "source": [
    "def calc_ig_for_all_splits(X, y):\n",
    "    possible_splits = {}\n",
    "    # Get just my features names\n",
    "    feature_cols = X.columns\n",
    "\n",
    "    # For a given column, find all the unique possible values\n",
    "    for col in feature_cols:\n",
    "        col_splits = np.unique(X[col])\n",
    "        # For each possible value, split the dataset using that value\n",
    "        for pos_val in col_splits:\n",
    "            y1 = y.loc[X[col] == pos_val].values\n",
    "            y2 = y.loc[X[col] != pos_val].values\n",
    "            # Calculate the information gain, save it for later\n",
    "            ig = calc_info_gain(y, y1, y2, calc_entropy)\n",
    "            key = \"{0}: {1}\".format(col, pos_val)\n",
    "            possible_splits[key] = ig\n",
    "    return possible_splits\n",
    "\n",
    "def display_split_results(possible_splits):\n",
    "    # Print out our results in a pretty way\n",
    "    colname1 = \"Col Name: Value\"\n",
    "    colname2 = \"Information Gain\"\n",
    "\n",
    "    # :20 is specifying a column width, https://docs.python.org/3/library/string.html#formatspec\n",
    "    print(\"{0:20} || {1}\".format(colname1, colname2))\n",
    "    print(\"-----------------------------------------\")\n",
    "    for k,v in sorted(possible_splits.items(), key=lambda x: x[1], reverse=True):\n",
    "        print(\"{0:20} || {1}\".format(k, v))    "
   ]
  },
  {
   "cell_type": "code",
   "execution_count": 15,
   "metadata": {},
   "outputs": [
    {
     "name": "stdout",
     "output_type": "stream",
     "text": [
      "Col Name: Value      || Information Gain\n",
      "-----------------------------------------\n",
      "outlook: overcast    || 0.22600024438491662\n",
      "humidity: high       || 0.15183550136234136\n",
      "humidity: normal     || 0.15183550136234136\n",
      "outlook: sunny       || 0.10224356360985054\n",
      "wind: False          || 0.04812703040826927\n",
      "wind: True           || 0.04812703040826927\n",
      "temperature: hot     || 0.0250781735058504\n",
      "temperature: cool    || 0.014956069928972582\n",
      "outlook: rainy       || 0.003184853044648772\n",
      "temperature: mild    || 0.0013397424044412354\n"
     ]
    }
   ],
   "source": [
    "X = tennis_df.drop('played', axis = 1)\n",
    "y = tennis_df['played']\n",
    "\n",
    "possible_splits = calc_ig_for_all_splits(X,y)\n",
    "display_split_results(possible_splits)"
   ]
  },
  {
   "cell_type": "markdown",
   "metadata": {},
   "source": [
    "Splitting on overcast gave us the largest info gain. Let's look at what those child nodes look like and their respective entropies."
   ]
  },
  {
   "cell_type": "code",
   "execution_count": 16,
   "metadata": {},
   "outputs": [
    {
     "name": "stdout",
     "output_type": "stream",
     "text": [
      "Entropy of left child node is -0.0\n"
     ]
    },
    {
     "data": {
      "text/html": [
       "<div>\n",
       "<style scoped>\n",
       "    .dataframe tbody tr th:only-of-type {\n",
       "        vertical-align: middle;\n",
       "    }\n",
       "\n",
       "    .dataframe tbody tr th {\n",
       "        vertical-align: top;\n",
       "    }\n",
       "\n",
       "    .dataframe thead th {\n",
       "        text-align: right;\n",
       "    }\n",
       "</style>\n",
       "<table border=\"1\" class=\"dataframe\">\n",
       "  <thead>\n",
       "    <tr style=\"text-align: right;\">\n",
       "      <th></th>\n",
       "      <th>outlook</th>\n",
       "      <th>temperature</th>\n",
       "      <th>humidity</th>\n",
       "      <th>wind</th>\n",
       "      <th>played</th>\n",
       "    </tr>\n",
       "  </thead>\n",
       "  <tbody>\n",
       "    <tr>\n",
       "      <th>2</th>\n",
       "      <td>overcast</td>\n",
       "      <td>hot</td>\n",
       "      <td>high</td>\n",
       "      <td>False</td>\n",
       "      <td>1</td>\n",
       "    </tr>\n",
       "    <tr>\n",
       "      <th>6</th>\n",
       "      <td>overcast</td>\n",
       "      <td>cool</td>\n",
       "      <td>normal</td>\n",
       "      <td>True</td>\n",
       "      <td>1</td>\n",
       "    </tr>\n",
       "    <tr>\n",
       "      <th>11</th>\n",
       "      <td>overcast</td>\n",
       "      <td>mild</td>\n",
       "      <td>high</td>\n",
       "      <td>True</td>\n",
       "      <td>1</td>\n",
       "    </tr>\n",
       "    <tr>\n",
       "      <th>12</th>\n",
       "      <td>overcast</td>\n",
       "      <td>hot</td>\n",
       "      <td>normal</td>\n",
       "      <td>False</td>\n",
       "      <td>1</td>\n",
       "    </tr>\n",
       "  </tbody>\n",
       "</table>\n",
       "</div>"
      ],
      "text/plain": [
       "     outlook temperature humidity   wind  played\n",
       "2   overcast         hot     high  False       1\n",
       "6   overcast        cool   normal   True       1\n",
       "11  overcast        mild     high   True       1\n",
       "12  overcast         hot   normal  False       1"
      ]
     },
     "execution_count": 16,
     "metadata": {},
     "output_type": "execute_result"
    }
   ],
   "source": [
    "child_node_left = tennis_df[tennis_df['outlook'] == 'overcast']\n",
    "print(\"Entropy of left child node is {0}\".format(\n",
    "          calc_entropy(child_node_left['played'].values)))\n",
    "child_node_left"
   ]
  },
  {
   "cell_type": "code",
   "execution_count": 17,
   "metadata": {},
   "outputs": [
    {
     "name": "stdout",
     "output_type": "stream",
     "text": [
      "Entropy of right child node is 1.0\n"
     ]
    },
    {
     "data": {
      "text/html": [
       "<div>\n",
       "<style scoped>\n",
       "    .dataframe tbody tr th:only-of-type {\n",
       "        vertical-align: middle;\n",
       "    }\n",
       "\n",
       "    .dataframe tbody tr th {\n",
       "        vertical-align: top;\n",
       "    }\n",
       "\n",
       "    .dataframe thead th {\n",
       "        text-align: right;\n",
       "    }\n",
       "</style>\n",
       "<table border=\"1\" class=\"dataframe\">\n",
       "  <thead>\n",
       "    <tr style=\"text-align: right;\">\n",
       "      <th></th>\n",
       "      <th>outlook</th>\n",
       "      <th>temperature</th>\n",
       "      <th>humidity</th>\n",
       "      <th>wind</th>\n",
       "      <th>played</th>\n",
       "    </tr>\n",
       "  </thead>\n",
       "  <tbody>\n",
       "    <tr>\n",
       "      <th>0</th>\n",
       "      <td>sunny</td>\n",
       "      <td>hot</td>\n",
       "      <td>high</td>\n",
       "      <td>False</td>\n",
       "      <td>0</td>\n",
       "    </tr>\n",
       "    <tr>\n",
       "      <th>1</th>\n",
       "      <td>sunny</td>\n",
       "      <td>hot</td>\n",
       "      <td>high</td>\n",
       "      <td>True</td>\n",
       "      <td>0</td>\n",
       "    </tr>\n",
       "    <tr>\n",
       "      <th>3</th>\n",
       "      <td>rainy</td>\n",
       "      <td>mild</td>\n",
       "      <td>high</td>\n",
       "      <td>False</td>\n",
       "      <td>1</td>\n",
       "    </tr>\n",
       "    <tr>\n",
       "      <th>4</th>\n",
       "      <td>rainy</td>\n",
       "      <td>cool</td>\n",
       "      <td>normal</td>\n",
       "      <td>False</td>\n",
       "      <td>1</td>\n",
       "    </tr>\n",
       "    <tr>\n",
       "      <th>5</th>\n",
       "      <td>rainy</td>\n",
       "      <td>cool</td>\n",
       "      <td>normal</td>\n",
       "      <td>True</td>\n",
       "      <td>0</td>\n",
       "    </tr>\n",
       "    <tr>\n",
       "      <th>7</th>\n",
       "      <td>sunny</td>\n",
       "      <td>mild</td>\n",
       "      <td>high</td>\n",
       "      <td>False</td>\n",
       "      <td>0</td>\n",
       "    </tr>\n",
       "    <tr>\n",
       "      <th>8</th>\n",
       "      <td>sunny</td>\n",
       "      <td>cool</td>\n",
       "      <td>normal</td>\n",
       "      <td>False</td>\n",
       "      <td>1</td>\n",
       "    </tr>\n",
       "    <tr>\n",
       "      <th>9</th>\n",
       "      <td>rainy</td>\n",
       "      <td>mild</td>\n",
       "      <td>normal</td>\n",
       "      <td>False</td>\n",
       "      <td>1</td>\n",
       "    </tr>\n",
       "    <tr>\n",
       "      <th>10</th>\n",
       "      <td>sunny</td>\n",
       "      <td>mild</td>\n",
       "      <td>normal</td>\n",
       "      <td>True</td>\n",
       "      <td>1</td>\n",
       "    </tr>\n",
       "    <tr>\n",
       "      <th>13</th>\n",
       "      <td>rainy</td>\n",
       "      <td>mild</td>\n",
       "      <td>high</td>\n",
       "      <td>True</td>\n",
       "      <td>0</td>\n",
       "    </tr>\n",
       "  </tbody>\n",
       "</table>\n",
       "</div>"
      ],
      "text/plain": [
       "   outlook temperature humidity   wind  played\n",
       "0    sunny         hot     high  False       0\n",
       "1    sunny         hot     high   True       0\n",
       "3    rainy        mild     high  False       1\n",
       "4    rainy        cool   normal  False       1\n",
       "5    rainy        cool   normal   True       0\n",
       "7    sunny        mild     high  False       0\n",
       "8    sunny        cool   normal  False       1\n",
       "9    rainy        mild   normal  False       1\n",
       "10   sunny        mild   normal   True       1\n",
       "13   rainy        mild     high   True       0"
      ]
     },
     "execution_count": 17,
     "metadata": {},
     "output_type": "execute_result"
    }
   ],
   "source": [
    "child_node_right = tennis_df[tennis_df['outlook'] != 'overcast']\n",
    "print(\"Entropy of right child node is {0}\".format(\n",
    "          calc_entropy(child_node_right['played'].values)))\n",
    "child_node_right"
   ]
  },
  {
   "cell_type": "markdown",
   "metadata": {},
   "source": [
    "So we made a splitting decision that divided the data into two subsets: one that had all the same label (a _pure node_) and another that was perfectly mixed: five $0$s and five $1$s. That's a little frustrating. What can we do?\n",
    "\n",
    "Well lets's see if there's a splitting decision we can make for this second subset of data (the `outlook != overcast` data) to sort out the labels better."
   ]
  },
  {
   "cell_type": "code",
   "execution_count": 18,
   "metadata": {},
   "outputs": [
    {
     "name": "stdout",
     "output_type": "stream",
     "text": [
      "Col Name: Value      || Information Gain\n",
      "-----------------------------------------\n",
      "humidity: high       || 0.2780719051126377\n",
      "humidity: normal     || 0.2780719051126377\n",
      "temperature: hot     || 0.23645279766002802\n",
      "wind: False          || 0.12451124978365313\n",
      "wind: True           || 0.12451124978365313\n",
      "temperature: cool    || 0.034851554559677034\n",
      "outlook: rainy       || 0.02904940554533142\n",
      "outlook: sunny       || 0.02904940554533142\n",
      "temperature: mild    || 0.02904940554533142\n"
     ]
    }
   ],
   "source": [
    "mask = tennis_df['outlook'] != 'overcast'\n",
    "\n",
    "possible_splits = calc_ig_for_all_splits(X[mask],y[mask])\n",
    "display_split_results(possible_splits)"
   ]
  },
  {
   "cell_type": "code",
   "execution_count": 19,
   "metadata": {},
   "outputs": [
    {
     "name": "stdout",
     "output_type": "stream",
     "text": [
      "Entropy of left child node is 0.7219280948873623\n"
     ]
    },
    {
     "data": {
      "text/html": [
       "<div>\n",
       "<style scoped>\n",
       "    .dataframe tbody tr th:only-of-type {\n",
       "        vertical-align: middle;\n",
       "    }\n",
       "\n",
       "    .dataframe tbody tr th {\n",
       "        vertical-align: top;\n",
       "    }\n",
       "\n",
       "    .dataframe thead th {\n",
       "        text-align: right;\n",
       "    }\n",
       "</style>\n",
       "<table border=\"1\" class=\"dataframe\">\n",
       "  <thead>\n",
       "    <tr style=\"text-align: right;\">\n",
       "      <th></th>\n",
       "      <th>outlook</th>\n",
       "      <th>temperature</th>\n",
       "      <th>humidity</th>\n",
       "      <th>wind</th>\n",
       "      <th>played</th>\n",
       "    </tr>\n",
       "  </thead>\n",
       "  <tbody>\n",
       "    <tr>\n",
       "      <th>0</th>\n",
       "      <td>sunny</td>\n",
       "      <td>hot</td>\n",
       "      <td>high</td>\n",
       "      <td>False</td>\n",
       "      <td>0</td>\n",
       "    </tr>\n",
       "    <tr>\n",
       "      <th>1</th>\n",
       "      <td>sunny</td>\n",
       "      <td>hot</td>\n",
       "      <td>high</td>\n",
       "      <td>True</td>\n",
       "      <td>0</td>\n",
       "    </tr>\n",
       "    <tr>\n",
       "      <th>3</th>\n",
       "      <td>rainy</td>\n",
       "      <td>mild</td>\n",
       "      <td>high</td>\n",
       "      <td>False</td>\n",
       "      <td>1</td>\n",
       "    </tr>\n",
       "    <tr>\n",
       "      <th>7</th>\n",
       "      <td>sunny</td>\n",
       "      <td>mild</td>\n",
       "      <td>high</td>\n",
       "      <td>False</td>\n",
       "      <td>0</td>\n",
       "    </tr>\n",
       "    <tr>\n",
       "      <th>13</th>\n",
       "      <td>rainy</td>\n",
       "      <td>mild</td>\n",
       "      <td>high</td>\n",
       "      <td>True</td>\n",
       "      <td>0</td>\n",
       "    </tr>\n",
       "  </tbody>\n",
       "</table>\n",
       "</div>"
      ],
      "text/plain": [
       "   outlook temperature humidity   wind  played\n",
       "0    sunny         hot     high  False       0\n",
       "1    sunny         hot     high   True       0\n",
       "3    rainy        mild     high  False       1\n",
       "7    sunny        mild     high  False       0\n",
       "13   rainy        mild     high   True       0"
      ]
     },
     "execution_count": 19,
     "metadata": {},
     "output_type": "execute_result"
    }
   ],
   "source": [
    "child_node_left = tennis_df[mask & (tennis_df['humidity'] == 'high')]\n",
    "print(\"Entropy of left child node is {0}\".format(\n",
    "          calc_entropy(child_node_left['played'].values)))\n",
    "child_node_left"
   ]
  },
  {
   "cell_type": "code",
   "execution_count": 20,
   "metadata": {},
   "outputs": [
    {
     "name": "stdout",
     "output_type": "stream",
     "text": [
      "Entropy of right child node is 0.7219280948873623\n"
     ]
    },
    {
     "data": {
      "text/html": [
       "<div>\n",
       "<style scoped>\n",
       "    .dataframe tbody tr th:only-of-type {\n",
       "        vertical-align: middle;\n",
       "    }\n",
       "\n",
       "    .dataframe tbody tr th {\n",
       "        vertical-align: top;\n",
       "    }\n",
       "\n",
       "    .dataframe thead th {\n",
       "        text-align: right;\n",
       "    }\n",
       "</style>\n",
       "<table border=\"1\" class=\"dataframe\">\n",
       "  <thead>\n",
       "    <tr style=\"text-align: right;\">\n",
       "      <th></th>\n",
       "      <th>outlook</th>\n",
       "      <th>temperature</th>\n",
       "      <th>humidity</th>\n",
       "      <th>wind</th>\n",
       "      <th>played</th>\n",
       "    </tr>\n",
       "  </thead>\n",
       "  <tbody>\n",
       "    <tr>\n",
       "      <th>4</th>\n",
       "      <td>rainy</td>\n",
       "      <td>cool</td>\n",
       "      <td>normal</td>\n",
       "      <td>False</td>\n",
       "      <td>1</td>\n",
       "    </tr>\n",
       "    <tr>\n",
       "      <th>5</th>\n",
       "      <td>rainy</td>\n",
       "      <td>cool</td>\n",
       "      <td>normal</td>\n",
       "      <td>True</td>\n",
       "      <td>0</td>\n",
       "    </tr>\n",
       "    <tr>\n",
       "      <th>8</th>\n",
       "      <td>sunny</td>\n",
       "      <td>cool</td>\n",
       "      <td>normal</td>\n",
       "      <td>False</td>\n",
       "      <td>1</td>\n",
       "    </tr>\n",
       "    <tr>\n",
       "      <th>9</th>\n",
       "      <td>rainy</td>\n",
       "      <td>mild</td>\n",
       "      <td>normal</td>\n",
       "      <td>False</td>\n",
       "      <td>1</td>\n",
       "    </tr>\n",
       "    <tr>\n",
       "      <th>10</th>\n",
       "      <td>sunny</td>\n",
       "      <td>mild</td>\n",
       "      <td>normal</td>\n",
       "      <td>True</td>\n",
       "      <td>1</td>\n",
       "    </tr>\n",
       "  </tbody>\n",
       "</table>\n",
       "</div>"
      ],
      "text/plain": [
       "   outlook temperature humidity   wind  played\n",
       "4    rainy        cool   normal  False       1\n",
       "5    rainy        cool   normal   True       0\n",
       "8    sunny        cool   normal  False       1\n",
       "9    rainy        mild   normal  False       1\n",
       "10   sunny        mild   normal   True       1"
      ]
     },
     "execution_count": 20,
     "metadata": {},
     "output_type": "execute_result"
    }
   ],
   "source": [
    "child_node_right = tennis_df[mask & (tennis_df['humidity'] != 'high')]\n",
    "print(\"Entropy of right child node is {0}\".format(\n",
    "          calc_entropy(child_node_right['played'].values)))\n",
    "child_node_right"
   ]
  },
  {
   "cell_type": "code",
   "execution_count": 21,
   "metadata": {},
   "outputs": [
    {
     "data": {
      "text/plain": [
       "DecisionTreeClassifier(class_weight=None, criterion='entropy', max_depth=2,\n",
       "            max_features=None, max_leaf_nodes=None,\n",
       "            min_impurity_decrease=0.0, min_impurity_split=None,\n",
       "            min_samples_leaf=1, min_samples_split=2,\n",
       "            min_weight_fraction_leaf=0.0, presort=False, random_state=None,\n",
       "            splitter='best')"
      ]
     },
     "execution_count": 21,
     "metadata": {},
     "output_type": "execute_result"
    }
   ],
   "source": [
    "# sklearn's implementation requires\n",
    "# numerical features and only makes\n",
    "# binary splits\n",
    "\n",
    "X_dum = pd.get_dummies(X)\n",
    "\n",
    "dt = tree.DecisionTreeClassifier(max_depth=2, criterion='entropy')\n",
    "dt.fit(X_dum, y)"
   ]
  },
  {
   "cell_type": "code",
   "execution_count": 22,
   "metadata": {},
   "outputs": [
    {
     "data": {
      "image/svg+xml": [
       "<?xml version=\"1.0\" encoding=\"UTF-8\" standalone=\"no\"?>\n",
       "<!DOCTYPE svg PUBLIC \"-//W3C//DTD SVG 1.1//EN\"\n",
       " \"http://www.w3.org/Graphics/SVG/1.1/DTD/svg11.dtd\">\n",
       "<!-- Generated by graphviz version 2.38.0 (20140413.2041)\n",
       " -->\n",
       "<!-- Title: Tree Pages: 1 -->\n",
       "<svg width=\"308pt\" height=\"269pt\"\n",
       " viewBox=\"0.00 0.00 308.00 269.00\" xmlns=\"http://www.w3.org/2000/svg\" xmlns:xlink=\"http://www.w3.org/1999/xlink\">\n",
       "<g id=\"graph0\" class=\"graph\" transform=\"scale(1 1) rotate(0) translate(4 265)\">\n",
       "<title>Tree</title>\n",
       "<polygon fill=\"white\" stroke=\"none\" points=\"-4,4 -4,-265 304,-265 304,4 -4,4\"/>\n",
       "<!-- 0 -->\n",
       "<g id=\"node1\" class=\"node\"><title>0</title>\n",
       "<polygon fill=\"#399de5\" fill-opacity=\"0.443137\" stroke=\"black\" points=\"258.5,-261 107.5,-261 107.5,-193 258.5,-193 258.5,-261\"/>\n",
       "<text text-anchor=\"middle\" x=\"183\" y=\"-245.8\" font-family=\"Times,serif\" font-size=\"14.00\">outlook_overcast &lt;= 0.5</text>\n",
       "<text text-anchor=\"middle\" x=\"183\" y=\"-230.8\" font-family=\"Times,serif\" font-size=\"14.00\">entropy = 0.94</text>\n",
       "<text text-anchor=\"middle\" x=\"183\" y=\"-215.8\" font-family=\"Times,serif\" font-size=\"14.00\">samples = 14</text>\n",
       "<text text-anchor=\"middle\" x=\"183\" y=\"-200.8\" font-family=\"Times,serif\" font-size=\"14.00\">value = [5, 9]</text>\n",
       "</g>\n",
       "<!-- 1 -->\n",
       "<g id=\"node2\" class=\"node\"><title>1</title>\n",
       "<polygon fill=\"none\" stroke=\"black\" points=\"189.5,-157 36.5,-157 36.5,-89 189.5,-89 189.5,-157\"/>\n",
       "<text text-anchor=\"middle\" x=\"113\" y=\"-141.8\" font-family=\"Times,serif\" font-size=\"14.00\">humidity_normal &lt;= 0.5</text>\n",
       "<text text-anchor=\"middle\" x=\"113\" y=\"-126.8\" font-family=\"Times,serif\" font-size=\"14.00\">entropy = 1.0</text>\n",
       "<text text-anchor=\"middle\" x=\"113\" y=\"-111.8\" font-family=\"Times,serif\" font-size=\"14.00\">samples = 10</text>\n",
       "<text text-anchor=\"middle\" x=\"113\" y=\"-96.8\" font-family=\"Times,serif\" font-size=\"14.00\">value = [5, 5]</text>\n",
       "</g>\n",
       "<!-- 0&#45;&gt;1 -->\n",
       "<g id=\"edge1\" class=\"edge\"><title>0&#45;&gt;1</title>\n",
       "<path fill=\"none\" stroke=\"black\" d=\"M160.273,-192.884C154.343,-184.243 147.876,-174.819 141.681,-165.793\"/>\n",
       "<polygon fill=\"black\" stroke=\"black\" points=\"144.397,-163.564 135.853,-157.299 138.625,-167.525 144.397,-163.564\"/>\n",
       "<text text-anchor=\"middle\" x=\"131.28\" y=\"-178.178\" font-family=\"Times,serif\" font-size=\"14.00\">True</text>\n",
       "</g>\n",
       "<!-- 4 -->\n",
       "<g id=\"node5\" class=\"node\"><title>4</title>\n",
       "<polygon fill=\"#399de5\" stroke=\"black\" points=\"300,-149.5 208,-149.5 208,-96.5 300,-96.5 300,-149.5\"/>\n",
       "<text text-anchor=\"middle\" x=\"254\" y=\"-134.3\" font-family=\"Times,serif\" font-size=\"14.00\">entropy = 0.0</text>\n",
       "<text text-anchor=\"middle\" x=\"254\" y=\"-119.3\" font-family=\"Times,serif\" font-size=\"14.00\">samples = 4</text>\n",
       "<text text-anchor=\"middle\" x=\"254\" y=\"-104.3\" font-family=\"Times,serif\" font-size=\"14.00\">value = [0, 4]</text>\n",
       "</g>\n",
       "<!-- 0&#45;&gt;4 -->\n",
       "<g id=\"edge4\" class=\"edge\"><title>0&#45;&gt;4</title>\n",
       "<path fill=\"none\" stroke=\"black\" d=\"M206.052,-192.884C213.86,-181.666 222.589,-169.126 230.436,-157.852\"/>\n",
       "<polygon fill=\"black\" stroke=\"black\" points=\"233.396,-159.727 236.236,-149.52 227.65,-155.728 233.396,-159.727\"/>\n",
       "<text text-anchor=\"middle\" x=\"240.646\" y=\"-170.428\" font-family=\"Times,serif\" font-size=\"14.00\">False</text>\n",
       "</g>\n",
       "<!-- 2 -->\n",
       "<g id=\"node3\" class=\"node\"><title>2</title>\n",
       "<polygon fill=\"#e58139\" fill-opacity=\"0.749020\" stroke=\"black\" points=\"104,-53 0,-53 0,-0 104,-0 104,-53\"/>\n",
       "<text text-anchor=\"middle\" x=\"52\" y=\"-37.8\" font-family=\"Times,serif\" font-size=\"14.00\">entropy = 0.722</text>\n",
       "<text text-anchor=\"middle\" x=\"52\" y=\"-22.8\" font-family=\"Times,serif\" font-size=\"14.00\">samples = 5</text>\n",
       "<text text-anchor=\"middle\" x=\"52\" y=\"-7.8\" font-family=\"Times,serif\" font-size=\"14.00\">value = [4, 1]</text>\n",
       "</g>\n",
       "<!-- 1&#45;&gt;2 -->\n",
       "<g id=\"edge2\" class=\"edge\"><title>1&#45;&gt;2</title>\n",
       "<path fill=\"none\" stroke=\"black\" d=\"M91.6652,-88.9485C85.9963,-80.1664 79.8618,-70.6629 74.1504,-61.815\"/>\n",
       "<polygon fill=\"black\" stroke=\"black\" points=\"76.977,-59.7402 68.6131,-53.2367 71.0959,-63.5365 76.977,-59.7402\"/>\n",
       "</g>\n",
       "<!-- 3 -->\n",
       "<g id=\"node4\" class=\"node\"><title>3</title>\n",
       "<polygon fill=\"#399de5\" fill-opacity=\"0.749020\" stroke=\"black\" points=\"226,-53 122,-53 122,-0 226,-0 226,-53\"/>\n",
       "<text text-anchor=\"middle\" x=\"174\" y=\"-37.8\" font-family=\"Times,serif\" font-size=\"14.00\">entropy = 0.722</text>\n",
       "<text text-anchor=\"middle\" x=\"174\" y=\"-22.8\" font-family=\"Times,serif\" font-size=\"14.00\">samples = 5</text>\n",
       "<text text-anchor=\"middle\" x=\"174\" y=\"-7.8\" font-family=\"Times,serif\" font-size=\"14.00\">value = [1, 4]</text>\n",
       "</g>\n",
       "<!-- 1&#45;&gt;3 -->\n",
       "<g id=\"edge3\" class=\"edge\"><title>1&#45;&gt;3</title>\n",
       "<path fill=\"none\" stroke=\"black\" d=\"M134.335,-88.9485C140.004,-80.1664 146.138,-70.6629 151.85,-61.815\"/>\n",
       "<polygon fill=\"black\" stroke=\"black\" points=\"154.904,-63.5365 157.387,-53.2367 149.023,-59.7402 154.904,-63.5365\"/>\n",
       "</g>\n",
       "</g>\n",
       "</svg>\n"
      ],
      "text/plain": [
       "<graphviz.files.Source at 0x7f9029682780>"
      ]
     },
     "execution_count": 22,
     "metadata": {},
     "output_type": "execute_result"
    }
   ],
   "source": [
    "graphviz.Source(tree.export_graphviz(dt, out_file=None, \n",
    "                                     feature_names=X_dum.columns,\n",
    "                                     filled=True))"
   ]
  },
  {
   "cell_type": "markdown",
   "metadata": {},
   "source": [
    "#### exercise\n",
    "\n",
    "Using this tree, what would we predict for a day with `outlook == overcast` and `humidity == normal`?\n",
    "\n",
    "How about `outlook == sunny` and `humidity == high`?"
   ]
  },
  {
   "cell_type": "markdown",
   "metadata": {},
   "source": [
    "### When do we stop?\n",
    "\n",
    "We've made two decisions that almost completely sort out \"played\" from \"not played\"\n",
    "\n",
    "Almost completely.. we could find splits that completely sort out these sets too, couldn't we?"
   ]
  },
  {
   "cell_type": "code",
   "execution_count": 23,
   "metadata": {},
   "outputs": [
    {
     "data": {
      "text/plain": [
       "DecisionTreeClassifier(class_weight=None, criterion='entropy', max_depth=None,\n",
       "            max_features=None, max_leaf_nodes=None,\n",
       "            min_impurity_decrease=0.0, min_impurity_split=None,\n",
       "            min_samples_leaf=1, min_samples_split=2,\n",
       "            min_weight_fraction_leaf=0.0, presort=False, random_state=None,\n",
       "            splitter='best')"
      ]
     },
     "execution_count": 23,
     "metadata": {},
     "output_type": "execute_result"
    }
   ],
   "source": [
    "dt = tree.DecisionTreeClassifier(criterion='entropy')\n",
    "dt.fit(X_dum, y)"
   ]
  },
  {
   "cell_type": "code",
   "execution_count": 24,
   "metadata": {},
   "outputs": [
    {
     "data": {
      "image/svg+xml": [
       "<?xml version=\"1.0\" encoding=\"UTF-8\" standalone=\"no\"?>\n",
       "<!DOCTYPE svg PUBLIC \"-//W3C//DTD SVG 1.1//EN\"\n",
       " \"http://www.w3.org/Graphics/SVG/1.1/DTD/svg11.dtd\">\n",
       "<!-- Generated by graphviz version 2.38.0 (20140413.2041)\n",
       " -->\n",
       "<!-- Title: Tree Pages: 1 -->\n",
       "<svg width=\"549pt\" height=\"477pt\"\n",
       " viewBox=\"0.00 0.00 549.00 477.00\" xmlns=\"http://www.w3.org/2000/svg\" xmlns:xlink=\"http://www.w3.org/1999/xlink\">\n",
       "<g id=\"graph0\" class=\"graph\" transform=\"scale(1 1) rotate(0) translate(4 473)\">\n",
       "<title>Tree</title>\n",
       "<polygon fill=\"white\" stroke=\"none\" points=\"-4,4 -4,-473 545,-473 545,4 -4,4\"/>\n",
       "<!-- 0 -->\n",
       "<g id=\"node1\" class=\"node\"><title>0</title>\n",
       "<polygon fill=\"#399de5\" fill-opacity=\"0.443137\" stroke=\"black\" points=\"400.5,-469 249.5,-469 249.5,-401 400.5,-401 400.5,-469\"/>\n",
       "<text text-anchor=\"middle\" x=\"325\" y=\"-453.8\" font-family=\"Times,serif\" font-size=\"14.00\">outlook_overcast &lt;= 0.5</text>\n",
       "<text text-anchor=\"middle\" x=\"325\" y=\"-438.8\" font-family=\"Times,serif\" font-size=\"14.00\">entropy = 0.94</text>\n",
       "<text text-anchor=\"middle\" x=\"325\" y=\"-423.8\" font-family=\"Times,serif\" font-size=\"14.00\">samples = 14</text>\n",
       "<text text-anchor=\"middle\" x=\"325\" y=\"-408.8\" font-family=\"Times,serif\" font-size=\"14.00\">value = [5, 9]</text>\n",
       "</g>\n",
       "<!-- 1 -->\n",
       "<g id=\"node2\" class=\"node\"><title>1</title>\n",
       "<polygon fill=\"none\" stroke=\"black\" points=\"328,-365 190,-365 190,-297 328,-297 328,-365\"/>\n",
       "<text text-anchor=\"middle\" x=\"259\" y=\"-349.8\" font-family=\"Times,serif\" font-size=\"14.00\">humidity_high &lt;= 0.5</text>\n",
       "<text text-anchor=\"middle\" x=\"259\" y=\"-334.8\" font-family=\"Times,serif\" font-size=\"14.00\">entropy = 1.0</text>\n",
       "<text text-anchor=\"middle\" x=\"259\" y=\"-319.8\" font-family=\"Times,serif\" font-size=\"14.00\">samples = 10</text>\n",
       "<text text-anchor=\"middle\" x=\"259\" y=\"-304.8\" font-family=\"Times,serif\" font-size=\"14.00\">value = [5, 5]</text>\n",
       "</g>\n",
       "<!-- 0&#45;&gt;1 -->\n",
       "<g id=\"edge1\" class=\"edge\"><title>0&#45;&gt;1</title>\n",
       "<path fill=\"none\" stroke=\"black\" d=\"M303.572,-400.884C297.981,-392.243 291.883,-382.819 286.042,-373.793\"/>\n",
       "<polygon fill=\"black\" stroke=\"black\" points=\"288.918,-371.794 280.547,-365.299 283.041,-375.596 288.918,-371.794\"/>\n",
       "<text text-anchor=\"middle\" x=\"275.308\" y=\"-386.044\" font-family=\"Times,serif\" font-size=\"14.00\">True</text>\n",
       "</g>\n",
       "<!-- 12 -->\n",
       "<g id=\"node13\" class=\"node\"><title>12</title>\n",
       "<polygon fill=\"#399de5\" stroke=\"black\" points=\"438,-357.5 346,-357.5 346,-304.5 438,-304.5 438,-357.5\"/>\n",
       "<text text-anchor=\"middle\" x=\"392\" y=\"-342.3\" font-family=\"Times,serif\" font-size=\"14.00\">entropy = 0.0</text>\n",
       "<text text-anchor=\"middle\" x=\"392\" y=\"-327.3\" font-family=\"Times,serif\" font-size=\"14.00\">samples = 4</text>\n",
       "<text text-anchor=\"middle\" x=\"392\" y=\"-312.3\" font-family=\"Times,serif\" font-size=\"14.00\">value = [0, 4]</text>\n",
       "</g>\n",
       "<!-- 0&#45;&gt;12 -->\n",
       "<g id=\"edge12\" class=\"edge\"><title>0&#45;&gt;12</title>\n",
       "<path fill=\"none\" stroke=\"black\" d=\"M346.753,-400.884C354.049,-389.776 362.197,-377.372 369.546,-366.184\"/>\n",
       "<polygon fill=\"black\" stroke=\"black\" points=\"372.672,-367.8 375.237,-357.52 366.821,-363.957 372.672,-367.8\"/>\n",
       "<text text-anchor=\"middle\" x=\"380.307\" y=\"-378.3\" font-family=\"Times,serif\" font-size=\"14.00\">False</text>\n",
       "</g>\n",
       "<!-- 2 -->\n",
       "<g id=\"node3\" class=\"node\"><title>2</title>\n",
       "<polygon fill=\"#399de5\" fill-opacity=\"0.749020\" stroke=\"black\" points=\"240,-261 136,-261 136,-193 240,-193 240,-261\"/>\n",
       "<text text-anchor=\"middle\" x=\"188\" y=\"-245.8\" font-family=\"Times,serif\" font-size=\"14.00\">wind &lt;= 0.5</text>\n",
       "<text text-anchor=\"middle\" x=\"188\" y=\"-230.8\" font-family=\"Times,serif\" font-size=\"14.00\">entropy = 0.722</text>\n",
       "<text text-anchor=\"middle\" x=\"188\" y=\"-215.8\" font-family=\"Times,serif\" font-size=\"14.00\">samples = 5</text>\n",
       "<text text-anchor=\"middle\" x=\"188\" y=\"-200.8\" font-family=\"Times,serif\" font-size=\"14.00\">value = [1, 4]</text>\n",
       "</g>\n",
       "<!-- 1&#45;&gt;2 -->\n",
       "<g id=\"edge2\" class=\"edge\"><title>1&#45;&gt;2</title>\n",
       "<path fill=\"none\" stroke=\"black\" d=\"M235.948,-296.884C229.872,-288.154 223.239,-278.625 216.897,-269.514\"/>\n",
       "<polygon fill=\"black\" stroke=\"black\" points=\"219.765,-267.507 211.179,-261.299 214.019,-271.506 219.765,-267.507\"/>\n",
       "</g>\n",
       "<!-- 7 -->\n",
       "<g id=\"node8\" class=\"node\"><title>7</title>\n",
       "<polygon fill=\"#e58139\" fill-opacity=\"0.749020\" stroke=\"black\" points=\"397,-261 263,-261 263,-193 397,-193 397,-261\"/>\n",
       "<text text-anchor=\"middle\" x=\"330\" y=\"-245.8\" font-family=\"Times,serif\" font-size=\"14.00\">outlook_rainy &lt;= 0.5</text>\n",
       "<text text-anchor=\"middle\" x=\"330\" y=\"-230.8\" font-family=\"Times,serif\" font-size=\"14.00\">entropy = 0.722</text>\n",
       "<text text-anchor=\"middle\" x=\"330\" y=\"-215.8\" font-family=\"Times,serif\" font-size=\"14.00\">samples = 5</text>\n",
       "<text text-anchor=\"middle\" x=\"330\" y=\"-200.8\" font-family=\"Times,serif\" font-size=\"14.00\">value = [4, 1]</text>\n",
       "</g>\n",
       "<!-- 1&#45;&gt;7 -->\n",
       "<g id=\"edge7\" class=\"edge\"><title>1&#45;&gt;7</title>\n",
       "<path fill=\"none\" stroke=\"black\" d=\"M282.052,-296.884C288.128,-288.154 294.761,-278.625 301.103,-269.514\"/>\n",
       "<polygon fill=\"black\" stroke=\"black\" points=\"303.981,-271.506 306.821,-261.299 298.235,-267.507 303.981,-271.506\"/>\n",
       "</g>\n",
       "<!-- 3 -->\n",
       "<g id=\"node4\" class=\"node\"><title>3</title>\n",
       "<polygon fill=\"#399de5\" stroke=\"black\" points=\"92,-149.5 0,-149.5 0,-96.5 92,-96.5 92,-149.5\"/>\n",
       "<text text-anchor=\"middle\" x=\"46\" y=\"-134.3\" font-family=\"Times,serif\" font-size=\"14.00\">entropy = 0.0</text>\n",
       "<text text-anchor=\"middle\" x=\"46\" y=\"-119.3\" font-family=\"Times,serif\" font-size=\"14.00\">samples = 3</text>\n",
       "<text text-anchor=\"middle\" x=\"46\" y=\"-104.3\" font-family=\"Times,serif\" font-size=\"14.00\">value = [0, 3]</text>\n",
       "</g>\n",
       "<!-- 2&#45;&gt;3 -->\n",
       "<g id=\"edge3\" class=\"edge\"><title>2&#45;&gt;3</title>\n",
       "<path fill=\"none\" stroke=\"black\" d=\"M141.897,-192.884C125.208,-180.896 106.418,-167.399 89.9218,-155.549\"/>\n",
       "<polygon fill=\"black\" stroke=\"black\" points=\"91.6915,-152.511 81.5277,-149.52 87.6077,-158.197 91.6915,-152.511\"/>\n",
       "</g>\n",
       "<!-- 4 -->\n",
       "<g id=\"node5\" class=\"node\"><title>4</title>\n",
       "<polygon fill=\"none\" stroke=\"black\" points=\"265.5,-157 110.5,-157 110.5,-89 265.5,-89 265.5,-157\"/>\n",
       "<text text-anchor=\"middle\" x=\"188\" y=\"-141.8\" font-family=\"Times,serif\" font-size=\"14.00\">temperature_mild &lt;= 0.5</text>\n",
       "<text text-anchor=\"middle\" x=\"188\" y=\"-126.8\" font-family=\"Times,serif\" font-size=\"14.00\">entropy = 1.0</text>\n",
       "<text text-anchor=\"middle\" x=\"188\" y=\"-111.8\" font-family=\"Times,serif\" font-size=\"14.00\">samples = 2</text>\n",
       "<text text-anchor=\"middle\" x=\"188\" y=\"-96.8\" font-family=\"Times,serif\" font-size=\"14.00\">value = [1, 1]</text>\n",
       "</g>\n",
       "<!-- 2&#45;&gt;4 -->\n",
       "<g id=\"edge4\" class=\"edge\"><title>2&#45;&gt;4</title>\n",
       "<path fill=\"none\" stroke=\"black\" d=\"M188,-192.884C188,-184.778 188,-175.982 188,-167.472\"/>\n",
       "<polygon fill=\"black\" stroke=\"black\" points=\"191.5,-167.299 188,-157.299 184.5,-167.299 191.5,-167.299\"/>\n",
       "</g>\n",
       "<!-- 5 -->\n",
       "<g id=\"node6\" class=\"node\"><title>5</title>\n",
       "<polygon fill=\"#e58139\" stroke=\"black\" points=\"167,-53 75,-53 75,-0 167,-0 167,-53\"/>\n",
       "<text text-anchor=\"middle\" x=\"121\" y=\"-37.8\" font-family=\"Times,serif\" font-size=\"14.00\">entropy = 0.0</text>\n",
       "<text text-anchor=\"middle\" x=\"121\" y=\"-22.8\" font-family=\"Times,serif\" font-size=\"14.00\">samples = 1</text>\n",
       "<text text-anchor=\"middle\" x=\"121\" y=\"-7.8\" font-family=\"Times,serif\" font-size=\"14.00\">value = [1, 0]</text>\n",
       "</g>\n",
       "<!-- 4&#45;&gt;5 -->\n",
       "<g id=\"edge5\" class=\"edge\"><title>4&#45;&gt;5</title>\n",
       "<path fill=\"none\" stroke=\"black\" d=\"M164.567,-88.9485C158.275,-80.0749 151.462,-70.4648 145.133,-61.5388\"/>\n",
       "<polygon fill=\"black\" stroke=\"black\" points=\"147.886,-59.3701 139.247,-53.2367 142.176,-63.4188 147.886,-59.3701\"/>\n",
       "</g>\n",
       "<!-- 6 -->\n",
       "<g id=\"node7\" class=\"node\"><title>6</title>\n",
       "<polygon fill=\"#399de5\" stroke=\"black\" points=\"277,-53 185,-53 185,-0 277,-0 277,-53\"/>\n",
       "<text text-anchor=\"middle\" x=\"231\" y=\"-37.8\" font-family=\"Times,serif\" font-size=\"14.00\">entropy = 0.0</text>\n",
       "<text text-anchor=\"middle\" x=\"231\" y=\"-22.8\" font-family=\"Times,serif\" font-size=\"14.00\">samples = 1</text>\n",
       "<text text-anchor=\"middle\" x=\"231\" y=\"-7.8\" font-family=\"Times,serif\" font-size=\"14.00\">value = [0, 1]</text>\n",
       "</g>\n",
       "<!-- 4&#45;&gt;6 -->\n",
       "<g id=\"edge6\" class=\"edge\"><title>4&#45;&gt;6</title>\n",
       "<path fill=\"none\" stroke=\"black\" d=\"M203.039,-88.9485C206.952,-80.3494 211.18,-71.0586 215.134,-62.3689\"/>\n",
       "<polygon fill=\"black\" stroke=\"black\" points=\"218.333,-63.7883 219.289,-53.2367 211.962,-60.8891 218.333,-63.7883\"/>\n",
       "</g>\n",
       "<!-- 8 -->\n",
       "<g id=\"node9\" class=\"node\"><title>8</title>\n",
       "<polygon fill=\"#e58139\" stroke=\"black\" points=\"376,-149.5 284,-149.5 284,-96.5 376,-96.5 376,-149.5\"/>\n",
       "<text text-anchor=\"middle\" x=\"330\" y=\"-134.3\" font-family=\"Times,serif\" font-size=\"14.00\">entropy = 0.0</text>\n",
       "<text text-anchor=\"middle\" x=\"330\" y=\"-119.3\" font-family=\"Times,serif\" font-size=\"14.00\">samples = 3</text>\n",
       "<text text-anchor=\"middle\" x=\"330\" y=\"-104.3\" font-family=\"Times,serif\" font-size=\"14.00\">value = [3, 0]</text>\n",
       "</g>\n",
       "<!-- 7&#45;&gt;8 -->\n",
       "<g id=\"edge8\" class=\"edge\"><title>7&#45;&gt;8</title>\n",
       "<path fill=\"none\" stroke=\"black\" d=\"M330,-192.884C330,-182.326 330,-170.597 330,-159.854\"/>\n",
       "<polygon fill=\"black\" stroke=\"black\" points=\"333.5,-159.52 330,-149.52 326.5,-159.52 333.5,-159.52\"/>\n",
       "</g>\n",
       "<!-- 9 -->\n",
       "<g id=\"node10\" class=\"node\"><title>9</title>\n",
       "<polygon fill=\"none\" stroke=\"black\" points=\"486,-157 394,-157 394,-89 486,-89 486,-157\"/>\n",
       "<text text-anchor=\"middle\" x=\"440\" y=\"-141.8\" font-family=\"Times,serif\" font-size=\"14.00\">wind &lt;= 0.5</text>\n",
       "<text text-anchor=\"middle\" x=\"440\" y=\"-126.8\" font-family=\"Times,serif\" font-size=\"14.00\">entropy = 1.0</text>\n",
       "<text text-anchor=\"middle\" x=\"440\" y=\"-111.8\" font-family=\"Times,serif\" font-size=\"14.00\">samples = 2</text>\n",
       "<text text-anchor=\"middle\" x=\"440\" y=\"-96.8\" font-family=\"Times,serif\" font-size=\"14.00\">value = [1, 1]</text>\n",
       "</g>\n",
       "<!-- 7&#45;&gt;9 -->\n",
       "<g id=\"edge9\" class=\"edge\"><title>7&#45;&gt;9</title>\n",
       "<path fill=\"none\" stroke=\"black\" d=\"M365.714,-192.884C375.608,-183.709 386.456,-173.65 396.73,-164.123\"/>\n",
       "<polygon fill=\"black\" stroke=\"black\" points=\"399.136,-166.665 404.089,-157.299 394.376,-161.532 399.136,-166.665\"/>\n",
       "</g>\n",
       "<!-- 10 -->\n",
       "<g id=\"node11\" class=\"node\"><title>10</title>\n",
       "<polygon fill=\"#399de5\" stroke=\"black\" points=\"431,-53 339,-53 339,-0 431,-0 431,-53\"/>\n",
       "<text text-anchor=\"middle\" x=\"385\" y=\"-37.8\" font-family=\"Times,serif\" font-size=\"14.00\">entropy = 0.0</text>\n",
       "<text text-anchor=\"middle\" x=\"385\" y=\"-22.8\" font-family=\"Times,serif\" font-size=\"14.00\">samples = 1</text>\n",
       "<text text-anchor=\"middle\" x=\"385\" y=\"-7.8\" font-family=\"Times,serif\" font-size=\"14.00\">value = [0, 1]</text>\n",
       "</g>\n",
       "<!-- 9&#45;&gt;10 -->\n",
       "<g id=\"edge10\" class=\"edge\"><title>9&#45;&gt;10</title>\n",
       "<path fill=\"none\" stroke=\"black\" d=\"M420.764,-88.9485C415.706,-80.2579 410.236,-70.8608 405.133,-62.0917\"/>\n",
       "<polygon fill=\"black\" stroke=\"black\" points=\"408.034,-60.1189 399.979,-53.2367 401.984,-63.6401 408.034,-60.1189\"/>\n",
       "</g>\n",
       "<!-- 11 -->\n",
       "<g id=\"node12\" class=\"node\"><title>11</title>\n",
       "<polygon fill=\"#e58139\" stroke=\"black\" points=\"541,-53 449,-53 449,-0 541,-0 541,-53\"/>\n",
       "<text text-anchor=\"middle\" x=\"495\" y=\"-37.8\" font-family=\"Times,serif\" font-size=\"14.00\">entropy = 0.0</text>\n",
       "<text text-anchor=\"middle\" x=\"495\" y=\"-22.8\" font-family=\"Times,serif\" font-size=\"14.00\">samples = 1</text>\n",
       "<text text-anchor=\"middle\" x=\"495\" y=\"-7.8\" font-family=\"Times,serif\" font-size=\"14.00\">value = [1, 0]</text>\n",
       "</g>\n",
       "<!-- 9&#45;&gt;11 -->\n",
       "<g id=\"edge11\" class=\"edge\"><title>9&#45;&gt;11</title>\n",
       "<path fill=\"none\" stroke=\"black\" d=\"M459.236,-88.9485C464.294,-80.2579 469.764,-70.8608 474.867,-62.0917\"/>\n",
       "<polygon fill=\"black\" stroke=\"black\" points=\"478.016,-63.6401 480.021,-53.2367 471.966,-60.1189 478.016,-63.6401\"/>\n",
       "</g>\n",
       "</g>\n",
       "</svg>\n"
      ],
      "text/plain": [
       "<graphviz.files.Source at 0x7f905833cda0>"
      ]
     },
     "execution_count": 24,
     "metadata": {},
     "output_type": "execute_result"
    }
   ],
   "source": [
    "graphviz.Source(tree.export_graphviz(dt, out_file=None, \n",
    "                                     feature_names=X_dum.columns,\n",
    "                                     filled=True))"
   ]
  },
  {
   "cell_type": "code",
   "execution_count": 25,
   "metadata": {},
   "outputs": [
    {
     "data": {
      "image/svg+xml": [
       "<?xml version=\"1.0\" encoding=\"UTF-8\" standalone=\"no\"?>\n",
       "<!DOCTYPE svg PUBLIC \"-//W3C//DTD SVG 1.1//EN\"\n",
       " \"http://www.w3.org/Graphics/SVG/1.1/DTD/svg11.dtd\">\n",
       "<!-- Generated by graphviz version 2.38.0 (20140413.2041)\n",
       " -->\n",
       "<!-- Title: %3 Pages: 1 -->\n",
       "<svg width=\"440pt\" height=\"392pt\"\n",
       " viewBox=\"0.00 0.00 439.89 392.00\" xmlns=\"http://www.w3.org/2000/svg\" xmlns:xlink=\"http://www.w3.org/1999/xlink\">\n",
       "<g id=\"graph0\" class=\"graph\" transform=\"scale(1 1) rotate(0) translate(4 388)\">\n",
       "<title>%3</title>\n",
       "<polygon fill=\"white\" stroke=\"none\" points=\"-4,4 -4,-388 435.886,-388 435.886,4 -4,4\"/>\n",
       "<!-- O -->\n",
       "<g id=\"node1\" class=\"node\"><title>O</title>\n",
       "<polygon fill=\"none\" stroke=\"black\" points=\"115,-384 56.3474,-366 115,-348 173.653,-366 115,-384\"/>\n",
       "<text text-anchor=\"middle\" x=\"115\" y=\"-362.3\" font-family=\"Times,serif\" font-size=\"14.00\">outlook?</text>\n",
       "</g>\n",
       "<!-- 1 -->\n",
       "<g id=\"node2\" class=\"node\"><title>1</title>\n",
       "<polygon fill=\"none\" stroke=\"black\" points=\"97,-297 43,-297 43,-261 97,-261 97,-297\"/>\n",
       "<text text-anchor=\"middle\" x=\"70\" y=\"-275.3\" font-family=\"Times,serif\" font-size=\"14.00\">no</text>\n",
       "</g>\n",
       "<!-- O&#45;&gt;1 -->\n",
       "<g id=\"edge1\" class=\"edge\"><title>O&#45;&gt;1</title>\n",
       "<path fill=\"none\" stroke=\"black\" d=\"M105.047,-351.027C100.778,-344.748 95.8895,-337.155 92,-330 87.9234,-322.501 83.994,-314.095 80.6122,-306.347\"/>\n",
       "<polygon fill=\"black\" stroke=\"black\" points=\"83.7763,-304.843 76.6516,-297.001 77.3312,-307.574 83.7763,-304.843\"/>\n",
       "<text text-anchor=\"middle\" x=\"115\" y=\"-318.8\" font-family=\"Times,serif\" font-size=\"14.00\">overcast</text>\n",
       "</g>\n",
       "<!-- H -->\n",
       "<g id=\"node3\" class=\"node\"><title>H</title>\n",
       "<polygon fill=\"none\" stroke=\"black\" points=\"181,-297 114.641,-279 181,-261 247.359,-279 181,-297\"/>\n",
       "<text text-anchor=\"middle\" x=\"181\" y=\"-275.3\" font-family=\"Times,serif\" font-size=\"14.00\">humidity?</text>\n",
       "</g>\n",
       "<!-- O&#45;&gt;H -->\n",
       "<g id=\"edge2\" class=\"edge\"><title>O&#45;&gt;H</title>\n",
       "<path fill=\"none\" stroke=\"black\" d=\"M125.899,-350.964C136.217,-337.676 151.87,-317.516 163.859,-302.076\"/>\n",
       "<polygon fill=\"black\" stroke=\"black\" points=\"166.717,-304.102 170.085,-294.057 161.188,-299.809 166.717,-304.102\"/>\n",
       "<text text-anchor=\"middle\" x=\"185.5\" y=\"-318.8\" font-family=\"Times,serif\" font-size=\"14.00\">not overcast</text>\n",
       "</g>\n",
       "<!-- O2 -->\n",
       "<g id=\"node4\" class=\"node\"><title>O2</title>\n",
       "<polygon fill=\"none\" stroke=\"black\" points=\"110,-210 51.3474,-192 110,-174 168.653,-192 110,-210\"/>\n",
       "<text text-anchor=\"middle\" x=\"110\" y=\"-188.3\" font-family=\"Times,serif\" font-size=\"14.00\">outlook?</text>\n",
       "</g>\n",
       "<!-- H&#45;&gt;O2 -->\n",
       "<g id=\"edge3\" class=\"edge\"><title>H&#45;&gt;O2</title>\n",
       "<path fill=\"none\" stroke=\"black\" d=\"M169.276,-263.964C158.11,-250.596 141.135,-230.275 128.209,-214.799\"/>\n",
       "<polygon fill=\"black\" stroke=\"black\" points=\"130.603,-212.206 121.506,-206.775 125.231,-216.693 130.603,-212.206\"/>\n",
       "<text text-anchor=\"middle\" x=\"162.5\" y=\"-231.8\" font-family=\"Times,serif\" font-size=\"14.00\">high</text>\n",
       "</g>\n",
       "<!-- W -->\n",
       "<g id=\"node5\" class=\"node\"><title>W</title>\n",
       "<polygon fill=\"none\" stroke=\"black\" points=\"233,-210 187.084,-192 233,-174 278.916,-192 233,-210\"/>\n",
       "<text text-anchor=\"middle\" x=\"233\" y=\"-188.3\" font-family=\"Times,serif\" font-size=\"14.00\">wind?</text>\n",
       "</g>\n",
       "<!-- H&#45;&gt;W -->\n",
       "<g id=\"edge4\" class=\"edge\"><title>H&#45;&gt;W</title>\n",
       "<path fill=\"none\" stroke=\"black\" d=\"M190.058,-263.194C198.106,-250.038 209.991,-230.611 219.218,-215.528\"/>\n",
       "<polygon fill=\"black\" stroke=\"black\" points=\"222.329,-217.149 224.562,-206.793 216.358,-213.496 222.329,-217.149\"/>\n",
       "<text text-anchor=\"middle\" x=\"230\" y=\"-231.8\" font-family=\"Times,serif\" font-size=\"14.00\">normal</text>\n",
       "</g>\n",
       "<!-- 2 -->\n",
       "<g id=\"node10\" class=\"node\"><title>2</title>\n",
       "<polygon fill=\"none\" stroke=\"black\" points=\"54,-123 0,-123 0,-87 54,-87 54,-123\"/>\n",
       "<text text-anchor=\"middle\" x=\"27\" y=\"-101.3\" font-family=\"Times,serif\" font-size=\"14.00\">no</text>\n",
       "</g>\n",
       "<!-- O2&#45;&gt;2 -->\n",
       "<g id=\"edge9\" class=\"edge\"><title>O2&#45;&gt;2</title>\n",
       "<path fill=\"none\" stroke=\"black\" d=\"M97.0312,-177.719C84.7282,-165.119 65.941,-145.879 50.9218,-130.498\"/>\n",
       "<polygon fill=\"black\" stroke=\"black\" points=\"53.3869,-128.013 43.8963,-123.303 48.3786,-132.903 53.3869,-128.013\"/>\n",
       "<text text-anchor=\"middle\" x=\"90.5\" y=\"-144.8\" font-family=\"Times,serif\" font-size=\"14.00\">sunny</text>\n",
       "</g>\n",
       "<!-- W2 -->\n",
       "<g id=\"node11\" class=\"node\"><title>W2</title>\n",
       "<polygon fill=\"none\" stroke=\"black\" points=\"118,-123 72.0842,-105 118,-87 163.916,-105 118,-123\"/>\n",
       "<text text-anchor=\"middle\" x=\"118\" y=\"-101.3\" font-family=\"Times,serif\" font-size=\"14.00\">wind?</text>\n",
       "</g>\n",
       "<!-- O2&#45;&gt;W2 -->\n",
       "<g id=\"edge10\" class=\"edge\"><title>O2&#45;&gt;W2</title>\n",
       "<path fill=\"none\" stroke=\"black\" d=\"M111.581,-174.207C112.694,-162.372 114.209,-146.277 115.488,-132.695\"/>\n",
       "<polygon fill=\"black\" stroke=\"black\" points=\"118.997,-132.753 116.45,-122.469 112.028,-132.097 118.997,-132.753\"/>\n",
       "<text text-anchor=\"middle\" x=\"129\" y=\"-144.8\" font-family=\"Times,serif\" font-size=\"14.00\">rainy</text>\n",
       "</g>\n",
       "<!-- 3 -->\n",
       "<g id=\"node6\" class=\"node\"><title>3</title>\n",
       "<polygon fill=\"none\" stroke=\"black\" points=\"252,-123 198,-123 198,-87 252,-87 252,-123\"/>\n",
       "<text text-anchor=\"middle\" x=\"225\" y=\"-101.3\" font-family=\"Times,serif\" font-size=\"14.00\">yes</text>\n",
       "</g>\n",
       "<!-- W&#45;&gt;3 -->\n",
       "<g id=\"edge5\" class=\"edge\"><title>W&#45;&gt;3</title>\n",
       "<path fill=\"none\" stroke=\"black\" d=\"M231.419,-174.207C230.32,-162.525 228.83,-146.692 227.562,-133.222\"/>\n",
       "<polygon fill=\"black\" stroke=\"black\" points=\"231.026,-132.677 226.605,-123.049 224.057,-133.333 231.026,-132.677\"/>\n",
       "<text text-anchor=\"middle\" x=\"243.5\" y=\"-144.8\" font-family=\"Times,serif\" font-size=\"14.00\">False</text>\n",
       "</g>\n",
       "<!-- T -->\n",
       "<g id=\"node7\" class=\"node\"><title>T</title>\n",
       "<polygon fill=\"none\" stroke=\"black\" points=\"351,-123 270.228,-105 351,-87 431.772,-105 351,-123\"/>\n",
       "<text text-anchor=\"middle\" x=\"351\" y=\"-101.3\" font-family=\"Times,serif\" font-size=\"14.00\">temperature?</text>\n",
       "</g>\n",
       "<!-- W&#45;&gt;T -->\n",
       "<g id=\"edge6\" class=\"edge\"><title>W&#45;&gt;T</title>\n",
       "<path fill=\"none\" stroke=\"black\" d=\"M248.426,-179.888C267.789,-165.94 301.297,-141.803 324.729,-124.924\"/>\n",
       "<polygon fill=\"black\" stroke=\"black\" points=\"326.793,-127.751 332.861,-119.066 322.702,-122.071 326.793,-127.751\"/>\n",
       "<text text-anchor=\"middle\" x=\"312\" y=\"-144.8\" font-family=\"Times,serif\" font-size=\"14.00\">True</text>\n",
       "</g>\n",
       "<!-- 4 -->\n",
       "<g id=\"node8\" class=\"node\"><title>4</title>\n",
       "<polygon fill=\"none\" stroke=\"black\" points=\"342,-36 288,-36 288,-0 342,-0 342,-36\"/>\n",
       "<text text-anchor=\"middle\" x=\"315\" y=\"-14.3\" font-family=\"Times,serif\" font-size=\"14.00\">yes</text>\n",
       "</g>\n",
       "<!-- T&#45;&gt;4 -->\n",
       "<g id=\"edge7\" class=\"edge\"><title>T&#45;&gt;4</title>\n",
       "<path fill=\"none\" stroke=\"black\" d=\"M344.397,-88.4097C339.317,-76.4159 332.18,-59.5648 326.211,-45.4699\"/>\n",
       "<polygon fill=\"black\" stroke=\"black\" points=\"329.427,-44.089 322.304,-36.2458 322.981,-46.819 329.427,-44.089\"/>\n",
       "<text text-anchor=\"middle\" x=\"348\" y=\"-57.8\" font-family=\"Times,serif\" font-size=\"14.00\">mild</text>\n",
       "</g>\n",
       "<!-- 5 -->\n",
       "<g id=\"node9\" class=\"node\"><title>5</title>\n",
       "<polygon fill=\"none\" stroke=\"black\" points=\"414,-36 360,-36 360,-0 414,-0 414,-36\"/>\n",
       "<text text-anchor=\"middle\" x=\"387\" y=\"-14.3\" font-family=\"Times,serif\" font-size=\"14.00\">no</text>\n",
       "</g>\n",
       "<!-- T&#45;&gt;5 -->\n",
       "<g id=\"edge8\" class=\"edge\"><title>T&#45;&gt;5</title>\n",
       "<path fill=\"none\" stroke=\"black\" d=\"M357.603,-88.4097C362.683,-76.4159 369.82,-59.5648 375.789,-45.4699\"/>\n",
       "<polygon fill=\"black\" stroke=\"black\" points=\"379.019,-46.819 379.696,-36.2458 372.573,-44.089 379.019,-46.819\"/>\n",
       "<text text-anchor=\"middle\" x=\"383\" y=\"-57.8\" font-family=\"Times,serif\" font-size=\"14.00\">cool</text>\n",
       "</g>\n",
       "<!-- 6 -->\n",
       "<g id=\"node12\" class=\"node\"><title>6</title>\n",
       "<polygon fill=\"none\" stroke=\"black\" points=\"109,-36 55,-36 55,-0 109,-0 109,-36\"/>\n",
       "<text text-anchor=\"middle\" x=\"82\" y=\"-14.3\" font-family=\"Times,serif\" font-size=\"14.00\">no</text>\n",
       "</g>\n",
       "<!-- W2&#45;&gt;6 -->\n",
       "<g id=\"edge12\" class=\"edge\"><title>W2&#45;&gt;6</title>\n",
       "<path fill=\"none\" stroke=\"black\" d=\"M111.729,-89.1941C106.655,-77.2138 99.3788,-60.0332 93.2947,-45.6681\"/>\n",
       "<polygon fill=\"black\" stroke=\"black\" points=\"96.4378,-44.1146 89.315,-36.2714 89.9921,-46.8446 96.4378,-44.1146\"/>\n",
       "<text text-anchor=\"middle\" x=\"116\" y=\"-57.8\" font-family=\"Times,serif\" font-size=\"14.00\">True</text>\n",
       "</g>\n",
       "<!-- 7 -->\n",
       "<g id=\"node13\" class=\"node\"><title>7</title>\n",
       "<polygon fill=\"none\" stroke=\"black\" points=\"181,-36 127,-36 127,-0 181,-0 181,-36\"/>\n",
       "<text text-anchor=\"middle\" x=\"154\" y=\"-14.3\" font-family=\"Times,serif\" font-size=\"14.00\">yes</text>\n",
       "</g>\n",
       "<!-- W2&#45;&gt;7 -->\n",
       "<g id=\"edge11\" class=\"edge\"><title>W2&#45;&gt;7</title>\n",
       "<path fill=\"none\" stroke=\"black\" d=\"M124.271,-89.1941C129.345,-77.2138 136.621,-60.0332 142.705,-45.6681\"/>\n",
       "<polygon fill=\"black\" stroke=\"black\" points=\"146.008,-46.8446 146.685,-36.2714 139.562,-44.1146 146.008,-46.8446\"/>\n",
       "<text text-anchor=\"middle\" x=\"153.5\" y=\"-57.8\" font-family=\"Times,serif\" font-size=\"14.00\">False</text>\n",
       "</g>\n",
       "</g>\n",
       "</svg>\n"
      ],
      "text/plain": [
       "<graphviz.dot.Digraph at 0x7f9029635358>"
      ]
     },
     "execution_count": 25,
     "metadata": {},
     "output_type": "execute_result"
    }
   ],
   "source": [
    "from graphviz import Digraph\n",
    "dot = Digraph(comment='A simple classification tree')\n",
    "\n",
    "dot.node('O', 'outlook?', shape='diamond')\n",
    "dot.node('1', \"no\", shape='rectangle')\n",
    "dot.node('H', 'humidity?', shape='diamond')\n",
    "dot.node('O2', 'outlook?', shape='diamond')\n",
    "dot.node('W', 'wind?', shape='diamond')\n",
    "dot.node('3', 'yes', shape='rectangle')\n",
    "dot.node('T', 'temperature?', shape='diamond')\n",
    "dot.node('4', 'yes', shape='rectangle')\n",
    "dot.node('5', \"no\", shape='rectangle')\n",
    "dot.node('2', \"no\", shape='rectangle')\n",
    "dot.node('W2', 'wind?', shape='diamond')\n",
    "dot.node('6', \"no\", shape='rectangle')\n",
    "dot.node('7', 'yes', shape='rectangle')\n",
    "\n",
    "dot.edge('O', '1', 'overcast')\n",
    "dot.edge('O', 'H', 'not overcast')\n",
    "dot.edge('H', 'O2', 'high')\n",
    "dot.edge('H', 'W', 'normal')\n",
    "dot.edge('W', '3', 'False')\n",
    "dot.edge('W', 'T', 'True')\n",
    "dot.edge('T', '4', 'mild')\n",
    "dot.edge('T', '5', 'cool')\n",
    "dot.edge('O2', '2', 'sunny')\n",
    "dot.edge('O2', 'W2', 'rainy')\n",
    "dot.edge('W2', '7', 'False')\n",
    "dot.edge('W2', '6', 'True')\n",
    "dot"
   ]
  },
  {
   "cell_type": "markdown",
   "metadata": {},
   "source": [
    "### Decision Tree Vocabulary\n",
    "Each subset of data is called a ***node***. The full set of data is called the ***root node***. Each decision is a ***split*** based on some ***split criterion*** that divides a ***parent node*** into ***child nodes***. A node with data from only one class is called a ***pure node***, and a node with no children is called a ***leaf node***."
   ]
  },
  {
   "cell_type": "markdown",
   "metadata": {},
   "source": [
    "## Other Ways to Calculate Impurity\n",
    "\n",
    "### Gini Impurity\n",
    "\n",
    "This is the default for sci-kit learn trees. Again it involves knowing the class frequencies $p_i$ within a set of points.\n",
    "\n",
    "The Gini impurity is the _probability of misclassification_ under the following procedure:\n",
    "* Take a random element from the set.\n",
    "* Label it randomly according to the distribution of labels in the set.\n",
    "\n",
    "The probability of picking a point of class $i$ is $p_i$, and the probability of then giving it the wrong label is $(1-p_i)$, so the total misclassification probability for a set containing $m$ classes is\n",
    "\n",
    "$$\\text{Gini}(S) = \\sum_{i=1}^m p_i(1-p_i) = 1 - \\sum_{i=1}^m p_i^2$$\n",
    "\n",
    "### Information Gain with Gini Impurity\n",
    "\n",
    "$$\\text{IG}(S, C) = \\text{Gini}(S) - \\sum_{C_i \\in C} \\frac{|C_i|}{|S|} \\text{Gini}(C_i)$$"
   ]
  },
  {
   "cell_type": "markdown",
   "metadata": {},
   "source": [
    "## Regression Trees\n",
    "\n",
    "### What if your target $y$ is numerical instead of categorical?\n",
    "\n",
    "For a classification tree, the predicted label is simply the majority class (mode) of the data in the given node. How does prediction work in a regression tree?\n",
    "\n",
    "Information gain, entropy, and Gini impurity are only defined for sets of discrete class labels (and we defined them because we wanted a way to measure how \"mixed up\" a set of class labels is). If we have a set of *numbers* instead, what is an analogous measure for how \"mixed up\" the values are?"
   ]
  },
  {
   "cell_type": "markdown",
   "metadata": {},
   "source": [
    "Variance! For a node $S$ with $N$ data points:\n",
    "$$ \\text{Var}(S) = \\frac{1}{N}\\sum_{i=1}^N (y_i - \\bar{y})^2$$\n",
    "$$ \\bar{y} = \\frac{1}{N}\\sum_{i=1}^N y_i $$\n",
    "\n",
    "$$\\text{reduction_of_variance}(S, C) = \\text{Var}(S) - \\sum_{C_i \\in C} \\frac{|C_i|}{|S|} \\text{Var}(C_i)$$\n"
   ]
  },
  {
   "cell_type": "markdown",
   "metadata": {},
   "source": [
    "Sometimes you'll see this expression written in terms of the *total sum of squared errors (SSE)* of each node instead of the *variance* (the mean squared error):\n",
    "$$ \\begin{align} \\text{reduction_of_variance} & = \\frac{1}{|S|}\\left(\\sum_{i \\in S} (y_i - \\bar{y_S})^2\\right) - \\left(\\frac{|C_L|}{|S|}\\frac{1}{|C_L|}\\sum_{i \\in C_L} (y_i - \\bar{y_L})^2 + \\frac{|C_R|}{|S|}\\frac{1}{|C_R|}\\sum_{i\\in C_R} (y_i - \\bar{y_R})^2\\right) \\\\\n",
    " & = \\frac{1}{|S|}\\left[\\left(\\sum_{i \\in S} (y_i - \\bar{y_S})^2\\right) - \\left(\\sum_{i \\in C_L} (y_i - \\bar{y_L})^2 + \\sum_{i\\in C_R} (y_i - \\bar{y_R})^2\\right)\\right]\n",
    " \\\\ & = \\frac{1}{|S|} \\left[\\text{SSE}_S - \\text{SSE}_{C_L} - \\text{SSE}_{C_R} \\right] \\end{align}$$\n"
   ]
  },
  {
   "cell_type": "markdown",
   "metadata": {},
   "source": [
    "#### example\n",
    "\n",
    " $x_1$ |   $x_2$ |  $y$\n",
    "-------|---------|--------\n",
    " 1     |    1    |   1\n",
    " 0     |    0    |   2\n",
    " 1     |    0    |   3\n",
    " 0     |    1    |   4\n",
    "\n",
    " Prior to the split we guess the mean, 2.5, for everything, giving total squared error:\n",
    " \n",
    " $$ E = (1-2.5)^2 + (2-2.5)^2 + (3-2.5)^2 + (4-2.5)^2  = 5$$\n",
    " After we split on $x_1$ we guess 2 for rows 1 & 3 and 3 for rows 2 & 4:\n",
    " \n",
    " $$ I = 5 - [(1-2)^2 + (3-2)^2 + (2-3)^2 + (4-3)^2] = 5 - 4  = 1 $$"
   ]
  },
  {
   "cell_type": "markdown",
   "metadata": {},
   "source": [
    "## Predicting\n",
    "\n",
    "The final predictions of a decision tree and a regression tree are implemented differently:\n",
    "\n",
    "### Classification\n",
    "\n",
    "* Majority class in leaf node\n",
    "* Better to output the class frequency for every class (that is, label probability if you were drawing data only from that node).\n",
    "\n",
    "### Regression\n",
    "\n",
    "* Mean of values in leaf node\n",
    "* Or fit a line to all the values in a leaf node, so you have a linear regression model for each leaf\n",
    "    * Also called *model trees*"
   ]
  },
  {
   "cell_type": "markdown",
   "metadata": {},
   "source": [
    "## Building a decision tree with recursion\n",
    "\n",
    "Let's review the process of building a decision tree:\n",
    "- find the feature & value that best splits your data into two subsets (nodes), where \"best\" is measured by information gain\n",
    "- then, for each node, find the feature & value that best splits that node into two more nodes\n",
    " - if a node is pure, then it doesn't need to be split\n",
    "- then, for each of those nodes, find the feature & value that best splits that node into two more ...\n",
    "- stop when all your nodes are pure (we'll consider other stopping criteria later)\n",
    "\n",
    "How would we write code to do this? It seems like the main work will be done by one function, `find_best_feature_and_value_to_split_on(X, y)`. First we'll call it on the entire data set, then we'll call it on each child node, then each child node's children, etc., making sure not to call it on a pure node. \n",
    "\n",
    "We can write this as a ***recursive*** function: a function that calls itself. A recursive function must have two cases, and which case is executed depends on the input:\n",
    "- a base case, where the function does not call itself. this is the stopping criterion for execution. an ill-defined base case will result in an infinite loop\n",
    "- a recursive case, where the function somehow splits or reduces its input and calls itself on the split / reduced input. The recursive case will be called again and again until the base case is reached."
   ]
  },
  {
   "cell_type": "markdown",
   "metadata": {},
   "source": [
    "### DT Pseudocode\n",
    "\n",
    "Recursive partitioning algorithm\n",
    "\n",
    "```\n",
    "function build_tree(data):\n",
    "    # base case, stop building tree\n",
    "    If every item in the dataset is in the same class (or if every split has zero information gain):\n",
    "        return a leaf node with the class label (or the majority class label)\n",
    "        \n",
    "    # recursive case, keep splitting stuff\n",
    "    Else:\n",
    "        find the best feature and value to split the data\n",
    "        split the dataset into two subsets, c1 and c2\n",
    "        create a node\n",
    "        set c1 and c2 as the child nodes\n",
    "        node.left_child = build_tree(c1)\n",
    "        node.right_child = build_tree(c2)\n",
    "        return node\n",
    "```\n",
    "Then `build_tree(full_data_set)` will return the root node of the tree (which, through its children and grandchildren, contains the entire tree)."
   ]
  },
  {
   "cell_type": "markdown",
   "metadata": {
    "hideCode": true
   },
   "source": [
    "## Recursion practice \n",
    "\n",
    "Recursion uses the idea of \"divide and conquer\" to solve problems. It divides a complex problem you are working on into smaller sub-problems that are easily solved, rather than trying to solve the complex problem directly.\n",
    "\n",
    "### Three Laws of Recursion\n",
    "\n",
    "1. A recursive algorithm must have a base case.\n",
    "2. A recursive algorithm must change its state and move toward the base case.\n",
    "3. A recursive algorithm must call itself, recursively.\n",
    "    \n",
    "### Example: Factorial\n",
    "\n",
    "$$ f(x) = \\prod_{i=1}^xi $$\n",
    "\n",
    "$$f(x) =\n",
    "\\left\\{\n",
    "\t\\begin{array}{ll}\n",
    "\t\t1  & \\mbox{if } x \\leq 1 \\\\\n",
    "\t\txf(x-1) & \\mbox otherwise\n",
    "\t\\end{array}\n",
    "\\right.\n",
    "$$"
   ]
  },
  {
   "cell_type": "code",
   "execution_count": 25,
   "metadata": {},
   "outputs": [],
   "source": [
    "def factorial(x):\n",
    "    \"\"\"Recursively calculate x!\"\"\"\n",
    "    # base case is when we get to x=0, which is 0! = 1\n",
    "    if x == 0:\n",
    "        return 1\n",
    "    # otherwise, recursive case, notice how we are reducing x\n",
    "    else:\n",
    "        return x * factorial(x-1)"
   ]
  },
  {
   "cell_type": "code",
   "execution_count": 26,
   "metadata": {},
   "outputs": [
    {
     "data": {
      "text/plain": [
       "15511210043330985984000000"
      ]
     },
     "execution_count": 26,
     "metadata": {},
     "output_type": "execute_result"
    }
   ],
   "source": [
    "factorial(25)"
   ]
  },
  {
   "cell_type": "code",
   "execution_count": 27,
   "metadata": {
    "scrolled": true
   },
   "outputs": [
    {
     "data": {
      "text/plain": [
       "788657867364790503552363213932185062295135977687173263294742533244359449963403342920304284011984623904177212138919638830257642790242637105061926624952829931113462857270763317237396988943922445621451664240254033291864131227428294853277524242407573903240321257405579568660226031904170324062351700858796178922222789623703897374720000000000000000000000000000000000000000000000000"
      ]
     },
     "execution_count": 27,
     "metadata": {},
     "output_type": "execute_result"
    }
   ],
   "source": [
    "factorial(200)"
   ]
  },
  {
   "cell_type": "code",
   "execution_count": 28,
   "metadata": {},
   "outputs": [],
   "source": [
    "def power(base, exp):\n",
    "    \"\"\"Recursively caclulate base ** exp\"\"\"\n",
    "    # base case is when exp = 0, base ** 0 = 1\n",
    "    if exp == 0:\n",
    "        return 1\n",
    "    #  otherwise, recursive case, reduce exp\n",
    "    return base * power(base, exp - 1)"
   ]
  },
  {
   "cell_type": "code",
   "execution_count": 29,
   "metadata": {},
   "outputs": [
    {
     "data": {
      "text/plain": [
       "64"
      ]
     },
     "execution_count": 29,
     "metadata": {},
     "output_type": "execute_result"
    }
   ],
   "source": [
    "power(2, 6)"
   ]
  },
  {
   "cell_type": "code",
   "execution_count": 30,
   "metadata": {},
   "outputs": [
    {
     "name": "stdout",
     "output_type": "stream",
     "text": [
      "1.93 µs ± 296 ns per loop (mean ± std. dev. of 7 runs, 20 loops each)\n"
     ]
    }
   ],
   "source": [
    "%%timeit -n 20\n",
    "power(25, 5)"
   ]
  },
  {
   "cell_type": "code",
   "execution_count": 31,
   "metadata": {},
   "outputs": [
    {
     "name": "stdout",
     "output_type": "stream",
     "text": [
      "29.8 ns ± 14.2 ns per loop (mean ± std. dev. of 7 runs, 20 loops each)\n"
     ]
    }
   ],
   "source": [
    "%%timeit -n 20\n",
    "25 ** 5"
   ]
  },
  {
   "cell_type": "markdown",
   "metadata": {},
   "source": [
    "Recursion not always the answer, but useful tool to have."
   ]
  },
  {
   "cell_type": "markdown",
   "metadata": {},
   "source": [
    "### You do, fill in the following function"
   ]
  },
  {
   "cell_type": "code",
   "execution_count": 32,
   "metadata": {},
   "outputs": [],
   "source": [
    "def len_str(s):\n",
    "    \"\"\"Recursively determine the length of a string\"\"\"\n",
    "    # base case, when should you stop?\n",
    "\n",
    "    # recursive case, how can you reduce your problem?\n"
   ]
  },
  {
   "cell_type": "code",
   "execution_count": 33,
   "metadata": {},
   "outputs": [],
   "source": [
    "#test your function\n",
    "len_str('pineapple')"
   ]
  },
  {
   "cell_type": "markdown",
   "metadata": {},
   "source": [
    "## Performance of Decision Trees\n",
    "\n",
    "Class discussion: what are some problems you forsee with this approach?\n",
    "\n",
    "http://www.r2d3.us/visual-intro-to-machine-learning-part-1/\n",
    "\n",
    "Let's go back to the dogs and horses."
   ]
  },
  {
   "cell_type": "code",
   "execution_count": 34,
   "metadata": {},
   "outputs": [],
   "source": [
    "def make_horse_dog_data(n_horses, n_dogs, messiness=1):\n",
    "    \"\"\"Return sample of horse dog data\n",
    "    \n",
    "    Parameters\n",
    "    ----------\n",
    "    n_horses: int\n",
    "        The number of horses\n",
    "    n_dogs: numpy array\n",
    "        The number of dogs\n",
    "    messiness: float\n",
    "        How much to multiple by the standard deviations of the logs (default 1)\n",
    "        \n",
    "    Returns\n",
    "    -------\n",
    "    horse_weight: numpy array\n",
    "        The weights of the horses\n",
    "    horse_height: numpy array\n",
    "        The height of the horses\n",
    "    dog_weight: numpy array\n",
    "        The weight of the dogs\n",
    "    dog_height: numpy array\n",
    "        The height of the dogs\n",
    "    \"\"\"\n",
    "\n",
    "    horse_weight = scs.norm(3,0.15*messiness).rvs(n_horses)\n",
    "    horse_height = horse_weight * 0.4 + scs.norm(-0.5,0.05*messiness).rvs(n_horses)\n",
    "    horse_weight = 10**horse_weight\n",
    "    horse_height = 10**horse_height\n",
    "    dog_weight = np.zeros(n_dogs)\n",
    "    dog_height = np.zeros(n_dogs)\n",
    "\n",
    "    dog_weight[:n_dogs//2] = scs.norm(1.7,0.20*messiness).rvs(n_dogs//2)\n",
    "    dog_weight[n_dogs//2:] = scs.norm(2.5,0.25*messiness).rvs(n_dogs//2)\n",
    "    dog_height[:n_dogs//2] = dog_weight[:n_dogs//2]*0.50 + scs.norm(-0.5,0.2*messiness).rvs(n_dogs//2)\n",
    "    dog_height[n_dogs//2:] = dog_weight[n_dogs//2:]*0.30 + scs.norm(-0.5,0.1*messiness).rvs(n_dogs//2)\n",
    "    dog_weight = 10**dog_weight\n",
    "    dog_height = 10**dog_height\n",
    "    return horse_weight, horse_height, dog_weight, dog_height\n",
    "\n",
    "\n",
    "def prep_data_for_model(horse_weight, horse_height, dog_weight, dog_height):\n",
    "    \"\"\"Return horse dog data in format for kNN classification.\n",
    "    \n",
    "    Parameters\n",
    "    ----------\n",
    "    horse_weight: numpy array\n",
    "        The weights of the horses\n",
    "    horse_height: numpy array\n",
    "        The height of the horses\n",
    "    dog_weight: numpy array\n",
    "        The weight of the dogs\n",
    "    dog_height: numpy array\n",
    "        The height of the dogs\n",
    "        \n",
    "    Returns\n",
    "    -------\n",
    "    X: numpy array, shape = [n_samples, 2]\n",
    "        The features (weight, height) of the data\n",
    "    y: numpy array, shape = [n_samples,]\n",
    "        The labels for our classification (horse=0, dog=1)\n",
    "    \"\"\"\n",
    "    X = np.column_stack((np.concatenate((horse_weight, dog_weight)),\n",
    "                         np.concatenate((horse_height, dog_height))))\n",
    "    y = np.concatenate((np.zeros(horse_weight.shape),\n",
    "                        np.ones(dog_weight.shape)))\n",
    "    return X, y\n",
    "\n",
    "# Function to make getting new samples for model input easier, laziness always wins\n",
    "def get_new_ugly_sample():\n",
    "    \"\"\"Return new sample ready for modeling.\n",
    "    \n",
    "    Combines make_ugly_data and prep_data_for_model, see the docs for those functions\n",
    "    \"\"\"\n",
    "    horse_weight, horse_height, dog_weight, dog_height = make_horse_dog_data(100, 60, messiness=1.5)\n",
    "    X, y = prep_data_for_model(horse_weight, horse_height, dog_weight, dog_height)\n",
    "    return X, y\n",
    "\n",
    "\n",
    "def plot_classification_tree(ax, X, y, model=None):\n",
    "    \"\"\"Plot the horse dog data\"\"\"\n",
    "    ax.plot(X[y==0, 0], X[y==0, 1], 'r.', label='Horse')\n",
    "    ax.plot(X[y==1, 0], X[y==1, 1], 'b.', label='Dog')\n",
    "    ax.set_title(\"Classifying Horses and Dogs with Decision Trees\")\n",
    "    ax.set_xlabel(\"Weight (lbs)\")\n",
    "    ax.set_ylabel(\"Height (ft)\")\n",
    "    ax.legend(loc='upper left')\n",
    "    \n",
    "    if model is None:\n",
    "        model = tree.DecisionTreeClassifier()\n",
    "    model.fit(X, y)\n",
    "    # preserve upper limits\n",
    "    xlim = (0, ax.get_xlim()[1])\n",
    "    ylim = (0, ax.get_ylim()[1])\n",
    "    plot_classification_thresholds(ax, X, y, 0, model.tree_, xlim, ylim)\n",
    "    ax.set_xlim(xlim)\n",
    "    ax.set_ylim(ylim)\n",
    "\n",
    "def plot_classification_thresholds(ax, X, y, inode, tree, xlim, ylim):\n",
    "    threshold = tree.threshold[inode]\n",
    "    if tree.feature[inode] == -2:\n",
    "        color = ['r', 'b'][np.argmax(tree.value[inode])]\n",
    "        ax.add_patch(Rectangle((xlim[0], ylim[0]), xlim[1]-xlim[0], ylim[1]-ylim[0], fc=color, alpha=0.3))\n",
    "        return\n",
    "    if tree.feature[inode] == 0:\n",
    "        ax.plot((threshold, threshold), ylim, 'k', lw=0.5)\n",
    "        plot_classification_thresholds(ax, X, y, tree.children_left[inode],  tree, (xlim[0], threshold), ylim)\n",
    "        plot_classification_thresholds(ax, X, y, tree.children_right[inode], tree, (threshold, xlim[1]), ylim)\n",
    "    else:\n",
    "        ax.plot(xlim, (threshold, threshold), 'k', lw=0.5)\n",
    "        plot_classification_thresholds(ax, X, y, tree.children_left[inode],  tree, xlim, (ylim[0], threshold))\n",
    "        plot_classification_thresholds(ax, X, y, tree.children_right[inode], tree, xlim, (threshold, ylim[1]))        \n"
   ]
  },
  {
   "cell_type": "code",
   "execution_count": 35,
   "metadata": {},
   "outputs": [],
   "source": [
    "X, y = get_new_ugly_sample()"
   ]
  },
  {
   "cell_type": "code",
   "execution_count": 36,
   "metadata": {},
   "outputs": [
    {
     "data": {
      "image/png": "[encoded data removed]",
      "text/plain": [
       "<matplotlib.figure.Figure at 0x7f0755d8b6d8>"
      ]
     },
     "metadata": {},
     "output_type": "display_data"
    }
   ],
   "source": [
    "model = tree.DecisionTreeClassifier()\n",
    "fig, ax = plt.subplots(figsize=(12,8))\n",
    "plot_classification_tree(ax, X, y, model)"
   ]
  },
  {
   "cell_type": "markdown",
   "metadata": {},
   "source": [
    "Clearly there is some risk of overfitting."
   ]
  },
  {
   "cell_type": "markdown",
   "metadata": {},
   "source": [
    "## Combatting overfitting: Pruning\n",
    "\n",
    "We call the idea of modifying a decision tree to improve its test-set performance ***pruning***.\n",
    "\n",
    "There are two approaches: ***pre-pruning*** and ***post-pruning***.\n",
    "\n",
    "### Pre-pruning\n",
    "- minimum leaf size: don't split a node if it has min_leaf_size samples or fewer\n",
    "- maximum tree depth: limit the maximum number of successive splits (for example, if the max_depth is 2, the root node can have grandchildren but not great-grandchildren).\n",
    "- maximum purity: if the purity of a node is above a certain threshold, don't bother splitting it\n",
    "- gain threshold: if the information gain (or reduction in variance, for a regression three) is below a certain threshold, don't bother with the split"
   ]
  },
  {
   "cell_type": "code",
   "execution_count": 37,
   "metadata": {},
   "outputs": [
    {
     "name": "stdout",
     "output_type": "stream",
     "text": [
      "Common Things to Pre-Prune\n",
      "\n",
      "--------------------------\n",
      "\n",
      "* Leaf size: stop splitting when num of samples is small enough\n",
      "\n",
      "* Tree depth: stop splitting at a certain depth\n",
      "\n",
      "* Purity: stop splitting if purity of leaf nodes hits certain threshold\n",
      "\n",
      "* Gain Threshold: stop splitting when info gain fails to meet threshold\n",
      "\n"
     ]
    }
   ],
   "source": [
    "with open('answers/preprune.txt') as f:\n",
    "    for line in f:\n",
    "        print(line)"
   ]
  },
  {
   "cell_type": "markdown",
   "metadata": {},
   "source": [
    "### Post-pruning\n",
    "\n",
    "Build a complete, overfit tree full of pure leaf nodes that only have one or two samples each. Then merge leaf nodes if doing so decreases test-set error\n",
    "\n",
    "#### Pseudocode\n",
    "```\n",
    "function Prune:\n",
    "    if either left or right is not a leaf:\n",
    "        call Prune on those that aren't\n",
    "    if both left and right are (now) leaf nodes:\n",
    "        calculate error associated with merging two leaf nodes\n",
    "        calculate error associated without merging two leaf nodes\n",
    "        if merging results in lower error:\n",
    "            merge the leaf nodes\n",
    "```"
   ]
  },
  {
   "cell_type": "markdown",
   "metadata": {},
   "source": [
    "## Picking the Best Tree\n",
    "\n",
    "* Cross validate!\n",
    "    * Train trees with different hyperparameters, see which performs best on validation set\n",
    "    * No different than any other model"
   ]
  },
  {
   "cell_type": "markdown",
   "metadata": {},
   "source": [
    "## Decision Tree Summary\n",
    "\n",
    "What are the pros and cons?\n",
    "\n",
    "Pros\n",
    " * No feature scaling needed\n",
    " * Model nonlinear relationships\n",
    " * Can do both classification and regression\n",
    " * Robust\n",
    " * Highly interpretable\n",
    "\n",
    "Cons\n",
    " * Can be expensive to train\n",
    " * Need to be tuned so they don't totally overfit\n"
   ]
  },
  {
   "cell_type": "markdown",
   "metadata": {},
   "source": [
    "## The Decision Tree Algorithms\n",
    "\n",
    "There are some famous variants of the decision tree algorithm:\n",
    "\n",
    "### ID3\n",
    "\n",
    "Short for Iterative Dichotomiser 3, the original Decision Tree algorithm developed by Ross Quinlan (who's responsible for a lot of proprietary decision tree algorithms) in the 1980's.\n",
    "\n",
    "* designed for only categorial features\n",
    "* splits categorical features completely\n",
    "* uses entropy and information gain to pick the best split\n",
    "\n",
    "### CART\n",
    "\n",
    "Short for Classification and Regression Tree was invented about the same time as ID3 by Breiman, Friedman, Olshen and Stone. The CART algorithm has the following properties:\n",
    "\n",
    "* handles both categorial and continuous data\n",
    "* always uses binary splits\n",
    "* uses gini impurity to pick the best split\n",
    "\n",
    "Algorithms will be called CART even if they don't follow all of the specifications of the original algorithm.\n",
    "\n",
    "### C4.5\n",
    "\n",
    "This is Quinlan's first improvement on the ID3 algorithm. The main improvements are:\n",
    "\n",
    "* handles continuous data\n",
    "* implements pruning to reduce overfitting\n",
    "\n",
    "### C5.0\n",
    "\n",
    "This is supposedly better, but it's proprietary so we don't have access to the specifics of the improvements."
   ]
  }
 ],
 "metadata": {
  "anaconda-cloud": {},
  "kernelspec": {
   "display_name": "Python 3",
   "language": "python",
   "name": "python3"
  },
  "language_info": {
   "codemirror_mode": {
    "name": "ipython",
    "version": 3
   },
   "file_extension": ".py",
   "mimetype": "text/x-python",
   "name": "python",
   "nbconvert_exporter": "python",
   "pygments_lexer": "ipython3",
   "version": "3.6.4"
  }
 },
 "nbformat": 4,
 "nbformat_minor": 1
}
