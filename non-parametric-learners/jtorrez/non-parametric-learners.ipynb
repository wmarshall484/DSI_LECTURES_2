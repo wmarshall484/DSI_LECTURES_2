{
 "cells": [
  {
   "cell_type": "markdown",
   "metadata": {},
   "source": [
    "# Non-Parametric-Learners\n",
    "\n",
    "## kNN and Decision Trees\n",
    "\n",
    "### Jonathan Torrez\n",
    "#### January 30, 2017"
   ]
  },
  {
   "cell_type": "markdown",
   "metadata": {},
   "source": [
    "## Lecture Objectives [morning-kNN]\n",
    "\n",
    "* **Explain** one analogy demonstrating basic intuition of kNN algorithm\n",
    "* **Describe** difference betwween parametric and non-parametric learning\n",
    "* **Describe** pros and cons of parametric and non-parametric learning\n",
    "* **Implement** pseudocode for kNN algorithm\n",
    "* **Describe** effect of varying k (num_neigbors)\n",
    "    * bias-variance tradeoff\n",
    "* **Describe** pros and cons of kNN algorithm\n",
    "* **Describe** curse of dimensionality\n",
    "* **Explain** one analogy describing curse of dimensionality\n",
    "* **State** common distance metrics used for kNN\n",
    "* **Explain** importance of scaling for kNN\n",
    "* **State** use case for kNN\n",
    "* **Describe** variants of basic kNN algorithm"
   ]
  },
  {
   "cell_type": "code",
   "execution_count": null,
   "metadata": {
    "collapsed": true
   },
   "outputs": [],
   "source": [
    "#imports here"
   ]
  },
  {
   "cell_type": "code",
   "execution_count": null,
   "metadata": {
    "collapsed": true
   },
   "outputs": [],
   "source": []
  },
  {
   "cell_type": "code",
   "execution_count": null,
   "metadata": {
    "collapsed": true
   },
   "outputs": [],
   "source": []
  },
  {
   "cell_type": "code",
   "execution_count": null,
   "metadata": {
    "collapsed": true
   },
   "outputs": [],
   "source": []
  },
  {
   "cell_type": "code",
   "execution_count": null,
   "metadata": {
    "collapsed": true
   },
   "outputs": [],
   "source": []
  },
  {
   "cell_type": "markdown",
   "metadata": {},
   "source": [
    "## Morning Exercise Objectives [morning-kNN]\n",
    "Reinforces the following objectives\n",
    "\n",
    "* **Implement** pseudocode for kNN algorithm\n",
    "    * Writing a class that implements the kNN algorithm\n",
    "* **State** common distance metrics used for kNN\n",
    "    * Writing code that calculates two most common\n",
    "* **Describe** effect of varying k (num_neigbors)\n",
    "    * Cross validating to choose k\n",
    "    * Plotting decision boundary can visualize the effect\n",
    "* **Explain** importance of scaling for kNN\n",
    "    * Plotting decision boundary can visualize the effect"
   ]
  },
  {
   "cell_type": "code",
   "execution_count": null,
   "metadata": {
    "collapsed": true
   },
   "outputs": [],
   "source": []
  },
  {
   "cell_type": "markdown",
   "metadata": {},
   "source": [
    "## Objectives [afternoon-DT]\n",
    "\n",
    "* **Explain** one analogy demonstrating intuition of decision tree algorithm\n",
    "* **Describe** common measures for making splits in a decision tree\n",
    "    * Classification\n",
    "    * Regression\n",
    "* **State** difference between how decision tree and regresssion tree make final predictions\n",
    "* **Demonstrate** calculations to perform a split by hand, given data\n",
    "* **Draw** graph of impurity function\n",
    "* **Demonstrate** concept of recursion and **relate** it to decision trees\n",
    "* **Implement** pseudocode for decision tree algorit\n",
    "* **Analyze** prediction metrics for overfitting\n",
    "* **Explain** methods for picking \"best\" tree\n",
    "* **State** pruning techniques and pros/cons of each\n",
    "    * Pre-pruning\n",
    "    * Post-pruning\n",
    "* **Demonstrate** use of cost penalty for post-pruning\n",
    "* **Describe** pros/cons of decision tree algorithm"
   ]
  },
  {
   "cell_type": "code",
   "execution_count": null,
   "metadata": {
    "collapsed": true
   },
   "outputs": [],
   "source": []
  },
  {
   "cell_type": "code",
   "execution_count": null,
   "metadata": {
    "collapsed": true
   },
   "outputs": [],
   "source": []
  },
  {
   "cell_type": "code",
   "execution_count": null,
   "metadata": {
    "collapsed": true
   },
   "outputs": [],
   "source": []
  },
  {
   "cell_type": "code",
   "execution_count": null,
   "metadata": {
    "collapsed": true
   },
   "outputs": [],
   "source": []
  },
  {
   "cell_type": "code",
   "execution_count": null,
   "metadata": {
    "collapsed": true
   },
   "outputs": [],
   "source": []
  },
  {
   "cell_type": "markdown",
   "metadata": {},
   "source": [
    "## Pair Exercise Objectives [afternoon-DT]\n",
    "Reinforces the following objectives\n",
    "\n",
    "* **Implement** pseudocode for decision tree algorithm\n",
    "    * Writing code that implements CART algorithm\n",
    "* **Explain** one analogy demonstrating intuition of decision tree algorithm\n",
    "* **Describe** common measures for making splits in a decision tree\n",
    "    * Classification\n",
    "        * Writing code to calculate entropy and Gini\n",
    "* **Demonstrate** concept of recursion and **relate** it to decision trees\n",
    "    * * Writing code that implements CART algorithm\n",
    "    \n",
    "#### Extra Credit 1\n",
    "* **State** pruning techniques and pros/cons of each\n",
    "    * Pre-pruning\n",
    "        * Writing code to implement pre-pruning\n",
    "    * Post-pruning\n",
    "        * Writing code to implement post-pruning\n",
    "* **Demonstrate** use of cost penalty for post-pruning\n",
    "        * Writing code to implement post-pruning\n",
    "        \n",
    "#### Extra Credit 2\n",
    "* **Describe** common measures for making splits in a decision tree\n",
    "    * Regression\n",
    "        * Writing code to implement regression tree"
   ]
  },
  {
   "cell_type": "markdown",
   "metadata": {},
   "source": [
    "## Distance Metrics\n",
    "\n",
    "### Euclidean Distance\n",
    "\n",
    "Straight line, L2\n",
    "\n",
    "*Euclidean* distance is the distance metric you've probably heard of before:\n",
    "\n",
    "$$ d(\\mathbf{a}, \\mathbf{b}) = ||\\mathbf{a} - \\mathbf{b}|| \\ = \\sqrt{\\sum (a_i - b_i)^2} $$\n",
    "\n",
    "### Cosine Similarity\n",
    "\n",
    "Angle\n",
    "\n",
    "*Cosine* similarity is another commonly used distance metric. It's measuring the angle between the two vectors.\n",
    "\n",
    "$$ d(\\mathbf{a}, \\mathbf{b}) = \\frac{\\mathbf{a} \\cdot \\mathbf{b}}{||\\mathbf{a}|| ||\\mathbf{b}||} $$\n",
    "\n",
    "### Manhattan Distance\n",
    "\n",
    "City blocks, L1\n",
    "\n",
    "$$\\sum_i |a_i - b_i|$$"
   ]
  },
  {
   "cell_type": "markdown",
   "metadata": {},
   "source": [
    "### Shannon Entropy\n",
    "\n",
    "$$H(X) = E[I(X)] = E[log_2(\\tfrac{1}{P(X)})]$$\n",
    "\n",
    "$$= -E[log_2(P(X))]$$\n",
    "\n",
    "$$H(X) = - \\sum_i p_i log_2(p_i)$$\n"
   ]
  },
  {
   "cell_type": "markdown",
   "metadata": {},
   "source": [
    "### Information Gain\n",
    "\n",
    "$$\\text{IG}(S, C) = H(S) - \\sum_{C_i \\in C} \\frac{|C_i|}{|S|} H(C_i)$$\n"
   ]
  },
  {
   "cell_type": "markdown",
   "metadata": {},
   "source": [
    "### Gini Index\n",
    "\n",
    "$$\\text{Gini}(S) = 1 - \\sum_{i \\in S} p_i^2$$\n",
    "\n",
    "$$\\text{IG}(S, C) = \\text{Gini}(S) - \\sum_{C_i \\in C} \\frac{|C_i|}{|S|} \\text{Gini}(C_i)$$\n"
   ]
  },
  {
   "cell_type": "markdown",
   "metadata": {},
   "source": [
    "### Weighted Voting\n",
    "\n",
    "$$\\frac{1}{d_i}$$"
   ]
  },
  {
   "cell_type": "markdown",
   "metadata": {},
   "source": [
    "### k start\n",
    "\n",
    "$$\\sqrt{n}$$"
   ]
  },
  {
   "cell_type": "markdown",
   "metadata": {},
   "source": [
    "### Hypercube stuff\n",
    "\n",
    "$$ lim_{d \\rightarrow \\infty} \\frac{V_{sphere}(R, d)}{V_{cube}(R, d)} = lim_{d \\rightarrow \\infty} \\frac{\\frac{\\pi^{d/2}R^d}{\\Gamma(d/2+1)}}{(2R)^d} = lim_{d \\rightarrow \\infty} \\frac{\\pi^{d/2}}{2^d\\Gamma(d/2 + 1)} = 0 $$"
   ]
  },
  {
   "cell_type": "code",
   "execution_count": null,
   "metadata": {
    "collapsed": true
   },
   "outputs": [],
   "source": []
  }
 ],
 "metadata": {
  "anaconda-cloud": {},
  "kernelspec": {
   "display_name": "Python [default]",
   "language": "python",
   "name": "python2"
  },
  "language_info": {
   "codemirror_mode": {
    "name": "ipython",
    "version": 2
   },
   "file_extension": ".py",
   "mimetype": "text/x-python",
   "name": "python",
   "nbconvert_exporter": "python",
   "pygments_lexer": "ipython2",
   "version": "2.7.12"
  }
 },
 "nbformat": 4,
 "nbformat_minor": 0
}
