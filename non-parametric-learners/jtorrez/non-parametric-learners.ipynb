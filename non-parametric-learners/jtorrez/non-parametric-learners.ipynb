{
 "cells": [
  {
   "cell_type": "markdown",
   "metadata": {},
   "source": [
    "# Non-Parametric-Learners\n",
    "\n",
    "## kNN and Decision Trees\n",
    "\n",
    "### Jonathan Torrez\n",
    "#### January 30, 2017"
   ]
  },
  {
   "cell_type": "markdown",
   "metadata": {},
   "source": [
    "## Objectives [morning-kNN]\n",
    "\n",
    "* **Explain** one analogy demonstrating basic intuition of kNN algorithm\n",
    "* **Describe** difference betwween parametric and non-parametric learning\n",
    "* **Describe** pros and cons of parametric and non-parametric learning\n",
    "* **Implement** pseudocode for kNN algorithm\n",
    "* **Describe** effect of varying k (num_neigbors)\n",
    "    * bias-variance tradeoff\n",
    "* **Describe** pros and cons of kNN algorithm\n",
    "* **Describe** curse of dimensionality\n",
    "* **Explain** one analogy describing curse of dimensionality\n",
    "* **State** common distance metrics used for kNN\n",
    "* **Explain** importance of scaling for kNN\n",
    "* **State** use case for kNN\n",
    "* **Describe** variants of basic kNN algorithm"
   ]
  },
  {
   "cell_type": "code",
   "execution_count": null,
   "metadata": {
    "collapsed": true
   },
   "outputs": [],
   "source": [
    "#imports here"
   ]
  },
  {
   "cell_type": "markdown",
   "metadata": {},
   "source": [
    "## Objectives [afternoon-DT]\n",
    "\n",
    "* **Explain** one analogy demonstrating intuition of decision tree algorithm\n",
    "* **Describe** common measures for making splits in a decision tree\n",
    "    * Classification\n",
    "    * Regression\n",
    "* **State** difference between how decision tree and regresssion tree make final predictions\n",
    "* **Demonstrate** calculations to perform a split by hand, given data\n",
    "* **Draw** graph of impurity function\n",
    "* **Demonstrate** concept of recursion and **relate** it to decision trees\n",
    "* **Analyze** prediction metrics for overfitting\n",
    "* **Explain** methods for picking \"best\" tree\n",
    "* **State** pruning techniques and pros/cons of each\n",
    "    * Pre-pruning\n",
    "    * Post-pruning\n",
    "* **Demonstrate** use of cost penalty for post-pruning\n",
    "* **Describe** pros/cons of decision tree algorithm"
   ]
  }
 ],
 "metadata": {
  "anaconda-cloud": {},
  "kernelspec": {
   "display_name": "Python [default]",
   "language": "python",
   "name": "python2"
  },
  "language_info": {
   "codemirror_mode": {
    "name": "ipython",
    "version": 2
   },
   "file_extension": ".py",
   "mimetype": "text/x-python",
   "name": "python",
   "nbconvert_exporter": "python",
   "pygments_lexer": "ipython2",
   "version": "2.7.12"
  }
 },
 "nbformat": 4,
 "nbformat_minor": 0
}
