{
 "cells": [
  {
   "cell_type": "markdown",
   "metadata": {},
   "source": [
    "# Hadoop: HDFS and MapReduce\n"
   ]
  },
  {
   "cell_type": "markdown",
   "metadata": {},
   "source": [
    "## Objectives\n",
    "\n",
    "By the end of today, we will be able to:\n",
    "\n",
    "- Explain how HDFS stores large files on a cluster.\n",
    "- Describe MapReduce, and how it relates to Hadoop.\n",
    "- Explain types of problems which benefit from MapReduce.\n",
    "- Write MapReduce (multi-step) jobs in python using MRJob.\n",
    "- Speed up MapReduce using combiners, map-only jobs, and counters. "
   ]
  },
  {
   "cell_type": "markdown",
   "metadata": {},
   "source": [
    "## Agenda\n",
    "\n",
    "Morning\n",
    " * Big data\n",
    " * HDFS\n",
    " * MapReduce\n",
    " * Examples with MRJob\n",
    "\n",
    "Afternoon\n",
    " * Hive & Pig\n",
    " * Combiners\n",
    " * Map-only jobs and counters\n",
    " * Multi-step jobs"
   ]
  },
  {
   "cell_type": "markdown",
   "metadata": {},
   "source": [
    "## How big is big data?\n",
    "\n",
    "\n",
    "|Class  | Size | Tools | Storage | Examples |\n",
    "|-------|------|-------|---------|----------|\n",
    "|Small|< 10 GB|R / Python| Fits in a single machine's memory| Thousands of sales figures|\n",
    "|Medium|10 GB - 1TB|Python w/ indexed files, large database|Fits on a single machine's disk|Millions of web pages|\n",
    "|Large|> 1 TB|Hadoop, Spark, distributed databases| Stored across multiple machines|Billion of web clicks|\n",
    "\n",
    "## Big Data\n",
    "\n",
    "\"Big data is *high volume*, *high velocity* and/or *high variety* information assets that require new forms of processing to enable enhanced decision making, in insight discovery and process optimization.\" – Gartner, Inc.\n",
    "\n",
    "In particular, we often talk about data too large to fit in the memory of a single computer, and that we need to process it faster than we can with a single machine. In this case we need a distributed (as opposed to local) architecture that will spread the data across the disks, memory, and processors of multiple machines.\n",
    "\n",
    "#### Local\n",
    "- Simple to understand\n",
    "- No communications overhead\n",
    "- Limited memory, cpu, disks\n",
    "- Single point of failure?\n",
    "\n",
    "#### Distributed\n",
    "- Harder to program; not appropriate for everything\n",
    "- Communications overhead\n",
    "- More memory, cpus, disks\n",
    "- May be fault tolerant\n",
    "\n",
    "\n",
    "### Big-data problem\n",
    "\n",
    "We have a 100 TB of sales data that looks like this:\n",
    "\n",
    "ID    |Date          |Store  |State |Product   |Amount\n",
    "--    |----          |-----  |----- |-------   |------\n",
    "101   |11/13/2014    |100    |WA    |331       |300.00\n",
    "104   |11/18/2014    |700    |OR    |329       |450.00\n",
    "\n",
    "What are some of the questions we could answer if we could process this huge data set?\n",
    "\n",
    "- How many transactions were there by store, by state?\n",
    "- How many transactions were there by product?\n",
    "- How many transactions were there by week, month, year?\n",
    "- How many transactions were there by store, state, product, month?\n",
    "- How much revenue did we make by store, state?\n",
    "- How much revenue did we make by product?\n",
    "- How much revenue did we make by week, month, year?\n",
    "- How much revenue did we make by store, state, product, month?\n",
    "\n",
    "### Statistical Uses\n",
    "\n",
    "Why are these interesting?\n",
    "\n",
    "- These questions can help us figure out which products are selling\n",
    "  in which markets, at what time of the year.\n",
    "- Using statistical algorithms such as regression or random forests we\n",
    "  can predict sales.\n",
    "\n",
    "What kinds of sales can we predict?\n",
    "  \n",
    "- How much of each product will sell in each store next week.\n",
    "- How much of each product to stock in inventory.\n",
    "- If there are any large-scale trends.\n",
    "- If there are any blips in the data.\n",
    "\n",
    "### Engineering Problem\n",
    "\n",
    "To answer these questions we have to solve two problems:\n",
    "\n",
    "- Store 100 TB of data\n",
    "- Process 100 TB of data\n",
    "\n",
    "Here is our starting point:\n",
    "\n",
    "- To solve this problem we have been provided with 1000 commodity Linux servers.\n",
    "- How can we organize these machines to store and process this data?"
   ]
  },
  {
   "cell_type": "markdown",
   "metadata": {},
   "source": [
    "Hadoop Intro\n",
    "============\n",
    "\n",
    "Hadoop\n",
    "------\n",
    "\n",
    "Hadoop is a cluster operating system. It is made up of:\n",
    "\n",
    "- HDFS, which coordinates storing large amounts of data on a\n",
    "  cluster.\n",
    "\n",
    "- MapReduce which coordinates processing data across a cluster of\n",
    "  machines.\n",
    "\n",
    "Google Papers\n",
    "-------------\n",
    "\n",
    "Hadoop, HDFS, and MapReduce are open source implementations of the\n",
    "ideas in these papers from Google and Stanford.\n",
    "\n",
    "- Paper #1: [2003] The Google File System     \n",
    "    <http://research.google.com/archive/gfs-sosp2003.pdf>\n",
    "\n",
    "- Paper #2: [2004] MapReduce: Simplified Data Processing on Large Clusters    \n",
    "    <http://research.google.com/archive/mapreduce-osdi04.pdf>\n",
    "\n",
    "- Paper #3: [2006] Bigtable: A Distributed Storage System for Structured Data\n",
    "    <http://static.googleusercontent.com/media/research.google.com/en/us/archive/bigtable-osdi06.pdf>\n",
    "\n",
    "\n",
    "Doug Cutting\n",
    "------------\n",
    "\n",
    "<img style=\"width:50%\" src=\"images/doug-cutting.png\"><img style=\"width:50%\" src=\"images/yellow-elephant-hadoop.jpg\">\n",
    "\n",
    "\n",
    "Hadoop Analogy\n",
    "--------------\n",
    "\n",
    "System     |Analogy\n",
    "------     |-------\n",
    "Hadoop     |Cluster Operating System\n",
    "HDFS       |Cluster Disk Drive\n",
    "MapReduce  |Cluster CPU\n",
    "\n",
    "- Hadoop clusters are made up of commodity Linux machines.\n",
    "\n",
    "- Each machine is weak and limited.\n",
    "\n",
    "- Hadoop combines these machines.\n",
    "\n",
    "- The Hadoop cluster is bigger and more powerful than the individual\n",
    "  machines.\n",
    "\n",
    "\n",
    "HDFS\n",
    "----\n",
    "<img src=\"images/hdfs_architecture.png\" width=\"60%\">\n",
    "\n",
    "<br />\n",
    "\n",
    "<img src=\"images/hdfs-data-distribution.png\">\n",
    "\n",
    "HDFS Notes\n",
    "----------\n",
    "\n",
    "- HDFS breaks up large files into 128 MB blocks.\n",
    "\n",
    "- The system stores 3 replicas of each block across the data nodes.\n",
    "\n",
    "- When a machine goes down the name node daemon makes the data node\n",
    "  daemons rereplicate the lost blocks.\n",
    "\n",
    "Pop Quiz\n",
    "--------\n",
    "\n",
    "<details><summary>\n",
    "Q: In this picture how many machines can crash before we lose data?\n",
    "</summary>\n",
    "Any 2 machines can crash without HDFS losing data.\n",
    "</details>\n",
    "\n",
    "<details><summary>\n",
    "Q: If a machines crashes, the system rereplicates the lost blocks, and\n",
    "then the machine rejoins the cluster. What happens to the block replication\n",
    "count?\n",
    "</summary>\n",
    "1. Some blocks will now be over-replicated.\n",
    "<br>\n",
    "2. The NameNode will randomly remove replicas of the over-replicated\n",
    "   blocks to preserve the default 3x replication factor.\n",
    "</details>\n",
    "\n",
    "MapReduce\n",
    "---------\n",
    "\n",
    "Divide and conquer!\n",
    "\n",
    "- Split a task into smaller subtasks.\n",
    "- Solve these independently of one another (in parallel).\n",
    "- Recombine the output of each subtask into a final result.\n",
    "\n",
    "\n",
    "<img src=\"images/map-reduce-key-partition.png\">\n",
    "\n",
    "Map Step\n",
    "---------\n",
    "Mapping is simply the action of taking in some form of data and\n",
    "filtering/transforming it into another form. A mapping step should\n",
    "operate on a single element of our data and output 0 or more\n",
    "possibly transformed versions of that data.\n",
    "\n",
    "Example:\n",
    "Mapper takes in lines from a click through log file and outputs a tuple\n",
    "of the user id and the page id they clicked on from weekdays.\n",
    "\n",
    "By default the \"elements\" that will be passed as single data\n",
    "points from your input partitions to your mapping function in\n",
    "Hadoop are lines from a file.\n",
    "\n",
    "\n",
    "Reduce Step\n",
    "-----------\n",
    "Reducing is the act of taking a bunch of grouped data and\n",
    "combining it in some way. Hadoop will automatically bundle values by their key, and the reducer will be passed a key and a generator of all the values associated with that key.\n",
    "\n",
    "Example:\n",
    "Reducer takes in user ids as keys and an iterable of page ids\n",
    "they’ve gone to and outputs the page id that a user visits most\n",
    "frequently.\n",
    "\n",
    "Frequently the input to our reducers will be coming from a\n",
    "mapper, though this isn’t strictly necessary.\n",
    "\n",
    "\n",
    "MapReduce Notes\n",
    "---------------\n",
    "\n",
    "How does MapReduce work?\n",
    "\n",
    "- The developer provides mapper and reducer code.\n",
    "\n",
    "- The mapper function transforms individual records and attaches a key to each record.\n",
    "\n",
    "- All the records with the same key end up on the same reducer.\n",
    "\n",
    "- For each key the reduce function combines the records with that key.\n",
    "\n",
    "Which machines run mappers and which run reducers?\n",
    "\n",
    "- The JobTracker tries to run the mappers on the machines where the\n",
    "  blocks of input data are located.\n",
    "\n",
    "- This is called data locality--ideally, the mapper does not need to\n",
    "  pull data across the network.\n",
    "\n",
    "- The reducers are assigned randomly to machines which have memory and\n",
    "  CPUs currently available.\n",
    "\n",
    "Pop Quiz\n",
    "--------\n",
    "\n",
    "<details><summary>\n",
    "Q: How many mappers does each job get?\n",
    "</summary>\n",
    "1. One mapper per block of data.\n",
    "<br>\n",
    "2. Large files get more mappers, small files get fewer.\n",
    "</details>\n",
    "\n",
    "<details><summary>\n",
    "Q: How many reducers does each job get?\n",
    "</summary>\n",
    "1. This is configured by the programmer.\n",
    "<br>\n",
    "2. By default each job gets one reducer.\n",
    "</details>\n",
    "\n",
    "<details><summary>\n",
    "Q: Suppose I want to find out how many sales transactions are in a\n",
    "data set for each state. What key should the mapper output?\n",
    "</summary>\n",
    "1. The mapper should output *state* as the key, and *1* as the value.\n",
    "<br>\n",
    "2. This will ensure that all the records for a specific state end up\n",
    "   on the same reducer.\n",
    "<br>\n",
    "3. The reducer can then add up the *1*s to get the total number of\n",
    "   transactions.\n",
    "</details>\n",
    "\n",
    "\n",
    "MapReduce Using MRJob\n",
    "=====================\n",
    "- Hadoop is technically a Java library from Apache. You really don't want to use it in Java (too much boilerplate code required).\n",
    "- MRJob is a Python wrapper around Hadoop created by Yelp (luckily for you). It makes your life a lot easier.\n",
    "<img src=\"images/logo_mrjob.png\"> \n",
    "\n",
    "\n",
    "Sales Data\n",
    "----------\n",
    "\n",
    "Here is the sales data we are going to analyze."
   ]
  },
  {
   "cell_type": "code",
   "execution_count": 1,
   "metadata": {
    "collapsed": false
   },
   "outputs": [
    {
     "name": "stdout",
     "output_type": "stream",
     "text": [
      "Writing sales.txt\n"
     ]
    }
   ],
   "source": [
    "%%writefile sales.txt\n",
    "#ID    Date           Store   State  Product    Amount\n",
    "101    11/13/2014     100     WA     331        300.00\n",
    "104    11/18/2014     700     OR     329        450.00\n",
    "102    11/15/2014     203     CA     321        200.00\n",
    "106    11/19/2014     202     CA     331        330.00\n",
    "103    11/17/2014     101     WA     373        750.00\n",
    "105    11/19/2014     202     CA     321        200.00"
   ]
  },
  {
   "cell_type": "markdown",
   "metadata": {},
   "source": [
    "Transactions By State\n",
    "---------------------\n",
    "\n",
    "Q: How many transactions were there for each state?\n",
    "\n",
    "- Create the `SaleCount.py` file."
   ]
  },
  {
   "cell_type": "code",
   "execution_count": 2,
   "metadata": {
    "collapsed": false
   },
   "outputs": [
    {
     "name": "stdout",
     "output_type": "stream",
     "text": [
      "Writing SaleCount.py\n"
     ]
    }
   ],
   "source": [
    "%%writefile SaleCount.py\n",
    "from mrjob.job import MRJob\n",
    "class SaleCount(MRJob):\n",
    "    def mapper(self, _, line):\n",
    "        if line.startswith('#'):\n",
    "            return\n",
    "        fields = line.split()\n",
    "        state = fields[3]\n",
    "        yield (state, 1)\n",
    "    def reducer(self, state, counts): \n",
    "        yield state, sum(counts)\n",
    "if __name__ == '__main__': \n",
    "    SaleCount.run()"
   ]
  },
  {
   "cell_type": "markdown",
   "metadata": {},
   "source": [
    "- Run it locally."
   ]
  },
  {
   "cell_type": "code",
   "execution_count": 3,
   "metadata": {
    "collapsed": false
   },
   "outputs": [
    {
     "name": "stdout",
     "output_type": "stream",
     "text": [
      "Traceback (most recent call last):\r\n",
      "  File \"SaleCount.py\", line 1, in <module>\r\n",
      "    from mrjob.job import MRJob\r\n",
      "ImportError: No module named mrjob.job\r\n"
     ]
    }
   ],
   "source": [
    "!python SaleCount.py sales.txt > output.txt"
   ]
  },
  {
   "cell_type": "markdown",
   "metadata": {},
   "source": [
    "- Check the output."
   ]
  },
  {
   "cell_type": "code",
   "execution_count": 4,
   "metadata": {
    "collapsed": false
   },
   "outputs": [],
   "source": [
    "!cat output.txt"
   ]
  },
  {
   "cell_type": "markdown",
   "metadata": {},
   "source": [
    "Pop Quiz\n",
    "--------\n",
    "\n",
    "<details><summary>\n",
    "Q: Suppose instead of counting transactions by state we want to count\n",
    "transactions by store. What should we change in the code above?\n",
    "</summary>\n",
    "1. Replace `state = field[3]` with `store = field[2]`\n",
    "<br>\n",
    "2. Replace `yield (state, 1)` with `yield (store, 1)`\n",
    "</details>\n",
    "\n",
    "<details><summary>\n",
    "Q: Suppose instead of counting transactions we want to find total\n",
    "revenue by state. What should we change in the code above?\n",
    "</summary>\n",
    "1. Add `amount = float(fields[5])` \n",
    "<br>\n",
    "2. Replace `yield (state, 1)` with `yield (state, amount)`\n",
    "</details>\n",
    "\n",
    "Using MapReduce For Statistics\n",
    "------------------------------\n",
    "\n",
    "- Using MapReduce we can calculate statistics for any factors.\n",
    "\n",
    "- Our factor or condition becomes the key.\n",
    "\n",
    "- The parameter that we want to calculate the statistic on becomes\n",
    "  the value.\n",
    "\n",
    "- The reducer contains the logic to apply the statistic.\n",
    "\n",
    "- The statistic can be sum, count, average, stdev, etc.\n",
    "\n",
    "Using MRJob for Word Count\n",
    "--------------------------\n",
    "\n",
    "Q: Count the frequency of words using MRJob.\n",
    "\n",
    "- Create an input file."
   ]
  },
  {
   "cell_type": "code",
   "execution_count": 5,
   "metadata": {
    "collapsed": false
   },
   "outputs": [
    {
     "name": "stdout",
     "output_type": "stream",
     "text": [
      "Writing input.txt\n"
     ]
    }
   ],
   "source": [
    "%%writefile input.txt\n",
    "hello world\n",
    "this is the second line\n",
    "this is the third line\n",
    "hello again"
   ]
  },
  {
   "cell_type": "markdown",
   "metadata": {},
   "source": [
    "- Create the `WordCount.py` file."
   ]
  },
  {
   "cell_type": "code",
   "execution_count": 6,
   "metadata": {
    "collapsed": false
   },
   "outputs": [
    {
     "name": "stdout",
     "output_type": "stream",
     "text": [
      "Writing WordCount.py\n"
     ]
    }
   ],
   "source": [
    "%%writefile WordCount.py\n",
    "from mrjob.job import MRJob\n",
    "\n",
    "class WordCount(MRJob):\n",
    "    def mapper(self, _, line):\n",
    "        for word in line.split():\n",
    "            yield (word, 1)\n",
    "    def reducer(self, word, counts): \n",
    "        yield word, sum(counts)\n",
    "if __name__ == '__main__': \n",
    "    WordCount.run()"
   ]
  },
  {
   "cell_type": "markdown",
   "metadata": {},
   "source": [
    "- Run it locally."
   ]
  },
  {
   "cell_type": "code",
   "execution_count": 25,
   "metadata": {
    "collapsed": false
   },
   "outputs": [
    {
     "name": "stdout",
     "output_type": "stream",
     "text": [
      "Traceback (most recent call last):\r\n",
      "  File \"WordCount.py\", line 1, in <module>\r\n",
      "    from mrjob.job import MRJob\r\n",
      "ImportError: No module named mrjob.job\r\n"
     ]
    }
   ],
   "source": [
    "!python WordCount.py input.txt > output.txt"
   ]
  },
  {
   "cell_type": "markdown",
   "metadata": {},
   "source": [
    "- Check the output."
   ]
  },
  {
   "cell_type": "code",
   "execution_count": 23,
   "metadata": {
    "collapsed": true
   },
   "outputs": [],
   "source": [
    "!cat output.txt"
   ]
  },
  {
   "cell_type": "markdown",
   "metadata": {},
   "source": [
    "Word Count Notes\n",
    "----------------\n",
    "\n",
    "- WordCount is used as a standard distributed application\n",
    "\n",
    "- For a large number of words it is not solvable on a single machine\n",
    "\n",
    "- A large corpus can require more storage than the disk on a single\n",
    "  machine\n",
    "\n",
    "- A large vocabulary can require more memory than on a single machine.\n",
    "\n",
    "- WordCount generalizes to other counting applications: such as\n",
    "  counting clicks by category.\n",
    "\n",
    "\n",
    "\n",
    "Afternoon: MapReduce Abstractions\n",
    "======================\n",
    "\n",
    "Why Hive and Pig\n",
    "----------------\n",
    "\n",
    "- Instead of writing MapReduce programs what if we could write SQL.\n",
    "\n",
    "- Hive and Pig let you write MapReduce programs in SQL-like languages.\n",
    "\n",
    "- These are then converted to MapReduce on the fly.\n",
    "\n",
    "- We will look at Spark SQL later, which fills the same niche.\n",
    "\n",
    "Hive Example\n",
    "------------"
   ]
  },
  {
   "cell_type": "raw",
   "metadata": {
    "attributes": {
     "classes": [
      "sql"
     ],
     "id": ""
    },
    "collapsed": true
   },
   "source": [
    "SELECT user.*\n",
    "FROM user\n",
    "WHERE user.active = 1;"
   ]
  },
  {
   "cell_type": "markdown",
   "metadata": {},
   "source": [
    "Hive\n",
    "----\n",
    "\n",
    "- Hive was developed at Facebook.\n",
    "\n",
    "- It translates SQL to generate MapReduce code.\n",
    "\n",
    "- Its dialect of SQL is called HiveQL.\n",
    "\n",
    "- Data scientists can use SQL instead of MapReduce to process data.\n",
    "\n",
    "Pig Example\n",
    "-----------"
   ]
  },
  {
   "cell_type": "raw",
   "metadata": {
    "attributes": {
     "classes": [
      "pig"
     ],
     "id": ""
    },
    "collapsed": true
   },
   "source": [
    "user = LOAD 'user';\n",
    "active_user = FILTER user BY active == 1;\n",
    "dump active_user;"
   ]
  },
  {
   "cell_type": "markdown",
   "metadata": {},
   "source": [
    "Pig\n",
    "---\n",
    "\n",
    "- Pig was developed at Yahoo.\n",
    "\n",
    "- It solves the same problem as Hive.\n",
    "\n",
    "- Pig uses a custom scripting language called PigLatin instead of SQL.\n",
    "\n",
    "- PigLatin resembles scripting languages like Python and Perl.\n",
    "\n",
    "- Pig is frequently used for processing unstructured or badly formed\n",
    "  data.\n",
    "\n",
    "Advanced MapReduce Applications\n",
    "================================\n",
    "\n",
    "Combiner\n",
    "--------\n",
    "\n",
    "- Sometimes the mapper can reduce the records before it sends them out\n",
    "  to the reducer.\n",
    "  \n",
    "- What is the advantage of this? It reduces the disk footprint for the\n",
    "  map output. Also it saves network bandwidth.\n",
    "\n",
    "- The *combiner* if specified is the reducer that the mapper uses to\n",
    "  reduce the data locally.\n",
    "\n",
    "- A reducer can only be used as a combiner if it is commutative and associative.\n",
    "\n",
    "Transactions By State Using Combiner\n",
    "------------------------------------\n",
    "\n",
    "Q: How many transactions were there for each state?\n",
    "\n",
    "- Create the `SaleCountFast.py` file."
   ]
  },
  {
   "cell_type": "code",
   "execution_count": 9,
   "metadata": {
    "collapsed": false
   },
   "outputs": [
    {
     "name": "stdout",
     "output_type": "stream",
     "text": [
      "Writing SaleCountFast.py\n"
     ]
    }
   ],
   "source": [
    "%%writefile SaleCountFast.py\n",
    "from mrjob.job import MRJob\n",
    "class SaleCountFast(MRJob):\n",
    "    def mapper(self, _, line):\n",
    "        if line.startswith('#'):\n",
    "            return\n",
    "        fields = line.split()\n",
    "        state = fields[3]\n",
    "        yield (state, 1)\n",
    "    def combiner(self, state, counts): \n",
    "        yield state, sum(counts)\n",
    "    def reducer(self, state, counts): \n",
    "        yield state, sum(counts)\n",
    "if __name__ == '__main__': \n",
    "    SaleCountFast.run()"
   ]
  },
  {
   "cell_type": "markdown",
   "metadata": {},
   "source": [
    "- Run it locally."
   ]
  },
  {
   "cell_type": "code",
   "execution_count": 10,
   "metadata": {
    "collapsed": false
   },
   "outputs": [
    {
     "name": "stdout",
     "output_type": "stream",
     "text": [
      "Traceback (most recent call last):\r\n",
      "  File \"SaleCountFast.py\", line 1, in <module>\r\n",
      "    from mrjob.job import MRJob\r\n",
      "ImportError: No module named mrjob.job\r\n"
     ]
    }
   ],
   "source": [
    "!python SaleCountFast.py sales.txt > output.txt"
   ]
  },
  {
   "cell_type": "markdown",
   "metadata": {},
   "source": [
    "- Check the output."
   ]
  },
  {
   "cell_type": "code",
   "execution_count": 11,
   "metadata": {
    "collapsed": true
   },
   "outputs": [],
   "source": [
    "!cat output.txt"
   ]
  },
  {
   "cell_type": "markdown",
   "metadata": {},
   "source": [
    "Pop Quiz\n",
    "--------\n",
    "\n",
    "<details><summary>\n",
    "Q: Can we use the reduce function as a combiner if we are calculating\n",
    "the total transaction revenue per state?\n",
    "</summary>\n",
    "Yes.\n",
    "</details>\n",
    "\n",
    "<details><summary>\n",
    "Q: Can we use the reduce function as a combiner if we are calculating\n",
    "the average transaction revenue per state? </summary>\n",
    "1. No we cannot.\n",
    "<br>\n",
    "2. This is because average is non-associative.\n",
    "</details>\n",
    "\n",
    "\n",
    "Using Map-Only Job To Clean Data\n",
    "--------------------------------\n",
    "\n",
    "Q: Write an ETL application that extracts all the `CA` sales records.\n",
    "\n",
    "- This only requires transforming records, without consolidating them.\n",
    "\n",
    "- Any time we don't have to consolidate records we can use a *Map\n",
    "  Only* job.\n",
    "\n",
    "- Create the `SaleExtract.py` file."
   ]
  },
  {
   "cell_type": "code",
   "execution_count": 1,
   "metadata": {
    "collapsed": false
   },
   "outputs": [
    {
     "name": "stdout",
     "output_type": "stream",
     "text": [
      "Overwriting SaleExtract.py\n"
     ]
    }
   ],
   "source": [
    "%%writefile SaleExtract.py\n",
    "from mrjob.job  import MRJob\n",
    "from mrjob.step import MRStep\n",
    "class SaleExtract(MRJob):\n",
    "    def mapper_extract(self, _, line):\n",
    "        if line.startswith('#'): return\n",
    "        fields = line.split()\n",
    "        state = fields[3]\n",
    "        if state != 'CA': return\n",
    "        yield (state, line)\n",
    "    def steps(self):\n",
    "        return [\n",
    "            MRStep(mapper=self.mapper_extract)\n",
    "        ]\n",
    "if __name__ == '__main__': \n",
    "    SaleExtract.run()"
   ]
  },
  {
   "cell_type": "markdown",
   "metadata": {},
   "source": [
    "- Run it locally."
   ]
  },
  {
   "cell_type": "code",
   "execution_count": 2,
   "metadata": {
    "collapsed": false
   },
   "outputs": [
    {
     "name": "stdout",
     "output_type": "stream",
     "text": [
      "No configs found; falling back on auto-configuration\r\n",
      "Creating temp directory /tmp/SaleExtract.markcatalysis.20170425.211429.592288\r\n",
      "Running step 1 of 1...\r\n",
      "Streaming final output from /tmp/SaleExtract.markcatalysis.20170425.211429.592288/output...\r\n",
      "Removing temp directory /tmp/SaleExtract.markcatalysis.20170425.211429.592288...\r\n"
     ]
    }
   ],
   "source": [
    "!python SaleExtract.py sales.txt > output.txt"
   ]
  },
  {
   "cell_type": "markdown",
   "metadata": {},
   "source": [
    "- Check the output."
   ]
  },
  {
   "cell_type": "code",
   "execution_count": 3,
   "metadata": {
    "collapsed": false
   },
   "outputs": [
    {
     "name": "stdout",
     "output_type": "stream",
     "text": [
      "\"CA\"\t\"106    11/19/2014     202     CA     331        330.00\"\r\n",
      "\"CA\"\t\"105    11/19/2014     202     CA     321        200.00\"\r\n",
      "\"CA\"\t\"102    11/15/2014     203     CA     321        200.00\"\r\n"
     ]
    }
   ],
   "source": [
    "!cat output.txt"
   ]
  },
  {
   "cell_type": "markdown",
   "metadata": {},
   "source": [
    "Map-Only Applications\n",
    "---------------------\n",
    "\n",
    "Here are some other applications of map-only jobs.\n",
    "\n",
    "- Web-crawler that finds out how many jobs are on Craigslist for a\n",
    "  particular keyword.\n",
    "\n",
    "- Application that maps property addresses to property back-taxes by\n",
    "  scraping county databases.\n",
    "\n",
    "Pop Quiz\n",
    "--------\n",
    "\n",
    "<details><summary>\n",
    "Q: Do map-only applications shuffle and sort the data?\n",
    "</summary>\n",
    "1. No they do not shuffle and sort the data.\n",
    "<br>\n",
    "2. Map-only jobs immediately output the data after it is transformed\n",
    "   by map.\n",
    "</details>\n",
    "\n",
    "Counters\n",
    "--------\n",
    "\n",
    "Q: Count how many transactions there were in California and Washington.\n",
    "\n",
    "- One way to solve this problem is to use a MapReduce application we\n",
    "  did before.\n",
    "\n",
    "- However, if we have a fixed number of categories we want to count we\n",
    "  can use counters.\n",
    "\n",
    "- If we use counters we no longer need a reduce phase, and can use a\n",
    "  map-only job.\n",
    "  \n",
    "- MapReduce has a limit of 120 counters.\n",
    "\n",
    "- So this cannot be used to count frequencies for an unknown number of\n",
    "  categories.\n",
    "\n",
    "- Create the `SaleCount1.py` file."
   ]
  },
  {
   "cell_type": "code",
   "execution_count": 7,
   "metadata": {
    "collapsed": false
   },
   "outputs": [
    {
     "name": "stdout",
     "output_type": "stream",
     "text": [
      "Overwriting SaleCount1.py\n"
     ]
    }
   ],
   "source": [
    "%%writefile SaleCount1.py\n",
    "from mrjob.job  import MRJob\n",
    "from mrjob.step import MRStep\n",
    "class SaleCount1(MRJob):\n",
    "    def mapper_count(self, _, line):\n",
    "        if line.startswith('#'): return\n",
    "        fields = line.split()\n",
    "        state = fields[3]\n",
    "        if state == 'CA':\n",
    "            self.increment_counter('State', 'CA', 1)\n",
    "        if state == 'WA':\n",
    "            self.increment_counter('State', 'WA', 1)\n",
    "    def steps(self):\n",
    "        return [\n",
    "            MRStep(mapper=self.mapper_count)\n",
    "        ]\n",
    "if __name__ == '__main__': \n",
    "    SaleCount1.run()"
   ]
  },
  {
   "cell_type": "markdown",
   "metadata": {},
   "source": [
    "- Run it locally."
   ]
  },
  {
   "cell_type": "code",
   "execution_count": 8,
   "metadata": {
    "collapsed": false
   },
   "outputs": [
    {
     "name": "stdout",
     "output_type": "stream",
     "text": [
      "No configs found; falling back on auto-configuration\r\n",
      "Creating temp directory /tmp/SaleCount1.markcatalysis.20170425.211448.843577\r\n",
      "Running step 1 of 1...\r\n",
      "Counters: 2\r\n",
      "\tState\r\n",
      "\t\tCA=3\r\n",
      "\t\tWA=2\r\n",
      "Streaming final output from /tmp/SaleCount1.markcatalysis.20170425.211448.843577/output...\r\n",
      "Removing temp directory /tmp/SaleCount1.markcatalysis.20170425.211448.843577...\r\n"
     ]
    }
   ],
   "source": [
    "!python SaleCount1.py sales.txt > output.txt"
   ]
  },
  {
   "cell_type": "markdown",
   "metadata": {},
   "source": [
    "- There should not be any output. The counter values were printed when\n",
    "  the job was executed."
   ]
  },
  {
   "cell_type": "code",
   "execution_count": 9,
   "metadata": {
    "collapsed": true
   },
   "outputs": [],
   "source": [
    "!cat output.txt"
   ]
  },
  {
   "cell_type": "markdown",
   "metadata": {},
   "source": [
    "Counter Notes\n",
    "-------------\n",
    "\n",
    "- Counters can be incremented in both the map and the reduce phase.\n",
    "\n",
    "- Counter values from all the machines participating in a MapReduce\n",
    "  job are aggregated to compute job-wide value.\n",
    "\n",
    "- Counter values are printed out when the job completes and are also\n",
    "  accessible on the Hadoop Web UI that stores job history.\n",
    "\n",
    "- Counters are have a group name and a counter name.\n",
    "\n",
    "- Group names help organize counters.\n",
    "\n",
    "- Here is how we increment a counter:\n",
    "  `self.increment_counter(group_name, counter_name, 1)`\n",
    "\n",
    "Pop Quiz\n",
    "--------\n",
    "\n",
    "<details><summary>\n",
    "Q: SalesStrategy Inc employs 100,000 part-time sales partners to sell\n",
    "their products. The salespeople get monthly bonuses based on the\n",
    "number of transactions they ring up. Should SalesStrategy use counters\n",
    "to calculate these bonuses? Why or why not?\n",
    "</summary>\n",
    "1. Instead of counters they should use a regular MapReduce counting\n",
    "   application.\n",
    "<br>\n",
    "2. Counters are only appropriate if the number of categories is fixed\n",
    "   and is about 100.\n",
    "<br>\n",
    "3. While the Hadoop admin can configure the system to support more\n",
    "   counters than 120, this increases intra-cluster network traffic,\n",
    "   and is not recommended.\n",
    "</details>\n",
    "\n",
    "Map-Only Job Observations\n",
    "-------------------------\n",
    "\n",
    "- Map-only jobs are the multi-machine equivalent of the\n",
    "  multi-threading and multi-processing exercises we did earlier.\n",
    "\n",
    "- Like our multi-threading and multi-processing applications, map-only\n",
    "  jobs break up a larger problem into smaller chunks and then work on\n",
    "  a particular chunk.\n",
    "\n",
    "- Any time we have a problem where we don't need to reconcile or\n",
    "  consolidate records we should use map-only jobs.\n",
    "\n",
    "- Map-only jobs are much faster than regular MapReduce jobs.\n",
    "\n",
    "Pop Quiz\n",
    "--------\n",
    "\n",
    "<details><summary>\n",
    "Q: Why are map-only jobs faster than regular MapReduce jobs?\n",
    "</summary>\n",
    "1. The map phase is perfectly parallelizable.\n",
    "<br>\n",
    "2. Map-only jobs don't have a shuffle-and-sort or reduce phase, which\n",
    "   tend to be the bottleneck for regular MapReduce jobs.\n",
    "</details>\n",
    "\n",
    "Chaining Jobs Together\n",
    "----------------------\n",
    "\n",
    "Q: Find word frequencies and sort the result by frequency. \n",
    "\n",
    "- This requires running two MapReduce jobs.\n",
    "\n",
    "- The first job will calculate word frequencies.\n",
    "\n",
    "- The second job will sort them.\n",
    "\n",
    "- This can be accomplished in MRJob by chaining multiple jobs together\n",
    "  as steps.\n",
    "\n",
    "- Create `MostUsedWords.py`."
   ]
  },
  {
   "cell_type": "code",
   "execution_count": 10,
   "metadata": {
    "collapsed": false
   },
   "outputs": [
    {
     "name": "stdout",
     "output_type": "stream",
     "text": [
      "Overwriting MostUsedWords.py\n"
     ]
    }
   ],
   "source": [
    "%%writefile MostUsedWords.py\n",
    "from mrjob.job  import MRJob\n",
    "from mrjob.step import MRStep\n",
    "import re\n",
    "\n",
    "WORD_RE = re.compile(r\"[\\w']+\")\n",
    "\n",
    "class MostUsedWords(MRJob):\n",
    "\n",
    "    def mapper_get_words(self, _, line):\n",
    "        for word in WORD_RE.findall(line):\n",
    "            yield (word.lower(), 1)\n",
    "\n",
    "    def reducer_count_words(self, word, counts):\n",
    "        count_sum = '{cnt:03d}'.format(cnt=sum(counts))\n",
    "        yield (count_sum, word)\n",
    "\n",
    "    def reducer_sort(self, count, words):\n",
    "        for word in words:\n",
    "            yield (word, count)\n",
    "\n",
    "    def steps(self):\n",
    "        return [\n",
    "            MRStep(mapper=self.mapper_get_words,\n",
    "                   reducer=self.reducer_count_words),\n",
    "            MRStep(reducer=self.reducer_sort)\n",
    "        ]\n",
    "\n",
    "if __name__ == '__main__':\n",
    "    MostUsedWords.run()"
   ]
  },
  {
   "cell_type": "markdown",
   "metadata": {},
   "source": [
    "- Run it locally."
   ]
  },
  {
   "cell_type": "code",
   "execution_count": 11,
   "metadata": {
    "collapsed": false
   },
   "outputs": [
    {
     "name": "stdout",
     "output_type": "stream",
     "text": [
      "No configs found; falling back on auto-configuration\r\n",
      "Creating temp directory /tmp/MostUsedWords.markcatalysis.20170425.211452.325626\r\n",
      "Running step 1 of 2...\r\n",
      "Running step 2 of 2...\r\n",
      "Streaming final output from /tmp/MostUsedWords.markcatalysis.20170425.211452.325626/output...\r\n",
      "Removing temp directory /tmp/MostUsedWords.markcatalysis.20170425.211452.325626...\r\n"
     ]
    }
   ],
   "source": [
    "!python MostUsedWords.py input.txt > output.txt"
   ]
  },
  {
   "cell_type": "markdown",
   "metadata": {},
   "source": [
    "- Check the output."
   ]
  },
  {
   "cell_type": "code",
   "execution_count": 12,
   "metadata": {
    "collapsed": false
   },
   "outputs": [
    {
     "name": "stdout",
     "output_type": "stream",
     "text": [
      "\"again\"\t\"001\"\r\n",
      "\"second\"\t\"001\"\r\n",
      "\"third\"\t\"001\"\r\n",
      "\"world\"\t\"001\"\r\n",
      "\"hello\"\t\"002\"\r\n",
      "\"is\"\t\"002\"\r\n",
      "\"line\"\t\"002\"\r\n",
      "\"the\"\t\"002\"\r\n",
      "\"this\"\t\"002\"\r\n"
     ]
    }
   ],
   "source": [
    "!cat output.txt"
   ]
  },
  {
   "cell_type": "markdown",
   "metadata": {},
   "source": [
    "MapReduce Streaming API\n",
    "-----------------------\n",
    "\n",
    "- Why are we left-padding the amount with zeros? \n",
    "\n",
    "- MRJob is a wrapper around the MapReduce Streaming API.\n",
    "\n",
    "- The MapReduce Streaming API converts all intermediate types to strings for comparison.\n",
    "\n",
    "- So `123` will be smaller than `59` because it starts with `1` which\n",
    "  is less than `5`.\n",
    "  \n",
    "- To get around this in MRJob if we want our data to sort numerically\n",
    "  we have to left-pad the numbers with zeros.\n",
    "\n",
    "Pop Quiz\n",
    "--------\n",
    "\n",
    "<details><summary>\n",
    "Q: How can we find out which state had the highest sales total revenue?\n",
    "</summary>\n",
    "1. We can chain together two jobs.\n",
    "<br>\n",
    "2. The first one calculates revenue per state.\n",
    "<br>\n",
    "3. The second sorts the result of the first step by revenue.\n",
    "</details>\n",
    "\n",
    "Sorting Sales Data\n",
    "------------------\n",
    "\n",
    "Q: Find the total sales per state and then sort by sales to find the\n",
    "state with the highest sales total.\n",
    "\n",
    "- We can use a multi-step MRJob to do this.\n",
    "\n",
    "- Sort sales data using two steps."
   ]
  },
  {
   "cell_type": "code",
   "execution_count": 13,
   "metadata": {
    "collapsed": false
   },
   "outputs": [
    {
     "name": "stdout",
     "output_type": "stream",
     "text": [
      "Overwriting SaleCount.py\n"
     ]
    }
   ],
   "source": [
    "%%writefile SaleCount.py\n",
    "from mrjob.job  import MRJob\n",
    "from mrjob.step import MRStep\n",
    "import numpy as np\n",
    "class SaleCount(MRJob):\n",
    "   \n",
    "    def mapper1(self, _, line):\n",
    "        if line.startswith('#'):\n",
    "            return\n",
    "        fields = line.split()\n",
    "        amount = float(fields[5])\n",
    "        state = fields[3]\n",
    "        yield (state, amount)\n",
    "\n",
    "    def reducer1(self, state, amounts):\n",
    "        amount = '{amt:07.2f}'.format(amt=sum(amounts)) \n",
    "        yield (state, amount)\n",
    "    \n",
    "    def mapper2(self, state, amount):\n",
    "        yield (amount, state)\n",
    "\n",
    "    def reducer2(self, amount, states):\n",
    "        for state in states: \n",
    "            yield (state, amount)\n",
    "    \n",
    "    def steps(self):\n",
    "        return [\n",
    "            MRStep(mapper=self.mapper1, reducer=self.reducer1),\n",
    "            MRStep(mapper=self.mapper2, reducer=self.reducer2)\n",
    "        ]\n",
    "if __name__ == '__main__': \n",
    "    SaleCount.run()"
   ]
  },
  {
   "cell_type": "markdown",
   "metadata": {},
   "source": [
    "- Run it locally."
   ]
  },
  {
   "cell_type": "code",
   "execution_count": 14,
   "metadata": {
    "collapsed": false
   },
   "outputs": [
    {
     "name": "stdout",
     "output_type": "stream",
     "text": [
      "No configs found; falling back on auto-configuration\n",
      "Creating temp directory /tmp/SaleCount.markcatalysis.20170425.211457.348257\n",
      "Running step 1 of 2...\n",
      "Running step 2 of 2...\n",
      "Streaming final output from /tmp/SaleCount.markcatalysis.20170425.211457.348257/output...\n",
      "Removing temp directory /tmp/SaleCount.markcatalysis.20170425.211457.348257...\n"
     ]
    }
   ],
   "source": [
    "!python SaleCount.py sales.txt > output.txt"
   ]
  },
  {
   "cell_type": "markdown",
   "metadata": {},
   "source": [
    "- Check the output."
   ]
  },
  {
   "cell_type": "code",
   "execution_count": 15,
   "metadata": {
    "collapsed": false
   },
   "outputs": [
    {
     "name": "stdout",
     "output_type": "stream",
     "text": [
      "\"WA\"\t\"1050.00\"\r\n",
      "\"OR\"\t\"0450.00\"\r\n",
      "\"CA\"\t\"0730.00\"\r\n"
     ]
    }
   ],
   "source": [
    "!cat output.txt"
   ]
  },
  {
   "cell_type": "code",
   "execution_count": null,
   "metadata": {
    "collapsed": true
   },
   "outputs": [],
   "source": []
  }
 ],
 "metadata": {
  "anaconda-cloud": {},
  "kernelspec": {
   "display_name": "Python 2",
   "language": "python",
   "name": "python2"
  },
  "language_info": {
   "codemirror_mode": {
    "name": "ipython",
    "version": 2
   },
   "file_extension": ".py",
   "mimetype": "text/x-python",
   "name": "python",
   "nbconvert_exporter": "python",
   "pygments_lexer": "ipython2",
   "version": "2.7.13"
  }
 },
 "nbformat": 4,
 "nbformat_minor": 0
}
