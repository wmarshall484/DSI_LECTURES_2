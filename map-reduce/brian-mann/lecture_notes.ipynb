{
 "cells": [
  {
   "cell_type": "markdown",
   "metadata": {},
   "source": [
    "<!-- \n",
    "The ipynb was auto-generated from markdown using notedown.\n",
    "Instead of modifying the ipynb file modify the markdown source. \n",
    "-->\n",
    "\n",
    "<h1 class=\"tocheading\">Hadoop and MapReduce</h1>\n",
    "<div id=\"toc\"></div>\n",
    "\n",
    "Objectives\n",
    "----------\n",
    "\n",
    "By the end of this class, we will be able to:\n",
    "\n",
    "- Explain how HDFS stores large files on a cluster so that they are\n",
    "  resilient to disk and machine failure, using blocks and replication.\n",
    "\n",
    "- Explain how it enables MapReduce processes Big Data stored on HDFS\n",
    "\n",
    "- Decide when Hadoop is an appropriate solution for our data\n",
    "  processing needs.\n",
    "\n",
    "- Create MapReduce jobs using MRJob to process large data sets. \n",
    "\n",
    "- Chain together multi-step MapReduce jobs to translate sophisticated\n",
    "  sequential algorithms to work on distributed systems.\n",
    "\n",
    "- Speed up MapReduce jobs using map-only jobs and counters. "
   ]
  },
  {
   "cell_type": "markdown",
   "metadata": {},
   "source": [
    "<!-- \n",
    "The ipynb was auto-generated from markdown using notedown.\n",
    "Instead of modifying the ipynb file modify the markdown source. \n",
    "-->\n",
    "\n",
    "<h1 class=\"tocheading\">Hadoop and MapReduce</h1>\n",
    "<div id=\"toc\"></div>\n",
    "\n",
    "Why Hadoop\n",
    "==========\n",
    "\n",
    "Big Data Problem\n",
    "----------------\n",
    "\n",
    "We have a 100 TB of sales data that looks like this:\n",
    "\n",
    "ID    |Date          |Store  |State |Product   |Amount\n",
    "--    |----          |-----  |----- |-------   |------\n",
    "101   |11/13/2014    |100    |WA    |331       |300.00\n",
    "104   |11/18/2014    |700    |OR    |329       |450.00\n",
    "\n",
    "What If\n",
    "-------\n",
    "\n",
    "What are some of the questions we could answer if we could process this huge data set?\n",
    "\n",
    "- How many transactions were there by store, by state?\n",
    "\n",
    "- How many transactions were there by product?\n",
    "\n",
    "- How many transactions were there by week, month, year?\n",
    "\n",
    "- How many transactions were there by store, state, product, month?\n",
    "\n",
    "- How much revenue did we make by store, state?\n",
    "\n",
    "- How much revenue did we make by product?\n",
    "\n",
    "- How much revenue did we make by week, month, year?\n",
    "\n",
    "- How much revenue did we make by store, state, product, month?\n",
    "\n",
    "Statistical Uses\n",
    "----------------\n",
    "\n",
    "Why are these interesting?\n",
    "\n",
    "- These questions can help us figure out which products are selling\n",
    "  in which markets, at what time of the year.\n",
    "\n",
    "- Using statistical algorithms such as regression or random forests we\n",
    "  can predict sales.\n",
    "\n",
    "What kinds of sales can we predict?\n",
    "  \n",
    "- How much of each product will sell in each store next week.\n",
    "\n",
    "- How much of each product to stock in inventory.\n",
    "\n",
    "- If there are any large-scale trends.\n",
    "\n",
    "- If there are any blips in the data.\n",
    "\n",
    "Engineering Problem\n",
    "-------------------\n",
    "\n",
    "To answer these questions we have to solve two problems:\n",
    "\n",
    "- Store 100 TB of data\n",
    "\n",
    "- Process 100 TB of data\n",
    "\n",
    "Here is our starting point:\n",
    "\n",
    "- To solve this problem we have been provided with 1000 commodity Linux servers.\n",
    "\n",
    "- How can we organize these machines to store and process this data.\n",
    "\n",
    "\n",
    "Hadoop Intro\n",
    "============\n",
    "\n",
    "Hadoop\n",
    "------\n",
    "\n",
    "Hadoop is a cluster operating system. It is made up of:\n",
    "\n",
    "- HDFS, which coordinates storing large amounts of data on a\n",
    "  cluster.\n",
    "\n",
    "- MapReduce which coordinates processing data across a cluster of\n",
    "  machines.\n",
    "\n",
    "Google Papers\n",
    "-------------\n",
    "\n",
    "Hadoop, HDFS, and MapReduce are open source implementations of the\n",
    "ideas in these papers from Google and Stanford.\n",
    "\n",
    "- Paper #1: [2003] The Google File System     \n",
    "    <http://research.google.com/archive/gfs-sosp2003.pdf>\n",
    "\n",
    "- Paper #2: [2004] MapReduce: Simplified Data Processing on Large Clusters    \n",
    "    <http://research.google.com/archive/mapreduce-osdi04.pdf>\n",
    "\n",
    "- Paper #3: [2006] Bigtable: A Distributed Storage System for Structured Data\n",
    "    <http://static.googleusercontent.com/media/research.google.com/en/us/archive/bigtable-osdi06.pdf>\n",
    "\n",
    "\n",
    "Hadoop Analogy\n",
    "--------------\n",
    "\n",
    "System     |Analogy\n",
    "------     |-------\n",
    "Hadoop     |Cluster Operating System\n",
    "HDFS       |Cluster Disk Drive\n",
    "MapReduce  |Cluster CPU\n",
    "\n",
    "- Hadoop clusters are made up of commodity Linux machines.\n",
    "\n",
    "- Each machine is weak and limited.\n",
    "\n",
    "- Hadoop combines these machines.\n",
    "\n",
    "- The Hadoop cluster is bigger and more powerful than the individual\n",
    "  machines.\n",
    "\n",
    "\n",
    "HDFS\n",
    "----\n",
    "\n",
    "<img src=\"images/hdfs-data-distribution.png\">\n",
    "\n",
    "HDFS Notes\n",
    "----------\n",
    "\n",
    "- HDFS breaks up large files into 128 MB blocks.\n",
    "\n",
    "- The system stores 3 replicas of each block.\n",
    "\n",
    "- When a machine goes down the NameNode daemon makes the DataNode\n",
    "  daemons rereplicate the lost blocks.\n",
    "\n",
    "Pop Quiz\n",
    "--------\n",
    "\n",
    "<details><summary>\n",
    "Q: In this picture how many machines can crash before we lose data?\n",
    "</summary>\n",
    "Any 2 machines can crash without HDFS losing data.\n",
    "</details>\n",
    "\n",
    "<details><summary>\n",
    "Q: If a machines crashes, the system rereplicates the lost blocks, and\n",
    "then the machine rejoins the cluster. What happens to the block replication\n",
    "count?\n",
    "</summary>\n",
    "1. Some blocks will now be over-replicated.\n",
    "<br>\n",
    "2. The NameNode will randomly remove replicas of the over-replicated\n",
    "   blocks to preserve the default 3x replication factor.\n",
    "</details>\n",
    "\n",
    "MapReduce\n",
    "---------\n",
    "\n",
    "<img src=\"images/map-reduce-key-partition.png\">\n",
    "\n",
    "MapReduce Notes\n",
    "---------------\n",
    "\n",
    "How does MapReduce work?\n",
    "\n",
    "- The developer provides mapper and reducer code.\n",
    "\n",
    "- The mapper function transforms individual records and attaches a key to each record.\n",
    "\n",
    "- All the records with the same key end up on the same reducer.\n",
    "\n",
    "- For each key the reduce function combines the records with that key.\n",
    "\n",
    "Which machines run mappers and which run reducers?\n",
    "\n",
    "- The JobTracker tries to run the mappers on the machines where the\n",
    "  blocks of input data are located.\n",
    "\n",
    "- This is called data locality--ideally, the mapper does not need to\n",
    "  pull data across the network.\n",
    "\n",
    "- The reducers are assigned randomly to machines which have memory and\n",
    "  CPUs currently available.\n",
    "\n",
    "Pop Quiz\n",
    "--------\n",
    "\n",
    "<details><summary>\n",
    "Q: How many mappers does each job get?\n",
    "</summary>\n",
    "1. One mapper per block of data.\n",
    "<br>\n",
    "2. Large files get more mappers, small files get fewer.\n",
    "</details>\n",
    "\n",
    "<details><summary>\n",
    "Q: How many reducers does each job get?\n",
    "</summary>\n",
    "1. This is configured by the programmer.\n",
    "<br>\n",
    "2. By default each job gets one reducer.\n",
    "</details>\n",
    "\n",
    "<details><summary>\n",
    "Q: Suppose I want to find out how many sales transactions are in a\n",
    "data set for each state. What key should the mapper output?\n",
    "</summary>\n",
    "1. The mapper should output *state* as the key, and *1* as the value.\n",
    "<br>\n",
    "2. This will ensure that all the records for a specific state end up\n",
    "   on the same reducer.\n",
    "<br>\n",
    "3. The reducer can then add up the *1*s to get the total number of\n",
    "   transactions.\n",
    "</details>\n",
    "\n",
    "\n",
    "MapReduce Using MRJob\n",
    "=====================\n",
    "\n",
    "Hadoop is technically a Java library from Apache. You really really don't want to use it in Java. Here's why:\n",
    "\n",
    "The following is a \"simple\" word count on a text file.\n",
    "\n",
    "\n",
    "```java\n",
    "\n",
    "import java.io.IOException;\n",
    "import java.util.StringTokenizer;\n",
    "\n",
    "import org.apache.hadoop.conf.Configuration;\n",
    "import org.apache.hadoop.fs.Path;\n",
    "import org.apache.hadoop.io.IntWritable;\n",
    "import org.apache.hadoop.io.Text;\n",
    "import org.apache.hadoop.mapreduce.Job;\n",
    "import org.apache.hadoop.mapreduce.Mapper;\n",
    "import org.apache.hadoop.mapreduce.Reducer;\n",
    "import org.apache.hadoop.mapreduce.lib.input.FileInputFormat;\n",
    "import org.apache.hadoop.mapreduce.lib.output.FileOutputFormat;\n",
    "\n",
    "public class WordCount {\n",
    "\n",
    "  public static class TokenizerMapper\n",
    "       extends Mapper<Object, Text, Text, IntWritable>{\n",
    "\n",
    "    private final static IntWritable one = new IntWritable(1);\n",
    "    private Text word = new Text();\n",
    "\n",
    "    public void map(Object key, Text value, Context context\n",
    "                    ) throws IOException, InterruptedException {\n",
    "      StringTokenizer itr = new StringTokenizer(value.toString());\n",
    "      while (itr.hasMoreTokens()) {\n",
    "        word.set(itr.nextToken());\n",
    "        context.write(word, one);\n",
    "      }\n",
    "    }\n",
    "  }\n",
    "\n",
    "  public static class IntSumReducer\n",
    "       extends Reducer<Text,IntWritable,Text,IntWritable> {\n",
    "    private IntWritable result = new IntWritable();\n",
    "\n",
    "    public void reduce(Text key, Iterable<IntWritable> values,\n",
    "                       Context context\n",
    "                       ) throws IOException, InterruptedException {\n",
    "      int sum = 0;\n",
    "      for (IntWritable val : values) {\n",
    "        sum += val.get();\n",
    "      }\n",
    "      result.set(sum);\n",
    "      context.write(key, result);\n",
    "    }\n",
    "  }\n",
    "\n",
    "  public static void main(String[] args) throws Exception {\n",
    "    Configuration conf = new Configuration();\n",
    "    Job job = Job.getInstance(conf, \"word count\");\n",
    "    job.setJarByClass(WordCount.class);\n",
    "    job.setMapperClass(TokenizerMapper.class);\n",
    "    job.setCombinerClass(IntSumReducer.class);\n",
    "    job.setReducerClass(IntSumReducer.class);\n",
    "    job.setOutputKeyClass(Text.class);\n",
    "    job.setOutputValueClass(IntWritable.class);\n",
    "    FileInputFormat.addInputPath(job, new Path(args[0]));\n",
    "    FileOutputFormat.setOutputPath(job, new Path(args[1]));\n",
    "    System.exit(job.waitForCompletion(true) ? 0 : 1);\n",
    "  }\n",
    "}\n",
    "```\n",
    "\n",
    "## MRJob\n",
    "\n",
    "MRJob is a Python wrapper around Hadoop created by Yelp (luckily for you). It makes your life *a lot* easier. \n",
    "\n",
    "Sales Data\n",
    "----------\n",
    "\n",
    "Here is the sales data we are going to analyze."
   ]
  },
  {
   "cell_type": "code",
   "execution_count": null,
   "metadata": {
    "collapsed": false
   },
   "outputs": [],
   "source": [
    "%%writefile sales.txt\n",
    "#ID    Date           Store   State  Product    Amount\n",
    "101    11/13/2014     100     WA     331        300.00\n",
    "104    11/18/2014     700     OR     329        450.00\n",
    "102    11/15/2014     203     CA     321        200.00\n",
    "106    11/19/2014     202     CA     331        330.00\n",
    "103    11/17/2014     101     WA     373        750.00\n",
    "105    11/19/2014     202     CA     321        200.00"
   ]
  },
  {
   "cell_type": "markdown",
   "metadata": {},
   "source": [
    "Transactions By State\n",
    "---------------------\n",
    "\n",
    "Q: How many transactions were there for each state?\n",
    "\n",
    "- Create the `SaleCount.py` file."
   ]
  },
  {
   "cell_type": "code",
   "execution_count": 43,
   "metadata": {
    "collapsed": false
   },
   "outputs": [
    {
     "name": "stdout",
     "output_type": "stream",
     "text": [
      "Overwriting SaleCount.py\n"
     ]
    }
   ],
   "source": [
    "%%writefile SaleCount.py\n",
    "from mrjob.job import MRJob\n",
    "\n",
    "class SaleCount(MRJob):\n",
    "    \n",
    "    def mapper(self, _, line):\n",
    "        if line.startswith('#'):\n",
    "            return\n",
    "        fields = line.split()\n",
    "        state = fields[3]\n",
    "        store = fields[2]\n",
    "        yield (state, 1)\n",
    "        \n",
    "    def reducer(self, state, counts): \n",
    "        yield state, sum(counts)\n",
    "        \n",
    "if __name__ == '__main__': \n",
    "    SaleCount.run()"
   ]
  },
  {
   "cell_type": "markdown",
   "metadata": {},
   "source": [
    "- Run it locally."
   ]
  },
  {
   "cell_type": "code",
   "execution_count": 49,
   "metadata": {
    "collapsed": false
   },
   "outputs": [
    {
     "name": "stdout",
     "output_type": "stream",
     "text": [
      "Using configs in /Users/brianmann/.mrjob.conf\n",
      "Creating temp directory /var/folders/8s/cdf93qv50g73csx36rjpf3lw0000gn/T/SaleCount.brianmann.20160331.230907.998915\n",
      "Running step 1 of 1...\n",
      "Streaming final output from /var/folders/8s/cdf93qv50g73csx36rjpf3lw0000gn/T/SaleCount.brianmann.20160331.230907.998915/output...\n",
      "Removing temp directory /var/folders/8s/cdf93qv50g73csx36rjpf3lw0000gn/T/SaleCount.brianmann.20160331.230907.998915...\n"
     ]
    }
   ],
   "source": [
    "!python SaleCount.py sales.txt > output.txt"
   ]
  },
  {
   "cell_type": "markdown",
   "metadata": {},
   "source": [
    "- Check the output."
   ]
  },
  {
   "cell_type": "code",
   "execution_count": 50,
   "metadata": {
    "collapsed": false
   },
   "outputs": [
    {
     "name": "stdout",
     "output_type": "stream",
     "text": [
      "\"CA\"\t3\r\n",
      "\"OR\"\t1\r\n",
      "\"WA\"\t2\r\n"
     ]
    }
   ],
   "source": [
    "!cat output.txt"
   ]
  },
  {
   "cell_type": "markdown",
   "metadata": {},
   "source": [
    "Pop Quiz\n",
    "--------\n",
    "\n",
    "<details><summary>\n",
    "Q: Suppose instead of counting transactions by state we want to count\n",
    "transactions by store. What should we change in the code above?\n",
    "</summary>\n",
    "1. Replace `state = field[3]` with `store = field[2]`\n",
    "<br>\n",
    "2. Replace `yield (state, 1)` with `yield (store, 1)`\n",
    "</details>\n",
    "\n",
    "<details><summary>\n",
    "Q: Suppose instead of counting transactions we want to find total\n",
    "revenue by state. What should we change in the code above?\n",
    "</summary>\n",
    "1. Add `amount = float(fields[5])` \n",
    "<br>\n",
    "2. Replace `yield (state, 1)` with `yield (state, amount)`\n",
    "</details>\n",
    "\n",
    "Using MapReduce For Statistics\n",
    "------------------------------\n",
    "\n",
    "- Using MapReduce we can calculate statistics for any factors.\n",
    "\n",
    "- Our factor or condition becomes the key.\n",
    "\n",
    "- The parameter that we want to calculate the statistic on becomes\n",
    "  the value.\n",
    "\n",
    "- The reducer contains the logic to apply the statistic.\n",
    "\n",
    "- The statistic can be sum, count, average, stdev, etc.\n",
    "\n",
    "Using MRJob for Word Count\n",
    "--------------------------\n",
    "\n",
    "Q: Count the frequency of words using MRJob.\n",
    "\n",
    "- Create an input file."
   ]
  },
  {
   "cell_type": "code",
   "execution_count": 1,
   "metadata": {
    "collapsed": false
   },
   "outputs": [
    {
     "name": "stdout",
     "output_type": "stream",
     "text": [
      "Overwriting input.txt\n"
     ]
    }
   ],
   "source": [
    "%%writefile input.txt\n",
    "hello world\n",
    "this is the second line\n",
    "this is the third line\n",
    "hello again"
   ]
  },
  {
   "cell_type": "markdown",
   "metadata": {},
   "source": [
    "- Create the `WordCount.py` file."
   ]
  },
  {
   "cell_type": "code",
   "execution_count": 2,
   "metadata": {
    "collapsed": false
   },
   "outputs": [
    {
     "name": "stdout",
     "output_type": "stream",
     "text": [
      "Overwriting WordCount.py\n"
     ]
    }
   ],
   "source": [
    "%%writefile WordCount.py\n",
    "from mrjob.job import MRJob\n",
    "import re\n",
    "\n",
    "WORD_RE = re.compile(r\"[\\w']+\")\n",
    "\n",
    "class WordCount(MRJob):\n",
    "    \n",
    "    def mapper(self, _, line):\n",
    "        for word in WORD_RE.findall(line):\n",
    "            yield (word.lower(), 1)\n",
    "            \n",
    "    def reducer(self, word, counts): \n",
    "        yield word, sum(counts)\n",
    "        \n",
    "if __name__ == '__main__': \n",
    "    WordCount.run()"
   ]
  },
  {
   "cell_type": "markdown",
   "metadata": {},
   "source": [
    "- Run it locally."
   ]
  },
  {
   "cell_type": "code",
   "execution_count": 4,
   "metadata": {
    "collapsed": false
   },
   "outputs": [
    {
     "name": "stdout",
     "output_type": "stream",
     "text": [
      "Using configs in /Users/brianmann/.mrjob.conf\n",
      "Auto-created temp S3 bucket mrjob-68988a9bcf854b91\n",
      "Using s3://mrjob-68988a9bcf854b91/tmp/ as our temp dir on S3\n",
      "Creating temp directory /var/folders/8s/cdf93qv50g73csx36rjpf3lw0000gn/T/WordCount.brianmann.20160331.201833.228808\n",
      "Copying local files to s3://mrjob-68988a9bcf854b91/tmp/WordCount.brianmann.20160331.201833.228808/files/...\n",
      "Created new cluster j-29L79CVIJBLTU\n",
      "Waiting for step 1 of 1 (s-1Z5D0X5WZFQ16) to complete...\n",
      "  PENDING (cluster is STARTING: Provisioning Amazon EC2 capacity)\n",
      "  PENDING (cluster is STARTING: Provisioning Amazon EC2 capacity)\n",
      "  PENDING (cluster is STARTING: Provisioning Amazon EC2 capacity)\n",
      "  PENDING (cluster is STARTING: Provisioning Amazon EC2 capacity)\n",
      "  PENDING (cluster is STARTING: Provisioning Amazon EC2 capacity)\n",
      "  PENDING (cluster is STARTING: Provisioning Amazon EC2 capacity)\n",
      "  PENDING (cluster is STARTING: Provisioning Amazon EC2 capacity)\n",
      "  PENDING (cluster is STARTING: Provisioning Amazon EC2 capacity)\n",
      "  PENDING (cluster is STARTING: Provisioning Amazon EC2 capacity)\n",
      "  PENDING (cluster is STARTING: Provisioning Amazon EC2 capacity)\n",
      "  PENDING (cluster is STARTING: Provisioning Amazon EC2 capacity)\n",
      "  PENDING (cluster is STARTING: Configuring cluster software)\n",
      "  PENDING (cluster is BOOTSTRAPPING: Running bootstrap actions)\n",
      "  PENDING (cluster is BOOTSTRAPPING: Running bootstrap actions)\n",
      "  PENDING (cluster is BOOTSTRAPPING: Running bootstrap actions)\n",
      "  PENDING (cluster is BOOTSTRAPPING: Running bootstrap actions)\n",
      "  PENDING (cluster is BOOTSTRAPPING: Running bootstrap actions)\n",
      "  PENDING (cluster is BOOTSTRAPPING: Running bootstrap actions)\n",
      "  PENDING (cluster is BOOTSTRAPPING: Running bootstrap actions)\n",
      "  Opening ssh tunnel to resource manager...\n",
      "  Connect to resource manager at: http://localhost:40661/cluster\n",
      "  RUNNING for 30.2s\n",
      "Unable to connect to resource manager\n",
      "  FAILED\n",
      "Cluster j-29L79CVIJBLTU is TERMINATING: Shut down as step failed\n",
      "Attempting to fetch counters from logs...\n",
      "Looking for step log in /mnt/var/log/hadoop/steps/s-1Z5D0X5WZFQ16 on ec2-52-38-143-207.us-west-2.compute.amazonaws.com...\n",
      "Looking for step log in s3://mrjob-68988a9bcf854b91/tmp/logs/j-29L79CVIJBLTU/steps/s-1Z5D0X5WZFQ16...\n",
      "  Parsing step log: s3://mrjob-68988a9bcf854b91/tmp/logs/j-29L79CVIJBLTU/steps/s-1Z5D0X5WZFQ16/syslog.gz\n",
      "Can't fetch history log; missing job ID\n",
      "No counters found\n",
      "Scanning logs for probable cause of failure...\n",
      "Looking for step log in /mnt/var/log/hadoop/steps/s-1Z5D0X5WZFQ16 on ec2-52-38-143-207.us-west-2.compute.amazonaws.com...\n",
      "Looking for step log in s3://mrjob-68988a9bcf854b91/tmp/logs/j-29L79CVIJBLTU/steps/s-1Z5D0X5WZFQ16...\n",
      "  Parsing step log: s3://mrjob-68988a9bcf854b91/tmp/logs/j-29L79CVIJBLTU/steps/s-1Z5D0X5WZFQ16/syslog.gz\n",
      "Can't fetch history log; missing job ID\n",
      "Can't fetch task logs; missing application ID\n",
      "Step 1 of 1 failed\n",
      "Terminating cluster: j-29L79CVIJBLTU\n"
     ]
    }
   ],
   "source": [
    "!python WordCount.py input.txt -r emr --output-dir=s3://brian-mann-bucket-test/"
   ]
  },
  {
   "cell_type": "markdown",
   "metadata": {},
   "source": [
    "- Check the output."
   ]
  },
  {
   "cell_type": "code",
   "execution_count": null,
   "metadata": {
    "collapsed": false
   },
   "outputs": [],
   "source": [
    "!cat output.txt"
   ]
  },
  {
   "cell_type": "markdown",
   "metadata": {},
   "source": [
    "Word Count Notes\n",
    "----------------\n",
    "\n",
    "- WordCount is used as a standard distributed application\n",
    "\n",
    "- For a large number of words it is not solvable on a single machine\n",
    "\n",
    "- A large corpus can require more storage than the disk on a single\n",
    "  machine\n",
    "\n",
    "- A large vocabulary can require more memory than on a single machine.\n",
    "\n",
    "- WordCount generalizes to other counting applications: such as\n",
    "  counting clicks by category.\n",
    "\n",
    "MapReduce Abstractions\n",
    "======================\n",
    "\n",
    "Why Hive and Pig\n",
    "----------------\n",
    "\n",
    "- Instead of writing MapReduce programs what if we could write SQL.\n",
    "\n",
    "- Hive and Pig let you write MapReduce programs in SQL-like languages.\n",
    "\n",
    "- These are then converted to MapReduce on the fly.\n",
    "\n",
    "- We will look at Spark SQL later, which fills the same niche.\n",
    "\n",
    "Hive Example\n",
    "------------\n",
    "\n",
    "```sql\n",
    "SELECT user.*\n",
    "FROM user\n",
    "WHERE user.active = 1;\n",
    "```\n",
    "\n",
    "Hive\n",
    "----\n",
    "\n",
    "- Hive was developed at Facebook.\n",
    "\n",
    "- It translates SQL to generate MapReduce code.\n",
    "\n",
    "- Its dialect of SQL is called HiveQL.\n",
    "\n",
    "- Data scientists can use SQL instead of MapReduce to process data.\n",
    "\n",
    "Pig Example\n",
    "-----------\n",
    "\n",
    "```pig\n",
    "user = LOAD 'user';\n",
    "active_user = FILTER user BY active == 1;\n",
    "dump active_user;\n",
    "```\n",
    "\n",
    "Pig\n",
    "---\n",
    "\n",
    "- Pig was developed at Yahoo.\n",
    "\n",
    "- It solves the same problem as Hive.\n",
    "\n",
    "- Pig uses a custom scripting language called PigLatin instead of SQL.\n",
    "\n",
    "- PigLatin resembles scripting languages like Python and Perl.\n",
    "\n",
    "- Pig is frequently used for processing unstructured or badly formed\n",
    "  data.\n",
    "\n",
    "Advanced MapReduce Applications\n",
    "================================\n",
    "\n",
    "Combiner\n",
    "--------\n",
    "\n",
    "- Sometimes the mapper can reduce the records before it sends them out\n",
    "  to the reducer.\n",
    "  \n",
    "- What is the advantage of this? It reduces the disk footprint for the\n",
    "  map output. Also it saves network bandwidth.\n",
    "\n",
    "- The *combiner* if specified is the reducer that the mapper uses to\n",
    "  reduce the data locally.\n",
    "\n",
    "- A reducer can only be used as a combiner if it is commutative and associative.\n",
    "\n",
    "Transactions By State Using Combiner\n",
    "------------------------------------\n",
    "\n",
    "Q: How many transactions were there for each state?\n",
    "\n",
    "- Create the `SaleCountFast.py` file."
   ]
  },
  {
   "cell_type": "code",
   "execution_count": 17,
   "metadata": {
    "collapsed": false
   },
   "outputs": [
    {
     "name": "stdout",
     "output_type": "stream",
     "text": [
      "Overwriting SaleCountFast.py\n"
     ]
    }
   ],
   "source": [
    "%%writefile SaleCountFast.py\n",
    "from mrjob.job import MRJob\n",
    "\n",
    "class SaleCountFast(MRJob):\n",
    "    \n",
    "    def mapper(self, _, line):\n",
    "        if line.startswith('#'):\n",
    "            return\n",
    "        fields = line.split()\n",
    "        state = fields[3]\n",
    "        yield (state, 1)\n",
    "        \n",
    "    def combiner(self, state, counts): \n",
    "        yield state, sum(counts)\n",
    "        \n",
    "    #def reducer(self, state, counts): \n",
    "        #yield state, sum(counts)\n",
    "        \n",
    "if __name__ == '__main__': \n",
    "    SaleCountFast.run()"
   ]
  },
  {
   "cell_type": "markdown",
   "metadata": {},
   "source": [
    "- Run it locally."
   ]
  },
  {
   "cell_type": "code",
   "execution_count": 18,
   "metadata": {
    "collapsed": false
   },
   "outputs": [
    {
     "name": "stdout",
     "output_type": "stream",
     "text": [
      "Using configs in /Users/brianmann/.mrjob.conf\n",
      "Creating temp directory /var/folders/8s/cdf93qv50g73csx36rjpf3lw0000gn/T/SaleCountFast.brianmann.20160331.210048.975893\n",
      "Running step 1 of 1...\n",
      "Streaming final output from /var/folders/8s/cdf93qv50g73csx36rjpf3lw0000gn/T/SaleCountFast.brianmann.20160331.210048.975893/output...\n",
      "Removing temp directory /var/folders/8s/cdf93qv50g73csx36rjpf3lw0000gn/T/SaleCountFast.brianmann.20160331.210048.975893...\n"
     ]
    }
   ],
   "source": [
    "!python SaleCountFast.py sales.txt -r local > output.txt"
   ]
  },
  {
   "cell_type": "markdown",
   "metadata": {},
   "source": [
    "- Check the output."
   ]
  },
  {
   "cell_type": "code",
   "execution_count": 19,
   "metadata": {
    "collapsed": false
   },
   "outputs": [
    {
     "name": "stdout",
     "output_type": "stream",
     "text": [
      "\"CA\"\t1\r\n",
      "\"OR\"\t1\r\n",
      "\"WA\"\t1\r\n",
      "\"CA\"\t2\r\n",
      "\"WA\"\t1\r\n"
     ]
    }
   ],
   "source": [
    "!cat output.txt"
   ]
  },
  {
   "cell_type": "markdown",
   "metadata": {},
   "source": [
    "Pop Quiz\n",
    "--------\n",
    "\n",
    "<details><summary>\n",
    "Q: Can we use the reduce function as a combiner if we are calculating\n",
    "the total number of sales transactions per state?\n",
    "</summary>\n",
    "Yes.\n",
    "</details>\n",
    "\n",
    "<details><summary>\n",
    "Q: Can we use the reduce function as a combiner if we are calculating\n",
    "the average transaction revenue per state? </summary>\n",
    "1. No we cannot.\n",
    "<br>\n",
    "2. This is because average is non-associative.\n",
    "</details>\n",
    "\n",
    "\n",
    "Using Map-Only Job To Clean Data\n",
    "--------------------------------\n",
    "\n",
    "Q: Write an ETL application that extracts all the `CA` sales records.\n",
    "\n",
    "- This only requires transforming records, without consolidating them.\n",
    "\n",
    "- Any time we don't have to consolidate records we can use a *Map\n",
    "  Only* job.\n",
    "\n",
    "- Create the `SaleExtract.py` file."
   ]
  },
  {
   "cell_type": "code",
   "execution_count": 21,
   "metadata": {
    "collapsed": false
   },
   "outputs": [
    {
     "name": "stdout",
     "output_type": "stream",
     "text": [
      "Overwriting SaleExtract.py\n"
     ]
    }
   ],
   "source": [
    "%%writefile SaleExtract.py\n",
    "from mrjob.job  import MRJob\n",
    "from mrjob.step import MRStep\n",
    "\n",
    "class SaleExtract(MRJob):\n",
    "    \n",
    "    def mapper_extract(self, _, line):\n",
    "        if line.startswith('#'): \n",
    "            return\n",
    "        fields = line.split()\n",
    "        state = fields[3]\n",
    "        if state != 'CA': \n",
    "            return\n",
    "        yield (state, line)\n",
    "        \n",
    "    def steps(self):\n",
    "        return [\n",
    "            MRStep(mapper=self.mapper_extract)\n",
    "        ]\n",
    "if __name__ == '__main__': \n",
    "    SaleExtract.run()"
   ]
  },
  {
   "cell_type": "markdown",
   "metadata": {},
   "source": [
    "- Run it locally."
   ]
  },
  {
   "cell_type": "code",
   "execution_count": 22,
   "metadata": {
    "collapsed": false
   },
   "outputs": [
    {
     "name": "stdout",
     "output_type": "stream",
     "text": [
      "Using configs in /Users/brianmann/.mrjob.conf\n",
      "Creating temp directory /var/folders/8s/cdf93qv50g73csx36rjpf3lw0000gn/T/SaleExtract.brianmann.20160331.210537.641129\n",
      "Running step 1 of 1...\n",
      "Streaming final output from /var/folders/8s/cdf93qv50g73csx36rjpf3lw0000gn/T/SaleExtract.brianmann.20160331.210537.641129/output...\n",
      "Removing temp directory /var/folders/8s/cdf93qv50g73csx36rjpf3lw0000gn/T/SaleExtract.brianmann.20160331.210537.641129...\n"
     ]
    }
   ],
   "source": [
    "!python SaleExtract.py sales.txt > output.txt"
   ]
  },
  {
   "cell_type": "markdown",
   "metadata": {},
   "source": [
    "- Check the output."
   ]
  },
  {
   "cell_type": "code",
   "execution_count": 23,
   "metadata": {
    "collapsed": false
   },
   "outputs": [
    {
     "name": "stdout",
     "output_type": "stream",
     "text": [
      "\"CA\"\t\"102    11\\/15\\/2014     203     CA     321        200.00\"\r\n",
      "\"CA\"\t\"106    11\\/19\\/2014     202     CA     331        330.00\"\r\n",
      "\"CA\"\t\"105    11\\/19\\/2014     202     CA     321        200.00\"\r\n"
     ]
    }
   ],
   "source": [
    "!cat output.txt"
   ]
  },
  {
   "cell_type": "markdown",
   "metadata": {},
   "source": [
    "Map-Only Applications\n",
    "---------------------\n",
    "\n",
    "Here are some other applications of map-only jobs.\n",
    "\n",
    "- Web-crawler that finds out how many jobs are on Craigslist for a\n",
    "  particular keyword.\n",
    "\n",
    "- Application that maps property addresses to property back-taxes by\n",
    "  scraping county databases.\n",
    "\n",
    "Pop Quiz\n",
    "--------\n",
    "\n",
    "<details><summary>\n",
    "Q: Do map-only applications shuffle and sort the data?\n",
    "</summary>\n",
    "1. No they do not shuffle and sort the data.\n",
    "<br>\n",
    "2. Map-only jobs immediately output the data after it is transformed\n",
    "   by map.\n",
    "</details>\n",
    "\n",
    "Counters\n",
    "--------\n",
    "\n",
    "Q: Count how many transactions there were in California and Washington.\n",
    "\n",
    "- One way to solve this problem is to use a MapReduce application we\n",
    "  did before.\n",
    "\n",
    "- However, if we have a fixed number of categories we want to count we\n",
    "  can use counters.\n",
    "\n",
    "- If we use counters we no longer need a reduce phase, and can use a\n",
    "  map-only job.\n",
    "  \n",
    "- MapReduce has a limit of 120 counters.\n",
    "\n",
    "- So this cannot be used to count frequencies for an unknown number of\n",
    "  categories.\n",
    "\n",
    "- Create the `SaleCount1.py` file."
   ]
  },
  {
   "cell_type": "code",
   "execution_count": 25,
   "metadata": {
    "collapsed": false
   },
   "outputs": [
    {
     "name": "stdout",
     "output_type": "stream",
     "text": [
      "Overwriting SaleCount1.py\n"
     ]
    }
   ],
   "source": [
    "%%writefile SaleCount1.py\n",
    "from mrjob.job  import MRJob\n",
    "from mrjob.step import MRStep\n",
    "\n",
    "class SaleCount1(MRJob):\n",
    "    \n",
    "    def mapper_count(self, _, line):\n",
    "        if line.startswith('#'): \n",
    "            return\n",
    "        fields = line.split()\n",
    "        state = fields[3]\n",
    "        if state == 'CA':\n",
    "            self.increment_counter('State', 'CA', 1)\n",
    "        if state == 'WA':\n",
    "            self.increment_counter('State', 'WA', 1)\n",
    "            \n",
    "    def steps(self):\n",
    "        return [\n",
    "            MRStep(mapper=self.mapper_count)\n",
    "        ]\n",
    "if __name__ == '__main__': \n",
    "    SaleCount1.run()"
   ]
  },
  {
   "cell_type": "markdown",
   "metadata": {},
   "source": [
    "- Run it locally."
   ]
  },
  {
   "cell_type": "code",
   "execution_count": 26,
   "metadata": {
    "collapsed": false
   },
   "outputs": [
    {
     "name": "stdout",
     "output_type": "stream",
     "text": [
      "Using configs in /Users/brianmann/.mrjob.conf\n",
      "Creating temp directory /var/folders/8s/cdf93qv50g73csx36rjpf3lw0000gn/T/SaleCount1.brianmann.20160331.211131.288055\n",
      "Running step 1 of 1...\n",
      "Counters: 2\n",
      "\tState\n",
      "\t\tCA=3\n",
      "\t\tWA=2\n",
      "Streaming final output from /var/folders/8s/cdf93qv50g73csx36rjpf3lw0000gn/T/SaleCount1.brianmann.20160331.211131.288055/output...\n",
      "Removing temp directory /var/folders/8s/cdf93qv50g73csx36rjpf3lw0000gn/T/SaleCount1.brianmann.20160331.211131.288055...\n"
     ]
    }
   ],
   "source": [
    "!python SaleCount1.py sales.txt > output.txt"
   ]
  },
  {
   "cell_type": "markdown",
   "metadata": {},
   "source": [
    "- There should not be any output. The counter values were printed when\n",
    "  the job was executed."
   ]
  },
  {
   "cell_type": "code",
   "execution_count": 27,
   "metadata": {
    "collapsed": true
   },
   "outputs": [],
   "source": [
    "!cat output.txt"
   ]
  },
  {
   "cell_type": "markdown",
   "metadata": {},
   "source": [
    "Counter Notes\n",
    "-------------\n",
    "\n",
    "- Counters can be incremented in both the map and the reduce phase.\n",
    "\n",
    "- Counter values from all the machines participating in a MapReduce\n",
    "  job are aggregated to compute job-wide value.\n",
    "\n",
    "- Counter values are printed out when the job completes and are also\n",
    "  accessible on the Hadoop Web UI that stores job history.\n",
    "\n",
    "- Counters are have a group name and a counter name.\n",
    "\n",
    "- Group names help organize counters.\n",
    "\n",
    "- Here is how we increment a counter:\n",
    "  `self.increment_counter(group_name, counter_name, 1)`\n",
    "\n",
    "Pop Quiz\n",
    "--------\n",
    "\n",
    "<details><summary>\n",
    "Q: SalesStrategy Inc employs 100,000 part-time sales partners to sell\n",
    "their products. The salespeople get monthly bonuses based on the\n",
    "number of transactions they ring up. Should SalesStrategy use counters\n",
    "to calculate these bonuses? Why or why not?\n",
    "</summary>\n",
    "1. Instead of counters they should use a regular MapReduce counting\n",
    "   application.\n",
    "<br>\n",
    "2. Counters are only appropriate if the number of categories is fixed\n",
    "   and is about 100.\n",
    "<br>\n",
    "3. While the Hadoop admin can configure the system to support more\n",
    "   counters than 120, this increases intra-cluster network traffic,\n",
    "   and is not recommended.\n",
    "</details>\n",
    "\n",
    "Map-Only Job Observations\n",
    "-------------------------\n",
    "\n",
    "- Map-only jobs are the multi-machine equivalent of the\n",
    "  multi-threading and multi-processing exercises we did earlier.\n",
    "\n",
    "- Like our multi-threading and multi-processing applications, map-only\n",
    "  jobs break up a larger problem into smaller chunks and then work on\n",
    "  a particular chunk.\n",
    "\n",
    "- Any time we have a problem where we don't need to reconcile or\n",
    "  consolidate records we should use map-only jobs.\n",
    "\n",
    "- Map-only jobs are much faster than regular MapReduce jobs.\n",
    "\n",
    "Pop Quiz\n",
    "--------\n",
    "\n",
    "<details><summary>\n",
    "Q: Why are map-only jobs faster than regular MapReduce jobs?\n",
    "</summary>\n",
    "1. The map phase is perfectly parallelizable.\n",
    "<br>\n",
    "2. Map-only jobs don't have a shuffle-and-sort or reduce phase, which\n",
    "   tend to be the bottleneck for regular MapReduce jobs.\n",
    "</details>\n",
    "\n",
    "Chaining Jobs Together\n",
    "----------------------\n",
    "\n",
    "Q: Find word frequencies and sort the result by frequency. \n",
    "\n",
    "- This requires running two MapReduce jobs.\n",
    "\n",
    "- The first job will calculate word frequencies.\n",
    "\n",
    "- The second job will sort them.\n",
    "\n",
    "- This can be accomplished in MRJob by chaining multiple jobs together\n",
    "  as steps.\n",
    "\n",
    "- Create `MostUsedWords.py`."
   ]
  },
  {
   "cell_type": "code",
   "execution_count": null,
   "metadata": {
    "collapsed": true
   },
   "outputs": [],
   "source": [
    "%%writefile MostUsedWords.py\n",
    "from mrjob.job  import MRJob\n",
    "from mrjob.step import MRStep\n",
    "import re\n",
    "\n",
    "WORD_RE = re.compile(r\"[\\w']+\")\n",
    "\n",
    "class MostUsedWords(MRJob):\n",
    "\n",
    "    def mapper_get_words(self, _, line):\n",
    "        for word in WORD_RE.findall(line):\n",
    "            yield (word.lower(), 1)\n",
    "\n",
    "    def reducer_count_words(self, word, counts):\n",
    "        count_sum = '%03d'%sum(counts) \n",
    "        yield (count_sum, word)\n",
    "\n",
    "    def reducer_sort(self, count, words):\n",
    "        for word in words:\n",
    "            yield (word, count)\n",
    "\n",
    "    def steps(self):\n",
    "        return [\n",
    "            MRStep(mapper=self.mapper_get_words,\n",
    "                   reducer=self.reducer_count_words),\n",
    "            MRStep(reducer=self.reducer_sort)\n",
    "        ]\n",
    "\n",
    "if __name__ == '__main__':\n",
    "    MostUsedWords.run()"
   ]
  },
  {
   "cell_type": "markdown",
   "metadata": {},
   "source": [
    "- Run it locally."
   ]
  },
  {
   "cell_type": "code",
   "execution_count": null,
   "metadata": {
    "collapsed": true
   },
   "outputs": [],
   "source": [
    "!python MostUsedWords.py input.txt > output.txt"
   ]
  },
  {
   "cell_type": "markdown",
   "metadata": {},
   "source": [
    "- Check the output."
   ]
  },
  {
   "cell_type": "code",
   "execution_count": null,
   "metadata": {
    "collapsed": true
   },
   "outputs": [],
   "source": [
    "!cat output.txt"
   ]
  },
  {
   "cell_type": "markdown",
   "metadata": {},
   "source": [
    "Hadoop Streaming API\n",
    "-----------------------\n",
    "\n",
    "- Why are we left-padding the amount with zeros? \n",
    "\n",
    "- MRJob is a wrapper around the Hadoop Streaming API.\n",
    "\n",
    "- The Hadoop Streaming API converts all intermediate types to strings for comparison.\n",
    "\n",
    "- So `123` will be smaller than `59` because it starts with `1` which\n",
    "  is less than `5`.\n",
    "  \n",
    "- To get around this in MRJob if we want our data to sort numerically\n",
    "  we have to left-pad the numbers with zeros.\n",
    "\n",
    "Pop Quiz\n",
    "--------\n",
    "\n",
    "<details><summary>\n",
    "Q: How can we find out which state had the highest sales total revenue?\n",
    "</summary>\n",
    "1. We can chain together two jobs.\n",
    "<br>\n",
    "2. The first one calculates revenue per state.\n",
    "<br>\n",
    "3. The second sorts the result of the first step by revenue.\n",
    "</details>\n",
    "\n",
    "Sorting Sales Data\n",
    "------------------\n",
    "\n",
    "Q: Find the total sales per state and then sort by sales to find the\n",
    "state with the highest sales total.\n",
    "\n",
    "- We can use a multi-step MRJob to do this.\n",
    "\n",
    "- Sort sales data using two steps."
   ]
  },
  {
   "cell_type": "code",
   "execution_count": 32,
   "metadata": {
    "collapsed": false
   },
   "outputs": [
    {
     "name": "stdout",
     "output_type": "stream",
     "text": [
      "Overwriting SaleCount.py\n"
     ]
    }
   ],
   "source": [
    "%%writefile SaleCount.py\n",
    "from mrjob.job  import MRJob\n",
    "from mrjob.step import MRStep\n",
    "import numpy as np\n",
    "\n",
    "class SaleCount(MRJob):\n",
    "   \n",
    "    def mapper1(self, _, line):\n",
    "        if line.startswith('#'):\n",
    "            return\n",
    "        fields = line.split()\n",
    "        amount = float(fields[5])\n",
    "        state = fields[3]\n",
    "        yield (state, amount)\n",
    "\n",
    "    def reducer1(self, state, amounts):\n",
    "        amount = '%07.2f'%sum(amounts) \n",
    "        yield (state, amount)\n",
    "    \n",
    "    def mapper2(self, state, amount):\n",
    "        yield (amount, state)\n",
    "\n",
    "    def reducer2(self, amount, states):\n",
    "        for state in states: \n",
    "            yield (state, amount)\n",
    "    \n",
    "    def steps(self):\n",
    "        return [\n",
    "            MRStep(mapper=self.mapper1, reducer=self.reducer1),\n",
    "            MRStep(mapper=self.mapper2, reducer=self.reducer2)\n",
    "        ]\n",
    "if __name__ == '__main__': \n",
    "    SaleCount.run()"
   ]
  },
  {
   "cell_type": "markdown",
   "metadata": {},
   "source": [
    "- Run it locally."
   ]
  },
  {
   "cell_type": "code",
   "execution_count": 35,
   "metadata": {
    "collapsed": false
   },
   "outputs": [
    {
     "name": "stdout",
     "output_type": "stream",
     "text": [
      "Using configs in /Users/brianmann/.mrjob.conf\n",
      "Creating temp directory /var/folders/8s/cdf93qv50g73csx36rjpf3lw0000gn/T/SaleCount.brianmann.20160331.230214.236359\n",
      "Running step 1 of 2...\n",
      "Running step 2 of 2...\n",
      "Streaming final output from /var/folders/8s/cdf93qv50g73csx36rjpf3lw0000gn/T/SaleCount.brianmann.20160331.230214.236359/output...\n",
      "Removing temp directory /var/folders/8s/cdf93qv50g73csx36rjpf3lw0000gn/T/SaleCount.brianmann.20160331.230214.236359...\n"
     ]
    }
   ],
   "source": [
    "!python SaleCount.py sales.txt --jobconf mapred.reduce.tasks=2 > output.txt"
   ]
  },
  {
   "cell_type": "markdown",
   "metadata": {},
   "source": [
    "- Check the output."
   ]
  },
  {
   "cell_type": "code",
   "execution_count": 36,
   "metadata": {
    "collapsed": false
   },
   "outputs": [
    {
     "name": "stdout",
     "output_type": "stream",
     "text": [
      "\"OR\"\t\"0450.00\"\r\n",
      "\"CA\"\t\"0730.00\"\r\n",
      "\"WA\"\t\"1050.00\"\r\n"
     ]
    }
   ],
   "source": [
    "!cat output.txt"
   ]
  },
  {
   "cell_type": "code",
   "execution_count": null,
   "metadata": {
    "collapsed": true
   },
   "outputs": [],
   "source": []
  }
 ],
 "metadata": {
  "kernelspec": {
   "display_name": "Python 2",
   "language": "python",
   "name": "python2"
  },
  "language_info": {
   "codemirror_mode": {
    "name": "ipython",
    "version": 2
   },
   "file_extension": ".py",
   "mimetype": "text/x-python",
   "name": "python",
   "nbconvert_exporter": "python",
   "pygments_lexer": "ipython2",
   "version": "2.7.11"
  }
 },
 "nbformat": 4,
 "nbformat_minor": 0
}
