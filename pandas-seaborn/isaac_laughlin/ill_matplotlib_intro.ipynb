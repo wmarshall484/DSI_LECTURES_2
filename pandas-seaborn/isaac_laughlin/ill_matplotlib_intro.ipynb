{
 "cells": [
  {
   "cell_type": "code",
   "execution_count": null,
   "metadata": {
    "collapsed": false
   },
   "outputs": [],
   "source": [
    "import matplotlib\n",
    "matplotlib.__version__"
   ]
  },
  {
   "cell_type": "code",
   "execution_count": null,
   "metadata": {
    "collapsed": false
   },
   "outputs": [],
   "source": [
    "import matplotlib.pyplot as plt\n",
    "import numpy as np\n",
    "%pylab inline"
   ]
  },
  {
   "cell_type": "markdown",
   "metadata": {},
   "source": [
    "# Learning Objectives\n",
    "\n",
    "1. Name and recognize the two interfaces to matplotlib\n",
    "2. Be able to use both interfaces to generate charts\n",
    "3. Understand the connection between matplotlib and seaborne/pandas\n",
    "4. Make plots with multiple datasets, and figures\n",
    "5. Know the recommended functional form for writing your own plotting functions"
   ]
  },
  {
   "cell_type": "markdown",
   "metadata": {},
   "source": [
    "# Plotting in Python\n",
    "\n",
    "There are many libraries for doing plotting in Python. Some you may encounter\n",
    "* Plotly\n",
    "* Bokeh\n",
    "* **Matplotlib**\n",
    "* **Seaborne**\n",
    "* **Pandas**\n",
    "* ggplot (port of R package of same name)\n",
    "\n",
    "All of these aim to solve the same problem: allowing you to visualize your data."
   ]
  },
  {
   "cell_type": "markdown",
   "metadata": {},
   "source": [
    "# Appreciating the challenges\n",
    "\n",
    "A good plotting library should:\n",
    "\n",
    "* Be easy to use.\n",
    "* Allow plotting of all kinds of data.\n",
    "* Support arbitrarily fine-grained control.\n",
    "* Support a variety of backends to make graphs in various formats."
   ]
  },
  {
   "cell_type": "markdown",
   "metadata": {},
   "source": [
    "# Matplotlib\n",
    "\n",
    "While everyone has different opinions about what library is best, everybody knows and has used matplotlib. This makes it the de-facto choice for plotting in python.\n",
    "\n",
    "## How does it work?\n",
    "\n",
    "In an effort to make easy things easy, and hard things possible, matplotlib has a number of different levels at which it can be accessed. They are:\n",
    "\n",
    "| Level | Control | Complexity |\n",
    "|-------|---------|------------|\n",
    "| plt | minimal, fast interface for plots, annotations | low |\n",
    "| OO interface w/ pyplot | fine-grained control over figure, axes, etc. | medium |\n",
    "| pure OO interface | Embed plots in GUI applicatione e.g. | too high |"
   ]
  },
  {
   "cell_type": "markdown",
   "metadata": {},
   "source": [
    "# plt example"
   ]
  },
  {
   "cell_type": "code",
   "execution_count": null,
   "metadata": {
    "collapsed": false,
    "scrolled": true
   },
   "outputs": [],
   "source": [
    "x_data = np.arange(0, 4, .011)\n",
    "y_data = np.sin(x_data)\n",
    "plt.plot(x_data, y_data)\n",
    "plt.show()"
   ]
  },
  {
   "cell_type": "markdown",
   "metadata": {},
   "source": [
    "## Weird\n",
    "\n",
    "`plt` was imported as a library, but it appears to be keeping some state between the last two lines above, behavior that we'd usually associate with objects.\n",
    "\n",
    "In fact, `plt`, operates in a not-very-pythonic way."
   ]
  },
  {
   "cell_type": "code",
   "execution_count": null,
   "metadata": {
    "collapsed": false
   },
   "outputs": [],
   "source": [
    "x_data = np.arange(0, 4, .01)\n",
    "y_data = np.sin(x_data)\n",
    "plt.plot(x_data, y_data)\n",
    "#We can actually keep adding state here, and it will be reflected when we finally call show.\n",
    "plt.plot(x_data, np.cos(x_data))\n",
    "plt.title(\"sin(x) & cos(x)\")\n",
    "plt.show()"
   ]
  },
  {
   "cell_type": "markdown",
   "metadata": {},
   "source": [
    "If you thought it was strange that we were working in Python, but there didn't seem to be any objects required to make our image, join the club!\n",
    "\n",
    "# Behind the curtain\n",
    "\n",
    "![Matplotlib diagram](http://matplotlib.org/_images/fig_map.png)\n",
    "\n"
   ]
  },
  {
   "cell_type": "code",
   "execution_count": null,
   "metadata": {
    "collapsed": false
   },
   "outputs": [],
   "source": [
    "fig = plt.figure()\n",
    "fig.add_subplot?"
   ]
  },
  {
   "cell_type": "code",
   "execution_count": null,
   "metadata": {
    "collapsed": false
   },
   "outputs": [],
   "source": [
    "ax"
   ]
  },
  {
   "cell_type": "code",
   "execution_count": null,
   "metadata": {
    "collapsed": false,
    "scrolled": true
   },
   "outputs": [],
   "source": [
    "fig = plt.figure()\n",
    "ax = fig.add_subplot(111) #nrows, ncols, plotnumber\n",
    "ax.plot(x_data, y_data)\n",
    "ax.plot(x_data, np.cos(x_data))\n",
    "ax.set_title('sin(x) and cos(x)')\n",
    "plt.show()"
   ]
  },
  {
   "cell_type": "markdown",
   "metadata": {},
   "source": [
    "In this example, the fact that state is maintained is less surprising.\n",
    "\n",
    "## Polling break 1"
   ]
  },
  {
   "cell_type": "markdown",
   "metadata": {},
   "source": []
  },
  {
   "cell_type": "markdown",
   "metadata": {},
   "source": [
    "# Mix 'n' Match\n",
    "\n",
    "Turns out, you can combine `plt` and object-oriented approach."
   ]
  },
  {
   "cell_type": "code",
   "execution_count": null,
   "metadata": {
    "collapsed": false
   },
   "outputs": [],
   "source": [
    "fig = plt.figure()\n",
    "ax = fig.add_subplot(111)\n",
    "ax.plot(x_data, y_data)\n",
    "ax.plot(x_data, np.cos(x_data))\n",
    "plt.title('sin(x) and cos(x)')\n",
    "plt.show()"
   ]
  },
  {
   "cell_type": "markdown",
   "metadata": {},
   "source": [
    "# Why should we use the OO oriented approach?\n",
    "\n",
    "If we want to exercise fine-grained control over our plots that isn't offered via the `plt` shortcuts."
   ]
  },
  {
   "cell_type": "code",
   "execution_count": null,
   "metadata": {
    "collapsed": false
   },
   "outputs": [],
   "source": [
    "fig = plt.figure()\n",
    "ax = fig.add_subplot(111)\n",
    "ax.plot(x_data, y_data, label='sin(x)')\n",
    "ax.plot(x_data, np.cos(x_data), label='cos(x)')\n",
    "plt.title('sin(x) and cos(x)')\n",
    "ax.legend()"
   ]
  },
  {
   "cell_type": "markdown",
   "metadata": {},
   "source": [
    "# Multiple plots"
   ]
  },
  {
   "cell_type": "code",
   "execution_count": null,
   "metadata": {
    "collapsed": false
   },
   "outputs": [],
   "source": [
    "fig, ax_list = plt.subplots(2, 1)\n",
    "y_funcs = [np.sin, np.cos]\n",
    "for subp, y_func in zip(ax_list, y_funcs):\n",
    "    subp.plot(x_data, y_func(x_data))"
   ]
  },
  {
   "cell_type": "code",
   "execution_count": null,
   "metadata": {
    "collapsed": false
   },
   "outputs": [],
   "source": [
    "ax_list"
   ]
  },
  {
   "cell_type": "markdown",
   "metadata": {},
   "source": [
    "# What about pandas?"
   ]
  },
  {
   "cell_type": "code",
   "execution_count": null,
   "metadata": {
    "collapsed": true
   },
   "outputs": [],
   "source": [
    "import pandas as pd"
   ]
  },
  {
   "cell_type": "code",
   "execution_count": null,
   "metadata": {
    "collapsed": false
   },
   "outputs": [],
   "source": [
    "df = pd.DataFrame({'x':x_data, 'sinx':np.sin(x_data), 'cosx':np.cos(x_data)})\n",
    "df = df.set_index('x')\n",
    "df.head()"
   ]
  },
  {
   "cell_type": "code",
   "execution_count": null,
   "metadata": {
    "collapsed": false
   },
   "outputs": [],
   "source": [
    "ax = df.cosx.plot()\n",
    "ax.set_title('sin(x) & cos(x)')"
   ]
  },
  {
   "cell_type": "markdown",
   "metadata": {},
   "source": [
    "Calling the plot method on a pandas series returns a familiar matplotlib axes object."
   ]
  },
  {
   "cell_type": "code",
   "execution_count": null,
   "metadata": {
    "collapsed": false
   },
   "outputs": [],
   "source": [
    "#We can also supply an axes object on which to draw!\n",
    "fig, ax_list = plt.subplots(2,1)\n",
    "cols = ['sinx', 'cosx']\n",
    "for ax, col in zip(ax_list, cols):\n",
    "    df[col].plot(ax=ax)\n",
    "    ax.legend()\n",
    "top_ax = ax_list[0]\n",
    "top_ax.set_ylim(bottom=-1, top=1)"
   ]
  },
  {
   "cell_type": "markdown",
   "metadata": {},
   "source": [
    "# Writing plotting functions"
   ]
  },
  {
   "cell_type": "code",
   "execution_count": null,
   "metadata": {
    "collapsed": true
   },
   "outputs": [],
   "source": [
    "def my_plotter(ax, data1, data2, param_dict):\n",
    "    \"\"\"\n",
    "    A helper function to make a graph\n",
    "\n",
    "    Parameters\n",
    "    ----------\n",
    "    ax : Axes\n",
    "        The axes to draw to\n",
    "\n",
    "    data1 : array\n",
    "       The x data\n",
    "\n",
    "    data2 : array\n",
    "       The y data\n",
    "\n",
    "    param_dict : dict\n",
    "       Dictionary of kwargs to pass to ax.plot\n",
    "\n",
    "    Returns\n",
    "    -------\n",
    "    out : list\n",
    "        list of artists added\n",
    "    \"\"\"\n",
    "    out = ax.plot(data1, data2, **param_dict)\n",
    "    return out"
   ]
  },
  {
   "cell_type": "markdown",
   "metadata": {},
   "source": [
    "# Example:\n",
    "Let's write a function that draws some data, and some horizontal\n",
    "lines representing the 25th and 75th percentile.\n",
    "\n",
    "We'll call it iqr_plot.\n",
    "\n",
    "### I do: \n",
    "a function for drawing a horizontal line at some point.\n",
    "\n",
    "### We do: \n",
    "write the iqr_plot function.\n",
    "\n",
    "### You do: \n",
    "make a 2 by 2 grid of plots using this function.\n"
   ]
  },
  {
   "cell_type": "code",
   "execution_count": null,
   "metadata": {
    "collapsed": false
   },
   "outputs": [],
   "source": [
    "ax.hlines?"
   ]
  },
  {
   "cell_type": "code",
   "execution_count": null,
   "metadata": {
    "collapsed": false
   },
   "outputs": [],
   "source": [
    "axes_array = pd.scatter_matrix(df)\n",
    "axes_array[1,0].hlines(0,-1,1)"
   ]
  },
  {
   "cell_type": "markdown",
   "metadata": {},
   "source": [
    "# Seaborn\n",
    "\n",
    "A special data visualization library, *built on matplotlib*, for drawing statistical graphics."
   ]
  },
  {
   "cell_type": "code",
   "execution_count": null,
   "metadata": {
    "collapsed": false
   },
   "outputs": [],
   "source": [
    "import seaborn as sns"
   ]
  },
  {
   "cell_type": "code",
   "execution_count": null,
   "metadata": {
    "collapsed": false
   },
   "outputs": [],
   "source": [
    "#Seaborn\n",
    "seaborn_grid = sns.lmplot(x=\"x\", y=\"sinx\", data=df.reset_index())\n",
    "#Combined with matplotlib\n",
    "seaborn_grid.axes[0,0].hlines(0, -1, 5)"
   ]
  },
  {
   "cell_type": "code",
   "execution_count": null,
   "metadata": {
    "collapsed": false
   },
   "outputs": [],
   "source": [
    "seaborn_grid.axes"
   ]
  },
  {
   "cell_type": "code",
   "execution_count": null,
   "metadata": {
    "collapsed": true
   },
   "outputs": [],
   "source": []
  }
 ],
 "metadata": {
  "kernelspec": {
   "display_name": "Python 2",
   "language": "python",
   "name": "python2"
  },
  "language_info": {
   "codemirror_mode": {
    "name": "ipython",
    "version": 2
   },
   "file_extension": ".py",
   "mimetype": "text/x-python",
   "name": "python",
   "nbconvert_exporter": "python",
   "pygments_lexer": "ipython2",
   "version": "2.7.11"
  }
 },
 "nbformat": 4,
 "nbformat_minor": 0
}
